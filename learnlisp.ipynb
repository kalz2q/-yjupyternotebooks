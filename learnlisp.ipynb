{
  "nbformat": 4,
  "nbformat_minor": 0,
  "metadata": {
    "colab": {
      "name": "learnlisp.ipynb",
      "provenance": [],
      "toc_visible": true,
      "authorship_tag": "ABX9TyNqGGlwlCddSahtV9tT1n+Z",
      "include_colab_link": true
    },
    "kernelspec": {
      "name": "python3",
      "display_name": "Python 3"
    }
  },
  "cells": [
    {
      "cell_type": "markdown",
      "metadata": {
        "id": "view-in-github",
        "colab_type": "text"
      },
      "source": [
        "<a href=\"https://colab.research.google.com/github/kalz2q/mycolabnotebooks/blob/master/learnlisp.ipynb\" target=\"_parent\"><img src=\"https://colab.research.google.com/assets/colab-badge.svg\" alt=\"Open In Colab\"/></a>"
      ]
    },
    {
      "cell_type": "markdown",
      "metadata": {
        "id": "kHww7tr6pYro"
      },
      "source": [
        "# メモ\n",
        "\n",
        "Colab でLisp/Scheme を学んでみよう、というアイデア。\n",
        "\n",
        "テキスト:   \n",
        "お気楽 Common Lisp http://www.nct9.ne.jp/m_hiroi/clisp/index.html  \n",
        "Common Lisp Beginner https://common-lisp.net/project/common-lisp-beginner/links.html  \n",
        "Practical Common Lisp http://www.gigamonkeys.com/book/  \n",
        "Steel Bank Common Lisp http://www.sbcl.org/getting.html"
      ]
    },
    {
      "cell_type": "code",
      "metadata": {
        "id": "C6uHlvChpxGs"
      },
      "source": [
        "%%capture\n",
        "!apt install sbcl"
      ],
      "execution_count": 1,
      "outputs": []
    },
    {
      "cell_type": "code",
      "metadata": {
        "colab": {
          "base_uri": "https://localhost:8080/"
        },
        "id": "mwJgXRokm1Wd",
        "outputId": "6674d1c0-1a06-46d5-f45d-b9aeb1786654"
      },
      "source": [
        "%%script sbcl --noinform\n",
        "(+ 2 3) ;;=> 5\n",
        "(- 100 10 1) ;;=> 89"
      ],
      "execution_count": 2,
      "outputs": [
        {
          "output_type": "stream",
          "text": [
            "* \n",
            "5\n",
            "* \n",
            "89\n",
            "* "
          ],
          "name": "stdout"
        }
      ]
    },
    {
      "cell_type": "markdown",
      "metadata": {
        "id": "jZeyJ7OLVG-a"
      },
      "source": [
        "プログラムをファイルにして読み込んで実行する実験。"
      ]
    },
    {
      "cell_type": "code",
      "metadata": {
        "id": "0egHkuX8shrv"
      },
      "source": [
        "# プログラムをファイルにして読み込んで実行する\n",
        "%%writefile fact01.lisp\n",
        "(defun fact (n) (if (<= n 1) 1 (* n (fact (- n 1)))))"
      ],
      "execution_count": 33,
      "outputs": []
    },
    {
      "cell_type": "code",
      "metadata": {
        "colab": {
          "base_uri": "https://localhost:8080/"
        },
        "id": "uNC3CZjRs5Oo",
        "outputId": "542276e1-3d42-4e57-9c81-b3781ea9b50e"
      },
      "source": [
        "%%script sbcl --noinform\n",
        "(load \"fact01\") ;;=> T\n",
        "(fact 10) ;;=> 3628800"
      ],
      "execution_count": 4,
      "outputs": [
        {
          "output_type": "stream",
          "text": [
            "* \n",
            "T\n",
            "* \n",
            "3628800\n",
            "* "
          ],
          "name": "stdout"
        }
      ]
    },
    {
      "cell_type": "code",
      "metadata": {
        "colab": {
          "base_uri": "https://localhost:8080/"
        },
        "id": "J78qD7MBzrWg",
        "outputId": "3607f785-674b-4089-e45c-49b484dac1e4"
      },
      "source": [
        "%%script sbcl --noinform\n",
        "(+ 1 2 3 4 5) ;;=> 15"
      ],
      "execution_count": 5,
      "outputs": [
        {
          "output_type": "stream",
          "text": [
            "* \n",
            "15\n",
            "* "
          ],
          "name": "stdout"
        }
      ]
    },
    {
      "cell_type": "markdown",
      "metadata": {
        "id": "H3nFxg8C3pet"
      },
      "source": [
        "S式とはシンボル式 = Symbolic Expression 、 アトムかリスト。\n",
        "\n",
        "Lisp ではデータもプログラムもS式。\n"
      ]
    },
    {
      "cell_type": "code",
      "metadata": {
        "id": "0mG5Rn_FoNqb",
        "colab": {
          "base_uri": "https://localhost:8080/"
        },
        "outputId": "cc409beb-0f4a-473a-e382-c1a6ec2a996b"
      },
      "source": [
        "# コメントはセミコロン\r\n",
        "%%script sbcl --noinform\r\n",
        "(defun fact  ;; 関数定義 関数名\r\n",
        "    (n) ;; 引数名 型は宣言しない\r\n",
        "    (if ;; 条件分岐\r\n",
        "        (<= n 1) 1 ;; n が 1 以下ならば 1\r\n",
        "        (* n \r\n",
        "            (fact \r\n",
        "                (- n 1))))) ;; そうでなければ n と fact の再帰呼び出し => FACT\r\n",
        "\r\n",
        "(fact 10) ;;=> 3628800"
      ],
      "execution_count": 6,
      "outputs": [
        {
          "output_type": "stream",
          "text": [
            "* \n",
            "FACT\n",
            "* \n",
            "3628800\n",
            "* "
          ],
          "name": "stdout"
        }
      ]
    },
    {
      "cell_type": "code",
      "metadata": {
        "id": "u6uboH4DzIKK",
        "colab": {
          "base_uri": "https://localhost:8080/"
        },
        "outputId": "2e03e44a-fc0e-4f11-ce16-702632accfd3"
      },
      "source": [
        "%%script sbcl --noinform\n",
        "(/ 7 2) ;;=> \n",
        "(/ 7.0 2.0) ;;=> 3.5\n",
        "(/ 7 2.0) ;;=> 3.5\n",
        "(mod 7 2) ;;=> 1\n",
        "(mod -7 2) ;;=> 1"
      ],
      "execution_count": 7,
      "outputs": [
        {
          "output_type": "stream",
          "text": [
            "* \n",
            "7/2\n",
            "* \n",
            "3.5\n",
            "* \n",
            "3.5\n",
            "* \n",
            "1\n",
            "* \n",
            "1\n",
            "* "
          ],
          "name": "stdout"
        }
      ]
    },
    {
      "cell_type": "code",
      "metadata": {
        "id": "Gtjj3GmgaM4F",
        "colab": {
          "base_uri": "https://localhost:8080/"
        },
        "outputId": "3858e18c-c5bc-4780-d553-94c6b1de3381"
      },
      "source": [
        "%%script sbcl --noinform\n",
        "10 ;;=> 10\n",
        "\"this\" ;;=> \"this\"\n",
        "'(10 20) ;;=> (10 20)\n",
        "'(this) ;;=> (THIS)"
      ],
      "execution_count": 8,
      "outputs": [
        {
          "output_type": "stream",
          "text": [
            "* \n",
            "10\n",
            "* \n",
            "\"this\"\n",
            "* \n",
            "(10 20)\n",
            "* \n",
            "(THIS)\n",
            "* "
          ],
          "name": "stdout"
        }
      ]
    },
    {
      "cell_type": "code",
      "metadata": {
        "id": "kd1Xvdh2bOkQ",
        "colab": {
          "base_uri": "https://localhost:8080/"
        },
        "outputId": "1c47ba50-bf50-412a-be24-1b6de3fb75c1"
      },
      "source": [
        "%%script sbcl --noinform\n",
        "\"こんにちは、世界!\" ;;=> \"こんにちは、世界!\"\n",
        "'(こんにちは、世界!) ;;=> (こんにちは、世界!) ;; 日本語は大文字にできないのでならない"
      ],
      "execution_count": 9,
      "outputs": [
        {
          "output_type": "stream",
          "text": [
            "* \n",
            "\"こんにちは、世界!\"\n",
            "* \n",
            "(こんにちは、世界!)\n",
            "* "
          ],
          "name": "stdout"
        }
      ]
    },
    {
      "cell_type": "code",
      "metadata": {
        "id": "RpPEELCPbr1t",
        "colab": {
          "base_uri": "https://localhost:8080/"
        },
        "outputId": "88c1ad21-898c-4374-fe31-5b4ecfcb5859"
      },
      "source": [
        "%%script sbcl --noinform\n",
        "(format t \"hello, world\") "
      ],
      "execution_count": 10,
      "outputs": [
        {
          "output_type": "stream",
          "text": [
            "* hello, world\n",
            "NIL\n",
            "* "
          ],
          "name": "stdout"
        }
      ]
    },
    {
      "cell_type": "code",
      "metadata": {
        "id": "_0bOM7fqWppH",
        "colab": {
          "base_uri": "https://localhost:8080/"
        },
        "outputId": "6dcd8a2b-b4cb-4ebf-a55f-c9b4acd602a2"
      },
      "source": [
        "%%writefile helloworld01.lisp\n",
        "(defun hello-world ()\n",
        "  (format t \"Hello, world!\"))"
      ],
      "execution_count": 11,
      "outputs": [
        {
          "output_type": "stream",
          "text": [
            "Writing helloworld01.lisp\n"
          ],
          "name": "stdout"
        }
      ]
    },
    {
      "cell_type": "code",
      "metadata": {
        "id": "pIhv4IUiWW4k",
        "colab": {
          "base_uri": "https://localhost:8080/"
        },
        "outputId": "6d36e2c4-c715-4b02-da41-b8513174cfbb"
      },
      "source": [
        "%%script sbcl --noinform\n",
        "(load \"helloworld01\")\n",
        "(hello-world)"
      ],
      "execution_count": 12,
      "outputs": [
        {
          "output_type": "stream",
          "text": [
            "* \n",
            "T\n",
            "* Hello, world!\n",
            "NIL\n",
            "* "
          ],
          "name": "stdout"
        }
      ]
    },
    {
      "cell_type": "code",
      "metadata": {
        "id": "mPMjzikcWdE4",
        "colab": {
          "base_uri": "https://localhost:8080/"
        },
        "outputId": "7232c532-daa7-4ab5-edaa-eddd038559e3"
      },
      "source": [
        "# リスト : たらいまわし関数 (Common Lisp)\r\n",
        "%%script sbcl --noinform\r\n",
        "(defun tak (x y z)\r\n",
        "  (if (<= x y)\r\n",
        "      z\r\n",
        "    (tak (tak (1- x) y z)\r\n",
        "         (tak (1- y) z x)\r\n",
        "         (tak (1- z) x y))))\r\n",
        "\r\n",
        " (time (tak 22 11 0)) ;; Evaluation took: 5.788 seconds of real time"
      ],
      "execution_count": 13,
      "outputs": [
        {
          "output_type": "stream",
          "text": [
            "* \n",
            "TAK\n",
            "* \n",
            "Evaluation took:\n",
            "  5.793 seconds of real time\n",
            "  5.786343 seconds of total run time (5.785021 user, 0.001322 system)\n",
            "  99.88% CPU\n",
            "  13,323,222,947 processor cycles\n",
            "  0 bytes consed\n",
            "  \n",
            "11\n",
            "* "
          ],
          "name": "stdout"
        }
      ]
    },
    {
      "cell_type": "code",
      "metadata": {
        "colab": {
          "base_uri": "https://localhost:8080/"
        },
        "id": "GeQ1XtYaCOn9",
        "outputId": "ce7b70fd-c898-4085-8d55-806c9c9daef2"
      },
      "source": [
        "# リスト : たらいまわし関数 (Common Lisp)\r\n",
        "%%script sbcl --noinform\r\n",
        "(defun tak (x y z)\r\n",
        "  (declare (type fixnum x y z)\r\n",
        "\t   (optimize (speed 3) (safety 0)))\r\n",
        "  (if (<= x y)\r\n",
        "      z\r\n",
        "    (tak (tak (1- x) y z)\r\n",
        "         (tak (1- y) z x)\r\n",
        "         (tak (1- z) x y))))\r\n",
        "\r\n",
        " (time (tak 22 11 0)) ;; Evaluation took: 1.649 seconds of real time"
      ],
      "execution_count": 14,
      "outputs": [
        {
          "output_type": "stream",
          "text": [
            "* \n",
            "TAK\n",
            "* \n",
            "Evaluation took:\n",
            "  1.677 seconds of real time\n",
            "  1.669219 seconds of total run time (1.668185 user, 0.001034 system)\n",
            "  99.52% CPU\n",
            "  3,856,337,171 processor cycles\n",
            "  0 bytes consed\n",
            "  \n",
            "11\n",
            "* "
          ],
          "name": "stdout"
        }
      ]
    },
    {
      "cell_type": "code",
      "metadata": {
        "id": "F7b9m3Q3MMpq"
      },
      "source": [
        "# CLOS の場合、クラスはマクロ defclass を使って定義する。defclass は構造体 defstruct と似ている。\r\n",
        "\r\n",
        "# (defclass クラス名 (スーパークラス ...)\r\n",
        "#   ((スロット名 :accessor アクセスメソッド名 \r\n",
        "#                :initform 初期値フォーム\r\n",
        "#                :initarg  引数マークシンボル)\r\n",
        "#     ・・・・\r\n",
        "#    (スロット名 :accessor アクセスメソッド名 \r\n",
        "#                :initform 初期値フォーム\r\n",
        "#                :initarg  引数マークシンボル)))\r\n",
        "\r\n",
        "# 参考 構造体\r\n",
        "# (defstruct 構造体名\r\n",
        "#     (スロット名 デフォルト値)\r\n",
        "#     ・・・・\r\n",
        "#     (スロット名 デフォルト値))"
      ],
      "execution_count": 15,
      "outputs": []
    },
    {
      "cell_type": "code",
      "metadata": {
        "id": "-5aF9xD6M9Ie"
      },
      "source": [
        "# インスタンスは関数 make-instance を使って生成する。\r\n",
        "\r\n",
        "# make-instance クラス名 [引数マークシンボル Ｓ式 ...]"
      ],
      "execution_count": 16,
      "outputs": []
    },
    {
      "cell_type": "code",
      "metadata": {
        "id": "bx3tN8myVZly"
      },
      "source": [
        "%%script sbcl --noinform\r\n",
        "(defclass foo () ((a :accessor foo-a :initform 1 :initarg :a))) ;;=>  #<STANDARD-CLASS COMMON-LISP-USER::FOO>\r\n",
        "(setq x (make-instance 'foo)) ;;=>  #<FOO {1001C6F173}>\r\n",
        "(foo-a x) ;;=>  1\r\n",
        "(setf (foo-a x) 2) ;;=> 2\r\n",
        "(foo-a x) ;;=>  2\r\n",
        "(typep x 'foo) ;;=> T\r\n",
        "(type-of x) ;;=> FOO \r\n",
        "(setq y (make-instance 'foo :a 10)) ;;=> #<FOO {1001CF6A23}>\r\n",
        "(foo-a y) ;;=> error"
      ],
      "execution_count": null,
      "outputs": []
    },
    {
      "cell_type": "code",
      "metadata": {
        "colab": {
          "base_uri": "https://localhost:8080/"
        },
        "id": "x-whBXIQYTmo",
        "outputId": "29d405d0-3b6b-4c48-b642-afd4a44ba12c"
      },
      "source": [
        "%%script sbcl --noinform\r\n",
        "(format t \"Hello, World\")\r\n",
        ";;=> Hello, World\r\n",
        ";;=> NIL"
      ],
      "execution_count": 18,
      "outputs": [
        {
          "output_type": "stream",
          "text": [
            "* Hello, World\n",
            "NIL\n",
            "* "
          ],
          "name": "stdout"
        }
      ]
    },
    {
      "cell_type": "code",
      "metadata": {
        "colab": {
          "base_uri": "https://localhost:8080/"
        },
        "id": "OvL6OG5Najgx",
        "outputId": "44840b0c-9069-41b5-dd97-18cdd4ac0ee2"
      },
      "source": [
        "%%script sbcl --noinform\r\n",
        "(+ (* 1 2) (- 3 4)) ;;=> 1"
      ],
      "execution_count": 19,
      "outputs": [
        {
          "output_type": "stream",
          "text": [
            "* \n",
            "1\n",
            "* "
          ],
          "name": "stdout"
        }
      ]
    },
    {
      "cell_type": "code",
      "metadata": {
        "colab": {
          "base_uri": "https://localhost:8080/"
        },
        "id": "vgX2k7bxa_iz",
        "outputId": "46239af5-5283-4130-ff8e-7c429970a368"
      },
      "source": [
        "%%script sbcl --noinform\r\n",
        "format ;;=> The variable FORMAT is unbound."
      ],
      "execution_count": 20,
      "outputs": [
        {
          "output_type": "stream",
          "text": [
            "* \n",
            "Type HELP for debugger help, or (SB-EXT:EXIT) to exit from SBCL.\n",
            "\n",
            "restarts (invokable by number or by possibly-abbreviated name):\n",
            "  0: [CONTINUE   ] Retry using FORMAT.\n",
            "  1: [USE-VALUE  ] Use specified value.\n",
            "  2: [STORE-VALUE] Set specified value and use it.\n",
            "  3: [ABORT      ] Exit debugger, returning to top level.\n",
            "\n",
            "(SB-INT:SIMPLE-EVAL-IN-LEXENV FORMAT #<NULL-LEXENV>)\n",
            "0] \n",
            "* "
          ],
          "name": "stdout"
        },
        {
          "output_type": "stream",
          "text": [
            "\n",
            "debugger invoked on a UNBOUND-VARIABLE in thread\n",
            "#<THREAD \"main thread\" RUNNING {10005E85B3}>:\n",
            "  The variable FORMAT is unbound.\n"
          ],
          "name": "stderr"
        }
      ]
    },
    {
      "cell_type": "code",
      "metadata": {
        "colab": {
          "base_uri": "https://localhost:8080/"
        },
        "id": "6LeznlDGbPfa",
        "outputId": "32d520ba-5db7-44bf-da53-64fc866828bc"
      },
      "source": [
        "%%script sbcl --noinform\r\n",
        "(setq a 10)\r\n",
        "a"
      ],
      "execution_count": 21,
      "outputs": [
        {
          "output_type": "stream",
          "text": [
            "* \n",
            "10\n",
            "* \n",
            "10\n",
            "* "
          ],
          "name": "stdout"
        },
        {
          "output_type": "stream",
          "text": [
            "; in: SETQ A\n",
            ";     (SETQ A 10)\n",
            "; \n",
            "; caught WARNING:\n",
            ";   undefined variable: A\n",
            "; \n",
            "; compilation unit finished\n",
            ";   Undefined variable:\n",
            ";     A\n",
            ";   caught 1 WARNING condition\n"
          ],
          "name": "stderr"
        }
      ]
    },
    {
      "cell_type": "code",
      "metadata": {
        "colab": {
          "base_uri": "https://localhost:8080/"
        },
        "id": "SYWnvS5rb3gL",
        "outputId": "8bbc65c2-cd95-45f6-a159-4bde59eb8ccc"
      },
      "source": [
        "%%script sbcl --noinform\r\n",
        "(setq a (+ 1 2 3))\r\n",
        "a\r\n",
        "(setq b a)\r\n",
        "b"
      ],
      "execution_count": 22,
      "outputs": [
        {
          "output_type": "stream",
          "text": [
            "* \n",
            "6\n",
            "* \n",
            "6\n",
            "* \n",
            "6\n",
            "* \n",
            "6\n",
            "* "
          ],
          "name": "stdout"
        },
        {
          "output_type": "stream",
          "text": [
            "; in: SETQ A\n",
            ";     (SETQ A (+ 1 2 3))\n",
            "; \n",
            "; caught WARNING:\n",
            ";   undefined variable: A\n",
            "; \n",
            "; compilation unit finished\n",
            ";   Undefined variable:\n",
            ";     A\n",
            ";   caught 1 WARNING condition\n",
            "; in: SETQ B\n",
            ";     (SETQ B A)\n",
            "; ==>\n",
            ";   (SET 'B A)\n",
            "; \n",
            "; caught WARNING:\n",
            ";   undefined variable: A\n",
            "; \n",
            "; caught WARNING:\n",
            ";   undefined variable: B\n",
            "; \n",
            "; compilation unit finished\n",
            ";   Undefined variables:\n",
            ";     A B\n",
            ";   caught 2 WARNING conditions\n"
          ],
          "name": "stderr"
        }
      ]
    },
    {
      "cell_type": "code",
      "metadata": {
        "colab": {
          "base_uri": "https://localhost:8080/"
        },
        "id": "kFquD4NLwKGs",
        "outputId": "3943ada9-0c68-423a-a4d2-66d0bcc13277"
      },
      "source": [
        "%%script sbcl --noinform\r\n",
        "t ;;=> T\r\n",
        "NIL ;;=> NIL\r\n",
        "() ;;=> NIL\r\n",
        "nil ;;=> NIL"
      ],
      "execution_count": 23,
      "outputs": [
        {
          "output_type": "stream",
          "text": [
            "* \n",
            "T\n",
            "* \n",
            "NIL\n",
            "* \n",
            "NIL\n",
            "* \n",
            "NIL\n",
            "* "
          ],
          "name": "stdout"
        }
      ]
    },
    {
      "cell_type": "code",
      "metadata": {
        "colab": {
          "base_uri": "https://localhost:8080/"
        },
        "id": "tM64heYHwbGy",
        "outputId": "cbb6ee60-205e-49b7-c4e0-4ff67d5359f8"
      },
      "source": [
        "%%script sbcl --noinform\r\n",
        "(setq t 10) ;;=> T is a constant and thus can't be set."
      ],
      "execution_count": 24,
      "outputs": [
        {
          "output_type": "stream",
          "text": [
            "* \n",
            "Type HELP for debugger help, or (SB-EXT:EXIT) to exit from SBCL.\n",
            "\n",
            "restarts (invokable by number or by possibly-abbreviated name):\n",
            "  0: [ABORT] Exit debugger, returning to top level.\n",
            "\n",
            "((LAMBDA ()))\n",
            "   source: (SETQ T 10)\n",
            "0] \n",
            "* "
          ],
          "name": "stdout"
        },
        {
          "output_type": "stream",
          "text": [
            "; in: SETQ T\n",
            ";     (SETQ T 10)\n",
            "; \n",
            "; caught ERROR:\n",
            ";   T is a constant and thus can't be set.\n",
            "; \n",
            "; compilation unit finished\n",
            ";   caught 1 ERROR condition\n",
            "\n",
            "debugger invoked on a SB-INT:COMPILED-PROGRAM-ERROR in thread\n",
            "#<THREAD \"main thread\" RUNNING {10005E85B3}>:\n",
            "  Execution of a form compiled with errors.\n",
            "Form:\n",
            "  (SETQ T 10)\n",
            "Compile-time error:\n",
            "  T is a constant and thus can't be set.\n"
          ],
          "name": "stderr"
        }
      ]
    },
    {
      "cell_type": "code",
      "metadata": {
        "colab": {
          "base_uri": "https://localhost:8080/"
        },
        "id": "QpNmP0dlwon2",
        "outputId": "8ff74648-0286-48b4-853e-7fb6f5140e60"
      },
      "source": [
        "%%script sbcl --noinform\r\n",
        "(setq NIL 10) ;;=> NIL is a constant and thus can't be set."
      ],
      "execution_count": 25,
      "outputs": [
        {
          "output_type": "stream",
          "text": [
            "* \n",
            "Type HELP for debugger help, or (SB-EXT:EXIT) to exit from SBCL.\n",
            "\n",
            "restarts (invokable by number or by possibly-abbreviated name):\n",
            "  0: [ABORT] Exit debugger, returning to top level.\n",
            "\n",
            "((LAMBDA ()))\n",
            "   source: (SETQ NIL 10)\n",
            "0] \n",
            "* "
          ],
          "name": "stdout"
        },
        {
          "output_type": "stream",
          "text": [
            "; in: SETQ ()\n",
            ";     (SETQ NIL 10)\n",
            "; \n",
            "; caught ERROR:\n",
            ";   NIL is a constant and thus can't be set.\n",
            "; \n",
            "; compilation unit finished\n",
            ";   caught 1 ERROR condition\n",
            "\n",
            "debugger invoked on a SB-INT:COMPILED-PROGRAM-ERROR in thread\n",
            "#<THREAD \"main thread\" RUNNING {10005E85B3}>:\n",
            "  Execution of a form compiled with errors.\n",
            "Form:\n",
            "  (SETQ NIL 10)\n",
            "Compile-time error:\n",
            "  NIL is a constant and thus can't be set.\n"
          ],
          "name": "stderr"
        }
      ]
    },
    {
      "cell_type": "code",
      "metadata": {
        "id": "5brVZjAJw4sl"
      },
      "source": [
        "# format は第 1 引数が T の場合、標準出力へデータを出力する。"
      ],
      "execution_count": 26,
      "outputs": []
    },
    {
      "cell_type": "code",
      "metadata": {
        "colab": {
          "base_uri": "https://localhost:8080/"
        },
        "id": "9p0-drZD0rln",
        "outputId": "e56ca0e2-5e65-46a0-9c0b-c48f2df07965"
      },
      "source": [
        "# 通常引数は先に評価されてから代入される\r\n",
        "%%script sbcl --noinform\r\n",
        "(setq x 10)\r\n",
        "(setq a x)\r\n",
        "a"
      ],
      "execution_count": 27,
      "outputs": [
        {
          "output_type": "stream",
          "text": [
            "* \n",
            "10\n",
            "* \n",
            "10\n",
            "* \n",
            "10\n",
            "* "
          ],
          "name": "stdout"
        },
        {
          "output_type": "stream",
          "text": [
            "; in: SETQ X\n",
            ";     (SETQ X 10)\n",
            "; \n",
            "; caught WARNING:\n",
            ";   undefined variable: X\n",
            "; \n",
            "; compilation unit finished\n",
            ";   Undefined variable:\n",
            ";     X\n",
            ";   caught 1 WARNING condition\n",
            "; in: SETQ A\n",
            ";     (SETQ A X)\n",
            "; \n",
            "; caught WARNING:\n",
            ";   undefined variable: A\n",
            "\n",
            "; ==>\n",
            ";   (SET 'A X)\n",
            "; \n",
            "; caught WARNING:\n",
            ";   undefined variable: X\n",
            "; \n",
            "; compilation unit finished\n",
            ";   Undefined variables:\n",
            ";     A X\n",
            ";   caught 2 WARNING conditions\n"
          ],
          "name": "stderr"
        }
      ]
    },
    {
      "cell_type": "code",
      "metadata": {
        "colab": {
          "base_uri": "https://localhost:8080/"
        },
        "id": "XklmYTZ108c7",
        "outputId": "2ad69a89-d114-4235-d239-2105a95567c2"
      },
      "source": [
        "# QUOTE ' をつけると評価されない\r\n",
        "%%script sbcl --noinform\r\n",
        "(setq a 'x)\r\n",
        "a"
      ],
      "execution_count": 28,
      "outputs": [
        {
          "output_type": "stream",
          "text": [
            "* \n",
            "X\n",
            "* \n",
            "X\n",
            "* "
          ],
          "name": "stdout"
        },
        {
          "output_type": "stream",
          "text": [
            "; in: SETQ A\n",
            ";     (SETQ A 'X)\n",
            "; \n",
            "; caught WARNING:\n",
            ";   undefined variable: A\n",
            "; \n",
            "; compilation unit finished\n",
            ";   Undefined variable:\n",
            ";     A\n",
            ";   caught 1 WARNING condition\n"
          ],
          "name": "stderr"
        }
      ]
    },
    {
      "cell_type": "code",
      "metadata": {
        "colab": {
          "base_uri": "https://localhost:8080/"
        },
        "id": "3ef3c5Hx1OI4",
        "outputId": "8a199e37-1b5e-4a52-9d74-3226008362bb"
      },
      "source": [
        "# リストも QUOTE をつけると評価しない\r\n",
        "%%script sbcl --noinform\r\n",
        "'(1 2 3 4)\r\n",
        "(setq y '(1 2 3 4))\r\n",
        "y"
      ],
      "execution_count": 29,
      "outputs": [
        {
          "output_type": "stream",
          "text": [
            "* \n",
            "(1 2 3 4)\n",
            "* \n",
            "(1 2 3 4)\n",
            "* \n",
            "(1 2 3 4)\n",
            "* "
          ],
          "name": "stdout"
        },
        {
          "output_type": "stream",
          "text": [
            "; in: SETQ Y\n",
            ";     (SETQ Y '(1 2 3 4))\n",
            "; \n",
            "; caught WARNING:\n",
            ";   undefined variable: Y\n",
            "; \n",
            "; compilation unit finished\n",
            ";   Undefined variable:\n",
            ";     Y\n",
            ";   caught 1 WARNING condition\n"
          ],
          "name": "stderr"
        }
      ]
    },
    {
      "cell_type": "code",
      "metadata": {
        "id": "UOYkp2iM1r6O"
      },
      "source": [
        "# アトムとリストを合わせて「Ｓ式 (symbolic expression)」または「フォーム (form)」と言う。"
      ],
      "execution_count": 30,
      "outputs": []
    },
    {
      "cell_type": "code",
      "metadata": {
        "id": "tbZ0d3CX2EpY"
      },
      "source": [
        "# 関数 car はリストの先頭要素を取り出し、関数 cdr はリストの先頭要素を取り除いたリストを返す。 first rest でも同じ。"
      ],
      "execution_count": 31,
      "outputs": []
    },
    {
      "cell_type": "code",
      "metadata": {
        "id": "NMt5tYyz4I40"
      },
      "source": [
        "%%script sbcl --noinform\r\n",
        "(cdr '(a)) ;;=> NIL\r\n",
        "(car nil) ;;=> NIL\r\n",
        "(cdr nil) ;;=> NIL"
      ],
      "execution_count": null,
      "outputs": []
    },
    {
      "cell_type": "code",
      "metadata": {
        "id": "yKCFDVNV4dYH",
        "outputId": "2cf0b81a-8dbc-435d-bf60-1b70b2db5a88",
        "colab": {
          "base_uri": "https://localhost:8080/"
        }
      },
      "source": [
        "%%script sbcl --noinform\r\n",
        "(car '((a b) (c d) (e f))) ;;=> (A B)\r\n",
        "(cdr '((a b) (c d) (e f))) ;;=> ((C D) (E F))\r\n",
        "(car (car '((a b) (c d) (e f)))) ;;=> A"
      ],
      "execution_count": 35,
      "outputs": [
        {
          "output_type": "stream",
          "text": [
            "* \n",
            "(A B)\n",
            "* \n",
            "((C D) (E F))\n",
            "* \n",
            "A\n",
            "* "
          ],
          "name": "stdout"
        }
      ]
    },
    {
      "cell_type": "code",
      "metadata": {
        "id": "bqu9loSCVBmD"
      },
      "source": [
        "# いまここ\r\n",
        "\r\n",
        "# http://www.nct9.ne.jp/m_hiroi/clisp/abcl01.html"
      ],
      "execution_count": 33,
      "outputs": []
    },
    {
      "cell_type": "markdown",
      "metadata": {
        "id": "wpms7DUXBiiy"
      },
      "source": [
        "# いまここ"
      ]
    }
  ]
}