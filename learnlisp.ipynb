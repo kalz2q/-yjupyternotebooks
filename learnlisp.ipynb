{
  "nbformat": 4,
  "nbformat_minor": 0,
  "metadata": {
    "colab": {
      "name": "learnlisp.ipynb",
      "provenance": [],
      "toc_visible": true,
      "authorship_tag": "ABX9TyP4aNpIvnVW/NPtBZWeQHjF",
      "include_colab_link": true
    },
    "kernelspec": {
      "name": "python3",
      "display_name": "Python 3"
    }
  },
  "cells": [
    {
      "cell_type": "markdown",
      "metadata": {
        "id": "view-in-github",
        "colab_type": "text"
      },
      "source": [
        "<a href=\"https://colab.research.google.com/github/kalz2q/mycolabnotebooks/blob/master/learnlisp.ipynb\" target=\"_parent\"><img src=\"https://colab.research.google.com/assets/colab-badge.svg\" alt=\"Open In Colab\"/></a>"
      ]
    },
    {
      "cell_type": "markdown",
      "metadata": {
        "id": "kHww7tr6pYro"
      },
      "source": [
        "# メモ\n",
        "\n",
        "Colab でLisp/Scheme を学んでみよう、というアイデア。\n",
        "\n",
        "テキスト:   \n",
        "お気楽 Common Lisp http://www.nct9.ne.jp/m_hiroi/clisp/index.html  \n",
        "Common Lisp Beginner https://common-lisp.net/project/common-lisp-beginner/links.html  \n",
        "Practical Common Lisp http://www.gigamonkeys.com/book/  \n",
        "Steel Bank Common Lisp http://www.sbcl.org/getting.html"
      ]
    },
    {
      "cell_type": "code",
      "metadata": {
        "id": "C6uHlvChpxGs"
      },
      "source": [
        "%%capture\n",
        "!apt install sbcl"
      ],
      "execution_count": 20,
      "outputs": []
    },
    {
      "cell_type": "code",
      "metadata": {
        "id": "mwJgXRokm1Wd"
      },
      "source": [
        "%%script sbcl --noinform\n",
        "(+ 2 3) ;;=> 5\n",
        "(- 100 10 1) ;;=> 89"
      ],
      "execution_count": null,
      "outputs": []
    },
    {
      "cell_type": "markdown",
      "metadata": {
        "id": "jZeyJ7OLVG-a"
      },
      "source": [
        "プログラムをファイルにして読み込んで実行する実験。"
      ]
    },
    {
      "cell_type": "code",
      "metadata": {
        "colab": {
          "base_uri": "https://localhost:8080/"
        },
        "id": "0egHkuX8shrv",
        "outputId": "e212fd63-0e94-405e-b8e5-9609dcb94daf"
      },
      "source": [
        "%%writefile fact01.lisp\n",
        "(defun fact (n) (if (<= n 1) 1 (* n (fact (- n 1)))))"
      ],
      "execution_count": null,
      "outputs": [
        {
          "output_type": "stream",
          "text": [
            "Writing fact01.lisp\n"
          ],
          "name": "stdout"
        }
      ]
    },
    {
      "cell_type": "code",
      "metadata": {
        "id": "uNC3CZjRs5Oo"
      },
      "source": [
        "%%script sbcl --noinform\n",
        "(load \"fact01\") ;;=> T\n",
        "(fact 10) ;;=> 3628800"
      ],
      "execution_count": null,
      "outputs": []
    },
    {
      "cell_type": "code",
      "metadata": {
        "colab": {
          "base_uri": "https://localhost:8080/"
        },
        "id": "J78qD7MBzrWg",
        "outputId": "8abb4f4f-5b26-4344-b010-19118e40f5c8"
      },
      "source": [
        "%%script sbcl --noinform\n",
        "(+ 1 2 3 4 5) ;;=> 15"
      ],
      "execution_count": null,
      "outputs": [
        {
          "output_type": "stream",
          "text": [
            "* \n",
            "15\n",
            "* "
          ],
          "name": "stdout"
        }
      ]
    },
    {
      "cell_type": "markdown",
      "metadata": {
        "id": "H3nFxg8C3pet"
      },
      "source": [
        "S式とはシンボル式 = Symbolic Expression 、 アトムかリスト。\n",
        "\n",
        "Lisp ではデータもプログラムもS式。\n"
      ]
    },
    {
      "cell_type": "code",
      "metadata": {
        "id": "0mG5Rn_FoNqb",
        "colab": {
          "base_uri": "https://localhost:8080/"
        },
        "outputId": "8c29c6b6-1435-4726-f415-6fc39440f79f"
      },
      "source": [
        "# コメントはセミコロン\r\n",
        "%%script sbcl --noinform\r\n",
        "(defun fact  ;; 関数定義 関数名\r\n",
        "    (n) ;; 引数名 型は宣言しない\r\n",
        "    (if ;; 条件分岐\r\n",
        "        (<= n 1) 1 ;; n が 1 以下ならば 1\r\n",
        "        (* n \r\n",
        "            (fact \r\n",
        "                (- n 1))))) ;; そうでなければ n と fact の再帰呼び出し => FACT\r\n",
        "\r\n",
        "(fact 10) ;;=> 3628800"
      ],
      "execution_count": null,
      "outputs": [
        {
          "output_type": "stream",
          "text": [
            "* \n",
            "FACT\n",
            "* \n",
            "3628800\n",
            "* "
          ],
          "name": "stdout"
        }
      ]
    },
    {
      "cell_type": "code",
      "metadata": {
        "id": "u6uboH4DzIKK"
      },
      "source": [
        "%%script sbcl --noinform\n",
        "(/ 7 2) ;;=> \n",
        "(/ 7.0 2.0) ;;=> 3.5\n",
        "(/ 7 2.0) ;;=> 3.5\n",
        "(mod 7 2) ;;=> 1\n",
        "(mod -7 2) ;;=> 1"
      ],
      "execution_count": null,
      "outputs": []
    },
    {
      "cell_type": "code",
      "metadata": {
        "id": "Gtjj3GmgaM4F"
      },
      "source": [
        "%%script sbcl --noinform\n",
        "10 ;;=> 10\n",
        "\"this\" ;;=> \"this\"\n",
        "'(10 20) ;;=> (10 20)\n",
        "'(this) ;;=> (THIS)"
      ],
      "execution_count": null,
      "outputs": []
    },
    {
      "cell_type": "code",
      "metadata": {
        "id": "kd1Xvdh2bOkQ",
        "colab": {
          "base_uri": "https://localhost:8080/"
        },
        "outputId": "cbfd16eb-68d8-479b-9b1b-04375319820c"
      },
      "source": [
        "%%script sbcl --noinform\n",
        "\"こんにちは、世界!\" ;;=> \"こんにちは、世界!\"\n",
        "'(こんにちは、世界!) ;;=> (こんにちは、世界!) ;; 日本語は大文字にできないのでならない"
      ],
      "execution_count": null,
      "outputs": [
        {
          "output_type": "stream",
          "text": [
            "* \n",
            "\"こんにちは、世界!\"\n",
            "* \n",
            "(こんにちは、世界!)\n",
            "* "
          ],
          "name": "stdout"
        }
      ]
    },
    {
      "cell_type": "code",
      "metadata": {
        "id": "RpPEELCPbr1t",
        "colab": {
          "base_uri": "https://localhost:8080/"
        },
        "outputId": "3a84fb45-028d-4fc1-bdf3-6c9053506ba0"
      },
      "source": [
        "%%script sbcl --noinform\n",
        "(format t \"hello, world\") "
      ],
      "execution_count": 24,
      "outputs": [
        {
          "output_type": "stream",
          "text": [
            "* hello, world\n",
            "NIL\n",
            "* "
          ],
          "name": "stdout"
        }
      ]
    },
    {
      "cell_type": "code",
      "metadata": {
        "id": "_0bOM7fqWppH",
        "colab": {
          "base_uri": "https://localhost:8080/"
        },
        "outputId": "94b989f9-9a53-44cb-b8cf-e8c56a73a41b"
      },
      "source": [
        "%%writefile helloworld01.lisp\n",
        "(defun hello-world ()\n",
        "  (format t \"Hello, world!\"))"
      ],
      "execution_count": null,
      "outputs": [
        {
          "output_type": "stream",
          "text": [
            "Overwriting helloworld01.lisp\n"
          ],
          "name": "stdout"
        }
      ]
    },
    {
      "cell_type": "code",
      "metadata": {
        "id": "pIhv4IUiWW4k",
        "colab": {
          "base_uri": "https://localhost:8080/"
        },
        "outputId": "edd566b9-a3ab-4572-8ed6-725c14535b24"
      },
      "source": [
        "%%script sbcl --noinform\n",
        "(load \"helloworld01\")\n",
        "(hello-world)"
      ],
      "execution_count": null,
      "outputs": [
        {
          "output_type": "stream",
          "text": [
            "* \n",
            "T\n",
            "* Hello, world!\n",
            "NIL\n",
            "* "
          ],
          "name": "stdout"
        }
      ]
    },
    {
      "cell_type": "code",
      "metadata": {
        "id": "mPMjzikcWdE4"
      },
      "source": [
        "# リスト : たらいまわし関数 (Common Lisp)\r\n",
        "%%script sbcl --noinform\r\n",
        "(defun tak (x y z)\r\n",
        "  (if (<= x y)\r\n",
        "      z\r\n",
        "    (tak (tak (1- x) y z)\r\n",
        "         (tak (1- y) z x)\r\n",
        "         (tak (1- z) x y))))\r\n",
        "\r\n",
        " (time (tak 22 11 0)) ;; Evaluation took: 5.788 seconds of real time"
      ],
      "execution_count": null,
      "outputs": []
    },
    {
      "cell_type": "code",
      "metadata": {
        "id": "GeQ1XtYaCOn9"
      },
      "source": [
        "# リスト : たらいまわし関数 (Common Lisp)\r\n",
        "%%script sbcl --noinform\r\n",
        "(defun tak (x y z)\r\n",
        "  (declare (type fixnum x y z)\r\n",
        "\t   (optimize (speed 3) (safety 0)))\r\n",
        "  (if (<= x y)\r\n",
        "      z\r\n",
        "    (tak (tak (1- x) y z)\r\n",
        "         (tak (1- y) z x)\r\n",
        "         (tak (1- z) x y))))\r\n",
        "\r\n",
        " (time (tak 22 11 0)) ;; Evaluation took: 1.649 seconds of real time"
      ],
      "execution_count": null,
      "outputs": []
    },
    {
      "cell_type": "code",
      "metadata": {
        "id": "F7b9m3Q3MMpq"
      },
      "source": [
        "# CLOS の場合、クラスはマクロ defclass を使って定義する。defclass は構造体 defstruct と似ている。\r\n",
        "\r\n",
        "# (defclass クラス名 (スーパークラス ...)\r\n",
        "#   ((スロット名 :accessor アクセスメソッド名 \r\n",
        "#                :initform 初期値フォーム\r\n",
        "#                :initarg  引数マークシンボル)\r\n",
        "#     ・・・・\r\n",
        "#    (スロット名 :accessor アクセスメソッド名 \r\n",
        "#                :initform 初期値フォーム\r\n",
        "#                :initarg  引数マークシンボル)))\r\n",
        "\r\n",
        "# 参考 構造体\r\n",
        "# (defstruct 構造体名\r\n",
        "#     (スロット名 デフォルト値)\r\n",
        "#     ・・・・\r\n",
        "#     (スロット名 デフォルト値))"
      ],
      "execution_count": null,
      "outputs": []
    },
    {
      "cell_type": "code",
      "metadata": {
        "id": "-5aF9xD6M9Ie"
      },
      "source": [
        "# インスタンスは関数 make-instance を使って生成する。\r\n",
        "\r\n",
        "# make-instance クラス名 [引数マークシンボル Ｓ式 ...]"
      ],
      "execution_count": null,
      "outputs": []
    },
    {
      "cell_type": "code",
      "metadata": {
        "id": "bx3tN8myVZly"
      },
      "source": [
        "%%script sbcl --noinform\r\n",
        "(defclass foo () ((a :accessor foo-a :initform 1 :initarg :a))) ;;=>  #<STANDARD-CLASS COMMON-LISP-USER::FOO>\r\n",
        "(setq x (make-instance 'foo)) ;;=>  #<FOO {1001C6F173}>\r\n",
        "(foo-a x) ;;=>  1\r\n",
        "(setf (foo-a x) 2) ;;=> 2\r\n",
        "(foo-a x) ;;=>  2\r\n",
        "(typep x 'foo) ;;=> T\r\n",
        "(type-of x) ;;=> FOO \r\n",
        "(setq y (make-instance 'foo :a 10)) ;;=> #<FOO {1001CF6A23}>\r\n",
        "(foo-a y) ;;=> error"
      ],
      "execution_count": null,
      "outputs": []
    },
    {
      "cell_type": "code",
      "metadata": {
        "id": "x-whBXIQYTmo",
        "outputId": "774d89c5-4c62-463a-bc8e-c588a6277ea4",
        "colab": {
          "base_uri": "https://localhost:8080/"
        }
      },
      "source": [
        "%%script sbcl --noinform\r\n",
        "(format t \"Hello, World\")\r\n",
        ";;=> Hello, World\r\n",
        ";;=> NIL"
      ],
      "execution_count": 26,
      "outputs": [
        {
          "output_type": "stream",
          "text": [
            "* Hello, World\n",
            "NIL\n",
            "* "
          ],
          "name": "stdout"
        }
      ]
    },
    {
      "cell_type": "code",
      "metadata": {
        "id": "bqu9loSCVBmD"
      },
      "source": [
        "# いまここ\r\n",
        "http://www.nct9.ne.jp/m_hiroi/clisp/abcl01.html"
      ],
      "execution_count": null,
      "outputs": []
    },
    {
      "cell_type": "markdown",
      "metadata": {
        "id": "wpms7DUXBiiy"
      },
      "source": [
        "# いまここ"
      ]
    }
  ]
}