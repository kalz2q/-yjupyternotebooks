{
  "nbformat": 4,
  "nbformat_minor": 0,
  "metadata": {
    "colab": {
      "name": "learnlisp.ipynb",
      "provenance": [],
      "toc_visible": true,
      "authorship_tag": "ABX9TyOGOJ08UVk0laA/QkVargl+",
      "include_colab_link": true
    },
    "kernelspec": {
      "name": "python3",
      "display_name": "Python 3"
    }
  },
  "cells": [
    {
      "cell_type": "markdown",
      "metadata": {
        "id": "view-in-github",
        "colab_type": "text"
      },
      "source": [
        "<a href=\"https://colab.research.google.com/github/kalz2q/mycolabnotebooks/blob/master/learnlisp.ipynb\" target=\"_parent\"><img src=\"https://colab.research.google.com/assets/colab-badge.svg\" alt=\"Open In Colab\"/></a>"
      ]
    },
    {
      "cell_type": "markdown",
      "metadata": {
        "id": "kHww7tr6pYro"
      },
      "source": [
        "# メモ\n",
        "\n",
        "Colab でLisp/Scheme を学んでみよう、というアイデア。\n",
        "\n",
        "テキスト:   \n",
        "お気楽 Common Lisp http://www.nct9.ne.jp/m_hiroi/clisp/index.html  \n",
        "Common Lisp Beginner https://common-lisp.net/project/common-lisp-beginner/links.html  \n",
        "Practical Common Lisp http://www.gigamonkeys.com/book/  \n",
        "Steel Bank Common Lisp http://www.sbcl.org/getting.html"
      ]
    },
    {
      "cell_type": "code",
      "metadata": {
        "id": "C6uHlvChpxGs"
      },
      "source": [
        "%%capture\n",
        "!apt install sbcl"
      ],
      "execution_count": null,
      "outputs": []
    },
    {
      "cell_type": "markdown",
      "metadata": {
        "id": "-jIGljG2QRss"
      },
      "source": [
        "sbcl は steel bank common lisp\r\n",
        "\r\n",
        "以下実験学習なので、適当に実行する。"
      ]
    },
    {
      "cell_type": "code",
      "metadata": {
        "colab": {
          "base_uri": "https://localhost:8080/"
        },
        "id": "mwJgXRokm1Wd",
        "outputId": "91b99138-c254-4c39-ea3a-2d192e3a7cbc"
      },
      "source": [
        "%%script sbcl --noinform\n",
        "(+ 2 3) ;;=> 5\n",
        "(- 100 10 1) ;;=> 89"
      ],
      "execution_count": null,
      "outputs": [
        {
          "output_type": "stream",
          "text": [
            "* \n",
            "5\n",
            "* \n",
            "89\n",
            "* "
          ],
          "name": "stdout"
        }
      ]
    },
    {
      "cell_type": "markdown",
      "metadata": {
        "id": "oFxPPkD7QZbe"
      },
      "source": [
        "-- noinform を入れないと sbcl を立ち上げるたびにメッセージがでてしまう。\r\n",
        "\r\n",
        "lisp のコメントはセミコロン 2つ。 "
      ]
    },
    {
      "cell_type": "markdown",
      "metadata": {
        "id": "jZeyJ7OLVG-a"
      },
      "source": [
        "プログラムをファイルにして読み込んで実行してみる"
      ]
    },
    {
      "cell_type": "code",
      "metadata": {
        "id": "0egHkuX8shrv"
      },
      "source": [
        "# プログラムをファイルにして読み込んで実行する\n",
        "%%writefile fact01.lisp\n",
        "(defun fact (n) (if (<= n 1) 1 (* n (fact (- n 1)))))"
      ],
      "execution_count": null,
      "outputs": []
    },
    {
      "cell_type": "code",
      "metadata": {
        "colab": {
          "base_uri": "https://localhost:8080/"
        },
        "id": "uNC3CZjRs5Oo",
        "outputId": "542276e1-3d42-4e57-9c81-b3781ea9b50e"
      },
      "source": [
        "%%script sbcl --noinform\n",
        "(load \"fact01\") ;;=> T\n",
        "(fact 10) ;;=> 3628800"
      ],
      "execution_count": null,
      "outputs": [
        {
          "output_type": "stream",
          "text": [
            "* \n",
            "T\n",
            "* \n",
            "3628800\n",
            "* "
          ],
          "name": "stdout"
        }
      ]
    },
    {
      "cell_type": "markdown",
      "metadata": {
        "id": "H2_a37iuRDvQ"
      },
      "source": [
        "# 質問 T が true, NIL が false ですか? 0 とか 1, -1, () , \"\" とかは？\r\n"
      ]
    },
    {
      "cell_type": "markdown",
      "metadata": {
        "id": "qJ7lIeh8Sboq"
      },
      "source": [
        "# 質問 if 構文は lisp ではどうなりますか。 式 expression ですか 文 statement ですか。"
      ]
    },
    {
      "cell_type": "code",
      "metadata": {
        "colab": {
          "base_uri": "https://localhost:8080/"
        },
        "id": "J78qD7MBzrWg",
        "outputId": "3607f785-674b-4089-e45c-49b484dac1e4"
      },
      "source": [
        "%%script sbcl --noinform\n",
        "(+ 1 2 3 4 5) ;;=> 15"
      ],
      "execution_count": null,
      "outputs": [
        {
          "output_type": "stream",
          "text": [
            "* \n",
            "15\n",
            "* "
          ],
          "name": "stdout"
        }
      ]
    },
    {
      "cell_type": "markdown",
      "metadata": {
        "id": "H3nFxg8C3pet"
      },
      "source": [
        "S式とはシンボル式 = Symbolic Expression 、 アトムかリスト。\n",
        "\n",
        "Lisp ではデータもプログラムもS式。\n"
      ]
    },
    {
      "cell_type": "code",
      "metadata": {
        "id": "0mG5Rn_FoNqb",
        "colab": {
          "base_uri": "https://localhost:8080/"
        },
        "outputId": "cc409beb-0f4a-473a-e382-c1a6ec2a996b"
      },
      "source": [
        "# コメントはセミコロン 2つ\r\n",
        "%%script sbcl --noinform\r\n",
        "(defun fact  ;; 関数定義 関数名\r\n",
        "    (n) ;; 引数名 型は宣言しない\r\n",
        "    (if ;; 条件分岐\r\n",
        "        (<= n 1) 1 ;; n が 1 以下ならば 1\r\n",
        "        (* n \r\n",
        "            (fact \r\n",
        "                (- n 1))))) ;; そうでなければ n と fact の再帰呼び出し => FACT\r\n",
        "\r\n",
        "(fact 10) ;;=> 3628800"
      ],
      "execution_count": null,
      "outputs": [
        {
          "output_type": "stream",
          "text": [
            "* \n",
            "FACT\n",
            "* \n",
            "3628800\n",
            "* "
          ],
          "name": "stdout"
        }
      ]
    },
    {
      "cell_type": "code",
      "metadata": {
        "id": "u6uboH4DzIKK",
        "colab": {
          "base_uri": "https://localhost:8080/"
        },
        "outputId": "2e03e44a-fc0e-4f11-ce16-702632accfd3"
      },
      "source": [
        "%%script sbcl --noinform\n",
        "(/ 7 2) ;;=> \n",
        "(/ 7.0 2.0) ;;=> 3.5\n",
        "(/ 7 2.0) ;;=> 3.5\n",
        "(mod 7 2) ;;=> 1\n",
        "(mod -7 2) ;;=> 1"
      ],
      "execution_count": null,
      "outputs": [
        {
          "output_type": "stream",
          "text": [
            "* \n",
            "7/2\n",
            "* \n",
            "3.5\n",
            "* \n",
            "3.5\n",
            "* \n",
            "1\n",
            "* \n",
            "1\n",
            "* "
          ],
          "name": "stdout"
        }
      ]
    },
    {
      "cell_type": "code",
      "metadata": {
        "id": "Gtjj3GmgaM4F",
        "colab": {
          "base_uri": "https://localhost:8080/"
        },
        "outputId": "3858e18c-c5bc-4780-d553-94c6b1de3381"
      },
      "source": [
        "%%script sbcl --noinform\n",
        "10 ;;=> 10\n",
        "\"this\" ;;=> \"this\"\n",
        "'(10 20) ;;=> (10 20)\n",
        "'(this) ;;=> (THIS)"
      ],
      "execution_count": null,
      "outputs": [
        {
          "output_type": "stream",
          "text": [
            "* \n",
            "10\n",
            "* \n",
            "\"this\"\n",
            "* \n",
            "(10 20)\n",
            "* \n",
            "(THIS)\n",
            "* "
          ],
          "name": "stdout"
        }
      ]
    },
    {
      "cell_type": "code",
      "metadata": {
        "id": "kd1Xvdh2bOkQ",
        "colab": {
          "base_uri": "https://localhost:8080/"
        },
        "outputId": "1c47ba50-bf50-412a-be24-1b6de3fb75c1"
      },
      "source": [
        "%%script sbcl --noinform\n",
        "\"こんにちは、世界!\" ;;=> \"こんにちは、世界!\"\n",
        "'(こんにちは、世界!) ;;=> (こんにちは、世界!) ;; 日本語は大文字にできないのでならない"
      ],
      "execution_count": null,
      "outputs": [
        {
          "output_type": "stream",
          "text": [
            "* \n",
            "\"こんにちは、世界!\"\n",
            "* \n",
            "(こんにちは、世界!)\n",
            "* "
          ],
          "name": "stdout"
        }
      ]
    },
    {
      "cell_type": "code",
      "metadata": {
        "id": "RpPEELCPbr1t",
        "colab": {
          "base_uri": "https://localhost:8080/"
        },
        "outputId": "88c1ad21-898c-4374-fe31-5b4ecfcb5859"
      },
      "source": [
        "%%script sbcl --noinform\n",
        "(format t \"hello, world\") "
      ],
      "execution_count": null,
      "outputs": [
        {
          "output_type": "stream",
          "text": [
            "* hello, world\n",
            "NIL\n",
            "* "
          ],
          "name": "stdout"
        }
      ]
    },
    {
      "cell_type": "code",
      "metadata": {
        "id": "_0bOM7fqWppH",
        "colab": {
          "base_uri": "https://localhost:8080/"
        },
        "outputId": "6dcd8a2b-b4cb-4ebf-a55f-c9b4acd602a2"
      },
      "source": [
        "%%writefile helloworld01.lisp\n",
        "(defun hello-world ()\n",
        "  (format t \"Hello, world!\"))"
      ],
      "execution_count": null,
      "outputs": [
        {
          "output_type": "stream",
          "text": [
            "Writing helloworld01.lisp\n"
          ],
          "name": "stdout"
        }
      ]
    },
    {
      "cell_type": "code",
      "metadata": {
        "id": "pIhv4IUiWW4k",
        "colab": {
          "base_uri": "https://localhost:8080/"
        },
        "outputId": "6d36e2c4-c715-4b02-da41-b8513174cfbb"
      },
      "source": [
        "%%script sbcl --noinform\n",
        "(load \"helloworld01\")\n",
        "(hello-world)"
      ],
      "execution_count": null,
      "outputs": [
        {
          "output_type": "stream",
          "text": [
            "* \n",
            "T\n",
            "* Hello, world!\n",
            "NIL\n",
            "* "
          ],
          "name": "stdout"
        }
      ]
    },
    {
      "cell_type": "code",
      "metadata": {
        "id": "mPMjzikcWdE4",
        "colab": {
          "base_uri": "https://localhost:8080/"
        },
        "outputId": "7232c532-daa7-4ab5-edaa-eddd038559e3"
      },
      "source": [
        "# リスト : たらいまわし関数 (Common Lisp)\r\n",
        "%%script sbcl --noinform\r\n",
        "(defun tak (x y z)\r\n",
        "  (if (<= x y)\r\n",
        "      z\r\n",
        "    (tak (tak (1- x) y z)\r\n",
        "         (tak (1- y) z x)\r\n",
        "         (tak (1- z) x y))))\r\n",
        "\r\n",
        " (time (tak 22 11 0)) ;; Evaluation took: 5.788 seconds of real time"
      ],
      "execution_count": null,
      "outputs": [
        {
          "output_type": "stream",
          "text": [
            "* \n",
            "TAK\n",
            "* \n",
            "Evaluation took:\n",
            "  5.793 seconds of real time\n",
            "  5.786343 seconds of total run time (5.785021 user, 0.001322 system)\n",
            "  99.88% CPU\n",
            "  13,323,222,947 processor cycles\n",
            "  0 bytes consed\n",
            "  \n",
            "11\n",
            "* "
          ],
          "name": "stdout"
        }
      ]
    },
    {
      "cell_type": "code",
      "metadata": {
        "colab": {
          "base_uri": "https://localhost:8080/"
        },
        "id": "GeQ1XtYaCOn9",
        "outputId": "ce7b70fd-c898-4085-8d55-806c9c9daef2"
      },
      "source": [
        "# リスト : たらいまわし関数 (Common Lisp)\r\n",
        "# 速いバージョン\r\n",
        "%%script sbcl --noinform\r\n",
        "(defun tak (x y z)\r\n",
        "  (declare (type fixnum x y z)\r\n",
        "\t   (optimize (speed 3) (safety 0)))\r\n",
        "  (if (<= x y)\r\n",
        "      z\r\n",
        "    (tak (tak (1- x) y z)\r\n",
        "         (tak (1- y) z x)\r\n",
        "         (tak (1- z) x y))))\r\n",
        "\r\n",
        " (time (tak 22 11 0)) ;; Evaluation took: 1.649 seconds of real time"
      ],
      "execution_count": null,
      "outputs": [
        {
          "output_type": "stream",
          "text": [
            "* \n",
            "TAK\n",
            "* \n",
            "Evaluation took:\n",
            "  1.677 seconds of real time\n",
            "  1.669219 seconds of total run time (1.668185 user, 0.001034 system)\n",
            "  99.52% CPU\n",
            "  3,856,337,171 processor cycles\n",
            "  0 bytes consed\n",
            "  \n",
            "11\n",
            "* "
          ],
          "name": "stdout"
        }
      ]
    },
    {
      "cell_type": "code",
      "metadata": {
        "id": "F7b9m3Q3MMpq"
      },
      "source": [
        "# CLOS (Common Lisp Object System) の場合、クラスはマクロ defclass を使って定義する。\r\n",
        "# defclass は構造体 defstruct と似ている。\r\n",
        "\r\n",
        "# (defclass クラス名 (スーパークラス ...)\r\n",
        "#   ((スロット名 :accessor アクセスメソッド名 \r\n",
        "#                :initform 初期値フォーム\r\n",
        "#                :initarg  引数マークシンボル)\r\n",
        "#     ・・・・\r\n",
        "#    (スロット名 :accessor アクセスメソッド名 \r\n",
        "#                :initform 初期値フォーム\r\n",
        "#                :initarg  引数マークシンボル)))\r\n",
        "\r\n",
        "# 参考 構造体\r\n",
        "# (defstruct 構造体名\r\n",
        "#     (スロット名 デフォルト値)\r\n",
        "#     ・・・・\r\n",
        "#     (スロット名 デフォルト値))"
      ],
      "execution_count": null,
      "outputs": []
    },
    {
      "cell_type": "code",
      "metadata": {
        "id": "-5aF9xD6M9Ie"
      },
      "source": [
        "# インスタンスは関数 make-instance を使って生成する。\r\n",
        "\r\n",
        "# make-instance クラス名 [引数マークシンボル Ｓ式 ...]"
      ],
      "execution_count": null,
      "outputs": []
    },
    {
      "cell_type": "code",
      "metadata": {
        "id": "bx3tN8myVZly"
      },
      "source": [
        "%%script sbcl --noinform\r\n",
        "(defclass foo () ((a :accessor foo-a :initform 1 :initarg :a))) ;;=>  #<STANDARD-CLASS COMMON-LISP-USER::FOO>\r\n",
        "(setq x (make-instance 'foo)) ;;=>  #<FOO {1001C6F173}>\r\n",
        "(foo-a x) ;;=>  1\r\n",
        "(setf (foo-a x) 2) ;;=> 2\r\n",
        "(foo-a x) ;;=>  2\r\n",
        "(typep x 'foo) ;;=> T\r\n",
        "(type-of x) ;;=> FOO \r\n",
        "(setq y (make-instance 'foo :a 10)) ;;=> #<FOO {1001CF6A23}>\r\n",
        "(foo-a y) ;;=> error"
      ],
      "execution_count": null,
      "outputs": []
    },
    {
      "cell_type": "code",
      "metadata": {
        "colab": {
          "base_uri": "https://localhost:8080/"
        },
        "id": "x-whBXIQYTmo",
        "outputId": "b447c941-f045-482d-925e-18d43da5dd77"
      },
      "source": [
        "%%script sbcl --noinform\r\n",
        "(format t \"Hello, World\") ;;=> Hello, World ;;=> NIL\r\n",
        ";;=> 副作用が Hello, World で、返り値が NIL ということか?"
      ],
      "execution_count": null,
      "outputs": [
        {
          "output_type": "stream",
          "text": [
            "* Hello, World\n",
            "NIL\n",
            "* "
          ],
          "name": "stdout"
        }
      ]
    },
    {
      "cell_type": "code",
      "metadata": {
        "colab": {
          "base_uri": "https://localhost:8080/"
        },
        "id": "OvL6OG5Najgx",
        "outputId": "44840b0c-9069-41b5-dd97-18cdd4ac0ee2"
      },
      "source": [
        "%%script sbcl --noinform\r\n",
        "(+ (* 1 2) (- 3 4)) ;;=> 1"
      ],
      "execution_count": null,
      "outputs": [
        {
          "output_type": "stream",
          "text": [
            "* \n",
            "1\n",
            "* "
          ],
          "name": "stdout"
        }
      ]
    },
    {
      "cell_type": "code",
      "metadata": {
        "id": "vgX2k7bxa_iz"
      },
      "source": [
        "%%script sbcl --noinform\r\n",
        "format ;;=> The variable FORMAT is unbound."
      ],
      "execution_count": null,
      "outputs": []
    },
    {
      "cell_type": "code",
      "metadata": {
        "colab": {
          "base_uri": "https://localhost:8080/"
        },
        "id": "6LeznlDGbPfa",
        "outputId": "cf63aa3f-b76f-4e08-970d-fd755ba6c6e7"
      },
      "source": [
        "%%script sbcl --noinform\r\n",
        "(defvar a) ;;=> A こうしておかないといまの sbcl では warning が出る\r\n",
        "(setq a 10) ;;=> 10\r\n",
        "a ;;=> 10"
      ],
      "execution_count": null,
      "outputs": [
        {
          "output_type": "stream",
          "text": [
            "* \n",
            "A\n",
            "* \n",
            "10\n",
            "* \n",
            "10\n",
            "* "
          ],
          "name": "stdout"
        }
      ]
    },
    {
      "cell_type": "code",
      "metadata": {
        "id": "SYWnvS5rb3gL"
      },
      "source": [
        "%%script sbcl --noinform\r\n",
        "(defvar a) ;;=> A \r\n",
        "(defvar b)  ;;=> B\r\n",
        "(setq a (+ 1 2 3)) ;;=> 6\r\n",
        "a ;;=> 6\r\n",
        "(setq b a) ;;=> 6\r\n",
        "b ;;=> 6"
      ],
      "execution_count": null,
      "outputs": []
    },
    {
      "cell_type": "code",
      "metadata": {
        "colab": {
          "base_uri": "https://localhost:8080/"
        },
        "id": "kFquD4NLwKGs",
        "outputId": "3943ada9-0c68-423a-a4d2-66d0bcc13277"
      },
      "source": [
        "%%script sbcl --noinform\r\n",
        "t ;;=> T\r\n",
        "NIL ;;=> NIL\r\n",
        "() ;;=> NIL\r\n",
        "nil ;;=> NIL"
      ],
      "execution_count": null,
      "outputs": [
        {
          "output_type": "stream",
          "text": [
            "* \n",
            "T\n",
            "* \n",
            "NIL\n",
            "* \n",
            "NIL\n",
            "* \n",
            "NIL\n",
            "* "
          ],
          "name": "stdout"
        }
      ]
    },
    {
      "cell_type": "code",
      "metadata": {
        "id": "tM64heYHwbGy"
      },
      "source": [
        "%%script sbcl --noinform\r\n",
        "(setq t 10) ;;=> T is a constant and thus can't be set."
      ],
      "execution_count": null,
      "outputs": []
    },
    {
      "cell_type": "code",
      "metadata": {
        "id": "QpNmP0dlwon2"
      },
      "source": [
        "%%script sbcl --noinform\r\n",
        "(setq NIL 10) ;;=> NIL is a constant and thus can't be set."
      ],
      "execution_count": null,
      "outputs": []
    },
    {
      "cell_type": "code",
      "metadata": {
        "id": "5brVZjAJw4sl"
      },
      "source": [
        "# format は第 1 引数が T の場合、標準出力へデータを出力する。"
      ],
      "execution_count": null,
      "outputs": []
    },
    {
      "cell_type": "code",
      "metadata": {
        "id": "9p0-drZD0rln"
      },
      "source": [
        "# 通常引数は先に評価されてから代入される\r\n",
        "%%script sbcl --noinform\r\n",
        "(defvar x)\r\n",
        "(defvar a)\r\n",
        "(setq x 10) ;;=> 10\r\n",
        "(setq a x) ;;=> 10\r\n",
        "a ;;=> 10"
      ],
      "execution_count": null,
      "outputs": []
    },
    {
      "cell_type": "code",
      "metadata": {
        "colab": {
          "base_uri": "https://localhost:8080/"
        },
        "id": "XklmYTZ108c7",
        "outputId": "4e19bf92-fe42-46b0-d5a6-9cb1317192fb"
      },
      "source": [
        "# QUOTE ' をつけると評価されない\r\n",
        "%%script sbcl --noinform\r\n",
        "(defvar a) ;;=> A\r\n",
        "(setq a 'x) ;;=> X\r\n",
        "a ;;=> X"
      ],
      "execution_count": null,
      "outputs": [
        {
          "output_type": "stream",
          "text": [
            "* \n",
            "A\n",
            "* \n",
            "X\n",
            "* \n",
            "X\n",
            "* "
          ],
          "name": "stdout"
        }
      ]
    },
    {
      "cell_type": "code",
      "metadata": {
        "id": "3ef3c5Hx1OI4"
      },
      "source": [
        "# リストも QUOTE をつけると評価しない\r\n",
        "%%script sbcl --noinform\r\n",
        "(defvar y) ;;=> Y\r\n",
        "'y ;;=> Y\r\n",
        "'(1 2 3 4)  ;;=> (1 2 3 4)\r\n",
        "(setq y '(1 2 3 4))  ;;=> (1 2 3 4)\r\n",
        "y  ;;=> (1 2 3 4)"
      ],
      "execution_count": null,
      "outputs": []
    },
    {
      "cell_type": "code",
      "metadata": {
        "id": "UOYkp2iM1r6O"
      },
      "source": [
        "# アトムとリストを合わせて「Ｓ式 (symbolic expression)」または「フォーム (form)」と言う。"
      ],
      "execution_count": null,
      "outputs": []
    },
    {
      "cell_type": "code",
      "metadata": {
        "id": "tbZ0d3CX2EpY"
      },
      "source": [
        "# 関数 car はリストの先頭要素を取り出し、関数 cdr はリストの先頭要素を取り除いたリストを返す。 first rest でも同じ。"
      ],
      "execution_count": null,
      "outputs": []
    },
    {
      "cell_type": "code",
      "metadata": {
        "id": "NMt5tYyz4I40"
      },
      "source": [
        "%%script sbcl --noinform\r\n",
        "(cdr '(a)) ;;=> NIL\r\n",
        "(car nil) ;;=> NIL\r\n",
        "(cdr nil) ;;=> NIL"
      ],
      "execution_count": null,
      "outputs": []
    },
    {
      "cell_type": "code",
      "metadata": {
        "id": "yKCFDVNV4dYH",
        "colab": {
          "base_uri": "https://localhost:8080/"
        },
        "outputId": "2cf0b81a-8dbc-435d-bf60-1b70b2db5a88"
      },
      "source": [
        "%%script sbcl --noinform\r\n",
        "(car '((a b) (c d) (e f))) ;;=> (A B)\r\n",
        "(cdr '((a b) (c d) (e f))) ;;=> ((C D) (E F))\r\n",
        "(car (car '((a b) (c d) (e f)))) ;;=> A"
      ],
      "execution_count": null,
      "outputs": [
        {
          "output_type": "stream",
          "text": [
            "* \n",
            "(A B)\n",
            "* \n",
            "((C D) (E F))\n",
            "* \n",
            "A\n",
            "* "
          ],
          "name": "stdout"
        }
      ]
    },
    {
      "cell_type": "code",
      "metadata": {
        "id": "7zVT7FS7T2_j",
        "colab": {
          "base_uri": "https://localhost:8080/"
        },
        "outputId": "1dec4c1e-14e2-4538-b674-63c1ddeea76d"
      },
      "source": [
        "# リストの 2番目の要素を取り出す\r\n",
        "%%script sbcl --noinform\r\n",
        "(car (cdr '(a b c d e f))) ;;=> B\r\n",
        "(car '(b c d e f)) ;;=> B"
      ],
      "execution_count": null,
      "outputs": [
        {
          "output_type": "stream",
          "text": [
            "* \n",
            "B\n",
            "* \n",
            "B\n",
            "* "
          ],
          "name": "stdout"
        }
      ]
    },
    {
      "cell_type": "code",
      "metadata": {
        "id": "irLs-crnkdKc"
      },
      "source": [
        "%%script sbcl --noinform\r\n",
        "(cadr '(a b c d)) ;;=> B\r\n",
        "(caddr '(a b c d)) ;;=> C\r\n",
        "(cadddr '(a b c d)) ;;=> D\r\n",
        "(first '(a b c d))\r\n",
        "(second '(a b c d))\r\n",
        "(third '(a b c d))\r\n",
        "(fourth '(a b c d))\r\n",
        "(fifth '(a b c d e f g h i j k))\r\n",
        "(sixth '(a b c d e f g h i j k))\r\n",
        "(seventh '(a b c d e f g h i j k))\r\n",
        "(eighth '(a b c d e f g h i j k))\r\n",
        "(ninth '(a b c d e f g h i j k))\r\n",
        "(tenth '(a b c d e f g h i j k))"
      ],
      "execution_count": null,
      "outputs": []
    },
    {
      "cell_type": "markdown",
      "metadata": {
        "id": "35oL4WaymXQQ"
      },
      "source": [
        "# cons"
      ]
    },
    {
      "cell_type": "code",
      "metadata": {
        "id": "imKfSp7vmYxf"
      },
      "source": [
        "# cons\r\n",
        "%%script sbcl --noinform\r\n",
        "(cons 'a nil) ;;=> (A)\r\n",
        "(cons 'a ()) ;;=> (A)\r\n",
        "(cons 'a 'a) ;;=> (A . A)\r\n",
        "(cons 'b (cons 'a nil)) ;;=> (B A)\r\n",
        "(cons 'c (cons 'b (cons 'a nil))) ;;=> (C B A)\r\n",
        "(cons 'd (cons 'c (cons 'b (cons 'a nil)))) ;;=> (D C B A)"
      ],
      "execution_count": null,
      "outputs": []
    },
    {
      "cell_type": "markdown",
      "metadata": {
        "id": "MccQI1kXnHSL"
      },
      "source": [
        "# 質問 lisp の list は速いか遅いか?"
      ]
    },
    {
      "cell_type": "code",
      "metadata": {
        "id": "BcXnMqkQnycC"
      },
      "source": [
        "# list 関数\r\n",
        "%%script sbcl --noinform\r\n",
        "(list) ;;=> NIL\r\n",
        "(list 'a) ;;=> (A)\r\n",
        "(list 'a 'b) ;;=> (A B)\r\n",
        "(list '(a b) '(c d) '(e f)) ;;=> ((A B) (C D) (E F))\r\n",
        "(list '(a b c d e f)) ;;=> ((A B C D E F))"
      ],
      "execution_count": null,
      "outputs": []
    },
    {
      "cell_type": "code",
      "metadata": {
        "id": "tzIeU4XroWKA"
      },
      "source": [
        "# append 関数\r\n",
        "%%script sbcl --noinform\r\n",
        "(append '(a b c) '(d e f)) ;;=> (A B C D E F)\r\n",
        "(append '((a b) (c d)) '(e f)) ;;=> ((A B) (C D) E F)\r\n",
        "(append '((a b) (c d)) '((e f))) ;;=> ((A B) (C D) (E F)) "
      ],
      "execution_count": null,
      "outputs": []
    },
    {
      "cell_type": "code",
      "metadata": {
        "id": "SipGrkxLyEin",
        "colab": {
          "base_uri": "https://localhost:8080/"
        },
        "outputId": "15f5ee3f-daee-438e-e98e-1b7092508aa9"
      },
      "source": [
        "%%script sbcl --noinform\r\n",
        "(defvar v)\r\n",
        "(setq v '(a b c d e)) ;;=> (A B C D E)"
      ],
      "execution_count": null,
      "outputs": [
        {
          "output_type": "stream",
          "text": [
            "* \n",
            "V\n",
            "* \n",
            "(A B C D E)\n",
            "* "
          ],
          "name": "stdout"
        }
      ]
    },
    {
      "cell_type": "code",
      "metadata": {
        "colab": {
          "base_uri": "https://localhost:8080/"
        },
        "id": "wIWGgpj0pLzo",
        "outputId": "54fd147b-68c9-4d7f-9a0d-ce4b912c648e"
      },
      "source": [
        "# immutability リストの操作は非破壊的\r\n",
        "%%script sbcl --noinform\r\n",
        "(defvar dvar)\r\n",
        "(setq dvar '(a b c d e)) ;;=> (A B C D E)\r\n",
        "(cdr dvar) ;;=> (B C D E)\r\n",
        "dvar ;;=> (A B C D E)\r\n",
        ";; var の値を変更したいときは setq や setf を使。\r\n",
        "(setq dvar (cdr dvar)) ;;=> (B C D E)\r\n",
        "dvar ;;=> (B C D E)"
      ],
      "execution_count": null,
      "outputs": [
        {
          "output_type": "stream",
          "text": [
            "* \n",
            "DVAR\n",
            "* \n",
            "(A B C D E)\n",
            "* \n",
            "(B C D E)\n",
            "* \n",
            "(A B C D E)\n",
            "* \n",
            "(B C D E)\n",
            "* \n",
            "(B C D E)\n",
            "* "
          ],
          "name": "stdout"
        }
      ]
    },
    {
      "cell_type": "markdown",
      "metadata": {
        "id": "RPBxOh0ET660"
      },
      "source": [
        "# ドットリスト"
      ]
    },
    {
      "cell_type": "code",
      "metadata": {
        "id": "9UvGim7iUNpZ"
      },
      "source": [
        "# ドットリスト\r\n",
        "%%script sbcl --noinform\r\n",
        "(defvar a) ;;=> A\r\n",
        "'(A . NIL) ;;=> (A)\r\n",
        "'(A . (B . (C . NIL))) ;;=> (A B C)\r\n",
        "'((A . (B . NIL)) . ((C . (D . NIL)) . NIL)) ;;=> ((A B) (C D)) \r\n",
        "'((A . (B . NIL)) . (C . (D . NIL))) ;;=> ((A B) C D)"
      ],
      "execution_count": null,
      "outputs": []
    },
    {
      "cell_type": "code",
      "metadata": {
        "id": "SCQY0_zpyNxP"
      },
      "source": [
        "# 問題 cons と list で次に示すリストを作る\r\n",
        "# 各要素を取り出す S 式を作る\r\n",
        "%%script sbcl --noinform\r\n",
        ";; xs : (a (b) ((c)) (((d))))\r\n",
        ";; ys : ((a b c) (d e f) (g h i))\r\n",
        ";; zs : ((a . b) (c . d) (e . f))\r\n",
        ";; (defvar xs)(defvar a)(defvar b)(defvar c)(defvar d)(defvar e)(defvar f)(defvar g)(defvar h)(defvar i)(defvar ys)(defvar zs)\r\n",
        "(setq xs \r\n",
        "    (list 'a \r\n",
        "        (list 'b) \r\n",
        "        (list \r\n",
        "            (list 'c)) \r\n",
        "        (list \r\n",
        "            (list \r\n",
        "                (list 'd)))))\r\n",
        "(setq ys \r\n",
        "    (list         \r\n",
        "        (list 'a 'b 'c)         \r\n",
        "        (list 'd 'e 'f)         \r\n",
        "        (list 'g 'h 'i)))\r\n",
        "(setq zs \r\n",
        "    (list \r\n",
        "        (cons 'a 'b) \r\n",
        "        (cons 'c 'd) \r\n",
        "        (cons 'e 'f))) ;;=> ((A . B) (C . D) (E . F))\r\n",
        "(car xs) ;;=> A\r\n",
        "(caadr xs) ;;=> B\r\n",
        "(car (caaddr xs)) ;;=> C\r\n",
        "(caar (third xs)) ;;=> C \r\n",
        "(caaar (fourth xs)) ;;=> D\r\n",
        "(caaar (cadddr xs)) ;;=> D\r\n",
        "(first (first ys)) ;;=> A\r\n",
        "(second (second ys)) ;;=> E\r\n",
        "(third (third ys)) ;;=> I\r\n",
        "(caar zs) ;;=> A\r\n",
        "(cdar zs) ;;=> B\r\n",
        "(caadr zs) ;;=> C\r\n",
        "(cdadr zs) ;;=> D\r\n",
        "(caaddr zs) ;;=> E\r\n",
        "(cdaddr zs) ;;=> F"
      ],
      "execution_count": null,
      "outputs": []
    },
    {
      "cell_type": "code",
      "metadata": {
        "id": "cRGC9HrYvrKQ",
        "colab": {
          "base_uri": "https://localhost:8080/"
        },
        "outputId": "9686258f-5eb8-4258-a5f4-6793387612f8"
      },
      "source": [
        "# 数と算術演算\r\n",
        "# 整数 (integer)、分数 (ratio)、\r\n",
        "# 浮動小数点数 (floating-point number)、複素数 (complex number) という 4種類の数がある。\r\n",
        "\r\n",
        "# 整数は処理系の内部で fixnum (63 bit)と bignum (多倍長整数) に分けている。\r\n",
        "%%script sbcl --noinform\r\n",
        "most-negative-fixnum ;;=> -4611686018427387904\r\n",
        "most-positive-fixnum ;;=> 4611686018427387903"
      ],
      "execution_count": null,
      "outputs": [
        {
          "output_type": "stream",
          "text": [
            "* \n",
            "-4611686018427387904\n",
            "* \n",
            "4611686018427387903\n",
            "* "
          ],
          "name": "stdout"
        }
      ]
    },
    {
      "cell_type": "code",
      "metadata": {
        "id": "bXG5I7QuCQmF",
        "colab": {
          "base_uri": "https://localhost:8080/"
        },
        "outputId": "64d89540-d955-427f-c70a-62624044e194"
      },
      "source": [
        "# 整数の奇数表記 #nnrddddd または #nnRddddd\r\n",
        "# 2進数 #b の後ろに 0 と 1 の数値を記述\r\n",
        "# 8進数 #o の後ろに 0 から 7 までの数値を記述\r\n",
        "# 16進数 #x の後ろに 0 から f までの数値を記述\r\n",
        "%%script sbcl --noinform\r\n",
        "#4r1230123 ;;=> 6939\r\n",
        "#b10101010 ;;=> 170\r\n",
        "#o1234567  ;;=> 342391\r\n",
        "#o-127     ;;=> -87\r\n",
        "#xabcdef   ;;=> 11259375"
      ],
      "execution_count": null,
      "outputs": [
        {
          "output_type": "stream",
          "text": [
            "* \n",
            "6939\n",
            "* \n",
            "170\n",
            "* \n",
            "342391\n",
            "* \n",
            "-87\n",
            "* \n",
            "11259375\n",
            "* "
          ],
          "name": "stdout"
        }
      ]
    },
    {
      "cell_type": "code",
      "metadata": {
        "id": "fE-NGmTZC9pa"
      },
      "source": [
        "%%script sbcl --noinform\r\n",
        "1/2\r\n",
        "2/3\r\n",
        "4/3\r\n",
        "11/13\r\n",
        "-51/100\r\n",
        "30517578125/32768\r\n",
        "4/6  ;;=> 2/3\r\n",
        "3/12 ;;=> 1/4\r\n",
        "10/5 ;;=> 2 "
      ],
      "execution_count": null,
      "outputs": []
    },
    {
      "cell_type": "code",
      "metadata": {
        "id": "4YEaB3KTD6Sf"
      },
      "source": [
        "# 浮動小数点数\r\n",
        "# 小精度 (short-float), 単精度 (single-float), 倍精度 (double-float), 長精度 (long-float)\r\n",
        "%%script sbcl --noinform\r\n",
        "most-positive-short-float ;;=> 3.4028235e38\r\n",
        "most-positive-single-float ;;=> 3.4028235e38\r\n",
        "most-positive-double-float ;;=> 1.7976931348623157d308\r\n",
        "most-positive-long-float ;;=> 1.7976931348623157d308"
      ],
      "execution_count": null,
      "outputs": []
    },
    {
      "cell_type": "code",
      "metadata": {
        "id": "3pqeo3h9Ewq0",
        "colab": {
          "base_uri": "https://localhost:8080/"
        },
        "outputId": "e3c564b1-986a-4046-f269-43952631cd04"
      },
      "source": [
        "# 複素数は #C の後ろに実部と虚部のリストを付けて表す\r\n",
        "%%script sbcl --noinform\r\n",
        "#C(5 -3)\r\n",
        "#C(1.2 2.4)\r\n",
        "#C(1/2 2/3)\r\n",
        "#C(0.5 2/3) ;;=> #C(0.5 0.6666667)"
      ],
      "execution_count": null,
      "outputs": [
        {
          "output_type": "stream",
          "text": [
            "* \n",
            "#C(5 -3)\n",
            "* \n",
            "#C(1.2 2.4)\n",
            "* \n",
            "#C(1/2 2/3)\n",
            "* \n",
            "#C(0.5 0.6666667)\n",
            "* "
          ],
          "name": "stdout"
        }
      ]
    },
    {
      "cell_type": "markdown",
      "metadata": {
        "id": "FRI-BVtlvwMC"
      },
      "source": [
        "# いまここ"
      ]
    },
    {
      "cell_type": "code",
      "metadata": {
        "id": "T9LalR4yTi_Y"
      },
      "source": [
        "●四則演算\r\n",
        "ここでは簡単な四則演算を説明します。\r\n",
        "\r\n",
        "+ は足し算を、* は掛け算を、- は引き算を行います。これらの関数は引数をいくつでも取ることができます。数以外のデータを引数に与えるとエラーになります。引数の型が異なる場合は強制的に型変換が行われます。簡単な例を示しましょう。\r\n",
        "\r\n",
        "(+)           => 0\r\n",
        "(+ 1)         => 1\r\n",
        "(+ 1 2 3)     => 6\r\n",
        "(+ 1 2 3 1/2) => 13/2\r\n",
        "(+ 1 2 3 4.5) => 10.5\r\n",
        "\r\n",
        "(*)           => 1\r\n",
        "(* 1)         => 1\r\n",
        "(* 1 2 3)     => 6\r\n",
        "(* 1 2 3 1/4) => 3/2\r\n",
        "(* 1 2 3 4.5) => 27.0\r\n",
        "\r\n",
        "(- 1)         => -1\r\n",
        "(- 10 5 4)    => 1\r\n",
        "(- 10 5/2)    => 15/2\r\n",
        "(- 10 4.5)    => 5.5\r\n",
        "(-)           => エラー  ; 引数が足りない\r\n",
        "関数 1+ は引数に 1 を加え、関数 1- は引数から 1 を引きます。\r\n",
        "\r\n",
        "(1+ 2)   => 3\r\n",
        "(1+ 2.5) => 3.5\r\n",
        "(1- 2)   => 1\r\n",
        "(1- 2.5) => 1.5\r\n",
        "incf と decf は次の S 式と同じ働きをします。\r\n",
        "\r\n",
        "(incf a)   ≡ (setf a (1+ a))\r\n",
        "(incf a n) ≡ (setf a (+ a n))\r\n",
        "(decf a)   ≡ (setf a (1- a))\r\n",
        "(decf a n) ≡ (setf a (- a n))\r\n",
        "incf は第 2 引数が省略されると、第 1 引数のシンボルに格納されている数値に 1 を加えます。第 2 引数が与えられると、その値を加えます。incf は足し算した結果を返します。decf は incf とは逆に引き算を行います。\r\n",
        "\r\n"
      ],
      "execution_count": null,
      "outputs": []
    },
    {
      "cell_type": "code",
      "metadata": {
        "id": "SI7hnW-kTgP6"
      },
      "source": [
        "関数 / は割り算を行います。整数同士の割り算で割り切れない場合は分数になります。引数が 0 の場合はエラーになります。\r\n",
        "\r\n",
        "(/ 2)     => 1/2    ; 引数の逆数を求める\r\n",
        "(/ 8 4 2) => 1      ; 約分されて整数になる\r\n",
        "(/)       => エラー\r\n",
        "●数の変換\r\n",
        "整数や分数を浮動小数点数に変換するには関数 float を使います。\r\n",
        "\r\n",
        "float number [other]\r\n",
        "float は number を other と同じ形式の浮動小数点数に変換します。other は浮動小数点数でなければならず、省略すると single-float に変換されます。\r\n",
        "\r\n",
        "(float 1/3)     => 0.3333333\r\n",
        "(float 1/3 1d0) => 0.3333333333333333d0\r\n",
        "(float 3)       => 3.0\r\n",
        "(float 3 1d0)   => 3.0d0\r\n",
        "逆に、分数や浮動小数点数を整数に変換するには、次に示す関数を使います。\r\n",
        "\r\n",
        "floor num1 [num2]\r\n",
        "i ≦ num1 ＜ i + 1 を満たす整数 i を求める。\r\n",
        "ceiling num1 [num2]\r\n",
        "i - 1 ＜ num1 ≦ i を満たす整数 i を求める。\r\n",
        "truncate num1 [num2]\r\n",
        "小数点以下を切り捨てる。\r\n",
        "round num1 [num2]\r\n",
        "近い方の整数に丸める。ちょうど 0.5 の場合には偶数方向に丸める。\r\n",
        "引数 num2 が与えられた場合は (/ num1 num2) を評価し、その結果を整数に変換します。\r\n",
        "\r\n",
        "簡単な例を示しましょう。\r\n",
        "\r\n",
        "* (floor 2.5)\r\n",
        "\r\n",
        "2\r\n",
        "0.5\r\n",
        "* (floor -2.5)\r\n",
        "\r\n",
        "-3\r\n",
        "0.5\r\n",
        "* (floor 5 2)\r\n",
        "\r\n",
        "2\r\n",
        "1\r\n",
        "これらの関数は 2 つの値を返します。これを「多値 (multiple values)」といいます。最初の値は今までの関数と同じように受け取ることができます。2 番目の値を受け取る方法は、多値の使い方と一緒にあとで詳しく説明します。\r\n",
        "\r\n",
        "2 番目の値は、引数 (数値) が 1 つの場合は \"数値 - 求めた整数\" です。引数が 2 つ (数値と除数) の場合は \"数値 - 求めた整数 * 除数\"、つまり剰余になります。\r\n",
        "\r\n",
        "●剰余と累乗\r\n",
        "剰余は関数 mod と rem で求めることができます。\r\n",
        "\r\n",
        "mod number divisor\r\n",
        "rem number divisor\r\n",
        "mod は (floor number divisor) を実行し、その 2 番目の値を返します。rem は (truncate number divisor) を実行し、その 2 番目の値を返します。\r\n",
        "\r\n",
        "簡単な例を示しましょう\r\n",
        "\r\n",
        "* (mod 5 2)\r\n",
        "\r\n",
        "1\r\n",
        "* (rem 5 2)\r\n",
        "\r\n",
        "1\r\n",
        "* (floor 5 2)\r\n",
        "\r\n",
        "2\r\n",
        "1\r\n",
        "* (truncate 5 2)\r\n",
        "\r\n",
        "2\r\n",
        "1\r\n",
        "* (mod -5 2)\r\n",
        "\r\n",
        "1\r\n",
        "* (rem -5 2)\r\n",
        "\r\n",
        "-1\r\n",
        "* (floor -5 2)\r\n",
        "\r\n",
        "-3\r\n",
        "1\r\n",
        "* (truncate -5 2)\r\n",
        "\r\n",
        "-2\r\n",
        "-1\r\n",
        "関数 expt は累乗を計算します。\r\n",
        "\r\n",
        "expt x y\r\n",
        "(expt x y) は xy を返します。x が整数または分数で y が整数ならば、正確な値 (整数または分数) が返されます。そうでなければ浮動小数点数による近似値が返されます。\r\n",
        "\r\n",
        "(expt 2 32)     => 4294967296\r\n",
        "(expt 2 64)     => 18446744073709551616\r\n",
        "(expt 1/2 16)   => 1/65536\r\n",
        "(expt 1/2 32)   => 1/4294967296\r\n",
        "(expt 0.5d0 32) => 2.3283064365386963d-10\r\n",
        "(expt 2 0.5d0)  => 1.4142135623730951d0\r\n",
        "●その他\r\n",
        "関数 gcd はすべての引数の最大公約数を返します。関数 lcm はその引数の最小公倍数を返します。どちらの関数も引数は整数でなければいけません。\r\n",
        "\r\n",
        "(gcd 91 49)     => 7\r\n",
        "(gcd 63 42 35)  => 7\r\n",
        "(lcm 14 35)     => 70\r\n",
        "(lcm 1 2 3 4 5) => 60\r\n",
        "関数 exp x は ex を求めます。e は自然対数の底です。関数 log x [b] は logb x を求めます。b を省略すると e になります。関数 sqrt x は√x を求めます。\r\n",
        "\r\n",
        "* (exp 1d0)\r\n",
        "\r\n",
        "2.718281828459045d0\r\n",
        "* (log 10d0)\r\n",
        "\r\n",
        "2.302585092994046d0\r\n",
        "* (log 10d0 10)\r\n",
        "\r\n",
        "1.0d0\r\n",
        "* (log 10d0 2)\r\n",
        "\r\n",
        "3.3219280948873626d0\r\n",
        "* (sqrt 2d0)\r\n",
        "\r\n",
        "1.4142135623730951d0\r\n",
        "このほかにも、Common Lisp にはたくさんの数学関数が用意されています。興味のある方は調べてみてください。\r\n",
        "\r\n"
      ],
      "execution_count": null,
      "outputs": []
    },
    {
      "cell_type": "code",
      "metadata": {
        "id": "FFXvY9C3TbF6"
      },
      "source": [
        "●問題\r\n",
        "次に示す数式を Lisp で計算してください。\r\n",
        "\r\n",
        "1 + 2 + 3 - 4 + 5 + 6 + 78 + 9\r\n",
        "n(n + 1) / 2\r\n",
        "変数 n に適当な正整数をセットすること\r\n",
        "(- b±√(b2 - 4ac)) / 2a\r\n",
        "変数 a, b. c には適当な値をセットすること\r\n",
        "d = (1 + √5) / 2, e = (1 - √5) / 2\r\n",
        "(dn+1 - en+1) / √5\r\n",
        "変数 n には適当な正整数をセットすること\r\n",
        "1 + 2 + 22 + 23 + ... + 280 = 281 - 1\r\n",
        "7654321 の末尾の数字\r\n"
      ],
      "execution_count": null,
      "outputs": []
    },
    {
      "cell_type": "code",
      "metadata": {
        "id": "q1h0BuZETT_K"
      },
      "source": [
        "●解答\r\n",
        "* (+ 1 2 3 -4 5 6 78 9)    ; -4 は (- 4) としてもよい\r\n",
        "\r\n",
        "100\r\n",
        "* (+ (+ (+ (+ (- (+ (+ 1 2) 3) 4) 5) 6) 78) 9)\r\n",
        "\r\n",
        "100\r\n",
        "* (setq n 10)\r\n",
        "\r\n",
        "10\r\n",
        "* (/ (* n (+ n 1)) 2)\r\n",
        "\r\n",
        "55\r\n",
        "* (setq n 100)\r\n",
        "\r\n",
        "100\r\n",
        "* (/ (* n (+ n 1)) 2)\r\n",
        "\r\n",
        "5050\r\n",
        "* (setq a 2 b -4 c -6)\r\n",
        "\r\n",
        "-6\r\n",
        "* (/ (+ (- b) (sqrt (- (* b b) (* 4 a c)))) (* 2 a))\r\n",
        "\r\n",
        "3.0\r\n",
        "* (/ (- (- b) (sqrt (- (* b b) (* 4 a c)))) (* 2 a))\r\n",
        "\r\n",
        "-1.0\r\n",
        "* (setq a 1 b 0 c 1)\r\n",
        "\r\n",
        "1\r\n",
        "* (/ (+ (- b) (sqrt (- (* b b) (* 4 a c)))) (* 2 a))\r\n",
        "\r\n",
        "#C(0.0 1.0)\r\n",
        "* (/ (- (- b) (sqrt (- (* b b) (* 4 a c)))) (* 2 a))\r\n",
        "\r\n",
        "#C(0.0 -1.0)\r\n",
        "* (setq d (/ (+ 1 (sqrt 5)) 2))\r\n",
        "\r\n",
        "1.618034\r\n",
        "* (setq e (/ (- 1 (sqrt 5)) 2))\r\n",
        "\r\n",
        "-0.618034\r\n",
        "* (setq n 10)\r\n",
        "\r\n",
        "10\r\n",
        "* (/ (- (expt d (1+ n)) (expt e (1+ n))) (sqrt 5))\r\n",
        "\r\n",
        "89.00001\r\n",
        "* (setq n 20)\r\n",
        "\r\n",
        "20\r\n",
        "* (/ (- (expt d (1+ n)) (expt e (1+ n))) (sqrt 5))\r\n",
        "\r\n",
        "10946.002\r\n",
        "* (setq d (/ (+ 1 (sqrt 5d0)) 2))\r\n",
        "\r\n",
        "1.618033988749895d0\r\n",
        "* (setq e (/ (- 1 (sqrt 5d0)) 2))\r\n",
        "\r\n",
        "-0.6180339887498949d0\r\n",
        "* (setq n 10)\r\n",
        "\r\n",
        "10\r\n",
        "* (/ (- (expt d (1+ n)) (expt e (1+ n))) (sqrt 5))\r\n",
        "\r\n",
        "88.99999869328373d0\r\n",
        "* (setq n 20)\r\n",
        "\r\n",
        "20\r\n",
        "* (/ (- (expt d (1+ n)) (expt e (1+ n))) (sqrt 5))\r\n",
        "\r\n",
        "10945.999839288585d0\r\n",
        "* (1- (expt 2 81))\r\n",
        "\r\n",
        "2417851639229258349412351\r\n",
        "* (mod (expt 7 654321) 10)\r\n",
        "\r\n",
        "7"
      ],
      "execution_count": null,
      "outputs": []
    },
    {
      "cell_type": "code",
      "metadata": {
        "id": "bqu9loSCVBmD"
      },
      "source": [
        "# いまここ\r\n",
        "\r\n",
        "# http://www.nct9.ne.jp/m_hiroi/clisp/abcl02.html"
      ],
      "execution_count": null,
      "outputs": []
    },
    {
      "cell_type": "markdown",
      "metadata": {
        "id": "wpms7DUXBiiy"
      },
      "source": [
        "# いまここ"
      ]
    }
  ]
}