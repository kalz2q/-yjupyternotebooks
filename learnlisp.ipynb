{
  "nbformat": 4,
  "nbformat_minor": 0,
  "metadata": {
    "colab": {
      "name": "learnlisp.ipynb",
      "provenance": [],
      "toc_visible": true,
      "authorship_tag": "ABX9TyMhlS5xx4X14EdGAWIFFKYP",
      "include_colab_link": true
    },
    "kernelspec": {
      "name": "python3",
      "display_name": "Python 3"
    }
  },
  "cells": [
    {
      "cell_type": "markdown",
      "metadata": {
        "id": "view-in-github",
        "colab_type": "text"
      },
      "source": [
        "<a href=\"https://colab.research.google.com/github/kalz2q/mycolabnotebooks/blob/master/learnlisp.ipynb\" target=\"_parent\"><img src=\"https://colab.research.google.com/assets/colab-badge.svg\" alt=\"Open In Colab\"/></a>"
      ]
    },
    {
      "cell_type": "markdown",
      "metadata": {
        "id": "kHww7tr6pYro"
      },
      "source": [
        "# メモ\n",
        "\n",
        "Colab でLisp/Scheme を学んでみよう、というアイデア。\n",
        "\n",
        "テキスト:   \n",
        "お気楽 Common Lisp http://www.nct9.ne.jp/m_hiroi/clisp/index.html  \n",
        "Common Lisp Beginner https://common-lisp.net/project/common-lisp-beginner/links.html  \n",
        "Practical Common Lisp http://www.gigamonkeys.com/book/  \n",
        "Steel Bank Common Lisp http://www.sbcl.org/getting.html"
      ]
    },
    {
      "cell_type": "code",
      "metadata": {
        "id": "C6uHlvChpxGs"
      },
      "source": [
        "%%capture\n",
        "!apt install sbcl"
      ],
      "execution_count": null,
      "outputs": []
    },
    {
      "cell_type": "markdown",
      "metadata": {
        "id": "-jIGljG2QRss"
      },
      "source": [
        "sbcl は steel bank common lisp"
      ]
    },
    {
      "cell_type": "code",
      "metadata": {
        "colab": {
          "base_uri": "https://localhost:8080/"
        },
        "id": "mwJgXRokm1Wd",
        "outputId": "6674d1c0-1a06-46d5-f45d-b9aeb1786654"
      },
      "source": [
        "%%script sbcl --noinform\n",
        "(+ 2 3) ;;=> 5\n",
        "(- 100 10 1) ;;=> 89"
      ],
      "execution_count": null,
      "outputs": [
        {
          "output_type": "stream",
          "text": [
            "* \n",
            "5\n",
            "* \n",
            "89\n",
            "* "
          ],
          "name": "stdout"
        }
      ]
    },
    {
      "cell_type": "markdown",
      "metadata": {
        "id": "oFxPPkD7QZbe"
      },
      "source": [
        "-- noinform を入れないと sbcl を立ち上げるたびにメッセージがでてしまう。\r\n",
        "\r\n",
        "lisp のコメントはセミコロン 2つ。 "
      ]
    },
    {
      "cell_type": "markdown",
      "metadata": {
        "id": "jZeyJ7OLVG-a"
      },
      "source": [
        "プログラムをファイルにして読み込んで実行する実験。"
      ]
    },
    {
      "cell_type": "code",
      "metadata": {
        "id": "0egHkuX8shrv"
      },
      "source": [
        "# プログラムをファイルにして読み込んで実行する\n",
        "%%writefile fact01.lisp\n",
        "(defun fact (n) (if (<= n 1) 1 (* n (fact (- n 1)))))"
      ],
      "execution_count": null,
      "outputs": []
    },
    {
      "cell_type": "code",
      "metadata": {
        "colab": {
          "base_uri": "https://localhost:8080/"
        },
        "id": "uNC3CZjRs5Oo",
        "outputId": "542276e1-3d42-4e57-9c81-b3781ea9b50e"
      },
      "source": [
        "%%script sbcl --noinform\n",
        "(load \"fact01\") ;;=> T\n",
        "(fact 10) ;;=> 3628800"
      ],
      "execution_count": null,
      "outputs": [
        {
          "output_type": "stream",
          "text": [
            "* \n",
            "T\n",
            "* \n",
            "3628800\n",
            "* "
          ],
          "name": "stdout"
        }
      ]
    },
    {
      "cell_type": "markdown",
      "metadata": {
        "id": "H2_a37iuRDvQ"
      },
      "source": [
        "# 質問 T が true, NIL が false ですか?\r\n"
      ]
    },
    {
      "cell_type": "markdown",
      "metadata": {
        "id": "qJ7lIeh8Sboq"
      },
      "source": [
        "# 質問 if 構文は lisp ではどうなりますか。 式 expression ですか 文 statement ですか。"
      ]
    },
    {
      "cell_type": "code",
      "metadata": {
        "colab": {
          "base_uri": "https://localhost:8080/"
        },
        "id": "J78qD7MBzrWg",
        "outputId": "3607f785-674b-4089-e45c-49b484dac1e4"
      },
      "source": [
        "%%script sbcl --noinform\n",
        "(+ 1 2 3 4 5) ;;=> 15"
      ],
      "execution_count": null,
      "outputs": [
        {
          "output_type": "stream",
          "text": [
            "* \n",
            "15\n",
            "* "
          ],
          "name": "stdout"
        }
      ]
    },
    {
      "cell_type": "markdown",
      "metadata": {
        "id": "H3nFxg8C3pet"
      },
      "source": [
        "S式とはシンボル式 = Symbolic Expression 、 アトムかリスト。\n",
        "\n",
        "Lisp ではデータもプログラムもS式。\n"
      ]
    },
    {
      "cell_type": "code",
      "metadata": {
        "id": "0mG5Rn_FoNqb",
        "colab": {
          "base_uri": "https://localhost:8080/"
        },
        "outputId": "cc409beb-0f4a-473a-e382-c1a6ec2a996b"
      },
      "source": [
        "# コメントはセミコロン\r\n",
        "%%script sbcl --noinform\r\n",
        "(defun fact  ;; 関数定義 関数名\r\n",
        "    (n) ;; 引数名 型は宣言しない\r\n",
        "    (if ;; 条件分岐\r\n",
        "        (<= n 1) 1 ;; n が 1 以下ならば 1\r\n",
        "        (* n \r\n",
        "            (fact \r\n",
        "                (- n 1))))) ;; そうでなければ n と fact の再帰呼び出し => FACT\r\n",
        "\r\n",
        "(fact 10) ;;=> 3628800"
      ],
      "execution_count": null,
      "outputs": [
        {
          "output_type": "stream",
          "text": [
            "* \n",
            "FACT\n",
            "* \n",
            "3628800\n",
            "* "
          ],
          "name": "stdout"
        }
      ]
    },
    {
      "cell_type": "code",
      "metadata": {
        "id": "u6uboH4DzIKK",
        "colab": {
          "base_uri": "https://localhost:8080/"
        },
        "outputId": "2e03e44a-fc0e-4f11-ce16-702632accfd3"
      },
      "source": [
        "%%script sbcl --noinform\n",
        "(/ 7 2) ;;=> \n",
        "(/ 7.0 2.0) ;;=> 3.5\n",
        "(/ 7 2.0) ;;=> 3.5\n",
        "(mod 7 2) ;;=> 1\n",
        "(mod -7 2) ;;=> 1"
      ],
      "execution_count": null,
      "outputs": [
        {
          "output_type": "stream",
          "text": [
            "* \n",
            "7/2\n",
            "* \n",
            "3.5\n",
            "* \n",
            "3.5\n",
            "* \n",
            "1\n",
            "* \n",
            "1\n",
            "* "
          ],
          "name": "stdout"
        }
      ]
    },
    {
      "cell_type": "code",
      "metadata": {
        "id": "Gtjj3GmgaM4F",
        "colab": {
          "base_uri": "https://localhost:8080/"
        },
        "outputId": "3858e18c-c5bc-4780-d553-94c6b1de3381"
      },
      "source": [
        "%%script sbcl --noinform\n",
        "10 ;;=> 10\n",
        "\"this\" ;;=> \"this\"\n",
        "'(10 20) ;;=> (10 20)\n",
        "'(this) ;;=> (THIS)"
      ],
      "execution_count": null,
      "outputs": [
        {
          "output_type": "stream",
          "text": [
            "* \n",
            "10\n",
            "* \n",
            "\"this\"\n",
            "* \n",
            "(10 20)\n",
            "* \n",
            "(THIS)\n",
            "* "
          ],
          "name": "stdout"
        }
      ]
    },
    {
      "cell_type": "code",
      "metadata": {
        "id": "kd1Xvdh2bOkQ",
        "colab": {
          "base_uri": "https://localhost:8080/"
        },
        "outputId": "1c47ba50-bf50-412a-be24-1b6de3fb75c1"
      },
      "source": [
        "%%script sbcl --noinform\n",
        "\"こんにちは、世界!\" ;;=> \"こんにちは、世界!\"\n",
        "'(こんにちは、世界!) ;;=> (こんにちは、世界!) ;; 日本語は大文字にできないのでならない"
      ],
      "execution_count": null,
      "outputs": [
        {
          "output_type": "stream",
          "text": [
            "* \n",
            "\"こんにちは、世界!\"\n",
            "* \n",
            "(こんにちは、世界!)\n",
            "* "
          ],
          "name": "stdout"
        }
      ]
    },
    {
      "cell_type": "code",
      "metadata": {
        "id": "RpPEELCPbr1t",
        "colab": {
          "base_uri": "https://localhost:8080/"
        },
        "outputId": "88c1ad21-898c-4374-fe31-5b4ecfcb5859"
      },
      "source": [
        "%%script sbcl --noinform\n",
        "(format t \"hello, world\") "
      ],
      "execution_count": null,
      "outputs": [
        {
          "output_type": "stream",
          "text": [
            "* hello, world\n",
            "NIL\n",
            "* "
          ],
          "name": "stdout"
        }
      ]
    },
    {
      "cell_type": "code",
      "metadata": {
        "id": "_0bOM7fqWppH",
        "colab": {
          "base_uri": "https://localhost:8080/"
        },
        "outputId": "6dcd8a2b-b4cb-4ebf-a55f-c9b4acd602a2"
      },
      "source": [
        "%%writefile helloworld01.lisp\n",
        "(defun hello-world ()\n",
        "  (format t \"Hello, world!\"))"
      ],
      "execution_count": null,
      "outputs": [
        {
          "output_type": "stream",
          "text": [
            "Writing helloworld01.lisp\n"
          ],
          "name": "stdout"
        }
      ]
    },
    {
      "cell_type": "code",
      "metadata": {
        "id": "pIhv4IUiWW4k",
        "colab": {
          "base_uri": "https://localhost:8080/"
        },
        "outputId": "6d36e2c4-c715-4b02-da41-b8513174cfbb"
      },
      "source": [
        "%%script sbcl --noinform\n",
        "(load \"helloworld01\")\n",
        "(hello-world)"
      ],
      "execution_count": null,
      "outputs": [
        {
          "output_type": "stream",
          "text": [
            "* \n",
            "T\n",
            "* Hello, world!\n",
            "NIL\n",
            "* "
          ],
          "name": "stdout"
        }
      ]
    },
    {
      "cell_type": "code",
      "metadata": {
        "id": "mPMjzikcWdE4",
        "colab": {
          "base_uri": "https://localhost:8080/"
        },
        "outputId": "7232c532-daa7-4ab5-edaa-eddd038559e3"
      },
      "source": [
        "# リスト : たらいまわし関数 (Common Lisp)\r\n",
        "%%script sbcl --noinform\r\n",
        "(defun tak (x y z)\r\n",
        "  (if (<= x y)\r\n",
        "      z\r\n",
        "    (tak (tak (1- x) y z)\r\n",
        "         (tak (1- y) z x)\r\n",
        "         (tak (1- z) x y))))\r\n",
        "\r\n",
        " (time (tak 22 11 0)) ;; Evaluation took: 5.788 seconds of real time"
      ],
      "execution_count": null,
      "outputs": [
        {
          "output_type": "stream",
          "text": [
            "* \n",
            "TAK\n",
            "* \n",
            "Evaluation took:\n",
            "  5.793 seconds of real time\n",
            "  5.786343 seconds of total run time (5.785021 user, 0.001322 system)\n",
            "  99.88% CPU\n",
            "  13,323,222,947 processor cycles\n",
            "  0 bytes consed\n",
            "  \n",
            "11\n",
            "* "
          ],
          "name": "stdout"
        }
      ]
    },
    {
      "cell_type": "code",
      "metadata": {
        "colab": {
          "base_uri": "https://localhost:8080/"
        },
        "id": "GeQ1XtYaCOn9",
        "outputId": "ce7b70fd-c898-4085-8d55-806c9c9daef2"
      },
      "source": [
        "# リスト : たらいまわし関数 (Common Lisp)\r\n",
        "%%script sbcl --noinform\r\n",
        "(defun tak (x y z)\r\n",
        "  (declare (type fixnum x y z)\r\n",
        "\t   (optimize (speed 3) (safety 0)))\r\n",
        "  (if (<= x y)\r\n",
        "      z\r\n",
        "    (tak (tak (1- x) y z)\r\n",
        "         (tak (1- y) z x)\r\n",
        "         (tak (1- z) x y))))\r\n",
        "\r\n",
        " (time (tak 22 11 0)) ;; Evaluation took: 1.649 seconds of real time"
      ],
      "execution_count": null,
      "outputs": [
        {
          "output_type": "stream",
          "text": [
            "* \n",
            "TAK\n",
            "* \n",
            "Evaluation took:\n",
            "  1.677 seconds of real time\n",
            "  1.669219 seconds of total run time (1.668185 user, 0.001034 system)\n",
            "  99.52% CPU\n",
            "  3,856,337,171 processor cycles\n",
            "  0 bytes consed\n",
            "  \n",
            "11\n",
            "* "
          ],
          "name": "stdout"
        }
      ]
    },
    {
      "cell_type": "code",
      "metadata": {
        "id": "F7b9m3Q3MMpq"
      },
      "source": [
        "# CLOS の場合、クラスはマクロ defclass を使って定義する。defclass は構造体 defstruct と似ている。\r\n",
        "\r\n",
        "# (defclass クラス名 (スーパークラス ...)\r\n",
        "#   ((スロット名 :accessor アクセスメソッド名 \r\n",
        "#                :initform 初期値フォーム\r\n",
        "#                :initarg  引数マークシンボル)\r\n",
        "#     ・・・・\r\n",
        "#    (スロット名 :accessor アクセスメソッド名 \r\n",
        "#                :initform 初期値フォーム\r\n",
        "#                :initarg  引数マークシンボル)))\r\n",
        "\r\n",
        "# 参考 構造体\r\n",
        "# (defstruct 構造体名\r\n",
        "#     (スロット名 デフォルト値)\r\n",
        "#     ・・・・\r\n",
        "#     (スロット名 デフォルト値))"
      ],
      "execution_count": null,
      "outputs": []
    },
    {
      "cell_type": "code",
      "metadata": {
        "id": "-5aF9xD6M9Ie"
      },
      "source": [
        "# インスタンスは関数 make-instance を使って生成する。\r\n",
        "\r\n",
        "# make-instance クラス名 [引数マークシンボル Ｓ式 ...]"
      ],
      "execution_count": null,
      "outputs": []
    },
    {
      "cell_type": "code",
      "metadata": {
        "id": "bx3tN8myVZly"
      },
      "source": [
        "%%script sbcl --noinform\r\n",
        "(defclass foo () ((a :accessor foo-a :initform 1 :initarg :a))) ;;=>  #<STANDARD-CLASS COMMON-LISP-USER::FOO>\r\n",
        "(setq x (make-instance 'foo)) ;;=>  #<FOO {1001C6F173}>\r\n",
        "(foo-a x) ;;=>  1\r\n",
        "(setf (foo-a x) 2) ;;=> 2\r\n",
        "(foo-a x) ;;=>  2\r\n",
        "(typep x 'foo) ;;=> T\r\n",
        "(type-of x) ;;=> FOO \r\n",
        "(setq y (make-instance 'foo :a 10)) ;;=> #<FOO {1001CF6A23}>\r\n",
        "(foo-a y) ;;=> error"
      ],
      "execution_count": null,
      "outputs": []
    },
    {
      "cell_type": "code",
      "metadata": {
        "colab": {
          "base_uri": "https://localhost:8080/"
        },
        "id": "x-whBXIQYTmo",
        "outputId": "29d405d0-3b6b-4c48-b642-afd4a44ba12c"
      },
      "source": [
        "%%script sbcl --noinform\r\n",
        "(format t \"Hello, World\")\r\n",
        ";;=> Hello, World\r\n",
        ";;=> NIL"
      ],
      "execution_count": null,
      "outputs": [
        {
          "output_type": "stream",
          "text": [
            "* Hello, World\n",
            "NIL\n",
            "* "
          ],
          "name": "stdout"
        }
      ]
    },
    {
      "cell_type": "code",
      "metadata": {
        "colab": {
          "base_uri": "https://localhost:8080/"
        },
        "id": "OvL6OG5Najgx",
        "outputId": "44840b0c-9069-41b5-dd97-18cdd4ac0ee2"
      },
      "source": [
        "%%script sbcl --noinform\r\n",
        "(+ (* 1 2) (- 3 4)) ;;=> 1"
      ],
      "execution_count": null,
      "outputs": [
        {
          "output_type": "stream",
          "text": [
            "* \n",
            "1\n",
            "* "
          ],
          "name": "stdout"
        }
      ]
    },
    {
      "cell_type": "code",
      "metadata": {
        "colab": {
          "base_uri": "https://localhost:8080/"
        },
        "id": "vgX2k7bxa_iz",
        "outputId": "46239af5-5283-4130-ff8e-7c429970a368"
      },
      "source": [
        "%%script sbcl --noinform\r\n",
        "format ;;=> The variable FORMAT is unbound."
      ],
      "execution_count": null,
      "outputs": [
        {
          "output_type": "stream",
          "text": [
            "* \n",
            "Type HELP for debugger help, or (SB-EXT:EXIT) to exit from SBCL.\n",
            "\n",
            "restarts (invokable by number or by possibly-abbreviated name):\n",
            "  0: [CONTINUE   ] Retry using FORMAT.\n",
            "  1: [USE-VALUE  ] Use specified value.\n",
            "  2: [STORE-VALUE] Set specified value and use it.\n",
            "  3: [ABORT      ] Exit debugger, returning to top level.\n",
            "\n",
            "(SB-INT:SIMPLE-EVAL-IN-LEXENV FORMAT #<NULL-LEXENV>)\n",
            "0] \n",
            "* "
          ],
          "name": "stdout"
        },
        {
          "output_type": "stream",
          "text": [
            "\n",
            "debugger invoked on a UNBOUND-VARIABLE in thread\n",
            "#<THREAD \"main thread\" RUNNING {10005E85B3}>:\n",
            "  The variable FORMAT is unbound.\n"
          ],
          "name": "stderr"
        }
      ]
    },
    {
      "cell_type": "code",
      "metadata": {
        "colab": {
          "base_uri": "https://localhost:8080/"
        },
        "id": "6LeznlDGbPfa",
        "outputId": "32d520ba-5db7-44bf-da53-64fc866828bc"
      },
      "source": [
        "%%script sbcl --noinform\r\n",
        "(setq a 10)\r\n",
        "a"
      ],
      "execution_count": null,
      "outputs": [
        {
          "output_type": "stream",
          "text": [
            "* \n",
            "10\n",
            "* \n",
            "10\n",
            "* "
          ],
          "name": "stdout"
        },
        {
          "output_type": "stream",
          "text": [
            "; in: SETQ A\n",
            ";     (SETQ A 10)\n",
            "; \n",
            "; caught WARNING:\n",
            ";   undefined variable: A\n",
            "; \n",
            "; compilation unit finished\n",
            ";   Undefined variable:\n",
            ";     A\n",
            ";   caught 1 WARNING condition\n"
          ],
          "name": "stderr"
        }
      ]
    },
    {
      "cell_type": "code",
      "metadata": {
        "colab": {
          "base_uri": "https://localhost:8080/"
        },
        "id": "SYWnvS5rb3gL",
        "outputId": "8bbc65c2-cd95-45f6-a159-4bde59eb8ccc"
      },
      "source": [
        "%%script sbcl --noinform\r\n",
        "(setq a (+ 1 2 3))\r\n",
        "a\r\n",
        "(setq b a)\r\n",
        "b"
      ],
      "execution_count": null,
      "outputs": [
        {
          "output_type": "stream",
          "text": [
            "* \n",
            "6\n",
            "* \n",
            "6\n",
            "* \n",
            "6\n",
            "* \n",
            "6\n",
            "* "
          ],
          "name": "stdout"
        },
        {
          "output_type": "stream",
          "text": [
            "; in: SETQ A\n",
            ";     (SETQ A (+ 1 2 3))\n",
            "; \n",
            "; caught WARNING:\n",
            ";   undefined variable: A\n",
            "; \n",
            "; compilation unit finished\n",
            ";   Undefined variable:\n",
            ";     A\n",
            ";   caught 1 WARNING condition\n",
            "; in: SETQ B\n",
            ";     (SETQ B A)\n",
            "; ==>\n",
            ";   (SET 'B A)\n",
            "; \n",
            "; caught WARNING:\n",
            ";   undefined variable: A\n",
            "; \n",
            "; caught WARNING:\n",
            ";   undefined variable: B\n",
            "; \n",
            "; compilation unit finished\n",
            ";   Undefined variables:\n",
            ";     A B\n",
            ";   caught 2 WARNING conditions\n"
          ],
          "name": "stderr"
        }
      ]
    },
    {
      "cell_type": "code",
      "metadata": {
        "colab": {
          "base_uri": "https://localhost:8080/"
        },
        "id": "kFquD4NLwKGs",
        "outputId": "3943ada9-0c68-423a-a4d2-66d0bcc13277"
      },
      "source": [
        "%%script sbcl --noinform\r\n",
        "t ;;=> T\r\n",
        "NIL ;;=> NIL\r\n",
        "() ;;=> NIL\r\n",
        "nil ;;=> NIL"
      ],
      "execution_count": null,
      "outputs": [
        {
          "output_type": "stream",
          "text": [
            "* \n",
            "T\n",
            "* \n",
            "NIL\n",
            "* \n",
            "NIL\n",
            "* \n",
            "NIL\n",
            "* "
          ],
          "name": "stdout"
        }
      ]
    },
    {
      "cell_type": "code",
      "metadata": {
        "colab": {
          "base_uri": "https://localhost:8080/"
        },
        "id": "tM64heYHwbGy",
        "outputId": "cbb6ee60-205e-49b7-c4e0-4ff67d5359f8"
      },
      "source": [
        "%%script sbcl --noinform\r\n",
        "(setq t 10) ;;=> T is a constant and thus can't be set."
      ],
      "execution_count": null,
      "outputs": [
        {
          "output_type": "stream",
          "text": [
            "* \n",
            "Type HELP for debugger help, or (SB-EXT:EXIT) to exit from SBCL.\n",
            "\n",
            "restarts (invokable by number or by possibly-abbreviated name):\n",
            "  0: [ABORT] Exit debugger, returning to top level.\n",
            "\n",
            "((LAMBDA ()))\n",
            "   source: (SETQ T 10)\n",
            "0] \n",
            "* "
          ],
          "name": "stdout"
        },
        {
          "output_type": "stream",
          "text": [
            "; in: SETQ T\n",
            ";     (SETQ T 10)\n",
            "; \n",
            "; caught ERROR:\n",
            ";   T is a constant and thus can't be set.\n",
            "; \n",
            "; compilation unit finished\n",
            ";   caught 1 ERROR condition\n",
            "\n",
            "debugger invoked on a SB-INT:COMPILED-PROGRAM-ERROR in thread\n",
            "#<THREAD \"main thread\" RUNNING {10005E85B3}>:\n",
            "  Execution of a form compiled with errors.\n",
            "Form:\n",
            "  (SETQ T 10)\n",
            "Compile-time error:\n",
            "  T is a constant and thus can't be set.\n"
          ],
          "name": "stderr"
        }
      ]
    },
    {
      "cell_type": "code",
      "metadata": {
        "colab": {
          "base_uri": "https://localhost:8080/"
        },
        "id": "QpNmP0dlwon2",
        "outputId": "8ff74648-0286-48b4-853e-7fb6f5140e60"
      },
      "source": [
        "%%script sbcl --noinform\r\n",
        "(setq NIL 10) ;;=> NIL is a constant and thus can't be set."
      ],
      "execution_count": null,
      "outputs": [
        {
          "output_type": "stream",
          "text": [
            "* \n",
            "Type HELP for debugger help, or (SB-EXT:EXIT) to exit from SBCL.\n",
            "\n",
            "restarts (invokable by number or by possibly-abbreviated name):\n",
            "  0: [ABORT] Exit debugger, returning to top level.\n",
            "\n",
            "((LAMBDA ()))\n",
            "   source: (SETQ NIL 10)\n",
            "0] \n",
            "* "
          ],
          "name": "stdout"
        },
        {
          "output_type": "stream",
          "text": [
            "; in: SETQ ()\n",
            ";     (SETQ NIL 10)\n",
            "; \n",
            "; caught ERROR:\n",
            ";   NIL is a constant and thus can't be set.\n",
            "; \n",
            "; compilation unit finished\n",
            ";   caught 1 ERROR condition\n",
            "\n",
            "debugger invoked on a SB-INT:COMPILED-PROGRAM-ERROR in thread\n",
            "#<THREAD \"main thread\" RUNNING {10005E85B3}>:\n",
            "  Execution of a form compiled with errors.\n",
            "Form:\n",
            "  (SETQ NIL 10)\n",
            "Compile-time error:\n",
            "  NIL is a constant and thus can't be set.\n"
          ],
          "name": "stderr"
        }
      ]
    },
    {
      "cell_type": "code",
      "metadata": {
        "id": "5brVZjAJw4sl"
      },
      "source": [
        "# format は第 1 引数が T の場合、標準出力へデータを出力する。"
      ],
      "execution_count": null,
      "outputs": []
    },
    {
      "cell_type": "code",
      "metadata": {
        "colab": {
          "base_uri": "https://localhost:8080/"
        },
        "id": "9p0-drZD0rln",
        "outputId": "e56ca0e2-5e65-46a0-9c0b-c48f2df07965"
      },
      "source": [
        "# 通常引数は先に評価されてから代入される\r\n",
        "%%script sbcl --noinform\r\n",
        "(setq x 10)\r\n",
        "(setq a x)\r\n",
        "a"
      ],
      "execution_count": null,
      "outputs": [
        {
          "output_type": "stream",
          "text": [
            "* \n",
            "10\n",
            "* \n",
            "10\n",
            "* \n",
            "10\n",
            "* "
          ],
          "name": "stdout"
        },
        {
          "output_type": "stream",
          "text": [
            "; in: SETQ X\n",
            ";     (SETQ X 10)\n",
            "; \n",
            "; caught WARNING:\n",
            ";   undefined variable: X\n",
            "; \n",
            "; compilation unit finished\n",
            ";   Undefined variable:\n",
            ";     X\n",
            ";   caught 1 WARNING condition\n",
            "; in: SETQ A\n",
            ";     (SETQ A X)\n",
            "; \n",
            "; caught WARNING:\n",
            ";   undefined variable: A\n",
            "\n",
            "; ==>\n",
            ";   (SET 'A X)\n",
            "; \n",
            "; caught WARNING:\n",
            ";   undefined variable: X\n",
            "; \n",
            "; compilation unit finished\n",
            ";   Undefined variables:\n",
            ";     A X\n",
            ";   caught 2 WARNING conditions\n"
          ],
          "name": "stderr"
        }
      ]
    },
    {
      "cell_type": "code",
      "metadata": {
        "colab": {
          "base_uri": "https://localhost:8080/"
        },
        "id": "XklmYTZ108c7",
        "outputId": "2ad69a89-d114-4235-d239-2105a95567c2"
      },
      "source": [
        "# QUOTE ' をつけると評価されない\r\n",
        "%%script sbcl --noinform\r\n",
        "(setq a 'x)\r\n",
        "a"
      ],
      "execution_count": null,
      "outputs": [
        {
          "output_type": "stream",
          "text": [
            "* \n",
            "X\n",
            "* \n",
            "X\n",
            "* "
          ],
          "name": "stdout"
        },
        {
          "output_type": "stream",
          "text": [
            "; in: SETQ A\n",
            ";     (SETQ A 'X)\n",
            "; \n",
            "; caught WARNING:\n",
            ";   undefined variable: A\n",
            "; \n",
            "; compilation unit finished\n",
            ";   Undefined variable:\n",
            ";     A\n",
            ";   caught 1 WARNING condition\n"
          ],
          "name": "stderr"
        }
      ]
    },
    {
      "cell_type": "code",
      "metadata": {
        "colab": {
          "base_uri": "https://localhost:8080/"
        },
        "id": "3ef3c5Hx1OI4",
        "outputId": "8a199e37-1b5e-4a52-9d74-3226008362bb"
      },
      "source": [
        "# リストも QUOTE をつけると評価しない\r\n",
        "%%script sbcl --noinform\r\n",
        "'(1 2 3 4)\r\n",
        "(setq y '(1 2 3 4))\r\n",
        "y"
      ],
      "execution_count": null,
      "outputs": [
        {
          "output_type": "stream",
          "text": [
            "* \n",
            "(1 2 3 4)\n",
            "* \n",
            "(1 2 3 4)\n",
            "* \n",
            "(1 2 3 4)\n",
            "* "
          ],
          "name": "stdout"
        },
        {
          "output_type": "stream",
          "text": [
            "; in: SETQ Y\n",
            ";     (SETQ Y '(1 2 3 4))\n",
            "; \n",
            "; caught WARNING:\n",
            ";   undefined variable: Y\n",
            "; \n",
            "; compilation unit finished\n",
            ";   Undefined variable:\n",
            ";     Y\n",
            ";   caught 1 WARNING condition\n"
          ],
          "name": "stderr"
        }
      ]
    },
    {
      "cell_type": "code",
      "metadata": {
        "id": "UOYkp2iM1r6O"
      },
      "source": [
        "# アトムとリストを合わせて「Ｓ式 (symbolic expression)」または「フォーム (form)」と言う。"
      ],
      "execution_count": null,
      "outputs": []
    },
    {
      "cell_type": "code",
      "metadata": {
        "id": "tbZ0d3CX2EpY"
      },
      "source": [
        "# 関数 car はリストの先頭要素を取り出し、関数 cdr はリストの先頭要素を取り除いたリストを返す。 first rest でも同じ。"
      ],
      "execution_count": null,
      "outputs": []
    },
    {
      "cell_type": "code",
      "metadata": {
        "id": "NMt5tYyz4I40"
      },
      "source": [
        "%%script sbcl --noinform\r\n",
        "(cdr '(a)) ;;=> NIL\r\n",
        "(car nil) ;;=> NIL\r\n",
        "(cdr nil) ;;=> NIL"
      ],
      "execution_count": null,
      "outputs": []
    },
    {
      "cell_type": "code",
      "metadata": {
        "id": "yKCFDVNV4dYH",
        "colab": {
          "base_uri": "https://localhost:8080/"
        },
        "outputId": "2cf0b81a-8dbc-435d-bf60-1b70b2db5a88"
      },
      "source": [
        "%%script sbcl --noinform\r\n",
        "(car '((a b) (c d) (e f))) ;;=> (A B)\r\n",
        "(cdr '((a b) (c d) (e f))) ;;=> ((C D) (E F))\r\n",
        "(car (car '((a b) (c d) (e f)))) ;;=> A"
      ],
      "execution_count": null,
      "outputs": [
        {
          "output_type": "stream",
          "text": [
            "* \n",
            "(A B)\n",
            "* \n",
            "((C D) (E F))\n",
            "* \n",
            "A\n",
            "* "
          ],
          "name": "stdout"
        }
      ]
    },
    {
      "cell_type": "markdown",
      "metadata": {
        "id": "w9dYhKKpT_Xh"
      },
      "source": [
        "# いまここ"
      ]
    },
    {
      "cell_type": "code",
      "metadata": {
        "id": "7zVT7FS7T2_j"
      },
      "source": [
        "# リストの 2番目の要素を取り出す\r\n",
        "%%script sbcl --noinform\r\n"
      ],
      "execution_count": null,
      "outputs": []
    },
    {
      "cell_type": "code",
      "metadata": {
        "id": "iZB7mPKgS36B"
      },
      "source": [
        "\r\n",
        "リストの第 1 要素は (A B) であり、A ではないことに注意してください。A を取り出したい場合は次のようになります。\r\n",
        "\r\n",
        "* (car (car '((a b) (c d) (e f))))\r\n",
        "\r\n",
        "A\r\n",
        "それでは、第 2 要素を取り出す場合はどうするのでしょう。car と cdr を組み合わせれば簡単に取り出すことができます。\r\n",
        "\r\n",
        "(car (cdr '(a b c d e f)))\r\n",
        "     ~~~~~~~~~~~~~~~~~~~~ が評価されると a が取り除かれる。\r\n",
        "   ||\r\n",
        "(car '(b c d e f))  取り除いた後のリストの第 1 要素を取り出す。\r\n",
        "=> B\r\n",
        "このように、car と cdr を組み合わせることで、リストのどの要素にもアクセスすることができるのです。また、car と cdr を組み合わせた関数 cxxr, cxxxr, cxxxxr も用意されています。x には a か d が入ります。次の例を見てください。\r\n",
        "\r\n",
        "(cadr '(a b c d)) ≡ (car (cdr '(a b c d))) => B\r\n",
        "(caddr '(a b c d)) ≡ (car (cdr (cdr '(a b c d)))) => C\r\n",
        "(cadddr '(a b c d)) ≡ (car (cdr (cdr (cdr '(a b c d))))) => D\r\n",
        "昔の Lisp では、リストの第 2 要素や第 3 要素を取り出すために cadr や caddr がよく使われました。これらの関数は Common Lisp にも用意されていますが、第 2 要素は関数 second で、第 3 要素は関数 third で取り出した方がわかりやすいでしょう。このほかに、第 4 要素を取り出す fourth から第 10 要素を取り出す tenth まで用意されています。\r\n",
        "\r\n"
      ],
      "execution_count": null,
      "outputs": []
    },
    {
      "cell_type": "code",
      "metadata": {
        "id": "TL55ko0LTpKf"
      },
      "source": [
        "●リストの合成\r\n",
        "次は、リストの合成です。関数 cons はリストの先頭にデータを付け加えます。cons は construct の略です。\r\n",
        "\r\n",
        "\r\n",
        "簡単な実行例を示します。\r\n",
        "\r\n",
        "* (cons 'a nil)\r\n",
        "\r\n",
        "(A)\r\n",
        "* (cons 'b (cons 'a nil))\r\n",
        "\r\n",
        "(B A)\r\n",
        "* (cons 'c (cons 'b (cons 'a nil)))\r\n",
        "\r\n",
        "(C B A)\r\n",
        "* (cons 'd (cons 'c (cons 'b (cons 'a nil))))\r\n",
        "\r\n",
        "(D C B A)\r\n",
        "car と cdr で分解したリストは cons で合成することができます。\r\n",
        "\r\n",
        "\r\n",
        "この関係は、リストを操作する関数を作る場合の基本です。とても重要な関係なので、覚えておいてください。\r\n",
        "\r\n",
        "関数 list は引数を要素とする新しいリストを返します。\r\n",
        "\r\n",
        "\r\n",
        "上図のように、list は引数を新しいリストの要素として格納します。引数がリストの場合は、それが要素となります。リスト同士をつなぐのではないことに注意してください。\r\n",
        "\r\n",
        "簡単な実行例を示します。\r\n",
        "\r\n",
        "* (list)\r\n",
        "\r\n",
        "NIL\r\n",
        "* (list 'a)\r\n",
        "\r\n",
        "(A)\r\n",
        "* (list 'a 'b)\r\n",
        "\r\n",
        "(A B)\r\n",
        "* (list '(a b) '(c d) '(e f))\r\n",
        "\r\n",
        "((A B) (C D) (E F))\r\n",
        "これに対し、関数 append はリスト同士を連結します。したがって、引数はリストでなければいけません。アトムを与えるとエラーになります。\r\n",
        "\r\n",
        "\r\n",
        "append はリストを接続する場合、新しいセルを作成して引数の要素を格納します。ただし、いちばん最後の引数は新しいセルを作成しません。要素自体には何もしないことに注意してください。\r\n",
        "\r\n",
        "簡単な実行例を示します。\r\n",
        "\r\n",
        "* (append '(a b c) '(d e f))\r\n",
        "\r\n",
        "(A B C D E F)\r\n",
        "* (append '((a b) (c d)) '(e f))\r\n",
        "\r\n",
        "((A B) (C D) E F)\r\n",
        "* (append '((a b) (c d)) '((e f)))\r\n",
        "\r\n",
        "((A B) (C D) (E F))         ; (A B C D E F) ではないことに注意\r\n",
        "このように、要素がリストの場合でも、そのリストの要素を取り出すことはせずに、引数の要素を並べるだけです。\r\n",
        "\r\n",
        "●リストの操作は非破壊的\r\n",
        "今まで紹介した関数はシンボルの値を変更しません。次の例を見てください。\r\n",
        "\r\n",
        "* (setq var '(a b c d e))\r\n",
        "\r\n",
        "(A B C D E)\r\n",
        "* (cdr var)\r\n",
        "\r\n",
        "(B C D E)\r\n",
        "* var\r\n",
        "\r\n",
        "(A B C D E)\r\n",
        "シンボル var の値は破壊されません。var の値を変更したいときは setq や setf を使います。\r\n",
        "\r\n",
        "* (setq var (cdr var))\r\n",
        "\r\n",
        "(B C D E)\r\n",
        "* var\r\n",
        "\r\n",
        "(B C D E)\r\n",
        "以上のように、シンボル var の値は更新されます。\r\n",
        "\r\n",
        "●ドットリスト\r\n",
        "ここで、もう一度 cdr に戻ります。cdr は先頭の要素を取り除いたリストを返しましたが、それはセルの CDR 部を返す働きと同じです。最初に、最終セルの CDR にはリストの終わりを示すデータが格納されることを説明しました。したがって、要素がひとつしかないリストに cdr を適用すると、リストの終端を表すデータが取り出されます。もうおわかりだと思いますが、この特別なデータが NIL なのです。\r\n",
        "\r\n",
        "\r\n",
        "今までのリストは、すべて終端に NIL がセットされています。ところが、Lisp の立場になって考えてみると、リストの終端は CDR 部に格納されるデータがセル以外であれば、そこがリストの終端であることがわかります。つまり、NIL でなくてもかまわないのです。リストの終端が NIL 以外のデータである場合、そのリストを次のように表します。\r\n",
        "\r\n",
        "\r\n",
        "左右の括弧の中間にドット ( . ) を置き、左側に CAR 部のデータを、右側に CDR 部のデータを書きます。つまり、リスト (A) は (A . NIL) と表すことができます。このようなデータを「ドット対 (dotted pair)」と呼びます。たとえば、CAR 部がシンボル a で CDR 部がシンボル b であれば (a . b) となります。普通のリストも次のようにドット対を使って表現できます。\r\n",
        "\r\n",
        "(A)           ≡ (A . NIL)\r\n",
        "(A B C)       ≡ (A . (B . (C . NIL)))\r\n",
        "((A B) (C D)) ≡ ((A . (B . NIL)) . ((C . (D . NIL)) . NIL))\r\n",
        "((A B) C D)   ≡ ((A . (B . NIL)) . (C . (D . NIL)))\r\n",
        "それでは、リスト (A B C) の終端を D に変えてみましょう。ドット対を使った表記法では、(A . (B . (C . D))) となりますが、これは (A B C . D) と表すことができます。\r\n",
        "\r\n",
        "\r\n",
        "このように、NIL 以外のアトムで終端されたリストを「ドットリスト (dotted list)」と呼びます。参考文献 3 によると、カッコ ( ) の中間にドットを置いてリストを表すことを「ドット表現」といい、ドットを使わずにリストを表すことを「リスト表現」というそうです。そして、リスト表現とドット表現を混在させた表記法を「改良リスト表現」といい、多くの Lisp 処理系がこの表記法を用いています。\r\n",
        "\r\n",
        "ドットの後ろは CDR 部にセットするデータを指定するのですから、複数のデータを書いたり省略してはいけません。次の場合はエラーになります。\r\n",
        "\r\n",
        "( . A)       ; CAR がない\r\n",
        "(A . )       ; CDR がない\r\n",
        "(A . B C)    ; CDR にデータが複数ある\r\n",
        "(A . . B)    ; ドットが複数ある\r\n",
        "(A . B . C )\r\n",
        "●問題\r\n",
        "cons と list で次に示すリストを作ってください\r\n",
        "xs : (a (b) ((c)) (((d))))\r\n",
        "ys : ((a b c) (d e f) (g h i))\r\n",
        "zs : ((a . b) (c . d) (e . f))\r\n",
        "上記リストで各要素を取り出す S 式を作ってください\r\n",
        "\r\n",
        "\r\n",
        "\r\n",
        "\r\n",
        "\r\n",
        "\r\n",
        "\r\n",
        "\r\n",
        "\r\n",
        "\r\n",
        "●解答\r\n",
        "* (setq xs (list 'a (list 'b) 'c (list (list 'd)) 'e (list (list (list 'f)))))\r\n",
        "\r\n",
        "(A (B) C ((D)) E (((F))))\r\n",
        "* (setq ys (list (list 'a 'b 'c) (list 'd 'e 'f) (list 'g 'h 'i)))\r\n",
        "\r\n",
        "((A B C) (D E F) (G H I))\r\n",
        "* (setq zs (list (cons 'a 'b) (cons 'c 'd) (cons 'e 'f)))\r\n",
        "\r\n",
        "((A . B) (C . D) (E . F))\r\n",
        "* (car xs)\r\n",
        "\r\n",
        "A\r\n",
        "* (caadr xs)\r\n",
        "\r\n",
        "B\r\n",
        "* (caddr xs)\r\n",
        "\r\n",
        "C\r\n",
        "* (caar (fourth xs))\r\n",
        "\r\n",
        "D\r\n",
        "* (fifth xs)\r\n",
        "\r\n",
        "E\r\n",
        "* (caaar (sixth xs))\r\n",
        "\r\n",
        "F\r\n",
        "* (first (first ys))\r\n",
        "\r\n",
        "A\r\n",
        "* (second (second ys))\r\n",
        "\r\n",
        "E\r\n",
        "* (third (third ys))\r\n",
        "\r\n",
        "I\r\n",
        "* (caar zs)\r\n",
        "\r\n",
        "A\r\n",
        "* (cdar zs)\r\n",
        "\r\n",
        "B\r\n",
        "* (caadr zs)\r\n",
        "\r\n",
        "C\r\n",
        "* (cdadr zs)\r\n",
        "\r\n",
        "D\r\n",
        "* (caaddr zs)\r\n",
        "\r\n",
        "E\r\n",
        "* (cdaddr zs)\r\n",
        "\r\n",
        "F\r\n",
        "数と算術演算\r\n",
        "Common Lisp では、いくつかの種類の数が定義されています。大きく分けると整数 (integer)、分数 (ratio)、浮動小数点数 (floating-point number)、複素数 (complex number) という 4 種類の数があります。\r\n",
        "\r\n"
      ],
      "execution_count": null,
      "outputs": []
    },
    {
      "cell_type": "code",
      "metadata": {
        "id": "XqaxwnIqTlPa"
      },
      "source": [
        "●整数\r\n",
        "Common Lisp の場合、整数の大きさには制限がありません。5000! や 10000! でも求めることができます。ただし、処理系の内部では整数を fixnum と bignum (多倍長整数) に分けています。その処理系で効率良く整数を表せる範囲が fixnum で、それ以外の整数が bignum となります。fixnum の範囲は処理系に依存しますが、その値は変数 most-negative-fixnum と most-positive-fixnum に格納されています。\r\n",
        "\r\n",
        "* most-negative-fixnum\r\n",
        "\r\n",
        "-4611686018427387904\r\n",
        "* most-positive-fixnum\r\n",
        "\r\n",
        "4611686018427387903\r\n",
        "このように、sbcl の fixnum は 63 bit で表されています。\r\n",
        "\r\n",
        "整数は通常 10 進表記ですが、それ以外の基数でも書くことができます。\r\n",
        "\r\n",
        "#nnrddddd または #nnRddddd\r\n",
        "nn が基数 (2 - 32) を表します。よく使われる基数には省略形が用意されています。\r\n",
        "\r\n",
        "2 進表記\r\n",
        "#b の後ろに 0 と 1 の数値を記述\r\n",
        "8 進表記\r\n",
        "#o の後ろに 0 から 7 までの数値を記述\r\n",
        "16 進表記\r\n",
        "#x の後ろに 0 から f までの数値を記述\r\n",
        "簡単な例を示しましょう。\r\n",
        "\r\n",
        "#4r1230123 => 6939\r\n",
        "#b10101010 => 170\r\n",
        "#o1234567  => 342391\r\n",
        "#o-127     => -87\r\n",
        "#xabcdef   => 11259375\r\n",
        "●分数\r\n",
        "Common Lisp は分数を扱うことができます。分数は 2 つの整数を / で区切って表します。簡単な例を示します。\r\n",
        "\r\n",
        "1/2, 2/3, 4/3, 11/13, -51/100, 30517578125/32768\r\n",
        "また、4/6 や 3/12 のような入力もできますが、この場合は約分されることになります。とくに、4/2 のような割り切れる分数は、ただちに整数に変換されます。次の例を見てください。\r\n",
        "\r\n",
        "4/6  => 2/3\r\n",
        "3/12 => 1/4\r\n",
        "10/5 => 2    ; 整数に変換される\r\n",
        "●浮動小数点数\r\n",
        "Common Lisp は浮動小数点数を扱うことができます。浮動小数点数は一種類だけではなく、処理系によって複数の種類を持つことができますが、その精度と大きさは処理系に依存します。Common Lisp で推奨されている浮動小数点数の種類を表 1 に示します。\r\n",
        "\r\n",
        "表 1 : 浮動小数点数の種類\r\n",
        "形式\t最小精度\t最小の指数の大きさ\t指数マーカ\r\n",
        "小精度 (short-float)\t13 ビット\t5 ビット\ts, S\r\n",
        "単精度 (single-float)\t24 ビット\t8 ビット\tf, F\r\n",
        "倍精度 (double-float)\t50 ビット\t8 ビット\td, D\r\n",
        "長精度 (long-float)\t50 ビット\t8 ビット\tl, L\r\n",
        "浮動小数点の表記法は次のようになります。\r\n",
        "\r\n",
        "[+|-] 数字 小数点 数字 指数マーカ [+|-] 数字\r\n",
        "\r\n",
        " 0.1234                   ; single-float\r\n",
        " 0.1234d0                 ; double-float\r\n",
        " 1.2345e10                ; single-float\r\n",
        "-9.876542999999999d-100   ; double-float\r\n",
        "各精度の上限値と下限値は次の定数に格納されています。\r\n",
        "\r\n",
        "most-positive-xxxx             ; 正の無限大に最も近い値\r\n",
        "least-positive-xxxx            ; 0 に最も近い正の値\r\n",
        "least-positive-normalized-xxxx ; 同上 (正規化)\r\n",
        "least-negative-xxxx            ; 0 に最も近い負の値\r\n",
        "least-negative-normalized-xxxx ; 同上 (正規化)\r\n",
        "most-segative-xxxx             ; 負の無限大に最も近い値\r\n",
        "                               ; xxxx は データ型名を表す\r\n",
        "SBCL での most-positive-xxxx の値を示します。\r\n",
        "\r\n",
        "* most-positive-short-float\r\n",
        "\r\n",
        "3.4028235e38\r\n",
        "* most-positive-single-float\r\n",
        "\r\n",
        "3.4028235e38\r\n",
        "* most-positive-double-float\r\n",
        "\r\n",
        "1.7976931348623157d308\r\n",
        "* most-positive-long-float\r\n",
        "\r\n",
        "1.7976931348623157d308\r\n",
        "Common Lisp の仕様では、これら 4 つの形式をすべてサポートしなければならないわけではなく、処理系によっては 4 つより少なくてもかまいません。SBCL の場合、short-float と single-float が同じ形式、double-float と long-float が同じ形式になります。ようするに、Ｃ/Ｃ++ の float (単精度浮動小数点型) に相当するのが short-float, single-float で、double (倍精度浮動小数点型) に相当するのが double-float, long-float になります。\r\n",
        "\r\n",
        "なお、指数マーカには e, E を使うことができます。この場合、浮動小数点数は変数 *read-default-float-format* に格納されている形式に変換されます。また、指数マーカを省略した場合も同様です。デフォルトは single-float です。\r\n",
        "\r\n",
        "●複素数\r\n",
        "Common Lisp は複素数を扱うことができます。複素数は #C の後ろに実部と虚部のリストを付けて表します。簡単な例を示しましょう。\r\n",
        "\r\n",
        "#C(5 -3)\r\n",
        "#C(1.2 2.4)\r\n",
        "#C(1/2 2/3)\r\n",
        "#C(0.5 2/3) => #C(0.5 0.6666667)\r\n",
        "実部と虚部の指定には、整数、浮動小数点数、分数を使うことができます。もし、実部と虚部が異なる種類（型）の数ならば、同じ種類の数になるよう変換されます。\r\n",
        "\r\n"
      ],
      "execution_count": null,
      "outputs": []
    },
    {
      "cell_type": "code",
      "metadata": {
        "id": "T9LalR4yTi_Y"
      },
      "source": [
        "●四則演算\r\n",
        "ここでは簡単な四則演算を説明します。\r\n",
        "\r\n",
        "+ は足し算を、* は掛け算を、- は引き算を行います。これらの関数は引数をいくつでも取ることができます。数以外のデータを引数に与えるとエラーになります。引数の型が異なる場合は強制的に型変換が行われます。簡単な例を示しましょう。\r\n",
        "\r\n",
        "(+)           => 0\r\n",
        "(+ 1)         => 1\r\n",
        "(+ 1 2 3)     => 6\r\n",
        "(+ 1 2 3 1/2) => 13/2\r\n",
        "(+ 1 2 3 4.5) => 10.5\r\n",
        "\r\n",
        "(*)           => 1\r\n",
        "(* 1)         => 1\r\n",
        "(* 1 2 3)     => 6\r\n",
        "(* 1 2 3 1/4) => 3/2\r\n",
        "(* 1 2 3 4.5) => 27.0\r\n",
        "\r\n",
        "(- 1)         => -1\r\n",
        "(- 10 5 4)    => 1\r\n",
        "(- 10 5/2)    => 15/2\r\n",
        "(- 10 4.5)    => 5.5\r\n",
        "(-)           => エラー  ; 引数が足りない\r\n",
        "関数 1+ は引数に 1 を加え、関数 1- は引数から 1 を引きます。\r\n",
        "\r\n",
        "(1+ 2)   => 3\r\n",
        "(1+ 2.5) => 3.5\r\n",
        "(1- 2)   => 1\r\n",
        "(1- 2.5) => 1.5\r\n",
        "incf と decf は次の S 式と同じ働きをします。\r\n",
        "\r\n",
        "(incf a)   ≡ (setf a (1+ a))\r\n",
        "(incf a n) ≡ (setf a (+ a n))\r\n",
        "(decf a)   ≡ (setf a (1- a))\r\n",
        "(decf a n) ≡ (setf a (- a n))\r\n",
        "incf は第 2 引数が省略されると、第 1 引数のシンボルに格納されている数値に 1 を加えます。第 2 引数が与えられると、その値を加えます。incf は足し算した結果を返します。decf は incf とは逆に引き算を行います。\r\n",
        "\r\n"
      ],
      "execution_count": null,
      "outputs": []
    },
    {
      "cell_type": "code",
      "metadata": {
        "id": "SI7hnW-kTgP6"
      },
      "source": [
        "関数 / は割り算を行います。整数同士の割り算で割り切れない場合は分数になります。引数が 0 の場合はエラーになります。\r\n",
        "\r\n",
        "(/ 2)     => 1/2    ; 引数の逆数を求める\r\n",
        "(/ 8 4 2) => 1      ; 約分されて整数になる\r\n",
        "(/)       => エラー\r\n",
        "●数の変換\r\n",
        "整数や分数を浮動小数点数に変換するには関数 float を使います。\r\n",
        "\r\n",
        "float number [other]\r\n",
        "float は number を other と同じ形式の浮動小数点数に変換します。other は浮動小数点数でなければならず、省略すると single-float に変換されます。\r\n",
        "\r\n",
        "(float 1/3)     => 0.3333333\r\n",
        "(float 1/3 1d0) => 0.3333333333333333d0\r\n",
        "(float 3)       => 3.0\r\n",
        "(float 3 1d0)   => 3.0d0\r\n",
        "逆に、分数や浮動小数点数を整数に変換するには、次に示す関数を使います。\r\n",
        "\r\n",
        "floor num1 [num2]\r\n",
        "i ≦ num1 ＜ i + 1 を満たす整数 i を求める。\r\n",
        "ceiling num1 [num2]\r\n",
        "i - 1 ＜ num1 ≦ i を満たす整数 i を求める。\r\n",
        "truncate num1 [num2]\r\n",
        "小数点以下を切り捨てる。\r\n",
        "round num1 [num2]\r\n",
        "近い方の整数に丸める。ちょうど 0.5 の場合には偶数方向に丸める。\r\n",
        "引数 num2 が与えられた場合は (/ num1 num2) を評価し、その結果を整数に変換します。\r\n",
        "\r\n",
        "簡単な例を示しましょう。\r\n",
        "\r\n",
        "* (floor 2.5)\r\n",
        "\r\n",
        "2\r\n",
        "0.5\r\n",
        "* (floor -2.5)\r\n",
        "\r\n",
        "-3\r\n",
        "0.5\r\n",
        "* (floor 5 2)\r\n",
        "\r\n",
        "2\r\n",
        "1\r\n",
        "これらの関数は 2 つの値を返します。これを「多値 (multiple values)」といいます。最初の値は今までの関数と同じように受け取ることができます。2 番目の値を受け取る方法は、多値の使い方と一緒にあとで詳しく説明します。\r\n",
        "\r\n",
        "2 番目の値は、引数 (数値) が 1 つの場合は \"数値 - 求めた整数\" です。引数が 2 つ (数値と除数) の場合は \"数値 - 求めた整数 * 除数\"、つまり剰余になります。\r\n",
        "\r\n",
        "●剰余と累乗\r\n",
        "剰余は関数 mod と rem で求めることができます。\r\n",
        "\r\n",
        "mod number divisor\r\n",
        "rem number divisor\r\n",
        "mod は (floor number divisor) を実行し、その 2 番目の値を返します。rem は (truncate number divisor) を実行し、その 2 番目の値を返します。\r\n",
        "\r\n",
        "簡単な例を示しましょう\r\n",
        "\r\n",
        "* (mod 5 2)\r\n",
        "\r\n",
        "1\r\n",
        "* (rem 5 2)\r\n",
        "\r\n",
        "1\r\n",
        "* (floor 5 2)\r\n",
        "\r\n",
        "2\r\n",
        "1\r\n",
        "* (truncate 5 2)\r\n",
        "\r\n",
        "2\r\n",
        "1\r\n",
        "* (mod -5 2)\r\n",
        "\r\n",
        "1\r\n",
        "* (rem -5 2)\r\n",
        "\r\n",
        "-1\r\n",
        "* (floor -5 2)\r\n",
        "\r\n",
        "-3\r\n",
        "1\r\n",
        "* (truncate -5 2)\r\n",
        "\r\n",
        "-2\r\n",
        "-1\r\n",
        "関数 expt は累乗を計算します。\r\n",
        "\r\n",
        "expt x y\r\n",
        "(expt x y) は xy を返します。x が整数または分数で y が整数ならば、正確な値 (整数または分数) が返されます。そうでなければ浮動小数点数による近似値が返されます。\r\n",
        "\r\n",
        "(expt 2 32)     => 4294967296\r\n",
        "(expt 2 64)     => 18446744073709551616\r\n",
        "(expt 1/2 16)   => 1/65536\r\n",
        "(expt 1/2 32)   => 1/4294967296\r\n",
        "(expt 0.5d0 32) => 2.3283064365386963d-10\r\n",
        "(expt 2 0.5d0)  => 1.4142135623730951d0\r\n",
        "●その他\r\n",
        "関数 gcd はすべての引数の最大公約数を返します。関数 lcm はその引数の最小公倍数を返します。どちらの関数も引数は整数でなければいけません。\r\n",
        "\r\n",
        "(gcd 91 49)     => 7\r\n",
        "(gcd 63 42 35)  => 7\r\n",
        "(lcm 14 35)     => 70\r\n",
        "(lcm 1 2 3 4 5) => 60\r\n",
        "関数 exp x は ex を求めます。e は自然対数の底です。関数 log x [b] は logb x を求めます。b を省略すると e になります。関数 sqrt x は√x を求めます。\r\n",
        "\r\n",
        "* (exp 1d0)\r\n",
        "\r\n",
        "2.718281828459045d0\r\n",
        "* (log 10d0)\r\n",
        "\r\n",
        "2.302585092994046d0\r\n",
        "* (log 10d0 10)\r\n",
        "\r\n",
        "1.0d0\r\n",
        "* (log 10d0 2)\r\n",
        "\r\n",
        "3.3219280948873626d0\r\n",
        "* (sqrt 2d0)\r\n",
        "\r\n",
        "1.4142135623730951d0\r\n",
        "このほかにも、Common Lisp にはたくさんの数学関数が用意されています。興味のある方は調べてみてください。\r\n",
        "\r\n"
      ],
      "execution_count": null,
      "outputs": []
    },
    {
      "cell_type": "code",
      "metadata": {
        "id": "FFXvY9C3TbF6"
      },
      "source": [
        "●問題\r\n",
        "次に示す数式を Lisp で計算してください。\r\n",
        "\r\n",
        "1 + 2 + 3 - 4 + 5 + 6 + 78 + 9\r\n",
        "n(n + 1) / 2\r\n",
        "変数 n に適当な正整数をセットすること\r\n",
        "(- b±√(b2 - 4ac)) / 2a\r\n",
        "変数 a, b. c には適当な値をセットすること\r\n",
        "d = (1 + √5) / 2, e = (1 - √5) / 2\r\n",
        "(dn+1 - en+1) / √5\r\n",
        "変数 n には適当な正整数をセットすること\r\n",
        "1 + 2 + 22 + 23 + ... + 280 = 281 - 1\r\n",
        "7654321 の末尾の数字\r\n"
      ],
      "execution_count": null,
      "outputs": []
    },
    {
      "cell_type": "code",
      "metadata": {
        "id": "q1h0BuZETT_K"
      },
      "source": [
        "●解答\r\n",
        "* (+ 1 2 3 -4 5 6 78 9)    ; -4 は (- 4) としてもよい\r\n",
        "\r\n",
        "100\r\n",
        "* (+ (+ (+ (+ (- (+ (+ 1 2) 3) 4) 5) 6) 78) 9)\r\n",
        "\r\n",
        "100\r\n",
        "* (setq n 10)\r\n",
        "\r\n",
        "10\r\n",
        "* (/ (* n (+ n 1)) 2)\r\n",
        "\r\n",
        "55\r\n",
        "* (setq n 100)\r\n",
        "\r\n",
        "100\r\n",
        "* (/ (* n (+ n 1)) 2)\r\n",
        "\r\n",
        "5050\r\n",
        "* (setq a 2 b -4 c -6)\r\n",
        "\r\n",
        "-6\r\n",
        "* (/ (+ (- b) (sqrt (- (* b b) (* 4 a c)))) (* 2 a))\r\n",
        "\r\n",
        "3.0\r\n",
        "* (/ (- (- b) (sqrt (- (* b b) (* 4 a c)))) (* 2 a))\r\n",
        "\r\n",
        "-1.0\r\n",
        "* (setq a 1 b 0 c 1)\r\n",
        "\r\n",
        "1\r\n",
        "* (/ (+ (- b) (sqrt (- (* b b) (* 4 a c)))) (* 2 a))\r\n",
        "\r\n",
        "#C(0.0 1.0)\r\n",
        "* (/ (- (- b) (sqrt (- (* b b) (* 4 a c)))) (* 2 a))\r\n",
        "\r\n",
        "#C(0.0 -1.0)\r\n",
        "* (setq d (/ (+ 1 (sqrt 5)) 2))\r\n",
        "\r\n",
        "1.618034\r\n",
        "* (setq e (/ (- 1 (sqrt 5)) 2))\r\n",
        "\r\n",
        "-0.618034\r\n",
        "* (setq n 10)\r\n",
        "\r\n",
        "10\r\n",
        "* (/ (- (expt d (1+ n)) (expt e (1+ n))) (sqrt 5))\r\n",
        "\r\n",
        "89.00001\r\n",
        "* (setq n 20)\r\n",
        "\r\n",
        "20\r\n",
        "* (/ (- (expt d (1+ n)) (expt e (1+ n))) (sqrt 5))\r\n",
        "\r\n",
        "10946.002\r\n",
        "* (setq d (/ (+ 1 (sqrt 5d0)) 2))\r\n",
        "\r\n",
        "1.618033988749895d0\r\n",
        "* (setq e (/ (- 1 (sqrt 5d0)) 2))\r\n",
        "\r\n",
        "-0.6180339887498949d0\r\n",
        "* (setq n 10)\r\n",
        "\r\n",
        "10\r\n",
        "* (/ (- (expt d (1+ n)) (expt e (1+ n))) (sqrt 5))\r\n",
        "\r\n",
        "88.99999869328373d0\r\n",
        "* (setq n 20)\r\n",
        "\r\n",
        "20\r\n",
        "* (/ (- (expt d (1+ n)) (expt e (1+ n))) (sqrt 5))\r\n",
        "\r\n",
        "10945.999839288585d0\r\n",
        "* (1- (expt 2 81))\r\n",
        "\r\n",
        "2417851639229258349412351\r\n",
        "* (mod (expt 7 654321) 10)\r\n",
        "\r\n",
        "7"
      ],
      "execution_count": null,
      "outputs": []
    },
    {
      "cell_type": "code",
      "metadata": {
        "id": "bqu9loSCVBmD"
      },
      "source": [
        "# いまここ\r\n",
        "\r\n",
        "# http://www.nct9.ne.jp/m_hiroi/clisp/abcl02.html"
      ],
      "execution_count": null,
      "outputs": []
    },
    {
      "cell_type": "markdown",
      "metadata": {
        "id": "wpms7DUXBiiy"
      },
      "source": [
        "# いまここ"
      ]
    }
  ]
}