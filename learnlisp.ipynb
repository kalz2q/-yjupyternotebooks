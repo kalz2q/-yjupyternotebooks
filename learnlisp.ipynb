{
  "nbformat": 4,
  "nbformat_minor": 0,
  "metadata": {
    "colab": {
      "name": "learnlisp.ipynb",
      "provenance": [],
      "toc_visible": true,
      "authorship_tag": "ABX9TyOElcOLQgJcOafIb4WkXdrP",
      "include_colab_link": true
    },
    "kernelspec": {
      "name": "python3",
      "display_name": "Python 3"
    }
  },
  "cells": [
    {
      "cell_type": "markdown",
      "metadata": {
        "id": "view-in-github",
        "colab_type": "text"
      },
      "source": [
        "<a href=\"https://colab.research.google.com/github/kalz2q/mycolabnotebooks/blob/master/learnlisp.ipynb\" target=\"_parent\"><img src=\"https://colab.research.google.com/assets/colab-badge.svg\" alt=\"Open In Colab\"/></a>"
      ]
    },
    {
      "cell_type": "markdown",
      "metadata": {
        "id": "kHww7tr6pYro"
      },
      "source": [
        "# メモ\n",
        "\n",
        "Colab でLisp/Scheme を学んでみよう、というアイデア。\n",
        "\n",
        "テキスト:   \n",
        "お気楽 Common Lisp http://www.nct9.ne.jp/m_hiroi/clisp/index.html  \n",
        "Common Lisp Beginner https://common-lisp.net/project/common-lisp-beginner/links.html  \n",
        "Practical Common Lisp http://www.gigamonkeys.com/book/  \n",
        "Steel Bank Common Lisp http://www.sbcl.org/getting.html"
      ]
    },
    {
      "cell_type": "code",
      "metadata": {
        "id": "C6uHlvChpxGs"
      },
      "source": [
        "%%capture\n",
        "!apt install sbcl"
      ],
      "execution_count": 13,
      "outputs": []
    },
    {
      "cell_type": "code",
      "metadata": {
        "colab": {
          "base_uri": "https://localhost:8080/"
        },
        "id": "mwJgXRokm1Wd",
        "outputId": "a9fd127e-0abb-4b6e-c531-2f8c28999208"
      },
      "source": [
        "%%script sbcl --noinform\n",
        "(+ 2 3)\n",
        "(- 100 10 1)"
      ],
      "execution_count": null,
      "outputs": [
        {
          "output_type": "stream",
          "text": [
            "* \n",
            "5\n",
            "* \n",
            "89\n",
            "* "
          ],
          "name": "stdout"
        }
      ]
    },
    {
      "cell_type": "markdown",
      "metadata": {
        "id": "jZeyJ7OLVG-a"
      },
      "source": [
        "プログラムをファイルにして読み込んで実行する実験。"
      ]
    },
    {
      "cell_type": "code",
      "metadata": {
        "colab": {
          "base_uri": "https://localhost:8080/"
        },
        "id": "0egHkuX8shrv",
        "outputId": "e212fd63-0e94-405e-b8e5-9609dcb94daf"
      },
      "source": [
        "%%writefile fact01.lisp\n",
        "(defun fact (n) (if (<= n 1) 1 (* n (fact (- n 1)))))"
      ],
      "execution_count": null,
      "outputs": [
        {
          "output_type": "stream",
          "text": [
            "Writing fact01.lisp\n"
          ],
          "name": "stdout"
        }
      ]
    },
    {
      "cell_type": "code",
      "metadata": {
        "colab": {
          "base_uri": "https://localhost:8080/"
        },
        "id": "uNC3CZjRs5Oo",
        "outputId": "869556b9-0248-4c6b-cfd9-0db4b1bf4150"
      },
      "source": [
        "%%script sbcl --noinform\n",
        "(load \"fact01\")\n",
        "(fact 10)"
      ],
      "execution_count": null,
      "outputs": [
        {
          "output_type": "stream",
          "text": [
            "* \n",
            "T\n",
            "* \n",
            "3628800\n",
            "* "
          ],
          "name": "stdout"
        }
      ]
    },
    {
      "cell_type": "code",
      "metadata": {
        "colab": {
          "base_uri": "https://localhost:8080/"
        },
        "id": "J78qD7MBzrWg",
        "outputId": "8abb4f4f-5b26-4344-b010-19118e40f5c8"
      },
      "source": [
        "%%script sbcl --noinform\n",
        "(+ 1 2 3 4 5)"
      ],
      "execution_count": null,
      "outputs": [
        {
          "output_type": "stream",
          "text": [
            "* \n",
            "15\n",
            "* "
          ],
          "name": "stdout"
        }
      ]
    },
    {
      "cell_type": "markdown",
      "metadata": {
        "id": "H3nFxg8C3pet"
      },
      "source": [
        "S式とはシンボル式 = Symbolic Expression 、 アトムかリスト。\n",
        "\n",
        "Lisp ではデータもプログラムもS式。\n"
      ]
    },
    {
      "cell_type": "code",
      "metadata": {
        "id": "0mG5Rn_FoNqb",
        "colab": {
          "base_uri": "https://localhost:8080/"
        },
        "outputId": "8c29c6b6-1435-4726-f415-6fc39440f79f"
      },
      "source": [
        "# コメントはセミコロン\r\n",
        "%%script sbcl --noinform\r\n",
        "(defun fact  ;; 関数定義 関数名\r\n",
        "    (n) ;; 引数名 型は宣言しない\r\n",
        "    (if ;; 条件分岐\r\n",
        "        (<= n 1) 1 ;; n が 1 以下ならば 1\r\n",
        "        (* n \r\n",
        "            (fact \r\n",
        "                (- n 1))))) ;; そうでなければ n と fact の再帰呼び出し\r\n",
        "\r\n",
        "(fact 10)"
      ],
      "execution_count": null,
      "outputs": [
        {
          "output_type": "stream",
          "text": [
            "* \n",
            "FACT\n",
            "* \n",
            "3628800\n",
            "* "
          ],
          "name": "stdout"
        }
      ]
    },
    {
      "cell_type": "code",
      "metadata": {
        "id": "u6uboH4DzIKK",
        "colab": {
          "base_uri": "https://localhost:8080/"
        },
        "outputId": "44a0f78e-e341-4815-c3e8-fd1b75ea3924"
      },
      "source": [
        "%%script sbcl --noinform\n",
        "(/ 7 2)\n",
        "(/ 7.0 2.0)\n",
        "(/ 7 2.0)\n",
        "(mod 7 2)\n",
        "(mod -7 2)"
      ],
      "execution_count": null,
      "outputs": [
        {
          "output_type": "stream",
          "text": [
            "* \n",
            "7/2\n",
            "* \n",
            "3.5\n",
            "* \n",
            "3.5\n",
            "* \n",
            "1\n",
            "* \n",
            "1\n",
            "* "
          ],
          "name": "stdout"
        }
      ]
    },
    {
      "cell_type": "code",
      "metadata": {
        "id": "Gtjj3GmgaM4F",
        "colab": {
          "base_uri": "https://localhost:8080/"
        },
        "outputId": "fa08b384-feae-4725-b625-c1420c66e3d8"
      },
      "source": [
        "%%script sbcl --noinform\n",
        "10\n",
        "\"this\"\n",
        "'(10 20)\n",
        "'(this)"
      ],
      "execution_count": null,
      "outputs": [
        {
          "output_type": "stream",
          "text": [
            "* \n",
            "10\n",
            "* \n",
            "\"this\"\n",
            "* \n",
            "(10 20)\n",
            "* \n",
            "(THIS)\n",
            "* "
          ],
          "name": "stdout"
        }
      ]
    },
    {
      "cell_type": "code",
      "metadata": {
        "id": "kd1Xvdh2bOkQ",
        "colab": {
          "base_uri": "https://localhost:8080/"
        },
        "outputId": "cbfd16eb-68d8-479b-9b1b-04375319820c"
      },
      "source": [
        "%%script sbcl --noinform\n",
        "\"こんにちは、世界!\"\n",
        "'(こんにちは、世界!)"
      ],
      "execution_count": null,
      "outputs": [
        {
          "output_type": "stream",
          "text": [
            "* \n",
            "\"こんにちは、世界!\"\n",
            "* \n",
            "(こんにちは、世界!)\n",
            "* "
          ],
          "name": "stdout"
        }
      ]
    },
    {
      "cell_type": "code",
      "metadata": {
        "id": "RpPEELCPbr1t",
        "colab": {
          "base_uri": "https://localhost:8080/"
        },
        "outputId": "d2ce19c8-415d-4d08-8029-d1946fce9c28"
      },
      "source": [
        "%%script sbcl --noinform\n",
        "(format t \"hello, world\")"
      ],
      "execution_count": 14,
      "outputs": [
        {
          "output_type": "stream",
          "text": [
            "* hello, world\n",
            "NIL\n",
            "* "
          ],
          "name": "stdout"
        }
      ]
    },
    {
      "cell_type": "code",
      "metadata": {
        "id": "_0bOM7fqWppH",
        "colab": {
          "base_uri": "https://localhost:8080/"
        },
        "outputId": "94b989f9-9a53-44cb-b8cf-e8c56a73a41b"
      },
      "source": [
        "%%writefile helloworld01.lisp\n",
        "(defun hello-world ()\n",
        "  (format t \"Hello, world!\"))"
      ],
      "execution_count": null,
      "outputs": [
        {
          "output_type": "stream",
          "text": [
            "Overwriting helloworld01.lisp\n"
          ],
          "name": "stdout"
        }
      ]
    },
    {
      "cell_type": "code",
      "metadata": {
        "id": "pIhv4IUiWW4k",
        "colab": {
          "base_uri": "https://localhost:8080/"
        },
        "outputId": "edd566b9-a3ab-4572-8ed6-725c14535b24"
      },
      "source": [
        "%%script sbcl --noinform\n",
        "(load \"helloworld01\")\n",
        "(hello-world)"
      ],
      "execution_count": null,
      "outputs": [
        {
          "output_type": "stream",
          "text": [
            "* \n",
            "T\n",
            "* Hello, world!\n",
            "NIL\n",
            "* "
          ],
          "name": "stdout"
        }
      ]
    },
    {
      "cell_type": "code",
      "metadata": {
        "id": "mPMjzikcWdE4",
        "outputId": "daa60bc8-b7ff-414c-e906-ad93c2a3498f",
        "colab": {
          "base_uri": "https://localhost:8080/"
        }
      },
      "source": [
        "# リスト : たらいまわし関数 (Common Lisp)\r\n",
        "%%script sbcl --noinform\r\n",
        "(defun tak (x y z)\r\n",
        "  (if (<= x y)\r\n",
        "      z\r\n",
        "    (tak (tak (1- x) y z)\r\n",
        "         (tak (1- y) z x)\r\n",
        "         (tak (1- z) x y))))\r\n",
        "\r\n",
        " (time (tak 22 11 0)) ;; Evaluation took: 5.788 seconds of real time"
      ],
      "execution_count": 18,
      "outputs": [
        {
          "output_type": "stream",
          "text": [
            "* \n",
            "TAK\n",
            "* \n",
            "Evaluation took:\n",
            "  5.788 seconds of real time\n",
            "  5.778039 seconds of total run time (5.776968 user, 0.001071 system)\n",
            "  99.83% CPU\n",
            "  13,312,318,506 processor cycles\n",
            "  0 bytes consed\n",
            "  \n",
            "11\n",
            "* "
          ],
          "name": "stdout"
        }
      ]
    },
    {
      "cell_type": "code",
      "metadata": {
        "id": "GeQ1XtYaCOn9",
        "outputId": "a414c92c-4526-4e82-ec9c-4dca204e359d",
        "colab": {
          "base_uri": "https://localhost:8080/"
        }
      },
      "source": [
        "# リスト : たらいまわし関数 (Common Lisp)\r\n",
        "%%script sbcl --noinform\r\n",
        "(defun tak (x y z)\r\n",
        "  (declare (type fixnum x y z)\r\n",
        "\t   (optimize (speed 3) (safety 0)))\r\n",
        "  (if (<= x y)\r\n",
        "      z\r\n",
        "    (tak (tak (1- x) y z)\r\n",
        "         (tak (1- y) z x)\r\n",
        "         (tak (1- z) x y))))\r\n",
        "\r\n",
        " (time (tak 22 11 0)) ;; Evaluation took: 1.649 seconds of real time"
      ],
      "execution_count": 19,
      "outputs": [
        {
          "output_type": "stream",
          "text": [
            "* \n",
            "TAK\n",
            "* \n",
            "Evaluation took:\n",
            "  1.649 seconds of real time\n",
            "  1.644780 seconds of total run time (1.643638 user, 0.001142 system)\n",
            "  99.76% CPU\n",
            "  3,792,937,463 processor cycles\n",
            "  0 bytes consed\n",
            "  \n",
            "11\n",
            "* "
          ],
          "name": "stdout"
        }
      ]
    },
    {
      "cell_type": "markdown",
      "metadata": {
        "id": "wpms7DUXBiiy"
      },
      "source": [
        "# いまここ"
      ]
    }
  ]
}