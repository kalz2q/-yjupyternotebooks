{
  "nbformat": 4,
  "nbformat_minor": 0,
  "metadata": {
    "colab": {
      "name": "lisp01.ipynb",
      "provenance": [],
      "toc_visible": true,
      "authorship_tag": "ABX9TyNqkiveh3XuOwjQYMJDtcC0",
      "include_colab_link": true
    },
    "kernelspec": {
      "name": "python3",
      "display_name": "Python 3"
    }
  },
  "cells": [
    {
      "cell_type": "markdown",
      "metadata": {
        "id": "view-in-github",
        "colab_type": "text"
      },
      "source": [
        "<a href=\"https://colab.research.google.com/github/kalz2q/mycolabnotebooks/blob/master/lisp01.ipynb\" target=\"_parent\"><img src=\"https://colab.research.google.com/assets/colab-badge.svg\" alt=\"Open In Colab\"/></a>"
      ]
    },
    {
      "cell_type": "markdown",
      "metadata": {
        "id": "kHww7tr6pYro"
      },
      "source": [
        "# メモ\n",
        "\n",
        "Colab でLisp/Scheme を学んでみよう、というアイデア。\n",
        "\n",
        "テキスト:   \n",
        "Practical Common Lisp http://www.gigamonkeys.com/book/"
      ]
    },
    {
      "cell_type": "markdown",
      "metadata": {
        "id": "ukvf7ZxNps7o"
      },
      "source": [
        "# Lisp のインストール"
      ]
    },
    {
      "cell_type": "markdown",
      "metadata": {
        "id": "C6tYDKwL6TjH"
      },
      "source": [
        "Colab の環境でインストールして使える処理系として sbcl と clisp を確認した。\n",
        "\n",
        "ここでは sbcl にしようと思う。\n",
        "\n",
        "インストールしたものはは消えてしまうので、毎回インストールする。\n",
        "\n",
        "消えているかどうかは、`sbcl --version` で確認できるが、消えていなければインストールがすぐ終わるので、毎回インストールでかまわない。"
      ]
    },
    {
      "cell_type": "code",
      "metadata": {
        "id": "C6uHlvChpxGs"
      },
      "source": [
        "%%capture\n",
        "!apt install sbcl"
      ],
      "execution_count": 1,
      "outputs": []
    },
    {
      "cell_type": "markdown",
      "metadata": {
        "id": "4GArhfBVvdbl"
      },
      "source": [
        "%%capture はアウトプット、出力を抑制して、画面に出さなくするもの。"
      ]
    },
    {
      "cell_type": "code",
      "metadata": {
        "colab": {
          "base_uri": "https://localhost:8080/"
        },
        "id": "mwJgXRokm1Wd",
        "outputId": "1e5fc890-c720-4565-9f39-95c966365e50"
      },
      "source": [
        "%%script sbcl\n",
        "(+ 2 3)"
      ],
      "execution_count": 13,
      "outputs": [
        {
          "output_type": "stream",
          "text": [
            "This is SBCL 1.4.5.debian, an implementation of ANSI Common Lisp.\n",
            "More information about SBCL is available at <http://www.sbcl.org/>.\n",
            "\n",
            "SBCL is free software, provided as is, with absolutely no warranty.\n",
            "It is mostly in the public domain; some portions are provided under\n",
            "BSD-style licenses.  See the CREDITS and COPYING files in the\n",
            "distribution for more information.\n",
            "* \n",
            "5\n",
            "* "
          ],
          "name": "stdout"
        }
      ]
    },
    {
      "cell_type": "markdown",
      "metadata": {
        "id": "0RI8GEZYsPpZ"
      },
      "source": [
        "うむむ、毎回 repl が立ち上がって終了するのはやっかいだが、とりあえず進もう。\n",
        "\n",
        "sbcl に --noinform というオプションをつけると起動時のメッセージが抑制されるので便利。 これでいいね。"
      ]
    },
    {
      "cell_type": "code",
      "metadata": {
        "colab": {
          "base_uri": "https://localhost:8080/"
        },
        "id": "wFK3swsXnBq-",
        "outputId": "761f9bed-a69f-4afb-ea33-dde1cbad8a2c"
      },
      "source": [
        "%%script sbcl --noinform\n",
        "(- 100 10 1)"
      ],
      "execution_count": 14,
      "outputs": [
        {
          "output_type": "stream",
          "text": [
            "* \n",
            "89\n",
            "* "
          ],
          "name": "stdout"
        }
      ]
    },
    {
      "cell_type": "markdown",
      "metadata": {
        "id": "jZeyJ7OLVG-a"
      },
      "source": [
        "プログラムをファイルにして読み込んで実行する実験。"
      ]
    },
    {
      "cell_type": "code",
      "metadata": {
        "colab": {
          "base_uri": "https://localhost:8080/"
        },
        "id": "0egHkuX8shrv",
        "outputId": "fb1b52e1-1928-4b95-8187-821f243daf5a"
      },
      "source": [
        "%%writefile fact01.lisp\n",
        "(defun fact (n) (if (<= n 1) 1 (* n (fact (- n 1)))))"
      ],
      "execution_count": 15,
      "outputs": [
        {
          "output_type": "stream",
          "text": [
            "Overwriting fact01.lisp\n"
          ],
          "name": "stdout"
        }
      ]
    },
    {
      "cell_type": "code",
      "metadata": {
        "colab": {
          "base_uri": "https://localhost:8080/"
        },
        "id": "uNC3CZjRs5Oo",
        "outputId": "6326e715-8f7f-4d9e-aae7-a7f20130e1f7"
      },
      "source": [
        "%%script sbcl --noinform\n",
        "(load \"fact01\")\n",
        "(fact 10)"
      ],
      "execution_count": 16,
      "outputs": [
        {
          "output_type": "stream",
          "text": [
            "* \n",
            "T\n",
            "* \n",
            "3628800\n",
            "* "
          ],
          "name": "stdout"
        }
      ]
    },
    {
      "cell_type": "code",
      "metadata": {
        "colab": {
          "base_uri": "https://localhost:8080/"
        },
        "id": "J78qD7MBzrWg",
        "outputId": "8abb4f4f-5b26-4344-b010-19118e40f5c8"
      },
      "source": [
        "%%script sbcl --noinform\n",
        "(+ 1 2 3 4 5)"
      ],
      "execution_count": 17,
      "outputs": [
        {
          "output_type": "stream",
          "text": [
            "* \n",
            "15\n",
            "* "
          ],
          "name": "stdout"
        }
      ]
    },
    {
      "cell_type": "code",
      "metadata": {
        "id": "ik0aNWwh26tu"
      },
      "source": [
        "%%script false\n",
        "(defun fact  # 関数定義 関数名\n",
        "    (n) # 引数名 型は宣言しない\n",
        "    (if # 条件分岐\n",
        "        (<= n 1) 1 # n が 1 以下ならば 1\n",
        "        (* n \n",
        "            (fact \n",
        "                (- n 1))))) # そうでなければ n と fact(n - 1) の再帰呼び出し"
      ],
      "execution_count": null,
      "outputs": []
    },
    {
      "cell_type": "markdown",
      "metadata": {
        "id": "H3nFxg8C3pet"
      },
      "source": [
        "S式とはシンボル式 = Symbolic Expression 、 アトムかリスト。\n",
        "\n",
        "Lisp ではデータもプログラムもS式。\n"
      ]
    },
    {
      "cell_type": "code",
      "metadata": {
        "id": "u6uboH4DzIKK",
        "colab": {
          "base_uri": "https://localhost:8080/"
        },
        "outputId": "44a0f78e-e341-4815-c3e8-fd1b75ea3924"
      },
      "source": [
        "%%script sbcl --noinform\n",
        "(/ 7 2)\n",
        "(/ 7.0 2.0)\n",
        "(/ 7 2.0)\n",
        "(mod 7 2)\n",
        "(mod -7 2)"
      ],
      "execution_count": 8,
      "outputs": [
        {
          "output_type": "stream",
          "text": [
            "* \n",
            "7/2\n",
            "* \n",
            "3.5\n",
            "* \n",
            "3.5\n",
            "* \n",
            "1\n",
            "* \n",
            "1\n",
            "* "
          ],
          "name": "stdout"
        }
      ]
    },
    {
      "cell_type": "code",
      "metadata": {
        "id": "Gtjj3GmgaM4F",
        "colab": {
          "base_uri": "https://localhost:8080/"
        },
        "outputId": "fa08b384-feae-4725-b625-c1420c66e3d8"
      },
      "source": [
        "%%script sbcl --noinform\n",
        "10\n",
        "\"this\"\n",
        "'(10 20)\n",
        "'(this)"
      ],
      "execution_count": 18,
      "outputs": [
        {
          "output_type": "stream",
          "text": [
            "* \n",
            "10\n",
            "* \n",
            "\"this\"\n",
            "* \n",
            "(10 20)\n",
            "* \n",
            "(THIS)\n",
            "* "
          ],
          "name": "stdout"
        }
      ]
    },
    {
      "cell_type": "code",
      "metadata": {
        "id": "kd1Xvdh2bOkQ",
        "colab": {
          "base_uri": "https://localhost:8080/"
        },
        "outputId": "cbfd16eb-68d8-479b-9b1b-04375319820c"
      },
      "source": [
        "%%script sbcl --noinform\n",
        "\"こんにちは、世界!\"\n",
        "'(こんにちは、世界!)"
      ],
      "execution_count": null,
      "outputs": [
        {
          "output_type": "stream",
          "text": [
            "* \n",
            "\"こんにちは、世界!\"\n",
            "* \n",
            "(こんにちは、世界!)\n",
            "* "
          ],
          "name": "stdout"
        }
      ]
    },
    {
      "cell_type": "code",
      "metadata": {
        "id": "RpPEELCPbr1t",
        "colab": {
          "base_uri": "https://localhost:8080/"
        },
        "outputId": "4e3da2e5-152a-4aec-b29d-0c16609d3a7b"
      },
      "source": [
        "%%script sbcl --noinform\n",
        "(format t \"hello, world\")"
      ],
      "execution_count": 19,
      "outputs": [
        {
          "output_type": "stream",
          "text": [
            "* hello, world\n",
            "NIL\n",
            "* "
          ],
          "name": "stdout"
        }
      ]
    },
    {
      "cell_type": "code",
      "metadata": {
        "id": "_0bOM7fqWppH",
        "outputId": "94b989f9-9a53-44cb-b8cf-e8c56a73a41b",
        "colab": {
          "base_uri": "https://localhost:8080/"
        }
      },
      "source": [
        "%%writefile helloworld01.lisp\n",
        "(defun hello-world ()\n",
        "  (format t \"Hello, world!\"))"
      ],
      "execution_count": 20,
      "outputs": [
        {
          "output_type": "stream",
          "text": [
            "Overwriting helloworld01.lisp\n"
          ],
          "name": "stdout"
        }
      ]
    },
    {
      "cell_type": "code",
      "metadata": {
        "id": "pIhv4IUiWW4k",
        "outputId": "edd566b9-a3ab-4572-8ed6-725c14535b24",
        "colab": {
          "base_uri": "https://localhost:8080/"
        }
      },
      "source": [
        "%%script sbcl --noinform\n",
        "(load \"helloworld01\")\n",
        "(hello-world)"
      ],
      "execution_count": 23,
      "outputs": [
        {
          "output_type": "stream",
          "text": [
            "* \n",
            "T\n",
            "* Hello, world!\n",
            "NIL\n",
            "* "
          ],
          "name": "stdout"
        }
      ]
    },
    {
      "cell_type": "code",
      "metadata": {
        "id": "mPMjzikcWdE4"
      },
      "source": [
        "\"\""
      ],
      "execution_count": null,
      "outputs": []
    },
    {
      "cell_type": "markdown",
      "metadata": {
        "id": "wpms7DUXBiiy"
      },
      "source": [
        "# いまここ"
      ]
    }
  ]
}
