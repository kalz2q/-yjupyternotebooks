{
  "nbformat": 4,
  "nbformat_minor": 0,
  "metadata": {
    "colab": {
      "name": "chartmathc01matrix.ipynb",
      "provenance": [],
      "authorship_tag": "ABX9TyMrFtfgXKxwvZYpj0jDFHJ9",
      "include_colab_link": true
    },
    "kernelspec": {
      "name": "python3",
      "display_name": "Python 3"
    }
  },
  "cells": [
    {
      "cell_type": "markdown",
      "metadata": {
        "id": "view-in-github",
        "colab_type": "text"
      },
      "source": [
        "<a href=\"https://colab.research.google.com/github/kalz2q/mycolabnotebooks/blob/master/chartmathc01matrix.ipynb\" target=\"_parent\"><img src=\"https://colab.research.google.com/assets/colab-badge.svg\" alt=\"Open In Colab\"/></a>"
      ]
    },
    {
      "cell_type": "markdown",
      "metadata": {
        "id": "EFL4eHCmi4nm"
      },
      "source": [
        "# メモ\r\n",
        "\r\n",
        "手元にある基礎からのチャート式数学Cの第1章行列を読む。"
      ]
    },
    {
      "cell_type": "markdown",
      "metadata": {
        "id": "0Ok8KVF9jQNl"
      },
      "source": [
        "いくつかの数や文字を長方形状に並べ、両側を括弧で囲んだものを行列といい、そのおのおの数や文字を成分という。 横の並びを行 row といい、縦の並びを列 column という。"
      ]
    },
    {
      "cell_type": "code",
      "metadata": {
        "colab": {
          "base_uri": "https://localhost:8080/",
          "height": 58
        },
        "id": "j7XeG0q1itFY",
        "outputId": "9ca2532e-b0be-4e63-f5c1-ef500185b9fd"
      },
      "source": [
        "from sympy import *\r\n",
        "init_printing\r\n",
        "Matrix([[1,2],[3,4]])"
      ],
      "execution_count": 7,
      "outputs": [
        {
          "output_type": "execute_result",
          "data": {
            "text/latex": "$\\displaystyle \\left[\\begin{matrix}1 & 2\\\\3 & 4\\end{matrix}\\right]$",
            "text/plain": [
              "Matrix([\n",
              "[1, 2],\n",
              "[3, 4]])"
            ]
          },
          "metadata": {
            "tags": []
          },
          "execution_count": 7
        }
      ]
    },
    {
      "cell_type": "code",
      "metadata": {
        "id": "iAX_mO-HlMus"
      },
      "source": [
        "# 上のコードセルで Matrix を小文字の matrix と書いたら NameError: name 'matrix' is not defined となった。\r\n",
        "# python の命名規則では関数、メソッドは小文字で始まるはずなので、たぶん意味のあることなのだろう。\r\n",
        "# 積分記号は Integral で積分命令は integrate なので、sympy 固有の規則なのだと思う。\r\n",
        "\r\n",
        "# 教科書では大括弧は `(`, `)` の大きいのであって鉤括弧 `[`, `]` ではない。 \r\n",
        "# cf. parentheses, brackets, braces"
      ],
      "execution_count": null,
      "outputs": []
    },
    {
      "cell_type": "code",
      "metadata": {
        "colab": {
          "base_uri": "https://localhost:8080/",
          "height": 58
        },
        "id": "dGBq02AgkZP7",
        "outputId": "7369c304-c583-44b7-9655-eb33f2739a32"
      },
      "source": [
        "Matrix([[1,2],[3,4]]) + Matrix([[1,1],[1,1]])"
      ],
      "execution_count": 9,
      "outputs": [
        {
          "output_type": "execute_result",
          "data": {
            "text/latex": "$\\displaystyle \\left[\\begin{matrix}2 & 3\\\\4 & 5\\end{matrix}\\right]$",
            "text/plain": [
              "Matrix([\n",
              "[2, 3],\n",
              "[4, 5]])"
            ]
          },
          "metadata": {
            "tags": []
          },
          "execution_count": 9
        }
      ]
    },
    {
      "cell_type": "code",
      "metadata": {
        "colab": {
          "base_uri": "https://localhost:8080/",
          "height": 58
        },
        "id": "tJaHEb9umN2y",
        "outputId": "2a5842ca-a75f-4e8a-ade5-fccd68b2ea09"
      },
      "source": [
        "a,b,c,d,e,f = symbols('a,b,c,d,e,f')\r\n",
        "Matrix([[a,b,c],[d,e,f]])"
      ],
      "execution_count": 12,
      "outputs": [
        {
          "output_type": "execute_result",
          "data": {
            "text/latex": "$\\displaystyle \\left[\\begin{matrix}a & b & c\\\\d & e & f\\end{matrix}\\right]$",
            "text/plain": [
              "Matrix([\n",
              "[a, b, c],\n",
              "[d, e, f]])"
            ]
          },
          "metadata": {
            "tags": []
          },
          "execution_count": 12
        }
      ]
    },
    {
      "cell_type": "code",
      "metadata": {
        "id": "uhp_HGz3nZ3J"
      },
      "source": [
        "# 上のコードセルで a b c を第1行、 d e f を第2行、a d を第1列、b e を第2列、c fを第3列という。"
      ],
      "execution_count": null,
      "outputs": []
    },
    {
      "cell_type": "code",
      "metadata": {
        "colab": {
          "base_uri": "https://localhost:8080/",
          "height": 39
        },
        "id": "vYk23MtsnvOB",
        "outputId": "2452773e-3b4f-41b4-d431-0a17b8e09f2e"
      },
      "source": [
        "Matrix([[a,b,c],[d,e,f]])[1,0]"
      ],
      "execution_count": 19,
      "outputs": [
        {
          "output_type": "execute_result",
          "data": {
            "text/latex": "$\\displaystyle d$",
            "text/plain": [
              "d"
            ]
          },
          "metadata": {
            "tags": []
          },
          "execution_count": 19
        }
      ]
    }
  ]
}