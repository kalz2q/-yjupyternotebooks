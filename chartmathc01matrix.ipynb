{
  "nbformat": 4,
  "nbformat_minor": 0,
  "metadata": {
    "colab": {
      "name": "chartmathc01matrix.ipynb",
      "provenance": [],
      "toc_visible": true,
      "authorship_tag": "ABX9TyNxff/YyToEDeWUQ4qDfLDH",
      "include_colab_link": true
    },
    "kernelspec": {
      "name": "python3",
      "display_name": "Python 3"
    }
  },
  "cells": [
    {
      "cell_type": "markdown",
      "metadata": {
        "id": "view-in-github",
        "colab_type": "text"
      },
      "source": [
        "<a href=\"https://colab.research.google.com/github/kalz2q/mycolabnotebooks/blob/master/chartmathc01matrix.ipynb\" target=\"_parent\"><img src=\"https://colab.research.google.com/assets/colab-badge.svg\" alt=\"Open In Colab\"/></a>"
      ]
    },
    {
      "cell_type": "markdown",
      "metadata": {
        "id": "EFL4eHCmi4nm"
      },
      "source": [
        "# メモ\r\n",
        "\r\n",
        "手元にある基礎からのチャート式数学Cの第1章行列を読む。"
      ]
    },
    {
      "cell_type": "markdown",
      "metadata": {
        "id": "0Ok8KVF9jQNl"
      },
      "source": [
        "いくつかの数や文字を長方形状に並べ、両側を括弧で囲んだものを行列といい、そのおのおの数や文字を成分という。 横の並びを行 row といい、縦の並びを列 column という。"
      ]
    },
    {
      "cell_type": "code",
      "metadata": {
        "colab": {
          "base_uri": "https://localhost:8080/",
          "height": 58
        },
        "id": "j7XeG0q1itFY",
        "outputId": "5611e347-4e5e-4c35-dc26-c7d4a49d5965"
      },
      "source": [
        "from sympy import *\r\n",
        "init_printing\r\n",
        "Matrix([[1,2],[3,4]])"
      ],
      "execution_count": 1,
      "outputs": [
        {
          "output_type": "execute_result",
          "data": {
            "text/latex": "$\\displaystyle \\left[\\begin{matrix}1 & 2\\\\3 & 4\\end{matrix}\\right]$",
            "text/plain": [
              "Matrix([\n",
              "[1, 2],\n",
              "[3, 4]])"
            ]
          },
          "metadata": {
            "tags": []
          },
          "execution_count": 1
        }
      ]
    },
    {
      "cell_type": "code",
      "metadata": {
        "id": "iAX_mO-HlMus"
      },
      "source": [
        "# 上のコードセルで Matrix を小文字の matrix と書いたら NameError: name 'matrix' is not defined となった。\r\n",
        "# python の命名規則では関数、メソッドは小文字で始まるはずなので、たぶん意味のあることなのだろう。\r\n",
        "# 積分記号は Integral で積分命令は integrate なので、sympy 固有の規則なのだと思う。\r\n",
        "\r\n",
        "# 教科書では大括弧は `(`, `)` の大きいのであって鉤括弧 `[`, `]` ではない。 \r\n",
        "# cf. parentheses, brackets, braces"
      ],
      "execution_count": 2,
      "outputs": []
    },
    {
      "cell_type": "code",
      "metadata": {
        "colab": {
          "base_uri": "https://localhost:8080/",
          "height": 58
        },
        "id": "dGBq02AgkZP7",
        "outputId": "a6cd2937-9f68-4f96-c859-6ce64c96552c"
      },
      "source": [
        "Matrix([[1,2],[3,4]]) + Matrix([[1,1],[1,1]])"
      ],
      "execution_count": 3,
      "outputs": [
        {
          "output_type": "execute_result",
          "data": {
            "text/latex": "$\\displaystyle \\left[\\begin{matrix}2 & 3\\\\4 & 5\\end{matrix}\\right]$",
            "text/plain": [
              "Matrix([\n",
              "[2, 3],\n",
              "[4, 5]])"
            ]
          },
          "metadata": {
            "tags": []
          },
          "execution_count": 3
        }
      ]
    },
    {
      "cell_type": "code",
      "metadata": {
        "colab": {
          "base_uri": "https://localhost:8080/",
          "height": 58
        },
        "id": "tJaHEb9umN2y",
        "outputId": "fc692dcb-0853-428b-d45c-dfeefeaa43b1"
      },
      "source": [
        "a,b,c,d,e,f = symbols('a,b,c,d,e,f')\r\n",
        "Matrix([[a,b,c],[d,e,f]])"
      ],
      "execution_count": 4,
      "outputs": [
        {
          "output_type": "execute_result",
          "data": {
            "text/latex": "$\\displaystyle \\left[\\begin{matrix}a & b & c\\\\d & e & f\\end{matrix}\\right]$",
            "text/plain": [
              "Matrix([\n",
              "[a, b, c],\n",
              "[d, e, f]])"
            ]
          },
          "metadata": {
            "tags": []
          },
          "execution_count": 4
        }
      ]
    },
    {
      "cell_type": "code",
      "metadata": {
        "id": "uhp_HGz3nZ3J"
      },
      "source": [
        "# 上のコードセルで a b c を第1行、 d e f を第2行、a d を第1列、b e を第2列、c fを第3列という。"
      ],
      "execution_count": 5,
      "outputs": []
    },
    {
      "cell_type": "code",
      "metadata": {
        "colab": {
          "base_uri": "https://localhost:8080/",
          "height": 39
        },
        "id": "vYk23MtsnvOB",
        "outputId": "b7c98c83-069e-4946-9f72-d53fbbb101c1"
      },
      "source": [
        "from sympy import *\r\n",
        "init_printing\r\n",
        "a,b,c,d,e,f = symbols('a,b,c,d,e,f')\r\n",
        "Matrix([[a,b,c],[d,e,f]])[0,0]"
      ],
      "execution_count": 6,
      "outputs": [
        {
          "output_type": "execute_result",
          "data": {
            "text/latex": "$\\displaystyle a$",
            "text/plain": [
              "a"
            ]
          },
          "metadata": {
            "tags": []
          },
          "execution_count": 6
        }
      ]
    },
    {
      "cell_type": "code",
      "metadata": {
        "id": "JxhBOGS82JB0",
        "colab": {
          "base_uri": "https://localhost:8080/",
          "height": 39
        },
        "outputId": "212df0ae-c18c-4f1f-d91d-ab03af85b92a"
      },
      "source": [
        "Matrix([[a,b,c],[d,e,f]])[5]"
      ],
      "execution_count": 7,
      "outputs": [
        {
          "output_type": "execute_result",
          "data": {
            "text/latex": "$\\displaystyle f$",
            "text/plain": [
              "f"
            ]
          },
          "metadata": {
            "tags": []
          },
          "execution_count": 7
        }
      ]
    },
    {
      "cell_type": "code",
      "metadata": {
        "id": "yw-ATE7n2Ps9",
        "colab": {
          "base_uri": "https://localhost:8080/",
          "height": 39
        },
        "outputId": "9c432ae6-6b67-4db3-f8ea-e235204b9162"
      },
      "source": [
        "Matrix([[a,b,c],[d,e,f]])[1,2]"
      ],
      "execution_count": 8,
      "outputs": [
        {
          "output_type": "execute_result",
          "data": {
            "text/latex": "$\\displaystyle f$",
            "text/plain": [
              "f"
            ]
          },
          "metadata": {
            "tags": []
          },
          "execution_count": 8
        }
      ]
    },
    {
      "cell_type": "code",
      "metadata": {
        "id": "YTOZYRKc2SOD"
      },
      "source": [
        "# 上のコードで、Matrix([[a,b,c],[d,e,f]])[1,2] で f が取れた。\r\n",
        "# Matrix([[a,b,c],[d,e,f]])[1][2] ではダメ。\r\n",
        "# 行だけ、列だけ、を取り出すにはどうすればよいか。"
      ],
      "execution_count": 9,
      "outputs": []
    },
    {
      "cell_type": "code",
      "metadata": {
        "id": "eph3c1pH2f4K",
        "colab": {
          "base_uri": "https://localhost:8080/",
          "height": 39
        },
        "outputId": "7af257b9-341b-4203-ace3-b2d1dfa6e5a9"
      },
      "source": [
        "Matrix([[a,b],[c,d],[e,f]])[2,1]"
      ],
      "execution_count": 10,
      "outputs": [
        {
          "output_type": "execute_result",
          "data": {
            "text/latex": "$\\displaystyle f$",
            "text/plain": [
              "f"
            ]
          },
          "metadata": {
            "tags": []
          },
          "execution_count": 10
        }
      ]
    },
    {
      "cell_type": "markdown",
      "metadata": {
        "id": "P53flyQA3ODz"
      },
      "source": [
        "行列 $A$、$B$ について、$A=B$ であることは、$A$ と $B$ が同じ型でり、対応する成分がそれぞれ等しい。"
      ]
    },
    {
      "cell_type": "markdown",
      "metadata": {
        "id": "M8vUdjCbaolh"
      },
      "source": [
        "$\\LaTeX$ を使ってみる。\r\n",
        "\r\n",
        "$m \\times n$ 行列"
      ]
    },
    {
      "cell_type": "code",
      "metadata": {
        "id": "0YUfwgk-bMZx",
        "outputId": "5322753d-1273-4d56-efeb-d4b531272e98",
        "colab": {
          "base_uri": "https://localhost:8080/",
          "height": 98
        }
      },
      "source": [
        "%%latex\r\n",
        "\r\n",
        "\\begin{pmatrix}\r\n",
        "    a_{11} & a_{12} & \\ldots & a_{1n} \\\\\r\n",
        "    a_{21} & a_{22} & \\ldots & a_{2n} \\\\\r\n",
        "    \\ldots & \\ldots & \\ldots & \\ldots \\\\\r\n",
        "    a_{m1} & a_{m2} & \\ldots & a_{mn}\r\n",
        "\\end{pmatrix}"
      ],
      "execution_count": 13,
      "outputs": [
        {
          "output_type": "display_data",
          "data": {
            "text/latex": "\n\\begin{pmatrix}\n    a_{11} & a_{12} & \\ldots & a_{1n} \\\\\n    a_{21} & a_{22} & \\ldots & a_{2n} \\\\\n    \\ldots & \\ldots & \\ldots & \\ldots \\\\\n    a_{m1} & a_{m2} & \\ldots & a_{mn}\n\\end{pmatrix}",
            "text/plain": [
              "<IPython.core.display.Latex object>"
            ]
          },
          "metadata": {
            "tags": []
          }
        }
      ]
    },
    {
      "cell_type": "code",
      "metadata": {
        "id": "LzE37I_K20i7",
        "colab": {
          "base_uri": "https://localhost:8080/",
          "height": 89
        },
        "outputId": "5053f34c-b579-44ba-9e00-0a65c7d5c477"
      },
      "source": [
        "%%latex\r\n",
        "\r\n",
        "\\begin{pmatrix}\r\n",
        "    a_{11} & \\ldots & a_{1n} \\\\\r\n",
        "    \\vdots & \\ddots & \\vdots \\\\\r\n",
        "    a_{m1} & \\ldots & a_{mn}\r\n",
        "\\end{pmatrix}"
      ],
      "execution_count": 11,
      "outputs": [
        {
          "output_type": "display_data",
          "data": {
            "text/latex": "\n\\begin{pmatrix}\n    a_{11} & \\ldots & a_{1n} \\\\\n    \\vdots & \\ddots & \\vdots \\\\\n    a_{m1} & \\ldots & a_{mn}\n\\end{pmatrix}",
            "text/plain": [
              "<IPython.core.display.Latex object>"
            ]
          },
          "metadata": {
            "tags": []
          }
        }
      ]
    }
  ]
}