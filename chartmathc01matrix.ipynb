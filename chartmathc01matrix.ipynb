{
  "nbformat": 4,
  "nbformat_minor": 0,
  "metadata": {
    "colab": {
      "name": "chartmathc01matrix.ipynb",
      "provenance": [],
      "toc_visible": true,
      "authorship_tag": "ABX9TyNO2ldm4cYJuMmD9rJtGHSG",
      "include_colab_link": true
    },
    "kernelspec": {
      "name": "python3",
      "display_name": "Python 3"
    }
  },
  "cells": [
    {
      "cell_type": "markdown",
      "metadata": {
        "id": "view-in-github",
        "colab_type": "text"
      },
      "source": [
        "<a href=\"https://colab.research.google.com/github/kalz2q/mycolabnotebooks/blob/master/chartmathc01matrix.ipynb\" target=\"_parent\"><img src=\"https://colab.research.google.com/assets/colab-badge.svg\" alt=\"Open In Colab\"/></a>"
      ]
    },
    {
      "cell_type": "markdown",
      "metadata": {
        "id": "EFL4eHCmi4nm"
      },
      "source": [
        "# メモ\r\n",
        "\r\n",
        "手元にある基礎からのチャート式数学Cの第1章行列を読む。"
      ]
    },
    {
      "cell_type": "markdown",
      "metadata": {
        "id": "0Ok8KVF9jQNl"
      },
      "source": [
        "いくつかの数や文字を長方形状に並べ、両側を括弧で囲んだものを行列といい、そのおのおの数や文字を成分という。 横の並びを行 row といい、縦の並びを列 column という。"
      ]
    },
    {
      "cell_type": "code",
      "metadata": {
        "id": "bTlvnoO7YR-R",
        "outputId": "27578c2a-e540-494d-eade-06a79ab649c5",
        "colab": {
          "base_uri": "https://localhost:8080/",
          "height": 58
        }
      },
      "source": [
        "%%latex\r\n",
        "\\begin{pmatrix}\r\n",
        "    a & b & c \\\\\r\n",
        "    d & e & f \\\\\r\n",
        "\\end{pmatrix}"
      ],
      "execution_count": 2,
      "outputs": [
        {
          "output_type": "display_data",
          "data": {
            "text/latex": "\n\\begin{pmatrix}\n    a & b & c \\\\\n    d & e & f \\\\\n\\end{pmatrix}",
            "text/plain": [
              "<IPython.core.display.Latex object>"
            ]
          },
          "metadata": {
            "tags": []
          }
        }
      ]
    },
    {
      "cell_type": "code",
      "metadata": {
        "id": "dn7t2ALiYZ-p"
      },
      "source": [
        "# 上のコードセルの出力で a b c を第1行、 d e f を第2行、a d を第1列、b e を第2列、c fを第3列という。"
      ],
      "execution_count": null,
      "outputs": []
    },
    {
      "cell_type": "code",
      "metadata": {
        "colab": {
          "base_uri": "https://localhost:8080/",
          "height": 58
        },
        "id": "j7XeG0q1itFY",
        "outputId": "5611e347-4e5e-4c35-dc26-c7d4a49d5965"
      },
      "source": [
        "from sympy import *\r\n",
        "init_printing\r\n",
        "Matrix([[1,2],[3,4]])"
      ],
      "execution_count": null,
      "outputs": [
        {
          "output_type": "execute_result",
          "data": {
            "text/latex": "$\\displaystyle \\left[\\begin{matrix}1 & 2\\\\3 & 4\\end{matrix}\\right]$",
            "text/plain": [
              "Matrix([\n",
              "[1, 2],\n",
              "[3, 4]])"
            ]
          },
          "metadata": {
            "tags": []
          },
          "execution_count": 1
        }
      ]
    },
    {
      "cell_type": "code",
      "metadata": {
        "id": "iAX_mO-HlMus"
      },
      "source": [
        "# 上のコードセルで Matrix を小文字の matrix と書いたら NameError: name 'matrix' is not defined となった。\r\n",
        "# python の命名規則では関数、メソッドは小文字で始まるはずなので、たぶん sympy 固有の規則なのだと思う。\r\n",
        "# 積分記号は Integral で積分命令は integrate 。\r\n",
        "\r\n",
        "# テキストで行列の括弧は `(`, `)` の大きいのであって鉤括弧 `[`, `]` ではない。 \r\n",
        "# cf. parentheses, brackets, braces"
      ],
      "execution_count": null,
      "outputs": []
    },
    {
      "cell_type": "code",
      "metadata": {
        "colab": {
          "base_uri": "https://localhost:8080/",
          "height": 58
        },
        "id": "dGBq02AgkZP7",
        "outputId": "a6cd2937-9f68-4f96-c859-6ce64c96552c"
      },
      "source": [
        "Matrix([[1,2],[3,4]]) + Matrix([[1,1],[1,1]])"
      ],
      "execution_count": null,
      "outputs": [
        {
          "output_type": "execute_result",
          "data": {
            "text/latex": "$\\displaystyle \\left[\\begin{matrix}2 & 3\\\\4 & 5\\end{matrix}\\right]$",
            "text/plain": [
              "Matrix([\n",
              "[2, 3],\n",
              "[4, 5]])"
            ]
          },
          "metadata": {
            "tags": []
          },
          "execution_count": 3
        }
      ]
    },
    {
      "cell_type": "code",
      "metadata": {
        "colab": {
          "base_uri": "https://localhost:8080/",
          "height": 58
        },
        "id": "tJaHEb9umN2y",
        "outputId": "fc692dcb-0853-428b-d45c-dfeefeaa43b1"
      },
      "source": [
        "a,b,c,d,e,f = symbols('a,b,c,d,e,f')\r\n",
        "Matrix([[a,b,c],[d,e,f]])"
      ],
      "execution_count": null,
      "outputs": [
        {
          "output_type": "execute_result",
          "data": {
            "text/latex": "$\\displaystyle \\left[\\begin{matrix}a & b & c\\\\d & e & f\\end{matrix}\\right]$",
            "text/plain": [
              "Matrix([\n",
              "[a, b, c],\n",
              "[d, e, f]])"
            ]
          },
          "metadata": {
            "tags": []
          },
          "execution_count": 4
        }
      ]
    },
    {
      "cell_type": "code",
      "metadata": {
        "colab": {
          "base_uri": "https://localhost:8080/",
          "height": 39
        },
        "id": "vYk23MtsnvOB",
        "outputId": "b7c98c83-069e-4946-9f72-d53fbbb101c1"
      },
      "source": [
        "# 成分の数え方が数学と python では違う。\r\n",
        "from sympy import *\r\n",
        "init_printing\r\n",
        "a,b,c,d,e,f = symbols('a,b,c,d,e,f')\r\n",
        "Matrix([[a,b,c],[d,e,f]])[0,0]"
      ],
      "execution_count": null,
      "outputs": [
        {
          "output_type": "execute_result",
          "data": {
            "text/latex": "$\\displaystyle a$",
            "text/plain": [
              "a"
            ]
          },
          "metadata": {
            "tags": []
          },
          "execution_count": 6
        }
      ]
    },
    {
      "cell_type": "code",
      "metadata": {
        "id": "JxhBOGS82JB0",
        "colab": {
          "base_uri": "https://localhost:8080/",
          "height": 39
        },
        "outputId": "212df0ae-c18c-4f1f-d91d-ab03af85b92a"
      },
      "source": [
        "Matrix([[a,b,c],[d,e,f]])[5]"
      ],
      "execution_count": null,
      "outputs": [
        {
          "output_type": "execute_result",
          "data": {
            "text/latex": "$\\displaystyle f$",
            "text/plain": [
              "f"
            ]
          },
          "metadata": {
            "tags": []
          },
          "execution_count": 7
        }
      ]
    },
    {
      "cell_type": "code",
      "metadata": {
        "id": "yw-ATE7n2Ps9",
        "colab": {
          "base_uri": "https://localhost:8080/",
          "height": 39
        },
        "outputId": "9c432ae6-6b67-4db3-f8ea-e235204b9162"
      },
      "source": [
        "Matrix([[a,b,c],[d,e,f]])[1,2]"
      ],
      "execution_count": null,
      "outputs": [
        {
          "output_type": "execute_result",
          "data": {
            "text/latex": "$\\displaystyle f$",
            "text/plain": [
              "f"
            ]
          },
          "metadata": {
            "tags": []
          },
          "execution_count": 8
        }
      ]
    },
    {
      "cell_type": "code",
      "metadata": {
        "id": "YTOZYRKc2SOD"
      },
      "source": [
        "# 上のコードセルで、Matrix([[a,b,c],[d,e,f]])[1,2] で f が取れた。\r\n",
        "# Matrix([[a,b,c],[d,e,f]])[1][2] ではダメ。\r\n",
        "# 行だけ、列だけ、を取り出すにはどうすればよいか。"
      ],
      "execution_count": null,
      "outputs": []
    },
    {
      "cell_type": "code",
      "metadata": {
        "id": "eph3c1pH2f4K",
        "colab": {
          "base_uri": "https://localhost:8080/",
          "height": 39
        },
        "outputId": "7af257b9-341b-4203-ace3-b2d1dfa6e5a9"
      },
      "source": [
        "Matrix([[a,b],[c,d],[e,f]])[2,1]"
      ],
      "execution_count": null,
      "outputs": [
        {
          "output_type": "execute_result",
          "data": {
            "text/latex": "$\\displaystyle f$",
            "text/plain": [
              "f"
            ]
          },
          "metadata": {
            "tags": []
          },
          "execution_count": 10
        }
      ]
    },
    {
      "cell_type": "markdown",
      "metadata": {
        "id": "P53flyQA3ODz"
      },
      "source": [
        "行列 $A$、$B$ について、$A=B$ であることは、$A$ と $B$ が同じ型でり、対応する成分がそれぞれ等しい。"
      ]
    },
    {
      "cell_type": "markdown",
      "metadata": {
        "id": "M8vUdjCbaolh"
      },
      "source": [
        "$m \\times n$ 行列"
      ]
    },
    {
      "cell_type": "code",
      "metadata": {
        "id": "0YUfwgk-bMZx",
        "colab": {
          "base_uri": "https://localhost:8080/",
          "height": 98
        },
        "outputId": "5322753d-1273-4d56-efeb-d4b531272e98"
      },
      "source": [
        "%%latex\r\n",
        "\\begin{pmatrix}\r\n",
        "    a_{11} & a_{12} & \\ldots & a_{1n} \\\\\r\n",
        "    a_{21} & a_{22} & \\ldots & a_{2n} \\\\\r\n",
        "    \\ldots & \\ldots & \\ldots & \\ldots \\\\\r\n",
        "    a_{m1} & a_{m2} & \\ldots & a_{mn}\r\n",
        "\\end{pmatrix}"
      ],
      "execution_count": null,
      "outputs": [
        {
          "output_type": "display_data",
          "data": {
            "text/latex": "\n\\begin{pmatrix}\n    a_{11} & a_{12} & \\ldots & a_{1n} \\\\\n    a_{21} & a_{22} & \\ldots & a_{2n} \\\\\n    \\ldots & \\ldots & \\ldots & \\ldots \\\\\n    a_{m1} & a_{m2} & \\ldots & a_{mn}\n\\end{pmatrix}",
            "text/plain": [
              "<IPython.core.display.Latex object>"
            ]
          },
          "metadata": {
            "tags": []
          }
        }
      ]
    },
    {
      "cell_type": "code",
      "metadata": {
        "id": "LzE37I_K20i7",
        "colab": {
          "base_uri": "https://localhost:8080/",
          "height": 89
        },
        "outputId": "5053f34c-b579-44ba-9e00-0a65c7d5c477"
      },
      "source": [
        "%%latex\r\n",
        "\\begin{pmatrix}\r\n",
        "    a_{11} & \\ldots & a_{1n} \\\\\r\n",
        "    \\vdots & \\ddots & \\vdots \\\\\r\n",
        "    a_{m1} & \\ldots & a_{mn}\r\n",
        "\\end{pmatrix}"
      ],
      "execution_count": null,
      "outputs": [
        {
          "output_type": "display_data",
          "data": {
            "text/latex": "\n\\begin{pmatrix}\n    a_{11} & \\ldots & a_{1n} \\\\\n    \\vdots & \\ddots & \\vdots \\\\\n    a_{m1} & \\ldots & a_{mn}\n\\end{pmatrix}",
            "text/plain": [
              "<IPython.core.display.Latex object>"
            ]
          },
          "metadata": {
            "tags": []
          }
        }
      ]
    },
    {
      "cell_type": "code",
      "metadata": {
        "id": "GsAzdxgLZqPf",
        "outputId": "80c601e9-b7cd-4864-a7ef-b80c9a82b41f",
        "colab": {
          "base_uri": "https://localhost:8080/",
          "height": 58
        }
      },
      "source": [
        "# 2次の正方行列\r\n",
        "%%latex\r\n",
        "A =\r\n",
        "\\begin{pmatrix}\r\n",
        "    1 & 0 \\\\\r\n",
        "    2 & -3\r\n",
        "\\end{pmatrix}"
      ],
      "execution_count": 5,
      "outputs": [
        {
          "output_type": "display_data",
          "data": {
            "text/latex": "A =\n\\begin{pmatrix}\n    1 & 0 \\\\\n    2 & -3\n\\end{pmatrix}",
            "text/plain": [
              "<IPython.core.display.Latex object>"
            ]
          },
          "metadata": {
            "tags": []
          }
        }
      ]
    },
    {
      "cell_type": "code",
      "metadata": {
        "id": "_pO_k_7KaGDg",
        "outputId": "497c65be-73b0-4015-87fa-b3ceed00d2cb",
        "colab": {
          "base_uri": "https://localhost:8080/",
          "height": 39
        }
      },
      "source": [
        "# 3次の行ベクトル\r\n",
        "%%latex\r\n",
        "B =\r\n",
        "\\begin{pmatrix}\r\n",
        "    1 & 2 & 3\\\\\r\n",
        "\\end{pmatrix}"
      ],
      "execution_count": 6,
      "outputs": [
        {
          "output_type": "display_data",
          "data": {
            "text/latex": "B =\n\\begin{pmatrix}\n    1 & 2 & 3\\\\\n\\end{pmatrix}",
            "text/plain": [
              "<IPython.core.display.Latex object>"
            ]
          },
          "metadata": {
            "tags": []
          }
        }
      ]
    },
    {
      "cell_type": "code",
      "metadata": {
        "id": "iLt8vAUqadB3",
        "outputId": "b73a5729-7f23-47b5-a55c-cc7436380bbf",
        "colab": {
          "base_uri": "https://localhost:8080/",
          "height": 58
        }
      },
      "source": [
        "# 2次の列ベクトル\r\n",
        "%%latex\r\n",
        "C =\r\n",
        "\\begin{pmatrix}\r\n",
        "    -1 \\\\\r\n",
        "    1\r\n",
        "\\end{pmatrix}"
      ],
      "execution_count": 7,
      "outputs": [
        {
          "output_type": "display_data",
          "data": {
            "text/latex": "C =\n\\begin{pmatrix}\n    -1 \\\\\n    1\n\\end{pmatrix}",
            "text/plain": [
              "<IPython.core.display.Latex object>"
            ]
          },
          "metadata": {
            "tags": []
          }
        }
      ]
    },
    {
      "cell_type": "code",
      "metadata": {
        "id": "osbBEIh1bVA-",
        "outputId": "45735768-4536-42d3-ce26-ffa993874523",
        "colab": {
          "base_uri": "https://localhost:8080/",
          "height": 58
        }
      },
      "source": [
        "# 行列の和・差・実数倍\r\n",
        "%%latex\r\n",
        "\\begin{pmatrix}\r\n",
        "    a & b \\\\\r\n",
        "    c & d\r\n",
        "\\end{pmatrix}\r\n",
        "+\r\n",
        "\\begin{pmatrix}\r\n",
        "    p & q \\\\\r\n",
        "    r & s\r\n",
        "\\end{pmatrix}\r\n",
        "=\r\n",
        "\\begin{pmatrix}\r\n",
        "    a+p & b+q \\\\\r\n",
        "    c+r& d+s\r\n",
        "\\end{pmatrix}"
      ],
      "execution_count": 11,
      "outputs": [
        {
          "output_type": "display_data",
          "data": {
            "text/latex": "\\begin{pmatrix}\n    a & b \\\\\n    c & d\n\\end{pmatrix}\n+\n\\begin{pmatrix}\n    p & q \\\\\n    r & s\n\\end{pmatrix}\n=\n\\begin{pmatrix}\n    a+p & b+q \\\\\n    c+r& d+s\n\\end{pmatrix}",
            "text/plain": [
              "<IPython.core.display.Latex object>"
            ]
          },
          "metadata": {
            "tags": []
          }
        }
      ]
    },
    {
      "cell_type": "code",
      "metadata": {
        "id": "EsijJTgab8xN",
        "outputId": "c97072d0-492a-4c79-9d90-26446e59bc87",
        "colab": {
          "base_uri": "https://localhost:8080/",
          "height": 58
        }
      },
      "source": [
        "%%latex\r\n",
        "\\begin{pmatrix}\r\n",
        "    a & b \\\\\r\n",
        "    c & d\r\n",
        "\\end{pmatrix}\r\n",
        "-\r\n",
        "\\begin{pmatrix}\r\n",
        "    p & q \\\\\r\n",
        "    r & s\r\n",
        "\\end{pmatrix}\r\n",
        "=\r\n",
        "\\begin{pmatrix}\r\n",
        "    a-p & b-q \\\\\r\n",
        "    c-r& d-s\r\n",
        "\\end{pmatrix}"
      ],
      "execution_count": 12,
      "outputs": [
        {
          "output_type": "display_data",
          "data": {
            "text/latex": "\\begin{pmatrix}\n    a & b \\\\\n    c & d\n\\end{pmatrix}\n-\n\\begin{pmatrix}\n    p & q \\\\\n    r & s\n\\end{pmatrix}\n=\n\\begin{pmatrix}\n    a-p & b-q \\\\\n    c-r& d-s\n\\end{pmatrix}",
            "text/plain": [
              "<IPython.core.display.Latex object>"
            ]
          },
          "metadata": {
            "tags": []
          }
        }
      ]
    },
    {
      "cell_type": "code",
      "metadata": {
        "id": "3bJXlPZQcGT8",
        "outputId": "0b523f48-5810-42bb-a186-2a127c2acd73",
        "colab": {
          "base_uri": "https://localhost:8080/",
          "height": 58
        }
      },
      "source": [
        "%%latex\r\n",
        "k\r\n",
        "\\begin{pmatrix}\r\n",
        "    a & b \\\\\r\n",
        "    c & d\r\n",
        "\\end{pmatrix}\r\n",
        "=\r\n",
        "\\begin{pmatrix}\r\n",
        "    ka & kb \\\\\r\n",
        "    kc & kd\r\n",
        "\\end{pmatrix}\r\n",
        "\\quad k \\ は実数"
      ],
      "execution_count": 16,
      "outputs": [
        {
          "output_type": "display_data",
          "data": {
            "text/latex": "k\n\\begin{pmatrix}\n    a & b \\\\\n    c & d\n\\end{pmatrix}\n=\n\\begin{pmatrix}\n    ka & kb \\\\\n    kc & kd\n\\end{pmatrix}\n\\quad k \\ は実数",
            "text/plain": [
              "<IPython.core.display.Latex object>"
            ]
          },
          "metadata": {
            "tags": []
          }
        }
      ]
    },
    {
      "cell_type": "code",
      "metadata": {
        "id": "5Wq0ppaochdl",
        "outputId": "d5203c9e-c51c-41c7-bcc9-f9f1b5f5add6",
        "colab": {
          "base_uri": "https://localhost:8080/",
          "height": 58
        }
      },
      "source": [
        "%%latex\r\n",
        "特に \\quad\r\n",
        "-\r\n",
        "\\begin{pmatrix}\r\n",
        "    a & b \\\\\r\n",
        "    c & d\r\n",
        "\\end{pmatrix}\r\n",
        "=\r\n",
        "\\begin{pmatrix}\r\n",
        "    -a & -b \\\\\r\n",
        "    -c & -d\r\n",
        "\\end{pmatrix}"
      ],
      "execution_count": 17,
      "outputs": [
        {
          "output_type": "display_data",
          "data": {
            "text/latex": "特に \\quad\n-\n\\begin{pmatrix}\n    a & b \\\\\n    c & d\n\\end{pmatrix}\n=\n\\begin{pmatrix}\n    -a & -b \\\\\n    -c & -d\n\\end{pmatrix}",
            "text/plain": [
              "<IPython.core.display.Latex object>"
            ]
          },
          "metadata": {
            "tags": []
          }
        }
      ]
    },
    {
      "cell_type": "code",
      "metadata": {
        "id": "TmwD4sE7cvoM",
        "outputId": "bb36a034-e1a7-4f84-bb89-16bb6b07d61e",
        "colab": {
          "base_uri": "https://localhost:8080/",
          "height": 170
        }
      },
      "source": [
        "# 行列の和・差・実数倍の性質\r\n",
        "%%latex\r\n",
        "同じ型の行列の和や差について、次のことが成り立つ。 k, \\ l \\ は実数とする。 \\\\\r\n",
        "1.\\ 交換法則 \\quad A+B=B+A \\\\\r\n",
        "2.\\ 結合法則 \\quad (A+B)+C=A+(B+C) \\quad \\longleftarrow \\quad A+B+C \\ と書く。\\\\\r\n",
        "3.\\ 零行列 \\ O \\quad A+(-A)=O, \\quad A+O=A, \\quad A-A=O \\\\\r\n",
        "4.\\ 差と和 \\quad \\quad A-B=A+(-B) \\\\\r\n",
        "5.\\ 実数倍 \\quad \\quad 1A=A, \\quad (-1)A=-A, \\quad 0A=O, \\quad kO=O \\\\\r\n",
        "\\quad [1]\\quad k(lA)=(kl)A \\quad [2]\\quad (k+l)A=kA+lA \\quad [3]\\quad k(A+B)=kA+kB"
      ],
      "execution_count": 36,
      "outputs": [
        {
          "output_type": "display_data",
          "data": {
            "text/latex": "同じ型の行列の和や差について、次のことが成り立つ。 k, \\ l \\ は実数とする。 \\\\\n1.\\ 交換法則 \\quad A+B=B+A \\\\\n2.\\ 結合法則 \\quad (A+B)+C=A+(B+C) \\quad \\longleftarrow \\quad A+B+C \\ と書く。\\\\\n3.\\ 零行列 \\ O \\quad A+(-A)=O, \\quad A+O=A, \\quad A-A=O \\\\\n4.\\ 差と和 \\quad \\quad A-B=A+(-B) \\\\\n5.\\ 実数倍 \\quad \\quad 1A=A, \\quad (-1)A=-A, \\quad 0A=O, \\quad kO=O \\\\\n\\quad [1]\\quad k(lA)=(kl)A \\quad [2]\\quad (k+l)A=kA+lA \\quad [3]\\quad k(A+B)=kA+kB",
            "text/plain": [
              "<IPython.core.display.Latex object>"
            ]
          },
          "metadata": {
            "tags": []
          }
        }
      ]
    },
    {
      "cell_type": "code",
      "metadata": {
        "id": "DH35ROi0Zyxn"
      },
      "source": [
        "# いまここ\r\n",
        "p.10"
      ],
      "execution_count": null,
      "outputs": []
    },
    {
      "cell_type": "markdown",
      "metadata": {
        "id": "Bkz_RNxcul3f"
      },
      "source": [
        "# いまここ"
      ]
    }
  ]
}