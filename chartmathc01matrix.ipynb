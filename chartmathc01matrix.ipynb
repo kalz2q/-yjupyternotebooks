{
  "nbformat": 4,
  "nbformat_minor": 0,
  "metadata": {
    "colab": {
      "name": "chartmathc01matrix.ipynb",
      "provenance": [],
      "toc_visible": true,
      "authorship_tag": "ABX9TyMg4N1XOwlzT3PaeYeAJ98O",
      "include_colab_link": true
    },
    "kernelspec": {
      "name": "python3",
      "display_name": "Python 3"
    }
  },
  "cells": [
    {
      "cell_type": "markdown",
      "metadata": {
        "id": "view-in-github",
        "colab_type": "text"
      },
      "source": [
        "<a href=\"https://colab.research.google.com/github/kalz2q/mycolabnotebooks/blob/master/chartmathc01matrix.ipynb\" target=\"_parent\"><img src=\"https://colab.research.google.com/assets/colab-badge.svg\" alt=\"Open In Colab\"/></a>"
      ]
    },
    {
      "cell_type": "markdown",
      "metadata": {
        "id": "EFL4eHCmi4nm"
      },
      "source": [
        "# メモ\r\n",
        "\r\n",
        "手元にある基礎からのチャート式数学Cの第1章行列を読む。"
      ]
    },
    {
      "cell_type": "markdown",
      "metadata": {
        "id": "0Ok8KVF9jQNl"
      },
      "source": [
        "いくつかの数や文字を長方形状に並べ、両側を括弧で囲んだものを行列といい、そのおのおの数や文字を成分という。 横の並びを行 row といい、縦の並びを列 column という。"
      ]
    },
    {
      "cell_type": "code",
      "metadata": {
        "colab": {
          "base_uri": "https://localhost:8080/",
          "height": 58
        },
        "id": "j7XeG0q1itFY",
        "outputId": "9ca2532e-b0be-4e63-f5c1-ef500185b9fd"
      },
      "source": [
        "from sympy import *\r\n",
        "init_printing\r\n",
        "Matrix([[1,2],[3,4]])"
      ],
      "execution_count": null,
      "outputs": [
        {
          "output_type": "execute_result",
          "data": {
            "text/latex": "$\\displaystyle \\left[\\begin{matrix}1 & 2\\\\3 & 4\\end{matrix}\\right]$",
            "text/plain": [
              "Matrix([\n",
              "[1, 2],\n",
              "[3, 4]])"
            ]
          },
          "metadata": {
            "tags": []
          },
          "execution_count": 7
        }
      ]
    },
    {
      "cell_type": "code",
      "metadata": {
        "id": "iAX_mO-HlMus"
      },
      "source": [
        "# 上のコードセルで Matrix を小文字の matrix と書いたら NameError: name 'matrix' is not defined となった。\r\n",
        "# python の命名規則では関数、メソッドは小文字で始まるはずなので、たぶん意味のあることなのだろう。\r\n",
        "# 積分記号は Integral で積分命令は integrate なので、sympy 固有の規則なのだと思う。\r\n",
        "\r\n",
        "# 教科書では大括弧は `(`, `)` の大きいのであって鉤括弧 `[`, `]` ではない。 \r\n",
        "# cf. parentheses, brackets, braces"
      ],
      "execution_count": null,
      "outputs": []
    },
    {
      "cell_type": "code",
      "metadata": {
        "colab": {
          "base_uri": "https://localhost:8080/",
          "height": 58
        },
        "id": "dGBq02AgkZP7",
        "outputId": "7369c304-c583-44b7-9655-eb33f2739a32"
      },
      "source": [
        "Matrix([[1,2],[3,4]]) + Matrix([[1,1],[1,1]])"
      ],
      "execution_count": null,
      "outputs": [
        {
          "output_type": "execute_result",
          "data": {
            "text/latex": "$\\displaystyle \\left[\\begin{matrix}2 & 3\\\\4 & 5\\end{matrix}\\right]$",
            "text/plain": [
              "Matrix([\n",
              "[2, 3],\n",
              "[4, 5]])"
            ]
          },
          "metadata": {
            "tags": []
          },
          "execution_count": 9
        }
      ]
    },
    {
      "cell_type": "code",
      "metadata": {
        "colab": {
          "base_uri": "https://localhost:8080/",
          "height": 58
        },
        "id": "tJaHEb9umN2y",
        "outputId": "2a5842ca-a75f-4e8a-ade5-fccd68b2ea09"
      },
      "source": [
        "a,b,c,d,e,f = symbols('a,b,c,d,e,f')\r\n",
        "Matrix([[a,b,c],[d,e,f]])"
      ],
      "execution_count": null,
      "outputs": [
        {
          "output_type": "execute_result",
          "data": {
            "text/latex": "$\\displaystyle \\left[\\begin{matrix}a & b & c\\\\d & e & f\\end{matrix}\\right]$",
            "text/plain": [
              "Matrix([\n",
              "[a, b, c],\n",
              "[d, e, f]])"
            ]
          },
          "metadata": {
            "tags": []
          },
          "execution_count": 12
        }
      ]
    },
    {
      "cell_type": "code",
      "metadata": {
        "id": "uhp_HGz3nZ3J"
      },
      "source": [
        "# 上のコードセルで a b c を第1行、 d e f を第2行、a d を第1列、b e を第2列、c fを第3列という。"
      ],
      "execution_count": null,
      "outputs": []
    },
    {
      "cell_type": "code",
      "metadata": {
        "colab": {
          "base_uri": "https://localhost:8080/",
          "height": 39
        },
        "id": "vYk23MtsnvOB",
        "outputId": "02fcba0c-dd4d-41c4-eaa0-a620b7419086"
      },
      "source": [
        "from sympy import *\r\n",
        "init_printing\r\n",
        "a,b,c,d,e,f = symbols('a,b,c,d,e,f')\r\n",
        "Matrix([[a,b,c],[d,e,f]])[0,0]"
      ],
      "execution_count": 2,
      "outputs": [
        {
          "output_type": "execute_result",
          "data": {
            "text/latex": "$\\displaystyle a$",
            "text/plain": [
              "a"
            ]
          },
          "metadata": {
            "tags": []
          },
          "execution_count": 2
        }
      ]
    },
    {
      "cell_type": "code",
      "metadata": {
        "id": "JxhBOGS82JB0",
        "outputId": "5f811736-c773-4333-c7c2-a05cf57afd73",
        "colab": {
          "base_uri": "https://localhost:8080/",
          "height": 39
        }
      },
      "source": [
        "Matrix([[a,b,c],[d,e,f]])[5]"
      ],
      "execution_count": 5,
      "outputs": [
        {
          "output_type": "execute_result",
          "data": {
            "text/latex": "$\\displaystyle f$",
            "text/plain": [
              "f"
            ]
          },
          "metadata": {
            "tags": []
          },
          "execution_count": 5
        }
      ]
    },
    {
      "cell_type": "code",
      "metadata": {
        "id": "yw-ATE7n2Ps9",
        "outputId": "89e5bd3c-cb89-462a-fd97-bf70b5205d58",
        "colab": {
          "base_uri": "https://localhost:8080/",
          "height": 39
        }
      },
      "source": [
        "Matrix([[a,b,c],[d,e,f]])[1,2]"
      ],
      "execution_count": 6,
      "outputs": [
        {
          "output_type": "execute_result",
          "data": {
            "text/latex": "$\\displaystyle f$",
            "text/plain": [
              "f"
            ]
          },
          "metadata": {
            "tags": []
          },
          "execution_count": 6
        }
      ]
    },
    {
      "cell_type": "code",
      "metadata": {
        "id": "YTOZYRKc2SOD"
      },
      "source": [
        "# 上のコードで、Matrix([[a,b,c],[d,e,f]])[1,2] で f が取れた。\r\n",
        "# Matrix([[a,b,c],[d,e,f]])[1][2] ではダメ。\r\n",
        "# 行だけ、列だけ、を取り出すにはどうすればよいか。"
      ],
      "execution_count": null,
      "outputs": []
    },
    {
      "cell_type": "code",
      "metadata": {
        "id": "eph3c1pH2f4K",
        "outputId": "cf155b8e-c2fc-4015-e032-104c210d3747",
        "colab": {
          "base_uri": "https://localhost:8080/",
          "height": 39
        }
      },
      "source": [
        "Matrix([[a,b],[c,d],[e,f]])[2,1]"
      ],
      "execution_count": 9,
      "outputs": [
        {
          "output_type": "execute_result",
          "data": {
            "text/latex": "$\\displaystyle f$",
            "text/plain": [
              "f"
            ]
          },
          "metadata": {
            "tags": []
          },
          "execution_count": 9
        }
      ]
    },
    {
      "cell_type": "markdown",
      "metadata": {
        "id": "P53flyQA3ODz"
      },
      "source": [
        "行列 $A$、$B$ について、$A=B$ であることは、$A$ と $B$ が同じ型でり、対応する成分がそれぞれ等しい。"
      ]
    },
    {
      "cell_type": "code",
      "metadata": {
        "id": "LzE37I_K20i7",
        "outputId": "9f6f2820-59e4-454f-8954-ce0a74c6cfe9",
        "colab": {
          "base_uri": "https://localhost:8080/",
          "height": 173
        }
      },
      "source": [
        ""
      ],
      "execution_count": 10,
      "outputs": [
        {
          "output_type": "error",
          "ename": "TypeError",
          "evalue": "ignored",
          "traceback": [
            "\u001b[0;31m---------------------------------------------------------------------------\u001b[0m",
            "\u001b[0;31mTypeError\u001b[0m                                 Traceback (most recent call last)",
            "\u001b[0;32m<ipython-input-10-00ff0f64c52b>\u001b[0m in \u001b[0;36m<module>\u001b[0;34m()\u001b[0m\n\u001b[0;32m----> 1\u001b[0;31m \u001b[0mMatrix\u001b[0m\u001b[0;34m(\u001b[0m\u001b[0;34m[\u001b[0m\u001b[0;34m[\u001b[0m\u001b[0ma\u001b[0m\u001b[0;34m,\u001b[0m\u001b[0mb\u001b[0m\u001b[0;34m]\u001b[0m\u001b[0;34m,\u001b[0m\u001b[0;34m[\u001b[0m\u001b[0mc\u001b[0m\u001b[0;34m,\u001b[0m\u001b[0md\u001b[0m\u001b[0;34m]\u001b[0m\u001b[0;34m,\u001b[0m\u001b[0;34m[\u001b[0m\u001b[0me\u001b[0m\u001b[0;34m,\u001b[0m\u001b[0mf\u001b[0m\u001b[0;34m]\u001b[0m\u001b[0;34m]\u001b[0m\u001b[0;34m)\u001b[0m\u001b[0;34m[\u001b[0m\u001b[0;36m2\u001b[0m\u001b[0;34m]\u001b[0m\u001b[0;34m[\u001b[0m\u001b[0;36m1\u001b[0m\u001b[0;34m]\u001b[0m\u001b[0;34m\u001b[0m\u001b[0;34m\u001b[0m\u001b[0m\n\u001b[0m",
            "\u001b[0;31mTypeError\u001b[0m: 'Symbol' object is not subscriptable"
          ]
        }
      ]
    }
  ]
}