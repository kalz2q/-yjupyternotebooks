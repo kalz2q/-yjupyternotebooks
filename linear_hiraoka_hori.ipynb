{
  "nbformat": 4,
  "nbformat_minor": 0,
  "metadata": {
    "colab": {
      "name": "linear_hiraoka_hori.ipynb",
      "provenance": [],
      "authorship_tag": "ABX9TyMEfncv4Zqa3pxH5xD3YSNS",
      "include_colab_link": true
    },
    "kernelspec": {
      "name": "python3",
      "display_name": "Python 3"
    }
  },
  "cells": [
    {
      "cell_type": "markdown",
      "metadata": {
        "id": "view-in-github",
        "colab_type": "text"
      },
      "source": [
        "<a href=\"https://colab.research.google.com/github/kalz2q/mycolabnotebooks/blob/master/linear_hiraoka_hori.ipynb\" target=\"_parent\"><img src=\"https://colab.research.google.com/assets/colab-badge.svg\" alt=\"Open In Colab\"/></a>"
      ]
    },
    {
      "cell_type": "code",
      "metadata": {
        "id": "rtYOsjAqQ8Dm"
      },
      "source": [
        ""
      ],
      "execution_count": null,
      "outputs": []
    },
    {
      "cell_type": "markdown",
      "metadata": {
        "id": "YkXeTUJ-Q836"
      },
      "source": [
        "# メモ\r\n",
        "\r\n",
        "プログラミングのための線形代数 linear algebra for computer science ひらおかかずゆき 平岡和幸 ほりげん 堀玄\r\n",
        "\r\n",
        "https://www.ohmsha.co.jp/book/9784274065781/\r\n",
        "\r\n",
        "\r\n",
        "mat_anim.rb\r\n",
        "\r\n",
        "いまはここで見るのがオーケー。\r\n",
        "\r\n",
        "プログラミングのための線形代数・確率統計 非公式サポートページ\r\n",
        "\r\n",
        "http://www10.plala.or.jp/xyzt/lacs/\r\n",
        "\r\n",
        "gnuplot を使っているので、matplotlib に書き直す必要がありそう。\r\n",
        "\r\n",
        "cf. https://kiito.hatenablog.com/entry/2013/12/05/123522\r\n",
        "\r\n",
        "全体的にbuby, gnuplot, maxima, xlispstat という日本の理系の大学の雰囲気なので、\r\n",
        "\r\n",
        "これを\r\n",
        "\r\n",
        "python , matplotlib, sympy, padas に変えなければならない。 おっけーですね。"
      ]
    }
  ]
}