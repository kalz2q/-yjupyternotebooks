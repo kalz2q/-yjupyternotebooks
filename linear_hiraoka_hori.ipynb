{
  "nbformat": 4,
  "nbformat_minor": 0,
  "metadata": {
    "colab": {
      "name": "linear_hiraoka_hori.ipynb",
      "provenance": [],
      "authorship_tag": "ABX9TyMN7gF07Nsxg1uwesVwnP1Y",
      "include_colab_link": true
    },
    "kernelspec": {
      "name": "python3",
      "display_name": "Python 3"
    }
  },
  "cells": [
    {
      "cell_type": "markdown",
      "metadata": {
        "id": "view-in-github",
        "colab_type": "text"
      },
      "source": [
        "<a href=\"https://colab.research.google.com/github/kalz2q/mycolabnotebooks/blob/master/linear_hiraoka_hori.ipynb\" target=\"_parent\"><img src=\"https://colab.research.google.com/assets/colab-badge.svg\" alt=\"Open In Colab\"/></a>"
      ]
    },
    {
      "cell_type": "markdown",
      "metadata": {
        "id": "YkXeTUJ-Q836"
      },
      "source": [
        "# メモ\r\n",
        "\r\n",
        "プログラミングのための線形代数 linear algebra for computer science ひらおかかずゆき 平岡和幸 ほりげん 堀玄\r\n",
        "\r\n",
        "を読む\r\n"
      ]
    },
    {
      "cell_type": "code",
      "metadata": {
        "id": "ajqr1vFsRxPY"
      },
      "source": [
        "# メモ\r\n",
        "# プログラミングのための線形代数 linear algebra for computer science ひらおかかずゆき 平岡和幸 ほりげん 堀玄\r\n",
        "# 出版社のサポートサイト https://www.ohmsha.co.jp/book/9784274065781/ でプログラムをダウンロードできる。\r\n",
        "# mat_anim.rb は動かないので、著者のサイトプログラミングのための線形代数・確率統計 非公式サポートページ\r\n",
        "# http://www10.plala.or.jp/xyzt/lacs/\r\n",
        "# に行くと gif でアニメーションが見れる。 参考になる。\r\n",
        "\r\n",
        "# 本全体は ruby, gnuplot, maxima, xlispstat(統計) で書かれているので、ruby は python に\r\n",
        "# gnuplot は matplotlib に、maxima は sympy に書き直して読む必要がありそう。\r\n",
        "# xlispstat はR言語になるのか、xlispstatのまま読むのかわからない。\r\n",
        "\r\n",
        "# matplotlib については過去にすこし勉強した。 matplotlib01.ipynb、matplotlibtutorials.ipynb。 \r\n",
        "# cf. https://kiito.hatenablog.com/entry/2013/12/05/123522\r\n",
        "\r\n",
        "# というのがいまの考えだが、日本の理系の大学院ではたぶん ruby, gnuplot, maxima, xlispstat なのだろうから、それで行くのもいいかもしれない。"
      ],
      "execution_count": null,
      "outputs": []
    },
    {
      "cell_type": "markdown",
      "metadata": {
        "id": "apx2MSZdV2u1"
      },
      "source": [
        "行列は単なる数字の表ではありません。$m \\times n$ 行列 $A$ には、$n$次元空間から $m$次元空間への写像という意味がある。\r\n",
        "\r\n",
        "具体的には、$n$次元空間の点 $x$ ($n$次元縦ベクトル) を $m$次元縦ベクトル) $Ax$ に写す写像である。\r\n",
        "\r\n",
        "この写像を観察して、ランク・行列式・固有値・対角化などの意味を明らかにする。"
      ]
    }
  ]
}