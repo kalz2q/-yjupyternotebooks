{
  "nbformat": 4,
  "nbformat_minor": 0,
  "metadata": {
    "colab": {
      "name": "linear_kimuratatsuo.ipynb",
      "provenance": [],
      "authorship_tag": "ABX9TyMvWhcTutS3sVSST0+3/9Gb",
      "include_colab_link": true
    },
    "kernelspec": {
      "name": "python3",
      "display_name": "Python 3"
    }
  },
  "cells": [
    {
      "cell_type": "markdown",
      "metadata": {
        "id": "view-in-github",
        "colab_type": "text"
      },
      "source": [
        "<a href=\"https://colab.research.google.com/github/kalz2q/mycolabnotebooks/blob/master/linear_kimuratatsuo.ipynb\" target=\"_parent\"><img src=\"https://colab.research.google.com/assets/colab-badge.svg\" alt=\"Open In Colab\"/></a>"
      ]
    },
    {
      "cell_type": "code",
      "metadata": {
        "id": "tKBHkBF29KjU"
      },
      "source": [
        ""
      ],
      "execution_count": null,
      "outputs": []
    },
    {
      "cell_type": "markdown",
      "metadata": {
        "id": "Tp1Wdzei9L2a"
      },
      "source": [
        "\r\n",
        "\r\n",
        "明解 線形代数改訂版 木村達雄 日本評論社 \r\n",
        "\r\n",
        "を読む。"
      ]
    },
    {
      "cell_type": "code",
      "metadata": {
        "id": "__0WxMiK9YYv"
      },
      "source": [
        "# 数ベクトルと行列\r\n",
        "# 平面ベクトル\r\n",
        "実数の全体を\\ \\mathrm{R}"
      ],
      "execution_count": null,
      "outputs": []
    }
  ]
}