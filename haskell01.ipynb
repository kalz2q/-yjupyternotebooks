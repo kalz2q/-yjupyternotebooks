{
  "nbformat": 4,
  "nbformat_minor": 0,
  "metadata": {
    "colab": {
      "name": "haskell01.ipynb",
      "provenance": [],
      "toc_visible": true,
      "authorship_tag": "ABX9TyNF/RcWxlB06KcJSLo9AX9N",
      "include_colab_link": true
    },
    "kernelspec": {
      "name": "python3",
      "display_name": "Python 3"
    }
  },
  "cells": [
    {
      "cell_type": "markdown",
      "metadata": {
        "id": "view-in-github",
        "colab_type": "text"
      },
      "source": [
        "<a href=\"https://colab.research.google.com/github/kalz2q/mycolabnotebooks/blob/master/haskell01.ipynb\" target=\"_parent\"><img src=\"https://colab.research.google.com/assets/colab-badge.svg\" alt=\"Open In Colab\"/></a>"
      ]
    },
    {
      "cell_type": "markdown",
      "metadata": {
        "id": "JZqM1qwx2bFV",
        "colab_type": "text"
      },
      "source": [
        "# メモ\n",
        "\n",
        "1. Colabの環境を利用して Haskellを勉強する。\n",
        "1. 読者は別途自分の環境に Haskellをインストールして対話環境 `ghci` を立ち上げていて、このファイルはColabで開いていることを想定する。\n",
        "1. プログラムについて、Haskell と Python の両方で動かすことによって理解を深める。\n",
        "1. とりあえずは Haskell の入門書や入門サイトからサンプルプログラムを入力してみる。\n",
        "1. https://wiki.haskell.org/Haskell入門_5ステップ\n",
        "1. 10分で学ぶHaskell (https://wiki.haskell.org/10分で学ぶHaskell) <= いまここ\n",
        "1. Learn You A Haskell For Great Good! (http://learnyouahaskell.com/)\n",
        "1. A Gentle Introduction to Haskell (https://www.haskell.org/tutorial/)\n",
        "1. Yet Another Haskell Tutorial (http://users.umiacs.umd.edu/~hal/docs/daume02yaht.pdf)\n",
        "</br>\n",
        "</br>\n"
      ]
    },
    {
      "cell_type": "markdown",
      "metadata": {
        "id": "Cz8cTr9Gfqsm",
        "colab_type": "text"
      },
      "source": [
        "# Haskell のインストールについて\n",
        "\n",
        "わたしの環境の hakell は次のようなインストールで、stack によるインストールは使っていない。\n",
        "\n",
        "> sudo apt-get install haskell-platform  \n",
        "\n",
        "これにより、ghc と ghci と cabal はインストールされた。\n",
        "\n",
        "対話環境は ghci とタイプして立ち上げる。\n",
        "\n",
        "stack は別途、\n",
        "\n",
        "> sudo apt install haskell-stack  \n",
        "\n",
        "でインストールできる。 まだやっていない。\n",
        "\n",
        "cabal と ghc のバージョンは。\n",
        "\n",
        "> cabal-install version 2.4.0.0  \n",
        ">   \n",
        "> The Glorious Glasgow Haskell Compilation System, version 8.6.5  \n",
        "\n",
        "自分の今の理解: haskell-platform と haskell-stack をインストールしても、stackをインストールして、stack から haskell をインストールしても同じ。 現在は、haskell.org は前者を推奨。なぜならわかりやすいから。少なくとも Linux (Ubuntu) では。\n",
        "</br>\n",
        "</br>\n",
        "</br>"
      ]
    },
    {
      "cell_type": "markdown",
      "metadata": {
        "colab_type": "text",
        "id": "qDls8QaSf18L"
      },
      "source": [
        "# マックの等幅フォント\n",
        "\n",
        "マックでこのサイトを開いたらスペースの処理がおかしい、インデントが揃っていない、ので調べたら等幅フォントが Osaka なのを例えば Ricty Diminished などの他の等幅フォントにすればいい、と書いてあったので google-chrome の設定で変えたら、大丈夫になった。オッケー!!!!\n",
        "\n",
        "上の Test.hs の引用や、コードセルで、putStrLn の p と x <- readLn の x が揃っていなかったらフォントをチェックしてみること。\n",
        "\n"
      ]
    },
    {
      "cell_type": "markdown",
      "metadata": {
        "id": "lGwlosYB_IW4",
        "colab_type": "text"
      },
      "source": [
        "# はじめに\n",
        "\n",
        "はじめにすこし実験。\n",
        "\n",
        "> Prelude> \"Hello, World!\"  \n",
        "> \"Hello, World!\"  \n"
      ]
    },
    {
      "cell_type": "code",
      "metadata": {
        "id": "GB-qmhO5gBvV",
        "colab_type": "code",
        "colab": {}
      },
      "source": [
        "Prelude> \"Hello, World!\"  \n",
        "\"Hello, World!\"  "
      ],
      "execution_count": null,
      "outputs": []
    },
    {
      "cell_type": "markdown",
      "metadata": {
        "id": "-VqZEOXlgWzU",
        "colab_type": "text"
      },
      "source": [
        "ghci 対話環境のコピーを colab に貼り付ける際、"
      ]
    },
    {
      "cell_type": "code",
      "metadata": {
        "id": "wQLaoIt5_fdD",
        "colab_type": "code",
        "colab": {
          "base_uri": "https://localhost:8080/",
          "height": 35
        },
        "outputId": "dd814f34-6b50-4f90-e49c-876daa265379"
      },
      "source": [
        "# Python \n",
        "\n",
        "\"Hello, World\""
      ],
      "execution_count": null,
      "outputs": [
        {
          "output_type": "execute_result",
          "data": {
            "application/vnd.google.colaboratory.intrinsic+json": {
              "type": "string"
            },
            "text/plain": [
              "'Hello, World'"
            ]
          },
          "metadata": {
            "tags": []
          },
          "execution_count": 1
        }
      ]
    },
    {
      "cell_type": "markdown",
      "metadata": {
        "id": "ZBaOsWtP_nC7",
        "colab_type": "text"
      },
      "source": [
        "この辺は動きは同じみたい。\n",
        "\n",
        "Haskellの対話型環境のプロンプトは`Prelude>`で、Pythonは`>>>`。\n",
        "\n",
        "> Prelude> putStrLn \"Hello World\"  \n",
        "> Hello World  "
      ]
    },
    {
      "cell_type": "code",
      "metadata": {
        "id": "gV6ihn64AFnp",
        "colab_type": "code",
        "colab": {
          "base_uri": "https://localhost:8080/",
          "height": 34
        },
        "outputId": "b7750231-819e-4dd5-cb53-1af96ce332ab"
      },
      "source": [
        "print (\"Hello\")"
      ],
      "execution_count": null,
      "outputs": [
        {
          "output_type": "stream",
          "text": [
            "Hello\n"
          ],
          "name": "stdout"
        }
      ]
    },
    {
      "cell_type": "markdown",
      "metadata": {
        "id": "ViF69Gd1AQy_",
        "colab_type": "text"
      },
      "source": [
        "えっと、Haskellは`putStrLn`で、Pythonがなぜ`print`か。Haskellにも`print`はあったし、改行も自動で入る。まあいいか。改行コードをエスケープで入れたときの挙動とかが違う。\n",
        "\n",
        ">Prelude> print \"Haskell\\nand\\nPython\"  \n",
        ">\"Haskell\\nand\\nPython\"  \n",
        ">Prelude> putStrLn \"Haskell\\nand\\nPython\"  \n",
        ">Haskell  \n",
        ">and  \n",
        ">Python  \n",
        "\n",
        "カッコのあるなしは、ポリシーの違いというより、全体の設計なので、これはどっちでもいいけどそれぞれの言語で統一されていればいい。Pythonが関数全部にカッコが要るようになったのは `Python 3` 以降なので威張れたものではない。\n",
        "\n",
        "\n",
        "> Prelude> let fac n = if n == 0 then 1 else n * fac (n-1)\n",
        "> Prelude> fac 5  \n",
        "> 120  \n",
        " \n",
        "  \n",
        "うむ。階乗を計算する関数を作っている。ちょっと実験以上かもしれない。\n",
        "\n",
        "しかし、やってみよう。"
      ]
    },
    {
      "cell_type": "code",
      "metadata": {
        "id": "ZB9pZ3HRB17P",
        "colab_type": "code",
        "colab": {
          "base_uri": "https://localhost:8080/",
          "height": 34
        },
        "outputId": "72489f06-b351-434c-af4b-c08ceb709124"
      },
      "source": [
        "def fac (n) :\n",
        "    if n == 0 :\n",
        "        return 1\n",
        "    else :\n",
        "        return n * fac (n - 1)\n",
        "\n",
        "fac (5)"
      ],
      "execution_count": null,
      "outputs": [
        {
          "output_type": "execute_result",
          "data": {
            "text/plain": [
              "120"
            ]
          },
          "metadata": {
            "tags": []
          },
          "execution_count": 10
        }
      ]
    },
    {
      "cell_type": "markdown",
      "metadata": {
        "id": "w5wAydKX2cYY",
        "colab_type": "text"
      },
      "source": [
        "ま、とりあえずできたということで。\n",
        "\n",
        "Pythonに確か一行で書く書き方があったと思う。"
      ]
    },
    {
      "cell_type": "code",
      "metadata": {
        "id": "hF8Ft7ExEOsn",
        "colab_type": "code",
        "colab": {
          "base_uri": "https://localhost:8080/",
          "height": 34
        },
        "outputId": "7feeb042-c7fc-4614-d781-d46bbfa0b76a"
      },
      "source": [
        "def fac (n) :\n",
        "    return 1 if n == 0 else n * fac(n - 1)\n",
        "\n",
        "fac(5)"
      ],
      "execution_count": null,
      "outputs": [
        {
          "output_type": "execute_result",
          "data": {
            "text/plain": [
              "120"
            ]
          },
          "metadata": {
            "tags": []
          },
          "execution_count": 6
        }
      ]
    },
    {
      "cell_type": "markdown",
      "metadata": {
        "id": "rEZTqC08FVKf",
        "colab_type": "text"
      },
      "source": [
        "`ternary operator` 三項演算子と言うらしい。\n",
        "\n",
        "`n`を大きくすると、Haskell は大丈夫だけど Python は落ちる。エラーになる。比較の階層が深すぎるって。この辺は素のままでは最適化されていないみたい。\n",
        "\n",
        "Haskellではパターンマッチングを使って次のように書く方が普通かもしれない。\n",
        "\n",
        "> fac 0 = 1  \n",
        "> fac n = n * fac (n-1)  \n",
        ">   \n",
        "> main = print (fac 42)  \n"
      ]
    },
    {
      "cell_type": "markdown",
      "metadata": {
        "id": "gbJVKth8h6c4",
        "colab_type": "text"
      },
      "source": [
        "さすがこれはPythonにはないか。\n",
        "\n",
        "並列化プログラミングとかも飛ばそう。いまどきPythonにもあるかもしれないし。"
      ]
    },
    {
      "cell_type": "markdown",
      "metadata": {
        "id": "Eh0YyntvF0O-",
        "colab_type": "text"
      },
      "source": [
        "# 四則演算"
      ]
    },
    {
      "cell_type": "markdown",
      "metadata": {
        "id": "xrXWasfNF4tO",
        "colab_type": "text"
      },
      "source": [
        "\n",
        "> Prelude> 3 * 5  \n",
        "> 15  \n",
        "> Prelude> 4 ^ 2 - 1  \n",
        "> 15  \n",
        "> Prelude> (1 - 5)^(3 * 2 - 4)  \n",
        "> 16  \n"
      ]
    },
    {
      "cell_type": "code",
      "metadata": {
        "id": "p-t3ybJWj1ol",
        "colab_type": "code",
        "colab": {
          "base_uri": "https://localhost:8080/",
          "height": 67
        },
        "outputId": "54e2b19a-f167-4fec-8d62-31c8fd226e0c"
      },
      "source": [
        "print (3 * 5)\n",
        "print (4 ** 2 - 1)\n",
        "print ((1 - 5) ** (3 * 2 - 4))"
      ],
      "execution_count": null,
      "outputs": [
        {
          "output_type": "stream",
          "text": [
            "15\n",
            "15\n",
            "16\n"
          ],
          "name": "stdout"
        }
      ]
    },
    {
      "cell_type": "markdown",
      "metadata": {
        "id": "RmNmUAP-k2Oc",
        "colab_type": "text"
      },
      "source": [
        "Python で `^` は `exclusiv bit-wise` で普通の冪乗の意味には使えなくて `**` を使う。\n",
        "\n",
        "文字列はダブルクォート（二重引用符）で囲む。 文字列の結合をするときは ++ を使う。\n",
        "\n",
        "\n",
        "> Prelude> \"Hello\"  \n",
        "> \"Hello\"  \n",
        "> Prelude> \"Hello\" ++ \", Haskell\"  \n",
        "> \"Hello, Haskell\"  \n"
      ]
    },
    {
      "cell_type": "code",
      "metadata": {
        "id": "9-20faExlrz9",
        "colab_type": "code",
        "colab": {
          "base_uri": "https://localhost:8080/",
          "height": 35
        },
        "outputId": "7bface3e-3819-4002-a46d-d86482725793"
      },
      "source": [
        "\"Hello\" + \", Python!!!!\""
      ],
      "execution_count": null,
      "outputs": [
        {
          "output_type": "execute_result",
          "data": {
            "application/vnd.google.colaboratory.intrinsic+json": {
              "type": "string"
            },
            "text/plain": [
              "'Hello, Python!!!!'"
            ]
          },
          "metadata": {
            "tags": []
          },
          "execution_count": 13
        }
      ]
    },
    {
      "cell_type": "markdown",
      "metadata": {
        "id": "3Awt28XplzFA",
        "colab_type": "text"
      },
      "source": [
        "\n",
        "> Prelude> succ 5  \n",
        "> 6  \n",
        "> Prelude> truncate 6.59  \n",
        "> 6  \n",
        "> Prelude> round 6.59  \n",
        "> 7  \n",
        "> Prelude> sqrt 2  \n",
        "> 1.4142135623730951  \n",
        "> Prelude> not (5 < 3)  \n",
        "> True  \n",
        "> Prelude> gcd 21 14  \n",
        "> 7  \n"
      ]
    },
    {
      "cell_type": "code",
      "metadata": {
        "id": "5a9cEfnAl8aD",
        "colab_type": "code",
        "colab": {
          "base_uri": "https://localhost:8080/",
          "height": 118
        },
        "outputId": "ad94f55c-63a2-4dba-82dd-a5afc3ed92d1"
      },
      "source": [
        "def succ (n) :\n",
        "    return n + 1\n",
        "\n",
        "def truncate (x) :\n",
        "    return int(x)\n",
        "\n",
        "import math\n",
        "\n",
        "print (succ(5))\n",
        "print (truncate(6.59))\n",
        "print (round (6.59))\n",
        "print (math.sqrt(2))\n",
        "print (not (5 < 3))\n",
        "print (math.gcd (21, 14))"
      ],
      "execution_count": null,
      "outputs": [
        {
          "output_type": "stream",
          "text": [
            "6\n",
            "6\n",
            "7\n",
            "1.4142135623730951\n",
            "True\n",
            "7\n"
          ],
          "name": "stdout"
        }
      ]
    },
    {
      "cell_type": "markdown",
      "metadata": {
        "id": "jYnw8HhHyrOE",
        "colab_type": "text"
      },
      "source": [
        "haskell の truncate は python の int() だよね。 たぶん。`//` だと数字がマイナスになったときの挙動が違ってしまうと思う。\n",
        "\n",
        "> Prelude> truncate(-6.59)  \n",
        "> -6  \n"
      ]
    },
    {
      "cell_type": "code",
      "metadata": {
        "id": "Wapp-Vff0303",
        "colab_type": "code",
        "colab": {
          "base_uri": "https://localhost:8080/",
          "height": 50
        },
        "outputId": "dca84bb5-0b19-49b7-8ead-8767e710c979"
      },
      "source": [
        "print (-6.59 // 1)\n",
        "print (int (-6.59))"
      ],
      "execution_count": null,
      "outputs": [
        {
          "output_type": "stream",
          "text": [
            "-7.0\n",
            "-6\n"
          ],
          "name": "stdout"
        }
      ]
    },
    {
      "cell_type": "markdown",
      "metadata": {
        "id": "LYqikGpK1Pmh",
        "colab_type": "text"
      },
      "source": [
        "ひとつの式の中で複数の I/O アクションを使いたい場合は、doブロックを使う。アクションはセミコロンで区切る。\n",
        "> Prelude> do { putStr \"2 + 2 = \" ; print (2 + 2) }  \n",
        "> 2 + 2 = 4  \n",
        "> Prelude> do { putStrLn \"ABCDE\" ; putStrLn \"12345\" }  \n",
        "> ABCDE  \n",
        "> 12345  \n"
      ]
    },
    {
      "cell_type": "code",
      "metadata": {
        "id": "AzFPfuag1TAQ",
        "colab_type": "code",
        "colab": {
          "base_uri": "https://localhost:8080/",
          "height": 134
        },
        "outputId": "62f798ed-132f-4201-d6f5-aa6663c30a45"
      },
      "source": [
        "print (\"2 + 2 = \") ; print (2 + 2)\n",
        "print\n",
        "print (\"2 + 2 = {}\".format(2 + 2))\n",
        "print (\"ABCDE\") ; print (\"12345\")\n",
        "print (\"ABCDE\\n12345\")"
      ],
      "execution_count": null,
      "outputs": [
        {
          "output_type": "stream",
          "text": [
            "2 + 2 = \n",
            "4\n",
            "2 + 2 = 4\n",
            "ABCDE\n",
            "12345\n",
            "ABCDE\n",
            "12345\n"
          ],
          "name": "stdout"
        }
      ]
    },
    {
      "cell_type": "markdown",
      "metadata": {
        "id": "ShE3UOWT4J4z",
        "colab_type": "text"
      },
      "source": [
        "読み込みは getLine （String） か readLn （型は自動判断） を使う。\n",
        "\n",
        "変数への代入は `<-` 。\n",
        "\n",
        "> Prelude> do { n <- readLn ; print (n^2) }  \n",
        "> 4  \n",
        "> 16  \n",
        "\n",
        "> Prelude> do { n <- readLn ; putStrLn (if n then \"True\" else \"Not >   True\") }  \n",
        "> True  \n",
        "> True  \n",
        "> Prelude> do { n <- readLn ; putStrLn (if n then \"True\" else \"Not >   True\") }  \n",
        "> False  \n",
        "> Not True  \n",
        "\n",
        "うむ。 readLn は使い方がむずかしいかもしれない。 getLine ならどんな入力も String で受け付けるので処理ができるが、readLn は想定外のインプットは処理の時にエラーになる。  \n",
        "それはちょっとおかしいので、とりあえず先へ進もう。\n",
        "\n"
      ]
    },
    {
      "cell_type": "code",
      "metadata": {
        "id": "vKOG40waXct1",
        "colab_type": "code",
        "colab": {}
      },
      "source": [
        "-- Test.hs\n",
        "main = do putStrLn \"What is 2 + 2?\"\n",
        "          x <- readLn\n",
        "          if x == 4\n",
        "              then putStrLn \"You're right!\"main\n",
        "              else putStrLn \"You're wrong!\""
      ],
      "execution_count": null,
      "outputs": []
    },
    {
      "cell_type": "markdown",
      "metadata": {
        "id": "wMA-Sd8zGTje",
        "colab_type": "text"
      },
      "source": [
        "> -- Test.hs  \n",
        "> main = do putStrLn \"What is 2 + 2?\"  \n",
        ">           x <- readLn  \n",
        ">           if x == 4  \n",
        ">               then putStrLn \"You're right!\"  \n",
        ">               else putStrLn \"You're wrong!\"  \n",
        "\n",
        "> Prelude> :load Test.hs  \n",
        "> [1 of 1] Compiling Main             ( Test.hs, interpreted )  \n",
        "> Ok, one module loaded.  \n",
        "> *Main> main  \n",
        "> What is 2 + 2?  \n",
        "> 4  \n",
        "> You're right!  \n",
        "> *Main> main  \n",
        "> What is 2 + 2?  \n",
        "> 3  \n",
        ">   "
      ]
    },
    {
      "cell_type": "markdown",
      "metadata": {
        "id": "MxNBr6q3pro0",
        "colab_type": "text"
      },
      "source": [
        "# マックの等幅フォント\n",
        "\n",
        "マックでこのサイトを開いたらスペースの処理がおかしい、インデントが揃っていない、ので調べたら等幅フォントが Osaka なのを例えば Ricty Diminished などの他の等幅フォントにすればいい、と書いてあったので google-chrome の設定で変えたら、大丈夫になった。オッケー!!!!\n",
        "\n",
        "上の Test.hs の引用や、コードセルで、putStrLn の p と x <- readLn の x が揃っていなかったらフォントをチェックしてみること。\n",
        "\n"
      ]
    }
  ]
}