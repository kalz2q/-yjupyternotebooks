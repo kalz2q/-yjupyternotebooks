{
  "nbformat": 4,
  "nbformat_minor": 0,
  "metadata": {
    "colab": {
      "name": "haskell01.ipynb",
      "provenance": [],
      "toc_visible": true,
      "authorship_tag": "ABX9TyMxHVvOafaKzNUsuL0oWNfe",
      "include_colab_link": true
    },
    "kernelspec": {
      "name": "python3",
      "display_name": "Python 3"
    }
  },
  "cells": [
    {
      "cell_type": "markdown",
      "metadata": {
        "id": "view-in-github",
        "colab_type": "text"
      },
      "source": [
        "<a href=\"https://colab.research.google.com/github/kalz2q/mycolabnotebooks/blob/master/haskell01.ipynb\" target=\"_parent\"><img src=\"https://colab.research.google.com/assets/colab-badge.svg\" alt=\"Open In Colab\"/></a>"
      ]
    },
    {
      "cell_type": "markdown",
      "metadata": {
        "id": "JZqM1qwx2bFV"
      },
      "source": [
        "# メモ\n",
        "\n",
        "1. Colabの環境を利用して Haskellを勉強する。\n",
        "1. 読者は別途自分の環境に Haskellをインストールして対話環境 `ghci` を立ち上げていて、このファイルはColabで開いていることを想定する。\n",
        "1. プログラムについて、Haskell と Python の両方で動かすことによって理解を深める。\n",
        "1. とりあえずは Haskell の入門書や入門サイトからサンプルプログラムを入力してみる。\n",
        "1. https://wiki.haskell.org/Haskell入門_5ステップ\n",
        "1. 10分で学ぶHaskell (https://wiki.haskell.org/10分で学ぶHaskell)\n",
        "1. Learn You A Haskell For Great Good! (http://learnyouahaskell.com/)  <= いまここ\n",
        "1. A Gentle Introduction to Haskell (https://www.haskell.org/tutorial/)\n",
        "1. Yet Another Haskell Tutorial (http://users.umiacs.umd.edu/~hal/docs/daume02yaht.pdf)\n",
        "1. https://wiki.haskell.org/How_to_work_on_lists\n",
        "1. https://wiki.haskell.org/Applications_and_libraries/Data_structures\n",
        "1. https://wiki.haskell.org/Applications_and_libraries/Concurrency_and_parallelism\n",
        "1. https://wiki.haskell.org/Applications_and_libraries/GUI_libraries\n",
        "1. https://wiki.haskell.org/Applications_and_libraries/Network\n",
        "1. https://wiki.haskell.org/QuickCheck\n",
        "1. https://wiki.haskell.org/HUnit_1.0_User%27s_Guide\n",
        "1. https://wiki.haskell.org/Regex_Posix\n",
        "\n",
        "\n",
        "\n",
        "  \n",
        "  \n"
      ]
    },
    {
      "cell_type": "code",
      "metadata": {
        "id": "GB-qmhO5gBvV"
      },
      "source": [
        "# 実験\n",
        "\n",
        "%%script false\n",
        "\n",
        "Prelude> \"Hello, World!\"  \n",
        "\"Hello, World!\"  "
      ],
      "execution_count": null,
      "outputs": []
    },
    {
      "cell_type": "markdown",
      "metadata": {
        "id": "-VqZEOXlgWzU"
      },
      "source": [
        "ghci 対話環境のコピーを colab に貼り付ける際、コードセルを使うこととする。\n",
        "\n",
        "セルマジックで %%script false としておけば実行されないので便利。\n",
        "\n",
        "Python のコードは多くの場合、見ればわかると思う。\n",
        "  \n",
        "  \n"
      ]
    },
    {
      "cell_type": "code",
      "metadata": {
        "id": "wQLaoIt5_fdD",
        "outputId": "dd814f34-6b50-4f90-e49c-876daa265379",
        "colab": {
          "base_uri": "https://localhost:8080/",
          "height": 35
        }
      },
      "source": [
        "# Python \n",
        "\n",
        "\"Hello, World\""
      ],
      "execution_count": null,
      "outputs": [
        {
          "output_type": "execute_result",
          "data": {
            "application/vnd.google.colaboratory.intrinsic+json": {
              "type": "string"
            },
            "text/plain": [
              "'Hello, World'"
            ]
          },
          "metadata": {
            "tags": []
          },
          "execution_count": 1
        }
      ]
    },
    {
      "cell_type": "markdown",
      "metadata": {
        "id": "ZBaOsWtP_nC7"
      },
      "source": [
        "この辺は動きは同じみたい。\n",
        "\n",
        "Haskellの対話型環境のプロンプトは `Prelude> `。\n",
        "  "
      ]
    },
    {
      "cell_type": "code",
      "metadata": {
        "id": "Mf3Lqq2X93AL"
      },
      "source": [
        "Prelude> putStrLn \"Hello World\"  \n",
        "Hello World  "
      ],
      "execution_count": null,
      "outputs": []
    },
    {
      "cell_type": "code",
      "metadata": {
        "id": "gV6ihn64AFnp",
        "outputId": "b7750231-819e-4dd5-cb53-1af96ce332ab",
        "colab": {
          "base_uri": "https://localhost:8080/",
          "height": 34
        }
      },
      "source": [
        "print (\"Hello\")"
      ],
      "execution_count": null,
      "outputs": [
        {
          "output_type": "stream",
          "text": [
            "Hello\n"
          ],
          "name": "stdout"
        }
      ]
    },
    {
      "cell_type": "markdown",
      "metadata": {
        "id": "ViF69Gd1AQy_"
      },
      "source": [
        "えっと、Haskellは `putStrLn` で、Pythonがなぜ `print` か。Haskellにも `print` はあるし、改行も自動で入る。  \n",
        "改行コードをエスケープで入れたときの挙動とかが違う。\n",
        "  \n",
        "  \n"
      ]
    },
    {
      "cell_type": "code",
      "metadata": {
        "id": "BW6_ktjv-GDS"
      },
      "source": [
        "%%script false\n",
        "\n",
        "Prelude> print \"Haskell\\nand\\nPython\"  \n",
        "\"Haskell\\nand\\nPython\"  \n",
        "Prelude> putStrLn \"Haskell\\nand\\nPython\"  \n",
        "Haskell  \n",
        "and  \n",
        "Python  "
      ],
      "execution_count": null,
      "outputs": []
    },
    {
      "cell_type": "markdown",
      "metadata": {
        "id": "1hE1az0p-JCH"
      },
      "source": [
        "\n",
        "カッコのあるなしは、ポリシーの違いというより、全体の設計なので、これはどっちでもいいけどそれぞれの言語で統一されていればいい。  \n",
        "\n",
        "Haskell は関数のカッコはあってもよいが省略可能。\n",
        "Python3 は関数のカッコは必須。\n",
        "  \n",
        "  \n"
      ]
    },
    {
      "cell_type": "code",
      "metadata": {
        "id": "FzNpBNRN-UC0"
      },
      "source": [
        "%%script false\n",
        "\n",
        "Prelude> let fac n = if n == 0 then 1 else n * fac (n-1)\n",
        "Prelude> fac 5  \n",
        "120  \n"
      ],
      "execution_count": null,
      "outputs": []
    },
    {
      "cell_type": "markdown",
      "metadata": {
        "id": "fPcnaEfF-Y-y"
      },
      "source": [
        "階乗を計算する関数を作っている。\n",
        "\n",
        "やってみよう。"
      ]
    },
    {
      "cell_type": "code",
      "metadata": {
        "id": "ZB9pZ3HRB17P",
        "outputId": "72489f06-b351-434c-af4b-c08ceb709124",
        "colab": {
          "base_uri": "https://localhost:8080/",
          "height": 34
        }
      },
      "source": [
        "# python\n",
        "def fac (n) :\n",
        "    if n == 0 :\n",
        "        return 1\n",
        "    else :\n",
        "        return n * fac (n - 1)\n",
        "\n",
        "fac (5)"
      ],
      "execution_count": null,
      "outputs": [
        {
          "output_type": "execute_result",
          "data": {
            "text/plain": [
              "120"
            ]
          },
          "metadata": {
            "tags": []
          },
          "execution_count": 10
        }
      ]
    },
    {
      "cell_type": "markdown",
      "metadata": {
        "id": "w5wAydKX2cYY"
      },
      "source": [
        "ま、とりあえずできたということで。\n",
        "\n",
        "Pythonに確か一行で書く書き方があったと思う。"
      ]
    },
    {
      "cell_type": "code",
      "metadata": {
        "id": "hF8Ft7ExEOsn",
        "outputId": "7feeb042-c7fc-4614-d781-d46bbfa0b76a",
        "colab": {
          "base_uri": "https://localhost:8080/",
          "height": 34
        }
      },
      "source": [
        "def fac (n) :\n",
        "    return 1 if n == 0 else n * fac(n - 1)\n",
        "\n",
        "fac(5)"
      ],
      "execution_count": null,
      "outputs": [
        {
          "output_type": "execute_result",
          "data": {
            "text/plain": [
              "120"
            ]
          },
          "metadata": {
            "tags": []
          },
          "execution_count": 6
        }
      ]
    },
    {
      "cell_type": "markdown",
      "metadata": {
        "id": "rEZTqC08FVKf"
      },
      "source": [
        "`ternary operator` 三項演算子と言うらしい。\n",
        "\n",
        "`n`を大きくすると、Haskell は大丈夫だけど Python は落ちる。エラーになる。比較の階層が深すぎるって。この辺は素のままでは最適化されていないみたい。\n",
        "\n",
        "Haskellではパターンマッチングを使って次のように書く方が普通かもしれない。\n",
        "  \n",
        "  \n"
      ]
    },
    {
      "cell_type": "code",
      "metadata": {
        "id": "K535VVGH-lD_"
      },
      "source": [
        "fac 0 = 1  \n",
        "fac n = n * fac (n-1)  \n",
        "  \n",
        "main = print (fac 42)  \n"
      ],
      "execution_count": null,
      "outputs": []
    },
    {
      "cell_type": "markdown",
      "metadata": {
        "id": "gbJVKth8h6c4"
      },
      "source": [
        "さすがこれはPythonにはないか。\n"
      ]
    },
    {
      "cell_type": "code",
      "metadata": {
        "id": "8chhAu4ZvGiA",
        "outputId": "b49e5f4d-9a9b-497b-f28d-8108133b9433",
        "colab": {
          "base_uri": "https://localhost:8080/",
          "height": 34
        }
      },
      "source": [
        "fac = lambda x:  1 if x == 0 else x * fac(x-1)\n",
        "\n",
        "fac (5)"
      ],
      "execution_count": null,
      "outputs": [
        {
          "output_type": "execute_result",
          "data": {
            "text/plain": [
              "120"
            ]
          },
          "metadata": {
            "tags": []
          },
          "execution_count": 8
        }
      ]
    },
    {
      "cell_type": "code",
      "metadata": {
        "id": "A6eqlPDo9Xwp",
        "outputId": "cae08018-d001-4a83-a7a7-9aa20416caf5",
        "colab": {
          "base_uri": "https://localhost:8080/",
          "height": 34
        }
      },
      "source": [
        "num = lambda x, y: x + y\n",
        "print(num (3,4))"
      ],
      "execution_count": null,
      "outputs": [
        {
          "output_type": "stream",
          "text": [
            "7\n"
          ],
          "name": "stdout"
        }
      ]
    },
    {
      "cell_type": "markdown",
      "metadata": {
        "id": "bhPAtzDgvwzp"
      },
      "source": [
        "これはいいね。 Haskell 風だし、Haskell よりいいかもしれない。"
      ]
    },
    {
      "cell_type": "markdown",
      "metadata": {
        "id": "Eh0YyntvF0O-"
      },
      "source": [
        "# 四則演算"
      ]
    },
    {
      "cell_type": "code",
      "metadata": {
        "id": "xrXWasfNF4tO"
      },
      "source": [
        "%%script false\n",
        "Prelude> 3 * 5  \n",
        "15  \n",
        "Prelude> 4 ^ 2 - 1  \n",
        "15  \n",
        "Prelude> (1 - 5)^(3 * 2 - 4)  \n",
        "16  \n"
      ],
      "execution_count": null,
      "outputs": []
    },
    {
      "cell_type": "code",
      "metadata": {
        "id": "p-t3ybJWj1ol",
        "outputId": "54e2b19a-f167-4fec-8d62-31c8fd226e0c",
        "colab": {
          "base_uri": "https://localhost:8080/",
          "height": 67
        }
      },
      "source": [
        "print (3 * 5)\n",
        "print (4 ** 2 - 1)\n",
        "print ((1 - 5) ** (3 * 2 - 4))"
      ],
      "execution_count": null,
      "outputs": [
        {
          "output_type": "stream",
          "text": [
            "15\n",
            "15\n",
            "16\n"
          ],
          "name": "stdout"
        }
      ]
    },
    {
      "cell_type": "markdown",
      "metadata": {
        "id": "RmNmUAP-k2Oc"
      },
      "source": [
        "Python で `^` は `exclusiv bit-wise` で普通の冪乗の意味には使えなくて `**` を使う。\n"
      ]
    },
    {
      "cell_type": "markdown",
      "metadata": {
        "id": "SAeWCy8897AH"
      },
      "source": [
        "\n",
        "文字列はダブルクォート（二重引用符）で囲む。 文字列の結合をするときは ++ を使う。\n",
        "  \n",
        "  \n"
      ]
    },
    {
      "cell_type": "code",
      "metadata": {
        "id": "XD-Q9HsR-5EK"
      },
      "source": [
        "%%script false\n",
        "Prelude> \"Hello\"  \n",
        "\"Hello\"  \n",
        "Prelude> \"Hello\" ++ \", Haskell\"  \n",
        "\"Hello, Haskell\"  \n"
      ],
      "execution_count": null,
      "outputs": []
    },
    {
      "cell_type": "code",
      "metadata": {
        "id": "9-20faExlrz9",
        "outputId": "7bface3e-3819-4002-a46d-d86482725793",
        "colab": {
          "base_uri": "https://localhost:8080/",
          "height": 35
        }
      },
      "source": [
        "\"Hello\" + \", Python!!!!\""
      ],
      "execution_count": null,
      "outputs": [
        {
          "output_type": "execute_result",
          "data": {
            "application/vnd.google.colaboratory.intrinsic+json": {
              "type": "string"
            },
            "text/plain": [
              "'Hello, Python!!!!'"
            ]
          },
          "metadata": {
            "tags": []
          },
          "execution_count": 13
        }
      ]
    },
    {
      "cell_type": "code",
      "metadata": {
        "id": "3Awt28XplzFA"
      },
      "source": [
        "%%script false\n",
        "Prelude> succ 5  \n",
        "6  \n",
        "Prelude> truncate 6.59  \n",
        "6  \n",
        "Prelude> round 6.59  \n",
        "7  \n",
        "Prelude> sqrt 2  \n",
        "1.4142135623730951  \n",
        "Prelude> not (5 < 3)  \n",
        "True  \n",
        "Prelude> gcd 21 14  \n",
        "7  \n"
      ],
      "execution_count": null,
      "outputs": []
    },
    {
      "cell_type": "code",
      "metadata": {
        "id": "5a9cEfnAl8aD",
        "outputId": "ad94f55c-63a2-4dba-82dd-a5afc3ed92d1",
        "colab": {
          "base_uri": "https://localhost:8080/",
          "height": 118
        }
      },
      "source": [
        "def succ (n) :\n",
        "    return n + 1\n",
        "\n",
        "def truncate (x) :\n",
        "    return int(x)\n",
        "\n",
        "import math\n",
        "\n",
        "print (succ(5))\n",
        "print (truncate(6.59))\n",
        "print (round (6.59))\n",
        "print (math.sqrt(2))\n",
        "print (not (5 < 3))\n",
        "print (math.gcd (21, 14))"
      ],
      "execution_count": null,
      "outputs": [
        {
          "output_type": "stream",
          "text": [
            "6\n",
            "6\n",
            "7\n",
            "1.4142135623730951\n",
            "True\n",
            "7\n"
          ],
          "name": "stdout"
        }
      ]
    },
    {
      "cell_type": "markdown",
      "metadata": {
        "id": "jYnw8HhHyrOE"
      },
      "source": [
        "haskell の truncate は python の int() だよね。 たぶん。`//` だと数字がマイナスになったときの挙動が違ってしまうと思う。\n"
      ]
    },
    {
      "cell_type": "code",
      "metadata": {
        "id": "kxB5SULE_Nre"
      },
      "source": [
        "%%script false\n",
        "Prelude> truncate(-6.59)  \n",
        "-6  \n"
      ],
      "execution_count": null,
      "outputs": []
    },
    {
      "cell_type": "code",
      "metadata": {
        "id": "Wapp-Vff0303",
        "outputId": "dca84bb5-0b19-49b7-8ead-8767e710c979",
        "colab": {
          "base_uri": "https://localhost:8080/",
          "height": 50
        }
      },
      "source": [
        "print (-6.59 // 1)\n",
        "print (int (-6.59))"
      ],
      "execution_count": null,
      "outputs": [
        {
          "output_type": "stream",
          "text": [
            "-7.0\n",
            "-6\n"
          ],
          "name": "stdout"
        }
      ]
    },
    {
      "cell_type": "markdown",
      "metadata": {
        "id": "LYqikGpK1Pmh"
      },
      "source": [
        "ひとつの式の中で複数の I/O アクションを使いたい場合は、doブロックを使う。アクションはセミコロンで区切る。\n",
        "  \n",
        "  \n"
      ]
    },
    {
      "cell_type": "code",
      "metadata": {
        "id": "66-a2xgj_U6r"
      },
      "source": [
        "%%script false\n",
        "Prelude> do { putStr \"2 + 2 = \" ; print (2 + 2) }  \n",
        "2 + 2 = 4  \n",
        "Prelude> do { putStrLn \"ABCDE\" ; putStrLn \"12345\" }  \n",
        "ABCDE  \n",
        "12345  \n"
      ],
      "execution_count": null,
      "outputs": []
    },
    {
      "cell_type": "code",
      "metadata": {
        "id": "AzFPfuag1TAQ",
        "outputId": "5ce18d3e-550d-4267-f317-af13b3feca15",
        "colab": {
          "base_uri": "https://localhost:8080/",
          "height": 101
        }
      },
      "source": [
        "print (\"2 + 2 = \") ; print (2 + 2)\n",
        "print\n",
        "print (\"2 + 2 = {}\".format(2 + 2))\n",
        "print (\"ABCDE\\n12345\")"
      ],
      "execution_count": null,
      "outputs": [
        {
          "output_type": "stream",
          "text": [
            "2 + 2 = \n",
            "4\n",
            "2 + 2 = 4\n",
            "ABCDE\n",
            "12345\n"
          ],
          "name": "stdout"
        }
      ]
    },
    {
      "cell_type": "markdown",
      "metadata": {
        "id": "ShE3UOWT4J4z"
      },
      "source": [
        "読み込みは getLine （String） か readLn （型は自動判断） を使う。\n",
        "\n",
        "変数への代入は `<-` 。\n",
        "  \n",
        "  \n"
      ]
    },
    {
      "cell_type": "code",
      "metadata": {
        "id": "9kjUl7pQD3Gg"
      },
      "source": [
        "%%script false\n",
        "Prelude> do { n <- readLn ; print (n^2) }  \n",
        "4  \n",
        "16\n",
        "\n",
        "Prelude> do { n <- readLn ; putStrLn (if n then \"True\" else \"Not True\") }  \n",
        "True  \n",
        "True  \n",
        "Prelude> do { n <- readLn ; putStrLn (if n then \"True\" else \"Not True\") }  \n",
        "False  \n",
        "Not True  \n"
      ],
      "execution_count": null,
      "outputs": []
    },
    {
      "cell_type": "markdown",
      "metadata": {
        "id": "LQyQZzetD5-4"
      },
      "source": [
        "\n",
        "うむ。 readLn は使い方がむずかしいかもしれない。 getLine ならどんな入力も String で受け付けるので処理ができるが、readLn は想定外のインプットは処理の時にエラーになる。  \n",
        "\n",
        "それはちょっとおかしいけれど、とりあえず先へ進もう。\n",
        "\n"
      ]
    },
    {
      "cell_type": "code",
      "metadata": {
        "id": "vKOG40waXct1"
      },
      "source": [
        "-- Test.hs\n",
        "main = do putStrLn \"What is 2 + 2?\"\n",
        "          x <- readLn\n",
        "          if x == 4\n",
        "              then putStrLn \"You're right!\"main\n",
        "              else putStrLn \"You're wrong!\""
      ],
      "execution_count": null,
      "outputs": []
    },
    {
      "cell_type": "code",
      "metadata": {
        "id": "wMA-Sd8zGTje"
      },
      "source": [
        "Prelude> :load Test.hs  \n",
        "[1 of 1] Compiling Main             ( Test.hs, interpreted )  \n",
        "Ok, one module loaded.  \n",
        "*Main> main  \n",
        "What is 2 + 2?  \n",
        "4  \n",
        "You're right!  \n",
        "*Main> main  \n",
        "What is 2 + 2?  \n",
        "3  \n",
        "  "
      ],
      "execution_count": null,
      "outputs": []
    },
    {
      "cell_type": "markdown",
      "metadata": {
        "id": "fYDC0e_KEcAe"
      },
      "source": [
        "# コンパイルの仕方\n",
        "\n",
        "ビルドは \n",
        "```\n",
        "ghc --make Test.hs  \n",
        "```\n",
        "\n",
        "実行ファイル Test ができる。\n",
        "  \n",
        "  \n",
        "  "
      ]
    },
    {
      "cell_type": "markdown",
      "metadata": {
        "id": "D3xU8F1FEZXc"
      },
      "source": [
        "# いまここ"
      ]
    },
    {
      "cell_type": "markdown",
      "metadata": {
        "id": "T7qCPk48Fmmu"
      },
      "source": [
        "# 型について少し\n"
      ]
    },
    {
      "cell_type": "markdown",
      "metadata": {
        "id": "3tfVY2QnJs1Y"
      },
      "source": [
        "\n",
        "### 型宣言"
      ]
    },
    {
      "cell_type": "code",
      "metadata": {
        "id": "Xg__p27HFo_V"
      },
      "source": [
        "Prelude> 5 :: Int\n",
        "5\n",
        "Prelude> 5 :: Double\n",
        "5.0"
      ],
      "execution_count": null,
      "outputs": []
    },
    {
      "cell_type": "markdown",
      "metadata": {
        "id": "O79IgiT7FrTl"
      },
      "source": [
        "### 型を調べる"
      ]
    },
    {
      "cell_type": "code",
      "metadata": {
        "id": "GlGUQsxNFu41"
      },
      "source": [
        "Prelude> :t True\n",
        "True :: Bool\n",
        "Prelude> :t 'X'\n",
        "'X' :: Char\n",
        "Prelude> :t \"Hello, Haskell\"\n",
        "\"Hello, Haskell\" :: [Char]"
      ],
      "execution_count": null,
      "outputs": []
    },
    {
      "cell_type": "markdown",
      "metadata": {
        "id": "shyizwS1F5MZ"
      },
      "source": [
        "[Char]はStringの別名。 Char のリスト。\n"
      ]
    },
    {
      "cell_type": "code",
      "metadata": {
        "id": "Rl2CyyheJFZQ"
      },
      "source": [
        "Prelude> :t 42\n",
        "42 :: (Num t) => t\n",
        "Prelude> :t 42.0\n",
        "42.0 :: (Fractional t) => t\n",
        "Prelude> :t gcd 15 20\n",
        "gcd 15 20 :: (Integral t) => t"
      ],
      "execution_count": null,
      "outputs": []
    },
    {
      "cell_type": "markdown",
      "metadata": {
        "id": "0VJQp8dzJw7U"
      },
      "source": [
        "### Unit 型"
      ]
    },
    {
      "cell_type": "code",
      "metadata": {
        "id": "IAFEJNfKJvd0"
      },
      "source": [
        "Prelude> ()\n",
        "()\n",
        "Prelude> :t ()\n",
        "() :: ()"
      ],
      "execution_count": null,
      "outputs": []
    },
    {
      "cell_type": "markdown",
      "metadata": {
        "id": "zHYfydjqJ0bq"
      },
      "source": [
        "# リスト\n",
        "\n",
        "Haskell のリストは型の混在はなし。 型を混在させるにはタプルを用いる。\n",
        "\n",
        "文字列は単に文字 Char のリスト。"
      ]
    },
    {
      "cell_type": "code",
      "metadata": {
        "id": "lXxY_lLRKAk2"
      },
      "source": [
        "Prelude> [1, 2, 3]\n",
        "[1,2,3]\n",
        "Prelude> [1 .. 5]\n",
        "[1,2,3,4,5]\n",
        "Prelude> [1, 3 .. 10]\n",
        "[1,3,5,7,9]\n",
        "Prelude> [True, False, True]\n",
        "[True,False,True]\n",
        "\n",
        "Prelude> ['H', 'e', 'l', 'l', 'o']\n",
        "\"Hello\"\n",
        "\n",
        "# Lisp の cons 関数に当たる `:`\n",
        "\n",
        "Prelude> 'C' : ['H', 'e', 'l', 'l', 'o']\n",
        "\"CHello\""
      ],
      "execution_count": null,
      "outputs": []
    },
    {
      "cell_type": "markdown",
      "metadata": {
        "id": "IJcQNo4G2TJJ"
      },
      "source": [
        "# タプル"
      ]
    },
    {
      "cell_type": "code",
      "metadata": {
        "id": "PRZJdUhP2-8w"
      },
      "source": [
        "Prelude> (1, True)\n",
        "(1,True)\n",
        "Prelude> zip [1 .. 5] ['a' .. 'e']\n",
        "[(1,'a'),(2,'b'),(3,'c'),(4,'d'),(5,'e')]\n"
      ],
      "execution_count": null,
      "outputs": []
    },
    {
      "cell_type": "code",
      "metadata": {
        "id": "QnhmYQLP3KFy"
      },
      "source": [
        "Prelude> :t ['a' .. 'c']\n",
        "['a' .. 'c'] :: [Char]\n",
        "Prelude> :t [('x', True), ('y', False)]\n",
        "[('x', True), ('y', False)] :: [(Char, Bool)]"
      ],
      "execution_count": null,
      "outputs": []
    },
    {
      "cell_type": "code",
      "metadata": {
        "id": "yArbCM1L3L1Q"
      },
      "source": [
        "Prelude> fst (1, 2)\n",
        "1\n",
        "Prelude> snd (1, 2)\n",
        "2\n",
        "Prelude> map fst [(1, 2), (3, 4), (5, 6)]\n",
        "[1,3,5]"
      ],
      "execution_count": null,
      "outputs": []
    },
    {
      "cell_type": "markdown",
      "metadata": {
        "id": "UOWi2Qe_5KxD"
      },
      "source": [
        "# 関数定義"
      ]
    },
    {
      "cell_type": "code",
      "metadata": {
        "id": "BEE6hOyJ5NQR"
      },
      "source": [
        "-- Test.hs\n",
        "module Main where\n",
        "\n",
        "factorial n = if n == 0 then 1 else n * factorial (n - 1)\n",
        "\n",
        "main = do putStrLn \"What is 5! ?\"\n",
        "          x <- readLn\n",
        "          if x == factorial 5\n",
        "              then putStrLn \"You're right!\"\n",
        "              else putStrLn \"You're wrong!\""
      ],
      "execution_count": null,
      "outputs": []
    },
    {
      "cell_type": "code",
      "metadata": {
        "id": "5uBBmlwM5WJZ"
      },
      "source": [
        "ghc --make Test.hs"
      ],
      "execution_count": null,
      "outputs": []
    },
    {
      "cell_type": "code",
      "metadata": {
        "id": "RLUm1DaB5YTk"
      },
      "source": [
        "$ ./Test\n",
        "What is 5! ?\n",
        "120\n",
        "You're right!"
      ],
      "execution_count": null,
      "outputs": []
    },
    {
      "cell_type": "code",
      "metadata": {
        "id": "o22NOUIZ5aYf"
      },
      "source": [
        "$ ghci Test.hs\n",
        "GHCi, version 8.6.5: http://www.haskell.org/ghc/  :? for help\n",
        "[1 of 1] Compiling Main             ( test.hs, interpreted )\n",
        "Ok, one module loaded.\n",
        "*Main> factorial 4\n",
        "24\n",
        "*Main> main\n",
        "What is 5! ?\n",
        "100\n",
        "You're wrong!\n",
        "*Main> :t factorial\n",
        "factorial :: (Eq p, Num p) => p -> p\n"
      ],
      "execution_count": null,
      "outputs": []
    },
    {
      "cell_type": "code",
      "metadata": {
        "id": "ajXsLOal5uxz"
      },
      "source": [
        "factorial 0 = 1\n",
        "factorial n = n * factorial (n - 1)\n"
      ],
      "execution_count": null,
      "outputs": []
    },
    {
      "cell_type": "markdown",
      "metadata": {
        "id": "Zu-Sa_a36AAC"
      },
      "source": [
        "# 便利な構文"
      ]
    },
    {
      "cell_type": "code",
      "metadata": {
        "id": "Gmg_4nAo6CoH"
      },
      "source": [
        "secsToWeeks secs = let perMinute = 60\n",
        "                       perHour   = 60 * perMinute\n",
        "                       perDay    = 24 * perHour\n",
        "                       perWeek   =  7 * perDay\n",
        "                   in  secs / perWeek"
      ],
      "execution_count": null,
      "outputs": []
    },
    {
      "cell_type": "markdown",
      "metadata": {
        "id": "M67kE5oy6ZKp"
      },
      "source": [
        "上コードセルで、let , in は一時的な名前を定義している。\n",
        "\n",
        "`{}` と `:` による定義もできる。 check_later"
      ]
    },
    {
      "cell_type": "code",
      "metadata": {
        "id": "XN5488-c6Xtm"
      },
      "source": [
        "classify age = case age of 0 -> \"newborn\"\n",
        "                           1 -> \"infant\"\n",
        "                           2 -> \"toddler\"\n",
        "                           _ -> \"senior citizen\""
      ],
      "execution_count": null,
      "outputs": []
    },
    {
      "cell_type": "markdown",
      "metadata": {
        "id": "cp5ZgVAk68_H"
      },
      "source": [
        "上のセルで、case 式を使っている。 `_` はその他すべてを表す。"
      ]
    },
    {
      "cell_type": "markdown",
      "metadata": {
        "id": "Q-LIDxck97kv"
      },
      "source": [
        "# ライブラリの使い方 import qualified as"
      ]
    },
    {
      "cell_type": "code",
      "metadata": {
        "id": "4LPJq0oa9bO8"
      },
      "source": [
        "-- qualified.hs\n",
        "module Main where\n",
        "\n",
        "import qualified Data.Map as M\n",
        "\n",
        "errorsPerLine = M.fromList\n",
        "    [ (\"Chris\", 472), (\"Don\", 100), (\"Simon\", -5) ]\n",
        "\n",
        "main = do putStrLn \"Who are you?\"\n",
        "          name <- getLine\n",
        "          case M.lookup name errorsPerLine of\n",
        "              Nothing -> putStrLn \"I don't know you\"\n",
        "              Just n  -> do putStr \"Errors per line: \"\n",
        "                            print n"
      ],
      "execution_count": null,
      "outputs": []
    },
    {
      "cell_type": "markdown",
      "metadata": {
        "id": "zV0Gpb__-GwF"
      },
      "source": [
        "標準ライブラリにないものを使う場合は\n",
        "\n",
        "1. http://hackage.haskell.org/packages/hackage.html\n",
        "1. https://wiki.haskell.org/Applications_and_libraries\n",
        "\n",
        "からダウンロードして\n"
      ]
    },
    {
      "cell_type": "code",
      "metadata": {
        "id": "8S8lp-j_-dON"
      },
      "source": [
        " runhaskell Setup configure\n",
        " runhaskell Setup build\n",
        " runhaskell Setup install"
      ],
      "execution_count": null,
      "outputs": []
    },
    {
      "cell_type": "markdown",
      "metadata": {
        "id": "u-Agmwju-f-_"
      },
      "source": [
        "省いたトピック\n",
        "\n",
        "* List comprehensions https://wiki.haskell.org/List_comprehension\n",
        "* Type synonyms https://wiki.haskell.org/Type#Type_and_newtype\n",
        "* https://wiki.haskell.org/Type\n",
        "* https://wiki.haskell.org/Newtype\n",
        "* https://wiki.haskell.org/Infix_operator\n",
        "* Lambda abstractions https://wiki.haskell.org/Lambda_abstraction\n",
        "* https://wiki.haskell.org/Section_of_an_infix_operator\n",
        "* Monads https://wiki.haskell.org/Category:Monad\n",
        "* File I/O https://wiki.haskell.org/Tutorials/Programming_Haskell/String_IO\n",
        "\n",
        "\n",
        "\n",
        "\n"
      ]
    },
    {
      "cell_type": "markdown",
      "metadata": {
        "id": "V01fOAB7AYN_"
      },
      "source": [
        "# いまここ\n"
      ]
    },
    {
      "cell_type": "markdown",
      "metadata": {
        "id": "05q0I6VCAal4"
      },
      "source": [
        "# ここから  Learn You A Haskell For Great Good!"
      ]
    },
    {
      "cell_type": "code",
      "metadata": {
        "id": "BT0js6Fkczb7"
      },
      "source": [
        "Prelude> :set prompt \"ghci> \"\n",
        "ghci> "
      ],
      "execution_count": null,
      "outputs": []
    },
    {
      "cell_type": "markdown",
      "metadata": {
        "id": "XvyLhuBKc8zr"
      },
      "source": [
        "Learn You A Haskell For Great Good! の最初は `Prelude>` というプロンプトは長過ぎるので `ghci> ` というプロンプトにしている。 \n",
        "\n",
        "本質とは関係ないところから入っているけど、`:` で始まるコマンドがあることが学べるし、なにより、Haskell ではなんでも変えられることが示されている。\n",
        "\n",
        "あと、普通の言語では repl はおまけみたいなところがあるけど、Haskell ではそれがけっこうメインらしい、とかも感じられるかもしれない。\n"
      ]
    },
    {
      "cell_type": "code",
      "metadata": {
        "id": "Lat2FpdBnUK3"
      },
      "source": [
        "ghci> 2 + 15\n",
        "17\n",
        "ghci> 49 * 100\n",
        "4900\n",
        "ghci> 1892 - 1472\n",
        "420\n",
        "ghci> 5 / 2\n",
        "2.5\n"
      ],
      "execution_count": null,
      "outputs": []
    },
    {
      "cell_type": "code",
      "metadata": {
        "id": "AFkAK5ZEnkFW"
      },
      "source": [
        "ghci> (50 * 100) - 4999\n",
        "1\n",
        "ghci> 50 * 100 - 4999\n",
        "1\n",
        "ghci> 50 * (100 - 4999)\n",
        "-244950\n"
      ],
      "execution_count": null,
      "outputs": []
    },
    {
      "cell_type": "code",
      "metadata": {
        "id": "wOvMZGQ5nmR4"
      },
      "source": [
        "ghci> True && False\n",
        "False\n",
        "ghci> True && True\n",
        "True\n",
        "ghci> False || True\n",
        "True\n",
        "ghci> not False\n",
        "True\n",
        "ghci> not (True && True)\n",
        "False\n"
      ],
      "execution_count": null,
      "outputs": []
    },
    {
      "cell_type": "code",
      "metadata": {
        "id": "MDS-LdXBocT4"
      },
      "source": [
        "ghci> succ 8\n",
        "9\n",
        "ghci> min 9 10\n",
        "9\n",
        "ghci> min 3.4 3.2\n",
        "3.2\n",
        "ghci> max 100 101\n",
        "101\n"
      ],
      "execution_count": null,
      "outputs": []
    },
    {
      "cell_type": "markdown",
      "metadata": {
        "id": "tKwonjJ6ozn-"
      },
      "source": [
        "関数の優先順位が一番高い。\n",
        "\n",
        "次の2つの式は同じ意味になる。\n"
      ]
    },
    {
      "cell_type": "code",
      "metadata": {
        "id": "iBs4X0rco0E8"
      },
      "source": [
        "ghci> succ 9 + max 5 4 + 1\n",
        "16\n",
        "ghci> (succ 9) + (max 5 4) + 1\n",
        "16\n"
      ],
      "execution_count": null,
      "outputs": []
    },
    {
      "cell_type": "code",
      "metadata": {
        "id": "SIVVq2yRpOM_"
      },
      "source": [
        "ghci> succ 9 * 10\n",
        "100\n"
      ],
      "execution_count": null,
      "outputs": []
    },
    {
      "cell_type": "markdown",
      "metadata": {
        "id": "L5od-47zpe_l"
      },
      "source": [
        "### 整数除算"
      ]
    },
    {
      "cell_type": "code",
      "metadata": {
        "id": "Ap8spQwxpd0c",
        "outputId": "32bc88df-90cc-4677-8301-389ccd18fa22",
        "colab": {
          "base_uri": "https://localhost:8080/",
          "height": 34
        }
      },
      "source": [
        "92 // 10"
      ],
      "execution_count": null,
      "outputs": [
        {
          "output_type": "execute_result",
          "data": {
            "text/plain": [
              "9"
            ]
          },
          "metadata": {
            "tags": []
          },
          "execution_count": 1
        }
      ]
    },
    {
      "cell_type": "code",
      "metadata": {
        "id": "7Pw30dR1poQy"
      },
      "source": [
        "ghci> 92 `div` 10\n",
        "9\n"
      ],
      "execution_count": null,
      "outputs": []
    },
    {
      "cell_type": "markdown",
      "metadata": {
        "id": "g2awhpFhVCQL"
      },
      "source": [
        "### 関数"
      ]
    },
    {
      "cell_type": "code",
      "metadata": {
        "id": "XkZ08fY0VEv6"
      },
      "source": [
        "Prelude> doubleMe x = x + x\n",
        "Prelude> doubleMe 9\n",
        "18\n",
        "Prelude> doubleMe 8.3\n",
        "16.6\n"
      ],
      "execution_count": null,
      "outputs": []
    },
    {
      "cell_type": "code",
      "metadata": {
        "id": "ZJDh4GipVhYq"
      },
      "source": [
        "Prelude> doubleUs x y = x*2 + y*2   \n",
        "Prelude> doubleUs 4 9\n",
        "26\n",
        "Prelude> doubleUs 2.3 34.2\n",
        "73.0\n",
        "Prelude> doubleUs 28 88 + doubleMe 123\n",
        "478\n"
      ],
      "execution_count": null,
      "outputs": []
    },
    {
      "cell_type": "code",
      "metadata": {
        "id": "ldKkYAW3VtEX"
      },
      "source": [
        "Prelude> doubleUs x y = doubleMe x + doubleMe y\n"
      ],
      "execution_count": null,
      "outputs": []
    },
    {
      "cell_type": "code",
      "metadata": {
        "id": "Mdjyx2G7bfMf"
      },
      "source": [
        "Prelude> doubleSmallNumber x = if x > 100 then x else x*2\n",
        "Prelude> doubleSmallNumber 120\n",
        "120\n",
        "Prelude> doubleSmallNumber 12\n",
        "24\n"
      ],
      "execution_count": null,
      "outputs": []
    },
    {
      "cell_type": "markdown",
      "metadata": {
        "id": "s7bImZu-cwh0"
      },
      "source": [
        "Haskell の if では else は必須。なぜなら if は式であり、返り値が必要だから。"
      ]
    },
    {
      "cell_type": "code",
      "metadata": {
        "id": "qV8VRsIJbm3I",
        "outputId": "3852d877-1547-4a86-df1d-68b65dc43854",
        "colab": {
          "base_uri": "https://localhost:8080/",
          "height": 50
        }
      },
      "source": [
        "# python\n",
        "\n",
        "def doubleSmallNumber (x) :\n",
        "    if x > 100 :\n",
        "        return x\n",
        "    else:\n",
        "        return x * 2\n",
        "\n",
        "print (doubleSmallNumber (120))\n",
        "print (doubleSmallNumber (12))"
      ],
      "execution_count": null,
      "outputs": [
        {
          "output_type": "stream",
          "text": [
            "120\n",
            "24\n"
          ],
          "name": "stdout"
        }
      ]
    },
    {
      "cell_type": "code",
      "metadata": {
        "id": "PhAfzsAbdTHu"
      },
      "source": [
        "Prelude> doubleSmallNumber' x = (if x > 100 then x else x*2) + 1 "
      ],
      "execution_count": null,
      "outputs": []
    },
    {
      "cell_type": "markdown",
      "metadata": {
        "id": "j02DA3mwdUGF"
      },
      "source": [
        "上の例では `()` がないと違う意味になる。\n",
        "\n",
        "あと、関数名に \\` がついているが、バッククォートは名前に使えるので上ような使い方をする。"
      ]
    },
    {
      "cell_type": "code",
      "metadata": {
        "id": "5mNdpWKTdsTr"
      },
      "source": [
        "Prelude> conanO'Brien = \"It's a-me, Conan O'Brien!\"   \n",
        "Prelude> conanO'Brien \n",
        "\"It's a-me, Conan O'Brien!\"\n"
      ],
      "execution_count": null,
      "outputs": []
    },
    {
      "cell_type": "markdown",
      "metadata": {
        "id": "QPcmXomYd-sT"
      },
      "source": [
        "上の例で2つのことを指摘したい。\n",
        "\n",
        "1. 関数名は小文字で始まる。\n",
        "1. 関数は引数なしもあり得る。引数なしの場合、ただの定義になる。"
      ]
    },
    {
      "cell_type": "markdown",
      "metadata": {
        "id": "y6H51hT-zQ3d"
      },
      "source": [
        "# リスト"
      ]
    },
    {
      "cell_type": "code",
      "metadata": {
        "id": "wnQmo8IGzSaV"
      },
      "source": [
        "Prelude> let lostNumbers = [4,8,15,16,23,42]\n",
        "Prelude> lostNumbers\n",
        "[4,8,15,16,23,42]"
      ],
      "execution_count": null,
      "outputs": []
    },
    {
      "cell_type": "code",
      "metadata": {
        "id": "rvpkOXPo0aJu"
      },
      "source": [
        "Prelude> [1,2,3,4] ++ [9,10,11,12]\n",
        "[1,2,3,4,9,10,11,12]\n",
        "Prelude> \"hello\" ++ \" \" ++ \"world\"\n",
        "\"hello world\"\n",
        "Prelude> ['w', 'o'] ++ ['o','t']\n",
        "\"woot\"\n"
      ],
      "execution_count": null,
      "outputs": []
    },
    {
      "cell_type": "code",
      "metadata": {
        "id": "U_9C6CqF0sRr"
      },
      "source": [
        "Prelude> 'A':\" SMALL CAT\"\n",
        "\"A SMALL CAT\"\n",
        "Prelude> 5:[1,2,3,4,5]\n",
        "[5,1,2,3,4,5]\n"
      ],
      "execution_count": null,
      "outputs": []
    },
    {
      "cell_type": "markdown",
      "metadata": {
        "id": "o4UHyTtI07zX"
      },
      "source": [
        "`[1,2,3]` は内部的には `1:2:3:[]` で、`[]` は空リストである。空リストの冒頭に 3 を加えると `[3]` になる。できたリストの頭に 2 を加えると、`[2,3]` になる。"
      ]
    },
    {
      "cell_type": "code",
      "metadata": {
        "id": "Tn4oyGN-1yoR"
      },
      "source": [
        "Prelude> \"Steve Buscemi\" !! 6\n",
        "'B'\n",
        "Prelude> [9.4,33.2,96.2,11.2,23.25] !! 1\n",
        "33.2\n"
      ],
      "execution_count": null,
      "outputs": []
    },
    {
      "cell_type": "code",
      "metadata": {
        "id": "09V_A7nx1ztd",
        "outputId": "1d1bc549-776d-4ef4-8d1a-6a83293b2daa",
        "colab": {
          "base_uri": "https://localhost:8080/",
          "height": 50
        }
      },
      "source": [
        "# python\n",
        "\n",
        "print (\"Steve Buscemi\"[6])\n",
        "\n",
        "print ([9.4,33.2,96.2,11.2,23.25][1])\n"
      ],
      "execution_count": null,
      "outputs": [
        {
          "output_type": "stream",
          "text": [
            "B\n",
            "33.2\n"
          ],
          "name": "stdout"
        }
      ]
    },
    {
      "cell_type": "markdown",
      "metadata": {
        "id": "bFGr1ma4GG1k"
      },
      "source": [
        "インデクスが大きすぎるとエラーになる。"
      ]
    },
    {
      "cell_type": "code",
      "metadata": {
        "id": "XtxFVZtxGFCh"
      },
      "source": [
        "Prelude>  [9.4,33.2,96.2,11.2,23.25] !! 6\n",
        "*** Exception: Prelude.!!: index too large\n"
      ],
      "execution_count": null,
      "outputs": []
    },
    {
      "cell_type": "code",
      "metadata": {
        "id": "_aV1mz3EF7K-"
      },
      "source": [
        "Prelude> let b = [[1,2,3,4],[5,3,3,3],[1,2,2,3,4],[1,2,3]]\n",
        "Prelude> b ++ [[1,1,1,1]] \n",
        "[[1,2,3,4],[5,3,3,3],[1,2,2,3,4],[1,2,3],[1,1,1,1]]\n",
        "Prelude> [6,6,6]:b\n",
        "[[6,6,6],[1,2,3,4],[5,3,3,3],[1,2,2,3,4],[1,2,3]]\n",
        "Prelude> b !! 2\n",
        "[1,2,2,3,4]\n"
      ],
      "execution_count": null,
      "outputs": []
    },
    {
      "cell_type": "code",
      "metadata": {
        "id": "m3hlaMnMGgIq"
      },
      "source": [
        "Prelude> [3,2,1] > [2,1,0]\n",
        "True\n",
        "Prelude> [3,2,1] > [2,10,100] \n",
        "True\n",
        "Prelude> [3,4,2] > [3,4]\n",
        "True\n",
        "Prelude> [3,4,2] > [2,4] \n",
        "True\n",
        "Prelude> [3,4,2] == [3,4,2]\n",
        "True\n"
      ],
      "execution_count": null,
      "outputs": []
    },
    {
      "cell_type": "code",
      "metadata": {
        "id": "F4wLT3baGqIy"
      },
      "source": [
        "Prelude> head [5,4,3,2,1] \n",
        "5\n",
        "Prelude> tail [5,4,3,2,1] \n",
        "[4,3,2,1]\n"
      ],
      "execution_count": null,
      "outputs": []
    },
    {
      "cell_type": "code",
      "metadata": {
        "id": "GFNfbwqRG0Ec"
      },
      "source": [
        "Prelude> last [5,4,3,2,1]  \n",
        "1\n",
        "Prelude> init [5,4,3,2,1] \n",
        "[5,4,3,2]\n"
      ],
      "execution_count": null,
      "outputs": []
    },
    {
      "cell_type": "markdown",
      "metadata": {
        "id": "lUNKb5yuG7lC"
      },
      "source": [
        "空リストの head を取ろうとするとエラーになる。"
      ]
    },
    {
      "cell_type": "code",
      "metadata": {
        "id": "nW8V3FxzG8Fp"
      },
      "source": [
        "Prelude> head []\n",
        "*** Exception: Prelude.head: empty list\n"
      ],
      "execution_count": null,
      "outputs": []
    },
    {
      "cell_type": "code",
      "metadata": {
        "id": "3zr0TMJkHVd-"
      },
      "source": [
        "Prelude> length [5,4,3,2,1]\n",
        "5\n",
        "Prelude> null [1,2,3]  \n",
        "False\n",
        "Prelude> null [] \n",
        "True\n",
        "Prelude> reverse [5,4,3,2,1] \n",
        "[1,2,3,4,5]\n"
      ],
      "execution_count": null,
      "outputs": []
    },
    {
      "cell_type": "code",
      "metadata": {
        "id": "x17NceVRHlSz"
      },
      "source": [
        "Prelude> take 3 [5,4,3,2,1]\n",
        "[5,4,3]\n",
        "Prelude> take 1 [3,9,3]\n",
        "[3]\n",
        "Prelude> take 5 [1,2]\n",
        "[1,2]\n",
        "Prelude> take 0 [6,6,6]\n",
        "[]\n"
      ],
      "execution_count": null,
      "outputs": []
    },
    {
      "cell_type": "code",
      "metadata": {
        "id": "IItgPWw8Hylk"
      },
      "source": [
        "Prelude> drop 3 [8,4,2,1,5,6]  \n",
        "[1,5,6]\n",
        "Prelude> drop 0 [1,2,3,4] \n",
        "[1,2,3,4]\n",
        "Prelude> drop 100 [1,2,3,4] \n",
        "[]\n"
      ],
      "execution_count": null,
      "outputs": []
    },
    {
      "cell_type": "code",
      "metadata": {
        "id": "hHOHtCnlH690"
      },
      "source": [
        "Prelude> minimum [8,4,2,1,5,6]\n",
        "1\n",
        "Prelude> maximum [1,9,2,3,4] \n",
        "9\n"
      ],
      "execution_count": null,
      "outputs": []
    },
    {
      "cell_type": "markdown",
      "metadata": {
        "id": "TMZMoyAPTOvg"
      },
      "source": [
        "# いまここ\n",
        "\n",
        "http://learnyouahaskell.com/starting-out#babys-first-functions"
      ]
    }
  ]
}