{
  "nbformat": 4,
  "nbformat_minor": 0,
  "metadata": {
    "kernelspec": {
      "display_name": "Python 3",
      "language": "python",
      "name": "python3"
    },
    "language_info": {
      "codemirror_mode": {
        "name": "ipython",
        "version": 3
      },
      "file_extension": ".py",
      "mimetype": "text/x-python",
      "name": "python",
      "nbconvert_exporter": "python",
      "pygments_lexer": "ipython3",
      "version": "3.6.6"
    },
    "colab": {
      "name": "mathwithpython02.ipynb",
      "provenance": [],
      "toc_visible": true,
      "include_colab_link": true
    }
  },
  "cells": [
    {
      "cell_type": "markdown",
      "metadata": {
        "id": "view-in-github",
        "colab_type": "text"
      },
      "source": [
        "<a href=\"https://colab.research.google.com/github/kalz2q/mycolabnotebooks/blob/master/mathwithpython02.ipynb\" target=\"_parent\"><img src=\"https://colab.research.google.com/assets/colab-badge.svg\" alt=\"Open In Colab\"/></a>"
      ]
    },
    {
      "cell_type": "markdown",
      "metadata": {
        "id": "aaQyXb-2rpGk",
        "colab_type": "text"
      },
      "source": [
        "# メモ\n",
        "\n",
        "いまはsympyのtutorialを読んでいところ。  \n",
        "\n",
        "次はcalculus微積分\n",
        "\n",
        "ところでこのファイルの題名はmath with pythonからとっていてそれも読んでいるのだが、sympyのtutorialを読み終わったらそれに戻る予定。  \n",
        "sympyのmanualはむずかしそうなので考える。  \n",
        "そんな意味ではtutorialも難しい。  \n",
        "ほんとは数学と平行してやらないとあまり意味がないが、とりあえず写経をしておいて、数学はあとから考える。  \n",
        "数学をやっていて道具がないと勉強できない！！  \n",
        "とおもったからsympyをやっているのだよ。  \n",
        "だからある程度の行ったり来たりは正しいのだ。\n",
        "\n",
        "1. 本家`SymPy Tutorial` (https://docs.sympy.org/latest/tutorial/index.html#tutorial)\n",
        "1. 入力例で学ぶPython(SymPy)の使い方(入門) (https://pianofisica.hatenablog.com/entry/2019/04/04/183712)\n",
        "1. `Doing Math With Python` PDF ( http://index-of.es/Varios-2/Doing%20Math%20with%20Python.pdf)\n",
        "1. `Doing Math With Python` site (http://www.nostarch.com/doingmathwithpython/ )\n"
      ]
    },
    {
      "cell_type": "markdown",
      "metadata": {
        "id": "6aB3pN-ZGf3c",
        "colab_type": "text"
      },
      "source": [
        "# calculus 微積分"
      ]
    },
    {
      "cell_type": "code",
      "metadata": {
        "id": "jmjnH5SKrpGn",
        "colab_type": "code",
        "colab": {
          "base_uri": "https://localhost:8080/",
          "height": 60
        },
        "outputId": "4dfd8b6e-5170-4c1c-9ead-8bc59c05448d"
      },
      "source": [
        "from sympy import *\n",
        "init_printing()\n",
        "x, y, z = symbols('x y z')\n",
        "\n",
        "display(diff(cos(x)))\n",
        "\n",
        "display(diff(sin(x)))"
      ],
      "execution_count": 86,
      "outputs": [
        {
          "output_type": "display_data",
          "data": {
            "image/png": "[encoded data removed]",
            "text/latex": "$$- \\sin{\\left (x \\right )}$$",
            "text/plain": [
              "-sin(x)"
            ]
          },
          "metadata": {
            "tags": []
          }
        },
        {
          "output_type": "display_data",
          "data": {
            "image/png": "[encoded data removed]",
            "text/latex": "$$\\cos{\\left (x \\right )}$$",
            "text/plain": [
              "cos(x)"
            ]
          },
          "metadata": {
            "tags": []
          }
        }
      ]
    },
    {
      "cell_type": "markdown",
      "metadata": {
        "id": "YWV0wByWrpG5",
        "colab_type": "text"
      },
      "source": [
        "# partial differentiation 偏微分\n",
        "</br></br>\n",
        "$$\n",
        "\\frac{\\partial ^7}{\\partial x \\partial y^2 \\partial z^2} e ^{xyz}\n",
        "$$"
      ]
    },
    {
      "cell_type": "code",
      "metadata": {
        "id": "yb0cYJxfHQen",
        "colab_type": "code",
        "colab": {
          "base_uri": "https://localhost:8080/",
          "height": 58
        },
        "outputId": "7a2b564b-dd42-4a7c-ad7e-cec2ccb8511e"
      },
      "source": [
        "%%latex\n",
        "\\displaystyle\n",
        "\n",
        "\\frac{\\partial ^7}{\\partial x \\partial y^2 \\partial z^2} e ^{xyz}"
      ],
      "execution_count": 87,
      "outputs": [
        {
          "output_type": "display_data",
          "data": {
            "text/latex": "\\displaystyle\n\n\\frac{\\partial ^7}{\\partial x \\partial y^2 \\partial z^2} e ^{xyz}",
            "text/plain": [
              "<IPython.core.display.Latex object>"
            ]
          },
          "metadata": {
            "tags": []
          }
        }
      ]
    },
    {
      "cell_type": "code",
      "metadata": {
        "id": "WKYZWb4KrpG6",
        "colab_type": "code",
        "colab": {
          "base_uri": "https://localhost:8080/",
          "height": 63
        },
        "outputId": "8ce6bea7-9bf1-4fc1-8d5a-9b92aa287576"
      },
      "source": [
        "from sympy import *\n",
        "init_printing()\n",
        "x, y, z = symbols('x y z')\n",
        "\n",
        "expr = exp(x**2)\n",
        "display (expr)\n",
        "display (diff(expr))"
      ],
      "execution_count": 88,
      "outputs": [
        {
          "output_type": "display_data",
          "data": {
            "image/png": "[encoded data removed]",
            "text/latex": "$$e^{x^{2}}$$",
            "text/plain": [
              " ⎛ 2⎞\n",
              " ⎝x ⎠\n",
              "ℯ    "
            ]
          },
          "metadata": {
            "tags": []
          }
        },
        {
          "output_type": "display_data",
          "data": {
            "image/png": "[encoded data removed]",
            "text/latex": "$$2 x e^{x^{2}}$$",
            "text/plain": [
              "     ⎛ 2⎞\n",
              "     ⎝x ⎠\n",
              "2⋅x⋅ℯ    "
            ]
          },
          "metadata": {
            "tags": []
          }
        }
      ]
    },
    {
      "cell_type": "code",
      "metadata": {
        "id": "2N-paiUUrpG_",
        "colab_type": "code",
        "colab": {
          "base_uri": "https://localhost:8080/",
          "height": 41
        },
        "outputId": "52737916-2c8c-4972-9b96-a9988b2d3926"
      },
      "source": [
        "expr = exp(x*y*z)\n",
        "diff(expr,x,y,y,z,z,z,z)"
      ],
      "execution_count": 89,
      "outputs": [
        {
          "output_type": "execute_result",
          "data": {
            "image/png": "[encoded data removed]",
            "text/latex": "$$x^{3} y^{2} \\left(x^{3} y^{3} z^{3} + 14 x^{2} y^{2} z^{2} + 52 x y z + 48\\right) e^{x y z}$$",
            "text/plain": [
              " 3  2 ⎛ 3  3  3       2  2  2                ⎞  x⋅y⋅z\n",
              "x ⋅y ⋅⎝x ⋅y ⋅z  + 14⋅x ⋅y ⋅z  + 52⋅x⋅y⋅z + 48⎠⋅ℯ     "
            ]
          },
          "metadata": {
            "tags": []
          },
          "execution_count": 89
        }
      ]
    },
    {
      "cell_type": "code",
      "metadata": {
        "id": "UlRbWyJerpHE",
        "colab_type": "code",
        "colab": {
          "base_uri": "https://localhost:8080/",
          "height": 41
        },
        "outputId": "3b2b136a-388b-44e1-cf2e-db4c3e0e6842"
      },
      "source": [
        "diff(expr,x,y,z)"
      ],
      "execution_count": 90,
      "outputs": [
        {
          "output_type": "execute_result",
          "data": {
            "image/png": "[encoded data removed]",
            "text/latex": "$$\\left(x^{2} y^{2} z^{2} + 3 x y z + 1\\right) e^{x y z}$$",
            "text/plain": [
              "⎛ 2  2  2              ⎞  x⋅y⋅z\n",
              "⎝x ⋅y ⋅z  + 3⋅x⋅y⋅z + 1⎠⋅ℯ     "
            ]
          },
          "metadata": {
            "tags": []
          },
          "execution_count": 90
        }
      ]
    },
    {
      "cell_type": "code",
      "metadata": {
        "id": "iBfnAPeQrpHJ",
        "colab_type": "code",
        "colab": {
          "base_uri": "https://localhost:8080/",
          "height": 41
        },
        "outputId": "854d24ae-dc12-46cc-fdcf-e27f18e3643d"
      },
      "source": [
        "diff(expr,x,y,2,z,4)"
      ],
      "execution_count": 91,
      "outputs": [
        {
          "output_type": "execute_result",
          "data": {
            "image/png": "[encoded data removed]",
            "text/latex": "$$x^{3} y^{2} \\left(x^{3} y^{3} z^{3} + 14 x^{2} y^{2} z^{2} + 52 x y z + 48\\right) e^{x y z}$$",
            "text/plain": [
              " 3  2 ⎛ 3  3  3       2  2  2                ⎞  x⋅y⋅z\n",
              "x ⋅y ⋅⎝x ⋅y ⋅z  + 14⋅x ⋅y ⋅z  + 52⋅x⋅y⋅z + 48⎠⋅ℯ     "
            ]
          },
          "metadata": {
            "tags": []
          },
          "execution_count": 91
        }
      ]
    },
    {
      "cell_type": "code",
      "metadata": {
        "id": "PpJFi01wrpHR",
        "colab_type": "code",
        "colab": {
          "base_uri": "https://localhost:8080/",
          "height": 38
        },
        "outputId": "ff5c6fa2-2afd-4e3a-81bf-77923775297f"
      },
      "source": [
        "diff(expr,x,y,y,z,4)"
      ],
      "execution_count": 92,
      "outputs": [
        {
          "output_type": "execute_result",
          "data": {
            "image/png": "[encoded data removed]",
            "text/latex": "$$x^{3} y^{2} \\left(x^{3} y^{3} z^{3} + 14 x^{2} y^{2} z^{2} + 52 x y z + 48\\right) e^{x y z}$$",
            "text/plain": [
              " 3  2 ⎛ 3  3  3       2  2  2                ⎞  x⋅y⋅z\n",
              "x ⋅y ⋅⎝x ⋅y ⋅z  + 14⋅x ⋅y ⋅z  + 52⋅x⋅y⋅z + 48⎠⋅ℯ     "
            ]
          },
          "metadata": {
            "tags": []
          },
          "execution_count": 92
        }
      ]
    },
    {
      "cell_type": "markdown",
      "metadata": {
        "id": "utnFOHwvrpHa",
        "colab_type": "text"
      },
      "source": [
        "### 未評価の導関数を作る\n",
        "\n",
        "導関数クラスを使う。"
      ]
    },
    {
      "cell_type": "code",
      "metadata": {
        "id": "T0523hpvrpHb",
        "colab_type": "code",
        "colab": {
          "base_uri": "https://localhost:8080/",
          "height": 42
        },
        "outputId": "2b0f06c1-e0be-47c5-82bf-0abc4bf33f96"
      },
      "source": [
        "from sympy import *\n",
        "init_printing()\n",
        "x, y, z = symbols('x y z')\n",
        "expr = exp(x*y*z)\n",
        "\n",
        "deriv = Derivative(expr, x, y, y, z, 4)\n",
        "deriv"
      ],
      "execution_count": 93,
      "outputs": [
        {
          "output_type": "execute_result",
          "data": {
            "image/png": "[encoded data removed]",
            "text/latex": "$$\\frac{\\partial^{7}}{\\partial x\\partial y^{2}\\partial z^{4}}  e^{x y z}$$",
            "text/plain": [
              "     7            \n",
              "    ∂     ⎛ x⋅y⋅z⎞\n",
              "──────────⎝ℯ     ⎠\n",
              "  4   2           \n",
              "∂z  ∂y  ∂x        "
            ]
          },
          "metadata": {
            "tags": []
          },
          "execution_count": 93
        }
      ]
    },
    {
      "cell_type": "code",
      "metadata": {
        "id": "HhONyGU8rpHg",
        "colab_type": "code",
        "colab": {
          "base_uri": "https://localhost:8080/",
          "height": 38
        },
        "outputId": "eb584a70-1017-4705-88a7-e6d784ec78e2"
      },
      "source": [
        "Derivative((x**2),x)"
      ],
      "execution_count": 94,
      "outputs": [
        {
          "output_type": "execute_result",
          "data": {
            "image/png": "[encoded data removed]",
            "text/latex": "$$\\frac{d}{d x} x^{2}$$",
            "text/plain": [
              "d ⎛ 2⎞\n",
              "──⎝x ⎠\n",
              "dx    "
            ]
          },
          "metadata": {
            "tags": []
          },
          "execution_count": 94
        }
      ]
    },
    {
      "cell_type": "markdown",
      "metadata": {
        "id": "f8JU4UZDrpHl",
        "colab_type": "text"
      },
      "source": [
        "###  未評価の導関数を評価する\n",
        "\n",
        "`doit`メソッドを使う。"
      ]
    },
    {
      "cell_type": "code",
      "metadata": {
        "id": "jKYGLOw_rpHm",
        "colab_type": "code",
        "colab": {
          "base_uri": "https://localhost:8080/",
          "height": 38
        },
        "outputId": "f30ab36f-f7bd-43da-a130-09c52fa26766"
      },
      "source": [
        "deriv.doit()"
      ],
      "execution_count": 95,
      "outputs": [
        {
          "output_type": "execute_result",
          "data": {
            "image/png": "[encoded data removed]",
            "text/latex": "$$x^{3} y^{2} \\left(x^{3} y^{3} z^{3} + 14 x^{2} y^{2} z^{2} + 52 x y z + 48\\right) e^{x y z}$$",
            "text/plain": [
              " 3  2 ⎛ 3  3  3       2  2  2                ⎞  x⋅y⋅z\n",
              "x ⋅y ⋅⎝x ⋅y ⋅z  + 14⋅x ⋅y ⋅z  + 52⋅x⋅y⋅z + 48⎠⋅ℯ     "
            ]
          },
          "metadata": {
            "tags": []
          },
          "execution_count": 95
        }
      ]
    },
    {
      "cell_type": "code",
      "metadata": {
        "id": "Qqj0vkfzrpHq",
        "colab_type": "code",
        "colab": {
          "base_uri": "https://localhost:8080/",
          "height": 38
        },
        "outputId": "44198813-c31a-445d-aeda-feea1ac40f3b"
      },
      "source": [
        "Derivative((x**2),x).doit()"
      ],
      "execution_count": 96,
      "outputs": [
        {
          "output_type": "execute_result",
          "data": {
            "image/png": "[encoded data removed]",
            "text/latex": "$$2 x$$",
            "text/plain": [
              "2⋅x"
            ]
          },
          "metadata": {
            "tags": []
          },
          "execution_count": 96
        }
      ]
    },
    {
      "cell_type": "markdown",
      "metadata": {
        "id": "wr6eBWtRrpHu",
        "colab_type": "text"
      },
      "source": [
        "###  Derivatives of unspecified order\n",
        "\n",
        "Derivatives of unspecified order can be created using tuple (x, n) where n is the order of the derivative with respect to x"
      ]
    },
    {
      "cell_type": "code",
      "metadata": {
        "id": "2Rl2hxZmrpHv",
        "colab_type": "code",
        "colab": {
          "base_uri": "https://localhost:8080/",
          "height": 0
        },
        "outputId": "cfd8a27f-774f-47ef-c734-383a72fc01ec"
      },
      "source": [
        "from sympy import *\n",
        "init_printing()\n",
        "m, n, a, b = symbols('m n a b')\n",
        "expr = (a*x + b)**m\n",
        "expr.diff((x,n))"
      ],
      "execution_count": 97,
      "outputs": [
        {
          "output_type": "error",
          "ename": "AttributeError",
          "evalue": "ignored",
          "traceback": [
            "\u001b[0;31m---------------------------------------------------------------------------\u001b[0m",
            "\u001b[0;31mAttributeError\u001b[0m                            Traceback (most recent call last)",
            "\u001b[0;32m<ipython-input-97-6c1f8aa45be1>\u001b[0m in \u001b[0;36m<module>\u001b[0;34m()\u001b[0m\n\u001b[1;32m      3\u001b[0m \u001b[0mm\u001b[0m\u001b[0;34m,\u001b[0m \u001b[0mn\u001b[0m\u001b[0;34m,\u001b[0m \u001b[0ma\u001b[0m\u001b[0;34m,\u001b[0m \u001b[0mb\u001b[0m \u001b[0;34m=\u001b[0m \u001b[0msymbols\u001b[0m\u001b[0;34m(\u001b[0m\u001b[0;34m'm n a b'\u001b[0m\u001b[0;34m)\u001b[0m\u001b[0;34m\u001b[0m\u001b[0;34m\u001b[0m\u001b[0m\n\u001b[1;32m      4\u001b[0m \u001b[0mexpr\u001b[0m \u001b[0;34m=\u001b[0m \u001b[0;34m(\u001b[0m\u001b[0ma\u001b[0m\u001b[0;34m*\u001b[0m\u001b[0mx\u001b[0m \u001b[0;34m+\u001b[0m \u001b[0mb\u001b[0m\u001b[0;34m)\u001b[0m\u001b[0;34m**\u001b[0m\u001b[0mm\u001b[0m\u001b[0;34m\u001b[0m\u001b[0;34m\u001b[0m\u001b[0m\n\u001b[0;32m----> 5\u001b[0;31m \u001b[0mexpr\u001b[0m\u001b[0;34m.\u001b[0m\u001b[0mdiff\u001b[0m\u001b[0;34m(\u001b[0m\u001b[0;34m(\u001b[0m\u001b[0mx\u001b[0m\u001b[0;34m,\u001b[0m\u001b[0mn\u001b[0m\u001b[0;34m)\u001b[0m\u001b[0;34m)\u001b[0m\u001b[0;34m\u001b[0m\u001b[0;34m\u001b[0m\u001b[0m\n\u001b[0m",
            "\u001b[0;32m/usr/local/lib/python3.6/dist-packages/sympy/core/expr.py\u001b[0m in \u001b[0;36mdiff\u001b[0;34m(self, *symbols, **assumptions)\u001b[0m\n\u001b[1;32m   2947\u001b[0m         \u001b[0mnew_symbols\u001b[0m \u001b[0;34m=\u001b[0m \u001b[0mlist\u001b[0m\u001b[0;34m(\u001b[0m\u001b[0mmap\u001b[0m\u001b[0;34m(\u001b[0m\u001b[0msympify\u001b[0m\u001b[0;34m,\u001b[0m \u001b[0msymbols\u001b[0m\u001b[0;34m)\u001b[0m\u001b[0;34m)\u001b[0m  \u001b[0;31m# e.g. x, 2, y, z\u001b[0m\u001b[0;34m\u001b[0m\u001b[0;34m\u001b[0m\u001b[0m\n\u001b[1;32m   2948\u001b[0m         \u001b[0massumptions\u001b[0m\u001b[0;34m.\u001b[0m\u001b[0msetdefault\u001b[0m\u001b[0;34m(\u001b[0m\u001b[0;34m\"evaluate\"\u001b[0m\u001b[0;34m,\u001b[0m \u001b[0;32mTrue\u001b[0m\u001b[0;34m)\u001b[0m\u001b[0;34m\u001b[0m\u001b[0;34m\u001b[0m\u001b[0m\n\u001b[0;32m-> 2949\u001b[0;31m         \u001b[0;32mreturn\u001b[0m \u001b[0mDerivative\u001b[0m\u001b[0;34m(\u001b[0m\u001b[0mself\u001b[0m\u001b[0;34m,\u001b[0m \u001b[0;34m*\u001b[0m\u001b[0mnew_symbols\u001b[0m\u001b[0;34m,\u001b[0m \u001b[0;34m**\u001b[0m\u001b[0massumptions\u001b[0m\u001b[0;34m)\u001b[0m\u001b[0;34m\u001b[0m\u001b[0;34m\u001b[0m\u001b[0m\n\u001b[0m\u001b[1;32m   2950\u001b[0m \u001b[0;34m\u001b[0m\u001b[0m\n\u001b[1;32m   2951\u001b[0m     \u001b[0;31m###########################################################################\u001b[0m\u001b[0;34m\u001b[0m\u001b[0;34m\u001b[0m\u001b[0;34m\u001b[0m\u001b[0m\n",
            "\u001b[0;32m/usr/local/lib/python3.6/dist-packages/sympy/core/function.py\u001b[0m in \u001b[0;36m__new__\u001b[0;34m(cls, expr, *variables, **assumptions)\u001b[0m\n\u001b[1;32m   1096\u001b[0m             \u001b[0mv\u001b[0m\u001b[0;34m,\u001b[0m \u001b[0mcount\u001b[0m \u001b[0;34m=\u001b[0m \u001b[0mvariables\u001b[0m\u001b[0;34m[\u001b[0m\u001b[0mi\u001b[0m\u001b[0;34m:\u001b[0m \u001b[0mi\u001b[0m \u001b[0;34m+\u001b[0m \u001b[0;36m2\u001b[0m\u001b[0;34m]\u001b[0m\u001b[0;34m\u001b[0m\u001b[0;34m\u001b[0m\u001b[0m\n\u001b[1;32m   1097\u001b[0m             \u001b[0miwas\u001b[0m \u001b[0;34m=\u001b[0m \u001b[0mi\u001b[0m\u001b[0;34m\u001b[0m\u001b[0;34m\u001b[0m\u001b[0m\n\u001b[0;32m-> 1098\u001b[0;31m             \u001b[0;32mif\u001b[0m \u001b[0mv\u001b[0m\u001b[0;34m.\u001b[0m\u001b[0m_diff_wrt\u001b[0m\u001b[0;34m:\u001b[0m\u001b[0;34m\u001b[0m\u001b[0;34m\u001b[0m\u001b[0m\n\u001b[0m\u001b[1;32m   1099\u001b[0m                 \u001b[0;31m# We need to test the more specific case of count being an\u001b[0m\u001b[0;34m\u001b[0m\u001b[0;34m\u001b[0m\u001b[0;34m\u001b[0m\u001b[0m\n\u001b[1;32m   1100\u001b[0m                 \u001b[0;31m# Integer first.\u001b[0m\u001b[0;34m\u001b[0m\u001b[0;34m\u001b[0m\u001b[0;34m\u001b[0m\u001b[0m\n",
            "\u001b[0;31mAttributeError\u001b[0m: 'Tuple' object has no attribute '_diff_wrt'"
          ]
        }
      ]
    },
    {
      "cell_type": "markdown",
      "metadata": {
        "id": "fEFOFUDlrpHz",
        "colab_type": "text"
      },
      "source": [
        "### Integrals 積分"
      ]
    },
    {
      "cell_type": "code",
      "metadata": {
        "id": "caZEtF-0rpH0",
        "colab_type": "code",
        "colab": {}
      },
      "source": [
        "integrate(cos(x),x)"
      ],
      "execution_count": null,
      "outputs": []
    },
    {
      "cell_type": "code",
      "metadata": {
        "id": "bBoZwpmerpH4",
        "colab_type": "code",
        "colab": {}
      },
      "source": [
        "Integral(cos(x),(x,0,oo))"
      ],
      "execution_count": null,
      "outputs": []
    },
    {
      "cell_type": "code",
      "metadata": {
        "id": "jYzaAlhDrpH9",
        "colab_type": "code",
        "colab": {}
      },
      "source": [
        "integrate(cos(x),(x,0,oo))"
      ],
      "execution_count": null,
      "outputs": []
    },
    {
      "cell_type": "code",
      "metadata": {
        "id": "2S0IJ7yDrpIC",
        "colab_type": "code",
        "colab": {}
      },
      "source": [
        "integrate(exp(-x),(x,0,oo))"
      ],
      "execution_count": null,
      "outputs": []
    },
    {
      "cell_type": "code",
      "metadata": {
        "id": "UmflOVm9rpIG",
        "colab_type": "code",
        "colab": {}
      },
      "source": [
        "Integral(exp(-x**2 -y**2),(x, -oo, oo), (y,-oo,oo))"
      ],
      "execution_count": null,
      "outputs": []
    },
    {
      "cell_type": "code",
      "metadata": {
        "id": "td5BCSNYrpIJ",
        "colab_type": "code",
        "colab": {}
      },
      "source": [
        "integrate(exp(-x**2 - y**2), (x, -oo, oo), (y, -oo, oo))"
      ],
      "execution_count": null,
      "outputs": []
    },
    {
      "cell_type": "code",
      "metadata": {
        "id": "xYKhkolQrpIN",
        "colab_type": "code",
        "colab": {}
      },
      "source": [
        "expr = integrate(x**x, x)\n",
        "print(expr)\n",
        "display(expr)"
      ],
      "execution_count": null,
      "outputs": []
    },
    {
      "cell_type": "code",
      "metadata": {
        "id": "vb8E2T3CrpIR",
        "colab_type": "code",
        "colab": {}
      },
      "source": [
        "expr"
      ],
      "execution_count": null,
      "outputs": []
    },
    {
      "cell_type": "code",
      "metadata": {
        "id": "BYzfiA_rrpIV",
        "colab_type": "code",
        "colab": {}
      },
      "source": [
        "expr = Integral(log(x)**2,x)\n",
        "expr"
      ],
      "execution_count": null,
      "outputs": []
    },
    {
      "cell_type": "code",
      "metadata": {
        "id": "T8KHHB9jrpIb",
        "colab_type": "code",
        "colab": {}
      },
      "source": [
        "expr.doit()"
      ],
      "execution_count": null,
      "outputs": []
    },
    {
      "cell_type": "code",
      "metadata": {
        "id": "_x29_37NrpIg",
        "colab_type": "code",
        "colab": {}
      },
      "source": [
        "integ = Integral((x**4 + x**2*exp(x) - x**2 - 2*x*exp(x) - 2*x - exp(x))*exp(x)/((x - 1)**2*(x + 1)**2*(exp(x) + 1)), x)\n",
        "integ"
      ],
      "execution_count": null,
      "outputs": []
    },
    {
      "cell_type": "code",
      "metadata": {
        "id": "iGAhEg5erpIk",
        "colab_type": "code",
        "colab": {}
      },
      "source": [
        "integ.doit()"
      ],
      "execution_count": null,
      "outputs": []
    },
    {
      "cell_type": "code",
      "metadata": {
        "id": "mS9LhXF2rpIn",
        "colab_type": "code",
        "colab": {}
      },
      "source": [
        "integ = Integral(sin(x**2),x)\n",
        "integ"
      ],
      "execution_count": null,
      "outputs": []
    },
    {
      "cell_type": "code",
      "metadata": {
        "id": "7f7MkNNVrpIq",
        "colab_type": "code",
        "colab": {}
      },
      "source": [
        "integ.doit()"
      ],
      "execution_count": null,
      "outputs": []
    },
    {
      "cell_type": "code",
      "metadata": {
        "id": "hXY6oxzbrpIu",
        "colab_type": "code",
        "colab": {}
      },
      "source": [
        "integ = Integral(x**y*exp(-x), (x,0,oo))\n",
        "integ"
      ],
      "execution_count": null,
      "outputs": []
    },
    {
      "cell_type": "code",
      "metadata": {
        "id": "aIchiwHcrpIz",
        "colab_type": "code",
        "colab": {}
      },
      "source": [
        "integ.doit()"
      ],
      "execution_count": null,
      "outputs": []
    },
    {
      "cell_type": "markdown",
      "metadata": {
        "id": "y0WxrNPerpI3",
        "colab_type": "text"
      },
      "source": [
        "# limits 極限\n",
        "</br></br>\n",
        "$$ \\lim_{x \\to x_0} f (x) $$\n",
        "\n"
      ]
    },
    {
      "cell_type": "code",
      "metadata": {
        "id": "II2So9NPazb8",
        "colab_type": "code",
        "colab": {}
      },
      "source": [
        "%%latex\n",
        "\\displaystyle\n",
        "\n",
        "\\lim_{x \\to x_0} f (x)"
      ],
      "execution_count": null,
      "outputs": []
    },
    {
      "cell_type": "code",
      "metadata": {
        "id": "WnYZZ2tdrpI3",
        "colab_type": "code",
        "colab": {}
      },
      "source": [
        "\n",
        "Limit(sin(x)/x, x, 0)"
      ],
      "execution_count": null,
      "outputs": []
    },
    {
      "cell_type": "code",
      "metadata": {
        "id": "QtnD3Gx5rpI6",
        "colab_type": "code",
        "colab": {}
      },
      "source": [
        "Limit(sin(x)/x, x, 0).doit()"
      ],
      "execution_count": null,
      "outputs": []
    },
    {
      "cell_type": "code",
      "metadata": {
        "id": "fhNU28PmrpI-",
        "colab_type": "code",
        "colab": {}
      },
      "source": [
        "expr = x**2/exp(x)\n",
        "expr.subs(x,oo)"
      ],
      "execution_count": null,
      "outputs": []
    },
    {
      "cell_type": "code",
      "metadata": {
        "id": "oT09ZWM5rpJC",
        "colab_type": "code",
        "colab": {}
      },
      "source": [
        "limit(expr,x,oo)"
      ],
      "execution_count": null,
      "outputs": []
    },
    {
      "cell_type": "code",
      "metadata": {
        "id": "hf6T-l_frpJF",
        "colab_type": "code",
        "colab": {}
      },
      "source": [
        "expr = Limit((cos(x) - 1)/x, x, 0)\n",
        "expr"
      ],
      "execution_count": null,
      "outputs": []
    },
    {
      "cell_type": "code",
      "metadata": {
        "id": "w35MW4oCrpJI",
        "colab_type": "code",
        "colab": {}
      },
      "source": [
        "expr.doit()"
      ],
      "execution_count": null,
      "outputs": []
    },
    {
      "cell_type": "code",
      "metadata": {
        "id": "cppZaZnqrpJM",
        "colab_type": "code",
        "colab": {}
      },
      "source": [
        "limit(1/x,x,0,'+')"
      ],
      "execution_count": null,
      "outputs": []
    },
    {
      "cell_type": "code",
      "metadata": {
        "id": "NsDXF5ujrpJQ",
        "colab_type": "code",
        "colab": {}
      },
      "source": [
        "limit(1/x,x,0,'-')"
      ],
      "execution_count": null,
      "outputs": []
    },
    {
      "cell_type": "markdown",
      "metadata": {
        "id": "1AMvlv8XrpJU",
        "colab_type": "text"
      },
      "source": [
        "# series expansion 数列展開\n",
        "\n",
        "asymptotic series -> 漸近数列\n",
        "\n",
        "`SymPy`はある点における関数の漸近数列を計算できる。\n",
        "\n",
        "点`x=x0`の近辺でタームズ・オブ・オーダーを `xn`とする関数 `f(x)` について、`f(x).serries(x, x0, n)` を使う。 `x0` と `n` は省略可能で、その場合 `x0=0`、 `n=6` が使われる。\n",
        "\n",
        "SymPy can compute asymptotic series expansions of functions around a point. To compute the expansion of f(x) around the point x=x0 terms of order xn, use f(x).series(x, x0, n). x0 and n can be omitted, in which case the defaults x0=0 and n=6 will be used."
      ]
    },
    {
      "cell_type": "code",
      "metadata": {
        "id": "Ea9yRDCsrpJV",
        "colab_type": "code",
        "colab": {}
      },
      "source": [
        "expr = exp(sin(x))\n",
        "expr.series(x, 0, 4)"
      ],
      "execution_count": null,
      "outputs": []
    },
    {
      "cell_type": "markdown",
      "metadata": {
        "id": "qDXAsebFrpJY",
        "colab_type": "text"
      },
      "source": [
        "#  Landau order ランダウ・オーダー\n",
        "\n",
        "終点における $ O(x^4) $ タームは $x=0$ におけるランダウ・ターム・オーダーをあらwしている。コンピューターサイエンスにおけるビッグオー記法と一緒にしてはいけない。ビッグオーは一般的に `x=∞` におけるランダウ・ターム・オーダーを表す。  \n",
        " $ O(x^4) $ タームは `x4` もしくはそれ以上の冪乗の `x` タームは無視するという意味で、オーダー・タームは数列の外で作られ、操作される。高次のタームは自動的に吸収される。\n",
        "\n",
        "\n",
        "\n",
        "\n",
        "The $ O(x^4) $ term at the end represents the Landau order term at $x=0$ (not to be confused with big O notation used in computer science, which generally represents the Landau order term at x=∞). It means that all x terms with power greater than or equal to x4 are omitted. Order terms can be created and manipulated outside of series. They automatically absorb higher order terms.\n"
      ]
    },
    {
      "cell_type": "code",
      "metadata": {
        "id": "1-4X-4s6rpJZ",
        "colab_type": "code",
        "colab": {}
      },
      "source": [
        "x + x**3 + x**6 + O(x**4)"
      ],
      "execution_count": null,
      "outputs": []
    },
    {
      "cell_type": "code",
      "metadata": {
        "id": "U9ID5a_brpJc",
        "colab_type": "code",
        "colab": {}
      },
      "source": [
        "x*O(1)"
      ],
      "execution_count": null,
      "outputs": []
    },
    {
      "cell_type": "code",
      "metadata": {
        "id": "Ew8BEscYrpJf",
        "colab_type": "code",
        "colab": {}
      },
      "source": [
        "expr.series(x,0,4).removeO()"
      ],
      "execution_count": null,
      "outputs": []
    },
    {
      "cell_type": "markdown",
      "metadata": {
        "id": "Qojd-ifLrpJk",
        "colab_type": "text"
      },
      "source": [
        "### オー記法は、ゼロ以外の任意の極限点をサポートする\n",
        "\n",
        "The O notation supports arbitrary limit points (other than 0):"
      ]
    },
    {
      "cell_type": "code",
      "metadata": {
        "id": "AwxUT_iirpJl",
        "colab_type": "code",
        "colab": {}
      },
      "source": [
        "exp(x - 6).series(x, x0=6)"
      ],
      "execution_count": null,
      "outputs": []
    },
    {
      "cell_type": "markdown",
      "metadata": {
        "id": "DnEo05ZQrpJp",
        "colab_type": "text"
      },
      "source": [
        "# Finite differences 有限差分\n",
        "\n",
        "以上見てきたのは解析微分 `analytic derivative` と原始関数 `primitive function` であったが、閉鎖的な表現を持たない曲線の微分をしたいときにはどうするか。また、そもそも関数的な値を持っていない場合はどうするか。\n",
        "\n",
        "そういう場合のアプローチのひとつが有限差分アプローチである。\n",
        "\n",
        "有限差分を使用して微分する最も簡単な方法は、`differentiate_finite` 関数を使う。\n"
      ]
    },
    {
      "cell_type": "code",
      "metadata": {
        "id": "4gdLSi0yrpJq",
        "colab_type": "code",
        "colab": {}
      },
      "source": [
        "f, g = symbols('f g', cls=Function)\n",
        "differentiate_finite(f(x)*g(x))"
      ],
      "execution_count": null,
      "outputs": []
    },
    {
      "cell_type": "markdown",
      "metadata": {
        "id": "EYpbJOQarpJt",
        "colab_type": "text"
      },
      "source": [
        "中間導関数を拡張する場合は、フラグevaluate = Trueを渡す。\n"
      ]
    },
    {
      "cell_type": "code",
      "metadata": {
        "id": "YP7-e94arpJt",
        "colab_type": "code",
        "colab": {}
      },
      "source": [
        "differentiate_finite(f(x)*g(x), evaluate=True)"
      ],
      "execution_count": null,
      "outputs": []
    },
    {
      "cell_type": "markdown",
      "metadata": {
        "id": "qZzM6DagrpJw",
        "colab_type": "text"
      },
      "source": [
        "ただし、このフォームは `product` ルールを無視する。\n",
        "\n",
        "すでに導関数インスタンスがある場合は、as_finite_differenceメソッドを使用して、導関数の任意のオーダーの近似を生成できる。\n"
      ]
    },
    {
      "cell_type": "code",
      "metadata": {
        "id": "OriuPYv2rpJx",
        "colab_type": "code",
        "colab": {}
      },
      "source": [
        "f = Function('f')\n",
        "dfdx =f(x).diff(x)\n",
        "dfdx.as_finite_difference()"
      ],
      "execution_count": null,
      "outputs": []
    },
    {
      "cell_type": "markdown",
      "metadata": {
        "id": "QArMY5uKrpJ0",
        "colab_type": "text"
      },
      "source": [
        "ここで、1次導関数は、ステップサイズ1を使用して等距離で評価された最小数の点（1次導関数の場合は2）を使用してxの周りで近似された。\n",
        "\n",
        "記号式を含む任意のステップを使用できる。"
      ]
    },
    {
      "cell_type": "code",
      "metadata": {
        "id": "jgbiGQ9krpJ1",
        "colab_type": "code",
        "colab": {}
      },
      "source": [
        "f = Function('f')\n",
        "dfdx2 =f(x).diff(x, 2)\n",
        "h = Symbol('h')\n",
        "dfdx2.as_finite_difference([-3*h, -h, 2*h])"
      ],
      "execution_count": null,
      "outputs": []
    },
    {
      "cell_type": "markdown",
      "metadata": {
        "id": "YPIeGZKBrpJ7",
        "colab_type": "text"
      },
      "source": [
        "重みの評価だけに関心がある場合は、手動で行うこともできる。"
      ]
    },
    {
      "cell_type": "code",
      "metadata": {
        "id": "5v39qoK_rpJ7",
        "colab_type": "code",
        "colab": {}
      },
      "source": [
        "finite_diff_weights(2, [-3,-1,2], 0)[-1][-1]"
      ],
      "execution_count": null,
      "outputs": []
    },
    {
      "cell_type": "markdown",
      "metadata": {
        "id": "NUHB_iZSrpJ-",
        "colab_type": "text"
      },
      "source": [
        "finite_diff_weightsから返される最後のサブリストの最後の要素のみが必要であることに注意。 これは、関数が低次の導関数の重みを生成し、使用するポイントが少ないため。\n",
        "\n",
        "finite_diff_weightsが複雑に見え、導関数インスタンスのas_finite_differenceメソッドの柔軟性が十分でない場合は、order、x_list、y_list、x0をパラメーターとして取るapply_finite_diffを使用しよう。"
      ]
    },
    {
      "cell_type": "code",
      "metadata": {
        "id": "ftrZsv1WrpJ_",
        "colab_type": "code",
        "colab": {}
      },
      "source": [
        "x_list = [-3, 1, 2]\n",
        "y_list = symbols('a b c')\n",
        "apply_finite_diff(1, x_list, y_list, 0)"
      ],
      "execution_count": null,
      "outputs": []
    },
    {
      "cell_type": "markdown",
      "metadata": {
        "id": "HT9CFxIUrpKI",
        "colab_type": "text"
      },
      "source": [
        "# solvers ソルバー"
      ]
    },
    {
      "cell_type": "code",
      "metadata": {
        "id": "_cpVXWs_rpKJ",
        "colab_type": "code",
        "colab": {}
      },
      "source": [
        "from sympy import *\n",
        "x, y, z = symbols('x y z')\n",
        "init_printing()\n",
        "\n",
        "Eq(x , y)"
      ],
      "execution_count": null,
      "outputs": []
    },
    {
      "cell_type": "code",
      "metadata": {
        "id": "96r2EqhjrpKM",
        "colab_type": "code",
        "colab": {}
      },
      "source": [
        "solveset(Eq(x**2, 1))"
      ],
      "execution_count": null,
      "outputs": []
    },
    {
      "cell_type": "code",
      "metadata": {
        "id": "FTwlZAwqrpKR",
        "colab_type": "code",
        "colab": {}
      },
      "source": [
        "solveset(Eq(x**2 -1, 0))"
      ],
      "execution_count": null,
      "outputs": []
    },
    {
      "cell_type": "code",
      "metadata": {
        "id": "gw1eUCb2rpKU",
        "colab_type": "code",
        "colab": {}
      },
      "source": [
        "solveset(x**2 -1)"
      ],
      "execution_count": null,
      "outputs": []
    },
    {
      "cell_type": "markdown",
      "metadata": {
        "id": "Pb77rXNsrpKX",
        "colab_type": "text"
      },
      "source": [
        "### 代数的に方程式を解く\n",
        "\n",
        "`solveset(eqation, variable=None, domain=S.Complexes)`\n",
        "\n",
        "`solve(equations, variables)` の代わりに `solveset`を使う。\n",
        "\n",
        "`solveset` の返り値は `FiniteSet`、もしくは解答の `Interval` か `ImageSet` である。\n"
      ]
    },
    {
      "cell_type": "code",
      "metadata": {
        "id": "9DGMnbymrpKX",
        "colab_type": "code",
        "colab": {}
      },
      "source": [
        "solveset(x**2 - x, x)"
      ],
      "execution_count": null,
      "outputs": []
    },
    {
      "cell_type": "code",
      "metadata": {
        "id": "GgRwyL2EVlBD",
        "colab_type": "code",
        "colab": {}
      },
      "source": [
        "from numpy import *\n",
        "s = solveset(x**2 - x, x)\n",
        "type(s)"
      ],
      "execution_count": null,
      "outputs": []
    },
    {
      "cell_type": "code",
      "metadata": {
        "id": "Xp5aknLOrpKa",
        "colab_type": "code",
        "colab": {}
      },
      "source": [
        "solveset(x - x, x , domain=S.Reals)"
      ],
      "execution_count": null,
      "outputs": []
    },
    {
      "cell_type": "code",
      "metadata": {
        "id": "2KcX6mMufoUu",
        "colab_type": "code",
        "colab": {}
      },
      "source": [
        "type (solveset(x - x, x , domain=S.Reals))"
      ],
      "execution_count": null,
      "outputs": []
    },
    {
      "cell_type": "code",
      "metadata": {
        "id": "3jYTfd0zrpKe",
        "colab_type": "code",
        "colab": {}
      },
      "source": [
        "solveset(sin(x) - 1, x, domain=S.Reals)"
      ],
      "execution_count": null,
      "outputs": []
    },
    {
      "cell_type": "code",
      "metadata": {
        "id": "i9GscUk5rpKh",
        "colab_type": "code",
        "colab": {}
      },
      "source": [
        "solveset(exp(x),x) # No solution exists -> EmptySet"
      ],
      "execution_count": null,
      "outputs": []
    },
    {
      "cell_type": "code",
      "metadata": {
        "id": "mPHLhV9jrpKl",
        "colab_type": "code",
        "colab": {}
      },
      "source": [
        "solveset(cos(x) -x, x) # Not able to find solution -> ConditonSet"
      ],
      "execution_count": null,
      "outputs": []
    },
    {
      "cell_type": "markdown",
      "metadata": {
        "id": "IxBS05NjrpKo",
        "colab_type": "text"
      },
      "source": [
        "# 線形方程式 linear equations \n",
        "\n",
        "`linsolve`を使う。"
      ]
    },
    {
      "cell_type": "code",
      "metadata": {
        "id": "s8UIfPsFrpKo",
        "colab_type": "code",
        "colab": {}
      },
      "source": [
        "linsolve([x+y+z-1, x+y+2*z-3],(x,y,z))"
      ],
      "execution_count": null,
      "outputs": []
    },
    {
      "cell_type": "code",
      "metadata": {
        "id": "5xFVdZ-rgmon",
        "colab_type": "code",
        "colab": {}
      },
      "source": [
        "linsolve?"
      ],
      "execution_count": null,
      "outputs": []
    },
    {
      "cell_type": "code",
      "metadata": {
        "id": "UeSZmb1mrpKr",
        "colab_type": "code",
        "colab": {}
      },
      "source": [
        "from sympy import *\n",
        "x, y, z = symbols('x y z')\n",
        "init_printing()\n",
        "linsolve(Matrix(([1,1,1,1],[1,1,2,3])),(x,y,z))"
      ],
      "execution_count": null,
      "outputs": []
    },
    {
      "cell_type": "code",
      "metadata": {
        "id": "lx0sltnTrpKt",
        "colab_type": "code",
        "colab": {}
      },
      "source": [
        "# A*x = b Form\n",
        "M = Matrix(((1,1,1,1),(1,1,2,3)))\n",
        "system = A, b = M[:, :-1], M[:, -1]\n",
        "linsolve(system, x, y, z)"
      ],
      "execution_count": null,
      "outputs": []
    },
    {
      "cell_type": "markdown",
      "metadata": {
        "id": "Qq5t6xOgrpKv",
        "colab_type": "text"
      },
      "source": [
        "### 非線形解 nonlinsolve \n",
        "\n",
        "solvesetモジュールでは、非線形システムの方程式は`nonlinsolve`を使用して解く。"
      ]
    },
    {
      "cell_type": "code",
      "metadata": {
        "id": "ItIeQpKarpKw",
        "colab_type": "code",
        "colab": {}
      },
      "source": [
        "# when only real solution is present\n",
        "from sympy import*\n",
        "init_printing()\n",
        "x, y, z = symbols('x y z')\n",
        "a,b,c,d = symbols('a b c d', real=True)\n",
        "\n",
        "nonlinsolve([a**2 + a, a - b], [a, b])"
      ],
      "execution_count": null,
      "outputs": []
    },
    {
      "cell_type": "code",
      "metadata": {
        "id": "Jg_mD9aCrpK2",
        "colab_type": "code",
        "colab": {}
      },
      "source": [
        "nonlinsolve([x*y - 1, x - 2], x, y)"
      ],
      "execution_count": null,
      "outputs": []
    },
    {
      "cell_type": "code",
      "metadata": {
        "id": "PuhELy1HrpK4",
        "colab_type": "code",
        "colab": {}
      },
      "source": [
        "# when only complex solution is present\n",
        "nonlinsolve([x**2 + 1, y**2 + 1], [x, y])"
      ],
      "execution_count": null,
      "outputs": []
    },
    {
      "cell_type": "markdown",
      "metadata": {
        "id": "_1VpZEmriPYx",
        "colab_type": "text"
      },
      "source": [
        "# いまここ"
      ]
    },
    {
      "cell_type": "code",
      "metadata": {
        "id": "JuydR4NArpK8",
        "colab_type": "code",
        "colab": {}
      },
      "source": [
        "# when both real and complex solution is present\n",
        "from sympy import sqrt\n",
        "system = [x**2 - 2*y**2 - 2, x*y - 2]\n",
        "vars = [x, y]\n",
        "nonlinsolve(system, vars)"
      ],
      "execution_count": null,
      "outputs": []
    },
    {
      "cell_type": "code",
      "metadata": {
        "id": "Ti5BV65CrpK_",
        "colab_type": "code",
        "colab": {}
      },
      "source": [
        "n = Dummy('n')\n",
        "system = [exp(x) - sin(y), 1/y - 3]\n",
        "real_soln = (log(sin(S(1)/3)), S(1)/3)\n",
        "img_lamda = Lambda(n, 2*n*I*pi + Mod(log(sin(S(1)/3)), 2*I*pi))\n",
        "complex_soln = (ImageSet(img_lamda, S.Integers), S(1)/3)\n",
        "soln = FiniteSet(real_soln, complex_soln)\n",
        "nonlinsolve(system,[x,y]) == soln"
      ],
      "execution_count": null,
      "outputs": []
    },
    {
      "cell_type": "code",
      "metadata": {
        "id": "RdZRGKf7rpLC",
        "colab_type": "code",
        "colab": {}
      },
      "source": [
        "real_soln"
      ],
      "execution_count": null,
      "outputs": []
    },
    {
      "cell_type": "code",
      "metadata": {
        "id": "VP0troIhrpLE",
        "colab_type": "code",
        "colab": {}
      },
      "source": [
        "complex_soln"
      ],
      "execution_count": null,
      "outputs": []
    },
    {
      "cell_type": "markdown",
      "metadata": {
        "id": "dX18yLrErpLH",
        "colab_type": "text"
      },
      "source": [
        "方程式の非線形システムが正の次元システムである場合（無限に多くの解を持つシステムは正の次元であると言われる）"
      ]
    },
    {
      "cell_type": "code",
      "metadata": {
        "id": "jtIUapzcrpLH",
        "colab_type": "code",
        "colab": {}
      },
      "source": [
        "nonlinsolve([x*y, x*y - x],[x, y])"
      ],
      "execution_count": null,
      "outputs": []
    },
    {
      "cell_type": "code",
      "metadata": {
        "id": "1dUFhLiIrpLK",
        "colab_type": "code",
        "colab": {}
      },
      "source": [
        "system = [a**2 + a*c , a - b]\n",
        "nonlinsolve(system , [a, b])"
      ],
      "execution_count": null,
      "outputs": []
    },
    {
      "cell_type": "markdown",
      "metadata": {
        "id": "wLzz9VUIrpLO",
        "colab_type": "text"
      },
      "source": [
        "\n",
        "解のオーダーが、与えられたシンボルのオーダーに対応しているとき。\n",
        "\n",
        "ランベルトのWの形での解が存在しても、現在の`nonlinsolve`はランベルトのWの形での解を返さない。\n",
        "\n",
        "このような時は`solve`を使う。\n"
      ]
    },
    {
      "cell_type": "code",
      "metadata": {
        "id": "8NT1n7fyrpLP",
        "colab_type": "code",
        "colab": {}
      },
      "source": [
        "solve([x**2 - y**2/exp(x)],[x,y], dict=True)"
      ],
      "execution_count": null,
      "outputs": []
    },
    {
      "cell_type": "markdown",
      "metadata": {
        "id": "veadI2burpLR",
        "colab_type": "text"
      },
      "source": [
        "現在`nonlinsolve`は、三角関数をもつ連立方程式を適切に解くことができない。\n",
        "\n",
        "このような時は必ずしも全部ではないが`solve`が使える。"
      ]
    },
    {
      "cell_type": "code",
      "metadata": {
        "id": "O691AE0yrpLS",
        "colab_type": "code",
        "colab": {}
      },
      "source": [
        "solve([sin(x+y), cos(x-y)], [x,y])"
      ],
      "execution_count": null,
      "outputs": []
    },
    {
      "cell_type": "markdown",
      "metadata": {
        "id": "vc6O2E0arpLU",
        "colab_type": "text"
      },
      "source": [
        "重複解の場合\n",
        "\n",
        "`solveset` は解を1回しか返さない。重複解を持つ、多項式の解を得るには、`roots` を使用する。\n"
      ]
    },
    {
      "cell_type": "code",
      "metadata": {
        "id": "vb0md2rnrpLV",
        "colab_type": "code",
        "colab": {}
      },
      "source": [
        "solveset(x**3 - 6*x**2 + 9*x, x)"
      ],
      "execution_count": null,
      "outputs": []
    },
    {
      "cell_type": "code",
      "metadata": {
        "id": "RZYeB_BArpLY",
        "colab_type": "code",
        "colab": {}
      },
      "source": [
        "roots(x**3 - 6*x**2 + 9*x, x)"
      ],
      "execution_count": null,
      "outputs": []
    },
    {
      "cell_type": "markdown",
      "metadata": {
        "id": "3dwPy0eBrpLa",
        "colab_type": "text"
      },
      "source": [
        "出力 `{0：1、3：2}` の意味は、`0` が多重度1の解であり、`3` が多重度2の解である、ということ。"
      ]
    },
    {
      "cell_type": "markdown",
      "metadata": {
        "id": "fEVbdNA6rpLb",
        "colab_type": "text"
      },
      "source": [
        "現在 `solveset` は次のタイプの方程式を解くことができない。\n",
        "\n",
        "LambertW（超越方程式ソルバー）で解ける方程式\n",
        "\n",
        "このような時には `solve` が使える。\n"
      ]
    },
    {
      "cell_type": "code",
      "metadata": {
        "id": "WL6qP7UGrpLc",
        "colab_type": "code",
        "colab": {}
      },
      "source": [
        "solve(x*exp(x) - 1, x)"
      ],
      "execution_count": null,
      "outputs": []
    },
    {
      "cell_type": "markdown",
      "metadata": {
        "id": "O7V6UVFurpLh",
        "colab_type": "text"
      },
      "source": [
        "# 微分方程式を解く\n",
        "differential equations"
      ]
    },
    {
      "cell_type": "code",
      "metadata": {
        "id": "RRfGobF8rpLl",
        "colab_type": "code",
        "colab": {}
      },
      "source": [
        "from sympy import*\n",
        "init_printing()\n",
        "x, y, z = symbols('x y z')\n",
        "f, g = symbols('f g' , cls=Function)\n",
        "\n",
        "f(x)"
      ],
      "execution_count": null,
      "outputs": []
    },
    {
      "cell_type": "code",
      "metadata": {
        "id": "jAAJ9AgFrpLr",
        "colab_type": "code",
        "colab": {}
      },
      "source": [
        "f(x).diff(x)"
      ],
      "execution_count": null,
      "outputs": []
    },
    {
      "cell_type": "markdown",
      "metadata": {
        "id": "ZNRyNczWrpLu",
        "colab_type": "text"
      },
      "source": [
        "</br></br>\n",
        "したがって、次のような微分方程式は `sympy`では次のセルのように書くことになる。\n",
        "\n",
        "$$f′′(x)−2f′(x)+f(x)=sin(x)$$\n",
        "\n"
      ]
    },
    {
      "cell_type": "code",
      "metadata": {
        "id": "JRMkKhmwrpLu",
        "colab_type": "code",
        "colab": {}
      },
      "source": [
        "diffreq = Eq(f(x).diff(x,x) - 2*f(x).diff(x) + f(x), sin(x))\n",
        "diffreq"
      ],
      "execution_count": null,
      "outputs": []
    },
    {
      "cell_type": "markdown",
      "metadata": {
        "id": "Xz8TP72zrpLx",
        "colab_type": "text"
      },
      "source": [
        "# 常微分方程式 ordinary differential equation, ODE\n",
        "\n",
        "常微分方程式を解くには、`dsolve` を使う。\n"
      ]
    },
    {
      "cell_type": "code",
      "metadata": {
        "id": "4IoGIn85rpLy",
        "colab_type": "code",
        "colab": {}
      },
      "source": [
        "dsolve(diffreq, f(x))"
      ],
      "execution_count": null,
      "outputs": []
    },
    {
      "cell_type": "code",
      "metadata": {
        "id": "zUUEiE3ErpL0",
        "colab_type": "code",
        "colab": {}
      },
      "source": [
        "dsolve(f(x).diff(x)*(1 - sin(f(x))), f(x))"
      ],
      "execution_count": null,
      "outputs": []
    },
    {
      "cell_type": "markdown",
      "metadata": {
        "id": "QKFfmDG4aW4C",
        "colab_type": "text"
      },
      "source": [
        "# いまここ"
      ]
    },
    {
      "cell_type": "markdown",
      "metadata": {
        "id": "SkCw8g8GrpL2",
        "colab_type": "text"
      },
      "source": [
        "# 行列 matrices"
      ]
    },
    {
      "cell_type": "code",
      "metadata": {
        "id": "HHlKLBdWrpL2",
        "colab_type": "code",
        "colab": {}
      },
      "source": [
        "from sympy import *\n",
        "init_printing()\n",
        "Matrix([[1,-1],[3,4],[0,2]])"
      ],
      "execution_count": null,
      "outputs": []
    },
    {
      "cell_type": "code",
      "metadata": {
        "id": "7ZXHXBKDrpL6",
        "colab_type": "code",
        "colab": {}
      },
      "source": [
        "Matrix([[1,2,3]])"
      ],
      "execution_count": null,
      "outputs": []
    },
    {
      "cell_type": "code",
      "metadata": {
        "id": "LZQwQ7ZorpL8",
        "colab_type": "code",
        "colab": {}
      },
      "source": [
        "Matrix([1,2,3])"
      ],
      "execution_count": null,
      "outputs": []
    },
    {
      "cell_type": "code",
      "metadata": {
        "id": "3yiQiKnNrpL-",
        "colab_type": "code",
        "colab": {}
      },
      "source": [
        "M = Matrix([[1,2,3],[3,2,1]])\n",
        "N = Matrix([0,1,1])\n",
        "M*N"
      ],
      "execution_count": null,
      "outputs": []
    },
    {
      "cell_type": "markdown",
      "metadata": {
        "id": "T0-Imk9WrpMA",
        "colab_type": "text"
      },
      "source": [
        "### SymPy matrices are mutable!!!\n",
        "不変にしたい場合はImmutableMatrixを使う"
      ]
    },
    {
      "cell_type": "code",
      "metadata": {
        "id": "WexsjDiErpMA",
        "colab_type": "code",
        "colab": {}
      },
      "source": [
        "M = Matrix([[1,2,3],[-2,0,4]])\n",
        "M"
      ],
      "execution_count": null,
      "outputs": []
    },
    {
      "cell_type": "code",
      "metadata": {
        "id": "O6K0r0CxrpMC",
        "colab_type": "code",
        "colab": {}
      },
      "source": [
        "M.shape"
      ],
      "execution_count": null,
      "outputs": []
    },
    {
      "cell_type": "code",
      "metadata": {
        "id": "ZDqMXytHrpMF",
        "colab_type": "code",
        "colab": {}
      },
      "source": [
        "M.row(0)"
      ],
      "execution_count": null,
      "outputs": []
    },
    {
      "cell_type": "code",
      "metadata": {
        "id": "fNyashY4rpMK",
        "colab_type": "code",
        "colab": {}
      },
      "source": [
        "M.col(-1)"
      ],
      "execution_count": null,
      "outputs": []
    },
    {
      "cell_type": "code",
      "metadata": {
        "id": "KnVIH4PXrpMO",
        "colab_type": "code",
        "colab": {}
      },
      "source": [
        "M.col_del(0)\n",
        "M"
      ],
      "execution_count": null,
      "outputs": []
    },
    {
      "cell_type": "code",
      "metadata": {
        "id": "GddO1xZ8rpMR",
        "colab_type": "code",
        "colab": {}
      },
      "source": [
        "M.row_del(1)\n",
        "M"
      ],
      "execution_count": null,
      "outputs": []
    },
    {
      "cell_type": "code",
      "metadata": {
        "id": "VA_2Oa3ErpMU",
        "colab_type": "code",
        "colab": {}
      },
      "source": [
        "M = M.row_insert(1,Matrix([[0,4]]))\n",
        "M"
      ],
      "execution_count": null,
      "outputs": []
    },
    {
      "cell_type": "code",
      "metadata": {
        "id": "9cO_mHEXrpMW",
        "colab_type": "code",
        "colab": {}
      },
      "source": [
        "M = M.col_insert(0,Matrix([1,-2]))\n",
        "M"
      ],
      "execution_count": null,
      "outputs": []
    },
    {
      "cell_type": "markdown",
      "metadata": {
        "id": "6ea-2djNrpMZ",
        "colab_type": "text"
      },
      "source": [
        "###  逆行列は$-1$乗する"
      ]
    },
    {
      "cell_type": "code",
      "metadata": {
        "id": "c397GN2QrpMZ",
        "colab_type": "code",
        "colab": {}
      },
      "source": [
        "M = Matrix([[1,3],[-2,3]])\n",
        "N = Matrix([[0,3],[0,7]])\n",
        "M + N"
      ],
      "execution_count": null,
      "outputs": []
    },
    {
      "cell_type": "code",
      "metadata": {
        "id": "UqU9KLmprpMb",
        "colab_type": "code",
        "colab": {}
      },
      "source": [
        "M * N"
      ],
      "execution_count": null,
      "outputs": []
    },
    {
      "cell_type": "code",
      "metadata": {
        "id": "1tXYBnT6rpMd",
        "colab_type": "code",
        "colab": {}
      },
      "source": [
        "3 * M"
      ],
      "execution_count": null,
      "outputs": []
    },
    {
      "cell_type": "code",
      "metadata": {
        "id": "sP7-M9uBrpMg",
        "colab_type": "code",
        "colab": {}
      },
      "source": [
        "M * M"
      ],
      "execution_count": null,
      "outputs": []
    },
    {
      "cell_type": "code",
      "metadata": {
        "id": "Krp3_qBdrpMi",
        "colab_type": "code",
        "colab": {}
      },
      "source": [
        "M**2"
      ],
      "execution_count": null,
      "outputs": []
    },
    {
      "cell_type": "code",
      "metadata": {
        "id": "-y4B42JGrpMk",
        "colab_type": "code",
        "colab": {}
      },
      "source": [
        "M**-1"
      ],
      "execution_count": null,
      "outputs": []
    },
    {
      "cell_type": "code",
      "metadata": {
        "id": "EwKKIsvHrpMm",
        "colab_type": "code",
        "colab": {}
      },
      "source": [
        "M * M**-1"
      ],
      "execution_count": null,
      "outputs": []
    },
    {
      "cell_type": "code",
      "metadata": {
        "id": "a-hoF2JxrpMo",
        "colab_type": "code",
        "colab": {}
      },
      "source": [
        "%xmode plain"
      ],
      "execution_count": null,
      "outputs": []
    },
    {
      "cell_type": "code",
      "metadata": {
        "scrolled": true,
        "id": "bem691EWrpMt",
        "colab_type": "code",
        "colab": {}
      },
      "source": [
        "# N ** -1\n",
        "# ValueError: Matrix det == 0; not invertible."
      ],
      "execution_count": null,
      "outputs": []
    },
    {
      "cell_type": "markdown",
      "metadata": {
        "id": "Y0EWAsJcrpMw",
        "colab_type": "text"
      },
      "source": [
        "###  転置行列"
      ]
    },
    {
      "cell_type": "code",
      "metadata": {
        "id": "YwafIaOxrpMw",
        "colab_type": "code",
        "colab": {}
      },
      "source": [
        "M = Matrix([[1,2,3],[4,5,6]])\n",
        "M"
      ],
      "execution_count": null,
      "outputs": []
    },
    {
      "cell_type": "code",
      "metadata": {
        "id": "okVTI8hrrpM1",
        "colab_type": "code",
        "colab": {}
      },
      "source": [
        "M.T"
      ],
      "execution_count": null,
      "outputs": []
    },
    {
      "cell_type": "code",
      "metadata": {
        "id": "EADBrQHvrpM4",
        "colab_type": "code",
        "colab": {}
      },
      "source": [
        "eye(3)"
      ],
      "execution_count": null,
      "outputs": []
    },
    {
      "cell_type": "code",
      "metadata": {
        "id": "7EzZGLKirpM7",
        "colab_type": "code",
        "colab": {}
      },
      "source": [
        "zeros(2,3)"
      ],
      "execution_count": null,
      "outputs": []
    },
    {
      "cell_type": "code",
      "metadata": {
        "id": "BoD7ENkJrpM-",
        "colab_type": "code",
        "colab": {}
      },
      "source": [
        "ones(3,2)"
      ],
      "execution_count": null,
      "outputs": []
    },
    {
      "cell_type": "code",
      "metadata": {
        "id": "QYOW6d44rpNA",
        "colab_type": "code",
        "colab": {}
      },
      "source": [
        "diag(1,2,3)"
      ],
      "execution_count": null,
      "outputs": []
    },
    {
      "cell_type": "code",
      "metadata": {
        "scrolled": true,
        "id": "kAzCuMYFrpNC",
        "colab_type": "code",
        "colab": {}
      },
      "source": [
        "diag(-1, ones(2,2), Matrix([5,7,5]))"
      ],
      "execution_count": null,
      "outputs": []
    },
    {
      "cell_type": "code",
      "metadata": {
        "id": "YRlAvxkRrpNE",
        "colab_type": "code",
        "colab": {}
      },
      "source": [
        "M = Matrix([[1,0,1],[2,-1,3],[4,3,2]])\n",
        "M"
      ],
      "execution_count": null,
      "outputs": []
    },
    {
      "cell_type": "code",
      "metadata": {
        "id": "yOFEXtqFrpNF",
        "colab_type": "code",
        "colab": {}
      },
      "source": [
        "M.det()"
      ],
      "execution_count": null,
      "outputs": []
    },
    {
      "cell_type": "markdown",
      "metadata": {
        "id": "1Bq3uuf3rpNH",
        "colab_type": "text"
      },
      "source": [
        "### rref\n",
        "To put a matrix into reduced row echelon form, use rref"
      ]
    },
    {
      "cell_type": "code",
      "metadata": {
        "id": "R2BfAND6rpNI",
        "colab_type": "code",
        "colab": {}
      },
      "source": [
        "M = Matrix([[1, 0, 1, 3],[2, 3, 4, 7],[-1, -3, -3, -4]])\n",
        "M"
      ],
      "execution_count": null,
      "outputs": []
    },
    {
      "cell_type": "code",
      "metadata": {
        "id": "yOuui7garpNK",
        "colab_type": "code",
        "colab": {}
      },
      "source": [
        "M.rref()"
      ],
      "execution_count": null,
      "outputs": []
    },
    {
      "cell_type": "markdown",
      "metadata": {
        "id": "cPYXgg6GrpNO",
        "colab_type": "text"
      },
      "source": [
        "### nullspace"
      ]
    },
    {
      "cell_type": "code",
      "metadata": {
        "id": "9DCMlY-1rpNO",
        "colab_type": "code",
        "colab": {}
      },
      "source": [
        "M = Matrix([[1,2,3,0,0],[4,10,0,0,1]])\n",
        "M"
      ],
      "execution_count": null,
      "outputs": []
    },
    {
      "cell_type": "code",
      "metadata": {
        "id": "N8Hxfn__rpNR",
        "colab_type": "code",
        "colab": {}
      },
      "source": [
        "M.nullspace()"
      ],
      "execution_count": null,
      "outputs": []
    },
    {
      "cell_type": "markdown",
      "metadata": {
        "id": "TPdOQuMurpNU",
        "colab_type": "text"
      },
      "source": [
        "### columnspace"
      ]
    },
    {
      "cell_type": "code",
      "metadata": {
        "id": "RfAWQmZfrpNU",
        "colab_type": "code",
        "colab": {}
      },
      "source": [
        "M = Matrix([[1,1,2],[2,1,3],[3,1,4]])\n",
        "M"
      ],
      "execution_count": null,
      "outputs": []
    },
    {
      "cell_type": "code",
      "metadata": {
        "id": "6ZynGY9grpNZ",
        "colab_type": "code",
        "colab": {}
      },
      "source": [
        "M.columnspace()"
      ],
      "execution_count": null,
      "outputs": []
    },
    {
      "cell_type": "markdown",
      "metadata": {
        "id": "6vwnxK4RrpNc",
        "colab_type": "text"
      },
      "source": [
        "###  固有値\n",
        "enganvalues, eigenvectors, and diagonalization"
      ]
    },
    {
      "cell_type": "code",
      "metadata": {
        "id": "WqxaeV3XrpNd",
        "colab_type": "code",
        "colab": {}
      },
      "source": [
        "from sympy import *\n",
        "init_printing()\n",
        "M = Matrix([[3,-2,4,-2],[5,3,-3,-2],[5,-2,2,-2],[5,-2,-3,3]])\n",
        "M"
      ],
      "execution_count": null,
      "outputs": []
    },
    {
      "cell_type": "code",
      "metadata": {
        "id": "6PihwoOjrpNf",
        "colab_type": "code",
        "colab": {}
      },
      "source": [
        "M.eigenvals()"
      ],
      "execution_count": null,
      "outputs": []
    },
    {
      "cell_type": "markdown",
      "metadata": {
        "id": "N7qf34AgrpNi",
        "colab_type": "text"
      },
      "source": [
        "This means that M has eigenvalues -2, 3, and 5, and that the eigenvalues -2 and 3 have algebraic multiplicity 1 and that the eigenvalue 5 has algebraic multiplicity 2."
      ]
    },
    {
      "cell_type": "markdown",
      "metadata": {
        "id": "8SokHSF6rpNj",
        "colab_type": "text"
      },
      "source": [
        "This means that M has eigenvalues -2, 3, and 5, and that the eigenvalues -2 and 3 have algebraic multiplicity 1 and that the eigenvalue 5 has algebraic multiplicity 2."
      ]
    },
    {
      "cell_type": "code",
      "metadata": {
        "id": "5b8y8-bBrpNk",
        "colab_type": "code",
        "colab": {}
      },
      "source": [
        "M.eigenvects()"
      ],
      "execution_count": null,
      "outputs": []
    },
    {
      "cell_type": "markdown",
      "metadata": {
        "id": "og9x6yHhrpNo",
        "colab_type": "text"
      },
      "source": [
        "This shows us that, for example, the eigenvalue 5 also has geometric multiplicity 2, because it has two eigenvectors. Because the algebraic and geometric multiplicities are the same for all the eigenvalues, M is diagonalizable."
      ]
    },
    {
      "cell_type": "markdown",
      "metadata": {
        "id": "cvjAu5GXrpNo",
        "colab_type": "text"
      },
      "source": [
        "To diagonalize a matrix, use diagonalize. diagonalize returns a tuple (P,D), where D is diagonal and M=PDP−1."
      ]
    },
    {
      "cell_type": "code",
      "metadata": {
        "id": "BHNLsOH0rpNp",
        "colab_type": "code",
        "colab": {}
      },
      "source": [
        "P, D = M.diagonalize()\n",
        "P"
      ],
      "execution_count": null,
      "outputs": []
    },
    {
      "cell_type": "code",
      "metadata": {
        "id": "zKvJC5IvrpNu",
        "colab_type": "code",
        "colab": {}
      },
      "source": [
        "D"
      ],
      "execution_count": null,
      "outputs": []
    },
    {
      "cell_type": "code",
      "metadata": {
        "id": "-gC7vom6rpNw",
        "colab_type": "code",
        "colab": {}
      },
      "source": [
        "P*D*P**-1"
      ],
      "execution_count": null,
      "outputs": []
    },
    {
      "cell_type": "code",
      "metadata": {
        "id": "oheX_BTsrpNy",
        "colab_type": "code",
        "colab": {}
      },
      "source": [
        "P*D*P**-1 == M"
      ],
      "execution_count": null,
      "outputs": []
    },
    {
      "cell_type": "markdown",
      "metadata": {
        "id": "0grZDn5krpN1",
        "colab_type": "text"
      },
      "source": [
        "If all you want is the characteristic polynomial, use charpoly. This is more efficient than eigenvals, because sometimes symbolic roots can be expensive to calculate."
      ]
    },
    {
      "cell_type": "code",
      "metadata": {
        "id": "WpG4Oi9zrpN1",
        "colab_type": "code",
        "colab": {}
      },
      "source": [
        "lamda = symbols('lamda')\n",
        "p = M.charpoly(lamda)\n",
        "factor(p)"
      ],
      "execution_count": null,
      "outputs": []
    },
    {
      "cell_type": "markdown",
      "metadata": {
        "id": "lrYLr8PWrpN7",
        "colab_type": "text"
      },
      "source": [
        "### advanced expression manipulation\n",
        "### expression trees"
      ]
    },
    {
      "cell_type": "code",
      "metadata": {
        "id": "QO1H2FEKrpN8",
        "colab_type": "code",
        "colab": {}
      },
      "source": [
        "from sympy import *\n",
        "init_printing()\n",
        "x, y, z = symbols('x y z')"
      ],
      "execution_count": null,
      "outputs": []
    },
    {
      "cell_type": "code",
      "metadata": {
        "id": "-6LsjY5zrpN-",
        "colab_type": "code",
        "colab": {}
      },
      "source": [
        "expr = 2**x + x*y\n",
        "srepr(expr)"
      ],
      "execution_count": null,
      "outputs": []
    },
    {
      "cell_type": "code",
      "metadata": {
        "scrolled": true,
        "id": "q9EYGRtjrpN_",
        "colab_type": "code",
        "colab": {}
      },
      "source": [
        "import graphviz\n",
        "g = graphviz.Digraph('G')\n",
        "g.edge('Hello', 'World')\n",
        "graphviz.Source(g)"
      ],
      "execution_count": null,
      "outputs": []
    },
    {
      "cell_type": "code",
      "metadata": {
        "id": "2w73OEL_rpOB",
        "colab_type": "code",
        "colab": {}
      },
      "source": [
        "% matplotlib inline\n",
        "\n",
        "import numpy as np\n",
        "import matplotlib.pyplot as plt\n",
        "\n",
        "def sigmoid(x):\n",
        "    return 1 / (1 + np.exp(x))\n",
        "\n",
        "x = np.arange(-20.0, 20.0, 0.1)\n",
        "y = sigmoid(x)\n",
        "plt.plot(x, y)\n",
        "plt.ylim(-0.1, 1.1)\n",
        "plt.show()"
      ],
      "execution_count": null,
      "outputs": []
    },
    {
      "cell_type": "code",
      "metadata": {
        "id": "T56ndZTxrpOD",
        "colab_type": "code",
        "colab": {}
      },
      "source": [
        "### symbol -> Symbol\n",
        "from sympy import *\n",
        "init_printing()\n",
        "# x = Symbol('x')\n",
        "x = symbols('x')\n",
        "srepr(x)"
      ],
      "execution_count": null,
      "outputs": []
    },
    {
      "cell_type": "code",
      "metadata": {
        "id": "-4Zcm3i3rpOG",
        "colab_type": "code",
        "colab": {}
      },
      "source": [
        "srepr(1)"
      ],
      "execution_count": null,
      "outputs": []
    },
    {
      "cell_type": "code",
      "metadata": {
        "id": "sSuEXismrpOJ",
        "colab_type": "code",
        "colab": {}
      },
      "source": [
        "expr = 2.3**x\n",
        "srepr(expr)"
      ],
      "execution_count": null,
      "outputs": []
    },
    {
      "cell_type": "code",
      "metadata": {
        "id": "zo_VSdokrpOL",
        "colab_type": "code",
        "colab": {}
      },
      "source": [
        "srepr(Pow(2.3,x))"
      ],
      "execution_count": null,
      "outputs": []
    },
    {
      "cell_type": "code",
      "metadata": {
        "id": "xB7BRhvHrpOP",
        "colab_type": "code",
        "colab": {}
      },
      "source": [
        "type(simplify(2))"
      ],
      "execution_count": null,
      "outputs": []
    },
    {
      "cell_type": "code",
      "metadata": {
        "id": "BsGxikhlrpOR",
        "colab_type": "code",
        "colab": {}
      },
      "source": [
        "x, y, z = symbols('x y z')\n",
        "Mul(x,y)"
      ],
      "execution_count": null,
      "outputs": []
    },
    {
      "cell_type": "code",
      "metadata": {
        "id": "L1Ft5QK3rpOT",
        "colab_type": "code",
        "colab": {}
      },
      "source": [
        "expr = sin(x*y)/2 - x**2 + 1/y\n",
        "srepr(expr)"
      ],
      "execution_count": null,
      "outputs": []
    },
    {
      "cell_type": "code",
      "metadata": {
        "id": "Y3MwzQjkrpOV",
        "colab_type": "code",
        "colab": {}
      },
      "source": [
        "srepr(x - y)"
      ],
      "execution_count": null,
      "outputs": []
    },
    {
      "cell_type": "code",
      "metadata": {
        "id": "GvTnuXLjrpOY",
        "colab_type": "code",
        "colab": {}
      },
      "source": [
        "expr = x / y\n",
        "srepr(expr)"
      ],
      "execution_count": null,
      "outputs": []
    },
    {
      "cell_type": "code",
      "metadata": {
        "id": "cvyb-hCOrpOa",
        "colab_type": "code",
        "colab": {}
      },
      "source": [
        "1 + x"
      ],
      "execution_count": null,
      "outputs": []
    },
    {
      "cell_type": "code",
      "metadata": {
        "id": "RASRtejKrpOc",
        "colab_type": "code",
        "colab": {}
      },
      "source": [
        "(1 + x).func"
      ],
      "execution_count": null,
      "outputs": []
    },
    {
      "cell_type": "code",
      "metadata": {
        "id": "ctcDHqMzrpOd",
        "colab_type": "code",
        "colab": {}
      },
      "source": [
        "expr = Add(x, x)\n",
        "expr.func # Mul"
      ],
      "execution_count": null,
      "outputs": []
    },
    {
      "cell_type": "code",
      "metadata": {
        "id": "BRhSECYPrpOh",
        "colab_type": "code",
        "colab": {}
      },
      "source": [
        "expr"
      ],
      "execution_count": null,
      "outputs": []
    },
    {
      "cell_type": "markdown",
      "metadata": {
        "id": "8-mb2Mk6rpOi",
        "colab_type": "text"
      },
      "source": [
        "### class constructor\n",
        "Add(x, x), i.e., x + x, was automatically converted into Mul(2, x), i.e., 2*x, which is a Mul. SymPy classes make heavy use of the __new__ class constructor, which, unlike __init__, allows a different class to be returned from the constructor."
      ]
    },
    {
      "cell_type": "code",
      "metadata": {
        "id": "kVD1hb23rpOk",
        "colab_type": "code",
        "colab": {}
      },
      "source": [
        "Integer(2).func"
      ],
      "execution_count": null,
      "outputs": []
    },
    {
      "cell_type": "code",
      "metadata": {
        "id": "ei2Cxgy-rpOl",
        "colab_type": "code",
        "colab": {}
      },
      "source": [
        "Integer(0).func # Zero"
      ],
      "execution_count": null,
      "outputs": []
    },
    {
      "cell_type": "code",
      "metadata": {
        "id": "98BBa7itrpOn",
        "colab_type": "code",
        "colab": {}
      },
      "source": [
        "Integer(-1).func # NegativeOne"
      ],
      "execution_count": null,
      "outputs": []
    },
    {
      "cell_type": "code",
      "metadata": {
        "id": "029c0ZPUrpOp",
        "colab_type": "code",
        "colab": {}
      },
      "source": [
        "expr = 3 * y**2 * x\n",
        "expr.func # Mul"
      ],
      "execution_count": null,
      "outputs": []
    },
    {
      "cell_type": "code",
      "metadata": {
        "id": "f0EFYzXUrpOq",
        "colab_type": "code",
        "colab": {}
      },
      "source": [
        "expr.args # (3, x, y**2)"
      ],
      "execution_count": null,
      "outputs": []
    },
    {
      "cell_type": "code",
      "metadata": {
        "id": "AjJhPjvErpOs",
        "colab_type": "code",
        "colab": {}
      },
      "source": [
        "expr.func(*expr.args)"
      ],
      "execution_count": null,
      "outputs": []
    },
    {
      "cell_type": "code",
      "metadata": {
        "id": "IxgXfmDBrpOu",
        "colab_type": "code",
        "colab": {}
      },
      "source": [
        "expr == expr.func(*expr.args)"
      ],
      "execution_count": null,
      "outputs": []
    },
    {
      "cell_type": "code",
      "metadata": {
        "id": "Kjfpkd46rpOx",
        "colab_type": "code",
        "colab": {}
      },
      "source": [
        "expr.func(Mul(expr.args))"
      ],
      "execution_count": null,
      "outputs": []
    },
    {
      "cell_type": "code",
      "metadata": {
        "id": "UOtB7sFcrpOz",
        "colab_type": "code",
        "colab": {}
      },
      "source": [
        "Mul(3, 8)"
      ],
      "execution_count": null,
      "outputs": []
    },
    {
      "cell_type": "code",
      "metadata": {
        "id": "yTFNMfkBrpO1",
        "colab_type": "code",
        "colab": {}
      },
      "source": [
        "# * (3, 8) # SyntaxError: can't use starred expression here\n",
        "print(*(3,8)) # -> print (3, 8) -> 3 8"
      ],
      "execution_count": null,
      "outputs": []
    },
    {
      "cell_type": "code",
      "metadata": {
        "id": "WmS2Olr3rpO3",
        "colab_type": "code",
        "colab": {}
      },
      "source": [
        "expr.args[2]"
      ],
      "execution_count": null,
      "outputs": []
    },
    {
      "cell_type": "code",
      "metadata": {
        "id": "79hB7TGkrpO6",
        "colab_type": "code",
        "colab": {}
      },
      "source": [
        "expr.args[2].args"
      ],
      "execution_count": null,
      "outputs": []
    },
    {
      "cell_type": "code",
      "metadata": {
        "id": "G9k_iBSarpO7",
        "colab_type": "code",
        "colab": {}
      },
      "source": [
        "y.args"
      ],
      "execution_count": null,
      "outputs": []
    },
    {
      "cell_type": "code",
      "metadata": {
        "id": "R4iQqVoGrpO9",
        "colab_type": "code",
        "colab": {}
      },
      "source": [
        "Integer(2).args"
      ],
      "execution_count": null,
      "outputs": []
    },
    {
      "cell_type": "markdown",
      "metadata": {
        "id": "jyI0nprYrpO_",
        "colab_type": "text"
      },
      "source": [
        "### key invariant\n",
        "Every well-formed SymPy expression must either have empty args or satisfy expr == expr.func(*expr.args).\n",
        "\n",
        "(Recall that in Python if a is a tuple, then f(*a) means to call f with arguments from the elements of a, e.g., f(*(1, 2, 3)) is the same as f(1, 2, 3).)"
      ]
    },
    {
      "cell_type": "code",
      "metadata": {
        "id": "bwWyNMz1rpO_",
        "colab_type": "code",
        "colab": {}
      },
      "source": [
        "56 * 35 * 21"
      ],
      "execution_count": null,
      "outputs": []
    },
    {
      "cell_type": "code",
      "metadata": {
        "id": "Q_HeWa2QrpPB",
        "colab_type": "code",
        "colab": {}
      },
      "source": [
        "def pre(expr):\n",
        "    print(expr)\n",
        "    for arg in expr.args:\n",
        "        pre(arg)"
      ],
      "execution_count": null,
      "outputs": []
    },
    {
      "cell_type": "code",
      "metadata": {
        "id": "egS7VVUVrpPD",
        "colab_type": "code",
        "colab": {}
      },
      "source": [
        "expr = x*y + 1\n",
        "pre(expr)"
      ],
      "execution_count": null,
      "outputs": []
    },
    {
      "cell_type": "markdown",
      "metadata": {
        "id": "BNFSwx5KrpPF",
        "colab_type": "text"
      },
      "source": [
        "### pre-order traversal\n",
        "Can you guess why we called our function pre? We just wrote a pre-order traversal function for our expression tree. See if you can write a post-order traversal function."
      ]
    },
    {
      "cell_type": "code",
      "metadata": {
        "id": "m1mfnCpBrpPG",
        "colab_type": "code",
        "colab": {}
      },
      "source": [
        "from sympy import *\n",
        "init_printing()\n",
        "x, y, z = symbols('x y z')\n",
        "expr = x*y + 1\n",
        "\n",
        "for arg in preorder_traversal(expr):\n",
        "    print(arg)"
      ],
      "execution_count": null,
      "outputs": []
    },
    {
      "cell_type": "code",
      "metadata": {
        "id": "IFzkO-XvrpPH",
        "colab_type": "code",
        "colab": {}
      },
      "source": [
        "for arg in postorder_traversal(expr):\n",
        "    print(arg)"
      ],
      "execution_count": null,
      "outputs": []
    },
    {
      "cell_type": "code",
      "metadata": {
        "id": "XSwunXYTrpPJ",
        "colab_type": "code",
        "colab": {}
      },
      "source": [
        "from sympy import Add\n",
        "from sympy.abc import x, y, z\n",
        "x + x"
      ],
      "execution_count": null,
      "outputs": []
    },
    {
      "cell_type": "code",
      "metadata": {
        "id": "EqUz_NtqrpPL",
        "colab_type": "code",
        "colab": {}
      },
      "source": [
        "Add(x, x, evaluate=False)"
      ],
      "execution_count": null,
      "outputs": []
    },
    {
      "cell_type": "code",
      "metadata": {
        "id": "jWuYEOyqrpPM",
        "colab_type": "code",
        "colab": {}
      },
      "source": [
        "sympify(\"x + x\", evaluate=False)"
      ],
      "execution_count": null,
      "outputs": []
    },
    {
      "cell_type": "code",
      "metadata": {
        "id": "VUBxyn1srpPQ",
        "colab_type": "code",
        "colab": {}
      },
      "source": [
        "expr = Add(x, x, evaluate=False)\n",
        "expr"
      ],
      "execution_count": null,
      "outputs": []
    },
    {
      "cell_type": "code",
      "metadata": {
        "id": "YpXx5syArpPV",
        "colab_type": "code",
        "colab": {}
      },
      "source": [
        "expr + x"
      ],
      "execution_count": null,
      "outputs": []
    },
    {
      "cell_type": "code",
      "metadata": {
        "id": "-SDM1-hYrpPb",
        "colab_type": "code",
        "colab": {}
      },
      "source": [
        "expr = x + UnevaluatedExpr(x)\n",
        "expr"
      ],
      "execution_count": null,
      "outputs": []
    },
    {
      "cell_type": "code",
      "metadata": {
        "id": "foXr-ucRrpPd",
        "colab_type": "code",
        "colab": {}
      },
      "source": [
        "x + expr"
      ],
      "execution_count": null,
      "outputs": []
    },
    {
      "cell_type": "code",
      "metadata": {
        "id": "9RAptMm9rpPf",
        "colab_type": "code",
        "colab": {}
      },
      "source": [
        "(expr + x).doit()"
      ],
      "execution_count": null,
      "outputs": []
    },
    {
      "cell_type": "code",
      "metadata": {
        "id": "dKui4v98rpPh",
        "colab_type": "code",
        "colab": {}
      },
      "source": [
        "from sympy import *\n",
        "from sympy.abc import x, y, z\n",
        "uexpr = UnevaluatedExpr(S.One*5/7)*UnevaluatedExpr(S.One*3/4)\n",
        "uexpr"
      ],
      "execution_count": null,
      "outputs": []
    },
    {
      "cell_type": "code",
      "metadata": {
        "id": "Uy5WdQeurpPl",
        "colab_type": "code",
        "colab": {}
      },
      "source": [
        "x*UnevaluatedExpr(1/x)"
      ],
      "execution_count": null,
      "outputs": []
    },
    {
      "cell_type": "code",
      "metadata": {
        "id": "OLF46PKgrpPn",
        "colab_type": "code",
        "colab": {}
      },
      "source": [
        "UnevaluatedExpr(x + x)"
      ],
      "execution_count": null,
      "outputs": []
    },
    {
      "cell_type": "code",
      "metadata": {
        "id": "zIFvfM1frpPp",
        "colab_type": "code",
        "colab": {}
      },
      "source": [
        "UnevaluatedExpr(sympify(\"x + x\", evaluate=False)) + y"
      ],
      "execution_count": null,
      "outputs": []
    },
    {
      "cell_type": "markdown",
      "metadata": {
        "id": "LRuMJAOirpPq",
        "colab_type": "text"
      },
      "source": [
        "### next is gotchas and pitfalls"
      ]
    }
  ]
}