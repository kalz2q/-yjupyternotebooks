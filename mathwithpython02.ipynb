{
  "nbformat": 4,
  "nbformat_minor": 0,
  "metadata": {
    "kernelspec": {
      "display_name": "Python 3",
      "language": "python",
      "name": "python3"
    },
    "language_info": {
      "codemirror_mode": {
        "name": "ipython",
        "version": 3
      },
      "file_extension": ".py",
      "mimetype": "text/x-python",
      "name": "python",
      "nbconvert_exporter": "python",
      "pygments_lexer": "ipython3",
      "version": "3.6.6"
    },
    "colab": {
      "name": "mathwithpython02.ipynb",
      "provenance": [],
      "toc_visible": true,
      "include_colab_link": true
    }
  },
  "cells": [
    {
      "cell_type": "markdown",
      "metadata": {
        "id": "view-in-github",
        "colab_type": "text"
      },
      "source": [
        "<a href=\"https://colab.research.google.com/github/kalz2q/mycolabnotebooks/blob/master/mathwithpython02.ipynb\" target=\"_parent\"><img src=\"https://colab.research.google.com/assets/colab-badge.svg\" alt=\"Open In Colab\"/></a>"
      ]
    },
    {
      "cell_type": "markdown",
      "metadata": {
        "id": "aaQyXb-2rpGk"
      },
      "source": [
        "# メモ\n",
        "\n",
        "いまはsympyのtutorialを読んでいるところ。  \n",
        "\n",
        "次はcalculus微積分\n",
        "\n",
        "sympyのmanualはむずかしそうなので考える。  \n",
        "そんな意味ではtutorialも難しい。  \n",
        "ほんとは数学と平行してやらないとあまり意味がないが、とりあえず写経をしておいて、数学はあとから考える。  \n",
        "数学をやっていて道具がないと勉強できない！！  \n",
        "とおもったからsympyをやっているのだよ。  \n",
        "だからある程度の行ったり来たりせざるを得ない。\n",
        "\n",
        "1. 本家`SymPy Tutorial` (https://docs.sympy.org/latest/tutorial/index.html#tutorial)\n",
        "1. 入力例で学ぶPython(SymPy)の使い方(入門) (https://pianofisica.hatenablog.com/entry/2019/04/04/183712)\n",
        "1. `Doing Math With Python` PDF ( http://index-of.es/Varios-2/Doing%20Math%20with%20Python.pdf)\n",
        "1. `Doing Math With Python` site (http://www.nostarch.com/doingmathwithpython/ )\n"
      ]
    },
    {
      "cell_type": "markdown",
      "metadata": {
        "id": "6aB3pN-ZGf3c"
      },
      "source": [
        "# calculus 微積分"
      ]
    },
    {
      "cell_type": "code",
      "metadata": {
        "id": "jmjnH5SKrpGn",
        "colab": {
          "base_uri": "https://localhost:8080/",
          "height": 60
        },
        "outputId": "388b7103-2c69-4913-94d5-93f94d83b867"
      },
      "source": [
        "from sympy import *\n",
        "init_printing()\n",
        "x, y, z = symbols('x y z')\n",
        "\n",
        "display(diff(cos(x)))\n",
        "\n",
        "display(diff(sin(x)))"
      ],
      "execution_count": null,
      "outputs": [
        {
          "output_type": "display_data",
          "data": {
            "image/png": "[encoded data removed]",
            "text/latex": "$\\displaystyle - \\sin{\\left(x \\right)}$",
            "text/plain": [
              "-sin(x)"
            ]
          },
          "metadata": {
            "tags": []
          }
        },
        {
          "output_type": "display_data",
          "data": {
            "image/png": "[encoded data removed]",
            "text/latex": "$\\displaystyle \\cos{\\left(x \\right)}$",
            "text/plain": [
              "cos(x)"
            ]
          },
          "metadata": {
            "tags": []
          }
        }
      ]
    },
    {
      "cell_type": "code",
      "metadata": {
        "id": "jhsDdemDdI6S",
        "colab": {
          "base_uri": "https://localhost:8080/",
          "height": 39
        },
        "outputId": "d84cf2c5-c138-4f85-ac30-9dda74f0a691"
      },
      "source": [
        "diff(cos(x))\r\n",
        "\r\n",
        "diff(sin(x))"
      ],
      "execution_count": null,
      "outputs": [
        {
          "output_type": "execute_result",
          "data": {
            "image/png": "[encoded data removed]",
            "text/latex": "$\\displaystyle \\cos{\\left(x \\right)}$",
            "text/plain": [
              "cos(x)"
            ]
          },
          "metadata": {
            "tags": []
          },
          "execution_count": 8
        }
      ]
    },
    {
      "cell_type": "code",
      "metadata": {
        "id": "bhmfH9xycLQH",
        "colab": {
          "base_uri": "https://localhost:8080/",
          "height": 52
        },
        "outputId": "cd411715-2833-4f77-8f97-cce3c7a3bb2a"
      },
      "source": [
        "Derivative(cos(x))"
      ],
      "execution_count": null,
      "outputs": [
        {
          "output_type": "execute_result",
          "data": {
            "image/png": "[encoded data removed]",
            "text/latex": "$\\displaystyle \\frac{d}{d x} \\cos{\\left(x \\right)}$",
            "text/plain": [
              "d         \n",
              "──(cos(x))\n",
              "dx        "
            ]
          },
          "metadata": {
            "tags": []
          },
          "execution_count": 5
        }
      ]
    },
    {
      "cell_type": "code",
      "metadata": {
        "id": "aon7548_c096",
        "colab": {
          "base_uri": "https://localhost:8080/",
          "height": 52
        },
        "outputId": "ad47ed34-3bba-487d-ad9b-2664dd896091"
      },
      "source": [
        "Eq(Derivative(cos(x)), diff(cos(x)))"
      ],
      "execution_count": null,
      "outputs": [
        {
          "output_type": "execute_result",
          "data": {
            "image/png": "[encoded data removed]",
            "text/latex": "$\\displaystyle \\frac{d}{d x} \\cos{\\left(x \\right)} = - \\sin{\\left(x \\right)}$",
            "text/plain": [
              "d                   \n",
              "──(cos(x)) = -sin(x)\n",
              "dx                  "
            ]
          },
          "metadata": {
            "tags": []
          },
          "execution_count": 7
        }
      ]
    },
    {
      "cell_type": "markdown",
      "metadata": {
        "id": "YWV0wByWrpG5"
      },
      "source": [
        "# partial differentiation 偏微分\n",
        "</br></br>\n",
        "$$\n",
        "\\frac{\\partial ^7}{\\partial x \\partial y^2 \\partial z^2} e ^{xyz}\n",
        "$$"
      ]
    },
    {
      "cell_type": "code",
      "metadata": {
        "id": "yb0cYJxfHQen",
        "colab": {
          "base_uri": "https://localhost:8080/",
          "height": 58
        },
        "outputId": "01734534-6ae9-4779-a0dd-26ec57a11889"
      },
      "source": [
        "%%latex\n",
        "\\displaystyle\n",
        "\n",
        "\\frac{\\partial ^7}{\\partial x \\partial y^2 \\partial z^2} e ^{xyz}"
      ],
      "execution_count": null,
      "outputs": [
        {
          "output_type": "display_data",
          "data": {
            "text/latex": "\\displaystyle\n\n\\frac{\\partial ^7}{\\partial x \\partial y^2 \\partial z^2} e ^{xyz}",
            "text/plain": [
              "<IPython.core.display.Latex object>"
            ]
          },
          "metadata": {
            "tags": []
          }
        }
      ]
    },
    {
      "cell_type": "code",
      "metadata": {
        "id": "WKYZWb4KrpG6",
        "colab": {
          "base_uri": "https://localhost:8080/",
          "height": 63
        },
        "outputId": "6f1d7466-4950-4c45-aefd-07105ca76320"
      },
      "source": [
        "from sympy import *\n",
        "init_printing()\n",
        "x, y, z = symbols('x y z')\n",
        "\n",
        "expr = exp(x**2)\n",
        "display (expr)\n",
        "display (diff(expr))"
      ],
      "execution_count": null,
      "outputs": [
        {
          "output_type": "display_data",
          "data": {
            "image/png": "[encoded data removed]",
            "text/latex": "$$e^{x^{2}}$$",
            "text/plain": [
              " ⎛ 2⎞\n",
              " ⎝x ⎠\n",
              "ℯ    "
            ]
          },
          "metadata": {
            "tags": []
          }
        },
        {
          "output_type": "display_data",
          "data": {
            "image/png": "[encoded data removed]",
            "text/latex": "$$2 x e^{x^{2}}$$",
            "text/plain": [
              "     ⎛ 2⎞\n",
              "     ⎝x ⎠\n",
              "2⋅x⋅ℯ    "
            ]
          },
          "metadata": {
            "tags": []
          }
        }
      ]
    },
    {
      "cell_type": "code",
      "metadata": {
        "id": "2N-paiUUrpG_",
        "colab": {
          "base_uri": "https://localhost:8080/",
          "height": 41
        },
        "outputId": "7ddb4ddb-3687-4682-a634-7c0f7d789c51"
      },
      "source": [
        "expr = exp(x*y*z)\n",
        "diff(expr,x,y,y,z,z,z,z)"
      ],
      "execution_count": null,
      "outputs": [
        {
          "output_type": "execute_result",
          "data": {
            "image/png": "[encoded data removed]",
            "text/latex": "$$x^{3} y^{2} \\left(x^{3} y^{3} z^{3} + 14 x^{2} y^{2} z^{2} + 52 x y z + 48\\right) e^{x y z}$$",
            "text/plain": [
              " 3  2 ⎛ 3  3  3       2  2  2                ⎞  x⋅y⋅z\n",
              "x ⋅y ⋅⎝x ⋅y ⋅z  + 14⋅x ⋅y ⋅z  + 52⋅x⋅y⋅z + 48⎠⋅ℯ     "
            ]
          },
          "metadata": {
            "tags": []
          },
          "execution_count": 62
        }
      ]
    },
    {
      "cell_type": "code",
      "metadata": {
        "id": "UlRbWyJerpHE",
        "colab": {
          "base_uri": "https://localhost:8080/",
          "height": 41
        },
        "outputId": "699878e1-dce3-4ddb-df74-38af7f670e6d"
      },
      "source": [
        "diff(expr,x,y,z)"
      ],
      "execution_count": null,
      "outputs": [
        {
          "output_type": "execute_result",
          "data": {
            "image/png": "[encoded data removed]",
            "text/latex": "$$\\left(x^{2} y^{2} z^{2} + 3 x y z + 1\\right) e^{x y z}$$",
            "text/plain": [
              "⎛ 2  2  2              ⎞  x⋅y⋅z\n",
              "⎝x ⋅y ⋅z  + 3⋅x⋅y⋅z + 1⎠⋅ℯ     "
            ]
          },
          "metadata": {
            "tags": []
          },
          "execution_count": 63
        }
      ]
    },
    {
      "cell_type": "code",
      "metadata": {
        "id": "iBfnAPeQrpHJ",
        "colab": {
          "base_uri": "https://localhost:8080/",
          "height": 41
        },
        "outputId": "88fe4071-7f5a-47f3-e2fa-91d48f3b3c81"
      },
      "source": [
        "diff(expr,x,y,2,z,4)"
      ],
      "execution_count": null,
      "outputs": [
        {
          "output_type": "execute_result",
          "data": {
            "image/png": "[encoded data removed]",
            "text/latex": "$$x^{3} y^{2} \\left(x^{3} y^{3} z^{3} + 14 x^{2} y^{2} z^{2} + 52 x y z + 48\\right) e^{x y z}$$",
            "text/plain": [
              " 3  2 ⎛ 3  3  3       2  2  2                ⎞  x⋅y⋅z\n",
              "x ⋅y ⋅⎝x ⋅y ⋅z  + 14⋅x ⋅y ⋅z  + 52⋅x⋅y⋅z + 48⎠⋅ℯ     "
            ]
          },
          "metadata": {
            "tags": []
          },
          "execution_count": 64
        }
      ]
    },
    {
      "cell_type": "code",
      "metadata": {
        "id": "PpJFi01wrpHR",
        "colab": {
          "base_uri": "https://localhost:8080/",
          "height": 41
        },
        "outputId": "76f00843-ed80-4257-affd-b1c99d2689ba"
      },
      "source": [
        "diff(expr,x,y,y,z,4)"
      ],
      "execution_count": null,
      "outputs": [
        {
          "output_type": "execute_result",
          "data": {
            "image/png": "[encoded data removed]",
            "text/latex": "$$x^{3} y^{2} \\left(x^{3} y^{3} z^{3} + 14 x^{2} y^{2} z^{2} + 52 x y z + 48\\right) e^{x y z}$$",
            "text/plain": [
              " 3  2 ⎛ 3  3  3       2  2  2                ⎞  x⋅y⋅z\n",
              "x ⋅y ⋅⎝x ⋅y ⋅z  + 14⋅x ⋅y ⋅z  + 52⋅x⋅y⋅z + 48⎠⋅ℯ     "
            ]
          },
          "metadata": {
            "tags": []
          },
          "execution_count": 65
        }
      ]
    },
    {
      "cell_type": "markdown",
      "metadata": {
        "id": "utnFOHwvrpHa"
      },
      "source": [
        "### 未評価の導関数を作る\n",
        "\n",
        "導関数クラスを使う。"
      ]
    },
    {
      "cell_type": "code",
      "metadata": {
        "id": "T0523hpvrpHb",
        "colab": {
          "base_uri": "https://localhost:8080/",
          "height": 42
        },
        "outputId": "fd5cc8d8-47db-414c-acf6-4077975a3dd0"
      },
      "source": [
        "from sympy import *\n",
        "init_printing()\n",
        "x, y, z = symbols('x y z')\n",
        "expr = exp(x*y*z)\n",
        "\n",
        "deriv = Derivative(expr, x, y, y, z, 4)\n",
        "deriv"
      ],
      "execution_count": null,
      "outputs": [
        {
          "output_type": "execute_result",
          "data": {
            "image/png": "[encoded data removed]",
            "text/latex": "$$\\frac{\\partial^{7}}{\\partial x\\partial y^{2}\\partial z^{4}}  e^{x y z}$$",
            "text/plain": [
              "     7            \n",
              "    ∂     ⎛ x⋅y⋅z⎞\n",
              "──────────⎝ℯ     ⎠\n",
              "  4   2           \n",
              "∂z  ∂y  ∂x        "
            ]
          },
          "metadata": {
            "tags": []
          },
          "execution_count": 66
        }
      ]
    },
    {
      "cell_type": "code",
      "metadata": {
        "id": "HhONyGU8rpHg",
        "colab": {
          "base_uri": "https://localhost:8080/",
          "height": 38
        },
        "outputId": "9f596cfd-ee7a-405c-f144-6b4c451cf35e"
      },
      "source": [
        "Derivative((x**2),x)"
      ],
      "execution_count": null,
      "outputs": [
        {
          "output_type": "execute_result",
          "data": {
            "image/png": "[encoded data removed]",
            "text/latex": "$$\\frac{d}{d x} x^{2}$$",
            "text/plain": [
              "d ⎛ 2⎞\n",
              "──⎝x ⎠\n",
              "dx    "
            ]
          },
          "metadata": {
            "tags": []
          },
          "execution_count": 67
        }
      ]
    },
    {
      "cell_type": "markdown",
      "metadata": {
        "id": "f8JU4UZDrpHl"
      },
      "source": [
        "###  未評価の導関数を評価する\n",
        "\n",
        "`doit`メソッドを使う。"
      ]
    },
    {
      "cell_type": "code",
      "metadata": {
        "id": "jKYGLOw_rpHm",
        "colab": {
          "base_uri": "https://localhost:8080/",
          "height": 38
        },
        "outputId": "251f9216-a5aa-4a01-c9ce-0396b076787e"
      },
      "source": [
        "deriv.doit()"
      ],
      "execution_count": null,
      "outputs": [
        {
          "output_type": "execute_result",
          "data": {
            "image/png": "[encoded data removed]",
            "text/latex": "$$x^{3} y^{2} \\left(x^{3} y^{3} z^{3} + 14 x^{2} y^{2} z^{2} + 52 x y z + 48\\right) e^{x y z}$$",
            "text/plain": [
              " 3  2 ⎛ 3  3  3       2  2  2                ⎞  x⋅y⋅z\n",
              "x ⋅y ⋅⎝x ⋅y ⋅z  + 14⋅x ⋅y ⋅z  + 52⋅x⋅y⋅z + 48⎠⋅ℯ     "
            ]
          },
          "metadata": {
            "tags": []
          },
          "execution_count": 68
        }
      ]
    },
    {
      "cell_type": "code",
      "metadata": {
        "id": "Qqj0vkfzrpHq",
        "colab": {
          "base_uri": "https://localhost:8080/",
          "height": 38
        },
        "outputId": "661fb1e1-dfc2-4354-ef20-fe02679e60e6"
      },
      "source": [
        "Derivative((x**2),x).doit()"
      ],
      "execution_count": null,
      "outputs": [
        {
          "output_type": "execute_result",
          "data": {
            "image/png": "[encoded data removed]",
            "text/latex": "$$2 x$$",
            "text/plain": [
              "2⋅x"
            ]
          },
          "metadata": {
            "tags": []
          },
          "execution_count": 69
        }
      ]
    },
    {
      "cell_type": "markdown",
      "metadata": {
        "id": "wr6eBWtRrpHu"
      },
      "source": [
        "###  Derivatives of unspecified order\n",
        "\n",
        "Derivatives of unspecified order can be created using tuple (x, n) where n is the order of the derivative with respect to x"
      ]
    },
    {
      "cell_type": "code",
      "metadata": {
        "id": "2Rl2hxZmrpHv",
        "colab": {
          "base_uri": "https://localhost:8080/"
        },
        "outputId": "32edcc3e-18f8-4fe5-bf89-1cd87be80899"
      },
      "source": [
        "from sympy import *\n",
        "init_printing()\n",
        "m, n, a, b = symbols('m n a b')\n",
        "expr = (a*x + b)**m\n",
        "expr.diff((x,n))"
      ],
      "execution_count": null,
      "outputs": [
        {
          "output_type": "error",
          "ename": "AttributeError",
          "evalue": "ignored",
          "traceback": [
            "\u001b[0;31m---------------------------------------------------------------------------\u001b[0m",
            "\u001b[0;31mAttributeError\u001b[0m                            Traceback (most recent call last)",
            "\u001b[0;32m<ipython-input-70-6c1f8aa45be1>\u001b[0m in \u001b[0;36m<module>\u001b[0;34m()\u001b[0m\n\u001b[1;32m      3\u001b[0m \u001b[0mm\u001b[0m\u001b[0;34m,\u001b[0m \u001b[0mn\u001b[0m\u001b[0;34m,\u001b[0m \u001b[0ma\u001b[0m\u001b[0;34m,\u001b[0m \u001b[0mb\u001b[0m \u001b[0;34m=\u001b[0m \u001b[0msymbols\u001b[0m\u001b[0;34m(\u001b[0m\u001b[0;34m'm n a b'\u001b[0m\u001b[0;34m)\u001b[0m\u001b[0;34m\u001b[0m\u001b[0;34m\u001b[0m\u001b[0m\n\u001b[1;32m      4\u001b[0m \u001b[0mexpr\u001b[0m \u001b[0;34m=\u001b[0m \u001b[0;34m(\u001b[0m\u001b[0ma\u001b[0m\u001b[0;34m*\u001b[0m\u001b[0mx\u001b[0m \u001b[0;34m+\u001b[0m \u001b[0mb\u001b[0m\u001b[0;34m)\u001b[0m\u001b[0;34m**\u001b[0m\u001b[0mm\u001b[0m\u001b[0;34m\u001b[0m\u001b[0;34m\u001b[0m\u001b[0m\n\u001b[0;32m----> 5\u001b[0;31m \u001b[0mexpr\u001b[0m\u001b[0;34m.\u001b[0m\u001b[0mdiff\u001b[0m\u001b[0;34m(\u001b[0m\u001b[0;34m(\u001b[0m\u001b[0mx\u001b[0m\u001b[0;34m,\u001b[0m\u001b[0mn\u001b[0m\u001b[0;34m)\u001b[0m\u001b[0;34m)\u001b[0m\u001b[0;34m\u001b[0m\u001b[0;34m\u001b[0m\u001b[0m\n\u001b[0m",
            "\u001b[0;32m/usr/local/lib/python3.6/dist-packages/sympy/core/expr.py\u001b[0m in \u001b[0;36mdiff\u001b[0;34m(self, *symbols, **assumptions)\u001b[0m\n\u001b[1;32m   2947\u001b[0m         \u001b[0mnew_symbols\u001b[0m \u001b[0;34m=\u001b[0m \u001b[0mlist\u001b[0m\u001b[0;34m(\u001b[0m\u001b[0mmap\u001b[0m\u001b[0;34m(\u001b[0m\u001b[0msympify\u001b[0m\u001b[0;34m,\u001b[0m \u001b[0msymbols\u001b[0m\u001b[0;34m)\u001b[0m\u001b[0;34m)\u001b[0m  \u001b[0;31m# e.g. x, 2, y, z\u001b[0m\u001b[0;34m\u001b[0m\u001b[0;34m\u001b[0m\u001b[0m\n\u001b[1;32m   2948\u001b[0m         \u001b[0massumptions\u001b[0m\u001b[0;34m.\u001b[0m\u001b[0msetdefault\u001b[0m\u001b[0;34m(\u001b[0m\u001b[0;34m\"evaluate\"\u001b[0m\u001b[0;34m,\u001b[0m \u001b[0;32mTrue\u001b[0m\u001b[0;34m)\u001b[0m\u001b[0;34m\u001b[0m\u001b[0;34m\u001b[0m\u001b[0m\n\u001b[0;32m-> 2949\u001b[0;31m         \u001b[0;32mreturn\u001b[0m \u001b[0mDerivative\u001b[0m\u001b[0;34m(\u001b[0m\u001b[0mself\u001b[0m\u001b[0;34m,\u001b[0m \u001b[0;34m*\u001b[0m\u001b[0mnew_symbols\u001b[0m\u001b[0;34m,\u001b[0m \u001b[0;34m**\u001b[0m\u001b[0massumptions\u001b[0m\u001b[0;34m)\u001b[0m\u001b[0;34m\u001b[0m\u001b[0;34m\u001b[0m\u001b[0m\n\u001b[0m\u001b[1;32m   2950\u001b[0m \u001b[0;34m\u001b[0m\u001b[0m\n\u001b[1;32m   2951\u001b[0m     \u001b[0;31m###########################################################################\u001b[0m\u001b[0;34m\u001b[0m\u001b[0;34m\u001b[0m\u001b[0;34m\u001b[0m\u001b[0m\n",
            "\u001b[0;32m/usr/local/lib/python3.6/dist-packages/sympy/core/function.py\u001b[0m in \u001b[0;36m__new__\u001b[0;34m(cls, expr, *variables, **assumptions)\u001b[0m\n\u001b[1;32m   1096\u001b[0m             \u001b[0mv\u001b[0m\u001b[0;34m,\u001b[0m \u001b[0mcount\u001b[0m \u001b[0;34m=\u001b[0m \u001b[0mvariables\u001b[0m\u001b[0;34m[\u001b[0m\u001b[0mi\u001b[0m\u001b[0;34m:\u001b[0m \u001b[0mi\u001b[0m \u001b[0;34m+\u001b[0m \u001b[0;36m2\u001b[0m\u001b[0;34m]\u001b[0m\u001b[0;34m\u001b[0m\u001b[0;34m\u001b[0m\u001b[0m\n\u001b[1;32m   1097\u001b[0m             \u001b[0miwas\u001b[0m \u001b[0;34m=\u001b[0m \u001b[0mi\u001b[0m\u001b[0;34m\u001b[0m\u001b[0;34m\u001b[0m\u001b[0m\n\u001b[0;32m-> 1098\u001b[0;31m             \u001b[0;32mif\u001b[0m \u001b[0mv\u001b[0m\u001b[0;34m.\u001b[0m\u001b[0m_diff_wrt\u001b[0m\u001b[0;34m:\u001b[0m\u001b[0;34m\u001b[0m\u001b[0;34m\u001b[0m\u001b[0m\n\u001b[0m\u001b[1;32m   1099\u001b[0m                 \u001b[0;31m# We need to test the more specific case of count being an\u001b[0m\u001b[0;34m\u001b[0m\u001b[0;34m\u001b[0m\u001b[0;34m\u001b[0m\u001b[0m\n\u001b[1;32m   1100\u001b[0m                 \u001b[0;31m# Integer first.\u001b[0m\u001b[0;34m\u001b[0m\u001b[0;34m\u001b[0m\u001b[0;34m\u001b[0m\u001b[0m\n",
            "\u001b[0;31mAttributeError\u001b[0m: 'Tuple' object has no attribute '_diff_wrt'"
          ]
        }
      ]
    },
    {
      "cell_type": "markdown",
      "metadata": {
        "id": "fEFOFUDlrpHz"
      },
      "source": [
        "### Integrals 積分"
      ]
    },
    {
      "cell_type": "code",
      "metadata": {
        "id": "caZEtF-0rpH0"
      },
      "source": [
        "integrate(cos(x),x)"
      ],
      "execution_count": null,
      "outputs": []
    },
    {
      "cell_type": "code",
      "metadata": {
        "id": "bBoZwpmerpH4"
      },
      "source": [
        "Integral(cos(x),(x,0,oo))"
      ],
      "execution_count": null,
      "outputs": []
    },
    {
      "cell_type": "code",
      "metadata": {
        "id": "jYzaAlhDrpH9"
      },
      "source": [
        "integrate(cos(x),(x,0,oo))"
      ],
      "execution_count": null,
      "outputs": []
    },
    {
      "cell_type": "code",
      "metadata": {
        "id": "2S0IJ7yDrpIC"
      },
      "source": [
        "integrate(exp(-x),(x,0,oo))"
      ],
      "execution_count": null,
      "outputs": []
    },
    {
      "cell_type": "code",
      "metadata": {
        "id": "UmflOVm9rpIG"
      },
      "source": [
        "Integral(exp(-x**2 -y**2),(x, -oo, oo), (y,-oo,oo))"
      ],
      "execution_count": null,
      "outputs": []
    },
    {
      "cell_type": "code",
      "metadata": {
        "id": "td5BCSNYrpIJ"
      },
      "source": [
        "integrate(exp(-x**2 - y**2), (x, -oo, oo), (y, -oo, oo))"
      ],
      "execution_count": null,
      "outputs": []
    },
    {
      "cell_type": "code",
      "metadata": {
        "id": "xYKhkolQrpIN"
      },
      "source": [
        "expr = integrate(x**x, x)\n",
        "print(expr)\n",
        "display(expr)"
      ],
      "execution_count": null,
      "outputs": []
    },
    {
      "cell_type": "code",
      "metadata": {
        "id": "vb8E2T3CrpIR"
      },
      "source": [
        "expr"
      ],
      "execution_count": null,
      "outputs": []
    },
    {
      "cell_type": "code",
      "metadata": {
        "id": "BYzfiA_rrpIV"
      },
      "source": [
        "expr = Integral(log(x)**2,x)\n",
        "expr"
      ],
      "execution_count": null,
      "outputs": []
    },
    {
      "cell_type": "code",
      "metadata": {
        "id": "T8KHHB9jrpIb"
      },
      "source": [
        "expr.doit()"
      ],
      "execution_count": null,
      "outputs": []
    },
    {
      "cell_type": "code",
      "metadata": {
        "id": "_x29_37NrpIg"
      },
      "source": [
        "integ = Integral((x**4 + x**2*exp(x) - x**2 - 2*x*exp(x) - 2*x - exp(x))*exp(x)/((x - 1)**2*(x + 1)**2*(exp(x) + 1)), x)\n",
        "integ"
      ],
      "execution_count": null,
      "outputs": []
    },
    {
      "cell_type": "code",
      "metadata": {
        "id": "iGAhEg5erpIk"
      },
      "source": [
        "integ.doit()"
      ],
      "execution_count": null,
      "outputs": []
    },
    {
      "cell_type": "code",
      "metadata": {
        "id": "mS9LhXF2rpIn"
      },
      "source": [
        "integ = Integral(sin(x**2),x)\n",
        "integ"
      ],
      "execution_count": null,
      "outputs": []
    },
    {
      "cell_type": "code",
      "metadata": {
        "id": "7f7MkNNVrpIq"
      },
      "source": [
        "integ.doit()"
      ],
      "execution_count": null,
      "outputs": []
    },
    {
      "cell_type": "code",
      "metadata": {
        "id": "hXY6oxzbrpIu"
      },
      "source": [
        "integ = Integral(x**y*exp(-x), (x,0,oo))\n",
        "integ"
      ],
      "execution_count": null,
      "outputs": []
    },
    {
      "cell_type": "code",
      "metadata": {
        "id": "aIchiwHcrpIz"
      },
      "source": [
        "integ.doit()"
      ],
      "execution_count": null,
      "outputs": []
    },
    {
      "cell_type": "markdown",
      "metadata": {
        "id": "y0WxrNPerpI3"
      },
      "source": [
        "# limits 極限\n",
        "</br></br>\n",
        "$$ \\lim_{x \\to x_0} f (x) $$\n",
        "\n"
      ]
    },
    {
      "cell_type": "code",
      "metadata": {
        "id": "II2So9NPazb8"
      },
      "source": [
        "%%latex\n",
        "\\displaystyle\n",
        "\n",
        "\\lim_{x \\to x_0} f (x)"
      ],
      "execution_count": null,
      "outputs": []
    },
    {
      "cell_type": "code",
      "metadata": {
        "id": "WnYZZ2tdrpI3"
      },
      "source": [
        "\n",
        "Limit(sin(x)/x, x, 0)"
      ],
      "execution_count": null,
      "outputs": []
    },
    {
      "cell_type": "code",
      "metadata": {
        "id": "QtnD3Gx5rpI6"
      },
      "source": [
        "Limit(sin(x)/x, x, 0).doit()"
      ],
      "execution_count": null,
      "outputs": []
    },
    {
      "cell_type": "code",
      "metadata": {
        "id": "fhNU28PmrpI-"
      },
      "source": [
        "expr = x**2/exp(x)\n",
        "expr.subs(x,oo)"
      ],
      "execution_count": null,
      "outputs": []
    },
    {
      "cell_type": "code",
      "metadata": {
        "id": "oT09ZWM5rpJC"
      },
      "source": [
        "limit(expr,x,oo)"
      ],
      "execution_count": null,
      "outputs": []
    },
    {
      "cell_type": "code",
      "metadata": {
        "id": "hf6T-l_frpJF"
      },
      "source": [
        "expr = Limit((cos(x) - 1)/x, x, 0)\n",
        "expr"
      ],
      "execution_count": null,
      "outputs": []
    },
    {
      "cell_type": "code",
      "metadata": {
        "id": "w35MW4oCrpJI"
      },
      "source": [
        "expr.doit()"
      ],
      "execution_count": null,
      "outputs": []
    },
    {
      "cell_type": "code",
      "metadata": {
        "id": "cppZaZnqrpJM"
      },
      "source": [
        "limit(1/x,x,0,'+')"
      ],
      "execution_count": null,
      "outputs": []
    },
    {
      "cell_type": "code",
      "metadata": {
        "id": "NsDXF5ujrpJQ"
      },
      "source": [
        "limit(1/x,x,0,'-')"
      ],
      "execution_count": null,
      "outputs": []
    },
    {
      "cell_type": "markdown",
      "metadata": {
        "id": "1AMvlv8XrpJU"
      },
      "source": [
        "# series expansion 数列展開\n",
        "\n",
        "asymptotic series -> 漸近数列\n",
        "\n",
        "`SymPy`はある点における関数の漸近数列を計算できる。\n",
        "\n",
        "点`x=x0`の近辺でタームズ・オブ・オーダーを `xn`とする関数 `f(x)` について、`f(x).serries(x, x0, n)` を使う。 `x0` と `n` は省略可能で、その場合 `x0=0`、 `n=6` が使われる。\n",
        "\n",
        "SymPy can compute asymptotic series expansions of functions around a point. To compute the expansion of f(x) around the point x=x0 terms of order xn, use f(x).series(x, x0, n). x0 and n can be omitted, in which case the defaults x0=0 and n=6 will be used."
      ]
    },
    {
      "cell_type": "code",
      "metadata": {
        "id": "Ea9yRDCsrpJV"
      },
      "source": [
        "expr = exp(sin(x))\n",
        "expr.series(x, 0, 4)"
      ],
      "execution_count": null,
      "outputs": []
    },
    {
      "cell_type": "markdown",
      "metadata": {
        "id": "qDXAsebFrpJY"
      },
      "source": [
        "#  Landau order ランダウ・オーダー\n",
        "\n",
        "終点における $ O(x^4) $ タームは $x=0$ におけるランダウ・ターム・オーダーをあらwしている。コンピューターサイエンスにおけるビッグオー記法と一緒にしてはいけない。ビッグオーは一般的に `x=∞` におけるランダウ・ターム・オーダーを表す。  \n",
        " $ O(x^4) $ タームは `x4` もしくはそれ以上の冪乗の `x` タームは無視するという意味で、オーダー・タームは数列の外で作られ、操作される。高次のタームは自動的に吸収される。\n",
        "\n",
        "\n",
        "\n",
        "\n",
        "The $ O(x^4) $ term at the end represents the Landau order term at $x=0$ (not to be confused with big O notation used in computer science, which generally represents the Landau order term at x=∞). It means that all x terms with power greater than or equal to x4 are omitted. Order terms can be created and manipulated outside of series. They automatically absorb higher order terms.\n"
      ]
    },
    {
      "cell_type": "code",
      "metadata": {
        "id": "1-4X-4s6rpJZ"
      },
      "source": [
        "x + x**3 + x**6 + O(x**4)"
      ],
      "execution_count": null,
      "outputs": []
    },
    {
      "cell_type": "code",
      "metadata": {
        "id": "U9ID5a_brpJc"
      },
      "source": [
        "x*O(1)"
      ],
      "execution_count": null,
      "outputs": []
    },
    {
      "cell_type": "code",
      "metadata": {
        "id": "Ew8BEscYrpJf"
      },
      "source": [
        "expr.series(x,0,4).removeO()"
      ],
      "execution_count": null,
      "outputs": []
    },
    {
      "cell_type": "markdown",
      "metadata": {
        "id": "Qojd-ifLrpJk"
      },
      "source": [
        "### オー記法は、ゼロ以外の任意の極限点をサポートする\n",
        "\n",
        "The O notation supports arbitrary limit points (other than 0):"
      ]
    },
    {
      "cell_type": "code",
      "metadata": {
        "id": "AwxUT_iirpJl"
      },
      "source": [
        "exp(x - 6).series(x, x0=6)"
      ],
      "execution_count": null,
      "outputs": []
    },
    {
      "cell_type": "markdown",
      "metadata": {
        "id": "DnEo05ZQrpJp"
      },
      "source": [
        "# Finite differences 有限差分\n",
        "\n",
        "以上見てきたのは解析微分 `analytic derivative` と原始関数 `primitive function` であったが、閉鎖的な表現を持たない曲線の微分をしたいときにはどうするか。また、そもそも関数的な値を持っていない場合はどうするか。\n",
        "\n",
        "そういう場合のアプローチのひとつが有限差分アプローチである。\n",
        "\n",
        "有限差分を使用して微分する最も簡単な方法は、`differentiate_finite` 関数を使う。\n"
      ]
    },
    {
      "cell_type": "code",
      "metadata": {
        "id": "4gdLSi0yrpJq"
      },
      "source": [
        "f, g = symbols('f g', cls=Function)\n",
        "differentiate_finite(f(x)*g(x))"
      ],
      "execution_count": null,
      "outputs": []
    },
    {
      "cell_type": "markdown",
      "metadata": {
        "id": "EYpbJOQarpJt"
      },
      "source": [
        "中間導関数を拡張する場合は、フラグevaluate = Trueを渡す。\n"
      ]
    },
    {
      "cell_type": "code",
      "metadata": {
        "id": "YP7-e94arpJt"
      },
      "source": [
        "differentiate_finite(f(x)*g(x), evaluate=True)"
      ],
      "execution_count": null,
      "outputs": []
    },
    {
      "cell_type": "markdown",
      "metadata": {
        "id": "qZzM6DagrpJw"
      },
      "source": [
        "ただし、このフォームは `product` ルールを無視する。\n",
        "\n",
        "すでに導関数インスタンスがある場合は、as_finite_differenceメソッドを使用して、導関数の任意のオーダーの近似を生成できる。\n"
      ]
    },
    {
      "cell_type": "code",
      "metadata": {
        "id": "OriuPYv2rpJx"
      },
      "source": [
        "f = Function('f')\n",
        "dfdx =f(x).diff(x)\n",
        "dfdx.as_finite_difference()"
      ],
      "execution_count": null,
      "outputs": []
    },
    {
      "cell_type": "markdown",
      "metadata": {
        "id": "QArMY5uKrpJ0"
      },
      "source": [
        "ここで、1次導関数は、ステップサイズ1を使用して等距離で評価された最小数の点（1次導関数の場合は2）を使用してxの周りで近似された。\n",
        "\n",
        "記号式を含む任意のステップを使用できる。"
      ]
    },
    {
      "cell_type": "code",
      "metadata": {
        "id": "jgbiGQ9krpJ1"
      },
      "source": [
        "f = Function('f')\n",
        "dfdx2 =f(x).diff(x, 2)\n",
        "h = Symbol('h')\n",
        "dfdx2.as_finite_difference([-3*h, -h, 2*h])"
      ],
      "execution_count": null,
      "outputs": []
    },
    {
      "cell_type": "markdown",
      "metadata": {
        "id": "YPIeGZKBrpJ7"
      },
      "source": [
        "重みの評価だけに関心がある場合は、手動で行うこともできる。"
      ]
    },
    {
      "cell_type": "code",
      "metadata": {
        "id": "5v39qoK_rpJ7"
      },
      "source": [
        "finite_diff_weights(2, [-3,-1,2], 0)[-1][-1]"
      ],
      "execution_count": null,
      "outputs": []
    },
    {
      "cell_type": "markdown",
      "metadata": {
        "id": "NUHB_iZSrpJ-"
      },
      "source": [
        "finite_diff_weightsから返される最後のサブリストの最後の要素のみが必要であることに注意。 これは、関数が低次の導関数の重みを生成し、使用するポイントが少ないため。\n",
        "\n",
        "finite_diff_weightsが複雑に見え、導関数インスタンスのas_finite_differenceメソッドの柔軟性が十分でない場合は、order、x_list、y_list、x0をパラメーターとして取るapply_finite_diffを使用しよう。"
      ]
    },
    {
      "cell_type": "code",
      "metadata": {
        "id": "ftrZsv1WrpJ_"
      },
      "source": [
        "x_list = [-3, 1, 2]\n",
        "y_list = symbols('a b c')\n",
        "apply_finite_diff(1, x_list, y_list, 0)"
      ],
      "execution_count": null,
      "outputs": []
    },
    {
      "cell_type": "markdown",
      "metadata": {
        "id": "HT9CFxIUrpKI"
      },
      "source": [
        "# solvers ソルバー"
      ]
    },
    {
      "cell_type": "code",
      "metadata": {
        "id": "_cpVXWs_rpKJ"
      },
      "source": [
        "from sympy import *\n",
        "x, y, z = symbols('x y z')\n",
        "init_printing()\n",
        "\n",
        "Eq(x , y)"
      ],
      "execution_count": null,
      "outputs": []
    },
    {
      "cell_type": "code",
      "metadata": {
        "id": "96r2EqhjrpKM"
      },
      "source": [
        "solveset(Eq(x**2, 1))"
      ],
      "execution_count": null,
      "outputs": []
    },
    {
      "cell_type": "code",
      "metadata": {
        "id": "FTwlZAwqrpKR"
      },
      "source": [
        "solveset(Eq(x**2 -1, 0))"
      ],
      "execution_count": null,
      "outputs": []
    },
    {
      "cell_type": "code",
      "metadata": {
        "id": "gw1eUCb2rpKU"
      },
      "source": [
        "solveset(x**2 -1)"
      ],
      "execution_count": null,
      "outputs": []
    },
    {
      "cell_type": "markdown",
      "metadata": {
        "id": "Pb77rXNsrpKX"
      },
      "source": [
        "### 代数的に方程式を解く\n",
        "\n",
        "`solveset(eqation, variable=None, domain=S.Complexes)`\n",
        "\n",
        "`solve(equations, variables)` の代わりに `solveset`を使う。\n",
        "\n",
        "`solveset` の返り値は `FiniteSet`、もしくは解答の `Interval` か `ImageSet` である。\n"
      ]
    },
    {
      "cell_type": "code",
      "metadata": {
        "id": "9DGMnbymrpKX"
      },
      "source": [
        "solveset(x**2 - x, x)"
      ],
      "execution_count": null,
      "outputs": []
    },
    {
      "cell_type": "code",
      "metadata": {
        "id": "GgRwyL2EVlBD"
      },
      "source": [
        "from numpy import *\n",
        "s = solveset(x**2 - x, x)\n",
        "type(s)"
      ],
      "execution_count": null,
      "outputs": []
    },
    {
      "cell_type": "code",
      "metadata": {
        "id": "Xp5aknLOrpKa"
      },
      "source": [
        "solveset(x - x, x , domain=S.Reals)"
      ],
      "execution_count": null,
      "outputs": []
    },
    {
      "cell_type": "code",
      "metadata": {
        "id": "2KcX6mMufoUu"
      },
      "source": [
        "type (solveset(x - x, x , domain=S.Reals))"
      ],
      "execution_count": null,
      "outputs": []
    },
    {
      "cell_type": "code",
      "metadata": {
        "id": "3jYTfd0zrpKe"
      },
      "source": [
        "solveset(sin(x) - 1, x, domain=S.Reals)"
      ],
      "execution_count": null,
      "outputs": []
    },
    {
      "cell_type": "code",
      "metadata": {
        "id": "i9GscUk5rpKh"
      },
      "source": [
        "solveset(exp(x),x) # No solution exists -> EmptySet"
      ],
      "execution_count": null,
      "outputs": []
    },
    {
      "cell_type": "code",
      "metadata": {
        "id": "mPHLhV9jrpKl"
      },
      "source": [
        "solveset(cos(x) -x, x) # Not able to find solution -> ConditonSet"
      ],
      "execution_count": null,
      "outputs": []
    },
    {
      "cell_type": "markdown",
      "metadata": {
        "id": "IxBS05NjrpKo"
      },
      "source": [
        "# 線形方程式 linear equations \n",
        "\n",
        "`linsolve`を使う。"
      ]
    },
    {
      "cell_type": "code",
      "metadata": {
        "id": "s8UIfPsFrpKo"
      },
      "source": [
        "linsolve([x+y+z-1, x+y+2*z-3],(x,y,z))"
      ],
      "execution_count": null,
      "outputs": []
    },
    {
      "cell_type": "code",
      "metadata": {
        "id": "5xFVdZ-rgmon"
      },
      "source": [
        "linsolve?"
      ],
      "execution_count": null,
      "outputs": []
    },
    {
      "cell_type": "code",
      "metadata": {
        "id": "UeSZmb1mrpKr"
      },
      "source": [
        "from sympy import *\n",
        "x, y, z = symbols('x y z')\n",
        "init_printing()\n",
        "linsolve(Matrix(([1,1,1,1],[1,1,2,3])),(x,y,z))"
      ],
      "execution_count": null,
      "outputs": []
    },
    {
      "cell_type": "code",
      "metadata": {
        "id": "lx0sltnTrpKt"
      },
      "source": [
        "# A*x = b Form\n",
        "M = Matrix(((1,1,1,1),(1,1,2,3)))\n",
        "system = A, b = M[:, :-1], M[:, -1]\n",
        "linsolve(system, x, y, z)"
      ],
      "execution_count": null,
      "outputs": []
    },
    {
      "cell_type": "markdown",
      "metadata": {
        "id": "Qq5t6xOgrpKv"
      },
      "source": [
        "### 非線形解 nonlinsolve \n",
        "\n",
        "solvesetモジュールでは、非線形システムの方程式は`nonlinsolve`を使用して解く。"
      ]
    },
    {
      "cell_type": "code",
      "metadata": {
        "id": "ItIeQpKarpKw"
      },
      "source": [
        "# when only real solution is present\n",
        "from sympy import*\n",
        "init_printing()\n",
        "x, y, z = symbols('x y z')\n",
        "a,b,c,d = symbols('a b c d', real=True)\n",
        "\n",
        "nonlinsolve([a**2 + a, a - b], [a, b])"
      ],
      "execution_count": null,
      "outputs": []
    },
    {
      "cell_type": "code",
      "metadata": {
        "id": "Jg_mD9aCrpK2"
      },
      "source": [
        "nonlinsolve([x*y - 1, x - 2], x, y)"
      ],
      "execution_count": null,
      "outputs": []
    },
    {
      "cell_type": "code",
      "metadata": {
        "id": "PuhELy1HrpK4"
      },
      "source": [
        "# when only complex solution is present\n",
        "nonlinsolve([x**2 + 1, y**2 + 1], [x, y])"
      ],
      "execution_count": null,
      "outputs": []
    },
    {
      "cell_type": "code",
      "metadata": {
        "id": "JuydR4NArpK8"
      },
      "source": [
        "# when both real and complex solution is present\n",
        "from sympy import sqrt\n",
        "system = [x**2 - 2*y**2 - 2, x*y - 2]\n",
        "vars = [x, y]\n",
        "nonlinsolve(system, vars)"
      ],
      "execution_count": null,
      "outputs": []
    },
    {
      "cell_type": "code",
      "metadata": {
        "id": "Ti5BV65CrpK_"
      },
      "source": [
        "n = Dummy('n')\n",
        "system = [exp(x) - sin(y), 1/y - 3]\n",
        "real_soln = (log(sin(S(1)/3)), S(1)/3)\n",
        "img_lamda = Lambda(n, 2*n*I*pi + Mod(log(sin(S(1)/3)), 2*I*pi))\n",
        "complex_soln = (ImageSet(img_lamda, S.Integers), S(1)/3)\n",
        "soln = FiniteSet(real_soln, complex_soln)\n",
        "nonlinsolve(system,[x,y]) == soln"
      ],
      "execution_count": null,
      "outputs": []
    },
    {
      "cell_type": "code",
      "metadata": {
        "id": "RdZRGKf7rpLC"
      },
      "source": [
        "real_soln"
      ],
      "execution_count": null,
      "outputs": []
    },
    {
      "cell_type": "code",
      "metadata": {
        "id": "VP0troIhrpLE"
      },
      "source": [
        "complex_soln"
      ],
      "execution_count": null,
      "outputs": []
    },
    {
      "cell_type": "markdown",
      "metadata": {
        "id": "dX18yLrErpLH"
      },
      "source": [
        "方程式の非線形システムが正の次元システムである場合（無限に多くの解を持つシステムは正の次元であると言われる）"
      ]
    },
    {
      "cell_type": "code",
      "metadata": {
        "id": "jtIUapzcrpLH",
        "colab": {
          "base_uri": "https://localhost:8080/",
          "height": 38
        },
        "outputId": "3ffdcdaa-9ce2-4c7b-bedd-5dc091ac9479"
      },
      "source": [
        "nonlinsolve([x*y, x*y - x],[x, y])"
      ],
      "execution_count": null,
      "outputs": [
        {
          "output_type": "execute_result",
          "data": {
            "image/png": "[encoded data removed]",
            "text/latex": "$$\\left\\{\\left ( 0, \\quad y\\right )\\right\\}$$",
            "text/plain": [
              "{(0, y)}"
            ]
          },
          "metadata": {
            "tags": []
          },
          "execution_count": 71
        }
      ]
    },
    {
      "cell_type": "code",
      "metadata": {
        "id": "1dUFhLiIrpLK",
        "colab": {
          "base_uri": "https://localhost:8080/",
          "height": 38
        },
        "outputId": "6e886f7b-950e-49f6-da71-f94d6a3807d1"
      },
      "source": [
        "system = [a**2 + a*c , a - b]\n",
        "nonlinsolve(system , [a, b])"
      ],
      "execution_count": null,
      "outputs": [
        {
          "output_type": "execute_result",
          "data": {
            "image/png": "[encoded data removed]",
            "text/latex": "$$\\left\\{\\left ( 0, \\quad 0\\right ), \\left ( - c, \\quad - c\\right )\\right\\}$$",
            "text/plain": [
              "{(0, 0), (-c, -c)}"
            ]
          },
          "metadata": {
            "tags": []
          },
          "execution_count": 73
        }
      ]
    },
    {
      "cell_type": "markdown",
      "metadata": {
        "id": "wLzz9VUIrpLO"
      },
      "source": [
        "\n",
        "解のオーダーが、与えられたシンボルのオーダーに対応しているとき。\n",
        "\n",
        "ランベルトのWの形での解が存在しても、現在の`nonlinsolve`はランベルトのWの形での解を返さない。\n",
        "\n",
        "このような時は`solve`を使う。\n"
      ]
    },
    {
      "cell_type": "code",
      "metadata": {
        "id": "8NT1n7fyrpLP",
        "colab": {
          "base_uri": "https://localhost:8080/",
          "height": 38
        },
        "outputId": "f174e958-e5d3-4661-baee-cefd92ce4ba0"
      },
      "source": [
        "solve([x**2 - y**2/exp(x)],[x,y], dict=True)"
      ],
      "execution_count": null,
      "outputs": [
        {
          "output_type": "execute_result",
          "data": {
            "image/png": "[encoded data removed]",
            "text/latex": "$$\\left [ \\left \\{ x : 2 \\operatorname{LambertW}{\\left (\\frac{y}{2} \\right )}\\right \\}\\right ]$$",
            "text/plain": [
              "⎡⎧             ⎛y⎞⎫⎤\n",
              "⎢⎨x: 2⋅LambertW⎜─⎟⎬⎥\n",
              "⎣⎩             ⎝2⎠⎭⎦"
            ]
          },
          "metadata": {
            "tags": []
          },
          "execution_count": 74
        }
      ]
    },
    {
      "cell_type": "markdown",
      "metadata": {
        "id": "veadI2burpLR"
      },
      "source": [
        "現在`nonlinsolve`は、三角関数をもつ連立方程式を適切に解くことができない。\n",
        "\n",
        "このような時は必ずしも全部ではないが`solve`が使える。"
      ]
    },
    {
      "cell_type": "code",
      "metadata": {
        "id": "O691AE0yrpLS"
      },
      "source": [
        "solve([sin(x+y), cos(x-y)], [x,y])"
      ],
      "execution_count": null,
      "outputs": []
    },
    {
      "cell_type": "markdown",
      "metadata": {
        "id": "vc6O2E0arpLU"
      },
      "source": [
        "重複解の場合\n",
        "\n",
        "`solveset` は解を1回しか返さない。重複解を持つ、多項式の解を得るには、`roots` を使用する。\n"
      ]
    },
    {
      "cell_type": "code",
      "metadata": {
        "id": "vb0md2rnrpLV",
        "colab": {
          "base_uri": "https://localhost:8080/",
          "height": 37
        },
        "outputId": "a031645e-56ba-46ef-fbbc-d7a866917f27"
      },
      "source": [
        "solveset(x**3 - 6*x**2 + 9*x, x)"
      ],
      "execution_count": null,
      "outputs": [
        {
          "output_type": "execute_result",
          "data": {
            "image/png": "[encoded data removed]",
            "text/latex": "$$\\left\\{0, 3\\right\\}$$",
            "text/plain": [
              "{0, 3}"
            ]
          },
          "metadata": {
            "tags": []
          },
          "execution_count": 77
        }
      ]
    },
    {
      "cell_type": "code",
      "metadata": {
        "id": "RZYeB_BArpLY",
        "colab": {
          "base_uri": "https://localhost:8080/",
          "height": 37
        },
        "outputId": "52f1a468-718a-4793-c63e-8b76d1287de0"
      },
      "source": [
        "roots(x**3 - 6*x**2 + 9*x, x)"
      ],
      "execution_count": null,
      "outputs": [
        {
          "output_type": "execute_result",
          "data": {
            "image/png": "[encoded data removed]",
            "text/latex": "$$\\left \\{ 0 : 1, \\quad 3 : 2\\right \\}$$",
            "text/plain": [
              "{0: 1, 3: 2}"
            ]
          },
          "metadata": {
            "tags": []
          },
          "execution_count": 78
        }
      ]
    },
    {
      "cell_type": "markdown",
      "metadata": {
        "id": "3dwPy0eBrpLa"
      },
      "source": [
        "出力 `{0：1、3：2}` の意味は、`0` が多重度1の解であり、`3` が多重度2の解である、ということ。"
      ]
    },
    {
      "cell_type": "markdown",
      "metadata": {
        "id": "fEVbdNA6rpLb"
      },
      "source": [
        "現在 `solveset` は次のタイプの方程式を解くことができない。\n",
        "\n",
        "LambertW（超越方程式ソルバー）で解ける方程式\n",
        "\n",
        "このような時には `solve` が使える。\n"
      ]
    },
    {
      "cell_type": "code",
      "metadata": {
        "id": "WL6qP7UGrpLc",
        "colab": {
          "base_uri": "https://localhost:8080/",
          "height": 37
        },
        "outputId": "ca6d2540-07cd-4264-b167-92570efae2b4"
      },
      "source": [
        "solve(x*exp(x) - 1, x)"
      ],
      "execution_count": null,
      "outputs": [
        {
          "output_type": "execute_result",
          "data": {
            "image/png": "[encoded data removed]",
            "text/latex": "$$\\left [ \\operatorname{LambertW}{\\left (1 \\right )}\\right ]$$",
            "text/plain": [
              "[LambertW(1)]"
            ]
          },
          "metadata": {
            "tags": []
          },
          "execution_count": 79
        }
      ]
    },
    {
      "cell_type": "markdown",
      "metadata": {
        "id": "O7V6UVFurpLh"
      },
      "source": [
        "# 微分方程式を解く\n",
        "differential equations"
      ]
    },
    {
      "cell_type": "code",
      "metadata": {
        "id": "RRfGobF8rpLl",
        "colab": {
          "base_uri": "https://localhost:8080/",
          "height": 38
        },
        "outputId": "1fea3ed4-9e50-489a-fc2d-be14e1d3cd02"
      },
      "source": [
        "from sympy import*\n",
        "init_printing()\n",
        "x, y, z = symbols('x y z')\n",
        "f, g = symbols('f g' , cls=Function)\n",
        "\n",
        "f(x)"
      ],
      "execution_count": null,
      "outputs": [
        {
          "output_type": "execute_result",
          "data": {
            "image/png": "[encoded data removed]",
            "text/latex": "$$f{\\left (x \\right )}$$",
            "text/plain": [
              "f(x)"
            ]
          },
          "metadata": {
            "tags": []
          },
          "execution_count": 83
        }
      ]
    },
    {
      "cell_type": "code",
      "metadata": {
        "id": "jAAJ9AgFrpLr",
        "colab": {
          "base_uri": "https://localhost:8080/",
          "height": 38
        },
        "outputId": "21549afe-404d-46b4-b673-5568d23eb78b"
      },
      "source": [
        "f(x).diff(x)"
      ],
      "execution_count": null,
      "outputs": [
        {
          "output_type": "execute_result",
          "data": {
            "image/png": "[encoded data removed]",
            "text/latex": "$$\\frac{d}{d x} f{\\left (x \\right )}$$",
            "text/plain": [
              "d       \n",
              "──(f(x))\n",
              "dx      "
            ]
          },
          "metadata": {
            "tags": []
          },
          "execution_count": 84
        }
      ]
    },
    {
      "cell_type": "markdown",
      "metadata": {
        "id": "ZNRyNczWrpLu"
      },
      "source": [
        "</br></br>\n",
        "したがって、次のような微分方程式は `sympy`では次のセルのように書くことになる。\n",
        "\n",
        "$$f′′(x)−2f′(x)+f(x)=sin(x)$$\n",
        "\n"
      ]
    },
    {
      "cell_type": "code",
      "metadata": {
        "id": "JRMkKhmwrpLu",
        "colab": {
          "base_uri": "https://localhost:8080/",
          "height": 41
        },
        "outputId": "a244b4f0-5c99-4d28-fb4e-c1ed6c46f218"
      },
      "source": [
        "diffreq = Eq(f(x).diff(x,x) - 2*f(x).diff(x) + f(x), sin(x))\n",
        "diffreq"
      ],
      "execution_count": null,
      "outputs": [
        {
          "output_type": "execute_result",
          "data": {
            "image/png": "[encoded data removed]",
            "text/latex": "$$f{\\left (x \\right )} - 2 \\frac{d}{d x} f{\\left (x \\right )} + \\frac{d^{2}}{d x^{2}}  f{\\left (x \\right )} = \\sin{\\left (x \\right )}$$",
            "text/plain": [
              "                      2               \n",
              "         d           d                \n",
              "f(x) - 2⋅──(f(x)) + ───(f(x)) = sin(x)\n",
              "         dx           2               \n",
              "                    dx                "
            ]
          },
          "metadata": {
            "tags": []
          },
          "execution_count": 85
        }
      ]
    },
    {
      "cell_type": "markdown",
      "metadata": {
        "id": "Xz8TP72zrpLx"
      },
      "source": [
        "# 常微分方程式 ordinary differential equation, ODE\n",
        "\n",
        "常微分方程式を解くには、`dsolve` を使う。\n"
      ]
    },
    {
      "cell_type": "code",
      "metadata": {
        "id": "4IoGIn85rpLy"
      },
      "source": [
        "dsolve(diffreq, f(x))"
      ],
      "execution_count": null,
      "outputs": []
    },
    {
      "cell_type": "code",
      "metadata": {
        "id": "zUUEiE3ErpL0"
      },
      "source": [
        "dsolve(f(x).diff(x)*(1 - sin(f(x))), f(x))"
      ],
      "execution_count": null,
      "outputs": []
    },
    {
      "cell_type": "markdown",
      "metadata": {
        "id": "SkCw8g8GrpL2"
      },
      "source": [
        "# 行列 matrices"
      ]
    },
    {
      "cell_type": "code",
      "metadata": {
        "id": "HHlKLBdWrpL2",
        "outputId": "c8cac3a9-31c0-4098-9a56-cd22c5669e3f",
        "colab": {
          "base_uri": "https://localhost:8080/",
          "height": 79
        }
      },
      "source": [
        "from sympy import *\n",
        "init_printing()\n",
        "Matrix([[1,-1],[3,4],[0,2]])"
      ],
      "execution_count": 1,
      "outputs": [
        {
          "output_type": "execute_result",
          "data": {
            "text/latex": "$\\displaystyle \\left[\\begin{matrix}1 & -1\\\\3 & 4\\\\0 & 2\\end{matrix}\\right]$",
            "text/plain": [
              "⎡1  -1⎤\n",
              "⎢     ⎥\n",
              "⎢3  4 ⎥\n",
              "⎢     ⎥\n",
              "⎣0  2 ⎦"
            ]
          },
          "metadata": {
            "tags": []
          },
          "execution_count": 1
        }
      ]
    },
    {
      "cell_type": "code",
      "metadata": {
        "id": "7ZXHXBKDrpL6",
        "outputId": "3eae719f-5b4b-48c6-fc88-aa16beb6c853",
        "colab": {
          "base_uri": "https://localhost:8080/",
          "height": 39
        }
      },
      "source": [
        "Matrix([[1,2,3]])"
      ],
      "execution_count": 2,
      "outputs": [
        {
          "output_type": "execute_result",
          "data": {
            "text/latex": "$\\displaystyle \\left[\\begin{matrix}1 & 2 & 3\\end{matrix}\\right]$",
            "text/plain": [
              "[1  2  3]"
            ]
          },
          "metadata": {
            "tags": []
          },
          "execution_count": 2
        }
      ]
    },
    {
      "cell_type": "code",
      "metadata": {
        "id": "LZQwQ7ZorpL8",
        "outputId": "9bb0e38a-4220-43e4-d983-f3d8de1f9051",
        "colab": {
          "base_uri": "https://localhost:8080/",
          "height": 79
        }
      },
      "source": [
        "Matrix([1,2,3])"
      ],
      "execution_count": 3,
      "outputs": [
        {
          "output_type": "execute_result",
          "data": {
            "text/latex": "$\\displaystyle \\left[\\begin{matrix}1\\\\2\\\\3\\end{matrix}\\right]$",
            "text/plain": [
              "⎡1⎤\n",
              "⎢ ⎥\n",
              "⎢2⎥\n",
              "⎢ ⎥\n",
              "⎣3⎦"
            ]
          },
          "metadata": {
            "tags": []
          },
          "execution_count": 3
        }
      ]
    },
    {
      "cell_type": "code",
      "metadata": {
        "id": "3yiQiKnNrpL-",
        "outputId": "6b04a97b-95ba-4e36-b7a0-334e9fbc1a5c",
        "colab": {
          "base_uri": "https://localhost:8080/",
          "height": 58
        }
      },
      "source": [
        "M = Matrix([[1,2,3],[3,2,1]])\n",
        "N = Matrix([0,1,1])\n",
        "M*N"
      ],
      "execution_count": 4,
      "outputs": [
        {
          "output_type": "execute_result",
          "data": {
            "text/latex": "$\\displaystyle \\left[\\begin{matrix}5\\\\3\\end{matrix}\\right]$",
            "text/plain": [
              "⎡5⎤\n",
              "⎢ ⎥\n",
              "⎣3⎦"
            ]
          },
          "metadata": {
            "tags": []
          },
          "execution_count": 4
        }
      ]
    },
    {
      "cell_type": "markdown",
      "metadata": {
        "id": "T0-Imk9WrpMA"
      },
      "source": [
        "SymPy` の行列は `immutable` ではない!!!!!\n",
        "\n",
        "不変にしたい場合はImmutableMatrixを使う"
      ]
    },
    {
      "cell_type": "code",
      "metadata": {
        "id": "WexsjDiErpMA",
        "colab": {
          "base_uri": "https://localhost:8080/",
          "height": 58
        },
        "outputId": "91345065-ec85-4988-c60e-e426affd2f4c"
      },
      "source": [
        "M = Matrix([[1,2,3],[-2,0,4]])\n",
        "M"
      ],
      "execution_count": 5,
      "outputs": [
        {
          "output_type": "execute_result",
          "data": {
            "text/latex": "$\\displaystyle \\left[\\begin{matrix}1 & 2 & 3\\\\-2 & 0 & 4\\end{matrix}\\right]$",
            "text/plain": [
              "⎡1   2  3⎤\n",
              "⎢        ⎥\n",
              "⎣-2  0  4⎦"
            ]
          },
          "metadata": {
            "tags": []
          },
          "execution_count": 5
        }
      ]
    },
    {
      "cell_type": "code",
      "metadata": {
        "id": "O6K0r0CxrpMC",
        "colab": {
          "base_uri": "https://localhost:8080/",
          "height": 37
        },
        "outputId": "ea1706cd-3521-48f6-e7a3-417968c1adca"
      },
      "source": [
        "M.shape"
      ],
      "execution_count": 6,
      "outputs": [
        {
          "output_type": "execute_result",
          "data": {
            "image/png": "[encoded data removed]",
            "text/latex": "$\\displaystyle \\left( 2, \\  3\\right)$",
            "text/plain": [
              "(2, 3)"
            ]
          },
          "metadata": {
            "tags": []
          },
          "execution_count": 6
        }
      ]
    },
    {
      "cell_type": "code",
      "metadata": {
        "id": "ZDqMXytHrpMF",
        "colab": {
          "base_uri": "https://localhost:8080/",
          "height": 39
        },
        "outputId": "52b8e087-c589-418a-e3ae-65a7f72c7c4d"
      },
      "source": [
        "M.row(0)"
      ],
      "execution_count": 7,
      "outputs": [
        {
          "output_type": "execute_result",
          "data": {
            "text/latex": "$\\displaystyle \\left[\\begin{matrix}1 & 2 & 3\\end{matrix}\\right]$",
            "text/plain": [
              "[1  2  3]"
            ]
          },
          "metadata": {
            "tags": []
          },
          "execution_count": 7
        }
      ]
    },
    {
      "cell_type": "code",
      "metadata": {
        "id": "fNyashY4rpMK",
        "colab": {
          "base_uri": "https://localhost:8080/",
          "height": 58
        },
        "outputId": "1a6ec5fc-b79a-4958-c21e-452d09c7e9f3"
      },
      "source": [
        "M.col(-1)"
      ],
      "execution_count": 8,
      "outputs": [
        {
          "output_type": "execute_result",
          "data": {
            "text/latex": "$\\displaystyle \\left[\\begin{matrix}3\\\\4\\end{matrix}\\right]$",
            "text/plain": [
              "⎡3⎤\n",
              "⎢ ⎥\n",
              "⎣4⎦"
            ]
          },
          "metadata": {
            "tags": []
          },
          "execution_count": 8
        }
      ]
    },
    {
      "cell_type": "code",
      "metadata": {
        "id": "KnVIH4PXrpMO",
        "colab": {
          "base_uri": "https://localhost:8080/",
          "height": 58
        },
        "outputId": "8887447e-de7a-4908-f590-eddf5e87466c"
      },
      "source": [
        "M.col_del(0)\n",
        "M"
      ],
      "execution_count": 9,
      "outputs": [
        {
          "output_type": "execute_result",
          "data": {
            "text/latex": "$\\displaystyle \\left[\\begin{matrix}2 & 3\\\\0 & 4\\end{matrix}\\right]$",
            "text/plain": [
              "⎡2  3⎤\n",
              "⎢    ⎥\n",
              "⎣0  4⎦"
            ]
          },
          "metadata": {
            "tags": []
          },
          "execution_count": 9
        }
      ]
    },
    {
      "cell_type": "code",
      "metadata": {
        "id": "GddO1xZ8rpMR",
        "colab": {
          "base_uri": "https://localhost:8080/",
          "height": 39
        },
        "outputId": "bccbe60b-8e29-44cb-cc7a-829da53f32e5"
      },
      "source": [
        "M.row_del(1)\n",
        "M"
      ],
      "execution_count": 10,
      "outputs": [
        {
          "output_type": "execute_result",
          "data": {
            "text/latex": "$\\displaystyle \\left[\\begin{matrix}2 & 3\\end{matrix}\\right]$",
            "text/plain": [
              "[2  3]"
            ]
          },
          "metadata": {
            "tags": []
          },
          "execution_count": 10
        }
      ]
    },
    {
      "cell_type": "code",
      "metadata": {
        "id": "VA_2Oa3ErpMU",
        "colab": {
          "base_uri": "https://localhost:8080/",
          "height": 58
        },
        "outputId": "2b0a842f-38f6-4177-d568-e4faf8812d24"
      },
      "source": [
        "M = M.row_insert(1,Matrix([[0,4]]))\n",
        "M"
      ],
      "execution_count": 11,
      "outputs": [
        {
          "output_type": "execute_result",
          "data": {
            "text/latex": "$\\displaystyle \\left[\\begin{matrix}2 & 3\\\\0 & 4\\end{matrix}\\right]$",
            "text/plain": [
              "⎡2  3⎤\n",
              "⎢    ⎥\n",
              "⎣0  4⎦"
            ]
          },
          "metadata": {
            "tags": []
          },
          "execution_count": 11
        }
      ]
    },
    {
      "cell_type": "code",
      "metadata": {
        "id": "9cO_mHEXrpMW",
        "colab": {
          "base_uri": "https://localhost:8080/",
          "height": 58
        },
        "outputId": "ecf303a2-9220-4923-90fb-81db54efb491"
      },
      "source": [
        "M = M.col_insert(0,Matrix([1,-2]))\n",
        "M"
      ],
      "execution_count": null,
      "outputs": [
        {
          "output_type": "execute_result",
          "data": {
            "text/latex": "$$\\left[\\begin{matrix}1 & 2 & 3\\\\-2 & 0 & 4\\end{matrix}\\right]$$",
            "text/plain": [
              "⎡1   2  3⎤\n",
              "⎢        ⎥\n",
              "⎣-2  0  4⎦"
            ]
          },
          "metadata": {
            "tags": []
          },
          "execution_count": 12
        }
      ]
    },
    {
      "cell_type": "markdown",
      "metadata": {
        "id": "6ea-2djNrpMZ"
      },
      "source": [
        "###  逆行列\n",
        "\n",
        "逆行列は$-1$乗する\n"
      ]
    },
    {
      "cell_type": "code",
      "metadata": {
        "id": "c397GN2QrpMZ",
        "colab": {
          "base_uri": "https://localhost:8080/",
          "height": 58
        },
        "outputId": "85da0f46-2dd4-4848-f84e-5c72aa173efb"
      },
      "source": [
        "M = Matrix([[1,3],[-2,3]])\n",
        "N = Matrix([[0,3],[0,7]])\n",
        "M + N"
      ],
      "execution_count": null,
      "outputs": [
        {
          "output_type": "execute_result",
          "data": {
            "text/latex": "$$\\left[\\begin{matrix}1 & 6\\\\-2 & 10\\end{matrix}\\right]$$",
            "text/plain": [
              "⎡1   6 ⎤\n",
              "⎢      ⎥\n",
              "⎣-2  10⎦"
            ]
          },
          "metadata": {
            "tags": []
          },
          "execution_count": 13
        }
      ]
    },
    {
      "cell_type": "code",
      "metadata": {
        "id": "UqU9KLmprpMb",
        "colab": {
          "base_uri": "https://localhost:8080/",
          "height": 58
        },
        "outputId": "51454b8f-c437-436f-e64e-0fccf0408cbb"
      },
      "source": [
        "M * N"
      ],
      "execution_count": null,
      "outputs": [
        {
          "output_type": "execute_result",
          "data": {
            "text/latex": "$$\\left[\\begin{matrix}0 & 24\\\\0 & 15\\end{matrix}\\right]$$",
            "text/plain": [
              "⎡0  24⎤\n",
              "⎢     ⎥\n",
              "⎣0  15⎦"
            ]
          },
          "metadata": {
            "tags": []
          },
          "execution_count": 14
        }
      ]
    },
    {
      "cell_type": "code",
      "metadata": {
        "id": "1tXYBnT6rpMd",
        "colab": {
          "base_uri": "https://localhost:8080/",
          "height": 58
        },
        "outputId": "0037859a-d72b-4ef6-893c-fbeade2d8f8c"
      },
      "source": [
        "3 * M"
      ],
      "execution_count": null,
      "outputs": [
        {
          "output_type": "execute_result",
          "data": {
            "text/latex": "$$\\left[\\begin{matrix}3 & 9\\\\-6 & 9\\end{matrix}\\right]$$",
            "text/plain": [
              "⎡3   9⎤\n",
              "⎢     ⎥\n",
              "⎣-6  9⎦"
            ]
          },
          "metadata": {
            "tags": []
          },
          "execution_count": 15
        }
      ]
    },
    {
      "cell_type": "code",
      "metadata": {
        "id": "sP7-M9uBrpMg",
        "colab": {
          "base_uri": "https://localhost:8080/",
          "height": 58
        },
        "outputId": "67671e96-0b1c-4cbf-8cfa-2ef153746562"
      },
      "source": [
        "M * M"
      ],
      "execution_count": null,
      "outputs": [
        {
          "output_type": "execute_result",
          "data": {
            "text/latex": "$$\\left[\\begin{matrix}-5 & 12\\\\-8 & 3\\end{matrix}\\right]$$",
            "text/plain": [
              "⎡-5  12⎤\n",
              "⎢      ⎥\n",
              "⎣-8  3 ⎦"
            ]
          },
          "metadata": {
            "tags": []
          },
          "execution_count": 16
        }
      ]
    },
    {
      "cell_type": "code",
      "metadata": {
        "id": "Krp3_qBdrpMi",
        "colab": {
          "base_uri": "https://localhost:8080/",
          "height": 58
        },
        "outputId": "72198187-4a08-4dec-ae89-99ec64cc3ee9"
      },
      "source": [
        "M**2"
      ],
      "execution_count": null,
      "outputs": [
        {
          "output_type": "execute_result",
          "data": {
            "text/latex": "$$\\left[\\begin{matrix}-5 & 12\\\\-8 & 3\\end{matrix}\\right]$$",
            "text/plain": [
              "⎡-5  12⎤\n",
              "⎢      ⎥\n",
              "⎣-8  3 ⎦"
            ]
          },
          "metadata": {
            "tags": []
          },
          "execution_count": 17
        }
      ]
    },
    {
      "cell_type": "code",
      "metadata": {
        "id": "-y4B42JGrpMk",
        "colab": {
          "base_uri": "https://localhost:8080/",
          "height": 58
        },
        "outputId": "3a0d321b-bff6-4ae4-9649-af2edd042a37"
      },
      "source": [
        "M**-1"
      ],
      "execution_count": null,
      "outputs": [
        {
          "output_type": "execute_result",
          "data": {
            "text/latex": "$$\\left[\\begin{matrix}\\frac{1}{3} & - \\frac{1}{3}\\\\\\frac{2}{9} & \\frac{1}{9}\\end{matrix}\\right]$$",
            "text/plain": [
              "⎡1/3  -1/3⎤\n",
              "⎢         ⎥\n",
              "⎣2/9  1/9 ⎦"
            ]
          },
          "metadata": {
            "tags": []
          },
          "execution_count": 18
        }
      ]
    },
    {
      "cell_type": "code",
      "metadata": {
        "id": "EwKKIsvHrpMm",
        "colab": {
          "base_uri": "https://localhost:8080/",
          "height": 58
        },
        "outputId": "72e9a243-1d04-4670-b1aa-2b889de4ed47"
      },
      "source": [
        "M * M**-1"
      ],
      "execution_count": null,
      "outputs": [
        {
          "output_type": "execute_result",
          "data": {
            "text/latex": "$$\\left[\\begin{matrix}1 & 0\\\\0 & 1\\end{matrix}\\right]$$",
            "text/plain": [
              "⎡1  0⎤\n",
              "⎢    ⎥\n",
              "⎣0  1⎦"
            ]
          },
          "metadata": {
            "tags": []
          },
          "execution_count": 19
        }
      ]
    },
    {
      "cell_type": "code",
      "metadata": {
        "id": "a-hoF2JxrpMo",
        "colab": {
          "base_uri": "https://localhost:8080/",
          "height": 34
        },
        "outputId": "f0ee1609-ffeb-4c11-c5a0-50850eaa05de"
      },
      "source": [
        "%xmode plain"
      ],
      "execution_count": null,
      "outputs": [
        {
          "output_type": "stream",
          "text": [
            "Exception reporting mode: Plain\n"
          ],
          "name": "stdout"
        }
      ]
    },
    {
      "cell_type": "code",
      "metadata": {
        "scrolled": true,
        "id": "bem691EWrpMt"
      },
      "source": [
        "# N ** -1\n",
        "# ValueError: Matrix det == 0; not invertible."
      ],
      "execution_count": null,
      "outputs": []
    },
    {
      "cell_type": "markdown",
      "metadata": {
        "id": "Y0EWAsJcrpMw"
      },
      "source": [
        "###  転置行列"
      ]
    },
    {
      "cell_type": "code",
      "metadata": {
        "id": "YwafIaOxrpMw",
        "colab": {
          "base_uri": "https://localhost:8080/",
          "height": 58
        },
        "outputId": "6d1a09fa-5a7c-495f-8476-788377ef3b37"
      },
      "source": [
        "M = Matrix([[1,2,3],[4,5,6]])\n",
        "M"
      ],
      "execution_count": null,
      "outputs": [
        {
          "output_type": "execute_result",
          "data": {
            "text/latex": "$$\\left[\\begin{matrix}1 & 2 & 3\\\\4 & 5 & 6\\end{matrix}\\right]$$",
            "text/plain": [
              "⎡1  2  3⎤\n",
              "⎢       ⎥\n",
              "⎣4  5  6⎦"
            ]
          },
          "metadata": {
            "tags": []
          },
          "execution_count": 24
        }
      ]
    },
    {
      "cell_type": "code",
      "metadata": {
        "id": "okVTI8hrrpM1",
        "colab": {
          "base_uri": "https://localhost:8080/",
          "height": 78
        },
        "outputId": "cd0b4b00-3114-4b92-b23e-62ecab0fdaf1"
      },
      "source": [
        "M.T"
      ],
      "execution_count": null,
      "outputs": [
        {
          "output_type": "execute_result",
          "data": {
            "text/latex": "$$\\left[\\begin{matrix}1 & 4\\\\2 & 5\\\\3 & 6\\end{matrix}\\right]$$",
            "text/plain": [
              "⎡1  4⎤\n",
              "⎢    ⎥\n",
              "⎢2  5⎥\n",
              "⎢    ⎥\n",
              "⎣3  6⎦"
            ]
          },
          "metadata": {
            "tags": []
          },
          "execution_count": 25
        }
      ]
    },
    {
      "cell_type": "code",
      "metadata": {
        "id": "EADBrQHvrpM4",
        "colab": {
          "base_uri": "https://localhost:8080/",
          "height": 78
        },
        "outputId": "703fdb34-5ea0-4e66-98e7-4bee2c67bd0d"
      },
      "source": [
        "eye(3)"
      ],
      "execution_count": null,
      "outputs": [
        {
          "output_type": "execute_result",
          "data": {
            "text/latex": "$$\\left[\\begin{matrix}1 & 0 & 0\\\\0 & 1 & 0\\\\0 & 0 & 1\\end{matrix}\\right]$$",
            "text/plain": [
              "⎡1  0  0⎤\n",
              "⎢       ⎥\n",
              "⎢0  1  0⎥\n",
              "⎢       ⎥\n",
              "⎣0  0  1⎦"
            ]
          },
          "metadata": {
            "tags": []
          },
          "execution_count": 26
        }
      ]
    },
    {
      "cell_type": "code",
      "metadata": {
        "id": "7EzZGLKirpM7",
        "colab": {
          "base_uri": "https://localhost:8080/",
          "height": 58
        },
        "outputId": "fc58d6b7-ebb6-4ae0-f209-8c2b577bf9ec"
      },
      "source": [
        "zeros(2,3)"
      ],
      "execution_count": null,
      "outputs": [
        {
          "output_type": "execute_result",
          "data": {
            "text/latex": "$$\\left[\\begin{matrix}0 & 0 & 0\\\\0 & 0 & 0\\end{matrix}\\right]$$",
            "text/plain": [
              "⎡0  0  0⎤\n",
              "⎢       ⎥\n",
              "⎣0  0  0⎦"
            ]
          },
          "metadata": {
            "tags": []
          },
          "execution_count": 27
        }
      ]
    },
    {
      "cell_type": "code",
      "metadata": {
        "id": "BoD7ENkJrpM-",
        "colab": {
          "base_uri": "https://localhost:8080/",
          "height": 78
        },
        "outputId": "54564b9b-beb5-448b-a334-894a394bb42b"
      },
      "source": [
        "ones(3,2)"
      ],
      "execution_count": null,
      "outputs": [
        {
          "output_type": "execute_result",
          "data": {
            "text/latex": "$$\\left[\\begin{matrix}1 & 1\\\\1 & 1\\\\1 & 1\\end{matrix}\\right]$$",
            "text/plain": [
              "⎡1  1⎤\n",
              "⎢    ⎥\n",
              "⎢1  1⎥\n",
              "⎢    ⎥\n",
              "⎣1  1⎦"
            ]
          },
          "metadata": {
            "tags": []
          },
          "execution_count": 28
        }
      ]
    },
    {
      "cell_type": "code",
      "metadata": {
        "id": "QYOW6d44rpNA",
        "colab": {
          "base_uri": "https://localhost:8080/",
          "height": 78
        },
        "outputId": "6fa841cb-6aba-4733-e054-9aa8f433deb8"
      },
      "source": [
        "diag(1,2,3)"
      ],
      "execution_count": null,
      "outputs": [
        {
          "output_type": "execute_result",
          "data": {
            "text/latex": "$$\\left[\\begin{matrix}1 & 0 & 0\\\\0 & 2 & 0\\\\0 & 0 & 3\\end{matrix}\\right]$$",
            "text/plain": [
              "⎡1  0  0⎤\n",
              "⎢       ⎥\n",
              "⎢0  2  0⎥\n",
              "⎢       ⎥\n",
              "⎣0  0  3⎦"
            ]
          },
          "metadata": {
            "tags": []
          },
          "execution_count": 29
        }
      ]
    },
    {
      "cell_type": "code",
      "metadata": {
        "scrolled": true,
        "id": "kAzCuMYFrpNC",
        "colab": {
          "base_uri": "https://localhost:8080/",
          "height": 139
        },
        "outputId": "f05ca8a8-b2cb-4a4b-e341-506dbf6e74a1"
      },
      "source": [
        "diag(-1, ones(2,2), Matrix([5,7,5]))"
      ],
      "execution_count": null,
      "outputs": [
        {
          "output_type": "execute_result",
          "data": {
            "text/latex": "$$\\left[\\begin{matrix}-1 & 0 & 0 & 0\\\\0 & 1 & 1 & 0\\\\0 & 1 & 1 & 0\\\\0 & 0 & 0 & 5\\\\0 & 0 & 0 & 7\\\\0 & 0 & 0 & 5\\end{matrix}\\right]$$",
            "text/plain": [
              "⎡-1  0  0  0⎤\n",
              "⎢           ⎥\n",
              "⎢0   1  1  0⎥\n",
              "⎢           ⎥\n",
              "⎢0   1  1  0⎥\n",
              "⎢           ⎥\n",
              "⎢0   0  0  5⎥\n",
              "⎢           ⎥\n",
              "⎢0   0  0  7⎥\n",
              "⎢           ⎥\n",
              "⎣0   0  0  5⎦"
            ]
          },
          "metadata": {
            "tags": []
          },
          "execution_count": 30
        }
      ]
    },
    {
      "cell_type": "code",
      "metadata": {
        "id": "YRlAvxkRrpNE",
        "colab": {
          "base_uri": "https://localhost:8080/",
          "height": 78
        },
        "outputId": "2789c0ea-e0a1-452f-84e7-15a02f9e3249"
      },
      "source": [
        "M = Matrix([[1,0,1],[2,-1,3],[4,3,2]])\n",
        "M"
      ],
      "execution_count": null,
      "outputs": [
        {
          "output_type": "execute_result",
          "data": {
            "text/latex": "$$\\left[\\begin{matrix}1 & 0 & 1\\\\2 & -1 & 3\\\\4 & 3 & 2\\end{matrix}\\right]$$",
            "text/plain": [
              "⎡1  0   1⎤\n",
              "⎢        ⎥\n",
              "⎢2  -1  3⎥\n",
              "⎢        ⎥\n",
              "⎣4  3   2⎦"
            ]
          },
          "metadata": {
            "tags": []
          },
          "execution_count": 31
        }
      ]
    },
    {
      "cell_type": "code",
      "metadata": {
        "id": "yOFEXtqFrpNF",
        "colab": {
          "base_uri": "https://localhost:8080/",
          "height": 37
        },
        "outputId": "35affa7a-a064-4a4e-e648-313d3f2353f5"
      },
      "source": [
        "M.det()"
      ],
      "execution_count": null,
      "outputs": [
        {
          "output_type": "execute_result",
          "data": {
            "image/png": "[encoded data removed]",
            "text/latex": "$$-1$$",
            "text/plain": [
              "-1"
            ]
          },
          "metadata": {
            "tags": []
          },
          "execution_count": 32
        }
      ]
    },
    {
      "cell_type": "markdown",
      "metadata": {
        "id": "1Bq3uuf3rpNH"
      },
      "source": [
        "### 階段型(梯形)への変換\n",
        "\n",
        "行列を階段型に変換するには `rrf` を使う。"
      ]
    },
    {
      "cell_type": "code",
      "metadata": {
        "id": "R2BfAND6rpNI",
        "colab": {
          "base_uri": "https://localhost:8080/",
          "height": 78
        },
        "outputId": "0c984110-6733-4b74-c120-4a512cd70dae"
      },
      "source": [
        "M = Matrix([[1, 0, 1, 3],[2, 3, 4, 7],[-1, -3, -3, -4]])\n",
        "M"
      ],
      "execution_count": null,
      "outputs": [
        {
          "output_type": "execute_result",
          "data": {
            "text/latex": "$$\\left[\\begin{matrix}1 & 0 & 1 & 3\\\\2 & 3 & 4 & 7\\\\-1 & -3 & -3 & -4\\end{matrix}\\right]$$",
            "text/plain": [
              "⎡1   0   1   3 ⎤\n",
              "⎢              ⎥\n",
              "⎢2   3   4   7 ⎥\n",
              "⎢              ⎥\n",
              "⎣-1  -3  -3  -4⎦"
            ]
          },
          "metadata": {
            "tags": []
          },
          "execution_count": 33
        }
      ]
    },
    {
      "cell_type": "code",
      "metadata": {
        "id": "yOuui7garpNK",
        "colab": {
          "base_uri": "https://localhost:8080/",
          "height": 78
        },
        "outputId": "01082989-5029-46dd-cf2c-2e86043a8df6"
      },
      "source": [
        "M.rref()"
      ],
      "execution_count": null,
      "outputs": [
        {
          "output_type": "execute_result",
          "data": {
            "text/latex": "$$\\left ( \\left[\\begin{matrix}1 & 0 & 1 & 3\\\\0 & 1 & \\frac{2}{3} & \\frac{1}{3}\\\\0 & 0 & 0 & 0\\end{matrix}\\right], \\quad \\left ( 0, \\quad 1\\right )\\right )$$",
            "text/plain": [
              "⎛⎡1  0   1    3 ⎤        ⎞\n",
              "⎜⎢              ⎥        ⎟\n",
              "⎜⎢0  1  2/3  1/3⎥, (0, 1)⎟\n",
              "⎜⎢              ⎥        ⎟\n",
              "⎝⎣0  0   0    0 ⎦        ⎠"
            ]
          },
          "metadata": {
            "tags": []
          },
          "execution_count": 34
        }
      ]
    },
    {
      "cell_type": "markdown",
      "metadata": {
        "id": "cPYXgg6GrpNO"
      },
      "source": [
        "### 零空間 nullspace"
      ]
    },
    {
      "cell_type": "code",
      "metadata": {
        "id": "9DCMlY-1rpNO",
        "colab": {
          "base_uri": "https://localhost:8080/",
          "height": 58
        },
        "outputId": "c50fb3e3-3066-467b-dba4-834289e51c3a"
      },
      "source": [
        "M = Matrix([[1,2,3,0,0],[4,10,0,0,1]])\n",
        "M"
      ],
      "execution_count": null,
      "outputs": [
        {
          "output_type": "execute_result",
          "data": {
            "text/latex": "$$\\left[\\begin{matrix}1 & 2 & 3 & 0 & 0\\\\4 & 10 & 0 & 0 & 1\\end{matrix}\\right]$$",
            "text/plain": [
              "⎡1  2   3  0  0⎤\n",
              "⎢              ⎥\n",
              "⎣4  10  0  0  1⎦"
            ]
          },
          "metadata": {
            "tags": []
          },
          "execution_count": 35
        }
      ]
    },
    {
      "cell_type": "code",
      "metadata": {
        "id": "N8Hxfn__rpNR",
        "colab": {
          "base_uri": "https://localhost:8080/",
          "height": 119
        },
        "outputId": "9497cd16-e835-4ca2-fe1f-151465051d4c"
      },
      "source": [
        "M.nullspace()"
      ],
      "execution_count": null,
      "outputs": [
        {
          "output_type": "execute_result",
          "data": {
            "text/latex": "$$\\left [ \\left[\\begin{matrix}-15\\\\6\\\\1\\\\0\\\\0\\end{matrix}\\right], \\quad \\left[\\begin{matrix}0\\\\0\\\\0\\\\1\\\\0\\end{matrix}\\right], \\quad \\left[\\begin{matrix}1\\\\- \\frac{1}{2}\\\\0\\\\0\\\\1\\end{matrix}\\right]\\right ]$$",
            "text/plain": [
              "⎡⎡-15⎤  ⎡0⎤  ⎡ 1  ⎤⎤\n",
              "⎢⎢   ⎥  ⎢ ⎥  ⎢    ⎥⎥\n",
              "⎢⎢ 6 ⎥  ⎢0⎥  ⎢-1/2⎥⎥\n",
              "⎢⎢   ⎥  ⎢ ⎥  ⎢    ⎥⎥\n",
              "⎢⎢ 1 ⎥, ⎢0⎥, ⎢ 0  ⎥⎥\n",
              "⎢⎢   ⎥  ⎢ ⎥  ⎢    ⎥⎥\n",
              "⎢⎢ 0 ⎥  ⎢1⎥  ⎢ 0  ⎥⎥\n",
              "⎢⎢   ⎥  ⎢ ⎥  ⎢    ⎥⎥\n",
              "⎣⎣ 0 ⎦  ⎣0⎦  ⎣ 1  ⎦⎦"
            ]
          },
          "metadata": {
            "tags": []
          },
          "execution_count": 36
        }
      ]
    },
    {
      "cell_type": "markdown",
      "metadata": {
        "id": "TPdOQuMurpNU"
      },
      "source": [
        "### 列空間 columnspace"
      ]
    },
    {
      "cell_type": "code",
      "metadata": {
        "id": "RfAWQmZfrpNU"
      },
      "source": [
        "M = Matrix([[1,1,2],[2,1,3],[3,1,4]])\n",
        "M"
      ],
      "execution_count": null,
      "outputs": []
    },
    {
      "cell_type": "code",
      "metadata": {
        "id": "6ZynGY9grpNZ"
      },
      "source": [
        "M.columnspace()"
      ],
      "execution_count": null,
      "outputs": []
    },
    {
      "cell_type": "markdown",
      "metadata": {
        "id": "6vwnxK4RrpNc"
      },
      "source": [
        "###  固有値 eigenvalue\n",
        "\n",
        "enganvalues, eigenvectors, and diagonalization"
      ]
    },
    {
      "cell_type": "code",
      "metadata": {
        "id": "WqxaeV3XrpNd",
        "colab": {
          "base_uri": "https://localhost:8080/",
          "height": 98
        },
        "outputId": "a19afc34-3cee-4e1b-f356-f9a7e42127bb"
      },
      "source": [
        "from sympy import *\n",
        "init_printing()\n",
        "M = Matrix([[3,-2,4,-2],[5,3,-3,-2],[5,-2,2,-2],[5,-2,-3,3]])\n",
        "M"
      ],
      "execution_count": null,
      "outputs": [
        {
          "output_type": "execute_result",
          "data": {
            "text/latex": "$$\\left[\\begin{matrix}3 & -2 & 4 & -2\\\\5 & 3 & -3 & -2\\\\5 & -2 & 2 & -2\\\\5 & -2 & -3 & 3\\end{matrix}\\right]$$",
            "text/plain": [
              "⎡3  -2  4   -2⎤\n",
              "⎢             ⎥\n",
              "⎢5  3   -3  -2⎥\n",
              "⎢             ⎥\n",
              "⎢5  -2  2   -2⎥\n",
              "⎢             ⎥\n",
              "⎣5  -2  -3  3 ⎦"
            ]
          },
          "metadata": {
            "tags": []
          },
          "execution_count": 37
        }
      ]
    },
    {
      "cell_type": "code",
      "metadata": {
        "id": "6PihwoOjrpNf",
        "colab": {
          "base_uri": "https://localhost:8080/",
          "height": 37
        },
        "outputId": "5990c204-d35e-42fd-eb46-8b8e40a6c710"
      },
      "source": [
        "M.eigenvals()"
      ],
      "execution_count": null,
      "outputs": [
        {
          "output_type": "execute_result",
          "data": {
            "image/png": "[encoded data removed]",
            "text/latex": "$$\\left \\{ -2 : 1, \\quad 3 : 1, \\quad 5 : 2\\right \\}$$",
            "text/plain": [
              "{-2: 1, 3: 1, 5: 2}"
            ]
          },
          "metadata": {
            "tags": []
          },
          "execution_count": 38
        }
      ]
    },
    {
      "cell_type": "markdown",
      "metadata": {
        "id": "N7qf34AgrpNi"
      },
      "source": [
        "`M.eigenvals()` `{−2:1,3:1,5:2}`\n",
        "\n",
        "この意味は行列 `M` は固有値、`-2`、`3`、`5` をもち、このうち `2`、`3` は代数的多重度が `1` で、固有値 `5` は代数的多重度が `2` である。\n"
      ]
    },
    {
      "cell_type": "code",
      "metadata": {
        "id": "5b8y8-bBrpNk",
        "colab": {
          "base_uri": "https://localhost:8080/",
          "height": 98
        },
        "outputId": "f4595b80-7590-4a74-e9e9-a3ab32ce0a83"
      },
      "source": [
        "M.eigenvects()"
      ],
      "execution_count": null,
      "outputs": [
        {
          "output_type": "execute_result",
          "data": {
            "text/latex": "$$\\left [ \\left ( -2, \\quad 1, \\quad \\left [ \\left[\\begin{matrix}0\\\\1\\\\1\\\\1\\end{matrix}\\right]\\right ]\\right ), \\quad \\left ( 3, \\quad 1, \\quad \\left [ \\left[\\begin{matrix}1\\\\1\\\\1\\\\1\\end{matrix}\\right]\\right ]\\right ), \\quad \\left ( 5, \\quad 2, \\quad \\left [ \\left[\\begin{matrix}1\\\\1\\\\1\\\\0\\end{matrix}\\right], \\quad \\left[\\begin{matrix}0\\\\-1\\\\0\\\\1\\end{matrix}\\right]\\right ]\\right )\\right ]$$",
            "text/plain": [
              "⎡⎛       ⎡⎡0⎤⎤⎞  ⎛      ⎡⎡1⎤⎤⎞  ⎛      ⎡⎡1⎤  ⎡0 ⎤⎤⎞⎤\n",
              "⎢⎜       ⎢⎢ ⎥⎥⎟  ⎜      ⎢⎢ ⎥⎥⎟  ⎜      ⎢⎢ ⎥  ⎢  ⎥⎥⎟⎥\n",
              "⎢⎜       ⎢⎢1⎥⎥⎟  ⎜      ⎢⎢1⎥⎥⎟  ⎜      ⎢⎢1⎥  ⎢-1⎥⎥⎟⎥\n",
              "⎢⎜-2, 1, ⎢⎢ ⎥⎥⎟, ⎜3, 1, ⎢⎢ ⎥⎥⎟, ⎜5, 2, ⎢⎢ ⎥, ⎢  ⎥⎥⎟⎥\n",
              "⎢⎜       ⎢⎢1⎥⎥⎟  ⎜      ⎢⎢1⎥⎥⎟  ⎜      ⎢⎢1⎥  ⎢0 ⎥⎥⎟⎥\n",
              "⎢⎜       ⎢⎢ ⎥⎥⎟  ⎜      ⎢⎢ ⎥⎥⎟  ⎜      ⎢⎢ ⎥  ⎢  ⎥⎥⎟⎥\n",
              "⎣⎝       ⎣⎣1⎦⎦⎠  ⎝      ⎣⎣1⎦⎦⎠  ⎝      ⎣⎣0⎦  ⎣1 ⎦⎦⎠⎦"
            ]
          },
          "metadata": {
            "tags": []
          },
          "execution_count": 39
        }
      ]
    },
    {
      "cell_type": "markdown",
      "metadata": {
        "id": "og9x6yHhrpNo"
      },
      "source": [
        "`M.eigenvect()` の結果は、固有値 `5` には2つの固有ベクトルがあるため、幾何多重度も `2` あることを示している。 代数的および幾何学的多重度はすべての固有値で同じであるため、Mは対角化可能。"
      ]
    },
    {
      "cell_type": "markdown",
      "metadata": {
        "id": "cvjAu5GXrpNo"
      },
      "source": [
        "行列を対角化するには、`diagonalize` を使用します。 `diagonalize` は、タプル`(P, D)` を返す。ここで、`D` は対角で、`M = PDP-1` である。\n"
      ]
    },
    {
      "cell_type": "code",
      "metadata": {
        "id": "BHNLsOH0rpNp",
        "colab": {
          "base_uri": "https://localhost:8080/",
          "height": 98
        },
        "outputId": "4d68d24b-31f3-4004-8f47-75fbdaece63d"
      },
      "source": [
        "P, D = M.diagonalize()\n",
        "P"
      ],
      "execution_count": null,
      "outputs": [
        {
          "output_type": "execute_result",
          "data": {
            "text/latex": "$$\\left[\\begin{matrix}0 & 1 & 1 & 0\\\\1 & 1 & 1 & -1\\\\1 & 1 & 1 & 0\\\\1 & 1 & 0 & 1\\end{matrix}\\right]$$",
            "text/plain": [
              "⎡0  1  1  0 ⎤\n",
              "⎢           ⎥\n",
              "⎢1  1  1  -1⎥\n",
              "⎢           ⎥\n",
              "⎢1  1  1  0 ⎥\n",
              "⎢           ⎥\n",
              "⎣1  1  0  1 ⎦"
            ]
          },
          "metadata": {
            "tags": []
          },
          "execution_count": 40
        }
      ]
    },
    {
      "cell_type": "code",
      "metadata": {
        "id": "zKvJC5IvrpNu",
        "colab": {
          "base_uri": "https://localhost:8080/",
          "height": 98
        },
        "outputId": "282a911f-ede7-40e1-8d7e-df5d10a08af3"
      },
      "source": [
        "D"
      ],
      "execution_count": null,
      "outputs": [
        {
          "output_type": "execute_result",
          "data": {
            "text/latex": "$$\\left[\\begin{matrix}-2 & 0 & 0 & 0\\\\0 & 3 & 0 & 0\\\\0 & 0 & 5 & 0\\\\0 & 0 & 0 & 5\\end{matrix}\\right]$$",
            "text/plain": [
              "⎡-2  0  0  0⎤\n",
              "⎢           ⎥\n",
              "⎢0   3  0  0⎥\n",
              "⎢           ⎥\n",
              "⎢0   0  5  0⎥\n",
              "⎢           ⎥\n",
              "⎣0   0  0  5⎦"
            ]
          },
          "metadata": {
            "tags": []
          },
          "execution_count": 41
        }
      ]
    },
    {
      "cell_type": "code",
      "metadata": {
        "id": "-gC7vom6rpNw",
        "colab": {
          "base_uri": "https://localhost:8080/",
          "height": 98
        },
        "outputId": "80eed2d7-d66d-4e28-d726-1022d693ee25"
      },
      "source": [
        "P*D*P**-1"
      ],
      "execution_count": null,
      "outputs": [
        {
          "output_type": "execute_result",
          "data": {
            "text/latex": "$$\\left[\\begin{matrix}3 & -2 & 4 & -2\\\\5 & 3 & -3 & -2\\\\5 & -2 & 2 & -2\\\\5 & -2 & -3 & 3\\end{matrix}\\right]$$",
            "text/plain": [
              "⎡3  -2  4   -2⎤\n",
              "⎢             ⎥\n",
              "⎢5  3   -3  -2⎥\n",
              "⎢             ⎥\n",
              "⎢5  -2  2   -2⎥\n",
              "⎢             ⎥\n",
              "⎣5  -2  -3  3 ⎦"
            ]
          },
          "metadata": {
            "tags": []
          },
          "execution_count": 42
        }
      ]
    },
    {
      "cell_type": "code",
      "metadata": {
        "id": "oheX_BTsrpNy",
        "colab": {
          "base_uri": "https://localhost:8080/",
          "height": 34
        },
        "outputId": "07795f62-26ad-414d-f51d-f89a426dd2d1"
      },
      "source": [
        "P*D*P**-1 == M"
      ],
      "execution_count": null,
      "outputs": [
        {
          "output_type": "execute_result",
          "data": {
            "text/plain": [
              "True"
            ]
          },
          "metadata": {
            "tags": []
          },
          "execution_count": 43
        }
      ]
    },
    {
      "cell_type": "markdown",
      "metadata": {
        "id": "0grZDn5krpN1"
      },
      "source": [
        "固有多項式 `characteristic polynomial` だけが必要な場合は、charpolyを使用しする。 シンボリックルートは計算にコストがかかる場合がかかるため、`eigenval` よりも効率的。"
      ]
    },
    {
      "cell_type": "code",
      "metadata": {
        "id": "WpG4Oi9zrpN1",
        "colab": {
          "base_uri": "https://localhost:8080/",
          "height": 39
        },
        "outputId": "ba068d47-3be3-4ae9-f773-c3d162e3df0a"
      },
      "source": [
        "lamda = symbols('lamda')\n",
        "p = M.charpoly(lamda)\n",
        "factor(p)"
      ],
      "execution_count": null,
      "outputs": [
        {
          "output_type": "execute_result",
          "data": {
            "image/png": "[encoded data removed]",
            "text/latex": "$$\\left(\\lambda - 5\\right)^{2} \\left(\\lambda - 3\\right) \\left(\\lambda + 2\\right)$$",
            "text/plain": [
              "       2                \n",
              "(λ - 5) ⋅(λ - 3)⋅(λ + 2)"
            ]
          },
          "metadata": {
            "tags": []
          },
          "execution_count": 44
        }
      ]
    },
    {
      "cell_type": "markdown",
      "metadata": {
        "id": "lrYLr8PWrpN7"
      },
      "source": [
        "# 高度な式操作\n",
        "\n",
        "advanced expression manipulation\n",
        "\n",
        "式ツリー `expression tree`"
      ]
    },
    {
      "cell_type": "code",
      "metadata": {
        "id": "QO1H2FEKrpN8",
        "colab": {
          "base_uri": "https://localhost:8080/",
          "height": 35
        },
        "outputId": "0104b6e4-0b0c-4609-b3a2-f75390889d7d"
      },
      "source": [
        "from sympy import *\n",
        "init_printing()\n",
        "x, y, z = symbols('x y z')\n",
        "\n",
        "expr = 2**x + x*y\n",
        "srepr(expr)"
      ],
      "execution_count": null,
      "outputs": [
        {
          "output_type": "execute_result",
          "data": {
            "application/vnd.google.colaboratory.intrinsic+json": {
              "type": "string"
            },
            "text/plain": [
              "\"Add(Pow(Integer(2), Symbol('x')), Mul(Symbol('x'), Symbol('y')))\""
            ]
          },
          "metadata": {
            "tags": []
          },
          "execution_count": 45
        }
      ]
    },
    {
      "cell_type": "markdown",
      "metadata": {
        "id": "zyJdui61ihYb"
      },
      "source": [
        "# graphviz"
      ]
    },
    {
      "cell_type": "code",
      "metadata": {
        "scrolled": true,
        "id": "q9EYGRtjrpN_",
        "colab": {
          "base_uri": "https://localhost:8080/",
          "height": 174
        },
        "outputId": "d6c86822-4a8e-4e09-fd40-aa0adc12cd76"
      },
      "source": [
        "import graphviz\n",
        "g = graphviz.Digraph('G')\n",
        "g.edge('Hello', 'World')\n",
        "graphviz.Source(g)"
      ],
      "execution_count": null,
      "outputs": [
        {
          "output_type": "execute_result",
          "data": {
            "text/plain": [
              "<graphviz.files.Source at 0x7f0a29013208>"
            ],
            "image/svg+xml": "<?xml version=\"1.0\" encoding=\"UTF-8\" standalone=\"no\"?>\n<!DOCTYPE svg PUBLIC \"-//W3C//DTD SVG 1.1//EN\"\n \"http://www.w3.org/Graphics/SVG/1.1/DTD/svg11.dtd\">\n<!-- Generated by graphviz version 2.40.1 (20161225.0304)\n -->\n<!-- Title: G Pages: 1 -->\n<svg width=\"77pt\" height=\"116pt\"\n viewBox=\"0.00 0.00 76.89 116.00\" xmlns=\"http://www.w3.org/2000/svg\" xmlns:xlink=\"http://www.w3.org/1999/xlink\">\n<g id=\"graph0\" class=\"graph\" transform=\"scale(1 1) rotate(0) translate(4 112)\">\n<title>G</title>\n<polygon fill=\"#ffffff\" stroke=\"transparent\" points=\"-4,4 -4,-112 72.8939,-112 72.8939,4 -4,4\"/>\n<!-- Hello -->\n<g id=\"node1\" class=\"node\">\n<title>Hello</title>\n<ellipse fill=\"none\" stroke=\"#000000\" cx=\"34.4469\" cy=\"-90\" rx=\"31.3957\" ry=\"18\"/>\n<text text-anchor=\"middle\" x=\"34.4469\" y=\"-86.3\" font-family=\"Times,serif\" font-size=\"14.00\" fill=\"#000000\">Hello</text>\n</g>\n<!-- World -->\n<g id=\"node2\" class=\"node\">\n<title>World</title>\n<ellipse fill=\"none\" stroke=\"#000000\" cx=\"34.4469\" cy=\"-18\" rx=\"34.394\" ry=\"18\"/>\n<text text-anchor=\"middle\" x=\"34.4469\" y=\"-14.3\" font-family=\"Times,serif\" font-size=\"14.00\" fill=\"#000000\">World</text>\n</g>\n<!-- Hello&#45;&gt;World -->\n<g id=\"edge1\" class=\"edge\">\n<title>Hello&#45;&gt;World</title>\n<path fill=\"none\" stroke=\"#000000\" d=\"M34.4469,-71.8314C34.4469,-64.131 34.4469,-54.9743 34.4469,-46.4166\"/>\n<polygon fill=\"#000000\" stroke=\"#000000\" points=\"37.947,-46.4132 34.4469,-36.4133 30.947,-46.4133 37.947,-46.4132\"/>\n</g>\n</g>\n</svg>\n"
          },
          "metadata": {
            "tags": []
          },
          "execution_count": 46
        }
      ]
    },
    {
      "cell_type": "markdown",
      "metadata": {
        "id": "LSea9rhtijS3"
      },
      "source": [
        "# matplotlib"
      ]
    },
    {
      "cell_type": "code",
      "metadata": {
        "id": "2w73OEL_rpOB",
        "colab": {
          "base_uri": "https://localhost:8080/",
          "height": 265
        },
        "outputId": "af3d9cce-6aaa-47fc-c5e7-5cfa44b8ba9b"
      },
      "source": [
        "% matplotlib inline\n",
        "\n",
        "import numpy as np\n",
        "import matplotlib.pyplot as plt\n",
        "\n",
        "def sigmoid(x):\n",
        "    return 1 / (1 + np.exp(x))\n",
        "\n",
        "x = np.arange(-20.0, 20.0, 0.1)\n",
        "y = sigmoid(x)\n",
        "plt.plot(x, y)\n",
        "plt.ylim(-0.1, 1.1)\n",
        "plt.show()"
      ],
      "execution_count": null,
      "outputs": [
        {
          "output_type": "display_data",
          "data": {
            "image/png": "[encoded data removed]",
            "text/plain": [
              "<Figure size 432x288 with 1 Axes>"
            ]
          },
          "metadata": {
            "tags": [],
            "needs_background": "light"
          }
        }
      ]
    },
    {
      "cell_type": "code",
      "metadata": {
        "id": "T56ndZTxrpOD",
        "colab": {
          "base_uri": "https://localhost:8080/",
          "height": 35
        },
        "outputId": "30667e3f-8217-4859-9a79-c4f01545abfe"
      },
      "source": [
        "### symbol -> Symbol\n",
        "from sympy import *\n",
        "init_printing()\n",
        "# x = Symbol('x')\n",
        "x = symbols('x')\n",
        "srepr(x)"
      ],
      "execution_count": null,
      "outputs": [
        {
          "output_type": "execute_result",
          "data": {
            "application/vnd.google.colaboratory.intrinsic+json": {
              "type": "string"
            },
            "text/plain": [
              "\"Symbol('x')\""
            ]
          },
          "metadata": {
            "tags": []
          },
          "execution_count": 49
        }
      ]
    },
    {
      "cell_type": "code",
      "metadata": {
        "id": "-4Zcm3i3rpOG",
        "colab": {
          "base_uri": "https://localhost:8080/",
          "height": 35
        },
        "outputId": "23e35b55-ea52-47a7-9b13-9d222d9e08e8"
      },
      "source": [
        "srepr(1)"
      ],
      "execution_count": null,
      "outputs": [
        {
          "output_type": "execute_result",
          "data": {
            "application/vnd.google.colaboratory.intrinsic+json": {
              "type": "string"
            },
            "text/plain": [
              "'1'"
            ]
          },
          "metadata": {
            "tags": []
          },
          "execution_count": 50
        }
      ]
    },
    {
      "cell_type": "code",
      "metadata": {
        "id": "sSuEXismrpOJ",
        "colab": {
          "base_uri": "https://localhost:8080/",
          "height": 35
        },
        "outputId": "159d4208-cd9f-4066-8530-4399ee19adfe"
      },
      "source": [
        "expr = 2.3**x\n",
        "srepr(expr)"
      ],
      "execution_count": null,
      "outputs": [
        {
          "output_type": "execute_result",
          "data": {
            "application/vnd.google.colaboratory.intrinsic+json": {
              "type": "string"
            },
            "text/plain": [
              "\"Pow(Float('2.2999999999999998', precision=53), Symbol('x'))\""
            ]
          },
          "metadata": {
            "tags": []
          },
          "execution_count": 51
        }
      ]
    },
    {
      "cell_type": "code",
      "metadata": {
        "id": "zo_VSdokrpOL",
        "colab": {
          "base_uri": "https://localhost:8080/",
          "height": 35
        },
        "outputId": "a4a0c26b-fa46-48ec-adc8-daba616df735"
      },
      "source": [
        "srepr(Pow(2.3,x))"
      ],
      "execution_count": null,
      "outputs": [
        {
          "output_type": "execute_result",
          "data": {
            "application/vnd.google.colaboratory.intrinsic+json": {
              "type": "string"
            },
            "text/plain": [
              "\"Pow(Float('2.2999999999999998', precision=53), Symbol('x'))\""
            ]
          },
          "metadata": {
            "tags": []
          },
          "execution_count": 52
        }
      ]
    },
    {
      "cell_type": "code",
      "metadata": {
        "id": "xB7BRhvHrpOP",
        "colab": {
          "base_uri": "https://localhost:8080/",
          "height": 34
        },
        "outputId": "64d578dd-b1fe-45ee-ca34-8da1d2fb2874"
      },
      "source": [
        "type(simplify(2))"
      ],
      "execution_count": null,
      "outputs": [
        {
          "output_type": "execute_result",
          "data": {
            "text/plain": [
              "sympy.core.numbers.Integer"
            ]
          },
          "metadata": {
            "tags": []
          },
          "execution_count": 53
        }
      ]
    },
    {
      "cell_type": "code",
      "metadata": {
        "id": "BsGxikhlrpOR",
        "colab": {
          "base_uri": "https://localhost:8080/",
          "height": 38
        },
        "outputId": "652ca817-92e1-4a61-93cf-e7b657c8df4a"
      },
      "source": [
        "x, y, z = symbols('x y z')\n",
        "Mul(x,y)"
      ],
      "execution_count": null,
      "outputs": [
        {
          "output_type": "execute_result",
          "data": {
            "image/png": "[encoded data removed]",
            "text/latex": "$$x y$$",
            "text/plain": [
              "x⋅y"
            ]
          },
          "metadata": {
            "tags": []
          },
          "execution_count": 55
        }
      ]
    },
    {
      "cell_type": "code",
      "metadata": {
        "id": "L1Ft5QK3rpOT",
        "colab": {
          "base_uri": "https://localhost:8080/",
          "height": 35
        },
        "outputId": "3d82c298-79a0-45f2-808f-295796c86964"
      },
      "source": [
        "expr = sin(x*y)/2 - x**2 + 1/y\n",
        "srepr(expr)"
      ],
      "execution_count": null,
      "outputs": [
        {
          "output_type": "execute_result",
          "data": {
            "application/vnd.google.colaboratory.intrinsic+json": {
              "type": "string"
            },
            "text/plain": [
              "\"Add(Mul(Integer(-1), Pow(Symbol('x'), Integer(2))), Mul(Rational(1, 2), sin(Mul(Symbol('x'), Symbol('y')))), Pow(Symbol('y'), Integer(-1)))\""
            ]
          },
          "metadata": {
            "tags": []
          },
          "execution_count": 56
        }
      ]
    },
    {
      "cell_type": "code",
      "metadata": {
        "id": "Y3MwzQjkrpOV",
        "colab": {
          "base_uri": "https://localhost:8080/",
          "height": 35
        },
        "outputId": "0027f880-36bc-49f1-d7bb-6ab77ad796dd"
      },
      "source": [
        "srepr(x - y)"
      ],
      "execution_count": null,
      "outputs": [
        {
          "output_type": "execute_result",
          "data": {
            "application/vnd.google.colaboratory.intrinsic+json": {
              "type": "string"
            },
            "text/plain": [
              "\"Add(Symbol('x'), Mul(Integer(-1), Symbol('y')))\""
            ]
          },
          "metadata": {
            "tags": []
          },
          "execution_count": 57
        }
      ]
    },
    {
      "cell_type": "code",
      "metadata": {
        "id": "GvTnuXLjrpOY",
        "colab": {
          "base_uri": "https://localhost:8080/",
          "height": 35
        },
        "outputId": "ec8d82d4-54ac-45cc-ce0d-a24a30fd0bec"
      },
      "source": [
        "expr = x / y\n",
        "srepr(expr)"
      ],
      "execution_count": null,
      "outputs": [
        {
          "output_type": "execute_result",
          "data": {
            "application/vnd.google.colaboratory.intrinsic+json": {
              "type": "string"
            },
            "text/plain": [
              "\"Mul(Symbol('x'), Pow(Symbol('y'), Integer(-1)))\""
            ]
          },
          "metadata": {
            "tags": []
          },
          "execution_count": 58
        }
      ]
    },
    {
      "cell_type": "code",
      "metadata": {
        "id": "cvyb-hCOrpOa",
        "colab": {
          "base_uri": "https://localhost:8080/",
          "height": 38
        },
        "outputId": "acf4cb59-662f-4b3c-83d3-1ddda7b2b990"
      },
      "source": [
        "1 + x"
      ],
      "execution_count": null,
      "outputs": [
        {
          "output_type": "execute_result",
          "data": {
            "image/png": "[encoded data removed]",
            "text/latex": "$$x + 1$$",
            "text/plain": [
              "x + 1"
            ]
          },
          "metadata": {
            "tags": []
          },
          "execution_count": 59
        }
      ]
    },
    {
      "cell_type": "code",
      "metadata": {
        "id": "RASRtejKrpOc",
        "colab": {
          "base_uri": "https://localhost:8080/",
          "height": 34
        },
        "outputId": "4f4595d0-6922-437a-e46f-30a3a13c703f"
      },
      "source": [
        "(1 + x).func"
      ],
      "execution_count": null,
      "outputs": [
        {
          "output_type": "execute_result",
          "data": {
            "text/plain": [
              "sympy.core.add.Add"
            ]
          },
          "metadata": {
            "tags": []
          },
          "execution_count": 60
        }
      ]
    },
    {
      "cell_type": "code",
      "metadata": {
        "id": "ctcDHqMzrpOd",
        "colab": {
          "base_uri": "https://localhost:8080/",
          "height": 34
        },
        "outputId": "176d8455-1404-48c6-fe26-c22f07353fdd"
      },
      "source": [
        "expr = Add(x, x)\n",
        "expr.func # Mul"
      ],
      "execution_count": null,
      "outputs": [
        {
          "output_type": "execute_result",
          "data": {
            "text/plain": [
              "sympy.core.mul.Mul"
            ]
          },
          "metadata": {
            "tags": []
          },
          "execution_count": 61
        }
      ]
    },
    {
      "cell_type": "code",
      "metadata": {
        "id": "BRhSECYPrpOh",
        "colab": {
          "base_uri": "https://localhost:8080/",
          "height": 38
        },
        "outputId": "9e3d74fe-c431-443f-a3a0-c0e2fdbc30bd"
      },
      "source": [
        "expr"
      ],
      "execution_count": null,
      "outputs": [
        {
          "output_type": "execute_result",
          "data": {
            "image/png": "[encoded data removed]",
            "text/latex": "$$2 x$$",
            "text/plain": [
              "2⋅x"
            ]
          },
          "metadata": {
            "tags": []
          },
          "execution_count": 62
        }
      ]
    },
    {
      "cell_type": "markdown",
      "metadata": {
        "id": "8-mb2Mk6rpOi"
      },
      "source": [
        "# クラス・コンストラクター\n",
        "\n",
        "`Add(x, x)` は `x + x` という意味であるが、自動的に `Mul(2, x)` に変換される。つまり `2*x` である。 `SymPy` は `__new__` クラス・コンストラクターをヘビーに使う。`__new__` クラス・コンストラクターは `__new__` とは違い、コンストラークターから違うクラスを返すことができる。\n"
      ]
    },
    {
      "cell_type": "code",
      "metadata": {
        "id": "kVD1hb23rpOk",
        "colab": {
          "base_uri": "https://localhost:8080/",
          "height": 34
        },
        "outputId": "089b3eae-9b82-40a7-8303-7f980d7a8d4f"
      },
      "source": [
        "Integer(2).func"
      ],
      "execution_count": null,
      "outputs": [
        {
          "output_type": "execute_result",
          "data": {
            "text/plain": [
              "sympy.core.numbers.Integer"
            ]
          },
          "metadata": {
            "tags": []
          },
          "execution_count": 65
        }
      ]
    },
    {
      "cell_type": "code",
      "metadata": {
        "id": "ei2Cxgy-rpOl",
        "colab": {
          "base_uri": "https://localhost:8080/",
          "height": 34
        },
        "outputId": "eb25d2d9-2483-4145-928f-111a0913d73b"
      },
      "source": [
        "Integer(0).func # Zero"
      ],
      "execution_count": null,
      "outputs": [
        {
          "output_type": "execute_result",
          "data": {
            "text/plain": [
              "sympy.core.numbers.Zero"
            ]
          },
          "metadata": {
            "tags": []
          },
          "execution_count": 66
        }
      ]
    },
    {
      "cell_type": "code",
      "metadata": {
        "id": "98BBa7itrpOn",
        "colab": {
          "base_uri": "https://localhost:8080/",
          "height": 34
        },
        "outputId": "3d0ff07c-b12e-4287-93c5-c786488a56af"
      },
      "source": [
        "Integer(-1).func # NegativeOne"
      ],
      "execution_count": null,
      "outputs": [
        {
          "output_type": "execute_result",
          "data": {
            "text/plain": [
              "sympy.core.numbers.NegativeOne"
            ]
          },
          "metadata": {
            "tags": []
          },
          "execution_count": 67
        }
      ]
    },
    {
      "cell_type": "code",
      "metadata": {
        "id": "029c0ZPUrpOp",
        "colab": {
          "base_uri": "https://localhost:8080/",
          "height": 34
        },
        "outputId": "013352a6-4b5b-4665-d76c-c45c135c657d"
      },
      "source": [
        "expr = 3 * y**2 * x\n",
        "expr.func # Mul"
      ],
      "execution_count": null,
      "outputs": [
        {
          "output_type": "execute_result",
          "data": {
            "text/plain": [
              "sympy.core.mul.Mul"
            ]
          },
          "metadata": {
            "tags": []
          },
          "execution_count": 68
        }
      ]
    },
    {
      "cell_type": "code",
      "metadata": {
        "id": "f0EFYzXUrpOq",
        "colab": {
          "base_uri": "https://localhost:8080/",
          "height": 38
        },
        "outputId": "32fd05fc-b1b4-426e-ed09-9bd8ec1d0e7a"
      },
      "source": [
        "expr.args # (3, x, y**2)"
      ],
      "execution_count": null,
      "outputs": [
        {
          "output_type": "execute_result",
          "data": {
            "image/png": "[encoded data removed]",
            "text/latex": "$$\\left ( 3, \\quad x, \\quad y^{2}\\right )$$",
            "text/plain": [
              "⎛       2⎞\n",
              "⎝3, x, y ⎠"
            ]
          },
          "metadata": {
            "tags": []
          },
          "execution_count": 69
        }
      ]
    },
    {
      "cell_type": "code",
      "metadata": {
        "id": "AjJhPjvErpOs",
        "colab": {
          "base_uri": "https://localhost:8080/",
          "height": 38
        },
        "outputId": "0acf48d0-7c09-475b-d85b-4b2f76b6813a"
      },
      "source": [
        "expr.func(*expr.args)"
      ],
      "execution_count": null,
      "outputs": [
        {
          "output_type": "execute_result",
          "data": {
            "image/png": "[encoded data removed]",
            "text/latex": "$$3 x y^{2}$$",
            "text/plain": [
              "     2\n",
              "3⋅x⋅y "
            ]
          },
          "metadata": {
            "tags": []
          },
          "execution_count": 71
        }
      ]
    },
    {
      "cell_type": "code",
      "metadata": {
        "id": "IxgXfmDBrpOu",
        "colab": {
          "base_uri": "https://localhost:8080/",
          "height": 34
        },
        "outputId": "5514c1a1-2d36-4360-febb-d45fc53e5af7"
      },
      "source": [
        "expr == expr.func(*expr.args)"
      ],
      "execution_count": null,
      "outputs": [
        {
          "output_type": "execute_result",
          "data": {
            "text/plain": [
              "True"
            ]
          },
          "metadata": {
            "tags": []
          },
          "execution_count": 72
        }
      ]
    },
    {
      "cell_type": "code",
      "metadata": {
        "id": "Kjfpkd46rpOx",
        "colab": {
          "base_uri": "https://localhost:8080/",
          "height": 38
        },
        "outputId": "99618c1b-c737-46a9-adb7-fd6251c0b557"
      },
      "source": [
        "expr.func(Mul(expr.args))"
      ],
      "execution_count": null,
      "outputs": [
        {
          "output_type": "execute_result",
          "data": {
            "image/png": "[encoded data removed]",
            "text/latex": "$$\\left ( 3, \\quad x, \\quad y^{2}\\right )$$",
            "text/plain": [
              "⎛       2⎞\n",
              "⎝3, x, y ⎠"
            ]
          },
          "metadata": {
            "tags": []
          },
          "execution_count": 73
        }
      ]
    },
    {
      "cell_type": "code",
      "metadata": {
        "id": "UOtB7sFcrpOz",
        "colab": {
          "base_uri": "https://localhost:8080/",
          "height": 37
        },
        "outputId": "b2373585-5d83-4319-cf4a-51fed9a88e34"
      },
      "source": [
        "Mul(3, 8)"
      ],
      "execution_count": null,
      "outputs": [
        {
          "output_type": "execute_result",
          "data": {
            "image/png": "[encoded data removed]",
            "text/latex": "$$24$$",
            "text/plain": [
              "24"
            ]
          },
          "metadata": {
            "tags": []
          },
          "execution_count": 74
        }
      ]
    },
    {
      "cell_type": "code",
      "metadata": {
        "id": "yTFNMfkBrpO1",
        "colab": {
          "base_uri": "https://localhost:8080/",
          "height": 34
        },
        "outputId": "3fa90a5b-9b2d-4f78-f5a9-279ea18acd78"
      },
      "source": [
        "# * (3, 8) # SyntaxError: can't use starred expression here\n",
        "print(*(3,8)) # -> print (3, 8) -> 3 8"
      ],
      "execution_count": null,
      "outputs": [
        {
          "output_type": "stream",
          "text": [
            "3 8\n"
          ],
          "name": "stdout"
        }
      ]
    },
    {
      "cell_type": "code",
      "metadata": {
        "id": "WmS2Olr3rpO3",
        "colab": {
          "base_uri": "https://localhost:8080/",
          "height": 38
        },
        "outputId": "1dabef6d-1ec1-402a-d738-055b3714c8fa"
      },
      "source": [
        "expr.args[2]"
      ],
      "execution_count": null,
      "outputs": [
        {
          "output_type": "execute_result",
          "data": {
            "image/png": "[encoded data removed]",
            "text/latex": "$$y^{2}$$",
            "text/plain": [
              " 2\n",
              "y "
            ]
          },
          "metadata": {
            "tags": []
          },
          "execution_count": 76
        }
      ]
    },
    {
      "cell_type": "code",
      "metadata": {
        "id": "79hB7TGkrpO6",
        "colab": {
          "base_uri": "https://localhost:8080/",
          "height": 38
        },
        "outputId": "1c0fbc08-2976-4b50-8a20-0f3225ee3a77"
      },
      "source": [
        "expr.args[2].args"
      ],
      "execution_count": null,
      "outputs": [
        {
          "output_type": "execute_result",
          "data": {
            "image/png": "[encoded data removed]",
            "text/latex": "$$\\left ( y, \\quad 2\\right )$$",
            "text/plain": [
              "(y, 2)"
            ]
          },
          "metadata": {
            "tags": []
          },
          "execution_count": 77
        }
      ]
    },
    {
      "cell_type": "code",
      "metadata": {
        "id": "G9k_iBSarpO7",
        "colab": {
          "base_uri": "https://localhost:8080/",
          "height": 37
        },
        "outputId": "27ce6c28-752b-4790-e4a9-d3d3dc633041"
      },
      "source": [
        "y.args"
      ],
      "execution_count": null,
      "outputs": [
        {
          "output_type": "execute_result",
          "data": {
            "image/png": "[encoded data removed]",
            "text/latex": "$$\\left ( \\right )$$",
            "text/plain": [
              "()"
            ]
          },
          "metadata": {
            "tags": []
          },
          "execution_count": 78
        }
      ]
    },
    {
      "cell_type": "code",
      "metadata": {
        "id": "R4iQqVoGrpO9"
      },
      "source": [
        "Integer(2).args"
      ],
      "execution_count": null,
      "outputs": []
    },
    {
      "cell_type": "markdown",
      "metadata": {
        "id": "jyI0nprYrpO_"
      },
      "source": [
        "# キー不変 `key invariant`\n",
        "\n",
        "`SymPy` の式はすべて、空の引数を持つか、`expr == expr.func（* expr.args`）を満たす必要がある。\n",
        "\n",
        "Pythonでは、`a` がタプルの場合、`f(* a)` は `a` の要素からの引数を使用して `f` を呼び出すことを意味する。たとえば、`f(*(1, 2, 3))` は `f(1, 2, 3)と同値である。"
      ]
    },
    {
      "cell_type": "code",
      "metadata": {
        "id": "bwWyNMz1rpO_",
        "colab": {
          "base_uri": "https://localhost:8080/",
          "height": 37
        },
        "outputId": "889bf434-cfbc-4c28-e565-518bb1ccaf13"
      },
      "source": [
        "56 * 35 * 21"
      ],
      "execution_count": null,
      "outputs": [
        {
          "output_type": "execute_result",
          "data": {
            "image/png": "[encoded data removed]",
            "text/latex": "$$41160$$",
            "text/plain": [
              "41160"
            ]
          },
          "metadata": {
            "tags": []
          },
          "execution_count": 79
        }
      ]
    },
    {
      "cell_type": "code",
      "metadata": {
        "id": "Q_HeWa2QrpPB",
        "colab": {
          "base_uri": "https://localhost:8080/",
          "height": 101
        },
        "outputId": "269aecd7-fae8-4767-ebbb-9144613c5437"
      },
      "source": [
        "def pre(expr):\n",
        "    print(expr)\n",
        "    for arg in expr.args:\n",
        "        pre(arg)\n",
        "\n",
        "expr = x*y + 1\n",
        "pre(expr)"
      ],
      "execution_count": null,
      "outputs": [
        {
          "output_type": "stream",
          "text": [
            "x*y + 1\n",
            "1\n",
            "x*y\n",
            "x\n",
            "y\n"
          ],
          "name": "stdout"
        }
      ]
    },
    {
      "cell_type": "markdown",
      "metadata": {
        "id": "BNFSwx5KrpPF"
      },
      "source": [
        "# 前順探索走査 pre-order traversal\n",
        "\n",
        "次に示すのは式ツリーの `pre-order traversal` 関数である。\n",
        "\n",
        "`post-order traversal` が書けるかどうか考えること。\n",
        "\n",
        "\n",
        "Can you guess why we called our function pre? We just wrote a pre-order traversal function for our expression tree. See if you can write a post-order traversal function."
      ]
    },
    {
      "cell_type": "code",
      "metadata": {
        "id": "m1mfnCpBrpPG",
        "colab": {
          "base_uri": "https://localhost:8080/",
          "height": 101
        },
        "outputId": "c0020dda-2b35-451e-dd75-6ce9872374ad"
      },
      "source": [
        "from sympy import *\n",
        "init_printing()\n",
        "x, y, z = symbols('x y z')\n",
        "expr = x*y + 1\n",
        "\n",
        "for arg in preorder_traversal(expr):\n",
        "    print(arg)"
      ],
      "execution_count": null,
      "outputs": [
        {
          "output_type": "stream",
          "text": [
            "x*y + 1\n",
            "1\n",
            "x*y\n",
            "x\n",
            "y\n"
          ],
          "name": "stdout"
        }
      ]
    },
    {
      "cell_type": "code",
      "metadata": {
        "id": "IFzkO-XvrpPH",
        "colab": {
          "base_uri": "https://localhost:8080/",
          "height": 101
        },
        "outputId": "3054f1cc-1417-4180-bbc8-872af5853842"
      },
      "source": [
        "for arg in postorder_traversal(expr):\n",
        "    print(arg)"
      ],
      "execution_count": null,
      "outputs": [
        {
          "output_type": "stream",
          "text": [
            "1\n",
            "x\n",
            "y\n",
            "x*y\n",
            "x*y + 1\n"
          ],
          "name": "stdout"
        }
      ]
    },
    {
      "cell_type": "code",
      "metadata": {
        "id": "XSwunXYTrpPJ",
        "colab": {
          "base_uri": "https://localhost:8080/",
          "height": 38
        },
        "outputId": "58e45811-0126-4b75-e001-09e8102ad9aa"
      },
      "source": [
        "from sympy import Add\n",
        "from sympy.abc import x, y, z\n",
        "x + x"
      ],
      "execution_count": null,
      "outputs": [
        {
          "output_type": "execute_result",
          "data": {
            "image/png": "[encoded data removed]",
            "text/latex": "$$2 x$$",
            "text/plain": [
              "2⋅x"
            ]
          },
          "metadata": {
            "tags": []
          },
          "execution_count": 87
        }
      ]
    },
    {
      "cell_type": "code",
      "metadata": {
        "id": "EqUz_NtqrpPL",
        "colab": {
          "base_uri": "https://localhost:8080/",
          "height": 38
        },
        "outputId": "b959503f-2840-4169-bfd5-0bcb65c093ef"
      },
      "source": [
        "Add(x, x, evaluate=False)"
      ],
      "execution_count": null,
      "outputs": [
        {
          "output_type": "execute_result",
          "data": {
            "image/png": "[encoded data removed]",
            "text/latex": "$$x + x$$",
            "text/plain": [
              "x + x"
            ]
          },
          "metadata": {
            "tags": []
          },
          "execution_count": 88
        }
      ]
    },
    {
      "cell_type": "code",
      "metadata": {
        "id": "jWuYEOyqrpPM",
        "colab": {
          "base_uri": "https://localhost:8080/",
          "height": 38
        },
        "outputId": "4581aca8-f117-4564-9977-11f4eb757374"
      },
      "source": [
        "sympify(\"x + x\", evaluate=False)"
      ],
      "execution_count": null,
      "outputs": [
        {
          "output_type": "execute_result",
          "data": {
            "image/png": "[encoded data removed]",
            "text/latex": "$$x + x$$",
            "text/plain": [
              "x + x"
            ]
          },
          "metadata": {
            "tags": []
          },
          "execution_count": 89
        }
      ]
    },
    {
      "cell_type": "code",
      "metadata": {
        "id": "VUBxyn1srpPQ",
        "colab": {
          "base_uri": "https://localhost:8080/",
          "height": 38
        },
        "outputId": "1b86b77e-9c90-4900-e9d1-72265550d0e5"
      },
      "source": [
        "expr = Add(x, x, evaluate=False)\n",
        "expr"
      ],
      "execution_count": null,
      "outputs": [
        {
          "output_type": "execute_result",
          "data": {
            "image/png": "[encoded data removed]",
            "text/latex": "$$x + x$$",
            "text/plain": [
              "x + x"
            ]
          },
          "metadata": {
            "tags": []
          },
          "execution_count": 90
        }
      ]
    },
    {
      "cell_type": "code",
      "metadata": {
        "id": "YpXx5syArpPV",
        "colab": {
          "base_uri": "https://localhost:8080/",
          "height": 38
        },
        "outputId": "ba64ed14-ae6e-4038-82c9-3456541eaac9"
      },
      "source": [
        "expr + x"
      ],
      "execution_count": null,
      "outputs": [
        {
          "output_type": "execute_result",
          "data": {
            "image/png": "[encoded data removed]",
            "text/latex": "$$3 x$$",
            "text/plain": [
              "3⋅x"
            ]
          },
          "metadata": {
            "tags": []
          },
          "execution_count": 91
        }
      ]
    },
    {
      "cell_type": "code",
      "metadata": {
        "id": "-SDM1-hYrpPb"
      },
      "source": [
        "expr = x + UnevaluatedExpr(x)\n",
        "expr"
      ],
      "execution_count": null,
      "outputs": []
    },
    {
      "cell_type": "code",
      "metadata": {
        "id": "foXr-ucRrpPd",
        "colab": {
          "base_uri": "https://localhost:8080/",
          "height": 38
        },
        "outputId": "47830185-902e-48d5-f636-1f19f2a09889"
      },
      "source": [
        "x + expr"
      ],
      "execution_count": null,
      "outputs": [
        {
          "output_type": "execute_result",
          "data": {
            "image/png": "[encoded data removed]",
            "text/latex": "$$2 x + x$$",
            "text/plain": [
              "2⋅x + x"
            ]
          },
          "metadata": {
            "tags": []
          },
          "execution_count": 93
        }
      ]
    },
    {
      "cell_type": "code",
      "metadata": {
        "id": "9RAptMm9rpPf",
        "colab": {
          "base_uri": "https://localhost:8080/",
          "height": 38
        },
        "outputId": "8f2b52fe-278a-4f0f-cf61-e559767bb7ec"
      },
      "source": [
        "(expr + x).doit()"
      ],
      "execution_count": null,
      "outputs": [
        {
          "output_type": "execute_result",
          "data": {
            "image/png": "[encoded data removed]",
            "text/latex": "$$3 x$$",
            "text/plain": [
              "3⋅x"
            ]
          },
          "metadata": {
            "tags": []
          },
          "execution_count": 94
        }
      ]
    },
    {
      "cell_type": "code",
      "metadata": {
        "id": "dKui4v98rpPh",
        "colab": {
          "base_uri": "https://localhost:8080/",
          "height": 38
        },
        "outputId": "0c375631-83f0-42e5-bd42-d22c7bcb6758"
      },
      "source": [
        "from sympy import *\n",
        "from sympy.abc import x, y, z\n",
        "uexpr = UnevaluatedExpr(S.One*5/7)*UnevaluatedExpr(S.One*3/4)\n",
        "uexpr"
      ],
      "execution_count": null,
      "outputs": [
        {
          "output_type": "execute_result",
          "data": {
            "image/png": "[encoded data removed]",
            "text/latex": "$$\\frac{5}{7} \\frac{3}{4}$$",
            "text/plain": [
              "5/7⋅3/4"
            ]
          },
          "metadata": {
            "tags": []
          },
          "execution_count": 95
        }
      ]
    },
    {
      "cell_type": "code",
      "metadata": {
        "id": "Uy5WdQeurpPl",
        "colab": {
          "base_uri": "https://localhost:8080/",
          "height": 38
        },
        "outputId": "6a8b7202-31e7-4597-b57e-050ac695a2f7"
      },
      "source": [
        "x*UnevaluatedExpr(1/x)"
      ],
      "execution_count": null,
      "outputs": [
        {
          "output_type": "execute_result",
          "data": {
            "image/png": "[encoded data removed]",
            "text/latex": "$$x \\frac{1}{x}$$",
            "text/plain": [
              "  1\n",
              "x⋅─\n",
              "  x"
            ]
          },
          "metadata": {
            "tags": []
          },
          "execution_count": 96
        }
      ]
    },
    {
      "cell_type": "code",
      "metadata": {
        "id": "OLF46PKgrpPn",
        "colab": {
          "base_uri": "https://localhost:8080/",
          "height": 38
        },
        "outputId": "dd46a0b6-ba30-4d1a-8a53-ec51bc8d7014"
      },
      "source": [
        "UnevaluatedExpr(x + x)"
      ],
      "execution_count": null,
      "outputs": [
        {
          "output_type": "execute_result",
          "data": {
            "image/png": "[encoded data removed]",
            "text/latex": "$$2 x$$",
            "text/plain": [
              "2⋅x"
            ]
          },
          "metadata": {
            "tags": []
          },
          "execution_count": 97
        }
      ]
    },
    {
      "cell_type": "code",
      "metadata": {
        "id": "zIFvfM1frpPp",
        "colab": {
          "base_uri": "https://localhost:8080/",
          "height": 38
        },
        "outputId": "9f79692c-16b3-4974-b139-5dff9d6bc609"
      },
      "source": [
        "UnevaluatedExpr(sympify(\"x + x\", evaluate=False)) + y"
      ],
      "execution_count": null,
      "outputs": [
        {
          "output_type": "execute_result",
          "data": {
            "image/png": "[encoded data removed]",
            "text/latex": "$$y + x + x$$",
            "text/plain": [
              "y + x + x"
            ]
          },
          "metadata": {
            "tags": []
          },
          "execution_count": 98
        }
      ]
    },
    {
      "cell_type": "markdown",
      "metadata": {
        "id": "whDiWNTaHom4"
      },
      "source": [
        "# いまここ  コピー中"
      ]
    },
    {
      "cell_type": "markdown",
      "metadata": {
        "id": "4e-avcyIsDbQ"
      },
      "source": [
        "# メモ\n",
        "\n",
        "* mathwithpython01\n",
        "* mathwithpython02\n",
        "* mathwithpython03\n",
        "\n",
        "は `SymPy Tutorial` をトレースしているが、いまの `SymPy Tutorial`  では最後にはない、`gotchas and pitfalls` が最後になっている。"
      ]
    },
    {
      "cell_type": "code",
      "metadata": {
        "id": "bYjnXrAUsDbU",
        "colab": {
          "base_uri": "https://localhost:8080/",
          "height": 38
        },
        "outputId": "decfee23-de71-4dca-cd61-4aa334bedc52"
      },
      "source": [
        "from sympy import *\n",
        "from sympy.abc import *\n",
        "init_printing()\n",
        "\n",
        "x - y"
      ],
      "execution_count": null,
      "outputs": [
        {
          "output_type": "execute_result",
          "data": {
            "image/png": "[encoded data removed]",
            "text/latex": "$$x - y$$",
            "text/plain": [
              "x - y"
            ]
          },
          "metadata": {
            "tags": []
          },
          "execution_count": 2
        }
      ]
    },
    {
      "cell_type": "code",
      "metadata": {
        "id": "vLQ5h9oGsDba",
        "colab": {
          "base_uri": "https://localhost:8080/",
          "height": 39
        },
        "outputId": "6e48fd26-0613-4dfe-ef57-49391f397de6"
      },
      "source": [
        "a = x - y\n",
        "a"
      ],
      "execution_count": null,
      "outputs": [
        {
          "output_type": "execute_result",
          "data": {
            "image/png": "[encoded data removed]",
            "text/latex": "$$x - y$$",
            "text/plain": [
              "x - y"
            ]
          },
          "metadata": {
            "tags": []
          },
          "execution_count": 3
        }
      ]
    },
    {
      "cell_type": "code",
      "metadata": {
        "id": "zBLP2b1sPhoo",
        "colab": {
          "base_uri": "https://localhost:8080/",
          "height": 39
        },
        "outputId": "9da00ae3-155b-4a84-bbb6-fbab1814f0a2"
      },
      "source": [
        "(x+1)**2 -(x**2 + 2*x + 1)"
      ],
      "execution_count": null,
      "outputs": [
        {
          "output_type": "execute_result",
          "data": {
            "image/png": "[encoded data removed]",
            "text/latex": "$$- x^{2} - 2 x + \\left(x + 1\\right)^{2} - 1$$",
            "text/plain": [
              "   2                2    \n",
              "- x  - 2⋅x + (x + 1)  - 1"
            ]
          },
          "metadata": {
            "tags": []
          },
          "execution_count": 4
        }
      ]
    },
    {
      "cell_type": "code",
      "metadata": {
        "id": "rWG82ifmsDbf",
        "colab": {
          "base_uri": "https://localhost:8080/",
          "height": 37
        },
        "outputId": "b363886d-ef95-467e-ad76-81215ca76e40"
      },
      "source": [
        "simplify ((x+1)**2 -(x**2 + 2*x + 1))"
      ],
      "execution_count": null,
      "outputs": [
        {
          "output_type": "execute_result",
          "data": {
            "image/png": "[encoded data removed]",
            "text/latex": "$$0$$",
            "text/plain": [
              "0"
            ]
          },
          "metadata": {
            "tags": []
          },
          "execution_count": 5
        }
      ]
    },
    {
      "cell_type": "code",
      "metadata": {
        "id": "KkKOrsDbsDbk",
        "colab": {
          "base_uri": "https://localhost:8080/",
          "height": 58
        },
        "outputId": "184fc7f9-4c38-4762-ad38-3d2a8b1a4322"
      },
      "source": [
        "eq = sin(2*x) - 2*sin(x)*cos(x)\n",
        "display (eq)\n",
        "display(simplify(eq))"
      ],
      "execution_count": null,
      "outputs": [
        {
          "output_type": "display_data",
          "data": {
            "image/png": "[encoded data removed]",
            "text/latex": "$$- 2 \\sin{\\left (x \\right )} \\cos{\\left (x \\right )} + \\sin{\\left (2 x \\right )}$$",
            "text/plain": [
              "-2⋅sin(x)⋅cos(x) + sin(2⋅x)"
            ]
          },
          "metadata": {
            "tags": []
          }
        },
        {
          "output_type": "display_data",
          "data": {
            "image/png": "[encoded data removed]",
            "text/latex": "$$0$$",
            "text/plain": [
              "0"
            ]
          },
          "metadata": {
            "tags": []
          }
        }
      ]
    },
    {
      "cell_type": "code",
      "metadata": {
        "id": "RFZwx961sDbp",
        "colab": {
          "base_uri": "https://localhost:8080/",
          "height": 37
        },
        "outputId": "0ca08fef-e919-40d3-f01c-83d17f765280"
      },
      "source": [
        "expand(eq, trig=True)"
      ],
      "execution_count": null,
      "outputs": [
        {
          "output_type": "execute_result",
          "data": {
            "image/png": "[encoded data removed]",
            "text/latex": "$$0$$",
            "text/plain": [
              "0"
            ]
          },
          "metadata": {
            "tags": []
          },
          "execution_count": 7
        }
      ]
    },
    {
      "cell_type": "code",
      "metadata": {
        "id": "vJxr9XG8sDbu",
        "colab": {
          "base_uri": "https://localhost:8080/",
          "height": 37
        },
        "outputId": "259ebb43-e7b2-4355-e8da-352b0800a12d"
      },
      "source": [
        "trigsimp(eq)"
      ],
      "execution_count": null,
      "outputs": [
        {
          "output_type": "execute_result",
          "data": {
            "image/png": "[encoded data removed]",
            "text/latex": "$$0$$",
            "text/plain": [
              "0"
            ]
          },
          "metadata": {
            "tags": []
          },
          "execution_count": 8
        }
      ]
    },
    {
      "cell_type": "code",
      "metadata": {
        "id": "WIakzYkHsDbz",
        "colab": {
          "base_uri": "https://localhost:8080/",
          "height": 38
        },
        "outputId": "a478d2e5-f178-41ab-d79f-9fb702b650f0"
      },
      "source": [
        "from sympy import Symbol\n",
        "a = Symbol('a')\n",
        "\n",
        "b = a + 1\n",
        "b"
      ],
      "execution_count": null,
      "outputs": [
        {
          "output_type": "execute_result",
          "data": {
            "image/png": "[encoded data removed]",
            "text/latex": "$$a + 1$$",
            "text/plain": [
              "a + 1"
            ]
          },
          "metadata": {
            "tags": []
          },
          "execution_count": 9
        }
      ]
    },
    {
      "cell_type": "code",
      "metadata": {
        "id": "sucTpNY9sDb5",
        "colab": {
          "base_uri": "https://localhost:8080/",
          "height": 38
        },
        "outputId": "b2765267-3c6b-4aec-e144-fe00205814fe"
      },
      "source": [
        "a = 4\n",
        "b"
      ],
      "execution_count": null,
      "outputs": [
        {
          "output_type": "execute_result",
          "data": {
            "image/png": "[encoded data removed]",
            "text/latex": "$$a + 1$$",
            "text/plain": [
              "a + 1"
            ]
          },
          "metadata": {
            "tags": []
          },
          "execution_count": 10
        }
      ]
    },
    {
      "cell_type": "code",
      "metadata": {
        "id": "wXktn90usDb9",
        "colab": {
          "base_uri": "https://localhost:8080/",
          "height": 37
        },
        "outputId": "1fe2ae8a-3c4e-4723-f70a-bcb720b8b121"
      },
      "source": [
        "a + 1"
      ],
      "execution_count": null,
      "outputs": [
        {
          "output_type": "execute_result",
          "data": {
            "image/png": "[encoded data removed]",
            "text/latex": "$$5$$",
            "text/plain": [
              "5"
            ]
          },
          "metadata": {
            "tags": []
          },
          "execution_count": 11
        }
      ]
    },
    {
      "cell_type": "code",
      "metadata": {
        "id": "-Wtix470sDcC",
        "colab": {
          "base_uri": "https://localhost:8080/",
          "height": 38
        },
        "outputId": "0ed9485a-bf22-4ed9-f510-6f484bde128b"
      },
      "source": [
        "import sympy\n",
        "sympy.var('z') # This is the easiest way to define z as a standard symbol\n",
        "z**2"
      ],
      "execution_count": null,
      "outputs": [
        {
          "output_type": "execute_result",
          "data": {
            "image/png": "[encoded data removed]",
            "text/latex": "$$z^{2}$$",
            "text/plain": [
              " 2\n",
              "z "
            ]
          },
          "metadata": {
            "tags": []
          },
          "execution_count": 12
        }
      ]
    },
    {
      "cell_type": "markdown",
      "metadata": {
        "id": "Lqid2fRXsDcG"
      },
      "source": [
        "# sympyの対話型環境 isympy\n",
        "\n",
        "ターミナルで `isympy` と打つと `sympy` の対話型環境が立ち上がる。Colabでは動かない。必要もない。\n",
        "\n",
        "```\n",
        "~$ isympy\n",
        "IPython console for SymPy 1.1.1 (Python 3.6.3-64-bit) (ground types: gmpy)\n",
        "\n",
        "These commands were executed:\n",
        ">>> from __future__ import division\n",
        ">>> from sympy import *\n",
        ">>> x, y, z, t = symbols('x y z t')\n",
        ">>> k, m, n = symbols('k m n', integer=True)\n",
        ">>> f, g, h = symbols('f g h', cls=Function)\n",
        ">>> init_printing()\n",
        "\n",
        "Documentation can be found at http://docs.sympy.org/1.1.1/\n",
        "```\n"
      ]
    },
    {
      "cell_type": "code",
      "metadata": {
        "scrolled": false,
        "id": "e26IHQAJsDcH"
      },
      "source": [
        "import sympy.abc\n",
        "dir(sympy.abc)"
      ],
      "execution_count": null,
      "outputs": []
    },
    {
      "cell_type": "markdown",
      "metadata": {
        "id": "NW0NlX_xsDcM"
      },
      "source": [
        "# OSINEQ\n",
        "\n",
        "ユーザーが使う変数やシンボルで、$I, E, S, N, O, Q$ は使わない。なぜなら、これらは複素数 ($i$)、自然対数 ($e$)、簡素化関数 ($S$)、数値評価関数 ($N$)、ビッグオーオーダーシンボル ($O(nlogn)$)、キーをサポートするオブジェクト (Q.real など)に使われているから。`OSINEQ`と覚える。\n",
        "\n",
        "Lastly, it is recommended that you not use $I, E, S, N, C, O,$ or $Q$ for variable or symbol names, as those are used for the imaginary unit ($i$), the base of the natural logarithm ($e$), the sympify() function (see Symbolic Expressions below), numeric evaluation (N() is equivalent to evalf() ), the big O order symbol (as in $O(nlogn)$), and the assumptions object that holds a list of supported ask keys (such as Q.real), respectively. You can use the mnemonic OSINEQ to remember what Symbols are defined by default in SymPy. \n",
        "###### C is deprecated"
      ]
    },
    {
      "cell_type": "code",
      "metadata": {
        "id": "iIi7U5q_sDcO",
        "colab": {
          "base_uri": "https://localhost:8080/",
          "height": 37
        },
        "outputId": "0d8eba61-eb99-4c12-fab8-0ad072aa59ad"
      },
      "source": [
        "from sympy import *\n",
        "cos(pi)"
      ],
      "execution_count": null,
      "outputs": [
        {
          "output_type": "execute_result",
          "data": {
            "image/png": "[encoded data removed]",
            "text/latex": "$$-1$$",
            "text/plain": [
              "-1"
            ]
          },
          "metadata": {
            "tags": []
          },
          "execution_count": 14
        }
      ]
    },
    {
      "cell_type": "code",
      "metadata": {
        "id": "a8zLjqfqsDcT",
        "colab": {
          "base_uri": "https://localhost:8080/",
          "height": 37
        },
        "outputId": "2424990e-1ab5-4949-fd9a-151aaf59f54d"
      },
      "source": [
        "pi = 3\n",
        "from sympy import pi\n",
        "cos(pi)"
      ],
      "execution_count": null,
      "outputs": [
        {
          "output_type": "execute_result",
          "data": {
            "image/png": "[encoded data removed]",
            "text/latex": "$$-1$$",
            "text/plain": [
              "-1"
            ]
          },
          "metadata": {
            "tags": []
          },
          "execution_count": 61
        }
      ]
    },
    {
      "cell_type": "code",
      "metadata": {
        "id": "voWhIn4bsDcZ"
      },
      "source": [
        "import sympy\n",
        "# dir(sympy)\n",
        "# dir(__builtins__)\n",
        "# vars()"
      ],
      "execution_count": null,
      "outputs": []
    },
    {
      "cell_type": "markdown",
      "metadata": {
        "id": "Ql512WqxsDcf"
      },
      "source": [
        "# 数値 numbers\n",
        "\n",
        "数値を含む式は自動的にPythonの式にになってしまう。`SymPy`の式であることを確実にするためには、`symplify()`、もしくは `S()` とする必要がある。\n"
      ]
    },
    {
      "cell_type": "code",
      "metadata": {
        "id": "wjiomDU-sDcg",
        "colab": {
          "base_uri": "https://localhost:8080/",
          "height": 34
        },
        "outputId": "648fefa3-0fd7-4ca3-9351-896d61bfa7be"
      },
      "source": [
        "type(6.2)"
      ],
      "execution_count": null,
      "outputs": [
        {
          "output_type": "execute_result",
          "data": {
            "text/plain": [
              "float"
            ]
          },
          "metadata": {
            "tags": []
          },
          "execution_count": 17
        }
      ]
    },
    {
      "cell_type": "code",
      "metadata": {
        "id": "MuHI18jpsDcl",
        "colab": {
          "base_uri": "https://localhost:8080/",
          "height": 34
        },
        "outputId": "603aa904-d57b-4c3e-d09b-8f6ed143e60a"
      },
      "source": [
        "type(S(6.2))"
      ],
      "execution_count": null,
      "outputs": [
        {
          "output_type": "execute_result",
          "data": {
            "text/plain": [
              "sympy.core.numbers.Float"
            ]
          },
          "metadata": {
            "tags": []
          },
          "execution_count": 18
        }
      ]
    },
    {
      "cell_type": "code",
      "metadata": {
        "id": "C7Rxuy1EsDct",
        "colab": {
          "base_uri": "https://localhost:8080/",
          "height": 38
        },
        "outputId": "a314f3b5-b0cf-4d7a-f5b0-f6ab8d02e844"
      },
      "source": [
        "x = symbols('x')\n",
        "x**(1/2)"
      ],
      "execution_count": null,
      "outputs": [
        {
          "output_type": "execute_result",
          "data": {
            "image/png": "[encoded data removed]",
            "text/latex": "$$x^{0.5}$$",
            "text/plain": [
              " 0.5\n",
              "x   "
            ]
          },
          "metadata": {
            "tags": []
          },
          "execution_count": 19
        }
      ]
    },
    {
      "cell_type": "code",
      "metadata": {
        "id": "XSRd7vnMsDcy",
        "colab": {
          "base_uri": "https://localhost:8080/",
          "height": 37
        },
        "outputId": "04513f23-9460-4ac1-8305-d185a918e6a2"
      },
      "source": [
        "x**(S(1)/2)"
      ],
      "execution_count": null,
      "outputs": [
        {
          "output_type": "execute_result",
          "data": {
            "image/png": "[encoded data removed]",
            "text/latex": "$$\\sqrt{x}$$",
            "text/plain": [
              "√x"
            ]
          },
          "metadata": {
            "tags": []
          },
          "execution_count": 20
        }
      ]
    },
    {
      "cell_type": "code",
      "metadata": {
        "id": "2ZYj3VrusDc1",
        "colab": {
          "base_uri": "https://localhost:8080/",
          "height": 37
        },
        "outputId": "bdfaf2ff-de78-4a28-fd1b-ca7addcc280c"
      },
      "source": [
        "x**Rational(1,2)"
      ],
      "execution_count": null,
      "outputs": [
        {
          "output_type": "execute_result",
          "data": {
            "image/png": "[encoded data removed]",
            "text/latex": "$$\\sqrt{x}$$",
            "text/plain": [
              "√x"
            ]
          },
          "metadata": {
            "tags": []
          },
          "execution_count": 21
        }
      ]
    },
    {
      "cell_type": "code",
      "metadata": {
        "id": "-RfEvxifsDc5",
        "colab": {
          "base_uri": "https://localhost:8080/",
          "height": 38
        },
        "outputId": "76e60f57-5886-46af-c683-0adf619d6744"
      },
      "source": [
        "Rational(0.5)"
      ],
      "execution_count": null,
      "outputs": [
        {
          "output_type": "execute_result",
          "data": {
            "image/png": "[encoded data removed]",
            "text/latex": "$$\\frac{1}{2}$$",
            "text/plain": [
              "1/2"
            ]
          },
          "metadata": {
            "tags": []
          },
          "execution_count": 22
        }
      ]
    },
    {
      "cell_type": "code",
      "metadata": {
        "id": "-gLC6xp0sDc9",
        "colab": {
          "base_uri": "https://localhost:8080/",
          "height": 34
        },
        "outputId": "55d26169-1858-4b2a-de1c-cddbf3df0766"
      },
      "source": [
        "sqrt(x) == x**Rational(1,2)"
      ],
      "execution_count": null,
      "outputs": [
        {
          "output_type": "execute_result",
          "data": {
            "text/plain": [
              "True"
            ]
          },
          "metadata": {
            "tags": []
          },
          "execution_count": 23
        }
      ]
    },
    {
      "cell_type": "code",
      "metadata": {
        "id": "YCvzgfYtsDdA",
        "colab": {
          "base_uri": "https://localhost:8080/",
          "height": 39
        },
        "outputId": "e27fd07b-d4c5-4781-f2ef-f23b98df3b10"
      },
      "source": [
        "x**(2*x/3)"
      ],
      "execution_count": null,
      "outputs": [
        {
          "output_type": "execute_result",
          "data": {
            "image/png": "[encoded data removed]",
            "text/latex": "$$x^{\\frac{2 x}{3}}$$",
            "text/plain": [
              " 2⋅x\n",
              " ───\n",
              "  3 \n",
              "x   "
            ]
          },
          "metadata": {
            "tags": []
          },
          "execution_count": 24
        }
      ]
    },
    {
      "cell_type": "code",
      "metadata": {
        "id": "rfQuQbe6sDdE",
        "colab": {
          "base_uri": "https://localhost:8080/",
          "height": 38
        },
        "outputId": "3f3f59ad-f39f-4253-be98-753557ba8560"
      },
      "source": [
        "x = symbols('x')\n",
        "solve(7*x - 22 , x)"
      ],
      "execution_count": null,
      "outputs": [
        {
          "output_type": "execute_result",
          "data": {
            "image/png": "[encoded data removed]",
            "text/latex": "$$\\left [ \\frac{22}{7}\\right ]$$",
            "text/plain": [
              "[22/7]"
            ]
          },
          "metadata": {
            "tags": []
          },
          "execution_count": 25
        }
      ]
    },
    {
      "cell_type": "code",
      "metadata": {
        "id": "hVSZog-NsDdH",
        "colab": {
          "base_uri": "https://localhost:8080/",
          "height": 37
        },
        "outputId": "2d0a5660-eb9e-4a45-cc0b-2b1ebfb131d4"
      },
      "source": [
        "22/7"
      ],
      "execution_count": null,
      "outputs": [
        {
          "output_type": "execute_result",
          "data": {
            "image/png": "[encoded data removed]",
            "text/latex": "$$3.142857142857143$$",
            "text/plain": [
              "3.142857142857143"
            ]
          },
          "metadata": {
            "tags": []
          },
          "execution_count": 65
        }
      ]
    },
    {
      "cell_type": "code",
      "metadata": {
        "id": "T-OsFUkk0xfs",
        "colab": {
          "base_uri": "https://localhost:8080/",
          "height": 37
        },
        "outputId": "860c7421-7304-4da4-8319-e30754d54c94"
      },
      "source": [
        "N(pi)"
      ],
      "execution_count": null,
      "outputs": [
        {
          "output_type": "execute_result",
          "data": {
            "image/png": "[encoded data removed]",
            "text/latex": "$$3.14159265358979$$",
            "text/plain": [
              "3.14159265358979"
            ]
          },
          "metadata": {
            "tags": []
          },
          "execution_count": 67
        }
      ]
    },
    {
      "cell_type": "code",
      "metadata": {
        "id": "FGInrhD6sDdM",
        "colab": {
          "base_uri": "https://localhost:8080/",
          "height": 38
        },
        "outputId": "7045c826-2b6b-46f3-b604-b4ed1d5124df"
      },
      "source": [
        "a = solve(7*x - 22 , x)[0]\n",
        "a"
      ],
      "execution_count": null,
      "outputs": [
        {
          "output_type": "execute_result",
          "data": {
            "image/png": "[encoded data removed]",
            "text/latex": "$$\\frac{22}{7}$$",
            "text/plain": [
              "22/7"
            ]
          },
          "metadata": {
            "tags": []
          },
          "execution_count": 27
        }
      ]
    },
    {
      "cell_type": "code",
      "metadata": {
        "id": "ctacLXSysDdQ",
        "colab": {
          "base_uri": "https://localhost:8080/",
          "height": 38
        },
        "outputId": "6be64aa3-612a-4d38-aa8b-407fda282baa"
      },
      "source": [
        "22/S(7)"
      ],
      "execution_count": null,
      "outputs": [
        {
          "output_type": "execute_result",
          "data": {
            "image/png": "[encoded data removed]",
            "text/latex": "$$\\frac{22}{7}$$",
            "text/plain": [
              "22/7"
            ]
          },
          "metadata": {
            "tags": []
          },
          "execution_count": 28
        }
      ]
    },
    {
      "cell_type": "code",
      "metadata": {
        "id": "LuSLjvlMsDdT",
        "colab": {
          "base_uri": "https://localhost:8080/",
          "height": 38
        },
        "outputId": "59581b9c-b14e-45a7-87cb-35fad457879f"
      },
      "source": [
        "S(\"22/7\") # sympify it"
      ],
      "execution_count": null,
      "outputs": [
        {
          "output_type": "execute_result",
          "data": {
            "image/png": "[encoded data removed]",
            "text/latex": "$$\\frac{22}{7}$$",
            "text/plain": [
              "22/7"
            ]
          },
          "metadata": {
            "tags": []
          },
          "execution_count": 29
        }
      ]
    },
    {
      "cell_type": "code",
      "metadata": {
        "id": "_NVAyiCrsDdX",
        "colab": {
          "base_uri": "https://localhost:8080/",
          "height": 37
        },
        "outputId": "7df3dc45-9749-4b66-e907-f560c5afae4d"
      },
      "source": [
        "from __future__ import division\n",
        "1/2 # integer division -> float division "
      ],
      "execution_count": null,
      "outputs": [
        {
          "output_type": "execute_result",
          "data": {
            "image/png": "[encoded data removed]",
            "text/latex": "$$0.5$$",
            "text/plain": [
              "0.5"
            ]
          },
          "metadata": {
            "tags": []
          },
          "execution_count": 30
        }
      ]
    },
    {
      "cell_type": "code",
      "metadata": {
        "id": "wi479b1CsDdb",
        "colab": {
          "base_uri": "https://localhost:8080/",
          "height": 38
        },
        "outputId": "513d410c-6cb3-44cc-c9e5-90fcd55d314d"
      },
      "source": [
        "from sympy import var\n",
        "r, t , d = var('rate time short_life')\n",
        "d = r*t\n",
        "d"
      ],
      "execution_count": null,
      "outputs": [
        {
          "output_type": "execute_result",
          "data": {
            "image/png": "[encoded data removed]",
            "text/latex": "$$rate time$$",
            "text/plain": [
              "rate⋅time"
            ]
          },
          "metadata": {
            "tags": []
          },
          "execution_count": 31
        }
      ]
    },
    {
      "cell_type": "code",
      "metadata": {
        "id": "ku75NB1KsDde",
        "colab": {
          "base_uri": "https://localhost:8080/",
          "height": 38
        },
        "outputId": "510900ad-1d21-4c0f-c3fa-72826de22372"
      },
      "source": [
        "r = 80\n",
        "t = 2\n",
        "d # rate*time"
      ],
      "execution_count": null,
      "outputs": [
        {
          "output_type": "execute_result",
          "data": {
            "image/png": "[encoded data removed]",
            "text/latex": "$$rate time$$",
            "text/plain": [
              "rate⋅time"
            ]
          },
          "metadata": {
            "tags": []
          },
          "execution_count": 32
        }
      ]
    },
    {
      "cell_type": "code",
      "metadata": {
        "id": "P6M6WbU-sDdi",
        "colab": {
          "base_uri": "https://localhost:8080/",
          "height": 37
        },
        "outputId": "ec5016e1-2258-4871-93c1-fe7760edc7b0"
      },
      "source": [
        "d = r *  t\n",
        "d # 160"
      ],
      "execution_count": null,
      "outputs": [
        {
          "output_type": "execute_result",
          "data": {
            "image/png": "[encoded data removed]",
            "text/latex": "$$160$$",
            "text/plain": [
              "160"
            ]
          },
          "metadata": {
            "tags": []
          },
          "execution_count": 33
        }
      ]
    },
    {
      "cell_type": "markdown",
      "metadata": {
        "id": "wq0yWJTq1K0H"
      },
      "source": [
        "# いまここ\n"
      ]
    },
    {
      "cell_type": "code",
      "metadata": {
        "id": "1hHBrjalsDdl",
        "colab": {
          "base_uri": "https://localhost:8080/",
          "height": 38
        },
        "outputId": "9d0fa370-c436-43a9-9524-0436c27ce4d4"
      },
      "source": [
        "c,d = var('c d')\n",
        "def ctimesd():\n",
        "    return c*d\n",
        "ctimesd() # c*D"
      ],
      "execution_count": null,
      "outputs": [
        {
          "output_type": "execute_result",
          "data": {
            "image/png": "[encoded data removed]",
            "text/latex": "$$c d$$",
            "text/plain": [
              "c⋅d"
            ]
          },
          "metadata": {
            "tags": []
          },
          "execution_count": 68
        }
      ]
    },
    {
      "cell_type": "code",
      "metadata": {
        "id": "Y5Z4F_tksDdo",
        "colab": {
          "base_uri": "https://localhost:8080/",
          "height": 37
        },
        "outputId": "0494eccb-e92a-414d-e68f-49d71f044f8c"
      },
      "source": [
        "c=2\n",
        "d=8\n",
        "ctimesd() # 16"
      ],
      "execution_count": null,
      "outputs": [
        {
          "output_type": "execute_result",
          "data": {
            "image/png": "[encoded data removed]",
            "text/latex": "$$16$$",
            "text/plain": [
              "16"
            ]
          },
          "metadata": {
            "tags": []
          },
          "execution_count": 69
        }
      ]
    },
    {
      "cell_type": "code",
      "metadata": {
        "id": "NC-FdabMsDds",
        "colab": {
          "base_uri": "https://localhost:8080/",
          "height": 38
        },
        "outputId": "999bb5c8-4b72-4465-cf8e-150d8e2d4bf2"
      },
      "source": [
        "from sympy import *\n",
        "init_printing()\n",
        "x,y,z = symbols('x y z')\n",
        "# Rational(2, x) -> error!!!\n",
        "2/x"
      ],
      "execution_count": null,
      "outputs": [
        {
          "output_type": "execute_result",
          "data": {
            "image/png": "[encoded data removed]",
            "text/latex": "$$\\frac{2}{x}$$",
            "text/plain": [
              "2\n",
              "─\n",
              "x"
            ]
          },
          "metadata": {
            "tags": []
          },
          "execution_count": 70
        }
      ]
    },
    {
      "cell_type": "markdown",
      "metadata": {
        "id": "BxkMWhessDdv"
      },
      "source": [
        "#  数学演算子 mathematical operators"
      ]
    },
    {
      "cell_type": "code",
      "metadata": {
        "id": "AHkjD0eBsDdw",
        "colab": {
          "base_uri": "https://localhost:8080/",
          "height": 42
        },
        "outputId": "ff041698-37b4-4363-fc5d-19b5d1111e42"
      },
      "source": [
        "3 - x**(2*x)/(x + 1)"
      ],
      "execution_count": null,
      "outputs": [
        {
          "output_type": "execute_result",
          "data": {
            "image/png": "[encoded data removed]",
            "text/latex": "$$- \\frac{x^{2 x}}{x + 1} + 3$$",
            "text/plain": [
              "    2⋅x    \n",
              "   x       \n",
              "- ───── + 3\n",
              "  x + 1    "
            ]
          },
          "metadata": {
            "tags": []
          },
          "execution_count": 71
        }
      ]
    },
    {
      "cell_type": "markdown",
      "metadata": {
        "id": "ODOzn6cusDdz"
      },
      "source": [
        "# 逆三角関数 nverse trig functions\n",
        "\n",
        "`arcsin` 、 `arccos` ではなく、 `asin()`, `acos()` を使う。\n",
        "\n"
      ]
    },
    {
      "cell_type": "markdown",
      "metadata": {
        "id": "2Sl9qZXpsDd0"
      },
      "source": [
        "# リストはイミュータブルではない\n",
        "\n",
        "lists are mutable"
      ]
    },
    {
      "cell_type": "code",
      "metadata": {
        "id": "q0q3CDJysDd1",
        "colab": {
          "base_uri": "https://localhost:8080/",
          "height": 38
        },
        "outputId": "72432fb3-76ce-4c2a-8b43-e14b20512952"
      },
      "source": [
        "a = [x, 1]\n",
        "a"
      ],
      "execution_count": null,
      "outputs": [
        {
          "output_type": "execute_result",
          "data": {
            "image/png": "[encoded data removed]",
            "text/latex": "$$\\left [ x, \\quad 1\\right ]$$",
            "text/plain": [
              "[x, 1]"
            ]
          },
          "metadata": {
            "tags": []
          },
          "execution_count": 38
        }
      ]
    },
    {
      "cell_type": "code",
      "metadata": {
        "id": "GAEkU4rvsDd4",
        "colab": {
          "base_uri": "https://localhost:8080/",
          "height": 37
        },
        "outputId": "e2b2f775-c747-4834-d258-14066aa01b63"
      },
      "source": [
        "a[0] = 2\n",
        "a"
      ],
      "execution_count": null,
      "outputs": [
        {
          "output_type": "execute_result",
          "data": {
            "image/png": "[encoded data removed]",
            "text/latex": "$$\\left [ 2, \\quad 1\\right ]$$",
            "text/plain": [
              "[2, 1]"
            ]
          },
          "metadata": {
            "tags": []
          },
          "execution_count": 39
        }
      ]
    },
    {
      "cell_type": "code",
      "metadata": {
        "id": "_EsbliBwsDd8",
        "colab": {
          "base_uri": "https://localhost:8080/",
          "height": 41
        },
        "outputId": "7de6372f-c835-47ec-8bf0-29c57a2c6c62"
      },
      "source": [
        "solve(x**2 +2*x -1, x)"
      ],
      "execution_count": null,
      "outputs": [
        {
          "output_type": "execute_result",
          "data": {
            "image/png": "[encoded data removed]",
            "text/latex": "$$\\left [ -1 + \\sqrt{2}, \\quad - \\sqrt{2} - 1\\right ]$$",
            "text/plain": [
              "[-1 + √2, -√2 - 1]"
            ]
          },
          "metadata": {
            "tags": []
          },
          "execution_count": 40
        }
      ]
    },
    {
      "cell_type": "markdown",
      "metadata": {
        "id": "VN8l3vWtsDeB"
      },
      "source": [
        "# 辞書 dictionaries, dict, {}\n"
      ]
    },
    {
      "cell_type": "code",
      "metadata": {
        "id": "S2-fJ7-msDeC",
        "colab": {
          "base_uri": "https://localhost:8080/",
          "height": 34
        },
        "outputId": "60d53a42-b1cd-42de-b69f-84d3bf89a6fc"
      },
      "source": [
        "d = {'a': 1, 'b': 2}  # A dictionary.\n",
        "d"
      ],
      "execution_count": null,
      "outputs": [
        {
          "output_type": "execute_result",
          "data": {
            "text/plain": [
              "{'a': 1, 'b': 2}"
            ]
          },
          "metadata": {
            "tags": []
          },
          "execution_count": 41
        }
      ]
    },
    {
      "cell_type": "code",
      "metadata": {
        "id": "vwMRrnKVsDeG",
        "colab": {
          "base_uri": "https://localhost:8080/",
          "height": 37
        },
        "outputId": "fd0e5150-ac08-473b-e395-3678179c5ff1"
      },
      "source": [
        "from sympy import *\n",
        "init_printing()\n",
        "x = symbols('x')\n",
        "roots((x - 1)**2*(x - 2), x)  # Some functions return dicts"
      ],
      "execution_count": null,
      "outputs": [
        {
          "output_type": "execute_result",
          "data": {
            "image/png": "[encoded data removed]",
            "text/latex": "$$\\left \\{ 1 : 2, \\quad 2 : 1\\right \\}$$",
            "text/plain": [
              "{1: 2, 2: 1}"
            ]
          },
          "metadata": {
            "tags": []
          },
          "execution_count": 42
        }
      ]
    },
    {
      "cell_type": "code",
      "metadata": {
        "id": "OE01AoDHsDeK",
        "colab": {
          "base_uri": "https://localhost:8080/",
          "height": 37
        },
        "outputId": "1457df17-92d7-489b-bf77-3c4a0b75abc8"
      },
      "source": [
        "solve((x - 1)**2*(x - 2), x)"
      ],
      "execution_count": null,
      "outputs": [
        {
          "output_type": "execute_result",
          "data": {
            "image/png": "[encoded data removed]",
            "text/latex": "$$\\left [ 1, \\quad 2\\right ]$$",
            "text/plain": [
              "[1, 2]"
            ]
          },
          "metadata": {
            "tags": []
          },
          "execution_count": 72
        }
      ]
    },
    {
      "cell_type": "code",
      "metadata": {
        "id": "QsRhnkXjsDeO",
        "colab": {
          "base_uri": "https://localhost:8080/",
          "height": 39
        },
        "outputId": "32acc1f4-edb6-4602-809c-a7d124893aa2"
      },
      "source": [
        "(x - 1)**2*(x - 2)"
      ],
      "execution_count": null,
      "outputs": [
        {
          "output_type": "execute_result",
          "data": {
            "image/png": "[encoded data removed]",
            "text/latex": "$$\\left(x - 2\\right) \\left(x - 1\\right)^{2}$$",
            "text/plain": [
              "               2\n",
              "(x - 2)⋅(x - 1) "
            ]
          },
          "metadata": {
            "tags": []
          },
          "execution_count": 73
        }
      ]
    },
    {
      "cell_type": "code",
      "metadata": {
        "id": "t2eRwsBuFH5u",
        "colab": {
          "base_uri": "https://localhost:8080/",
          "height": 37
        },
        "outputId": "47599ee0-c44c-48e7-a909-3916edc579ef"
      },
      "source": [
        "roots((x - 1)**2*(x - 2))"
      ],
      "execution_count": null,
      "outputs": [
        {
          "output_type": "execute_result",
          "data": {
            "image/png": "[encoded data removed]",
            "text/latex": "$$\\left \\{ 1 : 2, \\quad 2 : 1\\right \\}$$",
            "text/plain": [
              "{1: 2, 2: 1}"
            ]
          },
          "metadata": {
            "tags": []
          },
          "execution_count": 74
        }
      ]
    },
    {
      "cell_type": "code",
      "metadata": {
        "id": "WTWUkiWnsDeX",
        "colab": {
          "base_uri": "https://localhost:8080/",
          "height": 37
        },
        "outputId": "77e7f2b1-6b0e-4181-d2b9-e763ce74130e"
      },
      "source": [
        "roots((x - 5)**2*(x + 3), x)"
      ],
      "execution_count": null,
      "outputs": [
        {
          "output_type": "execute_result",
          "data": {
            "image/png": "[encoded data removed]",
            "text/latex": "$$\\left \\{ -3 : 1, \\quad 5 : 2\\right \\}$$",
            "text/plain": [
              "{-3: 1, 5: 2}"
            ]
          },
          "metadata": {
            "tags": []
          },
          "execution_count": 45
        }
      ]
    },
    {
      "cell_type": "markdown",
      "metadata": {
        "id": "5cfiwSWBsDee"
      },
      "source": [
        "# タプル\n",
        "\n",
        "タプルはイミュータブルである。\n",
        "\n",
        "`SymPy` では基本的にタプルは使わない。\n"
      ]
    },
    {
      "cell_type": "code",
      "metadata": {
        "id": "qJAvp7IqsDef",
        "colab": {
          "base_uri": "https://localhost:8080/",
          "height": 38
        },
        "outputId": "02c12cbf-9174-4137-c17a-c816f7918107"
      },
      "source": [
        "t = (1, 2, x)\n",
        "t"
      ],
      "execution_count": null,
      "outputs": [
        {
          "output_type": "execute_result",
          "data": {
            "image/png": "[encoded data removed]",
            "text/latex": "$$\\left ( 1, \\quad 2, \\quad x\\right )$$",
            "text/plain": [
              "(1, 2, x)"
            ]
          },
          "metadata": {
            "tags": []
          },
          "execution_count": 46
        }
      ]
    },
    {
      "cell_type": "code",
      "metadata": {
        "id": "leh-_FhksDei",
        "colab": {
          "base_uri": "https://localhost:8080/",
          "height": 38
        },
        "outputId": "a6fedefc-2daa-4e12-ea95-0269126b55be"
      },
      "source": [
        "(x,)"
      ],
      "execution_count": null,
      "outputs": [
        {
          "output_type": "execute_result",
          "data": {
            "image/png": "[encoded data removed]",
            "text/latex": "$$\\left ( x\\right )$$",
            "text/plain": [
              "(x,)"
            ]
          },
          "metadata": {
            "tags": []
          },
          "execution_count": 47
        }
      ]
    },
    {
      "cell_type": "code",
      "metadata": {
        "id": "_WNqwSTVFdZw",
        "colab": {
          "base_uri": "https://localhost:8080/",
          "height": 34
        },
        "outputId": "4483475b-4418-4974-87a6-78782cba7eb6"
      },
      "source": [
        "type ((x,))"
      ],
      "execution_count": null,
      "outputs": [
        {
          "output_type": "execute_result",
          "data": {
            "text/plain": [
              "tuple"
            ]
          },
          "metadata": {
            "tags": []
          },
          "execution_count": 75
        }
      ]
    },
    {
      "cell_type": "code",
      "metadata": {
        "id": "boy_Xh8VsDel",
        "colab": {
          "base_uri": "https://localhost:8080/",
          "height": 38
        },
        "outputId": "a728eac2-f7ca-4834-af30-4e2d358b28a1"
      },
      "source": [
        "(x)"
      ],
      "execution_count": null,
      "outputs": [
        {
          "output_type": "execute_result",
          "data": {
            "image/png": "[encoded data removed]",
            "text/latex": "$$x$$",
            "text/plain": [
              "x"
            ]
          },
          "metadata": {
            "tags": []
          },
          "execution_count": 48
        }
      ]
    },
    {
      "cell_type": "code",
      "metadata": {
        "id": "itLGZPtXsDeo",
        "colab": {
          "base_uri": "https://localhost:8080/",
          "height": 38
        },
        "outputId": "4d17ff57-492b-4cef-ad60-14626f2c3e98"
      },
      "source": [
        "integrate(x**2, (x, 0, 1))"
      ],
      "execution_count": null,
      "outputs": [
        {
          "output_type": "execute_result",
          "data": {
            "image/png": "[encoded data removed]",
            "text/latex": "$$\\frac{1}{3}$$",
            "text/plain": [
              "1/3"
            ]
          },
          "metadata": {
            "tags": []
          },
          "execution_count": 49
        }
      ]
    },
    {
      "cell_type": "code",
      "metadata": {
        "id": "-OgKG-qlFrHq"
      },
      "source": [
        "integrate?"
      ],
      "execution_count": null,
      "outputs": []
    },
    {
      "cell_type": "code",
      "metadata": {
        "id": "GipcvYN3sDer",
        "colab": {
          "base_uri": "https://localhost:8080/",
          "height": 41
        },
        "outputId": "2dd9f337-46a7-4d6c-b3dd-36da293ea22e"
      },
      "source": [
        "Integral(x**2, [x, 0, 1])"
      ],
      "execution_count": null,
      "outputs": [
        {
          "output_type": "execute_result",
          "data": {
            "image/png": "[encoded data removed]",
            "text/latex": "$$\\int_{0}^{1} x^{2}\\, dx$$",
            "text/plain": [
              "1      \n",
              "⌠      \n",
              "⎮  2   \n",
              "⎮ x  dx\n",
              "⌡      \n",
              "0      "
            ]
          },
          "metadata": {
            "tags": []
          },
          "execution_count": 50
        }
      ]
    },
    {
      "cell_type": "markdown",
      "metadata": {
        "id": "rie3yeWOsDev"
      },
      "source": [
        "# キーワード引数 keyword argumebnts"
      ]
    },
    {
      "cell_type": "code",
      "metadata": {
        "id": "s0s4Z-otsDev",
        "colab": {
          "base_uri": "https://localhost:8080/",
          "height": 38
        },
        "outputId": "95e339d4-b640-4639-8296-b3f6af229cad"
      },
      "source": [
        "sqrt(x**2)"
      ],
      "execution_count": null,
      "outputs": [
        {
          "output_type": "execute_result",
          "data": {
            "image/png": "[encoded data removed]",
            "text/latex": "$$\\sqrt{x^{2}}$$",
            "text/plain": [
              "   ____\n",
              "  ╱  2 \n",
              "╲╱  x  "
            ]
          },
          "metadata": {
            "tags": []
          },
          "execution_count": 51
        }
      ]
    },
    {
      "cell_type": "code",
      "metadata": {
        "id": "maaA7hsosDey",
        "colab": {
          "base_uri": "https://localhost:8080/",
          "height": 38
        },
        "outputId": "c7706e89-b79d-4e0d-a875-e15bf58054b0"
      },
      "source": [
        "x = symbols('x', positive=True)\n",
        "sqrt(x**2)"
      ],
      "execution_count": null,
      "outputs": [
        {
          "output_type": "execute_result",
          "data": {
            "image/png": "[encoded data removed]",
            "text/latex": "$$x$$",
            "text/plain": [
              "x"
            ]
          },
          "metadata": {
            "tags": []
          },
          "execution_count": 52
        }
      ]
    },
    {
      "cell_type": "code",
      "metadata": {
        "id": "KD0Mp_ogsDe5",
        "colab": {
          "base_uri": "https://localhost:8080/",
          "height": 38
        },
        "outputId": "7347e80f-5e30-46b8-c2e6-0545ea520823"
      },
      "source": [
        "x, y, z, m, n = symbols('x y z m n')\n",
        "x**n*x**m*y**n*y**m"
      ],
      "execution_count": null,
      "outputs": [
        {
          "output_type": "execute_result",
          "data": {
            "image/png": "[encoded data removed]",
            "text/latex": "$$x^{m} x^{n} y^{m} y^{n}$$",
            "text/plain": [
              " m  n  m  n\n",
              "x ⋅x ⋅y ⋅y "
            ]
          },
          "metadata": {
            "tags": []
          },
          "execution_count": 53
        }
      ]
    },
    {
      "cell_type": "code",
      "metadata": {
        "id": "jKgZiQMqsDe9",
        "colab": {
          "base_uri": "https://localhost:8080/",
          "height": 38
        },
        "outputId": "8ea29495-1027-476c-aea2-4fad1d608436"
      },
      "source": [
        "powsimp(x**n*x**m*y**n*y**m)"
      ],
      "execution_count": null,
      "outputs": [
        {
          "output_type": "execute_result",
          "data": {
            "image/png": "[encoded data removed]",
            "text/latex": "$$x^{m + n} y^{m + n}$$",
            "text/plain": [
              " m + n  m + n\n",
              "x     ⋅y     "
            ]
          },
          "metadata": {
            "tags": []
          },
          "execution_count": 54
        }
      ]
    },
    {
      "cell_type": "code",
      "metadata": {
        "id": "aXqFn-SNsDfE",
        "colab": {
          "base_uri": "https://localhost:8080/",
          "height": 38
        },
        "outputId": "fd79d2f6-2fcf-4d96-8bf2-6924e36b0e05"
      },
      "source": [
        "simplify(x**n*x**m*y**n*y**m)"
      ],
      "execution_count": null,
      "outputs": [
        {
          "output_type": "execute_result",
          "data": {
            "image/png": "[encoded data removed]",
            "text/latex": "$$x^{m + n} y^{m + n}$$",
            "text/plain": [
              " m + n  m + n\n",
              "x     ⋅y     "
            ]
          },
          "metadata": {
            "tags": []
          },
          "execution_count": 55
        }
      ]
    },
    {
      "cell_type": "code",
      "metadata": {
        "id": "RlO4UJwgsDfH",
        "colab": {
          "base_uri": "https://localhost:8080/",
          "height": 39
        },
        "outputId": "de10395c-9d89-48e5-ca02-bb6b4616fbcb"
      },
      "source": [
        "powsimp(x**n*x**m*y**n*y**m, combine='all', force=True)"
      ],
      "execution_count": null,
      "outputs": [
        {
          "output_type": "execute_result",
          "data": {
            "image/png": "[encoded data removed]",
            "text/latex": "$$\\left(x y\\right)^{m + n}$$",
            "text/plain": [
              "     m + n\n",
              "(x⋅y)     "
            ]
          },
          "metadata": {
            "tags": []
          },
          "execution_count": 56
        }
      ]
    },
    {
      "cell_type": "code",
      "metadata": {
        "id": "tjWYWGjWsDfN",
        "colab": {
          "base_uri": "https://localhost:8080/",
          "height": 38
        },
        "outputId": "6df18c5d-33ee-4bdd-9b83-278abd0469ce"
      },
      "source": [
        "powsimp(x**n*x**m*y**n*y**m, combine='exp')"
      ],
      "execution_count": null,
      "outputs": [
        {
          "output_type": "execute_result",
          "data": {
            "image/png": "[encoded data removed]",
            "text/latex": "$$x^{m + n} y^{m + n}$$",
            "text/plain": [
              " m + n  m + n\n",
              "x     ⋅y     "
            ]
          },
          "metadata": {
            "tags": []
          },
          "execution_count": 57
        }
      ]
    },
    {
      "cell_type": "code",
      "metadata": {
        "id": "_jPFYlN_sDfR",
        "colab": {
          "base_uri": "https://localhost:8080/",
          "height": 38
        },
        "outputId": "8daced24-6226-46cf-e6c0-5ed1d370268e"
      },
      "source": [
        "powsimp(x**n*x**m*y**n*y**m, combine='base', force=True)"
      ],
      "execution_count": null,
      "outputs": [
        {
          "output_type": "execute_result",
          "data": {
            "image/png": "[encoded data removed]",
            "text/latex": "$$\\left(x y\\right)^{m} \\left(x y\\right)^{n}$$",
            "text/plain": [
              "     m      n\n",
              "(x⋅y) ⋅(x⋅y) "
            ]
          },
          "metadata": {
            "tags": []
          },
          "execution_count": 58
        }
      ]
    },
    {
      "cell_type": "markdown",
      "metadata": {
        "id": "4j1hJKRcsDfU"
      },
      "source": [
        "# 指数の簡素化 powsimp\n",
        "\n",
        "powsimp?\n",
        "\n",
        "powsimp??\n",
        "\n",
        "を読む。"
      ]
    },
    {
      "cell_type": "code",
      "metadata": {
        "id": "veX6vdjwsDfV",
        "colab": {
          "base_uri": "https://localhost:8080/",
          "height": 38
        },
        "outputId": "1e48d0c7-35b6-421c-ed74-d944c8c54cfd"
      },
      "source": [
        "powsimp(x**y*x**z*y**z, combine='all')"
      ],
      "execution_count": null,
      "outputs": [
        {
          "output_type": "execute_result",
          "data": {
            "image/png": "[encoded data removed]",
            "text/latex": "$$x^{y + z} y^{z}$$",
            "text/plain": [
              " y + z  z\n",
              "x     ⋅y "
            ]
          },
          "metadata": {
            "tags": []
          },
          "execution_count": 59
        }
      ]
    },
    {
      "cell_type": "code",
      "metadata": {
        "id": "I5XIDfc-GjSk"
      },
      "source": [
        "powsimp?"
      ],
      "execution_count": null,
      "outputs": []
    },
    {
      "cell_type": "markdown",
      "metadata": {
        "id": "NQyQ5II4sDfa"
      },
      "source": [
        "######  next\n",
        "ここまででsympy documentationのtutorialとgotchas and pitfallsを読み終わった。\n",
        "\n",
        "nextボタンを押したらsympy user's guideになった。  \n",
        "これはこれで面白そうというか勉強になるのだろうが、計画としてはmath with pythonに戻る予定である。  \n",
        "math with pythonがすばらしい本というわけではない。  \n",
        "jupyterでsympyをやりたいのだから、むしろネットでいろりろ検索してなでた方がいいと思う。  \n",
        "\n",
        "というわけですこし寄り道をします。\n",
        "\n",
        "あと、jupyterの本を買ったのだが、bokehの本なので、とりあえずsympyではない。\n"
      ]
    },
    {
      "cell_type": "markdown",
      "metadata": {
        "id": "XXBD3YkKIHnY"
      },
      "source": [
        "# ここから あとを消去する"
      ]
    }
  ]
}