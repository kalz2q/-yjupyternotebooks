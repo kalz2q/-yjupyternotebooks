{
  "nbformat": 4,
  "nbformat_minor": 0,
  "metadata": {
    "kernelspec": {
      "display_name": "Python 3",
      "language": "python",
      "name": "python3"
    },
    "language_info": {
      "codemirror_mode": {
        "name": "ipython",
        "version": 3
      },
      "file_extension": ".py",
      "mimetype": "text/x-python",
      "name": "python",
      "nbconvert_exporter": "python",
      "pygments_lexer": "ipython3",
      "version": "3.6.6"
    },
    "colab": {
      "name": "mathwithpython02.ipynb",
      "provenance": [],
      "toc_visible": true,
      "include_colab_link": true
    }
  },
  "cells": [
    {
      "cell_type": "markdown",
      "metadata": {
        "id": "view-in-github",
        "colab_type": "text"
      },
      "source": [
        "<a href=\"https://colab.research.google.com/github/kalz2q/mycolabnotebooks/blob/master/mathwithpython02.ipynb\" target=\"_parent\"><img src=\"https://colab.research.google.com/assets/colab-badge.svg\" alt=\"Open In Colab\"/></a>"
      ]
    },
    {
      "cell_type": "markdown",
      "metadata": {
        "id": "aaQyXb-2rpGk",
        "colab_type": "text"
      },
      "source": [
        "# メモ\n",
        "\n",
        "いまはsympyのtutorialを読んでいところ。  \n",
        "\n",
        "次はcalculus微積分\n",
        "\n",
        "ところでこのファイルの題名はmath with pythonからとっていてそれも読んでいるのだが、sympyのtutorialを読み終わったらそれに戻る予定。  \n",
        "sympyのmanualはむずかしそうなので考える。  \n",
        "そんな意味ではtutorialも難しい。  \n",
        "ほんとは数学と平行してやらないとあまり意味がないが、とりあえず写経をしておいて、数学はあとから考える。  \n",
        "数学をやっていて道具がないと勉強できない！！  \n",
        "とおもったからsympyをやっているのだよ。  \n",
        "だからある程度の行ったり来たりは正しいのだ。\n",
        "\n",
        "1. 本家`SymPy Tutorial` (https://docs.sympy.org/latest/tutorial/index.html#tutorial)\n",
        "1. 入力例で学ぶPython(SymPy)の使い方(入門) (https://pianofisica.hatenablog.com/entry/2019/04/04/183712)\n",
        "1. `Doing Math With Python` PDF ( http://index-of.es/Varios-2/Doing%20Math%20with%20Python.pdf)\n",
        "1. `Doing Math With Python` site (http://www.nostarch.com/doingmathwithpython/ )\n"
      ]
    },
    {
      "cell_type": "markdown",
      "metadata": {
        "id": "6aB3pN-ZGf3c",
        "colab_type": "text"
      },
      "source": [
        "# calculus 微積分"
      ]
    },
    {
      "cell_type": "code",
      "metadata": {
        "id": "jmjnH5SKrpGn",
        "colab_type": "code",
        "colab": {
          "base_uri": "https://localhost:8080/",
          "height": 61
        },
        "outputId": "f36998c3-f480-42f9-bb35-01a9f430100c"
      },
      "source": [
        "from sympy import *\n",
        "init_printing()\n",
        "x, y, z = symbols('x y z')\n",
        "\n",
        "display(diff(cos(x)))\n",
        "\n",
        "display(diff(sin(x)))"
      ],
      "execution_count": null,
      "outputs": [
        {
          "output_type": "display_data",
          "data": {
            "image/png": "[encoded data removed]",
            "text/latex": "$$- \\sin{\\left (x \\right )}$$",
            "text/plain": [
              "-sin(x)"
            ]
          },
          "metadata": {
            "tags": []
          }
        },
        {
          "output_type": "display_data",
          "data": {
            "image/png": "[encoded data removed]",
            "text/latex": "$$\\cos{\\left (x \\right )}$$",
            "text/plain": [
              "cos(x)"
            ]
          },
          "metadata": {
            "tags": []
          }
        }
      ]
    },
    {
      "cell_type": "markdown",
      "metadata": {
        "id": "YWV0wByWrpG5",
        "colab_type": "text"
      },
      "source": [
        "# partial differentiation 偏微分\n",
        "</br></br>\n",
        "$$\n",
        "\\frac{\\partial ^7}{\\partial x \\partial y^2 \\partial z^2} e ^{xyz}\n",
        "$$"
      ]
    },
    {
      "cell_type": "code",
      "metadata": {
        "id": "yb0cYJxfHQen",
        "colab_type": "code",
        "colab": {
          "base_uri": "https://localhost:8080/",
          "height": 57
        },
        "outputId": "9e1e5e5b-2cf5-4db8-8a2b-a8a426c85462"
      },
      "source": [
        "%%latex\n",
        "\\displaystyle\n",
        "\n",
        "\\frac{\\partial ^7}{\\partial x \\partial y^2 \\partial z^2} e ^{xyz}"
      ],
      "execution_count": null,
      "outputs": [
        {
          "output_type": "display_data",
          "data": {
            "text/latex": "\\displaystyle\n\n\\frac{\\partial ^7}{\\partial x \\partial y^2 \\partial z^2} e ^{xyz}",
            "text/plain": [
              "<IPython.core.display.Latex object>"
            ]
          },
          "metadata": {
            "tags": []
          }
        }
      ]
    },
    {
      "cell_type": "code",
      "metadata": {
        "id": "WKYZWb4KrpG6",
        "colab_type": "code",
        "colab": {
          "base_uri": "https://localhost:8080/",
          "height": 63
        },
        "outputId": "53d4f2cc-c5ae-41a8-e53d-2bfd32b0bd7a"
      },
      "source": [
        "from sympy import *\n",
        "init_printing()\n",
        "x, y, z = symbols('x y z')\n",
        "\n",
        "expr = exp(x**2)\n",
        "display (expr)\n",
        "display (diff(expr))"
      ],
      "execution_count": null,
      "outputs": [
        {
          "output_type": "display_data",
          "data": {
            "image/png": "[encoded data removed]",
            "text/latex": "$$e^{x^{2}}$$",
            "text/plain": [
              " ⎛ 2⎞\n",
              " ⎝x ⎠\n",
              "ℯ    "
            ]
          },
          "metadata": {
            "tags": []
          }
        },
        {
          "output_type": "display_data",
          "data": {
            "image/png": "[encoded data removed]",
            "text/latex": "$$2 x e^{x^{2}}$$",
            "text/plain": [
              "     ⎛ 2⎞\n",
              "     ⎝x ⎠\n",
              "2⋅x⋅ℯ    "
            ]
          },
          "metadata": {
            "tags": []
          }
        }
      ]
    },
    {
      "cell_type": "code",
      "metadata": {
        "id": "2N-paiUUrpG_",
        "colab_type": "code",
        "colab": {},
        "outputId": "9199e943-7721-4644-b42a-e2608588ad72"
      },
      "source": [
        "expr = exp(x*y*z)\n",
        "diff(expr,x,y,y,z,z,z,z)"
      ],
      "execution_count": null,
      "outputs": [
        {
          "output_type": "execute_result",
          "data": {
            "image/png": "[encoded data removed]",
            "text/latex": "$$x^{3} y^{2} \\left(x^{3} y^{3} z^{3} + 14 x^{2} y^{2} z^{2} + 52 x y z + 48\\right) e^{x y z}$$",
            "text/plain": [
              " 3  2 ⎛ 3  3  3       2  2  2                ⎞  x⋅y⋅z\n",
              "x ⋅y ⋅⎝x ⋅y ⋅z  + 14⋅x ⋅y ⋅z  + 52⋅x⋅y⋅z + 48⎠⋅ℯ     "
            ]
          },
          "metadata": {
            "tags": []
          },
          "execution_count": 3
        }
      ]
    },
    {
      "cell_type": "code",
      "metadata": {
        "id": "UlRbWyJerpHE",
        "colab_type": "code",
        "colab": {},
        "outputId": "1711653f-7803-414b-fe2b-af4bff30ac50"
      },
      "source": [
        "diff(expr,x,y,z)"
      ],
      "execution_count": null,
      "outputs": [
        {
          "output_type": "execute_result",
          "data": {
            "image/png": "[encoded data removed]",
            "text/latex": "$$\\left(x^{2} y^{2} z^{2} + 3 x y z + 1\\right) e^{x y z}$$",
            "text/plain": [
              "⎛ 2  2  2              ⎞  x⋅y⋅z\n",
              "⎝x ⋅y ⋅z  + 3⋅x⋅y⋅z + 1⎠⋅ℯ     "
            ]
          },
          "metadata": {
            "tags": []
          },
          "execution_count": 6
        }
      ]
    },
    {
      "cell_type": "code",
      "metadata": {
        "id": "iBfnAPeQrpHJ",
        "colab_type": "code",
        "colab": {},
        "outputId": "ff696ce6-16b5-41bd-fd11-17e4e0443871"
      },
      "source": [
        "diff(expr,x,y,2,z,4)"
      ],
      "execution_count": null,
      "outputs": [
        {
          "output_type": "execute_result",
          "data": {
            "image/png": "[encoded data removed]",
            "text/latex": "$$x^{3} y^{2} \\left(x^{3} y^{3} z^{3} + 14 x^{2} y^{2} z^{2} + 52 x y z + 48\\right) e^{x y z}$$",
            "text/plain": [
              " 3  2 ⎛ 3  3  3       2  2  2                ⎞  x⋅y⋅z\n",
              "x ⋅y ⋅⎝x ⋅y ⋅z  + 14⋅x ⋅y ⋅z  + 52⋅x⋅y⋅z + 48⎠⋅ℯ     "
            ]
          },
          "metadata": {
            "tags": []
          },
          "execution_count": 7
        }
      ]
    },
    {
      "cell_type": "code",
      "metadata": {
        "id": "PpJFi01wrpHR",
        "colab_type": "code",
        "colab": {},
        "outputId": "d0f694f6-6051-401b-e8c5-ac8c8bebade1"
      },
      "source": [
        "diff(expr,x,y,y,z,4)"
      ],
      "execution_count": null,
      "outputs": [
        {
          "output_type": "execute_result",
          "data": {
            "image/png": "[encoded data removed]",
            "text/latex": "$$x^{3} y^{2} \\left(x^{3} y^{3} z^{3} + 14 x^{2} y^{2} z^{2} + 52 x y z + 48\\right) e^{x y z}$$",
            "text/plain": [
              " 3  2 ⎛ 3  3  3       2  2  2                ⎞  x⋅y⋅z\n",
              "x ⋅y ⋅⎝x ⋅y ⋅z  + 14⋅x ⋅y ⋅z  + 52⋅x⋅y⋅z + 48⎠⋅ℯ     "
            ]
          },
          "metadata": {
            "tags": []
          },
          "execution_count": 8
        }
      ]
    },
    {
      "cell_type": "markdown",
      "metadata": {
        "id": "utnFOHwvrpHa",
        "colab_type": "text"
      },
      "source": [
        "### 未評価のデリバティブを作る\n",
        "\n",
        "デリバティブクラスを使う。"
      ]
    },
    {
      "cell_type": "code",
      "metadata": {
        "id": "T0523hpvrpHb",
        "colab_type": "code",
        "colab": {},
        "outputId": "3e8201f2-dc75-4463-e8fe-6feee2257536"
      },
      "source": [
        "from sympy import *\n",
        "init_printing()\n",
        "x, y, z = symbols('x y z')\n",
        "expr = exp(x*y*z)\n",
        "\n",
        "deriv = Derivative(expr, x, y, y, z, 4)\n",
        "deriv"
      ],
      "execution_count": null,
      "outputs": [
        {
          "output_type": "execute_result",
          "data": {
            "image/png": "[encoded data removed]",
            "text/latex": "$$\\frac{\\partial^{7}}{\\partial z^{4}\\partial y^{2}\\partial x} e^{x y z}$$",
            "text/plain": [
              "     7            \n",
              "    ∂     ⎛ x⋅y⋅z⎞\n",
              "──────────⎝ℯ     ⎠\n",
              "  4   2           \n",
              "∂z  ∂y  ∂x        "
            ]
          },
          "metadata": {
            "tags": []
          },
          "execution_count": 19
        }
      ]
    },
    {
      "cell_type": "code",
      "metadata": {
        "id": "HhONyGU8rpHg",
        "colab_type": "code",
        "colab": {},
        "outputId": "b618f6ba-c0b5-4e32-dbf3-3848ec9865f1"
      },
      "source": [
        "Derivative((x**2),x)"
      ],
      "execution_count": null,
      "outputs": [
        {
          "output_type": "execute_result",
          "data": {
            "image/png": "[encoded data removed]",
            "text/latex": "$$\\frac{d}{d x} x^{2}$$",
            "text/plain": [
              "d ⎛ 2⎞\n",
              "──⎝x ⎠\n",
              "dx    "
            ]
          },
          "metadata": {
            "tags": []
          },
          "execution_count": 22
        }
      ]
    },
    {
      "cell_type": "markdown",
      "metadata": {
        "id": "f8JU4UZDrpHl",
        "colab_type": "text"
      },
      "source": [
        "###  未評価のデリバティブを評価する\n",
        "\n",
        "`doit`メソッドを使う。"
      ]
    },
    {
      "cell_type": "code",
      "metadata": {
        "id": "jKYGLOw_rpHm",
        "colab_type": "code",
        "colab": {},
        "outputId": "700fc36c-9b02-4178-f3cf-04444a36156c"
      },
      "source": [
        "deriv.doit()"
      ],
      "execution_count": null,
      "outputs": [
        {
          "output_type": "execute_result",
          "data": {
            "image/png": "[encoded data removed]",
            "text/latex": "$$x^{3} y^{2} \\left(x^{3} y^{3} z^{3} + 14 x^{2} y^{2} z^{2} + 52 x y z + 48\\right) e^{x y z}$$",
            "text/plain": [
              " 3  2 ⎛ 3  3  3       2  2  2                ⎞  x⋅y⋅z\n",
              "x ⋅y ⋅⎝x ⋅y ⋅z  + 14⋅x ⋅y ⋅z  + 52⋅x⋅y⋅z + 48⎠⋅ℯ     "
            ]
          },
          "metadata": {
            "tags": []
          },
          "execution_count": 4
        }
      ]
    },
    {
      "cell_type": "code",
      "metadata": {
        "id": "Qqj0vkfzrpHq",
        "colab_type": "code",
        "colab": {},
        "outputId": "87823de5-73d4-440e-b6e3-fdf4804597db"
      },
      "source": [
        "Derivative((x**2),x).doit()"
      ],
      "execution_count": null,
      "outputs": [
        {
          "output_type": "execute_result",
          "data": {
            "image/png": "[encoded data removed]",
            "text/latex": "$$2 x$$",
            "text/plain": [
              "2⋅x"
            ]
          },
          "metadata": {
            "tags": []
          },
          "execution_count": 23
        }
      ]
    },
    {
      "cell_type": "markdown",
      "metadata": {
        "id": "wr6eBWtRrpHu",
        "colab_type": "text"
      },
      "source": [
        "###  Derivatives of unspecified order\n",
        "\n",
        "Derivatives of unspecified order can be created using tuple (x, n) where n is the order of the derivative with respect to x"
      ]
    },
    {
      "cell_type": "code",
      "metadata": {
        "id": "2Rl2hxZmrpHv",
        "colab_type": "code",
        "colab": {}
      },
      "source": [
        "from sympy import *\n",
        "init_printing()\n",
        "m, n, a, b = symbols('m n a b')\n",
        "expr = (a*x + b)**m\n",
        "expr.diff((x,n))"
      ],
      "execution_count": null,
      "outputs": []
    },
    {
      "cell_type": "markdown",
      "metadata": {
        "id": "fEFOFUDlrpHz",
        "colab_type": "text"
      },
      "source": [
        "### Integrals 積分"
      ]
    },
    {
      "cell_type": "code",
      "metadata": {
        "id": "caZEtF-0rpH0",
        "colab_type": "code",
        "colab": {
          "base_uri": "https://localhost:8080/",
          "height": 38
        },
        "outputId": "847d304c-5175-40a8-d9c6-00fe10b953ba"
      },
      "source": [
        "integrate(cos(x),x)"
      ],
      "execution_count": null,
      "outputs": [
        {
          "output_type": "execute_result",
          "data": {
            "image/png": "[encoded data removed]",
            "text/latex": "$$\\sin{\\left (x \\right )}$$",
            "text/plain": [
              "sin(x)"
            ]
          },
          "metadata": {
            "tags": []
          },
          "execution_count": 7
        }
      ]
    },
    {
      "cell_type": "code",
      "metadata": {
        "id": "bBoZwpmerpH4",
        "colab_type": "code",
        "colab": {
          "base_uri": "https://localhost:8080/",
          "height": 38
        },
        "outputId": "d034d37f-7121-46b5-981e-425bf469900e"
      },
      "source": [
        "Integral(cos(x),(x,0,oo))"
      ],
      "execution_count": null,
      "outputs": [
        {
          "output_type": "execute_result",
          "data": {
            "image/png": "[encoded data removed]",
            "text/latex": "$$\\int_{0}^{\\infty} \\cos{\\left (x \\right )}\\, dx$$",
            "text/plain": [
              "∞          \n",
              "⌠          \n",
              "⎮ cos(x) dx\n",
              "⌡          \n",
              "0          "
            ]
          },
          "metadata": {
            "tags": []
          },
          "execution_count": 8
        }
      ]
    },
    {
      "cell_type": "code",
      "metadata": {
        "id": "jYzaAlhDrpH9",
        "colab_type": "code",
        "colab": {
          "base_uri": "https://localhost:8080/",
          "height": 37
        },
        "outputId": "ac4c95fd-b968-4e08-c5bd-a6b1a8c6353e"
      },
      "source": [
        "integrate(cos(x),(x,0,oo))"
      ],
      "execution_count": null,
      "outputs": [
        {
          "output_type": "execute_result",
          "data": {
            "image/png": "[encoded data removed]",
            "text/latex": "$$\\langle -1, 1\\rangle$$",
            "text/plain": [
              "<-1, 1>"
            ]
          },
          "metadata": {
            "tags": []
          },
          "execution_count": 9
        }
      ]
    },
    {
      "cell_type": "code",
      "metadata": {
        "id": "2S0IJ7yDrpIC",
        "colab_type": "code",
        "colab": {
          "base_uri": "https://localhost:8080/",
          "height": 37
        },
        "outputId": "ee0651bb-6404-469c-a851-cbe9ebf2a87f"
      },
      "source": [
        "integrate(exp(-x),(x,0,oo))"
      ],
      "execution_count": null,
      "outputs": [
        {
          "output_type": "execute_result",
          "data": {
            "image/png": "[encoded data removed]",
            "text/latex": "$$1$$",
            "text/plain": [
              "1"
            ]
          },
          "metadata": {
            "tags": []
          },
          "execution_count": 10
        }
      ]
    },
    {
      "cell_type": "code",
      "metadata": {
        "id": "UmflOVm9rpIG",
        "colab_type": "code",
        "colab": {
          "base_uri": "https://localhost:8080/",
          "height": 41
        },
        "outputId": "9e8ae5a3-1adc-487e-856d-708496a73f22"
      },
      "source": [
        "Integral(exp(-x**2 -y**2),(x, -oo, oo), (y,-oo,oo))"
      ],
      "execution_count": null,
      "outputs": [
        {
          "output_type": "execute_result",
          "data": {
            "image/png": "[encoded data removed]",
            "text/latex": "$$\\int_{-\\infty}^{\\infty}\\int_{-\\infty}^{\\infty} e^{- x^{2} - y^{2}}\\, dx\\, dy$$",
            "text/plain": [
              "∞  ∞                  \n",
              "⌠  ⌠                  \n",
              "⎮  ⎮      2    2      \n",
              "⎮  ⎮   - x  - y       \n",
              "⎮  ⎮  ℯ          dx dy\n",
              "⌡  ⌡                  \n",
              "-∞ -∞                 "
            ]
          },
          "metadata": {
            "tags": []
          },
          "execution_count": 11
        }
      ]
    },
    {
      "cell_type": "code",
      "metadata": {
        "id": "td5BCSNYrpIJ",
        "colab_type": "code",
        "colab": {
          "base_uri": "https://localhost:8080/",
          "height": 38
        },
        "outputId": "539b25df-22c2-424f-9e5c-50d6913e67f2"
      },
      "source": [
        "integrate(exp(-x**2 - y**2), (x, -oo, oo), (y, -oo, oo))"
      ],
      "execution_count": null,
      "outputs": [
        {
          "output_type": "execute_result",
          "data": {
            "image/png": "[encoded data removed]",
            "text/latex": "$$\\pi$$",
            "text/plain": [
              "π"
            ]
          },
          "metadata": {
            "tags": []
          },
          "execution_count": 12
        }
      ]
    },
    {
      "cell_type": "code",
      "metadata": {
        "id": "xYKhkolQrpIN",
        "colab_type": "code",
        "colab": {
          "base_uri": "https://localhost:8080/",
          "height": 55
        },
        "outputId": "bdcfa960-6834-4cb7-ef76-763fd3bdc70c"
      },
      "source": [
        "expr = integrate(x**x, x)\n",
        "print(expr)\n",
        "display(expr)"
      ],
      "execution_count": null,
      "outputs": [
        {
          "output_type": "stream",
          "text": [
            "Integral(x**x, x)\n"
          ],
          "name": "stdout"
        },
        {
          "output_type": "display_data",
          "data": {
            "image/png": "[encoded data removed]",
            "text/latex": "$$\\int x^{x}\\, dx$$",
            "text/plain": [
              "⌠      \n",
              "⎮  x   \n",
              "⎮ x  dx\n",
              "⌡      "
            ]
          },
          "metadata": {
            "tags": []
          }
        }
      ]
    },
    {
      "cell_type": "code",
      "metadata": {
        "id": "vb8E2T3CrpIR",
        "colab_type": "code",
        "colab": {},
        "outputId": "456bf9db-26a3-4ea0-d8ac-a87bf1a2f3e7"
      },
      "source": [
        "expr"
      ],
      "execution_count": null,
      "outputs": [
        {
          "output_type": "execute_result",
          "data": {
            "image/png": "[encoded data removed]",
            "text/latex": "$$\\int x^{x}\\, dx$$",
            "text/plain": [
              "⌠      \n",
              "⎮  x   \n",
              "⎮ x  dx\n",
              "⌡      "
            ]
          },
          "metadata": {
            "tags": []
          },
          "execution_count": 26
        }
      ]
    },
    {
      "cell_type": "code",
      "metadata": {
        "id": "BYzfiA_rrpIV",
        "colab_type": "code",
        "colab": {},
        "outputId": "390f364d-8d32-4708-e183-b17adc1a2bcb"
      },
      "source": [
        "expr = Integral(log(x)**2,x)\n",
        "expr"
      ],
      "execution_count": null,
      "outputs": [
        {
          "output_type": "execute_result",
          "data": {
            "image/png": "[encoded data removed]",
            "text/latex": "$$\\int \\log{\\left (x \\right )}^{2}\\, dx$$",
            "text/plain": [
              "⌠           \n",
              "⎮    2      \n",
              "⎮ log (x) dx\n",
              "⌡           "
            ]
          },
          "metadata": {
            "tags": []
          },
          "execution_count": 28
        }
      ]
    },
    {
      "cell_type": "code",
      "metadata": {
        "id": "T8KHHB9jrpIb",
        "colab_type": "code",
        "colab": {},
        "outputId": "30096c3d-206e-4a27-e595-2cc1b56c4d1a"
      },
      "source": [
        "expr.doit()"
      ],
      "execution_count": null,
      "outputs": [
        {
          "output_type": "execute_result",
          "data": {
            "image/png": "[encoded data removed]",
            "text/latex": "$$x \\log{\\left (x \\right )}^{2} - 2 x \\log{\\left (x \\right )} + 2 x$$",
            "text/plain": [
              "     2                      \n",
              "x⋅log (x) - 2⋅x⋅log(x) + 2⋅x"
            ]
          },
          "metadata": {
            "tags": []
          },
          "execution_count": 29
        }
      ]
    },
    {
      "cell_type": "code",
      "metadata": {
        "id": "_x29_37NrpIg",
        "colab_type": "code",
        "colab": {},
        "outputId": "e904973a-3ad7-4f49-827d-fb633775f395"
      },
      "source": [
        "integ = Integral((x**4 + x**2*exp(x) - x**2 - 2*x*exp(x) - 2*x - exp(x))*exp(x)/((x - 1)**2*(x + 1)**2*(exp(x) + 1)), x)\n",
        "integ"
      ],
      "execution_count": null,
      "outputs": [
        {
          "output_type": "execute_result",
          "data": {
            "image/png": "[encoded data removed]",
            "text/latex": "$$\\int \\frac{\\left(x^{4} + x^{2} e^{x} - x^{2} - 2 x e^{x} - 2 x - e^{x}\\right) e^{x}}{\\left(x - 1\\right)^{2} \\left(x + 1\\right)^{2} \\left(e^{x} + 1\\right)}\\, dx$$",
            "text/plain": [
              "⌠                                            \n",
              "⎮ ⎛ 4    2  x    2        x          x⎞  x   \n",
              "⎮ ⎝x  + x ⋅ℯ  - x  - 2⋅x⋅ℯ  - 2⋅x - ℯ ⎠⋅ℯ    \n",
              "⎮ ──────────────────────────────────────── dx\n",
              "⎮               2        2 ⎛ x    ⎞          \n",
              "⎮        (x - 1) ⋅(x + 1) ⋅⎝ℯ  + 1⎠          \n",
              "⌡                                            "
            ]
          },
          "metadata": {
            "tags": []
          },
          "execution_count": 30
        }
      ]
    },
    {
      "cell_type": "code",
      "metadata": {
        "id": "iGAhEg5erpIk",
        "colab_type": "code",
        "colab": {},
        "outputId": "60160b69-5154-42fb-fe43-2113cb320f8d"
      },
      "source": [
        "integ.doit()"
      ],
      "execution_count": null,
      "outputs": [
        {
          "output_type": "execute_result",
          "data": {
            "image/png": "[encoded data removed]",
            "text/latex": "$$\\log{\\left (e^{x} + 1 \\right )} + \\frac{e^{x}}{x^{2} - 1}$$",
            "text/plain": [
              "                 x  \n",
              "   ⎛ x    ⎞     ℯ   \n",
              "log⎝ℯ  + 1⎠ + ──────\n",
              "               2    \n",
              "              x  - 1"
            ]
          },
          "metadata": {
            "tags": []
          },
          "execution_count": 31
        }
      ]
    },
    {
      "cell_type": "code",
      "metadata": {
        "id": "mS9LhXF2rpIn",
        "colab_type": "code",
        "colab": {},
        "outputId": "f831cd16-73d0-495e-cc1b-3474e5808621"
      },
      "source": [
        "integ = Integral(sin(x**2),x)\n",
        "integ"
      ],
      "execution_count": null,
      "outputs": [
        {
          "output_type": "execute_result",
          "data": {
            "image/png": "[encoded data removed]",
            "text/latex": "$$\\int \\sin{\\left (x^{2} \\right )}\\, dx$$",
            "text/plain": [
              "⌠           \n",
              "⎮    ⎛ 2⎞   \n",
              "⎮ sin⎝x ⎠ dx\n",
              "⌡           "
            ]
          },
          "metadata": {
            "tags": []
          },
          "execution_count": 32
        }
      ]
    },
    {
      "cell_type": "code",
      "metadata": {
        "id": "7f7MkNNVrpIq",
        "colab_type": "code",
        "colab": {},
        "outputId": "55e86a28-44c8-4da5-b3a6-b829c8870d55"
      },
      "source": [
        "integ.doit()"
      ],
      "execution_count": null,
      "outputs": [
        {
          "output_type": "execute_result",
          "data": {
            "image/png": "[encoded data removed]",
            "text/latex": "$$\\frac{3 \\sqrt{2} \\sqrt{\\pi} S\\left(\\frac{\\sqrt{2} x}{\\sqrt{\\pi}}\\right) \\Gamma\\left(\\frac{3}{4}\\right)}{8 \\Gamma\\left(\\frac{7}{4}\\right)}$$",
            "text/plain": [
              "                ⎛√2⋅x⎞       \n",
              "3⋅√2⋅√π⋅fresnels⎜────⎟⋅Γ(3/4)\n",
              "                ⎝ √π ⎠       \n",
              "─────────────────────────────\n",
              "           8⋅Γ(7/4)          "
            ]
          },
          "metadata": {
            "tags": []
          },
          "execution_count": 33
        }
      ]
    },
    {
      "cell_type": "code",
      "metadata": {
        "id": "hXY6oxzbrpIu",
        "colab_type": "code",
        "colab": {},
        "outputId": "60b0b925-db81-4b4a-ffb1-76104e0971c9"
      },
      "source": [
        "integ = Integral(x**y*exp(-x), (x,0,oo))\n",
        "integ"
      ],
      "execution_count": null,
      "outputs": [
        {
          "output_type": "execute_result",
          "data": {
            "image/png": "[encoded data removed]",
            "text/latex": "$$\\int_{0}^{\\infty} x^{y} e^{- x}\\, dx$$",
            "text/plain": [
              "∞          \n",
              "⌠          \n",
              "⎮  y  -x   \n",
              "⎮ x ⋅ℯ   dx\n",
              "⌡          \n",
              "0          "
            ]
          },
          "metadata": {
            "tags": []
          },
          "execution_count": 34
        }
      ]
    },
    {
      "cell_type": "code",
      "metadata": {
        "id": "aIchiwHcrpIz",
        "colab_type": "code",
        "colab": {},
        "outputId": "9641009c-a491-40bc-e676-6bb2eee4634f"
      },
      "source": [
        "integ.doit()"
      ],
      "execution_count": null,
      "outputs": [
        {
          "output_type": "execute_result",
          "data": {
            "image/png": "[encoded data removed]",
            "text/latex": "$$\\begin{cases} \\Gamma\\left(y + 1\\right) & \\text{for}\\: - \\Re{\\left(y\\right)} < 1 \\\\\\int_{0}^{\\infty} x^{y} e^{- x}\\, dx & \\text{otherwise} \\end{cases}$$",
            "text/plain": [
              "⎧ Γ(y + 1)    for -re(y) < 1\n",
              "⎪                           \n",
              "⎪∞                          \n",
              "⎪⌠                          \n",
              "⎨⎮  y  -x                   \n",
              "⎪⎮ x ⋅ℯ   dx    otherwise   \n",
              "⎪⌡                          \n",
              "⎪0                          \n",
              "⎩                           "
            ]
          },
          "metadata": {
            "tags": []
          },
          "execution_count": 35
        }
      ]
    },
    {
      "cell_type": "markdown",
      "metadata": {
        "id": "y0WxrNPerpI3",
        "colab_type": "text"
      },
      "source": [
        "# limits 極限\n",
        "</br></br>\n",
        "$$ \\lim_{x \\to x_0} f (x) $$\n",
        "\n"
      ]
    },
    {
      "cell_type": "code",
      "metadata": {
        "id": "II2So9NPazb8",
        "colab_type": "code",
        "colab": {
          "base_uri": "https://localhost:8080/",
          "height": 46
        },
        "outputId": "affe366e-83fd-49cd-9499-e8ab0cd190f3"
      },
      "source": [
        "%%latex\n",
        "\\displaystyle\n",
        "\n",
        "\\lim_{x \\to x_0} f (x)"
      ],
      "execution_count": null,
      "outputs": [
        {
          "output_type": "display_data",
          "data": {
            "text/latex": "\\displaystyle\n\n\\lim_{x \\to x_0} f (x)",
            "text/plain": [
              "<IPython.core.display.Latex object>"
            ]
          },
          "metadata": {
            "tags": []
          }
        }
      ]
    },
    {
      "cell_type": "code",
      "metadata": {
        "id": "WnYZZ2tdrpI3",
        "colab_type": "code",
        "colab": {
          "base_uri": "https://localhost:8080/",
          "height": 38
        },
        "outputId": "601b02c7-37bf-497f-aa93-ce9c802d22c4"
      },
      "source": [
        "\n",
        "Limit(sin(x)/x, x, 0)"
      ],
      "execution_count": null,
      "outputs": [
        {
          "output_type": "display_data",
          "data": {
            "image/png": "[encoded data removed]",
            "text/latex": "$$\\lim_{x \\to 0^+}\\left(\\frac{1}{x} \\sin{\\left (x \\right )}\\right)$$",
            "text/plain": [
              "     ⎛sin(x)⎞\n",
              " lim ⎜──────⎟\n",
              "x─→0⁺⎝  x   ⎠"
            ]
          },
          "metadata": {
            "tags": []
          }
        }
      ]
    },
    {
      "cell_type": "code",
      "metadata": {
        "id": "QtnD3Gx5rpI6",
        "colab_type": "code",
        "colab": {},
        "outputId": "39ddd9fe-55dd-4bf5-f7b0-ab8c2d9f1011"
      },
      "source": [
        "Limit(sin(x)/x, x, 0).doit()"
      ],
      "execution_count": null,
      "outputs": [
        {
          "output_type": "execute_result",
          "data": {
            "image/png": "[encoded data removed]",
            "text/latex": "$$1$$",
            "text/plain": [
              "1"
            ]
          },
          "metadata": {
            "tags": []
          },
          "execution_count": 37
        }
      ]
    },
    {
      "cell_type": "code",
      "metadata": {
        "id": "fhNU28PmrpI-",
        "colab_type": "code",
        "colab": {
          "base_uri": "https://localhost:8080/",
          "height": 37
        },
        "outputId": "d9f559b4-74bf-4e23-fd49-203ec90160a2"
      },
      "source": [
        "expr = x**2/exp(x)\n",
        "expr.subs(x,oo)"
      ],
      "execution_count": null,
      "outputs": [
        {
          "output_type": "execute_result",
          "data": {
            "image/png": "[encoded data removed]",
            "text/latex": "$$\\mathrm{NaN}$$",
            "text/plain": [
              "nan"
            ]
          },
          "metadata": {
            "tags": []
          },
          "execution_count": 21
        }
      ]
    },
    {
      "cell_type": "code",
      "metadata": {
        "id": "oT09ZWM5rpJC",
        "colab_type": "code",
        "colab": {},
        "outputId": "a53e5594-bda4-4c58-d9ea-0518cb419794"
      },
      "source": [
        "limit(expr,x,oo)"
      ],
      "execution_count": null,
      "outputs": [
        {
          "output_type": "execute_result",
          "data": {
            "image/png": "[encoded data removed]",
            "text/latex": "$$0$$",
            "text/plain": [
              "0"
            ]
          },
          "metadata": {
            "tags": []
          },
          "execution_count": 40
        }
      ]
    },
    {
      "cell_type": "code",
      "metadata": {
        "id": "hf6T-l_frpJF",
        "colab_type": "code",
        "colab": {},
        "outputId": "996283e0-302f-416a-ee85-b0fdb02339e0"
      },
      "source": [
        "expr = Limit((cos(x) - 1)/x, x, 0)\n",
        "expr"
      ],
      "execution_count": null,
      "outputs": [
        {
          "output_type": "execute_result",
          "data": {
            "image/png": "[encoded data removed]",
            "text/latex": "$$\\lim_{x \\to 0^+}\\left(\\frac{\\cos{\\left (x \\right )} - 1}{x}\\right)$$",
            "text/plain": [
              "     ⎛cos(x) - 1⎞\n",
              " lim ⎜──────────⎟\n",
              "x─→0⁺⎝    x     ⎠"
            ]
          },
          "metadata": {
            "tags": []
          },
          "execution_count": 41
        }
      ]
    },
    {
      "cell_type": "code",
      "metadata": {
        "id": "w35MW4oCrpJI",
        "colab_type": "code",
        "colab": {},
        "outputId": "9f3e6563-41ba-4a8b-dcec-f7a45d2825bc"
      },
      "source": [
        "expr.doit()"
      ],
      "execution_count": null,
      "outputs": [
        {
          "output_type": "execute_result",
          "data": {
            "image/png": "[encoded data removed]",
            "text/latex": "$$0$$",
            "text/plain": [
              "0"
            ]
          },
          "metadata": {
            "tags": []
          },
          "execution_count": 42
        }
      ]
    },
    {
      "cell_type": "code",
      "metadata": {
        "id": "cppZaZnqrpJM",
        "colab_type": "code",
        "colab": {},
        "outputId": "8338d345-1c79-450a-d524-28980923ff54"
      },
      "source": [
        "limit(1/x,x,0,'+')"
      ],
      "execution_count": null,
      "outputs": [
        {
          "output_type": "execute_result",
          "data": {
            "image/png": "[encoded data removed]",
            "text/latex": "$$\\infty$$",
            "text/plain": [
              "∞"
            ]
          },
          "metadata": {
            "tags": []
          },
          "execution_count": 43
        }
      ]
    },
    {
      "cell_type": "code",
      "metadata": {
        "id": "NsDXF5ujrpJQ",
        "colab_type": "code",
        "colab": {},
        "outputId": "4dfcd98c-edbc-4ab9-d654-5ddd8afa3542"
      },
      "source": [
        "limit(1/x,x,0,'-')"
      ],
      "execution_count": null,
      "outputs": [
        {
          "output_type": "execute_result",
          "data": {
            "image/png": "[encoded data removed]",
            "text/latex": "$$-\\infty$$",
            "text/plain": [
              "-∞"
            ]
          },
          "metadata": {
            "tags": []
          },
          "execution_count": 44
        }
      ]
    },
    {
      "cell_type": "markdown",
      "metadata": {
        "id": "1AMvlv8XrpJU",
        "colab_type": "text"
      },
      "source": [
        "# series expansion 数列展開\n",
        "\n",
        "asymptotic series -> 漸近数列\n",
        "\n",
        "`SymPy`はある点における関数の漸近数列を計算できる。\n",
        "\n",
        "点`x=x0`の近辺でタームズ・オブ・オーダーを `xn`とする関数 `f(x)` について、`f(x).serries(x, x0, n)` を使う。 `x0` と `n` は省略可能で、その場合 `x0=0`、 `n=6` が使われる。\n",
        "\n",
        "SymPy can compute asymptotic series expansions of functions around a point. To compute the expansion of f(x) around the point x=x0 terms of order xn, use f(x).series(x, x0, n). x0 and n can be omitted, in which case the defaults x0=0 and n=6 will be used."
      ]
    },
    {
      "cell_type": "code",
      "metadata": {
        "id": "Ea9yRDCsrpJV",
        "colab_type": "code",
        "colab": {},
        "outputId": "5c622959-a68f-464b-a31d-ff2c65c18146"
      },
      "source": [
        "expr = exp(sin(x))\n",
        "expr.series(x, 0, 4)"
      ],
      "execution_count": null,
      "outputs": [
        {
          "output_type": "execute_result",
          "data": {
            "image/png": "[encoded data removed]",
            "text/latex": "$$1 + x + \\frac{x^{2}}{2} + O\\left(x^{4}\\right)$$",
            "text/plain": [
              "         2        \n",
              "        x     ⎛ 4⎞\n",
              "1 + x + ── + O⎝x ⎠\n",
              "        2         "
            ]
          },
          "metadata": {
            "tags": []
          },
          "execution_count": 47
        }
      ]
    },
    {
      "cell_type": "markdown",
      "metadata": {
        "id": "qDXAsebFrpJY",
        "colab_type": "text"
      },
      "source": [
        "#  Landau order ランダウ・オーダー\n",
        "\n",
        "終点における $ O(x^4) $ タームは $x=0$ におけるランダウ・ターム・オーダーをあらwしている。コンピューターサイエンスにおけるビッグオー記法と一緒にしてはいけない。ビッグオーは一般的に `x=∞` におけるランダウ・ターム・オーダーを表す。  \n",
        " $ O(x^4) $ タームは `x4` もしくはそれ以上の冪乗の `x` タームは無視するという意味で、オーダー・タームは数列の外で作られ、操作される。高次のタームは自動的に吸収される。\n",
        "\n",
        "\n",
        "\n",
        "\n",
        "The $ O(x^4) $ term at the end represents the Landau order term at $x=0$ (not to be confused with big O notation used in computer science, which generally represents the Landau order term at x=∞). It means that all x terms with power greater than or equal to x4 are omitted. Order terms can be created and manipulated outside of series. They automatically absorb higher order terms.\n"
      ]
    },
    {
      "cell_type": "code",
      "metadata": {
        "id": "1-4X-4s6rpJZ",
        "colab_type": "code",
        "colab": {},
        "outputId": "e37a767a-8547-4087-e07e-8f6b7fa041a8"
      },
      "source": [
        "x + x**3 + x**6 + O(x**4)"
      ],
      "execution_count": null,
      "outputs": [
        {
          "output_type": "execute_result",
          "data": {
            "image/png": "[encoded data removed]",
            "text/latex": "$$x + x^{3} + O\\left(x^{4}\\right)$$",
            "text/plain": [
              "     3    ⎛ 4⎞\n",
              "x + x  + O⎝x ⎠"
            ]
          },
          "metadata": {
            "tags": []
          },
          "execution_count": 48
        }
      ]
    },
    {
      "cell_type": "code",
      "metadata": {
        "id": "U9ID5a_brpJc",
        "colab_type": "code",
        "colab": {},
        "outputId": "7d2082b8-fb5c-4075-c0ce-63bba7d844d5"
      },
      "source": [
        "x*O(1)"
      ],
      "execution_count": null,
      "outputs": [
        {
          "output_type": "execute_result",
          "data": {
            "image/png": "[encoded data removed]",
            "text/latex": "$$O\\left(x\\right)$$",
            "text/plain": [
              "O(x)"
            ]
          },
          "metadata": {
            "tags": []
          },
          "execution_count": 49
        }
      ]
    },
    {
      "cell_type": "code",
      "metadata": {
        "id": "Ew8BEscYrpJf",
        "colab_type": "code",
        "colab": {},
        "outputId": "1fcc544b-bbb1-418e-fb26-d223683ae3a7"
      },
      "source": [
        "expr.series(x,0,4).removeO()"
      ],
      "execution_count": null,
      "outputs": [
        {
          "output_type": "execute_result",
          "data": {
            "image/png": "[encoded data removed]",
            "text/latex": "$$\\frac{x^{2}}{2} + x + 1$$",
            "text/plain": [
              " 2        \n",
              "x         \n",
              "── + x + 1\n",
              "2         "
            ]
          },
          "metadata": {
            "tags": []
          },
          "execution_count": 51
        }
      ]
    },
    {
      "cell_type": "markdown",
      "metadata": {
        "id": "Qojd-ifLrpJk",
        "colab_type": "text"
      },
      "source": [
        "### オー記法は、ゼロ以外の任意の極限点をサポートする\n",
        "\n",
        "The O notation supports arbitrary limit points (other than 0):"
      ]
    },
    {
      "cell_type": "code",
      "metadata": {
        "id": "AwxUT_iirpJl",
        "colab_type": "code",
        "colab": {},
        "outputId": "57495e3b-3f85-47c9-c1f7-a80f3a41b115"
      },
      "source": [
        "exp(x - 6).series(x, x0=6)"
      ],
      "execution_count": null,
      "outputs": [
        {
          "output_type": "execute_result",
          "data": {
            "image/png": "[encoded data removed]",
            "text/latex": "$$-5 + \\frac{\\left(x - 6\\right)^{2}}{2} + \\frac{\\left(x - 6\\right)^{3}}{6} + \\frac{\\left(x - 6\\right)^{4}}{24} + \\frac{\\left(x - 6\\right)^{5}}{120} + x + O\\left(\\left(x - 6\\right)^{6}; x\\rightarrow 6\\right)$$",
            "text/plain": [
              "            2          3          4          5                         \n",
              "     (x - 6)    (x - 6)    (x - 6)    (x - 6)         ⎛       6       ⎞\n",
              "-5 + ──────── + ──────── + ──────── + ──────── + x + O⎝(x - 6) ; x → 6⎠\n",
              "        2          6          24        120                            "
            ]
          },
          "metadata": {
            "tags": []
          },
          "execution_count": 52
        }
      ]
    },
    {
      "cell_type": "markdown",
      "metadata": {
        "id": "DnEo05ZQrpJp",
        "colab_type": "text"
      },
      "source": [
        "# Finite differences 有限差分\n",
        "\n",
        "以上見てきたのは解析微分 `analytic derivative` と原始関数 `primitive function` であったが、閉鎖的な表現を持たない曲線の微分をしたいときにはどうするか。また、そもそも関数的な値を持っていない場合はどうするか。\n",
        "\n",
        "そういう場合のアプローチのひとつが有限差分アプローチである。\n",
        "\n",
        "有限差分を使用して微分する最も簡単な方法は、`differentiate_finite` 関数を使う。\n"
      ]
    },
    {
      "cell_type": "code",
      "metadata": {
        "id": "4gdLSi0yrpJq",
        "colab_type": "code",
        "colab": {},
        "outputId": "876c74aa-7295-4740-e4c3-b8bf38c055ce"
      },
      "source": [
        "f, g = symbols('f g', cls=Function)\n",
        "differentiate_finite(f(x)*g(x))"
      ],
      "execution_count": null,
      "outputs": [
        {
          "output_type": "execute_result",
          "data": {
            "image/png": "[encoded data removed]",
            "text/latex": "$$- f{\\left (x - \\frac{1}{2} \\right )} g{\\left (x - \\frac{1}{2} \\right )} + f{\\left (x + \\frac{1}{2} \\right )} g{\\left (x + \\frac{1}{2} \\right )}$$",
            "text/plain": [
              "-f(x - 1/2)⋅g(x - 1/2) + f(x + 1/2)⋅g(x + 1/2)"
            ]
          },
          "metadata": {
            "tags": []
          },
          "execution_count": 53
        }
      ]
    },
    {
      "cell_type": "markdown",
      "metadata": {
        "id": "EYpbJOQarpJt",
        "colab_type": "text"
      },
      "source": [
        "中間導関数を拡張する場合は、フラグevaluate = Trueを渡す。\n"
      ]
    },
    {
      "cell_type": "code",
      "metadata": {
        "id": "YP7-e94arpJt",
        "colab_type": "code",
        "colab": {},
        "outputId": "fd432b02-9dae-4b3b-8b97-fd65022d0d5c"
      },
      "source": [
        "differentiate_finite(f(x)*g(x), evaluate=True)"
      ],
      "execution_count": null,
      "outputs": [
        {
          "output_type": "execute_result",
          "data": {
            "image/png": "[encoded data removed]",
            "text/latex": "$$\\left(- f{\\left (x - \\frac{1}{2} \\right )} + f{\\left (x + \\frac{1}{2} \\right )}\\right) g{\\left (x \\right )} + \\left(- g{\\left (x - \\frac{1}{2} \\right )} + g{\\left (x + \\frac{1}{2} \\right )}\\right) f{\\left (x \\right )}$$",
            "text/plain": [
              "(-f(x - 1/2) + f(x + 1/2))⋅g(x) + (-g(x - 1/2) + g(x + 1/2))⋅f(x)"
            ]
          },
          "metadata": {
            "tags": []
          },
          "execution_count": 54
        }
      ]
    },
    {
      "cell_type": "markdown",
      "metadata": {
        "id": "qZzM6DagrpJw",
        "colab_type": "text"
      },
      "source": [
        "ただし、このフォームは `product` ルールを無視する。\n",
        "\n",
        "すでに導関数インスタンスがある場合は、as_finite_differenceメソッドを使用して、導関数の任意のオーダーの近似を生成できる。\n"
      ]
    },
    {
      "cell_type": "code",
      "metadata": {
        "id": "OriuPYv2rpJx",
        "colab_type": "code",
        "colab": {},
        "outputId": "a6196c18-0452-466f-d79e-4c0f6fb0486c"
      },
      "source": [
        "f = Function('f')\n",
        "dfdx =f(x).diff(x)\n",
        "dfdx.as_finite_difference()"
      ],
      "execution_count": null,
      "outputs": [
        {
          "output_type": "execute_result",
          "data": {
            "image/png": "[encoded data removed]",
            "text/latex": "$$- f{\\left (x - \\frac{1}{2} \\right )} + f{\\left (x + \\frac{1}{2} \\right )}$$",
            "text/plain": [
              "-f(x - 1/2) + f(x + 1/2)"
            ]
          },
          "metadata": {
            "tags": []
          },
          "execution_count": 55
        }
      ]
    },
    {
      "cell_type": "markdown",
      "metadata": {
        "id": "QArMY5uKrpJ0",
        "colab_type": "text"
      },
      "source": [
        "ここで、1次導関数は、ステップサイズ1を使用して等距離で評価された最小数の点（1次導関数の場合は2）を使用してxの周りで近似された。\n",
        "\n",
        "記号式を含む任意のステップを使用できる。"
      ]
    },
    {
      "cell_type": "code",
      "metadata": {
        "id": "jgbiGQ9krpJ1",
        "colab_type": "code",
        "colab": {},
        "outputId": "e3b56fa6-5dad-4553-b9f1-2b257f95cbb0"
      },
      "source": [
        "f = Function('f')\n",
        "dfdx2 =f(x).diff(x, 2)\n",
        "h = Symbol('h')\n",
        "dfdx2.as_finite_difference([-3*h, -h, 2*h])"
      ],
      "execution_count": null,
      "outputs": [
        {
          "output_type": "execute_result",
          "data": {
            "image/png": "[encoded data removed]",
            "text/latex": "$$\\frac{f{\\left (- 3 h \\right )}}{5 h^{2}} - \\frac{f{\\left (- h \\right )}}{3 h^{2}} + \\frac{2 f{\\left (2 h \\right )}}{15 h^{2}}$$",
            "text/plain": [
              "f(-3⋅h)   f(-h)   2⋅f(2⋅h)\n",
              "─────── - ───── + ────────\n",
              "     2        2        2  \n",
              "  5⋅h      3⋅h     15⋅h   "
            ]
          },
          "metadata": {
            "tags": []
          },
          "execution_count": 57
        }
      ]
    },
    {
      "cell_type": "markdown",
      "metadata": {
        "id": "YPIeGZKBrpJ7",
        "colab_type": "text"
      },
      "source": [
        "重みの評価だけに関心がある場合は、手動で行うこともできる。"
      ]
    },
    {
      "cell_type": "code",
      "metadata": {
        "id": "5v39qoK_rpJ7",
        "colab_type": "code",
        "colab": {},
        "outputId": "e28a4d45-f11f-4a83-dcfa-8d8c6eaaf42c"
      },
      "source": [
        "finite_diff_weights(2, [-3,-1,2], 0)[-1][-1]"
      ],
      "execution_count": null,
      "outputs": [
        {
          "output_type": "execute_result",
          "data": {
            "image/png": "[encoded data removed]",
            "text/latex": "$$\\left [ \\frac{1}{5}, \\quad - \\frac{1}{3}, \\quad \\frac{2}{15}\\right ]$$",
            "text/plain": [
              "[1/5, -1/3, 2/15]"
            ]
          },
          "metadata": {
            "tags": []
          },
          "execution_count": 58
        }
      ]
    },
    {
      "cell_type": "markdown",
      "metadata": {
        "id": "xG1Ey5suvplb",
        "colab_type": "text"
      },
      "source": [
        "# いまここ"
      ]
    },
    {
      "cell_type": "markdown",
      "metadata": {
        "id": "NUHB_iZSrpJ-",
        "colab_type": "text"
      },
      "source": [
        "\n",
        "\n",
        "note that we only need the last element in the last sublist returned from finite_diff_weights. The reason for this is that the function also generates weights for lower derivatives and using fewer points (see the documentation of finite_diff_weights for more details).\n",
        "\n",
        "If using finite_diff_weights directly looks complicated, and the as_finite_difference method of Derivative instances is not flexible enough, you can use apply_finite_diff which takes order, x_list, y_list and x0 as parameters:"
      ]
    },
    {
      "cell_type": "code",
      "metadata": {
        "id": "ftrZsv1WrpJ_",
        "colab_type": "code",
        "colab": {},
        "outputId": "ae7069ef-03c8-42d9-dec1-8cae018fc9df"
      },
      "source": [
        "x_list = [-3, 1, 2]\n",
        "y_list = symbols('a b c')\n",
        "apply_finite_diff(1, x_list, y_list, 0)"
      ],
      "execution_count": null,
      "outputs": [
        {
          "output_type": "execute_result",
          "data": {
            "image/png": "[encoded data removed]",
            "text/latex": "$$- \\frac{3 a}{20} - \\frac{b}{4} + \\frac{2 c}{5}$$",
            "text/plain": [
              "  3⋅a   b   2⋅c\n",
              "- ─── - ─ + ───\n",
              "   20   4    5 "
            ]
          },
          "metadata": {
            "tags": []
          },
          "execution_count": 60
        }
      ]
    },
    {
      "cell_type": "code",
      "metadata": {
        "id": "-cTveBxHrpKF",
        "colab_type": "code",
        "colab": {}
      },
      "source": [
        ""
      ],
      "execution_count": null,
      "outputs": []
    },
    {
      "cell_type": "markdown",
      "metadata": {
        "id": "HT9CFxIUrpKI",
        "colab_type": "text"
      },
      "source": [
        "###### next solvers"
      ]
    },
    {
      "cell_type": "code",
      "metadata": {
        "id": "_cpVXWs_rpKJ",
        "colab_type": "code",
        "colab": {},
        "outputId": "a7148ef4-d0ca-4b32-ccfd-6bb5a2b3f748"
      },
      "source": [
        "from sympy import *\n",
        "x, y, z = symbols('x y z')\n",
        "init_printing()\n",
        "\n",
        "Eq(x , y)"
      ],
      "execution_count": null,
      "outputs": [
        {
          "output_type": "execute_result",
          "data": {
            "image/png": "[encoded data removed]",
            "text/latex": "$$x = y$$",
            "text/plain": [
              "x = y"
            ]
          },
          "metadata": {
            "tags": []
          },
          "execution_count": 61
        }
      ]
    },
    {
      "cell_type": "code",
      "metadata": {
        "id": "96r2EqhjrpKM",
        "colab_type": "code",
        "colab": {},
        "outputId": "fb41a057-6cb3-40f0-beb6-364540f823e8"
      },
      "source": [
        "solveset(Eq(x**2, 1))"
      ],
      "execution_count": null,
      "outputs": [
        {
          "output_type": "execute_result",
          "data": {
            "image/png": "[encoded data removed]",
            "text/latex": "$$\\left\\{-1, 1\\right\\}$$",
            "text/plain": [
              "{-1, 1}"
            ]
          },
          "metadata": {
            "tags": []
          },
          "execution_count": 62
        }
      ]
    },
    {
      "cell_type": "code",
      "metadata": {
        "id": "FTwlZAwqrpKR",
        "colab_type": "code",
        "colab": {},
        "outputId": "5f0ea456-7cd3-414c-f32c-4ded28858668"
      },
      "source": [
        "solveset(Eq(x**2 -1, 0))"
      ],
      "execution_count": null,
      "outputs": [
        {
          "output_type": "execute_result",
          "data": {
            "image/png": "[encoded data removed]",
            "text/latex": "$$\\left\\{-1, 1\\right\\}$$",
            "text/plain": [
              "{-1, 1}"
            ]
          },
          "metadata": {
            "tags": []
          },
          "execution_count": 63
        }
      ]
    },
    {
      "cell_type": "code",
      "metadata": {
        "id": "gw1eUCb2rpKU",
        "colab_type": "code",
        "colab": {},
        "outputId": "572c7a74-07ef-4457-d66b-fef949d6212f"
      },
      "source": [
        "solveset(x**2 -1)"
      ],
      "execution_count": null,
      "outputs": [
        {
          "output_type": "execute_result",
          "data": {
            "image/png": "[encoded data removed]",
            "text/latex": "$$\\left\\{-1, 1\\right\\}$$",
            "text/plain": [
              "{-1, 1}"
            ]
          },
          "metadata": {
            "tags": []
          },
          "execution_count": 64
        }
      ]
    },
    {
      "cell_type": "markdown",
      "metadata": {
        "id": "Pb77rXNsrpKX",
        "colab_type": "text"
      },
      "source": [
        "###### solving equations algebraically\n",
        "solveset(eqation, variable=None, domain=S.Complexes)\n",
        "\n",
        "use solveset instead of solve(equations, variables)\n",
        "\n",
        "When solving a single equation, the output of solveset is a FiniteSet or an Interval or ImageSet of the solutions."
      ]
    },
    {
      "cell_type": "code",
      "metadata": {
        "id": "9DGMnbymrpKX",
        "colab_type": "code",
        "colab": {},
        "outputId": "05103cbb-44bc-4a0a-abfa-8e90ca10520e"
      },
      "source": [
        "solveset(x**2 - x, x)"
      ],
      "execution_count": null,
      "outputs": [
        {
          "output_type": "execute_result",
          "data": {
            "image/png": "[encoded data removed]",
            "text/latex": "$$\\left\\{0, 1\\right\\}$$",
            "text/plain": [
              "{0, 1}"
            ]
          },
          "metadata": {
            "tags": []
          },
          "execution_count": 66
        }
      ]
    },
    {
      "cell_type": "code",
      "metadata": {
        "id": "Xp5aknLOrpKa",
        "colab_type": "code",
        "colab": {},
        "outputId": "932d8102-3f88-4cb5-d273-796865ce61e7"
      },
      "source": [
        "solveset(x - x, x , domain=S.Reals)"
      ],
      "execution_count": null,
      "outputs": [
        {
          "output_type": "execute_result",
          "data": {
            "image/png": "[encoded data removed]",
            "text/latex": "$$\\mathbb{R}$$",
            "text/plain": [
              "ℝ"
            ]
          },
          "metadata": {
            "tags": []
          },
          "execution_count": 67
        }
      ]
    },
    {
      "cell_type": "code",
      "metadata": {
        "id": "3jYTfd0zrpKe",
        "colab_type": "code",
        "colab": {},
        "outputId": "c3cbbb00-b3d1-43a0-ded7-aabc2008c33e"
      },
      "source": [
        "solveset(sin(x) - 1, x, domain=S.Reals)"
      ],
      "execution_count": null,
      "outputs": [
        {
          "output_type": "execute_result",
          "data": {
            "image/png": "[encoded data removed]",
            "text/latex": "$$\\left\\{2 n \\pi + \\frac{\\pi}{2}\\; |\\; n \\in \\mathbb{Z}\\right\\}$$",
            "text/plain": [
              "⎧        π        ⎫\n",
              "⎨2⋅n⋅π + ─ | n ∊ ℤ⎬\n",
              "⎩        2        ⎭"
            ]
          },
          "metadata": {
            "tags": []
          },
          "execution_count": 68
        }
      ]
    },
    {
      "cell_type": "code",
      "metadata": {
        "id": "i9GscUk5rpKh",
        "colab_type": "code",
        "colab": {},
        "outputId": "b77026fe-ac30-4e95-931a-35a8d6fc85f5"
      },
      "source": [
        "solveset(exp(x),x) # No solution exists -> EmptySet"
      ],
      "execution_count": null,
      "outputs": [
        {
          "output_type": "execute_result",
          "data": {
            "image/png": "[encoded data removed]",
            "text/latex": "$$\\emptyset$$",
            "text/plain": [
              "∅"
            ]
          },
          "metadata": {
            "tags": []
          },
          "execution_count": 69
        }
      ]
    },
    {
      "cell_type": "code",
      "metadata": {
        "id": "mPHLhV9jrpKl",
        "colab_type": "code",
        "colab": {},
        "outputId": "d4dbb14c-c22c-4965-89c1-a76e342534e9"
      },
      "source": [
        "solveset(cos(x) -x, x) # Not able to find solution -> ConditonSet"
      ],
      "execution_count": null,
      "outputs": [
        {
          "output_type": "execute_result",
          "data": {
            "image/png": "[encoded data removed]",
            "text/latex": "$$\\left\\{x \\mid x \\in \\mathbb{C} \\wedge - x + \\cos{\\left (x \\right )} = 0 \\right\\}$$",
            "text/plain": [
              "{x | x ∊ ℂ ∧ -x + cos(x) = 0}"
            ]
          },
          "metadata": {
            "tags": []
          },
          "execution_count": 70
        }
      ]
    },
    {
      "cell_type": "markdown",
      "metadata": {
        "id": "IxBS05NjrpKo",
        "colab_type": "text"
      },
      "source": [
        "###### linear equations\n",
        "linsolve"
      ]
    },
    {
      "cell_type": "code",
      "metadata": {
        "id": "s8UIfPsFrpKo",
        "colab_type": "code",
        "colab": {},
        "outputId": "760a2c8d-e5fa-4d61-b85a-4dab33a9dcd2"
      },
      "source": [
        "linsolve([x+y+z-1, x+y+2*z-3],(x,y,z))"
      ],
      "execution_count": null,
      "outputs": [
        {
          "output_type": "execute_result",
          "data": {
            "image/png": "[encoded data removed]",
            "text/latex": "$$\\left\\{\\left ( - y - 1, \\quad y, \\quad 2\\right )\\right\\}$$",
            "text/plain": [
              "{(-y - 1, y, 2)}"
            ]
          },
          "metadata": {
            "tags": []
          },
          "execution_count": 71
        }
      ]
    },
    {
      "cell_type": "code",
      "metadata": {
        "id": "UeSZmb1mrpKr",
        "colab_type": "code",
        "colab": {},
        "outputId": "e9aa7aca-d409-402e-9adc-d9055a2f537e"
      },
      "source": [
        "from sympy import *\n",
        "x, y, z = symbols('x y z')\n",
        "init_printing()\n",
        "linsolve(Matrix(([1,1,1,1],[1,1,2,3])),(x,y,z))"
      ],
      "execution_count": null,
      "outputs": [
        {
          "output_type": "execute_result",
          "data": {
            "image/png": "[encoded data removed]",
            "text/latex": "$$\\left\\{\\left ( - y - 1, \\quad y, \\quad 2\\right )\\right\\}$$",
            "text/plain": [
              "{(-y - 1, y, 2)}"
            ]
          },
          "metadata": {
            "tags": []
          },
          "execution_count": 4
        }
      ]
    },
    {
      "cell_type": "code",
      "metadata": {
        "id": "lx0sltnTrpKt",
        "colab_type": "code",
        "colab": {},
        "outputId": "a749c30f-cc7a-487c-d018-898e952ebb6e"
      },
      "source": [
        "# A*x = b Form\n",
        "M = Matrix(((1,1,1,1),(1,1,2,3)))\n",
        "system = A, b = M[:, :-1], M[:, -1]\n",
        "linsolve(system, x, y, z)"
      ],
      "execution_count": null,
      "outputs": [
        {
          "output_type": "execute_result",
          "data": {
            "image/png": "[encoded data removed]",
            "text/latex": "$$\\left\\{\\left ( - y - 1, \\quad y, \\quad 2\\right )\\right\\}$$",
            "text/plain": [
              "{(-y - 1, y, 2)}"
            ]
          },
          "metadata": {
            "tags": []
          },
          "execution_count": 3
        }
      ]
    },
    {
      "cell_type": "markdown",
      "metadata": {
        "id": "Qq5t6xOgrpKv",
        "colab_type": "text"
      },
      "source": [
        "###### nonlinsolve\n",
        "In the solveset module, the non linear system of equations is solved using nonlinsolve. Following are examples of nonlinsolve."
      ]
    },
    {
      "cell_type": "code",
      "metadata": {
        "id": "ItIeQpKarpKw",
        "colab_type": "code",
        "colab": {}
      },
      "source": [
        "# when only real solution is present\n",
        "from sympy import*\n",
        "init_printing()\n",
        "x, y, z = symbols('x y z')\n",
        "a,b,c,d = symbols('a b c d', real=True)"
      ],
      "execution_count": null,
      "outputs": []
    },
    {
      "cell_type": "code",
      "metadata": {
        "id": "xZIHkVazrpKz",
        "colab_type": "code",
        "colab": {},
        "outputId": "1443c0af-47eb-423e-fc48-3595d3457c58"
      },
      "source": [
        "nonlinsolve([a**2 + a, a - b], [a, b])"
      ],
      "execution_count": null,
      "outputs": [
        {
          "output_type": "execute_result",
          "data": {
            "image/png": "[encoded data removed]",
            "text/latex": "$$\\left\\{\\left ( -1, \\quad -1\\right ), \\left ( 0, \\quad 0\\right )\\right\\}$$",
            "text/plain": [
              "{(-1, -1), (0, 0)}"
            ]
          },
          "metadata": {
            "tags": []
          },
          "execution_count": 6
        }
      ]
    },
    {
      "cell_type": "code",
      "metadata": {
        "id": "Jg_mD9aCrpK2",
        "colab_type": "code",
        "colab": {},
        "outputId": "fde89f44-409b-4a54-c21b-87d9f11b4124"
      },
      "source": [
        "nonlinsolve([x*y - 1, x - 2], x, y)"
      ],
      "execution_count": null,
      "outputs": [
        {
          "output_type": "execute_result",
          "data": {
            "image/png": "[encoded data removed]",
            "text/latex": "$$\\left\\{\\left ( 2, \\quad \\frac{1}{2}\\right )\\right\\}$$",
            "text/plain": [
              "{(2, 1/2)}"
            ]
          },
          "metadata": {
            "tags": []
          },
          "execution_count": 9
        }
      ]
    },
    {
      "cell_type": "code",
      "metadata": {
        "id": "PuhELy1HrpK4",
        "colab_type": "code",
        "colab": {},
        "outputId": "005ad617-6ecf-432b-e0dc-320ec79c7f2f"
      },
      "source": [
        "# when only complex solution is present\n",
        "nonlinsolve([x**2 + 1, y**2 + 1], [x, y])"
      ],
      "execution_count": null,
      "outputs": [
        {
          "output_type": "execute_result",
          "data": {
            "image/png": "[encoded data removed]",
            "text/latex": "$$\\left\\{\\left ( - i, \\quad - i\\right ), \\left ( - i, \\quad i\\right ), \\left ( i, \\quad - i\\right ), \\left ( i, \\quad i\\right )\\right\\}$$",
            "text/plain": [
              "{(-ⅈ, -ⅈ), (-ⅈ, ⅈ), (ⅈ, -ⅈ), (ⅈ, ⅈ)}"
            ]
          },
          "metadata": {
            "tags": []
          },
          "execution_count": 10
        }
      ]
    },
    {
      "cell_type": "code",
      "metadata": {
        "id": "JuydR4NArpK8",
        "colab_type": "code",
        "colab": {},
        "outputId": "aa797162-63ea-427d-df90-7df527d64e3c"
      },
      "source": [
        "# when both real and complex solution is present\n",
        "from sympy import sqrt\n",
        "system = [x**2 - 2*y**2 - 2, x*y - 2]\n",
        "vars = [x, y]\n",
        "nonlinsolve(system, vars)"
      ],
      "execution_count": null,
      "outputs": [
        {
          "output_type": "execute_result",
          "data": {
            "image/png": "[encoded data removed]",
            "text/latex": "$$\\left\\{\\left ( -2, \\quad -1\\right ), \\left ( 2, \\quad 1\\right ), \\left ( - \\sqrt{2} i, \\quad \\sqrt{2} i\\right ), \\left ( \\sqrt{2} i, \\quad - \\sqrt{2} i\\right )\\right\\}$$",
            "text/plain": [
              "{(-2, -1), (2, 1), (-√2⋅ⅈ, √2⋅ⅈ), (√2⋅ⅈ, -√2⋅ⅈ)}"
            ]
          },
          "metadata": {
            "tags": []
          },
          "execution_count": 11
        }
      ]
    },
    {
      "cell_type": "code",
      "metadata": {
        "id": "Ti5BV65CrpK_",
        "colab_type": "code",
        "colab": {},
        "outputId": "65b5de44-fdf1-4284-84c5-a3744e825592"
      },
      "source": [
        "n = Dummy('n')\n",
        "system = [exp(x) - sin(y), 1/y - 3]\n",
        "real_soln = (log(sin(S(1)/3)), S(1)/3)\n",
        "img_lamda = Lambda(n, 2*n*I*pi + Mod(log(sin(S(1)/3)), 2*I*pi))\n",
        "complex_soln = (ImageSet(img_lamda, S.Integers), S(1)/3)\n",
        "soln = FiniteSet(real_soln, complex_soln)\n",
        "nonlinsolve(system,[x,y]) == soln"
      ],
      "execution_count": null,
      "outputs": [
        {
          "output_type": "execute_result",
          "data": {
            "text/plain": [
              "True"
            ]
          },
          "metadata": {
            "tags": []
          },
          "execution_count": 16
        }
      ]
    },
    {
      "cell_type": "code",
      "metadata": {
        "id": "RdZRGKf7rpLC",
        "colab_type": "code",
        "colab": {},
        "outputId": "ef31ac2a-baff-48ed-a70f-ae73923e1c71"
      },
      "source": [
        "real_soln"
      ],
      "execution_count": null,
      "outputs": [
        {
          "output_type": "execute_result",
          "data": {
            "image/png": "[encoded data removed]",
            "text/latex": "$$\\left ( \\log{\\left (\\sin{\\left (\\frac{1}{3} \\right )} \\right )}, \\quad \\frac{1}{3}\\right )$$",
            "text/plain": [
              "(log(sin(1/3)), 1/3)"
            ]
          },
          "metadata": {
            "tags": []
          },
          "execution_count": 17
        }
      ]
    },
    {
      "cell_type": "code",
      "metadata": {
        "id": "VP0troIhrpLE",
        "colab_type": "code",
        "colab": {},
        "outputId": "15e90460-2e63-4ea6-dbb7-24fba4a0947c"
      },
      "source": [
        "complex_soln"
      ],
      "execution_count": null,
      "outputs": [
        {
          "output_type": "execute_result",
          "data": {
            "image/png": "[encoded data removed]",
            "text/latex": "$$\\left ( \\left\\{2 n i \\pi + \\left(\\log{\\left (\\sin{\\left (\\frac{1}{3} \\right )} \\right )}\\bmod{2 i \\pi}\\right)\\; |\\; n \\in \\mathbb{Z}\\right\\}, \\quad \\frac{1}{3}\\right )$$",
            "text/plain": [
              "({2⋅n⋅ⅈ⋅π + (log(sin(1/3)) mod 2⋅ⅈ⋅π) | n ∊ ℤ}, 1/3)"
            ]
          },
          "metadata": {
            "tags": []
          },
          "execution_count": 18
        }
      ]
    },
    {
      "cell_type": "markdown",
      "metadata": {
        "id": "dX18yLrErpLH",
        "colab_type": "text"
      },
      "source": [
        "###### if non linear system of equtions is Positive\n",
        "If non linear system of equations is Positive dimensional system (A system with infinitely many solutions is said to be positive-dimensional):"
      ]
    },
    {
      "cell_type": "code",
      "metadata": {
        "id": "jtIUapzcrpLH",
        "colab_type": "code",
        "colab": {},
        "outputId": "953ba3ea-8f5a-413f-d902-be2519db2a46"
      },
      "source": [
        "nonlinsolve([x*y, x*y - x],[x, y])"
      ],
      "execution_count": null,
      "outputs": [
        {
          "output_type": "execute_result",
          "data": {
            "image/png": "[encoded data removed]",
            "text/latex": "$$\\left\\{\\left ( 0, \\quad y\\right )\\right\\}$$",
            "text/plain": [
              "{(0, y)}"
            ]
          },
          "metadata": {
            "tags": []
          },
          "execution_count": 20
        }
      ]
    },
    {
      "cell_type": "code",
      "metadata": {
        "id": "1dUFhLiIrpLK",
        "colab_type": "code",
        "colab": {},
        "outputId": "7097df7d-a3e6-42f7-fcf1-711561a5b336"
      },
      "source": [
        "system = [a**2 + a*c , a - b]\n",
        "nonlinsolve(system , [a, b])"
      ],
      "execution_count": null,
      "outputs": [
        {
          "output_type": "execute_result",
          "data": {
            "image/png": "[encoded data removed]",
            "text/latex": "$$\\left\\{\\left ( 0, \\quad 0\\right ), \\left ( - c, \\quad - c\\right )\\right\\}$$",
            "text/plain": [
              "{(0, 0), (-c, -c)}"
            ]
          },
          "metadata": {
            "tags": []
          },
          "execution_count": 21
        }
      ]
    },
    {
      "cell_type": "markdown",
      "metadata": {
        "id": "wLzz9VUIrpLO",
        "colab_type": "text"
      },
      "source": [
        "###### note\n",
        "4. The order of solution corresponds the order of given symbols.\n",
        "2. Currently nonlinsolve doesn’t return solution in form of LambertW (if there is solution present in the form of LambertW).\n",
        "\n",
        "solve can be used for such cases:"
      ]
    },
    {
      "cell_type": "code",
      "metadata": {
        "id": "8NT1n7fyrpLP",
        "colab_type": "code",
        "colab": {},
        "outputId": "1df88fae-e0be-43f9-8423-362e5e2d6b25"
      },
      "source": [
        "solve([x**2 - y**2/exp(x)],[x,y], dict=True)"
      ],
      "execution_count": null,
      "outputs": [
        {
          "output_type": "execute_result",
          "data": {
            "image/png": "[encoded data removed]",
            "text/latex": "$$\\left [ \\left \\{ x : 2 \\operatorname{LambertW}{\\left (\\frac{y}{2} \\right )}\\right \\}\\right ]$$",
            "text/plain": [
              "⎡⎧             ⎛y⎞⎫⎤\n",
              "⎢⎨x: 2⋅LambertW⎜─⎟⎬⎥\n",
              "⎣⎩             ⎝2⎠⎭⎦"
            ]
          },
          "metadata": {
            "tags": []
          },
          "execution_count": 23
        }
      ]
    },
    {
      "cell_type": "markdown",
      "metadata": {
        "id": "veadI2burpLR",
        "colab_type": "text"
      },
      "source": [
        "######  note\n",
        "Currently nonlinsolve is not properly capable of solving the system of equations having trigonometric functions.\n",
        "\n",
        "solve can be used for such cases(not all solution):"
      ]
    },
    {
      "cell_type": "code",
      "metadata": {
        "id": "O691AE0yrpLS",
        "colab_type": "code",
        "colab": {},
        "outputId": "20f02add-18cb-4818-85c3-4f836353c85b"
      },
      "source": [
        "solve([sin(x+y), cos(x-y)], [x,y])"
      ],
      "execution_count": null,
      "outputs": [
        {
          "output_type": "execute_result",
          "data": {
            "image/png": "[encoded data removed]",
            "text/latex": "$$\\left [ \\left ( - \\frac{3 \\pi}{4}, \\quad \\frac{3 \\pi}{4}\\right ), \\quad \\left ( - \\frac{\\pi}{4}, \\quad \\frac{\\pi}{4}\\right ), \\quad \\left ( \\frac{\\pi}{4}, \\quad \\frac{3 \\pi}{4}\\right ), \\quad \\left ( \\frac{3 \\pi}{4}, \\quad \\frac{\\pi}{4}\\right )\\right ]$$",
            "text/plain": [
              "⎡⎛-3⋅π   3⋅π⎞  ⎛-π   π⎞  ⎛π  3⋅π⎞  ⎛3⋅π  π⎞⎤\n",
              "⎢⎜─────, ───⎟, ⎜───, ─⎟, ⎜─, ───⎟, ⎜───, ─⎟⎥\n",
              "⎣⎝  4     4 ⎠  ⎝ 4   4⎠  ⎝4   4 ⎠  ⎝ 4   4⎠⎦"
            ]
          },
          "metadata": {
            "tags": []
          },
          "execution_count": 24
        }
      ]
    },
    {
      "cell_type": "markdown",
      "metadata": {
        "id": "vc6O2E0arpLU",
        "colab_type": "text"
      },
      "source": [
        "###### mulitplicity case\n",
        "solveset reports each solution only once. To get the solutions of a polynomial including multiplicity use roots."
      ]
    },
    {
      "cell_type": "code",
      "metadata": {
        "id": "vb0md2rnrpLV",
        "colab_type": "code",
        "colab": {},
        "outputId": "495f5798-7343-4143-f7b1-b1121d815a02"
      },
      "source": [
        "solveset(x**3 - 6*x**2 + 9*x, x)"
      ],
      "execution_count": null,
      "outputs": [
        {
          "output_type": "execute_result",
          "data": {
            "image/png": "[encoded data removed]",
            "text/latex": "$$\\left\\{0, 3\\right\\}$$",
            "text/plain": [
              "{0, 3}"
            ]
          },
          "metadata": {
            "tags": []
          },
          "execution_count": 27
        }
      ]
    },
    {
      "cell_type": "code",
      "metadata": {
        "id": "RZYeB_BArpLY",
        "colab_type": "code",
        "colab": {},
        "outputId": "0ec20850-341b-415f-831a-46185da86894"
      },
      "source": [
        "roots(x**3 - 6*x**2 + 9*x, x)"
      ],
      "execution_count": null,
      "outputs": [
        {
          "output_type": "execute_result",
          "data": {
            "image/png": "[encoded data removed]",
            "text/latex": "$$\\left \\{ 0 : 1, \\quad 3 : 2\\right \\}$$",
            "text/plain": [
              "{0: 1, 3: 2}"
            ]
          },
          "metadata": {
            "tags": []
          },
          "execution_count": 28
        }
      ]
    },
    {
      "cell_type": "markdown",
      "metadata": {
        "id": "3dwPy0eBrpLa",
        "colab_type": "text"
      },
      "source": [
        "###### root of multiplicity\n",
        "The output {0: 1, 3: 2} of roots means that 0 is a root of multiplicity 1 and 3 is a root of multiplicity 2"
      ]
    },
    {
      "cell_type": "markdown",
      "metadata": {
        "id": "fEVbdNA6rpLb",
        "colab_type": "text"
      },
      "source": [
        "###### note\n",
        "Currently solveset is not capable of solving the following types of equations:\n",
        "Equations solvable by LambertW (Transcendental equation solver).\n",
        "solve can be used for such cases:"
      ]
    },
    {
      "cell_type": "code",
      "metadata": {
        "id": "WL6qP7UGrpLc",
        "colab_type": "code",
        "colab": {},
        "outputId": "b2ad6af2-0ba7-4843-f868-b1355ac30880"
      },
      "source": [
        "solve(x*exp(x) - 1, x)"
      ],
      "execution_count": null,
      "outputs": [
        {
          "output_type": "execute_result",
          "data": {
            "image/png": "[encoded data removed]",
            "text/latex": "$$\\left [ \\operatorname{LambertW}{\\left (1 \\right )}\\right ]$$",
            "text/plain": [
              "[LambertW(1)]"
            ]
          },
          "metadata": {
            "tags": []
          },
          "execution_count": 31
        }
      ]
    },
    {
      "cell_type": "markdown",
      "metadata": {
        "id": "O7V6UVFurpLh",
        "colab_type": "text"
      },
      "source": [
        "###### 微分方程式を解く\n",
        "differential equations"
      ]
    },
    {
      "cell_type": "code",
      "metadata": {
        "id": "QnWZByrPrpLi",
        "colab_type": "code",
        "colab": {}
      },
      "source": [
        ""
      ],
      "execution_count": null,
      "outputs": []
    },
    {
      "cell_type": "code",
      "metadata": {
        "id": "RRfGobF8rpLl",
        "colab_type": "code",
        "colab": {}
      },
      "source": [
        "from sympy import*\n",
        "init_printing()\n",
        "x, y, z = symbols('x y z')\n",
        "f, g = symbols('f g' , cls=Function)"
      ],
      "execution_count": null,
      "outputs": []
    },
    {
      "cell_type": "code",
      "metadata": {
        "id": "NKulAUhrrpLo",
        "colab_type": "code",
        "colab": {},
        "outputId": "1c81b4d4-bb3a-4134-ef40-e58d2045d290"
      },
      "source": [
        "f(x)"
      ],
      "execution_count": null,
      "outputs": [
        {
          "output_type": "execute_result",
          "data": {
            "image/png": "[encoded data removed]",
            "text/latex": "$$f{\\left (x \\right )}$$",
            "text/plain": [
              "f(x)"
            ]
          },
          "metadata": {
            "tags": []
          },
          "execution_count": 5
        }
      ]
    },
    {
      "cell_type": "code",
      "metadata": {
        "id": "jAAJ9AgFrpLr",
        "colab_type": "code",
        "colab": {},
        "outputId": "95400e18-ae36-4571-c5cc-aedf6fdee772"
      },
      "source": [
        "f(x).diff(x)"
      ],
      "execution_count": null,
      "outputs": [
        {
          "output_type": "execute_result",
          "data": {
            "image/png": "[encoded data removed]",
            "text/latex": "$$\\frac{d}{d x} f{\\left (x \\right )}$$",
            "text/plain": [
              "d       \n",
              "──(f(x))\n",
              "dx      "
            ]
          },
          "metadata": {
            "tags": []
          },
          "execution_count": 7
        }
      ]
    },
    {
      "cell_type": "markdown",
      "metadata": {
        "id": "ZNRyNczWrpLu",
        "colab_type": "text"
      },
      "source": [
        "To represent the differential equation $f′′(x)−2f′(x)+f(x)=sin(x)$, we would thus use"
      ]
    },
    {
      "cell_type": "code",
      "metadata": {
        "id": "JRMkKhmwrpLu",
        "colab_type": "code",
        "colab": {},
        "outputId": "c2fbef3e-7b19-4e31-a592-7065f358f0eb"
      },
      "source": [
        "diffreq = Eq(f(x).diff(x,x) - 2*f(x).diff(x) + f(x), sin(x))\n",
        "diffreq"
      ],
      "execution_count": null,
      "outputs": [
        {
          "output_type": "execute_result",
          "data": {
            "image/png": "[encoded data removed]",
            "text/latex": "$$f{\\left (x \\right )} - 2 \\frac{d}{d x} f{\\left (x \\right )} + \\frac{d^{2}}{d x^{2}} f{\\left (x \\right )} = \\sin{\\left (x \\right )}$$",
            "text/plain": [
              "                      2               \n",
              "         d           d                \n",
              "f(x) - 2⋅──(f(x)) + ───(f(x)) = sin(x)\n",
              "         dx           2               \n",
              "                    dx                "
            ]
          },
          "metadata": {
            "tags": []
          },
          "execution_count": 9
        }
      ]
    },
    {
      "cell_type": "markdown",
      "metadata": {
        "id": "Xz8TP72zrpLx",
        "colab_type": "text"
      },
      "source": [
        "###### 常微分方程式\n",
        "ordinary differential equation, ODE\n",
        "To solve the ODE, pass it and the function to solve for to dsolve"
      ]
    },
    {
      "cell_type": "code",
      "metadata": {
        "id": "4IoGIn85rpLy",
        "colab_type": "code",
        "colab": {},
        "outputId": "068010dc-a2da-420e-c666-c041ac804bcf"
      },
      "source": [
        "dsolve(diffreq, f(x))"
      ],
      "execution_count": null,
      "outputs": [
        {
          "output_type": "execute_result",
          "data": {
            "image/png": "[encoded data removed]",
            "text/latex": "$$f{\\left (x \\right )} = \\left(C_{1} + C_{2} x\\right) e^{x} + \\frac{\\cos{\\left (x \\right )}}{2}$$",
            "text/plain": [
              "                    x   cos(x)\n",
              "f(x) = (C₁ + C₂⋅x)⋅ℯ  + ──────\n",
              "                          2   "
            ]
          },
          "metadata": {
            "tags": []
          },
          "execution_count": 12
        }
      ]
    },
    {
      "cell_type": "code",
      "metadata": {
        "id": "zUUEiE3ErpL0",
        "colab_type": "code",
        "colab": {},
        "outputId": "660cc0bf-e01c-4bb7-aafe-0810ce551bd3"
      },
      "source": [
        "dsolve(f(x).diff(x)*(1 - sin(f(x))), f(x))"
      ],
      "execution_count": null,
      "outputs": [
        {
          "output_type": "execute_result",
          "data": {
            "image/png": "[encoded data removed]",
            "text/latex": "$$f{\\left (x \\right )} + \\cos{\\left (f{\\left (x \\right )} \\right )} = C_{1}$$",
            "text/plain": [
              "f(x) + cos(f(x)) = C₁"
            ]
          },
          "metadata": {
            "tags": []
          },
          "execution_count": 13
        }
      ]
    },
    {
      "cell_type": "markdown",
      "metadata": {
        "id": "SkCw8g8GrpL2",
        "colab_type": "text"
      },
      "source": [
        "###### 行列 matrices"
      ]
    },
    {
      "cell_type": "code",
      "metadata": {
        "id": "HHlKLBdWrpL2",
        "colab_type": "code",
        "colab": {},
        "outputId": "d485443b-2e06-4854-a4e5-b6661dd14094"
      },
      "source": [
        "from sympy import *\n",
        "init_printing()\n",
        "Matrix([[1,-1],[3,4],[0,2]])"
      ],
      "execution_count": null,
      "outputs": [
        {
          "output_type": "execute_result",
          "data": {
            "image/png": "[encoded data removed]",
            "text/latex": "$$\\left[\\begin{matrix}1 & -1\\\\3 & 4\\\\0 & 2\\end{matrix}\\right]$$",
            "text/plain": [
              "⎡1  -1⎤\n",
              "⎢     ⎥\n",
              "⎢3  4 ⎥\n",
              "⎢     ⎥\n",
              "⎣0  2 ⎦"
            ]
          },
          "metadata": {
            "tags": []
          },
          "execution_count": 15
        }
      ]
    },
    {
      "cell_type": "code",
      "metadata": {
        "id": "7ZXHXBKDrpL6",
        "colab_type": "code",
        "colab": {},
        "outputId": "660c2e65-4ae4-4497-88b1-e376b57f0310"
      },
      "source": [
        "Matrix([[1,2,3]])"
      ],
      "execution_count": null,
      "outputs": [
        {
          "output_type": "execute_result",
          "data": {
            "image/png": "[encoded data removed]",
            "text/latex": "$$\\left[\\begin{matrix}1 & 2 & 3\\end{matrix}\\right]$$",
            "text/plain": [
              "[1  2  3]"
            ]
          },
          "metadata": {
            "tags": []
          },
          "execution_count": 16
        }
      ]
    },
    {
      "cell_type": "code",
      "metadata": {
        "id": "LZQwQ7ZorpL8",
        "colab_type": "code",
        "colab": {},
        "outputId": "2e2599ce-a460-445b-870c-f79a2f771979"
      },
      "source": [
        "Matrix([1,2,3])"
      ],
      "execution_count": null,
      "outputs": [
        {
          "output_type": "execute_result",
          "data": {
            "image/png": "[encoded data removed]",
            "text/latex": "$$\\left[\\begin{matrix}1\\\\2\\\\3\\end{matrix}\\right]$$",
            "text/plain": [
              "⎡1⎤\n",
              "⎢ ⎥\n",
              "⎢2⎥\n",
              "⎢ ⎥\n",
              "⎣3⎦"
            ]
          },
          "metadata": {
            "tags": []
          },
          "execution_count": 17
        }
      ]
    },
    {
      "cell_type": "code",
      "metadata": {
        "id": "3yiQiKnNrpL-",
        "colab_type": "code",
        "colab": {},
        "outputId": "676e85bf-3476-4b58-da1e-05aa244fc256"
      },
      "source": [
        "M = Matrix([[1,2,3],[3,2,1]])\n",
        "N = Matrix([0,1,1])\n",
        "M*N"
      ],
      "execution_count": null,
      "outputs": [
        {
          "output_type": "execute_result",
          "data": {
            "image/png": "[encoded data removed]",
            "text/latex": "$$\\left[\\begin{matrix}5\\\\3\\end{matrix}\\right]$$",
            "text/plain": [
              "⎡5⎤\n",
              "⎢ ⎥\n",
              "⎣3⎦"
            ]
          },
          "metadata": {
            "tags": []
          },
          "execution_count": 18
        }
      ]
    },
    {
      "cell_type": "markdown",
      "metadata": {
        "id": "T0-Imk9WrpMA",
        "colab_type": "text"
      },
      "source": [
        "###### SymPy matrices are mutable!!!\n",
        "不変にしたい場合はImmutableMatrixを使う"
      ]
    },
    {
      "cell_type": "code",
      "metadata": {
        "id": "WexsjDiErpMA",
        "colab_type": "code",
        "colab": {},
        "outputId": "ea4ab87c-4300-4e60-fcae-58e98e6dff9c"
      },
      "source": [
        "M = Matrix([[1,2,3],[-2,0,4]])\n",
        "M"
      ],
      "execution_count": null,
      "outputs": [
        {
          "output_type": "execute_result",
          "data": {
            "image/png": "[encoded data removed]",
            "text/latex": "$$\\left[\\begin{matrix}1 & 2 & 3\\\\-2 & 0 & 4\\end{matrix}\\right]$$",
            "text/plain": [
              "⎡1   2  3⎤\n",
              "⎢        ⎥\n",
              "⎣-2  0  4⎦"
            ]
          },
          "metadata": {
            "tags": []
          },
          "execution_count": 28
        }
      ]
    },
    {
      "cell_type": "code",
      "metadata": {
        "id": "O6K0r0CxrpMC",
        "colab_type": "code",
        "colab": {},
        "outputId": "93c1808c-ad9f-4ee3-f080-0c5439b57be5"
      },
      "source": [
        "M.shape"
      ],
      "execution_count": null,
      "outputs": [
        {
          "output_type": "execute_result",
          "data": {
            "image/png": "[encoded data removed]",
            "text/latex": "$$\\left ( 2, \\quad 3\\right )$$",
            "text/plain": [
              "(2, 3)"
            ]
          },
          "metadata": {
            "tags": []
          },
          "execution_count": 23
        }
      ]
    },
    {
      "cell_type": "code",
      "metadata": {
        "id": "ZDqMXytHrpMF",
        "colab_type": "code",
        "colab": {},
        "outputId": "dfaf99e6-ccaf-4099-e983-f696a97d921a"
      },
      "source": [
        "M.row(0)"
      ],
      "execution_count": null,
      "outputs": [
        {
          "output_type": "execute_result",
          "data": {
            "image/png": "[encoded data removed]",
            "text/latex": "$$\\left[\\begin{matrix}1 & 2 & 3\\end{matrix}\\right]$$",
            "text/plain": [
              "[1  2  3]"
            ]
          },
          "metadata": {
            "tags": []
          },
          "execution_count": 24
        }
      ]
    },
    {
      "cell_type": "code",
      "metadata": {
        "id": "fNyashY4rpMK",
        "colab_type": "code",
        "colab": {},
        "outputId": "72a68c70-0072-4893-9860-9d9f1b014ded"
      },
      "source": [
        "M.col(-1)"
      ],
      "execution_count": null,
      "outputs": [
        {
          "output_type": "execute_result",
          "data": {
            "image/png": "[encoded data removed]",
            "text/latex": "$$\\left[\\begin{matrix}3\\\\4\\end{matrix}\\right]$$",
            "text/plain": [
              "⎡3⎤\n",
              "⎢ ⎥\n",
              "⎣4⎦"
            ]
          },
          "metadata": {
            "tags": []
          },
          "execution_count": 25
        }
      ]
    },
    {
      "cell_type": "code",
      "metadata": {
        "id": "KnVIH4PXrpMO",
        "colab_type": "code",
        "colab": {},
        "outputId": "1d2b6df1-376a-462b-f5cf-a857a64f12b2"
      },
      "source": [
        "M.col_del(0)\n",
        "M"
      ],
      "execution_count": null,
      "outputs": [
        {
          "output_type": "execute_result",
          "data": {
            "image/png": "[encoded data removed]",
            "text/latex": "$$\\left[\\begin{matrix}2 & 3\\\\0 & 4\\end{matrix}\\right]$$",
            "text/plain": [
              "⎡2  3⎤\n",
              "⎢    ⎥\n",
              "⎣0  4⎦"
            ]
          },
          "metadata": {
            "tags": []
          },
          "execution_count": 29
        }
      ]
    },
    {
      "cell_type": "code",
      "metadata": {
        "id": "GddO1xZ8rpMR",
        "colab_type": "code",
        "colab": {},
        "outputId": "12b2d571-0d85-420e-eb41-0c179fb8a805"
      },
      "source": [
        "M.row_del(1)\n",
        "M"
      ],
      "execution_count": null,
      "outputs": [
        {
          "output_type": "execute_result",
          "data": {
            "image/png": "[encoded data removed]",
            "text/latex": "$$\\left[\\begin{matrix}2 & 3\\end{matrix}\\right]$$",
            "text/plain": [
              "[2  3]"
            ]
          },
          "metadata": {
            "tags": []
          },
          "execution_count": 30
        }
      ]
    },
    {
      "cell_type": "code",
      "metadata": {
        "id": "VA_2Oa3ErpMU",
        "colab_type": "code",
        "colab": {},
        "outputId": "afc5294e-9cb8-4cf1-d6e3-462fae1405d0"
      },
      "source": [
        "M = M.row_insert(1,Matrix([[0,4]]))\n",
        "M"
      ],
      "execution_count": null,
      "outputs": [
        {
          "output_type": "execute_result",
          "data": {
            "image/png": "[encoded data removed]",
            "text/latex": "$$\\left[\\begin{matrix}2 & 3\\\\0 & 4\\end{matrix}\\right]$$",
            "text/plain": [
              "⎡2  3⎤\n",
              "⎢    ⎥\n",
              "⎣0  4⎦"
            ]
          },
          "metadata": {
            "tags": []
          },
          "execution_count": 31
        }
      ]
    },
    {
      "cell_type": "code",
      "metadata": {
        "id": "9cO_mHEXrpMW",
        "colab_type": "code",
        "colab": {},
        "outputId": "23f2a626-c0a7-4896-ce17-5d6da36135fb"
      },
      "source": [
        "M = M.col_insert(0,Matrix([1,-2]))\n",
        "M"
      ],
      "execution_count": null,
      "outputs": [
        {
          "output_type": "execute_result",
          "data": {
            "image/png": "[encoded data removed]",
            "text/latex": "$$\\left[\\begin{matrix}1 & 2 & 3\\\\-2 & 0 & 4\\end{matrix}\\right]$$",
            "text/plain": [
              "⎡1   2  3⎤\n",
              "⎢        ⎥\n",
              "⎣-2  0  4⎦"
            ]
          },
          "metadata": {
            "tags": []
          },
          "execution_count": 32
        }
      ]
    },
    {
      "cell_type": "markdown",
      "metadata": {
        "id": "6ea-2djNrpMZ",
        "colab_type": "text"
      },
      "source": [
        "######  逆行列は$-1$乗する"
      ]
    },
    {
      "cell_type": "code",
      "metadata": {
        "id": "c397GN2QrpMZ",
        "colab_type": "code",
        "colab": {},
        "outputId": "ebdee3c0-c624-4163-a5b3-39f01e7f0eac"
      },
      "source": [
        "M = Matrix([[1,3],[-2,3]])\n",
        "N = Matrix([[0,3],[0,7]])\n",
        "M + N"
      ],
      "execution_count": null,
      "outputs": [
        {
          "output_type": "execute_result",
          "data": {
            "image/png": "[encoded data removed]",
            "text/latex": "$$\\left[\\begin{matrix}1 & 6\\\\-2 & 10\\end{matrix}\\right]$$",
            "text/plain": [
              "⎡1   6 ⎤\n",
              "⎢      ⎥\n",
              "⎣-2  10⎦"
            ]
          },
          "metadata": {
            "tags": []
          },
          "execution_count": 34
        }
      ]
    },
    {
      "cell_type": "code",
      "metadata": {
        "id": "UqU9KLmprpMb",
        "colab_type": "code",
        "colab": {},
        "outputId": "f0316fa5-ca51-4273-ebb2-82b52e148f2e"
      },
      "source": [
        "M * N"
      ],
      "execution_count": null,
      "outputs": [
        {
          "output_type": "execute_result",
          "data": {
            "image/png": "[encoded data removed]",
            "text/latex": "$$\\left[\\begin{matrix}0 & 24\\\\0 & 15\\end{matrix}\\right]$$",
            "text/plain": [
              "⎡0  24⎤\n",
              "⎢     ⎥\n",
              "⎣0  15⎦"
            ]
          },
          "metadata": {
            "tags": []
          },
          "execution_count": 35
        }
      ]
    },
    {
      "cell_type": "code",
      "metadata": {
        "id": "1tXYBnT6rpMd",
        "colab_type": "code",
        "colab": {},
        "outputId": "f8f1828a-856b-4367-b3d0-edc6e9975dc2"
      },
      "source": [
        "3 * M"
      ],
      "execution_count": null,
      "outputs": [
        {
          "output_type": "execute_result",
          "data": {
            "image/png": "[encoded data removed]",
            "text/latex": "$$\\left[\\begin{matrix}3 & 9\\\\-6 & 9\\end{matrix}\\right]$$",
            "text/plain": [
              "⎡3   9⎤\n",
              "⎢     ⎥\n",
              "⎣-6  9⎦"
            ]
          },
          "metadata": {
            "tags": []
          },
          "execution_count": 36
        }
      ]
    },
    {
      "cell_type": "code",
      "metadata": {
        "id": "sP7-M9uBrpMg",
        "colab_type": "code",
        "colab": {},
        "outputId": "cf265e98-c201-40a2-87ac-acadb7711ae2"
      },
      "source": [
        "M * M"
      ],
      "execution_count": null,
      "outputs": [
        {
          "output_type": "execute_result",
          "data": {
            "image/png": "[encoded data removed]",
            "text/latex": "$$\\left[\\begin{matrix}-5 & 12\\\\-8 & 3\\end{matrix}\\right]$$",
            "text/plain": [
              "⎡-5  12⎤\n",
              "⎢      ⎥\n",
              "⎣-8  3 ⎦"
            ]
          },
          "metadata": {
            "tags": []
          },
          "execution_count": 38
        }
      ]
    },
    {
      "cell_type": "code",
      "metadata": {
        "id": "Krp3_qBdrpMi",
        "colab_type": "code",
        "colab": {},
        "outputId": "49399a9f-b51d-48b3-ef4f-801d2eced696"
      },
      "source": [
        "M**2"
      ],
      "execution_count": null,
      "outputs": [
        {
          "output_type": "execute_result",
          "data": {
            "image/png": "[encoded data removed]",
            "text/latex": "$$\\left[\\begin{matrix}-5 & 12\\\\-8 & 3\\end{matrix}\\right]$$",
            "text/plain": [
              "⎡-5  12⎤\n",
              "⎢      ⎥\n",
              "⎣-8  3 ⎦"
            ]
          },
          "metadata": {
            "tags": []
          },
          "execution_count": 39
        }
      ]
    },
    {
      "cell_type": "code",
      "metadata": {
        "id": "-y4B42JGrpMk",
        "colab_type": "code",
        "colab": {},
        "outputId": "f19fa7b4-b944-4b7e-c7ea-970577548c3e"
      },
      "source": [
        "M**-1"
      ],
      "execution_count": null,
      "outputs": [
        {
          "output_type": "execute_result",
          "data": {
            "image/png": "[encoded data removed]",
            "text/latex": "$$\\left[\\begin{matrix}\\frac{1}{3} & - \\frac{1}{3}\\\\\\frac{2}{9} & \\frac{1}{9}\\end{matrix}\\right]$$",
            "text/plain": [
              "⎡1/3  -1/3⎤\n",
              "⎢         ⎥\n",
              "⎣2/9  1/9 ⎦"
            ]
          },
          "metadata": {
            "tags": []
          },
          "execution_count": 40
        }
      ]
    },
    {
      "cell_type": "code",
      "metadata": {
        "id": "EwKKIsvHrpMm",
        "colab_type": "code",
        "colab": {},
        "outputId": "983c9528-06a8-4265-c90f-a5c108fb2889"
      },
      "source": [
        "M * M**-1"
      ],
      "execution_count": null,
      "outputs": [
        {
          "output_type": "execute_result",
          "data": {
            "image/png": "[encoded data removed]",
            "text/latex": "$$\\left[\\begin{matrix}1 & 0\\\\0 & 1\\end{matrix}\\right]$$",
            "text/plain": [
              "⎡1  0⎤\n",
              "⎢    ⎥\n",
              "⎣0  1⎦"
            ]
          },
          "metadata": {
            "tags": []
          },
          "execution_count": 42
        }
      ]
    },
    {
      "cell_type": "code",
      "metadata": {
        "id": "a-hoF2JxrpMo",
        "colab_type": "code",
        "colab": {},
        "outputId": "4a01683f-6ab4-4ef4-93cb-2b227a070848"
      },
      "source": [
        "%xmode plain"
      ],
      "execution_count": null,
      "outputs": [
        {
          "output_type": "stream",
          "text": [
            "Exception reporting mode: Plain\n"
          ],
          "name": "stdout"
        }
      ]
    },
    {
      "cell_type": "code",
      "metadata": {
        "scrolled": true,
        "id": "bem691EWrpMt",
        "colab_type": "code",
        "colab": {}
      },
      "source": [
        "# N ** -1\n",
        "# ValueError: Matrix det == 0; not invertible."
      ],
      "execution_count": null,
      "outputs": []
    },
    {
      "cell_type": "markdown",
      "metadata": {
        "id": "Y0EWAsJcrpMw",
        "colab_type": "text"
      },
      "source": [
        "######  転置行列"
      ]
    },
    {
      "cell_type": "code",
      "metadata": {
        "id": "YwafIaOxrpMw",
        "colab_type": "code",
        "colab": {},
        "outputId": "83db9ac3-481d-49e0-f52d-29d0d4bbe704"
      },
      "source": [
        "M = Matrix([[1,2,3],[4,5,6]])\n",
        "M"
      ],
      "execution_count": null,
      "outputs": [
        {
          "output_type": "execute_result",
          "data": {
            "image/png": "[encoded data removed]",
            "text/latex": "$$\\left[\\begin{matrix}1 & 2 & 3\\\\4 & 5 & 6\\end{matrix}\\right]$$",
            "text/plain": [
              "⎡1  2  3⎤\n",
              "⎢       ⎥\n",
              "⎣4  5  6⎦"
            ]
          },
          "metadata": {
            "tags": []
          },
          "execution_count": 55
        }
      ]
    },
    {
      "cell_type": "code",
      "metadata": {
        "id": "okVTI8hrrpM1",
        "colab_type": "code",
        "colab": {},
        "outputId": "83a9f57c-7005-400a-ae50-e20d9165281b"
      },
      "source": [
        "M.T"
      ],
      "execution_count": null,
      "outputs": [
        {
          "output_type": "execute_result",
          "data": {
            "image/png": "[encoded data removed]",
            "text/latex": "$$\\left[\\begin{matrix}1 & 4\\\\2 & 5\\\\3 & 6\\end{matrix}\\right]$$",
            "text/plain": [
              "⎡1  4⎤\n",
              "⎢    ⎥\n",
              "⎢2  5⎥\n",
              "⎢    ⎥\n",
              "⎣3  6⎦"
            ]
          },
          "metadata": {
            "tags": []
          },
          "execution_count": 56
        }
      ]
    },
    {
      "cell_type": "code",
      "metadata": {
        "id": "EADBrQHvrpM4",
        "colab_type": "code",
        "colab": {},
        "outputId": "6760e6b8-41d4-4b96-eea6-68c2229b1389"
      },
      "source": [
        "eye(3)"
      ],
      "execution_count": null,
      "outputs": [
        {
          "output_type": "execute_result",
          "data": {
            "image/png": "[encoded data removed]",
            "text/latex": "$$\\left[\\begin{matrix}1 & 0 & 0\\\\0 & 1 & 0\\\\0 & 0 & 1\\end{matrix}\\right]$$",
            "text/plain": [
              "⎡1  0  0⎤\n",
              "⎢       ⎥\n",
              "⎢0  1  0⎥\n",
              "⎢       ⎥\n",
              "⎣0  0  1⎦"
            ]
          },
          "metadata": {
            "tags": []
          },
          "execution_count": 57
        }
      ]
    },
    {
      "cell_type": "code",
      "metadata": {
        "id": "7EzZGLKirpM7",
        "colab_type": "code",
        "colab": {},
        "outputId": "5058b0dd-52e9-4d88-8227-6c0bf58b0cac"
      },
      "source": [
        "zeros(2,3)"
      ],
      "execution_count": null,
      "outputs": [
        {
          "output_type": "execute_result",
          "data": {
            "image/png": "[encoded data removed]",
            "text/latex": "$$\\left[\\begin{matrix}0 & 0 & 0\\\\0 & 0 & 0\\end{matrix}\\right]$$",
            "text/plain": [
              "⎡0  0  0⎤\n",
              "⎢       ⎥\n",
              "⎣0  0  0⎦"
            ]
          },
          "metadata": {
            "tags": []
          },
          "execution_count": 58
        }
      ]
    },
    {
      "cell_type": "code",
      "metadata": {
        "id": "BoD7ENkJrpM-",
        "colab_type": "code",
        "colab": {},
        "outputId": "d4bf34ac-ab80-469c-9e99-4629c8c0cb49"
      },
      "source": [
        "ones(3,2)"
      ],
      "execution_count": null,
      "outputs": [
        {
          "output_type": "execute_result",
          "data": {
            "image/png": "[encoded data removed]",
            "text/latex": "$$\\left[\\begin{matrix}1 & 1\\\\1 & 1\\\\1 & 1\\end{matrix}\\right]$$",
            "text/plain": [
              "⎡1  1⎤\n",
              "⎢    ⎥\n",
              "⎢1  1⎥\n",
              "⎢    ⎥\n",
              "⎣1  1⎦"
            ]
          },
          "metadata": {
            "tags": []
          },
          "execution_count": 59
        }
      ]
    },
    {
      "cell_type": "code",
      "metadata": {
        "id": "QYOW6d44rpNA",
        "colab_type": "code",
        "colab": {},
        "outputId": "5c1a3963-6a27-417e-86a6-3e68b048a62c"
      },
      "source": [
        "diag(1,2,3)"
      ],
      "execution_count": null,
      "outputs": [
        {
          "output_type": "execute_result",
          "data": {
            "image/png": "[encoded data removed]",
            "text/latex": "$$\\left[\\begin{matrix}1 & 0 & 0\\\\0 & 2 & 0\\\\0 & 0 & 3\\end{matrix}\\right]$$",
            "text/plain": [
              "⎡1  0  0⎤\n",
              "⎢       ⎥\n",
              "⎢0  2  0⎥\n",
              "⎢       ⎥\n",
              "⎣0  0  3⎦"
            ]
          },
          "metadata": {
            "tags": []
          },
          "execution_count": 61
        }
      ]
    },
    {
      "cell_type": "code",
      "metadata": {
        "scrolled": true,
        "id": "kAzCuMYFrpNC",
        "colab_type": "code",
        "colab": {},
        "outputId": "63086849-2375-4b36-8f7b-ac8cec61ff2e"
      },
      "source": [
        "diag(-1, ones(2,2), Matrix([5,7,5]))"
      ],
      "execution_count": null,
      "outputs": [
        {
          "output_type": "execute_result",
          "data": {
            "image/png": "[encoded data removed]",
            "text/latex": "$$\\left[\\begin{matrix}-1 & 0 & 0 & 0\\\\0 & 1 & 1 & 0\\\\0 & 1 & 1 & 0\\\\0 & 0 & 0 & 5\\\\0 & 0 & 0 & 7\\\\0 & 0 & 0 & 5\\end{matrix}\\right]$$",
            "text/plain": [
              "⎡-1  0  0  0⎤\n",
              "⎢           ⎥\n",
              "⎢0   1  1  0⎥\n",
              "⎢           ⎥\n",
              "⎢0   1  1  0⎥\n",
              "⎢           ⎥\n",
              "⎢0   0  0  5⎥\n",
              "⎢           ⎥\n",
              "⎢0   0  0  7⎥\n",
              "⎢           ⎥\n",
              "⎣0   0  0  5⎦"
            ]
          },
          "metadata": {
            "tags": []
          },
          "execution_count": 62
        }
      ]
    },
    {
      "cell_type": "code",
      "metadata": {
        "id": "YRlAvxkRrpNE",
        "colab_type": "code",
        "colab": {},
        "outputId": "c25b5f48-96f6-4225-ade9-222e54591126"
      },
      "source": [
        "M = Matrix([[1,0,1],[2,-1,3],[4,3,2]])\n",
        "M"
      ],
      "execution_count": null,
      "outputs": [
        {
          "output_type": "execute_result",
          "data": {
            "image/png": "[encoded data removed]",
            "text/latex": "$$\\left[\\begin{matrix}1 & 0 & 1\\\\2 & -1 & 3\\\\4 & 3 & 2\\end{matrix}\\right]$$",
            "text/plain": [
              "⎡1  0   1⎤\n",
              "⎢        ⎥\n",
              "⎢2  -1  3⎥\n",
              "⎢        ⎥\n",
              "⎣4  3   2⎦"
            ]
          },
          "metadata": {
            "tags": []
          },
          "execution_count": 63
        }
      ]
    },
    {
      "cell_type": "code",
      "metadata": {
        "id": "yOFEXtqFrpNF",
        "colab_type": "code",
        "colab": {},
        "outputId": "c1594aae-0927-4b14-f688-085ef4b7d852"
      },
      "source": [
        "M.det()"
      ],
      "execution_count": null,
      "outputs": [
        {
          "output_type": "execute_result",
          "data": {
            "image/png": "[encoded data removed]",
            "text/latex": "$$-1$$",
            "text/plain": [
              "-1"
            ]
          },
          "metadata": {
            "tags": []
          },
          "execution_count": 64
        }
      ]
    },
    {
      "cell_type": "markdown",
      "metadata": {
        "id": "1Bq3uuf3rpNH",
        "colab_type": "text"
      },
      "source": [
        "###### rref\n",
        "To put a matrix into reduced row echelon form, use rref"
      ]
    },
    {
      "cell_type": "code",
      "metadata": {
        "id": "R2BfAND6rpNI",
        "colab_type": "code",
        "colab": {},
        "outputId": "2309f899-8cb6-42fa-823f-e1abdfbe0808"
      },
      "source": [
        "M = Matrix([[1, 0, 1, 3],[2, 3, 4, 7],[-1, -3, -3, -4]])\n",
        "M"
      ],
      "execution_count": null,
      "outputs": [
        {
          "output_type": "execute_result",
          "data": {
            "image/png": "[encoded data removed]",
            "text/latex": "$$\\left[\\begin{matrix}1 & 0 & 1 & 3\\\\2 & 3 & 4 & 7\\\\-1 & -3 & -3 & -4\\end{matrix}\\right]$$",
            "text/plain": [
              "⎡1   0   1   3 ⎤\n",
              "⎢              ⎥\n",
              "⎢2   3   4   7 ⎥\n",
              "⎢              ⎥\n",
              "⎣-1  -3  -3  -4⎦"
            ]
          },
          "metadata": {
            "tags": []
          },
          "execution_count": 65
        }
      ]
    },
    {
      "cell_type": "code",
      "metadata": {
        "id": "yOuui7garpNK",
        "colab_type": "code",
        "colab": {},
        "outputId": "97b27d51-4e55-4960-ca99-adfb1325f9a3"
      },
      "source": [
        "M.rref()"
      ],
      "execution_count": null,
      "outputs": [
        {
          "output_type": "execute_result",
          "data": {
            "image/png": "[encoded data removed]",
            "text/latex": "$$\\left ( \\left[\\begin{matrix}1 & 0 & 1 & 3\\\\0 & 1 & \\frac{2}{3} & \\frac{1}{3}\\\\0 & 0 & 0 & 0\\end{matrix}\\right], \\quad \\left ( 0, \\quad 1\\right )\\right )$$",
            "text/plain": [
              "⎛⎡1  0   1    3 ⎤        ⎞\n",
              "⎜⎢              ⎥        ⎟\n",
              "⎜⎢0  1  2/3  1/3⎥, (0, 1)⎟\n",
              "⎜⎢              ⎥        ⎟\n",
              "⎝⎣0  0   0    0 ⎦        ⎠"
            ]
          },
          "metadata": {
            "tags": []
          },
          "execution_count": 66
        }
      ]
    },
    {
      "cell_type": "markdown",
      "metadata": {
        "id": "cPYXgg6GrpNO",
        "colab_type": "text"
      },
      "source": [
        "###### nullspace"
      ]
    },
    {
      "cell_type": "code",
      "metadata": {
        "id": "9DCMlY-1rpNO",
        "colab_type": "code",
        "colab": {},
        "outputId": "a987324b-d10f-45f0-9350-f0c5a07a731d"
      },
      "source": [
        "M = Matrix([[1,2,3,0,0],[4,10,0,0,1]])\n",
        "M"
      ],
      "execution_count": null,
      "outputs": [
        {
          "output_type": "execute_result",
          "data": {
            "image/png": "[encoded data removed]",
            "text/latex": "$$\\left[\\begin{matrix}1 & 2 & 3 & 0 & 0\\\\4 & 10 & 0 & 0 & 1\\end{matrix}\\right]$$",
            "text/plain": [
              "⎡1  2   3  0  0⎤\n",
              "⎢              ⎥\n",
              "⎣4  10  0  0  1⎦"
            ]
          },
          "metadata": {
            "tags": []
          },
          "execution_count": 67
        }
      ]
    },
    {
      "cell_type": "code",
      "metadata": {
        "id": "N8Hxfn__rpNR",
        "colab_type": "code",
        "colab": {},
        "outputId": "e457b30f-4721-4d91-80ac-2fd6753edfac"
      },
      "source": [
        "M.nullspace()"
      ],
      "execution_count": null,
      "outputs": [
        {
          "output_type": "execute_result",
          "data": {
            "image/png": "[encoded data removed]",
            "text/latex": "$$\\left [ \\left[\\begin{matrix}-15\\\\6\\\\1\\\\0\\\\0\\end{matrix}\\right], \\quad \\left[\\begin{matrix}0\\\\0\\\\0\\\\1\\\\0\\end{matrix}\\right], \\quad \\left[\\begin{matrix}1\\\\- \\frac{1}{2}\\\\0\\\\0\\\\1\\end{matrix}\\right]\\right ]$$",
            "text/plain": [
              "⎡⎡-15⎤  ⎡0⎤  ⎡ 1  ⎤⎤\n",
              "⎢⎢   ⎥  ⎢ ⎥  ⎢    ⎥⎥\n",
              "⎢⎢ 6 ⎥  ⎢0⎥  ⎢-1/2⎥⎥\n",
              "⎢⎢   ⎥  ⎢ ⎥  ⎢    ⎥⎥\n",
              "⎢⎢ 1 ⎥, ⎢0⎥, ⎢ 0  ⎥⎥\n",
              "⎢⎢   ⎥  ⎢ ⎥  ⎢    ⎥⎥\n",
              "⎢⎢ 0 ⎥  ⎢1⎥  ⎢ 0  ⎥⎥\n",
              "⎢⎢   ⎥  ⎢ ⎥  ⎢    ⎥⎥\n",
              "⎣⎣ 0 ⎦  ⎣0⎦  ⎣ 1  ⎦⎦"
            ]
          },
          "metadata": {
            "tags": []
          },
          "execution_count": 68
        }
      ]
    },
    {
      "cell_type": "markdown",
      "metadata": {
        "id": "TPdOQuMurpNU",
        "colab_type": "text"
      },
      "source": [
        "###### columnspace"
      ]
    },
    {
      "cell_type": "code",
      "metadata": {
        "id": "RfAWQmZfrpNU",
        "colab_type": "code",
        "colab": {},
        "outputId": "c19105b5-9c7b-41b5-8cf5-5ce3d55c2952"
      },
      "source": [
        "M = Matrix([[1,1,2],[2,1,3],[3,1,4]])\n",
        "M"
      ],
      "execution_count": null,
      "outputs": [
        {
          "output_type": "execute_result",
          "data": {
            "image/png": "[encoded data removed]",
            "text/latex": "$$\\left[\\begin{matrix}1 & 1 & 2\\\\2 & 1 & 3\\\\3 & 1 & 4\\end{matrix}\\right]$$",
            "text/plain": [
              "⎡1  1  2⎤\n",
              "⎢       ⎥\n",
              "⎢2  1  3⎥\n",
              "⎢       ⎥\n",
              "⎣3  1  4⎦"
            ]
          },
          "metadata": {
            "tags": []
          },
          "execution_count": 69
        }
      ]
    },
    {
      "cell_type": "code",
      "metadata": {
        "id": "6ZynGY9grpNZ",
        "colab_type": "code",
        "colab": {},
        "outputId": "8a4fcc07-c9a9-484d-8554-6b131b937987"
      },
      "source": [
        "M.columnspace()"
      ],
      "execution_count": null,
      "outputs": [
        {
          "output_type": "execute_result",
          "data": {
            "image/png": "[encoded data removed]",
            "text/latex": "$$\\left [ \\left[\\begin{matrix}1\\\\2\\\\3\\end{matrix}\\right], \\quad \\left[\\begin{matrix}1\\\\1\\\\1\\end{matrix}\\right]\\right ]$$",
            "text/plain": [
              "⎡⎡1⎤  ⎡1⎤⎤\n",
              "⎢⎢ ⎥  ⎢ ⎥⎥\n",
              "⎢⎢2⎥, ⎢1⎥⎥\n",
              "⎢⎢ ⎥  ⎢ ⎥⎥\n",
              "⎣⎣3⎦  ⎣1⎦⎦"
            ]
          },
          "metadata": {
            "tags": []
          },
          "execution_count": 70
        }
      ]
    },
    {
      "cell_type": "markdown",
      "metadata": {
        "id": "6vwnxK4RrpNc",
        "colab_type": "text"
      },
      "source": [
        "######  固有値\n",
        "enganvalues, eigenvectors, and diagonalization"
      ]
    },
    {
      "cell_type": "code",
      "metadata": {
        "id": "WqxaeV3XrpNd",
        "colab_type": "code",
        "colab": {},
        "outputId": "92d84c33-f0eb-4e23-aa55-851df8852883"
      },
      "source": [
        "from sympy import *\n",
        "init_printing()\n",
        "M = Matrix([[3,-2,4,-2],[5,3,-3,-2],[5,-2,2,-2],[5,-2,-3,3]])\n",
        "M"
      ],
      "execution_count": null,
      "outputs": [
        {
          "output_type": "execute_result",
          "data": {
            "image/png": "[encoded data removed]",
            "text/latex": "$$\\left[\\begin{matrix}3 & -2 & 4 & -2\\\\5 & 3 & -3 & -2\\\\5 & -2 & 2 & -2\\\\5 & -2 & -3 & 3\\end{matrix}\\right]$$",
            "text/plain": [
              "⎡3  -2  4   -2⎤\n",
              "⎢             ⎥\n",
              "⎢5  3   -3  -2⎥\n",
              "⎢             ⎥\n",
              "⎢5  -2  2   -2⎥\n",
              "⎢             ⎥\n",
              "⎣5  -2  -3  3 ⎦"
            ]
          },
          "metadata": {
            "tags": []
          },
          "execution_count": 3
        }
      ]
    },
    {
      "cell_type": "code",
      "metadata": {
        "id": "6PihwoOjrpNf",
        "colab_type": "code",
        "colab": {},
        "outputId": "31b8ddb0-3fb8-4166-8809-ce776cb47675"
      },
      "source": [
        "M.eigenvals()"
      ],
      "execution_count": null,
      "outputs": [
        {
          "output_type": "execute_result",
          "data": {
            "image/png": "[encoded data removed]",
            "text/latex": "$$\\left \\{ -2 : 1, \\quad 3 : 1, \\quad 5 : 2\\right \\}$$",
            "text/plain": [
              "{-2: 1, 3: 1, 5: 2}"
            ]
          },
          "metadata": {
            "tags": []
          },
          "execution_count": 72
        }
      ]
    },
    {
      "cell_type": "markdown",
      "metadata": {
        "id": "N7qf34AgrpNi",
        "colab_type": "text"
      },
      "source": [
        "This means that M has eigenvalues -2, 3, and 5, and that the eigenvalues -2 and 3 have algebraic multiplicity 1 and that the eigenvalue 5 has algebraic multiplicity 2."
      ]
    },
    {
      "cell_type": "markdown",
      "metadata": {
        "id": "8SokHSF6rpNj",
        "colab_type": "text"
      },
      "source": [
        "This means that M has eigenvalues -2, 3, and 5, and that the eigenvalues -2 and 3 have algebraic multiplicity 1 and that the eigenvalue 5 has algebraic multiplicity 2."
      ]
    },
    {
      "cell_type": "code",
      "metadata": {
        "id": "5b8y8-bBrpNk",
        "colab_type": "code",
        "colab": {},
        "outputId": "7ffc5d69-793b-422a-882c-80a3fd5fc6c1"
      },
      "source": [
        "M.eigenvects()"
      ],
      "execution_count": null,
      "outputs": [
        {
          "output_type": "execute_result",
          "data": {
            "image/png": "[encoded data removed]",
            "text/latex": "$$\\left [ \\left ( -2, \\quad 1, \\quad \\left [ \\left[\\begin{matrix}0\\\\1\\\\1\\\\1\\end{matrix}\\right]\\right ]\\right ), \\quad \\left ( 3, \\quad 1, \\quad \\left [ \\left[\\begin{matrix}1\\\\1\\\\1\\\\1\\end{matrix}\\right]\\right ]\\right ), \\quad \\left ( 5, \\quad 2, \\quad \\left [ \\left[\\begin{matrix}1\\\\1\\\\1\\\\0\\end{matrix}\\right], \\quad \\left[\\begin{matrix}0\\\\-1\\\\0\\\\1\\end{matrix}\\right]\\right ]\\right )\\right ]$$",
            "text/plain": [
              "⎡⎛       ⎡⎡0⎤⎤⎞  ⎛      ⎡⎡1⎤⎤⎞  ⎛      ⎡⎡1⎤  ⎡0 ⎤⎤⎞⎤\n",
              "⎢⎜       ⎢⎢ ⎥⎥⎟  ⎜      ⎢⎢ ⎥⎥⎟  ⎜      ⎢⎢ ⎥  ⎢  ⎥⎥⎟⎥\n",
              "⎢⎜       ⎢⎢1⎥⎥⎟  ⎜      ⎢⎢1⎥⎥⎟  ⎜      ⎢⎢1⎥  ⎢-1⎥⎥⎟⎥\n",
              "⎢⎜-2, 1, ⎢⎢ ⎥⎥⎟, ⎜3, 1, ⎢⎢ ⎥⎥⎟, ⎜5, 2, ⎢⎢ ⎥, ⎢  ⎥⎥⎟⎥\n",
              "⎢⎜       ⎢⎢1⎥⎥⎟  ⎜      ⎢⎢1⎥⎥⎟  ⎜      ⎢⎢1⎥  ⎢0 ⎥⎥⎟⎥\n",
              "⎢⎜       ⎢⎢ ⎥⎥⎟  ⎜      ⎢⎢ ⎥⎥⎟  ⎜      ⎢⎢ ⎥  ⎢  ⎥⎥⎟⎥\n",
              "⎣⎝       ⎣⎣1⎦⎦⎠  ⎝      ⎣⎣1⎦⎦⎠  ⎝      ⎣⎣0⎦  ⎣1 ⎦⎦⎠⎦"
            ]
          },
          "metadata": {
            "tags": []
          },
          "execution_count": 4
        }
      ]
    },
    {
      "cell_type": "markdown",
      "metadata": {
        "id": "og9x6yHhrpNo",
        "colab_type": "text"
      },
      "source": [
        "This shows us that, for example, the eigenvalue 5 also has geometric multiplicity 2, because it has two eigenvectors. Because the algebraic and geometric multiplicities are the same for all the eigenvalues, M is diagonalizable."
      ]
    },
    {
      "cell_type": "markdown",
      "metadata": {
        "id": "cvjAu5GXrpNo",
        "colab_type": "text"
      },
      "source": [
        "To diagonalize a matrix, use diagonalize. diagonalize returns a tuple (P,D), where D is diagonal and M=PDP−1."
      ]
    },
    {
      "cell_type": "code",
      "metadata": {
        "id": "BHNLsOH0rpNp",
        "colab_type": "code",
        "colab": {},
        "outputId": "41860871-28f9-4690-ad6a-899b305be703"
      },
      "source": [
        "P, D = M.diagonalize()\n",
        "P"
      ],
      "execution_count": null,
      "outputs": [
        {
          "output_type": "execute_result",
          "data": {
            "image/png": "[encoded data removed]",
            "text/latex": "$$\\left[\\begin{matrix}0 & 1 & 1 & 0\\\\1 & 1 & 1 & -1\\\\1 & 1 & 1 & 0\\\\1 & 1 & 0 & 1\\end{matrix}\\right]$$",
            "text/plain": [
              "⎡0  1  1  0 ⎤\n",
              "⎢           ⎥\n",
              "⎢1  1  1  -1⎥\n",
              "⎢           ⎥\n",
              "⎢1  1  1  0 ⎥\n",
              "⎢           ⎥\n",
              "⎣1  1  0  1 ⎦"
            ]
          },
          "metadata": {
            "tags": []
          },
          "execution_count": 6
        }
      ]
    },
    {
      "cell_type": "code",
      "metadata": {
        "id": "zKvJC5IvrpNu",
        "colab_type": "code",
        "colab": {},
        "outputId": "ede7b779-6f22-4279-9391-79c156ea0b27"
      },
      "source": [
        "D"
      ],
      "execution_count": null,
      "outputs": [
        {
          "output_type": "execute_result",
          "data": {
            "image/png": "[encoded data removed]",
            "text/latex": "$$\\left[\\begin{matrix}-2 & 0 & 0 & 0\\\\0 & 3 & 0 & 0\\\\0 & 0 & 5 & 0\\\\0 & 0 & 0 & 5\\end{matrix}\\right]$$",
            "text/plain": [
              "⎡-2  0  0  0⎤\n",
              "⎢           ⎥\n",
              "⎢0   3  0  0⎥\n",
              "⎢           ⎥\n",
              "⎢0   0  5  0⎥\n",
              "⎢           ⎥\n",
              "⎣0   0  0  5⎦"
            ]
          },
          "metadata": {
            "tags": []
          },
          "execution_count": 7
        }
      ]
    },
    {
      "cell_type": "code",
      "metadata": {
        "id": "-gC7vom6rpNw",
        "colab_type": "code",
        "colab": {},
        "outputId": "aa451122-ec95-4e73-ca68-e073c4d75048"
      },
      "source": [
        "P*D*P**-1"
      ],
      "execution_count": null,
      "outputs": [
        {
          "output_type": "execute_result",
          "data": {
            "image/png": "[encoded data removed]",
            "text/latex": "$$\\left[\\begin{matrix}3 & -2 & 4 & -2\\\\5 & 3 & -3 & -2\\\\5 & -2 & 2 & -2\\\\5 & -2 & -3 & 3\\end{matrix}\\right]$$",
            "text/plain": [
              "⎡3  -2  4   -2⎤\n",
              "⎢             ⎥\n",
              "⎢5  3   -3  -2⎥\n",
              "⎢             ⎥\n",
              "⎢5  -2  2   -2⎥\n",
              "⎢             ⎥\n",
              "⎣5  -2  -3  3 ⎦"
            ]
          },
          "metadata": {
            "tags": []
          },
          "execution_count": 8
        }
      ]
    },
    {
      "cell_type": "code",
      "metadata": {
        "id": "oheX_BTsrpNy",
        "colab_type": "code",
        "colab": {},
        "outputId": "237ef16c-5794-4807-d7e5-9ebbf6124a46"
      },
      "source": [
        "P*D*P**-1 == M"
      ],
      "execution_count": null,
      "outputs": [
        {
          "output_type": "execute_result",
          "data": {
            "text/plain": [
              "True"
            ]
          },
          "metadata": {
            "tags": []
          },
          "execution_count": 9
        }
      ]
    },
    {
      "cell_type": "markdown",
      "metadata": {
        "id": "0grZDn5krpN1",
        "colab_type": "text"
      },
      "source": [
        "If all you want is the characteristic polynomial, use charpoly. This is more efficient than eigenvals, because sometimes symbolic roots can be expensive to calculate."
      ]
    },
    {
      "cell_type": "code",
      "metadata": {
        "id": "WpG4Oi9zrpN1",
        "colab_type": "code",
        "colab": {},
        "outputId": "612be8a8-0c52-4162-89b6-d1ca015b87a6"
      },
      "source": [
        "lamda = symbols('lamda')\n",
        "p = M.charpoly(lamda)\n",
        "factor(p)"
      ],
      "execution_count": null,
      "outputs": [
        {
          "output_type": "execute_result",
          "data": {
            "image/png": "[encoded data removed]",
            "text/latex": "$$\\left(\\lambda - 5\\right)^{2} \\left(\\lambda - 3\\right) \\left(\\lambda + 2\\right)$$",
            "text/plain": [
              "       2                \n",
              "(λ - 5) ⋅(λ - 3)⋅(λ + 2)"
            ]
          },
          "metadata": {
            "tags": []
          },
          "execution_count": 11
        }
      ]
    },
    {
      "cell_type": "markdown",
      "metadata": {
        "id": "lrYLr8PWrpN7",
        "colab_type": "text"
      },
      "source": [
        "###### advanced expression manipulation\n",
        "###### expression trees"
      ]
    },
    {
      "cell_type": "code",
      "metadata": {
        "id": "QO1H2FEKrpN8",
        "colab_type": "code",
        "colab": {}
      },
      "source": [
        "from sympy import *\n",
        "init_printing()\n",
        "x, y, z = symbols('x y z')"
      ],
      "execution_count": null,
      "outputs": []
    },
    {
      "cell_type": "code",
      "metadata": {
        "id": "-6LsjY5zrpN-",
        "colab_type": "code",
        "colab": {},
        "outputId": "ce154e5e-41c4-4043-f514-75180a721264"
      },
      "source": [
        "expr = 2**x + x*y\n",
        "srepr(expr)"
      ],
      "execution_count": null,
      "outputs": [
        {
          "output_type": "execute_result",
          "data": {
            "text/plain": [
              "\"Add(Pow(Integer(2), Symbol('x')), Mul(Symbol('x'), Symbol('y')))\""
            ]
          },
          "metadata": {
            "tags": []
          },
          "execution_count": 15
        }
      ]
    },
    {
      "cell_type": "code",
      "metadata": {
        "scrolled": true,
        "id": "q9EYGRtjrpN_",
        "colab_type": "code",
        "colab": {},
        "outputId": "be42136d-89f4-46bf-f252-a1a8f3524239"
      },
      "source": [
        "import graphviz\n",
        "g = graphviz.Digraph('G')\n",
        "g.edge('Hello', 'World')\n",
        "graphviz.Source(g)"
      ],
      "execution_count": null,
      "outputs": [
        {
          "output_type": "execute_result",
          "data": {
            "image/svg+xml": "<?xml version=\"1.0\" encoding=\"UTF-8\" standalone=\"no\"?>\n<!DOCTYPE svg PUBLIC \"-//W3C//DTD SVG 1.1//EN\"\n \"http://www.w3.org/Graphics/SVG/1.1/DTD/svg11.dtd\">\n<!-- Generated by graphviz version 2.40.1 (20161225.0304)\n -->\n<!-- Title: G Pages: 1 -->\n<svg width=\"76pt\" height=\"116pt\"\n viewBox=\"0.00 0.00 75.59 116.00\" xmlns=\"http://www.w3.org/2000/svg\" xmlns:xlink=\"http://www.w3.org/1999/xlink\">\n<g id=\"graph0\" class=\"graph\" transform=\"scale(1 1) rotate(0) translate(4 112)\">\n<title>G</title>\n<polygon fill=\"#ffffff\" stroke=\"transparent\" points=\"-4,4 -4,-112 71.594,-112 71.594,4 -4,4\"/>\n<!-- Hello -->\n<g id=\"node1\" class=\"node\">\n<title>Hello</title>\n<ellipse fill=\"none\" stroke=\"#000000\" cx=\"33.797\" cy=\"-90\" rx=\"30.5947\" ry=\"18\"/>\n<text text-anchor=\"middle\" x=\"33.797\" y=\"-86.3\" font-family=\"Times,serif\" font-size=\"14.00\" fill=\"#000000\">Hello</text>\n</g>\n<!-- World -->\n<g id=\"node2\" class=\"node\">\n<title>World</title>\n<ellipse fill=\"none\" stroke=\"#000000\" cx=\"33.797\" cy=\"-18\" rx=\"33.5952\" ry=\"18\"/>\n<text text-anchor=\"middle\" x=\"33.797\" y=\"-14.3\" font-family=\"Times,serif\" font-size=\"14.00\" fill=\"#000000\">World</text>\n</g>\n<!-- Hello&#45;&gt;World -->\n<g id=\"edge1\" class=\"edge\">\n<title>Hello&#45;&gt;World</title>\n<path fill=\"none\" stroke=\"#000000\" d=\"M33.797,-71.8314C33.797,-64.131 33.797,-54.9743 33.797,-46.4166\"/>\n<polygon fill=\"#000000\" stroke=\"#000000\" points=\"37.2971,-46.4132 33.797,-36.4133 30.2971,-46.4133 37.2971,-46.4132\"/>\n</g>\n</g>\n</svg>\n",
            "text/plain": [
              "<graphviz.files.Source at 0x7f624cf2dc50>"
            ]
          },
          "metadata": {
            "tags": []
          },
          "execution_count": 1
        }
      ]
    },
    {
      "cell_type": "code",
      "metadata": {
        "id": "2w73OEL_rpOB",
        "colab_type": "code",
        "colab": {}
      },
      "source": [
        "% matplotlib inline\n",
        "\n",
        "import numpy as np\n",
        "import matplotlib.pyplot as plt\n",
        "\n",
        "def sigmoid(x):\n",
        "    return 1 / (1 + np.exp(x))\n",
        "\n",
        "x = np.arange(-20.0, 20.0, 0.1)\n",
        "y = sigmoid(x)\n",
        "plt.plot(x, y)\n",
        "plt.ylim(-0.1, 1.1)\n",
        "plt.show()"
      ],
      "execution_count": null,
      "outputs": []
    },
    {
      "cell_type": "code",
      "metadata": {
        "id": "T56ndZTxrpOD",
        "colab_type": "code",
        "colab": {},
        "outputId": "30fb1269-bdf0-45d5-ff36-d1de0f4cccf4"
      },
      "source": [
        "###### symbol -> Symbol\n",
        "from sympy import *\n",
        "init_printing()\n",
        "# x = Symbol('x')\n",
        "x = symbols('x')\n",
        "srepr(x)"
      ],
      "execution_count": null,
      "outputs": [
        {
          "output_type": "execute_result",
          "data": {
            "text/plain": [
              "\"Symbol('x')\""
            ]
          },
          "metadata": {
            "tags": []
          },
          "execution_count": 4
        }
      ]
    },
    {
      "cell_type": "code",
      "metadata": {
        "id": "-4Zcm3i3rpOG",
        "colab_type": "code",
        "colab": {},
        "outputId": "da630e8b-0ae6-4112-a90e-70daf2a9851b"
      },
      "source": [
        "srepr(1)"
      ],
      "execution_count": null,
      "outputs": [
        {
          "output_type": "execute_result",
          "data": {
            "text/plain": [
              "'1'"
            ]
          },
          "metadata": {
            "tags": []
          },
          "execution_count": 5
        }
      ]
    },
    {
      "cell_type": "code",
      "metadata": {
        "id": "sSuEXismrpOJ",
        "colab_type": "code",
        "colab": {},
        "outputId": "a6107930-c270-4d97-8626-5bddeb33b2c6"
      },
      "source": [
        "expr = 2.3**x\n",
        "srepr(expr)"
      ],
      "execution_count": null,
      "outputs": [
        {
          "output_type": "execute_result",
          "data": {
            "text/plain": [
              "\"Pow(Float('2.2999999999999998', precision=53), Symbol('x'))\""
            ]
          },
          "metadata": {
            "tags": []
          },
          "execution_count": 8
        }
      ]
    },
    {
      "cell_type": "code",
      "metadata": {
        "id": "zo_VSdokrpOL",
        "colab_type": "code",
        "colab": {},
        "outputId": "43c1cb5f-340b-45ea-d355-0534125f0d4f"
      },
      "source": [
        "srepr(Pow(2.3,x))"
      ],
      "execution_count": null,
      "outputs": [
        {
          "output_type": "execute_result",
          "data": {
            "text/plain": [
              "\"Pow(Float('2.2999999999999998', precision=53), Symbol('x'))\""
            ]
          },
          "metadata": {
            "tags": []
          },
          "execution_count": 10
        }
      ]
    },
    {
      "cell_type": "code",
      "metadata": {
        "id": "xB7BRhvHrpOP",
        "colab_type": "code",
        "colab": {},
        "outputId": "fde94807-1b80-441c-fef6-5e0a7512c39f"
      },
      "source": [
        "type(simplify(2))"
      ],
      "execution_count": null,
      "outputs": [
        {
          "output_type": "execute_result",
          "data": {
            "text/plain": [
              "sympy.core.numbers.Integer"
            ]
          },
          "metadata": {
            "tags": []
          },
          "execution_count": 12
        }
      ]
    },
    {
      "cell_type": "code",
      "metadata": {
        "id": "BsGxikhlrpOR",
        "colab_type": "code",
        "colab": {},
        "outputId": "7bee60ad-bd33-4947-8184-46326ece5b22"
      },
      "source": [
        "x, y, z = symbols('x y z')\n",
        "Mul(x,y)"
      ],
      "execution_count": null,
      "outputs": [
        {
          "output_type": "execute_result",
          "data": {
            "image/png": "[encoded data removed]",
            "text/latex": "$$x y$$",
            "text/plain": [
              "x⋅y"
            ]
          },
          "metadata": {
            "tags": []
          },
          "execution_count": 14
        }
      ]
    },
    {
      "cell_type": "code",
      "metadata": {
        "id": "L1Ft5QK3rpOT",
        "colab_type": "code",
        "colab": {},
        "outputId": "d590d282-bdad-4880-a289-935ff9fb78d0"
      },
      "source": [
        "expr = sin(x*y)/2 - x**2 + 1/y\n",
        "srepr(expr)"
      ],
      "execution_count": null,
      "outputs": [
        {
          "output_type": "execute_result",
          "data": {
            "text/plain": [
              "\"Add(Mul(Integer(-1), Pow(Symbol('x'), Integer(2))), Mul(Rational(1, 2), sin(Mul(Symbol('x'), Symbol('y')))), Pow(Symbol('y'), Integer(-1)))\""
            ]
          },
          "metadata": {
            "tags": []
          },
          "execution_count": 17
        }
      ]
    },
    {
      "cell_type": "code",
      "metadata": {
        "id": "Y3MwzQjkrpOV",
        "colab_type": "code",
        "colab": {},
        "outputId": "aea42e39-e4e9-436d-cb17-dd7ca5bff1c9"
      },
      "source": [
        "srepr(x - y)"
      ],
      "execution_count": null,
      "outputs": [
        {
          "output_type": "execute_result",
          "data": {
            "text/plain": [
              "\"Add(Symbol('x'), Mul(Integer(-1), Symbol('y')))\""
            ]
          },
          "metadata": {
            "tags": []
          },
          "execution_count": 18
        }
      ]
    },
    {
      "cell_type": "code",
      "metadata": {
        "id": "GvTnuXLjrpOY",
        "colab_type": "code",
        "colab": {},
        "outputId": "864a2c20-103d-4b25-ddb2-a215882d633b"
      },
      "source": [
        "expr = x / y\n",
        "srepr(expr)"
      ],
      "execution_count": null,
      "outputs": [
        {
          "output_type": "execute_result",
          "data": {
            "text/plain": [
              "\"Mul(Symbol('x'), Pow(Symbol('y'), Integer(-1)))\""
            ]
          },
          "metadata": {
            "tags": []
          },
          "execution_count": 19
        }
      ]
    },
    {
      "cell_type": "code",
      "metadata": {
        "id": "cvyb-hCOrpOa",
        "colab_type": "code",
        "colab": {},
        "outputId": "8ef7a419-51e6-48fc-fedf-49c1cd2db3b6"
      },
      "source": [
        "1 + x"
      ],
      "execution_count": null,
      "outputs": [
        {
          "output_type": "execute_result",
          "data": {
            "image/png": "[encoded data removed]",
            "text/latex": "$$x + 1$$",
            "text/plain": [
              "x + 1"
            ]
          },
          "metadata": {
            "tags": []
          },
          "execution_count": 20
        }
      ]
    },
    {
      "cell_type": "code",
      "metadata": {
        "id": "RASRtejKrpOc",
        "colab_type": "code",
        "colab": {},
        "outputId": "178a934c-fa5a-431e-ed51-33ca3365b666"
      },
      "source": [
        "(1 + x).func"
      ],
      "execution_count": null,
      "outputs": [
        {
          "output_type": "execute_result",
          "data": {
            "text/plain": [
              "sympy.core.add.Add"
            ]
          },
          "metadata": {
            "tags": []
          },
          "execution_count": 21
        }
      ]
    },
    {
      "cell_type": "code",
      "metadata": {
        "id": "ctcDHqMzrpOd",
        "colab_type": "code",
        "colab": {},
        "outputId": "3deb1103-7d9d-4a89-f256-1bca25589528"
      },
      "source": [
        "expr = Add(x, x)\n",
        "expr.func # Mul"
      ],
      "execution_count": null,
      "outputs": [
        {
          "output_type": "execute_result",
          "data": {
            "text/plain": [
              "sympy.core.mul.Mul"
            ]
          },
          "metadata": {
            "tags": []
          },
          "execution_count": 22
        }
      ]
    },
    {
      "cell_type": "code",
      "metadata": {
        "id": "BRhSECYPrpOh",
        "colab_type": "code",
        "colab": {},
        "outputId": "bf8b3ad3-ff17-4a2e-a586-78336a2c6d16"
      },
      "source": [
        "expr"
      ],
      "execution_count": null,
      "outputs": [
        {
          "output_type": "execute_result",
          "data": {
            "image/png": "[encoded data removed]",
            "text/latex": "$$2 x$$",
            "text/plain": [
              "2⋅x"
            ]
          },
          "metadata": {
            "tags": []
          },
          "execution_count": 23
        }
      ]
    },
    {
      "cell_type": "markdown",
      "metadata": {
        "id": "8-mb2Mk6rpOi",
        "colab_type": "text"
      },
      "source": [
        "###### class constructor\n",
        "Add(x, x), i.e., x + x, was automatically converted into Mul(2, x), i.e., 2*x, which is a Mul. SymPy classes make heavy use of the __new__ class constructor, which, unlike __init__, allows a different class to be returned from the constructor."
      ]
    },
    {
      "cell_type": "code",
      "metadata": {
        "id": "kVD1hb23rpOk",
        "colab_type": "code",
        "colab": {},
        "outputId": "90263e74-5f71-44dd-ed53-180de504a602"
      },
      "source": [
        "Integer(2).func"
      ],
      "execution_count": null,
      "outputs": [
        {
          "output_type": "execute_result",
          "data": {
            "text/plain": [
              "sympy.core.numbers.Integer"
            ]
          },
          "metadata": {
            "tags": []
          },
          "execution_count": 24
        }
      ]
    },
    {
      "cell_type": "code",
      "metadata": {
        "id": "ei2Cxgy-rpOl",
        "colab_type": "code",
        "colab": {},
        "outputId": "81c14d11-b72c-4560-ff3d-62cbd8bd0776"
      },
      "source": [
        "Integer(0).func # Zero"
      ],
      "execution_count": null,
      "outputs": [
        {
          "output_type": "execute_result",
          "data": {
            "text/plain": [
              "sympy.core.numbers.Zero"
            ]
          },
          "metadata": {
            "tags": []
          },
          "execution_count": 25
        }
      ]
    },
    {
      "cell_type": "code",
      "metadata": {
        "id": "98BBa7itrpOn",
        "colab_type": "code",
        "colab": {},
        "outputId": "a9d9357c-960f-421d-df14-2204ffa7f01b"
      },
      "source": [
        "Integer(-1).func # NegativeOne"
      ],
      "execution_count": null,
      "outputs": [
        {
          "output_type": "execute_result",
          "data": {
            "text/plain": [
              "sympy.core.numbers.NegativeOne"
            ]
          },
          "metadata": {
            "tags": []
          },
          "execution_count": 26
        }
      ]
    },
    {
      "cell_type": "code",
      "metadata": {
        "id": "029c0ZPUrpOp",
        "colab_type": "code",
        "colab": {},
        "outputId": "a9c2cdb4-bcf4-4107-dea2-b596240cd9c9"
      },
      "source": [
        "expr = 3 * y**2 * x\n",
        "expr.func # Mul"
      ],
      "execution_count": null,
      "outputs": [
        {
          "output_type": "execute_result",
          "data": {
            "text/plain": [
              "sympy.core.mul.Mul"
            ]
          },
          "metadata": {
            "tags": []
          },
          "execution_count": 27
        }
      ]
    },
    {
      "cell_type": "code",
      "metadata": {
        "id": "f0EFYzXUrpOq",
        "colab_type": "code",
        "colab": {},
        "outputId": "69a23df8-e158-49d7-d0ee-851588ec0c9b"
      },
      "source": [
        "expr.args # (3, x, y**2)"
      ],
      "execution_count": null,
      "outputs": [
        {
          "output_type": "execute_result",
          "data": {
            "image/png": "[encoded data removed]",
            "text/latex": "$$\\left ( 3, \\quad x, \\quad y^{2}\\right )$$",
            "text/plain": [
              "⎛       2⎞\n",
              "⎝3, x, y ⎠"
            ]
          },
          "metadata": {
            "tags": []
          },
          "execution_count": 28
        }
      ]
    },
    {
      "cell_type": "code",
      "metadata": {
        "id": "AjJhPjvErpOs",
        "colab_type": "code",
        "colab": {},
        "outputId": "3e617daf-1233-4c8a-94f7-eb72110f0978"
      },
      "source": [
        "expr.func(*expr.args)"
      ],
      "execution_count": null,
      "outputs": [
        {
          "output_type": "execute_result",
          "data": {
            "image/png": "[encoded data removed]",
            "text/latex": "$$3 x y^{2}$$",
            "text/plain": [
              "     2\n",
              "3⋅x⋅y "
            ]
          },
          "metadata": {
            "tags": []
          },
          "execution_count": 29
        }
      ]
    },
    {
      "cell_type": "code",
      "metadata": {
        "id": "IxgXfmDBrpOu",
        "colab_type": "code",
        "colab": {},
        "outputId": "0e128291-be11-4cd3-ce04-ca18ce1cf710"
      },
      "source": [
        "expr == expr.func(*expr.args)"
      ],
      "execution_count": null,
      "outputs": [
        {
          "output_type": "execute_result",
          "data": {
            "text/plain": [
              "True"
            ]
          },
          "metadata": {
            "tags": []
          },
          "execution_count": 30
        }
      ]
    },
    {
      "cell_type": "code",
      "metadata": {
        "id": "Kjfpkd46rpOx",
        "colab_type": "code",
        "colab": {},
        "outputId": "f0f84eb5-73dc-4615-d467-03c4ab95d70f"
      },
      "source": [
        "expr.func(Mul(expr.args))"
      ],
      "execution_count": null,
      "outputs": [
        {
          "output_type": "execute_result",
          "data": {
            "image/png": "[encoded data removed]",
            "text/latex": "$$\\left ( 3, \\quad x, \\quad y^{2}\\right )$$",
            "text/plain": [
              "⎛       2⎞\n",
              "⎝3, x, y ⎠"
            ]
          },
          "metadata": {
            "tags": []
          },
          "execution_count": 32
        }
      ]
    },
    {
      "cell_type": "code",
      "metadata": {
        "id": "UOtB7sFcrpOz",
        "colab_type": "code",
        "colab": {},
        "outputId": "2ad87f74-cf4e-4a3d-e5fc-2eaaa6d6c391"
      },
      "source": [
        "Mul(3, 8)"
      ],
      "execution_count": null,
      "outputs": [
        {
          "output_type": "execute_result",
          "data": {
            "image/png": "[encoded data removed]",
            "text/latex": "$$24$$",
            "text/plain": [
              "24"
            ]
          },
          "metadata": {
            "tags": []
          },
          "execution_count": 34
        }
      ]
    },
    {
      "cell_type": "code",
      "metadata": {
        "id": "yTFNMfkBrpO1",
        "colab_type": "code",
        "colab": {},
        "outputId": "b68066e0-344c-4182-d0b6-5998bf496cfb"
      },
      "source": [
        "# * (3, 8) # SyntaxError: can't use starred expression here\n",
        "print(*(3,8)) # -> print (3, 8) -> 3 8"
      ],
      "execution_count": null,
      "outputs": [
        {
          "output_type": "stream",
          "text": [
            "3 8\n"
          ],
          "name": "stdout"
        }
      ]
    },
    {
      "cell_type": "code",
      "metadata": {
        "id": "WmS2Olr3rpO3",
        "colab_type": "code",
        "colab": {},
        "outputId": "0076c20f-2b88-4bfb-d040-fc92faa53b9d"
      },
      "source": [
        "expr.args[2]"
      ],
      "execution_count": null,
      "outputs": [
        {
          "output_type": "execute_result",
          "data": {
            "image/png": "[encoded data removed]",
            "text/latex": "$$y^{2}$$",
            "text/plain": [
              " 2\n",
              "y "
            ]
          },
          "metadata": {
            "tags": []
          },
          "execution_count": 42
        }
      ]
    },
    {
      "cell_type": "code",
      "metadata": {
        "id": "79hB7TGkrpO6",
        "colab_type": "code",
        "colab": {},
        "outputId": "f319c480-d0de-4ad2-8e15-0c8b687b6553"
      },
      "source": [
        "expr.args[2].args"
      ],
      "execution_count": null,
      "outputs": [
        {
          "output_type": "execute_result",
          "data": {
            "image/png": "[encoded data removed]",
            "text/latex": "$$\\left ( y, \\quad 2\\right )$$",
            "text/plain": [
              "(y, 2)"
            ]
          },
          "metadata": {
            "tags": []
          },
          "execution_count": 43
        }
      ]
    },
    {
      "cell_type": "code",
      "metadata": {
        "id": "G9k_iBSarpO7",
        "colab_type": "code",
        "colab": {},
        "outputId": "627d5c5f-e5fc-4b04-b94e-ffb23ff4960b"
      },
      "source": [
        "y.args"
      ],
      "execution_count": null,
      "outputs": [
        {
          "output_type": "execute_result",
          "data": {
            "image/png": "[encoded data removed]",
            "text/latex": "$$\\left ( \\right )$$",
            "text/plain": [
              "()"
            ]
          },
          "metadata": {
            "tags": []
          },
          "execution_count": 44
        }
      ]
    },
    {
      "cell_type": "code",
      "metadata": {
        "id": "R4iQqVoGrpO9",
        "colab_type": "code",
        "colab": {},
        "outputId": "eab4c252-f61c-43d7-858e-c413ff57c1f5"
      },
      "source": [
        "Integer(2).args"
      ],
      "execution_count": null,
      "outputs": [
        {
          "output_type": "execute_result",
          "data": {
            "image/png": "[encoded data removed]",
            "text/latex": "$$\\left ( \\right )$$",
            "text/plain": [
              "()"
            ]
          },
          "metadata": {
            "tags": []
          },
          "execution_count": 45
        }
      ]
    },
    {
      "cell_type": "markdown",
      "metadata": {
        "id": "jyI0nprYrpO_",
        "colab_type": "text"
      },
      "source": [
        "###### key invariant\n",
        "Every well-formed SymPy expression must either have empty args or satisfy expr == expr.func(*expr.args).\n",
        "\n",
        "(Recall that in Python if a is a tuple, then f(*a) means to call f with arguments from the elements of a, e.g., f(*(1, 2, 3)) is the same as f(1, 2, 3).)"
      ]
    },
    {
      "cell_type": "code",
      "metadata": {
        "id": "bwWyNMz1rpO_",
        "colab_type": "code",
        "colab": {},
        "outputId": "74e90098-84df-42a9-e9ab-c7b6da539674"
      },
      "source": [
        "56 * 35 * 21"
      ],
      "execution_count": null,
      "outputs": [
        {
          "output_type": "execute_result",
          "data": {
            "image/png": "[encoded data removed]",
            "text/latex": "$$41160$$",
            "text/plain": [
              "41160"
            ]
          },
          "metadata": {
            "tags": []
          },
          "execution_count": 46
        }
      ]
    },
    {
      "cell_type": "code",
      "metadata": {
        "id": "Q_HeWa2QrpPB",
        "colab_type": "code",
        "colab": {}
      },
      "source": [
        "def pre(expr):\n",
        "    print(expr)\n",
        "    for arg in expr.args:\n",
        "        pre(arg)"
      ],
      "execution_count": null,
      "outputs": []
    },
    {
      "cell_type": "code",
      "metadata": {
        "id": "egS7VVUVrpPD",
        "colab_type": "code",
        "colab": {},
        "outputId": "6133a0a7-66bb-4747-8057-9de4189c9825"
      },
      "source": [
        "expr = x*y + 1\n",
        "pre(expr)"
      ],
      "execution_count": null,
      "outputs": [
        {
          "output_type": "stream",
          "text": [
            "x*y + 1\n",
            "1\n",
            "x*y\n",
            "x\n",
            "y\n"
          ],
          "name": "stdout"
        }
      ]
    },
    {
      "cell_type": "markdown",
      "metadata": {
        "id": "BNFSwx5KrpPF",
        "colab_type": "text"
      },
      "source": [
        "###### pre-order traversal\n",
        "Can you guess why we called our function pre? We just wrote a pre-order traversal function for our expression tree. See if you can write a post-order traversal function."
      ]
    },
    {
      "cell_type": "code",
      "metadata": {
        "id": "m1mfnCpBrpPG",
        "colab_type": "code",
        "colab": {},
        "outputId": "30a9abb1-2964-4ff6-dce5-c0064effeee4"
      },
      "source": [
        "from sympy import *\n",
        "init_printing()\n",
        "x, y, z = symbols('x y z')\n",
        "expr = x*y + 1\n",
        "\n",
        "for arg in preorder_traversal(expr):\n",
        "    print(arg)"
      ],
      "execution_count": null,
      "outputs": [
        {
          "output_type": "stream",
          "text": [
            "x*y + 1\n",
            "1\n",
            "x*y\n",
            "x\n",
            "y\n"
          ],
          "name": "stdout"
        }
      ]
    },
    {
      "cell_type": "code",
      "metadata": {
        "id": "IFzkO-XvrpPH",
        "colab_type": "code",
        "colab": {},
        "outputId": "ffd27daa-8c98-460b-ea39-b4f223a34ef7"
      },
      "source": [
        "for arg in postorder_traversal(expr):\n",
        "    print(arg)"
      ],
      "execution_count": null,
      "outputs": [
        {
          "output_type": "stream",
          "text": [
            "1\n",
            "x\n",
            "y\n",
            "x*y\n",
            "x*y + 1\n"
          ],
          "name": "stdout"
        }
      ]
    },
    {
      "cell_type": "code",
      "metadata": {
        "id": "XSwunXYTrpPJ",
        "colab_type": "code",
        "colab": {},
        "outputId": "8034687b-e91b-48ad-fb6c-459c324cda41"
      },
      "source": [
        "from sympy import Add\n",
        "from sympy.abc import x, y, z\n",
        "x + x"
      ],
      "execution_count": null,
      "outputs": [
        {
          "output_type": "execute_result",
          "data": {
            "image/png": "[encoded data removed]",
            "text/latex": "$$2 x$$",
            "text/plain": [
              "2⋅x"
            ]
          },
          "metadata": {
            "tags": []
          },
          "execution_count": 59
        }
      ]
    },
    {
      "cell_type": "code",
      "metadata": {
        "id": "EqUz_NtqrpPL",
        "colab_type": "code",
        "colab": {},
        "outputId": "cbf5a3f2-7b15-486d-e61f-896ef3e655a4"
      },
      "source": [
        "Add(x, x, evaluate=False)"
      ],
      "execution_count": null,
      "outputs": [
        {
          "output_type": "execute_result",
          "data": {
            "image/png": "[encoded data removed]",
            "text/latex": "$$x + x$$",
            "text/plain": [
              "x + x"
            ]
          },
          "metadata": {
            "tags": []
          },
          "execution_count": 60
        }
      ]
    },
    {
      "cell_type": "code",
      "metadata": {
        "id": "jWuYEOyqrpPM",
        "colab_type": "code",
        "colab": {},
        "outputId": "e193c3bd-e82a-4c8e-b464-c3c29233a091"
      },
      "source": [
        "sympify(\"x + x\", evaluate=False)"
      ],
      "execution_count": null,
      "outputs": [
        {
          "output_type": "execute_result",
          "data": {
            "image/png": "[encoded data removed]",
            "text/latex": "$$x + x$$",
            "text/plain": [
              "x + x"
            ]
          },
          "metadata": {
            "tags": []
          },
          "execution_count": 62
        }
      ]
    },
    {
      "cell_type": "code",
      "metadata": {
        "id": "VUBxyn1srpPQ",
        "colab_type": "code",
        "colab": {},
        "outputId": "04421406-2dac-44f0-892c-63272cb7d3dd"
      },
      "source": [
        "expr = Add(x, x, evaluate=False)\n",
        "expr"
      ],
      "execution_count": null,
      "outputs": [
        {
          "output_type": "execute_result",
          "data": {
            "image/png": "[encoded data removed]",
            "text/latex": "$$x + x$$",
            "text/plain": [
              "x + x"
            ]
          },
          "metadata": {
            "tags": []
          },
          "execution_count": 63
        }
      ]
    },
    {
      "cell_type": "code",
      "metadata": {
        "id": "YpXx5syArpPV",
        "colab_type": "code",
        "colab": {},
        "outputId": "81abe618-3f58-4e5d-fc50-6276a77aea3d"
      },
      "source": [
        "expr + x"
      ],
      "execution_count": null,
      "outputs": [
        {
          "output_type": "execute_result",
          "data": {
            "image/png": "[encoded data removed]",
            "text/latex": "$$3 x$$",
            "text/plain": [
              "3⋅x"
            ]
          },
          "metadata": {
            "tags": []
          },
          "execution_count": 64
        }
      ]
    },
    {
      "cell_type": "code",
      "metadata": {
        "id": "-SDM1-hYrpPb",
        "colab_type": "code",
        "colab": {},
        "outputId": "6b02c970-8e42-4a7a-84a0-f760e8cba1b7"
      },
      "source": [
        "expr = x + UnevaluatedExpr(x)\n",
        "expr"
      ],
      "execution_count": null,
      "outputs": [
        {
          "output_type": "execute_result",
          "data": {
            "image/png": "[encoded data removed]",
            "text/latex": "$$x + x$$",
            "text/plain": [
              "x + x"
            ]
          },
          "metadata": {
            "tags": []
          },
          "execution_count": 65
        }
      ]
    },
    {
      "cell_type": "code",
      "metadata": {
        "id": "foXr-ucRrpPd",
        "colab_type": "code",
        "colab": {},
        "outputId": "5049ba20-9d80-4470-c266-5ba5a3ba0e37"
      },
      "source": [
        "x + expr"
      ],
      "execution_count": null,
      "outputs": [
        {
          "output_type": "execute_result",
          "data": {
            "image/png": "[encoded data removed]",
            "text/latex": "$$2 x + x$$",
            "text/plain": [
              "2⋅x + x"
            ]
          },
          "metadata": {
            "tags": []
          },
          "execution_count": 66
        }
      ]
    },
    {
      "cell_type": "code",
      "metadata": {
        "id": "9RAptMm9rpPf",
        "colab_type": "code",
        "colab": {},
        "outputId": "2999626b-6093-40df-899f-7600defc5f22"
      },
      "source": [
        "(expr + x).doit()"
      ],
      "execution_count": null,
      "outputs": [
        {
          "output_type": "execute_result",
          "data": {
            "image/png": "[encoded data removed]",
            "text/latex": "$$3 x$$",
            "text/plain": [
              "3⋅x"
            ]
          },
          "metadata": {
            "tags": []
          },
          "execution_count": 69
        }
      ]
    },
    {
      "cell_type": "code",
      "metadata": {
        "id": "dKui4v98rpPh",
        "colab_type": "code",
        "colab": {},
        "outputId": "d39797b1-f2b7-42ff-8ad6-80ba192e9585"
      },
      "source": [
        "from sympy import *\n",
        "from sympy.abc import x, y, z\n",
        "uexpr = UnevaluatedExpr(S.One*5/7)*UnevaluatedExpr(S.One*3/4)\n",
        "uexpr"
      ],
      "execution_count": null,
      "outputs": [
        {
          "output_type": "execute_result",
          "data": {
            "image/png": "[encoded data removed]",
            "text/latex": "$$\\frac{5}{7} \\frac{3}{4}$$",
            "text/plain": [
              "5/7⋅3/4"
            ]
          },
          "metadata": {
            "tags": []
          },
          "execution_count": 70
        }
      ]
    },
    {
      "cell_type": "code",
      "metadata": {
        "id": "Uy5WdQeurpPl",
        "colab_type": "code",
        "colab": {},
        "outputId": "80536db0-38fa-4584-f083-b08e48e54d03"
      },
      "source": [
        "x*UnevaluatedExpr(1/x)"
      ],
      "execution_count": null,
      "outputs": [
        {
          "output_type": "execute_result",
          "data": {
            "image/png": "[encoded data removed]",
            "text/latex": "$$x \\frac{1}{x}$$",
            "text/plain": [
              "  1\n",
              "x⋅─\n",
              "  x"
            ]
          },
          "metadata": {
            "tags": []
          },
          "execution_count": 74
        }
      ]
    },
    {
      "cell_type": "code",
      "metadata": {
        "id": "OLF46PKgrpPn",
        "colab_type": "code",
        "colab": {},
        "outputId": "0075fdf1-05ed-4bdc-f153-e1187bd3ec36"
      },
      "source": [
        "UnevaluatedExpr(x + x)"
      ],
      "execution_count": null,
      "outputs": [
        {
          "output_type": "execute_result",
          "data": {
            "image/png": "[encoded data removed]",
            "text/latex": "$$2 x$$",
            "text/plain": [
              "2⋅x"
            ]
          },
          "metadata": {
            "tags": []
          },
          "execution_count": 75
        }
      ]
    },
    {
      "cell_type": "code",
      "metadata": {
        "id": "zIFvfM1frpPp",
        "colab_type": "code",
        "colab": {},
        "outputId": "0e73dc0c-1dd4-4857-e505-244c06adde18"
      },
      "source": [
        "UnevaluatedExpr(sympify(\"x + x\", evaluate=False)) + y"
      ],
      "execution_count": null,
      "outputs": [
        {
          "output_type": "execute_result",
          "data": {
            "image/png": "[encoded data removed]",
            "text/latex": "$$y + x + x$$",
            "text/plain": [
              "y + x + x"
            ]
          },
          "metadata": {
            "tags": []
          },
          "execution_count": 77
        }
      ]
    },
    {
      "cell_type": "markdown",
      "metadata": {
        "id": "LRuMJAOirpPq",
        "colab_type": "text"
      },
      "source": [
        "###### next is gotchas and pitfalls"
      ]
    }
  ]
}