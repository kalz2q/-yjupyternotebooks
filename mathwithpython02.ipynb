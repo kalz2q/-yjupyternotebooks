{
  "nbformat": 4,
  "nbformat_minor": 0,
  "metadata": {
    "kernelspec": {
      "display_name": "Python 3",
      "language": "python",
      "name": "python3"
    },
    "language_info": {
      "codemirror_mode": {
        "name": "ipython",
        "version": 3
      },
      "file_extension": ".py",
      "mimetype": "text/x-python",
      "name": "python",
      "nbconvert_exporter": "python",
      "pygments_lexer": "ipython3",
      "version": "3.6.6"
    },
    "colab": {
      "name": "mathwithpython02.ipynb",
      "provenance": [],
      "toc_visible": true,
      "include_colab_link": true
    }
  },
  "cells": [
    {
      "cell_type": "markdown",
      "metadata": {
        "id": "view-in-github",
        "colab_type": "text"
      },
      "source": [
        "<a href=\"https://colab.research.google.com/github/kalz2q/mycolabnotebooks/blob/master/mathwithpython02.ipynb\" target=\"_parent\"><img src=\"https://colab.research.google.com/assets/colab-badge.svg\" alt=\"Open In Colab\"/></a>"
      ]
    },
    {
      "cell_type": "markdown",
      "metadata": {
        "id": "aaQyXb-2rpGk"
      },
      "source": [
        "# メモ\n",
        "\n",
        "いまはsympyのtutorialを読んでいるところ。  \n",
        "\n",
        "次はcalculus微積分\n",
        "\n",
        "sympyのmanualはむずかしそうなので考える。  \n",
        "そんな意味ではtutorialも難しい。  \n",
        "ほんとは数学と平行してやらないとあまり意味がないが、とりあえず写経をしておいて、数学はあとから考える。  \n",
        "数学をやっていて道具がないと勉強できない！！  \n",
        "とおもったからsympyをやっているのだよ。  \n",
        "だからある程度の行ったり来たりせざるを得ない。\n",
        "\n",
        "1. 本家`SymPy Tutorial` (https://docs.sympy.org/latest/tutorial/index.html#tutorial)\n",
        "1. 入力例で学ぶPython(SymPy)の使い方(入門) (https://pianofisica.hatenablog.com/entry/2019/04/04/183712)\n",
        "1. `Doing Math With Python` PDF ( http://index-of.es/Varios-2/Doing%20Math%20with%20Python.pdf)\n",
        "1. `Doing Math With Python` site (http://www.nostarch.com/doingmathwithpython/ )\n"
      ]
    },
    {
      "cell_type": "markdown",
      "metadata": {
        "id": "6aB3pN-ZGf3c"
      },
      "source": [
        "# calculus 微積分"
      ]
    },
    {
      "cell_type": "code",
      "metadata": {
        "id": "jmjnH5SKrpGn",
        "colab": {
          "base_uri": "https://localhost:8080/",
          "height": 61
        },
        "outputId": "38b268a0-676e-450e-c211-625f04451ebb"
      },
      "source": [
        "from sympy import *\n",
        "init_printing()\n",
        "x, y, z = symbols('x y z')\n",
        "display(diff(sin(x)))\n",
        "display(diff(cos(x)))"
      ],
      "execution_count": 8,
      "outputs": [
        {
          "output_type": "display_data",
          "data": {
            "image/png": "[encoded data removed]",
            "text/latex": "$\\displaystyle \\cos{\\left(x \\right)}$",
            "text/plain": [
              "cos(x)"
            ]
          },
          "metadata": {
            "tags": []
          }
        },
        {
          "output_type": "display_data",
          "data": {
            "image/png": "[encoded data removed]",
            "text/latex": "$\\displaystyle - \\sin{\\left(x \\right)}$",
            "text/plain": [
              "-sin(x)"
            ]
          },
          "metadata": {
            "tags": []
          }
        }
      ]
    },
    {
      "cell_type": "code",
      "metadata": {
        "id": "jhsDdemDdI6S",
        "colab": {
          "base_uri": "https://localhost:8080/",
          "height": 106
        },
        "outputId": "56c06d61-1eb7-4696-92c8-ec9d34f4d892"
      },
      "source": [
        "display(Eq(Derivative(sin(x)), diff(sin(x))))\r\n",
        "print()\r\n",
        "display(Eq(Derivative(cos(x)), diff(cos(x))))"
      ],
      "execution_count": 11,
      "outputs": [
        {
          "output_type": "display_data",
          "data": {
            "image/png": "[encoded data removed]",
            "text/latex": "$\\displaystyle \\frac{d}{d x} \\sin{\\left(x \\right)} = \\cos{\\left(x \\right)}$",
            "text/plain": [
              "d                  \n",
              "──(sin(x)) = cos(x)\n",
              "dx                 "
            ]
          },
          "metadata": {
            "tags": []
          }
        },
        {
          "output_type": "stream",
          "text": [
            "\n"
          ],
          "name": "stdout"
        },
        {
          "output_type": "display_data",
          "data": {
            "image/png": "[encoded data removed]",
            "text/latex": "$\\displaystyle \\frac{d}{d x} \\cos{\\left(x \\right)} = - \\sin{\\left(x \\right)}$",
            "text/plain": [
              "d                   \n",
              "──(cos(x)) = -sin(x)\n",
              "dx                  "
            ]
          },
          "metadata": {
            "tags": []
          }
        }
      ]
    },
    {
      "cell_type": "markdown",
      "metadata": {
        "id": "YWV0wByWrpG5"
      },
      "source": [
        "# 偏微分 partial differentiation\n"
      ]
    },
    {
      "cell_type": "code",
      "metadata": {
        "id": "yb0cYJxfHQen",
        "colab": {
          "base_uri": "https://localhost:8080/",
          "height": 57
        },
        "outputId": "35e759a9-60bf-4b14-fbe9-2f1c930b141a"
      },
      "source": [
        "%%latex\n",
        "\\displaystyle\n",
        "\\frac{\\partial ^7}{\\partial x \\partial y^2 \\partial z^2} e ^{xyz}"
      ],
      "execution_count": 13,
      "outputs": [
        {
          "output_type": "display_data",
          "data": {
            "text/latex": "\\displaystyle\n\\frac{\\partial ^7}{\\partial x \\partial y^2 \\partial z^2} e ^{xyz}",
            "text/plain": [
              "<IPython.core.display.Latex object>"
            ]
          },
          "metadata": {
            "tags": []
          }
        }
      ]
    },
    {
      "cell_type": "code",
      "metadata": {
        "colab": {
          "base_uri": "https://localhost:8080/",
          "height": 96
        },
        "id": "2_nkqMf8QRDF",
        "outputId": "48a2342e-5f88-4cf6-c787-7ce0f3199b90"
      },
      "source": [
        "from sympy import *\r\n",
        "init_printing()\r\n",
        "x, y, z = symbols('x y z')\r\n",
        "expr = exp(x)\r\n",
        "display (expr)\r\n",
        "display (diff(expr))\r\n",
        "display(Eq(Derivative(expr), diff(expr)))"
      ],
      "execution_count": 16,
      "outputs": [
        {
          "output_type": "display_data",
          "data": {
            "image/png": "[encoded data removed]",
            "text/latex": "$\\displaystyle e^{x}$",
            "text/plain": [
              " x\n",
              "ℯ "
            ]
          },
          "metadata": {
            "tags": []
          }
        },
        {
          "output_type": "display_data",
          "data": {
            "image/png": "[encoded data removed]",
            "text/latex": "$\\displaystyle e^{x}$",
            "text/plain": [
              " x\n",
              "ℯ "
            ]
          },
          "metadata": {
            "tags": []
          }
        },
        {
          "output_type": "display_data",
          "data": {
            "image/png": "[encoded data removed]",
            "text/latex": "$\\displaystyle \\frac{d}{d x} e^{x} = e^{x}$",
            "text/plain": [
              "d ⎛ x⎞    x\n",
              "──⎝ℯ ⎠ = ℯ \n",
              "dx         "
            ]
          },
          "metadata": {
            "tags": []
          }
        }
      ]
    },
    {
      "cell_type": "code",
      "metadata": {
        "id": "WKYZWb4KrpG6",
        "colab": {
          "base_uri": "https://localhost:8080/",
          "height": 53
        },
        "outputId": "448a0bde-8809-4ea8-e317-19a1523ede94"
      },
      "source": [
        "from sympy import *\n",
        "init_printing()\n",
        "x, y, z = symbols('x y z')\n",
        "expr = exp(x**2)\n",
        "display(Eq(Derivative(expr), diff(expr)))"
      ],
      "execution_count": 18,
      "outputs": [
        {
          "output_type": "display_data",
          "data": {
            "image/png": "[encoded data removed]",
            "text/latex": "$\\displaystyle \\frac{d}{d x} e^{x^{2}} = 2 x e^{x^{2}}$",
            "text/plain": [
              "  ⎛ ⎛ 2⎞⎞        ⎛ 2⎞\n",
              "d ⎜ ⎝x ⎠⎟        ⎝x ⎠\n",
              "──⎝ℯ    ⎠ = 2⋅x⋅ℯ    \n",
              "dx                   "
            ]
          },
          "metadata": {
            "tags": []
          }
        }
      ]
    },
    {
      "cell_type": "code",
      "metadata": {
        "id": "2N-paiUUrpG_",
        "colab": {
          "base_uri": "https://localhost:8080/",
          "height": 79
        },
        "outputId": "78aa0402-629a-4097-dbf2-97b76e7785c5"
      },
      "source": [
        "expr = exp(x*y*z)\n",
        "display(diff(expr,x,y,z))\n",
        "display(Eq(Derivative(expr,x,y,y,z,z,z,z), diff(expr,x,y,y,z,z,z,z)))"
      ],
      "execution_count": 20,
      "outputs": [
        {
          "output_type": "display_data",
          "data": {
            "image/png": "[encoded data removed]",
            "text/latex": "$\\displaystyle \\left(x^{2} y^{2} z^{2} + 3 x y z + 1\\right) e^{x y z}$",
            "text/plain": [
              "⎛ 2  2  2              ⎞  x⋅y⋅z\n",
              "⎝x ⋅y ⋅z  + 3⋅x⋅y⋅z + 1⎠⋅ℯ     "
            ]
          },
          "metadata": {
            "tags": []
          }
        },
        {
          "output_type": "display_data",
          "data": {
            "image/png": "[encoded data removed]",
            "text/latex": "$\\displaystyle \\frac{\\partial^{7}}{\\partial z^{4}\\partial y^{2}\\partial x} e^{x y z} = x^{3} y^{2} \\left(x^{3} y^{3} z^{3} + 14 x^{2} y^{2} z^{2} + 52 x y z + 48\\right) e^{x y z}$",
            "text/plain": [
              "     7                                                                    \n",
              "    ∂     ⎛ x⋅y⋅z⎞    3  2 ⎛ 3  3  3       2  2  2                ⎞  x⋅y⋅z\n",
              "──────────⎝ℯ     ⎠ = x ⋅y ⋅⎝x ⋅y ⋅z  + 14⋅x ⋅y ⋅z  + 52⋅x⋅y⋅z + 48⎠⋅ℯ     \n",
              "  4   2                                                                   \n",
              "∂z  ∂y  ∂x                                                                "
            ]
          },
          "metadata": {
            "tags": []
          }
        }
      ]
    },
    {
      "cell_type": "code",
      "metadata": {
        "id": "UlRbWyJerpHE",
        "colab": {
          "base_uri": "https://localhost:8080/",
          "height": 39
        },
        "outputId": "827ea447-bfab-47c3-f179-3a38f7564aa6"
      },
      "source": [
        "diff(expr,x,y,z)"
      ],
      "execution_count": null,
      "outputs": [
        {
          "output_type": "execute_result",
          "data": {
            "image/png": "[encoded data removed]",
            "text/latex": "$\\displaystyle \\left(x^{2} y^{2} z^{2} + 3 x y z + 1\\right) e^{x y z}$",
            "text/plain": [
              "⎛ 2  2  2              ⎞  x⋅y⋅z\n",
              "⎝x ⋅y ⋅z  + 3⋅x⋅y⋅z + 1⎠⋅ℯ     "
            ]
          },
          "metadata": {
            "tags": []
          },
          "execution_count": 19
        }
      ]
    },
    {
      "cell_type": "code",
      "metadata": {
        "id": "iBfnAPeQrpHJ",
        "colab": {
          "base_uri": "https://localhost:8080/",
          "height": 39
        },
        "outputId": "811885ae-1a0b-4cd0-830c-a6cac01107fc"
      },
      "source": [
        "diff(expr,x,y,2,z,4)"
      ],
      "execution_count": null,
      "outputs": [
        {
          "output_type": "execute_result",
          "data": {
            "image/png": "[encoded data removed]",
            "text/latex": "$\\displaystyle x^{3} y^{2} \\left(x^{3} y^{3} z^{3} + 14 x^{2} y^{2} z^{2} + 52 x y z + 48\\right) e^{x y z}$",
            "text/plain": [
              " 3  2 ⎛ 3  3  3       2  2  2                ⎞  x⋅y⋅z\n",
              "x ⋅y ⋅⎝x ⋅y ⋅z  + 14⋅x ⋅y ⋅z  + 52⋅x⋅y⋅z + 48⎠⋅ℯ     "
            ]
          },
          "metadata": {
            "tags": []
          },
          "execution_count": 20
        }
      ]
    },
    {
      "cell_type": "code",
      "metadata": {
        "id": "PpJFi01wrpHR",
        "colab": {
          "base_uri": "https://localhost:8080/",
          "height": 39
        },
        "outputId": "b438df23-6f90-4e49-e5e4-ca8bcc8f0d42"
      },
      "source": [
        "diff(expr,x,y,y,z,4)"
      ],
      "execution_count": null,
      "outputs": [
        {
          "output_type": "execute_result",
          "data": {
            "image/png": "[encoded data removed]",
            "text/latex": "$\\displaystyle x^{3} y^{2} \\left(x^{3} y^{3} z^{3} + 14 x^{2} y^{2} z^{2} + 52 x y z + 48\\right) e^{x y z}$",
            "text/plain": [
              " 3  2 ⎛ 3  3  3       2  2  2                ⎞  x⋅y⋅z\n",
              "x ⋅y ⋅⎝x ⋅y ⋅z  + 14⋅x ⋅y ⋅z  + 52⋅x⋅y⋅z + 48⎠⋅ℯ     "
            ]
          },
          "metadata": {
            "tags": []
          },
          "execution_count": 21
        }
      ]
    },
    {
      "cell_type": "markdown",
      "metadata": {
        "id": "utnFOHwvrpHa"
      },
      "source": [
        "### 未評価の導関数を作る\n",
        "\n",
        "導関数クラスを使う。"
      ]
    },
    {
      "cell_type": "code",
      "metadata": {
        "id": "T0523hpvrpHb",
        "colab": {
          "base_uri": "https://localhost:8080/",
          "height": 57
        },
        "outputId": "64ef9008-8f6b-4466-aef8-265df8e5b434"
      },
      "source": [
        "from sympy import *\n",
        "init_printing()\n",
        "x, y, z = symbols('x y z')\n",
        "expr = exp(x*y*z)\n",
        "\n",
        "deriv = Derivative(expr, x, y, y, z, 4)\n",
        "deriv"
      ],
      "execution_count": null,
      "outputs": [
        {
          "output_type": "execute_result",
          "data": {
            "image/png": "[encoded data removed]",
            "text/latex": "$\\displaystyle \\frac{\\partial^{7}}{\\partial z^{4}\\partial y^{2}\\partial x} e^{x y z}$",
            "text/plain": [
              "     7            \n",
              "    ∂     ⎛ x⋅y⋅z⎞\n",
              "──────────⎝ℯ     ⎠\n",
              "  4   2           \n",
              "∂z  ∂y  ∂x        "
            ]
          },
          "metadata": {
            "tags": []
          },
          "execution_count": 22
        }
      ]
    },
    {
      "cell_type": "markdown",
      "metadata": {
        "id": "f8JU4UZDrpHl"
      },
      "source": [
        "###  未評価の導関数を評価する\n",
        "\n",
        "`doit`メソッドを使う。"
      ]
    },
    {
      "cell_type": "code",
      "metadata": {
        "id": "jKYGLOw_rpHm",
        "colab": {
          "base_uri": "https://localhost:8080/",
          "height": 39
        },
        "outputId": "41e1b817-538b-42fb-9b66-8c9cb1050bff"
      },
      "source": [
        "deriv.doit()"
      ],
      "execution_count": null,
      "outputs": [
        {
          "output_type": "execute_result",
          "data": {
            "image/png": "[encoded data removed]",
            "text/latex": "$\\displaystyle x^{3} y^{2} \\left(x^{3} y^{3} z^{3} + 14 x^{2} y^{2} z^{2} + 52 x y z + 48\\right) e^{x y z}$",
            "text/plain": [
              " 3  2 ⎛ 3  3  3       2  2  2                ⎞  x⋅y⋅z\n",
              "x ⋅y ⋅⎝x ⋅y ⋅z  + 14⋅x ⋅y ⋅z  + 52⋅x⋅y⋅z + 48⎠⋅ℯ     "
            ]
          },
          "metadata": {
            "tags": []
          },
          "execution_count": 24
        }
      ]
    },
    {
      "cell_type": "code",
      "metadata": {
        "id": "Qqj0vkfzrpHq",
        "colab": {
          "base_uri": "https://localhost:8080/",
          "height": 39
        },
        "outputId": "980c5c40-1b15-4d9d-9c69-6cb56ea1c33d"
      },
      "source": [
        "Derivative((x**2),x).doit()"
      ],
      "execution_count": null,
      "outputs": [
        {
          "output_type": "execute_result",
          "data": {
            "image/png": "[encoded data removed]",
            "text/latex": "$\\displaystyle 2 x$",
            "text/plain": [
              "2⋅x"
            ]
          },
          "metadata": {
            "tags": []
          },
          "execution_count": 25
        }
      ]
    },
    {
      "cell_type": "markdown",
      "metadata": {
        "id": "wr6eBWtRrpHu"
      },
      "source": [
        "###  Derivatives of unspecified order\n",
        "\n",
        "Derivatives of unspecified order can be created using tuple (x, n) where n is the order of the derivative with respect to x"
      ]
    },
    {
      "cell_type": "code",
      "metadata": {
        "id": "2Rl2hxZmrpHv",
        "colab": {
          "base_uri": "https://localhost:8080/",
          "height": 53
        },
        "outputId": "f68b9468-edbc-423b-fd14-bd569ffaa878"
      },
      "source": [
        "from sympy import *\n",
        "init_printing()\n",
        "m, n, a, b = symbols('m n a b')\n",
        "expr = (a*x + b)**m\n",
        "expr.diff((x,n))"
      ],
      "execution_count": null,
      "outputs": [
        {
          "output_type": "execute_result",
          "data": {
            "image/png": "[encoded data removed]",
            "text/latex": "$\\displaystyle \\frac{\\partial^{n}}{\\partial x^{n}} \\left(a x + b\\right)^{m}$",
            "text/plain": [
              "  n            \n",
              " ∂ ⎛         m⎞\n",
              "───⎝(a⋅x + b) ⎠\n",
              "  n            \n",
              "∂x             "
            ]
          },
          "metadata": {
            "tags": []
          },
          "execution_count": 26
        }
      ]
    },
    {
      "cell_type": "markdown",
      "metadata": {
        "id": "fEFOFUDlrpHz"
      },
      "source": [
        "### Integrals 積分"
      ]
    },
    {
      "cell_type": "code",
      "metadata": {
        "id": "caZEtF-0rpH0",
        "colab": {
          "base_uri": "https://localhost:8080/",
          "height": 39
        },
        "outputId": "84f38bf6-4524-4053-cf75-19fae93e1dd5"
      },
      "source": [
        "integrate(cos(x),x)"
      ],
      "execution_count": null,
      "outputs": [
        {
          "output_type": "execute_result",
          "data": {
            "image/png": "[encoded data removed]",
            "text/latex": "$\\displaystyle \\sin{\\left(x \\right)}$",
            "text/plain": [
              "sin(x)"
            ]
          },
          "metadata": {
            "tags": []
          },
          "execution_count": 27
        }
      ]
    },
    {
      "cell_type": "code",
      "metadata": {
        "id": "bBoZwpmerpH4",
        "colab": {
          "base_uri": "https://localhost:8080/",
          "height": 77
        },
        "outputId": "2f545dd8-d68f-4fda-cde1-ea14d870544d"
      },
      "source": [
        "Integral(cos(x),(x,0,oo))"
      ],
      "execution_count": null,
      "outputs": [
        {
          "output_type": "execute_result",
          "data": {
            "image/png": "[encoded data removed]",
            "text/latex": "$\\displaystyle \\int\\limits_{0}^{\\infty} \\cos{\\left(x \\right)}\\, dx$",
            "text/plain": [
              "∞          \n",
              "⌠          \n",
              "⎮ cos(x) dx\n",
              "⌡          \n",
              "0          "
            ]
          },
          "metadata": {
            "tags": []
          },
          "execution_count": 28
        }
      ]
    },
    {
      "cell_type": "code",
      "metadata": {
        "id": "jYzaAlhDrpH9",
        "colab": {
          "base_uri": "https://localhost:8080/",
          "height": 37
        },
        "outputId": "7674a7ee-ccbb-4a47-d01d-bc4dc7943d49"
      },
      "source": [
        "integrate(cos(x),(x,0,oo))"
      ],
      "execution_count": null,
      "outputs": [
        {
          "output_type": "execute_result",
          "data": {
            "image/png": "[encoded data removed]",
            "text/latex": "$\\displaystyle \\left\\langle -1, 1\\right\\rangle$",
            "text/plain": [
              "<-1, 1>"
            ]
          },
          "metadata": {
            "tags": []
          },
          "execution_count": 29
        }
      ]
    },
    {
      "cell_type": "code",
      "metadata": {
        "id": "2S0IJ7yDrpIC",
        "colab": {
          "base_uri": "https://localhost:8080/",
          "height": 37
        },
        "outputId": "046d7fdb-fe97-4897-a8c3-7048d463d77c"
      },
      "source": [
        "integrate(exp(-x),(x,0,oo))"
      ],
      "execution_count": null,
      "outputs": [
        {
          "output_type": "execute_result",
          "data": {
            "image/png": "[encoded data removed]",
            "text/latex": "$\\displaystyle 1$",
            "text/plain": [
              "1"
            ]
          },
          "metadata": {
            "tags": []
          },
          "execution_count": 30
        }
      ]
    },
    {
      "cell_type": "code",
      "metadata": {
        "id": "UmflOVm9rpIG",
        "colab": {
          "base_uri": "https://localhost:8080/",
          "height": 78
        },
        "outputId": "4d490505-6f56-4017-e8fb-537cccb1f6a0"
      },
      "source": [
        "Integral(exp(-x**2 -y**2),(x, -oo, oo), (y,-oo,oo))"
      ],
      "execution_count": null,
      "outputs": [
        {
          "output_type": "execute_result",
          "data": {
            "image/png": "[encoded data removed]",
            "text/latex": "$\\displaystyle \\int\\limits_{-\\infty}^{\\infty}\\int\\limits_{-\\infty}^{\\infty} e^{- x^{2} - y^{2}}\\, dx\\, dy$",
            "text/plain": [
              "∞  ∞                  \n",
              "⌠  ⌠                  \n",
              "⎮  ⎮      2    2      \n",
              "⎮  ⎮   - x  - y       \n",
              "⎮  ⎮  ℯ          dx dy\n",
              "⌡  ⌡                  \n",
              "-∞ -∞                 "
            ]
          },
          "metadata": {
            "tags": []
          },
          "execution_count": 31
        }
      ]
    },
    {
      "cell_type": "code",
      "metadata": {
        "id": "td5BCSNYrpIJ",
        "colab": {
          "base_uri": "https://localhost:8080/",
          "height": 39
        },
        "outputId": "07a075ac-185b-4e58-ef98-c63c981c8de9"
      },
      "source": [
        "integrate(exp(-x**2 - y**2), (x, -oo, oo), (y, -oo, oo))"
      ],
      "execution_count": null,
      "outputs": [
        {
          "output_type": "execute_result",
          "data": {
            "image/png": "[encoded data removed]",
            "text/latex": "$\\displaystyle \\pi$",
            "text/plain": [
              "π"
            ]
          },
          "metadata": {
            "tags": []
          },
          "execution_count": 32
        }
      ]
    },
    {
      "cell_type": "code",
      "metadata": {
        "id": "xYKhkolQrpIN",
        "colab": {
          "base_uri": "https://localhost:8080/",
          "height": 73
        },
        "outputId": "fbf26dbc-6083-403b-ff77-ace64e9f4561"
      },
      "source": [
        "expr = integrate(x**x, x)\n",
        "print(expr)\n",
        "display(expr)"
      ],
      "execution_count": null,
      "outputs": [
        {
          "output_type": "stream",
          "text": [
            "Integral(x**x, x)\n"
          ],
          "name": "stdout"
        },
        {
          "output_type": "display_data",
          "data": {
            "image/png": "[encoded data removed]",
            "text/latex": "$\\displaystyle \\int x^{x}\\, dx$",
            "text/plain": [
              "⌠      \n",
              "⎮  x   \n",
              "⎮ x  dx\n",
              "⌡      "
            ]
          },
          "metadata": {
            "tags": []
          }
        }
      ]
    },
    {
      "cell_type": "code",
      "metadata": {
        "id": "vb8E2T3CrpIR",
        "colab": {
          "base_uri": "https://localhost:8080/",
          "height": 55
        },
        "outputId": "03b42c7a-9b4f-4414-9625-00631230a53c"
      },
      "source": [
        "expr"
      ],
      "execution_count": null,
      "outputs": [
        {
          "output_type": "execute_result",
          "data": {
            "image/png": "[encoded data removed]",
            "text/latex": "$\\displaystyle \\int x^{x}\\, dx$",
            "text/plain": [
              "⌠      \n",
              "⎮  x   \n",
              "⎮ x  dx\n",
              "⌡      "
            ]
          },
          "metadata": {
            "tags": []
          },
          "execution_count": 34
        }
      ]
    },
    {
      "cell_type": "code",
      "metadata": {
        "id": "BYzfiA_rrpIV",
        "colab": {
          "base_uri": "https://localhost:8080/",
          "height": 55
        },
        "outputId": "f6d72a0d-b2ec-4d63-d4fb-907518dfef2a"
      },
      "source": [
        "expr = Integral(log(x)**2,x)\n",
        "expr"
      ],
      "execution_count": null,
      "outputs": [
        {
          "output_type": "execute_result",
          "data": {
            "image/png": "[encoded data removed]",
            "text/latex": "$\\displaystyle \\int \\log{\\left(x \\right)}^{2}\\, dx$",
            "text/plain": [
              "⌠           \n",
              "⎮    2      \n",
              "⎮ log (x) dx\n",
              "⌡           "
            ]
          },
          "metadata": {
            "tags": []
          },
          "execution_count": 35
        }
      ]
    },
    {
      "cell_type": "code",
      "metadata": {
        "id": "T8KHHB9jrpIb",
        "colab": {
          "base_uri": "https://localhost:8080/",
          "height": 40
        },
        "outputId": "269a43b1-33fb-47b7-8aae-f33c5cc8e6d0"
      },
      "source": [
        "expr.doit()"
      ],
      "execution_count": null,
      "outputs": [
        {
          "output_type": "execute_result",
          "data": {
            "image/png": "[encoded data removed]",
            "text/latex": "$\\displaystyle x \\log{\\left(x \\right)}^{2} - 2 x \\log{\\left(x \\right)} + 2 x$",
            "text/plain": [
              "     2                      \n",
              "x⋅log (x) - 2⋅x⋅log(x) + 2⋅x"
            ]
          },
          "metadata": {
            "tags": []
          },
          "execution_count": 36
        }
      ]
    },
    {
      "cell_type": "code",
      "metadata": {
        "id": "_x29_37NrpIg",
        "colab": {
          "base_uri": "https://localhost:8080/",
          "height": 63
        },
        "outputId": "037209df-93df-4d06-c185-e069c9c1631e"
      },
      "source": [
        "integ = Integral((x**4 + x**2*exp(x) - x**2 - 2*x*exp(x) - 2*x - exp(x))*exp(x)/((x - 1)**2*(x + 1)**2*(exp(x) + 1)), x)\n",
        "integ"
      ],
      "execution_count": null,
      "outputs": [
        {
          "output_type": "execute_result",
          "data": {
            "image/png": "[encoded data removed]",
            "text/latex": "$\\displaystyle \\int \\frac{\\left(x^{4} + x^{2} e^{x} - x^{2} - 2 x e^{x} - 2 x - e^{x}\\right) e^{x}}{\\left(x - 1\\right)^{2} \\left(x + 1\\right)^{2} \\left(e^{x} + 1\\right)}\\, dx$",
            "text/plain": [
              "⌠                                            \n",
              "⎮ ⎛ 4    2  x    2        x          x⎞  x   \n",
              "⎮ ⎝x  + x ⋅ℯ  - x  - 2⋅x⋅ℯ  - 2⋅x - ℯ ⎠⋅ℯ    \n",
              "⎮ ──────────────────────────────────────── dx\n",
              "⎮               2        2 ⎛ x    ⎞          \n",
              "⎮        (x - 1) ⋅(x + 1) ⋅⎝ℯ  + 1⎠          \n",
              "⌡                                            "
            ]
          },
          "metadata": {
            "tags": []
          },
          "execution_count": 37
        }
      ]
    },
    {
      "cell_type": "code",
      "metadata": {
        "id": "iGAhEg5erpIk",
        "colab": {
          "base_uri": "https://localhost:8080/",
          "height": 53
        },
        "outputId": "a85cfaaa-9540-4e52-e08c-4e4a6d03b6f6"
      },
      "source": [
        "integ.doit()"
      ],
      "execution_count": null,
      "outputs": [
        {
          "output_type": "execute_result",
          "data": {
            "image/png": "[encoded data removed]",
            "text/latex": "$\\displaystyle \\log{\\left(e^{x} + 1 \\right)} + \\frac{e^{x}}{x^{2} - 1}$",
            "text/plain": [
              "                 x  \n",
              "   ⎛ x    ⎞     ℯ   \n",
              "log⎝ℯ  + 1⎠ + ──────\n",
              "               2    \n",
              "              x  - 1"
            ]
          },
          "metadata": {
            "tags": []
          },
          "execution_count": 38
        }
      ]
    },
    {
      "cell_type": "code",
      "metadata": {
        "id": "mS9LhXF2rpIn",
        "colab": {
          "base_uri": "https://localhost:8080/",
          "height": 55
        },
        "outputId": "058a65ab-424e-4a3e-be6e-9cf4ca8d5851"
      },
      "source": [
        "integ = Integral(sin(x**2),x)\n",
        "integ"
      ],
      "execution_count": null,
      "outputs": [
        {
          "output_type": "execute_result",
          "data": {
            "image/png": "[encoded data removed]",
            "text/latex": "$\\displaystyle \\int \\sin{\\left(x^{2} \\right)}\\, dx$",
            "text/plain": [
              "⌠           \n",
              "⎮    ⎛ 2⎞   \n",
              "⎮ sin⎝x ⎠ dx\n",
              "⌡           "
            ]
          },
          "metadata": {
            "tags": []
          },
          "execution_count": 39
        }
      ]
    },
    {
      "cell_type": "code",
      "metadata": {
        "id": "7f7MkNNVrpIq",
        "colab": {
          "base_uri": "https://localhost:8080/",
          "height": 73
        },
        "outputId": "c516c4e7-bb53-4b55-b64d-727d494ec8f9"
      },
      "source": [
        "integ.doit()"
      ],
      "execution_count": null,
      "outputs": [
        {
          "output_type": "execute_result",
          "data": {
            "image/png": "[encoded data removed]",
            "text/latex": "$\\displaystyle \\frac{3 \\sqrt{2} \\sqrt{\\pi} S\\left(\\frac{\\sqrt{2} x}{\\sqrt{\\pi}}\\right) \\Gamma\\left(\\frac{3}{4}\\right)}{8 \\Gamma\\left(\\frac{7}{4}\\right)}$",
            "text/plain": [
              "         ⎛√2⋅x⎞       \n",
              "3⋅√2⋅√π⋅S⎜────⎟⋅Γ(3/4)\n",
              "         ⎝ √π ⎠       \n",
              "──────────────────────\n",
              "       8⋅Γ(7/4)       "
            ]
          },
          "metadata": {
            "tags": []
          },
          "execution_count": 40
        }
      ]
    },
    {
      "cell_type": "code",
      "metadata": {
        "id": "hXY6oxzbrpIu",
        "colab": {
          "base_uri": "https://localhost:8080/",
          "height": 77
        },
        "outputId": "59dbcb5a-6e71-4b30-c2b4-8ece879d8453"
      },
      "source": [
        "integ = Integral(x**y*exp(-x), (x,0,oo))\n",
        "integ"
      ],
      "execution_count": null,
      "outputs": [
        {
          "output_type": "execute_result",
          "data": {
            "image/png": "[encoded data removed]",
            "text/latex": "$\\displaystyle \\int\\limits_{0}^{\\infty} x^{y} e^{- x}\\, dx$",
            "text/plain": [
              "∞          \n",
              "⌠          \n",
              "⎮  y  -x   \n",
              "⎮ x ⋅ℯ   dx\n",
              "⌡          \n",
              "0          "
            ]
          },
          "metadata": {
            "tags": []
          },
          "execution_count": 41
        }
      ]
    },
    {
      "cell_type": "code",
      "metadata": {
        "id": "aIchiwHcrpIz",
        "colab": {
          "base_uri": "https://localhost:8080/",
          "height": 83
        },
        "outputId": "e9902937-e899-44ed-95ed-5d28e645081a"
      },
      "source": [
        "integ.doit()"
      ],
      "execution_count": null,
      "outputs": [
        {
          "output_type": "execute_result",
          "data": {
            "text/latex": "$\\displaystyle \\begin{cases} \\Gamma\\left(y + 1\\right) & \\text{for}\\: \\operatorname{re}{\\left(y\\right)} > -1 \\\\\\int\\limits_{0}^{\\infty} x^{y} e^{- x}\\, dx & \\text{otherwise} \\end{cases}$",
            "text/plain": [
              "⎧ Γ(y + 1)    for re(y) > -1\n",
              "⎪                           \n",
              "⎪∞                          \n",
              "⎪⌠                          \n",
              "⎨⎮  y  -x                   \n",
              "⎪⎮ x ⋅ℯ   dx    otherwise   \n",
              "⎪⌡                          \n",
              "⎪0                          \n",
              "⎩                           "
            ]
          },
          "metadata": {
            "tags": []
          },
          "execution_count": 42
        }
      ]
    },
    {
      "cell_type": "markdown",
      "metadata": {
        "id": "y0WxrNPerpI3"
      },
      "source": [
        "# limits 極限\n",
        "</br></br>\n",
        "$$ \\lim_{x \\to x_0} f (x) $$\n",
        "\n"
      ]
    },
    {
      "cell_type": "code",
      "metadata": {
        "id": "II2So9NPazb8",
        "colab": {
          "base_uri": "https://localhost:8080/",
          "height": 46
        },
        "outputId": "174cbe24-ca6d-419d-c9ee-a16c2dcfdc8d"
      },
      "source": [
        "%%latex\n",
        "\\displaystyle\n",
        "\n",
        "\\lim_{x \\to x_0} f (x)"
      ],
      "execution_count": null,
      "outputs": [
        {
          "output_type": "display_data",
          "data": {
            "text/latex": "\\displaystyle\n\n\\lim_{x \\to x_0} f (x)",
            "text/plain": [
              "<IPython.core.display.Latex object>"
            ]
          },
          "metadata": {
            "tags": []
          }
        }
      ]
    },
    {
      "cell_type": "code",
      "metadata": {
        "id": "WnYZZ2tdrpI3",
        "colab": {
          "base_uri": "https://localhost:8080/",
          "height": 57
        },
        "outputId": "e803f568-0f57-4662-ccdd-cd599c90fa2c"
      },
      "source": [
        "\n",
        "Limit(sin(x)/x, x, 0)"
      ],
      "execution_count": null,
      "outputs": [
        {
          "output_type": "execute_result",
          "data": {
            "image/png": "[encoded data removed]",
            "text/latex": "$\\displaystyle \\lim_{x \\to 0^+}\\left(\\frac{\\sin{\\left(x \\right)}}{x}\\right)$",
            "text/plain": [
              "     ⎛sin(x)⎞\n",
              " lim ⎜──────⎟\n",
              "x─→0⁺⎝  x   ⎠"
            ]
          },
          "metadata": {
            "tags": []
          },
          "execution_count": 44
        }
      ]
    },
    {
      "cell_type": "code",
      "metadata": {
        "id": "QtnD3Gx5rpI6",
        "colab": {
          "base_uri": "https://localhost:8080/",
          "height": 37
        },
        "outputId": "b3ff85db-c31a-445b-89e7-0c7fa57b5336"
      },
      "source": [
        "Limit(sin(x)/x, x, 0).doit()"
      ],
      "execution_count": null,
      "outputs": [
        {
          "output_type": "execute_result",
          "data": {
            "image/png": "[encoded data removed]",
            "text/latex": "$\\displaystyle 1$",
            "text/plain": [
              "1"
            ]
          },
          "metadata": {
            "tags": []
          },
          "execution_count": 45
        }
      ]
    },
    {
      "cell_type": "code",
      "metadata": {
        "id": "fhNU28PmrpI-",
        "colab": {
          "base_uri": "https://localhost:8080/",
          "height": 37
        },
        "outputId": "1a088ce4-cb38-4443-f43e-a8adfc1285d2"
      },
      "source": [
        "expr = x**2/exp(x)\n",
        "expr.subs(x,oo)"
      ],
      "execution_count": null,
      "outputs": [
        {
          "output_type": "execute_result",
          "data": {
            "text/latex": "$\\displaystyle \\text{NaN}$",
            "text/plain": [
              "nan"
            ]
          },
          "metadata": {
            "tags": []
          },
          "execution_count": 46
        }
      ]
    },
    {
      "cell_type": "code",
      "metadata": {
        "id": "oT09ZWM5rpJC",
        "colab": {
          "base_uri": "https://localhost:8080/",
          "height": 37
        },
        "outputId": "37ea11c5-899c-4339-b6ed-261aedfa2b2c"
      },
      "source": [
        "limit(expr,x,oo)"
      ],
      "execution_count": null,
      "outputs": [
        {
          "output_type": "execute_result",
          "data": {
            "image/png": "[encoded data removed]",
            "text/latex": "$\\displaystyle 0$",
            "text/plain": [
              "0"
            ]
          },
          "metadata": {
            "tags": []
          },
          "execution_count": 47
        }
      ]
    },
    {
      "cell_type": "code",
      "metadata": {
        "id": "hf6T-l_frpJF",
        "colab": {
          "base_uri": "https://localhost:8080/",
          "height": 57
        },
        "outputId": "f3335899-26d1-4da1-f950-c0bb4d7a1020"
      },
      "source": [
        "expr = Limit((cos(x) - 1)/x, x, 0)\n",
        "expr"
      ],
      "execution_count": null,
      "outputs": [
        {
          "output_type": "execute_result",
          "data": {
            "image/png": "[encoded data removed]",
            "text/latex": "$\\displaystyle \\lim_{x \\to 0^+}\\left(\\frac{\\cos{\\left(x \\right)} - 1}{x}\\right)$",
            "text/plain": [
              "     ⎛cos(x) - 1⎞\n",
              " lim ⎜──────────⎟\n",
              "x─→0⁺⎝    x     ⎠"
            ]
          },
          "metadata": {
            "tags": []
          },
          "execution_count": 48
        }
      ]
    },
    {
      "cell_type": "code",
      "metadata": {
        "id": "w35MW4oCrpJI",
        "colab": {
          "base_uri": "https://localhost:8080/",
          "height": 37
        },
        "outputId": "0361489f-3ce5-4cfb-cc57-f79e0d15a951"
      },
      "source": [
        "expr.doit()"
      ],
      "execution_count": null,
      "outputs": [
        {
          "output_type": "execute_result",
          "data": {
            "image/png": "[encoded data removed]",
            "text/latex": "$\\displaystyle 0$",
            "text/plain": [
              "0"
            ]
          },
          "metadata": {
            "tags": []
          },
          "execution_count": 49
        }
      ]
    },
    {
      "cell_type": "code",
      "metadata": {
        "id": "cppZaZnqrpJM",
        "colab": {
          "base_uri": "https://localhost:8080/",
          "height": 37
        },
        "outputId": "57ab19a6-b7d1-41df-dbb4-7c7b9c68a127"
      },
      "source": [
        "limit(1/x,x,0,'+')"
      ],
      "execution_count": null,
      "outputs": [
        {
          "output_type": "execute_result",
          "data": {
            "image/png": "[encoded data removed]",
            "text/latex": "$\\displaystyle \\infty$",
            "text/plain": [
              "∞"
            ]
          },
          "metadata": {
            "tags": []
          },
          "execution_count": 50
        }
      ]
    },
    {
      "cell_type": "code",
      "metadata": {
        "id": "NsDXF5ujrpJQ",
        "colab": {
          "base_uri": "https://localhost:8080/",
          "height": 37
        },
        "outputId": "213d9940-afa2-4647-9c80-3e9ff029e816"
      },
      "source": [
        "limit(1/x,x,0,'-')"
      ],
      "execution_count": null,
      "outputs": [
        {
          "output_type": "execute_result",
          "data": {
            "image/png": "[encoded data removed]",
            "text/latex": "$\\displaystyle -\\infty$",
            "text/plain": [
              "-∞"
            ]
          },
          "metadata": {
            "tags": []
          },
          "execution_count": 51
        }
      ]
    },
    {
      "cell_type": "markdown",
      "metadata": {
        "id": "1AMvlv8XrpJU"
      },
      "source": [
        "# series expansion 数列展開\n",
        "\n",
        "asymptotic series -> 漸近数列\n",
        "\n",
        "`SymPy`はある点における関数の漸近数列を計算できる。\n",
        "\n",
        "点`x=x0`の近辺でタームズ・オブ・オーダーを `xn`とする関数 `f(x)` について、`f(x).serries(x, x0, n)` を使う。 `x0` と `n` は省略可能で、その場合 `x0=0`、 `n=6` が使われる。\n",
        "\n",
        "SymPy can compute asymptotic series expansions of functions around a point. To compute the expansion of f(x) around the point x=x0 terms of order xn, use f(x).series(x, x0, n). x0 and n can be omitted, in which case the defaults x0=0 and n=6 will be used."
      ]
    },
    {
      "cell_type": "code",
      "metadata": {
        "id": "Ea9yRDCsrpJV",
        "colab": {
          "base_uri": "https://localhost:8080/",
          "height": 55
        },
        "outputId": "b1c05187-7be3-481c-ecb4-e859ae440865"
      },
      "source": [
        "expr = exp(sin(x))\n",
        "expr.series(x, 0, 4)"
      ],
      "execution_count": null,
      "outputs": [
        {
          "output_type": "execute_result",
          "data": {
            "image/png": "[encoded data removed]",
            "text/latex": "$\\displaystyle 1 + x + \\frac{x^{2}}{2} + O\\left(x^{4}\\right)$",
            "text/plain": [
              "         2        \n",
              "        x     ⎛ 4⎞\n",
              "1 + x + ── + O⎝x ⎠\n",
              "        2         "
            ]
          },
          "metadata": {
            "tags": []
          },
          "execution_count": 52
        }
      ]
    },
    {
      "cell_type": "markdown",
      "metadata": {
        "id": "qDXAsebFrpJY"
      },
      "source": [
        "#  Landau order ランダウ・オーダー\n",
        "\n",
        "終点における $ O(x^4) $ タームは $x=0$ におけるランダウ・ターム・オーダーをあらwしている。コンピューターサイエンスにおけるビッグオー記法と一緒にしてはいけない。ビッグオーは一般的に `x=∞` におけるランダウ・ターム・オーダーを表す。  \n",
        " $ O(x^4) $ タームは `x4` もしくはそれ以上の冪乗の `x` タームは無視するという意味で、オーダー・タームは数列の外で作られ、操作される。高次のタームは自動的に吸収される。\n",
        "\n",
        "\n",
        "\n",
        "\n",
        "The $ O(x^4) $ term at the end represents the Landau order term at $x=0$ (not to be confused with big O notation used in computer science, which generally represents the Landau order term at x=∞). It means that all x terms with power greater than or equal to x4 are omitted. Order terms can be created and manipulated outside of series. They automatically absorb higher order terms.\n"
      ]
    },
    {
      "cell_type": "code",
      "metadata": {
        "id": "1-4X-4s6rpJZ",
        "colab": {
          "base_uri": "https://localhost:8080/",
          "height": 39
        },
        "outputId": "6b957536-a798-470e-aab8-970052b0c1e6"
      },
      "source": [
        "x + x**3 + x**6 + O(x**4)"
      ],
      "execution_count": null,
      "outputs": [
        {
          "output_type": "execute_result",
          "data": {
            "image/png": "[encoded data removed]",
            "text/latex": "$\\displaystyle x + x^{3} + O\\left(x^{4}\\right)$",
            "text/plain": [
              "     3    ⎛ 4⎞\n",
              "x + x  + O⎝x ⎠"
            ]
          },
          "metadata": {
            "tags": []
          },
          "execution_count": 53
        }
      ]
    },
    {
      "cell_type": "code",
      "metadata": {
        "id": "U9ID5a_brpJc",
        "colab": {
          "base_uri": "https://localhost:8080/",
          "height": 39
        },
        "outputId": "ed019e68-ac05-44e0-87bf-4504a467ddb4"
      },
      "source": [
        "x*O(1)"
      ],
      "execution_count": null,
      "outputs": [
        {
          "output_type": "execute_result",
          "data": {
            "image/png": "[encoded data removed]",
            "text/latex": "$\\displaystyle O\\left(x\\right)$",
            "text/plain": [
              "O(x)"
            ]
          },
          "metadata": {
            "tags": []
          },
          "execution_count": 54
        }
      ]
    },
    {
      "cell_type": "code",
      "metadata": {
        "id": "Ew8BEscYrpJf",
        "colab": {
          "base_uri": "https://localhost:8080/",
          "height": 55
        },
        "outputId": "246a69d1-1309-4316-d156-0998a842eb6b"
      },
      "source": [
        "expr.series(x,0,4).removeO()"
      ],
      "execution_count": null,
      "outputs": [
        {
          "output_type": "execute_result",
          "data": {
            "image/png": "[encoded data removed]",
            "text/latex": "$\\displaystyle \\frac{x^{2}}{2} + x + 1$",
            "text/plain": [
              " 2        \n",
              "x         \n",
              "── + x + 1\n",
              "2         "
            ]
          },
          "metadata": {
            "tags": []
          },
          "execution_count": 55
        }
      ]
    },
    {
      "cell_type": "markdown",
      "metadata": {
        "id": "Qojd-ifLrpJk"
      },
      "source": [
        "### オー記法は、ゼロ以外の任意の極限点をサポートする\n",
        "\n",
        "The O notation supports arbitrary limit points (other than 0):"
      ]
    },
    {
      "cell_type": "code",
      "metadata": {
        "id": "AwxUT_iirpJl",
        "colab": {
          "base_uri": "https://localhost:8080/",
          "height": 56
        },
        "outputId": "fa16d7cb-d759-4eee-8153-9f2d7edbec93"
      },
      "source": [
        "exp(x - 6).series(x, x0=6)"
      ],
      "execution_count": null,
      "outputs": [
        {
          "output_type": "execute_result",
          "data": {
            "image/png": "[encoded data removed]",
            "text/latex": "$\\displaystyle -5 + \\frac{\\left(x - 6\\right)^{2}}{2} + \\frac{\\left(x - 6\\right)^{3}}{6} + \\frac{\\left(x - 6\\right)^{4}}{24} + \\frac{\\left(x - 6\\right)^{5}}{120} + x + O\\left(\\left(x - 6\\right)^{6}; x\\rightarrow 6\\right)$",
            "text/plain": [
              "            2          3          4          5                         \n",
              "     (x - 6)    (x - 6)    (x - 6)    (x - 6)         ⎛       6       ⎞\n",
              "-5 + ──────── + ──────── + ──────── + ──────── + x + O⎝(x - 6) ; x → 6⎠\n",
              "        2          6          24        120                            "
            ]
          },
          "metadata": {
            "tags": []
          },
          "execution_count": 56
        }
      ]
    },
    {
      "cell_type": "markdown",
      "metadata": {
        "id": "DnEo05ZQrpJp"
      },
      "source": [
        "# Finite differences 有限差分\n",
        "\n",
        "以上見てきたのは解析微分 `analytic derivative` と原始関数 `primitive function` であったが、閉鎖的な表現を持たない曲線の微分をしたいときにはどうするか。また、そもそも関数的な値を持っていない場合はどうするか。\n",
        "\n",
        "そういう場合のアプローチのひとつが有限差分アプローチである。\n",
        "\n",
        "有限差分を使用して微分する最も簡単な方法は、`differentiate_finite` 関数を使う。\n"
      ]
    },
    {
      "cell_type": "code",
      "metadata": {
        "id": "4gdLSi0yrpJq",
        "colab": {
          "base_uri": "https://localhost:8080/",
          "height": 57
        },
        "outputId": "8640eee3-0623-476b-f207-0146d4ca9051"
      },
      "source": [
        "f, g = symbols('f g', cls=Function)\n",
        "differentiate_finite(f(x)*g(x))"
      ],
      "execution_count": null,
      "outputs": [
        {
          "output_type": "execute_result",
          "data": {
            "image/png": "[encoded data removed]",
            "text/latex": "$\\displaystyle - f{\\left(x - \\frac{1}{2} \\right)} g{\\left(x - \\frac{1}{2} \\right)} + f{\\left(x + \\frac{1}{2} \\right)} g{\\left(x + \\frac{1}{2} \\right)}$",
            "text/plain": [
              "-f(x - 1/2)⋅g(x - 1/2) + f(x + 1/2)⋅g(x + 1/2)"
            ]
          },
          "metadata": {
            "tags": []
          },
          "execution_count": 57
        }
      ]
    },
    {
      "cell_type": "markdown",
      "metadata": {
        "id": "EYpbJOQarpJt"
      },
      "source": [
        "中間導関数を拡張する場合は、フラグevaluate = Trueを渡す。\n"
      ]
    },
    {
      "cell_type": "code",
      "metadata": {
        "id": "YP7-e94arpJt",
        "colab": {
          "base_uri": "https://localhost:8080/",
          "height": 166
        },
        "outputId": "9c0ebfab-28c6-48a5-bbfe-420194b8341d"
      },
      "source": [
        "differentiate_finite(f(x)*g(x), evaluate=True)"
      ],
      "execution_count": null,
      "outputs": [
        {
          "output_type": "stream",
          "text": [
            "/usr/local/lib/python3.7/dist-packages/sympy/calculus/finite_diff.py:477: SymPyDeprecationWarning: \n",
            "\n",
            "``evaluate`` flag has been deprecated since SymPy 1.5. See\n",
            "https://github.com/sympy/sympy/issues/17881 for more info.\n",
            "\n",
            "  deprecated_since_version=\"1.5\").warn()\n"
          ],
          "name": "stderr"
        },
        {
          "output_type": "execute_result",
          "data": {
            "image/png": "[encoded data removed]",
            "text/latex": "$\\displaystyle \\left(- f{\\left(x - \\frac{1}{2} \\right)} + f{\\left(x + \\frac{1}{2} \\right)}\\right) g{\\left(x \\right)} + \\left(- g{\\left(x - \\frac{1}{2} \\right)} + g{\\left(x + \\frac{1}{2} \\right)}\\right) f{\\left(x \\right)}$",
            "text/plain": [
              "(-f(x - 1/2) + f(x + 1/2))⋅g(x) + (-g(x - 1/2) + g(x + 1/2))⋅f(x)"
            ]
          },
          "metadata": {
            "tags": []
          },
          "execution_count": 58
        }
      ]
    },
    {
      "cell_type": "markdown",
      "metadata": {
        "id": "qZzM6DagrpJw"
      },
      "source": [
        "ただし、このフォームは `product` ルールを無視する。\n",
        "\n",
        "すでに導関数インスタンスがある場合は、as_finite_differenceメソッドを使用して、導関数の任意のオーダーの近似を生成できる。\n"
      ]
    },
    {
      "cell_type": "code",
      "metadata": {
        "id": "OriuPYv2rpJx",
        "colab": {
          "base_uri": "https://localhost:8080/",
          "height": 57
        },
        "outputId": "aad781a9-a2a8-4d74-b167-0b6f6113ca2b"
      },
      "source": [
        "f = Function('f')\n",
        "dfdx =f(x).diff(x)\n",
        "dfdx.as_finite_difference()"
      ],
      "execution_count": null,
      "outputs": [
        {
          "output_type": "execute_result",
          "data": {
            "image/png": "[encoded data removed]",
            "text/latex": "$\\displaystyle - f{\\left(x - \\frac{1}{2} \\right)} + f{\\left(x + \\frac{1}{2} \\right)}$",
            "text/plain": [
              "-f(x - 1/2) + f(x + 1/2)"
            ]
          },
          "metadata": {
            "tags": []
          },
          "execution_count": 59
        }
      ]
    },
    {
      "cell_type": "markdown",
      "metadata": {
        "id": "QArMY5uKrpJ0"
      },
      "source": [
        "ここで、1次導関数は、ステップサイズ1を使用して等距離で評価された最小数の点（1次導関数の場合は2）を使用してxの周りで近似された。\n",
        "\n",
        "記号式を含む任意のステップを使用できる。"
      ]
    },
    {
      "cell_type": "code",
      "metadata": {
        "id": "jgbiGQ9krpJ1",
        "colab": {
          "base_uri": "https://localhost:8080/",
          "height": 54
        },
        "outputId": "91af2d9f-f6a2-429b-d8d2-42746baecd4b"
      },
      "source": [
        "f = Function('f')\n",
        "dfdx2 =f(x).diff(x, 2)\n",
        "h = Symbol('h')\n",
        "dfdx2.as_finite_difference([-3*h, -h, 2*h])"
      ],
      "execution_count": null,
      "outputs": [
        {
          "output_type": "execute_result",
          "data": {
            "image/png": "[encoded data removed]",
            "text/latex": "$\\displaystyle \\frac{f{\\left(- 3 h \\right)}}{5 h^{2}} - \\frac{f{\\left(- h \\right)}}{3 h^{2}} + \\frac{2 f{\\left(2 h \\right)}}{15 h^{2}}$",
            "text/plain": [
              "f(-3⋅h)   f(-h)   2⋅f(2⋅h)\n",
              "─────── - ───── + ────────\n",
              "     2        2        2  \n",
              "  5⋅h      3⋅h     15⋅h   "
            ]
          },
          "metadata": {
            "tags": []
          },
          "execution_count": 60
        }
      ]
    },
    {
      "cell_type": "markdown",
      "metadata": {
        "id": "YPIeGZKBrpJ7"
      },
      "source": [
        "重みの評価だけに関心がある場合は、手動で行うこともできる。"
      ]
    },
    {
      "cell_type": "code",
      "metadata": {
        "id": "5v39qoK_rpJ7",
        "colab": {
          "base_uri": "https://localhost:8080/",
          "height": 57
        },
        "outputId": "770f4a8e-9060-429f-8e41-0d6297d33cb5"
      },
      "source": [
        "finite_diff_weights(2, [-3,-1,2], 0)[-1][-1]"
      ],
      "execution_count": null,
      "outputs": [
        {
          "output_type": "execute_result",
          "data": {
            "image/png": "[encoded data removed]",
            "text/latex": "$\\displaystyle \\left[ \\frac{1}{5}, \\  - \\frac{1}{3}, \\  \\frac{2}{15}\\right]$",
            "text/plain": [
              "[1/5, -1/3, 2/15]"
            ]
          },
          "metadata": {
            "tags": []
          },
          "execution_count": 61
        }
      ]
    },
    {
      "cell_type": "markdown",
      "metadata": {
        "id": "NUHB_iZSrpJ-"
      },
      "source": [
        "finite_diff_weightsから返される最後のサブリストの最後の要素のみが必要であることに注意。 これは、関数が低次の導関数の重みを生成し、使用するポイントが少ないため。\n",
        "\n",
        "finite_diff_weightsが複雑に見え、導関数インスタンスのas_finite_differenceメソッドの柔軟性が十分でない場合は、order、x_list、y_list、x0をパラメーターとして取るapply_finite_diffを使用しよう。"
      ]
    },
    {
      "cell_type": "code",
      "metadata": {
        "id": "ftrZsv1WrpJ_",
        "colab": {
          "base_uri": "https://localhost:8080/",
          "height": 53
        },
        "outputId": "92d447f0-847a-469e-b33b-0a2fca5a7606"
      },
      "source": [
        "x_list = [-3, 1, 2]\n",
        "y_list = symbols('a b c')\n",
        "apply_finite_diff(1, x_list, y_list, 0)"
      ],
      "execution_count": null,
      "outputs": [
        {
          "output_type": "execute_result",
          "data": {
            "image/png": "[encoded data removed]",
            "text/latex": "$\\displaystyle - \\frac{3 a}{20} - \\frac{b}{4} + \\frac{2 c}{5}$",
            "text/plain": [
              "  3⋅a   b   2⋅c\n",
              "- ─── - ─ + ───\n",
              "   20   4    5 "
            ]
          },
          "metadata": {
            "tags": []
          },
          "execution_count": 62
        }
      ]
    },
    {
      "cell_type": "markdown",
      "metadata": {
        "id": "HT9CFxIUrpKI"
      },
      "source": [
        "# solvers ソルバー"
      ]
    },
    {
      "cell_type": "code",
      "metadata": {
        "id": "_cpVXWs_rpKJ",
        "colab": {
          "base_uri": "https://localhost:8080/",
          "height": 39
        },
        "outputId": "4e7ecf1a-1fcf-4524-bc3c-5bc5a85ee25c"
      },
      "source": [
        "from sympy import *\n",
        "x, y, z = symbols('x y z')\n",
        "init_printing()\n",
        "\n",
        "Eq(x , y)"
      ],
      "execution_count": null,
      "outputs": [
        {
          "output_type": "execute_result",
          "data": {
            "image/png": "[encoded data removed]",
            "text/latex": "$\\displaystyle x = y$",
            "text/plain": [
              "x = y"
            ]
          },
          "metadata": {
            "tags": []
          },
          "execution_count": 63
        }
      ]
    },
    {
      "cell_type": "code",
      "metadata": {
        "id": "96r2EqhjrpKM",
        "colab": {
          "base_uri": "https://localhost:8080/",
          "height": 37
        },
        "outputId": "1ba6201a-c57c-435b-9efb-db15580ba093"
      },
      "source": [
        "solveset(Eq(x**2, 1))"
      ],
      "execution_count": null,
      "outputs": [
        {
          "output_type": "execute_result",
          "data": {
            "image/png": "[encoded data removed]",
            "text/latex": "$\\displaystyle \\left\\{-1, 1\\right\\}$",
            "text/plain": [
              "{-1, 1}"
            ]
          },
          "metadata": {
            "tags": []
          },
          "execution_count": 64
        }
      ]
    },
    {
      "cell_type": "code",
      "metadata": {
        "id": "FTwlZAwqrpKR",
        "colab": {
          "base_uri": "https://localhost:8080/",
          "height": 37
        },
        "outputId": "7d7f6be6-ae54-4493-eb46-06c6ca7f80dc"
      },
      "source": [
        "solveset(Eq(x**2 -1, 0))"
      ],
      "execution_count": null,
      "outputs": [
        {
          "output_type": "execute_result",
          "data": {
            "image/png": "[encoded data removed]",
            "text/latex": "$\\displaystyle \\left\\{-1, 1\\right\\}$",
            "text/plain": [
              "{-1, 1}"
            ]
          },
          "metadata": {
            "tags": []
          },
          "execution_count": 65
        }
      ]
    },
    {
      "cell_type": "code",
      "metadata": {
        "id": "gw1eUCb2rpKU",
        "colab": {
          "base_uri": "https://localhost:8080/",
          "height": 37
        },
        "outputId": "b9bae793-a8d5-482a-feac-78f2080db961"
      },
      "source": [
        "solveset(x**2 -1)"
      ],
      "execution_count": null,
      "outputs": [
        {
          "output_type": "execute_result",
          "data": {
            "image/png": "[encoded data removed]",
            "text/latex": "$\\displaystyle \\left\\{-1, 1\\right\\}$",
            "text/plain": [
              "{-1, 1}"
            ]
          },
          "metadata": {
            "tags": []
          },
          "execution_count": 66
        }
      ]
    },
    {
      "cell_type": "markdown",
      "metadata": {
        "id": "Pb77rXNsrpKX"
      },
      "source": [
        "### 代数的に方程式を解く\n",
        "\n",
        "`solveset(eqation, variable=None, domain=S.Complexes)`\n",
        "\n",
        "`solve(equations, variables)` の代わりに `solveset`を使う。\n",
        "\n",
        "`solveset` の返り値は `FiniteSet`、もしくは解答の `Interval` か `ImageSet` である。\n"
      ]
    },
    {
      "cell_type": "code",
      "metadata": {
        "id": "9DGMnbymrpKX",
        "colab": {
          "base_uri": "https://localhost:8080/",
          "height": 37
        },
        "outputId": "640580cd-d4e1-4ae7-fc1c-ebdc9b69e5d7"
      },
      "source": [
        "solveset(x**2 - x, x)"
      ],
      "execution_count": null,
      "outputs": [
        {
          "output_type": "execute_result",
          "data": {
            "image/png": "[encoded data removed]",
            "text/latex": "$\\displaystyle \\left\\{0, 1\\right\\}$",
            "text/plain": [
              "{0, 1}"
            ]
          },
          "metadata": {
            "tags": []
          },
          "execution_count": 67
        }
      ]
    },
    {
      "cell_type": "code",
      "metadata": {
        "id": "JRvS038WNJae"
      },
      "source": [
        ""
      ],
      "execution_count": null,
      "outputs": []
    },
    {
      "cell_type": "code",
      "metadata": {
        "id": "GgRwyL2EVlBD",
        "colab": {
          "base_uri": "https://localhost:8080/"
        },
        "outputId": "a844d912-1ee5-423a-d9c3-7b7878a5bdbd"
      },
      "source": [
        "from sympy import *\n",
        "s = solveset(x**2 - x, x)\n",
        "type(s)"
      ],
      "execution_count": 3,
      "outputs": [
        {
          "output_type": "execute_result",
          "data": {
            "text/plain": [
              "sympy.sets.sets.FiniteSet"
            ]
          },
          "metadata": {
            "tags": []
          },
          "execution_count": 3
        }
      ]
    },
    {
      "cell_type": "code",
      "metadata": {
        "id": "Xp5aknLOrpKa",
        "colab": {
          "base_uri": "https://localhost:8080/",
          "height": 38
        },
        "outputId": "5f335b55-da92-44ec-cb47-4bca77d2ddae"
      },
      "source": [
        "solveset(x - x, x , domain=S.Reals)"
      ],
      "execution_count": null,
      "outputs": [
        {
          "output_type": "execute_result",
          "data": {
            "image/png": "[encoded data removed]",
            "text/latex": "$\\displaystyle \\mathbb{R}$",
            "text/plain": [
              "ℝ"
            ]
          },
          "metadata": {
            "tags": []
          },
          "execution_count": 69
        }
      ]
    },
    {
      "cell_type": "code",
      "metadata": {
        "id": "2KcX6mMufoUu",
        "colab": {
          "base_uri": "https://localhost:8080/"
        },
        "outputId": "cf60de0e-169b-4759-e47a-ef4bb6249bb3"
      },
      "source": [
        "type (solveset(x - x, x , domain=S.Reals))"
      ],
      "execution_count": null,
      "outputs": [
        {
          "output_type": "execute_result",
          "data": {
            "text/plain": [
              "sympy.sets.fancysets.Reals"
            ]
          },
          "metadata": {
            "tags": []
          },
          "execution_count": 70
        }
      ]
    },
    {
      "cell_type": "code",
      "metadata": {
        "id": "3jYTfd0zrpKe",
        "colab": {
          "base_uri": "https://localhost:8080/",
          "height": 48
        },
        "outputId": "34d1a5f5-d323-4849-c8b1-e4d309ccc894"
      },
      "source": [
        "from sympy import *\r\n",
        "x = symbols('x')\r\n",
        "solveset(sin(x) - 1, x, domain=S.Reals)"
      ],
      "execution_count": 2,
      "outputs": [
        {
          "output_type": "execute_result",
          "data": {
            "text/latex": "$\\displaystyle \\left\\{2 n \\pi + \\frac{\\pi}{2}\\; |\\; n \\in \\mathbb{Z}\\right\\}$",
            "text/plain": [
              "ImageSet(Lambda(_n, 2*_n*pi + pi/2), Integers)"
            ]
          },
          "metadata": {
            "tags": []
          },
          "execution_count": 2
        }
      ]
    },
    {
      "cell_type": "code",
      "metadata": {
        "id": "i9GscUk5rpKh",
        "colab": {
          "base_uri": "https://localhost:8080/",
          "height": 265
        },
        "outputId": "2b10c199-453c-4fc1-d2f4-3d1c20aa49f3"
      },
      "source": [
        "solveset(exp(x),x) # No solution exists -> EmptySet"
      ],
      "execution_count": null,
      "outputs": [
        {
          "output_type": "error",
          "ename": "TypeError",
          "evalue": "ignored",
          "traceback": [
            "\u001b[0;31m---------------------------------------------------------------------------\u001b[0m",
            "\u001b[0;31mAttributeError\u001b[0m                            Traceback (most recent call last)",
            "\u001b[0;31mAttributeError\u001b[0m: 'Symbol' object has no attribute 'exp'",
            "\nThe above exception was the direct cause of the following exception:\n",
            "\u001b[0;31mTypeError\u001b[0m                                 Traceback (most recent call last)",
            "\u001b[0;32m<ipython-input-73-5f11d79c5b35>\u001b[0m in \u001b[0;36m<module>\u001b[0;34m()\u001b[0m\n\u001b[0;32m----> 1\u001b[0;31m \u001b[0msolveset\u001b[0m\u001b[0;34m(\u001b[0m\u001b[0mexp\u001b[0m\u001b[0;34m(\u001b[0m\u001b[0mx\u001b[0m\u001b[0;34m)\u001b[0m\u001b[0;34m,\u001b[0m\u001b[0mx\u001b[0m\u001b[0;34m)\u001b[0m \u001b[0;31m# No solution exists -> EmptySet\u001b[0m\u001b[0;34m\u001b[0m\u001b[0;34m\u001b[0m\u001b[0m\n\u001b[0m",
            "\u001b[0;31mTypeError\u001b[0m: loop of ufunc does not support argument 0 of type Symbol which has no callable exp method"
          ]
        }
      ]
    },
    {
      "cell_type": "code",
      "metadata": {
        "id": "mPHLhV9jrpKl"
      },
      "source": [
        "solveset(cos(x) -x, x) # Not able to find solution -> ConditonSet"
      ],
      "execution_count": null,
      "outputs": []
    },
    {
      "cell_type": "markdown",
      "metadata": {
        "id": "IxBS05NjrpKo"
      },
      "source": [
        "# 線形方程式 linear equations \n",
        "\n",
        "`linsolve`を使う。"
      ]
    },
    {
      "cell_type": "code",
      "metadata": {
        "id": "s8UIfPsFrpKo"
      },
      "source": [
        "linsolve([x+y+z-1, x+y+2*z-3],(x,y,z))"
      ],
      "execution_count": null,
      "outputs": []
    },
    {
      "cell_type": "code",
      "metadata": {
        "id": "5xFVdZ-rgmon"
      },
      "source": [
        "linsolve?"
      ],
      "execution_count": null,
      "outputs": []
    },
    {
      "cell_type": "code",
      "metadata": {
        "id": "UeSZmb1mrpKr"
      },
      "source": [
        "from sympy import *\n",
        "x, y, z = symbols('x y z')\n",
        "init_printing()\n",
        "linsolve(Matrix(([1,1,1,1],[1,1,2,3])),(x,y,z))"
      ],
      "execution_count": null,
      "outputs": []
    },
    {
      "cell_type": "code",
      "metadata": {
        "id": "lx0sltnTrpKt"
      },
      "source": [
        "# A*x = b Form\n",
        "M = Matrix(((1,1,1,1),(1,1,2,3)))\n",
        "system = A, b = M[:, :-1], M[:, -1]\n",
        "linsolve(system, x, y, z)"
      ],
      "execution_count": null,
      "outputs": []
    },
    {
      "cell_type": "markdown",
      "metadata": {
        "id": "Qq5t6xOgrpKv"
      },
      "source": [
        "### 非線形解 nonlinsolve \n",
        "\n",
        "solvesetモジュールでは、非線形システムの方程式は`nonlinsolve`を使用して解く。"
      ]
    },
    {
      "cell_type": "code",
      "metadata": {
        "id": "ItIeQpKarpKw"
      },
      "source": [
        "# when only real solution is present\n",
        "from sympy import*\n",
        "init_printing()\n",
        "x, y, z = symbols('x y z')\n",
        "a,b,c,d = symbols('a b c d', real=True)\n",
        "\n",
        "nonlinsolve([a**2 + a, a - b], [a, b])"
      ],
      "execution_count": null,
      "outputs": []
    },
    {
      "cell_type": "code",
      "metadata": {
        "id": "Jg_mD9aCrpK2"
      },
      "source": [
        "nonlinsolve([x*y - 1, x - 2], x, y)"
      ],
      "execution_count": null,
      "outputs": []
    },
    {
      "cell_type": "code",
      "metadata": {
        "id": "PuhELy1HrpK4"
      },
      "source": [
        "# when only complex solution is present\n",
        "nonlinsolve([x**2 + 1, y**2 + 1], [x, y])"
      ],
      "execution_count": null,
      "outputs": []
    },
    {
      "cell_type": "code",
      "metadata": {
        "id": "JuydR4NArpK8"
      },
      "source": [
        "# when both real and complex solution is present\n",
        "from sympy import sqrt\n",
        "system = [x**2 - 2*y**2 - 2, x*y - 2]\n",
        "vars = [x, y]\n",
        "nonlinsolve(system, vars)"
      ],
      "execution_count": null,
      "outputs": []
    },
    {
      "cell_type": "code",
      "metadata": {
        "id": "Ti5BV65CrpK_"
      },
      "source": [
        "n = Dummy('n')\n",
        "system = [exp(x) - sin(y), 1/y - 3]\n",
        "real_soln = (log(sin(S(1)/3)), S(1)/3)\n",
        "img_lamda = Lambda(n, 2*n*I*pi + Mod(log(sin(S(1)/3)), 2*I*pi))\n",
        "complex_soln = (ImageSet(img_lamda, S.Integers), S(1)/3)\n",
        "soln = FiniteSet(real_soln, complex_soln)\n",
        "nonlinsolve(system,[x,y]) == soln"
      ],
      "execution_count": null,
      "outputs": []
    },
    {
      "cell_type": "code",
      "metadata": {
        "id": "RdZRGKf7rpLC"
      },
      "source": [
        "real_soln"
      ],
      "execution_count": null,
      "outputs": []
    },
    {
      "cell_type": "code",
      "metadata": {
        "id": "VP0troIhrpLE"
      },
      "source": [
        "complex_soln"
      ],
      "execution_count": null,
      "outputs": []
    },
    {
      "cell_type": "markdown",
      "metadata": {
        "id": "dX18yLrErpLH"
      },
      "source": [
        "方程式の非線形システムが正の次元システムである場合（無限に多くの解を持つシステムは正の次元であると言われる）"
      ]
    },
    {
      "cell_type": "code",
      "metadata": {
        "id": "jtIUapzcrpLH"
      },
      "source": [
        "nonlinsolve([x*y, x*y - x],[x, y])"
      ],
      "execution_count": null,
      "outputs": []
    },
    {
      "cell_type": "code",
      "metadata": {
        "id": "1dUFhLiIrpLK"
      },
      "source": [
        "system = [a**2 + a*c , a - b]\n",
        "nonlinsolve(system , [a, b])"
      ],
      "execution_count": null,
      "outputs": []
    },
    {
      "cell_type": "markdown",
      "metadata": {
        "id": "wLzz9VUIrpLO"
      },
      "source": [
        "\n",
        "解のオーダーが、与えられたシンボルのオーダーに対応しているとき。\n",
        "\n",
        "ランベルトのWの形での解が存在しても、現在の`nonlinsolve`はランベルトのWの形での解を返さない。\n",
        "\n",
        "このような時は`solve`を使う。\n"
      ]
    },
    {
      "cell_type": "code",
      "metadata": {
        "id": "8NT1n7fyrpLP"
      },
      "source": [
        "solve([x**2 - y**2/exp(x)],[x,y], dict=True)"
      ],
      "execution_count": null,
      "outputs": []
    },
    {
      "cell_type": "markdown",
      "metadata": {
        "id": "veadI2burpLR"
      },
      "source": [
        "現在`nonlinsolve`は、三角関数をもつ連立方程式を適切に解くことができない。\n",
        "\n",
        "このような時は必ずしも全部ではないが`solve`が使える。"
      ]
    },
    {
      "cell_type": "code",
      "metadata": {
        "id": "O691AE0yrpLS"
      },
      "source": [
        "solve([sin(x+y), cos(x-y)], [x,y])"
      ],
      "execution_count": null,
      "outputs": []
    },
    {
      "cell_type": "markdown",
      "metadata": {
        "id": "vc6O2E0arpLU"
      },
      "source": [
        "重複解の場合\n",
        "\n",
        "`solveset` は解を1回しか返さない。重複解を持つ、多項式の解を得るには、`roots` を使用する。\n"
      ]
    },
    {
      "cell_type": "code",
      "metadata": {
        "id": "vb0md2rnrpLV"
      },
      "source": [
        "solveset(x**3 - 6*x**2 + 9*x, x)"
      ],
      "execution_count": null,
      "outputs": []
    },
    {
      "cell_type": "code",
      "metadata": {
        "id": "RZYeB_BArpLY"
      },
      "source": [
        "roots(x**3 - 6*x**2 + 9*x, x)"
      ],
      "execution_count": null,
      "outputs": []
    },
    {
      "cell_type": "markdown",
      "metadata": {
        "id": "3dwPy0eBrpLa"
      },
      "source": [
        "出力 `{0：1、3：2}` の意味は、`0` が多重度1の解であり、`3` が多重度2の解である、ということ。"
      ]
    },
    {
      "cell_type": "markdown",
      "metadata": {
        "id": "fEVbdNA6rpLb"
      },
      "source": [
        "現在 `solveset` は次のタイプの方程式を解くことができない。\n",
        "\n",
        "LambertW（超越方程式ソルバー）で解ける方程式\n",
        "\n",
        "このような時には `solve` が使える。\n"
      ]
    },
    {
      "cell_type": "code",
      "metadata": {
        "id": "WL6qP7UGrpLc"
      },
      "source": [
        "solve(x*exp(x) - 1, x)"
      ],
      "execution_count": null,
      "outputs": []
    },
    {
      "cell_type": "markdown",
      "metadata": {
        "id": "O7V6UVFurpLh"
      },
      "source": [
        "# 微分方程式を解く\n",
        "differential equations"
      ]
    },
    {
      "cell_type": "code",
      "metadata": {
        "id": "RRfGobF8rpLl"
      },
      "source": [
        "from sympy import*\n",
        "init_printing()\n",
        "x, y, z = symbols('x y z')\n",
        "f, g = symbols('f g' , cls=Function)\n",
        "\n",
        "f(x)"
      ],
      "execution_count": null,
      "outputs": []
    },
    {
      "cell_type": "code",
      "metadata": {
        "id": "jAAJ9AgFrpLr"
      },
      "source": [
        "f(x).diff(x)"
      ],
      "execution_count": null,
      "outputs": []
    },
    {
      "cell_type": "markdown",
      "metadata": {
        "id": "ZNRyNczWrpLu"
      },
      "source": [
        "</br></br>\n",
        "したがって、次のような微分方程式は `sympy`では次のセルのように書くことになる。\n",
        "\n",
        "$$f′′(x)−2f′(x)+f(x)=sin(x)$$\n",
        "\n"
      ]
    },
    {
      "cell_type": "code",
      "metadata": {
        "id": "JRMkKhmwrpLu"
      },
      "source": [
        "diffreq = Eq(f(x).diff(x,x) - 2*f(x).diff(x) + f(x), sin(x))\n",
        "diffreq"
      ],
      "execution_count": null,
      "outputs": []
    },
    {
      "cell_type": "markdown",
      "metadata": {
        "id": "Xz8TP72zrpLx"
      },
      "source": [
        "# 常微分方程式 ordinary differential equation, ODE\n",
        "\n",
        "常微分方程式を解くには、`dsolve` を使う。\n"
      ]
    },
    {
      "cell_type": "code",
      "metadata": {
        "id": "4IoGIn85rpLy"
      },
      "source": [
        "dsolve(diffreq, f(x))"
      ],
      "execution_count": null,
      "outputs": []
    },
    {
      "cell_type": "code",
      "metadata": {
        "id": "zUUEiE3ErpL0"
      },
      "source": [
        "dsolve(f(x).diff(x)*(1 - sin(f(x))), f(x))"
      ],
      "execution_count": null,
      "outputs": []
    },
    {
      "cell_type": "markdown",
      "metadata": {
        "id": "SkCw8g8GrpL2"
      },
      "source": [
        "# 行列 matrices"
      ]
    },
    {
      "cell_type": "code",
      "metadata": {
        "id": "HHlKLBdWrpL2"
      },
      "source": [
        "from sympy import *\n",
        "init_printing()\n",
        "Matrix([[1,-1],[3,4],[0,2]])"
      ],
      "execution_count": null,
      "outputs": []
    },
    {
      "cell_type": "code",
      "metadata": {
        "id": "7ZXHXBKDrpL6"
      },
      "source": [
        "Matrix([[1,2,3]])"
      ],
      "execution_count": null,
      "outputs": []
    },
    {
      "cell_type": "code",
      "metadata": {
        "id": "LZQwQ7ZorpL8"
      },
      "source": [
        "Matrix([1,2,3])"
      ],
      "execution_count": null,
      "outputs": []
    },
    {
      "cell_type": "code",
      "metadata": {
        "id": "3yiQiKnNrpL-"
      },
      "source": [
        "M = Matrix([[1,2,3],[3,2,1]])\n",
        "N = Matrix([0,1,1])\n",
        "M*N"
      ],
      "execution_count": null,
      "outputs": []
    },
    {
      "cell_type": "markdown",
      "metadata": {
        "id": "T0-Imk9WrpMA"
      },
      "source": [
        "SymPy` の行列は `immutable` ではない!!!!!\n",
        "\n",
        "不変にしたい場合はImmutableMatrixを使う"
      ]
    },
    {
      "cell_type": "code",
      "metadata": {
        "id": "WexsjDiErpMA"
      },
      "source": [
        "M = Matrix([[1,2,3],[-2,0,4]])\n",
        "M"
      ],
      "execution_count": null,
      "outputs": []
    },
    {
      "cell_type": "code",
      "metadata": {
        "id": "O6K0r0CxrpMC"
      },
      "source": [
        "M.shape"
      ],
      "execution_count": null,
      "outputs": []
    },
    {
      "cell_type": "code",
      "metadata": {
        "id": "ZDqMXytHrpMF"
      },
      "source": [
        "M.row(0)"
      ],
      "execution_count": null,
      "outputs": []
    },
    {
      "cell_type": "code",
      "metadata": {
        "id": "fNyashY4rpMK"
      },
      "source": [
        "M.col(-1)"
      ],
      "execution_count": null,
      "outputs": []
    },
    {
      "cell_type": "code",
      "metadata": {
        "id": "KnVIH4PXrpMO"
      },
      "source": [
        "M.col_del(0)\n",
        "M"
      ],
      "execution_count": null,
      "outputs": []
    },
    {
      "cell_type": "code",
      "metadata": {
        "id": "GddO1xZ8rpMR"
      },
      "source": [
        "M.row_del(1)\n",
        "M"
      ],
      "execution_count": null,
      "outputs": []
    },
    {
      "cell_type": "code",
      "metadata": {
        "id": "VA_2Oa3ErpMU"
      },
      "source": [
        "M = M.row_insert(1,Matrix([[0,4]]))\n",
        "M"
      ],
      "execution_count": null,
      "outputs": []
    },
    {
      "cell_type": "code",
      "metadata": {
        "id": "9cO_mHEXrpMW"
      },
      "source": [
        "M = M.col_insert(0,Matrix([1,-2]))\n",
        "M"
      ],
      "execution_count": null,
      "outputs": []
    },
    {
      "cell_type": "markdown",
      "metadata": {
        "id": "6ea-2djNrpMZ"
      },
      "source": [
        "###  逆行列\n",
        "\n",
        "逆行列は$-1$乗する\n"
      ]
    },
    {
      "cell_type": "code",
      "metadata": {
        "id": "c397GN2QrpMZ"
      },
      "source": [
        "M = Matrix([[1,3],[-2,3]])\n",
        "N = Matrix([[0,3],[0,7]])\n",
        "M + N"
      ],
      "execution_count": null,
      "outputs": []
    },
    {
      "cell_type": "code",
      "metadata": {
        "id": "UqU9KLmprpMb"
      },
      "source": [
        "M * N"
      ],
      "execution_count": null,
      "outputs": []
    },
    {
      "cell_type": "code",
      "metadata": {
        "id": "1tXYBnT6rpMd"
      },
      "source": [
        "3 * M"
      ],
      "execution_count": null,
      "outputs": []
    },
    {
      "cell_type": "code",
      "metadata": {
        "id": "sP7-M9uBrpMg"
      },
      "source": [
        "M * M"
      ],
      "execution_count": null,
      "outputs": []
    },
    {
      "cell_type": "code",
      "metadata": {
        "id": "Krp3_qBdrpMi"
      },
      "source": [
        "M**2"
      ],
      "execution_count": null,
      "outputs": []
    },
    {
      "cell_type": "code",
      "metadata": {
        "id": "-y4B42JGrpMk"
      },
      "source": [
        "M**-1"
      ],
      "execution_count": null,
      "outputs": []
    },
    {
      "cell_type": "code",
      "metadata": {
        "id": "EwKKIsvHrpMm"
      },
      "source": [
        "M * M**-1"
      ],
      "execution_count": null,
      "outputs": []
    },
    {
      "cell_type": "code",
      "metadata": {
        "id": "a-hoF2JxrpMo"
      },
      "source": [
        "%xmode plain"
      ],
      "execution_count": null,
      "outputs": []
    },
    {
      "cell_type": "code",
      "metadata": {
        "scrolled": true,
        "id": "bem691EWrpMt"
      },
      "source": [
        "# N ** -1\n",
        "# ValueError: Matrix det == 0; not invertible."
      ],
      "execution_count": null,
      "outputs": []
    },
    {
      "cell_type": "markdown",
      "metadata": {
        "id": "Y0EWAsJcrpMw"
      },
      "source": [
        "###  転置行列"
      ]
    },
    {
      "cell_type": "code",
      "metadata": {
        "id": "YwafIaOxrpMw"
      },
      "source": [
        "M = Matrix([[1,2,3],[4,5,6]])\n",
        "M"
      ],
      "execution_count": null,
      "outputs": []
    },
    {
      "cell_type": "code",
      "metadata": {
        "id": "okVTI8hrrpM1"
      },
      "source": [
        "M.T"
      ],
      "execution_count": null,
      "outputs": []
    },
    {
      "cell_type": "code",
      "metadata": {
        "id": "EADBrQHvrpM4"
      },
      "source": [
        "eye(3)"
      ],
      "execution_count": null,
      "outputs": []
    },
    {
      "cell_type": "code",
      "metadata": {
        "id": "7EzZGLKirpM7"
      },
      "source": [
        "zeros(2,3)"
      ],
      "execution_count": null,
      "outputs": []
    },
    {
      "cell_type": "code",
      "metadata": {
        "id": "BoD7ENkJrpM-"
      },
      "source": [
        "ones(3,2)"
      ],
      "execution_count": null,
      "outputs": []
    },
    {
      "cell_type": "code",
      "metadata": {
        "id": "QYOW6d44rpNA"
      },
      "source": [
        "diag(1,2,3)"
      ],
      "execution_count": null,
      "outputs": []
    },
    {
      "cell_type": "code",
      "metadata": {
        "scrolled": true,
        "id": "kAzCuMYFrpNC"
      },
      "source": [
        "diag(-1, ones(2,2), Matrix([5,7,5]))"
      ],
      "execution_count": null,
      "outputs": []
    },
    {
      "cell_type": "code",
      "metadata": {
        "id": "YRlAvxkRrpNE"
      },
      "source": [
        "M = Matrix([[1,0,1],[2,-1,3],[4,3,2]])\n",
        "M"
      ],
      "execution_count": null,
      "outputs": []
    },
    {
      "cell_type": "code",
      "metadata": {
        "id": "yOFEXtqFrpNF"
      },
      "source": [
        "M.det()"
      ],
      "execution_count": null,
      "outputs": []
    },
    {
      "cell_type": "markdown",
      "metadata": {
        "id": "1Bq3uuf3rpNH"
      },
      "source": [
        "### 階段型(梯形)への変換\n",
        "\n",
        "行列を階段型に変換するには `rrf` を使う。"
      ]
    },
    {
      "cell_type": "code",
      "metadata": {
        "id": "R2BfAND6rpNI"
      },
      "source": [
        "M = Matrix([[1, 0, 1, 3],[2, 3, 4, 7],[-1, -3, -3, -4]])\n",
        "M"
      ],
      "execution_count": null,
      "outputs": []
    },
    {
      "cell_type": "code",
      "metadata": {
        "id": "yOuui7garpNK"
      },
      "source": [
        "M.rref()"
      ],
      "execution_count": null,
      "outputs": []
    },
    {
      "cell_type": "markdown",
      "metadata": {
        "id": "cPYXgg6GrpNO"
      },
      "source": [
        "### 零空間 nullspace"
      ]
    },
    {
      "cell_type": "code",
      "metadata": {
        "id": "9DCMlY-1rpNO"
      },
      "source": [
        "M = Matrix([[1,2,3,0,0],[4,10,0,0,1]])\n",
        "M"
      ],
      "execution_count": null,
      "outputs": []
    },
    {
      "cell_type": "code",
      "metadata": {
        "id": "N8Hxfn__rpNR"
      },
      "source": [
        "M.nullspace()"
      ],
      "execution_count": null,
      "outputs": []
    },
    {
      "cell_type": "markdown",
      "metadata": {
        "id": "TPdOQuMurpNU"
      },
      "source": [
        "### 列空間 columnspace"
      ]
    },
    {
      "cell_type": "code",
      "metadata": {
        "id": "RfAWQmZfrpNU"
      },
      "source": [
        "M = Matrix([[1,1,2],[2,1,3],[3,1,4]])\n",
        "M"
      ],
      "execution_count": null,
      "outputs": []
    },
    {
      "cell_type": "code",
      "metadata": {
        "id": "6ZynGY9grpNZ"
      },
      "source": [
        "M.columnspace()"
      ],
      "execution_count": null,
      "outputs": []
    },
    {
      "cell_type": "markdown",
      "metadata": {
        "id": "6vwnxK4RrpNc"
      },
      "source": [
        "###  固有値 eigenvalue\n",
        "\n",
        "enganvalues, eigenvectors, and diagonalization"
      ]
    },
    {
      "cell_type": "code",
      "metadata": {
        "id": "WqxaeV3XrpNd"
      },
      "source": [
        "from sympy import *\n",
        "init_printing()\n",
        "M = Matrix([[3,-2,4,-2],[5,3,-3,-2],[5,-2,2,-2],[5,-2,-3,3]])\n",
        "M"
      ],
      "execution_count": null,
      "outputs": []
    },
    {
      "cell_type": "code",
      "metadata": {
        "id": "6PihwoOjrpNf"
      },
      "source": [
        "M.eigenvals()"
      ],
      "execution_count": null,
      "outputs": []
    },
    {
      "cell_type": "markdown",
      "metadata": {
        "id": "N7qf34AgrpNi"
      },
      "source": [
        "`M.eigenvals()` `{−2:1,3:1,5:2}`\n",
        "\n",
        "この意味は行列 `M` は固有値、`-2`、`3`、`5` をもち、このうち `2`、`3` は代数的多重度が `1` で、固有値 `5` は代数的多重度が `2` である。\n"
      ]
    },
    {
      "cell_type": "code",
      "metadata": {
        "id": "5b8y8-bBrpNk"
      },
      "source": [
        "M.eigenvects()"
      ],
      "execution_count": null,
      "outputs": []
    },
    {
      "cell_type": "markdown",
      "metadata": {
        "id": "og9x6yHhrpNo"
      },
      "source": [
        "`M.eigenvect()` の結果は、固有値 `5` には2つの固有ベクトルがあるため、幾何多重度も `2` あることを示している。 代数的および幾何学的多重度はすべての固有値で同じであるため、Mは対角化可能。"
      ]
    },
    {
      "cell_type": "markdown",
      "metadata": {
        "id": "cvjAu5GXrpNo"
      },
      "source": [
        "行列を対角化するには、`diagonalize` を使用します。 `diagonalize` は、タプル`(P, D)` を返す。ここで、`D` は対角で、`M = PDP-1` である。\n"
      ]
    },
    {
      "cell_type": "code",
      "metadata": {
        "id": "BHNLsOH0rpNp"
      },
      "source": [
        "P, D = M.diagonalize()\n",
        "P"
      ],
      "execution_count": null,
      "outputs": []
    },
    {
      "cell_type": "code",
      "metadata": {
        "id": "zKvJC5IvrpNu"
      },
      "source": [
        "D"
      ],
      "execution_count": null,
      "outputs": []
    },
    {
      "cell_type": "code",
      "metadata": {
        "id": "-gC7vom6rpNw"
      },
      "source": [
        "P*D*P**-1"
      ],
      "execution_count": null,
      "outputs": []
    },
    {
      "cell_type": "code",
      "metadata": {
        "id": "oheX_BTsrpNy"
      },
      "source": [
        "P*D*P**-1 == M"
      ],
      "execution_count": null,
      "outputs": []
    },
    {
      "cell_type": "markdown",
      "metadata": {
        "id": "0grZDn5krpN1"
      },
      "source": [
        "固有多項式 `characteristic polynomial` だけが必要な場合は、charpolyを使用しする。 シンボリックルートは計算にコストがかかる場合がかかるため、`eigenval` よりも効率的。"
      ]
    },
    {
      "cell_type": "code",
      "metadata": {
        "id": "WpG4Oi9zrpN1"
      },
      "source": [
        "lamda = symbols('lamda')\n",
        "p = M.charpoly(lamda)\n",
        "factor(p)"
      ],
      "execution_count": null,
      "outputs": []
    },
    {
      "cell_type": "markdown",
      "metadata": {
        "id": "lrYLr8PWrpN7"
      },
      "source": [
        "# 高度な式操作\n",
        "\n",
        "advanced expression manipulation\n",
        "\n",
        "式ツリー `expression tree`"
      ]
    },
    {
      "cell_type": "code",
      "metadata": {
        "id": "QO1H2FEKrpN8"
      },
      "source": [
        "from sympy import *\n",
        "init_printing()\n",
        "x, y, z = symbols('x y z')\n",
        "\n",
        "expr = 2**x + x*y\n",
        "srepr(expr)"
      ],
      "execution_count": null,
      "outputs": []
    },
    {
      "cell_type": "markdown",
      "metadata": {
        "id": "zyJdui61ihYb"
      },
      "source": [
        "# graphviz"
      ]
    },
    {
      "cell_type": "code",
      "metadata": {
        "scrolled": true,
        "id": "q9EYGRtjrpN_"
      },
      "source": [
        "import graphviz\n",
        "g = graphviz.Digraph('G')\n",
        "g.edge('Hello', 'World')\n",
        "graphviz.Source(g)"
      ],
      "execution_count": null,
      "outputs": []
    },
    {
      "cell_type": "markdown",
      "metadata": {
        "id": "LSea9rhtijS3"
      },
      "source": [
        "# matplotlib"
      ]
    },
    {
      "cell_type": "code",
      "metadata": {
        "id": "2w73OEL_rpOB"
      },
      "source": [
        "% matplotlib inline\n",
        "\n",
        "import numpy as np\n",
        "import matplotlib.pyplot as plt\n",
        "\n",
        "def sigmoid(x):\n",
        "    return 1 / (1 + np.exp(x))\n",
        "\n",
        "x = np.arange(-20.0, 20.0, 0.1)\n",
        "y = sigmoid(x)\n",
        "plt.plot(x, y)\n",
        "plt.ylim(-0.1, 1.1)\n",
        "plt.show()"
      ],
      "execution_count": null,
      "outputs": []
    },
    {
      "cell_type": "code",
      "metadata": {
        "id": "T56ndZTxrpOD"
      },
      "source": [
        "### symbol -> Symbol\n",
        "from sympy import *\n",
        "init_printing()\n",
        "# x = Symbol('x')\n",
        "x = symbols('x')\n",
        "srepr(x)"
      ],
      "execution_count": null,
      "outputs": []
    },
    {
      "cell_type": "code",
      "metadata": {
        "id": "-4Zcm3i3rpOG"
      },
      "source": [
        "srepr(1)"
      ],
      "execution_count": null,
      "outputs": []
    },
    {
      "cell_type": "code",
      "metadata": {
        "id": "sSuEXismrpOJ"
      },
      "source": [
        "expr = 2.3**x\n",
        "srepr(expr)"
      ],
      "execution_count": null,
      "outputs": []
    },
    {
      "cell_type": "code",
      "metadata": {
        "id": "zo_VSdokrpOL"
      },
      "source": [
        "srepr(Pow(2.3,x))"
      ],
      "execution_count": null,
      "outputs": []
    },
    {
      "cell_type": "code",
      "metadata": {
        "id": "xB7BRhvHrpOP"
      },
      "source": [
        "type(simplify(2))"
      ],
      "execution_count": null,
      "outputs": []
    },
    {
      "cell_type": "code",
      "metadata": {
        "id": "BsGxikhlrpOR"
      },
      "source": [
        "x, y, z = symbols('x y z')\n",
        "Mul(x,y)"
      ],
      "execution_count": null,
      "outputs": []
    },
    {
      "cell_type": "code",
      "metadata": {
        "id": "L1Ft5QK3rpOT"
      },
      "source": [
        "expr = sin(x*y)/2 - x**2 + 1/y\n",
        "srepr(expr)"
      ],
      "execution_count": null,
      "outputs": []
    },
    {
      "cell_type": "code",
      "metadata": {
        "id": "Y3MwzQjkrpOV"
      },
      "source": [
        "srepr(x - y)"
      ],
      "execution_count": null,
      "outputs": []
    },
    {
      "cell_type": "code",
      "metadata": {
        "id": "GvTnuXLjrpOY"
      },
      "source": [
        "expr = x / y\n",
        "srepr(expr)"
      ],
      "execution_count": null,
      "outputs": []
    },
    {
      "cell_type": "code",
      "metadata": {
        "id": "cvyb-hCOrpOa"
      },
      "source": [
        "1 + x"
      ],
      "execution_count": null,
      "outputs": []
    },
    {
      "cell_type": "code",
      "metadata": {
        "id": "RASRtejKrpOc"
      },
      "source": [
        "(1 + x).func"
      ],
      "execution_count": null,
      "outputs": []
    },
    {
      "cell_type": "code",
      "metadata": {
        "id": "ctcDHqMzrpOd"
      },
      "source": [
        "expr = Add(x, x)\n",
        "expr.func # Mul"
      ],
      "execution_count": null,
      "outputs": []
    },
    {
      "cell_type": "code",
      "metadata": {
        "id": "BRhSECYPrpOh"
      },
      "source": [
        "expr"
      ],
      "execution_count": null,
      "outputs": []
    },
    {
      "cell_type": "markdown",
      "metadata": {
        "id": "8-mb2Mk6rpOi"
      },
      "source": [
        "# クラス・コンストラクター\n",
        "\n",
        "`Add(x, x)` は `x + x` という意味であるが、自動的に `Mul(2, x)` に変換される。つまり `2*x` である。 `SymPy` は `__new__` クラス・コンストラクターをヘビーに使う。`__new__` クラス・コンストラクターは `__new__` とは違い、コンストラークターから違うクラスを返すことができる。\n"
      ]
    },
    {
      "cell_type": "code",
      "metadata": {
        "id": "kVD1hb23rpOk"
      },
      "source": [
        "Integer(2).func"
      ],
      "execution_count": null,
      "outputs": []
    },
    {
      "cell_type": "code",
      "metadata": {
        "id": "ei2Cxgy-rpOl"
      },
      "source": [
        "Integer(0).func # Zero"
      ],
      "execution_count": null,
      "outputs": []
    },
    {
      "cell_type": "code",
      "metadata": {
        "id": "98BBa7itrpOn"
      },
      "source": [
        "Integer(-1).func # NegativeOne"
      ],
      "execution_count": null,
      "outputs": []
    },
    {
      "cell_type": "code",
      "metadata": {
        "id": "029c0ZPUrpOp"
      },
      "source": [
        "expr = 3 * y**2 * x\n",
        "expr.func # Mul"
      ],
      "execution_count": null,
      "outputs": []
    },
    {
      "cell_type": "code",
      "metadata": {
        "id": "f0EFYzXUrpOq"
      },
      "source": [
        "expr.args # (3, x, y**2)"
      ],
      "execution_count": null,
      "outputs": []
    },
    {
      "cell_type": "code",
      "metadata": {
        "id": "AjJhPjvErpOs"
      },
      "source": [
        "expr.func(*expr.args)"
      ],
      "execution_count": null,
      "outputs": []
    },
    {
      "cell_type": "code",
      "metadata": {
        "id": "IxgXfmDBrpOu"
      },
      "source": [
        "expr == expr.func(*expr.args)"
      ],
      "execution_count": null,
      "outputs": []
    },
    {
      "cell_type": "code",
      "metadata": {
        "id": "Kjfpkd46rpOx"
      },
      "source": [
        "expr.func(Mul(expr.args))"
      ],
      "execution_count": null,
      "outputs": []
    },
    {
      "cell_type": "code",
      "metadata": {
        "id": "UOtB7sFcrpOz"
      },
      "source": [
        "Mul(3, 8)"
      ],
      "execution_count": null,
      "outputs": []
    },
    {
      "cell_type": "code",
      "metadata": {
        "id": "yTFNMfkBrpO1"
      },
      "source": [
        "# * (3, 8) # SyntaxError: can't use starred expression here\n",
        "print(*(3,8)) # -> print (3, 8) -> 3 8"
      ],
      "execution_count": null,
      "outputs": []
    },
    {
      "cell_type": "code",
      "metadata": {
        "id": "WmS2Olr3rpO3"
      },
      "source": [
        "expr.args[2]"
      ],
      "execution_count": null,
      "outputs": []
    },
    {
      "cell_type": "code",
      "metadata": {
        "id": "79hB7TGkrpO6"
      },
      "source": [
        "expr.args[2].args"
      ],
      "execution_count": null,
      "outputs": []
    },
    {
      "cell_type": "code",
      "metadata": {
        "id": "G9k_iBSarpO7"
      },
      "source": [
        "y.args"
      ],
      "execution_count": null,
      "outputs": []
    },
    {
      "cell_type": "code",
      "metadata": {
        "id": "R4iQqVoGrpO9"
      },
      "source": [
        "Integer(2).args"
      ],
      "execution_count": null,
      "outputs": []
    },
    {
      "cell_type": "markdown",
      "metadata": {
        "id": "jyI0nprYrpO_"
      },
      "source": [
        "# キー不変 `key invariant`\n",
        "\n",
        "`SymPy` の式はすべて、空の引数を持つか、`expr == expr.func（* expr.args`）を満たす必要がある。\n",
        "\n",
        "Pythonでは、`a` がタプルの場合、`f(* a)` は `a` の要素からの引数を使用して `f` を呼び出すことを意味する。たとえば、`f(*(1, 2, 3))` は `f(1, 2, 3)と同値である。"
      ]
    },
    {
      "cell_type": "code",
      "metadata": {
        "id": "bwWyNMz1rpO_"
      },
      "source": [
        "56 * 35 * 21"
      ],
      "execution_count": null,
      "outputs": []
    },
    {
      "cell_type": "code",
      "metadata": {
        "id": "Q_HeWa2QrpPB"
      },
      "source": [
        "def pre(expr):\n",
        "    print(expr)\n",
        "    for arg in expr.args:\n",
        "        pre(arg)\n",
        "\n",
        "expr = x*y + 1\n",
        "pre(expr)"
      ],
      "execution_count": null,
      "outputs": []
    },
    {
      "cell_type": "markdown",
      "metadata": {
        "id": "BNFSwx5KrpPF"
      },
      "source": [
        "# 前順探索走査 pre-order traversal\n",
        "\n",
        "次に示すのは式ツリーの `pre-order traversal` 関数である。\n",
        "\n",
        "`post-order traversal` が書けるかどうか考えること。\n",
        "\n",
        "\n",
        "Can you guess why we called our function pre? We just wrote a pre-order traversal function for our expression tree. See if you can write a post-order traversal function."
      ]
    },
    {
      "cell_type": "code",
      "metadata": {
        "id": "m1mfnCpBrpPG"
      },
      "source": [
        "from sympy import *\n",
        "init_printing()\n",
        "x, y, z = symbols('x y z')\n",
        "expr = x*y + 1\n",
        "\n",
        "for arg in preorder_traversal(expr):\n",
        "    print(arg)"
      ],
      "execution_count": null,
      "outputs": []
    },
    {
      "cell_type": "code",
      "metadata": {
        "id": "IFzkO-XvrpPH"
      },
      "source": [
        "for arg in postorder_traversal(expr):\n",
        "    print(arg)"
      ],
      "execution_count": null,
      "outputs": []
    },
    {
      "cell_type": "code",
      "metadata": {
        "id": "XSwunXYTrpPJ"
      },
      "source": [
        "from sympy import Add\n",
        "from sympy.abc import x, y, z\n",
        "x + x"
      ],
      "execution_count": null,
      "outputs": []
    },
    {
      "cell_type": "code",
      "metadata": {
        "id": "EqUz_NtqrpPL"
      },
      "source": [
        "Add(x, x, evaluate=False)"
      ],
      "execution_count": null,
      "outputs": []
    },
    {
      "cell_type": "code",
      "metadata": {
        "id": "jWuYEOyqrpPM"
      },
      "source": [
        "sympify(\"x + x\", evaluate=False)"
      ],
      "execution_count": null,
      "outputs": []
    },
    {
      "cell_type": "code",
      "metadata": {
        "id": "VUBxyn1srpPQ"
      },
      "source": [
        "expr = Add(x, x, evaluate=False)\n",
        "expr"
      ],
      "execution_count": null,
      "outputs": []
    },
    {
      "cell_type": "code",
      "metadata": {
        "id": "YpXx5syArpPV"
      },
      "source": [
        "expr + x"
      ],
      "execution_count": null,
      "outputs": []
    },
    {
      "cell_type": "code",
      "metadata": {
        "id": "-SDM1-hYrpPb"
      },
      "source": [
        "expr = x + UnevaluatedExpr(x)\n",
        "expr"
      ],
      "execution_count": null,
      "outputs": []
    },
    {
      "cell_type": "code",
      "metadata": {
        "id": "foXr-ucRrpPd"
      },
      "source": [
        "x + expr"
      ],
      "execution_count": null,
      "outputs": []
    },
    {
      "cell_type": "code",
      "metadata": {
        "id": "9RAptMm9rpPf"
      },
      "source": [
        "(expr + x).doit()"
      ],
      "execution_count": null,
      "outputs": []
    },
    {
      "cell_type": "code",
      "metadata": {
        "id": "dKui4v98rpPh"
      },
      "source": [
        "from sympy import *\n",
        "from sympy.abc import x, y, z\n",
        "uexpr = UnevaluatedExpr(S.One*5/7)*UnevaluatedExpr(S.One*3/4)\n",
        "uexpr"
      ],
      "execution_count": null,
      "outputs": []
    },
    {
      "cell_type": "code",
      "metadata": {
        "id": "Uy5WdQeurpPl"
      },
      "source": [
        "x*UnevaluatedExpr(1/x)"
      ],
      "execution_count": null,
      "outputs": []
    },
    {
      "cell_type": "code",
      "metadata": {
        "id": "OLF46PKgrpPn"
      },
      "source": [
        "UnevaluatedExpr(x + x)"
      ],
      "execution_count": null,
      "outputs": []
    },
    {
      "cell_type": "code",
      "metadata": {
        "id": "zIFvfM1frpPp"
      },
      "source": [
        "UnevaluatedExpr(sympify(\"x + x\", evaluate=False)) + y"
      ],
      "execution_count": null,
      "outputs": []
    },
    {
      "cell_type": "markdown",
      "metadata": {
        "id": "whDiWNTaHom4"
      },
      "source": [
        "# いまここ  コピー中"
      ]
    },
    {
      "cell_type": "markdown",
      "metadata": {
        "id": "4e-avcyIsDbQ"
      },
      "source": [
        "# メモ\n",
        "\n",
        "* mathwithpython01\n",
        "* mathwithpython02\n",
        "* mathwithpython03\n",
        "\n",
        "は `SymPy Tutorial` をトレースしているが、いまの `SymPy Tutorial`  では最後にはない、`gotchas and pitfalls` が最後になっている。"
      ]
    },
    {
      "cell_type": "code",
      "metadata": {
        "id": "bYjnXrAUsDbU"
      },
      "source": [
        "from sympy import *\n",
        "from sympy.abc import *\n",
        "init_printing()\n",
        "\n",
        "x - y"
      ],
      "execution_count": null,
      "outputs": []
    },
    {
      "cell_type": "code",
      "metadata": {
        "id": "vLQ5h9oGsDba"
      },
      "source": [
        "a = x - y\n",
        "a"
      ],
      "execution_count": null,
      "outputs": []
    },
    {
      "cell_type": "code",
      "metadata": {
        "id": "zBLP2b1sPhoo"
      },
      "source": [
        "(x+1)**2 -(x**2 + 2*x + 1)"
      ],
      "execution_count": null,
      "outputs": []
    },
    {
      "cell_type": "code",
      "metadata": {
        "id": "rWG82ifmsDbf"
      },
      "source": [
        "simplify ((x+1)**2 -(x**2 + 2*x + 1))"
      ],
      "execution_count": null,
      "outputs": []
    },
    {
      "cell_type": "code",
      "metadata": {
        "id": "KkKOrsDbsDbk"
      },
      "source": [
        "eq = sin(2*x) - 2*sin(x)*cos(x)\n",
        "display (eq)\n",
        "display(simplify(eq))"
      ],
      "execution_count": null,
      "outputs": []
    },
    {
      "cell_type": "code",
      "metadata": {
        "id": "RFZwx961sDbp"
      },
      "source": [
        "expand(eq, trig=True)"
      ],
      "execution_count": null,
      "outputs": []
    },
    {
      "cell_type": "code",
      "metadata": {
        "id": "vJxr9XG8sDbu"
      },
      "source": [
        "trigsimp(eq)"
      ],
      "execution_count": null,
      "outputs": []
    },
    {
      "cell_type": "code",
      "metadata": {
        "id": "WIakzYkHsDbz"
      },
      "source": [
        "from sympy import Symbol\n",
        "a = Symbol('a')\n",
        "\n",
        "b = a + 1\n",
        "b"
      ],
      "execution_count": null,
      "outputs": []
    },
    {
      "cell_type": "code",
      "metadata": {
        "id": "sucTpNY9sDb5"
      },
      "source": [
        "a = 4\n",
        "b"
      ],
      "execution_count": null,
      "outputs": []
    },
    {
      "cell_type": "code",
      "metadata": {
        "id": "wXktn90usDb9"
      },
      "source": [
        "a + 1"
      ],
      "execution_count": null,
      "outputs": []
    },
    {
      "cell_type": "code",
      "metadata": {
        "id": "-Wtix470sDcC"
      },
      "source": [
        "import sympy\n",
        "sympy.var('z') # This is the easiest way to define z as a standard symbol\n",
        "z**2"
      ],
      "execution_count": null,
      "outputs": []
    },
    {
      "cell_type": "markdown",
      "metadata": {
        "id": "Lqid2fRXsDcG"
      },
      "source": [
        "# sympyの対話型環境 isympy\n",
        "\n",
        "ターミナルで `isympy` と打つと `sympy` の対話型環境が立ち上がる。Colabでは動かない。必要もない。\n",
        "\n",
        "```\n",
        "~$ isympy\n",
        "IPython console for SymPy 1.1.1 (Python 3.6.3-64-bit) (ground types: gmpy)\n",
        "\n",
        "These commands were executed:\n",
        ">>> from __future__ import division\n",
        ">>> from sympy import *\n",
        ">>> x, y, z, t = symbols('x y z t')\n",
        ">>> k, m, n = symbols('k m n', integer=True)\n",
        ">>> f, g, h = symbols('f g h', cls=Function)\n",
        ">>> init_printing()\n",
        "\n",
        "Documentation can be found at http://docs.sympy.org/1.1.1/\n",
        "```\n"
      ]
    },
    {
      "cell_type": "code",
      "metadata": {
        "scrolled": false,
        "id": "e26IHQAJsDcH"
      },
      "source": [
        "import sympy.abc\n",
        "dir(sympy.abc)"
      ],
      "execution_count": null,
      "outputs": []
    },
    {
      "cell_type": "markdown",
      "metadata": {
        "id": "NW0NlX_xsDcM"
      },
      "source": [
        "# OSINEQ\n",
        "\n",
        "ユーザーが使う変数やシンボルで、$I, E, S, N, O, Q$ は使わない。なぜなら、これらは複素数 ($i$)、自然対数 ($e$)、簡素化関数 ($S$)、数値評価関数 ($N$)、ビッグオーオーダーシンボル ($O(nlogn)$)、キーをサポートするオブジェクト (Q.real など)に使われているから。`OSINEQ`と覚える。\n",
        "\n",
        "Lastly, it is recommended that you not use $I, E, S, N, C, O,$ or $Q$ for variable or symbol names, as those are used for the imaginary unit ($i$), the base of the natural logarithm ($e$), the sympify() function (see Symbolic Expressions below), numeric evaluation (N() is equivalent to evalf() ), the big O order symbol (as in $O(nlogn)$), and the assumptions object that holds a list of supported ask keys (such as Q.real), respectively. You can use the mnemonic OSINEQ to remember what Symbols are defined by default in SymPy. \n",
        "###### C is deprecated"
      ]
    },
    {
      "cell_type": "code",
      "metadata": {
        "id": "iIi7U5q_sDcO"
      },
      "source": [
        "from sympy import *\n",
        "cos(pi)"
      ],
      "execution_count": null,
      "outputs": []
    },
    {
      "cell_type": "code",
      "metadata": {
        "id": "a8zLjqfqsDcT"
      },
      "source": [
        "pi = 3\n",
        "from sympy import pi\n",
        "cos(pi)"
      ],
      "execution_count": null,
      "outputs": []
    },
    {
      "cell_type": "code",
      "metadata": {
        "id": "voWhIn4bsDcZ"
      },
      "source": [
        "import sympy\n",
        "# dir(sympy)\n",
        "# dir(__builtins__)\n",
        "# vars()"
      ],
      "execution_count": null,
      "outputs": []
    },
    {
      "cell_type": "markdown",
      "metadata": {
        "id": "Ql512WqxsDcf"
      },
      "source": [
        "# 数値 numbers\n",
        "\n",
        "数値を含む式は自動的にPythonの式にになってしまう。`SymPy`の式であることを確実にするためには、`symplify()`、もしくは `S()` とする必要がある。\n"
      ]
    },
    {
      "cell_type": "code",
      "metadata": {
        "id": "wjiomDU-sDcg"
      },
      "source": [
        "type(6.2)"
      ],
      "execution_count": null,
      "outputs": []
    },
    {
      "cell_type": "code",
      "metadata": {
        "id": "MuHI18jpsDcl"
      },
      "source": [
        "type(S(6.2))"
      ],
      "execution_count": null,
      "outputs": []
    },
    {
      "cell_type": "code",
      "metadata": {
        "id": "C7Rxuy1EsDct"
      },
      "source": [
        "x = symbols('x')\n",
        "x**(1/2)"
      ],
      "execution_count": null,
      "outputs": []
    },
    {
      "cell_type": "code",
      "metadata": {
        "id": "XSRd7vnMsDcy"
      },
      "source": [
        "x**(S(1)/2)"
      ],
      "execution_count": null,
      "outputs": []
    },
    {
      "cell_type": "code",
      "metadata": {
        "id": "2ZYj3VrusDc1"
      },
      "source": [
        "x**Rational(1,2)"
      ],
      "execution_count": null,
      "outputs": []
    },
    {
      "cell_type": "code",
      "metadata": {
        "id": "-RfEvxifsDc5"
      },
      "source": [
        "Rational(0.5)"
      ],
      "execution_count": null,
      "outputs": []
    },
    {
      "cell_type": "code",
      "metadata": {
        "id": "-gLC6xp0sDc9"
      },
      "source": [
        "sqrt(x) == x**Rational(1,2)"
      ],
      "execution_count": null,
      "outputs": []
    },
    {
      "cell_type": "code",
      "metadata": {
        "id": "YCvzgfYtsDdA"
      },
      "source": [
        "x**(2*x/3)"
      ],
      "execution_count": null,
      "outputs": []
    },
    {
      "cell_type": "code",
      "metadata": {
        "id": "rfQuQbe6sDdE"
      },
      "source": [
        "x = symbols('x')\n",
        "solve(7*x - 22 , x)"
      ],
      "execution_count": null,
      "outputs": []
    },
    {
      "cell_type": "code",
      "metadata": {
        "id": "hVSZog-NsDdH"
      },
      "source": [
        "22/7"
      ],
      "execution_count": null,
      "outputs": []
    },
    {
      "cell_type": "code",
      "metadata": {
        "id": "T-OsFUkk0xfs"
      },
      "source": [
        "N(pi)"
      ],
      "execution_count": null,
      "outputs": []
    },
    {
      "cell_type": "code",
      "metadata": {
        "id": "FGInrhD6sDdM"
      },
      "source": [
        "a = solve(7*x - 22 , x)[0]\n",
        "a"
      ],
      "execution_count": null,
      "outputs": []
    },
    {
      "cell_type": "code",
      "metadata": {
        "id": "ctacLXSysDdQ"
      },
      "source": [
        "22/S(7)"
      ],
      "execution_count": null,
      "outputs": []
    },
    {
      "cell_type": "code",
      "metadata": {
        "id": "LuSLjvlMsDdT"
      },
      "source": [
        "S(\"22/7\") # sympify it"
      ],
      "execution_count": null,
      "outputs": []
    },
    {
      "cell_type": "code",
      "metadata": {
        "id": "_NVAyiCrsDdX"
      },
      "source": [
        "from __future__ import division\n",
        "1/2 # integer division -> float division "
      ],
      "execution_count": null,
      "outputs": []
    },
    {
      "cell_type": "code",
      "metadata": {
        "id": "wi479b1CsDdb"
      },
      "source": [
        "from sympy import var\n",
        "r, t , d = var('rate time short_life')\n",
        "d = r*t\n",
        "d"
      ],
      "execution_count": null,
      "outputs": []
    },
    {
      "cell_type": "code",
      "metadata": {
        "id": "ku75NB1KsDde"
      },
      "source": [
        "r = 80\n",
        "t = 2\n",
        "d # rate*time"
      ],
      "execution_count": null,
      "outputs": []
    },
    {
      "cell_type": "code",
      "metadata": {
        "id": "P6M6WbU-sDdi"
      },
      "source": [
        "d = r *  t\n",
        "d # 160"
      ],
      "execution_count": null,
      "outputs": []
    },
    {
      "cell_type": "markdown",
      "metadata": {
        "id": "wq0yWJTq1K0H"
      },
      "source": [
        "# いまここ\n"
      ]
    },
    {
      "cell_type": "code",
      "metadata": {
        "id": "1hHBrjalsDdl"
      },
      "source": [
        "c,d = var('c d')\n",
        "def ctimesd():\n",
        "    return c*d\n",
        "ctimesd() # c*D"
      ],
      "execution_count": null,
      "outputs": []
    },
    {
      "cell_type": "code",
      "metadata": {
        "id": "Y5Z4F_tksDdo"
      },
      "source": [
        "c=2\n",
        "d=8\n",
        "ctimesd() # 16"
      ],
      "execution_count": null,
      "outputs": []
    },
    {
      "cell_type": "code",
      "metadata": {
        "id": "NC-FdabMsDds"
      },
      "source": [
        "from sympy import *\n",
        "init_printing()\n",
        "x,y,z = symbols('x y z')\n",
        "# Rational(2, x) -> error!!!\n",
        "2/x"
      ],
      "execution_count": null,
      "outputs": []
    },
    {
      "cell_type": "markdown",
      "metadata": {
        "id": "BxkMWhessDdv"
      },
      "source": [
        "#  数学演算子 mathematical operators"
      ]
    },
    {
      "cell_type": "code",
      "metadata": {
        "id": "AHkjD0eBsDdw"
      },
      "source": [
        "3 - x**(2*x)/(x + 1)"
      ],
      "execution_count": null,
      "outputs": []
    },
    {
      "cell_type": "markdown",
      "metadata": {
        "id": "ODOzn6cusDdz"
      },
      "source": [
        "# 逆三角関数 nverse trig functions\n",
        "\n",
        "`arcsin` 、 `arccos` ではなく、 `asin()`, `acos()` を使う。\n",
        "\n"
      ]
    },
    {
      "cell_type": "markdown",
      "metadata": {
        "id": "2Sl9qZXpsDd0"
      },
      "source": [
        "# リストはイミュータブルではない\n",
        "\n",
        "lists are mutable"
      ]
    },
    {
      "cell_type": "code",
      "metadata": {
        "id": "q0q3CDJysDd1"
      },
      "source": [
        "a = [x, 1]\n",
        "a"
      ],
      "execution_count": null,
      "outputs": []
    },
    {
      "cell_type": "code",
      "metadata": {
        "id": "GAEkU4rvsDd4"
      },
      "source": [
        "a[0] = 2\n",
        "a"
      ],
      "execution_count": null,
      "outputs": []
    },
    {
      "cell_type": "code",
      "metadata": {
        "id": "_EsbliBwsDd8"
      },
      "source": [
        "solve(x**2 +2*x -1, x)"
      ],
      "execution_count": null,
      "outputs": []
    },
    {
      "cell_type": "markdown",
      "metadata": {
        "id": "VN8l3vWtsDeB"
      },
      "source": [
        "# 辞書 dictionaries, dict, {}\n"
      ]
    },
    {
      "cell_type": "code",
      "metadata": {
        "id": "S2-fJ7-msDeC"
      },
      "source": [
        "d = {'a': 1, 'b': 2}  # A dictionary.\n",
        "d"
      ],
      "execution_count": null,
      "outputs": []
    },
    {
      "cell_type": "code",
      "metadata": {
        "id": "vwMRrnKVsDeG"
      },
      "source": [
        "from sympy import *\n",
        "init_printing()\n",
        "x = symbols('x')\n",
        "roots((x - 1)**2*(x - 2), x)  # Some functions return dicts"
      ],
      "execution_count": null,
      "outputs": []
    },
    {
      "cell_type": "code",
      "metadata": {
        "id": "OE01AoDHsDeK"
      },
      "source": [
        "solve((x - 1)**2*(x - 2), x)"
      ],
      "execution_count": null,
      "outputs": []
    },
    {
      "cell_type": "code",
      "metadata": {
        "id": "QsRhnkXjsDeO"
      },
      "source": [
        "(x - 1)**2*(x - 2)"
      ],
      "execution_count": null,
      "outputs": []
    },
    {
      "cell_type": "code",
      "metadata": {
        "id": "t2eRwsBuFH5u"
      },
      "source": [
        "roots((x - 1)**2*(x - 2))"
      ],
      "execution_count": null,
      "outputs": []
    },
    {
      "cell_type": "code",
      "metadata": {
        "id": "WTWUkiWnsDeX"
      },
      "source": [
        "roots((x - 5)**2*(x + 3), x)"
      ],
      "execution_count": null,
      "outputs": []
    },
    {
      "cell_type": "markdown",
      "metadata": {
        "id": "5cfiwSWBsDee"
      },
      "source": [
        "# タプル\n",
        "\n",
        "タプルはイミュータブルである。\n",
        "\n",
        "`SymPy` では基本的にタプルは使わない。\n"
      ]
    },
    {
      "cell_type": "code",
      "metadata": {
        "id": "qJAvp7IqsDef"
      },
      "source": [
        "t = (1, 2, x)\n",
        "t"
      ],
      "execution_count": null,
      "outputs": []
    },
    {
      "cell_type": "code",
      "metadata": {
        "id": "leh-_FhksDei"
      },
      "source": [
        "(x,)"
      ],
      "execution_count": null,
      "outputs": []
    },
    {
      "cell_type": "code",
      "metadata": {
        "id": "_WNqwSTVFdZw"
      },
      "source": [
        "type ((x,))"
      ],
      "execution_count": null,
      "outputs": []
    },
    {
      "cell_type": "code",
      "metadata": {
        "id": "boy_Xh8VsDel"
      },
      "source": [
        "(x)"
      ],
      "execution_count": null,
      "outputs": []
    },
    {
      "cell_type": "code",
      "metadata": {
        "id": "itLGZPtXsDeo"
      },
      "source": [
        "integrate(x**2, (x, 0, 1))"
      ],
      "execution_count": null,
      "outputs": []
    },
    {
      "cell_type": "code",
      "metadata": {
        "id": "-OgKG-qlFrHq"
      },
      "source": [
        "integrate?"
      ],
      "execution_count": null,
      "outputs": []
    },
    {
      "cell_type": "code",
      "metadata": {
        "id": "GipcvYN3sDer"
      },
      "source": [
        "Integral(x**2, [x, 0, 1])"
      ],
      "execution_count": null,
      "outputs": []
    },
    {
      "cell_type": "markdown",
      "metadata": {
        "id": "rie3yeWOsDev"
      },
      "source": [
        "# キーワード引数 keyword argumebnts"
      ]
    },
    {
      "cell_type": "code",
      "metadata": {
        "id": "s0s4Z-otsDev"
      },
      "source": [
        "sqrt(x**2)"
      ],
      "execution_count": null,
      "outputs": []
    },
    {
      "cell_type": "code",
      "metadata": {
        "id": "maaA7hsosDey"
      },
      "source": [
        "x = symbols('x', positive=True)\n",
        "sqrt(x**2)"
      ],
      "execution_count": null,
      "outputs": []
    },
    {
      "cell_type": "code",
      "metadata": {
        "id": "KD0Mp_ogsDe5"
      },
      "source": [
        "x, y, z, m, n = symbols('x y z m n')\n",
        "x**n*x**m*y**n*y**m"
      ],
      "execution_count": null,
      "outputs": []
    },
    {
      "cell_type": "code",
      "metadata": {
        "id": "jKgZiQMqsDe9"
      },
      "source": [
        "powsimp(x**n*x**m*y**n*y**m)"
      ],
      "execution_count": null,
      "outputs": []
    },
    {
      "cell_type": "code",
      "metadata": {
        "id": "aXqFn-SNsDfE"
      },
      "source": [
        "simplify(x**n*x**m*y**n*y**m)"
      ],
      "execution_count": null,
      "outputs": []
    },
    {
      "cell_type": "code",
      "metadata": {
        "id": "RlO4UJwgsDfH"
      },
      "source": [
        "powsimp(x**n*x**m*y**n*y**m, combine='all', force=True)"
      ],
      "execution_count": null,
      "outputs": []
    },
    {
      "cell_type": "code",
      "metadata": {
        "id": "tjWYWGjWsDfN"
      },
      "source": [
        "powsimp(x**n*x**m*y**n*y**m, combine='exp')"
      ],
      "execution_count": null,
      "outputs": []
    },
    {
      "cell_type": "code",
      "metadata": {
        "id": "_jPFYlN_sDfR"
      },
      "source": [
        "powsimp(x**n*x**m*y**n*y**m, combine='base', force=True)"
      ],
      "execution_count": null,
      "outputs": []
    },
    {
      "cell_type": "markdown",
      "metadata": {
        "id": "4j1hJKRcsDfU"
      },
      "source": [
        "# 指数の簡素化 powsimp\n",
        "\n",
        "powsimp?\n",
        "\n",
        "powsimp??\n",
        "\n",
        "を読む。"
      ]
    },
    {
      "cell_type": "code",
      "metadata": {
        "id": "veX6vdjwsDfV"
      },
      "source": [
        "powsimp(x**y*x**z*y**z, combine='all')"
      ],
      "execution_count": null,
      "outputs": []
    },
    {
      "cell_type": "code",
      "metadata": {
        "id": "I5XIDfc-GjSk"
      },
      "source": [
        "powsimp?"
      ],
      "execution_count": null,
      "outputs": []
    },
    {
      "cell_type": "markdown",
      "metadata": {
        "id": "NQyQ5II4sDfa"
      },
      "source": [
        "######  next\n",
        "ここまででsympy documentationのtutorialとgotchas and pitfallsを読み終わった。\n",
        "\n",
        "nextボタンを押したらsympy user's guideになった。  \n",
        "これはこれで面白そうというか勉強になるのだろうが、計画としてはmath with pythonに戻る予定である。  \n",
        "math with pythonがすばらしい本というわけではない。  \n",
        "jupyterでsympyをやりたいのだから、むしろネットでいろりろ検索してなでた方がいいと思う。  \n",
        "\n",
        "というわけですこし寄り道をします。\n",
        "\n",
        "あと、jupyterの本を買ったのだが、bokehの本なので、とりあえずsympyではない。\n"
      ]
    },
    {
      "cell_type": "code",
      "metadata": {
        "id": "w56clVRFw73q",
        "outputId": "8732131f-ef80-4f16-a1bd-65faba6a7c36",
        "colab": {
          "base_uri": "https://localhost:8080/",
          "height": 67
        }
      },
      "source": [
        "# 実験 https://docs.sympy.org/latest/modules/concrete.html より\r\n",
        "from sympy.abc import i, k, m, n, x\r\n",
        "from sympy import Sum, factorial, oo, IndexedBase, Function\r\n",
        "# Sum(k, (k, 1, m))\r\n",
        "# Sum(k, (k, 1, m))\r\n",
        "# Sum(k, (k, 1, m)).doit()\r\n",
        "# m**2/2 + m/2\r\n",
        "# Sum(k**2, (k, 1, m))\r\n",
        "# Sum(k**2, (k, 1, m))\r\n",
        "# Sum(k**2, (k, 1, m)).doit()\r\n",
        "# m**3/3 + m**2/2 + m/6\r\n",
        "# Sum(x**k, (k, 0, oo))\r\n",
        "# Sum(x**k, (k, 0, oo))\r\n",
        "# Sum(x**k, (k, 0, oo)).doit()\r\n",
        "# Piecewise((1/(1 - x), Abs(x) < 1), (Sum(x**k, (k, 0, oo)), True))\r\n",
        "# Sum(x**k/factorial(k), (k, 0, oo)).doit()\r\n",
        "# exp(x)\r\n",
        "\r\n",
        "Sum(k, (k, 1, m))"
      ],
      "execution_count": 48,
      "outputs": [
        {
          "output_type": "execute_result",
          "data": {
            "image/png": "[encoded data removed]",
            "text/latex": "$\\displaystyle \\sum_{k=1}^{m} k$",
            "text/plain": [
              "  m    \n",
              " ___   \n",
              " ╲     \n",
              "  ╲    \n",
              "  ╱   k\n",
              " ╱     \n",
              " ‾‾‾   \n",
              "k = 1  "
            ]
          },
          "metadata": {
            "tags": []
          },
          "execution_count": 48
        }
      ]
    },
    {
      "cell_type": "code",
      "metadata": {
        "id": "jzLGGi9Axdjc",
        "outputId": "cd6fd709-2bbd-488b-a0ff-2caefbf3048a",
        "colab": {
          "base_uri": "https://localhost:8080/",
          "height": 67
        }
      },
      "source": [
        "# 実験\r\n",
        "from sympy import *\r\n",
        "Sum(k, (k, 1, m))"
      ],
      "execution_count": 49,
      "outputs": [
        {
          "output_type": "execute_result",
          "data": {
            "image/png": "[encoded data removed]",
            "text/latex": "$\\displaystyle \\sum_{k=1}^{m} k$",
            "text/plain": [
              "  m    \n",
              " ___   \n",
              " ╲     \n",
              "  ╲    \n",
              "  ╱   k\n",
              " ╱     \n",
              " ‾‾‾   \n",
              "k = 1  "
            ]
          },
          "metadata": {
            "tags": []
          },
          "execution_count": 49
        }
      ]
    },
    {
      "cell_type": "markdown",
      "metadata": {
        "id": "XXBD3YkKIHnY"
      },
      "source": [
        "# いまここ"
      ]
    }
  ]
}