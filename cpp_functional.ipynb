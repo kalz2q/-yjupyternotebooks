{
  "nbformat": 4,
  "nbformat_minor": 0,
  "metadata": {
    "colab": {
      "name": "cpp_functional.ipynb",
      "provenance": [],
      "toc_visible": true,
      "authorship_tag": "ABX9TyPj+gWZVv+aX1KcsqM34deQ",
      "include_colab_link": true
    },
    "kernelspec": {
      "name": "python3",
      "display_name": "Python 3"
    },
    "language_info": {
      "name": "python"
    }
  },
  "cells": [
    {
      "cell_type": "markdown",
      "metadata": {
        "id": "view-in-github",
        "colab_type": "text"
      },
      "source": [
        "<a href=\"https://colab.research.google.com/github/kalz2q/mycolabnotebooks/blob/master/cpp_functional.ipynb\" target=\"_parent\"><img src=\"https://colab.research.google.com/assets/colab-badge.svg\" alt=\"Open In Colab\"/></a>"
      ]
    },
    {
      "cell_type": "markdown",
      "source": [
        "# メモ\n",
        "functional programming in c++ をなぞり読み\n",
        "\n",
        "https://www.manning.com/books/functional-programming-in-c-plus-plus#toc"
      ],
      "metadata": {
        "id": "ufAw6CKvGMA9"
      }
    },
    {
      "cell_type": "code",
      "execution_count": null,
      "metadata": {
        "id": "PUckHiKDGLO7"
      },
      "outputs": [],
      "source": [
        "# 手続き型の例\n",
        "# Listing 1.1 Calculating the number of lines the imperative way\n",
        "%%script false\n",
        "vector<int> count_lines_in_files(const vector<string>& files)\n",
        "    vector<int> results;\n",
        "    char c = 0;\n",
        "    for (const auto& file : files) {\n",
        "        int line_count = 0;\n",
        "        ifstream in(file); \n",
        "        while (in.get(c)) {\n",
        "            if (c == '\\n') {\n",
        "                line_count++;\n",
        "            }\n",
        "        }\n",
        "        results.push_back(line_count);\n",
        "    }\n",
        "    return results;\n",
        "}"
      ]
    },
    {
      "cell_type": "code",
      "source": [
        "# 動く形にして見よう\n",
        "\n",
        "    ofstream ofs(\"temp.txt\");\n",
        "    ofs << \"foo bar baz \\n\";\n",
        "    ofs << \"This is a pen\" << endl;\n",
        "    ofs << \"日本語もどうか\" << endl << endl;\n",
        "    ofs << \"これが最後\" << endl;\n",
        "    ofs << \"ん\";\n",
        "    ofs.close();"
      ],
      "metadata": {
        "id": "KtcxQ34yHd-z"
      },
      "execution_count": null,
      "outputs": []
    }
  ]
}