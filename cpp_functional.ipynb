{
  "nbformat": 4,
  "nbformat_minor": 0,
  "metadata": {
    "colab": {
      "name": "cpp_functional.ipynb",
      "provenance": [],
      "toc_visible": true,
      "authorship_tag": "ABX9TyN5Dvf3lEk9MRtDJM6LbYgj",
      "include_colab_link": true
    },
    "kernelspec": {
      "name": "python3",
      "display_name": "Python 3"
    },
    "language_info": {
      "name": "python"
    }
  },
  "cells": [
    {
      "cell_type": "markdown",
      "metadata": {
        "id": "view-in-github",
        "colab_type": "text"
      },
      "source": [
        "<a href=\"https://colab.research.google.com/github/kalz2q/mycolabnotebooks/blob/master/cpp_functional.ipynb\" target=\"_parent\"><img src=\"https://colab.research.google.com/assets/colab-badge.svg\" alt=\"Open In Colab\"/></a>"
      ]
    },
    {
      "cell_type": "markdown",
      "source": [
        "# メモ\n",
        "functional programming in c++ をなぞり読み\n",
        "\n",
        "https://www.manning.com/books/functional-programming-in-c-plus-plus#toc"
      ],
      "metadata": {
        "id": "ufAw6CKvGMA9"
      }
    },
    {
      "cell_type": "code",
      "source": [
        "!sudo apt install librange-v3-dev"
      ],
      "metadata": {
        "id": "nvP2yV6q93qQ"
      },
      "execution_count": null,
      "outputs": []
    },
    {
      "cell_type": "code",
      "execution_count": null,
      "metadata": {
        "id": "PUckHiKDGLO7"
      },
      "outputs": [],
      "source": [
        "# 最初の例\n",
        "# 命令型の例\n",
        "# main のないセルを実行するとエラーになる\n",
        "# コメントアウトするか %%script false としておく\n",
        "# Listing 1.1 Calculating the number of lines the imperative way\n",
        "%%script false\n",
        "vector<int> count_lines_in_files(const vector<string>& files) {\n",
        "    vector<int> results;\n",
        "    char c = 0;\n",
        "    for (const auto& file : files) {\n",
        "        int line_count = 0;\n",
        "        ifstream in(file); \n",
        "        while (in.get(c)) {\n",
        "            if (c == '\\n') {\n",
        "                line_count++;\n",
        "            }\n",
        "        }\n",
        "        results.push_back(line_count);\n",
        "    }\n",
        "    return results;\n",
        "}"
      ]
    },
    {
      "cell_type": "code",
      "source": [
        "# 動く形にして見よう\n",
        "%%writefile temp.cpp\n",
        "# include <bits/stdc++.h>\n",
        "using namespace std;\n",
        "\n",
        "vector<int> count_lines_in_files(const vector<string>& files) {\n",
        "    vector<int> results;\n",
        "    char c = 0;\n",
        "    for (const auto& file : files) {\n",
        "        int line_count = 0;\n",
        "        ifstream in(file); \n",
        "        while (in.get(c)) {\n",
        "            if (c == '\\n') {\n",
        "                line_count++;\n",
        "            }\n",
        "        }\n",
        "        results.push_back(line_count);\n",
        "    }\n",
        "    return results;\n",
        "}\n",
        "\n",
        "int main() {\n",
        "    ofstream ofs01(\"./temp01.txt\");\n",
        "    ofs01 << \"foo bar baz \\nThis is a pen\" << endl;\n",
        "    ofs01.close(); // 2行\n",
        "    ofstream ofs02(\"./temp02.txt\");\n",
        "    ofs02 << \"日本語もどうか\" << endl << endl;\n",
        "    ofs02 << \"これが最後\" << endl << \"ん\" << endl; \n",
        "    ofs02.close(); // 4行\n",
        "\n",
        "    vector<string> files = {\"temp01.txt\", \"temp02.txt\"};\n",
        "    vector<int> lines;\n",
        "    lines = count_lines_in_files(files);\n",
        "    for(int i : lines) {\n",
        "        cout << i << endl;\n",
        "    }\n",
        "}"
      ],
      "metadata": {
        "id": "KtcxQ34yHd-z",
        "colab": {
          "base_uri": "https://localhost:8080/"
        },
        "outputId": "45ea6fa9-b4fe-4fd7-c4ce-84d961812f91"
      },
      "execution_count": null,
      "outputs": [
        {
          "output_type": "stream",
          "name": "stdout",
          "text": [
            "Overwriting temp.cpp\n"
          ]
        }
      ]
    },
    {
      "cell_type": "code",
      "source": [
        "!g++ temp.cpp; ./a.out"
      ],
      "metadata": {
        "colab": {
          "base_uri": "https://localhost:8080/"
        },
        "id": "s8amJt2mR1H2",
        "outputId": "63cadb96-f1cf-4d7c-c9b3-3a037b66bd93"
      },
      "execution_count": null,
      "outputs": [
        {
          "output_type": "stream",
          "name": "stdout",
          "text": [
            "2\n",
            "4\n"
          ]
        }
      ]
    },
    {
      "cell_type": "code",
      "source": [
        "# とりあえず動いた\n",
        "# \"\\n\" を数えているのでファイル末に改行がないと正しい数字にならない\n",
        "# getline を使いたい"
      ],
      "metadata": {
        "id": "rYhV-d1WUKho"
      },
      "execution_count": null,
      "outputs": []
    },
    {
      "cell_type": "code",
      "source": [
        "# Listing 1.2 Using std::count to count newline characters\n",
        "# count version\n",
        "%%writefile temp.cpp\n",
        "# include <bits/stdc++.h>\n",
        "using namespace std;\n",
        "\n",
        "int count_lines(const string& filename) {\n",
        "  ifstream in(filename);\n",
        "  return count(istreambuf_iterator<char>(in), istreambuf_iterator<char>(), '\\n');\n",
        "}\n",
        "\n",
        "vector<int> count_lines_in_files(const vector<string>& files) {\n",
        "  vector<int> results;\n",
        "  for (const auto& file : files) {\n",
        "    results.push_back(count_lines(file));\n",
        "  }\n",
        "  return results;\n",
        "}\n",
        "\n",
        "int main() {\n",
        "  ofstream ofs01(\"./temp01.txt\");\n",
        "  ofs01 << \"foo bar baz \\nThis is a pen\" << endl;\n",
        "  ofs01.close(); // 2行\n",
        "  ofstream ofs02(\"./temp02.txt\");\n",
        "  ofs02 << \"日本語もどうか\" << endl << endl;\n",
        "  ofs02 << \"これが最後\" << endl << \"ん\" << endl; \n",
        "  ofs02.close(); // 4行\n",
        "\n",
        "  vector<string> files = { \"temp01.txt\", \"temp02.txt\" };\n",
        "  vector<int> lines;\n",
        "  lines = count_lines_in_files(files);\n",
        "  for (int i : lines) {\n",
        "    cout << i << endl;\n",
        "  }\n",
        "}"
      ],
      "metadata": {
        "colab": {
          "base_uri": "https://localhost:8080/"
        },
        "id": "l53WHwFMVHfp",
        "outputId": "391a2bc6-2a3e-4ee3-cdd2-e42d337e479f"
      },
      "execution_count": null,
      "outputs": [
        {
          "output_type": "stream",
          "name": "stdout",
          "text": [
            "Overwriting temp.cpp\n"
          ]
        }
      ]
    },
    {
      "cell_type": "code",
      "source": [
        "!g++ temp.cpp; ./a.out"
      ],
      "metadata": {
        "colab": {
          "base_uri": "https://localhost:8080/"
        },
        "id": "BzG_HcrEVHXJ",
        "outputId": "97a62549-0f75-48ca-d83b-6195102d2b3e"
      },
      "execution_count": null,
      "outputs": [
        {
          "output_type": "stream",
          "name": "stdout",
          "text": [
            "2\n",
            "4\n"
          ]
        }
      ]
    },
    {
      "cell_type": "code",
      "source": [
        "# count version は count を使っている事より、istreambuf_iterator を知らなかった\n",
        "# cpprefjp による例\n",
        "%%writefile temp.cpp\n",
        "# include <bits/stdc++.h>\n",
        "using namespace std;\n",
        "\n",
        "int main()\n",
        "{\n",
        "  stringstream ss;\n",
        "  ss << \"1 2 3\" << endl\n",
        "     << \"4 5 6\";\n",
        "\n",
        "  // 文字列の入力ストリームから順に文字を読み込むイテレータを用意\n",
        "  istreambuf_iterator<char> it(ss);\n",
        "  istreambuf_iterator<char> last;\n",
        "\n",
        "  // イテレータを進めることにより、入力ストリームからデータを順に読み取る\n",
        "  for_each(it, last, [](char c) { std::cout << c; });\n",
        "}"
      ],
      "metadata": {
        "colab": {
          "base_uri": "https://localhost:8080/"
        },
        "id": "N4Xn_ngWWN_p",
        "outputId": "2c48f25b-8f2e-4bc8-a0fc-a13fc9f83bcb"
      },
      "execution_count": null,
      "outputs": [
        {
          "output_type": "stream",
          "name": "stdout",
          "text": [
            "Overwriting temp.cpp\n"
          ]
        }
      ]
    },
    {
      "cell_type": "code",
      "source": [
        "!g++ temp.cpp; ./a.out"
      ],
      "metadata": {
        "colab": {
          "base_uri": "https://localhost:8080/"
        },
        "id": "TNhKSwWrdrLo",
        "outputId": "4bfa819f-2bed-4bfd-f742-073c62aadf64"
      },
      "execution_count": null,
      "outputs": [
        {
          "output_type": "stream",
          "name": "stdout",
          "text": [
            "1 2 3\n",
            "4 5 6"
          ]
        }
      ]
    },
    {
      "cell_type": "code",
      "source": [
        "# ちょっとよくわかりません\n",
        "# とりあえず getline version を作って、ファイル末の改行なしに対応するか実験しよう #=> 成功!!!!\n",
        "# getline version\n",
        "%%writefile temp.cpp\n",
        "# include <bits/stdc++.h>\n",
        "using namespace std;\n",
        "\n",
        "int count_lines(const string& filename) {\n",
        "  int count = 0;\n",
        "  string myText;\n",
        "  ifstream in(filename);\n",
        "  while (getline (in, myText)) {\n",
        "    count += 1;\n",
        "  }\n",
        "  return count;\n",
        "}\n",
        "\n",
        "vector<int> count_lines_in_files(const vector<string>& files) {\n",
        "  vector<int> results;\n",
        "  for (const auto& file : files) {\n",
        "    results.push_back(count_lines(file));\n",
        "  }\n",
        "  return results;\n",
        "}\n",
        "\n",
        "int main() {\n",
        "  ofstream ofs01(\"./temp01.txt\");\n",
        "  ofs01 << \"foo bar baz \\nThis is a pen\" << endl;\n",
        "  ofs01.close(); // 2行\n",
        "  ofstream ofs02(\"./temp02.txt\");\n",
        "  ofs02 << \"日本語もどうか\" << endl << endl;\n",
        "  // ofs02 << \"これが最後\" << endl << \"ん\" << endl; \n",
        "  ofs02 << \"これが最後\" << endl << \"ん\"; \n",
        "  ofs02.close(); // 4行\n",
        "\n",
        "  vector<string> files = { \"temp01.txt\", \"temp02.txt\" };\n",
        "  vector<int> lines;\n",
        "  lines = count_lines_in_files(files);\n",
        "  for (int i : lines) {\n",
        "    cout << i << endl;\n",
        "  }\n",
        "}"
      ],
      "metadata": {
        "colab": {
          "base_uri": "https://localhost:8080/"
        },
        "id": "b5adJsAteFqc",
        "outputId": "2a3aa8d0-f130-494d-ac59-ff599c6386af"
      },
      "execution_count": null,
      "outputs": [
        {
          "output_type": "stream",
          "name": "stdout",
          "text": [
            "Overwriting temp.cpp\n"
          ]
        }
      ]
    },
    {
      "cell_type": "code",
      "source": [
        "!g++ temp.cpp; ./a.out"
      ],
      "metadata": {
        "colab": {
          "base_uri": "https://localhost:8080/"
        },
        "id": "d0wPWR_Ff4N-",
        "outputId": "925ca3d3-ec52-4439-ad7b-4ffcea6b1967"
      },
      "execution_count": null,
      "outputs": [
        {
          "output_type": "stream",
          "name": "stdout",
          "text": [
            "2\n",
            "4\n"
          ]
        }
      ]
    },
    {
      "cell_type": "code",
      "source": [
        "# テキストは次に transform を使っている\n",
        "# transform は他の言語では map に当たるアルゴリズムである\n",
        "# map -> transform, reduce -> accumulate, filter -> copy_if らしい\n",
        "# transform version\n",
        "%%writefile temp.cpp\n",
        "# include <bits/stdc++.h>\n",
        "using namespace std;\n",
        "\n",
        "int count_lines(const string& filename) {\n",
        "  int count = 0;\n",
        "  string myText;\n",
        "  ifstream in(filename);\n",
        "  while (getline (in, myText)) {\n",
        "    count += 1;\n",
        "  }\n",
        "  return count;\n",
        "}\n",
        "\n",
        "vector<int> count_lines_in_files(const vector<std::string>& files) {\n",
        "    vector<int> results(files.size());\n",
        "    // transform(files.cbegin(), files.cend(), results.begin(), count_lines);    \n",
        "    transform(files.begin(), files.end(), results.begin(), count_lines); // cbegin と begin の違いは const かどうかでほとんど同じ\n",
        "    return results;\n",
        "}\n",
        "\n",
        "int main() {\n",
        "  ofstream ofs01(\"./temp01.txt\");\n",
        "  ofs01 << \"foo bar baz \\nThis is a pen\" << endl;\n",
        "  ofs01.close(); // 2行\n",
        "  ofstream ofs02(\"./temp02.txt\");\n",
        "  ofs02 << \"日本語もどうか\" << endl << endl;\n",
        "  // ofs02 << \"これが最後\" << endl << \"ん\" << endl; \n",
        "  ofs02 << \"これが最後\" << endl << \"ん\"; \n",
        "  ofs02.close(); // 4行\n",
        "\n",
        "  vector<string> files = { \"temp01.txt\", \"temp02.txt\" };\n",
        "  vector<int> lines;\n",
        "  lines = count_lines_in_files(files);\n",
        "  for (int i : lines) {\n",
        "    cout << i << endl;\n",
        "  }\n",
        "}"
      ],
      "metadata": {
        "colab": {
          "base_uri": "https://localhost:8080/"
        },
        "id": "R93pHbeWgX0a",
        "outputId": "f836604e-73f4-4aef-b698-9f29d8dfe953"
      },
      "execution_count": null,
      "outputs": [
        {
          "output_type": "stream",
          "name": "stdout",
          "text": [
            "Overwriting temp.cpp\n"
          ]
        }
      ]
    },
    {
      "cell_type": "code",
      "source": [
        "!g++ temp.cpp; ./a.out"
      ],
      "metadata": {
        "colab": {
          "base_uri": "https://localhost:8080/"
        },
        "id": "232g3n4tgXws",
        "outputId": "4de0aae5-7032-4849-bb7a-6b9d8d200cfe"
      },
      "execution_count": null,
      "outputs": [
        {
          "output_type": "stream",
          "name": "stdout",
          "text": [
            "2\n",
            "4\n"
          ]
        }
      ]
    },
    {
      "cell_type": "code",
      "source": [
        "# ranges version\n",
        "# ranges は chapter 7 で説明するとのこと\n",
        "# だがエラーなのでとりあえず %%script false にして先へ進むか\n",
        "# 実験\n",
        "# !sudo apt install librange-v3-dev\n",
        "# include <range/v3/view/transform.hpp>\n",
        "# ::ranges::view::transform\n",
        "# としたら動いた\n",
        "%%writefile temp.cpp\n",
        "# include <bits/stdc++.h>\n",
        "# include <range/v3/view/transform.hpp>\n",
        "\n",
        "using namespace std;\n",
        "\n",
        "int count_lines(const string& filename) {\n",
        "  int count = 0;\n",
        "  string myText;\n",
        "  ifstream in(filename);\n",
        "  while (getline (in, myText)) {\n",
        "    count += 1;\n",
        "  }\n",
        "  return count;\n",
        "}\n",
        "\n",
        "vector<int> count_lines_in_files(const vector<string>& files) {\n",
        "    return files | ::ranges::view::transform(count_lines);\n",
        "}\n",
        "\n",
        "int main() {\n",
        "  ofstream ofs01(\"./temp01.txt\");\n",
        "  ofs01 << \"foo bar baz \\nThis is a pen\" << endl;\n",
        "  ofs01.close(); // 2行\n",
        "  ofstream ofs02(\"./temp02.txt\");\n",
        "  ofs02 << \"日本語もどうか\" << endl << endl;\n",
        "  // ofs02 << \"これが最後\" << endl << \"ん\" << endl; \n",
        "  ofs02 << \"これが最後\" << endl << \"ん\"; \n",
        "  ofs02.close(); // 4行\n",
        "\n",
        "  vector<string> files = { \"temp01.txt\", \"temp02.txt\" };\n",
        "  vector<int> lines;\n",
        "  lines = count_lines_in_files(files);\n",
        "  for (int i : lines) {\n",
        "    cout << i << endl;\n",
        "  }\n",
        "}"
      ],
      "metadata": {
        "colab": {
          "base_uri": "https://localhost:8080/"
        },
        "id": "mWkSG6IGp8AF",
        "outputId": "fee30e7f-cc97-40b3-d210-7471793355a5"
      },
      "execution_count": 1,
      "outputs": [
        {
          "output_type": "stream",
          "name": "stdout",
          "text": [
            "Writing temp.cpp\n"
          ]
        }
      ]
    },
    {
      "cell_type": "code",
      "source": [
        "!sudo apt install librange-v3-dev"
      ],
      "metadata": {
        "id": "jbube4_RZAP1"
      },
      "execution_count": null,
      "outputs": []
    },
    {
      "cell_type": "code",
      "source": [
        "!g++ temp.cpp; ./a.out"
      ],
      "metadata": {
        "id": "BsccdaNwAdym",
        "outputId": "c962bb35-2bd7-4e4d-c930-f0ba601bbad4",
        "colab": {
          "base_uri": "https://localhost:8080/"
        }
      },
      "execution_count": 3,
      "outputs": [
        {
          "output_type": "stream",
          "name": "stdout",
          "text": [
            "2\n",
            "4\n"
          ]
        }
      ]
    },
    {
      "cell_type": "code",
      "source": [
        "# 最終形は次のようになる、とのこと\n",
        "# transform を 2回に分けている\n",
        "%%script false\n",
        "vector<int>\n",
        "count_lines_in_files(const vector<string>& files) {\n",
        "    return files | transform(open_file) | transform(count_lines);\n",
        "}"
      ],
      "metadata": {
        "id": "2CxqMq26qjPr"
      },
      "execution_count": null,
      "outputs": []
    },
    {
      "cell_type": "code",
      "source": [
        "# Listing 2.1 Calculating the average score imperatively\n",
        "# 平均を算出する 命令形\n",
        "%%writefile temp.cpp\n",
        "# include <bits/stdc++.h>\n",
        "using namespace std;\n",
        "\n",
        "double average_score(const vector<int>& scores) {\n",
        "    int sum = 0;    \n",
        "    for (int score : scores) {    \n",
        "        sum += score;    \n",
        "    }    \n",
        "    return sum / (double)scores.size();    \n",
        "}\n",
        "\n",
        "int main() {\n",
        "    vector<int> vec = {9, 7, 10, 5, 8, 8, 6};\n",
        "    double average;\n",
        "    average = average_score(vec);\n",
        "    cout << average << endl;\n",
        "}"
      ],
      "metadata": {
        "id": "XxDWsdbr6XJP",
        "outputId": "64d1f719-91a6-48b0-9670-e314cf4c1901",
        "colab": {
          "base_uri": "https://localhost:8080/"
        }
      },
      "execution_count": 29,
      "outputs": [
        {
          "output_type": "stream",
          "name": "stdout",
          "text": [
            "Overwriting temp.cpp\n"
          ]
        }
      ]
    },
    {
      "cell_type": "code",
      "source": [
        "!g++ temp.cpp; ./a.out"
      ],
      "metadata": {
        "id": "xHUXmNfQ6XAP",
        "outputId": "7f61375d-a041-4e13-b697-51a68709de1e",
        "colab": {
          "base_uri": "https://localhost:8080/"
        }
      },
      "execution_count": 30,
      "outputs": [
        {
          "output_type": "stream",
          "name": "stdout",
          "text": [
            "7.57143\n"
          ]
        }
      ]
    },
    {
      "cell_type": "code",
      "source": [
        "# Listing 2.2 Calculating the average score functionally\n",
        "# 関数型\n",
        "%%writefile temp.cpp\n",
        "# include <bits/stdc++.h>\n",
        "using namespace std;\n",
        "\n",
        "double average_score(const vector<int>& scores) {\n",
        "    return accumulate(scores.cbegin(), scores.cend(),0) / (double)scores.size();    \n",
        "}\n",
        "\n",
        "int main() {\n",
        "    vector<int> vec = {9, 7, 10, 5, 8, 8, 6};\n",
        "    double average;\n",
        "    average = average_score(vec);\n",
        "    cout << average << endl;\n",
        "}"
      ],
      "metadata": {
        "id": "enjgnpyx7wcF",
        "outputId": "eb837d9b-05a1-4c76-a81b-e6110fc93d0b",
        "colab": {
          "base_uri": "https://localhost:8080/"
        }
      },
      "execution_count": null,
      "outputs": [
        {
          "output_type": "stream",
          "name": "stdout",
          "text": [
            "Overwriting temp.cpp\n"
          ]
        }
      ]
    },
    {
      "cell_type": "code",
      "source": [
        "!g++ temp.cpp; ./a.out"
      ],
      "metadata": {
        "id": "WUijeryT7wX-",
        "outputId": "9e594fd4-b20b-487f-cb91-d93bce788381",
        "colab": {
          "base_uri": "https://localhost:8080/"
        }
      },
      "execution_count": null,
      "outputs": [
        {
          "output_type": "stream",
          "name": "stdout",
          "text": [
            "7.57143\n"
          ]
        }
      ]
    },
    {
      "cell_type": "code",
      "source": [
        "# PARALLEL VERSIONS OF STANDARD ALGORITHMS\n",
        "#  -std=c++17 にしても reduce , execution が使えないので %%script false\n",
        "# 並行処理は一旦諦める\n",
        "%%script false\n",
        "%%writefile temp.cpp\n",
        "# include <bits/stdc++.h>\n",
        "\n",
        "using namespace std;\n",
        "\n",
        "double average_score(const vector<int>& scores) {\n",
        "    return reduce(execution::par, scores.cbegin(), scores.cend(),0) / (double) scores.length();\n",
        "}\n",
        "\n",
        "int main() {\n",
        "    vector<int> vec = {9, 7, 10, 5, 8, 8, 6};\n",
        "    double average;\n",
        "    average = average_score(vec);\n",
        "    cout << average << endl;\n",
        "}"
      ],
      "metadata": {
        "id": "Rg4paNk08MuC",
        "outputId": "bc53a77b-c93a-43c2-94cf-b4fcfce3c567",
        "colab": {
          "base_uri": "https://localhost:8080/"
        }
      },
      "execution_count": 23,
      "outputs": [
        {
          "output_type": "stream",
          "name": "stdout",
          "text": [
            "Overwriting temp.cpp\n"
          ]
        }
      ]
    },
    {
      "cell_type": "code",
      "source": [
        "!g++ -std=c++17 temp.cpp"
      ],
      "metadata": {
        "id": "BlCsP7A7a-q6"
      },
      "execution_count": null,
      "outputs": []
    },
    {
      "cell_type": "code",
      "source": [
        "# c++17 の any は -std=c++17 して include  すれば使える\n",
        "# reduce や execution は同じようにしてもエラーになる\n",
        "%%writefile temp.cpp\n",
        "# include <bits/stdc++.h>\n",
        "# include <any>\n",
        "using namespace std;\n",
        "\n",
        "int main(){\n",
        "    auto s = any(123);\n",
        "    cout << any_cast<int>(s) << endl; // \"123\"が標準出力\n",
        "}"
      ],
      "metadata": {
        "id": "LczxuXpPtq8G",
        "outputId": "c653354c-095d-473e-dcc3-4a7a7832a6a4",
        "colab": {
          "base_uri": "https://localhost:8080/"
        }
      },
      "execution_count": 27,
      "outputs": [
        {
          "output_type": "stream",
          "name": "stdout",
          "text": [
            "Overwriting temp.cpp\n"
          ]
        }
      ]
    },
    {
      "cell_type": "code",
      "source": [
        "!g++ -std=c++17 temp.cpp; ./a.out"
      ],
      "metadata": {
        "id": "JA3_zUWuBHkH",
        "outputId": "cd85c721-9cff-4d63-a1ed-b9cc94e1eafa",
        "colab": {
          "base_uri": "https://localhost:8080/"
        }
      },
      "execution_count": 28,
      "outputs": [
        {
          "output_type": "stream",
          "name": "stdout",
          "text": [
            "123\n"
          ]
        }
      ]
    },
    {
      "cell_type": "code",
      "source": [
        "# Listing 2.3 Calculating the product of all scores\n",
        "# accumulate の使い方 関数が渡せる fold や reduce みたい\n",
        "# この例では multiplies<int>() というのを渡している\n",
        "%%writefile temp.cpp\n",
        "# include <bits/stdc++.h>\n",
        "using namespace std;\n",
        "\n",
        "double scores_product(const vector<int>& scores) {\n",
        "  return accumulate(scores.cbegin(), scores.cend(), 1, multiplies<int>());\n",
        "}\n",
        "\n",
        "int main() {\n",
        "  vector<int> vec = { 2,3,4 };\n",
        "  cout << scores_product(vec) << endl;  //=> 24\n",
        "}"
      ],
      "metadata": {
        "id": "Vj39uofIEaL3",
        "outputId": "174e1521-5ae4-4809-c79d-77459b34a7ac",
        "colab": {
          "base_uri": "https://localhost:8080/"
        }
      },
      "execution_count": 35,
      "outputs": [
        {
          "output_type": "stream",
          "name": "stdout",
          "text": [
            "Overwriting temp.cpp\n"
          ]
        }
      ]
    },
    {
      "cell_type": "code",
      "source": [
        "!g++  temp.cpp; ./a.out"
      ],
      "metadata": {
        "id": "gLHMrbNnmRIb",
        "outputId": "3bbd70d4-70bd-4862-a571-194f6202f9f6",
        "colab": {
          "base_uri": "https://localhost:8080/"
        }
      },
      "execution_count": 36,
      "outputs": [
        {
          "output_type": "stream",
          "name": "stdout",
          "text": [
            "24\n"
          ]
        }
      ]
    },
    {
      "cell_type": "code",
      "source": [
        "# folding\n",
        "# Counting newline characters with accumulate\n",
        "%%writefile temp.cpp\n",
        "# include <bits/stdc++.h>\n",
        "using namespace std;\n",
        "\n",
        "int f(int previous_count, char c) {\n",
        "  return (c != '\\n') ? previous_count : previous_count + 1;\n",
        "}\n",
        "\n",
        "int count_lines(const string& s) {\n",
        "  return accumulate(s.cbegin(), s.cend(), 0, f);\n",
        "}\n",
        "\n",
        "vector<int> count_lines_in_files(const vector<string>& files) {\n",
        "    vector<int> results(files.size()); \n",
        "    transform(files.begin(), files.end(), results.begin(), count_lines);\n",
        "    return results;\n",
        "}\n",
        "\n",
        "int main() {\n",
        "  ofstream ofs01(\"./temp01.txt\");\n",
        "  ofs01 << \"foo bar baz \\nThis is a pen\" << endl;\n",
        "  ofs01.close(); // 2行\n",
        "  ofstream ofs02(\"./temp02.txt\");\n",
        "  ofs02 << \"日本語もどうか\" << endl << endl;\n",
        "  // ofs02 << \"これが最後\" << endl << \"ん\" << endl; \n",
        "  ofs02 << \"これが最後\" << endl << \"ん\"; \n",
        "  ofs02.close(); // 4行\n",
        "\n",
        "  vector<string> files = { \"temp01.txt\", \"temp02.txt\" };\n",
        "  vector<int> lines;\n",
        "  lines = count_lines_in_files(files);\n",
        "  for (int i : lines) {\n",
        "    cout << i << endl;\n",
        "  }\n",
        "\n",
        "  cout << count_lines(\"this\\nis\\na\\npen\\n\") << endl;\n",
        "}"
      ],
      "metadata": {
        "id": "gVgO1ystoLFM"
      },
      "execution_count": null,
      "outputs": []
    },
    {
      "cell_type": "code",
      "source": [
        "!g++  temp.cpp; ./a.out"
      ],
      "metadata": {
        "id": "M1WTEhriocQ7",
        "outputId": "f7ec86f1-e762-4a19-9138-2ca7d75272d9",
        "colab": {
          "base_uri": "https://localhost:8080/"
        }
      },
      "execution_count": 53,
      "outputs": [
        {
          "output_type": "stream",
          "name": "stdout",
          "text": [
            "0\n",
            "0\n",
            "4\n"
          ]
        }
      ]
    },
    {
      "cell_type": "code",
      "source": [
        ""
      ],
      "metadata": {
        "id": "Lfx7-aEfocJS"
      },
      "execution_count": null,
      "outputs": []
    },
    {
      "cell_type": "markdown",
      "source": [
        "# いまここ"
      ],
      "metadata": {
        "id": "1YF4qemSUd5Z"
      }
    }
  ]
}