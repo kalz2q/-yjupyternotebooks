{
  "nbformat": 4,
  "nbformat_minor": 0,
  "metadata": {
    "colab": {
      "name": "cpp_functional.ipynb",
      "provenance": [],
      "toc_visible": true,
      "authorship_tag": "ABX9TyNNbLtcFbCtDrWfn8MPtyJ/",
      "include_colab_link": true
    },
    "kernelspec": {
      "name": "python3",
      "display_name": "Python 3"
    },
    "language_info": {
      "name": "python"
    }
  },
  "cells": [
    {
      "cell_type": "markdown",
      "metadata": {
        "id": "view-in-github",
        "colab_type": "text"
      },
      "source": [
        "<a href=\"https://colab.research.google.com/github/kalz2q/mycolabnotebooks/blob/master/cpp_functional.ipynb\" target=\"_parent\"><img src=\"https://colab.research.google.com/assets/colab-badge.svg\" alt=\"Open In Colab\"/></a>"
      ]
    },
    {
      "cell_type": "markdown",
      "source": [
        "# メモ\n",
        "functional programming in c++ をなぞり読み\n",
        "\n",
        "https://www.manning.com/books/functional-programming-in-c-plus-plus#toc"
      ],
      "metadata": {
        "id": "ufAw6CKvGMA9"
      }
    },
    {
      "cell_type": "code",
      "source": [
        "!sudo apt install librange-v3-dev"
      ],
      "metadata": {
        "id": "nvP2yV6q93qQ"
      },
      "execution_count": null,
      "outputs": []
    },
    {
      "cell_type": "code",
      "execution_count": null,
      "metadata": {
        "id": "PUckHiKDGLO7"
      },
      "outputs": [],
      "source": [
        "# 最初の例\n",
        "# 命令型の例\n",
        "# main のないセルを実行するとエラーになる\n",
        "# コメントアウトするか %%script false としておく\n",
        "# Listing 1.1 Calculating the number of lines the imperative way\n",
        "%%script false\n",
        "vector<int> count_lines_in_files(const vector<string>& files) {\n",
        "    vector<int> results;\n",
        "    char c = 0;\n",
        "    for (const auto& file : files) {\n",
        "        int line_count = 0;\n",
        "        ifstream in(file); \n",
        "        while (in.get(c)) {\n",
        "            if (c == '\\n') {\n",
        "                line_count++;\n",
        "            }\n",
        "        }\n",
        "        results.push_back(line_count);\n",
        "    }\n",
        "    return results;\n",
        "}"
      ]
    },
    {
      "cell_type": "code",
      "source": [
        "# 動く形にして見よう\n",
        "%%writefile temp.cpp\n",
        "# include <bits/stdc++.h>\n",
        "using namespace std;\n",
        "\n",
        "vector<int> count_lines_in_files(const vector<string>& files) {\n",
        "    vector<int> results;\n",
        "    char c = 0;\n",
        "    for (const auto& file : files) {\n",
        "        int line_count = 0;\n",
        "        ifstream in(file); \n",
        "        while (in.get(c)) {\n",
        "            if (c == '\\n') {\n",
        "                line_count++;\n",
        "            }\n",
        "        }\n",
        "        results.push_back(line_count);\n",
        "    }\n",
        "    return results;\n",
        "}\n",
        "\n",
        "int main() {\n",
        "    ofstream ofs01(\"./temp01.txt\");\n",
        "    ofs01 << \"foo bar baz \\nThis is a pen\" << endl;\n",
        "    ofs01.close(); // 2行\n",
        "    ofstream ofs02(\"./temp02.txt\");\n",
        "    ofs02 << \"日本語もどうか\" << endl << endl;\n",
        "    ofs02 << \"これが最後\" << endl << \"ん\" << endl; \n",
        "    ofs02.close(); // 4行\n",
        "\n",
        "    vector<string> files = {\"temp01.txt\", \"temp02.txt\"};\n",
        "    vector<int> lines;\n",
        "    lines = count_lines_in_files(files);\n",
        "    for(int i : lines) {\n",
        "        cout << i << endl;\n",
        "    }\n",
        "}"
      ],
      "metadata": {
        "id": "KtcxQ34yHd-z",
        "colab": {
          "base_uri": "https://localhost:8080/"
        },
        "outputId": "45ea6fa9-b4fe-4fd7-c4ce-84d961812f91"
      },
      "execution_count": null,
      "outputs": [
        {
          "output_type": "stream",
          "name": "stdout",
          "text": [
            "Overwriting temp.cpp\n"
          ]
        }
      ]
    },
    {
      "cell_type": "code",
      "source": [
        "!g++ temp.cpp; ./a.out"
      ],
      "metadata": {
        "colab": {
          "base_uri": "https://localhost:8080/"
        },
        "id": "s8amJt2mR1H2",
        "outputId": "63cadb96-f1cf-4d7c-c9b3-3a037b66bd93"
      },
      "execution_count": null,
      "outputs": [
        {
          "output_type": "stream",
          "name": "stdout",
          "text": [
            "2\n",
            "4\n"
          ]
        }
      ]
    },
    {
      "cell_type": "code",
      "source": [
        "# とりあえず動いた\n",
        "# \"\\n\" を数えているのでファイル末に改行がないと正しい数字にならない\n",
        "# getline を使いたい"
      ],
      "metadata": {
        "id": "rYhV-d1WUKho"
      },
      "execution_count": null,
      "outputs": []
    },
    {
      "cell_type": "code",
      "source": [
        "# Listing 1.2 Using std::count to count newline characters\n",
        "# count version\n",
        "%%writefile temp.cpp\n",
        "# include <bits/stdc++.h>\n",
        "using namespace std;\n",
        "\n",
        "int count_lines(const string& filename) {\n",
        "  ifstream in(filename);\n",
        "  return count(istreambuf_iterator<char>(in), istreambuf_iterator<char>(), '\\n');\n",
        "}\n",
        "\n",
        "vector<int> count_lines_in_files(const vector<string>& files) {\n",
        "  vector<int> results;\n",
        "  for (const auto& file : files) {\n",
        "    results.push_back(count_lines(file));\n",
        "  }\n",
        "  return results;\n",
        "}\n",
        "\n",
        "int main() {\n",
        "  ofstream ofs01(\"./temp01.txt\");\n",
        "  ofs01 << \"foo bar baz \\nThis is a pen\" << endl;\n",
        "  ofs01.close(); // 2行\n",
        "  ofstream ofs02(\"./temp02.txt\");\n",
        "  ofs02 << \"日本語もどうか\" << endl << endl;\n",
        "  ofs02 << \"これが最後\" << endl << \"ん\" << endl; \n",
        "  ofs02.close(); // 4行\n",
        "\n",
        "  vector<string> files = { \"temp01.txt\", \"temp02.txt\" };\n",
        "  vector<int> lines;\n",
        "  lines = count_lines_in_files(files);\n",
        "  for (int i : lines) {\n",
        "    cout << i << endl;\n",
        "  }\n",
        "}"
      ],
      "metadata": {
        "colab": {
          "base_uri": "https://localhost:8080/"
        },
        "id": "l53WHwFMVHfp",
        "outputId": "391a2bc6-2a3e-4ee3-cdd2-e42d337e479f"
      },
      "execution_count": null,
      "outputs": [
        {
          "output_type": "stream",
          "name": "stdout",
          "text": [
            "Overwriting temp.cpp\n"
          ]
        }
      ]
    },
    {
      "cell_type": "code",
      "source": [
        "!g++ temp.cpp; ./a.out"
      ],
      "metadata": {
        "colab": {
          "base_uri": "https://localhost:8080/"
        },
        "id": "BzG_HcrEVHXJ",
        "outputId": "97a62549-0f75-48ca-d83b-6195102d2b3e"
      },
      "execution_count": null,
      "outputs": [
        {
          "output_type": "stream",
          "name": "stdout",
          "text": [
            "2\n",
            "4\n"
          ]
        }
      ]
    },
    {
      "cell_type": "code",
      "source": [
        "# count version は count を使っている事より、istreambuf_iterator を知らなかった\n",
        "# cpprefjp による例\n",
        "%%writefile temp.cpp\n",
        "# include <bits/stdc++.h>\n",
        "using namespace std;\n",
        "\n",
        "int main()\n",
        "{\n",
        "  stringstream ss;\n",
        "  ss << \"1 2 3\" << endl\n",
        "     << \"4 5 6\";\n",
        "\n",
        "  // 文字列の入力ストリームから順に文字を読み込むイテレータを用意\n",
        "  istreambuf_iterator<char> it(ss);\n",
        "  istreambuf_iterator<char> last;\n",
        "\n",
        "  // イテレータを進めることにより、入力ストリームからデータを順に読み取る\n",
        "  for_each(it, last, [](char c) { std::cout << c; });\n",
        "}"
      ],
      "metadata": {
        "colab": {
          "base_uri": "https://localhost:8080/"
        },
        "id": "N4Xn_ngWWN_p",
        "outputId": "2c48f25b-8f2e-4bc8-a0fc-a13fc9f83bcb"
      },
      "execution_count": null,
      "outputs": [
        {
          "output_type": "stream",
          "name": "stdout",
          "text": [
            "Overwriting temp.cpp\n"
          ]
        }
      ]
    },
    {
      "cell_type": "code",
      "source": [
        "!g++ temp.cpp; ./a.out"
      ],
      "metadata": {
        "colab": {
          "base_uri": "https://localhost:8080/"
        },
        "id": "TNhKSwWrdrLo",
        "outputId": "4bfa819f-2bed-4bfd-f742-073c62aadf64"
      },
      "execution_count": null,
      "outputs": [
        {
          "output_type": "stream",
          "name": "stdout",
          "text": [
            "1 2 3\n",
            "4 5 6"
          ]
        }
      ]
    },
    {
      "cell_type": "code",
      "source": [
        "# ちょっとよくわかりません\n",
        "# とりあえず getline version を作って、ファイル末の改行なしに対応するか実験しよう #=> 成功!!!!\n",
        "# getline version\n",
        "%%writefile temp.cpp\n",
        "# include <bits/stdc++.h>\n",
        "using namespace std;\n",
        "\n",
        "int count_lines(const string& filename) {\n",
        "  int count = 0;\n",
        "  string myText;\n",
        "  ifstream in(filename);\n",
        "  while (getline (in, myText)) {\n",
        "    count += 1;\n",
        "  }\n",
        "  return count;\n",
        "}\n",
        "\n",
        "vector<int> count_lines_in_files(const vector<string>& files) {\n",
        "  vector<int> results;\n",
        "  for (const auto& file : files) {\n",
        "    results.push_back(count_lines(file));\n",
        "  }\n",
        "  return results;\n",
        "}\n",
        "\n",
        "int main() {\n",
        "  ofstream ofs01(\"./temp01.txt\");\n",
        "  ofs01 << \"foo bar baz \\nThis is a pen\" << endl;\n",
        "  ofs01.close(); // 2行\n",
        "  ofstream ofs02(\"./temp02.txt\");\n",
        "  ofs02 << \"日本語もどうか\" << endl << endl;\n",
        "  // ofs02 << \"これが最後\" << endl << \"ん\" << endl; \n",
        "  ofs02 << \"これが最後\" << endl << \"ん\"; \n",
        "  ofs02.close(); // 4行\n",
        "\n",
        "  vector<string> files = { \"temp01.txt\", \"temp02.txt\" };\n",
        "  vector<int> lines;\n",
        "  lines = count_lines_in_files(files);\n",
        "  for (int i : lines) {\n",
        "    cout << i << endl;\n",
        "  }\n",
        "}"
      ],
      "metadata": {
        "colab": {
          "base_uri": "https://localhost:8080/"
        },
        "id": "b5adJsAteFqc",
        "outputId": "2a3aa8d0-f130-494d-ac59-ff599c6386af"
      },
      "execution_count": null,
      "outputs": [
        {
          "output_type": "stream",
          "name": "stdout",
          "text": [
            "Overwriting temp.cpp\n"
          ]
        }
      ]
    },
    {
      "cell_type": "code",
      "source": [
        "!g++ temp.cpp; ./a.out"
      ],
      "metadata": {
        "colab": {
          "base_uri": "https://localhost:8080/"
        },
        "id": "d0wPWR_Ff4N-",
        "outputId": "925ca3d3-ec52-4439-ad7b-4ffcea6b1967"
      },
      "execution_count": null,
      "outputs": [
        {
          "output_type": "stream",
          "name": "stdout",
          "text": [
            "2\n",
            "4\n"
          ]
        }
      ]
    },
    {
      "cell_type": "code",
      "source": [
        "# テキストは次に transform を使っている\n",
        "# transform は他の言語では map に当たるアルゴリズムである\n",
        "# map -> transform, reduce -> accumulate, filter -> copy_if らしい\n",
        "# transform version\n",
        "%%writefile temp.cpp\n",
        "# include <bits/stdc++.h>\n",
        "using namespace std;\n",
        "\n",
        "int count_lines(const string& filename) {\n",
        "  int count = 0;\n",
        "  string myText;\n",
        "  ifstream in(filename);\n",
        "  while (getline (in, myText)) {\n",
        "    count += 1;\n",
        "  }\n",
        "  return count;\n",
        "}\n",
        "\n",
        "vector<int> count_lines_in_files(const vector<std::string>& files) {\n",
        "    vector<int> results(files.size());\n",
        "    // transform(files.cbegin(), files.cend(), results.begin(), count_lines);    \n",
        "    transform(files.begin(), files.end(), results.begin(), count_lines); // cbegin と begin の違いは const かどうかでほとんど同じ\n",
        "    return results;\n",
        "}\n",
        "\n",
        "int main() {\n",
        "  ofstream ofs01(\"./temp01.txt\");\n",
        "  ofs01 << \"foo bar baz \\nThis is a pen\" << endl;\n",
        "  ofs01.close(); // 2行\n",
        "  ofstream ofs02(\"./temp02.txt\");\n",
        "  ofs02 << \"日本語もどうか\" << endl << endl;\n",
        "  // ofs02 << \"これが最後\" << endl << \"ん\" << endl; \n",
        "  ofs02 << \"これが最後\" << endl << \"ん\"; \n",
        "  ofs02.close(); // 4行\n",
        "\n",
        "  vector<string> files = { \"temp01.txt\", \"temp02.txt\" };\n",
        "  vector<int> lines;\n",
        "  lines = count_lines_in_files(files);\n",
        "  for (int i : lines) {\n",
        "    cout << i << endl;\n",
        "  }\n",
        "}"
      ],
      "metadata": {
        "colab": {
          "base_uri": "https://localhost:8080/"
        },
        "id": "R93pHbeWgX0a",
        "outputId": "f836604e-73f4-4aef-b698-9f29d8dfe953"
      },
      "execution_count": null,
      "outputs": [
        {
          "output_type": "stream",
          "name": "stdout",
          "text": [
            "Overwriting temp.cpp\n"
          ]
        }
      ]
    },
    {
      "cell_type": "code",
      "source": [
        "!g++ temp.cpp; ./a.out"
      ],
      "metadata": {
        "colab": {
          "base_uri": "https://localhost:8080/"
        },
        "id": "232g3n4tgXws",
        "outputId": "4de0aae5-7032-4849-bb7a-6b9d8d200cfe"
      },
      "execution_count": null,
      "outputs": [
        {
          "output_type": "stream",
          "name": "stdout",
          "text": [
            "2\n",
            "4\n"
          ]
        }
      ]
    },
    {
      "cell_type": "code",
      "source": [
        "# ranges version\n",
        "# ranges は chapter 7 で説明するとのこと\n",
        "# だがエラーなのでとりあえず %%script false にして先へ進むか\n",
        "# 実験\n",
        "# !sudo apt install librange-v3-dev\n",
        "# include <range/v3/view/transform.hpp>\n",
        "# ::ranges::view::transform\n",
        "# としたら動いた\n",
        "%%writefile temp.cpp\n",
        "# include <bits/stdc++.h>\n",
        "# include <range/v3/view/transform.hpp>\n",
        "\n",
        "using namespace std;\n",
        "\n",
        "int count_lines(const string& filename) {\n",
        "  int count = 0;\n",
        "  string myText;\n",
        "  ifstream in(filename);\n",
        "  while (getline (in, myText)) {\n",
        "    count += 1;\n",
        "  }\n",
        "  return count;\n",
        "}\n",
        "\n",
        "vector<int> count_lines_in_files(const vector<string>& files) {\n",
        "    return files | ::ranges::view::transform(count_lines);\n",
        "}\n",
        "\n",
        "int main() {\n",
        "  ofstream ofs01(\"./temp01.txt\");\n",
        "  ofs01 << \"foo bar baz \\nThis is a pen\" << endl;\n",
        "  ofs01.close(); // 2行\n",
        "  ofstream ofs02(\"./temp02.txt\");\n",
        "  ofs02 << \"日本語もどうか\" << endl << endl;\n",
        "  // ofs02 << \"これが最後\" << endl << \"ん\" << endl; \n",
        "  ofs02 << \"これが最後\" << endl << \"ん\"; \n",
        "  ofs02.close(); // 4行\n",
        "\n",
        "  vector<string> files = { \"temp01.txt\", \"temp02.txt\" };\n",
        "  vector<int> lines;\n",
        "  lines = count_lines_in_files(files);\n",
        "  for (int i : lines) {\n",
        "    cout << i << endl;\n",
        "  }\n",
        "}"
      ],
      "metadata": {
        "colab": {
          "base_uri": "https://localhost:8080/"
        },
        "id": "mWkSG6IGp8AF",
        "outputId": "fee30e7f-cc97-40b3-d210-7471793355a5"
      },
      "execution_count": null,
      "outputs": [
        {
          "output_type": "stream",
          "name": "stdout",
          "text": [
            "Writing temp.cpp\n"
          ]
        }
      ]
    },
    {
      "cell_type": "code",
      "source": [
        "!sudo apt install librange-v3-dev"
      ],
      "metadata": {
        "id": "jbube4_RZAP1"
      },
      "execution_count": null,
      "outputs": []
    },
    {
      "cell_type": "code",
      "source": [
        "!g++ temp.cpp; ./a.out"
      ],
      "metadata": {
        "id": "BsccdaNwAdym",
        "outputId": "c962bb35-2bd7-4e4d-c930-f0ba601bbad4",
        "colab": {
          "base_uri": "https://localhost:8080/"
        }
      },
      "execution_count": null,
      "outputs": [
        {
          "output_type": "stream",
          "name": "stdout",
          "text": [
            "2\n",
            "4\n"
          ]
        }
      ]
    },
    {
      "cell_type": "code",
      "source": [
        "# 最終形は次のようになる、とのこと\n",
        "# transform を 2回に分けている\n",
        "%%script false\n",
        "vector<int>\n",
        "count_lines_in_files(const vector<string>& files) {\n",
        "    return files | transform(open_file) | transform(count_lines);\n",
        "}"
      ],
      "metadata": {
        "id": "2CxqMq26qjPr"
      },
      "execution_count": null,
      "outputs": []
    },
    {
      "cell_type": "code",
      "source": [
        "# Listing 2.1 Calculating the average score imperatively\n",
        "# 平均を算出する 命令形\n",
        "%%writefile temp.cpp\n",
        "# include <bits/stdc++.h>\n",
        "using namespace std;\n",
        "\n",
        "double average_score(const vector<int>& scores) {\n",
        "    int sum = 0;    \n",
        "    for (int score : scores) {    \n",
        "        sum += score;    \n",
        "    }    \n",
        "    return sum / (double)scores.size();    \n",
        "}\n",
        "\n",
        "int main() {\n",
        "    vector<int> vec = {9, 7, 10, 5, 8, 8, 6};\n",
        "    double average;\n",
        "    average = average_score(vec);\n",
        "    cout << average << endl;\n",
        "}"
      ],
      "metadata": {
        "id": "XxDWsdbr6XJP",
        "outputId": "64d1f719-91a6-48b0-9670-e314cf4c1901",
        "colab": {
          "base_uri": "https://localhost:8080/"
        }
      },
      "execution_count": null,
      "outputs": [
        {
          "output_type": "stream",
          "name": "stdout",
          "text": [
            "Overwriting temp.cpp\n"
          ]
        }
      ]
    },
    {
      "cell_type": "code",
      "source": [
        "!g++ temp.cpp; ./a.out"
      ],
      "metadata": {
        "id": "xHUXmNfQ6XAP",
        "outputId": "7f61375d-a041-4e13-b697-51a68709de1e",
        "colab": {
          "base_uri": "https://localhost:8080/"
        }
      },
      "execution_count": null,
      "outputs": [
        {
          "output_type": "stream",
          "name": "stdout",
          "text": [
            "7.57143\n"
          ]
        }
      ]
    },
    {
      "cell_type": "code",
      "source": [
        "# Listing 2.2 Calculating the average score functionally\n",
        "# 関数型\n",
        "%%writefile temp.cpp\n",
        "# include <bits/stdc++.h>\n",
        "using namespace std;\n",
        "\n",
        "double average_score(const vector<int>& scores) {\n",
        "    return accumulate(scores.cbegin(), scores.cend(),0) / (double)scores.size();    \n",
        "}\n",
        "\n",
        "int main() {\n",
        "    vector<int> vec = {9, 7, 10, 5, 8, 8, 6};\n",
        "    double average;\n",
        "    average = average_score(vec);\n",
        "    cout << average << endl;\n",
        "}"
      ],
      "metadata": {
        "id": "enjgnpyx7wcF",
        "outputId": "eb837d9b-05a1-4c76-a81b-e6110fc93d0b",
        "colab": {
          "base_uri": "https://localhost:8080/"
        }
      },
      "execution_count": null,
      "outputs": [
        {
          "output_type": "stream",
          "name": "stdout",
          "text": [
            "Overwriting temp.cpp\n"
          ]
        }
      ]
    },
    {
      "cell_type": "code",
      "source": [
        "!g++ temp.cpp; ./a.out"
      ],
      "metadata": {
        "id": "WUijeryT7wX-",
        "outputId": "9e594fd4-b20b-487f-cb91-d93bce788381",
        "colab": {
          "base_uri": "https://localhost:8080/"
        }
      },
      "execution_count": null,
      "outputs": [
        {
          "output_type": "stream",
          "name": "stdout",
          "text": [
            "7.57143\n"
          ]
        }
      ]
    },
    {
      "cell_type": "code",
      "source": [
        "# PARALLEL VERSIONS OF STANDARD ALGORITHMS\n",
        "#  -std=c++17 にしても reduce , execution が使えないので %%script false\n",
        "# 並行処理は一旦諦める\n",
        "%%script false\n",
        "%%writefile temp.cpp\n",
        "# include <bits/stdc++.h>\n",
        "\n",
        "using namespace std;\n",
        "\n",
        "double average_score(const vector<int>& scores) {\n",
        "    return reduce(execution::par, scores.cbegin(), scores.cend(),0) / (double) scores.length();\n",
        "}\n",
        "\n",
        "int main() {\n",
        "    vector<int> vec = {9, 7, 10, 5, 8, 8, 6};\n",
        "    double average;\n",
        "    average = average_score(vec);\n",
        "    cout << average << endl;\n",
        "}"
      ],
      "metadata": {
        "id": "Rg4paNk08MuC",
        "outputId": "bc53a77b-c93a-43c2-94cf-b4fcfce3c567",
        "colab": {
          "base_uri": "https://localhost:8080/"
        }
      },
      "execution_count": null,
      "outputs": [
        {
          "output_type": "stream",
          "name": "stdout",
          "text": [
            "Overwriting temp.cpp\n"
          ]
        }
      ]
    },
    {
      "cell_type": "code",
      "source": [
        "!g++ -std=c++17 temp.cpp"
      ],
      "metadata": {
        "id": "BlCsP7A7a-q6"
      },
      "execution_count": null,
      "outputs": []
    },
    {
      "cell_type": "code",
      "source": [
        "# c++17 の any は -std=c++17 して include  すれば使える\n",
        "# reduce や execution は同じようにしてもエラーになる\n",
        "%%writefile temp.cpp\n",
        "# include <bits/stdc++.h>\n",
        "# include <any>\n",
        "using namespace std;\n",
        "\n",
        "int main(){\n",
        "    auto s = any(123);\n",
        "    cout << any_cast<int>(s) << endl; // \"123\"が標準出力\n",
        "}"
      ],
      "metadata": {
        "id": "LczxuXpPtq8G",
        "outputId": "c653354c-095d-473e-dcc3-4a7a7832a6a4",
        "colab": {
          "base_uri": "https://localhost:8080/"
        }
      },
      "execution_count": null,
      "outputs": [
        {
          "output_type": "stream",
          "name": "stdout",
          "text": [
            "Overwriting temp.cpp\n"
          ]
        }
      ]
    },
    {
      "cell_type": "code",
      "source": [
        "!g++ -std=c++17 temp.cpp; ./a.out"
      ],
      "metadata": {
        "id": "JA3_zUWuBHkH",
        "outputId": "cd85c721-9cff-4d63-a1ed-b9cc94e1eafa",
        "colab": {
          "base_uri": "https://localhost:8080/"
        }
      },
      "execution_count": null,
      "outputs": [
        {
          "output_type": "stream",
          "name": "stdout",
          "text": [
            "123\n"
          ]
        }
      ]
    },
    {
      "cell_type": "code",
      "source": [
        "# Listing 2.3 Calculating the product of all scores\n",
        "# accumulate の使い方 関数が渡せる fold や reduce みたい\n",
        "# この例では multiplies<int>() というのを渡している\n",
        "%%writefile temp.cpp\n",
        "# include <bits/stdc++.h>\n",
        "using namespace std;\n",
        "\n",
        "double scores_product(const vector<int>& scores) {\n",
        "  return accumulate(scores.cbegin(), scores.cend(), 1, multiplies<int>());\n",
        "}\n",
        "\n",
        "int main() {\n",
        "  vector<int> vec = { 2,3,4 };\n",
        "  cout << scores_product(vec) << endl;  //=> 24\n",
        "}"
      ],
      "metadata": {
        "id": "Vj39uofIEaL3",
        "outputId": "174e1521-5ae4-4809-c79d-77459b34a7ac",
        "colab": {
          "base_uri": "https://localhost:8080/"
        }
      },
      "execution_count": null,
      "outputs": [
        {
          "output_type": "stream",
          "name": "stdout",
          "text": [
            "Overwriting temp.cpp\n"
          ]
        }
      ]
    },
    {
      "cell_type": "code",
      "source": [
        "!g++  temp.cpp; ./a.out"
      ],
      "metadata": {
        "id": "gLHMrbNnmRIb",
        "outputId": "3bbd70d4-70bd-4862-a571-194f6202f9f6",
        "colab": {
          "base_uri": "https://localhost:8080/"
        }
      },
      "execution_count": null,
      "outputs": [
        {
          "output_type": "stream",
          "name": "stdout",
          "text": [
            "24\n"
          ]
        }
      ]
    },
    {
      "cell_type": "code",
      "source": [
        "# folding\n",
        "# Counting newline characters with accumulate\n",
        "%%writefile temp.cpp\n",
        "# include <bits/stdc++.h>\n",
        "using namespace std;\n",
        "\n",
        "int f(int previous_count, char c) {\n",
        "  return (c != '\\n') ? previous_count : previous_count + 1;\n",
        "}\n",
        "\n",
        "int count_lines(const string& s) {\n",
        "  return accumulate(s.cbegin(), s.cend(), 0, f);\n",
        "}\n",
        "\n",
        "int count_lines1(const string& filename) {\n",
        "  ifstream in(filename);\n",
        "  stringstream myStream;\n",
        "  myStream << in.rdbuf();\n",
        "  return count_lines(myStream.str());\n",
        "}\n",
        "\n",
        "vector<int> count_lines_in_files(const vector<string>& files) {\n",
        "  vector<int> results(files.size());\n",
        "  transform(files.begin(), files.end(), results.begin(), count_lines1);\n",
        "  return results;\n",
        "}\n",
        "\n",
        "int main() {\n",
        "  ofstream ofs01(\"./temp01.txt\");\n",
        "  ofs01 << \"foo bar baz \\nThis is a pen\" << endl;\n",
        "  ofs01.close(); // 2行\n",
        "  ofstream ofs02(\"./temp02.txt\");\n",
        "  ofs02 << \"日本語もどうか\" << endl << endl;\n",
        "  // ofs02 << \"これが最後\" << endl << \"ん\" << endl; \n",
        "  ofs02 << \"これが最後\" << endl << \"ん\"; \n",
        "  ofs02.close(); // 4行\n",
        "\n",
        "  vector<string> files = { \"temp01.txt\", \"temp02.txt\" };\n",
        "  vector<int> lines;\n",
        "  lines = count_lines_in_files(files);\n",
        "  for (int i : lines) {\n",
        "    cout << i << endl;\n",
        "  }\n",
        "}"
      ],
      "metadata": {
        "id": "gVgO1ystoLFM",
        "colab": {
          "base_uri": "https://localhost:8080/"
        },
        "outputId": "e09956dc-9b3d-47b2-cf0b-d825bc9b5fdc"
      },
      "execution_count": 66,
      "outputs": [
        {
          "output_type": "stream",
          "name": "stdout",
          "text": [
            "Overwriting temp.cpp\n"
          ]
        }
      ]
    },
    {
      "cell_type": "code",
      "source": [
        "!g++  temp.cpp; ./a.out"
      ],
      "metadata": {
        "id": "M1WTEhriocQ7",
        "outputId": "39d46c29-33a1-4e70-be0b-a312e2b815cb",
        "colab": {
          "base_uri": "https://localhost:8080/"
        }
      },
      "execution_count": 67,
      "outputs": [
        {
          "output_type": "stream",
          "name": "stdout",
          "text": [
            "2\n",
            "3\n"
          ]
        }
      ]
    },
    {
      "cell_type": "code",
      "source": [
        "# 2.2.3 String trimming\n",
        "%%script false\n",
        "string trim_left(string s) {\n",
        "    s.erase(s.begin(), find_if(s.begin(), s.end(), is_not_space));\n",
        "    return s;\n",
        "}"
      ],
      "metadata": {
        "id": "lSfS5_FGJ3-a"
      },
      "execution_count": 68,
      "outputs": []
    },
    {
      "cell_type": "code",
      "source": [
        "%%script false\n",
        "string trim_right(string s) {\n",
        "    s.erase(find_if(s.rbegin(), s.rend(), is_not_space).base(), s.end());\n",
        "    return s;\n",
        "}"
      ],
      "metadata": {
        "id": "GDqvTpvwKOTm"
      },
      "execution_count": null,
      "outputs": []
    },
    {
      "cell_type": "code",
      "source": [
        "%%script false\n",
        "string trim(string s) {\n",
        "    return trim_left(trim_right(move(s)));\n",
        "}"
      ],
      "metadata": {
        "id": "OKUvknutKeCV"
      },
      "execution_count": null,
      "outputs": []
    },
    {
      "cell_type": "code",
      "source": [
        "# 動くプログラムになるか\n",
        "# folding\n",
        "# Counting newline characters with accumulate\n",
        "%%writefile temp.cpp\n",
        "# include <bits/stdc++.h>\n",
        "using namespace std;\n",
        "\n",
        "bool is_not_space(char c) {\n",
        "    return (c != ' ');\n",
        "} \n",
        "\n",
        "string trim_left(string s) {\n",
        "    s.erase(s.begin(), find_if(s.begin(), s.end(), is_not_space));\n",
        "    return s;\n",
        "}\n",
        "\n",
        "string trim_right(string s) {\n",
        "    s.erase(find_if(s.rbegin(), s.rend(), is_not_space).base(), s.end());\n",
        "    return s;\n",
        "}\n",
        "\n",
        "string trim(string s) {\n",
        "    return trim_left(trim_right(move(s)));\n",
        "}\n",
        "\n",
        "int main() {\n",
        "    string str = \"  this is a pen  \";\n",
        "    cout << \"(begin)\" << str << \"(end)\" << endl;\n",
        "    cout << \"(begin)\" << trim(str) << \"(end)\" << endl;\n",
        "}"
      ],
      "metadata": {
        "colab": {
          "base_uri": "https://localhost:8080/"
        },
        "id": "lOv_1oxWKrpp",
        "outputId": "09c18e82-a5ce-47d4-e07c-a22d7e63218b"
      },
      "execution_count": 81,
      "outputs": [
        {
          "output_type": "stream",
          "name": "stdout",
          "text": [
            "Overwriting temp.cpp\n"
          ]
        }
      ]
    },
    {
      "cell_type": "code",
      "source": [
        "!g++  temp.cpp; ./a.out"
      ],
      "metadata": {
        "id": "Lfx7-aEfocJS",
        "colab": {
          "base_uri": "https://localhost:8080/"
        },
        "outputId": "a9cb6d6a-2698-43e3-e594-0224ab43c7b1"
      },
      "execution_count": 82,
      "outputs": [
        {
          "output_type": "stream",
          "name": "stdout",
          "text": [
            "(begin)  this is a pen  (end)\n",
            "(begin)this is a pen(end)\n"
          ]
        }
      ]
    },
    {
      "cell_type": "code",
      "source": [
        "# 2.2.4 Partitioning collections based on a predicate\n",
        "# Listing 2.5 Females first\n",
        "\n",
        "# partition(people.begin(), people.end(),is_female);\n",
        "\n",
        "# Listing 2.6 Moving selected items to a specific point\n",
        "\n",
        "# stable_partition(first, destination, is_not_selected);\n",
        "# stable_partition(destination, last,  is_selected);"
      ],
      "metadata": {
        "id": "8YfBELkHS1nb"
      },
      "execution_count": null,
      "outputs": []
    },
    {
      "cell_type": "code",
      "source": [
        "# 2.2.5 Filtering and transforming\n",
        "# bool is_female(const person_t& person);\n",
        "# bool is_not_female(const person_t& person);\n",
        "# string name(const person_t& person);"
      ],
      "metadata": {
        "id": "WwGgTBCqTyZd"
      },
      "execution_count": null,
      "outputs": []
    },
    {
      "cell_type": "code",
      "source": [
        "# Listing 2.7 Filtering items by removing undesired ones\n",
        "# people.erase(remove_if(people.begin(), people.end(),is_not_female),people.end());"
      ],
      "metadata": {
        "id": "2hixhAmfUCTI"
      },
      "execution_count": null,
      "outputs": []
    },
    {
      "cell_type": "code",
      "source": [
        "# Listing 2.9 Getting the names\n",
        "# vector<string> names(females.size());  \n",
        "# transform(females.cbegin(), females.cend(),names.begin(),name);"
      ],
      "metadata": {
        "id": "PvtfJxTNULQB"
      },
      "execution_count": null,
      "outputs": []
    },
    {
      "cell_type": "code",
      "source": [
        "# 2.3 Composability problems of STL algorithms\n",
        "# vector<string> names;\n",
        "# for (const auto& person : people) {\n",
        "#     if (is_female(person)) {\n",
        "#         names.push_back(name(person));\n",
        "#     }\n",
        "# }"
      ],
      "metadata": {
        "id": "S-D_YolReBIl"
      },
      "execution_count": null,
      "outputs": []
    },
    {
      "cell_type": "code",
      "source": [
        "# filter    : (collection<T>, (T → bool)) → collection<T>\n",
        "# transform : (collection<T>, (T → T2)) → collection<T2>\n",
        "\n",
        "# transform(filter(people, is_female), name)"
      ],
      "metadata": {
        "id": "WDwu_eoUeckQ"
      },
      "execution_count": null,
      "outputs": []
    },
    {
      "cell_type": "code",
      "source": [
        "# OutputIt copy_if(InputIt first, InputIt last,\n",
        "#                  OutputIt destination_begin,\n",
        "#                  UnaryPredicate pred);\n",
        "# \n",
        "# OutputIt transform(InputIt first, InputIt last,\n",
        "#                    OutputIt destination_begin,\n",
        "#                    UnaryOperation transformation);"
      ],
      "metadata": {
        "id": "LxzggKAdeo06"
      },
      "execution_count": null,
      "outputs": []
    },
    {
      "cell_type": "code",
      "source": [
        "# Listing 2.10 Females first\n",
        "# vector<person_t> separated(people.size());\n",
        "# \n",
        "# const auto last = copy_if(    \n",
        "#         people.cbegin(), people.cend(),\n",
        "#         separated.begin(),\n",
        "#         is_female);\n",
        "# \n",
        "# copy_if(\n",
        "#         people.cbegin(), people.cend(),\n",
        "#         last,    \n",
        "#         is_not_female);"
      ],
      "metadata": {
        "id": "JzlwVLgDfX_q"
      },
      "execution_count": null,
      "outputs": []
    },
    {
      "cell_type": "code",
      "source": [
        "# 2.4 Writing your own higher-order functions\n",
        "# 2.4.1 Receiving functions as arguments\n",
        "# template <typename FilterFunction>\n",
        "# vector<string> names_for(\n",
        "#         const vector<person_t>& people,\n",
        "#         FilterFunction filter)"
      ],
      "metadata": {
        "id": "iyrTnEoyfhtr"
      },
      "execution_count": null,
      "outputs": []
    },
    {
      "cell_type": "code",
      "source": [
        "# 2.4.2 Implementing with loops\n",
        "# Listing 2.11 Implementing the function by using a handwritten loop\n",
        "# template <typename FilterFunction>\n",
        "# vector<string> names_for(\n",
        "#         const vector<person_t>& people,\n",
        "#         FilterFunction filter)\n",
        "# {\n",
        "#     vector<string> result;\n",
        "\n",
        "#     for (const person_t& person : people) {\n",
        "#         if (filter(person)) {\n",
        "#             result.push_back(name(person));\n",
        "#         }\n",
        "#     }\n",
        "\n",
        "#     return result;\n",
        "# }"
      ],
      "metadata": {
        "id": "VRl10JGBf2tO"
      },
      "execution_count": null,
      "outputs": []
    },
    {
      "cell_type": "code",
      "source": [
        "# 2.4.3 Recursion and tail-call optimization\n",
        "# Listing 2.12 Naive recursive implementation\n",
        "# template <typename FilterFunction>\n",
        "# vector<string> names_for(\n",
        "#         const vector<person_t>& people,\n",
        "#         FilterFunction filter)\n",
        "# {\n",
        "#     if (people.empty()) {\n",
        "#         return {};    \n",
        "\n",
        "#     } else {\n",
        "#         const auto head = people.front();\n",
        "#         const auto processed_tail = names_for(    \n",
        "#                 tail(people),\n",
        "#                 filter);\n",
        "\n",
        "#         if (filter(head)) {    \n",
        "#             return prepend(name(head), processed_tail);    \n",
        "#         } else {    \n",
        "#             return processed_tail;    \n",
        "#         }\n",
        "#     }\n",
        "# }"
      ],
      "metadata": {
        "id": "-K5lGbYXgK5q"
      },
      "execution_count": null,
      "outputs": []
    },
    {
      "cell_type": "code",
      "source": [
        "# Listing 2.13 Recursive implementation\n",
        "# template <typename FilterFunction, typename Iterator>\n",
        "# vector<string> names_for(\n",
        "#         Iterator people_begin,\n",
        "#         Iterator people_end,\n",
        "#         FilterFunction filter)\n",
        "# {\n",
        "#         …\n",
        "#         const auto processed_tail = names_for(\n",
        "#                 people_begin + 1,\n",
        "#                 people_end,\n",
        "#                 filter);\n",
        "#         …\n",
        "# }"
      ],
      "metadata": {
        "id": "LX3z7GJCgMef"
      },
      "execution_count": null,
      "outputs": []
    },
    {
      "cell_type": "code",
      "source": [
        "# Listing 2.14 Tail-recursive implementation\n",
        "# template <typename FilterFunction, typename Iterator>\n",
        "# vector<string> names_for_helper(\n",
        "#         Iterator people_begin,\n",
        "#         Iterator people_end,\n",
        "#         FilterFunction filter,\n",
        "#         vector<string> previously_collected)\n",
        "# {\n",
        "#     if (people_begin == people_end) {\n",
        "#         return previously_collected;\n",
        "\n",
        "#     } else {\n",
        "#         const auto head = *people_begin;\n",
        "\n",
        "#         if (filter(head)) {\n",
        "#             previously_collected.push_back(name(head));\n",
        "#         }\n",
        "\n",
        "#         return names_for_helper(\n",
        "#                 people_begin + 1,\n",
        "#                 people_end,\n",
        "#                 filter,\n",
        "#                 move(previously_collected));\n",
        "#     }\n",
        "# }"
      ],
      "metadata": {
        "id": "lM0KvTQkgsdt"
      },
      "execution_count": null,
      "outputs": []
    },
    {
      "cell_type": "code",
      "source": [
        "# Listing 2.15 Calling the helper function\n",
        "# template <typename FilterFunction, typename Iterator>\n",
        "# vector<string> names_for(\n",
        "#         Iterator people_begin,\n",
        "#         Iterator people_end,\n",
        "#         FilterFunction filter)\n",
        "# {\n",
        "#     return names_for_helper(people_begin,\n",
        "#                             people_end,\n",
        "#                             filter,\n",
        "#                             {});\n",
        "# }"
      ],
      "metadata": {
        "id": "eciMjFnWgzy4"
      },
      "execution_count": null,
      "outputs": []
    },
    {
      "cell_type": "code",
      "source": [
        "# 2.4.4 Implementing using folds\n",
        "# Listing 2.16 Implementation using folding\n",
        "# vector<string> append_name_if(\n",
        "#         vector<string> previously_collected,\n",
        "#         const person_t& person)\n",
        "# {\n",
        "#     if (filter(person)) {\n",
        "#         previously_collected.push_back(name(person));\n",
        "#     }\n",
        "#     return previously_collected;\n",
        "# }\n",
        "\n",
        "# …\n",
        "\n",
        "# return accumulate(\n",
        "#         people.cbegin(),\n",
        "#         people.cend(),\n",
        "#         vector<string>{},\n",
        "#         append_name_if);"
      ],
      "metadata": {
        "id": "82oMbvreg6x4"
      },
      "execution_count": null,
      "outputs": []
    },
    {
      "cell_type": "code",
      "source": [
        "# 3 Function objects\n",
        "# 3.1 Functions and function objects\n",
        "# int max(int arg1, int arg2) { … }\n",
        "# auto max(int arg1, int arg2) -> int { … }"
      ],
      "metadata": {
        "id": "PQyd73FIhRUj"
      },
      "execution_count": null,
      "outputs": []
    },
    {
      "cell_type": "code",
      "source": [
        "# 3.1.1 Automatic return type deduction\n",
        "# int answer = 42;\n",
        "# auto ask1() { return answer; }    \n",
        "# const auto& ask2() { return answer; }"
      ],
      "metadata": {
        "id": "w6shp_7Nh1DJ"
      },
      "execution_count": null,
      "outputs": []
    },
    {
      "cell_type": "code",
      "source": [
        "# auto ask(bool flag) {\n",
        "#     if (flag) return 42;\n",
        "#     else      return string(\"42\");    \n",
        "# }"
      ],
      "metadata": {
        "id": "n3xRC7Ydh-j6"
      },
      "execution_count": null,
      "outputs": []
    },
    {
      "cell_type": "code",
      "source": [
        "# auto factorial(int n)\n",
        "# {\n",
        "#     if (n == 0) {\n",
        "#         return 1;    \n",
        "#     } else {\n",
        "#         return factorial(n - 1) * n;    \n",
        "#     }\n",
        "# }"
      ],
      "metadata": {
        "id": "fRq9mJnxiMBL"
      },
      "execution_count": null,
      "outputs": []
    },
    {
      "cell_type": "code",
      "source": [
        "# decltype(auto) ask() { return answer; }    \n",
        "# decltype(auto) ask() { return (answer); }    \n",
        "# decltype(auto) ask() { return 42 + answer; }"
      ],
      "metadata": {
        "id": "mbmZffe7iS2d"
      },
      "execution_count": null,
      "outputs": []
    },
    {
      "cell_type": "code",
      "source": [
        "# template <typename Object, typename Function>\n",
        "# decltype(auto) call_on_object(Object&& object, Function function)\n",
        "# {\n",
        "#     return function(forward<Object>(object));\n",
        "# }"
      ],
      "metadata": {
        "id": "LrNNq1pBiZDV"
      },
      "execution_count": null,
      "outputs": []
    },
    {
      "cell_type": "code",
      "source": [
        "# Perfect forwarding for arguments\n",
        "# template <typename Object, typename Function>\n",
        "# decltype(auto) call_on_object(Object object,\n",
        "#                               Function function)\n",
        "# {\n",
        "#     return function(object);\n",
        "# }"
      ],
      "metadata": {
        "id": "hCjkGcWoig5-"
      },
      "execution_count": null,
      "outputs": []
    },
    {
      "cell_type": "code",
      "source": [
        "# template <typename T>\n",
        "# void f(T&& fwd, int&& value) { … }"
      ],
      "metadata": {
        "id": "QkJDCQNRidlw"
      },
      "execution_count": null,
      "outputs": []
    },
    {
      "cell_type": "code",
      "source": [
        "# 3.1.2 Function pointers\n",
        "# int ask() { return 42; }\n",
        "\n",
        "# typedef decltype(ask)* function_ptr;\n",
        "\n",
        "# class convertible_to_function_ptr {\n",
        "# public:\n",
        "#     operator function_ptr() const    \n",
        "#     {    \n",
        "#         return ask;    \n",
        "#     }    \n",
        "# };\n",
        "\n",
        "# int main(int argc, char* argv[])\n",
        "# {\n",
        "#     auto ask_ptr = &ask;    \n",
        "#     :cout << ask_ptr() << '\\n';    \n",
        "\n",
        "#     auto& ask_ref = ask;    \n",
        "#     :cout << ask_ref() << '\\n';    \n",
        "\n",
        "#     convertible_to_function_ptr ask_wrapper;    \n",
        "#     :cout << ask_wrapper() << '\\n';    \n",
        "# }"
      ],
      "metadata": {
        "id": "VAb-FNDSivk8"
      },
      "execution_count": null,
      "outputs": []
    },
    {
      "cell_type": "code",
      "source": [
        "# 3.1.3 Call operator overloading\n",
        "# class function_object {\n",
        "# public:\n",
        "#     return_type operator()(arguments) const\n",
        "#     {\n",
        "#         …\n",
        "#     }\n",
        "# };"
      ],
      "metadata": {
        "id": "S_p7JT3Bi3Nd"
      },
      "execution_count": null,
      "outputs": []
    },
    {
      "cell_type": "code",
      "source": [
        "# bool older_than_42(const person_t& person) {\n",
        "#     return person.age > 42;\n",
        "# }\n",
        "# count_if(persons.cbegin(), persons.cend(),\n",
        "#               older_than_42);"
      ],
      "metadata": {
        "id": "FSxR0vPKi_2b"
      },
      "execution_count": null,
      "outputs": []
    },
    {
      "cell_type": "code",
      "source": [
        "# class older_than {\n",
        "# public:\n",
        "#     older_than(int limit)\n",
        "#         : m_limit(limit)\n",
        "#     {\n",
        "#     }\n",
        "\n",
        "#     bool operator()(const person_t& person) const\n",
        "#     {\n",
        "#         return person.age() > m_limit;\n",
        "#     }\n",
        "\n",
        "# private:\n",
        "#     int m_limit;\n",
        "# };"
      ],
      "metadata": {
        "id": "W7dpnyr5jFUe"
      },
      "execution_count": null,
      "outputs": []
    },
    {
      "cell_type": "code",
      "source": [
        "# older_than older_than_42(42);\n",
        "# older_than older_than_14(14);\n",
        "\n",
        "# if (older_than_42(person)) {\n",
        "#     std::cout << person.name() << \" is more than 42 years old\\n\";\n",
        "# } else if (older_than_14(person)) {\n",
        "#     std::cout << person.name() << \" is more than 14 years old\\n\";\n",
        "# } else {\n",
        "#     std::cout << person.name() << \" is 14 years old, or younger\\n\";\n",
        "# }"
      ],
      "metadata": {
        "id": "JAtyxf1PjXdk"
      },
      "execution_count": null,
      "outputs": []
    },
    {
      "cell_type": "code",
      "source": [
        "# count_if(persons.cbegin(), persons.cend(),\n",
        "#               older_than(42));\n",
        "# count_if(persons.cbegin(), persons.cend(),\n",
        "#               older_than(16));"
      ],
      "metadata": {
        "id": "BiOv-zyqjkgj"
      },
      "execution_count": null,
      "outputs": []
    },
    {
      "cell_type": "code",
      "source": [
        "# 3.1.4 Creating generic function objects\n",
        "# template <typename T>\n",
        "# class older_than {\n",
        "# public:\n",
        "#     older_than(int limit)\n",
        "#         : m_limit(limit)\n",
        "#     {\n",
        "#     }\n",
        "\n",
        "#     bool operator()(const T& object) const\n",
        "#     {\n",
        "#         return object.age()> m_limit;\n",
        "#     }\n",
        "\n",
        "# private:\n",
        "#     int m_limit;\n",
        "# };"
      ],
      "metadata": {
        "id": "5t26JTk2joRn"
      },
      "execution_count": null,
      "outputs": []
    },
    {
      "cell_type": "code",
      "source": [
        "# count_if(persons.cbegin(), persons.cend(),\n",
        "#               older_than<person_t>(42));\n",
        "# count_if(cars.cbegin(), cars.cend(),\n",
        "#               older_than<car_t>(5));\n",
        "# count_if(projects.cbegin(), projects.cend(),\n",
        "#               older_than<project_t>(2));"
      ],
      "metadata": {
        "id": "y9Xt4VV6jygz"
      },
      "execution_count": null,
      "outputs": []
    },
    {
      "cell_type": "code",
      "source": [
        "# Listing 3.1 Creating a function object with a generic call operator\n",
        "# class older_than {\n",
        "# public:\n",
        "#     older_than(int limit)\n",
        "#         : m_limit(limit)\n",
        "#     {\n",
        "#     }\n",
        "\n",
        "#     template <typename T>\n",
        "#     bool operator()(T&& object) const\n",
        "#     {\n",
        "#         return std::forward<T>(object).age()> m_limit;    \n",
        "#     }\n",
        "\n",
        "# private:\n",
        "#     int m_limit;\n",
        "# };"
      ],
      "metadata": {
        "id": "RzrUb6SBj-ak"
      },
      "execution_count": null,
      "outputs": []
    },
    {
      "cell_type": "code",
      "source": [
        "# Listing 3.2 Using a function object with a generic call operator\n",
        "# older_than predicate(5);\n",
        "\n",
        "# count_if(persons.cbegin(), persons.cend(), predicate);\n",
        "# count_if(cars.cbegin(), cars.cend(), predicate);\n",
        "# count_if(projects.cbegin(), projects.cend(), predicate);\n",
        "# copy"
      ],
      "metadata": {
        "id": "hoObus4mkHWm"
      },
      "execution_count": null,
      "outputs": []
    },
    {
      "cell_type": "code",
      "source": [
        "# 3.2 Lambdas and closures\n",
        "# std::copy_if(people.cbegin(), people.cend(),\n",
        "#              std::back_inserter(females),\n",
        "#              [](const person_t& person) {\n",
        "#                  return person.gender() == person_t::female;\n",
        "#              }\n",
        "#         );"
      ],
      "metadata": {
        "id": "JM5mHmmVkKqp"
      },
      "execution_count": null,
      "outputs": []
    },
    {
      "cell_type": "code",
      "source": [
        "# 3.2.2 Under the hood of lambdas\n",
        "# class company_t {\n",
        "# public:\n",
        "#     string team_name_for(const person_t& employee) const;\n",
        "\n",
        "#     int count_team_members(const string& team_name) const;\n",
        "\n",
        "# private:\n",
        "#     vector<person_t> m_employees;\n",
        "#      …\n",
        "# };"
      ],
      "metadata": {
        "id": "5VpayzsdkS3q"
      },
      "execution_count": null,
      "outputs": []
    },
    {
      "cell_type": "code",
      "source": [
        "# Listing 3.3 Counting the number of employees in a given team\n",
        "# int company_t::count_team_members(\n",
        "#         const string& team_name) const\n",
        "# {\n",
        "#     return count_if(\n",
        "#             m_employees.cbegin(), m_employees.cend(),\n",
        "#             [this, &team_name]    \n",
        "#                 (const person_t& employee)    \n",
        "#             {\n",
        "#                 return team_name_for(employee) ==\n",
        "#                        team_name;\n",
        "#             }\n",
        "#         );\n",
        "# }"
      ],
      "metadata": {
        "id": "b66IUb68kqGq"
      },
      "execution_count": null,
      "outputs": []
    },
    {
      "cell_type": "code",
      "source": [
        "# Listing 3.4 Lambda converted to a class\n",
        "# class lambda_implementation {\n",
        "# public:\n",
        "#     lambda_implementation(\n",
        "#             const company_t* _this,\n",
        "#             const string& team_name)\n",
        "#         : m_this(_this)\n",
        "#         , m_team_name(team_name)\n",
        "#     {\n",
        "#     }\n",
        "\n",
        "#     bool operator()(const person_t& employee) const\n",
        "#     {\n",
        "#         return m_this->team_name_for(employee) == m_team_name;\n",
        "#     }\n",
        "\n",
        "# private:\n",
        "#     const company_t* m_this;\n",
        "#     const string& m_team_name;\n",
        "# };"
      ],
      "metadata": {
        "id": "EKiERjfckvqz"
      },
      "execution_count": null,
      "outputs": []
    },
    {
      "cell_type": "code",
      "source": [
        "# Listing 3.5 Creating a mutable lambda\n",
        "# int count = 0;\n",
        "# vector<string> words{\"An\", \"ancient\", \"pond\"};\n",
        "\n",
        "# for_each(words.cbegin(), words.cend(),\n",
        "#         [count]    \n",
        "#         (const string& word)\n",
        "#         mutable    \n",
        "#         {\n",
        "#             if (isupper(word[0])) {\n",
        "#                 cout << word\n",
        "#                           << \" \" << count <<endl;\n",
        "#                 count++;\n",
        "#             }\n",
        "#         }\n",
        "#     );"
      ],
      "metadata": {
        "id": "lbWbMWnpk5eV"
      },
      "execution_count": null,
      "outputs": []
    },
    {
      "cell_type": "code",
      "source": [
        "# 3.2.3 Creating arbitrary member variables in lambdas\n",
        "# Listing 3.6 Error when trying to capture a move-only type\n",
        "# unique_ptr<session_t> session = create_session();\n",
        "\n",
        "# auto request = server.request(\"GET /\", session->id());\n",
        "\n",
        "# request.on_completed(\n",
        "#             [session]    \n",
        "#             (response_t response)\n",
        "#             {\n",
        "#                 cout << \"Got response: \" << response\n",
        "#                           << \" for session: \" << session;\n",
        "#             }\n",
        "#         );"
      ],
      "metadata": {
        "id": "ajDPz7Unk_0m"
      },
      "execution_count": null,
      "outputs": []
    },
    {
      "cell_type": "code",
      "source": [
        "# Listing 3.7 Generalized lambda captures\n",
        "# request.on_completed(\n",
        "#            [ session = move(session),    \n",
        "#              time = current_time()    \n",
        "#            ]\n",
        "#            (response_t response)\n",
        "#            {\n",
        "#                 cout\n",
        "#                     << \"Got response: \" << response\n",
        "#                     << \" for session: \" << session\n",
        "#                     << \" the request took: \"\n",
        "#                     << (current_time() - time)\n",
        "#                     << \"milliseconds\";\n",
        "#            }\n",
        "#         );"
      ],
      "metadata": {
        "id": "XbaBF3gflGgk"
      },
      "execution_count": null,
      "outputs": []
    },
    {
      "cell_type": "code",
      "source": [
        "# 3.2.4 Generic lambdas\n",
        "# Listing 3.8 Generic lambda that accepts objects with age()\n",
        "# auto predicate = [limit = 42](auto&& object) {    \n",
        "#     return object.age() > limit;    \n",
        "# };    \n",
        "\n",
        "# std::count_if(persons.cbegin(), persons.cend(),\n",
        "#               predicate);\n",
        "# std::count_if(cars.cbegin(), cars.cend(),\n",
        "#               predicate);\n",
        "# std::count_if(projects.cbegin(), projects.cend(),\n",
        "#               predicate);"
      ],
      "metadata": {
        "id": "FPu6NUbElNZP"
      },
      "execution_count": null,
      "outputs": []
    },
    {
      "cell_type": "code",
      "source": [
        "# MORE-GENERIC LAMBDAS IN C++20\n",
        "# [] (auto first, decltype(first) second) { … }\n",
        "\n",
        "# [] <typename T> (T first, T second) { … }"
      ],
      "metadata": {
        "id": "hC0_8bAvlWwh"
      },
      "execution_count": null,
      "outputs": []
    },
    {
      "cell_type": "code",
      "source": [
        "# 3.3 Writing function objects that are even terser than lambdas\n",
        "# ok_responses = filter(responses,\n",
        "#         [](const response_t& response) {\n",
        "#             return !response.error();\n",
        "#         });\n",
        "# failed_responses = filter(responses,\n",
        "#         [](const response_t& response) {\n",
        "#             return response.error();\n",
        "#         });"
      ],
      "metadata": {
        "id": "6ac5qItcleQO"
      },
      "execution_count": null,
      "outputs": []
    },
    {
      "cell_type": "code",
      "source": [
        "# ok_responses     = filter(responses, _.error() == false);\n",
        "# failed_responses = filter(responses, _.error());"
      ],
      "metadata": {
        "id": "ACyXW82llu90"
      },
      "execution_count": null,
      "outputs": []
    },
    {
      "cell_type": "code",
      "source": [
        "# ok_responses     = filter(responses, not_error);\n",
        "#     / or          filter(responses, !error);\n",
        "#     / or          filter(responses, error == false);\n",
        "\n",
        "# failed_responses = filter(responses, error);\n",
        "#     / or          filter(responses, error == true);\n",
        "#     / or even     filter(responses, not_error == false);"
      ],
      "metadata": {
        "id": "fcJtBBi0lyV_"
      },
      "execution_count": null,
      "outputs": []
    },
    {
      "cell_type": "code",
      "source": [
        "# Listing 3.9 Basic implementation of a predicate to test for errors\n",
        "# class error_test_t {\n",
        "# public:\n",
        "#     error_test_t(bool error = true)\n",
        "#         : m_error(error)\n",
        "#     {\n",
        "#     }\n",
        "\n",
        "#     template <typename T>\n",
        "#     bool operator()(T&& value) const\n",
        "#     {\n",
        "#         return m_error ==    \n",
        "#                 (bool)std::forward<T>(value).error();    \n",
        "#     }\n",
        "\n",
        "# private:\n",
        "#     bool m_error;\n",
        "# };\n",
        "\n",
        "# error_test_t error(true);\n",
        "# error_test_t not_error(false);"
      ],
      "metadata": {
        "id": "PB3Ayk93l2kj"
      },
      "execution_count": null,
      "outputs": []
    },
    {
      "cell_type": "code",
      "source": [
        "# Listing 3.10 Defining convenient operators for the predicate function object\n",
        "# class error_test_t {\n",
        "# public:\n",
        "#     …\n",
        "\n",
        "#     error_test_t operator==(bool test) const\n",
        "#     {\n",
        "#         return error_test_t(    \n",
        "#                 test ? m_error : !m_error    \n",
        "#             );    \n",
        "#     }\n",
        "\n",
        "#     error_test_t operator!() const\n",
        "#     {\n",
        "#         return error_test_t(!m_error);    \n",
        "#     }\n",
        "\n",
        "#     …\n",
        "# };"
      ],
      "metadata": {
        "id": "jmBB1iOOl7hV"
      },
      "execution_count": null,
      "outputs": []
    },
    {
      "cell_type": "code",
      "source": [
        "# 3.3.1 Operator function objects in STL\n",
        "# vector<int> numbers{1, 2, 3, 4};\n",
        "\n",
        "# product = accumulate(numbers.cbegin(), numbers.cend(), 1,\n",
        "#                           multiplies<int>());\n",
        "\n",
        "# / product is 24"
      ],
      "metadata": {
        "id": "wX81WhdSmBV9"
      },
      "execution_count": null,
      "outputs": []
    },
    {
      "cell_type": "code",
      "source": [
        "# vector<int> numbers{5, 21, 13, 42};\n",
        "\n",
        "# sort(numbers.begin(), numbers.end(), greater<int>());\n",
        "\n",
        "# / numbers now contain {42, 21, 13, 5}"
      ],
      "metadata": {
        "id": "znfze--wmQaB"
      },
      "execution_count": null,
      "outputs": []
    },
    {
      "cell_type": "code",
      "source": [
        "# Table 3.1 Operator wrappers available in the standard library\n",
        "%%html\n",
        "<table border=\"1\">\n",
        "<thead>\n",
        "<tr><th>Group</th><th>Wrapper name</th><th>Operation</th></tr>\n",
        "</thead>\n",
        "<tbody>\n",
        "<tr><td>Arithmetic operators</td><td>plus</td><td>arg_1 + arg_2</td></tr>\n",
        "<tr><td></td><td>minus</td><td>arg_1 - arg_2</td></tr>\n",
        "<tr><td></td><td>multiplies</td><td>arg_1 * arg_2</td></tr>\n",
        "<tr><td>Arithmetic operators (continued)</td><td>divides</td><td>arg_1 / arg_2</td></tr>\n",
        "<tr><td></td><td>modulus</td><td>arg_1 % arg_2</td></tr>\n",
        "<tr><td></td><td>negates</td><td>- arg_1 (a unary function)</td></tr>\n",
        "<tr><td>Comparison operators</td><td>equal_to</td><td>arg_1 == arg_2</td></tr>\n",
        "<tr><td></td><td>not_equal_to</td><td>arg_1 != arg_2</td></tr>\n",
        "<tr><td></td><td>greater</td><td>arg_1 > arg_2</td></tr>\n",
        "<tr><td></td><td>less</td><td>arg_1 < arg_2</td></tr>\n",
        "<tr><td></td><td>greater_equal</td><td>arg_1 >= arg_2</td></tr>\n",
        "<tr><td></td><td>less_equal</td><td>arg_1 <= arg_2</td></tr>\n",
        "<tr><td>Logical operators</td><td>logical_and</td><td>arg_1 && arg_2</td></tr>\n",
        "<tr><td></td><td>logical_or</td><td>arg_1 || arg_2</td></tr>\n",
        "<tr><td></td><td>logical_not</td><td>!arg_1 (a unary function)</td></tr>\n",
        "<tr><td>Bitwise operators</td><td>bit_and</td><td>arg_1 & arg_2</td></tr>\n",
        "<tr><td></td><td>bit_or</td><td>arg_1 | arg_2</td></tr>\n",
        "<tr><td></td><td>bit_xor</td><td>arg_1 ^ arg_2</td></tr>\n",
        "</tbody>\n",
        "</table>"
      ],
      "metadata": {
        "id": "QCAWg18YmTtC",
        "outputId": "572b7b29-e037-40a7-998d-2b7135c9b1d2",
        "colab": {
          "base_uri": "https://localhost:8080/",
          "height": 457
        }
      },
      "execution_count": 2,
      "outputs": [
        {
          "output_type": "display_data",
          "data": {
            "text/plain": [
              "<IPython.core.display.HTML object>"
            ],
            "text/html": [
              "<table border=\"1\">\n",
              "<thead>\n",
              "<tr><th>Group</th><th>Wrapper name</th><th>Operation</th></tr>\n",
              "</thead>\n",
              "<tbody>\n",
              "<tr><td>Arithmetic operators</td><td>plus</td><td>arg_1 + arg_2</td></tr>\n",
              "<tr><td></td><td>minus</td><td>arg_1 - arg_2</td></tr>\n",
              "<tr><td></td><td>multiplies</td><td>arg_1 * arg_2</td></tr>\n",
              "<tr><td>Arithmetic operators (continued)</td><td>divides</td><td>arg_1 / arg_2</td></tr>\n",
              "<tr><td></td><td>modulus</td><td>arg_1 % arg_2</td></tr>\n",
              "<tr><td></td><td>negates</td><td>- arg_1 (a unary function)</td></tr>\n",
              "<tr><td>Comparison operators</td><td>equal_to</td><td>arg_1 == arg_2</td></tr>\n",
              "<tr><td></td><td>not_equal_to</td><td>arg_1 != arg_2</td></tr>\n",
              "<tr><td></td><td>greater</td><td>arg_1 > arg_2</td></tr>\n",
              "<tr><td></td><td>less</td><td>arg_1 < arg_2</td></tr>\n",
              "<tr><td></td><td>greater_equal</td><td>arg_1 >= arg_2</td></tr>\n",
              "<tr><td></td><td>less_equal</td><td>arg_1 <= arg_2</td></tr>\n",
              "<tr><td>Logical operators</td><td>logical_and</td><td>arg_1 && arg_2</td></tr>\n",
              "<tr><td></td><td>logical_or</td><td>arg_1 || arg_2</td></tr>\n",
              "<tr><td></td><td>logical_not</td><td>!arg_1 (a unary function)</td></tr>\n",
              "<tr><td>Bitwise operators</td><td>bit_and</td><td>arg_1 & arg_2</td></tr>\n",
              "<tr><td></td><td>bit_or</td><td>arg_1 | arg_2</td></tr>\n",
              "<tr><td></td><td>bit_xor</td><td>arg_1 ^ arg_2</td></tr>\n",
              "</tbody>\n",
              "</table>"
            ]
          },
          "metadata": {}
        }
      ]
    },
    {
      "cell_type": "code",
      "source": [
        "# THE DIAMOND ALTERNATIVE\n",
        "# sort(numbers.begin(), numbers.end(),\n",
        "#             std::greater<>());"
      ],
      "metadata": {
        "id": "GoeoeklqmTmx"
      },
      "execution_count": null,
      "outputs": []
    },
    {
      "cell_type": "code",
      "source": [
        "# 3.3.2 Operator function objects in other libraries\n",
        "# BOOST LIBRARIES\n",
        "# using namespace boost::phoenix::arg_names;\n",
        "\n",
        "# vector<int> numbers{21, 5, 62, 42, 53};\n",
        "\n",
        "# partition(numbers.begin(), numbers.end(),\n",
        "#                arg1 <= 42);\n",
        "\n",
        "# / numbers now contain {21, 5, 42,   62, 53}\n",
        "# /                        <= 42       > 42"
      ],
      "metadata": {
        "id": "xnPZ5EBwoLPj"
      },
      "execution_count": null,
      "outputs": []
    },
    {
      "cell_type": "code",
      "source": [
        "# accumulate(numbers.cbegin(), numbers.cend(), 0,\n",
        "#                 arg1 + arg2 * arg2 / 2);"
      ],
      "metadata": {
        "id": "HUiNWNJWocRn"
      },
      "execution_count": null,
      "outputs": []
    },
    {
      "cell_type": "code",
      "source": [
        "# product = accumulate(numbers.cbegin(), numbers.cend(), 1,\n",
        "#                           arg1 * arg2);\n",
        "\n",
        "# sort(numbers.begin(), numbers.end(), arg1 > arg2);"
      ],
      "metadata": {
        "id": "jUeAJtvZohc3"
      },
      "execution_count": null,
      "outputs": []
    },
    {
      "cell_type": "code",
      "source": [
        "# 3.4 Wrapping function objects with function\n",
        "\n",
        "# function<float(float, float)> test_function;    \n",
        "\n",
        "# test_function = fmaxf;    \n",
        "\n",
        "# test_function = multiplies<float>();    \n",
        "\n",
        "# test_function = multiplies<>();    \n",
        "\n",
        "# test_function = [x](float a, float b) { return a * x + b; };    \n",
        "\n",
        "# test_function = [x](auto a, auto b) { return a * x + b; };    \n",
        "\n",
        "# test_function = (arg1 + arg2) / 2;    \n",
        "\n",
        "# test_function = [](string s) { return s.empty(); } / ERROR!"
      ],
      "metadata": {
        "id": "16ykAUsyom-g"
      },
      "execution_count": null,
      "outputs": []
    },
    {
      "cell_type": "code",
      "source": [
        "# string str{\"A small pond\"};\n",
        "# function<bool(std::string)> f;\n",
        "\n",
        "# f = &std::string::empty;\n",
        "\n",
        "# cout << f(str);"
      ],
      "metadata": {
        "id": "enjMwQuWozMk"
      },
      "execution_count": null,
      "outputs": []
    },
    {
      "cell_type": "code",
      "source": [
        "4 Creating new functions from the old ones\n"
      ],
      "metadata": {
        "id": "Mgq0Wzxqo9Ir"
      },
      "execution_count": null,
      "outputs": []
    },
    {
      "cell_type": "code",
      "source": [
        "!g++  temp.cpp; ./a.out"
      ],
      "metadata": {
        "id": "Q2VfXGrnS1iE"
      },
      "execution_count": null,
      "outputs": []
    },
    {
      "cell_type": "code",
      "source": [
        ""
      ],
      "metadata": {
        "id": "Wk0Mp3wUhhqW"
      },
      "execution_count": null,
      "outputs": []
    },
    {
      "cell_type": "markdown",
      "source": [
        "# いまここ"
      ],
      "metadata": {
        "id": "1YF4qemSUd5Z"
      }
    }
  ]
}