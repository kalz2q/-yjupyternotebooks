{
  "nbformat": 4,
  "nbformat_minor": 0,
  "metadata": {
    "colab": {
      "name": "cpp_functional.ipynb",
      "provenance": [],
      "toc_visible": true,
      "authorship_tag": "ABX9TyO0HWJKa9DLn2ZZyhrpYU2h",
      "include_colab_link": true
    },
    "kernelspec": {
      "name": "python3",
      "display_name": "Python 3"
    },
    "language_info": {
      "name": "python"
    }
  },
  "cells": [
    {
      "cell_type": "markdown",
      "metadata": {
        "id": "view-in-github",
        "colab_type": "text"
      },
      "source": [
        "<a href=\"https://colab.research.google.com/github/kalz2q/mycolabnotebooks/blob/master/cpp_functional.ipynb\" target=\"_parent\"><img src=\"https://colab.research.google.com/assets/colab-badge.svg\" alt=\"Open In Colab\"/></a>"
      ]
    },
    {
      "cell_type": "markdown",
      "source": [
        "# メモ\n",
        "functional programming in c++ をなぞり読み\n",
        "\n",
        "https://www.manning.com/books/functional-programming-in-c-plus-plus#toc"
      ],
      "metadata": {
        "id": "ufAw6CKvGMA9"
      }
    },
    {
      "cell_type": "code",
      "execution_count": null,
      "metadata": {
        "id": "PUckHiKDGLO7"
      },
      "outputs": [],
      "source": [
        "# 最初の例\n",
        "# 命令型\n",
        "# Listing 1.1 Calculating the number of lines the imperative way\n",
        "%%script false\n",
        "vector<int> count_lines_in_files(const vector<string>& files) {\n",
        "    vector<int> results;\n",
        "    char c = 0;\n",
        "    for (const auto& file : files) {\n",
        "        int line_count = 0;\n",
        "        ifstream in(file); \n",
        "        while (in.get(c)) {\n",
        "            if (c == '\\n') {\n",
        "                line_count++;\n",
        "            }\n",
        "        }\n",
        "        results.push_back(line_count);\n",
        "    }\n",
        "    return results;\n",
        "}"
      ]
    },
    {
      "cell_type": "code",
      "source": [
        "# 動く形にして見よう\n",
        "%%writefile temp.cpp\n",
        "# include <bits/stdc++.h>\n",
        "using namespace std;\n",
        "\n",
        "vector<int> count_lines_in_files(const vector<string>& files) {\n",
        "    vector<int> results;\n",
        "    char c = 0;\n",
        "    for (const auto& file : files) {\n",
        "        int line_count = 0;\n",
        "        ifstream in(file); \n",
        "        while (in.get(c)) {\n",
        "            if (c == '\\n') {\n",
        "                line_count++;\n",
        "            }\n",
        "        }\n",
        "        results.push_back(line_count);\n",
        "    }\n",
        "    return results;\n",
        "}\n",
        "\n",
        "int main() {\n",
        "    ofstream ofs01(\"./temp01.txt\");\n",
        "    ofs01 << \"foo bar baz \\nThis is a pen\" << endl;\n",
        "    ofs01.close(); // 2行\n",
        "    ofstream ofs02(\"./temp02.txt\");\n",
        "    ofs02 << \"日本語もどうか\" << endl << endl;\n",
        "    ofs02 << \"これが最後\" << endl << \"ん\" << endl; \n",
        "    ofs02.close(); // 4行\n",
        "\n",
        "    vector<string> files = {\"temp01.txt\", \"temp02.txt\"};\n",
        "    vector<int> lines;\n",
        "    lines = count_lines_in_files(files);\n",
        "    for(int i : lines) {\n",
        "        cout << i << endl;\n",
        "    }\n",
        "}"
      ],
      "metadata": {
        "id": "KtcxQ34yHd-z",
        "colab": {
          "base_uri": "https://localhost:8080/"
        },
        "outputId": "45ea6fa9-b4fe-4fd7-c4ce-84d961812f91"
      },
      "execution_count": 25,
      "outputs": [
        {
          "output_type": "stream",
          "name": "stdout",
          "text": [
            "Overwriting temp.cpp\n"
          ]
        }
      ]
    },
    {
      "cell_type": "code",
      "source": [
        "!g++ temp.cpp; ./a.out"
      ],
      "metadata": {
        "colab": {
          "base_uri": "https://localhost:8080/"
        },
        "id": "s8amJt2mR1H2",
        "outputId": "63cadb96-f1cf-4d7c-c9b3-3a037b66bd93"
      },
      "execution_count": 26,
      "outputs": [
        {
          "output_type": "stream",
          "name": "stdout",
          "text": [
            "2\n",
            "4\n"
          ]
        }
      ]
    },
    {
      "cell_type": "code",
      "source": [
        "# とりあえず動いた\n",
        "# \"\\n\" を数えているのでファイル末に改行がないと正しい数字にならない\n",
        "# getline を使いたい\n",
        "# テキストはこれを関数型に変えると言うことだがどうするのだろうか"
      ],
      "metadata": {
        "id": "rYhV-d1WUKho"
      },
      "execution_count": null,
      "outputs": []
    },
    {
      "cell_type": "code",
      "source": [
        "# Listing 1.2 Using std::count to count newline characters\n",
        "# count version\n",
        "%%writefile temp.cpp\n",
        "# include <bits/stdc++.h>\n",
        "using namespace std;\n",
        "\n",
        "int count_lines(const string& filename) {\n",
        "  ifstream in(filename);\n",
        "  return count(istreambuf_iterator<char>(in), istreambuf_iterator<char>(), '\\n');\n",
        "}\n",
        "\n",
        "vector<int> count_lines_in_files(const vector<string>& files) {\n",
        "  vector<int> results;\n",
        "  for (const auto& file : files) {\n",
        "    results.push_back(count_lines(file));\n",
        "  }\n",
        "  return results;\n",
        "}\n",
        "\n",
        "int main() {\n",
        "  ofstream ofs01(\"./temp01.txt\");\n",
        "  ofs01 << \"foo bar baz \\nThis is a pen\" << endl;\n",
        "  ofs01.close(); // 2行\n",
        "  ofstream ofs02(\"./temp02.txt\");\n",
        "  ofs02 << \"日本語もどうか\" << endl << endl;\n",
        "  ofs02 << \"これが最後\" << endl << \"ん\" << endl; \n",
        "  ofs02.close(); // 4行\n",
        "\n",
        "  vector<string> files = { \"temp01.txt\", \"temp02.txt\" };\n",
        "  vector<int> lines;\n",
        "  lines = count_lines_in_files(files);\n",
        "  for (int i : lines) {\n",
        "    cout << i << endl;\n",
        "  }\n",
        "}"
      ],
      "metadata": {
        "colab": {
          "base_uri": "https://localhost:8080/"
        },
        "id": "l53WHwFMVHfp",
        "outputId": "391a2bc6-2a3e-4ee3-cdd2-e42d337e479f"
      },
      "execution_count": 29,
      "outputs": [
        {
          "output_type": "stream",
          "name": "stdout",
          "text": [
            "Overwriting temp.cpp\n"
          ]
        }
      ]
    },
    {
      "cell_type": "code",
      "source": [
        "!g++ temp.cpp; ./a.out"
      ],
      "metadata": {
        "colab": {
          "base_uri": "https://localhost:8080/"
        },
        "id": "BzG_HcrEVHXJ",
        "outputId": "97a62549-0f75-48ca-d83b-6195102d2b3e"
      },
      "execution_count": 30,
      "outputs": [
        {
          "output_type": "stream",
          "name": "stdout",
          "text": [
            "2\n",
            "4\n"
          ]
        }
      ]
    },
    {
      "cell_type": "code",
      "source": [
        "# count version は count を使っている事より、istreambuf_iterator を知らなかった\n",
        "# cpprefjp による例\n",
        "%%writefile temp.cpp\n",
        "# include <bits/stdc++.h>\n",
        "using namespace std;\n",
        "\n",
        "int main()\n",
        "{\n",
        "  stringstream ss;\n",
        "  ss << \"1 2 3\" << endl\n",
        "     << \"4 5 6\";\n",
        "\n",
        "  // 文字列の入力ストリームから順に文字を読み込むイテレータを用意\n",
        "  istreambuf_iterator<char> it(ss);\n",
        "  istreambuf_iterator<char> last;\n",
        "\n",
        "  // イテレータを進めることにより、入力ストリームからデータを順に読み取る\n",
        "  for_each(it, last, [](char c) { std::cout << c; });\n",
        "}"
      ],
      "metadata": {
        "colab": {
          "base_uri": "https://localhost:8080/"
        },
        "id": "N4Xn_ngWWN_p",
        "outputId": "2c48f25b-8f2e-4bc8-a0fc-a13fc9f83bcb"
      },
      "execution_count": 31,
      "outputs": [
        {
          "output_type": "stream",
          "name": "stdout",
          "text": [
            "Overwriting temp.cpp\n"
          ]
        }
      ]
    },
    {
      "cell_type": "code",
      "source": [
        "!g++ temp.cpp; ./a.out"
      ],
      "metadata": {
        "colab": {
          "base_uri": "https://localhost:8080/"
        },
        "id": "TNhKSwWrdrLo",
        "outputId": "4bfa819f-2bed-4bfd-f742-073c62aadf64"
      },
      "execution_count": 32,
      "outputs": [
        {
          "output_type": "stream",
          "name": "stdout",
          "text": [
            "1 2 3\n",
            "4 5 6"
          ]
        }
      ]
    },
    {
      "cell_type": "code",
      "source": [
        "# ちょっとよくわかりません\n",
        "# とりあえず getline version を作って、ファイル末の改行なしに対応するか実験しよう #=> 成功!!!!\n",
        "# getline version\n",
        "%%writefile temp.cpp\n",
        "# include <bits/stdc++.h>\n",
        "using namespace std;\n",
        "\n",
        "int count_lines(const string& filename) {\n",
        "  int count = 0;\n",
        "  string myText;\n",
        "  ifstream in(filename);\n",
        "  while (getline (in, myText)) {\n",
        "    count += 1;\n",
        "  }\n",
        "  return count;\n",
        "}\n",
        "\n",
        "vector<int> count_lines_in_files(const vector<string>& files) {\n",
        "  vector<int> results;\n",
        "  for (const auto& file : files) {\n",
        "    results.push_back(count_lines(file));\n",
        "  }\n",
        "  return results;\n",
        "}\n",
        "\n",
        "int main() {\n",
        "  ofstream ofs01(\"./temp01.txt\");\n",
        "  ofs01 << \"foo bar baz \\nThis is a pen\" << endl;\n",
        "  ofs01.close(); // 2行\n",
        "  ofstream ofs02(\"./temp02.txt\");\n",
        "  ofs02 << \"日本語もどうか\" << endl << endl;\n",
        "  // ofs02 << \"これが最後\" << endl << \"ん\" << endl; \n",
        "  ofs02 << \"これが最後\" << endl << \"ん\"; \n",
        "  ofs02.close(); // 4行\n",
        "\n",
        "  vector<string> files = { \"temp01.txt\", \"temp02.txt\" };\n",
        "  vector<int> lines;\n",
        "  lines = count_lines_in_files(files);\n",
        "  for (int i : lines) {\n",
        "    cout << i << endl;\n",
        "  }\n",
        "}"
      ],
      "metadata": {
        "colab": {
          "base_uri": "https://localhost:8080/"
        },
        "id": "b5adJsAteFqc",
        "outputId": "2a3aa8d0-f130-494d-ac59-ff599c6386af"
      },
      "execution_count": 35,
      "outputs": [
        {
          "output_type": "stream",
          "name": "stdout",
          "text": [
            "Overwriting temp.cpp\n"
          ]
        }
      ]
    },
    {
      "cell_type": "code",
      "source": [
        "!g++ temp.cpp; ./a.out"
      ],
      "metadata": {
        "colab": {
          "base_uri": "https://localhost:8080/"
        },
        "id": "d0wPWR_Ff4N-",
        "outputId": "925ca3d3-ec52-4439-ad7b-4ffcea6b1967"
      },
      "execution_count": 36,
      "outputs": [
        {
          "output_type": "stream",
          "name": "stdout",
          "text": [
            "2\n",
            "4\n"
          ]
        }
      ]
    },
    {
      "cell_type": "code",
      "source": [
        "# テキストは次に transform を使っている\n",
        "# transform は他の言語では map に当たるアルゴリズムである\n",
        "# map -> transform, reduce -> accumulate, filter -> copy_if らしい\n",
        "# transform version\n",
        "%%writefile temp.cpp\n",
        "# include <bits/stdc++.h>\n",
        "using namespace std;\n",
        "\n",
        "int count_lines(const string& filename) {\n",
        "  int count = 0;\n",
        "  string myText;\n",
        "  ifstream in(filename);\n",
        "  while (getline (in, myText)) {\n",
        "    count += 1;\n",
        "  }\n",
        "  return count;\n",
        "}\n",
        "\n",
        "vector<int> count_lines_in_files(const vector<std::string>& files) {\n",
        "    vector<int> results(files.size());\n",
        "    // transform(files.cbegin(), files.cend(), results.begin(), count_lines);    \n",
        "    transform(files.begin(), files.end(), results.begin(), count_lines); // cbegin と begin の違いは const かどうかでほとんど同じ\n",
        "    return results;\n",
        "}\n",
        "\n",
        "int main() {\n",
        "  ofstream ofs01(\"./temp01.txt\");\n",
        "  ofs01 << \"foo bar baz \\nThis is a pen\" << endl;\n",
        "  ofs01.close(); // 2行\n",
        "  ofstream ofs02(\"./temp02.txt\");\n",
        "  ofs02 << \"日本語もどうか\" << endl << endl;\n",
        "  // ofs02 << \"これが最後\" << endl << \"ん\" << endl; \n",
        "  ofs02 << \"これが最後\" << endl << \"ん\"; \n",
        "  ofs02.close(); // 4行\n",
        "\n",
        "  vector<string> files = { \"temp01.txt\", \"temp02.txt\" };\n",
        "  vector<int> lines;\n",
        "  lines = count_lines_in_files(files);\n",
        "  for (int i : lines) {\n",
        "    cout << i << endl;\n",
        "  }\n",
        "}"
      ],
      "metadata": {
        "colab": {
          "base_uri": "https://localhost:8080/"
        },
        "id": "R93pHbeWgX0a",
        "outputId": "f836604e-73f4-4aef-b698-9f29d8dfe953"
      },
      "execution_count": 41,
      "outputs": [
        {
          "output_type": "stream",
          "name": "stdout",
          "text": [
            "Overwriting temp.cpp\n"
          ]
        }
      ]
    },
    {
      "cell_type": "code",
      "source": [
        "!g++ temp.cpp; ./a.out"
      ],
      "metadata": {
        "colab": {
          "base_uri": "https://localhost:8080/"
        },
        "id": "232g3n4tgXws",
        "outputId": "4de0aae5-7032-4849-bb7a-6b9d8d200cfe"
      },
      "execution_count": 42,
      "outputs": [
        {
          "output_type": "stream",
          "name": "stdout",
          "text": [
            "2\n",
            "4\n"
          ]
        }
      ]
    },
    {
      "cell_type": "code",
      "source": [
        "# ranges version\n",
        "# ranges は chapter 7 で説明するとのこと\n",
        "# だがエラーなのでとりあえず %%script false にして先へ進む\n",
        "%%script false\n",
        "%%writefile temp.cpp\n",
        "# include <bits/stdc++.h>\n",
        "using namespace std;\n",
        "\n",
        "int count_lines(const string& filename) {\n",
        "  int count = 0;\n",
        "  string myText;\n",
        "  ifstream in(filename);\n",
        "  while (getline (in, myText)) {\n",
        "    count += 1;\n",
        "  }\n",
        "  return count;\n",
        "}\n",
        "\n",
        "vector<int> count_lines_in_files(const vector<string>& files) {\n",
        "    return files | transform(count_lines);\n",
        "}\n",
        "\n",
        "int main() {\n",
        "  ofstream ofs01(\"./temp01.txt\");\n",
        "  ofs01 << \"foo bar baz \\nThis is a pen\" << endl;\n",
        "  ofs01.close(); // 2行\n",
        "  ofstream ofs02(\"./temp02.txt\");\n",
        "  ofs02 << \"日本語もどうか\" << endl << endl;\n",
        "  // ofs02 << \"これが最後\" << endl << \"ん\" << endl; \n",
        "  ofs02 << \"これが最後\" << endl << \"ん\"; \n",
        "  ofs02.close(); // 4行\n",
        "\n",
        "  vector<string> files = { \"temp01.txt\", \"temp02.txt\" };\n",
        "  vector<int> lines;\n",
        "  lines = count_lines_in_files(files);\n",
        "  for (int i : lines) {\n",
        "    cout << i << endl;\n",
        "  }\n",
        "}"
      ],
      "metadata": {
        "colab": {
          "base_uri": "https://localhost:8080/"
        },
        "id": "mWkSG6IGp8AF",
        "outputId": "24c8764c-d981-4c34-e65b-ac7459456519"
      },
      "execution_count": 43,
      "outputs": [
        {
          "output_type": "stream",
          "name": "stdout",
          "text": [
            "Overwriting temp.cpp\n"
          ]
        }
      ]
    },
    {
      "cell_type": "code",
      "source": [
        "!g++ temp.cpp; ./a.out"
      ],
      "metadata": {
        "id": "rw5NPJ3EqBuV"
      },
      "execution_count": null,
      "outputs": []
    },
    {
      "cell_type": "code",
      "source": [
        "# 最終形は次のようになる、とのこと\n",
        "# transform を 2回に分けている\n",
        "%%script false\n",
        "vector<int>\n",
        "count_lines_in_files(const vector<string>& files) {\n",
        "    return files | transform(open_file) | transform(count_lines);\n",
        "}"
      ],
      "metadata": {
        "id": "2CxqMq26qjPr"
      },
      "execution_count": null,
      "outputs": []
    },
    {
      "cell_type": "code",
      "source": [
        "# Listing 2.1 Calculating the average score imperatively\n",
        "%%writefile temp.cpp\n",
        "# include <bits/stdc++.h>\n",
        "using namespace std;\n",
        "\n",
        "double average_score(const vector<int>& scores) {\n",
        "    int sum = 0;    \n",
        "    for (int score : scores) {    \n",
        "        sum += score;    \n",
        "    }    \n",
        "    return sum / (double)scores.size();    \n",
        "}\n",
        "\n",
        "int main() {\n",
        "    vector<int> vec = {9, 7, 10, 5, 8, 8, 6};\n",
        "    double average;\n",
        "    average = average_score(vec);\n",
        "    cout << average << endl;\n",
        "}"
      ],
      "metadata": {
        "id": "XxDWsdbr6XJP",
        "outputId": "498b14ea-9a22-4c0a-c9ee-5b472ee3aaec",
        "colab": {
          "base_uri": "https://localhost:8080/"
        }
      },
      "execution_count": 5,
      "outputs": [
        {
          "output_type": "stream",
          "name": "stdout",
          "text": [
            "Overwriting temp.cpp\n"
          ]
        }
      ]
    },
    {
      "cell_type": "code",
      "source": [
        "!g++ temp.cpp; ./a.out"
      ],
      "metadata": {
        "id": "xHUXmNfQ6XAP",
        "outputId": "d00388a4-33fa-4e6c-c86b-8ecdd67836e9",
        "colab": {
          "base_uri": "https://localhost:8080/"
        }
      },
      "execution_count": 6,
      "outputs": [
        {
          "output_type": "stream",
          "name": "stdout",
          "text": [
            "7.57143\n"
          ]
        }
      ]
    },
    {
      "cell_type": "code",
      "source": [
        "# Listing 2.2 Calculating the average score functionally\n",
        "%%writefile temp.cpp\n",
        "# include <bits/stdc++.h>\n",
        "using namespace std;\n",
        "\n",
        "double average_score(const vector<int>& scores) {\n",
        "    return accumulate(scores.cbegin(), scores.cend(),0) / (double)scores.size();    \n",
        "}\n",
        "\n",
        "int main() {\n",
        "    vector<int> vec = {9, 7, 10, 5, 8, 8, 6};\n",
        "    double average;\n",
        "    average = average_score(vec);\n",
        "    cout << average << endl;\n",
        "}"
      ],
      "metadata": {
        "id": "enjgnpyx7wcF",
        "outputId": "eb837d9b-05a1-4c76-a81b-e6110fc93d0b",
        "colab": {
          "base_uri": "https://localhost:8080/"
        }
      },
      "execution_count": 7,
      "outputs": [
        {
          "output_type": "stream",
          "name": "stdout",
          "text": [
            "Overwriting temp.cpp\n"
          ]
        }
      ]
    },
    {
      "cell_type": "code",
      "source": [
        "!g++ temp.cpp; ./a.out"
      ],
      "metadata": {
        "id": "WUijeryT7wX-",
        "outputId": "9e594fd4-b20b-487f-cb91-d93bce788381",
        "colab": {
          "base_uri": "https://localhost:8080/"
        }
      },
      "execution_count": 8,
      "outputs": [
        {
          "output_type": "stream",
          "name": "stdout",
          "text": [
            "7.57143\n"
          ]
        }
      ]
    },
    {
      "cell_type": "code",
      "source": [
        "# PARALLEL VERSIONS OF STANDARD ALGORITHMS\n",
        "# reduce , execution が使えないので \n",
        "%%script false\n",
        "%%writefile temp.cpp\n",
        "# include <bits/stdc++.h>\n",
        "using namespace std;\n",
        "\n",
        "double average_score(const vector<int>& scores) {\n",
        "    return reduce(execution::par, scores.cbegin(), scores.cend(),0) / (double) scores.length();\n",
        "}\n",
        "\n",
        "int main() {\n",
        "    vector<int> vec = {9, 7, 10, 5, 8, 8, 6};\n",
        "    double average;\n",
        "    average = average_score(vec);\n",
        "    cout << average << endl;\n",
        "}"
      ],
      "metadata": {
        "id": "Rg4paNk08MuC"
      },
      "execution_count": null,
      "outputs": []
    },
    {
      "cell_type": "code",
      "source": [
        ""
      ],
      "metadata": {
        "id": "nu8BxWla8-fc"
      },
      "execution_count": null,
      "outputs": []
    },
    {
      "cell_type": "code",
      "source": [
        ""
      ],
      "metadata": {
        "id": "Rtw_NK8K8-WF"
      },
      "execution_count": null,
      "outputs": []
    },
    {
      "cell_type": "code",
      "source": [
        "!g++ temp.cpp; ./a.out"
      ],
      "metadata": {
        "id": "4TtCFgIU8Mi5"
      },
      "execution_count": null,
      "outputs": []
    }
  ]
}