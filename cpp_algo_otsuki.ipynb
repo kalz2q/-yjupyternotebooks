{
  "nbformat": 4,
  "nbformat_minor": 0,
  "metadata": {
    "colab": {
      "name": "cpp_algo_otsuki.ipynb",
      "provenance": [],
      "toc_visible": true,
      "authorship_tag": "ABX9TyOkyoL9MkxDErs8ulxrzUui",
      "include_colab_link": true
    },
    "kernelspec": {
      "name": "python3",
      "display_name": "Python 3"
    },
    "language_info": {
      "name": "python"
    }
  },
  "cells": [
    {
      "cell_type": "markdown",
      "metadata": {
        "id": "view-in-github",
        "colab_type": "text"
      },
      "source": [
        "<a href=\"https://colab.research.google.com/github/kalz2q/mycolabnotebooks/blob/master/cpp_algo_otsuki.ipynb\" target=\"_parent\"><img src=\"https://colab.research.google.com/assets/colab-badge.svg\" alt=\"Open In Colab\"/></a>"
      ]
    },
    {
      "cell_type": "code",
      "execution_count": null,
      "metadata": {
        "id": "mmOumSbZkIPy"
      },
      "outputs": [],
      "source": [
        ""
      ]
    },
    {
      "cell_type": "markdown",
      "source": [
        "# メモ\n",
        "アルゴリズムとデータ構造 大槻兼資"
      ],
      "metadata": {
        "id": "PgW0I1NhkO_Y"
      }
    },
    {
      "cell_type": "code",
      "source": [
        "# cpp_algo_otsuki\n",
        "# 問題 A さんの年齢は 20 .. 35。Yes/No で答えられる質問 4 回で当てることが出来るか\n",
        "# 0 - 15 の 16 通りで考える \n",
        "# 0..7, 8..15 => 0..3, 4..7 => 0..1, 2..3 => 4 回目の質問で 2 者択一になるので 4 回で当てられる \n",
        "# これを二分探索法 binary search method と呼ぶ <=> 線形探索法 lienar search method"
      ],
      "metadata": {
        "id": "ioGoXpMOLVo9"
      },
      "execution_count": null,
      "outputs": []
    },
    {
      "cell_type": "code",
      "source": [
        "# 28 の作り方\n",
        "%%writefile temp.cpp\n",
        "#include <bits/stdc++.h>\n",
        "using namespace std;\n",
        "\n",
        "int main() {\n",
        "    for (int i = 1; i <= 6; i++){\n",
        "        for (int j = i+1; j <= 7; j++) {\n",
        "            for (int k = j+1; k <= 8; k++) {\n",
        "                for (int l = k+1; l <=9; l++){\n",
        "                    if ((i+j+k+l) == 28) cout << i << j << k << l << endl;\n",
        "                }\n",
        "            }\n",
        "        }\n",
        "    }\n",
        "}"
      ],
      "metadata": {
        "id": "lP0VS2MwPhBi",
        "outputId": "9071c065-7777-40fb-ee7a-1486c0a7e0b4",
        "colab": {
          "base_uri": "https://localhost:8080/"
        }
      },
      "execution_count": null,
      "outputs": [
        {
          "output_type": "stream",
          "name": "stdout",
          "text": [
            "Overwriting temp.cpp\n"
          ]
        }
      ]
    }
  ]
}