{
  "nbformat": 4,
  "nbformat_minor": 0,
  "metadata": {
    "colab": {
      "name": "cpp_algo_otsuki.ipynb",
      "provenance": [],
      "toc_visible": true,
      "authorship_tag": "ABX9TyNoFaur0BvrYFwl7jYCXcMc",
      "include_colab_link": true
    },
    "kernelspec": {
      "name": "python3",
      "display_name": "Python 3"
    },
    "language_info": {
      "name": "python"
    }
  },
  "cells": [
    {
      "cell_type": "markdown",
      "metadata": {
        "id": "view-in-github",
        "colab_type": "text"
      },
      "source": [
        "<a href=\"https://colab.research.google.com/github/kalz2q/mycolabnotebooks/blob/master/cpp_algo_otsuki.ipynb\" target=\"_parent\"><img src=\"https://colab.research.google.com/assets/colab-badge.svg\" alt=\"Open In Colab\"/></a>"
      ]
    },
    {
      "cell_type": "markdown",
      "source": [
        "# メモ\n",
        "アルゴリズムとデータ構造 大槻兼資\n",
        "https://github.com/drken1215/book_algorithm_solution/"
      ],
      "metadata": {
        "id": "PgW0I1NhkO_Y"
      }
    },
    {
      "cell_type": "code",
      "source": [
        "# cpp_algo_otsuki\n",
        "# 問題 A さんの年齢は 20 .. 35。Yes/No で答えられる質問 4 回で当てることが出来るか\n",
        "# 0 - 15 の 16 通りで考える \n",
        "# 0..7, 8..15 => 0..3, 4..7 => 0..1, 2..3 => 4 回目の質問で 2 者択一になるので 4 回で当てられる \n",
        "# これを二分探索法 binary search method と呼ぶ <=> 線形探索法 lienar search method"
      ],
      "metadata": {
        "id": "ioGoXpMOLVo9"
      },
      "execution_count": null,
      "outputs": []
    },
    {
      "cell_type": "code",
      "source": [
        "# 28 の作り方\n",
        "%%writefile temp.cpp\n",
        "#include <bits/stdc++.h>\n",
        "using namespace std;\n",
        "\n",
        "int main() {\n",
        "    for (int i = 1; i <= 6; i++){\n",
        "        for (int j = i+1; j <= 7; j++) {\n",
        "            for (int k = j+1; k <= 8; k++) {\n",
        "                for (int l = k+1; l <=9; l++){\n",
        "                    if ((i+j+k+l) == 28) cout << i << j << k << l << endl;\n",
        "                }\n",
        "            }\n",
        "        }\n",
        "    }\n",
        "}"
      ],
      "metadata": {
        "id": "lP0VS2MwPhBi",
        "outputId": "9071c065-7777-40fb-ee7a-1486c0a7e0b4",
        "colab": {
          "base_uri": "https://localhost:8080/"
        }
      },
      "execution_count": null,
      "outputs": [
        {
          "output_type": "stream",
          "name": "stdout",
          "text": [
            "Overwriting temp.cpp\n"
          ]
        }
      ]
    },
    {
      "cell_type": "markdown",
      "source": [
        "# いまここ"
      ],
      "metadata": {
        "id": "8YLIeN6hS2mD"
      }
    },
    {
      "cell_type": "code",
      "source": [
        "# p.19 最近点対問題 closest pair of points\n",
        "# 正の整数 N と N 個の座標値 (x_i, y_i) (i = 0, 1, ¥cdots, N -1) が\n",
        "# 与えられます。最も距離が近い 2 点間の距離を求めて下さい。\n",
        "%%writefile temp.cpp\n",
        "#include <bits/stdc++.h>\n",
        "using namespace std;\n",
        "\n",
        "double calc_dist(double x1, double y1, double x2, double y2) {\n",
        "    return sqrt((x1 - x2) * (x1 - x2) + (y1 - y2) * (y1 - y2));\n",
        "}\n",
        "\n",
        "int main() {\n",
        "    int N; cin >> N;\n",
        "    cout << N << endl;\n",
        "    vector<double> x(N), y(N);\n",
        "    for (int i = 0; i < N; ++i) cin >> x[i] >> y[i];\n",
        "    \n",
        "    double minimum_dist = 100000000.0;\n",
        "    \n",
        "    for (int i = 0; i < N; ++i) {\n",
        "        for (int j = i + 1; j < N; ++j) {\n",
        "            double dist_i_j = calc_dist(x[i], y[i], x[j], y[j]);\n",
        "            cout << dist_i_j << endl;\n",
        "            if (dist_i_j < minimum_dist) {\n",
        "                minimum_dist = dist_i_j;\n",
        "            }\n",
        "        }\n",
        "    }\n",
        "    \n",
        "    cout << minimum_dist << endl;\n",
        "\n",
        "}"
      ],
      "metadata": {
        "id": "MIaRzK6-lBF3",
        "outputId": "086d4b18-ccee-4eed-fd0b-b7fb95493d5f",
        "colab": {
          "base_uri": "https://localhost:8080/"
        }
      },
      "execution_count": 22,
      "outputs": [
        {
          "output_type": "stream",
          "name": "stdout",
          "text": [
            "Overwriting temp.cpp\n"
          ]
        }
      ]
    },
    {
      "cell_type": "code",
      "source": [
        "!g++ temp.cpp; echo 3 0 0 3 4 1 1 |./a.out"
      ],
      "metadata": {
        "id": "Ko8Cr2cvSyzp",
        "outputId": "27fc3377-7b48-4510-96ce-c8d00a9167fc",
        "colab": {
          "base_uri": "https://localhost:8080/"
        }
      },
      "execution_count": 30,
      "outputs": [
        {
          "output_type": "stream",
          "name": "stdout",
          "text": [
            "3\n",
            "5\n",
            "1.41421\n",
            "3.60555\n",
            "1.41421\n"
          ]
        }
      ]
    },
    {
      "cell_type": "code",
      "source": [
        ""
      ],
      "metadata": {
        "id": "2av5cFzha2xq"
      },
      "execution_count": null,
      "outputs": []
    },
    {
      "cell_type": "code",
      "source": [
        "#include <iostream>\n",
        "#include <vector>\n",
        "using namespace std;\n",
        "\n",
        "int main() {\n",
        "    // ���Ϥ�������\n",
        "    int N, v;\n",
        "    cin >> N >> v;\n",
        "    vector<int> a(N);\n",
        "    for (int i = 0; i < N; ++i) cin >> a[i];\n",
        "    \n",
        "    // ����õ��\n",
        "    bool exist = false;   // ����ͤ� false ��\n",
        "    for (int i = 0; i < N; ++i) {\n",
        "        if (a[i] == v) {\n",
        "            exist = true;  // ���Ĥ��ä���ե饰��Ω�Ƥ�\n",
        "        }\n",
        "    }\n",
        "    \n",
        "    // ��̽���\n",
        "    if (exist) cout << \"Yes\" << endl;\n",
        "    else cout << \"No\" << endl;\n",
        "}"
      ],
      "metadata": {
        "id": "uRpuiEbwbEiK"
      },
      "execution_count": null,
      "outputs": []
    },
    {
      "cell_type": "code",
      "source": [
        ""
      ],
      "metadata": {
        "id": "Tmc0Kg7aa2rt"
      },
      "execution_count": null,
      "outputs": []
    },
    {
      "cell_type": "markdown",
      "source": [
        "# EOF"
      ],
      "metadata": {
        "id": "p6WfVFGeSzj1"
      }
    }
  ]
}