{
  "nbformat": 4,
  "nbformat_minor": 0,
  "metadata": {
    "colab": {
      "name": "chainer10cupy.ipynb",
      "provenance": [],
      "collapsed_sections": [],
      "include_colab_link": true
    },
    "kernelspec": {
      "display_name": "Python 3",
      "language": "python",
      "name": "python3"
    },
    "language_info": {
      "codemirror_mode": {
        "name": "ipython",
        "version": 3
      },
      "file_extension": ".py",
      "mimetype": "text/x-python",
      "name": "python",
      "nbconvert_exporter": "python",
      "pygments_lexer": "ipython3",
      "version": "3.7.2"
    }
  },
  "cells": [
    {
      "cell_type": "markdown",
      "metadata": {
        "id": "view-in-github",
        "colab_type": "text"
      },
      "source": [
        "<a href=\"https://colab.research.google.com/github/kalz2q/mycolabnotebooks/blob/master/chainer10cupy.ipynb\" target=\"_parent\"><img src=\"https://colab.research.google.com/assets/colab-badge.svg\" alt=\"Open In Colab\"/></a>"
      ]
    },
    {
      "cell_type": "markdown",
      "metadata": {
        "id": "tSJvLhTUgWvl"
      },
      "source": [
        "# CuPy 入門\n",
        "\n",
        "CuPy は NumPy と高い互換性を持つ数値計算ライブラリです。\n",
        "NumPy で提供されている多くの関数を NVIDIA GPU (Graphics Processing Unit) で実行することで簡単に高速化できるように設計されています。"
      ]
    },
    {
      "cell_type": "markdown",
      "metadata": {
        "id": "k2FRGBmucK2A"
      },
      "source": [
        "## GPU とは\n",
        "\n",
        "**GPU (graphics processing unit)** は 3D グラフィックスの描画や、画像処理を高速に計算できるように設計された演算装置です。\n",
        "一方、一般的な計算で使用される **CPU (central processing unit)** は、幅広く様々な処理で利用されることを想定して設計されています。\n",
        "そのため、GPU と CPU ではそれぞれ、得意な計算の種類が異なります。\n",
        "GPU は、条件分岐を多用するような複雑な計算には向かない一方、行列計算のようなシンプルな計算を大量に並列処理する必要がある場合は、CPU よりもはるかに高速な場合があります。\n",
        "\n",
        "特にディープラーニングでは行列計算を多く行うため、GPU との相性が良く、GPU を使用することでネットワークの訓練や推論を高速に行うことができます。\n"
      ]
    },
    {
      "cell_type": "markdown",
      "metadata": {
        "id": "cWgzSipKoBTP"
      },
      "source": [
        "## CuPy を使う準備\n",
        "\n",
        "CuPy を使用するには NVIDIA GPU が必要です。\n",
        "Colab ではノートブック上で GPU を使用することができます。\n",
        "こちらを参考に GPU を有効にしてください。参考：[GPU を使用する](https://tutorials.chainer.org/ja/01_Welcome_to_Chainer_Tutorial.html#GPU-%E3%82%92%E4%BD%BF%E7%94%A8%E3%81%99%E3%82%8B)\n",
        "\n",
        "CuPy は Colab 上にはデフォルトでインストールされているため、すぐに使い始めることができます。\n",
        "Google Colaboratory 以外の環境で使用する場合には、[CuPy の公式サイト](https://cupy.chainer.org/)を参考にインストールを行ってください。\n",
        "\n",
        "また、CuPy の基本的な使い方は NumPy とほとんど同じです。\n",
        "そのため NumPy の使い方を知っていれば、パッケージ名を `numpy` から `cupy` に置き換えるだけで、多くの関数が NumPy と同じ使い方で利用できます。"
      ]
    },
    {
      "cell_type": "markdown",
      "metadata": {
        "id": "2Rl3QazHFanu"
      },
      "source": [
        "## NumPy と CuPy の比較\n",
        "\n",
        "[単回帰分析と重回帰分析](https://tutorials.chainer.org/ja/07_Regression_Analysis.html)の章で説明を行った正規方程式による重みベクトルの計算を題材に、NumPy と CuPy との速度比較を行います。\n",
        "\n",
        "重回帰分析では以下の正規方程式を解いて重みベクトルを決定しました。\n",
        "\n",
        "$$\n",
        "{\\bf w} = ({\\bf X}^{T}{\\bf X})^{-1}{\\bf X}{\\bf t}\n",
        "$$\n",
        "\n",
        "この右辺の計算にかかる時間を、NumPy を用いる場合と、CuPy を用いる場合で比較します。\n",
        "\n",
        "まず最初に NumPy と CuPy の両モジュールを読み込みましょう。\n",
        "`numpy` モジュールを読み込む際に `np` という別名をつけて読み込むことが多いように、`cupy` はしばしば `cp` という別名をつけて読み込まれることが多いようです。"
      ]
    },
    {
      "cell_type": "code",
      "metadata": {
        "id": "YURsAS1Ljuyt"
      },
      "source": [
        "import numpy as np\n",
        "import cupy as cp"
      ],
      "execution_count": null,
      "outputs": []
    },
    {
      "cell_type": "markdown",
      "metadata": {
        "id": "Q-ZhP7Y0cSKB"
      },
      "source": [
        "本節では、入力値の数が大きくなっていくにつれて NumPy と CuPy の間にどのくらいパフォーマンスの違いが現れるのかを調べるために、乱数を用いて作成した人工データを使用します。具体的には、適当な乱数を値に持つ行列 `x` の形が、\n",
        "\n",
        "- `(10, 10)`\n",
        "- `(100, 100)`\n",
        "- `(1000, 1000)`\n",
        "- `(10000, 10000)`\n",
        "\n",
        "と 10 倍ずつ大きくなっていくにつれ、処理時間がどのように変化するかを調べます。"
      ]
    },
    {
      "cell_type": "markdown",
      "metadata": {
        "id": "knj7ez6ToBTV"
      },
      "source": [
        "## NumPy を使用した場合の処理時間測定\n",
        "\n",
        "まず、正規方程式の計算を `get_w_np()` という関数にまとめます。"
      ]
    },
    {
      "cell_type": "code",
      "metadata": {
        "id": "d2YptOp1fK79"
      },
      "source": [
        "def get_w_np(x, t):\n",
        "    xx = np.dot(x.T, x)\n",
        "    xx_inv = np.linalg.inv(xx)\n",
        "    xt = np.dot(x.T, t)\n",
        "    w = np.dot(xx_inv, xt)\n",
        "    return w"
      ],
      "execution_count": null,
      "outputs": []
    },
    {
      "cell_type": "markdown",
      "metadata": {
        "id": "trBEXG_LWWEA"
      },
      "source": [
        "次に、小さい行列を使って`get_w_np()` の動作を確認してみます。"
      ]
    },
    {
      "cell_type": "code",
      "metadata": {
        "id": "FmF0jszAJyMq",
        "colab": {
          "base_uri": "https://localhost:8080/",
          "height": 195
        },
        "outputId": "7e153f95-b8fd-4bf8-95de-cdf6161e500a"
      },
      "source": [
        "# 一番小さいサイズの行列の準備\n",
        "N = 10\n",
        "\n",
        "x = np.random.rand(N, N)\n",
        "t = np.random.rand(N, 1)\n",
        "w = get_w_np(x, t)\n",
        "\n",
        "# 求めた w を表示\n",
        "print(w)"
      ],
      "execution_count": null,
      "outputs": [
        {
          "output_type": "stream",
          "text": [
            "[[ 0.50049629]\n",
            " [ 0.86471569]\n",
            " [ 0.49414461]\n",
            " [-0.66620693]\n",
            " [-0.39075183]\n",
            " [ 0.14946165]\n",
            " [ 0.36332154]\n",
            " [-0.24633096]\n",
            " [ 0.4362624 ]\n",
            " [ 0.10785829]]\n"
          ],
          "name": "stdout"
        }
      ]
    },
    {
      "cell_type": "markdown",
      "metadata": {
        "id": "Gpk8Y9eyfdGh"
      },
      "source": [
        "エラーなく結果が出力されることが確認できたので、 小さい行列を使用した場合の `get_w_np()` の経過時間を計測します。\n",
        "経過時間の測定には `time` モジュールを使用します。"
      ]
    },
    {
      "cell_type": "code",
      "metadata": {
        "id": "Ia7ip4Ym8bFK"
      },
      "source": [
        "import time"
      ],
      "execution_count": null,
      "outputs": []
    },
    {
      "cell_type": "markdown",
      "metadata": {
        "id": "gVEL-X3P8gK5"
      },
      "source": [
        "`time.time()` を実行時間を計測したい処理の前後で呼び、その返り値の差をとることで、おおまかな実行時間を測ることができます。"
      ]
    },
    {
      "cell_type": "code",
      "metadata": {
        "id": "rezmiqptfK5c",
        "colab": {
          "base_uri": "https://localhost:8080/",
          "height": 35
        },
        "outputId": "c1b5414f-73c1-47eb-97d6-a1863873a12b"
      },
      "source": [
        "time_start = time.time()\n",
        "\n",
        "# - - - 処理 - - -\n",
        "w = get_w_np(x, t)\n",
        "# - - - - - - - - - \n",
        "\n",
        "time_end = time.time()\n",
        "\n",
        "elapsed_time = time_end - time_start  # 経過時間\n",
        "\n",
        "print('{:.5f} sec'.format(elapsed_time))"
      ],
      "execution_count": null,
      "outputs": [
        {
          "output_type": "stream",
          "text": [
            "0.00080 sec\n"
          ],
          "name": "stdout"
        }
      ]
    },
    {
      "cell_type": "markdown",
      "metadata": {
        "id": "_MyMOou-hx3e"
      },
      "source": [
        "次は、行列の形を大きくして処理時間を測定し、比較を行ってみましょう。"
      ]
    },
    {
      "cell_type": "code",
      "metadata": {
        "id": "GAL3R4HofKzk",
        "colab": {
          "base_uri": "https://localhost:8080/",
          "height": 88
        },
        "outputId": "9b8b931c-3216-4bef-cfb0-8ffb1f118129"
      },
      "source": [
        "times_cpu = []  # CPUの計算時間保存用\n",
        "\n",
        "for N in [10, 100, 1000, 10000]:\n",
        "    np.random.seed(0)\n",
        "    x = np.random.rand(N, N)\n",
        "    t = np.random.rand(N, 1)\n",
        "\n",
        "    time_start = time.time()\n",
        "\n",
        "    # - - - 処理 - - -\n",
        "    w = get_w_np(x, t)\n",
        "    # - - - - - - - - - \n",
        "\n",
        "    time_end = time.time()\n",
        "\n",
        "    elapsed_time = time_end - time_start  # 経過時間\n",
        "\n",
        "    print('N={:>5}:{:>8.5f} sec'.format(N, elapsed_time))\n",
        "    \n",
        "    times_cpu.append(elapsed_time)"
      ],
      "execution_count": null,
      "outputs": [
        {
          "output_type": "stream",
          "text": [
            "N=   10: 0.00012 sec\n",
            "N=  100: 0.00299 sec\n",
            "N= 1000: 0.19309 sec\n",
            "N=10000:138.90935 sec\n"
          ],
          "name": "stdout"
        }
      ]
    },
    {
      "cell_type": "markdown",
      "metadata": {
        "id": "ZrHZYZiStuED"
      },
      "source": [
        "行列の形が大きくなるにつれて、処理にかかる時間が大幅に増えていることがわかります。"
      ]
    },
    {
      "cell_type": "markdown",
      "metadata": {
        "id": "L4RX3nOPoBT0"
      },
      "source": [
        "## CuPy を使用した場合の処理時間測定\n",
        "\n",
        "次に CuPy を使用して同様の実験を行ってみます。\n",
        "\n",
        "最初に説明した通り、CuPy は NumPy と非常に互換性の高いインターフェースを持つように設計されています。\n",
        "そのため、ソースコード中の `np` を `cp` に置換するだけで計算を GPU 上で行うようコードに変更することができる場合もあります。\n",
        "\n",
        "それでは、CuPy を使って、重みベクトルを計算する一連の処理をまとめた `get_w_cp()` という関数を定義してみます。"
      ]
    },
    {
      "cell_type": "code",
      "metadata": {
        "id": "AYJ8Z_x9kfud"
      },
      "source": [
        "def get_w_cp(x, t):\n",
        "    xx = cp.dot(x.T, x)\n",
        "    xx_inv = cp.linalg.inv(xx)\n",
        "    xt = cp.dot(x.T, t)\n",
        "    w = cp.dot(xx_inv, xt)\n",
        "    return w"
      ],
      "execution_count": null,
      "outputs": []
    },
    {
      "cell_type": "markdown",
      "metadata": {
        "id": "nCSjxLE7MfyO"
      },
      "source": [
        "NumPy を使った関数 `get_w_np()` と CuPy を使った関数 `get_w_cp()` を見比べてみてください。\n",
        "`np` というパッケージ名（の別名）を `cp` と置き換えた以外、何の変更も行われていないことが分かります。\n",
        "これは、CuPy が NumPy と極めて高い互換性を保つように開発されているおかげです。\n",
        "\n",
        "それでは、まずはこの CuPy を用いて計算を行う `get_w_cp()` が、本当に `get_w_np()` と同じ計算を行っているのかを確認してみましょう。\n",
        "\n",
        "NumPy の関数の多くは、`np.ndarray` で表された多次元配列が与えられることが期待されています。\n",
        "同様に CuPy の関数の多くは、`cp.ndarray` が渡されることが期待されています。\n",
        "そこで、NumPy の `np.random.rand()` 関数を使って作成した `np.ndarray` を `cp.asarray()` を使って `cp.ndarray` に変換して用います。"
      ]
    },
    {
      "cell_type": "code",
      "metadata": {
        "id": "3wcclASqrKcx"
      },
      "source": [
        "# NumPy を用いた乱数生成\n",
        "N = 10\n",
        "x_np = np.random.rand(N, N)\n",
        "t_np = np.random.rand(N, 1)"
      ],
      "execution_count": null,
      "outputs": []
    },
    {
      "cell_type": "code",
      "metadata": {
        "id": "Ib3exaUatuEi"
      },
      "source": [
        "# NumPy の ndarray から CuPy の ndarray へ変換\n",
        "x_cp = cp.asarray(x_np)\n",
        "t_cp = cp.asarray(t_np)"
      ],
      "execution_count": null,
      "outputs": []
    },
    {
      "cell_type": "markdown",
      "metadata": {
        "id": "ME1DqHz0On14"
      },
      "source": [
        "入力の準備ができたので、`get_w_np()` と `get_w_cp()` を実行します。"
      ]
    },
    {
      "cell_type": "code",
      "metadata": {
        "id": "4_9_Jj3SWvmU"
      },
      "source": [
        "# NumPy\n",
        "w_np = get_w_np(x_np, t_np)\n",
        "\n",
        "# CuPy\n",
        "w_cp = get_w_cp(x_cp, t_cp)"
      ],
      "execution_count": null,
      "outputs": []
    },
    {
      "cell_type": "markdown",
      "metadata": {
        "id": "0MEpKmkRpKm-"
      },
      "source": [
        "結果を見比べてみましょう。"
      ]
    },
    {
      "cell_type": "code",
      "metadata": {
        "id": "MbSkpyQcoBUO",
        "colab": {
          "base_uri": "https://localhost:8080/",
          "height": 426
        },
        "outputId": "feef6d2d-b852-4920-ef43-151aa12cfd86"
      },
      "source": [
        "print('NumPy:\\n', w_np)\n",
        "print('\\nCuPy:\\n', w_cp)"
      ],
      "execution_count": null,
      "outputs": [
        {
          "output_type": "stream",
          "text": [
            "NumPy:\n",
            " [[ 3.10913241]\n",
            " [-4.32028319]\n",
            " [ 1.09894125]\n",
            " [ 1.63321226]\n",
            " [ 1.25977854]\n",
            " [-0.89789306]\n",
            " [-0.87023945]\n",
            " [ 1.09654016]\n",
            " [ 1.19753311]\n",
            " [-1.3647516 ]]\n",
            "\n",
            "CuPy:\n",
            " [[ 3.10913241]\n",
            " [-4.32028319]\n",
            " [ 1.09894125]\n",
            " [ 1.63321226]\n",
            " [ 1.25977854]\n",
            " [-0.89789306]\n",
            " [-0.87023945]\n",
            " [ 1.09654016]\n",
            " [ 1.19753311]\n",
            " [-1.3647516 ]]\n"
          ],
          "name": "stdout"
        }
      ]
    },
    {
      "cell_type": "markdown",
      "metadata": {
        "id": "bgZCAkw4oBUR"
      },
      "source": [
        "結果の数値は、小数点以下 8 桁までしか表示されていませんが、ほぼ同じになっていることが確認できました。\n",
        "CPU を用いて計算を行う NumPy と、GPU を用いて計算を行う CuPy で、同様の計算を行うことができました。\n",
        "\n",
        "それでは、前節と同様に CuPy でもデータサイズを大きくしていった際に処理時間がどのように変化するかを調べてみましょう。\n",
        "\n",
        "ここで、GPU 上で行われる計算の正しい実行時間を測定するには、`time.time()` の前に `cp.cuda.Stream.null.synchronize()` を実行する必要がある点に注意してください。\n",
        "GPU の処理は基本的に CPU での処理とは非同期に行われるため、CPU 上で動いている Python インタプリタが `time_end = time.time()` を実行する時点では必ずしもその前に始まった GPU 上での計算が全て終了しているとは限りません。\n",
        "しかし、`cp.cuda.Stream.null.synchronize()` を呼び出しておくことによって、GPU 上での処理が終わるまで待ってから、次の行へ処理を進めることができます。"
      ]
    },
    {
      "cell_type": "code",
      "metadata": {
        "id": "7aBZkAKzTsBt",
        "colab": {
          "base_uri": "https://localhost:8080/",
          "height": 88
        },
        "outputId": "26a350bc-6f29-4855-da41-3a38e2a51fb5"
      },
      "source": [
        "times_gpu = []  # GPUの計算時間保存用\n",
        "\n",
        "for N in [10, 100, 1000, 10000]:\n",
        "    cp.random.seed(0)\n",
        "    x = cp.random.rand(N, N)\n",
        "    t = cp.random.rand(N, 1)\n",
        "    \n",
        "    # GPU 上での処理が終わるのを待機\n",
        "    cp.cuda.Stream.null.synchronize()\n",
        "\n",
        "    time_start = time.time()\n",
        "    \n",
        "    # - - - 処理 - - -\n",
        "    w = get_w_cp(x, t)\n",
        "    # - - - - - - - - - \n",
        "    \n",
        "    # GPU 上での処理が終わるのを待機\n",
        "    cp.cuda.Stream.null.synchronize()\n",
        "    \n",
        "    time_end = time.time()\n",
        "    \n",
        "    elapsed_time = time_end - time_start  # 経過時間\n",
        "    \n",
        "    print('N={:>5}:{:>8.5f} sec'.format(N, elapsed_time))\n",
        "    \n",
        "    times_gpu.append(elapsed_time)"
      ],
      "execution_count": null,
      "outputs": [
        {
          "output_type": "stream",
          "text": [
            "N=   10: 0.00071 sec\n",
            "N=  100: 0.00332 sec\n",
            "N= 1000: 0.04541 sec\n",
            "N=10000: 5.17372 sec\n"
          ],
          "name": "stdout"
        }
      ]
    },
    {
      "cell_type": "markdown",
      "metadata": {
        "id": "r9DNxXC0YAZh"
      },
      "source": [
        "それでは NumPy と CuPy で、同サイズの配列を処理するのにどのくらい実行時間が異なっているのか、比較してみましょう。"
      ]
    },
    {
      "cell_type": "code",
      "metadata": {
        "id": "6hunJnOtuWMX",
        "colab": {
          "base_uri": "https://localhost:8080/",
          "height": 124
        },
        "outputId": "578289df-929b-48f9-d008-09117436145f"
      },
      "source": [
        "import tabulate\n",
        "\n",
        "# N ごとの実行時間の差\n",
        "N = [10, 100, 1000, 10000]\n",
        "times_cpu = np.asarray(times_cpu)\n",
        "times_gpu = np.asarray(times_gpu)\n",
        "ratio = ['{:.2f} x'.format(r) for r in times_cpu / times_gpu]\n",
        "\n",
        "# tabulate を用いてテーブルを作成\n",
        "table = tabulate.tabulate(\n",
        "    zip(N, times_cpu, times_gpu, ratio),\n",
        "    headers=['N', 'NumPyでの実行時間 (sec)', 'CuPy での実行時間 (sec)', '高速化倍率'])\n",
        "\n",
        "print(table)"
      ],
      "execution_count": null,
      "outputs": [
        {
          "output_type": "stream",
          "text": [
            "    N    NumPyでの実行時間 (sec)    CuPy での実行時間 (sec)  高速化倍率\n",
            "-----  -------------------------  -------------------------  ------------\n",
            "   10                0.000119925                 0.00071311  0.17 x\n",
            "  100                0.00298882                  0.00332189  0.90 x\n",
            " 1000                0.193091                    0.0454121   4.25 x\n",
            "10000              138.909                       5.17372     26.85 x\n"
          ],
          "name": "stdout"
        }
      ]
    },
    {
      "cell_type": "markdown",
      "metadata": {
        "id": "nc2IJv8v0yhU"
      },
      "source": [
        "この結果からわかる通り、配列のサイズが小さい（例えば $N=10$ のような場合）には、NumPy と CuPy の計算にほとんど違いがないか、もしくは NumPy の方が速い場合もあります。\n",
        "一方、配列が大きくなるほど、CuPy を使用した場合のアドバンテージが大きくなっていくことが分かります。\n",
        "\n",
        "Chainer では、デフォルトでは内部の計算に NumPy が使用され、GPU の使用を宣言した場合においては CuPy が使用されます。"
      ]
    }
  ]
}