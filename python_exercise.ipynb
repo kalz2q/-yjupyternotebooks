{
  "nbformat": 4,
  "nbformat_minor": 0,
  "metadata": {
    "colab": {
      "name": "python_exercise.ipynb",
      "provenance": [],
      "toc_visible": true,
      "authorship_tag": "ABX9TyNoJ+iexYCy2XrFXq7n+ay1",
      "include_colab_link": true
    },
    "kernelspec": {
      "name": "python3",
      "display_name": "Python 3"
    },
    "language_info": {
      "name": "python"
    }
  },
  "cells": [
    {
      "cell_type": "markdown",
      "metadata": {
        "id": "view-in-github",
        "colab_type": "text"
      },
      "source": [
        "<a href=\"https://colab.research.google.com/github/kalz2q/mycolabnotebooks/blob/master/python_exercise.ipynb\" target=\"_parent\"><img src=\"https://colab.research.google.com/assets/colab-badge.svg\" alt=\"Open In Colab\"/></a>"
      ]
    },
    {
      "cell_type": "markdown",
      "metadata": {
        "id": "aYq7NBCFIKqH"
      },
      "source": [
        "# メモ\n",
        "\n",
        "python 問題集\n",
        "\n",
        "をつくる。 colab ベース\n",
        "\n",
        "順不同\n",
        "\n",
        "* https://www.w3resource.com/python-exercises/\n",
        "\n",
        "* あのアルゴリズムはどこ？　Pythonを使用してAtCoderの緑色や水色を目指す方に、30以上のアルゴリズムスニペットと100問以上の問題（ACコード付き）を紹介！  \n",
        "https://qiita.com/H20/items/1a066e242815961cd043\n",
        "\n"
      ]
    },
    {
      "cell_type": "markdown",
      "metadata": {
        "id": "gM5BypBHgm-v"
      },
      "source": [
        "---\n",
        "問題 $\\quad$ サンプル文字列 (きらきら星) を出力例のように整形して出力する。\n",
        "\n",
        "サンプル文字列 : \"Twinkle, twinkle, little star, How I wonder what you are! Up above the world so high, Like a diamond in the sky. Twinkle, twinkle, little star, How I wonder what you are\" \n",
        "\n",
        "出力例 :\n",
        "```\n",
        "Twinkle, twinkle, little star,\n",
        "\tHow I wonder what you are! \n",
        "\t\tUp above the world so high,   \t\t\n",
        "\t\tLike a diamond in the sky. \n",
        "Twinkle, twinkle, little star, \n",
        "\tHow I wonder what you are\n",
        "```"
      ]
    },
    {
      "cell_type": "code",
      "metadata": {
        "id": "A5n50VLGiqNv",
        "colab": {
          "base_uri": "https://localhost:8080/"
        },
        "outputId": "c05bf822-1037-4018-a004-563ab2104b12"
      },
      "source": [
        "print(\"Twinkle, twinkle, little star, \\n\\tHow I wonder what you are! \\n\\t\\tUp above the world so high, \\n\\t\\tLike a diamond in the sky. \\nTwinkle, twinkle, little star, \\n\\tHow I wonder what you are!\")\n"
      ],
      "execution_count": null,
      "outputs": [
        {
          "output_type": "stream",
          "text": [
            "Twinkle, twinkle, little star, \n",
            "\tHow I wonder what you are! \n",
            "\t\tUp above the world so high, \n",
            "\t\tLike a diamond in the sky. \n",
            "Twinkle, twinkle, little star, \n",
            "\tHow I wonder what you are!\n"
          ],
          "name": "stdout"
        }
      ]
    },
    {
      "cell_type": "code",
      "metadata": {
        "id": "jSfIfLC4jEw8",
        "colab": {
          "base_uri": "https://localhost:8080/"
        },
        "outputId": "26252000-73c2-41b9-ace2-fc302e3d55dd"
      },
      "source": [
        "# アイデア\n",
        "# sample_string を 大文字で始まる文のリストに変換する\n",
        "# Twinkle のとき \\t の数 0\n",
        "# それ以外は順に \\t の数を増やすが max が 2 こ\n",
        "# リストを 1 行ずつ出力する\n",
        "import re\n",
        "sample_string =  \"Twinkle, twinkle, little star, How I wonder what you are! Up above the world so high, Like a diamond in the sky. Twinkle, twinkle, little star, How I wonder what you are\"\n",
        "\n",
        "strings = re.findall(r'[A-Z^I][a-zI ,.!]*', sample_string)\n",
        "head = \"\"\n",
        "for string in strings:\n",
        "    if string[0] == \"T\":\n",
        "        head = \"\"\n",
        "    else :\n",
        "        head = head+\"\\t\"\n",
        "        if len(head) >= 2 : head = \"\\t\\t\"\n",
        "    string = head + string\n",
        "    print (string)"
      ],
      "execution_count": null,
      "outputs": [
        {
          "output_type": "stream",
          "text": [
            "Twinkle, twinkle, little star, \n",
            "\tHow I wonder what you are! \n",
            "\t\tUp above the world so high, \n",
            "\t\tLike a diamond in the sky. \n",
            "Twinkle, twinkle, little star, \n",
            "\tHow I wonder what you are\n"
          ],
          "name": "stdout"
        }
      ]
    },
    {
      "cell_type": "markdown",
      "metadata": {
        "id": "yG9smrDUNHA4"
      },
      "source": [
        "---\n",
        "問題 $\\quad$ python のバージョンを出力する。"
      ]
    },
    {
      "cell_type": "code",
      "metadata": {
        "id": "yG67pSvANMHr",
        "colab": {
          "base_uri": "https://localhost:8080/"
        },
        "outputId": "15e869de-20f6-4e3a-a581-677ac99ddee8"
      },
      "source": [
        "import sys\n",
        "print(\"Python version\")\n",
        "print (sys.version)\n",
        "print(\"Version info.\")\n",
        "print (sys.version_info)\n"
      ],
      "execution_count": null,
      "outputs": [
        {
          "output_type": "stream",
          "text": [
            "Python version\n",
            "3.7.10 (default, May  3 2021, 02:48:31) \n",
            "[GCC 7.5.0]\n",
            "Version info.\n",
            "sys.version_info(major=3, minor=7, micro=10, releaselevel='final', serial=0)\n"
          ],
          "name": "stdout"
        }
      ]
    },
    {
      "cell_type": "code",
      "metadata": {
        "id": "sFRK6Yh_NP09",
        "colab": {
          "base_uri": "https://localhost:8080/"
        },
        "outputId": "cd25f603-281d-426a-81b5-ab2d08c07c63"
      },
      "source": [
        "!python --version"
      ],
      "execution_count": null,
      "outputs": [
        {
          "output_type": "stream",
          "text": [
            "Python 3.7.10\n"
          ],
          "name": "stdout"
        }
      ]
    },
    {
      "cell_type": "markdown",
      "metadata": {
        "id": "1HUQs9YUNlC4"
      },
      "source": [
        "---\n",
        "問題 $\\quad$ 現在の日付と時刻を出力する。"
      ]
    },
    {
      "cell_type": "code",
      "metadata": {
        "id": "x2ogSad6N0Ww",
        "colab": {
          "base_uri": "https://localhost:8080/"
        },
        "outputId": "f887490c-5ed3-45fa-dd3f-14c861697ab0"
      },
      "source": [
        "import datetime\n",
        "now = datetime.datetime.now()\n",
        "print (\"Current date and time : \")\n",
        "print (now.strftime(\"%Y-%m-%d %H:%M:%S\"))\n"
      ],
      "execution_count": null,
      "outputs": [
        {
          "output_type": "stream",
          "text": [
            "Current date and time : \n",
            "2021-05-15 08:49:26\n"
          ],
          "name": "stdout"
        }
      ]
    },
    {
      "cell_type": "markdown",
      "metadata": {
        "id": "lBXYXhHnOWhv"
      },
      "source": [
        "---\n",
        "問題 $\\quad$ 円の半径を受け取り、面積を出力する。\n",
        "\n",
        "円の面積 = $\\pi r^2$\n"
      ]
    },
    {
      "cell_type": "code",
      "metadata": {
        "id": "QObr6GRbPM9g",
        "colab": {
          "base_uri": "https://localhost:8080/"
        },
        "outputId": "9ed50597-5b4f-4465-9a43-d5cfdcbafc17"
      },
      "source": [
        "%%writefile temp.py\n",
        "from math import pi\n",
        "r = float(input ())\n",
        "print (\"The area of the circle with radius \" + str(r) + \" is: \" + str(pi * r**2))"
      ],
      "execution_count": null,
      "outputs": [
        {
          "output_type": "stream",
          "text": [
            "Writing temp.py\n"
          ],
          "name": "stdout"
        }
      ]
    },
    {
      "cell_type": "code",
      "metadata": {
        "id": "G9hSid6PPj3S",
        "colab": {
          "base_uri": "https://localhost:8080/"
        },
        "outputId": "c4d5e8b9-0495-4962-c926-510d78290fe4"
      },
      "source": [
        "!echo 3 | python temp.py"
      ],
      "execution_count": null,
      "outputs": [
        {
          "output_type": "stream",
          "text": [
            "The area of the circle with radius 3.0 is: 28.274333882308138\n"
          ],
          "name": "stdout"
        }
      ]
    },
    {
      "cell_type": "markdown",
      "metadata": {
        "id": "LC8_dWnLP95O"
      },
      "source": [
        "---\n",
        "問題 $\\quad$ 整数 $n,x,t$ を受け取り、$n$ を $x$で割って、小数点以下を切り上げて、$t$ 倍して返す。\n",
        "\n",
        "例 : 3 8 5 => 5\n"
      ]
    },
    {
      "cell_type": "code",
      "metadata": {
        "id": "GGW50Ua0Qyko",
        "colab": {
          "base_uri": "https://localhost:8080/"
        },
        "outputId": "b44c882d-f31c-4958-ed87-fc6340eab52b"
      },
      "source": [
        "%%writefile temp.py\n",
        "n,x,t = map(int, input().split())\n",
        "print(-(-n//x)*t)"
      ],
      "execution_count": null,
      "outputs": [
        {
          "output_type": "stream",
          "text": [
            "Overwriting temp.py\n"
          ],
          "name": "stdout"
        }
      ]
    },
    {
      "cell_type": "code",
      "metadata": {
        "id": "qefk8MfCRKdY",
        "colab": {
          "base_uri": "https://localhost:8080/"
        },
        "outputId": "af74669c-4ff0-43e4-c297-90da951098bd"
      },
      "source": [
        "! echo 3 8 5 | python temp.py"
      ],
      "execution_count": null,
      "outputs": [
        {
          "output_type": "stream",
          "text": [
            "5\n"
          ],
          "name": "stdout"
        }
      ]
    },
    {
      "cell_type": "markdown",
      "metadata": {
        "id": "0jemsXwqR-TO"
      },
      "source": [
        "---\n",
        "問題 $\\quad$ 名前と姓を入力し、姓、名の順に出力する。\n",
        "\n",
        "例: Dany Boon => Hello, Boon Dany!"
      ]
    },
    {
      "cell_type": "code",
      "metadata": {
        "id": "vz_9Xxg7SsRe",
        "colab": {
          "base_uri": "https://localhost:8080/"
        },
        "outputId": "a1caa202-1457-497b-d566-a67a3631961f"
      },
      "source": [
        "%%writefile temp.py\n",
        "firstname, lastname = input().split()\n",
        "print(\"Hello, {} {}!\".format(lastname,firstname))"
      ],
      "execution_count": null,
      "outputs": [
        {
          "output_type": "stream",
          "text": [
            "Overwriting temp.py\n"
          ],
          "name": "stdout"
        }
      ]
    },
    {
      "cell_type": "code",
      "metadata": {
        "id": "-1rxAsdiTBA2",
        "colab": {
          "base_uri": "https://localhost:8080/"
        },
        "outputId": "90772ead-3c09-48da-d00c-07b93526f394"
      },
      "source": [
        "! echo Dany Boon | python temp.py"
      ],
      "execution_count": null,
      "outputs": [
        {
          "output_type": "stream",
          "text": [
            "Hello, Boon Danny!\n"
          ],
          "name": "stdout"
        }
      ]
    },
    {
      "cell_type": "markdown",
      "metadata": {
        "id": "V_FIbVKeTa2h"
      },
      "source": [
        "---\n",
        "問題 $\\quad$ カンマで区切られた数字を受け取り、リストとタプルの形で出力する。\n",
        "\n",
        "例 : 3, 5, 7, 23"
      ]
    },
    {
      "cell_type": "code",
      "metadata": {
        "id": "GcoApujiTr0I",
        "colab": {
          "base_uri": "https://localhost:8080/"
        },
        "outputId": "3ac09f0b-74a5-429e-dbce-73da713cc960"
      },
      "source": [
        "%%writefile temp.py\n",
        "data = list(map(int,input().split(\",\")))\n",
        "print(data)\n",
        "print(tuple(data))"
      ],
      "execution_count": null,
      "outputs": [
        {
          "output_type": "stream",
          "text": [
            "Overwriting temp.py\n"
          ],
          "name": "stdout"
        }
      ]
    },
    {
      "cell_type": "code",
      "metadata": {
        "id": "_a9fYT6fT3Bz",
        "colab": {
          "base_uri": "https://localhost:8080/"
        },
        "outputId": "90e40070-2c7e-4100-ff6a-de2642e03f85"
      },
      "source": [
        "!echo 3,5,7,23 | python temp.py"
      ],
      "execution_count": null,
      "outputs": [
        {
          "output_type": "stream",
          "text": [
            "[3, 5, 7, 23]\n",
            "(3, 5, 7, 23)\n"
          ],
          "name": "stdout"
        }
      ]
    },
    {
      "cell_type": "markdown",
      "metadata": {
        "id": "YLlXoH0dZg76"
      },
      "source": [
        "---\n",
        "問題 $\\quad$ ファイル名を受け取り、拡張子を切り取って出力する。\n",
        "\n",
        "例 : abc.java\n"
      ]
    },
    {
      "cell_type": "code",
      "metadata": {
        "id": "hvBJ7uXZZuKy",
        "colab": {
          "base_uri": "https://localhost:8080/"
        },
        "outputId": "b4be1edf-3783-4584-99f8-517ded75d3ad"
      },
      "source": [
        "%%writefile temp.py\n",
        "filename = input()\n",
        "f_extns = filename.split(\".\")\n",
        "print (\"The extension of the file is : \" + repr(f_extns[-1]))"
      ],
      "execution_count": null,
      "outputs": [
        {
          "output_type": "stream",
          "text": [
            "Overwriting temp.py\n"
          ],
          "name": "stdout"
        }
      ]
    },
    {
      "cell_type": "code",
      "metadata": {
        "id": "IZ5-7J-OZz8Q",
        "colab": {
          "base_uri": "https://localhost:8080/"
        },
        "outputId": "3fe2da01-763a-41ae-9f5f-0070dc8b6982"
      },
      "source": [
        "!echo abc.java | python temp.py"
      ],
      "execution_count": null,
      "outputs": [
        {
          "output_type": "stream",
          "text": [
            "The extension of the file is : 'java'\n"
          ],
          "name": "stdout"
        }
      ]
    },
    {
      "cell_type": "markdown",
      "metadata": {
        "id": "Jy3mqCpnaEYy"
      },
      "source": [
        "メモ $\\quad$ repr() で引用符をつけている。\n",
        "\n",
        "`f_extns[-1]` としているのは this.is.filename.txt というようなファイル名対策。"
      ]
    },
    {
      "cell_type": "markdown",
      "metadata": {
        "id": "v8EdhYwmbifO"
      },
      "source": [
        "---\n",
        "問題 $\\quad$ リストの最初の項目と最後の項目を出力する。\n",
        "\n",
        "color_list = [\"Red\",\"Green\",\"White\" ,\"Black\"]"
      ]
    },
    {
      "cell_type": "code",
      "metadata": {
        "id": "2QhFsBMlbsLl",
        "colab": {
          "base_uri": "https://localhost:8080/"
        },
        "outputId": "73649d05-0a37-4570-824b-24933a8fa7af"
      },
      "source": [
        "color_list = [\"Red\",\"Green\",\"White\" ,\"Black\"]\n",
        "print( \"%s %s\"%(color_list[0],color_list[-1]))\n",
        "print( \"{} {}\".format(color_list[0],color_list[-1]))\n"
      ],
      "execution_count": null,
      "outputs": [
        {
          "output_type": "stream",
          "text": [
            "Red Black\n",
            "Red Black\n"
          ],
          "name": "stdout"
        }
      ]
    },
    {
      "cell_type": "markdown",
      "metadata": {
        "id": "p_26jAa7cQYR"
      },
      "source": [
        "---\n",
        "問題 $\\quad$ 入力例を出力例のフォーマットで出力する。\n",
        "\n",
        "exam_st_date = (11, 12, 2014)\n",
        "\n",
        "Sample Output: The examination will start from : 11 / 12 / 2014"
      ]
    },
    {
      "cell_type": "code",
      "metadata": {
        "id": "hiGu_1EVcfaQ",
        "colab": {
          "base_uri": "https://localhost:8080/"
        },
        "outputId": "d92bd73b-7b25-4795-c71e-8cea207e2eec"
      },
      "source": [
        "exam_st_date = (11,12,2014)\n",
        "print( \"The examination will start from : %i / %i / %i\"%exam_st_date)\n"
      ],
      "execution_count": null,
      "outputs": [
        {
          "output_type": "stream",
          "text": [
            "The examination will start from : 11 / 12 / 2014\n"
          ],
          "name": "stdout"
        }
      ]
    },
    {
      "cell_type": "code",
      "metadata": {
        "colab": {
          "base_uri": "https://localhost:8080/"
        },
        "id": "Kj9RG5hSj4zR",
        "outputId": "3da2d2ab-21ca-4955-950a-85853a5b5cb3"
      },
      "source": [
        "# 別解\n",
        "import re\n",
        "exam_st_date = \"(11,12,2014)\"\n",
        "exam_st_date = re.sub('[()]','',exam_st_date)\n",
        "exam_st_date = list(map(int,exam_st_date.split(',')))\n",
        "print( \"The examination will start from : {}/{}/{}\".format(exam_st_date[0],exam_st_date[1],exam_st_date[2]))"
      ],
      "execution_count": null,
      "outputs": [
        {
          "output_type": "stream",
          "text": [
            "The examination will start from : 11/12/2014\n"
          ],
          "name": "stdout"
        }
      ]
    },
    {
      "cell_type": "markdown",
      "metadata": {
        "id": "ho-7w976ofBu"
      },
      "source": [
        "---\n",
        "問題 $\\quad$ 整数 $n$ を受け取り、n+nn+nnn を返す。\n",
        "\n",
        "入力例 : 5 \n",
        "\n",
        "出力例 : 615\n",
        "\n",
        "5 + 55+ 555 => 15"
      ]
    },
    {
      "cell_type": "code",
      "metadata": {
        "colab": {
          "base_uri": "https://localhost:8080/"
        },
        "id": "cn4KboaqpHLz",
        "outputId": "34273112-0dea-42dc-f7dc-c73f26ac3163"
      },
      "source": [
        "%%writefile temp.py\n",
        "a = int(input())\n",
        "n1 = int( \"%s\" % a )\n",
        "n2 = int( \"%s%s\" % (a,a) )\n",
        "n3 = int( \"%s%s%s\" % (a,a,a) )\n",
        "print (n1+n2+n3)\n"
      ],
      "execution_count": null,
      "outputs": [
        {
          "output_type": "stream",
          "text": [
            "Overwriting temp.py\n"
          ],
          "name": "stdout"
        }
      ]
    },
    {
      "cell_type": "code",
      "metadata": {
        "colab": {
          "base_uri": "https://localhost:8080/"
        },
        "id": "Q6558F3fpNwV",
        "outputId": "44ddb57a-bb5b-442e-8759-ef6e98fdb04b"
      },
      "source": [
        "!echo 5 | python temp.py"
      ],
      "execution_count": null,
      "outputs": [
        {
          "output_type": "stream",
          "text": [
            "615\n"
          ],
          "name": "stdout"
        }
      ]
    },
    {
      "cell_type": "markdown",
      "metadata": {
        "id": "PBvZ8AHEqAWN"
      },
      "source": [
        "---\n",
        "問題 $\\quad$ 組み込み関数のドキュメントを出力する。\n",
        "\n",
        "入力例 : abs()\n"
      ]
    },
    {
      "cell_type": "code",
      "metadata": {
        "colab": {
          "base_uri": "https://localhost:8080/"
        },
        "id": "75bbDy2wqMxU",
        "outputId": "4de13e66-9972-4d25-9ec4-f14722f72ddb"
      },
      "source": [
        "print(abs.__doc__)"
      ],
      "execution_count": null,
      "outputs": [
        {
          "output_type": "stream",
          "text": [
            "Return the absolute value of the argument.\n"
          ],
          "name": "stdout"
        }
      ]
    },
    {
      "cell_type": "markdown",
      "metadata": {
        "id": "pLDVFgEHD_eI"
      },
      "source": [
        "---\n",
        "問題 $\\quad$ 年と月を読み込み、カレンダーを表示する。"
      ]
    },
    {
      "cell_type": "code",
      "metadata": {
        "id": "fy0E7bSrEaeO",
        "colab": {
          "base_uri": "https://localhost:8080/"
        },
        "outputId": "5b053d32-ce8f-48c5-b3ba-b16551808044"
      },
      "source": [
        "%%writefile temp.py\n",
        "import calendar\n",
        "y,m = map(int, input().split())\n",
        "print(calendar.month(y, m))"
      ],
      "execution_count": null,
      "outputs": [
        {
          "output_type": "stream",
          "text": [
            "Writing temp.py\n"
          ],
          "name": "stdout"
        }
      ]
    },
    {
      "cell_type": "code",
      "metadata": {
        "id": "CmC-4194FMML",
        "colab": {
          "base_uri": "https://localhost:8080/"
        },
        "outputId": "d3208d49-5437-41ca-f631-1e8c210bd014"
      },
      "source": [
        "!echo 2021 5 | python temp.py"
      ],
      "execution_count": null,
      "outputs": [
        {
          "output_type": "stream",
          "text": [
            "      May 2021\n",
            "Mo Tu We Th Fr Sa Su\n",
            "                1  2\n",
            " 3  4  5  6  7  8  9\n",
            "10 11 12 13 14 15 16\n",
            "17 18 19 20 21 22 23\n",
            "24 25 26 27 28 29 30\n",
            "31\n",
            "\n"
          ],
          "name": "stdout"
        }
      ]
    },
    {
      "cell_type": "markdown",
      "metadata": {
        "id": "2rXDkT1gFRHj"
      },
      "source": [
        "---\n",
        "問題 $\\quad$ 次のヒアドキュメントを出力する。\n",
        "\n",
        "入力例 :\n",
        "```\n",
        "a string that you \"don't\" have to escape\n",
        "This\n",
        "is a ....... multi-line\n",
        "heredoc string --------> example\n",
        "```"
      ]
    },
    {
      "cell_type": "code",
      "metadata": {
        "id": "QsjvvG9HFlWC",
        "colab": {
          "base_uri": "https://localhost:8080/"
        },
        "outputId": "f15cc117-c5f0-4ebb-928f-9221610bb22b"
      },
      "source": [
        "print(\"\"\"\n",
        "a string that you \"don't\" have to escape\n",
        "This\n",
        "is a  ....... multi-line\n",
        "heredoc string --------> example\n",
        "\"\"\")"
      ],
      "execution_count": null,
      "outputs": [
        {
          "output_type": "stream",
          "text": [
            "\n",
            "a string that you \"don't\" have to escape\n",
            "This\n",
            "is a  ....... multi-line\n",
            "heredoc string --------> example\n",
            "\n"
          ],
          "name": "stdout"
        }
      ]
    },
    {
      "cell_type": "markdown",
      "metadata": {
        "id": "mNQJzjrsHXVi"
      },
      "source": [
        "---\n",
        "問題 $\\quad$ 年、月、日を 2 つ読み込み、その間の日数を算出する。\n",
        "\n",
        "入力例 : 2014 7 2 2014 7 11\n",
        "\n",
        "出力例 : 9 \n",
        "\n"
      ]
    },
    {
      "cell_type": "code",
      "metadata": {
        "id": "dBd8kG5dIHZ5",
        "colab": {
          "base_uri": "https://localhost:8080/"
        },
        "outputId": "afab657f-9445-483b-93c0-f5d543df90c7"
      },
      "source": [
        "%%writefile temp.py\n",
        "from datetime import date\n",
        "y,m,d,y1,m1,d1 = map(int, input().split())\n",
        "f_date = date(y,m,d)\n",
        "l_date = date(y1,m1,d1)\n",
        "delta = l_date - f_date\n",
        "print(delta.days)\n"
      ],
      "execution_count": null,
      "outputs": [
        {
          "output_type": "stream",
          "text": [
            "Overwriting temp.py\n"
          ],
          "name": "stdout"
        }
      ]
    },
    {
      "cell_type": "code",
      "metadata": {
        "id": "ZgYCsGcOIxaM",
        "colab": {
          "base_uri": "https://localhost:8080/"
        },
        "outputId": "38110d04-43eb-42a4-a821-c8747a54b0f6"
      },
      "source": [
        "!echo 2014 7 2 2014 7 11 | python temp.py"
      ],
      "execution_count": null,
      "outputs": [
        {
          "output_type": "stream",
          "text": [
            "9\n"
          ],
          "name": "stdout"
        }
      ]
    },
    {
      "cell_type": "markdown",
      "metadata": {
        "id": "dhRDTPkaIqD4"
      },
      "source": [
        "---\n",
        "問題 $\\quad$ 半径を 6 とした時の球の体積を求める。\n",
        "\n",
        "球の体積 : $\\displaystyle V = \\frac 4 3 \\times \\pi \\times r^3 = \\pi \\times \\frac{d^3}{6}$\n",
        "\n",
        "* $r =$ 半径\n",
        "* $d =$ 直径\n",
        "\n",
        "\n",
        "\n",
        "\n"
      ]
    },
    {
      "cell_type": "code",
      "metadata": {
        "id": "Hxo-EpxWJ0xh",
        "colab": {
          "base_uri": "https://localhost:8080/"
        },
        "outputId": "43f8f70c-64c1-4f62-df7d-3631e7a711ea"
      },
      "source": [
        "import math\n",
        "r= 6.0\n",
        "V= 4.0 / 3.0 * math.pi * r**3\n",
        "print('The volume of the sphere is: ',V)\n"
      ],
      "execution_count": null,
      "outputs": [
        {
          "output_type": "stream",
          "text": [
            "The volume of the sphere is:  904.7786842338603\n"
          ],
          "name": "stdout"
        }
      ]
    },
    {
      "cell_type": "markdown",
      "metadata": {
        "id": "SRpgWxXIL713"
      },
      "source": [
        "---\n",
        "問題 $\\quad$ 条件文 if 文を使う。 $n$ が 17 以下ならば 17 との差、17 よりも大きければ、17 との差を 2 乗したものを返す。\n",
        "\n",
        "入力例 : 22 17"
      ]
    },
    {
      "cell_type": "code",
      "metadata": {
        "id": "jKZRZ_taJ1uY",
        "colab": {
          "base_uri": "https://localhost:8080/"
        },
        "outputId": "82ba1e3e-e264-493e-d19f-21ff8f0eaeb9"
      },
      "source": [
        "def difference(n):\n",
        "    if n <= 17:\n",
        "        return 17 - n\n",
        "    else:\n",
        "        return (n - 17) ** 2 \n",
        "\n",
        "print(difference(22))\n",
        "print(difference(14))\n"
      ],
      "execution_count": null,
      "outputs": [
        {
          "output_type": "stream",
          "text": [
            "25\n",
            "3\n"
          ],
          "name": "stdout"
        }
      ]
    },
    {
      "cell_type": "markdown",
      "metadata": {
        "id": "4IUWw06OMl-Q"
      },
      "source": [
        "---\n",
        "問題 $\\quad$ $n$ と 1000 または 2000 との差の絶対値が 100 以下かどうかを返す。\n"
      ]
    },
    {
      "cell_type": "code",
      "metadata": {
        "id": "aMaQPkhfNPxO",
        "colab": {
          "base_uri": "https://localhost:8080/"
        },
        "outputId": "58ba230d-d9c9-4bdf-b2cd-a63bfe3ccdeb"
      },
      "source": [
        "def near_thousand(n):\n",
        "      return ((abs(1000 - n) <= 100) or (abs(2000 - n) <= 100))\n",
        "print(near_thousand(1000))\n",
        "print(near_thousand(900))\n",
        "print(near_thousand(800))   \n",
        "print(near_thousand(2200))\n"
      ],
      "execution_count": null,
      "outputs": [
        {
          "output_type": "stream",
          "text": [
            "True\n",
            "True\n",
            "False\n",
            "False\n"
          ],
          "name": "stdout"
        }
      ]
    },
    {
      "cell_type": "markdown",
      "metadata": {
        "id": "u-sGZb5MNSbt"
      },
      "source": [
        "---\n",
        "問題 $\\quad$ $x,y,z$ の合計を計算する。 $x,y,z$ がすべて等しい時は合計を 3 倍して返す。\n"
      ]
    },
    {
      "cell_type": "code",
      "metadata": {
        "id": "NDOiEXrnOsNE",
        "colab": {
          "base_uri": "https://localhost:8080/"
        },
        "outputId": "c769521e-86e2-4cfd-e3b6-8531d7efbb40"
      },
      "source": [
        "def sum_thrice(x, y, z):\n",
        "     sum = x + y + z\n",
        "     if x == y == z:\n",
        "      sum = sum * 3\n",
        "     return sum\n",
        "print(sum_thrice(1, 2, 3))\n",
        "print(sum_thrice(3, 3, 3))\n"
      ],
      "execution_count": null,
      "outputs": [
        {
          "output_type": "stream",
          "text": [
            "6\n",
            "27\n"
          ],
          "name": "stdout"
        }
      ]
    },
    {
      "cell_type": "markdown",
      "metadata": {
        "id": "yDoHXdKkOtIk"
      },
      "source": [
        "---\n",
        "問題 $\\quad$ 与えられた文字列の頭に \"Is\" を加えて返す。 もし、すでに文字列が \"Is\" で始まっていたら、なにもせずに返す。\n",
        "\n"
      ]
    },
    {
      "cell_type": "code",
      "metadata": {
        "id": "r6BpjrInPnw5",
        "colab": {
          "base_uri": "https://localhost:8080/"
        },
        "outputId": "0c6dceb6-fd28-4c62-c9a6-3fb443c325db"
      },
      "source": [
        "def new_string(str):\n",
        "  if len(str) >= 2 and str[:2] == \"Is\":\n",
        "    return str\n",
        "  return \"Is\" + str\n",
        "\n",
        "print(new_string(\"Array\"))\n",
        "print(new_string(\"IsEmpty\"))\n",
        "print(new_string(\"\"))"
      ],
      "execution_count": null,
      "outputs": [
        {
          "output_type": "stream",
          "text": [
            "IsArray\n",
            "IsEmpty\n",
            "Is\n"
          ],
          "name": "stdout"
        }
      ]
    },
    {
      "cell_type": "markdown",
      "metadata": {
        "id": "xWdlU_tePoUs"
      },
      "source": [
        "---\n",
        "問題 $\\quad$ 文字列 $str$ を $n$ 回繰返した結果を返す。\n"
      ]
    },
    {
      "cell_type": "code",
      "metadata": {
        "id": "pYVcLg96QbOF",
        "colab": {
          "base_uri": "https://localhost:8080/"
        },
        "outputId": "3e901605-6225-43a4-8385-873e5433e4d9"
      },
      "source": [
        "def larger_string(str, n):\n",
        "   result = \"\"\n",
        "   for i in range(n):\n",
        "      result = result + str\n",
        "   return result\n",
        "\n",
        "print(larger_string('abc', 2))\n",
        "print(larger_string('.py', 3))\n"
      ],
      "execution_count": null,
      "outputs": [
        {
          "output_type": "stream",
          "text": [
            "abcabc\n",
            ".py.py.py\n"
          ],
          "name": "stdout"
        }
      ]
    },
    {
      "cell_type": "markdown",
      "metadata": {
        "id": "eCCbIeMlQbu7"
      },
      "source": [
        "---\n",
        "問題 $\\quad$ 標準入力から 整数 $n$ を得て、偶数かどうかを判定して返す。\n"
      ]
    },
    {
      "cell_type": "code",
      "metadata": {
        "id": "5qTm3amPQzx4",
        "colab": {
          "base_uri": "https://localhost:8080/"
        },
        "outputId": "f7350759-8535-4655-8a34-d6df8551c891"
      },
      "source": [
        "%%writefile temp.py\n",
        "num = int(float(input()))\n",
        "mod = num % 2\n",
        "if mod > 0:\n",
        "    print(\"This is an odd number.\")\n",
        "else:\n",
        "    print(\"This is an even number.\")"
      ],
      "execution_count": null,
      "outputs": [
        {
          "output_type": "stream",
          "text": [
            "Overwriting temp.py\n"
          ],
          "name": "stdout"
        }
      ]
    },
    {
      "cell_type": "code",
      "metadata": {
        "id": "W-C4tns4RHrn",
        "colab": {
          "base_uri": "https://localhost:8080/"
        },
        "outputId": "c0242be3-6cc2-454a-b73a-8d742da72a7f"
      },
      "source": [
        "!echo 3 | python temp.py"
      ],
      "execution_count": null,
      "outputs": [
        {
          "output_type": "stream",
          "text": [
            "This is an odd number.\n"
          ],
          "name": "stdout"
        }
      ]
    },
    {
      "cell_type": "markdown",
      "metadata": {
        "id": "Y-bt5Dj0Re26"
      },
      "source": [
        "---\n",
        "問題 $\\quad$ 与えられたリストに 4 がいくつあるか数える。\n"
      ]
    },
    {
      "cell_type": "code",
      "metadata": {
        "id": "u81tEuI_R7hh",
        "colab": {
          "base_uri": "https://localhost:8080/"
        },
        "outputId": "e9d06d83-6290-4573-849f-c474a07967d8"
      },
      "source": [
        "def list_count_4(nums):\n",
        "  count = 0  \n",
        "  for num in nums:\n",
        "    if num == 4:\n",
        "      count = count + 1\n",
        "\n",
        "  return count\n",
        "\n",
        "print(list_count_4([1, 4, 6, 7, 4]))\n",
        "print(list_count_4([1, 4, 6, 4, 7, 4]))"
      ],
      "execution_count": null,
      "outputs": [
        {
          "output_type": "stream",
          "text": [
            "2\n",
            "3\n"
          ],
          "name": "stdout"
        }
      ]
    },
    {
      "cell_type": "markdown",
      "metadata": {
        "id": "ifl8TwWGSMnR"
      },
      "source": [
        "--- \n",
        "問題 $\\quad$ 文字列 $str$ と正の整数 $n$ から、文字列の最初の 2 文字を $n$ 回繰返したものを返す。 文字列の長さが $n$ よりも短い場合は文字列全体を $n$ 回繰り返す。\n"
      ]
    },
    {
      "cell_type": "code",
      "metadata": {
        "id": "4sEnop5SSdgo",
        "colab": {
          "base_uri": "https://localhost:8080/"
        },
        "outputId": "748c4bed-b37f-4d1f-ec00-963d6c7aae82"
      },
      "source": [
        "def substring_copy(str, n):\n",
        "  flen = 2\n",
        "  if flen > len(str):\n",
        "    flen = len(str)\n",
        "  substr = str[:flen]\n",
        "  \n",
        "  result = \"\"\n",
        "  for i in range(n):\n",
        "    result = result + substr\n",
        "  return result\n",
        "print(substring_copy('abcdef', 2))\n",
        "print(substring_copy('p', 3))\n",
        "print(substring_copy('abc', 5))"
      ],
      "execution_count": null,
      "outputs": [
        {
          "output_type": "stream",
          "text": [
            "abab\n",
            "ppp\n",
            "ababababab\n",
            "\n"
          ],
          "name": "stdout"
        }
      ]
    },
    {
      "cell_type": "code",
      "metadata": {
        "id": "10i0hisRSeNo",
        "colab": {
          "base_uri": "https://localhost:8080/"
        },
        "outputId": "a7626d13-af53-41b6-c61d-257e4774ea91"
      },
      "source": [
        "# 実験\n",
        "def substring_copy(str, n):\n",
        "  flen = 2\n",
        "  if flen > len(str):\n",
        "    flen = len(str)\n",
        "  substr = str[:flen]\n",
        "  return substr*n\n",
        "print(substring_copy('abcdef', 2))\n",
        "print(substring_copy('p', 3))\n",
        "print(substring_copy('abc', 5))"
      ],
      "execution_count": null,
      "outputs": [
        {
          "output_type": "stream",
          "text": [
            "abab\n",
            "ppp\n",
            "ababababab\n",
            "\n"
          ],
          "name": "stdout"
        }
      ]
    },
    {
      "cell_type": "markdown",
      "metadata": {
        "id": "PtROjDJ0T9cI"
      },
      "source": [
        "---\n",
        "問題 $\\quad$ 文字 $char$ が母音かどうかを判定する。"
      ]
    },
    {
      "cell_type": "code",
      "metadata": {
        "id": "9n4T7NrbVvsH",
        "colab": {
          "base_uri": "https://localhost:8080/"
        },
        "outputId": "11f7391c-27c9-4a93-8fc5-c7cb9120709b"
      },
      "source": [
        "def is_vowel(char):\n",
        "    all_vowels = 'aeiou'\n",
        "    return char in all_vowels\n",
        "print(is_vowel('c'))\n",
        "print(is_vowel('e'))\n"
      ],
      "execution_count": null,
      "outputs": [
        {
          "output_type": "stream",
          "text": [
            "False\n",
            "True\n"
          ],
          "name": "stdout"
        }
      ]
    },
    {
      "cell_type": "markdown",
      "metadata": {
        "id": "UmiB8giYVwZ-"
      },
      "source": [
        "---\n",
        "問題 $\\quad$ 要素がリストの元かどうかを返す。\n"
      ]
    },
    {
      "cell_type": "code",
      "metadata": {
        "id": "E72OKlZsV7My",
        "colab": {
          "base_uri": "https://localhost:8080/"
        },
        "outputId": "232a8306-5ae4-41ce-b30c-2c676db6bf4c"
      },
      "source": [
        "def is_group_member(group_data, n):\n",
        "    for value in group_data:\n",
        "        if n == value:\n",
        "            return True\n",
        "    return False\n",
        "    \n",
        "print(is_group_member([1, 5, 8, 3], 3))\n",
        "print(is_group_member([5, 8, 3], -1))\n"
      ],
      "execution_count": null,
      "outputs": [
        {
          "output_type": "stream",
          "text": [
            "True\n",
            "False\n"
          ],
          "name": "stdout"
        }
      ]
    },
    {
      "cell_type": "code",
      "metadata": {
        "id": "Iz9AuriFWLWW",
        "colab": {
          "base_uri": "https://localhost:8080/"
        },
        "outputId": "ef83034a-b166-45de-9c05-9cdbb8b39915"
      },
      "source": [
        "# 実験\n",
        "print(3 in [1, 5, 8, 3])\n",
        "print(-1 in [5, 8, 3])"
      ],
      "execution_count": null,
      "outputs": [
        {
          "output_type": "stream",
          "text": [
            "True\n",
            "False\n"
          ],
          "name": "stdout"
        }
      ]
    },
    {
      "cell_type": "markdown",
      "metadata": {
        "id": "urkmvU8cXy6e"
      },
      "source": [
        "---\n",
        "問題 $\\quad$ 整数のリストからヒストグラムを作る。\n"
      ]
    },
    {
      "cell_type": "code",
      "metadata": {
        "id": "bmmCdGobX9iK",
        "colab": {
          "base_uri": "https://localhost:8080/"
        },
        "outputId": "f6670aeb-c4ab-4b1d-9e47-7873a7d1d3c0"
      },
      "source": [
        "def histogram( items ):\n",
        "    for n in items:\n",
        "        output = ''\n",
        "        times = n\n",
        "        while( times > 0 ):\n",
        "          output += '*'\n",
        "          times = times - 1\n",
        "        print(output)\n",
        "\n",
        "histogram([2, 3, 6, 5])\n"
      ],
      "execution_count": null,
      "outputs": [
        {
          "output_type": "stream",
          "text": [
            "**\n",
            "***\n",
            "******\n",
            "*****\n"
          ],
          "name": "stdout"
        }
      ]
    },
    {
      "cell_type": "code",
      "metadata": {
        "id": "VnfSXpqxX-G0",
        "colab": {
          "base_uri": "https://localhost:8080/",
          "height": 265
        },
        "outputId": "4aba1bca-4768-45c6-a5eb-534cf970cd89"
      },
      "source": [
        "# 実験\n",
        "import matplotlib.pyplot as plt\n",
        "fig = plt.figure(figsize=(6,4))\n",
        "ax = fig.add_subplot()\n",
        "x = [2,2,4,4,4,4,6,6,6,6,6,6,5,5,5,5,5,5,5,5]\n",
        "ax.hist(x)\n",
        "plt.show()"
      ],
      "execution_count": null,
      "outputs": [
        {
          "output_type": "display_data",
          "data": {
            "image/png": "[encoded data removed]",
            "text/plain": [
              "<Figure size 432x288 with 1 Axes>"
            ]
          },
          "metadata": {
            "tags": [],
            "needs_background": "light"
          }
        }
      ]
    },
    {
      "cell_type": "markdown",
      "metadata": {
        "id": "U0iySAsHZQv8"
      },
      "source": [
        "---\n",
        "問題 $\\quad$ リストの要素をすべて文字列にして連結 concatenate する。"
      ]
    },
    {
      "cell_type": "code",
      "metadata": {
        "id": "KUQZ6IM9Z0Iz",
        "colab": {
          "base_uri": "https://localhost:8080/"
        },
        "outputId": "07dc064c-e403-4e82-97b5-850b47034c59"
      },
      "source": [
        "def concatenate_list_data(list):\n",
        "    result= ''\n",
        "    for element in list:\n",
        "        result += str(element)\n",
        "    return result\n",
        "\n",
        "print(concatenate_list_data([1, 5, 12, 2]))\n"
      ],
      "execution_count": null,
      "outputs": [
        {
          "output_type": "stream",
          "text": [
            "15122\n"
          ],
          "name": "stdout"
        }
      ]
    },
    {
      "cell_type": "code",
      "metadata": {
        "id": "SGmC5RyeZ0rk",
        "colab": {
          "base_uri": "https://localhost:8080/"
        },
        "outputId": "ef97d4c2-e0b9-4aac-d5ee-7983fc9746f6"
      },
      "source": [
        "# 実験\n",
        "%%writefile temp.py\n",
        "from functools import reduce\n",
        "listdata = reduce(lambda a,b: a+b,input().split())\n",
        "print(listdata)"
      ],
      "execution_count": null,
      "outputs": [
        {
          "output_type": "stream",
          "text": [
            "Overwriting temp.py\n"
          ],
          "name": "stdout"
        }
      ]
    },
    {
      "cell_type": "code",
      "metadata": {
        "id": "2IIwVoaQa0vs",
        "colab": {
          "base_uri": "https://localhost:8080/"
        },
        "outputId": "b74d2715-abb4-4afd-a381-98d71f450979"
      },
      "source": [
        "!echo 1 5 12 and 2 | python temp.py"
      ],
      "execution_count": null,
      "outputs": [
        {
          "output_type": "stream",
          "text": [
            "1512and2\n"
          ],
          "name": "stdout"
        }
      ]
    },
    {
      "cell_type": "markdown",
      "metadata": {
        "id": "w5w2BNPNb4EU"
      },
      "source": [
        "---\n",
        "問題 $\\quad$ 数字のリストから偶数だけを元のリストの順番に出力する。 ただし値が 237 で終了する。\n",
        "\n",
        "入力例 :\n",
        "\n",
        "numbers = [   \n",
        "    386, 462, 47, 418, 907, 344, 236, 375, 823, 566, 597, 978, 328, 615, 953, 345,   \n",
        "    399, 162, 758, 219, 918, 237, 412, 566, 826, 248, 866, 950, 626, 949, 687, 217,   \n",
        "    815, 67, 104, 58, 512, 24, 892, 894, 767, 553, 81, 379, 843, 831, 445, 742, 717,   \n",
        "    958,743, 527  \n",
        "    ]"
      ]
    },
    {
      "cell_type": "code",
      "metadata": {
        "id": "2wNGMoYocITj",
        "colab": {
          "base_uri": "https://localhost:8080/"
        },
        "outputId": "b1b359ef-312a-4d15-ba50-fbb71d51ea14"
      },
      "source": [
        "numbers = [    \n",
        "    386, 462, 47, 418, 907, 344, 236, 375, 823, 566, 597, 978, 328, 615, 953, 345, \n",
        "    399, 162, 758, 219, 918, 237, 412, 566, 826, 248, 866, 950, 626, 949, 687, 217, \n",
        "    815, 67, 104, 58, 512, 24, 892, 894, 767, 553, 81, 379, 843, 831, 445, 742, 717, \n",
        "    958,743, 527\n",
        "    ]\n",
        "\n",
        "for x in numbers:\n",
        "    if x == 237:\n",
        "        print(x)\n",
        "        break;\n",
        "    elif x % 2 == 0:\n",
        "        print(x)\n",
        "\t\t"
      ],
      "execution_count": null,
      "outputs": [
        {
          "output_type": "stream",
          "text": [
            "386\n",
            "462\n",
            "418\n",
            "344\n",
            "236\n",
            "566\n",
            "978\n",
            "328\n",
            "162\n",
            "758\n",
            "918\n",
            "237\n"
          ],
          "name": "stdout"
        }
      ]
    },
    {
      "cell_type": "code",
      "metadata": {
        "id": "PQbN2UtTcJIZ"
      },
      "source": [
        "# 実験 できるだけ関数型プログラミング風に書く\n",
        "numbers = [    \n",
        "    386, 462, 47, 418, 907, 344, 236, 375, 823, 566, 597, 978, 328, 615, 953, 345, \n",
        "    399, 162, 758, 219, 918, 237, 412, 566, 826, 248, 866, 950, 626, 949, 687, 217, \n",
        "    815, 67, 104, 58, 512, 24, 892, 894, 767, 553, 81, 379, 843, 831, 445, 742, 717, \n",
        "    958,743, 527\n",
        "    ]\n",
        "\n",
        "if 237 in numbers :\n",
        "    numbers = numbers[:numbers.index(237)]\n",
        "    numbers = [n for n in numbers if n % 2 == 0] + [237]\n",
        "else :\n",
        "    numbers = [n for n in numbers if n % 2 == 0]\n",
        "\n",
        "for n in numbers:\n",
        "    print(n)\n"
      ],
      "execution_count": null,
      "outputs": []
    },
    {
      "cell_type": "markdown",
      "metadata": {
        "id": "pk1UuAbEdNrh"
      },
      "source": [
        "---\n",
        "問題 $\\quad$ color_list_1 にあって、color_list_2 にないものの集合を出力する。\n",
        "\n",
        "テストデータ :  \n",
        "color_list_1 = set([\"White\", \"Black\", \"Red\"])  \n",
        "color_list_2 = set([\"Red\", \"Green\"])  \n",
        "\n",
        "出力 :\n",
        "{'Black', 'White'}\n"
      ]
    },
    {
      "cell_type": "code",
      "metadata": {
        "colab": {
          "base_uri": "https://localhost:8080/"
        },
        "id": "ccYeMIlyvFN5",
        "outputId": "210e5b4c-b9f7-445f-fb5f-960209f85ba7"
      },
      "source": [
        "color_list_1 = set([\"White\", \"Black\", \"Red\"])\n",
        "color_list_2 = set([\"Red\", \"Green\"])\n",
        "\n",
        "print(color_list_1.difference(color_list_2))\n",
        "\n",
        "print()\n",
        "print(color_list_1.union(color_list_2))\n",
        "print(color_list_1.intersection(color_list_2))\n",
        "print(color_list_2.difference(color_list_1))\n"
      ],
      "execution_count": null,
      "outputs": [
        {
          "output_type": "stream",
          "text": [
            "{'White', 'Black'}\n",
            "\n",
            "{'Green', 'White', 'Black', 'Red'}\n",
            "{'Red'}\n",
            "{'Green'}\n"
          ],
          "name": "stdout"
        }
      ]
    },
    {
      "cell_type": "markdown",
      "metadata": {
        "id": "JXXNlvtNvF_S"
      },
      "source": [
        "---\n",
        "問題 $\\quad$ 三角形の底辺 $b$ と高さ $h$ を受け取り面積を計算する。\n"
      ]
    },
    {
      "cell_type": "code",
      "metadata": {
        "colab": {
          "base_uri": "https://localhost:8080/"
        },
        "id": "aD73LxS9wms4",
        "outputId": "2eb723c3-9f63-4596-cba0-1cb16e572d05"
      },
      "source": [
        "%%writefile temp.py\n",
        "b,h = map(int,input().split())\n",
        "area = b*h/2\n",
        "print(\"area = \", area)\n"
      ],
      "execution_count": null,
      "outputs": [
        {
          "output_type": "stream",
          "text": [
            "Overwriting temp.py\n"
          ],
          "name": "stdout"
        }
      ]
    },
    {
      "cell_type": "code",
      "metadata": {
        "colab": {
          "base_uri": "https://localhost:8080/"
        },
        "id": "gt5erZLuwnNA",
        "outputId": "ac215485-b4df-4035-bf29-326258ab5d67"
      },
      "source": [
        "!echo 20 40 | python temp.py"
      ],
      "execution_count": null,
      "outputs": [
        {
          "output_type": "stream",
          "text": [
            "area =  400.0\n"
          ],
          "name": "stdout"
        }
      ]
    },
    {
      "cell_type": "markdown",
      "metadata": {
        "id": "ECDTz2dVxAII"
      },
      "source": [
        "---\n",
        "問題 $\\quad$ 最大公約数を計算する。 gcd greatest common divisor"
      ]
    },
    {
      "cell_type": "code",
      "metadata": {
        "colab": {
          "base_uri": "https://localhost:8080/"
        },
        "id": "Q3F8XEtDzOtP",
        "outputId": "f69546c9-b1f9-401d-e0de-322f01560db7"
      },
      "source": [
        "def gcd(x, y):\n",
        "    gcd = 1\n",
        "    \n",
        "    if x % y == 0:\n",
        "        return y\n",
        "    \n",
        "    for k in range(int(y / 2), 0, -1):\n",
        "        if x % k == 0 and y % k == 0:\n",
        "            gcd = k\n",
        "            break  \n",
        "    return gcd\n",
        "\n",
        "print(gcd(12, 17))\n",
        "print(gcd(4, 6))\n"
      ],
      "execution_count": null,
      "outputs": [
        {
          "output_type": "stream",
          "text": [
            "1\n",
            "2\n"
          ],
          "name": "stdout"
        }
      ]
    },
    {
      "cell_type": "code",
      "metadata": {
        "colab": {
          "base_uri": "https://localhost:8080/"
        },
        "id": "cjZPReERz2og",
        "outputId": "28b1a624-6004-4ddb-cb49-7ff0ee6725f6"
      },
      "source": [
        "# 別解\n",
        "import numpy\n",
        "print(numpy.gcd(12, 17))\n",
        "print(numpy.gcd(4, 6))"
      ],
      "execution_count": null,
      "outputs": [
        {
          "output_type": "stream",
          "text": [
            "1\n",
            "2\n"
          ],
          "name": "stdout"
        }
      ]
    },
    {
      "cell_type": "code",
      "metadata": {
        "id": "RB06lafCz-W9"
      },
      "source": [
        "list(range(5000,0,-1))"
      ],
      "execution_count": null,
      "outputs": []
    },
    {
      "cell_type": "code",
      "metadata": {
        "id": "VqtA8aB33rSV",
        "colab": {
          "base_uri": "https://localhost:8080/"
        },
        "outputId": "bfe62b74-1b4d-40c1-f579-4267ab9a7c5e"
      },
      "source": [
        "# 別解 再帰 recursion バージョン\n",
        "def gcd(x, y):\n",
        "    if x % y == 0:\n",
        "        return y\n",
        "    else :\n",
        "        return gcd(y, x % y)\n",
        "\n",
        "print(gcd(12, 17))\n",
        "print(gcd(4, 6))"
      ],
      "execution_count": null,
      "outputs": [
        {
          "output_type": "stream",
          "text": [
            "1\n",
            "2\n"
          ],
          "name": "stdout"
        }
      ]
    },
    {
      "cell_type": "markdown",
      "metadata": {
        "id": "i-Xis5Oc4JyD"
      },
      "source": [
        "---\n",
        "問題 $\\quad$ 正の整数 2 個の最小公倍数を求める。 lcm least common multiple\n"
      ]
    },
    {
      "cell_type": "code",
      "metadata": {
        "id": "YQkNY63CVPa6",
        "colab": {
          "base_uri": "https://localhost:8080/"
        },
        "outputId": "468ef880-763c-4066-d395-0c99c36c4232"
      },
      "source": [
        "def lcm(x, y):\n",
        "   if x > y:\n",
        "       z = x\n",
        "   else:\n",
        "       z = y\n",
        "\n",
        "   while(True):\n",
        "       if((z % x == 0) and (z % y == 0)):\n",
        "           lcm = z\n",
        "           break\n",
        "       z += 1\n",
        "\n",
        "   return lcm\n",
        "print(lcm(4, 6))\n",
        "print(lcm(15, 17))\n"
      ],
      "execution_count": null,
      "outputs": [
        {
          "output_type": "stream",
          "text": [
            "12\n",
            "255\n"
          ],
          "name": "stdout"
        }
      ]
    },
    {
      "cell_type": "code",
      "metadata": {
        "id": "dqA7NBOuVQH7",
        "colab": {
          "base_uri": "https://localhost:8080/"
        },
        "outputId": "fab61ea5-7dbb-4769-a853-bb29076a17b7"
      },
      "source": [
        "# 別解\n",
        "from numpy import lcm\n",
        "print(lcm(4, 6))\n",
        "print(lcm(15, 17))"
      ],
      "execution_count": null,
      "outputs": [
        {
          "output_type": "stream",
          "text": [
            "12\n",
            "255\n"
          ],
          "name": "stdout"
        }
      ]
    },
    {
      "cell_type": "markdown",
      "metadata": {
        "id": "sWjY-K1PjIhJ"
      },
      "source": [
        "---\n",
        "問題 $\\quad$ 整数 3 個、$x,y,z$ の合計を求める。 ただし、$x,y,z$ のうち 2 個が同じ値ならば、0 を返す。\n"
      ]
    },
    {
      "cell_type": "code",
      "metadata": {
        "id": "hmEBKhlvjLTO",
        "colab": {
          "base_uri": "https://localhost:8080/"
        },
        "outputId": "1358d7e6-8eeb-4df4-fde2-80d72756dd84"
      },
      "source": [
        "def sum(x, y, z):\n",
        "    if x == y or y == z or x==z:\n",
        "        sum = 0\n",
        "    else:\n",
        "        sum = x + y + z\n",
        "    return sum\n",
        "\n",
        "print(sum(2, 1, 2))\n",
        "print(sum(3, 2, 2))\n",
        "print(sum(2, 2, 2))\n",
        "print(sum(1, 2, 3))\n"
      ],
      "execution_count": null,
      "outputs": [
        {
          "output_type": "stream",
          "text": [
            "0\n",
            "0\n",
            "0\n",
            "6\n"
          ],
          "name": "stdout"
        }
      ]
    },
    {
      "cell_type": "markdown",
      "metadata": {
        "id": "xG4ISF_ikBvY"
      },
      "source": [
        "---\n",
        "問題 $\\quad$ 整数 2 個、$x,y$ の合計を計算する。 ただし、合計が 15 と 20 の間の時は 20 を返す。\n",
        "\n"
      ]
    },
    {
      "cell_type": "code",
      "metadata": {
        "id": "Y8v1n_RYkID1",
        "colab": {
          "base_uri": "https://localhost:8080/"
        },
        "outputId": "aee4e243-1e0b-40c3-ecf8-fc6874a99047"
      },
      "source": [
        "def sum(x, y):\n",
        "    sum = x + y\n",
        "    if sum in range(15, 20):\n",
        "        return 20\n",
        "    else:\n",
        "        return sum\n",
        "\n",
        "print(sum(10, 6))\n",
        "print(sum(10, 2))\n",
        "print(sum(10, 12))\n",
        "\n"
      ],
      "execution_count": null,
      "outputs": [
        {
          "output_type": "stream",
          "text": [
            "20\n",
            "12\n",
            "22\n"
          ],
          "name": "stdout"
        }
      ]
    },
    {
      "cell_type": "markdown",
      "metadata": {
        "id": "I4rYUjl4kPv-"
      },
      "source": [
        "---\n",
        "問題 $\\quad$ 整数 2 個 $x,y$ について、$x,y$ が同じ場合と、合計か差がちょうど 5 の場合に真 True を返す関数を作る。\n"
      ]
    },
    {
      "cell_type": "code",
      "metadata": {
        "id": "KZzxqU2_lDp0",
        "colab": {
          "base_uri": "https://localhost:8080/"
        },
        "outputId": "1e60b58d-730c-4bd2-ab64-aaa1296cc551"
      },
      "source": [
        "def test_number5(x, y):\n",
        "    if x == y or abs(x-y) == 5 or (x+y) == 5:\n",
        "        return True\n",
        "    else:\n",
        "        return False\n",
        "\n",
        "print(test_number5(7, 2))\n",
        "print(test_number5(3, 2))\n",
        "print(test_number5(2, 2))\n"
      ],
      "execution_count": null,
      "outputs": [
        {
          "output_type": "stream",
          "text": [
            "True\n",
            "True\n",
            "True\n"
          ],
          "name": "stdout"
        }
      ]
    },
    {
      "cell_type": "markdown",
      "metadata": {
        "id": "lC3MNNd_lEm9"
      },
      "source": [
        "---\n",
        "問題 36 $\\quad$ 2 つのオブジェクト $a,b$ について両方とも整数型の時に合計を返す。\n"
      ]
    },
    {
      "cell_type": "code",
      "metadata": {
        "id": "lpFWIv5wnZHD",
        "colab": {
          "base_uri": "https://localhost:8080/"
        },
        "outputId": "7d8e29e2-0b16-4479-c0c8-ad58d6735e84"
      },
      "source": [
        "# def add_numbers(a, b):\n",
        "#     if not (isinstance(a, int) and isinstance(b, int)):\n",
        "#          raise TypeError(\"Inputs must be integers\")\n",
        "#     return a + b\n",
        "\n",
        "def add_numbers(a, b):\n",
        "    if not (isinstance(a, int) and isinstance(b, int)):\n",
        "         return (\"Inputs must be integers\")\n",
        "    else :\n",
        "        return a + b\n",
        "\n",
        "print(add_numbers(10, 20))\n",
        "print(add_numbers(\"ten\",\"twenty\"))"
      ],
      "execution_count": null,
      "outputs": [
        {
          "output_type": "stream",
          "text": [
            "30\n",
            "Inputs must be integers\n"
          ],
          "name": "stdout"
        }
      ]
    },
    {
      "cell_type": "code",
      "metadata": {
        "id": "bPXw2VoknZz7",
        "colab": {
          "base_uri": "https://localhost:8080/"
        },
        "outputId": "2e741ee1-dda5-448d-c1f1-3019ef5141f9"
      },
      "source": [
        "# 別解\n",
        "def add_numbers(a, b):\n",
        "    if not (type(a) == type(1) and type(b) == type(1)):\n",
        "         return (\"Inputs must be integers\")\n",
        "    else :\n",
        "        return a + b\n",
        "\n",
        "print(add_numbers(10, 20))\n",
        "print(add_numbers(\"ten\",\"twenty\"))"
      ],
      "execution_count": null,
      "outputs": [
        {
          "output_type": "stream",
          "text": [
            "30\n",
            "Inputs must be integers\n"
          ],
          "name": "stdout"
        }
      ]
    },
    {
      "cell_type": "markdown",
      "metadata": {
        "id": "V46reLREoruz"
      },
      "source": [
        "---\n",
        "問題 37 $\\quad$ name, age, address を 3 行に分けて表示する。\n"
      ]
    },
    {
      "cell_type": "code",
      "metadata": {
        "id": "v5LnvERoo4IJ",
        "colab": {
          "base_uri": "https://localhost:8080/"
        },
        "outputId": "f1e8322c-3f83-4875-a4b3-2e672c22e517"
      },
      "source": [
        "def personal_details():\n",
        "    name, age = \"Simon\", 19\n",
        "    address = \"Bangalore, Karnataka, India\"\n",
        "    print(\"Name: {}\\nAge: {}\\nAddress: {}\".format(name, age, address))\n",
        "\n",
        "personal_details()\n"
      ],
      "execution_count": null,
      "outputs": [
        {
          "output_type": "stream",
          "text": [
            "Name: Simon\n",
            "Age: 19\n",
            "Address: Bangalore, Karnataka, India\n"
          ],
          "name": "stdout"
        }
      ]
    },
    {
      "cell_type": "code",
      "metadata": {
        "id": "XcbJwrXgo_4q",
        "colab": {
          "base_uri": "https://localhost:8080/"
        },
        "outputId": "88f3874a-2ac6-4492-93de-899860379390"
      },
      "source": [
        "# 別解 items(): キーと値のペアを取得する\n",
        "simon = {'name': 'Simon', 'age': 19, 'address': 'bangalore, karnataka, india'}\n",
        "\n",
        "for item in simon.items():\n",
        "    print(item[0], \":\", item[1])"
      ],
      "execution_count": null,
      "outputs": [
        {
          "output_type": "stream",
          "text": [
            "name : Simon\n",
            "age : 19\n",
            "address : bangalore, karnataka, india\n"
          ],
          "name": "stdout"
        }
      ]
    },
    {
      "cell_type": "markdown",
      "metadata": {
        "id": "tAPmPdsjpnMa"
      },
      "source": [
        "---\n",
        "問題 38 $\\quad$ $x,y$ について $(x + y) \\times (x + y)$ を算出する。\n"
      ]
    },
    {
      "cell_type": "code",
      "metadata": {
        "id": "mQ_jQWtksedT",
        "colab": {
          "base_uri": "https://localhost:8080/"
        },
        "outputId": "bacb4071-a1f8-492a-f24a-bc36f3612e5c"
      },
      "source": [
        "x, y = 4, 3\n",
        "result = x * x + 2 * x * y + y * y\n",
        "print(\"({} + {}) ^ 2) = {}\".format(x, y, result))\n"
      ],
      "execution_count": null,
      "outputs": [
        {
          "output_type": "stream",
          "text": [
            "(4 + 3) ^ 2) = 49\n"
          ],
          "name": "stdout"
        }
      ]
    },
    {
      "cell_type": "markdown",
      "metadata": {
        "id": "3bjm1FdGsgg5"
      },
      "source": [
        "---\n",
        "問題 39 $\\quad$ 元本、金利、年数を入力し、将来価値 future value を計算する。\n"
      ]
    },
    {
      "cell_type": "code",
      "metadata": {
        "id": "L_Ry8VBAs38u",
        "colab": {
          "base_uri": "https://localhost:8080/"
        },
        "outputId": "dd48a6f8-3858-4017-da2b-2deda119c1fe"
      },
      "source": [
        "amt = 10000\n",
        "int = 3.5\n",
        "years = 7\n",
        "\n",
        "future_value  = amt*((1+(0.01*int)) ** years)\n",
        "print(round(future_value,2))\n"
      ],
      "execution_count": null,
      "outputs": [
        {
          "output_type": "stream",
          "text": [
            "12722.79\n"
          ],
          "name": "stdout"
        }
      ]
    },
    {
      "cell_type": "markdown",
      "metadata": {
        "id": "jV9uoMeDtAfH"
      },
      "source": [
        "---\n",
        "問題 40 $\\quad$ 点 $(x1, y1)$ と 点 $(x2, y2)$ の間の距離を計算する。\n"
      ]
    },
    {
      "cell_type": "code",
      "metadata": {
        "id": "PPobGcd7tb3F",
        "colab": {
          "base_uri": "https://localhost:8080/"
        },
        "outputId": "e5dcc5bf-e836-42dd-ae9f-4e673435749a"
      },
      "source": [
        "import math\n",
        "p1 = [4, 0]\n",
        "p2 = [6, 6]\n",
        "distance = math.sqrt( ((p1[0]-p2[0])**2)+((p1[1]-p2[1])**2) )\n",
        "\n",
        "print(distance)\n"
      ],
      "execution_count": null,
      "outputs": [
        {
          "output_type": "stream",
          "text": [
            "6.324555320336759\n"
          ],
          "name": "stdout"
        }
      ]
    },
    {
      "cell_type": "markdown",
      "metadata": {
        "id": "IrGxBLZuwEoE"
      },
      "source": [
        "メモ $\\quad$ 点が円周上の点として、弧の長さを求めたいが、その前に、媒介変数を使って matplotlib で円を描く実験\n",
        "\n",
        "$x^2 + y^2 = 4$\n",
        "\n",
        "$x = 2 \\cos\\theta$\n",
        "\n",
        "$y = 2 \\sin\\theta$"
      ]
    },
    {
      "cell_type": "code",
      "metadata": {
        "id": "qIHZObZYtkWp",
        "colab": {
          "base_uri": "https://localhost:8080/",
          "height": 374
        },
        "outputId": "27256991-6b0f-4c18-a364-c024b4b20a0f"
      },
      "source": [
        "# 実験 媒介変数を使って matplotlib で円を描く\n",
        "# 点 の角度と半径が求められれば、弧の長さは 半径 * 角度の差\n",
        "import numpy as np\n",
        "import matplotlib.pyplot as plt\n",
        "\n",
        "t = np.linspace(-np.pi, np.pi)\n",
        "\n",
        "# 関数を記述\n",
        "x = 2*np.cos(t)\n",
        "y = 2*np.sin(t)\n",
        "\n",
        "fig = plt.figure(figsize=(6,6))\n",
        "ax = fig.add_subplot()\n",
        "\n",
        "ax.plot(x, y)\n",
        "ax.scatter([2,2*np.cos(1)],[0,2*np.sin(1)],c='r')\n",
        "ax.plot([0,2],[0,0],'k-')\n",
        "ax.plot([0,2*np.cos(1)],[0,2*np.sin(1)],'k-')\n",
        "\n",
        "plt.show()"
      ],
      "execution_count": 14,
      "outputs": [
        {
          "output_type": "display_data",
          "data": {
            "image/png": "[encoded data removed]",
            "text/plain": [
              "<Figure size 432x432 with 1 Axes>"
            ]
          },
          "metadata": {
            "tags": [],
            "needs_background": "light"
          }
        }
      ]
    },
    {
      "cell_type": "markdown",
      "metadata": {
        "id": "HyMVDId-EccG"
      },
      "source": [
        "---\n",
        "問題 41 $\\quad$ ファイルの存在確認\n"
      ]
    },
    {
      "cell_type": "code",
      "metadata": {
        "id": "s6yh0uNGEhtU",
        "outputId": "e8d8e5f1-a409-4642-f820-458aadebfe74",
        "colab": {
          "base_uri": "https://localhost:8080/"
        }
      },
      "source": [
        "import os.path\n",
        "open('abc.txt', 'w')\n",
        "print(os.path.isfile('abc.txt'))"
      ],
      "execution_count": 16,
      "outputs": [
        {
          "output_type": "stream",
          "text": [
            "True\n"
          ],
          "name": "stdout"
        }
      ]
    },
    {
      "cell_type": "code",
      "metadata": {
        "id": "GGInKIMmF_Eb",
        "outputId": "825738cb-3665-4bb7-cd7b-b260d72c137f",
        "colab": {
          "base_uri": "https://localhost:8080/"
        }
      },
      "source": [
        "import os\n",
        "print(os.path.exists('abc.txt'))\n",
        "print(os.path.exists('temp.txt'))\n",
        "print(os.path.isfile('temp.txt'))\n",
        "print(os.path.isdir('sample_data'))"
      ],
      "execution_count": 30,
      "outputs": [
        {
          "output_type": "stream",
          "text": [
            "True\n",
            "False\n",
            "False\n",
            "True\n"
          ],
          "name": "stdout"
        }
      ]
    },
    {
      "cell_type": "markdown",
      "metadata": {
        "id": "q5wzjeewG-p3"
      },
      "source": [
        "---\n",
        "問題 42 $\\quad$ 現在の環境が 32ビットか 64 ビットかを調べる。"
      ]
    },
    {
      "cell_type": "code",
      "metadata": {
        "id": "8_ScOYOmHB2Q",
        "outputId": "f126a8ac-98c6-43a0-85e0-1b05e87f386b",
        "colab": {
          "base_uri": "https://localhost:8080/"
        }
      },
      "source": [
        "# For 32 bit it will return 32 and for 64 bit it will return 64\n",
        "import struct\n",
        "print(struct.calcsize(\"P\") * 8)"
      ],
      "execution_count": 31,
      "outputs": [
        {
          "output_type": "stream",
          "text": [
            "64\n"
          ],
          "name": "stdout"
        }
      ]
    },
    {
      "cell_type": "markdown",
      "metadata": {
        "id": "k4pO_-KLHKtt"
      },
      "source": [
        "---\n",
        "問題 43 $\\quad$ osの名前、プラットフォーム、リリース情報を出力する。\n",
        "\n",
        "メモ $\\quad$ `os.name` の結果は ubuntu とかではなく posix と出る。 windows だと nt と出るらしい。  platform.system() も windows だと Windows と出るとか。mac はどうなのだろうか。\n",
        "=> やってみた。 poxix, Darwin, 20.3.0 でした。"
      ]
    },
    {
      "cell_type": "code",
      "metadata": {
        "id": "NGIU2I36Hj7d",
        "outputId": "ef9fe4f1-283e-47b2-9834-aafca24aeb80",
        "colab": {
          "base_uri": "https://localhost:8080/"
        }
      },
      "source": [
        "import platform\n",
        "import os\n",
        "print(os.name)\n",
        "print(platform.system())\n",
        "print(platform.release())"
      ],
      "execution_count": 32,
      "outputs": [
        {
          "output_type": "stream",
          "text": [
            "posix\n",
            "Linux\n",
            "5.4.109+\n"
          ],
          "name": "stdout"
        }
      ]
    },
    {
      "cell_type": "markdown",
      "metadata": {
        "id": "tCPSfp-mqYbP"
      },
      "source": [
        "---\n",
        "問題 44 $\\quad$ python の site-package の場所を調べる。\n"
      ]
    },
    {
      "cell_type": "code",
      "metadata": {
        "id": "Bc_IofriqcYO",
        "outputId": "6b4318db-580f-46dd-f815-b7784c683ee8",
        "colab": {
          "base_uri": "https://localhost:8080/"
        }
      },
      "source": [
        "import site; \n",
        "print(site.getsitepackages())"
      ],
      "execution_count": 1,
      "outputs": [
        {
          "output_type": "stream",
          "text": [
            "['/usr/local/lib/python3.7/dist-packages', '/usr/lib/python3/dist-packages', '/usr/lib/python3.7/dist-packages']\n"
          ],
          "name": "stdout"
        }
      ]
    },
    {
      "cell_type": "markdown",
      "metadata": {
        "id": "O-_u6Fduqqav"
      },
      "source": [
        "---\n",
        "問題 45 $\\quad$ python から外部コマンドを呼ぶ。\n",
        "\n",
        "次のセルはどうも失敗しているっぽい。"
      ]
    },
    {
      "cell_type": "code",
      "metadata": {
        "id": "mDAqywEsrGQb",
        "outputId": "f7c2c668-73ab-40ec-e9f9-b4d42a9d80fe",
        "colab": {
          "base_uri": "https://localhost:8080/"
        }
      },
      "source": [
        "from subprocess import call\n",
        "call([\"ls\", \"-l\"])"
      ],
      "execution_count": 2,
      "outputs": [
        {
          "output_type": "execute_result",
          "data": {
            "text/plain": [
              "0"
            ]
          },
          "metadata": {
            "tags": []
          },
          "execution_count": 2
        }
      ]
    },
    {
      "cell_type": "markdown",
      "metadata": {
        "id": "Gstb01m8ryMj"
      },
      "source": [
        ""
      ]
    }
  ]
}