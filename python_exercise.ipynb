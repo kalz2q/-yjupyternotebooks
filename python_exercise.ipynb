{
  "nbformat": 4,
  "nbformat_minor": 0,
  "metadata": {
    "colab": {
      "name": "python_exercise.ipynb",
      "provenance": [],
      "toc_visible": true,
      "authorship_tag": "ABX9TyM2FNQjVcQTopJsDYzH5aFP",
      "include_colab_link": true
    },
    "kernelspec": {
      "name": "python3",
      "display_name": "Python 3"
    },
    "language_info": {
      "name": "python"
    }
  },
  "cells": [
    {
      "cell_type": "markdown",
      "metadata": {
        "id": "view-in-github",
        "colab_type": "text"
      },
      "source": [
        "<a href=\"https://colab.research.google.com/github/kalz2q/mycolabnotebooks/blob/master/python_exercise.ipynb\" target=\"_parent\"><img src=\"https://colab.research.google.com/assets/colab-badge.svg\" alt=\"Open In Colab\"/></a>"
      ]
    },
    {
      "cell_type": "markdown",
      "metadata": {
        "id": "aYq7NBCFIKqH"
      },
      "source": [
        "# メモ\n",
        "\n",
        "python 問題集\n",
        "\n",
        "をつくる。 colab ベース\n",
        "\n",
        "順不同\n",
        "\n",
        "* https://www.w3resource.com/python-exercises/\n",
        "\n",
        "* あのアルゴリズムはどこ？　Pythonを使用してAtCoderの緑色や水色を目指す方に、30以上のアルゴリズムスニペットと100問以上の問題（ACコード付き）を紹介！  \n",
        "https://qiita.com/H20/items/1a066e242815961cd043\n",
        "\n"
      ]
    },
    {
      "cell_type": "markdown",
      "metadata": {
        "id": "gM5BypBHgm-v"
      },
      "source": [
        "---\n",
        "問題 $\\quad$ サンプル文字列 (きらきら星) を出力例のように整形して出力する。\n",
        "\n",
        "サンプル文字列 : \"Twinkle, twinkle, little star, How I wonder what you are! Up above the world so high, Like a diamond in the sky. Twinkle, twinkle, little star, How I wonder what you are\" \n",
        "\n",
        "出力例 :\n",
        "```\n",
        "Twinkle, twinkle, little star,\n",
        "\tHow I wonder what you are! \n",
        "\t\tUp above the world so high,   \t\t\n",
        "\t\tLike a diamond in the sky. \n",
        "Twinkle, twinkle, little star, \n",
        "\tHow I wonder what you are\n",
        "```"
      ]
    },
    {
      "cell_type": "code",
      "metadata": {
        "id": "A5n50VLGiqNv",
        "colab": {
          "base_uri": "https://localhost:8080/"
        },
        "outputId": "c05bf822-1037-4018-a004-563ab2104b12"
      },
      "source": [
        "print(\"Twinkle, twinkle, little star, \\n\\tHow I wonder what you are! \\n\\t\\tUp above the world so high, \\n\\t\\tLike a diamond in the sky. \\nTwinkle, twinkle, little star, \\n\\tHow I wonder what you are!\")\n"
      ],
      "execution_count": null,
      "outputs": [
        {
          "output_type": "stream",
          "text": [
            "Twinkle, twinkle, little star, \n",
            "\tHow I wonder what you are! \n",
            "\t\tUp above the world so high, \n",
            "\t\tLike a diamond in the sky. \n",
            "Twinkle, twinkle, little star, \n",
            "\tHow I wonder what you are!\n"
          ],
          "name": "stdout"
        }
      ]
    },
    {
      "cell_type": "code",
      "metadata": {
        "id": "jSfIfLC4jEw8",
        "colab": {
          "base_uri": "https://localhost:8080/"
        },
        "outputId": "26252000-73c2-41b9-ace2-fc302e3d55dd"
      },
      "source": [
        "# アイデア\n",
        "# sample_string を 大文字で始まる文のリストに変換する\n",
        "# Twinkle のとき \\t の数 0\n",
        "# それ以外は順に \\t の数を増やすが max が 2 こ\n",
        "# リストを 1 行ずつ出力する\n",
        "import re\n",
        "sample_string =  \"Twinkle, twinkle, little star, How I wonder what you are! Up above the world so high, Like a diamond in the sky. Twinkle, twinkle, little star, How I wonder what you are\"\n",
        "\n",
        "strings = re.findall(r'[A-Z^I][a-zI ,.!]*', sample_string)\n",
        "head = \"\"\n",
        "for string in strings:\n",
        "    if string[0] == \"T\":\n",
        "        head = \"\"\n",
        "    else :\n",
        "        head = head+\"\\t\"\n",
        "        if len(head) >= 2 : head = \"\\t\\t\"\n",
        "    string = head + string\n",
        "    print (string)"
      ],
      "execution_count": null,
      "outputs": [
        {
          "output_type": "stream",
          "text": [
            "Twinkle, twinkle, little star, \n",
            "\tHow I wonder what you are! \n",
            "\t\tUp above the world so high, \n",
            "\t\tLike a diamond in the sky. \n",
            "Twinkle, twinkle, little star, \n",
            "\tHow I wonder what you are\n"
          ],
          "name": "stdout"
        }
      ]
    },
    {
      "cell_type": "markdown",
      "metadata": {
        "id": "yG9smrDUNHA4"
      },
      "source": [
        "---\n",
        "問題 $\\quad$ python のバージョンを出力する。"
      ]
    },
    {
      "cell_type": "code",
      "metadata": {
        "id": "yG67pSvANMHr",
        "colab": {
          "base_uri": "https://localhost:8080/"
        },
        "outputId": "15e869de-20f6-4e3a-a581-677ac99ddee8"
      },
      "source": [
        "import sys\n",
        "print(\"Python version\")\n",
        "print (sys.version)\n",
        "print(\"Version info.\")\n",
        "print (sys.version_info)\n"
      ],
      "execution_count": null,
      "outputs": [
        {
          "output_type": "stream",
          "text": [
            "Python version\n",
            "3.7.10 (default, May  3 2021, 02:48:31) \n",
            "[GCC 7.5.0]\n",
            "Version info.\n",
            "sys.version_info(major=3, minor=7, micro=10, releaselevel='final', serial=0)\n"
          ],
          "name": "stdout"
        }
      ]
    },
    {
      "cell_type": "code",
      "metadata": {
        "id": "sFRK6Yh_NP09",
        "colab": {
          "base_uri": "https://localhost:8080/"
        },
        "outputId": "cd25f603-281d-426a-81b5-ab2d08c07c63"
      },
      "source": [
        "!python --version"
      ],
      "execution_count": null,
      "outputs": [
        {
          "output_type": "stream",
          "text": [
            "Python 3.7.10\n"
          ],
          "name": "stdout"
        }
      ]
    },
    {
      "cell_type": "markdown",
      "metadata": {
        "id": "1HUQs9YUNlC4"
      },
      "source": [
        "---\n",
        "問題 $\\quad$ 現在の日付と時刻を出力する。"
      ]
    },
    {
      "cell_type": "code",
      "metadata": {
        "id": "x2ogSad6N0Ww",
        "colab": {
          "base_uri": "https://localhost:8080/"
        },
        "outputId": "f887490c-5ed3-45fa-dd3f-14c861697ab0"
      },
      "source": [
        "import datetime\n",
        "now = datetime.datetime.now()\n",
        "print (\"Current date and time : \")\n",
        "print (now.strftime(\"%Y-%m-%d %H:%M:%S\"))\n"
      ],
      "execution_count": null,
      "outputs": [
        {
          "output_type": "stream",
          "text": [
            "Current date and time : \n",
            "2021-05-15 08:49:26\n"
          ],
          "name": "stdout"
        }
      ]
    },
    {
      "cell_type": "markdown",
      "metadata": {
        "id": "lBXYXhHnOWhv"
      },
      "source": [
        "---\n",
        "問題 $\\quad$ 円の半径を受取り、面積を出力する。\n",
        "\n",
        "円の面積 = $\\pi r^2$\n"
      ]
    },
    {
      "cell_type": "code",
      "metadata": {
        "id": "QObr6GRbPM9g",
        "colab": {
          "base_uri": "https://localhost:8080/"
        },
        "outputId": "9ed50597-5b4f-4465-9a43-d5cfdcbafc17"
      },
      "source": [
        "%%writefile temp.py\n",
        "from math import pi\n",
        "r = float(input ())\n",
        "print (\"The area of the circle with radius \" + str(r) + \" is: \" + str(pi * r**2))"
      ],
      "execution_count": null,
      "outputs": [
        {
          "output_type": "stream",
          "text": [
            "Writing temp.py\n"
          ],
          "name": "stdout"
        }
      ]
    },
    {
      "cell_type": "code",
      "metadata": {
        "id": "G9hSid6PPj3S",
        "colab": {
          "base_uri": "https://localhost:8080/"
        },
        "outputId": "c4d5e8b9-0495-4962-c926-510d78290fe4"
      },
      "source": [
        "!echo 3 | python temp.py"
      ],
      "execution_count": null,
      "outputs": [
        {
          "output_type": "stream",
          "text": [
            "The area of the circle with radius 3.0 is: 28.274333882308138\n"
          ],
          "name": "stdout"
        }
      ]
    },
    {
      "cell_type": "markdown",
      "metadata": {
        "id": "LC8_dWnLP95O"
      },
      "source": [
        "---\n",
        "問題 $\\quad$ 整数 $n,x,t$ を受取り、$n$ を $x$で割って、小数点以下を切り上げて、$t$ 倍して返す。\n",
        "\n",
        "例 : 3 8 5 => 5\n"
      ]
    },
    {
      "cell_type": "code",
      "metadata": {
        "id": "GGW50Ua0Qyko",
        "colab": {
          "base_uri": "https://localhost:8080/"
        },
        "outputId": "b44c882d-f31c-4958-ed87-fc6340eab52b"
      },
      "source": [
        "%%writefile temp.py\n",
        "n,x,t = map(int, input().split())\n",
        "print(-(-n//x)*t)"
      ],
      "execution_count": null,
      "outputs": [
        {
          "output_type": "stream",
          "text": [
            "Overwriting temp.py\n"
          ],
          "name": "stdout"
        }
      ]
    },
    {
      "cell_type": "code",
      "metadata": {
        "id": "qefk8MfCRKdY",
        "colab": {
          "base_uri": "https://localhost:8080/"
        },
        "outputId": "af74669c-4ff0-43e4-c297-90da951098bd"
      },
      "source": [
        "! echo 3 8 5 | python temp.py"
      ],
      "execution_count": null,
      "outputs": [
        {
          "output_type": "stream",
          "text": [
            "5\n"
          ],
          "name": "stdout"
        }
      ]
    },
    {
      "cell_type": "markdown",
      "metadata": {
        "id": "0jemsXwqR-TO"
      },
      "source": [
        "---\n",
        "問題 $\\quad$ 名前と姓を入力し、姓、名の順に出力する。\n",
        "\n",
        "例: Dany Boon => Hello, Boon Dany!"
      ]
    },
    {
      "cell_type": "code",
      "metadata": {
        "id": "vz_9Xxg7SsRe",
        "colab": {
          "base_uri": "https://localhost:8080/"
        },
        "outputId": "a1caa202-1457-497b-d566-a67a3631961f"
      },
      "source": [
        "%%writefile temp.py\n",
        "firstname, lastname = input().split()\n",
        "print(\"Hello, {} {}!\".format(lastname,firstname))"
      ],
      "execution_count": null,
      "outputs": [
        {
          "output_type": "stream",
          "text": [
            "Overwriting temp.py\n"
          ],
          "name": "stdout"
        }
      ]
    },
    {
      "cell_type": "code",
      "metadata": {
        "id": "-1rxAsdiTBA2",
        "colab": {
          "base_uri": "https://localhost:8080/"
        },
        "outputId": "90772ead-3c09-48da-d00c-07b93526f394"
      },
      "source": [
        "! echo Dany Boon | python temp.py"
      ],
      "execution_count": null,
      "outputs": [
        {
          "output_type": "stream",
          "text": [
            "Hello, Boon Danny!\n"
          ],
          "name": "stdout"
        }
      ]
    },
    {
      "cell_type": "markdown",
      "metadata": {
        "id": "V_FIbVKeTa2h"
      },
      "source": [
        "---\n",
        "問題 $\\quad$ カンマで区切られた数字を受取り、リストとタプルの形で出力する。\n",
        "\n",
        "例 : 3, 5, 7, 23"
      ]
    },
    {
      "cell_type": "code",
      "metadata": {
        "id": "GcoApujiTr0I",
        "colab": {
          "base_uri": "https://localhost:8080/"
        },
        "outputId": "3ac09f0b-74a5-429e-dbce-73da713cc960"
      },
      "source": [
        "%%writefile temp.py\n",
        "data = list(map(int,input().split(\",\")))\n",
        "print(data)\n",
        "print(tuple(data))"
      ],
      "execution_count": null,
      "outputs": [
        {
          "output_type": "stream",
          "text": [
            "Overwriting temp.py\n"
          ],
          "name": "stdout"
        }
      ]
    },
    {
      "cell_type": "code",
      "metadata": {
        "id": "_a9fYT6fT3Bz",
        "colab": {
          "base_uri": "https://localhost:8080/"
        },
        "outputId": "90e40070-2c7e-4100-ff6a-de2642e03f85"
      },
      "source": [
        "!echo 3,5,7,23 | python temp.py"
      ],
      "execution_count": null,
      "outputs": [
        {
          "output_type": "stream",
          "text": [
            "[3, 5, 7, 23]\n",
            "(3, 5, 7, 23)\n"
          ],
          "name": "stdout"
        }
      ]
    },
    {
      "cell_type": "markdown",
      "metadata": {
        "id": "YLlXoH0dZg76"
      },
      "source": [
        "---\n",
        "問題 $\\quad$ ファイル名を受取り、拡張子を切り取って出力する。\n",
        "\n",
        "例 : abc.java\n"
      ]
    },
    {
      "cell_type": "code",
      "metadata": {
        "id": "hvBJ7uXZZuKy",
        "colab": {
          "base_uri": "https://localhost:8080/"
        },
        "outputId": "b4be1edf-3783-4584-99f8-517ded75d3ad"
      },
      "source": [
        "%%writefile temp.py\n",
        "filename = input()\n",
        "f_extns = filename.split(\".\")\n",
        "print (\"The extension of the file is : \" + repr(f_extns[-1]))"
      ],
      "execution_count": null,
      "outputs": [
        {
          "output_type": "stream",
          "text": [
            "Overwriting temp.py\n"
          ],
          "name": "stdout"
        }
      ]
    },
    {
      "cell_type": "code",
      "metadata": {
        "id": "IZ5-7J-OZz8Q",
        "colab": {
          "base_uri": "https://localhost:8080/"
        },
        "outputId": "3fe2da01-763a-41ae-9f5f-0070dc8b6982"
      },
      "source": [
        "!echo abc.java | python temp.py"
      ],
      "execution_count": null,
      "outputs": [
        {
          "output_type": "stream",
          "text": [
            "The extension of the file is : 'java'\n"
          ],
          "name": "stdout"
        }
      ]
    },
    {
      "cell_type": "markdown",
      "metadata": {
        "id": "Jy3mqCpnaEYy"
      },
      "source": [
        "メモ $\\quad$ repr() で引用符をつけている。\n",
        "\n",
        "`f_extns[-1]` としているのは this.is.filename.txt というようなファイル名対策。"
      ]
    },
    {
      "cell_type": "markdown",
      "metadata": {
        "id": "v8EdhYwmbifO"
      },
      "source": [
        "---\n",
        "問題 $\\quad$ リストの最初の項目と最後の項目を出力する。\n",
        "\n",
        "color_list = [\"Red\",\"Green\",\"White\" ,\"Black\"]"
      ]
    },
    {
      "cell_type": "code",
      "metadata": {
        "id": "2QhFsBMlbsLl",
        "colab": {
          "base_uri": "https://localhost:8080/"
        },
        "outputId": "73649d05-0a37-4570-824b-24933a8fa7af"
      },
      "source": [
        "color_list = [\"Red\",\"Green\",\"White\" ,\"Black\"]\n",
        "print( \"%s %s\"%(color_list[0],color_list[-1]))\n",
        "print( \"{} {}\".format(color_list[0],color_list[-1]))\n"
      ],
      "execution_count": null,
      "outputs": [
        {
          "output_type": "stream",
          "text": [
            "Red Black\n",
            "Red Black\n"
          ],
          "name": "stdout"
        }
      ]
    },
    {
      "cell_type": "markdown",
      "metadata": {
        "id": "p_26jAa7cQYR"
      },
      "source": [
        "---\n",
        "問題 $\\quad$ 入力例を出力例のフォーマットで出力する。\n",
        "\n",
        "exam_st_date = (11, 12, 2014)\n",
        "\n",
        "Sample Output: The examination will start from : 11 / 12 / 2014"
      ]
    },
    {
      "cell_type": "code",
      "metadata": {
        "id": "hiGu_1EVcfaQ",
        "colab": {
          "base_uri": "https://localhost:8080/"
        },
        "outputId": "d92bd73b-7b25-4795-c71e-8cea207e2eec"
      },
      "source": [
        "exam_st_date = (11,12,2014)\n",
        "print( \"The examination will start from : %i / %i / %i\"%exam_st_date)\n"
      ],
      "execution_count": 93,
      "outputs": [
        {
          "output_type": "stream",
          "text": [
            "The examination will start from : 11 / 12 / 2014\n"
          ],
          "name": "stdout"
        }
      ]
    },
    {
      "cell_type": "code",
      "metadata": {
        "colab": {
          "base_uri": "https://localhost:8080/"
        },
        "id": "Kj9RG5hSj4zR",
        "outputId": "3da2d2ab-21ca-4955-950a-85853a5b5cb3"
      },
      "source": [
        "# 別解\n",
        "import re\n",
        "exam_st_date = \"(11,12,2014)\"\n",
        "exam_st_date = re.sub('[()]','',exam_st_date)\n",
        "exam_st_date = list(map(int,exam_st_date.split(',')))\n",
        "print( \"The examination will start from : {}/{}/{}\".format(exam_st_date[0],exam_st_date[1],exam_st_date[2]))"
      ],
      "execution_count": 115,
      "outputs": [
        {
          "output_type": "stream",
          "text": [
            "The examination will start from : 11/12/2014\n"
          ],
          "name": "stdout"
        }
      ]
    },
    {
      "cell_type": "markdown",
      "metadata": {
        "id": "ho-7w976ofBu"
      },
      "source": [
        "---\n",
        "問題 $\\quad$ 整数 $n$ を受取り、n+nn+nnn を返す。\n",
        "\n",
        "入力例 : 5 \n",
        "\n",
        "出力例 : 615\n",
        "\n",
        "5 + 55+ 555 => 15"
      ]
    },
    {
      "cell_type": "code",
      "metadata": {
        "colab": {
          "base_uri": "https://localhost:8080/"
        },
        "id": "cn4KboaqpHLz",
        "outputId": "34273112-0dea-42dc-f7dc-c73f26ac3163"
      },
      "source": [
        "%%writefile temp.py\n",
        "a = int(input())\n",
        "n1 = int( \"%s\" % a )\n",
        "n2 = int( \"%s%s\" % (a,a) )\n",
        "n3 = int( \"%s%s%s\" % (a,a,a) )\n",
        "print (n1+n2+n3)\n"
      ],
      "execution_count": 117,
      "outputs": [
        {
          "output_type": "stream",
          "text": [
            "Overwriting temp.py\n"
          ],
          "name": "stdout"
        }
      ]
    },
    {
      "cell_type": "code",
      "metadata": {
        "colab": {
          "base_uri": "https://localhost:8080/"
        },
        "id": "Q6558F3fpNwV",
        "outputId": "44ddb57a-bb5b-442e-8759-ef6e98fdb04b"
      },
      "source": [
        "!echo 5 | python temp.py"
      ],
      "execution_count": 119,
      "outputs": [
        {
          "output_type": "stream",
          "text": [
            "615\n"
          ],
          "name": "stdout"
        }
      ]
    },
    {
      "cell_type": "markdown",
      "metadata": {
        "id": "PBvZ8AHEqAWN"
      },
      "source": [
        "---\n",
        "問題 $\\quad$ 組み込み関数のドキュメントを出力する。\n",
        "\n",
        "入力例 : abs()\n"
      ]
    },
    {
      "cell_type": "code",
      "metadata": {
        "colab": {
          "base_uri": "https://localhost:8080/"
        },
        "id": "75bbDy2wqMxU",
        "outputId": "4de13e66-9972-4d25-9ec4-f14722f72ddb"
      },
      "source": [
        "print(abs.__doc__)"
      ],
      "execution_count": 120,
      "outputs": [
        {
          "output_type": "stream",
          "text": [
            "Return the absolute value of the argument.\n"
          ],
          "name": "stdout"
        }
      ]
    },
    {
      "cell_type": "markdown",
      "metadata": {
        "id": "pLDVFgEHD_eI"
      },
      "source": [
        "---\n",
        "問題 $\\quad$ 年と月を読み込み、カレンダーを表示する。"
      ]
    },
    {
      "cell_type": "code",
      "metadata": {
        "id": "fy0E7bSrEaeO",
        "outputId": "5b053d32-ce8f-48c5-b3ba-b16551808044",
        "colab": {
          "base_uri": "https://localhost:8080/"
        }
      },
      "source": [
        "%%writefile temp.py\n",
        "import calendar\n",
        "y,m = map(int, input().split())\n",
        "print(calendar.month(y, m))"
      ],
      "execution_count": 3,
      "outputs": [
        {
          "output_type": "stream",
          "text": [
            "Writing temp.py\n"
          ],
          "name": "stdout"
        }
      ]
    },
    {
      "cell_type": "code",
      "metadata": {
        "id": "CmC-4194FMML",
        "outputId": "d3208d49-5437-41ca-f631-1e8c210bd014",
        "colab": {
          "base_uri": "https://localhost:8080/"
        }
      },
      "source": [
        "!echo 2021 5 | python temp.py"
      ],
      "execution_count": 4,
      "outputs": [
        {
          "output_type": "stream",
          "text": [
            "      May 2021\n",
            "Mo Tu We Th Fr Sa Su\n",
            "                1  2\n",
            " 3  4  5  6  7  8  9\n",
            "10 11 12 13 14 15 16\n",
            "17 18 19 20 21 22 23\n",
            "24 25 26 27 28 29 30\n",
            "31\n",
            "\n"
          ],
          "name": "stdout"
        }
      ]
    },
    {
      "cell_type": "markdown",
      "metadata": {
        "id": "2rXDkT1gFRHj"
      },
      "source": [
        "---\n",
        "問題 $\\quad$ 次のヒアドキュメントを出力する。\n",
        "\n",
        "入力例 :\n",
        "```\n",
        "a string that you \"don't\" have to escape\n",
        "This\n",
        "is a ....... multi-line\n",
        "heredoc string --------> example\n",
        "```"
      ]
    },
    {
      "cell_type": "code",
      "metadata": {
        "id": "QsjvvG9HFlWC",
        "outputId": "f15cc117-c5f0-4ebb-928f-9221610bb22b",
        "colab": {
          "base_uri": "https://localhost:8080/"
        }
      },
      "source": [
        "print(\"\"\"\n",
        "a string that you \"don't\" have to escape\n",
        "This\n",
        "is a  ....... multi-line\n",
        "heredoc string --------> example\n",
        "\"\"\")"
      ],
      "execution_count": 5,
      "outputs": [
        {
          "output_type": "stream",
          "text": [
            "\n",
            "a string that you \"don't\" have to escape\n",
            "This\n",
            "is a  ....... multi-line\n",
            "heredoc string --------> example\n",
            "\n"
          ],
          "name": "stdout"
        }
      ]
    },
    {
      "cell_type": "markdown",
      "metadata": {
        "id": "mNQJzjrsHXVi"
      },
      "source": [
        "---\n",
        "問題 $\\quad$ 年、月、日を 2 つ読み込み、その間の日数を算出する。\n",
        "\n",
        "入力例 : 2014 7 2 2014 7 11\n",
        "\n",
        "出力例 : 9 \n",
        "\n"
      ]
    },
    {
      "cell_type": "code",
      "metadata": {
        "id": "dBd8kG5dIHZ5",
        "outputId": "afab657f-9445-483b-93c0-f5d543df90c7",
        "colab": {
          "base_uri": "https://localhost:8080/"
        }
      },
      "source": [
        "%%writefile temp.py\n",
        "from datetime import date\n",
        "y,m,d,y1,m1,d1 = map(int, input().split())\n",
        "f_date = date(y,m,d)\n",
        "l_date = date(y1,m1,d1)\n",
        "delta = l_date - f_date\n",
        "print(delta.days)\n"
      ],
      "execution_count": 9,
      "outputs": [
        {
          "output_type": "stream",
          "text": [
            "Overwriting temp.py\n"
          ],
          "name": "stdout"
        }
      ]
    },
    {
      "cell_type": "code",
      "metadata": {
        "id": "ZgYCsGcOIxaM",
        "outputId": "38110d04-43eb-42a4-a821-c8747a54b0f6",
        "colab": {
          "base_uri": "https://localhost:8080/"
        }
      },
      "source": [
        "!echo 2014 7 2 2014 7 11 | python temp.py"
      ],
      "execution_count": 10,
      "outputs": [
        {
          "output_type": "stream",
          "text": [
            "9\n"
          ],
          "name": "stdout"
        }
      ]
    },
    {
      "cell_type": "markdown",
      "metadata": {
        "id": "dhRDTPkaIqD4"
      },
      "source": [
        "---\n",
        "問題 $\\quad$ 半径を 6 とした時の球の体積を求める。\n",
        "\n",
        "球の体積 : $\\displaystyle V = \\frac 4 3 \\times \\pi \\times r^3 = \\pi \\times \\frac{d^3}{6}$\n",
        "\n",
        "* $r =$ 半径\n",
        "* $d =$ 直径\n",
        "\n",
        "\n",
        "\n",
        "\n"
      ]
    },
    {
      "cell_type": "code",
      "metadata": {
        "id": "Hxo-EpxWJ0xh",
        "outputId": "43f8f70c-64c1-4f62-df7d-3631e7a711ea",
        "colab": {
          "base_uri": "https://localhost:8080/"
        }
      },
      "source": [
        "import math\n",
        "r= 6.0\n",
        "V= 4.0 / 3.0 * math.pi * r**3\n",
        "print('The volume of the sphere is: ',V)\n"
      ],
      "execution_count": 12,
      "outputs": [
        {
          "output_type": "stream",
          "text": [
            "The volume of the sphere is:  904.7786842338603\n"
          ],
          "name": "stdout"
        }
      ]
    },
    {
      "cell_type": "markdown",
      "metadata": {
        "id": "SRpgWxXIL713"
      },
      "source": [
        "---\n",
        "問題 $\\quad$ 条件文 if 文を使う。 $n$ が 17 以下ならば 17 との差、17 よりも大きければ、17 との差を 2 乗したものを返す。\n",
        "\n",
        "入力例 : 22 17"
      ]
    },
    {
      "cell_type": "code",
      "metadata": {
        "id": "jKZRZ_taJ1uY",
        "outputId": "82ba1e3e-e264-493e-d19f-21ff8f0eaeb9",
        "colab": {
          "base_uri": "https://localhost:8080/"
        }
      },
      "source": [
        "def difference(n):\n",
        "    if n <= 17:\n",
        "        return 17 - n\n",
        "    else:\n",
        "        return (n - 17) ** 2 \n",
        "\n",
        "print(difference(22))\n",
        "print(difference(14))\n"
      ],
      "execution_count": 14,
      "outputs": [
        {
          "output_type": "stream",
          "text": [
            "25\n",
            "3\n"
          ],
          "name": "stdout"
        }
      ]
    },
    {
      "cell_type": "markdown",
      "metadata": {
        "id": "4IUWw06OMl-Q"
      },
      "source": [
        "---\n",
        "問題 $\\quad$ $n$ と 1000 または 2000 との差の絶対値が 100 以下かどうかを返す。\n"
      ]
    },
    {
      "cell_type": "code",
      "metadata": {
        "id": "aMaQPkhfNPxO",
        "outputId": "58ba230d-d9c9-4bdf-b2cd-a63bfe3ccdeb",
        "colab": {
          "base_uri": "https://localhost:8080/"
        }
      },
      "source": [
        "def near_thousand(n):\n",
        "      return ((abs(1000 - n) <= 100) or (abs(2000 - n) <= 100))\n",
        "print(near_thousand(1000))\n",
        "print(near_thousand(900))\n",
        "print(near_thousand(800))   \n",
        "print(near_thousand(2200))\n"
      ],
      "execution_count": 16,
      "outputs": [
        {
          "output_type": "stream",
          "text": [
            "True\n",
            "True\n",
            "False\n",
            "False\n"
          ],
          "name": "stdout"
        }
      ]
    },
    {
      "cell_type": "markdown",
      "metadata": {
        "id": "u-sGZb5MNSbt"
      },
      "source": [
        "---\n",
        "問題 $\\quad$ $x,y,z$ の合計を計算する。 $x,y,z$ がすべて等しい時は合計を 3 倍して返す。\n"
      ]
    },
    {
      "cell_type": "code",
      "metadata": {
        "id": "NDOiEXrnOsNE",
        "outputId": "c769521e-86e2-4cfd-e3b6-8531d7efbb40",
        "colab": {
          "base_uri": "https://localhost:8080/"
        }
      },
      "source": [
        "def sum_thrice(x, y, z):\n",
        "     sum = x + y + z\n",
        "     if x == y == z:\n",
        "      sum = sum * 3\n",
        "     return sum\n",
        "print(sum_thrice(1, 2, 3))\n",
        "print(sum_thrice(3, 3, 3))\n"
      ],
      "execution_count": 17,
      "outputs": [
        {
          "output_type": "stream",
          "text": [
            "6\n",
            "27\n"
          ],
          "name": "stdout"
        }
      ]
    },
    {
      "cell_type": "markdown",
      "metadata": {
        "id": "yDoHXdKkOtIk"
      },
      "source": [
        "---\n",
        "問題 $\\quad$ 与えられた文字列の頭に \"Is\" を加えて返す。 もし、すでに文字列が \"Is\" で始まっていたら、なにもせずに返す。\n",
        "\n"
      ]
    },
    {
      "cell_type": "code",
      "metadata": {
        "id": "r6BpjrInPnw5",
        "outputId": "0c6dceb6-fd28-4c62-c9a6-3fb443c325db",
        "colab": {
          "base_uri": "https://localhost:8080/"
        }
      },
      "source": [
        "def new_string(str):\n",
        "  if len(str) >= 2 and str[:2] == \"Is\":\n",
        "    return str\n",
        "  return \"Is\" + str\n",
        "\n",
        "print(new_string(\"Array\"))\n",
        "print(new_string(\"IsEmpty\"))\n",
        "print(new_string(\"\"))"
      ],
      "execution_count": 19,
      "outputs": [
        {
          "output_type": "stream",
          "text": [
            "IsArray\n",
            "IsEmpty\n",
            "Is\n"
          ],
          "name": "stdout"
        }
      ]
    },
    {
      "cell_type": "markdown",
      "metadata": {
        "id": "xWdlU_tePoUs"
      },
      "source": [
        "---\n",
        "問題 $\\quad$ 文字列 $str$ を $n$ 回繰返した結果を返す。\n"
      ]
    },
    {
      "cell_type": "code",
      "metadata": {
        "id": "pYVcLg96QbOF",
        "outputId": "3e901605-6225-43a4-8385-873e5433e4d9",
        "colab": {
          "base_uri": "https://localhost:8080/"
        }
      },
      "source": [
        "def larger_string(str, n):\n",
        "   result = \"\"\n",
        "   for i in range(n):\n",
        "      result = result + str\n",
        "   return result\n",
        "\n",
        "print(larger_string('abc', 2))\n",
        "print(larger_string('.py', 3))\n"
      ],
      "execution_count": 20,
      "outputs": [
        {
          "output_type": "stream",
          "text": [
            "abcabc\n",
            ".py.py.py\n"
          ],
          "name": "stdout"
        }
      ]
    },
    {
      "cell_type": "markdown",
      "metadata": {
        "id": "eCCbIeMlQbu7"
      },
      "source": [
        "---\n",
        "問題 $\\quad$ 標準入力から 整数 $n$ を得て、偶数かどうかを判定して返す。\n"
      ]
    },
    {
      "cell_type": "code",
      "metadata": {
        "id": "5qTm3amPQzx4",
        "outputId": "f7350759-8535-4655-8a34-d6df8551c891",
        "colab": {
          "base_uri": "https://localhost:8080/"
        }
      },
      "source": [
        "%%writefile temp.py\n",
        "num = int(float(input()))\n",
        "mod = num % 2\n",
        "if mod > 0:\n",
        "    print(\"This is an odd number.\")\n",
        "else:\n",
        "    print(\"This is an even number.\")"
      ],
      "execution_count": 25,
      "outputs": [
        {
          "output_type": "stream",
          "text": [
            "Overwriting temp.py\n"
          ],
          "name": "stdout"
        }
      ]
    },
    {
      "cell_type": "code",
      "metadata": {
        "id": "W-C4tns4RHrn",
        "outputId": "c0242be3-6cc2-454a-b73a-8d742da72a7f",
        "colab": {
          "base_uri": "https://localhost:8080/"
        }
      },
      "source": [
        "!echo 3 | python temp.py"
      ],
      "execution_count": 29,
      "outputs": [
        {
          "output_type": "stream",
          "text": [
            "This is an odd number.\n"
          ],
          "name": "stdout"
        }
      ]
    },
    {
      "cell_type": "markdown",
      "metadata": {
        "id": "Y-bt5Dj0Re26"
      },
      "source": [
        "---\n",
        "問題 $\\quad$ 与えられたリストに 4 がいくつあるか数える。\n"
      ]
    },
    {
      "cell_type": "code",
      "metadata": {
        "id": "u81tEuI_R7hh",
        "outputId": "e9d06d83-6290-4573-849f-c474a07967d8",
        "colab": {
          "base_uri": "https://localhost:8080/"
        }
      },
      "source": [
        "def list_count_4(nums):\n",
        "  count = 0  \n",
        "  for num in nums:\n",
        "    if num == 4:\n",
        "      count = count + 1\n",
        "\n",
        "  return count\n",
        "\n",
        "print(list_count_4([1, 4, 6, 7, 4]))\n",
        "print(list_count_4([1, 4, 6, 4, 7, 4]))"
      ],
      "execution_count": 30,
      "outputs": [
        {
          "output_type": "stream",
          "text": [
            "2\n",
            "3\n"
          ],
          "name": "stdout"
        }
      ]
    },
    {
      "cell_type": "markdown",
      "metadata": {
        "id": "ifl8TwWGSMnR"
      },
      "source": [
        "--- \n",
        "問題 $\\quad$ 文字列 $str$ と正の整数 $n$ から、文字列の最初の 2 文字を $n$ 回繰返したものを返す。 文字列の長さが $n$ よりも短い場合は文字列全体を $n$ 回繰り返す。\n"
      ]
    },
    {
      "cell_type": "code",
      "metadata": {
        "id": "4sEnop5SSdgo",
        "outputId": "748c4bed-b37f-4d1f-ec00-963d6c7aae82",
        "colab": {
          "base_uri": "https://localhost:8080/"
        }
      },
      "source": [
        "def substring_copy(str, n):\n",
        "  flen = 2\n",
        "  if flen > len(str):\n",
        "    flen = len(str)\n",
        "  substr = str[:flen]\n",
        "  \n",
        "  result = \"\"\n",
        "  for i in range(n):\n",
        "    result = result + substr\n",
        "  return result\n",
        "print(substring_copy('abcdef', 2))\n",
        "print(substring_copy('p', 3))\n",
        "print(substring_copy('abc', 5))"
      ],
      "execution_count": 38,
      "outputs": [
        {
          "output_type": "stream",
          "text": [
            "abab\n",
            "ppp\n",
            "ababababab\n",
            "\n"
          ],
          "name": "stdout"
        }
      ]
    },
    {
      "cell_type": "code",
      "metadata": {
        "id": "10i0hisRSeNo",
        "outputId": "a7626d13-af53-41b6-c61d-257e4774ea91",
        "colab": {
          "base_uri": "https://localhost:8080/"
        }
      },
      "source": [
        "# 実験\n",
        "def substring_copy(str, n):\n",
        "  flen = 2\n",
        "  if flen > len(str):\n",
        "    flen = len(str)\n",
        "  substr = str[:flen]\n",
        "  return substr*n\n",
        "print(substring_copy('abcdef', 2))\n",
        "print(substring_copy('p', 3))\n",
        "print(substring_copy('abc', 5))"
      ],
      "execution_count": 36,
      "outputs": [
        {
          "output_type": "stream",
          "text": [
            "abab\n",
            "ppp\n",
            "ababababab\n",
            "\n"
          ],
          "name": "stdout"
        }
      ]
    },
    {
      "cell_type": "markdown",
      "metadata": {
        "id": "PtROjDJ0T9cI"
      },
      "source": [
        "---\n",
        "問題 $\\quad$ 文字 $char$ が母音かどうかを判定する。"
      ]
    },
    {
      "cell_type": "code",
      "metadata": {
        "id": "9n4T7NrbVvsH",
        "outputId": "11f7391c-27c9-4a93-8fc5-c7cb9120709b",
        "colab": {
          "base_uri": "https://localhost:8080/"
        }
      },
      "source": [
        "def is_vowel(char):\n",
        "    all_vowels = 'aeiou'\n",
        "    return char in all_vowels\n",
        "print(is_vowel('c'))\n",
        "print(is_vowel('e'))\n"
      ],
      "execution_count": 39,
      "outputs": [
        {
          "output_type": "stream",
          "text": [
            "False\n",
            "True\n"
          ],
          "name": "stdout"
        }
      ]
    },
    {
      "cell_type": "markdown",
      "metadata": {
        "id": "UmiB8giYVwZ-"
      },
      "source": [
        "---\n",
        "問題 $\\quad$ 要素がリストの元かどうかを返す。\n"
      ]
    },
    {
      "cell_type": "code",
      "metadata": {
        "id": "E72OKlZsV7My",
        "outputId": "232a8306-5ae4-41ce-b30c-2c676db6bf4c",
        "colab": {
          "base_uri": "https://localhost:8080/"
        }
      },
      "source": [
        "def is_group_member(group_data, n):\n",
        "    for value in group_data:\n",
        "        if n == value:\n",
        "            return True\n",
        "    return False\n",
        "    \n",
        "print(is_group_member([1, 5, 8, 3], 3))\n",
        "print(is_group_member([5, 8, 3], -1))\n"
      ],
      "execution_count": 40,
      "outputs": [
        {
          "output_type": "stream",
          "text": [
            "True\n",
            "False\n"
          ],
          "name": "stdout"
        }
      ]
    },
    {
      "cell_type": "code",
      "metadata": {
        "id": "Iz9AuriFWLWW",
        "outputId": "ef83034a-b166-45de-9c05-9cdbb8b39915",
        "colab": {
          "base_uri": "https://localhost:8080/"
        }
      },
      "source": [
        "# 実験\n",
        "print(3 in [1, 5, 8, 3])\n",
        "print(-1 in [5, 8, 3])"
      ],
      "execution_count": 42,
      "outputs": [
        {
          "output_type": "stream",
          "text": [
            "True\n",
            "False\n"
          ],
          "name": "stdout"
        }
      ]
    },
    {
      "cell_type": "markdown",
      "metadata": {
        "id": "urkmvU8cXy6e"
      },
      "source": [
        "---\n",
        "問題 $\\quad$ 整数のリストからヒストグラムを作る。\n"
      ]
    },
    {
      "cell_type": "code",
      "metadata": {
        "id": "bmmCdGobX9iK",
        "outputId": "f6670aeb-c4ab-4b1d-9e47-7873a7d1d3c0",
        "colab": {
          "base_uri": "https://localhost:8080/"
        }
      },
      "source": [
        "def histogram( items ):\n",
        "    for n in items:\n",
        "        output = ''\n",
        "        times = n\n",
        "        while( times > 0 ):\n",
        "          output += '*'\n",
        "          times = times - 1\n",
        "        print(output)\n",
        "\n",
        "histogram([2, 3, 6, 5])\n"
      ],
      "execution_count": 43,
      "outputs": [
        {
          "output_type": "stream",
          "text": [
            "**\n",
            "***\n",
            "******\n",
            "*****\n"
          ],
          "name": "stdout"
        }
      ]
    },
    {
      "cell_type": "code",
      "metadata": {
        "id": "VnfSXpqxX-G0",
        "outputId": "4aba1bca-4768-45c6-a5eb-534cf970cd89",
        "colab": {
          "base_uri": "https://localhost:8080/",
          "height": 265
        }
      },
      "source": [
        "# 実験\n",
        "import matplotlib.pyplot as plt\n",
        "fig = plt.figure(figsize=(6,4))\n",
        "ax = fig.add_subplot()\n",
        "x = [2,2,4,4,4,4,6,6,6,6,6,6,5,5,5,5,5,5,5,5]\n",
        "ax.hist(x)\n",
        "plt.show()"
      ],
      "execution_count": 47,
      "outputs": [
        {
          "output_type": "display_data",
          "data": {
            "image/png": "[encoded data removed]",
            "text/plain": [
              "<Figure size 432x288 with 1 Axes>"
            ]
          },
          "metadata": {
            "tags": [],
            "needs_background": "light"
          }
        }
      ]
    },
    {
      "cell_type": "markdown",
      "metadata": {
        "id": "U0iySAsHZQv8"
      },
      "source": [
        "---\n",
        "問題 $\\quad$ リストの要素をすべて文字列にして連結 concatenate する。"
      ]
    },
    {
      "cell_type": "code",
      "metadata": {
        "id": "KUQZ6IM9Z0Iz",
        "outputId": "07dc064c-e403-4e82-97b5-850b47034c59",
        "colab": {
          "base_uri": "https://localhost:8080/"
        }
      },
      "source": [
        "def concatenate_list_data(list):\n",
        "    result= ''\n",
        "    for element in list:\n",
        "        result += str(element)\n",
        "    return result\n",
        "\n",
        "print(concatenate_list_data([1, 5, 12, 2]))\n"
      ],
      "execution_count": 48,
      "outputs": [
        {
          "output_type": "stream",
          "text": [
            "15122\n"
          ],
          "name": "stdout"
        }
      ]
    },
    {
      "cell_type": "code",
      "metadata": {
        "id": "SGmC5RyeZ0rk",
        "outputId": "ef97d4c2-e0b9-4aac-d5ee-7983fc9746f6",
        "colab": {
          "base_uri": "https://localhost:8080/"
        }
      },
      "source": [
        "# 実験\n",
        "%%writefile temp.py\n",
        "from functools import reduce\n",
        "listdata = reduce(lambda a,b: a+b,input().split())\n",
        "print(listdata)"
      ],
      "execution_count": 58,
      "outputs": [
        {
          "output_type": "stream",
          "text": [
            "Overwriting temp.py\n"
          ],
          "name": "stdout"
        }
      ]
    },
    {
      "cell_type": "code",
      "metadata": {
        "id": "2IIwVoaQa0vs",
        "outputId": "b74d2715-abb4-4afd-a381-98d71f450979",
        "colab": {
          "base_uri": "https://localhost:8080/"
        }
      },
      "source": [
        "!echo 1 5 12 and 2 | python temp.py"
      ],
      "execution_count": 59,
      "outputs": [
        {
          "output_type": "stream",
          "text": [
            "1512and2\n"
          ],
          "name": "stdout"
        }
      ]
    },
    {
      "cell_type": "markdown",
      "metadata": {
        "id": "w5w2BNPNb4EU"
      },
      "source": [
        "---\n",
        "問題 $\\quad$ 数字のリストから偶数だけを元のリストの順番に出力する。 ただし値が 237 で終了する。\n",
        "\n",
        "入力例 :\n",
        "\n",
        "numbers = [   \n",
        "    386, 462, 47, 418, 907, 344, 236, 375, 823, 566, 597, 978, 328, 615, 953, 345,   \n",
        "    399, 162, 758, 219, 918, 237, 412, 566, 826, 248, 866, 950, 626, 949, 687, 217,   \n",
        "    815, 67, 104, 58, 512, 24, 892, 894, 767, 553, 81, 379, 843, 831, 445, 742, 717,   \n",
        "    958,743, 527  \n",
        "    ]"
      ]
    },
    {
      "cell_type": "code",
      "metadata": {
        "id": "2wNGMoYocITj",
        "outputId": "b1b359ef-312a-4d15-ba50-fbb71d51ea14",
        "colab": {
          "base_uri": "https://localhost:8080/"
        }
      },
      "source": [
        "numbers = [    \n",
        "    386, 462, 47, 418, 907, 344, 236, 375, 823, 566, 597, 978, 328, 615, 953, 345, \n",
        "    399, 162, 758, 219, 918, 237, 412, 566, 826, 248, 866, 950, 626, 949, 687, 217, \n",
        "    815, 67, 104, 58, 512, 24, 892, 894, 767, 553, 81, 379, 843, 831, 445, 742, 717, \n",
        "    958,743, 527\n",
        "    ]\n",
        "\n",
        "for x in numbers:\n",
        "    if x == 237:\n",
        "        print(x)\n",
        "        break;\n",
        "    elif x % 2 == 0:\n",
        "        print(x)\n",
        "\t\t"
      ],
      "execution_count": 60,
      "outputs": [
        {
          "output_type": "stream",
          "text": [
            "386\n",
            "462\n",
            "418\n",
            "344\n",
            "236\n",
            "566\n",
            "978\n",
            "328\n",
            "162\n",
            "758\n",
            "918\n",
            "237\n"
          ],
          "name": "stdout"
        }
      ]
    },
    {
      "cell_type": "code",
      "metadata": {
        "id": "PQbN2UtTcJIZ",
        "outputId": "3c476054-ddb8-4b7d-bbfc-daac49c0ba4d",
        "colab": {
          "base_uri": "https://localhost:8080/"
        }
      },
      "source": [
        "# 実験\n",
        "numbers = [    \n",
        "    386, 462, 47, 418, 907, 344, 236, 375, 823, 566, 597, 978, 328, 615, 953, 345, \n",
        "    399, 162, 758, 219, 918, 237, 412, 566, 826, 248, 866, 950, 626, 949, 687, 217, \n",
        "    815, 67, 104, 58, 512, 24, 892, 894, 767, 553, 81, 379, 843, 831, 445, 742, 717, \n",
        "    958,743, 527\n",
        "    ]\n",
        "\n",
        "if 237 in numbers :\n",
        "    numbers = numbers[:numbers.index(237)]\n",
        "    numbers = [n for n in numbers if n % 2 == 0] + [237]\n",
        "else :\n",
        "    numbers = [n for n in numbers if n % 2 == 0]\n",
        "\n",
        "for n in numbers:\n",
        "    print(n)\n"
      ],
      "execution_count": 67,
      "outputs": [
        {
          "output_type": "stream",
          "text": [
            "386\n",
            "462\n",
            "418\n",
            "344\n",
            "236\n",
            "566\n",
            "978\n",
            "328\n",
            "162\n",
            "758\n",
            "918\n",
            "237\n"
          ],
          "name": "stdout"
        }
      ]
    },
    {
      "cell_type": "code",
      "metadata": {
        "id": "pk1UuAbEdNrh"
      },
      "source": [
        ""
      ],
      "execution_count": 64,
      "outputs": []
    }
  ]
}