{
  "nbformat": 4,
  "nbformat_minor": 0,
  "metadata": {
    "colab": {
      "name": "python_exercise.ipynb",
      "provenance": [],
      "toc_visible": true,
      "authorship_tag": "ABX9TyNnWgjz/4qGYIrqqhJoWBjP",
      "include_colab_link": true
    },
    "kernelspec": {
      "name": "python3",
      "display_name": "Python 3"
    },
    "language_info": {
      "name": "python"
    }
  },
  "cells": [
    {
      "cell_type": "markdown",
      "metadata": {
        "id": "view-in-github",
        "colab_type": "text"
      },
      "source": [
        "<a href=\"https://colab.research.google.com/github/kalz2q/mycolabnotebooks/blob/master/python_exercise.ipynb\" target=\"_parent\"><img src=\"https://colab.research.google.com/assets/colab-badge.svg\" alt=\"Open In Colab\"/></a>"
      ]
    },
    {
      "cell_type": "markdown",
      "metadata": {
        "id": "aYq7NBCFIKqH"
      },
      "source": [
        "# メモ\n",
        "\n",
        "python 問題集\n",
        "\n",
        "をつくる。 colab ベース\n",
        "\n",
        "順不同\n",
        "\n",
        "* https://www.w3resource.com/python-exercises/\n",
        "\n",
        "* あのアルゴリズムはどこ？　Pythonを使用してAtCoderの緑色や水色を目指す方に、30以上のアルゴリズムスニペットと100問以上の問題（ACコード付き）を紹介！  \n",
        "https://qiita.com/H20/items/1a066e242815961cd043\n",
        "\n"
      ]
    },
    {
      "cell_type": "markdown",
      "metadata": {
        "id": "gM5BypBHgm-v"
      },
      "source": [
        "---\n",
        "問題 $\\quad$ サンプル文字列 (きらきら星) を出力例のように整形して出力する。\n",
        "\n",
        "サンプル文字列 : \"Twinkle, twinkle, little star, How I wonder what you are! Up above the world so high, Like a diamond in the sky. Twinkle, twinkle, little star, How I wonder what you are\" \n",
        "\n",
        "出力例 :\n",
        "```\n",
        "Twinkle, twinkle, little star,\n",
        "\tHow I wonder what you are! \n",
        "\t\tUp above the world so high,   \t\t\n",
        "\t\tLike a diamond in the sky. \n",
        "Twinkle, twinkle, little star, \n",
        "\tHow I wonder what you are\n",
        "```"
      ]
    },
    {
      "cell_type": "code",
      "metadata": {
        "id": "A5n50VLGiqNv",
        "colab": {
          "base_uri": "https://localhost:8080/"
        },
        "outputId": "c05bf822-1037-4018-a004-563ab2104b12"
      },
      "source": [
        "print(\"Twinkle, twinkle, little star, \\n\\tHow I wonder what you are! \\n\\t\\tUp above the world so high, \\n\\t\\tLike a diamond in the sky. \\nTwinkle, twinkle, little star, \\n\\tHow I wonder what you are!\")\n"
      ],
      "execution_count": null,
      "outputs": [
        {
          "output_type": "stream",
          "text": [
            "Twinkle, twinkle, little star, \n",
            "\tHow I wonder what you are! \n",
            "\t\tUp above the world so high, \n",
            "\t\tLike a diamond in the sky. \n",
            "Twinkle, twinkle, little star, \n",
            "\tHow I wonder what you are!\n"
          ],
          "name": "stdout"
        }
      ]
    },
    {
      "cell_type": "code",
      "metadata": {
        "id": "jSfIfLC4jEw8",
        "colab": {
          "base_uri": "https://localhost:8080/"
        },
        "outputId": "26252000-73c2-41b9-ace2-fc302e3d55dd"
      },
      "source": [
        "# アイデア\n",
        "# sample_string を 大文字で始まる文のリストに変換する\n",
        "# Twinkle のとき \\t の数 0\n",
        "# それ以外は順に \\t の数を増やすが max が 2 こ\n",
        "# リストを 1 行ずつ出力する\n",
        "import re\n",
        "sample_string =  \"Twinkle, twinkle, little star, How I wonder what you are! Up above the world so high, Like a diamond in the sky. Twinkle, twinkle, little star, How I wonder what you are\"\n",
        "\n",
        "strings = re.findall(r'[A-Z^I][a-zI ,.!]*', sample_string)\n",
        "head = \"\"\n",
        "for string in strings:\n",
        "    if string[0] == \"T\":\n",
        "        head = \"\"\n",
        "    else :\n",
        "        head = head+\"\\t\"\n",
        "        if len(head) >= 2 : head = \"\\t\\t\"\n",
        "    string = head + string\n",
        "    print (string)"
      ],
      "execution_count": null,
      "outputs": [
        {
          "output_type": "stream",
          "text": [
            "Twinkle, twinkle, little star, \n",
            "\tHow I wonder what you are! \n",
            "\t\tUp above the world so high, \n",
            "\t\tLike a diamond in the sky. \n",
            "Twinkle, twinkle, little star, \n",
            "\tHow I wonder what you are\n"
          ],
          "name": "stdout"
        }
      ]
    },
    {
      "cell_type": "markdown",
      "metadata": {
        "id": "yG9smrDUNHA4"
      },
      "source": [
        "---\n",
        "問題 $\\quad$ python のバージョンを出力する。"
      ]
    },
    {
      "cell_type": "code",
      "metadata": {
        "id": "yG67pSvANMHr",
        "colab": {
          "base_uri": "https://localhost:8080/"
        },
        "outputId": "15e869de-20f6-4e3a-a581-677ac99ddee8"
      },
      "source": [
        "import sys\n",
        "print(\"Python version\")\n",
        "print (sys.version)\n",
        "print(\"Version info.\")\n",
        "print (sys.version_info)\n"
      ],
      "execution_count": null,
      "outputs": [
        {
          "output_type": "stream",
          "text": [
            "Python version\n",
            "3.7.10 (default, May  3 2021, 02:48:31) \n",
            "[GCC 7.5.0]\n",
            "Version info.\n",
            "sys.version_info(major=3, minor=7, micro=10, releaselevel='final', serial=0)\n"
          ],
          "name": "stdout"
        }
      ]
    },
    {
      "cell_type": "code",
      "metadata": {
        "id": "sFRK6Yh_NP09",
        "colab": {
          "base_uri": "https://localhost:8080/"
        },
        "outputId": "cd25f603-281d-426a-81b5-ab2d08c07c63"
      },
      "source": [
        "!python --version"
      ],
      "execution_count": null,
      "outputs": [
        {
          "output_type": "stream",
          "text": [
            "Python 3.7.10\n"
          ],
          "name": "stdout"
        }
      ]
    },
    {
      "cell_type": "markdown",
      "metadata": {
        "id": "1HUQs9YUNlC4"
      },
      "source": [
        "---\n",
        "問題 $\\quad$ 現在の日付と時刻を出力する。"
      ]
    },
    {
      "cell_type": "code",
      "metadata": {
        "id": "x2ogSad6N0Ww",
        "colab": {
          "base_uri": "https://localhost:8080/"
        },
        "outputId": "f887490c-5ed3-45fa-dd3f-14c861697ab0"
      },
      "source": [
        "import datetime\n",
        "now = datetime.datetime.now()\n",
        "print (\"Current date and time : \")\n",
        "print (now.strftime(\"%Y-%m-%d %H:%M:%S\"))\n"
      ],
      "execution_count": null,
      "outputs": [
        {
          "output_type": "stream",
          "text": [
            "Current date and time : \n",
            "2021-05-15 08:49:26\n"
          ],
          "name": "stdout"
        }
      ]
    },
    {
      "cell_type": "markdown",
      "metadata": {
        "id": "lBXYXhHnOWhv"
      },
      "source": [
        "---\n",
        "問題 $\\quad$ 円の半径を受取り、面積を出力する。\n",
        "\n",
        "円の面積 = $\\pi r^2$\n"
      ]
    },
    {
      "cell_type": "code",
      "metadata": {
        "id": "QObr6GRbPM9g",
        "colab": {
          "base_uri": "https://localhost:8080/"
        },
        "outputId": "9ed50597-5b4f-4465-9a43-d5cfdcbafc17"
      },
      "source": [
        "%%writefile temp.py\n",
        "from math import pi\n",
        "r = float(input ())\n",
        "print (\"The area of the circle with radius \" + str(r) + \" is: \" + str(pi * r**2))"
      ],
      "execution_count": null,
      "outputs": [
        {
          "output_type": "stream",
          "text": [
            "Writing temp.py\n"
          ],
          "name": "stdout"
        }
      ]
    },
    {
      "cell_type": "code",
      "metadata": {
        "id": "G9hSid6PPj3S",
        "colab": {
          "base_uri": "https://localhost:8080/"
        },
        "outputId": "c4d5e8b9-0495-4962-c926-510d78290fe4"
      },
      "source": [
        "!echo 3 | python temp.py"
      ],
      "execution_count": null,
      "outputs": [
        {
          "output_type": "stream",
          "text": [
            "The area of the circle with radius 3.0 is: 28.274333882308138\n"
          ],
          "name": "stdout"
        }
      ]
    },
    {
      "cell_type": "markdown",
      "metadata": {
        "id": "LC8_dWnLP95O"
      },
      "source": [
        "---\n",
        "問題 $\\quad$ 整数 $n,x,t$ を受取り、$n$ を $x$で割って、小数点以下を切り上げて、$t$ 倍して返す。\n",
        "\n",
        "例 : 3 8 5 => 5\n"
      ]
    },
    {
      "cell_type": "code",
      "metadata": {
        "id": "GGW50Ua0Qyko",
        "colab": {
          "base_uri": "https://localhost:8080/"
        },
        "outputId": "b44c882d-f31c-4958-ed87-fc6340eab52b"
      },
      "source": [
        "%%writefile temp.py\n",
        "n,x,t = map(int, input().split())\n",
        "print(-(-n//x)*t)"
      ],
      "execution_count": null,
      "outputs": [
        {
          "output_type": "stream",
          "text": [
            "Overwriting temp.py\n"
          ],
          "name": "stdout"
        }
      ]
    },
    {
      "cell_type": "code",
      "metadata": {
        "id": "qefk8MfCRKdY",
        "colab": {
          "base_uri": "https://localhost:8080/"
        },
        "outputId": "af74669c-4ff0-43e4-c297-90da951098bd"
      },
      "source": [
        "! echo 3 8 5 | python temp.py"
      ],
      "execution_count": null,
      "outputs": [
        {
          "output_type": "stream",
          "text": [
            "5\n"
          ],
          "name": "stdout"
        }
      ]
    },
    {
      "cell_type": "markdown",
      "metadata": {
        "id": "0jemsXwqR-TO"
      },
      "source": [
        "---\n",
        "問題 $\\quad$ 名前と姓を入力し、姓、名の順に出力する。\n",
        "\n",
        "例: Dany Boon => Hello, Boon Dany!"
      ]
    },
    {
      "cell_type": "code",
      "metadata": {
        "id": "vz_9Xxg7SsRe",
        "colab": {
          "base_uri": "https://localhost:8080/"
        },
        "outputId": "a1caa202-1457-497b-d566-a67a3631961f"
      },
      "source": [
        "%%writefile temp.py\n",
        "firstname, lastname = input().split()\n",
        "print(\"Hello, {} {}!\".format(lastname,firstname))"
      ],
      "execution_count": null,
      "outputs": [
        {
          "output_type": "stream",
          "text": [
            "Overwriting temp.py\n"
          ],
          "name": "stdout"
        }
      ]
    },
    {
      "cell_type": "code",
      "metadata": {
        "id": "-1rxAsdiTBA2",
        "colab": {
          "base_uri": "https://localhost:8080/"
        },
        "outputId": "90772ead-3c09-48da-d00c-07b93526f394"
      },
      "source": [
        "! echo Dany Boon | python temp.py"
      ],
      "execution_count": null,
      "outputs": [
        {
          "output_type": "stream",
          "text": [
            "Hello, Boon Danny!\n"
          ],
          "name": "stdout"
        }
      ]
    },
    {
      "cell_type": "markdown",
      "metadata": {
        "id": "V_FIbVKeTa2h"
      },
      "source": [
        "---\n",
        "問題 $\\quad$ カンマで区切られた数字を受取り、リストとタプルの形で出力する。\n",
        "\n",
        "例 : 3, 5, 7, 23"
      ]
    },
    {
      "cell_type": "code",
      "metadata": {
        "id": "GcoApujiTr0I",
        "colab": {
          "base_uri": "https://localhost:8080/"
        },
        "outputId": "3ac09f0b-74a5-429e-dbce-73da713cc960"
      },
      "source": [
        "%%writefile temp.py\n",
        "data = list(map(int,input().split(\",\")))\n",
        "print(data)\n",
        "print(tuple(data))"
      ],
      "execution_count": null,
      "outputs": [
        {
          "output_type": "stream",
          "text": [
            "Overwriting temp.py\n"
          ],
          "name": "stdout"
        }
      ]
    },
    {
      "cell_type": "code",
      "metadata": {
        "id": "_a9fYT6fT3Bz",
        "colab": {
          "base_uri": "https://localhost:8080/"
        },
        "outputId": "90e40070-2c7e-4100-ff6a-de2642e03f85"
      },
      "source": [
        "!echo 3,5,7,23 | python temp.py"
      ],
      "execution_count": null,
      "outputs": [
        {
          "output_type": "stream",
          "text": [
            "[3, 5, 7, 23]\n",
            "(3, 5, 7, 23)\n"
          ],
          "name": "stdout"
        }
      ]
    },
    {
      "cell_type": "markdown",
      "metadata": {
        "id": "YLlXoH0dZg76"
      },
      "source": [
        "---\n",
        "問題 $\\quad$ ファイル名を受取り、拡張子を切り取って出力する。\n",
        "\n",
        "例 : abc.java\n"
      ]
    },
    {
      "cell_type": "code",
      "metadata": {
        "id": "hvBJ7uXZZuKy",
        "colab": {
          "base_uri": "https://localhost:8080/"
        },
        "outputId": "b4be1edf-3783-4584-99f8-517ded75d3ad"
      },
      "source": [
        "%%writefile temp.py\n",
        "filename = input()\n",
        "f_extns = filename.split(\".\")\n",
        "print (\"The extension of the file is : \" + repr(f_extns[-1]))"
      ],
      "execution_count": null,
      "outputs": [
        {
          "output_type": "stream",
          "text": [
            "Overwriting temp.py\n"
          ],
          "name": "stdout"
        }
      ]
    },
    {
      "cell_type": "code",
      "metadata": {
        "id": "IZ5-7J-OZz8Q",
        "colab": {
          "base_uri": "https://localhost:8080/"
        },
        "outputId": "3fe2da01-763a-41ae-9f5f-0070dc8b6982"
      },
      "source": [
        "!echo abc.java | python temp.py"
      ],
      "execution_count": null,
      "outputs": [
        {
          "output_type": "stream",
          "text": [
            "The extension of the file is : 'java'\n"
          ],
          "name": "stdout"
        }
      ]
    },
    {
      "cell_type": "markdown",
      "metadata": {
        "id": "Jy3mqCpnaEYy"
      },
      "source": [
        "メモ $\\quad$ repr() で引用符をつけている。\n",
        "\n",
        "`f_extns[-1]` としているのは this.is.filename.txt というようなファイル名対策。"
      ]
    },
    {
      "cell_type": "markdown",
      "metadata": {
        "id": "v8EdhYwmbifO"
      },
      "source": [
        "---\n",
        "問題 $\\quad$ リストの最初の項目と最後の項目を出力する。\n",
        "\n",
        "color_list = [\"Red\",\"Green\",\"White\" ,\"Black\"]"
      ]
    },
    {
      "cell_type": "code",
      "metadata": {
        "id": "2QhFsBMlbsLl",
        "colab": {
          "base_uri": "https://localhost:8080/"
        },
        "outputId": "73649d05-0a37-4570-824b-24933a8fa7af"
      },
      "source": [
        "color_list = [\"Red\",\"Green\",\"White\" ,\"Black\"]\n",
        "print( \"%s %s\"%(color_list[0],color_list[-1]))\n",
        "print( \"{} {}\".format(color_list[0],color_list[-1]))\n"
      ],
      "execution_count": null,
      "outputs": [
        {
          "output_type": "stream",
          "text": [
            "Red Black\n",
            "Red Black\n"
          ],
          "name": "stdout"
        }
      ]
    },
    {
      "cell_type": "markdown",
      "metadata": {
        "id": "p_26jAa7cQYR"
      },
      "source": [
        "---\n",
        "問題 $\\quad$ 入力例を出力例のフォーマットで出力する。\n",
        "\n",
        "exam_st_date = (11, 12, 2014)\n",
        "\n",
        "Sample Output: The examination will start from : 11 / 12 / 2014"
      ]
    },
    {
      "cell_type": "code",
      "metadata": {
        "id": "hiGu_1EVcfaQ",
        "outputId": "d92bd73b-7b25-4795-c71e-8cea207e2eec",
        "colab": {
          "base_uri": "https://localhost:8080/"
        }
      },
      "source": [
        "exam_st_date = (11,12,2014)\n",
        "print( \"The examination will start from : %i / %i / %i\"%exam_st_date)\n"
      ],
      "execution_count": 93,
      "outputs": [
        {
          "output_type": "stream",
          "text": [
            "The examination will start from : 11 / 12 / 2014\n"
          ],
          "name": "stdout"
        }
      ]
    },
    {
      "cell_type": "code",
      "metadata": {
        "id": "Kj9RG5hSj4zR",
        "outputId": "3da2d2ab-21ca-4955-950a-85853a5b5cb3",
        "colab": {
          "base_uri": "https://localhost:8080/"
        }
      },
      "source": [
        "# 別解\n",
        "import re\n",
        "exam_st_date = \"(11,12,2014)\"\n",
        "exam_st_date = re.sub('[()]','',exam_st_date)\n",
        "exam_st_date = list(map(int,exam_st_date.split(',')))\n",
        "print( \"The examination will start from : {}/{}/{}\".format(exam_st_date[0],exam_st_date[1],exam_st_date[2]))"
      ],
      "execution_count": 115,
      "outputs": [
        {
          "output_type": "stream",
          "text": [
            "The examination will start from : 11/12/2014\n"
          ],
          "name": "stdout"
        }
      ]
    },
    {
      "cell_type": "markdown",
      "metadata": {
        "id": "ho-7w976ofBu"
      },
      "source": [
        "---\n",
        "問題 $\\quad$ 整数 $n$ を受取り、n+nn+nnn を返す。\n",
        "\n",
        "入力例 : 5 \n",
        "\n",
        "出力例 : 615\n",
        "\n",
        "5 + 55+ 555 => 15"
      ]
    },
    {
      "cell_type": "code",
      "metadata": {
        "id": "cn4KboaqpHLz",
        "outputId": "34273112-0dea-42dc-f7dc-c73f26ac3163",
        "colab": {
          "base_uri": "https://localhost:8080/"
        }
      },
      "source": [
        "%%writefile temp.py\n",
        "a = int(input())\n",
        "n1 = int( \"%s\" % a )\n",
        "n2 = int( \"%s%s\" % (a,a) )\n",
        "n3 = int( \"%s%s%s\" % (a,a,a) )\n",
        "print (n1+n2+n3)\n"
      ],
      "execution_count": 117,
      "outputs": [
        {
          "output_type": "stream",
          "text": [
            "Overwriting temp.py\n"
          ],
          "name": "stdout"
        }
      ]
    },
    {
      "cell_type": "code",
      "metadata": {
        "id": "Q6558F3fpNwV",
        "outputId": "44ddb57a-bb5b-442e-8759-ef6e98fdb04b",
        "colab": {
          "base_uri": "https://localhost:8080/"
        }
      },
      "source": [
        "!echo 5 | python temp.py"
      ],
      "execution_count": 119,
      "outputs": [
        {
          "output_type": "stream",
          "text": [
            "615\n"
          ],
          "name": "stdout"
        }
      ]
    },
    {
      "cell_type": "markdown",
      "metadata": {
        "id": "PBvZ8AHEqAWN"
      },
      "source": [
        "---\n",
        "問題 $\\quad$ 組み込み関数のドキュメントを出力する。\n",
        "\n",
        "入力例 : abs()\n"
      ]
    },
    {
      "cell_type": "code",
      "metadata": {
        "id": "75bbDy2wqMxU",
        "outputId": "4de13e66-9972-4d25-9ec4-f14722f72ddb",
        "colab": {
          "base_uri": "https://localhost:8080/"
        }
      },
      "source": [
        "print(abs.__doc__)"
      ],
      "execution_count": 120,
      "outputs": [
        {
          "output_type": "stream",
          "text": [
            "Return the absolute value of the argument.\n"
          ],
          "name": "stdout"
        }
      ]
    }
  ]
}