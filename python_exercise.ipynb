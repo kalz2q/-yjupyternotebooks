{
  "nbformat": 4,
  "nbformat_minor": 0,
  "metadata": {
    "colab": {
      "name": "python_exercise.ipynb",
      "provenance": [],
      "toc_visible": true,
      "authorship_tag": "ABX9TyMNwoOd22ieNCVOw+nMalFa",
      "include_colab_link": true
    },
    "kernelspec": {
      "name": "python3",
      "display_name": "Python 3"
    },
    "language_info": {
      "name": "python"
    }
  },
  "cells": [
    {
      "cell_type": "markdown",
      "metadata": {
        "id": "view-in-github",
        "colab_type": "text"
      },
      "source": [
        "<a href=\"https://colab.research.google.com/github/kalz2q/mycolabnotebooks/blob/master/python_exercise.ipynb\" target=\"_parent\"><img src=\"https://colab.research.google.com/assets/colab-badge.svg\" alt=\"Open In Colab\"/></a>"
      ]
    },
    {
      "cell_type": "markdown",
      "metadata": {
        "id": "aYq7NBCFIKqH"
      },
      "source": [
        "# メモ\n",
        "\n",
        "python 問題集\n",
        "\n",
        "をつくる。 colab ベース\n",
        "\n",
        "順不同\n",
        "\n",
        "* https://www.w3resource.com/python-exercises/\n",
        "\n",
        "* あのアルゴリズムはどこ？　Pythonを使用してAtCoderの緑色や水色を目指す方に、30以上のアルゴリズムスニペットと100問以上の問題（ACコード付き）を紹介！  \n",
        "https://qiita.com/H20/items/1a066e242815961cd043\n",
        "\n"
      ]
    },
    {
      "cell_type": "markdown",
      "metadata": {
        "id": "cbb7MUB9I0RO"
      },
      "source": [
        "どんな問題があるか見てみよう。 だから順不同。\n",
        "\n",
        "いま w3resources の目次から web scraping の 27 問目を見たら、とりあえず何を言っているかわからない。 読めばわかるのかもしれないが。 まあそんな感じなので始めてみよう。\n",
        "\n",
        "本と違って、ページとかがないので、可能な限り名称をつけて行く、ってことでいいよね。\n"
      ]
    },
    {
      "cell_type": "markdown",
      "metadata": {
        "id": "BFE6PFQgc2OC"
      },
      "source": [
        "---\n",
        "問題  $\\quad$ サーバーにそのページがあるかどうかをテストする。\n"
      ]
    },
    {
      "cell_type": "markdown",
      "metadata": {
        "id": "_od-VdJnduKd"
      },
      "source": [
        "うむ。 1 問目からぜんぜんわからない。 \n",
        "\n",
        "* url の仕組みを学ぶ\n",
        "* try, exept as, else がわからない\n",
        "* なぜ try が 2 つあるのか。\n",
        "\n",
        "とか。\n",
        "\n",
        "いろんなジャンルの 1 問目をとりあえずやるか。 そうしよう。"
      ]
    },
    {
      "cell_type": "code",
      "metadata": {
        "id": "4C9uT6Nlb94M",
        "outputId": "aa3081db-069f-402f-af7f-b62fae16124e",
        "colab": {
          "base_uri": "https://localhost:8080/"
        }
      },
      "source": [
        "from urllib.request import urlopen\n",
        "from urllib.error import HTTPError\n",
        "from urllib.error import URLError\n",
        "\n",
        "try:\n",
        "    html = urlopen(\"https://abcxyz.com\")\n",
        "except HTTPError as e:\n",
        "    print(\"HTTP error\")\n",
        "except URLError as e:\n",
        "    print(\"Server not found!\")\n",
        "else:\n",
        "    print(html.read())\n",
        "    \n",
        "try:\n",
        "    html = urlopen(\"http://www.example.com/\")\n",
        "except HTTPError as e:\n",
        "    print(\"HTTP error\")\n",
        "except URLError as e:\n",
        "    print(\"Server not found!\")\n",
        "else:\n",
        "    print(\"HTML Details\")    \n",
        "    print(html.read())  "
      ],
      "execution_count": 1,
      "outputs": [
        {
          "output_type": "stream",
          "text": [
            "Server not found!\n",
            "HTML Details\n",
            "b'<!doctype html>\\n<html>\\n<head>\\n    <title>Example Domain</title>\\n\\n    <meta charset=\"utf-8\" />\\n    <meta http-equiv=\"Content-type\" content=\"text/html; charset=utf-8\" />\\n    <meta name=\"viewport\" content=\"width=device-width, initial-scale=1\" />\\n    <style type=\"text/css\">\\n    body {\\n        background-color: #f0f0f2;\\n        margin: 0;\\n        padding: 0;\\n        font-family: -apple-system, system-ui, BlinkMacSystemFont, \"Segoe UI\", \"Open Sans\", \"Helvetica Neue\", Helvetica, Arial, sans-serif;\\n        \\n    }\\n    div {\\n        width: 600px;\\n        margin: 5em auto;\\n        padding: 2em;\\n        background-color: #fdfdff;\\n        border-radius: 0.5em;\\n        box-shadow: 2px 3px 7px 2px rgba(0,0,0,0.02);\\n    }\\n    a:link, a:visited {\\n        color: #38488f;\\n        text-decoration: none;\\n    }\\n    @media (max-width: 700px) {\\n        div {\\n            margin: 0 auto;\\n            width: auto;\\n        }\\n    }\\n    </style>    \\n</head>\\n\\n<body>\\n<div>\\n    <h1>Example Domain</h1>\\n    <p>This domain is for use in illustrative examples in documents. You may use this\\n    domain in literature without prior coordination or asking for permission.</p>\\n    <p><a href=\"https://www.iana.org/domains/example\">More information...</a></p>\\n</div>\\n</body>\\n</html>\\n'\n"
          ],
          "name": "stdout"
        }
      ]
    },
    {
      "cell_type": "markdown",
      "metadata": {
        "id": "YjWVFw4Oed8r"
      },
      "source": [
        "---\n",
        "問題 $\\quad$ JSON を python オブジェクトに変換する。\n"
      ]
    },
    {
      "cell_type": "code",
      "metadata": {
        "id": "9oIFBPVsewEK",
        "outputId": "f7f2569b-0fe9-4174-d935-ec227c615994",
        "colab": {
          "base_uri": "https://localhost:8080/"
        }
      },
      "source": [
        "import json\n",
        "json_obj =  '{ \"Name\":\"David\", \"Class\":\"I\", \"Age\":6 }'\n",
        "python_obj = json.loads(json_obj)\n",
        "print(\"\\nJSON data:\")\n",
        "print(python_obj)\n",
        "print(\"\\nName: \",python_obj[\"Name\"])\n",
        "print(\"Class: \",python_obj[\"Class\"])\n",
        "print(\"Age: \",python_obj[\"Age\"]) \n"
      ],
      "execution_count": 2,
      "outputs": [
        {
          "output_type": "stream",
          "text": [
            "\n",
            "JSON data:\n",
            "{'Name': 'David', 'Class': 'I', 'Age': 6}\n",
            "\n",
            "Name:  David\n",
            "Class:  I\n",
            "Age:  6\n"
          ],
          "name": "stdout"
        }
      ]
    },
    {
      "cell_type": "markdown",
      "metadata": {
        "id": "9peGOLn1fhYr"
      },
      "source": [
        "このプログラムの json_obj は"
      ]
    },
    {
      "cell_type": "code",
      "metadata": {
        "id": "Ozccc0hKfHWe",
        "outputId": "dbc94adb-ac01-482b-b2e4-d8b8cd2c343a",
        "colab": {
          "base_uri": "https://localhost:8080/"
        }
      },
      "source": [
        "print(type(json_obj))\n",
        "print(type(python_obj))"
      ],
      "execution_count": 5,
      "outputs": [
        {
          "output_type": "stream",
          "text": [
            "<class 'str'>\n",
            "<class 'dict'>\n"
          ],
          "name": "stdout"
        }
      ]
    }
  ]
}