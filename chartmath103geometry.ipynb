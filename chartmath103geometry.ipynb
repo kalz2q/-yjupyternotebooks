{
  "nbformat": 4,
  "nbformat_minor": 0,
  "metadata": {
    "colab": {
      "name": "chartmath103geometry.ipynb",
      "provenance": [],
      "toc_visible": true,
      "authorship_tag": "ABX9TyNyUzfWqfk/yLmltIoS837I",
      "include_colab_link": true
    },
    "kernelspec": {
      "name": "python3",
      "display_name": "Python 3"
    }
  },
  "cells": [
    {
      "cell_type": "markdown",
      "metadata": {
        "id": "view-in-github",
        "colab_type": "text"
      },
      "source": [
        "<a href=\"https://colab.research.google.com/github/kalz2q/mycolabnotebooks/blob/master/chartmath103geometry.ipynb\" target=\"_parent\"><img src=\"https://colab.research.google.com/assets/colab-badge.svg\" alt=\"Open In Colab\"/></a>"
      ]
    },
    {
      "cell_type": "markdown",
      "metadata": {
        "id": "YJjY9QP3s8DV"
      },
      "source": [
        "# メモ\n",
        "\n",
        "チャート式 基礎からの数学 Ⅰ 第3章 図形と計量\n",
        "\n",
        "を読む。\n",
        "\n",
        "仮に geometry としておく。"
      ]
    },
    {
      "cell_type": "markdown",
      "metadata": {
        "id": "bFU8n-CMkUja"
      },
      "source": [
        "# 三角比\n"
      ]
    },
    {
      "cell_type": "markdown",
      "metadata": {
        "id": "yhuANun9km99"
      },
      "source": [
        "メモ $\\quad$ 三角比が trigonomtry で三角関数は trigonometric function なんだって。 数学Ⅰで習うのが三角比で、図形と軽量に入っていて、数学Ⅱで三角関数を習う。 らしい。指導要領がそうなっているのかもしれない。"
      ]
    },
    {
      "cell_type": "markdown",
      "metadata": {
        "id": "_gmtee0mlsoi"
      },
      "source": [
        "---\n",
        "三角比の定義\n",
        "\n",
        "$\\angle \\; \\mathrm{POQ}$ が鋭角である直角三角形において、$\\angle \\; \\mathrm{POQ}$ の大きさを $\\theta$ とすると\n",
        "* $\\displaystyle \\sin\\theta = \\frac{\\mathrm{PQ}}{\\mathrm{OP}}$\n",
        "* $\\displaystyle \\cos\\theta = \\frac{\\mathrm{OQ}}{\\mathrm{OP}}$\n",
        "* $\\displaystyle \\tan\\theta = \\frac{\\mathrm{PQ}}{\\mathrm{OQ}}$\n",
        "\n",
        "主な角 ($30^\\circ,\\; 45^\\circ,\\; 60^\\circ$) の三角比\n",
        "\n",
        "* $\\sin 30^\\circ = \\displaystyle \\frac 1 2$\n",
        "\n",
        "\n"
      ]
    }
  ]
}