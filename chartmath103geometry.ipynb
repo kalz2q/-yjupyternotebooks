{
  "nbformat": 4,
  "nbformat_minor": 0,
  "metadata": {
    "colab": {
      "name": "chartmath103geometry.ipynb",
      "provenance": [],
      "authorship_tag": "ABX9TyNPo+HC5nRzGjTBZLquBuzd",
      "include_colab_link": true
    },
    "kernelspec": {
      "name": "python3",
      "display_name": "Python 3"
    }
  },
  "cells": [
    {
      "cell_type": "markdown",
      "metadata": {
        "id": "view-in-github",
        "colab_type": "text"
      },
      "source": [
        "<a href=\"https://colab.research.google.com/github/kalz2q/mycolabnotebooks/blob/master/chartmath103geometry.ipynb\" target=\"_parent\"><img src=\"https://colab.research.google.com/assets/colab-badge.svg\" alt=\"Open In Colab\"/></a>"
      ]
    },
    {
      "cell_type": "markdown",
      "metadata": {
        "id": "YJjY9QP3s8DV"
      },
      "source": [
        "# メモ\r\n",
        "\r\n",
        "チャート式 基礎からの数学 Ⅰ 第3章 図形と計量\r\n",
        "\r\n",
        "を読む。\r\n",
        "\r\n",
        "仮に"
      ]
    }
  ]
}