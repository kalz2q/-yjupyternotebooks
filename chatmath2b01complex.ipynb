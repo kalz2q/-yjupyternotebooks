{
  "nbformat": 4,
  "nbformat_minor": 0,
  "metadata": {
    "colab": {
      "name": "chatmath2b01complex.ipynb",
      "provenance": [],
      "authorship_tag": "ABX9TyPdkdcgWwTfomJURS1pCnz0",
      "include_colab_link": true
    },
    "kernelspec": {
      "name": "python3",
      "display_name": "Python 3"
    }
  },
  "cells": [
    {
      "cell_type": "markdown",
      "metadata": {
        "id": "view-in-github",
        "colab_type": "text"
      },
      "source": [
        "<a href=\"https://colab.research.google.com/github/kalz2q/mycolabnotebooks/blob/master/chatmath2b01complex.ipynb\" target=\"_parent\"><img src=\"https://colab.research.google.com/assets/colab-badge.svg\" alt=\"Open In Colab\"/></a>"
      ]
    },
    {
      "cell_type": "markdown",
      "metadata": {
        "id": "kYAohq8HEk2h"
      },
      "source": [
        "# メモ\n",
        "\n",
        "チャート式数学を Colab で学ぶ、という無謀なチャレンジ。なぜならチャート式数学はとても量が多いのでどうやっても終わらない。なので、たとえば基本例題だけ、にするとか、項目を選ぶとかが必要。それも統一的にやるのはむずかしかろう。まあ適当に始める。\n",
        "\n",
        "ファイル名を chartmath2b01complex.ipynb とかする。たまたま手元にあった青チャートの数学ⅡBの第1章が複素数から始まっている。自分の持っているチャート式はブックオフで買っているので、色も黄色と青が混ざっているし、発売年度もバラバラ。まあその辺はいいか。こだわらない。\n",
        "\n",
        "\n"
      ]
    },
    {
      "cell_type": "markdown",
      "metadata": {
        "id": "Lp6YsK1tHRr4"
      },
      "source": [
        "# 第1章 複素数と方程式"
      ]
    },
    {
      "cell_type": "markdown",
      "metadata": {
        "id": "a6XEjJs3GAJA"
      },
      "source": [
        "2次方程式 $ax^2+bx+c=0$ の解については、数学Ⅰにおいて、2次関数 $y=ax^2+bx+c$ のグラフと $x$ 軸との共有点(交点・接点)の $x$ 座標として扱った。したがって、$b^2-4ac<0$ のとき(判別式が負のとき)は共有点がないことから、「解はない」とした。\n",
        "\n",
        "この章では、この場合も解があるように、新しい数 $i$ を考え、数の範囲を複素数(実数・虚数)"
      ]
    }
  ]
}