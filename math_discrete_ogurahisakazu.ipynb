{
  "nbformat": 4,
  "nbformat_minor": 0,
  "metadata": {
    "colab": {
      "name": "math_discrete_ogurahisakazu.ipynb",
      "provenance": [],
      "toc_visible": true,
      "authorship_tag": "ABX9TyNUEeQ7D8q5lBqdeE/RJTZ1",
      "include_colab_link": true
    },
    "kernelspec": {
      "name": "python3",
      "display_name": "Python 3"
    },
    "language_info": {
      "name": "python"
    }
  },
  "cells": [
    {
      "cell_type": "markdown",
      "metadata": {
        "id": "view-in-github",
        "colab_type": "text"
      },
      "source": [
        "<a href=\"https://colab.research.google.com/github/kalz2q/mycolabnotebooks/blob/master/math_discrete_ogurahisakazu.ipynb\" target=\"_parent\"><img src=\"https://colab.research.google.com/assets/colab-badge.svg\" alt=\"Open In Colab\"/></a>"
      ]
    },
    {
      "cell_type": "markdown",
      "metadata": {
        "id": "EQU76affrvv4"
      },
      "source": [
        "# メモ\n",
        "\n",
        "離散数学への入門  \n",
        "わかりやすい離散数学\n",
        "\n",
        "小倉久和\n",
        "\n",
        "を読む。\n",
        "\n",
        "&nbsp;\n"
      ]
    },
    {
      "cell_type": "markdown",
      "metadata": {
        "id": "4ESTrgimr7C4"
      },
      "source": [
        "目次\n",
        "\n",
        "1. 論理と証明\n",
        "2. 離散集合\n",
        "3. 写像・関数\n",
        "4. 帰納法\n",
        "5. 離散関係\n",
        "6. 整数演算\n",
        "7. 離散代数系\n",
        "8. 順序集合と束\n",
        "9. 離散グラフ\n",
        "10. 木グラフ\n",
        "\n",
        "&nbsp;\n"
      ]
    },
    {
      "cell_type": "markdown",
      "metadata": {
        "id": "psvj9bsUs-PB"
      },
      "source": [
        "メモ $\\quad$ 目次の章立てが古い本のせいか普通と違うと思う。 集合から始まっていない。 行列、線形代数が特に章立てされていない。 集合は離散集合 2章で扱っているし、行列は離散関係 5章で扱っているので、扱っていないわけではない。\n",
        "\n",
        "楽しみかも。\n",
        "\n",
        "&nbsp;\n",
        "\n"
      ]
    },
    {
      "cell_type": "markdown",
      "metadata": {
        "id": "60M_n6qpstYV"
      },
      "source": [
        "# 論理と証明\n"
      ]
    },
    {
      "cell_type": "markdown",
      "metadata": {
        "id": "s0oo78q7vQqF"
      },
      "source": [
        "命題 $\\quad$ 文で表された真偽の明確な言明 statement を命題 proposition と言う。\n",
        "\n",
        "$p,q$ を命題記号と言う。\n",
        "\n",
        "素命題、基本命題 atom とも言う。\n",
        "\n",
        "cf. 複合命題\n",
        "\n",
        "真・偽を真理値 truth value と言い、$\\mathrm{T,F}$ で表す。\n",
        "\n",
        "$\\mathrm{val} (p) = \\mathrm T$ \n",
        "\n",
        "簡単のため $p = \\mathrm T$ と書く。\n",
        "\n",
        "&nbsp;\n"
      ]
    },
    {
      "cell_type": "markdown",
      "metadata": {
        "id": "2b_mvfrXwnwH"
      },
      "source": [
        "変数に要素を代入すると真偽が決まる変数付きの言明を述語 predicate と言う。\n",
        "\n",
        "述語は述語記号 $p$ に 引数 argument をつけて表す。 $p(x)$ 。\n",
        "\n",
        "変数の変域をドメイン domain と言う。\n",
        "\n",
        "述語は命題関数 propositional function と呼ばれる。 \n",
        "\n",
        "変数を含む言明であっても、$\\forall$ や $\\exists$ がつくと命題になる。 全称記号や存在記号を限量子 quantifier と言う。\n",
        "\n",
        "$p = \\forall x \\; p(x) \\quad$ 任意の $x$ に対して $p(x)$ である。\n",
        "\n",
        "$q = \\exists y \\; q(4,y) \\quad$ ある整数 $y$ が存在して $q(4,y)$ である。\n",
        "\n",
        "ドメインは次のように明示することもある。\n",
        "\n",
        "$p = \\forall x \\in D \\ p(x)$\n",
        "\n",
        "$q = \\exists y \\in \\mathbf Z \\ q(4,y)$\n",
        "\n",
        "反例 counter example があれば命題は偽となる。\n",
        "\n",
        "全称記号、存在記号の順序によって意味が異なる。\n",
        "\n",
        "$p = \\forall x \\; \\exists y \\; (x-y)^2=4 \\quad$ True\n",
        "\n",
        "$p = \\exists y \\; \\forall x \\; (x-y)^2=4 \\quad$ False\n",
        "\n",
        "一般に存在記号で修飾された変数は、その左側にある全称記号で修飾された変数に依存してよい。 全称記号で修飾された変数がなければ、依存する変数はなく定数となる。\n",
        "\n",
        "&nbsp;\n",
        "\n",
        "\n",
        "\n",
        "\n",
        "\n",
        "\n",
        "\n",
        "\n",
        "\n",
        "\n"
      ]
    },
    {
      "cell_type": "markdown",
      "metadata": {
        "id": "1mF2NufVVz71"
      },
      "source": [
        "例 1.1 p.4 次の表現の意味を説明し、真偽を示す。 ドメインは整数。\n",
        "\n",
        "1. $\\exists y \\; \\forall x \\; \\ [x+y=x]$ \n",
        "\n",
        "ある $y$ が存在しすべての $x$ について、$x+y=x$ が成立する。 $y$ が 0 ならば成立するので真。\n",
        "\n",
        "2. $\\forall x \\; \\exists y \\; [x+y=0]$\n",
        "\n",
        "任意の $x$ について $x+y=0$ となる $y$ が存在する。 $-x$ が存在するので真。\n",
        "\n",
        "&nbsp;\n",
        "\n",
        "否定は $\\neg p$ または $\\mathrm{not}\\  p$ で表す。\n",
        "\n",
        "否定の真理値表 truth table\n",
        "\n",
        "p | not p\n",
        ":-: | :-: \n",
        "T | F\n",
        "F | T\n",
        "\n",
        "二重否定、対合律 (たいごうりつ) involution law が成立する。\n",
        "\n",
        "$\\neg (\\neg p) = p$\n",
        "\n",
        "&nbsp;\n",
        "\n",
        "一般に、限量記号 (全称記号、存在記号) を伴った命題の否定についてまとめると次のようになる。\n",
        "\n",
        "$\\neg (\\forall x \\; p(x)) = \\exists x \\; \\neg p(x))\\quad$ $\\neg p(x)$ となる $x$ が存在する\n",
        "\n",
        "$\\neg (\\exists x \\; p(x)) = \\forall x \\; \\neg p(x) \\quad$ 任意の $x$ について $\\neg p(x)$ である。\n",
        "\n",
        "&nbsp;\n",
        "\n"
      ]
    },
    {
      "cell_type": "markdown",
      "metadata": {
        "id": "UNigDoFTawm8"
      },
      "source": [
        "選言 $\\quad p \\lor q \\quad (p \\;\\mathrm{or}\\: q)$\n",
        "\n",
        "連言 $\\quad p \\land q \\quad (p \\;\\mathrm{and}\\; q)$\n"
      ]
    },
    {
      "cell_type": "markdown",
      "metadata": {
        "id": "uKJ7YyUMKCzP"
      },
      "source": [
        "ド・モルガン律 p.6\n",
        "\n",
        "$\\neg (p \\lor q) = \\neg p \\land \\neg q$\n",
        "\n",
        "$\\neg (p \\land q) = \\neg p \\lor \\neg q$\n",
        "\n",
        "&nbsp;\n",
        "\n",
        "排他的選言 (排他的論理和 exlusive or) $\\quad (p\\;\\mathrm{xor}\\; q)$\n",
        "\n",
        "同値 $\\quad (p\\;\\mathrm{equiv}\\; q)$\n",
        "\n",
        "$p \\rightarrow q$ 含意 (がんい) $\\quad (p\\;\\mathrm{imp}\\; q)$\n",
        "\n",
        "排他的選言 (exlusive or) は排他的論理和とも言う。\n",
        "\n",
        "$\\quad p\\;\\mathrm{xor}\\; q = (p \\land \\neg q) \\lor (\\neg p \\land q)$\n",
        "\n",
        "これは見方を変えると $p$ と $q$ の真理値が一致しないときに真、一致するときに偽、とみなすことができる。 排他的選言の否定は $p$ と $q$ の真理値が一致するときに真、一致しないときに偽となる。\n",
        "\n",
        "この論理演算を同値 equivalence と言い、 $p \\;\\mathrm{equiv}\\; q$ と表す。\n",
        "\n",
        "&nbsp;\n",
        "\n",
        "\n",
        "\n"
      ]
    },
    {
      "cell_type": "markdown",
      "metadata": {
        "id": "6yEXOSPaZw-4"
      },
      "source": [
        "含意 p.7,8\n",
        "\n",
        "一般に、条件付き命題は、条件の命題 $p$ と結論の命題 $q$ からなる複合命題で、含意 implication と言う。 演算記号として $\\rightarrow$ を使う。\n",
        "\n",
        "含意 $\\quad p \\;\\rightarrow\\; q\\quad (p\\;\\mathrm{imp}\\; q)$\n",
        "\n",
        "含意は $p$ が真、 $q$ が偽のときのみ偽となり、 $p$ が偽のときは常に真である。\n",
        "\n",
        "含意について次の性質は重要である。\n",
        "\n",
        "$p \\;\\rightarrow\\; q \\;=\\; \\neg q \\;\\rightarrow\\; \\neg q$\n",
        "\n",
        "$p \\;\\rightarrow\\; q \\;=\\; \\neg p \\lor q$\n",
        "\n",
        "含意の否定は次のようになる。\n",
        "\n",
        "$\\neg (p \\;\\rightarrow\\; q) \\;=\\; (p \\land \\neg q)$\n",
        "\n",
        "&nbsp;"
      ]
    },
    {
      "cell_type": "markdown",
      "metadata": {
        "id": "Gy-F0vJ09A8y"
      },
      "source": [
        "証明について p.9,10\n",
        "\n",
        "$a,b,c$ を実数として、$a+b+c=0$ ならば、$a^3+b^3+c^3=3abc$ であることを証明する。"
      ]
    },
    {
      "cell_type": "code",
      "metadata": {
        "id": "e3mxhnUK2rXU"
      },
      "source": [
        "from sympy.abc import *\n",
        "from sympy import *\n",
        "# a+b+c=0 より\n",
        "a = - (b + c)\n",
        "# 左辺 - 右辺\n",
        "display(a**3 + b**3 + c**3 - 3*a*b*c)\n",
        "display(simplify(a**3 + b**3 + c**3 - 3*a*b*c))"
      ],
      "execution_count": null,
      "outputs": []
    },
    {
      "cell_type": "markdown",
      "metadata": {
        "id": "oeQbjCpz5ynq"
      },
      "source": [
        "証明の形式\n",
        "\n",
        "この証明は\n",
        "\n",
        "$p = (a+b+c=0),\\quad q= (a^3+b^3+c^3=3abc)$\n",
        "\n",
        "として、$p$ ならば $q$、$ p \\rightarrow q$ の形式の条件付き命題である。\n",
        "\n",
        "条件 $p = \\mathrm T$ から $q = \\mathrm T$ を導いている。 条件 $p$ が成立しない場合、$p=\\mathrm F$ の場合は、$q$ の真偽によらず、$ p \\rightarrow q$ であるから、条件付き命題である含意命題 $ p \\rightarrow q$ が常に真 (恒真性) であることを証明している。\n",
        "\n",
        "この例では $p$ も $q$ も任意の実数 $a,b,c$ を含むから、実際には、\n",
        "\n",
        "$p(a,b,c) = (a+b+c=0),\\quad q(a,b,c) = (a^3+b^3+c^3=3abc)$\n",
        "\n",
        "であって、次の含意命題 (条件付き命題)\n",
        "\n",
        "$\\forall a\\;\\forall b\\;\\forall c\\;p(a,b,c) \\rightarrow q(a,b,c)$\n",
        "\n",
        "の恒真性を証明する、という問題である。\n",
        "\n",
        "&nbsp;\n",
        "\n",
        "\n"
      ]
    },
    {
      "cell_type": "markdown",
      "metadata": {
        "id": "NgSshufVV_Xq"
      },
      "source": [
        "# いまここ"
      ]
    },
    {
      "cell_type": "markdown",
      "metadata": {
        "id": "zbiq8-xC_9FU"
      },
      "source": [
        "三段論法 \n",
        "\n",
        "実際の証明では、いくつかの中間結果を導き、それを利用して多段に証明を行う。 例えば $p=\\mathrm T $ から $q = \\mathrm T$ が証明でき、さらに  $q = \\mathrm T$ から $r = \\mathrm T$ が証明できれば、 $p=\\mathrm T $ から $r = \\mathrm T$ が証明できることになる。\n",
        "\n",
        "これは三段論法の 1 つである。\n",
        "\n",
        "数学に重要な形式は前提に含意命題を含む仮言的三段論法である。\n",
        "\n",
        "$\\quad p \\rightarrow q = \\mathrm T$ と $p = \\mathrm T$ から $q = \\mathrm T$ を示す $\\qquad$ (1.28) \n",
        "\n",
        "$\\quad p \\rightarrow q = \\mathrm T$ と $q \\rightarrow r = \\mathrm T$ から $p \\rightarrow q = \\mathrm T$ を示す $\\qquad$ (1.29)\n",
        "\n",
        "式 (1.28) はモダス・ポネンス、ラテン語で method of affirming (肯定式) の意味、式 (1.29) は全仮言的三段論法でシロギズム syllogism と呼ばれる。 その形から連鎖律 chain rule とも呼ばれる。\n",
        "\n",
        "\n"
      ]
    },
    {
      "cell_type": "markdown",
      "metadata": {
        "id": "OT9bKSEKt7fJ"
      },
      "source": [
        "対偶問題による証明\n",
        "\n",
        "例 1.5 $\\qquad a,b,c$ を実数として、$a3+b^3+c^3 \\neq 3abc$ ならば $a+b+c \\neq 0$ であることを証明せよ。\n",
        "\n",
        "解 1 $$\\qquad a^{3} + b^{3} + c^{3} - 3 a b c = \\left(a + b + c\\right) \\left(a^{2} + b^{2} + c^{2} - a b - a c - b c\\right)$$\n",
        "\n",
        "条件により、$\\qquad a^{3} + b^{3} + c^{3} - 3 a b c \\neq 0$ なので  $a+b+c \\neq 0$\n"
      ]
    },
    {
      "cell_type": "code",
      "metadata": {
        "colab": {
          "base_uri": "https://localhost:8080/",
          "height": 74
        },
        "id": "LNd8tmVgL7L7",
        "outputId": "a38d5867-af06-4b63-91ed-6d228fccc39a"
      },
      "source": [
        "from sympy.abc import *\n",
        "from sympy import *\n",
        "expr = a**3 +b**3 + c**3 - 3*a*b*c\n",
        "display(factor(expr))\n",
        "display(latex(expr))\n",
        "display(latex(factor(expr)))"
      ],
      "execution_count": 4,
      "outputs": [
        {
          "output_type": "display_data",
          "data": {
            "text/latex": "$\\displaystyle \\left(a + b + c\\right) \\left(a^{2} - a b - a c + b^{2} - b c + c^{2}\\right)$",
            "text/plain": [
              "(a + b + c)*(a**2 - a*b - a*c + b**2 - b*c + c**2)"
            ]
          },
          "metadata": {
            "tags": []
          }
        },
        {
          "output_type": "display_data",
          "data": {
            "application/vnd.google.colaboratory.intrinsic+json": {
              "type": "string"
            },
            "text/plain": [
              "'a^{3} - 3 a b c + b^{3} + c^{3}'"
            ]
          },
          "metadata": {
            "tags": []
          }
        },
        {
          "output_type": "display_data",
          "data": {
            "application/vnd.google.colaboratory.intrinsic+json": {
              "type": "string"
            },
            "text/plain": [
              "'\\\\left(a + b + c\\\\right) \\\\left(a^{2} - a b - a c + b^{2} - b c + c^{2}\\\\right)'"
            ]
          },
          "metadata": {
            "tags": []
          }
        }
      ]
    },
    {
      "cell_type": "markdown",
      "metadata": {
        "id": "4_2RNZn4NfXK"
      },
      "source": [
        "対偶を証明すれば、もとの命題を証明したことになるので、\n",
        "\n",
        "解 2 $\\qquad$ この問題の対偶、$a+b+c=0$ ならば、$a^3+b^3+c^3=3abc$ であることを証明する。\n",
        "\n",
        "$a+b+c=0$ より $c = - (b+c)$ を $a^3+b^3+c^3$ に代入すると $3abc$ になる。\n"
      ]
    },
    {
      "cell_type": "markdown",
      "metadata": {
        "id": "9zU95IX6Oi1F"
      },
      "source": [
        "解 1 より 解 2 の方が証明法としては容易である。 解 1 は直接法、解 2 は間接法の一種である。"
      ]
    },
    {
      "cell_type": "markdown",
      "metadata": {
        "id": "bf_vxW3UP5hz"
      },
      "source": [
        "逆・裏・対偶\n",
        "\n",
        "命題 proposition $\\qquad$ $p \\rightarrow q$\n",
        "\n",
        "逆 converse $\\qquad$ $q \\rightarrow p$\n",
        "\n",
        "裏 reverse  $\\qquad$ $\\neg p \\rightarrow \\neg q$\n",
        "\n",
        "対偶 contraposition  $\\qquad$ $\\neg q \\rightarrow \\neg p$\n",
        "\n",
        "それぞれ、順命題、逆命題、裏命題、対偶命題と呼ばれる。逆命題の対偶は裏命題であり、裏命題の逆命題は対偶命題である。\n"
      ]
    },
    {
      "cell_type": "markdown",
      "metadata": {
        "id": "VLrgFttlRAG8"
      },
      "source": [
        "メモ $\\qquad$ そう言えば、逆問題を解く、という言葉があったね!!!!\n",
        "\n",
        "世の中の課題は結果を見て原因を探るので、逆問題を解く、なのかと思っていたが数学的には解が $p$ で 方程式が $q$ で、$q$ が与えられて $p$ を求めるという意味なのだよ。\n",
        "\n"
      ]
    },
    {
      "cell_type": "markdown",
      "metadata": {
        "id": "lDLPnZEETaf4"
      },
      "source": [
        "必要十分条件の記号 $\\iff$ は ` $\\iff$` で書く。 if and only then の意味。"
      ]
    },
    {
      "cell_type": "markdown",
      "metadata": {
        "id": "8mvEZgIjUvT-"
      },
      "source": [
        "メモ $\\quad$ 思うに、このテキスト 小倉久和 の言葉による説明はわたし向きではないかもしれない。 背理法のところと演習問題を飛ばす。 風が吹けば桶屋がもうかる、を論理式で示すのを例にするのはよくないと思う。 まあいいか。\n",
        "\n"
      ]
    },
    {
      "cell_type": "markdown",
      "metadata": {
        "id": "xjMiROS5V1MH"
      },
      "source": [
        "# 離散集合\n",
        "p. 18\n",
        "\n",
        "* ドメイン domain\n",
        "* 集合 set\n",
        "* 要素 element 元\n",
        "\n",
        "集合は $\\{1,2,3,45\\}$ と言うふうに表す。同じものは含まない。\n",
        "\n",
        "同じ要素を含む集合は多重集合 multiple set と言う。\n",
        "\n",
        "集合は $A,B$ で表し、要素は $a,b$ で表す。\n",
        "\n",
        "$a$ が $A$ に属することを $a \\in A$ と書き、要素でないことを $a \\not \\in A$ と書く。\n",
        "\n",
        "要素が等しいとき、集合が等しいと言い、$A=B$ と書く。\n",
        "\n",
        "* 有限集合 finite set\n",
        "* 無限集合 infinite set\n",
        "* 空集合 $\\phi, \\varnothing, \\emptyset$\n",
        "\n",
        "このテキストは $\\phi$ ファイを使っている。\n",
        "\n",
        "* 外延記法 denotation, 枚挙法 $\\{1,2,3,45\\}$\n",
        "\n",
        "この記法 denotation では空集合は $\\phi = \\{\\}$ と表せる。\n",
        "\n",
        "* 内包記法 connotation 集合を次のように表現する方法を内包記法と言う。\n",
        "\n",
        "メモ $\\quad$ 普通、set comprehension と言うのではないか?\n",
        "\n",
        "$$ A = \\{n \\;|\\; n は 10 以下の自然数\\}$$\n",
        "\n",
        "メモ $\\quad$ あと、数式に文字がはいると latex がめんどうになるので、なるべく次のようにしたい。\n",
        "\n",
        "$$ A = \\{n \\;|\\; n \\leq 10,\\; n \\in \\mathbb N\\}$$\n",
        "\n",
        "一般形は\n",
        "\n",
        "$$ A = \\{x \\;|\\; P(x) \\}$$\n",
        "\n",
        "である。\n",
        "\n",
        "\n",
        "\n",
        "\n"
      ]
    },
    {
      "cell_type": "markdown",
      "metadata": {
        "id": "KR5gUdPpKm3n"
      },
      "source": [
        "# 離散集合\n",
        "\n",
        "離散集合 discrete set\n",
        "\n",
        "集合 $A$ の要素数は \n",
        "\n",
        "$\\qquad n(A)$ あるいは $|A|$ \n",
        "\n",
        "と表現する。\n",
        "\n",
        "空集合 $\\phi$ の大きさは\n",
        "\n",
        "$\\qquad |\\phi| = 0$ \n",
        "\n",
        "である。\n",
        "\n",
        "自然数の集合 $\\boldsymbol N$ は無限集合であるが、離散集合である。\n",
        "\n"
      ]
    },
    {
      "cell_type": "markdown",
      "metadata": {
        "id": "iDcau9LQMWLW"
      },
      "source": [
        "図 2.1 数直線\n",
        "\n"
      ]
    },
    {
      "cell_type": "markdown",
      "metadata": {
        "id": "6iC2nIZGMUhY"
      },
      "source": [
        "---\n",
        "問題 $\\qquad$ 無理数の稠密性 ちゅうみつせい を証明せよ\n",
        "\n",
        "\n"
      ]
    },
    {
      "cell_type": "markdown",
      "metadata": {
        "id": "rSdgax1eMyaT"
      },
      "source": [
        "\n"
      ]
    }
  ]
}