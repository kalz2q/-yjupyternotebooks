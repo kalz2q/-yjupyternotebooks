{
  "nbformat": 4,
  "nbformat_minor": 0,
  "metadata": {
    "colab": {
      "name": "math_discrete_ogurahisakazu.ipynb",
      "provenance": [],
      "toc_visible": true,
      "authorship_tag": "ABX9TyOSSR0S8/6zPn0OEFZverEJ",
      "include_colab_link": true
    },
    "kernelspec": {
      "name": "python3",
      "display_name": "Python 3"
    },
    "language_info": {
      "name": "python"
    }
  },
  "cells": [
    {
      "cell_type": "markdown",
      "metadata": {
        "id": "view-in-github",
        "colab_type": "text"
      },
      "source": [
        "<a href=\"https://colab.research.google.com/github/kalz2q/mycolabnotebooks/blob/master/math_discrete_ogurahisakazu.ipynb\" target=\"_parent\"><img src=\"https://colab.research.google.com/assets/colab-badge.svg\" alt=\"Open In Colab\"/></a>"
      ]
    },
    {
      "cell_type": "markdown",
      "metadata": {
        "id": "EQU76affrvv4"
      },
      "source": [
        "# メモ\n",
        "\n",
        "離散数学への入門  \n",
        "わかりやすい離散数学\n",
        "\n",
        "小倉久和\n",
        "\n",
        "を読む。\n",
        "\n",
        "&nbsp;\n"
      ]
    },
    {
      "cell_type": "markdown",
      "metadata": {
        "id": "4ESTrgimr7C4"
      },
      "source": [
        "目次\n",
        "\n",
        "1. 論理と証明\n",
        "2. 離散集合\n",
        "3. 写像・関数\n",
        "4. 帰納法\n",
        "5. 離散関係\n",
        "6. 整数演算\n",
        "7. 離散代数系\n",
        "8. 順序集合と束\n",
        "9. 離散グラフ\n",
        "10. 木グラフ\n",
        "\n",
        "&nbsp;\n"
      ]
    },
    {
      "cell_type": "markdown",
      "metadata": {
        "id": "psvj9bsUs-PB"
      },
      "source": [
        "メモ $\\quad$ 目次の章立てが古い本のせいか普通と違うと思う。 集合から始まっていない。 行列、線形代数が特に章立てされていない。 集合は離散集合 2章で扱っているし、行列は離散関係 5章で扱っているので、扱っていないわけではない。\n",
        "\n",
        "楽しみかも。\n",
        "\n",
        "&nbsp;\n",
        "\n"
      ]
    },
    {
      "cell_type": "markdown",
      "metadata": {
        "id": "60M_n6qpstYV"
      },
      "source": [
        "# 論理と証明\n"
      ]
    },
    {
      "cell_type": "markdown",
      "metadata": {
        "id": "s0oo78q7vQqF"
      },
      "source": [
        "命題 $\\quad$ 文で表された真偽の明確な言明 statement を命題 proposition と言う。\n",
        "\n",
        "$p,q$ を命題記号と言う。\n",
        "\n",
        "素命題、基本命題 atom とも言う。\n",
        "\n",
        "cf. 複合命題\n",
        "\n",
        "真・偽を真理値 truth value と言い、$\\mathrm{T,F}$ で表す。\n",
        "\n",
        "$\\mathrm{val} (p) = \\mathrm T$ \n",
        "\n",
        "簡単のため $p = \\mathrm T$ と書く。\n",
        "\n",
        "&nbsp;\n"
      ]
    },
    {
      "cell_type": "markdown",
      "metadata": {
        "id": "2b_mvfrXwnwH"
      },
      "source": [
        "変数に要素を代入すると真偽が決まる変数付きの言明を述語 predicate と言う。\n",
        "\n",
        "述語は述語記号 $p$ に 引数 argument をつけて表す。 $p(x)$ 。\n",
        "\n",
        "変数の変域をドメイン domain と言う。\n",
        "\n",
        "述語は命題関数 propositional function と呼ばれる。 \n",
        "\n",
        "変数を含む言明であっても、$\\forall$ や $\\exists$ がつくと命題になる。 全称記号や存在記号を限量子 quantifier と言う。\n",
        "\n",
        "$p = \\forall x \\; p(x) \\quad$ 任意の $x$ に対して $p(x)$ である。\n",
        "\n",
        "$q = \\exists y \\; q(4,y) \\quad$ ある整数 $y$ が存在して $q(4,y)$ である。\n",
        "\n",
        "ドメインは次のように明示することもある。\n",
        "\n",
        "$p = \\forall x \\in D \\ p(x)$\n",
        "\n",
        "$q = \\exists y \\in \\mathbf Z \\ q(4,y)$\n",
        "\n",
        "反例 counter example があれば命題は偽となる。\n",
        "\n",
        "全称記号、存在記号の順序によって意味が異なる。\n",
        "\n",
        "$p = \\forall x \\; \\exists y \\; (x-y)^2=4 \\quad$ True\n",
        "\n",
        "$p = \\exists y \\; \\forall x \\; (x-y)^2=4 \\quad$ False\n",
        "\n",
        "一般に存在記号で修飾された変数は、その左側にある全称記号で修飾された変数に依存してよい。 全称記号で修飾された変数がなければ、依存する変数はなく定数となる。\n",
        "\n",
        "&nbsp;\n",
        "\n",
        "\n",
        "\n",
        "\n",
        "\n",
        "\n",
        "\n",
        "\n",
        "\n",
        "\n"
      ]
    },
    {
      "cell_type": "markdown",
      "metadata": {
        "id": "1mF2NufVVz71"
      },
      "source": [
        "例 1.1 p.4 次の表現の意味を説明し、真偽を示す。 ドメインは整数。\n",
        "\n",
        "1. $\\exists y \\; \\forall x \\; \\ [x+y=x]$ \n",
        "\n",
        "ある $y$ が存在しすべての $x$ について、$x+y=x$ が成立する。 $y$ が 0 ならば成立するので真。\n",
        "\n",
        "2. $\\forall x \\; \\exists y \\; [x+y=0]$\n",
        "\n",
        "任意の $x$ について $x+y=0$ となる $y$ が存在する。 $-x$ が存在するので真。\n",
        "\n",
        "&nbsp;\n",
        "\n",
        "否定は $\\neg p$ または $\\mathrm{not}\\  p$ で表す。\n",
        "\n",
        "否定の真理値表 truth table\n",
        "\n",
        "p | not p\n",
        ":-: | :-: \n",
        "T | F\n",
        "F | T\n",
        "\n",
        "二重否定、対合律 (たいごうりつ) involution law が成立する。\n",
        "\n",
        "$\\neg (\\neg p) = p$\n",
        "\n",
        "&nbsp;\n",
        "\n",
        "一般に、限量記号 (全称記号、存在記号) を伴った命題の否定についてまとめると次のようになる。\n",
        "\n",
        "$\\neg (\\forall x \\; p(x)) = \\exists x \\; \\neg p(x))\\quad$ $\\neg p(x)$ となる $x$ が存在する\n",
        "\n",
        "$\\neg (\\exists x \\; p(x)) = \\forall x \\; \\neg p(x) \\quad$ 任意の $x$ について $\\neg p(x)$ である。\n",
        "\n",
        "&nbsp;\n",
        "\n"
      ]
    },
    {
      "cell_type": "markdown",
      "metadata": {
        "id": "UNigDoFTawm8"
      },
      "source": [
        "選言 $\\quad p \\lor q \\quad (p \\;\\mathrm{or}\\: q)$\n",
        "\n",
        "連言 $\\quad p \\land q \\quad (p \\;\\mathrm{and}\\; q)$\n"
      ]
    },
    {
      "cell_type": "markdown",
      "metadata": {
        "id": "uKJ7YyUMKCzP"
      },
      "source": [
        "ド・モルガン律 p.6\n",
        "\n",
        "$\\neg (p \\lor q) = \\neg p \\land \\neg q$\n",
        "\n",
        "$\\neg (p \\land q) = \\neg p \\lor \\neg q$\n",
        "\n",
        "&nbsp;\n",
        "\n",
        "排他的選言 (排他的論理和 exlusive or) $\\quad (p\\;\\mathrm{xor}\\; q)$\n",
        "\n",
        "同値 $\\quad (p\\;\\mathrm{equiv}\\; q)$\n",
        "\n",
        "$p \\rightarrow q$ 含意 (がんい) $\\quad (p\\;\\mathrm{imp}\\; q)$\n",
        "\n",
        "排他的選言 (exlusive or) は排他的論理和とも言う。\n",
        "\n",
        "$\\quad p\\;\\mathrm{xor}\\; q = (p \\land \\neg q) \\lor (\\neg p \\land q)$\n",
        "\n",
        "これは見方を変えると $p$ と $q$ の真理値が一致しないときに真、一致するときに偽、とみなすことができる。 排他的選言の否定は $p$ と $q$ の真理値が一致するときに真、一致しないときに偽となる。\n",
        "\n",
        "この論理演算を同値 equivalence と言い、 $p \\;\\mathrm{equiv}\\; q$ と表す。\n",
        "\n",
        "&nbsp;\n",
        "\n",
        "\n",
        "\n"
      ]
    },
    {
      "cell_type": "markdown",
      "metadata": {
        "id": "6yEXOSPaZw-4"
      },
      "source": [
        "含意 p.7,8\n",
        "\n",
        "一般に、条件付き命題は、条件の命題 $p$ と結論の命題 $q$ からなる複合命題で、含意 implication と言う。 演算記号として $\\rightarrow$ を使う。\n",
        "\n",
        "含意 $\\quad p \\;\\rightarrow\\; q\\quad (p\\;\\mathrm{imp}\\; q)$\n",
        "\n",
        "含意は $p$ が真、 $q$ が偽のときのみ偽となり、 $p$ が偽のときは常に真である。\n",
        "\n",
        "含意について次の性質は重要である。\n",
        "\n",
        "$p \\;\\rightarrow\\; q \\;=\\; \\neg q \\;\\rightarrow\\; \\neg q$\n",
        "\n",
        "$p \\;\\rightarrow\\; q \\;=\\; \\neg p \\lor q$\n",
        "\n",
        "含意の否定は次のようになる。\n",
        "\n",
        "$\\neg (p \\;\\rightarrow\\; q) \\;=\\; (p \\land \\neg q)$\n",
        "\n",
        "&nbsp;"
      ]
    },
    {
      "cell_type": "markdown",
      "metadata": {
        "id": "NgSshufVV_Xq"
      },
      "source": [
        "# いまここ"
      ]
    },
    {
      "cell_type": "markdown",
      "metadata": {
        "id": "Gy-F0vJ09A8y"
      },
      "source": [
        "証明について p.9,10\n",
        "\n",
        "$a,b,c$ を実数として、$a+b+c=0$ ならば、$a^3+b^3+c^3=3abc$ であることを証明する。"
      ]
    },
    {
      "cell_type": "code",
      "metadata": {
        "id": "e3mxhnUK2rXU",
        "outputId": "8a8b0c3b-e99b-4090-d0d7-03bd3d74998f",
        "colab": {
          "base_uri": "https://localhost:8080/",
          "height": 59
        }
      },
      "source": [
        "from sympy.abc import *\n",
        "from sympy import *\n",
        "# a+b+c=0 より\n",
        "a = - (b + c)\n",
        "# 左辺 - 右辺\n",
        "display(a**3 + b**3 + c**3 - 3*a*b*c)\n",
        "display(simplify(a**3 + b**3 + c**3 - 3*a*b*c))\n",
        "\n",
        "\n"
      ],
      "execution_count": 5,
      "outputs": [
        {
          "output_type": "display_data",
          "data": {
            "text/latex": "$\\displaystyle b^{3} - b c \\left(- 3 b - 3 c\\right) + c^{3} + \\left(- b - c\\right)^{3}$",
            "text/plain": [
              "b**3 - b*c*(-3*b - 3*c) + c**3 + (-b - c)**3"
            ]
          },
          "metadata": {
            "tags": []
          }
        },
        {
          "output_type": "display_data",
          "data": {
            "text/latex": "$\\displaystyle 0$",
            "text/plain": [
              "0"
            ]
          },
          "metadata": {
            "tags": []
          }
        }
      ]
    },
    {
      "cell_type": "markdown",
      "metadata": {
        "id": "oeQbjCpz5ynq"
      },
      "source": [
        "証明の形式\n",
        "\n",
        "この証明は\n",
        "\n",
        "$p = (a+b+c=0),\\quad q= (a^3+b^3+c^3=3abc)$\n",
        "\n",
        "として、$p$ ならば $q$、$ p \\rightarrow q$ の形式の条件付き命題である。\n",
        "\n",
        "条件 $p = \\mathrm T$ から $q = \\mathrm T$ を導いている。 条件 $p$ が成立しない場合、$p=\\mathrm F$ の場合は、$q$ の真偽によらず、$ p \\rightarrow q$ であるから、条件付き命題である含意命題 $ p \\rightarrow q$ が常に真 (恒真性) であることを証明している。\n",
        "\n",
        "この例では $p$ も $q$ も任意の実数 $a,b,c$ を含むから、実際には、\n",
        "\n",
        "$p(a,b,c) = (a+b+c=0),\\quad q(a,b,c) = (a^3+b^3+c^3=3abc)$\n",
        "\n",
        "であって、次の含意命題 (条件付き命題)\n",
        "\n",
        "$\\forall a\\;\\forall b\\;\\forall c\\;p(a,b,c) \\rightarrow q(a,b,c)$\n",
        "\n",
        "の恒真性を証明する、という問題である。\n",
        "\n",
        "&nbsp;\n",
        "\n",
        "\n"
      ]
    },
    {
      "cell_type": "markdown",
      "metadata": {
        "id": "zbiq8-xC_9FU"
      },
      "source": [
        "三段論法 \n",
        "\n",
        "実際の証明では、"
      ]
    }
  ]
}