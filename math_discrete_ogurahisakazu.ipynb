{
  "nbformat": 4,
  "nbformat_minor": 0,
  "metadata": {
    "colab": {
      "name": "math_discrete_ogurahisakazu.ipynb",
      "provenance": [],
      "toc_visible": true,
      "authorship_tag": "ABX9TyPoYDY/NTwyKOfhNAenSPsa",
      "include_colab_link": true
    },
    "kernelspec": {
      "name": "python3",
      "display_name": "Python 3"
    },
    "language_info": {
      "name": "python"
    }
  },
  "cells": [
    {
      "cell_type": "markdown",
      "metadata": {
        "id": "view-in-github",
        "colab_type": "text"
      },
      "source": [
        "<a href=\"https://colab.research.google.com/github/kalz2q/mycolabnotebooks/blob/master/math_discrete_ogurahisakazu.ipynb\" target=\"_parent\"><img src=\"https://colab.research.google.com/assets/colab-badge.svg\" alt=\"Open In Colab\"/></a>"
      ]
    },
    {
      "cell_type": "markdown",
      "metadata": {
        "id": "EQU76affrvv4"
      },
      "source": [
        "# メモ\n",
        "\n",
        "離散数学への入門  \n",
        "わかりやすい離散数学\n",
        "\n",
        "小倉久和\n",
        "\n",
        "を読む。\n",
        "\n",
        "&nbsp;\n"
      ]
    },
    {
      "cell_type": "markdown",
      "metadata": {
        "id": "4ESTrgimr7C4"
      },
      "source": [
        "目次\n",
        "\n",
        "1. 論理と証明\n",
        "2. 離散集合\n",
        "3. 写像・関数\n",
        "4. 帰納法\n",
        "5. 離散関係\n",
        "6. 整数演算\n",
        "7. 離散代数系\n",
        "8. 順序集合と束\n",
        "9. 離散グラフ\n",
        "10. 木グラフ\n",
        "\n",
        "&nbsp;\n"
      ]
    },
    {
      "cell_type": "markdown",
      "metadata": {
        "id": "psvj9bsUs-PB"
      },
      "source": [
        "メモ $\\quad$ 目次の章立てが古い本のせいか普通と違うと思う。 集合から始まっていない。 行列、線形代数が特に章立てされていない。 集合は離散集合 2章で扱っているし、行列は離散関係 5章で扱っているので、扱っていないわけではない。\n",
        "\n",
        "楽しみかも。\n",
        "\n",
        "&nbsp;\n",
        "\n"
      ]
    },
    {
      "cell_type": "markdown",
      "metadata": {
        "id": "60M_n6qpstYV"
      },
      "source": [
        "# 論理と証明\n"
      ]
    },
    {
      "cell_type": "markdown",
      "metadata": {
        "id": "s0oo78q7vQqF"
      },
      "source": [
        "命題 $\\quad$ 文で表された真偽の明確な言明 statement を命題 proposition と言う。\n",
        "\n",
        "$p,q$ を命題記号と言う。\n",
        "\n",
        "素命題、基本命題 atom とも言う。\n",
        "\n",
        "cf. 複合命題\n",
        "\n",
        "真・偽を真理値 truth value と言い、$\\mathrm{T,F}$ で表す。\n",
        "\n",
        "$\\mathrm{val} (p) = \\mathrm T$ \n",
        "\n",
        "簡単のため $p = \\mathrm T$ と書く。\n",
        "\n",
        "&nbsp;\n"
      ]
    },
    {
      "cell_type": "markdown",
      "metadata": {
        "id": "2b_mvfrXwnwH"
      },
      "source": [
        "変数に要素を代入すると真偽が決まる変数付きの言明を述語 predicate と言う。\n",
        "\n",
        "述語は述語記号 $p$ に 引数 argument をつけて表す。 $p(x)$ 。\n",
        "\n",
        "変数の変域をドメイン domain と言う。\n",
        "\n",
        "述語は命題関数 propositional function と呼ばれる。 \n",
        "\n",
        "変数を含む言明であっても、$\\forall$ や $\\exists$ がつくと命題になる。 全称記号や存在記号を限量子 quantifier と言う。\n",
        "\n",
        "$p = \\forall x p(x) \\quad$ 任意の $x$ に対して $p(x)$ である。\n",
        "\n",
        "$q = \\exists y q(4,y)$ %\\quad$ ある整数 $y$ が存在して $q(4,y)$ である。\n",
        "\n",
        "ドメインは次のように明示することもある。\n",
        "\n",
        "$p = \\forall x \\in D \\ p(x)$\n",
        "\n",
        "$q = \\exists y \\in \\mathbf Z \\ q(4,y)$\n",
        "\n",
        "反例 counter example があれば命題は偽となる。\n",
        "\n",
        "全称記号、存在記号の順序によって意味が異なる。\n",
        "\n",
        "$p = \\forall x \\exists y (x-y)^2=4 \\quad$ True\n",
        "\n",
        "$p = \\exists y \\forall x (x-y)^2=4 \\quad$ False\n",
        "\n",
        "一般に存在記号で修飾された変数は、その左側にある全称記号で修飾された変数に依存してよい。 全称記号で修飾された変数がなければ、依存する変数はなく定数となる。\n",
        "\n",
        "&nbsp;\n",
        "\n",
        "\n",
        "\n",
        "\n",
        "\n",
        "\n",
        "\n",
        "\n",
        "\n",
        "\n"
      ]
    },
    {
      "cell_type": "markdown",
      "metadata": {
        "id": "1mF2NufVVz71"
      },
      "source": [
        "例 1.1 p.4 次の表現の意味を説明し、真偽を示す。 ドメインは整数。\n",
        "\n",
        "1. $\\exists y\\forall x\\ [x+y=x]$ \n",
        "\n",
        "ある $y$ が存在しすべての $x$ について、$x+y=x$ が成立する。 $y$ が 0 ならば成立するので真。\n",
        "\n",
        "2. $\\forall x \\exists y [x+y=0]$\n",
        "\n",
        "任意の $x$ について $x+y=0$ となる $y$ が存在する。 $-x$ が存在するので真。\n",
        "\n",
        "&nbsp;\n",
        "\n",
        "否定は $\\neg p$ または $\\mathrm{not}\\  p$ で表す。\n",
        "\n",
        "否定の真理値表 truth table\n",
        "\n",
        "p | not p\n",
        ":-: | :-: \n",
        "T | F\n",
        "F | T\n",
        "\n",
        "二重否定、対合律 (たいごうりつ) involution law が成立する。\n",
        "\n",
        "$\\neg (\\neg p) = p$\n",
        "\n",
        "&nbsp;\n",
        "\n",
        "一般に、限量記号 (全称記号、存在記号) を伴った命題の否定についてまとめると次のようになる。\n",
        "\n",
        "$\\neg (\\forall x p(x)) = \\exists \\neg p(x))\\quad$ $\\neg p(x) となる $x$ が存在する\n",
        "\n",
        "$\\neg (\\exists x p(x)) = \\forall x \\neg p(x) \\quad$ 任意の $x$ について $\\neg p(x)$ である。\n",
        "\n",
        "&nbsp;\n",
        "\n"
      ]
    },
    {
      "cell_type": "markdown",
      "metadata": {
        "id": "UNigDoFTawm8"
      },
      "source": [
        "選言 $\\quad p \\lor q \\quad (p or q)$\n",
        "\n",
        "連言 $\\quad p \\land q \\quad (p and q)$"
      ]
    }
  ]
}