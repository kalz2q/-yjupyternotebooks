{
  "nbformat": 4,
  "nbformat_minor": 0,
  "metadata": {
    "colab": {
      "name": "functionalcpp.ipynb",
      "provenance": [],
      "toc_visible": true,
      "authorship_tag": "ABX9TyMbbaYe26A/aAZ5EviJVHAK",
      "include_colab_link": true
    },
    "kernelspec": {
      "name": "python3",
      "display_name": "Python 3"
    }
  },
  "cells": [
    {
      "cell_type": "markdown",
      "metadata": {
        "id": "view-in-github",
        "colab_type": "text"
      },
      "source": [
        "<a href=\"https://colab.research.google.com/github/kalz2q/mycolabnotebooks/blob/master/functionalcpp.ipynb\" target=\"_parent\"><img src=\"https://colab.research.google.com/assets/colab-badge.svg\" alt=\"Open In Colab\"/></a>"
      ]
    },
    {
      "cell_type": "markdown",
      "metadata": {
        "id": "ImGx0QVOWbEq"
      },
      "source": [
        "# メモ\n",
        "1. C++で関数型プログラミング風に書きたい、と思った。\n",
        "1. functional programming in C++ という本のchapter01がネットで読めるので、導入だけでもいいと思って読んでいるところ。\n",
        "1. https://itbook.store/files/9781617293818/chapter1.pdf"
      ]
    },
    {
      "cell_type": "markdown",
      "metadata": {
        "id": "o_In2Fwv6BtR"
      },
      "source": [
        "# 関数型プログラミング入門"
      ]
    },
    {
      "cell_type": "code",
      "metadata": {
        "id": "3BPzbU05Wmvs",
        "colab": {
          "base_uri": "https://localhost:8080/"
        },
        "outputId": "d7cc64fd-1b8b-40a2-eab2-d48b03feafc5"
      },
      "source": [
        "# 最初にでてくる、関数型でない書き方の例を、とりあえず動かす。\n",
        "%%writefile countlines01.cpp\n",
        "#include <iostream>\n",
        "#include <fstream>\n",
        "#include <vector>\n",
        "std::vector<int> count_lines_in_files(const std::vector<std::string>& files) {\n",
        "    std::vector<int> results;\n",
        "    char c = 0;\n",
        "    for (const auto& file : files) {\n",
        "        int line_count = 0;\n",
        "        std::ifstream in(file);\n",
        "        while (in.get(c)) {\n",
        "            if (c == '\\n') {\n",
        "                line_count++;\n",
        "            }\n",
        "        }\n",
        "        results.push_back(line_count);\n",
        "    }\n",
        "    return results;\n",
        "}\n",
        "int main() {\n",
        "    std::vector<std::string> files{\"countlines01.cpp\"};\n",
        "    std::vector<int> results;\n",
        "\n",
        "    results = count_lines_in_files(files);\n",
        "\n",
        "    for (int i = 0; i < results.size(); i++) {\n",
        "        std::cout << results[0] << \"\\n\";\n",
        "    }\n",
        "\n",
        "    return 0;\n",
        "}\n"
      ],
      "execution_count": null,
      "outputs": [
        {
          "output_type": "stream",
          "text": [
            "Overwriting countlines01.cpp\n"
          ],
          "name": "stdout"
        }
      ]
    },
    {
      "cell_type": "code",
      "metadata": {
        "id": "4ABzTYknWaUL",
        "colab": {
          "base_uri": "https://localhost:8080/"
        },
        "outputId": "6fd19bd4-b8ea-49f4-f1e5-15346d9625a2"
      },
      "source": [
        "!g++ countlines01.cpp -o countlines01; ./countlines01"
      ],
      "execution_count": null,
      "outputs": [
        {
          "output_type": "stream",
          "text": [
            "29\n"
          ],
          "name": "stdout"
        }
      ]
    },
    {
      "cell_type": "code",
      "metadata": {
        "id": "Rxgf5lqDoTfr",
        "colab": {
          "base_uri": "https://localhost:8080/"
        },
        "outputId": "4002a25f-9f47-4b3b-b6f8-a01993ce717e"
      },
      "source": [
        "!wc countlines01.cpp"
      ],
      "execution_count": null,
      "outputs": [
        {
          "output_type": "stream",
          "text": [
            " 29  75 702 countlines01.cpp\n"
          ],
          "name": "stdout"
        }
      ]
    },
    {
      "cell_type": "markdown",
      "metadata": {
        "id": "aICDo1mppxw_"
      },
      "source": [
        "行数が一致することを確認。"
      ]
    },
    {
      "cell_type": "code",
      "metadata": {
        "id": "pCGSkjyxtIdz",
        "colab": {
          "base_uri": "https://localhost:8080/"
        },
        "outputId": "6376af91-71e7-44d0-da1a-70505c3117e0"
      },
      "source": [
        "# std::count アルゴリズムを使う\n",
        "%%writefile countlines02.cpp\n",
        "#include <algorithm>\n",
        "#include <fstream>\n",
        "#include <iostream>\n",
        "#include <vector>\n",
        "\n",
        "int count_lines(const std::string& filename) {\n",
        "    std::ifstream in(filename);\n",
        "    return std::count(std::istreambuf_iterator<char>(in),\n",
        "                      std::istreambuf_iterator<char>(), '\\n');\n",
        "}\n",
        "std::vector<int> count_lines_in_files(const std::vector<std::string>& files) {\n",
        "    std::vector<int> results;\n",
        "    for (const auto& file : files) {\n",
        "        results.push_back(count_lines(file));\n",
        "    }\n",
        "    return results;\n",
        "}\n",
        "\n",
        "int main() {\n",
        "    std::vector<std::string> files{\"countlines01.cpp\"};\n",
        "    std::vector<int> results;\n",
        "\n",
        "    results = count_lines_in_files(files);\n",
        "\n",
        "    for (int i = 0; i < results.size(); i++) {\n",
        "        std::cout << results[0] << \"\\n\";\n",
        "    }\n",
        "\n",
        "    return 0;\n",
        "}\n"
      ],
      "execution_count": null,
      "outputs": [
        {
          "output_type": "stream",
          "text": [
            "Overwriting countlines02.cpp\n"
          ],
          "name": "stdout"
        }
      ]
    },
    {
      "cell_type": "code",
      "metadata": {
        "id": "iY45gcwjtIZD",
        "colab": {
          "base_uri": "https://localhost:8080/"
        },
        "outputId": "e54c085c-3b82-421e-8cc1-0280ac5d8705"
      },
      "source": [
        "!g++ countlines02.cpp -o countlines02; ./countlines02"
      ],
      "execution_count": null,
      "outputs": [
        {
          "output_type": "stream",
          "text": [
            "29\n"
          ],
          "name": "stdout"
        }
      ]
    },
    {
      "cell_type": "code",
      "metadata": {
        "id": "EZSsO4TivI06",
        "colab": {
          "base_uri": "https://localhost:8080/"
        },
        "outputId": "7b0f231e-96be-4dc5-9b10-b1c61e60db76"
      },
      "source": [
        "%%writefile countlines03.cpp\n",
        "#include <algorithm>\n",
        "#include <fstream>\n",
        "#include <iostream>\n",
        "#include <vector>\n",
        "\n",
        "int count_lines(const std::string& filename) {\n",
        "    std::ifstream in(filename);\n",
        "    return std::count(std::istreambuf_iterator<char>(in),\n",
        "                      std::istreambuf_iterator<char>(), '\\n');\n",
        "}\n",
        "\n",
        "std::vector<int> count_lines_in_files(const std::vector<std::string>& files) {\n",
        "    std::vector<int> results(files.size());\n",
        "    std::transform(files.cbegin(), files.cend(), results.begin(), count_lines);\n",
        "    return results;\n",
        "}\n",
        "\n",
        "int main() {\n",
        "    std::vector<std::string> files{\"countlines01.cpp\"};\n",
        "    std::vector<int> results;\n",
        "\n",
        "    results = count_lines_in_files(files);\n",
        "\n",
        "    for (int i = 0; i < results.size(); i++) {\n",
        "        std::cout << results[0] << \"\\n\";\n",
        "    }\n",
        "\n",
        "    return 0;\n",
        "}\n"
      ],
      "execution_count": null,
      "outputs": [
        {
          "output_type": "stream",
          "text": [
            "Overwriting countlines03.cpp\n"
          ],
          "name": "stdout"
        }
      ]
    },
    {
      "cell_type": "code",
      "metadata": {
        "id": "JRH-vU6FvIp1",
        "colab": {
          "base_uri": "https://localhost:8080/"
        },
        "outputId": "ef07c559-6f94-4814-e628-f2e4b33804a9"
      },
      "source": [
        "!g++ countlines03.cpp -o countlines03; ./countlines03"
      ],
      "execution_count": null,
      "outputs": [
        {
          "output_type": "stream",
          "text": [
            "29\n"
          ],
          "name": "stdout"
        }
      ]
    },
    {
      "cell_type": "code",
      "metadata": {
        "id": "ZH7o7JjN04zt"
      },
      "source": [
        "# 次のコードはRangesを使っていて、いまの段階では動かない。\n",
        "%%script false\n",
        "%%writefile countlines04.cpp\n",
        "#include <algorithm>\n",
        "#include <fstream>\n",
        "#include <iostream>\n",
        "#include <vector>\n",
        "\n",
        "int count_lines(const std::string& filename) {\n",
        "    std::ifstream in(filename);\n",
        "    return std::count(std::istreambuf_iterator<char>(in),\n",
        "                      std::istreambuf_iterator<char>(), '\\n');\n",
        "}\n",
        "\n",
        "std::vector<int> count_lines_in_files(const std::vector<std::string>& files) {\n",
        "    return files | transform(count_lines);\n",
        "}\n",
        "\n",
        "int main() {\n",
        "    std::vector<std::string> files{\"countlines01.cpp\"};\n",
        "    std::vector<int> results;\n",
        "\n",
        "    results = count_lines_in_files(files);\n",
        "\n",
        "    for (int i = 0; i < results.size(); i++) {\n",
        "        std::cout << results[0] << \"\\n\";\n",
        "    }\n",
        "\n",
        "    return 0;\n",
        "}\n"
      ],
      "execution_count": 40,
      "outputs": []
    },
    {
      "cell_type": "code",
      "metadata": {
        "id": "0OPplqIf7qzu"
      },
      "source": [
        "# 次のコードはRangesを使っていて、いまの段階では動かない。\n",
        "%%script false\n",
        "%%writefile countlines05.cpp\n",
        "#include <algorithm>\n",
        "#include <fstream>\n",
        "#include <iostream>\n",
        "#include <vector>\n",
        "\n",
        "int count_lines(const std::string& filename) {\n",
        "    std::ifstream in(filename);\n",
        "    return std::count(std::istreambuf_iterator<char>(in),\n",
        "                      std::istreambuf_iterator<char>(), '\\n');\n",
        "}\n",
        "\n",
        "std::vector<int> count_lines_in_files(const std::vector<std::string>& files) {\n",
        "    return files | transform(open_file) | transform(count_lines);\n",
        "}\n",
        "\n",
        "int main() {\n",
        "    std::vector<std::string> files{\"countlines01.cpp\"};\n",
        "    std::vector<int> results;\n",
        "\n",
        "    results = count_lines_in_files(files);\n",
        "\n",
        "    for (int i = 0; i < results.size(); i++) {\n",
        "        std::cout << results[0] << \"\\n\";\n",
        "    }\n",
        "\n",
        "    return 0;\n",
        "}\n"
      ],
      "execution_count": null,
      "outputs": []
    },
    {
      "cell_type": "code",
      "metadata": {
        "id": "ISAe5iUc7qpI"
      },
      "source": [
        "!g++ countlines05.cpp -o countlines05; ./countlines05"
      ],
      "execution_count": null,
      "outputs": []
    },
    {
      "cell_type": "code",
      "metadata": {
        "id": "kYwF-O0iP4R2",
        "outputId": "e8716fe5-b649-43f2-bc80-bd9e73aee858",
        "colab": {
          "base_uri": "https://localhost:8080/"
        }
      },
      "source": [
        "#実験\n",
        "%%writefile transform01.cpp\n",
        "#include <algorithm>\n",
        "#include <cctype>\n",
        "#include <functional>\n",
        "#include <iostream>\n",
        "#include <string>\n",
        "#include <vector>\n",
        "\n",
        "int main() {\n",
        "    std::string s(\"hello\");\n",
        "\n",
        "    namespace ranges = std::ranges;\n",
        "\n",
        "    ranges::transform(\n",
        "        s.begin(), s.end(), s.begin(),\n",
        "        [](unsigned char c) -> unsigned char { return std::toupper(c); });\n",
        "\n",
        "    std::vector<std::size_t> ordinals;\n",
        "    ranges::transform(s, std::back_inserter(ordinals),\n",
        "                      [](unsigned char c) -> std::size_t { return c; });\n",
        "\n",
        "    std::cout << s << ':';\n",
        "    for (auto ord : ordinals) {\n",
        "        std::cout << ' ' << ord;\n",
        "    }\n",
        "\n",
        "    ranges::transform(ordinals, ordinals, ordinals.begin(), std::plus{});\n",
        "\n",
        "    std::cout << '\\n';\n",
        "    for (auto ord : ordinals) {\n",
        "        std::cout << ord << ' ';\n",
        "    }\n",
        "    std::cout << '\\n';\n",
        "}"
      ],
      "execution_count": 41,
      "outputs": [
        {
          "output_type": "stream",
          "text": [
            "Writing transform01.cpp\n"
          ],
          "name": "stdout"
        }
      ]
    },
    {
      "cell_type": "code",
      "metadata": {
        "id": "YQt_Gi3tP4GR",
        "outputId": "0fd46575-0b05-46e6-a675-472f92b862bb",
        "colab": {
          "base_uri": "https://localhost:8080/"
        }
      },
      "source": [
        "!g++  -std=gnu++17 transform01.cpp -o transform01; ./transform01"
      ],
      "execution_count": 45,
      "outputs": [
        {
          "output_type": "stream",
          "text": [
            "\u001b[01m\u001b[Ktransform01.cpp:\u001b[m\u001b[K In function ‘\u001b[01m\u001b[Kint main()\u001b[m\u001b[K’:\n",
            "\u001b[01m\u001b[Ktransform01.cpp:11:29:\u001b[m\u001b[K \u001b[01;31m\u001b[Kerror: \u001b[m\u001b[K‘\u001b[01m\u001b[Kranges\u001b[m\u001b[K’ is not a namespace-name\n",
            "     namespace ranges = std::\u001b[01;31m\u001b[Kranges\u001b[m\u001b[K;\n",
            "                             \u001b[01;31m\u001b[K^~~~~~\u001b[m\u001b[K\n",
            "\u001b[01m\u001b[Ktransform01.cpp:11:35:\u001b[m\u001b[K \u001b[01;31m\u001b[Kerror: \u001b[m\u001b[Kexpected namespace-name before ‘\u001b[01m\u001b[K;\u001b[m\u001b[K’ token\n",
            "     namespace ranges = std::ranges\u001b[01;31m\u001b[K;\u001b[m\u001b[K\n",
            "                                   \u001b[01;31m\u001b[K^\u001b[m\u001b[K\n",
            "\u001b[01m\u001b[Ktransform01.cpp:13:5:\u001b[m\u001b[K \u001b[01;31m\u001b[Kerror: \u001b[m\u001b[K‘\u001b[01m\u001b[Kranges\u001b[m\u001b[K’ has not been declared\n",
            "     \u001b[01;31m\u001b[Kranges\u001b[m\u001b[K::transform(\n",
            "     \u001b[01;31m\u001b[K^~~~~~\u001b[m\u001b[K\n",
            "\u001b[01m\u001b[Ktransform01.cpp:18:5:\u001b[m\u001b[K \u001b[01;31m\u001b[Kerror: \u001b[m\u001b[K‘\u001b[01m\u001b[Kranges\u001b[m\u001b[K’ has not been declared\n",
            "     \u001b[01;31m\u001b[Kranges\u001b[m\u001b[K::transform(s, std::back_inserter(ordinals),\n",
            "     \u001b[01;31m\u001b[K^~~~~~\u001b[m\u001b[K\n",
            "\u001b[01m\u001b[Ktransform01.cpp:26:5:\u001b[m\u001b[K \u001b[01;31m\u001b[Kerror: \u001b[m\u001b[K‘\u001b[01m\u001b[Kranges\u001b[m\u001b[K’ has not been declared\n",
            "     \u001b[01;31m\u001b[Kranges\u001b[m\u001b[K::transform(ordinals, ordinals, ordinals.begin(), std::plus{});\n",
            "     \u001b[01;31m\u001b[K^~~~~~\u001b[m\u001b[K\n",
            "/bin/bash: ./transform01: No such file or directory\n"
          ],
          "name": "stdout"
        }
      ]
    },
    {
      "cell_type": "code",
      "metadata": {
        "id": "u0w87a2RYN1z",
        "outputId": "2537e5e1-6131-4f5c-ae20-2b2753cc5474",
        "colab": {
          "base_uri": "https://localhost:8080/"
        }
      },
      "source": [
        "%%writefile range01.cpp\n",
        "#include <iostream>\n",
        "#include <vector>\n",
        "#include <functional>\n",
        "#include <range-v3>\n",
        "\n",
        "int main (){\n",
        "    return 0;\n",
        "}"
      ],
      "execution_count": 99,
      "outputs": [
        {
          "output_type": "stream",
          "text": [
            "Overwriting range01.cpp\n"
          ],
          "name": "stdout"
        }
      ]
    },
    {
      "cell_type": "code",
      "metadata": {
        "id": "GR_FPo2RYW6e",
        "outputId": "4a075b1f-fce5-4a3d-9d68-7d866296a31e",
        "colab": {
          "base_uri": "https://localhost:8080/"
        }
      },
      "source": [
        "!g++   range01.cpp -o range01; ./range01"
      ],
      "execution_count": 100,
      "outputs": [
        {
          "output_type": "stream",
          "text": [
            "\u001b[01m\u001b[Krange01.cpp:4:10:\u001b[m\u001b[K \u001b[01;31m\u001b[Kfatal error: \u001b[m\u001b[Krange-v3: No such file or directory\n",
            " #include \u001b[01;31m\u001b[K<range-v3>\u001b[m\u001b[K\n",
            "          \u001b[01;31m\u001b[K^~~~~~~~~~\u001b[m\u001b[K\n",
            "compilation terminated.\n",
            "/bin/bash: ./range01: No such file or directory\n"
          ],
          "name": "stdout"
        }
      ]
    },
    {
      "cell_type": "code",
      "metadata": {
        "id": "Cfzv_AZIeT9G",
        "outputId": "46c37ca3-be0f-41b8-967d-3e618208bd3e",
        "colab": {
          "base_uri": "https://localhost:8080/"
        }
      },
      "source": [
        "!git clone https://github.com/Microsoft/vcpkg.git\n",
        "!cd vcpkg/\n"
      ],
      "execution_count": 71,
      "outputs": [
        {
          "output_type": "stream",
          "text": [
            "fatal: destination path 'vcpkg' already exists and is not an empty directory.\n"
          ],
          "name": "stdout"
        }
      ]
    },
    {
      "cell_type": "code",
      "metadata": {
        "id": "pvu0OndZeie1",
        "outputId": "5493b967-6ef1-4287-856a-a0dff2d23b27",
        "colab": {
          "base_uri": "https://localhost:8080/"
        }
      },
      "source": [
        "!ls ./vcpkg"
      ],
      "execution_count": 84,
      "outputs": [
        {
          "output_type": "stream",
          "text": [
            "bootstrap-vcpkg.bat  docs\t  ports\t\t   README.md\t    triplets\n",
            "bootstrap-vcpkg.sh   format.diff  README_es.md\t   README_zh_CN.md\n",
            "CHANGELOG.md\t     LICENSE.txt  README_fr.md\t   scripts\n",
            "CONTRIBUTING.md      NOTICE.txt   README_ko_KR.md  toolsrc\n"
          ],
          "name": "stdout"
        }
      ]
    },
    {
      "cell_type": "code",
      "metadata": {
        "id": "tQO0hmMlem1b",
        "outputId": "0fc46a41-0132-4b81-8d26-ceb7c4648fb2",
        "colab": {
          "base_uri": "https://localhost:8080/"
        }
      },
      "source": [
        "!./vcpkg/bootstrap-vcpkg.sh\n",
        "!./vcpkg integrate install\n",
        "!./vcpkg install range-v3"
      ],
      "execution_count": 85,
      "outputs": [
        {
          "output_type": "stream",
          "text": [
            "Downloading cmake...\n",
            "  % Total    % Received % Xferd  Average Speed   Time    Time     Time  Current\n",
            "                                 Dload  Upload   Total   Spent    Left  Speed\n",
            "100   652  100   652    0     0   4100      0 --:--:-- --:--:-- --:--:--  4100\n",
            "100 39.8M  100 39.8M    0     0  47.5M      0 --:--:-- --:--:-- --:--:-- 47.5M\n",
            "Downloading cmake... done.\n",
            "Extracting cmake...\n",
            "Extracting cmake... done.\n",
            "Downloading ninja...\n",
            "  % Total    % Received % Xferd  Average Speed   Time    Time     Time  Current\n",
            "                                 Dload  Upload   Total   Spent    Left  Speed\n",
            "100   637  100   637    0     0   3956      0 --:--:-- --:--:-- --:--:--  3956\n",
            "100 99913  100 99913    0     0   348k      0 --:--:-- --:--:-- --:--:--  348k\n",
            "Downloading ninja... done.\n",
            "Extracting ninja...\n",
            "Extracting ninja... done.\n",
            "-- The CXX compiler identification is GNU 7.5.0\n",
            "-- Detecting CXX compiler ABI info\n",
            "-- Detecting CXX compiler ABI info - done\n",
            "-- Check for working CXX compiler: /usr/bin/g++-7 - skipped\n",
            "-- Detecting CXX compile features\n",
            "-- Detecting CXX compile features - done\n",
            "-- Detecting the C++ compiler in use\n",
            "-- Detecting the C++ compiler in use - gcc\n",
            "-- Detecting the C++ standard library\n",
            "-- Detecting the C++ standard library - libstdc++\n",
            "-- Detecting how to use the C++ filesystem library\n",
            "-- Detecting how to use the C++ filesystem library - <experimental/filesystem> with -lstdc++fs\n",
            "-- Looking for C++ include pthread.h\n",
            "-- Looking for C++ include pthread.h - found\n",
            "-- Performing Test CMAKE_HAVE_LIBC_PTHREAD\n",
            "-- Performing Test CMAKE_HAVE_LIBC_PTHREAD - Failed\n",
            "-- Check if compiler accepts -pthread\n",
            "-- Check if compiler accepts -pthread - yes\n",
            "-- Found Threads: TRUE  \n",
            "-- Configuring done\n",
            "-- Generating done\n",
            "-- Build files have been written to: /content/vcpkg/toolsrc/build.rel\n",
            "[0/2] Re-checking globbed directories...\u001b[K\n",
            "[45/86] Building CXX object CMakeFiles/vcpkglib.dir/src/vcpkg/commands.upgrade.cpp.o\u001b[K\n",
            "ninja: build stopped: interrupted by user.\n",
            "^C\n",
            "/bin/bash: ./vcpkg: Is a directory\n",
            "/bin/bash: ./vcpkg: Is a directory\n"
          ],
          "name": "stdout"
        }
      ]
    },
    {
      "cell_type": "code",
      "metadata": {
        "id": "K-fhkAU9gbAi",
        "outputId": "0f27b9a9-dfd7-4436-f566-1a58b778b0d1",
        "colab": {
          "base_uri": "https://localhost:8080/"
        }
      },
      "source": [
        "!cd vcpkg; ./bootstrap-vcpkg.sh"
      ],
      "execution_count": 91,
      "outputs": [
        {
          "output_type": "stream",
          "text": [
            "-- The CXX compiler identification is GNU 7.5.0\n",
            "-- Detecting CXX compiler ABI info\n",
            "-- Detecting CXX compiler ABI info - done\n",
            "-- Check for working CXX compiler: /usr/bin/g++-7 - skipped\n",
            "-- Detecting CXX compile features\n",
            "-- Detecting CXX compile features - done\n",
            "-- Detecting the C++ compiler in use\n",
            "-- Detecting the C++ compiler in use - gcc\n",
            "-- Detecting the C++ standard library\n",
            "-- Detecting the C++ standard library - libstdc++\n",
            "-- Detecting how to use the C++ filesystem library\n",
            "-- Detecting how to use the C++ filesystem library - <experimental/filesystem> with -lstdc++fs\n",
            "-- Looking for C++ include pthread.h\n",
            "-- Looking for C++ include pthread.h - found\n",
            "-- Performing Test CMAKE_HAVE_LIBC_PTHREAD\n",
            "-- Performing Test CMAKE_HAVE_LIBC_PTHREAD - Failed\n",
            "-- Check if compiler accepts -pthread\n",
            "-- Check if compiler accepts -pthread - yes\n",
            "-- Found Threads: TRUE  \n",
            "-- Configuring done\n",
            "-- Generating done\n",
            "-- Build files have been written to: /content/vcpkg/toolsrc/build.rel\n",
            "[0/2] Re-checking globbed directories...\u001b[K\n",
            "[86/86] Linking CXX executable vcpkg\u001b[K\n",
            "Telemetry\n",
            "---------\n",
            "vcpkg collects usage data in order to help us improve your experience.\n",
            "The data collected by Microsoft is anonymous.\n",
            "You can opt-out of telemetry by re-running the bootstrap-vcpkg script with -disableMetrics,\n",
            "passing --disable-metrics to vcpkg on the command line,\n",
            "or by setting the VCPKG_DISABLE_METRICS environment variable.\n",
            "\n",
            "Read more about vcpkg telemetry at docs/about/privacy.md\n"
          ],
          "name": "stdout"
        }
      ]
    },
    {
      "cell_type": "code",
      "metadata": {
        "id": "5cnydMIQhpPE",
        "outputId": "254134fd-5d79-49af-bbd4-27549508d21a",
        "colab": {
          "base_uri": "https://localhost:8080/"
        }
      },
      "source": [
        "!cd vcpkg; ./vcpkg integrate install; ./vcpkg install range-v3"
      ],
      "execution_count": 94,
      "outputs": [
        {
          "output_type": "stream",
          "text": [
            "Applied user-wide integration for this vcpkg root.\n",
            "\n",
            "CMake projects should use: \"-DCMAKE_TOOLCHAIN_FILE=/content/vcpkg/scripts/buildsystems/vcpkg.cmake\"\n",
            "Computing installation plan...\n",
            "The following packages will be built and installed:\n",
            "    range-v3[core]:x64-linux -> 0.11.0\n",
            "Detecting compiler hash for triplet x64-linux...\n",
            "Could not locate cached archive: /root/.cache/vcpkg/archives/db/db9a366519016f7e7b920b512096571b434b3832.zip\n",
            "Starting package 1/1: range-v3:x64-linux\n",
            "Building package range-v3[core]:x64-linux...\n",
            "-- Downloading https://github.com/ericniebler/range-v3/archive/4989f3e9ff2efee1852942bb9328ef121369ba02.tar.gz...\n",
            "-- Extracting source /content/vcpkg/downloads/ericniebler-range-v3-4989f3e9ff2efee1852942bb9328ef121369ba02.tar.gz\n",
            "-- Using source at /content/vcpkg/buildtrees/range-v3/src/121369ba02-823af3dba2.clean\n",
            "-- Configuring x64-linux-dbg\n",
            "-- Configuring x64-linux-rel\n",
            "-- Building x64-linux-dbg\n",
            "-- Building x64-linux-rel\n",
            "-- Installing: /content/vcpkg/packages/range-v3_x64-linux/share/range-v3/copyright\n",
            "-- Performing post-build validation\n",
            "-- Performing post-build validation done\n",
            "Stored binary cache: /root/.cache/vcpkg/archives/db/db9a366519016f7e7b920b512096571b434b3832.zip\n",
            "Building package range-v3[core]:x64-linux... done\n",
            "Installing package range-v3[core]:x64-linux...\n",
            "Installing package range-v3[core]:x64-linux... done\n",
            "Elapsed time for package range-v3:x64-linux: 3.618 s\n",
            "\n",
            "Total elapsed time: 4.348 s\n",
            "\n",
            "The package range-v3:x64-linux provides CMake targets:\n",
            "\n",
            "    find_package(range-v3 CONFIG REQUIRED)\n",
            "    # Note: 2 target(s) were omitted.\n",
            "    target_link_libraries(main PRIVATE range-v3 range-v3-meta range-v3::meta range-v3-concepts)\n",
            "\n"
          ],
          "name": "stdout"
        }
      ]
    },
    {
      "cell_type": "markdown",
      "metadata": {
        "id": "HVy68VMVh-7m"
      },
      "source": [
        ""
      ]
    },
    {
      "cell_type": "code",
      "metadata": {
        "id": "rmfP7XYVh-ju"
      },
      "source": [
        ""
      ],
      "execution_count": null,
      "outputs": []
    }
  ]
}