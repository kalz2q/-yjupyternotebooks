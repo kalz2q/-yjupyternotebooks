{
  "nbformat": 4,
  "nbformat_minor": 0,
  "metadata": {
    "colab": {
      "name": "functionalcpp.ipynb",
      "provenance": [],
      "authorship_tag": "ABX9TyOVfHsXURQJqJRuve65lm32",
      "include_colab_link": true
    },
    "kernelspec": {
      "name": "python3",
      "display_name": "Python 3"
    }
  },
  "cells": [
    {
      "cell_type": "markdown",
      "metadata": {
        "id": "view-in-github",
        "colab_type": "text"
      },
      "source": [
        "<a href=\"https://colab.research.google.com/github/kalz2q/mycolabnotebooks/blob/master/functionalcpp.ipynb\" target=\"_parent\"><img src=\"https://colab.research.google.com/assets/colab-badge.svg\" alt=\"Open In Colab\"/></a>"
      ]
    },
    {
      "cell_type": "markdown",
      "metadata": {
        "id": "ImGx0QVOWbEq"
      },
      "source": [
        "# メモ\n",
        "1. C++で関数型プログラミング風に書きたい、と思った。\n",
        "1. functional programming in C++ という本のchapter01がネットで読めるので、導入だけでもいいと思って読んでいるところ。\n",
        "1. https://itbook.store/files/9781617293818/chapter1.pdf"
      ]
    },
    {
      "cell_type": "markdown",
      "metadata": {
        "id": "o_In2Fwv6BtR"
      },
      "source": [
        "# 関数型プログラミング入門"
      ]
    },
    {
      "cell_type": "code",
      "metadata": {
        "id": "3BPzbU05Wmvs",
        "colab": {
          "base_uri": "https://localhost:8080/"
        },
        "outputId": "d7cc64fd-1b8b-40a2-eab2-d48b03feafc5"
      },
      "source": [
        "# 最初にでてくる、関数型でない書き方の例を、とりあえず動かす。\n",
        "%%writefile countlines01.cpp\n",
        "#include <iostream>\n",
        "#include <fstream>\n",
        "#include <vector>\n",
        "std::vector<int> count_lines_in_files(const std::vector<std::string>& files) {\n",
        "    std::vector<int> results;\n",
        "    char c = 0;\n",
        "    for (const auto& file : files) {\n",
        "        int line_count = 0;\n",
        "        std::ifstream in(file);\n",
        "        while (in.get(c)) {\n",
        "            if (c == '\\n') {\n",
        "                line_count++;\n",
        "            }\n",
        "        }\n",
        "        results.push_back(line_count);\n",
        "    }\n",
        "    return results;\n",
        "}\n",
        "int main() {\n",
        "    std::vector<std::string> files{\"countlines01.cpp\"};\n",
        "    std::vector<int> results;\n",
        "\n",
        "    results = count_lines_in_files(files);\n",
        "\n",
        "    for (int i = 0; i < results.size(); i++) {\n",
        "        std::cout << results[0] << \"\\n\";\n",
        "    }\n",
        "\n",
        "    return 0;\n",
        "}\n"
      ],
      "execution_count": null,
      "outputs": [
        {
          "output_type": "stream",
          "text": [
            "Overwriting countlines01.cpp\n"
          ],
          "name": "stdout"
        }
      ]
    },
    {
      "cell_type": "code",
      "metadata": {
        "id": "4ABzTYknWaUL",
        "colab": {
          "base_uri": "https://localhost:8080/"
        },
        "outputId": "6fd19bd4-b8ea-49f4-f1e5-15346d9625a2"
      },
      "source": [
        "!g++ countlines01.cpp -o countlines01; ./countlines01"
      ],
      "execution_count": null,
      "outputs": [
        {
          "output_type": "stream",
          "text": [
            "29\n"
          ],
          "name": "stdout"
        }
      ]
    },
    {
      "cell_type": "code",
      "metadata": {
        "id": "Rxgf5lqDoTfr",
        "colab": {
          "base_uri": "https://localhost:8080/"
        },
        "outputId": "4002a25f-9f47-4b3b-b6f8-a01993ce717e"
      },
      "source": [
        "!wc countlines01.cpp"
      ],
      "execution_count": null,
      "outputs": [
        {
          "output_type": "stream",
          "text": [
            " 29  75 702 countlines01.cpp\n"
          ],
          "name": "stdout"
        }
      ]
    },
    {
      "cell_type": "markdown",
      "metadata": {
        "id": "aICDo1mppxw_"
      },
      "source": [
        "行数が一致することを確認。"
      ]
    },
    {
      "cell_type": "code",
      "metadata": {
        "id": "pCGSkjyxtIdz",
        "colab": {
          "base_uri": "https://localhost:8080/"
        },
        "outputId": "6376af91-71e7-44d0-da1a-70505c3117e0"
      },
      "source": [
        "# std::count アルゴリズムを使う\n",
        "%%writefile countlines02.cpp\n",
        "#include <algorithm>\n",
        "#include <fstream>\n",
        "#include <iostream>\n",
        "#include <vector>\n",
        "\n",
        "int count_lines(const std::string& filename) {\n",
        "    std::ifstream in(filename);\n",
        "    return std::count(std::istreambuf_iterator<char>(in),\n",
        "                      std::istreambuf_iterator<char>(), '\\n');\n",
        "}\n",
        "std::vector<int> count_lines_in_files(const std::vector<std::string>& files) {\n",
        "    std::vector<int> results;\n",
        "    for (const auto& file : files) {\n",
        "        results.push_back(count_lines(file));\n",
        "    }\n",
        "    return results;\n",
        "}\n",
        "\n",
        "int main() {\n",
        "    std::vector<std::string> files{\"countlines01.cpp\"};\n",
        "    std::vector<int> results;\n",
        "\n",
        "    results = count_lines_in_files(files);\n",
        "\n",
        "    for (int i = 0; i < results.size(); i++) {\n",
        "        std::cout << results[0] << \"\\n\";\n",
        "    }\n",
        "\n",
        "    return 0;\n",
        "}\n"
      ],
      "execution_count": null,
      "outputs": [
        {
          "output_type": "stream",
          "text": [
            "Overwriting countlines02.cpp\n"
          ],
          "name": "stdout"
        }
      ]
    },
    {
      "cell_type": "code",
      "metadata": {
        "id": "iY45gcwjtIZD",
        "colab": {
          "base_uri": "https://localhost:8080/"
        },
        "outputId": "e54c085c-3b82-421e-8cc1-0280ac5d8705"
      },
      "source": [
        "!g++ countlines02.cpp -o countlines02; ./countlines02"
      ],
      "execution_count": null,
      "outputs": [
        {
          "output_type": "stream",
          "text": [
            "29\n"
          ],
          "name": "stdout"
        }
      ]
    },
    {
      "cell_type": "code",
      "metadata": {
        "id": "EZSsO4TivI06",
        "colab": {
          "base_uri": "https://localhost:8080/"
        },
        "outputId": "7b0f231e-96be-4dc5-9b10-b1c61e60db76"
      },
      "source": [
        "%%writefile countlines03.cpp\n",
        "#include <algorithm>\n",
        "#include <fstream>\n",
        "#include <iostream>\n",
        "#include <vector>\n",
        "\n",
        "int count_lines(const std::string& filename) {\n",
        "    std::ifstream in(filename);\n",
        "    return std::count(std::istreambuf_iterator<char>(in),\n",
        "                      std::istreambuf_iterator<char>(), '\\n');\n",
        "}\n",
        "\n",
        "std::vector<int> count_lines_in_files(const std::vector<std::string>& files) {\n",
        "    std::vector<int> results(files.size());\n",
        "    std::transform(files.cbegin(), files.cend(), results.begin(), count_lines);\n",
        "    return results;\n",
        "}\n",
        "\n",
        "int main() {\n",
        "    std::vector<std::string> files{\"countlines01.cpp\"};\n",
        "    std::vector<int> results;\n",
        "\n",
        "    results = count_lines_in_files(files);\n",
        "\n",
        "    for (int i = 0; i < results.size(); i++) {\n",
        "        std::cout << results[0] << \"\\n\";\n",
        "    }\n",
        "\n",
        "    return 0;\n",
        "}\n"
      ],
      "execution_count": null,
      "outputs": [
        {
          "output_type": "stream",
          "text": [
            "Overwriting countlines03.cpp\n"
          ],
          "name": "stdout"
        }
      ]
    },
    {
      "cell_type": "code",
      "metadata": {
        "id": "JRH-vU6FvIp1",
        "colab": {
          "base_uri": "https://localhost:8080/"
        },
        "outputId": "ef07c559-6f94-4814-e628-f2e4b33804a9"
      },
      "source": [
        "!g++ countlines03.cpp -o countlines03; ./countlines03"
      ],
      "execution_count": null,
      "outputs": [
        {
          "output_type": "stream",
          "text": [
            "29\n"
          ],
          "name": "stdout"
        }
      ]
    },
    {
      "cell_type": "code",
      "metadata": {
        "id": "ZH7o7JjN04zt"
      },
      "source": [
        "# 次のコードはRangesを使っていて、いまの段階では動かない。\n",
        "%%script false\n",
        "%%writefile countlines04.cpp\n",
        "#include <algorithm>\n",
        "#include <fstream>\n",
        "#include <iostream>\n",
        "#include <vector>\n",
        "\n",
        "int count_lines(const std::string& filename) {\n",
        "    std::ifstream in(filename);\n",
        "    return std::count(std::istreambuf_iterator<char>(in),\n",
        "                      std::istreambuf_iterator<char>(), '\\n');\n",
        "}\n",
        "\n",
        "std::vector<int> count_lines_in_files(const std::vector<std::string>& files) {\n",
        "    return files | transform(count_lines);\n",
        "}\n",
        "\n",
        "int main() {\n",
        "    std::vector<std::string> files{\"countlines01.cpp\"};\n",
        "    std::vector<int> results;\n",
        "\n",
        "    results = count_lines_in_files(files);\n",
        "\n",
        "    for (int i = 0; i < results.size(); i++) {\n",
        "        std::cout << results[0] << \"\\n\";\n",
        "    }\n",
        "\n",
        "    return 0;\n",
        "}\n"
      ],
      "execution_count": null,
      "outputs": []
    },
    {
      "cell_type": "code",
      "metadata": {
        "id": "0OPplqIf7qzu"
      },
      "source": [
        "# 次のコードはRangesを使っていて、いまの段階では動かない。\n",
        "%%script false\n",
        "%%writefile countlines05.cpp\n",
        "#include <algorithm>\n",
        "#include <fstream>\n",
        "#include <iostream>\n",
        "#include <vector>\n",
        "\n",
        "int count_lines(const std::string& filename) {\n",
        "    std::ifstream in(filename);\n",
        "    return std::count(std::istreambuf_iterator<char>(in),\n",
        "                      std::istreambuf_iterator<char>(), '\\n');\n",
        "}\n",
        "\n",
        "std::vector<int> count_lines_in_files(const std::vector<std::string>& files) {\n",
        "    return files | transform(open_file) | transform(count_lines);\n",
        "}\n",
        "\n",
        "int main() {\n",
        "    std::vector<std::string> files{\"countlines01.cpp\"};\n",
        "    std::vector<int> results;\n",
        "\n",
        "    results = count_lines_in_files(files);\n",
        "\n",
        "    for (int i = 0; i < results.size(); i++) {\n",
        "        std::cout << results[0] << \"\\n\";\n",
        "    }\n",
        "\n",
        "    return 0;\n",
        "}\n"
      ],
      "execution_count": null,
      "outputs": []
    },
    {
      "cell_type": "code",
      "metadata": {
        "id": "ISAe5iUc7qpI"
      },
      "source": [
        "!g++ countlines05.cpp -o countlines05; ./countlines05"
      ],
      "execution_count": null,
      "outputs": []
    },
    {
      "cell_type": "code",
      "metadata": {
        "id": "kYwF-O0iP4R2",
        "colab": {
          "base_uri": "https://localhost:8080/"
        },
        "outputId": "e8716fe5-b649-43f2-bc80-bd9e73aee858"
      },
      "source": [
        "#実験\n",
        "%%script false\n",
        "%%writefile transform01.cpp\n",
        "#include <algorithm>\n",
        "#include <cctype>\n",
        "#include <functional>\n",
        "#include <iostream>\n",
        "#include <string>\n",
        "#include <vector>\n",
        "\n",
        "int main() {\n",
        "    std::string s(\"hello\");\n",
        "\n",
        "    namespace ranges = std::ranges;\n",
        "\n",
        "    ranges::transform(\n",
        "        s.begin(), s.end(), s.begin(),\n",
        "        [](unsigned char c) -> unsigned char { return std::toupper(c); });\n",
        "\n",
        "    std::vector<std::size_t> ordinals;\n",
        "    ranges::transform(s, std::back_inserter(ordinals),\n",
        "                      [](unsigned char c) -> std::size_t { return c; });\n",
        "\n",
        "    std::cout << s << ':';\n",
        "    for (auto ord : ordinals) {\n",
        "        std::cout << ' ' << ord;\n",
        "    }\n",
        "\n",
        "    ranges::transform(ordinals, ordinals, ordinals.begin(), std::plus{});\n",
        "\n",
        "    std::cout << '\\n';\n",
        "    for (auto ord : ordinals) {\n",
        "        std::cout << ord << ' ';\n",
        "    }\n",
        "    std::cout << '\\n';\n",
        "}"
      ],
      "execution_count": null,
      "outputs": [
        {
          "output_type": "stream",
          "text": [
            "Writing transform01.cpp\n"
          ],
          "name": "stdout"
        }
      ]
    },
    {
      "cell_type": "markdown",
      "metadata": {
        "id": "gZ0CbZUw6NRz"
      },
      "source": [
        "## この本のまとめ、感想\n",
        "目次を見るとC++でモナドの話まで持っていこうとしている。 それはそれだが、わたしが目的としているのはそんな高度な話ではなくて、\n",
        "1. for構文がイヤ。 やたらに出てくる。 これを vector で対応できないか。\n",
        "1. c++20 の range を使いたいわけではない。 #include <arlgrithm> で使える transform() を使いたい。\n",
        "ということは、vectorとtransformを勉強しよう。"
      ]
    },
    {
      "cell_type": "markdown",
      "metadata": {
        "id": "c0e6R8107U_Z"
      },
      "source": [
        "# C++11でcopy_ifと無名関数が使えるようになったので改めて\n",
        "という記事があって、これをなぞってみる。"
      ]
    },
    {
      "cell_type": "markdown",
      "metadata": {
        "id": "VzCmt0Ki8wwU"
      },
      "source": [
        "# reduce() みたいなは accumulate\n",
        "\n",
        "\n"
      ]
    },
    {
      "cell_type": "code",
      "metadata": {
        "id": "PaQIXxop8v_j",
        "colab": {
          "base_uri": "https://localhost:8080/"
        },
        "outputId": "b54d02b0-3bc9-4137-fc75-52594587294c"
      },
      "source": [
        "%%writefile reduce01.cpp\n",
        "#include <algorithm>\n",
        "#include <iostream>\n",
        "#include <numeric>\n",
        "#include <vector>\n",
        "#define INF 100000000\n",
        "\n",
        "std::vector<int> x = {1, 2, 3, 4, 5, 6, 7, 8, 9, 10};\n",
        "std::vector<int> y = {15, 12, 99, 27};\n",
        "std::vector<int> z = {10, 20, 150, 100};\n",
        "std::vector<int> w = {1, 3, 10, 100, -12, 2, 4};\n",
        "\n",
        "int multiply(int x, int y) { return x * y; }\n",
        "\n",
        "int gcd(int a, int b) {\n",
        "    if (!b) return a;\n",
        "    return gcd(b, a % b);\n",
        "}\n",
        "\n",
        "int lcd(int a, int b) { return a * b / gcd(a, b); }\n",
        "\n",
        "int myMin(int a, int b) { return (a < b) ? a : b; }\n",
        "\n",
        "int myMax(int a, int b) { return (a > b) ? a : b; }\n",
        "\n",
        "int main() {\n",
        "    std::cout << accumulate(x.begin(), x.end(), 0) << \"\\n\";\n",
        "    std::cout << accumulate(x.begin(), x.end(), 1, multiply) << \"\\n\";\n",
        "    std::cout << accumulate(y.begin(), y.end(), y[0], gcd) << \"\\n\";\n",
        "    std::cout << accumulate(z.begin(), z.end(), z[0], lcd) << \"\\n\";\n",
        "    std::cout << accumulate(w.begin(), w.end(), INF, myMin) << \"\\n\";\n",
        "    std::cout << accumulate(w.begin(), w.end(), -INF, myMax) << \"\\n\";\n",
        "\n",
        "    return 0;\n",
        "}\n"
      ],
      "execution_count": 1,
      "outputs": [
        {
          "output_type": "stream",
          "name": "stdout",
          "text": [
            "Writing reduce01.cpp\n"
          ]
        }
      ]
    },
    {
      "cell_type": "code",
      "metadata": {
        "id": "3WhbcqQM86if",
        "colab": {
          "base_uri": "https://localhost:8080/"
        },
        "outputId": "4f854a65-1bc1-44a3-a4a2-52f05596b1f6"
      },
      "source": [
        "!g++ reduce01.cpp -o reduce01; ./reduce01"
      ],
      "execution_count": 2,
      "outputs": [
        {
          "output_type": "stream",
          "name": "stdout",
          "text": [
            "55\n",
            "3628800\n",
            "3\n",
            "300\n",
            "-12\n",
            "100\n"
          ]
        }
      ]
    },
    {
      "cell_type": "code",
      "metadata": {
        "id": "SWRpV4Mkupwi",
        "outputId": "f75c6ff9-45cc-4383-f0ff-c183b8c5bd74",
        "colab": {
          "base_uri": "https://localhost:8080/"
        }
      },
      "source": [
        "%%writefile reduce02.cpp\n",
        "#include <algorithm>\n",
        "#include <iostream>\n",
        "#include <numeric>\n",
        "#include <vector>\n",
        "\n",
        "int main(int argc, char **argv) {\n",
        "    // add\n",
        "    std::vector<int> a;\n",
        "\n",
        "    for (int i = 0; i < 10; i++) a.push_back(i);\n",
        "\n",
        "    std::cout << accumulate(a.begin(), a.end(), 1000) << \"\\n\";  // 1045\n",
        "\n",
        "    // string \n",
        "    std::vector<std::string> b;\n",
        "\n",
        "    b.push_back(\"hello, \");\n",
        "    b.push_back(\"world\");\n",
        "    b.push_back(\"!!\");\n",
        "\n",
        "    std::cout << accumulate(b.begin(), b.end(), std::string(\"\"))\n",
        "              << \"\\n\";  // hello, world!!\n",
        "\n",
        "    // binary operator\n",
        "    std::cout << accumulate(a.begin(), a.end(), 1, [](int x, int y) {\n",
        "        return std::max(x, y);\n",
        "    }) << \"\\n\";\n",
        "    // 9\n",
        "\n",
        "    return 0;\n",
        "}"
      ],
      "execution_count": null,
      "outputs": [
        {
          "output_type": "stream",
          "text": [
            "Overwriting reduce02.cpp\n"
          ],
          "name": "stdout"
        }
      ]
    },
    {
      "cell_type": "code",
      "metadata": {
        "id": "VPkLe05Xuply",
        "outputId": "d008e828-76c7-42c2-928e-f60dcf53d141",
        "colab": {
          "base_uri": "https://localhost:8080/"
        }
      },
      "source": [
        "!g++ reduce02.cpp -o reduce02; ./reduce02"
      ],
      "execution_count": null,
      "outputs": [
        {
          "output_type": "stream",
          "text": [
            "1045\n",
            "hello, world!!\n",
            "9\n"
          ],
          "name": "stdout"
        }
      ]
    },
    {
      "cell_type": "markdown",
      "metadata": {
        "id": "Op13rP1auGZf"
      },
      "source": [
        "# map 的なことは transform"
      ]
    },
    {
      "cell_type": "code",
      "metadata": {
        "id": "rrNqazxztovv",
        "outputId": "d188b63c-ddbe-4e4b-9144-3d49fa2bdae7",
        "colab": {
          "base_uri": "https://localhost:8080/"
        }
      },
      "source": [
        "%%writefile map01.cpp\n",
        "#include <algorithm>\n",
        "#include <iostream>\n",
        "#include <vector>\n",
        "\n",
        "template <typename T>\n",
        "void disp(const std::vector<T> &x) {\n",
        "    for (size_t i = 0; i < x.size(); i++) std::cout << x[i] << \" \";\n",
        "    std::cout << \"\\n\";\n",
        "}\n",
        "\n",
        "int main(int argc, char **argv) {\n",
        "    std::vector<int> a;\n",
        "    for (int i = 0; i < 10; i++) a.push_back(i);\n",
        "\n",
        "    // 二乗を計算\n",
        "    transform(a.begin(), a.end(), a.begin(), [](int x) { return x * x; });\n",
        "    disp(a);  // 0 1 4 9 16 25 36 49 64 81\n",
        "\n",
        "    // 入力と出力の型が違ってもOK\n",
        "    std::vector<char> b;\n",
        "    transform(a.begin(), a.end(), back_inserter(b),\n",
        "              [](int x) { return 'A' + x % 26; });\n",
        "    disp(b);  // A B E J Q Z K X M D\n",
        "\n",
        "    // フィボナッチ数列\n",
        "    std::vector<int> fib(20, 1);\n",
        "//    transform(fib.begin(), fib.end() - 2, fib.begin() + 1, fib.begin() + 2,\n",
        "//              [](int x, int y) { return x + y; });\n",
        "    disp(fib);  // 1 1 2 3 5 8 13 21 34 55 89 144 233 377 610 987 1597 2584 4181\n",
        "                // 6765\n",
        "\n",
        "    return 0;\n",
        "}"
      ],
      "execution_count": null,
      "outputs": [
        {
          "output_type": "stream",
          "text": [
            "Overwriting map01.cpp\n"
          ],
          "name": "stdout"
        }
      ]
    },
    {
      "cell_type": "code",
      "metadata": {
        "id": "eyw_Ln9YtokQ",
        "outputId": "861f4ecd-26a9-48c8-89b0-e2c1811aed68",
        "colab": {
          "base_uri": "https://localhost:8080/"
        }
      },
      "source": [
        "!g++ map01.cpp -o map01; ./map01"
      ],
      "execution_count": null,
      "outputs": [
        {
          "output_type": "stream",
          "text": [
            "0 1 4 9 16 25 36 49 64 81 \n",
            "A B E J Q Z K X M D \n",
            "1 1 1 1 1 1 1 1 1 1 1 1 1 1 1 1 1 1 1 1 \n"
          ],
          "name": "stdout"
        }
      ]
    },
    {
      "cell_type": "markdown",
      "metadata": {
        "id": "4fuHBEbot5Cc"
      },
      "source": [
        "# filter は copy_if"
      ]
    },
    {
      "cell_type": "code",
      "metadata": {
        "id": "3rNhuLXKEr86",
        "outputId": "55dadde0-b980-4e9f-9031-c7c9e779d706",
        "colab": {
          "base_uri": "https://localhost:8080/"
        }
      },
      "source": [
        "%%writefile filter01.cpp\n",
        "#include <algorithm>\n",
        "#include <iostream>\n",
        "#include <vector>\n",
        "\n",
        "template <typename T>\n",
        "void disp(const std::vector<T> &x) {\n",
        "    for (size_t i = 0; i < x.size(); i++) std::cout << x[i] << \" \";\n",
        "    std::cout << \"\\n\";\n",
        "}\n",
        "\n",
        "int main(int argc, char **argv) {\n",
        "    std::vector<int> a;\n",
        "    for (int i = -5; i <= 5; i++) a.push_back(i);\n",
        "\n",
        "    // 偶数のみ抽出\n",
        "    std::vector<int> b;\n",
        "    copy_if(a.begin(), a.end(), back_inserter(b),\n",
        "            [](int x) { return x % 2 == 0; });\n",
        "    disp(b);  // -4 -2 0 2 4\n",
        "\n",
        "    // 負の数のみ抽出\n",
        "    std::vector<int> c;\n",
        "    copy_if(a.begin(), a.end(), back_inserter(c), [](int x) { return x < 0; });\n",
        "    disp(c);  // -5 -4 -3 -2 -1\n",
        "\n",
        "    return 0;\n",
        "}"
      ],
      "execution_count": null,
      "outputs": [
        {
          "output_type": "stream",
          "text": [
            "Overwriting filter01.cpp\n"
          ],
          "name": "stdout"
        }
      ]
    },
    {
      "cell_type": "code",
      "metadata": {
        "id": "GdRXpSA8Erzu",
        "outputId": "6354e7df-6452-410b-96d5-f8caed388d4d",
        "colab": {
          "base_uri": "https://localhost:8080/"
        }
      },
      "source": [
        "!g++ filter01.cpp -o filter01; ./filter01"
      ],
      "execution_count": null,
      "outputs": [
        {
          "output_type": "stream",
          "text": [
            "-4 -2 0 2 4 \n",
            "-5 -4 -3 -2 -1 \n"
          ],
          "name": "stdout"
        }
      ]
    }
  ]
}