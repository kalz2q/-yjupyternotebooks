{
  "nbformat": 4,
  "nbformat_minor": 0,
  "metadata": {
    "colab": {
      "name": "functionalcpp.ipynb",
      "provenance": [],
      "authorship_tag": "ABX9TyNRepu3oNabknnzR/3Zqg+2",
      "include_colab_link": true
    },
    "kernelspec": {
      "name": "python3",
      "display_name": "Python 3"
    }
  },
  "cells": [
    {
      "cell_type": "markdown",
      "metadata": {
        "id": "view-in-github",
        "colab_type": "text"
      },
      "source": [
        "<a href=\"https://colab.research.google.com/github/kalz2q/mycolabnotebooks/blob/master/functionalcpp.ipynb\" target=\"_parent\"><img src=\"https://colab.research.google.com/assets/colab-badge.svg\" alt=\"Open In Colab\"/></a>"
      ]
    },
    {
      "cell_type": "markdown",
      "metadata": {
        "id": "ImGx0QVOWbEq"
      },
      "source": [
        "# メモ\n",
        "1. C++で関数型プログラミング風に書きたい、と思った。\n",
        "1. functional programming in C++ という本のchapter01がネットで読めるので、導入だけでもいいと思って読んでいるところ。\n",
        "1. https://itbook.store/files/9781617293818/chapter1.pdf"
      ]
    },
    {
      "cell_type": "code",
      "metadata": {
        "id": "3BPzbU05Wmvs",
        "outputId": "d7cc64fd-1b8b-40a2-eab2-d48b03feafc5",
        "colab": {
          "base_uri": "https://localhost:8080/"
        }
      },
      "source": [
        "# 最初にでてくる、関数型でない書き方の例を、とりあえず動かす。\n",
        "%%writefile countlines01.cpp\n",
        "#include <iostream>\n",
        "#include <fstream>\n",
        "#include <vector>\n",
        "std::vector<int> count_lines_in_files(const std::vector<std::string>& files) {\n",
        "    std::vector<int> results;\n",
        "    char c = 0;\n",
        "    for (const auto& file : files) {\n",
        "        int line_count = 0;\n",
        "        std::ifstream in(file);\n",
        "        while (in.get(c)) {\n",
        "            if (c == '\\n') {\n",
        "                line_count++;\n",
        "            }\n",
        "        }\n",
        "        results.push_back(line_count);\n",
        "    }\n",
        "    return results;\n",
        "}\n",
        "int main() {\n",
        "    std::vector<std::string> files{\"countlines01.cpp\"};\n",
        "    std::vector<int> results;\n",
        "\n",
        "    results = count_lines_in_files(files);\n",
        "\n",
        "    for (int i = 0; i < results.size(); i++) {\n",
        "        std::cout << results[0] << \"\\n\";\n",
        "    }\n",
        "\n",
        "    return 0;\n",
        "}\n"
      ],
      "execution_count": 24,
      "outputs": [
        {
          "output_type": "stream",
          "text": [
            "Overwriting countlines01.cpp\n"
          ],
          "name": "stdout"
        }
      ]
    },
    {
      "cell_type": "code",
      "metadata": {
        "id": "4ABzTYknWaUL",
        "outputId": "6fd19bd4-b8ea-49f4-f1e5-15346d9625a2",
        "colab": {
          "base_uri": "https://localhost:8080/"
        }
      },
      "source": [
        "!g++ countlines01.cpp -o countlines01; ./countlines01"
      ],
      "execution_count": 25,
      "outputs": [
        {
          "output_type": "stream",
          "text": [
            "29\n"
          ],
          "name": "stdout"
        }
      ]
    },
    {
      "cell_type": "code",
      "metadata": {
        "id": "Rxgf5lqDoTfr",
        "outputId": "4002a25f-9f47-4b3b-b6f8-a01993ce717e",
        "colab": {
          "base_uri": "https://localhost:8080/"
        }
      },
      "source": [
        "!wc countlines01.cpp"
      ],
      "execution_count": 21,
      "outputs": [
        {
          "output_type": "stream",
          "text": [
            " 29  75 702 countlines01.cpp\n"
          ],
          "name": "stdout"
        }
      ]
    },
    {
      "cell_type": "markdown",
      "metadata": {
        "id": "aICDo1mppxw_"
      },
      "source": [
        "行数が一致することを確認。"
      ]
    },
    {
      "cell_type": "code",
      "metadata": {
        "id": "pCGSkjyxtIdz",
        "outputId": "6376af91-71e7-44d0-da1a-70505c3117e0",
        "colab": {
          "base_uri": "https://localhost:8080/"
        }
      },
      "source": [
        "# std::count アルゴリズムを使う\n",
        "%%writefile countlines02.cpp\n",
        "#include <algorithm>\n",
        "#include <fstream>\n",
        "#include <iostream>\n",
        "#include <vector>\n",
        "\n",
        "int count_lines(const std::string& filename) {\n",
        "    std::ifstream in(filename);\n",
        "    return std::count(std::istreambuf_iterator<char>(in),\n",
        "                      std::istreambuf_iterator<char>(), '\\n');\n",
        "}\n",
        "std::vector<int> count_lines_in_files(const std::vector<std::string>& files) {\n",
        "    std::vector<int> results;\n",
        "    for (const auto& file : files) {\n",
        "        results.push_back(count_lines(file));\n",
        "    }\n",
        "    return results;\n",
        "}\n",
        "\n",
        "int main() {\n",
        "    std::vector<std::string> files{\"countlines01.cpp\"};\n",
        "    std::vector<int> results;\n",
        "\n",
        "    results = count_lines_in_files(files);\n",
        "\n",
        "    for (int i = 0; i < results.size(); i++) {\n",
        "        std::cout << results[0] << \"\\n\";\n",
        "    }\n",
        "\n",
        "    return 0;\n",
        "}\n"
      ],
      "execution_count": 28,
      "outputs": [
        {
          "output_type": "stream",
          "text": [
            "Overwriting countlines02.cpp\n"
          ],
          "name": "stdout"
        }
      ]
    },
    {
      "cell_type": "code",
      "metadata": {
        "id": "iY45gcwjtIZD",
        "outputId": "e54c085c-3b82-421e-8cc1-0280ac5d8705",
        "colab": {
          "base_uri": "https://localhost:8080/"
        }
      },
      "source": [
        "!g++ countlines02.cpp -o countlines02; ./countlines02"
      ],
      "execution_count": 29,
      "outputs": [
        {
          "output_type": "stream",
          "text": [
            "29\n"
          ],
          "name": "stdout"
        }
      ]
    },
    {
      "cell_type": "code",
      "metadata": {
        "id": "EZSsO4TivI06",
        "outputId": "7b0f231e-96be-4dc5-9b10-b1c61e60db76",
        "colab": {
          "base_uri": "https://localhost:8080/"
        }
      },
      "source": [
        "%%writefile countlines03.cpp\n",
        "#include <algorithm>\n",
        "#include <fstream>\n",
        "#include <iostream>\n",
        "#include <vector>\n",
        "\n",
        "int count_lines(const std::string& filename) {\n",
        "    std::ifstream in(filename);\n",
        "    return std::count(std::istreambuf_iterator<char>(in),\n",
        "                      std::istreambuf_iterator<char>(), '\\n');\n",
        "}\n",
        "\n",
        "std::vector<int> count_lines_in_files(const std::vector<std::string>& files) {\n",
        "    std::vector<int> results(files.size());\n",
        "    std::transform(files.cbegin(), files.cend(), results.begin(), count_lines);\n",
        "    return results;\n",
        "}\n",
        "\n",
        "int main() {\n",
        "    std::vector<std::string> files{\"countlines01.cpp\"};\n",
        "    std::vector<int> results;\n",
        "\n",
        "    results = count_lines_in_files(files);\n",
        "\n",
        "    for (int i = 0; i < results.size(); i++) {\n",
        "        std::cout << results[0] << \"\\n\";\n",
        "    }\n",
        "\n",
        "    return 0;\n",
        "}\n"
      ],
      "execution_count": 36,
      "outputs": [
        {
          "output_type": "stream",
          "text": [
            "Overwriting countlines03.cpp\n"
          ],
          "name": "stdout"
        }
      ]
    },
    {
      "cell_type": "code",
      "metadata": {
        "id": "JRH-vU6FvIp1",
        "outputId": "ef07c559-6f94-4814-e628-f2e4b33804a9",
        "colab": {
          "base_uri": "https://localhost:8080/"
        }
      },
      "source": [
        "!g++ countlines03.cpp -o countlines03; ./countlines03"
      ],
      "execution_count": 37,
      "outputs": [
        {
          "output_type": "stream",
          "text": [
            "29\n"
          ],
          "name": "stdout"
        }
      ]
    },
    {
      "cell_type": "code",
      "metadata": {
        "id": "ZH7o7JjN04zt"
      },
      "source": [
        "%%writefile countlines04.cpp"
      ],
      "execution_count": null,
      "outputs": []
    },
    {
      "cell_type": "code",
      "metadata": {
        "id": "8ygrTWen04oX"
      },
      "source": [
        "!g++ countlines04.cpp -o countlines04; ./countlines04"
      ],
      "execution_count": null,
      "outputs": []
    }
  ]
}