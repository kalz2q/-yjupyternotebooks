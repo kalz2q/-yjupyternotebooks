{
  "nbformat": 4,
  "nbformat_minor": 0,
  "metadata": {
    "colab": {
      "name": "functionalcpp.ipynb",
      "provenance": [],
      "authorship_tag": "ABX9TyNS6jVodbyMEYPnQU5AeIvT",
      "include_colab_link": true
    },
    "kernelspec": {
      "name": "python3",
      "display_name": "Python 3"
    }
  },
  "cells": [
    {
      "cell_type": "markdown",
      "metadata": {
        "id": "view-in-github",
        "colab_type": "text"
      },
      "source": [
        "<a href=\"https://colab.research.google.com/github/kalz2q/mycolabnotebooks/blob/master/functionalcpp.ipynb\" target=\"_parent\"><img src=\"https://colab.research.google.com/assets/colab-badge.svg\" alt=\"Open In Colab\"/></a>"
      ]
    },
    {
      "cell_type": "markdown",
      "metadata": {
        "id": "ImGx0QVOWbEq"
      },
      "source": [
        "# メモ\n",
        "関数型プログラミング C++\n",
        "functional programming in C++\n",
        "chrome-extension://oemmndcbldboiebfnladdacbdfmadadm/https://itbook.store/files/9781617293818/chapter1.pdf"
      ]
    },
    {
      "cell_type": "code",
      "metadata": {
        "id": "3BPzbU05Wmvs"
      },
      "source": [
        "# 最初の関数型でない云々。 まだ動かないと思う。\n",
        "# 複数のファイル名をベクトルで関数に渡すにはどうするのか。\n",
        "\n",
        "%%writefile \n",
        "#include <iostream>\n",
        "std::vector<int> count_lines_in_files(const std::vector<std::string>& files) {\n",
        "    std::vector<int> results;\n",
        "    char c = 0;\n",
        "    for (const auto& file : files) {\n",
        "        int line_count = 0;\n",
        "        std::ifstream in(file);\n",
        "        while (in.get(c)) {\n",
        "            if (c == '\\n') {\n",
        "                line_count++;\n",
        "            }\n",
        "        }\n",
        "        results.push_back(line_count);\n",
        "    }\n",
        "}\n",
        "int main() {\n",
        "    ofstream MyWriteFile(\"filename.txt\");\n",
        "    MyWriteFile << \"Files can be tricky,\\n but\\n it is fun enough!\\n\";\n",
        "    MyWriteFile.close();\n",
        "\n",
        "    std::string myText;\n",
        "\n",
        "    ifstream MyReadFile(\"filename.txt\");\n",
        "\n",
        "    while (getline(MyReadFile, myText)) {\n",
        "        cout << myText;\n",
        "    }\n",
        "    MyReadFile.close();\n",
        "\n",
        "    return 0;\n",
        "}\n"
      ],
      "execution_count": null,
      "outputs": []
    },
    {
      "cell_type": "code",
      "metadata": {
        "id": "4ABzTYknWaUL"
      },
      "source": [
        "!g++ howmanydivisor.cpp -o howmanydivisor; echo 5 14 80 |./howmanydivisor"
      ],
      "execution_count": null,
      "outputs": []
    }
  ]
}