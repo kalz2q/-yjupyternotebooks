{
  "nbformat": 4,
  "nbformat_minor": 0,
  "metadata": {
    "colab": {
      "name": "kaggle03bool.ipynb",
      "provenance": [],
      "toc_visible": true,
      "authorship_tag": "ABX9TyPIpEcVDely/ebQiUc8t45/",
      "include_colab_link": true
    },
    "kernelspec": {
      "name": "python3",
      "display_name": "Python 3"
    }
  },
  "cells": [
    {
      "cell_type": "markdown",
      "metadata": {
        "id": "view-in-github",
        "colab_type": "text"
      },
      "source": [
        "<a href=\"https://colab.research.google.com/github/kalz2q/mycolabnotebooks/blob/master/kaggle03bool.ipynb\" target=\"_parent\"><img src=\"https://colab.research.google.com/assets/colab-badge.svg\" alt=\"Open In Colab\"/></a>"
      ]
    },
    {
      "cell_type": "markdown",
      "metadata": {
        "id": "l1D1jCY2hxoe",
        "colab_type": "text"
      },
      "source": [
        "# kaggle03bool.ipynb"
      ]
    },
    {
      "cell_type": "markdown",
      "metadata": {
        "id": "GpyiaEBut93i",
        "colab_type": "text"
      },
      "source": [
        "# メモ\n",
        "\n",
        "1. 元ファイル ( https://www.kaggle.com/colinmorris/booleans-and-conditionals)\n"
      ]
    },
    {
      "cell_type": "markdown",
      "metadata": {
        "id": "jwIeF_2_uFsa",
        "colab_type": "text"
      },
      "source": [
        "# ブール型\n",
        "ブール型の値はTrueとFalseだけ。\n"
      ]
    },
    {
      "cell_type": "code",
      "metadata": {
        "id": "qMEGBuXSvQc1",
        "colab_type": "code",
        "colab": {
          "base_uri": "https://localhost:8080/",
          "height": 52
        },
        "outputId": "3db7c4c8-9f99-41ec-97d2-94ab0689c3dd"
      },
      "source": [
        "x = True\n",
        "print(x)\n",
        "print(type(x))"
      ],
      "execution_count": null,
      "outputs": [
        {
          "output_type": "stream",
          "text": [
            "True\n",
            "<class 'bool'>\n"
          ],
          "name": "stdout"
        }
      ]
    },
    {
      "cell_type": "markdown",
      "metadata": {
        "id": "Rh0C2VA4vOgF",
        "colab_type": "text"
      },
      "source": [
        "上の例ではxにTrueを代入しましたが、通常はブール演算の結果としてブール型を得ます。ブール演算はyes/noの質問に答えるものです。\n",
        "\n",
        "以下に例を示しましょう。\n",
        "\n"
      ]
    },
    {
      "cell_type": "markdown",
      "metadata": {
        "id": "fBcSC1mpud7c",
        "colab_type": "text"
      },
      "source": [
        "## 比較演算\n",
        "| 演算\t| 説明\t|\t|演算\t|説明|\n",
        "|---|---|---|---|---|\n",
        "| a == b\t| a は b に等しい            |\t| a != b\t| a は b に等しくない |\n",
        "| a < b\t  | a 小なり b\t            | \t| a > b\t  | a 大なり b |\n",
        "| a <= b\t| a 小なりイコール b\t|\t| a >= b\t| a 大なりイコール b |\n"
      ]
    },
    {
      "cell_type": "code",
      "metadata": {
        "id": "X3ODDSF1AAJE",
        "colab_type": "code",
        "colab": {
          "base_uri": "https://localhost:8080/",
          "height": 52
        },
        "outputId": "03cb6a71-8b10-44e4-9695-70abf7f29fdf"
      },
      "source": [
        "def can_run_for_president(age):\n",
        "    \"\"\"Can someone of the given age run for president in the US?\"\"\"\n",
        "    # The US Constitution says you must be at least 35 years old\n",
        "    return age >= 35\n",
        "\n",
        "print(\"Can a 19-year-old run for president?\", can_run_for_president(19))\n",
        "print(\"Can a 45-year-old run for president?\", can_run_for_president(45))"
      ],
      "execution_count": null,
      "outputs": [
        {
          "output_type": "stream",
          "text": [
            "Can a 19-year-old run for president? False\n",
            "Can a 45-year-old run for president? True\n"
          ],
          "name": "stdout"
        }
      ]
    },
    {
      "cell_type": "markdown",
      "metadata": {
        "id": "lqyMy__aum5l",
        "colab_type": "text"
      },
      "source": [
        "## ブール値の組み合わせ\n",
        "`and`、`or`、`not`でブール値を組み合わせることができます。\n",
        "\n"
      ]
    },
    {
      "cell_type": "code",
      "metadata": {
        "id": "C7yZyY_BBMsa",
        "colab_type": "code",
        "colab": {
          "base_uri": "https://localhost:8080/",
          "height": 70
        },
        "outputId": "de5c289d-89a8-4441-fb18-82fe98125210"
      },
      "source": [
        "def can_run_for_president(age, is_natural_born_citizen):\n",
        "    \"\"\"Can someone of the given age and citizenship status run for president in the US?\"\"\"\n",
        "    # The US Constitution says you must be a natural born citizen *and* at least 35 years old\n",
        "    return is_natural_born_citizen and (age >= 35)\n",
        "\n",
        "print(can_run_for_president(19, True))\n",
        "print(can_run_for_president(55, False))\n",
        "print(can_run_for_president(55, True))"
      ],
      "execution_count": null,
      "outputs": [
        {
          "output_type": "stream",
          "text": [
            "False\n",
            "False\n",
            "True\n"
          ],
          "name": "stdout"
        }
      ]
    },
    {
      "cell_type": "markdown",
      "metadata": {
        "id": "HJfjOYxKEMoh",
        "colab_type": "text"
      },
      "source": [
        "次の結果は想像がつきますか。"
      ]
    },
    {
      "cell_type": "code",
      "metadata": {
        "id": "V08dgCVTESRI",
        "colab_type": "code",
        "colab": {
          "base_uri": "https://localhost:8080/",
          "height": 35
        },
        "outputId": "6c092ac0-bf06-4501-c8e8-40c1d35b63f0"
      },
      "source": [
        "True or True and False"
      ],
      "execution_count": null,
      "outputs": [
        {
          "output_type": "execute_result",
          "data": {
            "text/plain": [
              "True"
            ]
          },
          "metadata": {
            "tags": []
          },
          "execution_count": 4
        }
      ]
    },
    {
      "cell_type": "markdown",
      "metadata": {
        "id": "AENpAcQ8BIEu",
        "colab_type": "text"
      },
      "source": [
        "これを理解するためには、ブール演算の優先順位を考える必要があります。\n",
        "\n",
        "`and`は`or`より先に評価されますが、優先順位を覚えるよりも、カッコを使うことをおすすめします。\n"
      ]
    },
    {
      "cell_type": "markdown",
      "metadata": {
        "id": "e3LzMgpIuz1e",
        "colab_type": "text"
      },
      "source": [
        "# いまここ\n"
      ]
    },
    {
      "cell_type": "markdown",
      "metadata": {
        "id": "UZkvclDpFX-v",
        "colab_type": "text"
      },
      "source": [
        "## 条件文\n",
        "ブール型は`if、`elif`、`else`キーワードの条件文と組み合わせて使われる時に威力を発揮します。\n",
        "\n",
        "条件文は`if`文とも言われ、ブール型の条件の結果によって実行するコードをコントロールするものです。\n",
        "\n"
      ]
    },
    {
      "cell_type": "code",
      "metadata": {
        "id": "fOftabML70ku",
        "colab_type": "code",
        "colab": {}
      },
      "source": [
        "def inspect(x):\n",
        "    if x == 0:\n",
        "        print(x, \"is zero\")\n",
        "    elif x > 0:\n",
        "        print(x, \"is positive\")\n",
        "    elif x < 0:\n",
        "        print(x, \"is negative\")\n",
        "    else:\n",
        "        print(x, \"is unlike anything I've ever seen...\")\n",
        "\n",
        "inspect(0)\n",
        "inspect(-15)"
      ],
      "execution_count": null,
      "outputs": []
    },
    {
      "cell_type": "markdown",
      "metadata": {
        "id": "ii0zA2kj7wsm",
        "colab_type": "text"
      },
      "source": [
        "\n",
        "#いまここ\n",
        "\n",
        "The if and else keywords are often used in other languages; its more unique keyword is elif, a contraction of \"else if\". In these conditional clauses, elif and else blocks are optional; additionally, you can include as many elif statements as you would like.\n",
        "\n",
        "Note especially the use of colons (:) and whitespace to denote separate blocks of code. This is similar to what happens when we define a function - the function header ends with :, and the following line is indented with 4 spaces. All subsequent indented lines belong to the body of the function, until we encounter an unindented line, ending the function definition.\n",
        "\n",
        "def f(x):\n",
        "    if x > 0:\n",
        "        print(\"Only printed when x is positive; x =\", x)\n",
        "        print(\"Also only printed when x is positive; x =\", x)\n",
        "    print(\"Always printed, regardless of x's value; x =\", x)\n",
        "\n",
        "f(1)\n",
        "f(0)\n",
        "Only printed when x is positive; x = 1\n",
        "Also only printed when x is positive; x = 1\n",
        "Always printed, regardless of x's value; x = 1\n",
        "Always printed, regardless of x's value; x = 0\n",
        "\n"
      ]
    },
    {
      "cell_type": "markdown",
      "metadata": {
        "id": "izRvMBlAu7G-",
        "colab_type": "text"
      },
      "source": [
        "\n",
        "Boolean conversion\n",
        "We've seen int(), which turns things into ints, and float(), which turns things into floats, so you might not be surprised to hear that Python has a bool() function which turns things into bools.\n",
        "\n",
        "print(bool(1)) # all numbers are treated as true, except 0\n",
        "print(bool(0))\n",
        "print(bool(\"asf\")) # all strings are treated as true, except the empty string \"\"\n",
        "print(bool(\"\"))\n",
        "# Generally empty sequences (strings, lists, and other types we've yet to see like lists and tuples)\n",
        "# are \"falsey\" and the rest are \"truthy\"\n",
        "True\n",
        "False\n",
        "True\n",
        "False\n",
        "We can use non-boolean objects in if conditions and other places where a boolean would be expected. Python will implicitly treat them as their corresponding boolean value:\n",
        "\n",
        "if 0:\n",
        "    print(0)\n",
        "elif \"spam\":\n",
        "    print(\"spam\")\n",
        "spam\n",
        "Your Turn\n",
        "You probably don't realize how much you can do with the parts of Python you've learned so far. Go try the Hands on coding problems and you'll be pleasantly surprised about how much you can do.\n",
        "\n",
        "Python Home Page\n",
        "\n",
        "Have questions or comments? Visit the Learn Discussion forum to chat with other Learners."
      ]
    }
  ]
}