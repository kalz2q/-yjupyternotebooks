{
  "nbformat": 4,
  "nbformat_minor": 0,
  "metadata": {
    "colab": {
      "name": "kaggle03bool.ipynb",
      "provenance": [],
      "toc_visible": true,
      "authorship_tag": "ABX9TyP/U4AreleyD1C7OczrqDs0",
      "include_colab_link": true
    },
    "kernelspec": {
      "name": "python3",
      "display_name": "Python 3"
    }
  },
  "cells": [
    {
      "cell_type": "markdown",
      "metadata": {
        "id": "view-in-github",
        "colab_type": "text"
      },
      "source": [
        "<a href=\"https://colab.research.google.com/github/kalz2q/mycolabnotebooks/blob/master/kaggle03bool.ipynb\" target=\"_parent\"><img src=\"https://colab.research.google.com/assets/colab-badge.svg\" alt=\"Open In Colab\"/></a>"
      ]
    },
    {
      "cell_type": "markdown",
      "metadata": {
        "id": "l1D1jCY2hxoe",
        "colab_type": "text"
      },
      "source": [
        "# kaggle03bool.ipynb"
      ]
    },
    {
      "cell_type": "markdown",
      "metadata": {
        "id": "GpyiaEBut93i",
        "colab_type": "text"
      },
      "source": [
        "# メモ\n",
        "\n",
        "1. kaggleのpython tutorialをベースにColabベースのノートブックを作成しているうちの1つ。\n",
        "\n",
        "1. Colabで開いて読まれることを想定。\n",
        "\n",
        "1. 元ファイル ( https://www.kaggle.com/colinmorris/booleans-and-conditionals)\n"
      ]
    },
    {
      "cell_type": "markdown",
      "metadata": {
        "id": "jwIeF_2_uFsa",
        "colab_type": "text"
      },
      "source": [
        "# ブール型\n",
        "ブール型の値はTrueとFalseだけ。\n"
      ]
    },
    {
      "cell_type": "code",
      "metadata": {
        "id": "qMEGBuXSvQc1",
        "colab_type": "code",
        "colab": {
          "base_uri": "https://localhost:8080/",
          "height": 52
        },
        "outputId": "3db7c4c8-9f99-41ec-97d2-94ab0689c3dd"
      },
      "source": [
        "x = True\n",
        "print(x)\n",
        "print(type(x))"
      ],
      "execution_count": null,
      "outputs": [
        {
          "output_type": "stream",
          "text": [
            "True\n",
            "<class 'bool'>\n"
          ],
          "name": "stdout"
        }
      ]
    },
    {
      "cell_type": "markdown",
      "metadata": {
        "id": "Rh0C2VA4vOgF",
        "colab_type": "text"
      },
      "source": [
        "上の例ではxにTrueを代入したが、通常はブール演算の結果としてブール型を得る。\n",
        "ブール演算はyes/noの質問に答える形の式のこと。\n"
      ]
    },
    {
      "cell_type": "markdown",
      "metadata": {
        "id": "fBcSC1mpud7c",
        "colab_type": "text"
      },
      "source": [
        "## 比較演算\n",
        "| 演算\t| 説明\t|\t|演算\t|説明|\n",
        "|---|---|---|---|---|\n",
        "| a == b\t| a は b に等しい            |\t| a != b\t| a は b に等しくない |\n",
        "| a < b\t  | a 小なり b\t            | \t| a > b\t  | a 大なり b |\n",
        "| a <= b\t| a 小なりイコール b\t|\t| a >= b\t| a 大なりイコール b |\n"
      ]
    },
    {
      "cell_type": "code",
      "metadata": {
        "id": "X3ODDSF1AAJE",
        "colab_type": "code",
        "colab": {
          "base_uri": "https://localhost:8080/",
          "height": 52
        },
        "outputId": "03cb6a71-8b10-44e4-9695-70abf7f29fdf"
      },
      "source": [
        "# 引数に年齢を入れて呼び出すと、アメリカの大統領に立候補できる年齢かどうかを判定する\n",
        "\n",
        "def can_run_for_president(age):\n",
        "    \"\"\"Can someone of the given age run for president in the US?\"\"\"\n",
        "    # The US Constitution says you must be at least 35 years old\n",
        "    return age >= 35\n",
        "\n",
        "print(\"Can a 19-year-old run for president?\", can_run_for_president(19))\n",
        "print(\"Can a 45-year-old run for president?\", can_run_for_president(45))"
      ],
      "execution_count": null,
      "outputs": [
        {
          "output_type": "stream",
          "text": [
            "Can a 19-year-old run for president? False\n",
            "Can a 45-year-old run for president? True\n"
          ],
          "name": "stdout"
        }
      ]
    },
    {
      "cell_type": "markdown",
      "metadata": {
        "id": "lqyMy__aum5l",
        "colab_type": "text"
      },
      "source": [
        "## ブール値の組み合わせ\n",
        "`and`、`or`、`not`でブール値を組み合わせることができる。\n",
        "\n"
      ]
    },
    {
      "cell_type": "code",
      "metadata": {
        "id": "C7yZyY_BBMsa",
        "colab_type": "code",
        "colab": {
          "base_uri": "https://localhost:8080/",
          "height": 70
        },
        "outputId": "de5c289d-89a8-4441-fb18-82fe98125210"
      },
      "source": [
        "#引数に年齢とアメリカ生まれかどうかを入れて呼び出すと、アメリカの大統領に立候補することが法律上できるかどうかを判定してTrueまたはFalseを返す\n",
        "\n",
        "def can_run_for_president(age, is_natural_born_citizen):\n",
        "    \"\"\"Can someone of the given age and citizenship status run for president in the US?\"\"\"\n",
        "    # The US Constitution says you must be a natural born citizen *and* at least 35 years old\n",
        "    return is_natural_born_citizen and (age >= 35)\n",
        "\n",
        "print(can_run_for_president(19, True))\n",
        "print(can_run_for_president(55, False))\n",
        "print(can_run_for_president(55, True))"
      ],
      "execution_count": null,
      "outputs": [
        {
          "output_type": "stream",
          "text": [
            "False\n",
            "False\n",
            "True\n"
          ],
          "name": "stdout"
        }
      ]
    },
    {
      "cell_type": "markdown",
      "metadata": {
        "id": "HJfjOYxKEMoh",
        "colab_type": "text"
      },
      "source": [
        "次のコードの結果を考えてから実行してみよう。"
      ]
    },
    {
      "cell_type": "code",
      "metadata": {
        "id": "V08dgCVTESRI",
        "colab_type": "code",
        "colab": {
          "base_uri": "https://localhost:8080/",
          "height": 35
        },
        "outputId": "6c092ac0-bf06-4501-c8e8-40c1d35b63f0"
      },
      "source": [
        "True or True and False"
      ],
      "execution_count": null,
      "outputs": [
        {
          "output_type": "execute_result",
          "data": {
            "text/plain": [
              "True"
            ]
          },
          "metadata": {
            "tags": []
          },
          "execution_count": 4
        }
      ]
    },
    {
      "cell_type": "markdown",
      "metadata": {
        "id": "AENpAcQ8BIEu",
        "colab_type": "text"
      },
      "source": [
        "これを理解するためには、ブール演算の優先順位を考える必要がある。\n",
        "\n",
        "`and`は`or`より先に評価される。\n",
        "\n",
        "しかし、優先順位を覚えるよりも、なるべくカッコを使ってわかりやすくする方が大切。\n"
      ]
    },
    {
      "cell_type": "markdown",
      "metadata": {
        "id": "UZkvclDpFX-v",
        "colab_type": "text"
      },
      "source": [
        "## 条件文\n",
        "ブール型は`if、`elif`、`else`キーワードの条件文と組み合わせて使われる時に威力を発揮する。\n",
        "\n",
        "条件文は`if`文とも言われ、ブール型の条件の結果によって実行するコードをコントロールするもの。\n",
        "\n"
      ]
    },
    {
      "cell_type": "code",
      "metadata": {
        "id": "fOftabML70ku",
        "colab_type": "code",
        "colab": {
          "base_uri": "https://localhost:8080/",
          "height": 52
        },
        "outputId": "b79a224d-12bc-488d-e1ff-31929311a40d"
      },
      "source": [
        "# 引数がゼロか、正か、負かを判定して文字列で返す\n",
        "\n",
        "def inspect(x):\n",
        "    if x == 0:\n",
        "        print(x, \"is zero\")\n",
        "    elif x > 0:\n",
        "        print(x, \"is positive\")\n",
        "    elif x < 0:\n",
        "        print(x, \"is negative\")\n",
        "    else:\n",
        "        print(x, \"is unlike anything I've ever seen...\")\n",
        "\n",
        "inspect(0)\n",
        "inspect(-15)"
      ],
      "execution_count": null,
      "outputs": [
        {
          "output_type": "stream",
          "text": [
            "0 is zero\n",
            "-15 is negative\n"
          ],
          "name": "stdout"
        }
      ]
    },
    {
      "cell_type": "markdown",
      "metadata": {
        "id": "ii0zA2kj7wsm",
        "colab_type": "text"
      },
      "source": [
        "\n",
        "# いまここ\n",
        "\n"
      ]
    },
    {
      "cell_type": "markdown",
      "metadata": {
        "id": "QbFg_YXFUxF-",
        "colab_type": "text"
      },
      "source": [
        "pythonの条件文はifで始まり、elifおよびelseブロックはオプションであってもなくてもよい。「else if」の短縮形であるelifは、綴りが特別なので注意する。\n",
        "\n",
        "また、if節、elif節、else節にコロンがつくことが慣れないうちは忘れがちなので注意する。"
      ]
    },
    {
      "cell_type": "code",
      "metadata": {
        "id": "S6zM9pj4ohkb",
        "colab_type": "code",
        "colab": {
          "base_uri": "https://localhost:8080/",
          "height": 84
        },
        "outputId": "f1f01681-1fc8-48d3-d384-7b6914b6194d"
      },
      "source": [
        "def f(x):\n",
        "    if x > 0:\n",
        "        print(\"Only printed when x is positive; x =\", x)\n",
        "        print(\"Also only printed when x is positive; x =\", x)\n",
        "    print(\"Always printed, regardless of x's value; x =\", x)\n",
        "\n",
        "f(1)\n",
        "f(0)"
      ],
      "execution_count": 10,
      "outputs": [
        {
          "output_type": "stream",
          "text": [
            "Only printed when x is positive; x = 1\n",
            "Also only printed when x is positive; x = 1\n",
            "Always printed, regardless of x's value; x = 1\n",
            "Always printed, regardless of x's value; x = 0\n"
          ],
          "name": "stdout"
        }
      ]
    },
    {
      "cell_type": "markdown",
      "metadata": {
        "id": "izRvMBlAu7G-",
        "colab_type": "text"
      },
      "source": [
        "# 真偽判断\n",
        "\n",
        "なにがTrueでなにがFalseなのか。\n",
        "\n",
        "pythonでは`0`と空文字列、空リスト、などがFalseでそれ以外はTrue。\n",
        "\n",
        "あらゆる値を真偽値に変換する関数`bool()`があり、`int()`や`float()`のように使う。\n"
      ]
    },
    {
      "cell_type": "code",
      "metadata": {
        "id": "ccjxdFpep-D1",
        "colab_type": "code",
        "colab": {
          "base_uri": "https://localhost:8080/",
          "height": 118
        },
        "outputId": "a21b933c-c896-4754-be8c-42a8e4b5750f"
      },
      "source": [
        "print(bool(1)) # all numbers are treated as true, except 0\n",
        "print(bool(0))\n",
        "print(bool(-1))\n",
        "print(bool(\"asf\")) # all strings are treated as true, except the empty string \"\"\n",
        "print(bool(\"\"))\n",
        "print(bool([]))"
      ],
      "execution_count": 16,
      "outputs": [
        {
          "output_type": "stream",
          "text": [
            "True\n",
            "False\n",
            "True\n",
            "True\n",
            "False\n",
            "False\n"
          ],
          "name": "stdout"
        }
      ]
    },
    {
      "cell_type": "markdown",
      "metadata": {
        "id": "E6svb0nyjgLi",
        "colab_type": "text"
      },
      "source": [
        "Try It Yourself\n",
        "Think you are ready to use Booleans and Conditionals? Try it yourself and find out.\n",
        "\n",
        "To get started, run the setup code below before writing your own code (and if you leave this notebook and come back later, don't forget to run the setup code again).\n",
        "\n",
        "\n",
        "\n",
        "\n",
        "\n",
        "\n",
        "from learntools.core import binder; binder.bind(globals())\n",
        "from learntools.python.ex3 import *\n",
        "print('Setup complete.')\n",
        "\n",
        "\n",
        "\n",
        "\n",
        "\n",
        "Exercises\n",
        "\n",
        "\n",
        "\n",
        "\n",
        "\n",
        "1.\n",
        "Many programming languages have sign available as a built-in function. Python doesn't, but we can define our own!\n",
        "\n",
        "In the cell below, define a function called sign which takes a numerical argument and returns -1 if it's negative, 1 if it's positive, and 0 if it's 0.\n",
        "\n",
        "\n",
        "\n",
        "\n",
        "\n",
        "\n",
        "# Your code goes here. Define a function called 'sign'\n",
        "​\n",
        "# Check your answer\n",
        "q1.check()\n",
        "\n",
        "\n",
        "\n",
        "\n",
        "\n",
        "#q1.solution()\n",
        "\n",
        "\n",
        "\n",
        "\n",
        "\n",
        "2.\n",
        "We've decided to add \"logging\" to our to_smash function from the previous exercise.\n",
        "\n",
        "\n",
        "\n",
        "\n",
        "\n",
        "\n",
        "def to_smash(total_candies):\n",
        "    \"\"\"Return the number of leftover candies that must be smashed after distributing\n",
        "    the given number of candies evenly between 3 friends.\n",
        "    \n",
        "    >>> to_smash(91)\n",
        "    1\n",
        "    \"\"\"\n",
        "    print(\"Splitting\", total_candies, \"candies\")\n",
        "    return total_candies % 3\n",
        "​\n",
        "to_smash(91)\n",
        "\n",
        "\n",
        "\n",
        "\n",
        "\n",
        "What happens if we call it with total_candies = 1?\n",
        "\n",
        "\n",
        "\n",
        "\n",
        "\n",
        "\n",
        "to_smash(1)\n",
        "\n",
        "\n",
        "\n",
        "\n",
        "\n",
        "That isn't great grammar!\n",
        "\n",
        "Modify the definition in the cell below to correct the grammar of our print statement. (If there's only one candy, we should use the singular \"candy\" instead of the plural \"candies\")\n",
        "\n",
        "\n",
        "\n",
        "\n",
        "\n",
        "\n",
        "def to_smash(total_candies):\n",
        "    \"\"\"Return the number of leftover candies that must be smashed after distributing\n",
        "    the given number of candies evenly between 3 friends.\n",
        "    \n",
        "    >>> to_smash(91)\n",
        "    1\n",
        "    \"\"\"\n",
        "    print(\"Splitting\", total_candies, \"candies\")\n",
        "    return total_candies % 3\n",
        "​\n",
        "to_smash(91)\n",
        "to_smash(1)\n",
        "\n",
        "\n",
        "\n",
        "\n",
        "\n",
        "# Check your answer (Run this code cell to receive credit!)\n",
        "q2.solution()\n",
        "\n",
        "\n",
        "\n",
        "\n",
        "\n",
        "3. 🌶️\n",
        "In the main lesson we talked about deciding whether we're prepared for the weather. I said that I'm safe from today's weather if...\n",
        "\n",
        "I have an umbrella...\n",
        "or if the rain isn't too heavy and I have a hood...\n",
        "otherwise, I'm still fine unless it's raining and it's a workday\n",
        "The function below uses our first attempt at turning this logic into a Python expression. I claimed that there was a bug in that code. Can you find it?\n",
        "\n",
        "To prove that prepared_for_weather is buggy, come up with a set of inputs where either:\n",
        "\n",
        "the function returns False (but should have returned True), or\n",
        "the function returned True (but should have returned False).\n",
        "To get credit for completing this question, your code should return a Correct result.\n",
        "\n",
        "\n",
        "\n",
        "\n",
        "\n",
        "\n",
        "def prepared_for_weather(have_umbrella, rain_level, have_hood, is_workday):\n",
        "    # Don't change this code. Our goal is just to find the bug, not fix it!\n",
        "    return have_umbrella or rain_level < 5 and have_hood or not rain_level > 0 and is_workday\n",
        "​\n",
        "# Change the values of these inputs so they represent a case where prepared_for_weather\n",
        "# returns the wrong answer.\n",
        "have_umbrella = True\n",
        "rain_level = 0.0\n",
        "have_hood = True\n",
        "is_workday = True\n",
        "​\n",
        "# Check what the function returns given the current values of the variables above\n",
        "actual = prepared_for_weather(have_umbrella, rain_level, have_hood, is_workday)\n",
        "print(actual)\n",
        "​\n",
        "# Check your answer\n",
        "q3.check()\n",
        "\n",
        "\n",
        "\n",
        "\n",
        "\n",
        "#q3.hint()\n",
        "#q3.solution()\n",
        "\n",
        "\n",
        "\n",
        "\n",
        "\n",
        "4.\n",
        "The function is_negative below is implemented correctly - it returns True if the given number is negative and False otherwise.\n",
        "\n",
        "However, it's more verbose than it needs to be. We can actually reduce the number of lines of code in this function by 75% while keeping the same behaviour.\n",
        "\n",
        "See if you can come up with an equivalent body that uses just one line of code, and put it in the function concise_is_negative. (HINT: you don't even need Python's ternary syntax)\n",
        "\n",
        "\n",
        "\n",
        "\n",
        "\n",
        "\n",
        "def is_negative(number):\n",
        "    if number < 0:\n",
        "        return True\n",
        "    else:\n",
        "        return False\n",
        "​\n",
        "def concise_is_negative(number):\n",
        "    pass # Your code goes here (try to keep it to one line!)\n",
        "​\n",
        "# Check your answer\n",
        "q4.check()\n",
        "\n",
        "\n",
        "\n",
        "\n",
        "\n",
        "#q4.hint()\n",
        "#q4.solution()\n",
        "\n",
        "\n",
        "\n",
        "\n",
        "\n",
        "5.\n",
        "The boolean variables ketchup, mustard and onion represent whether a customer wants a particular topping on their hot dog. We want to implement a number of boolean functions that correspond to some yes-or-no questions about the customer's order. For example:\n",
        "\n",
        "\n",
        "\n",
        "\n",
        "\n",
        "\n",
        "def onionless(ketchup, mustard, onion):\n",
        "    \"\"\"Return whether the customer doesn't want onions.\n",
        "    \"\"\"\n",
        "    return not onion\n",
        "\n",
        "\n",
        "\n",
        "\n",
        "\n",
        "For each of the remaining functions, fill in the body to match the English description in the docstring.\n",
        "\n",
        "\n",
        "\n",
        "\n",
        "\n",
        "\n",
        "def wants_all_toppings(ketchup, mustard, onion):\n",
        "    \"\"\"Return whether the customer wants \"the works\" (all 3 toppings)\n",
        "    \"\"\"\n",
        "    pass\n",
        "​\n",
        "# Check your answer\n",
        "q5.a.check()\n",
        "\n",
        "\n",
        "\n",
        "\n",
        "\n",
        "#q5.a.hint()\n",
        "#q5.a.solution()\n",
        "\n",
        "\n",
        "\n",
        "\n",
        "\n",
        "def wants_plain_hotdog(ketchup, mustard, onion):\n",
        "    \"\"\"Return whether the customer wants a plain hot dog with no toppings.\n",
        "    \"\"\"\n",
        "    pass\n",
        "​\n",
        "# Check your answer\n",
        "q5.b.check()\n",
        "\n",
        "\n",
        "\n",
        "\n",
        "\n",
        "#q5.b.hint()\n",
        "#q5.b.solution()\n",
        "\n",
        "\n",
        "\n",
        "\n",
        "\n",
        "def exactly_one_sauce(ketchup, mustard, onion):\n",
        "    \"\"\"Return whether the customer wants either ketchup or mustard, but not both.\n",
        "    (You may be familiar with this operation under the name \"exclusive or\")\n",
        "    \"\"\"\n",
        "    pass\n",
        "​\n",
        "# Check your answer\n",
        "q5.c.check()\n",
        "\n",
        "\n",
        "\n",
        "\n",
        "\n",
        "#q5.c.hint()\n",
        "#q5.c.solution()\n",
        "\n",
        "\n",
        "\n",
        "\n",
        "\n",
        "6. 🌶️\n",
        "We’ve seen that calling bool() on an integer returns False if it’s equal to 0 and True otherwise. What happens if we call int() on a bool? Try it out in the notebook cell below.\n",
        "\n",
        "Can you take advantage of this to write a succinct function that corresponds to the English sentence \"does the customer want exactly one topping?\"?\n",
        "\n",
        "\n",
        "\n",
        "\n",
        "\n",
        "\n",
        "def exactly_one_topping(ketchup, mustard, onion):\n",
        "    \"\"\"Return whether the customer wants exactly one of the three available toppings\n",
        "    on their hot dog.\n",
        "    \"\"\"\n",
        "    pass\n",
        "​\n",
        "# Check your answer\n",
        "q6.check()\n",
        "\n",
        "\n",
        "\n",
        "\n",
        "\n",
        "#q6.hint()\n",
        "#q6.solution()\n",
        "\n",
        "\n",
        "\n",
        "\n",
        "\n",
        "7. 🌶️ (Optional)\n",
        "In this problem we'll be working with a simplified version of blackjack (aka twenty-one). In this version there is one player (who you'll control) and a dealer. Play proceeds as follows:\n",
        "\n",
        "The player is dealt two face-up cards. The dealer is dealt one face-up card.\n",
        "The player may ask to be dealt another card ('hit') as many times as they wish. If the sum of their cards exceeds 21, they lose the round immediately.\n",
        "The dealer then deals additional cards to himself until either:\n",
        "the sum of the dealer's cards exceeds 21, in which case the player wins the round\n",
        "the sum of the dealer's cards is greater than or equal to 17. If the player's total is greater than the dealer's, the player wins. Otherwise, the dealer wins (even in case of a tie).\n",
        "When calculating the sum of cards, Jack, Queen, and King count for 10. Aces can count as 1 or 11 (when referring to a player's \"total\" above, we mean the largest total that can be made without exceeding 21. So e.g. A+8 = 19, A+8+8 = 17)\n",
        "\n",
        "For this problem, you'll write a function representing the player's decision-making strategy in this game. We've provided a very unintelligent implementation below:\n",
        "\n",
        "\n",
        "\n",
        "\n",
        "\n",
        "\n",
        "def should_hit(dealer_total, player_total, player_low_aces, player_high_aces):\n",
        "    \"\"\"Return True if the player should hit (request another card) given the current game\n",
        "    state, or False if the player should stay.\n",
        "    When calculating a hand's total value, we count aces as \"high\" (with value 11) if doing so\n",
        "    doesn't bring the total above 21, otherwise we count them as low (with value 1). \n",
        "    For example, if the player's hand is {A, A, A, 7}, we will count it as 11 + 1 + 1 + 7,\n",
        "    and therefore set player_total=20, player_low_aces=2, player_high_aces=1.\n",
        "    \"\"\"\n",
        "    return False\n",
        "\n",
        "\n",
        "\n",
        "\n",
        "\n",
        "This very conservative agent always sticks with the hand of two cards that they're dealt.\n",
        "\n",
        "We'll be simulating games between your player agent and our own dealer agent by calling your function.\n",
        "\n",
        "Try running the function below to see an example of a simulated game:\n",
        "\n",
        "\n",
        "\n",
        "\n",
        "\n",
        "\n",
        "q7.simulate_one_game()\n",
        "\n",
        "\n",
        "\n",
        "\n",
        "\n",
        "The real test of your agent's mettle is their average win rate over many games. Try calling the function below to simulate 50000 games of blackjack (it may take a couple seconds):\n",
        "\n",
        "\n",
        "\n",
        "\n",
        "\n",
        "\n",
        "q7.simulate(n_games=50000)\n",
        "\n",
        "\n",
        "\n",
        "\n",
        "\n",
        "Our dumb agent that completely ignores the game state still manages to win shockingly often!\n",
        "\n",
        "Try adding some more smarts to the should_hit function and see how it affects the results.\n",
        "\n",
        "\n",
        "\n",
        "\n",
        "\n",
        "\n",
        "def should_hit(dealer_total, player_total, player_low_aces, player_high_aces):\n",
        "    \"\"\"Return True if the player should hit (request another card) given the current game\n",
        "    state, or False if the player should stay.\n",
        "    When calculating a hand's total value, we count aces as \"high\" (with value 11) if doing so\n",
        "    doesn't bring the total above 21, otherwise we count them as low (with value 1). \n",
        "    For example, if the player's hand is {A, A, A, 7}, we will count it as 11 + 1 + 1 + 7,\n",
        "    and therefore set player_total=20, player_low_aces=2, player_high_aces=1.\n",
        "    \"\"\"\n",
        "    return False\n",
        "​\n",
        "q7.simulate(n_games=50000)\n",
        "\n",
        "\n",
        "\n",
        "\n",
        "\n",
        "Keep Going\n",
        "Learn about lists and tuples to handle multiple items of data in a systematic way."
      ]
    }
  ]
}