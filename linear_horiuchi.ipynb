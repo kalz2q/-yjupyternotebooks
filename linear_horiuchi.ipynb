{
  "nbformat": 4,
  "nbformat_minor": 0,
  "metadata": {
    "colab": {
      "name": "linear_horiuchi.ipynb",
      "provenance": [],
      "toc_visible": true,
      "authorship_tag": "ABX9TyNAv2d1X7wHQAwAP8P94qGF",
      "include_colab_link": true
    },
    "kernelspec": {
      "name": "python3",
      "display_name": "Python 3"
    }
  },
  "cells": [
    {
      "cell_type": "markdown",
      "metadata": {
        "id": "view-in-github",
        "colab_type": "text"
      },
      "source": [
        "<a href=\"https://colab.research.google.com/github/kalz2q/mycolabnotebooks/blob/master/linear_horiuchi.ipynb\" target=\"_parent\"><img src=\"https://colab.research.google.com/assets/colab-badge.svg\" alt=\"Open In Colab\"/></a>"
      ]
    },
    {
      "cell_type": "markdown",
      "metadata": {
        "id": "81fU3lFkKGSv"
      },
      "source": [
        "# メモ\r\n",
        "\r\n",
        "線形代数学 堀内龍太郎，浦部治一郎 学術図書出版社\r\n",
        "\r\n",
        "を読む。"
      ]
    },
    {
      "cell_type": "markdown",
      "metadata": {
        "id": "kdElVRx8XtzR"
      },
      "source": [
        "はじめのあたりは何言っているかわからない。  \r\n",
        "\r\n",
        "やさしく導入しているつもりらしいので、これが効く生徒もいるのだろう。  \r\n",
        "\r\n",
        "単語だけリストしておく。位置ベクトル $\\overrightarrow{\\mathrm{OP}}$ 。 普通の数式のアルファベットは自然にイタリックになるので、この場合はわざわざ \\mathrm と指定する必要がある。\r\n",
        "\r\n",
        "2つの移動 $\\overrightarrow{\\mathrm{PQ}}$ と $\\overrightarrow{\\mathrm{QR}}$ をつづけると新たな移動 $\\overrightarrow{\\mathrm{PR}}$ となる。\r\n",
        "\r\n",
        "ベクトルのスカラー倍 $pe_1$\r\n",
        "\r\n",
        "いろいろな数の集合 $Q,R,C$  \r\n"
      ]
    },
    {
      "cell_type": "markdown",
      "metadata": {
        "id": "YtLxE6KLZdA7"
      },
      "source": [
        "数ベクトル\r\n",
        "\r\n",
        "$n$ 個の数 $x_1,x_2,\\cdots,x_n$ を順序をつけて横向きに並べた $(x_1,x_2,\\cdots,x_n)$ を$n$ 次元数ベクトルという。 実ベクトル、複素ベクトル、横ベクトル、行ベクトル。\r\n",
        "\r\n",
        "縦に並べた\r\n",
        "$\r\n",
        "\\begin{pmatrix}\r\n",
        "x_1 \\\\\r\n",
        "x_2 \\\\\r\n",
        "\\vdots \\\\\r\n",
        "x_n\r\n",
        "\\end{pmatrix}\r\n",
        "$\r\n",
        "は縦ベクトル、列ベクトル。\r\n"
      ]
    },
    {
      "cell_type": "code",
      "metadata": {
        "id": "Ha_t0vlqanqa",
        "outputId": "77ce9525-ca05-48ab-893c-1d63e9b75938",
        "colab": {
          "base_uri": "https://localhost:8080/",
          "height": 110
        }
      },
      "source": [
        "%%latex\r\n",
        "\\begin{pmatrix}\r\n",
        "    x_1 \\\\\r\n",
        "    x_2 \\\\\r\n",
        "    \\vdots \\\\\r\n",
        "    x_n\r\n",
        "\\end{pmatrix}"
      ],
      "execution_count": 1,
      "outputs": [
        {
          "output_type": "display_data",
          "data": {
            "text/latex": "\\begin{pmatrix}\nx_1 \\\\\nx_2 \\\\\n\\vdots \\\\\nx_n\n\\end{pmatrix}",
            "text/plain": [
              "<IPython.core.display.Latex object>"
            ]
          },
          "metadata": {
            "tags": []
          }
        }
      ]
    },
    {
      "cell_type": "markdown",
      "metadata": {
        "id": "RPdiBwqxax3h"
      },
      "source": [
        ""
      ]
    },
    {
      "cell_type": "markdown",
      "metadata": {
        "id": "VyFn4dAEVvUX"
      },
      "source": [
        "すべての $n$ 次元の実数ベクトルがつくる集合を $R^n$ で表す。  \r\n",
        "この集合の要素には 2つの演算; 和とスカラー倍が定義される。\r\n",
        "\r\n",
        "$u,v,w \\in R^n$ と $λ,μ \\in R$ に対し次が成り立つ。  \r\n",
        "任意の $ \\bm{u,v}"
      ]
    },
    {
      "cell_type": "code",
      "metadata": {
        "id": "NJzPIdhiXhQ7"
      },
      "source": [
        ""
      ],
      "execution_count": null,
      "outputs": []
    }
  ]
}