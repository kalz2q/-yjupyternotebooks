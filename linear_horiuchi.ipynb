{
  "nbformat": 4,
  "nbformat_minor": 0,
  "metadata": {
    "colab": {
      "name": "linear_horiuchi.ipynb",
      "provenance": [],
      "authorship_tag": "ABX9TyM9F5WB+EYgwGDNPhOyFmHv",
      "include_colab_link": true
    },
    "kernelspec": {
      "name": "python3",
      "display_name": "Python 3"
    }
  },
  "cells": [
    {
      "cell_type": "markdown",
      "metadata": {
        "id": "view-in-github",
        "colab_type": "text"
      },
      "source": [
        "<a href=\"https://colab.research.google.com/github/kalz2q/mycolabnotebooks/blob/master/linear_horiuchi.ipynb\" target=\"_parent\"><img src=\"https://colab.research.google.com/assets/colab-badge.svg\" alt=\"Open In Colab\"/></a>"
      ]
    },
    {
      "cell_type": "markdown",
      "metadata": {
        "id": "81fU3lFkKGSv"
      },
      "source": [
        "# メモ\r\n",
        "\r\n",
        "線形代数学 堀内龍太郎，浦部治一郎 学術図書出版社\r\n",
        "\r\n",
        "を読む。"
      ]
    },
    {
      "cell_type": "markdown",
      "metadata": {
        "id": "VyFn4dAEVvUX"
      },
      "source": [
        "すべての $n$ 次元の実数ベクトルがつくる集合を $R^n$ で表す。  \r\n",
        "この集合の要素には 2つの演算; 和とスカラー倍が定義される。\r\n",
        "\r\n",
        "$u,v,w \\in R^n$ と $λ,μ \\in R$ に対し次が成り立つ。  \r\n",
        "任意の $ \\bm{u,v}"
      ]
    }
  ]
}