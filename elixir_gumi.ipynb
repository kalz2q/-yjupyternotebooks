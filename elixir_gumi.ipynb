{
  "nbformat": 4,
  "nbformat_minor": 0,
  "metadata": {
    "colab": {
      "name": "elixir_gumi.ipynb",
      "provenance": [],
      "toc_visible": true,
      "authorship_tag": "ABX9TyO/xkioMXLbPROn7yvpU7I9",
      "include_colab_link": true
    },
    "kernelspec": {
      "name": "python3",
      "display_name": "Python 3"
    },
    "language_info": {
      "name": "python"
    }
  },
  "cells": [
    {
      "cell_type": "markdown",
      "metadata": {
        "id": "view-in-github",
        "colab_type": "text"
      },
      "source": [
        "<a href=\"https://colab.research.google.com/github/kalz2q/mycolabnotebooks/blob/master/elixir_gumi.ipynb\" target=\"_parent\"><img src=\"https://colab.research.google.com/assets/colab-badge.svg\" alt=\"Open In Colab\"/></a>"
      ]
    },
    {
      "cell_type": "markdown",
      "metadata": {
        "id": "QusE0r9HLQt-"
      },
      "source": [
        "# メモ\n",
        "\n",
        "gumi TECH Blog Elixir入門\n",
        "\n",
        "https://dev.to/gumi/elixir-05----casecondif-60o\n",
        "\n",
        "を colab 化する。\n",
        "\n",
        "colab 環境で elixir のインタラクティブモード iex は使えないので、次の要領でインストールして使う。"
      ]
    },
    {
      "cell_type": "code",
      "metadata": {
        "id": "THvpbkjdWs0Q"
      },
      "source": [
        "%%capture\n",
        "!wget https://packages.erlang-solutions.com/erlang-solutions_2.0_all.deb && sudo dpkg -i erlang-solutions_2.0_all.deb\n",
        "!sudo apt update\n",
        "!sudo apt install elixir"
      ],
      "execution_count": 1,
      "outputs": []
    },
    {
      "cell_type": "code",
      "metadata": {
        "id": "6FkejEE2crA5",
        "colab": {
          "base_uri": "https://localhost:8080/"
        },
        "outputId": "ce3cc75f-c088-423a-8418-020ad4a0aa5a"
      },
      "source": [
        "!elixir -v\n",
        "!date"
      ],
      "execution_count": null,
      "outputs": [
        {
          "output_type": "stream",
          "text": [
            "/bin/bash: elixir: command not found\n",
            "Wed Jun  2 00:43:58 UTC 2021\n"
          ],
          "name": "stdout"
        }
      ]
    },
    {
      "cell_type": "markdown",
      "metadata": {
        "id": "IpYclRqgcttK"
      },
      "source": [
        "---\n",
        "iex の代わりにワンライナー `elixir -e` で実験する。\n"
      ]
    },
    {
      "cell_type": "code",
      "metadata": {
        "id": "S_s89E37Xroq",
        "colab": {
          "base_uri": "https://localhost:8080/"
        },
        "outputId": "848107aa-1093-4be9-b86c-ed63a1f72600"
      },
      "source": [
        "!elixir -e 'IO.puts 3 + 3'\n",
        "!elixir -e 'IO.puts \"hello\" <> \" \" <> \"world\"'"
      ],
      "execution_count": null,
      "outputs": [
        {
          "output_type": "stream",
          "text": [
            "6\n",
            "hello world\n"
          ],
          "name": "stdout"
        }
      ]
    },
    {
      "cell_type": "markdown",
      "metadata": {
        "id": "GxkQfmBfParV"
      },
      "source": [
        "数行にわたる場合は、セミコロン `;` でつなぐか、次のようにファイルを作って、コンパイルして実行する。 "
      ]
    },
    {
      "cell_type": "code",
      "metadata": {
        "colab": {
          "base_uri": "https://localhost:8080/"
        },
        "id": "RYCKapxtdtco",
        "outputId": "1f0d1d33-adb2-4830-949a-b5a8b45b85f0"
      },
      "source": [
        "%%writefile temp.exs\n",
        "IO.puts \"hello\" <> \" \" <> \"world\""
      ],
      "execution_count": null,
      "outputs": [
        {
          "output_type": "stream",
          "text": [
            "Overwriting temp.exs\n"
          ],
          "name": "stdout"
        }
      ]
    },
    {
      "cell_type": "code",
      "metadata": {
        "colab": {
          "base_uri": "https://localhost:8080/"
        },
        "id": "06mP6Jy_d505",
        "outputId": "c5c4bf91-d117-4e6f-b729-ae9aa76206be"
      },
      "source": [
        "!elixir temp.exs"
      ],
      "execution_count": null,
      "outputs": [
        {
          "output_type": "stream",
          "text": [
            "hello world\n"
          ],
          "name": "stdout"
        }
      ]
    },
    {
      "cell_type": "markdown",
      "metadata": {
        "id": "6TTEls3SfWhR"
      },
      "source": [
        "基本的な型 | 値の例\n",
        "--- | ---\n",
        "整数 | 1\n",
        "整数(16進数) | 0x1F\n",
        "小数 | 1.0\n",
        "論理値 | true\n",
        "アトム | :atom\n",
        "文字列 | \"elixir\"\n",
        "リスト | [1, 2, 3]\n",
        "タプル | {1, 2, 3}"
      ]
    },
    {
      "cell_type": "code",
      "metadata": {
        "id": "9cdZm6iLPKq0",
        "colab": {
          "base_uri": "https://localhost:8080/"
        },
        "outputId": "93a1e27b-6b8a-4a19-baa5-5aca94712290"
      },
      "source": [
        "# 除算 (演算子 `/` ) は結果が整数であっても、浮動小数点数に変わる。\n",
        "!elixir -e 'IO.puts 10 / 2'"
      ],
      "execution_count": null,
      "outputs": [
        {
          "output_type": "stream",
          "text": [
            "5.0\n"
          ],
          "name": "stdout"
        }
      ]
    },
    {
      "cell_type": "code",
      "metadata": {
        "id": "Yyo8kKEePKf9",
        "colab": {
          "base_uri": "https://localhost:8080/"
        },
        "outputId": "b87f0d1e-3898-4bcf-a443-87cf5388c0ab"
      },
      "source": [
        "# 整数除算は div で 剰余は rem\n",
        "!elixir -e 'IO.puts div(9, 2)'\n",
        "!elixir -e 'IO.puts div 9, 2'\n",
        "!elixir -e 'IO.puts rem 10, 3'\n",
        "# div は floor ではない\n",
        "!elixir -e 'IO.puts div -9, 2'\n",
        "!elixir -e 'IO.puts div 9, -2'\n",
        "!elixir -e 'IO.puts rem -10, 3'\n",
        "!elixir -e 'IO.puts rem 10, -3'"
      ],
      "execution_count": null,
      "outputs": [
        {
          "output_type": "stream",
          "text": [
            "4\n",
            "4\n",
            "1\n",
            "-4\n",
            "-4\n",
            "-1\n",
            "1\n"
          ],
          "name": "stdout"
        }
      ]
    },
    {
      "cell_type": "code",
      "metadata": {
        "colab": {
          "base_uri": "https://localhost:8080/"
        },
        "id": "ppg4ZY4JuKzY",
        "outputId": "e29888a2-cbe0-4929-bb82-7a421b72a8b8"
      },
      "source": [
        "# python と比べてみる\n",
        "print (9 // 2)\n",
        "print (10 % 3)\n",
        "print ( -9 // 2)\n",
        "print ( 9 // -2)\n",
        "print (-10 % 3)\n",
        "print (10 % -3)"
      ],
      "execution_count": null,
      "outputs": [
        {
          "output_type": "stream",
          "text": [
            "4\n",
            "1\n",
            "-5\n",
            "-5\n",
            "2\n",
            "-2\n"
          ],
          "name": "stdout"
        }
      ]
    },
    {
      "cell_type": "code",
      "metadata": {
        "id": "OnHdcIx3OUEB",
        "colab": {
          "base_uri": "https://localhost:8080/"
        },
        "outputId": "3eb69346-e7ae-4ffb-bb17-dedd4ff9c58c"
      },
      "source": [
        "# n 進数\n",
        "!elixir -e 'IO.puts 0b1000'\n",
        "!elixir -e 'IO.puts 0o10'\n",
        "!elixir -e 'IO.puts 0xFF'"
      ],
      "execution_count": null,
      "outputs": [
        {
          "output_type": "stream",
          "text": [
            "8\n",
            "8\n",
            "255\n"
          ],
          "name": "stdout"
        }
      ]
    },
    {
      "cell_type": "code",
      "metadata": {
        "colab": {
          "base_uri": "https://localhost:8080/"
        },
        "id": "jhmJBZ1HviIf",
        "outputId": "d1059586-7628-47cf-f08b-b68a3ba3f011"
      },
      "source": [
        "# 浮動小数点数\n",
        "!elixir -e 'IO.puts 1.0'\n",
        "!elixir -e 'IO.puts 3.14e-2'"
      ],
      "execution_count": null,
      "outputs": [
        {
          "output_type": "stream",
          "text": [
            "1.0\n",
            "0.0314\n"
          ],
          "name": "stdout"
        }
      ]
    },
    {
      "cell_type": "code",
      "metadata": {
        "id": "OCDOOxqpvxm4"
      },
      "source": [
        "# 四捨五入 round 、切り捨て trunc\n",
        "!elixir -e 'IO.puts round(2.718)'\n",
        "!elixir -e 'IO.puts trunc(2.718)'"
      ],
      "execution_count": null,
      "outputs": []
    },
    {
      "cell_type": "markdown",
      "metadata": {
        "id": "vQOH21yLw1Bp"
      },
      "source": [
        "質問\n",
        "\n",
        "小数点 3 桁目で四捨五入、小数点 3 桁目で切り捨てとかはどうするのか。"
      ]
    },
    {
      "cell_type": "code",
      "metadata": {
        "colab": {
          "base_uri": "https://localhost:8080/"
        },
        "id": "jLaa6McRwPIe",
        "outputId": "8b3876c6-f8c9-474c-a415-50c7f9a41e43"
      },
      "source": [
        "!elixir -e 'IO.puts Float.round(2.718281828459045,3)'\n",
        "# Float.trunc (float, precision) はないので\n",
        "!elixir -e 'IO.puts trunc(2.718281828459045 * 1000) / 1000'"
      ],
      "execution_count": null,
      "outputs": [
        {
          "output_type": "stream",
          "text": [
            "2.718\n",
            "2.718\n"
          ],
          "name": "stdout"
        }
      ]
    },
    {
      "cell_type": "markdown",
      "metadata": {
        "id": "4YFCsukTPA7k"
      },
      "source": [
        "質問\n",
        "\n",
        "上で使った `Float.round` とか下で使った `:math.exp()` とか、モジュールや、require, import がわからない。 なにで検索したらいいのだろうか。"
      ]
    },
    {
      "cell_type": "code",
      "metadata": {
        "colab": {
          "base_uri": "https://localhost:8080/"
        },
        "id": "JiWSBaXLK540",
        "outputId": "6c8ee87e-727c-4688-90f3-0c57e5d49cfe"
      },
      "source": [
        "!elixir -e 'IO.puts :math.exp(1)'"
      ],
      "execution_count": null,
      "outputs": [
        {
          "output_type": "stream",
          "text": [
            "2.718281828459045\n"
          ],
          "name": "stdout"
        }
      ]
    },
    {
      "cell_type": "markdown",
      "metadata": {
        "id": "Leek4HwAPzSG"
      },
      "source": [
        "---\n",
        "古い記事で qiita に\n",
        "\n",
        "elixirで数学関数をつかってみた\n",
        "\n",
        "というのがあったので、とりあえずやってみる。"
      ]
    },
    {
      "cell_type": "code",
      "metadata": {
        "id": "gG_VDz92QL3Q"
      },
      "source": [
        "!elixir -e 'IO.puts abs -1'\n",
        "!elixir -e 'IO.puts div 4,3'\n",
        "!elixir -e 'IO.puts rem 4,3'\n",
        "!elixir -e 'IO.puts min 4,3'"
      ],
      "execution_count": null,
      "outputs": []
    },
    {
      "cell_type": "markdown",
      "metadata": {
        "id": "xX11oEXoR1ZZ"
      },
      "source": [
        "メモ\n",
        "\n",
        "min は 引数 2 つの小さい方を返すので、リストの最小値を求めるには reduce とかを使うのか。 \n",
        "\n",
        "問題 $\\quad$ reduce と min を使って リストの最小値を求めよ。\n"
      ]
    },
    {
      "cell_type": "markdown",
      "metadata": {
        "id": "dh7b_fSDSU1n"
      },
      "source": [
        "---\n",
        "erlang の math が `:math` モジュールという形で使えるが、これでいいのか?\n",
        "\n",
        "Erlang--math\n",
        "\n",
        "によると、c の math モジュールである、と書いてあった。 ふむ。"
      ]
    },
    {
      "cell_type": "code",
      "metadata": {
        "colab": {
          "base_uri": "https://localhost:8080/"
        },
        "id": "yW87fNWQSnGD",
        "outputId": "8bcadb3d-b7b0-4eab-926f-95229fbfd9e8"
      },
      "source": [
        "!elixir -e 'IO.puts :math.pi()'\n",
        "!elixir -e 'IO.puts :math.sin(:math.pi()/2)'\n",
        "!elixir -e 'IO.puts :math.log(:math.exp(2))'"
      ],
      "execution_count": null,
      "outputs": [
        {
          "output_type": "stream",
          "text": [
            "3.141592653589793\n",
            "1.0\n",
            "2.0\n"
          ],
          "name": "stdout"
        }
      ]
    },
    {
      "cell_type": "markdown",
      "metadata": {
        "id": "DV_RjeO7qB50"
      },
      "source": [
        "真偽値 = 論理値 = 真理値 = boolean\n",
        "\n",
        "elixir では false と nil を除く値はすべて true である。\n"
      ]
    },
    {
      "cell_type": "code",
      "metadata": {
        "colab": {
          "base_uri": "https://localhost:8080/"
        },
        "id": "9946VMIkqIGC",
        "outputId": "95311a69-4057-4bd9-c470-eacf124cc4e3"
      },
      "source": [
        "!elixir -e 'IO.puts true'\n",
        "!elixir -e 'IO.puts not true'\n",
        "!elixir -e 'IO.puts 1 < 3'\n",
        "!elixir -e 'IO.puts is_boolean 1 < 3'\n",
        "!echo\n",
        "!elixir -e 'IO.puts is_integer 1.0'\n",
        "!elixir -e 'IO.puts is_float 1.0'\n",
        "!elixir -e 'IO.puts is_number 0b1'"
      ],
      "execution_count": null,
      "outputs": [
        {
          "output_type": "stream",
          "text": [
            "true\n",
            "false\n",
            "true\n",
            "true\n",
            "\n",
            "false\n",
            "true\n",
            "true\n"
          ],
          "name": "stdout"
        }
      ]
    },
    {
      "cell_type": "code",
      "metadata": {
        "id": "jupmm1GusJHJ",
        "outputId": "ef363ccb-31e5-4341-c049-983ab9d90ce3",
        "colab": {
          "base_uri": "https://localhost:8080/"
        }
      },
      "source": [
        "!elixir -e 'IO.puts -1 || true'\n",
        "!elixir -e 'IO.puts true || 0'\n",
        "!elixir -e 'IO.puts false || 2'\n",
        "!elixir -e 'IO.puts  nil && 3'\n",
        "!elixir -e 'IO.puts true && 4'\n",
        "!elixir -e 'IO.inspect  nil'\n",
        "!elixir -e 'IO.puts !nil'"
      ],
      "execution_count": 16,
      "outputs": [
        {
          "output_type": "stream",
          "text": [
            "-1\n",
            "true\n",
            "2\n",
            "\n",
            "4\n",
            "nil\n",
            "true\n"
          ],
          "name": "stdout"
        }
      ]
    },
    {
      "cell_type": "code",
      "metadata": {
        "id": "lAuGB8V4vdqE",
        "outputId": "bc57e00b-1ca0-4e2a-e9ed-37b486e29815",
        "colab": {
          "base_uri": "https://localhost:8080/"
        }
      },
      "source": [
        "# and と or ははじめの引数は論理値でなければならない\n",
        "# !elixir -e 'IO.puts -1 or true' #=> error\n",
        "!elixir -e 'IO.puts true or 0'\n",
        "!elixir -e 'IO.puts false or 2'\n",
        "# !elixir -e 'IO.puts  nil and 3' #=> error\n",
        "!elixir -e 'IO.puts true and 4'\n",
        "!echo\n",
        "!elixir -e 'IO.puts is_atom(:example) and 1'\n",
        "!elixir -e 'IO.puts not is_number(false)'\n",
        "# not も同じ\n",
        "# !elixir -e 'IO.puts not 1' #=> error\n"
      ],
      "execution_count": 21,
      "outputs": [
        {
          "output_type": "stream",
          "text": [
            "true\n",
            "2\n",
            "4\n",
            "\n",
            "1\n",
            "true\n"
          ],
          "name": "stdout"
        }
      ]
    },
    {
      "cell_type": "code",
      "metadata": {
        "id": "EvNKgLuRw0ix",
        "outputId": "ebd399a8-762b-4147-bb47-b1c581bd2846",
        "colab": {
          "base_uri": "https://localhost:8080/"
        }
      },
      "source": [
        "# 異なった型の大小\n",
        "# number < atom < reference < function < port < pid < tuple < map < list < bitstring\n",
        "!elixir -e 'IO.puts :hello > 999'\n",
        "!elixir -e 'IO.puts {:hello, :world} > [1, 2, 3]'"
      ],
      "execution_count": 24,
      "outputs": [
        {
          "output_type": "stream",
          "text": [
            "true\n",
            "false\n"
          ],
          "name": "stdout"
        }
      ]
    },
    {
      "cell_type": "code",
      "metadata": {
        "id": "cDMkqq2xxZsg"
      },
      "source": [
        ""
      ],
      "execution_count": null,
      "outputs": []
    },
    {
      "cell_type": "markdown",
      "metadata": {
        "id": "AvFhFs27vQJg"
      },
      "source": [
        "---\n",
        "ヘルプは次のようにやる。"
      ]
    },
    {
      "cell_type": "code",
      "metadata": {
        "id": "FEjNnXwwrCr5"
      },
      "source": [
        "!elixir -e 'require IEx.Helpers; IEx.Helpers.h is_integer/1'"
      ],
      "execution_count": null,
      "outputs": []
    },
    {
      "cell_type": "markdown",
      "metadata": {
        "id": "BDPti1qgrQrb"
      },
      "source": [
        "アトム\n",
        "\n",
        "アトムは名前がそのまま値となる定数。"
      ]
    },
    {
      "cell_type": "code",
      "metadata": {
        "colab": {
          "base_uri": "https://localhost:8080/"
        },
        "id": "m5L-p06OrXWz",
        "outputId": "0a27bc33-5863-46cd-922c-8ec3b76d07ed"
      },
      "source": [
        "!elixir -e 'IO.puts :hello'\n",
        "!elixir -e 'IO.puts :world'\n",
        "!elixir -e 'IO.inspect :hello'\n",
        "!elixir -e 'IO.inspect :world'"
      ],
      "execution_count": null,
      "outputs": [
        {
          "output_type": "stream",
          "text": [
            "hello\n",
            "world\n",
            ":hello\n",
            ":world\n"
          ],
          "name": "stdout"
        }
      ]
    },
    {
      "cell_type": "markdown",
      "metadata": {
        "id": "N8wXX2pTdRi8"
      },
      "source": [
        "論理値の true と false は、アトムである。"
      ]
    },
    {
      "cell_type": "code",
      "metadata": {
        "colab": {
          "base_uri": "https://localhost:8080/"
        },
        "id": "Kp83TFvPdc8X",
        "outputId": "6deb04ab-31f9-4c5e-80b8-a9c1a00ac14a"
      },
      "source": [
        "!elixir -e 'IO.puts is_atom :hello'\n",
        "# !elixir -e 'IO.puts is_atom hello' => error\n",
        "!elixir -e 'IO.puts is_atom true'\n",
        "!elixir -e 'IO.puts is_boolean true'\n",
        "!elixir -e 'IO.puts is_boolean :true'\n",
        "!echo\n",
        "!elixir -e 'IO.puts is_atom IEx'\n",
        "!elixir -e 'IO.puts is_atom ThisIsAPen'\n",
        "!elixir -e 'IO.puts is_atom String'"
      ],
      "execution_count": null,
      "outputs": [
        {
          "output_type": "stream",
          "text": [
            "true\n",
            "true\n",
            "true\n",
            "true\n",
            "\n",
            "true\n",
            "true\n",
            "true\n"
          ],
          "name": "stdout"
        }
      ]
    },
    {
      "cell_type": "code",
      "metadata": {
        "colab": {
          "base_uri": "https://localhost:8080/"
        },
        "id": "zQtgx_c6eSWx",
        "outputId": "b62ab922-7b39-4f4b-d260-eec67c81de83"
      },
      "source": [
        "!elixir -e 'IO.puts is_atom :math'\n",
        "# !elixir -e 'IO.puts is_atom math' => error\n",
        "!elixir -e 'IO.puts :math.pow(2,100)'"
      ],
      "execution_count": null,
      "outputs": [
        {
          "output_type": "stream",
          "text": [
            "true\n",
            "1.2676506002282294e30\n"
          ],
          "name": "stdout"
        }
      ]
    },
    {
      "cell_type": "code",
      "metadata": {
        "colab": {
          "base_uri": "https://localhost:8080/"
        },
        "id": "u-__qBHwe6kK",
        "outputId": "3e992cb0-f69d-410d-f807-a8b1000c2ed4"
      },
      "source": [
        "!elixir -e 'IO.puts is_binary \"hello\"'\n",
        "!elixir -e 'IO.puts byte_size \"hello\"'\n",
        "!elixir -e 'IO.puts byte_size \"こんにちは\"'\n",
        "!elixir -e 'IO.puts String.length \"こんにちは\"'"
      ],
      "execution_count": null,
      "outputs": [
        {
          "output_type": "stream",
          "text": [
            "true\n",
            "5\n",
            "15\n",
            "5\n"
          ],
          "name": "stdout"
        }
      ]
    },
    {
      "cell_type": "markdown",
      "metadata": {
        "id": "ZcYTGhJbfXDQ"
      },
      "source": [
        "# 関数\n",
        "\n",
        "関数は fn ではじめ、 end で閉じる。\n",
        "\n",
        "作った関数は関数名、もしくは無名関数のあとにドットと括弧に引数を入れる。\n"
      ]
    },
    {
      "cell_type": "code",
      "metadata": {
        "colab": {
          "base_uri": "https://localhost:8080/"
        },
        "id": "_sa-Ham7fiHB",
        "outputId": "0b5d8c94-0716-4c32-b895-a4c324861538"
      },
      "source": [
        "!elixir -e 'IO.inspect fn a,b  -> a + b end'\n",
        "!elixir -e 'sum = fn (a,b) -> a + b end; IO.puts sum.(3,4)'\n",
        "!elixir -e 'IO.puts (fn (a,b) -> a + b end).(3,4)'\n",
        "!elixir -e 'sum = fn (a,b) -> a + b end; IO.puts is_function sum'\n",
        "!elixir -e 'sum = fn (a,b) -> a + b end; IO.puts is_function(sum, 2)'"
      ],
      "execution_count": null,
      "outputs": [
        {
          "output_type": "stream",
          "text": [
            "#Function<43.40011524/2 in :erl_eval.expr/5>\n",
            "7\n",
            "7\n",
            "true\n",
            "true\n"
          ],
          "name": "stdout"
        }
      ]
    },
    {
      "cell_type": "markdown",
      "metadata": {
        "id": "d-wbqomEXdav"
      },
      "source": [
        "キャプチャー演算子 `&`\n",
        "\n"
      ]
    },
    {
      "cell_type": "code",
      "metadata": {
        "id": "q2pjSx8CXoT4",
        "colab": {
          "base_uri": "https://localhost:8080/"
        },
        "outputId": "361f1ec1-155d-4000-9f3c-d7cf18f95713"
      },
      "source": [
        "!elixir -e 'sum = &(&1 + &2); IO.puts sum.(3,4)'\n",
        "!elixir -e 'sum = &(&1 + &2); double = &(sum.(&1,&1)); IO.puts double.(7)'"
      ],
      "execution_count": null,
      "outputs": [
        {
          "output_type": "stream",
          "text": [
            "7\n",
            "14\n"
          ],
          "name": "stdout"
        }
      ]
    },
    {
      "cell_type": "code",
      "metadata": {
        "id": "cNA8dW64Ye1B",
        "colab": {
          "base_uri": "https://localhost:8080/"
        },
        "outputId": "ffd7217a-ed8b-4534-e198-d24e9e977f3d"
      },
      "source": [
        "!elixir -e 'IO.puts (&(&1+&2)).(3,4)'"
      ],
      "execution_count": null,
      "outputs": [
        {
          "output_type": "stream",
          "text": [
            "7\n"
          ],
          "name": "stdout"
        }
      ]
    },
    {
      "cell_type": "code",
      "metadata": {
        "id": "y8lMsz7iZBU7",
        "colab": {
          "base_uri": "https://localhost:8080/"
        },
        "outputId": "504ad04d-3b02-4559-932c-a0d3e534417e"
      },
      "source": [
        "# 質問 次の無名関数をキャプチャー演算子を使って書けるか\n",
        "!elixir -e 'IO.puts (fn -> _x = 1 end).()'"
      ],
      "execution_count": null,
      "outputs": [
        {
          "output_type": "stream",
          "text": [
            "1\n",
            "** (CompileError) nofile:1: invalid args for &, expected an expression in the format of &Mod.fun/arity, &local/arity or a capture containing at least one argument as &1, got: _x = 1\n",
            "    (stdlib 3.15.1) lists.erl:1358: :lists.mapfoldl/3\n"
          ],
          "name": "stdout"
        }
      ]
    },
    {
      "cell_type": "markdown",
      "metadata": {
        "id": "Iq7DuP8fZjAb"
      },
      "source": [
        "# リスト"
      ]
    },
    {
      "cell_type": "code",
      "metadata": {
        "id": "JA5dJ0jCZpSF",
        "colab": {
          "base_uri": "https://localhost:8080/"
        },
        "outputId": "0a2af3a6-8b10-48d2-8de1-2662b15ba389"
      },
      "source": [
        "!elixir -e 'IO.inspect list = [3.14, :pie, true, \"Apple\"]'"
      ],
      "execution_count": null,
      "outputs": [
        {
          "output_type": "stream",
          "text": [
            "[3.14, :pie, true, \"Apple\"]\n"
          ],
          "name": "stdout"
        }
      ]
    },
    {
      "cell_type": "code",
      "metadata": {
        "id": "QE88z7fYbNOz",
        "colab": {
          "base_uri": "https://localhost:8080/"
        },
        "outputId": "77757e29-0b19-4f72-a236-d66ed492e9b1"
      },
      "source": [
        "!elixir -e 'list = [3.14, :pie, true, \"Apple\"];IO.puts length(list)'"
      ],
      "execution_count": null,
      "outputs": [
        {
          "output_type": "stream",
          "text": [
            "4\n"
          ],
          "name": "stdout"
        }
      ]
    },
    {
      "cell_type": "code",
      "metadata": {
        "id": "Sj9eiF7bbYoq",
        "colab": {
          "base_uri": "https://localhost:8080/"
        },
        "outputId": "d3bd687e-9806-45d6-9b77-2ccf3ecc8838"
      },
      "source": [
        "!elixir -e 'IO.inspect list = [3.14, :pie, true, \"Apple\"] ++ [\"Cherry\"]'\n",
        "!elixir -e 'IO.inspect list = [3.14, :pie, true, \"Apple\"] -- [true, false]'\n",
        "!elixir -e 'IO.inspect [1, 1, 2, 1, 2, 3, 1, 2, 3, 4] -- [4, 1, 3, 1, 2]'"
      ],
      "execution_count": 2,
      "outputs": [
        {
          "output_type": "stream",
          "text": [
            "[3.14, :pie, true, \"Apple\", \"Cherry\"]\n",
            "[3.14, :pie, \"Apple\"]\n",
            "[1, 2, 1, 2, 3]\n"
          ],
          "name": "stdout"
        }
      ]
    },
    {
      "cell_type": "code",
      "metadata": {
        "id": "Zfbt-WWSfJYt",
        "outputId": "7d4c48a6-3a85-42c8-b62e-ef515ee14cd7",
        "colab": {
          "base_uri": "https://localhost:8080/"
        }
      },
      "source": [
        "!elixir -e 'list = [3.14, :pie, true, \"Apple\"];IO.puts hd(list)'\n",
        "!elixir -e 'list = [3.14, :pie, true, \"Apple\"];IO.inspect tl(list)'\n",
        "# !elixir -e 'IO.inspect hd []' #=> error not a nonempty list\n",
        "!elixir -e 'list = [3.14, :pie, true, \"Apple\"]; IO.inspect [head | tail] = list; IO.inspect tail'"
      ],
      "execution_count": 8,
      "outputs": [
        {
          "output_type": "stream",
          "text": [
            "3.14\n",
            "[:pie, true, \"Apple\"]\n",
            "[3.14, :pie, true, \"Apple\"]\n",
            "[:pie, true, \"Apple\"]\n"
          ],
          "name": "stdout"
        }
      ]
    },
    {
      "cell_type": "code",
      "metadata": {
        "id": "cXkGAkLlghd5",
        "outputId": "01445f2d-2545-4fc6-dd1d-53310575c2e5",
        "colab": {
          "base_uri": "https://localhost:8080/"
        }
      },
      "source": [
        "# charlist -- erlang とのインターフェイスに使われる、とか\n",
        "!elixir -e 'IO.puts [104, 101, 108, 108, 111]'\n",
        "!elixir -e 'IO.puts [97,98,99]' \n",
        "!elixir -e 'IO.inspect ?a'"
      ],
      "execution_count": 17,
      "outputs": [
        {
          "output_type": "stream",
          "text": [
            "hello\n",
            "abc\n",
            "97\n"
          ],
          "name": "stdout"
        }
      ]
    },
    {
      "cell_type": "code",
      "metadata": {
        "id": "XooBLLYhqDZC",
        "outputId": "8c0cc97f-b22c-46e2-ddd4-e3756e94b279",
        "colab": {
          "base_uri": "https://localhost:8080/"
        }
      },
      "source": [
        "!elixir -e 'IO.puts [104, 101, 108, 108, 111]'\n",
        "!elixir -e 'IO.inspect [104, 101, 108, 108, 111]'\n",
        "!elixir -e 'IO.puts \"hello\"'\n",
        "!elixir -e 'IO.inspect \"hello\"'\n",
        "!elixir -e \"IO.inspect 'hello'\"\n",
        "!echo\n",
        "!elixir -e \"require IEx.Helpers; IO.puts IEx.Helpers.i('hello')\" #=> シングルクオートの文字列は list of integers\n",
        "!echo\n",
        "!elixir -e 'require IEx.Helpers; IO.puts IEx.Helpers.i(\"hello\")' #=> ダブルクオートの文字列は bitstring"
      ],
      "execution_count": 35,
      "outputs": [
        {
          "output_type": "stream",
          "text": [
            "hello\n",
            "'hello'\n",
            "hello\n",
            "\"hello\"\n",
            "'hello'\n",
            "\n",
            "\u001b[33mTerm\u001b[0m\n",
            "\u001b[22m  'hello'\u001b[0m\n",
            "\u001b[33mData type\u001b[0m\n",
            "\u001b[22m  List\u001b[0m\n",
            "\u001b[33mDescription\u001b[0m\n",
            "\u001b[22m  This is a list of integers that is printed as a sequence of characters\n",
            "  delimited by single quotes because all the integers in it represent printable\n",
            "  ASCII characters. Conventionally, a list of Unicode code points is known as a\n",
            "  charlist and a list of ASCII characters is a subset of it.\u001b[0m\n",
            "\u001b[33mRaw representation\u001b[0m\n",
            "\u001b[22m  [104, 101, 108, 108, 111]\u001b[0m\n",
            "\u001b[33mReference modules\u001b[0m\n",
            "\u001b[22m  List\u001b[0m\n",
            "\u001b[33mImplemented protocols\u001b[0m\n",
            "\u001b[22m  Collectable, Enumerable, IEx.Info, Inspect, List.Chars, String.Chars\u001b[0m\n",
            "do not show this result in output\n",
            "\n",
            "\u001b[33mTerm\u001b[0m\n",
            "\u001b[22m  \"hello\"\u001b[0m\n",
            "\u001b[33mData type\u001b[0m\n",
            "\u001b[22m  BitString\u001b[0m\n",
            "\u001b[33mByte size\u001b[0m\n",
            "\u001b[22m  5\u001b[0m\n",
            "\u001b[33mDescription\u001b[0m\n",
            "\u001b[22m  This is a string: a UTF-8 encoded binary. It's printed surrounded by\n",
            "  \"double quotes\" because all UTF-8 encoded code points in it are printable.\u001b[0m\n",
            "\u001b[33mRaw representation\u001b[0m\n",
            "\u001b[22m  <<104, 101, 108, 108, 111>>\u001b[0m\n",
            "\u001b[33mReference modules\u001b[0m\n",
            "\u001b[22m  String, :binary\u001b[0m\n",
            "\u001b[33mImplemented protocols\u001b[0m\n",
            "\u001b[22m  Collectable, IEx.Info, Inspect, List.Chars, String.Chars\u001b[0m\n",
            "do not show this result in output\n"
          ],
          "name": "stdout"
        }
      ]
    },
    {
      "cell_type": "markdown",
      "metadata": {
        "id": "PaOe20xn3Pzj"
      },
      "source": [
        "# タプル\n",
        "\n",
        "タプルは波括弧 brace を用いて定義する。\n",
        "\n",
        "elixir のコレクションはすべて要素のタイプを限定しない。\n",
        "\n",
        "通常 2 から 4 の要素であり、それ以上の要素数の場合、map や struct の利用を考える。\n",
        "\n",
        "タプルは関数の返り値に便利に利用される。\n",
        "\n",
        "パターンマッチングと組み合わせて使われる。\n",
        "\n"
      ]
    },
    {
      "cell_type": "markdown",
      "metadata": {
        "id": "evYLkSqLiL3k"
      },
      "source": [
        "---\n",
        "メモ\n",
        "\n",
        "タプルは要素をメモリーに連続して納めるので、長さを得るのがリストより速い。 連番のインデクスで要素を取り出すことができる、などのメリットがあり、他の言語のリストに近い、とも言えるが、非効率なため、データ処理にはリストとマップ (連想配列) が使われる。"
      ]
    },
    {
      "cell_type": "code",
      "metadata": {
        "id": "2QD3h5Hi33UU",
        "outputId": "72c4f5c7-5ada-45b1-cbf4-57bf7f548265",
        "colab": {
          "base_uri": "https://localhost:8080/"
        }
      },
      "source": [
        "!elixir -e 'IO.inspect {3.14, :pie, \"Apple\"}'"
      ],
      "execution_count": 36,
      "outputs": [
        {
          "output_type": "stream",
          "text": [
            "{3.14, :pie, \"Apple\"}\n"
          ],
          "name": "stdout"
        }
      ]
    },
    {
      "cell_type": "code",
      "metadata": {
        "id": "rh0RBDBF8CQj",
        "outputId": "8a780699-1894-4696-cee8-fbcd82eaa679",
        "colab": {
          "base_uri": "https://localhost:8080/"
        }
      },
      "source": [
        "!elixir -e 'IO.inspect tuple_size {3.14, :pie, \"Apple\"}'\n",
        "!elixir -e 'IO.inspect length Tuple.to_list {3.14, :pie, \"Apple\"}'\n",
        "!elixir -e 'tuple = {3.14, :pie, \"Apple\"}; IO.inspect put_elem(tuple,2,\"Cherry\")'"
      ],
      "execution_count": 5,
      "outputs": [
        {
          "output_type": "stream",
          "text": [
            "3\n",
            "3\n",
            "{3.14, :pie, \"Cherry\"}\n"
          ],
          "name": "stdout"
        }
      ]
    },
    {
      "cell_type": "code",
      "metadata": {
        "id": "S8zPbpT4qw1g",
        "outputId": "689376fa-9b60-4a11-91fa-16e19b9c7770",
        "colab": {
          "base_uri": "https://localhost:8080/"
        }
      },
      "source": [
        "!elixir -e 'IO.inspect tuple = {:ok, \"hello\"}'\n",
        "!elixir -e 'tuple = {:ok, \"hello\"};IO.inspect elem(tuple, 1)'"
      ],
      "execution_count": 7,
      "outputs": [
        {
          "output_type": "stream",
          "text": [
            "{:ok, \"hello\"}\n",
            "\"hello\"\n"
          ],
          "name": "stdout"
        }
      ]
    },
    {
      "cell_type": "markdown",
      "metadata": {
        "id": "TVPDj-p0rMKf"
      },
      "source": [
        "# パターンマッチング\n",
        "\n",
        "elixir で `=` は通常のプログラミング言語の代入のように使えるが、マッチ演算子である。\n",
        "\n",
        "マッチすると、方程式の結果が返され、失敗すると、エラーになる。\n",
        "\n",
        "タプルに使うと便利。"
      ]
    },
    {
      "cell_type": "code",
      "metadata": {
        "id": "sAAMPeW_rLjn",
        "outputId": "72fdb0e4-bb13-490a-bf9f-7ab9896f5f27",
        "colab": {
          "base_uri": "https://localhost:8080/"
        }
      },
      "source": [
        "!elixir -e '{:ok, result} = {:ok, 1}; IO.puts result'"
      ],
      "execution_count": 2,
      "outputs": [
        {
          "output_type": "stream",
          "text": [
            "1\n"
          ],
          "name": "stdout"
        }
      ]
    },
    {
      "cell_type": "markdown",
      "metadata": {
        "id": "VEiN6vENWuas"
      },
      "source": [
        "アンダースコア `_` は値を無視する。 ワルドカード。\n",
        "\n",
        "ピン演算子 `^` は、新しく再束縛するのではなく既存の値とマッチする。\n",
        "\n"
      ]
    },
    {
      "cell_type": "markdown",
      "metadata": {
        "id": "YWL4IGuwXBfn"
      },
      "source": [
        "---\n",
        "# 条件 case/cond/if\n",
        "\n",
        "case は end で閉じる。 end の前に改行やセミコロン `;` は要らない。\n",
        "\n",
        "パターンマッチの残りすべての場合を引き受けるにはアンダースコア `_` を用いる。\n",
        "\n",
        "条件にマッチする処理が書かれていないとエラー。\n",
        "\n",
        "case の外の変数をパターンとして参照するときは、ピン演算子 `^` を使う。\n",
        "\n",
        "when 条件、ガード、を加えることができる。"
      ]
    },
    {
      "cell_type": "code",
      "metadata": {
        "id": "rCgvgH7SWuIN",
        "outputId": "7c48413d-d1f9-427f-94f4-505a1bb842c3",
        "colab": {
          "base_uri": "https://localhost:8080/"
        }
      },
      "source": [
        "!elixir -e 'result = case {:ok, \"hello world\"} do {:ok, result} -> result; {:error, error} -> error; _ -> \"others\" end; IO.puts result'"
      ],
      "execution_count": 7,
      "outputs": [
        {
          "output_type": "stream",
          "text": [
            "hello world\n"
          ],
          "name": "stdout"
        }
      ]
    },
    {
      "cell_type": "code",
      "metadata": {
        "id": "diDb9OCxZzS-",
        "outputId": "e578da8a-03e4-45ea-85bd-90dc9fa37b78",
        "colab": {
          "base_uri": "https://localhost:8080/"
        }
      },
      "source": [
        "!elixir -e 'result = case {:error, 39} do {:ok, result} -> result; {:error, error} -> error; _ -> \"others\" end; IO.puts result'"
      ],
      "execution_count": 8,
      "outputs": [
        {
          "output_type": "stream",
          "text": [
            "39\n"
          ],
          "name": "stdout"
        }
      ]
    }
  ]
}