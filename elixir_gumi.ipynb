{
  "nbformat": 4,
  "nbformat_minor": 0,
  "metadata": {
    "colab": {
      "name": "elixir_gumi.ipynb",
      "provenance": [],
      "toc_visible": true,
      "authorship_tag": "ABX9TyMi+Xy2u4/3mbgdkWLVdmsH",
      "include_colab_link": true
    },
    "kernelspec": {
      "name": "python3",
      "display_name": "Python 3"
    },
    "language_info": {
      "name": "python"
    }
  },
  "cells": [
    {
      "cell_type": "markdown",
      "metadata": {
        "id": "view-in-github",
        "colab_type": "text"
      },
      "source": [
        "<a href=\"https://colab.research.google.com/github/kalz2q/mycolabnotebooks/blob/master/elixir_gumi.ipynb\" target=\"_parent\"><img src=\"https://colab.research.google.com/assets/colab-badge.svg\" alt=\"Open In Colab\"/></a>"
      ]
    },
    {
      "cell_type": "markdown",
      "metadata": {
        "id": "QusE0r9HLQt-"
      },
      "source": [
        "# メモ\n",
        "\n",
        "gumi TECH Blog Elixir入門\n",
        "\n",
        "https://dev.to/gumi/elixir-12--4og6\n",
        "\n",
        "を colab 化する。\n",
        "\n",
        "colab 環境で elixir のインタラクティブモード iex は使えないので、次の要領でインストールして使う。\n"
      ]
    },
    {
      "cell_type": "code",
      "metadata": {
        "id": "THvpbkjdWs0Q"
      },
      "source": [
        "%%capture\n",
        "!wget https://packages.erlang-solutions.com/erlang-solutions_2.0_all.deb && sudo dpkg -i erlang-solutions_2.0_all.deb\n",
        "!sudo apt update\n",
        "!sudo apt install elixir"
      ],
      "execution_count": 1,
      "outputs": []
    },
    {
      "cell_type": "code",
      "metadata": {
        "id": "6FkejEE2crA5",
        "colab": {
          "base_uri": "https://localhost:8080/"
        },
        "outputId": "e10c0661-5ce9-49d9-cfc8-99e3248a2425"
      },
      "source": [
        "!elixir -v\n",
        "!date"
      ],
      "execution_count": null,
      "outputs": [
        {
          "output_type": "stream",
          "text": [
            "Erlang/OTP 24 [erts-12.0.2] [source] [64-bit] [smp:2:2] [ds:2:2:10] [async-threads:1] [jit]\n",
            "\n",
            "Elixir 1.12.0 (compiled with Erlang/OTP 24)\n",
            "Sat Jun 26 06:39:29 UTC 2021\n"
          ],
          "name": "stdout"
        }
      ]
    },
    {
      "cell_type": "markdown",
      "metadata": {
        "id": "IpYclRqgcttK"
      },
      "source": [
        "---\n",
        "iex の代わりにシェルワンライナー `elixir -e` で実験する。\n"
      ]
    },
    {
      "cell_type": "code",
      "metadata": {
        "id": "S_s89E37Xroq"
      },
      "source": [
        "!elixir -e 'IO.puts 3 + 3'\n",
        "!elixir -e 'IO.puts \"hello\" <> \" \" <> \"world\"'"
      ],
      "execution_count": null,
      "outputs": []
    },
    {
      "cell_type": "markdown",
      "metadata": {
        "id": "GxkQfmBfParV"
      },
      "source": [
        "数行にわたる場合は、セミコロン `;` でつなぐか、次のようにファイルを作って、コンパイルして実行する。 "
      ]
    },
    {
      "cell_type": "code",
      "metadata": {
        "id": "RYCKapxtdtco"
      },
      "source": [
        "%%writefile temp.exs\n",
        "IO.puts \"hello\" <> \" \" <> \"world\""
      ],
      "execution_count": null,
      "outputs": []
    },
    {
      "cell_type": "code",
      "metadata": {
        "id": "06mP6Jy_d505"
      },
      "source": [
        "!elixir temp.exs"
      ],
      "execution_count": null,
      "outputs": []
    },
    {
      "cell_type": "markdown",
      "metadata": {
        "id": "6TTEls3SfWhR"
      },
      "source": [
        "基本的な型 | 値の例\n",
        "--- | ---\n",
        "整数 | 1\n",
        "整数(16進数) | 0x1F\n",
        "小数 | 1.0\n",
        "論理値 | true\n",
        "アトム | :atom\n",
        "文字列 | \"elixir\"\n",
        "リスト | [1, 2, 3]\n",
        "タプル | {1, 2, 3}"
      ]
    },
    {
      "cell_type": "code",
      "metadata": {
        "id": "9cdZm6iLPKq0"
      },
      "source": [
        "# 除算 (演算子 `/` ) は結果が整数であっても、浮動小数点数に変わる。\n",
        "!elixir -e 'IO.puts 10 / 2'"
      ],
      "execution_count": null,
      "outputs": []
    },
    {
      "cell_type": "code",
      "metadata": {
        "id": "Yyo8kKEePKf9"
      },
      "source": [
        "# 整数除算は div で 剰余は rem\n",
        "!elixir -e 'IO.puts div(9, 2)'\n",
        "!elixir -e 'IO.puts div 9, 2'\n",
        "!elixir -e 'IO.puts rem 10, 3'\n",
        "# div は floor ではない\n",
        "!elixir -e 'IO.puts div -9, 2'\n",
        "!elixir -e 'IO.puts div 9, -2'\n",
        "!elixir -e 'IO.puts rem -10, 3'\n",
        "!elixir -e 'IO.puts rem 10, -3'"
      ],
      "execution_count": null,
      "outputs": []
    },
    {
      "cell_type": "code",
      "metadata": {
        "id": "ppg4ZY4JuKzY"
      },
      "source": [
        "# python と比べてみる\n",
        "print (9 // 2)\n",
        "print (10 % 3)\n",
        "print ( -9 // 2)\n",
        "print ( 9 // -2)\n",
        "print (-10 % 3)\n",
        "print (10 % -3)"
      ],
      "execution_count": null,
      "outputs": []
    },
    {
      "cell_type": "code",
      "metadata": {
        "id": "OnHdcIx3OUEB"
      },
      "source": [
        "# n 進数\n",
        "!elixir -e 'IO.puts 0b1000'\n",
        "!elixir -e 'IO.puts 0o10'\n",
        "!elixir -e 'IO.puts 0xFF'"
      ],
      "execution_count": null,
      "outputs": []
    },
    {
      "cell_type": "code",
      "metadata": {
        "id": "jhmJBZ1HviIf"
      },
      "source": [
        "# 浮動小数点数\n",
        "!elixir -e 'IO.puts 1.0'\n",
        "!elixir -e 'IO.puts 3.14e-2'"
      ],
      "execution_count": null,
      "outputs": []
    },
    {
      "cell_type": "code",
      "metadata": {
        "id": "OCDOOxqpvxm4"
      },
      "source": [
        "# 四捨五入 round 、切り捨て trunc\n",
        "!elixir -e 'IO.puts round(2.718)'\n",
        "!elixir -e 'IO.puts trunc(2.718)'"
      ],
      "execution_count": null,
      "outputs": []
    },
    {
      "cell_type": "markdown",
      "metadata": {
        "id": "vQOH21yLw1Bp"
      },
      "source": [
        "質問\n",
        "\n",
        "小数点 3 桁目で四捨五入、小数点 3 桁目で切り捨てとかはどうするのか。"
      ]
    },
    {
      "cell_type": "code",
      "metadata": {
        "id": "jLaa6McRwPIe"
      },
      "source": [
        "!elixir -e 'IO.puts Float.round(2.718281828459045,3)'\n",
        "# Float.trunc (float, precision) はないので\n",
        "!elixir -e 'IO.puts trunc(2.718281828459045 * 1000) / 1000'"
      ],
      "execution_count": null,
      "outputs": []
    },
    {
      "cell_type": "markdown",
      "metadata": {
        "id": "4YFCsukTPA7k"
      },
      "source": [
        "質問\n",
        "\n",
        "上で使った `Float.round` とか下で使った `:math.exp()` とか、モジュールや、require, import がわからない。 なにで検索したらいいのだろうか。"
      ]
    },
    {
      "cell_type": "code",
      "metadata": {
        "id": "JiWSBaXLK540"
      },
      "source": [
        "!elixir -e 'IO.puts :math.exp(1)'"
      ],
      "execution_count": null,
      "outputs": []
    },
    {
      "cell_type": "markdown",
      "metadata": {
        "id": "Leek4HwAPzSG"
      },
      "source": [
        "---\n",
        "古い記事で qiita に\n",
        "\n",
        "elixirで数学関数をつかってみた\n",
        "\n",
        "というのがあったので、とりあえずやってみる。"
      ]
    },
    {
      "cell_type": "code",
      "metadata": {
        "id": "gG_VDz92QL3Q"
      },
      "source": [
        "!elixir -e 'IO.puts abs -1'\n",
        "!elixir -e 'IO.puts div 4,3'\n",
        "!elixir -e 'IO.puts rem 4,3'\n",
        "!elixir -e 'IO.puts min 4,3'"
      ],
      "execution_count": null,
      "outputs": []
    },
    {
      "cell_type": "markdown",
      "metadata": {
        "id": "xX11oEXoR1ZZ"
      },
      "source": [
        "メモ\n",
        "\n",
        "min は 引数 2 つの小さい方を返すので、リストの最小値を求めるには reduce とかを使うのか。 \n",
        "\n",
        "問題 $\\quad$ reduce と min を使って リストの最小値を求めよ。\n"
      ]
    },
    {
      "cell_type": "markdown",
      "metadata": {
        "id": "dh7b_fSDSU1n"
      },
      "source": [
        "---\n",
        "erlang の math が `:math` モジュールという形で使えるが、これでいいのか?\n",
        "\n",
        "Erlang--math\n",
        "\n",
        "によると、c の math モジュールである、と書いてあった。 ふむ。"
      ]
    },
    {
      "cell_type": "code",
      "metadata": {
        "id": "yW87fNWQSnGD"
      },
      "source": [
        "!elixir -e 'IO.puts :math.pi()'\n",
        "!elixir -e 'IO.puts :math.sin(:math.pi()/2)'\n",
        "!elixir -e 'IO.puts :math.log(:math.exp(2))'"
      ],
      "execution_count": null,
      "outputs": []
    },
    {
      "cell_type": "markdown",
      "metadata": {
        "id": "DV_RjeO7qB50"
      },
      "source": [
        "真偽値 = 論理値 = 真理値 = boolean\n",
        "\n",
        "elixir では false と nil を除く値はすべて true である。\n"
      ]
    },
    {
      "cell_type": "code",
      "metadata": {
        "id": "9946VMIkqIGC"
      },
      "source": [
        "!elixir -e 'IO.puts true'\n",
        "!elixir -e 'IO.puts not true'\n",
        "!elixir -e 'IO.puts 1 < 3'\n",
        "!elixir -e 'IO.puts is_boolean 1 < 3'\n",
        "!echo\n",
        "!elixir -e 'IO.puts is_integer 1.0'\n",
        "!elixir -e 'IO.puts is_float 1.0'\n",
        "!elixir -e 'IO.puts is_number 0b1'"
      ],
      "execution_count": null,
      "outputs": []
    },
    {
      "cell_type": "code",
      "metadata": {
        "id": "jupmm1GusJHJ"
      },
      "source": [
        "!elixir -e 'IO.puts -1 || true'\n",
        "!elixir -e 'IO.puts true || 0'\n",
        "!elixir -e 'IO.puts false || 2'\n",
        "!elixir -e 'IO.puts  nil && 3'\n",
        "!elixir -e 'IO.puts true && 4'\n",
        "!elixir -e 'IO.inspect  nil'\n",
        "!elixir -e 'IO.puts !nil'"
      ],
      "execution_count": null,
      "outputs": []
    },
    {
      "cell_type": "code",
      "metadata": {
        "id": "lAuGB8V4vdqE"
      },
      "source": [
        "# and と or ははじめの引数は論理値でなければならない\n",
        "# !elixir -e 'IO.puts -1 or true' #=> error\n",
        "!elixir -e 'IO.puts true or 0'\n",
        "!elixir -e 'IO.puts false or 2'\n",
        "# !elixir -e 'IO.puts  nil and 3' #=> error\n",
        "!elixir -e 'IO.puts true and 4'\n",
        "!echo\n",
        "!elixir -e 'IO.puts is_atom(:example) and 1'\n",
        "!elixir -e 'IO.puts not is_number(false)'\n",
        "# not も同じ\n",
        "# !elixir -e 'IO.puts not 1' #=> error\n"
      ],
      "execution_count": null,
      "outputs": []
    },
    {
      "cell_type": "code",
      "metadata": {
        "id": "EvNKgLuRw0ix"
      },
      "source": [
        "# 異なった型の大小\n",
        "# number < atom < reference < function < port < pid < tuple < map < list < bitstring\n",
        "!elixir -e 'IO.puts :hello > 999'\n",
        "!elixir -e 'IO.puts {:hello, :world} > [1, 2, 3]'"
      ],
      "execution_count": null,
      "outputs": []
    },
    {
      "cell_type": "code",
      "metadata": {
        "id": "cDMkqq2xxZsg"
      },
      "source": [
        ""
      ],
      "execution_count": null,
      "outputs": []
    },
    {
      "cell_type": "markdown",
      "metadata": {
        "id": "AvFhFs27vQJg"
      },
      "source": [
        "---\n",
        "ヘルプは次のようにやる。"
      ]
    },
    {
      "cell_type": "code",
      "metadata": {
        "id": "FEjNnXwwrCr5"
      },
      "source": [
        "!elixir -e 'require IEx.Helpers; IEx.Helpers.h is_integer/1'"
      ],
      "execution_count": null,
      "outputs": []
    },
    {
      "cell_type": "markdown",
      "metadata": {
        "id": "BDPti1qgrQrb"
      },
      "source": [
        "アトム\n",
        "\n",
        "アトムは名前がそのまま値となる定数。"
      ]
    },
    {
      "cell_type": "code",
      "metadata": {
        "id": "m5L-p06OrXWz"
      },
      "source": [
        "!elixir -e 'IO.puts :hello'\n",
        "!elixir -e 'IO.puts :world'\n",
        "!elixir -e 'IO.inspect :hello'\n",
        "!elixir -e 'IO.inspect :world'"
      ],
      "execution_count": null,
      "outputs": []
    },
    {
      "cell_type": "markdown",
      "metadata": {
        "id": "N8wXX2pTdRi8"
      },
      "source": [
        "論理値の true と false は、アトムである。"
      ]
    },
    {
      "cell_type": "code",
      "metadata": {
        "id": "Kp83TFvPdc8X"
      },
      "source": [
        "!elixir -e 'IO.puts is_atom :hello'\n",
        "# !elixir -e 'IO.puts is_atom hello' => error\n",
        "!elixir -e 'IO.puts is_atom true'\n",
        "!elixir -e 'IO.puts is_boolean true'\n",
        "!elixir -e 'IO.puts is_boolean :true'\n",
        "!echo\n",
        "!elixir -e 'IO.puts is_atom IEx'\n",
        "!elixir -e 'IO.puts is_atom ThisIsAPen'\n",
        "!elixir -e 'IO.puts is_atom String'"
      ],
      "execution_count": null,
      "outputs": []
    },
    {
      "cell_type": "code",
      "metadata": {
        "id": "zQtgx_c6eSWx"
      },
      "source": [
        "!elixir -e 'IO.puts is_atom :math'\n",
        "# !elixir -e 'IO.puts is_atom math' => error\n",
        "!elixir -e 'IO.puts :math.pow(2,100)'"
      ],
      "execution_count": null,
      "outputs": []
    },
    {
      "cell_type": "code",
      "metadata": {
        "id": "u-__qBHwe6kK"
      },
      "source": [
        "!elixir -e 'IO.puts is_binary \"hello\"'\n",
        "!elixir -e 'IO.puts byte_size \"hello\"'\n",
        "!elixir -e 'IO.puts byte_size \"こんにちは\"'\n",
        "!elixir -e 'IO.puts String.length \"こんにちは\"'"
      ],
      "execution_count": null,
      "outputs": []
    },
    {
      "cell_type": "markdown",
      "metadata": {
        "id": "ZcYTGhJbfXDQ"
      },
      "source": [
        "# 関数\n",
        "\n",
        "関数は fn ではじめ、 end で閉じる。\n",
        "\n",
        "作った関数は関数名、もしくは無名関数のあとにドットと括弧に引数を入れる。\n"
      ]
    },
    {
      "cell_type": "code",
      "metadata": {
        "id": "_sa-Ham7fiHB"
      },
      "source": [
        "!elixir -e 'IO.inspect fn a,b  -> a + b end'\n",
        "!elixir -e 'sum = fn (a,b) -> a + b end; IO.puts sum.(3,4)'\n",
        "!elixir -e 'IO.puts (fn (a,b) -> a + b end).(3,4)'\n",
        "!elixir -e 'sum = fn (a,b) -> a + b end; IO.puts is_function sum'\n",
        "!elixir -e 'sum = fn (a,b) -> a + b end; IO.puts is_function(sum, 2)'"
      ],
      "execution_count": null,
      "outputs": []
    },
    {
      "cell_type": "markdown",
      "metadata": {
        "id": "d-wbqomEXdav"
      },
      "source": [
        "キャプチャー演算子 `&`\n",
        "\n"
      ]
    },
    {
      "cell_type": "code",
      "metadata": {
        "id": "q2pjSx8CXoT4"
      },
      "source": [
        "!elixir -e 'sum = &(&1 + &2); IO.puts sum.(3,4)'\n",
        "!elixir -e 'sum = &(&1 + &2); double = &(sum.(&1,&1)); IO.puts double.(7)'"
      ],
      "execution_count": null,
      "outputs": []
    },
    {
      "cell_type": "code",
      "metadata": {
        "id": "cNA8dW64Ye1B"
      },
      "source": [
        "!elixir -e 'IO.puts (&(&1+&2)).(3,4)'"
      ],
      "execution_count": null,
      "outputs": []
    },
    {
      "cell_type": "code",
      "metadata": {
        "id": "y8lMsz7iZBU7"
      },
      "source": [
        "# 質問 次の無名関数をキャプチャー演算子を使って書けるか\n",
        "!elixir -e 'IO.puts (fn -> _x = 1 end).()'"
      ],
      "execution_count": null,
      "outputs": []
    },
    {
      "cell_type": "markdown",
      "metadata": {
        "id": "Iq7DuP8fZjAb"
      },
      "source": [
        "# リスト"
      ]
    },
    {
      "cell_type": "code",
      "metadata": {
        "id": "JA5dJ0jCZpSF"
      },
      "source": [
        "!elixir -e 'IO.inspect list = [3.14, :pie, true, \"Apple\"]'"
      ],
      "execution_count": null,
      "outputs": []
    },
    {
      "cell_type": "code",
      "metadata": {
        "id": "QE88z7fYbNOz"
      },
      "source": [
        "!elixir -e 'list = [3.14, :pie, true, \"Apple\"];IO.puts length(list)'"
      ],
      "execution_count": null,
      "outputs": []
    },
    {
      "cell_type": "code",
      "metadata": {
        "id": "Sj9eiF7bbYoq"
      },
      "source": [
        "!elixir -e 'IO.inspect list = [3.14, :pie, true, \"Apple\"] ++ [\"Cherry\"]'\n",
        "!elixir -e 'IO.inspect list = [3.14, :pie, true, \"Apple\"] -- [true, false]'\n",
        "!elixir -e 'IO.inspect [1, 1, 2, 1, 2, 3, 1, 2, 3, 4] -- [4, 1, 3, 1, 2]'"
      ],
      "execution_count": null,
      "outputs": []
    },
    {
      "cell_type": "code",
      "metadata": {
        "id": "Zfbt-WWSfJYt"
      },
      "source": [
        "!elixir -e 'list = [3.14, :pie, true, \"Apple\"];IO.puts hd(list)'\n",
        "!elixir -e 'list = [3.14, :pie, true, \"Apple\"];IO.inspect tl(list)'\n",
        "# !elixir -e 'IO.inspect hd []' #=> error not a nonempty list\n",
        "!elixir -e 'list = [3.14, :pie, true, \"Apple\"]; IO.inspect [head | tail] = list; IO.inspect tail'"
      ],
      "execution_count": null,
      "outputs": []
    },
    {
      "cell_type": "code",
      "metadata": {
        "id": "cXkGAkLlghd5"
      },
      "source": [
        "# charlist -- erlang とのインターフェイスに使われる、とか\n",
        "!elixir -e 'IO.puts [104, 101, 108, 108, 111]'\n",
        "!elixir -e 'IO.puts [97,98,99]' \n",
        "!elixir -e 'IO.inspect ?a'"
      ],
      "execution_count": null,
      "outputs": []
    },
    {
      "cell_type": "code",
      "metadata": {
        "id": "XooBLLYhqDZC"
      },
      "source": [
        "!elixir -e 'IO.puts [104, 101, 108, 108, 111]'\n",
        "!elixir -e 'IO.inspect [104, 101, 108, 108, 111]'\n",
        "!elixir -e 'IO.puts \"hello\"'\n",
        "!elixir -e 'IO.inspect \"hello\"'\n",
        "!elixir -e \"IO.inspect 'hello'\"\n",
        "!echo\n",
        "!elixir -e \"require IEx.Helpers; IO.puts IEx.Helpers.i('hello')\" #=> シングルクオートの文字列は list of integers\n",
        "!echo\n",
        "!elixir -e 'require IEx.Helpers; IO.puts IEx.Helpers.i(\"hello\")' #=> ダブルクオートの文字列は bitstring"
      ],
      "execution_count": null,
      "outputs": []
    },
    {
      "cell_type": "markdown",
      "metadata": {
        "id": "PaOe20xn3Pzj"
      },
      "source": [
        "# タプル\n",
        "\n",
        "タプルは波括弧 brace を用いて定義する。\n",
        "\n",
        "elixir のコレクションはすべて要素のタイプを限定しない。\n",
        "\n",
        "通常 2 から 4 の要素であり、それ以上の要素数の場合、map や struct の利用を考える。\n",
        "\n",
        "タプルは関数の返り値に便利に利用される。\n",
        "\n",
        "パターンマッチングと組み合わせて使われる。\n",
        "\n"
      ]
    },
    {
      "cell_type": "markdown",
      "metadata": {
        "id": "evYLkSqLiL3k"
      },
      "source": [
        "---\n",
        "メモ\n",
        "\n",
        "タプルは要素をメモリーに連続して納めるので、長さを得るのがリストより速い。 連番のインデクスで要素を取り出すことができる、などのメリットがあり、他の言語のリストに近い、とも言えるが、非効率なため、データ処理にはリストとマップ (連想配列) が使われる。"
      ]
    },
    {
      "cell_type": "code",
      "metadata": {
        "id": "2QD3h5Hi33UU"
      },
      "source": [
        "!elixir -e 'IO.inspect {3.14, :pie, \"Apple\"}'"
      ],
      "execution_count": null,
      "outputs": []
    },
    {
      "cell_type": "code",
      "metadata": {
        "id": "rh0RBDBF8CQj"
      },
      "source": [
        "!elixir -e 'IO.inspect tuple_size {3.14, :pie, \"Apple\"}'\n",
        "!elixir -e 'IO.inspect length Tuple.to_list {3.14, :pie, \"Apple\"}'\n",
        "!elixir -e 'tuple = {3.14, :pie, \"Apple\"}; IO.inspect put_elem(tuple,2,\"Cherry\")'"
      ],
      "execution_count": null,
      "outputs": []
    },
    {
      "cell_type": "code",
      "metadata": {
        "id": "S8zPbpT4qw1g"
      },
      "source": [
        "!elixir -e 'IO.inspect tuple = {:ok, \"hello\"}'\n",
        "!elixir -e 'tuple = {:ok, \"hello\"};IO.inspect elem(tuple, 1)'"
      ],
      "execution_count": null,
      "outputs": []
    },
    {
      "cell_type": "markdown",
      "metadata": {
        "id": "TVPDj-p0rMKf"
      },
      "source": [
        "# パターンマッチング\n",
        "\n",
        "elixir で `=` は通常のプログラミング言語の代入のように使えるが、マッチ演算子である。\n",
        "\n",
        "マッチすると、方程式の結果が返され、失敗すると、エラーになる。\n",
        "\n",
        "タプルに使うと便利。"
      ]
    },
    {
      "cell_type": "code",
      "metadata": {
        "id": "sAAMPeW_rLjn"
      },
      "source": [
        "!elixir -e '{:ok, result} = {:ok, 1}; IO.puts result'"
      ],
      "execution_count": null,
      "outputs": []
    },
    {
      "cell_type": "markdown",
      "metadata": {
        "id": "VEiN6vENWuas"
      },
      "source": [
        "アンダースコア `_` は値を無視する。 ワルドカード。\n",
        "\n",
        "ピン演算子 `^` は、新しく再束縛するのではなく既存の値とマッチする。\n",
        "\n"
      ]
    },
    {
      "cell_type": "markdown",
      "metadata": {
        "id": "YWL4IGuwXBfn"
      },
      "source": [
        "---\n",
        "# 条件 case/cond/if\n",
        "\n",
        "case は end で閉じる。 end の前に改行やセミコロン `;` は要らない。\n",
        "\n",
        "パターンマッチの残りすべての場合を引き受けるにはアンダースコア `_` を用いる。\n",
        "\n",
        "条件にマッチする処理が書かれていないとエラー。\n",
        "\n",
        "case の外の変数をパターンとして参照するときは、ピン演算子 `^` を使う。\n",
        "\n",
        "when 条件、ガード、を加えることができる。\n",
        "\n",
        "条件構文は式である。 文ではない。"
      ]
    },
    {
      "cell_type": "code",
      "metadata": {
        "id": "rCgvgH7SWuIN"
      },
      "source": [
        "!elixir -e 'result = case {:ok, \"hello world\"} do {:ok, result} -> result; {:error, error} -> error; _ -> \"others\" end; IO.puts result'"
      ],
      "execution_count": null,
      "outputs": []
    },
    {
      "cell_type": "code",
      "metadata": {
        "id": "diDb9OCxZzS-"
      },
      "source": [
        "!elixir -e 'result = case {:error, 39} do {:ok, result} -> result; {:error, error} -> error; _ -> \"others\" end; IO.puts result'"
      ],
      "execution_count": null,
      "outputs": []
    },
    {
      "cell_type": "code",
      "metadata": {
        "id": "ok8q17WDxETN"
      },
      "source": [
        "!elixir -e 'x=1; result = case 2 do ^x->1;x->x end; IO.puts result'"
      ],
      "execution_count": null,
      "outputs": []
    },
    {
      "cell_type": "markdown",
      "metadata": {
        "id": "IHlQZnYuzBjl"
      },
      "source": [
        "when を加える"
      ]
    },
    {
      "cell_type": "code",
      "metadata": {
        "id": "O-DeJleHzG1w"
      },
      "source": [
        "# when を加える\n",
        "!elixir -e 'result=case 3 do 1->:one;2->:two;n when is_integer(n)and n>2->:larger_than_two;_->:not_integer end; IO.puts result'"
      ],
      "execution_count": null,
      "outputs": []
    },
    {
      "cell_type": "code",
      "metadata": {
        "id": "YMx7c6blzmRz"
      },
      "source": [
        "# when を使った関数定義\n",
        "!elixir -e 'is_even? =fn n when rem(n,2)==0->true;n when rem(n,2)==1->false;_->:not_integer end;IO.puts is_even?.(1)'"
      ],
      "execution_count": null,
      "outputs": []
    },
    {
      "cell_type": "code",
      "metadata": {
        "id": "X4I8HLBRNl_0"
      },
      "source": [
        "# 型エラーではじいてくれないので `_` で受ける必要がある\n",
        "!elixir -e 'is_even? =fn n when rem(n,2)==0->true;n when rem(n,2)==1->false;_->:not_integer end;IO.puts is_even?.(2.0)'"
      ],
      "execution_count": null,
      "outputs": []
    },
    {
      "cell_type": "code",
      "metadata": {
        "id": "tuxBEcSWN-Ub"
      },
      "source": [
        "# 実験\n",
        "# !elixir -e 'IO.puts rem(2.0,2)' #=> エラー bad argument in arithmetic expression"
      ],
      "execution_count": null,
      "outputs": []
    },
    {
      "cell_type": "markdown",
      "metadata": {
        "id": "embloffkOglz"
      },
      "source": [
        "**cond について**\n",
        "\n",
        "case は 1 つの値をいくつかのパターンからマッチさせて処理する。\n",
        "\n",
        "けれども、条件がさまざまな場合 cond を用いる。\n",
        "\n",
        "true と評価される条件がないとエラーになる。 最後に true の処理を加えておく。"
      ]
    },
    {
      "cell_type": "code",
      "metadata": {
        "id": "ALm9DAq3PSKY"
      },
      "source": [
        "!elixir -e 'IO.puts(cond do 1 > 2 -> false;is_integer(1.0) -> false;nil -> false;[1, 2, 3] -> true;true -> \"実行されない\" end)'"
      ],
      "execution_count": null,
      "outputs": []
    },
    {
      "cell_type": "code",
      "metadata": {
        "id": "0kmwCkKRPyC4"
      },
      "source": [
        "# !elixir -e 'IO.puts(cond do 1 > 2 -> false;is_integer(1.0) -> false;nil -> false end)' #=> エラー no cond clause evaluated to a truthy value"
      ],
      "execution_count": null,
      "outputs": []
    },
    {
      "cell_type": "code",
      "metadata": {
        "id": "9wo5xl9CQCkQ"
      },
      "source": [
        "!elixir -e 'IO.puts(cond do 1 > 2 -> false;is_integer(1.0) -> false;nil -> false;true -> \"実行されない\" end)'"
      ],
      "execution_count": null,
      "outputs": []
    },
    {
      "cell_type": "markdown",
      "metadata": {
        "id": "po6Ej27qQK9R"
      },
      "source": [
        "if と unless について\n",
        "\n",
        "評価する条件が 1つだけのときに if と unless を使う。\n",
        "\n",
        "if と unless は elixir のマクロとして定義されている。"
      ]
    },
    {
      "cell_type": "code",
      "metadata": {
        "id": "aNrkB_Hhlh1M"
      },
      "source": [
        "!elixir -e 'IO.puts (if true do \"実行する\" end)'\n",
        "!elixir -e 'IO.puts (if !0 do true; else false end)'"
      ],
      "execution_count": null,
      "outputs": []
    },
    {
      "cell_type": "code",
      "metadata": {
        "id": "KEE_Zk0-J7pC"
      },
      "source": [
        "# unless は if の逆 \n",
        "!elixir -e 'IO.puts (unless 0 do \"実行されない\" else \"なぜか\" end)'"
      ],
      "execution_count": null,
      "outputs": []
    },
    {
      "cell_type": "markdown",
      "metadata": {
        "id": "cIOHD8KnKNib"
      },
      "source": [
        "if , unless いずれも後置はできない。"
      ]
    },
    {
      "cell_type": "markdown",
      "metadata": {
        "id": "A-L0vdJdKlQb"
      },
      "source": [
        "**do/end ブロック について**\n",
        "\n",
        "do/end ブロックを 1つの式で書くことができる。"
      ]
    },
    {
      "cell_type": "code",
      "metadata": {
        "id": "y6pvoaNTVAuI"
      },
      "source": [
        "!elixir -e 'IO.puts if(0<1, do: 1+2)'\n",
        "!elixir -e 'IO.puts if(false, do: :this, else: :that)'\n",
        "!elixir -e 'IO.puts if(false, [do: :this, else: :that])'\n",
        "!elixir -e 'IO.puts if(true, do: (x=2; x*x))'"
      ],
      "execution_count": null,
      "outputs": []
    },
    {
      "cell_type": "markdown",
      "metadata": {
        "id": "e3AKiFpjVs-j"
      },
      "source": [
        "if 式を引数にする時は丸括弧で囲む。"
      ]
    },
    {
      "cell_type": "code",
      "metadata": {
        "id": "CvR4oDIOV0xK"
      },
      "source": [
        "!elixir -e 'IO.puts is_number(if true do 2 end)'"
      ],
      "execution_count": null,
      "outputs": []
    },
    {
      "cell_type": "markdown",
      "metadata": {
        "id": "ru9hX1sGLPi8"
      },
      "source": [
        "# バイナリ binary と文字列 string および文字リスト charlist\n",
        "\n",
        "どうもよくわからないなぁ、と思っていたら、elixir での binary, string, charlist が特別なのだね。 パソコンでよく、テキストファイルとかバイナリーファイルとか言うのと関係ない。 \n",
        "\n",
        "* ダブルクオートで囲まれた文字列は binary\n",
        "* シングルクオートで囲まれた文字列は charlist\n",
        "* charlist は erlang との整合性のためにあるみたい\n",
        "* びっくりしないようにひと通り学んでおく。使うことはないみたい\n",
        "* 出てきたら、to_string で文字列にすればよい\n"
      ]
    },
    {
      "cell_type": "code",
      "metadata": {
        "id": "DpD4QQameKnv"
      },
      "source": [
        "!elixir -e 'IO.puts is_binary(\"hello\")'\n",
        "!elixir -e 'IO.puts is_binary(\"こんにちは!!!\")'\n",
        "!elixir -e 'IO.puts byte_size(\"hello\")'\n",
        "!elixir -e 'IO.puts byte_size(\"こんにちは!!!\")'\n",
        "!elixir -e 'IO.puts String.length(\"hello\")'\n",
        "!elixir -e 'IO.puts String.length(\"こんにちは!!!\")'"
      ],
      "execution_count": null,
      "outputs": []
    },
    {
      "cell_type": "code",
      "metadata": {
        "id": "sH_Vs3wnepG0"
      },
      "source": [
        "!elixir -e 'IO.puts ?a'\n",
        "!elixir -e 'IO.puts ?あ'"
      ],
      "execution_count": null,
      "outputs": []
    },
    {
      "cell_type": "markdown",
      "metadata": {
        "id": "pqbUiTWxPcqX"
      },
      "source": [
        "上の例は文字のコードポイントは `?` で得られるということなのだが、これは関数か?"
      ]
    },
    {
      "cell_type": "code",
      "metadata": {
        "id": "PyBqG6p9PqD1"
      },
      "source": [
        "# 次のようにするとエラーになるので、関数ではなさそう。 演算子か?\n",
        "# !elixir -e 'require IEx.Helpers; IEx.Helpers.h ?'"
      ],
      "execution_count": null,
      "outputs": []
    },
    {
      "cell_type": "code",
      "metadata": {
        "id": "wUVsH3f7S7fJ"
      },
      "source": [
        "# 正規表現で日本語 (2バイト文字) とかを検索置換\n",
        "# ([\\u3400-\\u4DBF\\u4E00-\\u9FFF\\uF900-\\uFAFF]|[\\uD840-\\uD87F][\\uDC00-\\uDFFF]|[ぁ-んア-ヶー]|[0-9])\n",
        "# [亜-熙ぁ-んァ-ヶ][ぁ-ん][ァ-ヶ][亜-熙]々〇〻\n",
        "# 意味を考えてみよう\n",
        "# 結論 [、-힣] がよいと思う。 もう少し考えよう\n",
        "!elixir -e 'IO.puts Integer.to_string(?亜,16)' #=> 4E9C\n",
        "!elixir -e 'IO.puts Integer.to_string(?熙,16)' #=> 7199\n",
        "!elixir -e 'IO.puts Integer.to_string(?鿕,16)' #=> 9FD5\n",
        "!elixir -e 'IO.puts Integer.to_string(?힣,16)' #=> D7A3\n",
        "!echo\n",
        "!elixir -e 'IO.puts Integer.to_string(?、,16)' #=> 3001\n",
        "!elixir -e 'IO.puts Integer.to_string(?々,16)' #=> 3005\n",
        "!elixir -e 'IO.puts Integer.to_string(?〇,16)' #=> 3007\n",
        "!elixir -e 'IO.puts Integer.to_string(?〻,16)' #=> 303B\n",
        "!echo\n",
        "!elixir -e 'IO.puts Integer.to_string(?ぁ,16)' #=> 3041\n",
        "!elixir -e 'IO.puts Integer.to_string(?あ,16)' #=> 3042\n",
        "!elixir -e 'IO.puts Integer.to_string(?っ,16)' #=> 3063\n",
        "!elixir -e 'IO.puts Integer.to_string(?ょ,16)' #=> 3087\n",
        "!elixir -e 'IO.puts Integer.to_string(?ん,16)' #=> 3093\n",
        "!echo\n",
        "!elixir -e 'IO.puts Integer.to_string(?ァ,16)' #=> 30A1\n",
        "!elixir -e 'IO.puts Integer.to_string(?ア,16)' #=> 30A2\n",
        "!elixir -e 'IO.puts Integer.to_string(?ッ,16)' #=> 30C3\n",
        "!elixir -e 'IO.puts Integer.to_string(?ン,16)' #=> 30F3\n",
        "!echo\n",
        "!elixir -e 'IO.puts Integer.to_string(?ヶ,16)' #=> 30F6\n",
        "!elixir -e 'IO.puts Integer.to_string(?ー,16)' #=> 30FC\n",
        "!echo\n",
        "!elixir -e 'IO.puts Integer.to_string(?ｱ,16)' #=> FF71\n",
        "!elixir -e 'IO.puts Integer.to_string(?ﾝ,16)' #=> FF9D"
      ],
      "execution_count": null,
      "outputs": []
    },
    {
      "cell_type": "code",
      "metadata": {
        "id": "m_ZQyvooeTGl"
      },
      "source": [
        "# String.codepoint\n",
        "!elixir -e 'IO.inspect String.codepoints(\"hello\")'\n",
        "!elixir -e 'IO.inspect String.codepoints(\"こんにちは!!!!\")'"
      ],
      "execution_count": null,
      "outputs": []
    },
    {
      "cell_type": "code",
      "metadata": {
        "id": "PfCcIyDJfSGt"
      },
      "source": [
        "# ばいなり binary 関数 <<>> にバイトシーケンスを渡す\n",
        "!elixir -e 'IO.inspect <<0,1,2,3>>'\n",
        "!elixir -e 'IO.puts byte_size <<0,1,2,3>>'\n",
        "!elixir -e 'IO.puts <<230,139,157,229,149,147>>'\n",
        "!elixir -e 'IO.puts byte_size <<230,139,157,229,149,147>>'"
      ],
      "execution_count": null,
      "outputs": []
    },
    {
      "cell_type": "code",
      "metadata": {
        "id": "Ba-pfvBegFFH"
      },
      "source": [
        "# バイトシーケンスは文字列の時もあるし、そうでないときもある\n",
        "!elixir -e 'IO.puts String.valid?(<<239, 191, 19>>)'\n",
        "!elixir -e 'IO.puts String.valid?(<<230, 139, 157, 229, 149, 147>>)'"
      ],
      "execution_count": null,
      "outputs": []
    },
    {
      "cell_type": "code",
      "metadata": {
        "id": "Dp4KommR-G6Q"
      },
      "source": [
        "# `<>` 演算子は文字列をつなぐだけでなく、バイナリをつなぐ演算子\n",
        "!elixir -e 'IO.inspect <<0,1>> <> <<2,3>>'"
      ],
      "execution_count": null,
      "outputs": []
    },
    {
      "cell_type": "code",
      "metadata": {
        "id": "BzRcHOoi-sLa"
      },
      "source": [
        "# 文字列のバイトシーケンスは 0 バイトをつないでみる\n",
        "!elixir -e 'IO.inspect \"こんにちは!!!!\" <> <<0>>'\n",
        "!elixir -e 'IO.inspect \"、힣\" <> <<0>>'"
      ],
      "execution_count": null,
      "outputs": []
    },
    {
      "cell_type": "code",
      "metadata": {
        "id": "JQytHkc9_fUy"
      },
      "source": [
        "# 以下の例は意味がわからない\n",
        "# それより、これを利用して 2 バイトコードを utf-8 コードに変換できないのか"
      ],
      "execution_count": null,
      "outputs": []
    },
    {
      "cell_type": "code",
      "metadata": {
        "id": "QNY_VHDh__kq"
      },
      "source": [
        "# バイナリの各バイトは 0 から 255 までの整数\n",
        "# 256以上の整数を与えると、デフォルトでは剰余が取られる\n",
        "# size によるビット数やエンコーディングの指定により、値を変換することも可能\n",
        "!elixir -e 'IO.inspect <<256>>' #=> <<0>>\n",
        "!elixir -e 'IO.inspect <<256 :: size(16)>>' #=> <<1, 0>>\n",
        "!elixir -e 'IO.inspect <<256 :: utf8>>' #=> \"Ā\"\n",
        "!elixir -e 'IO.inspect <<256 :: utf8, 97>>' #=> \"Āa\"\n",
        "!elixir -e 'IO.inspect <<256 :: utf8, 97, 0>>'  #=> <<196, 128, 97, 0>>"
      ],
      "execution_count": null,
      "outputs": []
    },
    {
      "cell_type": "code",
      "metadata": {
        "id": "FCNom3TjX0U-"
      },
      "source": [
        "# 1ビット (size(1) )に変換すると、値は 0 か 1 にかぎられる\n",
        "# すると、バイナリでなくビットストリングとして扱われる\n",
        "# バイナリかビットストリングかは関数 is_binary と is_bitstring で確かめられる\n",
        "!elixir -e 'IO.inspect <<1 :: size(1)>>' #= <<1::size(1)>>\n",
        "!elixir -e 'IO.inspect <<2 :: size(1)>> # truncated' #=><<0::size(1)>>\n",
        "!elixir -e 'IO.inspect is_binary(<<1 :: size(1)>>)' #=>false\n",
        "!elixir -e 'IO.inspect is_bitstring(<<1 :: size(1)>>)' #=> true\n",
        "!elixir -e 'IO.inspect bit_size(<< 1 :: size(1)>>)' #=> 1"
      ],
      "execution_count": null,
      "outputs": []
    },
    {
      "cell_type": "code",
      "metadata": {
        "id": "FD5fDQySYo7S"
      },
      "source": [
        "# バイナリも8ビットずつに分けたビットストリング\n",
        "!elixir -e 'IO.inspect  is_binary(<<1 :: size(16)>>)' #=> true\n",
        "!elixir -e 'IO.inspect is_bitstring(<<1 :: size(16)>>)' #=> true\n",
        "!elixir -e 'IO.inspect  is_binary(<<1 :: size(15)>>)' #=>false"
      ],
      "execution_count": null,
      "outputs": []
    },
    {
      "cell_type": "code",
      "metadata": {
        "id": "IA9L98B4kHst"
      },
      "source": [
        "# バイナリやビットストリングにパターンマッチングを使う\n",
        "!elixir -e '<<0, 1, x>> = <<0, 1, 2>>; IO.inspect x' #=> 2"
      ],
      "execution_count": null,
      "outputs": []
    },
    {
      "cell_type": "code",
      "metadata": {
        "id": "sqnREoHykbZS"
      },
      "source": [
        "# バイナリの各バイトは8ビットとみなされる\n",
        "# サイズのわからないバイナリを加えたいときは、パターンの最後にbinaryの指定を添える\n",
        "!elixir -e '<<97, x :: binary>> = <<97, 196, 128>>; IO.inspect x' #=> \"Ā\""
      ],
      "execution_count": null,
      "outputs": []
    },
    {
      "cell_type": "code",
      "metadata": {
        "id": "FHN6gINyue_L"
      },
      "source": [
        "# `<>` 演算子でもパターンマッチングが使える\n",
        "!elixir -e 'IO.inspect \"he\" <> rest = \"hello\"; IO.inspect rest'"
      ],
      "execution_count": null,
      "outputs": []
    },
    {
      "cell_type": "markdown",
      "metadata": {
        "id": "BCGUESvnwBr8"
      },
      "source": [
        "**文字リスト charlist について**\n",
        "\n",
        "* 文字リストはコードポイントのリストである\n",
        "* シングルクォーテーションで囲んだリテラルにより作る\n",
        "* ダブルクォーテーション(\"\")は文字列つまりバイナリ、シングルクォーテーションは文字リストを表す"
      ]
    },
    {
      "cell_type": "code",
      "metadata": {
        "id": "KGZ3z-8HwNe1"
      },
      "source": [
        "!elixir -e \"IO.puts is_binary 'hello'\"\n",
        "!elixir -e 'IO.puts is_binary \"hello\"'\n",
        "!elixir -e \"IO.puts is_list 'hello'\"\n",
        "!elixir -e 'IO.puts is_list \"hello\"'\n",
        "!elixir -e \"IO.inspect 'こんち!!!'\"\n",
        "!elixir -e 'IO.inspect \"こんち!!!\"'"
      ],
      "execution_count": null,
      "outputs": []
    },
    {
      "cell_type": "markdown",
      "metadata": {
        "id": "kANqvORWvS0E"
      },
      "source": [
        "* 文字リストは Erlang とのインタフェースによく使われてきた\n",
        "* 文字列と文字リストの間の変換には、関数 to_string と to_charlist を用いる\n",
        "* to_string の引数に渡せるのはリストだけに限らない\n"
      ]
    },
    {
      "cell_type": "code",
      "metadata": {
        "id": "vcGwvysjrI-A"
      },
      "source": [
        "!elixir -e 'IO.inspect to_charlist(\"hello\")' #=> 'hello'\n",
        "!elixir -e 'IO.inspect to_charlist(\"こんにちは!!!\")' #=> [12371, 12435, 12395, 12385, 12399, 33, 33, 33]\n",
        "!elixir -e \"IO.inspect to_string('hello')\" #=> \"hello\"\n",
        "!elixir -e 'IO.inspect to_string([12371, 12435])' #=> \"こん\"\n",
        "!elixir -e 'IO.inspect to_string(:hello)' #=> \"hello\"\n",
        "!elixir -e 'IO.inspect to_string(1)' #=> \"1\""
      ],
      "execution_count": null,
      "outputs": []
    },
    {
      "cell_type": "markdown",
      "metadata": {
        "id": "sfr8a3Ear-gs"
      },
      "source": [
        "* 文字列つまりバイナリをつなぐには `<>` 演算子を用いる\n",
        "* 文字リストは `++` 演算子を用いる"
      ]
    },
    {
      "cell_type": "code",
      "metadata": {
        "id": "udVP1fBcxf6H"
      },
      "source": [
        "!elixir -e \"IO.inspect 'this ' ++ 'works'\" #=> 'this works'\n",
        "!elixir -e 'IO.inspect \"he\" <> \"llo\"' #=> \"hello\""
      ],
      "execution_count": null,
      "outputs": []
    },
    {
      "cell_type": "markdown",
      "metadata": {
        "id": "2VGV7B-LtNR0"
      },
      "source": [
        "# キーワードリストとマップ\n",
        "\n",
        "いわゆる連想配列 associative array、ハッシュ、ディクショナリーと呼ばれるものの exlixir 版がキーワードリストとマップである。\n",
        "\n",
        "キーワードリストは最初の要素がアトムのタプルからなる特別なリストで、関数にオプションを渡すときに用いる。\n",
        "\n",
        "キーワードリストの特徴\n",
        "* アトムである\n",
        "* 順序づけされる\n",
        "* 一意でなくてよい\n",
        "\n",
        "マップの特徴 \n",
        "* キーワードリストと違ってどんな型のキーも使える。\n",
        "* 順序付けされない。\n",
        "* キーの一意性が保証されている。重複したキーが追加された場合は、前の値が置き換えられる。\n",
        "* 変数をマップのキーにできる。\n",
        "* `%{}` 構文で定義する。\n",
        "\n"
      ]
    },
    {
      "cell_type": "code",
      "metadata": {
        "id": "fEaB9W4BD3p6"
      },
      "source": [
        "# キーワードリスト\n",
        "!elixir -e 'list=[{:a,1},{:b,2}];IO.inspect list'\n",
        "!elixir -e 'list=[a: 1, b: 2];IO.inspect list' # 書くのはこっちが便利\n",
        "!elixir -e 'list=[{:a,1},{:b,2}];IO.inspect list==[a: 1, b: 2]'"
      ],
      "execution_count": null,
      "outputs": []
    },
    {
      "cell_type": "code",
      "metadata": {
        "id": "9H-odexhEuvs"
      },
      "source": [
        "!elixir -e 'list=[a: 1, b: 2];list=list++[c: 3];IO.inspect list' # リストなので `++` を使う"
      ],
      "execution_count": null,
      "outputs": []
    },
    {
      "cell_type": "code",
      "metadata": {
        "id": "VTXf-vAoF7Or"
      },
      "source": [
        "!elixir -e 'list=[a: 1, b: 2];list=list++[a: 3];IO.inspect list'"
      ],
      "execution_count": null,
      "outputs": []
    },
    {
      "cell_type": "code",
      "metadata": {
        "id": "Ol_6MTCA6GVr"
      },
      "source": [
        "!elixir -e 'list=[a: 1, b: 2];list=[a: 0]++list;IO.inspect list'"
      ],
      "execution_count": null,
      "outputs": []
    },
    {
      "cell_type": "code",
      "metadata": {
        "id": "4XibpbhSGWnN"
      },
      "source": [
        "!elixir -e 'list=[a: 1, b: 2];list=[a: 0]++list;IO.inspect list[:a]'"
      ],
      "execution_count": null,
      "outputs": []
    },
    {
      "cell_type": "code",
      "metadata": {
        "id": "4gRIGbwjs4sW"
      },
      "source": [
        "# Elixir のライブラリ Ecto は、キーワードリストでデータベースクエリが書ける DSL\n",
        "# query = from w in Weather,\n",
        "#       where: w.prcp > 0,\n",
        "#       where: w.temp < 20,\n",
        "#      select: w"
      ],
      "execution_count": null,
      "outputs": []
    },
    {
      "cell_type": "code",
      "metadata": {
        "id": "H5BrNCcHMnzs"
      },
      "source": [
        "# if マクロの構文はキーワードリストを使っている\n",
        "!elixir -e 'IO.inspect if false, do: :this, else: :that'\n",
        "# キーワードリストが最後の引数の時、括弧を省けるのを利用している\n",
        "!elixir -e 'IO.inspect if false, [do: :this, else: :that]'\n",
        "!elixir -e 'IO.inspect if false, [{:do, :this}, {:else, :that}]'"
      ],
      "execution_count": null,
      "outputs": []
    },
    {
      "cell_type": "markdown",
      "metadata": {
        "id": "nmcbp3KBNQev"
      },
      "source": [
        "キーワードリストでパターンマッチングをするためには、要素の数とその順序までマッチしなければならない。\n",
        "\n",
        "実際に用いられることはほとんどない。"
      ]
    },
    {
      "cell_type": "markdown",
      "metadata": {
        "id": "HQpVqe_eOVAi"
      },
      "source": [
        "---\n",
        "**マップ**\n",
        "\n",
        "マップは `%{}` の構文で作る。\n"
      ]
    },
    {
      "cell_type": "code",
      "metadata": {
        "id": "ZtvjDCA-q1ff"
      },
      "source": [
        "!elixir -e 'IO.inspect map = %{:a => 1, 2 => :b}' #=> %{2 => :b, :a => 1}"
      ],
      "execution_count": null,
      "outputs": []
    },
    {
      "cell_type": "code",
      "metadata": {
        "id": "tx72oY8ArXk4"
      },
      "source": [
        "!elixir -e 'map = %{:a => 1, 2 => :b};IO.inspect map[:a]'\n",
        "!elixir -e 'map = %{:a => 1, 2 => :b};IO.inspect map[2]'\n",
        "!elixir -e 'map = %{:a => 1, 2 => :b};IO.inspect map[:c]' #=> nil"
      ],
      "execution_count": null,
      "outputs": []
    },
    {
      "cell_type": "markdown",
      "metadata": {
        "id": "_fg9eyF-brXy"
      },
      "source": [
        "---\n",
        "キーワードリストとは異なり、パターンマッチングはマップではとても有用である\n",
        "* マップのパターンは、サブセットとマッチする\n",
        "* つまりキーさえマッチしていればマッチする\n",
        "* したがってカラのマップ `%{}` はすべてのマップにマッチする\n"
      ]
    },
    {
      "cell_type": "code",
      "metadata": {
        "id": "1GnIMZX9cCfe"
      },
      "source": [
        "!elixir -e 'IO.inspect %{} = %{:a => 1, 2 => :b}' #=> %{2 => :b, :a => 1}\n",
        "!elixir -e 'IO.inspect %{:a => a} = %{2 => :b, :a => 1}' #=> %{2 => :b, :a => 1}\n",
        "!elixir -e ' %{:a => a} = %{2 => :b, :a => 1}; IO.inspect a' #=> 1\n",
        "# !elixir -e 'IO.inspect %{:c => c} = %{:a => 1, 2 => :b}' #=> MatchError"
      ],
      "execution_count": null,
      "outputs": []
    },
    {
      "cell_type": "code",
      "metadata": {
        "id": "9mtE19SYAYG7"
      },
      "source": [
        "# 変数も使える\n",
        "!elixir -e 'n = 1; map = %{n => :one}; IO.inspect map' #=> %1 => :one}\n",
        "!elixir -e 'n = 1; map = %{n => :one}; IO.inspect map[n]' #=> :one\n",
        "!elixir -e 'n = 1; map = %{n => :one}; IO.inspect %{^n => :one} = %{1 => :one, 2 => :two, 3 => :three}' \n",
        "#=> %{1 => :one, 2 => :two, 3 => :three}"
      ],
      "execution_count": null,
      "outputs": []
    },
    {
      "cell_type": "markdown",
      "metadata": {
        "id": "82nzTlI-BY2l"
      },
      "source": [
        "Map モジュールの便利な関数"
      ]
    },
    {
      "cell_type": "code",
      "metadata": {
        "id": "EpJ8YTXlBeWA"
      },
      "source": [
        "# Map モジュールの便利な関数\n",
        "# Map.get (第3引数はデフォルトnil)\n",
        "# Map.put\n",
        "# Map.to_list\n",
        "!elixir -e 'IO.inspect map = %{:a => 1, 2 => :b}' #=> %{2 => :b, :a => 1}\n",
        "!elixir -e 'map = %{:a => 1, 2 => :b}; IO.inspect Map.get(map, :a)' #=> 1\n",
        "!elixir -e 'map = %{:a => 1, 2 => :b}; IO.inspect Map.put(map, :c, 3)' #=> %{2 => :b, :a => 1, :c => 3}\n",
        "!elixir -e 'map = %{:a => 1, 2 => :b}; IO.inspect Map.to_list(map)' #=> [{2, :b}, {:a, 1}]"
      ],
      "execution_count": null,
      "outputs": []
    },
    {
      "cell_type": "code",
      "metadata": {
        "id": "O1sUiP4afQp5"
      },
      "source": [
        "# マップのキーの値は `|` を持ちいて変えられる\n",
        "# キーはマップにすでに備わっている必要がある\n",
        "!elixir -e 'IO.inspect map = %{:a => 1, 2 => :b}' #=> %{2 => :b, :a => 1}\n",
        "!elixir -e 'map = %{:a => 1, 2 => :b}; IO.inspect %{map | 2 => :two}' #=> %{2 => :two, :a => 1}\n",
        "# !elixir -e 'map = %{:a => 1, 2 => :b}; IO.inspect %{map | :c => 3}' #=> KeyError"
      ],
      "execution_count": null,
      "outputs": []
    },
    {
      "cell_type": "code",
      "metadata": {
        "id": "NUDLsavSqw_v"
      },
      "source": [
        "# キーを加えるときは Map.put を用いる\n",
        "!elixir -e 'IO.inspect map = %{:a => 1, 2 => :b}' #=> %{2 => :b, :a => 1}\n",
        "!elixir -e 'map = %{:a => 1, 2 => :b}; IO.inspect Map.put(map, :c, 3)' #=> %{2 => :b, :a => 1, :c => 3}"
      ],
      "execution_count": null,
      "outputs": []
    },
    {
      "cell_type": "code",
      "metadata": {
        "id": "kiutF7Cogaqz"
      },
      "source": [
        "# マップでキーが重複したときは、あとの値で上書きされる\n",
        "!elixir -e 'map = %{:a => 1, 2 => :b}; IO.inspect %{:a => 1, 2 => :b, :a => :one}'\n",
        "#=> %{2 => :b, :a => :one}"
      ],
      "execution_count": null,
      "outputs": []
    },
    {
      "cell_type": "code",
      "metadata": {
        "id": "FpAq2ItDfNxs"
      },
      "source": [
        "# マップの中のキーがすべてアトムの場合は、次のように出力される\n",
        "!elixir -e 'IO.inspect %{:a => 1, :b => 2}' #=> %{a: 1, b: 2}"
      ],
      "execution_count": null,
      "outputs": []
    },
    {
      "cell_type": "code",
      "metadata": {
        "id": "89lkprhDiASH"
      },
      "source": [
        "# この構文はマップを作る時にも使える\n",
        "!elixir -e 'IO.inspect %{apple: \"りんご\"}'"
      ],
      "execution_count": null,
      "outputs": []
    },
    {
      "cell_type": "code",
      "metadata": {
        "id": "0NDpxZ1thNT7"
      },
      "source": [
        "# アトムのキーはドット.でも参照できる\n",
        "!elixir -e 'map = %{:a => 1, 2 => :b}; IO.inspect map.a' #=> 1\n",
        "# !elixir -e 'IO.inspect map.2 #=> SyntaxError\n",
        "!elixir -e 'map = %{:a => 1, 2 => :b}; IO.inspect map[2]' #=> :b\n",
        "# !elixir -e 'map = %{:a => 1, 2 => :b}; IO.inspect map.c' #=> KeyError not found"
      ],
      "execution_count": null,
      "outputs": []
    },
    {
      "cell_type": "markdown",
      "metadata": {
        "id": "7shr1dH1DSwE"
      },
      "source": [
        "elixir の開発では Mapモジュールの関数より、map.field の構文とパターンマッチングでマップを扱う方が好まれる。\n",
        "\n",
        "わかりやすいスタイルでプログラミングができるからだろう。\n",
        "\n",
        "参照: \n",
        "http://blog.plataformatec.com.br/2014/09/writing-assertive-code-with-elixir/"
      ]
    },
    {
      "cell_type": "code",
      "metadata": {
        "id": "LNZhj9a7Dtvp"
      },
      "source": [
        "%%writefile temp.exs\n",
        "defmodule Get_token do\n",
        "    def get_token(string) do\n",
        "        parts = String.split(string, \"&\")\n",
        "        Enum.find_value(parts, fn pair ->\n",
        "            [key, value] = String.split(pair, \"=\")\n",
        "            key == \"token\" && value\n",
        "        end)\n",
        "    end\n",
        "end\n",
        "\n",
        "str = \"foo=bar&token=tokenvalue&bar=baz\"\n",
        "\n",
        "IO.inspect Get_token.get_token(str)"
      ],
      "execution_count": null,
      "outputs": []
    },
    {
      "cell_type": "code",
      "metadata": {
        "id": "_zGIE_VwEOiF"
      },
      "source": [
        "!elixir temp.exs"
      ],
      "execution_count": null,
      "outputs": []
    },
    {
      "cell_type": "markdown",
      "metadata": {
        "id": "FuX-v0E8Vf06"
      },
      "source": [
        "# 入れ子のデータ構造\n",
        "\n",
        "* マップやキーワードリストは、それぞれ入れ子にできる\n",
        "* マップとキーワードリストを互いに入れ子にすることも可能\n",
        "* 値はそれぞれの構文を組み合わせて得られる\n",
        "\n"
      ]
    },
    {
      "cell_type": "code",
      "metadata": {
        "id": "dD0Q6rGKaMb2"
      },
      "source": [
        "!elixir -e 'IO.inspect users = [john: %{name: \"John\", age: 27, languages: [\"Erlang\", \"Ruby\", \"Elixir\"]}, mary: %{name: \"Mary\", age: 29, languages: [\"Elixir\", \"F#\", \"Clojure\"]}]' "
      ],
      "execution_count": null,
      "outputs": []
    },
    {
      "cell_type": "code",
      "metadata": {
        "id": "CWlsyspLaxs4"
      },
      "source": [
        "# !elixir -e 'IO.inspect users[:mary] <= users はキーワードリストなので map.field 構文は使えない\n",
        "!elixir -e 'users = [john: %{name: \"John\", age: 27, languages: [\"Erlang\", \"Ruby\", \"Elixir\"]}, mary: %{name: \"Mary\", age: 29, languages: [\"Elixir\", \"F#\", \"Clojure\"]}]; IO.inspect users[:mary]' \n",
        "# !elixir -e 'IO.inspect users[:john].age <= john は map なので map.field 構文が使える\n",
        "!elixir -e 'users = [john: %{name: \"John\", age: 27, languages: [\"Erlang\", \"Ruby\", \"Elixir\"]}, mary: %{name: \"Mary\", age: 29, languages: [\"Elixir\", \"F#\", \"Clojure\"]}]; IO.inspect users[:john].age' \n"
      ],
      "execution_count": null,
      "outputs": []
    },
    {
      "cell_type": "code",
      "metadata": {
        "id": "3p9q8Ho2Z7Y_"
      },
      "source": [
        "# 値を書き替えるには put_in を用いる\n",
        "# !elixir -e 'IO.inspect users = put_in(users[:john].age, 31)\n",
        "!elixir -e 'users = [john: %{name: \"John\", age: 27, languages: [\"Erlang\", \"Ruby\", \"Elixir\"]}, mary: %{name: \"Mary\", age: 29, languages: [\"Elixir\", \"F#\", \"Clojure\"]}]; IO.inspect users = put_in(users[:john].age, 31)' \n",
        "# !elixir -e 'IO.inspect users[:john].age\n",
        "!elixir -e 'users = [john: %{name: \"John\", age: 27, languages: [\"Erlang\", \"Ruby\", \"Elixir\"]}, mary: %{name: \"Mary\", age: 29, languages: [\"Elixir\", \"F#\", \"Clojure\"]}]; IO.inspect users = put_in(users[:john].age, 31); IO.inspect users[:john].age' \n"
      ],
      "execution_count": null,
      "outputs": []
    },
    {
      "cell_type": "code",
      "metadata": {
        "id": "zhH4IsF5cVh0"
      },
      "source": [
        "# update_in マクロは、第 1 引数の値を第 2 引数に渡した関数で処理する\n",
        "%%writefile temp.exs\n",
        "users = [john: %{name: \"John\", age: 27, languages: [\"Erlang\", \"Ruby\", \"Elixir\"]}, mary: %{name: \"Mary\", age: 29, languages: [\"Elixir\", \"F#\", \"Clojure\"]}]\n",
        "\n",
        "IO.inspect users\n",
        "\n",
        "IO.inspect users = update_in(users[:mary].languages, fn languages ->\n",
        "     List.delete(languages, \"Clojure\")\n",
        "   end)\n",
        "\n",
        "IO.inspect users[:mary].languages"
      ],
      "execution_count": null,
      "outputs": []
    },
    {
      "cell_type": "code",
      "metadata": {
        "id": "jQLIpPcvhTBS"
      },
      "source": [
        "!elixir temp.exs"
      ],
      "execution_count": null,
      "outputs": []
    },
    {
      "cell_type": "markdown",
      "metadata": {
        "id": "vjZln1e4hBar"
      },
      "source": [
        "**その他**\n",
        "* get_and_update_in\n",
        "* put_in\n",
        "* update_in\n",
        "* get_and_update_in"
      ]
    },
    {
      "cell_type": "markdown",
      "metadata": {
        "id": "nJbPOSIzkBZC"
      },
      "source": [
        "# モジュールと関数\n",
        "\n",
        "elixir はモジュールに関数をまとめてグループ化する。\n",
        "\n",
        "たとえば、String.length は UTF-8 の Unicode 文字数を調べる String モジュールの関数である。\n",
        "\n",
        "モジュールを作るには、defmodule マクロを用いる。\n",
        "\n",
        "モジュールの中に関数を作るのが def マクロである。"
      ]
    },
    {
      "cell_type": "code",
      "metadata": {
        "id": "2jUj4drutj2_"
      },
      "source": [
        "%%writefile temp.exs\n",
        "defmodule Math do\n",
        "   def sum(a, b) do\n",
        "     a + b\n",
        "   end\n",
        "end\n",
        "\n",
        "IO.puts Math.sum(1, 2)"
      ],
      "execution_count": null,
      "outputs": []
    },
    {
      "cell_type": "code",
      "metadata": {
        "id": "GCyTKXsgt7Px"
      },
      "source": [
        "!elixir temp.exs"
      ],
      "execution_count": null,
      "outputs": []
    },
    {
      "cell_type": "code",
      "metadata": {
        "id": "b0B0aSx0EdGt"
      },
      "source": [
        "# 実験 シェルワンライナー\n",
        "!elixir -e 'IO.inspect (&(&1+&2)).(1,2)'"
      ],
      "execution_count": null,
      "outputs": []
    },
    {
      "cell_type": "markdown",
      "metadata": {
        "id": "aNEFoTetGQ63"
      },
      "source": [
        "# mix というビルドツール\n",
        "\n",
        "コンパイル、テスト、依存関係の管理などがこのツールの役割\n",
        "\n",
        "Elixirのプロジェクトでは、次の3つのディレクトリにファイルを納める\n",
        "\n",
        "* ebin - コンパイルされたバイトコードファイル\n",
        "* lib - Elixirコードファイル (拡張子.ex)\n",
        "* test - テストファイル (拡張子.exs)"
      ]
    },
    {
      "cell_type": "code",
      "metadata": {
        "id": "g08w6tG8je8R"
      },
      "source": [
        "# defp は外から参照させないプライベートな関数を定義するために用いる\n",
        "# defmodule Math do\n",
        "#   defp do_sum(a, b) do\n",
        "#     a + b\n",
        "#   end\n",
        "# end\n",
        "\n",
        "# IO.puts Math.do_sum(1, 2) #=> UndefinedFunctionError"
      ],
      "execution_count": null,
      "outputs": []
    },
    {
      "cell_type": "code",
      "metadata": {
        "id": "E-nNET93V_Ek"
      },
      "source": [
        "# 関数の引数に条件を加えることができ、上からマッチして行って、どれにも合致しないとエラーになる\n",
        "%%writefile temp.exs\n",
        "defmodule Math do\n",
        "  def zero?(0) do\n",
        "    true\n",
        "  end\n",
        "\n",
        "  def zero?(x) when is_integer(x) do\n",
        "    false\n",
        "  end\n",
        "end\n",
        "\n",
        "IO.puts Math.zero?(0)   #=> true\n",
        "IO.puts Math.zero?(1)   #=> false\n",
        "# IO.puts Math.zero?([1]) #=> ** (FunctionClauseError)\n",
        "# IO.puts Math.zero?(0.0) #=> ** (FunctionClauseError)\n"
      ],
      "execution_count": null,
      "outputs": []
    },
    {
      "cell_type": "code",
      "metadata": {
        "id": "_RPrYTeTMrgF"
      },
      "source": [
        "!elixir temp.exs"
      ],
      "execution_count": null,
      "outputs": []
    },
    {
      "cell_type": "markdown",
      "metadata": {
        "id": "AdBTSQNSrMYg"
      },
      "source": [
        "メモ\n",
        "\n",
        "ということはランタイムエラーだね。 型で事前にエラーを予防することはできないのか。 そういうタイプの言語ではない、ということか。"
      ]
    },
    {
      "cell_type": "code",
      "metadata": {
        "id": "qgdFxR72MqEN"
      },
      "source": [
        "# if と同様に、名前つき関数はキーワードリストの do:を用いて 1行で簡略に書くことができる\n",
        "%%writefile temp.exs\n",
        "defmodule Math do\n",
        "  def zero?(0), do: \"too true\"\n",
        "  def zero?(x) when is_integer(x), do: \"not true\"\n",
        "end\n",
        "\n",
        "IO.puts Math.zero?(0) \n",
        "IO.puts Math.zero?(1)"
      ],
      "execution_count": null,
      "outputs": []
    },
    {
      "cell_type": "code",
      "metadata": {
        "id": "ayo0DlRQsbuo"
      },
      "source": [
        "!elixir temp.exs"
      ],
      "execution_count": null,
      "outputs": []
    },
    {
      "cell_type": "markdown",
      "metadata": {
        "id": "nGeLGXS8sZ82"
      },
      "source": [
        "**関数のキャプチャ**\n",
        "\n",
        "* Elixirは無名関数と名前つき関数を区別する\n",
        "* 無名関数の納められた変数から関数を呼び出すには、変数のあとにドット `.` を添える\n",
        "* 名前付き関数を変数に入れるにはキャプチャ演算子 `&/1` を用いる。アリティ必須\n",
        "* is_function は引数が関数かどうかを確かめる関数\n"
      ]
    },
    {
      "cell_type": "code",
      "metadata": {
        "id": "Pc5IEsAPQln3"
      },
      "source": [
        "!elixir -e 'IO.puts :math.exp(1)'\n",
        "!elixir -e 'IO.inspect fun=&:math.exp/1'\n",
        "!elixir -e 'fun=&:math.exp/1; IO.inspect is_function(fun)'\n",
        "!elixir -e 'fun=&:math.exp/1; IO.inspect fun.(0)'"
      ],
      "execution_count": null,
      "outputs": []
    },
    {
      "cell_type": "code",
      "metadata": {
        "id": "2T5UYxr6HGHk"
      },
      "source": [
        "# 実験 アリティ必須、括弧はどうか\n",
        "!elixir -e 'IO.inspect is_fun=&(is_function/1)'\n",
        "!elixir -e 'IO.inspect is_fun=&is_function/1'\n",
        "!elixir -e 'IO.inspect is_fun=&:erlang.is_function/1'"
      ],
      "execution_count": null,
      "outputs": []
    },
    {
      "cell_type": "code",
      "metadata": {
        "id": "RmZMZR_aNKBT"
      },
      "source": [
        "# 実験 変数に入れた関数は変数と引数の間にドット `.` が必要\n",
        "!elixir -e 'is_fun=&is_function/1; IO.inspect is_function(is_fun)'\n",
        "!elixir -e 'is_fun=&is_function/1; IO.inspect is_fun.(&is_function/1)'\n",
        "!elixir -e 'IO.inspect is_function(&is_number/1)'\n",
        "!elixir -e 'IO.inspect (&is_number/1).(\"け\")'\n",
        "!elixir -e 'IO.inspect is_number(\"け\")'"
      ],
      "execution_count": null,
      "outputs": []
    },
    {
      "cell_type": "code",
      "metadata": {
        "id": "CIbtOoqaQXga"
      },
      "source": [
        "# 無名関数の場合 `&/1` 演算子で短く書ける\n",
        "!elixir -e 'IO.inspect square = fn(x) -> x * x end'\n",
        "!elixir -e 'IO.inspect square = &(&1*&1)'\n",
        "!elixir -e ' square = &(&1*&1); IO.puts square.(3)'\n",
        "!elixir -e 'IO.puts (&(&1*&1)).(3)'"
      ],
      "execution_count": null,
      "outputs": []
    },
    {
      "cell_type": "code",
      "metadata": {
        "id": "b85FwnAYlAF8"
      },
      "source": [
        "# 無名関数の組み合わせ\n",
        "!elixir -e 'square = &(&1*&1); square_sum = &(square.(&1) + square.(&2)); IO.puts square_sum.(3,4)' #=> 25\n",
        "!elixir -e 'square = &(&1*&1);IO.puts (&(square.(&1) + square.(&2))).(3,4)' #=> 25\n"
      ],
      "execution_count": null,
      "outputs": []
    },
    {
      "cell_type": "code",
      "metadata": {
        "id": "5dXD57eHmorx"
      },
      "source": [
        "# モジュールの関数を変数でキャプチャすると、モジュールなしで呼び出せるようになる\n",
        "# List.flatten/2は引数の 2 つのリストをつなげたうえで、入れ子を平坦化する関数\n",
        "!elixir -e 'IO.inspect flatten=&List.flatten(&1,&2)' # 引数を入れた場合はアリティは要らない\n",
        "!elixir -e 'flatten=&List.flatten(&1,&2); IO.inspect flatten.([1, [[2], 3]], [4, 5])' #=> [1, 2, 3, 4, 5]\n",
        "!elixir -e 'IO.inspect List.flatten([1,[[2],3]])' #=> アリティ 1 の場合\n",
        "# !elixir -e 'IO.inspect List.flatten([1,[[2],3]],[4,5],[6,7])' #=> UndefinedFunctionError"
      ],
      "execution_count": null,
      "outputs": []
    },
    {
      "cell_type": "code",
      "metadata": {
        "id": "r_v-_rJ4kcwW"
      },
      "source": [
        "# モジュールの関数を利用した新たな関数\n",
        "# mathは Erlang のモジュールで、:math.sqrt/1は平方根を求める関数\n",
        "!elixir -e 'square = &(&1*&1); square_sum = &(square.(&1) + square.(&2)); IO.inspect hypot = &:math.sqrt(square_sum.(&1, &2))'\n",
        "!elixir -e 'square = &(&1*&1); square_sum = &(square.(&1) + square.(&2)); hypot=&:math.sqrt(square_sum.(&1, &2)); IO.puts hypot.(3,4)' #=> 5.0\n",
        "!elixir -e 'hypot = &:math.sqrt(&1 * &1 + &2 * &2); IO.puts hypot.(3,4)'"
      ],
      "execution_count": null,
      "outputs": []
    },
    {
      "cell_type": "code",
      "metadata": {
        "id": "uFjaMZ2woFo7"
      },
      "source": [
        "# デフォルト引数\n",
        "# 名前つき関数の引数には、あとに `\\\\` に続けてデフォルト値を決めることができる\n",
        "%%writefile temp.exs\n",
        "defmodule DefaultTest do\n",
        "  def dowork(x \\\\ \"hello\") do\n",
        "    x\n",
        "  end\n",
        "end\n",
        "IO.puts DefaultTest.dowork() #=> \"hello\"\n",
        "IO.puts DefaultTest.dowork(\"hi\") #=> \"hi\"\n",
        "IO.puts DefaultTest.dowork(1) #=> 1"
      ],
      "execution_count": null,
      "outputs": []
    },
    {
      "cell_type": "code",
      "metadata": {
        "id": "xaN90OJ7pVP8"
      },
      "source": [
        "!elixir temp.exs"
      ],
      "execution_count": null,
      "outputs": []
    },
    {
      "cell_type": "code",
      "metadata": {
        "id": "IW2JJ0xdpQX5"
      },
      "source": [
        "# デフォルト値の値が評価されるのは、関数を定義した時ではなく、関数が呼び出されて\n",
        "# デフォルト値が用いられた時に評価される\n",
        "%%writefile temp.exs\n",
        "defmodule Concat do\n",
        "  def join(a, b, sep \\\\ \" \") do\n",
        "    a <> sep <> b\n",
        "  end\n",
        "end\n",
        "IO.puts Concat.join(\"hello\", \"world\") #=> \"hello world\"\n",
        "IO.puts  Concat.join(\"hello\", \"world\", \", \") #=> \"hello, world\""
      ],
      "execution_count": null,
      "outputs": []
    },
    {
      "cell_type": "code",
      "metadata": {
        "id": "BhdZ4Ay-OZBr"
      },
      "source": [
        "!elixir temp.exs"
      ],
      "execution_count": null,
      "outputs": []
    },
    {
      "cell_type": "code",
      "metadata": {
        "id": "cOrgT_BrOD4i"
      },
      "source": [
        "# 複数の句をもつ関数にも、デフォルト値は使えるが、アリティを同じくする句には、\n",
        "# 関数本体のないヘッダで定義する必要がある\n",
        "%%writefile temp.exs\n",
        "defmodule Greeter do\n",
        "  def hello(name \\\\ nil, language \\\\ \"en\")\n",
        "\n",
        "  def hello(name, language) when is_nil(name) do\n",
        "    phrase(language) <> \"world\"\n",
        "  end\n",
        "\n",
        "  def hello(name, language) do\n",
        "    phrase(language) <> name\n",
        "  end\n",
        "\n",
        "  defp phrase(\"en\"), do: \"hello, \"\n",
        "  defp phrase(\"ja\"), do: \"こんにちは\"\n",
        "end\n",
        "\n",
        "IO.puts Greeter.hello() #=> hello, world\n",
        "IO.puts Greeter.hello(\"alice\") #=> hello, alice\n",
        "IO.puts Greeter.hello(\"太郎\", \"ja\") #=> こんにちは太郎"
      ],
      "execution_count": null,
      "outputs": []
    },
    {
      "cell_type": "code",
      "metadata": {
        "id": "UMavkGYdPAB1"
      },
      "source": [
        "!elixir temp.exs"
      ],
      "execution_count": null,
      "outputs": []
    },
    {
      "cell_type": "code",
      "metadata": {
        "id": "xibflfQyO5Om"
      },
      "source": [
        "# 関数のデフォルト値とパターンマッチングを使った例\n",
        "# Enum.join/2は、リスト (Enumerable) 要素の間に第 2 引数の文字列を挟んで、バイナリ (文字列) につなげる関数\n",
        "%%writefile temp.exs\n",
        "defmodule Greeter do\n",
        "  def hello(names, language \\\\ \"en\")\n",
        "\n",
        "  def hello(names, language) when is_list(names) do\n",
        "    hello(Enum.join(names, \", \"), language)\n",
        "  end\n",
        "\n",
        "  def hello(name, language) when is_binary(name) do\n",
        "    phrase(language) <> name\n",
        "  end\n",
        "\n",
        "  defp phrase(\"en\"), do: \"hello, \"\n",
        "  defp phrase(\"ja\"), do: \"こんにちは\"\n",
        "end\n",
        "\n",
        "IO.puts  Greeter.hello(\"alice\") #=> \"hello, alice\"\n",
        "IO.puts  Greeter.hello([\"alice\", \"carroll\"]) #=> \"hello, alice, carroll\"\n",
        "IO.puts  Greeter.hello([\"桃太郎\", \"金太郎\", \"浦島太郎\"], \"ja\") #=> \"こんにちは桃太郎, 金太郎, 浦島太郎\""
      ],
      "execution_count": null,
      "outputs": []
    },
    {
      "cell_type": "code",
      "metadata": {
        "id": "hurCFuUtU6Du"
      },
      "source": [
        "!elixir temp.exs"
      ],
      "execution_count": null,
      "outputs": []
    },
    {
      "cell_type": "code",
      "metadata": {
        "id": "kkZbxkt_VuNi"
      },
      "source": [
        "# 上のコードの最初の関数は、パイプ演算子 `|>` を用いると、すっきりと書き替えられる\n",
        "# `|>` は左オペランドの値を、右オペランドの関数に第 1 引数として渡す演算子\n",
        "%%writefile temp.exs\n",
        "defmodule Greeter do\n",
        "  def hello(names, language \\\\ \"en\")\n",
        "\n",
        "  def hello(names, language) when is_list(names) do\n",
        "    names\n",
        "    |> Enum.join(\", \")\n",
        "    |> hello(language)\n",
        "  end\n",
        "\n",
        "  def hello(name, language) when is_binary(name) do\n",
        "    phrase(language) <> name\n",
        "  end\n",
        "\n",
        "  defp phrase(\"en\"), do: \"hello, \"\n",
        "  defp phrase(\"ja\"), do: \"こんにちは\"\n",
        "end\n",
        "\n",
        "IO.puts  Greeter.hello(\"alice\") #=> \"hello, alice\"\n",
        "IO.puts  Greeter.hello([\"alice\", \"carroll\"]) #=> \"hello, alice, carroll\"\n",
        "IO.puts  Greeter.hello([\"桃太郎\", \"金太郎\", \"浦島太郎\"], \"ja\") #=> \"こんにちは桃太郎, 金太郎, 浦島太郎\""
      ],
      "execution_count": null,
      "outputs": []
    },
    {
      "cell_type": "code",
      "metadata": {
        "id": "MwPPsMplWDGy"
      },
      "source": [
        "!elixir temp.exs"
      ],
      "execution_count": null,
      "outputs": []
    },
    {
      "cell_type": "markdown",
      "metadata": {
        "id": "O0sPGxNcWnHL"
      },
      "source": [
        "# 再帰 recursion"
      ]
    },
    {
      "cell_type": "code",
      "metadata": {
        "id": "Ahd3sGBNT6WO"
      },
      "source": [
        "# 再帰によるループ\n",
        "\n",
        "# たとえば命令型言語 (#) での次のような処理を関数型言語ではどうかくか\n",
        "\n",
        "# for (i = 0; i < sizeof(array); i++) {\n",
        "#   array[i] = array[i] * 2;\n",
        "# }"
      ],
      "execution_count": null,
      "outputs": []
    },
    {
      "cell_type": "code",
      "metadata": {
        "id": "4mcOkFZ3UyBF"
      },
      "source": [
        "# とりあえずやってみようか \n",
        "# arran はリストで、 処理は Enum.map list function だろう => できたみたいい\n",
        "!elixir -e 'IO.inspect Enum.map [1,2,3], &(&1*2)'"
      ],
      "execution_count": null,
      "outputs": []
    },
    {
      "cell_type": "code",
      "metadata": {
        "id": "MgdPa5_pLXai"
      },
      "source": [
        "# 次の関数は再帰を使って、リストの要素数を数えて返す\n",
        "# 引数でパターンマッチングする\n",
        "# リストが空なら、 1 つ目の関数とマッチし、0 が返され再帰呼び出しはしない\n",
        "# これが終了条件になる\n",
        "# リストに要素があれば、テイルを渡して再帰呼び出しし、その戻り値に1を加える\n",
        "# 再帰呼び出しされるたびに 1 ずつカウントアップされ、空になったとき再帰は止まって合計値が返される\n",
        "\n",
        "%%writefile temp.exs\n",
        "defmodule Length do\n",
        "  def of([]), do: 0\n",
        "  def of([_ | tail]), do: 1 + of(tail)\n",
        "end\n",
        "\n",
        "IO.puts Length.of []\n",
        "IO.puts Length.of [1,2,3]"
      ],
      "execution_count": null,
      "outputs": []
    },
    {
      "cell_type": "code",
      "metadata": {
        "id": "8jjpOq_cMcsA"
      },
      "source": [
        "!elixir temp.exs"
      ],
      "execution_count": null,
      "outputs": []
    },
    {
      "cell_type": "code",
      "metadata": {
        "id": "OvWPGVO6M9bC"
      },
      "source": [
        "# 上のコードの def of([_ | tail]), do: 1 + of(tail)\n",
        "# がわからないので実験\n",
        "!elixir -e '[_ | tail] =[1,2,3]; IO.inspect tail'\n",
        "!elixir -e '[x | tail] =[1,2,3]; IO.inspect x'\n",
        "!elixir -e '[x, y | z] =[1,2,3,4,5]; IO.inspect z'\n",
        "!elixir -e '[x | tail] =[1]; IO.inspect tail'\n",
        "!elixir -e '[x | tail] =[]; IO.inspect x' #=> MatchError\n",
        "!elixir -e '[x | tail] =[]; IO.inspect tail' #=> MatchError\n",
        "!elixir -e 'IO.inspect [1 |[2,3,4]]'"
      ],
      "execution_count": null,
      "outputs": []
    },
    {
      "cell_type": "code",
      "metadata": {
        "id": "3wpjzb_9WMbx"
      },
      "source": [
        "# reduceとmapのアルゴリズム\n",
        "# リストから要素を順に取り出して、 1 つの値にまとめる処理は reduce アルゴリズムと呼ばれる\n",
        "# 次のプログラム要素の数値を合計する\n",
        "# 関数に数値の第 2 引数を加え、ヘッダでデフォルト値 0 を与える\n",
        "# 1 つ目の関数は、リストが空になったら引数の合計値を返して、再帰呼び出しは終わる\n",
        "# 空でなかったら 2 つ目の関数が、テイルと合計値を引数に再帰呼び出しして、ヘッドの値を加える\n",
        "# つまり再帰のたびにヘッドの値を合計値に加えていく\n",
        "%%writefile temp.exs\n",
        "defmodule Sum do\n",
        "  def up(list, accumulator \\\\ 0)\n",
        "  def up([], accumulator), do: accumulator\n",
        "  def up([head | tail], accumulator),\n",
        "    do: up(tail, head + accumulator)\n",
        "end\n",
        "\n",
        "IO.puts Sum.up([1, 2, 3]) #=> 6\n",
        "IO.puts Sum.up([4, 5], 6) #=> 15"
      ],
      "execution_count": null,
      "outputs": []
    },
    {
      "cell_type": "code",
      "metadata": {
        "id": "HX68kgP6INSg"
      },
      "source": [
        "!elixir temp.exs"
      ],
      "execution_count": null,
      "outputs": []
    },
    {
      "cell_type": "code",
      "metadata": {
        "id": "vgDv4eMEHVwf"
      },
      "source": [
        "# リスト要素に処理を加えて、新たなリスト要素に納めて返す処理は map アルゴリズムと呼ばれる\n",
        "# 次の関数はリスト要素の数値を 2 乗して、新たなリストとして返す\n",
        "# なお、 `|` は 2 つのリストを 1 つにつなげる演算子になる\n",
        "%%writefile temp.exs\n",
        "defmodule Sum do\n",
        "  def square([]), do: []\n",
        "  def square([head | tail]), do:\n",
        "    [head * head | square(tail)]\n",
        "end\n",
        "\n",
        "IO.inspect Sum.square([1, 2, 3]) #=> [1, 4, 9]"
      ],
      "execution_count": null,
      "outputs": []
    },
    {
      "cell_type": "code",
      "metadata": {
        "id": "bGv7CtNv9jgr"
      },
      "source": [
        "!elixir temp.exs"
      ],
      "execution_count": null,
      "outputs": []
    },
    {
      "cell_type": "code",
      "metadata": {
        "id": "2Wh1mYlR9g02"
      },
      "source": [
        "# 再帰と末尾呼び出しは末尾再帰 tail call と呼ばれ、map, reduce という関数で最適化されている\n",
        "# このため elixir ではリストの操作に再帰を用いることはほとんどない\n",
        "# 関数 Enum.reduce や Enum.map は次のように用いる\n",
        "\n",
        "!elixir -e 'IO.inspect Enum.reduce([1, 2, 3], 0, fn(x, acc) -> x + acc end)'  #=> 6\n",
        "!elixir -e 'IO.inspect Enum.map([1, 2, 3], fn(x) -> x * x end)'  #=> [1, 4, 9]\n",
        "!echo\n",
        "!elixir -e 'IO.inspect Enum.reduce([1, 2, 3], 0, &+/2)'  #=> 6\n",
        "!elixir -e 'IO.inspect Enum.map([1, 2, 3], &(&1 * &1))'  #=> [1, 4, 9]"
      ],
      "execution_count": null,
      "outputs": []
    },
    {
      "cell_type": "markdown",
      "metadata": {
        "id": "ibVurPW8UwFZ"
      },
      "source": [
        "# Enum と Stream"
      ]
    },
    {
      "cell_type": "code",
      "metadata": {
        "id": "ZKQ4pstDE7LT"
      },
      "source": [
        "# Enum モジュールは列挙型 enumerable のデータを扱う\n",
        "# Enum.map 関数は、第 1 引数のリスト要素を第 2 引数の関数で処理し、新たなリストを得る\n",
        "!elixir -e 'IO.inspect Enum.map([1, 2, 3], fn x -> x * x end)' #=> [1, 4, 9]\n",
        "!elixir -e 'IO.inspect Enum.map([1, 2, 3], &(&1*&1))' #=> [1, 4, 9]\n",
        "!elixir -e 'IO.inspect Enum.map([1, 2, 3], &(:math.pow(&1,2)))' #=> [1.0, 4.0, 9.0]"
      ],
      "execution_count": null,
      "outputs": []
    },
    {
      "cell_type": "code",
      "metadata": {
        "id": "T9EEQ-YvG65f"
      },
      "source": [
        "!elixir -e 'IO.inspect Enum.map(%{2 => :one, 4 => :two}, fn({k, v}) -> {v, div(k, 2)} end)'\n",
        "#=> [one: 1, two: 2]"
      ],
      "execution_count": null,
      "outputs": []
    },
    {
      "cell_type": "markdown",
      "metadata": {
        "id": "tSbzxaT-Iw2b"
      },
      "source": [
        "----\n",
        "メモ\n",
        "\n",
        "上の式の\n",
        "\n",
        "`fn({k, v}) -> {v, div(k, 2)} end`\n",
        "\n",
        "をキャプチャー演算子位で簡略化できるか"
      ]
    },
    {
      "cell_type": "markdown",
      "metadata": {
        "id": "0yAPFIWnvYW3"
      },
      "source": [
        "**Enum モジュール**\n",
        "\n",
        "Enum モジュールには多くの関数があり、変換や並べ替え、グループ化、フィルタ、項目の取り出しなどに用いられる。\n",
        "\n",
        "Elixir の開発で最も使われるモジュールの1 つである。\n",
        "\n",
        "扱うデータは Enumerable プロトコルを実装していればよい。\n",
        "\n",
        "cf. 列挙型、コレクション、リスト\n",
        "\n",
        "* all?、any?\n",
        "* chunk_every、chunk_by、map_every\n",
        "* each\n",
        "* map、filter、reduce\n",
        "* min、max\n",
        "* sort、uniq、uniq_by\n",
        "* キャプチャ演算子 `(&)`"
      ]
    },
    {
      "cell_type": "code",
      "metadata": {
        "id": "LLTUf9UIwU5j"
      },
      "source": [
        "# 連番整数のデータは `../2` で表せる\n",
        "# Enum.reduce は、各データを処理して1 つの値にして返す関数\n",
        "# 第 1 引数のデータを第 3 引数の関数で処理し、その戻り値が次のデータのコールバックに渡される\n",
        "# 第 2 引数は最初のデータのコールバックに渡される初期値である\n",
        "!elixir -e 'IO.inspect Enum.map(1..3, &(&1 * &1))' #=> [1, 4, 9]\n",
        "!elixir -e 'IO.inspect Enum.reduce(1..3, 0, &+/2)' #=> 6 \n",
        "# `&` はキャプチャー演算子\n",
        "# Enum モジュールの仕事は、データの要素の処理 (列挙) に限られる\n",
        "# 要素を差し込んだり、値を書き替えるには、そのデータ型にもとづく操作が必要\n",
        "# 例えばリストに値を差し込むのなら、List モジュールの List.insert_at を使う"
      ],
      "execution_count": null,
      "outputs": []
    },
    {
      "cell_type": "code",
      "metadata": {
        "id": "9LGfK3z1-lR7"
      },
      "source": [
        "# パイプ演算子\n",
        "# パイプ演算子 `|>` は左オペランドの値を左オペランドの第 1 引数に渡す\n",
        "# なお、List.flatten 1は、引数に渡したリスト内の入れ子を平坦化する関数\n",
        "!elixir -e 'IO.inspect [1, [[2], 3]] |> List.flatten' #=> [1, 2, 3]"
      ],
      "execution_count": null,
      "outputs": []
    },
    {
      "cell_type": "code",
      "metadata": {
        "id": "aO8VJ_wG_pST"
      },
      "source": [
        "# 関数の戻り値を次の関数の引数に渡す処理が重なると、関数が入れ子になる\n",
        "# こうした場合にパイプ演算子 `|>` は左の出力を右に入力するという見やすい書き方にできる\n",
        "!elixir -e 'IO.inspect Enum.reduce(Enum.map(1..3, fn x -> x * x end), 0, fn(x, acc) -> x + acc end )' #=> 14"
      ],
      "execution_count": null,
      "outputs": []
    },
    {
      "cell_type": "code",
      "metadata": {
        "id": "yX_0hwd8csTk"
      },
      "source": [
        "# キャプチャー演算子 `&` も併せて使う\n",
        "!elixir -e 'IO.inspect 1..3 |> Enum.map(&(&1 * &1)) |> Enum.reduce(0, &+/2)' #=> 14"
      ],
      "execution_count": null,
      "outputs": []
    },
    {
      "cell_type": "code",
      "metadata": {
        "id": "memshVhsciUv"
      },
      "source": [
        "# ただすべての要素を足せばよいときは Enum.sum が使える\n",
        "!elixir -e 'IO.inspect 1..3 |> Enum.map(&(&1 * &1)) |> Enum.sum' #=> 14"
      ],
      "execution_count": null,
      "outputs": []
    },
    {
      "cell_type": "code",
      "metadata": {
        "id": "WwOn4NjpdOYw"
      },
      "source": [
        "# パイプ演算子 `|>` を使うとき、関数に第 2 引数以降がある場合には、引数をかっこ()で囲む\n",
        "# そうしないと警告が出る\n",
        "!elixir -e 'IO.inspect [1, [[2], 3]] |> List.flatten([4, [5]])' #=> [1, 2, 3, 4, [5]]"
      ],
      "execution_count": null,
      "outputs": []
    },
    {
      "cell_type": "code",
      "metadata": {
        "id": "8PgOOT6EdsPy"
      },
      "source": [
        "# 先行と遅延\n",
        "# Enum モジュールはすべて先行処理である\n",
        "# 1 つ目の関数が直ちに戻り値のリストを返し、そのデータから 2 つ目の関数が結果のリストを作る\n",
        "# データの要素数が膨大になれば、その負荷を考えなければならない\n",
        "!elixir -e 'IO.inspect square = Enum.map(1..3, &(&1 * &1))' #=> [1,4,9]\n",
        "!elixir -e ' square = Enum.map(1..3, &(&1 * &1)); IO.inspect sum = Enum.sum(square)' #=> 14"
      ],
      "execution_count": null,
      "outputs": []
    },
    {
      "cell_type": "code",
      "metadata": {
        "id": "qKLDgJCafXcC"
      },
      "source": [
        "# Stream モジュールは、Enum と同じように Enumerable プロトコルのデータを扱うが\n",
        "# 遅延処理である。 処理を求められるまで、データの取り出し (列挙) は行わない\n",
        "# Stream 型は遅延処理の列挙型である\n",
        "# 例えば `../2` で定めた連番整数は Stream 型である\n",
        "# Stream に対して Enum の関数を呼び出すと、データは遅延実行される\n",
        "# Stream.filter は、第 2 引数のコールバックが true を返す要素だけ取り出す\n",
        "!elixir -e 'IO.inspect range = 1..6'\n",
        "!elixir -e 'range = 1..6; IO.inspect odd = Stream.filter(range, &(rem(&1, 2) != 0))'\n",
        "!elixir -e 'range = 1..6; odd = Stream.filter(range, &(rem(&1, 2) != 0)); IO.inspect square = Stream.map(odd, &(&1 * &1))'\n",
        "!elixir -e 'range = 1..6; odd = Stream.filter(range, &(rem(&1, 2) != 0)); square = Stream.map(odd, &(&1 * &1)); IO.inspect sum = Enum.reduce(square, 0, &(&1 + &2))'"
      ],
      "execution_count": null,
      "outputs": []
    },
    {
      "cell_type": "code",
      "metadata": {
        "id": "tZHXmHH9gnSe"
      },
      "source": [
        "# Stream は、途中経過のリストはつくらず、列挙処理の手順を表す\n",
        "# そして、Enumモジュールの関数に渡されたとき、もとのデータから項目を 1 つずつ取り出す\n",
        "# Stream は膨大なデータを扱うときや、無限を扱う時に有効である\n",
        "# Stream モジュールの関数は、Enumerable のデータを扱い、戻り値はStreamです\n",
        "# また、 Stream を作る関数もある\n",
        "# 、Stream.cycle は引数の列挙型データから無限の Stream を返す\n",
        "# そのまま Enum の関数に渡すと、処理が終わらなくなる\n",
        "# Enum.take は、引数の数だけ取り出して処理する\n",
        "!elixir -e 'IO.inspect [1, 2, 3] |> Stream.cycle |> Enum.take(10)'\n",
        "#=> [1, 2, 3, 1, 2, 3, 1, 2, 3, 1]"
      ],
      "execution_count": null,
      "outputs": []
    },
    {
      "cell_type": "code",
      "metadata": {
        "id": "JUlMhsehn1ac"
      },
      "source": [
        "# Stream.unfold の処理は、Enum.reduce と似ている\n",
        "# ただし、コールバック間で受け渡すデータがタプル {現在値, 集計値} の形をとる\n",
        "# 第 1 引数は初期値である\n",
        "# 数学の数列で第1項と第2項を決めて、それ以降の数を求める考え方である\n",
        "# 終了のための処理がないかぎり無限のStreamになる\n",
        "# 次のコードはフィボナッチ数列から10項を取り出してリストで返す\n",
        "!elixir -e 'IO.inspect fibs = Stream.unfold({1, 1}, fn({n0, n1}) -> {n0, {n1, n0 + n1}} end)'\n",
        "!elixir -e 'fibs = Stream.unfold({1, 1}, fn({n0, n1}) -> {n0, {n1, n0 + n1}} end); IO.inspect Enum.take(fibs, 10)'"
      ],
      "execution_count": null,
      "outputs": []
    },
    {
      "cell_type": "code",
      "metadata": {
        "id": "ohKucbCNxWs_"
      },
      "source": [
        "# えっと、上のコードがわからない\n",
        "# もっと単純な例を作れないか\n",
        "!elixir -e 'fibs = Stream.unfold({1, 2}, fn({n0, n1}) -> {n0, {n1, n1+1}} end); IO.inspect Enum.take(fibs, 10)'\n",
        "!elixir -e 'fibs = Stream.unfold({1, 2}, fn({n0, n1}) -> {n0, {n1, n1*2}} end); IO.inspect Enum.take(fibs, 10)'\n",
        "!elixir -e 'fibs = Stream.unfold({1000, 500}, fn({n0, n1}) -> {n0, {n1, n1/2}} end); IO.inspect Enum.take(fibs, 10)'\n",
        "# 今の考え\n",
        "# haskell は遅延評価がデフォルトであるが、プログラミング言語としてそれでは困るので、 elixir の enum は先行評価\n",
        "# すると無限が扱えなくなるので、Stream がある、ということか"
      ],
      "execution_count": null,
      "outputs": []
    },
    {
      "cell_type": "code",
      "metadata": {
        "id": "1USg_wk1oqDB"
      },
      "source": [
        "# File.stream!/3 は、引数のパスから読み込んだファイルを Stream(File.stream) にする\n",
        "# ストリーミングをはじめると、ファイルは Elixir が自動的に開く\n",
        "# 読み込み終わるか、失敗すると閉じられる\n",
        "# 読み込まれたファイルが処理されると、行単位で要素に分けられたリストになる\n",
        "# Streamは大きなファイルやネットワークの重いリソースを扱うのに適している\n",
        "# はじめは Enum を使って慣れていくのがよい\n",
        "# 遅延処理が必要になったり、重いリソースや膨大なデータを扱うようになったとき、Stream を使う\n",
        "\n",
        "# stream = File.stream!(\"sample_data/README.md\")\n",
        "# %File.Stream{\n",
        "#   line_or_bytes: :line,\n",
        "#   modes: [:raw, :read_ahead, :binary],\n",
        "#   path: \"test.txt\",\n",
        "#   raw: true\n",
        "# }\n",
        "# IO.inspect Enum.take(stream, 10)\n",
        "\n",
        "!elixir -e 'stream = File.stream!(\"sample_data/README.md\"); IO.inspect Enum.take(stream, 20)'\n"
      ],
      "execution_count": null,
      "outputs": []
    },
    {
      "cell_type": "markdown",
      "metadata": {
        "id": "n86Oup1p-jl5"
      },
      "source": [
        "# プロセス process\n",
        "\n",
        "* Elixirではすべてのコードがプロセスの中で動く\n",
        "* プロセスは互いに切り離され、並行して働き、メッセージを受け渡して通信する\n",
        "* プロセスはElixirの並行処理の基礎となるだけでなく、分散性と耐障害性 (フォール* トトレランス) に優れたプログラムの構築に役立つ\n",
        "* Elixirのプロセスを、オペレーティングシステムのプロセスと混同しない\n",
        "* Elixirのプロセスは、メモリやCPUに対してきわめて軽量である\n",
        "* 他の多くのプログラミング言語のスレッドとは異なる\n",
        "* 同時に数万から数十万のプロセスを実行することもめずらしくはない"
      ]
    },
    {
      "cell_type": "markdown",
      "metadata": {
        "id": "WYFG76a__rCg"
      },
      "source": [
        "**spawn**\n",
        "* 新しいプロセスをつくるには、spawn/1関数の呼び出しが基本となる\n",
        "* 引数は別のプロセスで実行する関数で、戻り値はアプリケーションにおける一意のプロセス識別子PIDである\n",
        "* 識別番号は環境により変わる\n",
        "* 次のコードで生成されたプロセスは、与えられた関数を実行したら終了する"
      ]
    },
    {
      "cell_type": "code",
      "metadata": {
        "id": "Dgrgwysf-Qiy",
        "colab": {
          "base_uri": "https://localhost:8080/"
        },
        "outputId": "b72ebedd-c78b-4fd9-89b3-287e0e52026b"
      },
      "source": [
        "!elixir -e 'IO.inspect spawn fn -> 1 * 2 end'"
      ],
      "execution_count": null,
      "outputs": [
        {
          "output_type": "stream",
          "text": [
            "#PID<0.95.0>\n"
          ],
          "name": "stdout"
        }
      ]
    },
    {
      "cell_type": "code",
      "metadata": {
        "id": "dxLiVXQaAG9L",
        "colab": {
          "base_uri": "https://localhost:8080/"
        },
        "outputId": "4ff844b9-271b-4b94-8d69-08559a9f71de"
      },
      "source": [
        "# 現在のプロセスの PID を調べるのは self/0 関数である\n",
        "# その PID を Process.alive?/1 に渡して呼び出せば、プロセスが動いているかどうか確かめられる\n",
        "!elixir -e 'IO.inspect pid = self()'\n",
        "!elixir -e 'pid = self(); IO.inspect Process.alive?(pid)'\n",
        "!elixir -e 'IO.inspect pid = spawn fn -> 1 * 2 end'\n",
        "!elixir -e 'pid = spawn fn -> 1 * 2 end; IO.inspect Process.alive?(pid)'\n"
      ],
      "execution_count": null,
      "outputs": [
        {
          "output_type": "stream",
          "text": [
            "#PID<0.94.0>\n",
            "true\n",
            "#PID<0.95.0>\n",
            "true\n"
          ],
          "name": "stdout"
        }
      ]
    },
    {
      "cell_type": "code",
      "metadata": {
        "id": "-oScc0yXknua",
        "colab": {
          "base_uri": "https://localhost:8080/"
        },
        "outputId": "8d73b088-ebce-4c53-e7ba-dece95539da8"
      },
      "source": [
        "# spawn/3 関数を使えば、モジュールの関数からプロセスがつくれる\n",
        "# 引数はモジュールと関数、および渡す引数のリストである\n",
        "# なお、第 2 引数の関数はアトムで与える\n",
        "%%writefile temp.exs\n",
        "defmodule Example do\n",
        "  def add(a, b) do\n",
        "    IO.puts(a + b)\n",
        "  end\n",
        "end\n",
        "\n",
        "IO.inspect spawn(Example, :add, [2, 3]) #=> 5 #PID<0.99.0>"
      ],
      "execution_count": null,
      "outputs": [
        {
          "output_type": "stream",
          "text": [
            "Overwriting temp.exs\n"
          ],
          "name": "stdout"
        }
      ]
    },
    {
      "cell_type": "code",
      "metadata": {
        "id": "s9uroSbv-p_r",
        "colab": {
          "base_uri": "https://localhost:8080/"
        },
        "outputId": "fe7e90f4-08a4-4faf-e176-a6eb1a42ae2a"
      },
      "source": [
        "!elixir temp.exs"
      ],
      "execution_count": null,
      "outputs": [
        {
          "output_type": "stream",
          "text": [
            "5\n",
            "#PID<0.99.0>\n"
          ],
          "name": "stdout"
        }
      ]
    },
    {
      "cell_type": "code",
      "metadata": {
        "id": "sLVLxSHC-QIS",
        "colab": {
          "base_uri": "https://localhost:8080/"
        },
        "outputId": "98ea6e58-43ed-4048-e203-3cd54a01af07"
      },
      "source": [
        "# 送信と受信\n",
        "# send/2 でメッセージを送り、receive/1 で受け取る\n",
        "# 送られたメッセージはプロセスメールボックスに納められる\n",
        "# すると、receive/1 ブロックが現在のプロセスメールボックスを探し、パターンにマッチしたメッセージを受け取る\n",
        "# receive/1 には case/2 と同じように、ガードと複数の句が含められる\n",
        "\n",
        "!elixir -e 'IO.inspect send self(), {:hello, \"world\"}' #=> {:hello, \"world\"}\n",
        "!elixir -e 'send(self(), {:hello, \"world\"}); IO.inspect(receive do {:hello, msg} -> msg; {:world, _msg} -> \"wont match\" end)'\n",
        "#=> \"world\"\n",
        "!elixir -e 'send(self(), {:world, \"world\"}); IO.inspect(receive do {:hello, msg} -> msg; {:world, _msg} -> \"wont match\" end)'\n",
        "#=> \"wont match\""
      ],
      "execution_count": null,
      "outputs": [
        {
          "output_type": "stream",
          "text": [
            "{:hello, \"world\"}\n",
            "\"world\"\n",
            "\"wont match\"\n"
          ],
          "name": "stdout"
        }
      ]
    },
    {
      "cell_type": "code",
      "metadata": {
        "id": "1VeNRQTEVnZx",
        "colab": {
          "base_uri": "https://localhost:8080/"
        },
        "outputId": "f7caa1ab-eb3a-4fa1-df5a-d12a41196d00"
      },
      "source": [
        "# パターンに合うメッセージがメールボックスになければ、現在のプロセスはマッチするメッセージが届くまで待つ\n",
        "# この場合、タイムアウトも定められる\n",
        "# すでにメッセージがあると想定されるなら、値は 0 にしても構わない\n",
        "# なお、数値には桁区切りのためにアンダースコア_を加えることができる\n",
        "!elixir -e 'IO.inspect(receive do {:hello, msg}  -> msg; after 1_000 -> \"nothing after 1s\" end)' #=> \"nothing after 1s\""
      ],
      "execution_count": null,
      "outputs": [
        {
          "output_type": "stream",
          "text": [
            "\"nothing after 1s\"\n"
          ],
          "name": "stdout"
        }
      ]
    },
    {
      "cell_type": "code",
      "metadata": {
        "id": "ZSsBf2GZedoi",
        "colab": {
          "base_uri": "https://localhost:8080/"
        },
        "outputId": "aa6a38ff-0f54-48d6-8399-f994d0a2e207"
      },
      "source": [
        "#  2 つのプロセス間でメッセージを送ってみる\n",
        "# 次の送信のプロセスは、receive/1 ブロックが受け取って値を返すと、他の処理はないので終了する\n",
        "# なお、inspect/2 関数 (第 2 引数のデフォルト [])は、引数のデータを内部的な文字列表現に変え、主に出力に用いられる\n",
        "\n",
        "!elixir -e 'IO.inspect parent = self()'\n",
        "!elixir -e 'parent = self(); IO.inspect spawn fn -> send(parent, {:hello, self()}) end'\n",
        "!elixir -e 'parent = self(); spawn fn -> send(parent, {:hello, self()}) end; IO.inspect(receive do {:hello, pid} -> \"Got hello from #{inspect pid}\" end)'"
      ],
      "execution_count": null,
      "outputs": [
        {
          "output_type": "stream",
          "text": [
            "#PID<0.94.0>\n",
            "#PID<0.95.0>\n",
            "\"Got hello from #PID<0.95.0>\"\n"
          ],
          "name": "stdout"
        }
      ]
    },
    {
      "cell_type": "code",
      "metadata": {
        "id": "ZZB6QJDYAC1v",
        "colab": {
          "base_uri": "https://localhost:8080/"
        },
        "outputId": "cf417606-5114-47d6-a65b-b5d361726db2"
      },
      "source": [
        "# シェルでメールボックス内のすべてのメッセージを出力して空にするには、ヘルパー関数 flush/0 を使う\n",
        "# iex 上では flush() で機能するが、コマンドラインワンライナー上では IEx.Helpers.flush() とする\n",
        "# 参照 !elixir -e 'require IEx.Helpers; IEx.Helpers.h(IEx.Helpers)' \n",
        "# require IEx.Helpers をする必要はないみたい\n",
        "!elixir -e 'IO.inspect send self(), :hello'\n",
        "!elixir -e 'send self(), :hello; IO.inspect send self(), :world'\n",
        "!elixir -e 'send self(), :hello; send self(), :world; IEx.Helpers.flush()'\n",
        "!elixir -e 'send self(), :hello; send self(), :world; IO.inspect IEx.Helpers.flush()'\n",
        "!elixir -e 'IO.inspect IEx.Helpers.flush()'"
      ],
      "execution_count": null,
      "outputs": [
        {
          "output_type": "stream",
          "text": [
            ":hello\n",
            ":world\n",
            "\u001b[36m:hello\u001b[0m\u001b[33m\n",
            "\u001b[36m:world\u001b[0m\u001b[33m\n",
            "\u001b[36m:hello\u001b[0m\u001b[33m\n",
            "\u001b[36m:world\u001b[0m\u001b[33m\n",
            ":ok\n",
            ":ok\n"
          ],
          "name": "stdout"
        }
      ]
    },
    {
      "cell_type": "code",
      "metadata": {
        "id": "7aPsZJ9vCDeu",
        "colab": {
          "base_uri": "https://localhost:8080/"
        },
        "outputId": "e840c97f-9066-4dce-ca49-08ba2b844ec3"
      },
      "source": [
        "# モジュールの関数からつくったプロセスにもメッセージが送れる\n",
        "# ただし、関数がメッセージを受け取って処理をすると終了するため、次に送るメッセージは受け取れない\n",
        "%%writefile temp.exs\n",
        "defmodule Example do\n",
        "  def listen do\n",
        "    receive do\n",
        "      {:hello, msg} -> IO.puts(msg)\n",
        "    end\n",
        "  end\n",
        "end\n",
        "IO.inspect pid = spawn(Example, :listen, [])\n",
        "IO.inspect send pid, {:hello, \"world\"}\n",
        "IO.inspect send pid, {:hello, \"tokyo\"}"
      ],
      "execution_count": null,
      "outputs": [
        {
          "output_type": "stream",
          "text": [
            "Overwriting temp.exs\n"
          ],
          "name": "stdout"
        }
      ]
    },
    {
      "cell_type": "code",
      "metadata": {
        "id": "_3eaVUSjTpxt",
        "colab": {
          "base_uri": "https://localhost:8080/"
        },
        "outputId": "36370408-ffaf-4d6d-d092-2373c4ba7f99"
      },
      "source": [
        "!elixir temp.exs"
      ],
      "execution_count": null,
      "outputs": [
        {
          "output_type": "stream",
          "text": [
            "#PID<0.99.0>\n",
            "world\n",
            "{:hello, \"world\"}\n",
            "{:hello, \"tokyo\"}\n"
          ],
          "name": "stdout"
        }
      ]
    },
    {
      "cell_type": "code",
      "metadata": {
        "id": "jzxNiUnyTlhj",
        "colab": {
          "base_uri": "https://localhost:8080/"
        },
        "outputId": "1df0acc1-57fb-413a-dc60-2aef4f730de9"
      },
      "source": [
        "# 関数を再帰呼び出しすれば処理は終わらず、何度でもメッセージが送れる\n",
        "%%writefile temp.exs\n",
        "defmodule Example do\n",
        "  def listen do\n",
        "    receive do\n",
        "      {:hello, msg} -> IO.puts(msg)\n",
        "    end\n",
        "    listen()  #再帰呼び出し\n",
        "  end\n",
        "end\n",
        "IO.inspect pid = spawn(Example, :listen, [])\n",
        "IO.inspect send pid, {:hello, \"world\"}\n",
        "IO.inspect send pid, {:hello, \"tokyo\"}"
      ],
      "execution_count": null,
      "outputs": [
        {
          "output_type": "stream",
          "text": [
            "Overwriting temp.exs\n"
          ],
          "name": "stdout"
        }
      ]
    },
    {
      "cell_type": "code",
      "metadata": {
        "id": "NR9b5bc7UQgj",
        "colab": {
          "base_uri": "https://localhost:8080/"
        },
        "outputId": "ac7c8dc8-57c5-488d-c828-1e6f682364d3"
      },
      "source": [
        "!elixir temp.exs"
      ],
      "execution_count": null,
      "outputs": [
        {
          "output_type": "stream",
          "text": [
            "#PID<0.99.0>\n",
            "world\n",
            "{:hello, \"world\"}\n",
            "{:hello, \"tokyo\"}\n",
            "tokyo\n"
          ],
          "name": "stdout"
        }
      ]
    },
    {
      "cell_type": "code",
      "metadata": {
        "id": "KjMTdC_LUHpO",
        "colab": {
          "base_uri": "https://localhost:8080/"
        },
        "outputId": "cbf7a426-73f9-44a9-e001-9e603712823b"
      },
      "source": [
        "# リンク\n",
        "# Elixirでプロセスをつくるとき、多くの場合リンクさせる\n",
        "# リンクしたプロセスを試す前に、spawn/1 のプロセスが失敗したときどうなるか見ておく\n",
        "# raise/1 で RuntimeError の例外を起こしても、エラーが記録されるだけで、親プロセスは動いている\n",
        "# それは、プロセスが互いに切り離されているからである\n",
        "\n",
        "!elixir -e 'IO.inspect spawn fn -> raise \"oops\" end#PID'"
      ],
      "execution_count": null,
      "outputs": [
        {
          "output_type": "stream",
          "text": [
            "#PID<0.95.0>\n"
          ],
          "name": "stdout"
        }
      ]
    },
    {
      "cell_type": "code",
      "metadata": {
        "colab": {
          "base_uri": "https://localhost:8080/"
        },
        "id": "PyQ9GFWDuwAH",
        "outputId": "c998e88f-fe09-4564-9c3d-2e152c842fba"
      },
      "source": [
        "# あるプロセスの失敗を他に伝えるには、それらをリンクしなければならない\n",
        "# そのためには、spawn_link/1 を用いて現在のプロセスにリンクする\n",
        "# 次のコードでは、spawn_link/1 で親プロセスのシェルにリンクした\n",
        "# そのため、子プロセスの例外から、親のシェルが EXIT の通知を受け取った\n",
        "# IExはシェルの終了を検知し、新たなセッションが始まる\n",
        "\n",
        "!elixir -e 'IO.inspect self()'\n",
        "!elixir -e 'IO.inspect spawn_link fn -> raise \"oops\" end'\n",
        "#=> #PID<0.94.0>\n",
        "#=> ** (EXIT from #PID<0.94.0>) an exception was raised:\n",
        "#=>     ** (RuntimeError) oops\n",
        "#=>         (stdlib 3.15.1) erl_eval.erl:683: :erl_eval.do_apply/6\n"
      ],
      "execution_count": null,
      "outputs": [
        {
          "output_type": "stream",
          "text": [
            "** (EXIT from #PID<0.94.0>) an exception was raised:\n",
            "    ** (RuntimeError) oops\n",
            "        (stdlib 3.15.1) erl_eval.erl:683: :erl_eval.do_apply/6\n",
            "\n"
          ],
          "name": "stdout"
        }
      ]
    },
    {
      "cell_type": "code",
      "metadata": {
        "colab": {
          "base_uri": "https://localhost:8080/"
        },
        "id": "T1eDJgCnvAqJ",
        "outputId": "3c58f6ac-97a9-4c4f-ff92-3a5575e31d50"
      },
      "source": [
        "# spawn_link/3 関数を使うと、モジュールの関数からプロセスがリンクできる\n",
        "# 引数はモジュールと関数、および渡す引数のリストである\n",
        "# exit/1 は、呼び出したプロセスを終了する\n",
        "# そのとき、引数が理由として示される\n",
        "%%writefile temp.exs\n",
        "defmodule Example do\n",
        "  def explode, do: exit(:boom)\n",
        "end\n",
        "IO.inspect spawn(Example, :explode, [])\n",
        "#=> #PID<0.99.0>\n",
        "IO.inspect spawn_link(Example, :explode, [])\n",
        "#=> #PID<0.100.0>\n",
        "#=> ** (EXIT from #PID<0.94.0>) :boom"
      ],
      "execution_count": null,
      "outputs": [
        {
          "output_type": "stream",
          "text": [
            "Writing temp.exs\n"
          ],
          "name": "stdout"
        }
      ]
    },
    {
      "cell_type": "code",
      "metadata": {
        "colab": {
          "base_uri": "https://localhost:8080/"
        },
        "id": "jDqTEXBlsrmu",
        "outputId": "e48fa334-23dd-49c5-ee8f-2298c3785373"
      },
      "source": [
        "!elixir temp.exs"
      ],
      "execution_count": null,
      "outputs": [
        {
          "output_type": "stream",
          "text": [
            "#PID<0.99.0>\n",
            "#PID<0.100.0>\n",
            "** (EXIT from #PID<0.94.0>) :boom\n",
            "\n"
          ],
          "name": "stdout"
        }
      ]
    },
    {
      "cell_type": "code",
      "metadata": {
        "colab": {
          "base_uri": "https://localhost:8080/"
        },
        "id": "rAGoeRr2spKn",
        "outputId": "a2f3326c-7ccd-4342-c538-95edf62a3bd2"
      },
      "source": [
        "# リンクした現在のプロセスを落としたくない場合には、Process.flag/2 を用いる\n",
        "# 第 1 引数にフラグ :trap_exit、第 2 引数の値に true を与えると、終了が止められる\n",
        "# この関数は erlang の process_flag/2 によりフラグを定めている(「Receiving Exit Signals」参照)\n",
        "# 終了を止めると、{:EXIT, from_pid, reason}というタプルでメッセージが受け取られる\n",
        "%%writefile temp.exs\n",
        "defmodule Example do\n",
        "  def explode, do: exit(:boom)\n",
        "  def run do\n",
        "    Process.flag(:trap_exit, true)\n",
        "    spawn_link(Example, :explode, [])\n",
        "    receive do\n",
        "      {:EXIT, _from_pid, reason} -> IO.puts(\"Exit reason: #{reason}\")\n",
        "    end\n",
        "  end\n",
        "end\n",
        "IO.inspect Example.run"
      ],
      "execution_count": null,
      "outputs": [
        {
          "output_type": "stream",
          "text": [
            "Overwriting temp.exs\n"
          ],
          "name": "stdout"
        }
      ]
    },
    {
      "cell_type": "code",
      "metadata": {
        "colab": {
          "base_uri": "https://localhost:8080/"
        },
        "id": "uWj1aGbfe5r6",
        "outputId": "9c64d23d-2611-4f3b-baa5-2677d7993e9d"
      },
      "source": [
        "!elixir temp.exs"
      ],
      "execution_count": null,
      "outputs": [
        {
          "output_type": "stream",
          "text": [
            "\u001b[33mwarning: \u001b[0mvariable \"from_pid\" is unused (if the variable is not meant to be used, prefix it with an underscore)\n",
            "  temp.exs:7: Example.run/0\n",
            "\n",
            "Exit reason: boom\n",
            ":ok\n"
          ],
          "name": "stdout"
        }
      ]
    },
    {
      "cell_type": "code",
      "metadata": {
        "colab": {
          "base_uri": "https://localhost:8080/"
        },
        "id": "bOrR66fAevQU",
        "outputId": "a2341509-54fd-476d-a135-d218289158a5"
      },
      "source": [
        "#  2 つのプロセスをリンクさせるのでなく、情報を得たい場合がある\n",
        "# そういうときに用いるのが spawn_monitor/3 で、戻り値は PID と監視するプロセスの参照\n",
        "# プロセスがクラッシュすると、メッセージを受け取る\n",
        "# 現在のプロセスは落ちないし、終了を止める必要もない\n",
        "%%writefile temp.exs\n",
        "defmodule Example do\n",
        "  def explode, do: exit(:boom)\n",
        "  def run do\n",
        "    {_pid, _ref} = spawn_monitor(Example, :explode, [])\n",
        "    receive do\n",
        "      {:DOWN, _ref, :process, _from_pid, reason} -> IO.puts(\"Exit reason: #{reason}\")\n",
        "    end\n",
        "  end\n",
        "end\n",
        "IO.inspect Example.run"
      ],
      "execution_count": null,
      "outputs": [
        {
          "output_type": "stream",
          "text": [
            "Overwriting temp.exs\n"
          ],
          "name": "stdout"
        }
      ]
    },
    {
      "cell_type": "code",
      "metadata": {
        "colab": {
          "base_uri": "https://localhost:8080/"
        },
        "id": "qFXCQF4nfm4K",
        "outputId": "67292aad-6834-4fd5-9407-b049c71533b0"
      },
      "source": [
        "!elixir temp.exs"
      ],
      "execution_count": null,
      "outputs": [
        {
          "output_type": "stream",
          "text": [
            "Exit reason: boom\n",
            ":ok\n"
          ],
          "name": "stdout"
        }
      ]
    },
    {
      "cell_type": "markdown",
      "metadata": {
        "id": "rkVITuyffkfr"
      },
      "source": [
        "*  リンクは Process.link/1 を呼び出して定義することもできる\n",
        "*  Process モジュールには、そのほかにもさまざまな機能が備わっている\n",
        "* プロセスとリンクは、フォールトトレランスに優れたシステムを構築するためにも重要な役割を果たす\n",
        "* Elixir のプロセスは互いに切り離されており、デフォルトでは何も共有しない\n",
        "* したがって、 1 つのプロセスの失敗が他のプロセスをクラッシュさせたり、悪影響を及ぼすことはない\n",
        "* プロセスをリンクすると、障害が起きたときの関係を作ることができる\n",
        "* プロセスがよくリンクされるのはスーパーバイザーである\n",
        "* スーパーバイザーはプロセスが落ちたことを検出し、代わりの新たなプロセスを開始する\n",
        "* 他の言語では例外を補足して処理しなければならない\n",
        "* Elixir はスーパーバイザーがシステムを適切に再起動できるので、プロセスが失敗したままで構わない\n",
        "* 「早く失敗させる」というのは、Elixir でソフトウェアを開発するときの一般的な考え方である"
      ]
    },
    {
      "cell_type": "code",
      "metadata": {
        "colab": {
          "base_uri": "https://localhost:8080/"
        },
        "id": "JLTONNPXgbsv",
        "outputId": "9fa9f5d9-cce1-4a57-e2b5-5b0ce4d7b545"
      },
      "source": [
        "# Task\n",
        "# spawn 関数に基づいて構築された Task は、よりよいエラーレポートとイントロスペクション(introspection)の機能を提供する\n",
        "# spawn/1やspawn_link/1 の替わりに Task.start/1 と Task.start_link/1 を使うと、戻り値は単に PID ではなくタプル {：ok、pid} になる\n",
        "# これでタスクが監視ツリーで扱えるようになる\n",
        "# エラーレポートも詳しくなる\n",
        "!elixir -e 'IO.inspect Task.start fn -> raise \"oops\" end' #=> {:ok, #PID<0.95.0>}\n",
        "!elixir -e 'IO.inspect Task.start_link fn -> raise \"oops\" end' #=> {:ok, #PID<0.95.0>}\n",
        "#=> colab 環境ではエラーが生じない\n",
        "# 次のはローカルの iex 環境のアウトプット\n",
        "# 12:37:19.213 [error] Task #PID<0.109.0> started from #PID<0.104.0> terminating\n",
        "# ** (RuntimeError) oops\n",
        "#     (stdlib) erl_eval.erl:678: :erl_eval.do_apply/6\n",
        "#     (elixir) lib/task/supervised.ex:90: Task.Supervised.invoke_mfa/2\n",
        "#     (stdlib) proc_lib.erl:249: :proc_lib.init_p_do_apply/3\n",
        "# Function: #Function<21.126501267/0 in :erl_eval.expr/5>\n",
        "#     Args: []\n",
        "# {:ok, #PID<0.109.0>}\n",
        "# ** (EXIT from #PID<0.104.0>) shell process exited with reason: an exception was raised:\n",
        "#     ** (RuntimeError) oops\n",
        "#         (stdlib) erl_eval.erl:678: :erl_eval.do_apply/6\n",
        "#         (elixir) lib/task/supervised.ex:90: Task.Supervised.invoke_mfa/2\n",
        "#         (stdlib) proc_lib.erl:249: :proc_lib.init_p_do_apply/3"
      ],
      "execution_count": null,
      "outputs": [
        {
          "output_type": "stream",
          "text": [
            "{:ok, #PID<0.95.0>}\n",
            "{:ok, #PID<0.95.0>}\n"
          ],
          "name": "stdout"
        }
      ]
    },
    {
      "cell_type": "code",
      "metadata": {
        "colab": {
          "base_uri": "https://localhost:8080/"
        },
        "id": "s0TcAIuBg_0-",
        "outputId": "b1388725-b8d4-497c-9981-6918dd337252"
      },
      "source": [
        "# Task.async/3 はバックグラウンドで関数を実行する\n",
        "# その戻り値を Task.await/2 に渡せば、結果の値がえられる (第 2 引数のタイムアウトはデフォルト値 5000)\n",
        "# アプリケーションの実行は止めずに、負荷の高い処理をする時に役立つ\n",
        "# なお、:timer.sleep/1 は引数のミリ秒間、処理を一時停止する erlang の関数\n",
        "%%writefile temp.exs\n",
        "defmodule Math do\n",
        "  def hypot(x, y) do\n",
        "    :timer.sleep(3000)\n",
        "    :math.sqrt(x * x + y * y)\n",
        "  end\n",
        "end\n",
        "IO.inspect task = Task.async(Math, :hypot, [3, 4])\n",
        "IO.inspect Math.hypot(5, 12)\n",
        "IO.inspect Task.await(task)\n",
        "#=> \n",
        "# %Task{\n",
        "#   owner: #PID<0.94.0>,\n",
        "#   pid: #PID<0.99.0>,\n",
        "#   ref: #Reference<0.1710050540.1123287041.214222>\n",
        "# }\n",
        "# 13.0\n",
        "# 5.0"
      ],
      "execution_count": null,
      "outputs": [
        {
          "output_type": "stream",
          "text": [
            "Overwriting temp.exs\n"
          ],
          "name": "stdout"
        }
      ]
    },
    {
      "cell_type": "code",
      "metadata": {
        "colab": {
          "base_uri": "https://localhost:8080/"
        },
        "id": "bw3WUuOJjg03",
        "outputId": "f0b9a6e1-e52c-4deb-81aa-0ca12496254f"
      },
      "source": [
        "!elixir temp.exs"
      ],
      "execution_count": null,
      "outputs": [
        {
          "output_type": "stream",
          "text": [
            "%Task{\n",
            "  owner: #PID<0.94.0>,\n",
            "  pid: #PID<0.99.0>,\n",
            "  ref: #Reference<0.1710050540.1123287041.214222>\n",
            "}\n",
            "13.0\n",
            "5.0\n"
          ],
          "name": "stdout"
        }
      ]
    },
    {
      "cell_type": "code",
      "metadata": {
        "colab": {
          "base_uri": "https://localhost:8080/"
        },
        "id": "2y2ttiTFjd2-",
        "outputId": "011f67fd-6a63-4d70-b20a-9f3babed6c04"
      },
      "source": [
        "# 状態\n",
        "# 構築するアプリケーションに、状態をもたせたい場合がある\n",
        "# たとえば、アプリケーションの設定を保持したり、ファイルを解析してメモリに読み込みたいときなど\n",
        "# 状態は一般にプロセスにもたせる\n",
        "# プロセスをつくってループさせ、状態を保持し、メッセージをやり取りする\n",
        "# ここで、キーと値の組みが納められる新たなプロセスをつくってみる\n",
        "# 初期化の関数 (start_link) は、プロセスを Task.start_link/1 でつくり、プライベートの関数 (loop) に空のマップを渡す\n",
        "# receive/1 ブロックは、メッセージのキーが :get のときは、send/2 でメッセージを送る\n",
        "# そして、Map.get/3 で得たキーの値を返す\n",
        "# キーが :put なら、Map.put/3 でマップにキーと値を加える\n",
        "# いずれも関数を再帰呼び出しすることにより、処理を続けている\n",
        "%%writefile temp.exs\n",
        "defmodule KeyValue do\n",
        "  def start_link do\n",
        "    Task.start_link(fn -> loop(%{}) end)\n",
        "  end\n",
        "  defp loop(map) do\n",
        "    receive do\n",
        "      {:get, key, caller} ->\n",
        "        send caller, Map.get(map, key)\n",
        "        loop(map)\n",
        "      {:put, key, value} ->\n",
        "        loop(Map.put(map, key, value))\n",
        "    end\n",
        "  end\n",
        "end\n",
        "# モジュールの初期化の関数 (KeyValue.start_link) を呼び出したときは、まだマップは空である\n",
        "# そのため、:getメッセージを送っても値は得られない\n",
        "# 現在のプロセスの受信トレイには何も入っていない\n",
        "IO.inspect {:ok, pid} = KeyValue.start_link #=> {:ok, #PID<0.99.0>}\n",
        "IO.inspect send(pid, {:get, :hello, self()}) #=> {:get, :hello, #PID<0.87.0>}\n",
        "IO.inspect IEx.Helpers.flush() #=> nil :ok"
      ],
      "execution_count": null,
      "outputs": [
        {
          "output_type": "stream",
          "text": [
            "Overwriting temp.exs\n"
          ],
          "name": "stdout"
        }
      ]
    },
    {
      "cell_type": "code",
      "metadata": {
        "id": "dtQYHAbZ5CzO",
        "colab": {
          "base_uri": "https://localhost:8080/"
        },
        "outputId": "ee9abf92-f6b5-49c0-bf7b-3090f7e050d2"
      },
      "source": [
        "!elixir temp.exs"
      ],
      "execution_count": null,
      "outputs": [
        {
          "output_type": "stream",
          "text": [
            "{:ok, #PID<0.99.0>}\n",
            "{:get, :hello, #PID<0.94.0>}\n",
            "\u001b[35mnil\u001b[0m\u001b[33m\n",
            ":ok\n"
          ],
          "name": "stdout"
        }
      ]
    },
    {
      "cell_type": "code",
      "metadata": {
        "id": "Jfh7v-yg6QqT",
        "colab": {
          "base_uri": "https://localhost:8080/"
        },
        "outputId": "2eb30104-ebee-4b15-97ee-9c6649c00cc2"
      },
      "source": [
        "# プロセスに:putメッセージを送ると状態が更新され、キーと値が加わる\n",
        "# そのあとは、:get メッセージでキーの値も得られる\n",
        "# PIDを知っていれば、別のプロセスであっても、メッセージを送って状態は操作できる\n",
        "%%writefile temp.exs\n",
        "defmodule KeyValue do\n",
        "  def start_link do\n",
        "    Task.start_link(fn -> loop(%{}) end)\n",
        "  end\n",
        "  defp loop(map) do\n",
        "    receive do\n",
        "      {:get, key, caller} ->\n",
        "        send caller, Map.get(map, key)\n",
        "        loop(map)\n",
        "      {:put, key, value} ->\n",
        "        loop(Map.put(map, key, value))\n",
        "    end\n",
        "  end\n",
        "end\n",
        "\n",
        "IO.inspect {:ok, pid} = KeyValue.start_link #=> {:ok, #PID<0.99.0>}\n",
        "\n",
        "IO.inspect send pid, {:put, :hello, :world} #=> {:put, :hello, :world}\n",
        "IO.inspect send pid, {:get, :hello, self()} #=> {:get, :hello, #PID<0.94.0>}\n",
        "IO.inspect IEx.Helpers.flush() #=> :world :ok\n",
        "\n",
        "# Process.register/2を使えば、PIDに名前をつけて登録できる\n",
        "# どのプロセスからでも、その名前でメッセージが送れるようになる\n",
        "\n",
        "IO.inspect Process.register(pid, :kv) #=> true\n",
        "IO.inspect send :kv, {:get, :hello, self()} #=> {:get, :hello, #PID<0.94.0>}\n",
        "IO.inspect IEx.Helpers.flush() #=> :world :ok"
      ],
      "execution_count": null,
      "outputs": [
        {
          "output_type": "stream",
          "text": [
            "Overwriting temp.exs\n"
          ],
          "name": "stdout"
        }
      ]
    },
    {
      "cell_type": "code",
      "metadata": {
        "id": "pywqt5hF6n3v"
      },
      "source": [
        "!elixir temp.exs"
      ],
      "execution_count": null,
      "outputs": []
    },
    {
      "cell_type": "markdown",
      "metadata": {
        "id": "TEsPJdB64XQg"
      },
      "source": [
        "* 状態と名前をプロセスに登録して保持することは、Elixir アプリケーションでたびたび使われる手法である\n",
        "* もっともほとんどの場合、紹介した手動で処理するコードは書かない\n",
        "* Elixir には多くの抽象的なやり方が予め備わっている\n",
        "* たとえば、状態を抽象化したのがAgentである"
      ]
    },
    {
      "cell_type": "code",
      "metadata": {
        "id": "q1-qoo3g7KeX",
        "colab": {
          "base_uri": "https://localhost:8080/"
        },
        "outputId": "10f87849-1920-40fb-f859-b77b8c79079a"
      },
      "source": [
        "# Agent\n",
        "# Agent は、状態が保持されているバックグラウンドのプロセスを抽象化したものである\n",
        "# アプリケーションとノードの他のプロセスからアクセスできる\n",
        "# Agent.start_link/2 は現在のプロセスにリンクされた Agent をはじめる (第 2 引数のオプションはデフォルト値 [])\n",
        "# 戻り値のタプル {:ok, pid} の第 2 要素が Agent の状態への参照である\n",
        "# Agent.update/3 により、第 1 引数の Agent の状態を第 2 引数の関数で更新できる (第 3 引数のタイムアウトはデフォルト値 5000ミリ秒)\n",
        "# そして、Agent から値を取り出すのが Agent.get/3 である\n",
        "# 第1引数の Agent から得た値を、第2引数の関数で処理して返する(第3引数のタイムアウトはデフォルト値 5000ミリ秒)\n",
        "%%writefile temp.exs\n",
        "IO.inspect {:ok, agent} = Agent.start_link(fn -> %{} end) #=> {:ok, #PID<0.97.0>}\n",
        "IO.inspect Agent.update(agent, fn map -> Map.put(map, :hello, :world) end) #=> :ok\n",
        "IO.inspect Agent.get(agent, fn map -> Map.get(map, :hello) end) #=> :world\n",
        "IO.inspect {:ok, agent} = Agent.start_link(fn -> [1, 2, 3] end) #=> {:ok, #PID<0.98.0>}\n",
        "IO.inspect Agent.update(agent, fn state -> state ++ [4, 5] end) #=> :ok\n",
        "IO.inspect Agent.get(agent, &(&1 -- [2, 4])) #=> [1, 3, 5]"
      ],
      "execution_count": null,
      "outputs": [
        {
          "output_type": "stream",
          "text": [
            "Overwriting temp.exs\n"
          ],
          "name": "stdout"
        }
      ]
    },
    {
      "cell_type": "code",
      "metadata": {
        "id": "WTek2fsz8Ex7",
        "colab": {
          "base_uri": "https://localhost:8080/"
        },
        "outputId": "3def729e-9bad-4c55-a0d9-b4ce74442413"
      },
      "source": [
        "!elixir temp.exs"
      ],
      "execution_count": null,
      "outputs": [
        {
          "output_type": "stream",
          "text": [
            "{:ok, #PID<0.97.0>}\n",
            ":ok\n",
            ":world\n",
            "{:ok, #PID<0.98.0>}\n",
            ":ok\n",
            "[1, 3, 5]\n"
          ],
          "name": "stdout"
        }
      ]
    },
    {
      "cell_type": "markdown",
      "metadata": {
        "id": "zpUzlGTP87i2"
      },
      "source": [
        "# 入出力とファイルシステム\n",
        "\n",
        "IO and the file system"
      ]
    },
    {
      "cell_type": "markdown",
      "metadata": {
        "id": "ZRtrruqlgfOJ"
      },
      "source": [
        "**IOモジュール**\n",
        "\n",
        "* IOモジュールは、入出力のための機能を提供する\n",
        "* 読み書き先は、標準入出力 :stdio 標準エラー :stderr、ファイル、その他\n",
        "* IO.puts/2 は、引数の項目を出力する\n",
        "* IO.gets/2 は入出力デバイスからの読み込み\n",
        "* ともに第 1 引数のデバイスは、標準入出力 :stdio がデフォルトになっている"
      ]
    },
    {
      "cell_type": "code",
      "metadata": {
        "id": "YP7Y_8We70C1",
        "colab": {
          "base_uri": "https://localhost:8080/"
        },
        "outputId": "c68df68e-c085-4a2b-c193-8665fbdea66d"
      },
      "source": [
        "!elixir -e 'IO.puts \"hello world\"'"
      ],
      "execution_count": 2,
      "outputs": [
        {
          "output_type": "stream",
          "text": [
            "hello world\n"
          ],
          "name": "stdout"
        }
      ]
    },
    {
      "cell_type": "code",
      "metadata": {
        "id": "3po7NqREhMwX"
      },
      "source": [
        "# 次のはユーザー入力を待つ\n",
        "# !elixir -e 'IO.gets \"yes or no? \"'\n"
      ],
      "execution_count": 3,
      "outputs": []
    },
    {
      "cell_type": "code",
      "metadata": {
        "id": "ncEKoYUFwK2d",
        "colab": {
          "base_uri": "https://localhost:8080/"
        },
        "outputId": "396d7039-d913-48bf-c435-e7fef50cec53"
      },
      "source": [
        "# 上のを標準入力に変えられないか実験\n",
        "!echo \"hello\" | elixir -e 'temp = IO.gets \"yes or no?    \"; IO.puts temp'"
      ],
      "execution_count": 4,
      "outputs": [
        {
          "output_type": "stream",
          "text": [
            "yes or no?    hello\n",
            "\n"
          ],
          "name": "stdout"
        }
      ]
    },
    {
      "cell_type": "code",
      "metadata": {
        "id": "3SDnykoi7gLF",
        "colab": {
          "base_uri": "https://localhost:8080/"
        },
        "outputId": "df99c4e0-8672-471d-d195-42b621aa8e02"
      },
      "source": [
        "# 第1引数に :stderr を与えると、標準エラーが入出力先になる\n",
        "\n",
        "# !elixir -e 'IO.puts  \"hello world\"'\n",
        "!elixir -e 'IO.puts :stderr, \"hello world\"'"
      ],
      "execution_count": 5,
      "outputs": [
        {
          "output_type": "stream",
          "text": [
            "hello world\n"
          ],
          "name": "stdout"
        }
      ]
    },
    {
      "cell_type": "code",
      "metadata": {
        "id": "J1uxLbGSxSTd",
        "colab": {
          "base_uri": "https://localhost:8080/"
        },
        "outputId": "73fe5917-05d2-4a62-c7d6-4e4b5b3973c1"
      },
      "source": [
        "# 実験\n",
        "!elixir -e 'temp=IO.puts :stderr, \"hello world\"; IO.puts temp'\n",
        "!elixir -e 'temp=IO.puts \"hello world\"; IO.puts temp'"
      ],
      "execution_count": 6,
      "outputs": [
        {
          "output_type": "stream",
          "text": [
            "hello world\n",
            "ok\n",
            "hello world\n",
            "ok\n"
          ],
          "name": "stdout"
        }
      ]
    },
    {
      "cell_type": "markdown",
      "metadata": {
        "id": "Q8GNFqJBxAuG"
      },
      "source": [
        "Fileモジュール\n",
        "\n",
        "* Fileモジュールには、入出力デバイスとしてファイルを扱うための関数が備わっている\n",
        "* 次のコードは、ファイル open/close して、文字列を読み書きする\n",
        "* ファイルはデフォルトではバイナリのモード(:binary)で開かれる\n",
        "* データの読み書きには用いるのは、IOモジュールの関数である"
      ]
    },
    {
      "cell_type": "code",
      "metadata": {
        "id": "_yRAyzVVx7PW",
        "colab": {
          "base_uri": "https://localhost:8080/"
        },
        "outputId": "51bd464d-bf57-4b8f-b5e9-1578c4c7b807"
      },
      "source": [
        "!elixir -e '{:ok, file} = File.open(\"hello\", [:write])'\n",
        "!elixir -e '{:ok, file} = File.open(\"hello.txt\", [:write]);IO.binwrite(file, \"world\")'\n",
        "!ls\n",
        "!cat hello*"
      ],
      "execution_count": 7,
      "outputs": [
        {
          "output_type": "stream",
          "text": [
            "erlang-solutions_2.0_all.deb  hello  hello.txt\tsample_data\n",
            "world"
          ],
          "name": "stdout"
        }
      ]
    },
    {
      "cell_type": "code",
      "metadata": {
        "id": "fZGQlX0glm8r",
        "colab": {
          "base_uri": "https://localhost:8080/"
        },
        "outputId": "f4fc0f7b-6460-4168-e799-a080d79c9b06"
      },
      "source": [
        "!elixir -e '{:ok, file} = File.open(\"hello.txt\", [:write]);IO.binwrite(file, \"world\");File.close(file); IO.inspect File.read(\"hello.txt\")'\n",
        "!elixir -e '{:ok, file} = File.open(\"hello.txt\", [:write]);IO.binwrite(file, \"world\");File.close(file); IO.inspect File.read(\"nofile\")'"
      ],
      "execution_count": 8,
      "outputs": [
        {
          "output_type": "stream",
          "text": [
            "{:ok, \"world\"}\n",
            "{:error, :enoent}\n"
          ],
          "name": "stdout"
        }
      ]
    },
    {
      "cell_type": "code",
      "metadata": {
        "id": "Q_Ct8kFzmIAN",
        "colab": {
          "base_uri": "https://localhost:8080/"
        },
        "outputId": "40ce4b2f-d761-4e74-cc25-b32b5d0c4bfd"
      },
      "source": [
        "!elixir -e '{:ok, file} = File.open(\"hello.txt\", [:write]);IO.binwrite(file, \"world\");File.close(file); IO.inspect File.open(\"hello.txt\")'"
      ],
      "execution_count": 9,
      "outputs": [
        {
          "output_type": "stream",
          "text": [
            "{:ok, #PID<0.96.0>}\n"
          ],
          "name": "stdout"
        }
      ]
    },
    {
      "cell_type": "code",
      "metadata": {
        "id": "mUFaqrRRm91R",
        "colab": {
          "base_uri": "https://localhost:8080/"
        },
        "outputId": "4ac1128e-c596-4859-912a-98c13f754748"
      },
      "source": [
        "!ls"
      ],
      "execution_count": 10,
      "outputs": [
        {
          "output_type": "stream",
          "text": [
            "erlang-solutions_2.0_all.deb  hello  hello.txt\tsample_data\n"
          ],
          "name": "stdout"
        }
      ]
    },
    {
      "cell_type": "code",
      "metadata": {
        "id": "fYNdYvbImRyU",
        "colab": {
          "base_uri": "https://localhost:8080/"
        },
        "outputId": "c8a43605-5c3e-4202-b6c1-1a4065ad59f2"
      },
      "source": [
        "!elixir -e '{:ok, file} = File.open(\"hello.txt\", [:read]); IO.inspect IO.binread(file, :line)'"
      ],
      "execution_count": 11,
      "outputs": [
        {
          "output_type": "stream",
          "text": [
            "\"world\"\n"
          ],
          "name": "stdout"
        }
      ]
    },
    {
      "cell_type": "markdown",
      "metadata": {
        "id": "4awRUu-gx3WX"
      },
      "source": [
        "* File.open/2 : 第 1 引数のパスのファイルを開く\n",
        "* 第  2引数はモードのリストで、:writeは書き込み、:readは読み込みである\n",
        "* File.close/1 : 引数のファイルを閉じる\n",
        "* File.read/1 : {:ok, binary} のタプルを返す\n",
        "* binary は引数のパスのバイナリデータ\n",
        "* 読み込めなかったときは {:error, reason} が返る\n",
        "\n",
        "\n",
        "* IO.binwrite/2 : 第 1 引数がデバイスで、デフォルト値は標準入出力の :stdio \n",
        "* 第 2 引数の項目をバイナリとして書き込む\n",
        "\n",
        "\n",
        "* IO.binread/2 : 第 1 引数がデバイスで、デフォルト値は標準入出力の :stdio\n",
        "* 第 2 引数で読み込むのが 1 行 (:line) かすべて (:all) かを定める\n",
        "\n",
        "\n",
        "* ファイルを開くモードには :utf8 も加えられる\n",
        "* File モジュールに、ファイルから読み込むバイトを UTF-8 のエンコードで解析する* ための指定である\n",
        "\n"
      ]
    },
    {
      "cell_type": "markdown",
      "metadata": {
        "id": "_EbNdPWBIvjT"
      },
      "source": [
        "---\n",
        "Fileモジュールには、ファイルシステムを操作する関数も備わっている\n",
        "* 関数の名前は UNIX のコマンドに沿ってつけられている\n",
        "\n",
        "\n",
        "* File.rm/1 : ファイルのパスを削除する\n",
        "\n",
        "\n",
        "* File.mkdir/1 : パスのディレクトリをつくる\n",
        "\n",
        "\n",
        "* File.mkdir_p/1 : パスのディレクトリを、親チェーンも含めてつくる\n",
        "\n",
        "\n",
        "* File.cp_r/2 : ディレクトリの内容をサブディレクトリまで含めてコピーする\n",
        "\n",
        "* File.rm_rf/1 : ディレクトリの内容をサブディレクトリまで含めて削除する\n",
        "\n"
      ]
    },
    {
      "cell_type": "markdown",
      "metadata": {
        "id": "8zBbTQZ-I0Ar"
      },
      "source": [
        "Fileモジュールの関数には、同じ名前で最後に! 記号のつくものとつかないものがある\n",
        "* たとえば、File.read/1 とFile.read!/1 である\n",
        "* 前者はタプルを返す\n",
        "* 後者はファイルの中身が返るか、そうでなければエラーが起こる"
      ]
    },
    {
      "cell_type": "markdown",
      "metadata": {
        "id": "lPS6hJXIfwrb"
      },
      "source": [
        "# いまここ"
      ]
    },
    {
      "cell_type": "code",
      "metadata": {
        "id": "Rpq3y4SOJAlt"
      },
      "source": [
        "!elixir -e '{:ok, file} = File.open(\"hello.txt\", [:write]);IO.binwrite(file, \"world\");File.close(file)'\n",
        "!elixir -e 'IO.inspect File.read(\"hello.txt\")' #=> {:ok, \"world\"}\n",
        "!elixir -e 'IO.inspect File.read!(\"hello.txt\")' #=> \"world\"\n",
        "!elixir -e 'IO.inspect File.read(\"unknown\")' #=> {:error, :enoent}\n",
        "!elixir -e 'IO.inspect File.read!(\"unknown\")' #=> ** (File.Error) could not read file \"unknown\": no such file or directory"
      ],
      "execution_count": null,
      "outputs": []
    },
    {
      "cell_type": "code",
      "metadata": {
        "id": "JTDcoOvFoBoW"
      },
      "source": [
        "# タプルを返す関数は、戻り値にパターンマッチングが使える\n",
        "%%writefile temp.exs\n",
        "defmodule Example do\n",
        "  def read_file(file) do\n",
        "    case File.read(file) do\n",
        "      {:ok, body} -> IO.puts(body)\n",
        "      {:error, reason} -> IO.puts(\"error: #{reason}\")\n",
        "    end\n",
        "  end\n",
        "end\n",
        "!elixir -e 'Example.read_file(\"hello\")\n",
        "world\n",
        ":ok\n",
        "!elixir -e 'Example.read_file(\"unknown\")\n",
        "error: enoent\n",
        ":ok\n",
        "ファイルが存在する前提であれば、File.read!/1 の方が直接的である\n",
        "万が一ファイルがなかったとき、パターンマッチングではマッチしないというエラーになる\n",
        "File.read!/1 であれば、エラーメッセージにファイルの存在しないことが示されるからである\n",
        "\n",
        "!elixir -e '{:ok, body} = File.read(\"unknown\")\n",
        "** (MatchError) no match of right hand side value: {:error, :enoent}\n",
        "\n",
        "Pathモジュール\n",
        "Fileモジュールの多くの関数は引数にパスが含まれる\n",
        "パスは通常バイナリである\n",
        "Pathモジュールには、パスとしてバイナリを扱うための関数が備わっている\n",
        "\n",
        "\n",
        "Path.join/2 は、ふたつの引数をパスとしてつなぐ\n",
        "また、Path.expand/1 はパスを展開して絶対パスにする\n",
        "\n",
        "!elixir -e 'Path.join(\"elixir\", \"test\")\n",
        "\"elixir/test\"\n",
        "!elixir -e 'Path.expand(\"/elixir/test/../config\")\n",
        "\"/elixir/config\"\n",
        "パスの扱いは、文字列を直に操作するのでなく、Pathモジュールの関数を使う方がよいでしょう\n",
        "オペレーティングシステムの違いが吸収されるからである\n",
        "ファイルを操作するとき、パスの中のスラッシュ/は、Windowsでは自動的にバックスラッシュ \\ に変換される\n",
        "\n",
        "\n",
        "入出力とファイルシステムの操作に関わる主なモジュールのご説明は以上である\n",
        "このあとは、入出力についての少し進んだ話題を扱いる\n",
        "Elixirのコードを書くための解説ではないので、飛ばしても構わない\n",
        "VMの中で IO システムがどのように実装されているかを解説する\n",
        "\n",
        "\n",
        "プロセスとグループリーダー\n",
        "File.open/2 はタプルを返する\n",
        "これは IO モジュールが、内部的にプロセスに働きかけるからである\n",
        "\n",
        "!elixir -e '{:ok, file} = File.open \"hello\", [:write]\n",
        "{:ok, #PID<0.47.0>}\n",
        "たとえば、IO.write/2 を使うと、 IOモジュールが PID で参照されるプロセスにメッセージを送り、操作が行われる\n",
        "出力される4要素のタプルがそのメッセージである\n",
        "そのあと、IOモジュールの求める結果が与えられなかったために失敗している\n",
        "\n",
        "!elixir -e 'pid = spawn fn ->\n",
        "...>   receive do: (msg -> IO.inspect msg)\n",
        "...> end\n",
        "#PID<0.89.0>\n",
        "!elixir -e 'IO.write(pid, \"hello\")\n",
        "{:io_request, #PID<0.84.0>, #Reference<0.3003912951.510132227.213667>,\n",
        " {:put_chars, :unicode, \"hello\"}}\n",
        "** (ErlangError) Erlang error: :terminated\n",
        "    (stdlib) :io.put_chars(#PID<0.89.0>, :unicode, \"hello\")\n",
        "StringIOモジュールは、文字列に入出力デバイスの操作を実装する\n",
        "StringIOは入出力デバイスになり、IOモジュールの関数が使えるのである\n",
        "StringIO.open/2 は入出力デバイスをつくり、IO.read/2 はその参照から第2引数の文字数を読み込みます\n",
        "\n",
        "!elixir -e '{:ok, pid} = StringIO.open(\"hello\")\n",
        "{:ok, #PID<0.96.0>}\n",
        "!elixir -e 'IO.read(pid, 4)\n",
        "\"hell\"\n",
        "Erlang VMは入出力デバイスをプロセスでモデル化することにより、同じネットワークの異なるノードがファイルの操作をやり取りして、ノード間でファイルを読み書きできるようにしている\n",
        "\n",
        "\n",
        "すべての IO デバイスは、プロセスにひとつ特別なグループリーダーを持つ\n",
        ":stdioに書き込みをしたとき、メッセージはグループリーダーに送られるのである\n",
        "グループリーダーは標準出力ファイル記述子に書き込みます\n",
        "Process.group_leader/0は、呼び出しもとプロセスのグループリーダーの PID を返る\n",
        "\n",
        "!elixir -e 'IO.puts :stdio, \"hello\"\n",
        "hello\n",
        ":ok\n",
        "!elixir -e 'IO.puts Process.group_leader, \"hello\"\n",
        "hello\n",
        ":ok\n",
        "グループリーダーはプロセスごとにつくられ、さまざまな状況で使われる\n",
        "たとえば、リモート端末でコードを実行したとき、リモートノード内のメッセージは、リクエストを発した端末にリダイレクトされて出力されることが保証される\n",
        "\n",
        "\n",
        "入出力データと文字データ\n",
        "Elixirにおける文字列はバイトの集まりで、文字リストは Unicode のコードポイントを納めたリストである(「Elixir入門 06: バイナリと文字列および文字リスト」参照)\n",
        "\n",
        "\n",
        "IOと File モジュールの関数には、引数にリストも与えられる\n",
        "それだけでなく、リストに整数や入れ子リスト、さらにバイナリを混在させても構わない\n",
        "\n",
        "!elixir -e 'IO.puts '拝啓' ++ [25964, 20855]\n",
        "拝啓敬具\n",
        ":ok\n",
        "!elixir -e 'IO.puts [104, 'ello', ?\\s, \"world\"]\n",
        "hello world\n",
        ":ok\n",
        "ただし、入出力の操作にリストを使うときは、注意しなければならない\n",
        "リストはバイトの集まりも、文字列も示せるからである\n",
        "どちらを用いるかは、入出力デバイスのエンコーディングによる\n",
        "\n",
        "\n",
        "エンコーディングを定めずに開かれたファイルは、rawモードとみなされる\n",
        "IOモジュールから使う関数は、binで始まるものでなければならない\n",
        "これらの関数は、引数に入出力データを受け取る\n",
        "つまり、バイトとバイナリを表す整数のリストとして扱うのである\n",
        "\n",
        "\n",
        ":stdioと:utf8のモードにより、UTF-8エンコーディングで開いたファイルは、binのつかない IO モジュールの関数も使えるようになる\n",
        "これらの関数は引数に文字データを受け取る\n",
        "つまり、文字または文字列のリストとして扱うのである\n",
        "\n",
        "\n",
        "細かな違いとはいえ、入出力の関数にリストを渡すときには注意する\n",
        "バイナリはすでにバイトにもとづいて表されているので、つねに raw モードで扱われる\n",
        "\n",
        "\n",
        "Elixir入門もくじ\n",
        "Elixir入門 01: コードを書いて試してみる\n",
        "Elixir入門 02: 型の基本\n",
        "Elixir入門 03: 演算子の基本\n",
        "Elixir入門 04: パターンマッチング\n",
        "Elixir入門 05: 条件 - case/cond/if\n",
        "Elixir入門 06: バイナリと文字列および文字リスト\n",
        "Elixir入門 07: キーワードリストとマップ\n",
        "Elixir入門 08: モジュールと関数\n",
        "Elixir入門 09: 再帰\n",
        "Elixir入門 10: EnumとStream\n",
        "Elixir入門 11: プロセス\n",
        "Elixir入門 12: 入出力とファイルシステム\n",
        "Elixir入門 13: aliasと require およびimport\n",
        "Elixir入門 14: モジュールの属性\n",
        "Elixir入門 15: 構造体\n",
        "Elixir入門 16: プロトコル\n",
        "Elixir入門 17: 内包表記\n",
        "Elixir入門 18: シギル\n",
        "Elixir入門 19: tryと catch およびrescue\n",
        "Elixir入門 20: 型の仕様とビヘイビア\n",
        "Elixir入門 21: デバッグ\n",
        "Elixir入門 22: Erlangライブラリ\n",
        "Elixir入門 23: 次のステップ\n",
        "番外\n",
        "Elixir入門: Plugを使うには\n",
        "Discussion (3)\n",
        "Subscribe\n",
        "pic"
      ],
      "execution_count": null,
      "outputs": []
    }
  ]
}