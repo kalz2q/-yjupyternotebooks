{
  "nbformat": 4,
  "nbformat_minor": 0,
  "metadata": {
    "colab": {
      "name": "elixir_gumi.ipynb",
      "provenance": [],
      "toc_visible": true,
      "authorship_tag": "ABX9TyOb4lDGRBIhjM/H6bpktetM",
      "include_colab_link": true
    },
    "kernelspec": {
      "name": "python3",
      "display_name": "Python 3"
    },
    "language_info": {
      "name": "python"
    }
  },
  "cells": [
    {
      "cell_type": "markdown",
      "metadata": {
        "id": "view-in-github",
        "colab_type": "text"
      },
      "source": [
        "<a href=\"https://colab.research.google.com/github/kalz2q/mycolabnotebooks/blob/master/elixir_gumi.ipynb\" target=\"_parent\"><img src=\"https://colab.research.google.com/assets/colab-badge.svg\" alt=\"Open In Colab\"/></a>"
      ]
    },
    {
      "cell_type": "markdown",
      "metadata": {
        "id": "QusE0r9HLQt-"
      },
      "source": [
        "# メモ\n",
        "\n",
        "gumi TECH Blog Elixir入門\n",
        "\n",
        "https://dev.to/gumi/elixir-07--39hi\n",
        "\n",
        "を colab 化する。\n",
        "\n",
        "colab 環境で elixir のインタラクティブモード iex は使えないので、次の要領でインストールして使う。"
      ]
    },
    {
      "cell_type": "code",
      "metadata": {
        "id": "THvpbkjdWs0Q"
      },
      "source": [
        "%%capture\n",
        "!wget https://packages.erlang-solutions.com/erlang-solutions_2.0_all.deb && sudo dpkg -i erlang-solutions_2.0_all.deb\n",
        "!sudo apt update\n",
        "!sudo apt install elixir"
      ],
      "execution_count": 1,
      "outputs": []
    },
    {
      "cell_type": "code",
      "metadata": {
        "id": "6FkejEE2crA5",
        "colab": {
          "base_uri": "https://localhost:8080/"
        },
        "outputId": "ce3cc75f-c088-423a-8418-020ad4a0aa5a"
      },
      "source": [
        "!elixir -v\n",
        "!date"
      ],
      "execution_count": null,
      "outputs": [
        {
          "output_type": "stream",
          "text": [
            "/bin/bash: elixir: command not found\n",
            "Wed Jun  2 00:43:58 UTC 2021\n"
          ],
          "name": "stdout"
        }
      ]
    },
    {
      "cell_type": "markdown",
      "metadata": {
        "id": "IpYclRqgcttK"
      },
      "source": [
        "---\n",
        "iex の代わりにワンライナー `elixir -e` で実験する。\n"
      ]
    },
    {
      "cell_type": "code",
      "metadata": {
        "id": "S_s89E37Xroq",
        "colab": {
          "base_uri": "https://localhost:8080/"
        },
        "outputId": "848107aa-1093-4be9-b86c-ed63a1f72600"
      },
      "source": [
        "!elixir -e 'IO.puts 3 + 3'\n",
        "!elixir -e 'IO.puts \"hello\" <> \" \" <> \"world\"'"
      ],
      "execution_count": null,
      "outputs": [
        {
          "output_type": "stream",
          "text": [
            "6\n",
            "hello world\n"
          ],
          "name": "stdout"
        }
      ]
    },
    {
      "cell_type": "markdown",
      "metadata": {
        "id": "GxkQfmBfParV"
      },
      "source": [
        "数行にわたる場合は、セミコロン `;` でつなぐか、次のようにファイルを作って、コンパイルして実行する。 "
      ]
    },
    {
      "cell_type": "code",
      "metadata": {
        "colab": {
          "base_uri": "https://localhost:8080/"
        },
        "id": "RYCKapxtdtco",
        "outputId": "1f0d1d33-adb2-4830-949a-b5a8b45b85f0"
      },
      "source": [
        "%%writefile temp.exs\n",
        "IO.puts \"hello\" <> \" \" <> \"world\""
      ],
      "execution_count": null,
      "outputs": [
        {
          "output_type": "stream",
          "text": [
            "Overwriting temp.exs\n"
          ],
          "name": "stdout"
        }
      ]
    },
    {
      "cell_type": "code",
      "metadata": {
        "colab": {
          "base_uri": "https://localhost:8080/"
        },
        "id": "06mP6Jy_d505",
        "outputId": "c5c4bf91-d117-4e6f-b729-ae9aa76206be"
      },
      "source": [
        "!elixir temp.exs"
      ],
      "execution_count": null,
      "outputs": [
        {
          "output_type": "stream",
          "text": [
            "hello world\n"
          ],
          "name": "stdout"
        }
      ]
    },
    {
      "cell_type": "markdown",
      "metadata": {
        "id": "6TTEls3SfWhR"
      },
      "source": [
        "基本的な型 | 値の例\n",
        "--- | ---\n",
        "整数 | 1\n",
        "整数(16進数) | 0x1F\n",
        "小数 | 1.0\n",
        "論理値 | true\n",
        "アトム | :atom\n",
        "文字列 | \"elixir\"\n",
        "リスト | [1, 2, 3]\n",
        "タプル | {1, 2, 3}"
      ]
    },
    {
      "cell_type": "code",
      "metadata": {
        "id": "9cdZm6iLPKq0",
        "colab": {
          "base_uri": "https://localhost:8080/"
        },
        "outputId": "93a1e27b-6b8a-4a19-baa5-5aca94712290"
      },
      "source": [
        "# 除算 (演算子 `/` ) は結果が整数であっても、浮動小数点数に変わる。\n",
        "!elixir -e 'IO.puts 10 / 2'"
      ],
      "execution_count": null,
      "outputs": [
        {
          "output_type": "stream",
          "text": [
            "5.0\n"
          ],
          "name": "stdout"
        }
      ]
    },
    {
      "cell_type": "code",
      "metadata": {
        "id": "Yyo8kKEePKf9",
        "colab": {
          "base_uri": "https://localhost:8080/"
        },
        "outputId": "b87f0d1e-3898-4bcf-a443-87cf5388c0ab"
      },
      "source": [
        "# 整数除算は div で 剰余は rem\n",
        "!elixir -e 'IO.puts div(9, 2)'\n",
        "!elixir -e 'IO.puts div 9, 2'\n",
        "!elixir -e 'IO.puts rem 10, 3'\n",
        "# div は floor ではない\n",
        "!elixir -e 'IO.puts div -9, 2'\n",
        "!elixir -e 'IO.puts div 9, -2'\n",
        "!elixir -e 'IO.puts rem -10, 3'\n",
        "!elixir -e 'IO.puts rem 10, -3'"
      ],
      "execution_count": null,
      "outputs": [
        {
          "output_type": "stream",
          "text": [
            "4\n",
            "4\n",
            "1\n",
            "-4\n",
            "-4\n",
            "-1\n",
            "1\n"
          ],
          "name": "stdout"
        }
      ]
    },
    {
      "cell_type": "code",
      "metadata": {
        "colab": {
          "base_uri": "https://localhost:8080/"
        },
        "id": "ppg4ZY4JuKzY",
        "outputId": "e29888a2-cbe0-4929-bb82-7a421b72a8b8"
      },
      "source": [
        "# python と比べてみる\n",
        "print (9 // 2)\n",
        "print (10 % 3)\n",
        "print ( -9 // 2)\n",
        "print ( 9 // -2)\n",
        "print (-10 % 3)\n",
        "print (10 % -3)"
      ],
      "execution_count": null,
      "outputs": [
        {
          "output_type": "stream",
          "text": [
            "4\n",
            "1\n",
            "-5\n",
            "-5\n",
            "2\n",
            "-2\n"
          ],
          "name": "stdout"
        }
      ]
    },
    {
      "cell_type": "code",
      "metadata": {
        "id": "OnHdcIx3OUEB",
        "colab": {
          "base_uri": "https://localhost:8080/"
        },
        "outputId": "3eb69346-e7ae-4ffb-bb17-dedd4ff9c58c"
      },
      "source": [
        "# n 進数\n",
        "!elixir -e 'IO.puts 0b1000'\n",
        "!elixir -e 'IO.puts 0o10'\n",
        "!elixir -e 'IO.puts 0xFF'"
      ],
      "execution_count": null,
      "outputs": [
        {
          "output_type": "stream",
          "text": [
            "8\n",
            "8\n",
            "255\n"
          ],
          "name": "stdout"
        }
      ]
    },
    {
      "cell_type": "code",
      "metadata": {
        "colab": {
          "base_uri": "https://localhost:8080/"
        },
        "id": "jhmJBZ1HviIf",
        "outputId": "d1059586-7628-47cf-f08b-b68a3ba3f011"
      },
      "source": [
        "# 浮動小数点数\n",
        "!elixir -e 'IO.puts 1.0'\n",
        "!elixir -e 'IO.puts 3.14e-2'"
      ],
      "execution_count": null,
      "outputs": [
        {
          "output_type": "stream",
          "text": [
            "1.0\n",
            "0.0314\n"
          ],
          "name": "stdout"
        }
      ]
    },
    {
      "cell_type": "code",
      "metadata": {
        "id": "OCDOOxqpvxm4"
      },
      "source": [
        "# 四捨五入 round 、切り捨て trunc\n",
        "!elixir -e 'IO.puts round(2.718)'\n",
        "!elixir -e 'IO.puts trunc(2.718)'"
      ],
      "execution_count": null,
      "outputs": []
    },
    {
      "cell_type": "markdown",
      "metadata": {
        "id": "vQOH21yLw1Bp"
      },
      "source": [
        "質問\n",
        "\n",
        "小数点 3 桁目で四捨五入、小数点 3 桁目で切り捨てとかはどうするのか。"
      ]
    },
    {
      "cell_type": "code",
      "metadata": {
        "colab": {
          "base_uri": "https://localhost:8080/"
        },
        "id": "jLaa6McRwPIe",
        "outputId": "8b3876c6-f8c9-474c-a415-50c7f9a41e43"
      },
      "source": [
        "!elixir -e 'IO.puts Float.round(2.718281828459045,3)'\n",
        "# Float.trunc (float, precision) はないので\n",
        "!elixir -e 'IO.puts trunc(2.718281828459045 * 1000) / 1000'"
      ],
      "execution_count": null,
      "outputs": [
        {
          "output_type": "stream",
          "text": [
            "2.718\n",
            "2.718\n"
          ],
          "name": "stdout"
        }
      ]
    },
    {
      "cell_type": "markdown",
      "metadata": {
        "id": "4YFCsukTPA7k"
      },
      "source": [
        "質問\n",
        "\n",
        "上で使った `Float.round` とか下で使った `:math.exp()` とか、モジュールや、require, import がわからない。 なにで検索したらいいのだろうか。"
      ]
    },
    {
      "cell_type": "code",
      "metadata": {
        "colab": {
          "base_uri": "https://localhost:8080/"
        },
        "id": "JiWSBaXLK540",
        "outputId": "6c8ee87e-727c-4688-90f3-0c57e5d49cfe"
      },
      "source": [
        "!elixir -e 'IO.puts :math.exp(1)'"
      ],
      "execution_count": null,
      "outputs": [
        {
          "output_type": "stream",
          "text": [
            "2.718281828459045\n"
          ],
          "name": "stdout"
        }
      ]
    },
    {
      "cell_type": "markdown",
      "metadata": {
        "id": "Leek4HwAPzSG"
      },
      "source": [
        "---\n",
        "古い記事で qiita に\n",
        "\n",
        "elixirで数学関数をつかってみた\n",
        "\n",
        "というのがあったので、とりあえずやってみる。"
      ]
    },
    {
      "cell_type": "code",
      "metadata": {
        "id": "gG_VDz92QL3Q"
      },
      "source": [
        "!elixir -e 'IO.puts abs -1'\n",
        "!elixir -e 'IO.puts div 4,3'\n",
        "!elixir -e 'IO.puts rem 4,3'\n",
        "!elixir -e 'IO.puts min 4,3'"
      ],
      "execution_count": null,
      "outputs": []
    },
    {
      "cell_type": "markdown",
      "metadata": {
        "id": "xX11oEXoR1ZZ"
      },
      "source": [
        "メモ\n",
        "\n",
        "min は 引数 2 つの小さい方を返すので、リストの最小値を求めるには reduce とかを使うのか。 \n",
        "\n",
        "問題 $\\quad$ reduce と min を使って リストの最小値を求めよ。\n"
      ]
    },
    {
      "cell_type": "markdown",
      "metadata": {
        "id": "dh7b_fSDSU1n"
      },
      "source": [
        "---\n",
        "erlang の math が `:math` モジュールという形で使えるが、これでいいのか?\n",
        "\n",
        "Erlang--math\n",
        "\n",
        "によると、c の math モジュールである、と書いてあった。 ふむ。"
      ]
    },
    {
      "cell_type": "code",
      "metadata": {
        "colab": {
          "base_uri": "https://localhost:8080/"
        },
        "id": "yW87fNWQSnGD",
        "outputId": "8bcadb3d-b7b0-4eab-926f-95229fbfd9e8"
      },
      "source": [
        "!elixir -e 'IO.puts :math.pi()'\n",
        "!elixir -e 'IO.puts :math.sin(:math.pi()/2)'\n",
        "!elixir -e 'IO.puts :math.log(:math.exp(2))'"
      ],
      "execution_count": null,
      "outputs": [
        {
          "output_type": "stream",
          "text": [
            "3.141592653589793\n",
            "1.0\n",
            "2.0\n"
          ],
          "name": "stdout"
        }
      ]
    },
    {
      "cell_type": "markdown",
      "metadata": {
        "id": "DV_RjeO7qB50"
      },
      "source": [
        "真偽値 = 論理値 = 真理値 = boolean\n",
        "\n",
        "elixir では false と nil を除く値はすべて true である。\n"
      ]
    },
    {
      "cell_type": "code",
      "metadata": {
        "colab": {
          "base_uri": "https://localhost:8080/"
        },
        "id": "9946VMIkqIGC",
        "outputId": "95311a69-4057-4bd9-c470-eacf124cc4e3"
      },
      "source": [
        "!elixir -e 'IO.puts true'\n",
        "!elixir -e 'IO.puts not true'\n",
        "!elixir -e 'IO.puts 1 < 3'\n",
        "!elixir -e 'IO.puts is_boolean 1 < 3'\n",
        "!echo\n",
        "!elixir -e 'IO.puts is_integer 1.0'\n",
        "!elixir -e 'IO.puts is_float 1.0'\n",
        "!elixir -e 'IO.puts is_number 0b1'"
      ],
      "execution_count": null,
      "outputs": [
        {
          "output_type": "stream",
          "text": [
            "true\n",
            "false\n",
            "true\n",
            "true\n",
            "\n",
            "false\n",
            "true\n",
            "true\n"
          ],
          "name": "stdout"
        }
      ]
    },
    {
      "cell_type": "code",
      "metadata": {
        "id": "jupmm1GusJHJ",
        "colab": {
          "base_uri": "https://localhost:8080/"
        },
        "outputId": "ef363ccb-31e5-4341-c049-983ab9d90ce3"
      },
      "source": [
        "!elixir -e 'IO.puts -1 || true'\n",
        "!elixir -e 'IO.puts true || 0'\n",
        "!elixir -e 'IO.puts false || 2'\n",
        "!elixir -e 'IO.puts  nil && 3'\n",
        "!elixir -e 'IO.puts true && 4'\n",
        "!elixir -e 'IO.inspect  nil'\n",
        "!elixir -e 'IO.puts !nil'"
      ],
      "execution_count": null,
      "outputs": [
        {
          "output_type": "stream",
          "text": [
            "-1\n",
            "true\n",
            "2\n",
            "\n",
            "4\n",
            "nil\n",
            "true\n"
          ],
          "name": "stdout"
        }
      ]
    },
    {
      "cell_type": "code",
      "metadata": {
        "id": "lAuGB8V4vdqE",
        "colab": {
          "base_uri": "https://localhost:8080/"
        },
        "outputId": "bc57e00b-1ca0-4e2a-e9ed-37b486e29815"
      },
      "source": [
        "# and と or ははじめの引数は論理値でなければならない\n",
        "# !elixir -e 'IO.puts -1 or true' #=> error\n",
        "!elixir -e 'IO.puts true or 0'\n",
        "!elixir -e 'IO.puts false or 2'\n",
        "# !elixir -e 'IO.puts  nil and 3' #=> error\n",
        "!elixir -e 'IO.puts true and 4'\n",
        "!echo\n",
        "!elixir -e 'IO.puts is_atom(:example) and 1'\n",
        "!elixir -e 'IO.puts not is_number(false)'\n",
        "# not も同じ\n",
        "# !elixir -e 'IO.puts not 1' #=> error\n"
      ],
      "execution_count": null,
      "outputs": [
        {
          "output_type": "stream",
          "text": [
            "true\n",
            "2\n",
            "4\n",
            "\n",
            "1\n",
            "true\n"
          ],
          "name": "stdout"
        }
      ]
    },
    {
      "cell_type": "code",
      "metadata": {
        "id": "EvNKgLuRw0ix",
        "colab": {
          "base_uri": "https://localhost:8080/"
        },
        "outputId": "ebd399a8-762b-4147-bb47-b1c581bd2846"
      },
      "source": [
        "# 異なった型の大小\n",
        "# number < atom < reference < function < port < pid < tuple < map < list < bitstring\n",
        "!elixir -e 'IO.puts :hello > 999'\n",
        "!elixir -e 'IO.puts {:hello, :world} > [1, 2, 3]'"
      ],
      "execution_count": null,
      "outputs": [
        {
          "output_type": "stream",
          "text": [
            "true\n",
            "false\n"
          ],
          "name": "stdout"
        }
      ]
    },
    {
      "cell_type": "code",
      "metadata": {
        "id": "cDMkqq2xxZsg"
      },
      "source": [
        ""
      ],
      "execution_count": null,
      "outputs": []
    },
    {
      "cell_type": "markdown",
      "metadata": {
        "id": "AvFhFs27vQJg"
      },
      "source": [
        "---\n",
        "ヘルプは次のようにやる。"
      ]
    },
    {
      "cell_type": "code",
      "metadata": {
        "id": "FEjNnXwwrCr5"
      },
      "source": [
        "!elixir -e 'require IEx.Helpers; IEx.Helpers.h is_integer/1'"
      ],
      "execution_count": null,
      "outputs": []
    },
    {
      "cell_type": "markdown",
      "metadata": {
        "id": "BDPti1qgrQrb"
      },
      "source": [
        "アトム\n",
        "\n",
        "アトムは名前がそのまま値となる定数。"
      ]
    },
    {
      "cell_type": "code",
      "metadata": {
        "colab": {
          "base_uri": "https://localhost:8080/"
        },
        "id": "m5L-p06OrXWz",
        "outputId": "0a27bc33-5863-46cd-922c-8ec3b76d07ed"
      },
      "source": [
        "!elixir -e 'IO.puts :hello'\n",
        "!elixir -e 'IO.puts :world'\n",
        "!elixir -e 'IO.inspect :hello'\n",
        "!elixir -e 'IO.inspect :world'"
      ],
      "execution_count": null,
      "outputs": [
        {
          "output_type": "stream",
          "text": [
            "hello\n",
            "world\n",
            ":hello\n",
            ":world\n"
          ],
          "name": "stdout"
        }
      ]
    },
    {
      "cell_type": "markdown",
      "metadata": {
        "id": "N8wXX2pTdRi8"
      },
      "source": [
        "論理値の true と false は、アトムである。"
      ]
    },
    {
      "cell_type": "code",
      "metadata": {
        "colab": {
          "base_uri": "https://localhost:8080/"
        },
        "id": "Kp83TFvPdc8X",
        "outputId": "6deb04ab-31f9-4c5e-80b8-a9c1a00ac14a"
      },
      "source": [
        "!elixir -e 'IO.puts is_atom :hello'\n",
        "# !elixir -e 'IO.puts is_atom hello' => error\n",
        "!elixir -e 'IO.puts is_atom true'\n",
        "!elixir -e 'IO.puts is_boolean true'\n",
        "!elixir -e 'IO.puts is_boolean :true'\n",
        "!echo\n",
        "!elixir -e 'IO.puts is_atom IEx'\n",
        "!elixir -e 'IO.puts is_atom ThisIsAPen'\n",
        "!elixir -e 'IO.puts is_atom String'"
      ],
      "execution_count": null,
      "outputs": [
        {
          "output_type": "stream",
          "text": [
            "true\n",
            "true\n",
            "true\n",
            "true\n",
            "\n",
            "true\n",
            "true\n",
            "true\n"
          ],
          "name": "stdout"
        }
      ]
    },
    {
      "cell_type": "code",
      "metadata": {
        "colab": {
          "base_uri": "https://localhost:8080/"
        },
        "id": "zQtgx_c6eSWx",
        "outputId": "b62ab922-7b39-4f4b-d260-eec67c81de83"
      },
      "source": [
        "!elixir -e 'IO.puts is_atom :math'\n",
        "# !elixir -e 'IO.puts is_atom math' => error\n",
        "!elixir -e 'IO.puts :math.pow(2,100)'"
      ],
      "execution_count": null,
      "outputs": [
        {
          "output_type": "stream",
          "text": [
            "true\n",
            "1.2676506002282294e30\n"
          ],
          "name": "stdout"
        }
      ]
    },
    {
      "cell_type": "code",
      "metadata": {
        "colab": {
          "base_uri": "https://localhost:8080/"
        },
        "id": "u-__qBHwe6kK",
        "outputId": "3e992cb0-f69d-410d-f807-a8b1000c2ed4"
      },
      "source": [
        "!elixir -e 'IO.puts is_binary \"hello\"'\n",
        "!elixir -e 'IO.puts byte_size \"hello\"'\n",
        "!elixir -e 'IO.puts byte_size \"こんにちは\"'\n",
        "!elixir -e 'IO.puts String.length \"こんにちは\"'"
      ],
      "execution_count": null,
      "outputs": [
        {
          "output_type": "stream",
          "text": [
            "true\n",
            "5\n",
            "15\n",
            "5\n"
          ],
          "name": "stdout"
        }
      ]
    },
    {
      "cell_type": "markdown",
      "metadata": {
        "id": "ZcYTGhJbfXDQ"
      },
      "source": [
        "# 関数\n",
        "\n",
        "関数は fn ではじめ、 end で閉じる。\n",
        "\n",
        "作った関数は関数名、もしくは無名関数のあとにドットと括弧に引数を入れる。\n"
      ]
    },
    {
      "cell_type": "code",
      "metadata": {
        "colab": {
          "base_uri": "https://localhost:8080/"
        },
        "id": "_sa-Ham7fiHB",
        "outputId": "0b5d8c94-0716-4c32-b895-a4c324861538"
      },
      "source": [
        "!elixir -e 'IO.inspect fn a,b  -> a + b end'\n",
        "!elixir -e 'sum = fn (a,b) -> a + b end; IO.puts sum.(3,4)'\n",
        "!elixir -e 'IO.puts (fn (a,b) -> a + b end).(3,4)'\n",
        "!elixir -e 'sum = fn (a,b) -> a + b end; IO.puts is_function sum'\n",
        "!elixir -e 'sum = fn (a,b) -> a + b end; IO.puts is_function(sum, 2)'"
      ],
      "execution_count": null,
      "outputs": [
        {
          "output_type": "stream",
          "text": [
            "#Function<43.40011524/2 in :erl_eval.expr/5>\n",
            "7\n",
            "7\n",
            "true\n",
            "true\n"
          ],
          "name": "stdout"
        }
      ]
    },
    {
      "cell_type": "markdown",
      "metadata": {
        "id": "d-wbqomEXdav"
      },
      "source": [
        "キャプチャー演算子 `&`\n",
        "\n"
      ]
    },
    {
      "cell_type": "code",
      "metadata": {
        "id": "q2pjSx8CXoT4",
        "colab": {
          "base_uri": "https://localhost:8080/"
        },
        "outputId": "361f1ec1-155d-4000-9f3c-d7cf18f95713"
      },
      "source": [
        "!elixir -e 'sum = &(&1 + &2); IO.puts sum.(3,4)'\n",
        "!elixir -e 'sum = &(&1 + &2); double = &(sum.(&1,&1)); IO.puts double.(7)'"
      ],
      "execution_count": null,
      "outputs": [
        {
          "output_type": "stream",
          "text": [
            "7\n",
            "14\n"
          ],
          "name": "stdout"
        }
      ]
    },
    {
      "cell_type": "code",
      "metadata": {
        "id": "cNA8dW64Ye1B",
        "colab": {
          "base_uri": "https://localhost:8080/"
        },
        "outputId": "ffd7217a-ed8b-4534-e198-d24e9e977f3d"
      },
      "source": [
        "!elixir -e 'IO.puts (&(&1+&2)).(3,4)'"
      ],
      "execution_count": null,
      "outputs": [
        {
          "output_type": "stream",
          "text": [
            "7\n"
          ],
          "name": "stdout"
        }
      ]
    },
    {
      "cell_type": "code",
      "metadata": {
        "id": "y8lMsz7iZBU7",
        "colab": {
          "base_uri": "https://localhost:8080/"
        },
        "outputId": "504ad04d-3b02-4559-932c-a0d3e534417e"
      },
      "source": [
        "# 質問 次の無名関数をキャプチャー演算子を使って書けるか\n",
        "!elixir -e 'IO.puts (fn -> _x = 1 end).()'"
      ],
      "execution_count": null,
      "outputs": [
        {
          "output_type": "stream",
          "text": [
            "1\n",
            "** (CompileError) nofile:1: invalid args for &, expected an expression in the format of &Mod.fun/arity, &local/arity or a capture containing at least one argument as &1, got: _x = 1\n",
            "    (stdlib 3.15.1) lists.erl:1358: :lists.mapfoldl/3\n"
          ],
          "name": "stdout"
        }
      ]
    },
    {
      "cell_type": "markdown",
      "metadata": {
        "id": "Iq7DuP8fZjAb"
      },
      "source": [
        "# リスト"
      ]
    },
    {
      "cell_type": "code",
      "metadata": {
        "id": "JA5dJ0jCZpSF",
        "colab": {
          "base_uri": "https://localhost:8080/"
        },
        "outputId": "0a2af3a6-8b10-48d2-8de1-2662b15ba389"
      },
      "source": [
        "!elixir -e 'IO.inspect list = [3.14, :pie, true, \"Apple\"]'"
      ],
      "execution_count": null,
      "outputs": [
        {
          "output_type": "stream",
          "text": [
            "[3.14, :pie, true, \"Apple\"]\n"
          ],
          "name": "stdout"
        }
      ]
    },
    {
      "cell_type": "code",
      "metadata": {
        "id": "QE88z7fYbNOz",
        "colab": {
          "base_uri": "https://localhost:8080/"
        },
        "outputId": "77757e29-0b19-4f72-a236-d66ed492e9b1"
      },
      "source": [
        "!elixir -e 'list = [3.14, :pie, true, \"Apple\"];IO.puts length(list)'"
      ],
      "execution_count": null,
      "outputs": [
        {
          "output_type": "stream",
          "text": [
            "4\n"
          ],
          "name": "stdout"
        }
      ]
    },
    {
      "cell_type": "code",
      "metadata": {
        "id": "Sj9eiF7bbYoq",
        "colab": {
          "base_uri": "https://localhost:8080/"
        },
        "outputId": "d3bd687e-9806-45d6-9b77-2ccf3ecc8838"
      },
      "source": [
        "!elixir -e 'IO.inspect list = [3.14, :pie, true, \"Apple\"] ++ [\"Cherry\"]'\n",
        "!elixir -e 'IO.inspect list = [3.14, :pie, true, \"Apple\"] -- [true, false]'\n",
        "!elixir -e 'IO.inspect [1, 1, 2, 1, 2, 3, 1, 2, 3, 4] -- [4, 1, 3, 1, 2]'"
      ],
      "execution_count": null,
      "outputs": [
        {
          "output_type": "stream",
          "text": [
            "[3.14, :pie, true, \"Apple\", \"Cherry\"]\n",
            "[3.14, :pie, \"Apple\"]\n",
            "[1, 2, 1, 2, 3]\n"
          ],
          "name": "stdout"
        }
      ]
    },
    {
      "cell_type": "code",
      "metadata": {
        "id": "Zfbt-WWSfJYt",
        "colab": {
          "base_uri": "https://localhost:8080/"
        },
        "outputId": "7d4c48a6-3a85-42c8-b62e-ef515ee14cd7"
      },
      "source": [
        "!elixir -e 'list = [3.14, :pie, true, \"Apple\"];IO.puts hd(list)'\n",
        "!elixir -e 'list = [3.14, :pie, true, \"Apple\"];IO.inspect tl(list)'\n",
        "# !elixir -e 'IO.inspect hd []' #=> error not a nonempty list\n",
        "!elixir -e 'list = [3.14, :pie, true, \"Apple\"]; IO.inspect [head | tail] = list; IO.inspect tail'"
      ],
      "execution_count": null,
      "outputs": [
        {
          "output_type": "stream",
          "text": [
            "3.14\n",
            "[:pie, true, \"Apple\"]\n",
            "[3.14, :pie, true, \"Apple\"]\n",
            "[:pie, true, \"Apple\"]\n"
          ],
          "name": "stdout"
        }
      ]
    },
    {
      "cell_type": "code",
      "metadata": {
        "id": "cXkGAkLlghd5",
        "colab": {
          "base_uri": "https://localhost:8080/"
        },
        "outputId": "01445f2d-2545-4fc6-dd1d-53310575c2e5"
      },
      "source": [
        "# charlist -- erlang とのインターフェイスに使われる、とか\n",
        "!elixir -e 'IO.puts [104, 101, 108, 108, 111]'\n",
        "!elixir -e 'IO.puts [97,98,99]' \n",
        "!elixir -e 'IO.inspect ?a'"
      ],
      "execution_count": null,
      "outputs": [
        {
          "output_type": "stream",
          "text": [
            "hello\n",
            "abc\n",
            "97\n"
          ],
          "name": "stdout"
        }
      ]
    },
    {
      "cell_type": "code",
      "metadata": {
        "id": "XooBLLYhqDZC",
        "colab": {
          "base_uri": "https://localhost:8080/"
        },
        "outputId": "8c0cc97f-b22c-46e2-ddd4-e3756e94b279"
      },
      "source": [
        "!elixir -e 'IO.puts [104, 101, 108, 108, 111]'\n",
        "!elixir -e 'IO.inspect [104, 101, 108, 108, 111]'\n",
        "!elixir -e 'IO.puts \"hello\"'\n",
        "!elixir -e 'IO.inspect \"hello\"'\n",
        "!elixir -e \"IO.inspect 'hello'\"\n",
        "!echo\n",
        "!elixir -e \"require IEx.Helpers; IO.puts IEx.Helpers.i('hello')\" #=> シングルクオートの文字列は list of integers\n",
        "!echo\n",
        "!elixir -e 'require IEx.Helpers; IO.puts IEx.Helpers.i(\"hello\")' #=> ダブルクオートの文字列は bitstring"
      ],
      "execution_count": null,
      "outputs": [
        {
          "output_type": "stream",
          "text": [
            "hello\n",
            "'hello'\n",
            "hello\n",
            "\"hello\"\n",
            "'hello'\n",
            "\n",
            "\u001b[33mTerm\u001b[0m\n",
            "\u001b[22m  'hello'\u001b[0m\n",
            "\u001b[33mData type\u001b[0m\n",
            "\u001b[22m  List\u001b[0m\n",
            "\u001b[33mDescription\u001b[0m\n",
            "\u001b[22m  This is a list of integers that is printed as a sequence of characters\n",
            "  delimited by single quotes because all the integers in it represent printable\n",
            "  ASCII characters. Conventionally, a list of Unicode code points is known as a\n",
            "  charlist and a list of ASCII characters is a subset of it.\u001b[0m\n",
            "\u001b[33mRaw representation\u001b[0m\n",
            "\u001b[22m  [104, 101, 108, 108, 111]\u001b[0m\n",
            "\u001b[33mReference modules\u001b[0m\n",
            "\u001b[22m  List\u001b[0m\n",
            "\u001b[33mImplemented protocols\u001b[0m\n",
            "\u001b[22m  Collectable, Enumerable, IEx.Info, Inspect, List.Chars, String.Chars\u001b[0m\n",
            "do not show this result in output\n",
            "\n",
            "\u001b[33mTerm\u001b[0m\n",
            "\u001b[22m  \"hello\"\u001b[0m\n",
            "\u001b[33mData type\u001b[0m\n",
            "\u001b[22m  BitString\u001b[0m\n",
            "\u001b[33mByte size\u001b[0m\n",
            "\u001b[22m  5\u001b[0m\n",
            "\u001b[33mDescription\u001b[0m\n",
            "\u001b[22m  This is a string: a UTF-8 encoded binary. It's printed surrounded by\n",
            "  \"double quotes\" because all UTF-8 encoded code points in it are printable.\u001b[0m\n",
            "\u001b[33mRaw representation\u001b[0m\n",
            "\u001b[22m  <<104, 101, 108, 108, 111>>\u001b[0m\n",
            "\u001b[33mReference modules\u001b[0m\n",
            "\u001b[22m  String, :binary\u001b[0m\n",
            "\u001b[33mImplemented protocols\u001b[0m\n",
            "\u001b[22m  Collectable, IEx.Info, Inspect, List.Chars, String.Chars\u001b[0m\n",
            "do not show this result in output\n"
          ],
          "name": "stdout"
        }
      ]
    },
    {
      "cell_type": "markdown",
      "metadata": {
        "id": "PaOe20xn3Pzj"
      },
      "source": [
        "# タプル\n",
        "\n",
        "タプルは波括弧 brace を用いて定義する。\n",
        "\n",
        "elixir のコレクションはすべて要素のタイプを限定しない。\n",
        "\n",
        "通常 2 から 4 の要素であり、それ以上の要素数の場合、map や struct の利用を考える。\n",
        "\n",
        "タプルは関数の返り値に便利に利用される。\n",
        "\n",
        "パターンマッチングと組み合わせて使われる。\n",
        "\n"
      ]
    },
    {
      "cell_type": "markdown",
      "metadata": {
        "id": "evYLkSqLiL3k"
      },
      "source": [
        "---\n",
        "メモ\n",
        "\n",
        "タプルは要素をメモリーに連続して納めるので、長さを得るのがリストより速い。 連番のインデクスで要素を取り出すことができる、などのメリットがあり、他の言語のリストに近い、とも言えるが、非効率なため、データ処理にはリストとマップ (連想配列) が使われる。"
      ]
    },
    {
      "cell_type": "code",
      "metadata": {
        "id": "2QD3h5Hi33UU",
        "colab": {
          "base_uri": "https://localhost:8080/"
        },
        "outputId": "72c4f5c7-5ada-45b1-cbf4-57bf7f548265"
      },
      "source": [
        "!elixir -e 'IO.inspect {3.14, :pie, \"Apple\"}'"
      ],
      "execution_count": null,
      "outputs": [
        {
          "output_type": "stream",
          "text": [
            "{3.14, :pie, \"Apple\"}\n"
          ],
          "name": "stdout"
        }
      ]
    },
    {
      "cell_type": "code",
      "metadata": {
        "id": "rh0RBDBF8CQj",
        "colab": {
          "base_uri": "https://localhost:8080/"
        },
        "outputId": "8a780699-1894-4696-cee8-fbcd82eaa679"
      },
      "source": [
        "!elixir -e 'IO.inspect tuple_size {3.14, :pie, \"Apple\"}'\n",
        "!elixir -e 'IO.inspect length Tuple.to_list {3.14, :pie, \"Apple\"}'\n",
        "!elixir -e 'tuple = {3.14, :pie, \"Apple\"}; IO.inspect put_elem(tuple,2,\"Cherry\")'"
      ],
      "execution_count": null,
      "outputs": [
        {
          "output_type": "stream",
          "text": [
            "3\n",
            "3\n",
            "{3.14, :pie, \"Cherry\"}\n"
          ],
          "name": "stdout"
        }
      ]
    },
    {
      "cell_type": "code",
      "metadata": {
        "id": "S8zPbpT4qw1g",
        "colab": {
          "base_uri": "https://localhost:8080/"
        },
        "outputId": "689376fa-9b60-4a11-91fa-16e19b9c7770"
      },
      "source": [
        "!elixir -e 'IO.inspect tuple = {:ok, \"hello\"}'\n",
        "!elixir -e 'tuple = {:ok, \"hello\"};IO.inspect elem(tuple, 1)'"
      ],
      "execution_count": null,
      "outputs": [
        {
          "output_type": "stream",
          "text": [
            "{:ok, \"hello\"}\n",
            "\"hello\"\n"
          ],
          "name": "stdout"
        }
      ]
    },
    {
      "cell_type": "markdown",
      "metadata": {
        "id": "TVPDj-p0rMKf"
      },
      "source": [
        "# パターンマッチング\n",
        "\n",
        "elixir で `=` は通常のプログラミング言語の代入のように使えるが、マッチ演算子である。\n",
        "\n",
        "マッチすると、方程式の結果が返され、失敗すると、エラーになる。\n",
        "\n",
        "タプルに使うと便利。"
      ]
    },
    {
      "cell_type": "code",
      "metadata": {
        "id": "sAAMPeW_rLjn",
        "colab": {
          "base_uri": "https://localhost:8080/"
        },
        "outputId": "72fdb0e4-bb13-490a-bf9f-7ab9896f5f27"
      },
      "source": [
        "!elixir -e '{:ok, result} = {:ok, 1}; IO.puts result'"
      ],
      "execution_count": null,
      "outputs": [
        {
          "output_type": "stream",
          "text": [
            "1\n"
          ],
          "name": "stdout"
        }
      ]
    },
    {
      "cell_type": "markdown",
      "metadata": {
        "id": "VEiN6vENWuas"
      },
      "source": [
        "アンダースコア `_` は値を無視する。 ワルドカード。\n",
        "\n",
        "ピン演算子 `^` は、新しく再束縛するのではなく既存の値とマッチする。\n",
        "\n"
      ]
    },
    {
      "cell_type": "markdown",
      "metadata": {
        "id": "YWL4IGuwXBfn"
      },
      "source": [
        "---\n",
        "# 条件 case/cond/if\n",
        "\n",
        "case は end で閉じる。 end の前に改行やセミコロン `;` は要らない。\n",
        "\n",
        "パターンマッチの残りすべての場合を引き受けるにはアンダースコア `_` を用いる。\n",
        "\n",
        "条件にマッチする処理が書かれていないとエラー。\n",
        "\n",
        "case の外の変数をパターンとして参照するときは、ピン演算子 `^` を使う。\n",
        "\n",
        "when 条件、ガード、を加えることができる。\n",
        "\n",
        "条件構文は式である。 文ではない。"
      ]
    },
    {
      "cell_type": "code",
      "metadata": {
        "id": "rCgvgH7SWuIN",
        "colab": {
          "base_uri": "https://localhost:8080/"
        },
        "outputId": "7c48413d-d1f9-427f-94f4-505a1bb842c3"
      },
      "source": [
        "!elixir -e 'result = case {:ok, \"hello world\"} do {:ok, result} -> result; {:error, error} -> error; _ -> \"others\" end; IO.puts result'"
      ],
      "execution_count": null,
      "outputs": [
        {
          "output_type": "stream",
          "text": [
            "hello world\n"
          ],
          "name": "stdout"
        }
      ]
    },
    {
      "cell_type": "code",
      "metadata": {
        "id": "diDb9OCxZzS-",
        "colab": {
          "base_uri": "https://localhost:8080/"
        },
        "outputId": "e578da8a-03e4-45ea-85bd-90dc9fa37b78"
      },
      "source": [
        "!elixir -e 'result = case {:error, 39} do {:ok, result} -> result; {:error, error} -> error; _ -> \"others\" end; IO.puts result'"
      ],
      "execution_count": null,
      "outputs": [
        {
          "output_type": "stream",
          "text": [
            "39\n"
          ],
          "name": "stdout"
        }
      ]
    },
    {
      "cell_type": "code",
      "metadata": {
        "id": "ok8q17WDxETN",
        "colab": {
          "base_uri": "https://localhost:8080/"
        },
        "outputId": "3eec6911-d8ca-4d8a-b8d2-2bbbdaac0a25"
      },
      "source": [
        "!elixir -e 'x=1; result = case 2 do ^x->1;x->x end; IO.puts result'"
      ],
      "execution_count": null,
      "outputs": [
        {
          "output_type": "stream",
          "text": [
            "2\n"
          ],
          "name": "stdout"
        }
      ]
    },
    {
      "cell_type": "markdown",
      "metadata": {
        "id": "IHlQZnYuzBjl"
      },
      "source": [
        "when を加える"
      ]
    },
    {
      "cell_type": "code",
      "metadata": {
        "id": "O-DeJleHzG1w",
        "colab": {
          "base_uri": "https://localhost:8080/"
        },
        "outputId": "b32d1be1-2955-4800-fbcf-b44034b55898"
      },
      "source": [
        "# when を加える\n",
        "!elixir -e 'result=case 3 do 1->:one;2->:two;n when is_integer(n)and n>2->:larger_than_two;_->:not_integer end; IO.puts result'"
      ],
      "execution_count": null,
      "outputs": [
        {
          "output_type": "stream",
          "text": [
            "larger_than_two\n"
          ],
          "name": "stdout"
        }
      ]
    },
    {
      "cell_type": "code",
      "metadata": {
        "id": "YMx7c6blzmRz",
        "colab": {
          "base_uri": "https://localhost:8080/"
        },
        "outputId": "ce52a047-2295-4fc9-deed-a6ca56a9f81e"
      },
      "source": [
        "# when を使った関数定義\n",
        "!elixir -e 'is_even? =fn n when rem(n,2)==0->true;n when rem(n,2)==1->false;_->:not_integer end;IO.puts is_even?.(1)'"
      ],
      "execution_count": null,
      "outputs": [
        {
          "output_type": "stream",
          "text": [
            "false\n"
          ],
          "name": "stdout"
        }
      ]
    },
    {
      "cell_type": "code",
      "metadata": {
        "colab": {
          "base_uri": "https://localhost:8080/"
        },
        "id": "X4I8HLBRNl_0",
        "outputId": "2b856eb7-69d9-43bd-b68c-3946844abd50"
      },
      "source": [
        "# 型エラーではじいてくれないので `_` で受ける必要がある\n",
        "!elixir -e 'is_even? =fn n when rem(n,2)==0->true;n when rem(n,2)==1->false;_->:not_integer end;IO.puts is_even?.(2.0)'"
      ],
      "execution_count": null,
      "outputs": [
        {
          "output_type": "stream",
          "text": [
            "not_integer\n"
          ],
          "name": "stdout"
        }
      ]
    },
    {
      "cell_type": "code",
      "metadata": {
        "id": "tuxBEcSWN-Ub"
      },
      "source": [
        "# 実験\n",
        "# !elixir -e 'IO.puts rem(2.0,2)' #=> エラー bad argument in arithmetic expression"
      ],
      "execution_count": null,
      "outputs": []
    },
    {
      "cell_type": "markdown",
      "metadata": {
        "id": "embloffkOglz"
      },
      "source": [
        "**cond について**\n",
        "\n",
        "case はひとつの値をいくつかのパターンからマッチさせて処理する。\n",
        "\n",
        "けれども、条件がさまざまな場合 cond を用いる。\n",
        "\n",
        "true と評価される条件がないとエラーになる。 最後に true の処理を加えておく。"
      ]
    },
    {
      "cell_type": "code",
      "metadata": {
        "colab": {
          "base_uri": "https://localhost:8080/"
        },
        "id": "ALm9DAq3PSKY",
        "outputId": "3c21b0f4-c2f2-40a7-f40a-a986cb92cd9e"
      },
      "source": [
        "!elixir -e 'IO.puts(cond do 1 > 2 -> false;is_integer(1.0) -> false;nil -> false;[1, 2, 3] -> true;true -> \"実行されない\" end)'"
      ],
      "execution_count": null,
      "outputs": [
        {
          "output_type": "stream",
          "text": [
            "true\n"
          ],
          "name": "stdout"
        }
      ]
    },
    {
      "cell_type": "code",
      "metadata": {
        "colab": {
          "base_uri": "https://localhost:8080/"
        },
        "id": "0kmwCkKRPyC4",
        "outputId": "090ac946-19b1-4592-d9dd-b07de5939a17"
      },
      "source": [
        "# !elixir -e 'IO.puts(cond do 1 > 2 -> false;is_integer(1.0) -> false;nil -> false end)' #=> エラー no cond clause evaluated to a truthy value"
      ],
      "execution_count": null,
      "outputs": [
        {
          "output_type": "stream",
          "text": [
            "** (CondClauseError) no cond clause evaluated to a truthy value\n",
            "    (stdlib 3.15.1) erl_eval.erl:685: :erl_eval.do_apply/6\n",
            "    (stdlib 3.15.1) erl_eval.erl:893: :erl_eval.expr_list/6\n",
            "    (stdlib 3.15.1) erl_eval.erl:408: :erl_eval.expr/5\n",
            "    (elixir 1.12.0) lib/code.ex:656: Code.eval_string_with_error_handling/3\n"
          ],
          "name": "stdout"
        }
      ]
    },
    {
      "cell_type": "code",
      "metadata": {
        "colab": {
          "base_uri": "https://localhost:8080/"
        },
        "id": "9wo5xl9CQCkQ",
        "outputId": "4e2a7e76-f33a-47bf-cb00-e81f85fc8962"
      },
      "source": [
        "!elixir -e 'IO.puts(cond do 1 > 2 -> false;is_integer(1.0) -> false;nil -> false;true -> \"実行されない\" end)'"
      ],
      "execution_count": null,
      "outputs": [
        {
          "output_type": "stream",
          "text": [
            "実行されない\n"
          ],
          "name": "stdout"
        }
      ]
    },
    {
      "cell_type": "markdown",
      "metadata": {
        "id": "po6Ej27qQK9R"
      },
      "source": [
        "if と unless について\n",
        "\n",
        "評価する条件が 1つだけのときに if と unless を使う。\n",
        "\n",
        "if と unless は elixir のマクロとして定義されている。"
      ]
    },
    {
      "cell_type": "code",
      "metadata": {
        "colab": {
          "base_uri": "https://localhost:8080/"
        },
        "id": "aNrkB_Hhlh1M",
        "outputId": "b542dbc5-be2d-4fe9-9114-532b118bdbce"
      },
      "source": [
        "!elixir -e 'IO.puts (if true do \"実行する\" end)'\n",
        "!elixir -e 'IO.puts (if !0 do true; else false end)'"
      ],
      "execution_count": null,
      "outputs": [
        {
          "output_type": "stream",
          "text": [
            "実行する\n",
            "false\n"
          ],
          "name": "stdout"
        }
      ]
    },
    {
      "cell_type": "code",
      "metadata": {
        "id": "KEE_Zk0-J7pC",
        "colab": {
          "base_uri": "https://localhost:8080/"
        },
        "outputId": "c20f27de-5a43-4770-8a04-7b7c5e727fb6"
      },
      "source": [
        "# unless は if の逆 \n",
        "!elixir -e 'IO.puts (unless 0 do \"実行されない\" else \"なぜか\" end)'"
      ],
      "execution_count": null,
      "outputs": [
        {
          "output_type": "stream",
          "text": [
            "なぜか\n"
          ],
          "name": "stdout"
        }
      ]
    },
    {
      "cell_type": "markdown",
      "metadata": {
        "id": "cIOHD8KnKNib"
      },
      "source": [
        "if , unless いずれも後置はできない。"
      ]
    },
    {
      "cell_type": "markdown",
      "metadata": {
        "id": "A-L0vdJdKlQb"
      },
      "source": [
        "**do/end ブロック について**\n",
        "\n",
        "do/end ブロックを 1つの式で書くことができる。"
      ]
    },
    {
      "cell_type": "code",
      "metadata": {
        "id": "y6pvoaNTVAuI",
        "colab": {
          "base_uri": "https://localhost:8080/"
        },
        "outputId": "bbacaf40-072c-4598-a9da-b2232df51b7b"
      },
      "source": [
        "!elixir -e 'IO.puts if(0<1, do: 1+2)'\n",
        "!elixir -e 'IO.puts if(false, do: :this, else: :that)'\n",
        "!elixir -e 'IO.puts if(false, [do: :this, else: :that])'\n",
        "!elixir -e 'IO.puts if(true, do: (x=2; x*x))'"
      ],
      "execution_count": null,
      "outputs": [
        {
          "output_type": "stream",
          "text": [
            "3\n",
            "that\n",
            "that\n",
            "4\n"
          ],
          "name": "stdout"
        }
      ]
    },
    {
      "cell_type": "markdown",
      "metadata": {
        "id": "e3AKiFpjVs-j"
      },
      "source": [
        "if 式を引数にする時は丸括弧で囲む。"
      ]
    },
    {
      "cell_type": "code",
      "metadata": {
        "id": "CvR4oDIOV0xK",
        "colab": {
          "base_uri": "https://localhost:8080/"
        },
        "outputId": "01586ee2-27a4-4f38-813c-31672b025ef8"
      },
      "source": [
        "!elixir -e 'IO.puts is_number(if true do 2 end)'"
      ],
      "execution_count": null,
      "outputs": [
        {
          "output_type": "stream",
          "text": [
            "true\n"
          ],
          "name": "stdout"
        }
      ]
    },
    {
      "cell_type": "markdown",
      "metadata": {
        "id": "ru9hX1sGLPi8"
      },
      "source": [
        "# バイナリ binary と文字列 string および文字リスト charlist\n",
        "\n",
        "どうもよくわからないなぁ、と思っていたら、elixir での binary, string, charlist が特別なのだね。 パソコンでよく、テキストファイルとかバイナリーファイルとか言うのと関係ない。 \n",
        "\n",
        "* ダブルクオートで囲まれた文字列は binary\n",
        "* シングルクオートで囲まれた文字列は charlist\n",
        "* charlist は erlang との整合性のためにあるみたい\n",
        "* びっくりしないようにひと通り学んでおく。使うことはないみたい\n",
        "* 出てきたら、to_string で文字列にすればよい\n"
      ]
    },
    {
      "cell_type": "code",
      "metadata": {
        "id": "DpD4QQameKnv",
        "colab": {
          "base_uri": "https://localhost:8080/"
        },
        "outputId": "4914ab48-4ada-4545-dd0b-bdf3c3696208"
      },
      "source": [
        "!elixir -e 'IO.puts is_binary(\"hello\")'\n",
        "!elixir -e 'IO.puts is_binary(\"こんにちは!!!\")'\n",
        "!elixir -e 'IO.puts byte_size(\"hello\")'\n",
        "!elixir -e 'IO.puts byte_size(\"こんにちは!!!\")'\n",
        "!elixir -e 'IO.puts String.length(\"hello\")'\n",
        "!elixir -e 'IO.puts String.length(\"こんにちは!!!\")'"
      ],
      "execution_count": null,
      "outputs": [
        {
          "output_type": "stream",
          "text": [
            "true\n",
            "true\n",
            "5\n",
            "18\n",
            "5\n",
            "8\n"
          ],
          "name": "stdout"
        }
      ]
    },
    {
      "cell_type": "code",
      "metadata": {
        "id": "sH_Vs3wnepG0",
        "colab": {
          "base_uri": "https://localhost:8080/"
        },
        "outputId": "86c660fe-7007-474c-a898-fbbd762063e6"
      },
      "source": [
        "!elixir -e 'IO.puts ?a'\n",
        "!elixir -e 'IO.puts ?あ'"
      ],
      "execution_count": null,
      "outputs": [
        {
          "output_type": "stream",
          "text": [
            "97\n",
            "12354\n"
          ],
          "name": "stdout"
        }
      ]
    },
    {
      "cell_type": "markdown",
      "metadata": {
        "id": "pqbUiTWxPcqX"
      },
      "source": [
        "上の例は文字のコードポイントは `?` で得られるということなのだが、これは関数か?"
      ]
    },
    {
      "cell_type": "code",
      "metadata": {
        "id": "PyBqG6p9PqD1"
      },
      "source": [
        "# 次のようにするとエラーになるので、関数ではなさそう。 演算子か?\n",
        "# !elixir -e 'require IEx.Helpers; IEx.Helpers.h ?'"
      ],
      "execution_count": null,
      "outputs": []
    },
    {
      "cell_type": "code",
      "metadata": {
        "id": "wUVsH3f7S7fJ"
      },
      "source": [
        "# 正規表現で日本語 (2バイト文字) とかを検索置換\n",
        "# ([\\u3400-\\u4DBF\\u4E00-\\u9FFF\\uF900-\\uFAFF]|[\\uD840-\\uD87F][\\uDC00-\\uDFFF]|[ぁ-んア-ヶー]|[0-9])\n",
        "# [亜-熙ぁ-んァ-ヶ][ぁ-ん][ァ-ヶ][亜-熙]々〇〻\n",
        "# 意味を考えてみよう\n",
        "# 結論 [、-힣] がよいと思う。 もう少し考えよう\n",
        "!elixir -e 'IO.puts Integer.to_string(?亜,16)' #=> 4E9C\n",
        "!elixir -e 'IO.puts Integer.to_string(?熙,16)' #=> 7199\n",
        "!elixir -e 'IO.puts Integer.to_string(?鿕,16)' #=> 9FD5\n",
        "!elixir -e 'IO.puts Integer.to_string(?힣,16)' #=> D7A3\n",
        "!echo\n",
        "!elixir -e 'IO.puts Integer.to_string(?、,16)' #=> 3001\n",
        "!elixir -e 'IO.puts Integer.to_string(?々,16)' #=> 3005\n",
        "!elixir -e 'IO.puts Integer.to_string(?〇,16)' #=> 3007\n",
        "!elixir -e 'IO.puts Integer.to_string(?〻,16)' #=> 303B\n",
        "!echo\n",
        "!elixir -e 'IO.puts Integer.to_string(?ぁ,16)' #=> 3041\n",
        "!elixir -e 'IO.puts Integer.to_string(?あ,16)' #=> 3042\n",
        "!elixir -e 'IO.puts Integer.to_string(?っ,16)' #=> 3063\n",
        "!elixir -e 'IO.puts Integer.to_string(?ょ,16)' #=> 3087\n",
        "!elixir -e 'IO.puts Integer.to_string(?ん,16)' #=> 3093\n",
        "!echo\n",
        "!elixir -e 'IO.puts Integer.to_string(?ァ,16)' #=> 30A1\n",
        "!elixir -e 'IO.puts Integer.to_string(?ア,16)' #=> 30A2\n",
        "!elixir -e 'IO.puts Integer.to_string(?ッ,16)' #=> 30C3\n",
        "!elixir -e 'IO.puts Integer.to_string(?ン,16)' #=> 30F3\n",
        "!echo\n",
        "!elixir -e 'IO.puts Integer.to_string(?ヶ,16)' #=> 30F6\n",
        "!elixir -e 'IO.puts Integer.to_string(?ー,16)' #=> 30FC\n",
        "!echo\n",
        "!elixir -e 'IO.puts Integer.to_string(?ｱ,16)' #=> FF71\n",
        "!elixir -e 'IO.puts Integer.to_string(?ﾝ,16)' #=> FF9D"
      ],
      "execution_count": null,
      "outputs": []
    },
    {
      "cell_type": "code",
      "metadata": {
        "colab": {
          "base_uri": "https://localhost:8080/"
        },
        "id": "m_ZQyvooeTGl",
        "outputId": "757f9113-b941-48f5-b5f5-0274dad0e989"
      },
      "source": [
        "# String.codepoint\n",
        "!elixir -e 'IO.inspect String.codepoints(\"hello\")'\n",
        "!elixir -e 'IO.inspect String.codepoints(\"こんにちは!!!!\")'"
      ],
      "execution_count": null,
      "outputs": [
        {
          "output_type": "stream",
          "text": [
            "[\"h\", \"e\", \"l\", \"l\", \"o\"]\n",
            "[\"こ\", \"ん\", \"に\", \"ち\", \"は\", \"!\", \"!\", \"!\", \"!\"]\n"
          ],
          "name": "stdout"
        }
      ]
    },
    {
      "cell_type": "code",
      "metadata": {
        "colab": {
          "base_uri": "https://localhost:8080/"
        },
        "id": "PfCcIyDJfSGt",
        "outputId": "e4089ee2-f6ec-4783-af72-3857d99293b7"
      },
      "source": [
        "# ばいなり binary 関数 <<>> にバイトシーケンスを渡す\n",
        "!elixir -e 'IO.inspect <<0,1,2,3>>'\n",
        "!elixir -e 'IO.puts byte_size <<0,1,2,3>>'\n",
        "!elixir -e 'IO.puts <<230,139,157,229,149,147>>'\n",
        "!elixir -e 'IO.puts byte_size <<230,139,157,229,149,147>>'"
      ],
      "execution_count": null,
      "outputs": [
        {
          "output_type": "stream",
          "text": [
            "<<0, 1, 2, 3>>\n",
            "4\n",
            "拝啓\n"
          ],
          "name": "stdout"
        }
      ]
    },
    {
      "cell_type": "code",
      "metadata": {
        "colab": {
          "base_uri": "https://localhost:8080/"
        },
        "id": "Ba-pfvBegFFH",
        "outputId": "414f1ba1-d9e0-4328-d349-d4fbd32d4710"
      },
      "source": [
        "# バイトシーケンスは文字列の時もあるし、そうでないときもある\n",
        "!elixir -e 'IO.puts String.valid?(<<239, 191, 19>>)'\n",
        "!elixir -e 'IO.puts String.valid?(<<230, 139, 157, 229, 149, 147>>)'"
      ],
      "execution_count": null,
      "outputs": [
        {
          "output_type": "stream",
          "text": [
            "false\n",
            "true\n"
          ],
          "name": "stdout"
        }
      ]
    },
    {
      "cell_type": "code",
      "metadata": {
        "colab": {
          "base_uri": "https://localhost:8080/"
        },
        "id": "Dp4KommR-G6Q",
        "outputId": "e134cdcc-4b8e-4ad8-a228-e747465e9a21"
      },
      "source": [
        "# `<>` 演算子は文字列をつなぐだけでなく、バイナリをつなぐ演算子\n",
        "!elixir -e 'IO.inspect <<0,1>> <> <<2,3>>'"
      ],
      "execution_count": null,
      "outputs": [
        {
          "output_type": "stream",
          "text": [
            "<<0, 1, 2, 3>>\n"
          ],
          "name": "stdout"
        }
      ]
    },
    {
      "cell_type": "code",
      "metadata": {
        "colab": {
          "base_uri": "https://localhost:8080/"
        },
        "id": "BzRcHOoi-sLa",
        "outputId": "8c706aec-c655-453c-c770-4ea1cca69a89"
      },
      "source": [
        "# 文字列のバイトシーケンスは 0 バイトをつないでみる\n",
        "!elixir -e 'IO.inspect \"こんにちは!!!!\" <> <<0>>'\n",
        "!elixir -e 'IO.inspect \"、힣\" <> <<0>>'"
      ],
      "execution_count": null,
      "outputs": [
        {
          "output_type": "stream",
          "text": [
            "<<227, 129, 147, 227, 130, 147, 227, 129, 171, 227, 129, 161, 227, 129, 175, 33,\n",
            "  33, 33, 33, 0>>\n",
            "<<227, 128, 129, 237, 158, 163, 0>>\n"
          ],
          "name": "stdout"
        }
      ]
    },
    {
      "cell_type": "code",
      "metadata": {
        "id": "JQytHkc9_fUy"
      },
      "source": [
        "# 以下の例は意味がわからない\n",
        "# それより、これを利用して 2 バイトコードを utf-8 コードに変換できないのか"
      ],
      "execution_count": null,
      "outputs": []
    },
    {
      "cell_type": "code",
      "metadata": {
        "colab": {
          "base_uri": "https://localhost:8080/"
        },
        "id": "QNY_VHDh__kq",
        "outputId": "eb56677b-4d21-4080-cdf2-4b35be40ca82"
      },
      "source": [
        "# バイナリの各バイトは 0 から 255 までの整数\n",
        "# 256以上の整数を与えると、デフォルトでは剰余が取られる\n",
        "# size によるビット数やエンコーディングの指定により、値を変換することも可能\n",
        "!elixir -e 'IO.inspect <<256>>' #=> <<0>>\n",
        "!elixir -e 'IO.inspect <<256 :: size(16)>>' #=> <<1, 0>>\n",
        "!elixir -e 'IO.inspect <<256 :: utf8>>' #=> \"Ā\"\n",
        "!elixir -e 'IO.inspect <<256 :: utf8, 97>>' #=> \"Āa\"\n",
        "!elixir -e 'IO.inspect <<256 :: utf8, 97, 0>>'  #=> <<196, 128, 97, 0>>"
      ],
      "execution_count": null,
      "outputs": [
        {
          "output_type": "stream",
          "text": [
            "<<0>>\n",
            "<<1, 0>>\n",
            "\"Ā\"\n",
            "\"Āa\"\n",
            "<<196, 128, 97, 0>>\n",
            "\n",
            "<<1::size(1)>>\n"
          ],
          "name": "stdout"
        }
      ]
    },
    {
      "cell_type": "code",
      "metadata": {
        "colab": {
          "base_uri": "https://localhost:8080/"
        },
        "id": "FCNom3TjX0U-",
        "outputId": "36b99d26-3f0a-400e-b3b4-058c7f39efe9"
      },
      "source": [
        "# 1ビット (size(1) )に変換すると、値は 0 か 1 にかぎられる\n",
        "# すると、バイナリでなくビットストリングとして扱われる\n",
        "# バイナリかビットストリングかは関数 is_binary と is_bitstring で確かめられる\n",
        "!elixir -e 'IO.inspect <<1 :: size(1)>>' #= <<1::size(1)>>\n",
        "!elixir -e 'IO.inspect <<2 :: size(1)>> # truncated' #=><<0::size(1)>>\n",
        "!elixir -e 'IO.inspect is_binary(<<1 :: size(1)>>)' #=>false\n",
        "!elixir -e 'IO.inspect is_bitstring(<<1 :: size(1)>>)' #=> true\n",
        "!elixir -e 'IO.inspect bit_size(<< 1 :: size(1)>>)' #=> 1"
      ],
      "execution_count": null,
      "outputs": [
        {
          "output_type": "stream",
          "text": [
            "<<1::size(1)>>\n",
            "<<0::size(1)>>\n",
            "false\n",
            "true\n",
            "1\n"
          ],
          "name": "stdout"
        }
      ]
    },
    {
      "cell_type": "code",
      "metadata": {
        "colab": {
          "base_uri": "https://localhost:8080/"
        },
        "id": "FD5fDQySYo7S",
        "outputId": "a462646d-af53-4e20-e01a-5721c26ac595"
      },
      "source": [
        "# バイナリも8ビットずつに分けたビットストリング\n",
        "!elixir -e 'IO.inspect  is_binary(<<1 :: size(16)>>)' #=> true\n",
        "!elixir -e 'IO.inspect is_bitstring(<<1 :: size(16)>>)' #=> true\n",
        "!elixir -e 'IO.inspect  is_binary(<<1 :: size(15)>>)' #=>false"
      ],
      "execution_count": null,
      "outputs": [
        {
          "output_type": "stream",
          "text": [
            "true\n",
            "true\n",
            "false\n"
          ],
          "name": "stdout"
        }
      ]
    },
    {
      "cell_type": "code",
      "metadata": {
        "id": "IA9L98B4kHst",
        "colab": {
          "base_uri": "https://localhost:8080/"
        },
        "outputId": "40456d71-0a1a-44f6-fc50-c92c3f5f03ac"
      },
      "source": [
        "# バイナリやビットストリングにパターンマッチングを使う\n",
        "!elixir -e '<<0, 1, x>> = <<0, 1, 2>>; IO.inspect x' #=> 2"
      ],
      "execution_count": null,
      "outputs": [
        {
          "output_type": "stream",
          "text": [
            "2\n"
          ],
          "name": "stdout"
        }
      ]
    },
    {
      "cell_type": "code",
      "metadata": {
        "id": "sqnREoHykbZS",
        "colab": {
          "base_uri": "https://localhost:8080/"
        },
        "outputId": "5e7c39b1-a07e-4cf0-bdb9-78436dc06675"
      },
      "source": [
        "# バイナリの各バイトは8ビットとみなされる\n",
        "# サイズのわからないバイナリを加えたいときは、パターンの最後にbinaryの指定を添える\n",
        "!elixir -e '<<97, x :: binary>> = <<97, 196, 128>>; IO.inspect x' #=> \"Ā\""
      ],
      "execution_count": null,
      "outputs": [
        {
          "output_type": "stream",
          "text": [
            "\"Ā\"\n",
            "\"ŀ\"\n"
          ],
          "name": "stdout"
        }
      ]
    },
    {
      "cell_type": "code",
      "metadata": {
        "id": "FHN6gINyue_L",
        "colab": {
          "base_uri": "https://localhost:8080/"
        },
        "outputId": "b79205ca-3d19-4ae2-8b07-4b196f2fa14b"
      },
      "source": [
        "# `<>` 演算子でもパターンマッチングが使える\n",
        "!elixir -e 'IO.inspect \"he\" <> rest = \"hello\"; IO.inspect rest'"
      ],
      "execution_count": null,
      "outputs": [
        {
          "output_type": "stream",
          "text": [
            "\"hello\"\n",
            "\"llo\"\n"
          ],
          "name": "stdout"
        }
      ]
    },
    {
      "cell_type": "markdown",
      "metadata": {
        "id": "BCGUESvnwBr8"
      },
      "source": [
        "**文字リスト charlist について**\n",
        "\n",
        "* 文字リストはコードポイントのリストである\n",
        "* シングルクォーテーションで囲んだリテラルによりつくる\n",
        "* ダブルクォーテーション(\"\")は文字列つまりバイナリ、シングルクォーテーションは文字リストを表す"
      ]
    },
    {
      "cell_type": "code",
      "metadata": {
        "id": "KGZ3z-8HwNe1",
        "colab": {
          "base_uri": "https://localhost:8080/"
        },
        "outputId": "834dcbe0-c1c3-4863-f9f3-c7bdbe4d7f83"
      },
      "source": [
        "!elixir -e \"IO.puts is_binary 'hello'\"\n",
        "!elixir -e 'IO.puts is_binary \"hello\"'\n",
        "!elixir -e \"IO.puts is_list 'hello'\"\n",
        "!elixir -e 'IO.puts is_list \"hello\"'\n",
        "!elixir -e \"IO.inspect 'こんち!!!'\"\n",
        "!elixir -e 'IO.inspect \"こんち!!!\"'"
      ],
      "execution_count": null,
      "outputs": [
        {
          "output_type": "stream",
          "text": [
            "false\n",
            "true\n",
            "true\n",
            "false\n",
            "[12371, 12435, 12385, 33, 33, 33]\n",
            "\"こんち!!!\"\n"
          ],
          "name": "stdout"
        }
      ]
    },
    {
      "cell_type": "markdown",
      "metadata": {
        "id": "kANqvORWvS0E"
      },
      "source": [
        "* 文字リストは Erlang とのインタフェースによく使われてきた\n",
        "* 文字列と文字リストの間の変換には、関数 to_string と to_charlist を用いる\n",
        "* to_string の引数に渡せるのはリストだけに限らない\n"
      ]
    },
    {
      "cell_type": "code",
      "metadata": {
        "id": "vcGwvysjrI-A",
        "outputId": "7a3ef3f8-47ff-41a4-c608-c206c86c3a38",
        "colab": {
          "base_uri": "https://localhost:8080/"
        }
      },
      "source": [
        "!elixir -e 'IO.inspect to_charlist(\"hello\")' #=> 'hello'\n",
        "!elixir -e 'IO.inspect to_charlist(\"こんにちは!!!\")' #=> [12371, 12435, 12395, 12385, 12399, 33, 33, 33]\n",
        "!elixir -e \"IO.inspect to_string('hello')\" #=> \"hello\"\n",
        "!elixir -e 'IO.inspect to_string([12371, 12435])' #=> \"こん\"\n",
        "!elixir -e 'IO.inspect to_string(:hello)' #=> \"hello\"\n",
        "!elixir -e 'IO.inspect to_string(1)' #=> \"1\""
      ],
      "execution_count": 10,
      "outputs": [
        {
          "output_type": "stream",
          "text": [
            "'hello'\n",
            "[12371, 12435, 12395, 12385, 12399, 33, 33, 33]\n",
            "\"hello\"\n",
            "\"こん\"\n",
            "\"hello\"\n",
            "\"1\"\n"
          ],
          "name": "stdout"
        }
      ]
    },
    {
      "cell_type": "markdown",
      "metadata": {
        "id": "sfr8a3Ear-gs"
      },
      "source": [
        "* 文字列つまりバイナリをつなぐには `<>` 演算子を用いる\n",
        "* 文字リストは `++` 演算子を用いる"
      ]
    },
    {
      "cell_type": "code",
      "metadata": {
        "id": "udVP1fBcxf6H",
        "outputId": "b9c2bb6d-72f9-4f1e-af58-98c17ddd98a8",
        "colab": {
          "base_uri": "https://localhost:8080/"
        }
      },
      "source": [
        "!elixir -e \"IO.inspect 'this ' ++ 'works'\" #=> 'this works'\n",
        "!elixir -e 'IO.inspect \"he\" <> \"llo\"' #=> \"hello\""
      ],
      "execution_count": 9,
      "outputs": [
        {
          "output_type": "stream",
          "text": [
            "'this works'\n",
            "\"hello\"\n"
          ],
          "name": "stdout"
        }
      ]
    },
    {
      "cell_type": "markdown",
      "metadata": {
        "id": "waLVeKX3XBFK"
      },
      "source": [
        "# いまここ"
      ]
    },
    {
      "cell_type": "markdown",
      "metadata": {
        "id": "2VGV7B-LtNR0"
      },
      "source": [
        "# キーワードリストとマップ"
      ]
    },
    {
      "cell_type": "code",
      "metadata": {
        "id": "4gRIGbwjs4sW"
      },
      "source": [
        "\n",
        "Elixir入門 07: キーワードリストとマップ\n",
        "#elixir #webdev #tutorial #programming\n",
        "gumitech profile image\n",
        "gumi TECH\n",
        "2018年10月30日 ・Updated on 2019年1月24日 ・4 min read\n",
        "本稿はElixir公式サイトの許諾を得て「Keyword lists and maps」の解説にもとづき、加筆補正を加えてElixirのキーと値を関連づけたデータ構造についてご説明します。\n",
        "\n",
        "値をキーに関連づけたデータ構造として、\n",
        "Elixirにはキーワードリストとマップが備わっています。\n",
        "他の言語で、ディクショナリーとかハッシュあるいは連想配列などと呼ばれるデータと似た仕組みです。\n",
        "\n",
        "キーワードリスト\n",
        "多くの関数型プログラミング言語では、キーと値のデータ構造をふたつの項目のタプルで表します。Elixirでは、はじめの項目つまりキーにアトムが用いられた2項目のタプルのリストを、キーワードリストと呼びます。キーワードリストは[キー: 値]の構文で書くと便利です。データはタプルの基本構文[{キー: 値}]を用いた場合と変わりがありません。\n",
        "iex> list = [{:a, 1}, {:b, 2}]\n",
        "[a: 1, b: 2]\n",
        "iex> list == [a: 1, b: 2]\n",
        "true\n",
        "キーワードリストはリストとして操作できます。たとえば、別のキーワードリストの要素を加えたいとき使うのは++/2演算子です。\n",
        "iex> list ++ [c: 3]\n",
        "[a: 1, b: 2, c: 3]\n",
        "iex> [a: 0] ++ list\n",
        "[a: 0, a: 1, b: 2]\n",
        "リストに同じキーがあるとき、キーの参照は位置が前の要素を取り出します。\n",
        "iex> new_list = [a: 0] ++ list\n",
        "[a: 0, a: 1, b: 2]\n",
        "iex> new_list[:a]\n",
        "0\n",
        "キーワードリストのキーにはつぎの3つの特徴があります。\n",
        "\n",
        "アトムである\n",
        "順序づけされる\n",
        "一意でなくてよい\n",
        "たとえば、ElixirのライブラリEctoは、キーワードリストでデータベースクエリが書ける優れたDSLを提供しています。\n",
        "query = from w in Weather,\n",
        "      where: w.prcp > 0,\n",
        "      where: w.temp < 20,\n",
        "     select: w\n",
        "Elixirでは、キーワードリストは関数にオプションを渡すときの標準の仕組みとなっています。if/2マクロのつぎの構文はその例です(「Elixir入門 05: 条件 - case/cond/if」「do/endブロック」参照)。\n",
        "iex> if(false, do: :this, else: :that)\n",
        ":that\n",
        ":doと:elseはひとつのキーワードリストの要素です。したがって、つぎのように書き替えられます。一般に、キーワードリストが関数の最後の引数のとき、角かっこ[]は省けるのです。\n",
        "iex> if(false, [do: :this, else: :that])\n",
        ":that\n",
        "もちろん、つぎのようにも書けます。\n",
        "iex> if(false, [{:do, :this}, {:else, :that}])\n",
        ":that\n",
        "キーワードリストにもパターンマッチングは使えます。けれど、要素の数とその順序までマッチしなければなりません。そのため、実際に用いられることは少ないでしょう。\n",
        "iex> [a: a] = [a: 1]\n",
        "[a: 1]\n",
        "iex> a\n",
        "1\n",
        "iex> [a: a] = [a: 1, b: 2]\n",
        "** (MatchError) no match of right hand side value: [a: 1, b: 2]\n",
        "iex> [b: b, a: a] = [a: 1, b: 2]\n",
        "** (MatchError) no match of right hand side value: [a: 1, b: 2]\n",
        "キーワードリストを操作するために、ElixirにはKeywordモジュールが備わっています。ただ、ご注意いただきたいのは、キーワードリストはリストだということです。パフォーマンスについては、リストと同じ考慮が要ります。キーを探したり、要素を数えたりするのは、リストが長くなるほど時間がかかるということです。そのため、キーワードリストは、おもにオプションの値を渡すのに用いられます。多くの要素を納めたいときや、キーを一意にしたいときには、マップを使うのがよいでしょう。\n",
        "\n",
        "マップ\n",
        "Elixirでキーと値の組みを納めるデータ構造として、お勧めするのはマップです。マップは%{}/2の構文でつくります。\n",
        "iex> map = %{:a => 1, 2 => :b}\n",
        "%{2 => :b, :a => 1}\n",
        "iex> map[:a]\n",
        "1\n",
        "iex> map[2]\n",
        ":b\n",
        "iex> map[:c]\n",
        "nil\n",
        "リストと比べて、マップのキーにはつぎの特徴があります。\n",
        "\n",
        "どのようなデータ型でも使える\n",
        "順序は問わない\n",
        "キーワードリストとは異なり、パターンマッチングはマップではとても有用です。マップのパターンは、サブセットとマッチします。つまり、パターンの中に含まれるキーさえマッチしていればよいのです。したがって、空のマップ%{}はすべてのマップにマッチします。\n",
        "iex> %{} = %{:a => 1, 2 => :b}\n",
        "%{2 => :b, :a => 1}\n",
        "iex> %{:a => a} = %{2 => :b, :a => 1}\n",
        "%{2 => :b, :a => 1}\n",
        "iex> a\n",
        "1\n",
        "iex> %{:c => c} = %{:a => 1, 2 => :b}\n",
        "** (MatchError) no match of right hand side value: %{2 => :b, :a => 1}\n",
        "変数は参照やパターンマッチング、あるいはマップに加えるキーにも使えます。\n",
        "iex> n = 1\n",
        "1\n",
        "iex> map = %{n => :one}\n",
        "%{1 => :one}\n",
        "iex> map[n]\n",
        ":one\n",
        "iex> %{^n => :one} = %{1 => :one, 2 => :two, 3 => :three}\n",
        "%{1 => :one, 2 => :two, 3 => :three}\n",
        "モジュールMapには、Keywordと似た便利な関数が備わっています。つぎのコードは、関数Map.get/3(第3引数はデフォルトnil)とMap.put/3およびMap.to_list/1を使った例です。\n",
        "iex> map = %{:a => 1, 2 => :b}\n",
        "%{2 => :b, :a => 1}\n",
        "iex> Map.get(map, :a)\n",
        "1\n",
        "iex> Map.put(map, :c, 3)\n",
        "%{2 => :b, :a => 1, :c => 3}\n",
        "iex> Map.to_list(map)\n",
        "[{2, :b}, {:a, 1}]\n",
        "マップのキーの値は、|を用いたつぎの構文で変えられます。ただし、キーはマップにすでに備わっていなければなりません。つまり、この構文で新たなキーは加えられないということです。\n",
        "iex> map = %{:a => 1, 2 => :b}\n",
        "%{2 => :b, :a => 1}\n",
        "iex> %{map | 2 => :two}\n",
        "%{2 => :two, :a => 1}\n",
        "iex> %{map | :c => 3}\n",
        "** (KeyError) key :c not found in: %{2 => :b, :a => 1}\n",
        "    (stdlib) :maps.update(:c, 3, %{2 => :b, :a => 1})\n",
        "    (stdlib) erl_eval.erl:255: anonymous fn/2 in :erl_eval.expr/5\n",
        "    (stdlib) lists.erl:1263: :lists.foldl/3\n",
        "キーを加えるときはMap.put/3関数をお使いください。\n",
        "iex> map = %{:a => 1, 2 => :b}\n",
        "%{2 => :b, :a => 1}\n",
        "iex> Map.put(map, :c, 3)\n",
        "%{2 => :b, :a => 1, :c => 3}\n",
        "キーが重複したときは、あとの値で上書きされます。\n",
        "iex> %{:a => 1, 2 => :b, :a => :one}\n",
        "%{2 => :b, :a => :one}\n",
        "マップの中のキーがすべてアトムの場合は、つぎのように出力されます。\n",
        "iex> %{:a => 1, :b => 2}\n",
        "%{a: 1, b: 2}\n",
        "そして、この簡略な構文は、マップをつくるときにも使えるのです。また、アトムのキーはドット.でも参照できます。\n",
        "ie> map = %{:a => 1, 2 => :b}\n",
        "%{2 => :b, :a => 1}\n",
        "iex> map.a\n",
        "1\n",
        "iex> map.2\n",
        "** (SyntaxError) iex:15: syntax error before: \"2\"\n",
        "iex> map[2]\n",
        ":b\n",
        "iex> map.c\n",
        "** (KeyError) key :c not found in: %{2 => :b, :a => 1}\n",
        "Elixirの開発者にはMapモジュールの関数より、map.fieldの構文とパターンマッチングでマップを扱う方が好まれるようです。はっきりとわかりやすいスタイルでプログラミングができるからでしょう(「Writing assertive code with Elixir」参照)。\n",
        "\n",
        "入れ子のデータ構造\n",
        "マップやキーワードリストは、それぞれ入れ子にできます。また、マップとキーワードリストを互いに入れ子にすることも可能です。値はそれぞれの構文を組み合わせて得られます。\n",
        "iex> users = [\n",
        "...>   john: %{name: \"John\", age: 27, languages: [\"Erlang\", \"Ruby\", \"Elixir\"]},\n",
        "...>   mary: %{name: \"Mary\", age: 29, languages: [\"Elixir\", \"F#\", \"Clojure\"]}\n",
        "...> ]\n",
        "[\n",
        "  john: %{age: 27, languages: [\"Erlang\", \"Ruby\", \"Elixir\"], name: \"John\"},\n",
        "  mary: %{age: 29, languages: [\"Elixir\", \"F#\", \"Clojure\"], name: \"Mary\"}\n",
        "]\n",
        "iex> users[:mary]\n",
        "%{age: 29, languages: [\"Elixir\", \"F#\", \"Clojure\"], name: \"Mary\"}\n",
        "iex> users[:john].age\n",
        "27\n",
        "値を書き替えるにはput_in/2を用います。\n",
        "iex> users = put_in(users[:john].age, 31)\n",
        "[\n",
        "  john: %{age: 31, languages: [\"Erlang\", \"Ruby\", \"Elixir\"], name: \"John\"},\n",
        "  mary: %{age: 29, languages: [\"Elixir\", \"F#\", \"Clojure\"], name: \"Mary\"}\n",
        "]\n",
        "iex> users[:john].age\n",
        "31\n",
        "update_in/2マクロは、第1引数の値を第2引に数渡した関数で処理します。\n",
        "iex> users = update_in(users[:mary].languages, fn languages ->\n",
        "...>   List.delete(languages, \"Clojure\")\n",
        "...> end)\n",
        "[\n",
        "  john: %{age: 31, languages: [\"Erlang\", \"Ruby\", \"Elixir\"], name: \"John\"},\n",
        "  mary: %{age: 29, languages: [\"Elixir\", \"F#\"], name: \"Mary\"}\n",
        "]\n",
        "iex> users[:mary].languages\n",
        "[\"Elixir\", \"F#\"]\n",
        "get_and_update_in/2\n",
        "put_in/3\n",
        "update_in/3\n",
        "get_and_update_in/3\n",
        "\n",
        "Elixir入門もくじ\n",
        "Elixir入門 01: コードを書いて試してみる\n",
        "Elixir入門 02: 型の基本\n",
        "Elixir入門 03: 演算子の基本\n",
        "Elixir入門 04: パターンマッチング\n",
        "Elixir入門 05: 条件 - case/cond/if\n",
        "Elixir入門 06: バイナリと文字列および文字リスト\n",
        "Elixir入門 07: キーワードリストとマップ\n",
        "Elixir入門 08: モジュールと関数\n",
        "Elixir入門 09: 再帰\n",
        "Elixir入門 10: EnumとStream\n",
        "Elixir入門 11: プロセス\n",
        "Elixir入門 12: 入出力とファイルシステム\n",
        "Elixir入門 13: aliasとrequireおよびimport\n",
        "Elixir入門 14: モジュールの属性\n",
        "Elixir入門 15: 構造体\n",
        "Elixir入門 16: プロトコル\n",
        "Elixir入門 17: 内包表記\n",
        "Elixir入門 18: シギル\n",
        "Elixir入門 19: tryとcatchおよびrescue\n",
        "Elixir入門 20: 型の仕様とビヘイビア\n",
        "Elixir入門 21: デバッグ\n",
        "Elixir入門 22: Erlangライブラリ\n",
        "Elixir入門 23: つぎのステップ\n",
        "番外\n",
        "Elixir入門: Plugを使うには\n"
      ],
      "execution_count": null,
      "outputs": []
    }
  ]
}