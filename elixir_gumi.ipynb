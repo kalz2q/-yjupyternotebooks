{
  "nbformat": 4,
  "nbformat_minor": 0,
  "metadata": {
    "colab": {
      "name": "elixir_gumi.ipynb",
      "provenance": [],
      "toc_visible": true,
      "authorship_tag": "ABX9TyNQyGtv0sDVgsSz23pJVWRt",
      "include_colab_link": true
    },
    "kernelspec": {
      "name": "python3",
      "display_name": "Python 3"
    },
    "language_info": {
      "name": "python"
    }
  },
  "cells": [
    {
      "cell_type": "markdown",
      "metadata": {
        "id": "view-in-github",
        "colab_type": "text"
      },
      "source": [
        "<a href=\"https://colab.research.google.com/github/kalz2q/mycolabnotebooks/blob/master/elixir_gumi.ipynb\" target=\"_parent\"><img src=\"https://colab.research.google.com/assets/colab-badge.svg\" alt=\"Open In Colab\"/></a>"
      ]
    },
    {
      "cell_type": "code",
      "metadata": {
        "id": "xtDlAjcVLQRq"
      },
      "source": [
        ""
      ],
      "execution_count": null,
      "outputs": []
    },
    {
      "cell_type": "markdown",
      "metadata": {
        "id": "QusE0r9HLQt-"
      },
      "source": [
        "# メモ\n",
        "\n",
        "gumi TECH Blog Elixir入門\n",
        "\n",
        "https://dev.to/gumi/elixir-01--2585\n",
        "\n",
        "を colab 化する。\n",
        "\n",
        "colab 環境で elixir のインタラクティブモード iex は使えないので、次の要領でインストールして使う。"
      ]
    },
    {
      "cell_type": "code",
      "metadata": {
        "id": "THvpbkjdWs0Q"
      },
      "source": [
        "%%capture\n",
        "!wget https://packages.erlang-solutions.com/erlang-solutions_2.0_all.deb && sudo dpkg -i erlang-solutions_2.0_all.deb\n",
        "!sudo apt update\n",
        "!sudo apt install elixir"
      ],
      "execution_count": null,
      "outputs": []
    },
    {
      "cell_type": "code",
      "metadata": {
        "id": "6FkejEE2crA5",
        "colab": {
          "base_uri": "https://localhost:8080/"
        },
        "outputId": "ce3cc75f-c088-423a-8418-020ad4a0aa5a"
      },
      "source": [
        "!elixir -v\n",
        "!date"
      ],
      "execution_count": null,
      "outputs": [
        {
          "output_type": "stream",
          "text": [
            "/bin/bash: elixir: command not found\n",
            "Wed Jun  2 00:43:58 UTC 2021\n"
          ],
          "name": "stdout"
        }
      ]
    },
    {
      "cell_type": "markdown",
      "metadata": {
        "id": "IpYclRqgcttK"
      },
      "source": [
        "---\n",
        "iex の代わりにワンライナー `elixir -e` で実験する。\n"
      ]
    },
    {
      "cell_type": "code",
      "metadata": {
        "id": "S_s89E37Xroq",
        "colab": {
          "base_uri": "https://localhost:8080/"
        },
        "outputId": "a635569f-7c90-45a9-c12d-c634006008ba"
      },
      "source": [
        "!elixir -e 'IO.puts 3 + 3'\n",
        "!elixir -e 'IO.puts \"hello world!\"'"
      ],
      "execution_count": null,
      "outputs": [
        {
          "output_type": "stream",
          "text": [
            "6\n",
            "hello world!\n"
          ],
          "name": "stdout"
        }
      ]
    },
    {
      "cell_type": "markdown",
      "metadata": {
        "id": "GxkQfmBfParV"
      },
      "source": [
        "崇敬にわたる場合は、セミコロン `;` でつなぐか、次のようにファイルを作って、コンパイルして実行する。 "
      ]
    },
    {
      "cell_type": "code",
      "metadata": {
        "colab": {
          "base_uri": "https://localhost:8080/"
        },
        "id": "RYCKapxtdtco",
        "outputId": "705aa589-be9f-4d3b-efe9-4ff2314c576c"
      },
      "source": [
        "%%writefile temp.exs\n",
        "IO.puts \"this is a pen.\""
      ],
      "execution_count": null,
      "outputs": [
        {
          "output_type": "stream",
          "text": [
            "Writing temp.exs\n"
          ],
          "name": "stdout"
        }
      ]
    },
    {
      "cell_type": "code",
      "metadata": {
        "colab": {
          "base_uri": "https://localhost:8080/"
        },
        "id": "06mP6Jy_d505",
        "outputId": "5a40ac1a-3724-464f-af9c-a7ced42526c0"
      },
      "source": [
        "!elixir temp.exs"
      ],
      "execution_count": null,
      "outputs": [
        {
          "output_type": "stream",
          "text": [
            "this is a pen.\n"
          ],
          "name": "stdout"
        }
      ]
    },
    {
      "cell_type": "code",
      "metadata": {
        "id": "9cdZm6iLPKq0"
      },
      "source": [
        ""
      ],
      "execution_count": null,
      "outputs": []
    },
    {
      "cell_type": "code",
      "metadata": {
        "id": "Yyo8kKEePKf9"
      },
      "source": [
        ""
      ],
      "execution_count": null,
      "outputs": []
    },
    {
      "cell_type": "code",
      "metadata": {
        "id": "OnHdcIx3OUEB"
      },
      "source": [
        "\n",
        "iex(2)> \"hello\" <> \" \" <> \"world\"\n",
        "\"hello world\"\n",
        "ファイルに書いたコードを動かす\n",
        "コードをテキストファイルに書いて動かすこともできます。\n",
        "何行かのプログラムを書いていろいろ試したいときは、こちらの方が便利でしょう。\n",
        "ただし、結果を見るにはIO.puts関数で出力しなければなりません。\n",
        "たとえば、つぎのElixirのコードをファイルsample.exsとして保存します。\n",
        "\n",
        "IO.puts \"hello\" <> \" \" <> \"world\"\n",
        "すると、コマンドラインツール(iexではありません)から、つぎのように実行できます。\n",
        "\n",
        "$ elixir sample.exs\n",
        "hello world\n",
        "Elixirについての質問\n",
        "Elixirについて質問できる場としては、つぎのサイトがあります。\n",
        "いずれも英語が基本です。\n",
        "それでも、できるだけ簡潔にしたコードを示し、やろうとしたことと意図に沿わない結果あるいはエラーを説明すればよいでしょう。\n",
        "なお、環境の情報は忘れずに添えてください。\n",
        "\n",
        "\n",
        "Elixir Forum\n",
        "StackOverflow (elixir)\n",
        "Elixir入門もくじ\n",
        "Elixir入門 01: コードを書いて試してみる\n",
        "Elixir入門 02: 型の基本\n",
        "Elixir入門 03: 演算子の基本\n",
        "Elixir入門 04: パターンマッチング\n",
        "Elixir入門 05: 条件 - case/cond/if\n",
        "Elixir入門 06: バイナリと文字列および文字リスト\n",
        "Elixir入門 07: キーワードリストとマップ\n",
        "Elixir入門 08: モジュールと関数\n",
        "Elixir入門 09: 再帰\n",
        "Elixir入門 10: EnumとStream\n",
        "Elixir入門 11: プロセス\n",
        "Elixir入門 12: 入出力とファイルシステム\n",
        "Elixir入門 13: aliasとrequireおよびimport\n",
        "Elixir入門 14: モジュールの属性\n",
        "Elixir入門 15: 構造体\n",
        "Elixir入門 16: プロトコル\n",
        "Elixir入門 17: 内包表記\n",
        "Elixir入門 18: シギル\n",
        "Elixir入門 19: tryとcatchおよびrescue\n",
        "Elixir入門 20: 型の仕様とビヘイビア\n",
        "Elixir入門 21: デバッグ\n",
        "Elixir入門 22: Erlangライブラリ\n",
        "Elixir入門 23: つぎのステップ\n",
        "番外\n",
        "Elixir入門: Plugを使うには\n",
        "Discussion (0)\n",
        "Subscribe\n",
        "pic\n",
        "Add to the discussion\n",
        "Code of Conduct • Report abuse\n",
        "Read next\n",
        "maxwizard01 profile image\n",
        "How to calculate percentile,Decile and Quartile in R-programming\n",
        "maxwizard01 - May 28\n",
        "\n",
        "tyaga001 profile image\n",
        "Top 8 Self-Improvement Tips To Grow as a Software Engineer (Developer)...\n",
        "Ankur Tyagi - May 28\n",
        "\n",
        "taarimalta profile image\n",
        "Rainbow and Clouds with Python Turtle\n",
        "taarimalta - May 28\n",
        "\n",
        "codicacom profile image\n",
        "Building a Business Directory Website Like Yelp: Tips and Tricks\n",
        "Codica - May 28\n",
        "\n",
        "gumi TECH Blog  profile image\n",
        "gumi TECH Blog\n",
        "gumiのエンジニアによる技術記事を公開しています。\n",
        "［Follow］して最新情報をご入手ください。\n",
        "\n",
        "Follow\n",
        "More from gumi TECH Blog\n",
        "React入門 03: JSON形式の配列から複数データを取り出してページに表示する\n",
        "#javascript #webdev #tutorial #react\n",
        "Elixirメタプログラミング 02: マクロ\n",
        "#elixir #webdev #tutorial #programming\n",
        "React入門 02: ライブラリMarkedでMarkdownの機能を加える\n",
        "#javascript #webdev #tutorial #react\n",
        "Home Listings Podcasts Videos Tags Code of Conduct FAQ DEV Shop Sponsors About Privacy Policy Terms of use Contact Sign In/Up\n",
        "    \n",
        "DEV Community – A constructive and inclusive social network for software developers. With you every step of your journey.\n",
        "\n",
        "Built on Forem — the open source software that powers DEV and other inclusive communities.\n",
        "\n",
        "Made with love and Ruby on Rails. DEV Community © 2016 - 2021."
      ],
      "execution_count": null,
      "outputs": []
    }
  ]
}