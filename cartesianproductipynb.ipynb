{
  "nbformat": 4,
  "nbformat_minor": 0,
  "metadata": {
    "colab": {
      "name": "cartesianproductipynb",
      "provenance": [],
      "toc_visible": true,
      "authorship_tag": "ABX9TyMFWJZNz0Up1t5PTs93LvuZ",
      "include_colab_link": true
    },
    "kernelspec": {
      "name": "python3",
      "display_name": "Python 3"
    },
    "language_info": {
      "name": "python"
    }
  },
  "cells": [
    {
      "cell_type": "markdown",
      "metadata": {
        "id": "view-in-github",
        "colab_type": "text"
      },
      "source": [
        "<a href=\"https://colab.research.google.com/github/kalz2q/mycolabnotebooks/blob/master/cartesianproductipynb.ipynb\" target=\"_parent\"><img src=\"https://colab.research.google.com/assets/colab-badge.svg\" alt=\"Open In Colab\"/></a>"
      ]
    },
    {
      "cell_type": "markdown",
      "metadata": {
        "id": "OKtdZpWT0ufP"
      },
      "source": [
        "# メモ\n",
        "\n",
        "デカルト積 直積 を求めるのは\n",
        "\n",
        "```\n",
        "[(a,b) for a in A for b in B]\n",
        "```\n",
        "\n",
        "でいいじゃん、と思うのだが、itertools の使い方とか記事がたくさんある。\n",
        "\n",
        "わたしがなにか勘違いしているのだろうか。"
      ]
    },
    {
      "cell_type": "markdown",
      "metadata": {
        "id": "DwM077md0pQh"
      },
      "source": [
        "\n",
        "Pythonで複数のリストの直積（デカルト積）を生成するitertools.product\n",
        "\n",
        "https://note.nkmk.me/python-itertools-product/\n",
        "\n",
        "Pythonでitertoolsモジュールを使って直積を求める方法 【初心者向け】\n",
        "\n",
        "https://techacademy.jp/magazine/19091\n",
        "\n",
        "とか。\n",
        "\n",
        "&nbsp;\n"
      ]
    },
    {
      "cell_type": "markdown",
      "metadata": {
        "id": "2kpHiuZ01a3j"
      },
      "source": [
        "# itertools\n"
      ]
    },
    {
      "cell_type": "markdown",
      "metadata": {
        "id": "2H926Lmr1rQ7"
      },
      "source": [
        "python を勉強していると itertools を強調する記事がたまにあり、少しは勉強したことがあるはずだが、覚えていない。\n",
        "\n"
      ]
    },
    {
      "cell_type": "code",
      "metadata": {
        "colab": {
          "base_uri": "https://localhost:8080/"
        },
        "id": "fdWSDGUJ2I2m",
        "outputId": "96fe0c5f-b2c1-4d26-f452-df94e0d4234e"
      },
      "source": [
        "import itertools\n",
        "A = {1,2,3}\n",
        "B = {3,4,5}\n",
        "C = itertools.product(A,B)\n",
        "print(type(C))\n",
        "D = set(C)\n",
        "print(D)\n",
        "print(set(C))"
      ],
      "execution_count": 35,
      "outputs": [
        {
          "output_type": "stream",
          "text": [
            "<class 'itertools.product'>\n",
            "{(1, 3), (3, 3), (1, 4), (1, 5), (2, 3), (2, 5), (3, 4), (2, 4), (3, 5)}\n",
            "set()\n"
          ],
          "name": "stdout"
        }
      ]
    },
    {
      "cell_type": "markdown",
      "metadata": {
        "id": "MVItiLtfFAS1"
      },
      "source": [
        "あ、少し思い出してきた。 イテレーターを使うツールなのだが、イテレーターなので若干くせがあって、最後の print(set(C)) がなぜ空集合になるかと言うと、一旦いてレートしてしまうとポインターが先頭にない、ということではなかったっけか。"
      ]
    },
    {
      "cell_type": "code",
      "metadata": {
        "colab": {
          "base_uri": "https://localhost:8080/"
        },
        "id": "ywR9jdRD2rEr",
        "outputId": "443b7354-5815-4511-c82a-7962663e6add"
      },
      "source": [
        "# 実験\n",
        "import itertools\n",
        "A = {1,2,3}\n",
        "B = {3,4,5}\n",
        "C = itertools.product(A,B)\n",
        "print(set(C))\n",
        "print(set(C))\n",
        "C = itertools.product(A,B)\n",
        "print(set(set(C)))\n",
        "print(set(C))"
      ],
      "execution_count": 40,
      "outputs": [
        {
          "output_type": "stream",
          "text": [
            "{(1, 3), (3, 3), (1, 4), (1, 5), (2, 3), (2, 5), (3, 4), (2, 4), (3, 5)}\n",
            "set()\n",
            "{(1, 3), (3, 3), (1, 4), (1, 5), (2, 3), (2, 5), (3, 4), (2, 4), (3, 5)}\n",
            "set()\n"
          ],
          "name": "stdout"
        }
      ]
    },
    {
      "cell_type": "code",
      "metadata": {
        "colab": {
          "base_uri": "https://localhost:8080/"
        },
        "id": "4ZumVAQV270Z",
        "outputId": "845a475c-8d1c-4e62-fb36-95ac87fc2e1e"
      },
      "source": [
        "# タプルなので文字列でも大丈夫\n",
        "import itertools\n",
        "\n",
        "A = ('x', 'y', 'z')\n",
        "B = (1, 2, 3)\n",
        "\n",
        "list(itertools.product(A, B))"
      ],
      "execution_count": 42,
      "outputs": [
        {
          "output_type": "execute_result",
          "data": {
            "text/plain": [
              "[('x', 1),\n",
              " ('x', 2),\n",
              " ('x', 3),\n",
              " ('y', 1),\n",
              " ('y', 2),\n",
              " ('y', 3),\n",
              " ('z', 1),\n",
              " ('z', 2),\n",
              " ('z', 3)]"
            ]
          },
          "metadata": {
            "tags": []
          },
          "execution_count": 42
        }
      ]
    },
    {
      "cell_type": "code",
      "metadata": {
        "id": "M0sNQwtPGAVQ"
      },
      "source": [
        ""
      ],
      "execution_count": null,
      "outputs": []
    }
  ]
}