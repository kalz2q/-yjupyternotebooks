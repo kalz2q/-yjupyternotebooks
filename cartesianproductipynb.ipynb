{
  "nbformat": 4,
  "nbformat_minor": 0,
  "metadata": {
    "colab": {
      "name": "cartesianproductipynb",
      "provenance": [],
      "toc_visible": true,
      "authorship_tag": "ABX9TyPLC50X8zS2WaDPzHQ83orC",
      "include_colab_link": true
    },
    "kernelspec": {
      "name": "python3",
      "display_name": "Python 3"
    },
    "language_info": {
      "name": "python"
    }
  },
  "cells": [
    {
      "cell_type": "markdown",
      "metadata": {
        "id": "view-in-github",
        "colab_type": "text"
      },
      "source": [
        "<a href=\"https://colab.research.google.com/github/kalz2q/mycolabnotebooks/blob/master/cartesianproductipynb.ipynb\" target=\"_parent\"><img src=\"https://colab.research.google.com/assets/colab-badge.svg\" alt=\"Open In Colab\"/></a>"
      ]
    },
    {
      "cell_type": "markdown",
      "metadata": {
        "id": "OKtdZpWT0ufP"
      },
      "source": [
        "# メモ\n",
        "\n",
        "デカルト積 直積 を求めるのは\n",
        "\n",
        "```\n",
        "[(a,b) for a in A for b in B]\n",
        "```\n",
        "\n",
        "でいいじゃん、と思うのだが、itertools の使い方とか記事がたくさんある。\n",
        "\n",
        "わたしがなにか勘違いしているのだろうか。"
      ]
    },
    {
      "cell_type": "markdown",
      "metadata": {
        "id": "DwM077md0pQh"
      },
      "source": [
        "Pythonで複数のリストの直積（デカルト積）を生成するitertools.product\n",
        "\n",
        "https://note.nkmk.me/python-itertools-product/\n",
        "\n",
        "Pythonでitertoolsモジュールを使って直積を求める方法 【初心者向け】\n",
        "\n",
        "https://techacademy.jp/magazine/19091\n",
        "\n",
        "Pythonで階乗、順列・組み合わせを計算、生成\n",
        "\n",
        "https://note.nkmk.me/python-math-factorial-permutations-combinations/\n",
        "\n",
        "とか。\n",
        "\n",
        "&nbsp;\n"
      ]
    },
    {
      "cell_type": "markdown",
      "metadata": {
        "id": "2kpHiuZ01a3j"
      },
      "source": [
        "# itertools\n"
      ]
    },
    {
      "cell_type": "markdown",
      "metadata": {
        "id": "2H926Lmr1rQ7"
      },
      "source": [
        "python を勉強していると itertools を強調する記事がたまにあり、少しは勉強したことがあるはずだが、覚えていない。\n",
        "\n"
      ]
    },
    {
      "cell_type": "code",
      "metadata": {
        "colab": {
          "base_uri": "https://localhost:8080/"
        },
        "id": "fdWSDGUJ2I2m",
        "outputId": "96fe0c5f-b2c1-4d26-f452-df94e0d4234e"
      },
      "source": [
        "import itertools\n",
        "A = {1,2,3}\n",
        "B = {3,4,5}\n",
        "C = itertools.product(A,B)\n",
        "print(type(C))\n",
        "D = set(C)\n",
        "print(D)\n",
        "print(set(C))"
      ],
      "execution_count": null,
      "outputs": [
        {
          "output_type": "stream",
          "text": [
            "<class 'itertools.product'>\n",
            "{(1, 3), (3, 3), (1, 4), (1, 5), (2, 3), (2, 5), (3, 4), (2, 4), (3, 5)}\n",
            "set()\n"
          ],
          "name": "stdout"
        }
      ]
    },
    {
      "cell_type": "markdown",
      "metadata": {
        "id": "MVItiLtfFAS1"
      },
      "source": [
        "あ、少し思い出してきた。 イテレーターを使うツールなのだが、イテレーターなので若干くせがあって、最後の print(set(C)) がなぜ空集合になるかと言うと、一旦いてレートしてしまうとポインターが先頭にない、ということではなかったっけか。"
      ]
    },
    {
      "cell_type": "code",
      "metadata": {
        "colab": {
          "base_uri": "https://localhost:8080/"
        },
        "id": "ywR9jdRD2rEr",
        "outputId": "443b7354-5815-4511-c82a-7962663e6add"
      },
      "source": [
        "# 実験\n",
        "import itertools\n",
        "A = {1,2,3}\n",
        "B = {3,4,5}\n",
        "C = itertools.product(A,B)\n",
        "print(set(C))\n",
        "print(set(C))\n",
        "C = itertools.product(A,B)\n",
        "print(set(set(C)))\n",
        "print(set(C))"
      ],
      "execution_count": null,
      "outputs": [
        {
          "output_type": "stream",
          "text": [
            "{(1, 3), (3, 3), (1, 4), (1, 5), (2, 3), (2, 5), (3, 4), (2, 4), (3, 5)}\n",
            "set()\n",
            "{(1, 3), (3, 3), (1, 4), (1, 5), (2, 3), (2, 5), (3, 4), (2, 4), (3, 5)}\n",
            "set()\n"
          ],
          "name": "stdout"
        }
      ]
    },
    {
      "cell_type": "code",
      "metadata": {
        "colab": {
          "base_uri": "https://localhost:8080/"
        },
        "id": "4ZumVAQV270Z",
        "outputId": "e5069752-2d8d-40ba-aead-087ccd0ba47d"
      },
      "source": [
        "# タプルなので文字列でも大丈夫\n",
        "import itertools\n",
        "\n",
        "A = ('x', 'y', 'z')\n",
        "B = (1, 2, 3)\n",
        "\n",
        "print (list(itertools.product(A, B)))\n",
        "\n",
        "print([(a,b) for a in A for b in B])"
      ],
      "execution_count": 1,
      "outputs": [
        {
          "output_type": "stream",
          "text": [
            "[('x', 1), ('x', 2), ('x', 3), ('y', 1), ('y', 2), ('y', 3), ('z', 1), ('z', 2), ('z', 3)]\n",
            "[('x', 1), ('x', 2), ('x', 3), ('y', 1), ('y', 2), ('y', 3), ('z', 1), ('z', 2), ('z', 3)]\n"
          ],
          "name": "stdout"
        }
      ]
    },
    {
      "cell_type": "code",
      "metadata": {
        "id": "M0sNQwtPGAVQ",
        "outputId": "f5b29ef1-e241-4cd4-eb05-8d04bcdad522",
        "colab": {
          "base_uri": "https://localhost:8080/"
        }
      },
      "source": [
        "# これも同じ\n",
        "\n",
        "A = ('x', 'y', 'z')\n",
        "B = (1, 2, 3)\n",
        "\n",
        "AB = []\n",
        "for i in A:\n",
        "    for j in B:\n",
        "        AB.append((i, j))\n",
        "\n",
        "print(AB)"
      ],
      "execution_count": 2,
      "outputs": [
        {
          "output_type": "stream",
          "text": [
            "[('x', 1), ('x', 2), ('x', 3), ('y', 1), ('y', 2), ('y', 3), ('z', 1), ('z', 2), ('z', 3)]\n"
          ],
          "name": "stdout"
        }
      ]
    },
    {
      "cell_type": "code",
      "metadata": {
        "id": "1YFQyydOx17W",
        "outputId": "f8a2dc57-8a99-472c-e4d9-8c01b97e4886",
        "colab": {
          "base_uri": "https://localhost:8080/"
        }
      },
      "source": [
        "# factorial\n",
        "import math\n",
        "print(math.factorial(5))\n",
        "print(math.pi)\n",
        "print(math.exp(1))\n",
        "print(math.sqrt(2))"
      ],
      "execution_count": 7,
      "outputs": [
        {
          "output_type": "stream",
          "text": [
            "120\n",
            "3.141592653589793\n",
            "2.718281828459045\n",
            "1.4142135623730951\n"
          ],
          "name": "stdout"
        }
      ]
    },
    {
      "cell_type": "markdown",
      "metadata": {
        "id": "417BmINuyt2p"
      },
      "source": [
        "# 順列 permutation\n",
        "\n",
        "順列は、異なる $n$ 個のものから $r$ 個選んで一列に並べる場合の数。\n",
        "\n",
        "高校数学では A の 第 1 章 場合の数と確率のところにあるみたい。 まだ復習できていない。\n",
        "\n",
        "数を出すのは次の公式に従う。\n",
        "\n",
        "順列 $\\quad p = \\displaystyle \\frac {n !}{ (n - r)!}$\n",
        "\n"
      ]
    },
    {
      "cell_type": "code",
      "metadata": {
        "id": "crCO--Un1fQX",
        "outputId": "da190df8-6cd0-4ecb-954e-f6b3c3d40444",
        "colab": {
          "base_uri": "https://localhost:8080/"
        }
      },
      "source": [
        "# \n",
        "def permutations_count(n, r):\n",
        "    return math.factorial(n) // math.factorial(n - r)\n",
        "\n",
        "print(permutations_count(4, 2)) # 12\n",
        "\n",
        "print(permutations_count(4, 4)) # 24"
      ],
      "execution_count": 8,
      "outputs": [
        {
          "output_type": "stream",
          "text": [
            "12\n",
            "24\n"
          ],
          "name": "stdout"
        }
      ]
    },
    {
      "cell_type": "code",
      "metadata": {
        "id": "-RggMi8919FU",
        "outputId": "2e5abc9e-5f38-4bc9-cb94-287780f1555b",
        "colab": {
          "base_uri": "https://localhost:8080/"
        }
      },
      "source": [
        "# scipy バージョン\n",
        "from scipy.special import perm\n",
        "print(perm(4, 2)) # 12.0  float になってしまう\n",
        "\n",
        "print(perm(4, 2, exact=True)) # 12 exact=True とすると int\n",
        "\n",
        "print(perm(4, 4, exact=True)) # 24"
      ],
      "execution_count": 9,
      "outputs": [
        {
          "output_type": "stream",
          "text": [
            "12.0\n",
            "12\n",
            "24\n"
          ],
          "name": "stdout"
        }
      ]
    },
    {
      "cell_type": "markdown",
      "metadata": {
        "id": "6jbPggzq2SNd"
      },
      "source": [
        "順列を列挙する方法を考える。"
      ]
    },
    {
      "cell_type": "code",
      "metadata": {
        "id": "B__BBBz52eP1",
        "outputId": "ee58c60d-a344-4974-eed1-44a1ac0d5cf1",
        "colab": {
          "base_uri": "https://localhost:8080/"
        }
      },
      "source": [
        "import itertools\n",
        "import pprint\n",
        "\n",
        "l = ['a', 'b', 'c', 'd']\n",
        "\n",
        "p = itertools.permutations(l, 2)\n",
        "\n",
        "print(type(p))\n",
        "\n",
        "pprint.pprint(list(p))"
      ],
      "execution_count": 15,
      "outputs": [
        {
          "output_type": "stream",
          "text": [
            "<class 'itertools.permutations'>\n",
            "[('a', 'b'),\n",
            " ('a', 'c'),\n",
            " ('a', 'd'),\n",
            " ('b', 'a'),\n",
            " ('b', 'c'),\n",
            " ('b', 'd'),\n",
            " ('c', 'a'),\n",
            " ('c', 'b'),\n",
            " ('c', 'd'),\n",
            " ('d', 'a'),\n",
            " ('d', 'b'),\n",
            " ('d', 'c')]\n"
          ],
          "name": "stdout"
        }
      ]
    },
    {
      "cell_type": "code",
      "metadata": {
        "id": "9tDP44322-bE",
        "outputId": "fd43c3b6-486d-4579-a909-0f6d9ee5fda1",
        "colab": {
          "base_uri": "https://localhost:8080/"
        }
      },
      "source": [
        "# 同じもの\n",
        "import itertools\n",
        "l = ['a', 'b', 'c', 'd']\n",
        "\n",
        "p = itertools.permutations(l, 2)\n",
        "\n",
        "for v in p:\n",
        "    print (v)"
      ],
      "execution_count": 19,
      "outputs": [
        {
          "output_type": "stream",
          "text": [
            "('a', 'b')\n",
            "('a', 'c')\n",
            "('a', 'd')\n",
            "('b', 'a')\n",
            "('b', 'c')\n",
            "('b', 'd')\n",
            "('c', 'a')\n",
            "('c', 'b')\n",
            "('c', 'd')\n",
            "('d', 'a')\n",
            "('d', 'b')\n",
            "('d', 'c')\n"
          ],
          "name": "stdout"
        }
      ]
    },
    {
      "cell_type": "code",
      "metadata": {
        "id": "N_STQHf5350O",
        "outputId": "29cd4870-cc74-4e24-d7be-6d64dab0826b",
        "colab": {
          "base_uri": "https://localhost:8080/"
        }
      },
      "source": [
        "# 同じものが入っているとやっかいなので集合にしてみる。問題ない\n",
        "import itertools\n",
        "import pprint\n",
        "\n",
        "s = {'a', 'b', 'c', 'a', 'd'}\n",
        "\n",
        "p = itertools.permutations(s, 2)\n",
        "\n",
        "print(type(p))\n",
        "\n",
        "pprint.pprint(list(p))"
      ],
      "execution_count": 23,
      "outputs": [
        {
          "output_type": "stream",
          "text": [
            "<class 'itertools.permutations'>\n",
            "[('a', 'd'),\n",
            " ('a', 'c'),\n",
            " ('a', 'b'),\n",
            " ('d', 'a'),\n",
            " ('d', 'c'),\n",
            " ('d', 'b'),\n",
            " ('c', 'a'),\n",
            " ('c', 'd'),\n",
            " ('c', 'b'),\n",
            " ('b', 'a'),\n",
            " ('b', 'd'),\n",
            " ('b', 'c')]\n"
          ],
          "name": "stdout"
        }
      ]
    },
    {
      "cell_type": "markdown",
      "metadata": {
        "id": "bEzZ7pv84hbb"
      },
      "source": [
        "# 組合せ combination\n"
      ]
    },
    {
      "cell_type": "code",
      "metadata": {
        "id": "y7gEvGcT4r_m",
        "outputId": "ed5c1206-ec1b-4d64-9b59-3cafcb5f73a6",
        "colab": {
          "base_uri": "https://localhost:8080/"
        }
      },
      "source": [
        "# 高速バージョン\n",
        "from operator import mul\n",
        "from functools import reduce\n",
        "\n",
        "def combinations_count(n, r):\n",
        "    r = min(r, n - r)\n",
        "    numer = reduce(mul, range(n, n - r, -1), 1)\n",
        "    denom = reduce(mul, range(1, r + 1), 1)\n",
        "    return numer // denom\n",
        "\n",
        "print(combinations_count(4, 2))\n",
        "# 6\n",
        "\n",
        "print(combinations_count(4, 0))\n",
        "# 1"
      ],
      "execution_count": 24,
      "outputs": [
        {
          "output_type": "stream",
          "text": [
            "6\n",
            "1\n"
          ],
          "name": "stdout"
        }
      ]
    },
    {
      "cell_type": "code",
      "metadata": {
        "id": "L3f0FcOu45Jq",
        "outputId": "dbbb84ef-d214-4bc6-d522-1d5d7473dce1",
        "colab": {
          "base_uri": "https://localhost:8080/"
        }
      },
      "source": [
        "l = ['a', 'b', 'c', 'd']\n",
        "\n",
        "c = itertools.combinations(l, 2)\n",
        "\n",
        "print(type(c))\n",
        "# <class 'itertools.combinations'>\n",
        "\n",
        "for v in itertools.combinations(l, 2):\n",
        "    print(v)\n",
        "# ('a', 'b')\n",
        "# ('a', 'c')\n",
        "# ('a', 'd')\n",
        "# ('b', 'c')\n",
        "# ('b', 'd')\n",
        "# ('c', 'd')\n",
        "\n",
        "c_list = list(itertools.combinations(l, 2))\n",
        "\n",
        "print(c_list)\n",
        "# [('a', 'b'), ('a', 'c'), ('a', 'd'), ('b', 'c'), ('b', 'd'), ('c', 'd')]\n",
        "\n",
        "print(len(c_list))\n",
        "# 6"
      ],
      "execution_count": 25,
      "outputs": [
        {
          "output_type": "stream",
          "text": [
            "<class 'itertools.combinations'>\n",
            "('a', 'b')\n",
            "('a', 'c')\n",
            "('a', 'd')\n",
            "('b', 'c')\n",
            "('b', 'd')\n",
            "('c', 'd')\n",
            "[('a', 'b'), ('a', 'c'), ('a', 'd'), ('b', 'c'), ('b', 'd'), ('c', 'd')]\n",
            "6\n"
          ],
          "name": "stdout"
        }
      ]
    },
    {
      "cell_type": "markdown",
      "metadata": {
        "id": "9pDl8nsH4-DX"
      },
      "source": [
        "重複組合せ\n",
        "\n",
        "重複組み合わせは、異なるn個のものから重複を許してr個選ぶ場合の数。\n",
        "\n",
        "重複組み合わせの総数は、異なるn + r - 1個のものからr個選ぶ組み合わせの数に等しい。"
      ]
    },
    {
      "cell_type": "code",
      "metadata": {
        "id": "1GME521b5J_6",
        "outputId": "451ce2b5-0a97-4e77-a13c-ffe2f3483eec",
        "colab": {
          "base_uri": "https://localhost:8080/"
        }
      },
      "source": [
        "h = itertools.combinations_with_replacement(l, 2)\n",
        "\n",
        "print(type(h))\n",
        "# <class 'itertools.combinations_with_replacement'>\n",
        "\n",
        "for v in itertools.combinations_with_replacement(l, 2):\n",
        "    print(v)\n",
        "# ('a', 'a')\n",
        "# ('a', 'b')\n",
        "# ('a', 'c')\n",
        "# ('a', 'd')\n",
        "# ('b', 'b')\n",
        "# ('b', 'c')\n",
        "# ('b', 'd')\n",
        "# ('c', 'c')\n",
        "# ('c', 'd')\n",
        "# ('d', 'd')\n",
        "\n",
        "h_list = list(itertools.combinations_with_replacement(l, 2))\n",
        "\n",
        "print(h_list)\n",
        "# [('a', 'a'), ('a', 'b'), ('a', 'c'), ('a', 'd'), ('b', 'b'), ('b', 'c'), ('b', 'd'), ('c', 'c'), ('c', 'd'), ('d', 'd')]\n",
        "\n",
        "print(len(h_list))\n",
        "# 10"
      ],
      "execution_count": 26,
      "outputs": [
        {
          "output_type": "stream",
          "text": [
            "<class 'itertools.combinations_with_replacement'>\n",
            "('a', 'a')\n",
            "('a', 'b')\n",
            "('a', 'c')\n",
            "('a', 'd')\n",
            "('b', 'b')\n",
            "('b', 'c')\n",
            "('b', 'd')\n",
            "('c', 'c')\n",
            "('c', 'd')\n",
            "('d', 'd')\n",
            "[('a', 'a'), ('a', 'b'), ('a', 'c'), ('a', 'd'), ('b', 'b'), ('b', 'c'), ('b', 'd'), ('c', 'c'), ('c', 'd'), ('d', 'd')]\n",
            "10\n"
          ],
          "name": "stdout"
        }
      ]
    },
    {
      "cell_type": "code",
      "metadata": {
        "id": "gW8LGsO85Ook"
      },
      "source": [
        "# アナグラムの作成\n",
        "s = 'arc'\n",
        "\n",
        "for v in itertools.permutations(s):\n",
        "    print(v)\n",
        "# ('a', 'r', 'c')\n",
        "# ('a', 'c', 'r')\n",
        "# ('r', 'a', 'c')\n",
        "# ('r', 'c', 'a')\n",
        "# ('c', 'a', 'r')\n",
        "# ('c', 'r', 'a')"
      ],
      "execution_count": null,
      "outputs": []
    },
    {
      "cell_type": "code",
      "metadata": {
        "id": "QQVnthnf5VOJ"
      },
      "source": [
        "anagram_list = [''.join(v) for v in itertools.permutations(s)]\n",
        "\n",
        "print(anagram_list)\n",
        "# ['arc', 'acr', 'rac', 'rca', 'car', 'cra']"
      ],
      "execution_count": null,
      "outputs": []
    }
  ]
}