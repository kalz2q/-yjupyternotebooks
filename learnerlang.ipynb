{
  "nbformat": 4,
  "nbformat_minor": 0,
  "metadata": {
    "colab": {
      "name": "learnerlang.ipynb",
      "provenance": [],
      "authorship_tag": "ABX9TyOP0qKutM3hL3t3YSfcKV/Q",
      "include_colab_link": true
    },
    "kernelspec": {
      "name": "python3",
      "display_name": "Python 3"
    },
    "language_info": {
      "name": "python"
    }
  },
  "cells": [
    {
      "cell_type": "markdown",
      "metadata": {
        "id": "view-in-github",
        "colab_type": "text"
      },
      "source": [
        "<a href=\"https://colab.research.google.com/github/kalz2q/mycolabnotebooks/blob/master/learnerlang.ipynb\" target=\"_parent\"><img src=\"https://colab.research.google.com/assets/colab-badge.svg\" alt=\"Open In Colab\"/></a>"
      ]
    },
    {
      "cell_type": "markdown",
      "metadata": {
        "id": "hhipWpN-FDFA"
      },
      "source": [
        "# メモ\n",
        "\n",
        "* erlang を齧る\n",
        "* erlang のテキストでは erl shell を使っているが、colab 上では不便なので\n",
        "* erl -eval を使うか escript を使う\n",
        "\n",
        "参考サイト\n",
        "\n",
        "* https://learnyousomeerlang.com/\n",
        "* https://erlang.org/doc/getting_started/users_guide.html\n"
      ]
    },
    {
      "cell_type": "code",
      "metadata": {
        "id": "62anOgDUY2SB"
      },
      "source": [
        "%%capture\n",
        "!sudo rm -f /usr/local/lib/python3.7/dist-packages/ideep4py/lib/libmkldnn.so.0\n",
        "!sudo ln -s /usr/local/lib/python3.7/dist-packages/ideep4py/lib/libmkldnn.so /usr/local/lib/python3.7/dist-packages/ideep4py/lib/libmkldnn.so.0\n",
        "!sudo apt install erlang"
      ],
      "execution_count": null,
      "outputs": []
    },
    {
      "cell_type": "code",
      "metadata": {
        "colab": {
          "base_uri": "https://localhost:8080/"
        },
        "id": "i8bT4ON0Z9Jx",
        "outputId": "5be05ca1-538c-4b2f-8fa4-541352ba93eb"
      },
      "source": [
        "# erlang のバージョン番号を知る方法に次のような答えがあった\n",
        "!erl -eval 'erlang:display(erlang:system_info(otp_release)), halt().'  -noshell"
      ],
      "execution_count": 2,
      "outputs": [
        {
          "output_type": "stream",
          "text": [
            "\"20\"\r\n"
          ],
          "name": "stdout"
        }
      ]
    },
    {
      "cell_type": "code",
      "metadata": {
        "colab": {
          "base_uri": "https://localhost:8080/"
        },
        "id": "hcOf0uFCWlfI",
        "outputId": "2a93f0fb-5e57-49ec-ef92-a42458692317"
      },
      "source": [
        "# 参考 erl --version では erl shell が立ち上がってしまう\n",
        "!erl -version"
      ],
      "execution_count": null,
      "outputs": [
        {
          "output_type": "stream",
          "text": [
            "Erlang (SMP,ASYNC_THREADS) (BEAM) emulator version 9.2\r\n"
          ],
          "name": "stdout"
        }
      ]
    },
    {
      "cell_type": "code",
      "metadata": {
        "id": "rCsFsdWcA7yA",
        "colab": {
          "base_uri": "https://localhost:8080/"
        },
        "outputId": "048eeb7a-f29a-41ee-e713-1b93e8a3d5c2"
      },
      "source": [
        "# 実験\n",
        "!erl -eval 'erlang:display(\"hello erlang\"),halt().' -noshell #=> \"hello erlang\"\n",
        "!erl -eval 'erlang:display(3+7),halt().' -noshell #=> 10"
      ],
      "execution_count": null,
      "outputs": [
        {
          "output_type": "stream",
          "text": [
            "\"hello erlang\"\n",
            "10\n"
          ],
          "name": "stdout"
        }
      ]
    },
    {
      "cell_type": "code",
      "metadata": {
        "colab": {
          "base_uri": "https://localhost:8080/"
        },
        "id": "-RYCjtmDVhTU",
        "outputId": "0dd27253-fa2c-452f-83da-470814d71879"
      },
      "source": [
        "# 次のようなのが Erlang実験室：コマンドラインから使うerl という記事にあった。 檜山正幸\n",
        "!erl -boot start_clean -noshell -eval 'io:fwrite(\"Hello, world.~n\")' -s init stop\n",
        "!erl -boot start_clean -noshell -eval 'io:fwrite(\"~p~n\",[12345*12345*12345])' -s init stop"
      ],
      "execution_count": null,
      "outputs": [
        {
          "output_type": "stream",
          "text": [
            "Hello, world.\n",
            "1881365963625\n"
          ],
          "name": "stdout"
        }
      ]
    },
    {
      "cell_type": "code",
      "metadata": {
        "id": "-upMYoyNrocE",
        "colab": {
          "base_uri": "https://localhost:8080/"
        },
        "outputId": "579a6e62-528c-4a93-aefb-7eb63a11a537"
      },
      "source": [
        "# 実験 できるだけ簡単に書きたい\n",
        "!erl -noshell -eval 'io:fwrite(\"Hello, world.~n\"),halt()'"
      ],
      "execution_count": null,
      "outputs": [
        {
          "output_type": "stream",
          "text": [
            "Hello, world.\n"
          ],
          "name": "stdout"
        }
      ]
    },
    {
      "cell_type": "code",
      "metadata": {
        "id": "xpvt0S2ctDkS",
        "colab": {
          "base_uri": "https://localhost:8080/"
        },
        "outputId": "546851e5-4113-43f0-feaa-586ed2ccfef4"
      },
      "source": [
        "# 実験 文字列以外のことを考えるととりあえず、erlang:display の方が簡単かも\n",
        "!erl -noshell -eval 'erlang:display(\"hello display\"),halt()'\n",
        "!erl -noshell -eval 'erlang:display(3+15),halt()'"
      ],
      "execution_count": null,
      "outputs": [
        {
          "output_type": "stream",
          "text": [
            "\"hello display\"\n",
            "18\n"
          ],
          "name": "stdout"
        }
      ]
    },
    {
      "cell_type": "code",
      "metadata": {
        "id": "TZHa1fEZwor2",
        "colab": {
          "base_uri": "https://localhost:8080/"
        },
        "outputId": "c0199a35-161e-46e2-af94-1f744b712c4e"
      },
      "source": [
        "!erl -noshell -eval 'erlang:display(3+15),halt()'\n",
        "!erl -noshell -eval 'erlang:display(49+100),halt()'\n",
        "!erl -noshell -eval 'erlang:display(1892 - 1472),halt()'\n",
        "!erl -noshell -eval 'erlang:display(5 / 2),halt()'\n",
        "!erl -noshell -eval 'erlang:display(5 div 2),halt()'\n",
        "!erl -noshell -eval 'erlang:display(5 rem 2),halt()'"
      ],
      "execution_count": null,
      "outputs": [
        {
          "output_type": "stream",
          "text": [
            "18\n",
            "149\n",
            "420\n",
            "2.500000e+00\n",
            "2\n",
            "1\n"
          ],
          "name": "stdout"
        }
      ]
    },
    {
      "cell_type": "code",
      "metadata": {
        "id": "ca0WUrVsxIr-",
        "colab": {
          "base_uri": "https://localhost:8080/"
        },
        "outputId": "65156904-4df3-43c9-a6b4-f449c3bea3a3"
      },
      "source": [
        "# 1 行に複数のコマンドを実行するにはカンマ `,` で区切る\n",
        "!erl -noshell -eval 'erlang:display(3+15), erlang:display(49+100),halt()'\n",
        "!erl -noshell -eval 'erlang:display(49+100),halt()'"
      ],
      "execution_count": null,
      "outputs": [
        {
          "output_type": "stream",
          "text": [
            "18\r\n",
            "149\n",
            "149\n"
          ],
          "name": "stdout"
        }
      ]
    },
    {
      "cell_type": "code",
      "metadata": {
        "id": "kwjGbDKjxddX"
      },
      "source": [
        "# 括弧が使える\n",
        "!erl -noshell -eval 'erlang:display((50 * 100) - 4999),halt()'\n",
        "!erl -noshell -eval 'erlang:display(-(50 * 100 - 4999)),halt()'\n",
        "!erl -noshell -eval 'erlang:display(-50 * (100 - 4999)),halt()'"
      ],
      "execution_count": null,
      "outputs": []
    },
    {
      "cell_type": "code",
      "metadata": {
        "id": "_69eza-IyHH5",
        "colab": {
          "base_uri": "https://localhost:8080/"
        },
        "outputId": "b1c06d3a-af55-4eb0-c485-1cce6ec3a738"
      },
      "source": [
        "# 2 進法など\n",
        "!erl -noshell -eval 'erlang:display(2#101010),halt()'\n",
        "!erl -noshell -eval 'erlang:display(8#0677),halt()'\n",
        "!erl -noshell -eval 'erlang:display(16#AE),halt()'"
      ],
      "execution_count": null,
      "outputs": [
        {
          "output_type": "stream",
          "text": [
            "42\n",
            "447\n",
            "174\n"
          ],
          "name": "stdout"
        }
      ]
    },
    {
      "cell_type": "code",
      "metadata": {
        "id": "bHaRxd-ByroA",
        "colab": {
          "base_uri": "https://localhost:8080/"
        },
        "outputId": "b3c5731d-97b9-4b54-b3f0-fd14257e610e"
      },
      "source": [
        "# 変数も使える\n",
        "# erlang の変数は大文字で始まる\n",
        "!erl -noshell -eval 'One=1,erlang:display(One),halt()'\n",
        "!erl -noshell -eval 'Uno=1, One=Uno,erlang:display(One),halt()'\n",
        "!erl -noshell -eval 'One=1, Two=One+One, erlang:display(Two),halt()'\n",
        "# Two = Two+1 はエラー\n",
        "# two = 2 はエラー"
      ],
      "execution_count": null,
      "outputs": [
        {
          "output_type": "stream",
          "text": [
            "1\n",
            "1\n",
            "2\n"
          ],
          "name": "stdout"
        }
      ]
    },
    {
      "cell_type": "code",
      "metadata": {
        "id": "MyMlp6GLzotA",
        "outputId": "ddfc8644-de2d-409d-960d-be65d70ff7aa",
        "colab": {
          "base_uri": "https://localhost:8080/"
        }
      },
      "source": [
        "# `=` はパターンマッチング pattern matching によるマッチ演算子である\n",
        "# マッチしたら値を返す。マッチしないとエラー\n",
        "!erl -noshell -eval 'erlang:display(47 = 45 + 2),halt()' #=> 47\n",
        "# 左辺が紐付けられていない変数の場合、右辺の値が紐付けられてその後にマッチを試みる\n",
        "!erl -noshell -eval 'erlang:display(Var = 45 + 3),halt()' #=> 48\n",
        "# 変数の値は保持される\n",
        "!erl -noshell -eval 'erlang:display(Var = 45 + 2), erlang:display(Var),halt()' #=> 47 47"
      ],
      "execution_count": 7,
      "outputs": [
        {
          "output_type": "stream",
          "text": [
            "47\n",
            "48\n",
            "47\n",
            "47\n"
          ],
          "name": "stdout"
        }
      ]
    },
    {
      "cell_type": "code",
      "metadata": {
        "id": "uWoudDxF_Axn",
        "outputId": "8c82f772-1bc7-4243-d4bf-3ab7c4ea3baa",
        "colab": {
          "base_uri": "https://localhost:8080/"
        }
      },
      "source": [
        "# `_` アンダースコア変数の振る舞い\n",
        "!erl -noshell -eval 'erlang:display(_=14+3),halt()' #=> 17\n",
        "# !erl -noshell -eval 'erlang:display(_=14+3), erlang:display(_), halt()' #=> unbound_var エラーになる"
      ],
      "execution_count": 11,
      "outputs": [
        {
          "output_type": "stream",
          "text": [
            "17\n",
            "{\"init terminating in do_boot\",{{unbound_var,'Var'},[{erl_eval,exprs,2,[]}]}}\n",
            "init terminating in do_boot ({{unbound_var,Var},[{erl_eval,exprs,2,[]}]})\n",
            "\n",
            "Crash dump is being written to: erl_crash.dump...done\n"
          ],
          "name": "stdout"
        }
      ]
    },
    {
      "cell_type": "code",
      "metadata": {
        "id": "SRdAhiZ_AAiN"
      },
      "source": [
        "# erl shell 上では変数の値はクリアできる `f()`\n",
        "# プログラム上ではできない\n",
        "# !erl -noshell -eval 'erlang:display(Var=1), f(Var), halt()' #=> undef エラーになる"
      ],
      "execution_count": null,
      "outputs": []
    },
    {
      "cell_type": "markdown",
      "metadata": {
        "id": "ER_PPDheBV_M"
      },
      "source": [
        "# アトム Atom"
      ]
    },
    {
      "cell_type": "code",
      "metadata": {
        "id": "1BqjAdw0Ba9D",
        "outputId": "ac116ce9-fc0a-4ffc-9f88-198b49607775",
        "colab": {
          "base_uri": "https://localhost:8080/"
        }
      },
      "source": [
        "# アトムは小文字で始まる\n",
        "# cat は cat を意味する\n",
        "!erl -noshell -eval 'erlang:display(cat),  halt()' #=> cat\n",
        "!erl -noshell -eval 'erlang:display(cat=cat),  halt()' #=> cat"
      ],
      "execution_count": 18,
      "outputs": [
        {
          "output_type": "stream",
          "text": [
            "cat\n",
            "cat\n"
          ],
          "name": "stdout"
        }
      ]
    },
    {
      "cell_type": "code",
      "metadata": {
        "id": "PLFxUwrcGNNf",
        "outputId": "0c292d19-801a-434a-8ed7-c969162d7232",
        "colab": {
          "base_uri": "https://localhost:8080/"
        }
      },
      "source": [
        "# シングルクォートでアトムを作ることができる\n",
        "# `_` や `@` を含む場合もシングルクォートで括られる\n",
        "!erl -noshell -eval 'erlang:display(atom),  halt()' \n",
        "!erl -noshell -eval 'erlang:display(atoms_rule),  halt()' \n",
        "!erl -noshell -eval 'erlang:display(atoms_rule@erlang),  halt()' \n",
        "!erl -noshell -eval \"erlang:display('Atoms can be cheated!'),  halt()\"\n",
        "!erl -noshell -eval \"erlang:display(atom='atom'),  halt()\""
      ],
      "execution_count": 26,
      "outputs": [
        {
          "output_type": "stream",
          "text": [
            "atom\n",
            "atoms_rule\n",
            "'atoms_rule@erlang'\n",
            "'Atoms can be cheated!'\n",
            "atom\n"
          ],
          "name": "stdout"
        }
      ]
    },
    {
      "cell_type": "code",
      "metadata": {
        "id": "TiAPmR0DIdpi"
      },
      "source": [
        "# アトムは便利に定数のようにつかうことができるが\n",
        "# メモリー食いでガーベッジコレクションの対象ではないというリスクがある\n",
        "# 動的に作成したり、ユーザーが作成できる仕組みにはしない\n",
        "# 使えない単語がある \n",
        "# after and andalso band begin bnot bor bsl bsr bxor case catch cond div end \n",
        "# fun if let not of or orelse query receive rem try when xor"
      ],
      "execution_count": null,
      "outputs": []
    },
    {
      "cell_type": "markdown",
      "metadata": {
        "id": "huOOlukJJagH"
      },
      "source": [
        "# ブール代数と比較演算子\n",
        "Boolean Algebra & Comparison operators"
      ]
    },
    {
      "cell_type": "code",
      "metadata": {
        "id": "koQnMoFYJi38"
      },
      "source": [
        ""
      ],
      "execution_count": null,
      "outputs": []
    }
  ]
}