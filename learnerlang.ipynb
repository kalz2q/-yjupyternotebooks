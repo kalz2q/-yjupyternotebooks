{
  "nbformat": 4,
  "nbformat_minor": 0,
  "metadata": {
    "colab": {
      "name": "learnerlang.ipynb",
      "provenance": [],
      "authorship_tag": "ABX9TyOY79GUEIcnMJ53xSchzEg6",
      "include_colab_link": true
    },
    "kernelspec": {
      "name": "python3",
      "display_name": "Python 3"
    },
    "language_info": {
      "name": "python"
    }
  },
  "cells": [
    {
      "cell_type": "markdown",
      "metadata": {
        "id": "view-in-github",
        "colab_type": "text"
      },
      "source": [
        "<a href=\"https://colab.research.google.com/github/kalz2q/mycolabnotebooks/blob/master/learnerlang.ipynb\" target=\"_parent\"><img src=\"https://colab.research.google.com/assets/colab-badge.svg\" alt=\"Open In Colab\"/></a>"
      ]
    },
    {
      "cell_type": "code",
      "metadata": {
        "colab": {
          "base_uri": "https://localhost:8080/"
        },
        "id": "ZVS51eNlDfTU",
        "outputId": "092b99a3-f4ae-4c47-92a4-79b009d04b74"
      },
      "source": [
        "!sudo apt install erlang\n"
      ],
      "execution_count": 14,
      "outputs": [
        {
          "output_type": "stream",
          "text": [
            "Reading package lists... Done\n",
            "Building dependency tree       \n",
            "Reading state information... Done\n",
            "erlang is already the newest version (1:20.2.2+dfsg-1ubuntu2).\n",
            "0 upgraded, 0 newly installed, 0 to remove and 39 not upgraded.\n"
          ],
          "name": "stdout"
        }
      ]
    },
    {
      "cell_type": "code",
      "metadata": {
        "id": "62anOgDUY2SB"
      },
      "source": [
        "!sudo rm -f /usr/local/lib/python3.7/dist-packages/ideep4py/lib/libmkldnn.so.0"
      ],
      "execution_count": 10,
      "outputs": []
    },
    {
      "cell_type": "code",
      "metadata": {
        "colab": {
          "base_uri": "https://localhost:8080/"
        },
        "id": "Dt7EebTAXwMT",
        "outputId": "9aa40c90-0794-4e06-e023-9e1956e341c5"
      },
      "source": [
        "!sudo find /usr/local/lib/python3.7/dist-packages/ideep4py/lib -name 'libmk*'"
      ],
      "execution_count": 5,
      "outputs": [
        {
          "output_type": "stream",
          "text": [
            "/usr/local/lib/python3.7/dist-packages/ideep4py/lib/libmklml_intel.so\n",
            "/usr/local/lib/python3.7/dist-packages/ideep4py/lib/libmkldnn.so\n",
            "/usr/local/lib/python3.7/dist-packages/ideep4py/lib/libmkldnn.so.0.14.0\n"
          ],
          "name": "stdout"
        }
      ]
    },
    {
      "cell_type": "code",
      "metadata": {
        "colab": {
          "base_uri": "https://localhost:8080/"
        },
        "id": "d0rBuztOZFHk",
        "outputId": "6726b690-b66e-41d4-cdc8-fdeb77d0e01a"
      },
      "source": [
        "!ls -la  /usr/local/lib/python3.7/dist-packages/ideep4py/lib/libmk*"
      ],
      "execution_count": 8,
      "outputs": [
        {
          "output_type": "stream",
          "text": [
            "-rwxr-xr-x 1 root staff   6979864 Jun 17 13:31 /usr/local/lib/python3.7/dist-packages/ideep4py/lib/libmkldnn.so\n",
            "-rwxr-xr-x 1 root staff   6979864 Jun 17 13:31 /usr/local/lib/python3.7/dist-packages/ideep4py/lib/libmkldnn.so.0.14.0\n",
            "-rwxr-xr-x 1 root staff 154033966 Jun 17 13:31 /usr/local/lib/python3.7/dist-packages/ideep4py/lib/libmklml_intel.so\n"
          ],
          "name": "stdout"
        }
      ]
    },
    {
      "cell_type": "code",
      "metadata": {
        "id": "wOuHFtbHZYP6"
      },
      "source": [
        "!sudo ln -s /usr/local/lib/python3.7/dist-packages/ideep4py/lib/libmkldnn.so /usr/local/lib/python3.7/dist-packages/ideep4py/lib/libmkldnn.so.0"
      ],
      "execution_count": 12,
      "outputs": []
    },
    {
      "cell_type": "code",
      "metadata": {
        "id": "5OqV7lqVDwBq"
      },
      "source": [
        "!sudo ldconfig"
      ],
      "execution_count": 13,
      "outputs": []
    },
    {
      "cell_type": "code",
      "metadata": {
        "colab": {
          "base_uri": "https://localhost:8080/"
        },
        "id": "i8bT4ON0Z9Jx",
        "outputId": "197a0707-e9bb-46a9-8132-1e4f0d0ff9bf"
      },
      "source": [
        "!erlang --version"
      ],
      "execution_count": 15,
      "outputs": [
        {
          "output_type": "stream",
          "text": [
            "/bin/bash: erlang: command not found\n"
          ],
          "name": "stdout"
        }
      ]
    }
  ]
}