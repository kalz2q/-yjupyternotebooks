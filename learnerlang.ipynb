{
  "nbformat": 4,
  "nbformat_minor": 0,
  "metadata": {
    "colab": {
      "name": "learnerlang.ipynb",
      "provenance": [],
      "authorship_tag": "ABX9TyPOCmLVVLagJoAcv9raOWLO",
      "include_colab_link": true
    },
    "kernelspec": {
      "name": "python3",
      "display_name": "Python 3"
    },
    "language_info": {
      "name": "python"
    }
  },
  "cells": [
    {
      "cell_type": "markdown",
      "metadata": {
        "id": "view-in-github",
        "colab_type": "text"
      },
      "source": [
        "<a href=\"https://colab.research.google.com/github/kalz2q/mycolabnotebooks/blob/master/learnerlang.ipynb\" target=\"_parent\"><img src=\"https://colab.research.google.com/assets/colab-badge.svg\" alt=\"Open In Colab\"/></a>"
      ]
    },
    {
      "cell_type": "markdown",
      "metadata": {
        "id": "hhipWpN-FDFA"
      },
      "source": [
        "メモ\n",
        "\n",
        "* erlang を少し齧る\n",
        "* まだ環境設定中\n",
        "* erlang は erl shell 上で開発するらしいが、それでは"
      ]
    },
    {
      "cell_type": "markdown",
      "metadata": {
        "id": "d9ZZBIG7FRK3"
      },
      "source": [
        "---\n"
      ]
    },
    {
      "cell_type": "code",
      "metadata": {
        "id": "62anOgDUY2SB"
      },
      "source": [
        "!sudo rm -f /usr/local/lib/python3.7/dist-packages/ideep4py/lib/libmkldnn.so.0\n",
        "!sudo ln -s /usr/local/lib/python3.7/dist-packages/ideep4py/lib/libmkldnn.so /usr/local/lib/python3.7/dist-packages/ideep4py/lib/libmkldnn.so.0\n",
        "!sudo apt install erlang"
      ],
      "execution_count": 2,
      "outputs": []
    },
    {
      "cell_type": "code",
      "metadata": {
        "colab": {
          "base_uri": "https://localhost:8080/"
        },
        "id": "i8bT4ON0Z9Jx",
        "outputId": "aec89724-024f-4cc9-c79d-631f6f1fb09f"
      },
      "source": [
        "!erl -eval 'erlang:display(erlang:system_info(otp_release)), halt().'  -noshell"
      ],
      "execution_count": 12,
      "outputs": [
        {
          "output_type": "stream",
          "text": [
            "\"20\"\r\n"
          ],
          "name": "stdout"
        }
      ]
    },
    {
      "cell_type": "code",
      "metadata": {
        "id": "rCsFsdWcA7yA",
        "outputId": "f4925555-f0ed-40e6-e5ae-28f6e27462cb",
        "colab": {
          "base_uri": "https://localhost:8080/"
        }
      },
      "source": [
        "!erl -eval 'erlang:display(\"hello erlang\"),halt().' -noshell"
      ],
      "execution_count": 39,
      "outputs": [
        {
          "output_type": "stream",
          "text": [
            "\"hello\"\r\n"
          ],
          "name": "stdout"
        }
      ]
    }
  ]
}