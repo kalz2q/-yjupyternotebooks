{
  "nbformat": 4,
  "nbformat_minor": 0,
  "metadata": {
    "colab": {
      "name": "learnerlang.ipynb",
      "provenance": [],
      "toc_visible": true,
      "authorship_tag": "ABX9TyPTREoETMPgFdO+amAp5SAX",
      "include_colab_link": true
    },
    "kernelspec": {
      "name": "python3",
      "display_name": "Python 3"
    },
    "language_info": {
      "name": "python"
    }
  },
  "cells": [
    {
      "cell_type": "markdown",
      "metadata": {
        "id": "view-in-github",
        "colab_type": "text"
      },
      "source": [
        "<a href=\"https://colab.research.google.com/github/kalz2q/mycolabnotebooks/blob/master/learnerlang.ipynb\" target=\"_parent\"><img src=\"https://colab.research.google.com/assets/colab-badge.svg\" alt=\"Open In Colab\"/></a>"
      ]
    },
    {
      "cell_type": "markdown",
      "metadata": {
        "id": "hhipWpN-FDFA"
      },
      "source": [
        "# メモ\n",
        "\n",
        "* erlang を齧る\n",
        "* erlang のテキストでは erl shell を使っているが、colab 上では不便なので\n",
        "* erl -eval を使うか escript を使う\n",
        "\n",
        "参考サイト\n",
        "\n",
        "* https://learnyousomeerlang.com/\n",
        "* https://erlang.org/doc/getting_started/users_guide.html\n"
      ]
    },
    {
      "cell_type": "code",
      "metadata": {
        "id": "62anOgDUY2SB",
        "colab": {
          "base_uri": "https://localhost:8080/"
        },
        "outputId": "6d815125-dcd6-489b-fdb0-bda7dfd1948e"
      },
      "source": [
        "!sudo rm -f /usr/local/lib/python3.7/dist-packages/ideep4py/lib/libmkldnn.so.0\n",
        "!sudo ln -s /usr/local/lib/python3.7/dist-packages/ideep4py/lib/libmkldnn.so /usr/local/lib/python3.7/dist-packages/ideep4py/lib/libmkldnn.so.0\n",
        "!sudo apt install erlang"
      ],
      "execution_count": null,
      "outputs": [
        {
          "output_type": "stream",
          "text": [
            "Reading package lists... Done\n",
            "Building dependency tree       \n",
            "Reading state information... Done\n",
            "erlang is already the newest version (1:20.2.2+dfsg-1ubuntu2).\n",
            "0 upgraded, 0 newly installed, 0 to remove and 39 not upgraded.\n"
          ],
          "name": "stdout"
        }
      ]
    },
    {
      "cell_type": "code",
      "metadata": {
        "colab": {
          "base_uri": "https://localhost:8080/"
        },
        "id": "i8bT4ON0Z9Jx",
        "outputId": "2c73b01b-21bf-4dc9-92ee-7b1718eeef58"
      },
      "source": [
        "# erlang のバージョン番号を知る方法に次のような答えがあった\n",
        "!erl -eval 'erlang:display(erlang:system_info(otp_release)), halt().'  -noshell"
      ],
      "execution_count": null,
      "outputs": [
        {
          "output_type": "stream",
          "text": [
            "\"20\"\r\n"
          ],
          "name": "stdout"
        }
      ]
    },
    {
      "cell_type": "code",
      "metadata": {
        "colab": {
          "base_uri": "https://localhost:8080/"
        },
        "id": "hcOf0uFCWlfI",
        "outputId": "2a93f0fb-5e57-49ec-ef92-a42458692317"
      },
      "source": [
        "# 参考 erl --version では erl shell が立ち上がってしまう\n",
        "!erl -version"
      ],
      "execution_count": null,
      "outputs": [
        {
          "output_type": "stream",
          "text": [
            "Erlang (SMP,ASYNC_THREADS) (BEAM) emulator version 9.2\r\n"
          ],
          "name": "stdout"
        }
      ]
    },
    {
      "cell_type": "code",
      "metadata": {
        "id": "rCsFsdWcA7yA",
        "colab": {
          "base_uri": "https://localhost:8080/"
        },
        "outputId": "048eeb7a-f29a-41ee-e713-1b93e8a3d5c2"
      },
      "source": [
        "# 実験\n",
        "!erl -eval 'erlang:display(\"hello erlang\"),halt().' -noshell #=> \"hello erlang\"\n",
        "!erl -eval 'erlang:display(3+7),halt().' -noshell #=> 10"
      ],
      "execution_count": null,
      "outputs": [
        {
          "output_type": "stream",
          "text": [
            "\"hello erlang\"\n",
            "10\n"
          ],
          "name": "stdout"
        }
      ]
    },
    {
      "cell_type": "code",
      "metadata": {
        "colab": {
          "base_uri": "https://localhost:8080/"
        },
        "id": "-RYCjtmDVhTU",
        "outputId": "0dd27253-fa2c-452f-83da-470814d71879"
      },
      "source": [
        "# 次のようなのが Erlang実験室：コマンドラインから使うerl という記事にあった。 檜山正幸\n",
        "!erl -boot start_clean -noshell -eval 'io:fwrite(\"Hello, world.~n\")' -s init stop\n",
        "!erl -boot start_clean -noshell -eval 'io:fwrite(\"~p~n\",[12345*12345*12345])' -s init stop"
      ],
      "execution_count": null,
      "outputs": [
        {
          "output_type": "stream",
          "text": [
            "Hello, world.\n",
            "1881365963625\n"
          ],
          "name": "stdout"
        }
      ]
    },
    {
      "cell_type": "code",
      "metadata": {
        "id": "cx2ZYtJxlIfy",
        "colab": {
          "base_uri": "https://localhost:8080/"
        },
        "outputId": "96140a80-d2a5-4265-9552-0a1dcbc49a65"
      },
      "source": [
        "# 実験\n",
        "# !erl -boot start_clean -noshell -eval 'io:fwrite(\"Hello, world.~n\");io:fwrite(\"Goodbye, world.~n\")' -s init stop"
      ],
      "execution_count": null,
      "outputs": [
        {
          "output_type": "stream",
          "text": [
            "{\"init terminating in do_boot\",{{badmatch,{error,{1,erl_parse,[\"syntax error before: \",\"':'\"]}}},[{init,start_it,1,[]},{init,start_em,1,[]},{init,do_boot,3,[]}]}}\r\n",
            "init terminating in do_boot ({{badmatch,{error,{1,erl_parse,[_]}}},[{init,start_it,1,[]},{init,start_em,1,[]},{init,do_boot,3,[]}]})\r\n",
            "\r\n",
            "Crash dump is being written to: erl_crash.dump...done\r\n"
          ],
          "name": "stdout"
        }
      ]
    }
  ]
}