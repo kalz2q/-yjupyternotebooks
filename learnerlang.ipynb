{
  "nbformat": 4,
  "nbformat_minor": 0,
  "metadata": {
    "colab": {
      "name": "learnerlang.ipynb",
      "provenance": [],
      "toc_visible": true,
      "authorship_tag": "ABX9TyMV4DFaSrRo3MfDEJidXd0l",
      "include_colab_link": true
    },
    "kernelspec": {
      "name": "python3",
      "display_name": "Python 3"
    },
    "language_info": {
      "name": "python"
    }
  },
  "cells": [
    {
      "cell_type": "markdown",
      "metadata": {
        "id": "view-in-github",
        "colab_type": "text"
      },
      "source": [
        "<a href=\"https://colab.research.google.com/github/kalz2q/mycolabnotebooks/blob/master/learnerlang.ipynb\" target=\"_parent\"><img src=\"https://colab.research.google.com/assets/colab-badge.svg\" alt=\"Open In Colab\"/></a>"
      ]
    },
    {
      "cell_type": "markdown",
      "metadata": {
        "id": "hhipWpN-FDFA"
      },
      "source": [
        "# メモ\n",
        "\n",
        "* erlang を齧る\n",
        "* erlang のテキストでは erl shell を使っているが、colab 上では不便なので\n",
        "* erl -eval を使うか escript を使う\n",
        "\n",
        "参考サイト\n",
        "\n",
        "* https://learnyousomeerlang.com/\n",
        "* https://erlang.org/doc/getting_started/users_guide.html\n"
      ]
    },
    {
      "cell_type": "code",
      "metadata": {
        "id": "62anOgDUY2SB",
        "colab": {
          "base_uri": "https://localhost:8080/"
        },
        "outputId": "0ce59ea0-cd69-456f-cf76-6b7fdc242b7a"
      },
      "source": [
        "!sudo rm -f /usr/local/lib/python3.7/dist-packages/ideep4py/lib/libmkldnn.so.0\n",
        "!sudo ln -s /usr/local/lib/python3.7/dist-packages/ideep4py/lib/libmkldnn.so /usr/local/lib/python3.7/dist-packages/ideep4py/lib/libmkldnn.so.0\n",
        "!sudo apt install erlang"
      ],
      "execution_count": 1,
      "outputs": [
        {
          "output_type": "stream",
          "text": [
            "Reading package lists... Done\n",
            "Building dependency tree       \n",
            "Reading state information... Done\n",
            "The following additional packages will be installed:\n",
            "  emacsen-common erlang-asn1 erlang-base erlang-common-test erlang-corba\n",
            "  erlang-crypto erlang-debugger erlang-dev erlang-dialyzer erlang-diameter\n",
            "  erlang-edoc erlang-eldap erlang-erl-docgen erlang-et erlang-eunit\n",
            "  erlang-examples erlang-ic erlang-ic-java erlang-inets erlang-jinterface\n",
            "  erlang-megaco erlang-mnesia erlang-mode erlang-observer erlang-odbc\n",
            "  erlang-os-mon erlang-parsetools erlang-public-key erlang-reltool\n",
            "  erlang-runtime-tools erlang-snmp erlang-src erlang-ssh erlang-ssl\n",
            "  erlang-syntax-tools erlang-tools erlang-wx erlang-xmerl javascript-common\n",
            "  libgail-common libgail18 libgtk2.0-0 libgtk2.0-bin libgtk2.0-common\n",
            "  libjs-jquery libjs-jquery-metadata libjs-jquery-tablesorter libnotify4\n",
            "  libsctp1 libwxbase3.0-0v5 libwxgtk3.0-0v5 notification-daemon\n",
            "Suggested packages:\n",
            "  erlang-manpages erlang-doc xsltproc fop apache2 | lighttpd | httpd gvfs\n",
            "  lksctp-tools\n",
            "The following NEW packages will be installed:\n",
            "  emacsen-common erlang erlang-asn1 erlang-base erlang-common-test\n",
            "  erlang-corba erlang-crypto erlang-debugger erlang-dev erlang-dialyzer\n",
            "  erlang-diameter erlang-edoc erlang-eldap erlang-erl-docgen erlang-et\n",
            "  erlang-eunit erlang-examples erlang-ic erlang-ic-java erlang-inets\n",
            "  erlang-jinterface erlang-megaco erlang-mnesia erlang-mode erlang-observer\n",
            "  erlang-odbc erlang-os-mon erlang-parsetools erlang-public-key erlang-reltool\n",
            "  erlang-runtime-tools erlang-snmp erlang-src erlang-ssh erlang-ssl\n",
            "  erlang-syntax-tools erlang-tools erlang-wx erlang-xmerl javascript-common\n",
            "  libgail-common libgail18 libgtk2.0-0 libgtk2.0-bin libgtk2.0-common\n",
            "  libjs-jquery libjs-jquery-metadata libjs-jquery-tablesorter libnotify4\n",
            "  libsctp1 libwxbase3.0-0v5 libwxgtk3.0-0v5 notification-daemon\n",
            "0 upgraded, 53 newly installed, 0 to remove and 39 not upgraded.\n",
            "Need to get 45.9 MB of archives.\n",
            "After this operation, 142 MB of additional disk space will be used.\n",
            "Get:1 http://archive.ubuntu.com/ubuntu bionic/main amd64 emacsen-common all 2.0.8 [17.6 kB]\n",
            "Get:2 http://archive.ubuntu.com/ubuntu bionic/main amd64 erlang-base amd64 1:20.2.2+dfsg-1ubuntu2 [7,323 kB]\n",
            "Get:3 http://archive.ubuntu.com/ubuntu bionic/main amd64 erlang-dev amd64 1:20.2.2+dfsg-1ubuntu2 [328 kB]\n",
            "Get:4 http://archive.ubuntu.com/ubuntu bionic/main amd64 erlang-asn1 amd64 1:20.2.2+dfsg-1ubuntu2 [724 kB]\n",
            "Get:5 http://archive.ubuntu.com/ubuntu bionic/main amd64 erlang-crypto amd64 1:20.2.2+dfsg-1ubuntu2 [104 kB]\n",
            "Get:6 http://archive.ubuntu.com/ubuntu bionic/universe amd64 libwxbase3.0-0v5 amd64 3.0.4+dfsg-3 [954 kB]\n",
            "Get:7 http://archive.ubuntu.com/ubuntu bionic/main amd64 libgtk2.0-common all 2.24.32-1ubuntu1 [125 kB]\n",
            "Get:8 http://archive.ubuntu.com/ubuntu bionic/main amd64 libgtk2.0-0 amd64 2.24.32-1ubuntu1 [1,769 kB]\n",
            "Get:9 http://archive.ubuntu.com/ubuntu bionic/main amd64 libnotify4 amd64 0.7.7-3 [17.3 kB]\n",
            "Get:10 http://archive.ubuntu.com/ubuntu bionic/universe amd64 libwxgtk3.0-0v5 amd64 3.0.4+dfsg-3 [4,182 kB]\n",
            "Get:11 http://archive.ubuntu.com/ubuntu bionic/universe amd64 erlang-wx amd64 1:20.2.2+dfsg-1ubuntu2 [2,781 kB]\n",
            "Get:12 http://archive.ubuntu.com/ubuntu bionic/universe amd64 erlang-debugger amd64 1:20.2.2+dfsg-1ubuntu2 [381 kB]\n",
            "Get:13 http://archive.ubuntu.com/ubuntu bionic/main amd64 erlang-mnesia amd64 1:20.2.2+dfsg-1ubuntu2 [724 kB]\n",
            "Get:14 http://archive.ubuntu.com/ubuntu bionic/main amd64 erlang-runtime-tools amd64 1:20.2.2+dfsg-1ubuntu2 [178 kB]\n",
            "Get:15 http://archive.ubuntu.com/ubuntu bionic/main amd64 erlang-public-key amd64 1:20.2.2+dfsg-1ubuntu2 [561 kB]\n",
            "Get:16 http://archive.ubuntu.com/ubuntu bionic/main amd64 erlang-ssl amd64 1:20.2.2+dfsg-1ubuntu2 [814 kB]\n",
            "Get:17 http://archive.ubuntu.com/ubuntu bionic/main amd64 erlang-inets amd64 1:20.2.2+dfsg-1ubuntu2 [711 kB]\n",
            "Get:18 http://archive.ubuntu.com/ubuntu bionic/universe amd64 erlang-et amd64 1:20.2.2+dfsg-1ubuntu2 [146 kB]\n",
            "Get:19 http://archive.ubuntu.com/ubuntu bionic/universe amd64 erlang-observer amd64 1:20.2.2+dfsg-1ubuntu2 [829 kB]\n",
            "Get:20 http://archive.ubuntu.com/ubuntu bionic/main amd64 erlang-snmp amd64 1:20.2.2+dfsg-1ubuntu2 [1,531 kB]\n",
            "Get:21 http://archive.ubuntu.com/ubuntu bionic/main amd64 erlang-ssh amd64 1:20.2.2+dfsg-1ubuntu2 [508 kB]\n",
            "Get:22 http://archive.ubuntu.com/ubuntu bionic/main amd64 erlang-syntax-tools amd64 1:20.2.2+dfsg-1ubuntu2 [345 kB]\n",
            "Get:23 http://archive.ubuntu.com/ubuntu bionic/main amd64 erlang-tools amd64 1:20.2.2+dfsg-1ubuntu2 [503 kB]\n",
            "Get:24 http://archive.ubuntu.com/ubuntu bionic/main amd64 erlang-xmerl amd64 1:20.2.2+dfsg-1ubuntu2 [964 kB]\n",
            "Get:25 http://archive.ubuntu.com/ubuntu bionic/main amd64 libjs-jquery all 3.2.1-1 [152 kB]\n",
            "Get:26 http://archive.ubuntu.com/ubuntu bionic/universe amd64 libjs-jquery-metadata all 12-1 [6,930 B]\n",
            "Get:27 http://archive.ubuntu.com/ubuntu bionic/universe amd64 libjs-jquery-tablesorter all 1:2.29.5+dfsg1-1 [174 kB]\n",
            "Get:28 http://archive.ubuntu.com/ubuntu bionic/universe amd64 erlang-common-test amd64 1:20.2.2+dfsg-1ubuntu2 [1,033 kB]\n",
            "Get:29 http://archive.ubuntu.com/ubuntu bionic/main amd64 erlang-corba amd64 1:20.2.2+dfsg-1ubuntu2 [2,251 kB]\n",
            "Get:30 http://archive.ubuntu.com/ubuntu bionic/universe amd64 erlang-dialyzer amd64 1:20.2.2+dfsg-1ubuntu2 [673 kB]\n",
            "Get:31 http://archive.ubuntu.com/ubuntu bionic/main amd64 erlang-diameter amd64 1:20.2.2+dfsg-1ubuntu2 [647 kB]\n",
            "Get:32 http://archive.ubuntu.com/ubuntu bionic/main amd64 erlang-edoc amd64 1:20.2.2+dfsg-1ubuntu2 [283 kB]\n",
            "Get:33 http://archive.ubuntu.com/ubuntu bionic/main amd64 erlang-eldap amd64 1:20.2.2+dfsg-1ubuntu2 [101 kB]\n",
            "Get:34 http://archive.ubuntu.com/ubuntu bionic/main amd64 erlang-erl-docgen amd64 1:20.2.2+dfsg-1ubuntu2 [118 kB]\n",
            "Get:35 http://archive.ubuntu.com/ubuntu bionic/main amd64 erlang-eunit amd64 1:20.2.2+dfsg-1ubuntu2 [136 kB]\n",
            "Get:36 http://archive.ubuntu.com/ubuntu bionic/main amd64 erlang-ic amd64 1:20.2.2+dfsg-1ubuntu2 [817 kB]\n",
            "Get:37 http://archive.ubuntu.com/ubuntu bionic/main amd64 erlang-megaco amd64 1:20.2.2+dfsg-1ubuntu2 [5,462 kB]\n",
            "Get:38 http://archive.ubuntu.com/ubuntu bionic/main amd64 erlang-odbc amd64 1:20.2.2+dfsg-1ubuntu2 [47.5 kB]\n",
            "Get:39 http://archive.ubuntu.com/ubuntu bionic/main amd64 erlang-os-mon amd64 1:20.2.2+dfsg-1ubuntu2 [90.4 kB]\n",
            "Get:40 http://archive.ubuntu.com/ubuntu bionic/main amd64 erlang-parsetools amd64 1:20.2.2+dfsg-1ubuntu2 [153 kB]\n",
            "Get:41 http://archive.ubuntu.com/ubuntu bionic/universe amd64 erlang-reltool amd64 1:20.2.2+dfsg-1ubuntu2 [330 kB]\n",
            "Get:42 http://archive.ubuntu.com/ubuntu bionic/universe amd64 erlang all 1:20.2.2+dfsg-1ubuntu2 [13.7 kB]\n",
            "Get:43 http://archive.ubuntu.com/ubuntu bionic/main amd64 erlang-examples all 1:20.2.2+dfsg-1ubuntu2 [922 kB]\n",
            "Get:44 http://archive.ubuntu.com/ubuntu bionic/universe amd64 erlang-jinterface all 1:20.2.2+dfsg-1ubuntu2 [107 kB]\n",
            "Get:45 http://archive.ubuntu.com/ubuntu bionic/universe amd64 erlang-ic-java all 1:20.2.2+dfsg-1ubuntu2 [38.1 kB]\n",
            "Get:46 http://archive.ubuntu.com/ubuntu bionic/universe amd64 erlang-mode all 1:20.2.2+dfsg-1ubuntu2 [84.0 kB]\n",
            "Get:47 http://archive.ubuntu.com/ubuntu bionic/universe amd64 erlang-src all 1:20.2.2+dfsg-1ubuntu2 [5,599 kB]\n",
            "Get:48 http://archive.ubuntu.com/ubuntu bionic/main amd64 javascript-common all 11 [6,066 B]\n",
            "Get:49 http://archive.ubuntu.com/ubuntu bionic/main amd64 libgail18 amd64 2.24.32-1ubuntu1 [14.2 kB]\n",
            "Get:50 http://archive.ubuntu.com/ubuntu bionic/main amd64 libgail-common amd64 2.24.32-1ubuntu1 [112 kB]\n",
            "Get:51 http://archive.ubuntu.com/ubuntu bionic/main amd64 libgtk2.0-bin amd64 2.24.32-1ubuntu1 [7,536 B]\n",
            "Get:52 http://archive.ubuntu.com/ubuntu bionic/main amd64 libsctp1 amd64 1.0.17+dfsg-2 [8,008 B]\n",
            "Get:53 http://archive.ubuntu.com/ubuntu bionic/main amd64 notification-daemon amd64 3.20.0-3 [36.9 kB]\n",
            "Fetched 45.9 MB in 2s (19.0 MB/s)\n",
            "debconf: unable to initialize frontend: Dialog\n",
            "debconf: (No usable dialog-like program is installed, so the dialog based frontend cannot be used. at /usr/share/perl5/Debconf/FrontEnd/Dialog.pm line 76, <> line 53.)\n",
            "debconf: falling back to frontend: Readline\n",
            "debconf: unable to initialize frontend: Readline\n",
            "debconf: (This frontend requires a controlling tty.)\n",
            "debconf: falling back to frontend: Teletype\n",
            "dpkg-preconfigure: unable to re-open stdin: \n",
            "Selecting previously unselected package emacsen-common.\n",
            "(Reading database ... 160815 files and directories currently installed.)\n",
            "Preparing to unpack .../00-emacsen-common_2.0.8_all.deb ...\n",
            "Unpacking emacsen-common (2.0.8) ...\n",
            "Selecting previously unselected package erlang-base.\n",
            "Preparing to unpack .../01-erlang-base_1%3a20.2.2+dfsg-1ubuntu2_amd64.deb ...\n",
            "Unpacking erlang-base (1:20.2.2+dfsg-1ubuntu2) ...\n",
            "Selecting previously unselected package erlang-dev.\n",
            "Preparing to unpack .../02-erlang-dev_1%3a20.2.2+dfsg-1ubuntu2_amd64.deb ...\n",
            "Unpacking erlang-dev (1:20.2.2+dfsg-1ubuntu2) ...\n",
            "Selecting previously unselected package erlang-asn1.\n",
            "Preparing to unpack .../03-erlang-asn1_1%3a20.2.2+dfsg-1ubuntu2_amd64.deb ...\n",
            "Unpacking erlang-asn1 (1:20.2.2+dfsg-1ubuntu2) ...\n",
            "Selecting previously unselected package erlang-crypto.\n",
            "Preparing to unpack .../04-erlang-crypto_1%3a20.2.2+dfsg-1ubuntu2_amd64.deb ...\n",
            "Unpacking erlang-crypto (1:20.2.2+dfsg-1ubuntu2) ...\n",
            "Selecting previously unselected package libwxbase3.0-0v5:amd64.\n",
            "Preparing to unpack .../05-libwxbase3.0-0v5_3.0.4+dfsg-3_amd64.deb ...\n",
            "Unpacking libwxbase3.0-0v5:amd64 (3.0.4+dfsg-3) ...\n",
            "Selecting previously unselected package libgtk2.0-common.\n",
            "Preparing to unpack .../06-libgtk2.0-common_2.24.32-1ubuntu1_all.deb ...\n",
            "Unpacking libgtk2.0-common (2.24.32-1ubuntu1) ...\n",
            "Selecting previously unselected package libgtk2.0-0:amd64.\n",
            "Preparing to unpack .../07-libgtk2.0-0_2.24.32-1ubuntu1_amd64.deb ...\n",
            "Unpacking libgtk2.0-0:amd64 (2.24.32-1ubuntu1) ...\n",
            "Selecting previously unselected package libnotify4:amd64.\n",
            "Preparing to unpack .../08-libnotify4_0.7.7-3_amd64.deb ...\n",
            "Unpacking libnotify4:amd64 (0.7.7-3) ...\n",
            "Selecting previously unselected package libwxgtk3.0-0v5:amd64.\n",
            "Preparing to unpack .../09-libwxgtk3.0-0v5_3.0.4+dfsg-3_amd64.deb ...\n",
            "Unpacking libwxgtk3.0-0v5:amd64 (3.0.4+dfsg-3) ...\n",
            "Selecting previously unselected package erlang-wx.\n",
            "Preparing to unpack .../10-erlang-wx_1%3a20.2.2+dfsg-1ubuntu2_amd64.deb ...\n",
            "Unpacking erlang-wx (1:20.2.2+dfsg-1ubuntu2) ...\n",
            "Selecting previously unselected package erlang-debugger.\n",
            "Preparing to unpack .../11-erlang-debugger_1%3a20.2.2+dfsg-1ubuntu2_amd64.deb ...\n",
            "Unpacking erlang-debugger (1:20.2.2+dfsg-1ubuntu2) ...\n",
            "Selecting previously unselected package erlang-mnesia.\n",
            "Preparing to unpack .../12-erlang-mnesia_1%3a20.2.2+dfsg-1ubuntu2_amd64.deb ...\n",
            "Unpacking erlang-mnesia (1:20.2.2+dfsg-1ubuntu2) ...\n",
            "Selecting previously unselected package erlang-runtime-tools.\n",
            "Preparing to unpack .../13-erlang-runtime-tools_1%3a20.2.2+dfsg-1ubuntu2_amd64.deb ...\n",
            "Unpacking erlang-runtime-tools (1:20.2.2+dfsg-1ubuntu2) ...\n",
            "Selecting previously unselected package erlang-public-key.\n",
            "Preparing to unpack .../14-erlang-public-key_1%3a20.2.2+dfsg-1ubuntu2_amd64.deb ...\n",
            "Unpacking erlang-public-key (1:20.2.2+dfsg-1ubuntu2) ...\n",
            "Selecting previously unselected package erlang-ssl.\n",
            "Preparing to unpack .../15-erlang-ssl_1%3a20.2.2+dfsg-1ubuntu2_amd64.deb ...\n",
            "Unpacking erlang-ssl (1:20.2.2+dfsg-1ubuntu2) ...\n",
            "Selecting previously unselected package erlang-inets.\n",
            "Preparing to unpack .../16-erlang-inets_1%3a20.2.2+dfsg-1ubuntu2_amd64.deb ...\n",
            "Unpacking erlang-inets (1:20.2.2+dfsg-1ubuntu2) ...\n",
            "Selecting previously unselected package erlang-et.\n",
            "Preparing to unpack .../17-erlang-et_1%3a20.2.2+dfsg-1ubuntu2_amd64.deb ...\n",
            "Unpacking erlang-et (1:20.2.2+dfsg-1ubuntu2) ...\n",
            "Selecting previously unselected package erlang-observer.\n",
            "Preparing to unpack .../18-erlang-observer_1%3a20.2.2+dfsg-1ubuntu2_amd64.deb ...\n",
            "Unpacking erlang-observer (1:20.2.2+dfsg-1ubuntu2) ...\n",
            "Selecting previously unselected package erlang-snmp.\n",
            "Preparing to unpack .../19-erlang-snmp_1%3a20.2.2+dfsg-1ubuntu2_amd64.deb ...\n",
            "Unpacking erlang-snmp (1:20.2.2+dfsg-1ubuntu2) ...\n",
            "Selecting previously unselected package erlang-ssh.\n",
            "Preparing to unpack .../20-erlang-ssh_1%3a20.2.2+dfsg-1ubuntu2_amd64.deb ...\n",
            "Unpacking erlang-ssh (1:20.2.2+dfsg-1ubuntu2) ...\n",
            "Selecting previously unselected package erlang-syntax-tools.\n",
            "Preparing to unpack .../21-erlang-syntax-tools_1%3a20.2.2+dfsg-1ubuntu2_amd64.deb ...\n",
            "Unpacking erlang-syntax-tools (1:20.2.2+dfsg-1ubuntu2) ...\n",
            "Selecting previously unselected package erlang-tools.\n",
            "Preparing to unpack .../22-erlang-tools_1%3a20.2.2+dfsg-1ubuntu2_amd64.deb ...\n",
            "Unpacking erlang-tools (1:20.2.2+dfsg-1ubuntu2) ...\n",
            "Selecting previously unselected package erlang-xmerl.\n",
            "Preparing to unpack .../23-erlang-xmerl_1%3a20.2.2+dfsg-1ubuntu2_amd64.deb ...\n",
            "Unpacking erlang-xmerl (1:20.2.2+dfsg-1ubuntu2) ...\n",
            "Selecting previously unselected package libjs-jquery.\n",
            "Preparing to unpack .../24-libjs-jquery_3.2.1-1_all.deb ...\n",
            "Unpacking libjs-jquery (3.2.1-1) ...\n",
            "Selecting previously unselected package libjs-jquery-metadata.\n",
            "Preparing to unpack .../25-libjs-jquery-metadata_12-1_all.deb ...\n",
            "Unpacking libjs-jquery-metadata (12-1) ...\n",
            "Selecting previously unselected package libjs-jquery-tablesorter.\n",
            "Preparing to unpack .../26-libjs-jquery-tablesorter_1%3a2.29.5+dfsg1-1_all.deb ...\n",
            "Unpacking libjs-jquery-tablesorter (1:2.29.5+dfsg1-1) ...\n",
            "Selecting previously unselected package erlang-common-test.\n",
            "Preparing to unpack .../27-erlang-common-test_1%3a20.2.2+dfsg-1ubuntu2_amd64.deb ...\n",
            "Unpacking erlang-common-test (1:20.2.2+dfsg-1ubuntu2) ...\n",
            "Selecting previously unselected package erlang-corba.\n",
            "Preparing to unpack .../28-erlang-corba_1%3a20.2.2+dfsg-1ubuntu2_amd64.deb ...\n",
            "Unpacking erlang-corba (1:20.2.2+dfsg-1ubuntu2) ...\n",
            "Selecting previously unselected package erlang-dialyzer.\n",
            "Preparing to unpack .../29-erlang-dialyzer_1%3a20.2.2+dfsg-1ubuntu2_amd64.deb ...\n",
            "Unpacking erlang-dialyzer (1:20.2.2+dfsg-1ubuntu2) ...\n",
            "Selecting previously unselected package erlang-diameter.\n",
            "Preparing to unpack .../30-erlang-diameter_1%3a20.2.2+dfsg-1ubuntu2_amd64.deb ...\n",
            "Unpacking erlang-diameter (1:20.2.2+dfsg-1ubuntu2) ...\n",
            "Selecting previously unselected package erlang-edoc.\n",
            "Preparing to unpack .../31-erlang-edoc_1%3a20.2.2+dfsg-1ubuntu2_amd64.deb ...\n",
            "Unpacking erlang-edoc (1:20.2.2+dfsg-1ubuntu2) ...\n",
            "Selecting previously unselected package erlang-eldap.\n",
            "Preparing to unpack .../32-erlang-eldap_1%3a20.2.2+dfsg-1ubuntu2_amd64.deb ...\n",
            "Unpacking erlang-eldap (1:20.2.2+dfsg-1ubuntu2) ...\n",
            "Selecting previously unselected package erlang-erl-docgen.\n",
            "Preparing to unpack .../33-erlang-erl-docgen_1%3a20.2.2+dfsg-1ubuntu2_amd64.deb ...\n",
            "Unpacking erlang-erl-docgen (1:20.2.2+dfsg-1ubuntu2) ...\n",
            "Selecting previously unselected package erlang-eunit.\n",
            "Preparing to unpack .../34-erlang-eunit_1%3a20.2.2+dfsg-1ubuntu2_amd64.deb ...\n",
            "Unpacking erlang-eunit (1:20.2.2+dfsg-1ubuntu2) ...\n",
            "Selecting previously unselected package erlang-ic.\n",
            "Preparing to unpack .../35-erlang-ic_1%3a20.2.2+dfsg-1ubuntu2_amd64.deb ...\n",
            "Unpacking erlang-ic (1:20.2.2+dfsg-1ubuntu2) ...\n",
            "Selecting previously unselected package erlang-megaco.\n",
            "Preparing to unpack .../36-erlang-megaco_1%3a20.2.2+dfsg-1ubuntu2_amd64.deb ...\n",
            "Unpacking erlang-megaco (1:20.2.2+dfsg-1ubuntu2) ...\n",
            "Selecting previously unselected package erlang-odbc.\n",
            "Preparing to unpack .../37-erlang-odbc_1%3a20.2.2+dfsg-1ubuntu2_amd64.deb ...\n",
            "Unpacking erlang-odbc (1:20.2.2+dfsg-1ubuntu2) ...\n",
            "Selecting previously unselected package erlang-os-mon.\n",
            "Preparing to unpack .../38-erlang-os-mon_1%3a20.2.2+dfsg-1ubuntu2_amd64.deb ...\n",
            "Unpacking erlang-os-mon (1:20.2.2+dfsg-1ubuntu2) ...\n",
            "Selecting previously unselected package erlang-parsetools.\n",
            "Preparing to unpack .../39-erlang-parsetools_1%3a20.2.2+dfsg-1ubuntu2_amd64.deb ...\n",
            "Unpacking erlang-parsetools (1:20.2.2+dfsg-1ubuntu2) ...\n",
            "Selecting previously unselected package erlang-reltool.\n",
            "Preparing to unpack .../40-erlang-reltool_1%3a20.2.2+dfsg-1ubuntu2_amd64.deb ...\n",
            "Unpacking erlang-reltool (1:20.2.2+dfsg-1ubuntu2) ...\n",
            "Selecting previously unselected package erlang.\n",
            "Preparing to unpack .../41-erlang_1%3a20.2.2+dfsg-1ubuntu2_all.deb ...\n",
            "Unpacking erlang (1:20.2.2+dfsg-1ubuntu2) ...\n",
            "Selecting previously unselected package erlang-examples.\n",
            "Preparing to unpack .../42-erlang-examples_1%3a20.2.2+dfsg-1ubuntu2_all.deb ...\n",
            "Unpacking erlang-examples (1:20.2.2+dfsg-1ubuntu2) ...\n",
            "Selecting previously unselected package erlang-jinterface.\n",
            "Preparing to unpack .../43-erlang-jinterface_1%3a20.2.2+dfsg-1ubuntu2_all.deb ...\n",
            "Unpacking erlang-jinterface (1:20.2.2+dfsg-1ubuntu2) ...\n",
            "Selecting previously unselected package erlang-ic-java.\n",
            "Preparing to unpack .../44-erlang-ic-java_1%3a20.2.2+dfsg-1ubuntu2_all.deb ...\n",
            "Unpacking erlang-ic-java (1:20.2.2+dfsg-1ubuntu2) ...\n",
            "Selecting previously unselected package erlang-mode.\n",
            "Preparing to unpack .../45-erlang-mode_1%3a20.2.2+dfsg-1ubuntu2_all.deb ...\n",
            "Unpacking erlang-mode (1:20.2.2+dfsg-1ubuntu2) ...\n",
            "Selecting previously unselected package erlang-src.\n",
            "Preparing to unpack .../46-erlang-src_1%3a20.2.2+dfsg-1ubuntu2_all.deb ...\n",
            "Unpacking erlang-src (1:20.2.2+dfsg-1ubuntu2) ...\n",
            "Selecting previously unselected package javascript-common.\n",
            "Preparing to unpack .../47-javascript-common_11_all.deb ...\n",
            "Unpacking javascript-common (11) ...\n",
            "Selecting previously unselected package libgail18:amd64.\n",
            "Preparing to unpack .../48-libgail18_2.24.32-1ubuntu1_amd64.deb ...\n",
            "Unpacking libgail18:amd64 (2.24.32-1ubuntu1) ...\n",
            "Selecting previously unselected package libgail-common:amd64.\n",
            "Preparing to unpack .../49-libgail-common_2.24.32-1ubuntu1_amd64.deb ...\n",
            "Unpacking libgail-common:amd64 (2.24.32-1ubuntu1) ...\n",
            "Selecting previously unselected package libgtk2.0-bin.\n",
            "Preparing to unpack .../50-libgtk2.0-bin_2.24.32-1ubuntu1_amd64.deb ...\n",
            "Unpacking libgtk2.0-bin (2.24.32-1ubuntu1) ...\n",
            "Selecting previously unselected package libsctp1:amd64.\n",
            "Preparing to unpack .../51-libsctp1_1.0.17+dfsg-2_amd64.deb ...\n",
            "Unpacking libsctp1:amd64 (1.0.17+dfsg-2) ...\n",
            "Selecting previously unselected package notification-daemon.\n",
            "Preparing to unpack .../52-notification-daemon_3.20.0-3_amd64.deb ...\n",
            "Unpacking notification-daemon (3.20.0-3) ...\n",
            "Setting up libjs-jquery (3.2.1-1) ...\n",
            "Setting up libnotify4:amd64 (0.7.7-3) ...\n",
            "Setting up libgtk2.0-common (2.24.32-1ubuntu1) ...\n",
            "Setting up erlang-base (1:20.2.2+dfsg-1ubuntu2) ...\n",
            "Searching for services which depend on erlang and should be started...none found.\n",
            "Setting up erlang-dev (1:20.2.2+dfsg-1ubuntu2) ...\n",
            "Setting up libsctp1:amd64 (1.0.17+dfsg-2) ...\n",
            "Setting up erlang-ic (1:20.2.2+dfsg-1ubuntu2) ...\n",
            "Setting up emacsen-common (2.0.8) ...\n",
            "Setting up erlang-examples (1:20.2.2+dfsg-1ubuntu2) ...\n",
            "Setting up erlang-xmerl (1:20.2.2+dfsg-1ubuntu2) ...\n",
            "Setting up libwxbase3.0-0v5:amd64 (3.0.4+dfsg-3) ...\n",
            "Setting up erlang-crypto (1:20.2.2+dfsg-1ubuntu2) ...\n",
            "Setting up erlang-asn1 (1:20.2.2+dfsg-1ubuntu2) ...\n",
            "Setting up erlang-mnesia (1:20.2.2+dfsg-1ubuntu2) ...\n",
            "Setting up erlang-eunit (1:20.2.2+dfsg-1ubuntu2) ...\n",
            "Setting up erlang-jinterface (1:20.2.2+dfsg-1ubuntu2) ...\n",
            "Setting up erlang-runtime-tools (1:20.2.2+dfsg-1ubuntu2) ...\n",
            "Setting up erlang-syntax-tools (1:20.2.2+dfsg-1ubuntu2) ...\n",
            "Setting up javascript-common (11) ...\n",
            "Setting up erlang-odbc (1:20.2.2+dfsg-1ubuntu2) ...\n",
            "Setting up libjs-jquery-metadata (12-1) ...\n",
            "Setting up erlang-dialyzer (1:20.2.2+dfsg-1ubuntu2) ...\n",
            "Setting up notification-daemon (3.20.0-3) ...\n",
            "Setting up erlang-parsetools (1:20.2.2+dfsg-1ubuntu2) ...\n",
            "Setting up erlang-megaco (1:20.2.2+dfsg-1ubuntu2) ...\n",
            "Setting up erlang-src (1:20.2.2+dfsg-1ubuntu2) ...\n",
            "Setting up libjs-jquery-tablesorter (1:2.29.5+dfsg1-1) ...\n",
            "Setting up libgtk2.0-0:amd64 (2.24.32-1ubuntu1) ...\n",
            "Setting up libgail18:amd64 (2.24.32-1ubuntu1) ...\n",
            "Setting up erlang-mode (1:20.2.2+dfsg-1ubuntu2) ...\n",
            "Setting up erlang-public-key (1:20.2.2+dfsg-1ubuntu2) ...\n",
            "Setting up libwxgtk3.0-0v5:amd64 (3.0.4+dfsg-3) ...\n",
            "Setting up libgail-common:amd64 (2.24.32-1ubuntu1) ...\n",
            "Setting up erlang-snmp (1:20.2.2+dfsg-1ubuntu2) ...\n",
            "Setting up erlang-ssl (1:20.2.2+dfsg-1ubuntu2) ...\n",
            "Setting up erlang-inets (1:20.2.2+dfsg-1ubuntu2) ...\n",
            "Setting up erlang-ic-java (1:20.2.2+dfsg-1ubuntu2) ...\n",
            "Setting up erlang-tools (1:20.2.2+dfsg-1ubuntu2) ...\n",
            "Setting up libgtk2.0-bin (2.24.32-1ubuntu1) ...\n",
            "Setting up erlang-wx (1:20.2.2+dfsg-1ubuntu2) ...\n",
            "Setting up erlang-diameter (1:20.2.2+dfsg-1ubuntu2) ...\n",
            "Setting up erlang-ssh (1:20.2.2+dfsg-1ubuntu2) ...\n",
            "Setting up erlang-os-mon (1:20.2.2+dfsg-1ubuntu2) ...\n",
            "Setting up erlang-eldap (1:20.2.2+dfsg-1ubuntu2) ...\n",
            "Setting up erlang-edoc (1:20.2.2+dfsg-1ubuntu2) ...\n",
            "Setting up erlang-corba (1:20.2.2+dfsg-1ubuntu2) ...\n",
            "Setting up erlang-debugger (1:20.2.2+dfsg-1ubuntu2) ...\n",
            "Setting up erlang-reltool (1:20.2.2+dfsg-1ubuntu2) ...\n",
            "Setting up erlang-et (1:20.2.2+dfsg-1ubuntu2) ...\n",
            "Setting up erlang-observer (1:20.2.2+dfsg-1ubuntu2) ...\n",
            "Setting up erlang-erl-docgen (1:20.2.2+dfsg-1ubuntu2) ...\n",
            "Setting up erlang-common-test (1:20.2.2+dfsg-1ubuntu2) ...\n",
            "Setting up erlang (1:20.2.2+dfsg-1ubuntu2) ...\n",
            "Processing triggers for libc-bin (2.27-3ubuntu1.2) ...\n",
            "Processing triggers for man-db (2.8.3-2ubuntu0.1) ...\n",
            "Processing triggers for mime-support (3.60ubuntu1) ...\n"
          ],
          "name": "stdout"
        }
      ]
    },
    {
      "cell_type": "code",
      "metadata": {
        "colab": {
          "base_uri": "https://localhost:8080/"
        },
        "id": "i8bT4ON0Z9Jx",
        "outputId": "2c73b01b-21bf-4dc9-92ee-7b1718eeef58"
      },
      "source": [
        "# erlang のバージョン番号を知る方法に次のような答えがあった\n",
        "!erl -eval 'erlang:display(erlang:system_info(otp_release)), halt().'  -noshell"
      ],
      "execution_count": null,
      "outputs": [
        {
          "output_type": "stream",
          "text": [
            "\"20\"\r\n"
          ],
          "name": "stdout"
        }
      ]
    },
    {
      "cell_type": "code",
      "metadata": {
        "colab": {
          "base_uri": "https://localhost:8080/"
        },
        "id": "hcOf0uFCWlfI",
        "outputId": "2a93f0fb-5e57-49ec-ef92-a42458692317"
      },
      "source": [
        "# 参考 erl --version では erl shell が立ち上がってしまう\n",
        "!erl -version"
      ],
      "execution_count": null,
      "outputs": [
        {
          "output_type": "stream",
          "text": [
            "Erlang (SMP,ASYNC_THREADS) (BEAM) emulator version 9.2\r\n"
          ],
          "name": "stdout"
        }
      ]
    },
    {
      "cell_type": "code",
      "metadata": {
        "id": "rCsFsdWcA7yA",
        "colab": {
          "base_uri": "https://localhost:8080/"
        },
        "outputId": "048eeb7a-f29a-41ee-e713-1b93e8a3d5c2"
      },
      "source": [
        "# 実験\n",
        "!erl -eval 'erlang:display(\"hello erlang\"),halt().' -noshell #=> \"hello erlang\"\n",
        "!erl -eval 'erlang:display(3+7),halt().' -noshell #=> 10"
      ],
      "execution_count": null,
      "outputs": [
        {
          "output_type": "stream",
          "text": [
            "\"hello erlang\"\n",
            "10\n"
          ],
          "name": "stdout"
        }
      ]
    },
    {
      "cell_type": "code",
      "metadata": {
        "colab": {
          "base_uri": "https://localhost:8080/"
        },
        "id": "-RYCjtmDVhTU",
        "outputId": "0dd27253-fa2c-452f-83da-470814d71879"
      },
      "source": [
        "# 次のようなのが Erlang実験室：コマンドラインから使うerl という記事にあった。 檜山正幸\n",
        "!erl -boot start_clean -noshell -eval 'io:fwrite(\"Hello, world.~n\")' -s init stop\n",
        "!erl -boot start_clean -noshell -eval 'io:fwrite(\"~p~n\",[12345*12345*12345])' -s init stop"
      ],
      "execution_count": null,
      "outputs": [
        {
          "output_type": "stream",
          "text": [
            "Hello, world.\n",
            "1881365963625\n"
          ],
          "name": "stdout"
        }
      ]
    },
    {
      "cell_type": "code",
      "metadata": {
        "id": "-upMYoyNrocE",
        "outputId": "579a6e62-528c-4a93-aefb-7eb63a11a537",
        "colab": {
          "base_uri": "https://localhost:8080/"
        }
      },
      "source": [
        "# 実験 できるだけ簡単に書きたい\n",
        "!erl -noshell -eval 'io:fwrite(\"Hello, world.~n\"),halt()'"
      ],
      "execution_count": 9,
      "outputs": [
        {
          "output_type": "stream",
          "text": [
            "Hello, world.\n"
          ],
          "name": "stdout"
        }
      ]
    },
    {
      "cell_type": "code",
      "metadata": {
        "id": "xpvt0S2ctDkS",
        "outputId": "546851e5-4113-43f0-feaa-586ed2ccfef4",
        "colab": {
          "base_uri": "https://localhost:8080/"
        }
      },
      "source": [
        "# 実験 文字列以外のことを考えるととりあえず、erlang:display の方が簡単かも\n",
        "!erl -noshell -eval 'erlang:display(\"hello display\"),halt()'\n",
        "!erl -noshell -eval 'erlang:display(3+15),halt()'"
      ],
      "execution_count": 21,
      "outputs": [
        {
          "output_type": "stream",
          "text": [
            "\"hello display\"\n",
            "18\n"
          ],
          "name": "stdout"
        }
      ]
    },
    {
      "cell_type": "code",
      "metadata": {
        "id": "TZHa1fEZwor2",
        "outputId": "c0199a35-161e-46e2-af94-1f744b712c4e",
        "colab": {
          "base_uri": "https://localhost:8080/"
        }
      },
      "source": [
        "!erl -noshell -eval 'erlang:display(3+15),halt()'\n",
        "!erl -noshell -eval 'erlang:display(49+100),halt()'\n",
        "!erl -noshell -eval 'erlang:display(1892 - 1472),halt()'\n",
        "!erl -noshell -eval 'erlang:display(5 / 2),halt()'\n",
        "!erl -noshell -eval 'erlang:display(5 div 2),halt()'\n",
        "!erl -noshell -eval 'erlang:display(5 rem 2),halt()'"
      ],
      "execution_count": 22,
      "outputs": [
        {
          "output_type": "stream",
          "text": [
            "18\n",
            "149\n",
            "420\n",
            "2.500000e+00\n",
            "2\n",
            "1\n"
          ],
          "name": "stdout"
        }
      ]
    },
    {
      "cell_type": "code",
      "metadata": {
        "id": "ca0WUrVsxIr-",
        "outputId": "65156904-4df3-43c9-a6b4-f449c3bea3a3",
        "colab": {
          "base_uri": "https://localhost:8080/"
        }
      },
      "source": [
        "# 1 行に複数のコマンドを実行するにはカンマ `,` で区切る\n",
        "!erl -noshell -eval 'erlang:display(3+15), erlang:display(49+100),halt()'\n",
        "!erl -noshell -eval 'erlang:display(49+100),halt()'"
      ],
      "execution_count": 23,
      "outputs": [
        {
          "output_type": "stream",
          "text": [
            "18\r\n",
            "149\n",
            "149\n"
          ],
          "name": "stdout"
        }
      ]
    },
    {
      "cell_type": "code",
      "metadata": {
        "id": "kwjGbDKjxddX"
      },
      "source": [
        "# 括弧が使える\n",
        "!erl -noshell -eval 'erlang:display((50 * 100) - 4999),halt()'\n",
        "!erl -noshell -eval 'erlang:display(-(50 * 100 - 4999)),halt()'\n",
        "!erl -noshell -eval 'erlang:display(-50 * (100 - 4999)),halt()'"
      ],
      "execution_count": 27,
      "outputs": []
    },
    {
      "cell_type": "code",
      "metadata": {
        "id": "_69eza-IyHH5",
        "outputId": "b1c06d3a-af55-4eb0-c485-1cce6ec3a738",
        "colab": {
          "base_uri": "https://localhost:8080/"
        }
      },
      "source": [
        "# 2 進法など\n",
        "!erl -noshell -eval 'erlang:display(2#101010),halt()'\n",
        "!erl -noshell -eval 'erlang:display(8#0677),halt()'\n",
        "!erl -noshell -eval 'erlang:display(16#AE),halt()'"
      ],
      "execution_count": 30,
      "outputs": [
        {
          "output_type": "stream",
          "text": [
            "42\n",
            "447\n",
            "174\n"
          ],
          "name": "stdout"
        }
      ]
    },
    {
      "cell_type": "code",
      "metadata": {
        "id": "bHaRxd-ByroA",
        "outputId": "b3c5731d-97b9-4b54-b3f0-fd14257e610e",
        "colab": {
          "base_uri": "https://localhost:8080/"
        }
      },
      "source": [
        "# erlang の変数は大文字で始まる\n",
        "!erl -noshell -eval 'One=1,erlang:display(One),halt()'\n",
        "!erl -noshell -eval 'Uno=1, One=Uno,erlang:display(One),halt()'\n",
        "!erl -noshell -eval 'One=1, Two=One+One, erlang:display(Two),halt()'\n",
        "# Two = Two+1 はエラー\n",
        "# two = 2 はエラー"
      ],
      "execution_count": 33,
      "outputs": [
        {
          "output_type": "stream",
          "text": [
            "1\n",
            "1\n",
            "2\n"
          ],
          "name": "stdout"
        }
      ]
    },
    {
      "cell_type": "code",
      "metadata": {
        "id": "MyMlp6GLzotA"
      },
      "source": [
        "# `=` は"
      ],
      "execution_count": null,
      "outputs": []
    }
  ]
}