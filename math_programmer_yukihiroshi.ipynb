{
  "nbformat": 4,
  "nbformat_minor": 0,
  "metadata": {
    "colab": {
      "name": "math_programmer_yukihiroshi.ipynb",
      "provenance": [],
      "authorship_tag": "ABX9TyN2CXuV+oihX/+7ZlsGaFVo",
      "include_colab_link": true
    },
    "kernelspec": {
      "name": "python3",
      "display_name": "Python 3"
    },
    "language_info": {
      "name": "python"
    }
  },
  "cells": [
    {
      "cell_type": "markdown",
      "metadata": {
        "id": "view-in-github",
        "colab_type": "text"
      },
      "source": [
        "<a href=\"https://colab.research.google.com/github/kalz2q/mycolabnotebooks/blob/master/math_programmer_yukihiroshi.ipynb\" target=\"_parent\"><img src=\"https://colab.research.google.com/assets/colab-badge.svg\" alt=\"Open In Colab\"/></a>"
      ]
    },
    {
      "cell_type": "code",
      "metadata": {
        "id": "pthBMew-rnot"
      },
      "source": [
        "メモ\n",
        "\n",
        "プログラマの数学\n",
        "\n",
        "結城浩\n",
        "\n",
        "を読む"
      ],
      "execution_count": null,
      "outputs": []
    },
    {
      "cell_type": "markdown",
      "metadata": {
        "id": "lwNOpnbxvO6K"
      },
      "source": [
        "目次から\n",
        "\n",
        "* ゼロ\n",
        "* 論理\n",
        "* 剰余\n",
        "* 帰納法\n",
        "* 順列組合せ\n",
        "* 再帰\n",
        "* 指数的な爆発\n",
        "* 計算不可能な問題\n",
        "* 機械学習\n",
        "  * 予測問題と分類問題\n",
        "  * パーセプトロン\n",
        "  * ニューラルネットワーク\n",
        "\n",
        "メモ $\\quad$ 結城浩は、なるべく数式を使わないで書く、と言っているが、わたしの興味の対称はむしろ数式で、数式を読んでわかって進みたい。 数式は多くの場合、わかる、わからない、ではないことはわかっているが、言葉を饒舌に費やしたからわかるものではないものが数式からはわかってくる、と思っている。\n",
        "\n"
      ]
    }
  ]
}