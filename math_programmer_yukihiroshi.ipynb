{
  "nbformat": 4,
  "nbformat_minor": 0,
  "metadata": {
    "colab": {
      "name": "math_programmer_yukihiroshi.ipynb",
      "provenance": [],
      "authorship_tag": "ABX9TyO5H1i9Qh61iaionambcpvM",
      "include_colab_link": true
    },
    "kernelspec": {
      "name": "python3",
      "display_name": "Python 3"
    },
    "language_info": {
      "name": "python"
    }
  },
  "cells": [
    {
      "cell_type": "markdown",
      "metadata": {
        "id": "view-in-github",
        "colab_type": "text"
      },
      "source": [
        "<a href=\"https://colab.research.google.com/github/kalz2q/mycolabnotebooks/blob/master/math_programmer_yukihiroshi.ipynb\" target=\"_parent\"><img src=\"https://colab.research.google.com/assets/colab-badge.svg\" alt=\"Open In Colab\"/></a>"
      ]
    },
    {
      "cell_type": "markdown",
      "metadata": {
        "id": "pthBMew-rnot"
      },
      "source": [
        "# メモ\n",
        "\n",
        "プログラマの数学\n",
        "\n",
        "結城浩\n",
        "\n",
        "を読む"
      ]
    },
    {
      "cell_type": "markdown",
      "metadata": {
        "id": "lwNOpnbxvO6K"
      },
      "source": [
        "目次から\n",
        "\n",
        "* ゼロ\n",
        "* 論理\n",
        "* 剰余\n",
        "* 帰納法\n",
        "* 順列組合せ\n",
        "* 再帰\n",
        "* 指数的な爆発\n",
        "* 計算不可能な問題\n",
        "* 機械学習\n",
        "  * 予測問題と分類問題\n",
        "  * パーセプトロン\n",
        "  * ニューラルネットワーク\n",
        "\n",
        "メモ $\\quad$ 結城浩は、なるべく数式を使わないで書く、と言っているが、わたしの興味の対称はむしろ数式で、数式を読んでわかって進みたい。 数式は多くの場合、わかる、わからない、ではないことはわかっているが、言葉を饒舌に費やしたからわかるものではないものが数式からはわかってくる、と思っている。\n",
        "\n"
      ]
    },
    {
      "cell_type": "markdown",
      "metadata": {
        "id": "hS6mgNDvRyAf"
      },
      "source": [
        "ゼロ の章からは 基数変換の課題を考えた。\n",
        "\n",
        "python ではいろいろツール int(), bin() など、があるが、ツールなしで作ってみるとか、いろんな言語で書いてみるとか、random と組合せてパスワード自動作成とか。\n"
      ]
    },
    {
      "cell_type": "markdown",
      "metadata": {
        "id": "lEXsRnEvrD1x"
      },
      "source": [
        "剰余、のところを読んでみよう。\n",
        "\n",
        "p.66\n",
        "\n",
        "* 剰余 remainder\n",
        "* パリティ 偶奇性\n"
      ]
    },
    {
      "cell_type": "markdown",
      "metadata": {
        "id": "shz_0rNVrrNu"
      },
      "source": [
        "---\n",
        "問題 $\\quad$ 100日後は何曜日か。\n",
        "\n",
        "7 で割ったあまりを今日に足す。 今日を日曜日とすると\n",
        "\n",
        "100 % 7 => 2\n",
        "\n",
        "なので答えは火曜日。\n"
      ]
    },
    {
      "cell_type": "code",
      "metadata": {
        "id": "b5GGDcULsBUt",
        "outputId": "0b1b0b05-7f84-4e72-a2fe-65cb84451c2f",
        "colab": {
          "base_uri": "https://localhost:8080/"
        }
      },
      "source": [
        "100 % 7"
      ],
      "execution_count": 1,
      "outputs": [
        {
          "output_type": "execute_result",
          "data": {
            "text/plain": [
              "2"
            ]
          },
          "metadata": {
            "tags": []
          },
          "execution_count": 1
        }
      ]
    },
    {
      "cell_type": "markdown",
      "metadata": {
        "id": "2roZC1GqsSER"
      },
      "source": [
        "ちなみに割り算の floor と剰余をタプルで欲しいときはどうするか。\n",
        "\n",
        "あ、できた。"
      ]
    },
    {
      "cell_type": "code",
      "metadata": {
        "id": "qCN8NCcCsaFJ",
        "outputId": "bd828d6a-7e14-4b9e-e6ff-8cada782dc06",
        "colab": {
          "base_uri": "https://localhost:8080/"
        }
      },
      "source": [
        "n = 100\n",
        "m = 7\n",
        "n // m , n % m"
      ],
      "execution_count": 3,
      "outputs": [
        {
          "output_type": "execute_result",
          "data": {
            "text/plain": [
              "(14, 2)"
            ]
          },
          "metadata": {
            "tags": []
          },
          "execution_count": 3
        }
      ]
    },
    {
      "cell_type": "markdown",
      "metadata": {
        "id": "h2r-m46GtDLG"
      },
      "source": [
        "---\n",
        "問題 $\\quad$ $10^{100}$ 日後は何曜日か。\n",
        "\n",
        "テキストはこれは 100 を 6 で割って解いている。\n",
        "あまりに、月水火土木金を対応させている。 日曜日はない。 並びも順当ではない。\n",
        "\n",
        "プログラム的にはこれはどういうことなのだろうか。\n",
        "\n",
        "0 乗 から 12 乗までをやってみる。\n",
        "\n",
        "ベースを 10 ではなく 9 とか 11 にしてやってみる。\n",
        "\n",
        "パターンがあるがパターンのパターンがわからない。 まあいいか。"
      ]
    },
    {
      "cell_type": "code",
      "metadata": {
        "id": "LvWiXkU-9S-T",
        "outputId": "01ad45a5-401b-48cb-f3c8-9753c948f615",
        "colab": {
          "base_uri": "https://localhost:8080/"
        }
      },
      "source": [
        "n = 10\n",
        "l = 7\n",
        "print([n**m%l for m in range (12)])\n",
        "n = 9\n",
        "print([n**m%l for m in range (12)])\n",
        "n = 11\n",
        "print([n**m%l for m in range (12)])\n",
        "n = 12\n",
        "print([n**m%l for m in range (12)])\n",
        "n = 13\n",
        "print([n**m%l for m in range (12)])\n",
        "print()\n",
        "n = 10\n",
        "l = 9\n",
        "print([n**m%l for m in range (12)])\n",
        "n = 9\n",
        "print([n**m%l for m in range (12)])\n",
        "n = 11\n",
        "print([n**m%l for m in range (12)])\n",
        "n = 12\n",
        "print([n**m%l for m in range (12)])\n",
        "n = 13\n",
        "print([n**m%l for m in range (12)])"
      ],
      "execution_count": 15,
      "outputs": [
        {
          "output_type": "stream",
          "text": [
            "[1, 3, 2, 6, 4, 5, 1, 3, 2, 6, 4, 5]\n",
            "[1, 2, 4, 1, 2, 4, 1, 2, 4, 1, 2, 4]\n",
            "[1, 4, 2, 1, 4, 2, 1, 4, 2, 1, 4, 2]\n",
            "[1, 5, 4, 6, 2, 3, 1, 5, 4, 6, 2, 3]\n",
            "[1, 6, 1, 6, 1, 6, 1, 6, 1, 6, 1, 6]\n",
            "\n",
            "[1, 1, 1, 1, 1, 1, 1, 1, 1, 1, 1, 1]\n",
            "[1, 0, 0, 0, 0, 0, 0, 0, 0, 0, 0, 0]\n",
            "[1, 2, 4, 8, 7, 5, 1, 2, 4, 8, 7, 5]\n",
            "[1, 3, 0, 0, 0, 0, 0, 0, 0, 0, 0, 0]\n",
            "[1, 4, 7, 1, 4, 7, 1, 4, 7, 1, 4, 7]\n",
            "\n"
          ],
          "name": "stdout"
        }
      ]
    }
  ]
}