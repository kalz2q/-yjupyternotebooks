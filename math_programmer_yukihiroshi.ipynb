{
  "nbformat": 4,
  "nbformat_minor": 0,
  "metadata": {
    "colab": {
      "name": "math_programmer_yukihiroshi.ipynb",
      "provenance": [],
      "authorship_tag": "ABX9TyPsudOlnHmCMb4al9ZLvJ/6",
      "include_colab_link": true
    },
    "kernelspec": {
      "name": "python3",
      "display_name": "Python 3"
    },
    "language_info": {
      "name": "python"
    }
  },
  "cells": [
    {
      "cell_type": "markdown",
      "metadata": {
        "id": "view-in-github",
        "colab_type": "text"
      },
      "source": [
        "<a href=\"https://colab.research.google.com/github/kalz2q/mycolabnotebooks/blob/master/math_programmer_yukihiroshi.ipynb\" target=\"_parent\"><img src=\"https://colab.research.google.com/assets/colab-badge.svg\" alt=\"Open In Colab\"/></a>"
      ]
    },
    {
      "cell_type": "code",
      "metadata": {
        "id": "pthBMew-rnot"
      },
      "source": [
        "メモ\n",
        "\n",
        "プログラマの数学\n",
        "\n",
        "結城浩\n",
        "\n",
        "を読む"
      ],
      "execution_count": null,
      "outputs": []
    }
  ]
}