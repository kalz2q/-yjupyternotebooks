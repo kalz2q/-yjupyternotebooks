{
  "nbformat": 4,
  "nbformat_minor": 0,
  "metadata": {
    "anaconda-cloud": {},
    "celltoolbar": "Tags",
    "kernelspec": {
      "display_name": "Python [conda env:mwp]",
      "language": "python",
      "name": "conda-env-mwp-py"
    },
    "language_info": {
      "codemirror_mode": {
        "name": "ipython",
        "version": 3
      },
      "file_extension": ".py",
      "mimetype": "text/x-python",
      "name": "python",
      "nbconvert_exporter": "python",
      "pygments_lexer": "ipython3",
      "version": "3.7.0"
    },
    "colab": {
      "name": "math_sympy.ipynb",
      "provenance": [],
      "toc_visible": true,
      "include_colab_link": true
    }
  },
  "cells": [
    {
      "cell_type": "markdown",
      "metadata": {
        "id": "view-in-github",
        "colab_type": "text"
      },
      "source": [
        "<a href=\"https://colab.research.google.com/github/kalz2q/mycolabnotebooks/blob/master/math_sympy.ipynb\" target=\"_parent\"><img src=\"https://colab.research.google.com/assets/colab-badge.svg\" alt=\"Open In Colab\"/></a>"
      ]
    },
    {
      "cell_type": "markdown",
      "metadata": {
        "id": "pLsN9zM3uNQQ"
      },
      "source": [
        "# メモ\n",
        "\n",
        "https://github.com/drvinceknight/Python-Mathematics-Handbook\n",
        "\n",
        "という github 上の jupyter で 3 年前に書かれている本の第2章が\n",
        "\n",
        "Symbolic mathematics with Sympy (Sympy による数式処理)\n",
        "\n",
        "と言う章になっている。\n",
        "\n",
        "これを読む。\n"
      ]
    },
    {
      "cell_type": "markdown",
      "metadata": {
        "id": "1E47ZoekoWJ8"
      },
      "source": [
        "# Sympy による数式処理 Symbolic Mathematics with Sympy\n"
      ]
    },
    {
      "cell_type": "markdown",
      "metadata": {
        "id": "0x_4wUFwuIy9"
      },
      "source": [
        "Sympy による数式処理でできること\n",
        "\n",
        "* 数式を扱う\n",
        "* 数式を解く\n",
        "* 数式を微積分する\n",
        "* 数式をグラフにする\n",
        "\n",
        "ほかにもいろいろできることがある。 sympy のホームページを参照。\n",
        "\n",
        "&nbsp;\n",
        "\n"
      ]
    },
    {
      "cell_type": "code",
      "metadata": {
        "id": "HfEx6vxKSGpP",
        "colab": {
          "base_uri": "https://localhost:8080/",
          "height": 76
        },
        "outputId": "767ee4f7-4ccf-48c8-bc78-b42338845b5d"
      },
      "source": [
        "# sympy を使うための準備\n",
        "from sympy import *\n",
        "x = symbols ('x')\n",
        "display(x)\n",
        "display(x - x == 0)\n",
        "display(x - x)"
      ],
      "execution_count": null,
      "outputs": [
        {
          "output_type": "display_data",
          "data": {
            "text/latex": "$\\displaystyle x$",
            "text/plain": [
              "x"
            ]
          },
          "metadata": {
            "tags": []
          }
        },
        {
          "output_type": "display_data",
          "data": {
            "text/plain": [
              "True"
            ]
          },
          "metadata": {
            "tags": []
          }
        },
        {
          "output_type": "display_data",
          "data": {
            "text/latex": "$\\displaystyle 0$",
            "text/plain": [
              "0"
            ]
          },
          "metadata": {
            "tags": []
          }
        }
      ]
    },
    {
      "cell_type": "markdown",
      "metadata": {
        "id": "5ANn8bEQS3Ey"
      },
      "source": [
        "# sympy を使うための準備\n",
        "\n",
        "sympy は import が必要。\n",
        "\n",
        "変数も宣言が必要。 from sympy.abc import * という手もある。\n",
        "\n",
        "print の代わりに display を使うと latex で表示してくれる。 数学においてシンボルは大切。\n",
        "\n",
        "x に値を入れなくても x - x == 0 という演算が可能。\n",
        "\n",
        "&nbsp;\n"
      ]
    },
    {
      "cell_type": "markdown",
      "metadata": {
        "id": "qAs1JLyWoWKE"
      },
      "source": [
        "次の式を確かめてみよう。\n",
        "\n",
        "$$(a + b) ^ 2 = a ^ 2 + 2ab + b ^2$$\n",
        "\n",
        "\n",
        "&nbsp;\n"
      ]
    },
    {
      "cell_type": "code",
      "metadata": {
        "id": "MX67Kzy-oWKF",
        "colab": {
          "base_uri": "https://localhost:8080/",
          "height": 39
        },
        "outputId": "af400d5a-dea0-4a13-a3c2-9045e42718a9"
      },
      "source": [
        "from sympy.abc import *\n",
        "from sympy import *\n",
        "expr = (a + b) ** 2 \n",
        "display(expr)"
      ],
      "execution_count": null,
      "outputs": [
        {
          "output_type": "display_data",
          "data": {
            "text/latex": "$\\displaystyle \\left(a + b\\right)^{2}$",
            "text/plain": [
              "(a + b)**2"
            ]
          },
          "metadata": {
            "tags": []
          }
        }
      ]
    },
    {
      "cell_type": "markdown",
      "metadata": {
        "id": "NDlsnyXrhdB4"
      },
      "source": [
        "右辺のような入れ方をするとどうなるか。"
      ]
    },
    {
      "cell_type": "code",
      "metadata": {
        "id": "WNrzt62boWKF",
        "colab": {
          "base_uri": "https://localhost:8080/",
          "height": 38
        },
        "outputId": "372d41a8-9913-4bf8-e422-c08445688827"
      },
      "source": [
        "expr2 = a**2+2*a*b+b**2\n",
        "display(expr2)"
      ],
      "execution_count": null,
      "outputs": [
        {
          "output_type": "display_data",
          "data": {
            "text/latex": "$\\displaystyle a^{2} + 2 a b + b^{2}$",
            "text/plain": [
              "a**2 + 2*a*b + b**2"
            ]
          },
          "metadata": {
            "tags": []
          }
        }
      ]
    },
    {
      "cell_type": "markdown",
      "metadata": {
        "id": "vQM1rx2khxgl"
      },
      "source": [
        "展開 expand したり、因数分解 factor したりできる。"
      ]
    },
    {
      "cell_type": "code",
      "metadata": {
        "id": "Xo_jccQgoWKG",
        "colab": {
          "base_uri": "https://localhost:8080/",
          "height": 38
        },
        "outputId": "fad9fda2-67e0-4d3c-be1d-2c3339c4c5a5"
      },
      "source": [
        "display(expand(expr))"
      ],
      "execution_count": null,
      "outputs": [
        {
          "output_type": "display_data",
          "data": {
            "text/latex": "$\\displaystyle a^{2} + 2 a b + b^{2}$",
            "text/plain": [
              "a**2 + 2*a*b + b**2"
            ]
          },
          "metadata": {
            "tags": []
          }
        }
      ]
    },
    {
      "cell_type": "code",
      "metadata": {
        "id": "l61YLF2aoWKG",
        "colab": {
          "base_uri": "https://localhost:8080/",
          "height": 39
        },
        "outputId": "e788a494-a1c3-42e1-c730-793ccb26f142"
      },
      "source": [
        "display(factor(expr2))"
      ],
      "execution_count": null,
      "outputs": [
        {
          "output_type": "display_data",
          "data": {
            "text/latex": "$\\displaystyle \\left(a + b\\right)^{2}$",
            "text/plain": [
              "(a + b)**2"
            ]
          },
          "metadata": {
            "tags": []
          }
        }
      ]
    },
    {
      "cell_type": "markdown",
      "metadata": {
        "id": "YzwQuN26iLrQ"
      },
      "source": [
        "同等性を確かめる。"
      ]
    },
    {
      "cell_type": "code",
      "metadata": {
        "id": "zDmDha9CiQwP",
        "colab": {
          "base_uri": "https://localhost:8080/",
          "height": 149
        },
        "outputId": "f404bf26-92e9-405e-8b80-a4b01d2229a5"
      },
      "source": [
        "from sympy.abc import *\n",
        "from sympy import *\n",
        "expr = (a + b) ** 2 \n",
        "expr2 = a**2+2*a*b+b**2\n",
        "display(expr)\n",
        "display(expr2)\n",
        "display(expr == expr)\n",
        "display(expr == expr2)\n",
        "display(expr == expand(expr))\n",
        "a=2;b=3\n",
        "expr = (a + b) ** 2 \n",
        "expr2 = a**2+2*a*b+b**2\n",
        "display(expr == expr2)\n",
        "display(expr == expand(expr))"
      ],
      "execution_count": null,
      "outputs": [
        {
          "output_type": "display_data",
          "data": {
            "text/latex": "$\\displaystyle \\left(a + b\\right)^{2}$",
            "text/plain": [
              "(a + b)**2"
            ]
          },
          "metadata": {
            "tags": []
          }
        },
        {
          "output_type": "display_data",
          "data": {
            "text/latex": "$\\displaystyle a^{2} + 2 a b + b^{2}$",
            "text/plain": [
              "a**2 + 2*a*b + b**2"
            ]
          },
          "metadata": {
            "tags": []
          }
        },
        {
          "output_type": "display_data",
          "data": {
            "text/plain": [
              "True"
            ]
          },
          "metadata": {
            "tags": []
          }
        },
        {
          "output_type": "display_data",
          "data": {
            "text/plain": [
              "False"
            ]
          },
          "metadata": {
            "tags": []
          }
        },
        {
          "output_type": "display_data",
          "data": {
            "text/plain": [
              "False"
            ]
          },
          "metadata": {
            "tags": []
          }
        },
        {
          "output_type": "display_data",
          "data": {
            "text/plain": [
              "True"
            ]
          },
          "metadata": {
            "tags": []
          }
        },
        {
          "output_type": "display_data",
          "data": {
            "text/plain": [
              "True"
            ]
          },
          "metadata": {
            "tags": []
          }
        }
      ]
    },
    {
      "cell_type": "markdown",
      "metadata": {
        "id": "iB0Y-I_I9BxM"
      },
      "source": [
        "上の実験からわかることは数式の形が違うと `==` は真にはならない。\n",
        "\n",
        "値が入れば、当然 `==` が真になる。"
      ]
    },
    {
      "cell_type": "markdown",
      "metadata": {
        "id": "o8fld_gAoWKH"
      },
      "source": [
        "latex という関数で latex 表現を得ることができる。"
      ]
    },
    {
      "cell_type": "code",
      "metadata": {
        "id": "e8yRwMyroWKH",
        "colab": {
          "base_uri": "https://localhost:8080/",
          "height": 35
        },
        "outputId": "0fc27526-6914-4435-9f13-fee13f26e672"
      },
      "source": [
        "from sympy.abc import *\n",
        "from sympy import *\n",
        "expr = (a + b) ** 2 \n",
        "latex(expand(expr))"
      ],
      "execution_count": null,
      "outputs": [
        {
          "output_type": "execute_result",
          "data": {
            "application/vnd.google.colaboratory.intrinsic+json": {
              "type": "string"
            },
            "text/plain": [
              "'a^{2} + 2 a b + b^{2}'"
            ]
          },
          "metadata": {
            "tags": []
          },
          "execution_count": 9
        }
      ]
    },
    {
      "cell_type": "markdown",
      "metadata": {
        "id": "emknTPTo9wK4"
      },
      "source": [
        "`a^{2} + 2 a b + b^{2}`\n",
        "$$a^{2} + 2 a b + b^{2}$$\n",
        "\n",
        "&nbsp;\n",
        "\n"
      ]
    },
    {
      "cell_type": "markdown",
      "metadata": {
        "id": "EWoNlNNpoWKH"
      },
      "source": [
        "---\n",
        "**練習問題** $\\quad$ sympy を使って下記の等式を確認する。\n",
        "\n",
        "* $(a - b) ^ 2 = a ^ 2 - 2 a b + b^2$\n",
        "* $a ^ 2 - b ^ 2 = (a - b) (a + b)\\quad$ (`expand` ではなく `factor` を使ってみる)"
      ]
    },
    {
      "cell_type": "code",
      "metadata": {
        "colab": {
          "base_uri": "https://localhost:8080/",
          "height": 61
        },
        "id": "znruhx51DngS",
        "outputId": "f0f568c9-30e0-4704-ddb1-4bf7765eef17"
      },
      "source": [
        "from sympy.abc import *\n",
        "from sympy import *\n",
        "expr = (a-b)**2\n",
        "display(expr)\n",
        "display(expand(expr))"
      ],
      "execution_count": null,
      "outputs": [
        {
          "output_type": "display_data",
          "data": {
            "text/latex": "$\\displaystyle \\left(a - b\\right)^{2}$",
            "text/plain": [
              "(a - b)**2"
            ]
          },
          "metadata": {
            "tags": []
          }
        },
        {
          "output_type": "display_data",
          "data": {
            "text/latex": "$\\displaystyle a^{2} - 2 a b + b^{2}$",
            "text/plain": [
              "a**2 - 2*a*b + b**2"
            ]
          },
          "metadata": {
            "tags": []
          }
        }
      ]
    },
    {
      "cell_type": "code",
      "metadata": {
        "id": "EDs99u1uHTOA",
        "colab": {
          "base_uri": "https://localhost:8080/",
          "height": 60
        },
        "outputId": "f20c8e13-0d66-4507-8531-1a10c197c2d4"
      },
      "source": [
        "from sympy.abc import *\n",
        "from sympy import *\n",
        "expr = a**2-b**2\n",
        "display(expr)\n",
        "display(factor(expr))"
      ],
      "execution_count": null,
      "outputs": [
        {
          "output_type": "display_data",
          "data": {
            "text/latex": "$\\displaystyle a^{2} - b^{2}$",
            "text/plain": [
              "a**2 - b**2"
            ]
          },
          "metadata": {
            "tags": []
          }
        },
        {
          "output_type": "display_data",
          "data": {
            "text/latex": "$\\displaystyle \\left(a - b\\right) \\left(a + b\\right)$",
            "text/plain": [
              "(a - b)*(a + b)"
            ]
          },
          "metadata": {
            "tags": []
          }
        }
      ]
    },
    {
      "cell_type": "markdown",
      "metadata": {
        "id": "D0bOLylToWKH"
      },
      "source": [
        "# 数式を解く"
      ]
    },
    {
      "cell_type": "markdown",
      "metadata": {
        "id": "mEM5-KgNoWKH"
      },
      "source": [
        "sympy を使って $x$ について、次の 2次方程式 (quadratic equasion) を解く。\n",
        "\n",
        "$$a x ^ 2 + b x + c = 0$$\n",
        "\n",
        "&nbsp;"
      ]
    },
    {
      "cell_type": "code",
      "metadata": {
        "id": "0XtZaMOKoWKI",
        "colab": {
          "base_uri": "https://localhost:8080/",
          "height": 68
        },
        "outputId": "26b0b514-e886-4e48-e2a7-fedbe80c70b4"
      },
      "source": [
        "from sympy.abc import *\n",
        "from sympy import *\n",
        "expr = a * x ** 2 + b * x + c\n",
        "display(solveset(expr,x))"
      ],
      "execution_count": null,
      "outputs": [
        {
          "output_type": "display_data",
          "data": {
            "image/png": "[encoded data removed]",
            "text/latex": "$\\displaystyle \\left\\{- \\frac{b}{2 a} - \\frac{\\sqrt{- 4 a c + b^{2}}}{2 a}, - \\frac{b}{2 a} + \\frac{\\sqrt{- 4 a c + b^{2}}}{2 a}\\right\\}$",
            "text/plain": [
              "⎧           _____________             _____________⎫\n",
              "⎪          ╱           2             ╱           2 ⎪\n",
              "⎨   b    ╲╱  -4⋅a⋅c + b       b    ╲╱  -4⋅a⋅c + b  ⎬\n",
              "⎪- ─── - ────────────────, - ─── + ────────────────⎪\n",
              "⎩  2⋅a         2⋅a           2⋅a         2⋅a       ⎭"
            ]
          },
          "metadata": {
            "tags": []
          }
        }
      ]
    },
    {
      "cell_type": "markdown",
      "metadata": {
        "id": "Y40rWElwoWKI"
      },
      "source": [
        "sympy の `solveset` は引数を 2 つ取り、第 1 引数は数式で、第 2 引数は解く対象となる変数である。\n",
        "\n",
        "&nbsp;\n"
      ]
    },
    {
      "cell_type": "markdown",
      "metadata": {
        "id": "lDM_kKTPoWKI"
      },
      "source": [
        "---\n",
        "**練習問題** $\\quad$ sympy を使って 3 次方程式の一般解を求める。\n",
        "\n",
        "$$a x ^ 3 + b x ^ 2 + c  x + d = 0$$\n",
        "\n",
        "&nbsp;\n"
      ]
    },
    {
      "cell_type": "code",
      "metadata": {
        "colab": {
          "base_uri": "https://localhost:8080/",
          "height": 170
        },
        "id": "09znrt6DxoM0",
        "outputId": "622692dc-9a8e-49cc-d63a-7aff6bba75a1"
      },
      "source": [
        "from sympy.abc import *\n",
        "from sympy import *\n",
        "expr = a * x ** 3 + b * x**2 + c*x + d\n",
        "display (expr)\n",
        "display(solveset(expr,x))"
      ],
      "execution_count": null,
      "outputs": [
        {
          "output_type": "display_data",
          "data": {
            "text/latex": "$\\displaystyle a x^{3} + b x^{2} + c x + d$",
            "text/plain": [
              "a*x**3 + b*x**2 + c*x + d"
            ]
          },
          "metadata": {
            "tags": []
          }
        },
        {
          "output_type": "display_data",
          "data": {
            "text/latex": "$\\displaystyle \\left\\{- \\frac{- \\frac{3 c}{a} + \\frac{b^{2}}{a^{2}}}{3 \\sqrt[3]{\\frac{\\sqrt{- 4 \\left(- \\frac{3 c}{a} + \\frac{b^{2}}{a^{2}}\\right)^{3} + \\left(\\frac{27 d}{a} - \\frac{9 b c}{a^{2}} + \\frac{2 b^{3}}{a^{3}}\\right)^{2}}}{2} + \\frac{27 d}{2 a} - \\frac{9 b c}{2 a^{2}} + \\frac{b^{3}}{a^{3}}}} - \\frac{\\sqrt[3]{\\frac{\\sqrt{- 4 \\left(- \\frac{3 c}{a} + \\frac{b^{2}}{a^{2}}\\right)^{3} + \\left(\\frac{27 d}{a} - \\frac{9 b c}{a^{2}} + \\frac{2 b^{3}}{a^{3}}\\right)^{2}}}{2} + \\frac{27 d}{2 a} - \\frac{9 b c}{2 a^{2}} + \\frac{b^{3}}{a^{3}}}}{3} - \\frac{b}{3 a}, - \\frac{- \\frac{3 c}{a} + \\frac{b^{2}}{a^{2}}}{3 \\left(- \\frac{1}{2} - \\frac{\\sqrt{3} i}{2}\\right) \\sqrt[3]{\\frac{\\sqrt{- 4 \\left(- \\frac{3 c}{a} + \\frac{b^{2}}{a^{2}}\\right)^{3} + \\left(\\frac{27 d}{a} - \\frac{9 b c}{a^{2}} + \\frac{2 b^{3}}{a^{3}}\\right)^{2}}}{2} + \\frac{27 d}{2 a} - \\frac{9 b c}{2 a^{2}} + \\frac{b^{3}}{a^{3}}}} - \\frac{\\left(- \\frac{1}{2} - \\frac{\\sqrt{3} i}{2}\\right) \\sqrt[3]{\\frac{\\sqrt{- 4 \\left(- \\frac{3 c}{a} + \\frac{b^{2}}{a^{2}}\\right)^{3} + \\left(\\frac{27 d}{a} - \\frac{9 b c}{a^{2}} + \\frac{2 b^{3}}{a^{3}}\\right)^{2}}}{2} + \\frac{27 d}{2 a} - \\frac{9 b c}{2 a^{2}} + \\frac{b^{3}}{a^{3}}}}{3} - \\frac{b}{3 a}, - \\frac{- \\frac{3 c}{a} + \\frac{b^{2}}{a^{2}}}{3 \\left(- \\frac{1}{2} + \\frac{\\sqrt{3} i}{2}\\right) \\sqrt[3]{\\frac{\\sqrt{- 4 \\left(- \\frac{3 c}{a} + \\frac{b^{2}}{a^{2}}\\right)^{3} + \\left(\\frac{27 d}{a} - \\frac{9 b c}{a^{2}} + \\frac{2 b^{3}}{a^{3}}\\right)^{2}}}{2} + \\frac{27 d}{2 a} - \\frac{9 b c}{2 a^{2}} + \\frac{b^{3}}{a^{3}}}} - \\frac{\\left(- \\frac{1}{2} + \\frac{\\sqrt{3} i}{2}\\right) \\sqrt[3]{\\frac{\\sqrt{- 4 \\left(- \\frac{3 c}{a} + \\frac{b^{2}}{a^{2}}\\right)^{3} + \\left(\\frac{27 d}{a} - \\frac{9 b c}{a^{2}} + \\frac{2 b^{3}}{a^{3}}\\right)^{2}}}{2} + \\frac{27 d}{2 a} - \\frac{9 b c}{2 a^{2}} + \\frac{b^{3}}{a^{3}}}}{3} - \\frac{b}{3 a}\\right\\}$",
            "text/plain": [
              "FiniteSet(-(-3*c/a + b**2/a**2)/(3*(sqrt(-4*(-3*c/a + b**2/a**2)**3 + (27*d/a - 9*b*c/a**2 + 2*b**3/a**3)**2)/2 + 27*d/(2*a) - 9*b*c/(2*a**2) + b**3/a**3)**(1/3)) - (sqrt(-4*(-3*c/a + b**2/a**2)**3 + (27*d/a - 9*b*c/a**2 + 2*b**3/a**3)**2)/2 + 27*d/(2*a) - 9*b*c/(2*a**2) + b**3/a**3)**(1/3)/3 - b/(3*a), -(-3*c/a + b**2/a**2)/(3*(-1/2 - sqrt(3)*I/2)*(sqrt(-4*(-3*c/a + b**2/a**2)**3 + (27*d/a - 9*b*c/a**2 + 2*b**3/a**3)**2)/2 + 27*d/(2*a) - 9*b*c/(2*a**2) + b**3/a**3)**(1/3)) - (-1/2 - sqrt(3)*I/2)*(sqrt(-4*(-3*c/a + b**2/a**2)**3 + (27*d/a - 9*b*c/a**2 + 2*b**3/a**3)**2)/2 + 27*d/(2*a) - 9*b*c/(2*a**2) + b**3/a**3)**(1/3)/3 - b/(3*a), -(-3*c/a + b**2/a**2)/(3*(-1/2 + sqrt(3)*I/2)*(sqrt(-4*(-3*c/a + b**2/a**2)**3 + (27*d/a - 9*b*c/a**2 + 2*b**3/a**3)**2)/2 + 27*d/(2*a) - 9*b*c/(2*a**2) + b**3/a**3)**(1/3)) - (-1/2 + sqrt(3)*I/2)*(sqrt(-4*(-3*c/a + b**2/a**2)**3 + (27*d/a - 9*b*c/a**2 + 2*b**3/a**3)**2)/2 + 27*d/(2*a) - 9*b*c/(2*a**2) + b**3/a**3)**(1/3)/3 - b/(3*a))"
            ]
          },
          "metadata": {
            "tags": []
          }
        }
      ]
    },
    {
      "cell_type": "markdown",
      "metadata": {
        "id": "r_fxigjVoWKJ"
      },
      "source": [
        " `solveset` に引数を足して、解の範囲 domain を指定することが可能である。\n",
        "\n",
        " 次の式の domain を $\\mathbb{R}$ として解いてみる。\n",
        "\n",
        "$$x^2=-1$$\n",
        "\n",
        "メモ $\\quad$ domain は S.Reals とかで指定する。 S の書式は dir(S) で調べられる。黒板ボールドは `\\mathbb` で表記できる。"
      ]
    },
    {
      "cell_type": "code",
      "metadata": {
        "id": "DerbvXwSoWKJ",
        "colab": {
          "base_uri": "https://localhost:8080/",
          "height": 37
        },
        "outputId": "ce90f3d2-a27e-4f5d-9479-d9da49fe284b"
      },
      "source": [
        "solveset(x ** 2 + 1, x, domain=S.Reals)"
      ],
      "execution_count": null,
      "outputs": [
        {
          "output_type": "execute_result",
          "data": {
            "text/latex": "$\\displaystyle \\emptyset$",
            "text/plain": [
              "EmptySet"
            ]
          },
          "metadata": {
            "tags": []
          },
          "execution_count": 2
        }
      ]
    },
    {
      "cell_type": "markdown",
      "metadata": {
        "id": "hHR4h7okyp0j"
      },
      "source": [
        "$\\emptyset$ は空集合の意味である。\n",
        "\n",
        "空集合は `\\emptyset` `\\varnothing` `\\phi` で表される。$\\emptyset, \\varnothing, \\phi$\n",
        "\n",
        "&nbsp;\n"
      ]
    },
    {
      "cell_type": "markdown",
      "metadata": {
        "id": "Opn_LhkdoWKJ"
      },
      "source": [
        "---\n",
        "**練習問題** $\\quad$ sympy を使って次の方程式を解く\n",
        "\n",
        "* $x ^ 2 = 2$ $\\quad (x \\in \\mathbb{N})$\n",
        "* $x ^ 3 + 2 x = 0$ $\\quad (x \\in \\mathbb{R})$\n",
        "\n",
        "&nbsp;\n"
      ]
    },
    {
      "cell_type": "code",
      "metadata": {
        "colab": {
          "base_uri": "https://localhost:8080/",
          "height": 58
        },
        "id": "QqKNz4MXxXeS",
        "outputId": "20e20810-a96b-4b47-8c79-d0f5a052fbe0"
      },
      "source": [
        "from sympy.abc import *\n",
        "from sympy import *\n",
        "expr = x**2 - 2\n",
        "display (expr)\n",
        "display(solveset(expr,x,domain=S.Naturals))"
      ],
      "execution_count": 15,
      "outputs": [
        {
          "output_type": "display_data",
          "data": {
            "text/latex": "$\\displaystyle x^{2} - 2$",
            "text/plain": [
              "x**2 - 2"
            ]
          },
          "metadata": {
            "tags": []
          }
        },
        {
          "output_type": "display_data",
          "data": {
            "text/latex": "$\\displaystyle \\emptyset$",
            "text/plain": [
              "EmptySet"
            ]
          },
          "metadata": {
            "tags": []
          }
        }
      ]
    },
    {
      "cell_type": "code",
      "metadata": {
        "colab": {
          "base_uri": "https://localhost:8080/",
          "height": 58
        },
        "id": "NV2RP1Ts0PFy",
        "outputId": "23ad339a-f279-41b5-f9c5-70c0b8421d0c"
      },
      "source": [
        "from sympy.abc import *\n",
        "from sympy import *\n",
        "expr = x**3 + 2*x\n",
        "display (expr)\n",
        "display(solveset(expr,x,domain=S.Reals))"
      ],
      "execution_count": 16,
      "outputs": [
        {
          "output_type": "display_data",
          "data": {
            "text/latex": "$\\displaystyle x^{3} + 2 x$",
            "text/plain": [
              "x**3 + 2*x"
            ]
          },
          "metadata": {
            "tags": []
          }
        },
        {
          "output_type": "display_data",
          "data": {
            "text/latex": "$\\displaystyle \\left\\{0\\right\\}$",
            "text/plain": [
              "FiniteSet(0)"
            ]
          },
          "metadata": {
            "tags": []
          }
        }
      ]
    },
    {
      "cell_type": "markdown",
      "metadata": {
        "id": "mKSgY_wnoWKJ"
      },
      "source": [
        "# 微分積分方程式 symbolic calculus\n",
        "\n",
        "sympy で極限 limit を扱うことができる。\n",
        "\n",
        "次の式を考えよう。\n",
        "\n",
        "$$\\lim_{x\\to 0^+}\\frac{1}{x}$$\n",
        "\n",
        "&nbsp;\n"
      ]
    },
    {
      "cell_type": "code",
      "metadata": {
        "id": "0B3Cwf0IoWKJ",
        "colab": {
          "base_uri": "https://localhost:8080/",
          "height": 37
        },
        "outputId": "9786769d-1f9e-41d0-af43-8986101da7a4"
      },
      "source": [
        "from sympy.abc import *\n",
        "from sympy import *\n",
        "display(limit(1/x, x, 0, dir=\"+\"))"
      ],
      "execution_count": 20,
      "outputs": [
        {
          "output_type": "display_data",
          "data": {
            "text/latex": "$\\displaystyle \\infty$",
            "text/plain": [
              "oo"
            ]
          },
          "metadata": {
            "tags": []
          }
        }
      ]
    },
    {
      "cell_type": "markdown",
      "metadata": {
        "id": "F8qFzaAOoWKK"
      },
      "source": [
        "---\n",
        "**練習問題** $\\quad$ 次の極限を計算する。\n",
        "\n",
        "1. $\\displaystyle \\lim_{x\\to 0^-}\\frac{1}{x}$\n",
        "2. $\\displaystyle \\lim_{x\\to 0}\\frac{1}{x^2}$\n",
        "\n",
        "&nbsp;\n"
      ]
    },
    {
      "cell_type": "code",
      "metadata": {
        "colab": {
          "base_uri": "https://localhost:8080/",
          "height": 57
        },
        "id": "WTpaaBjj_FFI",
        "outputId": "266b787a-cba5-4e27-8d28-99739201d50d"
      },
      "source": [
        "from sympy.abc import *\n",
        "from sympy import *\n",
        "display(limit(1/x, x, 0, dir=\"-\"))\n",
        "display(limit(1/x**2, x, 0))\n"
      ],
      "execution_count": 22,
      "outputs": [
        {
          "output_type": "display_data",
          "data": {
            "text/latex": "$\\displaystyle -\\infty$",
            "text/plain": [
              "-oo"
            ]
          },
          "metadata": {
            "tags": []
          }
        },
        {
          "output_type": "display_data",
          "data": {
            "text/latex": "$\\displaystyle \\infty$",
            "text/plain": [
              "oo"
            ]
          },
          "metadata": {
            "tags": []
          }
        }
      ]
    },
    {
      "cell_type": "markdown",
      "metadata": {
        "id": "SPDxcS9foWKK"
      },
      "source": [
        "sympy を使って微分 differentiate/Derivative や積分 integrate/Integral ができる。\n",
        "\n",
        "次の式を微分する。\n",
        "\n",
        "$$x ^ 2 - \\cos(x)$$\n",
        "\n",
        "&nbsp;\n"
      ]
    },
    {
      "cell_type": "markdown",
      "metadata": {
        "id": "0af8x9wgBxcZ"
      },
      "source": [
        "微分方程式は `Derivative` 、微分計算は `diff`"
      ]
    },
    {
      "cell_type": "code",
      "metadata": {
        "id": "EgP0jrzioWKK",
        "colab": {
          "base_uri": "https://localhost:8080/",
          "height": 130
        },
        "outputId": "cb233a56-f9f2-464f-b97c-629ea32370df"
      },
      "source": [
        "from sympy.abc import *\n",
        "from sympy import *\n",
        "expr = x**2 - cos(x)\n",
        "display(Derivative(x ** 2 - cos(x), x))\n",
        "display(Derivative(expr, x))\n",
        "display(diff(x ** 2 - cos(x), x))\n",
        "display(diff(expr, x))"
      ],
      "execution_count": 31,
      "outputs": [
        {
          "output_type": "display_data",
          "data": {
            "text/latex": "$\\displaystyle \\frac{d}{d x} \\left(x^{2} - \\cos{\\left(x \\right)}\\right)$",
            "text/plain": [
              "Derivative(x**2 - cos(x), x)"
            ]
          },
          "metadata": {
            "tags": []
          }
        },
        {
          "output_type": "display_data",
          "data": {
            "text/latex": "$\\displaystyle \\frac{d}{d x} \\left(x^{2} - \\cos{\\left(x \\right)}\\right)$",
            "text/plain": [
              "Derivative(x**2 - cos(x), x)"
            ]
          },
          "metadata": {
            "tags": []
          }
        },
        {
          "output_type": "display_data",
          "data": {
            "text/latex": "$\\displaystyle 2 x + \\sin{\\left(x \\right)}$",
            "text/plain": [
              "2*x + sin(x)"
            ]
          },
          "metadata": {
            "tags": []
          }
        },
        {
          "output_type": "display_data",
          "data": {
            "text/latex": "$\\displaystyle 2 x + \\sin{\\left(x \\right)}$",
            "text/plain": [
              "2*x + sin(x)"
            ]
          },
          "metadata": {
            "tags": []
          }
        }
      ]
    },
    {
      "cell_type": "markdown",
      "metadata": {
        "id": "wM3Sa0KPoWKK"
      },
      "source": [
        "積分は Integral と integrate"
      ]
    },
    {
      "cell_type": "code",
      "metadata": {
        "id": "_GT3S_FFoWKK",
        "colab": {
          "base_uri": "https://localhost:8080/",
          "height": 151
        },
        "outputId": "88afc276-5f78-4474-ec99-d7cb504eb5e8"
      },
      "source": [
        "from sympy.abc import *\n",
        "from sympy import *\n",
        "expr = x**2 - cos(x)\n",
        "display(expr)\n",
        "display(Integral(expr, x))\n",
        "display(integrate(expr, x))\n",
        "integrate(x ** 2 - cos(x), x)"
      ],
      "execution_count": 32,
      "outputs": [
        {
          "output_type": "display_data",
          "data": {
            "text/latex": "$\\displaystyle x^{2} - \\cos{\\left(x \\right)}$",
            "text/plain": [
              "x**2 - cos(x)"
            ]
          },
          "metadata": {
            "tags": []
          }
        },
        {
          "output_type": "display_data",
          "data": {
            "text/latex": "$\\displaystyle \\int \\left(x^{2} - \\cos{\\left(x \\right)}\\right)\\, dx$",
            "text/plain": [
              "Integral(x**2 - cos(x), x)"
            ]
          },
          "metadata": {
            "tags": []
          }
        },
        {
          "output_type": "display_data",
          "data": {
            "text/latex": "$\\displaystyle \\frac{x^{3}}{3} - \\sin{\\left(x \\right)}$",
            "text/plain": [
              "x**3/3 - sin(x)"
            ]
          },
          "metadata": {
            "tags": []
          }
        },
        {
          "output_type": "execute_result",
          "data": {
            "text/latex": "$\\displaystyle \\frac{x^{3}}{3} - \\sin{\\left(x \\right)}$",
            "text/plain": [
              "x**3/3 - sin(x)"
            ]
          },
          "metadata": {
            "tags": []
          },
          "execution_count": 32
        }
      ]
    },
    {
      "cell_type": "markdown",
      "metadata": {
        "id": "CqHQe_63oWKL"
      },
      "source": [
        "定積分は次のように行う。"
      ]
    },
    {
      "cell_type": "code",
      "metadata": {
        "id": "tXkfKIZdoWKL",
        "colab": {
          "base_uri": "https://localhost:8080/",
          "height": 149
        },
        "outputId": "039b216e-053c-4261-ca33-81318f3d2624"
      },
      "source": [
        "from sympy.abc import *\n",
        "from sympy import *\n",
        "expr = x**2 - cos(x)\n",
        "display(Integral(expr, (x, 0, 5)))\n",
        "display(integrate(expr,  (x, 0, 5)))\n",
        "integrate(x ** 2 - cos(x), (x, 0, 5))"
      ],
      "execution_count": 34,
      "outputs": [
        {
          "output_type": "display_data",
          "data": {
            "text/latex": "$\\displaystyle \\int\\limits_{0}^{5} \\left(x^{2} - \\cos{\\left(x \\right)}\\right)\\, dx$",
            "text/plain": [
              "Integral(x**2 - cos(x), (x, 0, 5))"
            ]
          },
          "metadata": {
            "tags": []
          }
        },
        {
          "output_type": "display_data",
          "data": {
            "text/latex": "$\\displaystyle \\frac{125}{3} - \\sin{\\left(5 \\right)}$",
            "text/plain": [
              "125/3 - sin(5)"
            ]
          },
          "metadata": {
            "tags": []
          }
        },
        {
          "output_type": "execute_result",
          "data": {
            "text/latex": "$\\displaystyle \\frac{125}{3} - \\sin{\\left(5 \\right)}$",
            "text/plain": [
              "125/3 - sin(5)"
            ]
          },
          "metadata": {
            "tags": []
          },
          "execution_count": 34
        }
      ]
    },
    {
      "cell_type": "markdown",
      "metadata": {
        "id": "yydO1m2ioWKL"
      },
      "source": [
        "---\n",
        "\n",
        "**練習問題** $\\quad$ sympy を使って下記の式を計算する。\n",
        "\n",
        "1. $\\displaystyle \\frac{d\\sin(x ^2)}{dx}$\n",
        "2. $\\displaystyle \\frac{d(x ^2 + xy - \\ln(y))}{dy}$\n",
        "3. $\\displaystyle \\int e^x \\cos(x)\\;dx$\n",
        "4. $\\displaystyle \\int_0^5 e^{2x}\\;dx$"
      ]
    },
    {
      "cell_type": "code",
      "metadata": {
        "id": "YvgemSZeDAkH"
      },
      "source": [
        "from sympy.abc import *\n",
        "from sympy import *\n",
        "expr = sin (x**2)\n",
        "display(Derivative(expr, x))\n",
        "display(diff(expr,  x))\n"
      ],
      "execution_count": null,
      "outputs": []
    },
    {
      "cell_type": "code",
      "metadata": {
        "id": "xGPX184yDgR_"
      },
      "source": [
        "from sympy.abc import *\n",
        "from sympy import *\n",
        "expr = x**2+x*y-log(y)\n",
        "display(Derivative(expr, y))\n",
        "display(diff(expr,  y))"
      ],
      "execution_count": null,
      "outputs": []
    },
    {
      "cell_type": "code",
      "metadata": {
        "colab": {
          "base_uri": "https://localhost:8080/",
          "height": 113
        },
        "id": "MtSXbH5xECku",
        "outputId": "6bfff109-ab4c-424f-b3dc-68cfecba0d06"
      },
      "source": [
        "from sympy.abc import *\n",
        "from sympy import *\n",
        "expr = exp(x)*cos(x)\n",
        "display(expr)\n",
        "display(Integral(expr, x))\n",
        "display(integrate(expr,  x))"
      ],
      "execution_count": 40,
      "outputs": [
        {
          "output_type": "display_data",
          "data": {
            "text/latex": "$\\displaystyle e^{x} \\cos{\\left(x \\right)}$",
            "text/plain": [
              "exp(x)*cos(x)"
            ]
          },
          "metadata": {
            "tags": []
          }
        },
        {
          "output_type": "display_data",
          "data": {
            "text/latex": "$\\displaystyle \\int e^{x} \\cos{\\left(x \\right)}\\, dx$",
            "text/plain": [
              "Integral(exp(x)*cos(x), x)"
            ]
          },
          "metadata": {
            "tags": []
          }
        },
        {
          "output_type": "display_data",
          "data": {
            "text/latex": "$\\displaystyle \\frac{e^{x} \\sin{\\left(x \\right)}}{2} + \\frac{e^{x} \\cos{\\left(x \\right)}}{2}$",
            "text/plain": [
              "exp(x)*sin(x)/2 + exp(x)*cos(x)/2"
            ]
          },
          "metadata": {
            "tags": []
          }
        }
      ]
    },
    {
      "cell_type": "code",
      "metadata": {
        "colab": {
          "base_uri": "https://localhost:8080/",
          "height": 139
        },
        "id": "PSUekO6wEYf6",
        "outputId": "c502a264-4a87-4a5a-8644-9c92073d1184"
      },
      "source": [
        "from sympy.abc import *\n",
        "from sympy import *\n",
        "expr = exp(2*x)\n",
        "display(expr)\n",
        "display(Integral(expr, (x,0,5)))\n",
        "display(integrate(expr, (x,0,5)))"
      ],
      "execution_count": 41,
      "outputs": [
        {
          "output_type": "display_data",
          "data": {
            "text/latex": "$\\displaystyle e^{2 x}$",
            "text/plain": [
              "exp(2*x)"
            ]
          },
          "metadata": {
            "tags": []
          }
        },
        {
          "output_type": "display_data",
          "data": {
            "text/latex": "$\\displaystyle \\int\\limits_{0}^{5} e^{2 x}\\, dx$",
            "text/plain": [
              "Integral(exp(2*x), (x, 0, 5))"
            ]
          },
          "metadata": {
            "tags": []
          }
        },
        {
          "output_type": "display_data",
          "data": {
            "text/latex": "$\\displaystyle - \\frac{1}{2} + \\frac{e^{10}}{2}$",
            "text/plain": [
              "-1/2 + exp(10)/2"
            ]
          },
          "metadata": {
            "tags": []
          }
        }
      ]
    },
    {
      "cell_type": "markdown",
      "metadata": {
        "id": "jdlarqOcoWKN"
      },
      "source": [
        "# グラフ描画 plotting\n",
        "\n",
        "メモ $\\quad$ ここで注意。 sympy で簡易に例えば $y=x^2$ のグラフが描けるが、グラフは本来座標の範囲を決めたり、ゼロをどこに置くか、目盛りをどうするかなど面倒な設定が必要なところを裏で処理している。 \n",
        "\n",
        "裏で動いているのが matplotlib (http://matplotlib.org/)という python のライブラリーだが、これも簡易な使い方と細かく設定して使う方法がある。\n",
        "\n",
        "sympy でグラフ描画する際には matplotlib のどの機能を使っているとか、意識しながら使うのがよいと思う。\n",
        "\n",
        "numpy と matplotlib を明示的に使う\n",
        "\n",
        "&nbsp;\n"
      ]
    },
    {
      "cell_type": "markdown",
      "metadata": {
        "id": "jmZUIB1_oWKN"
      },
      "source": [
        "$x^2$ のグラフを描く"
      ]
    },
    {
      "cell_type": "code",
      "metadata": {
        "tags": [
          "nbval-ignore-output"
        ],
        "id": "3UfDa-_1oWKN",
        "colab": {
          "base_uri": "https://localhost:8080/",
          "height": 296
        },
        "outputId": "0c8aaba4-5d03-41c0-b943-48e66c7ee0f1"
      },
      "source": [
        "from sympy.abc import *\n",
        "from sympy import *\n",
        "expr = x ** 2\n",
        "p = plot(expr);"
      ],
      "execution_count": 42,
      "outputs": [
        {
          "output_type": "display_data",
          "data": {
            "image/png": "[encoded data removed]",
            "text/plain": [
              "<Figure size 432x288 with 1 Axes>"
            ]
          },
          "metadata": {
            "tags": [],
            "needs_background": "light"
          }
        }
      ]
    },
    {
      "cell_type": "markdown",
      "metadata": {
        "id": "27C4ifZ0PbKu"
      },
      "source": [
        "matplotlib と numpy では次のように描く。"
      ]
    },
    {
      "cell_type": "code",
      "metadata": {
        "colab": {
          "base_uri": "https://localhost:8080/",
          "height": 269
        },
        "id": "FHLn8pF2PYeI",
        "outputId": "eae85d27-7ad8-4015-f065-f77008137525"
      },
      "source": [
        "import matplotlib.pyplot as plt\n",
        "import numpy as np\n",
        "x = np.linspace(-10, 10, 100) # 100に刻む\n",
        "fig, ax = plt.subplots()  # figure と ax を作る\n",
        "ax.spines['left'].set_position(('data', 0))\n",
        "ax.spines['right'].set_visible(False)\n",
        "ax.spines['top'].set_visible(False)\n",
        "ax.spines['bottom'].set_position(('data', 0))\n",
        "ax.set_xlabel('x')  # x軸のラベル\n",
        "ax.set_ylabel('f(x)')  # y軸のラベル\n",
        "ax.plot(x, x**2)  # プロットする\n",
        "plt.show()"
      ],
      "execution_count": 51,
      "outputs": [
        {
          "output_type": "display_data",
          "data": {
            "image/png": "[encoded data removed]",
            "text/plain": [
              "<Figure size 432x288 with 1 Axes>"
            ]
          },
          "metadata": {
            "tags": [],
            "needs_background": "light"
          }
        }
      ]
    },
    {
      "cell_type": "markdown",
      "metadata": {
        "id": "vsrLJa-IS02Y"
      },
      "source": [
        "メモ $\\quad$ xlabel や ylabel の位置はどうやって指示するのか。 \n",
        "\n",
        "座標の位置を変えるために spines を設定するのは手間が多い。 "
      ]
    },
    {
      "cell_type": "markdown",
      "metadata": {
        "id": "7EmWkXY5oWKO"
      },
      "source": [
        "テキストには pdf で保存する方法が書いてある。"
      ]
    },
    {
      "cell_type": "code",
      "metadata": {
        "tags": [
          "nbval-ignore-output"
        ],
        "id": "XLas0YmPoWKO",
        "colab": {
          "base_uri": "https://localhost:8080/",
          "height": 278
        },
        "outputId": "2af0633a-4b33-47f5-aa2a-ca2f0b677e8b"
      },
      "source": [
        "p.save(\"x_squared.pdf\")"
      ],
      "execution_count": 52,
      "outputs": [
        {
          "output_type": "display_data",
          "data": {
            "image/png": "[encoded data removed]",
            "text/plain": [
              "<Figure size 432x288 with 1 Axes>"
            ]
          },
          "metadata": {
            "tags": [],
            "needs_background": "light"
          }
        }
      ]
    },
    {
      "cell_type": "markdown",
      "metadata": {
        "id": "Mv13T7X7VW3R"
      },
      "source": [
        "メモ $\\quad$ `p.save(\"x_squared.pdf\")` で pdf を作ると同時に画面上に描画をしている。 \n",
        "\n",
        "numpy+matplotlib の `plt.savefig(\"temp.svg\", format=\"svg\")` も同じだった!!!!\n",
        "\n"
      ]
    },
    {
      "cell_type": "code",
      "metadata": {
        "colab": {
          "base_uri": "https://localhost:8080/"
        },
        "id": "ZzNp1r5dU4OG",
        "outputId": "085f6a5b-6bd4-4bec-a189-1b09a759c792"
      },
      "source": [
        "print(type(p) )\n",
        "print(type(ax))\n",
        "print(len(dir(p)))\n",
        "print(len(dir(ax)))"
      ],
      "execution_count": 62,
      "outputs": [
        {
          "output_type": "stream",
          "text": [
            "<class 'sympy.plotting.plot.Plot'>\n",
            "<class 'matplotlib.axes._subplots.AxesSubplot'>\n",
            "54\n",
            "449\n"
          ],
          "name": "stdout"
        }
      ]
    },
    {
      "cell_type": "markdown",
      "metadata": {
        "id": "jVOR3lu4_RxJ"
      },
      "source": [
        "# いまここ"
      ]
    },
    {
      "cell_type": "markdown",
      "metadata": {
        "id": "rHoI150KZl8L"
      },
      "source": [
        "上の p と ax の dir を取ってみると圧倒的に ax の方が機能が多い。\n",
        "\n",
        "そういうことなのだろう。\n",
        "\n",
        "&nbsp;\n"
      ]
    },
    {
      "cell_type": "markdown",
      "metadata": {
        "id": "MUF7p-y1oWKO"
      },
      "source": [
        "---\n",
        "**練習問題** $\\quad$ 次の関数をグラフ描画する。\n",
        "\n",
        "* $y=x + cos(x)$\n",
        "* $y=x ^ 2 - e^x$ (you might find `ylim` helpful as an argument)\n",
        "\n",
        "\n"
      ]
    },
    {
      "cell_type": "code",
      "metadata": {
        "colab": {
          "base_uri": "https://localhost:8080/",
          "height": 297
        },
        "id": "xA2XASjMduYe",
        "outputId": "13858c09-ff5a-4be5-88d4-f84b32975d28"
      },
      "source": [
        "from sympy.abc import *\n",
        "from sympy import *\n",
        "expr = x + cos(x)\n",
        "p = plot(expr);"
      ],
      "execution_count": 67,
      "outputs": [
        {
          "output_type": "display_data",
          "data": {
            "image/png": "[encoded data removed]",
            "text/plain": [
              "<Figure size 432x288 with 1 Axes>"
            ]
          },
          "metadata": {
            "tags": [],
            "needs_background": "light"
          }
        }
      ]
    }
  ]
}