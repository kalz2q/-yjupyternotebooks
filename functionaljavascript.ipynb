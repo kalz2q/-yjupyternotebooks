{
  "nbformat": 4,
  "nbformat_minor": 0,
  "metadata": {
    "colab": {
      "name": "functionaljavascript.ipynb",
      "provenance": [],
      "toc_visible": true,
      "authorship_tag": "ABX9TyNDgCumfaWK9BaL91lx2MCV",
      "include_colab_link": true
    },
    "kernelspec": {
      "name": "python3",
      "display_name": "Python 3"
    }
  },
  "cells": [
    {
      "cell_type": "markdown",
      "metadata": {
        "id": "view-in-github",
        "colab_type": "text"
      },
      "source": [
        "<a href=\"https://colab.research.google.com/github/kalz2q/mycolabnotebooks/blob/master/functionaljavascript.ipynb\" target=\"_parent\"><img src=\"https://colab.research.google.com/assets/colab-badge.svg\" alt=\"Open In Colab\"/></a>"
      ]
    },
    {
      "cell_type": "markdown",
      "metadata": {
        "id": "2pmVtMbG3D-w"
      },
      "source": [
        "# メモ\n",
        "関数型プログラミングに javascript が適していると思い、関数型プログラミング javascript で検索すると、あることはあるがあまりない。\n",
        "\n",
        "関数型プログラミングの基礎 立川察理 、 長瀬嘉秀  \n",
        "JavaScript関数型プログラミング 複雑性を抑える発想と実践法を学ぶ Luis Atencio、 加藤大雄  \n",
        "JavaScriptで学ぶ関数型プログラミング Michael Fogus  \n",
        "関数プログラミング 大川徳之\n",
        "\n",
        "参考:  \n",
        "\n",
        "https://blog.bitsrc.io/functional-programming-in-javascript-how-and-why-94e7a97343b  \n",
        "https://github.com/akimichi/functionaljs/   \n",
        "\n",
        "多分、素の javascript はなんでもできるので、関数型指向の人だと react を使うのではないか。 \n",
        "とりあえず Colab の %%html 環境で実験しながら進める。\n",
        "\n",
        "\n"
      ]
    },
    {
      "cell_type": "markdown",
      "metadata": {
        "id": "Sn3lW5hgzIrq"
      },
      "source": [
        "# バッククオート backquote\n",
        "テンプレートリテラルは、組み込み式を扱うことができる文字列リテラルです。複数行の文字列や文字列挿入機能を使用することができます。"
      ]
    },
    {
      "cell_type": "code",
      "metadata": {
        "id": "oOdKsxqyAX2E",
        "outputId": "abe2819c-928d-4988-b1f5-b32e3541dbbc",
        "colab": {
          "base_uri": "https://localhost:8080/",
          "height": 69
        }
      },
      "source": [
        "%%html\n",
        "<script>\n",
        "    function executeFunctions(x, y) {\n",
        "        const add = (x, y) => x + y;\n",
        "        const subtract = (x, y) => x - y;\n",
        "        addPara(`sum: ${add(x, y)}`);\n",
        "        addPara(`difference: ${subtract(x, y)}`);\n",
        "    }\n",
        "    function addPara(item) {\n",
        "        let para = document.createElement('p');\n",
        "        para.textContent = item;\n",
        "        document.body.appendChild(para);\n",
        "    }\n",
        "\n",
        "    executeFunctions(3, 4)\n",
        "</script>"
      ],
      "execution_count": 4,
      "outputs": [
        {
          "output_type": "display_data",
          "data": {
            "text/html": [
              "<script>\n",
              "    function executeFunctions(x, y) {\n",
              "        const add = (x, y) => x + y;\n",
              "        const subtract = (x, y) => x - y;\n",
              "        addPara(`sum: ${add(x, y)}`);\n",
              "        addPara(`difference: ${subtract(x, y)}`);\n",
              "    }\n",
              "    function addPara(item) {\n",
              "        let para = document.createElement('p');\n",
              "        para.textContent = item;\n",
              "        document.body.appendChild(para);\n",
              "    }\n",
              "\n",
              "    executeFunctions(3, 4)\n",
              "</script>"
            ],
            "text/plain": [
              "<IPython.core.display.HTML object>"
            ]
          },
          "metadata": {
            "tags": []
          }
        }
      ]
    },
    {
      "cell_type": "code",
      "metadata": {
        "id": "xHPwYxUbzctk"
      },
      "source": [
        "# 構文\n",
        "%%script false\n",
        "\n",
        "`string text`\n",
        "\n",
        "`string text line 1\n",
        " string text line 2`\n",
        "\n",
        "`string text ${expression} string text`\n",
        "\n",
        "tag`string text ${expression} string text`\n"
      ],
      "execution_count": null,
      "outputs": []
    },
    {
      "cell_type": "markdown",
      "metadata": {
        "id": "-gRW6dVK6SX6"
      },
      "source": [
        "javascript backquote\n",
        "で検索して云々。"
      ]
    }
  ]
}