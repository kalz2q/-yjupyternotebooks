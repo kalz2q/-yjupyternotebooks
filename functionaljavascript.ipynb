{
  "nbformat": 4,
  "nbformat_minor": 0,
  "metadata": {
    "colab": {
      "name": "functionaljavascript.ipynb",
      "provenance": [],
      "toc_visible": true,
      "authorship_tag": "ABX9TyOLl9BmvM1GwCds2EoBqIA7",
      "include_colab_link": true
    },
    "kernelspec": {
      "name": "python3",
      "display_name": "Python 3"
    }
  },
  "cells": [
    {
      "cell_type": "markdown",
      "metadata": {
        "id": "view-in-github",
        "colab_type": "text"
      },
      "source": [
        "<a href=\"https://colab.research.google.com/github/kalz2q/mycolabnotebooks/blob/master/functionaljavascript.ipynb\" target=\"_parent\"><img src=\"https://colab.research.google.com/assets/colab-badge.svg\" alt=\"Open In Colab\"/></a>"
      ]
    },
    {
      "cell_type": "markdown",
      "metadata": {
        "id": "2pmVtMbG3D-w"
      },
      "source": [
        "# メモ\n",
        "functional programming in javascript はいま 2021/01/23 の時点の自分の理解としては、forEach, filter, reduce, map が使えるようになれば十分かと思う。\n",
        "\n",
        "いまの時点で実践に使おうと思う。\n",
        "1. dotinstall => githubで公開\n",
        "1. aizuでやってみる。\n",
        "\n"
      ]
    },
    {
      "cell_type": "markdown",
      "metadata": {
        "id": "Om4Y-lUZsxng"
      },
      "source": [
        "参考:  \n",
        "1. 関数型プログラミングの基礎 立川察理 、 長瀬嘉秀  \n",
        "1. JavaScript関数型プログラミング 複雑性を抑える発想と実践法を学ぶ Luis Atencio、 加藤大雄  \n",
        "1. JavaScriptで学ぶ関数型プログラミング Michael Fogus  \n",
        "1. 関数プログラミング 大川徳之\n",
        "\n",
        "1. なぜ我々は頑なにforを避けるのか  \n",
        "\n",
        "1. \n",
        "https://blog.bitsrc.io/functional-programming-in-javascript-how-and-why-94e7a97343b  \n",
        "\n",
        "1. \n",
        "https://github.com/akimichi/functionaljs/   \n",
        "\n",
        "1. Functional Prgramming 入門  \n",
        "https://codeburst.io/functional-programming-in-javascript-part-i-2ea6c592f3c1  \n",
        "https://codeburst.io/functional-programming-in-javascript-part-ii-984203a5aee9\n",
        "\n",
        "1.  Transduction — Functional Programming in JavaScript  by Param Singh  \n",
        "https://codeburst.io/transduction-functional-programming-in-javascript-3b494758a868\n",
        "\n",
        "\n"
      ]
    },
    {
      "cell_type": "markdown",
      "metadata": {
        "id": "f8ocQqYxtVso"
      },
      "source": [
        "# smoothie を作る"
      ]
    },
    {
      "cell_type": "markdown",
      "metadata": {
        "id": "K7285UpsioN4"
      },
      "source": [
        "Param Sigh という人のサイトで smoothie を作るという例があって、次のようなプログラムを紹介している。\r\n",
        "\r\n",
        "filter と map と reduce を使っていて、それぞれの結果をつぎに流し込んでいくという、いかにも haskell 風というか、関数型プログラミングなので素晴らしいと思う。\r\n",
        "\r\n",
        "map ですでに名前のリストになっているので、さらにreduce で accumulate する必要はないと思うが、reduce の使い方を示したかったのだろう。"
      ]
    },
    {
      "cell_type": "code",
      "metadata": {
        "colab": {
          "base_uri": "https://localhost:8080/"
        },
        "id": "B4nPpJP0tTci",
        "outputId": "49d8945b-295c-4731-fc61-19c950c756e1"
      },
      "source": [
        "# smoothie を作る\r\n",
        "# 1. filter で材料を選ぶ。\r\n",
        "# 2. map で皮を剥く。\r\n",
        "# 3. reduce でまぜて一つにする。\r\n",
        "\r\n",
        "%%script node\r\n",
        "const FOOD_TYPE = {\r\n",
        "    FRUIT: \"FRUIT\",\r\n",
        "    VEGETABLE: \"VEGETABLE\"\r\n",
        "}\r\n",
        "var foods = [\r\n",
        "    { name: \"Carrot\", type: FOOD_TYPE.VEGETABLE, cals: 41 },\r\n",
        "    { name: \"Avocado\", type: FOOD_TYPE.FRUIT, cals: 160 },\r\n",
        "    { name: \"Orange\", type: FOOD_TYPE.FRUIT, cals: 47 },\r\n",
        "    { name: \"Beetrot\", type: FOOD_TYPE.VEGETABLE, cals: 43 },\r\n",
        "    { name: \"Banana\", type: FOOD_TYPE.FRUIT, cals: 89 }\r\n",
        "];\r\n",
        "\r\n",
        "\r\n",
        "function getName(food) {\r\n",
        "    return food.name;\r\n",
        "}\r\n",
        "\r\n",
        "function isFruit(food) {\r\n",
        "    return food.type === FOOD_TYPE.FRUIT;\r\n",
        "}\r\n",
        "\r\n",
        "function accumulator(bowl, name) {\r\n",
        "    return [...bowl, name];\r\n",
        "}\r\n",
        "\r\n",
        "function makeFruitSmoothie(foodsInput) {\r\n",
        "    return foodsInput\r\n",
        "        .filter(isFruit)\r\n",
        "        .map(getName)\r\n",
        "        .reduce(accumulator, [])\r\n",
        "}\r\n",
        "\r\n",
        "const smoothieBowl = makeFruitSmoothie(foods);\r\n",
        "\r\n",
        "console.log(smoothieBowl); // [\"Avocado\", \"Orange\", \"Banana\"]\r\n"
      ],
      "execution_count": null,
      "outputs": [
        {
          "output_type": "stream",
          "text": [
            "[ 'Avocado', 'Orange', 'Banana' ]\n"
          ],
          "name": "stdout"
        }
      ]
    },
    {
      "cell_type": "code",
      "metadata": {
        "colab": {
          "base_uri": "https://localhost:8080/"
        },
        "id": "fGf9CGaktoZB",
        "outputId": "f664999c-8936-47dc-c637-b5b9dff9378e"
      },
      "source": [
        "# accumulator(bowl,name) は dots syntax でリストに新規の名前を加えている\r\n",
        "# function を作らないで同じことができるかどうか実験\r\n",
        "%%script node\r\n",
        "function accumulator(bowl, name) {\r\n",
        "    return [...bowl, name];\r\n",
        "}\r\n",
        "\r\n",
        "let bowl = [\"Avocado\", \"Orange\"];\r\n",
        "let name = \"Banana\";\r\n",
        "\r\n",
        "console.log(accumulator(bowl, name));\r\n",
        "console.log([...bowl, name]); // dots syntax は中身を取り出す\r\n",
        "console.log([bowl, name].flat()); // flat() は引数は深さでデフォルトが 1\r\n",
        "console.log(bowl.concat([name]));\r\n",
        "bowl.push(name); // push は array を変える。返り値は長さでこの場合は 3\r\n",
        "console.log(bowl);"
      ],
      "execution_count": null,
      "outputs": [
        {
          "output_type": "stream",
          "text": [
            "[ 'Avocado', 'Orange', 'Banana' ]\n",
            "[ 'Avocado', 'Orange', 'Banana' ]\n",
            "[ 'Avocado', 'Orange', 'Banana' ]\n",
            "[ 'Avocado', 'Orange', 'Banana' ]\n",
            "[ 'Avocado', 'Orange', 'Banana' ]\n"
          ],
          "name": "stdout"
        }
      ]
    },
    {
      "cell_type": "code",
      "metadata": {
        "id": "vd_u9HbQyJVu",
        "colab": {
          "base_uri": "https://localhost:8080/"
        },
        "outputId": "fb706606-900a-40e5-e669-ad2d32bd102c"
      },
      "source": [
        "# 実験 smoothie を関数を作らないで同じ結果にする\r\n",
        "%%script node\r\n",
        "var foods = [\r\n",
        "    { name: \"Carrot\", type: \"VEGETABLE\", cals: 41 },\r\n",
        "    { name: \"Avocado\", type: \"FRUIT\", cals: 160 },\r\n",
        "    { name: \"Orange\", type: \"FRUIT\", cals: 47 },\r\n",
        "    { name: \"Beetrot\", type: \"VEGETABLE\", cals: 43 },\r\n",
        "    { name: \"Banana\", type: \"FRUIT\", cals: 89 }\r\n",
        "];\r\n",
        "\r\n",
        "console.log(\r\n",
        "    foods.filter(food => food.type === \"FRUIT\")\r\n",
        "    .map(food => food.name)\r\n",
        "    .reduce((accumulator, food) => [...accumulator, food],[]))"
      ],
      "execution_count": null,
      "outputs": [
        {
          "output_type": "stream",
          "text": [
            "[ 'Avocado', 'Orange', 'Banana' ]\n"
          ],
          "name": "stdout"
        }
      ]
    },
    {
      "cell_type": "markdown",
      "metadata": {
        "id": "1HI0qrKpeF6p"
      },
      "source": [
        "# forEach と # for (let i = 0; i < array.length; i++) {}"
      ]
    },
    {
      "cell_type": "code",
      "metadata": {
        "id": "85cfAkySeH_z",
        "colab": {
          "base_uri": "https://localhost:8080/"
        },
        "outputId": "aaf67547-2668-4790-eace-7e9a2a9d7c4c"
      },
      "source": [
        "# javascript で for loop を使いたい場合、reduce, filter, map でできないかを考える\r\n",
        "# forEach を考える\r\n",
        "# for(){}はバグの原因になるので、なるべく使わない\r\n",
        "%%script node\r\n",
        "var a = [\"a\", \"b\", \"c\"];\r\n",
        "a.forEach(function(entry) {\r\n",
        "    console.log(entry);\r\n",
        "});\r\n",
        "\r\n",
        "a.forEach(item => console.log(item));\r\n",
        "\r\n",
        "for (let i = 0; i < a.length; i++) {console.log(a[i])}"
      ],
      "execution_count": null,
      "outputs": [
        {
          "output_type": "stream",
          "text": [
            "a\n",
            "b\n",
            "c\n",
            "a\n",
            "b\n",
            "c\n",
            "a\n",
            "b\n",
            "c\n"
          ],
          "name": "stdout"
        }
      ]
    },
    {
      "cell_type": "markdown",
      "metadata": {
        "id": "c3jgR7372gvd"
      },
      "source": [
        "# filter\r\n"
      ]
    },
    {
      "cell_type": "code",
      "metadata": {
        "id": "JEgXGhnIfk77",
        "colab": {
          "base_uri": "https://localhost:8080/"
        },
        "outputId": "531cb669-61ab-43e6-8c8d-e23660dad701"
      },
      "source": [
        "# 次のプログラムから for loop をなくす\r\n",
        "%%script node\r\n",
        "const products = [\r\n",
        "    { name: \"Carrot\", rating: 8, price: 41 },\r\n",
        "    { name: \"Avocado\", rating: 8, price: 160 },\r\n",
        "    { name: \"Orange\", rating: 3, price: 147 },\r\n",
        "    { name: \"Beetrot\", rating: 8, price: 43 },\r\n",
        "    { name: \"Banana\", rating: 3, price: 89 }\r\n",
        "]\r\n",
        "\r\n",
        "function getBestProducts() {\r\n",
        "    const bestProducts = [];\r\n",
        "    for (let i = 0; i < products.length; i++) {\r\n",
        "        let product = products[i];\r\n",
        "        if (product.rating >= 5 && product.price < 100) {\r\n",
        "            bestProducts.push(product);\r\n",
        "        }\r\n",
        "    }\r\n",
        "    return bestProducts\r\n",
        "}\r\n",
        "\r\n",
        "console.log(getBestProducts(products)) "
      ],
      "execution_count": null,
      "outputs": [
        {
          "output_type": "stream",
          "text": [
            "[\n",
            "  { name: 'Carrot', rating: 8, price: 41 },\n",
            "  { name: 'Beetrot', rating: 8, price: 43 }\n",
            "]\n"
          ],
          "name": "stdout"
        }
      ]
    },
    {
      "cell_type": "code",
      "metadata": {
        "id": "BIrs1dgftv11",
        "colab": {
          "base_uri": "https://localhost:8080/"
        },
        "outputId": "ec4f8268-3740-4f3a-fa28-98c16f45aa6c"
      },
      "source": [
        "# 実験 for loop をなくす\r\n",
        "%%script node\r\n",
        "const products = [\r\n",
        "    { name: \"Carrot\", rating: 8, price: 41 },\r\n",
        "    { name: \"Avocado\", rating: 8, price: 160 },\r\n",
        "    { name: \"Orange\", rating: 3, price: 147 },\r\n",
        "    { name: \"Beetrot\", rating: 8, price: 43 },\r\n",
        "    { name: \"Banana\", rating: 3, price: 89 }\r\n",
        "]\r\n",
        "\r\n",
        "console.log(products.filter(product => product.rating >= 5 && product.price < 100))\r\n"
      ],
      "execution_count": null,
      "outputs": [
        {
          "output_type": "stream",
          "text": [
            "[\n",
            "  { name: 'Carrot', rating: 8, price: 41 },\n",
            "  { name: 'Beetrot', rating: 8, price: 43 }\n",
            "]\n"
          ],
          "name": "stdout"
        }
      ]
    },
    {
      "cell_type": "markdown",
      "metadata": {
        "id": "Sn3lW5hgzIrq"
      },
      "source": [
        "# バッククオート backquote\n",
        "テンプレートリテラルは、組み込み式を扱うことができる文字列リテラルです。複数行の文字列や文字列挿入機能を使用することができます。"
      ]
    },
    {
      "cell_type": "code",
      "metadata": {
        "id": "oOdKsxqyAX2E",
        "colab": {
          "base_uri": "https://localhost:8080/",
          "height": 70
        },
        "outputId": "a7294a34-5f73-4fa0-a133-7819c5992362"
      },
      "source": [
        "%%html\n",
        "<script>\n",
        "    function executeFunctions(x, y) {\n",
        "        const add = (x, y) => x + y;\n",
        "        const subtract = (x, y) => x - y;\n",
        "        addPara(`sum: ${add(x, y)}`);\n",
        "        addPara(`difference: ${subtract(x, y)}`);\n",
        "    }\n",
        "    function addPara(item) {\n",
        "        let para = document.createElement('p');\n",
        "        para.textContent = item;\n",
        "        document.body.appendChild(para);\n",
        "    }\n",
        "\n",
        "    executeFunctions(3, 4)\n",
        "</script>"
      ],
      "execution_count": null,
      "outputs": [
        {
          "output_type": "display_data",
          "data": {
            "text/html": [
              "<script>\n",
              "    function executeFunctions(x, y) {\n",
              "        const add = (x, y) => x + y;\n",
              "        const subtract = (x, y) => x - y;\n",
              "        addPara(`sum: ${add(x, y)}`);\n",
              "        addPara(`difference: ${subtract(x, y)}`);\n",
              "    }\n",
              "    function addPara(item) {\n",
              "        let para = document.createElement('p');\n",
              "        para.textContent = item;\n",
              "        document.body.appendChild(para);\n",
              "    }\n",
              "\n",
              "    executeFunctions(3, 4)\n",
              "</script>"
            ],
            "text/plain": [
              "<IPython.core.display.HTML object>"
            ]
          },
          "metadata": {
            "tags": []
          }
        }
      ]
    },
    {
      "cell_type": "markdown",
      "metadata": {
        "id": "-gRW6dVK6SX6"
      },
      "source": [
        "javascript backquote\n",
        "で検索して云々。"
      ]
    },
    {
      "cell_type": "markdown",
      "metadata": {
        "id": "8gnoymejt6Ce"
      },
      "source": [
        "# reduce"
      ]
    },
    {
      "cell_type": "code",
      "metadata": {
        "id": "VR_bwjtEtv5l"
      },
      "source": [
        "# mdn の最初の例\r\n",
        "%%script node\r\n",
        "const array1 = [1, 2, 3, 4];\r\n",
        "const reducer = (accumulator, currentValue) => accumulator + currentValue;\r\n",
        "\r\n",
        "// 1 + 2 + 3 + 4\r\n",
        "console.log(array1.reduce(reducer));\r\n",
        "// expected output: 10\r\n",
        "\r\n",
        "// 5 + 1 + 2 + 3 + 4\r\n",
        "console.log(array1.reduce(reducer, 5));\r\n",
        "// expected output: 15"
      ],
      "execution_count": null,
      "outputs": []
    },
    {
      "cell_type": "code",
      "metadata": {
        "id": "PQQ6763Ct-Z2"
      },
      "source": [
        "# 実験 multiply でも同じか\r\n",
        "%%script node\r\n",
        "const array1 = [1, 2, 3, 4];\r\n",
        "const reducer = (accumulator, currentValue) => accumulator * currentValue;\r\n",
        "\r\n",
        "// 1 * 2 * 3 * 4\r\n",
        "console.log(array1.reduce(reducer));\r\n",
        "// expected output: 24\r\n",
        "\r\n",
        "// 5 * 1 * 2 * 3 * 4\r\n",
        "console.log(array1.reduce(reducer, 5));\r\n",
        "// expected output: 120"
      ],
      "execution_count": null,
      "outputs": []
    },
    {
      "cell_type": "code",
      "metadata": {
        "colab": {
          "base_uri": "https://localhost:8080/"
        },
        "id": "4zpzVC6ONbuK",
        "outputId": "eefbe8c6-6928-49bb-9404-7967cbab77f6"
      },
      "source": [
        "# 実験 reducer を作らずに reduce を使う\r\n",
        "%%script node\r\n",
        "const array1 = [1, 2, 3, 4];\r\n",
        "console.log(array1.reduce((a, b) => a+b));\r\n",
        "console.log(array1.reduce((a, b) => a+b, 0));"
      ],
      "execution_count": 87,
      "outputs": [
        {
          "output_type": "stream",
          "text": [
            "10\n",
            "10\n"
          ],
          "name": "stdout"
        }
      ]
    },
    {
      "cell_type": "code",
      "metadata": {
        "colab": {
          "base_uri": "https://localhost:8080/"
        },
        "id": "sCLolHijXXPi",
        "outputId": "e2ea3392-41fa-461d-83a6-478ac921a811"
      },
      "source": [
        "%%script node\r\n",
        "function parabola(x) {\r\n",
        "   return 2 * Math.pow(x, 2)  + 3\r\n",
        "}\r\n",
        "\r\n",
        "console.log(parabola(2)) // 11"
      ],
      "execution_count": 89,
      "outputs": [
        {
          "output_type": "stream",
          "text": [
            "11\n"
          ],
          "name": "stdout"
        }
      ]
    },
    {
      "cell_type": "markdown",
      "metadata": {
        "id": "nmKjZHxfqrXi"
      },
      "source": [
        "# composition"
      ]
    },
    {
      "cell_type": "code",
      "metadata": {
        "id": "8okINRuEYccN"
      },
      "source": [
        "%%script node\r\n",
        "function toJSON(response) {\r\n",
        "    return response.json();\r\n",
        "}\r\n",
        "\r\n",
        "function buildUser({ login: userName = \"\", avatar_url: image }){\r\n",
        "    return new User({ userName, image })\r\n",
        "}\r\n",
        "\r\n",
        "function buildUser(users) {\r\n",
        "    return users.map(buildUser);\r\n",
        "}\r\n",
        "\r\n",
        "function getUsers(){\r\n",
        "    fetch(\"https://api.github.com/users\")\r\n",
        "        .then(toJSON)\r\n",
        "        .then(makeUserModel)\r\n",
        "        .then(console.log);\r\n",
        "}"
      ],
      "execution_count": 95,
      "outputs": []
    },
    {
      "cell_type": "code",
      "metadata": {
        "colab": {
          "base_uri": "https://localhost:8080/"
        },
        "id": "KrdPAICIafD8",
        "outputId": "7312503b-a1d5-471b-ac62-26a5c258c307"
      },
      "source": [
        "%%script node\r\n",
        "const double = x => x * 2\r\n",
        "const addOne = x => x + 1\r\n",
        "const square = x => x * x\r\n",
        "\r\n",
        "console.log(square(double(addOne(2))))"
      ],
      "execution_count": 111,
      "outputs": [
        {
          "output_type": "stream",
          "text": [
            "36\n"
          ],
          "name": "stdout"
        }
      ]
    },
    {
      "cell_type": "code",
      "metadata": {
        "colab": {
          "base_uri": "https://localhost:8080/"
        },
        "id": "65dd3wOuovt-",
        "outputId": "8d6914c9-ea3f-4dfa-9d7c-8bd621412bdd"
      },
      "source": [
        "%%script node\r\n",
        "const double = x => x * 2\r\n",
        "const addOne = x => x + 1\r\n",
        "const square = x => x * x\r\n",
        "\r\n",
        "const compose = (...fns) => (input) => \r\n",
        "    fns.reduceRight((mem, fn) => fn(mem), input);\r\n",
        "\r\n",
        "const processNumber = compose(square, double, addOne);\r\n",
        "\r\n",
        "console.log(processNumber(2));\r\n"
      ],
      "execution_count": 114,
      "outputs": [
        {
          "output_type": "stream",
          "text": [
            "36\n"
          ],
          "name": "stdout"
        }
      ]
    },
    {
      "cell_type": "code",
      "metadata": {
        "colab": {
          "base_uri": "https://localhost:8080/"
        },
        "id": "ofq38QLAqbS8",
        "outputId": "994fb054-3380-41af-9a73-222d6ac9cc7b"
      },
      "source": [
        "%%script node\r\n",
        "const double = x => x * 2;\r\n",
        "const addOne = x => x + 1;\r\n",
        "const square = x => x * x;\r\n",
        "\r\n",
        "const pipe = (...fns) => (input) => fns.reduce((mem, fn) => fn(mem), input);\r\n",
        "\r\n",
        "const processNumber = pipe(addOne, double, square);\r\n",
        "\r\n",
        "console.log(processNumber(2));"
      ],
      "execution_count": 116,
      "outputs": [
        {
          "output_type": "stream",
          "text": [
            "36\n"
          ],
          "name": "stdout"
        }
      ]
    },
    {
      "cell_type": "markdown",
      "metadata": {
        "id": "a5zeQMVKq85x"
      },
      "source": [
        "# currying\r\n",
        "\r\n"
      ]
    },
    {
      "cell_type": "code",
      "metadata": {
        "colab": {
          "base_uri": "https://localhost:8080/"
        },
        "id": "Wxrvk1TYrIbF",
        "outputId": "16c429df-f18a-4860-a6fe-a20065a98642"
      },
      "source": [
        "# currying\r\n",
        "%%script node\r\n",
        "const multiply = (a, b) => a * b;\r\n",
        "// const mul = curry(multiply);\r\n",
        "const mul = a => b => a * b\r\n",
        "console.log(mul(2)(3))\r\n",
        "\r\n",
        "function add(a, b) { return a + b }\r\n",
        "console.log([0, 2, 4, 6].map(v => add(1, v)))\r\n",
        "\r\n",
        "const double = mul(2)\r\n",
        "console.log([0, 2, 4, 5].map(double))\r\n"
      ],
      "execution_count": 126,
      "outputs": [
        {
          "output_type": "stream",
          "text": [
            "6\n",
            "[ 1, 3, 5, 7 ]\n",
            "[ 0, 4, 8, 10 ]\n"
          ],
          "name": "stdout"
        }
      ]
    },
    {
      "cell_type": "code",
      "metadata": {
        "colab": {
          "base_uri": "https://localhost:8080/"
        },
        "id": "rv5aEU55sPLG",
        "outputId": "25371ca5-9368-44aa-aefd-b2f13bd9a21c"
      },
      "source": [
        "%%script node\r\n",
        "function add(a, b){return a + b}\r\n",
        "\r\n",
        "console.log([0, 2, 4, 6].map(v => add(1, v)))"
      ],
      "execution_count": 120,
      "outputs": [
        {
          "output_type": "stream",
          "text": [
            "[ 1, 3, 5, 7 ]\n"
          ],
          "name": "stdout"
        }
      ]
    },
    {
      "cell_type": "markdown",
      "metadata": {
        "id": "Kd52BAxSviaR"
      },
      "source": [
        "# いまここ\r\n",
        "https://codeburst.io/transduction-functional-programming-in-javascript-3b494758a868"
      ]
    }
  ]
}