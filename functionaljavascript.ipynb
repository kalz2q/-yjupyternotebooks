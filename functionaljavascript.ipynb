{
  "nbformat": 4,
  "nbformat_minor": 0,
  "metadata": {
    "colab": {
      "name": "functionaljavascript.ipynb",
      "provenance": [],
      "authorship_tag": "ABX9TyMDfTS5h/n231B30WVHDh2Z",
      "include_colab_link": true
    },
    "kernelspec": {
      "name": "python3",
      "display_name": "Python 3"
    }
  },
  "cells": [
    {
      "cell_type": "markdown",
      "metadata": {
        "id": "view-in-github",
        "colab_type": "text"
      },
      "source": [
        "<a href=\"https://colab.research.google.com/github/kalz2q/mycolabnotebooks/blob/master/functionaljavascript.ipynb\" target=\"_parent\"><img src=\"https://colab.research.google.com/assets/colab-badge.svg\" alt=\"Open In Colab\"/></a>"
      ]
    },
    {
      "cell_type": "markdown",
      "metadata": {
        "id": "2pmVtMbG3D-w"
      },
      "source": [
        "# メモ\n",
        "関数型プログラミングに javascript が適していると思い、関数型プログラミング javascript で検索すると、あることはあるがあまりない。\n",
        "\n",
        "関数型プログラミングの基礎 立川察理 、 長瀬嘉秀  \n",
        "JavaScript関数型プログラミング 複雑性を抑える発想と実践法を学ぶ Luis Atencio、 加藤大雄  \n",
        "JavaScriptで学ぶ関数型プログラミング Michael Fogus  \n",
        "関数プログラミング 大川徳之\n",
        "\n",
        "参考:  \n",
        "\n",
        "https://blog.bitsrc.io/functional-programming-in-javascript-how-and-why-94e7a97343b  \n",
        "https://github.com/akimichi/functionaljs/   \n",
        "\n",
        "多分、素の javascript はなんでもできるので、関数型指向の人だと react を使うのではないか。 \n",
        "とりあえず Colab の %%html 環境で実験しながら進める。\n",
        "\n",
        "\n"
      ]
    }
  ]
}