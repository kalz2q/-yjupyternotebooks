{
  "nbformat": 4,
  "nbformat_minor": 0,
  "metadata": {
    "colab": {
      "name": "functionaljavascript.ipynb",
      "provenance": [],
      "authorship_tag": "ABX9TyOxxC6JPSo+ohmQ8f8dXQm2",
      "include_colab_link": true
    },
    "kernelspec": {
      "name": "python3",
      "display_name": "Python 3"
    }
  },
  "cells": [
    {
      "cell_type": "markdown",
      "metadata": {
        "id": "view-in-github",
        "colab_type": "text"
      },
      "source": [
        "<a href=\"https://colab.research.google.com/github/kalz2q/mycolabnotebooks/blob/master/functionaljavascript.ipynb\" target=\"_parent\"><img src=\"https://colab.research.google.com/assets/colab-badge.svg\" alt=\"Open In Colab\"/></a>"
      ]
    },
    {
      "cell_type": "code",
      "metadata": {
        "id": "nzPL_JAJXlRS"
      },
      "source": [
        ""
      ],
      "execution_count": null,
      "outputs": []
    },
    {
      "cell_type": "markdown",
      "metadata": {
        "id": "nwRJOHIQXoyj"
      },
      "source": [
        "\n",
        "関数型プログラミングの基礎 JavaScriptを使って学ぶ 立川察理 => https://github.com/akimichi/functionaljs/\n",
        "でnvmをインストールして、nvm use --ltsとかでnodeがインストールされて、npm install とかで云々なはずだが、npmが見つからないと怒られる。 本が古いのでgithubのコピーである、functionaljsが古いのはともかく、nvmとnodeとnpmの関係もわかっていないのと、sudo apt removeで古いのを消した。 最新のがversion14で消したのが12で、functionaljsが指定しているのはv0.12.0って。云々。\n",
        "\n",
        "古くて動かないかもだけどなかなかいい本には見えるのだが、だが、どうも専門家ではない。 本もその後書いていない。 まあいいか。\n",
        "\n",
        "colabは => \n",
        "%%javascript\n",
        "はオッケーで、learnjs.ipynbはこれでやっている。\n",
        "%%script javascript\n",
        "はダメみたい。\n",
        "%%script node\n",
        "もオッケーみたい。\n",
        "%%ruby も %%script ruby も機能しない。\n",
        "%%script python3 とか %%python3はオッケーみたい。\n",
        "\n",
        "2020-12-24 05:49:36 => とりあえず読むために云々。"
      ]
    },
    {
      "cell_type": "code",
      "metadata": {
        "colab": {
          "base_uri": "https://localhost:8080/"
        },
        "id": "VxkFqTe_ZDyQ",
        "outputId": "631b76d4-ffc0-4a13-848f-5aa95adf34c4"
      },
      "source": [
        "%%script node\n",
        "console.log(\"he\")"
      ],
      "execution_count": null,
      "outputs": [
        {
          "output_type": "stream",
          "text": [
            "he\n"
          ],
          "name": "stdout"
        }
      ]
    }
  ]
}