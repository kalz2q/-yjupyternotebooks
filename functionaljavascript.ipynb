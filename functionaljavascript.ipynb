{
  "nbformat": 4,
  "nbformat_minor": 0,
  "metadata": {
    "colab": {
      "name": "functionaljavascript.ipynb",
      "provenance": [],
      "toc_visible": true,
      "authorship_tag": "ABX9TyN0NjNejtmFVA6vfi3+5lbF",
      "include_colab_link": true
    },
    "kernelspec": {
      "name": "python3",
      "display_name": "Python 3"
    }
  },
  "cells": [
    {
      "cell_type": "markdown",
      "metadata": {
        "id": "view-in-github",
        "colab_type": "text"
      },
      "source": [
        "<a href=\"https://colab.research.google.com/github/kalz2q/mycolabnotebooks/blob/master/functionaljavascript.ipynb\" target=\"_parent\"><img src=\"https://colab.research.google.com/assets/colab-badge.svg\" alt=\"Open In Colab\"/></a>"
      ]
    },
    {
      "cell_type": "markdown",
      "metadata": {
        "id": "2pmVtMbG3D-w"
      },
      "source": [
        "# メモ\n",
        "1. Functional Prgramming 入門\n",
        "https://codeburst.io/functional-programming-in-javascript-part-i-2ea6c592f3c1\n",
        "\n",
        "1.  Transduction — Functional Programming in JavaScript  by Param Singh  \n",
        "https://codeburst.io/transduction-functional-programming-in-javascript-3b494758a868\n"
      ]
    },
    {
      "cell_type": "markdown",
      "metadata": {
        "id": "Om4Y-lUZsxng"
      },
      "source": [
        "\n",
        "参考:  \n",
        "\n",
        "関数型プログラミングの基礎 立川察理 、 長瀬嘉秀  \n",
        "JavaScript関数型プログラミング 複雑性を抑える発想と実践法を学ぶ Luis Atencio、 加藤大雄  \n",
        "JavaScriptで学ぶ関数型プログラミング Michael Fogus  \n",
        "関数プログラミング 大川徳之\n",
        "\n",
        "なぜ我々は頑なにforを避けるのか  \n",
        "\n",
        "https://blog.bitsrc.io/functional-programming-in-javascript-how-and-why-94e7a97343b  \n",
        "\n",
        "https://github.com/akimichi/functionaljs/   \n",
        "\n",
        "\n"
      ]
    },
    {
      "cell_type": "markdown",
      "metadata": {
        "id": "f8ocQqYxtVso"
      },
      "source": [
        "# smoothie を作る"
      ]
    },
    {
      "cell_type": "markdown",
      "metadata": {
        "id": "K7285UpsioN4"
      },
      "source": [
        "Param Sigh という人のサイトで smoothie を作るという例があって、次のようなプログラムを紹介している。\r\n",
        "\r\n",
        "filter と map と reduce を使っていて、それぞれの結果をつぎに流し込んでいくという、いかにも haskell 風というか、関数型プログラミングなので素晴らしいと思う。\r\n",
        "\r\n",
        "map ですでに名前のリストになっているので、さらにreduce で accumulate する必要はないと思うが、reduce の使い方を示したかったのだろう。"
      ]
    },
    {
      "cell_type": "code",
      "metadata": {
        "colab": {
          "base_uri": "https://localhost:8080/"
        },
        "id": "B4nPpJP0tTci",
        "outputId": "49d8945b-295c-4731-fc61-19c950c756e1"
      },
      "source": [
        "# smoothie を作る\r\n",
        "# 1. filter で材料を選ぶ。\r\n",
        "# 2. map で皮を剥く。\r\n",
        "# 3. reduce でまぜて一つにする。\r\n",
        "\r\n",
        "%%script node\r\n",
        "const FOOD_TYPE = {\r\n",
        "    FRUIT: \"FRUIT\",\r\n",
        "    VEGETABLE: \"VEGETABLE\"\r\n",
        "}\r\n",
        "var foods = [\r\n",
        "    { name: \"Carrot\", type: FOOD_TYPE.VEGETABLE, cals: 41 },\r\n",
        "    { name: \"Avocado\", type: FOOD_TYPE.FRUIT, cals: 160 },\r\n",
        "    { name: \"Orange\", type: FOOD_TYPE.FRUIT, cals: 47 },\r\n",
        "    { name: \"Beetrot\", type: FOOD_TYPE.VEGETABLE, cals: 43 },\r\n",
        "    { name: \"Banana\", type: FOOD_TYPE.FRUIT, cals: 89 }\r\n",
        "];\r\n",
        "\r\n",
        "\r\n",
        "function getName(food) {\r\n",
        "    return food.name;\r\n",
        "}\r\n",
        "\r\n",
        "function isFruit(food) {\r\n",
        "    return food.type === FOOD_TYPE.FRUIT;\r\n",
        "}\r\n",
        "\r\n",
        "function accumulator(bowl, name) {\r\n",
        "    return [...bowl, name];\r\n",
        "}\r\n",
        "\r\n",
        "function makeFruitSmoothie(foodsInput) {\r\n",
        "    return foodsInput\r\n",
        "        .filter(isFruit)\r\n",
        "        .map(getName)\r\n",
        "        .reduce(accumulator, [])\r\n",
        "}\r\n",
        "\r\n",
        "const smoothieBowl = makeFruitSmoothie(foods);\r\n",
        "\r\n",
        "console.log(smoothieBowl); // [\"Avocado\", \"Orange\", \"Banana\"]\r\n"
      ],
      "execution_count": 42,
      "outputs": [
        {
          "output_type": "stream",
          "text": [
            "[ 'Avocado', 'Orange', 'Banana' ]\n"
          ],
          "name": "stdout"
        }
      ]
    },
    {
      "cell_type": "code",
      "metadata": {
        "colab": {
          "base_uri": "https://localhost:8080/"
        },
        "id": "fGf9CGaktoZB",
        "outputId": "f664999c-8936-47dc-c637-b5b9dff9378e"
      },
      "source": [
        "# accumulator(bowl,name) は dots syntax でリストに新規の名前を加えている\r\n",
        "# function を作らないで同じことができるかどうか実験\r\n",
        "%%script node\r\n",
        "function accumulator(bowl, name) {\r\n",
        "    return [...bowl, name];\r\n",
        "}\r\n",
        "\r\n",
        "let bowl = [\"Avocado\", \"Orange\"];\r\n",
        "let name = \"Banana\";\r\n",
        "\r\n",
        "console.log(accumulator(bowl, name));\r\n",
        "console.log([...bowl, name]); // dots syntax は中身を取り出す\r\n",
        "console.log([bowl, name].flat()); // flat() は引数は深さでデフォルトが 1\r\n",
        "console.log(bowl.concat([name]));\r\n",
        "bowl.push(name); // push は array を変える。返り値は長さでこの場合は 3\r\n",
        "console.log(bowl);"
      ],
      "execution_count": 55,
      "outputs": [
        {
          "output_type": "stream",
          "text": [
            "[ 'Avocado', 'Orange', 'Banana' ]\n",
            "[ 'Avocado', 'Orange', 'Banana' ]\n",
            "[ 'Avocado', 'Orange', 'Banana' ]\n",
            "[ 'Avocado', 'Orange', 'Banana' ]\n",
            "[ 'Avocado', 'Orange', 'Banana' ]\n"
          ],
          "name": "stdout"
        }
      ]
    },
    {
      "cell_type": "code",
      "metadata": {
        "id": "vd_u9HbQyJVu",
        "colab": {
          "base_uri": "https://localhost:8080/"
        },
        "outputId": "fb706606-900a-40e5-e669-ad2d32bd102c"
      },
      "source": [
        "# 実験 smoothie を関数を作らないで同じ結果にする\r\n",
        "%%script node\r\n",
        "var foods = [\r\n",
        "    { name: \"Carrot\", type: \"VEGETABLE\", cals: 41 },\r\n",
        "    { name: \"Avocado\", type: \"FRUIT\", cals: 160 },\r\n",
        "    { name: \"Orange\", type: \"FRUIT\", cals: 47 },\r\n",
        "    { name: \"Beetrot\", type: \"VEGETABLE\", cals: 43 },\r\n",
        "    { name: \"Banana\", type: \"FRUIT\", cals: 89 }\r\n",
        "];\r\n",
        "\r\n",
        "console.log(\r\n",
        "    foods.filter(food => food.type === \"FRUIT\")\r\n",
        "    .map(food => food.name)\r\n",
        "    .reduce((accumulator, food) => [...accumulator, food],[]))"
      ],
      "execution_count": 62,
      "outputs": [
        {
          "output_type": "stream",
          "text": [
            "[ 'Avocado', 'Orange', 'Banana' ]\n"
          ],
          "name": "stdout"
        }
      ]
    },
    {
      "cell_type": "markdown",
      "metadata": {
        "id": "1HI0qrKpeF6p"
      },
      "source": [
        "# forEach と # for (let i = 0; i < array.length; i++) {}"
      ]
    },
    {
      "cell_type": "markdown",
      "metadata": {
        "id": "PWgf9Sv-x4EM"
      },
      "source": [
        "# いまここ"
      ]
    },
    {
      "cell_type": "code",
      "metadata": {
        "id": "85cfAkySeH_z",
        "colab": {
          "base_uri": "https://localhost:8080/"
        },
        "outputId": "b8ef4575-fcd0-4d95-dad6-4c6de0f3bb0a"
      },
      "source": [
        "# javascript で for loop を使いたい場合、まずは forEach を考える\r\n",
        "%%script node\r\n",
        "var a = [\"a\", \"b\", \"c\"];\r\n",
        "a.forEach(function(entry) {\r\n",
        "    console.log(entry);\r\n",
        "});\r\n",
        "a.forEach(item => console.log(item));"
      ],
      "execution_count": 63,
      "outputs": [
        {
          "output_type": "stream",
          "text": [
            "a\n",
            "b\n",
            "c\n",
            "a\n",
            "b\n",
            "c\n"
          ],
          "name": "stdout"
        }
      ]
    },
    {
      "cell_type": "code",
      "metadata": {
        "id": "8bHGkBEJfd9A",
        "colab": {
          "base_uri": "https://localhost:8080/"
        },
        "outputId": "6e124a3d-cb8c-454f-b564-a51cfb8b6596"
      },
      "source": [
        "%%script node\r\n",
        "let a = [\"a\", \"b\", \"c\"];\r\n",
        "a.forEach(item => console.log(item));"
      ],
      "execution_count": null,
      "outputs": [
        {
          "output_type": "stream",
          "text": [
            "a\n",
            "b\n",
            "c\n"
          ],
          "name": "stdout"
        }
      ]
    },
    {
      "cell_type": "code",
      "metadata": {
        "id": "JPk5OsOrCyKh",
        "outputId": "51a3df29-f70e-4079-a6db-a73b877edfab",
        "colab": {
          "base_uri": "https://localhost:8080/"
        }
      },
      "source": [
        "%%script node\r\n",
        "let a = [\"a\", \"b\", \"c\"];\r\n",
        "for (let i = 0; i < a.length; i++) {console.log(a[i])}"
      ],
      "execution_count": 39,
      "outputs": [
        {
          "output_type": "stream",
          "text": [
            "a\n",
            "b\n",
            "c\n"
          ],
          "name": "stdout"
        }
      ]
    },
    {
      "cell_type": "code",
      "metadata": {
        "id": "JEgXGhnIfk77"
      },
      "source": [
        "%%script false\r\n",
        "const products = [...]\r\n",
        "const bestProducts = [];\r\n",
        "\r\n",
        "function getBestProducts() {\r\n",
        "    for (let i = 0; i < products.length; i++) {\r\n",
        "        let product = products[i];\r\n",
        "        if product.rating >= 5 && product.price < 100) {\r\n",
        "            bestProducts.push(product);\r\n",
        "        }\r\n",
        "    }\r\n",
        "}\r\n",
        "\r\n",
        "console.log(getBestProducts()) // [...]"
      ],
      "execution_count": null,
      "outputs": []
    },
    {
      "cell_type": "code",
      "metadata": {
        "id": "BIrs1dgftv11"
      },
      "source": [
        "%%script node\r\n",
        "const productsInput = [\r\n",
        "    { name:\"item1\", rating:0, price:50 },\r\n",
        "    { name:\"item2\", rating:10, price:120 },\r\n",
        "    { name:\"item3\", rating:10, price:80 }\r\n",
        "]\r\n",
        "\r\n",
        "function checkIfBestProduct(product) {\r\n",
        "    return product.rating >= 5 && product.price < 100\r\n",
        "}\r\n",
        "\r\n",
        "function getBestProducts(products) {\r\n",
        "    return products.filter(checkIfBestProduct)\r\n",
        "}\r\n",
        "\r\n",
        "const bestProducts = getBestProducts(productsInput)\r\n",
        "console.log(bestProducts)\r\n"
      ],
      "execution_count": null,
      "outputs": []
    },
    {
      "cell_type": "code",
      "metadata": {
        "id": "_DYaPIqcuCPm"
      },
      "source": [
        "# dots syntax\r\n",
        "%%script node\r\n",
        "const arr1 = ['solid', 'bicolor', 'tabby'];\r\n",
        "const arr2 = ['calico', 'tortoiseshell'];\r\n",
        "const item = \"me\"\r\n",
        "\r\n",
        "console.log([item, ...arr1, ...arr2])"
      ],
      "execution_count": null,
      "outputs": []
    },
    {
      "cell_type": "markdown",
      "metadata": {
        "id": "Sn3lW5hgzIrq"
      },
      "source": [
        "# バッククオート backquote\n",
        "テンプレートリテラルは、組み込み式を扱うことができる文字列リテラルです。複数行の文字列や文字列挿入機能を使用することができます。"
      ]
    },
    {
      "cell_type": "code",
      "metadata": {
        "id": "oOdKsxqyAX2E",
        "colab": {
          "base_uri": "https://localhost:8080/",
          "height": 70
        },
        "outputId": "a7294a34-5f73-4fa0-a133-7819c5992362"
      },
      "source": [
        "%%html\n",
        "<script>\n",
        "    function executeFunctions(x, y) {\n",
        "        const add = (x, y) => x + y;\n",
        "        const subtract = (x, y) => x - y;\n",
        "        addPara(`sum: ${add(x, y)}`);\n",
        "        addPara(`difference: ${subtract(x, y)}`);\n",
        "    }\n",
        "    function addPara(item) {\n",
        "        let para = document.createElement('p');\n",
        "        para.textContent = item;\n",
        "        document.body.appendChild(para);\n",
        "    }\n",
        "\n",
        "    executeFunctions(3, 4)\n",
        "</script>"
      ],
      "execution_count": 56,
      "outputs": [
        {
          "output_type": "display_data",
          "data": {
            "text/html": [
              "<script>\n",
              "    function executeFunctions(x, y) {\n",
              "        const add = (x, y) => x + y;\n",
              "        const subtract = (x, y) => x - y;\n",
              "        addPara(`sum: ${add(x, y)}`);\n",
              "        addPara(`difference: ${subtract(x, y)}`);\n",
              "    }\n",
              "    function addPara(item) {\n",
              "        let para = document.createElement('p');\n",
              "        para.textContent = item;\n",
              "        document.body.appendChild(para);\n",
              "    }\n",
              "\n",
              "    executeFunctions(3, 4)\n",
              "</script>"
            ],
            "text/plain": [
              "<IPython.core.display.HTML object>"
            ]
          },
          "metadata": {
            "tags": []
          }
        }
      ]
    },
    {
      "cell_type": "markdown",
      "metadata": {
        "id": "-gRW6dVK6SX6"
      },
      "source": [
        "javascript backquote\n",
        "で検索して云々。"
      ]
    },
    {
      "cell_type": "code",
      "metadata": {
        "id": "Zm1LcKAq9gJ2",
        "colab": {
          "base_uri": "https://localhost:8080/"
        },
        "outputId": "958f1633-e6ec-41c9-d106-01dcf9acd664"
      },
      "source": [
        "%%script node\r\n",
        "console.log([\"Banana\"])"
      ],
      "execution_count": 57,
      "outputs": [
        {
          "output_type": "stream",
          "text": [
            "[ 'Banana' ]\n"
          ],
          "name": "stdout"
        }
      ]
    },
    {
      "cell_type": "markdown",
      "metadata": {
        "id": "8gnoymejt6Ce"
      },
      "source": [
        "# reduce"
      ]
    },
    {
      "cell_type": "code",
      "metadata": {
        "id": "VR_bwjtEtv5l"
      },
      "source": [
        "# mdn の最初の例\r\n",
        "%%script node\r\n",
        "const array1 = [1, 2, 3, 4];\r\n",
        "const reducer = (accumulator, currentValue) => accumulator + currentValue;\r\n",
        "\r\n",
        "// 1 + 2 + 3 + 4\r\n",
        "console.log(array1.reduce(reducer));\r\n",
        "// expected output: 10\r\n",
        "\r\n",
        "// 5 + 1 + 2 + 3 + 4\r\n",
        "console.log(array1.reduce(reducer, 5));\r\n",
        "// expected output: 15"
      ],
      "execution_count": null,
      "outputs": []
    },
    {
      "cell_type": "code",
      "metadata": {
        "id": "PQQ6763Ct-Z2"
      },
      "source": [
        "# 実験 multiply でも同じか\r\n",
        "%%script node\r\n",
        "const array1 = [1, 2, 3, 4];\r\n",
        "const reducer = (accumulator, currentValue) => accumulator * currentValue;\r\n",
        "\r\n",
        "// 1 * 2 * 3 * 4\r\n",
        "console.log(array1.reduce(reducer));\r\n",
        "// expected output: 24\r\n",
        "\r\n",
        "// 5 * 1 * 2 * 3 * 4\r\n",
        "console.log(array1.reduce(reducer, 5));\r\n",
        "// expected output: 120"
      ],
      "execution_count": null,
      "outputs": []
    },
    {
      "cell_type": "markdown",
      "metadata": {
        "id": "Kd52BAxSviaR"
      },
      "source": [
        "# いまここ\r\n"
      ]
    }
  ]
}