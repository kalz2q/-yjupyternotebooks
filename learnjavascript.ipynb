{
  "nbformat": 4,
  "nbformat_minor": 0,
  "metadata": {
    "colab": {
      "name": "learnjs.ipynb",
      "provenance": [],
      "toc_visible": true,
      "authorship_tag": "ABX9TyN62cRGx5AbIjxFSOttLtcj",
      "include_colab_link": true
    },
    "kernelspec": {
      "name": "python3",
      "display_name": "Python 3"
    }
  },
  "cells": [
    {
      "cell_type": "markdown",
      "metadata": {
        "id": "view-in-github",
        "colab_type": "text"
      },
      "source": [
        "<a href=\"https://colab.research.google.com/github/kalz2q/mycolabnotebooks/blob/master/learnjavascript.ipynb\" target=\"_parent\"><img src=\"https://colab.research.google.com/assets/colab-badge.svg\" alt=\"Open In Colab\"/></a>"
      ]
    },
    {
      "cell_type": "markdown",
      "metadata": {
        "id": "cG6xXZZ1h0LB"
      },
      "source": [
        "# はじめに、というか\n",
        "\n",
        "参考テキスト \n",
        "https://developer.mozilla.org/ja/docs/Learn/JavaScript/First_steps/What_is_JavaScript\n",
        "\n",
        "`Colab` で `%%javascript` マジック・コマンドを使って、`JavaScript` の勉強をしようと思い立ったのだが、ふつーのテキストにある `alert()` とか `prompt()` とかが使えない。`console.log()` は使えるが、それだといちいち `デベロッパーツール` を開かないといけないよね。\n",
        "\n",
        "デベロッパーツール(Ctrl+Shift+i)を開いてみると、エラーが出てて、たいへん。`Ctrl-L` でクリアーできる。\n",
        "\n",
        "やりたいことは colab のコードセルに javascrip を書いて、セルを実行するとセルの出力欄にアウトプットが出るような形なので、探したら次のようなのがあった。"
      ]
    },
    {
      "cell_type": "code",
      "metadata": {
        "id": "xRuGEUiZjcj4",
        "colab": {
          "base_uri": "https://localhost:8080/",
          "height": 84
        },
        "outputId": "2f1d16be-3bca-4211-b50f-d19647324a5e"
      },
      "source": [
        "%%javascript\n",
        "\n",
        "document.body.style = \"white-space: pre;\"; // このおまじないで\\nが使えるようになる。\n",
        "\n",
        "document.querySelector(\"#output-area\").appendChild(document.createTextNode(\"二行書いたら\\nどうなるか\"));\n",
        "document.querySelector(\"#output-area\").appendChild(document.createTextNode(\"\\n\"));\n",
        "document.querySelector(\"#output-area\").appendChild(document.createTextNode(\"二行目\"));"
      ],
      "execution_count": 45,
      "outputs": [
        {
          "output_type": "display_data",
          "data": {
            "application/javascript": [
              "\n",
              "document.body.style = \"white-space: pre;\"; // このおまじないで\\nが使えるようになる。\n",
              "\n",
              "document.querySelector(\"#output-area\").appendChild(document.createTextNode(\"二行書いたら\\nどうなるか\"));\n",
              "document.querySelector(\"#output-area\").appendChild(document.createTextNode(\"\\n\"));\n",
              "document.querySelector(\"#output-area\").appendChild(document.createTextNode(\"二行目\"));"
            ],
            "text/plain": [
              "<IPython.core.display.Javascript object>"
            ]
          },
          "metadata": {
            "tags": []
          }
        }
      ]
    },
    {
      "cell_type": "markdown",
      "metadata": {
        "id": "bx6QYuqniJoe"
      },
      "source": [
        "別途、`%%script node` というのが使えて、こちらだと `document` とかが使えなくなる代わりに標準出力が使える。"
      ]
    },
    {
      "cell_type": "code",
      "metadata": {
        "id": "SMasVHJ6Zjqx",
        "colab": {
          "base_uri": "https://localhost:8080/"
        },
        "outputId": "d873e551-9472-47de-8839-39d43285497b"
      },
      "source": [
        "%%script node\n",
        "console.log(\"hello node\");\n",
        "console.log(\"二行書いたら\\nどうなるか\");\n",
        "console.log(\"\\n\");\n",
        "console.log(\"二行目\");"
      ],
      "execution_count": 46,
      "outputs": [
        {
          "output_type": "stream",
          "text": [
            "hello node\n",
            "二行書いたら\n",
            "どうなるか\n",
            "\n",
            "\n",
            "二行目\n"
          ],
          "name": "stdout"
        }
      ]
    },
    {
      "cell_type": "markdown",
      "metadata": {
        "id": "QKc4eZ57kb5u"
      },
      "source": [
        "とりあえずこちらの方が簡単だね。 やりながら考えよう。\n",
        "\n",
        "console.log() は出力に改行を自動でつける。"
      ]
    },
    {
      "cell_type": "markdown",
      "metadata": {
        "id": "oIYj_aOhqlA5"
      },
      "source": [
        "# JavaScript はじめの一歩\n",
        "コメントは `//` と `/* */`。つかえるかな。やってみよう。\n"
      ]
    },
    {
      "cell_type": "code",
      "metadata": {
        "id": "Se7x_0xu6cuR",
        "colab": {
          "base_uri": "https://localhost:8080/"
        },
        "outputId": "8c70a581-19bd-49d8-959d-07c05f1e30e2"
      },
      "source": [
        "%%script node\n",
        "\n",
        "// これはコメント\n",
        "\n",
        "/* 何行にも\n",
        "   わたるコメントは\n",
        "   こんな */\n",
        "\n",
        "console.log(\"はろー\");\n",
        "console.log(\"はろー\");"
      ],
      "execution_count": null,
      "outputs": [
        {
          "output_type": "stream",
          "text": [
            "はろー\n",
            "はろー\n"
          ],
          "name": "stdout"
        }
      ]
    },
    {
      "cell_type": "markdown",
      "metadata": {
        "id": "YtCE3SsQ7Ubo"
      },
      "source": [
        "使えた。Python や Ruby の `#` ではなくて、C++ や Java の `//` なのだ。覚えよう。\n",
        "\n",
        "\n"
      ]
    },
    {
      "cell_type": "markdown",
      "metadata": {
        "id": "5ncnkxVIAyOv"
      },
      "source": [
        "%%javascript でもおなじコメントが使えるかおどうか実験してみる。"
      ]
    },
    {
      "cell_type": "code",
      "metadata": {
        "id": "nZnhAD0PwU7C",
        "colab": {
          "base_uri": "https://localhost:8080/",
          "height": 84
        },
        "outputId": "edf0b1bf-8042-440f-fc53-d824903eb974"
      },
      "source": [
        "# 実験\n",
        "%%javascript\n",
        "// これはコメント\n",
        "\n",
        "/* 何行にも\n",
        "わたるコメントは\n",
        "    こんな */\n",
        "\n",
        "document.body.style = \"white-space: pre;\"; // このおまじないで\\nが使えるようになる。\n",
        "\n",
        "document.querySelector(\"#output-area\").appendChild(document.createTextNode(\"二行書いたら\\nどうなるか\"));\n",
        "document.querySelector(\"#output-area\").appendChild(document.createTextNode(\"\\n\"));\n",
        "document.querySelector(\"#output-area\").appendChild(document.createTextNode(\"二行目\"));"
      ],
      "execution_count": null,
      "outputs": [
        {
          "output_type": "display_data",
          "data": {
            "application/javascript": [
              "// これはコメント\n",
              "\n",
              "/* 何行にも\n",
              "わたるコメントは\n",
              "    こんな */\n",
              "\n",
              "document.body.style = \"white-space: pre;\"; // このおまじないで\\nが使えるようになる。\n",
              "\n",
              "document.querySelector(\"#output-area\").appendChild(document.createTextNode(\"二行書いたら\\nどうなるか\"));\n",
              "document.querySelector(\"#output-area\").appendChild(document.createTextNode(\"\\n\"));\n",
              "document.querySelector(\"#output-area\").appendChild(document.createTextNode(\"二行目\"));"
            ],
            "text/plain": [
              "<IPython.core.display.Javascript object>"
            ]
          },
          "metadata": {
            "tags": []
          }
        }
      ]
    },
    {
      "cell_type": "code",
      "metadata": {
        "id": "zEBxfqaXOdWx",
        "colab": {
          "base_uri": "https://localhost:8080/",
          "height": 46
        },
        "outputId": "6a677487-3b44-42bb-89d7-f1a3de7ba5fc"
      },
      "source": [
        "%%html\n",
        "<p>Player 1: Chris</p>"
      ],
      "execution_count": null,
      "outputs": [
        {
          "output_type": "display_data",
          "data": {
            "text/html": [
              "<p>Player 1: Chris</p>"
            ],
            "text/plain": [
              "<IPython.core.display.HTML object>"
            ]
          },
          "metadata": {
            "tags": []
          }
        }
      ]
    },
    {
      "cell_type": "markdown",
      "metadata": {
        "id": "fPBOPCSfBGSh"
      },
      "source": [
        "%%html で、style も使える。"
      ]
    },
    {
      "cell_type": "code",
      "metadata": {
        "id": "PxnAcJiUOmc2",
        "colab": {
          "base_uri": "https://localhost:8080/",
          "height": 56
        },
        "outputId": "a4f3069c-18f9-4ca5-8de9-ff691241b345"
      },
      "source": [
        "%%html\n",
        "<style>\n",
        "p {\n",
        "  font-family: 'helvetica neue', helvetica, sans-serif;\n",
        "  letter-spacing: 1px;\n",
        "  text-transform: uppercase;\n",
        "  text-align: center;\n",
        "  border: 2px solid rgba(0,0,200,0.6);\n",
        "  background: rgba(0,0,200,0.3);\n",
        "  color: rgba(0,0,200,0.6);\n",
        "  box-shadow: 1px 1px 2px rgba(0,0,200,0.4);\n",
        "  border-radius: 10px;\n",
        "  padding: 3px 10px;\n",
        "  display: inline-block;\n",
        "  cursor: pointer;\n",
        "}</style>\n",
        "<p>Player 1: Chris</p>"
      ],
      "execution_count": null,
      "outputs": [
        {
          "output_type": "display_data",
          "data": {
            "text/html": [
              "<style>\n",
              "p {\n",
              "  font-family: 'helvetica neue', helvetica, sans-serif;\n",
              "  letter-spacing: 1px;\n",
              "  text-transform: uppercase;\n",
              "  text-align: center;\n",
              "  border: 2px solid rgba(0,0,200,0.6);\n",
              "  background: rgba(0,0,200,0.3);\n",
              "  color: rgba(0,0,200,0.6);\n",
              "  box-shadow: 1px 1px 2px rgba(0,0,200,0.4);\n",
              "  border-radius: 10px;\n",
              "  padding: 3px 10px;\n",
              "  display: inline-block;\n",
              "  cursor: pointer;\n",
              "}</style>\n",
              "<p>Player 1: Chris</p>"
            ],
            "text/plain": [
              "<IPython.core.display.HTML object>"
            ]
          },
          "metadata": {
            "tags": []
          }
        }
      ]
    },
    {
      "cell_type": "markdown",
      "metadata": {
        "id": "e6HEJ9baBK5A"
      },
      "source": [
        "更に <script> も使える。"
      ]
    },
    {
      "cell_type": "code",
      "metadata": {
        "id": "E9v4HzqBP_Gn",
        "colab": {
          "base_uri": "https://localhost:8080/",
          "height": 56
        },
        "outputId": "2c560461-87c3-4780-b9ba-84dde12bd80b"
      },
      "source": [
        "%%html\n",
        "<style>\n",
        "p {\n",
        "  font-family: 'helvetica neue', helvetica, sans-serif;\n",
        "  letter-spacing: 1px;\n",
        "  text-transform: uppercase;\n",
        "  text-align: center;\n",
        "  border: 2px solid rgba(0,0,200,0.6);\n",
        "  background: rgba(0,0,200,0.3);\n",
        "  color: rgba(0,0,200,0.6);\n",
        "  box-shadow: 1px 1px 2px rgba(0,0,200,0.4);\n",
        "  border-radius: 10px;\n",
        "  padding: 3px 10px;\n",
        "  display: inline-block;\n",
        "  cursor: pointer;\n",
        "}</style>\n",
        "\n",
        "<p>Player 1: Chris</p>\n",
        "\n",
        "<script>\n",
        "const para = document.querySelector('p');\n",
        "\n",
        "para.addEventListener('click', updateName);\n",
        "\n",
        "function updateName() {\n",
        "  //let name = prompt('名前を入力して下さい');\n",
        "  name = \"Bob\";\n",
        "  name = \"Jane\";\n",
        "  para.textContent = 'Player 1: ' + name;\n",
        "}\n",
        "</script>"
      ],
      "execution_count": null,
      "outputs": [
        {
          "output_type": "display_data",
          "data": {
            "text/html": [
              "<style>\n",
              "p {\n",
              "  font-family: 'helvetica neue', helvetica, sans-serif;\n",
              "  letter-spacing: 1px;\n",
              "  text-transform: uppercase;\n",
              "  text-align: center;\n",
              "  border: 2px solid rgba(0,0,200,0.6);\n",
              "  background: rgba(0,0,200,0.3);\n",
              "  color: rgba(0,0,200,0.6);\n",
              "  box-shadow: 1px 1px 2px rgba(0,0,200,0.4);\n",
              "  border-radius: 10px;\n",
              "  padding: 3px 10px;\n",
              "  display: inline-block;\n",
              "  cursor: pointer;\n",
              "}</style>\n",
              "\n",
              "<p>Player 1: Chris</p>\n",
              "\n",
              "<script>\n",
              "const para = document.querySelector('p');\n",
              "\n",
              "para.addEventListener('click', updateName);\n",
              "\n",
              "function updateName() {\n",
              "  //let name = prompt('名前を入力して下さい');\n",
              "  name = \"Bob\";\n",
              "  name = \"Jane\";\n",
              "  para.textContent = 'Player 1: ' + name;\n",
              "}\n",
              "</script>"
            ],
            "text/plain": [
              "<IPython.core.display.HTML object>"
            ]
          },
          "metadata": {
            "tags": []
          }
        }
      ]
    },
    {
      "cell_type": "markdown",
      "metadata": {
        "id": "hAtAaQMljq4Q"
      },
      "source": [
        "この例では javascript の ```  let name = prompt('名前を入力して下さい');``` が機能しないが、ボタンをクリックすると、\"PLAYER 1: CHRIS\" が \"PLAYER 1: NULL\" に変わる。\n",
        "\n",
        "コメントアウトして、name 変数を変えると反映された。"
      ]
    },
    {
      "cell_type": "markdown",
      "metadata": {
        "id": "xXQcRh5eynZV"
      },
      "source": [
        "次の例はそのままでは動かない。"
      ]
    },
    {
      "cell_type": "code",
      "metadata": {
        "id": "qd0yonzppby9",
        "colab": {
          "base_uri": "https://localhost:8080/",
          "height": 39
        },
        "outputId": "7a12219f-b70b-474e-99a0-683044812905"
      },
      "source": [
        "%%html\n",
        "<button>Click me</button>\n",
        "\n",
        "<script>\n",
        "    document.addEventListener(\"DOMContentLoaded\", function () {\n",
        "        function createParagraph() {\n",
        "            let para = document.createElement('p');\n",
        "            para.textContent = 'ボタンが押されました!';\n",
        "            document.body.appendChild(para);\n",
        "        }\n",
        "\n",
        "        const buttons = document.querySelectorAll('button');\n",
        "\n",
        "        for (let i = 0; i < buttons.length; i++) {\n",
        "            buttons[i].addEventListener('click', createParagraph);\n",
        "        }\n",
        "    });\n",
        "</script>"
      ],
      "execution_count": 55,
      "outputs": [
        {
          "output_type": "display_data",
          "data": {
            "text/html": [
              "<button>Click me</button>\n",
              "\n",
              "<script>\n",
              "    document.addEventListener(\"DOMContentLoaded\", function () {\n",
              "        function createParagraph() {\n",
              "            let para = document.createElement('p');\n",
              "            para.textContent = 'ボタンが押されました!';\n",
              "            document.body.appendChild(para);\n",
              "        }\n",
              "\n",
              "        const buttons = document.querySelectorAll('button');\n",
              "\n",
              "        for (let i = 0; i < buttons.length; i++) {\n",
              "            buttons[i].addEventListener('click', createParagraph);\n",
              "        }\n",
              "    });\n",
              "</script>"
            ],
            "text/plain": [
              "<IPython.core.display.HTML object>"
            ]
          },
          "metadata": {
            "tags": []
          }
        }
      ]
    },
    {
      "cell_type": "code",
      "metadata": {
        "id": "KvaEorvCytE-",
        "colab": {
          "base_uri": "https://localhost:8080/",
          "height": 56
        },
        "outputId": "d6ad40d9-0b4d-47d4-d458-e5cb4e51d8c4"
      },
      "source": [
        "# Player 1 を参考に実験\n",
        "%%html\n",
        "<button>Click me</button>\n",
        "\n",
        "<script>\n",
        "    const buttons = document.querySelector('button');\n",
        "    buttons.addEventListener('click', createParagraph);\n",
        "    function createParagraph() {\n",
        "        document.querySelector(\"#output-area\").appendChild(document.createTextNode(\"ハロー!!!!\"));\n",
        "    }\n",
        "</script>"
      ],
      "execution_count": null,
      "outputs": [
        {
          "output_type": "display_data",
          "data": {
            "text/html": [
              "<button>Click me</button>\n",
              "\n",
              "<script>\n",
              "    const buttons = document.querySelector('button');\n",
              "    buttons.addEventListener('click', createParagraph);\n",
              "    function createParagraph() {\n",
              "        document.querySelector(\"#output-area\").appendChild(document.createTextNode(\"ハロー!!!!\"));\n",
              "    }\n",
              "</script>"
            ],
            "text/plain": [
              "<IPython.core.display.HTML object>"
            ]
          },
          "metadata": {
            "tags": []
          }
        }
      ]
    },
    {
      "cell_type": "code",
      "metadata": {
        "id": "ydyDKIeE1s2h",
        "colab": {
          "base_uri": "https://localhost:8080/",
          "height": 68
        },
        "outputId": "7178ad35-35e0-4198-e1d1-8d88aa416423"
      },
      "source": [
        "# 実験\n",
        "%%html\n",
        "<button>Click me</button>\n",
        "\n",
        "<script>\n",
        "    function createParagraph() {\n",
        "        let para = document.createElement('p');\n",
        "        para.textContent = 'ボタンが押されました!';\n",
        "        document.body.appendChild(para);\n",
        "    }\n",
        "\n",
        "    const buttons = document.querySelectorAll('button');\n",
        "\n",
        "    for (let i = 0; i < buttons.length; i++) {\n",
        "        buttons[i].addEventListener('click', createParagraph);\n",
        "    }\n",
        "</script>"
      ],
      "execution_count": 49,
      "outputs": [
        {
          "output_type": "display_data",
          "data": {
            "text/html": [
              "<button>Click me</button>\n",
              "\n",
              "<script>\n",
              "    function createParagraph() {\n",
              "        let para = document.createElement('p');\n",
              "        para.textContent = 'ボタンが押されました!';\n",
              "        document.body.appendChild(para);\n",
              "    }\n",
              "\n",
              "    const buttons = document.querySelectorAll('button');\n",
              "\n",
              "    for (let i = 0; i < buttons.length; i++) {\n",
              "        buttons[i].addEventListener('click', createParagraph);\n",
              "    }\n",
              "</script>"
            ],
            "text/plain": [
              "<IPython.core.display.HTML object>"
            ]
          },
          "metadata": {
            "tags": []
          }
        }
      ]
    },
    {
      "cell_type": "markdown",
      "metadata": {
        "id": "sM-3b4dr2gkv"
      },
      "source": [
        "オッケー!!!! 動いたね!!!!\n",
        "```\n",
        "document.addEventListener(\"DOMContentLoaded\", function() {\n",
        "  ...\n",
        "});\n",
        "```\n",
        "が使えないだけみたい。\n",
        "\n",
        "これは、htmlのbodyが完全に読み込まれてから発動するよ!!!!ということらしくて、たぶん colab の環境では意味がないのだろう。"
      ]
    },
    {
      "cell_type": "markdown",
      "metadata": {
        "id": "lXOD5W6_PgzV"
      },
      "source": [
        "外部から読み込む場合は、`<script src=\"script.js\" defer></script>`という風に`defer`をつけてhtmlの読み込みとの同期をとる。  内部にスクリプトを書くときだけの問題、とのこと。"
      ]
    },
    {
      "cell_type": "markdown",
      "metadata": {
        "id": "Y9edSb5vDeYw"
      },
      "source": [
        "# インライン javascript"
      ]
    },
    {
      "cell_type": "code",
      "metadata": {
        "colab": {
          "base_uri": "https://localhost:8080/",
          "height": 71
        },
        "id": "YPFzrAQgDhyc",
        "outputId": "287b422f-e0ce-479e-84ab-dbc3955fe97d"
      },
      "source": [
        "%%html\n",
        "<button onclick=\"createParagraph()\">押してください</button>\n",
        "\n",
        "<script>\n",
        "function createParagraph() {\n",
        "  let para = document.createElement('p');\n",
        "  para.textContent = 'ボタンが押されました！';\n",
        "  document.body.appendChild(para);\n",
        "}\n",
        "</script>\n"
      ],
      "execution_count": 52,
      "outputs": [
        {
          "output_type": "display_data",
          "data": {
            "text/html": [
              "<button onclick=\"createParagraph()\">押してください</button>\n",
              "\n",
              "<script>\n",
              "function createParagraph() {\n",
              "  let para = document.createElement('p');\n",
              "  para.textContent = 'ボタンが押されました！';\n",
              "  document.body.appendChild(para);\n",
              "}\n",
              "</script>"
            ],
            "text/plain": [
              "<IPython.core.display.HTML object>"
            ]
          },
          "metadata": {
            "tags": []
          }
        }
      ]
    },
    {
      "cell_type": "markdown",
      "metadata": {
        "id": "ZtYl_cM7EIKG"
      },
      "source": [
        "このようにインラインにjavascriptを書くことができるが、やってはいけないとのこと。\n",
        "\n",
        "なぜならば、\n",
        "1. html が汚れる。\n",
        "1. 属性をそれぞれのボタンに書くのは効率が悪い。\n",
        "\n",
        "スクリプト側でbuttonにaddEventListener('click', createParagraph);とするように、とのこと。\n",
        "\n",
        "なるほどね。"
      ]
    },
    {
      "cell_type": "markdown",
      "metadata": {
        "id": "S60qQnzBREen"
      },
      "source": [
        "# いまここ"
      ]
    },
    {
      "cell_type": "markdown",
      "metadata": {
        "id": "bidrpOZ48BaV"
      },
      "source": [
        "# 数あてゲーム\n",
        "\n",
        "次の例が数当てゲームだが、ユーザーとのやりとりはやりたくないので、ゲームとして完成させることはあきらめて、部分部分を見ていこう。関数とか。ランダムの使い方、とか。"
      ]
    },
    {
      "cell_type": "code",
      "metadata": {
        "id": "2b0J8k5m9HWF",
        "colab": {
          "base_uri": "https://localhost:8080/"
        },
        "outputId": "f8b49ef1-003f-425b-e74b-d71101025358"
      },
      "source": [
        "%%script node\n",
        "\n",
        "let randomNumber = Math.floor(Math.random() * 100) + 1;\n",
        "\n",
        "console.log(randomNumber);\n"
      ],
      "execution_count": null,
      "outputs": [
        {
          "output_type": "stream",
          "text": [
            "55\n"
          ],
          "name": "stdout"
        }
      ]
    },
    {
      "cell_type": "markdown",
      "metadata": {
        "id": "xB6QIBcnlt65"
      },
      "source": [
        "# いまここ"
      ]
    },
    {
      "cell_type": "markdown",
      "metadata": {
        "id": "9Uy5HzVoSCoG"
      },
      "source": [
        "# 四則演算\n",
        "\n",
        "加算減算乗算除算は普通。10/3 も普通に float になる。\n",
        "\n",
        "python の `//` に当たるのは `Math.floor()` かな。\n",
        "\n",
        "冪乗は `**` で Python と同じ!!!!"
      ]
    },
    {
      "cell_type": "code",
      "metadata": {
        "id": "g34dIsYgRVAb",
        "colab": {
          "base_uri": "https://localhost:8080/",
          "height": 170
        },
        "outputId": "f949f8dc-6d13-4f19-9ef8-22c49bb2b3a0"
      },
      "source": [
        "%%javascript\n",
        "\n",
        "document.body.style = \"white-space: pre;\";\n",
        "\n",
        "document.querySelector(\"#output-area\").appendChild(document.createTextNode(10/3));\n",
        "document.querySelector(\"#output-area\").appendChild(document.createTextNode(\"\\n\"));\n",
        "document.querySelector(\"#output-area\").appendChild(document.createTextNode(10 % 3));\n",
        "document.querySelector(\"#output-area\").appendChild(document.createTextNode(\"\\n\"));\n",
        "document.querySelector(\"#output-area\").appendChild(document.createTextNode(Math.floor(-10 / 3)));\n",
        "document.querySelector(\"#output-area\").appendChild(document.createTextNode(\"\\n\"));\n",
        "document.querySelector(\"#output-area\").appendChild(document.createTextNode(\"晴れ\"*3));\n",
        "document.querySelector(\"#output-area\").appendChild(document.createTextNode(\"\\n\"));\n",
        "document.querySelector(\"#output-area\").appendChild(document.createTextNode(\"晴れ\" + \"雨\"));\n",
        "document.querySelector(\"#output-area\").appendChild(document.createTextNode(\"\\n\"));\n",
        "document.querySelector(\"#output-area\").appendChild(document.createTextNode(\"晴れ\" == \"晴れ\"));\n",
        "document.querySelector(\"#output-area\").appendChild(document.createTextNode(\"\\n\"));\n",
        "document.querySelector(\"#output-area\").appendChild(document.createTextNode(10**3));\n",
        "document.querySelector(\"#output-area\").appendChild(document.createTextNode(\"\\n\"));\n",
        "document.querySelector(\"#output-area\").appendChild(document.createTextNode(Math.pow(10, 3)));\n",
        "document.querySelector(\"#output-area\").appendChild(document.createTextNode(\"\\n\"));"
      ],
      "execution_count": null,
      "outputs": [
        {
          "output_type": "display_data",
          "data": {
            "application/javascript": [
              "\n",
              "document.body.style = \"white-space: pre;\";\n",
              "\n",
              "document.querySelector(\"#output-area\").appendChild(document.createTextNode(10/3));\n",
              "document.querySelector(\"#output-area\").appendChild(document.createTextNode(\"\\n\"));\n",
              "document.querySelector(\"#output-area\").appendChild(document.createTextNode(10 % 3));\n",
              "document.querySelector(\"#output-area\").appendChild(document.createTextNode(\"\\n\"));\n",
              "document.querySelector(\"#output-area\").appendChild(document.createTextNode(Math.floor(-10 / 3)));\n",
              "document.querySelector(\"#output-area\").appendChild(document.createTextNode(\"\\n\"));\n",
              "document.querySelector(\"#output-area\").appendChild(document.createTextNode(\"晴れ\"*3));\n",
              "document.querySelector(\"#output-area\").appendChild(document.createTextNode(\"\\n\"));\n",
              "document.querySelector(\"#output-area\").appendChild(document.createTextNode(\"晴れ\" + \"雨\"));\n",
              "document.querySelector(\"#output-area\").appendChild(document.createTextNode(\"\\n\"));\n",
              "document.querySelector(\"#output-area\").appendChild(document.createTextNode(\"晴れ\" == \"晴れ\"));\n",
              "document.querySelector(\"#output-area\").appendChild(document.createTextNode(\"\\n\"));\n",
              "document.querySelector(\"#output-area\").appendChild(document.createTextNode(10**3));\n",
              "document.querySelector(\"#output-area\").appendChild(document.createTextNode(\"\\n\"));\n",
              "document.querySelector(\"#output-area\").appendChild(document.createTextNode(Math.pow(10, 3)));\n",
              "document.querySelector(\"#output-area\").appendChild(document.createTextNode(\"\\n\"));"
            ],
            "text/plain": [
              "<IPython.core.display.Javascript object>"
            ]
          },
          "metadata": {
            "tags": []
          }
        }
      ]
    },
    {
      "cell_type": "markdown",
      "metadata": {
        "id": "6fRc3i3Hq2zo"
      },
      "source": [
        "なにもわからないけど関数をつくってみよう。"
      ]
    },
    {
      "cell_type": "code",
      "metadata": {
        "id": "syXRslzRrIqT",
        "colab": {
          "base_uri": "https://localhost:8080/",
          "height": 34
        },
        "outputId": "96d47968-742b-4092-b463-f917d188301c"
      },
      "source": [
        "%%javascript\n",
        "\n",
        "function checkGuess() {\n",
        "    return \"This is checkGuess()\"\n",
        "};\n",
        "\n",
        "document.querySelector(\"#output-area\").appendChild(document.createTextNode(checkGuess()));"
      ],
      "execution_count": null,
      "outputs": [
        {
          "output_type": "display_data",
          "data": {
            "application/javascript": [
              "\n",
              "function checkGuess() {\n",
              "    return \"This is checkGuess()\"\n",
              "};\n",
              "\n",
              "document.querySelector(\"#output-area\").appendChild(document.createTextNode(checkGuess()));"
            ],
            "text/plain": [
              "<IPython.core.display.Javascript object>"
            ]
          },
          "metadata": {
            "tags": []
          }
        }
      ]
    },
    {
      "cell_type": "markdown",
      "metadata": {
        "id": "v1G5viwVra3B"
      },
      "source": [
        "とりあえず `function funcname () {}` で関数が作れるらしい。`return` で返り値を指定できる。"
      ]
    },
    {
      "cell_type": "code",
      "metadata": {
        "id": "TV6kQEpTr1dc",
        "colab": {
          "base_uri": "https://localhost:8080/",
          "height": 34
        },
        "outputId": "9a46409f-f760-4e93-8ff3-711332a3b8c6"
      },
      "source": [
        "%%javascript\n",
        "\n",
        "function checkGuess (answer, guess, count) {\n",
        "    count = count + 1;\n",
        "    if (answer == guess) {\n",
        "        return \"hit!!!!\";\n",
        "    } else {\n",
        "        return \"wrong!!!!\";\n",
        "    }\n",
        "};\n",
        "\n",
        "document.querySelector(\"#output-area\").appendChild(document.createTextNode(checkGuess(3, 2, 1)));"
      ],
      "execution_count": null,
      "outputs": [
        {
          "output_type": "display_data",
          "data": {
            "application/javascript": [
              "\n",
              "function checkGuess (answer, guess, count) {\n",
              "    count = count + 1;\n",
              "    if (answer == guess) {\n",
              "        return \"hit!!!!\";\n",
              "    } else {\n",
              "        return \"wrong!!!!\";\n",
              "    }\n",
              "};\n",
              "\n",
              "document.querySelector(\"#output-area\").appendChild(document.createTextNode(checkGuess(3, 2, 1)));"
            ],
            "text/plain": [
              "<IPython.core.display.Javascript object>"
            ]
          },
          "metadata": {
            "tags": []
          }
        }
      ]
    },
    {
      "cell_type": "markdown",
      "metadata": {
        "id": "eaV-V8CEs_Ye"
      },
      "source": [
        "引数を指定できる。`if () {} else {}` もだいたい予想どおり。"
      ]
    },
    {
      "cell_type": "markdown",
      "metadata": {
        "id": "xi5y8ZoHtVID"
      },
      "source": [
        "文字列の結合に `+` が使える。文字列の繰り返しに `*` は使えない。\n"
      ]
    },
    {
      "cell_type": "code",
      "metadata": {
        "id": "CIwS8zGNtqme",
        "colab": {
          "base_uri": "https://localhost:8080/",
          "height": 85
        },
        "outputId": "051d6b2c-3881-4429-d512-b3aaf06137dc"
      },
      "source": [
        "%%javascript\n",
        "\n",
        "document.body.style = \"white-space: pre;\";\n",
        "\n",
        "document.querySelector(\"#output-area\").appendChild(document.createTextNode(3 == '3'));\n",
        "document.querySelector(\"#output-area\").appendChild(document.createTextNode(\"\\n\"));\n",
        "document.querySelector(\"#output-area\").appendChild(document.createTextNode(3 === '3'));\n",
        "document.querySelector(\"#output-area\").appendChild(document.createTextNode(\"\\n\"));\n",
        "document.querySelector(\"#output-area\").appendChild(document.createTextNode(3 === 3));"
      ],
      "execution_count": null,
      "outputs": [
        {
          "output_type": "display_data",
          "data": {
            "application/javascript": [
              "\n",
              "document.body.style = \"white-space: pre;\";\n",
              "\n",
              "document.querySelector(\"#output-area\").appendChild(document.createTextNode(3 == '3'));\n",
              "document.querySelector(\"#output-area\").appendChild(document.createTextNode(\"\\n\"));\n",
              "document.querySelector(\"#output-area\").appendChild(document.createTextNode(3 === '3'));\n",
              "document.querySelector(\"#output-area\").appendChild(document.createTextNode(\"\\n\"));\n",
              "document.querySelector(\"#output-area\").appendChild(document.createTextNode(3 === 3));"
            ],
            "text/plain": [
              "<IPython.core.display.Javascript object>"
            ]
          },
          "metadata": {
            "tags": []
          }
        }
      ]
    },
    {
      "cell_type": "markdown",
      "metadata": {
        "id": "NHZJIdEUuRQk"
      },
      "source": [
        "同等かどうか調べるのに比較演算子が2種類ある、`==` と `===` 。\n",
        "\n",
        "型の確認もしてくれるように、`===` と `!==` を使うように、と MDN は言っている。"
      ]
    },
    {
      "cell_type": "markdown",
      "metadata": {
        "id": "rR5jvtDhvV6e"
      },
      "source": [
        "オブジェクトについて。実験。"
      ]
    },
    {
      "cell_type": "code",
      "metadata": {
        "id": "8xkt7_6Evanq",
        "colab": {
          "base_uri": "https://localhost:8080/",
          "height": 51
        },
        "outputId": "d5483390-75a1-4af6-fbaa-e4a90b25a60b"
      },
      "source": [
        "%%javascript\n",
        "\n",
        "document.body.style = \"white-space: pre;\";\n",
        "\n",
        "outputField = document.querySelector(\"#output-area\");\n",
        "\n",
        "outputField.value = \"Hello!!!!\";\n",
        "\n",
        "outputField.appendChild(document.createTextNode(outputField.value));\n",
        "outputField.appendChild(document.createTextNode(\"\\n\"));"
      ],
      "execution_count": null,
      "outputs": [
        {
          "output_type": "display_data",
          "data": {
            "application/javascript": [
              "\n",
              "document.body.style = \"white-space: pre;\";\n",
              "\n",
              "outputField = document.querySelector(\"#output-area\");\n",
              "\n",
              "outputField.value = \"Hello!!!!\";\n",
              "\n",
              "outputField.appendChild(document.createTextNode(outputField.value));\n",
              "outputField.appendChild(document.createTextNode(\"\\n\"));"
            ],
            "text/plain": [
              "<IPython.core.display.Javascript object>"
            ]
          },
          "metadata": {
            "tags": []
          }
        }
      ]
    },
    {
      "cell_type": "markdown",
      "metadata": {
        "id": "qXacWFruwxir"
      },
      "source": [
        "`style` プロパティを変えて出力を変えるのはできるか? 実験。\n",
        "\n",
        "=> よくわからないが、できなかった。"
      ]
    },
    {
      "cell_type": "markdown",
      "metadata": {
        "id": "5Ts6rFfgCIEV"
      },
      "source": [
        "# 変数\n",
        "変数に値を格納する。変数は `let` で宣言する。宣言されていない変数はエラーとなる。\n",
        "\n",
        "変数の宣言にかつては `var` が使われて、いまも使えるが使わないこと。なぜなら `var` は同じ変数を2回宣言できてしまうから。\n",
        "\n",
        "正しくは、\n",
        "> let myName = 'Chris';  \n",
        "> myName = 'Bob';\n",
        "とする。\n"
      ]
    },
    {
      "cell_type": "code",
      "metadata": {
        "id": "tjEiQeTvC0Zd",
        "colab": {
          "base_uri": "https://localhost:8080/",
          "height": 69
        },
        "outputId": "442c8831-4f39-4d4b-f296-5a3944be8294"
      },
      "source": [
        "%%javascript\n",
        "\n",
        "let myName;\n",
        "let myAge;\n",
        "\n",
        "document.body.style = \"white-space: pre;\";\n",
        "\n",
        "outputField = document.querySelector(\"#output-area\");\n",
        "\n",
        "outputField.appendChild(document.createTextNode(myName));\n",
        "outputField.appendChild(document.createTextNode(\"\\n\"));\n",
        "outputField.appendChild(document.createTextNode(myAge));\n",
        "outputField.appendChild(document.createTextNode(\"\\n\"));\n",
        "outputField.appendChild(document.createTextNode(scoobyDoo));\n",
        "outputField.appendChild(document.createTextNode(\"\\n\"));"
      ],
      "execution_count": null,
      "outputs": [
        {
          "output_type": "display_data",
          "data": {
            "application/javascript": [
              "\n",
              "let myName;\n",
              "let myAge;\n",
              "\n",
              "document.body.style = \"white-space: pre;\";\n",
              "\n",
              "outputField = document.querySelector(\"#output-area\");\n",
              "\n",
              "outputField.appendChild(document.createTextNode(myName));\n",
              "outputField.appendChild(document.createTextNode(\"\\n\"));\n",
              "outputField.appendChild(document.createTextNode(myAge));\n",
              "outputField.appendChild(document.createTextNode(\"\\n\"));\n",
              "outputField.appendChild(document.createTextNode(scoobyDoo));\n",
              "outputField.appendChild(document.createTextNode(\"\\n\"));"
            ],
            "text/plain": [
              "<IPython.core.display.Javascript object>"
            ]
          },
          "metadata": {
            "tags": []
          }
        }
      ]
    },
    {
      "cell_type": "markdown",
      "metadata": {
        "id": "U36GT157D0HL"
      },
      "source": [
        "デベロッパーツールのコンソールに `scoobyDo iｓ undefined` と出ている。同じ庵でファインドでみ意味が違うね。"
      ]
    },
    {
      "cell_type": "code",
      "metadata": {
        "id": "cqmFjvVRDztY",
        "colab": {
          "base_uri": "https://localhost:8080/",
          "height": 69
        },
        "outputId": "61815438-060d-4302-8bf7-01013549ef1c"
      },
      "source": [
        "%%javascript\n",
        "\n",
        "let myName = \"Taro\";\n",
        "let myAge = 37;\n",
        "\n",
        "myName = \"Jiro\"\n",
        "\n",
        "document.body.style = \"white-space: pre;\";\n",
        "\n",
        "outputField = document.querySelector(\"#output-area\");\n",
        "\n",
        "outputField.appendChild(document.createTextNode(myName));\n",
        "outputField.appendChild(document.createTextNode(\"\\n\"));\n",
        "outputField.appendChild(document.createTextNode(myAge));\n",
        "outputField.appendChild(document.createTextNode(\"\\n\"));"
      ],
      "execution_count": null,
      "outputs": [
        {
          "output_type": "display_data",
          "data": {
            "application/javascript": [
              "\n",
              "let myName = \"Taro\";\n",
              "let myAge = 37;\n",
              "\n",
              "myName = \"Jiro\"\n",
              "\n",
              "document.body.style = \"white-space: pre;\";\n",
              "\n",
              "outputField = document.querySelector(\"#output-area\");\n",
              "\n",
              "outputField.appendChild(document.createTextNode(myName));\n",
              "outputField.appendChild(document.createTextNode(\"\\n\"));\n",
              "outputField.appendChild(document.createTextNode(myAge));\n",
              "outputField.appendChild(document.createTextNode(\"\\n\"));"
            ],
            "text/plain": [
              "<IPython.core.display.Javascript object>"
            ]
          },
          "metadata": {
            "tags": []
          }
        }
      ]
    },
    {
      "cell_type": "markdown",
      "metadata": {
        "id": "MHK1dlhuLETy"
      },
      "source": [
        "定数の宣言には `const` を使う。`const` で宣言された定数は変更できない。"
      ]
    },
    {
      "cell_type": "markdown",
      "metadata": {
        "id": "l6QNDuM2Hf7f"
      },
      "source": [
        "# 配列\n",
        "配列にデータ型を混在できるか。"
      ]
    },
    {
      "cell_type": "code",
      "metadata": {
        "id": "Q-MXCqgvHntd",
        "colab": {
          "base_uri": "https://localhost:8080/",
          "height": 69
        },
        "outputId": "e6fc2aa4-49b3-459a-a713-7b5278d932e7"
      },
      "source": [
        "%%javascript\n",
        "\n",
        "let myNameArray = ['Chris', 'Bob', 'Jim', 37];\n",
        "let myNumberArray = [10, 15, 40];\n",
        "\n",
        "let myName = myNameArray[0];\n",
        "let myAge = myNameArray[3];\n",
        "\n",
        "\n",
        "document.body.style = \"white-space: pre;\";\n",
        "\n",
        "outputField = document.querySelector(\"#output-area\");\n",
        "\n",
        "outputField.appendChild(document.createTextNode(myName));\n",
        "outputField.appendChild(document.createTextNode(\"\\n\"));\n",
        "outputField.appendChild(document.createTextNode(myAge));\n",
        "outputField.appendChild(document.createTextNode(\"\\n\"));"
      ],
      "execution_count": null,
      "outputs": [
        {
          "output_type": "display_data",
          "data": {
            "application/javascript": [
              "\n",
              "let myNameArray = ['Chris', 'Bob', 'Jim', 37];\n",
              "let myNumberArray = [10, 15, 40];\n",
              "\n",
              "let myName = myNameArray[0];\n",
              "let myAge = myNameArray[3];\n",
              "\n",
              "\n",
              "document.body.style = \"white-space: pre;\";\n",
              "\n",
              "outputField = document.querySelector(\"#output-area\");\n",
              "\n",
              "outputField.appendChild(document.createTextNode(myName));\n",
              "outputField.appendChild(document.createTextNode(\"\\n\"));\n",
              "outputField.appendChild(document.createTextNode(myAge));\n",
              "outputField.appendChild(document.createTextNode(\"\\n\"));"
            ],
            "text/plain": [
              "<IPython.core.display.Javascript object>"
            ]
          },
          "metadata": {
            "tags": []
          }
        }
      ]
    },
    {
      "cell_type": "markdown",
      "metadata": {
        "id": "zCwlu-aTIGJ_"
      },
      "source": [
        "混在できたし、変数は型を気にしていないみたい。\n",
        "\n",
        "javascript ではリストと呼ばずに配列 `array` と呼ぶのだね。\n"
      ]
    },
    {
      "cell_type": "markdown",
      "metadata": {
        "id": "qaGaLLw7IXG6"
      },
      "source": [
        "# オブジェクト\n",
        "\n",
        "let dog = { name : 'ポチ', breed : 'ダルメシアン' };\n",
        "\n",
        "って、これ Python で言う辞書、連想配列 association array, hash, Elm なら record のことだよね。オブジェクトとはこれまた。\n",
        "\n",
        "`typeof()` というので型を調べられるらしいのでホントにオブジェクトというのか確認する。"
      ]
    },
    {
      "cell_type": "code",
      "metadata": {
        "id": "KDf1K4zbO-jc",
        "colab": {
          "base_uri": "https://localhost:8080/",
          "height": 86
        },
        "outputId": "c5f9254b-cab8-40e7-fbfb-170f489775b9"
      },
      "source": [
        "%%javascript\n",
        "\n",
        "let myNameArray = ['Chris', 'Bob', 'Jim', 37];\n",
        "\n",
        "let myAge = myNameArray[3];\n",
        "\n",
        "let dog = { name : 'ポチ', breed : 'ダルメシアン' };\n",
        "\n",
        "document.body.style = \"white-space: pre;\";\n",
        "\n",
        "outputField = document.querySelector(\"#output-area\");\n",
        "\n",
        "outputField.appendChild(document.createTextNode(typeof myAge));\n",
        "outputField.appendChild(document.createTextNode(\"\\n\"));\n",
        "outputField.appendChild(document.createTextNode(typeof myNameArray));\n",
        "outputField.appendChild(document.createTextNode(\"\\n\"));\n",
        "outputField.appendChild(document.createTextNode(typeof dog));\n",
        "outputField.appendChild(document.createTextNode(\"\\n\"));"
      ],
      "execution_count": null,
      "outputs": [
        {
          "output_type": "display_data",
          "data": {
            "application/javascript": [
              "\n",
              "let myNameArray = ['Chris', 'Bob', 'Jim', 37];\n",
              "\n",
              "let myAge = myNameArray[3];\n",
              "\n",
              "let dog = { name : 'ポチ', breed : 'ダルメシアン' };\n",
              "\n",
              "document.body.style = \"white-space: pre;\";\n",
              "\n",
              "outputField = document.querySelector(\"#output-area\");\n",
              "\n",
              "outputField.appendChild(document.createTextNode(typeof myAge));\n",
              "outputField.appendChild(document.createTextNode(\"\\n\"));\n",
              "outputField.appendChild(document.createTextNode(typeof myNameArray));\n",
              "outputField.appendChild(document.createTextNode(\"\\n\"));\n",
              "outputField.appendChild(document.createTextNode(typeof dog));\n",
              "outputField.appendChild(document.createTextNode(\"\\n\"));"
            ],
            "text/plain": [
              "<IPython.core.display.Javascript object>"
            ]
          },
          "metadata": {
            "tags": []
          }
        }
      ]
    },
    {
      "cell_type": "markdown",
      "metadata": {
        "id": "UKANZ_CyP5YG"
      },
      "source": [
        "数字は `number` でしかなくて、配列も連想配列も `object` だ!!!\n",
        "\n",
        "ということは整数と浮動小数点数の区別がなくて、リストと配列と連想配列も `typeof` で見る限りは区別がない。"
      ]
    },
    {
      "cell_type": "markdown",
      "metadata": {
        "id": "Uq7GAzDgQY2Y"
      },
      "source": [
        "# みんな数学が大好き\n"
      ]
    },
    {
      "cell_type": "markdown",
      "metadata": {
        "id": "uwK9lmu8dKv_"
      },
      "source": [
        "# インクリメント・デクリメント"
      ]
    },
    {
      "cell_type": "code",
      "metadata": {
        "id": "CmToiAJndLiS",
        "colab": {
          "base_uri": "https://localhost:8080/",
          "height": 136
        },
        "outputId": "1343b2d2-e341-46f7-dfc1-28530c84bb28"
      },
      "source": [
        "%%javascript\n",
        "\n",
        "document.body.style = \"white-space: pre;\";\n",
        "\n",
        "let num = 3\n",
        "\n",
        "document.querySelector(\"#output-area\").appendChild(document.createTextNode(num));\n",
        "document.querySelector(\"#output-area\").appendChild(document.createTextNode(\"\\n\"));\n",
        "document.querySelector(\"#output-area\").appendChild(document.createTextNode(num++));\n",
        "document.querySelector(\"#output-area\").appendChild(document.createTextNode(\"\\n\"));\n",
        "document.querySelector(\"#output-area\").appendChild(document.createTextNode(num--));\n",
        "document.querySelector(\"#output-area\").appendChild(document.createTextNode(\"\\n\"));\n",
        "document.querySelector(\"#output-area\").appendChild(document.createTextNode(num));\n",
        "document.querySelector(\"#output-area\").appendChild(document.createTextNode(\"\\n\"));\n",
        "document.querySelector(\"#output-area\").appendChild(document.createTextNode(--num));\n",
        "document.querySelector(\"#output-area\").appendChild(document.createTextNode(\"\\n\"));\n",
        "document.querySelector(\"#output-area\").appendChild(document.createTextNode(num));\n",
        "document.querySelector(\"#output-area\").appendChild(document.createTextNode(\"\\n\"));"
      ],
      "execution_count": null,
      "outputs": [
        {
          "output_type": "display_data",
          "data": {
            "application/javascript": [
              "\n",
              "document.body.style = \"white-space: pre;\";\n",
              "\n",
              "let num = 3\n",
              "\n",
              "document.querySelector(\"#output-area\").appendChild(document.createTextNode(num));\n",
              "document.querySelector(\"#output-area\").appendChild(document.createTextNode(\"\\n\"));\n",
              "document.querySelector(\"#output-area\").appendChild(document.createTextNode(num++));\n",
              "document.querySelector(\"#output-area\").appendChild(document.createTextNode(\"\\n\"));\n",
              "document.querySelector(\"#output-area\").appendChild(document.createTextNode(num--));\n",
              "document.querySelector(\"#output-area\").appendChild(document.createTextNode(\"\\n\"));\n",
              "document.querySelector(\"#output-area\").appendChild(document.createTextNode(num));\n",
              "document.querySelector(\"#output-area\").appendChild(document.createTextNode(\"\\n\"));\n",
              "document.querySelector(\"#output-area\").appendChild(document.createTextNode(--num));\n",
              "document.querySelector(\"#output-area\").appendChild(document.createTextNode(\"\\n\"));\n",
              "document.querySelector(\"#output-area\").appendChild(document.createTextNode(num));\n",
              "document.querySelector(\"#output-area\").appendChild(document.createTextNode(\"\\n\"));"
            ],
            "text/plain": [
              "<IPython.core.display.Javascript object>"
            ]
          },
          "metadata": {
            "tags": []
          }
        }
      ]
    },
    {
      "cell_type": "markdown",
      "metadata": {
        "id": "poUWlVLIfxNt"
      },
      "source": [
        "# 文字列、数値変換\n",
        "\n",
        "`Number()`、`String()`、`toString()`とか。\n",
        "\n",
        "演算子で '19' + '67' とかすると、文字列になる。\n",
        "\n"
      ]
    },
    {
      "cell_type": "markdown",
      "metadata": {
        "id": "EjXkO3rp8Bm2"
      },
      "source": [
        "### 文字列の長さを調べる\n",
        "\n",
        "`length` プロパティを使う。プロパティ? オブジェクトはメソッドとプロパティを持つのか。なるほど。\n",
        "\n",
        "### 最後の文字を取得する\n",
        "\n",
        "`aString[aString.length - 1]` だって。ということは Python[-1] みたいのは使えないのか。=> 使えない。\n",
        "\n",
        "`indexOf()` はメソッドで、探す文字列がなかった場合 `-1` を返す。\n",
        "\n",
        "そそ、true or false で数値の扱いはどうなっているのか。"
      ]
    },
    {
      "cell_type": "code",
      "metadata": {
        "id": "WYvEdXXt-91N",
        "colab": {
          "base_uri": "https://localhost:8080/",
          "height": 51
        },
        "outputId": "cd65124c-07b2-47d7-a184-8899b80c1a5a"
      },
      "source": [
        "%%javascript\n",
        "\n",
        "document.body.style = \"white-space: pre;\";\n",
        "\n",
        "if (-1) {\n",
        "    document.querySelector(\"#output-area\").appendChild(document.createTextNode(\"Too true!!!!\"));\n",
        "} else {\n",
        "    document.querySelector(\"#output-area\").appendChild(document.createTextNode(\"false\"));\n",
        "}\n",
        "document.querySelector(\"#output-area\").appendChild(document.createTextNode(\"\\n\"));\n"
      ],
      "execution_count": null,
      "outputs": [
        {
          "output_type": "display_data",
          "data": {
            "application/javascript": [
              "\n",
              "document.body.style = \"white-space: pre;\";\n",
              "\n",
              "\n",
              "\n",
              "if (-1) {\n",
              "    document.querySelector(\"#output-area\").appendChild(document.createTextNode(\"Too true!!!!\"));\n",
              "} else {\n",
              "    document.querySelector(\"#output-area\").appendChild(document.createTextNode(\"false\"));\n",
              "}\n",
              "document.querySelector(\"#output-area\").appendChild(document.createTextNode(\"\\n\"));\n",
              "\n",
              "let something = false;\n",
              "\n",
              "gh = something();\n",
              "\n",
              "if (gh) {\n",
              "    document.querySelector(\"#output-area\").appendChild(document.createTextNode(\"Too true!!!!\"));\n",
              "} else {\n",
              "    document.querySelector(\"#output-area\").appendChild(document.createTextNode(\"false\"));\n",
              "}\n",
              "document.querySelector(\"#output-area\").appendChild(document.createTextNode(\"\\n\"));"
            ],
            "text/plain": [
              "<IPython.core.display.Javascript object>"
            ]
          },
          "metadata": {
            "tags": []
          }
        }
      ]
    },
    {
      "cell_type": "markdown",
      "metadata": {
        "id": "1Oer_s5F_5Ml"
      },
      "source": [
        "Python では数値はゼロ以外はTrue、文字列は `\"\"` 以外はTrue、`()`、`[]`、`{}`、以外がTrue。あと `None` はFalse。\n",
        "\n",
        "しかし!!!!\n",
        "\n",
        "JavaScript は以下以外はすべて true;\n",
        "\n",
        "・数値 0、NaN\n",
        "・null\n",
        "・undifined\n",
        "・空文字列\n",
        "\n",
        "ということは、`[]`、`{}` は true。\n",
        "\n"
      ]
    },
    {
      "cell_type": "markdown",
      "metadata": {
        "id": "muLsfUNbGRg4"
      },
      "source": [
        "### 問題 クリスマスカード"
      ]
    },
    {
      "cell_type": "code",
      "metadata": {
        "id": "eGIBg74tGV31",
        "colab": {
          "base_uri": "https://localhost:8080/",
          "height": 68
        },
        "outputId": "19560282-7818-4036-881d-a4cd0af8c42b"
      },
      "source": [
        "%%javascript\n",
        "\n",
        "const list = document.querySelector(\"#output-area\");\n",
        "list.innerHTML = '';\n",
        "let greetings = ['Happy Birthday!',\n",
        "                 'Merry Christmas my love',\n",
        "                 'A happy Christmas to all the family',\n",
        "                 'You\\'re all I want for Christmas',\n",
        "                 'Get well soon'];\n",
        "\n",
        "for (let i = 0; i < greetings.length; i++) {\n",
        "  let input = greetings[i];\n",
        "  // 以下の条件の括弧内の内容を書き換えて下さい\n",
        "  if (greetings[i].indexOf(\"Christmas\") !== -1) {\n",
        "    let listItem = document.createElement('li');\n",
        "    listItem.textContent = input;\n",
        "    list.appendChild(listItem);\n",
        "  }\n",
        "}\n"
      ],
      "execution_count": null,
      "outputs": [
        {
          "output_type": "display_data",
          "data": {
            "application/javascript": [
              "\n",
              "const list = document.querySelector(\"#output-area\");\n",
              "list.innerHTML = '';\n",
              "let greetings = ['Happy Birthday!',\n",
              "                 'Merry Christmas my love',\n",
              "                 'A happy Christmas to all the family',\n",
              "                 'You\\'re all I want for Christmas',\n",
              "                 'Get well soon'];\n",
              "\n",
              "for (let i = 0; i < greetings.length; i++) {\n",
              "  let input = greetings[i];\n",
              "  // 以下の条件の括弧内の内容を書き換えて下さい\n",
              "  if (greetings[i].indexOf(\"Christmas\") !== -1) {\n",
              "    let listItem = document.createElement('li');\n",
              "    listItem.textContent = input;\n",
              "    list.appendChild(listItem);\n",
              "  }\n",
              "}"
            ],
            "text/plain": [
              "<IPython.core.display.Javascript object>"
            ]
          },
          "metadata": {
            "tags": []
          }
        }
      ]
    },
    {
      "cell_type": "markdown",
      "metadata": {
        "id": "7eddOXZTKqs5"
      },
      "source": [
        "問題もなんだけど、`document.createElement('li');` がおもしろい。これを使っていままで `document.body.style = \"white-space: pre;\";` でやっていたことが変えられるのではないか。"
      ]
    },
    {
      "cell_type": "code",
      "metadata": {
        "id": "cUvQVSDsKqIc",
        "colab": {
          "base_uri": "https://localhost:8080/",
          "height": 68
        },
        "outputId": "b31d2c97-81d7-4f07-8d92-1fc93718ca33"
      },
      "source": [
        "%%javascript\n",
        "\n",
        "const list = document.querySelector(\"#output-area\");\n",
        "list.innerHTML = '';\n",
        "document.body.style = \"white-space: pre;\";\n",
        "\n",
        "function print (str) {\n",
        "    let item = document.createElement('div');\n",
        "    item.textContent = str;\n",
        "    list.appendChild(item);\n",
        "};\n",
        "\n",
        "print (\"二行書いたら\\nどうなるか\");\n",
        "print (\"二行目\");"
      ],
      "execution_count": null,
      "outputs": [
        {
          "output_type": "display_data",
          "data": {
            "application/javascript": [
              "\n",
              "const list = document.querySelector(\"#output-area\");\n",
              "list.innerHTML = '';\n",
              "document.body.style = \"white-space: pre;\";\n",
              "\n",
              "function print (str) {\n",
              "    let item = document.createElement('div');\n",
              "    item.textContent = str;\n",
              "    list.appendChild(item);\n",
              "};\n",
              "\n",
              "print (\"二行書いたら\\nどうなるか\");\n",
              "print (\"二行目\");"
            ],
            "text/plain": [
              "<IPython.core.display.Javascript object>"
            ]
          },
          "metadata": {
            "tags": []
          }
        }
      ]
    },
    {
      "cell_type": "markdown",
      "metadata": {
        "id": "ZxIPCOMlXIh_"
      },
      "source": [
        "うん。いい感じなので、これにしよう。ぜんぶ書き換えか? "
      ]
    },
    {
      "cell_type": "code",
      "metadata": {
        "id": "BVwCzuMlXYd8",
        "colab": {
          "base_uri": "https://localhost:8080/",
          "height": 68
        },
        "outputId": "1f31e588-e02c-48f8-ac27-eda67c256254"
      },
      "source": [
        "%%javascript\n",
        "\n",
        "const list = document.querySelector(\"#output-area\");\n",
        "list.innerHTML = '';\n",
        "document.body.style = \"white-space: pre;\";\n",
        "\n",
        "function print (str) {\n",
        "    let item = document.createElement('div');\n",
        "    item.textContent = str;\n",
        "    list.appendChild(item);\n",
        "};\n",
        "\n",
        "let greetings = ['Happy Birthday!',\n",
        "                 'Merry Christmas my love',\n",
        "                 'A happy Christmas to all the family',\n",
        "                 'You\\'re all I want for Christmas',\n",
        "                 'Get well soon'];\n",
        "\n",
        "for (let i = 0; i < greetings.length; i++) {\n",
        "  let input = greetings[i];\n",
        "  // 以下の条件の括弧内の内容を書き換えて下さい\n",
        "  if (greetings[i].indexOf(\"Christmas\") !== -1) {\n",
        "    print(input)\n",
        "  }\n",
        "}\n"
      ],
      "execution_count": null,
      "outputs": [
        {
          "output_type": "display_data",
          "data": {
            "application/javascript": [
              "\n",
              "const list = document.querySelector(\"#output-area\");\n",
              "list.innerHTML = '';\n",
              "document.body.style = \"white-space: pre;\";\n",
              "\n",
              "function print (str) {\n",
              "    let item = document.createElement('div');\n",
              "    item.textContent = str;\n",
              "    list.appendChild(item);\n",
              "};\n",
              "\n",
              "let greetings = ['Happy Birthday!',\n",
              "                 'Merry Christmas my love',\n",
              "                 'A happy Christmas to all the family',\n",
              "                 'You\\'re all I want for Christmas',\n",
              "                 'Get well soon'];\n",
              "\n",
              "for (let i = 0; i < greetings.length; i++) {\n",
              "  let input = greetings[i];\n",
              "  // 以下の条件の括弧内の内容を書き換えて下さい\n",
              "  if (greetings[i].indexOf(\"Christmas\") !== -1) {\n",
              "    print(input)\n",
              "  }\n",
              "}"
            ],
            "text/plain": [
              "<IPython.core.display.Javascript object>"
            ]
          },
          "metadata": {
            "tags": []
          }
        }
      ]
    },
    {
      "cell_type": "markdown",
      "metadata": {
        "id": "M-1hGOHxX0y3"
      },
      "source": [
        "オッケーですね。"
      ]
    },
    {
      "cell_type": "markdown",
      "metadata": {
        "id": "nNYTWEwQYDAr"
      },
      "source": [
        "### 問題 都市名\n",
        "\n",
        "最初を大文字に、それ以降を小文字にする。"
      ]
    },
    {
      "cell_type": "code",
      "metadata": {
        "id": "tJI4HijtYLpt",
        "colab": {
          "base_uri": "https://localhost:8080/",
          "height": 85
        },
        "outputId": "dceb283d-daa7-42cb-e21e-41ee74b1f23d"
      },
      "source": [
        "%%javascript\n",
        "\n",
        "const list = document.querySelector(\"#output-area\");\n",
        "list.innerHTML = '';\n",
        "document.body.style = \"white-space: pre;\";\n",
        "\n",
        "function print (str) {\n",
        "    let item = document.createElement('div');\n",
        "    item.textContent = str;\n",
        "    list.appendChild(item);\n",
        "};\n",
        "\n",
        "let cities = ['lonDon', 'ManCHESTer', 'BiRmiNGHAM', 'liVERpoOL'];\n",
        "\n",
        "for(var i = 0; i < cities.length; i++) {\n",
        "  var input = cities[i];\n",
        "//   この下にコードを書いて下さい\n",
        "  input = input.toLowerCase();\n",
        "  head = input[0]\n",
        "  input = input.replace(head, head.toUpperCase());\n",
        "\n",
        "  let result = input;\n",
        "\n",
        "  print(result);\n",
        "}"
      ],
      "execution_count": null,
      "outputs": [
        {
          "output_type": "display_data",
          "data": {
            "application/javascript": [
              "\n",
              "const list = document.querySelector(\"#output-area\");\n",
              "list.innerHTML = '';\n",
              "document.body.style = \"white-space: pre;\";\n",
              "\n",
              "function print (str) {\n",
              "    let item = document.createElement('div');\n",
              "    item.textContent = str;\n",
              "    list.appendChild(item);\n",
              "};\n",
              "\n",
              "let cities = ['lonDon', 'ManCHESTer', 'BiRmiNGHAM', 'liVERpoOL'];\n",
              "\n",
              "for(var i = 0; i < cities.length; i++) {\n",
              "  var input = cities[i];\n",
              "//   この下にコードを書いて下さい\n",
              "  input = input.toLowerCase();\n",
              "  head = input[0]\n",
              "  input = input.replace(head, head.toUpperCase());\n",
              "\n",
              "  let result = input;\n",
              "\n",
              "  print(result);\n",
              "}"
            ],
            "text/plain": [
              "<IPython.core.display.Javascript object>"
            ]
          },
          "metadata": {
            "tags": []
          }
        }
      ]
    },
    {
      "cell_type": "markdown",
      "metadata": {
        "id": "GcHmsXOlazeE"
      },
      "source": [
        "### 問題 駅コードの抽出\n",
        "\n",
        "最初の3文字アルファベットと、セミコロン以下をまとめて編集して出力。\n"
      ]
    },
    {
      "cell_type": "code",
      "metadata": {
        "id": "gdxQvSeDa_YZ",
        "colab": {
          "base_uri": "https://localhost:8080/",
          "height": 102
        },
        "outputId": "3f47b03c-abca-4823-97da-a86c57dca20b"
      },
      "source": [
        "%%javascript\n",
        "\n",
        "const list = document.querySelector(\"#output-area\");\n",
        "list.innerHTML = '';\n",
        "document.body.style = \"white-space: pre;\";\n",
        "\n",
        "function print (str) {\n",
        "    let item = document.createElement('div');\n",
        "    item.textContent = str;\n",
        "    list.appendChild(item);\n",
        "};\n",
        "\n",
        "\n",
        "\n",
        "let stations = ['MAN675847583748sjt567654;Manchester Piccadilly',\n",
        "                'GNF576746573fhdg4737dh4;Greenfield',\n",
        "                'LIV5hg65hd737456236dch46dg4;Liverpool Lime Street',\n",
        "                'SYB4f65hf75f736463;Stalybridge',\n",
        "                'HUD5767ghtyfyr4536dh45dg45dg3;Huddersfield'];\n",
        "\n",
        "for (var i = 0; i < stations.length; i++) {\n",
        "  let input = stations[i];\n",
        "  // この下にコードを書いてください\n",
        "  head = input.slice(0,3);\n",
        "  name = input.slice(input.indexOf(';')+1 , input.length);\n",
        "  let result = head + \" : \" + name;\n",
        "\n",
        "  print (result);\n",
        "}"
      ],
      "execution_count": null,
      "outputs": [
        {
          "output_type": "display_data",
          "data": {
            "application/javascript": [
              "\n",
              "const list = document.querySelector(\"#output-area\");\n",
              "list.innerHTML = '';\n",
              "document.body.style = \"white-space: pre;\";\n",
              "\n",
              "function print (str) {\n",
              "    let item = document.createElement('div');\n",
              "    item.textContent = str;\n",
              "    list.appendChild(item);\n",
              "};\n",
              "\n",
              "\n",
              "\n",
              "let stations = ['MAN675847583748sjt567654;Manchester Piccadilly',\n",
              "                'GNF576746573fhdg4737dh4;Greenfield',\n",
              "                'LIV5hg65hd737456236dch46dg4;Liverpool Lime Street',\n",
              "                'SYB4f65hf75f736463;Stalybridge',\n",
              "                'HUD5767ghtyfyr4536dh45dg45dg3;Huddersfield'];\n",
              "\n",
              "for (var i = 0; i < stations.length; i++) {\n",
              "  let input = stations[i];\n",
              "  // この下にコードを書いてください\n",
              "  head = input.slice(0,3);\n",
              "  name = input.slice(input.indexOf(';')+1 , input.length);\n",
              "  let result = head + \" : \" + name;\n",
              "\n",
              "  print (result);\n",
              "}"
            ],
            "text/plain": [
              "<IPython.core.display.Javascript object>"
            ]
          },
          "metadata": {
            "tags": []
          }
        }
      ]
    },
    {
      "cell_type": "markdown",
      "metadata": {
        "id": "7jWwVKIdLUAe"
      },
      "source": [
        "### 問題 変数"
      ]
    },
    {
      "cell_type": "code",
      "metadata": {
        "id": "kvyGSxM1LEmh",
        "colab": {
          "base_uri": "https://localhost:8080/",
          "height": 69
        },
        "outputId": "5a32c2fb-8c23-4d92-cb70-55e5ed51ad01"
      },
      "source": [
        "%%javascript\n",
        "\n",
        "const list = document.querySelector(\"#output-area\");\n",
        "list.innerHTML = '';\n",
        "\n",
        "let myName = \"Taro\";\n",
        "let myAge = \"69\";\n",
        "\n",
        "let para1 = document.createElement('p');\n",
        "para1.textContent = myName;\n",
        "let para2 = document.createElement('p');\n",
        "para2.textContent = myAge;\n",
        "list.appendChild(para1);\n",
        "list.appendChild(para2);\n"
      ],
      "execution_count": null,
      "outputs": [
        {
          "output_type": "display_data",
          "data": {
            "application/javascript": [
              "\n",
              "const list = document.querySelector(\"#output-area\");\n",
              "list.innerHTML = '';\n",
              "\n",
              "let myName = \"Taro\";\n",
              "let myAge = \"69\";\n",
              "\n",
              "let para1 = document.createElement('p');\n",
              "para1.textContent = myName;\n",
              "let para2 = document.createElement('p');\n",
              "para2.textContent = myAge;\n",
              "list.appendChild(para1);\n",
              "list.appendChild(para2);"
            ],
            "text/plain": [
              "<IPython.core.display.Javascript object>"
            ]
          },
          "metadata": {
            "tags": []
          }
        }
      ]
    },
    {
      "cell_type": "markdown",
      "metadata": {
        "id": "pGkX7qcWNcg8"
      },
      "source": [
        "やはり `print()` を使った方がいいね!!!!"
      ]
    },
    {
      "cell_type": "code",
      "metadata": {
        "id": "6o7_t30NNcB8",
        "colab": {
          "base_uri": "https://localhost:8080/",
          "height": 51
        },
        "outputId": "c64e272c-78f5-4b6e-8afb-311605d6eaea"
      },
      "source": [
        "%%javascript\n",
        "\n",
        "const list = document.querySelector(\"#output-area\");\n",
        "list.innerHTML = '';\n",
        "document.body.style = \"white-space: pre;\";\n",
        "\n",
        "function print (str) {\n",
        "    let item = document.createElement('div');\n",
        "    item.textContent = str;\n",
        "    list.appendChild(item);\n",
        "};\n",
        "\n",
        "let myName = \"Taro\";\n",
        "let myAge = \"69\";\n",
        "\n",
        "print (myName);\n",
        "print (myAge);"
      ],
      "execution_count": null,
      "outputs": [
        {
          "output_type": "display_data",
          "data": {
            "application/javascript": [
              "\n",
              "const list = document.querySelector(\"#output-area\");\n",
              "list.innerHTML = '';\n",
              "document.body.style = \"white-space: pre;\";\n",
              "\n",
              "function print (str) {\n",
              "    let item = document.createElement('div');\n",
              "    item.textContent = str;\n",
              "    list.appendChild(item);\n",
              "};\n",
              "\n",
              "let myName = \"Taro\";\n",
              "let myAge = \"69\";\n",
              "\n",
              "print (myName);\n",
              "print (myAge);"
            ],
            "text/plain": [
              "<IPython.core.display.Javascript object>"
            ]
          },
          "metadata": {
            "tags": []
          }
        }
      ]
    },
    {
      "cell_type": "markdown",
      "metadata": {
        "id": "3WTA5soaN_qy"
      },
      "source": [
        "### 問題 定数\n"
      ]
    },
    {
      "cell_type": "code",
      "metadata": {
        "id": "lA8RJGziOCjs",
        "colab": {
          "base_uri": "https://localhost:8080/",
          "height": 68
        },
        "outputId": "f169d9c2-cd0b-4e20-8a26-3c1443dd84fe"
      },
      "source": [
        "%%javascript\n",
        "\n",
        "const list = document.querySelector(\"#output-area\");\n",
        "list.innerHTML = '';\n",
        "document.body.style = \"white-space: pre;\";\n",
        "\n",
        "function print (str) {\n",
        "    let item = document.createElement('div');\n",
        "    item.textContent = str;\n",
        "    list.appendChild(item);\n",
        "};\n",
        "\n",
        "const myName = 'Default';\n",
        "// myName = 'Chris'\n",
        "\n",
        "let myAge = '42';\n",
        "\n",
        "print (myName);\n",
        "print(`In 20 years, I will be ${myAge + 20}`);\n",
        "print('In 20 years, I will be ${myAge + 20}');\n",
        "\n"
      ],
      "execution_count": null,
      "outputs": [
        {
          "output_type": "display_data",
          "data": {
            "application/javascript": [
              "\n",
              "const list = document.querySelector(\"#output-area\");\n",
              "list.innerHTML = '';\n",
              "document.body.style = \"white-space: pre;\";\n",
              "\n",
              "function print (str) {\n",
              "    let item = document.createElement('div');\n",
              "    item.textContent = str;\n",
              "    list.appendChild(item);\n",
              "};\n",
              "\n",
              "const myName = 'Default';\n",
              "// myName = 'Chris'\n",
              "\n",
              "let myAge = '42';\n",
              "\n",
              "print (myName);\n",
              "print(`In 20 years, I will be ${myAge + 20}`);\n",
              "print('In 20 years, I will be ${myAge + 20}');\n"
            ],
            "text/plain": [
              "<IPython.core.display.Javascript object>"
            ]
          },
          "metadata": {
            "tags": []
          }
        }
      ]
    },
    {
      "cell_type": "markdown",
      "metadata": {
        "id": "A-EgnA0EZSIu"
      },
      "source": [
        "### 問題 算数 1"
      ]
    },
    {
      "cell_type": "code",
      "metadata": {
        "id": "ieBRgfwnZVdl",
        "colab": {
          "base_uri": "https://localhost:8080/",
          "height": 51
        },
        "outputId": "cc2567dd-6355-45ff-a0f9-c9dda5bbff52"
      },
      "source": [
        "%%javascript\n",
        "\n",
        "const list = document.querySelector(\"#output-area\");\n",
        "list.innerHTML = '';\n",
        "document.body.style = \"white-space: pre;\";\n",
        "\n",
        "function print (str) {\n",
        "    let item = document.createElement('div');\n",
        "    item.textContent = str;\n",
        "    list.appendChild(item);\n",
        "};\n",
        "\n",
        "\n",
        "let finalResult;\n",
        "\n",
        "let evenOddResult;\n",
        "\n",
        "let num1 = 1;\n",
        "let num2 = 2;\n",
        "let numsum = num1 + num2;\n",
        "let num3 = 19;\n",
        "let num4 = 3;\n",
        "let numsub = num3 - num4;\n",
        "finalResult = numsum * numsub;\n",
        "\n",
        "evenOddResult = finalResult % 2;\n",
        "\n",
        "let para1 = document.createElement('p');\n",
        "let finalResultCheck = finalResult === 48 ? `Yes, well done!` : `No, it is ${ finalResult }`;\n",
        "para1.textContent = `Is the finalResult 48? ${ finalResultCheck }`;\n",
        "let para2 = document.createElement('p');\n",
        "let evenOddResultCheck = evenOddResult === 0 ? 'The final result is even!' : 'The final result is odd. Hrm.'\n",
        "para2.textContent = evenOddResultCheck;\n",
        "\n",
        "print (para1.textContent);\n",
        "print (para2.textContent);"
      ],
      "execution_count": null,
      "outputs": [
        {
          "output_type": "display_data",
          "data": {
            "application/javascript": [
              "\n",
              "const list = document.querySelector(\"#output-area\");\n",
              "list.innerHTML = '';\n",
              "document.body.style = \"white-space: pre;\";\n",
              "\n",
              "function print (str) {\n",
              "    let item = document.createElement('div');\n",
              "    item.textContent = str;\n",
              "    list.appendChild(item);\n",
              "};\n",
              "\n",
              "\n",
              "let finalResult;\n",
              "\n",
              "let evenOddResult;\n",
              "\n",
              "// Add your code here\n",
              "let num1 = 1;\n",
              "let num2 = 2;\n",
              "let numsum = num1 + num2;\n",
              "let num3 = 19;\n",
              "let num4 = 3;\n",
              "let numsub = num3 - num4;\n",
              "finalResult = numsum * numsub;\n",
              "\n",
              "evenOddResult = finalResult % 2;\n",
              "\n",
              "// Don't edit the code below here!\n",
              "\n",
              "// section.innerHTML = ' ';\n",
              "let para1 = document.createElement('p');\n",
              "let finalResultCheck = finalResult === 48 ? `Yes, well done!` : `No, it is ${ finalResult }`;\n",
              "para1.textContent = `Is the finalResult 48? ${ finalResultCheck }`;\n",
              "let para2 = document.createElement('p');\n",
              "let evenOddResultCheck = evenOddResult === 0 ? 'The final result is even!' : 'The final result is odd. Hrm.'\n",
              "para2.textContent = evenOddResultCheck;\n",
              "\n",
              "// section.appendChild(para1);\n",
              "// section.appendChild(para2);\n",
              "print (para1.textContent);\n",
              "print (para2.textContent);"
            ],
            "text/plain": [
              "<IPython.core.display.Javascript object>"
            ]
          },
          "metadata": {
            "tags": []
          }
        }
      ]
    },
    {
      "cell_type": "markdown",
      "metadata": {
        "id": "bR3sm6y2bt3h"
      },
      "source": [
        "### 問題 算数 2"
      ]
    },
    {
      "cell_type": "code",
      "metadata": {
        "id": "U2qDo_E_bwRz",
        "colab": {
          "base_uri": "https://localhost:8080/",
          "height": 136
        },
        "outputId": "1c6bda31-8dba-4c65-b101-150121f3015a"
      },
      "source": [
        "%%javascript\n",
        "\n",
        "const list = document.querySelector(\"#output-area\");\n",
        "list.innerHTML = '';\n",
        "document.body.style = \"white-space: pre;\";\n",
        "\n",
        "function print (str) {\n",
        "    let item = document.createElement('div');\n",
        "    item.textContent = str;\n",
        "    list.appendChild(item);\n",
        "};\n",
        "\n",
        "\n",
        "// Final result should be 10.42\n",
        "// Add/update your code here\n",
        "\n",
        "let result = (7 + 13) / (9 + 7);\n",
        "let result2 = 100 / (2 * 6);\n",
        "\n",
        "print (result);\n",
        "print (result2);\n",
        "\n",
        "result *= result2;\n",
        "print (result);\n",
        "\n",
        "finalResult = result.toFixed(2);\n",
        "print (finalResult);\n",
        "print (typeof(finalResult));\n",
        "finalNumber = Number(finalResult);\n",
        "\n",
        "let para1 = document.createElement('p');\n",
        "para1.textContent = `Your finalResult is ${ finalResult }`;\n",
        "let para2 = document.createElement('p');\n",
        "let finalNumberCheck = isNaN(finalNumber) === false ? 'finalNumber is a number type. Well done!' : `Ooops! finalNumber is not a number.`;\n",
        "para2.textContent = finalNumberCheck;\n",
        "\n",
        "print (para1.textContent);\n",
        "print (para2.textContent);\n"
      ],
      "execution_count": null,
      "outputs": [
        {
          "output_type": "display_data",
          "data": {
            "application/javascript": [
              "\n",
              "const list = document.querySelector(\"#output-area\");\n",
              "list.innerHTML = '';\n",
              "document.body.style = \"white-space: pre;\";\n",
              "\n",
              "function print (str) {\n",
              "    let item = document.createElement('div');\n",
              "    item.textContent = str;\n",
              "    list.appendChild(item);\n",
              "};\n",
              "\n",
              "\n",
              "// Final result should be 10.42\n",
              "// Add/update your code here\n",
              "\n",
              "let result = (7 + 13) / (9 + 7);\n",
              "let result2 = 100 / (2 * 6);\n",
              "\n",
              "print (result);\n",
              "print (result2);\n",
              "\n",
              "result *= result2;\n",
              "print (result);\n",
              "\n",
              "finalResult = result.toFixed(2);\n",
              "print (finalResult);\n",
              "print (typeof(finalResult));\n",
              "finalNumber = Number(finalResult);\n",
              "\n",
              "let para1 = document.createElement('p');\n",
              "para1.textContent = `Your finalResult is ${ finalResult }`;\n",
              "let para2 = document.createElement('p');\n",
              "let finalNumberCheck = isNaN(finalNumber) === false ? 'finalNumber is a number type. Well done!' : `Ooops! finalNumber is not a number.`;\n",
              "para2.textContent = finalNumberCheck;\n",
              "\n",
              "print (para1.textContent);\n",
              "print (para2.textContent);"
            ],
            "text/plain": [
              "<IPython.core.display.Javascript object>"
            ]
          },
          "metadata": {
            "tags": []
          }
        }
      ]
    },
    {
      "cell_type": "markdown",
      "metadata": {
        "id": "hp950eaXgA6h"
      },
      "source": [
        "### 問題 算数 3"
      ]
    },
    {
      "cell_type": "code",
      "metadata": {
        "id": "LGj7B4IrgETU",
        "colab": {
          "base_uri": "https://localhost:8080/",
          "height": 119
        },
        "outputId": "10003346-d135-4946-8ee8-800fe93c58a6"
      },
      "source": [
        "%%javascript\n",
        "\n",
        "const list = document.querySelector(\"#output-area\");\n",
        "list.innerHTML = '';\n",
        "document.body.style = \"white-space: pre;\";\n",
        "\n",
        "function print (str) {\n",
        "    let item = document.createElement('div');\n",
        "    item.textContent = str;\n",
        "    list.appendChild(item);\n",
        "};\n",
        "\n",
        "\n",
        "\n",
        "// Statement 1: The elephant weights less than the mouse\n",
        "let eleWeight = 1000;\n",
        "let mouseWeight = 2;\n",
        "\n",
        "// Statement 2: The Ostrich is taller than the duck\n",
        "let ostrichHeight = 2;\n",
        "let duckHeight = 0.3;\n",
        "\n",
        "// Statement 3: The two passwords match\n",
        "let pwd1 = 'stromboli';\n",
        "let pwd2 = 'stROmBoLi'\n",
        "\n",
        "// Add your code here\n",
        "\n",
        "let weightComparison = eleWeight < mouseWeight;\n",
        "let heightComparison = ostrichHeight > duckHeight;\n",
        "let pwdMatch = pwd1 === pwd2\n",
        "\n",
        "print (weightComparison);\n",
        "print (heightComparison);\n",
        "print (pwdMatch);\n",
        "\n",
        "let para1 = document.createElement('p');\n",
        "let para2 = document.createElement('p');\n",
        "let para3 = document.createElement('p');\n",
        "\n",
        "let weightTest = weightComparison ? 'True — elephants weight less than mice!?' : 'False — of course an elephant is heavier than a mouse!';\n",
        "let heightTest = heightComparison ? 'True — an ostrich is indeed taller than a duck!' : 'False — apparently a duck is taller than an ostrich!?';\n",
        "let pwdTest = pwdMatch ? 'True — the passwords match.' : 'False — the passwords do not match; please check them';\n",
        "\n",
        "// para1.textContent = weightTest;\n",
        "// section.appendChild(para1);\n",
        "// para2.textContent = heightTest;\n",
        "// section.appendChild(para2);\n",
        "// para3.textContent = pwdTest;\n",
        "// section.appendChild(para3);\n",
        "\n",
        "print (weightTest);\n",
        "print (heightTest);\n",
        "print (pwdTest);\n",
        "    "
      ],
      "execution_count": null,
      "outputs": [
        {
          "output_type": "display_data",
          "data": {
            "application/javascript": [
              "\n",
              "const list = document.querySelector(\"#output-area\");\n",
              "list.innerHTML = '';\n",
              "document.body.style = \"white-space: pre;\";\n",
              "\n",
              "function print (str) {\n",
              "    let item = document.createElement('div');\n",
              "    item.textContent = str;\n",
              "    list.appendChild(item);\n",
              "};\n",
              "\n",
              "\n",
              "\n",
              "// Statement 1: The elephant weights less than the mouse\n",
              "let eleWeight = 1000;\n",
              "let mouseWeight = 2;\n",
              "\n",
              "// Statement 2: The Ostrich is taller than the duck\n",
              "let ostrichHeight = 2;\n",
              "let duckHeight = 0.3;\n",
              "\n",
              "// Statement 3: The two passwords match\n",
              "let pwd1 = 'stromboli';\n",
              "let pwd2 = 'stROmBoLi'\n",
              "\n",
              "// Add your code here\n",
              "\n",
              "let weightComparison = eleWeight < mouseWeight;\n",
              "let heightComparison = ostrichHeight > duckHeight;\n",
              "let pwdMatch = pwd1 === pwd2\n",
              "\n",
              "print (weightComparison);\n",
              "print (heightComparison);\n",
              "print (pwdMatch);\n",
              "\n",
              "let para1 = document.createElement('p');\n",
              "let para2 = document.createElement('p');\n",
              "let para3 = document.createElement('p');\n",
              "\n",
              "let weightTest = weightComparison ? 'True — elephants weight less than mice!?' : 'False — of course an elephant is heavier than a mouse!';\n",
              "let heightTest = heightComparison ? 'True — an ostrich is indeed taller than a duck!' : 'False — apparently a duck is taller than an ostrich!?';\n",
              "let pwdTest = pwdMatch ? 'True — the passwords match.' : 'False — the passwords do not match; please check them';\n",
              "\n",
              "// para1.textContent = weightTest;\n",
              "// section.appendChild(para1);\n",
              "// para2.textContent = heightTest;\n",
              "// section.appendChild(para2);\n",
              "// para3.textContent = pwdTest;\n",
              "// section.appendChild(para3);\n",
              "\n",
              "print (weightTest);\n",
              "print (heightTest);\n",
              "print (pwdTest);\n",
              "    "
            ],
            "text/plain": [
              "<IPython.core.display.Javascript object>"
            ]
          },
          "metadata": {
            "tags": []
          }
        }
      ]
    },
    {
      "cell_type": "markdown",
      "metadata": {
        "id": "sx_FSpdLnf0C"
      },
      "source": [
        "# 配列 array\n",
        "\n",
        "JavaScript では配列 array というが実はリストのこと。\n"
      ]
    },
    {
      "cell_type": "code",
      "metadata": {
        "id": "IAjhH9F2nykZ",
        "colab": {
          "base_uri": "https://localhost:8080/",
          "height": 204
        },
        "outputId": "9601ce7d-6a4b-4e5c-dfe9-bf2f8cc9434d"
      },
      "source": [
        "%%javascript\n",
        "\n",
        "const list = document.querySelector(\"#output-area\");\n",
        "list.innerHTML = '';\n",
        "document.body.style = \"white-space: pre;\";\n",
        "\n",
        "function print (str) {\n",
        "    let item = document.createElement('div');\n",
        "    item.textContent = str;\n",
        "    list.appendChild(item);\n",
        "};\n",
        "\n",
        "\n",
        "let shopping = ['パン', '牛乳', 'チーズ', 'ハム', '麺'];\n",
        "print (shopping);\n",
        "print (typeof(shopping));\n",
        "\n",
        "print (shopping[0]);\n",
        "\n",
        "shopping[0] = 'タヒーニ';\n",
        "print (shopping[0]);\n",
        "\n",
        "let sequence = [1, 1, 2, 3, 5, 8, 13];\n",
        "let random = ['tree', 795, [0, 1, 2]];\n",
        "\n",
        "print (random[2][2]);\n",
        "print (sequence.length);\n",
        "\n",
        "for (let i = 0; i < shopping.length; i++){\n",
        "    print (shopping[i]);\n",
        "}"
      ],
      "execution_count": null,
      "outputs": [
        {
          "output_type": "display_data",
          "data": {
            "application/javascript": [
              "\n",
              "const list = document.querySelector(\"#output-area\");\n",
              "list.innerHTML = '';\n",
              "document.body.style = \"white-space: pre;\";\n",
              "\n",
              "function print (str) {\n",
              "    let item = document.createElement('div');\n",
              "    item.textContent = str;\n",
              "    list.appendChild(item);\n",
              "};\n",
              "\n",
              "\n",
              "let shopping = ['パン', '牛乳', 'チーズ', 'ハム', '麺'];\n",
              "print (shopping);\n",
              "print (typeof(shopping));\n",
              "\n",
              "print (shopping[0]);\n",
              "\n",
              "shopping[0] = 'タヒーニ';\n",
              "print (shopping[0]);\n",
              "\n",
              "let sequence = [1, 1, 2, 3, 5, 8, 13];\n",
              "let random = ['tree', 795, [0, 1, 2]];\n",
              "\n",
              "print (random[2][2]);\n",
              "print (sequence.length);\n",
              "\n",
              "for (let i = 0; i < shopping.length; i++){\n",
              "    print (shopping[i]);\n",
              "}"
            ],
            "text/plain": [
              "<IPython.core.display.Javascript object>"
            ]
          },
          "metadata": {
            "tags": []
          }
        }
      ]
    },
    {
      "cell_type": "markdown",
      "metadata": {
        "id": "B8uTXQzHs6U1"
      },
      "source": [
        "### 配列と文字列 "
      ]
    },
    {
      "cell_type": "code",
      "metadata": {
        "id": "YBRFbk-ls91A",
        "colab": {
          "base_uri": "https://localhost:8080/",
          "height": 255
        },
        "outputId": "c9fb36dd-f734-482b-844b-92b814ca350d"
      },
      "source": [
        "%%javascript\n",
        "\n",
        "const list = document.querySelector(\"#output-area\");\n",
        "list.innerHTML = '';\n",
        "document.body.style = \"white-space: pre;\";\n",
        "\n",
        "function print (str) {\n",
        "    let item = document.createElement('div');\n",
        "    item.textContent = str;\n",
        "    list.appendChild(item);\n",
        "};\n",
        "\n",
        "let myData = '札幌,仙台,東京,名古屋,大阪,博多';\n",
        "let myArray = myData.split(',');\n",
        "print (myData);\n",
        "print (myArray);\n",
        "print (myArray[0]);\n",
        "\n",
        "let myNewString = myArray.join (' -> ');\n",
        "print (myNewString);\n",
        "\n",
        "let dogNames = ['ポチ','ハチ','タロウ','モコ'];\n",
        "dogNames.toString(); //ポチ,ハチ,タロウ,モコ\n",
        "print (typeof(String (dogNames)));\n",
        "myArray.push('横浜');\n",
        "print (myArray);\n",
        "myArray.push('神戸', '広島');\n",
        "print (myArray);\n",
        "let newLength = myArray.push('京都');\n",
        "print (myArray);\n",
        "print (newLength);\n",
        "let removedItem = myArray.pop();\n",
        "print (myArray);\n",
        "print (removedItem);\n",
        "myArray.unshift('奈良');\n",
        "print (myArray);\n",
        "removedItem = myArray.shift();\n",
        "print (myArray);\n",
        "print (removedItem);\n"
      ],
      "execution_count": null,
      "outputs": [
        {
          "output_type": "display_data",
          "data": {
            "application/javascript": [
              "\n",
              "const list = document.querySelector(\"#output-area\");\n",
              "list.innerHTML = '';\n",
              "document.body.style = \"white-space: pre;\";\n",
              "\n",
              "function print (str) {\n",
              "    let item = document.createElement('div');\n",
              "    item.textContent = str;\n",
              "    list.appendChild(item);\n",
              "};\n",
              "\n",
              "let myData = '札幌,仙台,東京,名古屋,大阪,博多';\n",
              "let myArray = myData.split(',');\n",
              "print (myData);\n",
              "print (myArray);\n",
              "print (myArray[0]);\n",
              "\n",
              "let myNewString = myArray.join (' -> ');\n",
              "print (myNewString);\n",
              "\n",
              "let dogNames = ['ポチ','ハチ','タロウ','モコ'];\n",
              "dogNames.toString(); //ポチ,ハチ,タロウ,モコ\n",
              "print (typeof(String (dogNames)));\n",
              "myArray.push('横浜');\n",
              "print (myArray);\n",
              "myArray.push('神戸', '広島');\n",
              "print (myArray);\n",
              "let newLength = myArray.push('京都');\n",
              "print (myArray);\n",
              "print (newLength);\n",
              "let removedItem = myArray.pop();\n",
              "print (myArray);\n",
              "print (removedItem);\n",
              "myArray.unshift('奈良');\n",
              "print (myArray);\n",
              "removedItem = myArray.shift();\n",
              "print (myArray);\n",
              "print (removedItem);"
            ],
            "text/plain": [
              "<IPython.core.display.Javascript object>"
            ]
          },
          "metadata": {
            "tags": []
          }
        }
      ]
    },
    {
      "cell_type": "markdown",
      "metadata": {
        "id": "4f-XFOEHeEIB"
      },
      "source": [
        "### 問題 商品の印字\n"
      ]
    },
    {
      "cell_type": "code",
      "metadata": {
        "id": "TFXU-5tAf4EA",
        "colab": {
          "base_uri": "https://localhost:8080/",
          "height": 119
        },
        "outputId": "0c7b2cac-32be-41b6-b474-320419e81051"
      },
      "source": [
        "%%javascript\n",
        "\n",
        "const list = document.querySelector(\"#output-area\");\n",
        "list.innerHTML = '';\n",
        "document.body.style = \"white-space: pre;\";\n",
        "\n",
        "function print (str) {\n",
        "    let item = document.createElement('div');\n",
        "    item.textContent = str;\n",
        "    list.appendChild(item);\n",
        "};\n",
        "\n",
        "function printList (str) {\n",
        "    let item = document.createElement('li');\n",
        "    item.textContent = str;\n",
        "    list.appendChild(item);\n",
        "};\n",
        "\n",
        "let total = 0;\n",
        "\n",
        "let products = [\n",
        "    'パンツ:6.99', \n",
        "    '靴下:5.99', \n",
        "    'T シャツ:14.99', \n",
        "    'ズボン:31.99', \n",
        "    '靴:23.99'\n",
        "]\n",
        "\n",
        "\n",
        "for (let i = 0; i <= (products.length-1); i++) {\n",
        "    total += Number(products[i].split(':')[1]);\n",
        "    product = products[i].split(':')[0];\n",
        "    price = products[i].split(':')[1];\n",
        "\n",
        "    printList (`${product} -- \\$ ${price}`)\n",
        "}\n",
        "print ('合計: $' + total.toFixed(2));\n"
      ],
      "execution_count": null,
      "outputs": [
        {
          "output_type": "display_data",
          "data": {
            "application/javascript": [
              "\n",
              "const list = document.querySelector(\"#output-area\");\n",
              "list.innerHTML = '';\n",
              "document.body.style = \"white-space: pre;\";\n",
              "\n",
              "function print (str) {\n",
              "    let item = document.createElement('div');\n",
              "    item.textContent = str;\n",
              "    list.appendChild(item);\n",
              "};\n",
              "\n",
              "function printList (str) {\n",
              "    let item = document.createElement('li');\n",
              "    item.textContent = str;\n",
              "    list.appendChild(item);\n",
              "};\n",
              "\n",
              "let total = 0;\n",
              "\n",
              "let products = [\n",
              "    'パンツ:6.99', \n",
              "    '靴下:5.99', \n",
              "    'T シャツ:14.99', \n",
              "    'ズボン:31.99', \n",
              "    '靴:23.99'\n",
              "]\n",
              "\n",
              "\n",
              "for (let i = 0; i <= (products.length-1); i++) {\n",
              "    total += Number(products[i].split(':')[1]);\n",
              "    product = products[i].split(':')[0];\n",
              "    price = products[i].split(':')[1];\n",
              "\n",
              "    printList (`${product} -- \\$ ${price}`)\n",
              "}\n",
              "print ('合計: $' + total.toFixed(2));"
            ],
            "text/plain": [
              "<IPython.core.display.Javascript object>"
            ]
          },
          "metadata": {
            "tags": []
          }
        }
      ]
    },
    {
      "cell_type": "markdown",
      "metadata": {
        "id": "YqzuSt6W1zJs"
      },
      "source": [
        "### 問題 上位5件の検索"
      ]
    },
    {
      "cell_type": "code",
      "metadata": {
        "id": "aYw7J7P114TA",
        "colab": {
          "base_uri": "https://localhost:8080/",
          "height": 17
        },
        "outputId": "c9a89ee7-51ce-4fb2-dec3-e9eef9fd55b0"
      },
      "source": [
        "%%javascript\n",
        "\n",
        "// const list = document.querySelector(\"#output-area\");\n",
        "// list.innerHTML = '';\n",
        "// document.body.style = \"white-space: pre;\";\n",
        "\n",
        "// function print (str) {\n",
        "//     let item = document.createElement('div');\n",
        "//     item.textContent = str;\n",
        "//     list.appendChild(item);\n",
        "// };\n",
        "\n",
        "\n",
        "// const list = document.querySelector('.output ul');\n",
        "// const searchInput = document.querySelector('.output input');\n",
        "// const searchBtn = document.querySelector('.output button');\n",
        "\n",
        "// // list.innerHTML = '';\n",
        "\n",
        "// let myHistory = [];\n",
        "\n",
        "// searchBtn.onclick = function() {\n",
        "//   // 検索ボックスが空ではない場合のみ検索語を受け付けるようにします\n",
        "//   if (searchInput.value !== '') {\n",
        "//     // No.1\n",
        "//     myHistory.unshift(searchInput.value);\n",
        "//     // 表示中の一覧を空にして、同じ項目が表示されないようにして、\n",
        "//     // 結果は検索語が入力される度に毎回作り直されます。\n",
        "//     list.innerHTML = '';\n",
        "\n",
        "//     // 配列をループして、リスト内の全ての検索語を表示します\n",
        "//     for (let i = 0; i < myHistory.length; i++) {\n",
        "//       itemText = myHistory[i];\n",
        "//       const listItem = document.createElement('li');\n",
        "//       listItem.textContent = itemText;\n",
        "//       list.appendChild(listItem);\n",
        "//     }\n",
        "\n",
        "//     // 配列の長さが 5以上になったら一番古い検索語を削除します\n",
        "//     if (myHistory.length >= 5) {\n",
        "//       // No.2\n",
        "//       myHistory.pop();\n",
        "//     }\n",
        "\n",
        "//     // 次の検索語を受け付けるため、検索ボックスを空にしてフォーカスします\n",
        "//     searchInput.value = '';\n",
        "//     searchInput.focus();\n",
        "//   }\n",
        "// }\n"
      ],
      "execution_count": null,
      "outputs": [
        {
          "output_type": "display_data",
          "data": {
            "application/javascript": [
              "\n",
              "// const list = document.querySelector(\"#output-area\");\n",
              "// list.innerHTML = '';\n",
              "// document.body.style = \"white-space: pre;\";\n",
              "\n",
              "// function print (str) {\n",
              "//     let item = document.createElement('div');\n",
              "//     item.textContent = str;\n",
              "//     list.appendChild(item);\n",
              "// };\n",
              "\n",
              "\n",
              "const list = document.querySelector('.output ul');\n",
              "const searchInput = document.querySelector('.output input');\n",
              "const searchBtn = document.querySelector('.output button');\n",
              "\n",
              "// list.innerHTML = '';\n",
              "\n",
              "let myHistory = [];\n",
              "\n",
              "searchBtn.onclick = function() {\n",
              "  // 検索ボックスが空ではない場合のみ検索語を受け付けるようにします\n",
              "  if (searchInput.value !== '') {\n",
              "    // No.1\n",
              "    myHistory.unshift(searchInput.value);\n",
              "    // 表示中の一覧を空にして、同じ項目が表示されないようにして、\n",
              "    // 結果は検索語が入力される度に毎回作り直されます。\n",
              "    list.innerHTML = '';\n",
              "\n",
              "    // 配列をループして、リスト内の全ての検索語を表示します\n",
              "    for (let i = 0; i < myHistory.length; i++) {\n",
              "      itemText = myHistory[i];\n",
              "      const listItem = document.createElement('li');\n",
              "      listItem.textContent = itemText;\n",
              "      list.appendChild(listItem);\n",
              "    }\n",
              "\n",
              "    // 配列の長さが 5以上になったら一番古い検索語を削除します\n",
              "    if (myHistory.length >= 5) {\n",
              "      // No.2\n",
              "      myHistory.pop();\n",
              "    }\n",
              "\n",
              "    // 次の検索語を受け付けるため、検索ボックスを空にしてフォーカスします\n",
              "    searchInput.value = '';\n",
              "    searchInput.focus();\n",
              "  }\n",
              "}"
            ],
            "text/plain": [
              "<IPython.core.display.Javascript object>"
            ]
          },
          "metadata": {
            "tags": []
          }
        }
      ]
    },
    {
      "cell_type": "code",
      "metadata": {
        "id": "qG8YOjcLuMTc",
        "colab": {
          "base_uri": "https://localhost:8080/",
          "height": 107
        },
        "outputId": "0f6155ea-8330-44ba-cdff-b62961b8755a"
      },
      "source": [
        "# %%html\n",
        "\n",
        "# <body>\n",
        "# <p class=\"this\">this is p</p>\n",
        "# <script type=\"text/javascript\">\n",
        "# const list = document.querySelector(\".this\");\n",
        "# list.innerHTML = '';\n",
        "# document.body.style = \"white-space: pre;\";\n",
        "\n",
        "# function print (str) {\n",
        "#     let item = document.createElement('div');\n",
        "#     item.textContent = str;\n",
        "#     list.appendChild(item);\n",
        "# };\n",
        "# </script>\n",
        "# <script \n",
        "# </body>"
      ],
      "execution_count": null,
      "outputs": [
        {
          "output_type": "display_data",
          "data": {
            "text/html": [
              "\n",
              "<body>\n",
              "<p class=\"this\">this is p</p>\n",
              "<script type=\"text/javascript\">\n",
              "const list = document.querySelector(\".this\");\n",
              "list.innerHTML = '';\n",
              "document.body.style = \"white-space: pre;\";\n",
              "\n",
              "function print (str) {\n",
              "    let item = document.createElement('div');\n",
              "    item.textContent = str;\n",
              "    list.appendChild(item);\n",
              "};\n",
              "</script>\n",
              "<script \n",
              "</body>"
            ],
            "text/plain": [
              "<IPython.core.display.HTML object>"
            ]
          },
          "metadata": {
            "tags": []
          }
        }
      ]
    },
    {
      "cell_type": "markdown",
      "metadata": {
        "id": "mHWP31WGtmTc"
      },
      "source": [
        "\n",
        "# いまここ\n",
        "\n",
        "https://developer.mozilla.org/ja/docs/Learn/JavaScript/First_steps/Arrays\n",
        "\n",
        "https://wiki.developer.mozilla.org/ja/docs/Learn/JavaScript/First_steps/Test_your_skills:_Arrays"
      ]
    }
  ]
}