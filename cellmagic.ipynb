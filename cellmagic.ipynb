{
  "nbformat": 4,
  "nbformat_minor": 0,
  "metadata": {
    "colab": {
      "name": "cellmagic.ipynb",
      "provenance": [],
      "authorship_tag": "ABX9TyMQbN+H5rcK7Th/KdRerF/d",
      "include_colab_link": true
    },
    "kernelspec": {
      "name": "python3",
      "display_name": "Python 3"
    }
  },
  "cells": [
    {
      "cell_type": "markdown",
      "metadata": {
        "id": "view-in-github",
        "colab_type": "text"
      },
      "source": [
        "<a href=\"https://colab.research.google.com/github/kalz2q/myjupyternotebooks/blob/master/cellmagic.ipynb\" target=\"_parent\"><img src=\"https://colab.research.google.com/assets/colab-badge.svg\" alt=\"Open In Colab\"/></a>"
      ]
    },
    {
      "cell_type": "markdown",
      "metadata": {
        "id": "cxmGErljPUxv",
        "colab_type": "text"
      },
      "source": [
        "# The cell magics in IPython"
      ]
    },
    {
      "cell_type": "markdown",
      "metadata": {
        "id": "DEJgsUF4ORQ7",
        "colab_type": "text"
      },
      "source": [
        "# 参考サイト\n",
        "\n",
        "1. [The cell magics in IPython](https://nbviewer.jupyter.org/github/ipython/ipython/blob/1.x/examples/notebooks/Cell%20Magics.ipynb)\n"
      ]
    },
    {
      "cell_type": "markdown",
      "metadata": {
        "id": "Q7r1loiAOpX9",
        "colab_type": "text"
      },
      "source": [
        "# はじめに\n",
        "\n",
        "1. cell magicについて勉強する。"
      ]
    },
    {
      "cell_type": "markdown",
      "metadata": {
        "id": "I2F4exKvOSEy",
        "colab_type": "text"
      },
      "source": [
        "IPython has a system of commands we call 'magics' that provide effectively a mini command language that is orthogonal to the syntax of Python and is extensible by the user with new commands. Magics are meant to be typed interactively, so they use command-line conventions, such as using whitespace for separating arguments, dashes for options and other conventions typical of a command-line environment.\n",
        "\n",
        "Magics come in two kinds:\n",
        "\n",
        "*   Line magics: these are commands prepended by one `%` character and whose arguments only extend to the end of the current line.\n",
        "*   Cell magics: these use _two_ percent characters as a marker (`%%`), and they receive as argument _both_ the current line where they are declared and the whole body of the cell. Note that cell magics can _only_ be used as the first line in a cell, and as a general principle they can't be 'stacked' (i.e. you can only use one cell magic per cell). A few of them, because of how they operate, can be stacked, but that is something you will discover on a case by case basis.\n",
        "\n",
        "The `%lsmagic` magic is used to list all available magics, and it will show both line and cell magics currently defined:\n"
      ]
    },
    {
      "cell_type": "code",
      "metadata": {
        "id": "c0IPBX8DXK86",
        "colab_type": "code",
        "colab": {}
      },
      "source": [
        "%lsmagic"
      ],
      "execution_count": null,
      "outputs": []
    },
    {
      "cell_type": "markdown",
      "metadata": {
        "id": "Ndan8TZfXJZ0",
        "colab_type": "text"
      },
      "source": [
        "\n",
        "Out\\[1\\]:\n",
        "\n",
        "Available line magics:\n",
        "%alias  %alias\\_magic  %autocall  %automagic  %autosave  %bookmark  %cd  %clear  %colors  %config  %connect\\_info  %debug  %dhist  %dirs  %doctest\\_mode  %ed  %edit  %env  %gist  %gui  %hist  %history  %install\\_default\\_config  %install\\_ext  %install\\_profiles  %killbgscripts  %less  %load  %load\\_ext  %loadpy  %logoff  %logon  %logstart  %logstate  %logstop  %lsmagic  %macro  %magic  %man  %matplotlib  %more  %notebook  %page  %pastebin  %pdb  %pdef  %pdoc  %pfile  %pinfo  %pinfo2  %popd  %pprint  %precision  %profile  %prun  %psearch  %psource  %pushd  %pwd  %pycat  %pylab  %qtconsole  %quickref  %recall  %rehashx  %reload\\_ext  %rep  %rerun  %reset  %reset\\_selective  %run  %save  %sc  %store  %sx  %system  %tb  %tic  %time  %timeit  %toc  %unalias  %unload\\_ext  %who  %who\\_ls  %whos  %xdel  %xmode\n",
        "\n",
        "Available cell magics:\n",
        "%%!  %%HTML  %%SVG  %%bash  %%capture  %%debug  %%file  %%html  %%javascript  %%latex  %%perl  %%prun  %%pypy  %%python  %%python3  %%ruby  %%script  %%sh  %%svg  %%sx  %%system  %%time  %%timeit  %%writefile\n",
        "\n",
        "Automagic is ON, % prefix IS NOT needed for line magics.\n",
        "\n",
        "Since in the introductory section we already covered the most frequently used line magics, we will focus here on the cell magics, which offer a great amount of power.\n",
        "\n",
        "Let's load matplotlib and numpy so we can use numerics/plotting at will later on.\n"
      ]
    },
    {
      "cell_type": "code",
      "metadata": {
        "id": "O50LkigXXblq",
        "colab_type": "code",
        "colab": {}
      },
      "source": [
        "%matplotlib inline\n",
        "import numpy as np\n",
        "import matplotlib.pyplot as plt"
      ],
      "execution_count": null,
      "outputs": []
    },
    {
      "cell_type": "markdown",
      "metadata": {
        "id": "3Mkeq2fZXnq5",
        "colab_type": "text"
      },
      "source": [
        "## Some simple cell magics"
      ]
    },
    {
      "cell_type": "markdown",
      "metadata": {
        "id": "KuGWvYJ8XYcd",
        "colab_type": "text"
      },
      "source": [
        "Timing the execution of code; the 'timeit' magic exists both in line and cell form:\n",
        "\n",
        "In \\[3\\]:\n"
      ]
    },
    {
      "cell_type": "code",
      "metadata": {
        "id": "AZSlicHGXzfy",
        "colab_type": "code",
        "colab": {}
      },
      "source": [
        "%timeit np.linalg.eigvals(np.random.rand(100,100))"
      ],
      "execution_count": null,
      "outputs": []
    },
    {
      "cell_type": "markdown",
      "metadata": {
        "id": "0SAPYxVTXyFf",
        "colab_type": "text"
      },
      "source": [
        "\n",
        "%timeit np.linalg.eigvals(np.random.rand(100,100))\n",
        "\n",
        "100 loops, best of 3: 6.05 ms per loop\n",
        "\n",
        "In \\[4\\]:\n",
        "\n",
        "%%timeit a = np.random.rand(100, 100)\n",
        "np.linalg.eigvals(a)\n",
        "\n",
        "100 loops, best of 3: 6.07 ms per loop\n",
        "\n",
        "The `%%capture` magic can be used to capture the stdout/err of any block of python code, either to discard it (if it's noise to you) or to store it in a variable for later use:\n",
        "\n",
        "In \\[5\\]:\n"
      ]
    },
    {
      "cell_type": "code",
      "metadata": {
        "id": "JzPa7E95X7GB",
        "colab_type": "code",
        "colab": {}
      },
      "source": [
        "%%capture capt\n",
        "from \\_\\_future\\_\\_ import print\\_function\n",
        "import sys\n",
        "print('Hello stdout')\n",
        "print('and stderr', file\\=sys.stderr)\n"
      ],
      "execution_count": null,
      "outputs": []
    },
    {
      "cell_type": "code",
      "metadata": {
        "id": "yOhBxLltYIF5",
        "colab_type": "code",
        "colab": {}
      },
      "source": [
        "capt.stdout, catp.stderr"
      ],
      "execution_count": null,
      "outputs": []
    },
    {
      "cell_type": "code",
      "metadata": {
        "id": "TWEzAt2rYgKb",
        "colab_type": "code",
        "colab": {}
      },
      "source": [
        "capt.show()"
      ],
      "execution_count": null,
      "outputs": []
    },
    {
      "cell_type": "markdown",
      "metadata": {
        "id": "HJe4m1DpX6K2",
        "colab_type": "text"
      },
      "source": [
        "\n",
        "\n",
        "Out\\[6\\]:\n",
        "\n",
        "('Hello stdout\\\\n', 'and stderr\\\\n')\n",
        "\n",
        "The `%%writefile` magic is a very useful tool that writes the cell contents as a named file:\n",
        "\n",
        "In \\[8\\]:\n",
        "\n",
        "\n"
      ]
    },
    {
      "cell_type": "code",
      "metadata": {
        "id": "QLHdvzIQYmDa",
        "colab_type": "code",
        "colab": {}
      },
      "source": [
        "%%writefile foo.py\n",
        "print('Hello world')"
      ],
      "execution_count": null,
      "outputs": []
    },
    {
      "cell_type": "code",
      "metadata": {
        "id": "USFj30ixYqtK",
        "colab_type": "code",
        "colab": {}
      },
      "source": [
        "%run foo"
      ],
      "execution_count": null,
      "outputs": []
    },
    {
      "cell_type": "markdown",
      "metadata": {
        "id": "xdzYMt6BYPlM",
        "colab_type": "text"
      },
      "source": [
        "\n",
        "Magics for running code under other interpreters[¶](#-Magics-for-running-code-under-other-interpreters)\n",
        "-------------------------------------------------------------------------------------------------------\n",
        "\n",
        "IPython has a `%%script` cell magic, which lets you run a cell in a subprocess of any interpreter on your system, such as: bash, ruby, perl, zsh, R, etc.\n",
        "\n",
        "It can even be a script of your own, which expects input on stdin.\n",
        "\n",
        "To use it, simply pass a path or shell command to the program you want to run on the `%%script` line, and the rest of the cell will be run by that script, and stdout/err from the subprocess are captured and displayed.\n",
        "\n",
        "In \\[10\\]:\n"
      ]
    },
    {
      "cell_type": "code",
      "metadata": {
        "id": "bfDs31lKYw2q",
        "colab_type": "code",
        "colab": {}
      },
      "source": [
        "%%script python\n",
        "import sys\n",
        "print 'hello from Python %s' % sys.version"
      ],
      "execution_count": null,
      "outputs": []
    },
    {
      "cell_type": "markdown",
      "metadata": {
        "id": "m6KU9oaFYv-8",
        "colab_type": "text"
      },
      "source": [
        "\n",
        "\n",
        "\n",
        "hello from Python 2.7.2 (default, Oct 11 2012, 20:14:37) \n",
        "\\[GCC 4.2.1 Compatible Apple Clang 4.0 (tags/Apple/clang-418.0.60)\\]\n",
        "\n",
        "In \\[11\\]:\n"
      ]
    },
    {
      "cell_type": "code",
      "metadata": {
        "id": "SqjJdoNaY2dD",
        "colab_type": "code",
        "colab": {}
      },
      "source": [
        "%%script python3\n",
        "import sys\n",
        "print('hello from Python: %s' % sys.version)\n"
      ],
      "execution_count": null,
      "outputs": []
    },
    {
      "cell_type": "markdown",
      "metadata": {
        "id": "ccNjZ7rNY1jc",
        "colab_type": "text"
      },
      "source": [
        "\n",
        "\n",
        "hello from Python: 3.3.1 (v3.3.1:d9893d13c628, Apr  6 2013, 11:07:11) \n",
        "\\[GCC 4.2.1 (Apple Inc. build 5666) (dot 3)\\]\n",
        "\n",
        "IPython also creates aliases for a few common interpreters, such as bash, ruby, perl, etc.\n",
        "\n",
        "These are all equivalent to `%%script <name>`\n",
        "\n",
        "In \\[12\\]:\n"
      ]
    },
    {
      "cell_type": "code",
      "metadata": {
        "id": "xnHmTpfuY_QL",
        "colab_type": "code",
        "colab": {}
      },
      "source": [
        "%%ruby\n",
        "puts \"Hello from Ruby #{RUBY\\_VERSION}\""
      ],
      "execution_count": null,
      "outputs": []
    },
    {
      "cell_type": "code",
      "metadata": {
        "id": "tRTGTzwaZAeU",
        "colab_type": "code",
        "colab": {}
      },
      "source": [
        "%%bash\n",
        "echo \"hello from $BASH\""
      ],
      "execution_count": null,
      "outputs": []
    },
    {
      "cell_type": "markdown",
      "metadata": {
        "id": "qeHUVG9iY8cP",
        "colab_type": "text"
      },
      "source": [
        "\n",
        "\n",
        "\n",
        "In \\[13\\]:\n",
        "\n",
        "\n",
        "\n",
        "hello from /usr/local/bin/bash\n"
      ]
    },
    {
      "cell_type": "code",
      "metadata": {
        "id": "nWRCjMK4ZIjz",
        "colab_type": "code",
        "colab": {}
      },
      "source": [
        ""
      ],
      "execution_count": null,
      "outputs": []
    },
    {
      "cell_type": "markdown",
      "metadata": {
        "id": "E8HofrAMZFzK",
        "colab_type": "text"
      },
      "source": [
        "\n",
        "Exercise: write your own script that numbers input lines[¶](#Exercise:-write-your-own-script-that-numbers-input-lines)\n",
        "----------------------------------------------------------------------------------------------------------------------\n",
        "\n",
        "Write a file, called `lnum.py`, such that the following cell works as shown -:\n",
        "\n",
        "In \\[29\\]:\n"
      ]
    },
    {
      "cell_type": "code",
      "metadata": {
        "id": "hhSE7wfCZL5t",
        "colab_type": "code",
        "colab": {}
      },
      "source": [
        "%%script ./lnum.py\n",
        "my first line\n",
        "my second\n",
        "more"
      ],
      "execution_count": null,
      "outputs": []
    },
    {
      "cell_type": "markdown",
      "metadata": {
        "id": "ASDfQ4CFZLGV",
        "colab_type": "text"
      },
      "source": [
        "\n",
        "\n",
        "\n",
        "0: my first line\n",
        "1: my second\n",
        "2: more\n",
        "---- END ----\n",
        "\n",
        "## Capturing output\n",
        "\n",
        "You can also capture stdout/err from these subprocesses into Python variables, instead of letting them go directly to stdout/err\n",
        "\n",
        "In \\[30\\]:\n"
      ]
    },
    {
      "cell_type": "code",
      "metadata": {
        "id": "jsP1UR0pZYVN",
        "colab_type": "code",
        "colab": {}
      },
      "source": [
        "%%bash\n",
        "echo \"hi, stdout\"\n",
        "echo \"hello, stderr\" >&2"
      ],
      "execution_count": null,
      "outputs": []
    },
    {
      "cell_type": "code",
      "metadata": {
        "id": "G1sw7Mv0Zb9M",
        "colab_type": "code",
        "colab": {}
      },
      "source": [
        "%%bash --out output --err error\n",
        "echo \"hi, stdout\"\n",
        "echo \"hello, stderr\" >&2"
      ],
      "execution_count": null,
      "outputs": []
    },
    {
      "cell_type": "code",
      "metadata": {
        "id": "dIfXafI8Zehl",
        "colab_type": "code",
        "colab": {}
      },
      "source": [
        "print(error)\n",
        "print(output)"
      ],
      "execution_count": null,
      "outputs": []
    },
    {
      "cell_type": "markdown",
      "metadata": {
        "id": "ZreTzWIHZXdz",
        "colab_type": "text"
      },
      "source": [
        "\n",
        "\n",
        "\n",
        "In \\[31\\]:\n",
        "\n",
        "\n",
        "\n",
        "In \\[32\\]:\n",
        "\n",
        "# Background Scripts\n",
        "\n",
        "These scripts can be run in the background, by adding the `--bg` flag.\n",
        "\n",
        "When you do this, output is discarded unless you use the `--out/err` flags to store output as above.\n",
        "\n",
        "In \\[33\\]:\n"
      ]
    },
    {
      "cell_type": "code",
      "metadata": {
        "id": "rQGKoedqZngD",
        "colab_type": "code",
        "colab": {}
      },
      "source": [
        "%%ruby \\--bg \\--out ruby\\_lines\n",
        "for n in 1...10\n",
        "    sleep 1\n",
        "    puts \"line #{n}\"\n",
        "    STDOUT.flush\n",
        "end"
      ],
      "execution_count": null,
      "outputs": []
    },
    {
      "cell_type": "markdown",
      "metadata": {
        "id": "X5jbHEGmZmrU",
        "colab_type": "text"
      },
      "source": [
        "\n",
        "\n",
        "\n",
        "Starting job # 0 in a separate thread.\n",
        "\n",
        "When you do store output of a background thread, these are the stdout/err _pipes_, rather than the text of the output.\n",
        "\n",
        "Out\\[34\\]:\n"
      ]
    },
    {
      "cell_type": "code",
      "metadata": {
        "id": "JzmNGLHOZzYU",
        "colab_type": "code",
        "colab": {}
      },
      "source": [
        "ruby_lines"
      ],
      "execution_count": null,
      "outputs": []
    },
    {
      "cell_type": "code",
      "metadata": {
        "id": "fyNHzFeyZznr",
        "colab_type": "code",
        "colab": {}
      },
      "source": [
        "print(ruby_lines.read())"
      ],
      "execution_count": null,
      "outputs": []
    },
    {
      "cell_type": "markdown",
      "metadata": {
        "id": "fWFRDOD9ZyhF",
        "colab_type": "text"
      },
      "source": [
        "\n",
        "<open file '<fdopen>', mode 'rb' at 0x112cd55d0>\n",
        "\n",
        "line 1\n",
        "line 2\n",
        "line 3\n",
        "line 4\n",
        "line 5\n",
        "line 6\n",
        "line 7\n",
        "line 8\n",
        "line 9\n"
      ]
    },
    {
      "cell_type": "markdown",
      "metadata": {
        "id": "jYnK9bhbZ8ol",
        "colab_type": "text"
      },
      "source": [
        "# Cython Magic Functions Extension"
      ]
    },
    {
      "cell_type": "markdown",
      "metadata": {
        "id": "3JuBDlIqZ_39",
        "colab_type": "text"
      },
      "source": [
        "### Loading the extension"
      ]
    },
    {
      "cell_type": "markdown",
      "metadata": {
        "id": "C2kAnzlNZ7f_",
        "colab_type": "text"
      },
      "source": [
        "\n",
        "IPtyhon has a `cythonmagic` extension that contains a number of magic functions for working with Cython code. This extension can be loaded using the `%load_ext` magic as follows:\n"
      ]
    },
    {
      "cell_type": "code",
      "metadata": {
        "id": "eKxraDl3aIgw",
        "colab_type": "code",
        "colab": {}
      },
      "source": [
        "%load_ext cythnmagic"
      ],
      "execution_count": null,
      "outputs": []
    },
    {
      "cell_type": "markdown",
      "metadata": {
        "id": "wr3aeJdxaHPU",
        "colab_type": "text"
      },
      "source": [
        "\n",
        "The `%%cython_pyximport` magic allows you to enter arbitrary Cython code into a cell. That Cython code is written as a `.pyx` file in the current working directory and then imported using `pyximport`. You have the specify the name of the module that the Code will appear in. All symbols from the module are imported automatically by the magic function.\n",
        "\n",
        "In \\[4\\]:\n"
      ]
    },
    {
      "cell_type": "code",
      "metadata": {
        "id": "7U9WKcJEaOtm",
        "colab_type": "code",
        "colab": {}
      },
      "source": [
        "%%cython\\_pyximport foo\n",
        "def f(x):\n",
        "    return 4.0\\*x"
      ],
      "execution_count": null,
      "outputs": []
    },
    {
      "cell_type": "code",
      "metadata": {
        "id": "vAsgB2zQaR5_",
        "colab_type": "code",
        "colab": {}
      },
      "source": [
        "f(10)"
      ],
      "execution_count": null,
      "outputs": []
    },
    {
      "cell_type": "markdown",
      "metadata": {
        "id": "a8wOwBhBaT1W",
        "colab_type": "text"
      },
      "source": [
        "### The %cython magic"
      ]
    },
    {
      "cell_type": "markdown",
      "metadata": {
        "id": "h6hd3A7maN7Z",
        "colab_type": "text"
      },
      "source": [
        "\n",
        "\n",
        "\n",
        "Probably the most important magic is the `%cython` magic. This is similar to the `%%cython_pyximport` magic, but doesn't require you to specify a module name. Instead, the `%%cython` magic uses manages everything using temporary files in the `~/.cython/magic` directory. All of the symbols in the Cython module are imported automatically by the magic.\n",
        "\n",
        "Here is a simple example of a Black-Scholes options pricing algorithm written in Cython:\n",
        "\n",
        "In \\[7\\]:\n"
      ]
    },
    {
      "cell_type": "code",
      "metadata": {
        "id": "OGh53nkeaaDV",
        "colab_type": "code",
        "colab": {}
      },
      "source": [
        "%%cython\n",
        "cimport cython\n",
        "from libc.math cimport exp, sqrt, pow, log, erf\n",
        "\n",
        "@cython.cdivision(True)\n",
        "cdef double std_norm_cdf(double x) nogil:\n",
        "    return 0.5*(1+erf(x/sqrt(2.0)))\n",
        "\n",
        "@cython.cdivision(True)\n",
        "def black_scholes(double s, double k, double t, double v,\n",
        "                 double rf, double div, double cp):\n",
        "    \"\"\"Price an option using the Black-Scholes model.\n",
        "    \n",
        "    s : initial stock price\n",
        "    k : strike price\n",
        "    t : expiration time\n",
        "    v : volatility\n",
        "    rf : risk-free rate\n",
        "    div : dividend\n",
        "    cp : +1/-1 for call/put\n",
        "    \"\"\"\n",
        "    cdef double d1, d2, optprice\n",
        "    with nogil:\n",
        "        d1 = (log(s/k)+(rf-div+0.5*pow(v,2))*t)/(v*sqrt(t))\n",
        "        d2 = d1 - v*sqrt(t)\n",
        "        optprice = cp*s*exp(-div*t)*std_norm_cdf(cp*d1) - \\\n",
        "            cp*k*exp(-rf*t)*std_norm_cdf(cp*d2)\n",
        "    return optprice"
      ],
      "execution_count": null,
      "outputs": []
    },
    {
      "cell_type": "code",
      "metadata": {
        "id": "c8Mp7M0saimf",
        "colab_type": "code",
        "colab": {}
      },
      "source": [
        "black\\_scholes(100.0, 100.0, 1.0, 0.3, 0.03, 0.0, \\-1)"
      ],
      "execution_count": null,
      "outputs": []
    },
    {
      "cell_type": "code",
      "metadata": {
        "id": "gdtaJQJkam9F",
        "colab_type": "code",
        "colab": {}
      },
      "source": [
        "%timeit black\\_scholes(100.0, 100.0, 1.0, 0.3, 0.03, 0.0, -1)"
      ],
      "execution_count": null,
      "outputs": []
    },
    {
      "cell_type": "markdown",
      "metadata": {
        "id": "yxiXC-w2aY7n",
        "colab_type": "text"
      },
      "source": [
        "\n",
        "In \\[8\\]:\n",
        "\n",
        "\n",
        "\n",
        "In \\[9\\]:\n",
        "\n",
        "\n",
        "\n",
        "1000000 loops, best of 3: 366 ns per loop\n",
        "\n",
        "Cython allows you to specify additional libraries to be linked with your extension, you can do so with the `-l` flag (also spelled `--lib`). Note that this flag can be passed more than once to specify multiple libraries, such as `-lm -llib2 --lib lib3`. Here's a simple example of how to access the system math library:\n",
        "\n",
        "In \\[10\\]:\n"
      ]
    },
    {
      "cell_type": "code",
      "metadata": {
        "id": "gKWmD1utaq_B",
        "colab_type": "code",
        "colab": {}
      },
      "source": [
        "%%cython \\-lm\n",
        "from libc.math cimport sin\n",
        "print 'sin(1)=', sin(1)"
      ],
      "execution_count": null,
      "outputs": []
    },
    {
      "cell_type": "markdown",
      "metadata": {
        "id": "A8PDnN_daqNR",
        "colab_type": "text"
      },
      "source": [
        "\n",
        "\n",
        "\n",
        "You can similarly use the `-I/--include` flag to add include directories to the search path, and `-c/--compile-args` to add extra flags that are passed to Cython via the `extra_compile_args` of the distutils `Extension` class. Please see [the Cython docs on C library usage](http://docs.cython.org/src/tutorial/clibraries.html) for more details on the use of these flags.\n"
      ]
    },
    {
      "cell_type": "markdown",
      "metadata": {
        "id": "jOvyY12Zavjr",
        "colab_type": "text"
      },
      "source": [
        "### Rmagic Functions Extension"
      ]
    },
    {
      "cell_type": "markdown",
      "metadata": {
        "id": "bTKHV02Lau5Q",
        "colab_type": "text"
      },
      "source": [
        "\n",
        "IPython has an `rmagic` extension that contains a some magic functions for working with R via rpy2. This extension can be loaded using the `%load_ext` magic as follows:\n"
      ]
    },
    {
      "cell_type": "code",
      "metadata": {
        "id": "5Wrg0R2ca06H",
        "colab_type": "code",
        "colab": {}
      },
      "source": [
        "%load_ext rmagic"
      ],
      "execution_count": null,
      "outputs": []
    },
    {
      "cell_type": "markdown",
      "metadata": {
        "id": "dxCOqp9Aa0JM",
        "colab_type": "text"
      },
      "source": [
        "\n",
        "A typical use case one imagines is having some numpy arrays, wanting to compute some statistics of interest on these arrays and return the result back to python. Let's suppose we just want to fit a simple linear model to a scatterplot.\n",
        "\n",
        "In \\[2\\]:\n"
      ]
    },
    {
      "cell_type": "code",
      "metadata": {
        "id": "ST1VcB-ca6c9",
        "colab_type": "code",
        "colab": {}
      },
      "source": [
        "%matplotlib inline\n",
        "import numpy as np\n",
        "import matplotlib.pyplot as plt"
      ],
      "execution_count": null,
      "outputs": []
    },
    {
      "cell_type": "code",
      "metadata": {
        "id": "2gXg9TJJa8eI",
        "colab_type": "code",
        "colab": {}
      },
      "source": [
        "X \\= np.array(\\[0,1,2,3,4\\])\n",
        "Y \\= np.array(\\[3,5,4,6,7\\])\n",
        "plt.scatter(X, Y)"
      ],
      "execution_count": null,
      "outputs": []
    },
    {
      "cell_type": "markdown",
      "metadata": {
        "id": "RT4Avdtua5aU",
        "colab_type": "text"
      },
      "source": [
        "\n",
        "\n",
        "\n",
        "In \\[3\\]:\n",
        "\n",
        "\n",
        "\n",
        "Out\\[3\\]:\n",
        "\n",
        "<matplotlib.collections.PathCollection at 0x112ab1f90>\n",
        "\n",
        "\n",
        "We can accomplish this by first pushing variables to R, fitting a model and returning the results. The line magic %Rpush copies its arguments to variables of the same name in rpy2. The %R line magic evaluates the string in rpy2 and returns the results. In this case, the coefficients of a linear model.\n",
        "\n",
        "In \\[4\\]:\n"
      ]
    },
    {
      "cell_type": "code",
      "metadata": {
        "id": "VUPC1I-QbFD4",
        "colab_type": "code",
        "colab": {}
      },
      "source": [
        "%Rpush X Y\n",
        "%R lm(Y~X)$coef"
      ],
      "execution_count": null,
      "outputs": []
    },
    {
      "cell_type": "markdown",
      "metadata": {
        "id": "bD6qX3oZbM6S",
        "colab_type": "text"
      },
      "source": [
        "It is also possible to return more than one value with %R."
      ]
    },
    {
      "cell_type": "code",
      "metadata": {
        "id": "7clOn8L-bKk4",
        "colab_type": "code",
        "colab": {}
      },
      "source": [
        "%R resid(lm(Y~X)); coef(lm(X~Y))"
      ],
      "execution_count": null,
      "outputs": []
    },
    {
      "cell_type": "markdown",
      "metadata": {
        "id": "A3exvau_bCJB",
        "colab_type": "text"
      },
      "source": [
        "\n",
        "\n",
        "\n",
        "\n",
        "\n",
        "In \\[5\\]:\n",
        "\n",
        "\n",
        "\n",
        "One can also easily capture the results of %R into python objects. Like R, the return value of this multiline expression (multiline in the sense that it is separated by ';') is the final value, which is the _coef(lm(X~Y))_. To pull other variables from R, there is one more magic.\n",
        "\n",
        "There are two more line magics, %Rpull and %Rget. Both are useful after some R code has been executed and there are variables in the rpy2 namespace that one would like to retrieve. The main difference is that one returns the value (%Rget), while the other pulls it to self.shell.user\\_ns (%Rpull). Imagine we've stored the results of some calculation in the variable \"a\" in rpy2's namespace. By using the %R magic, we can obtain these results and store them in b. We can also pull them directly to user\\_ns with %Rpull. They are both views on the same data.\n",
        "\n",
        "In \\[6\\]:\n"
      ]
    },
    {
      "cell_type": "code",
      "metadata": {
        "id": "AIV1TdbubTsz",
        "colab_type": "code",
        "colab": {}
      },
      "source": [
        "b \\= %R a=resid(lm(Y~X))\n",
        "%Rpull a\n",
        "print(a)\n",
        "assert id(b.data) \\== id(a.data)\n",
        "%R -o a"
      ],
      "execution_count": null,
      "outputs": []
    },
    {
      "cell_type": "markdown",
      "metadata": {
        "id": "qa5mQXlXbSlc",
        "colab_type": "text"
      },
      "source": [
        "# Plotting and capturing output[¶](#Plotting-and-capturing-output)\n",
        "----------------------------------------------------------------\n",
        "\n",
        "R's console (i.e. its stdout() connection) is captured by ipython, as are any plots which are published as PNG files like the notebook with arguments --pylab inline. As a call to %R may produce a return value (see above) we must ask what happens to a magic like the one below. The R code specifies that something is published to the notebook. If anything is published to the notebook, that call to %R returns None.\n",
        "\n",
        "In \\[7\\]:\n"
      ]
    },
    {
      "cell_type": "code",
      "metadata": {
        "id": "VMNauZqTbgH_",
        "colab_type": "code",
        "colab": {}
      },
      "source": [
        "from \\_\\_future\\_\\_ import print\\_function\n",
        "v1 \\= %R plot(X,Y); print(summary(lm(Y~X))); vv=mean(X)\\*mean(Y)\n",
        "print('v1 is:', v1)\n",
        "v2 \\= %R mean(X)\\*mean(Y)\n",
        "print('v2 is:', v2)"
      ],
      "execution_count": null,
      "outputs": []
    },
    {
      "cell_type": "markdown",
      "metadata": {
        "id": "BO5gM_4Ebe8q",
        "colab_type": "text"
      },
      "source": [
        "\n",
        "\n",
        "\n",
        "Call:\n",
        "lm(formula = Y ~ X)\n",
        "\n",
        "Residuals:\n",
        "   1    2    3    4    5 \n",
        "-0.2  0.9 -1.0  0.1  0.2 \n",
        "\n",
        "Coefficients:\n",
        "            Estimate Std. Error t value Pr(>|t|)  \n",
        "(Intercept)   3.2000     0.6164   5.191   0.0139 \\*\n",
        "X             0.9000     0.2517   3.576   0.0374 \\*\n",
        "---\n",
        "Signif. codes:  0 ‘\\*\\*\\*’ 0.001 ‘\\*\\*’ 0.01 ‘\\*’ 0.05 ‘.’ 0.1 ‘ ’ 1\n",
        "\n",
        "Residual standard error: 0.7958 on 3 degrees of freedom\n",
        "Multiple R-squared:   0.81,\tAdjusted R-squared:  0.7467 \n",
        "F-statistic: 12.79 on 1 and 3 DF,  p-value: 0.03739\n"
      ]
    },
    {
      "cell_type": "markdown",
      "metadata": {
        "id": "bOhejsF-cPRS",
        "colab_type": "text"
      },
      "source": [
        "# Cell level magic\n",
        "\n",
        "Often, we will want to do more than a simple linear regression model. There may be several lines of R code that we want to use before returning to python. This is the cell-level magic.\n",
        "\n",
        "For the cell level magic, inputs can be passed via the -i or --inputs argument in the line. These variables are copied from the shell namespace to R's namespace using rpy2.robjects.r.assign. It would be nice not to have to copy these into R: rnumpy ( [http://bitbucket.org/njs/rnumpy/wiki/API](https://bitbucket.org/njs/rnumpy/wiki/API) ) has done some work to limit or at least make transparent the number of copies of an array. This seems like a natural thing to try to build on. Arrays can be output from R via the -o or --outputs argument in the line. All other arguments are sent to R's png function, which is the graphics device used to create the plots.\n",
        "\n",
        "We can redo the above calculations in one ipython cell. We might also want to add some output such as a summary from R or perhaps the standard plotting diagnostics of the lm."
      ]
    },
    {
      "cell_type": "code",
      "metadata": {
        "id": "LO0IgHDJcQaB",
        "colab_type": "code",
        "colab": {}
      },
      "source": [
        "%%R -i X,Y -o XYcoef\n",
        "XYlm = lm(Y~X)\n",
        "XYcoef = coef(XYlm)\n",
        "print(summary(XYlm))\n",
        "par(mfrow=c(2,2))\n",
        "plot(XYlm)"
      ],
      "execution_count": null,
      "outputs": []
    },
    {
      "cell_type": "markdown",
      "metadata": {
        "id": "_CKHGznncTHJ",
        "colab_type": "text"
      },
      "source": [
        "# octavemagic: Octave inside IPython\n",
        "\n",
        "The octavemagic extension provides the ability to interact with Octave. It depends on the oct2py and h5py packages, which may be installed using easy_install. It has been closely modeled after the R extension, so many of its names and usage patterns are the same.\n",
        "\n",
        "To enable the extension, load it as follows:\n"
      ]
    },
    {
      "cell_type": "code",
      "metadata": {
        "id": "AZMVcHE1ccz5",
        "colab_type": "code",
        "colab": {}
      },
      "source": [
        "%load_ext octavemagic"
      ],
      "execution_count": null,
      "outputs": []
    },
    {
      "cell_type": "markdown",
      "metadata": {
        "id": "mpzOjklOcfbQ",
        "colab_type": "text"
      },
      "source": [
        "# Overview\n",
        "\n",
        "Loading the extension enables three magic functions: %octave, %octave_push, and %octave_pull.\n",
        "\n",
        "The first is for executing one or more lines of Octave, while the latter allow moving variables between the Octave and Python workspace. Here you see an example of how to execute a single line of Octave, and how to transfer the generated value back to Python:"
      ]
    },
    {
      "cell_type": "code",
      "metadata": {
        "id": "NhW-Mpp2colC",
        "colab_type": "code",
        "colab": {}
      },
      "source": [
        "x = %octave [1 2; 3 4];\n",
        "x"
      ],
      "execution_count": null,
      "outputs": []
    },
    {
      "cell_type": "markdown",
      "metadata": {
        "id": "BwbRzfUvcrpx",
        "colab_type": "text"
      },
      "source": [
        "When using the cell magic, `%%octave` (note the double `%`), multiple lines of Octave can be executed together. Unlike with the single cell magic, no value is returned, so we use the `-i` and `-o` flags to specify input and output variables."
      ]
    },
    {
      "cell_type": "code",
      "metadata": {
        "id": "NBrYt7EFcyML",
        "colab_type": "code",
        "colab": {}
      },
      "source": [
        "%%octave -i x -o y\n",
        "y = x + 3;"
      ],
      "execution_count": null,
      "outputs": []
    },
    {
      "cell_type": "code",
      "metadata": {
        "id": "xTATurnzc0lT",
        "colab_type": "code",
        "colab": {}
      },
      "source": [
        "y"
      ],
      "execution_count": null,
      "outputs": []
    },
    {
      "cell_type": "markdown",
      "metadata": {
        "id": "lnmLAaczc2ca",
        "colab_type": "text"
      },
      "source": [
        "# Plotting\n",
        "\n",
        "Plot output is automatically captured and displayed, and using the `-f` flag you may choose its format (currently, `png` and `svg` are supported)."
      ]
    },
    {
      "cell_type": "code",
      "metadata": {
        "id": "MihcRk8Fc83T",
        "colab_type": "code",
        "colab": {}
      },
      "source": [
        "%%octave -f svg\n",
        "\n",
        "p = [12 -2.5 -8 -0.1 8];\n",
        "x = 0:0.01:1;\n",
        "\n",
        "polyout(p, 'x')\n",
        "plot(x, polyval(p, x));"
      ],
      "execution_count": null,
      "outputs": []
    },
    {
      "cell_type": "markdown",
      "metadata": {
        "id": "u7JdGFQhdCOR",
        "colab_type": "text"
      },
      "source": [
        "The plot size is adjusted using the `-s` flag:"
      ]
    },
    {
      "cell_type": "code",
      "metadata": {
        "id": "a_h5Q-UndDas",
        "colab_type": "code",
        "colab": {}
      },
      "source": [
        "%%octave -s 500,500\n",
        "\n",
        "# butterworth filter, order 2, cutoff pi/2 radians\n",
        "b = [0.292893218813452  0.585786437626905  0.292893218813452];\n",
        "a = [1  0  0.171572875253810];\n",
        "freqz(b, a, 32);"
      ],
      "execution_count": null,
      "outputs": []
    },
    {
      "cell_type": "code",
      "metadata": {
        "id": "P5GgQbABdF9i",
        "colab_type": "code",
        "colab": {}
      },
      "source": [
        "%%octave -s 600,200 -f png\n",
        "\n",
        "subplot(121);\n",
        "[x, y] = meshgrid(0:0.1:3);\n",
        "r = sin(x - 0.5).^2 + cos(y - 0.5).^2;\n",
        "surf(x, y, r);\n",
        "\n",
        "subplot(122);\n",
        "sombrero()"
      ],
      "execution_count": null,
      "outputs": []
    }
  ]
}