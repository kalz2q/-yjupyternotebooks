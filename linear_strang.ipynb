{
  "nbformat": 4,
  "nbformat_minor": 0,
  "metadata": {
    "colab": {
      "name": "linear_strang.ipynb",
      "provenance": [],
      "authorship_tag": "ABX9TyNK0q0dt/yI3hcclUtGiPlP",
      "include_colab_link": true
    },
    "kernelspec": {
      "name": "python3",
      "display_name": "Python 3"
    }
  },
  "cells": [
    {
      "cell_type": "markdown",
      "metadata": {
        "id": "view-in-github",
        "colab_type": "text"
      },
      "source": [
        "<a href=\"https://colab.research.google.com/github/kalz2q/mycolabnotebooks/blob/master/linear_strang.ipynb\" target=\"_parent\"><img src=\"https://colab.research.google.com/assets/colab-badge.svg\" alt=\"Open In Colab\"/></a>"
      ]
    },
    {
      "cell_type": "markdown",
      "metadata": {
        "id": "obGosNmgtb7k"
      },
      "source": [
        "# メモ\r\n",
        "\r\n",
        "ストラング 線形代数イントロダクション introduction to linear algebra gilbert strang\r\n",
        "\r\n",
        "を読む"
      ]
    },
    {
      "cell_type": "code",
      "metadata": {
        "id": "1A3MOS7FtY2b"
      },
      "source": [
        ""
      ],
      "execution_count": null,
      "outputs": []
    }
  ]
}