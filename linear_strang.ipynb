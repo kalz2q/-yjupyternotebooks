{
  "nbformat": 4,
  "nbformat_minor": 0,
  "metadata": {
    "colab": {
      "name": "linear_strang.ipynb",
      "provenance": [],
      "authorship_tag": "ABX9TyN/BzVEXJENqSsB/yfdc3sk",
      "include_colab_link": true
    },
    "kernelspec": {
      "name": "python3",
      "display_name": "Python 3"
    }
  },
  "cells": [
    {
      "cell_type": "markdown",
      "metadata": {
        "id": "view-in-github",
        "colab_type": "text"
      },
      "source": [
        "<a href=\"https://colab.research.google.com/github/kalz2q/mycolabnotebooks/blob/master/linear_strang.ipynb\" target=\"_parent\"><img src=\"https://colab.research.google.com/assets/colab-badge.svg\" alt=\"Open In Colab\"/></a>"
      ]
    },
    {
      "cell_type": "markdown",
      "metadata": {
        "id": "obGosNmgtb7k"
      },
      "source": [
        "# メモ\r\n",
        "\r\n",
        "ストラング 線形代数イントロダクション introduction to linear algebra gilbert strang\r\n",
        "\r\n",
        "を読む"
      ]
    },
    {
      "cell_type": "markdown",
      "metadata": {
        "id": "M0IuUERUzj8O"
      },
      "source": [
        "テキストの表紙の絵は 4つの基本部分空間 Four Fundamental Subspaces を表している。\r\n",
        "\r\n",
        "左側に 行空間 row space と 零空間 nullspace 、右側に 列空間 column space と $A^T$ の零空間、である。この表紙の絵が線形代数において核心の概念である。\r\n",
        "\r\n"
      ]
    },
    {
      "cell_type": "code",
      "metadata": {
        "id": "1A3MOS7FtY2b"
      },
      "source": [
        "# いまここ\r\n",
        "p.7"
      ],
      "execution_count": null,
      "outputs": []
    },
    {
      "cell_type": "markdown",
      "metadata": {
        "id": "kQHBXl6s0YVt"
      },
      "source": [
        "# いまここ"
      ]
    }
  ]
}