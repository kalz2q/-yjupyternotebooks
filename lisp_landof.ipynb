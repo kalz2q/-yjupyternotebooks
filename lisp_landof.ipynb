{
  "nbformat": 4,
  "nbformat_minor": 0,
  "metadata": {
    "colab": {
      "name": "lisp_landof.ipynb",
      "provenance": [],
      "authorship_tag": "ABX9TyNvwEVo6UvjtFKquiL0hZox",
      "include_colab_link": true
    },
    "kernelspec": {
      "name": "python3",
      "display_name": "Python 3"
    }
  },
  "cells": [
    {
      "cell_type": "markdown",
      "metadata": {
        "id": "view-in-github",
        "colab_type": "text"
      },
      "source": [
        "<a href=\"https://colab.research.google.com/github/kalz2q/mycolabnotebooks/blob/master/lisp_landof.ipynb\" target=\"_parent\"><img src=\"https://colab.research.google.com/assets/colab-badge.svg\" alt=\"Open In Colab\"/></a>"
      ]
    },
    {
      "cell_type": "markdown",
      "metadata": {
        "id": "7RusZv67v2n1"
      },
      "source": [
        "# メモ\r\n",
        "\r\n",
        "Land Of Lisp\r\n",
        "\r\n",
        "を読む\r\n"
      ]
    },
    {
      "cell_type": "code",
      "metadata": {
        "id": "xQ2oFWODv9lD"
      },
      "source": [
        "%%capture\r\n",
        "!apt install sbcl"
      ],
      "execution_count": 1,
      "outputs": []
    },
    {
      "cell_type": "code",
      "metadata": {
        "colab": {
          "base_uri": "https://localhost:8080/"
        },
        "id": "8GXaEIcqwFnN",
        "outputId": "bbde0511-ca72-494c-844c-b21d94e65a5a"
      },
      "source": [
        "%%script sbcl\r\n",
        "(* 3 2)"
      ],
      "execution_count": 2,
      "outputs": [
        {
          "output_type": "stream",
          "text": [
            "This is SBCL 1.4.5.debian, an implementation of ANSI Common Lisp.\n",
            "More information about SBCL is available at <http://www.sbcl.org/>.\n",
            "\n",
            "SBCL is free software, provided as is, with absolutely no warranty.\n",
            "It is mostly in the public domain; some portions are provided under\n",
            "BSD-style licenses.  See the CREDITS and COPYING files in the\n",
            "distribution for more information.\n",
            "* \n",
            "6\n",
            "* "
          ],
          "name": "stdout"
        }
      ]
    },
    {
      "cell_type": "code",
      "metadata": {
        "id": "6ax-xVJZquhe"
      },
      "source": [
        "# いまここ\r\n",
        "file://wsl%24/Ubuntu/home/katsu95i/diary/landoflisp.pdf"
      ],
      "execution_count": null,
      "outputs": []
    },
    {
      "cell_type": "markdown",
      "metadata": {
        "id": "0ewb89u6vUUI"
      },
      "source": [
        "# いまここ"
      ]
    }
  ]
}