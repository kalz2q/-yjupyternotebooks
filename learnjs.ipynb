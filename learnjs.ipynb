{
  "nbformat": 4,
  "nbformat_minor": 0,
  "metadata": {
    "colab": {
      "name": "learnjs.ipynb",
      "provenance": [],
      "toc_visible": true,
      "authorship_tag": "ABX9TyPY13qsTcbHltNgcXUyROLz",
      "include_colab_link": true
    },
    "kernelspec": {
      "name": "python3",
      "display_name": "Python 3"
    }
  },
  "cells": [
    {
      "cell_type": "markdown",
      "metadata": {
        "id": "view-in-github",
        "colab_type": "text"
      },
      "source": [
        "<a href=\"https://colab.research.google.com/github/kalz2q/mycolabnotebooks/blob/master/learnjs.ipynb\" target=\"_parent\"><img src=\"https://colab.research.google.com/assets/colab-badge.svg\" alt=\"Open In Colab\"/></a>"
      ]
    },
    {
      "cell_type": "markdown",
      "metadata": {
        "id": "cG6xXZZ1h0LB",
        "colab_type": "text"
      },
      "source": [
        "# はじめに、というか\n",
        "\n",
        "`Colab` で `%%javascript` マジック・コマンドを使って、`JavaScript` の勉強をしようと思い立ったのだが、ふつーのテキストにある `alert()` とか `prompt()` とかが使えない。`console.log()` は使えるが、それだといちいち `デベロッパーツール` を開かないといけないよね。\n",
        "\n",
        "デベロッパーツールをひらいてみると、`alert()` とか `prompt()` のエラーが出てて、たいへん。`Ctrl-L` でクリアーできる。\n",
        "\n",
        "やりたいことは colab のコードセルに javascrip を書いて、セルを実行するとセルの出力欄にアウトプットが出るような形なので、探したら次のようなのがあった。"
      ]
    },
    {
      "cell_type": "code",
      "metadata": {
        "id": "xRuGEUiZjcj4",
        "colab_type": "code",
        "colab": {
          "base_uri": "https://localhost:8080/",
          "height": 85
        },
        "outputId": "7c7f85b8-d9de-415d-d3a3-2b8b087e1405"
      },
      "source": [
        "%%javascript\n",
        "\n",
        "document.body.style = \"white-space: pre;\";\n",
        "\n",
        "document.querySelector(\"#output-area\").appendChild(document.createTextNode(\"二行書いたら\\nどうなるか\"));\n",
        "document.querySelector(\"#output-area\").appendChild(document.createTextNode(\"\\n\"));\n",
        "document.querySelector(\"#output-area\").appendChild(document.createTextNode(\"二行目\"));"
      ],
      "execution_count": 25,
      "outputs": [
        {
          "output_type": "display_data",
          "data": {
            "application/javascript": [
              "\n",
              "document.body.style = \"white-space: pre;\";\n",
              "\n",
              "document.querySelector(\"#output-area\").appendChild(document.createTextNode(\"二行書いたら\\nどうなるか\"));\n",
              "document.querySelector(\"#output-area\").appendChild(document.createTextNode(\"\\n\"));\n",
              "document.querySelector(\"#output-area\").appendChild(document.createTextNode(\"二行目\"));"
            ],
            "text/plain": [
              "<IPython.core.display.Javascript object>"
            ]
          },
          "metadata": {
            "tags": []
          }
        }
      ]
    },
    {
      "cell_type": "markdown",
      "metadata": {
        "id": "QKc4eZ57kb5u",
        "colab_type": "text"
      },
      "source": [
        "これで改行マークが使えるし、行替えもめんどうだけど、できる。\n",
        "\n",
        "MDN のドキュメント https://developer.mozilla.org/en-US/docs/Web/CSS/white-space にほかのオプションも書いてあっていずれにしてもよくわからないが、とりあえずすこし前に進めた。"
      ]
    },
    {
      "cell_type": "markdown",
      "metadata": {
        "id": "oIYj_aOhqlA5",
        "colab_type": "text"
      },
      "source": [
        "# JavaScript はじめの一歩\n",
        "\n",
        "MDNのチュートリアルの例でこの環境では使えないのは飛ばして、メモをとりなが読んで行こう。\n",
        "\n",
        "https://developer.mozilla.org/ja/docs/Learn/JavaScript/First_steps/What_is_JavaScript\n",
        "\n",
        "コメントは `//` と `/* */`。これはつかえるかな。やってみよう。\n"
      ]
    },
    {
      "cell_type": "code",
      "metadata": {
        "id": "Se7x_0xu6cuR",
        "colab_type": "code",
        "colab": {
          "base_uri": "https://localhost:8080/",
          "height": 68
        },
        "outputId": "bae4e0b0-74d1-4c18-e9fa-829057bfe482"
      },
      "source": [
        "%%javascript\n",
        "\n",
        "// これはコメント\n",
        "\n",
        "/* 何行にも\n",
        "   わたるコメントは\n",
        "   こんな */\n",
        "\n",
        "document.body.style = \"white-space: pre;\"\n",
        "\n",
        "document.querySelector(\"#output-area\").appendChild(document.createTextNode(\"はろー\\n\"));\n",
        "document.querySelector(\"#output-area\").appendChild(document.createTextNode(\"はろー\\n\"));"
      ],
      "execution_count": null,
      "outputs": [
        {
          "output_type": "display_data",
          "data": {
            "application/javascript": [
              "\n",
              "// これはコメント\n",
              "\n",
              "/* 何行にも\n",
              "   わたるコメントは\n",
              "   こんな */\n",
              "\n",
              "document.body.style = \"white-space: pre;\"\n",
              "\n",
              "document.querySelector(\"#output-area\").appendChild(document.createTextNode(\"はろー\\n\"));\n",
              "document.querySelector(\"#output-area\").appendChild(document.createTextNode(\"はろー\\n\"));"
            ],
            "text/plain": [
              "<IPython.core.display.Javascript object>"
            ]
          },
          "metadata": {
            "tags": []
          }
        }
      ]
    },
    {
      "cell_type": "markdown",
      "metadata": {
        "id": "YtCE3SsQ7Ubo",
        "colab_type": "text"
      },
      "source": [
        "使えた。Python や Ruby の `#` ではなくて、C++ や Java の `//` なのだ。覚えよう。\n"
      ]
    },
    {
      "cell_type": "markdown",
      "metadata": {
        "id": "bidrpOZ48BaV",
        "colab_type": "text"
      },
      "source": [
        "# 数あてゲーム\n",
        "\n",
        "次の例が数当てゲームだが、ユーザーとのやりとりはやりたくないので、ゲームとして完成させることはあきらめて、部分部分を見ていこう。関数とか。ランダムの使い方、とか。"
      ]
    },
    {
      "cell_type": "code",
      "metadata": {
        "id": "2b0J8k5m9HWF",
        "colab_type": "code",
        "colab": {
          "base_uri": "https://localhost:8080/",
          "height": 51
        },
        "outputId": "926bb843-d918-4798-c4ff-89dae7518ee8"
      },
      "source": [
        "%%javascript\n",
        "\n",
        "document.body.style = \"white-space: pre;\"\n",
        "\n",
        "let randomNumber = Math.floor(Math.random() * 100) + 1;\n",
        "\n",
        "document.querySelector(\"#output-area\").appendChild(document.createTextNode(randomNumber));\n"
      ],
      "execution_count": null,
      "outputs": [
        {
          "output_type": "display_data",
          "data": {
            "application/javascript": [
              "\n",
              "document.body.style = \"white-space: pre;\"\n",
              "\n",
              "let randomNumber = Math.floor(Math.random() * 100) + 1;\n",
              "\n",
              "document.querySelector(\"#output-area\").appendChild(document.createTextNode(randomNumber));"
            ],
            "text/plain": [
              "<IPython.core.display.Javascript object>"
            ]
          },
          "metadata": {
            "tags": []
          }
        }
      ]
    },
    {
      "cell_type": "markdown",
      "metadata": {
        "id": "34qJlNCSP4na",
        "colab_type": "text"
      },
      "source": [
        "`Math.random()` は普通に使えた。\n",
        "\n",
        "`document.createTextNode()` で数字が自動で文字列に変換されているのだろうか。\n",
        "\n",
        "そもそも、JavaScript の型ってどうやって調べるのか。型にはうるさいのか。どういうしくみか。"
      ]
    },
    {
      "cell_type": "markdown",
      "metadata": {
        "id": "9Uy5HzVoSCoG",
        "colab_type": "text"
      },
      "source": [
        "# 四則演算\n",
        "\n",
        "加算減算乗算除算は普通。10/3 も普通に float になる。\n",
        "\n",
        "python の `//` に当たるのは `Math.floor()` かな。\n",
        "\n",
        "冪乗は `**` で Python と同じ!!!!"
      ]
    },
    {
      "cell_type": "code",
      "metadata": {
        "id": "g34dIsYgRVAb",
        "colab_type": "code",
        "colab": {
          "base_uri": "https://localhost:8080/",
          "height": 170
        },
        "outputId": "f949f8dc-6d13-4f19-9ef8-22c49bb2b3a0"
      },
      "source": [
        "%%javascript\n",
        "\n",
        "document.body.style = \"white-space: pre;\";\n",
        "\n",
        "document.querySelector(\"#output-area\").appendChild(document.createTextNode(10/3));\n",
        "document.querySelector(\"#output-area\").appendChild(document.createTextNode(\"\\n\"));\n",
        "document.querySelector(\"#output-area\").appendChild(document.createTextNode(10 % 3));\n",
        "document.querySelector(\"#output-area\").appendChild(document.createTextNode(\"\\n\"));\n",
        "document.querySelector(\"#output-area\").appendChild(document.createTextNode(Math.floor(-10 / 3)));\n",
        "document.querySelector(\"#output-area\").appendChild(document.createTextNode(\"\\n\"));\n",
        "document.querySelector(\"#output-area\").appendChild(document.createTextNode(\"晴れ\"*3));\n",
        "document.querySelector(\"#output-area\").appendChild(document.createTextNode(\"\\n\"));\n",
        "document.querySelector(\"#output-area\").appendChild(document.createTextNode(\"晴れ\" + \"雨\"));\n",
        "document.querySelector(\"#output-area\").appendChild(document.createTextNode(\"\\n\"));\n",
        "document.querySelector(\"#output-area\").appendChild(document.createTextNode(\"晴れ\" == \"晴れ\"));\n",
        "document.querySelector(\"#output-area\").appendChild(document.createTextNode(\"\\n\"));\n",
        "document.querySelector(\"#output-area\").appendChild(document.createTextNode(10**3));\n",
        "document.querySelector(\"#output-area\").appendChild(document.createTextNode(\"\\n\"));\n",
        "document.querySelector(\"#output-area\").appendChild(document.createTextNode(Math.pow(10, 3)));\n",
        "document.querySelector(\"#output-area\").appendChild(document.createTextNode(\"\\n\"));"
      ],
      "execution_count": null,
      "outputs": [
        {
          "output_type": "display_data",
          "data": {
            "application/javascript": [
              "\n",
              "document.body.style = \"white-space: pre;\";\n",
              "\n",
              "document.querySelector(\"#output-area\").appendChild(document.createTextNode(10/3));\n",
              "document.querySelector(\"#output-area\").appendChild(document.createTextNode(\"\\n\"));\n",
              "document.querySelector(\"#output-area\").appendChild(document.createTextNode(10 % 3));\n",
              "document.querySelector(\"#output-area\").appendChild(document.createTextNode(\"\\n\"));\n",
              "document.querySelector(\"#output-area\").appendChild(document.createTextNode(Math.floor(-10 / 3)));\n",
              "document.querySelector(\"#output-area\").appendChild(document.createTextNode(\"\\n\"));\n",
              "document.querySelector(\"#output-area\").appendChild(document.createTextNode(\"晴れ\"*3));\n",
              "document.querySelector(\"#output-area\").appendChild(document.createTextNode(\"\\n\"));\n",
              "document.querySelector(\"#output-area\").appendChild(document.createTextNode(\"晴れ\" + \"雨\"));\n",
              "document.querySelector(\"#output-area\").appendChild(document.createTextNode(\"\\n\"));\n",
              "document.querySelector(\"#output-area\").appendChild(document.createTextNode(\"晴れ\" == \"晴れ\"));\n",
              "document.querySelector(\"#output-area\").appendChild(document.createTextNode(\"\\n\"));\n",
              "document.querySelector(\"#output-area\").appendChild(document.createTextNode(10**3));\n",
              "document.querySelector(\"#output-area\").appendChild(document.createTextNode(\"\\n\"));\n",
              "document.querySelector(\"#output-area\").appendChild(document.createTextNode(Math.pow(10, 3)));\n",
              "document.querySelector(\"#output-area\").appendChild(document.createTextNode(\"\\n\"));"
            ],
            "text/plain": [
              "<IPython.core.display.Javascript object>"
            ]
          },
          "metadata": {
            "tags": []
          }
        }
      ]
    },
    {
      "cell_type": "markdown",
      "metadata": {
        "id": "6fRc3i3Hq2zo",
        "colab_type": "text"
      },
      "source": [
        "なにもわからないけど関数をつくってみよう。"
      ]
    },
    {
      "cell_type": "code",
      "metadata": {
        "id": "syXRslzRrIqT",
        "colab_type": "code",
        "colab": {
          "base_uri": "https://localhost:8080/",
          "height": 34
        },
        "outputId": "96d47968-742b-4092-b463-f917d188301c"
      },
      "source": [
        "%%javascript\n",
        "\n",
        "function checkGuess() {\n",
        "    return \"This is checkGuess()\"\n",
        "};\n",
        "\n",
        "document.querySelector(\"#output-area\").appendChild(document.createTextNode(checkGuess()));"
      ],
      "execution_count": null,
      "outputs": [
        {
          "output_type": "display_data",
          "data": {
            "application/javascript": [
              "\n",
              "function checkGuess() {\n",
              "    return \"This is checkGuess()\"\n",
              "};\n",
              "\n",
              "document.querySelector(\"#output-area\").appendChild(document.createTextNode(checkGuess()));"
            ],
            "text/plain": [
              "<IPython.core.display.Javascript object>"
            ]
          },
          "metadata": {
            "tags": []
          }
        }
      ]
    },
    {
      "cell_type": "markdown",
      "metadata": {
        "id": "v1G5viwVra3B",
        "colab_type": "text"
      },
      "source": [
        "とりあえず `function funcname () {}` で関数が作れるらしい。`return` で返り値を指定できる。"
      ]
    },
    {
      "cell_type": "code",
      "metadata": {
        "colab_type": "code",
        "id": "TV6kQEpTr1dc",
        "colab": {
          "base_uri": "https://localhost:8080/",
          "height": 34
        },
        "outputId": "9a46409f-f760-4e93-8ff3-711332a3b8c6"
      },
      "source": [
        "%%javascript\n",
        "\n",
        "function checkGuess (answer, guess, count) {\n",
        "    count = count + 1;\n",
        "    if (answer == guess) {\n",
        "        return \"hit!!!!\";\n",
        "    } else {\n",
        "        return \"wrong!!!!\";\n",
        "    }\n",
        "};\n",
        "\n",
        "document.querySelector(\"#output-area\").appendChild(document.createTextNode(checkGuess(3, 2, 1)));"
      ],
      "execution_count": null,
      "outputs": [
        {
          "output_type": "display_data",
          "data": {
            "application/javascript": [
              "\n",
              "function checkGuess (answer, guess, count) {\n",
              "    count = count + 1;\n",
              "    if (answer == guess) {\n",
              "        return \"hit!!!!\";\n",
              "    } else {\n",
              "        return \"wrong!!!!\";\n",
              "    }\n",
              "};\n",
              "\n",
              "document.querySelector(\"#output-area\").appendChild(document.createTextNode(checkGuess(3, 2, 1)));"
            ],
            "text/plain": [
              "<IPython.core.display.Javascript object>"
            ]
          },
          "metadata": {
            "tags": []
          }
        }
      ]
    },
    {
      "cell_type": "markdown",
      "metadata": {
        "id": "eaV-V8CEs_Ye",
        "colab_type": "text"
      },
      "source": [
        "引数を指定できる。`if () {} else {}` もだいたい予想どおり。"
      ]
    },
    {
      "cell_type": "markdown",
      "metadata": {
        "id": "xi5y8ZoHtVID",
        "colab_type": "text"
      },
      "source": [
        "文字列の結合に `+` が使える。文字列の繰り返しに `*` は使えない。\n"
      ]
    },
    {
      "cell_type": "code",
      "metadata": {
        "id": "CIwS8zGNtqme",
        "colab_type": "code",
        "colab": {
          "base_uri": "https://localhost:8080/",
          "height": 85
        },
        "outputId": "051d6b2c-3881-4429-d512-b3aaf06137dc"
      },
      "source": [
        "%%javascript\n",
        "\n",
        "document.body.style = \"white-space: pre;\";\n",
        "\n",
        "document.querySelector(\"#output-area\").appendChild(document.createTextNode(3 == '3'));\n",
        "document.querySelector(\"#output-area\").appendChild(document.createTextNode(\"\\n\"));\n",
        "document.querySelector(\"#output-area\").appendChild(document.createTextNode(3 === '3'));\n",
        "document.querySelector(\"#output-area\").appendChild(document.createTextNode(\"\\n\"));\n",
        "document.querySelector(\"#output-area\").appendChild(document.createTextNode(3 === 3));"
      ],
      "execution_count": null,
      "outputs": [
        {
          "output_type": "display_data",
          "data": {
            "application/javascript": [
              "\n",
              "document.body.style = \"white-space: pre;\";\n",
              "\n",
              "document.querySelector(\"#output-area\").appendChild(document.createTextNode(3 == '3'));\n",
              "document.querySelector(\"#output-area\").appendChild(document.createTextNode(\"\\n\"));\n",
              "document.querySelector(\"#output-area\").appendChild(document.createTextNode(3 === '3'));\n",
              "document.querySelector(\"#output-area\").appendChild(document.createTextNode(\"\\n\"));\n",
              "document.querySelector(\"#output-area\").appendChild(document.createTextNode(3 === 3));"
            ],
            "text/plain": [
              "<IPython.core.display.Javascript object>"
            ]
          },
          "metadata": {
            "tags": []
          }
        }
      ]
    },
    {
      "cell_type": "markdown",
      "metadata": {
        "id": "NHZJIdEUuRQk",
        "colab_type": "text"
      },
      "source": [
        "同等かどうか調べるのに比較演算子が2種類ある、`==` と `===` 。\n",
        "\n",
        "型の確認もしてくれるように、`===` と `!==` を使うように、と MDN は言っている。"
      ]
    },
    {
      "cell_type": "markdown",
      "metadata": {
        "id": "rR5jvtDhvV6e",
        "colab_type": "text"
      },
      "source": [
        "オブジェクトについて。実験。"
      ]
    },
    {
      "cell_type": "code",
      "metadata": {
        "id": "8xkt7_6Evanq",
        "colab_type": "code",
        "colab": {
          "base_uri": "https://localhost:8080/",
          "height": 51
        },
        "outputId": "d5483390-75a1-4af6-fbaa-e4a90b25a60b"
      },
      "source": [
        "%%javascript\n",
        "\n",
        "document.body.style = \"white-space: pre;\";\n",
        "\n",
        "outputField = document.querySelector(\"#output-area\");\n",
        "\n",
        "outputField.value = \"Hello!!!!\";\n",
        "\n",
        "outputField.appendChild(document.createTextNode(outputField.value));\n",
        "outputField.appendChild(document.createTextNode(\"\\n\"));"
      ],
      "execution_count": null,
      "outputs": [
        {
          "output_type": "display_data",
          "data": {
            "application/javascript": [
              "\n",
              "document.body.style = \"white-space: pre;\";\n",
              "\n",
              "outputField = document.querySelector(\"#output-area\");\n",
              "\n",
              "outputField.value = \"Hello!!!!\";\n",
              "\n",
              "outputField.appendChild(document.createTextNode(outputField.value));\n",
              "outputField.appendChild(document.createTextNode(\"\\n\"));"
            ],
            "text/plain": [
              "<IPython.core.display.Javascript object>"
            ]
          },
          "metadata": {
            "tags": []
          }
        }
      ]
    },
    {
      "cell_type": "markdown",
      "metadata": {
        "id": "qXacWFruwxir",
        "colab_type": "text"
      },
      "source": [
        "`style` プロパティを変えて出力を変えるのはできるか? 実験。\n",
        "\n",
        "=> よくわからないが、できなかった。"
      ]
    },
    {
      "cell_type": "markdown",
      "metadata": {
        "id": "5Ts6rFfgCIEV",
        "colab_type": "text"
      },
      "source": [
        "# 変数\n",
        "変数に値を格納する。変数は `let` で宣言する。宣言されていない変数はエラーとなる。\n",
        "\n",
        "変数の宣言にかつては `var` が使われて、いまも使えるが使わないこと。なぜなら `var` は同じ変数を2回宣言できてしまうから。\n",
        "\n",
        "正しくは、\n",
        "> let myName = 'Chris';  \n",
        "> myName = 'Bob';\n",
        "とする。\n"
      ]
    },
    {
      "cell_type": "code",
      "metadata": {
        "id": "tjEiQeTvC0Zd",
        "colab_type": "code",
        "colab": {
          "base_uri": "https://localhost:8080/",
          "height": 69
        },
        "outputId": "442c8831-4f39-4d4b-f296-5a3944be8294"
      },
      "source": [
        "%%javascript\n",
        "\n",
        "let myName;\n",
        "let myAge;\n",
        "\n",
        "document.body.style = \"white-space: pre;\";\n",
        "\n",
        "outputField = document.querySelector(\"#output-area\");\n",
        "\n",
        "outputField.appendChild(document.createTextNode(myName));\n",
        "outputField.appendChild(document.createTextNode(\"\\n\"));\n",
        "outputField.appendChild(document.createTextNode(myAge));\n",
        "outputField.appendChild(document.createTextNode(\"\\n\"));\n",
        "outputField.appendChild(document.createTextNode(scoobyDoo));\n",
        "outputField.appendChild(document.createTextNode(\"\\n\"));"
      ],
      "execution_count": null,
      "outputs": [
        {
          "output_type": "display_data",
          "data": {
            "application/javascript": [
              "\n",
              "let myName;\n",
              "let myAge;\n",
              "\n",
              "document.body.style = \"white-space: pre;\";\n",
              "\n",
              "outputField = document.querySelector(\"#output-area\");\n",
              "\n",
              "outputField.appendChild(document.createTextNode(myName));\n",
              "outputField.appendChild(document.createTextNode(\"\\n\"));\n",
              "outputField.appendChild(document.createTextNode(myAge));\n",
              "outputField.appendChild(document.createTextNode(\"\\n\"));\n",
              "outputField.appendChild(document.createTextNode(scoobyDoo));\n",
              "outputField.appendChild(document.createTextNode(\"\\n\"));"
            ],
            "text/plain": [
              "<IPython.core.display.Javascript object>"
            ]
          },
          "metadata": {
            "tags": []
          }
        }
      ]
    },
    {
      "cell_type": "markdown",
      "metadata": {
        "id": "U36GT157D0HL",
        "colab_type": "text"
      },
      "source": [
        "デベロッパーツールのコンソールに `scoobyDo iｓ undefined` と出ている。同じ庵でファインドでみ意味が違うね。"
      ]
    },
    {
      "cell_type": "code",
      "metadata": {
        "id": "cqmFjvVRDztY",
        "colab_type": "code",
        "colab": {
          "base_uri": "https://localhost:8080/",
          "height": 69
        },
        "outputId": "61815438-060d-4302-8bf7-01013549ef1c"
      },
      "source": [
        "%%javascript\n",
        "\n",
        "let myName = \"Taro\";\n",
        "let myAge = 37;\n",
        "\n",
        "myName = \"Jiro\"\n",
        "\n",
        "document.body.style = \"white-space: pre;\";\n",
        "\n",
        "outputField = document.querySelector(\"#output-area\");\n",
        "\n",
        "outputField.appendChild(document.createTextNode(myName));\n",
        "outputField.appendChild(document.createTextNode(\"\\n\"));\n",
        "outputField.appendChild(document.createTextNode(myAge));\n",
        "outputField.appendChild(document.createTextNode(\"\\n\"));"
      ],
      "execution_count": null,
      "outputs": [
        {
          "output_type": "display_data",
          "data": {
            "application/javascript": [
              "\n",
              "let myName = \"Taro\";\n",
              "let myAge = 37;\n",
              "\n",
              "myName = \"Jiro\"\n",
              "\n",
              "document.body.style = \"white-space: pre;\";\n",
              "\n",
              "outputField = document.querySelector(\"#output-area\");\n",
              "\n",
              "outputField.appendChild(document.createTextNode(myName));\n",
              "outputField.appendChild(document.createTextNode(\"\\n\"));\n",
              "outputField.appendChild(document.createTextNode(myAge));\n",
              "outputField.appendChild(document.createTextNode(\"\\n\"));"
            ],
            "text/plain": [
              "<IPython.core.display.Javascript object>"
            ]
          },
          "metadata": {
            "tags": []
          }
        }
      ]
    },
    {
      "cell_type": "markdown",
      "metadata": {
        "id": "MHK1dlhuLETy",
        "colab_type": "text"
      },
      "source": [
        "定数の宣言には `const` を使う。`const` で宣言された定数は変更できない。"
      ]
    },
    {
      "cell_type": "markdown",
      "metadata": {
        "id": "l6QNDuM2Hf7f",
        "colab_type": "text"
      },
      "source": [
        "# 配列\n",
        "配列にデータ型を混在できるか。"
      ]
    },
    {
      "cell_type": "code",
      "metadata": {
        "id": "Q-MXCqgvHntd",
        "colab_type": "code",
        "colab": {
          "base_uri": "https://localhost:8080/",
          "height": 69
        },
        "outputId": "e6fc2aa4-49b3-459a-a713-7b5278d932e7"
      },
      "source": [
        "%%javascript\n",
        "\n",
        "let myNameArray = ['Chris', 'Bob', 'Jim', 37];\n",
        "let myNumberArray = [10, 15, 40];\n",
        "\n",
        "let myName = myNameArray[0];\n",
        "let myAge = myNameArray[3];\n",
        "\n",
        "\n",
        "document.body.style = \"white-space: pre;\";\n",
        "\n",
        "outputField = document.querySelector(\"#output-area\");\n",
        "\n",
        "outputField.appendChild(document.createTextNode(myName));\n",
        "outputField.appendChild(document.createTextNode(\"\\n\"));\n",
        "outputField.appendChild(document.createTextNode(myAge));\n",
        "outputField.appendChild(document.createTextNode(\"\\n\"));"
      ],
      "execution_count": null,
      "outputs": [
        {
          "output_type": "display_data",
          "data": {
            "application/javascript": [
              "\n",
              "let myNameArray = ['Chris', 'Bob', 'Jim', 37];\n",
              "let myNumberArray = [10, 15, 40];\n",
              "\n",
              "let myName = myNameArray[0];\n",
              "let myAge = myNameArray[3];\n",
              "\n",
              "\n",
              "document.body.style = \"white-space: pre;\";\n",
              "\n",
              "outputField = document.querySelector(\"#output-area\");\n",
              "\n",
              "outputField.appendChild(document.createTextNode(myName));\n",
              "outputField.appendChild(document.createTextNode(\"\\n\"));\n",
              "outputField.appendChild(document.createTextNode(myAge));\n",
              "outputField.appendChild(document.createTextNode(\"\\n\"));"
            ],
            "text/plain": [
              "<IPython.core.display.Javascript object>"
            ]
          },
          "metadata": {
            "tags": []
          }
        }
      ]
    },
    {
      "cell_type": "markdown",
      "metadata": {
        "id": "zCwlu-aTIGJ_",
        "colab_type": "text"
      },
      "source": [
        "混在できたし、変数は型を気にしていないみたい。\n",
        "\n",
        "javascript ではリストと呼ばずに配列 `array` と呼ぶのだね。\n"
      ]
    },
    {
      "cell_type": "markdown",
      "metadata": {
        "id": "qaGaLLw7IXG6",
        "colab_type": "text"
      },
      "source": [
        "# オブジェクト\n",
        "\n",
        "let dog = { name : 'ポチ', breed : 'ダルメシアン' };\n",
        "\n",
        "って、これ Python で言う辞書、連想配列 association array, hash, Elm なら record のことだよね。オブジェクトとはこれまた。\n",
        "\n",
        "`typeof()` というので型を調べられるらしいのでホントにオブジェクトというのか確認する。"
      ]
    },
    {
      "cell_type": "code",
      "metadata": {
        "id": "KDf1K4zbO-jc",
        "colab_type": "code",
        "colab": {
          "base_uri": "https://localhost:8080/",
          "height": 86
        },
        "outputId": "c5f9254b-cab8-40e7-fbfb-170f489775b9"
      },
      "source": [
        "%%javascript\n",
        "\n",
        "let myNameArray = ['Chris', 'Bob', 'Jim', 37];\n",
        "\n",
        "let myAge = myNameArray[3];\n",
        "\n",
        "let dog = { name : 'ポチ', breed : 'ダルメシアン' };\n",
        "\n",
        "document.body.style = \"white-space: pre;\";\n",
        "\n",
        "outputField = document.querySelector(\"#output-area\");\n",
        "\n",
        "outputField.appendChild(document.createTextNode(typeof myAge));\n",
        "outputField.appendChild(document.createTextNode(\"\\n\"));\n",
        "outputField.appendChild(document.createTextNode(typeof myNameArray));\n",
        "outputField.appendChild(document.createTextNode(\"\\n\"));\n",
        "outputField.appendChild(document.createTextNode(typeof dog));\n",
        "outputField.appendChild(document.createTextNode(\"\\n\"));"
      ],
      "execution_count": null,
      "outputs": [
        {
          "output_type": "display_data",
          "data": {
            "application/javascript": [
              "\n",
              "let myNameArray = ['Chris', 'Bob', 'Jim', 37];\n",
              "\n",
              "let myAge = myNameArray[3];\n",
              "\n",
              "let dog = { name : 'ポチ', breed : 'ダルメシアン' };\n",
              "\n",
              "document.body.style = \"white-space: pre;\";\n",
              "\n",
              "outputField = document.querySelector(\"#output-area\");\n",
              "\n",
              "outputField.appendChild(document.createTextNode(typeof myAge));\n",
              "outputField.appendChild(document.createTextNode(\"\\n\"));\n",
              "outputField.appendChild(document.createTextNode(typeof myNameArray));\n",
              "outputField.appendChild(document.createTextNode(\"\\n\"));\n",
              "outputField.appendChild(document.createTextNode(typeof dog));\n",
              "outputField.appendChild(document.createTextNode(\"\\n\"));"
            ],
            "text/plain": [
              "<IPython.core.display.Javascript object>"
            ]
          },
          "metadata": {
            "tags": []
          }
        }
      ]
    },
    {
      "cell_type": "markdown",
      "metadata": {
        "id": "UKANZ_CyP5YG",
        "colab_type": "text"
      },
      "source": [
        "数字は `number` でしかなくて、配列も連想配列も `object` だ!!!\n",
        "\n",
        "ということは整数と浮動小数点数の区別がなくて、リストと配列と連想配列も `typeof` で見る限りは区別がない。"
      ]
    },
    {
      "cell_type": "markdown",
      "metadata": {
        "id": "Uq7GAzDgQY2Y",
        "colab_type": "text"
      },
      "source": [
        "# みんな数学が大好き\n"
      ]
    },
    {
      "cell_type": "markdown",
      "metadata": {
        "id": "uwK9lmu8dKv_",
        "colab_type": "text"
      },
      "source": [
        "# インクリメント・デクリメント"
      ]
    },
    {
      "cell_type": "code",
      "metadata": {
        "id": "CmToiAJndLiS",
        "colab_type": "code",
        "colab": {
          "base_uri": "https://localhost:8080/",
          "height": 136
        },
        "outputId": "1343b2d2-e341-46f7-dfc1-28530c84bb28"
      },
      "source": [
        "%%javascript\n",
        "\n",
        "document.body.style = \"white-space: pre;\";\n",
        "\n",
        "let num = 3\n",
        "\n",
        "document.querySelector(\"#output-area\").appendChild(document.createTextNode(num));\n",
        "document.querySelector(\"#output-area\").appendChild(document.createTextNode(\"\\n\"));\n",
        "document.querySelector(\"#output-area\").appendChild(document.createTextNode(num++));\n",
        "document.querySelector(\"#output-area\").appendChild(document.createTextNode(\"\\n\"));\n",
        "document.querySelector(\"#output-area\").appendChild(document.createTextNode(num--));\n",
        "document.querySelector(\"#output-area\").appendChild(document.createTextNode(\"\\n\"));\n",
        "document.querySelector(\"#output-area\").appendChild(document.createTextNode(num));\n",
        "document.querySelector(\"#output-area\").appendChild(document.createTextNode(\"\\n\"));\n",
        "document.querySelector(\"#output-area\").appendChild(document.createTextNode(--num));\n",
        "document.querySelector(\"#output-area\").appendChild(document.createTextNode(\"\\n\"));\n",
        "document.querySelector(\"#output-area\").appendChild(document.createTextNode(num));\n",
        "document.querySelector(\"#output-area\").appendChild(document.createTextNode(\"\\n\"));"
      ],
      "execution_count": null,
      "outputs": [
        {
          "output_type": "display_data",
          "data": {
            "application/javascript": [
              "\n",
              "document.body.style = \"white-space: pre;\";\n",
              "\n",
              "let num = 3\n",
              "\n",
              "document.querySelector(\"#output-area\").appendChild(document.createTextNode(num));\n",
              "document.querySelector(\"#output-area\").appendChild(document.createTextNode(\"\\n\"));\n",
              "document.querySelector(\"#output-area\").appendChild(document.createTextNode(num++));\n",
              "document.querySelector(\"#output-area\").appendChild(document.createTextNode(\"\\n\"));\n",
              "document.querySelector(\"#output-area\").appendChild(document.createTextNode(num--));\n",
              "document.querySelector(\"#output-area\").appendChild(document.createTextNode(\"\\n\"));\n",
              "document.querySelector(\"#output-area\").appendChild(document.createTextNode(num));\n",
              "document.querySelector(\"#output-area\").appendChild(document.createTextNode(\"\\n\"));\n",
              "document.querySelector(\"#output-area\").appendChild(document.createTextNode(--num));\n",
              "document.querySelector(\"#output-area\").appendChild(document.createTextNode(\"\\n\"));\n",
              "document.querySelector(\"#output-area\").appendChild(document.createTextNode(num));\n",
              "document.querySelector(\"#output-area\").appendChild(document.createTextNode(\"\\n\"));"
            ],
            "text/plain": [
              "<IPython.core.display.Javascript object>"
            ]
          },
          "metadata": {
            "tags": []
          }
        }
      ]
    },
    {
      "cell_type": "markdown",
      "metadata": {
        "id": "poUWlVLIfxNt",
        "colab_type": "text"
      },
      "source": [
        "# テキストを扱う — JavaScript での文字列\n",
        "\n"
      ]
    },
    {
      "cell_type": "markdown",
      "metadata": {
        "id": "mHWP31WGtmTc",
        "colab_type": "text"
      },
      "source": [
        "\n",
        "# いまここ\n",
        "\n",
        "https://developer.mozilla.org/ja/docs/Learn/JavaScript/First_steps/Strings"
      ]
    }
  ]
}