{
  "nbformat": 4,
  "nbformat_minor": 0,
  "metadata": {
    "colab": {
      "name": "learnjs.ipynb",
      "provenance": [],
      "toc_visible": true,
      "authorship_tag": "ABX9TyPA1yKDzenASu9TQeNEQKn1",
      "include_colab_link": true
    },
    "kernelspec": {
      "name": "python3",
      "display_name": "Python 3"
    }
  },
  "cells": [
    {
      "cell_type": "markdown",
      "metadata": {
        "id": "view-in-github",
        "colab_type": "text"
      },
      "source": [
        "<a href=\"https://colab.research.google.com/github/kalz2q/mycolabnotebooks/blob/master/learnjs.ipynb\" target=\"_parent\"><img src=\"https://colab.research.google.com/assets/colab-badge.svg\" alt=\"Open In Colab\"/></a>"
      ]
    },
    {
      "cell_type": "markdown",
      "metadata": {
        "id": "cG6xXZZ1h0LB",
        "colab_type": "text"
      },
      "source": [
        "# はじめに、というか\n",
        "\n",
        "`Colab` で `%%javascript` マジック・コマンドを使って、`JavaScript` の勉強をしようと思い立ったのだが、ふつーのテキストにある `alert()` とか `prompt()` とかが使えない。`console.log()` は使えるが、それだといちいち `デベロッパーツール` を開かないといけないよね。\n",
        "\n",
        "デベロッパーツールをひらいてみると、`alert()` とか `prompt()` のエラーが出てて、たいへん。`Ctrl-L` でクリアーできる。\n",
        "\n",
        "やりたいことは colab のコードセルに javascrip を書いて、セルを実行するとセルの出力欄にアウトプットが出るような形なので、探したら次のようなのがあった。"
      ]
    },
    {
      "cell_type": "code",
      "metadata": {
        "id": "xRuGEUiZjcj4",
        "colab_type": "code",
        "colab": {
          "base_uri": "https://localhost:8080/",
          "height": 85
        },
        "outputId": "7c7f85b8-d9de-415d-d3a3-2b8b087e1405"
      },
      "source": [
        "%%javascript\n",
        "\n",
        "document.body.style = \"white-space: pre;\";\n",
        "\n",
        "document.querySelector(\"#output-area\").appendChild(document.createTextNode(\"二行書いたら\\nどうなるか\"));\n",
        "document.querySelector(\"#output-area\").appendChild(document.createTextNode(\"\\n\"));\n",
        "document.querySelector(\"#output-area\").appendChild(document.createTextNode(\"二行目\"));"
      ],
      "execution_count": null,
      "outputs": [
        {
          "output_type": "display_data",
          "data": {
            "application/javascript": [
              "\n",
              "document.body.style = \"white-space: pre;\";\n",
              "\n",
              "document.querySelector(\"#output-area\").appendChild(document.createTextNode(\"二行書いたら\\nどうなるか\"));\n",
              "document.querySelector(\"#output-area\").appendChild(document.createTextNode(\"\\n\"));\n",
              "document.querySelector(\"#output-area\").appendChild(document.createTextNode(\"二行目\"));"
            ],
            "text/plain": [
              "<IPython.core.display.Javascript object>"
            ]
          },
          "metadata": {
            "tags": []
          }
        }
      ]
    },
    {
      "cell_type": "markdown",
      "metadata": {
        "id": "QKc4eZ57kb5u",
        "colab_type": "text"
      },
      "source": [
        "これで改行マークが使えるし、行替えもめんどうだけど、できる。\n",
        "\n",
        "MDN のドキュメント https://developer.mozilla.org/en-US/docs/Web/CSS/white-space にほかのオプションも書いてあっていずれにしてもよくわからないが、とりあえずすこし前に進めた。"
      ]
    },
    {
      "cell_type": "markdown",
      "metadata": {
        "id": "oIYj_aOhqlA5",
        "colab_type": "text"
      },
      "source": [
        "# JavaScript はじめの一歩\n",
        "\n",
        "MDNのチュートリアルの例でこの環境では使えないのは飛ばして、メモをとりなが読んで行こう。\n",
        "\n",
        "https://developer.mozilla.org/ja/docs/Learn/JavaScript/First_steps/What_is_JavaScript\n",
        "\n",
        "コメントは `//` と `/* */`。これはつかえるかな。やってみよう。\n"
      ]
    },
    {
      "cell_type": "code",
      "metadata": {
        "id": "Se7x_0xu6cuR",
        "colab_type": "code",
        "colab": {
          "base_uri": "https://localhost:8080/",
          "height": 68
        },
        "outputId": "bae4e0b0-74d1-4c18-e9fa-829057bfe482"
      },
      "source": [
        "%%javascript\n",
        "\n",
        "// これはコメント\n",
        "\n",
        "/* 何行にも\n",
        "   わたるコメントは\n",
        "   こんな */\n",
        "\n",
        "document.body.style = \"white-space: pre;\"\n",
        "\n",
        "document.querySelector(\"#output-area\").appendChild(document.createTextNode(\"はろー\\n\"));\n",
        "document.querySelector(\"#output-area\").appendChild(document.createTextNode(\"はろー\\n\"));"
      ],
      "execution_count": null,
      "outputs": [
        {
          "output_type": "display_data",
          "data": {
            "application/javascript": [
              "\n",
              "// これはコメント\n",
              "\n",
              "/* 何行にも\n",
              "   わたるコメントは\n",
              "   こんな */\n",
              "\n",
              "document.body.style = \"white-space: pre;\"\n",
              "\n",
              "document.querySelector(\"#output-area\").appendChild(document.createTextNode(\"はろー\\n\"));\n",
              "document.querySelector(\"#output-area\").appendChild(document.createTextNode(\"はろー\\n\"));"
            ],
            "text/plain": [
              "<IPython.core.display.Javascript object>"
            ]
          },
          "metadata": {
            "tags": []
          }
        }
      ]
    },
    {
      "cell_type": "markdown",
      "metadata": {
        "id": "YtCE3SsQ7Ubo",
        "colab_type": "text"
      },
      "source": [
        "使えた。Python や Ruby の `#` ではなくて、C++ や Java の `//` なのだ。覚えよう。\n"
      ]
    },
    {
      "cell_type": "markdown",
      "metadata": {
        "id": "bidrpOZ48BaV",
        "colab_type": "text"
      },
      "source": [
        "# 数あてゲーム\n",
        "\n",
        "次の例が数当てゲームだが、ユーザーとのやりとりはやりたくないので、ゲームとして完成させることはあきらめて、部分部分を見ていこう。関数とか。ランダムの使い方、とか。"
      ]
    },
    {
      "cell_type": "code",
      "metadata": {
        "id": "2b0J8k5m9HWF",
        "colab_type": "code",
        "colab": {
          "base_uri": "https://localhost:8080/",
          "height": 51
        },
        "outputId": "926bb843-d918-4798-c4ff-89dae7518ee8"
      },
      "source": [
        "%%javascript\n",
        "\n",
        "document.body.style = \"white-space: pre;\"\n",
        "\n",
        "let randomNumber = Math.floor(Math.random() * 100) + 1;\n",
        "\n",
        "document.querySelector(\"#output-area\").appendChild(document.createTextNode(randomNumber));\n"
      ],
      "execution_count": null,
      "outputs": [
        {
          "output_type": "display_data",
          "data": {
            "application/javascript": [
              "\n",
              "document.body.style = \"white-space: pre;\"\n",
              "\n",
              "let randomNumber = Math.floor(Math.random() * 100) + 1;\n",
              "\n",
              "document.querySelector(\"#output-area\").appendChild(document.createTextNode(randomNumber));"
            ],
            "text/plain": [
              "<IPython.core.display.Javascript object>"
            ]
          },
          "metadata": {
            "tags": []
          }
        }
      ]
    },
    {
      "cell_type": "markdown",
      "metadata": {
        "id": "34qJlNCSP4na",
        "colab_type": "text"
      },
      "source": [
        "`Math.random()` は普通に使えた。\n",
        "\n",
        "`document.createTextNode()` で数字が自動で文字列に変換されているのだろうか。\n",
        "\n",
        "そもそも、JavaScript の型ってどうやって調べるのか。型にはうるさいのか。どういうしくみか。"
      ]
    },
    {
      "cell_type": "markdown",
      "metadata": {
        "id": "9Uy5HzVoSCoG",
        "colab_type": "text"
      },
      "source": [
        "# 四則演算\n",
        "\n",
        "加算減算乗算除算は普通。10/3 も普通に float になる。\n",
        "\n",
        "python の `//` に当たるのは `Math.floor()` かな。\n",
        "\n",
        "冪乗は `**` で Python と同じ!!!!"
      ]
    },
    {
      "cell_type": "code",
      "metadata": {
        "id": "g34dIsYgRVAb",
        "colab_type": "code",
        "colab": {
          "base_uri": "https://localhost:8080/",
          "height": 170
        },
        "outputId": "f949f8dc-6d13-4f19-9ef8-22c49bb2b3a0"
      },
      "source": [
        "%%javascript\n",
        "\n",
        "document.body.style = \"white-space: pre;\";\n",
        "\n",
        "document.querySelector(\"#output-area\").appendChild(document.createTextNode(10/3));\n",
        "document.querySelector(\"#output-area\").appendChild(document.createTextNode(\"\\n\"));\n",
        "document.querySelector(\"#output-area\").appendChild(document.createTextNode(10 % 3));\n",
        "document.querySelector(\"#output-area\").appendChild(document.createTextNode(\"\\n\"));\n",
        "document.querySelector(\"#output-area\").appendChild(document.createTextNode(Math.floor(-10 / 3)));\n",
        "document.querySelector(\"#output-area\").appendChild(document.createTextNode(\"\\n\"));\n",
        "document.querySelector(\"#output-area\").appendChild(document.createTextNode(\"晴れ\"*3));\n",
        "document.querySelector(\"#output-area\").appendChild(document.createTextNode(\"\\n\"));\n",
        "document.querySelector(\"#output-area\").appendChild(document.createTextNode(\"晴れ\" + \"雨\"));\n",
        "document.querySelector(\"#output-area\").appendChild(document.createTextNode(\"\\n\"));\n",
        "document.querySelector(\"#output-area\").appendChild(document.createTextNode(\"晴れ\" == \"晴れ\"));\n",
        "document.querySelector(\"#output-area\").appendChild(document.createTextNode(\"\\n\"));\n",
        "document.querySelector(\"#output-area\").appendChild(document.createTextNode(10**3));\n",
        "document.querySelector(\"#output-area\").appendChild(document.createTextNode(\"\\n\"));\n",
        "document.querySelector(\"#output-area\").appendChild(document.createTextNode(Math.pow(10, 3)));\n",
        "document.querySelector(\"#output-area\").appendChild(document.createTextNode(\"\\n\"));"
      ],
      "execution_count": null,
      "outputs": [
        {
          "output_type": "display_data",
          "data": {
            "application/javascript": [
              "\n",
              "document.body.style = \"white-space: pre;\";\n",
              "\n",
              "document.querySelector(\"#output-area\").appendChild(document.createTextNode(10/3));\n",
              "document.querySelector(\"#output-area\").appendChild(document.createTextNode(\"\\n\"));\n",
              "document.querySelector(\"#output-area\").appendChild(document.createTextNode(10 % 3));\n",
              "document.querySelector(\"#output-area\").appendChild(document.createTextNode(\"\\n\"));\n",
              "document.querySelector(\"#output-area\").appendChild(document.createTextNode(Math.floor(-10 / 3)));\n",
              "document.querySelector(\"#output-area\").appendChild(document.createTextNode(\"\\n\"));\n",
              "document.querySelector(\"#output-area\").appendChild(document.createTextNode(\"晴れ\"*3));\n",
              "document.querySelector(\"#output-area\").appendChild(document.createTextNode(\"\\n\"));\n",
              "document.querySelector(\"#output-area\").appendChild(document.createTextNode(\"晴れ\" + \"雨\"));\n",
              "document.querySelector(\"#output-area\").appendChild(document.createTextNode(\"\\n\"));\n",
              "document.querySelector(\"#output-area\").appendChild(document.createTextNode(\"晴れ\" == \"晴れ\"));\n",
              "document.querySelector(\"#output-area\").appendChild(document.createTextNode(\"\\n\"));\n",
              "document.querySelector(\"#output-area\").appendChild(document.createTextNode(10**3));\n",
              "document.querySelector(\"#output-area\").appendChild(document.createTextNode(\"\\n\"));\n",
              "document.querySelector(\"#output-area\").appendChild(document.createTextNode(Math.pow(10, 3)));\n",
              "document.querySelector(\"#output-area\").appendChild(document.createTextNode(\"\\n\"));"
            ],
            "text/plain": [
              "<IPython.core.display.Javascript object>"
            ]
          },
          "metadata": {
            "tags": []
          }
        }
      ]
    },
    {
      "cell_type": "markdown",
      "metadata": {
        "id": "6fRc3i3Hq2zo",
        "colab_type": "text"
      },
      "source": [
        "なにもわからないけど関数をつくってみよう。"
      ]
    },
    {
      "cell_type": "code",
      "metadata": {
        "id": "syXRslzRrIqT",
        "colab_type": "code",
        "colab": {
          "base_uri": "https://localhost:8080/",
          "height": 34
        },
        "outputId": "96d47968-742b-4092-b463-f917d188301c"
      },
      "source": [
        "%%javascript\n",
        "\n",
        "function checkGuess() {\n",
        "    return \"This is checkGuess()\"\n",
        "};\n",
        "\n",
        "document.querySelector(\"#output-area\").appendChild(document.createTextNode(checkGuess()));"
      ],
      "execution_count": null,
      "outputs": [
        {
          "output_type": "display_data",
          "data": {
            "application/javascript": [
              "\n",
              "function checkGuess() {\n",
              "    return \"This is checkGuess()\"\n",
              "};\n",
              "\n",
              "document.querySelector(\"#output-area\").appendChild(document.createTextNode(checkGuess()));"
            ],
            "text/plain": [
              "<IPython.core.display.Javascript object>"
            ]
          },
          "metadata": {
            "tags": []
          }
        }
      ]
    },
    {
      "cell_type": "markdown",
      "metadata": {
        "id": "v1G5viwVra3B",
        "colab_type": "text"
      },
      "source": [
        "とりあえず `function funcname () {}` で関数が作れるらしい。`return` で返り値を指定できる。"
      ]
    },
    {
      "cell_type": "code",
      "metadata": {
        "colab_type": "code",
        "id": "TV6kQEpTr1dc",
        "colab": {
          "base_uri": "https://localhost:8080/",
          "height": 34
        },
        "outputId": "9a46409f-f760-4e93-8ff3-711332a3b8c6"
      },
      "source": [
        "%%javascript\n",
        "\n",
        "function checkGuess (answer, guess, count) {\n",
        "    count = count + 1;\n",
        "    if (answer == guess) {\n",
        "        return \"hit!!!!\";\n",
        "    } else {\n",
        "        return \"wrong!!!!\";\n",
        "    }\n",
        "};\n",
        "\n",
        "document.querySelector(\"#output-area\").appendChild(document.createTextNode(checkGuess(3, 2, 1)));"
      ],
      "execution_count": null,
      "outputs": [
        {
          "output_type": "display_data",
          "data": {
            "application/javascript": [
              "\n",
              "function checkGuess (answer, guess, count) {\n",
              "    count = count + 1;\n",
              "    if (answer == guess) {\n",
              "        return \"hit!!!!\";\n",
              "    } else {\n",
              "        return \"wrong!!!!\";\n",
              "    }\n",
              "};\n",
              "\n",
              "document.querySelector(\"#output-area\").appendChild(document.createTextNode(checkGuess(3, 2, 1)));"
            ],
            "text/plain": [
              "<IPython.core.display.Javascript object>"
            ]
          },
          "metadata": {
            "tags": []
          }
        }
      ]
    },
    {
      "cell_type": "markdown",
      "metadata": {
        "id": "eaV-V8CEs_Ye",
        "colab_type": "text"
      },
      "source": [
        "引数を指定できる。`if () {} else {}` もだいたい予想どおり。"
      ]
    },
    {
      "cell_type": "markdown",
      "metadata": {
        "id": "xi5y8ZoHtVID",
        "colab_type": "text"
      },
      "source": [
        "文字列の結合に `+` が使える。文字列の繰り返しに `*` は使えない。\n"
      ]
    },
    {
      "cell_type": "code",
      "metadata": {
        "id": "CIwS8zGNtqme",
        "colab_type": "code",
        "colab": {
          "base_uri": "https://localhost:8080/",
          "height": 85
        },
        "outputId": "051d6b2c-3881-4429-d512-b3aaf06137dc"
      },
      "source": [
        "%%javascript\n",
        "\n",
        "document.body.style = \"white-space: pre;\";\n",
        "\n",
        "document.querySelector(\"#output-area\").appendChild(document.createTextNode(3 == '3'));\n",
        "document.querySelector(\"#output-area\").appendChild(document.createTextNode(\"\\n\"));\n",
        "document.querySelector(\"#output-area\").appendChild(document.createTextNode(3 === '3'));\n",
        "document.querySelector(\"#output-area\").appendChild(document.createTextNode(\"\\n\"));\n",
        "document.querySelector(\"#output-area\").appendChild(document.createTextNode(3 === 3));"
      ],
      "execution_count": null,
      "outputs": [
        {
          "output_type": "display_data",
          "data": {
            "application/javascript": [
              "\n",
              "document.body.style = \"white-space: pre;\";\n",
              "\n",
              "document.querySelector(\"#output-area\").appendChild(document.createTextNode(3 == '3'));\n",
              "document.querySelector(\"#output-area\").appendChild(document.createTextNode(\"\\n\"));\n",
              "document.querySelector(\"#output-area\").appendChild(document.createTextNode(3 === '3'));\n",
              "document.querySelector(\"#output-area\").appendChild(document.createTextNode(\"\\n\"));\n",
              "document.querySelector(\"#output-area\").appendChild(document.createTextNode(3 === 3));"
            ],
            "text/plain": [
              "<IPython.core.display.Javascript object>"
            ]
          },
          "metadata": {
            "tags": []
          }
        }
      ]
    },
    {
      "cell_type": "markdown",
      "metadata": {
        "id": "NHZJIdEUuRQk",
        "colab_type": "text"
      },
      "source": [
        "同等かどうか調べるのに比較演算子が2種類ある、`==` と `===` 。\n",
        "\n",
        "型の確認もしてくれるように、`===` と `!==` を使うように、と MDN は言っている。"
      ]
    },
    {
      "cell_type": "markdown",
      "metadata": {
        "id": "rR5jvtDhvV6e",
        "colab_type": "text"
      },
      "source": [
        "オブジェクトについて。実験。"
      ]
    },
    {
      "cell_type": "code",
      "metadata": {
        "id": "8xkt7_6Evanq",
        "colab_type": "code",
        "colab": {
          "base_uri": "https://localhost:8080/",
          "height": 51
        },
        "outputId": "d5483390-75a1-4af6-fbaa-e4a90b25a60b"
      },
      "source": [
        "%%javascript\n",
        "\n",
        "document.body.style = \"white-space: pre;\";\n",
        "\n",
        "outputField = document.querySelector(\"#output-area\");\n",
        "\n",
        "outputField.value = \"Hello!!!!\";\n",
        "\n",
        "outputField.appendChild(document.createTextNode(outputField.value));\n",
        "outputField.appendChild(document.createTextNode(\"\\n\"));"
      ],
      "execution_count": null,
      "outputs": [
        {
          "output_type": "display_data",
          "data": {
            "application/javascript": [
              "\n",
              "document.body.style = \"white-space: pre;\";\n",
              "\n",
              "outputField = document.querySelector(\"#output-area\");\n",
              "\n",
              "outputField.value = \"Hello!!!!\";\n",
              "\n",
              "outputField.appendChild(document.createTextNode(outputField.value));\n",
              "outputField.appendChild(document.createTextNode(\"\\n\"));"
            ],
            "text/plain": [
              "<IPython.core.display.Javascript object>"
            ]
          },
          "metadata": {
            "tags": []
          }
        }
      ]
    },
    {
      "cell_type": "markdown",
      "metadata": {
        "id": "qXacWFruwxir",
        "colab_type": "text"
      },
      "source": [
        "`style` プロパティを変えて出力を変えるのはできるか? 実験。\n",
        "\n",
        "=> よくわからないが、できなかった。"
      ]
    },
    {
      "cell_type": "markdown",
      "metadata": {
        "id": "5Ts6rFfgCIEV",
        "colab_type": "text"
      },
      "source": [
        "# 変数\n",
        "変数に値を格納する。変数は `let` で宣言する。宣言されていない変数はエラーとなる。\n",
        "\n",
        "変数の宣言にかつては `var` が使われて、いまも使えるが使わないこと。なぜなら `var` は同じ変数を2回宣言できてしまうから。\n",
        "\n",
        "正しくは、\n",
        "> let myName = 'Chris';  \n",
        "> myName = 'Bob';\n",
        "とする。\n"
      ]
    },
    {
      "cell_type": "code",
      "metadata": {
        "id": "tjEiQeTvC0Zd",
        "colab_type": "code",
        "colab": {
          "base_uri": "https://localhost:8080/",
          "height": 69
        },
        "outputId": "442c8831-4f39-4d4b-f296-5a3944be8294"
      },
      "source": [
        "%%javascript\n",
        "\n",
        "let myName;\n",
        "let myAge;\n",
        "\n",
        "document.body.style = \"white-space: pre;\";\n",
        "\n",
        "outputField = document.querySelector(\"#output-area\");\n",
        "\n",
        "outputField.appendChild(document.createTextNode(myName));\n",
        "outputField.appendChild(document.createTextNode(\"\\n\"));\n",
        "outputField.appendChild(document.createTextNode(myAge));\n",
        "outputField.appendChild(document.createTextNode(\"\\n\"));\n",
        "outputField.appendChild(document.createTextNode(scoobyDoo));\n",
        "outputField.appendChild(document.createTextNode(\"\\n\"));"
      ],
      "execution_count": null,
      "outputs": [
        {
          "output_type": "display_data",
          "data": {
            "application/javascript": [
              "\n",
              "let myName;\n",
              "let myAge;\n",
              "\n",
              "document.body.style = \"white-space: pre;\";\n",
              "\n",
              "outputField = document.querySelector(\"#output-area\");\n",
              "\n",
              "outputField.appendChild(document.createTextNode(myName));\n",
              "outputField.appendChild(document.createTextNode(\"\\n\"));\n",
              "outputField.appendChild(document.createTextNode(myAge));\n",
              "outputField.appendChild(document.createTextNode(\"\\n\"));\n",
              "outputField.appendChild(document.createTextNode(scoobyDoo));\n",
              "outputField.appendChild(document.createTextNode(\"\\n\"));"
            ],
            "text/plain": [
              "<IPython.core.display.Javascript object>"
            ]
          },
          "metadata": {
            "tags": []
          }
        }
      ]
    },
    {
      "cell_type": "markdown",
      "metadata": {
        "id": "U36GT157D0HL",
        "colab_type": "text"
      },
      "source": [
        "デベロッパーツールのコンソールに `scoobyDo iｓ undefined` と出ている。同じ庵でファインドでみ意味が違うね。"
      ]
    },
    {
      "cell_type": "code",
      "metadata": {
        "id": "cqmFjvVRDztY",
        "colab_type": "code",
        "colab": {
          "base_uri": "https://localhost:8080/",
          "height": 69
        },
        "outputId": "61815438-060d-4302-8bf7-01013549ef1c"
      },
      "source": [
        "%%javascript\n",
        "\n",
        "let myName = \"Taro\";\n",
        "let myAge = 37;\n",
        "\n",
        "myName = \"Jiro\"\n",
        "\n",
        "document.body.style = \"white-space: pre;\";\n",
        "\n",
        "outputField = document.querySelector(\"#output-area\");\n",
        "\n",
        "outputField.appendChild(document.createTextNode(myName));\n",
        "outputField.appendChild(document.createTextNode(\"\\n\"));\n",
        "outputField.appendChild(document.createTextNode(myAge));\n",
        "outputField.appendChild(document.createTextNode(\"\\n\"));"
      ],
      "execution_count": null,
      "outputs": [
        {
          "output_type": "display_data",
          "data": {
            "application/javascript": [
              "\n",
              "let myName = \"Taro\";\n",
              "let myAge = 37;\n",
              "\n",
              "myName = \"Jiro\"\n",
              "\n",
              "document.body.style = \"white-space: pre;\";\n",
              "\n",
              "outputField = document.querySelector(\"#output-area\");\n",
              "\n",
              "outputField.appendChild(document.createTextNode(myName));\n",
              "outputField.appendChild(document.createTextNode(\"\\n\"));\n",
              "outputField.appendChild(document.createTextNode(myAge));\n",
              "outputField.appendChild(document.createTextNode(\"\\n\"));"
            ],
            "text/plain": [
              "<IPython.core.display.Javascript object>"
            ]
          },
          "metadata": {
            "tags": []
          }
        }
      ]
    },
    {
      "cell_type": "markdown",
      "metadata": {
        "id": "MHK1dlhuLETy",
        "colab_type": "text"
      },
      "source": [
        "定数の宣言には `const` を使う。`const` で宣言された定数は変更できない。"
      ]
    },
    {
      "cell_type": "markdown",
      "metadata": {
        "id": "l6QNDuM2Hf7f",
        "colab_type": "text"
      },
      "source": [
        "# 配列\n",
        "配列にデータ型を混在できるか。"
      ]
    },
    {
      "cell_type": "code",
      "metadata": {
        "id": "Q-MXCqgvHntd",
        "colab_type": "code",
        "colab": {
          "base_uri": "https://localhost:8080/",
          "height": 69
        },
        "outputId": "e6fc2aa4-49b3-459a-a713-7b5278d932e7"
      },
      "source": [
        "%%javascript\n",
        "\n",
        "let myNameArray = ['Chris', 'Bob', 'Jim', 37];\n",
        "let myNumberArray = [10, 15, 40];\n",
        "\n",
        "let myName = myNameArray[0];\n",
        "let myAge = myNameArray[3];\n",
        "\n",
        "\n",
        "document.body.style = \"white-space: pre;\";\n",
        "\n",
        "outputField = document.querySelector(\"#output-area\");\n",
        "\n",
        "outputField.appendChild(document.createTextNode(myName));\n",
        "outputField.appendChild(document.createTextNode(\"\\n\"));\n",
        "outputField.appendChild(document.createTextNode(myAge));\n",
        "outputField.appendChild(document.createTextNode(\"\\n\"));"
      ],
      "execution_count": null,
      "outputs": [
        {
          "output_type": "display_data",
          "data": {
            "application/javascript": [
              "\n",
              "let myNameArray = ['Chris', 'Bob', 'Jim', 37];\n",
              "let myNumberArray = [10, 15, 40];\n",
              "\n",
              "let myName = myNameArray[0];\n",
              "let myAge = myNameArray[3];\n",
              "\n",
              "\n",
              "document.body.style = \"white-space: pre;\";\n",
              "\n",
              "outputField = document.querySelector(\"#output-area\");\n",
              "\n",
              "outputField.appendChild(document.createTextNode(myName));\n",
              "outputField.appendChild(document.createTextNode(\"\\n\"));\n",
              "outputField.appendChild(document.createTextNode(myAge));\n",
              "outputField.appendChild(document.createTextNode(\"\\n\"));"
            ],
            "text/plain": [
              "<IPython.core.display.Javascript object>"
            ]
          },
          "metadata": {
            "tags": []
          }
        }
      ]
    },
    {
      "cell_type": "markdown",
      "metadata": {
        "id": "zCwlu-aTIGJ_",
        "colab_type": "text"
      },
      "source": [
        "混在できたし、変数は型を気にしていないみたい。\n",
        "\n",
        "javascript ではリストと呼ばずに配列 `array` と呼ぶのだね。\n"
      ]
    },
    {
      "cell_type": "markdown",
      "metadata": {
        "id": "qaGaLLw7IXG6",
        "colab_type": "text"
      },
      "source": [
        "# オブジェクト\n",
        "\n",
        "let dog = { name : 'ポチ', breed : 'ダルメシアン' };\n",
        "\n",
        "って、これ Python で言う辞書、連想配列 association array, hash, Elm なら record のことだよね。オブジェクトとはこれまた。\n",
        "\n",
        "`typeof()` というので型を調べられるらしいのでホントにオブジェクトというのか確認する。"
      ]
    },
    {
      "cell_type": "code",
      "metadata": {
        "id": "KDf1K4zbO-jc",
        "colab_type": "code",
        "colab": {
          "base_uri": "https://localhost:8080/",
          "height": 86
        },
        "outputId": "c5f9254b-cab8-40e7-fbfb-170f489775b9"
      },
      "source": [
        "%%javascript\n",
        "\n",
        "let myNameArray = ['Chris', 'Bob', 'Jim', 37];\n",
        "\n",
        "let myAge = myNameArray[3];\n",
        "\n",
        "let dog = { name : 'ポチ', breed : 'ダルメシアン' };\n",
        "\n",
        "document.body.style = \"white-space: pre;\";\n",
        "\n",
        "outputField = document.querySelector(\"#output-area\");\n",
        "\n",
        "outputField.appendChild(document.createTextNode(typeof myAge));\n",
        "outputField.appendChild(document.createTextNode(\"\\n\"));\n",
        "outputField.appendChild(document.createTextNode(typeof myNameArray));\n",
        "outputField.appendChild(document.createTextNode(\"\\n\"));\n",
        "outputField.appendChild(document.createTextNode(typeof dog));\n",
        "outputField.appendChild(document.createTextNode(\"\\n\"));"
      ],
      "execution_count": null,
      "outputs": [
        {
          "output_type": "display_data",
          "data": {
            "application/javascript": [
              "\n",
              "let myNameArray = ['Chris', 'Bob', 'Jim', 37];\n",
              "\n",
              "let myAge = myNameArray[3];\n",
              "\n",
              "let dog = { name : 'ポチ', breed : 'ダルメシアン' };\n",
              "\n",
              "document.body.style = \"white-space: pre;\";\n",
              "\n",
              "outputField = document.querySelector(\"#output-area\");\n",
              "\n",
              "outputField.appendChild(document.createTextNode(typeof myAge));\n",
              "outputField.appendChild(document.createTextNode(\"\\n\"));\n",
              "outputField.appendChild(document.createTextNode(typeof myNameArray));\n",
              "outputField.appendChild(document.createTextNode(\"\\n\"));\n",
              "outputField.appendChild(document.createTextNode(typeof dog));\n",
              "outputField.appendChild(document.createTextNode(\"\\n\"));"
            ],
            "text/plain": [
              "<IPython.core.display.Javascript object>"
            ]
          },
          "metadata": {
            "tags": []
          }
        }
      ]
    },
    {
      "cell_type": "markdown",
      "metadata": {
        "id": "UKANZ_CyP5YG",
        "colab_type": "text"
      },
      "source": [
        "数字は `number` でしかなくて、配列も連想配列も `object` だ!!!\n",
        "\n",
        "ということは整数と浮動小数点数の区別がなくて、リストと配列と連想配列も `typeof` で見る限りは区別がない。"
      ]
    },
    {
      "cell_type": "markdown",
      "metadata": {
        "id": "Uq7GAzDgQY2Y",
        "colab_type": "text"
      },
      "source": [
        "# みんな数学が大好き\n"
      ]
    },
    {
      "cell_type": "markdown",
      "metadata": {
        "id": "uwK9lmu8dKv_",
        "colab_type": "text"
      },
      "source": [
        "# インクリメント・デクリメント"
      ]
    },
    {
      "cell_type": "code",
      "metadata": {
        "id": "CmToiAJndLiS",
        "colab_type": "code",
        "colab": {
          "base_uri": "https://localhost:8080/",
          "height": 136
        },
        "outputId": "1343b2d2-e341-46f7-dfc1-28530c84bb28"
      },
      "source": [
        "%%javascript\n",
        "\n",
        "document.body.style = \"white-space: pre;\";\n",
        "\n",
        "let num = 3\n",
        "\n",
        "document.querySelector(\"#output-area\").appendChild(document.createTextNode(num));\n",
        "document.querySelector(\"#output-area\").appendChild(document.createTextNode(\"\\n\"));\n",
        "document.querySelector(\"#output-area\").appendChild(document.createTextNode(num++));\n",
        "document.querySelector(\"#output-area\").appendChild(document.createTextNode(\"\\n\"));\n",
        "document.querySelector(\"#output-area\").appendChild(document.createTextNode(num--));\n",
        "document.querySelector(\"#output-area\").appendChild(document.createTextNode(\"\\n\"));\n",
        "document.querySelector(\"#output-area\").appendChild(document.createTextNode(num));\n",
        "document.querySelector(\"#output-area\").appendChild(document.createTextNode(\"\\n\"));\n",
        "document.querySelector(\"#output-area\").appendChild(document.createTextNode(--num));\n",
        "document.querySelector(\"#output-area\").appendChild(document.createTextNode(\"\\n\"));\n",
        "document.querySelector(\"#output-area\").appendChild(document.createTextNode(num));\n",
        "document.querySelector(\"#output-area\").appendChild(document.createTextNode(\"\\n\"));"
      ],
      "execution_count": null,
      "outputs": [
        {
          "output_type": "display_data",
          "data": {
            "application/javascript": [
              "\n",
              "document.body.style = \"white-space: pre;\";\n",
              "\n",
              "let num = 3\n",
              "\n",
              "document.querySelector(\"#output-area\").appendChild(document.createTextNode(num));\n",
              "document.querySelector(\"#output-area\").appendChild(document.createTextNode(\"\\n\"));\n",
              "document.querySelector(\"#output-area\").appendChild(document.createTextNode(num++));\n",
              "document.querySelector(\"#output-area\").appendChild(document.createTextNode(\"\\n\"));\n",
              "document.querySelector(\"#output-area\").appendChild(document.createTextNode(num--));\n",
              "document.querySelector(\"#output-area\").appendChild(document.createTextNode(\"\\n\"));\n",
              "document.querySelector(\"#output-area\").appendChild(document.createTextNode(num));\n",
              "document.querySelector(\"#output-area\").appendChild(document.createTextNode(\"\\n\"));\n",
              "document.querySelector(\"#output-area\").appendChild(document.createTextNode(--num));\n",
              "document.querySelector(\"#output-area\").appendChild(document.createTextNode(\"\\n\"));\n",
              "document.querySelector(\"#output-area\").appendChild(document.createTextNode(num));\n",
              "document.querySelector(\"#output-area\").appendChild(document.createTextNode(\"\\n\"));"
            ],
            "text/plain": [
              "<IPython.core.display.Javascript object>"
            ]
          },
          "metadata": {
            "tags": []
          }
        }
      ]
    },
    {
      "cell_type": "markdown",
      "metadata": {
        "id": "poUWlVLIfxNt",
        "colab_type": "text"
      },
      "source": [
        "# 文字列、数値変換\n",
        "\n",
        "`N8mber()`、`String()`、`toString()`とか。\n",
        "\n",
        "演算子で '19' + '67' とかすると、文字列になる。\n",
        "\n"
      ]
    },
    {
      "cell_type": "markdown",
      "metadata": {
        "id": "EjXkO3rp8Bm2",
        "colab_type": "text"
      },
      "source": [
        "### 文字列の長さを調べる\n",
        "\n",
        "`length` プロパティを使う。プロパティ? オブジェクトはメソッドとプロパティを持つのか。なるほど。\n",
        "\n",
        "### 最後の文字を取得する\n",
        "\n",
        "`aString[aString.length - 1]` だって。ということは Python[-1] みたいのは使えないのか。=> 使えない。\n",
        "\n",
        "`indexOf()` はメソッドで、探す文字列がなかった場合 `-1` を返す。\n",
        "\n",
        "そそ、true or false で数値の扱いはどうなっているのか。"
      ]
    },
    {
      "cell_type": "code",
      "metadata": {
        "id": "WYvEdXXt-91N",
        "colab_type": "code",
        "colab": {
          "base_uri": "https://localhost:8080/",
          "height": 51
        },
        "outputId": "cd65124c-07b2-47d7-a184-8899b80c1a5a"
      },
      "source": [
        "%%javascript\n",
        "\n",
        "document.body.style = \"white-space: pre;\";\n",
        "\n",
        "if (-1) {\n",
        "    document.querySelector(\"#output-area\").appendChild(document.createTextNode(\"Too true!!!!\"));\n",
        "} else {\n",
        "    document.querySelector(\"#output-area\").appendChild(document.createTextNode(\"false\"));\n",
        "}\n",
        "document.querySelector(\"#output-area\").appendChild(document.createTextNode(\"\\n\"));\n"
      ],
      "execution_count": null,
      "outputs": [
        {
          "output_type": "display_data",
          "data": {
            "application/javascript": [
              "\n",
              "document.body.style = \"white-space: pre;\";\n",
              "\n",
              "\n",
              "\n",
              "if (-1) {\n",
              "    document.querySelector(\"#output-area\").appendChild(document.createTextNode(\"Too true!!!!\"));\n",
              "} else {\n",
              "    document.querySelector(\"#output-area\").appendChild(document.createTextNode(\"false\"));\n",
              "}\n",
              "document.querySelector(\"#output-area\").appendChild(document.createTextNode(\"\\n\"));\n",
              "\n",
              "let something = false;\n",
              "\n",
              "gh = something();\n",
              "\n",
              "if (gh) {\n",
              "    document.querySelector(\"#output-area\").appendChild(document.createTextNode(\"Too true!!!!\"));\n",
              "} else {\n",
              "    document.querySelector(\"#output-area\").appendChild(document.createTextNode(\"false\"));\n",
              "}\n",
              "document.querySelector(\"#output-area\").appendChild(document.createTextNode(\"\\n\"));"
            ],
            "text/plain": [
              "<IPython.core.display.Javascript object>"
            ]
          },
          "metadata": {
            "tags": []
          }
        }
      ]
    },
    {
      "cell_type": "markdown",
      "metadata": {
        "id": "1Oer_s5F_5Ml",
        "colab_type": "text"
      },
      "source": [
        "Python では数値はゼロ以外はTrue、文字列は `\"\"` 以外はTrue、`()`、`[]`、`{}`、以外がTrue。あと `None` はFalse。\n",
        "\n",
        "しかし!!!!\n",
        "\n",
        "JavaScript は以下以外はすべて true;\n",
        "\n",
        "・数値 0、NaN\n",
        "・null\n",
        "・undifined\n",
        "・空文字列\n",
        "\n",
        "ということは、`[]`、`{}` は true。\n",
        "\n"
      ]
    },
    {
      "cell_type": "markdown",
      "metadata": {
        "id": "muLsfUNbGRg4",
        "colab_type": "text"
      },
      "source": [
        "### 問題 クリスマスカード"
      ]
    },
    {
      "cell_type": "code",
      "metadata": {
        "id": "eGIBg74tGV31",
        "colab_type": "code",
        "colab": {
          "base_uri": "https://localhost:8080/",
          "height": 68
        },
        "outputId": "19560282-7818-4036-881d-a4cd0af8c42b"
      },
      "source": [
        "%%javascript\n",
        "\n",
        "const list = document.querySelector(\"#output-area\");\n",
        "list.innerHTML = '';\n",
        "let greetings = ['Happy Birthday!',\n",
        "                 'Merry Christmas my love',\n",
        "                 'A happy Christmas to all the family',\n",
        "                 'You\\'re all I want for Christmas',\n",
        "                 'Get well soon'];\n",
        "\n",
        "for (let i = 0; i < greetings.length; i++) {\n",
        "  let input = greetings[i];\n",
        "  // 以下の条件の括弧内の内容を書き換えて下さい\n",
        "  if (greetings[i].indexOf(\"Christmas\") !== -1) {\n",
        "    let listItem = document.createElement('li');\n",
        "    listItem.textContent = input;\n",
        "    list.appendChild(listItem);\n",
        "  }\n",
        "}\n"
      ],
      "execution_count": null,
      "outputs": [
        {
          "output_type": "display_data",
          "data": {
            "application/javascript": [
              "\n",
              "const list = document.querySelector(\"#output-area\");\n",
              "list.innerHTML = '';\n",
              "let greetings = ['Happy Birthday!',\n",
              "                 'Merry Christmas my love',\n",
              "                 'A happy Christmas to all the family',\n",
              "                 'You\\'re all I want for Christmas',\n",
              "                 'Get well soon'];\n",
              "\n",
              "for (let i = 0; i < greetings.length; i++) {\n",
              "  let input = greetings[i];\n",
              "  // 以下の条件の括弧内の内容を書き換えて下さい\n",
              "  if (greetings[i].indexOf(\"Christmas\") !== -1) {\n",
              "    let listItem = document.createElement('li');\n",
              "    listItem.textContent = input;\n",
              "    list.appendChild(listItem);\n",
              "  }\n",
              "}"
            ],
            "text/plain": [
              "<IPython.core.display.Javascript object>"
            ]
          },
          "metadata": {
            "tags": []
          }
        }
      ]
    },
    {
      "cell_type": "markdown",
      "metadata": {
        "id": "7eddOXZTKqs5",
        "colab_type": "text"
      },
      "source": [
        "問題もなんだけど、`document.createElement('li');` がおもしろい。これを使っていままで `document.body.style = \"white-space: pre;\";` でやっていたことが変えられるのではないか。"
      ]
    },
    {
      "cell_type": "code",
      "metadata": {
        "id": "cUvQVSDsKqIc",
        "colab_type": "code",
        "colab": {
          "base_uri": "https://localhost:8080/",
          "height": 68
        },
        "outputId": "b31d2c97-81d7-4f07-8d92-1fc93718ca33"
      },
      "source": [
        "%%javascript\n",
        "\n",
        "const list = document.querySelector(\"#output-area\");\n",
        "list.innerHTML = '';\n",
        "document.body.style = \"white-space: pre;\";\n",
        "\n",
        "function print (str) {\n",
        "    let item = document.createElement('div');\n",
        "    item.textContent = str;\n",
        "    list.appendChild(item);\n",
        "};\n",
        "\n",
        "print (\"二行書いたら\\nどうなるか\");\n",
        "print (\"二行目\");"
      ],
      "execution_count": null,
      "outputs": [
        {
          "output_type": "display_data",
          "data": {
            "application/javascript": [
              "\n",
              "const list = document.querySelector(\"#output-area\");\n",
              "list.innerHTML = '';\n",
              "document.body.style = \"white-space: pre;\";\n",
              "\n",
              "function print (str) {\n",
              "    let item = document.createElement('div');\n",
              "    item.textContent = str;\n",
              "    list.appendChild(item);\n",
              "};\n",
              "\n",
              "print (\"二行書いたら\\nどうなるか\");\n",
              "print (\"二行目\");"
            ],
            "text/plain": [
              "<IPython.core.display.Javascript object>"
            ]
          },
          "metadata": {
            "tags": []
          }
        }
      ]
    },
    {
      "cell_type": "markdown",
      "metadata": {
        "id": "ZxIPCOMlXIh_",
        "colab_type": "text"
      },
      "source": [
        "うん。いい感じなので、これにしよう。ぜんぶ書き換えか? "
      ]
    },
    {
      "cell_type": "code",
      "metadata": {
        "id": "BVwCzuMlXYd8",
        "colab_type": "code",
        "colab": {
          "base_uri": "https://localhost:8080/",
          "height": 68
        },
        "outputId": "1f31e588-e02c-48f8-ac27-eda67c256254"
      },
      "source": [
        "%%javascript\n",
        "\n",
        "const list = document.querySelector(\"#output-area\");\n",
        "list.innerHTML = '';\n",
        "document.body.style = \"white-space: pre;\";\n",
        "\n",
        "function print (str) {\n",
        "    let item = document.createElement('div');\n",
        "    item.textContent = str;\n",
        "    list.appendChild(item);\n",
        "};\n",
        "\n",
        "let greetings = ['Happy Birthday!',\n",
        "                 'Merry Christmas my love',\n",
        "                 'A happy Christmas to all the family',\n",
        "                 'You\\'re all I want for Christmas',\n",
        "                 'Get well soon'];\n",
        "\n",
        "for (let i = 0; i < greetings.length; i++) {\n",
        "  let input = greetings[i];\n",
        "  // 以下の条件の括弧内の内容を書き換えて下さい\n",
        "  if (greetings[i].indexOf(\"Christmas\") !== -1) {\n",
        "    print(input)\n",
        "  }\n",
        "}\n"
      ],
      "execution_count": null,
      "outputs": [
        {
          "output_type": "display_data",
          "data": {
            "application/javascript": [
              "\n",
              "const list = document.querySelector(\"#output-area\");\n",
              "list.innerHTML = '';\n",
              "document.body.style = \"white-space: pre;\";\n",
              "\n",
              "function print (str) {\n",
              "    let item = document.createElement('div');\n",
              "    item.textContent = str;\n",
              "    list.appendChild(item);\n",
              "};\n",
              "\n",
              "let greetings = ['Happy Birthday!',\n",
              "                 'Merry Christmas my love',\n",
              "                 'A happy Christmas to all the family',\n",
              "                 'You\\'re all I want for Christmas',\n",
              "                 'Get well soon'];\n",
              "\n",
              "for (let i = 0; i < greetings.length; i++) {\n",
              "  let input = greetings[i];\n",
              "  // 以下の条件の括弧内の内容を書き換えて下さい\n",
              "  if (greetings[i].indexOf(\"Christmas\") !== -1) {\n",
              "    print(input)\n",
              "  }\n",
              "}"
            ],
            "text/plain": [
              "<IPython.core.display.Javascript object>"
            ]
          },
          "metadata": {
            "tags": []
          }
        }
      ]
    },
    {
      "cell_type": "markdown",
      "metadata": {
        "id": "M-1hGOHxX0y3",
        "colab_type": "text"
      },
      "source": [
        "オッケーですね。"
      ]
    },
    {
      "cell_type": "markdown",
      "metadata": {
        "id": "nNYTWEwQYDAr",
        "colab_type": "text"
      },
      "source": [
        "### 問題 都市名\n",
        "\n",
        "最初を大文字に、それ以降を小文字にする。"
      ]
    },
    {
      "cell_type": "code",
      "metadata": {
        "id": "tJI4HijtYLpt",
        "colab_type": "code",
        "colab": {
          "base_uri": "https://localhost:8080/",
          "height": 85
        },
        "outputId": "dceb283d-daa7-42cb-e21e-41ee74b1f23d"
      },
      "source": [
        "%%javascript\n",
        "\n",
        "const list = document.querySelector(\"#output-area\");\n",
        "list.innerHTML = '';\n",
        "document.body.style = \"white-space: pre;\";\n",
        "\n",
        "function print (str) {\n",
        "    let item = document.createElement('div');\n",
        "    item.textContent = str;\n",
        "    list.appendChild(item);\n",
        "};\n",
        "\n",
        "let cities = ['lonDon', 'ManCHESTer', 'BiRmiNGHAM', 'liVERpoOL'];\n",
        "\n",
        "for(var i = 0; i < cities.length; i++) {\n",
        "  var input = cities[i];\n",
        "//   この下にコードを書いて下さい\n",
        "  input = input.toLowerCase();\n",
        "  head = input[0]\n",
        "  input = input.replace(head, head.toUpperCase());\n",
        "\n",
        "  let result = input;\n",
        "\n",
        "  print(result);\n",
        "}"
      ],
      "execution_count": null,
      "outputs": [
        {
          "output_type": "display_data",
          "data": {
            "application/javascript": [
              "\n",
              "const list = document.querySelector(\"#output-area\");\n",
              "list.innerHTML = '';\n",
              "document.body.style = \"white-space: pre;\";\n",
              "\n",
              "function print (str) {\n",
              "    let item = document.createElement('div');\n",
              "    item.textContent = str;\n",
              "    list.appendChild(item);\n",
              "};\n",
              "\n",
              "let cities = ['lonDon', 'ManCHESTer', 'BiRmiNGHAM', 'liVERpoOL'];\n",
              "\n",
              "for(var i = 0; i < cities.length; i++) {\n",
              "  var input = cities[i];\n",
              "//   この下にコードを書いて下さい\n",
              "  input = input.toLowerCase();\n",
              "  head = input[0]\n",
              "  input = input.replace(head, head.toUpperCase());\n",
              "\n",
              "  let result = input;\n",
              "\n",
              "  print(result);\n",
              "}"
            ],
            "text/plain": [
              "<IPython.core.display.Javascript object>"
            ]
          },
          "metadata": {
            "tags": []
          }
        }
      ]
    },
    {
      "cell_type": "markdown",
      "metadata": {
        "id": "GcHmsXOlazeE",
        "colab_type": "text"
      },
      "source": [
        "### 問題 駅コードの抽出\n",
        "\n",
        "最初の3文字アルファベットと、セミコロン以下をまとめて編集して出力。\n"
      ]
    },
    {
      "cell_type": "code",
      "metadata": {
        "id": "gdxQvSeDa_YZ",
        "colab_type": "code",
        "colab": {
          "base_uri": "https://localhost:8080/",
          "height": 102
        },
        "outputId": "3f47b03c-abca-4823-97da-a86c57dca20b"
      },
      "source": [
        "%%javascript\n",
        "\n",
        "const list = document.querySelector(\"#output-area\");\n",
        "list.innerHTML = '';\n",
        "document.body.style = \"white-space: pre;\";\n",
        "\n",
        "function print (str) {\n",
        "    let item = document.createElement('div');\n",
        "    item.textContent = str;\n",
        "    list.appendChild(item);\n",
        "};\n",
        "\n",
        "\n",
        "\n",
        "let stations = ['MAN675847583748sjt567654;Manchester Piccadilly',\n",
        "                'GNF576746573fhdg4737dh4;Greenfield',\n",
        "                'LIV5hg65hd737456236dch46dg4;Liverpool Lime Street',\n",
        "                'SYB4f65hf75f736463;Stalybridge',\n",
        "                'HUD5767ghtyfyr4536dh45dg45dg3;Huddersfield'];\n",
        "\n",
        "for (var i = 0; i < stations.length; i++) {\n",
        "  let input = stations[i];\n",
        "  // この下にコードを書いてください\n",
        "  head = input.slice(0,3);\n",
        "  name = input.slice(input.indexOf(';')+1 , input.length);\n",
        "  let result = head + \" : \" + name;\n",
        "\n",
        "  print (result);\n",
        "}"
      ],
      "execution_count": null,
      "outputs": [
        {
          "output_type": "display_data",
          "data": {
            "application/javascript": [
              "\n",
              "const list = document.querySelector(\"#output-area\");\n",
              "list.innerHTML = '';\n",
              "document.body.style = \"white-space: pre;\";\n",
              "\n",
              "function print (str) {\n",
              "    let item = document.createElement('div');\n",
              "    item.textContent = str;\n",
              "    list.appendChild(item);\n",
              "};\n",
              "\n",
              "\n",
              "\n",
              "let stations = ['MAN675847583748sjt567654;Manchester Piccadilly',\n",
              "                'GNF576746573fhdg4737dh4;Greenfield',\n",
              "                'LIV5hg65hd737456236dch46dg4;Liverpool Lime Street',\n",
              "                'SYB4f65hf75f736463;Stalybridge',\n",
              "                'HUD5767ghtyfyr4536dh45dg45dg3;Huddersfield'];\n",
              "\n",
              "for (var i = 0; i < stations.length; i++) {\n",
              "  let input = stations[i];\n",
              "  // この下にコードを書いてください\n",
              "  head = input.slice(0,3);\n",
              "  name = input.slice(input.indexOf(';')+1 , input.length);\n",
              "  let result = head + \" : \" + name;\n",
              "\n",
              "  print (result);\n",
              "}"
            ],
            "text/plain": [
              "<IPython.core.display.Javascript object>"
            ]
          },
          "metadata": {
            "tags": []
          }
        }
      ]
    },
    {
      "cell_type": "markdown",
      "metadata": {
        "id": "7jWwVKIdLUAe",
        "colab_type": "text"
      },
      "source": [
        "### 問題 変数"
      ]
    },
    {
      "cell_type": "code",
      "metadata": {
        "id": "kvyGSxM1LEmh",
        "colab_type": "code",
        "colab": {
          "base_uri": "https://localhost:8080/",
          "height": 69
        },
        "outputId": "5a32c2fb-8c23-4d92-cb70-55e5ed51ad01"
      },
      "source": [
        "%%javascript\n",
        "\n",
        "const list = document.querySelector(\"#output-area\");\n",
        "list.innerHTML = '';\n",
        "\n",
        "let myName = \"Taro\";\n",
        "let myAge = \"69\";\n",
        "\n",
        "let para1 = document.createElement('p');\n",
        "para1.textContent = myName;\n",
        "let para2 = document.createElement('p');\n",
        "para2.textContent = myAge;\n",
        "list.appendChild(para1);\n",
        "list.appendChild(para2);\n"
      ],
      "execution_count": null,
      "outputs": [
        {
          "output_type": "display_data",
          "data": {
            "application/javascript": [
              "\n",
              "const list = document.querySelector(\"#output-area\");\n",
              "list.innerHTML = '';\n",
              "\n",
              "let myName = \"Taro\";\n",
              "let myAge = \"69\";\n",
              "\n",
              "let para1 = document.createElement('p');\n",
              "para1.textContent = myName;\n",
              "let para2 = document.createElement('p');\n",
              "para2.textContent = myAge;\n",
              "list.appendChild(para1);\n",
              "list.appendChild(para2);"
            ],
            "text/plain": [
              "<IPython.core.display.Javascript object>"
            ]
          },
          "metadata": {
            "tags": []
          }
        }
      ]
    },
    {
      "cell_type": "markdown",
      "metadata": {
        "id": "pGkX7qcWNcg8",
        "colab_type": "text"
      },
      "source": [
        "やはり `print()` を使った方がいいね!!!!"
      ]
    },
    {
      "cell_type": "code",
      "metadata": {
        "id": "6o7_t30NNcB8",
        "colab_type": "code",
        "colab": {
          "base_uri": "https://localhost:8080/",
          "height": 51
        },
        "outputId": "c64e272c-78f5-4b6e-8afb-311605d6eaea"
      },
      "source": [
        "%%javascript\n",
        "\n",
        "const list = document.querySelector(\"#output-area\");\n",
        "list.innerHTML = '';\n",
        "document.body.style = \"white-space: pre;\";\n",
        "\n",
        "function print (str) {\n",
        "    let item = document.createElement('div');\n",
        "    item.textContent = str;\n",
        "    list.appendChild(item);\n",
        "};\n",
        "\n",
        "let myName = \"Taro\";\n",
        "let myAge = \"69\";\n",
        "\n",
        "print (myName);\n",
        "print (myAge);"
      ],
      "execution_count": null,
      "outputs": [
        {
          "output_type": "display_data",
          "data": {
            "application/javascript": [
              "\n",
              "const list = document.querySelector(\"#output-area\");\n",
              "list.innerHTML = '';\n",
              "document.body.style = \"white-space: pre;\";\n",
              "\n",
              "function print (str) {\n",
              "    let item = document.createElement('div');\n",
              "    item.textContent = str;\n",
              "    list.appendChild(item);\n",
              "};\n",
              "\n",
              "let myName = \"Taro\";\n",
              "let myAge = \"69\";\n",
              "\n",
              "print (myName);\n",
              "print (myAge);"
            ],
            "text/plain": [
              "<IPython.core.display.Javascript object>"
            ]
          },
          "metadata": {
            "tags": []
          }
        }
      ]
    },
    {
      "cell_type": "markdown",
      "metadata": {
        "id": "3WTA5soaN_qy",
        "colab_type": "text"
      },
      "source": [
        "### 問題 定数\n"
      ]
    },
    {
      "cell_type": "code",
      "metadata": {
        "id": "lA8RJGziOCjs",
        "colab_type": "code",
        "colab": {
          "base_uri": "https://localhost:8080/",
          "height": 68
        },
        "outputId": "f169d9c2-cd0b-4e20-8a26-3c1443dd84fe"
      },
      "source": [
        "%%javascript\n",
        "\n",
        "const list = document.querySelector(\"#output-area\");\n",
        "list.innerHTML = '';\n",
        "document.body.style = \"white-space: pre;\";\n",
        "\n",
        "function print (str) {\n",
        "    let item = document.createElement('div');\n",
        "    item.textContent = str;\n",
        "    list.appendChild(item);\n",
        "};\n",
        "\n",
        "const myName = 'Default';\n",
        "// myName = 'Chris'\n",
        "\n",
        "let myAge = '42';\n",
        "\n",
        "print (myName);\n",
        "print(`In 20 years, I will be ${myAge + 20}`);\n",
        "print('In 20 years, I will be ${myAge + 20}');\n",
        "\n"
      ],
      "execution_count": null,
      "outputs": [
        {
          "output_type": "display_data",
          "data": {
            "application/javascript": [
              "\n",
              "const list = document.querySelector(\"#output-area\");\n",
              "list.innerHTML = '';\n",
              "document.body.style = \"white-space: pre;\";\n",
              "\n",
              "function print (str) {\n",
              "    let item = document.createElement('div');\n",
              "    item.textContent = str;\n",
              "    list.appendChild(item);\n",
              "};\n",
              "\n",
              "const myName = 'Default';\n",
              "// myName = 'Chris'\n",
              "\n",
              "let myAge = '42';\n",
              "\n",
              "print (myName);\n",
              "print(`In 20 years, I will be ${myAge + 20}`);\n",
              "print('In 20 years, I will be ${myAge + 20}');\n"
            ],
            "text/plain": [
              "<IPython.core.display.Javascript object>"
            ]
          },
          "metadata": {
            "tags": []
          }
        }
      ]
    },
    {
      "cell_type": "markdown",
      "metadata": {
        "id": "A-EgnA0EZSIu",
        "colab_type": "text"
      },
      "source": [
        "### 問題 算数 1"
      ]
    },
    {
      "cell_type": "code",
      "metadata": {
        "id": "ieBRgfwnZVdl",
        "colab_type": "code",
        "colab": {
          "base_uri": "https://localhost:8080/",
          "height": 51
        },
        "outputId": "cc2567dd-6355-45ff-a0f9-c9dda5bbff52"
      },
      "source": [
        "%%javascript\n",
        "\n",
        "const list = document.querySelector(\"#output-area\");\n",
        "list.innerHTML = '';\n",
        "document.body.style = \"white-space: pre;\";\n",
        "\n",
        "function print (str) {\n",
        "    let item = document.createElement('div');\n",
        "    item.textContent = str;\n",
        "    list.appendChild(item);\n",
        "};\n",
        "\n",
        "\n",
        "let finalResult;\n",
        "\n",
        "let evenOddResult;\n",
        "\n",
        "let num1 = 1;\n",
        "let num2 = 2;\n",
        "let numsum = num1 + num2;\n",
        "let num3 = 19;\n",
        "let num4 = 3;\n",
        "let numsub = num3 - num4;\n",
        "finalResult = numsum * numsub;\n",
        "\n",
        "evenOddResult = finalResult % 2;\n",
        "\n",
        "let para1 = document.createElement('p');\n",
        "let finalResultCheck = finalResult === 48 ? `Yes, well done!` : `No, it is ${ finalResult }`;\n",
        "para1.textContent = `Is the finalResult 48? ${ finalResultCheck }`;\n",
        "let para2 = document.createElement('p');\n",
        "let evenOddResultCheck = evenOddResult === 0 ? 'The final result is even!' : 'The final result is odd. Hrm.'\n",
        "para2.textContent = evenOddResultCheck;\n",
        "\n",
        "print (para1.textContent);\n",
        "print (para2.textContent);"
      ],
      "execution_count": 14,
      "outputs": [
        {
          "output_type": "display_data",
          "data": {
            "application/javascript": [
              "\n",
              "const list = document.querySelector(\"#output-area\");\n",
              "list.innerHTML = '';\n",
              "document.body.style = \"white-space: pre;\";\n",
              "\n",
              "function print (str) {\n",
              "    let item = document.createElement('div');\n",
              "    item.textContent = str;\n",
              "    list.appendChild(item);\n",
              "};\n",
              "\n",
              "\n",
              "let finalResult;\n",
              "\n",
              "let evenOddResult;\n",
              "\n",
              "// Add your code here\n",
              "let num1 = 1;\n",
              "let num2 = 2;\n",
              "let numsum = num1 + num2;\n",
              "let num3 = 19;\n",
              "let num4 = 3;\n",
              "let numsub = num3 - num4;\n",
              "finalResult = numsum * numsub;\n",
              "\n",
              "evenOddResult = finalResult % 2;\n",
              "\n",
              "// Don't edit the code below here!\n",
              "\n",
              "// section.innerHTML = ' ';\n",
              "let para1 = document.createElement('p');\n",
              "let finalResultCheck = finalResult === 48 ? `Yes, well done!` : `No, it is ${ finalResult }`;\n",
              "para1.textContent = `Is the finalResult 48? ${ finalResultCheck }`;\n",
              "let para2 = document.createElement('p');\n",
              "let evenOddResultCheck = evenOddResult === 0 ? 'The final result is even!' : 'The final result is odd. Hrm.'\n",
              "para2.textContent = evenOddResultCheck;\n",
              "\n",
              "// section.appendChild(para1);\n",
              "// section.appendChild(para2);\n",
              "print (para1.textContent);\n",
              "print (para2.textContent);"
            ],
            "text/plain": [
              "<IPython.core.display.Javascript object>"
            ]
          },
          "metadata": {
            "tags": []
          }
        }
      ]
    },
    {
      "cell_type": "markdown",
      "metadata": {
        "id": "bR3sm6y2bt3h",
        "colab_type": "text"
      },
      "source": [
        "### 問題 算数 2"
      ]
    },
    {
      "cell_type": "code",
      "metadata": {
        "id": "U2qDo_E_bwRz",
        "colab_type": "code",
        "colab": {
          "base_uri": "https://localhost:8080/",
          "height": 136
        },
        "outputId": "1c6bda31-8dba-4c65-b101-150121f3015a"
      },
      "source": [
        "%%javascript\n",
        "\n",
        "const list = document.querySelector(\"#output-area\");\n",
        "list.innerHTML = '';\n",
        "document.body.style = \"white-space: pre;\";\n",
        "\n",
        "function print (str) {\n",
        "    let item = document.createElement('div');\n",
        "    item.textContent = str;\n",
        "    list.appendChild(item);\n",
        "};\n",
        "\n",
        "\n",
        "// Final result should be 10.42\n",
        "// Add/update your code here\n",
        "\n",
        "let result = (7 + 13) / (9 + 7);\n",
        "let result2 = 100 / (2 * 6);\n",
        "\n",
        "print (result);\n",
        "print (result2);\n",
        "\n",
        "result *= result2;\n",
        "print (result);\n",
        "\n",
        "finalResult = result.toFixed(2);\n",
        "print (finalResult);\n",
        "print (typeof(finalResult));\n",
        "finalNumber = Number(finalResult);\n",
        "\n",
        "let para1 = document.createElement('p');\n",
        "para1.textContent = `Your finalResult is ${ finalResult }`;\n",
        "let para2 = document.createElement('p');\n",
        "let finalNumberCheck = isNaN(finalNumber) === false ? 'finalNumber is a number type. Well done!' : `Ooops! finalNumber is not a number.`;\n",
        "para2.textContent = finalNumberCheck;\n",
        "\n",
        "print (para1.textContent);\n",
        "print (para2.textContent);\n"
      ],
      "execution_count": 29,
      "outputs": [
        {
          "output_type": "display_data",
          "data": {
            "application/javascript": [
              "\n",
              "const list = document.querySelector(\"#output-area\");\n",
              "list.innerHTML = '';\n",
              "document.body.style = \"white-space: pre;\";\n",
              "\n",
              "function print (str) {\n",
              "    let item = document.createElement('div');\n",
              "    item.textContent = str;\n",
              "    list.appendChild(item);\n",
              "};\n",
              "\n",
              "\n",
              "// Final result should be 10.42\n",
              "// Add/update your code here\n",
              "\n",
              "let result = (7 + 13) / (9 + 7);\n",
              "let result2 = 100 / (2 * 6);\n",
              "\n",
              "print (result);\n",
              "print (result2);\n",
              "\n",
              "result *= result2;\n",
              "print (result);\n",
              "\n",
              "finalResult = result.toFixed(2);\n",
              "print (finalResult);\n",
              "print (typeof(finalResult));\n",
              "finalNumber = Number(finalResult);\n",
              "\n",
              "let para1 = document.createElement('p');\n",
              "para1.textContent = `Your finalResult is ${ finalResult }`;\n",
              "let para2 = document.createElement('p');\n",
              "let finalNumberCheck = isNaN(finalNumber) === false ? 'finalNumber is a number type. Well done!' : `Ooops! finalNumber is not a number.`;\n",
              "para2.textContent = finalNumberCheck;\n",
              "\n",
              "print (para1.textContent);\n",
              "print (para2.textContent);"
            ],
            "text/plain": [
              "<IPython.core.display.Javascript object>"
            ]
          },
          "metadata": {
            "tags": []
          }
        }
      ]
    },
    {
      "cell_type": "markdown",
      "metadata": {
        "id": "hp950eaXgA6h",
        "colab_type": "text"
      },
      "source": [
        "### 問題 算数 3"
      ]
    },
    {
      "cell_type": "code",
      "metadata": {
        "id": "LGj7B4IrgETU",
        "colab_type": "code",
        "colab": {
          "base_uri": "https://localhost:8080/",
          "height": 119
        },
        "outputId": "10003346-d135-4946-8ee8-800fe93c58a6"
      },
      "source": [
        "%%javascript\n",
        "\n",
        "const list = document.querySelector(\"#output-area\");\n",
        "list.innerHTML = '';\n",
        "document.body.style = \"white-space: pre;\";\n",
        "\n",
        "function print (str) {\n",
        "    let item = document.createElement('div');\n",
        "    item.textContent = str;\n",
        "    list.appendChild(item);\n",
        "};\n",
        "\n",
        "\n",
        "\n",
        "// Statement 1: The elephant weights less than the mouse\n",
        "let eleWeight = 1000;\n",
        "let mouseWeight = 2;\n",
        "\n",
        "// Statement 2: The Ostrich is taller than the duck\n",
        "let ostrichHeight = 2;\n",
        "let duckHeight = 0.3;\n",
        "\n",
        "// Statement 3: The two passwords match\n",
        "let pwd1 = 'stromboli';\n",
        "let pwd2 = 'stROmBoLi'\n",
        "\n",
        "// Add your code here\n",
        "\n",
        "let weightComparison = eleWeight < mouseWeight;\n",
        "let heightComparison = ostrichHeight > duckHeight;\n",
        "let pwdMatch = pwd1 === pwd2\n",
        "\n",
        "print (weightComparison);\n",
        "print (heightComparison);\n",
        "print (pwdMatch);\n",
        "\n",
        "let para1 = document.createElement('p');\n",
        "let para2 = document.createElement('p');\n",
        "let para3 = document.createElement('p');\n",
        "\n",
        "let weightTest = weightComparison ? 'True — elephants weight less than mice!?' : 'False — of course an elephant is heavier than a mouse!';\n",
        "let heightTest = heightComparison ? 'True — an ostrich is indeed taller than a duck!' : 'False — apparently a duck is taller than an ostrich!?';\n",
        "let pwdTest = pwdMatch ? 'True — the passwords match.' : 'False — the passwords do not match; please check them';\n",
        "\n",
        "// para1.textContent = weightTest;\n",
        "// section.appendChild(para1);\n",
        "// para2.textContent = heightTest;\n",
        "// section.appendChild(para2);\n",
        "// para3.textContent = pwdTest;\n",
        "// section.appendChild(para3);\n",
        "\n",
        "print (weightTest);\n",
        "print (heightTest);\n",
        "print (pwdTest);\n",
        "    "
      ],
      "execution_count": 50,
      "outputs": [
        {
          "output_type": "display_data",
          "data": {
            "application/javascript": [
              "\n",
              "const list = document.querySelector(\"#output-area\");\n",
              "list.innerHTML = '';\n",
              "document.body.style = \"white-space: pre;\";\n",
              "\n",
              "function print (str) {\n",
              "    let item = document.createElement('div');\n",
              "    item.textContent = str;\n",
              "    list.appendChild(item);\n",
              "};\n",
              "\n",
              "\n",
              "\n",
              "// Statement 1: The elephant weights less than the mouse\n",
              "let eleWeight = 1000;\n",
              "let mouseWeight = 2;\n",
              "\n",
              "// Statement 2: The Ostrich is taller than the duck\n",
              "let ostrichHeight = 2;\n",
              "let duckHeight = 0.3;\n",
              "\n",
              "// Statement 3: The two passwords match\n",
              "let pwd1 = 'stromboli';\n",
              "let pwd2 = 'stROmBoLi'\n",
              "\n",
              "// Add your code here\n",
              "\n",
              "let weightComparison = eleWeight < mouseWeight;\n",
              "let heightComparison = ostrichHeight > duckHeight;\n",
              "let pwdMatch = pwd1 === pwd2\n",
              "\n",
              "print (weightComparison);\n",
              "print (heightComparison);\n",
              "print (pwdMatch);\n",
              "\n",
              "let para1 = document.createElement('p');\n",
              "let para2 = document.createElement('p');\n",
              "let para3 = document.createElement('p');\n",
              "\n",
              "let weightTest = weightComparison ? 'True — elephants weight less than mice!?' : 'False — of course an elephant is heavier than a mouse!';\n",
              "let heightTest = heightComparison ? 'True — an ostrich is indeed taller than a duck!' : 'False — apparently a duck is taller than an ostrich!?';\n",
              "let pwdTest = pwdMatch ? 'True — the passwords match.' : 'False — the passwords do not match; please check them';\n",
              "\n",
              "// para1.textContent = weightTest;\n",
              "// section.appendChild(para1);\n",
              "// para2.textContent = heightTest;\n",
              "// section.appendChild(para2);\n",
              "// para3.textContent = pwdTest;\n",
              "// section.appendChild(para3);\n",
              "\n",
              "print (weightTest);\n",
              "print (heightTest);\n",
              "print (pwdTest);\n",
              "    "
            ],
            "text/plain": [
              "<IPython.core.display.Javascript object>"
            ]
          },
          "metadata": {
            "tags": []
          }
        }
      ]
    },
    {
      "cell_type": "markdown",
      "metadata": {
        "id": "sx_FSpdLnf0C",
        "colab_type": "text"
      },
      "source": [
        "# 配列 array\n",
        "\n",
        "JavaScript では配列 array というが実はリストのこと。\n"
      ]
    },
    {
      "cell_type": "code",
      "metadata": {
        "id": "IAjhH9F2nykZ",
        "colab_type": "code",
        "colab": {
          "base_uri": "https://localhost:8080/",
          "height": 204
        },
        "outputId": "9601ce7d-6a4b-4e5c-dfe9-bf2f8cc9434d"
      },
      "source": [
        "%%javascript\n",
        "\n",
        "const list = document.querySelector(\"#output-area\");\n",
        "list.innerHTML = '';\n",
        "document.body.style = \"white-space: pre;\";\n",
        "\n",
        "function print (str) {\n",
        "    let item = document.createElement('div');\n",
        "    item.textContent = str;\n",
        "    list.appendChild(item);\n",
        "};\n",
        "\n",
        "\n",
        "let shopping = ['パン', '牛乳', 'チーズ', 'ハム', '麺'];\n",
        "print (shopping);\n",
        "print (typeof(shopping));\n",
        "\n",
        "print (shopping[0]);\n",
        "\n",
        "shopping[0] = 'タヒーニ';\n",
        "print (shopping[0]);\n",
        "\n",
        "let sequence = [1, 1, 2, 3, 5, 8, 13];\n",
        "let random = ['tree', 795, [0, 1, 2]];\n",
        "\n",
        "print (random[2][2]);\n",
        "print (sequence.length);\n",
        "\n",
        "for (let i = 0; i < shopping.length; i++){\n",
        "    print (shopping[i]);\n",
        "}"
      ],
      "execution_count": 65,
      "outputs": [
        {
          "output_type": "display_data",
          "data": {
            "application/javascript": [
              "\n",
              "const list = document.querySelector(\"#output-area\");\n",
              "list.innerHTML = '';\n",
              "document.body.style = \"white-space: pre;\";\n",
              "\n",
              "function print (str) {\n",
              "    let item = document.createElement('div');\n",
              "    item.textContent = str;\n",
              "    list.appendChild(item);\n",
              "};\n",
              "\n",
              "\n",
              "let shopping = ['パン', '牛乳', 'チーズ', 'ハム', '麺'];\n",
              "print (shopping);\n",
              "print (typeof(shopping));\n",
              "\n",
              "print (shopping[0]);\n",
              "\n",
              "shopping[0] = 'タヒーニ';\n",
              "print (shopping[0]);\n",
              "\n",
              "let sequence = [1, 1, 2, 3, 5, 8, 13];\n",
              "let random = ['tree', 795, [0, 1, 2]];\n",
              "\n",
              "print (random[2][2]);\n",
              "print (sequence.length);\n",
              "\n",
              "for (let i = 0; i < shopping.length; i++){\n",
              "    print (shopping[i]);\n",
              "}"
            ],
            "text/plain": [
              "<IPython.core.display.Javascript object>"
            ]
          },
          "metadata": {
            "tags": []
          }
        }
      ]
    },
    {
      "cell_type": "markdown",
      "metadata": {
        "id": "B8uTXQzHs6U1",
        "colab_type": "text"
      },
      "source": [
        "### 配列と文字列 "
      ]
    },
    {
      "cell_type": "code",
      "metadata": {
        "id": "YBRFbk-ls91A",
        "colab_type": "code",
        "colab": {
          "base_uri": "https://localhost:8080/",
          "height": 102
        },
        "outputId": "93f309db-67d3-4999-818a-f9542446f71d"
      },
      "source": [
        "%%javascript\n",
        "\n",
        "const list = document.querySelector(\"#output-area\");\n",
        "list.innerHTML = '';\n",
        "document.body.style = \"white-space: pre;\";\n",
        "\n",
        "function print (str) {\n",
        "    let item = document.createElement('div');\n",
        "    item.textContent = str;\n",
        "    list.appendChild(item);\n",
        "};\n",
        "\n",
        "let myData = '札幌,仙台,東京,名古屋,大阪,博多';\n",
        "let myArray = myData.split(',');\n",
        "print (myData);\n",
        "print (myArray);\n",
        "print (myArray[0]);\n",
        "\n",
        "let myNewString = myArray.join (' -> ');\n",
        "print (myNewString);\n",
        "\n",
        "let dogNames = ['ポチ','ハチ','タロウ','モコ'];\n",
        "dogNames.toString(); //ポチ,ハチ,タロウ,モコ\n",
        "print (typeof(String (dogNames)))"
      ],
      "execution_count": 70,
      "outputs": [
        {
          "output_type": "display_data",
          "data": {
            "application/javascript": [
              "\n",
              "const list = document.querySelector(\"#output-area\");\n",
              "list.innerHTML = '';\n",
              "document.body.style = \"white-space: pre;\";\n",
              "\n",
              "function print (str) {\n",
              "    let item = document.createElement('div');\n",
              "    item.textContent = str;\n",
              "    list.appendChild(item);\n",
              "};\n",
              "\n",
              "let myData = '札幌,仙台,東京,名古屋,大阪,博多';\n",
              "let myArray = myData.split(',');\n",
              "print (myData);\n",
              "print (myArray);\n",
              "print (myArray[0]);\n",
              "\n",
              "let myNewString = myArray.join (' -> ');\n",
              "print (myNewString);\n",
              "\n",
              "let dogNames = ['ポチ','ハチ','タロウ','モコ'];\n",
              "dogNames.toString(); //ポチ,ハチ,タロウ,モコ\n",
              "print (typeof(String (dogNames)))"
            ],
            "text/plain": [
              "<IPython.core.display.Javascript object>"
            ]
          },
          "metadata": {
            "tags": []
          }
        }
      ]
    },
    {
      "cell_type": "markdown",
      "metadata": {
        "id": "mHWP31WGtmTc",
        "colab_type": "text"
      },
      "source": [
        "\n",
        "# いまここ\n",
        "\n",
        "https://developer.mozilla.org/ja/docs/Learn/JavaScript/First_steps/Arrays"
      ]
    }
  ]
}