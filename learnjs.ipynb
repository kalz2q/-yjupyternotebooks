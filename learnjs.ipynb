{
  "nbformat": 4,
  "nbformat_minor": 0,
  "metadata": {
    "colab": {
      "name": "learnjs.ipynb",
      "provenance": [],
      "toc_visible": true,
      "authorship_tag": "ABX9TyNvSFONT0VrRcRvX9r18iGc",
      "include_colab_link": true
    },
    "kernelspec": {
      "name": "python3",
      "display_name": "Python 3"
    }
  },
  "cells": [
    {
      "cell_type": "markdown",
      "metadata": {
        "id": "view-in-github",
        "colab_type": "text"
      },
      "source": [
        "<a href=\"https://colab.research.google.com/github/kalz2q/mycolabnotebooks/blob/master/learnjs.ipynb\" target=\"_parent\"><img src=\"https://colab.research.google.com/assets/colab-badge.svg\" alt=\"Open In Colab\"/></a>"
      ]
    },
    {
      "cell_type": "markdown",
      "metadata": {
        "id": "cG6xXZZ1h0LB",
        "colab_type": "text"
      },
      "source": [
        "# はじめに、というか\n",
        "\n",
        "`Colab` で `%%javascript` マジック・コマンドを使って、`JavaScript` の勉強をしようと思い立ったのだが、ふつーのテキストにある `alert()` とか `prompt()` とかが使えない。`console.log()` は使えるが、それだといちいち `デベロッパーツール` を開かないといけないよね。\n",
        "\n",
        "デベロッパーツールをひらいてみると、`alert()` とか `prompt()` のエラーが出てて、たいへん。`Ctrl-L` でクリアーできる。\n",
        "\n",
        "やりたいことは colab のコードセルに javascrip を書いて、セルを実行するとセルの出力欄にアウトプットが出るような形なので、探したら次のようなのがあった。"
      ]
    },
    {
      "cell_type": "code",
      "metadata": {
        "id": "xRuGEUiZjcj4",
        "colab_type": "code",
        "colab": {
          "base_uri": "https://localhost:8080/",
          "height": 34
        },
        "outputId": "c0245fc3-f8cb-412d-d685-764f7a596652"
      },
      "source": [
        "%%javascript\n",
        "\n",
        "let message = \"Javascript in Google Colab? Awesome!\"\n",
        "document.querySelector(\"#output-area\").appendChild(document.createTextNode(message));\n"
      ],
      "execution_count": null,
      "outputs": [
        {
          "output_type": "display_data",
          "data": {
            "application/javascript": [
              "\n",
              "let message = \"Javascript in Google Colab? Awesome!\"\n",
              "document.querySelector(\"#output-area\").appendChild(document.createTextNode(message));"
            ],
            "text/plain": [
              "<IPython.core.display.Javascript object>"
            ]
          },
          "metadata": {
            "tags": []
          }
        }
      ]
    },
    {
      "cell_type": "markdown",
      "metadata": {
        "id": "q64rNUfujwIH",
        "colab_type": "text"
      },
      "source": [
        "なんとなくちょっと違う感じなので、すこし実験しよう。"
      ]
    },
    {
      "cell_type": "code",
      "metadata": {
        "id": "SIpN5p0TKYdy",
        "colab_type": "code",
        "colab": {
          "base_uri": "https://localhost:8080/",
          "height": 34
        },
        "outputId": "573ef9e9-f03a-4271-8726-de372de5b15c"
      },
      "source": [
        "%%javascript\n",
        "\n",
        "document.querySelector(\"#output-area\").appendChild(document.createTextNode(\"二行書いたら\\nどうなるか\"));\n",
        "document.querySelector(\"#output-area\").appendChild(document.createTextNode(\"二行目\"));"
      ],
      "execution_count": null,
      "outputs": [
        {
          "output_type": "display_data",
          "data": {
            "application/javascript": [
              "\n",
              "document.querySelector(\"#output-area\").appendChild(document.createTextNode(\"二行書いたら\\nどうなるか\"));\n",
              "document.querySelector(\"#output-area\").appendChild(document.createTextNode(\"二行目\"));"
            ],
            "text/plain": [
              "<IPython.core.display.Javascript object>"
            ]
          },
          "metadata": {
            "tags": []
          }
        }
      ]
    },
    {
      "cell_type": "markdown",
      "metadata": {
        "id": "QKc4eZ57kb5u",
        "colab_type": "text"
      },
      "source": [
        "改行マークが使えない。2行にしてもつながってしまう。\n",
        "\n",
        "ネットを見たら次のような解決方法が載っていた。"
      ]
    },
    {
      "cell_type": "code",
      "metadata": {
        "id": "nshV2WIXl-En",
        "colab_type": "code",
        "colab": {
          "base_uri": "https://localhost:8080/",
          "height": 68
        },
        "outputId": "ec201286-8ee0-4c25-bb4c-1daf25d1a517"
      },
      "source": [
        "%%javascript\n",
        "\n",
        "document.body.style = \"white-space: pre;\"\n",
        "\n",
        "document.querySelector(\"#output-area\").appendChild(document.createTextNode(\"二行書いたら\\nどうなるか\"));\n",
        "document.querySelector(\"#output-area\").appendChild(document.createTextNode(\"二行目\"));"
      ],
      "execution_count": null,
      "outputs": [
        {
          "output_type": "display_data",
          "data": {
            "application/javascript": [
              "\n",
              "document.body.style = \"white-space: pre;\"\n",
              "\n",
              "document.querySelector(\"#output-area\").appendChild(document.createTextNode(\"二行書いたら\\nどうなるか\"));\n",
              "document.querySelector(\"#output-area\").appendChild(document.createTextNode(\"二行目\"));"
            ],
            "text/plain": [
              "<IPython.core.display.Javascript object>"
            ]
          },
          "metadata": {
            "tags": []
          }
        }
      ]
    },
    {
      "cell_type": "markdown",
      "metadata": {
        "id": "YFSmbBijqRFc",
        "colab_type": "text"
      },
      "source": [
        "MDN のドキュメント https://developer.mozilla.org/en-US/docs/Web/CSS/white-space にほかのオプションも書いてあっていずれにしてもよくわからないが、とりあえずすこし前に進めた。"
      ]
    },
    {
      "cell_type": "markdown",
      "metadata": {
        "id": "oIYj_aOhqlA5",
        "colab_type": "text"
      },
      "source": [
        "# JavaScript はじめの一歩\n",
        "\n",
        "MDNのチュートリアルの例でこの環境では使えないのは飛ばして、メモをとりなが読んで行こう。\n",
        "\n",
        "https://developer.mozilla.org/ja/docs/Learn/JavaScript/First_steps/What_is_JavaScript\n",
        "\n",
        "コメントは `//` と `/* */`。これはつかえるかな。やってみよう。\n"
      ]
    },
    {
      "cell_type": "code",
      "metadata": {
        "id": "Se7x_0xu6cuR",
        "colab_type": "code",
        "colab": {
          "base_uri": "https://localhost:8080/",
          "height": 68
        },
        "outputId": "bae4e0b0-74d1-4c18-e9fa-829057bfe482"
      },
      "source": [
        "%%javascript\n",
        "\n",
        "// これはコメント\n",
        "\n",
        "/* 何行にも\n",
        "   わたるコメントは\n",
        "   こんな */\n",
        "\n",
        "document.body.style = \"white-space: pre;\"\n",
        "\n",
        "document.querySelector(\"#output-area\").appendChild(document.createTextNode(\"はろー\\n\"));\n",
        "document.querySelector(\"#output-area\").appendChild(document.createTextNode(\"はろー\\n\"));"
      ],
      "execution_count": null,
      "outputs": [
        {
          "output_type": "display_data",
          "data": {
            "application/javascript": [
              "\n",
              "// これはコメント\n",
              "\n",
              "/* 何行にも\n",
              "   わたるコメントは\n",
              "   こんな */\n",
              "\n",
              "document.body.style = \"white-space: pre;\"\n",
              "\n",
              "document.querySelector(\"#output-area\").appendChild(document.createTextNode(\"はろー\\n\"));\n",
              "document.querySelector(\"#output-area\").appendChild(document.createTextNode(\"はろー\\n\"));"
            ],
            "text/plain": [
              "<IPython.core.display.Javascript object>"
            ]
          },
          "metadata": {
            "tags": []
          }
        }
      ]
    },
    {
      "cell_type": "markdown",
      "metadata": {
        "id": "YtCE3SsQ7Ubo",
        "colab_type": "text"
      },
      "source": [
        "使えた。Python や Ruby の `#` ではなくて、C++ や Java の `//` なのだ。覚えよう。\n"
      ]
    },
    {
      "cell_type": "markdown",
      "metadata": {
        "id": "bidrpOZ48BaV",
        "colab_type": "text"
      },
      "source": [
        "# 数あてゲーム\n",
        "\n",
        "次の例が数当てゲームだが、ユーザーとのやりとりはやりたくないので、ゲームとして完成させることはあきらめて、部分部分を見ていこう。関数とか。ランダムの使い方、とか。"
      ]
    },
    {
      "cell_type": "code",
      "metadata": {
        "id": "2b0J8k5m9HWF",
        "colab_type": "code",
        "colab": {
          "base_uri": "https://localhost:8080/",
          "height": 51
        },
        "outputId": "926bb843-d918-4798-c4ff-89dae7518ee8"
      },
      "source": [
        "%%javascript\n",
        "\n",
        "document.body.style = \"white-space: pre;\"\n",
        "\n",
        "let randomNumber = Math.floor(Math.random() * 100) + 1;\n",
        "\n",
        "document.querySelector(\"#output-area\").appendChild(document.createTextNode(randomNumber));\n"
      ],
      "execution_count": 1,
      "outputs": [
        {
          "output_type": "display_data",
          "data": {
            "application/javascript": [
              "\n",
              "document.body.style = \"white-space: pre;\"\n",
              "\n",
              "let randomNumber = Math.floor(Math.random() * 100) + 1;\n",
              "\n",
              "document.querySelector(\"#output-area\").appendChild(document.createTextNode(randomNumber));"
            ],
            "text/plain": [
              "<IPython.core.display.Javascript object>"
            ]
          },
          "metadata": {
            "tags": []
          }
        }
      ]
    },
    {
      "cell_type": "markdown",
      "metadata": {
        "id": "34qJlNCSP4na",
        "colab_type": "text"
      },
      "source": [
        "`Math.random()` は普通に使えた。\n",
        "\n",
        "`document.createTextNode()` で数字が自動で文字列に変換されているのだろうか。\n",
        "\n",
        "そもそも、JavaScript の型ってどうやって調べるのか。型にはうるさいのか。どういうしくみか。"
      ]
    },
    {
      "cell_type": "markdown",
      "metadata": {
        "id": "9Uy5HzVoSCoG",
        "colab_type": "text"
      },
      "source": [
        "# 四則演算\n",
        "\n",
        "加算減算乗算除算は普通。10/3 も普通に float になる。\n",
        "\n",
        "python の `//` に当たるのは `Math.floor()` かな。\n",
        "\n",
        "冪乗とは `**` でも `^` でもない。"
      ]
    },
    {
      "cell_type": "code",
      "metadata": {
        "id": "g34dIsYgRVAb",
        "colab_type": "code",
        "colab": {
          "base_uri": "https://localhost:8080/",
          "height": 136
        },
        "outputId": "d15e72e9-e370-4e09-c548-65da2fd06daa"
      },
      "source": [
        "%%javascript\n",
        "\n",
        "document.body.style = \"white-space: pre;\";\n",
        "\n",
        "document.querySelector(\"#output-area\").appendChild(document.createTextNode(10/3));\n",
        "document.querySelector(\"#output-area\").appendChild(document.createTextNode(\"\\n\"));\n",
        "document.querySelector(\"#output-area\").appendChild(document.createTextNode(10 % 3));\n",
        "document.querySelector(\"#output-area\").appendChild(document.createTextNode(\"\\n\"));\n",
        "document.querySelector(\"#output-area\").appendChild(document.createTextNode(Math.floor(-10 / 3)));\n",
        "document.querySelector(\"#output-area\").appendChild(document.createTextNode(\"\\n\"));\n",
        "document.querySelector(\"#output-area\").appendChild(document.createTextNode(\"晴れ\"*3));\n",
        "document.querySelector(\"#output-area\").appendChild(document.createTextNode(\"\\n\"));\n",
        "document.querySelector(\"#output-area\").appendChild(document.createTextNode(\"晴れ\" + \"雨\"));\n",
        "document.querySelector(\"#output-area\").appendChild(document.createTextNode(\"\\n\"));\n",
        "document.querySelector(\"#output-area\").appendChild(document.createTextNode(\"晴れ\" == \"晴れ\"));"
      ],
      "execution_count": null,
      "outputs": [
        {
          "output_type": "display_data",
          "data": {
            "application/javascript": [
              "\n",
              "document.body.style = \"white-space: pre;\";\n",
              "\n",
              "document.querySelector(\"#output-area\").appendChild(document.createTextNode(10/3));\n",
              "document.querySelector(\"#output-area\").appendChild(document.createTextNode(\"\\n\"));\n",
              "document.querySelector(\"#output-area\").appendChild(document.createTextNode(10 % 3));\n",
              "document.querySelector(\"#output-area\").appendChild(document.createTextNode(\"\\n\"));\n",
              "document.querySelector(\"#output-area\").appendChild(document.createTextNode(Math.floor(-10 / 3)));\n",
              "document.querySelector(\"#output-area\").appendChild(document.createTextNode(\"\\n\"));\n",
              "document.querySelector(\"#output-area\").appendChild(document.createTextNode(\"晴れ\"*3));\n",
              "document.querySelector(\"#output-area\").appendChild(document.createTextNode(\"\\n\"));\n",
              "document.querySelector(\"#output-area\").appendChild(document.createTextNode(\"晴れ\" + \"雨\"));\n",
              "document.querySelector(\"#output-area\").appendChild(document.createTextNode(\"\\n\"));\n",
              "document.querySelector(\"#output-area\").appendChild(document.createTextNode(\"晴れ\" == \"晴れ\"));"
            ],
            "text/plain": [
              "<IPython.core.display.Javascript object>"
            ]
          },
          "metadata": {
            "tags": []
          }
        }
      ]
    },
    {
      "cell_type": "markdown",
      "metadata": {
        "id": "SOrTRvAUTppV",
        "colab_type": "text"
      },
      "source": [
        "# いまここ\n",
        "\n",
        "https://developer.mozilla.org/ja/docs/Learn/JavaScript/First_steps/A_first_splash"
      ]
    },
    {
      "cell_type": "markdown",
      "metadata": {
        "id": "6fRc3i3Hq2zo",
        "colab_type": "text"
      },
      "source": [
        "なにもわからないけど関数をつくってみよう。"
      ]
    },
    {
      "cell_type": "code",
      "metadata": {
        "id": "syXRslzRrIqT",
        "colab_type": "code",
        "colab": {
          "base_uri": "https://localhost:8080/",
          "height": 34
        },
        "outputId": "96d47968-742b-4092-b463-f917d188301c"
      },
      "source": [
        "%%javascript\n",
        "\n",
        "function checkGuess() {\n",
        "    return \"This is checkGuess()\"\n",
        "};\n",
        "\n",
        "document.querySelector(\"#output-area\").appendChild(document.createTextNode(checkGuess()));"
      ],
      "execution_count": 4,
      "outputs": [
        {
          "output_type": "display_data",
          "data": {
            "application/javascript": [
              "\n",
              "function checkGuess() {\n",
              "    return \"This is checkGuess()\"\n",
              "};\n",
              "\n",
              "document.querySelector(\"#output-area\").appendChild(document.createTextNode(checkGuess()));"
            ],
            "text/plain": [
              "<IPython.core.display.Javascript object>"
            ]
          },
          "metadata": {
            "tags": []
          }
        }
      ]
    },
    {
      "cell_type": "markdown",
      "metadata": {
        "id": "v1G5viwVra3B",
        "colab_type": "text"
      },
      "source": [
        "とりあえず `function funcname () {}` で関数が作れるらしい。`return` で返り値を指定できる。"
      ]
    },
    {
      "cell_type": "code",
      "metadata": {
        "colab_type": "code",
        "id": "TV6kQEpTr1dc",
        "colab": {
          "base_uri": "https://localhost:8080/",
          "height": 34
        },
        "outputId": "9a46409f-f760-4e93-8ff3-711332a3b8c6"
      },
      "source": [
        "%%javascript\n",
        "\n",
        "function checkGuess (answer, guess, count) {\n",
        "    count = count + 1;\n",
        "    if (answer == guess) {\n",
        "        return \"hit!!!!\";\n",
        "    } else {\n",
        "        return \"wrong!!!!\";\n",
        "    }\n",
        "};\n",
        "\n",
        "document.querySelector(\"#output-area\").appendChild(document.createTextNode(checkGuess(3, 2, 1)));"
      ],
      "execution_count": 11,
      "outputs": [
        {
          "output_type": "display_data",
          "data": {
            "application/javascript": [
              "\n",
              "function checkGuess (answer, guess, count) {\n",
              "    count = count + 1;\n",
              "    if (answer == guess) {\n",
              "        return \"hit!!!!\";\n",
              "    } else {\n",
              "        return \"wrong!!!!\";\n",
              "    }\n",
              "};\n",
              "\n",
              "document.querySelector(\"#output-area\").appendChild(document.createTextNode(checkGuess(3, 2, 1)));"
            ],
            "text/plain": [
              "<IPython.core.display.Javascript object>"
            ]
          },
          "metadata": {
            "tags": []
          }
        }
      ]
    },
    {
      "cell_type": "markdown",
      "metadata": {
        "id": "eaV-V8CEs_Ye",
        "colab_type": "text"
      },
      "source": [
        "引数を指定できる。`if () {} else {}` もだいたい予想どおり。"
      ]
    },
    {
      "cell_type": "markdown",
      "metadata": {
        "id": "xi5y8ZoHtVID",
        "colab_type": "text"
      },
      "source": [
        "文字列の結合に `+` が使える。文字列の繰り返しに `*` は使えない。\n"
      ]
    },
    {
      "cell_type": "code",
      "metadata": {
        "id": "CIwS8zGNtqme",
        "colab_type": "code",
        "colab": {
          "base_uri": "https://localhost:8080/",
          "height": 85
        },
        "outputId": "051d6b2c-3881-4429-d512-b3aaf06137dc"
      },
      "source": [
        "%%javascript\n",
        "\n",
        "document.body.style = \"white-space: pre;\";\n",
        "\n",
        "document.querySelector(\"#output-area\").appendChild(document.createTextNode(3 == '3'));\n",
        "document.querySelector(\"#output-area\").appendChild(document.createTextNode(\"\\n\"));\n",
        "document.querySelector(\"#output-area\").appendChild(document.createTextNode(3 === '3'));\n",
        "document.querySelector(\"#output-area\").appendChild(document.createTextNode(\"\\n\"));\n",
        "document.querySelector(\"#output-area\").appendChild(document.createTextNode(3 === 3));"
      ],
      "execution_count": 18,
      "outputs": [
        {
          "output_type": "display_data",
          "data": {
            "application/javascript": [
              "\n",
              "document.body.style = \"white-space: pre;\";\n",
              "\n",
              "document.querySelector(\"#output-area\").appendChild(document.createTextNode(3 == '3'));\n",
              "document.querySelector(\"#output-area\").appendChild(document.createTextNode(\"\\n\"));\n",
              "document.querySelector(\"#output-area\").appendChild(document.createTextNode(3 === '3'));\n",
              "document.querySelector(\"#output-area\").appendChild(document.createTextNode(\"\\n\"));\n",
              "document.querySelector(\"#output-area\").appendChild(document.createTextNode(3 === 3));"
            ],
            "text/plain": [
              "<IPython.core.display.Javascript object>"
            ]
          },
          "metadata": {
            "tags": []
          }
        }
      ]
    },
    {
      "cell_type": "markdown",
      "metadata": {
        "id": "NHZJIdEUuRQk",
        "colab_type": "text"
      },
      "source": [
        "同等かどうか調べるのに比較演算子が2種類ある、`==` と `===` 。\n",
        "\n"
      ]
    },
    {
      "cell_type": "markdown",
      "metadata": {
        "id": "rR5jvtDhvV6e",
        "colab_type": "text"
      },
      "source": [
        "オブジェクトについて。実験。"
      ]
    },
    {
      "cell_type": "code",
      "metadata": {
        "id": "8xkt7_6Evanq",
        "colab_type": "code",
        "colab": {
          "base_uri": "https://localhost:8080/",
          "height": 51
        },
        "outputId": "d5483390-75a1-4af6-fbaa-e4a90b25a60b"
      },
      "source": [
        "%%javascript\n",
        "\n",
        "document.body.style = \"white-space: pre;\";\n",
        "\n",
        "outputField = document.querySelector(\"#output-area\");\n",
        "\n",
        "outputField.value = \"Hello!!!!\";\n",
        "\n",
        "outputField.appendChild(document.createTextNode(outputField.value));\n",
        "outputField.appendChild(document.createTextNode(\"\\n\"));"
      ],
      "execution_count": 23,
      "outputs": [
        {
          "output_type": "display_data",
          "data": {
            "application/javascript": [
              "\n",
              "document.body.style = \"white-space: pre;\";\n",
              "\n",
              "outputField = document.querySelector(\"#output-area\");\n",
              "\n",
              "outputField.value = \"Hello!!!!\";\n",
              "\n",
              "outputField.appendChild(document.createTextNode(outputField.value));\n",
              "outputField.appendChild(document.createTextNode(\"\\n\"));"
            ],
            "text/plain": [
              "<IPython.core.display.Javascript object>"
            ]
          },
          "metadata": {
            "tags": []
          }
        }
      ]
    },
    {
      "cell_type": "markdown",
      "metadata": {
        "id": "qXacWFruwxir",
        "colab_type": "text"
      },
      "source": [
        "`style` プロパティを変えるのはできるか? 実験。\n",
        "\n",
        "=> よくわからないが、できなかった。"
      ]
    },
    {
      "cell_type": "code",
      "metadata": {
        "id": "xPcFEppxw-ea",
        "colab_type": "code",
        "colab": {
          "base_uri": "https://localhost:8080/",
          "height": 34
        },
        "outputId": "0f1e5597-7e39-4059-a994-0a84c109f204"
      },
      "source": [
        "%%javascript\n",
        "\n",
        "// document.body.style = \"white-space: pre;\";\n",
        "// document.body.style = \"backgroundColor: yellow\";\n",
        "\n",
        "outputField = document.querySelector(\"#output-area\");\n",
        "outputField.style = \"backgroundColor: pink\";\n",
        "\n",
        "outputField.value = \"Hello!!!!\";\n",
        "\n",
        "outputField.appendChild(document.createTextNode(outputField.value));\n",
        "outputField.appendChild(document.createTextNode(\"\\n\"));"
      ],
      "execution_count": 28,
      "outputs": [
        {
          "output_type": "display_data",
          "data": {
            "application/javascript": [
              "\n",
              "// document.body.style = \"white-space: pre;\";\n",
              "// document.body.style = \"backgroundColor: yellow\";\n",
              "\n",
              "outputField = document.querySelector(\"#output-area\");\n",
              "outputField.style = \"backgroundColor: pink\";\n",
              "\n",
              "outputField.value = \"Hello!!!!\";\n",
              "\n",
              "outputField.appendChild(document.createTextNode(outputField.value));\n",
              "outputField.appendChild(document.createTextNode(\"\\n\"));"
            ],
            "text/plain": [
              "<IPython.core.display.Javascript object>"
            ]
          },
          "metadata": {
            "tags": []
          }
        }
      ]
    },
    {
      "cell_type": "markdown",
      "metadata": {
        "id": "1gO4HUMJySIR",
        "colab_type": "text"
      },
      "source": [
        "# いまここ\n",
        "\n",
        "https://developer.mozilla.org/ja/docs/Learn/JavaScript/First_steps/Variables"
      ]
    }
  ]
}