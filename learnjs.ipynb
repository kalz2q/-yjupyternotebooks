{
  "nbformat": 4,
  "nbformat_minor": 0,
  "metadata": {
    "colab": {
      "name": "learnjs.ipynb",
      "provenance": [],
      "authorship_tag": "ABX9TyNu9ZnUFRvIO8Jvqh7kX+s7",
      "include_colab_link": true
    },
    "kernelspec": {
      "name": "python3",
      "display_name": "Python 3"
    }
  },
  "cells": [
    {
      "cell_type": "markdown",
      "metadata": {
        "id": "view-in-github",
        "colab_type": "text"
      },
      "source": [
        "<a href=\"https://colab.research.google.com/github/kalz2q/mycolabnotebooks/blob/master/learnjs.ipynb\" target=\"_parent\"><img src=\"https://colab.research.google.com/assets/colab-badge.svg\" alt=\"Open In Colab\"/></a>"
      ]
    },
    {
      "cell_type": "code",
      "metadata": {
        "id": "GSA8j46K593x",
        "colab_type": "code",
        "colab": {
          "base_uri": "https://localhost:8080/",
          "height": 17
        },
        "outputId": "00f2dea8-3357-48c4-abcf-f4304abee909"
      },
      "source": [
        "%%javascript\n",
        "\n",
        "let message = \"Javascript in Google Colab? Awesome!\"\n",
        "document.querySelector(\"#output-area\").appendChild(document.createTextNode(message));\n",
        "\n",
        "\n",
        "function updateName() {\n",
        "  let name = prompt('名前を入力して下さい');\n",
        "  para.textContent = 'Player 1: ' + name;\n",
        "\n",
        "}\n",
        "document.querySelector(\"#output-area\").appendChild(document.createTextNode(\"what a mess1!!!!\"));\n",
        "\n",
        "name = \"Player 1: \" + \"tis isn't \\n working!\";\n",
        "\n",
        "document.querySelector(\"#output-area\").appendChild(document.createTextNode(name));\n"
      ],
      "execution_count": 61,
      "outputs": [
        {
          "output_type": "display_data",
          "data": {
            "application/javascript": [
              "\n",
              "let message = \"Javascript in Google Colab? Awesome!\"\n",
              "document.querySelector(\"#output-area\").appendChild(document.createTextNode(message));\n",
              "\n",
              "\n",
              "function updateName() {\n",
              "  let name = prompt('名前を入力して下さい');\n",
              "  para.textContent = 'Player 1: ' + name;\n",
              "\n",
              "}\n",
              "document.querySelector(\"#output-area\").appendChild(document.createTextNode(\"what a mess1!!!!\"));\n",
              "\n",
              "name = \"Player 1: \" + \"tis isn't \\n working!\";\n",
              "name = '''\n",
              "what\n",
              "what\n",
              "''';\n",
              "document.querySelector(\"#output-area\").appendChild(document.createTextNode(name));"
            ],
            "text/plain": [
              "<IPython.core.display.Javascript object>"
            ]
          },
          "metadata": {
            "tags": []
          }
        }
      ]
    },
    {
      "cell_type": "markdown",
      "metadata": {
        "id": "TBg62wsMbRyo",
        "colab_type": "text"
      },
      "source": [
        "# メモ\n",
        "\n",
        "javascriptをいままでも使って入るが、どうもピンときていない。すこしちゃんとしたいのだが、どうすればよいか。\n",
        "\n",
        "1. mdn のチュートリアルでも読んでみるか。\n"
      ]
    }
  ]
}