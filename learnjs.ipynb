{
  "nbformat": 4,
  "nbformat_minor": 0,
  "metadata": {
    "colab": {
      "name": "learnjs.ipynb",
      "provenance": [],
      "authorship_tag": "ABX9TyPbdfVCeaLNUEEFCDH4+00l",
      "include_colab_link": true
    },
    "kernelspec": {
      "name": "python3",
      "display_name": "Python 3"
    }
  },
  "cells": [
    {
      "cell_type": "markdown",
      "metadata": {
        "id": "view-in-github",
        "colab_type": "text"
      },
      "source": [
        "<a href=\"https://colab.research.google.com/github/kalz2q/mycolabnotebooks/blob/master/learnjs.ipynb\" target=\"_parent\"><img src=\"https://colab.research.google.com/assets/colab-badge.svg\" alt=\"Open In Colab\"/></a>"
      ]
    },
    {
      "cell_type": "markdown",
      "metadata": {
        "id": "cG6xXZZ1h0LB",
        "colab_type": "text"
      },
      "source": [
        "# はじめに、というか\n",
        "\n",
        "`Colab` で `%%javascript` マジック・コマンドを使って、`JavaScript` の勉強をしようと思い立ったのだが、ふつーのテキストにある `alert()` とか `prompt()` とかが使えない。`console.log()` は使えるが、それだといちいち `デベロッパーツール` を開かないといけないよね。\n",
        "\n",
        "デベロッパーツールをひらいてみると、`alert()` とか `prompt()` のエラーが出てて、たいへん。`Ctrl-L` でクリアーできる。\n",
        "\n",
        "やりたいことは colab のコードセルに javascrip を書いて、セルを実行するとセルの出力欄にアウトプットが出るような形なので、探したら次のようなのがあった。"
      ]
    },
    {
      "cell_type": "code",
      "metadata": {
        "id": "xRuGEUiZjcj4",
        "colab_type": "code",
        "colab": {
          "base_uri": "https://localhost:8080/",
          "height": 34
        },
        "outputId": "c0245fc3-f8cb-412d-d685-764f7a596652"
      },
      "source": [
        "%%javascript\n",
        "\n",
        "let message = \"Javascript in Google Colab? Awesome!\"\n",
        "document.querySelector(\"#output-area\").appendChild(document.createTextNode(message));\n"
      ],
      "execution_count": null,
      "outputs": [
        {
          "output_type": "display_data",
          "data": {
            "application/javascript": [
              "\n",
              "let message = \"Javascript in Google Colab? Awesome!\"\n",
              "document.querySelector(\"#output-area\").appendChild(document.createTextNode(message));"
            ],
            "text/plain": [
              "<IPython.core.display.Javascript object>"
            ]
          },
          "metadata": {
            "tags": []
          }
        }
      ]
    },
    {
      "cell_type": "markdown",
      "metadata": {
        "id": "q64rNUfujwIH",
        "colab_type": "text"
      },
      "source": [
        "なんとなくちょっと違う感じなので、すこし実験しよう。"
      ]
    },
    {
      "cell_type": "code",
      "metadata": {
        "id": "SIpN5p0TKYdy",
        "colab_type": "code",
        "colab": {
          "base_uri": "https://localhost:8080/",
          "height": 34
        },
        "outputId": "573ef9e9-f03a-4271-8726-de372de5b15c"
      },
      "source": [
        "%%javascript\n",
        "\n",
        "document.querySelector(\"#output-area\").appendChild(document.createTextNode(\"二行書いたら\\nどうなるか\"));\n",
        "document.querySelector(\"#output-area\").appendChild(document.createTextNode(\"二行目\"));"
      ],
      "execution_count": null,
      "outputs": [
        {
          "output_type": "display_data",
          "data": {
            "application/javascript": [
              "\n",
              "document.querySelector(\"#output-area\").appendChild(document.createTextNode(\"二行書いたら\\nどうなるか\"));\n",
              "document.querySelector(\"#output-area\").appendChild(document.createTextNode(\"二行目\"));"
            ],
            "text/plain": [
              "<IPython.core.display.Javascript object>"
            ]
          },
          "metadata": {
            "tags": []
          }
        }
      ]
    },
    {
      "cell_type": "markdown",
      "metadata": {
        "id": "QKc4eZ57kb5u",
        "colab_type": "text"
      },
      "source": [
        "改行マークが使えない。2行にしてもつながってしまう。\n",
        "\n",
        "ネットを見たら次のような解決方法が載っていた。"
      ]
    },
    {
      "cell_type": "code",
      "metadata": {
        "id": "nshV2WIXl-En",
        "colab_type": "code",
        "colab": {
          "base_uri": "https://localhost:8080/",
          "height": 68
        },
        "outputId": "ec201286-8ee0-4c25-bb4c-1daf25d1a517"
      },
      "source": [
        "%%javascript\n",
        "\n",
        "document.body.style = \"white-space: pre;\"\n",
        "\n",
        "document.querySelector(\"#output-area\").appendChild(document.createTextNode(\"二行書いたら\\nどうなるか\"));\n",
        "document.querySelector(\"#output-area\").appendChild(document.createTextNode(\"二行目\"));"
      ],
      "execution_count": null,
      "outputs": [
        {
          "output_type": "display_data",
          "data": {
            "application/javascript": [
              "\n",
              "document.body.style = \"white-space: pre;\"\n",
              "\n",
              "document.querySelector(\"#output-area\").appendChild(document.createTextNode(\"二行書いたら\\nどうなるか\"));\n",
              "document.querySelector(\"#output-area\").appendChild(document.createTextNode(\"二行目\"));"
            ],
            "text/plain": [
              "<IPython.core.display.Javascript object>"
            ]
          },
          "metadata": {
            "tags": []
          }
        }
      ]
    },
    {
      "cell_type": "markdown",
      "metadata": {
        "id": "YFSmbBijqRFc",
        "colab_type": "text"
      },
      "source": [
        "MDN のドキュメント https://developer.mozilla.org/en-US/docs/Web/CSS/white-space にほかのオプションも書いてあっていずれにしてもよくわからないが、とりあえずすこし前に進めた。"
      ]
    },
    {
      "cell_type": "markdown",
      "metadata": {
        "id": "oIYj_aOhqlA5",
        "colab_type": "text"
      },
      "source": [
        "# JavaScript はじめの一歩\n",
        "\n",
        "MDNのチュートリアルの例でこの環境では使えないのは飛ばして、メモをとりなが読んで行こう。\n",
        "\n",
        "https://developer.mozilla.org/ja/docs/Learn/JavaScript/First_steps/What_is_JavaScript\n",
        "\n",
        "コメントは `//` と `/* */`。これはつかえるかな。やってみよう。\n"
      ]
    },
    {
      "cell_type": "code",
      "metadata": {
        "id": "Se7x_0xu6cuR",
        "colab_type": "code",
        "colab": {
          "base_uri": "https://localhost:8080/",
          "height": 68
        },
        "outputId": "bae4e0b0-74d1-4c18-e9fa-829057bfe482"
      },
      "source": [
        "%%javascript\n",
        "\n",
        "// これはコメント\n",
        "\n",
        "/* 何行にも\n",
        "   わたるコメントは\n",
        "   こんな */\n",
        "\n",
        "document.body.style = \"white-space: pre;\"\n",
        "\n",
        "document.querySelector(\"#output-area\").appendChild(document.createTextNode(\"はろー\\n\"));\n",
        "document.querySelector(\"#output-area\").appendChild(document.createTextNode(\"はろー\\n\"));"
      ],
      "execution_count": 24,
      "outputs": [
        {
          "output_type": "display_data",
          "data": {
            "application/javascript": [
              "\n",
              "// これはコメント\n",
              "\n",
              "/* 何行にも\n",
              "   わたるコメントは\n",
              "   こんな */\n",
              "\n",
              "document.body.style = \"white-space: pre;\"\n",
              "\n",
              "document.querySelector(\"#output-area\").appendChild(document.createTextNode(\"はろー\\n\"));\n",
              "document.querySelector(\"#output-area\").appendChild(document.createTextNode(\"はろー\\n\"));"
            ],
            "text/plain": [
              "<IPython.core.display.Javascript object>"
            ]
          },
          "metadata": {
            "tags": []
          }
        }
      ]
    },
    {
      "cell_type": "markdown",
      "metadata": {
        "id": "YtCE3SsQ7Ubo",
        "colab_type": "text"
      },
      "source": [
        "使えた。Python や Ruby の `#` ではなくて、C++ や Java の `//` なのだ。覚えよう。\n"
      ]
    },
    {
      "cell_type": "markdown",
      "metadata": {
        "id": "bidrpOZ48BaV",
        "colab_type": "text"
      },
      "source": [
        "# 数あてゲーム\n",
        "\n",
        "次の例が数当てゲームだが、ユーザーとのやりとりはやりたくないので、ゲームとして完成させることはあきらめて、部分部分を見ていこう。関数とか。ランダムの使い方、とか。"
      ]
    },
    {
      "cell_type": "code",
      "metadata": {
        "id": "2b0J8k5m9HWF",
        "colab_type": "code",
        "colab": {
          "base_uri": "https://localhost:8080/",
          "height": 51
        },
        "outputId": "8697868e-7e04-4911-ac9e-7b1c9c76f381"
      },
      "source": [
        "%%javascript\n",
        "\n",
        "document.body.style = \"white-space: pre;\"\n",
        "\n",
        "let randomNumber = Math.floor(Math.random() * 100) + 1;\n",
        "\n",
        "document.querySelector(\"#output-area\").appendChild(document.createTextNode(randomNumber));\n"
      ],
      "execution_count": 29,
      "outputs": [
        {
          "output_type": "display_data",
          "data": {
            "application/javascript": [
              "\n",
              "document.body.style = \"white-space: pre;\"\n",
              "\n",
              "let randomNumber = Math.floor(Math.random() * 100) + 1;\n",
              "\n",
              "document.querySelector(\"#output-area\").appendChild(document.createTextNode(randomNumber));"
            ],
            "text/plain": [
              "<IPython.core.display.Javascript object>"
            ]
          },
          "metadata": {
            "tags": []
          }
        }
      ]
    }
  ]
}