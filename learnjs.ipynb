{
  "nbformat": 4,
  "nbformat_minor": 0,
  "metadata": {
    "colab": {
      "name": "learnjs.ipynb",
      "provenance": [],
      "authorship_tag": "ABX9TyNbxG0IjiZ5v4OZmawykyZ/",
      "include_colab_link": true
    },
    "kernelspec": {
      "name": "python3",
      "display_name": "Python 3"
    }
  },
  "cells": [
    {
      "cell_type": "markdown",
      "metadata": {
        "id": "view-in-github",
        "colab_type": "text"
      },
      "source": [
        "<a href=\"https://colab.research.google.com/github/kalz2q/mycolabnotebooks/blob/master/learnjs.ipynb\" target=\"_parent\"><img src=\"https://colab.research.google.com/assets/colab-badge.svg\" alt=\"Open In Colab\"/></a>"
      ]
    },
    {
      "cell_type": "code",
      "metadata": {
        "id": "zfrqNf9wbQuh",
        "colab_type": "code",
        "colab": {}
      },
      "source": [
        ""
      ],
      "execution_count": null,
      "outputs": []
    },
    {
      "cell_type": "markdown",
      "metadata": {
        "id": "TBg62wsMbRyo",
        "colab_type": "text"
      },
      "source": [
        "# メモ\n",
        "\n",
        "javascriptをいままでも使って入るが、どうもピンときていない。すこしちゃんとしたいのだが、どうすればよいか。\n",
        "\n",
        "1. mdn のチュートリアルでも読んでみるか。\n"
      ]
    }
  ]
}