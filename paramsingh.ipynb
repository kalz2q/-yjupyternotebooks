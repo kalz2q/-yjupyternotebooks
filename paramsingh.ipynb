{
  "nbformat": 4,
  "nbformat_minor": 0,
  "metadata": {
    "colab": {
      "name": "paramsingh.ipynb",
      "provenance": [],
      "toc_visible": true,
      "authorship_tag": "ABX9TyO/n6hlGXNbaqWPFNBdOm1w",
      "include_colab_link": true
    },
    "kernelspec": {
      "name": "python3",
      "display_name": "Python 3"
    }
  },
  "cells": [
    {
      "cell_type": "markdown",
      "metadata": {
        "id": "view-in-github",
        "colab_type": "text"
      },
      "source": [
        "<a href=\"https://colab.research.google.com/github/kalz2q/mycolabnotebooks/blob/master/paramsingh.ipynb\" target=\"_parent\"><img src=\"https://colab.research.google.com/assets/colab-badge.svg\" alt=\"Open In Colab\"/></a>"
      ]
    },
    {
      "cell_type": "markdown",
      "metadata": {
        "id": "46aV09-GbtBk"
      },
      "source": [
        "# メモ\r\n",
        "\r\n",
        "Transduction — Functional Programming in JavaScript  \r\n",
        "Param Singh\r\n",
        "\r\n",
        "\r\n",
        "\r\n",
        "\r\n",
        "\r\n",
        "https://codeburst.io/transduction-functional-programming-in-javascript-3b494758a868"
      ]
    },
    {
      "cell_type": "markdown",
      "metadata": {
        "id": "xSL-1R9kI9cV"
      },
      "source": [
        "# map , filter, redyce"
      ]
    },
    {
      "cell_type": "markdown",
      "metadata": {
        "id": "h9u5wYVZJeIW"
      },
      "source": [
        "# transduction"
      ]
    },
    {
      "cell_type": "markdown",
      "metadata": {
        "id": "9hgVmIT_JoaU"
      },
      "source": [
        "# Functional Prgramming 入門\r\n",
        "こっちを先に読もう。\r\n",
        "\r\n",
        "https://codeburst.io/functional-programming-in-javascript-part-i-2ea6c592f3c1"
      ]
    },
    {
      "cell_type": "markdown",
      "metadata": {
        "id": "c9AiNOqnKBSk"
      },
      "source": [
        "# smoothie を作る\r\n",
        "1. filter で材料を選ぶ。\r\n",
        "2. map で皮を剥く。\r\n",
        "3. reduce でまぜて一つにする。\r\n"
      ]
    },
    {
      "cell_type": "code",
      "metadata": {
        "colab": {
          "base_uri": "https://localhost:8080/"
        },
        "id": "eSBLBHbZI831",
        "outputId": "58880e7f-d2b9-47ba-a126-2245035e499b"
      },
      "source": [
        "%%script node\r\n",
        "const FOOD_TYPE = {\r\n",
        "    FRUIT: \"FRUIT\",\r\n",
        "    VEGETABLE: \"VEGETABLE\"\r\n",
        "}\r\n",
        "var foods = [\r\n",
        "    { name: \"Carrot\", type: FOOD_TYPE.VEGETABLE, cals: 41 },\r\n",
        "    { name: \"Avocado\", type: FOOD_TYPE.FRUIT, cals: 160 },\r\n",
        "    { name: \"Orange\", type: FOOD_TYPE.FRUIT, cals: 47 },\r\n",
        "    { name: \"Beetrot\", type: FOOD_TYPE.VEGETABLE, cals: 43 },\r\n",
        "    { name: \"Banana\", type: FOOD_TYPE.FRUIT, cals: 89 }\r\n",
        "];\r\n",
        "\r\n",
        "\r\n",
        "function getName(food) {\r\n",
        "    return food.name;\r\n",
        "}\r\n",
        "\r\n",
        "function isFruit(food) {\r\n",
        "    return food.type === FOOD_TYPE.FRUIT;\r\n",
        "}\r\n",
        "\r\n",
        "function accumulator(bowl, name) {\r\n",
        "    return [...bowl, name];\r\n",
        "}\r\n",
        "\r\n",
        "function makeFruitSmoothie(foodsInput) {\r\n",
        "    return foodsInput\r\n",
        "        .filter(isFruit)\r\n",
        "        .map(getName)\r\n",
        "        .reduce(accumulator, [])\r\n",
        "}\r\n",
        "\r\n",
        "const smoothieBowl = makeFruitSmoothie(foods);\r\n",
        "\r\n",
        "console.log(smoothieBowl); // [\"Avocado\", \"Orange\", \"Banana\"]\r\n"
      ],
      "execution_count": null,
      "outputs": [
        {
          "output_type": "stream",
          "text": [
            "[ 'Avocado', 'Orange', 'Banana' ]\n"
          ],
          "name": "stdout"
        }
      ]
    },
    {
      "cell_type": "code",
      "metadata": {
        "id": "AMPjYQNDaTgM"
      },
      "source": [
        "# accumulator(bowl,name) がわからないので同じ著者による fp入門を先に読もう\r\n",
        "\r\n",
        "%%script false\r\n",
        "\r\n",
        "function accumulator(bowl, name) {\r\n",
        "    return [...bowl, name];\r\n",
        "}"
      ],
      "execution_count": null,
      "outputs": []
    },
    {
      "cell_type": "markdown",
      "metadata": {
        "id": "KaF1GK-ScZHl"
      },
      "source": [
        "# Functional Prgramming 入門\r\n",
        "こっちを先に読もう。\r\n",
        "\r\n",
        "https://codeburst.io/functional-programming-in-javascript-part-i-2ea6c592f3c1"
      ]
    },
    {
      "cell_type": "code",
      "metadata": {
        "id": "eaxoFx84cdZC"
      },
      "source": [
        "%%script false\r\n",
        "const products = [...]\r\n",
        "const bestProducts = [];\r\n",
        "\r\n",
        "function getBestProducts() {\r\n",
        "    for (let i = 0; i < products.length; i++) {\r\n",
        "        let product = products[i];\r\n",
        "        if product.rating >= 5 && product.price < 100) {\r\n",
        "            bestProducts.push(product);\r\n",
        "        }\r\n",
        "    }\r\n",
        "}\r\n",
        "\r\n",
        "console.log(getBestProducts()) // [...]"
      ],
      "execution_count": 2,
      "outputs": []
    },
    {
      "cell_type": "code",
      "metadata": {
        "id": "DFLKKvjPomLq",
        "outputId": "ebc51e53-34c7-423d-e085-b6a88fe0d885",
        "colab": {
          "base_uri": "https://localhost:8080/"
        }
      },
      "source": [
        "%%script node\r\n",
        "const productsInput = [\r\n",
        "    { name:\"item1\", rating:0, price:50 },\r\n",
        "    { name:\"item2\", rating:10, price:120 },\r\n",
        "    { name:\"item3\", rating:10, price:80 }\r\n",
        "]\r\n",
        "\r\n",
        "function checkIfBestProduct(product) {\r\n",
        "    return product.rating >= 5 && product.price < 100\r\n",
        "}\r\n",
        "\r\n",
        "function getBestProducts(products) {\r\n",
        "    return products.filter(checkIfBestProduct)\r\n",
        "}\r\n",
        "\r\n",
        "const bestProducts = getBestProducts(productsInput)\r\n",
        "console.log(bestProducts)\r\n"
      ],
      "execution_count": 6,
      "outputs": [
        {
          "output_type": "stream",
          "text": [
            "[ { name: 'item3', rating: 10, price: 80 } ]\n"
          ],
          "name": "stdout"
        }
      ]
    },
    {
      "cell_type": "markdown",
      "metadata": {
        "id": "c_YHkMgGaTJN"
      },
      "source": [
        "# いまここ\r\n",
        "# Functional Prgramming 入門\r\n",
        "こっちを先に読もう。\r\n",
        "\r\n",
        "https://codeburst.io/functional-programming-in-javascript-part-i-2ea6c592f3c1"
      ]
    }
  ]
}