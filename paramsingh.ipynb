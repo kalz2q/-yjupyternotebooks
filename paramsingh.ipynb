{
  "nbformat": 4,
  "nbformat_minor": 0,
  "metadata": {
    "colab": {
      "name": "paramsingh.ipynb",
      "provenance": [],
      "toc_visible": true,
      "authorship_tag": "ABX9TyNHC1XRwSoHodGEI/rbPvMr",
      "include_colab_link": true
    },
    "kernelspec": {
      "name": "python3",
      "display_name": "Python 3"
    }
  },
  "cells": [
    {
      "cell_type": "markdown",
      "metadata": {
        "id": "view-in-github",
        "colab_type": "text"
      },
      "source": [
        "<a href=\"https://colab.research.google.com/github/kalz2q/mycolabnotebooks/blob/master/paramsingh.ipynb\" target=\"_parent\"><img src=\"https://colab.research.google.com/assets/colab-badge.svg\" alt=\"Open In Colab\"/></a>"
      ]
    },
    {
      "cell_type": "code",
      "metadata": {
        "id": "8BC1YI5RI3tP"
      },
      "source": [
        ""
      ],
      "execution_count": null,
      "outputs": []
    },
    {
      "cell_type": "markdown",
      "metadata": {
        "id": "EF59sHmqI673"
      },
      "source": [
        "https://codeburst.io/transduction-functional-programming-in-javascript-3b494758a868"
      ]
    },
    {
      "cell_type": "markdown",
      "metadata": {
        "id": "xSL-1R9kI9cV"
      },
      "source": [
        "# map , filter, redyce"
      ]
    },
    {
      "cell_type": "markdown",
      "metadata": {
        "id": "h9u5wYVZJeIW"
      },
      "source": [
        "# transduction"
      ]
    },
    {
      "cell_type": "markdown",
      "metadata": {
        "id": "9hgVmIT_JoaU"
      },
      "source": [
        "# Functional Prgramming 入門\r\n",
        "https://codeburst.io/functional-programming-in-javascript-part-i-2ea6c592f3c1"
      ]
    },
    {
      "cell_type": "markdown",
      "metadata": {
        "id": "c9AiNOqnKBSk"
      },
      "source": [
        "# smoothie を作る\r\n",
        "1. filter で材料を選ぶ。\r\n",
        "2. map で皮を剥く。\r\n",
        "3. reduce でまぜて一つにする。\r\n"
      ]
    },
    {
      "cell_type": "code",
      "metadata": {
        "id": "eSBLBHbZI831"
      },
      "source": [
        "%%html\r\n",
        "\r\n",
        "<script>\r\n",
        "    const FOOD_TYPE = {\r\n",
        "        FRUIT: \"FRUIT\",\r\n",
        "        VEGETABLE: \"VEGETABLE\"\r\n",
        "    }\r\n",
        "    var foods = [\r\n",
        "        { name: \"Carrot\", type: FOOD_TYPE.VEGETABLE, cals: 41 },\r\n",
        "        { name: \"Avocado\", type: FOOD_TYPE.FRUIT, cals: 160 },\r\n",
        "        { name: \"Orange\", type: FOOD_TYPE.FRUIT, cals: 47 },\r\n",
        "        { name: \"Beetrot\", type: FOOD_TYPE.VEGETABLE, cals: 43 },\r\n",
        "        { name: \"Banana\", type: FOOD_TYPE.FRUIT, cals: 89 }\r\n",
        "    ];\r\n",
        "\r\n",
        "\r\n",
        "    function getName(food) {\r\n",
        "        return food.name;\r\n",
        "    }\r\n",
        "\r\n",
        "    function isFruit(food) {\r\n",
        "        return food.type === FOOD_TYPE.FRUIT;\r\n",
        "    }\r\n",
        "\r\n",
        "    function accumulator(bowl, name) {\r\n",
        "        return [...bowl, name];\r\n",
        "    }\r\n",
        "\r\n",
        "    function makeFruitSmoothie(foodsInput) {\r\n",
        "        return foodsInput\r\n",
        "            .filter(isFruit)\r\n",
        "            .map(getName)\r\n",
        "            .reduce(accumulator, [])\r\n",
        "    }\r\n",
        "\r\n",
        "    const smoothieBowl = makeFruitSmoothie(foods);\r\n",
        "\r\n",
        "    console.log(smoothieBow); // [\"Avocado\", \"Orange\", \"Banana\"]\r\n",
        "</script>"
      ],
      "execution_count": null,
      "outputs": []
    }
  ]
}