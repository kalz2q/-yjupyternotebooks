{
  "nbformat": 4,
  "nbformat_minor": 0,
  "metadata": {
    "colab": {
      "name": "cpp_problems.ipynb",
      "provenance": [],
      "toc_visible": true,
      "authorship_tag": "ABX9TyPXHi10p07wFJAqnKQdqg5k",
      "include_colab_link": true
    },
    "kernelspec": {
      "name": "python3",
      "display_name": "Python 3"
    },
    "language_info": {
      "name": "python"
    }
  },
  "cells": [
    {
      "cell_type": "markdown",
      "metadata": {
        "id": "view-in-github",
        "colab_type": "text"
      },
      "source": [
        "<a href=\"https://colab.research.google.com/github/kalz2q/mycolabnotebooks/blob/master/cpp_problems.ipynb\" target=\"_parent\"><img src=\"https://colab.research.google.com/assets/colab-badge.svg\" alt=\"Open In Colab\"/></a>"
      ]
    },
    {
      "cell_type": "markdown",
      "metadata": {
        "id": "yyDogo8E0a-k"
      },
      "source": [
        "# メモ\n",
        "アイデアはプログラムを学んでいて、問題がわからない。  \n",
        "わかりやすい問題集を作ろう。\n",
        "\n",
        "1. AOJ (Aizu Online Judge) のコース問題  \n",
        "1. など\n"
      ]
    },
    {
      "cell_type": "code",
      "source": [
        "問題 ITP1_1_A: Hello World  \n",
        "# \"Hello World\" と一行に出力する\n",
        "%%writefile temp.cpp\n",
        "# include <bits/stdc++.h>\n",
        "using namespace std;\n",
        "\n",
        "int main (){\n",
        "  cout << \"Hello World\"<< \"\\n\";\n",
        "}"
      ],
      "metadata": {
        "id": "oFZ0BDtT7Q-k"
      },
      "execution_count": null,
      "outputs": []
    },
    {
      "cell_type": "code",
      "metadata": {
        "colab": {
          "base_uri": "https://localhost:8080/"
        },
        "id": "WjtbClzP0TQs",
        "outputId": "5b9c9a90-40cc-440c-f673-1b68d316ac11"
      },
      "source": [
        "!g++ temp.cpp; ./temp"
      ],
      "execution_count": null,
      "outputs": [
        {
          "output_type": "stream",
          "text": [
            "Hello World\n"
          ],
          "name": "stdout"
        }
      ]
    },
    {
      "cell_type": "code",
      "source": [
        "問題 ITP1_1_B: X Cubic\n",
        "# x の 3 乗の計算結果を 1 行に出力する\n",
        "%%writefile temp.cpp\n",
        "# include <bits/stdc++.h> \n",
        "using namespace std;\n",
        "\n",
        "int main (){\n",
        "    double x;\n",
        "    cin >> x;\n",
        "    cout << pow(x,3) << \"\\n\";\n",
        "}"
      ],
      "metadata": {
        "id": "aGd4C-NC9mdn",
        "outputId": "d59d9da5-da8b-450d-c9b3-02d4181fd97b",
        "colab": {
          "base_uri": "https://localhost:8080/"
        }
      },
      "execution_count": null,
      "outputs": [
        {
          "output_type": "stream",
          "name": "stdout",
          "text": [
            "Overwriting temp.cpp\n"
          ]
        }
      ]
    },
    {
      "cell_type": "code",
      "metadata": {
        "colab": {
          "base_uri": "https://localhost:8080/"
        },
        "id": "NnwRLR_f90hp",
        "outputId": "45d6aaba-a6a2-436d-baee-d1f143f8d52a"
      },
      "source": [
        "!g++ temp.cpp; echo 10 | ./a.out\n",
        "!g++ temp.cpp; echo 2.7 | ./a.out"
      ],
      "execution_count": null,
      "outputs": [
        {
          "output_type": "stream",
          "name": "stdout",
          "text": [
            "1000\n",
            "19.683\n"
          ]
        }
      ]
    },
    {
      "cell_type": "code",
      "source": [
        "# 問題 ITP1_1_C: Rectangle\n",
        "# 縦 a cm 横 b cm の長方形の面積と周の長さを求める。\n",
        "# 例: 5 6 => 30 22\n",
        "%%writefile temp.cpp\n",
        "# include <bits/stdc++.h> \n",
        "using namespace std;\n",
        "\n",
        "int main (){\n",
        "    double x,y;\n",
        "    cin >> x >> y;\n",
        "    cout << x * y << \" \" << (x + y) * 2 << \"\\n\";\n",
        "}"
      ],
      "metadata": {
        "id": "iKpT7KqTgltN",
        "outputId": "b4f2b5d1-b90c-4ab7-f7e8-4a00bb1ecf0a",
        "colab": {
          "base_uri": "https://localhost:8080/"
        }
      },
      "execution_count": null,
      "outputs": [
        {
          "output_type": "stream",
          "name": "stdout",
          "text": [
            "Overwriting temp.cpp\n"
          ]
        }
      ]
    },
    {
      "cell_type": "code",
      "metadata": {
        "id": "B8uIdW0DhaSf",
        "colab": {
          "base_uri": "https://localhost:8080/"
        },
        "outputId": "f5b25806-a2e4-47b3-da3d-ba32d297d285"
      },
      "source": [
        "!g++ temp.cpp; echo 5 6 | ./a.out"
      ],
      "execution_count": null,
      "outputs": [
        {
          "output_type": "stream",
          "name": "stdout",
          "text": [
            "30 22\n"
          ]
        }
      ]
    },
    {
      "cell_type": "code",
      "source": [
        "# 問題 ITP1_1_D: Watch\n",
        "# 秒 s を $h:m:s:$ の形式に変換する。\n",
        "# 例: 46979 => 13:2:59\n",
        "%%writefile watch.cpp\n",
        "# include <bits/stdc++.h> \n",
        "using namespace std;\n",
        "\n",
        "int main (){\n",
        "    int h, m, s;\n",
        "    cin >> s;\n",
        "    h = s / 3600;\n",
        "    s %= 3600;\n",
        "    m = s / 60;\n",
        "    s %= 60;\n",
        "    cout << h << \":\" << m << \":\" << s << \"\\n\";\n",
        "}"
      ],
      "metadata": {
        "id": "7WEEQyGZg_60"
      },
      "execution_count": null,
      "outputs": []
    },
    {
      "cell_type": "code",
      "metadata": {
        "id": "TbObXxU4j0n6",
        "colab": {
          "base_uri": "https://localhost:8080/"
        },
        "outputId": "326e3db5-9e93-424b-c7fc-f18464ea04d0"
      },
      "source": [
        "!g++ watch.cpp -o watch; echo 46979 |./a.out"
      ],
      "execution_count": null,
      "outputs": [
        {
          "output_type": "stream",
          "text": [
            "13:2:59\n"
          ],
          "name": "stdout"
        }
      ]
    },
    {
      "cell_type": "code",
      "source": [
        "# 問題 ITP1_2_A: Small, Large, or Equal\n",
        "# ２つの整数 a, b を読み込んで、a と b の大小関係を出力する。\n",
        "# 例: 1 2 => a < b\n",
        "%%writefile temp.cpp\n",
        "# include <bits/stdc++.h> \n",
        "using namespace std;\n",
        "\n",
        "int main (){\n",
        "    int a, b;\n",
        "    string s;\n",
        "    cin >> a >> b;\n",
        "    if (a < b) s = \"a < b\";\n",
        "    else if (a > b) s = \"a > b\";\n",
        "    else s =\"a == b\";\n",
        "    cout <<  s << \"\\n\";\n",
        "}"
      ],
      "metadata": {
        "id": "__duxO9RhD7e",
        "outputId": "cdf18918-081a-4565-ce4e-38883f5efdd3",
        "colab": {
          "base_uri": "https://localhost:8080/"
        }
      },
      "execution_count": 1,
      "outputs": [
        {
          "output_type": "stream",
          "name": "stdout",
          "text": [
            "Writing temp.cpp\n"
          ]
        }
      ]
    },
    {
      "cell_type": "code",
      "metadata": {
        "id": "jYpQaXEoy86d",
        "colab": {
          "base_uri": "https://localhost:8080/"
        },
        "outputId": "9ae13bbf-4f20-49f6-d063-31f73be6523e"
      },
      "source": [
        "!g++ temp.cpp; echo 2 2 |./a.out"
      ],
      "execution_count": 2,
      "outputs": [
        {
          "output_type": "stream",
          "name": "stdout",
          "text": [
            "a == b\n"
          ]
        }
      ]
    },
    {
      "cell_type": "code",
      "source": [
        "# 問題 ITP1_2_B: Range  \n",
        "# ３つの整数 a, b, c を読み込み、それらが a < b < c の条件を満たすならば\"Yes\"を、満たさないならば\"No\"を出力する。\n",
        "# 例: 1 3 8 => Yes\n",
        "%%writefile temp.cpp\n",
        "# include <bits/stdc++.h> \n",
        "using namespace std;\n",
        "\n",
        "int main (){\n",
        "    int a, b, c;\n",
        "    string s;\n",
        "    cin >> a >> b >> c;\n",
        "    if ((a < b) && (b < c)) s = \"Yes\";\n",
        "    else s = \"No\";\n",
        "    cout <<  s << \"\\n\";\n",
        "}"
      ],
      "metadata": {
        "id": "08AyIO3qx2Q9",
        "outputId": "4168f8e0-25a1-4f2c-fa92-8b638e00a524",
        "colab": {
          "base_uri": "https://localhost:8080/"
        }
      },
      "execution_count": 3,
      "outputs": [
        {
          "output_type": "stream",
          "name": "stdout",
          "text": [
            "Overwriting temp.cpp\n"
          ]
        }
      ]
    },
    {
      "cell_type": "code",
      "metadata": {
        "id": "vtorNJjNOeFA",
        "colab": {
          "base_uri": "https://localhost:8080/"
        },
        "outputId": "d7735745-45fe-4455-b2a7-bd5be75b3ea1"
      },
      "source": [
        "!g++ temp.cpp; echo 1 3 8 |./a.out"
      ],
      "execution_count": 4,
      "outputs": [
        {
          "output_type": "stream",
          "name": "stdout",
          "text": [
            "Yes\n"
          ]
        }
      ]
    },
    {
      "cell_type": "code",
      "source": [
        "# 問題 ITP1_2_C: Sorting Three Numbers  \n",
        "# 3 つの整数を読み込み、それらを値が小さい順に並べて出力する。\n",
        "# 例: 3 1 8 => 1 3 8\n",
        "%%writefile temp.cpp\n",
        "# include <bits/stdc++.h> \n",
        "using namespace std;\n",
        "\n",
        "int main (){\n",
        "    int x;\n",
        "    vector<int> v;\n",
        "    while (cin >> x){\n",
        "        v.push_back(x);\n",
        "    }\n",
        "\n",
        "    sort(v.begin(), v.end());\n",
        "\n",
        "    cout << v[0] << ' '<< v[1] << ' '<< v[2] << \"\\n\";\n",
        "}"
      ],
      "metadata": {
        "id": "iyoXo1SGx5l7",
        "colab": {
          "base_uri": "https://localhost:8080/"
        },
        "outputId": "5ef622d5-d626-43f1-a2be-008b241d744c"
      },
      "execution_count": 5,
      "outputs": [
        {
          "output_type": "stream",
          "name": "stdout",
          "text": [
            "Overwriting temp.cpp\n"
          ]
        }
      ]
    },
    {
      "cell_type": "code",
      "metadata": {
        "id": "uUarukR2PdvK",
        "colab": {
          "base_uri": "https://localhost:8080/"
        },
        "outputId": "692028c8-0dc0-4207-f461-479aef2db586"
      },
      "source": [
        "!g++ temp.cpp; echo 3 1 8 |./a.out"
      ],
      "execution_count": 6,
      "outputs": [
        {
          "output_type": "stream",
          "name": "stdout",
          "text": [
            "1 3 8\n"
          ]
        }
      ]
    },
    {
      "cell_type": "code",
      "source": [
        "# 問題 ITP1_2_D: Circle in a Rectangle\n",
        "# 長方形の中に円が含まれるかを判定する。長方形は左下の頂点を原点とし、\n",
        "# 右上の頂点の座標 (W, H) が与えられ、円はその中心の座標 (x, y)と半径 r が与えられる。\n",
        "# 例: 5 4 2 2 1 => Yes\n",
        "%%writefile temp.cpp\n",
        "# include <bits/stdc++.h> \n",
        "using namespace std;\n",
        "\n",
        "int main (){\n",
        "  int w, h, x, y, r;\n",
        "  string s;\n",
        "  cin >> w >> h >> x >> y >> r;\n",
        "  if ((x >= r) && ((w - x) >= r) && (y >= r) && ((h - y) >= r))\n",
        "    s = \"Yes\";\n",
        "  else \n",
        "    s = \"No\";\n",
        "  cout <<  s << \"\\n\";\n",
        "}\n"
      ],
      "metadata": {
        "id": "UpNiAmlPx62S",
        "outputId": "374029d2-6af5-4f49-d0bc-4b8d6dc89542",
        "colab": {
          "base_uri": "https://localhost:8080/"
        }
      },
      "execution_count": 7,
      "outputs": [
        {
          "output_type": "stream",
          "name": "stdout",
          "text": [
            "Overwriting temp.cpp\n"
          ]
        }
      ]
    },
    {
      "cell_type": "code",
      "metadata": {
        "id": "Uujr1e4OCXdA",
        "colab": {
          "base_uri": "https://localhost:8080/"
        },
        "outputId": "bc557db6-27cb-4e5a-86ee-cfc164f8feae"
      },
      "source": [
        "!g++ temp.cpp; echo 5 4 2 2 1 |./a.out"
      ],
      "execution_count": 8,
      "outputs": [
        {
          "output_type": "stream",
          "name": "stdout",
          "text": [
            "Yes\n"
          ]
        }
      ]
    },
    {
      "cell_type": "code",
      "source": [
        "# 問題 ITP1_3_A: Print Many Hello World\n",
        "# 5 個の \"Hello World\" を出力する\n",
        "%%writefile temp.cpp\n",
        "# include <bits/stdc++.h> \n",
        "using namespace std;\n",
        "\n",
        "int main(){\n",
        "    for (int i=0; i < 5; i++){\n",
        "        cout << \"Hello World\" << \"\\n\";\n",
        "    }\n",
        "}"
      ],
      "metadata": {
        "id": "lpLwTcGJx8Hi",
        "outputId": "47aa7d43-62c6-4c15-81f9-a3e4a3539204",
        "colab": {
          "base_uri": "https://localhost:8080/"
        }
      },
      "execution_count": 9,
      "outputs": [
        {
          "output_type": "stream",
          "name": "stdout",
          "text": [
            "Overwriting temp.cpp\n"
          ]
        }
      ]
    },
    {
      "cell_type": "code",
      "metadata": {
        "id": "lVK12ZoTxGF3"
      },
      "source": [
        "!g++ temp.cpp; echo 5 4 2 2 1 |./a.out"
      ],
      "execution_count": null,
      "outputs": []
    },
    {
      "cell_type": "code",
      "source": [
        "# 問題 ITP1_3_B: Print Test Cases\n",
        "# テストケースを出力する。 1 行につき、1つの整数 x を読み込み、\n",
        "# それをそのまま出力する。\n",
        "# x が 0 のとき入力の終わりを示し、出力はない。\n",
        "# 例: 3 5 11 =>  \n",
        "# Case 1: 3  \n",
        "# Case 2: 5  \n",
        "# Case 3: 11\n",
        "%%writefile temp.cpp\n",
        "# include <bits/stdc++.h> \n",
        "using namespace std;\n",
        "\n",
        "int main(){\n",
        "    int x;\n",
        "    for (int i=1; ; i++){\n",
        "        cin >> x;\n",
        "        if (x == 0) break;\n",
        "        cout << \"Case \" << i << \": \" << x << \"\\n\";\n",
        "    }\n",
        "}"
      ],
      "metadata": {
        "id": "42x5aLj6NMnw",
        "outputId": "704d07ed-3356-4bf8-9358-47f1ef4ffff4",
        "colab": {
          "base_uri": "https://localhost:8080/"
        }
      },
      "execution_count": 12,
      "outputs": [
        {
          "output_type": "stream",
          "name": "stdout",
          "text": [
            "Overwriting temp.cpp\n"
          ]
        }
      ]
    },
    {
      "cell_type": "code",
      "metadata": {
        "id": "kNvVXmuXxtMQ",
        "colab": {
          "base_uri": "https://localhost:8080/"
        },
        "outputId": "8142023c-d0c7-4ad0-f1e4-b3b9c1c5c3a0"
      },
      "source": [
        "!g++ temp.cpp; echo 3 5 11 7 8 19 0 |./a.out"
      ],
      "execution_count": 13,
      "outputs": [
        {
          "output_type": "stream",
          "name": "stdout",
          "text": [
            "Case 1: 3\n",
            "Case 2: 5\n",
            "Case 3: 11\n",
            "Case 4: 7\n",
            "Case 5: 8\n",
            "Case 6: 19\n"
          ]
        }
      ]
    },
    {
      "cell_type": "code",
      "source": [
        "# 問題 ITP1_3_C: Swapping Two Numbers\n",
        "# 1 行につき、2 つの整数 x, y を読み込み、それらを値が小さい順に出力する。 \n",
        "# x と y がともに 0 のとき入力の終わりで、出力はない。\n",
        "# 例: 3 2 2 2 5 3 0 0 =>  \n",
        "# 2 3  \n",
        "# 2 2  \n",
        "# 3 5  \n",
        "%%writefile temp.cpp\n",
        "# include <bits/stdc++.h> \n",
        "using namespace std;\n",
        "\n",
        "int main(){\n",
        "    int a, b;\n",
        "    while (1){\n",
        "        cin >> a >> b;\n",
        "        if (a == 0 && b == 0) break;\n",
        "        if (a < b){\n",
        "            cout << a << \" \" << b << \"\\n\";\n",
        "        } else {\n",
        "            cout << b << \" \" << a << \"\\n\";\n",
        "        }\n",
        "    }\n",
        "    return 0;\n",
        "}"
      ],
      "metadata": {
        "id": "h0P_lhLix4BL",
        "outputId": "da18e9fa-7cf0-4213-db1f-7bb765bb1f46",
        "colab": {
          "base_uri": "https://localhost:8080/"
        }
      },
      "execution_count": 14,
      "outputs": [
        {
          "output_type": "stream",
          "name": "stdout",
          "text": [
            "Overwriting temp.cpp\n"
          ]
        }
      ]
    },
    {
      "cell_type": "code",
      "metadata": {
        "id": "BNWeFJBJzkCO",
        "colab": {
          "base_uri": "https://localhost:8080/"
        },
        "outputId": "b0729a0b-48cf-41e1-b60f-53c3bef78021"
      },
      "source": [
        "!g++ temp.cpp; echo 3 2 2 2 5 3 0 0 |./a.out"
      ],
      "execution_count": 15,
      "outputs": [
        {
          "output_type": "stream",
          "name": "stdout",
          "text": [
            "2 3\n",
            "2 2\n",
            "3 5\n"
          ]
        }
      ]
    },
    {
      "cell_type": "code",
      "source": [
        "# 問題 ITP1_3_D: How Many Divisors?\n",
        "# 3 つの整数 a、b、c を読み込み、a から b までの整数の中に、c の約数がいくつあるかを求める。\n",
        "# 例: 5 14 80 => 3\n",
        "%%writefile temp.cpp\n",
        "# include <bits/stdc++.h> \n",
        "using namespace std;\n",
        "\n",
        "int main(){\n",
        "    int a, b, c, f = 0;\n",
        "    cin >> a >> b >> c;\n",
        "    for (int x = a; x <= b; x++){\n",
        "        if (c % x == 0) f++;\n",
        "    }\n",
        "    cout << f << \"\\n\";\n",
        "}"
      ],
      "metadata": {
        "id": "g14FT6YDSLcK",
        "outputId": "1a3e8c1c-9d20-4712-daa2-152c08429cb2",
        "colab": {
          "base_uri": "https://localhost:8080/"
        }
      },
      "execution_count": 16,
      "outputs": [
        {
          "output_type": "stream",
          "name": "stdout",
          "text": [
            "Overwriting temp.cpp\n"
          ]
        }
      ]
    },
    {
      "cell_type": "code",
      "metadata": {
        "id": "Os1_6Y0111T1",
        "colab": {
          "base_uri": "https://localhost:8080/"
        },
        "outputId": "010e433d-5fd7-40d9-b9d3-e0cb78554a62"
      },
      "source": [
        "!g++ temp.cpp; echo 5 14 80 |./a.out"
      ],
      "execution_count": 17,
      "outputs": [
        {
          "output_type": "stream",
          "name": "stdout",
          "text": [
            "3\n"
          ]
        }
      ]
    },
    {
      "cell_type": "code",
      "source": [
        "# 問題 ITP1_4_A: A / B Problem\n",
        "# 割り算。2つの整数 a と b を読み込んで、以下の値を計算する。\n",
        "# - a ÷ b : d (整数)\n",
        "# - a ÷ b の余り r (整数)\n",
        "# - a ÷ b : f (浮動小数点数)\n",
        "# 例: 3 2 => 1 1 1.50000\n",
        "%%writefile temp.cpp\n",
        "# include <bits/stdc++.h> \n",
        "using namespace std;\n",
        "\n",
        "int main(){\n",
        "    int a, b;\n",
        "    cin >> a >> b;\n",
        "    cout << a/b << \" \" << a%b << \" \"  << fixed << setprecision(5) << (double)a/b << \"\\n\";\n",
        "}"
      ],
      "metadata": {
        "id": "iG1eyRf9SNQx",
        "outputId": "c972466b-3d09-4a96-b531-64d8b10ba3c8",
        "colab": {
          "base_uri": "https://localhost:8080/"
        }
      },
      "execution_count": 20,
      "outputs": [
        {
          "output_type": "stream",
          "name": "stdout",
          "text": [
            "Overwriting temp.cpp\n"
          ]
        }
      ]
    },
    {
      "cell_type": "code",
      "metadata": {
        "id": "aiWNoNWQ21mS",
        "colab": {
          "base_uri": "https://localhost:8080/"
        },
        "outputId": "fa19d69e-d02f-400d-adb4-0ad2b06a1638"
      },
      "source": [
        "!g++ temp.cpp; echo 3 2 |./a.out"
      ],
      "execution_count": 21,
      "outputs": [
        {
          "output_type": "stream",
          "name": "stdout",
          "text": [
            "1 1 1.50000\n"
          ]
        }
      ]
    },
    {
      "cell_type": "markdown",
      "source": [
        "# いまここ"
      ],
      "metadata": {
        "id": "0bDc_U3KEiSd"
      }
    },
    {
      "cell_type": "markdown",
      "metadata": {
        "id": "Pr9TrQWUSOdw"
      },
      "source": [
        "問題 ITP1_4_B: Circle\n",
        "半径 r の円の面積と円周の長さを求める。\n",
        "\n",
        "例: 3 => 28.274334 18.849556"
      ]
    },
    {
      "cell_type": "code",
      "metadata": {
        "id": "BCuR9r3rKAvd",
        "colab": {
          "base_uri": "https://localhost:8080/"
        },
        "outputId": "2b0beb65-50e6-4d76-d1c6-b7ac484b348c"
      },
      "source": [
        "%%writefile circle01.cpp\n",
        "# include <bits/stdc++.h> \n",
        "#include <iomanip>\n",
        "\n",
        "int main(){\n",
        "    double PI = 3.141592653589;\n",
        "    double r;\n",
        "    cin >> r;\n",
        "    cout << fixed << setprecision(6) << PI*r*r << \" \" << 2*PI*r << \"\\n\";\n",
        "}"
      ],
      "execution_count": null,
      "outputs": [
        {
          "output_type": "stream",
          "text": [
            "Overwriting circle01.cpp\n"
          ],
          "name": "stdout"
        }
      ]
    },
    {
      "cell_type": "code",
      "metadata": {
        "id": "04uTX8rsKAhN",
        "colab": {
          "base_uri": "https://localhost:8080/"
        },
        "outputId": "0da7e97b-2f66-4c4b-f432-b40592919827"
      },
      "source": [
        "!g++ circle01.cpp -o circle01; echo 3 |./a.out"
      ],
      "execution_count": null,
      "outputs": [
        {
          "output_type": "stream",
          "text": [
            "28.274334 18.849556\n"
          ],
          "name": "stdout"
        }
      ]
    },
    {
      "cell_type": "markdown",
      "metadata": {
        "id": "t09FxOa1SSaR"
      },
      "source": [
        "問題 ITP1_4_C: Simple Calculator\n",
        "２つの整数 a, b と１つの演算子 op を読み込んで、a op b を計算する。\n",
        "演算子 op は、\"+\"(和)、\"-\"(差)、\"*\"(積)、\"/\"(商)、のみとし、割り算で割り切れない場合は、小数点以下を切り捨てたものを計算結果とする。\n",
        "op が '?' のとき 入力の終わり。\n",
        "\n",
        "例: 1 + 2 56 - 18 13 * 2 100 / 10 27 + 81 0 ? 0  =>  \n",
        "3  \n",
        "38  \n",
        "26  \n",
        "10  \n",
        "108  "
      ]
    },
    {
      "cell_type": "code",
      "metadata": {
        "id": "5mbtfkNRLvAq",
        "colab": {
          "base_uri": "https://localhost:8080/"
        },
        "outputId": "1b07d45b-2285-438d-e8e6-87b35c8e320d"
      },
      "source": [
        "%%writefile simplecalculator.cpp\n",
        "# include <bits/stdc++.h> \n",
        "int main(){\n",
        "    int a, b;\n",
        "    char op;\n",
        "\n",
        "    while (1){\n",
        "        cin >> a >> op >> b;\n",
        "        if (op == '?') break;\n",
        "        if (op == '+') cout << a + b << \"\\n\";\n",
        "        else if (op == '-') cout << a - b << \"\\n\";\n",
        "        else if (op == '*') cout << a * b << \"\\n\";\n",
        "        else if (op == '/') cout << a / b << \"\\n\";\n",
        "    };\n",
        "    return 0;\n",
        "}"
      ],
      "execution_count": null,
      "outputs": [
        {
          "output_type": "stream",
          "text": [
            "Overwriting simplecalculator.cpp\n"
          ],
          "name": "stdout"
        }
      ]
    },
    {
      "cell_type": "code",
      "metadata": {
        "id": "IG_g5ecpLu2h",
        "colab": {
          "base_uri": "https://localhost:8080/"
        },
        "outputId": "bd45703a-4264-47bc-80be-3eb48fdc2b9e"
      },
      "source": [
        "!g++ simplecalculator.cpp -o simplecalculator; echo 1 + 2 56 - 18 13 \\* 2 100 / 10 27 + 81 0 ? 0 |./a.out"
      ],
      "execution_count": null,
      "outputs": [
        {
          "output_type": "stream",
          "text": [
            "3\n",
            "38\n",
            "26\n",
            "10\n",
            "108\n"
          ],
          "name": "stdout"
        }
      ]
    },
    {
      "cell_type": "markdown",
      "metadata": {
        "id": "xSXjkxUWSTov"
      },
      "source": [
        "問題 ITP1_4_D: Min, Max and Sum\n",
        "n 個の整数 $a_i(i=1,2, \\dots n)$について、最大値、最小値、合計値を求める。 最初の値が個数を示す。\n",
        "\n",
        "例: 5 10 1 5 4 17 => 1 17 37\n"
      ]
    },
    {
      "cell_type": "code",
      "metadata": {
        "id": "KnCqqTPoElUQ",
        "colab": {
          "base_uri": "https://localhost:8080/"
        },
        "outputId": "9697e708-7be0-459a-90dd-3c1ac2a7e69a"
      },
      "source": [
        "%%writefile minmaxsum.cpp\n",
        "# include <bits/stdc++.h> \n",
        "#include <algorithm>\n",
        "\n",
        "int main(){\n",
        "\tint n;\n",
        "    double a;\n",
        "    double minnum =1000000;\n",
        "    double maxnum =-1000000;\n",
        "    double sum=0;\n",
        "\tcin >> n;\n",
        "\tfor(int i = 0; i < n; i++){\n",
        "        cin >> a;\n",
        "\t\tmaxnum = max(maxnum, a);\n",
        "\t\tminnum = min(minnum, a);\n",
        "        sum += a;\n",
        "\t}\n",
        "\tcout << minnum << \" \" << maxnum << \" \" << sum << \"\\n\";\n",
        "    return 0;\n",
        "}"
      ],
      "execution_count": null,
      "outputs": [
        {
          "output_type": "stream",
          "text": [
            "Overwriting minmaxsum.cpp\n"
          ],
          "name": "stdout"
        }
      ]
    },
    {
      "cell_type": "code",
      "metadata": {
        "id": "xs2uvrODElJy",
        "colab": {
          "base_uri": "https://localhost:8080/"
        },
        "outputId": "5c6cc8d0-370a-4942-dab7-fd52315d159e"
      },
      "source": [
        "!g++ minmaxsum.cpp -o minmaxsum; echo 5 10 1 5 4 17 |./a.out"
      ],
      "execution_count": null,
      "outputs": [
        {
          "output_type": "stream",
          "text": [
            "1 17 37\n"
          ],
          "name": "stdout"
        }
      ]
    },
    {
      "cell_type": "markdown",
      "metadata": {
        "id": "R32rAAK3d9o1"
      },
      "source": [
        "### ITP1_5_A: Print a Rectangle\n",
        "縦 $H$ cm 横 W cm の長方形を描く。 '#'で表す。 0, 0 のとき入力の終わり。\n",
        "\n",
        "例: 3 4 5 6 2 2 0 0 =>  \n"
      ]
    },
    {
      "cell_type": "code",
      "metadata": {
        "id": "BEATiwjSQMuf",
        "colab": {
          "base_uri": "https://localhost:8080/",
          "height": 84
        },
        "outputId": "e5004869-d8e1-4ccf-d8ca-c74393ce44b5"
      },
      "source": [
        "%%html \n",
        "<span style=\"font-family: monospace\">####<br>####<br>####<br>...</span>"
      ],
      "execution_count": null,
      "outputs": [
        {
          "output_type": "display_data",
          "data": {
            "text/html": [
              "<span style=\"font-family: monospace\">####<br>####<br>####<br>...</span>"
            ],
            "text/plain": [
              "<IPython.core.display.HTML object>"
            ]
          },
          "metadata": {
            "tags": []
          }
        }
      ]
    },
    {
      "cell_type": "code",
      "metadata": {
        "colab": {
          "base_uri": "https://localhost:8080/"
        },
        "id": "es_4X4P5162v",
        "outputId": "98ce7164-0b43-4e8d-c5d2-24232465cd87"
      },
      "source": [
        "%%writefile printrectangle.cpp\n",
        "# include <bits/stdc++.h> \n",
        "int main(){\n",
        "    int H, W;\n",
        "    while (1){\n",
        "        cin >> H >> W;\n",
        "        if (H==0 && W==0) break;\n",
        "        for (int i=0; i<H; i++){\n",
        "            for (int j=0; j<W; j++){\n",
        "                cout << \"#\";\n",
        "            }\n",
        "            cout << \"\\n\";\n",
        "        }\n",
        "        cout << \"\\n\";\n",
        "    }\n",
        "    return 0;\n",
        "}"
      ],
      "execution_count": null,
      "outputs": [
        {
          "output_type": "stream",
          "text": [
            "Overwriting printrectangle.cpp\n"
          ],
          "name": "stdout"
        }
      ]
    },
    {
      "cell_type": "code",
      "metadata": {
        "colab": {
          "base_uri": "https://localhost:8080/"
        },
        "id": "f1ef0s4U16Vu",
        "outputId": "c396f336-f924-48aa-ffe4-7991192705df"
      },
      "source": [
        "!g++ printrectangle.cpp -o printrectangle; echo 3 4 5 6 2 2 0 0 |./a.out"
      ],
      "execution_count": null,
      "outputs": [
        {
          "output_type": "stream",
          "text": [
            "####\n",
            "####\n",
            "####\n",
            "\n",
            "######\n",
            "######\n",
            "######\n",
            "######\n",
            "######\n",
            "\n",
            "##\n",
            "##\n",
            "\n"
          ],
          "name": "stdout"
        }
      ]
    },
    {
      "cell_type": "markdown",
      "metadata": {
        "id": "MFuMIws1d_UU"
      },
      "source": [
        "### ITP1_5_B: Print a Frame\n",
        "縦 \"H\" cm 横 \"W\" cm の枠を描く。\n",
        "\"H\", \"W\" がともに 0 のとき、入力の終わり。\n",
        "\n",
        "例: 3 4 5 6 3 3 0 0 =>  "
      ]
    },
    {
      "cell_type": "code",
      "metadata": {
        "id": "mTpM4Mq7Q4MT",
        "colab": {
          "base_uri": "https://localhost:8080/",
          "height": 84
        },
        "outputId": "05415672-0319-48f1-d603-b4be42c03232"
      },
      "source": [
        "%%html\n",
        "<span style=\"font-family: monospace\">####<br>#..#<br>####<br>...</span>\n"
      ],
      "execution_count": null,
      "outputs": [
        {
          "output_type": "display_data",
          "data": {
            "text/html": [
              "<span style=\"font-family: monospace\">####<br>#..#<br>####<br>...</span>"
            ],
            "text/plain": [
              "<IPython.core.display.HTML object>"
            ]
          },
          "metadata": {
            "tags": []
          }
        }
      ]
    },
    {
      "cell_type": "code",
      "metadata": {
        "id": "k4ZJCIuGR2SJ",
        "colab": {
          "base_uri": "https://localhost:8080/"
        },
        "outputId": "c54f4d3a-9bf4-4c07-b84a-0bca924a2130"
      },
      "source": [
        "%%writefile printframe.cpp\n",
        "# include <bits/stdc++.h> \n",
        "int main(){\n",
        "    int H, W;\n",
        "    while (1){\n",
        "        cin >> H >> W;\n",
        "        if (H==0 && W==0) break;\n",
        "        for (int i=0; i<H; i++){\n",
        "            for (int j=0; j<W; j++){\n",
        "                if (i==0 || i==H-1 || j==0 || j==W-1){\n",
        "                    cout << \"#\";\n",
        "                } else {\n",
        "                    cout << \".\";\n",
        "                }\n",
        "            }\n",
        "            cout << \"\\n\";\n",
        "        }\n",
        "        cout << \"\\n\";\n",
        "    }\n",
        "    return 0;\n",
        "}"
      ],
      "execution_count": null,
      "outputs": [
        {
          "output_type": "stream",
          "text": [
            "Overwriting printframe.cpp\n"
          ],
          "name": "stdout"
        }
      ]
    },
    {
      "cell_type": "code",
      "metadata": {
        "id": "5zFzjE0lR2dZ",
        "colab": {
          "base_uri": "https://localhost:8080/"
        },
        "outputId": "bd94837c-4af7-4d8f-d776-c319c3497e9e"
      },
      "source": [
        "!g++ printframe.cpp -o printframe; echo 3 4 5 6 3 3 0 0 |./a.out"
      ],
      "execution_count": null,
      "outputs": [
        {
          "output_type": "stream",
          "text": [
            "####\n",
            "#..#\n",
            "####\n",
            "\n",
            "######\n",
            "#....#\n",
            "#....#\n",
            "#....#\n",
            "######\n",
            "\n",
            "###\n",
            "#.#\n",
            "###\n",
            "\n"
          ],
          "name": "stdout"
        }
      ]
    },
    {
      "cell_type": "markdown",
      "metadata": {
        "id": "9N4Fbcu3eApD"
      },
      "source": [
        "問題 ITP1_5_C: Print a Chessboard\n",
        "チェスボードの描画。\n",
        "縦 $H$ cm 横 W cm のチェック柄の長方形を描く。 左上が \"#\"。$H$、W がともに 0 のとき、入力の終わり。\n",
        "\n",
        "例: 3 4 5 6 3 3 2 2 1 1 0 0 =>"
      ]
    },
    {
      "cell_type": "code",
      "metadata": {
        "colab": {
          "base_uri": "https://localhost:8080/",
          "height": 84
        },
        "id": "oH0yhyRgrchL",
        "outputId": "cc6bfb1a-87a8-450f-eb66-1212243f3b93"
      },
      "source": [
        "%%html\n",
        "<span style=\"font-family: monospace\">#.#.<br>.#.#<br>#.#.<br>.#.#</span>"
      ],
      "execution_count": null,
      "outputs": [
        {
          "output_type": "display_data",
          "data": {
            "text/html": [
              "<span style=\"font-family: monospace\">#.#.<br>.#.#<br>#.#.<br>.#.#</span>"
            ],
            "text/plain": [
              "<IPython.core.display.HTML object>"
            ]
          },
          "metadata": {
            "tags": []
          }
        }
      ]
    },
    {
      "cell_type": "code",
      "metadata": {
        "colab": {
          "base_uri": "https://localhost:8080/"
        },
        "id": "Qwafwo9Hrbit",
        "outputId": "2c2976b3-0cfa-47c0-da67-2171dcc56a31"
      },
      "source": [
        "%%writefile chessboard.cpp\n",
        "\n",
        "# include <bits/stdc++.h> \n",
        "int main(){\n",
        "    int H, W;\n",
        "    while (1){\n",
        "        cin >> H >> W;\n",
        "        if (H==0 && W==0) break;\n",
        "        for (int i=0; i<H; i++){\n",
        "            for (int j=0; j<W; j++){\n",
        "                if ((i +j) % 2 == 0){\n",
        "                    cout << \"#\";\n",
        "                } else {\n",
        "                    cout << \".\";\n",
        "                }\n",
        "            }\n",
        "            cout << \"\\n\";\n",
        "        }\n",
        "        cout << \"\\n\";\n",
        "    }\n",
        "    return 0;\n",
        "}"
      ],
      "execution_count": null,
      "outputs": [
        {
          "output_type": "stream",
          "text": [
            "Writing chessboard.cpp\n"
          ],
          "name": "stdout"
        }
      ]
    },
    {
      "cell_type": "code",
      "metadata": {
        "colab": {
          "base_uri": "https://localhost:8080/"
        },
        "id": "5dlqwsClrbZG",
        "outputId": "26eae636-b618-4eae-8e29-76bf2f91f799"
      },
      "source": [
        "!g++ chessboard.cpp -o chessboard; echo 3 4 5 6 3 3 2 2 1 1 0 0 |./a.out"
      ],
      "execution_count": null,
      "outputs": [
        {
          "output_type": "stream",
          "text": [
            "#.#.\n",
            ".#.#\n",
            "#.#.\n",
            "\n",
            "#.#.#.\n",
            ".#.#.#\n",
            "#.#.#.\n",
            ".#.#.#\n",
            "#.#.#.\n",
            "\n",
            "#.#\n",
            ".#.\n",
            "#.#\n",
            "\n",
            "#.\n",
            ".#\n",
            "\n",
            "#\n",
            "\n"
          ],
          "name": "stdout"
        }
      ]
    },
    {
      "cell_type": "markdown",
      "metadata": {
        "id": "5FNV97PxeD1T"
      },
      "source": [
        "問題 ITP1_5_D: Structured Programming\n",
        "整数 n 以下の3の倍数または3のつく数を出力する。先頭は空白。\n",
        "\n",
        "例: 3 => 3 6 9 12 13 15 18 21 23 24 27 30\n"
      ]
    },
    {
      "cell_type": "code",
      "metadata": {
        "colab": {
          "base_uri": "https://localhost:8080/"
        },
        "id": "zXtAgN9vt473",
        "outputId": "9dbe8600-96f6-49a6-db1f-e9139143e941"
      },
      "source": [
        "%%writefile structuredprogramming.cpp\n",
        "# include <bits/stdc++.h> \n",
        "\n",
        "bool has3(int x){\n",
        "    while (x){\n",
        "        if (x % 10 == 3) return true;\n",
        "        x /= 10;\n",
        "    }\n",
        "    return false;\n",
        "}\n",
        "\n",
        "void call(int n){\n",
        "    for (int x = 1; x <= n; x++){\n",
        "        if (x % 3 == 0 || has3(x)){\n",
        "            cout << \" \" << x;\n",
        "        }\n",
        "    }\n",
        "}\n",
        "\n",
        "int main(){\n",
        "    int n;\n",
        "    cin >> n;\n",
        "    call (n);\n",
        "    return 0;\n",
        "}"
      ],
      "execution_count": null,
      "outputs": [
        {
          "output_type": "stream",
          "text": [
            "Overwriting structuredprogramming.cpp\n"
          ],
          "name": "stdout"
        }
      ]
    },
    {
      "cell_type": "code",
      "metadata": {
        "colab": {
          "base_uri": "https://localhost:8080/"
        },
        "id": "iE__M4nct5QH",
        "outputId": "6f4f18ef-02ec-4f66-b606-b28a33d677a2"
      },
      "source": [
        "!g++ structuredprogramming.cpp -o structuredprogramming; echo 30 |./a.out"
      ],
      "execution_count": null,
      "outputs": [
        {
          "output_type": "stream",
          "text": [
            " 3 6 9 12 13 15 18 21 23 24 27 30"
          ],
          "name": "stdout"
        }
      ]
    },
    {
      "cell_type": "markdown",
      "metadata": {
        "id": "9L0wG7bihNoT"
      },
      "source": [
        "問題 ITP1_6_A: Reversing Numbers\n",
        "与えられた数列を逆順に出力する。\n",
        "\n",
        "例: 5 1 2 3 4 5 => 5 4 3 2 1\n"
      ]
    },
    {
      "cell_type": "code",
      "metadata": {
        "colab": {
          "base_uri": "https://localhost:8080/"
        },
        "id": "8hywPkf51ARj",
        "outputId": "4b28434d-d687-471a-e037-df32369be885"
      },
      "source": [
        "%%writefile reversenumber.cpp\n",
        "# include <bits/stdc++.h> \n",
        "int main(){\n",
        "    int n, A[100];\n",
        "    cin >> n;\n",
        "    for (int i = 0; i < n; i++) cin >> A[i];\n",
        "    for (int i = n-1; i >=0; i--){\n",
        "        if (i != n-1) cout << \" \";\n",
        "        cout << A[i];\n",
        "    }\n",
        "    cout << \"\\n\";\n",
        "    return 0;\n",
        "}\n"
      ],
      "execution_count": null,
      "outputs": [
        {
          "output_type": "stream",
          "text": [
            "Writing reversenumber.cpp\n"
          ],
          "name": "stdout"
        }
      ]
    },
    {
      "cell_type": "code",
      "metadata": {
        "colab": {
          "base_uri": "https://localhost:8080/"
        },
        "id": "Fd66mBQg1AGv",
        "outputId": "0b8a2b7f-19e2-4405-89ca-526647303258"
      },
      "source": [
        "!g++ reversenumber.cpp -o reversenumber; echo 5 1 2 3 4 5 |./a.out"
      ],
      "execution_count": null,
      "outputs": [
        {
          "output_type": "stream",
          "text": [
            "5 4 3 2 1\n"
          ],
          "name": "stdout"
        }
      ]
    },
    {
      "cell_type": "markdown",
      "metadata": {
        "id": "qk8oT8IkeF-a"
      },
      "source": [
        "問題 ITP1_6_B: Finding Missing Cards\n",
        "不足しているカードの発見。 52枚あるはずのカードが n 枚のカードしかない。 n と手元のカードを入力として足りないカードを出力する。\n",
        "\n",
        "例: 47 S 10 S 11 S 12 S 13 H 1 H 2 S 6 S 7 S 8 S 9 H 6 H 8 H 9 H 10 H 11 H 4 H 5 S 2 S 3 S 4 S 5 H 12 H 13 C 1 C 2 D 1 D 2 D 3 D 4 D 5 D 6 D 7 C 3 C 4 C 5 C 6 C 7 C 8 C 9 C 10 C 11 C 13 D 9 D 10 D 11 D 12 D 13 => \n",
        "S 1 \n",
        "H 3  \n",
        "H 7  \n",
        "C 12  \n",
        "D 8  \n"
      ]
    },
    {
      "cell_type": "code",
      "metadata": {
        "id": "udBhK5izB4D_",
        "colab": {
          "base_uri": "https://localhost:8080/"
        },
        "outputId": "f3ff1322-3e6f-427d-a9a1-8c26d203912e"
      },
      "source": [
        "%%writefile findmissingcard.cpp\n",
        "# include <bits/stdc++.h> \n",
        "\n",
        "int main(){\n",
        "    bool cards[4][14];\n",
        "    int n, rank;\n",
        "    char suit;\n",
        "\n",
        "    for (int s = 0; s < 4; s++)\n",
        "        for (int r = 0; r < 14; r++) \n",
        "            cards[s][r] = 0;\n",
        "\n",
        "    cin >> n;\n",
        "\n",
        "    for (int i = 0; i < n; i++){\n",
        "        cin >> suit >> rank;\n",
        "        if (suit == 'S') cards[0][rank] = 1;\n",
        "        if (suit == 'H') cards[1][rank] = 1;\n",
        "        if (suit == 'C') cards[2][rank] = 1;\n",
        "        if (suit == 'D') cards[3][rank] = 1;\n",
        "    }\n",
        "\n",
        "    for (int s = 0; s < 4; s++){\n",
        "        for (int r = 1; r < 14; r++){\n",
        "            if (!(cards[s][r])){\n",
        "            if (s == 0) suit = 'S';\n",
        "            if (s == 1) suit = 'H';\n",
        "            if (s == 2) suit = 'C';\n",
        "            if (s == 3) suit = 'D';\n",
        "            cout << suit << \" \" << r << \"\\n\";}\n",
        "        }\n",
        "    }\n",
        "    return 0;\n",
        "}\n"
      ],
      "execution_count": null,
      "outputs": [
        {
          "output_type": "stream",
          "text": [
            "Writing findmissingcard.cpp\n"
          ],
          "name": "stdout"
        }
      ]
    },
    {
      "cell_type": "code",
      "metadata": {
        "id": "bQSM83J-B32x",
        "colab": {
          "base_uri": "https://localhost:8080/"
        },
        "outputId": "98be8c47-712b-45ca-8299-e608c541d2b2"
      },
      "source": [
        "!g++ findmissingcard.cpp -o findmissingcard; echo  47 S 10 S 11 S 12 S 13 H 1 H 2 S 6 S 7 S 8 S 9 H 6 H 8 H 9 H 10 H 11 H 4 H 5 S 2 S 3 S 4 S 5 H 12 H 13 C 1 C 2 D 1 D 2 D 3 D 4 D 5 D 6 D 7 C 3 C 4 C 5 C 6 C 7 C 8 C 9 C 10 C 11 C 13 D 9 D 10 D 11 D 12 D 13 |./a.out"
      ],
      "execution_count": null,
      "outputs": [
        {
          "output_type": "stream",
          "text": [
            "S 1\n",
            "H 3\n",
            "H 7\n",
            "C 12\n",
            "D 8\n"
          ],
          "name": "stdout"
        }
      ]
    },
    {
      "cell_type": "markdown",
      "metadata": {
        "id": "gl6V6UdpeHlS"
      },
      "source": [
        "### ITP1_6_C: Official House\n",
        "1フロア10部屋、3階建ての公舎4棟の入居・退去の情報を読み込み、各部屋の入居者数を出力する。\n",
        "\n",
        "n件の情報で、それぞれ b, f, r, vが与えられ、b棟f階のr番目の部屋にv人が追加で入居したことを示す。\n",
        "\n",
        "例:  3 1 1 3 8 3 2 2 7 4 3 8 1 =>\n"
      ]
    },
    {
      "cell_type": "code",
      "metadata": {
        "colab": {
          "base_uri": "https://localhost:8080/",
          "height": 269
        },
        "id": "JWOYdTDcgUl4",
        "outputId": "999b0187-b6a8-4c82-9d7a-7a7916b27684"
      },
      "source": [
        "%%html\n",
        "<span style=\"font-family: monospace\">\n",
        " 0 0 8 0 0 0 0 0 0 0<br>\n",
        " 0 0 0 0 0 0 0 0 0 0<br>\n",
        " 0 0 0 0 0 0 0 0 0 0<br>\n",
        "####################<br>\n",
        " 0 0 0 0 0 0 0 0 0 0<br>\n",
        " 0 0 0 0 0 0 0 0 0 0<br>\n",
        " 0 0 0 0 0 0 0 0 0 0<br>\n",
        "####################<br>\n",
        " 0 0 0 0 0 0 0 0 0 0<br>\n",
        " 0 7 0 0 0 0 0 0 0 0<br>\n",
        " 0 0 0 0 0 0 0 0 0 0<br>\n",
        "####################<br>\n",
        " 0 0 0 0 0 0 0 0 0 0<br>\n",
        " 0 0 0 0 0 0 0 0 0 0<br>\n",
        " 0 0 0 0 0 0 0 1 0 0</span>"
      ],
      "execution_count": null,
      "outputs": [
        {
          "output_type": "display_data",
          "data": {
            "text/html": [
              "<span style=\"font-family: monospace\">\n",
              " 0 0 8 0 0 0 0 0 0 0<br>\n",
              " 0 0 0 0 0 0 0 0 0 0<br>\n",
              " 0 0 0 0 0 0 0 0 0 0<br>\n",
              "####################<br>\n",
              " 0 0 0 0 0 0 0 0 0 0<br>\n",
              " 0 0 0 0 0 0 0 0 0 0<br>\n",
              " 0 0 0 0 0 0 0 0 0 0<br>\n",
              "####################<br>\n",
              " 0 0 0 0 0 0 0 0 0 0<br>\n",
              " 0 7 0 0 0 0 0 0 0 0<br>\n",
              " 0 0 0 0 0 0 0 0 0 0<br>\n",
              "####################<br>\n",
              " 0 0 0 0 0 0 0 0 0 0<br>\n",
              " 0 0 0 0 0 0 0 0 0 0<br>\n",
              " 0 0 0 0 0 0 0 1 0 0</span>"
            ],
            "text/plain": [
              "<IPython.core.display.HTML object>"
            ]
          },
          "metadata": {
            "tags": []
          }
        }
      ]
    },
    {
      "cell_type": "code",
      "metadata": {
        "colab": {
          "base_uri": "https://localhost:8080/"
        },
        "id": "9KC4AhNVkjhh",
        "outputId": "8b59ba24-ee5f-4ae8-9e37-79f9e5d66e36"
      },
      "source": [
        "%%writefile officialhouse.cpp\n",
        "# include <bits/stdc++.h> \n",
        "int main(){\n",
        "    int A[5][4][11], n;\n",
        "    for (int i=1; i<=4; i++)\n",
        "        for (int j=1; j<=3; j++)\n",
        "            for (int k=1; k<=10; k++) A[i][j][k] = 0;\n",
        "    cin >> n;\n",
        "    for (int i=0; i<n; i++){\n",
        "        int b,f,r,v;\n",
        "        cin >> b >> f >> r >> v;\n",
        "        A[b][f][r] += v;\n",
        "    }\n",
        "    for (int f=1; f<=4; f++){\n",
        "        if (f > 1) cout << \"####################\\n\";\n",
        "        for (int b=1; b <=3; b++){\n",
        "            for (int r=1; r<=10; r++){\n",
        "                 cout << \" \" << A[f][b][r];\n",
        "            }\n",
        "            cout << \"\\n\";\n",
        "        }\n",
        "    }\n",
        "    return 0;\n",
        "}"
      ],
      "execution_count": null,
      "outputs": [
        {
          "output_type": "stream",
          "text": [
            "Overwriting officialhouse.cpp\n"
          ],
          "name": "stdout"
        }
      ]
    },
    {
      "cell_type": "code",
      "metadata": {
        "colab": {
          "base_uri": "https://localhost:8080/"
        },
        "id": "9ZLB-DYzkjX6",
        "outputId": "2f1455ef-c14c-4344-e182-d191ca31f742"
      },
      "source": [
        "!g++ officialhouse.cpp -o officialhouse; echo 3 1 1 3 8 3 2 2 7 4 3 8 1 |./a.out"
      ],
      "execution_count": null,
      "outputs": [
        {
          "output_type": "stream",
          "text": [
            " 0 0 8 0 0 0 0 0 0 0\n",
            " 0 0 0 0 0 0 0 0 0 0\n",
            " 0 0 0 0 0 0 0 0 0 0\n",
            "####################\n",
            " 0 0 0 0 0 0 0 0 0 0\n",
            " 0 0 0 0 0 0 0 0 0 0\n",
            " 0 0 0 0 0 0 0 0 0 0\n",
            "####################\n",
            " 0 0 0 0 0 0 0 0 0 0\n",
            " 0 7 0 0 0 0 0 0 0 0\n",
            " 0 0 0 0 0 0 0 0 0 0\n",
            "####################\n",
            " 0 0 0 0 0 0 0 0 0 0\n",
            " 0 0 0 0 0 0 0 0 0 0\n",
            " 0 0 0 0 0 0 0 1 0 0\n"
          ],
          "name": "stdout"
        }
      ]
    },
    {
      "cell_type": "markdown",
      "metadata": {
        "id": "MoY5kTtheI2a"
      },
      "source": [
        "問題 ITP1_6_D: Matrix Vector Multiplication\n",
        "$n \\times m$ の行列 a と、$m \\times 1$ の列ベクトル b を読み込み、a と b の積を出力する。\n",
        "\n",
        "例: 3 4 1 2 0 1 0 3 0 1 4 1 1 0 1 2 3 0 =>   \n",
        "5  \n",
        "6  \n",
        "9  \n"
      ]
    },
    {
      "cell_type": "code",
      "metadata": {
        "id": "BRZMtp2d39jV",
        "colab": {
          "base_uri": "https://localhost:8080/"
        },
        "outputId": "bf702dc8-ab41-458a-f583-1a3e8db0185e"
      },
      "source": [
        "%%writefile matrixvectormultiplication.cpp\n",
        "# include <bits/stdc++.h> \n",
        "\n",
        "int main(){\n",
        "    int n, m, A[100][100], b[100], c[100];\n",
        "    cin >> n >> m;\n",
        "    for (int i=0; i<n; i++)\n",
        "        for (int j=0; j<m; j++) cin >> A[i][j];\n",
        "    for (int i=0; i<m; i++) cin >> b[i];\n",
        "\n",
        "    for (int i=0; i<n; i++){\n",
        "        c[i] = 0;\n",
        "        for (int j=0; j<m; j++){\n",
        "            c[i] += A[i][j]*b[j];\n",
        "        }\n",
        "    }\n",
        "    \n",
        "    for (int i=0; i<n; i++) cout << c[i] << \"\\n\";\n",
        "    return 0;\n",
        "}"
      ],
      "execution_count": null,
      "outputs": [
        {
          "output_type": "stream",
          "text": [
            "Overwriting matrixvectormultiplication.cpp\n"
          ],
          "name": "stdout"
        }
      ]
    },
    {
      "cell_type": "code",
      "metadata": {
        "id": "Zfr-O0KG3-Bb",
        "colab": {
          "base_uri": "https://localhost:8080/"
        },
        "outputId": "e7972665-0643-4732-d0aa-919b0a94be5b"
      },
      "source": [
        "!g++ matrixvectormultiplication.cpp -o matrixvectormultiplication; echo 3 4 1 2 0 1 0 3 0 1 4 1 1 0 1 2 3 0 |./a.out"
      ],
      "execution_count": null,
      "outputs": [
        {
          "output_type": "stream",
          "text": [
            "5\n",
            "6\n",
            "9\n"
          ],
          "name": "stdout"
        }
      ]
    },
    {
      "cell_type": "markdown",
      "metadata": {
        "id": "GPZkGO9veKYa"
      },
      "source": [
        "問題 ITP1_7_A: Grading\n",
        "成績評価をする。 \n",
        "テストの点数は m、f、r で、$(m, f ≤ 50）$、$（r ≤ 100）$。\n",
        "\n",
        "試験を受けていない場合の点数は -1。  \n",
        "\n",
        "m、f、のいずれかを欠席した場合成績は F。  \n",
        "m、f、の合計点数が 80 以上ならば成績は A 。  \n",
        "m、f、の合計点数が 65 以上 80 未満ならば成績は B。  \n",
        "m、f、の合計点数が 50 以上 65 未満ならば成績は C。  \n",
        "m、f、の合計点数が 30 以上 50 未満ならば成績は D。 ただし、r の点数が 50 以上ならば成績は C。  \n",
        "rの合計点数が 30 未満ならば成績は F。  \n",
        "\n",
        "例: 40 42 -1 20 30 -1 0 2 -1 -1 -1 -1 =>  \n",
        "A  \n",
        "C  \n",
        "F  \n"
      ]
    },
    {
      "cell_type": "code",
      "metadata": {
        "id": "bsl-1ynNxq1Y",
        "colab": {
          "base_uri": "https://localhost:8080/"
        },
        "outputId": "63f97886-efe5-40c1-a5b4-2fff94aed7b9"
      },
      "source": [
        "%%writefile grading.cpp\n",
        "# include <bits/stdc++.h> \n",
        "\n",
        "int getGrade(int m, int f, int r) {\n",
        "    int sum = m + f;\n",
        "    char grade;\n",
        "    if (m == -1 || f == -1) {\n",
        "        grade = 'F';\n",
        "    } else if (80 <= sum) {\n",
        "        grade = 'A';\n",
        "    } else if (65 <= sum && sum < 80) {\n",
        "        grade = 'B';\n",
        "    } else if (50 <= sum && sum < 65) {\n",
        "        grade = 'C';\n",
        "    } else if (30 <= sum && sum < 50) {\n",
        "        if (50 <= r)\n",
        "            grade = 'C';\n",
        "        else\n",
        "            grade = 'D';\n",
        "    } else if (sum < 30) {\n",
        "        grade = 'F';\n",
        "    }\n",
        "    return grade;\n",
        "}\n",
        "\n",
        "int main() {\n",
        "    int m, f, r;\n",
        "    while (1) {\n",
        "        cin >> m >> f >> r;\n",
        "        if (m == -1 && f == -1 && r == -1) break;\n",
        "        cout << (char)getGrade(m, f, r) << \"\\n\";\n",
        "    }\n",
        "    return 0;\n",
        "}"
      ],
      "execution_count": null,
      "outputs": [
        {
          "output_type": "stream",
          "text": [
            "Overwriting grading.cpp\n"
          ],
          "name": "stdout"
        }
      ]
    },
    {
      "cell_type": "code",
      "metadata": {
        "id": "uxEpwakkXVJ3",
        "colab": {
          "base_uri": "https://localhost:8080/"
        },
        "outputId": "7a255ac9-5293-483f-dd19-b94d62ab5859"
      },
      "source": [
        "!g++ grading.cpp -o grading; echo 40 42 -1 20 30 -1 0 2 -1 -1 -1 -1 |./a.out"
      ],
      "execution_count": null,
      "outputs": [
        {
          "output_type": "stream",
          "text": [
            "A\n",
            "C\n",
            "F\n"
          ],
          "name": "stdout"
        }
      ]
    },
    {
      "cell_type": "markdown",
      "metadata": {
        "id": "33s4FHAneLdi"
      },
      "source": [
        "問題 ITP1_7_B: How many ways?\n",
        "1 から n までの数の中から、重複無しで３つの数を選びそれらの合計が x となる組み合わせの数を求める。\n",
        "\n",
        "例えば、1 から 5 までの数から３つを選んでそれらの合計が 9 となる組み合わせは、\n",
        "\n",
        "* 1 + 3 + 5 = 9\n",
        "* 2 + 3 + 4 = 9\n",
        "\n",
        "の２通り。\n",
        "\n",
        "例: 5 9 0 0 => 2\n"
      ]
    },
    {
      "cell_type": "code",
      "metadata": {
        "id": "a6_VEdWNv5R_",
        "colab": {
          "base_uri": "https://localhost:8080/"
        },
        "outputId": "2ef592ff-fc29-4346-df98-ab6e0204f43f"
      },
      "source": [
        "%%writefile howmanyway.cpp\n",
        "# include <bits/stdc++.h> \n",
        "\n",
        "int count(int n, int x) {\n",
        "    int cnt = 0;\n",
        "    for (int i = 1; i <= n - 2; i++) {\n",
        "        for (int j = i + 1; j <= n - 1; j++) {\n",
        "            for (int k = j + 1; k <= n; k++) {\n",
        "                if (i + j + k == x) cnt++;\n",
        "            }\n",
        "        }\n",
        "    }\n",
        "    return cnt;\n",
        "}\n",
        "\n",
        "int main() {\n",
        "    int n, x;\n",
        "    while (1) {\n",
        "        cin >> n >> x;\n",
        "        if (n == 0 && x == 0) break;\n",
        "        cout << count(n, x) << \"\\n\";\n",
        "    }\n",
        "    return 0;\n",
        "}"
      ],
      "execution_count": null,
      "outputs": [
        {
          "output_type": "stream",
          "text": [
            "Writing howmanyway.cpp\n"
          ],
          "name": "stdout"
        }
      ]
    },
    {
      "cell_type": "code",
      "metadata": {
        "id": "uTG1hHh5ZFne",
        "colab": {
          "base_uri": "https://localhost:8080/"
        },
        "outputId": "530b66c8-be11-40c8-ec83-5b350bb43732"
      },
      "source": [
        "!g++ howmanyway.cpp -o howmanyway; echo 5 9 0 0 |./a.out"
      ],
      "execution_count": null,
      "outputs": [
        {
          "output_type": "stream",
          "text": [
            "2\n"
          ],
          "name": "stdout"
        }
      ]
    },
    {
      "cell_type": "markdown",
      "metadata": {
        "id": "el6wucfdeMlK"
      },
      "source": [
        "問題 ITP1_7_C: Spreadsheet\n",
        "行数 r と列数 c、$r \\times c$ の要素を持つ表を読み込んで、各行と列の合計を挿入した  $(r+1) \\times (c+1)$ の新しい表を出力する。\n",
        "\n",
        "例: 4 5 1 1 3 4 5 2 2 2 4 5 3 3 0 1 1 2 3 4 4 6 =>  \n",
        "1 1 3 4 5 14  \n",
        "2 2 2 4 5 15  \n",
        "3 3 0 1 1 8  \n",
        "2 3 4 4 6 19  \n",
        "8 9 9 13 17 56  \n"
      ]
    },
    {
      "cell_type": "code",
      "metadata": {
        "id": "K2YWIaeZFAzf",
        "colab": {
          "base_uri": "https://localhost:8080/"
        },
        "outputId": "216329be-9f1f-4309-e5a4-44ac9911079e"
      },
      "source": [
        "%%writefile spreadsheet.cpp\n",
        "# include <bits/stdc++.h> \n",
        "\n",
        "int main() {\n",
        "    int T[101][101], r, c;\n",
        "    cin >> r >> c;\n",
        "    for (int i = 0; i < r; i++)\n",
        "        for (int j = 0; j < c; j++) cin >> T[i][j];\n",
        "    for (int i = 0; i < r; i++) T[i][c] = 0;\n",
        "    for (int j = 0; j < c; j++) T[r][j] = 0;\n",
        "\n",
        "    for (int i = 0; i < r; i++) {\n",
        "        for (int j = 0; j < c; j++) {\n",
        "            T[i][c] += T[i][j];\n",
        "            T[r][j] += T[i][j];\n",
        "            T[r][c] += T[i][j];\n",
        "        }\n",
        "    }\n",
        "\n",
        "    for (int i = 0; i <= r; i++) {\n",
        "        for (int j = 0; j <= c; j++) {\n",
        "            if (j) cout << \" \";\n",
        "            cout << T[i][j];\n",
        "        }\n",
        "        cout << \"\\n\";\n",
        "    }\n",
        "\n",
        "    return 0;\n",
        "}"
      ],
      "execution_count": null,
      "outputs": [
        {
          "output_type": "stream",
          "text": [
            "Overwriting spreadsheet.cpp\n"
          ],
          "name": "stdout"
        }
      ]
    },
    {
      "cell_type": "code",
      "metadata": {
        "id": "-lAYLgjXZQZK",
        "colab": {
          "base_uri": "https://localhost:8080/"
        },
        "outputId": "f555a113-0736-4c29-a7c3-0bb89c210b04"
      },
      "source": [
        "!g++ spreadsheet.cpp -o spreadsheet; echo 4 5 1 1 3 4 5 2 2 2 4 5 3 3 0 1 1 2 3 4 4 6 |./a.out"
      ],
      "execution_count": null,
      "outputs": [
        {
          "output_type": "stream",
          "text": [
            "1 1 3 4 5 14\n",
            "2 2 2 4 5 15\n",
            "3 3 0 1 1 8\n",
            "2 3 4 4 6 19\n",
            "8 9 9 13 17 56\n"
          ],
          "name": "stdout"
        }
      ]
    },
    {
      "cell_type": "markdown",
      "metadata": {
        "id": "D3nNxCEneNZB"
      },
      "source": [
        "問題 ITP1_7_D: Matrix Multiplication\n",
        "$n \\times m$ の行列 a と $m \\times l$ の行列 b を入力し、それらの積である $n \\times l$ の行列 c を出力する。\n",
        "$$\n",
        "C_{ij} = \\sum_{k=1}^m a_{ik}b_{kj}\n",
        "$$\n",
        "最初の行で、n、m、l が空白区切りで与えられる。\n",
        "\n",
        "例: 3 2 3 1 2 0 3 4 5 1 2 1 0 3 2 =>  \n",
        "1 8 5  \n",
        "0 9 6  \n",
        "4 23 14  \n"
      ]
    },
    {
      "cell_type": "code",
      "metadata": {
        "id": "N3pCUcBnph7Z",
        "colab": {
          "base_uri": "https://localhost:8080/",
          "height": 67
        },
        "outputId": "894643f5-96a5-45e3-e701-2d60a1ecd5e5"
      },
      "source": [
        "# 参考\n",
        "%%latex\n",
        "\\displaystyle\n",
        "\n",
        "C_{ij} = \\sum_{k=1}^m a_{ik}b_{kj}\n"
      ],
      "execution_count": null,
      "outputs": [
        {
          "output_type": "display_data",
          "data": {
            "text/latex": "\\displaystyle\n\nC_{ij} = \\sum_{k=1}^m a_{ik}b_{kj}",
            "text/plain": [
              "<IPython.core.display.Latex object>"
            ]
          },
          "metadata": {
            "tags": []
          }
        }
      ]
    },
    {
      "cell_type": "code",
      "metadata": {
        "id": "uvgLLFCAPD0B",
        "colab": {
          "base_uri": "https://localhost:8080/"
        },
        "outputId": "00bb3887-c4e9-4d15-deaf-05c3fc437013"
      },
      "source": [
        "%%writefile matrixmultiplication.cpp\n",
        "# include <bits/stdc++.h> \n",
        "\n",
        "int main() {\n",
        "    int n, m, l;\n",
        "    long long A[100][100], B[100][100], C[100][100];\n",
        "\n",
        "    cin >> n >> m >> l;\n",
        "    for (int i = 0; i < n; i++)\n",
        "        for (int j = 0; j < m; j++) cin >> A[i][j];\n",
        "    for (int i = 0; i < m; i++)\n",
        "        for (int j = 0; j < l; j++) cin >> B[i][j];\n",
        "\n",
        "    for (int i = 0; i < n; i++) {\n",
        "        for (int j = 0; j < l; j++) {\n",
        "            C[i][j] = 0;\n",
        "            for (int k = 0; k < m; k++) {\n",
        "                C[i][j] += A[i][k] * B[k][j];\n",
        "            }\n",
        "        }\n",
        "    }\n",
        "\n",
        "    for (int i = 0; i < n; i++) {\n",
        "        for (int j = 0; j < l; j++) {\n",
        "            if (j) cout << \" \";\n",
        "            cout << C[i][j];\n",
        "        }\n",
        "        cout << \"\\n\";\n",
        "    }\n",
        "\n",
        "    return 0;\n",
        "}"
      ],
      "execution_count": null,
      "outputs": [
        {
          "output_type": "stream",
          "text": [
            "Overwriting matrixmultiplication.cpp\n"
          ],
          "name": "stdout"
        }
      ]
    },
    {
      "cell_type": "code",
      "metadata": {
        "id": "Q7oQaqCub0R9",
        "colab": {
          "base_uri": "https://localhost:8080/"
        },
        "outputId": "56491bc6-0413-49dd-dd9f-36e1f734aaae"
      },
      "source": [
        "!g++ matrixmultiplication.cpp -o matrixmultiplication; echo 3 2 3 1 2 0 3 4 5 1 2 1 0 3 2 |./a.out"
      ],
      "execution_count": null,
      "outputs": [
        {
          "output_type": "stream",
          "text": [
            "1 8 5\n",
            "0 9 6\n",
            "4 23 14\n"
          ],
          "name": "stdout"
        }
      ]
    },
    {
      "cell_type": "markdown",
      "metadata": {
        "id": "75e9hXNreOHp"
      },
      "source": [
        "問題 ITP1_8_A: Toggling Cases\n",
        "文字列の小文字と大文字を入れ替える。\n",
        "\n",
        "例: fAIR, LATER, OCCASIONALLY CLOUDY. => Fair, later, occasionally cloudy.\n"
      ]
    },
    {
      "cell_type": "code",
      "metadata": {
        "id": "5IsunIB5RqtH",
        "colab": {
          "base_uri": "https://localhost:8080/"
        },
        "outputId": "e79bcce9-b7d8-4427-e9be-f91f63706ea8"
      },
      "source": [
        "%%writefile togglecase.cpp\n",
        "# include <bits/stdc++.h> \n",
        "\n",
        "int main() {\n",
        "    string str;\n",
        "    getline(cin, str);\n",
        "\n",
        "    for (int i = 0; i < str.size(); i++) {\n",
        "        if (isalpha(str[i])) {\n",
        "            if (islower(str[i]))\n",
        "                str[i] = toupper(str[i]);\n",
        "            else\n",
        "                str[i] = tolower(str[i]);\n",
        "        }\n",
        "    }\n",
        "    cout << str << \"\\n\";\n",
        "    return 0;\n",
        "}"
      ],
      "execution_count": null,
      "outputs": [
        {
          "output_type": "stream",
          "text": [
            "Overwriting togglecase.cpp\n"
          ],
          "name": "stdout"
        }
      ]
    },
    {
      "cell_type": "code",
      "metadata": {
        "id": "MrkrP2uuRuL_",
        "colab": {
          "base_uri": "https://localhost:8080/"
        },
        "outputId": "11b77dd3-f07b-4e09-d8b3-143400caa619"
      },
      "source": [
        "!g++ togglecase.cpp -o togglecase; echo fAIR, LATER, OCCASIONALLY CLOUDY.  |./a.out"
      ],
      "execution_count": null,
      "outputs": [
        {
          "output_type": "stream",
          "text": [
            "Fair, later, occasionally cloudy.\n"
          ],
          "name": "stdout"
        }
      ]
    },
    {
      "cell_type": "markdown",
      "metadata": {
        "id": "J5whLVdFePDp"
      },
      "source": [
        "問題 ITP1_8_B: Sum of Numbers\n",
        "与えられた数の各桁の和を計算する。\n"
      ]
    },
    {
      "cell_type": "markdown",
      "metadata": {
        "id": "2eSlB9qXhf-h"
      },
      "source": [
        "\n",
        "例: 123 55 1000 0 =>  \n",
        "6  \n",
        "10  \n",
        "1  "
      ]
    },
    {
      "cell_type": "code",
      "metadata": {
        "id": "Ca0OamlTgylf",
        "colab": {
          "base_uri": "https://localhost:8080/"
        },
        "outputId": "f6c8423b-615c-4b21-b16c-171f474791bf"
      },
      "source": [
        "%%writefile sumofnum01.cpp\n",
        "# include <bits/stdc++.h> \n",
        "\n",
        "int strtosum(string str) {\n",
        "    int sum = 0;\n",
        "    for (int i = 0; i < str.size(); i++) {\n",
        "        sum += (str[i] - '0');\n",
        "    }\n",
        "    return sum;\n",
        "}\n",
        "\n",
        "int main() {\n",
        "    string str;\n",
        "    while (1) {\n",
        "        cin >> str;\n",
        "        if (str[0] == '0') break;\n",
        "        cout << strtosum(str) << \"\\n\";\n",
        "    }\n",
        "    return 0;\n",
        "}\n"
      ],
      "execution_count": null,
      "outputs": [
        {
          "output_type": "stream",
          "text": [
            "Overwriting sumofnum01.cpp\n"
          ],
          "name": "stdout"
        }
      ]
    },
    {
      "cell_type": "code",
      "metadata": {
        "id": "IzPuokJUg6OQ",
        "colab": {
          "base_uri": "https://localhost:8080/"
        },
        "outputId": "59d1eed3-23db-4149-dcfd-204e014c1f55"
      },
      "source": [
        "!g++ sumofnum01.cpp -o sumofnum01; echo 123 55 1000 0  |./a.out"
      ],
      "execution_count": null,
      "outputs": [
        {
          "output_type": "stream",
          "text": [
            "6\n",
            "10\n",
            "1\n"
          ],
          "name": "stdout"
        }
      ]
    },
    {
      "cell_type": "markdown",
      "metadata": {
        "id": "NyNPaOkJePxB"
      },
      "source": [
        "問題 ITP1_8_C: Counting Characters\n",
        "与えられた英文に含まれる、各アルファベットの数を数える。 小文字と大文字は区別しない。\n",
        "\n",
        "例: This is a pen. =>   \n",
        "a : 1  \n",
        "b : 0  \n",
        "c : 0  \n",
        "d : 0  \n",
        "e : 1  \n",
        "f : 0  \n"
      ]
    },
    {
      "cell_type": "code",
      "metadata": {
        "id": "xvA7k-jY82Yf",
        "colab": {
          "base_uri": "https://localhost:8080/"
        },
        "outputId": "0722b4a4-89ae-46fd-8e9b-f9b7ee36909a"
      },
      "source": [
        "%%writefile countcharacter.cpp\n",
        "# include <bits/stdc++.h> \n",
        "\n",
        "int main (){\n",
        "    char ch;\n",
        "    int cnt[26] = {};\n",
        "    while(cin >> ch){\n",
        "        ch = tolower(ch);\n",
        "        if (isalpha(ch)){\n",
        "            cnt[ch-'a']++;\n",
        "        }\n",
        "    }\n",
        "\n",
        "    for (int i = 0; i < 26; i++){\n",
        "        cout << char(i+'a') << \" \" << cnt[i] << \"\\n\";\n",
        "    }\n",
        "    return 0;\n",
        "}\n"
      ],
      "execution_count": null,
      "outputs": [
        {
          "output_type": "stream",
          "text": [
            "Overwriting countcharacter.cpp\n"
          ],
          "name": "stdout"
        }
      ]
    },
    {
      "cell_type": "code",
      "metadata": {
        "id": "YDJCURDO82oJ",
        "colab": {
          "base_uri": "https://localhost:8080/"
        },
        "outputId": "b86c70ca-6e66-47c7-c4e7-758b360b9f69"
      },
      "source": [
        "!g++ countcharacter.cpp -o countcharacter; echo This is a pen. |./a.out"
      ],
      "execution_count": null,
      "outputs": [
        {
          "output_type": "stream",
          "text": [
            "a 1\n",
            "b 0\n",
            "c 0\n",
            "d 0\n",
            "e 1\n",
            "f 0\n",
            "g 0\n",
            "h 1\n",
            "i 2\n",
            "j 0\n",
            "k 0\n",
            "l 0\n",
            "m 0\n",
            "n 1\n",
            "o 0\n",
            "p 1\n",
            "q 0\n",
            "r 0\n",
            "s 2\n",
            "t 1\n",
            "u 0\n",
            "v 0\n",
            "w 0\n",
            "x 0\n",
            "y 0\n",
            "z 0\n"
          ],
          "name": "stdout"
        }
      ]
    },
    {
      "cell_type": "markdown",
      "metadata": {
        "id": "ZumzW0lMeQdR"
      },
      "source": [
        "問題 ITP1_8_D: Ring\n",
        "リング状の文字列 s の任意の位置から、時計回りに文字列 $p$ が作れるかを判定する。\n",
        "\n",
        "例: vanceknowledgetoad advance => Yes\n"
      ]
    },
    {
      "cell_type": "code",
      "metadata": {
        "id": "ksMyfhEL_oRY",
        "colab": {
          "base_uri": "https://localhost:8080/"
        },
        "outputId": "9be1f068-ecd5-4af9-df4a-64233df6ccd5"
      },
      "source": [
        "%%writefile ring01.cpp\n",
        "# include <bits/stdc++.h> \n",
        "\n",
        "int main(){\n",
        "    string s, t, p;\n",
        "    cin >> s >> p;\n",
        "    t = s + s;\n",
        "\n",
        "    if (t.find(p) != string::npos )  cout << \"Yes\" << \"\\n\";\n",
        "    else cout << \"No\" << \"\\n\";\n",
        "\n",
        "    return 0;\n",
        "\n",
        "}"
      ],
      "execution_count": null,
      "outputs": [
        {
          "output_type": "stream",
          "text": [
            "Overwriting ring01.cpp\n"
          ],
          "name": "stdout"
        }
      ]
    },
    {
      "cell_type": "code",
      "metadata": {
        "id": "5IWeRyEo_q4t",
        "colab": {
          "base_uri": "https://localhost:8080/"
        },
        "outputId": "6aca43fa-f24a-4ee4-906c-c7ee4ee5d408"
      },
      "source": [
        "!g++ ring01.cpp -o ring01; echo vanceknowledgetoad advance |./a.out"
      ],
      "execution_count": null,
      "outputs": [
        {
          "output_type": "stream",
          "text": [
            "Yes\n"
          ],
          "name": "stdout"
        }
      ]
    },
    {
      "cell_type": "markdown",
      "metadata": {
        "id": "P7WavdkReROB"
      },
      "source": [
        "問題 ITP1_9_A: Finding a Word\n",
        "単語 W と文章 $T$ で、$T$ の中にある W の数を出力する。\n",
        "すべての単語 $T_i$ において単語 W と同じになるものを数える。\n",
        "大文字と小文字は区別しない。W に含まれる文字はすべてアルファベット小文字。\n",
        "$T$ は、END_OF_TEXT という文字列が文章の終わりを示す。\n",
        "\n",
        "例: computer Nurtures computer scientists and highly-skilled computer engineers who will create and exploit $knowledge$ for the new era. Provides an outstanding computer environment. END_OF_TEXT\n",
        "=> \n",
        "3\n"
      ]
    },
    {
      "cell_type": "code",
      "metadata": {
        "id": "x9FH1UhbfN5K",
        "colab": {
          "base_uri": "https://localhost:8080/"
        },
        "outputId": "9a3f2cf2-6e02-4dfb-f14b-df90d5705b14"
      },
      "source": [
        "%%writefile findword.cpp\n",
        "# include <bits/stdc++.h> \n",
        "\n",
        "string toUpper(string str) {\n",
        "    for (int i = 0; i < str.size(); i++) str[i] = toupper(str[i]);\n",
        "    return str;\n",
        "}\n",
        "\n",
        "int main() {\n",
        "    string target, source;\n",
        "    cin >> target;\n",
        "    target = toUpper(target);\n",
        "\n",
        "    int cnt = 0;\n",
        "\n",
        "    while (1) {\n",
        "        cin >> source;\n",
        "        if (source == \"END_OF_TEXT\") break;\n",
        "        source = toUpper(source);\n",
        "        if (target == source) cnt++;\n",
        "    }\n",
        "\n",
        "    cout << cnt << \"\\n\";\n",
        "\n",
        "    return 0;\n",
        "}\n",
        "\n",
        "\n",
        "\n"
      ],
      "execution_count": null,
      "outputs": [
        {
          "output_type": "stream",
          "text": [
            "Writing findword.cpp\n"
          ],
          "name": "stdout"
        }
      ]
    },
    {
      "cell_type": "code",
      "metadata": {
        "id": "AH1PcUKxfNmc",
        "colab": {
          "base_uri": "https://localhost:8080/"
        },
        "outputId": "837b2fb7-712a-4292-b398-06fd5739e632"
      },
      "source": [
        "!g++ findword.cpp -o findword; echo computer Nurtures computer scientists and highly-skilled computer engineers who will create and exploit  knowledge  for the new era. Provides an outstanding computer environment. END_OF_TEXT |./a.out"
      ],
      "execution_count": null,
      "outputs": [
        {
          "output_type": "stream",
          "text": [
            "3\n"
          ],
          "name": "stdout"
        }
      ]
    },
    {
      "cell_type": "markdown",
      "metadata": {
        "id": "FIfUnFWKeR6Z"
      },
      "source": [
        "問題 ITP1_9_B: Shuffle\n",
        "アルファベットの n 枚のカードの山をシャッフルする。 シャッフルでは、h 枚のカードをまとめて取り出し、それを残ったカードの山の上に積み上げる。例えば、abcdeefab を h が 4 でシャッフルすると、eefababcd になる。 このシャッフルを何回か繰り返す。\n",
        "\n",
        "カードの山の最初の並びと h の列を読み込み、最後の並びを出力する。 文字列が \"-\" のとき入力の終わりとする。\n",
        "\n",
        "\n",
        " 例: aabc 3 1 2 1 vwxyz 2 3 4 - =>   \n",
        " aabc  \n",
        " xyzvw  \n"
      ]
    },
    {
      "cell_type": "code",
      "metadata": {
        "id": "oTCDJiYa8t-B",
        "colab": {
          "base_uri": "https://localhost:8080/"
        },
        "outputId": "a986af50-9675-4983-d723-b7166c7f2228"
      },
      "source": [
        "%%writefile shuffle01.cpp\n",
        "# include <bits/stdc++.h> \n",
        "\n",
        "string shuffle(string str, int h) {\n",
        "    string head = str.substr(0, h);\n",
        "    string tail = str.substr(h, str.size() - 1);\n",
        "    return tail + head;\n",
        "}\n",
        "\n",
        "int main() {\n",
        "    string cards;\n",
        "    int m, h;\n",
        "\n",
        "    while (1) {\n",
        "        cin >> cards;\n",
        "        if (cards == \"-\") break;\n",
        "        cin >> m;\n",
        "        for (int i = 0; i < m; i++) {\n",
        "            cin >> h;\n",
        "            cards = shuffle(cards, h);\n",
        "        }\n",
        "        cout << cards << \"\\n\";\n",
        "    }\n",
        "    return 0;\n",
        "}\n"
      ],
      "execution_count": null,
      "outputs": [
        {
          "output_type": "stream",
          "text": [
            "Overwriting shuffle01.cpp\n"
          ],
          "name": "stdout"
        }
      ]
    },
    {
      "cell_type": "code",
      "metadata": {
        "id": "Whs4PGcs8tzw",
        "colab": {
          "base_uri": "https://localhost:8080/"
        },
        "outputId": "b14da4fc-1f7e-44ad-a54b-f5e642eb6844"
      },
      "source": [
        "!g++ shuffle01.cpp -o shuffle01; echo aabc 3 1 2 1 vwxyz 2 3 4 - |./a.out"
      ],
      "execution_count": null,
      "outputs": [
        {
          "output_type": "stream",
          "text": [
            "aabc\n",
            "xyzvw\n"
          ],
          "name": "stdout"
        }
      ]
    },
    {
      "cell_type": "markdown",
      "metadata": {
        "id": "nLP0EvwueSsx"
      },
      "source": [
        "問題 ITP1_9_C: Card Game\n",
        "このゲームでは、カードに動物の名前が書かれいて、辞書順で大きいものがそのターンの勝者となる。勝者には３ポイント、引き分けの場合にはそれぞれ１ポイントが加算される。ゲーム終了後のそれぞれの得点を出力する。\n",
        "\n",
        "例: 3 cat dog fish fish lion tiger =>  1 7\n"
      ]
    },
    {
      "cell_type": "code",
      "metadata": {
        "id": "N7co78aNOZM9",
        "colab": {
          "base_uri": "https://localhost:8080/"
        },
        "outputId": "df3c60e3-9715-42d4-a053-e818ba782b02"
      },
      "source": [
        "%%writefile cardgame.cpp\n",
        "# include <bits/stdc++.h> \n",
        "\n",
        "int main() {\n",
        "    int n;\n",
        "    string s1, s2;\n",
        "    int a = 0, b = 0;\n",
        "    cin >> n;\n",
        "\n",
        "    for (int i = 0; i < n; i++) {\n",
        "        cin >> s1 >> s2;\n",
        "        if (s1 > s2)\n",
        "            a += 3;\n",
        "        else if (s1 < s2)\n",
        "            b += 3;\n",
        "        else {\n",
        "            a++;\n",
        "            b++;\n",
        "        }\n",
        "    }\n",
        "    cout << a << \" \" << b << \"\\n\";\n",
        "    return 0;\n",
        "}\n"
      ],
      "execution_count": null,
      "outputs": [
        {
          "output_type": "stream",
          "text": [
            "Overwriting cardgame.cpp\n"
          ],
          "name": "stdout"
        }
      ]
    },
    {
      "cell_type": "code",
      "metadata": {
        "id": "pz1Zj48sOZrp",
        "colab": {
          "base_uri": "https://localhost:8080/"
        },
        "outputId": "b61ee270-441a-4d3d-f694-5db153ef7e98"
      },
      "source": [
        "!g++ cardgame.cpp -o cardgame; echo 3 cat dog fish fish lion tiger |./a.out"
      ],
      "execution_count": null,
      "outputs": [
        {
          "output_type": "stream",
          "text": [
            "1 7\n"
          ],
          "name": "stdout"
        }
      ]
    },
    {
      "cell_type": "markdown",
      "metadata": {
        "id": "Bog1bWnRhO97"
      },
      "source": [
        "問題 ITP1_9_D: Transformation\n",
        "文字列 str に対して、与えられた命令の列を実行する。\n",
        "* print a b: str の a 文字目から b 文字目までを出力する。\n",
        "* reverse a b: str の a 文字目から b 文字目までを逆順にする。\n",
        "* replace a b p: str の a 文字目から b 文字目までを p に置き換える。\n",
        "文字列 str の最初の文字を 0 文字目とする。\n",
        "\n",
        "1 行目に文字列 str 、2 行目に命令の数 q 、続く q 行に各命令が上記の形式で与えられる。\n",
        "\n",
        "例: abcde 3 replace 1 3 xyz reverse 0 2 print 1 4 =>  xaze\n"
      ]
    },
    {
      "cell_type": "code",
      "metadata": {
        "id": "uENuKTdjRcci",
        "colab": {
          "base_uri": "https://localhost:8080/"
        },
        "outputId": "4dd84186-1851-4ef0-a3de-c1d5365101eb"
      },
      "source": [
        "%%writefile transform.cpp\n",
        "\n",
        "# include <bits/stdc++.h> \n",
        "\n",
        "int main() {\n",
        "    string str, com, p;\n",
        "    int q, a, b;\n",
        "    cin >> str >> q;\n",
        "\n",
        "    for (int i = 0; i < q; i++) {\n",
        "        cin >> com >> a >> b;\n",
        "        if (com == \"print\")\n",
        "            cout << str.substr(a, b - a + 1);\n",
        "        else if (com == \"reverse\") {\n",
        "            string tmp = str.substr(a, b - a + 1);\n",
        "            int n = tmp.size();\n",
        "            for (int i = 0; i < n; i++) str[i + a] = tmp[n - i - 1];\n",
        "        } else if (com == \"replace\") {\n",
        "            cin >> p;\n",
        "            str = str.replace(a, b - a + 1, p);\n",
        "        }\n",
        "    }\n",
        "    return 0;\n",
        "}\n"
      ],
      "execution_count": null,
      "outputs": [
        {
          "output_type": "stream",
          "text": [
            "Overwriting transform.cpp\n"
          ],
          "name": "stdout"
        }
      ]
    },
    {
      "cell_type": "code",
      "metadata": {
        "id": "NMNGyfkXRc-O",
        "colab": {
          "base_uri": "https://localhost:8080/"
        },
        "outputId": "09b85ae6-9f68-4b9d-98a4-60ceb1352d16"
      },
      "source": [
        "!g++ transform.cpp -o transform; echo abcde 3 replace 1 3 xyz reverse 0 2 print 1 4 |./a.out"
      ],
      "execution_count": null,
      "outputs": [
        {
          "output_type": "stream",
          "text": [
            "xaze"
          ],
          "name": "stdout"
        }
      ]
    },
    {
      "cell_type": "markdown",
      "metadata": {
        "id": "nzLLtKkheUhg"
      },
      "source": [
        "問題 ITP1_10_A: Distance\n",
        "点 $P1(x1, y1)$, $P2(x2, y2)$ の距離を求める。\n",
        "\n",
        "例: 0 0 1 1 => 1.41421356\n"
      ]
    },
    {
      "cell_type": "code",
      "metadata": {
        "colab": {
          "base_uri": "https://localhost:8080/"
        },
        "id": "0S2V-lI2vACx",
        "outputId": "8708324a-4f4c-4874-a637-119200439617"
      },
      "source": [
        "%%writefile distancepoint01.cpp\n",
        "\n",
        "# include <bits/stdc++.h> \n",
        "#include <iomanip>\n",
        "#include <cmath>\n",
        "\n",
        "int main() {\n",
        "    double x1, y1, x2, y2;\n",
        "    cin >> x1 >> y1 >> x2 >> y2;\n",
        "    double d = sqrt((x1 - x2) * (x1 - x2) + (y1 - y2) * (y1 - y2));\n",
        "    cout << fixed <<setprecision(8) << d << \"\\n\";\n",
        "    \n",
        "    return 0;\n",
        "}\n"
      ],
      "execution_count": null,
      "outputs": [
        {
          "output_type": "stream",
          "text": [
            "Overwriting distancepoint01.cpp\n"
          ],
          "name": "stdout"
        }
      ]
    },
    {
      "cell_type": "code",
      "metadata": {
        "colab": {
          "base_uri": "https://localhost:8080/"
        },
        "id": "EN0IO1sYu_ki",
        "outputId": "57819bec-00b6-4429-9e5f-6076a51cb945"
      },
      "source": [
        "!g++ distancepoint01.cpp -o distancepoint01; echo 0 0 1 1 |./a.out"
      ],
      "execution_count": null,
      "outputs": [
        {
          "output_type": "stream",
          "text": [
            "1.41421356\n"
          ],
          "name": "stdout"
        }
      ]
    },
    {
      "cell_type": "markdown",
      "metadata": {
        "id": "pMeeTmvoeWNA"
      },
      "source": [
        "問題 ITP1_10_B: Triangle\n",
        "三角形の２辺 \"a\", \"b\" とその間の角 \"C\" から、その三角形の面積 \"S\"、周の長さ \"L\", \"a\" を底辺としたときの高さ \"h\" を求める。\n",
        "\n",
        "例: 4 3 90 =>   \n",
        "6.00000000  \n",
        "12.00000000  \n",
        "3.00000000  \n"
      ]
    },
    {
      "cell_type": "code",
      "metadata": {
        "colab": {
          "base_uri": "https://localhost:8080/"
        },
        "id": "QXxxdLhc03Wp",
        "outputId": "f3b9c3c5-11c5-4a16-f023-6dd918251978"
      },
      "source": [
        "%%writefile triangle01.cpp\n",
        "\n",
        "#include <cmath>\n",
        "#include <iomanip>\n",
        "# include <bits/stdc++.h> \n",
        "\n",
        "int main() {\n",
        "    int a, b, C;\n",
        "    double S, L, h, d;\n",
        "    cin >> a >> b >> C;\n",
        "\n",
        "    d = (acos(-1.0) * C) / 180.0;\n",
        "    S = a * b * sin(d) / 2.0;\n",
        "    L = a + b + sqrt(a * a + b * b - 2 * a * b * cos(d));\n",
        "    h = b * sin(d);\n",
        "\n",
        "    cout << fixed <<setprecision(8) << S << \"\\n\";\n",
        "    cout << fixed <<setprecision(8) << L << \"\\n\";\n",
        "    cout << fixed <<setprecision(8) << h << \"\\n\";\n",
        "\n",
        "\n",
        "    return 0;\n",
        "}\n"
      ],
      "execution_count": null,
      "outputs": [
        {
          "output_type": "stream",
          "text": [
            "Overwriting triangle01.cpp\n"
          ],
          "name": "stdout"
        }
      ]
    },
    {
      "cell_type": "code",
      "metadata": {
        "colab": {
          "base_uri": "https://localhost:8080/"
        },
        "id": "6xW8WDCF03sl",
        "outputId": "1805f2ca-b6b1-41dc-87df-83e237741ce3"
      },
      "source": [
        "!g++ triangle01.cpp -o triangle01; echo 4 3 90 |./a.out"
      ],
      "execution_count": null,
      "outputs": [
        {
          "output_type": "stream",
          "text": [
            "6.00000000\n",
            "12.00000000\n",
            "3.00000000\n"
          ],
          "name": "stdout"
        }
      ]
    },
    {
      "cell_type": "markdown",
      "metadata": {
        "id": "WDreN0SVeXVw"
      },
      "source": [
        "問題 ITP1_10_C: Standard Deviation\n",
        "n 人の学生の得点を$s_1, s_2 \\dots s_n$ としたときの、標準偏差を求める。\n",
        "\n",
        "分散 $\\alpha^2$ は次の式で求められる。\n",
        "$$\n",
        "\\alpha^2 = \\left( \\sum_{i=1}^n (s_i - m)^2\\right)/n\n",
        "$$\n",
        "\n",
        "ここで m は平均、$\\alpha$が標準偏差である。\n",
        "\n",
        "例: 5 70 80 100 90 20 3 80 80 80 0 =>  \n",
        "27.85677655  \n",
        "0.00000000  "
      ]
    },
    {
      "cell_type": "code",
      "metadata": {
        "colab": {
          "base_uri": "https://localhost:8080/"
        },
        "id": "AGHplH9Q29dZ",
        "outputId": "c2b5fde0-31f1-4942-9576-03cdbcd04151"
      },
      "source": [
        "%%writefile standarddeviation.cpp\n",
        "\n",
        "#include <cmath>\n",
        "#include <iomanip>\n",
        "# include <bits/stdc++.h> \n",
        "\n",
        "int main() {\n",
        "    int n, A[1000];\n",
        "\n",
        "    while (1) {\n",
        "        cin >> n;\n",
        "        if (n == 0) break;\n",
        "\n",
        "        for (int i = 0; i < n; i++) cin >> A[i];\n",
        "        int sum = 0;\n",
        "        for (int i = 0; i < n; i++) sum += A[i];\n",
        "        double avg = 1.0*sum/n;\n",
        "        double dist = 0.0;\n",
        "        for (int i = 0; i < n; i++) {\n",
        "            dist += (avg - A[i]) * (avg - A[i]);\n",
        "        }\n",
        "\n",
        "        cout << fixed << setprecision(8) << sqrt(dist/n) << \"\\n\";\n",
        "\n",
        "    }\n",
        "    return 0;\n",
        "}\n"
      ],
      "execution_count": null,
      "outputs": [
        {
          "output_type": "stream",
          "text": [
            "Overwriting standarddeviation.cpp\n"
          ],
          "name": "stdout"
        }
      ]
    },
    {
      "cell_type": "code",
      "metadata": {
        "colab": {
          "base_uri": "https://localhost:8080/"
        },
        "id": "9CCdOA9r29Pr",
        "outputId": "28c89dd9-7434-4740-9503-3829a5696af3"
      },
      "source": [
        "!g++ standarddeviation.cpp -o standarddeviation; echo 5 70 80 100 90 20 3 80 80 80 0 |./a.out"
      ],
      "execution_count": null,
      "outputs": [
        {
          "output_type": "stream",
          "text": [
            "27.85677655\n",
            "0.00000000\n"
          ],
          "name": "stdout"
        }
      ]
    },
    {
      "cell_type": "markdown",
      "metadata": {
        "id": "yBeatSvTQHp4"
      },
      "source": [
        "# いまここ"
      ]
    },
    {
      "cell_type": "markdown",
      "metadata": {
        "id": "HwCRABjKhP9r"
      },
      "source": [
        "問題 ITP1_10_D: Distance II\n",
        "２つの n 次元ベクトル $x=\\{x_1,x_2, \\dots , x_n\\}$ と $y=\\{y_1,y_2, \\dots , y_n\\}$ の距離を計算する。\n",
        "\n",
        "ミンコフスキー距離(Minkowski's distance)は次の式で表される。\n",
        "\n",
        "$$\n",
        "D_{xy} = ( \\sum^n_{i=1}|x_i - y_i|^p )^{\\frac1p}\n",
        "$$\n",
        "\n",
        "$p=1$ のとき\n",
        "\n",
        "$$\n",
        "D_{xy} = |x_1 - y_1|+|x_2 - y_2|+ \\dots +|x_n - y_n|\n",
        "$$\n",
        "\n",
        "となり、マンハッタン距離と呼ばれる。\n",
        "\n",
        "$p=2$ のとき\n",
        "\n",
        "$$\n",
        "D_{xy} = \\sqrt {(|x_1 - y_1|)^2+(|x_2 - y_2|)^2+ \\dots +(|x_n - y_n|)^2}\n",
        "$$\n",
        "\n",
        "となり、これは一般的に使われるユークリッド距離になる。\n",
        "\n",
        "$p=\\infty$ のとき\n",
        "\n",
        "$$\n",
        "D_{xy} = max^n_{i=1}(|x_i - y_i|)\n",
        "$$\n",
        "\n",
        "となり、チェビシェフ距離と呼ばれる。\n",
        "\n",
        "$p$ がそれぞれ 1、2、3、$\\infty$ のミンコフスキー距離を求める。\n",
        "\n",
        "例: 3 1 2 3 2 0 4 =>  \n",
        "4.000000  \n",
        "2.449490  \n",
        "2.154435  \n",
        "2.000000  \n",
        "\n",
        "\n"
      ]
    },
    {
      "cell_type": "code",
      "metadata": {
        "id": "TZlVetaPl72q",
        "colab": {
          "base_uri": "https://localhost:8080/"
        },
        "outputId": "dae074bf-ef48-4c6d-f7c7-cdd2a1baa61a"
      },
      "source": [
        "%%writefile distanceminkowski.cpp\n",
        "#include <cmath>\n",
        "#include <iomanip>\n",
        "# include <bits/stdc++.h> \n",
        "\n",
        "int main() {\n",
        "    int n, x[100], y[100];\n",
        "    cin >> n;\n",
        "    for (int i = 0; i < n; i++) cin >> x[i];\n",
        "    for (int i = 0; i < n; i++) cin >> y[i];\n",
        "\n",
        "    double d[4];\n",
        "    for (int i = 0; i < 4; i++) d[i] = 0.0;\n",
        "\n",
        "    for (int p = 1; p <= 3; p++) {\n",
        "        for (int i = 0; i < n; i++) {\n",
        "            d[p] += pow(fabs(x[i] - y[i]), p);\n",
        "        }\n",
        "        d[p] = pow(d[p], 1.0 / p);\n",
        "    }\n",
        "\n",
        "    for (int i = 0; i < n; i++) {\n",
        "        d[0] = (d[0] < fabs(x[i] - y[i]) ? fabs(x[i] - y[i]) : d[0]);\n",
        "    }\n",
        "\n",
        "    cout << fixed << setprecision(8);\n",
        "\n",
        "    cout << d[1] << \"\\n\";\n",
        "    cout << d[2] << \"\\n\";\n",
        "    cout << d[3] << \"\\n\";\n",
        "    cout << d[0] << \"\\n\";\n",
        "\n",
        "    return 0;\n",
        "}\n"
      ],
      "execution_count": null,
      "outputs": [
        {
          "output_type": "stream",
          "text": [
            "Overwriting distanceminkowski.cpp\n"
          ],
          "name": "stdout"
        }
      ]
    },
    {
      "cell_type": "code",
      "metadata": {
        "id": "QAVXxB10l7pG",
        "colab": {
          "base_uri": "https://localhost:8080/"
        },
        "outputId": "62259f6f-1cca-42bc-e891-48b92c9b4db2"
      },
      "source": [
        "!g++ distanceminkowski.cpp -o distanceminkowski; echo 3 1 2 3 2 0 4 |./a.out"
      ],
      "execution_count": null,
      "outputs": [
        {
          "output_type": "stream",
          "text": [
            "4.00000000\n",
            "2.44948974\n",
            "2.15443469\n",
            "2.00000000\n"
          ],
          "name": "stdout"
        }
      ]
    },
    {
      "cell_type": "markdown",
      "metadata": {
        "id": "NoN0066LhR2i"
      },
      "source": [
        "問題 ITP1_11_A: Dice I\n",
        "サイコロを転がすシミュレーション。\n",
        "サイコロの各面には次のように1から6のラベルが割当てられている。\n"
      ]
    },
    {
      "cell_type": "code",
      "metadata": {
        "colab": {
          "base_uri": "https://localhost:8080/",
          "height": 67
        },
        "id": "73cp2OhUwZnG",
        "outputId": "842a384b-9e51-4504-d29f-6fb80836f5c2"
      },
      "source": [
        "%%html\n",
        "<span style=\"font-family: monospace\">.1..<br>4235<br>.6..</span>"
      ],
      "execution_count": null,
      "outputs": [
        {
          "output_type": "display_data",
          "data": {
            "text/html": [
              "<span style=\"font-family: monospace\">.1..<br>4235<br>.6..</span>"
            ],
            "text/plain": [
              "<IPython.core.display.HTML object>"
            ]
          },
          "metadata": {
            "tags": []
          }
        }
      ]
    },
    {
      "cell_type": "markdown",
      "metadata": {
        "id": "X76BSXyPwcO4"
      },
      "source": [
        "入力としてサイコロの各面のラベルに対応する整数と、転がす命令の列が与えられるので、サイコロの上面の整数を出力する。\n",
        "シミュレーションの初期状態は、上面が1、手前南S面が2、向かって右の東E面が3の位置でサイコロが置かれているものとする。\n",
        "\n",
        "入力される値は、6個の整数でそれぞれがサイコロのラベルに対応する。次にNSEWのような文字列で転がす方向が与えられる。命令が実行されたあとの上面の数値を出力する。\n",
        "\n",
        "例: 1 2 4 8 16 32 SE => 8  \n",
        "1 2 4 8 16 32 EESWN => 32  "
      ]
    },
    {
      "cell_type": "code",
      "metadata": {
        "id": "qh83zUHmp7o3",
        "colab": {
          "base_uri": "https://localhost:8080/"
        },
        "outputId": "9788297f-5e6e-48d1-dc39-0c7d1394fde3"
      },
      "source": [
        "%%writefile dice01.cpp\n",
        "# include <bits/stdc++.h> \n",
        "\n",
        "class Cube {\n",
        "   public:\n",
        "    int f[6];\n",
        "    Cube() {}\n",
        "    void roll_z() { roll(1, 2, 4, 3); }  //\n",
        "    void roll_y() { roll(0, 2, 5, 3); }  // to W\n",
        "    void roll_x() { roll(0, 1, 5, 4); }  // to N\n",
        "    void roll(int i, int j, int k, int l) {\n",
        "        int t = f[i];\n",
        "        f[i] = f[j];\n",
        "        f[j] = f[k];\n",
        "        f[k] = f[l];\n",
        "        f[l] = t;\n",
        "    }\n",
        "    void move(char ch) {\n",
        "        if (ch == 'E')\n",
        "            for (int i = 0; i < 3; i++) roll_y();\n",
        "        if (ch == 'W') roll_y();\n",
        "        if (ch == 'N') roll_x();\n",
        "        if (ch == 'S')\n",
        "            for (int i = 0; i < 3; i++) roll_x();\n",
        "    }\n",
        "};\n",
        "\n",
        "int main() {\n",
        "    Cube c;\n",
        "    string com;\n",
        "\n",
        "    for (int i = 0; i < 6; i++) cin >> c.f[i];\n",
        "    cin >> com;\n",
        "\n",
        "    for (int i = 0; i < com.size(); i++) c.move(com[i]);\n",
        "\n",
        "    cout << c.f[0] << \"\\n\";\n",
        "\n",
        "    return 0;\n",
        "}\n"
      ],
      "execution_count": null,
      "outputs": [
        {
          "output_type": "stream",
          "text": [
            "Overwriting dice01.cpp\n"
          ],
          "name": "stdout"
        }
      ]
    },
    {
      "cell_type": "code",
      "metadata": {
        "id": "oDRQoWWhp7c4",
        "colab": {
          "base_uri": "https://localhost:8080/"
        },
        "outputId": "e9e62ca6-b5c0-411b-9d19-7b4bfb671581"
      },
      "source": [
        "!g++ dice01.cpp -o dice01; echo 1 2 4 8 16 32 SE |./a.out\n",
        "!echo 1 2 4 8 16 32 EESWN |./a.out"
      ],
      "execution_count": null,
      "outputs": [
        {
          "output_type": "stream",
          "text": [
            "8\n",
            "32\n"
          ],
          "name": "stdout"
        }
      ]
    },
    {
      "cell_type": "markdown",
      "metadata": {
        "id": "0X6q4Qh-eZF4"
      },
      "source": [
        "問題 ITP1_11_B: Dice II\n",
        "サイコロをの上面と前面の整数が質問として与えられるので、右側の面の整数を答える。\n",
        "\n",
        "入力の2行目は設問の数。\n",
        "\n",
        "例:  \n",
        "1 2 3 4 5 6  \n",
        "3  \n",
        "6 5  \n",
        "1 3  \n",
        "3 2  \n",
        "=>  \n",
        "3  \n",
        "5  \n",
        "6  \n",
        "\n",
        "\n"
      ]
    },
    {
      "cell_type": "code",
      "metadata": {
        "id": "TPuRW7fE5qUt",
        "colab": {
          "base_uri": "https://localhost:8080/"
        },
        "outputId": "8d7279a6-73a5-4ffc-e115-253ba706268f"
      },
      "source": [
        "%%writefile dice02.cpp\n",
        "# include <bits/stdc++.h> \n",
        "\n",
        "class Cube {\n",
        "   public:\n",
        "    int f[6];\n",
        "    Cube() {}\n",
        "    void roll_z() { roll(1, 2, 4, 3); }  //\n",
        "    void roll_y() { roll(0, 2, 5, 3); }  // to W\n",
        "    void roll_x() { roll(0, 1, 5, 4); }  // to N\n",
        "    void roll(int i, int j, int k, int l) {\n",
        "        int t = f[i];\n",
        "        f[i] = f[j];\n",
        "        f[j] = f[k];\n",
        "        f[k] = f[l];\n",
        "        f[l] = t;\n",
        "    }\n",
        "    void move(char ch) {\n",
        "        if (ch == 'E')\n",
        "            for (int i = 0; i < 3; i++) roll_y();\n",
        "        if (ch == 'W') roll_y();\n",
        "        if (ch == 'N') roll_x();\n",
        "        if (ch == 'S')\n",
        "            for (int i = 0; i < 3; i++) roll_x();\n",
        "    }\n",
        "};\n",
        "\n",
        "int getRight(Cube c1, int f1, int f2) {\n",
        "    for (int i = 0; i, 6; i++) {\n",
        "        for (int j = 0; j < 4; j++) {\n",
        "            if (c1.f[0] == f1 && c1.f[1] == f2) return c1.f[2];\n",
        "            c1.roll_z();\n",
        "        }\n",
        "        if (i % 2 == 0) c1.roll_y();\n",
        "    }\n",
        "    return -1;\n",
        "}\n",
        "\n",
        "int main() {\n",
        "    Cube c;\n",
        "    int f1, f2;\n",
        "\n",
        "    for (int i = 0; i < 6; i++) cin >> c.f[i];\n",
        "    int q;\n",
        "    cin >> q;\n",
        "\n",
        "    for (int i = 0; i < q; i++) {\n",
        "        cin >> f1 >> f2;\n",
        "        cout << getRight(c, f1, f2) << \"\\n\";\n",
        "    }\n",
        "\n",
        "    return 0;\n",
        "}\n",
        "\n"
      ],
      "execution_count": null,
      "outputs": [
        {
          "output_type": "stream",
          "text": [
            "Writing dice02.cpp\n"
          ],
          "name": "stdout"
        }
      ]
    },
    {
      "cell_type": "code",
      "metadata": {
        "id": "bZzHu26I5rBs",
        "colab": {
          "base_uri": "https://localhost:8080/"
        },
        "outputId": "c538014d-cf92-4e3e-a5c0-b5c52af9b481"
      },
      "source": [
        "!g++ dice02.cpp -o dice02; echo 1 2 3 4 5 6 3 6 5 1 3 3 2 |./a.out"
      ],
      "execution_count": null,
      "outputs": [
        {
          "output_type": "stream",
          "text": [
            "3\n",
            "5\n",
            "6\n"
          ],
          "name": "stdout"
        }
      ]
    },
    {
      "cell_type": "markdown",
      "metadata": {
        "id": "Z7ub_XCLeZzn"
      },
      "source": [
        "問題 ITP1_11_C: Dice III\n",
        "入力された整数から２つのサイコロをつくり、これらが同一のものか判定する。サイコロを回転させ、２つのサイコロのそれぞれの６方向から見た整数が全て一致するとき、同一のサイコロとみなす。\n",
        "\n",
        "例:  \n",
        "1 2 3 4 5 6  \n",
        "6 2 4 3 5 1  \n",
        "=>   \n",
        "Yes  "
      ]
    },
    {
      "cell_type": "code",
      "metadata": {
        "id": "jJkzuhlb8hbL",
        "colab": {
          "base_uri": "https://localhost:8080/"
        },
        "outputId": "05f6fa7d-2e9d-4b2f-a521-cb529a15e4f5"
      },
      "source": [
        "%%writefile dice03.cpp\n",
        "# include <bits/stdc++.h> \n",
        "\n",
        "class Cube {\n",
        "   public:\n",
        "    int f[6];\n",
        "    Cube() {}\n",
        "    void roll_z() { roll(1, 2, 4, 3); }  //\n",
        "    void roll_y() { roll(0, 2, 5, 3); }  // to W\n",
        "    void roll_x() { roll(0, 1, 5, 4); }  // to N\n",
        "    void roll(int i, int j, int k, int l) {\n",
        "        int t = f[i];\n",
        "        f[i] = f[j];\n",
        "        f[j] = f[k];\n",
        "        f[k] = f[l];\n",
        "        f[l] = t;\n",
        "    }\n",
        "};\n",
        "\n",
        "bool eq(Cube c1, Cube c2) {\n",
        "    for (int i = 0; i < 6; i++)\n",
        "        if (c1.f[i] != c2.f[i]) return false;\n",
        "    return true;\n",
        "}\n",
        "\n",
        "bool equal(Cube c1, Cube c2) {\n",
        "    for (int i = 0; i < 6; i++) {\n",
        "        for (int i = 0; i < 4; i++) {\n",
        "            if (eq(c1, c2)) return true;\n",
        "            c1.roll_z();\n",
        "        }\n",
        "        if (i % 2 == 0)\n",
        "            c1.roll_y();\n",
        "        else\n",
        "            c1.roll_x();\n",
        "    }\n",
        "\n",
        "    return false;\n",
        "}\n",
        "\n",
        "int main() {\n",
        "    Cube c1, c2;\n",
        "\n",
        "    for (int i = 0; i < 6; i++) cin >> c1.f[i];\n",
        "    for (int i = 0; i < 6; i++) cin >> c2.f[i];\n",
        "\n",
        "    if (equal(c1, c2))\n",
        "        cout << \"Yes\"\n",
        "                  << \"\\n\";\n",
        "    else\n",
        "        cout << \"No\"\n",
        "                  << \"\\n\";\n",
        "\n",
        "    return 0;\n",
        "}\n",
        "\n"
      ],
      "execution_count": null,
      "outputs": [
        {
          "output_type": "stream",
          "text": [
            "Overwriting dice03.cpp\n"
          ],
          "name": "stdout"
        }
      ]
    },
    {
      "cell_type": "code",
      "metadata": {
        "id": "dMqzntg68hPO",
        "colab": {
          "base_uri": "https://localhost:8080/"
        },
        "outputId": "d50e18bd-f868-4ec3-ee62-641c290771e2"
      },
      "source": [
        "!g++ dice03.cpp -o dice03; echo 1 2 3 4 5 6 6 2 4 3 5 1 |./a.out"
      ],
      "execution_count": null,
      "outputs": [
        {
          "output_type": "stream",
          "text": [
            "Yes\n"
          ],
          "name": "stdout"
        }
      ]
    },
    {
      "cell_type": "markdown",
      "metadata": {
        "id": "vsEVM-knhMRz"
      },
      "source": [
        "問題 ITP1_11_D: Dice IV\n",
        "入力された整数から n 個のサイコロをつくり、これらが同一のものか判定する。サイコロを回転させ、２つのサイコロのそれぞれの６方向から見た整数が全て一致するとき、同一のサイコロとみなす。\n",
        "\n",
        "例:  \n",
        "3  \n",
        "1 2 3 4 5 6  \n",
        "6 2 4 3 5 1  \n",
        "6 5 4 3 2 1  \n",
        "=>   \n",
        "No  \n",
        "  \n",
        "3  \n",
        "1 2 3 4 5 6  \n",
        "6 5 4 3 2 1  \n",
        "5 4 3 2 1 6  \n",
        "=>   \n",
        "Yes  \n"
      ]
    },
    {
      "cell_type": "code",
      "metadata": {
        "id": "l_T1uiAdMRGH",
        "colab": {
          "base_uri": "https://localhost:8080/"
        },
        "outputId": "5591afc3-dd8c-48bb-9ed3-16c43d2482b9"
      },
      "source": [
        "%%writefile dice04.cpp\n",
        "# include <bits/stdc++.h> \n",
        "\n",
        "class Cube {\n",
        "   public:\n",
        "    int f[6];\n",
        "    Cube() {}\n",
        "    void roll_z() { roll(1, 2, 4, 3); }  //\n",
        "    void roll_y() { roll(0, 2, 5, 3); }  // to W\n",
        "    void roll_x() { roll(0, 1, 5, 4); }  // to N\n",
        "    void roll(int i, int j, int k, int l) {\n",
        "        int t = f[i];\n",
        "        f[i] = f[j];\n",
        "        f[j] = f[k];\n",
        "        f[k] = f[l];\n",
        "        f[l] = t;\n",
        "    }\n",
        "};\n",
        "\n",
        "bool eq(Cube c1, Cube c2) {\n",
        "    for (int i = 0; i < 6; i++)\n",
        "        if (c1.f[i] != c2.f[i]) return false;\n",
        "    return true;\n",
        "}\n",
        "\n",
        "bool equal(Cube c1, Cube c2) {\n",
        "    for (int i = 0; i < 6; i++) {\n",
        "        for (int i = 0; i < 4; i++) {\n",
        "            if (eq(c1, c2)) return true;\n",
        "            c1.roll_z();\n",
        "        }\n",
        "        if (i % 2 == 0)\n",
        "            c1.roll_y();\n",
        "        else\n",
        "            c1.roll_x();\n",
        "    }\n",
        "\n",
        "    return false;\n",
        "}\n",
        "\n",
        "Cube C[100];\n",
        "int n;\n",
        "\n",
        "bool check() {\n",
        "    for (int i = 0; i < n - 1; i++)\n",
        "        for (int j = i + 1; j < n; j++)\n",
        "            if (equal(C[i], C[j])) return false;\n",
        "    return true;\n",
        "}\n",
        "\n",
        "int main() {\n",
        "    cin >> n;\n",
        "\n",
        "    for (int j = 0; j < n; j++)\n",
        "        for (int i = 0; i < 6; i++) cin >> C[j].f[i];\n",
        "\n",
        "    if (check())\n",
        "        cout << \"Yes\"\n",
        "                  << \"\\n\";\n",
        "    else\n",
        "        cout << \"No\"\n",
        "                  << \"\\n\";\n",
        "\n",
        "    return 0;\n",
        "}\n"
      ],
      "execution_count": null,
      "outputs": [
        {
          "output_type": "stream",
          "text": [
            "Writing dice04.cpp\n"
          ],
          "name": "stdout"
        }
      ]
    },
    {
      "cell_type": "code",
      "metadata": {
        "id": "0M0oiTK4MRiU",
        "colab": {
          "base_uri": "https://localhost:8080/"
        },
        "outputId": "6f848c21-fb37-4a35-b9e8-617ba9d20dab"
      },
      "source": [
        "!g++ dice04.cpp -o dice04; echo 3 1 2 3 4 5 6 6 2 4 3 5 1 6 5 4 3 2 1 |./a.out\n",
        "!echo 3 1 2 3 4 5 6 6 5 4 3 2 1 5 4 3 2 1 6 |./a.out"
      ],
      "execution_count": null,
      "outputs": [
        {
          "output_type": "stream",
          "text": [
            "No\n",
            "Yes\n"
          ],
          "name": "stdout"
        }
      ]
    },
    {
      "cell_type": "markdown",
      "metadata": {
        "id": "M5jGhwlZedZz"
      },
      "source": [
        "# ALDS1 Algorithms and Data Structures I アルゴリズムとデータ構造入門\n"
      ]
    },
    {
      "cell_type": "markdown",
      "metadata": {
        "id": "dgRpWMNM5f5B"
      },
      "source": [
        "問題 ALDS1_1_A: Insertion Sort\n",
        "挿入ソートは次のようなアルゴリズムになる。\n",
        "\n",
        "1. insertionSort(A, N) // N個の要素を含む0-オリジンの配列A\n",
        "2.   for i が 1 から N-1 まで\n",
        "3.     v = A[i]\n",
        "4.     j = i - 1\n",
        "5.     while j >= 0 かつ A[j] > v\n",
        "6.       A[j+1] = A[j]\n",
        "7.       j--\n",
        "8.     A[j+1] = v\n",
        "\n",
        "例: 6 5 2 4 6 1 3 =>   \n",
        "5 2 4 6 1 3  \n",
        "2 5 4 6 1 3  \n",
        "2 4 5 6 1 3  \n",
        "2 4 5 6 1 3  \n",
        "1 2 4 5 6 3  \n",
        "1 2 3 4 5 6  \n"
      ]
    },
    {
      "cell_type": "code",
      "metadata": {
        "id": "wWIeY-3E7WG7",
        "colab": {
          "base_uri": "https://localhost:8080/"
        },
        "outputId": "9a4f719f-3d91-494d-9c39-0e79946d2d32"
      },
      "source": [
        "%%writefile insertionsort.cpp\n",
        "# include <bits/stdc++.h> \n",
        "#include <vector>\n",
        "\n",
        "int main() {\n",
        "    int N;\n",
        "    cin >> N;\n",
        "    vector<int> A(N);\n",
        "    for (int i = 0; i < N; i++) cin >> A.at(i);\n",
        "\n",
        "    // 挿入ソート\n",
        "    // i : 未ソートの部分列の先頭を示すループ変数\n",
        "    // v : A.at(i) の値を一時的に保存しておくための変数\n",
        "    // j : ソート済み部分列から v を挿入するための位置を探すループ変数\n",
        "    for (int i = 1; i < N; i++) {\n",
        "        int v = A.at(i);\n",
        "        int j = i - 1;\n",
        "        while (j >= 0 && A.at(j) > v) {\n",
        "            A.at(j + 1) = A.at(j);\n",
        "            j--;\n",
        "        }\n",
        "        A.at(j + 1) = v;\n",
        "\n",
        "        // 出力\n",
        "        for (int k = 0; k < N - 1; k++) cout << A.at(k) << \" \";\n",
        "        cout << A.at(N - 1) << \"\\n\";\n",
        "    }\n",
        "}"
      ],
      "execution_count": null,
      "outputs": [
        {
          "output_type": "stream",
          "text": [
            "Overwriting insertionsort.cpp\n"
          ],
          "name": "stdout"
        }
      ]
    },
    {
      "cell_type": "code",
      "metadata": {
        "id": "8MteZngA7V7u",
        "colab": {
          "base_uri": "https://localhost:8080/"
        },
        "outputId": "1f25b10c-c3de-4502-cf5c-3d27cee29796"
      },
      "source": [
        "!g++ insertionsort.cpp -o insertionsort; echo 6 5 2 4 6 1 3 |./a.out"
      ],
      "execution_count": null,
      "outputs": [
        {
          "output_type": "stream",
          "text": [
            "2 5 4 6 1 3\n",
            "2 4 5 6 1 3\n",
            "2 4 5 6 1 3\n",
            "1 2 4 5 6 3\n",
            "1 2 3 4 5 6\n"
          ],
          "name": "stdout"
        }
      ]
    },
    {
      "cell_type": "markdown",
      "metadata": {
        "id": "2Z-Bdtte51W-"
      },
      "source": [
        "問題 ALDS1_1_B: Greatest Common Divisor\n"
      ]
    },
    {
      "cell_type": "markdown",
      "metadata": {
        "id": "52uHyHlN52Xk"
      },
      "source": [
        "問題 ALDS1_1_C: Prime Numbers\n"
      ]
    },
    {
      "cell_type": "markdown",
      "metadata": {
        "id": "_IwGXudx53ds"
      },
      "source": [
        "問題 ALDS1_1_D: Maximum Profit\n"
      ]
    },
    {
      "cell_type": "markdown",
      "metadata": {
        "id": "KA_9W4gE544k"
      },
      "source": [
        "問題 ALDS1_2_A: Bubble Sort\n"
      ]
    },
    {
      "cell_type": "markdown",
      "metadata": {
        "id": "rDCjE3hF56D9"
      },
      "source": [
        "問題 ALDS1_2_B: Selection Sort\n"
      ]
    },
    {
      "cell_type": "markdown",
      "metadata": {
        "id": "9ot8wAOE57PO"
      },
      "source": [
        "問題 ALDS1_2_C: Stable Sort\n"
      ]
    },
    {
      "cell_type": "markdown",
      "metadata": {
        "id": "av7-B9NV58y6"
      },
      "source": [
        "問題 ALDS1_3_A: Stack\n"
      ]
    },
    {
      "cell_type": "markdown",
      "metadata": {
        "id": "_aKlN4EE5-B6"
      },
      "source": [
        "問題 ALDS1_3_B: Queue\n"
      ]
    },
    {
      "cell_type": "markdown",
      "metadata": {
        "id": "QVbJHulY5_Cy"
      },
      "source": [
        "問題 ALDS1_3_C: Doubly Linked List\n"
      ]
    },
    {
      "cell_type": "markdown",
      "metadata": {
        "id": "BEYYKvyf6AA6"
      },
      "source": [
        "問題 ALDS1_3_D: Areas on the Cross-Section Diagram\n"
      ]
    },
    {
      "cell_type": "markdown",
      "metadata": {
        "id": "fpbvBt9r6BAR"
      },
      "source": [
        "問題 ALDS1_4_A: Linear Search\n"
      ]
    },
    {
      "cell_type": "markdown",
      "metadata": {
        "id": "OKaHxk6t6CEi"
      },
      "source": [
        "問題 ALDS1_4_B: Binary Search\n"
      ]
    },
    {
      "cell_type": "markdown",
      "metadata": {
        "id": "37EPC_wD6DBh"
      },
      "source": [
        "問題 ALDS1_4_C: Dictionary\n"
      ]
    },
    {
      "cell_type": "markdown",
      "metadata": {
        "id": "alDoe2pT6D5B"
      },
      "source": [
        "問題 ALDS1_4_D: Allocation\n"
      ]
    },
    {
      "cell_type": "markdown",
      "metadata": {
        "id": "5_0yoYNR6Exx"
      },
      "source": [
        "問題 ALDS1_5_A: Exhaustive Search\n"
      ]
    },
    {
      "cell_type": "markdown",
      "metadata": {
        "id": "YB5qhL2z6FxQ"
      },
      "source": [
        "問題 ALDS1_5_B: Merge Sort\n"
      ]
    },
    {
      "cell_type": "markdown",
      "metadata": {
        "id": "mHBEfYte6GqQ"
      },
      "source": [
        "問題 ALDS1_5_C: Koch Curve\n"
      ]
    },
    {
      "cell_type": "markdown",
      "metadata": {
        "id": "ZVHmAH9k6IIf"
      },
      "source": [
        "問題 ALDS1_5_D: The Number of Inversions\n"
      ]
    },
    {
      "cell_type": "markdown",
      "metadata": {
        "id": "E0jJF7W06JAA"
      },
      "source": [
        "問題 ALDS1_6_A: Counting Sort\n"
      ]
    },
    {
      "cell_type": "markdown",
      "metadata": {
        "id": "szEqSVYb6J1H"
      },
      "source": [
        "問題 ALDS1_6_B: Partition\n"
      ]
    },
    {
      "cell_type": "markdown",
      "metadata": {
        "id": "c5B-Wl3q6K8P"
      },
      "source": [
        "問題 ALDS1_6_C: Quick Sort\n"
      ]
    },
    {
      "cell_type": "markdown",
      "metadata": {
        "id": "E0rbmk966MDf"
      },
      "source": [
        "問題 ALDS1_6_D: Minimum Cost Sort\n"
      ]
    },
    {
      "cell_type": "markdown",
      "metadata": {
        "id": "8pl2osYG6M3P"
      },
      "source": [
        "問題 ALDS1_7_A: Rooted Trees\n"
      ]
    },
    {
      "cell_type": "markdown",
      "metadata": {
        "id": "x_0_gNKn6NzG"
      },
      "source": [
        "問題 ALDS1_7_B: Binary Trees\n"
      ]
    },
    {
      "cell_type": "markdown",
      "metadata": {
        "id": "jYALNOZ16PWG"
      },
      "source": [
        "問題 ALDS1_7_C: Tree Walk\n"
      ]
    },
    {
      "cell_type": "markdown",
      "metadata": {
        "id": "DmTIG_xR6QKm"
      },
      "source": [
        "問題 ALDS1_7_D: Reconstruction of a Tree\n"
      ]
    },
    {
      "cell_type": "markdown",
      "metadata": {
        "id": "s4SDNt7O6RM2"
      },
      "source": [
        "問題 ALDS1_8_A: Binary Search Tree I\n"
      ]
    },
    {
      "cell_type": "markdown",
      "metadata": {
        "id": "Pus6KCrN6SBl"
      },
      "source": [
        "問題 ALDS1_8_B: Binary Search Tree II\n"
      ]
    },
    {
      "cell_type": "markdown",
      "metadata": {
        "id": "0VvNOJXu6S0F"
      },
      "source": [
        "問題 ALDS1_8_C: Binary Search Tree III\n"
      ]
    },
    {
      "cell_type": "markdown",
      "metadata": {
        "id": "ApYo0eho6Tk9"
      },
      "source": [
        "問題 ALDS1_8_D: Treap\n"
      ]
    },
    {
      "cell_type": "markdown",
      "metadata": {
        "id": "2cWVvwGQ6Uhp"
      },
      "source": [
        "問題 ALDS1_9_A: Complete Binary Tree\n"
      ]
    },
    {
      "cell_type": "markdown",
      "metadata": {
        "id": "D6VvvJVk6V3c"
      },
      "source": [
        "問題 ALDS1_9_B: Maximum Heap\n"
      ]
    },
    {
      "cell_type": "markdown",
      "metadata": {
        "id": "SucopzHd6WvU"
      },
      "source": [
        "問題 ALDS1_9_C: Priority Queue\n"
      ]
    },
    {
      "cell_type": "markdown",
      "metadata": {
        "id": "vL7hPhDm6X4M"
      },
      "source": [
        "問題 ALDS1_10_A: Fibonacci Number\n"
      ]
    },
    {
      "cell_type": "markdown",
      "metadata": {
        "id": "V9y-NAQy6ZKL"
      },
      "source": [
        "問題 ALDS1_10_B: Matrix Chain Multiplication\n"
      ]
    },
    {
      "cell_type": "markdown",
      "metadata": {
        "id": "o4JdofIl6aFz"
      },
      "source": [
        "問題 ALDS1_10_C: Longest Common Subsequence\n"
      ]
    },
    {
      "cell_type": "markdown",
      "metadata": {
        "id": "-ZcQZvrQ6dPj"
      },
      "source": [
        "問題 ALDS1_11_A: Graph\n"
      ]
    },
    {
      "cell_type": "markdown",
      "metadata": {
        "id": "RY4VFxpJ6eoP"
      },
      "source": [
        "問題 ALDS1_11_B: Depth First Search\n"
      ]
    },
    {
      "cell_type": "markdown",
      "metadata": {
        "id": "WgkQGomu6iP5"
      },
      "source": [
        "問題 ALDS1_11_C: Breadth First Search\n"
      ]
    },
    {
      "cell_type": "markdown",
      "metadata": {
        "id": "2RPOcw-U6jPZ"
      },
      "source": [
        "問題 ALDS1_11_D: Connected Components\n"
      ]
    },
    {
      "cell_type": "markdown",
      "metadata": {
        "id": "vOT6-Xk56kJp"
      },
      "source": [
        "問題 ALDS1_12_A: Minimum Spanning Tree\n"
      ]
    },
    {
      "cell_type": "markdown",
      "metadata": {
        "id": "1aWc8YGW6ldx"
      },
      "source": [
        "問題 ALDS1_12_B: Single Source Shortest Path I\n"
      ]
    },
    {
      "cell_type": "markdown",
      "metadata": {
        "id": "ay3wBAmH6mb4"
      },
      "source": [
        "問題 ALDS1_12_C: Single Source Shortest Path II\n"
      ]
    },
    {
      "cell_type": "markdown",
      "metadata": {
        "id": "MWeQ-zPe6nTR"
      },
      "source": [
        "問題 ALDS1_13_A: 8 Queens Problem\n"
      ]
    },
    {
      "cell_type": "markdown",
      "metadata": {
        "id": "JKl3FCju6oOH"
      },
      "source": [
        "問題 ALDS1_13_B: 8 Puzzle\n"
      ]
    },
    {
      "cell_type": "markdown",
      "metadata": {
        "id": "PYjU2Gis6pRQ"
      },
      "source": [
        "問題 ALDS1_13_C: 15 Puzzle\n"
      ]
    },
    {
      "cell_type": "markdown",
      "metadata": {
        "id": "YVQXVue_6qNI"
      },
      "source": [
        "問題 ALDS1_14_A: Naive String Search\n"
      ]
    },
    {
      "cell_type": "markdown",
      "metadata": {
        "id": "WYeiAaKf6rKH"
      },
      "source": [
        "問題 ALDS1_14_B: String Search\n"
      ]
    },
    {
      "cell_type": "markdown",
      "metadata": {
        "id": "UI6kfrYa6sDX"
      },
      "source": [
        "問題 ALDS1_14_C: Pattern Search\n"
      ]
    },
    {
      "cell_type": "markdown",
      "metadata": {
        "id": "QJulQmps6tMn"
      },
      "source": [
        "問題 ALDS1_14_D: Multiple String Matching\n"
      ]
    },
    {
      "cell_type": "markdown",
      "metadata": {
        "id": "rF_XAz_96uLP"
      },
      "source": [
        "問題 ALDS1_15_A: Change Making\n"
      ]
    },
    {
      "cell_type": "markdown",
      "metadata": {
        "id": "5mKMHoDt6vEB"
      },
      "source": [
        "問題 ALDS1_15_C: Activity Selection Problem\n"
      ]
    },
    {
      "cell_type": "markdown",
      "metadata": {
        "id": "1GWivCmx6v-W"
      },
      "source": [
        "### ALDS1_15_D: Huffman Coding\n"
      ]
    }
  ]
}