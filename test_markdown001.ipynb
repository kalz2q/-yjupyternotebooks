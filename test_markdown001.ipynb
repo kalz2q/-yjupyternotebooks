{
  "nbformat": 4,
  "nbformat_minor": 0,
  "metadata": {
    "colab": {
      "name": "test_markdown001.ipynb",
      "provenance": [],
      "toc_visible": true,
      "authorship_tag": "ABX9TyMswGXKHVwkkF3CiYsxoW0n",
      "include_colab_link": true
    },
    "kernelspec": {
      "name": "python3",
      "display_name": "Python 3"
    }
  },
  "cells": [
    {
      "cell_type": "markdown",
      "metadata": {
        "id": "view-in-github",
        "colab_type": "text"
      },
      "source": [
        "<a href=\"https://colab.research.google.com/github/kalz2q/myjupyternotebooks/blob/master/test_markdown001.ipynb\" target=\"_parent\"><img src=\"https://colab.research.google.com/assets/colab-badge.svg\" alt=\"Open In Colab\"/></a>"
      ]
    },
    {
      "cell_type": "markdown",
      "metadata": {
        "id": "p8QpYHTuWziG",
        "colab_type": "text"
      },
      "source": [
        "# はじめに\n",
        "GitHubとColabの連携はわかりました。 だいたいわかったと思う。 とりあえず使えています。 で、これをはてなとかQiitaの記事にする場合、Colabのファイルメニューにマークダウンに変換がないみたいなので、一旦パソコンで\n",
        "\n",
        "```\n",
        "jupyter nbconvert --to markdown filename.ipynb\n",
        "```\n",
        "\n",
        "として、できあがったfilename.mdをテキストエディターで開いて貼り付けるというのをかんがえました。\n",
        "\n",
        "その際、GitHubでのファイル名とか`Open in Colab`ボタンとかはどうなってしまうのか。\n",
        "\n",
        "実験してみよう。\n"
      ]
    },
    {
      "cell_type": "markdown",
      "metadata": {
        "id": "qH4bOyF8dcvS",
        "colab_type": "text"
      },
      "source": [
        "\n",
        "# はてなでの実験結果\n",
        "このファイルはhttps://github.com/kalz2q/myjupyternotebooks/blob/master/test_markdown001.ipynb です。これをColabで編集して、GitHubに保存するときにできる`Open in Colab`というボタンがあります。\n",
        "\n",
        "`nbconvert`してできた`.md`ファイルをはてなに貼り付けると、`Open in Colab`ボタンも貼り付けられますが、リンクしているのははてなの記事ではなく、もとのGitHubのファイルです。まああたりまえか。\n",
        "\n",
        "ということは明示的にGitHubのファイル名を書かなくてもボタンのリンク先から辿れるので隠していることにはならない。が、書いた方がはっきりする、というところか。\n"
      ]
    }
  ]
}