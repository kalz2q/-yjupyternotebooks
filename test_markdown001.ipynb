{
  "nbformat": 4,
  "nbformat_minor": 0,
  "metadata": {
    "colab": {
      "name": "Untitled1.ipynb",
      "provenance": [],
      "authorship_tag": "ABX9TyManFVy/4nXiYbNpcW1epjG",
      "include_colab_link": true
    },
    "kernelspec": {
      "name": "python3",
      "display_name": "Python 3"
    }
  },
  "cells": [
    {
      "cell_type": "markdown",
      "metadata": {
        "id": "view-in-github",
        "colab_type": "text"
      },
      "source": [
        "<a href=\"https://colab.research.google.com/github/kalz2q/myjupyternotebooks/blob/master/test_markdown001.ipynb\" target=\"_parent\"><img src=\"https://colab.research.google.com/assets/colab-badge.svg\" alt=\"Open In Colab\"/></a>"
      ]
    },
    {
      "cell_type": "markdown",
      "metadata": {
        "id": "p8QpYHTuWziG",
        "colab_type": "text"
      },
      "source": [
        "# はじめに\n",
        "GitHubとColabの連携はわかりました。 だいたいわかったと思う。 とりあえず使えています。 で、これをはてなとかQiitaの記事にする場合、Colabのファイルメニューにマークダウンに変換がないみたいなので、一旦パソコンで\n",
        "\n",
        "```\n",
        "nbconvert --to markdown filename.ipynb\n",
        "```\n",
        "\n",
        "として、できあがったfilename.mdをテキストエディターで開いて貼り付けるというのをかんがえました。\n",
        "\n",
        "その際、GitHubでのファイル名とか`Open in Colab`ボタンとかはどうなってしまうのか。実験してみよう。"
      ]
    }
  ]
}