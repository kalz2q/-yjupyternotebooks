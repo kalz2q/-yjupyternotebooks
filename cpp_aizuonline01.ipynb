{
  "nbformat": 4,
  "nbformat_minor": 0,
  "metadata": {
    "colab": {
      "name": "cpp_aizuonline01.ipynb",
      "provenance": [],
      "toc_visible": true,
      "authorship_tag": "ABX9TyMSkUlG93d1ekvD8/7VCNpZ",
      "include_colab_link": true
    },
    "kernelspec": {
      "name": "python3",
      "display_name": "Python 3"
    }
  },
  "cells": [
    {
      "cell_type": "markdown",
      "metadata": {
        "id": "view-in-github",
        "colab_type": "text"
      },
      "source": [
        "<a href=\"https://colab.research.google.com/github/kalz2q/mycolabnotebooks/blob/master/cpp_aizuonline01.ipynb\" target=\"_parent\"><img src=\"https://colab.research.google.com/assets/colab-badge.svg\" alt=\"Open In Colab\"/></a>"
      ]
    },
    {
      "cell_type": "markdown",
      "metadata": {
        "id": "yyDogo8E0a-k"
      },
      "source": [
        "# メモ\n",
        "\n",
        "1. このノートブックは Colab で書かれて、読まれることを想定している。\n",
        "1. 今回のアイデアはAOJ (Aizu Online Judge) のコース問題を Colab化してみよう、というもの。\n",
        "1. Aizu Online Judge https://onlinejudge.u-aizu.ac.jp/courses/list\n",
        "1. プログラム言語はC++を使う"
      ]
    },
    {
      "cell_type": "markdown",
      "metadata": {
        "id": "Sq6ot_P704rT"
      },
      "source": [
        "# 問題セット\n",
        "\n",
        "1. ITP1 Introduction to Programming I プログラミング入門\n",
        "1. ALDS1 Algorithms and Data Structures I アルゴリズムとデータ構造入門\n",
        "1. ITP2 Introduction to Programming II プログラミング応用\n",
        "1. DSL Data Sets and Queries データの集合とクエリ処理\n",
        "1. DPL Discrete Optimization Problems 組み合わせ最適化\n",
        "1. GRL Graph Algorithms グラフ\n",
        "1. CGL Computational Geometry 計算幾何学\n",
        "1. NTL Number Theory 整数論"
      ]
    },
    {
      "cell_type": "markdown",
      "metadata": {
        "id": "pGCikRlD4c0G"
      },
      "source": [
        "# ITP1 Introduction to Programming I プログラミング入門\n",
        "\n"
      ]
    },
    {
      "cell_type": "markdown",
      "metadata": {
        "id": "oFZ0BDtT7Q-k"
      },
      "source": [
        "### ITP1_1_A: Hello World  \n",
        "\n",
        "\"Hello World\" と一行に出力する。"
      ]
    },
    {
      "cell_type": "code",
      "metadata": {
        "colab": {
          "base_uri": "https://localhost:8080/"
        },
        "id": "prf6Ks5V741Q",
        "outputId": "59b9ad64-7f42-4d30-fa82-87e00f1a39dd"
      },
      "source": [
        "%%writefile hello01.cpp\n",
        "#include <iostream>\n",
        "int main (){\n",
        "  std::cout << \"Hello World\"<< \"\\n\";\n",
        "}\n"
      ],
      "execution_count": null,
      "outputs": [
        {
          "output_type": "stream",
          "text": [
            "Overwriting hello01.cpp\n"
          ],
          "name": "stdout"
        }
      ]
    },
    {
      "cell_type": "code",
      "metadata": {
        "colab": {
          "base_uri": "https://localhost:8080/"
        },
        "id": "WjtbClzP0TQs",
        "outputId": "b79c784c-7a94-4266-85e9-775e05e3c63c"
      },
      "source": [
        "!g++ hello01.cpp -o hello01; ./hello01"
      ],
      "execution_count": null,
      "outputs": [
        {
          "output_type": "stream",
          "text": [
            "Hello World\n"
          ],
          "name": "stdout"
        }
      ]
    },
    {
      "cell_type": "markdown",
      "metadata": {
        "id": "aGd4C-NC9mdn"
      },
      "source": [
        "### ITP1_1_B: X Cubic\n",
        "\n",
        "$x$ の３乗の計算結果を１行に出力する。"
      ]
    },
    {
      "cell_type": "code",
      "metadata": {
        "colab": {
          "base_uri": "https://localhost:8080/"
        },
        "id": "gNacblgN9fTg",
        "outputId": "5c74b6e0-ea04-4848-ba36-d5ea2dcdfa61"
      },
      "source": [
        "%%writefile xcubic01.cpp\n",
        "#include <iostream>\n",
        "\n",
        "int main (){\n",
        "    int x;\n",
        "    std::cin >> x;\n",
        "    std::cout << x*x*x << \"\\n\";\n",
        "}\n"
      ],
      "execution_count": null,
      "outputs": [
        {
          "output_type": "stream",
          "text": [
            "Writing xcubic01.cpp\n"
          ],
          "name": "stdout"
        }
      ]
    },
    {
      "cell_type": "code",
      "metadata": {
        "colab": {
          "base_uri": "https://localhost:8080/"
        },
        "id": "NnwRLR_f90hp",
        "outputId": "62627935-a1ea-4597-a800-ac0ee406dd22"
      },
      "source": [
        "!g++ xcubic01.cpp -o xcubic01; echo 10 | ./xcubic01"
      ],
      "execution_count": null,
      "outputs": [
        {
          "output_type": "stream",
          "text": [
            "1000\n"
          ],
          "name": "stdout"
        }
      ]
    },
    {
      "cell_type": "markdown",
      "metadata": {
        "id": "r_VmKM4-qM2A"
      },
      "source": [
        "上記の例で、echo 10 としているのは標準入力を使っている。  \n",
        "\n",
        "Colab の環境でインタラクティブにプログラムを動かすことも可能なようだが、ノートブックのコードセルからインタラクティブな入力欄にフォーカスを手動で移動する必要があり、あまり実用的ではない。\n",
        "\n",
        "とりあえず cin に対しては echo で入力する。"
      ]
    },
    {
      "cell_type": "markdown",
      "metadata": {
        "id": "iKpT7KqTgltN"
      },
      "source": [
        "### ITP1_1_C: Rectangle\n",
        "たて $a$ cm よこ $b$ cm の長方形の面積と周の長さを求める。\n",
        "\n",
        "例: 5 6 => 30 22"
      ]
    },
    {
      "cell_type": "code",
      "metadata": {
        "id": "MJgSLBtrhZ4Y",
        "colab": {
          "base_uri": "https://localhost:8080/"
        },
        "outputId": "e242cb50-e023-4917-f09f-1a8b041a4c78"
      },
      "source": [
        "%%writefile rectangle.cpp\n",
        "#include <iostream>\n",
        "\n",
        "int main (){\n",
        "    int x,y;\n",
        "    std::cin >> x >> y;\n",
        "    std::cout << x * y << \" \" << (x + y) * 2 << \"\\n\";\n",
        "}\n"
      ],
      "execution_count": null,
      "outputs": [
        {
          "output_type": "stream",
          "text": [
            "Writing rectangle.cpp\n"
          ],
          "name": "stdout"
        }
      ]
    },
    {
      "cell_type": "code",
      "metadata": {
        "id": "B8uIdW0DhaSf",
        "colab": {
          "base_uri": "https://localhost:8080/"
        },
        "outputId": "193d5d66-b825-4f1c-d35b-1cb39c68d7f1"
      },
      "source": [
        "!g++ rectangle.cpp -o rectangle; echo 5 6 | ./rectangle"
      ],
      "execution_count": null,
      "outputs": [
        {
          "output_type": "stream",
          "text": [
            "30 22\n"
          ],
          "name": "stdout"
        }
      ]
    },
    {
      "cell_type": "markdown",
      "metadata": {
        "id": "7WEEQyGZg_60"
      },
      "source": [
        "### ITP1_1_D: Watch\n",
        "秒 $S$ を $h:m:s:$ の形式に変換する。\n",
        "\n",
        "例: 46979 => 13:2:59"
      ]
    },
    {
      "cell_type": "code",
      "metadata": {
        "id": "aK6zM5ykj0zK",
        "colab": {
          "base_uri": "https://localhost:8080/"
        },
        "outputId": "fe207239-6597-4aa7-d1cf-90b6145f9a1c"
      },
      "source": [
        "%%writefile watch.cpp\n",
        "#include <iostream>\n",
        "\n",
        "int main (){\n",
        "    int h, m, s;\n",
        "    std::cin >> s;\n",
        "    h = s / 3600;\n",
        "    s %= 3600;\n",
        "    m = s / 60;\n",
        "    s %= 60;\n",
        "    std::cout << h << \":\" << m << \":\" << s << \"\\n\";\n",
        "}\n"
      ],
      "execution_count": null,
      "outputs": [
        {
          "output_type": "stream",
          "text": [
            "Overwriting watch.cpp\n"
          ],
          "name": "stdout"
        }
      ]
    },
    {
      "cell_type": "code",
      "metadata": {
        "id": "TbObXxU4j0n6",
        "colab": {
          "base_uri": "https://localhost:8080/"
        },
        "outputId": "326e3db5-9e93-424b-c7fc-f18464ea04d0"
      },
      "source": [
        "!g++ watch.cpp -o watch; echo 46979 |./watch"
      ],
      "execution_count": null,
      "outputs": [
        {
          "output_type": "stream",
          "text": [
            "13:2:59\n"
          ],
          "name": "stdout"
        }
      ]
    },
    {
      "cell_type": "markdown",
      "metadata": {
        "id": "__duxO9RhD7e"
      },
      "source": [
        "### ITP1_2_A: Small, Large, or Equal\n",
        "２つの整数 $a$, $b$ を読み込んで、$a$ と $b$ の大小関係を出力する。\n",
        "\n",
        "例: 1 2 => a < b\n",
        "\n"
      ]
    },
    {
      "cell_type": "code",
      "metadata": {
        "id": "w5YmL12jy9DD",
        "colab": {
          "base_uri": "https://localhost:8080/"
        },
        "outputId": "bbde1ec0-9e03-48b5-a22d-09a4b4412619"
      },
      "source": [
        "%%writefile smalllarge.cpp\n",
        "\n",
        "#include <iostream>\n",
        "#include <string>\n",
        "\n",
        "int main (){\n",
        "    int a, b;\n",
        "    std::string s;\n",
        "    std::cin >> a >> b;\n",
        "    if (a < b) s = \"a < b\";\n",
        "    else if (a > b) s = \"a > b\";\n",
        "    else s =\"a == b\";\n",
        "    std::cout <<  s << \"\\n\";\n",
        "}\n"
      ],
      "execution_count": null,
      "outputs": [
        {
          "output_type": "stream",
          "text": [
            "Writing smalllarge.cpp\n"
          ],
          "name": "stdout"
        }
      ]
    },
    {
      "cell_type": "code",
      "metadata": {
        "id": "jYpQaXEoy86d",
        "colab": {
          "base_uri": "https://localhost:8080/"
        },
        "outputId": "6173802e-45e9-4057-aa1a-be7e237f20a6"
      },
      "source": [
        "!g++ smalllarge.cpp -o smalllarge; echo 2 2 |./smalllarge"
      ],
      "execution_count": null,
      "outputs": [
        {
          "output_type": "stream",
          "text": [
            "a == b\n"
          ],
          "name": "stdout"
        }
      ]
    },
    {
      "cell_type": "markdown",
      "metadata": {
        "id": "08AyIO3qx2Q9"
      },
      "source": [
        "### ITP1_2_B: Range\n",
        "３つの整数 $a$, $b$, $c$ を読み込み、それらが $a$ < $b$ < $c$ の条件を満たすならば\"Yes\"を、満たさないならば\"No\"を出力する。\n",
        "\n",
        "例: 1 3 8 => Yes"
      ]
    },
    {
      "cell_type": "code",
      "metadata": {
        "id": "mDdA449ROeTE",
        "colab": {
          "base_uri": "https://localhost:8080/"
        },
        "outputId": "50965b07-5a96-4cbd-8afe-86bfe2580343"
      },
      "source": [
        "%%writefile range01.cpp\n",
        "\n",
        "#include <iostream>\n",
        "\n",
        "int main (){\n",
        "    int a, b, c;\n",
        "    std::string s;\n",
        "    std::cin >> a >> b >> c;\n",
        "    if ((a < b) && (b < c)) s = \"Yes\";\n",
        "    else s = \"No\";\n",
        "    std::cout <<  s << \"\\n\";\n",
        "}"
      ],
      "execution_count": null,
      "outputs": [
        {
          "output_type": "stream",
          "text": [
            "Overwriting range01.cpp\n"
          ],
          "name": "stdout"
        }
      ]
    },
    {
      "cell_type": "code",
      "metadata": {
        "id": "vtorNJjNOeFA",
        "colab": {
          "base_uri": "https://localhost:8080/"
        },
        "outputId": "e46b7623-57ef-4bb1-9a80-b458d75d18d2"
      },
      "source": [
        "!g++ range01.cpp -o range01; echo 1 3 8 |./range01"
      ],
      "execution_count": null,
      "outputs": [
        {
          "output_type": "stream",
          "text": [
            "Yes\n"
          ],
          "name": "stdout"
        }
      ]
    },
    {
      "cell_type": "markdown",
      "metadata": {
        "id": "iyoXo1SGx5l7"
      },
      "source": [
        "### ITP1_2_C: Sorting Three Numbers\n",
        "３つの整数を読み込み、それらを値が小さい順に並べて出力する。\n",
        "\n",
        "例: 3 1 8 => 1 3 8"
      ]
    },
    {
      "cell_type": "code",
      "metadata": {
        "id": "JRReTAsqPdSM",
        "colab": {
          "base_uri": "https://localhost:8080/"
        },
        "outputId": "57a630db-a3be-4fb7-c014-d2df0b7e4d91"
      },
      "source": [
        "%%writefile sort3num.cpp\n",
        "#include <iostream>\n",
        "#include <vector>\n",
        "#include <algorithm>\n",
        "\n",
        "int main (){\n",
        "    int x;\n",
        "    std::vector<int> v;\n",
        "    while (std::cin >> x) {\n",
        "        v.push_back(x);\n",
        "    }\n",
        "\n",
        "    std::sort(v.begin(), v.end());\n",
        "\n",
        "    std::cout << v[0] << ' '<< v[1] << ' '<< v[2] << \"\\n\";\n",
        "}"
      ],
      "execution_count": null,
      "outputs": [
        {
          "output_type": "stream",
          "text": [
            "Writing sort3num.cpp\n"
          ],
          "name": "stdout"
        }
      ]
    },
    {
      "cell_type": "code",
      "metadata": {
        "id": "uUarukR2PdvK",
        "colab": {
          "base_uri": "https://localhost:8080/"
        },
        "outputId": "6a3189c8-b7a0-438e-e8fd-aad5bab48f51"
      },
      "source": [
        "!g++ sort3num.cpp -o sort3num; echo 3 1 8 |./sort3num"
      ],
      "execution_count": null,
      "outputs": [
        {
          "output_type": "stream",
          "text": [
            "1 3 8\n"
          ],
          "name": "stdout"
        }
      ]
    },
    {
      "cell_type": "markdown",
      "metadata": {
        "id": "UpNiAmlPx62S"
      },
      "source": [
        "### ITP1_2_D: Circle in a Rectangle\n",
        "長方形の中に円が含まれるかを判定する。長方形は左下の頂点を原点とし、右上の頂点の座標 ($W$, $H$) が与えられ、円はその中心の座標 ($x$, $y$)と半径 $r$ が与えられる。\n",
        "\n",
        "例: 5 4 2 2 1 => Yes"
      ]
    },
    {
      "cell_type": "code",
      "metadata": {
        "id": "5oFMYrCeCXiw",
        "colab": {
          "base_uri": "https://localhost:8080/"
        },
        "outputId": "bc49cf8f-fc5b-4b06-e2cf-6d9293ab622c"
      },
      "source": [
        "%%writefile circleinrectangle.cpp\n",
        "#include <iostream>\n",
        "\n",
        "int main (){\n",
        "  int w, h, x, y, r;\n",
        "  std::string s;\n",
        "  std::cin >> w >> h >> x >> y >> r;\n",
        "  if ((x >= r) && ((w - x) >= r) && (y >= r) && ((h - y) >= r))\n",
        "    s = \"Yes\";\n",
        "  else \n",
        "    s = \"No\";\n",
        "  std::cout <<  s << \"\\n\";\n",
        "}\n"
      ],
      "execution_count": null,
      "outputs": [
        {
          "output_type": "stream",
          "text": [
            "Writing circleinrectangle.cpp\n"
          ],
          "name": "stdout"
        }
      ]
    },
    {
      "cell_type": "code",
      "metadata": {
        "id": "Uujr1e4OCXdA",
        "colab": {
          "base_uri": "https://localhost:8080/"
        },
        "outputId": "e7b16f8f-75e6-47e3-9b20-cb3509e8aa7c"
      },
      "source": [
        "!g++ circleinrectangle.cpp -o circleinrectangle; echo 5 4 2 2 1 |./circleinrectangle"
      ],
      "execution_count": null,
      "outputs": [
        {
          "output_type": "stream",
          "text": [
            "Yes\n"
          ],
          "name": "stdout"
        }
      ]
    },
    {
      "cell_type": "markdown",
      "metadata": {
        "id": "lpLwTcGJx8Hi"
      },
      "source": [
        "### ITP1_3_A: Print Many Hello World\n",
        "1000 個の \"Hello World\" を出力する。 おっと、Colab の環境で1000個出されても困るので10個にしよう。"
      ]
    },
    {
      "cell_type": "code",
      "metadata": {
        "id": "PYe65DyOxGQm",
        "colab": {
          "base_uri": "https://localhost:8080/"
        },
        "outputId": "4293c1f3-80f8-41c0-9195-300540e4f1c6"
      },
      "source": [
        "%%writefile manyhelloworld.cpp\n",
        "#include <iostream>\n",
        "\n",
        "int main(){\n",
        "    for (int i=0; i < 10; i++){\n",
        "        std::cout << \"Hello World\" << \"\\n\";\n",
        "    }\n",
        "}"
      ],
      "execution_count": null,
      "outputs": [
        {
          "output_type": "stream",
          "text": [
            "Overwriting manyhelloworld.cpp\n"
          ],
          "name": "stdout"
        }
      ]
    },
    {
      "cell_type": "code",
      "metadata": {
        "id": "lVK12ZoTxGF3",
        "colab": {
          "base_uri": "https://localhost:8080/"
        },
        "outputId": "05988336-ad3d-4f26-adea-0130a74f78a8"
      },
      "source": [
        "!g++ manyhelloworld.cpp -o manyhelloworld; echo 5 4 2 2 1 |./manyhelloworld"
      ],
      "execution_count": null,
      "outputs": [
        {
          "output_type": "stream",
          "text": [
            "Hello World\n",
            "Hello World\n",
            "Hello World\n",
            "Hello World\n",
            "Hello World\n",
            "Hello World\n",
            "Hello World\n",
            "Hello World\n",
            "Hello World\n",
            "Hello World\n"
          ],
          "name": "stdout"
        }
      ]
    },
    {
      "cell_type": "markdown",
      "metadata": {
        "id": "42x5aLj6NMnw"
      },
      "source": [
        "### ITP1_3_B: Print Test Cases\n",
        "テストケースを出力する。 1行につき、1つの整数 $x$ を読み込み、それをそのまま出力する。\n",
        "\n",
        "$x$ が 0 のとき入力の終わりを示し、出力はない。\n",
        "\n",
        "例: 3 5 11 7 8 19 0 =>  \n",
        "Case 1: 3  \n",
        "Case 2: 5  \n",
        "Case 3: 11  \n",
        "Case 4: 7  \n",
        "Case 5: 8  \n",
        "Case 6: 19  \n"
      ]
    },
    {
      "cell_type": "code",
      "metadata": {
        "id": "upF_09F_xtWw",
        "colab": {
          "base_uri": "https://localhost:8080/"
        },
        "outputId": "07b6b88d-09f8-4a09-a75b-f55266c944ed"
      },
      "source": [
        "%%writefile printestcase.cpp\n",
        "#include <iostream>\n",
        "\n",
        "int main(){\n",
        "    int x;\n",
        "    for (int i=1; ; i++){\n",
        "        std::cin >> x;\n",
        "        if (x == 0) break;\n",
        "        std::cout << \"Case \" << i << \": \" << x << \"\\n\";\n",
        "    }\n",
        "}"
      ],
      "execution_count": null,
      "outputs": [
        {
          "output_type": "stream",
          "text": [
            "Overwriting printestcase.cpp\n"
          ],
          "name": "stdout"
        }
      ]
    },
    {
      "cell_type": "code",
      "metadata": {
        "id": "kNvVXmuXxtMQ",
        "colab": {
          "base_uri": "https://localhost:8080/"
        },
        "outputId": "a463e933-700a-4a20-9f8e-8f15b6ee1fd2"
      },
      "source": [
        "!g++ printestcase.cpp -o printestcase; echo 3 5 11 7 8 19 0 |./printestcase"
      ],
      "execution_count": null,
      "outputs": [
        {
          "output_type": "stream",
          "text": [
            "Case 1: 3\n",
            "Case 2: 5\n",
            "Case 3: 11\n",
            "Case 4: 7\n",
            "Case 5: 8\n",
            "Case 6: 19\n"
          ],
          "name": "stdout"
        }
      ]
    },
    {
      "cell_type": "markdown",
      "metadata": {
        "id": "h0P_lhLix4BL"
      },
      "source": [
        "### ITP1_3_C: Swapping Two Numbers\n",
        "1行につき、2つの整数 $x,y$ を読み込み、それらを値が小さい順に出力する。 $x$ と $y$ がともに 0 のとき入力の終わりで、出力はない。\n",
        "\n",
        "例: 3 2 2 2 5 3 0 0 =>  \n",
        "2 3  \n",
        "2 2  \n",
        "3 5  "
      ]
    },
    {
      "cell_type": "code",
      "metadata": {
        "id": "oAv6fswOzX-Z",
        "colab": {
          "base_uri": "https://localhost:8080/"
        },
        "outputId": "e64d7ed6-e6e2-4015-a981-e15dfb20c916"
      },
      "source": [
        "%%writefile swap2num.cpp\n",
        "#include <iostream>\n",
        "\n",
        "int main(){\n",
        "    int a, b;\n",
        "    while (true) {\n",
        "        std::cin >> a >> b;\n",
        "        if (a == 0 && b == 0) break;\n",
        "        if (a < b) {\n",
        "            std::cout << a << \" \" << b << \"\\n\";\n",
        "        } else {\n",
        "            std::cout << b << \" \" << a << \"\\n\";\n",
        "        }\n",
        "    }\n",
        "    return 0;\n",
        "}"
      ],
      "execution_count": null,
      "outputs": [
        {
          "output_type": "stream",
          "text": [
            "Overwriting swap2num.cpp\n"
          ],
          "name": "stdout"
        }
      ]
    },
    {
      "cell_type": "code",
      "metadata": {
        "id": "BNWeFJBJzkCO",
        "colab": {
          "base_uri": "https://localhost:8080/"
        },
        "outputId": "4f186d68-084e-493b-d0e9-6d1c9d28dd70"
      },
      "source": [
        "!g++ swap2num.cpp -o swap2num; echo 3 2 2 2 5 3 0 0 |./swap2num"
      ],
      "execution_count": null,
      "outputs": [
        {
          "output_type": "stream",
          "text": [
            "2 3\n",
            "2 2\n",
            "3 5\n"
          ],
          "name": "stdout"
        }
      ]
    },
    {
      "cell_type": "markdown",
      "metadata": {
        "id": "g14FT6YDSLcK"
      },
      "source": [
        "### ITP1_3_D: How Many Divisors?\n",
        "3つの整数 $a$、$b$、$c$ を読み込み、$a$ から $b$ までの整数の中に、$c$ の約数がいくつあるかを求める。\n",
        "\n",
        "例: 5 14 80 => 3\n"
      ]
    },
    {
      "cell_type": "code",
      "metadata": {
        "id": "uOwoHSVT11ec",
        "colab": {
          "base_uri": "https://localhost:8080/"
        },
        "outputId": "ad4ddf3a-3369-4d57-830e-0bd2d5d4d5a0"
      },
      "source": [
        "%%writefile howmanydivisor.cpp\n",
        "#include <iostream>\n",
        "\n",
        "int main(){\n",
        "    int a, b, c, f = 0;\n",
        "    std::cin >> a >> b >> c;\n",
        "    for (int x = a; x <= b; x++){\n",
        "        if (c % x == 0) f++;\n",
        "    }\n",
        "    std::cout << f << \"\\n\";\n",
        "    return 0;\n",
        "}\n"
      ],
      "execution_count": null,
      "outputs": [
        {
          "output_type": "stream",
          "text": [
            "Overwriting howmanydivisor.cpp\n"
          ],
          "name": "stdout"
        }
      ]
    },
    {
      "cell_type": "code",
      "metadata": {
        "id": "Os1_6Y0111T1",
        "colab": {
          "base_uri": "https://localhost:8080/"
        },
        "outputId": "4e724caa-8426-432a-aa06-a23684895841"
      },
      "source": [
        "!g++ howmanydivisor.cpp -o howmanydivisor; echo 5 14 80 |./howmanydivisor"
      ],
      "execution_count": null,
      "outputs": [
        {
          "output_type": "stream",
          "text": [
            "3\n"
          ],
          "name": "stdout"
        }
      ]
    },
    {
      "cell_type": "markdown",
      "metadata": {
        "id": "iG1eyRf9SNQx"
      },
      "source": [
        "### ITP1_4_A: A / B Problem\n",
        "割り算。2つの整数 $a$ と $b$ を読み込んで、以下の値を計算する。\n",
        "- a ÷ b : $d$ (整数)\n",
        "- a ÷ b の余り $r$ (整数)\n",
        "- a ÷ b : $f$ (浮動小数点数)\n",
        "\n",
        "例: 3 2 => 1 1 1.50000\n"
      ]
    },
    {
      "cell_type": "code",
      "metadata": {
        "id": "AE8L0ved21yi",
        "colab": {
          "base_uri": "https://localhost:8080/"
        },
        "outputId": "8cd15547-0ff8-4235-f3bc-63753ee8fa30"
      },
      "source": [
        "%%writefile adivbproblem.cpp\n",
        "#include <iostream>\n",
        "#include <iomanip>\n",
        "\n",
        "int main(){\n",
        "    int a, b;\n",
        "    std::cin >> a >> b;\n",
        "    std::cout << a/b << \" \" << a%b << \" \"  << std::fixed << std::setprecision(5) << (double)a/b << \"\\n\";\n",
        "    return 0;\n",
        "}"
      ],
      "execution_count": 67,
      "outputs": [
        {
          "output_type": "stream",
          "text": [
            "Overwriting adivbproblem.cpp\n"
          ],
          "name": "stdout"
        }
      ]
    },
    {
      "cell_type": "code",
      "metadata": {
        "id": "aiWNoNWQ21mS",
        "colab": {
          "base_uri": "https://localhost:8080/"
        },
        "outputId": "b7e0e3ce-f419-4e32-c598-fbdac64863a0"
      },
      "source": [
        "!g++ adivbproblem.cpp -o adivbproblem; echo 3 2 |./adivbproblem"
      ],
      "execution_count": 68,
      "outputs": [
        {
          "output_type": "stream",
          "text": [
            "1 1 1.50000\n"
          ],
          "name": "stdout"
        }
      ]
    },
    {
      "cell_type": "markdown",
      "metadata": {
        "id": "Pr9TrQWUSOdw"
      },
      "source": [
        "### ITP1_4_B: Circle\n",
        "半径 r の円の面積と円周の長さを求める。\n",
        "\n",
        "例: 3 => 28.274334 18.849556"
      ]
    },
    {
      "cell_type": "code",
      "metadata": {
        "id": "BCuR9r3rKAvd",
        "outputId": "2b0beb65-50e6-4d76-d1c6-b7ac484b348c",
        "colab": {
          "base_uri": "https://localhost:8080/"
        }
      },
      "source": [
        "%%writefile circle01.cpp\n",
        "#include <iostream>\n",
        "#include <iomanip>\n",
        "\n",
        "int main(){\n",
        "    double PI = 3.141592653589;\n",
        "    double r;\n",
        "    std::cin >> r;\n",
        "    std::cout << std::fixed << std::setprecision(6) << PI*r*r << \" \" << 2*PI*r << \"\\n\";\n",
        "}"
      ],
      "execution_count": 78,
      "outputs": [
        {
          "output_type": "stream",
          "text": [
            "Overwriting circle01.cpp\n"
          ],
          "name": "stdout"
        }
      ]
    },
    {
      "cell_type": "code",
      "metadata": {
        "id": "04uTX8rsKAhN",
        "outputId": "0da7e97b-2f66-4c4b-f432-b40592919827",
        "colab": {
          "base_uri": "https://localhost:8080/"
        }
      },
      "source": [
        "!g++ circle01.cpp -o circle01; echo 3 |./circle01"
      ],
      "execution_count": 79,
      "outputs": [
        {
          "output_type": "stream",
          "text": [
            "28.274334 18.849556\n"
          ],
          "name": "stdout"
        }
      ]
    },
    {
      "cell_type": "markdown",
      "metadata": {
        "id": "t09FxOa1SSaR"
      },
      "source": [
        "### ITP1_4_C: Simple Calculator\n",
        "２つの整数 $a$, $b$ と１つの演算子 op を読み込んで、$a$ op $b$ を計算する。\n",
        "演算子 op は、\"+\"(和)、\"-\"(差)、\"*\"(積)、\"/\"(商)、のみとし、割り算で割り切れない場合は、小数点以下を切り捨てたものを計算結果とする。\n",
        "op が '?' のとき 入力の終わり。\n",
        "\n",
        "例: 1 + 2 56 - 18 13 * 2 100 / 10 27 + 81 0 ? 0  =>  \n",
        "3  \n",
        "38  \n",
        "26  \n",
        "10  \n",
        "108  "
      ]
    },
    {
      "cell_type": "code",
      "metadata": {
        "id": "5mbtfkNRLvAq",
        "outputId": "1b07d45b-2285-438d-e8e6-87b35c8e320d",
        "colab": {
          "base_uri": "https://localhost:8080/"
        }
      },
      "source": [
        "%%writefile simplecalculator.cpp\n",
        "#include <iostream>\n",
        "int main(){\n",
        "    int a, b;\n",
        "    char op;\n",
        "\n",
        "    while (true) {\n",
        "        std::cin >> a >> op >> b;\n",
        "        if (op == '?') break;\n",
        "        if (op == '+') std::cout << a + b << \"\\n\";\n",
        "        else if (op == '-') std::cout << a - b << \"\\n\";\n",
        "        else if (op == '*') std::cout << a * b << \"\\n\";\n",
        "        else if (op == '/') std::cout << a / b << \"\\n\";\n",
        "    };\n",
        "    return 0;\n",
        "}"
      ],
      "execution_count": 86,
      "outputs": [
        {
          "output_type": "stream",
          "text": [
            "Overwriting simplecalculator.cpp\n"
          ],
          "name": "stdout"
        }
      ]
    },
    {
      "cell_type": "code",
      "metadata": {
        "id": "IG_g5ecpLu2h",
        "outputId": "bd45703a-4264-47bc-80be-3eb48fdc2b9e",
        "colab": {
          "base_uri": "https://localhost:8080/"
        }
      },
      "source": [
        "!g++ simplecalculator.cpp -o simplecalculator; echo 1 + 2 56 - 18 13 \\* 2 100 / 10 27 + 81 0 ? 0 |./simplecalculator"
      ],
      "execution_count": 88,
      "outputs": [
        {
          "output_type": "stream",
          "text": [
            "3\n",
            "38\n",
            "26\n",
            "10\n",
            "108\n"
          ],
          "name": "stdout"
        }
      ]
    },
    {
      "cell_type": "markdown",
      "metadata": {
        "id": "FZ7XPafQNzgU"
      },
      "source": [
        "# いまここ"
      ]
    },
    {
      "cell_type": "markdown",
      "metadata": {
        "id": "xSXjkxUWSTov"
      },
      "source": [
        "### ITP1_4_D: Min, Max and Sum\n",
        "\"n\" 個の整数 $a_i\"(\"i\"=1,2,...\"n\")について、最大値、最小値、合計値を求める。\n",
        "\n",
        "例: 5 10 1 5 4 17 => 1 17 37\n"
      ]
    },
    {
      "cell_type": "code",
      "metadata": {
        "id": "KnCqqTPoElUQ",
        "colab": {
          "base_uri": "https://localhost:8080/"
        },
        "outputId": "c4577893-274d-476e-c08b-2e5ff0551280"
      },
      "source": [
        "%%writefile minmaxsum.cpp\n",
        "#include <stdio.h>\n",
        "#include <algorithm>\n",
        "using namespace std;\n",
        "\n",
        "int main(){\n",
        "\tint n,max_num = -1000001,min_num = 1000001,tmp;\n",
        "\tlong long int sum = 0;\n",
        "\tscanf(\"%d\",&n);\n",
        "\tfor(int i = 0; i < n; i++){\n",
        "\t\tscanf(\"%d\",&tmp);\n",
        "\t\tsum += tmp;\n",
        "\t\tmax_num = max(max_num,tmp);\n",
        "\t\tmin_num = min(min_num,tmp);\n",
        "\t}\n",
        "\tprintf(\"%d %d %lld\\n\",min_num,max_num,sum);\n",
        "}"
      ],
      "execution_count": null,
      "outputs": [
        {
          "output_type": "stream",
          "text": [
            "Overwriting minmaxsum.cpp\n"
          ],
          "name": "stdout"
        }
      ]
    },
    {
      "cell_type": "code",
      "metadata": {
        "id": "xs2uvrODElJy",
        "colab": {
          "base_uri": "https://localhost:8080/"
        },
        "outputId": "d258fdd2-a18a-4af5-a296-ee037f68a057"
      },
      "source": [
        "!g++ minmaxsum.cpp -o minmaxsum; echo 3 1 8 7|./minmaxsum"
      ],
      "execution_count": null,
      "outputs": [
        {
          "output_type": "stream",
          "text": [
            "1 8 16\n"
          ],
          "name": "stdout"
        }
      ]
    },
    {
      "cell_type": "markdown",
      "metadata": {
        "id": "R32rAAK3d9o1"
      },
      "source": [
        "### ITP1_5_A: Print a Rectangle\n"
      ]
    },
    {
      "cell_type": "markdown",
      "metadata": {
        "id": "MFuMIws1d_UU"
      },
      "source": [
        "### ITP1_5_B: Print a Frame\n"
      ]
    },
    {
      "cell_type": "markdown",
      "metadata": {
        "id": "9N4Fbcu3eApD"
      },
      "source": [
        "### ITP1_5_C: Print a Chessboard\n"
      ]
    },
    {
      "cell_type": "markdown",
      "metadata": {
        "id": "5FNV97PxeD1T"
      },
      "source": [
        "### ITP1_5_D: Structured Programming\n"
      ]
    },
    {
      "cell_type": "markdown",
      "metadata": {
        "id": "9L0wG7bihNoT"
      },
      "source": [
        "### ITP1_6_A: Reversing Numbers\n",
        "\n"
      ]
    },
    {
      "cell_type": "markdown",
      "metadata": {
        "id": "qk8oT8IkeF-a"
      },
      "source": [
        "### ITP1_6_B: Finding Missing Cards\n",
        "\n"
      ]
    },
    {
      "cell_type": "markdown",
      "metadata": {
        "id": "gl6V6UdpeHlS"
      },
      "source": [
        "### ITP1_6_C: Official House\n",
        "\n"
      ]
    },
    {
      "cell_type": "markdown",
      "metadata": {
        "id": "MoY5kTtheI2a"
      },
      "source": [
        "### ITP1_6_D: Matrix Vector Multiplication\n",
        "\n"
      ]
    },
    {
      "cell_type": "markdown",
      "metadata": {
        "id": "GPZkGO9veKYa"
      },
      "source": [
        "### ITP1_7_A: Grading\n",
        "\n"
      ]
    },
    {
      "cell_type": "markdown",
      "metadata": {
        "id": "33s4FHAneLdi"
      },
      "source": [
        "### ITP1_7_B: How many ways?\n",
        "\n"
      ]
    },
    {
      "cell_type": "markdown",
      "metadata": {
        "id": "el6wucfdeMlK"
      },
      "source": [
        "### ITP1_7_C: Spreadsheet\n",
        "\n"
      ]
    },
    {
      "cell_type": "markdown",
      "metadata": {
        "id": "D3nNxCEneNZB"
      },
      "source": [
        "### ITP1_7_D: Matrix Multiplication\n",
        "\n"
      ]
    },
    {
      "cell_type": "markdown",
      "metadata": {
        "id": "75e9hXNreOHp"
      },
      "source": [
        "### ITP1_8_A: Toggling Cases\n",
        "\n"
      ]
    },
    {
      "cell_type": "markdown",
      "metadata": {
        "id": "J5whLVdFePDp"
      },
      "source": [
        "### ITP1_8_B: Sum of Numbers\n",
        "\n"
      ]
    },
    {
      "cell_type": "markdown",
      "metadata": {
        "id": "NyNPaOkJePxB"
      },
      "source": [
        "### ITP1_8_C: Counting Characters\n",
        "\n"
      ]
    },
    {
      "cell_type": "markdown",
      "metadata": {
        "id": "ZumzW0lMeQdR"
      },
      "source": [
        "### ITP1_8_D: Ring\n",
        "\n"
      ]
    },
    {
      "cell_type": "markdown",
      "metadata": {
        "id": "P7WavdkReROB"
      },
      "source": [
        "### ITP1_9_A: Finding a Word\n",
        "\n"
      ]
    },
    {
      "cell_type": "markdown",
      "metadata": {
        "id": "FIfUnFWKeR6Z"
      },
      "source": [
        "### ITP1_9_B: Shuffle\n",
        "\n"
      ]
    },
    {
      "cell_type": "markdown",
      "metadata": {
        "id": "nLP0EvwueSsx"
      },
      "source": [
        "### ITP1_9_C: Card Game\n"
      ]
    },
    {
      "cell_type": "markdown",
      "metadata": {
        "id": "Bog1bWnRhO97"
      },
      "source": [
        "### ITP1_9_D: Transformation\n",
        "\n"
      ]
    },
    {
      "cell_type": "markdown",
      "metadata": {
        "id": "nzLLtKkheUhg"
      },
      "source": [
        "### ITP1_10_A: Distance\n",
        "\n"
      ]
    },
    {
      "cell_type": "markdown",
      "metadata": {
        "id": "pMeeTmvoeWNA"
      },
      "source": [
        "### ITP1_10_B: Triangle\n",
        "\n"
      ]
    },
    {
      "cell_type": "markdown",
      "metadata": {
        "id": "WDreN0SVeXVw"
      },
      "source": [
        "### ITP1_10_C: Standard Deviation\n"
      ]
    },
    {
      "cell_type": "markdown",
      "metadata": {
        "id": "HwCRABjKhP9r"
      },
      "source": [
        "\n",
        "### ITP1_10_D: Distance II\n"
      ]
    },
    {
      "cell_type": "markdown",
      "metadata": {
        "id": "NoN0066LhR2i"
      },
      "source": [
        "### ITP1_11_A: Dice I\n",
        "\n"
      ]
    },
    {
      "cell_type": "markdown",
      "metadata": {
        "id": "0X6q4Qh-eZF4"
      },
      "source": [
        "### ITP1_11_B: Dice II\n",
        "\n"
      ]
    },
    {
      "cell_type": "markdown",
      "metadata": {
        "id": "Z7ub_XCLeZzn"
      },
      "source": [
        "### ITP1_11_C: Dice III\n"
      ]
    },
    {
      "cell_type": "markdown",
      "metadata": {
        "id": "vsEVM-knhMRz"
      },
      "source": [
        "### ITP1_11_D: Dice IV\n"
      ]
    },
    {
      "cell_type": "markdown",
      "metadata": {
        "id": "M5jGhwlZedZz"
      },
      "source": [
        "# ALDS1 Algorithms and Data Structures I アルゴリズムとデータ構造入門\n"
      ]
    },
    {
      "cell_type": "markdown",
      "metadata": {
        "id": "dgRpWMNM5f5B"
      },
      "source": [
        "### ALDS1_1_A: Insertion Sort\n"
      ]
    },
    {
      "cell_type": "code",
      "metadata": {
        "id": "wWIeY-3E7WG7",
        "colab": {
          "base_uri": "https://localhost:8080/"
        },
        "outputId": "02675017-c16c-47fa-a312-73cd7308f238"
      },
      "source": [
        "%%writefile insertionsort.cpp\n",
        "#include <bits/stdc++.h>\n",
        "using namespace std;\n",
        "\n",
        "int main() {\n",
        "  int N; cin >> N;\n",
        "  vector<int> A(N);\n",
        "  for (int i = 0; i < N; i++) cin >> A.at(i);\n",
        "\n",
        "  // 挿入ソート\n",
        "  // i : 未ソートの部分列の先頭を示すループ変数\n",
        "  // v : A.at(i) の値を一時的に保存しておくための変数\n",
        "  // j : ソート済み部分列から v を挿入するための位置を探すループ変数\n",
        "  for (int i = 0; i < N; i++) {\n",
        "    int v = A.at(i);\n",
        "    int j = i-1;\n",
        "    while (j >= 0 && A.at(j) > v) {\n",
        "      A.at(j+1) = A.at(j);\n",
        "      j--;\n",
        "    }\n",
        "    A.at(j+1) = v;\n",
        "\n",
        "    // 出力\n",
        "    for (int k = 0; k < N-1; k++) cout << A.at(k) << \" \";\n",
        "    cout << A.at(N-1) << endl;\n",
        "  }\n",
        "}"
      ],
      "execution_count": null,
      "outputs": [
        {
          "output_type": "stream",
          "text": [
            "Writing insertionsort.cpp\n"
          ],
          "name": "stdout"
        }
      ]
    },
    {
      "cell_type": "code",
      "metadata": {
        "id": "8MteZngA7V7u",
        "colab": {
          "base_uri": "https://localhost:8080/"
        },
        "outputId": "86e4b166-2eaa-4df0-c75c-276a5a50c6af"
      },
      "source": [
        "!g++ insertionsort.cpp -o insertionsort; echo 5 4 2 2 1 2 |./insertionsort"
      ],
      "execution_count": null,
      "outputs": [
        {
          "output_type": "stream",
          "text": [
            "4 2 2 1 2\n",
            "2 4 2 1 2\n",
            "2 2 4 1 2\n",
            "1 2 2 4 2\n",
            "1 2 2 2 4\n"
          ],
          "name": "stdout"
        }
      ]
    },
    {
      "cell_type": "markdown",
      "metadata": {
        "id": "2Z-Bdtte51W-"
      },
      "source": [
        "### ALDS1_1_B: Greatest Common Divisor\n"
      ]
    },
    {
      "cell_type": "markdown",
      "metadata": {
        "id": "52uHyHlN52Xk"
      },
      "source": [
        "### ALDS1_1_C: Prime Numbers\n"
      ]
    },
    {
      "cell_type": "markdown",
      "metadata": {
        "id": "_IwGXudx53ds"
      },
      "source": [
        "### ALDS1_1_D: Maximum Profit\n"
      ]
    },
    {
      "cell_type": "markdown",
      "metadata": {
        "id": "KA_9W4gE544k"
      },
      "source": [
        "### ALDS1_2_A: Bubble Sort\n"
      ]
    },
    {
      "cell_type": "markdown",
      "metadata": {
        "id": "rDCjE3hF56D9"
      },
      "source": [
        "### ALDS1_2_B: Selection Sort\n"
      ]
    },
    {
      "cell_type": "markdown",
      "metadata": {
        "id": "9ot8wAOE57PO"
      },
      "source": [
        "### ALDS1_2_C: Stable Sort\n"
      ]
    },
    {
      "cell_type": "markdown",
      "metadata": {
        "id": "av7-B9NV58y6"
      },
      "source": [
        "### ALDS1_3_A: Stack\n"
      ]
    },
    {
      "cell_type": "markdown",
      "metadata": {
        "id": "_aKlN4EE5-B6"
      },
      "source": [
        "### ALDS1_3_B: Queue\n"
      ]
    },
    {
      "cell_type": "markdown",
      "metadata": {
        "id": "QVbJHulY5_Cy"
      },
      "source": [
        "### ALDS1_3_C: Doubly Linked List\n"
      ]
    },
    {
      "cell_type": "markdown",
      "metadata": {
        "id": "BEYYKvyf6AA6"
      },
      "source": [
        "### ALDS1_3_D: Areas on the Cross-Section Diagram\n"
      ]
    },
    {
      "cell_type": "markdown",
      "metadata": {
        "id": "fpbvBt9r6BAR"
      },
      "source": [
        "### ALDS1_4_A: Linear Search\n"
      ]
    },
    {
      "cell_type": "markdown",
      "metadata": {
        "id": "OKaHxk6t6CEi"
      },
      "source": [
        "### ALDS1_4_B: Binary Search\n"
      ]
    },
    {
      "cell_type": "markdown",
      "metadata": {
        "id": "37EPC_wD6DBh"
      },
      "source": [
        "### ALDS1_4_C: Dictionary\n"
      ]
    },
    {
      "cell_type": "markdown",
      "metadata": {
        "id": "alDoe2pT6D5B"
      },
      "source": [
        "### ALDS1_4_D: Allocation\n"
      ]
    },
    {
      "cell_type": "markdown",
      "metadata": {
        "id": "5_0yoYNR6Exx"
      },
      "source": [
        "### ALDS1_5_A: Exhaustive Search\n"
      ]
    },
    {
      "cell_type": "markdown",
      "metadata": {
        "id": "YB5qhL2z6FxQ"
      },
      "source": [
        "### ALDS1_5_B: Merge Sort\n"
      ]
    },
    {
      "cell_type": "markdown",
      "metadata": {
        "id": "mHBEfYte6GqQ"
      },
      "source": [
        "### ALDS1_5_C: Koch Curve\n"
      ]
    },
    {
      "cell_type": "markdown",
      "metadata": {
        "id": "ZVHmAH9k6IIf"
      },
      "source": [
        "### ALDS1_5_D: The Number of Inversions\n"
      ]
    },
    {
      "cell_type": "markdown",
      "metadata": {
        "id": "E0jJF7W06JAA"
      },
      "source": [
        "### ALDS1_6_A: Counting Sort\n"
      ]
    },
    {
      "cell_type": "markdown",
      "metadata": {
        "id": "szEqSVYb6J1H"
      },
      "source": [
        "### ALDS1_6_B: Partition\n"
      ]
    },
    {
      "cell_type": "markdown",
      "metadata": {
        "id": "c5B-Wl3q6K8P"
      },
      "source": [
        "### ALDS1_6_C: Quick Sort\n"
      ]
    },
    {
      "cell_type": "markdown",
      "metadata": {
        "id": "E0rbmk966MDf"
      },
      "source": [
        "### ALDS1_6_D: Minimum Cost Sort\n"
      ]
    },
    {
      "cell_type": "markdown",
      "metadata": {
        "id": "8pl2osYG6M3P"
      },
      "source": [
        "### ALDS1_7_A: Rooted Trees\n"
      ]
    },
    {
      "cell_type": "markdown",
      "metadata": {
        "id": "x_0_gNKn6NzG"
      },
      "source": [
        "### ALDS1_7_B: Binary Trees\n"
      ]
    },
    {
      "cell_type": "markdown",
      "metadata": {
        "id": "jYALNOZ16PWG"
      },
      "source": [
        "### ALDS1_7_C: Tree Walk\n"
      ]
    },
    {
      "cell_type": "markdown",
      "metadata": {
        "id": "DmTIG_xR6QKm"
      },
      "source": [
        "### ALDS1_7_D: Reconstruction of a Tree\n"
      ]
    },
    {
      "cell_type": "markdown",
      "metadata": {
        "id": "s4SDNt7O6RM2"
      },
      "source": [
        "### ALDS1_8_A: Binary Search Tree I\n"
      ]
    },
    {
      "cell_type": "markdown",
      "metadata": {
        "id": "Pus6KCrN6SBl"
      },
      "source": [
        "### ALDS1_8_B: Binary Search Tree II\n"
      ]
    },
    {
      "cell_type": "markdown",
      "metadata": {
        "id": "0VvNOJXu6S0F"
      },
      "source": [
        "### ALDS1_8_C: Binary Search Tree III\n"
      ]
    },
    {
      "cell_type": "markdown",
      "metadata": {
        "id": "ApYo0eho6Tk9"
      },
      "source": [
        "### ALDS1_8_D: Treap\n"
      ]
    },
    {
      "cell_type": "markdown",
      "metadata": {
        "id": "2cWVvwGQ6Uhp"
      },
      "source": [
        "### ALDS1_9_A: Complete Binary Tree\n"
      ]
    },
    {
      "cell_type": "markdown",
      "metadata": {
        "id": "D6VvvJVk6V3c"
      },
      "source": [
        "### ALDS1_9_B: Maximum Heap\n"
      ]
    },
    {
      "cell_type": "markdown",
      "metadata": {
        "id": "SucopzHd6WvU"
      },
      "source": [
        "### ALDS1_9_C: Priority Queue\n"
      ]
    },
    {
      "cell_type": "markdown",
      "metadata": {
        "id": "vL7hPhDm6X4M"
      },
      "source": [
        "### ALDS1_10_A: Fibonacci Number\n"
      ]
    },
    {
      "cell_type": "markdown",
      "metadata": {
        "id": "V9y-NAQy6ZKL"
      },
      "source": [
        "### ALDS1_10_B: Matrix Chain Multiplication\n"
      ]
    },
    {
      "cell_type": "markdown",
      "metadata": {
        "id": "o4JdofIl6aFz"
      },
      "source": [
        "### ALDS1_10_C: Longest Common Subsequence\n"
      ]
    },
    {
      "cell_type": "markdown",
      "metadata": {
        "id": "-ZcQZvrQ6dPj"
      },
      "source": [
        "### ALDS1_11_A: Graph\n"
      ]
    },
    {
      "cell_type": "markdown",
      "metadata": {
        "id": "RY4VFxpJ6eoP"
      },
      "source": [
        "### ALDS1_11_B: Depth First Search\n"
      ]
    },
    {
      "cell_type": "markdown",
      "metadata": {
        "id": "WgkQGomu6iP5"
      },
      "source": [
        "### ALDS1_11_C: Breadth First Search\n"
      ]
    },
    {
      "cell_type": "markdown",
      "metadata": {
        "id": "2RPOcw-U6jPZ"
      },
      "source": [
        "### ALDS1_11_D: Connected Components\n"
      ]
    },
    {
      "cell_type": "markdown",
      "metadata": {
        "id": "vOT6-Xk56kJp"
      },
      "source": [
        "### ALDS1_12_A: Minimum Spanning Tree\n"
      ]
    },
    {
      "cell_type": "markdown",
      "metadata": {
        "id": "1aWc8YGW6ldx"
      },
      "source": [
        "### ALDS1_12_B: Single Source Shortest Path I\n"
      ]
    },
    {
      "cell_type": "markdown",
      "metadata": {
        "id": "ay3wBAmH6mb4"
      },
      "source": [
        "### ALDS1_12_C: Single Source Shortest Path II\n"
      ]
    },
    {
      "cell_type": "markdown",
      "metadata": {
        "id": "MWeQ-zPe6nTR"
      },
      "source": [
        "### ALDS1_13_A: 8 Queens Problem\n"
      ]
    },
    {
      "cell_type": "markdown",
      "metadata": {
        "id": "JKl3FCju6oOH"
      },
      "source": [
        "### ALDS1_13_B: 8 Puzzle\n"
      ]
    },
    {
      "cell_type": "markdown",
      "metadata": {
        "id": "PYjU2Gis6pRQ"
      },
      "source": [
        "### ALDS1_13_C: 15 Puzzle\n"
      ]
    },
    {
      "cell_type": "markdown",
      "metadata": {
        "id": "YVQXVue_6qNI"
      },
      "source": [
        "### ALDS1_14_A: Naive String Search\n"
      ]
    },
    {
      "cell_type": "markdown",
      "metadata": {
        "id": "WYeiAaKf6rKH"
      },
      "source": [
        "### ALDS1_14_B: String Search\n"
      ]
    },
    {
      "cell_type": "markdown",
      "metadata": {
        "id": "UI6kfrYa6sDX"
      },
      "source": [
        "### ALDS1_14_C: Pattern Search\n"
      ]
    },
    {
      "cell_type": "markdown",
      "metadata": {
        "id": "QJulQmps6tMn"
      },
      "source": [
        "### ALDS1_14_D: Multiple String Matching\n"
      ]
    },
    {
      "cell_type": "markdown",
      "metadata": {
        "id": "rF_XAz_96uLP"
      },
      "source": [
        "### ALDS1_15_A: Change Making\n"
      ]
    },
    {
      "cell_type": "markdown",
      "metadata": {
        "id": "5mKMHoDt6vEB"
      },
      "source": [
        "### ALDS1_15_C: Activity Selection Problem\n"
      ]
    },
    {
      "cell_type": "markdown",
      "metadata": {
        "id": "1GWivCmx6v-W"
      },
      "source": [
        "### ALDS1_15_D: Huffman Coding\n"
      ]
    }
  ]
}