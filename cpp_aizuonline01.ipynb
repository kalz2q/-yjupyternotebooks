{
  "nbformat": 4,
  "nbformat_minor": 0,
  "metadata": {
    "colab": {
      "name": "cpp_aizuonline01.ipynb",
      "provenance": [],
      "authorship_tag": "ABX9TyO+gKrdzY+Ia3jb+Jw/LV0G",
      "include_colab_link": true
    },
    "kernelspec": {
      "name": "python3",
      "display_name": "Python 3"
    }
  },
  "cells": [
    {
      "cell_type": "markdown",
      "metadata": {
        "id": "view-in-github",
        "colab_type": "text"
      },
      "source": [
        "<a href=\"https://colab.research.google.com/github/kalz2q/mycolabnotebooks/blob/master/cpp_aizuonline01.ipynb\" target=\"_parent\"><img src=\"https://colab.research.google.com/assets/colab-badge.svg\" alt=\"Open In Colab\"/></a>"
      ]
    },
    {
      "cell_type": "markdown",
      "metadata": {
        "id": "yyDogo8E0a-k"
      },
      "source": [
        "# メモ\n",
        "\n",
        "1. このノートブックは Colab で書かれて、読まれることを想定している。\n",
        "1. 今回のアイデアはAOJ (Aizu Online Judge) のコース問題を Colab化してみよう、というもの。\n",
        "1. Aizu Online Judge https://onlinejudge.u-aizu.ac.jp/courses/list\n",
        "1. プログラム言語はC++を使う"
      ]
    },
    {
      "cell_type": "markdown",
      "metadata": {
        "id": "Sq6ot_P704rT"
      },
      "source": [
        "# 問題セット\n",
        "\n",
        "1. ITP1 Introduction to Programming I プログラミング入門\n",
        "1. ALDS1 Algorithms and Data Structures I アルゴリズムとデータ構造入門\n",
        "1. ITP2 Introduction to Programming II プログラミング応用\n",
        "1. DSL Data Sets and Queries データの集合とクエリ処理\n",
        "1. DPL Discrete Optimization Problems 組み合わせ最適化\n",
        "1. GRL Graph Algorithms グラフ\n",
        "1. CGL Computational Geometry 計算幾何学\n",
        "1. NTL Number Theory 整数論"
      ]
    },
    {
      "cell_type": "markdown",
      "metadata": {
        "id": "pGCikRlD4c0G"
      },
      "source": [
        "# ITP1 Introduction to Programming I プログラミング入門\n",
        "\n",
        "ITP1_1_A: Hello World  \n",
        "ITP1_1_B: X Cubic  \n",
        "ITP1_1_C: Rectangle  \n",
        "ITP1_1_D: Watch  \n",
        "ITP1_2_A: Small, Large, or Equal  \n",
        "ITP1_2_B: Range  \n",
        "ITP1_2_C: Sorting Three Numbers  \n",
        "ITP1_2_D: Circle in a Rectangle  \n",
        "ITP1_3_A: Print Many Hello World  \n",
        "ITP1_3_B: Print Test Cases  \n",
        "ITP1_3_C: Swapping Two Numbers  \n",
        "ITP1_3_D: How Many Divisors?  \n",
        "ITP1_4_A: A / B Problem  \n",
        "ITP1_4_B: Circle  \n",
        "ITP1_4_C: Simple Calculator  \n",
        "ITP1_4_D: Min, Max and Sum  \n",
        "ITP1_5_A: Print a Rectangle  \n",
        "ITP1_5_B: Print a Frame  \n",
        "ITP1_5_C: Print a Chessboard  \n",
        "ITP1_5_D: Structured Programming  \n",
        "ITP1_6_A: Reversing Numbers  \n",
        "ITP1_6_B: Finding Missing Cards  \n",
        "ITP1_6_C: Official House  \n",
        "ITP1_6_D: Matrix Vector Multiplication  \n",
        "ITP1_7_A: Grading  \n",
        "ITP1_7_B: How many ways?  \n",
        "ITP1_7_C: Spreadsheet  \n",
        "ITP1_7_D: Matrix Multiplication  \n",
        "ITP1_8_A: Toggling Cases  \n",
        "ITP1_8_B: Sum of Numbers  \n",
        "ITP1_8_C: Counting Characters  \n",
        "ITP1_8_D: Ring  \n",
        "ITP1_9_A: Finding a Word  \n",
        "ITP1_9_B: Shuffle  \n",
        "ITP1_9_C: Card Game  \n",
        "ITP1_9_D: Transformation  \n",
        "ITP1_10_A: Distance  \n",
        "ITP1_10_B: Triangle  \n",
        "ITP1_10_C: Standard Deviation  \n",
        "ITP1_10_D: Distance II  \n",
        "ITP1_11_A: Dice I  \n",
        "ITP1_11_B: Dice II  \n",
        "ITP1_11_C: Dice III  \n",
        "ITP1_11_D: Dice IV  \n",
        "\n"
      ]
    },
    {
      "cell_type": "markdown",
      "metadata": {
        "id": "oFZ0BDtT7Q-k"
      },
      "source": [
        "### ITP1_1_A: Hello World  \n",
        "\n",
        "\"Hello World\" と一行に出力する。"
      ]
    },
    {
      "cell_type": "code",
      "metadata": {
        "colab": {
          "base_uri": "https://localhost:8080/"
        },
        "id": "prf6Ks5V741Q",
        "outputId": "59b9ad64-7f42-4d30-fa82-87e00f1a39dd"
      },
      "source": [
        "%%writefile hello01.cpp\n",
        "#include <iostream>\n",
        "int main (){\n",
        "  std::cout << \"Hello World\"<< \"\\n\";\n",
        "}\n"
      ],
      "execution_count": 3,
      "outputs": [
        {
          "output_type": "stream",
          "text": [
            "Overwriting hello01.cpp\n"
          ],
          "name": "stdout"
        }
      ]
    },
    {
      "cell_type": "code",
      "metadata": {
        "colab": {
          "base_uri": "https://localhost:8080/"
        },
        "id": "WjtbClzP0TQs",
        "outputId": "b79c784c-7a94-4266-85e9-775e05e3c63c"
      },
      "source": [
        "!g++ hello01.cpp -o hello01; ./hello01"
      ],
      "execution_count": 4,
      "outputs": [
        {
          "output_type": "stream",
          "text": [
            "Hello World\n"
          ],
          "name": "stdout"
        }
      ]
    },
    {
      "cell_type": "markdown",
      "metadata": {
        "id": "aGd4C-NC9mdn"
      },
      "source": [
        "### ITP1_1_B: X Cubic\n",
        "\n",
        "$x$ の３乗の計算結果を１行に出力する。"
      ]
    },
    {
      "cell_type": "code",
      "metadata": {
        "colab": {
          "base_uri": "https://localhost:8080/"
        },
        "id": "gNacblgN9fTg",
        "outputId": "5c74b6e0-ea04-4848-ba36-d5ea2dcdfa61"
      },
      "source": [
        "%%writefile xcubic01.cpp\n",
        "#include <iostream>\n",
        "\n",
        "int main (){\n",
        "    int x;\n",
        "    std::cin >> x;\n",
        "    std::cout << x*x*x << \"\\n\";\n",
        "}\n"
      ],
      "execution_count": 5,
      "outputs": [
        {
          "output_type": "stream",
          "text": [
            "Writing xcubic01.cpp\n"
          ],
          "name": "stdout"
        }
      ]
    },
    {
      "cell_type": "code",
      "metadata": {
        "colab": {
          "base_uri": "https://localhost:8080/"
        },
        "id": "NnwRLR_f90hp",
        "outputId": "62627935-a1ea-4597-a800-ac0ee406dd22"
      },
      "source": [
        "!g++ xcubic01.cpp -o xcubic01; echo 10 | ./xcubic01"
      ],
      "execution_count": 6,
      "outputs": [
        {
          "output_type": "stream",
          "text": [
            "1000\n"
          ],
          "name": "stdout"
        }
      ]
    },
    {
      "cell_type": "markdown",
      "metadata": {
        "id": "r_VmKM4-qM2A"
      },
      "source": [
        "上記の例で、echo 10 としているのは標準入力を使っている。  \n",
        "\n",
        "Colab の環境でインタラクティブにプログラムを動かすことも可能なようだが、ノートブックのコードセルからインタラクティブな入力欄にフォーカスを手動で移動する必要があり、あまり実用的ではない。\n",
        "\n",
        "とりあえず cin に対しては echo で入力する。"
      ]
    },
    {
      "cell_type": "markdown",
      "metadata": {
        "id": "iKpT7KqTgltN"
      },
      "source": [
        "### ITP1_1_C: Rectangle\n",
        "たて $a$ cm よこ $b$ cm の長方形の面積と周の長さを求める。\n",
        "\n",
        "例: 5 6 => 30 22"
      ]
    },
    {
      "cell_type": "code",
      "metadata": {
        "id": "MJgSLBtrhZ4Y",
        "colab": {
          "base_uri": "https://localhost:8080/"
        },
        "outputId": "37780dac-fddd-4d99-9e29-96197161b040"
      },
      "source": [
        "%%writefile rectangle.cpp\n",
        "#include <iostream>\n",
        "#include <cmath>\n",
        "\n",
        "int main (){\n",
        "    int x,y;\n",
        "    std::cin >> x >> y;\n",
        "    std::cout << x * y << \" \" << (x + y) * 2 << \"\\n\";\n",
        "}\n"
      ],
      "execution_count": 7,
      "outputs": [
        {
          "output_type": "stream",
          "text": [
            "Writing rectangle.cpp\n"
          ],
          "name": "stdout"
        }
      ]
    },
    {
      "cell_type": "code",
      "metadata": {
        "id": "B8uIdW0DhaSf",
        "colab": {
          "base_uri": "https://localhost:8080/"
        },
        "outputId": "ad313529-5ab5-43bb-cd5d-9965f5decdf5"
      },
      "source": [
        "!g++ rectangle.cpp -o rectangle; echo 5 6 | ./rectangle"
      ],
      "execution_count": 8,
      "outputs": [
        {
          "output_type": "stream",
          "text": [
            "30 22\n"
          ],
          "name": "stdout"
        }
      ]
    },
    {
      "cell_type": "markdown",
      "metadata": {
        "id": "7WEEQyGZg_60"
      },
      "source": [
        "### ITP1_1_D: Watch\n",
        "秒 $S$ を $h:m:s:$ の形式に変換する。\n",
        "\n",
        "例: 46979 => 13:2:59"
      ]
    },
    {
      "cell_type": "code",
      "metadata": {
        "id": "aK6zM5ykj0zK",
        "colab": {
          "base_uri": "https://localhost:8080/"
        },
        "outputId": "c32b3522-08b8-48dc-9796-5e84d302bf15"
      },
      "source": [
        "%%writefile watch.cpp\n",
        "#include <iostream>\n",
        "\n",
        "int main (){\n",
        "    int x, h, m, s;\n",
        "    std::cin >> x;\n",
        "    h = x / 3600;\n",
        "    m = (x % 3600) / 60;\n",
        "    s = ((x % 3600) % 60);\n",
        "    std::cout << h << \":\" << m << \":\" << s << \"\\n\";\n",
        "}\n"
      ],
      "execution_count": 9,
      "outputs": [
        {
          "output_type": "stream",
          "text": [
            "Writing watch.cpp\n"
          ],
          "name": "stdout"
        }
      ]
    },
    {
      "cell_type": "code",
      "metadata": {
        "id": "TbObXxU4j0n6",
        "colab": {
          "base_uri": "https://localhost:8080/"
        },
        "outputId": "bd4b14ac-05b3-47e0-b4d2-9dfce94059f4"
      },
      "source": [
        "!g++ watch.cpp -o watch; echo 46979 |./watch"
      ],
      "execution_count": 11,
      "outputs": [
        {
          "output_type": "stream",
          "text": [
            "13:2:59\n"
          ],
          "name": "stdout"
        }
      ]
    },
    {
      "cell_type": "markdown",
      "metadata": {
        "id": "__duxO9RhD7e"
      },
      "source": [
        "### ITP1_2_A: Small, Large, or Equal\n",
        "２つの整数 $a$, $b$ を読み込んで、$a$ と $b$ の大小関係を出力する。\n",
        "\n",
        "例: 1 2 => a < b\n",
        "\n"
      ]
    },
    {
      "cell_type": "code",
      "metadata": {
        "id": "w5YmL12jy9DD",
        "colab": {
          "base_uri": "https://localhost:8080/"
        },
        "outputId": "cd02ec20-a7e9-4c58-fda5-d98c21a17e81"
      },
      "source": [
        "%%writefile smalllarge.cpp\n",
        "\n",
        "#include <iostream>\n",
        "#include <string>\n",
        "\n",
        "int main (){\n",
        "    int a, b;\n",
        "    std::string s;\n",
        "    std::cin >> a >> b;\n",
        "    if (a < b) s = \"a < b\";\n",
        "    else if (a > b) s= \"a > b\";\n",
        "    else s=\"a == b\";\n",
        "    std::cout <<  s << \"\\n\";\n",
        "}\n"
      ],
      "execution_count": 20,
      "outputs": [
        {
          "output_type": "stream",
          "text": [
            "Overwriting smalllarge.cpp\n"
          ],
          "name": "stdout"
        }
      ]
    },
    {
      "cell_type": "code",
      "metadata": {
        "id": "jYpQaXEoy86d",
        "colab": {
          "base_uri": "https://localhost:8080/"
        },
        "outputId": "223469f6-0b4b-42da-ee07-11c40ae9cb1c"
      },
      "source": [
        "!g++ smalllarge.cpp -o smalllarge; echo 2 2 |./smalllarge"
      ],
      "execution_count": 46,
      "outputs": [
        {
          "output_type": "stream",
          "text": [
            "a == b\n"
          ],
          "name": "stdout"
        }
      ]
    },
    {
      "cell_type": "markdown",
      "metadata": {
        "id": "08AyIO3qx2Q9"
      },
      "source": [
        "### ITP1_2_B: Range\n",
        "３つの整数 $a$, $b$, $c$ を読み込み、それらが $a$ < $b$ < $c$ の条件を満たすならば\"Yes\"を、満たさないならば\"No\"を出力する。\n",
        "\n",
        "例: 1 3 8 => Yes"
      ]
    },
    {
      "cell_type": "code",
      "metadata": {
        "id": "mDdA449ROeTE",
        "colab": {
          "base_uri": "https://localhost:8080/"
        },
        "outputId": "c8971ef8-9d4f-41f5-822d-525aa91fa6c0"
      },
      "source": [
        "%%writefile range01.cpp\n",
        "\n",
        "#include <iostream>\n",
        "#include <string>\n",
        "\n",
        "int main (){\n",
        "    int a, b, c;\n",
        "    std::string s;\n",
        "    std::cin >> a >> b >> c;\n",
        "    if ((a < b) && (b < c)) s = \"Yes\";\n",
        "    else s = \"No\";\n",
        "    std::cout <<  s << \"\\n\";\n",
        "}"
      ],
      "execution_count": 22,
      "outputs": [
        {
          "output_type": "stream",
          "text": [
            "Overwriting range01.cpp\n"
          ],
          "name": "stdout"
        }
      ]
    },
    {
      "cell_type": "code",
      "metadata": {
        "id": "vtorNJjNOeFA",
        "colab": {
          "base_uri": "https://localhost:8080/"
        },
        "outputId": "fe8cfd6d-1119-47ce-9e39-24a0e749e045"
      },
      "source": [
        "!g++ range01.cpp -o range01; echo 1 3 8 |./range01"
      ],
      "execution_count": 23,
      "outputs": [
        {
          "output_type": "stream",
          "text": [
            "Yes\n"
          ],
          "name": "stdout"
        }
      ]
    },
    {
      "cell_type": "markdown",
      "metadata": {
        "id": "Rwl8VIYN8c9Y"
      },
      "source": [
        "# いまここ"
      ]
    },
    {
      "cell_type": "markdown",
      "metadata": {
        "id": "iyoXo1SGx5l7"
      },
      "source": [
        "### ITP1_2_C: Sorting Three Numbers\n",
        "３つの整数を読み込み、それらを値が小さい順に並べて出力する。\n",
        "\n",
        "例: 3 1 8 => 1 3 8"
      ]
    },
    {
      "cell_type": "code",
      "metadata": {
        "id": "JRReTAsqPdSM",
        "colab": {
          "base_uri": "https://localhost:8080/"
        },
        "outputId": "68bcc3b4-d914-47f7-da2f-1c254f473544"
      },
      "source": [
        "%%writefile sort3num.cpp\n",
        "#include <iostream>\n",
        "#include <string>\n",
        "#include <vector>\n",
        "#include <algorithm>\n",
        "// #include <bits/stdc++.h>\n",
        "int main (){\n",
        "    int x;\n",
        "    std::vector<int> v;\n",
        "    while (std::cin >> x) {\n",
        "        v.push_back(x);\n",
        "    }\n",
        "\n",
        "    std::sort(v.begin(), v.end());\n",
        "\n",
        "    std::cout << v[0] << ' '<< v[1] << ' '<< v[2] << \"\\n\";\n",
        "}"
      ],
      "execution_count": 36,
      "outputs": [
        {
          "output_type": "stream",
          "text": [
            "Overwriting sort3num.cpp\n"
          ],
          "name": "stdout"
        }
      ]
    },
    {
      "cell_type": "code",
      "metadata": {
        "id": "uUarukR2PdvK",
        "colab": {
          "base_uri": "https://localhost:8080/"
        },
        "outputId": "4bee0e7b-cd3f-4873-fc24-16bdde329422"
      },
      "source": [
        "!g++ sort3num.cpp -o sort3num; echo 3 1 8 |./sort3num"
      ],
      "execution_count": 37,
      "outputs": [
        {
          "output_type": "stream",
          "text": [
            "1 3 8\n"
          ],
          "name": "stdout"
        }
      ]
    },
    {
      "cell_type": "markdown",
      "metadata": {
        "id": "UpNiAmlPx62S"
      },
      "source": [
        "### ITP1_2_D: Circle in a Rectangle\n",
        "長方形の中に円が含まれるかを判定する。長方形は左下の頂点を原点とし、右上の頂点の座標 ($W$, $H$) が与えられ、円はその中心の座標 ($x$, $y$)と半径 $r$ が与えられる。\n",
        "\n",
        "例: 5 4 2 2 1 => Yes"
      ]
    },
    {
      "cell_type": "code",
      "metadata": {
        "id": "5oFMYrCeCXiw",
        "colab": {
          "base_uri": "https://localhost:8080/"
        },
        "outputId": "5f091844-fdb1-4991-df12-0cbcbceafd74"
      },
      "source": [
        "%%writefile circleinrectangle.cpp\n",
        "#include <iostream>\n",
        "\n",
        "int main (){\n",
        "  int w, h, x, y, r;\n",
        "  std::string s;\n",
        "  std::cin >> w >> h >> x >> y >> r;\n",
        "  if ((x >= r) && ((w - x) >= r) && (y >= r) && ((h - y) >= r))\n",
        "    s = \"Yes\";\n",
        "  else \n",
        "    s = \"No\";\n",
        "  std::cout <<  s << \"\\n\";\n",
        "}\n"
      ],
      "execution_count": 43,
      "outputs": [
        {
          "output_type": "stream",
          "text": [
            "Overwriting circleinrectangle.cpp\n"
          ],
          "name": "stdout"
        }
      ]
    },
    {
      "cell_type": "code",
      "metadata": {
        "id": "Uujr1e4OCXdA",
        "colab": {
          "base_uri": "https://localhost:8080/"
        },
        "outputId": "5f69cc34-5147-4385-92f3-0261ab1cae40"
      },
      "source": [
        "!g++ circleinrectangle.cpp -o circleinrectangle; echo 5 4 2 2 1 |./circleinrectangle"
      ],
      "execution_count": 44,
      "outputs": [
        {
          "output_type": "stream",
          "text": [
            "Yes\n"
          ],
          "name": "stdout"
        }
      ]
    },
    {
      "cell_type": "markdown",
      "metadata": {
        "id": "lpLwTcGJx8Hi"
      },
      "source": [
        "### ITP1_3_A: Print Many Hello World\n",
        "1000 個の \"Hello World\" を出力する。 おっと、Colab の環境で1000個出されても困るので10個にしよう。"
      ]
    },
    {
      "cell_type": "markdown",
      "metadata": {
        "id": "42x5aLj6NMnw"
      },
      "source": [
        "### ITP1_3_B: Print Test Cases\n",
        "テストケースを出力する。 1行につき、1つの整数 $x$ を読み込み、それをそのまま出力する。\n",
        "\n",
        "$x$ が 0 のとき入力の終わりを示し、出力はない。\n",
        "\n",
        "例: 3 5 11 7 8 19 0 =>  \n",
        "Case 1: 3  \n",
        "Case 2: 5  \n",
        "Case 3: 11  \n",
        "Case 4: 7  \n",
        "Case 5: 8  \n",
        "Case 6: 19  \n"
      ]
    },
    {
      "cell_type": "markdown",
      "metadata": {
        "id": "h0P_lhLix4BL"
      },
      "source": [
        "### ITP1_3_C: Swapping Two Numbers\n",
        "1行につき、2つの整数 $x,y$ を読み込み、それらを値が小さい順に出力する。 $x$ と $y$ がともに 0 のとき入力の終わりで、出力はない。\n",
        "\n",
        "例: 3 2 2 2 5 3 0 0 => \n",
        "2 3  \n",
        "2 2  \n",
        "3 5  "
      ]
    },
    {
      "cell_type": "markdown",
      "metadata": {
        "id": "g14FT6YDSLcK"
      },
      "source": [
        "### ITP1_3_D: How Many Divisors?\n",
        "3つの整数 $a$、$b$、$c$ を読み込み、$a$ から $b$ までの整数の中に、$c$ の約数がいくつあるかを求める。\n",
        "\n",
        "例: 5 14 80 => 3\n"
      ]
    },
    {
      "cell_type": "markdown",
      "metadata": {
        "id": "iG1eyRf9SNQx"
      },
      "source": [
        "### ITP1_4_A: A / B Problem\n",
        "割り算。2つの整数 $a$ と $b$ を読み込んで、以下の値を計算する。\n",
        "- a ÷ b : $d$ (整数)\n",
        "- a ÷ b の余り $r$ (整数)\n",
        "- a ÷ b : $f$ (浮動小数点数)\n",
        "\n",
        "例: 3 2 => 1 1 1.50000\n"
      ]
    },
    {
      "cell_type": "markdown",
      "metadata": {
        "id": "Pr9TrQWUSOdw"
      },
      "source": [
        "### ITP1_4_B: Circle\n",
        "半径 r の円の面積と円周の長さを求める。\n",
        "\n",
        "例: 2 => 12.566371 12.566371"
      ]
    },
    {
      "cell_type": "markdown",
      "metadata": {
        "id": "t09FxOa1SSaR"
      },
      "source": [
        "### ITP1_4_C: Simple Calculator\n",
        "２つの整数 a, b と１つの演算子 op を読み込んで、a op b を計算するプログラムを作成して下さい。ただし、演算子 op は、\"+\"(和)、\"-\"(差)、\"*\"(積)、\"/\"(商)、のみとし、割り算で割り切れない場合は、小数点以下を切り捨てたものを計算結果とします\n",
        "。 op が '?' のとき 入力の終わりを示します。このケースの出力は行ってはいけません。\n",
        "\n",
        "例: 1 + 2 56 - 18 13 * 2 100 / 10 27 + 81 0 ? 0  =>\n",
        "3  \n",
        "38  \n",
        "26  \n",
        "10  \n",
        "108  "
      ]
    },
    {
      "cell_type": "markdown",
      "metadata": {
        "id": "xSXjkxUWSTov"
      },
      "source": [
        "\n",
        "### ITP1_4_D: Min, Max and Sum\n"
      ]
    },
    {
      "cell_type": "markdown",
      "metadata": {
        "id": "R32rAAK3d9o1"
      },
      "source": [
        "### ITP1_5_A: Print a Rectangle\n"
      ]
    },
    {
      "cell_type": "markdown",
      "metadata": {
        "id": "MFuMIws1d_UU"
      },
      "source": [
        "### ITP1_5_B: Print a Frame\n"
      ]
    },
    {
      "cell_type": "markdown",
      "metadata": {
        "id": "9N4Fbcu3eApD"
      },
      "source": [
        "### ITP1_5_C: Print a Chessboard\n"
      ]
    },
    {
      "cell_type": "markdown",
      "metadata": {
        "id": "5FNV97PxeD1T"
      },
      "source": [
        "### ITP1_5_D: Structured Programming\n"
      ]
    },
    {
      "cell_type": "markdown",
      "metadata": {
        "id": "9L0wG7bihNoT"
      },
      "source": [
        "### ITP1_6_A: Reversing Numbers\n",
        "\n"
      ]
    },
    {
      "cell_type": "markdown",
      "metadata": {
        "id": "qk8oT8IkeF-a"
      },
      "source": [
        "### ITP1_6_B: Finding Missing Cards\n",
        "\n"
      ]
    },
    {
      "cell_type": "markdown",
      "metadata": {
        "id": "gl6V6UdpeHlS"
      },
      "source": [
        "### ITP1_6_C: Official House\n",
        "\n"
      ]
    },
    {
      "cell_type": "markdown",
      "metadata": {
        "id": "MoY5kTtheI2a"
      },
      "source": [
        "### ITP1_6_D: Matrix Vector Multiplication\n",
        "\n"
      ]
    },
    {
      "cell_type": "markdown",
      "metadata": {
        "id": "GPZkGO9veKYa"
      },
      "source": [
        "### ITP1_7_A: Grading\n",
        "\n"
      ]
    },
    {
      "cell_type": "markdown",
      "metadata": {
        "id": "33s4FHAneLdi"
      },
      "source": [
        "### ITP1_7_B: How many ways?\n",
        "\n"
      ]
    },
    {
      "cell_type": "markdown",
      "metadata": {
        "id": "el6wucfdeMlK"
      },
      "source": [
        "### ITP1_7_C: Spreadsheet\n",
        "\n"
      ]
    },
    {
      "cell_type": "markdown",
      "metadata": {
        "id": "D3nNxCEneNZB"
      },
      "source": [
        "### ITP1_7_D: Matrix Multiplication\n",
        "\n"
      ]
    },
    {
      "cell_type": "markdown",
      "metadata": {
        "id": "75e9hXNreOHp"
      },
      "source": [
        "### ITP1_8_A: Toggling Cases\n",
        "\n"
      ]
    },
    {
      "cell_type": "markdown",
      "metadata": {
        "id": "J5whLVdFePDp"
      },
      "source": [
        "### ITP1_8_B: Sum of Numbers\n",
        "\n"
      ]
    },
    {
      "cell_type": "markdown",
      "metadata": {
        "id": "NyNPaOkJePxB"
      },
      "source": [
        "### ITP1_8_C: Counting Characters\n",
        "\n"
      ]
    },
    {
      "cell_type": "markdown",
      "metadata": {
        "id": "ZumzW0lMeQdR"
      },
      "source": [
        "### ITP1_8_D: Ring\n",
        "\n"
      ]
    },
    {
      "cell_type": "markdown",
      "metadata": {
        "id": "P7WavdkReROB"
      },
      "source": [
        "### ITP1_9_A: Finding a Word\n",
        "\n"
      ]
    },
    {
      "cell_type": "markdown",
      "metadata": {
        "id": "FIfUnFWKeR6Z"
      },
      "source": [
        "### ITP1_9_B: Shuffle\n",
        "\n"
      ]
    },
    {
      "cell_type": "markdown",
      "metadata": {
        "id": "nLP0EvwueSsx"
      },
      "source": [
        "### ITP1_9_C: Card Game\n"
      ]
    },
    {
      "cell_type": "markdown",
      "metadata": {
        "id": "Bog1bWnRhO97"
      },
      "source": [
        "### ITP1_9_D: Transformation\n",
        "\n"
      ]
    },
    {
      "cell_type": "markdown",
      "metadata": {
        "id": "nzLLtKkheUhg"
      },
      "source": [
        "### ITP1_10_A: Distance\n",
        "\n"
      ]
    },
    {
      "cell_type": "markdown",
      "metadata": {
        "id": "pMeeTmvoeWNA"
      },
      "source": [
        "### ITP1_10_B: Triangle\n",
        "\n"
      ]
    },
    {
      "cell_type": "markdown",
      "metadata": {
        "id": "WDreN0SVeXVw"
      },
      "source": [
        "### ITP1_10_C: Standard Deviation\n"
      ]
    },
    {
      "cell_type": "markdown",
      "metadata": {
        "id": "HwCRABjKhP9r"
      },
      "source": [
        "\n",
        "### ITP1_10_D: Distance II\n"
      ]
    },
    {
      "cell_type": "markdown",
      "metadata": {
        "id": "NoN0066LhR2i"
      },
      "source": [
        "### ITP1_11_A: Dice I\n",
        "\n"
      ]
    },
    {
      "cell_type": "markdown",
      "metadata": {
        "id": "0X6q4Qh-eZF4"
      },
      "source": [
        "### ITP1_11_B: Dice II\n",
        "\n"
      ]
    },
    {
      "cell_type": "markdown",
      "metadata": {
        "id": "Z7ub_XCLeZzn"
      },
      "source": [
        "### ITP1_11_C: Dice III\n"
      ]
    },
    {
      "cell_type": "markdown",
      "metadata": {
        "id": "vsEVM-knhMRz"
      },
      "source": [
        "### ITP1_11_D: Dice IV\n"
      ]
    },
    {
      "cell_type": "markdown",
      "metadata": {
        "id": "M5jGhwlZedZz"
      },
      "source": [
        "# ALDS1 Algorithms and Data Structures I アルゴリズムとデータ構造入門"
      ]
    }
  ]
}