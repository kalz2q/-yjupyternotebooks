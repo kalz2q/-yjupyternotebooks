{
  "nbformat": 4,
  "nbformat_minor": 0,
  "metadata": {
    "colab": {
      "name": "cpp_aizuonline01.ipynb",
      "provenance": [],
      "authorship_tag": "ABX9TyN0Oky6gSTxEamZJbupb+dF",
      "include_colab_link": true
    },
    "kernelspec": {
      "name": "python3",
      "display_name": "Python 3"
    }
  },
  "cells": [
    {
      "cell_type": "markdown",
      "metadata": {
        "id": "view-in-github",
        "colab_type": "text"
      },
      "source": [
        "<a href=\"https://colab.research.google.com/github/kalz2q/mycolabnotebooks/blob/master/cpp_aizuonline01.ipynb\" target=\"_parent\"><img src=\"https://colab.research.google.com/assets/colab-badge.svg\" alt=\"Open In Colab\"/></a>"
      ]
    },
    {
      "cell_type": "markdown",
      "metadata": {
        "id": "yyDogo8E0a-k"
      },
      "source": [
        "# メモ\n",
        "\n",
        "1. このノートブックは Colab で書かれて、読まれることを想定している。\n",
        "1. 今回のアイデアはAOJ (Aizu Online Judge) のコース問題を Colab化してみよう、というもの。\n",
        "1. Aizu Online Judge https://onlinejudge.u-aizu.ac.jp/courses/list\n",
        "1. プログラム言語はC++を使う"
      ]
    },
    {
      "cell_type": "markdown",
      "metadata": {
        "id": "Sq6ot_P704rT"
      },
      "source": [
        "# 問題セット\n",
        "\n",
        "1. ITP1 Introduction to Programming I プログラミング入門\n",
        "1. ALDS1 Algorithms and Data Structures I アルゴリズムとデータ構造入門\n",
        "1. ITP2 Introduction to Programming II プログラミング応用\n",
        "1. DSL Data Sets and Queries データの集合とクエリ処理\n",
        "1. DPL Discrete Optimization Problems 組み合わせ最適化\n",
        "1. GRL Graph Algorithms グラフ\n",
        "1. CGL Computational Geometry 計算幾何学\n",
        "1. NTL Number Theory 整数論"
      ]
    },
    {
      "cell_type": "markdown",
      "metadata": {
        "id": "pGCikRlD4c0G"
      },
      "source": [
        "# ITP1 Introduction to Programming I プログラミング入門\n",
        "\n"
      ]
    },
    {
      "cell_type": "markdown",
      "metadata": {
        "id": "oFZ0BDtT7Q-k"
      },
      "source": [
        "### ITP1_1_A: Hello World  \n",
        "\n",
        "\"Hello World\" と一行に出力する。"
      ]
    },
    {
      "cell_type": "code",
      "metadata": {
        "colab": {
          "base_uri": "https://localhost:8080/"
        },
        "id": "prf6Ks5V741Q",
        "outputId": "59b9ad64-7f42-4d30-fa82-87e00f1a39dd"
      },
      "source": [
        "%%writefile hello01.cpp\n",
        "#include <iostream>\n",
        "int main (){\n",
        "  std::cout << \"Hello World\"<< \"\\n\";\n",
        "}\n"
      ],
      "execution_count": null,
      "outputs": [
        {
          "output_type": "stream",
          "text": [
            "Overwriting hello01.cpp\n"
          ],
          "name": "stdout"
        }
      ]
    },
    {
      "cell_type": "code",
      "metadata": {
        "colab": {
          "base_uri": "https://localhost:8080/"
        },
        "id": "WjtbClzP0TQs",
        "outputId": "b79c784c-7a94-4266-85e9-775e05e3c63c"
      },
      "source": [
        "!g++ hello01.cpp -o hello01; ./hello01"
      ],
      "execution_count": null,
      "outputs": [
        {
          "output_type": "stream",
          "text": [
            "Hello World\n"
          ],
          "name": "stdout"
        }
      ]
    },
    {
      "cell_type": "markdown",
      "metadata": {
        "id": "aGd4C-NC9mdn"
      },
      "source": [
        "### ITP1_1_B: X Cubic\n",
        "\n",
        "$x$ の３乗の計算結果を１行に出力する。"
      ]
    },
    {
      "cell_type": "code",
      "metadata": {
        "colab": {
          "base_uri": "https://localhost:8080/"
        },
        "id": "gNacblgN9fTg",
        "outputId": "5c74b6e0-ea04-4848-ba36-d5ea2dcdfa61"
      },
      "source": [
        "%%writefile xcubic01.cpp\n",
        "#include <iostream>\n",
        "\n",
        "int main (){\n",
        "    int x;\n",
        "    std::cin >> x;\n",
        "    std::cout << x*x*x << \"\\n\";\n",
        "}\n"
      ],
      "execution_count": null,
      "outputs": [
        {
          "output_type": "stream",
          "text": [
            "Writing xcubic01.cpp\n"
          ],
          "name": "stdout"
        }
      ]
    },
    {
      "cell_type": "code",
      "metadata": {
        "colab": {
          "base_uri": "https://localhost:8080/"
        },
        "id": "NnwRLR_f90hp",
        "outputId": "62627935-a1ea-4597-a800-ac0ee406dd22"
      },
      "source": [
        "!g++ xcubic01.cpp -o xcubic01; echo 10 | ./xcubic01"
      ],
      "execution_count": null,
      "outputs": [
        {
          "output_type": "stream",
          "text": [
            "1000\n"
          ],
          "name": "stdout"
        }
      ]
    },
    {
      "cell_type": "markdown",
      "metadata": {
        "id": "r_VmKM4-qM2A"
      },
      "source": [
        "上記の例で、echo 10 としているのは標準入力を使っている。  \n",
        "\n",
        "Colab の環境でインタラクティブにプログラムを動かすことも可能なようだが、ノートブックのコードセルからインタラクティブな入力欄にフォーカスを手動で移動する必要があり、あまり実用的ではない。\n",
        "\n",
        "とりあえず cin に対しては echo で入力する。"
      ]
    },
    {
      "cell_type": "markdown",
      "metadata": {
        "id": "iKpT7KqTgltN"
      },
      "source": [
        "### ITP1_1_C: Rectangle\n",
        "たて $a$ cm よこ $b$ cm の長方形の面積と周の長さを求める。\n",
        "\n",
        "例: 5 6 => 30 22"
      ]
    },
    {
      "cell_type": "code",
      "metadata": {
        "id": "MJgSLBtrhZ4Y",
        "colab": {
          "base_uri": "https://localhost:8080/"
        },
        "outputId": "e242cb50-e023-4917-f09f-1a8b041a4c78"
      },
      "source": [
        "%%writefile rectangle.cpp\n",
        "#include <iostream>\n",
        "\n",
        "int main (){\n",
        "    int x,y;\n",
        "    std::cin >> x >> y;\n",
        "    std::cout << x * y << \" \" << (x + y) * 2 << \"\\n\";\n",
        "}\n"
      ],
      "execution_count": null,
      "outputs": [
        {
          "output_type": "stream",
          "text": [
            "Writing rectangle.cpp\n"
          ],
          "name": "stdout"
        }
      ]
    },
    {
      "cell_type": "code",
      "metadata": {
        "id": "B8uIdW0DhaSf",
        "colab": {
          "base_uri": "https://localhost:8080/"
        },
        "outputId": "193d5d66-b825-4f1c-d35b-1cb39c68d7f1"
      },
      "source": [
        "!g++ rectangle.cpp -o rectangle; echo 5 6 | ./rectangle"
      ],
      "execution_count": null,
      "outputs": [
        {
          "output_type": "stream",
          "text": [
            "30 22\n"
          ],
          "name": "stdout"
        }
      ]
    },
    {
      "cell_type": "markdown",
      "metadata": {
        "id": "7WEEQyGZg_60"
      },
      "source": [
        "### ITP1_1_D: Watch\n",
        "秒 $S$ を $h:m:s:$ の形式に変換する。\n",
        "\n",
        "例: 46979 => 13:2:59"
      ]
    },
    {
      "cell_type": "code",
      "metadata": {
        "id": "aK6zM5ykj0zK",
        "colab": {
          "base_uri": "https://localhost:8080/"
        },
        "outputId": "fe207239-6597-4aa7-d1cf-90b6145f9a1c"
      },
      "source": [
        "%%writefile watch.cpp\n",
        "#include <iostream>\n",
        "\n",
        "int main (){\n",
        "    int h, m, s;\n",
        "    std::cin >> s;\n",
        "    h = s / 3600;\n",
        "    s %= 3600;\n",
        "    m = s / 60;\n",
        "    s %= 60;\n",
        "    std::cout << h << \":\" << m << \":\" << s << \"\\n\";\n",
        "}\n"
      ],
      "execution_count": null,
      "outputs": [
        {
          "output_type": "stream",
          "text": [
            "Overwriting watch.cpp\n"
          ],
          "name": "stdout"
        }
      ]
    },
    {
      "cell_type": "code",
      "metadata": {
        "id": "TbObXxU4j0n6",
        "colab": {
          "base_uri": "https://localhost:8080/"
        },
        "outputId": "326e3db5-9e93-424b-c7fc-f18464ea04d0"
      },
      "source": [
        "!g++ watch.cpp -o watch; echo 46979 |./watch"
      ],
      "execution_count": null,
      "outputs": [
        {
          "output_type": "stream",
          "text": [
            "13:2:59\n"
          ],
          "name": "stdout"
        }
      ]
    },
    {
      "cell_type": "markdown",
      "metadata": {
        "id": "__duxO9RhD7e"
      },
      "source": [
        "### ITP1_2_A: Small, Large, or Equal\n",
        "２つの整数 $a$, $b$ を読み込んで、$a$ と $b$ の大小関係を出力する。\n",
        "\n",
        "例: 1 2 => a < b\n",
        "\n"
      ]
    },
    {
      "cell_type": "code",
      "metadata": {
        "id": "w5YmL12jy9DD",
        "colab": {
          "base_uri": "https://localhost:8080/"
        },
        "outputId": "bbde1ec0-9e03-48b5-a22d-09a4b4412619"
      },
      "source": [
        "%%writefile smalllarge.cpp\n",
        "\n",
        "#include <iostream>\n",
        "#include <string>\n",
        "\n",
        "int main (){\n",
        "    int a, b;\n",
        "    std::string s;\n",
        "    std::cin >> a >> b;\n",
        "    if (a < b) s = \"a < b\";\n",
        "    else if (a > b) s = \"a > b\";\n",
        "    else s =\"a == b\";\n",
        "    std::cout <<  s << \"\\n\";\n",
        "}\n"
      ],
      "execution_count": null,
      "outputs": [
        {
          "output_type": "stream",
          "text": [
            "Writing smalllarge.cpp\n"
          ],
          "name": "stdout"
        }
      ]
    },
    {
      "cell_type": "code",
      "metadata": {
        "id": "jYpQaXEoy86d",
        "colab": {
          "base_uri": "https://localhost:8080/"
        },
        "outputId": "6173802e-45e9-4057-aa1a-be7e237f20a6"
      },
      "source": [
        "!g++ smalllarge.cpp -o smalllarge; echo 2 2 |./smalllarge"
      ],
      "execution_count": null,
      "outputs": [
        {
          "output_type": "stream",
          "text": [
            "a == b\n"
          ],
          "name": "stdout"
        }
      ]
    },
    {
      "cell_type": "markdown",
      "metadata": {
        "id": "08AyIO3qx2Q9"
      },
      "source": [
        "### ITP1_2_B: Range\n",
        "３つの整数 $a$, $b$, $c$ を読み込み、それらが $a$ < $b$ < $c$ の条件を満たすならば\"Yes\"を、満たさないならば\"No\"を出力する。\n",
        "\n",
        "例: 1 3 8 => Yes"
      ]
    },
    {
      "cell_type": "code",
      "metadata": {
        "id": "mDdA449ROeTE",
        "colab": {
          "base_uri": "https://localhost:8080/"
        },
        "outputId": "50965b07-5a96-4cbd-8afe-86bfe2580343"
      },
      "source": [
        "%%writefile range01.cpp\n",
        "\n",
        "#include <iostream>\n",
        "\n",
        "int main (){\n",
        "    int a, b, c;\n",
        "    std::string s;\n",
        "    std::cin >> a >> b >> c;\n",
        "    if ((a < b) && (b < c)) s = \"Yes\";\n",
        "    else s = \"No\";\n",
        "    std::cout <<  s << \"\\n\";\n",
        "}"
      ],
      "execution_count": null,
      "outputs": [
        {
          "output_type": "stream",
          "text": [
            "Overwriting range01.cpp\n"
          ],
          "name": "stdout"
        }
      ]
    },
    {
      "cell_type": "code",
      "metadata": {
        "id": "vtorNJjNOeFA",
        "colab": {
          "base_uri": "https://localhost:8080/"
        },
        "outputId": "e46b7623-57ef-4bb1-9a80-b458d75d18d2"
      },
      "source": [
        "!g++ range01.cpp -o range01; echo 1 3 8 |./range01"
      ],
      "execution_count": null,
      "outputs": [
        {
          "output_type": "stream",
          "text": [
            "Yes\n"
          ],
          "name": "stdout"
        }
      ]
    },
    {
      "cell_type": "markdown",
      "metadata": {
        "id": "iyoXo1SGx5l7"
      },
      "source": [
        "### ITP1_2_C: Sorting Three Numbers\n",
        "３つの整数を読み込み、それらを値が小さい順に並べて出力する。\n",
        "\n",
        "例: 3 1 8 => 1 3 8"
      ]
    },
    {
      "cell_type": "code",
      "metadata": {
        "id": "JRReTAsqPdSM",
        "colab": {
          "base_uri": "https://localhost:8080/"
        },
        "outputId": "57a630db-a3be-4fb7-c014-d2df0b7e4d91"
      },
      "source": [
        "%%writefile sort3num.cpp\n",
        "#include <iostream>\n",
        "#include <vector>\n",
        "#include <algorithm>\n",
        "\n",
        "int main (){\n",
        "    int x;\n",
        "    std::vector<int> v;\n",
        "    while (std::cin >> x){\n",
        "        v.push_back(x);\n",
        "    }\n",
        "\n",
        "    std::sort(v.begin(), v.end());\n",
        "\n",
        "    std::cout << v[0] << ' '<< v[1] << ' '<< v[2] << \"\\n\";\n",
        "}"
      ],
      "execution_count": null,
      "outputs": [
        {
          "output_type": "stream",
          "text": [
            "Writing sort3num.cpp\n"
          ],
          "name": "stdout"
        }
      ]
    },
    {
      "cell_type": "code",
      "metadata": {
        "id": "uUarukR2PdvK",
        "colab": {
          "base_uri": "https://localhost:8080/"
        },
        "outputId": "6a3189c8-b7a0-438e-e8fd-aad5bab48f51"
      },
      "source": [
        "!g++ sort3num.cpp -o sort3num; echo 3 1 8 |./sort3num"
      ],
      "execution_count": null,
      "outputs": [
        {
          "output_type": "stream",
          "text": [
            "1 3 8\n"
          ],
          "name": "stdout"
        }
      ]
    },
    {
      "cell_type": "markdown",
      "metadata": {
        "id": "UpNiAmlPx62S"
      },
      "source": [
        "### ITP1_2_D: Circle in a Rectangle\n",
        "長方形の中に円が含まれるかを判定する。長方形は左下の頂点を原点とし、右上の頂点の座標 ($W$, $H$) が与えられ、円はその中心の座標 ($x$, $y$)と半径 $r$ が与えられる。\n",
        "\n",
        "例: 5 4 2 2 1 => Yes"
      ]
    },
    {
      "cell_type": "code",
      "metadata": {
        "id": "5oFMYrCeCXiw",
        "colab": {
          "base_uri": "https://localhost:8080/"
        },
        "outputId": "bc49cf8f-fc5b-4b06-e2cf-6d9293ab622c"
      },
      "source": [
        "%%writefile circleinrectangle.cpp\n",
        "#include <iostream>\n",
        "\n",
        "int main (){\n",
        "  int w, h, x, y, r;\n",
        "  std::string s;\n",
        "  std::cin >> w >> h >> x >> y >> r;\n",
        "  if ((x >= r) && ((w - x) >= r) && (y >= r) && ((h - y) >= r))\n",
        "    s = \"Yes\";\n",
        "  else \n",
        "    s = \"No\";\n",
        "  std::cout <<  s << \"\\n\";\n",
        "}\n"
      ],
      "execution_count": null,
      "outputs": [
        {
          "output_type": "stream",
          "text": [
            "Writing circleinrectangle.cpp\n"
          ],
          "name": "stdout"
        }
      ]
    },
    {
      "cell_type": "code",
      "metadata": {
        "id": "Uujr1e4OCXdA",
        "colab": {
          "base_uri": "https://localhost:8080/"
        },
        "outputId": "e7b16f8f-75e6-47e3-9b20-cb3509e8aa7c"
      },
      "source": [
        "!g++ circleinrectangle.cpp -o circleinrectangle; echo 5 4 2 2 1 |./circleinrectangle"
      ],
      "execution_count": null,
      "outputs": [
        {
          "output_type": "stream",
          "text": [
            "Yes\n"
          ],
          "name": "stdout"
        }
      ]
    },
    {
      "cell_type": "markdown",
      "metadata": {
        "id": "lpLwTcGJx8Hi"
      },
      "source": [
        "### ITP1_3_A: Print Many Hello World\n",
        "1000 個の \"Hello World\" を出力する。 おっと、Colab の環境で1000個出されても困るので10個にしよう。"
      ]
    },
    {
      "cell_type": "code",
      "metadata": {
        "id": "PYe65DyOxGQm",
        "colab": {
          "base_uri": "https://localhost:8080/"
        },
        "outputId": "4293c1f3-80f8-41c0-9195-300540e4f1c6"
      },
      "source": [
        "%%writefile manyhelloworld.cpp\n",
        "#include <iostream>\n",
        "\n",
        "int main(){\n",
        "    for (int i=0; i < 10; i++){\n",
        "        std::cout << \"Hello World\" << \"\\n\";\n",
        "    }\n",
        "}"
      ],
      "execution_count": null,
      "outputs": [
        {
          "output_type": "stream",
          "text": [
            "Overwriting manyhelloworld.cpp\n"
          ],
          "name": "stdout"
        }
      ]
    },
    {
      "cell_type": "code",
      "metadata": {
        "id": "lVK12ZoTxGF3",
        "colab": {
          "base_uri": "https://localhost:8080/"
        },
        "outputId": "05988336-ad3d-4f26-adea-0130a74f78a8"
      },
      "source": [
        "!g++ manyhelloworld.cpp -o manyhelloworld; echo 5 4 2 2 1 |./manyhelloworld"
      ],
      "execution_count": null,
      "outputs": [
        {
          "output_type": "stream",
          "text": [
            "Hello World\n",
            "Hello World\n",
            "Hello World\n",
            "Hello World\n",
            "Hello World\n",
            "Hello World\n",
            "Hello World\n",
            "Hello World\n",
            "Hello World\n",
            "Hello World\n"
          ],
          "name": "stdout"
        }
      ]
    },
    {
      "cell_type": "markdown",
      "metadata": {
        "id": "42x5aLj6NMnw"
      },
      "source": [
        "### ITP1_3_B: Print Test Cases\n",
        "テストケースを出力する。 1行につき、1つの整数 $x$ を読み込み、それをそのまま出力する。\n",
        "\n",
        "$x$ が 0 のとき入力の終わりを示し、出力はない。\n",
        "\n",
        "例: 3 5 11 7 8 19 0 =>  \n",
        "Case 1: 3  \n",
        "Case 2: 5  \n",
        "Case 3: 11  \n",
        "Case 4: 7  \n",
        "Case 5: 8  \n",
        "Case 6: 19  \n"
      ]
    },
    {
      "cell_type": "code",
      "metadata": {
        "id": "upF_09F_xtWw",
        "colab": {
          "base_uri": "https://localhost:8080/"
        },
        "outputId": "07b6b88d-09f8-4a09-a75b-f55266c944ed"
      },
      "source": [
        "%%writefile printestcase.cpp\n",
        "#include <iostream>\n",
        "\n",
        "int main(){\n",
        "    int x;\n",
        "    for (int i=1; ; i++){\n",
        "        std::cin >> x;\n",
        "        if (x == 0) break;\n",
        "        std::cout << \"Case \" << i << \": \" << x << \"\\n\";\n",
        "    }\n",
        "}"
      ],
      "execution_count": null,
      "outputs": [
        {
          "output_type": "stream",
          "text": [
            "Overwriting printestcase.cpp\n"
          ],
          "name": "stdout"
        }
      ]
    },
    {
      "cell_type": "code",
      "metadata": {
        "id": "kNvVXmuXxtMQ",
        "colab": {
          "base_uri": "https://localhost:8080/"
        },
        "outputId": "a463e933-700a-4a20-9f8e-8f15b6ee1fd2"
      },
      "source": [
        "!g++ printestcase.cpp -o printestcase; echo 3 5 11 7 8 19 0 |./printestcase"
      ],
      "execution_count": null,
      "outputs": [
        {
          "output_type": "stream",
          "text": [
            "Case 1: 3\n",
            "Case 2: 5\n",
            "Case 3: 11\n",
            "Case 4: 7\n",
            "Case 5: 8\n",
            "Case 6: 19\n"
          ],
          "name": "stdout"
        }
      ]
    },
    {
      "cell_type": "markdown",
      "metadata": {
        "id": "h0P_lhLix4BL"
      },
      "source": [
        "### ITP1_3_C: Swapping Two Numbers\n",
        "1行につき、2つの整数 $x,y$ を読み込み、それらを値が小さい順に出力する。 $x$ と $y$ がともに 0 のとき入力の終わりで、出力はない。\n",
        "\n",
        "例: 3 2 2 2 5 3 0 0 =>  \n",
        "2 3  \n",
        "2 2  \n",
        "3 5  "
      ]
    },
    {
      "cell_type": "code",
      "metadata": {
        "id": "oAv6fswOzX-Z",
        "colab": {
          "base_uri": "https://localhost:8080/"
        },
        "outputId": "e64d7ed6-e6e2-4015-a981-e15dfb20c916"
      },
      "source": [
        "%%writefile swap2num.cpp\n",
        "#include <iostream>\n",
        "\n",
        "int main(){\n",
        "    int a, b;\n",
        "    while (1){\n",
        "        std::cin >> a >> b;\n",
        "        if (a == 0 && b == 0) break;\n",
        "        if (a < b){\n",
        "            std::cout << a << \" \" << b << \"\\n\";\n",
        "        } else {\n",
        "            std::cout << b << \" \" << a << \"\\n\";\n",
        "        }\n",
        "    }\n",
        "    return 0;\n",
        "}"
      ],
      "execution_count": null,
      "outputs": [
        {
          "output_type": "stream",
          "text": [
            "Overwriting swap2num.cpp\n"
          ],
          "name": "stdout"
        }
      ]
    },
    {
      "cell_type": "code",
      "metadata": {
        "id": "BNWeFJBJzkCO",
        "colab": {
          "base_uri": "https://localhost:8080/"
        },
        "outputId": "4f186d68-084e-493b-d0e9-6d1c9d28dd70"
      },
      "source": [
        "!g++ swap2num.cpp -o swap2num; echo 3 2 2 2 5 3 0 0 |./swap2num"
      ],
      "execution_count": null,
      "outputs": [
        {
          "output_type": "stream",
          "text": [
            "2 3\n",
            "2 2\n",
            "3 5\n"
          ],
          "name": "stdout"
        }
      ]
    },
    {
      "cell_type": "markdown",
      "metadata": {
        "id": "g14FT6YDSLcK"
      },
      "source": [
        "### ITP1_3_D: How Many Divisors?\n",
        "3つの整数 $a$、$b$、$c$ を読み込み、$a$ から $b$ までの整数の中に、$c$ の約数がいくつあるかを求める。\n",
        "\n",
        "例: 5 14 80 => 3\n"
      ]
    },
    {
      "cell_type": "code",
      "metadata": {
        "id": "uOwoHSVT11ec",
        "colab": {
          "base_uri": "https://localhost:8080/"
        },
        "outputId": "ad4ddf3a-3369-4d57-830e-0bd2d5d4d5a0"
      },
      "source": [
        "%%writefile howmanydivisor.cpp\n",
        "#include <iostream>\n",
        "\n",
        "int main(){\n",
        "    int a, b, c, f = 0;\n",
        "    std::cin >> a >> b >> c;\n",
        "    for (int x = a; x <= b; x++){\n",
        "        if (c % x == 0) f++;\n",
        "    }\n",
        "    std::cout << f << \"\\n\";\n",
        "    return 0;\n",
        "}\n"
      ],
      "execution_count": null,
      "outputs": [
        {
          "output_type": "stream",
          "text": [
            "Overwriting howmanydivisor.cpp\n"
          ],
          "name": "stdout"
        }
      ]
    },
    {
      "cell_type": "code",
      "metadata": {
        "id": "Os1_6Y0111T1",
        "colab": {
          "base_uri": "https://localhost:8080/"
        },
        "outputId": "4e724caa-8426-432a-aa06-a23684895841"
      },
      "source": [
        "!g++ howmanydivisor.cpp -o howmanydivisor; echo 5 14 80 |./howmanydivisor"
      ],
      "execution_count": null,
      "outputs": [
        {
          "output_type": "stream",
          "text": [
            "3\n"
          ],
          "name": "stdout"
        }
      ]
    },
    {
      "cell_type": "markdown",
      "metadata": {
        "id": "iG1eyRf9SNQx"
      },
      "source": [
        "### ITP1_4_A: A / B Problem\n",
        "割り算。2つの整数 $a$ と $b$ を読み込んで、以下の値を計算する。\n",
        "- a ÷ b : $d$ (整数)\n",
        "- a ÷ b の余り $r$ (整数)\n",
        "- a ÷ b : $f$ (浮動小数点数)\n",
        "\n",
        "例: 3 2 => 1 1 1.50000\n"
      ]
    },
    {
      "cell_type": "code",
      "metadata": {
        "id": "AE8L0ved21yi",
        "colab": {
          "base_uri": "https://localhost:8080/"
        },
        "outputId": "8cd15547-0ff8-4235-f3bc-63753ee8fa30"
      },
      "source": [
        "%%writefile adivbproblem.cpp\n",
        "#include <iostream>\n",
        "#include <iomanip>\n",
        "\n",
        "int main(){\n",
        "    int a, b;\n",
        "    std::cin >> a >> b;\n",
        "    std::cout << a/b << \" \" << a%b << \" \"  << std::fixed << std::setprecision(5) << (double)a/b << \"\\n\";\n",
        "    return 0;\n",
        "}"
      ],
      "execution_count": null,
      "outputs": [
        {
          "output_type": "stream",
          "text": [
            "Overwriting adivbproblem.cpp\n"
          ],
          "name": "stdout"
        }
      ]
    },
    {
      "cell_type": "code",
      "metadata": {
        "id": "aiWNoNWQ21mS",
        "colab": {
          "base_uri": "https://localhost:8080/"
        },
        "outputId": "b7e0e3ce-f419-4e32-c598-fbdac64863a0"
      },
      "source": [
        "!g++ adivbproblem.cpp -o adivbproblem; echo 3 2 |./adivbproblem"
      ],
      "execution_count": null,
      "outputs": [
        {
          "output_type": "stream",
          "text": [
            "1 1 1.50000\n"
          ],
          "name": "stdout"
        }
      ]
    },
    {
      "cell_type": "markdown",
      "metadata": {
        "id": "Pr9TrQWUSOdw"
      },
      "source": [
        "### ITP1_4_B: Circle\n",
        "半径 r の円の面積と円周の長さを求める。\n",
        "\n",
        "例: 3 => 28.274334 18.849556"
      ]
    },
    {
      "cell_type": "code",
      "metadata": {
        "id": "BCuR9r3rKAvd",
        "colab": {
          "base_uri": "https://localhost:8080/"
        },
        "outputId": "2b0beb65-50e6-4d76-d1c6-b7ac484b348c"
      },
      "source": [
        "%%writefile circle01.cpp\n",
        "#include <iostream>\n",
        "#include <iomanip>\n",
        "\n",
        "int main(){\n",
        "    double PI = 3.141592653589;\n",
        "    double r;\n",
        "    std::cin >> r;\n",
        "    std::cout << std::fixed << std::setprecision(6) << PI*r*r << \" \" << 2*PI*r << \"\\n\";\n",
        "}"
      ],
      "execution_count": null,
      "outputs": [
        {
          "output_type": "stream",
          "text": [
            "Overwriting circle01.cpp\n"
          ],
          "name": "stdout"
        }
      ]
    },
    {
      "cell_type": "code",
      "metadata": {
        "id": "04uTX8rsKAhN",
        "colab": {
          "base_uri": "https://localhost:8080/"
        },
        "outputId": "0da7e97b-2f66-4c4b-f432-b40592919827"
      },
      "source": [
        "!g++ circle01.cpp -o circle01; echo 3 |./circle01"
      ],
      "execution_count": null,
      "outputs": [
        {
          "output_type": "stream",
          "text": [
            "28.274334 18.849556\n"
          ],
          "name": "stdout"
        }
      ]
    },
    {
      "cell_type": "markdown",
      "metadata": {
        "id": "t09FxOa1SSaR"
      },
      "source": [
        "### ITP1_4_C: Simple Calculator\n",
        "２つの整数 $a$, $b$ と１つの演算子 op を読み込んで、$a$ op $b$ を計算する。\n",
        "演算子 op は、\"+\"(和)、\"-\"(差)、\"*\"(積)、\"/\"(商)、のみとし、割り算で割り切れない場合は、小数点以下を切り捨てたものを計算結果とする。\n",
        "op が '?' のとき 入力の終わり。\n",
        "\n",
        "例: 1 + 2 56 - 18 13 * 2 100 / 10 27 + 81 0 ? 0  =>  \n",
        "3  \n",
        "38  \n",
        "26  \n",
        "10  \n",
        "108  "
      ]
    },
    {
      "cell_type": "code",
      "metadata": {
        "id": "5mbtfkNRLvAq",
        "colab": {
          "base_uri": "https://localhost:8080/"
        },
        "outputId": "1b07d45b-2285-438d-e8e6-87b35c8e320d"
      },
      "source": [
        "%%writefile simplecalculator.cpp\n",
        "#include <iostream>\n",
        "int main(){\n",
        "    int a, b;\n",
        "    char op;\n",
        "\n",
        "    while (1){\n",
        "        std::cin >> a >> op >> b;\n",
        "        if (op == '?') break;\n",
        "        if (op == '+') std::cout << a + b << \"\\n\";\n",
        "        else if (op == '-') std::cout << a - b << \"\\n\";\n",
        "        else if (op == '*') std::cout << a * b << \"\\n\";\n",
        "        else if (op == '/') std::cout << a / b << \"\\n\";\n",
        "    };\n",
        "    return 0;\n",
        "}"
      ],
      "execution_count": null,
      "outputs": [
        {
          "output_type": "stream",
          "text": [
            "Overwriting simplecalculator.cpp\n"
          ],
          "name": "stdout"
        }
      ]
    },
    {
      "cell_type": "code",
      "metadata": {
        "id": "IG_g5ecpLu2h",
        "colab": {
          "base_uri": "https://localhost:8080/"
        },
        "outputId": "bd45703a-4264-47bc-80be-3eb48fdc2b9e"
      },
      "source": [
        "!g++ simplecalculator.cpp -o simplecalculator; echo 1 + 2 56 - 18 13 \\* 2 100 / 10 27 + 81 0 ? 0 |./simplecalculator"
      ],
      "execution_count": null,
      "outputs": [
        {
          "output_type": "stream",
          "text": [
            "3\n",
            "38\n",
            "26\n",
            "10\n",
            "108\n"
          ],
          "name": "stdout"
        }
      ]
    },
    {
      "cell_type": "markdown",
      "metadata": {
        "id": "xSXjkxUWSTov"
      },
      "source": [
        "### ITP1_4_D: Min, Max and Sum\n",
        "$n$ 個の整数 $a_i(i=1,2, \\dots n)$について、最大値、最小値、合計値を求める。 最初の値が個数を示す。\n",
        "\n",
        "例: 5 10 1 5 4 17 => 1 17 37\n"
      ]
    },
    {
      "cell_type": "code",
      "metadata": {
        "id": "KnCqqTPoElUQ",
        "colab": {
          "base_uri": "https://localhost:8080/"
        },
        "outputId": "9697e708-7be0-459a-90dd-3c1ac2a7e69a"
      },
      "source": [
        "%%writefile minmaxsum.cpp\n",
        "#include <iostream>\n",
        "#include <algorithm>\n",
        "\n",
        "int main(){\n",
        "\tint n;\n",
        "    double a;\n",
        "    double minnum =1000000;\n",
        "    double maxnum =-1000000;\n",
        "    double sum=0;\n",
        "\tstd::cin >> n;\n",
        "\tfor(int i = 0; i < n; i++){\n",
        "        std::cin >> a;\n",
        "\t\tmaxnum = std::max(maxnum, a);\n",
        "\t\tminnum = std::min(minnum, a);\n",
        "        sum += a;\n",
        "\t}\n",
        "\tstd::cout << minnum << \" \" << maxnum << \" \" << sum << \"\\n\";\n",
        "    return 0;\n",
        "}"
      ],
      "execution_count": null,
      "outputs": [
        {
          "output_type": "stream",
          "text": [
            "Overwriting minmaxsum.cpp\n"
          ],
          "name": "stdout"
        }
      ]
    },
    {
      "cell_type": "code",
      "metadata": {
        "id": "xs2uvrODElJy",
        "colab": {
          "base_uri": "https://localhost:8080/"
        },
        "outputId": "5c6cc8d0-370a-4942-dab7-fd52315d159e"
      },
      "source": [
        "!g++ minmaxsum.cpp -o minmaxsum; echo 5 10 1 5 4 17 |./minmaxsum"
      ],
      "execution_count": null,
      "outputs": [
        {
          "output_type": "stream",
          "text": [
            "1 17 37\n"
          ],
          "name": "stdout"
        }
      ]
    },
    {
      "cell_type": "markdown",
      "metadata": {
        "id": "R32rAAK3d9o1"
      },
      "source": [
        "### ITP1_5_A: Print a Rectangle\n",
        "たて $H$ cm よこ $W$ cm の長方形を描く。 '#'で表す。 0, 0 のとき入力の終わり。\n",
        "\n",
        "例: 3 4 5 6 2 2 0 0 =>  \n"
      ]
    },
    {
      "cell_type": "code",
      "metadata": {
        "id": "BEATiwjSQMuf",
        "colab": {
          "base_uri": "https://localhost:8080/",
          "height": 84
        },
        "outputId": "e5004869-d8e1-4ccf-d8ca-c74393ce44b5"
      },
      "source": [
        "%%html \n",
        "<span style=\"font-family: monospace\">####<br>####<br>####<br>...</span>"
      ],
      "execution_count": null,
      "outputs": [
        {
          "output_type": "display_data",
          "data": {
            "text/html": [
              "<span style=\"font-family: monospace\">####<br>####<br>####<br>...</span>"
            ],
            "text/plain": [
              "<IPython.core.display.HTML object>"
            ]
          },
          "metadata": {
            "tags": []
          }
        }
      ]
    },
    {
      "cell_type": "code",
      "metadata": {
        "colab": {
          "base_uri": "https://localhost:8080/"
        },
        "id": "es_4X4P5162v",
        "outputId": "98ce7164-0b43-4e8d-c5d2-24232465cd87"
      },
      "source": [
        "%%writefile printrectangle.cpp\n",
        "#include <iostream>\n",
        "int main(){\n",
        "    int H, W;\n",
        "    while (1){\n",
        "        std::cin >> H >> W;\n",
        "        if (H==0 && W==0) break;\n",
        "        for (int i=0; i<H; i++){\n",
        "            for (int j=0; j<W; j++){\n",
        "                std::cout << \"#\";\n",
        "            }\n",
        "            std::cout << \"\\n\";\n",
        "        }\n",
        "        std::cout << \"\\n\";\n",
        "    }\n",
        "    return 0;\n",
        "}"
      ],
      "execution_count": null,
      "outputs": [
        {
          "output_type": "stream",
          "text": [
            "Overwriting printrectangle.cpp\n"
          ],
          "name": "stdout"
        }
      ]
    },
    {
      "cell_type": "code",
      "metadata": {
        "colab": {
          "base_uri": "https://localhost:8080/"
        },
        "id": "f1ef0s4U16Vu",
        "outputId": "c396f336-f924-48aa-ffe4-7991192705df"
      },
      "source": [
        "!g++ printrectangle.cpp -o printrectangle; echo 3 4 5 6 2 2 0 0 |./printrectangle"
      ],
      "execution_count": null,
      "outputs": [
        {
          "output_type": "stream",
          "text": [
            "####\n",
            "####\n",
            "####\n",
            "\n",
            "######\n",
            "######\n",
            "######\n",
            "######\n",
            "######\n",
            "\n",
            "##\n",
            "##\n",
            "\n"
          ],
          "name": "stdout"
        }
      ]
    },
    {
      "cell_type": "markdown",
      "metadata": {
        "id": "MFuMIws1d_UU"
      },
      "source": [
        "### ITP1_5_B: Print a Frame\n",
        "たて \"H\" cm よこ \"W\" cm の枠を描く。\n",
        "\"H\", \"W\" がともに 0 のとき、入力の終わり。\n",
        "\n",
        "例: 3 4 5 6 3 3 0 0 =>  "
      ]
    },
    {
      "cell_type": "code",
      "metadata": {
        "id": "mTpM4Mq7Q4MT",
        "colab": {
          "base_uri": "https://localhost:8080/",
          "height": 84
        },
        "outputId": "05415672-0319-48f1-d603-b4be42c03232"
      },
      "source": [
        "%%html\n",
        "<span style=\"font-family: monospace\">####<br>#..#<br>####<br>...</span>\n"
      ],
      "execution_count": null,
      "outputs": [
        {
          "output_type": "display_data",
          "data": {
            "text/html": [
              "<span style=\"font-family: monospace\">####<br>#..#<br>####<br>...</span>"
            ],
            "text/plain": [
              "<IPython.core.display.HTML object>"
            ]
          },
          "metadata": {
            "tags": []
          }
        }
      ]
    },
    {
      "cell_type": "code",
      "metadata": {
        "id": "k4ZJCIuGR2SJ",
        "colab": {
          "base_uri": "https://localhost:8080/"
        },
        "outputId": "c54f4d3a-9bf4-4c07-b84a-0bca924a2130"
      },
      "source": [
        "%%writefile printframe.cpp\n",
        "#include <iostream>\n",
        "int main(){\n",
        "    int H, W;\n",
        "    while (1){\n",
        "        std::cin >> H >> W;\n",
        "        if (H==0 && W==0) break;\n",
        "        for (int i=0; i<H; i++){\n",
        "            for (int j=0; j<W; j++){\n",
        "                if (i==0 || i==H-1 || j==0 || j==W-1){\n",
        "                    std::cout << \"#\";\n",
        "                } else {\n",
        "                    std::cout << \".\";\n",
        "                }\n",
        "            }\n",
        "            std::cout << \"\\n\";\n",
        "        }\n",
        "        std::cout << \"\\n\";\n",
        "    }\n",
        "    return 0;\n",
        "}"
      ],
      "execution_count": null,
      "outputs": [
        {
          "output_type": "stream",
          "text": [
            "Overwriting printframe.cpp\n"
          ],
          "name": "stdout"
        }
      ]
    },
    {
      "cell_type": "code",
      "metadata": {
        "id": "5zFzjE0lR2dZ",
        "colab": {
          "base_uri": "https://localhost:8080/"
        },
        "outputId": "bd94837c-4af7-4d8f-d776-c319c3497e9e"
      },
      "source": [
        "!g++ printframe.cpp -o printframe; echo 3 4 5 6 3 3 0 0 |./printframe"
      ],
      "execution_count": null,
      "outputs": [
        {
          "output_type": "stream",
          "text": [
            "####\n",
            "#..#\n",
            "####\n",
            "\n",
            "######\n",
            "#....#\n",
            "#....#\n",
            "#....#\n",
            "######\n",
            "\n",
            "###\n",
            "#.#\n",
            "###\n",
            "\n"
          ],
          "name": "stdout"
        }
      ]
    },
    {
      "cell_type": "markdown",
      "metadata": {
        "id": "9N4Fbcu3eApD"
      },
      "source": [
        "### ITP1_5_C: Print a Chessboard\n",
        "チェスボードの描画。\n",
        "たて $H$ cm よこ $W$ cm のチェック柄の長方形を描く。 左上が \"#\"。$H$、$W$ がともに 0 のとき、入力の終わり。\n",
        "\n",
        "例: 3 4 5 6 3 3 2 2 1 1 0 0 =>"
      ]
    },
    {
      "cell_type": "code",
      "metadata": {
        "colab": {
          "base_uri": "https://localhost:8080/",
          "height": 84
        },
        "id": "oH0yhyRgrchL",
        "outputId": "cc6bfb1a-87a8-450f-eb66-1212243f3b93"
      },
      "source": [
        "%%html\n",
        "<span style=\"font-family: monospace\">#.#.<br>.#.#<br>#.#.<br>.#.#</span>"
      ],
      "execution_count": null,
      "outputs": [
        {
          "output_type": "display_data",
          "data": {
            "text/html": [
              "<span style=\"font-family: monospace\">#.#.<br>.#.#<br>#.#.<br>.#.#</span>"
            ],
            "text/plain": [
              "<IPython.core.display.HTML object>"
            ]
          },
          "metadata": {
            "tags": []
          }
        }
      ]
    },
    {
      "cell_type": "code",
      "metadata": {
        "colab": {
          "base_uri": "https://localhost:8080/"
        },
        "id": "Qwafwo9Hrbit",
        "outputId": "2c2976b3-0cfa-47c0-da67-2171dcc56a31"
      },
      "source": [
        "%%writefile chessboard.cpp\n",
        "\n",
        "#include <iostream>\n",
        "int main(){\n",
        "    int H, W;\n",
        "    while (1){\n",
        "        std::cin >> H >> W;\n",
        "        if (H==0 && W==0) break;\n",
        "        for (int i=0; i<H; i++){\n",
        "            for (int j=0; j<W; j++){\n",
        "                if ((i +j) % 2 == 0){\n",
        "                    std::cout << \"#\";\n",
        "                } else {\n",
        "                    std::cout << \".\";\n",
        "                }\n",
        "            }\n",
        "            std::cout << \"\\n\";\n",
        "        }\n",
        "        std::cout << \"\\n\";\n",
        "    }\n",
        "    return 0;\n",
        "}"
      ],
      "execution_count": null,
      "outputs": [
        {
          "output_type": "stream",
          "text": [
            "Writing chessboard.cpp\n"
          ],
          "name": "stdout"
        }
      ]
    },
    {
      "cell_type": "code",
      "metadata": {
        "colab": {
          "base_uri": "https://localhost:8080/"
        },
        "id": "5dlqwsClrbZG",
        "outputId": "26eae636-b618-4eae-8e29-76bf2f91f799"
      },
      "source": [
        "!g++ chessboard.cpp -o chessboard; echo 3 4 5 6 3 3 2 2 1 1 0 0 |./chessboard"
      ],
      "execution_count": null,
      "outputs": [
        {
          "output_type": "stream",
          "text": [
            "#.#.\n",
            ".#.#\n",
            "#.#.\n",
            "\n",
            "#.#.#.\n",
            ".#.#.#\n",
            "#.#.#.\n",
            ".#.#.#\n",
            "#.#.#.\n",
            "\n",
            "#.#\n",
            ".#.\n",
            "#.#\n",
            "\n",
            "#.\n",
            ".#\n",
            "\n",
            "#\n",
            "\n"
          ],
          "name": "stdout"
        }
      ]
    },
    {
      "cell_type": "markdown",
      "metadata": {
        "id": "5FNV97PxeD1T"
      },
      "source": [
        "### ITP1_5_D: Structured Programming\n",
        "整数 $n$ 以下の3の倍数または3のつく数を出力する。先頭は空白。\n",
        "\n",
        "例: 3 => 3 6 9 12 13 15 18 21 23 24 27 30\n"
      ]
    },
    {
      "cell_type": "code",
      "metadata": {
        "colab": {
          "base_uri": "https://localhost:8080/"
        },
        "id": "zXtAgN9vt473",
        "outputId": "9dbe8600-96f6-49a6-db1f-e9139143e941"
      },
      "source": [
        "%%writefile structuredprogramming.cpp\n",
        "#include <iostream>\n",
        "\n",
        "bool has3(int x){\n",
        "    while (x){\n",
        "        if (x % 10 == 3) return true;\n",
        "        x /= 10;\n",
        "    }\n",
        "    return false;\n",
        "}\n",
        "\n",
        "void call(int n){\n",
        "    for (int x = 1; x <= n; x++){\n",
        "        if (x % 3 == 0 || has3(x)){\n",
        "            std::cout << \" \" << x;\n",
        "        }\n",
        "    }\n",
        "}\n",
        "\n",
        "int main(){\n",
        "    int n;\n",
        "    std::cin >> n;\n",
        "    call (n);\n",
        "    return 0;\n",
        "}"
      ],
      "execution_count": null,
      "outputs": [
        {
          "output_type": "stream",
          "text": [
            "Overwriting structuredprogramming.cpp\n"
          ],
          "name": "stdout"
        }
      ]
    },
    {
      "cell_type": "code",
      "metadata": {
        "colab": {
          "base_uri": "https://localhost:8080/"
        },
        "id": "iE__M4nct5QH",
        "outputId": "6f4f18ef-02ec-4f66-b606-b28a33d677a2"
      },
      "source": [
        "!g++ structuredprogramming.cpp -o structuredprogramming; echo 30 |./structuredprogramming"
      ],
      "execution_count": null,
      "outputs": [
        {
          "output_type": "stream",
          "text": [
            " 3 6 9 12 13 15 18 21 23 24 27 30"
          ],
          "name": "stdout"
        }
      ]
    },
    {
      "cell_type": "markdown",
      "metadata": {
        "id": "9L0wG7bihNoT"
      },
      "source": [
        "### ITP1_6_A: Reversing Numbers\n",
        "与えられた数列を逆順に出力する。\n",
        "\n",
        "例: 5 1 2 3 4 5 => 5 4 3 2 1\n"
      ]
    },
    {
      "cell_type": "code",
      "metadata": {
        "colab": {
          "base_uri": "https://localhost:8080/"
        },
        "id": "8hywPkf51ARj",
        "outputId": "4b28434d-d687-471a-e037-df32369be885"
      },
      "source": [
        "%%writefile reversenumber.cpp\n",
        "#include <iostream>\n",
        "int main(){\n",
        "    int n, A[100];\n",
        "    std::cin >> n;\n",
        "    for (int i = 0; i < n; i++) std::cin >> A[i];\n",
        "    for (int i = n-1; i >=0; i--){\n",
        "        if (i != n-1) std::cout << \" \";\n",
        "        std::cout << A[i];\n",
        "    }\n",
        "    std::cout << \"\\n\";\n",
        "    return 0;\n",
        "}\n"
      ],
      "execution_count": null,
      "outputs": [
        {
          "output_type": "stream",
          "text": [
            "Writing reversenumber.cpp\n"
          ],
          "name": "stdout"
        }
      ]
    },
    {
      "cell_type": "code",
      "metadata": {
        "colab": {
          "base_uri": "https://localhost:8080/"
        },
        "id": "Fd66mBQg1AGv",
        "outputId": "0b8a2b7f-19e2-4405-89ca-526647303258"
      },
      "source": [
        "!g++ reversenumber.cpp -o reversenumber; echo 5 1 2 3 4 5 |./reversenumber"
      ],
      "execution_count": null,
      "outputs": [
        {
          "output_type": "stream",
          "text": [
            "5 4 3 2 1\n"
          ],
          "name": "stdout"
        }
      ]
    },
    {
      "cell_type": "markdown",
      "metadata": {
        "id": "qk8oT8IkeF-a"
      },
      "source": [
        "### ITP1_6_B: Finding Missing Cards\n",
        "不足しているカードの発見。 52枚あるはずのカードが $n$ 枚のカードしかない。 $n$ と手元のカードを入力として足りないカードを出力する。\n",
        "\n",
        "例: 47 S 10 S 11 S 12 S 13 H 1 H 2 S 6 S 7 S 8 S 9 H 6 H 8 H 9 H 10 H 11 H 4 H 5 S 2 S 3 S 4 S 5 H 12 H 13 C 1 C 2 D 1 D 2 D 3 D 4 D 5 D 6 D 7 C 3 C 4 C 5 C 6 C 7 C 8 C 9 C 10 C 11 C 13 D 9 D 10 D 11 D 12 D 13 => \n",
        "S 1 \n",
        "H 3  \n",
        "H 7  \n",
        "C 12  \n",
        "D 8  \n"
      ]
    },
    {
      "cell_type": "code",
      "metadata": {
        "id": "udBhK5izB4D_",
        "colab": {
          "base_uri": "https://localhost:8080/"
        },
        "outputId": "1922ffca-24e5-41c3-df04-940e0f6e0248"
      },
      "source": [
        "%%writefile findmissingcard.cpp\n",
        "#include <iostream>\n",
        "\n",
        "int main(){\n",
        "    bool cards[4][14];\n",
        "    int n, rank;\n",
        "    char suit;\n",
        "\n",
        "    for (int s = 0; s < 4; s++)\n",
        "        for (int r = 0; r < 14; r++) \n",
        "            cards[s][r] = 0;\n",
        "\n",
        "    std::cin >> n;\n",
        "\n",
        "    for (int i = 0; i < n; i++){\n",
        "        std::cin >> suit >> rank;\n",
        "        if (suit == 'S') cards[0][rank] = 1;\n",
        "        if (suit == 'H') cards[1][rank] = 1;\n",
        "        if (suit == 'C') cards[2][rank] = 1;\n",
        "        if (suit == 'D') cards[3][rank] = 1;\n",
        "    }\n",
        "\n",
        "    for (int s = 0; s < 4; s++){\n",
        "        for (int r = 1; r < 14; r++){\n",
        "            if (!(cards[s][r])){\n",
        "            if (s == 0) suit = 'S';\n",
        "            if (s == 1) suit = 'H';\n",
        "            if (s == 2) suit = 'C';\n",
        "            if (s == 3) suit = 'D';\n",
        "            std::cout << suit << \" \" << r << \"\\n\";}\n",
        "        }\n",
        "    }\n",
        "    return 0;\n",
        "}\n"
      ],
      "execution_count": null,
      "outputs": [
        {
          "output_type": "stream",
          "text": [
            "Overwriting findmissingcard.cpp\n"
          ],
          "name": "stdout"
        }
      ]
    },
    {
      "cell_type": "code",
      "metadata": {
        "id": "bQSM83J-B32x",
        "colab": {
          "base_uri": "https://localhost:8080/"
        },
        "outputId": "e8111298-aefe-40a1-d20f-8b4a5c0a6815"
      },
      "source": [
        "!g++ findmissingcard.cpp -o findmissingcard; echo  47 S 10 S 11 S 12 S 13 H 1 H 2 S 6 S 7 S 8 S 9 H 6 H 8 H 9 H 10 H 11 H 4 H 5 S 2 S 3 S 4 S 5 H 12 H 13 C 1 C 2 D 1 D 2 D 3 D 4 D 5 D 6 D 7 C 3 C 4 C 5 C 6 C 7 C 8 C 9 C 10 C 11 C 13 D 9 D 10 D 11 D 12 D 13 |./findmissingcard"
      ],
      "execution_count": null,
      "outputs": [
        {
          "output_type": "stream",
          "text": [
            "S 1\n",
            "H 3\n",
            "H 7\n",
            "C 12\n",
            "D 8\n"
          ],
          "name": "stdout"
        }
      ]
    },
    {
      "cell_type": "markdown",
      "metadata": {
        "id": "gl6V6UdpeHlS"
      },
      "source": [
        "### ITP1_6_C: Official House\n",
        "1フロア10部屋、3階建ての公舎4棟の入居・退去の情報を読み込み、各部屋の入居者数を出力する。\n",
        "\n",
        "$n$件の情報で、それぞれ $b$, $f$, $r$, $v$が与えられ、$b$棟$f$階の$r$番目の部屋に$v$人が追加で入居したことを示す。\n",
        "\n",
        "例:  3 1 1 3 8 3 2 2 7 4 3 8 1 =>\n"
      ]
    },
    {
      "cell_type": "code",
      "metadata": {
        "colab": {
          "base_uri": "https://localhost:8080/",
          "height": 269
        },
        "id": "JWOYdTDcgUl4",
        "outputId": "999b0187-b6a8-4c82-9d7a-7a7916b27684"
      },
      "source": [
        "%%html\n",
        "<span style=\"font-family: monospace\">\n",
        " 0 0 8 0 0 0 0 0 0 0<br>\n",
        " 0 0 0 0 0 0 0 0 0 0<br>\n",
        " 0 0 0 0 0 0 0 0 0 0<br>\n",
        "####################<br>\n",
        " 0 0 0 0 0 0 0 0 0 0<br>\n",
        " 0 0 0 0 0 0 0 0 0 0<br>\n",
        " 0 0 0 0 0 0 0 0 0 0<br>\n",
        "####################<br>\n",
        " 0 0 0 0 0 0 0 0 0 0<br>\n",
        " 0 7 0 0 0 0 0 0 0 0<br>\n",
        " 0 0 0 0 0 0 0 0 0 0<br>\n",
        "####################<br>\n",
        " 0 0 0 0 0 0 0 0 0 0<br>\n",
        " 0 0 0 0 0 0 0 0 0 0<br>\n",
        " 0 0 0 0 0 0 0 1 0 0</span>"
      ],
      "execution_count": null,
      "outputs": [
        {
          "output_type": "display_data",
          "data": {
            "text/html": [
              "<span style=\"font-family: monospace\">\n",
              " 0 0 8 0 0 0 0 0 0 0<br>\n",
              " 0 0 0 0 0 0 0 0 0 0<br>\n",
              " 0 0 0 0 0 0 0 0 0 0<br>\n",
              "####################<br>\n",
              " 0 0 0 0 0 0 0 0 0 0<br>\n",
              " 0 0 0 0 0 0 0 0 0 0<br>\n",
              " 0 0 0 0 0 0 0 0 0 0<br>\n",
              "####################<br>\n",
              " 0 0 0 0 0 0 0 0 0 0<br>\n",
              " 0 7 0 0 0 0 0 0 0 0<br>\n",
              " 0 0 0 0 0 0 0 0 0 0<br>\n",
              "####################<br>\n",
              " 0 0 0 0 0 0 0 0 0 0<br>\n",
              " 0 0 0 0 0 0 0 0 0 0<br>\n",
              " 0 0 0 0 0 0 0 1 0 0</span>"
            ],
            "text/plain": [
              "<IPython.core.display.HTML object>"
            ]
          },
          "metadata": {
            "tags": []
          }
        }
      ]
    },
    {
      "cell_type": "code",
      "metadata": {
        "colab": {
          "base_uri": "https://localhost:8080/"
        },
        "id": "9KC4AhNVkjhh",
        "outputId": "8b59ba24-ee5f-4ae8-9e37-79f9e5d66e36"
      },
      "source": [
        "%%writefile officialhouse.cpp\n",
        "#include <iostream>\n",
        "int main(){\n",
        "    int A[5][4][11], n;\n",
        "    for (int i=1; i<=4; i++)\n",
        "        for (int j=1; j<=3; j++)\n",
        "            for (int k=1; k<=10; k++) A[i][j][k] = 0;\n",
        "    std::cin >> n;\n",
        "    for (int i=0; i<n; i++){\n",
        "        int b,f,r,v;\n",
        "        std::cin >> b >> f >> r >> v;\n",
        "        A[b][f][r] += v;\n",
        "    }\n",
        "    for (int f=1; f<=4; f++){\n",
        "        if (f > 1) std::cout << \"####################\\n\";\n",
        "        for (int b=1; b <=3; b++){\n",
        "            for (int r=1; r<=10; r++){\n",
        "                 std::cout << \" \" << A[f][b][r];\n",
        "            }\n",
        "            std::cout << \"\\n\";\n",
        "        }\n",
        "    }\n",
        "    return 0;\n",
        "}"
      ],
      "execution_count": null,
      "outputs": [
        {
          "output_type": "stream",
          "text": [
            "Overwriting officialhouse.cpp\n"
          ],
          "name": "stdout"
        }
      ]
    },
    {
      "cell_type": "code",
      "metadata": {
        "colab": {
          "base_uri": "https://localhost:8080/"
        },
        "id": "9ZLB-DYzkjX6",
        "outputId": "2f1455ef-c14c-4344-e182-d191ca31f742"
      },
      "source": [
        "!g++ officialhouse.cpp -o officialhouse; echo 3 1 1 3 8 3 2 2 7 4 3 8 1 |./officialhouse"
      ],
      "execution_count": null,
      "outputs": [
        {
          "output_type": "stream",
          "text": [
            " 0 0 8 0 0 0 0 0 0 0\n",
            " 0 0 0 0 0 0 0 0 0 0\n",
            " 0 0 0 0 0 0 0 0 0 0\n",
            "####################\n",
            " 0 0 0 0 0 0 0 0 0 0\n",
            " 0 0 0 0 0 0 0 0 0 0\n",
            " 0 0 0 0 0 0 0 0 0 0\n",
            "####################\n",
            " 0 0 0 0 0 0 0 0 0 0\n",
            " 0 7 0 0 0 0 0 0 0 0\n",
            " 0 0 0 0 0 0 0 0 0 0\n",
            "####################\n",
            " 0 0 0 0 0 0 0 0 0 0\n",
            " 0 0 0 0 0 0 0 0 0 0\n",
            " 0 0 0 0 0 0 0 1 0 0\n"
          ],
          "name": "stdout"
        }
      ]
    },
    {
      "cell_type": "markdown",
      "metadata": {
        "id": "MoY5kTtheI2a"
      },
      "source": [
        "### ITP1_6_D: Matrix Vector Multiplication\n",
        "$n \\times m$ の行列 $A$ と、$m \\times 1$ の列ベクトル $b$ を読み込み、$A$ と $b$ の積を出力する。\n",
        "\n",
        "例: 3 4 1 2 0 1 0 3 0 1 4 1 1 0 1 2 3 0 =>   \n",
        "5  \n",
        "6  \n",
        "9  \n"
      ]
    },
    {
      "cell_type": "code",
      "metadata": {
        "id": "BRZMtp2d39jV",
        "colab": {
          "base_uri": "https://localhost:8080/"
        },
        "outputId": "bf702dc8-ab41-458a-f583-1a3e8db0185e"
      },
      "source": [
        "%%writefile matrixvectormultiplication.cpp\n",
        "#include <iostream>\n",
        "\n",
        "int main(){\n",
        "    int n, m, A[100][100], b[100], c[100];\n",
        "    std::cin >> n >> m;\n",
        "    for (int i=0; i<n; i++)\n",
        "        for (int j=0; j<m; j++) std::cin >> A[i][j];\n",
        "    for (int i=0; i<m; i++) std::cin >> b[i];\n",
        "\n",
        "    for (int i=0; i<n; i++){\n",
        "        c[i] = 0;\n",
        "        for (int j=0; j<m; j++){\n",
        "            c[i] += A[i][j]*b[j];\n",
        "        }\n",
        "    }\n",
        "    \n",
        "    for (int i=0; i<n; i++) std::cout << c[i] << \"\\n\";\n",
        "    return 0;\n",
        "}"
      ],
      "execution_count": null,
      "outputs": [
        {
          "output_type": "stream",
          "text": [
            "Overwriting matrixvectormultiplication.cpp\n"
          ],
          "name": "stdout"
        }
      ]
    },
    {
      "cell_type": "code",
      "metadata": {
        "id": "Zfr-O0KG3-Bb",
        "colab": {
          "base_uri": "https://localhost:8080/"
        },
        "outputId": "e7972665-0643-4732-d0aa-919b0a94be5b"
      },
      "source": [
        "!g++ matrixvectormultiplication.cpp -o matrixvectormultiplication; echo 3 4 1 2 0 1 0 3 0 1 4 1 1 0 1 2 3 0 |./matrixvectormultiplication"
      ],
      "execution_count": null,
      "outputs": [
        {
          "output_type": "stream",
          "text": [
            "5\n",
            "6\n",
            "9\n"
          ],
          "name": "stdout"
        }
      ]
    },
    {
      "cell_type": "markdown",
      "metadata": {
        "id": "4wEycqpE59ny"
      },
      "source": [
        "# いまここ"
      ]
    },
    {
      "cell_type": "markdown",
      "metadata": {
        "id": "GPZkGO9veKYa"
      },
      "source": [
        "### ITP1_7_A: Grading\n",
        "\n"
      ]
    },
    {
      "cell_type": "code",
      "metadata": {
        "id": "bsl-1ynNxq1Y"
      },
      "source": [
        "// %%writefile grading.cpp\n",
        "#include <iostream>\n",
        "\n",
        "int getGrade(int m, int f, int r) {\n",
        "    int sum = m + f;\n",
        "    char grade;\n",
        "    if (m == -1 || f == -1) {\n",
        "        grade = 'F';\n",
        "    } else if (80 <= sum) {\n",
        "        grade = 'A';\n",
        "    } else if (65 <= sum && sum < 80) {\n",
        "        grade = 'B';\n",
        "    } else if (50 <= sum && sum < 65) {\n",
        "        grade = 'C';\n",
        "    } else if (30 <= sum && sum < 50) {\n",
        "        if (50 <= r)\n",
        "            grade = 'C';\n",
        "        else\n",
        "            grade = 'D';\n",
        "    } else if (sum < 30) {\n",
        "        grade = 'F';\n",
        "    }\n",
        "    return grade;\n",
        "}\n",
        "\n",
        "int main() {\n",
        "    int m, f, r;\n",
        "    while (1) {\n",
        "        std::cin >> m >> f >> r;\n",
        "        if (m == -1 && f == -1 && r == -1) break;\n",
        "        std::cout << getGrade(m, f, r) << \"\\n\";\n",
        "    }\n",
        "    return 0;\n",
        "}"
      ],
      "execution_count": null,
      "outputs": []
    },
    {
      "cell_type": "markdown",
      "metadata": {
        "id": "33s4FHAneLdi"
      },
      "source": [
        "### ITP1_7_B: How many ways?\n",
        "\n"
      ]
    },
    {
      "cell_type": "code",
      "metadata": {
        "id": "a6_VEdWNv5R_"
      },
      "source": [
        "%%writefile howmanyway.cpp\n",
        "#include <iostream>\n",
        "\n",
        "int count(int n, int x) {\n",
        "    int cnt = 0;\n",
        "    for (int i = 1; i <= n - 2; i++) {\n",
        "        for (int j = i + 1; j <= n - 1; j++) {\n",
        "            for (int k = j + 1; k <= n; k++) {\n",
        "                if (i + j + k == x) cnt++;\n",
        "            }\n",
        "        }\n",
        "    }\n",
        "    return cnt;\n",
        "}\n",
        "\n",
        "int main() {\n",
        "    int n, x;\n",
        "    while (1) {\n",
        "        std::cin >> n >> x;\n",
        "        if (n == 0 && x == 0) break;\n",
        "        std::cout << count(n, x) << \"\\n\";\n",
        "    }\n",
        "    return 0;\n",
        "}"
      ],
      "execution_count": null,
      "outputs": []
    },
    {
      "cell_type": "markdown",
      "metadata": {
        "id": "el6wucfdeMlK"
      },
      "source": [
        "### ITP1_7_C: Spreadsheet\n",
        "\n"
      ]
    },
    {
      "cell_type": "markdown",
      "metadata": {
        "id": "D3nNxCEneNZB"
      },
      "source": [
        "### ITP1_7_D: Matrix Multiplication\n",
        "\n"
      ]
    },
    {
      "cell_type": "markdown",
      "metadata": {
        "id": "75e9hXNreOHp"
      },
      "source": [
        "### ITP1_8_A: Toggling Cases\n",
        "\n"
      ]
    },
    {
      "cell_type": "markdown",
      "metadata": {
        "id": "J5whLVdFePDp"
      },
      "source": [
        "### ITP1_8_B: Sum of Numbers\n",
        "\n"
      ]
    },
    {
      "cell_type": "markdown",
      "metadata": {
        "id": "NyNPaOkJePxB"
      },
      "source": [
        "### ITP1_8_C: Counting Characters\n",
        "\n"
      ]
    },
    {
      "cell_type": "markdown",
      "metadata": {
        "id": "ZumzW0lMeQdR"
      },
      "source": [
        "### ITP1_8_D: Ring\n",
        "\n"
      ]
    },
    {
      "cell_type": "markdown",
      "metadata": {
        "id": "P7WavdkReROB"
      },
      "source": [
        "### ITP1_9_A: Finding a Word\n",
        "\n"
      ]
    },
    {
      "cell_type": "markdown",
      "metadata": {
        "id": "FIfUnFWKeR6Z"
      },
      "source": [
        "### ITP1_9_B: Shuffle\n",
        "\n"
      ]
    },
    {
      "cell_type": "markdown",
      "metadata": {
        "id": "nLP0EvwueSsx"
      },
      "source": [
        "### ITP1_9_C: Card Game\n"
      ]
    },
    {
      "cell_type": "markdown",
      "metadata": {
        "id": "Bog1bWnRhO97"
      },
      "source": [
        "### ITP1_9_D: Transformation\n",
        "\n"
      ]
    },
    {
      "cell_type": "markdown",
      "metadata": {
        "id": "nzLLtKkheUhg"
      },
      "source": [
        "### ITP1_10_A: Distance\n",
        "\n"
      ]
    },
    {
      "cell_type": "markdown",
      "metadata": {
        "id": "pMeeTmvoeWNA"
      },
      "source": [
        "### ITP1_10_B: Triangle\n",
        "\n"
      ]
    },
    {
      "cell_type": "markdown",
      "metadata": {
        "id": "WDreN0SVeXVw"
      },
      "source": [
        "### ITP1_10_C: Standard Deviation\n"
      ]
    },
    {
      "cell_type": "markdown",
      "metadata": {
        "id": "HwCRABjKhP9r"
      },
      "source": [
        "\n",
        "### ITP1_10_D: Distance II\n"
      ]
    },
    {
      "cell_type": "markdown",
      "metadata": {
        "id": "NoN0066LhR2i"
      },
      "source": [
        "### ITP1_11_A: Dice I\n",
        "\n"
      ]
    },
    {
      "cell_type": "markdown",
      "metadata": {
        "id": "0X6q4Qh-eZF4"
      },
      "source": [
        "### ITP1_11_B: Dice II\n",
        "\n"
      ]
    },
    {
      "cell_type": "markdown",
      "metadata": {
        "id": "Z7ub_XCLeZzn"
      },
      "source": [
        "### ITP1_11_C: Dice III\n"
      ]
    },
    {
      "cell_type": "markdown",
      "metadata": {
        "id": "vsEVM-knhMRz"
      },
      "source": [
        "### ITP1_11_D: Dice IV\n"
      ]
    },
    {
      "cell_type": "markdown",
      "metadata": {
        "id": "M5jGhwlZedZz"
      },
      "source": [
        "# ALDS1 Algorithms and Data Structures I アルゴリズムとデータ構造入門\n"
      ]
    },
    {
      "cell_type": "markdown",
      "metadata": {
        "id": "dgRpWMNM5f5B"
      },
      "source": [
        "### ALDS1_1_A: Insertion Sort\n"
      ]
    },
    {
      "cell_type": "code",
      "metadata": {
        "id": "wWIeY-3E7WG7",
        "colab": {
          "base_uri": "https://localhost:8080/"
        },
        "outputId": "02675017-c16c-47fa-a312-73cd7308f238"
      },
      "source": [
        "%%writefile insertionsort.cpp\n",
        "#include <bits/stdc++.h>\n",
        "using namespace std;\n",
        "\n",
        "int main(){\n",
        "  int N; cin >> N;\n",
        "  vector<int> A(N);\n",
        "  for (int i = 0; i < N; i++) cin >> A.at(i);\n",
        "\n",
        "  // 挿入ソート\n",
        "  // i : 未ソートの部分列の先頭を示すループ変数\n",
        "  // v : A.at(i) の値を一時的に保存しておくための変数\n",
        "  // j : ソート済み部分列から v を挿入するための位置を探すループ変数\n",
        "  for (int i = 0; i < N; i++){\n",
        "    int v = A.at(i);\n",
        "    int j = i-1;\n",
        "    while (j >= 0 && A.at(j) > v){\n",
        "      A.at(j+1) = A.at(j);\n",
        "      j--;\n",
        "    }\n",
        "    A.at(j+1) = v;\n",
        "\n",
        "    // 出力\n",
        "    for (int k = 0; k < N-1; k++) cout << A.at(k) << \" \";\n",
        "    cout << A.at(N-1) << endl;\n",
        "  }\n",
        "}"
      ],
      "execution_count": null,
      "outputs": [
        {
          "output_type": "stream",
          "text": [
            "Writing insertionsort.cpp\n"
          ],
          "name": "stdout"
        }
      ]
    },
    {
      "cell_type": "code",
      "metadata": {
        "id": "8MteZngA7V7u",
        "colab": {
          "base_uri": "https://localhost:8080/"
        },
        "outputId": "86e4b166-2eaa-4df0-c75c-276a5a50c6af"
      },
      "source": [
        "!g++ insertionsort.cpp -o insertionsort; echo 5 4 2 2 1 2 |./insertionsort"
      ],
      "execution_count": null,
      "outputs": [
        {
          "output_type": "stream",
          "text": [
            "4 2 2 1 2\n",
            "2 4 2 1 2\n",
            "2 2 4 1 2\n",
            "1 2 2 4 2\n",
            "1 2 2 2 4\n"
          ],
          "name": "stdout"
        }
      ]
    },
    {
      "cell_type": "markdown",
      "metadata": {
        "id": "2Z-Bdtte51W-"
      },
      "source": [
        "### ALDS1_1_B: Greatest Common Divisor\n"
      ]
    },
    {
      "cell_type": "markdown",
      "metadata": {
        "id": "52uHyHlN52Xk"
      },
      "source": [
        "### ALDS1_1_C: Prime Numbers\n"
      ]
    },
    {
      "cell_type": "markdown",
      "metadata": {
        "id": "_IwGXudx53ds"
      },
      "source": [
        "### ALDS1_1_D: Maximum Profit\n"
      ]
    },
    {
      "cell_type": "markdown",
      "metadata": {
        "id": "KA_9W4gE544k"
      },
      "source": [
        "### ALDS1_2_A: Bubble Sort\n"
      ]
    },
    {
      "cell_type": "markdown",
      "metadata": {
        "id": "rDCjE3hF56D9"
      },
      "source": [
        "### ALDS1_2_B: Selection Sort\n"
      ]
    },
    {
      "cell_type": "markdown",
      "metadata": {
        "id": "9ot8wAOE57PO"
      },
      "source": [
        "### ALDS1_2_C: Stable Sort\n"
      ]
    },
    {
      "cell_type": "markdown",
      "metadata": {
        "id": "av7-B9NV58y6"
      },
      "source": [
        "### ALDS1_3_A: Stack\n"
      ]
    },
    {
      "cell_type": "markdown",
      "metadata": {
        "id": "_aKlN4EE5-B6"
      },
      "source": [
        "### ALDS1_3_B: Queue\n"
      ]
    },
    {
      "cell_type": "markdown",
      "metadata": {
        "id": "QVbJHulY5_Cy"
      },
      "source": [
        "### ALDS1_3_C: Doubly Linked List\n"
      ]
    },
    {
      "cell_type": "markdown",
      "metadata": {
        "id": "BEYYKvyf6AA6"
      },
      "source": [
        "### ALDS1_3_D: Areas on the Cross-Section Diagram\n"
      ]
    },
    {
      "cell_type": "markdown",
      "metadata": {
        "id": "fpbvBt9r6BAR"
      },
      "source": [
        "### ALDS1_4_A: Linear Search\n"
      ]
    },
    {
      "cell_type": "markdown",
      "metadata": {
        "id": "OKaHxk6t6CEi"
      },
      "source": [
        "### ALDS1_4_B: Binary Search\n"
      ]
    },
    {
      "cell_type": "markdown",
      "metadata": {
        "id": "37EPC_wD6DBh"
      },
      "source": [
        "### ALDS1_4_C: Dictionary\n"
      ]
    },
    {
      "cell_type": "markdown",
      "metadata": {
        "id": "alDoe2pT6D5B"
      },
      "source": [
        "### ALDS1_4_D: Allocation\n"
      ]
    },
    {
      "cell_type": "markdown",
      "metadata": {
        "id": "5_0yoYNR6Exx"
      },
      "source": [
        "### ALDS1_5_A: Exhaustive Search\n"
      ]
    },
    {
      "cell_type": "markdown",
      "metadata": {
        "id": "YB5qhL2z6FxQ"
      },
      "source": [
        "### ALDS1_5_B: Merge Sort\n"
      ]
    },
    {
      "cell_type": "markdown",
      "metadata": {
        "id": "mHBEfYte6GqQ"
      },
      "source": [
        "### ALDS1_5_C: Koch Curve\n"
      ]
    },
    {
      "cell_type": "markdown",
      "metadata": {
        "id": "ZVHmAH9k6IIf"
      },
      "source": [
        "### ALDS1_5_D: The Number of Inversions\n"
      ]
    },
    {
      "cell_type": "markdown",
      "metadata": {
        "id": "E0jJF7W06JAA"
      },
      "source": [
        "### ALDS1_6_A: Counting Sort\n"
      ]
    },
    {
      "cell_type": "markdown",
      "metadata": {
        "id": "szEqSVYb6J1H"
      },
      "source": [
        "### ALDS1_6_B: Partition\n"
      ]
    },
    {
      "cell_type": "markdown",
      "metadata": {
        "id": "c5B-Wl3q6K8P"
      },
      "source": [
        "### ALDS1_6_C: Quick Sort\n"
      ]
    },
    {
      "cell_type": "markdown",
      "metadata": {
        "id": "E0rbmk966MDf"
      },
      "source": [
        "### ALDS1_6_D: Minimum Cost Sort\n"
      ]
    },
    {
      "cell_type": "markdown",
      "metadata": {
        "id": "8pl2osYG6M3P"
      },
      "source": [
        "### ALDS1_7_A: Rooted Trees\n"
      ]
    },
    {
      "cell_type": "markdown",
      "metadata": {
        "id": "x_0_gNKn6NzG"
      },
      "source": [
        "### ALDS1_7_B: Binary Trees\n"
      ]
    },
    {
      "cell_type": "markdown",
      "metadata": {
        "id": "jYALNOZ16PWG"
      },
      "source": [
        "### ALDS1_7_C: Tree Walk\n"
      ]
    },
    {
      "cell_type": "markdown",
      "metadata": {
        "id": "DmTIG_xR6QKm"
      },
      "source": [
        "### ALDS1_7_D: Reconstruction of a Tree\n"
      ]
    },
    {
      "cell_type": "markdown",
      "metadata": {
        "id": "s4SDNt7O6RM2"
      },
      "source": [
        "### ALDS1_8_A: Binary Search Tree I\n"
      ]
    },
    {
      "cell_type": "markdown",
      "metadata": {
        "id": "Pus6KCrN6SBl"
      },
      "source": [
        "### ALDS1_8_B: Binary Search Tree II\n"
      ]
    },
    {
      "cell_type": "markdown",
      "metadata": {
        "id": "0VvNOJXu6S0F"
      },
      "source": [
        "### ALDS1_8_C: Binary Search Tree III\n"
      ]
    },
    {
      "cell_type": "markdown",
      "metadata": {
        "id": "ApYo0eho6Tk9"
      },
      "source": [
        "### ALDS1_8_D: Treap\n"
      ]
    },
    {
      "cell_type": "markdown",
      "metadata": {
        "id": "2cWVvwGQ6Uhp"
      },
      "source": [
        "### ALDS1_9_A: Complete Binary Tree\n"
      ]
    },
    {
      "cell_type": "markdown",
      "metadata": {
        "id": "D6VvvJVk6V3c"
      },
      "source": [
        "### ALDS1_9_B: Maximum Heap\n"
      ]
    },
    {
      "cell_type": "markdown",
      "metadata": {
        "id": "SucopzHd6WvU"
      },
      "source": [
        "### ALDS1_9_C: Priority Queue\n"
      ]
    },
    {
      "cell_type": "markdown",
      "metadata": {
        "id": "vL7hPhDm6X4M"
      },
      "source": [
        "### ALDS1_10_A: Fibonacci Number\n"
      ]
    },
    {
      "cell_type": "markdown",
      "metadata": {
        "id": "V9y-NAQy6ZKL"
      },
      "source": [
        "### ALDS1_10_B: Matrix Chain Multiplication\n"
      ]
    },
    {
      "cell_type": "markdown",
      "metadata": {
        "id": "o4JdofIl6aFz"
      },
      "source": [
        "### ALDS1_10_C: Longest Common Subsequence\n"
      ]
    },
    {
      "cell_type": "markdown",
      "metadata": {
        "id": "-ZcQZvrQ6dPj"
      },
      "source": [
        "### ALDS1_11_A: Graph\n"
      ]
    },
    {
      "cell_type": "markdown",
      "metadata": {
        "id": "RY4VFxpJ6eoP"
      },
      "source": [
        "### ALDS1_11_B: Depth First Search\n"
      ]
    },
    {
      "cell_type": "markdown",
      "metadata": {
        "id": "WgkQGomu6iP5"
      },
      "source": [
        "### ALDS1_11_C: Breadth First Search\n"
      ]
    },
    {
      "cell_type": "markdown",
      "metadata": {
        "id": "2RPOcw-U6jPZ"
      },
      "source": [
        "### ALDS1_11_D: Connected Components\n"
      ]
    },
    {
      "cell_type": "markdown",
      "metadata": {
        "id": "vOT6-Xk56kJp"
      },
      "source": [
        "### ALDS1_12_A: Minimum Spanning Tree\n"
      ]
    },
    {
      "cell_type": "markdown",
      "metadata": {
        "id": "1aWc8YGW6ldx"
      },
      "source": [
        "### ALDS1_12_B: Single Source Shortest Path I\n"
      ]
    },
    {
      "cell_type": "markdown",
      "metadata": {
        "id": "ay3wBAmH6mb4"
      },
      "source": [
        "### ALDS1_12_C: Single Source Shortest Path II\n"
      ]
    },
    {
      "cell_type": "markdown",
      "metadata": {
        "id": "MWeQ-zPe6nTR"
      },
      "source": [
        "### ALDS1_13_A: 8 Queens Problem\n"
      ]
    },
    {
      "cell_type": "markdown",
      "metadata": {
        "id": "JKl3FCju6oOH"
      },
      "source": [
        "### ALDS1_13_B: 8 Puzzle\n"
      ]
    },
    {
      "cell_type": "markdown",
      "metadata": {
        "id": "PYjU2Gis6pRQ"
      },
      "source": [
        "### ALDS1_13_C: 15 Puzzle\n"
      ]
    },
    {
      "cell_type": "markdown",
      "metadata": {
        "id": "YVQXVue_6qNI"
      },
      "source": [
        "### ALDS1_14_A: Naive String Search\n"
      ]
    },
    {
      "cell_type": "markdown",
      "metadata": {
        "id": "WYeiAaKf6rKH"
      },
      "source": [
        "### ALDS1_14_B: String Search\n"
      ]
    },
    {
      "cell_type": "markdown",
      "metadata": {
        "id": "UI6kfrYa6sDX"
      },
      "source": [
        "### ALDS1_14_C: Pattern Search\n"
      ]
    },
    {
      "cell_type": "markdown",
      "metadata": {
        "id": "QJulQmps6tMn"
      },
      "source": [
        "### ALDS1_14_D: Multiple String Matching\n"
      ]
    },
    {
      "cell_type": "markdown",
      "metadata": {
        "id": "rF_XAz_96uLP"
      },
      "source": [
        "### ALDS1_15_A: Change Making\n"
      ]
    },
    {
      "cell_type": "markdown",
      "metadata": {
        "id": "5mKMHoDt6vEB"
      },
      "source": [
        "### ALDS1_15_C: Activity Selection Problem\n"
      ]
    },
    {
      "cell_type": "markdown",
      "metadata": {
        "id": "1GWivCmx6v-W"
      },
      "source": [
        "### ALDS1_15_D: Huffman Coding\n"
      ]
    }
  ]
}