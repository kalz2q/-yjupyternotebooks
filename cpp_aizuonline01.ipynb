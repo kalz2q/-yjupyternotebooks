{
  "nbformat": 4,
  "nbformat_minor": 0,
  "metadata": {
    "colab": {
      "name": "cpp_aizuonline01.ipynb",
      "provenance": [],
      "toc_visible": true,
      "authorship_tag": "ABX9TyNFMnS3wekOgAo52+K9HooF",
      "include_colab_link": true
    },
    "kernelspec": {
      "name": "python3",
      "display_name": "Python 3"
    }
  },
  "cells": [
    {
      "cell_type": "markdown",
      "metadata": {
        "id": "view-in-github",
        "colab_type": "text"
      },
      "source": [
        "<a href=\"https://colab.research.google.com/github/kalz2q/mycolabnotebooks/blob/master/cpp_aizuonline01.ipynb\" target=\"_parent\"><img src=\"https://colab.research.google.com/assets/colab-badge.svg\" alt=\"Open In Colab\"/></a>"
      ]
    },
    {
      "cell_type": "markdown",
      "metadata": {
        "id": "yyDogo8E0a-k"
      },
      "source": [
        "# メモ\n",
        "\n",
        "1. このノートブックは Colab で書かれて、読まれることを想定している。\n",
        "1. 今回のアイデアはAOJ (Aizu Online Judge) のコース問題を Colab化してみよう、というもの。\n",
        "1. オンラインジャッジは標準入出力を想定しているが、このノートでは入力はコマンドライン引数で与える。\n",
        "1. Aizu Online Judge https://onlinejudge.u-aizu.ac.jp/courses/list"
      ]
    },
    {
      "cell_type": "markdown",
      "metadata": {
        "id": "Sq6ot_P704rT"
      },
      "source": [
        "# 問題セット\n",
        "\n",
        "1. ITP1 Introduction to Programming I プログラミング入門\n",
        "1. ALDS1 Algorithms and Data Structures I アルゴリズムとデータ構造入門\n",
        "1. ITP2 Introduction to Programming II プログラミング応用\n",
        "1. DSL Data Sets and Queries データの集合とクエリ処理\n",
        "1. DPL Discrete Optimization Problems 組み合わせ最適化\n",
        "1. GRL Graph Algorithms グラフ\n",
        "1. CGL Computational Geometry 計算幾何学\n",
        "1. NTL Number Theory 整数論"
      ]
    },
    {
      "cell_type": "markdown",
      "metadata": {
        "id": "pGCikRlD4c0G"
      },
      "source": [
        "# ITP1 Introduction to Programming I プログラミング入門\n",
        "\n",
        "ITP1_1_A: Hello World  \n",
        "ITP1_1_B: X Cubic  \n",
        "ITP1_1_C: Rectangle  \n",
        "ITP1_1_D: Watch  \n",
        "ITP1_2_A: Small, Large, or Equal  \n",
        "ITP1_2_B: Range  \n",
        "ITP1_2_C: Sorting Three Numbers  \n",
        "ITP1_2_D: Circle in a Rectangle  \n",
        "ITP1_3_A: Print Many Hello World  \n",
        "ITP1_3_B: Print Test Cases  \n",
        "ITP1_3_C: Swapping Two Numbers  \n",
        "ITP1_3_D: How Many Divisors?  \n",
        "ITP1_4_A: A / B Problem  \n",
        "ITP1_4_B: Circle  \n",
        "ITP1_4_C: Simple Calculator  \n",
        "ITP1_4_D: Min, Max and Sum  \n",
        "ITP1_5_A: Print a Rectangle  \n",
        "ITP1_5_B: Print a Frame  \n",
        "ITP1_5_C: Print a Chessboard  \n",
        "ITP1_5_D: Structured Programming  \n",
        "ITP1_6_A: Reversing Numbers  \n",
        "ITP1_6_B: Finding Missing Cards  \n",
        "ITP1_6_C: Official House  \n",
        "ITP1_6_D: Matrix Vector Multiplication  \n",
        "ITP1_7_A: Grading  \n",
        "ITP1_7_B: How many ways?  \n",
        "ITP1_7_C: Spreadsheet  \n",
        "ITP1_7_D: Matrix Multiplication  \n",
        "ITP1_8_A: Toggling Cases  \n",
        "ITP1_8_B: Sum of Numbers  \n",
        "ITP1_8_C: Counting Characters  \n",
        "ITP1_8_D: Ring  \n",
        "ITP1_9_A: Finding a Word  \n",
        "ITP1_9_B: Shuffle  \n",
        "ITP1_9_C: Card Game  \n",
        "ITP1_9_D: Transformation  \n",
        "ITP1_10_A: Distance  \n",
        "ITP1_10_B: Triangle  \n",
        "ITP1_10_C: Standard Deviation  \n",
        "ITP1_10_D: Distance II  \n",
        "ITP1_11_A: Dice I  \n",
        "ITP1_11_B: Dice II  \n",
        "ITP1_11_C: Dice III  \n",
        "ITP1_11_D: Dice IV  \n",
        "\n"
      ]
    },
    {
      "cell_type": "markdown",
      "metadata": {
        "id": "oFZ0BDtT7Q-k"
      },
      "source": [
        "### ITP1_1_A: Hello World  \n",
        "\n",
        "\"Hello World\" と一行に出力する。"
      ]
    },
    {
      "cell_type": "code",
      "metadata": {
        "colab": {
          "base_uri": "https://localhost:8080/"
        },
        "id": "prf6Ks5V741Q",
        "outputId": "717c3328-a7ae-4b12-f756-825474651df9"
      },
      "source": [
        "%%writefile hello01.cpp\n",
        "\n",
        "#include <iostream>\n",
        "using namespace std;\n",
        "\n",
        "int main (){\n",
        "  cout << \"Hello World\"<< \"\\n\";\n",
        "}\n"
      ],
      "execution_count": null,
      "outputs": [
        {
          "output_type": "stream",
          "text": [
            "Writing hello01.cpp\n"
          ],
          "name": "stdout"
        }
      ]
    },
    {
      "cell_type": "code",
      "metadata": {
        "colab": {
          "base_uri": "https://localhost:8080/"
        },
        "id": "WjtbClzP0TQs",
        "outputId": "ef987bc7-8b15-4df7-955a-6e5c19d91032"
      },
      "source": [
        "!g++ hello01.cpp -o hello01; ./hello01"
      ],
      "execution_count": null,
      "outputs": [
        {
          "output_type": "stream",
          "text": [
            "Hello World\n"
          ],
          "name": "stdout"
        }
      ]
    },
    {
      "cell_type": "markdown",
      "metadata": {
        "id": "aGd4C-NC9mdn"
      },
      "source": [
        "### ITP1_1_B: X Cubic\n",
        "\n",
        "$x$ の３乗の計算結果を１行に出力する。"
      ]
    },
    {
      "cell_type": "code",
      "metadata": {
        "colab": {
          "base_uri": "https://localhost:8080/"
        },
        "id": "gNacblgN9fTg",
        "outputId": "0e38a1f5-49f7-4dab-bef7-348bcb6e14ba"
      },
      "source": [
        "%%writefile xcubic01.cpp\n",
        "\n",
        "#include <iostream>\n",
        "#include <cmath>\n",
        "using namespace std;\n",
        "//int main (){\n",
        "//  int x;\n",
        "//  cin >> x;\n",
        "int main (int argc, char* argv[]) {\n",
        "  int x = atoi(argv[1]);\n",
        "  cout << x*x*x << \"\\n\";\n",
        "}\n"
      ],
      "execution_count": 11,
      "outputs": [
        {
          "output_type": "stream",
          "text": [
            "Overwriting xcubic01.cpp\n"
          ],
          "name": "stdout"
        }
      ]
    },
    {
      "cell_type": "code",
      "metadata": {
        "colab": {
          "base_uri": "https://localhost:8080/"
        },
        "id": "NnwRLR_f90hp",
        "outputId": "71f07e81-5504-4b67-a73c-c6ae10c7b023"
      },
      "source": [
        "!g++ xcubic01.cpp -o xcubic01; ./xcubic01 10"
      ],
      "execution_count": 15,
      "outputs": [
        {
          "output_type": "stream",
          "text": [
            "1000\n"
          ],
          "name": "stdout"
        }
      ]
    },
    {
      "cell_type": "markdown",
      "metadata": {
        "id": "iKpT7KqTgltN"
      },
      "source": [
        "### ITP1_1_C: Rectangle\n",
        "たて $a$ cm よこ $b$ cm の長方形の面積と周の長さを求める。"
      ]
    },
    {
      "cell_type": "code",
      "metadata": {
        "id": "MJgSLBtrhZ4Y",
        "outputId": "e2650d9c-1e4d-49d2-a1d9-b7786ccb7dac",
        "colab": {
          "base_uri": "https://localhost:8080/"
        }
      },
      "source": [
        "%%writefile rectangle.cpp\n",
        "\n",
        "#include <iostream>\n",
        "#include <cmath>\n",
        "using namespace std;\n",
        "// int main (){\n",
        "//   int x,y;\n",
        "//   cin >> x >> y;\n",
        "//   cout << x * y << \" \" << (x + y) * 2 << endl;\n",
        "// }\n",
        "\n",
        "int main(int argc, char* argv[]){\n",
        "    int x = atoi(argv[1]);\n",
        "    int y = atoi(argv[2]);\n",
        "    cout << x * y << \" \" << (x + y) * 2 << \"\\n\";\n",
        "}"
      ],
      "execution_count": 20,
      "outputs": [
        {
          "output_type": "stream",
          "text": [
            "Overwriting rectangle.cpp\n"
          ],
          "name": "stdout"
        }
      ]
    },
    {
      "cell_type": "code",
      "metadata": {
        "id": "B8uIdW0DhaSf",
        "outputId": "34b6ecf3-a2b3-44d6-f593-f1bb61c977eb",
        "colab": {
          "base_uri": "https://localhost:8080/"
        }
      },
      "source": [
        "!g++ rectangle.cpp -o rectangle; ./rectangle 5 6"
      ],
      "execution_count": 21,
      "outputs": [
        {
          "output_type": "stream",
          "text": [
            "30 22\n"
          ],
          "name": "stdout"
        }
      ]
    },
    {
      "cell_type": "markdown",
      "metadata": {
        "id": "7WEEQyGZg_60"
      },
      "source": [
        "### ITP1_1_D: Watch\n",
        "秒 $S$ を $h:m:s:$ の形式に変換する。\n",
        "\n",
        "例: 46979 => 13:2:59"
      ]
    },
    {
      "cell_type": "code",
      "metadata": {
        "id": "aK6zM5ykj0zK"
      },
      "source": [
        "%%writefile watch.cpp\n",
        "\n",
        "#include <iostream>\n",
        "using namespace std;\n",
        "\n",
        "// int main (){\n",
        "//   int x, h, m, s;\n",
        "//   cin >> x;\n",
        "int main (int argc, char* argv[]) {\n",
        "    int x = atoi(argv[1]);\n",
        "    int h, m, s;\n",
        "    h = x / 3600;\n",
        "    m = (x % 3600) / 60;\n",
        "    s = ((x % 3600) % 60);\n",
        "    cout << h << \":\" << m << \":\" << s << \"\\n\";\n",
        "}\n"
      ],
      "execution_count": null,
      "outputs": []
    },
    {
      "cell_type": "code",
      "metadata": {
        "id": "TbObXxU4j0n6",
        "outputId": "297379f7-fdf2-426e-83ac-9e3124f8204b",
        "colab": {
          "base_uri": "https://localhost:8080/"
        }
      },
      "source": [
        "!g++ watch.cpp -o watch; ./watch 46979"
      ],
      "execution_count": 27,
      "outputs": [
        {
          "output_type": "stream",
          "text": [
            "13:2:59\n"
          ],
          "name": "stdout"
        }
      ]
    },
    {
      "cell_type": "markdown",
      "metadata": {
        "id": "__duxO9RhD7e"
      },
      "source": [
        "### ITP1_2_A: Small, Large, or Equal\n",
        "２つの整数 $a$, $b$ を読み込んで、$a$ と $b$ の大小関係を出力する。\n",
        "\n",
        "例: 1 2 => a < b\n",
        "\n"
      ]
    },
    {
      "cell_type": "code",
      "metadata": {
        "id": "w5YmL12jy9DD",
        "outputId": "c80ba114-5825-42d2-bd6e-d343aaa62268",
        "colab": {
          "base_uri": "https://localhost:8080/"
        }
      },
      "source": [
        "%%writefile smalllarge.cpp\n",
        "\n",
        "#include <iostream>\n",
        "#include <string>\n",
        "using namespace std;\n",
        "\n",
        "// int main (){\n",
        "//   int a, b;\n",
        "//   string s;\n",
        "//   cin >> a >> b;\n",
        "int main (int argc, char* argv[]) {\n",
        "    int a = atoi(argv[1]);\n",
        "    int b = atoi(argv[2]);\n",
        "    string s;\n",
        "    if (a < b) s = \"a < b\";\n",
        "    else if (a > b) s= \"a > b\";\n",
        "    else s=\"a == b\";\n",
        "    cout <<  s << \"\\n\";\n",
        "}\n"
      ],
      "execution_count": 32,
      "outputs": [
        {
          "output_type": "stream",
          "text": [
            "Overwriting smalllarge.cpp\n"
          ],
          "name": "stdout"
        }
      ]
    },
    {
      "cell_type": "code",
      "metadata": {
        "id": "jYpQaXEoy86d",
        "outputId": "a9aec63e-2d5b-4360-a2e6-df349aebc5d3",
        "colab": {
          "base_uri": "https://localhost:8080/"
        }
      },
      "source": [
        "!g++ smalllarge.cpp -o smalllarge; ./smalllarge 1 2"
      ],
      "execution_count": 33,
      "outputs": [
        {
          "output_type": "stream",
          "text": [
            "a < b\n"
          ],
          "name": "stdout"
        }
      ]
    },
    {
      "cell_type": "markdown",
      "metadata": {
        "id": "Rwl8VIYN8c9Y"
      },
      "source": [
        "# いまここ"
      ]
    },
    {
      "cell_type": "markdown",
      "metadata": {
        "id": "08AyIO3qx2Q9"
      },
      "source": [
        "### ITP1_2_B: Range\n",
        "３つの整数 $a$, $b$, $c$ を読み込み、それらが $a$ < $b$ < $c$ の条件を満たすならば\"Yes\"を、満たさないならば\"No\"を出力する。\n",
        "\n",
        "例: 1 3 8 => Yes"
      ]
    },
    {
      "cell_type": "markdown",
      "metadata": {
        "id": "iyoXo1SGx5l7"
      },
      "source": [
        "\n",
        "### ITP1_2_C: Sorting Three Numbers\n"
      ]
    },
    {
      "cell_type": "markdown",
      "metadata": {
        "id": "UpNiAmlPx62S"
      },
      "source": [
        "\n",
        "### ITP1_2_D: Circle in a Rectangle\n"
      ]
    },
    {
      "cell_type": "markdown",
      "metadata": {
        "id": "lpLwTcGJx8Hi"
      },
      "source": [
        "\n",
        "### ITP1_3_A: Print Many Hello World\n",
        "\n",
        "### ITP1_3_B: Print Test Cases\n"
      ]
    },
    {
      "cell_type": "markdown",
      "metadata": {
        "id": "h0P_lhLix4BL"
      },
      "source": [
        "\n",
        "### ITP1_3_C: Swapping Two Numbers\n",
        "\n",
        "### ITP1_3_D: How Many Divisors?\n",
        "\n",
        "### ITP1_4_A: A / B Problem\n",
        "\n",
        "### ITP1_4_B: Circle\n",
        "\n",
        "### ITP1_4_C: Simple Calculator\n",
        "\n",
        "### ITP1_4_D: Min, Max and Sum\n",
        "\n",
        "### ITP1_5_A: Print a Rectangle\n",
        "\n",
        "### ITP1_5_B: Print a Frame\n",
        "\n",
        "### ITP1_5_C: Print a Chessboard\n",
        "\n",
        "### ITP1_5_D: Structured Programming\n"
      ]
    },
    {
      "cell_type": "markdown",
      "metadata": {
        "id": "9L0wG7bihNoT"
      },
      "source": [
        "\n",
        "### ITP1_6_A: Reversing Numbers\n",
        "\n",
        "### ITP1_6_B: Finding Missing Cards\n",
        "\n",
        "### ITP1_6_C: Official House\n",
        "\n",
        "### ITP1_6_D: Matrix Vector Multiplication\n",
        "\n",
        "### ITP1_7_A: Grading\n",
        "\n",
        "### ITP1_7_B: How many ways?\n",
        "\n",
        "### ITP1_7_C: Spreadsheet\n",
        "\n",
        "### ITP1_7_D: Matrix Multiplication\n",
        "\n",
        "### ITP1_8_A: Toggling Cases\n",
        "\n",
        "### ITP1_8_B: Sum of Numbers\n",
        "\n",
        "### ITP1_8_C: Counting Characters\n",
        "\n",
        "### ITP1_8_D: Ring\n",
        "\n",
        "### ITP1_9_A: Finding a Word\n",
        "\n",
        "### ITP1_9_B: Shuffle\n",
        "\n",
        "### ITP1_9_C: Card Game\n"
      ]
    },
    {
      "cell_type": "markdown",
      "metadata": {
        "id": "Bog1bWnRhO97"
      },
      "source": [
        "\n",
        "### ITP1_9_D: Transformation\n",
        "\n",
        "### ITP1_10_A: Distance\n",
        "\n",
        "### ITP1_10_B: Triangle\n",
        "\n",
        "### ITP1_10_C: Standard Deviation\n"
      ]
    },
    {
      "cell_type": "markdown",
      "metadata": {
        "id": "HwCRABjKhP9r"
      },
      "source": [
        "\n",
        "### ITP1_10_D: Distance II\n"
      ]
    },
    {
      "cell_type": "markdown",
      "metadata": {
        "id": "NoN0066LhR2i"
      },
      "source": [
        "\n",
        "### ITP1_11_A: Dice I\n",
        "\n",
        "### ITP1_11_B: Dice II\n",
        "\n",
        "### ITP1_11_C: Dice III\n"
      ]
    },
    {
      "cell_type": "markdown",
      "metadata": {
        "id": "vsEVM-knhMRz"
      },
      "source": [
        "### ITP1_11_D: Dice IV\n"
      ]
    }
  ]
}