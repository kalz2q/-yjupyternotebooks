{
  "nbformat": 4,
  "nbformat_minor": 0,
  "metadata": {
    "colab": {
      "name": "cpp_aizuonline01.ipynb",
      "provenance": [],
      "toc_visible": true,
      "authorship_tag": "ABX9TyN9cmLiG4BTvN8YeXiKMpV4",
      "include_colab_link": true
    },
    "kernelspec": {
      "name": "python3",
      "display_name": "Python 3"
    }
  },
  "cells": [
    {
      "cell_type": "markdown",
      "metadata": {
        "id": "view-in-github",
        "colab_type": "text"
      },
      "source": [
        "<a href=\"https://colab.research.google.com/github/kalz2q/mycolabnotebooks/blob/master/cpp_aizuonline01.ipynb\" target=\"_parent\"><img src=\"https://colab.research.google.com/assets/colab-badge.svg\" alt=\"Open In Colab\"/></a>"
      ]
    },
    {
      "cell_type": "markdown",
      "metadata": {
        "id": "yyDogo8E0a-k"
      },
      "source": [
        "# メモ\n",
        "\n",
        "1. このノートブックは Colab で書かれて、読まれることを想定している。\n",
        "1. 今回のアイデアはAOJ (Aizu Online Judge) のコース問題を Colab化してみよう、というもの。\n",
        "1. Aizu Online Judge https://onlinejudge.u-aizu.ac.jp/courses/list"
      ]
    },
    {
      "cell_type": "markdown",
      "metadata": {
        "id": "Sq6ot_P704rT"
      },
      "source": [
        "# 問題セット\n",
        "\n",
        "1. ITP1 Introduction to Programming I プログラミング入門\n",
        "1. ALDS1 Algorithms and Data Structures I アルゴリズムとデータ構造入門\n",
        "1. ITP2 Introduction to Programming II プログラミング応用\n",
        "1. DSL Data Sets and Queries データの集合とクエリ処理\n",
        "1. DPL Discrete Optimization Problems 組み合わせ最適化\n",
        "1. GRL Graph Algorithms グラフ\n",
        "1. CGL Computational Geometry 計算幾何学\n",
        "1. NTL Number Theory 整数論"
      ]
    },
    {
      "cell_type": "markdown",
      "metadata": {
        "id": "pGCikRlD4c0G"
      },
      "source": [
        "# ITP1 Introduction to Programming I プログラミング入門\n",
        "\n",
        "ITP1_1_A: Hello World  \n",
        "ITP1_1_B: X Cubic  \n",
        "ITP1_1_C: Rectangle  \n",
        "ITP1_1_D: Watch  \n",
        "ITP1_2_A: Small, Large, or Equal  \n",
        "ITP1_2_B: Range  \n",
        "ITP1_2_C: Sorting Three Numbers  \n",
        "ITP1_2_D: Circle in a Rectangle  \n",
        "ITP1_3_A: Print Many Hello World  \n",
        "ITP1_3_B: Print Test Cases  \n",
        "ITP1_3_C: Swapping Two Numbers  \n",
        "ITP1_3_D: How Many Divisors?  \n",
        "ITP1_4_A: A / B Problem  \n",
        "ITP1_4_B: Circle  \n",
        "ITP1_4_C: Simple Calculator  \n",
        "ITP1_4_D: Min, Max and Sum  \n",
        "ITP1_5_A: Print a Rectangle  \n",
        "ITP1_5_B: Print a Frame  \n",
        "ITP1_5_C: Print a Chessboard  \n",
        "ITP1_5_D: Structured Programming  \n",
        "ITP1_6_A: Reversing Numbers  \n",
        "ITP1_6_B: Finding Missing Cards  \n",
        "ITP1_6_C: Official House  \n",
        "ITP1_6_D: Matrix Vector Multiplication  \n",
        "ITP1_7_A: Grading  \n",
        "ITP1_7_B: How many ways?  \n",
        "ITP1_7_C: Spreadsheet  \n",
        "ITP1_7_D: Matrix Multiplication  \n",
        "ITP1_8_A: Toggling Cases  \n",
        "ITP1_8_B: Sum of Numbers  \n",
        "ITP1_8_C: Counting Characters  \n",
        "ITP1_8_D: Ring  \n",
        "ITP1_9_A: Finding a Word  \n",
        "ITP1_9_B: Shuffle  \n",
        "ITP1_9_C: Card Game  \n",
        "ITP1_9_D: Transformation  \n",
        "ITP1_10_A: Distance  \n",
        "ITP1_10_B: Triangle  \n",
        "ITP1_10_C: Standard Deviation  \n",
        "ITP1_10_D: Distance II  \n",
        "ITP1_11_A: Dice I  \n",
        "ITP1_11_B: Dice II  \n",
        "ITP1_11_C: Dice III  \n",
        "ITP1_11_D: Dice IV  \n",
        "\n"
      ]
    },
    {
      "cell_type": "markdown",
      "metadata": {
        "id": "oFZ0BDtT7Q-k"
      },
      "source": [
        "### ITP1_1_A: Hello World  \n",
        "\n",
        "\"Hello World\" と一行に出力する。"
      ]
    },
    {
      "cell_type": "code",
      "metadata": {
        "colab": {
          "base_uri": "https://localhost:8080/"
        },
        "id": "prf6Ks5V741Q",
        "outputId": "717c3328-a7ae-4b12-f756-825474651df9"
      },
      "source": [
        "%%writefile hello01.cpp\n",
        "\n",
        "#include <iostream>\n",
        "using namespace std;\n",
        "\n",
        "int main (){\n",
        "  cout << \"Hello World\"<< \"\\n\";\n",
        "}\n"
      ],
      "execution_count": null,
      "outputs": [
        {
          "output_type": "stream",
          "text": [
            "Writing hello01.cpp\n"
          ],
          "name": "stdout"
        }
      ]
    },
    {
      "cell_type": "code",
      "metadata": {
        "colab": {
          "base_uri": "https://localhost:8080/"
        },
        "id": "WjtbClzP0TQs",
        "outputId": "ef987bc7-8b15-4df7-955a-6e5c19d91032"
      },
      "source": [
        "!g++ hello01.cpp -o hello01; ./hello01"
      ],
      "execution_count": null,
      "outputs": [
        {
          "output_type": "stream",
          "text": [
            "Hello World\n"
          ],
          "name": "stdout"
        }
      ]
    },
    {
      "cell_type": "markdown",
      "metadata": {
        "id": "aGd4C-NC9mdn"
      },
      "source": [
        "### ITP1_1_B: X Cubic\n",
        "\n",
        "$x$ の３乗の計算結果を１行に出力する。"
      ]
    },
    {
      "cell_type": "code",
      "metadata": {
        "colab": {
          "base_uri": "https://localhost:8080/"
        },
        "id": "gNacblgN9fTg",
        "outputId": "1edfbf6c-8a43-4763-8835-966a95bea687"
      },
      "source": [
        "%%writefile xcubic01.cpp\n",
        "\n",
        "#include <iostream>\n",
        "\n",
        "using namespace std;\n",
        "int main (){\n",
        "    int x;\n",
        "    cin >> x;\n",
        "    cout << x*x*x << \"\\n\";\n",
        "}\n"
      ],
      "execution_count": null,
      "outputs": [
        {
          "output_type": "stream",
          "text": [
            "Overwriting xcubic01.cpp\n"
          ],
          "name": "stdout"
        }
      ]
    },
    {
      "cell_type": "code",
      "metadata": {
        "colab": {
          "base_uri": "https://localhost:8080/"
        },
        "id": "NnwRLR_f90hp",
        "outputId": "af3cc984-c0c1-4fff-e9e6-035b64a404ac"
      },
      "source": [
        "!g++ xcubic01.cpp -o xcubic01; echo 10 | ./xcubic01"
      ],
      "execution_count": null,
      "outputs": [
        {
          "output_type": "stream",
          "text": [
            "1000\n"
          ],
          "name": "stdout"
        }
      ]
    },
    {
      "cell_type": "markdown",
      "metadata": {
        "id": "r_VmKM4-qM2A"
      },
      "source": [
        "上記の例で、echo 10 としているのは標準入力を使っている。  \n",
        "\n",
        "Colab の環境でインタラクティブにプログラムを動かすことも可能なようだが、ノートブックのコードセルからインタラクティブな入力欄にフォーカスを手動で移動する必要があり、あまり実用的ではない。\n",
        "\n",
        "とりあえず cin に対しては echo で入力する。"
      ]
    },
    {
      "cell_type": "markdown",
      "metadata": {
        "id": "iKpT7KqTgltN"
      },
      "source": [
        "### ITP1_1_C: Rectangle\n",
        "たて $a$ cm よこ $b$ cm の長方形の面積と周の長さを求める。\n",
        "\n",
        "例: 5 6 => 30 22"
      ]
    },
    {
      "cell_type": "code",
      "metadata": {
        "id": "MJgSLBtrhZ4Y",
        "colab": {
          "base_uri": "https://localhost:8080/"
        },
        "outputId": "749990a5-4e11-41e9-971f-cbcedac2e11c"
      },
      "source": [
        "%%writefile rectangle.cpp\n",
        "\n",
        "#include <iostream>\n",
        "#include <cmath>\n",
        "using namespace std;\n",
        "\n",
        "int main (){\n",
        "    int x,y;\n",
        "    cin >> x >> y;\n",
        "    cout << x * y << \" \" << (x + y) * 2 << \"\\n\";\n",
        "}\n"
      ],
      "execution_count": null,
      "outputs": [
        {
          "output_type": "stream",
          "text": [
            "Writing rectangle.cpp\n"
          ],
          "name": "stdout"
        }
      ]
    },
    {
      "cell_type": "code",
      "metadata": {
        "id": "B8uIdW0DhaSf",
        "colab": {
          "base_uri": "https://localhost:8080/"
        },
        "outputId": "89ca1f04-735b-4bf7-df38-c957c0e6f6e0"
      },
      "source": [
        "!g++ rectangle.cpp -o rectangle; echo 5 6 | ./rectangle"
      ],
      "execution_count": null,
      "outputs": [
        {
          "output_type": "stream",
          "text": [
            "30 22\n"
          ],
          "name": "stdout"
        }
      ]
    },
    {
      "cell_type": "markdown",
      "metadata": {
        "id": "7WEEQyGZg_60"
      },
      "source": [
        "### ITP1_1_D: Watch\n",
        "秒 $S$ を $h:m:s:$ の形式に変換する。\n",
        "\n",
        "例: 46979 => 13:2:59"
      ]
    },
    {
      "cell_type": "code",
      "metadata": {
        "id": "aK6zM5ykj0zK",
        "colab": {
          "base_uri": "https://localhost:8080/"
        },
        "outputId": "9b9d06f5-ec56-4e90-d5bc-5394106d5ee2"
      },
      "source": [
        "%%writefile watch.cpp\n",
        "\n",
        "#include <iostream>\n",
        "using namespace std;\n",
        "\n",
        "int main (){\n",
        "    int x, h, m, s;\n",
        "    cin >> x;\n",
        "    h = x / 3600;\n",
        "    m = (x % 3600) / 60;\n",
        "    s = ((x % 3600) % 60);\n",
        "    cout << h << \":\" << m << \":\" << s << \"\\n\";\n",
        "}\n"
      ],
      "execution_count": null,
      "outputs": [
        {
          "output_type": "stream",
          "text": [
            "Writing watch.cpp\n"
          ],
          "name": "stdout"
        }
      ]
    },
    {
      "cell_type": "code",
      "metadata": {
        "id": "TbObXxU4j0n6",
        "colab": {
          "base_uri": "https://localhost:8080/"
        },
        "outputId": "22d5d24a-39a6-40d9-8fac-125fca6adaa1"
      },
      "source": [
        "!g++ watch.cpp -o watch; echo 46979 |./watch"
      ],
      "execution_count": null,
      "outputs": [
        {
          "output_type": "stream",
          "text": [
            "13:2:59\n"
          ],
          "name": "stdout"
        }
      ]
    },
    {
      "cell_type": "markdown",
      "metadata": {
        "id": "__duxO9RhD7e"
      },
      "source": [
        "### ITP1_2_A: Small, Large, or Equal\n",
        "２つの整数 $a$, $b$ を読み込んで、$a$ と $b$ の大小関係を出力する。\n",
        "\n",
        "例: 1 2 => a < b\n",
        "\n"
      ]
    },
    {
      "cell_type": "code",
      "metadata": {
        "id": "w5YmL12jy9DD",
        "colab": {
          "base_uri": "https://localhost:8080/"
        },
        "outputId": "1c9c6865-5449-4b35-a8d6-3142ac69d9b1"
      },
      "source": [
        "%%writefile smalllarge.cpp\n",
        "\n",
        "#include <iostream>\n",
        "#include <string>\n",
        "using namespace std;\n",
        "\n",
        "int main (){\n",
        "    int a, b;\n",
        "    string s;\n",
        "    cin >> a >> b;\n",
        "    if (a < b) s = \"a < b\";\n",
        "    else if (a > b) s= \"a > b\";\n",
        "    else s=\"a == b\";\n",
        "    cout <<  s << \"\\n\";\n",
        "}\n"
      ],
      "execution_count": null,
      "outputs": [
        {
          "output_type": "stream",
          "text": [
            "Writing smalllarge.cpp\n"
          ],
          "name": "stdout"
        }
      ]
    },
    {
      "cell_type": "code",
      "metadata": {
        "id": "jYpQaXEoy86d",
        "colab": {
          "base_uri": "https://localhost:8080/"
        },
        "outputId": "bb949c47-c03a-48c2-d976-e0e4d80ed392"
      },
      "source": [
        "!g++ smalllarge.cpp -o smalllarge; echo 1 2 |./smalllarge"
      ],
      "execution_count": null,
      "outputs": [
        {
          "output_type": "stream",
          "text": [
            "a < b\n"
          ],
          "name": "stdout"
        }
      ]
    },
    {
      "cell_type": "markdown",
      "metadata": {
        "id": "08AyIO3qx2Q9"
      },
      "source": [
        "### ITP1_2_B: Range\n",
        "３つの整数 $a$, $b$, $c$ を読み込み、それらが $a$ < $b$ < $c$ の条件を満たすならば\"Yes\"を、満たさないならば\"No\"を出力する。\n",
        "\n",
        "例: 1 3 8 => Yes"
      ]
    },
    {
      "cell_type": "code",
      "metadata": {
        "id": "mDdA449ROeTE",
        "colab": {
          "base_uri": "https://localhost:8080/"
        },
        "outputId": "abcd9bf8-5992-4c2c-ada1-78b286834387"
      },
      "source": [
        "%%writefile range01.cpp\n",
        "\n",
        "#include <iostream>\n",
        "#include <string>\n",
        "using namespace std;\n",
        "\n",
        "int main (){\n",
        "    int a, b, c;\n",
        "    string s;\n",
        "    cin >> a >> b >> c;\n",
        "    if ((a < b) && (b < c)) s = \"Yes\";\n",
        "    else s = \"No\";\n",
        "    cout <<  s << \"\\n\";\n",
        "}"
      ],
      "execution_count": null,
      "outputs": [
        {
          "output_type": "stream",
          "text": [
            "Writing range01.cpp\n"
          ],
          "name": "stdout"
        }
      ]
    },
    {
      "cell_type": "code",
      "metadata": {
        "id": "vtorNJjNOeFA",
        "colab": {
          "base_uri": "https://localhost:8080/"
        },
        "outputId": "cf05a938-d14f-405e-db7d-bff4f6a306a1"
      },
      "source": [
        "!g++ range01.cpp -o range01; echo 1 3 8 |./range01"
      ],
      "execution_count": null,
      "outputs": [
        {
          "output_type": "stream",
          "text": [
            "Yes\n"
          ],
          "name": "stdout"
        }
      ]
    },
    {
      "cell_type": "markdown",
      "metadata": {
        "id": "Rwl8VIYN8c9Y"
      },
      "source": [
        "# いまここ"
      ]
    },
    {
      "cell_type": "markdown",
      "metadata": {
        "id": "iyoXo1SGx5l7"
      },
      "source": [
        "### ITP1_2_C: Sorting Three Numbers\n",
        "３つの整数を読み込み、それらを値が小さい順に並べて出力する。\n",
        "\n",
        "例: 3 1 8 => 1 3 8"
      ]
    },
    {
      "cell_type": "code",
      "metadata": {
        "id": "JRReTAsqPdSM",
        "colab": {
          "base_uri": "https://localhost:8080/"
        },
        "outputId": "efd849f5-cc7c-4603-d6cc-a7395a66ac42"
      },
      "source": [
        "%%writefile sort3num.cpp\n",
        "\n",
        "using namespace std;\n",
        "\n",
        "#include <iostream>\n",
        "#include <string>\n",
        "// #include <bits/stdc++.h>\n",
        "int main (){\n",
        "    int x;\n",
        "    vector<int> v;\n",
        "    while (cin >> x) {\n",
        "        v.push_back(x);\n",
        "    }\n",
        "\n",
        "    sort(v.begin(), v.end());\n",
        "\n",
        "    cout << v[0] << ' '<< v[1] << ' '<< v[2] << \"\\n\";\n",
        "}"
      ],
      "execution_count": 7,
      "outputs": [
        {
          "output_type": "stream",
          "text": [
            "Overwriting sort3num.cpp\n"
          ],
          "name": "stdout"
        }
      ]
    },
    {
      "cell_type": "code",
      "metadata": {
        "id": "uUarukR2PdvK",
        "colab": {
          "base_uri": "https://localhost:8080/"
        },
        "outputId": "af5f41d7-6699-4363-8bf1-4e8c12f9df84"
      },
      "source": [
        "!g++ sort3num.cpp -o sort3num; echo 3 1 8 |./sort3num"
      ],
      "execution_count": 8,
      "outputs": [
        {
          "output_type": "stream",
          "text": [
            "\u001b[01m\u001b[Ksort3num.cpp:\u001b[m\u001b[K In function ‘\u001b[01m\u001b[Kint main()\u001b[m\u001b[K’:\n",
            "\u001b[01m\u001b[Ksort3num.cpp:9:5:\u001b[m\u001b[K \u001b[01;31m\u001b[Kerror: \u001b[m\u001b[K‘\u001b[01m\u001b[Kvector\u001b[m\u001b[K’ was not declared in this scope\n",
            "     \u001b[01;31m\u001b[Kvector\u001b[m\u001b[K<int> v;\n",
            "     \u001b[01;31m\u001b[K^~~~~~\u001b[m\u001b[K\n",
            "\u001b[01m\u001b[Ksort3num.cpp:9:5:\u001b[m\u001b[K \u001b[01;36m\u001b[Knote: \u001b[m\u001b[Ksuggested alternative: ‘\u001b[01m\u001b[Kperror\u001b[m\u001b[K’\n",
            "     \u001b[01;36m\u001b[Kvector\u001b[m\u001b[K<int> v;\n",
            "     \u001b[01;36m\u001b[K^~~~~~\u001b[m\u001b[K\n",
            "     \u001b[32m\u001b[Kperror\u001b[m\u001b[K\n",
            "\u001b[01m\u001b[Ksort3num.cpp:9:12:\u001b[m\u001b[K \u001b[01;31m\u001b[Kerror: \u001b[m\u001b[Kexpected primary-expression before ‘\u001b[01m\u001b[Kint\u001b[m\u001b[K’\n",
            "     vector<\u001b[01;31m\u001b[Kint\u001b[m\u001b[K> v;\n",
            "            \u001b[01;31m\u001b[K^~~\u001b[m\u001b[K\n",
            "\u001b[01m\u001b[Ksort3num.cpp:11:9:\u001b[m\u001b[K \u001b[01;31m\u001b[Kerror: \u001b[m\u001b[K‘\u001b[01m\u001b[Kv\u001b[m\u001b[K’ was not declared in this scope\n",
            "         \u001b[01;31m\u001b[Kv\u001b[m\u001b[K.push_back(x);\n",
            "         \u001b[01;31m\u001b[K^\u001b[m\u001b[K\n",
            "\u001b[01m\u001b[Ksort3num.cpp:14:10:\u001b[m\u001b[K \u001b[01;31m\u001b[Kerror: \u001b[m\u001b[K‘\u001b[01m\u001b[Kv\u001b[m\u001b[K’ was not declared in this scope\n",
            "     sort(\u001b[01;31m\u001b[Kv\u001b[m\u001b[K.begin(), v.end());\n",
            "          \u001b[01;31m\u001b[K^\u001b[m\u001b[K\n",
            "\u001b[01m\u001b[Ksort3num.cpp:14:5:\u001b[m\u001b[K \u001b[01;31m\u001b[Kerror: \u001b[m\u001b[K‘\u001b[01m\u001b[Ksort\u001b[m\u001b[K’ was not declared in this scope\n",
            "     \u001b[01;31m\u001b[Ksort\u001b[m\u001b[K(v.begin(), v.end());\n",
            "     \u001b[01;31m\u001b[K^~~~\u001b[m\u001b[K\n",
            "\u001b[01m\u001b[Ksort3num.cpp:14:5:\u001b[m\u001b[K \u001b[01;36m\u001b[Knote: \u001b[m\u001b[Ksuggested alternative: ‘\u001b[01m\u001b[Kqsort\u001b[m\u001b[K’\n",
            "     \u001b[01;36m\u001b[Ksort\u001b[m\u001b[K(v.begin(), v.end());\n",
            "     \u001b[01;36m\u001b[K^~~~\u001b[m\u001b[K\n",
            "     \u001b[32m\u001b[Kqsort\u001b[m\u001b[K\n",
            "1 3 8\n"
          ],
          "name": "stdout"
        }
      ]
    },
    {
      "cell_type": "markdown",
      "metadata": {
        "id": "UpNiAmlPx62S"
      },
      "source": [
        "### ITP1_2_D: Circle in a Rectangle\n",
        "長方形の中に円が含まれるかを判定する。長方形は左下の頂点を原点とし、右上の頂点の座標 ($W$, $H$) が与えられ、円はその中心の座標 ($x$, $y$)と半径 $r$ が与えられる。\n",
        "\n",
        "例: 5 4 2 2 1 => Yes"
      ]
    },
    {
      "cell_type": "code",
      "metadata": {
        "id": "5oFMYrCeCXiw",
        "outputId": "d37a1e73-7923-4527-e7fb-9b2a8d7c4d6c",
        "colab": {
          "base_uri": "https://localhost:8080/"
        }
      },
      "source": [
        "%%writefile circleinrectangle.cpp\n",
        "\n",
        "using namespace std;\n",
        "int main (){\n",
        "  int w, h, x, y, r;\n",
        "  string s;\n",
        "  cin >> w >> h >> x >> y >> r;\n",
        "  if ((x >= r) && ((w - x) >= r) && (y >= r) && ((h - y) >= r))\n",
        "      s = \"Yes\";\n",
        "  else s = \"No\";\n",
        "  cout <<  s << endl;\n",
        "}\n"
      ],
      "execution_count": 5,
      "outputs": [
        {
          "output_type": "stream",
          "text": [
            "Writing circleinrectangle.cpp\n"
          ],
          "name": "stdout"
        }
      ]
    },
    {
      "cell_type": "code",
      "metadata": {
        "id": "Uujr1e4OCXdA",
        "outputId": "3ea9d0e5-30bf-4c49-ea16-056fd3240d5e",
        "colab": {
          "base_uri": "https://localhost:8080/"
        }
      },
      "source": [
        "!g++ circleinrectangle.cpp -o circleinrectangle; echo 5 4 2 2 1 |./circleinrectangle"
      ],
      "execution_count": 6,
      "outputs": [
        {
          "output_type": "stream",
          "text": [
            "\u001b[01m\u001b[Kcircleinrectangle.cpp:\u001b[m\u001b[K In function ‘\u001b[01m\u001b[Kint main()\u001b[m\u001b[K’:\n",
            "\u001b[01m\u001b[Kcircleinrectangle.cpp:5:3:\u001b[m\u001b[K \u001b[01;31m\u001b[Kerror: \u001b[m\u001b[K‘\u001b[01m\u001b[Kstring\u001b[m\u001b[K’ was not declared in this scope\n",
            "   \u001b[01;31m\u001b[Kstring\u001b[m\u001b[K s;\n",
            "   \u001b[01;31m\u001b[K^~~~~~\u001b[m\u001b[K\n",
            "\u001b[01m\u001b[Kcircleinrectangle.cpp:5:3:\u001b[m\u001b[K \u001b[01;36m\u001b[Knote: \u001b[m\u001b[Ksuggested alternative: ‘\u001b[01m\u001b[Kstruct\u001b[m\u001b[K’\n",
            "   \u001b[01;36m\u001b[Kstring\u001b[m\u001b[K s;\n",
            "   \u001b[01;36m\u001b[K^~~~~~\u001b[m\u001b[K\n",
            "   \u001b[32m\u001b[Kstruct\u001b[m\u001b[K\n",
            "\u001b[01m\u001b[Kcircleinrectangle.cpp:6:3:\u001b[m\u001b[K \u001b[01;31m\u001b[Kerror: \u001b[m\u001b[K‘\u001b[01m\u001b[Kcin\u001b[m\u001b[K’ was not declared in this scope\n",
            "   \u001b[01;31m\u001b[Kcin\u001b[m\u001b[K >> w >> h >> x >> y >> r;\n",
            "   \u001b[01;31m\u001b[K^~~\u001b[m\u001b[K\n",
            "\u001b[01m\u001b[Kcircleinrectangle.cpp:6:3:\u001b[m\u001b[K \u001b[01;36m\u001b[Knote: \u001b[m\u001b[Ksuggested alternative: ‘\u001b[01m\u001b[Kmain\u001b[m\u001b[K’\n",
            "   \u001b[01;36m\u001b[Kcin\u001b[m\u001b[K >> w >> h >> x >> y >> r;\n",
            "   \u001b[01;36m\u001b[K^~~\u001b[m\u001b[K\n",
            "   \u001b[32m\u001b[Kmain\u001b[m\u001b[K\n",
            "\u001b[01m\u001b[Kcircleinrectangle.cpp:8:7:\u001b[m\u001b[K \u001b[01;31m\u001b[Kerror: \u001b[m\u001b[K‘\u001b[01m\u001b[Ks\u001b[m\u001b[K’ was not declared in this scope\n",
            "       \u001b[01;31m\u001b[Ks\u001b[m\u001b[K = \"Yes\";\n",
            "       \u001b[01;31m\u001b[K^\u001b[m\u001b[K\n",
            "\u001b[01m\u001b[Kcircleinrectangle.cpp:9:8:\u001b[m\u001b[K \u001b[01;31m\u001b[Kerror: \u001b[m\u001b[K‘\u001b[01m\u001b[Ks\u001b[m\u001b[K’ was not declared in this scope\n",
            "   else \u001b[01;31m\u001b[Ks\u001b[m\u001b[K = \"No\";\n",
            "        \u001b[01;31m\u001b[K^\u001b[m\u001b[K\n",
            "\u001b[01m\u001b[Kcircleinrectangle.cpp:10:3:\u001b[m\u001b[K \u001b[01;31m\u001b[Kerror: \u001b[m\u001b[K‘\u001b[01m\u001b[Kcout\u001b[m\u001b[K’ was not declared in this scope\n",
            "   \u001b[01;31m\u001b[Kcout\u001b[m\u001b[K <<  s << endl;\n",
            "   \u001b[01;31m\u001b[K^~~~\u001b[m\u001b[K\n",
            "\u001b[01m\u001b[Kcircleinrectangle.cpp:10:12:\u001b[m\u001b[K \u001b[01;31m\u001b[Kerror: \u001b[m\u001b[K‘\u001b[01m\u001b[Ks\u001b[m\u001b[K’ was not declared in this scope\n",
            "   cout <<  \u001b[01;31m\u001b[Ks\u001b[m\u001b[K << endl;\n",
            "            \u001b[01;31m\u001b[K^\u001b[m\u001b[K\n",
            "\u001b[01m\u001b[Kcircleinrectangle.cpp:10:17:\u001b[m\u001b[K \u001b[01;31m\u001b[Kerror: \u001b[m\u001b[K‘\u001b[01m\u001b[Kendl\u001b[m\u001b[K’ was not declared in this scope\n",
            "   cout <<  s << \u001b[01;31m\u001b[Kendl\u001b[m\u001b[K;\n",
            "                 \u001b[01;31m\u001b[K^~~~\u001b[m\u001b[K\n",
            "\u001b[01m\u001b[Kcircleinrectangle.cpp:10:17:\u001b[m\u001b[K \u001b[01;36m\u001b[Knote: \u001b[m\u001b[Ksuggested alternative: ‘\u001b[01m\u001b[Kenum\u001b[m\u001b[K’\n",
            "   cout <<  s << \u001b[01;36m\u001b[Kendl\u001b[m\u001b[K;\n",
            "                 \u001b[01;36m\u001b[K^~~~\u001b[m\u001b[K\n",
            "                 \u001b[32m\u001b[Kenum\u001b[m\u001b[K\n",
            "/bin/bash: ./circleinrectangle: No such file or directory\n"
          ],
          "name": "stdout"
        }
      ]
    },
    {
      "cell_type": "markdown",
      "metadata": {
        "id": "lpLwTcGJx8Hi"
      },
      "source": [
        "\n",
        "### ITP1_3_A: Print Many Hello World\n",
        "\n",
        "### ITP1_3_B: Print Test Cases\n"
      ]
    },
    {
      "cell_type": "markdown",
      "metadata": {
        "id": "h0P_lhLix4BL"
      },
      "source": [
        "\n",
        "### ITP1_3_C: Swapping Two Numbers\n",
        "\n",
        "### ITP1_3_D: How Many Divisors?\n",
        "\n",
        "### ITP1_4_A: A / B Problem\n",
        "\n",
        "### ITP1_4_B: Circle\n",
        "\n",
        "### ITP1_4_C: Simple Calculator\n",
        "\n",
        "### ITP1_4_D: Min, Max and Sum\n",
        "\n",
        "### ITP1_5_A: Print a Rectangle\n",
        "\n",
        "### ITP1_5_B: Print a Frame\n",
        "\n",
        "### ITP1_5_C: Print a Chessboard\n",
        "\n",
        "### ITP1_5_D: Structured Programming\n"
      ]
    },
    {
      "cell_type": "markdown",
      "metadata": {
        "id": "9L0wG7bihNoT"
      },
      "source": [
        "\n",
        "### ITP1_6_A: Reversing Numbers\n",
        "\n",
        "### ITP1_6_B: Finding Missing Cards\n",
        "\n",
        "### ITP1_6_C: Official House\n",
        "\n",
        "### ITP1_6_D: Matrix Vector Multiplication\n",
        "\n",
        "### ITP1_7_A: Grading\n",
        "\n",
        "### ITP1_7_B: How many ways?\n",
        "\n",
        "### ITP1_7_C: Spreadsheet\n",
        "\n",
        "### ITP1_7_D: Matrix Multiplication\n",
        "\n",
        "### ITP1_8_A: Toggling Cases\n",
        "\n",
        "### ITP1_8_B: Sum of Numbers\n",
        "\n",
        "### ITP1_8_C: Counting Characters\n",
        "\n",
        "### ITP1_8_D: Ring\n",
        "\n",
        "### ITP1_9_A: Finding a Word\n",
        "\n",
        "### ITP1_9_B: Shuffle\n",
        "\n",
        "### ITP1_9_C: Card Game\n"
      ]
    },
    {
      "cell_type": "markdown",
      "metadata": {
        "id": "Bog1bWnRhO97"
      },
      "source": [
        "\n",
        "### ITP1_9_D: Transformation\n",
        "\n",
        "### ITP1_10_A: Distance\n",
        "\n",
        "### ITP1_10_B: Triangle\n",
        "\n",
        "### ITP1_10_C: Standard Deviation\n"
      ]
    },
    {
      "cell_type": "markdown",
      "metadata": {
        "id": "HwCRABjKhP9r"
      },
      "source": [
        "\n",
        "### ITP1_10_D: Distance II\n"
      ]
    },
    {
      "cell_type": "markdown",
      "metadata": {
        "id": "NoN0066LhR2i"
      },
      "source": [
        "\n",
        "### ITP1_11_A: Dice I\n",
        "\n",
        "### ITP1_11_B: Dice II\n",
        "\n",
        "### ITP1_11_C: Dice III\n"
      ]
    },
    {
      "cell_type": "markdown",
      "metadata": {
        "id": "vsEVM-knhMRz"
      },
      "source": [
        "### ITP1_11_D: Dice IV\n"
      ]
    }
  ]
}