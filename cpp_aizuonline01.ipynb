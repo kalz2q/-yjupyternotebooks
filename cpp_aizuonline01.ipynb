{
  "nbformat": 4,
  "nbformat_minor": 0,
  "metadata": {
    "colab": {
      "name": "cpp_aizuonline01.ipynb",
      "provenance": [],
      "toc_visible": true,
      "authorship_tag": "ABX9TyMzO7Cj8mNq835f8ORnrghA",
      "include_colab_link": true
    },
    "kernelspec": {
      "name": "python3",
      "display_name": "Python 3"
    }
  },
  "cells": [
    {
      "cell_type": "markdown",
      "metadata": {
        "id": "view-in-github",
        "colab_type": "text"
      },
      "source": [
        "<a href=\"https://colab.research.google.com/github/kalz2q/mycolabnotebooks/blob/master/cpp_aizuonline01.ipynb\" target=\"_parent\"><img src=\"https://colab.research.google.com/assets/colab-badge.svg\" alt=\"Open In Colab\"/></a>"
      ]
    },
    {
      "cell_type": "markdown",
      "metadata": {
        "id": "yyDogo8E0a-k"
      },
      "source": [
        "# メモ\n",
        "\n",
        "1. このノートブックは Colab で書かれて、読まれることを想定している。\n",
        "1. 今回のアイデアはAOJ (Aizu Online Judge) のコース問題を Colab化してみよう、というもの。\n",
        "1. オンラインジャッジは標準入出力を想定しているが、このノートでは入力はコマンドライン引数で与える。\n",
        "1. Aizu Online Judge https://onlinejudge.u-aizu.ac.jp/courses/list"
      ]
    },
    {
      "cell_type": "markdown",
      "metadata": {
        "id": "Sq6ot_P704rT"
      },
      "source": [
        "# 問題セット\n",
        "\n",
        "1. ITP1 Introduction to Programming I プログラミング入門\n",
        "1. ALDS1 Algorithms and Data Structures I アルゴリズムとデータ構造入門\n",
        "1. ITP2 Introduction to Programming II プログラミング応用\n",
        "1. DSL Data Sets and Queries データの集合とクエリ処理\n",
        "1. DPL Discrete Optimization Problems 組み合わせ最適化\n",
        "1. GRL Graph Algorithms グラフ\n",
        "1. CGL Computational Geometry 計算幾何学\n",
        "1. NTL Number Theory 整数論"
      ]
    },
    {
      "cell_type": "markdown",
      "metadata": {
        "id": "pGCikRlD4c0G"
      },
      "source": [
        "# ITP1 Introduction to Programming I プログラミング入門\n",
        "\n",
        "ITP1_1_A: Hello World  \n",
        "ITP1_1_B: X Cubic  \n",
        "ITP1_1_C: Rectangle  \n",
        "ITP1_1_D: Watch  \n",
        "ITP1_2_A: Small, Large, or Equal  \n",
        "ITP1_2_B: Range  \n",
        "ITP1_2_C: Sorting Three Numbers  \n",
        "ITP1_2_D: Circle in a Rectangle  \n",
        "ITP1_3_A: Print Many Hello World  \n",
        "ITP1_3_B: Print Test Cases  \n",
        "ITP1_3_C: Swapping Two Numbers  \n",
        "ITP1_3_D: How Many Divisors?  \n",
        "ITP1_4_A: A / B Problem  \n",
        "ITP1_4_B: Circle  \n",
        "ITP1_4_C: Simple Calculator  \n",
        "ITP1_4_D: Min, Max and Sum  \n",
        "ITP1_5_A: Print a Rectangle  \n",
        "ITP1_5_B: Print a Frame  \n",
        "ITP1_5_C: Print a Chessboard  \n",
        "ITP1_5_D: Structured Programming  \n",
        "ITP1_6_A: Reversing Numbers  \n",
        "ITP1_6_B: Finding Missing Cards  \n",
        "ITP1_6_C: Official House  \n",
        "ITP1_6_D: Matrix Vector Multiplication  \n",
        "ITP1_7_A: Grading  \n",
        "ITP1_7_B: How many ways?  \n",
        "ITP1_7_C: Spreadsheet  \n",
        "ITP1_7_D: Matrix Multiplication  \n",
        "ITP1_8_A: Toggling Cases  \n",
        "ITP1_8_B: Sum of Numbers  \n",
        "ITP1_8_C: Counting Characters  \n",
        "ITP1_8_D: Ring  \n",
        "ITP1_9_A: Finding a Word  \n",
        "ITP1_9_B: Shuffle  \n",
        "ITP1_9_C: Card Game  \n",
        "ITP1_9_D: Transformation  \n",
        "ITP1_10_A: Distance  \n",
        "ITP1_10_B: Triangle  \n",
        "ITP1_10_C: Standard Deviation  \n",
        "ITP1_10_D: Distance II  \n",
        "ITP1_11_A: Dice I  \n",
        "ITP1_11_B: Dice II  \n",
        "ITP1_11_C: Dice III  \n",
        "ITP1_11_D: Dice IV  \n",
        "\n"
      ]
    },
    {
      "cell_type": "markdown",
      "metadata": {
        "id": "oFZ0BDtT7Q-k"
      },
      "source": [
        "### ITP1_1_A: Hello World  \n",
        "\n",
        "\"Hello World\" と一行に出力してください。"
      ]
    },
    {
      "cell_type": "code",
      "metadata": {
        "colab": {
          "base_uri": "https://localhost:8080/"
        },
        "id": "prf6Ks5V741Q",
        "outputId": "717c3328-a7ae-4b12-f756-825474651df9"
      },
      "source": [
        "%%writefile hello01.cpp\n",
        "\n",
        "#include <iostream>\n",
        "using namespace std;\n",
        "\n",
        "int main (){\n",
        "  cout << \"Hello World\"<< \"\\n\";\n",
        "}\n"
      ],
      "execution_count": null,
      "outputs": [
        {
          "output_type": "stream",
          "text": [
            "Writing hello01.cpp\n"
          ],
          "name": "stdout"
        }
      ]
    },
    {
      "cell_type": "code",
      "metadata": {
        "colab": {
          "base_uri": "https://localhost:8080/"
        },
        "id": "WjtbClzP0TQs",
        "outputId": "ef987bc7-8b15-4df7-955a-6e5c19d91032"
      },
      "source": [
        "!g++ hello01.cpp -o hello01; ./hello01"
      ],
      "execution_count": null,
      "outputs": [
        {
          "output_type": "stream",
          "text": [
            "Hello World\n"
          ],
          "name": "stdout"
        }
      ]
    },
    {
      "cell_type": "markdown",
      "metadata": {
        "id": "aGd4C-NC9mdn"
      },
      "source": [
        "### ITP1_1_B: X Cubic\n",
        "\n",
        "$x$ の３乗の計算結果を１行に出力して下さい。最後の改行を忘れないようにしましょう。"
      ]
    },
    {
      "cell_type": "code",
      "metadata": {
        "colab": {
          "base_uri": "https://localhost:8080/"
        },
        "id": "gNacblgN9fTg",
        "outputId": "492e03da-5757-4443-db32-170aa1a24a32"
      },
      "source": [
        "%%writefile xcubic01.cpp\n",
        "\n",
        "#include <iostream>\n",
        "#include <cmath>\n",
        "using namespace std;\n",
        "//int main (){\n",
        "//  int x;\n",
        "//  cin >> x;\n",
        "int main (int argc, char* argv[]) {\n",
        "  int x = argv[1]\n",
        "  cout << x*x*x << \"\\n\";\n",
        "}\n"
      ],
      "execution_count": 7,
      "outputs": [
        {
          "output_type": "stream",
          "text": [
            "Overwriting xcubic01.cpp\n"
          ],
          "name": "stdout"
        }
      ]
    },
    {
      "cell_type": "code",
      "metadata": {
        "colab": {
          "base_uri": "https://localhost:8080/"
        },
        "id": "NnwRLR_f90hp",
        "outputId": "19fddb89-dbd3-4b3e-eb4d-a0b9997673f5"
      },
      "source": [
        "!g++ xcubic01.cpp -o xcubic01; ./xcubic01 3"
      ],
      "execution_count": 8,
      "outputs": [
        {
          "output_type": "stream",
          "text": [
            "\u001b[01m\u001b[Kxcubic01.cpp:\u001b[m\u001b[K In function ‘\u001b[01m\u001b[Kint main(int, char**)\u001b[m\u001b[K’:\n",
            "\u001b[01m\u001b[Kxcubic01.cpp:9:17:\u001b[m\u001b[K \u001b[01;31m\u001b[Kerror: \u001b[m\u001b[Kinvalid conversion from ‘\u001b[01m\u001b[Kchar*\u001b[m\u001b[K’ to ‘\u001b[01m\u001b[Kint\u001b[m\u001b[K’ [\u001b[01;31m\u001b[K-fpermissive\u001b[m\u001b[K]\n",
            "   int x = \u001b[01;31m\u001b[Kargv[1]\u001b[m\u001b[K\n",
            "           \u001b[01;31m\u001b[K~~~~~~^\u001b[m\u001b[K\n",
            "\u001b[01m\u001b[Kxcubic01.cpp:10:3:\u001b[m\u001b[K \u001b[01;31m\u001b[Kerror: \u001b[m\u001b[Kexpected ‘\u001b[01m\u001b[K,\u001b[m\u001b[K’ or ‘\u001b[01m\u001b[K;\u001b[m\u001b[K’ before ‘\u001b[01m\u001b[Kcout\u001b[m\u001b[K’\n",
            "   \u001b[01;31m\u001b[Kcout\u001b[m\u001b[K << x*x*x << \"\\n\";\n",
            "   \u001b[01;31m\u001b[K^~~~\u001b[m\u001b[K\n",
            "/bin/bash: ./xcubic01: No such file or directory\n"
          ],
          "name": "stdout"
        }
      ]
    },
    {
      "cell_type": "markdown",
      "metadata": {
        "id": "Rwl8VIYN8c9Y"
      },
      "source": [
        "# いまここ"
      ]
    }
  ]
}