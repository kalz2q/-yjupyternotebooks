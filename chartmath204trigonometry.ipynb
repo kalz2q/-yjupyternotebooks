{
  "nbformat": 4,
  "nbformat_minor": 0,
  "metadata": {
    "colab": {
      "name": "chartmath204trigonometry.ipynb",
      "provenance": [],
      "toc_visible": true,
      "authorship_tag": "ABX9TyMsXs3+cZAT/p9B/ElaBF1/",
      "include_colab_link": true
    },
    "kernelspec": {
      "name": "python3",
      "display_name": "Python 3"
    }
  },
  "cells": [
    {
      "cell_type": "markdown",
      "metadata": {
        "id": "view-in-github",
        "colab_type": "text"
      },
      "source": [
        "<a href=\"https://colab.research.google.com/github/kalz2q/mycolabnotebooks/blob/master/chartmath204trigonometry.ipynb\" target=\"_parent\"><img src=\"https://colab.research.google.com/assets/colab-badge.svg\" alt=\"Open In Colab\"/></a>"
      ]
    },
    {
      "cell_type": "markdown",
      "metadata": {
        "id": "RDVbHtLO3k7-"
      },
      "source": [
        "# メモ\r\n",
        "数学を Colab で学ぶプロジェクト\r\n",
        "\r\n",
        "いま数学IIの三角関数 trigonometry\r\n",
        "\r\n",
        "\r\n",
        "\r\n"
      ]
    },
    {
      "cell_type": "markdown",
      "metadata": {
        "id": "UKFNnCow32Ey"
      },
      "source": [
        "# 一般角\r\n",
        "\r\n"
      ]
    },
    {
      "cell_type": "markdown",
      "metadata": {
        "id": "ZMU81WV99s1i"
      },
      "source": [
        "**一般角**\r\n",
        "\r\n",
        "平面上で、点 $\\mathrm O$ を中心として半直線 $\\mathrm{OP}$ を回転させるとき、\r\n",
        "\r\n",
        "この半直線 $\\mathrm{OP}$ を動径、半直線 $\\mathrm{OX}$ を始線という。\r\n",
        "\r\n",
        "時計の針の回転と逆の向きに図った角度を正の角という。\r\n",
        "\r\n",
        "$\\mathrm{OX}$ と $\\mathrm{OP}$ のなす角の一つを $\\alpha$ とすると、\r\n",
        "\r\n",
        "$\\theta = \\alpha + 360 \\times n$\r\n",
        "を動径 $\\mathrm{OP}$ の一般角、という。"
      ]
    },
    {
      "cell_type": "markdown",
      "metadata": {
        "id": "IVOFN9MtWdxH"
      },
      "source": [
        "# いまここ"
      ]
    },
    {
      "cell_type": "code",
      "metadata": {
        "id": "r-4hCvK9hydu",
        "colab": {
          "base_uri": "https://localhost:8080/",
          "height": 38
        },
        "outputId": "758adad0-4fd3-43d0-ff21-70d824eb2246"
      },
      "source": [
        "# sympy の実験 => α β を表す。 * => \\times にする。\r\n",
        "from  sympy import *\r\n",
        "init_printing(latex_printer=lambda *args, **kwargs: latex(*args, mul_symbol='times', **kwargs))\r\n",
        "alpha, beta, theta = sympy.symbols('alpha beta theta')\r\n",
        "n = symbols('n')\r\n",
        "display(Eq(theta, alpha + 360 * n))"
      ],
      "execution_count": null,
      "outputs": [
        {
          "output_type": "display_data",
          "data": {
            "image/png": "[encoded data removed]",
            "text/latex": "$\\displaystyle \\theta = \\alpha + 360 \\times n$",
            "text/plain": [
              "θ = α + 360⋅n"
            ]
          },
          "metadata": {
            "tags": []
          }
        }
      ]
    },
    {
      "cell_type": "code",
      "metadata": {
        "id": "9HTrhm6vf3O5",
        "colab": {
          "base_uri": "https://localhost:8080/",
          "height": 38
        },
        "outputId": "0e997709-1b92-4467-aaaf-6792b64b2d34"
      },
      "source": [
        "# 参考 角度の記号\r\n",
        "%%latex\r\n",
        "\\angle A = 360^\\circ"
      ],
      "execution_count": null,
      "outputs": [
        {
          "output_type": "display_data",
          "data": {
            "text/latex": "\\angle A = 360^\\circ",
            "text/plain": [
              "<IPython.core.display.Latex object>"
            ]
          },
          "metadata": {
            "tags": []
          }
        }
      ]
    },
    {
      "cell_type": "code",
      "metadata": {
        "id": "Swb57Kscg1pp"
      },
      "source": [
        ""
      ],
      "execution_count": null,
      "outputs": []
    }
  ]
}