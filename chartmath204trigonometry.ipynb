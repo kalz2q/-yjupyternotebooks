{
  "nbformat": 4,
  "nbformat_minor": 0,
  "metadata": {
    "colab": {
      "name": "chartmath204trigonometry.ipynb",
      "provenance": [],
      "toc_visible": true,
      "authorship_tag": "ABX9TyNiL250F6DlD6VMKDwTD+5q",
      "include_colab_link": true
    },
    "kernelspec": {
      "name": "python3",
      "display_name": "Python 3"
    }
  },
  "cells": [
    {
      "cell_type": "markdown",
      "metadata": {
        "id": "view-in-github",
        "colab_type": "text"
      },
      "source": [
        "<a href=\"https://colab.research.google.com/github/kalz2q/mycolabnotebooks/blob/master/chartmath204trigonometry.ipynb\" target=\"_parent\"><img src=\"https://colab.research.google.com/assets/colab-badge.svg\" alt=\"Open In Colab\"/></a>"
      ]
    },
    {
      "cell_type": "markdown",
      "metadata": {
        "id": "RDVbHtLO3k7-"
      },
      "source": [
        "# メモ\n",
        "数学を Colab で学ぶプロジェクト\n",
        "\n",
        "いま数学IIの三角関数 trigonometry\n",
        "\n",
        "\n",
        "\n"
      ]
    },
    {
      "cell_type": "markdown",
      "metadata": {
        "id": "UKFNnCow32Ey"
      },
      "source": [
        "# 一般角\n",
        "\n"
      ]
    },
    {
      "cell_type": "markdown",
      "metadata": {
        "id": "ZMU81WV99s1i"
      },
      "source": [
        "**一般角**\n",
        "\n",
        "平面上で、点 $\\mathrm O$ を中心として半直線 $\\mathrm{OP}$ を回転させるとき、\n",
        "\n",
        "この半直線 $\\mathrm{OP}$ を動径、半直線 $\\mathrm{OX}$ を始線という。\n",
        "\n",
        "時計の針の回転と逆の向きに図った角度を正の角という。\n",
        "\n",
        "$\\mathrm{OX}$ と $\\mathrm{OP}$ のなす角の一つを $\\alpha$ とすると、\n",
        "\n",
        "$\\theta = \\alpha + 360 \\times n$\n",
        "を動径 $\\mathrm{OP}$ の一般角、という。"
      ]
    },
    {
      "cell_type": "markdown",
      "metadata": {
        "id": "HJoJ-0lx_QM2"
      },
      "source": [
        "象限の角 と言う言い方をする。 座標軸に重なる時はどの象限の角でもないとする。\n",
        "\n"
      ]
    },
    {
      "cell_type": "markdown",
      "metadata": {
        "id": "kEKLPESv_qRI"
      },
      "source": [
        "基本例題 108 p.165\n",
        "\n",
        "次の角の動径を図示せよ。 また、それぞれ第何象限の角か。\n",
        "\n",
        "* 650°\n",
        "* 800°\n",
        "* -630°\n",
        "* -1280°\n"
      ]
    },
    {
      "cell_type": "code",
      "metadata": {
        "id": "r-4hCvK9hydu",
        "colab": {
          "base_uri": "https://localhost:8080/",
          "height": 38
        },
        "outputId": "758adad0-4fd3-43d0-ff21-70d824eb2246"
      },
      "source": [
        "# sympy の実験 => α β を表す。 * => \\times にする。\n",
        "from  sympy import *\n",
        "init_printing(latex_printer=lambda *args, **kwargs: latex(*args, mul_symbol='times', **kwargs))\n",
        "alpha, beta, theta = sympy.symbols('alpha beta theta')\n",
        "n = symbols('n')\n",
        "display(Eq(theta, alpha + 360 * n))"
      ],
      "execution_count": null,
      "outputs": [
        {
          "output_type": "display_data",
          "data": {
            "image/png": "[encoded data removed]",
            "text/latex": "$\\displaystyle \\theta = \\alpha + 360 \\times n$",
            "text/plain": [
              "θ = α + 360⋅n"
            ]
          },
          "metadata": {
            "tags": []
          }
        }
      ]
    },
    {
      "cell_type": "code",
      "metadata": {
        "id": "9HTrhm6vf3O5",
        "colab": {
          "base_uri": "https://localhost:8080/",
          "height": 38
        },
        "outputId": "0e997709-1b92-4467-aaaf-6792b64b2d34"
      },
      "source": [
        "# 参考 角度の記号\n",
        "%%latex\n",
        "\\angle A = 360^\\circ"
      ],
      "execution_count": null,
      "outputs": [
        {
          "output_type": "display_data",
          "data": {
            "text/latex": "\\angle A = 360^\\circ",
            "text/plain": [
              "<IPython.core.display.Latex object>"
            ]
          },
          "metadata": {
            "tags": []
          }
        }
      ]
    },
    {
      "cell_type": "markdown",
      "metadata": {
        "id": "Swb57Kscg1pp"
      },
      "source": [
        "---\n",
        "弧度法\n",
        "\n",
        "半径 $r$ の円で、半径に等しい長さの弧 $\\mathrm{AB}$ に対する中心角の大きさは、半径 $r$ に関係なく一定である。 この角の大きさを 1 ラジアン (1 弧度) と言い、ラジアンを単位をする角の表し方を弧度法と言う。 直角を 90°とする角度の表し方を度数法と言う。\n",
        "\n",
        "* 1 ラジアン = $\\displaystyle \\left ( \\frac{180}{\\pi} \\right )^\\circ$\n",
        "* 180°= $\\pi$ ラジアン\n",
        "\n",
        "* 弧の長さ $\\quad l = r \\theta$\n",
        "* 面積 $\\quad S = \\frac 1 2 r^2 \\theta = \\frac 1 2 rl$\n",
        "\n"
      ]
    },
    {
      "cell_type": "markdown",
      "metadata": {
        "id": "WYnn8MqXm0Qe"
      },
      "source": [
        "基本例題 109 p.167\n",
        "\n",
        "次の角を、度数は弧度に、弧度は度数に、それぞれ書き直せ。\n",
        "* 72°\n",
        "* -320°\n",
        "* $\\frac{4}{15} \\pi$\n",
        "* $\\frac{-13}{4}\\pi$\n",
        "\n",
        "半径 4、中心角 150°の扇形の弧の長さと面積を求めよ。\n",
        "\n"
      ]
    },
    {
      "cell_type": "code",
      "metadata": {
        "id": "pm9qtlyrnY_A",
        "outputId": "3550d8fb-2301-42bb-bb0a-8b2e996010dc",
        "colab": {
          "base_uri": "https://localhost:8080/",
          "height": 136
        }
      },
      "source": [
        "from sympy import *\n",
        "display(Rational(72,180)*pi)\n",
        "display(Rational(-320,180)*pi)\n",
        "display(Rational(4,15)*180)\n",
        "display(Rational(-13,4)*180)\n",
        "print()\n",
        "print(\"この長さ l = (4*150/180.as_integer_ratio()))"
      ],
      "execution_count": 18,
      "outputs": [
        {
          "output_type": "error",
          "ename": "SyntaxError",
          "evalue": "ignored",
          "traceback": [
            "\u001b[0;36m  File \u001b[0;32m\"<ipython-input-18-e1c06fc1c534>\"\u001b[0;36m, line \u001b[0;32m7\u001b[0m\n\u001b[0;31m    print(\"この長さ l = {} π\".format(4*150/180.as_integer_ratio()))\u001b[0m\n\u001b[0m                                                          ^\u001b[0m\n\u001b[0;31mSyntaxError\u001b[0m\u001b[0;31m:\u001b[0m invalid syntax\n"
          ]
        }
      ]
    },
    {
      "cell_type": "code",
      "metadata": {
        "id": "coVUPwAonygW"
      },
      "source": [
        ""
      ],
      "execution_count": null,
      "outputs": []
    }
  ]
}