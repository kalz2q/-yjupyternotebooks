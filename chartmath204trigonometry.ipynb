{
  "nbformat": 4,
  "nbformat_minor": 0,
  "metadata": {
    "colab": {
      "name": "chartmath204trigonometry.ipynb",
      "provenance": [],
      "toc_visible": true,
      "authorship_tag": "ABX9TyOBhzx1EuIVauwVBDb63Gtj",
      "include_colab_link": true
    },
    "kernelspec": {
      "name": "python3",
      "display_name": "Python 3"
    }
  },
  "cells": [
    {
      "cell_type": "markdown",
      "metadata": {
        "id": "view-in-github",
        "colab_type": "text"
      },
      "source": [
        "<a href=\"https://colab.research.google.com/github/kalz2q/mycolabnotebooks/blob/master/chartmath204trigonometry.ipynb\" target=\"_parent\"><img src=\"https://colab.research.google.com/assets/colab-badge.svg\" alt=\"Open In Colab\"/></a>"
      ]
    },
    {
      "cell_type": "markdown",
      "metadata": {
        "id": "RDVbHtLO3k7-"
      },
      "source": [
        "# メモ\n",
        "数学を Colab で学ぶプロジェクト\n",
        "\n",
        "いま数学IIの三角関数 trigonometry\n",
        "\n",
        "\n",
        "\n"
      ]
    },
    {
      "cell_type": "markdown",
      "metadata": {
        "id": "UKFNnCow32Ey"
      },
      "source": [
        "# 一般角\n",
        "\n"
      ]
    },
    {
      "cell_type": "markdown",
      "metadata": {
        "id": "ZMU81WV99s1i"
      },
      "source": [
        "**一般角**\n",
        "\n",
        "平面上で、点 $\\mathrm O$ を中心として半直線 $\\mathrm{OP}$ を回転させるとき、\n",
        "\n",
        "この半直線 $\\mathrm{OP}$ を動径、半直線 $\\mathrm{OX}$ を始線という。\n",
        "\n",
        "時計の針の回転と逆の向きに図った角度を正の角という。\n",
        "\n",
        "$\\mathrm{OX}$ と $\\mathrm{OP}$ のなす角の一つを $\\alpha$ とすると、\n",
        "\n",
        "$\\theta = \\alpha + 360 \\times n$\n",
        "を動径 $\\mathrm{OP}$ の一般角、という。"
      ]
    },
    {
      "cell_type": "markdown",
      "metadata": {
        "id": "HJoJ-0lx_QM2"
      },
      "source": [
        "象限の角 と言う言い方をする。 座標軸に重なる時はどの象限の角でもないとする。\n",
        "\n"
      ]
    },
    {
      "cell_type": "markdown",
      "metadata": {
        "id": "kEKLPESv_qRI"
      },
      "source": [
        "基本例題 108 p.165\n",
        "\n",
        "次の角の動径を図示せよ。 また、それぞれ第何象限の角か。\n",
        "\n",
        "* 650°\n",
        "* 800°\n",
        "* -630°\n",
        "* -1280°\n"
      ]
    },
    {
      "cell_type": "code",
      "metadata": {
        "id": "r-4hCvK9hydu",
        "colab": {
          "base_uri": "https://localhost:8080/",
          "height": 38
        },
        "outputId": "758adad0-4fd3-43d0-ff21-70d824eb2246"
      },
      "source": [
        "# sympy の実験 => α β を表す。 * => \\times にする。\n",
        "from  sympy import *\n",
        "init_printing(latex_printer=lambda *args, **kwargs: latex(*args, mul_symbol='times', **kwargs))\n",
        "alpha, beta, theta = sympy.symbols('alpha beta theta')\n",
        "n = symbols('n')\n",
        "display(Eq(theta, alpha + 360 * n))"
      ],
      "execution_count": null,
      "outputs": [
        {
          "output_type": "display_data",
          "data": {
            "image/png": "[encoded data removed]",
            "text/latex": "$\\displaystyle \\theta = \\alpha + 360 \\times n$",
            "text/plain": [
              "θ = α + 360⋅n"
            ]
          },
          "metadata": {
            "tags": []
          }
        }
      ]
    },
    {
      "cell_type": "code",
      "metadata": {
        "id": "9HTrhm6vf3O5",
        "colab": {
          "base_uri": "https://localhost:8080/",
          "height": 38
        },
        "outputId": "0e997709-1b92-4467-aaaf-6792b64b2d34"
      },
      "source": [
        "# 参考 角度の記号\n",
        "%%latex\n",
        "\\angle A = 360^\\circ"
      ],
      "execution_count": null,
      "outputs": [
        {
          "output_type": "display_data",
          "data": {
            "text/latex": "\\angle A = 360^\\circ",
            "text/plain": [
              "<IPython.core.display.Latex object>"
            ]
          },
          "metadata": {
            "tags": []
          }
        }
      ]
    },
    {
      "cell_type": "markdown",
      "metadata": {
        "id": "Swb57Kscg1pp"
      },
      "source": [
        "---\n",
        "弧度法\n",
        "\n",
        "半径 $r$ の円で、半径に等しい長さの弧 $\\mathrm{AB}$ に対する中心角の大きさは、半径 $r$ に関係なく一定である。 この角の大きさを 1 ラジアン (1 弧度) と言い、ラジアンを単位をする角の表し方を弧度法と言う。 直角を 90°とする角度の表し方を度数法と言う。\n",
        "\n",
        "* 1 ラジアン = $\\displaystyle \\left ( \\frac{180}{\\pi} \\right )^\\circ$\n",
        "* 180°= $\\pi$ ラジアン\n",
        "\n",
        "* 弧の長さ $\\quad l = r \\theta$\n",
        "* 面積 $\\quad S = \\frac 1 2 r^2 \\theta = \\frac 1 2 rl$\n",
        "\n"
      ]
    },
    {
      "cell_type": "markdown",
      "metadata": {
        "id": "WYnn8MqXm0Qe"
      },
      "source": [
        "基本例題 109 p.167\n",
        "\n",
        "次の角を、度数は弧度に、弧度は度数に、それぞれ書き直せ。\n",
        "* 72°\n",
        "* -320°\n",
        "* $\\frac{4}{15} \\pi$\n",
        "* $\\frac{-13}{4}\\pi$\n",
        "\n",
        "半径 4、中心角 150°の扇形の弧の長さと面積を求めよ。\n",
        "\n"
      ]
    },
    {
      "cell_type": "code",
      "metadata": {
        "id": "pm9qtlyrnY_A",
        "colab": {
          "base_uri": "https://localhost:8080/",
          "height": 126
        },
        "outputId": "b71b77f4-9cbe-417f-ce83-9563c1cefbae"
      },
      "source": [
        "from sympy import *\n",
        "display(Rational(72,180)*pi)\n",
        "display(Rational(-320,180)*pi)\n",
        "display(Rational(4,15)*180)\n",
        "display(Rational(-13,4)*180)\n"
      ],
      "execution_count": null,
      "outputs": [
        {
          "output_type": "display_data",
          "data": {
            "text/latex": "$\\displaystyle \\frac{2 \\pi}{5}$",
            "text/plain": [
              "2*pi/5"
            ]
          },
          "metadata": {
            "tags": []
          }
        },
        {
          "output_type": "display_data",
          "data": {
            "text/latex": "$\\displaystyle - \\frac{16 \\pi}{9}$",
            "text/plain": [
              "-16*pi/9"
            ]
          },
          "metadata": {
            "tags": []
          }
        },
        {
          "output_type": "display_data",
          "data": {
            "text/latex": "$\\displaystyle 48$",
            "text/plain": [
              "48"
            ]
          },
          "metadata": {
            "tags": []
          }
        },
        {
          "output_type": "display_data",
          "data": {
            "text/latex": "$\\displaystyle -585$",
            "text/plain": [
              "-585"
            ]
          },
          "metadata": {
            "tags": []
          }
        }
      ]
    },
    {
      "cell_type": "code",
      "metadata": {
        "id": "coVUPwAonygW",
        "colab": {
          "base_uri": "https://localhost:8080/"
        },
        "outputId": "4dc57583-8a0d-465b-d03c-4854d28bd844"
      },
      "source": [
        "# 弧の長さは r theta なので\n",
        "print(\"{} π\".format(4 * 150/180))\n",
        "# 面積は 1/2 r l なので\n",
        "print(\"{} π\".format(0.5*4* 4*150/180))"
      ],
      "execution_count": 22,
      "outputs": [
        {
          "output_type": "stream",
          "text": [
            "3.3333333333333335 π\n",
            "6.666666666666667 π\n"
          ],
          "name": "stdout"
        }
      ]
    },
    {
      "cell_type": "markdown",
      "metadata": {
        "id": "pgI_AhmZXIfp"
      },
      "source": [
        "---\n",
        "一般角の三角関数の定義\n",
        "\n",
        "動線 $\\mathrm{OP}$ を表す一般角を $\\theta$ とする。 $\\mathrm{OP} = r,\\; \\mathrm {P}(x,y)$ とする時、\n",
        "\n",
        "* 正弦 $\\quad \\sin \\theta = \\displaystyle \\frac y r $\n",
        "* 余弦 $\\quad \\cos \\theta = \\displaystyle \\frac x r $\n",
        "* 正接 $\\quad \\tan \\theta = \\displaystyle \\frac y x $\n",
        "\n",
        "ただし、$\\theta = \\displaystyle \\frac \\pi 2 + n\\pi$ ($n$ は整数) に対しては $\\tan \\theta$ の値を定義しない。\n",
        "\n",
        "三角関数の値域\n",
        "\n",
        "$-1 \\leq \\sin \\theta \\leq 1,\\; -1 \\leq \\cos \\theta \\leq 1,\\; \\tan \\theta$ は実数全体\n",
        "\n",
        "\n",
        "\n"
      ]
    },
    {
      "cell_type": "markdown",
      "metadata": {
        "id": "srRyMPcudcdA"
      },
      "source": [
        "---\n",
        "三角関数の相互関係\n",
        "* $\\tan \\theta = \\displaystyle \\frac {\\sin \\theta}{\\cos \\theta}$\n",
        "* $\\sin^2 \\theta + \\cos^2 \\theta = 1$\n",
        "* $1 + \\displaystyle \\tan^2 \\theta = \\frac {1}{\\cos^2 \\theta}$"
      ]
    },
    {
      "cell_type": "markdown",
      "metadata": {
        "id": "usYhOoWFeDPY"
      },
      "source": [
        "---\n",
        "基本例題 110 p.170\n",
        "\n",
        "$\\theta$ が次の値の時、$\\sin \\theta, \\cos \\theta , \\tan \\theta$ の値を求めよ。\n",
        "\n",
        "* $\\displaystyle \\frac{23}{6} \\pi$\n",
        "\n",
        "* $\\displaystyle - \\frac 5 4 \\pi$"
      ]
    },
    {
      "cell_type": "code",
      "metadata": {
        "colab": {
          "base_uri": "https://localhost:8080/",
          "height": 297
        },
        "id": "82uLVNsOxNT6",
        "outputId": "051d636f-29b8-411a-fba2-b181db964524"
      },
      "source": [
        "from sympy.abc import *\n",
        "from sympy import *\n",
        "x = Rational(23,6) * pi\n",
        "display(x)\n",
        "display(sin(x))\n",
        "display(cos(x))\n",
        "display(tan(x))\n",
        "y = -Rational(5,4) * pi\n",
        "display(y)\n",
        "display(sin(y))\n",
        "display(cos(y))\n",
        "display(tan(y))\n"
      ],
      "execution_count": 8,
      "outputs": [
        {
          "output_type": "display_data",
          "data": {
            "text/latex": "$\\displaystyle \\frac{23 \\pi}{6}$",
            "text/plain": [
              "23*pi/6"
            ]
          },
          "metadata": {
            "tags": []
          }
        },
        {
          "output_type": "display_data",
          "data": {
            "text/latex": "$\\displaystyle - \\frac{1}{2}$",
            "text/plain": [
              "-1/2"
            ]
          },
          "metadata": {
            "tags": []
          }
        },
        {
          "output_type": "display_data",
          "data": {
            "text/latex": "$\\displaystyle \\frac{\\sqrt{3}}{2}$",
            "text/plain": [
              "sqrt(3)/2"
            ]
          },
          "metadata": {
            "tags": []
          }
        },
        {
          "output_type": "display_data",
          "data": {
            "text/latex": "$\\displaystyle - \\frac{\\sqrt{3}}{3}$",
            "text/plain": [
              "-sqrt(3)/3"
            ]
          },
          "metadata": {
            "tags": []
          }
        },
        {
          "output_type": "display_data",
          "data": {
            "text/latex": "$\\displaystyle - \\frac{5 \\pi}{4}$",
            "text/plain": [
              "-5*pi/4"
            ]
          },
          "metadata": {
            "tags": []
          }
        },
        {
          "output_type": "display_data",
          "data": {
            "text/latex": "$\\displaystyle \\frac{\\sqrt{2}}{2}$",
            "text/plain": [
              "sqrt(2)/2"
            ]
          },
          "metadata": {
            "tags": []
          }
        },
        {
          "output_type": "display_data",
          "data": {
            "text/latex": "$\\displaystyle - \\frac{\\sqrt{2}}{2}$",
            "text/plain": [
              "-sqrt(2)/2"
            ]
          },
          "metadata": {
            "tags": []
          }
        },
        {
          "output_type": "display_data",
          "data": {
            "text/latex": "$\\displaystyle -1$",
            "text/plain": [
              "-1"
            ]
          },
          "metadata": {
            "tags": []
          }
        }
      ]
    },
    {
      "cell_type": "markdown",
      "metadata": {
        "id": "KLXp3AaMzi1U"
      },
      "source": [
        "---\n",
        "基本例題 111 p.171 (1)\n",
        "\n",
        "$\\displaystyle \\frac 3 2 \\pi \\lt \\theta \\lt 2 \\pi$ とする。 $\\cos \\theta = \\displaystyle \\frac 5 {13}$ のとき、$\\sin \\theta$ と $\\tan \\theta$ を求める。\n"
      ]
    },
    {
      "cell_type": "code",
      "metadata": {
        "colab": {
          "base_uri": "https://localhost:8080/",
          "height": 120
        },
        "id": "fRS69DBx0Hle",
        "outputId": "00a6da8e-5d1a-4f6c-d2dc-237f985522f7"
      },
      "source": [
        "from sympy.abc import *\n",
        "from sympy import *\n",
        "# 与件 cos(theta) = Rational(5,13) \n",
        "# 公式から sin(theta)**2 = 1 - cos(theta)**2\n",
        "display(1 - Rational(5,13)**2)\n",
        "display(sqrt(1 - Rational(5,13)**2)) # sin(theta)\n",
        "# 定義より tan(theta) = sin(theta) / cos(theta)\n",
        "display(Rational(12,13)/Rational(5,13))\n",
        "\n"
      ],
      "execution_count": 20,
      "outputs": [
        {
          "output_type": "display_data",
          "data": {
            "text/latex": "$\\displaystyle \\frac{144}{169}$",
            "text/plain": [
              "144/169"
            ]
          },
          "metadata": {
            "tags": []
          }
        },
        {
          "output_type": "display_data",
          "data": {
            "text/latex": "$\\displaystyle \\frac{12}{13}$",
            "text/plain": [
              "12/13"
            ]
          },
          "metadata": {
            "tags": []
          }
        },
        {
          "output_type": "display_data",
          "data": {
            "text/latex": "$\\displaystyle \\frac{12}{5}$",
            "text/plain": [
              "12/5"
            ]
          },
          "metadata": {
            "tags": []
          }
        }
      ]
    },
    {
      "cell_type": "markdown",
      "metadata": {
        "id": "bNJN8NIX4BAs"
      },
      "source": [
        "---\n",
        "基本例題 111 p.171 (2)\n",
        "\n",
        "\n",
        "$\\displaystyle \\pi \\lt \\theta \\lt \\frac 3 2 \\pi$ とする。 $\\tan \\theta = 7$ のとき、$\\sin \\theta$ と $\\cos \\theta$ を求める。\n"
      ]
    },
    {
      "cell_type": "code",
      "metadata": {
        "colab": {
          "base_uri": "https://localhost:8080/",
          "height": 130
        },
        "id": "5n-udean0qQN",
        "outputId": "05b35153-52f9-4ce6-9e0a-86a13ed2d293"
      },
      "source": [
        "from sympy.abc import *\n",
        "from sympy import *\n",
        "# 与件 cos(theta) = 7\n",
        "# 公式から cos(theta)**2 = 1/(1 + tan(theta)**2)\n",
        "# 公式から sin(theta) = tan(theta) * cos(theta)\n",
        "display(S(1) / (1 + 7**2)) # S(1) は 1 の実数表示 Rational(1,1)\n",
        "display(sqrt(S(1) / (1 + 7**2))) # cos(theta)\n",
        "display(S(7) * (-sqrt(2)/10))"
      ],
      "execution_count": 28,
      "outputs": [
        {
          "output_type": "display_data",
          "data": {
            "text/latex": "$\\displaystyle \\frac{1}{50}$",
            "text/plain": [
              "1/50"
            ]
          },
          "metadata": {
            "tags": []
          }
        },
        {
          "output_type": "display_data",
          "data": {
            "text/latex": "$\\displaystyle \\frac{\\sqrt{2}}{10}$",
            "text/plain": [
              "sqrt(2)/10"
            ]
          },
          "metadata": {
            "tags": []
          }
        },
        {
          "output_type": "display_data",
          "data": {
            "text/latex": "$\\displaystyle - \\frac{7 \\sqrt{2}}{10}$",
            "text/plain": [
              "-7*sqrt(2)/10"
            ]
          },
          "metadata": {
            "tags": []
          }
        }
      ]
    },
    {
      "cell_type": "markdown",
      "metadata": {
        "id": "yT9G6rKQ87Rc"
      },
      "source": [
        "---\n",
        "基本例題 112 p.172 (1)\n",
        "\n",
        "* 等式 $\\;\\; \\displaystyle \\frac {\\cos \\theta}{1 + \\sin \\theta} + \\tan \\theta = \\frac 1 {\\cos \\theta}$ を証明する。\n",
        "\n",
        "左辺\n",
        "\n",
        "$\\qquad = \\displaystyle \\frac {\\cos \\theta}{1 + \\sin \\theta} + \\frac {\\sin \\theta}{\\cos \\theta}$\n",
        "\n",
        "$\\qquad = \\displaystyle \\frac {\\cos^2\\theta}{(1 + \\sin \\theta)\\cos\\theta} + \\frac {(1 + \\sin \\theta)\\sin\\theta}{(1 + \\sin \\theta)\\cos \\theta}$\n",
        "\n",
        "$\\qquad = \\displaystyle \\frac {\\cos^2\\theta + \\sin^2\\theta +\\sin\\theta}{(1 + \\sin \\theta)\\cos\\theta}$\n",
        "\n",
        "$\\qquad = \\displaystyle \\frac {1 + \\sin \\theta}{(1 + \\sin \\theta)\\cos\\theta}$\n",
        "\n",
        "$\\qquad = \\displaystyle \\frac {1}{\\cos\\theta}$"
      ]
    },
    {
      "cell_type": "markdown",
      "metadata": {
        "id": "amHFLFtPK5Ro"
      },
      "source": [
        ""
      ]
    },
    {
      "cell_type": "markdown",
      "metadata": {
        "id": "EzoqBDbV-N5M"
      },
      "source": [
        "---\n",
        "基本例題 112 p.172 (2)\n",
        "\n",
        "* $\\cos^2\\theta + \\sin\\theta -\\tan\\theta (1 - \\sin\\theta) \\cos\\theta$ を計算する。\n",
        "\n",
        "与式\n",
        "\n",
        "$\\qquad = \\displaystyle \\cos^2\\theta + \\sin\\theta -\\frac {\\sin\\theta}{\\cos\\theta} (1 - \\sin\\theta) \\cos\\theta$\n",
        "\n",
        "$\\qquad = \\displaystyle \\cos^2\\theta + \\sin\\theta - \\sin\\theta + \\sin^2\\theta$\n",
        "\n",
        "$\\qquad = \\displaystyle \\cos^2\\theta + \\sin^2\\theta$\n",
        "\n",
        "$\\qquad = 1$"
      ]
    },
    {
      "cell_type": "markdown",
      "metadata": {
        "id": "fAZIXykTMc1c"
      },
      "source": [
        "---\n",
        "基本例題 113 p.173\n",
        "\n",
        "$\\sin\\theta +\\cos\\theta = \\displaystyle\\frac{\\sqrt 3}{2}\\;\\; (\\frac \\pi 2 \\lt \\theta \\lt \\pi)$ の時、次の式の値を求める。\n",
        "\n",
        "* $\\sin\\theta\\cos\\theta$\n",
        "* $\\sin^3\\theta+\\cos^3\\theta$\n",
        "* $\\cos^3\\theta-\\sin^3\\theta$\n",
        "\n",
        "$\\sin\\theta +\\cos\\theta = \\displaystyle\\frac{\\sqrt 3}{2}$\n",
        "\n",
        "の両辺を 2 乗すると\n",
        "\n",
        "$\\sin^2\\theta +\\cos^2\\theta + 2\\sin\\theta\\cos\\theta = \\displaystyle\\frac{3}{4}$\n",
        "\n",
        "$1 + 2\\sin\\theta\\cos\\theta = \\displaystyle\\frac{3}{4}$\n",
        "\n",
        "$2\\sin\\theta\\cos\\theta = \\displaystyle\\frac{3}{4} - 1$\n",
        "\n",
        "$2\\sin\\theta\\cos\\theta = \\displaystyle\\frac{-1}{4}$\n",
        "\n",
        "$\\sin\\theta\\cos\\theta = \\displaystyle\\frac{-1}{8}$\n",
        "\n",
        "(2)  \n",
        "\n",
        "$\\sin^3\\theta+\\cos^3\\theta = (\\sin\\theta + \\cos\\theta)(\\sin^2\\theta - \\sin\\theta\\cos\\theta + \\cos^2\\theta)$\n",
        "\n",
        "$\\qquad =  \\displaystyle\\frac{\\sqrt 3}{2} (\\sin^2\\theta - \\frac{-1}{8} + \\cos^2\\theta)$\n",
        "\n",
        "$\\qquad =  \\displaystyle\\frac{\\sqrt 3}{2} (1 + \\frac{1}{8})$\n",
        "\n",
        "$\\qquad =  \\displaystyle\\frac{9\\sqrt 3}{16}$\n",
        "\n",
        "(3)\n",
        "\n",
        "$\\cos^3\\theta-\\sin^3\\theta = (\\cos\\theta - \\sin\\theta)(\\sin^2\\theta + \\sin\\theta\\cos\\theta + \\cos^2\\theta)$\n",
        "\n",
        "$\\qquad = (\\cos\\theta - \\sin\\theta)(1 + \\sin\\theta\\cos\\theta)$\n",
        "\n",
        "$\\qquad = (\\cos\\theta - \\sin\\theta)(1 + \\displaystyle\\frac{-1}{8})$\n",
        "\n",
        "$\\qquad = \\displaystyle\\frac{7}{8}(\\cos\\theta - \\sin\\theta)$\n",
        "\n",
        "ところで\n",
        "\n",
        "$(\\cos\\theta - \\sin\\theta)^2 = 1 - 2\\sin\\theta\\cos\\theta$\n",
        "\n",
        "$\\qquad = 1 - 2 \\displaystyle\\frac{-1}{8} = \\frac 5 4$\n",
        "\n",
        "与えられた象限では $\\cos\\theta - \\sin\\theta \\lt 0$ なので\n",
        "\n",
        "$\\cos\\theta - \\sin\\theta = - \\displaystyle\\frac{\\sqrt 5}{2}$\n",
        "\n",
        "よって与式 $\\quad = - \\displaystyle\\frac 7 8 \\times \\frac {\\sqrt 5} 2 = - \\frac{7\\sqrt 5}{16}$\n",
        "\n",
        "\n",
        "\n",
        "\n",
        "\n"
      ]
    },
    {
      "cell_type": "markdown",
      "metadata": {
        "id": "CgOZ24Kcco8H"
      },
      "source": [
        "---\n",
        "三角関数の性質 p.174\n",
        "\n",
        "$\\theta + 2n\\pi$ の三角関数\n",
        "* $\\sin(\\theta + 2n\\pi) = \\sin\\theta$\n",
        "* $\\cos(\\theta + 2n\\pi) = \\cos\\theta$\n",
        "* $\\tan(\\theta + 2n\\pi) = \\tan\\theta$\n",
        "\n",
        "$-\\theta$ の三角関数\n",
        "* $\\sin(-\\theta) = - \\sin\\theta$\n",
        "* $\\cos(-\\theta) = \\cos\\theta$\n",
        "* $\\tan(-\\theta) = - \\tan\\theta$\n",
        "\n",
        "$-\\theta$ の三角関数\n",
        "* $\\sin(-\\theta) = - \\sin\\theta$\n",
        "* $\\cos(-\\theta) = \\cos\\theta$\n",
        "* $\\tan(-\\theta) = - \\tan\\theta$"
      ]
    }
  ]
}