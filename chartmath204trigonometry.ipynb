{
  "nbformat": 4,
  "nbformat_minor": 0,
  "metadata": {
    "colab": {
      "name": "chartmath204trigonometry.ipynb",
      "provenance": [],
      "authorship_tag": "ABX9TyN2fa9JBw66uCn5CMAbISRz",
      "include_colab_link": true
    },
    "kernelspec": {
      "name": "python3",
      "display_name": "Python 3"
    }
  },
  "cells": [
    {
      "cell_type": "markdown",
      "metadata": {
        "id": "view-in-github",
        "colab_type": "text"
      },
      "source": [
        "<a href=\"https://colab.research.google.com/github/kalz2q/mycolabnotebooks/blob/master/chartmath204trigonometry.ipynb\" target=\"_parent\"><img src=\"https://colab.research.google.com/assets/colab-badge.svg\" alt=\"Open In Colab\"/></a>"
      ]
    },
    {
      "cell_type": "code",
      "metadata": {
        "id": "e1HSpWw43j4R"
      },
      "source": [
        ""
      ],
      "execution_count": null,
      "outputs": []
    },
    {
      "cell_type": "markdown",
      "metadata": {
        "id": "RDVbHtLO3k7-"
      },
      "source": [
        "# メモ\r\n",
        "数学を Colab で学ぶプロジェクト\r\n",
        "\r\n"
      ]
    },
    {
      "cell_type": "markdown",
      "metadata": {
        "id": "UKFNnCow32Ey"
      },
      "source": [
        "一般角\r\n",
        "\r\n",
        "平面上で、点 $\\rm O$ を中心として半直線 $\\rm OP$ を回転させるとき、"
      ]
    },
    {
      "cell_type": "code",
      "metadata": {
        "colab": {
          "base_uri": "https://localhost:8080/",
          "height": 37
        },
        "id": "ezOra1-j82X7",
        "outputId": "48173e49-526b-45f0-cdaf-4ebcdd807dae"
      },
      "source": [
        "%%latex\r\n",
        "% latex 中にコメントを入れるときは、% を使う。\r\n",
        "% rm は roman の意味か。 これを入れないとイタリックになる。\r\n",
        "\\rm OP "
      ],
      "execution_count": 4,
      "outputs": [
        {
          "output_type": "display_data",
          "data": {
            "text/latex": "% comment\n\\rm OP ",
            "text/plain": [
              "<IPython.core.display.Latex object>"
            ]
          },
          "metadata": {
            "tags": []
          }
        }
      ]
    },
    {
      "cell_type": "markdown",
      "metadata": {
        "id": "ZMU81WV99s1i"
      },
      "source": [
        "一般角\r\n",
        "\r\n",
        "平面上で、点 $\\rm O$ を中心として半直線 $\\rm OP$ を回転させるとき、\r\n",
        "この半直線 $rm OP$ を動径、半直線 $rm OX$ を始線という。\r\n",
        "時計の針の回転と逆の向きに図った角度を正の角という。\r\n",
        "\r\n",
        "$rm OX$ と $rm OP$ のなす角の一つを $\\alpha$ とすると、\r\n",
        "\r\n"
      ]
    },
    {
      "cell_type": "code",
      "metadata": {
        "colab": {
          "base_uri": "https://localhost:8080/",
          "height": 38
        },
        "id": "PHimZGeD-ttt",
        "outputId": "a9502611-129b-4300-cf1b-cec21e3f5133"
      },
      "source": [
        "from sympy import *\r\n",
        "init_printing()\r\n",
        "θ= symbols('θ')\r\n",
        "α= symbols('α')\r\n",
        "n = symbols('n')\r\n",
        "display( θ= α+360*n)\r\n",
        "display(n)"
      ],
      "execution_count": 8,
      "outputs": [
        {
          "output_type": "display_data",
          "data": {
            "image/png": "[encoded data removed]",
            "text/latex": "$$n$$",
            "text/plain": [
              "n"
            ]
          },
          "metadata": {
            "tags": []
          }
        }
      ]
    },
    {
      "cell_type": "code",
      "metadata": {
        "colab": {
          "base_uri": "https://localhost:8080/",
          "height": 38
        },
        "id": "WVT53wbKJLpu",
        "outputId": "4cb84a9b-b99f-4391-c4ce-0f84969ca435"
      },
      "source": [
        "from sympy import *\r\n",
        "init_printing()\r\n",
        "alpha, theta  = symbols(r\"\\alpha \\theta\")\r\n",
        "n = symbols('n')\r\n",
        "display(Eq(theta, alpha + 360 * n))"
      ],
      "execution_count": 30,
      "outputs": [
        {
          "output_type": "display_data",
          "data": {
            "image/png": "[encoded data removed]",
            "text/latex": "$$\\theta = \\alpha + 360 n$$",
            "text/plain": [
              "\\theta = \\alpha + 360⋅n"
            ]
          },
          "metadata": {
            "tags": []
          }
        }
      ]
    },
    {
      "cell_type": "code",
      "metadata": {
        "colab": {
          "base_uri": "https://localhost:8080/",
          "height": 57
        },
        "id": "yUhNsbg_MQDv",
        "outputId": "0daaacfe-8885-487e-d61f-2c6b68dd0bff"
      },
      "source": [
        "from sympy import *\r\n",
        "from IPython.display import Math\r\n",
        "init_printing()\r\n",
        "# from IPython.display import display, Math\r\n",
        "# from sympy import *\r\n",
        "x1 = var('x_1')\r\n",
        "x2 = var('x_2')\r\n",
        "display(Math(latex(360 * x1*x2,mul_symbol='times')))\r\n",
        "display(latex(x1*x2,mul_symbol='times'))\r\n",
        "# display(x1*x2,mul_symbol='times')\r\n",
        "\r\n",
        "\r\n"
      ],
      "execution_count": 43,
      "outputs": [
        {
          "output_type": "display_data",
          "data": {
            "text/latex": "$$360 \\times x_{1} \\times x_{2}$$",
            "text/plain": [
              "<IPython.core.display.Math object>"
            ]
          },
          "metadata": {
            "tags": []
          }
        },
        {
          "output_type": "display_data",
          "data": {
            "application/vnd.google.colaboratory.intrinsic+json": {
              "type": "string"
            },
            "text/plain": [
              "'x_{1} \\\\times x_{2}'"
            ]
          },
          "metadata": {
            "tags": []
          }
        }
      ]
    }
  ]
}