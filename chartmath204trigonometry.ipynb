{
  "nbformat": 4,
  "nbformat_minor": 0,
  "metadata": {
    "colab": {
      "name": "chartmath204trigonometry.ipynb",
      "provenance": [],
      "toc_visible": true,
      "authorship_tag": "ABX9TyO9347Rv8vguwtBo3Wbomjc",
      "include_colab_link": true
    },
    "kernelspec": {
      "name": "python3",
      "display_name": "Python 3"
    }
  },
  "cells": [
    {
      "cell_type": "markdown",
      "metadata": {
        "id": "view-in-github",
        "colab_type": "text"
      },
      "source": [
        "<a href=\"https://colab.research.google.com/github/kalz2q/mycolabnotebooks/blob/master/chartmath204trigonometry.ipynb\" target=\"_parent\"><img src=\"https://colab.research.google.com/assets/colab-badge.svg\" alt=\"Open In Colab\"/></a>"
      ]
    },
    {
      "cell_type": "markdown",
      "metadata": {
        "id": "RDVbHtLO3k7-"
      },
      "source": [
        "# メモ\r\n",
        "数学を Colab で学ぶプロジェクト\r\n",
        "\r\n",
        "いま数学IIの三角関数 trigonometry\r\n",
        "\r\n",
        "\r\n",
        "\r\n"
      ]
    },
    {
      "cell_type": "markdown",
      "metadata": {
        "id": "UKFNnCow32Ey"
      },
      "source": [
        "# 一般角\r\n",
        "\r\n",
        "平面上で、点 $\\rm O$ を中心として半直線 $\\rm OP$ を回転させるとき、"
      ]
    },
    {
      "cell_type": "code",
      "metadata": {
        "colab": {
          "base_uri": "https://localhost:8080/",
          "height": 58
        },
        "id": "ezOra1-j82X7",
        "outputId": "5362844e-3c1f-4c87-994c-ce953cdaf2e8"
      },
      "source": [
        "# 参考\r\n",
        "%%latex\r\n",
        "% latex 中にコメントを入れるときは、% を使う。\r\n",
        "% rm は roman の意味か。 これを入れないとイタリックになる。\r\n",
        "OP\\\\\r\n",
        "\\rm{OP} \\\\\r\n",
        "OP"
      ],
      "execution_count": null,
      "outputs": [
        {
          "output_type": "display_data",
          "data": {
            "text/latex": "% latex 中にコメントを入れるときは、% を使う。\n% rm は roman の意味か。 これを入れないとイタリックになる。\nOP\\\\\n\\rm{OP} \\\\\nOP",
            "text/plain": [
              "<IPython.core.display.Latex object>"
            ]
          },
          "metadata": {
            "tags": []
          }
        }
      ]
    },
    {
      "cell_type": "markdown",
      "metadata": {
        "id": "ZMU81WV99s1i"
      },
      "source": [
        "一般角\r\n",
        "\r\n",
        "平面上で、点 $\\rm O$ を中心として半直線 $\\rm OP$ を回転させるとき、\r\n",
        "この半直線 $\\rm OP$ を動径、半直線 $\\rm OX$ を始線という。\r\n",
        "時計の針の回転と逆の向きに図った角度を正の角という。\r\n",
        "\r\n",
        "$\\rm OX$ と $\\rm OP$ のなす角の一つを $\\alpha$ とすると、\r\n",
        "\r\n"
      ]
    },
    {
      "cell_type": "code",
      "metadata": {
        "colab": {
          "base_uri": "https://localhost:8080/",
          "height": 56
        },
        "id": "WVT53wbKJLpu",
        "outputId": "a45722eb-ac6d-407e-dd81-a9f0a2835f9b"
      },
      "source": [
        "from IPython.display import Math\r\n",
        "from sympy import *\r\n",
        "init_printing()\r\n",
        "alpha, theta  = symbols(r\"\\alpha \\theta\")\r\n",
        "n = symbols('n')\r\n",
        "display(Math(latex(Eq(theta, alpha + 360 * n), mul_symbol='times')))\r\n",
        "print(latex(Eq(theta, alpha + 360 * n), mul_symbol='times'))"
      ],
      "execution_count": null,
      "outputs": [
        {
          "output_type": "display_data",
          "data": {
            "text/latex": "$$\\theta = \\alpha + 360 \\times n$$",
            "text/plain": [
              "<IPython.core.display.Math object>"
            ]
          },
          "metadata": {
            "tags": []
          }
        },
        {
          "output_type": "stream",
          "text": [
            "\\theta = \\alpha + 360 \\times n\n"
          ],
          "name": "stdout"
        }
      ]
    },
    {
      "cell_type": "markdown",
      "metadata": {
        "id": "hp9WQv7IfOpj"
      },
      "source": [
        "$\\theta = \\alpha + 360 \\times n$\r\n",
        "を動径 $\\rm OP$ の一般角、という。"
      ]
    },
    {
      "cell_type": "code",
      "metadata": {
        "id": "9HTrhm6vf3O5",
        "colab": {
          "base_uri": "https://localhost:8080/",
          "height": 38
        },
        "outputId": "0e997709-1b92-4467-aaaf-6792b64b2d34"
      },
      "source": [
        "# 参考 角度の記号\r\n",
        "%%latex\r\n",
        "\\angle A = 360^\\circ"
      ],
      "execution_count": null,
      "outputs": [
        {
          "output_type": "display_data",
          "data": {
            "text/latex": "\\angle A = 360^\\circ",
            "text/plain": [
              "<IPython.core.display.Latex object>"
            ]
          },
          "metadata": {
            "tags": []
          }
        }
      ]
    },
    {
      "cell_type": "code",
      "metadata": {
        "id": "Swb57Kscg1pp"
      },
      "source": [
        ""
      ],
      "execution_count": null,
      "outputs": []
    }
  ]
}