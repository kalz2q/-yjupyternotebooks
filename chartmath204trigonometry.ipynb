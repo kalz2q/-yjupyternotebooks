{
  "nbformat": 4,
  "nbformat_minor": 0,
  "metadata": {
    "colab": {
      "name": "chartmath204trigonometry.ipynb",
      "provenance": [],
      "authorship_tag": "ABX9TyO/j7wQ+vWlqMkX6d8Zr3aX",
      "include_colab_link": true
    },
    "kernelspec": {
      "name": "python3",
      "display_name": "Python 3"
    }
  },
  "cells": [
    {
      "cell_type": "markdown",
      "metadata": {
        "id": "view-in-github",
        "colab_type": "text"
      },
      "source": [
        "<a href=\"https://colab.research.google.com/github/kalz2q/mycolabnotebooks/blob/master/chartmath204trigonometry.ipynb\" target=\"_parent\"><img src=\"https://colab.research.google.com/assets/colab-badge.svg\" alt=\"Open In Colab\"/></a>"
      ]
    },
    {
      "cell_type": "markdown",
      "metadata": {
        "id": "RDVbHtLO3k7-"
      },
      "source": [
        "# メモ\n",
        "数学II 4章 三角関数 trigonometry p.165\n",
        "\n",
        "\n",
        "\n"
      ]
    },
    {
      "cell_type": "code",
      "source": [
        "# sympy の import\n",
        "from sympy.abc import *\n",
        "from sympy import *\n",
        "init_printing()"
      ],
      "metadata": {
        "id": "EX3Z3XRGz4w3"
      },
      "execution_count": null,
      "outputs": []
    },
    {
      "cell_type": "code",
      "source": [
        "# 一般角\n",
        "# 平面上で、点 \\mathrm O を中心として半直線 \\mathrm{OP} を回転させるとき、\n",
        "# この半直線 \\mathrm{OP} を動径、半直線 \\mathrm{OX} を始線という。\n",
        "# 時計の針の回転と逆の向きに図った角度を正の角という。\n",
        "# \\mathrm{OX} と \\mathrm{OP} のなす角の一つを \\alpha とすると、\n",
        "# \\theta = \\alpha + 360 \\times n\n",
        "# を動径 \\mathrm{OP} の一般角、という。"
      ],
      "metadata": {
        "id": "UKFNnCow32Ey"
      },
      "execution_count": null,
      "outputs": []
    },
    {
      "cell_type": "code",
      "source": [
        "# 象限の角 と言う言い方をする\n",
        "# 座標軸に重なる時はどの象限の角でもないとする"
      ],
      "metadata": {
        "id": "HJoJ-0lx_QM2"
      },
      "execution_count": null,
      "outputs": []
    },
    {
      "cell_type": "code",
      "source": [
        "# 基本例題 108 p.165\n",
        "# 次の角の動径を図示せよ。 また、それぞれ第何象限の角か。\n",
        "# * 650°\n",
        "# * 800°\n",
        "# * -630°\n",
        "# * -1280°"
      ],
      "metadata": {
        "id": "kEKLPESv_qRI"
      },
      "execution_count": null,
      "outputs": []
    },
    {
      "cell_type": "code",
      "metadata": {
        "id": "r-4hCvK9hydu",
        "colab": {
          "base_uri": "https://localhost:8080/",
          "height": 39
        },
        "outputId": "4c1e2dc8-4aac-458d-9ced-5aea8177955f"
      },
      "source": [
        "# sympy の実験\n",
        "from  sympy import *\n",
        "alpha, beta, theta = symbols('alpha beta theta')\n",
        "n = symbols('n')\n",
        "display(Eq(theta, alpha + 360 * n))"
      ],
      "execution_count": null,
      "outputs": [
        {
          "output_type": "display_data",
          "data": {
            "text/plain": [
              "θ = α + 360⋅n"
            ],
            "image/png": "[encoded data removed]",
            "text/latex": "$\\displaystyle \\theta = \\alpha + 360 \\times n$"
          },
          "metadata": {}
        }
      ]
    },
    {
      "cell_type": "code",
      "metadata": {
        "id": "9HTrhm6vf3O5",
        "colab": {
          "base_uri": "https://localhost:8080/",
          "height": 39
        },
        "outputId": "a1633366-a5d7-42a7-a631-4d6f972b5a07"
      },
      "source": [
        "# 参考 角度の記号\n",
        "%%latex\n",
        "\\angle A = 360^\\circ"
      ],
      "execution_count": null,
      "outputs": [
        {
          "output_type": "display_data",
          "data": {
            "text/plain": [
              "<IPython.core.display.Latex object>"
            ],
            "text/latex": "\\angle A = 360^\\circ"
          },
          "metadata": {}
        }
      ]
    },
    {
      "cell_type": "code",
      "source": [
        "# 弧度法\n",
        "# 半径 r の円で、半径に等しい長さの弧 \\mathrm{AB} に対する中心角の大きさは、\n",
        "# 半径 r に関係なく一定である。 この角の大きさを 1 ラジアン (1 弧度) と言い、\n",
        "# ラジアンを単位をする角の表し方を弧度法と言う。 直角を 90°とする角度の表し方を度数法と言う。\n",
        "\n",
        "# 1 ラジアン = \\displaystyle \\left ( \\frac{180}{\\pi} \\right )^\\circ\n",
        "# 180°= \\pi ラジアン\n",
        "\n",
        "# 弧の長さ \\quad l = r \\theta\n",
        "# 面積 \\quad S = \\frac 1 2 r^2 \\theta = \\frac 1 2 rl"
      ],
      "metadata": {
        "id": "Swb57Kscg1pp"
      },
      "execution_count": null,
      "outputs": []
    },
    {
      "cell_type": "code",
      "source": [
        "%%latex\n",
        "1 ~ラジアン = \\displaystyle \\left ( \\frac{180}{\\pi} \\right )^\\circ \\\\[0.8em]\n",
        "180°= \\pi ~ラジアン\\\\[0.8em]\n",
        "弧の長さ \\quad l = r \\theta\\\\[0.8em]\n",
        "面積 \\quad S = \\frac 1 2 r^2 \\theta = \\frac 1 2 rl"
      ],
      "metadata": {
        "id": "fSntCw5IIoSu",
        "outputId": "bafc8a54-71b3-4598-f815-e53d4b57a9a3",
        "colab": {
          "base_uri": "https://localhost:8080/",
          "height": 177
        }
      },
      "execution_count": null,
      "outputs": [
        {
          "output_type": "display_data",
          "data": {
            "text/plain": [
              "<IPython.core.display.Latex object>"
            ],
            "text/latex": "1~ラジアン = \\displaystyle \\left ( \\frac{180}{\\pi} \\right )^\\circ \\\\[0.8em]\n180°= \\pi ラジアン\\\\[0.8em]\n弧の長さ \\quad l = r \\theta\\\\[0.8em]\n面積 \\quad S = \\frac 1 2 r^2 \\theta = \\frac 1 2 rl"
          },
          "metadata": {}
        }
      ]
    },
    {
      "cell_type": "code",
      "source": [
        "# 基本例題 109 p.167\n",
        "# 次の角を、度数は弧度に、弧度は度数に、それぞれ書き直せ\n",
        "# 72°\n",
        "# -320°\n",
        "# \\frac{4}{15} \\pi\n",
        "# \\frac{-13}{4}\\pi"
      ],
      "metadata": {
        "id": "WYnn8MqXm0Qe"
      },
      "execution_count": null,
      "outputs": []
    },
    {
      "cell_type": "code",
      "metadata": {
        "id": "pm9qtlyrnY_A",
        "colab": {
          "base_uri": "https://localhost:8080/",
          "height": 126
        },
        "outputId": "883a9f80-6afc-4ed4-99b6-b3120ef27c43"
      },
      "source": [
        "# 基本例題 109 p.167(1)\n",
        "from sympy import *\n",
        "display(Rational(72,180)*pi)\n",
        "display(Rational(-320,180)*pi)\n",
        "display(Rational(4,15)*180)\n",
        "display(Rational(-13,4)*180)"
      ],
      "execution_count": null,
      "outputs": [
        {
          "output_type": "display_data",
          "data": {
            "text/plain": [
              "2⋅π\n",
              "───\n",
              " 5 "
            ],
            "image/png": "[encoded data removed]",
            "text/latex": "$\\displaystyle \\frac{2 \\pi}{5}$"
          },
          "metadata": {}
        },
        {
          "output_type": "display_data",
          "data": {
            "text/plain": [
              "-16⋅π \n",
              "──────\n",
              "  9   "
            ],
            "image/png": "[encoded data removed]",
            "text/latex": "$\\displaystyle - \\frac{16 \\pi}{9}$"
          },
          "metadata": {}
        },
        {
          "output_type": "display_data",
          "data": {
            "text/plain": [
              "48"
            ],
            "image/png": "[encoded data removed]",
            "text/latex": "$\\displaystyle 48$"
          },
          "metadata": {}
        },
        {
          "output_type": "display_data",
          "data": {
            "text/plain": [
              "-585"
            ],
            "image/png": "[encoded data removed]",
            "text/latex": "$\\displaystyle -585$"
          },
          "metadata": {}
        }
      ]
    },
    {
      "cell_type": "code",
      "metadata": {
        "id": "coVUPwAonygW",
        "colab": {
          "base_uri": "https://localhost:8080/"
        },
        "outputId": "4dc57583-8a0d-465b-d03c-4854d28bd844"
      },
      "source": [
        "# 基本例題 109 p.167(2)\n",
        "# 半径 4、中心角 150°の扇形の弧の長さと面積を求めよ\n",
        "# 弧の長さは r theta なので\n",
        "print(\"{} π\".format(4 * 150/180))\n",
        "# 面積は 1/2 r l なので\n",
        "print(\"{} π\".format(0.5*4* 4*150/180))"
      ],
      "execution_count": null,
      "outputs": [
        {
          "output_type": "stream",
          "text": [
            "3.3333333333333335 π\n",
            "6.666666666666667 π\n"
          ],
          "name": "stdout"
        }
      ]
    },
    {
      "cell_type": "code",
      "source": [
        "# 一般角の三角関数の定義\n",
        "# 動線 \\mathrm{OP} を表す一般角を \\theta とする。 \\mathrm{OP} = r,\\; \\mathrm {P}(x,y) とする時、\n",
        "# 正弦 \\quad \\sin \\theta = \\displaystyle \\frac y r \n",
        "# 余弦 \\quad \\cos \\theta = \\displaystyle \\frac x r \n",
        "# 正接 \\quad \\tan \\theta = \\displaystyle \\frac y x \n",
        "# ただし、\\theta = \\displaystyle \\frac \\pi 2 + n\\pi (n は整数) に対しては \\tan \\theta の値を定義しない\n",
        "# 三角関数の値域\n",
        "# -1 \\leq \\sin \\theta \\leq 1,\\; -1 \\leq \\cos \\theta \\leq 1,\\; \\tan \\theta は実数全体"
      ],
      "metadata": {
        "id": "pgI_AhmZXIfp"
      },
      "execution_count": null,
      "outputs": []
    },
    {
      "cell_type": "code",
      "source": [
        "%%latex\n",
        "\\sin \\theta = \\displaystyle \\frac y r \\\\[0.8em]\n",
        "\\cos \\theta = \\frac x r \\\\[0.8em]\n",
        "\\tan \\theta = \\frac y x \\quad \\text{where } \\theta \\neq \\displaystyle \\frac \\pi 2 + n\\pi \\quad (n \\in \\mathbf Z) \\\\[0.8em]\n",
        "-1 \\leq \\sin \\theta \\leq 1, \\quad -1 \\leq \\cos \\theta \\leq 1, \\quad \\tan \\theta \\in \\mathbf R"
      ],
      "metadata": {
        "colab": {
          "base_uri": "https://localhost:8080/",
          "height": 171
        },
        "id": "VzOFLuskmynB",
        "outputId": "9cf002f0-db73-4256-bd18-d908f46ac856"
      },
      "execution_count": null,
      "outputs": [
        {
          "output_type": "display_data",
          "data": {
            "text/plain": [
              "<IPython.core.display.Latex object>"
            ],
            "text/latex": "\\sin \\theta = \\displaystyle \\frac y r \\\\[0.8em]\n\\cos \\theta = \\frac x r \\\\[0.8em]\n\\tan \\theta = \\frac y x \\quad \\text{where } \\theta \\neq \\displaystyle \\frac \\pi 2 + n\\pi \\quad (n \\in \\mathbf Z) \\\\[0.8em]\n-1 \\leq \\sin \\theta \\leq 1, \\quad -1 \\leq \\cos \\theta \\leq 1, \\quad \\tan \\theta \\in \\mathbf R"
          },
          "metadata": {}
        }
      ]
    },
    {
      "cell_type": "code",
      "source": [
        "# 三角関数の相互関係\n",
        "# \\tan \\theta = \\displaystyle \\frac {\\sin \\theta}{\\cos \\theta}\n",
        "# \\sin^2 \\theta + \\cos^2 \\theta = 1\n",
        "# 1 + \\displaystyle \\tan^2 \\theta = \\frac {1}{\\cos^2 \\theta}\n",
        "%%latex\n",
        "\\displaystyle\n",
        "\\tan \\theta = \\frac{\\sin \\theta}{\\cos \\theta} \\\\[0.8em]\n",
        "\\sin^2 \\theta + \\cos^2 \\theta = 1 \\\\[0.8em]\n",
        "1 + \\tan^2 \\theta = \\frac 1 {\\cos^2 \\theta}"
      ],
      "metadata": {
        "id": "srRyMPcudcdA",
        "outputId": "e9901eb5-0859-419e-81a3-32a6a0abf46a",
        "colab": {
          "base_uri": "https://localhost:8080/",
          "height": 135
        }
      },
      "execution_count": null,
      "outputs": [
        {
          "output_type": "display_data",
          "data": {
            "text/plain": [
              "<IPython.core.display.Latex object>"
            ],
            "text/latex": "\\displaystyle\n\\tan \\theta = \\frac{\\sin \\theta}{\\cos \\theta} \\\\[0.8em]\n\\sin ^ 2 \\theta + \\cos^2 \\theta = 1 \\\\[0.8em]\n1 + \\tan^2 \\theta = \\frac 1 {\\cos^2 \\theta}"
          },
          "metadata": {}
        }
      ]
    },
    {
      "cell_type": "code",
      "source": [
        "# 基本例題 110 p.170\n",
        "# \\theta が次の値の時、\\sin \\theta, \\cos \\theta , \\tan \\theta の値を求めよ。\n",
        "# \\displaystyle \\frac{23}{6} \\pi\n",
        "# \\displaystyle - \\frac 5 4 \\pi"
      ],
      "metadata": {
        "id": "usYhOoWFeDPY"
      },
      "execution_count": null,
      "outputs": []
    },
    {
      "cell_type": "code",
      "metadata": {
        "colab": {
          "base_uri": "https://localhost:8080/",
          "height": 293
        },
        "id": "82uLVNsOxNT6",
        "outputId": "196cb23b-fe13-441f-ac76-9193cbee8ecc"
      },
      "source": [
        "from sympy.abc import *\n",
        "from sympy import *\n",
        "x = Rational(23,6) * pi\n",
        "display(x)\n",
        "y = -Rational(5,4) * pi\n",
        "display(y)\n",
        "\n",
        "display(sin(x))\n",
        "display(cos(x))\n",
        "display(tan(x))\n",
        "display(sin(y))\n",
        "display(cos(y))\n",
        "display(tan(y))"
      ],
      "execution_count": 2,
      "outputs": [
        {
          "output_type": "display_data",
          "data": {
            "text/plain": [
              "23*pi/6"
            ],
            "text/latex": "$\\displaystyle \\frac{23 \\pi}{6}$"
          },
          "metadata": {}
        },
        {
          "output_type": "display_data",
          "data": {
            "text/plain": [
              "-5*pi/4"
            ],
            "text/latex": "$\\displaystyle - \\frac{5 \\pi}{4}$"
          },
          "metadata": {}
        },
        {
          "output_type": "display_data",
          "data": {
            "text/plain": [
              "-1/2"
            ],
            "text/latex": "$\\displaystyle - \\frac{1}{2}$"
          },
          "metadata": {}
        },
        {
          "output_type": "display_data",
          "data": {
            "text/plain": [
              "sqrt(3)/2"
            ],
            "text/latex": "$\\displaystyle \\frac{\\sqrt{3}}{2}$"
          },
          "metadata": {}
        },
        {
          "output_type": "display_data",
          "data": {
            "text/plain": [
              "-sqrt(3)/3"
            ],
            "text/latex": "$\\displaystyle - \\frac{\\sqrt{3}}{3}$"
          },
          "metadata": {}
        },
        {
          "output_type": "display_data",
          "data": {
            "text/plain": [
              "sqrt(2)/2"
            ],
            "text/latex": "$\\displaystyle \\frac{\\sqrt{2}}{2}$"
          },
          "metadata": {}
        },
        {
          "output_type": "display_data",
          "data": {
            "text/plain": [
              "-sqrt(2)/2"
            ],
            "text/latex": "$\\displaystyle - \\frac{\\sqrt{2}}{2}$"
          },
          "metadata": {}
        },
        {
          "output_type": "display_data",
          "data": {
            "text/plain": [
              "-1"
            ],
            "text/latex": "$\\displaystyle -1$"
          },
          "metadata": {}
        }
      ]
    },
    {
      "cell_type": "code",
      "source": [
        "# 基本例題 111 p.171 (1)\n",
        "# \\displaystyle \\frac 3 2 \\pi \\lt \\theta \\lt 2 \\pi とする\n",
        "# \\cos \\theta = \\displaystyle \\frac 5 {13} のとき、\\sin \\theta と \\tan \\theta を求めよ"
      ],
      "metadata": {
        "id": "KLXp3AaMzi1U"
      },
      "execution_count": null,
      "outputs": []
    },
    {
      "cell_type": "code",
      "metadata": {
        "colab": {
          "base_uri": "https://localhost:8080/",
          "height": 120
        },
        "id": "fRS69DBx0Hle",
        "outputId": "00a6da8e-5d1a-4f6c-d2dc-237f985522f7"
      },
      "source": [
        "# 与件 cos(theta) = Rational(5,13) \n",
        "# 公式から sin(theta)**2 = 1 - cos(theta)**2\n",
        "display(1 - Rational(5,13)**2)\n",
        "display(sqrt(1 - Rational(5,13)**2)) # sin(theta)\n",
        "# 定義より tan(theta) = sin(theta) / cos(theta)\n",
        "display(Rational(12,13)/Rational(5,13))"
      ],
      "execution_count": null,
      "outputs": [
        {
          "output_type": "display_data",
          "data": {
            "text/latex": "$\\displaystyle \\frac{144}{169}$",
            "text/plain": [
              "144/169"
            ]
          },
          "metadata": {
            "tags": []
          }
        },
        {
          "output_type": "display_data",
          "data": {
            "text/latex": "$\\displaystyle \\frac{12}{13}$",
            "text/plain": [
              "12/13"
            ]
          },
          "metadata": {
            "tags": []
          }
        },
        {
          "output_type": "display_data",
          "data": {
            "text/latex": "$\\displaystyle \\frac{12}{5}$",
            "text/plain": [
              "12/5"
            ]
          },
          "metadata": {
            "tags": []
          }
        }
      ]
    },
    {
      "cell_type": "code",
      "source": [
        "基本例題 111 p.171 (2)\n",
        "\\pi \\lt \\theta \\lt \\frac 3 2 \\pi とする\n",
        "\\tan \\theta = 7 のとき、\\sin \\theta と \\cos \\theta を求めよ"
      ],
      "metadata": {
        "id": "bNJN8NIX4BAs"
      },
      "execution_count": null,
      "outputs": []
    },
    {
      "cell_type": "code",
      "source": [
        "%%latex\n",
        "\\displaystyle\n",
        "\\pi \\lt \\theta \\lt \\frac 3 2 \\pi \\\\[0.8em]\n",
        "\\tan \\theta = 7 \\\\[0.8em]\n",
        "\\sin \\theta \\quad \\cos \\theta "
      ],
      "metadata": {
        "id": "gD0StMvAEXW9",
        "outputId": "906f75f9-303c-4c27-83aa-59daca873726",
        "colab": {
          "base_uri": "https://localhost:8080/",
          "height": 122
        }
      },
      "execution_count": 6,
      "outputs": [
        {
          "output_type": "display_data",
          "data": {
            "text/plain": [
              "<IPython.core.display.Latex object>"
            ],
            "text/latex": "\\displaystyle\n\\pi \\lt \\theta \\lt \\frac 3 2 \\pi \\\\[0.8em]\n\\tan \\theta = 7 \\\\[0.8em]\n\\sin \\theta \\quad \\cos \\theta "
          },
          "metadata": {}
        }
      ]
    },
    {
      "cell_type": "code",
      "metadata": {
        "colab": {
          "base_uri": "https://localhost:8080/",
          "height": 146
        },
        "id": "5n-udean0qQN",
        "outputId": "445daf1c-35d5-4199-8aef-3e0d7a23fb56"
      },
      "source": [
        "# 与件 cos(theta) = 7\n",
        "# 公式から cos(theta)**2 = 1/(1 + tan(theta)**2)\n",
        "# 公式から sin(theta) = tan(theta) * cos(theta)\n",
        "display(S(1) / (1 + 7**2)) # S(1) は 1 の実数表示 Rational(1,1) => 少数になるのを避けるため\n",
        "display(sqrt(S(1) / (1 + 7**2))) # cos(theta)\n",
        "display(S(7) * (-sqrt(2)/10))"
      ],
      "execution_count": 9,
      "outputs": [
        {
          "output_type": "display_data",
          "data": {
            "text/plain": [
              "1/50"
            ],
            "text/latex": "$\\displaystyle \\frac{1}{50}$"
          },
          "metadata": {}
        },
        {
          "output_type": "display_data",
          "data": {
            "text/plain": [
              "0.02"
            ]
          },
          "metadata": {}
        },
        {
          "output_type": "display_data",
          "data": {
            "text/plain": [
              "sqrt(2)/10"
            ],
            "text/latex": "$\\displaystyle \\frac{\\sqrt{2}}{10}$"
          },
          "metadata": {}
        },
        {
          "output_type": "display_data",
          "data": {
            "text/plain": [
              "-7*sqrt(2)/10"
            ],
            "text/latex": "$\\displaystyle - \\frac{7 \\sqrt{2}}{10}$"
          },
          "metadata": {}
        }
      ]
    },
    {
      "cell_type": "code",
      "source": [
        "# 基本例題 112 p.172 (1)\n",
        "# 等式 \\displaystyle \\frac {\\cos \\theta}{1 + \\sin \\theta} + \\tan \\theta = \\frac 1 {\\cos \\theta} を証明せよ\n",
        "%%latex\n",
        "\\displaystyle \\frac {\\cos \\theta}{1 + \\sin \\theta} + \\tan \\theta = \\frac 1 {\\cos \\theta} \\\\[0.8em]\n",
        "\\text{左辺} \\\\[0.8em]\n",
        "\\qquad = \\displaystyle \\frac {\\cos \\theta}{1 + \\sin \\theta} + \\frac {\\sin \\theta}{\\cos \\theta} \\\\[0.8em]\n",
        "\\qquad = \\displaystyle \\frac {\\cos^2\\theta}{(1 + \\sin \\theta)\\cos\\theta} + \\frac {(1 + \\sin \\theta)\\sin\\theta}{(1 + \\sin \\theta)\\cos \\theta} \\\\[0.8em]\n",
        "\\qquad = \\displaystyle \\frac {\\cos^2\\theta + \\sin^2\\theta +\\sin\\theta}{(1 + \\sin \\theta)\\cos\\theta} \\\\[0.8em]\n",
        "\\qquad = \\displaystyle \\frac {1 + \\sin \\theta}{(1 + \\sin \\theta)\\cos\\theta} \\\\[0.8em]\n",
        "\\qquad = \\displaystyle \\frac {1}{\\cos\\theta}"
      ],
      "metadata": {
        "id": "yT9G6rKQ87Rc",
        "outputId": "76b9960c-5579-48dd-f198-494852872ee3",
        "colab": {
          "base_uri": "https://localhost:8080/",
          "height": 347
        }
      },
      "execution_count": 17,
      "outputs": [
        {
          "output_type": "display_data",
          "data": {
            "text/plain": [
              "<IPython.core.display.Latex object>"
            ],
            "text/latex": "\\displaystyle \\frac {\\cos \\theta}{1 + \\sin \\theta} + \\tan \\theta = \\frac 1 {\\cos \\theta} \\\\[0.8em]\n\\text{左辺} \\\\[0.8em]\n\\qquad = \\displaystyle \\frac {\\cos \\theta}{1 + \\sin \\theta} + \\frac {\\sin \\theta}{\\cos \\theta} \\\\[0.8em]\n\\qquad = \\displaystyle \\frac {\\cos^2\\theta}{(1 + \\sin \\theta)\\cos\\theta} + \\frac {(1 + \\sin \\theta)\\sin\\theta}{(1 + \\sin \\theta)\\cos \\theta} \\\\[0.8em]\n\\qquad = \\displaystyle \\frac {\\cos^2\\theta + \\sin^2\\theta +\\sin\\theta}{(1 + \\sin \\theta)\\cos\\theta} \\\\[0.8em]\n\\qquad = \\displaystyle \\frac {1 + \\sin \\theta}{(1 + \\sin \\theta)\\cos\\theta} \\\\[0.8em]\n\\qquad = \\displaystyle \\frac {1}{\\cos\\theta}"
          },
          "metadata": {}
        }
      ]
    },
    {
      "cell_type": "markdown",
      "source": [
        "# いまここ"
      ],
      "metadata": {
        "id": "poXvqr8Mok5b"
      }
    },
    {
      "cell_type": "code",
      "source": [
        "# 基本例題 112 p.172 (2)\n",
        "# \\cos^2\\theta + \\sin\\theta -\\tan\\theta (1 - \\sin\\theta) \\cos\\theta を計算せよ\n",
        "%%latex\n",
        "\\cos^2\\theta + \\sin\\theta -\\tan\\theta (1 - \\sin\\theta) \\cos\\theta \\\\[0.8em]\n",
        "\\qquad = \\displaystyle \\cos^2\\theta + \\sin\\theta -\\frac {\\sin\\theta}{\\cos\\theta} (1 - \\sin\\theta) \\cos\\theta \\\\[0.8em]\n",
        "\\qquad = \\displaystyle \\cos^2\\theta + \\sin\\theta - \\sin\\theta + \\sin^2\\theta \\\\[0.8em]\n",
        "\\qquad = \\displaystyle \\cos^2\\theta + \\sin^2\\theta \\\\[0.8em]\n",
        "\\qquad = 1"
      ],
      "metadata": {
        "id": "EzoqBDbV-N5M",
        "outputId": "94a24adb-1978-418f-f9c5-0d336f2d64b1",
        "colab": {
          "base_uri": "https://localhost:8080/",
          "height": 192
        }
      },
      "execution_count": 18,
      "outputs": [
        {
          "output_type": "display_data",
          "data": {
            "text/plain": [
              "<IPython.core.display.Latex object>"
            ],
            "text/latex": "\\cos^2\\theta + \\sin\\theta -\\tan\\theta (1 - \\sin\\theta) \\cos\\theta \\\\[0.8em]\n\\qquad = \\displaystyle \\cos^2\\theta + \\sin\\theta -\\frac {\\sin\\theta}{\\cos\\theta} (1 - \\sin\\theta) \\cos\\theta \\\\[0.8em]\n\\qquad = \\displaystyle \\cos^2\\theta + \\sin\\theta - \\sin\\theta + \\sin^2\\theta \\\\[0.8em]\n\\qquad = \\displaystyle \\cos^2\\theta + \\sin^2\\theta \\\\[0.8em]\n\\qquad = 1"
          },
          "metadata": {}
        }
      ]
    },
    {
      "cell_type": "markdown",
      "metadata": {
        "id": "fAZIXykTMc1c"
      },
      "source": [
        "---\n",
        "基本例題 113 p.173\n",
        "\n",
        "$\\sin\\theta +\\cos\\theta = \\displaystyle\\frac{\\sqrt 3}{2}\\;\\; (\\frac \\pi 2 \\lt \\theta \\lt \\pi)$ の時、次の式の値を求めよ\n",
        "\n",
        "* $\\sin\\theta\\cos\\theta$\n",
        "* $\\sin^3\\theta+\\cos^3\\theta$\n",
        "* $\\cos^3\\theta-\\sin^3\\theta$\n",
        "\n",
        "$\\sin\\theta +\\cos\\theta = \\displaystyle\\frac{\\sqrt 3}{2}$\n",
        "\n",
        "の両辺を 2 乗すると\n",
        "\n",
        "$\\sin^2\\theta +\\cos^2\\theta + 2\\sin\\theta\\cos\\theta = \\displaystyle\\frac{3}{4}$\n",
        "\n",
        "$1 + 2\\sin\\theta\\cos\\theta = \\displaystyle\\frac{3}{4}$\n",
        "\n",
        "$2\\sin\\theta\\cos\\theta = \\displaystyle\\frac{3}{4} - 1$\n",
        "\n",
        "$2\\sin\\theta\\cos\\theta = \\displaystyle\\frac{-1}{4}$\n",
        "\n",
        "$\\sin\\theta\\cos\\theta = \\displaystyle\\frac{-1}{8}$\n",
        "\n",
        "(2)  \n",
        "\n",
        "$\\sin^3\\theta+\\cos^3\\theta = (\\sin\\theta + \\cos\\theta)(\\sin^2\\theta - \\sin\\theta\\cos\\theta + \\cos^2\\theta)$\n",
        "\n",
        "$\\qquad =  \\displaystyle\\frac{\\sqrt 3}{2} (\\sin^2\\theta - \\frac{-1}{8} + \\cos^2\\theta)$\n",
        "\n",
        "$\\qquad =  \\displaystyle\\frac{\\sqrt 3}{2} (1 + \\frac{1}{8})$\n",
        "\n",
        "$\\qquad =  \\displaystyle\\frac{9\\sqrt 3}{16}$\n",
        "\n",
        "(3)\n",
        "\n",
        "$\\cos^3\\theta-\\sin^3\\theta = (\\cos\\theta - \\sin\\theta)(\\sin^2\\theta + \\sin\\theta\\cos\\theta + \\cos^2\\theta)$\n",
        "\n",
        "$\\qquad = (\\cos\\theta - \\sin\\theta)(1 + \\sin\\theta\\cos\\theta)$\n",
        "\n",
        "$\\qquad = (\\cos\\theta - \\sin\\theta)(1 + \\displaystyle\\frac{-1}{8})$\n",
        "\n",
        "$\\qquad = \\displaystyle\\frac{7}{8}(\\cos\\theta - \\sin\\theta)$\n",
        "\n",
        "ところで\n",
        "\n",
        "$(\\cos\\theta - \\sin\\theta)^2 = 1 - 2\\sin\\theta\\cos\\theta$\n",
        "\n",
        "$\\qquad = 1 - 2 \\displaystyle\\frac{-1}{8} = \\frac 5 4$\n",
        "\n",
        "与えられた象限では $\\cos\\theta - \\sin\\theta \\lt 0$ なので\n",
        "\n",
        "$\\cos\\theta - \\sin\\theta = - \\displaystyle\\frac{\\sqrt 5}{2}$\n",
        "\n",
        "よって与式 $\\quad = - \\displaystyle\\frac 7 8 \\times \\frac {\\sqrt 5} 2 = - \\frac{7\\sqrt 5}{16}$\n",
        "\n",
        "\n",
        "\n",
        "\n",
        "\n"
      ]
    },
    {
      "cell_type": "markdown",
      "metadata": {
        "id": "CgOZ24Kcco8H"
      },
      "source": [
        "---\n",
        "三角関数の性質 p.174\n",
        "\n",
        "$\\theta + 2n\\pi$ の三角関数\n",
        "* $\\sin(\\theta + 2n\\pi) = \\sin\\theta$\n",
        "* $\\cos(\\theta + 2n\\pi) = \\cos\\theta$\n",
        "* $\\tan(\\theta + 2n\\pi) = \\tan\\theta$\n",
        "\n",
        "$-\\theta$ の三角関数\n",
        "* $\\sin(-\\theta) = - \\sin\\theta$\n",
        "* $\\cos(-\\theta) = \\cos\\theta$\n",
        "* $\\tan(-\\theta) = - \\tan\\theta$\n",
        "\n",
        "$-\\theta$ の三角関数\n",
        "* $\\sin(-\\theta) = - \\sin\\theta$\n",
        "* $\\cos(-\\theta) = \\cos\\theta$\n",
        "* $\\tan(-\\theta) = - \\tan\\theta$"
      ]
    }
  ]
}