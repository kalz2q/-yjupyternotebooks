{
  "nbformat": 4,
  "nbformat_minor": 0,
  "metadata": {
    "colab": {
      "name": "learnhaskell.ipynb",
      "provenance": [],
      "toc_visible": true,
      "authorship_tag": "ABX9TyNyLG5KiTYeccPHV74w4+jI",
      "include_colab_link": true
    },
    "kernelspec": {
      "name": "python3",
      "display_name": "Python 3"
    }
  },
  "cells": [
    {
      "cell_type": "markdown",
      "metadata": {
        "id": "view-in-github",
        "colab_type": "text"
      },
      "source": [
        "<a href=\"https://colab.research.google.com/github/kalz2q/mycolabnotebooks/blob/master/learnhaskell.ipynb\" target=\"_parent\"><img src=\"https://colab.research.google.com/assets/colab-badge.svg\" alt=\"Open In Colab\"/></a>"
      ]
    },
    {
      "cell_type": "markdown",
      "metadata": {
        "id": "JZqM1qwx2bFV"
      },
      "source": [
        "# メモ\n",
        "\n",
        "1. Colab の環境を利用して Haskellを勉強する。\n",
        "1. Colab の環境は Hakell はインストールされていないので、インストールする。\n",
        "1. 無料の Colab の場合、数時間でクリアされてしまうので再インストールが必要。\n",
        "1. Colab の環境で Haskell のインタラクティブ環境は使えないので、`%%writefile filename.hs` でファイルを作り、`!runghc filename.hs` で実行する。\n",
        "\n",
        "1. とりあえずは Haskell の入門書や入門サイトからサンプルプログラムを入力してみる。\n",
        "1. Learn You A Haskell For Great Good! (http://learnyouahaskell.com/)  \n",
        "1. A Gentle Introduction to Haskell (https://www.haskell.org/tutorial/)\n",
        "1. Yet Another Haskell Tutorial (http://users.umiacs.umd.edu/~hal/docs/daume02yaht.pdf)\n",
        "1. https://wiki.haskell.org/How_to_work_on_lists\n",
        "1. https://wiki.haskell.org/Applications_and_libraries/Data_structures\n",
        "1. https://wiki.haskell.org/Applications_and_libraries/Concurrency_and_parallelism\n",
        "1. https://wiki.haskell.org/Applications_and_libraries/GUI_libraries\n",
        "1. https://wiki.haskell.org/Applications_and_libraries/Network\n",
        "1. https://wiki.haskell.org/QuickCheck\n",
        "1. https://wiki.haskell.org/HUnit_1.0_User%27s_Guide\n",
        "1. https://wiki.haskell.org/Regex_Posix\n",
        "\n",
        "\n",
        "\n",
        "  \n",
        "  \n"
      ]
    },
    {
      "cell_type": "code",
      "metadata": {
        "id": "S-NYRxs4SuLf"
      },
      "source": [
        "# haskell(ghc)のインストール\n",
        "%%capture\n",
        "!apt install ghc"
      ],
      "execution_count": 2,
      "outputs": []
    },
    {
      "cell_type": "code",
      "metadata": {
        "id": "uFBBZYLDS8Ed",
        "colab": {
          "base_uri": "https://localhost:8080/"
        },
        "outputId": "06863b8a-3bf8-4ca8-9095-ee23b098e364"
      },
      "source": [
        "# インストールされたことの確認\n",
        "!ghc --version"
      ],
      "execution_count": 100,
      "outputs": [
        {
          "output_type": "stream",
          "text": [
            "The Glorious Glasgow Haskell Compilation System, version 8.0.2\n"
          ],
          "name": "stdout"
        }
      ]
    },
    {
      "cell_type": "code",
      "metadata": {
        "id": "Ba2HY_gpTx4I",
        "colab": {
          "base_uri": "https://localhost:8080/"
        },
        "outputId": "1ab5bbda-792f-438f-c797-e6173e8895e8"
      },
      "source": [
        "%%writefile hello.hs\n",
        "main = putStrLn \"hello, world\""
      ],
      "execution_count": null,
      "outputs": [
        {
          "output_type": "stream",
          "text": [
            "Writing hello.hs\n"
          ],
          "name": "stdout"
        }
      ]
    },
    {
      "cell_type": "code",
      "metadata": {
        "id": "SvIkXNjIU6iv",
        "colab": {
          "base_uri": "https://localhost:8080/"
        },
        "outputId": "b4074dbf-ca31-4b8b-8d77-d9c07c365e95"
      },
      "source": [
        "!runghc hello.hs"
      ],
      "execution_count": null,
      "outputs": [
        {
          "output_type": "stream",
          "text": [
            "hello, world\n"
          ],
          "name": "stdout"
        }
      ]
    },
    {
      "cell_type": "code",
      "metadata": {
        "id": "f833IGbAwxVZ",
        "colab": {
          "base_uri": "https://localhost:8080/"
        },
        "outputId": "eebba1d2-f09d-4825-ada2-44e350d8e3ea"
      },
      "source": [
        "# 実験\n",
        "!ghc -e 'putStrLn \"hello world!\"'"
      ],
      "execution_count": null,
      "outputs": [
        {
          "output_type": "stream",
          "text": [
            "hello world!\n"
          ],
          "name": "stdout"
        }
      ]
    },
    {
      "cell_type": "code",
      "metadata": {
        "id": "yFdu5g6zJDd2",
        "colab": {
          "base_uri": "https://localhost:8080/"
        },
        "outputId": "c40eec25-c1b2-4ddb-f0dc-493f144c6c26"
      },
      "source": [
        "!ghci -e '\"hello world!!!\"'"
      ],
      "execution_count": null,
      "outputs": [
        {
          "output_type": "stream",
          "text": [
            "\"hello world!!!\"\n"
          ],
          "name": "stdout"
        }
      ]
    },
    {
      "cell_type": "markdown",
      "metadata": {
        "id": "_lQK25YdzS15"
      },
      "source": [
        "対話型の repl であるところの ghci は Colab の環境では使えない。\n",
        "\n",
        "Haskell の入門書などの ghci で書かれている部分は工夫が必要。"
      ]
    },
    {
      "cell_type": "markdown",
      "metadata": {
        "id": "ViF69Gd1AQy_"
      },
      "source": [
        "Haskellは `putStrLn` と `print` がある。両方共改行は自動で入る。\n",
        "\n",
        "改行コードをエスケープで入れたときの挙動とが違う。\n",
        "\n",
        "putStrLn は引数が文字列で数値は扱えない。 print は数値でも大丈夫。\n",
        "\n"
      ]
    },
    {
      "cell_type": "code",
      "metadata": {
        "id": "BW6_ktjv-GDS",
        "colab": {
          "base_uri": "https://localhost:8080/"
        },
        "outputId": "9d3f82ed-d09d-449f-a9e7-b8d09f4fc50f"
      },
      "source": [
        "%%writefile print01.hs\n",
        "main = do\n",
        "  print \"Haskell\\nand\\nPython\"  \n",
        "  putStrLn \"Haskell\\nand\\nPython\"  \n"
      ],
      "execution_count": null,
      "outputs": [
        {
          "output_type": "stream",
          "text": [
            "Writing print01.hs\n"
          ],
          "name": "stdout"
        }
      ]
    },
    {
      "cell_type": "code",
      "metadata": {
        "id": "BX9GzPza3q1S",
        "colab": {
          "base_uri": "https://localhost:8080/"
        },
        "outputId": "39f21b64-9010-4218-e699-07d37057ebd8"
      },
      "source": [
        "!runghc print01.hs"
      ],
      "execution_count": null,
      "outputs": [
        {
          "output_type": "stream",
          "text": [
            "\"Haskell\\nand\\nPython\"\n",
            "Haskell\n",
            "and\n",
            "Python\n"
          ],
          "name": "stdout"
        }
      ]
    },
    {
      "cell_type": "code",
      "metadata": {
        "id": "GEUZgmSbxehO",
        "colab": {
          "base_uri": "https://localhost:8080/"
        },
        "outputId": "55cb8f33-33eb-4e4a-cba3-9437d77dc549"
      },
      "source": [
        "# 実験 数字を直接 putStrLn の引数にするとエラーになるので show で文字列に変換する。\n",
        "!ghci -e 'putStrLn(show(32))'"
      ],
      "execution_count": null,
      "outputs": [
        {
          "output_type": "stream",
          "text": [
            "32\n"
          ],
          "name": "stdout"
        }
      ]
    },
    {
      "cell_type": "markdown",
      "metadata": {
        "id": "1hE1az0p-JCH"
      },
      "source": [
        "Haskell は関数のカッコはあってもよいが省略可能。\n"
      ]
    },
    {
      "cell_type": "code",
      "metadata": {
        "id": "FzNpBNRN-UC0",
        "colab": {
          "base_uri": "https://localhost:8080/"
        },
        "outputId": "2fc3ae47-3a1b-4ac2-d77d-f197248790cc"
      },
      "source": [
        "%%writefile if01.hs\n",
        "main = \n",
        "  let fac n = if n == 0 then 1 else n * fac (n-1)  \n",
        "  in print ( fac 42 )"
      ],
      "execution_count": null,
      "outputs": [
        {
          "output_type": "stream",
          "text": [
            "Overwriting if01.hs\n"
          ],
          "name": "stdout"
        }
      ]
    },
    {
      "cell_type": "code",
      "metadata": {
        "id": "9OWoPdET4N1E",
        "colab": {
          "base_uri": "https://localhost:8080/"
        },
        "outputId": "7571c8b3-f86b-4d7b-b4ce-dfc91f41ef54"
      },
      "source": [
        "!runghc if01.hs"
      ],
      "execution_count": null,
      "outputs": [
        {
          "output_type": "stream",
          "text": [
            "1405006117752879898543142606244511569936384000000000\n"
          ],
          "name": "stdout"
        }
      ]
    },
    {
      "cell_type": "markdown",
      "metadata": {
        "id": "fPcnaEfF-Y-y"
      },
      "source": [
        "階乗を計算する関数を作っている。\n"
      ]
    },
    {
      "cell_type": "markdown",
      "metadata": {
        "id": "w5wAydKX2cYY"
      },
      "source": [
        "ま、とりあえずできたということで。\n",
        "さきへ進もう。"
      ]
    },
    {
      "cell_type": "code",
      "metadata": {
        "id": "K535VVGH-lD_",
        "colab": {
          "base_uri": "https://localhost:8080/"
        },
        "outputId": "b0646b8d-75c6-4544-8320-1df6dcc4f900"
      },
      "source": [
        "%%writefile fac01.hs\n",
        "fac 0 = 1  \n",
        "fac n = n * fac (n-1)  \n",
        "main = print (fac 42)  \n"
      ],
      "execution_count": null,
      "outputs": [
        {
          "output_type": "stream",
          "text": [
            "Writing fac01.hs\n"
          ],
          "name": "stdout"
        }
      ]
    },
    {
      "cell_type": "code",
      "metadata": {
        "id": "_A2BylE4LNzN",
        "colab": {
          "base_uri": "https://localhost:8080/"
        },
        "outputId": "34d1e2c3-28f3-4117-9e9a-44eccae7fbdf"
      },
      "source": [
        "!runghc fac01.hs"
      ],
      "execution_count": null,
      "outputs": [
        {
          "output_type": "stream",
          "text": [
            "1405006117752879898543142606244511569936384000000000\n"
          ],
          "name": "stdout"
        }
      ]
    },
    {
      "cell_type": "markdown",
      "metadata": {
        "id": "Eh0YyntvF0O-"
      },
      "source": [
        "# 四則演算"
      ]
    },
    {
      "cell_type": "code",
      "metadata": {
        "id": "xrXWasfNF4tO",
        "colab": {
          "base_uri": "https://localhost:8080/"
        },
        "outputId": "b01bf952-128a-4ca1-ea5e-59cd55d60129"
      },
      "source": [
        "%%writefile arithmetic01.hs\n",
        "main = do\n",
        "  print $ 3 * 5\n",
        "  print $ 4 ^ 2 - 1\n",
        "  print $ (1-5)^(3*2 - 4)\n",
        "  print $ 5 / 2"
      ],
      "execution_count": null,
      "outputs": [
        {
          "output_type": "stream",
          "text": [
            "Overwriting arithmetic01.hs\n"
          ],
          "name": "stdout"
        }
      ]
    },
    {
      "cell_type": "code",
      "metadata": {
        "id": "0bvVHssEvDKU",
        "colab": {
          "base_uri": "https://localhost:8080/"
        },
        "outputId": "72740020-4835-4878-ca71-a012af36eba8"
      },
      "source": [
        "!runghc arithmetic01.hs"
      ],
      "execution_count": null,
      "outputs": [
        {
          "output_type": "stream",
          "text": [
            "15\n",
            "15\n",
            "16\n",
            "2.5\n"
          ],
          "name": "stdout"
        }
      ]
    },
    {
      "cell_type": "markdown",
      "metadata": {
        "id": "5pYgDgiE0pOk"
      },
      "source": [
        "括弧が重なるのを避けるためもあって `$` という記法を使うと `$` 以降の結果が `$` の前の関数の引数になる。\n"
      ]
    },
    {
      "cell_type": "markdown",
      "metadata": {
        "id": "SAeWCy8897AH"
      },
      "source": [
        "\n",
        "文字列はダブルクォート（二重引用符）で囲む。 文字列の結合をするときは ++ を使う。\n",
        "  \n",
        "  \n"
      ]
    },
    {
      "cell_type": "code",
      "metadata": {
        "id": "XD-Q9HsR-5EK",
        "colab": {
          "base_uri": "https://localhost:8080/"
        },
        "outputId": "f4fccf0a-c4b7-4274-d8be-e31fd7adc0e6"
      },
      "source": [
        "%%writefile string01.hs\n",
        "main = do\n",
        "  print \"Hello\"\n",
        "  print $ \"hello\" ++ \", haskell\"\n"
      ],
      "execution_count": null,
      "outputs": [
        {
          "output_type": "stream",
          "text": [
            "Overwriting string01.hs\n"
          ],
          "name": "stdout"
        }
      ]
    },
    {
      "cell_type": "code",
      "metadata": {
        "id": "4epQKGoHvnND",
        "colab": {
          "base_uri": "https://localhost:8080/"
        },
        "outputId": "f05eefeb-a1b1-4a02-9e54-f0bdb3dbbbbd"
      },
      "source": [
        "!runghc string01.hs"
      ],
      "execution_count": null,
      "outputs": [
        {
          "output_type": "stream",
          "text": [
            "\"Hello\"\n",
            "\"hello, haskell\"\n"
          ],
          "name": "stdout"
        }
      ]
    },
    {
      "cell_type": "code",
      "metadata": {
        "id": "3Awt28XplzFA",
        "colab": {
          "base_uri": "https://localhost:8080/"
        },
        "outputId": "52b806f9-22ad-4f05-ca18-d292c9132ec0"
      },
      "source": [
        "%%writefile math01.hs\n",
        "\n",
        "main =  do\n",
        "    print $ succ 5\n",
        "    print $ truncate 6.59\n",
        "    print $ round 6.59\n",
        "    print $ sqrt 2\n",
        "    print $ not (5 < 3)\n",
        "    print $ gcd 21 14\n"
      ],
      "execution_count": null,
      "outputs": [
        {
          "output_type": "stream",
          "text": [
            "Writing math01.hs\n"
          ],
          "name": "stdout"
        }
      ]
    },
    {
      "cell_type": "code",
      "metadata": {
        "id": "VH-lYQ5ywHur",
        "colab": {
          "base_uri": "https://localhost:8080/"
        },
        "outputId": "9777e5ee-a98d-4c90-ffa9-8c286dfdabfc"
      },
      "source": [
        "!runghc math01.hs"
      ],
      "execution_count": null,
      "outputs": [
        {
          "output_type": "stream",
          "text": [
            "6\n",
            "6\n",
            "7\n",
            "1.4142135623730951\n",
            "True\n",
            "7\n"
          ],
          "name": "stdout"
        }
      ]
    },
    {
      "cell_type": "markdown",
      "metadata": {
        "id": "ctM7K9ZNwdLy"
      },
      "source": [
        "# ワンライナー\n",
        "\n",
        "`ghci -e`  でワンライナーが書ける、とういうので実験。\n"
      ]
    },
    {
      "cell_type": "code",
      "metadata": {
        "id": "kxB5SULE_Nre",
        "colab": {
          "base_uri": "https://localhost:8080/"
        },
        "outputId": "909f289c-3c65-4b11-dd36-da1530d83247"
      },
      "source": [
        "!ghci -e 'putStrLn \"hello world\"'\n",
        "!ghci -e 'print \"hello world\"'"
      ],
      "execution_count": null,
      "outputs": [
        {
          "output_type": "stream",
          "text": [
            "hello world\n",
            "\"hello world\"\n"
          ],
          "name": "stdout"
        }
      ]
    },
    {
      "cell_type": "code",
      "metadata": {
        "id": "-rjT7qBbhfnC",
        "colab": {
          "base_uri": "https://localhost:8080/"
        },
        "outputId": "164f00dd-1ace-4ef4-e0e1-b02e0d9b424a"
      },
      "source": [
        "!ghci -e  'print $ truncate (-6.59)'"
      ],
      "execution_count": null,
      "outputs": [
        {
          "output_type": "stream",
          "text": [
            "-6\n"
          ],
          "name": "stdout"
        }
      ]
    },
    {
      "cell_type": "code",
      "metadata": {
        "id": "8BX5lnthiYRv",
        "colab": {
          "base_uri": "https://localhost:8080/"
        },
        "outputId": "495b0910-f17a-4b20-c4f5-dc5075503f49"
      },
      "source": [
        "# 実験 floor が使えるかどうか\n",
        "!ghci -e 'floor(-6.59)' #=> -7"
      ],
      "execution_count": null,
      "outputs": [
        {
          "output_type": "stream",
          "text": [
            "-7\n"
          ],
          "name": "stdout"
        }
      ]
    },
    {
      "cell_type": "markdown",
      "metadata": {
        "id": "LYqikGpK1Pmh"
      },
      "source": [
        "ひとつの式の中で複数の I/O アクションを使いたい場合は、doブロックを使う。アクションはセミコロンで区切る。\n",
        "  \n",
        "  \n"
      ]
    },
    {
      "cell_type": "code",
      "metadata": {
        "id": "Ppn7NhT5iyNa",
        "colab": {
          "base_uri": "https://localhost:8080/"
        },
        "outputId": "1e472fc7-2890-4fae-abe4-9c0c86b5f270"
      },
      "source": [
        "!ghci -e 'do {putStr \"2 + 2 = \"; print(2 + 2)}'\n",
        "!ghci -e 'do { putStrLn \"ABCDE\" ; putStrLn \"12345\" }  '"
      ],
      "execution_count": null,
      "outputs": [
        {
          "output_type": "stream",
          "text": [
            "2 + 2 = 4\n",
            "ABCDE\n",
            "12345\n"
          ],
          "name": "stdout"
        }
      ]
    },
    {
      "cell_type": "code",
      "metadata": {
        "id": "QqsKOdWoI2J6",
        "colab": {
          "base_uri": "https://localhost:8080/"
        },
        "outputId": "c7f3d57a-454f-4438-c26c-0fa4c02bcc8f"
      },
      "source": [
        "!ghci -e '\"hello\"'\n",
        "!ghci -e '[1,2,3]'\n",
        "!ghci -e '3'"
      ],
      "execution_count": null,
      "outputs": [
        {
          "output_type": "stream",
          "text": [
            "\"hello\"\n",
            "[1,2,3]\n",
            "3\n"
          ],
          "name": "stdout"
        }
      ]
    },
    {
      "cell_type": "markdown",
      "metadata": {
        "id": "T7qCPk48Fmmu"
      },
      "source": [
        "# 型について少し\n"
      ]
    },
    {
      "cell_type": "markdown",
      "metadata": {
        "id": "3tfVY2QnJs1Y"
      },
      "source": [
        "\n",
        "### 型宣言"
      ]
    },
    {
      "cell_type": "code",
      "metadata": {
        "id": "iOEMdj3kkbsb",
        "colab": {
          "base_uri": "https://localhost:8080/"
        },
        "outputId": "1907fa75-dfba-4e21-a0c8-96ac07547bc1"
      },
      "source": [
        "!ghci -e '5::Int'\n",
        "!ghci -e '5::Double'"
      ],
      "execution_count": null,
      "outputs": [
        {
          "output_type": "stream",
          "text": [
            "5\n",
            "5.0\n"
          ],
          "name": "stdout"
        }
      ]
    },
    {
      "cell_type": "markdown",
      "metadata": {
        "id": "O79IgiT7FrTl"
      },
      "source": [
        "### 型を調べる"
      ]
    },
    {
      "cell_type": "code",
      "metadata": {
        "id": "R8mbMN4HkmLf",
        "colab": {
          "base_uri": "https://localhost:8080/"
        },
        "outputId": "5742e34f-d9f8-4745-b670-5a19e9621153"
      },
      "source": [
        "!ghci -e ':t True'\n",
        "!ghci -e $':t \\'X\\''\n",
        "!ghci -e ':t \"hello haskell\"'"
      ],
      "execution_count": null,
      "outputs": [
        {
          "output_type": "stream",
          "text": [
            "True :: Bool\n",
            "'X' :: Char\n",
            "\"hello haskell\" :: [Char]\n"
          ],
          "name": "stdout"
        }
      ]
    },
    {
      "cell_type": "code",
      "metadata": {
        "id": "rwn1tY4gG528",
        "colab": {
          "base_uri": "https://localhost:8080/"
        },
        "outputId": "18f04075-7876-4936-b9a7-2513519785f6"
      },
      "source": [
        "# これは haskell の問題ではなくて bash でシングルクォートをどうやってエスケープするかの問題\n",
        "# bash で $'string' とすると string 内で backslash による escape が意味を持ち、\\t, \\n などが使え、\\' がシングルクォートになる。\n",
        "# bash terminal のライン上では backslash は文字を escape するだけで, \\t, \\n はそれぞれ t, n になる。\n",
        "!ghci -e $':t \\'X\\''\n",
        "!ghci -e $':t \"hello\"'\n",
        "!ghci -e ':t '\"'\"'X'\"'\"\n",
        "!ghci -e ':t '\\''X'\\'\n"
      ],
      "execution_count": null,
      "outputs": [
        {
          "output_type": "stream",
          "text": [
            "'X' :: Char\n",
            "\"hello\" :: [Char]\n",
            "'X' :: Char\n",
            "'X' :: Char\n"
          ],
          "name": "stdout"
        }
      ]
    },
    {
      "cell_type": "markdown",
      "metadata": {
        "id": "shyizwS1F5MZ"
      },
      "source": [
        "[Char]はStringの別名。 Char のリスト。\n"
      ]
    },
    {
      "cell_type": "code",
      "metadata": {
        "id": "Rl2CyyheJFZQ",
        "colab": {
          "base_uri": "https://localhost:8080/"
        },
        "outputId": "a8939f96-d1e6-49c6-97f1-ffbc3d46cbb3"
      },
      "source": [
        "!ghci -e ':t 42'\n",
        "!ghci -e ':t 42.0'\n",
        "!ghci -e ':t gcd 15 20'"
      ],
      "execution_count": null,
      "outputs": [
        {
          "output_type": "stream",
          "text": [
            "42 :: Num t => t\n",
            "42.0 :: Fractional t => t\n",
            "gcd 15 20 :: Integral a => a\n"
          ],
          "name": "stdout"
        }
      ]
    },
    {
      "cell_type": "markdown",
      "metadata": {
        "id": "j5HGk6ZpuPT5"
      },
      "source": [
        "上のはまだよくわからないが、たぶん、型クラスで、複数のタイプを含んだものだろう。"
      ]
    },
    {
      "cell_type": "markdown",
      "metadata": {
        "id": "0VJQp8dzJw7U"
      },
      "source": [
        "### Unit 型"
      ]
    },
    {
      "cell_type": "code",
      "metadata": {
        "id": "IAFEJNfKJvd0",
        "colab": {
          "base_uri": "https://localhost:8080/"
        },
        "outputId": "2264f91b-1731-4416-8e72-adcec63b59a6"
      },
      "source": [
        "!ghci -e 'print ()'\n",
        "!ghci -e ':t ()'"
      ],
      "execution_count": null,
      "outputs": [
        {
          "output_type": "stream",
          "text": [
            "()\n",
            "() :: ()\n"
          ],
          "name": "stdout"
        }
      ]
    },
    {
      "cell_type": "markdown",
      "metadata": {
        "id": "zHYfydjqJ0bq"
      },
      "source": [
        "# リスト\n",
        "\n",
        "Haskell のリストは型の混在はなし。 型を混在させるにはタプルを用いる。\n",
        "\n",
        "文字列は単に文字 Char のリスト。"
      ]
    },
    {
      "cell_type": "code",
      "metadata": {
        "id": "lXxY_lLRKAk2",
        "colab": {
          "base_uri": "https://localhost:8080/"
        },
        "outputId": "498b0db3-edeb-4906-8772-59a98d8e57d4"
      },
      "source": [
        "!ghci -e '[1, 2, 3]'\n",
        "!ghci -e '[1 .. 5]'\n",
        "!ghci -e '[1, 3 .. 10]'\n",
        "!ghci -e '[True, False, True]'\n",
        "!ghci -e $'[\\'H\\', \\'e\\', \\'l\\', \\'l\\', \\'o\\']'\n",
        "!ghci -e $'\\'C\\' : [\\'H\\', \\'e\\', \\'l\\', \\'l\\', \\'o\\']'\n"
      ],
      "execution_count": null,
      "outputs": [
        {
          "output_type": "stream",
          "text": [
            "[1,2,3]\n",
            "[1,2,3,4,5]\n",
            "[1,3,5,7,9]\n",
            "[True,False,True]\n",
            "\"Hello\"\n",
            "\"CHello\"\n"
          ],
          "name": "stdout"
        }
      ]
    },
    {
      "cell_type": "markdown",
      "metadata": {
        "id": "IJcQNo4G2TJJ"
      },
      "source": [
        "# タプル"
      ]
    },
    {
      "cell_type": "code",
      "metadata": {
        "id": "PRZJdUhP2-8w",
        "colab": {
          "base_uri": "https://localhost:8080/"
        },
        "outputId": "ff0ee01a-477d-42d3-c9ea-7ff9ead2e982"
      },
      "source": [
        "!ghci -e '(1, True)'\n",
        "!ghci -e $'zip [1 .. 5] [\\'a\\' .. \\'e\\']'\n"
      ],
      "execution_count": null,
      "outputs": [
        {
          "output_type": "stream",
          "text": [
            "(1,True)\n",
            "[(1,'a'),(2,'b'),(3,'c'),(4,'d'),(5,'e')]\n"
          ],
          "name": "stdout"
        }
      ]
    },
    {
      "cell_type": "code",
      "metadata": {
        "id": "QnhmYQLP3KFy",
        "colab": {
          "base_uri": "https://localhost:8080/"
        },
        "outputId": "4b1bd056-5cc4-4ff0-be50-3e9e8ab53dd3"
      },
      "source": [
        "!ghci -e $':t [\\'a\\' .. \\'c\\']'\n",
        "!ghci -e $':t [(\\'x\\', True), (\\'y\\', False)]'"
      ],
      "execution_count": null,
      "outputs": [
        {
          "output_type": "stream",
          "text": [
            "['a' .. 'c'] :: [Char]\n",
            "[('x', True), ('y', False)] :: [(Char, Bool)]\n"
          ],
          "name": "stdout"
        }
      ]
    },
    {
      "cell_type": "code",
      "metadata": {
        "id": "yArbCM1L3L1Q",
        "colab": {
          "base_uri": "https://localhost:8080/"
        },
        "outputId": "3c153e7e-811d-4bc4-d5eb-41ac5849482d"
      },
      "source": [
        "!ghci -e 'fst (1, 2)'\n",
        "!ghci -e 'snd (1, 2)'\n",
        "!ghci -e 'map fst [(1, 2), (3, 4), (5, 6)]'"
      ],
      "execution_count": null,
      "outputs": [
        {
          "output_type": "stream",
          "text": [
            "1\n",
            "2\n",
            "[1,3,5]\n"
          ],
          "name": "stdout"
        }
      ]
    },
    {
      "cell_type": "markdown",
      "metadata": {
        "id": "UOWi2Qe_5KxD"
      },
      "source": [
        "# 関数定義"
      ]
    },
    {
      "cell_type": "code",
      "metadata": {
        "id": "BEE6hOyJ5NQR",
        "colab": {
          "base_uri": "https://localhost:8080/"
        },
        "outputId": "301014f1-9610-40ab-ad1c-dad0737003c4"
      },
      "source": [
        "%%writefile Test.hs\n",
        "module Main where\n",
        "\n",
        "factorial n = if n == 0 then 1 else n * factorial (n - 1)\n",
        "\n",
        "main = do putStrLn \"What is 5! ?\"\n",
        "          x <- readLn\n",
        "          if x == factorial 5\n",
        "              then putStrLn \"You're right!\"\n",
        "              else putStrLn \"You're wrong!\""
      ],
      "execution_count": null,
      "outputs": [
        {
          "output_type": "stream",
          "text": [
            "Overwriting Test.hs\n"
          ],
          "name": "stdout"
        }
      ]
    },
    {
      "cell_type": "code",
      "metadata": {
        "id": "5uBBmlwM5WJZ"
      },
      "source": [
        "# script false の行を # でコメントアウトして実行すると、入力待ちになる。出力欄をクリックして入力ウィンドウに入力することができる。\n",
        "# Colab 上での学習に実用的ではないので対応を考える。\n",
        "%%script false\n",
        "!ghc --make Test.hs; ./Test"
      ],
      "execution_count": null,
      "outputs": []
    },
    {
      "cell_type": "code",
      "metadata": {
        "id": "YTEAzvR9nTp8",
        "colab": {
          "base_uri": "https://localhost:8080/"
        },
        "outputId": "af4ece23-e184-4c67-c5e4-395570689f2e"
      },
      "source": [
        "%%writefile factorial.hs\n",
        "\n",
        "factorial n = if n == 0 then 1 else n * factorial (n - 1)\n",
        "\n",
        "main = do putStrLn \"What is 5! ?\"\n",
        "          x <- readLn\n",
        "          if x == factorial 5\n",
        "              then putStrLn \"You're right!\"\n",
        "              else putStrLn \"You're wrong!\""
      ],
      "execution_count": null,
      "outputs": [
        {
          "output_type": "stream",
          "text": [
            "Overwriting factorial.hs\n"
          ],
          "name": "stdout"
        }
      ]
    },
    {
      "cell_type": "code",
      "metadata": {
        "id": "jAVkoqgvnu0-",
        "colab": {
          "base_uri": "https://localhost:8080/"
        },
        "outputId": "fdcaab38-1f99-4324-e1bd-908a1d447c44"
      },
      "source": [
        "!echo 120 | runghc factorial.hs\n",
        "!echo 150 | runghc factorial.hs"
      ],
      "execution_count": null,
      "outputs": [
        {
          "output_type": "stream",
          "text": [
            "What is 5! ?\n",
            "You're right!\n",
            "What is 5! ?\n",
            "You're wrong!\n"
          ],
          "name": "stdout"
        }
      ]
    },
    {
      "cell_type": "markdown",
      "metadata": {
        "id": "H-u9V2fHds36"
      },
      "source": [
        "上のように、echo を使って、プログラムの readLn で受けるか。\n",
        "\n",
        "次のように、プログラム内に渡すデータを書いて、結果を出力するか。\n",
        "\n",
        "このどちらかになると思う。"
      ]
    },
    {
      "cell_type": "code",
      "metadata": {
        "id": "pooc_yHlqaA6",
        "colab": {
          "base_uri": "https://localhost:8080/"
        },
        "outputId": "38996b96-6466-49e7-fc1b-cca8c3c377d6"
      },
      "source": [
        "%%writefile factorial02.hs\n",
        "\n",
        "factorial n = if n == 0 then 1 else n * factorial (n - 1)\n",
        "\n",
        "main = do\n",
        "        print(factorial 5)\n",
        "        print(factorial 4)"
      ],
      "execution_count": null,
      "outputs": [
        {
          "output_type": "stream",
          "text": [
            "Overwriting factorial02.hs\n"
          ],
          "name": "stdout"
        }
      ]
    },
    {
      "cell_type": "code",
      "metadata": {
        "id": "woeE70_PqoSd",
        "colab": {
          "base_uri": "https://localhost:8080/"
        },
        "outputId": "ee8d21aa-2f90-4bfb-a5cb-2a4d9cd27e6c"
      },
      "source": [
        "!runghc factorial02.hs"
      ],
      "execution_count": null,
      "outputs": [
        {
          "output_type": "stream",
          "text": [
            "120\n",
            "24\n"
          ],
          "name": "stdout"
        }
      ]
    },
    {
      "cell_type": "markdown",
      "metadata": {
        "id": "ksOskHSJd4p1"
      },
      "source": [
        "パターンマッチングを利用して次のように書く書き方もある。"
      ]
    },
    {
      "cell_type": "code",
      "metadata": {
        "id": "ajXsLOal5uxz",
        "colab": {
          "base_uri": "https://localhost:8080/"
        },
        "outputId": "9456fd56-4c41-4269-e606-0561c9872e6c"
      },
      "source": [
        "%%writefile factorial03.hs\n",
        "\n",
        "factorial 0 = 1\n",
        "factorial n = n * factorial (n - 1)\n",
        "\n",
        "main = do\n",
        "        print(factorial 6)\n",
        "        print(factorial 5)"
      ],
      "execution_count": null,
      "outputs": [
        {
          "output_type": "stream",
          "text": [
            "Writing factorial03.hs\n"
          ],
          "name": "stdout"
        }
      ]
    },
    {
      "cell_type": "code",
      "metadata": {
        "id": "PCiTutabrJL1",
        "colab": {
          "base_uri": "https://localhost:8080/"
        },
        "outputId": "ddff430b-c098-43c3-b4f2-42b4c6f019eb"
      },
      "source": [
        "!runghc factorial03.hs"
      ],
      "execution_count": null,
      "outputs": [
        {
          "output_type": "stream",
          "text": [
            "720\n",
            "120\n"
          ],
          "name": "stdout"
        }
      ]
    },
    {
      "cell_type": "markdown",
      "metadata": {
        "id": "12WQ1L4CwK6G"
      },
      "source": [
        "ちなみに、Colab では 複数のセルを選択して、 Ctrl+Shift+Enter すると、便利である。"
      ]
    },
    {
      "cell_type": "code",
      "metadata": {
        "id": "Gmg_4nAo6CoH",
        "colab": {
          "base_uri": "https://localhost:8080/"
        },
        "outputId": "6ec811d3-8ebc-436b-b9b2-428fb8ecc271"
      },
      "source": [
        "%%writefile let01.hs\n",
        "secsToWeeks secs = let perMinute = 60\n",
        "                       perHour   = 60 * perMinute\n",
        "                       perDay    = 24 * perHour\n",
        "                       perWeek   =  7 * perDay\n",
        "                   in  secs / perWeek\n",
        "\n",
        "main = do\n",
        "        print (secsToWeeks 100000)"
      ],
      "execution_count": 5,
      "outputs": [
        {
          "output_type": "stream",
          "text": [
            "Overwriting let01.hs\n"
          ],
          "name": "stdout"
        }
      ]
    },
    {
      "cell_type": "code",
      "metadata": {
        "colab": {
          "base_uri": "https://localhost:8080/"
        },
        "id": "HP9L2lybgzRS",
        "outputId": "4d59aee0-13cd-43e5-d332-c0b5c4b5b3d5"
      },
      "source": [
        "!runghc let01.hs"
      ],
      "execution_count": 6,
      "outputs": [
        {
          "output_type": "stream",
          "text": [
            "0.16534391534391535\n"
          ],
          "name": "stdout"
        }
      ]
    },
    {
      "cell_type": "markdown",
      "metadata": {
        "id": "M67kE5oy6ZKp"
      },
      "source": [
        "上コードセルで、let , in は一時的な名前を定義している。\n"
      ]
    },
    {
      "cell_type": "code",
      "metadata": {
        "id": "XN5488-c6Xtm",
        "colab": {
          "base_uri": "https://localhost:8080/"
        },
        "outputId": "5cc91a42-a558-420f-d3ab-4394706c966c"
      },
      "source": [
        "%%writefile case01.hs\n",
        "classify age = case age of 0 -> \"newborn\"\n",
        "                           1 -> \"infant\"\n",
        "                           2 -> \"toddler\"\n",
        "                           _ -> \"senior citizen\"\n",
        "\n",
        "main = do\n",
        "        putStrLn (classify 0)                           \n",
        "        putStrLn (classify 69)"
      ],
      "execution_count": 7,
      "outputs": [
        {
          "output_type": "stream",
          "text": [
            "Writing case01.hs\n"
          ],
          "name": "stdout"
        }
      ]
    },
    {
      "cell_type": "code",
      "metadata": {
        "colab": {
          "base_uri": "https://localhost:8080/"
        },
        "id": "ZzkYe9drhp7a",
        "outputId": "0cd588e3-127e-4205-9ea4-545c79453cda"
      },
      "source": [
        "!runghc case01.hs"
      ],
      "execution_count": 8,
      "outputs": [
        {
          "output_type": "stream",
          "text": [
            "newborn\n",
            "senior citizen\n"
          ],
          "name": "stdout"
        }
      ]
    },
    {
      "cell_type": "markdown",
      "metadata": {
        "id": "cp5ZgVAk68_H"
      },
      "source": [
        "上のセルで、case 式を使っている。 `_` はその他すべてを表す。"
      ]
    },
    {
      "cell_type": "markdown",
      "metadata": {
        "id": "Q-LIDxck97kv"
      },
      "source": [
        "# ライブラリの使い方 import qualified as"
      ]
    },
    {
      "cell_type": "code",
      "metadata": {
        "id": "4LPJq0oa9bO8",
        "colab": {
          "base_uri": "https://localhost:8080/"
        },
        "outputId": "ded2fd49-3d3b-4888-ddc1-f03c726b0f24"
      },
      "source": [
        "%%writefile importqualified.hs\n",
        "\n",
        "import qualified Data.Map as M\n",
        "\n",
        "errorsPerLine = M.fromList [ (\"Chris\", 472), (\"Don\", 100), (\"Simon\", -5) ]\n",
        "\n",
        "main = do \n",
        "    putStrLn \"Who are you?\"\n",
        "    name <- getLine\n",
        "    case M.lookup name errorsPerLine of\n",
        "        Nothing -> putStrLn \"I don't know you\"\n",
        "        Just n  -> do putStr \"Errors per line: \"\n",
        "                      print n"
      ],
      "execution_count": null,
      "outputs": [
        {
          "output_type": "stream",
          "text": [
            "Overwriting importqualified.hs\n"
          ],
          "name": "stdout"
        }
      ]
    },
    {
      "cell_type": "code",
      "metadata": {
        "colab": {
          "base_uri": "https://localhost:8080/"
        },
        "id": "CwHKDTs_jGqK",
        "outputId": "3576930e-0d33-48fa-e014-bb0a426ef303"
      },
      "source": [
        "!echo Don | runghc importqualified.hs"
      ],
      "execution_count": null,
      "outputs": [
        {
          "output_type": "stream",
          "text": [
            "Who are you?\n",
            "Errors per line: 100\n"
          ],
          "name": "stdout"
        }
      ]
    },
    {
      "cell_type": "code",
      "metadata": {
        "colab": {
          "base_uri": "https://localhost:8080/"
        },
        "id": "sgIS8yV9kPZ2",
        "outputId": "ecbf429a-3fed-4c52-e517-ffdeac64a4dc"
      },
      "source": [
        "!echo Bob | runghc importqualified.hs"
      ],
      "execution_count": null,
      "outputs": [
        {
          "output_type": "stream",
          "text": [
            "Who are you?\n",
            "I don't know you\n"
          ],
          "name": "stdout"
        }
      ]
    },
    {
      "cell_type": "markdown",
      "metadata": {
        "id": "05q0I6VCAal4"
      },
      "source": [
        "# 四則演算"
      ]
    },
    {
      "cell_type": "code",
      "metadata": {
        "colab": {
          "base_uri": "https://localhost:8080/"
        },
        "id": "FQCMMJLxdoam",
        "outputId": "374e9b7f-4d3a-446d-b9f9-180e2f92323c"
      },
      "source": [
        "!ghc -e '2 + 15'\n",
        "!ghc -e '49 * 100'\n",
        "!ghc -e '1892 - 1472'\n",
        "!ghc -e '5 / 2'"
      ],
      "execution_count": null,
      "outputs": [
        {
          "output_type": "stream",
          "text": [
            "17\n",
            "4900\n",
            "420\n",
            "2.5\n"
          ],
          "name": "stdout"
        }
      ]
    },
    {
      "cell_type": "code",
      "metadata": {
        "id": "AFkAK5ZEnkFW",
        "colab": {
          "base_uri": "https://localhost:8080/"
        },
        "outputId": "a152692d-8e90-490a-9f6f-72b2b25a429a"
      },
      "source": [
        "!ghc -e '(50 * 100) - 4999'\n",
        "!ghc -e '50 * 100 - 4999'\n",
        "!ghc -e '50 * (100 - 4999)'"
      ],
      "execution_count": null,
      "outputs": [
        {
          "output_type": "stream",
          "text": [
            "1\n",
            "1\n",
            "-244950\n"
          ],
          "name": "stdout"
        }
      ]
    },
    {
      "cell_type": "code",
      "metadata": {
        "id": "wOvMZGQ5nmR4",
        "colab": {
          "base_uri": "https://localhost:8080/"
        },
        "outputId": "88b26040-5a9f-44ef-e06e-6f59eca022af"
      },
      "source": [
        "!ghc -e 'True && False'\n",
        "!ghc -e 'True && True'\n",
        "!ghc -e 'False || True'\n",
        "!ghc -e 'not False'\n",
        "!ghc -e 'not (True && True)'\n"
      ],
      "execution_count": null,
      "outputs": [
        {
          "output_type": "stream",
          "text": [
            "False\n",
            "True\n",
            "True\n",
            "True\n",
            "False\n"
          ],
          "name": "stdout"
        }
      ]
    },
    {
      "cell_type": "code",
      "metadata": {
        "id": "MDS-LdXBocT4",
        "colab": {
          "base_uri": "https://localhost:8080/"
        },
        "outputId": "39ea9612-51e1-4c48-a758-04d97b2ad9b1"
      },
      "source": [
        "!ghc -e 'succ 8'\n",
        "!ghc -e 'min 9 10'\n",
        "!ghc -e 'min 3.4 3.2'\n",
        "!ghc -e 'max 100 101'\n"
      ],
      "execution_count": null,
      "outputs": [
        {
          "output_type": "stream",
          "text": [
            "9\n",
            "9\n",
            "3.2\n",
            "101\n"
          ],
          "name": "stdout"
        }
      ]
    },
    {
      "cell_type": "markdown",
      "metadata": {
        "id": "tKwonjJ6ozn-"
      },
      "source": [
        "関数の優先順位が一番高い。\n",
        "\n",
        "次の2つの式は同じ意味になる。\n"
      ]
    },
    {
      "cell_type": "code",
      "metadata": {
        "id": "iBs4X0rco0E8",
        "colab": {
          "base_uri": "https://localhost:8080/"
        },
        "outputId": "780edcaa-d2fe-486f-9827-c7101b43d021"
      },
      "source": [
        "!ghc -e 'succ 9 + max 5 4 + 1'\n",
        "!ghc -e '(succ 9) + (max 5 4) + 1'"
      ],
      "execution_count": null,
      "outputs": [
        {
          "output_type": "stream",
          "text": [
            "16\n",
            "16\n"
          ],
          "name": "stdout"
        }
      ]
    },
    {
      "cell_type": "code",
      "metadata": {
        "id": "SIVVq2yRpOM_",
        "colab": {
          "base_uri": "https://localhost:8080/"
        },
        "outputId": "6ccbfe83-97dd-4dd6-b6c3-455c358088b1"
      },
      "source": [
        "!ghc -e 'succ 9 * 10'"
      ],
      "execution_count": null,
      "outputs": [
        {
          "output_type": "stream",
          "text": [
            "100\n"
          ],
          "name": "stdout"
        }
      ]
    },
    {
      "cell_type": "markdown",
      "metadata": {
        "id": "L5od-47zpe_l"
      },
      "source": [
        "### 整数除算"
      ]
    },
    {
      "cell_type": "code",
      "metadata": {
        "id": "Ap8spQwxpd0c",
        "colab": {
          "base_uri": "https://localhost:8080/"
        },
        "outputId": "96eaf6fa-8c37-46d6-dcd6-b47186fc32ad"
      },
      "source": [
        "!ghc -e '92 `div` 10'\n",
        "!ghc -e '92 / 10'\n",
        "!ghc -e '92 `mod` 10'"
      ],
      "execution_count": null,
      "outputs": [
        {
          "output_type": "stream",
          "text": [
            "9\n",
            "9.2\n",
            "2\n"
          ],
          "name": "stdout"
        }
      ]
    },
    {
      "cell_type": "code",
      "metadata": {
        "colab": {
          "base_uri": "https://localhost:8080/"
        },
        "id": "JPs9z0Agin6M",
        "outputId": "1e5767be-7811-4bfc-eaeb-7b8729a05755"
      },
      "source": [
        "!ghc -e 'floor (92 / 10)'\n",
        "!ghc -e 'floor (-92 / 10)'"
      ],
      "execution_count": 15,
      "outputs": [
        {
          "output_type": "stream",
          "text": [
            "9\n",
            "-10\n"
          ],
          "name": "stdout"
        }
      ]
    },
    {
      "cell_type": "markdown",
      "metadata": {
        "id": "C9npJmIGjLnU"
      },
      "source": [
        "# 質問 ceiling や truncate はありますか。"
      ]
    },
    {
      "cell_type": "markdown",
      "metadata": {
        "id": "g2awhpFhVCQL"
      },
      "source": [
        "# 関数"
      ]
    },
    {
      "cell_type": "markdown",
      "metadata": {
        "id": "QBlbCX1pj79K"
      },
      "source": [
        "# 質問 関数の型を調べる方法はあるか。"
      ]
    },
    {
      "cell_type": "code",
      "metadata": {
        "id": "XkZ08fY0VEv6",
        "colab": {
          "base_uri": "https://localhost:8080/"
        },
        "outputId": "7d674c4b-85ec-48b9-a11a-6023b33b0020"
      },
      "source": [
        "%%writefile doubleme.hs\n",
        "doubleMe x = x + x\n",
        "\n",
        "main = do\n",
        "    print(doubleMe 9)\n",
        "    print(doubleMe 8.3)"
      ],
      "execution_count": 19,
      "outputs": [
        {
          "output_type": "stream",
          "text": [
            "Overwriting doubleme.hs\n"
          ],
          "name": "stdout"
        }
      ]
    },
    {
      "cell_type": "code",
      "metadata": {
        "colab": {
          "base_uri": "https://localhost:8080/"
        },
        "id": "WICZfSInfhEF",
        "outputId": "662baaff-600c-496c-a468-ef735c79157d"
      },
      "source": [
        "!runghc doubleme.hs"
      ],
      "execution_count": 20,
      "outputs": [
        {
          "output_type": "stream",
          "text": [
            "18\n",
            "16.6\n"
          ],
          "name": "stdout"
        }
      ]
    },
    {
      "cell_type": "markdown",
      "metadata": {
        "id": "DqV75lcfkhVB"
      },
      "source": [
        "次の例で doubleUs を 2回定義しようとすると redundant エラーになる。"
      ]
    },
    {
      "cell_type": "code",
      "metadata": {
        "id": "ZJDh4GipVhYq",
        "colab": {
          "base_uri": "https://localhost:8080/"
        },
        "outputId": "b8189d3b-09d9-4057-ade3-6dbc0741d3d6"
      },
      "source": [
        "%%writefile doubleus.hs\n",
        "doubleMe x = x + x\n",
        "doubleUs x y = x*2 + y*2   \n",
        "doubleUs x y = doubleMe x + doubleMe y\n",
        "\n",
        "main = do\n",
        "    print(doubleUs 4 9)\n",
        "    print(doubleUs 2.3 34.2)\n",
        "    print(doubleUs 28 88 + doubleMe 123)"
      ],
      "execution_count": 81,
      "outputs": [
        {
          "output_type": "stream",
          "text": [
            "Overwriting doubleus.hs\n"
          ],
          "name": "stdout"
        }
      ]
    },
    {
      "cell_type": "code",
      "metadata": {
        "colab": {
          "base_uri": "https://localhost:8080/"
        },
        "id": "-LA5XHXngNtw",
        "outputId": "2765ee96-8924-4c0e-93bf-6fe9b0ab0aef"
      },
      "source": [
        "!runghc doubleus.hs"
      ],
      "execution_count": 82,
      "outputs": [
        {
          "output_type": "stream",
          "text": [
            "\n",
            "doubleus.hs:3:1: warning: [-Woverlapping-patterns]\n",
            "    Pattern match is redundant\n",
            "    In an equation for ‘doubleUs’: doubleUs x y = ...\n",
            "26\n",
            "73.0\n",
            "478\n"
          ],
          "name": "stdout"
        }
      ]
    },
    {
      "cell_type": "markdown",
      "metadata": {
        "id": "PYRry4HUlQbB"
      },
      "source": [
        "# VSCode の拡張機能で次のように関数の型がわかる。"
      ]
    },
    {
      "cell_type": "code",
      "metadata": {
        "colab": {
          "base_uri": "https://localhost:8080/"
        },
        "id": "QlMG8DCdnHkk",
        "outputId": "2edfa4ec-dbbd-4212-d719-115c0be1b798"
      },
      "source": [
        "%%writefile ifthen.hs\n",
        "-- Haskell の if では else は必須。なぜなら if は式であり、返り値が必要だから。\n",
        "doubleSmallNumber :: (Ord a, Num a) => a -> a\n",
        "doubleSmallNumber x = if x > 100 then x else x * 2\n",
        "\n",
        "main :: IO ()\n",
        "main = do\n",
        "  x <- readLn\n",
        "  print (doubleSmallNumber x)"
      ],
      "execution_count": 43,
      "outputs": [
        {
          "output_type": "stream",
          "text": [
            "Overwriting ifthen.hs\n"
          ],
          "name": "stdout"
        }
      ]
    },
    {
      "cell_type": "code",
      "metadata": {
        "colab": {
          "base_uri": "https://localhost:8080/"
        },
        "id": "_4cjdLG0nLHO",
        "outputId": "17fc95a9-eab6-4ea5-cecd-fb31450957b0"
      },
      "source": [
        "!echo 120 | runghc ifthen.hs\n",
        "!echo 12 | runghc ifthen.hs"
      ],
      "execution_count": 44,
      "outputs": [
        {
          "output_type": "stream",
          "text": [
            "120\n",
            "24\n"
          ],
          "name": "stdout"
        }
      ]
    },
    {
      "cell_type": "code",
      "metadata": {
        "id": "qV8VRsIJbm3I",
        "colab": {
          "base_uri": "https://localhost:8080/"
        },
        "outputId": "1928546d-953e-4c12-fc58-521644322bb3"
      },
      "source": [
        "# python の if then は次のように書く\n",
        "\n",
        "def doubleSmallNumber (x) :\n",
        "    if x > 100 :\n",
        "        return x\n",
        "    else:\n",
        "        return x * 2\n",
        "\n",
        "print (doubleSmallNumber (120))\n",
        "print (doubleSmallNumber (12))"
      ],
      "execution_count": 45,
      "outputs": [
        {
          "output_type": "stream",
          "text": [
            "120\n",
            "24\n"
          ],
          "name": "stdout"
        }
      ]
    },
    {
      "cell_type": "code",
      "metadata": {
        "id": "5mNdpWKTdsTr",
        "colab": {
          "base_uri": "https://localhost:8080/"
        },
        "outputId": "d45569c1-f1a1-4792-d12c-a184d011b45c"
      },
      "source": [
        "!ghc -e $'let conanO\\'Brien = \"It\\'s a-me, Conan O\\'Brien!\" in conanO\\'Brien'\n"
      ],
      "execution_count": 53,
      "outputs": [
        {
          "output_type": "stream",
          "text": [
            "\"It's a-me, Conan O'Brien!\"\n"
          ],
          "name": "stdout"
        }
      ]
    },
    {
      "cell_type": "markdown",
      "metadata": {
        "id": "QPcmXomYd-sT"
      },
      "source": [
        "上の例で2つのことを指摘したい。\n",
        "\n",
        "1. 関数名は小文字で始まる。\n",
        "1. 関数は引数なしもあり得る。引数なしの場合、ただの定義になる。"
      ]
    },
    {
      "cell_type": "markdown",
      "metadata": {
        "id": "8jEh11mWxOeZ"
      },
      "source": [
        ""
      ]
    },
    {
      "cell_type": "code",
      "metadata": {
        "colab": {
          "base_uri": "https://localhost:8080/"
        },
        "id": "1sZcN_P-v_Yu",
        "outputId": "21654492-7281-45b2-9a49-604d432d99d7"
      },
      "source": [
        "# `let in` とワンライナー\n",
        "!ghc -e $'let doubleSmallNumber x = if x > 100 then x else x * 2 in doubleSmallNumber 18'"
      ],
      "execution_count": 54,
      "outputs": [
        {
          "output_type": "stream",
          "text": [
            "36\n"
          ],
          "name": "stdout"
        }
      ]
    },
    {
      "cell_type": "markdown",
      "metadata": {
        "id": "y6H51hT-zQ3d"
      },
      "source": [
        "# リスト"
      ]
    },
    {
      "cell_type": "code",
      "metadata": {
        "id": "wnQmo8IGzSaV",
        "colab": {
          "base_uri": "https://localhost:8080/"
        },
        "outputId": "9e45cb8f-d701-4dda-dc6f-10d6fc62bc5a"
      },
      "source": [
        "!ghc -e $'let lostNumbers = [4,8,15,16,23,42] in lostNumbers'"
      ],
      "execution_count": 55,
      "outputs": [
        {
          "output_type": "stream",
          "text": [
            "[4,8,15,16,23,42]\n"
          ],
          "name": "stdout"
        }
      ]
    },
    {
      "cell_type": "code",
      "metadata": {
        "id": "rvpkOXPo0aJu",
        "colab": {
          "base_uri": "https://localhost:8080/"
        },
        "outputId": "068ce4f4-63a4-42ca-89c5-e96ae100ef3a"
      },
      "source": [
        "!ghc -e $'[1,2,3,4] ++ [9,10,11,12]'\n",
        "!ghc -e $'\"hello\" ++ \" \" ++ \"world\"'\n",
        "!ghc -e $'[\\'w\\', \\'o\\'] ++ [\\'o\\',\\'t\\']'"
      ],
      "execution_count": 57,
      "outputs": [
        {
          "output_type": "stream",
          "text": [
            "[1,2,3,4,9,10,11,12]\n",
            "\"hello world\"\n",
            "\"woot\"\n"
          ],
          "name": "stdout"
        }
      ]
    },
    {
      "cell_type": "code",
      "metadata": {
        "id": "U_9C6CqF0sRr",
        "colab": {
          "base_uri": "https://localhost:8080/"
        },
        "outputId": "84ec1a80-d804-4fd8-dcf5-d554ebef94b1"
      },
      "source": [
        "!ghc -e $'\\'A\\':\" SMALL CAT\"'\n",
        "!ghc -e $'5:[1,2,3,4,5]'"
      ],
      "execution_count": 58,
      "outputs": [
        {
          "output_type": "stream",
          "text": [
            "\"A SMALL CAT\"\n",
            "[5,1,2,3,4,5]\n"
          ],
          "name": "stdout"
        }
      ]
    },
    {
      "cell_type": "markdown",
      "metadata": {
        "id": "o4UHyTtI07zX"
      },
      "source": [
        "`[1,2,3]` は内部的には `1:2:3:[]` で、`[]` は空リストである。空リストの冒頭に 3 を加えると `[3]` になる。できたリストの頭に 2 を加えると、`[2,3]` になる。"
      ]
    },
    {
      "cell_type": "code",
      "metadata": {
        "id": "Tn4oyGN-1yoR",
        "colab": {
          "base_uri": "https://localhost:8080/"
        },
        "outputId": "76dc8a10-34b8-4376-a93a-1679e563354d"
      },
      "source": [
        "!ghc -e '\"Steve Buscemi\" !! 6'\n",
        "!ghc -e '[9.4,33.2,96.2,11.2,23.25] !! 1'"
      ],
      "execution_count": 59,
      "outputs": [
        {
          "output_type": "stream",
          "text": [
            "'B'\n",
            "33.2\n"
          ],
          "name": "stdout"
        }
      ]
    },
    {
      "cell_type": "code",
      "metadata": {
        "id": "09V_A7nx1ztd",
        "colab": {
          "base_uri": "https://localhost:8080/"
        },
        "outputId": "139c5e6b-02d5-4200-f94f-06ffaae6cdae"
      },
      "source": [
        "# python でｊは次のように書く\n",
        "\n",
        "print (\"Steve Buscemi\"[6])\n",
        "print ([9.4,33.2,96.2,11.2,23.25][1])\n"
      ],
      "execution_count": 60,
      "outputs": [
        {
          "output_type": "stream",
          "text": [
            "B\n",
            "33.2\n"
          ],
          "name": "stdout"
        }
      ]
    },
    {
      "cell_type": "markdown",
      "metadata": {
        "id": "bFGr1ma4GG1k"
      },
      "source": [
        "# インデクスが大きすぎるとエラーになる。"
      ]
    },
    {
      "cell_type": "code",
      "metadata": {
        "id": "XtxFVZtxGFCh",
        "colab": {
          "base_uri": "https://localhost:8080/"
        },
        "outputId": "72c81506-38bc-4fcf-f7fa-c986019c48a3"
      },
      "source": [
        "!ghci -e '[9.4,33.2,96.2,11.2,23.25] !! 6'"
      ],
      "execution_count": 84,
      "outputs": [
        {
          "output_type": "stream",
          "text": [
            "<interactive>: Prelude.!!: index too large\n"
          ],
          "name": "stdout"
        }
      ]
    },
    {
      "cell_type": "code",
      "metadata": {
        "colab": {
          "base_uri": "https://localhost:8080/"
        },
        "id": "LFMRXLVz0RMT",
        "outputId": "e5da0fb4-3e0c-4e70-f31f-88b2d226b23c"
      },
      "source": [
        "!ghc -e 'let b = [[1,2,3,4],[5,3,3,3],[1,2,2,3,4],[1,2,3]] in b ++ [[1,1,1,1]] '\n",
        "!ghc -e 'let b = [[1,2,3,4],[5,3,3,3],[1,2,2,3,4],[1,2,3]] in [6,6,6]:b'\n",
        "!ghc -e 'let b = [[1,2,3,4],[5,3,3,3],[1,2,2,3,4],[1,2,3]] in b !! 2'"
      ],
      "execution_count": 63,
      "outputs": [
        {
          "output_type": "stream",
          "text": [
            "[[1,2,3,4],[5,3,3,3],[1,2,2,3,4],[1,2,3],[1,1,1,1]]\n",
            "[[6,6,6],[1,2,3,4],[5,3,3,3],[1,2,2,3,4],[1,2,3]]\n",
            "[1,2,2,3,4]\n"
          ],
          "name": "stdout"
        }
      ]
    },
    {
      "cell_type": "code",
      "metadata": {
        "colab": {
          "base_uri": "https://localhost:8080/"
        },
        "id": "qI-239Nk2PQh",
        "outputId": "c97158a2-8b29-41d1-a80f-b8c8864afd67"
      },
      "source": [
        "%%writefile list01.hs\n",
        "\n",
        "b :: [[Int]]\n",
        "b = [[1,2,3,4],[5,3,3,3],[1,2,2,3,4],[1,2,3]]\n",
        "\n",
        "main :: IO ()\n",
        "main = do \n",
        "  print (b ++ [[1,1,1,1]])\n",
        "  print ([6,6,6]:b)\n",
        "  print (b !! 2)"
      ],
      "execution_count": 71,
      "outputs": [
        {
          "output_type": "stream",
          "text": [
            "Overwriting list01.hs\n"
          ],
          "name": "stdout"
        }
      ]
    },
    {
      "cell_type": "code",
      "metadata": {
        "colab": {
          "base_uri": "https://localhost:8080/"
        },
        "id": "majrty089BTP",
        "outputId": "1db36b60-3700-49c5-813e-c914eab6ab98"
      },
      "source": [
        "!runghc list01.hs"
      ],
      "execution_count": 72,
      "outputs": [
        {
          "output_type": "stream",
          "text": [
            "[[1,2,3,4],[5,3,3,3],[1,2,2,3,4],[1,2,3],[1,1,1,1]]\n",
            "[[6,6,6],[1,2,3,4],[5,3,3,3],[1,2,2,3,4],[1,2,3]]\n",
            "[1,2,2,3,4]\n"
          ],
          "name": "stdout"
        }
      ]
    },
    {
      "cell_type": "code",
      "metadata": {
        "colab": {
          "base_uri": "https://localhost:8080/"
        },
        "id": "q-d8t2JO-f_s",
        "outputId": "852c3a54-16b9-4e36-bc09-17b18864aba0"
      },
      "source": [
        "# parse error on input ‘where’ というエラーが出る。 改行なしに where は使えないのか? かもね。\n",
        "%%writefile list02.hs\n",
        "main :: IO ()\n",
        "main = do \n",
        "  print (b ++ [[1,1,1,1]] where b::[[Int]] = [[1,2,3,4],[5,3,3,3],[1,2,2,3,4],[1,2,3]])"
      ],
      "execution_count": 85,
      "outputs": [
        {
          "output_type": "stream",
          "text": [
            "Overwriting list02.hs\n"
          ],
          "name": "stdout"
        }
      ]
    },
    {
      "cell_type": "code",
      "metadata": {
        "colab": {
          "base_uri": "https://localhost:8080/"
        },
        "id": "dhc0eNHqBPuI",
        "outputId": "cfd63d59-4ee3-4e73-aaa9-55a8295a6091"
      },
      "source": [
        "!runghc list02.hs"
      ],
      "execution_count": 86,
      "outputs": [
        {
          "output_type": "stream",
          "text": [
            "\n",
            "list02.hs:3:27: error: parse error on input ‘where’\n"
          ],
          "name": "stdout"
        }
      ]
    },
    {
      "cell_type": "code",
      "metadata": {
        "colab": {
          "base_uri": "https://localhost:8080/"
        },
        "id": "cE8zs8Of8mEO",
        "outputId": "d40aeb4c-2017-472f-f747-1a70859c2e8b"
      },
      "source": [
        "%%writefile where01.hs\n",
        "calcBmi cm kg\n",
        "  | bmi <= 18.5 = \"痩せてるね\"\n",
        "  | bmi <= 25.0 = \"普通だね\"\n",
        "  | bmi <= 30.0 = \"ぽっちゃりだね\"\n",
        "  | otherwise = \"太っているね\"\n",
        "  where\n",
        "    bmi = kg / (m ^ 2)\n",
        "    m = cm / 100\n",
        "\n",
        "main = do\n",
        "  putStrLn $ calcBmi 170 60"
      ],
      "execution_count": 65,
      "outputs": [
        {
          "output_type": "stream",
          "text": [
            "Writing where01.hs\n"
          ],
          "name": "stdout"
        }
      ]
    },
    {
      "cell_type": "code",
      "metadata": {
        "colab": {
          "base_uri": "https://localhost:8080/"
        },
        "id": "Kd8vqiyG8w9P",
        "outputId": "509e77de-994a-4ba3-e028-c018647f735c"
      },
      "source": [
        "!runghc where01.hs"
      ],
      "execution_count": 66,
      "outputs": [
        {
          "output_type": "stream",
          "text": [
            "普通だね\n"
          ],
          "name": "stdout"
        }
      ]
    },
    {
      "cell_type": "code",
      "metadata": {
        "id": "m3hlaMnMGgIq",
        "colab": {
          "base_uri": "https://localhost:8080/"
        },
        "outputId": "83078c8e-395b-4eb9-f946-9ea7f7d2f72c"
      },
      "source": [
        "!ghc -e '[3,2,1] > [2,1,0]'\n",
        "!ghc -e '[3,2,1] > [2,10,100] '\n",
        "!ghc -e '[3,4,2] > [3,4]'\n",
        "!ghc -e '[3,4,2] > [2,4] '\n",
        "!ghc -e '[3,4,2] == [3,4,2]'"
      ],
      "execution_count": 77,
      "outputs": [
        {
          "output_type": "stream",
          "text": [
            "True\n",
            "True\n",
            "True\n",
            "True\n",
            "True\n"
          ],
          "name": "stdout"
        }
      ]
    },
    {
      "cell_type": "code",
      "metadata": {
        "id": "F4wLT3baGqIy",
        "colab": {
          "base_uri": "https://localhost:8080/"
        },
        "outputId": "3058469a-07c3-400f-9f5b-9e2c7c1a3393"
      },
      "source": [
        "!ghc -e 'head [5,4,3,2,1] '\n",
        "!ghc -e 'tail [5,4,3,2,1] '\n"
      ],
      "execution_count": 78,
      "outputs": [
        {
          "output_type": "stream",
          "text": [
            "5\n",
            "[4,3,2,1]\n"
          ],
          "name": "stdout"
        }
      ]
    },
    {
      "cell_type": "code",
      "metadata": {
        "id": "GFNfbwqRG0Ec",
        "colab": {
          "base_uri": "https://localhost:8080/"
        },
        "outputId": "c744135e-72c7-4807-ab61-ce692081c6e5"
      },
      "source": [
        "!ghc -e 'last [5,4,3,2,1]  '\n",
        "!ghc -e 'init [5,4,3,2,1] '"
      ],
      "execution_count": 79,
      "outputs": [
        {
          "output_type": "stream",
          "text": [
            "1\n",
            "[5,4,3,2]\n"
          ],
          "name": "stdout"
        }
      ]
    },
    {
      "cell_type": "markdown",
      "metadata": {
        "id": "lUNKb5yuG7lC"
      },
      "source": [
        "空リストの head を取ろうとするとエラーになる。"
      ]
    },
    {
      "cell_type": "code",
      "metadata": {
        "id": "nW8V3FxzG8Fp",
        "colab": {
          "base_uri": "https://localhost:8080/"
        },
        "outputId": "4f401b71-e37b-4ad3-8b36-5877f6f95b80"
      },
      "source": [
        "!ghci -e 'head []'"
      ],
      "execution_count": 80,
      "outputs": [
        {
          "output_type": "stream",
          "text": [
            "<interactive>: Prelude.head: empty list\n"
          ],
          "name": "stdout"
        }
      ]
    },
    {
      "cell_type": "code",
      "metadata": {
        "id": "3zr0TMJkHVd-",
        "colab": {
          "base_uri": "https://localhost:8080/"
        },
        "outputId": "d9d79982-67c9-44f8-e346-1c92632a5ed1"
      },
      "source": [
        "!ghc -e 'length [5,4,3,2,1]'\n",
        "!ghc -e 'null [1,2,3]  '\n",
        "!ghc -e 'null [] '\n",
        "!ghc -e 'reverse [5,4,3,2,1] '"
      ],
      "execution_count": 87,
      "outputs": [
        {
          "output_type": "stream",
          "text": [
            "5\n",
            "False\n",
            "True\n",
            "[1,2,3,4,5]\n"
          ],
          "name": "stdout"
        }
      ]
    },
    {
      "cell_type": "code",
      "metadata": {
        "id": "x17NceVRHlSz",
        "colab": {
          "base_uri": "https://localhost:8080/"
        },
        "outputId": "73091959-fc4f-4ab4-b996-56604fcec288"
      },
      "source": [
        "!ghc -e 'take 3 [5,4,3,2,1]'\n",
        "!ghc -e 'take 1 [3,9,3]'\n",
        "!ghc -e 'take 5 [1,2]'\n",
        "!ghc -e 'take 0 [6,6,6]'\n",
        "!ghc -e 'take 1 []'\n",
        "!ghc -e 'take -1 [6,6,6]' # エラー"
      ],
      "execution_count": 92,
      "outputs": [
        {
          "output_type": "stream",
          "text": [
            "[5,4,3]\n",
            "[3]\n",
            "[1,2]\n",
            "[]\n",
            "[]\n",
            "\n",
            "<interactive>:0:1: error:\n",
            "    • Non type-variable argument\n",
            "        in the constraint: Num (Int -> [a] -> [a])\n",
            "      (Use FlexibleContexts to permit this)\n",
            "    • When checking the inferred type\n",
            "        it :: forall t a.\n",
            "              (Num (Int -> [a] -> [a]), Num ([t] -> Int -> [a] -> [a]), Num t) =>\n",
            "              Int -> [a] -> [a]\n"
          ],
          "name": "stdout"
        }
      ]
    },
    {
      "cell_type": "code",
      "metadata": {
        "id": "IItgPWw8Hylk",
        "colab": {
          "base_uri": "https://localhost:8080/"
        },
        "outputId": "278c804d-0345-45cc-a036-8389ea3acc2d"
      },
      "source": [
        "!ghc -e 'drop 3 [8,4,2,1,5,6]  '\n",
        "!ghc -e 'drop 0 [1,2,3,4] '\n",
        "!ghc -e 'drop 100 [1,2,3,4] '"
      ],
      "execution_count": 93,
      "outputs": [
        {
          "output_type": "stream",
          "text": [
            "[1,5,6]\n",
            "[1,2,3,4]\n",
            "[]\n"
          ],
          "name": "stdout"
        }
      ]
    },
    {
      "cell_type": "code",
      "metadata": {
        "id": "hHOHtCnlH690",
        "colab": {
          "base_uri": "https://localhost:8080/"
        },
        "outputId": "2b941452-107e-4601-a131-f3ca1f94a20a"
      },
      "source": [
        "!ghc -e 'minimum [8,4,2,1,5,6]'\n",
        "!ghc -e 'maximum [1,9,2,3,4] '"
      ],
      "execution_count": 94,
      "outputs": [
        {
          "output_type": "stream",
          "text": [
            "1\n",
            "9\n"
          ],
          "name": "stdout"
        }
      ]
    },
    {
      "cell_type": "markdown",
      "metadata": {
        "id": "TMZMoyAPTOvg"
      },
      "source": [
        "# いまここ\n",
        "\n",
        "http://learnyouahaskell.com/starting-out#babys-first-functions"
      ]
    },
    {
      "cell_type": "code",
      "metadata": {
        "colab": {
          "base_uri": "https://localhost:8080/"
        },
        "id": "hEIy4RgTGV4D",
        "outputId": "5c672f44-3c42-49d7-9890-116b2c8349cd"
      },
      "source": [
        "!ghc -e 'sum [5,2,1,6,3,2,5,7]'\n",
        "!ghc -e 'product [6,2,1,2]  '\n",
        "!ghc -e 'product [1,2,5,6,7,9,2,0]  '"
      ],
      "execution_count": 95,
      "outputs": [
        {
          "output_type": "stream",
          "text": [
            "31\n",
            "24\n",
            "0\n"
          ],
          "name": "stdout"
        }
      ]
    },
    {
      "cell_type": "code",
      "metadata": {
        "colab": {
          "base_uri": "https://localhost:8080/"
        },
        "id": "6wDxixWAGtXO",
        "outputId": "262bdad1-e197-45d0-eb5c-ac13338bd1d4"
      },
      "source": [
        "!ghc -e 'elem 4 [3,4,5,6]  '\n",
        "!ghc -e 'elem 10 [3,4,5,6] '"
      ],
      "execution_count": 96,
      "outputs": [
        {
          "output_type": "stream",
          "text": [
            "True\n",
            "False\n"
          ],
          "name": "stdout"
        }
      ]
    },
    {
      "cell_type": "markdown",
      "metadata": {
        "id": "sYQTtxMuHGDf"
      },
      "source": [
        "# range"
      ]
    },
    {
      "cell_type": "code",
      "metadata": {
        "colab": {
          "base_uri": "https://localhost:8080/"
        },
        "id": "g2AGs_jNHip6",
        "outputId": "21071462-2ca9-482a-d6e4-277df8bf7277"
      },
      "source": [
        "!ghc -e $'[1..20]  '\n",
        "!ghc -e $'[\\'a\\'..\\'z\\']  '\n",
        "!ghc -e $'[\\'K\\'..\\'Z\\']  '\n",
        "!ghc -e $'[2,4..20]  '\n",
        "!ghc -e $'[3,6..20]  '\n",
        "!ghc -e $'[20,19..1]'"
      ],
      "execution_count": 99,
      "outputs": [
        {
          "output_type": "stream",
          "text": [
            "[1,2,3,4,5,6,7,8,9,10,11,12,13,14,15,16,17,18,19,20]\n",
            "\"abcdefghijklmnopqrstuvwxyz\"\n",
            "\"KLMNOPQRSTUVWXYZ\"\n",
            "[2,4,6,8,10,12,14,16,18,20]\n",
            "[3,6,9,12,15,18]\n",
            "[20,19,18,17,16,15,14,13,12,11,10,9,8,7,6,5,4,3,2,1]\n"
          ],
          "name": "stdout"
        }
      ]
    },
    {
      "cell_type": "code",
      "metadata": {
        "id": "Kb0ZV1uRfVgq",
        "outputId": "a4fdf6e3-de9c-4ce5-9d27-a6af937a86b1",
        "colab": {
          "base_uri": "https://localhost:8080/"
        }
      },
      "source": [
        "# do not use floating point numbers in ranges\n",
        "!ghc -e '[0.1, 0.3 .. 1] '"
      ],
      "execution_count": 101,
      "outputs": [
        {
          "output_type": "stream",
          "text": [
            "[0.1,0.3,0.5,0.7,0.8999999999999999,1.0999999999999999]\n"
          ],
          "name": "stdout"
        }
      ]
    },
    {
      "cell_type": "code",
      "metadata": {
        "id": "faDphCBjfrOA",
        "outputId": "3f3ac762-b56a-40a4-da25-267897a79389",
        "colab": {
          "base_uri": "https://localhost:8080/"
        }
      },
      "source": [
        "# infinite list\n",
        "!ghc -e 'take 10 [1..]'\n",
        "!ghc -e 'take 10 $ cycle [1,2,3]'\n",
        "!ghc -e 'take 10 (cycle [1,2,3])'\n",
        "!ghc -e 'take 12 (cycle \"LOL \")  '\n",
        "!ghc -e 'take 10 (repeat 5) '\n",
        "\n",
        "!ghc -e 'replicate 3 10'"
      ],
      "execution_count": 107,
      "outputs": [
        {
          "output_type": "stream",
          "text": [
            "[1,2,3,4,5,6,7,8,9,10]\n",
            "[1,2,3,1,2,3,1,2,3,1]\n",
            "[1,2,3,1,2,3,1,2,3,1]\n",
            "\"LOL LOL LOL \"\n",
            "[5,5,5,5,5,5,5,5,5,5]\n",
            "[10,10,10]\n"
          ],
          "name": "stdout"
        }
      ]
    },
    {
      "cell_type": "markdown",
      "metadata": {
        "id": "4YgqZnJMgnui"
      },
      "source": [
        "# 内包表記 list comprehension"
      ]
    },
    {
      "cell_type": "code",
      "metadata": {
        "id": "u1EYZe1Ognc-",
        "outputId": "7d6e9d06-6022-4e8f-b2bb-1d0af0512e36",
        "colab": {
          "base_uri": "https://localhost:8080/"
        }
      },
      "source": [
        "!ghc -e '[x*2 | x <- [1..10]]'\n",
        "!ghc -e '[x*2 | x <- [1..10], x*2 >= 12]'\n",
        "!ghc -e '[ x | x <- [50..100], x `mod` 7 == 3]'"
      ],
      "execution_count": 110,
      "outputs": [
        {
          "output_type": "stream",
          "text": [
            "[2,4,6,8,10,12,14,16,18,20]\n",
            "[12,14,16,18,20]\n",
            "[52,59,66,73,80,87,94]\n"
          ],
          "name": "stdout"
        }
      ]
    },
    {
      "cell_type": "markdown",
      "metadata": {
        "id": "zvrQFVBIIOYx"
      },
      "source": [
        "# いまここ"
      ]
    },
    {
      "cell_type": "code",
      "metadata": {
        "id": "OwzlGCwvGHgS"
      },
      "source": [
        "\n",
        "boomBangs xs = [ if x < 10 then \"BOOM!\" else \"BANG!\" | x <- xs, odd x]   \n",
        "The last part of the comprehension is the predicate. The function odd returns True on an odd number and False on an even one. The element is included in the list only if all the predicates evaluate to True.\n",
        "\n",
        "ghci> boomBangs [7..13]  \n",
        "[\"BOOM!\",\"BOOM!\",\"BANG!\",\"BANG!\"]   \n",
        "We can include several predicates. If we wanted all numbers from 10 to 20 that are not 13, 15 or 19, we'd do:\n",
        "\n",
        "ghci> [ x | x <- [10..20], x /= 13, x /= 15, x /= 19]  \n",
        "[10,11,12,14,16,17,18,20]  \n",
        "Not only can we have multiple predicates in list comprehensions (an element must satisfy all the predicates to be included in the resulting list), we can also draw from several lists. When drawing from several lists, comprehensions produce all combinations of the given lists and then join them by the output function we supply. A list produced by a comprehension that draws from two lists of length 4 will have a length of 16, provided we don't filter them. If we have two lists, [2,5,10] and [8,10,11] and we want to get the products of all the possible combinations between numbers in those lists, here's what we'd do.\n",
        "\n",
        "ghci> [ x*y | x <- [2,5,10], y <- [8,10,11]]  \n",
        "[16,20,22,40,50,55,80,100,110]   \n",
        "As expected, the length of the new list is 9. What if we wanted all possible products that are more than 50?\n",
        "\n",
        "ghci> [ x*y | x <- [2,5,10], y <- [8,10,11], x*y > 50]  \n",
        "[55,80,100,110]   \n",
        "How about a list comprehension that combines a list of adjectives and a list of nouns … for epic hilarity.\n",
        "\n",
        "ghci> let nouns = [\"hobo\",\"frog\",\"pope\"]  \n",
        "ghci> let adjectives = [\"lazy\",\"grouchy\",\"scheming\"]  \n",
        "ghci> [adjective ++ \" \" ++ noun | adjective <- adjectives, noun <- nouns]  \n",
        "[\"lazy hobo\",\"lazy frog\",\"lazy pope\",\"grouchy hobo\",\"grouchy frog\",  \n",
        "\"grouchy pope\",\"scheming hobo\",\"scheming frog\",\"scheming pope\"]   \n",
        "I know! Let's write our own version of length! We'll call it length'.\n",
        "\n",
        "length' xs = sum [1 | _ <- xs]   \n",
        "_ means that we don't care what we'll draw from the list anyway so instead of writing a variable name that we'll never use, we just write _. This function replaces every element of a list with 1 and then sums that up. This means that the resulting sum will be the length of our list.\n",
        "\n",
        "Just a friendly reminder: because strings are lists, we can use list comprehensions to process and produce strings. Here's a function that takes a string and removes everything except uppercase letters from it.\n",
        "\n",
        "removeNonUppercase st = [ c | c <- st, c `elem` ['A'..'Z']]   \n",
        "Testing it out:\n",
        "\n",
        "ghci> removeNonUppercase \"Hahaha! Ahahaha!\"  \n",
        "\"HA\"  \n",
        "ghci> removeNonUppercase \"IdontLIKEFROGS\"  \n",
        "\"ILIKEFROGS\"   \n",
        "The predicate here does all the work. It says that the character will be included in the new list only if it's an element of the list ['A'..'Z']. Nested list comprehensions are also possible if you're operating on lists that contain lists. A list contains several lists of numbers. Let's remove all odd numbers without flattening the list.\n",
        "\n",
        "ghci> let xxs = [[1,3,5,2,3,1,2,4,5],[1,2,3,4,5,6,7,8,9],[1,2,4,2,1,6,3,1,3,2,3,6]]  \n",
        "ghci> [ [ x | x <- xs, even x ] | xs <- xxs]  \n",
        "[[2,2,4],[2,4,6,8],[2,4,2,6,2,6]]  \n",
        "You can write list comprehensions across several lines. So if you're not in GHCI, it's better to split longer list comprehensions across multiple lines, especially if they're nested.\n",
        "\n",
        "Tuples\n",
        "tuples\n",
        "In some ways, tuples are like lists — they are a way to store several values into a single value. However, there are a few fundamental differences. A list of numbers is a list of numbers. That's its type and it doesn't matter if it has only one number in it or an infinite amount of numbers. Tuples, however, are used when you know exactly how many values you want to combine and its type depends on how many components it has and the types of the components. They are denoted with parentheses and their components are separated by commas.\n",
        "\n",
        "Another key difference is that they don't have to be homogenous. Unlike a list, a tuple can contain a combination of several types.\n",
        "\n",
        "Think about how we'd represent a two-dimensional vector in Haskell. One way would be to use a list. That would kind of work. So what if we wanted to put a couple of vectors in a list to represent points of a shape on a two-dimensional plane? We could do something like [[1,2],[8,11],[4,5]]. The problem with that method is that we could also do stuff like [[1,2],[8,11,5],[4,5]], which Haskell has no problem with since it's still a list of lists with numbers but it kind of doesn't make sense. But a tuple of size two (also called a pair) is its own type, which means that a list can't have a couple of pairs in it and then a triple (a tuple of size three), so let's use that instead. Instead of surrounding the vectors with square brackets, we use parentheses: [(1,2),(8,11),(4,5)]. What if we tried to make a shape like [(1,2),(8,11,5),(4,5)]? Well, we'd get this error:\n",
        "\n",
        "Couldn't match expected type `(t, t1)'  \n",
        "against inferred type `(t2, t3, t4)'  \n",
        "In the expression: (8, 11, 5)  \n",
        "In the expression: [(1, 2), (8, 11, 5), (4, 5)]  \n",
        "In the definition of `it': it = [(1, 2), (8, 11, 5), (4, 5)]  \n",
        "It's telling us that we tried to use a pair and a triple in the same list, which is not supposed to happen. You also couldn't make a list like [(1,2),(\"One\",2)] because the first element of the list is a pair of numbers and the second element is a pair consisting of a string and a number. Tuples can also be used to represent a wide variety of data. For instance, if we wanted to represent someone's name and age in Haskell, we could use a triple: (\"Christopher\", \"Walken\", 55). As seen in this example, tuples can also contain lists.\n",
        "\n",
        "Use tuples when you know in advance how many components some piece of data should have. Tuples are much more rigid because each different size of tuple is its own type, so you can't write a general function to append an element to a tuple — you'd have to write a function for appending to a pair, one function for appending to a triple, one function for appending to a 4-tuple, etc.\n",
        "\n",
        "While there are singleton lists, there's no such thing as a singleton tuple. It doesn't really make much sense when you think about it. A singleton tuple would just be the value it contains and as such would have no benefit to us.\n",
        "\n",
        "Like lists, tuples can be compared with each other if their components can be compared. Only you can't compare two tuples of different sizes, whereas you can compare two lists of different sizes. Two useful functions that operate on pairs:\n",
        "\n",
        "fst takes a pair and returns its first component.\n",
        "\n",
        "ghci> fst (8,11)  \n",
        "8  \n",
        "ghci> fst (\"Wow\", False)  \n",
        "\"Wow\"  \n",
        "snd takes a pair and returns its second component. Surprise!\n",
        "\n",
        "ghci> snd (8,11)  \n",
        "11  \n",
        "ghci> snd (\"Wow\", False)  \n",
        "False  \n",
        "Note: these functions operate only on pairs. They won't work on triples, 4-tuples, 5-tuples, etc. We'll go over extracting data from tuples in different ways a bit later.\n",
        "A cool function that produces a list of pairs: zip. It takes two lists and then zips them together into one list by joining the matching elements into pairs. It's a really simple function but it has loads of uses. It's especially useful for when you want to combine two lists in a way or traverse two lists simultaneously. Here's a demonstration.\n",
        "\n",
        "ghci> zip [1,2,3,4,5] [5,5,5,5,5]  \n",
        "[(1,5),(2,5),(3,5),(4,5),(5,5)]  \n",
        "ghci> zip [1 .. 5] [\"one\", \"two\", \"three\", \"four\", \"five\"]  \n",
        "[(1,\"one\"),(2,\"two\"),(3,\"three\"),(4,\"four\"),(5,\"five\")]  \n",
        "It pairs up the elements and produces a new list. The first element goes with the first, the second with the second, etc. Notice that because pairs can have different types in them, zip can take two lists that contain different types and zip them up. What happens if the lengths of the lists don't match?\n",
        "\n",
        "ghci> zip [5,3,2,6,2,7,2,5,4,6,6] [\"im\",\"a\",\"turtle\"]  \n",
        "[(5,\"im\"),(3,\"a\"),(2,\"turtle\")]  \n",
        "The longer list simply gets cut off to match the length of the shorter one. Because Haskell is lazy, we can zip finite lists with infinite lists:\n",
        "\n",
        "ghci> zip [1..] [\"apple\", \"orange\", \"cherry\", \"mango\"]  \n",
        "[(1,\"apple\"),(2,\"orange\"),(3,\"cherry\"),(4,\"mango\")]  \n",
        "look at meee\n",
        "Here's a problem that combines tuples and list comprehensions: which right triangle that has integers for all sides and all sides equal to or smaller than 10 has a perimeter of 24? First, let's try generating all triangles with sides equal to or smaller than 10:\n",
        "\n",
        "ghci> let triangles = [ (a,b,c) | c <- [1..10], b <- [1..10], a <- [1..10] ]   \n",
        "We're just drawing from three lists and our output function is combining them into a triple. If you evaluate that by typing out triangles in GHCI, you'll get a list of all possible triangles with sides under or equal to 10. Next, we'll add a condition that they all have to be right triangles. We'll also modify this function by taking into consideration that side b isn't larger than the hypothenuse and that side a isn't larger than side b.\n",
        "\n",
        "ghci> let rightTriangles = [ (a,b,c) | c <- [1..10], b <- [1..c], a <- [1..b], a^2 + b^2 == c^2]   \n",
        "We're almost done. Now, we just modify the function by saying that we want the ones where the perimeter is 24.\n",
        "\n",
        "ghci> let rightTriangles' = [ (a,b,c) | c <- [1..10], b <- [1..c], a <- [1..b], a^2 + b^2 == c^2, a+b+c == 24]  \n",
        "ghci> rightTriangles'  \n",
        "[(6,8,10)]  \n",
        "And there's our answer! This is a common pattern in functional programming. You take a starting set of solutions and then you apply transformations to those solutions and filter them until you get the right ones."
      ],
      "execution_count": null,
      "outputs": []
    },
    {
      "cell_type": "markdown",
      "metadata": {
        "id": "NouZ41W-GA-U"
      },
      "source": [
        "maximum takes a list of stuff that can be put in some kind of order and returns the biggest element.\n",
        "\n",
        "minimum returns the smallest.\n",
        "\n",
        "ghci> minimum [8,4,2,1,5,6]  \n",
        "1  \n",
        "ghci> maximum [1,9,2,3,4]  \n",
        "9   \n",
        "sum takes a list of numbers and returns their sum.\n",
        "\n",
        "product takes a list of numbers and returns their product.\n",
        "\n",
        "ghci> sum [5,2,1,6,3,2,5,7]  \n",
        "31  \n",
        "ghci> product [6,2,1,2]  \n",
        "24  \n",
        "ghci> product [1,2,5,6,7,9,2,0]  \n",
        "0   \n",
        "elem takes a thing and a list of things and tells us if that thing is an element of the list. It's usually called as an infix function because it's easier to read that way.\n",
        "\n",
        "ghci> 4 `elem` [3,4,5,6]  \n",
        "True  \n",
        "ghci> 10 `elem` [3,4,5,6]  \n",
        "False  \n",
        "Those were a few basic functions that operate on lists. We'll take a look at more list functions later\n",
        "\n",
        "Texas ranges\n",
        "drawWhat if we want a list of all numbers between 1 and 20? Sure, we could just type them all out but obviously that's not a solution for gentlemen who demand excellence from their programming languages. Instead, we'll use ranges. Ranges are a way of making lists that are arithmetic sequences of elements that can be enumerated. Numbers can be enumerated. One, two, three, four, etc. Characters can also be enumerated. The alphabet is an enumeration of characters from A to Z. Names can't be enumerated. What comes after \"John\"? I don't know.\n",
        "\n",
        "To make a list containing all the natural numbers from 1 to 20, you just write [1..20]. That is the equivalent of writing [1,2,3,4,5,6,7,8,9,10,11,12,13,14,15,16,17,18,19,20] and there's no difference between writing one or the other except that writing out long enumeration sequences manually is stupid.\n",
        "\n",
        "ghci> [1..20]  \n",
        "[1,2,3,4,5,6,7,8,9,10,11,12,13,14,15,16,17,18,19,20]  \n",
        "ghci> ['a'..'z']  \n",
        "\"abcdefghijklmnopqrstuvwxyz\"  \n",
        "ghci> ['K'..'Z']  \n",
        "\"KLMNOPQRSTUVWXYZ\"   \n",
        "Ranges are cool because you can also specify a step. What if we want all even numbers between 1 and 20? Or every third number between 1 and 20?\n",
        "\n",
        "ghci> [2,4..20]  \n",
        "[2,4,6,8,10,12,14,16,18,20]  \n",
        "ghci> [3,6..20]  \n",
        "[3,6,9,12,15,18]   \n",
        "It's simply a matter of separating the first two elements with a comma and then specifying what the upper limit is. While pretty smart, ranges with steps aren't as smart as some people expect them to be. You can't do [1,2,4,8,16..100] and expect to get all the powers of 2. Firstly because you can only specify one step. And secondly because some sequences that aren't arithmetic are ambiguous if given only by a few of their first terms.\n",
        "\n",
        "To make a list with all the numbers from 20 to 1, you can't just do [20..1], you have to do [20,19..1].\n",
        "\n",
        "Watch out when using floating point numbers in ranges! Because they are not completely precise (by definition), their use in ranges can yield some pretty funky results.\n",
        "\n",
        "ghci> [0.1, 0.3 .. 1]  \n",
        "[0.1,0.3,0.5,0.7,0.8999999999999999,1.0999999999999999]  \n",
        "My advice is not to use them in list ranges.\n",
        "\n",
        "You can also use ranges to make infinite lists by just not specifying an upper limit. Later we'll go into more detail on infinite lists. For now, let's examine how you would get the first 24 multiples of 13. Sure, you could do [13,26..24*13]. But there's a better way: take 24 [13,26..]. Because Haskell is lazy, it won't try to evaluate the infinite list immediately because it would never finish. It'll wait to see what you want to get out of that infinite lists. And here it sees you just want the first 24 elements and it gladly obliges.\n",
        "\n",
        "A handful of functions that produce infinite lists:\n",
        "\n",
        "cycle takes a list and cycles it into an infinite list. If you just try to display the result, it will go on forever so you have to slice it off somewhere.\n",
        "\n",
        "ghci> take 10 (cycle [1,2,3])  \n",
        "[1,2,3,1,2,3,1,2,3,1]  \n",
        "ghci> take 12 (cycle \"LOL \")  \n",
        "\"LOL LOL LOL \"   \n",
        "repeat takes an element and produces an infinite list of just that element. It's like cycling a list with only one element.\n",
        "\n",
        "ghci> take 10 (repeat 5)  \n",
        "[5,5,5,5,5,5,5,5,5,5]  \n",
        "Although it's simpler to just use the replicate function if you want some number of the same element in a list. replicate 3 10 returns [10,10,10].\n",
        "\n",
        "I'm a list comprehension\n",
        "frogIf you've ever taken a course in mathematics, you've probably run into set comprehensions. They're normally used for building more specific sets out of general sets. A basic comprehension for a set that contains the first ten even natural numbers is set notation. The part before the pipe is called the output function, x is the variable, N is the input set and x <= 10 is the predicate. That means that the set contains the doubles of all natural numbers that satisfy the predicate.\n",
        "\n",
        "If we wanted to write that in Haskell, we could do something like take 10 [2,4..]. But what if we didn't want doubles of the first 10 natural numbers but some kind of more complex function applied on them? We could use a list comprehension for that. List comprehensions are very similar to set comprehensions. We'll stick to getting the first 10 even numbers for now. The list comprehension we could use is [x*2 | x <- [1..10]]. x is drawn from [1..10] and for every element in [1..10] (which we have bound to x), we get that element, only doubled. Here's that comprehension in action.\n",
        "\n",
        "ghci> [x*2 | x <- [1..10]]  \n",
        "[2,4,6,8,10,12,14,16,18,20]  \n",
        "As you can see, we get the desired results. Now let's add a condition (or a predicate) to that comprehension. Predicates go after the binding parts and are separated from them by a comma. Let's say we want only the elements which, doubled, are greater than or equal to 12.\n",
        "\n",
        "ghci> [x*2 | x <- [1..10], x*2 >= 12]  \n",
        "[12,14,16,18,20]  \n",
        "Cool, it works. How about if we wanted all numbers from 50 to 100 whose remainder when divided with the number 7 is 3? Easy.\n",
        "\n",
        "ghci> [ x | x <- [50..100], x `mod` 7 == 3]  \n",
        "[52,59,66,73,80,87,94]   \n",
        "Success! Note that weeding out lists by predicates is also called filtering. We took a list of numbers and we filtered them by the predicate. Now for another example. Let's say we want a comprehension that replaces each odd number greater than 10 with \"BANG!\" and each odd number that's less than 10 with \"BOOM!\". If a number isn't odd, we throw it out of our list. For convenience, we'll put that comprehension inside a function so we can easily reuse it.\n",
        "\n",
        "boomBangs xs = [ if x < 10 then \"BOOM!\" else \"BANG!\" | x <- xs, odd x]   \n",
        "The last part of the comprehension is the predicate. The function odd returns True on an odd number and False on an even one. The element is included in the list only if all the predicates evaluate to True.\n",
        "\n",
        "ghci> boomBangs [7..13]  \n",
        "[\"BOOM!\",\"BOOM!\",\"BANG!\",\"BANG!\"]   \n",
        "We can include several predicates. If we wanted all numbers from 10 to 20 that are not 13, 15 or 19, we'd do:\n",
        "\n",
        "ghci> [ x | x <- [10..20], x /= 13, x /= 15, x /= 19]  \n",
        "[10,11,12,14,16,17,18,20]  \n",
        "Not only can we have multiple predicates in list comprehensions (an element must satisfy all the predicates to be included in the resulting list), we can also draw from several lists. When drawing from several lists, comprehensions produce all combinations of the given lists and then join them by the output function we supply. A list produced by a comprehension that draws from two lists of length 4 will have a length of 16, provided we don't filter them. If we have two lists, [2,5,10] and [8,10,11] and we want to get the products of all the possible combinations between numbers in those lists, here's what we'd do.\n",
        "\n",
        "ghci> [ x*y | x <- [2,5,10], y <- [8,10,11]]  \n",
        "[16,20,22,40,50,55,80,100,110]   \n",
        "As expected, the length of the new list is 9. What if we wanted all possible products that are more than 50?\n",
        "\n",
        "ghci> [ x*y | x <- [2,5,10], y <- [8,10,11], x*y > 50]  \n",
        "[55,80,100,110]   \n",
        "How about a list comprehension that combines a list of adjectives and a list of nouns … for epic hilarity.\n",
        "\n",
        "ghci> let nouns = [\"hobo\",\"frog\",\"pope\"]  \n",
        "ghci> let adjectives = [\"lazy\",\"grouchy\",\"scheming\"]  \n",
        "ghci> [adjective ++ \" \" ++ noun | adjective <- adjectives, noun <- nouns]  \n",
        "[\"lazy hobo\",\"lazy frog\",\"lazy pope\",\"grouchy hobo\",\"grouchy frog\",  \n",
        "\"grouchy pope\",\"scheming hobo\",\"scheming frog\",\"scheming pope\"]   \n",
        "I know! Let's write our own version of length! We'll call it length'.\n",
        "\n",
        "length' xs = sum [1 | _ <- xs]   \n",
        "_ means that we don't care what we'll draw from the list anyway so instead of writing a variable name that we'll never use, we just write _. This function replaces every element of a list with 1 and then sums that up. This means that the resulting sum will be the length of our list.\n",
        "\n",
        "Just a friendly reminder: because strings are lists, we can use list comprehensions to process and produce strings. Here's a function that takes a string and removes everything except uppercase letters from it.\n",
        "\n",
        "removeNonUppercase st = [ c | c <- st, c `elem` ['A'..'Z']]   \n",
        "Testing it out:\n",
        "\n",
        "ghci> removeNonUppercase \"Hahaha! Ahahaha!\"  \n",
        "\"HA\"  \n",
        "ghci> removeNonUppercase \"IdontLIKEFROGS\"  \n",
        "\"ILIKEFROGS\"   \n",
        "The predicate here does all the work. It says that the character will be included in the new list only if it's an element of the list ['A'..'Z']. Nested list comprehensions are also possible if you're operating on lists that contain lists. A list contains several lists of numbers. Let's remove all odd numbers without flattening the list.\n",
        "\n",
        "ghci> let xxs = [[1,3,5,2,3,1,2,4,5],[1,2,3,4,5,6,7,8,9],[1,2,4,2,1,6,3,1,3,2,3,6]]  \n",
        "ghci> [ [ x | x <- xs, even x ] | xs <- xxs]  \n",
        "[[2,2,4],[2,4,6,8],[2,4,2,6,2,6]]  \n",
        "You can write list comprehensions across several lines. So if you're not in GHCI, it's better to split longer list comprehensions across multiple lines, especially if they're nested.\n",
        "\n",
        "Tuples\n",
        "tuples\n",
        "In some ways, tuples are like lists — they are a way to store several values into a single value. However, there are a few fundamental differences. A list of numbers is a list of numbers. That's its type and it doesn't matter if it has only one number in it or an infinite amount of numbers. Tuples, however, are used when you know exactly how many values you want to combine and its type depends on how many components it has and the types of the components. They are denoted with parentheses and their components are separated by commas.\n",
        "\n",
        "Another key difference is that they don't have to be homogenous. Unlike a list, a tuple can contain a combination of several types.\n",
        "\n",
        "Think about how we'd represent a two-dimensional vector in Haskell. One way would be to use a list. That would kind of work. So what if we wanted to put a couple of vectors in a list to represent points of a shape on a two-dimensional plane? We could do something like [[1,2],[8,11],[4,5]]. The problem with that method is that we could also do stuff like [[1,2],[8,11,5],[4,5]], which Haskell has no problem with since it's still a list of lists with numbers but it kind of doesn't make sense. But a tuple of size two (also called a pair) is its own type, which means that a list can't have a couple of pairs in it and then a triple (a tuple of size three), so let's use that instead. Instead of surrounding the vectors with square brackets, we use parentheses: [(1,2),(8,11),(4,5)]. What if we tried to make a shape like [(1,2),(8,11,5),(4,5)]? Well, we'd get this error:\n",
        "\n",
        "Couldn't match expected type `(t, t1)'  \n",
        "against inferred type `(t2, t3, t4)'  \n",
        "In the expression: (8, 11, 5)  \n",
        "In the expression: [(1, 2), (8, 11, 5), (4, 5)]  \n",
        "In the definition of `it': it = [(1, 2), (8, 11, 5), (4, 5)]  \n",
        "It's telling us that we tried to use a pair and a triple in the same list, which is not supposed to happen. You also couldn't make a list like [(1,2),(\"One\",2)] because the first element of the list is a pair of numbers and the second element is a pair consisting of a string and a number. Tuples can also be used to represent a wide variety of data. For instance, if we wanted to represent someone's name and age in Haskell, we could use a triple: (\"Christopher\", \"Walken\", 55). As seen in this example, tuples can also contain lists.\n",
        "\n",
        "Use tuples when you know in advance how many components some piece of data should have. Tuples are much more rigid because each different size of tuple is its own type, so you can't write a general function to append an element to a tuple — you'd have to write a function for appending to a pair, one function for appending to a triple, one function for appending to a 4-tuple, etc.\n",
        "\n",
        "While there are singleton lists, there's no such thing as a singleton tuple. It doesn't really make much sense when you think about it. A singleton tuple would just be the value it contains and as such would have no benefit to us.\n",
        "\n",
        "Like lists, tuples can be compared with each other if their components can be compared. Only you can't compare two tuples of different sizes, whereas you can compare two lists of different sizes. Two useful functions that operate on pairs:\n",
        "\n",
        "fst takes a pair and returns its first component.\n",
        "\n",
        "ghci> fst (8,11)  \n",
        "8  \n",
        "ghci> fst (\"Wow\", False)  \n",
        "\"Wow\"  \n",
        "snd takes a pair and returns its second component. Surprise!\n",
        "\n",
        "ghci> snd (8,11)  \n",
        "11  \n",
        "ghci> snd (\"Wow\", False)  \n",
        "False  \n",
        "Note: these functions operate only on pairs. They won't work on triples, 4-tuples, 5-tuples, etc. We'll go over extracting data from tuples in different ways a bit later.\n",
        "A cool function that produces a list of pairs: zip. It takes two lists and then zips them together into one list by joining the matching elements into pairs. It's a really simple function but it has loads of uses. It's especially useful for when you want to combine two lists in a way or traverse two lists simultaneously. Here's a demonstration.\n",
        "\n",
        "ghci> zip [1,2,3,4,5] [5,5,5,5,5]  \n",
        "[(1,5),(2,5),(3,5),(4,5),(5,5)]  \n",
        "ghci> zip [1 .. 5] [\"one\", \"two\", \"three\", \"four\", \"five\"]  \n",
        "[(1,\"one\"),(2,\"two\"),(3,\"three\"),(4,\"four\"),(5,\"five\")]  \n",
        "It pairs up the elements and produces a new list. The first element goes with the first, the second with the second, etc. Notice that because pairs can have different types in them, zip can take two lists that contain different types and zip them up. What happens if the lengths of the lists don't match?\n",
        "\n",
        "ghci> zip [5,3,2,6,2,7,2,5,4,6,6] [\"im\",\"a\",\"turtle\"]  \n",
        "[(5,\"im\"),(3,\"a\"),(2,\"turtle\")]  \n",
        "The longer list simply gets cut off to match the length of the shorter one. Because Haskell is lazy, we can zip finite lists with infinite lists:\n",
        "\n",
        "ghci> zip [1..] [\"apple\", \"orange\", \"cherry\", \"mango\"]  \n",
        "[(1,\"apple\"),(2,\"orange\"),(3,\"cherry\"),(4,\"mango\")]  \n",
        "look at meee\n",
        "Here's a problem that combines tuples and list comprehensions: which right triangle that has integers for all sides and all sides equal to or smaller than 10 has a perimeter of 24? First, let's try generating all triangles with sides equal to or smaller than 10:\n",
        "\n",
        "ghci> let triangles = [ (a,b,c) | c <- [1..10], b <- [1..10], a <- [1..10] ]   \n",
        "We're just drawing from three lists and our output function is combining them into a triple. If you evaluate that by typing out triangles in GHCI, you'll get a list of all possible triangles with sides under or equal to 10. Next, we'll add a condition that they all have to be right triangles. We'll also modify this function by taking into consideration that side b isn't larger than the hypothenuse and that side a isn't larger than side b.\n",
        "\n",
        "ghci> let rightTriangles = [ (a,b,c) | c <- [1..10], b <- [1..c], a <- [1..b], a^2 + b^2 == c^2]   \n",
        "We're almost done. Now, we just modify the function by saying that we want the ones where the perimeter is 24.\n",
        "\n",
        "ghci> let rightTriangles' = [ (a,b,c) | c <- [1..10], b <- [1..c], a <- [1..b], a^2 + b^2 == c^2, a+b+c == 24]  \n",
        "ghci> rightTriangles'  \n",
        "[(6,8,10)]  \n",
        "And there's our answer! This is a common pattern in functional programming. You take a starting set of solutions and then you apply transformations to those solutions and filter them until you get the right ones."
      ]
    }
  ]
}