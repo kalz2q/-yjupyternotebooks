{
  "nbformat": 4,
  "nbformat_minor": 0,
  "metadata": {
    "colab": {
      "name": "learnhaskell.ipynb",
      "provenance": [],
      "toc_visible": true,
      "authorship_tag": "ABX9TyPTRiduTAUYtrJzjCp2RfLO",
      "include_colab_link": true
    },
    "kernelspec": {
      "name": "python3",
      "display_name": "Python 3"
    }
  },
  "cells": [
    {
      "cell_type": "markdown",
      "metadata": {
        "id": "view-in-github",
        "colab_type": "text"
      },
      "source": [
        "<a href=\"https://colab.research.google.com/github/kalz2q/mycolabnotebooks/blob/master/learnhaskell.ipynb\" target=\"_parent\"><img src=\"https://colab.research.google.com/assets/colab-badge.svg\" alt=\"Open In Colab\"/></a>"
      ]
    },
    {
      "cell_type": "markdown",
      "metadata": {
        "id": "2iY_Spz7PuEV"
      },
      "source": [
        "# はじめに"
      ]
    },
    {
      "cell_type": "code",
      "metadata": {
        "id": "6xB6iT_D_V8D"
      },
      "source": [
        "# haskell をインストールする\n",
        "%%capture\n",
        "!apt install haskell-platform"
      ],
      "execution_count": 1,
      "outputs": []
    },
    {
      "cell_type": "markdown",
      "metadata": {
        "id": "npDz1ryYbkrF"
      },
      "source": [
        "参考\n",
        "1. とりあえずは Haskell の入門書や入門サイトからサンプルプログラムを入力してみる。\n",
        "1. Meta-tutorial  \n",
        "https://wiki.haskell.org/Meta-tutorial\n",
        "1. ワンライナー的実行  \n",
        "https://haskell.jp/blog/posts/2017/08-ghc-4way-execution.html#ワンライナー的実行\n",
        "1. Learn You A Haskell For Great Good! (http://learnyouahaskell.com/)  \n",
        "1. A Gentle Introduction to Haskell (https://www.haskell.org/tutorial/)\n",
        "1. Yet Another Haskell Tutorial (http://users.umiacs.umd.edu/~hal/docs/daume02yaht.pdf)\n",
        "1. https://wiki.haskell.org/How_to_work_on_lists\n",
        "1. https://wiki.haskell.org/Applications_and_libraries/Data_structures\n",
        "1. https://wiki.haskell.org/Applications_and_libraries/Concurrency_and_parallelism\n",
        "1. https://wiki.haskell.org/Applications_and_libraries/GUI_libraries\n",
        "1. https://wiki.haskell.org/Applications_and_libraries/Network\n",
        "1. https://wiki.haskell.org/QuickCheck\n",
        "1. https://wiki.haskell.org/HUnit_1.0_User%27s_Guide\n",
        "1. https://wiki.haskell.org/Regex_Posix\n",
        "\n",
        "\n",
        "\n",
        "  \n",
        "  \n"
      ]
    },
    {
      "cell_type": "code",
      "metadata": {
        "id": "f833IGbAwxVZ",
        "colab": {
          "base_uri": "https://localhost:8080/"
        },
        "outputId": "3fd52fa7-d699-4109-c451-1bf153a26829"
      },
      "source": [
        "# シェルでコマンドラインワンライナーを実行する\n",
        "!ghc -e 'putStrLn \"hello world!\"'"
      ],
      "execution_count": null,
      "outputs": [
        {
          "output_type": "stream",
          "name": "stdout",
          "text": [
            "hello world!\n"
          ]
        }
      ]
    },
    {
      "cell_type": "code",
      "metadata": {
        "id": "Ba2HY_gpTx4I"
      },
      "source": [
        "# プログラムファイルを作って、次のセルで実行する\n",
        "%%writefile temp.hs\n",
        "main = putStrLn \"hello, world\""
      ],
      "execution_count": null,
      "outputs": []
    },
    {
      "cell_type": "code",
      "metadata": {
        "id": "SvIkXNjIU6iv"
      },
      "source": [
        "# ファイルを実行する\n",
        "!runghc temp.hs"
      ],
      "execution_count": null,
      "outputs": []
    },
    {
      "cell_type": "code",
      "source": [
        "%%html\n",
        "<table border=\"1\">\n",
        "<thead>\n",
        "<tr><th>キーボードショートカット </th><th> 作  用 </th></tr>\n",
        "</thead>\n",
        "<tbody>\n",
        "<tr><td>Shift+Enter </td><td> 実行して次のセルに移る </td></tr>\n",
        "<tr><td>Ctrl+Enter </td><td> 実行してそのセルに留まる </td></tr>\n",
        "<tr><td>Alt+Enter </td><td> 実行して次に新しいセルを作って移る </td></tr>\n",
        "<tr><td>Enter </td><td> セルを編集する </td></tr>\n",
        "<tr><td>Ctrl+Shift+Enter </td><td> 選択範囲を全て実行する </td></tr>\n",
        "<tr><td>Ctrl+Shift+- </td><td> カーサーポジションでセルを分割する</td></tr>\n",
        "</tbody>\n",
        "</table>"
      ],
      "metadata": {
        "colab": {
          "base_uri": "https://localhost:8080/",
          "height": 181
        },
        "id": "TcOoDsD5V736",
        "outputId": "f24f8ce9-ad88-441c-d94b-624be3470252"
      },
      "execution_count": null,
      "outputs": [
        {
          "output_type": "display_data",
          "data": {
            "text/plain": [
              "<IPython.core.display.HTML object>"
            ],
            "text/html": [
              "<table border=\"1\">\n",
              "<thead>\n",
              "<tr><th>キーボードショートカット </th><th> 作  用 </th></tr>\n",
              "</thead>\n",
              "<tbody>\n",
              "<tr><td>Shift+Enter </td><td> 実行して次のセルに移る </td></tr>\n",
              "<tr><td>Ctrl+Enter </td><td> 実行してそのセルに留まる </td></tr>\n",
              "<tr><td>Alt+Enter </td><td> 実行して次に新しいセルを作って移る </td></tr>\n",
              "<tr><td>Enter </td><td> セルを編集する </td></tr>\n",
              "<tr><td>Ctrl+Shift+Enter </td><td> 選択範囲を全て実行する </td></tr>\n",
              "<tr><td>Ctrl+Shift+- </td><td> カーサーポジションでセルを分割する</td></tr>\n",
              "</tbody>\n",
              "</table>"
            ]
          },
          "metadata": {}
        }
      ]
    },
    {
      "cell_type": "code",
      "metadata": {
        "id": "lWcYdzaZh0Id"
      },
      "source": [
        "# ユーザーとのやり取りもできるが、Colab では使わない\n",
        "%%script false\n",
        "!ghc -e \"interact (unlines.map reverse.lines)\"\n",
        "!ghc -e \"getContents >>= mapM_ putStrLn.map reverse.lines\""
      ],
      "execution_count": null,
      "outputs": []
    },
    {
      "cell_type": "code",
      "source": [
        "# シェルの echo の出力をパイプ `|` で受ける、標準入力\n",
        "!echo \"this is a pen\" | ghc -e \"getContents >>= putStrLn\""
      ],
      "metadata": {
        "id": "z25E2X5cjh2Y",
        "outputId": "4af9c5c3-2da4-4e34-9582-9dc029ccf8a9",
        "colab": {
          "base_uri": "https://localhost:8080/"
        }
      },
      "execution_count": null,
      "outputs": [
        {
          "output_type": "stream",
          "name": "stdout",
          "text": [
            "this is a pen\n",
            "\n"
          ]
        }
      ]
    },
    {
      "cell_type": "code",
      "source": [
        "# echo で複数行の入力も出来る\n",
        "!echo -e 'this is a pen\\nabcdef\\n12345'"
      ],
      "metadata": {
        "colab": {
          "base_uri": "https://localhost:8080/"
        },
        "id": "KsHYgPehoK7l",
        "outputId": "69dff497-e1b4-45dc-9656-6be25bab43ec"
      },
      "execution_count": null,
      "outputs": [
        {
          "output_type": "stream",
          "name": "stdout",
          "text": [
            "this is a pen\n",
            "abcdef\n",
            "12345\n"
          ]
        }
      ]
    },
    {
      "cell_type": "code",
      "metadata": {
        "id": "KKwu4FRKcsNu",
        "outputId": "20a7db30-3627-4e28-a3ff-ca62b7fb423d",
        "colab": {
          "base_uri": "https://localhost:8080/"
        }
      },
      "source": [
        "# echo と getContents を使う\n",
        "# 複数行の入力を、lines で行に分け、それぞれの行に map で reverse をかけ、mapM_ で行ごとに出力する\n",
        "!echo -e 'this is a pen\\nabcdef\\n12345'\n",
        "!echo\n",
        "!echo -e 'this is a pen\\n abcdef\\n12345' | ghc -e \"getContents >>=  mapM_ putStrLn . map reverse.lines\""
      ],
      "execution_count": null,
      "outputs": [
        {
          "output_type": "stream",
          "name": "stdout",
          "text": [
            "this is a pen\n",
            "abcdef\n",
            "12345\n",
            "\n",
            "nep a si siht\n",
            "fedcba \n",
            "54321\n"
          ]
        }
      ]
    },
    {
      "cell_type": "code",
      "metadata": {
        "id": "aI8zFwZDDBwv",
        "colab": {
          "base_uri": "https://localhost:8080/"
        },
        "outputId": "1f277c24-2f1b-4c89-f638-27ac4131ab01"
      },
      "source": [
        "# 実験 コマンドラインワンライナーを普通のプログラムにしてみる\n",
        "%%writefile temp.hs\n",
        "main =\n",
        "  getContents\n",
        "    >>= mapM_ (putStrLn . reverse)\n",
        "      . lines"
      ],
      "execution_count": null,
      "outputs": [
        {
          "output_type": "stream",
          "name": "stdout",
          "text": [
            "Overwriting temp.hs\n"
          ]
        }
      ]
    },
    {
      "cell_type": "code",
      "metadata": {
        "id": "WL3fgLZdDLWO",
        "colab": {
          "base_uri": "https://localhost:8080/"
        },
        "outputId": "76f73e08-4d00-4eaa-c849-0426662fad30"
      },
      "source": [
        "!echo -e 'this is a pen\\nabcdef\\n12345' | runghc temp.hs"
      ],
      "execution_count": null,
      "outputs": [
        {
          "output_type": "stream",
          "name": "stdout",
          "text": [
            "nep a si siht\n",
            "fedcba \n",
            "54321\n"
          ]
        }
      ]
    },
    {
      "cell_type": "code",
      "metadata": {
        "id": "Vv2t7vEGtJWj",
        "colab": {
          "base_uri": "https://localhost:8080/"
        },
        "outputId": "2d5f57b3-72ec-4fac-9762-46aa67f90790"
      },
      "source": [
        "# 実験 lines の代わりに words を使う\n",
        "!echo -e 'this is a pen\\nabcdef\\n12345' | ghc -e 'getContents>>= mapM_(putStrLn.reverse).words'\n",
        "!echo\n",
        "!echo -e 'this is a pen\\nabcdef\\n12345' | ghc -e 'getContents>>= mapM_ putStrLn.map reverse.words'"
      ],
      "execution_count": null,
      "outputs": [
        {
          "output_type": "stream",
          "name": "stdout",
          "text": [
            "siht\n",
            "si\n",
            "a\n",
            "nep\n",
            "fedcba\n",
            "54321\n",
            "\n",
            "siht\n",
            "si\n",
            "a\n",
            "nep\n",
            "fedcba\n",
            "54321\n"
          ]
        }
      ]
    },
    {
      "cell_type": "code",
      "source": [
        "# `putStrLn` と `print` がある。両方共行末の改行は自動で入る\n",
        "# putStrLn は引数が文字列で数値は扱えない。 print は数値でも大丈夫\n",
        "# コーディングには vscode などでプログラムの形で書くと Hlint が使える\n",
        "!echo -e 'this is a pen\\n abcdef\\n12345' | ghc -e 'getContents>>= print.words'\n",
        "!echo -e 'this is a pen\\n abcdef\\n12345' | ghc -e 'getContents>>= print.lines'"
      ],
      "metadata": {
        "id": "ViF69Gd1AQy_",
        "colab": {
          "base_uri": "https://localhost:8080/"
        },
        "outputId": "89ed88b8-5f5c-4385-ada5-96ebec7a38c3"
      },
      "execution_count": null,
      "outputs": [
        {
          "output_type": "stream",
          "name": "stdout",
          "text": [
            "[\"this\",\"is\",\"a\",\"pen\",\"abcdef\",\"12345\"]\n",
            "[\"this is a pen\",\" abcdef\",\"12345\"]\n"
          ]
        }
      ]
    },
    {
      "cell_type": "code",
      "metadata": {
        "id": "BW6_ktjv-GDS",
        "colab": {
          "base_uri": "https://localhost:8080/"
        },
        "outputId": "c4d57986-a8be-4982-d158-cb33f33ccb37"
      },
      "source": [
        "# print は引数をそのまま出力する\n",
        "# putStrLn は改行などを解釈して出力する\n",
        "%%writefile temp.hs\n",
        "main = do\n",
        "  print \"Haskell\\nand\\nPython\"  \n",
        "  putStrLn \"Haskell\\nand\\nPython\"  "
      ],
      "execution_count": null,
      "outputs": [
        {
          "output_type": "stream",
          "name": "stdout",
          "text": [
            "Writing temp.hs\n"
          ]
        }
      ]
    },
    {
      "cell_type": "code",
      "metadata": {
        "id": "BX9GzPza3q1S",
        "colab": {
          "base_uri": "https://localhost:8080/"
        },
        "outputId": "0ea410bc-9a5d-421e-dfe1-e8ddd13cb07d"
      },
      "source": [
        "!runghc temp.hs"
      ],
      "execution_count": null,
      "outputs": [
        {
          "output_type": "stream",
          "name": "stdout",
          "text": [
            "\"Haskell\\nand\\nPython\"\n",
            "Haskell\n",
            "and\n",
            "Python\n"
          ]
        }
      ]
    },
    {
      "cell_type": "code",
      "metadata": {
        "id": "GEUZgmSbxehO",
        "colab": {
          "base_uri": "https://localhost:8080/"
        },
        "outputId": "4916dcd9-edde-4960-a430-d14f235a3415"
      },
      "source": [
        "# 数字を直接 putStrLn の引数にするとエラーになるので show で文字列に変換する\n",
        "# show の反対は read で read は文字列を数値にする\n",
        "!ghc -e 'putStrLn(show(32))'"
      ],
      "execution_count": null,
      "outputs": [
        {
          "output_type": "stream",
          "name": "stdout",
          "text": [
            "32\n"
          ]
        }
      ]
    },
    {
      "cell_type": "code",
      "metadata": {
        "id": "SQhGN8z-EjlV",
        "colab": {
          "base_uri": "https://localhost:8080/"
        },
        "outputId": "d99d24f0-5535-48fe-ae99-fc8d9df47e91"
      },
      "source": [
        "!ghc -e 'print 32'\n",
        "!ghc -e 'print (32, 18)'\n",
        "!ghc -e 'print (32*18)'\n",
        "!ghc -e 'print (show(32*18))'"
      ],
      "execution_count": null,
      "outputs": [
        {
          "output_type": "stream",
          "name": "stdout",
          "text": [
            "32\n",
            "(32,18)\n",
            "576\n",
            "\"576\"\n"
          ]
        }
      ]
    },
    {
      "cell_type": "code",
      "source": [
        "# read は使い方にコツが要りそう\n",
        "!ghc -e 'print \"32\"'\n",
        "!ghc -e 'print ((read::String -> Int) \"32\")'\n",
        "!ghc -e 'read (\"32\") + 0'"
      ],
      "metadata": {
        "colab": {
          "base_uri": "https://localhost:8080/"
        },
        "id": "rVwljePQZ4RC",
        "outputId": "d53cfbed-9a26-4ef9-a003-7c34700167db"
      },
      "execution_count": null,
      "outputs": [
        {
          "output_type": "stream",
          "name": "stdout",
          "text": [
            "\"32\"\n",
            "32\n",
            "32\n"
          ]
        }
      ]
    },
    {
      "cell_type": "code",
      "source": [
        "# Haskell は関数のカッコは省略可能だが、場合によっては必要\n",
        "# `$` による省略も便利なので使うが、エラーの原因にもなる"
      ],
      "metadata": {
        "id": "1hE1az0p-JCH"
      },
      "execution_count": null,
      "outputs": []
    },
    {
      "cell_type": "code",
      "metadata": {
        "id": "FzNpBNRN-UC0",
        "colab": {
          "base_uri": "https://localhost:8080/"
        },
        "outputId": "b8656508-d78e-44dd-924f-54f23095c0ec"
      },
      "source": [
        "%%writefile temp.hs\n",
        "main = \n",
        "  let fac n = if n == 0 then 1 else n * fac (n-1)  \n",
        "  in print ( fac 42 )"
      ],
      "execution_count": null,
      "outputs": [
        {
          "output_type": "stream",
          "name": "stdout",
          "text": [
            "Overwriting temp.hs\n"
          ]
        }
      ]
    },
    {
      "cell_type": "code",
      "metadata": {
        "id": "9OWoPdET4N1E",
        "colab": {
          "base_uri": "https://localhost:8080/"
        },
        "outputId": "181088d4-d958-4d41-ff5b-96158c33e0cc"
      },
      "source": [
        "!runghc temp.hs"
      ],
      "execution_count": null,
      "outputs": [
        {
          "output_type": "stream",
          "name": "stdout",
          "text": [
            "1405006117752879898543142606244511569936384000000000\n"
          ]
        }
      ]
    },
    {
      "cell_type": "code",
      "source": [
        "# do を使ってみる\n",
        "%%writefile temp.hs\n",
        "main = do\n",
        "  let fac n = if n == 0 then 1 else n * fac (n-1)  \n",
        "  print ( fac 42 )"
      ],
      "metadata": {
        "id": "4r8tbrAtDnSn",
        "outputId": "ce176840-a1a7-4776-c657-050754565ed9",
        "colab": {
          "base_uri": "https://localhost:8080/"
        }
      },
      "execution_count": null,
      "outputs": [
        {
          "output_type": "stream",
          "name": "stdout",
          "text": [
            "Overwriting temp.hs\n"
          ]
        }
      ]
    },
    {
      "cell_type": "code",
      "source": [
        "!runghc temp.hs"
      ],
      "metadata": {
        "id": "wfQCypinDozK",
        "outputId": "fc7b8153-4ca1-4440-c302-c2c01065f770",
        "colab": {
          "base_uri": "https://localhost:8080/"
        }
      },
      "execution_count": null,
      "outputs": [
        {
          "output_type": "stream",
          "name": "stdout",
          "text": [
            "1405006117752879898543142606244511569936384000000000\n"
          ]
        }
      ]
    },
    {
      "cell_type": "code",
      "source": [
        "# 定義を外出ししてみる\n",
        "%%writefile temp.hs\n",
        "fac n = if n == 0 then 1 else n * fac (n-1)  \n",
        "\n",
        "main = \n",
        "  print ( fac 42 )"
      ],
      "metadata": {
        "id": "wYdIaWTosSOS",
        "outputId": "2ba0e6f5-3be4-44e7-f5e8-b6a850ce67f5",
        "colab": {
          "base_uri": "https://localhost:8080/"
        }
      },
      "execution_count": null,
      "outputs": [
        {
          "output_type": "stream",
          "name": "stdout",
          "text": [
            "Overwriting temp.hs\n"
          ]
        }
      ]
    },
    {
      "cell_type": "code",
      "source": [
        "!runghc temp.hs"
      ],
      "metadata": {
        "id": "z_5G-QoIsbcC",
        "outputId": "46ca6363-a290-49a1-b520-18d03e19d59e",
        "colab": {
          "base_uri": "https://localhost:8080/"
        }
      },
      "execution_count": null,
      "outputs": [
        {
          "output_type": "stream",
          "name": "stdout",
          "text": [
            "1405006117752879898543142606244511569936384000000000\n"
          ]
        }
      ]
    },
    {
      "cell_type": "code",
      "metadata": {
        "id": "m0M_Is7VcMPU",
        "colab": {
          "base_uri": "https://localhost:8080/"
        },
        "outputId": "af82d099-a423-4183-f224-9ccac7c4a7a9"
      },
      "source": [
        "# コマンドラインワンライナーにする場合は let in とする必要がある\n",
        "!ghc -e \"let fac n = if n == 0 then 1 else n * fac (n-1) in print ( fac 42 )\""
      ],
      "execution_count": null,
      "outputs": [
        {
          "output_type": "stream",
          "name": "stdout",
          "text": [
            "1405006117752879898543142606244511569936384000000000\n"
          ]
        }
      ]
    },
    {
      "cell_type": "code",
      "metadata": {
        "id": "K535VVGH-lD_",
        "colab": {
          "base_uri": "https://localhost:8080/"
        },
        "outputId": "d231fdef-aeb0-420d-8fa0-5ca9bf95c741"
      },
      "source": [
        "# 階乗のことを英語で factorial と言う。\n",
        "# 以下のような関数の作り方をパターンマッチングと言う\n",
        "%%writefile temp.hs\n",
        "fac 0 = 1  \n",
        "fac n = n * fac (n-1)  \n",
        "main = print (fac 42)  "
      ],
      "execution_count": null,
      "outputs": [
        {
          "output_type": "stream",
          "name": "stdout",
          "text": [
            "Overwriting temp.hs\n"
          ]
        }
      ]
    },
    {
      "cell_type": "code",
      "metadata": {
        "id": "_A2BylE4LNzN",
        "colab": {
          "base_uri": "https://localhost:8080/"
        },
        "outputId": "9ae2bda6-2d04-4344-ee5d-fedf9de9118a"
      },
      "source": [
        "!runghc temp.hs"
      ],
      "execution_count": null,
      "outputs": [
        {
          "output_type": "stream",
          "name": "stdout",
          "text": [
            "1405006117752879898543142606244511569936384000000000\n"
          ]
        }
      ]
    },
    {
      "cell_type": "code",
      "metadata": {
        "id": "U5ww5A2IEn-I",
        "colab": {
          "base_uri": "https://localhost:8080/"
        },
        "outputId": "1e1a3dba-a09c-4066-b33f-3924859d0608"
      },
      "source": [
        "# パターンマッチングでコマンドラインワンライナー\n",
        "# 読みにくくなるだけなのでファイルにするべき\n",
        "!ghc -e 'let {fac 0 = 1 ; fac n = n * fac (n-1);} in print (fac 42)'"
      ],
      "execution_count": null,
      "outputs": [
        {
          "output_type": "stream",
          "name": "stdout",
          "text": [
            "1405006117752879898543142606244511569936384000000000\n"
          ]
        }
      ]
    },
    {
      "cell_type": "code",
      "metadata": {
        "id": "bD9ZD8CYF8JT",
        "colab": {
          "base_uri": "https://localhost:8080/"
        },
        "outputId": "0cc5482f-1510-474c-cfb7-9102b4a11b2a"
      },
      "source": [
        "# case 構文を使えるか\n",
        "%%writefile temp.hs\n",
        "fac n = case n of \n",
        "    0 -> 1\n",
        "    _ -> n * fac (n-1)\n",
        "\n",
        "main = print (fac 5)  "
      ],
      "execution_count": null,
      "outputs": [
        {
          "output_type": "stream",
          "name": "stdout",
          "text": [
            "Overwriting temp.hs\n"
          ]
        }
      ]
    },
    {
      "cell_type": "code",
      "metadata": {
        "id": "Ib0R6GvbHlkz",
        "colab": {
          "base_uri": "https://localhost:8080/"
        },
        "outputId": "9bc173c5-62ed-4dee-892d-2deca0c18aa8"
      },
      "source": [
        "!runghc temp.hs"
      ],
      "execution_count": null,
      "outputs": [
        {
          "output_type": "stream",
          "name": "stdout",
          "text": [
            "120\n"
          ]
        }
      ]
    },
    {
      "cell_type": "code",
      "metadata": {
        "id": "I2cm0XoTIThS",
        "colab": {
          "base_uri": "https://localhost:8080/"
        },
        "outputId": "f0e7a76f-20bc-4f71-f685-eb59de0c1867"
      },
      "source": [
        "# case をコマンドラインワンライナーで使えるか\n",
        "# 読みにくくなるだけなのでファイルにするべき\n",
        "!ghc -e 'let {fac n = case n of 0 -> 1; _ -> n * fac (n-1)} in print (fac 7)'"
      ],
      "execution_count": null,
      "outputs": [
        {
          "output_type": "stream",
          "name": "stdout",
          "text": [
            "5040\n"
          ]
        }
      ]
    },
    {
      "cell_type": "code",
      "source": [
        "# 階乗はただの掛け算なので次のようにするのが簡単\n",
        "!ghc -e 'product [1..42]'"
      ],
      "metadata": {
        "id": "KrlvTBMqu0ul",
        "outputId": "fff2703a-0e9b-42e1-9a8a-d9ac4d57399e",
        "colab": {
          "base_uri": "https://localhost:8080/"
        }
      },
      "execution_count": null,
      "outputs": [
        {
          "output_type": "stream",
          "name": "stdout",
          "text": [
            "1405006117752879898543142606244511569936384000000000\n"
          ]
        }
      ]
    },
    {
      "cell_type": "code",
      "metadata": {
        "id": "xrXWasfNF4tO",
        "colab": {
          "base_uri": "https://localhost:8080/"
        },
        "outputId": "1c3ce491-8bf4-4d0c-a473-b7fc0d105e0f"
      },
      "source": [
        "# 四則演算は割り算だけ気をつける\n",
        "%%writefile temp.hs\n",
        "main = do\n",
        "  print $ 3 * 5 \n",
        "  print $ 4 ^ 2 - 1\n",
        "  print $ (1-5)^(3*2 - 4)\n",
        "  print $ 5 / 2\n",
        "  print $ 5 `div` 2"
      ],
      "execution_count": 7,
      "outputs": [
        {
          "output_type": "stream",
          "name": "stdout",
          "text": [
            "Overwriting temp.hs\n"
          ]
        }
      ]
    },
    {
      "cell_type": "code",
      "metadata": {
        "id": "0bvVHssEvDKU",
        "colab": {
          "base_uri": "https://localhost:8080/"
        },
        "outputId": "d551cda8-bf82-4a06-a283-1fda4358068b"
      },
      "source": [
        "!runghc temp.hs"
      ],
      "execution_count": 8,
      "outputs": [
        {
          "output_type": "stream",
          "name": "stdout",
          "text": [
            "15\n",
            "15\n",
            "16\n",
            "2.5\n",
            "2\n"
          ]
        }
      ]
    },
    {
      "cell_type": "code",
      "metadata": {
        "id": "KRkEzsyVdsJB",
        "colab": {
          "base_uri": "https://localhost:8080/"
        },
        "outputId": "189a8b36-3eeb-4b96-bbdd-4630fed4b473"
      },
      "source": [
        "# 電卓代わりに使える\n",
        "!ghc -e '3 * 5'\n",
        "!ghc -e '4 ^ 2 - 1'\n",
        "!ghc -e '(1-5)^(3*2 - 4)'\n",
        "!ghc -e '5 / 2'\n",
        "!ghc -e '5 `div` 2'"
      ],
      "execution_count": 6,
      "outputs": [
        {
          "output_type": "stream",
          "name": "stdout",
          "text": [
            "15\n",
            "15\n",
            "16\n",
            "2.5\n",
            "2\n"
          ]
        }
      ]
    },
    {
      "cell_type": "code",
      "source": [
        "# 2の100乗 累乗\n",
        "!ghc -e '2^100'"
      ],
      "metadata": {
        "id": "S_aufHE54lpC",
        "colab": {
          "base_uri": "https://localhost:8080/"
        },
        "outputId": "fc15d6d5-0774-4f3b-e1af-df2d2c1f05ee"
      },
      "execution_count": null,
      "outputs": [
        {
          "output_type": "stream",
          "name": "stdout",
          "text": [
            "1267650600228229401496703205376\n"
          ]
        }
      ]
    },
    {
      "cell_type": "code",
      "source": [
        "# 括弧が重なるのを避けるため `$` という記法を使うと `$` 以降の結果が `$` の前の関数の引数になる。\n",
        "# 文字列はダブルクォート（二重引用符）で囲む。 文字列の結合をするときは `++` を使う。"
      ],
      "metadata": {
        "id": "5pYgDgiE0pOk"
      },
      "execution_count": null,
      "outputs": []
    },
    {
      "cell_type": "code",
      "metadata": {
        "id": "XD-Q9HsR-5EK",
        "colab": {
          "base_uri": "https://localhost:8080/"
        },
        "outputId": "a9df6330-ba2f-4b40-97c3-1b48b4f9b5be"
      },
      "source": [
        "# ドルマーク $ の使い方\n",
        "%%writefile temp.hs\n",
        "main = do\n",
        "  print \"Hello\"\n",
        "  print $ \"hello\" ++ \", haskell\""
      ],
      "execution_count": null,
      "outputs": [
        {
          "output_type": "stream",
          "name": "stdout",
          "text": [
            "Overwriting temp.hs\n"
          ]
        }
      ]
    },
    {
      "cell_type": "code",
      "metadata": {
        "id": "4epQKGoHvnND",
        "colab": {
          "base_uri": "https://localhost:8080/"
        },
        "outputId": "a82feb85-c479-4aea-9019-2415d58bf542"
      },
      "source": [
        "!runghc temp.hs"
      ],
      "execution_count": null,
      "outputs": [
        {
          "output_type": "stream",
          "name": "stdout",
          "text": [
            "\"Hello\"\n",
            "\"hello, haskell\"\n"
          ]
        }
      ]
    },
    {
      "cell_type": "code",
      "metadata": {
        "id": "3Awt28XplzFA",
        "colab": {
          "base_uri": "https://localhost:8080/"
        },
        "outputId": "a50fa3e6-5588-4ae7-d89b-ccd9d1a84748"
      },
      "source": [
        "# do の使い方\n",
        "%%writefile temp.hs\n",
        "main =  do\n",
        "    print $ succ 5\n",
        "    print $ truncate 6.59\n",
        "    print $ round 6.59\n",
        "    print $ sqrt 2\n",
        "    print $ not (5 < 3)\n",
        "    print $ gcd 21 14"
      ],
      "execution_count": null,
      "outputs": [
        {
          "output_type": "stream",
          "name": "stdout",
          "text": [
            "Overwriting temp.hs\n"
          ]
        }
      ]
    },
    {
      "cell_type": "code",
      "metadata": {
        "id": "VH-lYQ5ywHur",
        "colab": {
          "base_uri": "https://localhost:8080/"
        },
        "outputId": "fcc64cbc-2319-4aea-b3fc-1036767b91a8"
      },
      "source": [
        "!runghc temp.hs"
      ],
      "execution_count": null,
      "outputs": [
        {
          "output_type": "stream",
          "name": "stdout",
          "text": [
            "6\n",
            "6\n",
            "7\n",
            "1.4142135623730951\n",
            "True\n",
            "7\n"
          ]
        }
      ]
    },
    {
      "cell_type": "code",
      "metadata": {
        "id": "8BX5lnthiYRv",
        "colab": {
          "base_uri": "https://localhost:8080/"
        },
        "outputId": "072c05b5-9327-4aaa-cc3c-f10c28abc18c"
      },
      "source": [
        "# 実験 floor が使えるかどうか\n",
        "!ghc -e 'floor(-6.59)' #=> -7"
      ],
      "execution_count": null,
      "outputs": [
        {
          "output_type": "stream",
          "name": "stdout",
          "text": [
            "-7\n"
          ]
        }
      ]
    },
    {
      "cell_type": "code",
      "metadata": {
        "id": "Ppn7NhT5iyNa",
        "colab": {
          "base_uri": "https://localhost:8080/"
        },
        "outputId": "27014bbe-8365-4f2b-db0c-9bae3eca61bc"
      },
      "source": [
        "# ひとつの式の中で複数の I/O アクションを使いたい場合は、doブロックを使う\n",
        "# アクションはセミコロンで区切る\n",
        "!ghc -e 'do {putStr \"2 + 2 = \"; print(2 + 2)}'\n",
        "!ghc -e 'do { putStrLn \"ABCDE\" ; putStrLn \"12345\" }  '"
      ],
      "execution_count": 9,
      "outputs": [
        {
          "output_type": "stream",
          "name": "stdout",
          "text": [
            "2 + 2 = 4\n",
            "ABCDE\n",
            "12345\n"
          ]
        }
      ]
    },
    {
      "cell_type": "code",
      "metadata": {
        "id": "QqsKOdWoI2J6",
        "outputId": "d626b036-9196-4c4a-b2df-5fe072d7990c",
        "colab": {
          "base_uri": "https://localhost:8080/"
        }
      },
      "source": [
        "# putStrLn なしでも最後の返り値がアウトプットされる\n",
        "!ghc -e '\"hello\"'\n",
        "!ghc -e '[1,2,3]'\n",
        "!ghc -e '3'\n",
        "!ghc -e \"283\"\n",
        "!ghc -e '(2,3)'"
      ],
      "execution_count": 10,
      "outputs": [
        {
          "output_type": "stream",
          "name": "stdout",
          "text": [
            "\"hello\"\n",
            "[1,2,3]\n",
            "3\n",
            "283\n",
            "(2,3)\n"
          ]
        }
      ]
    },
    {
      "cell_type": "code",
      "metadata": {
        "id": "AeokIoRmR8CV",
        "colab": {
          "base_uri": "https://localhost:8080/"
        },
        "outputId": "e6d7bb3b-fd0a-44f3-8b81-827b16fcc080"
      },
      "source": [
        "# map 関数とラムダ式(無名関数)\n",
        "!ghc -e 'map (\\x ->  x^2) [1..3]'"
      ],
      "execution_count": null,
      "outputs": [
        {
          "output_type": "stream",
          "name": "stdout",
          "text": [
            "[1,4,9]\n"
          ]
        }
      ]
    },
    {
      "cell_type": "code",
      "metadata": {
        "id": "dtJbwAKTSwYF",
        "colab": {
          "base_uri": "https://localhost:8080/"
        },
        "outputId": "84a8984a-3d3f-48ee-e625-b4ff09287e69"
      },
      "source": [
        "# IO がからんだ map は mapM , mapM_ を使う\n",
        "!ghc -e 'mapM print [1..3]'\n",
        "!echo\n",
        "!ghc -e 'mapM_ print [1..3]' # 結果のリストを返さないバージョン"
      ],
      "execution_count": null,
      "outputs": [
        {
          "output_type": "stream",
          "name": "stdout",
          "text": [
            "1\n",
            "2\n",
            "3\n",
            "[(),(),()]\n",
            "\n",
            "1\n",
            "2\n",
            "3\n"
          ]
        }
      ]
    },
    {
      "cell_type": "code",
      "metadata": {
        "id": "91UoXa9HTXHZ",
        "colab": {
          "base_uri": "https://localhost:8080/"
        },
        "outputId": "516add58-ab6b-45c3-d230-823c2c2f59a0"
      },
      "source": [
        "# 実験 echo で入力をシミュレートする\n",
        "# echo -e とすることにより改行コード \\n を含んだテキストをプログラムに標準入力できる\n",
        "!echo -e 'this\\nis'\n",
        "!echo\n",
        "!echo 'this\\nis' | ghc -e 'getLine'\n",
        "!echo -e 'this\\nis' | ghc -e 'getLine'\n",
        "!echo -e 'this\\nis' | ghc -e 'getContents >>= print . lines'\n",
        "!echo 'this\\nis' | ghc -e 'getContents >>= print . lines'"
      ],
      "execution_count": null,
      "outputs": [
        {
          "output_type": "stream",
          "name": "stdout",
          "text": [
            "this\n",
            "is\n",
            "\n",
            "\"this\\\\nis\"\n",
            "\"this\"\n",
            "[\"this\",\"is\"]\n",
            "[\"this\\\\nis\"]\n"
          ]
        }
      ]
    },
    {
      "cell_type": "code",
      "metadata": {
        "id": "WQO_woD2Tq2K",
        "colab": {
          "base_uri": "https://localhost:8080/"
        },
        "outputId": "fe3ce626-8f50-4d03-84bd-1640df383742"
      },
      "source": [
        "# >>=, <- とか使い方は実験してだいたい次のようなのだが\n",
        "# モナド monad としての位置づけがよくわからない\n",
        "!echo -e 'this\\nis' | ghc -e 'getLine >>= putStrLn'\n",
        "!echo\n",
        "!echo -e 'this\\nis' | ghc -e 'putStrLn =<< getLine'\n",
        "!echo\n",
        "!echo -e 'this\\nis' | ghc -e 'do {x <- getLine ; putStrLn x}'\n",
        "!echo\n",
        "!echo -e 'this\\nis' | ghc -e 'do {x <- getContents ; mapM_ print (lines(x))}'\n",
        "!echo -e 'this\\nis' | ghc -e 'do {x <- getContents ; mapM_ putStrLn (lines(x))}'"
      ],
      "execution_count": null,
      "outputs": [
        {
          "output_type": "stream",
          "name": "stdout",
          "text": [
            "this\n",
            "\n",
            "this\n",
            "\n",
            "this\n",
            "\n",
            "\"this\"\n",
            "\"is\"\n",
            "this\n",
            "is\n"
          ]
        }
      ]
    },
    {
      "cell_type": "code",
      "metadata": {
        "id": "CG2ADvudnWAG",
        "colab": {
          "base_uri": "https://localhost:8080/"
        },
        "outputId": "cbd38a64-adfe-4130-e401-932460977c14"
      },
      "source": [
        "# 実験 型\n",
        "!ghc -e ':t getLine'\n",
        "!ghc -e ':t getContents'\n",
        "!ghc -e ':t interact'\n",
        "!ghc -e ':t map'\n",
        "!ghc -e ':t mapM'\n",
        "!ghc -e ':t mapM_'\n",
        "!ghc -e ':k IO'\n",
        "!ghc -e ':k IO String'\n",
        "!ghc -e ':k Traversable'\n",
        "!ghc -e ':k Foldable'"
      ],
      "execution_count": null,
      "outputs": [
        {
          "output_type": "stream",
          "name": "stdout",
          "text": [
            "getLine :: IO String\n",
            "getContents :: IO String\n",
            "interact :: (String -> String) -> IO ()\n",
            "map :: (a -> b) -> [a] -> [b]\n",
            "mapM :: (Monad m, Traversable t) => (a -> m b) -> t a -> m (t b)\n",
            "mapM_ :: (Monad m, Foldable t) => (a -> m b) -> t a -> m ()\n",
            "IO :: * -> *\n",
            "IO String :: *\n",
            "Traversable :: (* -> *) -> Constraint\n",
            "Foldable :: (* -> *) -> Constraint\n"
          ]
        }
      ]
    },
    {
      "cell_type": "code",
      "metadata": {
        "id": "Da88msUHo10X",
        "outputId": "03e711dc-1fda-47fa-d1bb-a8a708acd9c3",
        "colab": {
          "base_uri": "https://localhost:8080/"
        }
      },
      "source": [
        "# 実験 アプリカティブとかファンクターとか\n",
        "# 今はわからないのでとりあえず少し実験して先へ進む\n",
        "!ghc -e ':t (<*>)' # Applicative\n",
        "!ghc -e ':t (<$>)' # functor\n",
        "!ghc -e ':k Applicative'\n",
        "!ghc -e ':k Functor'\n",
        "!ghc -e ':t (=<<)' # Monad\n",
        "!ghc -e ':t (>>=)' # Monad\n",
        "!ghc -e ':k Monad'\n",
        "# 次のはエラーになる\n",
        "!ghc -e ':t (<-)'"
      ],
      "execution_count": null,
      "outputs": [
        {
          "output_type": "stream",
          "name": "stdout",
          "text": [
            "(<*>) :: Applicative f => f (a -> b) -> f a -> f b\n",
            "(<$>) :: Functor f => (a -> b) -> f a -> f b\n",
            "Applicative :: (* -> *) -> Constraint\n",
            "Functor :: (* -> *) -> Constraint\n",
            "(=<<) :: Monad m => (a -> m b) -> m a -> m b\n",
            "(>>=) :: Monad m => m a -> (a -> m b) -> m b\n",
            "Monad :: (* -> *) -> Constraint\n",
            "\n",
            "<interactive>:1:2: error:\n",
            "    parse error on input ‘<-’\n",
            "    Perhaps this statement should be within a 'do' block?\n"
          ]
        }
      ]
    },
    {
      "cell_type": "code",
      "metadata": {
        "id": "FfBgDIpqUvIJ",
        "outputId": "f85b67ca-b546-4eca-b237-766a3241c180",
        "colab": {
          "base_uri": "https://localhost:8080/"
        }
      },
      "source": [
        "!echo -e 'John\\nMike' | ghc -e 'interact $ unlines . map (\"hello \" ++) . lines'\n",
        "!echo\n",
        "!echo -e 'John\\nMike' | ghc -e 'getContents >>= putStr.unlines.map (\"hello \" ++).lines'"
      ],
      "execution_count": null,
      "outputs": [
        {
          "output_type": "stream",
          "name": "stdout",
          "text": [
            "hello John\n",
            "hello Mike\n",
            "\n",
            "hello John\n",
            "hello Mike\n"
          ]
        }
      ]
    },
    {
      "cell_type": "markdown",
      "source": [
        "# いまここ"
      ],
      "metadata": {
        "id": "m5uGCv6t4ovO"
      }
    },
    {
      "cell_type": "code",
      "source": [
        "!ghc -e 'unlines $ lines \"this\\nis\"'"
      ],
      "metadata": {
        "id": "pW-OEja-2X1D",
        "outputId": "8bc124fb-8105-4199-a82d-7defd33c3ef8",
        "colab": {
          "base_uri": "https://localhost:8080/"
        }
      },
      "execution_count": 16,
      "outputs": [
        {
          "output_type": "stream",
          "name": "stdout",
          "text": [
            "\"this\\nis\\n\"\n"
          ]
        }
      ]
    },
    {
      "cell_type": "code",
      "metadata": {
        "id": "i0HK2HFzVMOP"
      },
      "source": [
        "# <$> はファンクター 関手 かんしゅ\n",
        "!echo -e 'John\\nMike' | ghc -e 'map (\"hello \" ++).lines <$> getContents'\n",
        "!ghc -e ':t (<$>)'\n",
        "!ghc -e ':k Functor'"
      ],
      "execution_count": null,
      "outputs": []
    },
    {
      "cell_type": "markdown",
      "metadata": {
        "id": "LMNeEUkYg52W"
      },
      "source": [
        "---\n",
        "入力を最終的にリストで受取る\n",
        "\n",
        "!echo -e '10 20\\n30 40\\n50 60' \n",
        "\n",
        "を\n",
        "\n",
        " [[10,20],[30,40],[50,60]]で受け取りたい"
      ]
    },
    {
      "cell_type": "code",
      "metadata": {
        "id": "LoeQxmt2hSDJ",
        "outputId": "241ae2cc-4044-45d9-8d29-2477339523dc",
        "colab": {
          "base_uri": "https://localhost:8080/"
        }
      },
      "source": [
        "# getContents で全体を取得\n",
        "!echo -e '10 20\\n30 40\\n50 60' | ghc -e 'getContents'"
      ],
      "execution_count": null,
      "outputs": [
        {
          "output_type": "stream",
          "name": "stdout",
          "text": [
            "\"10 20\\n30 40\\n50 60\\n\"\n"
          ]
        }
      ]
    },
    {
      "cell_type": "code",
      "metadata": {
        "id": "GLZ5h8Krf1B0",
        "outputId": "0069445a-1533-490c-a0a7-920c3ab8c149",
        "colab": {
          "base_uri": "https://localhost:8080/"
        }
      },
      "source": [
        "# <- で IO String から String に変換する\n",
        "# lines で行に分割\n",
        "!echo -e '10 20\\n30 40\\n50 60' | ghc -e 'do {input <- getContents; let strList = lines(input) in print strList}'"
      ],
      "execution_count": null,
      "outputs": [
        {
          "output_type": "stream",
          "name": "stdout",
          "text": [
            "[\"10 20\",\"30 40\",\"50 60\"]\n"
          ]
        }
      ]
    },
    {
      "cell_type": "code",
      "metadata": {
        "id": "Wim9xYyQrJH7",
        "outputId": "a3787fc1-0059-4a2b-d18f-a6e9dc959dc1",
        "colab": {
          "base_uri": "https://localhost:8080/"
        }
      },
      "source": [
        "# 確認\n",
        "%%writefile temp.hs\n",
        "main  = do\n",
        "  input <- getContents\n",
        "  let strList = lines input\n",
        "  print strList"
      ],
      "execution_count": null,
      "outputs": [
        {
          "output_type": "stream",
          "name": "stdout",
          "text": [
            "Overwriting temp.hs\n"
          ]
        }
      ]
    },
    {
      "cell_type": "code",
      "metadata": {
        "id": "Ib3Vuos00W3Q",
        "outputId": "49e46b59-585c-4c44-de2c-46bc4b0dc576",
        "colab": {
          "base_uri": "https://localhost:8080/"
        }
      },
      "source": [
        "!echo -e '10 20\\n30 40\\n50 60' | runghc temp.hs"
      ],
      "execution_count": null,
      "outputs": [
        {
          "output_type": "stream",
          "name": "stdout",
          "text": [
            "[\"10 20\",\"30 40\",\"50 60\"]\n"
          ]
        }
      ]
    },
    {
      "cell_type": "code",
      "metadata": {
        "id": "Go5j9IRgiZpq",
        "outputId": "ac90cec9-053f-45c5-fa75-da1a7d7cbf6a",
        "colab": {
          "base_uri": "https://localhost:8080/"
        }
      },
      "source": [
        "# ファンクターを使うと直接 lines を getContents に働かせる\n",
        "!echo -e '10 20\\n30 40\\n50 60' | ghc -e 'lines <$> getContents'\n",
        "!ghc -e ':t (<$>)'"
      ],
      "execution_count": null,
      "outputs": [
        {
          "output_type": "stream",
          "name": "stdout",
          "text": [
            "[\"10 20\",\"30 40\",\"50 60\"]\n",
            "(<$>) :: Functor f => (a -> b) -> f a -> f b\n"
          ]
        }
      ]
    },
    {
      "cell_type": "code",
      "metadata": {
        "id": "ZzXF6aeOjHCO",
        "outputId": "07719e3f-d1f5-439a-8da5-a4e57793bfdb",
        "colab": {
          "base_uri": "https://localhost:8080/"
        }
      },
      "source": [
        "# words を使ってさらにバラす\n",
        "# ただこのままでは数値になっていない\n",
        "!echo -e '10 20\\n30 40\\n50 60' | ghc -e 'map words . lines <$> getContents'"
      ],
      "execution_count": null,
      "outputs": [
        {
          "output_type": "stream",
          "name": "stdout",
          "text": [
            "[[\"10\",\"20\"],[\"30\",\"40\"],[\"50\",\"60\"]]\n"
          ]
        }
      ]
    },
    {
      "cell_type": "code",
      "metadata": {
        "id": "mbTWEw-KjvxO",
        "outputId": "6fe62d48-b27d-4319-87e4-ec25480f73f0",
        "colab": {
          "base_uri": "https://localhost:8080/"
        }
      },
      "source": [
        "# map read で数値にする\n",
        "!echo -e '10 20\\n30 40\\n50 60' | ghc -e 'map (map (read::String -> Int)) . map words . lines <$> getContents'\n",
        "!echo \n",
        "!echo -e '10 20\\n30 40\\n50 60' | ghc -e 'map (map (read::String -> Int) . words) . lines <$> getContents'\n",
        "!echo \n",
        "!echo -e '10 20\\n30 40\\n50 60' | ghc -e 'getContents >>= print . map (map (read::String -> Int) . words) . lines'"
      ],
      "execution_count": null,
      "outputs": [
        {
          "output_type": "stream",
          "name": "stdout",
          "text": [
            "[[10,20],[30,40],[50,60]]\n",
            "\n",
            "[[10,20],[30,40],[50,60]]\n",
            "\n",
            "[[10,20],[30,40],[50,60]]\n"
          ]
        }
      ]
    },
    {
      "cell_type": "code",
      "metadata": {
        "id": "Meu2FOwQlIPQ",
        "outputId": "e48ffe0a-71e2-48c4-a5e2-3a9279a3ec2d",
        "colab": {
          "base_uri": "https://localhost:8080/"
        }
      },
      "source": [
        "# 入力が !echo -e '3\\n10 20\\n30 40\\n50 60' のようにデータ数が冒頭にある場合\n",
        "!echo -e '3\\n10 20\\n30 40\\n50 60' | ghc -e 'getContents >>=  print . map (map (read::String -> Int) . words).(drop 1).lines'\n",
        "!echo\n",
        "!echo -e '3\\n10 20\\n30 40\\n50 60' | ghc -e 'getContents >>=  print.map(map(read::String -> Int).words).tail.lines'"
      ],
      "execution_count": null,
      "outputs": [
        {
          "output_type": "stream",
          "name": "stdout",
          "text": [
            "[[10,20],[30,40],[50,60]]\n",
            "\n",
            "[[10,20],[30,40],[50,60]]\n"
          ]
        }
      ]
    },
    {
      "cell_type": "code",
      "metadata": {
        "id": "lTCE7DTH9p7l",
        "outputId": "c93009c2-c0a6-433e-def1-76aaa1d4b3cc",
        "colab": {
          "base_uri": "https://localhost:8080/"
        }
      },
      "source": [
        "# >>= はデータの流れが途中から逆方向になるが\n",
        "# コマンドラインワンライナーでは便利\n",
        "!echo -e '10 20' | ghc -e 'getLine >>= print.sum.map read.words'"
      ],
      "execution_count": null,
      "outputs": [
        {
          "output_type": "stream",
          "name": "stdout",
          "text": [
            "30\n"
          ]
        }
      ]
    },
    {
      "cell_type": "code",
      "metadata": {
        "id": "dFGoBpsu-Psz",
        "outputId": "69ffaa36-1735-4c6e-ec98-0daff2139258",
        "colab": {
          "base_uri": "https://localhost:8080/"
        }
      },
      "source": [
        "# コマンドラインワンライナーでリスト内包表記は使えるか => 使える\n",
        "!ghc -e '[x^2 | x <- [1..10]]'"
      ],
      "execution_count": null,
      "outputs": [
        {
          "output_type": "stream",
          "name": "stdout",
          "text": [
            "[1,4,9,16,25,36,49,64,81,100]\n"
          ]
        }
      ]
    },
    {
      "cell_type": "code",
      "metadata": {
        "id": "8omsjbj_-E20",
        "outputId": "b01d4e64-c74b-4558-eb72-d8524a70abb7",
        "colab": {
          "base_uri": "https://localhost:8080/"
        }
      },
      "source": [
        "# 各行の和を取る\n",
        "!echo -e '10 20\\n30 40\\n50 60' | ghc -e 'getContents >>= print.map(sum.map read.words).lines'\n",
        "\n",
        "# 冒頭にデータ数があるのを捨てる場合\n",
        "!echo -e '3\\n10 20\\n30 40\\n50 60' | ghc -e 'getContents >>= print.map(sum.map read.words).tail.lines'\n"
      ],
      "execution_count": null,
      "outputs": [
        {
          "output_type": "stream",
          "name": "stdout",
          "text": [
            "[30,70,110]\n",
            "[30,70,110]\n"
          ]
        }
      ]
    },
    {
      "cell_type": "code",
      "metadata": {
        "id": "TWIfDATTBnVf",
        "outputId": "5566d29c-a3d8-4c4f-d303-f08286ae7388",
        "colab": {
          "base_uri": "https://localhost:8080/"
        }
      },
      "source": [
        "# 結果を一つずつ改行して出力する\n",
        "!echo -e '3\\n10 20\\n30 40\\n50 60' | ghc -e 'getContents >>= mapM_ print.map(sum.map read.words).tail.lines'\n"
      ],
      "execution_count": null,
      "outputs": [
        {
          "output_type": "stream",
          "name": "stdout",
          "text": [
            "30\n",
            "70\n",
            "110\n"
          ]
        }
      ]
    },
    {
      "cell_type": "code",
      "metadata": {
        "id": "OJiuL9yRtU3E",
        "outputId": "2caaff29-8ade-4923-984e-a4534015a2ff",
        "colab": {
          "base_uri": "https://localhost:8080/"
        }
      },
      "source": [
        "# zip を使う\n",
        "!ghc -e \"zip [1..3] ['A'..]\""
      ],
      "execution_count": null,
      "outputs": [
        {
          "output_type": "stream",
          "name": "stdout",
          "text": [
            "[(1,'A'),(2,'B'),(3,'C')]\n"
          ]
        }
      ]
    },
    {
      "cell_type": "code",
      "metadata": {
        "id": "XhG48QFRtzF2",
        "outputId": "c7eefcef-7dcd-4c6f-ee1e-7e45a661876d",
        "colab": {
          "base_uri": "https://localhost:8080/"
        }
      },
      "source": [
        "# すべての組み合わせを生成する\n",
        "# <*> はアプリカティブで <$> はファンクター\n",
        "!ghc -e \"(,) <$> [1..3] <*> ['A'..'C']\""
      ],
      "execution_count": null,
      "outputs": [
        {
          "output_type": "stream",
          "name": "stdout",
          "text": [
            "[(1,'A'),(1,'B'),(1,'C'),(2,'A'),(2,'B'),(2,'C'),(3,'A'),(3,'B'),(3,'C')]\n"
          ]
        }
      ]
    },
    {
      "cell_type": "code",
      "metadata": {
        "id": "EbcsT3_Vv1DB",
        "outputId": "e78f0508-1468-4cfb-ea66-6047aa2249c8",
        "colab": {
          "base_uri": "https://localhost:8080/"
        }
      },
      "source": [
        "# アプリカティブはつぎのように作用する\n",
        "!ghc -e '(<*>) [length, Data.Char.digitToInt . head] [\"f\", \"ba\", \"baz\"]'\n",
        "!ghc -e '(<*>) (Just (\\x -> x * x)) (Just 3)'\n",
        "!ghc -e '(<*>) Nothing (Just 3)'\n",
        "!ghc -e '(<*>) (Just (\\x -> x * x)) Nothing' "
      ],
      "execution_count": null,
      "outputs": [
        {
          "output_type": "stream",
          "name": "stdout",
          "text": [
            "[1,2,3,15,11,11]\n",
            "Just 9\n",
            "Nothing\n",
            "Nothing\n"
          ]
        }
      ]
    },
    {
      "cell_type": "code",
      "metadata": {
        "id": "vBX5cY5IxfyM",
        "outputId": "93de87c0-6033-4bad-f866-79ba87f947de",
        "colab": {
          "base_uri": "https://localhost:8080/"
        }
      },
      "source": [
        "# アプリカティブとファンクターとラムダ式の応用\n",
        "# なんでもできそう\n",
        "!ghc -e '(\\x y -> x ++ \"-\" ++ y) <$> [\"2016\", \"2017\", \"2018\"] <*> [\"Jan\", \"Feb\", \"Mar\"]'"
      ],
      "execution_count": null,
      "outputs": [
        {
          "output_type": "stream",
          "name": "stdout",
          "text": [
            "[\"2016-Jan\",\"2016-Feb\",\"2016-Mar\",\"2017-Jan\",\"2017-Feb\",\"2017-Mar\",\"2018-Jan\",\"2018-Feb\",\"2018-Mar\"]\n"
          ]
        }
      ]
    },
    {
      "cell_type": "code",
      "metadata": {
        "id": "-E7NFsLsYtGU",
        "outputId": "80a0a943-cf3f-4a57-8a49-e1c850acf0b0",
        "colab": {
          "base_uri": "https://localhost:8080/"
        }
      },
      "source": [
        "!ghc -e ':i foldl'"
      ],
      "execution_count": null,
      "outputs": [
        {
          "output_type": "stream",
          "name": "stdout",
          "text": [
            "class Foldable (t :: * -> *) where\n",
            "  ...\n",
            "  foldl :: (b -> a -> b) -> b -> t a -> b\n",
            "  ...\n",
            "  \t-- Defined in ‘Data.Foldable’\n"
          ]
        }
      ]
    },
    {
      "cell_type": "code",
      "metadata": {
        "id": "683uqbizZLEO",
        "outputId": "5c0cf722-d50a-4c14-fa36-b9bc77e239f6",
        "colab": {
          "base_uri": "https://localhost:8080/"
        }
      },
      "source": [
        "# シェル変数を使う\n",
        "!NUM=5; echo $NUM; ghc -e \"[1..$NUM]\"\n",
        "!X1=\"[1..3]\"; X2=\"['A'..'C']\"; ghc -e \"zip $X1 $X2\"\n",
        "!X1=\"[1..3]\"; X2=\"['A'..'C']\"; ghc -e \"(,) <$> $X1 <*> $X2\""
      ],
      "execution_count": null,
      "outputs": [
        {
          "output_type": "stream",
          "name": "stdout",
          "text": [
            "5\n",
            "[1,2,3,4,5]\n",
            "[(1,'A'),(2,'B'),(3,'C')]\n",
            "[(1,'A'),(1,'B'),(1,'C'),(2,'A'),(2,'B'),(2,'C'),(3,'A'),(3,'B'),(3,'C')]\n"
          ]
        }
      ]
    },
    {
      "cell_type": "code",
      "metadata": {
        "id": "zwm1LnWFa-S1",
        "outputId": "b68a3f8e-8949-4af9-ddcb-c86f0515f418",
        "colab": {
          "base_uri": "https://localhost:8080/"
        }
      },
      "source": [
        "# 実験 タイプを調べる\n",
        "!echo -e '1\\n2\\n3' | ghc -e \":t lines <$> getContents\"\n",
        "!echo\n",
        "!echo -e '1\\n2\\n3' | ghc -e \"getContents >>= print.lines\"\n",
        "!echo\n",
        "!echo -e '1\\n2\\n3' | ghc -e \":t lines <$> getContents\"\n",
        "!echo -e '1\\n2\\n3' | ghc -e \":t (getContents >>= print.lines)\""
      ],
      "execution_count": null,
      "outputs": [
        {
          "output_type": "stream",
          "name": "stdout",
          "text": [
            "lines <$> getContents :: IO [String]\n",
            "\n",
            "[\"1\",\"2\",\"3\"]\n",
            "\n",
            "lines <$> getContents :: IO [String]\n",
            "(getContents >>= print.lines) :: IO ()\n"
          ]
        }
      ]
    },
    {
      "cell_type": "code",
      "metadata": {
        "id": "dnWxbkdVc5jH",
        "outputId": "3f4a4830-7cc8-4d27-9e31-d7c5dfc2c11c",
        "colab": {
          "base_uri": "https://localhost:8080/"
        }
      },
      "source": [
        "!echo -e '1\\n2\\n3' | ghc -e \"(sum . map read .lines) <$> getContents\" # Functor\n",
        "!echo -e '1\\n2\\n3' | ghc -e \"getContents >>= print . sum . map read .lines \" # Monad"
      ],
      "execution_count": null,
      "outputs": [
        {
          "output_type": "stream",
          "name": "stdout",
          "text": [
            "6\n",
            "6\n"
          ]
        }
      ]
    },
    {
      "cell_type": "code",
      "metadata": {
        "id": "K2BcZf_AdRyv",
        "outputId": "85a51555-72bf-4324-e939-3af8df4deea6",
        "colab": {
          "base_uri": "https://localhost:8080/"
        }
      },
      "source": [
        "!echo -e '1\\n2\\n3' | ghc -e \"interact $ unlines . map (show . (*2) . (read::String -> Int)) . lines\"\n",
        "!echo -e '1\\n2\\n3' | ghc -e \"getContents >>= mapM_ putStrLn .  map (show . (*2) . (read::String -> Int)) . lines\""
      ],
      "execution_count": null,
      "outputs": [
        {
          "output_type": "stream",
          "name": "stdout",
          "text": [
            "2\n",
            "4\n",
            "6\n",
            "2\n",
            "4\n",
            "6\n"
          ]
        }
      ]
    },
    {
      "cell_type": "code",
      "source": [
        "!ghc -e ':t interact'\n",
        "!ghc -e ':t getContents'"
      ],
      "metadata": {
        "id": "0JWtR69XISwl",
        "outputId": "6bf589a8-b4f6-4a41-d0cc-43e3deee9458",
        "colab": {
          "base_uri": "https://localhost:8080/"
        }
      },
      "execution_count": null,
      "outputs": [
        {
          "output_type": "stream",
          "name": "stdout",
          "text": [
            "interact :: (String -> String) -> IO ()\n",
            "getContents :: IO String\n"
          ]
        }
      ]
    },
    {
      "cell_type": "code",
      "metadata": {
        "id": "iA-Mj7OaeT2O",
        "outputId": "e155f690-e56d-49a1-9616-e439bfa1ab72",
        "colab": {
          "base_uri": "https://localhost:8080/"
        }
      },
      "source": [
        "!ghc -e \"let x = 1; y = 2 in x+y\""
      ],
      "execution_count": null,
      "outputs": [
        {
          "output_type": "stream",
          "name": "stdout",
          "text": [
            "3\n"
          ]
        }
      ]
    },
    {
      "cell_type": "code",
      "metadata": {
        "id": "C0TgtF1D4ZeL",
        "outputId": "7630e1f7-017d-47a3-9256-56f00fe4f98f",
        "colab": {
          "base_uri": "https://localhost:8080/"
        }
      },
      "source": [
        "!ghc -e \"let {x = 1; y = 2} in x+y\"\n"
      ],
      "execution_count": null,
      "outputs": [
        {
          "output_type": "stream",
          "name": "stdout",
          "text": [
            "3\n"
          ]
        }
      ]
    },
    {
      "cell_type": "code",
      "metadata": {
        "id": "eqtcvFBOecj8",
        "outputId": "b3f5bba2-ea89-4132-8dd5-0bf05925501d",
        "colab": {
          "base_uri": "https://localhost:8080/"
        }
      },
      "source": [
        "!ghc -e 'Text.Printf.printf \"%s %d\\n\" \"abc\" 1'"
      ],
      "execution_count": null,
      "outputs": [
        {
          "output_type": "stream",
          "name": "stdout",
          "text": [
            "abc 1\n"
          ]
        }
      ]
    },
    {
      "cell_type": "code",
      "source": [
        "# 上の欄で `Text.Printf.printf` として printf を使っている\n",
        "# import しなくてもパッケージ名を書けば使えるものもあるということか\n",
        "# コマンドラインワンライナーでは import はできない。\n",
        "# import しないで使えるもののリストが欲しい"
      ],
      "metadata": {
        "id": "hXUdOhIL448y"
      },
      "execution_count": null,
      "outputs": []
    },
    {
      "cell_type": "markdown",
      "source": [
        "# いまここ"
      ],
      "metadata": {
        "id": "mhKYA7jNJWSk"
      }
    },
    {
      "cell_type": "code",
      "metadata": {
        "id": "DKODrRuq-gbE",
        "outputId": "3e172700-c34d-41cf-e088-68688cd956bc",
        "colab": {
          "base_uri": "https://localhost:8080/"
        }
      },
      "source": [
        "!ghc -e 'Data.List.sort([3,1,2])'"
      ],
      "execution_count": null,
      "outputs": [
        {
          "output_type": "stream",
          "name": "stdout",
          "text": [
            "[1,2,3]\n"
          ]
        }
      ]
    },
    {
      "cell_type": "code",
      "metadata": {
        "id": "NgXPOOkv_PBR"
      },
      "source": [
        "!ghc -e $'pi'\n",
        "!ghc -e $'exp(1)'"
      ],
      "execution_count": null,
      "outputs": []
    },
    {
      "cell_type": "code",
      "metadata": {
        "id": "UMpvvcWQerfM"
      },
      "source": [
        "!ghc -e \"sin(pi/2)\""
      ],
      "execution_count": null,
      "outputs": []
    },
    {
      "cell_type": "code",
      "metadata": {
        "id": "mBdJ4evlexS0"
      },
      "source": [
        "!ghc -e \"[sin (n * pi/8) | n <- [0..4]]\""
      ],
      "execution_count": null,
      "outputs": []
    },
    {
      "cell_type": "code",
      "metadata": {
        "id": "pbiCpiI5e5BR"
      },
      "source": [
        "!ghc -e 'replicate 5 \"hello\"'"
      ],
      "execution_count": null,
      "outputs": []
    },
    {
      "cell_type": "code",
      "metadata": {
        "id": "0DyTBh1cs5wg"
      },
      "source": [
        "%%capture\n",
        "!apt install haskell-platform"
      ],
      "execution_count": null,
      "outputs": []
    },
    {
      "cell_type": "code",
      "metadata": {
        "id": "pMB4Chk5tGbE"
      },
      "source": [
        "!ghc -e $'replicate 5 5'\n",
        "!ghc -e $'replicate 5 [5]'\n",
        "!ghc -e $'replicate 5 \\'x\\''"
      ],
      "execution_count": null,
      "outputs": []
    },
    {
      "cell_type": "markdown",
      "metadata": {
        "id": "T7qCPk48Fmmu"
      },
      "source": [
        "# 型について少し\n"
      ]
    },
    {
      "cell_type": "markdown",
      "metadata": {
        "id": "3tfVY2QnJs1Y"
      },
      "source": [
        "型宣言"
      ]
    },
    {
      "cell_type": "code",
      "metadata": {
        "id": "iOEMdj3kkbsb"
      },
      "source": [
        "# 型宣言\n",
        "!ghc -e '5::Int'\n",
        "!ghc -e '5::Double'"
      ],
      "execution_count": null,
      "outputs": []
    },
    {
      "cell_type": "code",
      "metadata": {
        "id": "R8mbMN4HkmLf"
      },
      "source": [
        "!ghc -e ':t True'\n",
        "!ghc -e $':t \\'X\\''\n",
        "!ghc -e ':t \"hello haskell\"'"
      ],
      "execution_count": null,
      "outputs": []
    },
    {
      "cell_type": "code",
      "metadata": {
        "id": "rwn1tY4gG528",
        "outputId": "ecee062c-ce11-46b5-bd0e-0d4b5c7de69b",
        "colab": {
          "base_uri": "https://localhost:8080/"
        }
      },
      "source": [
        "# bash で $'string' とすると string 内で backslash による escape が意味を持つ。\n",
        "# \\t, \\n などが使え、\\' がシングルクォートになる。\n",
        "!ghc -e $':t \\'X\\''\n",
        "!ghc -e $':t \"hello\"'\n",
        "!ghc -e ':t \"hello\"'\n",
        "!ghc -e ':t '\"'\"'X'\"'\"\n",
        "!ghc -e ':t '\\''X'\\'\n",
        "!ghc -e  \":t 'X'\"\n",
        "!echo -e 'hel\\tlo\\nhello'"
      ],
      "execution_count": null,
      "outputs": [
        {
          "output_type": "stream",
          "name": "stdout",
          "text": [
            "'X' :: Char\n",
            "\"hello\" :: [Char]\n",
            "\"hello\" :: [Char]\n",
            "'X' :: Char\n",
            "'X' :: Char\n",
            "'X' :: Char\n",
            "hel\tlo\n",
            "hello\n"
          ]
        }
      ]
    },
    {
      "cell_type": "markdown",
      "metadata": {
        "id": "shyizwS1F5MZ"
      },
      "source": [
        "[Char]はStringの別名。 Char のリスト。\n"
      ]
    },
    {
      "cell_type": "code",
      "metadata": {
        "id": "Rl2CyyheJFZQ"
      },
      "source": [
        "!ghc -e ':t 42'\n",
        "!ghc -e ':t 42.0'\n",
        "!ghc -e ':t gcd 15 20'"
      ],
      "execution_count": null,
      "outputs": []
    },
    {
      "cell_type": "markdown",
      "metadata": {
        "id": "j5HGk6ZpuPT5"
      },
      "source": [
        "上結果の Num, Fractional, Integral は、型クラス。"
      ]
    },
    {
      "cell_type": "code",
      "metadata": {
        "id": "uveus_IVNwiq"
      },
      "source": [
        "# カインドと型クラス\n",
        "!ghc -e ':k Maybe'\n",
        "!ghc -e ':k Fractional'\n",
        "!ghc -e ':k Num'\n",
        "!ghc -e ':k Integral'\n",
        "!echo\n",
        "# アプリカティブ、ファンクター、モナド\n",
        "!ghc -e ':t (*)'\n",
        "!ghc -e ':t (<*>)'\n",
        "!ghc -e ':t (<$>)'\n",
        "!ghc -e ':t (>>=)'\n",
        "!ghc -e ':t (=<<)'\n",
        "\n",
        "# IOアクションの -> はタイプを取り出せない\n",
        "# !ghc -e ':t (->))'\n",
        "# 1. do 節の中で IO から IO でない文字列へ変換して変数に代入する\n",
        "# 2. リスト内包表記の中で、範囲から中身を取り出す\n",
        "# 3. case文の中で、場合分けの結果を表示する\n",
        "# 4. 関数定義で、引数と引数の間、引数と返り値の間を示す。\n"
      ],
      "execution_count": null,
      "outputs": []
    },
    {
      "cell_type": "code",
      "metadata": {
        "id": "avSWO7A2Rn7V"
      },
      "source": [
        "!ghc -e ':t print'"
      ],
      "execution_count": null,
      "outputs": []
    },
    {
      "cell_type": "code",
      "metadata": {
        "id": "GdN5W8GFvI0h"
      },
      "source": [
        "!ghc -e $':t (=>)'\n",
        "!ghc -e $':t (->)'"
      ],
      "execution_count": null,
      "outputs": []
    },
    {
      "cell_type": "markdown",
      "metadata": {
        "id": "0VJQp8dzJw7U"
      },
      "source": [
        "Unit 型"
      ]
    },
    {
      "cell_type": "code",
      "metadata": {
        "id": "IAFEJNfKJvd0"
      },
      "source": [
        "# ユニット型\n",
        "!ghc -e 'print ()'\n",
        "!ghc -e ':t ()'"
      ],
      "execution_count": null,
      "outputs": []
    },
    {
      "cell_type": "markdown",
      "metadata": {
        "id": "zHYfydjqJ0bq"
      },
      "source": [
        "# リスト\n",
        "\n",
        "Haskell のリストは型の混在はなし。 型を混在させるにはタプルを用いる。\n",
        "\n",
        "文字列は文字 Char のリスト。"
      ]
    },
    {
      "cell_type": "code",
      "metadata": {
        "id": "lXxY_lLRKAk2"
      },
      "source": [
        "!ghc -e '[1, 2, 3]'\n",
        "!ghc -e '[1 .. 5]'\n",
        "!ghc -e '[1, 3 .. 10]'\n",
        "!ghc -e '[True, False, True]'\n",
        "!ghc -e $'[\\'H\\', \\'e\\', \\'l\\', \\'l\\', \\'o\\']'\n",
        "!ghc -e $'\\'C\\' : [\\'H\\', \\'e\\', \\'l\\', \\'l\\', \\'o\\']'\n"
      ],
      "execution_count": null,
      "outputs": []
    },
    {
      "cell_type": "markdown",
      "metadata": {
        "id": "IJcQNo4G2TJJ"
      },
      "source": [
        "# タプル"
      ]
    },
    {
      "cell_type": "markdown",
      "metadata": {
        "id": "oldSN25mUuHD"
      },
      "source": [
        "タプル tuple の特徴は list と違い型の違うものを入れられること、と、タプルが新しい型を作るので、タプルのリストにすることによって安全性が高まること。\n",
        "\n",
        "[[1,2],[3,4,5],[6,7]]\n",
        "\n",
        "はエラーなしにコンパイルされるが、\n",
        "\n",
        "[(1,2),(3,4,5),(6,7)] \n",
        "\n",
        "はエラーになる。"
      ]
    },
    {
      "cell_type": "code",
      "metadata": {
        "id": "PRZJdUhP2-8w"
      },
      "source": [
        "# 実験 ['a'..'e']は便利かも\n",
        "!ghc -e $'[\\'a\\' .. \\'e\\']'\n",
        "!ghc -e '(1, True)'\n",
        "!ghc -e $'zip [1 .. 5] [\\'a\\' .. \\'e\\']'"
      ],
      "execution_count": null,
      "outputs": []
    },
    {
      "cell_type": "code",
      "metadata": {
        "id": "OwVPfQoDAEXJ"
      },
      "source": [
        "!ghc -e $':t (..)'"
      ],
      "execution_count": null,
      "outputs": []
    },
    {
      "cell_type": "code",
      "metadata": {
        "id": "QnhmYQLP3KFy"
      },
      "source": [
        "!ghc -e $':t [\\'a\\' .. \\'c\\']'\n",
        "!ghc -e $':t [(\\'x\\', True), (\\'y\\', False)]'"
      ],
      "execution_count": null,
      "outputs": []
    },
    {
      "cell_type": "code",
      "metadata": {
        "id": "yArbCM1L3L1Q"
      },
      "source": [
        "!ghc -e 'fst (1, 2)'\n",
        "!ghc -e 'snd (1, 2)'\n",
        "!ghc -e 'map fst [(1, 2), (3, 4), (5, 6)]'"
      ],
      "execution_count": null,
      "outputs": []
    },
    {
      "cell_type": "code",
      "metadata": {
        "id": "G9tnRyO_G5sT"
      },
      "source": [
        "!ghc -e '[1..10]'\n",
        "!ghc -e '[1..3]::[5..10]'\n",
        "!ghc -e '[3, 5..10]'\n",
        "!ghc -e '[1..3, 5..10]'"
      ],
      "execution_count": null,
      "outputs": []
    },
    {
      "cell_type": "code",
      "metadata": {
        "id": "SYMjyxkeH0Tz"
      },
      "source": [
        "# リスト内包表記\n",
        "!ghc -e '[x^2 | x <- [1..10]]'\n",
        "\n",
        "# mapM_ による1行ごとの出力\n",
        "!ghc -e 'mapM_ print [1..3]'\n"
      ],
      "execution_count": null,
      "outputs": []
    },
    {
      "cell_type": "code",
      "metadata": {
        "id": "YKKlsILyKgNM"
      },
      "source": [
        "# リスト内包表記との組み合わせ\n",
        "!ghc -e 'mapM_ print [x^2 | x <- [1..3]]'\n",
        "!ghc -e 'let list = [x^2 | x <- [1..3]] in  mapM_ print list'\n"
      ],
      "execution_count": null,
      "outputs": []
    },
    {
      "cell_type": "markdown",
      "metadata": {
        "id": "o5zW6xLTLDWC"
      },
      "source": [
        "# getContents"
      ]
    },
    {
      "cell_type": "code",
      "metadata": {
        "id": "0d0wmUdFrlbL"
      },
      "source": [
        "# getContents\n",
        "!echo -e 'This is a pen.\\nThat is an apple.'\n",
        "!echo -e 'This is a pen.\\nThat is an apple.' | ghc -e 'getLine'\n",
        "!echo -e 'This is a pen.\\nThat is an apple.' | ghc -e 'getContents'\n",
        "!echo -e 'This is a pen.\\nThat is an apple.' | ghc -e 'lines <$> getContents'\n",
        "!echo\n",
        "# 実験 getContents から lines にしたあとの処理\n",
        "!echo -e '288 240' | ghc -e 'map ((\\[x, y] -> gcd (read x) (read y)) . words) . lines <$> getContents'\n",
        "!echo -e '288 240' | ghc -e 'map words . lines <$> getContents'\n",
        "!echo -e '288 240' | ghc -e 'map ((\\[x, y] -> gcd (read x) (read y)) . words) . lines <$> getContents'\n",
        "!ghc -e 'gcd 24 81'\n",
        "!echo -e '288 240' | ghc -e 'map ((\\[x, y] -> gcd 100 (read x)) . words) . lines <$> getContents'\n",
        "!echo\n",
        "!echo -e 'This is a pen.\\nThat is an apple.' | ghc -e 'map ( words) . lines <$> getContents'\n",
        "!echo -e 'This is a pen.\\nThat is an apple.' | ghc -e 'map (length) . lines <$> getContents'\n",
        "!ghc -e 'length([\"This\",\"is\",\"a\",\"pen.\"])'\n",
        "!ghc -e 'map length [\"This\",\"is\",\"a\",\"pen.\"]'\n",
        "\n",
        "\n"
      ],
      "execution_count": null,
      "outputs": []
    },
    {
      "cell_type": "code",
      "metadata": {
        "id": "1nqetsIyC19O"
      },
      "source": [
        "!echo -e 'This is a pen.\\nThat is an apple.' | ghc -e 'getContents >>= mapM_ putStrLn . lines'"
      ],
      "execution_count": null,
      "outputs": []
    },
    {
      "cell_type": "markdown",
      "metadata": {
        "id": "UOWi2Qe_5KxD"
      },
      "source": [
        "# 関数定義"
      ]
    },
    {
      "cell_type": "code",
      "metadata": {
        "id": "BEE6hOyJ5NQR"
      },
      "source": [
        "%%writefile temp.hs\n",
        "module Main where\n",
        "\n",
        "factorial n = if n == 0 then 1 else n * factorial (n - 1)\n",
        "\n",
        "main = do putStrLn \"What is 5! ?\"\n",
        "          x <- readLn\n",
        "          if x == factorial 5\n",
        "              then putStrLn \"You're right!\"\n",
        "              else putStrLn \"You're wrong!\""
      ],
      "execution_count": null,
      "outputs": []
    },
    {
      "cell_type": "code",
      "metadata": {
        "id": "5uBBmlwM5WJZ"
      },
      "source": [
        "# コンパイルして実行すると、入力待ちになる。出力欄をクリックして入力ウィンドウに入力することができる。\n",
        "!ghc --make temp.hs; ./Test"
      ],
      "execution_count": null,
      "outputs": []
    },
    {
      "cell_type": "code",
      "metadata": {
        "id": "YTEAzvR9nTp8"
      },
      "source": [
        "%%writefile temp.hs\n",
        "\n",
        "factorial n = if n == 0 then 1 else n * factorial (n - 1)\n",
        "\n",
        "main = do putStrLn \"What is 5! ?\"\n",
        "          x <- readLn\n",
        "          if x == factorial 5\n",
        "              then putStrLn \"You're right!\"\n",
        "              else putStrLn \"You're wrong!\""
      ],
      "execution_count": null,
      "outputs": []
    },
    {
      "cell_type": "code",
      "metadata": {
        "id": "jAVkoqgvnu0-"
      },
      "source": [
        "!echo 120 | runghc temp.hs\n",
        "!echo 150 | runghc temp.hs"
      ],
      "execution_count": null,
      "outputs": []
    },
    {
      "cell_type": "markdown",
      "metadata": {
        "id": "H-u9V2fHds36"
      },
      "source": [
        "上のように、echo を使って、プログラムの readLn で受けるか。\n",
        "\n",
        "次のように、プログラム内に渡すデータを書いて、結果を出力するか。\n",
        "\n",
        "このどちらかになると思う。"
      ]
    },
    {
      "cell_type": "code",
      "metadata": {
        "id": "pooc_yHlqaA6"
      },
      "source": [
        "%%writefile temp.hs\n",
        "\n",
        "factorial n = if n == 0 then 1 else n * factorial (n - 1)\n",
        "\n",
        "main = do\n",
        "        print(factorial 5)\n",
        "        print(factorial 4)"
      ],
      "execution_count": null,
      "outputs": []
    },
    {
      "cell_type": "code",
      "metadata": {
        "id": "woeE70_PqoSd"
      },
      "source": [
        "!runghc temp.hs"
      ],
      "execution_count": null,
      "outputs": []
    },
    {
      "cell_type": "markdown",
      "metadata": {
        "id": "ksOskHSJd4p1"
      },
      "source": [
        "パターンマッチングを利用して次のように書く書き方もある。"
      ]
    },
    {
      "cell_type": "code",
      "metadata": {
        "id": "ajXsLOal5uxz"
      },
      "source": [
        "%%writefile temp.hs\n",
        "\n",
        "factorial 0 = 1\n",
        "factorial n = n * factorial (n - 1)\n",
        "\n",
        "main = do\n",
        "        print(factorial x)\n",
        "        print(factorial y)\n",
        "\n",
        "x = 6\n",
        "y = 5"
      ],
      "execution_count": null,
      "outputs": []
    },
    {
      "cell_type": "code",
      "metadata": {
        "id": "PCiTutabrJL1"
      },
      "source": [
        "!runghc temp.hs"
      ],
      "execution_count": null,
      "outputs": []
    },
    {
      "cell_type": "markdown",
      "metadata": {
        "id": "12WQ1L4CwK6G"
      },
      "source": [
        "ちなみに、Colab では 複数のセルを選択して、 Ctrl+Shift+Enter すると、便利である。"
      ]
    },
    {
      "cell_type": "code",
      "metadata": {
        "id": "Gmg_4nAo6CoH"
      },
      "source": [
        "%%writefile temp.hs\n",
        "secsToWeeks secs = let perMinute = 60\n",
        "                       perHour   = 60 * perMinute\n",
        "                       perDay    = 24 * perHour\n",
        "                       perWeek   =  7 * perDay\n",
        "                   in  secs / perWeek\n",
        "\n",
        "main = do\n",
        "        print (secsToWeeks 100000)"
      ],
      "execution_count": null,
      "outputs": []
    },
    {
      "cell_type": "code",
      "metadata": {
        "id": "HP9L2lybgzRS"
      },
      "source": [
        "!runghc temp.hs"
      ],
      "execution_count": null,
      "outputs": []
    },
    {
      "cell_type": "markdown",
      "metadata": {
        "id": "M67kE5oy6ZKp"
      },
      "source": [
        "上コードセルで、let , in は一時的な名前を定義している。\n"
      ]
    },
    {
      "cell_type": "code",
      "metadata": {
        "id": "XN5488-c6Xtm"
      },
      "source": [
        "%%writefile temp.hs\n",
        "classify age = case age of 0 -> \"newborn\"\n",
        "                           1 -> \"infant\"\n",
        "                           2 -> \"toddler\"\n",
        "                           _ -> \"senior citizen\"\n",
        "\n",
        "main = do\n",
        "        putStrLn (classify 0)                           \n",
        "        putStrLn (classify 69)"
      ],
      "execution_count": null,
      "outputs": []
    },
    {
      "cell_type": "code",
      "metadata": {
        "id": "ZzkYe9drhp7a"
      },
      "source": [
        "!runghc temp.hs"
      ],
      "execution_count": null,
      "outputs": []
    },
    {
      "cell_type": "markdown",
      "metadata": {
        "id": "cp5ZgVAk68_H"
      },
      "source": [
        "上のセルで、case 式を使っている。 `_` はその他すべてを表す。"
      ]
    },
    {
      "cell_type": "markdown",
      "metadata": {
        "id": "Q-LIDxck97kv"
      },
      "source": [
        "# ライブラリー、パッケージ、モジュール\n",
        "\n",
        "import libraryname \n",
        "\n",
        "import libaryname as somename\n",
        "\n",
        "ある機能が欲しいとき、hackage で調べて、ライブラリーがあればインポートする。 インポートできなければ cabal でパッケージをインストールする、という理解でよいか。\n",
        "\n",
        "いまの ghc で import できるライブラリーはなにか。\n",
        "\n",
        "ghc-pkg list\n",
        "\n",
        "でインストールされているパッケージを見ることができる。\n",
        "\n",
        "\n",
        "\n"
      ]
    },
    {
      "cell_type": "code",
      "metadata": {
        "id": "iGQJQWgIcXQp"
      },
      "source": [
        "!ghc-pkg list"
      ],
      "execution_count": null,
      "outputs": []
    },
    {
      "cell_type": "markdown",
      "metadata": {
        "id": "G8XTKwv4sIpR"
      },
      "source": [
        "例えば次の Data.Map というライブラリーは import するか、ライブラリー名をつけて関数を使うかしないと使えないが、パッケージは containers にあって、それは ghc にはじめからインストールされている。"
      ]
    },
    {
      "cell_type": "code",
      "metadata": {
        "id": "4LPJq0oa9bO8"
      },
      "source": [
        "%%writefile temp.hs\n",
        "\n",
        "import qualified Data.Map as M\n",
        "\n",
        "errorsPerLine = M.fromList [ (\"Chris\", 472), (\"Don\", 100), (\"Simon\", -5) ]\n",
        "\n",
        "main = do \n",
        "    putStrLn \"Who are you?\"\n",
        "    name <- getLine\n",
        "    case M.lookup name errorsPerLine of\n",
        "        Nothing -> putStrLn \"I don't know you\"\n",
        "        Just n  -> do putStr \"Errors per line: \"\n",
        "                      print n"
      ],
      "execution_count": null,
      "outputs": []
    },
    {
      "cell_type": "code",
      "metadata": {
        "id": "CwHKDTs_jGqK"
      },
      "source": [
        "!echo Don | runghc temp.hs"
      ],
      "execution_count": null,
      "outputs": []
    },
    {
      "cell_type": "code",
      "metadata": {
        "id": "sgIS8yV9kPZ2"
      },
      "source": [
        "!echo Bob | runghc temp.hs"
      ],
      "execution_count": null,
      "outputs": []
    },
    {
      "cell_type": "code",
      "metadata": {
        "id": "I33RQzT6YAaS"
      },
      "source": [
        "!ghc -e $'let errorsPerLine = Data.Map.fromList [(\"Chris\", 472), (\"Don\", 100), (\"Simon\", -5)] in do case Data.Map.lookup \"Simon\" errorsPerLine of Just n -> print n'"
      ],
      "execution_count": null,
      "outputs": []
    },
    {
      "cell_type": "code",
      "metadata": {
        "id": "unVJIfwAY57q"
      },
      "source": [
        "!ghc -e $'let errorsPerLine = Data.Map.fromList [(\"Chris\", 472), (\"Don\", 100), (\"Simon\", -5)] in print errorsPerLine'\n"
      ],
      "execution_count": null,
      "outputs": []
    },
    {
      "cell_type": "markdown",
      "metadata": {
        "id": "05q0I6VCAal4"
      },
      "source": [
        "四則演算"
      ]
    },
    {
      "cell_type": "code",
      "metadata": {
        "id": "FQCMMJLxdoam"
      },
      "source": [
        "!ghc -e '2 + 15'\n",
        "!ghc -e '49 * 100'\n",
        "!ghc -e '1892 - 1472'\n",
        "!ghc -e '5 / 2'"
      ],
      "execution_count": null,
      "outputs": []
    },
    {
      "cell_type": "code",
      "metadata": {
        "id": "AFkAK5ZEnkFW"
      },
      "source": [
        "!ghc -e '(50 * 100) - 4999'\n",
        "!ghc -e '50 * 100 - 4999'\n",
        "!ghc -e '50 * (100 - 4999)'"
      ],
      "execution_count": null,
      "outputs": []
    },
    {
      "cell_type": "code",
      "metadata": {
        "id": "wOvMZGQ5nmR4"
      },
      "source": [
        "!ghc -e 'True && False'\n",
        "!ghc -e 'True && True'\n",
        "!ghc -e 'False || True'\n",
        "!ghc -e 'not False'\n",
        "!ghc -e 'not (True && True)'"
      ],
      "execution_count": null,
      "outputs": []
    },
    {
      "cell_type": "code",
      "metadata": {
        "id": "MDS-LdXBocT4"
      },
      "source": [
        "!ghc -e 'succ 8'\n",
        "!ghc -e 'min 9 10'\n",
        "!ghc -e 'min 3.4 3.2'\n",
        "!ghc -e 'max 100 101'\n",
        "!ghc -e 'max(1)(2)'"
      ],
      "execution_count": null,
      "outputs": []
    },
    {
      "cell_type": "markdown",
      "metadata": {
        "id": "tKwonjJ6ozn-"
      },
      "source": [
        "関数の優先順位が一番高い。\n",
        "\n",
        "次の2つの式は同じ意味になる。\n"
      ]
    },
    {
      "cell_type": "code",
      "metadata": {
        "id": "iBs4X0rco0E8"
      },
      "source": [
        "!ghc -e 'succ 9 + max 5 4 + 1'\n",
        "!ghc -e '(succ 9) + (max 5 4) + 1'"
      ],
      "execution_count": null,
      "outputs": []
    },
    {
      "cell_type": "code",
      "metadata": {
        "id": "SIVVq2yRpOM_"
      },
      "source": [
        "!ghc -e 'succ 9 * 10'"
      ],
      "execution_count": null,
      "outputs": []
    },
    {
      "cell_type": "code",
      "source": [
        "# 整数除算 整数計算 整数の割り算\n",
        "!ghc -e '92 `div` 10'\n",
        "!ghc -e '92 / 10'\n",
        "!ghc -e '92 `mod` 10'"
      ],
      "metadata": {
        "id": "L5od-47zpe_l"
      },
      "execution_count": null,
      "outputs": []
    },
    {
      "cell_type": "code",
      "metadata": {
        "id": "JPs9z0Agin6M",
        "outputId": "39ed1905-2935-494e-b7d0-0d1cec2f6177",
        "colab": {
          "base_uri": "https://localhost:8080/"
        }
      },
      "source": [
        "!ghc -e '-92 `div` 10'\n",
        "!ghc -e 'floor (92 / 10)'\n",
        "!ghc -e 'floor (-92 / 10)'"
      ],
      "execution_count": null,
      "outputs": [
        {
          "output_type": "stream",
          "name": "stdout",
          "text": [
            "-9\n",
            "9\n",
            "-10\n"
          ]
        }
      ]
    },
    {
      "cell_type": "markdown",
      "metadata": {
        "id": "g2awhpFhVCQL"
      },
      "source": [
        "# 関数"
      ]
    },
    {
      "cell_type": "markdown",
      "metadata": {
        "id": "QBlbCX1pj79K"
      },
      "source": [
        "# 質問 関数の型を調べる方法はあるか。"
      ]
    },
    {
      "cell_type": "code",
      "metadata": {
        "id": "XkZ08fY0VEv6"
      },
      "source": [
        "%%writefile temp.hs\n",
        "doubleMe x = x + x\n",
        "\n",
        "main = do\n",
        "    print(doubleMe 9)\n",
        "    print(doubleMe 8.3)"
      ],
      "execution_count": null,
      "outputs": []
    },
    {
      "cell_type": "code",
      "metadata": {
        "id": "WICZfSInfhEF"
      },
      "source": [
        "!runghc temp.hs"
      ],
      "execution_count": null,
      "outputs": []
    },
    {
      "cell_type": "markdown",
      "metadata": {
        "id": "DqV75lcfkhVB"
      },
      "source": [
        "次の例で doubleUs を 2回定義しようとすると redundant エラーになる。"
      ]
    },
    {
      "cell_type": "code",
      "metadata": {
        "id": "ZJDh4GipVhYq"
      },
      "source": [
        "%%writefile temp.hs\n",
        "doubleMe x = x + x\n",
        "doubleUs x y = x*2 + y*2   \n",
        "doubleUs x y = doubleMe x + doubleMe y\n",
        "\n",
        "main = do\n",
        "    print(doubleUs 4 9)\n",
        "    print(doubleUs 2.3 34.2)\n",
        "    print(doubleUs 28 88 + doubleMe 123)"
      ],
      "execution_count": null,
      "outputs": []
    },
    {
      "cell_type": "code",
      "metadata": {
        "id": "-LA5XHXngNtw"
      },
      "source": [
        "!runghc temp.hs"
      ],
      "execution_count": null,
      "outputs": []
    },
    {
      "cell_type": "markdown",
      "metadata": {
        "id": "PYRry4HUlQbB"
      },
      "source": [
        "# VSCode の拡張機能で次のように関数の型がわかる。"
      ]
    },
    {
      "cell_type": "code",
      "metadata": {
        "id": "QlMG8DCdnHkk"
      },
      "source": [
        "%%writefile temp.hs\n",
        "-- Haskell の if では else は必須。なぜなら if は式であり、返り値が必要だから。\n",
        "doubleSmallNumber :: (Ord a, Num a) => a -> a\n",
        "doubleSmallNumber x = if x > 100 then x else x * 2\n",
        "\n",
        "main :: IO ()\n",
        "main = do\n",
        "  x <- readLn\n",
        "  print (doubleSmallNumber x)"
      ],
      "execution_count": null,
      "outputs": []
    },
    {
      "cell_type": "code",
      "metadata": {
        "id": "_4cjdLG0nLHO"
      },
      "source": [
        "!echo 120 | runghc temp.hs\n",
        "!echo 12 | runghc temp.hs"
      ],
      "execution_count": null,
      "outputs": []
    },
    {
      "cell_type": "code",
      "metadata": {
        "id": "qV8VRsIJbm3I"
      },
      "source": [
        "# python の if then は次のように書く\n",
        "\n",
        "def doubleSmallNumber (x) :\n",
        "    if x > 100 :\n",
        "        return x\n",
        "    else:\n",
        "        return x * 2\n",
        "\n",
        "print (doubleSmallNumber (120))\n",
        "print (doubleSmallNumber (12))"
      ],
      "execution_count": null,
      "outputs": []
    },
    {
      "cell_type": "code",
      "metadata": {
        "id": "5mNdpWKTdsTr"
      },
      "source": [
        "!ghc -e $'let conanO\\'Brien = \"It\\'s a-me, Conan O\\'Brien!\" in conanO\\'Brien'\n"
      ],
      "execution_count": null,
      "outputs": []
    },
    {
      "cell_type": "markdown",
      "metadata": {
        "id": "QPcmXomYd-sT"
      },
      "source": [
        "上の例で2つのことを指摘したい。\n",
        "\n",
        "1. 関数名は小文字で始まる。\n",
        "1. 関数は引数なしもあり得る。引数なしの場合、ただの定義になる。"
      ]
    },
    {
      "cell_type": "code",
      "metadata": {
        "id": "1sZcN_P-v_Yu"
      },
      "source": [
        "# `let in` とワンライナー\n",
        "!ghc -e $'let doubleSmallNumber x = if x > 100 then x else x * 2 in doubleSmallNumber 18'"
      ],
      "execution_count": null,
      "outputs": []
    },
    {
      "cell_type": "markdown",
      "metadata": {
        "id": "y6H51hT-zQ3d"
      },
      "source": [
        "# リスト"
      ]
    },
    {
      "cell_type": "code",
      "metadata": {
        "id": "wnQmo8IGzSaV"
      },
      "source": [
        "!ghc -e $'let lostNumbers = [4,8,15,16,23,42] in lostNumbers'"
      ],
      "execution_count": null,
      "outputs": []
    },
    {
      "cell_type": "code",
      "metadata": {
        "id": "rvpkOXPo0aJu"
      },
      "source": [
        "!ghc -e $'[1,2,3,4] ++ [9,10,11,12]'\n",
        "!ghc -e $'\"hello\" ++ \" \" ++ \"world\"'\n",
        "!ghc -e $'[\\'w\\', \\'o\\'] ++ [\\'o\\',\\'t\\']'"
      ],
      "execution_count": null,
      "outputs": []
    },
    {
      "cell_type": "code",
      "metadata": {
        "id": "U_9C6CqF0sRr"
      },
      "source": [
        "!ghc -e $'\\'A\\':\" SMALL CAT\"'\n",
        "!ghc -e $'5:[1,2,3,4,5]'"
      ],
      "execution_count": null,
      "outputs": []
    },
    {
      "cell_type": "markdown",
      "metadata": {
        "id": "o4UHyTtI07zX"
      },
      "source": [
        "`[1,2,3]` は内部的には `1:2:3:[]` で、`[]` は空リストである。空リストの冒頭に 3 を加えると `[3]` になる。できたリストの頭に 2 を加えると、`[2,3]` になる。"
      ]
    },
    {
      "cell_type": "code",
      "metadata": {
        "id": "Tn4oyGN-1yoR"
      },
      "source": [
        "!ghc -e '\"Steve Buscemi\" !! 6'\n",
        "!ghc -e '[9.4,33.2,96.2,11.2,23.25] !! 1'"
      ],
      "execution_count": null,
      "outputs": []
    },
    {
      "cell_type": "code",
      "metadata": {
        "id": "09V_A7nx1ztd"
      },
      "source": [
        "# python では次のように書く\n",
        "\n",
        "print (\"Steve Buscemi\"[6])\n",
        "print ([9.4,33.2,96.2,11.2,23.25][1])\n"
      ],
      "execution_count": null,
      "outputs": []
    },
    {
      "cell_type": "markdown",
      "metadata": {
        "id": "bFGr1ma4GG1k"
      },
      "source": [
        "# インデクスが大きすぎるとエラーになる。"
      ]
    },
    {
      "cell_type": "code",
      "metadata": {
        "id": "XtxFVZtxGFCh"
      },
      "source": [
        "!ghc -e '[9.4,33.2,96.2,11.2,23.25] !! 6'"
      ],
      "execution_count": null,
      "outputs": []
    },
    {
      "cell_type": "code",
      "metadata": {
        "id": "LFMRXLVz0RMT"
      },
      "source": [
        "!ghc -e 'let b = [[1,2,3,4],[5,3,3,3],[1,2,2,3,4],[1,2,3]] in b ++ [[1,1,1,1]] '\n",
        "!ghc -e 'let b = [[1,2,3,4],[5,3,3,3],[1,2,2,3,4],[1,2,3]] in [6,6,6]:b'\n",
        "!ghc -e 'let b = [[1,2,3,4],[5,3,3,3],[1,2,2,3,4],[1,2,3]] in b !! 2'"
      ],
      "execution_count": null,
      "outputs": []
    },
    {
      "cell_type": "code",
      "metadata": {
        "id": "qI-239Nk2PQh"
      },
      "source": [
        "%%writefile temp.hs\n",
        "\n",
        "b :: [[Int]]\n",
        "b = [[1,2,3,4],[5,3,3,3],[1,2,2,3,4],[1,2,3]]\n",
        "\n",
        "main :: IO ()\n",
        "main = do \n",
        "  print (b ++ [[1,1,1,1]])\n",
        "  print ([6,6,6]:b)\n",
        "  print (b !! 2)"
      ],
      "execution_count": null,
      "outputs": []
    },
    {
      "cell_type": "code",
      "metadata": {
        "id": "majrty089BTP"
      },
      "source": [
        "!runghc temp.hs"
      ],
      "execution_count": null,
      "outputs": []
    },
    {
      "cell_type": "code",
      "metadata": {
        "id": "q-d8t2JO-f_s"
      },
      "source": [
        "# 実験\n",
        "%%writefile temp.hs\n",
        "main :: IO ()\n",
        "main = do \n",
        "    let x = b ++ [[1,1,1,1]] where b = [[1,2,3,4],[5,3,3,3],[1,2,2,3,4],[1,2,3]]\n",
        "    print x"
      ],
      "execution_count": null,
      "outputs": []
    },
    {
      "cell_type": "code",
      "metadata": {
        "id": "dhc0eNHqBPuI"
      },
      "source": [
        "!runghc temp.hs"
      ],
      "execution_count": null,
      "outputs": []
    },
    {
      "cell_type": "code",
      "metadata": {
        "id": "cE8zs8Of8mEO"
      },
      "source": [
        "%%writefile temp.hs\n",
        "calcBmi cm kg\n",
        "  | bmi <= 18.5 = \"痩せてるね\"\n",
        "  | bmi <= 25.0 = \"普通だね\"\n",
        "  | bmi <= 30.0 = \"ぽっちゃりだね\"\n",
        "  | otherwise = \"太っているね\"\n",
        "  where\n",
        "    bmi = kg / (m ^ 2)\n",
        "    m = cm / 100\n",
        "\n",
        "main = do\n",
        "  putStrLn $ calcBmi 170 60"
      ],
      "execution_count": null,
      "outputs": []
    },
    {
      "cell_type": "code",
      "metadata": {
        "id": "Kd8vqiyG8w9P"
      },
      "source": [
        "!runghc temp.hs"
      ],
      "execution_count": null,
      "outputs": []
    },
    {
      "cell_type": "code",
      "metadata": {
        "id": "m3hlaMnMGgIq"
      },
      "source": [
        "!ghc -e '[3,2,1] > [2,1,0]'\n",
        "!ghc -e '[3,2,1] > [2,10,100] '\n",
        "!ghc -e '[3,4,2] > [3,4]'\n",
        "!ghc -e '[3,4,2] > [2,4] '\n",
        "!ghc -e '[3,4,2] == [3,4,2]'"
      ],
      "execution_count": null,
      "outputs": []
    },
    {
      "cell_type": "code",
      "metadata": {
        "id": "F4wLT3baGqIy"
      },
      "source": [
        "!ghc -e 'head [5,4,3,2,1] '\n",
        "!ghc -e 'tail [5,4,3,2,1] '\n"
      ],
      "execution_count": null,
      "outputs": []
    },
    {
      "cell_type": "code",
      "metadata": {
        "id": "GFNfbwqRG0Ec"
      },
      "source": [
        "!ghc -e 'last [5,4,3,2,1]  '\n",
        "!ghc -e 'init [5,4,3,2,1] '"
      ],
      "execution_count": null,
      "outputs": []
    },
    {
      "cell_type": "markdown",
      "metadata": {
        "id": "lUNKb5yuG7lC"
      },
      "source": [
        "空リストの head を取ろうとするとエラーになる。"
      ]
    },
    {
      "cell_type": "code",
      "metadata": {
        "id": "nW8V3FxzG8Fp"
      },
      "source": [
        "!ghc -e 'head []'"
      ],
      "execution_count": null,
      "outputs": []
    },
    {
      "cell_type": "code",
      "metadata": {
        "id": "3zr0TMJkHVd-"
      },
      "source": [
        "!ghc -e 'length [5,4,3,2,1]'\n",
        "!ghc -e 'null [1,2,3]  '\n",
        "!ghc -e 'null [] '\n",
        "!ghc -e 'reverse [5,4,3,2,1] '"
      ],
      "execution_count": null,
      "outputs": []
    },
    {
      "cell_type": "code",
      "metadata": {
        "id": "scv3bPba33Zh"
      },
      "source": [
        "!ghc -e 'Data.List.sort [5,4,3,2,1] '"
      ],
      "execution_count": null,
      "outputs": []
    },
    {
      "cell_type": "code",
      "metadata": {
        "id": "x17NceVRHlSz"
      },
      "source": [
        "!ghc -e 'take 3 [5,4,3,2,1]'\n",
        "!ghc -e 'take 1 [3,9,3]'\n",
        "!ghc -e 'take 5 [1,2]'\n",
        "!ghc -e 'take 0 [6,6,6]'\n",
        "!ghc -e 'take 1 []'\n",
        "!ghc -e 'take -1 [6,6,6]' # エラー"
      ],
      "execution_count": null,
      "outputs": []
    },
    {
      "cell_type": "code",
      "metadata": {
        "id": "IItgPWw8Hylk"
      },
      "source": [
        "!ghc -e 'drop 3 [8,4,2,1,5,6]  '\n",
        "!ghc -e 'drop 0 [1,2,3,4] '\n",
        "!ghc -e 'drop 100 [1,2,3,4] '"
      ],
      "execution_count": null,
      "outputs": []
    },
    {
      "cell_type": "code",
      "metadata": {
        "id": "hHOHtCnlH690"
      },
      "source": [
        "!ghc -e 'minimum [8,4,2,1,5,6]'\n",
        "!ghc -e 'maximum [1,9,2,3,4] '"
      ],
      "execution_count": null,
      "outputs": []
    },
    {
      "cell_type": "code",
      "metadata": {
        "id": "hEIy4RgTGV4D",
        "colab": {
          "base_uri": "https://localhost:8080/"
        },
        "outputId": "834b4f51-d624-481b-fc51-6bed3b500081"
      },
      "source": [
        "!ghc -e 'sum [5,2,1,6,3,2,5,7]'\n",
        "!ghc -e 'product [6,2,1,2]  '\n",
        "!ghc -e 'product [1,2,5,6,7,9,2,0]  '"
      ],
      "execution_count": null,
      "outputs": [
        {
          "output_type": "stream",
          "name": "stdout",
          "text": [
            "31\n",
            "24\n",
            "0\n"
          ]
        }
      ]
    },
    {
      "cell_type": "code",
      "metadata": {
        "id": "6wDxixWAGtXO"
      },
      "source": [
        "!ghc -e 'elem 4 [3,4,5,6]  '\n",
        "!ghc -e 'elem 10 [3,4,5,6] '"
      ],
      "execution_count": null,
      "outputs": []
    },
    {
      "cell_type": "markdown",
      "metadata": {
        "id": "sYQTtxMuHGDf"
      },
      "source": [
        "# range"
      ]
    },
    {
      "cell_type": "code",
      "metadata": {
        "id": "g2AGs_jNHip6"
      },
      "source": [
        "!ghc -e $'[1..20]  '\n",
        "!ghc -e $'[\\'a\\'..\\'z\\']  '\n",
        "!ghc -e $'[\\'K\\'..\\'Z\\']  '\n",
        "!ghc -e $'[2,4..20]  '\n",
        "!ghc -e $'[3,6..20]  '\n",
        "!ghc -e $'[20,19..1]'"
      ],
      "execution_count": null,
      "outputs": []
    },
    {
      "cell_type": "code",
      "metadata": {
        "id": "Kb0ZV1uRfVgq"
      },
      "source": [
        "# do not use floating point numbers in ranges\n",
        "!ghc -e '[0.1, 0.3 .. 1] '"
      ],
      "execution_count": null,
      "outputs": []
    },
    {
      "cell_type": "code",
      "metadata": {
        "id": "faDphCBjfrOA"
      },
      "source": [
        "# infinite list\n",
        "!ghc -e 'take 10 [1..]'\n",
        "!ghc -e 'take 10 $ cycle [1,2,3]'\n",
        "!ghc -e 'take 10 (cycle [1,2,3])'\n",
        "!ghc -e 'take 12 (cycle \"LOL \")  '\n",
        "!ghc -e 'take 10 (repeat 5) '\n",
        "!echo\n",
        "!ghc -e 'replicate 3 10'"
      ],
      "execution_count": null,
      "outputs": []
    },
    {
      "cell_type": "markdown",
      "metadata": {
        "id": "4YgqZnJMgnui"
      },
      "source": [
        "# 内包表記 list comprehension"
      ]
    },
    {
      "cell_type": "markdown",
      "metadata": {
        "id": "YDHFsquwkhFv"
      },
      "source": [
        "集合で習う集合の内包表記は数式で次の様に書く。\n",
        "\n",
        "$$\n",
        "S= \\{2 \\cdot x \\mid x \\in  \\mathbb{N}, \\ x \\leq 10 \\}\n",
        "$$"
      ]
    },
    {
      "cell_type": "code",
      "metadata": {
        "id": "FPRji7FKkpWg"
      },
      "source": [
        "# 参考 集合で習う集合の内包表記は数式で次の様に書く。\n",
        "%%latex\n",
        "\n",
        "S= \\{2 \\cdot x \\mid x \\in  \\mathbb{N}, \\ x \\leq 10 \\}\n"
      ],
      "execution_count": null,
      "outputs": []
    },
    {
      "cell_type": "code",
      "metadata": {
        "id": "u1EYZe1Ognc-"
      },
      "source": [
        "!ghc -e '[x*2 | x <- [1..10]]'\n",
        "!ghc -e '[x*2 | x <- [1..10], x*2 >= 12]'\n",
        "!ghc -e '[ x | x <- [50..100], x `mod` 7 == 3]'"
      ],
      "execution_count": null,
      "outputs": []
    },
    {
      "cell_type": "code",
      "metadata": {
        "id": "pb5JIQUIimEX"
      },
      "source": [
        "!ghc -e 'let boomBangs xs = [ if x < 10 then \"BOOM!\" else \"BANG!\" | x <- xs, odd x] in boomBangs [7..13]'"
      ],
      "execution_count": null,
      "outputs": []
    },
    {
      "cell_type": "code",
      "metadata": {
        "id": "gCxWBDBBizHr"
      },
      "source": [
        "!ghc -e '[ x | x <- [10..20], x /= 13, x /= 15, x /= 19]'"
      ],
      "execution_count": null,
      "outputs": []
    },
    {
      "cell_type": "code",
      "metadata": {
        "id": "_b5ceC4-F4a8"
      },
      "source": [
        "!ghc -e '[ x*y | x <- [2,5,10], y <- [8,10,11]] '\n",
        "!ghc -e '[ x*y | x <- [2,5,10], y <- [8,10,11], x*y > 50]'"
      ],
      "execution_count": null,
      "outputs": []
    },
    {
      "cell_type": "code",
      "metadata": {
        "id": "oU9sVB_wC-N3"
      },
      "source": [
        "!ghc -e '[ (x, y) | x <- [2,5,10], y <- [8,10,11]] '\n",
        "!ghc -e '[ [x, y] | x <- [2,5,10], y <- [8,10,11]] '"
      ],
      "execution_count": null,
      "outputs": []
    },
    {
      "cell_type": "code",
      "metadata": {
        "id": "ZX2I0PzcGedi"
      },
      "source": [
        "!ghc -e 'let {nouns = [\"hobo\",\"frog\",\"pope\"]; adjectives = [\"lazy\",\"grouchy\",\"scheming\"]} in [adjective ++ \" \" ++ noun | adjective <- adjectives, noun <- nouns]'"
      ],
      "execution_count": null,
      "outputs": []
    },
    {
      "cell_type": "code",
      "metadata": {
        "id": "GOyKIOqVIuIL"
      },
      "source": [
        "# 日本語でやってみたら、文字化けしてしまった\n",
        "!ghc -e 'let {nouns = [\"流れもの\",\"カエル\",\"坊主\"]; adjectives = [\"なまけものの\",\"文句たれの\",\"ずるい\"]} in [adjective ++ noun | adjective <- adjectives, noun <- nouns]'"
      ],
      "execution_count": null,
      "outputs": []
    },
    {
      "cell_type": "code",
      "metadata": {
        "id": "x9PAeNCIM255"
      },
      "source": [
        "# 実験 putStrLn で取り出す\n",
        "!ghc -e 'let {nouns = [\"流れもの\",\"カエル\",\"坊主\"]; adjectives = [\"なまけものの\",\"文句たれの\",\"ずるい\"]} in mapM_ putStrLn [adjective ++ noun | adjective <- adjectives, noun <- nouns]'"
      ],
      "execution_count": null,
      "outputs": []
    },
    {
      "cell_type": "code",
      "metadata": {
        "id": "3kyz1NYvJujX"
      },
      "source": [
        "# 実験\n",
        "%%writefile adjective_temp.hs\n",
        "nouns = [\"流れもの\",\"カエル\",\"坊主\"]; \n",
        "adjectives = [\"なまけものの\",\"文句たれの\",\"ずるい\"]\n",
        "adjectiveplusnouns = [adjective ++ noun | adjective <- adjectives, noun <- nouns]\n",
        "\n",
        "main = do\n",
        "    putStrLn (adjectiveplusnouns!!0)\n",
        "    mapM_ putStrLn adjectiveplusnouns"
      ],
      "execution_count": null,
      "outputs": []
    },
    {
      "cell_type": "code",
      "metadata": {
        "id": "_j60kkBeMVtf"
      },
      "source": [
        "!runghc adjective_temp.hs"
      ],
      "execution_count": null,
      "outputs": []
    },
    {
      "cell_type": "code",
      "metadata": {
        "id": "MqYeoGw5RLYs"
      },
      "source": [
        "# length を実装する\n",
        "!ghc -e 'let length01 xs = sum [1 | _ <- xs] in print (length01 [1,2,3])'"
      ],
      "execution_count": null,
      "outputs": []
    },
    {
      "cell_type": "code",
      "metadata": {
        "id": "dL2-xvNOR8VD"
      },
      "source": [
        "!ghc -e $'let removeNonUppercase st = [ c | c <- st, elem c [\\'A\\'..\\'Z\\']] in putStrLn(\"IdontLIKEFROGS\")'"
      ],
      "execution_count": null,
      "outputs": []
    },
    {
      "cell_type": "code",
      "metadata": {
        "id": "g8VJyPP8QfH1"
      },
      "source": [
        "!ghc -e $'let removeNonUppercase st = [ c | c <- st, elem c [\\'A\\'..\\'Z\\']] in putStrLn(removeNonUppercase \"IdontLIKEFROGS\")'"
      ],
      "execution_count": null,
      "outputs": []
    },
    {
      "cell_type": "code",
      "metadata": {
        "id": "AExiKVBmTmXz"
      },
      "source": [
        "%%writefile temp.hs\n",
        "main = do\n",
        "  let xxs = [[1,3,5,2,3,1,2,4,5],[1,2,3,4,5,6,7,8,9],[1,2,4,2,1,6,3,1,3,2,3,6]] \n",
        "      newlist =  [ [ x | x <- xs, even x ] | xs <- xxs] \n",
        "      in print newlist"
      ],
      "execution_count": null,
      "outputs": []
    },
    {
      "cell_type": "code",
      "metadata": {
        "id": "RrP9uTJNTqaa"
      },
      "source": [
        "!runghc temp.hs"
      ],
      "execution_count": null,
      "outputs": []
    },
    {
      "cell_type": "code",
      "metadata": {
        "id": "qT0BZBxyqFaN"
      },
      "source": [
        "!ghc -e 'let xxs = [[1,3,5,2,3,1,2,4,5],[1,2,3,4,5,6,7,8,9],[1,2,4,2,1,6,3,1,3,2,3,6]] in  [ [ x | x <- xs, even x ] | xs <- xxs]'\n"
      ],
      "execution_count": null,
      "outputs": []
    },
    {
      "cell_type": "code",
      "metadata": {
        "id": "EBDXuuziQ_Ls"
      },
      "source": [
        "# bash は \\ を入れることで長いコマンドに改行を入れることができる\n",
        "!ghc -e '\\\n",
        "    let xxs = [[1,3,5,2,3,1,2,4,5],[1,2,3,4,5,6,7,8,9],[1,2,4,2,1,6,3,1,3,2,3,6]] \\\n",
        "        in  [ [ x | x <- xs, even x ] | xs <- xxs]'"
      ],
      "execution_count": null,
      "outputs": []
    },
    {
      "cell_type": "markdown",
      "metadata": {
        "id": "zNCsRM7sqTPS"
      },
      "source": [
        "# タプル tuple"
      ]
    },
    {
      "cell_type": "code",
      "metadata": {
        "id": "YmtFps_Gp2ED"
      },
      "source": [
        "# zip でタプルを作る\n",
        "# 長さが合わない時 => 残りは捨てられる\n",
        "!ghc -e 'zip [5,3,2,6,2,7,2,5,4,6,6] [\"im\",\"a\",\"turtle\"]'"
      ],
      "execution_count": null,
      "outputs": []
    },
    {
      "cell_type": "code",
      "metadata": {
        "id": "oZibfkpLqvnI"
      },
      "source": [
        "# これと遅延評価を利用すると、長いリストを扱える\n",
        "!ghc -e '[ (a,b,c) | c <- [1..10], b <- [1..c], a <- [1..b], a^2 + b^2 == c^2, a+b+c == 24]'\n"
      ],
      "execution_count": null,
      "outputs": []
    },
    {
      "cell_type": "code",
      "metadata": {
        "id": "MW4PBj0KSTca"
      },
      "source": [
        "!ghc -e 'take 10 [ (a,b,c) | c <- [1..10], b <- [1..c], a <- [1..b]]'"
      ],
      "execution_count": null,
      "outputs": []
    },
    {
      "cell_type": "markdown",
      "metadata": {
        "id": "MykKGye5w1HI"
      },
      "source": [
        "# 型 type と 型クラス type class"
      ]
    },
    {
      "cell_type": "code",
      "metadata": {
        "id": "MAE7s1W9wn2b"
      },
      "source": [
        "!ghc -e $':t \\'a\\''\n",
        "!ghc -e $':t True'\n",
        "!ghc -e $':t \"HELLO!\"'\n",
        "!ghc -e $':t (True, \\'a\\')'\n",
        "!ghc -e $':t 4 == 5'"
      ],
      "execution_count": null,
      "outputs": []
    },
    {
      "cell_type": "markdown",
      "metadata": {
        "id": "QNN-nWJBW7Gp"
      },
      "source": [
        ":: は (の)型(は) (has type of) と読む。\n"
      ]
    },
    {
      "cell_type": "code",
      "metadata": {
        "id": "-MlynYqMYOJk"
      },
      "source": [
        "!ghc -e $':t (\\'a\\',\\'b\\',\\'c\\')'\n",
        "!ghc -e $':t [\\'a\\',\\'b\\',\\'c\\']'"
      ],
      "execution_count": null,
      "outputs": []
    },
    {
      "cell_type": "markdown",
      "metadata": {
        "id": "aynmNzHYYjfR"
      },
      "source": [
        "上のセルの一行目はタプルで、二行目がリスト。"
      ]
    },
    {
      "cell_type": "markdown",
      "metadata": {
        "id": "4ukpwwdpRz4P"
      },
      "source": [
        "# 関数の型について"
      ]
    },
    {
      "cell_type": "markdown",
      "metadata": {
        "id": "hBioXNVtLz_Z"
      },
      "source": [
        "関数の型は次のように書く。\n",
        "\n",
        "removeNonUppercase :: [Char] -> [Char]\n",
        "\n",
        "removeNonUppercase st = [ c | c <- st, c `elem` ['A'..'Z']]\n",
        "\n",
        "ここで、[Char] -> [Char] というのは string を受けて、 string を返す、という意味。\n",
        "\n",
        "引数が 3個とかだと次のようになる。\n",
        "\n",
        "addThree :: Int -> Int -> Int -> Int\n",
        "\n",
        "addThree x y z = x + y + z\n",
        "\n",
        "最後の  -> Int が返り値で、その前の 3個が引数。\n",
        "\n",
        "\n",
        "\n",
        "\n"
      ]
    },
    {
      "cell_type": "code",
      "metadata": {
        "id": "H6EC7u_3T5SF"
      },
      "source": [
        "!ghc -e 'let factorial n = product [1..n] in factorial 50'"
      ],
      "execution_count": null,
      "outputs": []
    },
    {
      "cell_type": "markdown",
      "metadata": {
        "id": "p6UOG8fJZu20"
      },
      "source": [
        "上記の factorial のタイプは\n",
        "\n",
        "Integer -> Integer\n",
        "\n",
        "で Int でないのは、Integerの方が大きな数を扱えるから。\n",
        "\n",
        "効率は Int の方がよい。\n",
        "\n"
      ]
    },
    {
      "cell_type": "code",
      "metadata": {
        "id": "fkaU3elEAG9U"
      },
      "source": [
        "# 実験\n",
        "!ghc -e 'let {circumference :: Float -> Float;circumference r = 2 * pi * r} in circumference 4.0'\n",
        "!ghc -e 'let {circumference :: Double -> Double; circumference r = 2 * pi * r} in circumference 4.0'\n",
        "# 次のは pi が Int でないのでエラーになる\n",
        "!ghc -e 'let {circumference :: Int -> Int; circumference r = 2 * pi * r} in circumference 4'"
      ],
      "execution_count": null,
      "outputs": []
    },
    {
      "cell_type": "code",
      "metadata": {
        "id": "Ts4sqEknaQK9"
      },
      "source": [
        "# 実験 \n",
        "!ghc -e 'pi'\n",
        "!ghc -e 'exp 1'\n",
        "!ghc -e ':t pi'\n",
        "!ghc -e ':t exp'\n",
        "!ghc -e ':t exp 1'"
      ],
      "execution_count": null,
      "outputs": []
    },
    {
      "cell_type": "code",
      "metadata": {
        "id": "ZeyNRMCfjPe6"
      },
      "source": [
        "!ghc -e ':t exp'"
      ],
      "execution_count": null,
      "outputs": []
    },
    {
      "cell_type": "code",
      "metadata": {
        "id": "YaepHxwnjoH7"
      },
      "source": [
        "!ghc -e ':t (==)'"
      ],
      "execution_count": null,
      "outputs": []
    },
    {
      "cell_type": "markdown",
      "metadata": {
        "id": "5LiFuyVIgD9T"
      },
      "source": [
        "# `=>` 記号\n",
        "型制約、型クラス制約 class constraint\n",
        "\n",
        "例えば、(==) について言えば\n",
        "\n",
        "(==) :: Eq a => a -> a -> Bool\n",
        "\n",
        "(==) 関数は、2つの値 (a -> a) を引数としてとり、真偽値 Bool を返り値として返すが、この 2つの値は、Eq 型クラスに属していなければならない。\n",
        "\n",
        "というように読む。\n",
        "\n"
      ]
    },
    {
      "cell_type": "code",
      "metadata": {
        "id": "T1QRimtx6vO9"
      },
      "source": [
        "!ghc -e ':t head'"
      ],
      "execution_count": null,
      "outputs": []
    },
    {
      "cell_type": "markdown",
      "metadata": {
        "id": "be8RDfXX7kiU"
      },
      "source": [
        "上記の結果\n",
        "\n",
        "head :: [a] -> a\n",
        "\n",
        "の a は、型変数と呼ばれ、これの場合は、型クラス制約がなければなんでもいい、という意味。\n",
        "\n",
        "型変数がある関数は 多形性 polymorphic 関数を呼ばれる。\n",
        "\n"
      ]
    },
    {
      "cell_type": "code",
      "metadata": {
        "id": "h2ZekLvB8e52"
      },
      "source": [
        "!ghc -e ':t fst'"
      ],
      "execution_count": null,
      "outputs": []
    },
    {
      "cell_type": "markdown",
      "metadata": {
        "id": "u4f61nDwXFQv"
      },
      "source": [
        "上記の結果\n",
        "\n",
        "fst :: (a, b) -> a\n",
        "\n",
        "は 2つの要素からなるタプルを引数として、そのタプルの中の最初の要素を返す、という意味。"
      ]
    },
    {
      "cell_type": "code",
      "metadata": {
        "id": "DPvmdZwelWCQ"
      },
      "source": [
        "!ghc -e ':t elem'"
      ],
      "execution_count": null,
      "outputs": []
    },
    {
      "cell_type": "code",
      "metadata": {
        "id": "HeUocyAAlw4G"
      },
      "source": [
        "!ghc -e ':t (>)'"
      ],
      "execution_count": null,
      "outputs": []
    },
    {
      "cell_type": "code",
      "metadata": {
        "id": "TmtVbaYmmCBw"
      },
      "source": [
        "!ghc -e ':t compare'\n",
        "!ghc -e 'compare \"Abrakadabra\" \"Zebra\"'"
      ],
      "execution_count": null,
      "outputs": []
    },
    {
      "cell_type": "code",
      "metadata": {
        "id": "yp8bwfCfmNAe"
      },
      "source": [
        "!ghc -e ':t show'"
      ],
      "execution_count": null,
      "outputs": []
    },
    {
      "cell_type": "code",
      "metadata": {
        "id": "vkLNASfPmtTD"
      },
      "source": [
        "!ghc -e 'show 3'\n",
        "!ghc -e 'show 5.334'\n",
        "!ghc -e 'show True'"
      ],
      "execution_count": null,
      "outputs": []
    },
    {
      "cell_type": "markdown",
      "metadata": {
        "id": "OvlvXtZKoHib"
      },
      "source": [
        "Read 型クラスは Show 型クラスの反対で、read 関数は string を Read 型クラスへ変換する。"
      ]
    },
    {
      "cell_type": "code",
      "metadata": {
        "id": "ask7eBwBoTMs"
      },
      "source": [
        "!ghc -e ':t read'"
      ],
      "execution_count": null,
      "outputs": []
    },
    {
      "cell_type": "code",
      "metadata": {
        "id": "1Y0Slc2xmvZg"
      },
      "source": [
        "!ghc -e 'read \"True\" || False'\n",
        "!ghc -e 'read \"8.2\" + 3.8'\n",
        "!ghc -e 'read \"5\" - 2'\n",
        "!ghc -e 'read \"[1,2,3,4]\" ++ [3]'\n"
      ],
      "execution_count": null,
      "outputs": []
    },
    {
      "cell_type": "code",
      "metadata": {
        "id": "UyaT16a_phvc"
      },
      "source": [
        "# 実験 なにに変換していいかわからないとエラーになる\n",
        "!ghc -e 'read \"4\"'"
      ],
      "execution_count": null,
      "outputs": []
    },
    {
      "cell_type": "code",
      "metadata": {
        "id": "4yKNA9s2Vgku"
      },
      "source": [
        "!ghc -e 'read \"4\"::Int'\n",
        "!ghc -e '(read::String -> Int) \"4\"'"
      ],
      "execution_count": null,
      "outputs": []
    },
    {
      "cell_type": "code",
      "metadata": {
        "id": "mcMTlNxfmyNH"
      },
      "source": [
        "!ghc -e 'read \"5\"::Int'\n",
        "!ghc -e 'read \"5\"::Float'\n",
        "!ghc -e '(read \"5\"::Float) * 4'\n",
        "!ghc -e 'read \"[1,2,3,4]\"::[Int]'\n",
        "!ghc -e $'read \"(3, \\'a\\')\"::(Int, Char)'\n",
        "!ghc -e '(read \"[1,2,3,4]\"::[Int]) ++ [80]'\n",
        "# 次のはエラーになる\n",
        "!ghc -e $'read \"(120, \\'a\\')\"::(Char, Char)'"
      ],
      "execution_count": null,
      "outputs": []
    },
    {
      "cell_type": "code",
      "metadata": {
        "id": "3i52Ibk2rpeG"
      },
      "source": [
        "# Enum は型クラス。型クラスの情報は :k か :i で知る\n",
        "!ghc -e ':t Enum'\n",
        "!ghc -e ':k Enum'\n",
        "!ghc -e ':i Enum'"
      ],
      "execution_count": null,
      "outputs": []
    },
    {
      "cell_type": "code",
      "metadata": {
        "id": "5P0qAgaim0Kv"
      },
      "source": [
        "!ghc -e $'[\\'a\\'..\\'e\\']'\n",
        "!ghc -e '[LT ..GT]'\n",
        "!ghc -e '[3 ..5]'\n",
        "!ghc -e $'succ \\'B\\''\n",
        "!echo\n",
        "!ghc -e 'succ LT'\n",
        "!ghc -e 'succ GT'"
      ],
      "execution_count": null,
      "outputs": []
    },
    {
      "cell_type": "code",
      "metadata": {
        "id": "RyYpFX2Vm1Bo"
      },
      "source": [
        "!ghc -e 'minBound :: Int'\n",
        "!ghc -e 'maxBound :: Char'\n",
        "!ghc -e 'maxBound :: Bool'\n",
        "!ghc -e 'minBound :: Bool'\n",
        "!echo\n",
        "!ghc -e ':t minBound'\n"
      ],
      "execution_count": null,
      "outputs": []
    },
    {
      "cell_type": "code",
      "metadata": {
        "id": "fE9RVhdpm2uf"
      },
      "source": [
        "# tupleのmaxBound\n",
        "!ghc -e 'maxBound :: (Bool, Int, Char)'"
      ],
      "execution_count": null,
      "outputs": []
    },
    {
      "cell_type": "code",
      "metadata": {
        "id": "9GSp8EE0m2Af"
      },
      "source": [
        "# Numも型クラス\n",
        "!ghc -e ':t 20'\n",
        "!ghc -e '20 :: Int'\n",
        "!ghc -e '20 :: Integer'\n",
        "!ghc -e '20 :: Float'\n",
        "!ghc -e '20 :: Double'\n",
        "!echo\n",
        "!ghc -e ':t (*)'"
      ],
      "execution_count": null,
      "outputs": []
    },
    {
      "cell_type": "code",
      "metadata": {
        "id": "ptSQsi3q-Cjz"
      },
      "source": [
        "# 次のはエラーになる\n",
        "!ghc -e ':t (5::Int)*(3::Integer)'"
      ],
      "execution_count": null,
      "outputs": []
    },
    {
      "cell_type": "code",
      "metadata": {
        "id": "4sCgGgi2-mkn"
      },
      "source": [
        "!ghci -e ':t fromIntegral'\n",
        "!ghci -e '(length [1,2,3,4] + 3.2)' # エラー\n",
        "!ghci -e 'fromIntegral (length [1,2,3,4]) + 3.2' #=> 7.2"
      ],
      "execution_count": null,
      "outputs": []
    },
    {
      "cell_type": "markdown",
      "metadata": {
        "id": "kNbngAGP_ydG"
      },
      "source": [
        "# 関数の文法 Syntax in Functions"
      ]
    },
    {
      "cell_type": "markdown",
      "metadata": {
        "id": "IAeMIiBbTos9"
      },
      "source": [
        "# パターンマッチング\n",
        "ここからパターンマッチングになるが、コマンドラインワンライナーでパターンマッチングできるか。"
      ]
    },
    {
      "cell_type": "code",
      "metadata": {
        "id": "9VXtkRvSTeih"
      },
      "source": [
        "%%writefile temp.hs\n",
        "lucky:: (Integral a) => a -> String\n",
        "lucky 7 = \"LUCKY NUMBER SEVEN!!!!\"\n",
        "lucky x = \"Sorry, you're out of luck, pal!!!!\" \n",
        "\n",
        "main = print $ lucky 7"
      ],
      "execution_count": null,
      "outputs": []
    },
    {
      "cell_type": "code",
      "metadata": {
        "id": "OpZwdNPlVJIE"
      },
      "source": [
        "!runghc temp.hs\n"
      ],
      "execution_count": null,
      "outputs": []
    },
    {
      "cell_type": "code",
      "metadata": {
        "id": "s5mZpt0ZVaVw"
      },
      "source": [
        "!ghc -e $'let {lucky 7 = \"LUCKY NUMBER SEVEN!!!!\"; lucky x = \"Sorry, you\\'re out of luck, pal!!!!\" } in print $ lucky 6'"
      ],
      "execution_count": null,
      "outputs": []
    },
    {
      "cell_type": "code",
      "metadata": {
        "id": "nrp2XHZN_7Gn"
      },
      "source": [
        "!ghc -e $'let {sayMe :: (Integral a) => a -> String; sayMe 1 = \"One!\"; sayMe 2 = \"Two!\"; sayMe 3 = \"Three!\"; sayMe 4 = \"Four!\"; sayMe 5 = \"Five!\"; sayMe x = \"Not between 1 and 5\"; } in print $ sayMe 8'\n"
      ],
      "execution_count": null,
      "outputs": []
    },
    {
      "cell_type": "code",
      "metadata": {
        "id": "Og34JxEWCBL1"
      },
      "source": [
        "!ghc -e $'let { factorial :: (Integral a) => a -> a; factorial 0 = 1; factorial n = n * factorial (n - 1); } in print $ factorial 42'\n"
      ],
      "execution_count": null,
      "outputs": []
    },
    {
      "cell_type": "code",
      "metadata": {
        "id": "fhhacyZMDaRZ"
      },
      "source": [
        "!ghc -e $'let {addVectors :: (Num a) => (a, a) -> (a, a) -> (a, a); addVectors a b = (fst a + fst b, snd a + snd b);} in print $ addVectors (1,2) (3, 4)'\n"
      ],
      "execution_count": null,
      "outputs": []
    },
    {
      "cell_type": "code",
      "metadata": {
        "id": "hxV1UAdzERoS"
      },
      "source": [
        "!ghc -e $'let { addVectors :: (Num a) => (a, a) -> (a, a) -> (a, a); addVectors (x1, y1) (x2, y2) = (x1 + x2, y1 + y2);} in addVectors (1, 2) (3, 4)'\n"
      ],
      "execution_count": null,
      "outputs": []
    },
    {
      "cell_type": "code",
      "metadata": {
        "id": "s16B5TzHw4S6"
      },
      "source": [
        "!ghc -e $'let { first :: (a, b, c) -> a; first (x, _, _) = x; } in print $ first (1,2,3)'\n",
        "!ghc -e $'let { second :: (a, b, c) -> b ; second (_, y, _) = y; } in print $ second (1,2,3)'\n",
        "!ghc -e $'let { third :: (a, b, c) -> c; third (_, _, z) = z; } in print $ third (1,2,3)'"
      ],
      "execution_count": null,
      "outputs": []
    },
    {
      "cell_type": "code",
      "metadata": {
        "id": "-MFUrFWkx3uC"
      },
      "source": [
        "!ghc -e $'let xs = [(1,3), (4,3), (2,4), (5,3), (5,6), (3,1)] in [a+b | (a,b) <- xs]'\n",
        "!ghc -e $'let xs = [(1,3), (4,3), (2,4), (5,3), (5,6), (3,1)] in print  [a+b | (a,b) <- xs]'\n"
      ],
      "execution_count": null,
      "outputs": []
    },
    {
      "cell_type": "markdown",
      "metadata": {
        "id": "jQqSUGdlKIJ5"
      },
      "source": [
        "# flatten\n",
        "concat もしくは map concat で flatten できる。"
      ]
    },
    {
      "cell_type": "code",
      "metadata": {
        "id": "xiUZZY3pyVz0"
      },
      "source": [
        "#!echo -e '[(1,3), (4,3), (2,4), (5,3), (5,6), (3,1)]' | ghc -e $'getContents >>= map (\\(a,b) -> a+b)'\n",
        "# !echo -e '10 20\\n30 40\\n50 60' | ghc -e 'getContents >>= print . map (map (read::String -> Int) . words) . lines'\n",
        "# !echo -e '[(1,3), (4,3), (2,4), (5,3), (5,6), (3,1)]' | ghc -e 'getContents >>= map (read::String -> ([(Int, Int)]) . lines'\n",
        "!echo -e '[(1,3), (4,3), (2,4), (5,3), (5,6), (3,1)]' | ghc -e 'getContents >>= print . map (read::String -> [(Int, Int)]) . lines'\n",
        "!echo -e '[(1,3), (4,3), (2,4), (5,3), (5,6), (3,1)]' | ghc -e 'getContents >>= print. map (\\(a,b) -> a+b) . concat . map (read::String -> [(Int, Int)]) . lines'\n"
      ],
      "execution_count": null,
      "outputs": []
    },
    {
      "cell_type": "code",
      "source": [
        "!echo -e '[(1,3), (4,3), (2,4), (5,3), (5,6), (3,1)]'"
      ],
      "metadata": {
        "id": "ylVf5TlU9pmr"
      },
      "execution_count": null,
      "outputs": []
    },
    {
      "cell_type": "markdown",
      "metadata": {
        "id": "EUmqt8osNIVL"
      },
      "source": [
        "# リスト list を x:xs で取り出す"
      ]
    },
    {
      "cell_type": "code",
      "metadata": {
        "id": "wZ2WrU8nNh-e"
      },
      "source": [
        "# head を実装する\n",
        "# !echo -e '[4,5,6]' | ghc -e $'getLine >>= let {head01::[a]->a;head01[]=error \"Can\\'t\"; head01 (x:_)=x;} in (read::String->[a])'\n",
        "# getLine の結果は IO のままなので getContents のときと同様一旦 lines で処理する必要がある\n",
        "# map の結果は print を使わないと返り値だけではエラーになる\n",
        "!echo -e '[4,5,6]' | ghc -e $'getContents >>= print.map (read::String-> [Int]).lines'\n",
        "!echo -e '[4,5,6]' | ghc -e $'getContents >>= print.concat.map (read::String-> [Int]).lines'\n",
        "!echo -e '[4,5,6]' | ghc -e $'getContents >>= let {head01::[a]->a;head01[]=error \"Can\\'t\"; head01 (x:_)=x;} in print.head01.concat.map(read::String->[Int]).lines'\n"
      ],
      "execution_count": null,
      "outputs": []
    },
    {
      "cell_type": "code",
      "metadata": {
        "id": "ou9nWM4L1TJR"
      },
      "source": [
        "!echo -e '\"Hello\"' | ghc -e $'getContents >>= let {head01::[a]->a;head01[]=error \"Can\\'t\"; head01 (x:_)=x;} in print.head01.concat.map(read::String->String).lines'\n",
        "!echo -e '\"Hello\"' | ghc -e $'getContents >>= let {head01::[a]->a;head01[]=error \"Can\\'t\"; head01 (x:_)=x;} in print.head01.concat.map(read::[Char]->[Char]).lines'\n"
      ],
      "execution_count": null,
      "outputs": []
    },
    {
      "cell_type": "code",
      "metadata": {
        "id": "ZdBpJ6K42BDv"
      },
      "source": [
        "!echo -e '[]' | ghc -e $'getContents >>= let {head01::[a]->a;head01[]=error \"Can\\'t\"; head01 (x:_)=x;} in print.head01.concat.map(read::String->String).lines'\n"
      ],
      "execution_count": null,
      "outputs": []
    },
    {
      "cell_type": "code",
      "metadata": {
        "id": "SLqCErcs2qn5"
      },
      "source": [
        "# tell :: (Show a) => [a] -> String\n",
        "# tell [] = \"The list is empty\"\n",
        "# tell (x:[]) = \"The list has one element: \" ++ show x\n",
        "# tell (x:y:[]) = \"The list has two elements: \" ++ show x ++ \" and \" ++ show y\n",
        "# tell (x:y:_) = \"This list is long. The first two elements are: \" ++ show x ++ \" and \" ++ show y\n",
        "!echo -e '[]' | ghc -e $'getContents >>= let{ tell :: (Show a) => [a] -> String; tell [] = \"The list is empty\"; tell (x:[]) = \"The list has one element: \" ++ show x; tell (x:y:[]) = \"The list has two elements: \" ++ show x ++ \" and \" ++ show y; tell (x:y:_) = \"This list is long. The first two elements are: \" ++ show x ++ \" and \" ++ show y;} in print.tell.concat.map (read::String->[Char]).lines'\n",
        "!echo -e '[]' | ghc -e $'getContents >>= let{ tell :: (Show a) => [a] -> String; tell [] = \"The list is empty\"; tell (x:[]) = \"The list has one element: \" ++ show x; tell (x:y:[]) = \"The list has two elements: \" ++ show x ++ \" and \" ++ show y; tell (x:y:_) = \"This list is long. The first two elements are: \" ++ show x ++ \" and \" ++ show y;} in print.tell.concat.map (read::String->String).lines'\n",
        "!echo -e '\"abcdef\"' | ghc -e $'getContents >>= let{ tell :: (Show a) => [a] -> String; tell [] = \"The list is empty\"; tell (x:[]) = \"The list has one element: \" ++ show x; tell (x:y:[]) = \"The list has two elements: \" ++ show x ++ \" and \" ++ show y; tell (x:y:_) = \"This list is long. The first two elements are: \" ++ show x ++ \" and \" ++ show y;} in print.tell.concat.map (read::String->String).lines'\n"
      ],
      "execution_count": null,
      "outputs": []
    },
    {
      "cell_type": "code",
      "metadata": {
        "id": "7Aq-Zn5ZOFyN"
      },
      "source": [
        "# リスト内包表記を使って length を実装する\n",
        "!ghc -e 'let length01 xs = sum [1 | _ <- xs] in print (length01 [1,2,3])'\n",
        "!echo -e '[1,2,3]' | ghc -e 'getContents >>= let {length01 xs = sum [1 | _ <- xs]} in print.length01.concat.map(read::String->[Int]).lines'"
      ],
      "execution_count": null,
      "outputs": []
    },
    {
      "cell_type": "code",
      "metadata": {
        "id": "bmspZeMeFJ60"
      },
      "source": [
        "# パターンマッチングを使ってlength を実装する\n",
        "#\n",
        "# length02 :: (Num b) => [a] -> b\n",
        "# length02 [] = 0\n",
        "# length02 (_:xs) = 1 + length' xs\n",
        "#\n",
        "!echo -e '[1,2,3]' | ghc -e 'getContents >>= let {length02 :: (Num b) => [a] -> b; length02 [] = 0; length02 (_:xs) = 1 + length02 xs;} in print.length02.concat.map(read::String->[Int]).lines'\n"
      ],
      "execution_count": null,
      "outputs": []
    },
    {
      "cell_type": "markdown",
      "metadata": {
        "id": "-MxrtqOSmsYF"
      },
      "source": [
        "# wordwrapper \n",
        "英語のテキストを長い文字列の段落を処理しやすいように短い文字列に分割するツール。"
      ]
    },
    {
      "cell_type": "code",
      "metadata": {
        "id": "ixKFQX_Km4y-"
      },
      "source": [
        "%%writefile temp.hs\n",
        "wordwrap maxlen = wrap_ 0 . words\n",
        "  where\n",
        "    wrap_ _ [] = \"\"\n",
        "\n",
        "    wrap_ pos (w:ws)\n",
        "      -- at line start: put down the word no matter what\n",
        "      | pos == 0 = w ++ wrap_ (pos + lw) ws\n",
        "      | pos + lw + 1 > maxlen = '\\n' : wrap_ 0 (w : ws)\n",
        "      | otherwise = ' ' : w ++ wrap_ (pos + lw + 1) ws\n",
        "      where\n",
        "        lw = length w\n",
        "\n",
        "main =  do\n",
        "    x <- getContents\n",
        "    putStr $ unlines $ map (wordwrap 60) $ lines x\n"
      ],
      "execution_count": null,
      "outputs": []
    },
    {
      "cell_type": "code",
      "metadata": {
        "id": "qBAVAAPQnHkW"
      },
      "source": [
        "!echo -e 'This is a pen.  That is an apple. This is a pen.  That is an apple. This is a pen.  That is an apple. This is a pen.  That is an apple. This is a pen.  That is an apple. This is a pen.  That is an apple. This is a pen.  That is an apple. This is a pen.  That is an apple. ;jk lkjl; ljkl;jk \\n\\n lkj;lj this \\nthis is a epnl;kj; lk;j' |runghc temp.hs"
      ],
      "execution_count": null,
      "outputs": []
    },
    {
      "cell_type": "code",
      "metadata": {
        "id": "np8NdWgR21uX"
      },
      "source": [
        "# パターンマッチングで sum を実装する\n",
        "\n",
        "%%writefile temp.hs\n",
        "\n",
        "sum01 :: (Num a) => [a] -> a  \n",
        "sum01 [] = 0  \n",
        "sum01 (x:xs) = x + sum01 xs  \n",
        "\n",
        "main = print $ sum [1,2,3]"
      ],
      "execution_count": null,
      "outputs": []
    },
    {
      "cell_type": "code",
      "metadata": {
        "id": "bZymYtkUiRaw"
      },
      "source": [
        "!runghc temp.hs"
      ],
      "execution_count": null,
      "outputs": []
    },
    {
      "cell_type": "code",
      "metadata": {
        "id": "NFgA8axBsc1w"
      },
      "source": [
        "# パターンマッチングで sum を実装する\n",
        "# コマンドラインワンライナーバージョン\n",
        "!ghc -e $'let {sum01 :: (Num a) => [a] -> a; sum01 [] = 0; sum01 (x:xs) = x + sum01 xs } in print $ sum [1,2,3]'"
      ],
      "execution_count": null,
      "outputs": []
    },
    {
      "cell_type": "markdown",
      "metadata": {
        "id": "qZtVGeHnjegw"
      },
      "source": [
        "# 解くべき精選過去問 10 問"
      ]
    },
    {
      "cell_type": "markdown",
      "metadata": {
        "id": "Kbw0MhTN7iUj"
      },
      "source": [
        "\n",
        "\n",
        "@temp.hs氏による AtCoder に登録したら解くべき精選過去問 10 問を Haskell で解いてみた – Qiita  \n",
        "\n",
        "\n",
        "@myuon_myon氏による Haskellで解くAtCoder – The curse of λ  \n",
        "\n",
        "\n",
        "@hnw氏による HaskellでAtCoderの問題を解く（入力の高速化編） – Qiita  \n",
        "\n",
        "\n",
        "Haskell で高速なプログラムを書くときに注意すること （2016年6月）\n",
        "\n",
        "\n",
        "Haskellで競技プログラミング IO編  \n",
        "https://qiita.com/karszawa/items/ec0c01c81c22ce060405  \n",
        "\n",
        "配列 入力 haskell  \n",
        "\n",
        "HaskellでAtCoderに参戦して水色になった  \n",
        "https://blog.miz-ar.info/2019/05/atcoder-with-haskell/   \n",
        "\n",
        "\n",
        "\n",
        "など参考にすこし脇道にそれる。"
      ]
    },
    {
      "cell_type": "code",
      "metadata": {
        "id": "_-_KyVpzih3l"
      },
      "source": [
        "# AtCoder Regular Contest #14 B問題\n",
        "%%writefile arc14temp.hs\n",
        "import Control.Monad\n",
        "import Control.Applicative\n",
        "import Data.List\n",
        "\n",
        "main :: IO ()\n",
        "main = do\n",
        "    n <- readLn\n",
        "    (w:ws) <- replicateM n getLine\n",
        "    putStrLn $ case check [w] ws True of\n",
        "        Nothing -> \"DRAW\"\n",
        "        Just True -> \"WIN\"\n",
        "        Just False -> \"LOSE\"\n",
        "\n",
        "check _ [] _ = Nothing\n",
        "check dict@(la:_) (w:ws) b\n",
        "    | last la /= head w = Just b\n",
        "    | w `elem` dict = Just b\n",
        "    | otherwise = check (w:dict) ws (not b)"
      ],
      "execution_count": null,
      "outputs": []
    },
    {
      "cell_type": "code",
      "metadata": {
        "id": "sUPPXQf9xes4"
      },
      "source": [
        "!echo -e '3\\nbook\\nkilo\\noldies' | runghc arc14temp.hs"
      ],
      "execution_count": null,
      "outputs": []
    },
    {
      "cell_type": "code",
      "metadata": {
        "id": "cChJbfD70QNL"
      },
      "source": [
        "!ghc -e $'print $ map (read::String -> Int) $ words $ \"3 4 5\"'"
      ],
      "execution_count": null,
      "outputs": []
    },
    {
      "cell_type": "markdown",
      "metadata": {
        "id": "cDVTm7vt31ih"
      },
      "source": [
        "# AtCoder First 10"
      ]
    },
    {
      "cell_type": "code",
      "metadata": {
        "id": "dqV4h2Q8DU72"
      },
      "source": [
        "# atcoderfirstten00\n",
        "%%writefile temp.hs\n",
        "main = do\n",
        "    a <- readLn\n",
        "    [b,c] <- map read . words <$> getLine\n",
        "    s <- getLine\n",
        "    putStrLn $ unwords [show (a + b + c), s]"
      ],
      "execution_count": null,
      "outputs": []
    },
    {
      "cell_type": "code",
      "metadata": {
        "id": "46eJf6fPhM4J"
      },
      "source": [
        "!echo -e '3\\n4 5 \\n 6' | runghc temp.hs\n"
      ],
      "execution_count": null,
      "outputs": []
    },
    {
      "cell_type": "code",
      "metadata": {
        "id": "xf5wNfqt44wl"
      },
      "source": [
        "# atcoderfirstten00\n",
        "!echo -e '3\\n4 5\\n 6' | ghc -e 'do {x <- getContents; let [a,b,c,s] = map (read::String->Int) (words x) in putStrLn (unwords [show (a + b + c), show(s)])}'"
      ],
      "execution_count": null,
      "outputs": []
    },
    {
      "cell_type": "code",
      "metadata": {
        "id": "yZEzofvcf3py"
      },
      "source": [
        "# atcoderfirstten01 product\n",
        "%%writefile temp.hs\n",
        "main = do\n",
        "    [a,b] <- map read . words <$> getLine\n",
        "    if (a * b) `mod` 2 == 0 then putStrLn \"Even\" else putStrLn \"Odd\""
      ],
      "execution_count": null,
      "outputs": []
    },
    {
      "cell_type": "code",
      "metadata": {
        "id": "wa6aTtg-gEnu"
      },
      "source": [
        "!echo -e '4 5' | runghc temp.hs"
      ],
      "execution_count": null,
      "outputs": []
    },
    {
      "cell_type": "code",
      "metadata": {
        "id": "eAppaqofgNR1"
      },
      "source": [
        "# atcoderfirstten01 even or odd\n",
        "# 二つの正整数 aa, bb が与えられます。 aa と bb の積が偶数か奇数か判定してください。\n",
        "!echo -e '4 5' | ghc -e $'do {[a,b] <- map (read::String->Int).words <$> getContents; if (a * b) `mod` 2 == 0 then putStrLn \"Even\" else putStrLn\"Odd\"}'"
      ],
      "execution_count": null,
      "outputs": []
    },
    {
      "cell_type": "code",
      "metadata": {
        "id": "_8gvDvlhikF2"
      },
      "source": [
        "# atcoderfirstten02 placing marbles\n",
        "# 0 と 1 のみから成る 3 桁の番号 s が与えられます。1 が何個含まれるかを求めてください。\n",
        "# main = getLine >>= print . length . filter (=='1')\n",
        "\n",
        "!echo -e '1foo2bar1hoge31415' |ghc -e $'getLine>>=  print.length.filter(==\\'1\\')'\n"
      ],
      "execution_count": null,
      "outputs": []
    },
    {
      "cell_type": "code",
      "metadata": {
        "id": "iTImD6B5T0Ad"
      },
      "source": [
        "# atcoderfirstten03 Shift only\n",
        "# n個の整数について2で割ったものに置き換える操作を何回行うことができるか。\n",
        "# f x = if x `mod` 2 == 0 then 1 + f (x `div` 2) else 0\n",
        "# main = do\n",
        "#     getLine\n",
        "#     a <- map read . words <$> getLine\n",
        "#     print $ minimum $ map f a\n",
        "\n",
        "# !echo -e '3 24 48 36' |ghc -e $'getContents >>= print.tail.words.concat.lines'\n",
        "# !ghc -e $'map (read::String->Int) [\"4\", \"67\"]'\n",
        "# !echo -e '3 24 48 36' |ghc -e $'getContents >>= let{f x = if x `mod` 2 == 0 then 1 + f (x `div` 2) else 0;} in print.map (read::String->Int).tail.words.concat.lines'\n",
        "!echo -e '3 24 48 36' |ghc -e $'getContents >>= let{f x = if x `mod` 2 == 0 then 1 + f (x `div` 2) else 0;} in print.minimum.map f. map (read::String->Int).tail.words.concat.lines'\n"
      ],
      "execution_count": null,
      "outputs": []
    },
    {
      "cell_type": "code",
      "metadata": {
        "id": "Rp4u8M1h3LFP"
      },
      "source": [
        "# atcoderfirstten04 Coins\n",
        "# 500円玉を a 枚、100円玉を b 枚、50円玉を c 枚持っている。\n",
        "# x 円にする方法は何通りあるか。\n",
        "# main = do\n",
        "#     a <- readLn\n",
        "#     b <- readLn\n",
        "#     c <- readLn\n",
        "#     x <- readLn\n",
        "#     print $ length [() | u <- [0..a], v <- [0..b], w <- [0..c], 500*u+100*v+50*w == x]\n",
        "\n",
        "!echo -e '10 10 10 1000' |ghc -e $'getLine >>= print.(\\[a, b, c, d] -> a*b*c*d ).map (read::String->Int).words'\n",
        "!echo -e '10 10 10 1000' |ghc -e $'getLine >>= print.(\\[a, b, c, x] -> [[u,v,w] | u <- [0..a], v <- [0..b], w <- [0..c], 500*u+100*v+50*w == x]).map (read::String->Int).words'\n",
        "!echo -e '10 10 10 1000' |ghc -e $'getLine >>= print.length.(\\[a, b, c, x] -> [[u,v,w] | u <- [0..a], v <- [0..b], w <- [0..c], 500*u+100*v+50*w == x]).map (read::String->Int).words'\n"
      ],
      "execution_count": null,
      "outputs": []
    },
    {
      "cell_type": "code",
      "metadata": {
        "id": "1w3w1FjYWFQp"
      },
      "source": [
        "# atcoderfirstten05 Some Sums\n",
        "# 1 以上 n以下の整数で 10進法で各桁の和が a 以上 b 以下の総和を求める。\n",
        "# main = do\n",
        "#     [n, a, b] <- map read . words <$> getLine\n",
        "#     print $ sum [k | k <- [1..n], evaluate k >= a, evaluate k <= b]\n",
        "# \n",
        "# evaluate k = sum [read [c] | c<- show k]\n",
        "\n",
        "!echo -e '100 18 20' |ghc -e $'getContents >>= print.map (read::String->Int).words.concat.lines'\n",
        "!ghc -e $'sum[(read::String->Int) [c] | c <- show 328]'\n",
        "# !echo -e '100 1 20' |ghc -e $'getContents >>= print.(let{evaluate k = sum [(read::String->Int) [c] | c <- show k]} in [k | k <- [1..n], evaluate k >= a, evaluate k <= b]).map (read::String->Int).words.concat.lines'\n",
        "!echo -e '100 18 20' |ghc -e $'getContents >>= print.(\\[n,a,b]->(let{evaluate k = sum [(read::String->Int) [c] | c <- show k]} in [k | k <- [1..n], evaluate k >= a, evaluate k <= b])).map (read::String->Int).words.concat.lines'\n"
      ],
      "execution_count": null,
      "outputs": []
    },
    {
      "cell_type": "code",
      "metadata": {
        "id": "xPBTv1fMoDap"
      },
      "source": [
        "# atcoderfirstten06 Card Game for Two\n",
        "# N 枚のカードがあり、i 枚目のカードには $a_i$ という数が書かれてる。\n",
        "# Alice と Bob は交互に 1 枚ずつカードを取っていく。\n",
        "# すべてのカードを取ったときゲームは終了し、取ったカードの数の合計がその人の得点になる。2 人とも自分\n",
        "# の得点を最大化するように最適戦略をとったとき、Alice は Bob より何点多くの得点を獲得できるか。\n",
        "# 問題文意味不明。 解答を見て、趣旨がわかった。\n",
        "# main = do\n",
        "#     getLine\n",
        "#     a_s <- map read . words <$> getLine\n",
        "#     print $ sum $ zipWith (*) (cycle [1, -1]) $ reverse $ sort a_s\n",
        "# 3 2 7 4 => 5\n",
        "!echo -e '3 \\n2 7 4' |ghc -e $'getContents >>= print.tail.lines'\n",
        "!echo -e '3 \\n2 7 4' |ghc -e $'getContents >>= print.words.concat.tail.lines'\n",
        "!echo -e '3 \\n2 7 4' |ghc -e $'getContents >>= print.map (read::String->Int).words.concat.tail.lines'\n",
        "!echo -e '3 \\n2 7 4' |ghc -e $'getContents >>= print.reverse.Data.List.sort.map (read::String->Int).words.concat.tail.lines'\n",
        "!echo -e '3 \\n2 7 4' |ghc -e $'getContents >>= print.sum.zipWith (*) (cycle [1, -1]).reverse.Data.List.sort.map (read::String->Int).words.concat.tail.lines'\n"
      ],
      "execution_count": null,
      "outputs": []
    },
    {
      "cell_type": "code",
      "metadata": {
        "id": "DbA04VzuIp_U"
      },
      "source": [
        "# atcoderfirstten07 Kagami Mochi\n",
        "# N 個の整数 d[0],d[1],…,d[N−1]d[0],d[1],…,d[N−1] の中に何種類の異なる値があるか。\n",
        "# 問題も解答もよくわからないが、集合 Data.Set を使えばいいだけなのではないか?\n",
        "# import Control.Monad\n",
        "# import Data.List\n",
        "# main = do\n",
        "#     n <- readLn\n",
        "#     ds <- replicateM n readLn\n",
        "#     print $ length $ group $ sort\n",
        "#     (ds :: [Integer])\n",
        "!echo -e '6\\n2\\n7\\n2\\n8\\n7\\n8' |ghc -e $'do {n <- readLn; ds <- Control.Monad.replicateM n readLn; print(length(Data.List.group(Data.List.sort(ds::[Integer]))))}'\n",
        "!echo -e '6 2 7 2 8 7 8' |ghc -e $'getContents >>= print.length.Data.List.group.Data.List.sort.map (read::String->Integer).tail.words.concat.lines'\n",
        "# Set は使えるか\n",
        "!echo -e '6 2 7 2 8 7 8' |ghc -e $'getContents >>= print.length.Data.Set.fromList.tail.words.concat.lines'\n"
      ],
      "execution_count": null,
      "outputs": []
    },
    {
      "cell_type": "markdown",
      "metadata": {
        "id": "1nllqupq8YXt"
      },
      "source": [
        "# いまここ"
      ]
    },
    {
      "cell_type": "code",
      "metadata": {
        "id": "2ji5XbgWclbl"
      },
      "source": [
        "# check\n",
        "# point free if haskell"
      ],
      "execution_count": null,
      "outputs": []
    },
    {
      "cell_type": "code",
      "metadata": {
        "id": "aUxI7acMTmKS"
      },
      "source": [
        "# atcoderfirstten08 Otoshidama\n",
        "# 10000 円札と、5000 円札と、1000 円札が合計で N 枚、y 円のとき、\n",
        "# 枚数の組を 1 つ求める。 存在しない場合は -1 -1 -1 と出力する。\n",
        "# main = do\n",
        "#     [n, y] <- map read . words <$> getLine\n",
        "#     let ans = [[a, b, c] | a <- [0 .. n], b <- [0 .. (n - a)], let c = n - a - b, 10000 * a + 5000 * b + 1000 * c == y]\n",
        "#     putStrLn $ unwords $ map show $ if null ans then [-1, -1, -1] else head ans\n",
        "\n",
        "!echo -e '3 16000'\n",
        "!echo -e '3 16000' | ghc -e $'getContents >>= print.map (read::String->Int).words'\n",
        "# !echo -e '2 5' | ghc -e $'getContents >>= print.map (read::String->Int).words'\n",
        "!ghc -e $'putStrLn(unwords(map show [-1,-1,-1]))'\n",
        "# コマンドラインワンライナーで if は使えるか => 使える\n",
        "!ghc -e $'if True then do {putStrLn \"Yes!!!!\";} else putStrLn \"Oh, no!!!!\"'\n",
        "!echo -e '3 16000' | ghc -e $'getContents >>= print.(\\[n,x] -> [[a,b,c] | a <- [0 .. n], b <- [0 .. (n - a)], let c = n - a - b, 10000 * a + 5000 * b + 1000 * c == x]).map (read::String->Int).words'\n",
        "!echo -e '3 16000' | ghc -e $'getContents >>= putStrLn.unwords.map show.concat.(\\[n,x] -> [[a,b,c] | a <- [0 .. n], b <- [0 .. (n - a)], let c = n - a - b, 10000 * a + 5000 * b + 1000 * c == x]).map (read::String->Int).words'\n",
        "!echo -e '4 17000' | ghc -e $'getContents >>= putStrLn.unwords.map show.concat.(\\[n,x] -> [[a,b,c] | a <- [0 .. n], b <- [0 .. (n - a)], let c = n - a - b, 10000 * a + 5000 * b + 1000 * c == x]).map (read::String->Int).words'\n",
        "!echo -e '4 18000' | ghc -e $'getContents >>= putStrLn.unwords.map show.concat.(\\[n,x] -> [[a,b,c] | a <- [0 .. n], b <- [0 .. (n - a)], let c = n - a - b, 10000 * a + 5000 * b + 1000 * c == x]).map (read::String->Int).words'\n"
      ],
      "execution_count": null,
      "outputs": []
    },
    {
      "cell_type": "code",
      "metadata": {
        "id": "9PhrJ8nAXz-o"
      },
      "source": [
        "!ghc -e 'unwords(map show(concat([[1,1,1]])))'\n",
        "!ghc -e 'putStrLn(unwords(map show(concat([[]]))))'\n",
        "!ghc -e '[[a,b,c] | a <- [0 .. 3], b <- [0 .. (3 - a)], let c = 3 - a - b, 10000 * a + 5000 * b + 1000 * c == 16000]'\n"
      ],
      "execution_count": null,
      "outputs": []
    },
    {
      "cell_type": "code",
      "metadata": {
        "id": "hGrr9YNPB0mx"
      },
      "source": [
        "8問目 ABC085C Otoshidama\n",
        "10000 円札と、5000 円札と、1000 円札が合計で NN 枚あって、\n",
        "合計金額が YY 円であったという。このような条件を満たす\n",
        "各金額の札の枚数の組を 1 つ求めなさい。そのような状況が存在し得ない場合には -1 -1 -1 と出力しなさい。\n"
      ],
      "execution_count": null,
      "outputs": []
    },
    {
      "cell_type": "code",
      "metadata": {
        "id": "mZuTt1VwlCk2"
      },
      "source": [
        "\n",
        "main = do\n",
        " [n, y] <- map read . words <$> getLine\n",
        " let u = y `div` 1000 - n\n",
        " case analyze u of\n",
        "  Nothing -> putStrLn \"-1 -1 -1\"\n",
        "  Just (a,b) -> putStrLn $ if n-a-b < 0 then \"-1 -1 -1\" else unwords $ map show [a,b,n-a-b]\n",
        "\n",
        "analyze :: Integer -> Maybe(Integer,Integer)\n",
        "analyze u\n",
        " | u < 0 = Nothing\n",
        " | u >= 36 = let (a_,b_) = head\n",
        " $ foo $ (u `mod` 36)+36 in Just\n",
        "((u `div` 36 - 1)*4+a_,b_)\n",
        " | otherwise = case foo u of\n",
        "  [] -> Nothing\n",
        "  k:_ -> Just k\n",
        "\n",
        "foo u = [(a,b) | a <- [0..7], b\n",
        " <- [0..8], 9*a+4*b == u]\n",
        "\n",
        "これまたIamnoob様のコードで解説させていただきます。\n",
        "\n",
        "# main = do\n",
        "#     [n, y] <- map read . words <$> getLine\n",
        "#     let ans = [[a, b, c] | a <- [0 .. n], b <- [0 .. (n - a)], let c = n - a - b, 10000 * a + 5000 * b + 1000 * c == y]\n",
        "#     putStrLn $ unwords $ map show $ if null ans then [-1, -1, -1] else head ans\n",
        "\n",
        "\n",
        "3行目はリスト内包表記で全探索をしていますが、a+b+c=na\n",
        "+b+c=n かつ c≥0c≥0 なので n−a≥bn−a≥b\n",
        " が必要になります。そのため、aの範囲は[0 .. n]です\n",
        "がbの範囲は[0 .. (n - a)]にする必要があります\n",
        "。あとは10000 * a + 5000 * b + 1000\n",
        " * c == yの条件を加えてやるだけです。\n",
        "そうして得られた、条件を満たす[a,b,c]を集めたリストにans\n",
        "という名前を付けています。\n",
        "\n",
        "最後の行については、\n",
        "\n",
        "null: 空リストならTrue、それ以外はFalseを返す\n",
        "関数\n",
        "head: リストの先頭要素を返す関数\n",
        "を解説すれば十分でしょう。\n",
        "\n",
        "\n",
        "\n"
      ],
      "execution_count": null,
      "outputs": []
    },
    {
      "cell_type": "code",
      "metadata": {
        "id": "UUdQnKkHlGmL"
      },
      "source": [
        "\n",
        "9問目 ABC049C 白昼夢 / Daydream\n",
        "英小文字からなる文字列 SS が与えられます。\n",
        "TT が空文字列である状態から始めて、以下の操作を好きな回数繰り返す\n",
        "ことで S=TS=T とすることができるか判定してください。\n",
        "\n",
        "TT の末尾に \"dream\", \"dreamer\", \"erase\", \"eraser\" のいずれかを追加する。\n",
        "\n",
        "\n",
        "\n",
        "main = do\n",
        " s <- getLine\n",
        " putStrLn $ if analyze (reverse\n",
        " s) then \"YES\" else \"NO\"\n",
        "\n",
        "analyze \"\" = True\n",
        "analyze ('m':'a':'e':'r':'d':k)\n",
        " = analyze k\n",
        "analyze ('r':'e':'m':'a':'e':'r'\n",
        ":'d':k) = analyze k\n",
        "analyze ('e':'s':'a':'r':'e':k)\n",
        " = analyze k\n",
        "analyze ('r':'e':'s':'a':'r':'e'\n",
        ":k) = analyze k\n",
        "analyze _ = False\n",
        "先頭から処理していくと厄介なので、一旦reverseしてから\n",
        "後ろから処理していっています。\n",
        "'m':'a':'e':'r':'d':kはmaerdで始ま\n",
        "る文字列にマッチし、残りの部分にkという名前がつくので、そのk\n",
        "を再びanalyzeにかける、ということをやっていって、最終\n",
        "的に空文字列が得られたらTrue、そうでなければFalseで\n",
        "す。\n",
        "\n",
        "あとは、それに応じて\"YES\"か\"NO\"を返し、putStrLn\n",
        "してやれば完了です。\n"
      ],
      "execution_count": null,
      "outputs": []
    },
    {
      "cell_type": "code",
      "metadata": {
        "id": "otGPcchelUQw"
      },
      "source": [
        "10問目 ABC086C Traveling\n",
        "シカの AtCoDeer くんは二次元平面上で旅行をしようとしています。AtCoDeer \n",
        "くんの旅行プランでは、時刻 00 に 点 (0,0)(0,0) を出発し、11 以上 NN 以下の各 ii に対し、\n",
        "時刻 titi に 点 (xi,yi)(xi,yi) を訪れる予定です。\n",
        "\n",
        "AtCoDeer くんが時刻 tt に 点 (x,y)(x,y) にいる時、 時刻 t+1t+1 には \n",
        "点 (x+1,y),(x−1,y),(x,y+1),(x,y−1)(x+1,y),(x−1,y),(x,y+1),(x,y−1) のうちいずれかに存在することができます。その場にとどまることは出来ないことに注意してください。\n",
        "AtCoDeer くんの旅行プランが実行可能かどうか判定してください。\n",
        "\n",
        "\n",
        "\n",
        "import Control.Monad\n",
        "main = do\n",
        " n <- readLn\n",
        " txys <- replicateM n $ map read\n",
        " . words <$> getLine\n",
        " putStrLn $ if analyze ([0,0,0]\n",
        ":txys) then \"Yes\" else \"No\"\n",
        "\n",
        "analyze [a,b] = reachable a b\n",
        "analyze (a:b:xs) = reachable a\n",
        " b && analyze (b:xs)\n",
        "\n",
        "reachable [t1,x1,y1] [t2,x2,y2]\n",
        " = \n",
        " (dt >= dx + dy) && ( (dt - dx\n",
        " - dy) `mod` 2 == 0)\n",
        " where dx = abs(x2-x1); dy = abs\n",
        "(y2-y1); dt = t2-t1\n",
        "入力を読み取ったら、それの先頭に[0,0,0]21を付けて、analyze\n",
        "に渡します。\n",
        "analyzeでは、再帰を使って、「隣り合うt,x,yの組にreachable\n",
        "関数を適用し、全部がTrueならTrue」という処理を書いて\n",
        "います。「移動が毎回成功するなら、全体でも成功する」というこ\n",
        "とですね。\n",
        "\n",
        "最後にreachableですが、whereという予約語を使っ\n",
        "て計算途中の値に名前を付けています。\n",
        "\n",
        "おわりに\n",
        "解説を書くのが予想以上に面倒でしたが、お役に立てれば幸いです\n",
        "。\n",
        "定数倍が厳しくない問題・実装速度が実行速度より重視される系の\n",
        "問題ではHaskellは普通に有用なので、おすすめです（Haskell\n",
        "はいいぞ）\n",
        "\n",
        "脚注\n",
        "初学者の混乱を防ぐためにも、用語とかはなるべく「すごいHaskell\n",
        "」に合わせるようにして解説していきます。 ↩\n",
        "\n",
        "厳密に言うと、readではなくreadIOです。 ↩\n",
        "\n",
        "詳しくは「Haskell モナド」とか「Haskell 入出\n",
        "力」とかで調べるか、「すごいHaskell」の第8章を読みま\n",
        "しょう。 ↩\n",
        "\n",
        "「整数型も小数型も+できるのに、なんでコンパイルが通るの？」\n",
        "と気づいた人はとてもすごいです。この場合、コンパイラが気を効\n",
        "かせて「Integerでよさそう」としてくれるのでコンパイル\n",
        "が通ります。-Wallを付けてコンパイルすると、Defaulting\n",
        " the following constraints to type\n",
        " ‘Integer’というメッセージが(ghcなら)出て、こ\n",
        "のことを教えてくれます。 ↩\n",
        "\n",
        "これがスラスラ読めるプロは温かく見守っていただけると幸いです\n",
        "。 ↩\n",
        "\n",
        "「型制約がついていないんだから、数値とは限らんぞ」はい、その\n",
        "とおりです。 ↩\n",
        "\n",
        "型クラスFunctorのメソッドfmapの別名 ↩\n",
        "\n",
        "言い訳をするなら、instance Functor IO は\n",
        " fmap f x = x >>= (pure . f) と\n",
        "定義されていて、かつIOモナドがモナド則を満たしている（のでpure\n",
        "したものを<-したら元の値になる）以上、そんなに誤った説明で\n",
        "もない気がします。（不十分な説明であることは確かだが） ↩\n",
        "\n",
        "unwords (words \"a b\") == \"a b\"\n",
        "なので、逆関数ではありません。 ↩\n",
        "\n",
        "これもまたshow(read \"[1, 2]\" :: [Int])\n",
        " == \"[1,2]\"なので、逆関数ではありません。 ↩\n",
        "\n",
        "foo bar(hoge baz)、と説明されることが多い気\n",
        "がしますが、その理解だとproduct $ map (+1)\n",
        " [1,2,3]に1を足したい時に1 + product $\n",
        " map (+1) [1,2,3]と書いてしまって（これは1\n",
        " + product (map (+1) [1,2,3]) \n",
        "ではなく (1 + product) (map (+1) [1,2,3])\n",
        "なのでダメ）エラーが出るので、第一項にもカッコを付けて教えて\n",
        "います。 ↩\n",
        "\n",
        "こうやって簡潔に書けるのもHaskell競プロの利点なので、\n",
        "解説用にわざわざ書き直さずにあえてこのまま解説します。 ↩\n",
        "\n",
        "この記法は「セクション」と言います。頻出するので、「すごいHaskell\n",
        "」とかを読んでちゃんと理解しておきましょう。 ↩\n",
        "\n",
        "公式のソースコード を見てみると一発でわかりますね。 ↩\n",
        "\n",
        "もちろん、本当はdoが>>=に翻訳されているわけなので、「等\n",
        "価」という表現で逃げています。 ↩\n",
        "\n",
        "腕に自信のあるプロは是非解読してみましょう。 ↩\n",
        "\n",
        "ちなみに、Pythonのリスト内包表記はHaskellに直接\n",
        "由来するそうです。 ↩\n",
        "\n",
        "import Data.CharしてdigitToIntして\n",
        "もいいんですが、「showとreadが対称的」「Prelude\n",
        "に入っていない関数を暗記させるのもなんかなぁ（後でreplicateM\n",
        "とかsortとか出てくるけど）、そもそも最初に組んだときは私\n",
        "がdigitToIntの存在を知らなかったし」「説明する関数\n",
        "の数が少なければ少ないほど執筆が楽」ということもあり、今回はread\n",
        "を使いました。ちなみに最初に組んだときはsubtract (fromEnum\n",
        " '0') . fromEnumとか書いてました。 ↩\n",
        "\n",
        "ちなみに、私はこの発想が思いつかなかったので、上記のコードで\n",
        "はかなり面倒なことをしています。 ↩\n",
        "\n",
        "Haskellでは無限の長さを持つリストを扱うことができます\n",
        "。もちろん、長さを求めようとしたりソートしようとしたりすると\n",
        "無限ループが発生します。ここで使ったように、zip系の関数な\n",
        "どと合わせて使うのが定石です。 ↩\n",
        "\n",
        "tとxとyの組を表すにはタプルを使ったほうが健全で、私も最初\n",
        "の提出ではタプルを使っていましたが、コードが長くなるのでこの\n",
        "コードでは全部リストで処理しています。 ↩\n"
      ],
      "execution_count": null,
      "outputs": []
    },
    {
      "cell_type": "markdown",
      "metadata": {
        "id": "RtXufbvdBFIa"
      },
      "source": [
        "# アズパターン"
      ]
    },
    {
      "cell_type": "markdown",
      "metadata": {
        "id": "KXhYgVI7wjRR"
      },
      "source": [
        "アズパターンはあとマークをパターンの前に置く。 パターンと名前を紐付けるもので便利に使える。\n",
        "\n",
        "例えば `xs@(x:y:ys)` と書くと `(x:y:ys)` の代わりに `xs` が使える。"
      ]
    },
    {
      "cell_type": "code",
      "metadata": {
        "id": "y9PPrqkDxQKO"
      },
      "source": [
        "!echo '' | ghc -e $'getContents >>= let{capital::String->String; capital \"\" = \"Empty string, whoops!\"; capital all@(x:xs) =\"The first letter of \" ++ all ++ \" is \"++ [x];} in putStrLn.capital.concat. lines'"
      ],
      "execution_count": null,
      "outputs": []
    },
    {
      "cell_type": "code",
      "metadata": {
        "id": "b4smYce47GW5"
      },
      "source": [
        "!echo 'Dracula' | ghc -e $'getContents >>= let{capital::String->String; capital \"\" = \"Empty string, whoops!\"; capital all@(x:xs) =\"The first letter of \" ++ all ++ \" is \"++ [x];} in putStrLn.capital.concat. lines'"
      ],
      "execution_count": null,
      "outputs": []
    },
    {
      "cell_type": "markdown",
      "metadata": {
        "id": "MPWGIk0Q8EDH"
      },
      "source": [
        "# ガード guard\n",
        "\n",
        "条件分岐にパターンマッチング、if、case、guard、がある。 たぶんどれも代用できるかもしれないので、読みやすさのためにあると思われる。 他言語との行き来を考えると、if と case だけを使うのがいいかもしれない。"
      ]
    },
    {
      "cell_type": "code",
      "metadata": {
        "id": "FWrgQwbO9sOJ"
      },
      "source": [
        "# 次のようなあまりよくない関数を考える\n",
        "%%script false\n",
        "bmiTell :: (RealFloat a) => a -> String  \n",
        "bmiTell bmi  \n",
        "   | bmi <= 18.5 = \"You're underweight, you emo, you!\"  \n",
        "   | bmi <= 25.0 = \"You're supposedly normal. Pffft, I bet you're ugly!\"  \n",
        "   | bmi <= 30.0 = \"You're fat! Lose some weight, fatty!\"  \n",
        "   | otherwise   = \"You're a whale, congratulations!\"  "
      ],
      "execution_count": null,
      "outputs": []
    },
    {
      "cell_type": "code",
      "metadata": {
        "id": "5o2c8bFk-a2W"
      },
      "source": [
        "!echo -e '18.0' | ghc -e $'getContents >>= let{bmiTell::(RealFloat a)=>a->String; bmiTell bmi | bmi <= 18.5 = \"You\\'re underweight, you emo, you!\" | bmi <= 25.0 = \"You\\'re supposedly normal.\" | bmi <= 30.0 = \"You\\'re fat!\" | otherwise  = \"You\\'re a whale!\";} in putStrLn.bmiTell.(read::String->Float).concat.lines'\n",
        "!echo -e '25.0' | ghc -e $'getContents >>= let{bmiTell::(RealFloat a)=>a->String; bmiTell bmi | bmi <= 18.5 = \"You\\'re underweight, you emo, you!\" | bmi <= 25.0 = \"You\\'re supposedly normal.\" | bmi <= 30.0 = \"You\\'re fat!\" | otherwise  = \"You\\'re a whale!\";} in putStrLn.bmiTell.(read::String->Float).concat.lines'\n",
        "!echo -e '28.0' | ghc -e $'getContents >>= let{bmiTell::(RealFloat a)=>a->String; bmiTell bmi | bmi <= 18.5 = \"You\\'re underweight, you emo, you!\" | bmi <= 25.0 = \"You\\'re supposedly normal.\" | bmi <= 30.0 = \"You\\'re fat!\" | otherwise  = \"You\\'re a whale!\";} in putStrLn.bmiTell.(read::String->Float).concat.lines'\n",
        "!echo -e '50.0' | ghc -e $'getContents >>= let{bmiTell::(RealFloat a)=>a->String; bmiTell bmi | bmi <= 18.5 = \"You\\'re underweight, you emo, you!\" | bmi <= 25.0 = \"You\\'re supposedly normal.\" | bmi <= 30.0 = \"You\\'re fat!\" | otherwise  = \"You\\'re a whale!\";} in putStrLn.bmiTell.(read::String->Float).concat.lines'"
      ],
      "execution_count": null,
      "outputs": []
    },
    {
      "cell_type": "code",
      "metadata": {
        "id": "KfYUDSJkkLHo"
      },
      "source": [
        "# 身長と体重を入力すると bmi を計算するように変更する\n",
        "%%script false\n",
        "bmiTell :: (RealFloat a) => a -> a -> String  \n",
        "bmiTell weight height  \n",
        "   | weight / height ^ 2 <= 18.5 = \"You're underweight, youemo, you!\"  \n",
        "   | weight / height ^ 2 <= 25.0 = \"You're supposedly normal.Pffft, I bet you're ugly!\"  \n",
        "   | weight / height ^ 2 <= 30.0 = \"You're fat! Lose some weight,fatty!\"  \n",
        "   | otherwise                 = \"You're a whale, congratulations!\"  "
      ],
      "execution_count": null,
      "outputs": []
    },
    {
      "cell_type": "code",
      "metadata": {
        "id": "4snmUBZ2lN4U"
      },
      "source": [
        "!echo -e '85 1.90' | ghc -e $'getContents >>= let{bmiTell::(RealFloat a)=>a->a->String; bmiTell weight height |weight/height^2<=18.5=\"Emo!\"|weight/height^2<=25.0=\"Normal!\"|weight/height^2<=30.0=\"Fat!\"| otherwise = \"A whale\";} in print.(\\[x, y] -> bmiTell x y).map (read::String->Float).words.concat.lines'\n",
        "!echo -e '100 1.10' | ghc -e $'getContents >>= let{bmiTell::(RealFloat a)=>a->a->String; bmiTell weight height |weight/height^2<=18.5=\"Emo!\"|weight/height^2<=25.0=\"Normal!\"|weight/height^2<=30.0=\"Fat!\"| otherwise = \"A whale\";} in print.(\\[x, y] -> bmiTell x y).map (read::String->Float).words.concat.lines'\n",
        "!echo -e '50 1.70' | ghc -e $'getContents >>= let{bmiTell::(RealFloat a)=>a->a->String; bmiTell weight height |weight/height^2<=18.5=\"Emo!\"|weight/height^2<=25.0=\"Normal!\"|weight/height^2<=30.0=\"Fat!\"| otherwise = \"A whale\";} in print.(\\[x, y] -> bmiTell x y).map (read::String->Float).words.concat.lines'"
      ],
      "execution_count": null,
      "outputs": []
    },
    {
      "cell_type": "code",
      "metadata": {
        "id": "9GOP5oQ89sUN"
      },
      "source": [
        "# max を実装する\n",
        "# max01 :: (Ord a) => a -> a -> a  \n",
        "# max01 a b   \n",
        "#    | a > b     = a  \n",
        "#    | otherwise = b  \n",
        "\n",
        "!echo '3 8.4' |ghc -e $'getContents >>= let {max01::(Ord a)=>a->a->a; max01 a b | a > b = a | otherwise = b ;} in print.(\\[x,y] -> max01 x y).map (read::String->Float).words.concat.lines'"
      ],
      "execution_count": null,
      "outputs": []
    },
    {
      "cell_type": "code",
      "metadata": {
        "id": "ePEGTNR4Rpzc"
      },
      "source": [
        "# compare を実装する\n",
        "# compare01 :: (Ord a) => a -> a -> Ordering  \n",
        "# a `compare01` b  \n",
        "#    | a > b     = GT  \n",
        "#    | a == b    = EQ  \n",
        "#    | otherwise = LT  \n",
        "\n",
        "!echo '3 2' |ghc -e $'getContents >>= let {compare01::(Ord a)=>a->a->Ordering; compare01 a b | a > b = GT| a==b = EQ | otherwise = LT ;} in print.(\\[x,y] -> compare01 x y).map (read::String->Float).words.concat.lines'\n",
        "!echo '3 3' |ghc -e $'getContents >>= let {compare01::(Ord a)=>a->a->Ordering; compare01 a b | a > b = GT| a==b = EQ | otherwise = LT ;} in print.(\\[x,y] -> compare01 x y).map (read::String->Float).words.concat.lines'"
      ],
      "execution_count": null,
      "outputs": []
    },
    {
      "cell_type": "code",
      "metadata": {
        "id": "3fFXfc3WSrHe"
      },
      "source": [
        "# where はコマンドラインワンライナーで使えるか\n",
        "# where bmi = weight / height ^ 2  \n",
        "# 使えた!!!!\n",
        "!echo -e '85 1.90' | ghc -e $'getContents >>= let{bmiTell::(RealFloat a)=>a->a->String; bmiTell weight height |weight/height^2<=18.5=\"Emo!\"|weight/height^2<=25.0=\"Normal!\"|weight/height^2<=30.0=\"Fat!\"| otherwise = \"A whale\" where bmi = weight / height ^ 2 ;} in print.(\\[x, y] -> bmiTell x y).map (read::String->Float).words.concat.lines'\n",
        "!echo -e '100 1.10' | ghc -e $'getContents >>= let{bmiTell::(RealFloat a)=>a->a->String; bmiTell weight height |weight/height^2<=18.5=\"Emo!\"|weight/height^2<=25.0=\"Normal!\"|weight/height^2<=30.0=\"Fat!\"| otherwise = \"A whale\" where bmi = weight / height ^ 2 ;} in print.(\\[x, y] -> bmiTell x y).map (read::String->Float).words.concat.lines'\n",
        "!echo -e '50 1.70' | ghc -e $'getContents >>= let{bmiTell::(RealFloat a)=>a->a->String; bmiTell weight height |weight/height^2<=18.5=\"Emo!\"|weight/height^2<=25.0=\"Normal!\"|weight/height^2<=30.0=\"Fat!\"| otherwise = \"A whale\" where bmi = weight / height ^ 2 ;} in print.(\\[x, y] -> bmiTell x y).map (read::String->Float).words.concat.lines'"
      ],
      "execution_count": null,
      "outputs": []
    },
    {
      "cell_type": "code",
      "metadata": {
        "id": "ofASktnlb5HG"
      },
      "source": [
        "# where の中で複数の分が使えるか => 使える\n",
        "!echo -e '100 1.10' | ghc -e $'getContents >>= let{bmiTell::(RealFloat a)=>a->a->String; bmiTell weight height |weight/height^2<=skinny=\"Emo!\"|weight/height^2<=normal=\"Normal!\"|weight/height^2<=fat=\"Fat!\"| otherwise = \"A whale\" where {bmi = weight / height ^ 2; skinny = 18.5; normal = 25.0; fat=30.0;} ;} in print.(\\[x, y] -> bmiTell x y).map (read::String->Float).words.concat.lines'"
      ],
      "execution_count": null,
      "outputs": []
    },
    {
      "cell_type": "code",
      "metadata": {
        "id": "QgxAmZ3HcOhI"
      },
      "source": [
        "# where の中でパターンマッチングが使える\n",
        "!echo -e '100 1.10' | ghc -e $'getContents >>= let{bmiTell::(RealFloat a)=>a->a->String; bmiTell weight height |weight/height^2<=skinny=\"Emo!\"|weight/height^2<=normal=\"Normal!\"|weight/height^2<=fat=\"Fat!\"| otherwise = \"A whale\" where {bmi = weight / height ^ 2; (skinny, normal, fat) = (18.5, 25.0, 30.0);} ;} in print.(\\[x, y] -> bmiTell x y).map (read::String->Float).words.concat.lines'"
      ],
      "execution_count": null,
      "outputs": []
    },
    {
      "cell_type": "code",
      "metadata": {
        "id": "JDEixwXqck3B"
      },
      "source": [
        "# 名前を入れるとイニシャルを返すプログラム\n",
        "!echo -e 'Harrison Ford' | ghc -e $'getContents >>= let{initials::String->String->String; initials firstname lastname  =  [f]++\". \"++[l] where {(f:_)=firstname; (l:_)=lastname;} ;} in putStrLn.(\\[x, y] -> initials x y).words.concat.lines'"
      ],
      "execution_count": null,
      "outputs": []
    },
    {
      "cell_type": "code",
      "metadata": {
        "id": "vCbEXnQxqfVx"
      },
      "source": [
        "# where の中で関数を定義する\n",
        "# calcBmis :: (RealFloat a) => [(a, a)] -> [a]  \n",
        "# calcBmis xs = [bmi w h | (w, h) <- xs]  \n",
        "#    where bmi weight height = weight / height ^ 2  \n",
        "\n",
        "!echo '50 1.70' | ghc -e $'getContents >>= let {calcBmis::(RealFloat a)=>[(a,a)]->[a]; calcBmis xs=[bmi w h | (w, h) <- xs] where bmi weight height = weight / height ^ 2;} in print.(\\[x, y] -> calcBmis [(x,y)]).map (read::String->Float).words.concat.lines'"
      ],
      "execution_count": null,
      "outputs": []
    },
    {
      "cell_type": "markdown",
      "metadata": {
        "id": "TZTTCrJCtmvl"
      },
      "source": [
        "let と where の違い\n",
        "\n",
        "let は式 (expression) なのでどこででも使えるが、where は構文 (syntactic construct) なので使える場所が限られる。 しかし、where は guard をまたがって使えるのに対し、let はそのような使い方はできない。 let の local は狭い範囲に限定されている。 という違いがある。"
      ]
    },
    {
      "cell_type": "code",
      "metadata": {
        "id": "6KbP-jqkLbex"
      },
      "source": [
        "%%capture\n",
        "!apt install haskell-platform"
      ],
      "execution_count": null,
      "outputs": []
    },
    {
      "cell_type": "code",
      "metadata": {
        "id": "RCvVX8Gvukck"
      },
      "source": [
        "# let を使って、円筒の高さと半径から表面積を求める\n",
        "# cylinder :: (RealFloat a) => a -> a -> a  \n",
        "# cylinder r h = \n",
        "#    let sideArea = 2 * pi * r * h  \n",
        "#        topArea = pi * r ^2  \n",
        "#    in  sideArea + 2 * topArea  \n",
        "!echo -e '3.0 10.0' |ghc -e $'getContents >>= print.map (read::String->Float).words.concat.lines'\n",
        "!echo\n",
        "!echo -e '3.0 10.0' |ghc -e $'getContents >>= let {cylinder::(RealFloat a)=>a->a->a; cylinder r h = let {sideArea=2*pi*r*h;topArea=pi*r^2} in sideArea+2*topArea} in print.(\\[x, y] -> cylinder x y).map (read::String->Float).words.concat.lines'"
      ],
      "execution_count": null,
      "outputs": []
    },
    {
      "cell_type": "code",
      "metadata": {
        "id": "jB7MFjKgzyfu"
      },
      "source": [
        "# let は式 (expression) で、where は構文 (syntactic construct) である、ことについて。\n",
        "# haskell では if が式 (expression) でであることを以前に説明した。\n",
        "# 式なのでほとんどどこででも使える。\n",
        "!ghc -e $'[if 5 > 3 then \"Woo\" else \"Boo\", if \\'a\\' > \\'b\\' then \"Foo\" else \"Bar\"] ' #=> [\"Woo\",\"Bar\"]\n",
        "!ghc -e $'4 * (if 10 > 5 then 10 else 0) + 2' #=> 42\n",
        "!echo\n",
        "# 同じように let を使うことができる。\n",
        "!ghc -e $'4 * (let a = 9 in a + 1) + 2' #=> 42\n",
        "!ghc -e $'[let square x = x * x in (square 5, square 3, square 2)]' #=> [(25,9,4)] \n",
        "!ghc -e $'(let a = 100; b = 200; c = 300 in a*b*c, let foo=\"Hey \"; bar = \"there!\" in foo ++ bar)' #=> (6000000,\"Hey there!\")\n",
        "!ghc -e $'(let {a = 100; b = 200; c = 300;} in a*b*c, let foo=\"Hey \"; bar = \"there!\" in foo ++ bar)' #=> (6000000,\"Hey there!\")\n",
        "!ghc -e $'(let (a,b,c) = (1,2,3) in a+b+c) * 100' #=> 600"
      ],
      "execution_count": null,
      "outputs": []
    },
    {
      "cell_type": "code",
      "metadata": {
        "id": "2EKmVAVB2TJn"
      },
      "source": [
        "# リスト内包表記 list comprehension の中で let が使える\n",
        "# 以前 where を使って作った体重と身長から bmi を算出するプログラムを書き換える\n",
        "#\n",
        "# calcBmis :: (RealFloat a) => [(a, a)] -> [a]  \n",
        "# calcBmis xs = [bmi | (w, h) <- xs, let bmi = w / h ^ 2]  \n",
        "!echo '50 1.70' | ghc -e $'getContents >>= let {calcBmis::(RealFloat a)=>[(a,a)]->[a]; calcBmis xs=[bmi w h | (w, h) <- xs] where bmi weight height = weight / height ^ 2;} in print.(\\[x, y] -> calcBmis [(x,y)]).map (read::String->Float).words.concat.lines'\n",
        "!echo \n",
        "!echo '50 1.70' | ghc -e $'getContents >>= let {calcBmis::(RealFloat a)=>[(a,a)]->[a]; calcBmis xs=[bmi | (w, h) <- xs, let bmi=w/h^2];} in print.(\\[x, y] -> calcBmis [(x,y)]).map (read::String->Float).words.concat.lines'\n",
        "!echo -e '50 1.70\\n100 1.1' | ghc -e $'getContents >>= let {calcBmis::(RealFloat a)=>[(a,a)]->[a]; calcBmis xs=[bmi | (w, h) <- xs, let bmi=w/h^2];} in print.map (\\[x, y] -> calcBmis [(x,y)]).map (map (read::String->Float).words).lines'\n"
      ],
      "execution_count": null,
      "outputs": []
    },
    {
      "cell_type": "code",
      "metadata": {
        "id": "Ks4Guo9Bq8ZI"
      },
      "source": [
        "# list の中で bmi が 25.0 以上という条件を入れることはできる\n",
        "# しかし、filter に let は使えない。なぜなら順序が逆になるから。 値を得る前に処理はできない。\n",
        "!echo -e '50 1.70\\n100 1.1' | ghc -e $'getContents >>= let {calcBmis::(RealFloat a)=>[(a,a)]->[a]; calcBmis xs=[bmi | (w, h) <- xs, let bmi=w/h^2, bmi >= 25.0];} in print.map (\\[x, y] -> calcBmis [(x,y)]).map (map (read::String->Float).words).lines'\n"
      ],
      "execution_count": null,
      "outputs": []
    },
    {
      "cell_type": "code",
      "metadata": {
        "id": "b8DwByHtryN0"
      },
      "source": [
        "# let は let in のペアで使われるが、list で使うときには in 部分を省略できる。\n",
        "# ghci で in 部分を省略すると全体で使える"
      ],
      "execution_count": null,
      "outputs": []
    },
    {
      "cell_type": "markdown",
      "metadata": {
        "id": "IgpeQKk8sWE4"
      },
      "source": [
        "# case 式"
      ]
    },
    {
      "cell_type": "markdown",
      "metadata": {
        "id": "APgfV6s7am-5"
      },
      "source": [
        "C, C++, Java など命令形プログラミング言語は case 構文があり、同じようなことを haskell の case expression が行うが、式 (expression) という名前が示すように、haskell では case は式であり、if else や let で見たようにどこでも使え、値を返すだけでなく、パターンマッチングができる。\n",
        "\n",
        "実際、関数定義におけるパターンマッチングは case式の糖衣構文なのである。\n",
        "\n",
        "次の2つのプログラムは同じことをやっている。"
      ]
    },
    {
      "cell_type": "code",
      "metadata": {
        "id": "4uXp8Lgpjf59"
      },
      "source": [
        "# pattern matching vs case expression\n",
        "# head' :: [a] -> a  \n",
        "# head' [] = error \"No head for empty lists!\"  \n",
        "# head' (x:_) = x  \n",
        "# head' :: [a] -> a  \n",
        "# head' xs = case xs of [] -> error \"No head for empty lists!\"\n",
        "#                      (x:_) -> x  \n",
        "\n",
        "!echo -e '' |ghc -e $'getContents >>= let {head01::[a]->a; head01 [] = error \"No head for empty lists!\"; head01 (x:_) = x;} in print.head01.concat.lines'\n",
        "!echo -e 'Dracula' |ghc -e $'getContents >>= let {head01::[a]->a; head01 [] = error \"No head for empty lists!\"; head01 (x:_) = x;} in print.head01.concat.lines'\n",
        "!echo\n",
        "!echo -e '' |ghc -e $'getContents >>= let {head01::[a]->a; head01 xs = case xs of [] -> error \"No head for empty lists!\"; (x:_) -> x;} in print.head01.concat.lines'\n",
        "!echo -e 'Dracula' |ghc -e $'getContents >>= let {head01::[a]->a; head01 xs = case xs of [] -> error \"No head for empty lists!\"; (x:_) -> x;} in print.head01.concat.lines'\n"
      ],
      "execution_count": null,
      "outputs": []
    },
    {
      "cell_type": "code",
      "metadata": {
        "id": "jz2Flqu1zjSb"
      },
      "source": [
        "# case式がどこでも呼べる例\n",
        "# describeList :: [a] -> String  \n",
        "# describeList xs = \"The list is \" ++ case xs of [] -> \"empty.\"  \n",
        "#                                               [x] -> \"a singletonlist.\"   \n",
        "#                                               xs -> \"a longerlist.\"  \n",
        "\n",
        "!echo -e '' |ghc -e $'getContents >>= let {describeList::[a]->String; describeList xs = \"The list is \" ++ case xs of {[] -> \"empty.\"; [x] -> \"a singletonlist.\"; xs -> \"a longerlist.\"}} in print.describeList.concat.lines'\n",
        "!echo -e 'a' |ghc -e $'getContents >>= let {describeList::[a]->String; describeList xs = \"The list is \" ++ case xs of {[] -> \"empty.\"; [x] -> \"a singletonlist.\"; xs -> \"a longerlist.\"}} in print.describeList.concat.lines'\n",
        "!echo -e 'abu' |ghc -e $'getContents >>= let {describeList::[a]->String; describeList xs = \"The list is \" ++ case xs of {[] -> \"empty.\"; [x] -> \"a singletonlist.\"; xs -> \"a longerlist.\"}} in print.describeList.concat.lines'\n"
      ],
      "execution_count": null,
      "outputs": []
    },
    {
      "cell_type": "code",
      "metadata": {
        "id": "4j-R2Rax1VVG"
      },
      "source": [
        "# 上の例を case を使わずにパターンマッチングだけで書く例\n",
        "#\n",
        "# describeList :: [a] -> String  \n",
        "# describeList xs = \"The list is \" ++ what xs  \n",
        "#    where what [] = \"empty.\"  \n",
        "#          what [x] = \"a singleton list.\"  \n",
        "#          what xs = \"a longer list.\"  \n"
      ],
      "execution_count": null,
      "outputs": []
    },
    {
      "cell_type": "markdown",
      "metadata": {
        "id": "pPIBjBk73Kqv"
      },
      "source": [
        "# 再帰 recursion"
      ]
    },
    {
      "cell_type": "code",
      "metadata": {
        "id": "76ccmresiwfI"
      },
      "source": [
        "# fibonacci\n",
        "!ghc -e \"let {fib  0 =0; fib 1=1; fib n=fib (n-1) + fib(n-2);} in print (map fib [0..9])\"\n",
        "!echo\n",
        "!ghc -e \"let {fib::[Integer];fib = 0 : 1 : zipWith (+) fib (tail fib)} in print (take 10 fib)\"\n"
      ],
      "execution_count": null,
      "outputs": []
    },
    {
      "cell_type": "markdown",
      "metadata": {
        "id": "GocGQqROuytQ"
      },
      "source": [
        "# いまここ2"
      ]
    },
    {
      "cell_type": "code",
      "metadata": {
        "id": "txm9eL6slds5"
      },
      "source": [
        "# maximum を実装する\n",
        "# maximum' :: (Ord a) => [a] -> a\n",
        "# maximum' [] = error \"maximum of empty list\"\n",
        "# maximum' [x] = x\n",
        "# maximum' (x:xs)\n",
        "#     | x > maxTail = x\n",
        "#     | otherwise = maxTail\n",
        "#     where maxTail = maximum' xs\n",
        "\n",
        "!ghc -e $'let {maximum01::(Ord a)=>[a]->a;maximum01 []=error\"empty\";maximum01 [x]=x; maximum01 (x:xs) | x > maxTail = x | otherwise = maxTail where maxTail = maximum01 xs;} in print (maximum01([1,3,2]))'\n"
      ],
      "execution_count": null,
      "outputs": []
    },
    {
      "cell_type": "code",
      "metadata": {
        "id": "OlVrf4xGQLhh"
      },
      "source": [
        "\n",
        "Maximum awesome\n",
        "\n",
        "The maximum function takes a list of things that can be\n",
        "ordered (e.g. instances of the Ord typeclass) and returns\n",
        "the biggest of them. Think about how you'd implement that in\n",
        "an imperative fashion. You'd probably set up a variable to\n",
        "hold the maximum value so far and then you'd loop through\n",
        "the elements of a list and if an element is bigger than then\n",
        "the current maximum value, you'd replace it with that\n",
        "element. The maximum value that remains at the end is the\n",
        "result. Whew! That's quite a lot of words to describe such a\n",
        "simple algorithm!\n",
        "\n",
        "Now let's see how we'd define it recursively. We could first\n",
        "set up an edge condition and say that the maximum of a\n",
        "singleton list is equal to the only element in it. Then we\n",
        "can say that the maximum of a longer list is the head if the\n",
        "head is bigger than the maximum of the tail. If the maximum\n",
        "of the tail is bigger, well, then it's the maximum of the\n",
        "tail. That's it! Now let's implement that in Haskell.\n",
        "\n",
        "maximum' :: (Ord a) => [a] -> a\n",
        "maximum' [] = error \"maximum of empty list\"\n",
        "maximum' [x] = x\n",
        "maximum' (x:xs)\n",
        "| x > maxTail = x\n",
        "| otherwise = maxTail\n",
        "where maxTail = maximum' xs\n",
        "As you can see, pattern matching goes great with recursion!\n",
        "Most imperative languages don't have pattern matching so you\n",
        "have to make a lot of if else statements to test for edge\n",
        "conditions. Here, we simply put them out as patterns. So the\n",
        "first edge condition says that if the list is empty, crash!\n",
        "Makes sense because what's the maximum of an empty list? I\n",
        "don't know. The second pattern also lays out an edge\n",
        "condition. It says that if it's the singleton list, just\n",
        "give back the only element.\n",
        "\n",
        "Now the third pattern is where the action happens. We use\n",
        "pattern matching to split a list into a head and a tail.\n",
        "This is a very common idiom when doing recursion with lists,\n",
        "so get used to it. We use a where binding to define maxTail\n",
        "as the maximum of the rest of the list. Then we check if the\n",
        "head is greater than the maximum of the rest of the list. If\n",
        "it is, we return the head. Otherwise, we return the maximum\n",
        "of the rest of the list.\n",
        "\n",
        "Let's take an example list of numbers and check out how this\n",
        "would work on them: [2,5,1]. If we call maximum' on that,\n",
        "the first two patterns won't match. The third one will and\n",
        "the list is split into 2 and [5,1]. The where clause wants\n",
        "to know the maximum of [5,1], so we follow that route. It\n",
        "matches the third pattern again and [5,1] is split into 5\n",
        "and [1]. Again, the where clause wants to know the maximum\n",
        "of [1]. Because that's the edge condition, it returns 1.\n",
        "Finally! So going up one step, comparing 5 to the maximum of\n",
        "[1] (which is 1), we obviously get back 5. So now we know\n",
        "that the maximum of [5,1] is 5. We go up one step again\n",
        "where we had 2 and [5,1]. Comparing 2 with the maximum of\n",
        "[5,1], which is 5, we choose 5.\n",
        "\n",
        "An even clearer way to write this function is to use max. If\n",
        "you remember, max is a function that takes two numbers and\n",
        "returns the bigger of them. Here's how we could rewrite\n",
        "maximum' by using max:\n",
        "\n",
        "maximum' :: (Ord a) => [a] -> a\n",
        "maximum' [] = error \"maximum of empty list\"\n",
        "maximum' [x] = x\n",
        "maximum' (x:xs) = max x (maximum' xs)\n",
        "How's that for elegant! In essence, the maximum of a list is\n",
        "the max of the first element and the maximum of the tail.\n",
        "\n",
        "max\n",
        "A few more recursive functions\n",
        "Now that we know how to generally think recursively, let's\n",
        "implement a few functions using recursion. First off, we'll\n",
        "implement replicate. replicate takes an Int and some element\n",
        "and returns a list that has several repetitions of the same\n",
        "element. For instance, replicate 3 5 returns [5,5,5]. Let's\n",
        "think about the edge condition. My guess is that the edge\n",
        "condition is 0 or less. If we try to replicate something\n",
        "zero times, it should return an empty list. Also for\n",
        "negative numbers, because it doesn't really make sense.\n",
        "\n",
        "replicate' :: (Num i, Ord i) => i -> a -> [a]\n",
        "replicate' n x\n",
        "| n <= 0 = []\n",
        "| otherwise = x:replicate' (n-1) x\n",
        "We used guards here instead of patterns because we're\n",
        "testing for a boolean condition. If n is less than or equal\n",
        "to 0, return an empty list. Otherwise return a list that has\n",
        "x as the first element and then x replicated n-1 times as\n",
        "the tail. Eventually, the (n-1) part will cause our function\n",
        "to reach the edge condition.\n",
        "\n",
        "Note: Num is not a subclass of Ord. That means that what\n",
        "constitutes for a number doesn't really have to adhere to an\n",
        "ordering. So that's why we have to specify both the Num and\n",
        "Ord class constraints when doing addition or subtraction and\n",
        "also comparison.\n",
        "Next up, we'll implement take. It takes a certain number of\n",
        "elements from a list. For instance, take 3 [5,4,3,2,1] will\n",
        "return [5,4,3]. If we try to take 0 or less elements from a\n",
        "list, we get an empty list. Also if we try to take anything\n",
        "from an empty list, we get an empty list. Notice that those\n",
        "are two edge conditions right there. So let's write that\n",
        "out:\n",
        "\n",
        "take' :: (Num i, Ord i) => i -> [a] -> [a]\n",
        "take' n _\n",
        "| n <= 0 = []\n",
        "take' _ [] = []\n",
        "take' n (x:xs) = x : take' (n-1) xs\n",
        "painter\n",
        "The first pattern specifies that if we try to take a 0 or\n",
        "negative number of elements, we get an empty list. Notice\n",
        "that we're using _ to match the list because we don't really\n",
        "care what it is in this case. Also notice that we use a\n",
        "guard, but without an otherwise part. That means that if n\n",
        "turns out to be more than 0, the matching will fall through\n",
        "to the next pattern. The second pattern indicates that if we\n",
        "try to take anything from an empty list, we get an empty\n",
        "list. The third pattern breaks the list into a head and a\n",
        "tail. And then we state that taking n elements from a list\n",
        "equals a list that has x as the head and then a list that\n",
        "takes n-1 elements from the tail as a tail. Try using a\n",
        "piece of paper to write down how the evaluation would look\n",
        "like if we try to take, say, 3 from [4,3,2,1].\n",
        "\n",
        "reverse simply reverses a list. Think about the edge\n",
        "condition. What is it? Come on ... it's the empty list! An\n",
        "empty list reversed equals the empty list itself. O-kay.\n",
        "What about the rest of it? Well, you could say that if we\n",
        "split a list to a head and a tail, the reversed list is\n",
        "equal to the reversed tail and then the head at the end.\n",
        "\n",
        "reverse' :: [a] -> [a]\n",
        "reverse' [] = []\n",
        "reverse' (x:xs) = reverse' xs ++ [x]\n",
        "There we go!\n",
        "\n",
        "Because Haskell supports infinite lists, our recursion\n",
        "doesn't really have to have an edge condition. But if it\n",
        "doesn't have it, it will either keep churning at something\n",
        "infinitely or produce an infinite data structure, like an\n",
        "infinite list. The good thing about infinite lists though is\n",
        "that we can cut them where we want. repeat takes an element\n",
        "and returns an infinite list that just has that element. A\n",
        "recursive implementation of that is really easy, watch.\n",
        "\n",
        "repeat' :: a -> [a]\n",
        "repeat' x = x:repeat' x\n",
        "Calling repeat 3 will give us a list that starts with 3 and\n",
        "then has an infinite amount of 3's as a tail. So calling\n",
        "repeat 3 would evaluate like 3:repeat 3, which is\n",
        "3:(3:repeat 3), which is 3:(3:(3:repeat 3)), etc. repeat 3\n",
        "will never finish evaluating, whereas take 5 (repeat 3) will\n",
        "give us a list of five 3's. So essentially it's like doing\n",
        "replicate 5 3.\n",
        "\n",
        "zip takes two lists and zips them together. zip [1,2,3]\n",
        "[2,3] returns [(1,2),(2,3)], because it truncates the longer\n",
        "list to match the length of the shorter one. How about if we\n",
        "zip something with an empty list? Well, we get an empty list\n",
        "back then. So there's our edge condition. However, zip takes\n",
        "two lists as parameters, so there are actually two edge\n",
        "conditions.\n",
        "\n",
        "zip' :: [a] -> [b] -> [(a,b)]\n",
        "zip' _ [] = []\n",
        "zip' [] _ = []\n",
        "zip' (x:xs) (y:ys) = (x,y):zip' xs ys\n",
        "First two patterns say that if the first list or second list\n",
        "is empty, we get an empty list. The third one says that two\n",
        "lists zipped are equal to pairing up their heads and then\n",
        "tacking on the zipped tails. Zipping [1,2,3] and ['a','b']\n",
        "will eventually try to zip [3] with []. The edge condition\n",
        "patterns kick in and so the result is (1,'a'):(2,'b'):[],\n",
        "which is exactly the same as [(1,'a'),(2,'b')].\n",
        "\n",
        "Let's implement one more standard library function — elem.\n",
        "It takes an element and a list and sees if that element is\n",
        "in the list. The edge condition, as is most of the times\n",
        "with lists, is the empty list. We know that an empty list\n",
        "contains no elements, so it certainly doesn't have the\n",
        "droids we're looking for.\n",
        "\n",
        "elem' :: (Eq a) => a -> [a] -> Bool\n",
        "elem' a [] = False\n",
        "elem' a (x:xs)\n",
        "| a == x = True\n",
        "| otherwise = a `elem'` xs\n",
        "Pretty simple and expected. If the head isn't the element\n",
        "then we check the tail. If we reach an empty list, the\n",
        "result is False.\n",
        "\n",
        "Quick, sort!\n",
        "We have a list of items that can be sorted. Their type is an\n",
        "instance of the Ord typeclass. And now, we want to sort\n",
        "them! There's a very cool algoritm for sorting called\n",
        "quicksort. It's a very clever way of sorting items. While it\n",
        "takes upwards of 10 lines to implement quicksort in\n",
        "imperative languages, the implementation is much shorter and\n",
        "elegant in Haskell. Quicksort has become a sort of poster\n",
        "child for Haskell. Therefore, let's implement it here, even\n",
        "though implementing quicksort in Haskell is considered\n",
        "really cheesy because everyone does it to showcase how\n",
        "elegant Haskell is.\n",
        "\n",
        "quickman\n",
        "So, the type signature is going to be quicksort :: (Ord a)\n",
        "=> [a] -> [a]. No surprises there. The edge condition? Empty\n",
        "list, as is expected. A sorted empty list is an empty list.\n",
        "Now here comes the main algorithm: a sorted list is a list\n",
        "that has all the values smaller than (or equal to) the head\n",
        "of the list in front (and those values are sorted), then\n",
        "comes the head of the list in the middle and then come all\n",
        "the values that are bigger than the head (they're also\n",
        "sorted). Notice that we said sorted two times in this\n",
        "definition, so we'll probably have to make the recursive\n",
        "call twice! Also notice that we defined it using the verb is\n",
        "to define the algorithm instead of saying do this, do that,\n",
        "then do that .... That's the beauty of functional\n",
        "programming! How are we going to filter the list so that we\n",
        "get only the elements smaller than the head of our list and\n",
        "only elements that are bigger? List comprehensions. So,\n",
        "let's dive in and define this function.\n",
        "\n",
        "quicksort :: (Ord a) => [a] -> [a]\n",
        "quicksort [] = []\n",
        "quicksort (x:xs) =\n",
        "let smallerSorted = quicksort [a | a <- xs, a <= x]\n",
        "biggerSorted = quicksort [a | a <- xs, a > x]\n",
        "in smallerSorted ++ [x] ++ biggerSorted\n",
        "Let's give it a small test run to see if it appears to\n",
        "behave correctly.\n",
        "\n",
        "ghci> quicksort [10,2,5,3,1,6,7,4,2,3,4,8,9]\n",
        "[1,2,2,3,3,4,4,5,6,7,8,9,10]\n",
        "ghci> quicksort \"the quick brown fox jumps over the lazy\n",
        "dog\"\n",
        "\" abcdeeefghhijklmnoooopqrrsttuuvwxyz\"\n",
        "Booyah! That's what I'm talking about! So if we have, say\n",
        "[5,1,9,4,6,7,3] and we want to sort it, this algorithm will\n",
        "first take the head, which is 5 and then put it in the\n",
        "middle of two lists that are smaller and bigger than it. So\n",
        "at one point, you'll have [1,4,3] ++ [5] ++ [9,6,7]. We know\n",
        "that once the list is sorted completely, the number 5 will\n",
        "stay in the fourth place since there are 3 numbers lower\n",
        "than it and 3 numbers higher than it. Now, if we sort\n",
        "[1,4,3] and [9,6,7], we have a sorted list! We sort the two\n",
        "lists using the same function. Eventually, we'll break it up\n",
        "so much that we reach empty lists and an empty list is\n",
        "already sorted in a way, by virtue of being empty. Here's an\n",
        "illustration:\n",
        "\n",
        "quicksort\n",
        "An element that is in place and won't move anymore is\n",
        "represented in orange. If you read them from left to right,\n",
        "you'll see the sorted list. Although we chose to compare all\n",
        "the elements to the heads, we could have used any element to\n",
        "compare against. In quicksort, an element that you compare\n",
        "against is called a pivot. They're in green here. We chose\n",
        "the head because it's easy to get by pattern matching. The\n",
        "elements that are smaller than the pivot are light green and\n",
        "elements larger than the pivot are dark green. The yellowish\n",
        "gradient thing represents an application of quicksort.\n",
        "\n",
        "Thinking recursively\n",
        "We did quite a bit of recursion so far and as you've\n",
        "probably noticed, there's a pattern here. Usually you define\n",
        "an edge case and then you define a function that does\n",
        "something between some element and the function applied to\n",
        "the rest. It doesn't matter if it's a list, a tree or any\n",
        "other data structure. A sum is the first element of a list\n",
        "plus the sum of the rest of the list. A product of a list is\n",
        "the first element of the list times the product of the rest\n",
        "of the list. The length of a list is one plus the length of\n",
        "the tail of the list. Ekcetera, ekcetera ...\n",
        "\n",
        "brain\n",
        "Of course, these also have edge cases. Usually the edge case\n",
        "is some scenario where a recursive application doesn't make\n",
        "sense. When dealing with lists, the edge case is most often\n",
        "the empty list. If you're dealing with trees, the edge case\n",
        "is usually a node that doesn't have any children.\n",
        "\n",
        "It's similar when you're dealing with numbers recursively.\n",
        "Usually it has to do with some number and the function\n",
        "applied to that number modified. We did the factorial\n",
        "function earlier and it's the product of a number and the\n",
        "factorial of that number minus one. Such a recursive\n",
        "application doesn't make sense with zero, because factorials\n",
        "are defined only for positive integers. Often the edge case\n",
        "value turns out to be an identity. The identity for\n",
        "multiplication is 1 because if you multiply something by 1,\n",
        "you get that something back. Also when doing sums of lists,\n",
        "we define the sum of an empty list as 0 and 0 is the\n",
        "identity for addition. In quicksort, the edge case is the\n",
        "empty list and the identity is also the empty list, because\n",
        "if you add an empty list to a list, you just get the\n",
        "original list back.\n",
        "\n",
        "So when trying to think of a recursive way to solve a\n",
        "problem, try to think of when a recursive solution doesn't\n",
        "apply and see if you can use that as an edge case, think\n",
        "about identities and think about whether you'll break apart\n",
        "the parameters of the function (for instance, lists are\n",
        "usually broken into a head and a tail via pattern matching)\n",
        "and on which part you'll use the recursive call.\n"
      ],
      "execution_count": null,
      "outputs": []
    },
    {
      "cell_type": "code",
      "metadata": {
        "id": "y9oVCAclRU98"
      },
      "source": [
        ""
      ],
      "execution_count": null,
      "outputs": []
    }
  ]
}