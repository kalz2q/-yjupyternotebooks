{
  "nbformat": 4,
  "nbformat_minor": 0,
  "metadata": {
    "colab": {
      "name": "learnhaskell.ipynb",
      "provenance": [],
      "toc_visible": true,
      "authorship_tag": "ABX9TyNGPqkN7uBN/JpaCrb+Lxjp",
      "include_colab_link": true
    },
    "kernelspec": {
      "name": "python3",
      "display_name": "Python 3"
    }
  },
  "cells": [
    {
      "cell_type": "markdown",
      "metadata": {
        "id": "view-in-github",
        "colab_type": "text"
      },
      "source": [
        "<a href=\"https://colab.research.google.com/github/kalz2q/mycolabnotebooks/blob/master/learnhaskell.ipynb\" target=\"_parent\"><img src=\"https://colab.research.google.com/assets/colab-badge.svg\" alt=\"Open In Colab\"/></a>"
      ]
    },
    {
      "cell_type": "markdown",
      "metadata": {
        "id": "JZqM1qwx2bFV"
      },
      "source": [
        "# メモ\n",
        "1. このノートブックは Colab で読まれることを想定している。 是非 Colab で開いてください。\n",
        "1. Colab の環境を利用して Haskellを勉強する。Colab の環境は Hakell はインストールされていないので、インストールする。\n",
        "1. Colab の環境で Haskell のインタラクティブ環境は使えないので、`%%writefile filename.hs` でファイルを作り、`!runghc filename.hs` で実行するか、!ghc -e でコマンドライン・ワンライナーで実行する。\n"
      ]
    },
    {
      "cell_type": "markdown",
      "metadata": {
        "id": "npDz1ryYbkrF"
      },
      "source": [
        "参考\n",
        "1. とりあえずは Haskell の入門書や入門サイトからサンプルプログラムを入力してみる。\n",
        "1. Learn You A Haskell For Great Good! (http://learnyouahaskell.com/)  \n",
        "1. A Gentle Introduction to Haskell (https://www.haskell.org/tutorial/)\n",
        "1. Yet Another Haskell Tutorial (http://users.umiacs.umd.edu/~hal/docs/daume02yaht.pdf)\n",
        "1. https://wiki.haskell.org/How_to_work_on_lists\n",
        "1. https://wiki.haskell.org/Applications_and_libraries/Data_structures\n",
        "1. https://wiki.haskell.org/Applications_and_libraries/Concurrency_and_parallelism\n",
        "1. https://wiki.haskell.org/Applications_and_libraries/GUI_libraries\n",
        "1. https://wiki.haskell.org/Applications_and_libraries/Network\n",
        "1. https://wiki.haskell.org/QuickCheck\n",
        "1. https://wiki.haskell.org/HUnit_1.0_User%27s_Guide\n",
        "1. https://wiki.haskell.org/Regex_Posix\n",
        "\n",
        "\n",
        "\n",
        "  \n",
        "  \n"
      ]
    },
    {
      "cell_type": "code",
      "metadata": {
        "id": "S-NYRxs4SuLf"
      },
      "source": [
        "# haskell(ghc)のインストール\n",
        "%%capture\n",
        "!apt install ghc"
      ],
      "execution_count": null,
      "outputs": []
    },
    {
      "cell_type": "code",
      "metadata": {
        "id": "uFBBZYLDS8Ed",
        "colab": {
          "base_uri": "https://localhost:8080/"
        },
        "outputId": "4a48a29f-ec31-447b-fb1b-6de823aa8455"
      },
      "source": [
        "# インストールされたことの確認\n",
        "!ghc --version"
      ],
      "execution_count": null,
      "outputs": [
        {
          "output_type": "stream",
          "text": [
            "/bin/bash: ghc: command not found\n"
          ],
          "name": "stdout"
        }
      ]
    },
    {
      "cell_type": "code",
      "metadata": {
        "id": "Ba2HY_gpTx4I",
        "colab": {
          "base_uri": "https://localhost:8080/"
        },
        "outputId": "1ab5bbda-792f-438f-c797-e6173e8895e8"
      },
      "source": [
        "# ファイルを作る\n",
        "%%writefile hello.hs\n",
        "main = putStrLn \"hello, world\""
      ],
      "execution_count": null,
      "outputs": [
        {
          "output_type": "stream",
          "text": [
            "Writing hello.hs\n"
          ],
          "name": "stdout"
        }
      ]
    },
    {
      "cell_type": "code",
      "metadata": {
        "id": "SvIkXNjIU6iv",
        "colab": {
          "base_uri": "https://localhost:8080/"
        },
        "outputId": "b4074dbf-ca31-4b8b-8d77-d9c07c365e95"
      },
      "source": [
        "# ファイルを実行する\r\n",
        "!runghc hello.hs"
      ],
      "execution_count": null,
      "outputs": [
        {
          "output_type": "stream",
          "text": [
            "hello, world\n"
          ],
          "name": "stdout"
        }
      ]
    },
    {
      "cell_type": "code",
      "metadata": {
        "id": "f833IGbAwxVZ",
        "colab": {
          "base_uri": "https://localhost:8080/"
        },
        "outputId": "eebba1d2-f09d-4825-ada2-44e350d8e3ea"
      },
      "source": [
        "# シェル(コマンドライン・ワンライナー)で実行する\n",
        "# 便利なので多用するかもしれない\n",
        "!ghc -e 'putStrLn \"hello world!\"'"
      ],
      "execution_count": null,
      "outputs": [
        {
          "output_type": "stream",
          "text": [
            "hello world!\n"
          ],
          "name": "stdout"
        }
      ]
    },
    {
      "cell_type": "code",
      "metadata": {
        "id": "lWcYdzaZh0Id"
      },
      "source": [
        "# ユーザーとのやり取りも次のようにすればできるが、Colab では使わないこととする\r\n",
        "%%script false\r\n",
        "!ghc -e \"interact (unlines.map reverse.lines)\""
      ],
      "execution_count": null,
      "outputs": []
    },
    {
      "cell_type": "markdown",
      "metadata": {
        "id": "ViF69Gd1AQy_"
      },
      "source": [
        "Haskellは `putStrLn` と `print` がある。両方共行末の改行は自動で入る。\n",
        "\n",
        "改行コードをエスケープで入れたときの挙動とが違う。\n",
        "\n",
        "putStrLn は引数が文字列で数値は扱えない。 print は数値でも大丈夫。\n",
        "\n"
      ]
    },
    {
      "cell_type": "code",
      "metadata": {
        "id": "BW6_ktjv-GDS",
        "colab": {
          "base_uri": "https://localhost:8080/"
        },
        "outputId": "9d3f82ed-d09d-449f-a9e7-b8d09f4fc50f"
      },
      "source": [
        "%%writefile print01.hs\n",
        "main = do\n",
        "  print \"Haskell\\nand\\nPython\"  \n",
        "  putStrLn \"Haskell\\nand\\nPython\"  \n"
      ],
      "execution_count": null,
      "outputs": [
        {
          "output_type": "stream",
          "text": [
            "Writing print01.hs\n"
          ],
          "name": "stdout"
        }
      ]
    },
    {
      "cell_type": "code",
      "metadata": {
        "id": "BX9GzPza3q1S",
        "colab": {
          "base_uri": "https://localhost:8080/"
        },
        "outputId": "39f21b64-9010-4218-e699-07d37057ebd8"
      },
      "source": [
        "!runghc print01.hs"
      ],
      "execution_count": null,
      "outputs": [
        {
          "output_type": "stream",
          "text": [
            "\"Haskell\\nand\\nPython\"\n",
            "Haskell\n",
            "and\n",
            "Python\n"
          ],
          "name": "stdout"
        }
      ]
    },
    {
      "cell_type": "code",
      "metadata": {
        "id": "GEUZgmSbxehO",
        "colab": {
          "base_uri": "https://localhost:8080/"
        },
        "outputId": "e72bb21b-c740-4af9-e385-7b47a284387d"
      },
      "source": [
        "# 実験 数字を直接 putStrLn の引数にするとエラーになるので show で文字列に変換する。\n",
        "!ghc -e 'putStrLn(show(32))'"
      ],
      "execution_count": null,
      "outputs": [
        {
          "output_type": "stream",
          "text": [
            "32\n"
          ],
          "name": "stdout"
        }
      ]
    },
    {
      "cell_type": "markdown",
      "metadata": {
        "id": "1hE1az0p-JCH"
      },
      "source": [
        "Haskell は関数のカッコはあってもよいが省略可能。\n"
      ]
    },
    {
      "cell_type": "code",
      "metadata": {
        "id": "FzNpBNRN-UC0",
        "colab": {
          "base_uri": "https://localhost:8080/"
        },
        "outputId": "2fc3ae47-3a1b-4ac2-d77d-f197248790cc"
      },
      "source": [
        "%%writefile if01.hs\n",
        "main = \n",
        "  let fac n = if n == 0 then 1 else n * fac (n-1)  \n",
        "  in print ( fac 42 )"
      ],
      "execution_count": null,
      "outputs": [
        {
          "output_type": "stream",
          "text": [
            "Overwriting if01.hs\n"
          ],
          "name": "stdout"
        }
      ]
    },
    {
      "cell_type": "code",
      "metadata": {
        "id": "9OWoPdET4N1E",
        "colab": {
          "base_uri": "https://localhost:8080/"
        },
        "outputId": "7571c8b3-f86b-4d7b-b4ce-dfc91f41ef54"
      },
      "source": [
        "!runghc if01.hs"
      ],
      "execution_count": null,
      "outputs": [
        {
          "output_type": "stream",
          "text": [
            "1405006117752879898543142606244511569936384000000000\n"
          ],
          "name": "stdout"
        }
      ]
    },
    {
      "cell_type": "code",
      "metadata": {
        "id": "m0M_Is7VcMPU",
        "colab": {
          "base_uri": "https://localhost:8080/"
        },
        "outputId": "a21a9772-f4c9-42a8-bd07-5636c404eee7"
      },
      "source": [
        "# 実験 コマンドライン・ワンライナーにできるか\r\n",
        "!ghc -e \"let fac  n = if n == 0 then 1 else n * fac (n-1) in print ( fac 42 )\""
      ],
      "execution_count": null,
      "outputs": [
        {
          "output_type": "stream",
          "text": [
            "1405006117752879898543142606244511569936384000000000\n"
          ],
          "name": "stdout"
        }
      ]
    },
    {
      "cell_type": "code",
      "metadata": {
        "id": "8w4PrTw5cqom",
        "colab": {
          "base_uri": "https://localhost:8080/"
        },
        "outputId": "f08d0ab5-02bc-4b23-c690-9e4fdc7e5e4a"
      },
      "source": [
        "# 実験 putStLn にしてみる\r\n",
        "!ghc -e \"let fac  n = if n == 0 then 1 else n * fac (n-1) in putStrLn (show ( fac 42 ))\""
      ],
      "execution_count": null,
      "outputs": [
        {
          "output_type": "stream",
          "text": [
            "1405006117752879898543142606244511569936384000000000\n"
          ],
          "name": "stdout"
        }
      ]
    },
    {
      "cell_type": "markdown",
      "metadata": {
        "id": "fPcnaEfF-Y-y"
      },
      "source": [
        "階乗を計算する関数を作って再帰的に実行している。\n",
        "\n",
        "なかなかすごいのではないか。\n"
      ]
    },
    {
      "cell_type": "markdown",
      "metadata": {
        "id": "w5wAydKX2cYY"
      },
      "source": [
        "ま、とりあえずできたということで。\n",
        "さきへ進もう。"
      ]
    },
    {
      "cell_type": "code",
      "metadata": {
        "id": "K535VVGH-lD_",
        "colab": {
          "base_uri": "https://localhost:8080/"
        },
        "outputId": "95da4cae-6ee1-4e39-d487-986f3ada7b6d"
      },
      "source": [
        "# 以下のような関数の作り方はなんと呼ぶのか。パターンマッチング?\n",
        "%%writefile fac01.hs\n",
        "fac 0 = 1  \n",
        "fac n = n * fac (n-1)  \n",
        "main = print (fac 42)  \n"
      ],
      "execution_count": null,
      "outputs": [
        {
          "output_type": "stream",
          "text": [
            "Writing fac01.hs\n"
          ],
          "name": "stdout"
        }
      ]
    },
    {
      "cell_type": "code",
      "metadata": {
        "id": "_A2BylE4LNzN",
        "colab": {
          "base_uri": "https://localhost:8080/"
        },
        "outputId": "34d1e2c3-28f3-4117-9e9a-44eccae7fbdf"
      },
      "source": [
        "!runghc fac01.hs"
      ],
      "execution_count": null,
      "outputs": [
        {
          "output_type": "stream",
          "text": [
            "1405006117752879898543142606244511569936384000000000\n"
          ],
          "name": "stdout"
        }
      ]
    },
    {
      "cell_type": "markdown",
      "metadata": {
        "id": "Eh0YyntvF0O-"
      },
      "source": [
        "# 四則演算"
      ]
    },
    {
      "cell_type": "code",
      "metadata": {
        "id": "xrXWasfNF4tO",
        "colab": {
          "base_uri": "https://localhost:8080/"
        },
        "outputId": "b01bf952-128a-4ca1-ea5e-59cd55d60129"
      },
      "source": [
        "%%writefile arithmetic01.hs\n",
        "main = do\n",
        "  print $ 3 * 5\n",
        "  print $ 4 ^ 2 - 1\n",
        "  print $ (1-5)^(3*2 - 4)\n",
        "  print $ 5 / 2"
      ],
      "execution_count": null,
      "outputs": [
        {
          "output_type": "stream",
          "text": [
            "Overwriting arithmetic01.hs\n"
          ],
          "name": "stdout"
        }
      ]
    },
    {
      "cell_type": "code",
      "metadata": {
        "id": "0bvVHssEvDKU",
        "colab": {
          "base_uri": "https://localhost:8080/"
        },
        "outputId": "72740020-4835-4878-ca71-a012af36eba8"
      },
      "source": [
        "!runghc arithmetic01.hs"
      ],
      "execution_count": null,
      "outputs": [
        {
          "output_type": "stream",
          "text": [
            "15\n",
            "15\n",
            "16\n",
            "2.5\n"
          ],
          "name": "stdout"
        }
      ]
    },
    {
      "cell_type": "code",
      "metadata": {
        "id": "KRkEzsyVdsJB",
        "colab": {
          "base_uri": "https://localhost:8080/"
        },
        "outputId": "2130ff44-3ade-44a4-c546-43c6248dffa0"
      },
      "source": [
        "!ghc -e '3*5'\r\n",
        "!ghc -e '4 ^ 2 - 1'\r\n",
        "!ghc -e '(1-5)^(3*2 - 4)'\r\n",
        "!ghc -e '5 / 2'"
      ],
      "execution_count": null,
      "outputs": [
        {
          "output_type": "stream",
          "text": [
            "15\n",
            "15\n",
            "16\n",
            "2.5\n"
          ],
          "name": "stdout"
        }
      ]
    },
    {
      "cell_type": "markdown",
      "metadata": {
        "id": "5pYgDgiE0pOk"
      },
      "source": [
        "括弧が重なるのを避けるため `$` という記法を使うと `$` 以降の結果が `$` の前の関数の引数になる。\n"
      ]
    },
    {
      "cell_type": "markdown",
      "metadata": {
        "id": "SAeWCy8897AH"
      },
      "source": [
        "\n",
        "文字列はダブルクォート（二重引用符）で囲む。 文字列の結合をするときは ++ を使う。\n",
        "  \n",
        "  \n"
      ]
    },
    {
      "cell_type": "code",
      "metadata": {
        "id": "XD-Q9HsR-5EK",
        "colab": {
          "base_uri": "https://localhost:8080/"
        },
        "outputId": "f4fccf0a-c4b7-4274-d8be-e31fd7adc0e6"
      },
      "source": [
        "%%writefile string01.hs\n",
        "main = do\n",
        "  print \"Hello\"\n",
        "  print $ \"hello\" ++ \", haskell\"\n"
      ],
      "execution_count": null,
      "outputs": [
        {
          "output_type": "stream",
          "text": [
            "Overwriting string01.hs\n"
          ],
          "name": "stdout"
        }
      ]
    },
    {
      "cell_type": "code",
      "metadata": {
        "id": "4epQKGoHvnND",
        "colab": {
          "base_uri": "https://localhost:8080/"
        },
        "outputId": "f05eefeb-a1b1-4a02-9e54-f0bdb3dbbbbd"
      },
      "source": [
        "!runghc string01.hs"
      ],
      "execution_count": null,
      "outputs": [
        {
          "output_type": "stream",
          "text": [
            "\"Hello\"\n",
            "\"hello, haskell\"\n"
          ],
          "name": "stdout"
        }
      ]
    },
    {
      "cell_type": "code",
      "metadata": {
        "id": "3Awt28XplzFA",
        "colab": {
          "base_uri": "https://localhost:8080/"
        },
        "outputId": "52b806f9-22ad-4f05-ca18-d292c9132ec0"
      },
      "source": [
        "%%writefile math01.hs\n",
        "\n",
        "main =  do\n",
        "    print $ succ 5\n",
        "    print $ truncate 6.59\n",
        "    print $ round 6.59\n",
        "    print $ sqrt 2\n",
        "    print $ not (5 < 3)\n",
        "    print $ gcd 21 14\n"
      ],
      "execution_count": null,
      "outputs": [
        {
          "output_type": "stream",
          "text": [
            "Writing math01.hs\n"
          ],
          "name": "stdout"
        }
      ]
    },
    {
      "cell_type": "code",
      "metadata": {
        "id": "VH-lYQ5ywHur",
        "colab": {
          "base_uri": "https://localhost:8080/"
        },
        "outputId": "9777e5ee-a98d-4c90-ffa9-8c286dfdabfc"
      },
      "source": [
        "!runghc math01.hs"
      ],
      "execution_count": null,
      "outputs": [
        {
          "output_type": "stream",
          "text": [
            "6\n",
            "6\n",
            "7\n",
            "1.4142135623730951\n",
            "True\n",
            "7\n"
          ],
          "name": "stdout"
        }
      ]
    },
    {
      "cell_type": "markdown",
      "metadata": {
        "id": "ctM7K9ZNwdLy"
      },
      "source": [
        "# ワンライナー\n",
        "\n",
        "`ghci -e`  でワンライナーが書ける、とういうので実験。\n"
      ]
    },
    {
      "cell_type": "code",
      "metadata": {
        "id": "kxB5SULE_Nre",
        "colab": {
          "base_uri": "https://localhost:8080/"
        },
        "outputId": "909f289c-3c65-4b11-dd36-da1530d83247"
      },
      "source": [
        "!ghc -e 'putStrLn \"hello world\"'\n",
        "!ghc -e 'print \"hello world\"'"
      ],
      "execution_count": null,
      "outputs": [
        {
          "output_type": "stream",
          "text": [
            "hello world\n",
            "\"hello world\"\n"
          ],
          "name": "stdout"
        }
      ]
    },
    {
      "cell_type": "code",
      "metadata": {
        "id": "-rjT7qBbhfnC",
        "colab": {
          "base_uri": "https://localhost:8080/"
        },
        "outputId": "164f00dd-1ace-4ef4-e0e1-b02e0d9b424a"
      },
      "source": [
        "!ghc -e  'print $ truncate (-6.59)'"
      ],
      "execution_count": null,
      "outputs": [
        {
          "output_type": "stream",
          "text": [
            "-6\n"
          ],
          "name": "stdout"
        }
      ]
    },
    {
      "cell_type": "code",
      "metadata": {
        "id": "8BX5lnthiYRv",
        "colab": {
          "base_uri": "https://localhost:8080/"
        },
        "outputId": "495b0910-f17a-4b20-c4f5-dc5075503f49"
      },
      "source": [
        "# 実験 floor が使えるかどうか\n",
        "!ghc -e 'floor(-6.59)' #=> -7"
      ],
      "execution_count": null,
      "outputs": [
        {
          "output_type": "stream",
          "text": [
            "-7\n"
          ],
          "name": "stdout"
        }
      ]
    },
    {
      "cell_type": "markdown",
      "metadata": {
        "id": "LYqikGpK1Pmh"
      },
      "source": [
        "ひとつの式の中で複数の I/O アクションを使いたい場合は、doブロックを使う。アクションはセミコロンで区切る。\n",
        "  \n",
        "  \n"
      ]
    },
    {
      "cell_type": "code",
      "metadata": {
        "id": "Ppn7NhT5iyNa",
        "colab": {
          "base_uri": "https://localhost:8080/"
        },
        "outputId": "1e472fc7-2890-4fae-abe4-9c0c86b5f270"
      },
      "source": [
        "!ghc -e 'do {putStr \"2 + 2 = \"; print(2 + 2)}'\n",
        "!ghc -e 'do { putStrLn \"ABCDE\" ; putStrLn \"12345\" }  '"
      ],
      "execution_count": null,
      "outputs": [
        {
          "output_type": "stream",
          "text": [
            "2 + 2 = 4\n",
            "ABCDE\n",
            "12345\n"
          ],
          "name": "stdout"
        }
      ]
    },
    {
      "cell_type": "code",
      "metadata": {
        "id": "QqsKOdWoI2J6",
        "colab": {
          "base_uri": "https://localhost:8080/"
        },
        "outputId": "c7f3d57a-454f-4438-c26c-0fa4c02bcc8f"
      },
      "source": [
        "!ghc -e '\"hello\"'\n",
        "!ghc -e '[1,2,3]'\n",
        "!ghc -e '3'"
      ],
      "execution_count": null,
      "outputs": [
        {
          "output_type": "stream",
          "text": [
            "\"hello\"\n",
            "[1,2,3]\n",
            "3\n"
          ],
          "name": "stdout"
        }
      ]
    },
    {
      "cell_type": "code",
      "metadata": {
        "id": "uUpYHJFtSODz"
      },
      "source": [
        "%%capture\r\n",
        "!apt install ghc"
      ],
      "execution_count": null,
      "outputs": []
    },
    {
      "cell_type": "code",
      "metadata": {
        "colab": {
          "base_uri": "https://localhost:8080/"
        },
        "id": "AeokIoRmR8CV",
        "outputId": "a65a7e36-651e-4c7d-becd-8ea744e8d86a"
      },
      "source": [
        "!ghc -e 'map (\\x ->  x^2) [1..3]'"
      ],
      "execution_count": null,
      "outputs": [
        {
          "output_type": "stream",
          "text": [
            "[1,4,9]\n"
          ],
          "name": "stdout"
        }
      ]
    },
    {
      "cell_type": "code",
      "metadata": {
        "colab": {
          "base_uri": "https://localhost:8080/"
        },
        "id": "dtJbwAKTSwYF",
        "outputId": "a5987a68-6125-4da2-b9f1-3cab5ced8f8d"
      },
      "source": [
        "!ghc -e 'mapM print [1..3]'\r\n",
        "!ghc -e 'mapM_ print [1..3]' # 結果のリストを返さないバージョン"
      ],
      "execution_count": null,
      "outputs": [
        {
          "output_type": "stream",
          "text": [
            "1\n",
            "2\n",
            "3\n",
            "[(),(),()]\n",
            "1\n",
            "2\n",
            "3\n"
          ],
          "name": "stdout"
        }
      ]
    },
    {
      "cell_type": "code",
      "metadata": {
        "colab": {
          "base_uri": "https://localhost:8080/"
        },
        "id": "91UoXa9HTXHZ",
        "outputId": "6048a227-7f58-4603-e9bc-acf83e8f4034"
      },
      "source": [
        "!echo 'this\\nis' | ghc -e 'getLine'\r\n",
        "!echo\r\n",
        "!echo $'this\\nis' | ghc -e 'getLine'"
      ],
      "execution_count": null,
      "outputs": [
        {
          "output_type": "stream",
          "text": [
            "\"this\\\\nis\"\n",
            "\n",
            "\"this\"\n"
          ],
          "name": "stdout"
        }
      ]
    },
    {
      "cell_type": "code",
      "metadata": {
        "colab": {
          "base_uri": "https://localhost:8080/"
        },
        "id": "WQO_woD2Tq2K",
        "outputId": "1b5767a6-35ca-4d52-8167-91cf8c7ad098"
      },
      "source": [
        "!echo $'this\\nis' | ghc -e 'getLine >>= putStrLn'\r\n",
        "!echo\r\n",
        "!echo $'this\\nis' | ghc -e 'putStrLn =<< getLine'\r\n",
        "!echo\r\n",
        "!echo $'this\\nis' | ghc -e 'do {x <- getLine ; putStrLn x}'"
      ],
      "execution_count": null,
      "outputs": [
        {
          "output_type": "stream",
          "text": [
            "this\n",
            "\n",
            "this\n",
            "\n",
            "this\n"
          ],
          "name": "stdout"
        }
      ]
    },
    {
      "cell_type": "code",
      "metadata": {
        "colab": {
          "base_uri": "https://localhost:8080/"
        },
        "id": "FfBgDIpqUvIJ",
        "outputId": "fad7c560-dfe8-499a-eb53-da0919d21cee"
      },
      "source": [
        "!echo $'John\\nMike' | ghc -e 'interact $ unlines . map (\"hello \" ++) . lines'\r\n",
        "!echo\r\n",
        "!echo $'John\\nMike' | ghc -e 'interact $ unlines.map (\"hello \" ++).lines'"
      ],
      "execution_count": null,
      "outputs": [
        {
          "output_type": "stream",
          "text": [
            "hello John\n",
            "hello Mike\n",
            "\n",
            "hello John\n",
            "hello Mike\n"
          ],
          "name": "stdout"
        }
      ]
    },
    {
      "cell_type": "code",
      "metadata": {
        "colab": {
          "base_uri": "https://localhost:8080/"
        },
        "id": "i0HK2HFzVMOP",
        "outputId": "f1943810-76f9-4f0f-d6ef-94388dbb920f"
      },
      "source": [
        "!echo\r\n",
        "!echo $'John\\nMike' | ghc -e 'map (\"hello \" ++).lines <$> getContents'"
      ],
      "execution_count": null,
      "outputs": [
        {
          "output_type": "stream",
          "text": [
            "\n",
            "[\"hello John\",\"hello Mike\"]\n"
          ],
          "name": "stdout"
        }
      ]
    },
    {
      "cell_type": "markdown",
      "metadata": {
        "id": "LMNeEUkYg52W"
      },
      "source": [
        "# 入力を最終的にリストで受け取りたい\r\n",
        "\r\n",
        "!echo $'10 20\\n30 40\\n50 60' \r\n",
        "\r\n",
        "を\r\n",
        "\r\n",
        " [[10,20],[30,40],[50,60]]で受け取りたい"
      ]
    },
    {
      "cell_type": "code",
      "metadata": {
        "colab": {
          "base_uri": "https://localhost:8080/"
        },
        "id": "LoeQxmt2hSDJ",
        "outputId": "9a8422ff-b520-4a3f-d83e-d06bb1dbd484"
      },
      "source": [
        "# getContents で全体を取得\r\n",
        "!echo $'10 20\\n30 40\\n50 60' | ghc -e 'getContents'"
      ],
      "execution_count": null,
      "outputs": [
        {
          "output_type": "stream",
          "text": [
            "\"10 20\\n30 40\\n50 60\\n\"\n"
          ],
          "name": "stdout"
        }
      ]
    },
    {
      "cell_type": "code",
      "metadata": {
        "colab": {
          "base_uri": "https://localhost:8080/"
        },
        "id": "GLZ5h8Krf1B0",
        "outputId": "2f7d4745-0575-4afd-b48c-a6dc77849e7f"
      },
      "source": [
        "# <- で IO String から String に変換する\r\n",
        "# lines で行に分割\r\n",
        "!echo $'10 20\\n30 40\\n50 60' | ghc -e 'do {input <- getContents; let strList = lines(input) in print strList}'"
      ],
      "execution_count": null,
      "outputs": [
        {
          "output_type": "stream",
          "text": [
            "[\"10 20\",\"30 40\",\"50 60\"]\n"
          ],
          "name": "stdout"
        }
      ]
    },
    {
      "cell_type": "code",
      "metadata": {
        "colab": {
          "base_uri": "https://localhost:8080/"
        },
        "id": "Go5j9IRgiZpq",
        "outputId": "0c19b566-b046-420b-ce91-73b427852a36"
      },
      "source": [
        "# ファンクターを使うと直接 lines を getContents に働かせる\r\n",
        "!echo $'10 20\\n30 40\\n50 60' | ghc -e 'lines <$> getContents'"
      ],
      "execution_count": null,
      "outputs": [
        {
          "output_type": "stream",
          "text": [
            "[\"10 20\",\"30 40\",\"50 60\"]\n"
          ],
          "name": "stdout"
        }
      ]
    },
    {
      "cell_type": "code",
      "metadata": {
        "colab": {
          "base_uri": "https://localhost:8080/"
        },
        "id": "ZzXF6aeOjHCO",
        "outputId": "e80e9d61-edfb-445c-c9f3-f5113db5f7e9"
      },
      "source": [
        "# words を使ってさらにバラす\r\n",
        "# ただこのままでは数値になっていない\r\n",
        "!echo $'10 20\\n30 40\\n50 60' | ghc -e 'map words . lines <$> getContents'"
      ],
      "execution_count": null,
      "outputs": [
        {
          "output_type": "stream",
          "text": [
            "[[\"10\",\"20\"],[\"30\",\"40\"],[\"50\",\"60\"]]\n"
          ],
          "name": "stdout"
        }
      ]
    },
    {
      "cell_type": "code",
      "metadata": {
        "colab": {
          "base_uri": "https://localhost:8080/"
        },
        "id": "mbTWEw-KjvxO",
        "outputId": "8b53fb17-45d7-4d15-a240-1557ef515096"
      },
      "source": [
        "# map read で数値にする\r\n",
        "!echo $'10 20\\n30 40\\n50 60' | ghc -e 'map (map (read::String -> Int)) . map words . lines <$> getContents'\r\n",
        "!echo \r\n",
        "!echo $'10 20\\n30 40\\n50 60' | ghc -e 'map (map (read::String -> Int) . words) . lines <$> getContents'\r\n",
        "!echo \r\n",
        "!echo $'10 20\\n30 40\\n50 60' | ghc -e 'getContents >>= print . map (map (read::String -> Int) . words) . lines'"
      ],
      "execution_count": null,
      "outputs": [
        {
          "output_type": "stream",
          "text": [
            "[[10,20],[30,40],[50,60]]\n",
            "\n",
            "[[10,20],[30,40],[50,60]]\n",
            "\n",
            "[[10,20],[30,40],[50,60]]\n"
          ],
          "name": "stdout"
        }
      ]
    },
    {
      "cell_type": "code",
      "metadata": {
        "colab": {
          "base_uri": "https://localhost:8080/"
        },
        "id": "Meu2FOwQlIPQ",
        "outputId": "d487ff7a-7862-4b27-8fad-6a2d3cdd3297"
      },
      "source": [
        "# 入力が !echo $'3\\n10 20\\n30 40\\n50 60' のようにデータ数が冒頭にある場合\r\n",
        "!echo $'3\\n10 20\\n30 40\\n50 60' | ghc -e 'getContents >>=  print . map (map (read::String -> Int) . words).(drop 1).lines'\r\n",
        "!echo\r\n",
        "!echo $'3\\n10 20\\n30 40\\n50 60' | ghc -e 'getContents >>=  print.map(map(read::String -> Int).words).tail.lines'\r\n"
      ],
      "execution_count": null,
      "outputs": [
        {
          "output_type": "stream",
          "text": [
            "[[10,20],[30,40],[50,60]]\n",
            "\n",
            "[[10,20],[30,40],[50,60]]\n"
          ],
          "name": "stdout"
        }
      ]
    },
    {
      "cell_type": "code",
      "metadata": {
        "colab": {
          "base_uri": "https://localhost:8080/"
        },
        "id": "lTCE7DTH9p7l",
        "outputId": "7526521a-6961-4204-d6e7-2b4c36523eff"
      },
      "source": [
        "# >>= はデータの流れが途中から逆方向になるが\r\n",
        "# コマンドライン・ワンライナーでは便利\r\n",
        "!echo $'10 20' | ghc -e 'getLine >>= print.sum.map read.words'"
      ],
      "execution_count": null,
      "outputs": [
        {
          "output_type": "stream",
          "text": [
            "30\n"
          ],
          "name": "stdout"
        }
      ]
    },
    {
      "cell_type": "code",
      "metadata": {
        "id": "dFGoBpsu-Psz"
      },
      "source": [
        "# コマンドライン・ワンライナーでリスト内包表記は使えるか\r\n",
        "# => 使えないと思う。\r\n"
      ],
      "execution_count": null,
      "outputs": []
    },
    {
      "cell_type": "code",
      "metadata": {
        "colab": {
          "base_uri": "https://localhost:8080/"
        },
        "id": "8omsjbj_-E20",
        "outputId": "b87e7091-1531-4811-ee47-53b964c86913"
      },
      "source": [
        "# 各行の和を取る\r\n",
        "!echo $'10 20\\n30 40\\n50 60' | ghc -e 'getContents >>= print.map(sum.map read.words).lines'\r\n",
        "\r\n",
        "# 冒頭にデータ数があるのを捨てる場合\r\n",
        "!echo $'3\\n10 20\\n30 40\\n50 60' | ghc -e 'getContents >>= print.map(sum.map read.words).tail.lines'\r\n"
      ],
      "execution_count": null,
      "outputs": [
        {
          "output_type": "stream",
          "text": [
            "[30,70,110]\n",
            "[30,70,110]\n"
          ],
          "name": "stdout"
        }
      ]
    },
    {
      "cell_type": "code",
      "metadata": {
        "colab": {
          "base_uri": "https://localhost:8080/"
        },
        "id": "TWIfDATTBnVf",
        "outputId": "32fe7f37-449a-4bcd-f91f-31019a826ffa"
      },
      "source": [
        "# 結果を一つずつ改行して出力する\r\n",
        "!echo $'3\\n10 20\\n30 40\\n50 60' | ghc -e 'getContents >>= mapM_ print.map(sum.map read.words).tail.lines'\r\n"
      ],
      "execution_count": null,
      "outputs": [
        {
          "output_type": "stream",
          "text": [
            "30\n",
            "70\n",
            "110\n"
          ],
          "name": "stdout"
        }
      ]
    },
    {
      "cell_type": "code",
      "metadata": {
        "id": "OJiuL9yRtU3E",
        "outputId": "8a671a3a-8ee8-4211-c2aa-6b1ecea46b19",
        "colab": {
          "base_uri": "https://localhost:8080/"
        }
      },
      "source": [
        "# zip を使う\r\n",
        "!ghc -e \"zip [1..3] ['A'..]\""
      ],
      "execution_count": 4,
      "outputs": [
        {
          "output_type": "stream",
          "text": [
            "[(1,'A'),(2,'B'),(3,'C')]\n"
          ],
          "name": "stdout"
        }
      ]
    },
    {
      "cell_type": "code",
      "metadata": {
        "id": "XhG48QFRtzF2",
        "outputId": "23e73959-0350-40ba-89aa-876022cc1298",
        "colab": {
          "base_uri": "https://localhost:8080/"
        }
      },
      "source": [
        "# すべての組み合わせを生成する\r\n",
        "# <*> はアプリカティブで <$> はファンクター\r\n",
        "!ghc -e \"(,) <$> [1..3] <*> ['A'..'C']\""
      ],
      "execution_count": 7,
      "outputs": [
        {
          "output_type": "stream",
          "text": [
            "[(1,'A'),(1,'B'),(1,'C'),(2,'A'),(2,'B'),(2,'C'),(3,'A'),(3,'B'),(3,'C')]\n"
          ],
          "name": "stdout"
        }
      ]
    },
    {
      "cell_type": "code",
      "metadata": {
        "id": "EbcsT3_Vv1DB",
        "outputId": "555c44cd-33fa-4564-a44d-2a84c2726a8d",
        "colab": {
          "base_uri": "https://localhost:8080/"
        }
      },
      "source": [
        "# アプリカティブはつぎのように作用する\r\n",
        "!ghc -e '(<*>) [length, Data.Char.digitToInt . head] [\"f\", \"ba\", \"baz\"]'\r\n",
        "!ghc -e '(<*>) (Just (\\x -> x * x)) (Just 3)'\r\n",
        "!ghc -e '(<*>) Nothing (Just 3)'\r\n",
        "!ghc -e '(<*>) (Just (\\x -> x * x)) Nothing' "
      ],
      "execution_count": 34,
      "outputs": [
        {
          "output_type": "stream",
          "text": [
            "[1,2,3,15,11,11]\n",
            "Just 9\n",
            "Nothing\n",
            "Nothing\n"
          ],
          "name": "stdout"
        }
      ]
    },
    {
      "cell_type": "code",
      "metadata": {
        "id": "vBX5cY5IxfyM"
      },
      "source": [
        ""
      ],
      "execution_count": null,
      "outputs": []
    },
    {
      "cell_type": "markdown",
      "metadata": {
        "id": "T7qCPk48Fmmu"
      },
      "source": [
        "# 型について少し\n"
      ]
    },
    {
      "cell_type": "markdown",
      "metadata": {
        "id": "3tfVY2QnJs1Y"
      },
      "source": [
        "\n",
        "### 型宣言"
      ]
    },
    {
      "cell_type": "code",
      "metadata": {
        "id": "iOEMdj3kkbsb",
        "colab": {
          "base_uri": "https://localhost:8080/"
        },
        "outputId": "1907fa75-dfba-4e21-a0c8-96ac07547bc1"
      },
      "source": [
        "!ghc -e '5::Int'\n",
        "!ghc -e '5::Double'"
      ],
      "execution_count": null,
      "outputs": [
        {
          "output_type": "stream",
          "text": [
            "5\n",
            "5.0\n"
          ],
          "name": "stdout"
        }
      ]
    },
    {
      "cell_type": "markdown",
      "metadata": {
        "id": "O79IgiT7FrTl"
      },
      "source": [
        "### 型を調べる"
      ]
    },
    {
      "cell_type": "code",
      "metadata": {
        "id": "R8mbMN4HkmLf",
        "colab": {
          "base_uri": "https://localhost:8080/"
        },
        "outputId": "5742e34f-d9f8-4745-b670-5a19e9621153"
      },
      "source": [
        "!ghc -e ':t True'\n",
        "!ghc -e $':t \\'X\\''\n",
        "!ghc -e ':t \"hello haskell\"'"
      ],
      "execution_count": null,
      "outputs": [
        {
          "output_type": "stream",
          "text": [
            "True :: Bool\n",
            "'X' :: Char\n",
            "\"hello haskell\" :: [Char]\n"
          ],
          "name": "stdout"
        }
      ]
    },
    {
      "cell_type": "code",
      "metadata": {
        "id": "rwn1tY4gG528",
        "colab": {
          "base_uri": "https://localhost:8080/"
        },
        "outputId": "0e4989d4-2d0c-4b3f-d7d1-d7682d2a4479"
      },
      "source": [
        "# bash で $'string' とすると string 内で backslash による escape が意味を持つ。\n",
        "# \\t, \\n などが使え、\\' がシングルクォートになる。\n",
        "!ghc -e $':t \\'X\\''\n",
        "!ghc -e $':t \"hello\"'\n",
        "!ghc -e ':t \"hello\"'\n",
        "!ghc -e ':t '\"'\"'X'\"'\"\n",
        "!ghc -e ':t '\\''X'\\'\n",
        "!ghc -e  \":t 'X'\"\n",
        "!echo $'hel\\tlo\\nhello'"
      ],
      "execution_count": null,
      "outputs": [
        {
          "output_type": "stream",
          "text": [
            "'X' :: Char\n",
            "\"hello\" :: [Char]\n",
            "\"hello\" :: [Char]\n",
            "'X' :: Char\n",
            "'X' :: Char\n",
            "'X' :: Char\n",
            "hel\tlo\n",
            "hello\n"
          ],
          "name": "stdout"
        }
      ]
    },
    {
      "cell_type": "markdown",
      "metadata": {
        "id": "shyizwS1F5MZ"
      },
      "source": [
        "[Char]はStringの別名。 Char のリスト。\n"
      ]
    },
    {
      "cell_type": "code",
      "metadata": {
        "id": "Rl2CyyheJFZQ",
        "colab": {
          "base_uri": "https://localhost:8080/"
        },
        "outputId": "a8939f96-d1e6-49c6-97f1-ffbc3d46cbb3"
      },
      "source": [
        "!ghc -e ':t 42'\n",
        "!ghc -e ':t 42.0'\n",
        "!ghc -e ':t gcd 15 20'"
      ],
      "execution_count": null,
      "outputs": [
        {
          "output_type": "stream",
          "text": [
            "42 :: Num t => t\n",
            "42.0 :: Fractional t => t\n",
            "gcd 15 20 :: Integral a => a\n"
          ],
          "name": "stdout"
        }
      ]
    },
    {
      "cell_type": "markdown",
      "metadata": {
        "id": "j5HGk6ZpuPT5"
      },
      "source": [
        "上結果の Num, Fractional, Integral は、型クラス。"
      ]
    },
    {
      "cell_type": "markdown",
      "metadata": {
        "id": "0VJQp8dzJw7U"
      },
      "source": [
        "### Unit 型"
      ]
    },
    {
      "cell_type": "code",
      "metadata": {
        "id": "IAFEJNfKJvd0",
        "colab": {
          "base_uri": "https://localhost:8080/"
        },
        "outputId": "2264f91b-1731-4416-8e72-adcec63b59a6"
      },
      "source": [
        "!ghc -e 'print ()'\n",
        "!ghc -e ':t ()'"
      ],
      "execution_count": null,
      "outputs": [
        {
          "output_type": "stream",
          "text": [
            "()\n",
            "() :: ()\n"
          ],
          "name": "stdout"
        }
      ]
    },
    {
      "cell_type": "markdown",
      "metadata": {
        "id": "zHYfydjqJ0bq"
      },
      "source": [
        "# リスト\n",
        "\n",
        "Haskell のリストは型の混在はなし。 型を混在させるにはタプルを用いる。\n",
        "\n",
        "文字列は文字 Char のリスト。"
      ]
    },
    {
      "cell_type": "code",
      "metadata": {
        "id": "lXxY_lLRKAk2",
        "colab": {
          "base_uri": "https://localhost:8080/"
        },
        "outputId": "498b0db3-edeb-4906-8772-59a98d8e57d4"
      },
      "source": [
        "!ghc -e '[1, 2, 3]'\n",
        "!ghc -e '[1 .. 5]'\n",
        "!ghc -e '[1, 3 .. 10]'\n",
        "!ghc -e '[True, False, True]'\n",
        "!ghc -e $'[\\'H\\', \\'e\\', \\'l\\', \\'l\\', \\'o\\']'\n",
        "!ghc -e $'\\'C\\' : [\\'H\\', \\'e\\', \\'l\\', \\'l\\', \\'o\\']'\n"
      ],
      "execution_count": null,
      "outputs": [
        {
          "output_type": "stream",
          "text": [
            "[1,2,3]\n",
            "[1,2,3,4,5]\n",
            "[1,3,5,7,9]\n",
            "[True,False,True]\n",
            "\"Hello\"\n",
            "\"CHello\"\n"
          ],
          "name": "stdout"
        }
      ]
    },
    {
      "cell_type": "markdown",
      "metadata": {
        "id": "IJcQNo4G2TJJ"
      },
      "source": [
        "# タプル"
      ]
    },
    {
      "cell_type": "markdown",
      "metadata": {
        "id": "oldSN25mUuHD"
      },
      "source": [
        "タプル tuple の特徴は list と違い型の違うものを入れられること、と、タプルが新しい型を作るので、タプルのリストにすることによって安全性が高まること。\n",
        "\n",
        "[[1,2],[3,4,5],[6,7]]\n",
        "\n",
        "はエラーなしにコンパイルされるが、\n",
        "\n",
        "[(1,2),(3,4,5),(6,7)] \n",
        "\n",
        "はエラーになる。"
      ]
    },
    {
      "cell_type": "code",
      "metadata": {
        "id": "PRZJdUhP2-8w",
        "colab": {
          "base_uri": "https://localhost:8080/"
        },
        "outputId": "0507bd9e-02bf-4666-8a97-a0206ef031bf"
      },
      "source": [
        "# 実験 ['a'..'e']は便利かも\n",
        "!ghc -e $'[\\'a\\' .. \\'e\\']'\n",
        "!ghc -e '(1, True)'\n",
        "!ghc -e $'zip [1 .. 5] [\\'a\\' .. \\'e\\']'"
      ],
      "execution_count": null,
      "outputs": [
        {
          "output_type": "stream",
          "text": [
            "\"abcde\"\n",
            "(1,True)\n",
            "[(1,'a'),(2,'b'),(3,'c'),(4,'d'),(5,'e')]\n"
          ],
          "name": "stdout"
        }
      ]
    },
    {
      "cell_type": "code",
      "metadata": {
        "id": "QnhmYQLP3KFy",
        "colab": {
          "base_uri": "https://localhost:8080/"
        },
        "outputId": "4b1bd056-5cc4-4ff0-be50-3e9e8ab53dd3"
      },
      "source": [
        "!ghc -e $':t [\\'a\\' .. \\'c\\']'\n",
        "!ghc -e $':t [(\\'x\\', True), (\\'y\\', False)]'"
      ],
      "execution_count": null,
      "outputs": [
        {
          "output_type": "stream",
          "text": [
            "['a' .. 'c'] :: [Char]\n",
            "[('x', True), ('y', False)] :: [(Char, Bool)]\n"
          ],
          "name": "stdout"
        }
      ]
    },
    {
      "cell_type": "code",
      "metadata": {
        "id": "yArbCM1L3L1Q",
        "colab": {
          "base_uri": "https://localhost:8080/"
        },
        "outputId": "3c153e7e-811d-4bc4-d5eb-41ac5849482d"
      },
      "source": [
        "!ghc -e 'fst (1, 2)'\n",
        "!ghc -e 'snd (1, 2)'\n",
        "!ghc -e 'map fst [(1, 2), (3, 4), (5, 6)]'"
      ],
      "execution_count": null,
      "outputs": [
        {
          "output_type": "stream",
          "text": [
            "1\n",
            "2\n",
            "[1,3,5]\n"
          ],
          "name": "stdout"
        }
      ]
    },
    {
      "cell_type": "code",
      "metadata": {
        "colab": {
          "base_uri": "https://localhost:8080/"
        },
        "id": "G9tnRyO_G5sT",
        "outputId": "34963fbb-cec7-4cc7-d3db-faf40b1aa4dc"
      },
      "source": [
        "!ghc -e '[1..10]'\r\n",
        "!ghc -e '[1..3]::[5.10]'"
      ],
      "execution_count": null,
      "outputs": [
        {
          "output_type": "stream",
          "text": [
            "[1,2,3,4,5,6,7,8,9,10]\n",
            "\n",
            "<interactive>:0:10: error: parse error on input ‘5.10’\n"
          ],
          "name": "stdout"
        }
      ]
    },
    {
      "cell_type": "code",
      "metadata": {
        "id": "SYMjyxkeH0Tz"
      },
      "source": [
        "# リスト内包表記\r\n",
        "!ghc -e '[x^2 | x <- [1..10]]'\r\n",
        "\r\n",
        "# mapM_ による1行ごとの出力\r\n",
        "!ghc -e 'mapM_ print [1..3]'\r\n"
      ],
      "execution_count": null,
      "outputs": []
    },
    {
      "cell_type": "markdown",
      "metadata": {
        "id": "o5zW6xLTLDWC"
      },
      "source": [
        "# getContents"
      ]
    },
    {
      "cell_type": "code",
      "metadata": {
        "id": "0d0wmUdFrlbL",
        "colab": {
          "base_uri": "https://localhost:8080/"
        },
        "outputId": "1743ae40-28d3-4b1f-b185-d43a144afac3"
      },
      "source": [
        "# getContents\r\n",
        "!echo $'This is a pen.\\nThat is an apple.'\r\n",
        "!echo $'This is a pen.\\nThat is an apple.' | ghc -e 'getLine'\r\n",
        "!echo $'This is a pen.\\nThat is an apple.' | ghc -e 'getContents'\r\n",
        "!echo $'This is a pen.\\nThat is an apple.' | ghc -e 'lines <$> getContents'\r\n",
        "!echo\r\n",
        "# 実験 getContents から lines にしたあとの処理\r\n",
        "!echo $'288 240' | ghc -e 'map ((\\[x, y] -> gcd (read x) (read y)) . words) . lines <$> getContents'\r\n",
        "!echo $'288 240' | ghc -e 'map words . lines <$> getContents'\r\n",
        "!echo $'288 240' | ghc -e 'map ((\\[x, y] -> gcd (read x) (read y)) . words) . lines <$> getContents'\r\n",
        "!ghc -e 'gcd 24 81'\r\n",
        "!echo $'288 240' | ghc -e 'map ((\\[x, y] -> gcd 100 (read x)) . words) . lines <$> getContents'\r\n",
        "!echo\r\n",
        "!echo $'This is a pen.\\nThat is an apple.' | ghc -e 'map ( words) . lines <$> getContents'\r\n",
        "!echo $'This is a pen.\\nThat is an apple.' | ghc -e 'map (length) . lines <$> getContents'\r\n",
        "!ghc -e 'length([\"This\",\"is\",\"a\",\"pen.\"])'\r\n",
        "!ghc -e 'map length [\"This\",\"is\",\"a\",\"pen.\"]'\r\n",
        "\r\n",
        "\r\n"
      ],
      "execution_count": null,
      "outputs": [
        {
          "output_type": "stream",
          "text": [
            "This is a pen.\n",
            "That is an apple.\n",
            "\"This is a pen.\"\n",
            "\"This is a pen.\\nThat is an apple.\\n\"\n",
            "[\"This is a pen.\",\"That is an apple.\"]\n",
            "\n",
            "[48]\n",
            "[[\"288\",\"240\"]]\n",
            "[48]\n",
            "3\n",
            "[4]\n",
            "\n",
            "[[\"This\",\"is\",\"a\",\"pen.\"],[\"That\",\"is\",\"an\",\"apple.\"]]\n",
            "[14,1,16]\n",
            "4\n",
            "[4,2,1,4]\n"
          ],
          "name": "stdout"
        }
      ]
    },
    {
      "cell_type": "code",
      "metadata": {
        "id": "0DiXDvUJnApQ"
      },
      "source": [
        ""
      ],
      "execution_count": null,
      "outputs": []
    },
    {
      "cell_type": "markdown",
      "metadata": {
        "id": "54HkLVZMtxE3"
      },
      "source": [
        "# いまここ"
      ]
    },
    {
      "cell_type": "markdown",
      "metadata": {
        "id": "UOWi2Qe_5KxD"
      },
      "source": [
        "# 関数定義"
      ]
    },
    {
      "cell_type": "code",
      "metadata": {
        "id": "BEE6hOyJ5NQR",
        "colab": {
          "base_uri": "https://localhost:8080/"
        },
        "outputId": "301014f1-9610-40ab-ad1c-dad0737003c4"
      },
      "source": [
        "%%writefile Test.hs\n",
        "module Main where\n",
        "\n",
        "factorial n = if n == 0 then 1 else n * factorial (n - 1)\n",
        "\n",
        "main = do putStrLn \"What is 5! ?\"\n",
        "          x <- readLn\n",
        "          if x == factorial 5\n",
        "              then putStrLn \"You're right!\"\n",
        "              else putStrLn \"You're wrong!\""
      ],
      "execution_count": null,
      "outputs": [
        {
          "output_type": "stream",
          "text": [
            "Overwriting Test.hs\n"
          ],
          "name": "stdout"
        }
      ]
    },
    {
      "cell_type": "code",
      "metadata": {
        "id": "5uBBmlwM5WJZ"
      },
      "source": [
        "# script false の行を # でコメントアウトして実行すると、入力待ちになる。出力欄をクリックして入力ウィンドウに入力することができる。\n",
        "# Colab 上での学習に実用的ではないので対応を考える。\n",
        "%%script false\n",
        "!ghc --make Test.hs; ./Test"
      ],
      "execution_count": null,
      "outputs": []
    },
    {
      "cell_type": "code",
      "metadata": {
        "id": "YTEAzvR9nTp8",
        "colab": {
          "base_uri": "https://localhost:8080/"
        },
        "outputId": "af4ece23-e184-4c67-c5e4-395570689f2e"
      },
      "source": [
        "%%writefile factorial.hs\n",
        "\n",
        "factorial n = if n == 0 then 1 else n * factorial (n - 1)\n",
        "\n",
        "main = do putStrLn \"What is 5! ?\"\n",
        "          x <- readLn\n",
        "          if x == factorial 5\n",
        "              then putStrLn \"You're right!\"\n",
        "              else putStrLn \"You're wrong!\""
      ],
      "execution_count": null,
      "outputs": [
        {
          "output_type": "stream",
          "text": [
            "Overwriting factorial.hs\n"
          ],
          "name": "stdout"
        }
      ]
    },
    {
      "cell_type": "code",
      "metadata": {
        "id": "jAVkoqgvnu0-",
        "colab": {
          "base_uri": "https://localhost:8080/"
        },
        "outputId": "fdcaab38-1f99-4324-e1bd-908a1d447c44"
      },
      "source": [
        "!echo 120 | runghc factorial.hs\n",
        "!echo 150 | runghc factorial.hs"
      ],
      "execution_count": null,
      "outputs": [
        {
          "output_type": "stream",
          "text": [
            "What is 5! ?\n",
            "You're right!\n",
            "What is 5! ?\n",
            "You're wrong!\n"
          ],
          "name": "stdout"
        }
      ]
    },
    {
      "cell_type": "markdown",
      "metadata": {
        "id": "H-u9V2fHds36"
      },
      "source": [
        "上のように、echo を使って、プログラムの readLn で受けるか。\n",
        "\n",
        "次のように、プログラム内に渡すデータを書いて、結果を出力するか。\n",
        "\n",
        "このどちらかになると思う。"
      ]
    },
    {
      "cell_type": "code",
      "metadata": {
        "id": "pooc_yHlqaA6",
        "colab": {
          "base_uri": "https://localhost:8080/"
        },
        "outputId": "38996b96-6466-49e7-fc1b-cca8c3c377d6"
      },
      "source": [
        "%%writefile factorial02.hs\n",
        "\n",
        "factorial n = if n == 0 then 1 else n * factorial (n - 1)\n",
        "\n",
        "main = do\n",
        "        print(factorial 5)\n",
        "        print(factorial 4)"
      ],
      "execution_count": null,
      "outputs": [
        {
          "output_type": "stream",
          "text": [
            "Overwriting factorial02.hs\n"
          ],
          "name": "stdout"
        }
      ]
    },
    {
      "cell_type": "code",
      "metadata": {
        "id": "woeE70_PqoSd",
        "colab": {
          "base_uri": "https://localhost:8080/"
        },
        "outputId": "ee8d21aa-2f90-4bfb-a5cb-2a4d9cd27e6c"
      },
      "source": [
        "!runghc factorial02.hs"
      ],
      "execution_count": null,
      "outputs": [
        {
          "output_type": "stream",
          "text": [
            "120\n",
            "24\n"
          ],
          "name": "stdout"
        }
      ]
    },
    {
      "cell_type": "markdown",
      "metadata": {
        "id": "ksOskHSJd4p1"
      },
      "source": [
        "パターンマッチングを利用して次のように書く書き方もある。"
      ]
    },
    {
      "cell_type": "code",
      "metadata": {
        "id": "ajXsLOal5uxz",
        "colab": {
          "base_uri": "https://localhost:8080/"
        },
        "outputId": "9456fd56-4c41-4269-e606-0561c9872e6c"
      },
      "source": [
        "%%writefile factorial03.hs\n",
        "\n",
        "factorial 0 = 1\n",
        "factorial n = n * factorial (n - 1)\n",
        "\n",
        "main = do\n",
        "        print(factorial 6)\n",
        "        print(factorial 5)"
      ],
      "execution_count": null,
      "outputs": [
        {
          "output_type": "stream",
          "text": [
            "Writing factorial03.hs\n"
          ],
          "name": "stdout"
        }
      ]
    },
    {
      "cell_type": "code",
      "metadata": {
        "id": "PCiTutabrJL1",
        "colab": {
          "base_uri": "https://localhost:8080/"
        },
        "outputId": "ddff430b-c098-43c3-b4f2-42b4c6f019eb"
      },
      "source": [
        "!runghc factorial03.hs"
      ],
      "execution_count": null,
      "outputs": [
        {
          "output_type": "stream",
          "text": [
            "720\n",
            "120\n"
          ],
          "name": "stdout"
        }
      ]
    },
    {
      "cell_type": "markdown",
      "metadata": {
        "id": "12WQ1L4CwK6G"
      },
      "source": [
        "ちなみに、Colab では 複数のセルを選択して、 Ctrl+Shift+Enter すると、便利である。"
      ]
    },
    {
      "cell_type": "code",
      "metadata": {
        "id": "Gmg_4nAo6CoH",
        "colab": {
          "base_uri": "https://localhost:8080/"
        },
        "outputId": "6ec811d3-8ebc-436b-b9b2-428fb8ecc271"
      },
      "source": [
        "%%writefile let01.hs\n",
        "secsToWeeks secs = let perMinute = 60\n",
        "                       perHour   = 60 * perMinute\n",
        "                       perDay    = 24 * perHour\n",
        "                       perWeek   =  7 * perDay\n",
        "                   in  secs / perWeek\n",
        "\n",
        "main = do\n",
        "        print (secsToWeeks 100000)"
      ],
      "execution_count": null,
      "outputs": [
        {
          "output_type": "stream",
          "text": [
            "Overwriting let01.hs\n"
          ],
          "name": "stdout"
        }
      ]
    },
    {
      "cell_type": "code",
      "metadata": {
        "colab": {
          "base_uri": "https://localhost:8080/"
        },
        "id": "HP9L2lybgzRS",
        "outputId": "4d59aee0-13cd-43e5-d332-c0b5c4b5b3d5"
      },
      "source": [
        "!runghc let01.hs"
      ],
      "execution_count": null,
      "outputs": [
        {
          "output_type": "stream",
          "text": [
            "0.16534391534391535\n"
          ],
          "name": "stdout"
        }
      ]
    },
    {
      "cell_type": "markdown",
      "metadata": {
        "id": "M67kE5oy6ZKp"
      },
      "source": [
        "上コードセルで、let , in は一時的な名前を定義している。\n"
      ]
    },
    {
      "cell_type": "code",
      "metadata": {
        "id": "XN5488-c6Xtm",
        "colab": {
          "base_uri": "https://localhost:8080/"
        },
        "outputId": "5cc91a42-a558-420f-d3ab-4394706c966c"
      },
      "source": [
        "%%writefile case01.hs\n",
        "classify age = case age of 0 -> \"newborn\"\n",
        "                           1 -> \"infant\"\n",
        "                           2 -> \"toddler\"\n",
        "                           _ -> \"senior citizen\"\n",
        "\n",
        "main = do\n",
        "        putStrLn (classify 0)                           \n",
        "        putStrLn (classify 69)"
      ],
      "execution_count": null,
      "outputs": [
        {
          "output_type": "stream",
          "text": [
            "Writing case01.hs\n"
          ],
          "name": "stdout"
        }
      ]
    },
    {
      "cell_type": "code",
      "metadata": {
        "colab": {
          "base_uri": "https://localhost:8080/"
        },
        "id": "ZzkYe9drhp7a",
        "outputId": "0cd588e3-127e-4205-9ea4-545c79453cda"
      },
      "source": [
        "!runghc case01.hs"
      ],
      "execution_count": null,
      "outputs": [
        {
          "output_type": "stream",
          "text": [
            "newborn\n",
            "senior citizen\n"
          ],
          "name": "stdout"
        }
      ]
    },
    {
      "cell_type": "markdown",
      "metadata": {
        "id": "cp5ZgVAk68_H"
      },
      "source": [
        "上のセルで、case 式を使っている。 `_` はその他すべてを表す。"
      ]
    },
    {
      "cell_type": "markdown",
      "metadata": {
        "id": "Q-LIDxck97kv"
      },
      "source": [
        "# ライブラリの使い方 import qualified as"
      ]
    },
    {
      "cell_type": "code",
      "metadata": {
        "id": "4LPJq0oa9bO8",
        "colab": {
          "base_uri": "https://localhost:8080/"
        },
        "outputId": "ded2fd49-3d3b-4888-ddc1-f03c726b0f24"
      },
      "source": [
        "%%writefile importqualified.hs\n",
        "\n",
        "import qualified Data.Map as M\n",
        "\n",
        "errorsPerLine = M.fromList [ (\"Chris\", 472), (\"Don\", 100), (\"Simon\", -5) ]\n",
        "\n",
        "main = do \n",
        "    putStrLn \"Who are you?\"\n",
        "    name <- getLine\n",
        "    case M.lookup name errorsPerLine of\n",
        "        Nothing -> putStrLn \"I don't know you\"\n",
        "        Just n  -> do putStr \"Errors per line: \"\n",
        "                      print n"
      ],
      "execution_count": null,
      "outputs": [
        {
          "output_type": "stream",
          "text": [
            "Overwriting importqualified.hs\n"
          ],
          "name": "stdout"
        }
      ]
    },
    {
      "cell_type": "code",
      "metadata": {
        "colab": {
          "base_uri": "https://localhost:8080/"
        },
        "id": "CwHKDTs_jGqK",
        "outputId": "3576930e-0d33-48fa-e014-bb0a426ef303"
      },
      "source": [
        "!echo Don | runghc importqualified.hs"
      ],
      "execution_count": null,
      "outputs": [
        {
          "output_type": "stream",
          "text": [
            "Who are you?\n",
            "Errors per line: 100\n"
          ],
          "name": "stdout"
        }
      ]
    },
    {
      "cell_type": "code",
      "metadata": {
        "colab": {
          "base_uri": "https://localhost:8080/"
        },
        "id": "sgIS8yV9kPZ2",
        "outputId": "ecbf429a-3fed-4c52-e517-ffdeac64a4dc"
      },
      "source": [
        "!echo Bob | runghc importqualified.hs"
      ],
      "execution_count": null,
      "outputs": [
        {
          "output_type": "stream",
          "text": [
            "Who are you?\n",
            "I don't know you\n"
          ],
          "name": "stdout"
        }
      ]
    },
    {
      "cell_type": "markdown",
      "metadata": {
        "id": "05q0I6VCAal4"
      },
      "source": [
        "# 四則演算"
      ]
    },
    {
      "cell_type": "code",
      "metadata": {
        "colab": {
          "base_uri": "https://localhost:8080/"
        },
        "id": "FQCMMJLxdoam",
        "outputId": "374e9b7f-4d3a-446d-b9f9-180e2f92323c"
      },
      "source": [
        "!ghc -e '2 + 15'\n",
        "!ghc -e '49 * 100'\n",
        "!ghc -e '1892 - 1472'\n",
        "!ghc -e '5 / 2'"
      ],
      "execution_count": null,
      "outputs": [
        {
          "output_type": "stream",
          "text": [
            "17\n",
            "4900\n",
            "420\n",
            "2.5\n"
          ],
          "name": "stdout"
        }
      ]
    },
    {
      "cell_type": "code",
      "metadata": {
        "id": "AFkAK5ZEnkFW",
        "colab": {
          "base_uri": "https://localhost:8080/"
        },
        "outputId": "a152692d-8e90-490a-9f6f-72b2b25a429a"
      },
      "source": [
        "!ghc -e '(50 * 100) - 4999'\n",
        "!ghc -e '50 * 100 - 4999'\n",
        "!ghc -e '50 * (100 - 4999)'"
      ],
      "execution_count": null,
      "outputs": [
        {
          "output_type": "stream",
          "text": [
            "1\n",
            "1\n",
            "-244950\n"
          ],
          "name": "stdout"
        }
      ]
    },
    {
      "cell_type": "code",
      "metadata": {
        "id": "wOvMZGQ5nmR4",
        "colab": {
          "base_uri": "https://localhost:8080/"
        },
        "outputId": "88b26040-5a9f-44ef-e06e-6f59eca022af"
      },
      "source": [
        "!ghc -e 'True && False'\n",
        "!ghc -e 'True && True'\n",
        "!ghc -e 'False || True'\n",
        "!ghc -e 'not False'\n",
        "!ghc -e 'not (True && True)'\n"
      ],
      "execution_count": null,
      "outputs": [
        {
          "output_type": "stream",
          "text": [
            "False\n",
            "True\n",
            "True\n",
            "True\n",
            "False\n"
          ],
          "name": "stdout"
        }
      ]
    },
    {
      "cell_type": "code",
      "metadata": {
        "id": "MDS-LdXBocT4",
        "colab": {
          "base_uri": "https://localhost:8080/"
        },
        "outputId": "39ea9612-51e1-4c48-a758-04d97b2ad9b1"
      },
      "source": [
        "!ghc -e 'succ 8'\n",
        "!ghc -e 'min 9 10'\n",
        "!ghc -e 'min 3.4 3.2'\n",
        "!ghc -e 'max 100 101'\n"
      ],
      "execution_count": null,
      "outputs": [
        {
          "output_type": "stream",
          "text": [
            "9\n",
            "9\n",
            "3.2\n",
            "101\n"
          ],
          "name": "stdout"
        }
      ]
    },
    {
      "cell_type": "markdown",
      "metadata": {
        "id": "tKwonjJ6ozn-"
      },
      "source": [
        "関数の優先順位が一番高い。\n",
        "\n",
        "次の2つの式は同じ意味になる。\n"
      ]
    },
    {
      "cell_type": "code",
      "metadata": {
        "id": "iBs4X0rco0E8",
        "colab": {
          "base_uri": "https://localhost:8080/"
        },
        "outputId": "780edcaa-d2fe-486f-9827-c7101b43d021"
      },
      "source": [
        "!ghc -e 'succ 9 + max 5 4 + 1'\n",
        "!ghc -e '(succ 9) + (max 5 4) + 1'"
      ],
      "execution_count": null,
      "outputs": [
        {
          "output_type": "stream",
          "text": [
            "16\n",
            "16\n"
          ],
          "name": "stdout"
        }
      ]
    },
    {
      "cell_type": "code",
      "metadata": {
        "id": "SIVVq2yRpOM_",
        "colab": {
          "base_uri": "https://localhost:8080/"
        },
        "outputId": "6ccbfe83-97dd-4dd6-b6c3-455c358088b1"
      },
      "source": [
        "!ghc -e 'succ 9 * 10'"
      ],
      "execution_count": null,
      "outputs": [
        {
          "output_type": "stream",
          "text": [
            "100\n"
          ],
          "name": "stdout"
        }
      ]
    },
    {
      "cell_type": "markdown",
      "metadata": {
        "id": "L5od-47zpe_l"
      },
      "source": [
        "### 整数除算"
      ]
    },
    {
      "cell_type": "code",
      "metadata": {
        "id": "Ap8spQwxpd0c",
        "colab": {
          "base_uri": "https://localhost:8080/"
        },
        "outputId": "96eaf6fa-8c37-46d6-dcd6-b47186fc32ad"
      },
      "source": [
        "!ghc -e '92 `div` 10'\n",
        "!ghc -e '92 / 10'\n",
        "!ghc -e '92 `mod` 10'"
      ],
      "execution_count": null,
      "outputs": [
        {
          "output_type": "stream",
          "text": [
            "9\n",
            "9.2\n",
            "2\n"
          ],
          "name": "stdout"
        }
      ]
    },
    {
      "cell_type": "code",
      "metadata": {
        "colab": {
          "base_uri": "https://localhost:8080/"
        },
        "id": "JPs9z0Agin6M",
        "outputId": "1e5767be-7811-4bfc-eaeb-7b8729a05755"
      },
      "source": [
        "!ghc -e 'floor (92 / 10)'\n",
        "!ghc -e 'floor (-92 / 10)'"
      ],
      "execution_count": null,
      "outputs": [
        {
          "output_type": "stream",
          "text": [
            "9\n",
            "-10\n"
          ],
          "name": "stdout"
        }
      ]
    },
    {
      "cell_type": "markdown",
      "metadata": {
        "id": "C9npJmIGjLnU"
      },
      "source": [
        "# 質問 ceiling や truncate はありますか。"
      ]
    },
    {
      "cell_type": "markdown",
      "metadata": {
        "id": "g2awhpFhVCQL"
      },
      "source": [
        "# 関数"
      ]
    },
    {
      "cell_type": "markdown",
      "metadata": {
        "id": "QBlbCX1pj79K"
      },
      "source": [
        "# 質問 関数の型を調べる方法はあるか。"
      ]
    },
    {
      "cell_type": "code",
      "metadata": {
        "id": "XkZ08fY0VEv6",
        "colab": {
          "base_uri": "https://localhost:8080/"
        },
        "outputId": "7d674c4b-85ec-48b9-a11a-6023b33b0020"
      },
      "source": [
        "%%writefile doubleme.hs\n",
        "doubleMe x = x + x\n",
        "\n",
        "main = do\n",
        "    print(doubleMe 9)\n",
        "    print(doubleMe 8.3)"
      ],
      "execution_count": null,
      "outputs": [
        {
          "output_type": "stream",
          "text": [
            "Overwriting doubleme.hs\n"
          ],
          "name": "stdout"
        }
      ]
    },
    {
      "cell_type": "code",
      "metadata": {
        "colab": {
          "base_uri": "https://localhost:8080/"
        },
        "id": "WICZfSInfhEF",
        "outputId": "662baaff-600c-496c-a468-ef735c79157d"
      },
      "source": [
        "!runghc doubleme.hs"
      ],
      "execution_count": null,
      "outputs": [
        {
          "output_type": "stream",
          "text": [
            "18\n",
            "16.6\n"
          ],
          "name": "stdout"
        }
      ]
    },
    {
      "cell_type": "markdown",
      "metadata": {
        "id": "DqV75lcfkhVB"
      },
      "source": [
        "次の例で doubleUs を 2回定義しようとすると redundant エラーになる。"
      ]
    },
    {
      "cell_type": "code",
      "metadata": {
        "id": "ZJDh4GipVhYq",
        "colab": {
          "base_uri": "https://localhost:8080/"
        },
        "outputId": "b8189d3b-09d9-4057-ade3-6dbc0741d3d6"
      },
      "source": [
        "%%writefile doubleus.hs\n",
        "doubleMe x = x + x\n",
        "doubleUs x y = x*2 + y*2   \n",
        "doubleUs x y = doubleMe x + doubleMe y\n",
        "\n",
        "main = do\n",
        "    print(doubleUs 4 9)\n",
        "    print(doubleUs 2.3 34.2)\n",
        "    print(doubleUs 28 88 + doubleMe 123)"
      ],
      "execution_count": null,
      "outputs": [
        {
          "output_type": "stream",
          "text": [
            "Overwriting doubleus.hs\n"
          ],
          "name": "stdout"
        }
      ]
    },
    {
      "cell_type": "code",
      "metadata": {
        "colab": {
          "base_uri": "https://localhost:8080/"
        },
        "id": "-LA5XHXngNtw",
        "outputId": "2765ee96-8924-4c0e-93bf-6fe9b0ab0aef"
      },
      "source": [
        "!runghc doubleus.hs"
      ],
      "execution_count": null,
      "outputs": [
        {
          "output_type": "stream",
          "text": [
            "\n",
            "doubleus.hs:3:1: warning: [-Woverlapping-patterns]\n",
            "    Pattern match is redundant\n",
            "    In an equation for ‘doubleUs’: doubleUs x y = ...\n",
            "26\n",
            "73.0\n",
            "478\n"
          ],
          "name": "stdout"
        }
      ]
    },
    {
      "cell_type": "markdown",
      "metadata": {
        "id": "PYRry4HUlQbB"
      },
      "source": [
        "# VSCode の拡張機能で次のように関数の型がわかる。"
      ]
    },
    {
      "cell_type": "code",
      "metadata": {
        "colab": {
          "base_uri": "https://localhost:8080/"
        },
        "id": "QlMG8DCdnHkk",
        "outputId": "2edfa4ec-dbbd-4212-d719-115c0be1b798"
      },
      "source": [
        "%%writefile ifthen.hs\n",
        "-- Haskell の if では else は必須。なぜなら if は式であり、返り値が必要だから。\n",
        "doubleSmallNumber :: (Ord a, Num a) => a -> a\n",
        "doubleSmallNumber x = if x > 100 then x else x * 2\n",
        "\n",
        "main :: IO ()\n",
        "main = do\n",
        "  x <- readLn\n",
        "  print (doubleSmallNumber x)"
      ],
      "execution_count": null,
      "outputs": [
        {
          "output_type": "stream",
          "text": [
            "Overwriting ifthen.hs\n"
          ],
          "name": "stdout"
        }
      ]
    },
    {
      "cell_type": "code",
      "metadata": {
        "colab": {
          "base_uri": "https://localhost:8080/"
        },
        "id": "_4cjdLG0nLHO",
        "outputId": "17fc95a9-eab6-4ea5-cecd-fb31450957b0"
      },
      "source": [
        "!echo 120 | runghc ifthen.hs\n",
        "!echo 12 | runghc ifthen.hs"
      ],
      "execution_count": null,
      "outputs": [
        {
          "output_type": "stream",
          "text": [
            "120\n",
            "24\n"
          ],
          "name": "stdout"
        }
      ]
    },
    {
      "cell_type": "code",
      "metadata": {
        "id": "qV8VRsIJbm3I",
        "colab": {
          "base_uri": "https://localhost:8080/"
        },
        "outputId": "1928546d-953e-4c12-fc58-521644322bb3"
      },
      "source": [
        "# python の if then は次のように書く\n",
        "\n",
        "def doubleSmallNumber (x) :\n",
        "    if x > 100 :\n",
        "        return x\n",
        "    else:\n",
        "        return x * 2\n",
        "\n",
        "print (doubleSmallNumber (120))\n",
        "print (doubleSmallNumber (12))"
      ],
      "execution_count": null,
      "outputs": [
        {
          "output_type": "stream",
          "text": [
            "120\n",
            "24\n"
          ],
          "name": "stdout"
        }
      ]
    },
    {
      "cell_type": "code",
      "metadata": {
        "id": "5mNdpWKTdsTr",
        "colab": {
          "base_uri": "https://localhost:8080/"
        },
        "outputId": "d45569c1-f1a1-4792-d12c-a184d011b45c"
      },
      "source": [
        "!ghc -e $'let conanO\\'Brien = \"It\\'s a-me, Conan O\\'Brien!\" in conanO\\'Brien'\n"
      ],
      "execution_count": null,
      "outputs": [
        {
          "output_type": "stream",
          "text": [
            "\"It's a-me, Conan O'Brien!\"\n"
          ],
          "name": "stdout"
        }
      ]
    },
    {
      "cell_type": "markdown",
      "metadata": {
        "id": "QPcmXomYd-sT"
      },
      "source": [
        "上の例で2つのことを指摘したい。\n",
        "\n",
        "1. 関数名は小文字で始まる。\n",
        "1. 関数は引数なしもあり得る。引数なしの場合、ただの定義になる。"
      ]
    },
    {
      "cell_type": "markdown",
      "metadata": {
        "id": "8jEh11mWxOeZ"
      },
      "source": [
        ""
      ]
    },
    {
      "cell_type": "code",
      "metadata": {
        "colab": {
          "base_uri": "https://localhost:8080/"
        },
        "id": "1sZcN_P-v_Yu",
        "outputId": "21654492-7281-45b2-9a49-604d432d99d7"
      },
      "source": [
        "# `let in` とワンライナー\n",
        "!ghc -e $'let doubleSmallNumber x = if x > 100 then x else x * 2 in doubleSmallNumber 18'"
      ],
      "execution_count": null,
      "outputs": [
        {
          "output_type": "stream",
          "text": [
            "36\n"
          ],
          "name": "stdout"
        }
      ]
    },
    {
      "cell_type": "markdown",
      "metadata": {
        "id": "y6H51hT-zQ3d"
      },
      "source": [
        "# リスト"
      ]
    },
    {
      "cell_type": "code",
      "metadata": {
        "id": "wnQmo8IGzSaV",
        "colab": {
          "base_uri": "https://localhost:8080/"
        },
        "outputId": "9e45cb8f-d701-4dda-dc6f-10d6fc62bc5a"
      },
      "source": [
        "!ghc -e $'let lostNumbers = [4,8,15,16,23,42] in lostNumbers'"
      ],
      "execution_count": null,
      "outputs": [
        {
          "output_type": "stream",
          "text": [
            "[4,8,15,16,23,42]\n"
          ],
          "name": "stdout"
        }
      ]
    },
    {
      "cell_type": "code",
      "metadata": {
        "id": "rvpkOXPo0aJu",
        "colab": {
          "base_uri": "https://localhost:8080/"
        },
        "outputId": "068ce4f4-63a4-42ca-89c5-e96ae100ef3a"
      },
      "source": [
        "!ghc -e $'[1,2,3,4] ++ [9,10,11,12]'\n",
        "!ghc -e $'\"hello\" ++ \" \" ++ \"world\"'\n",
        "!ghc -e $'[\\'w\\', \\'o\\'] ++ [\\'o\\',\\'t\\']'"
      ],
      "execution_count": null,
      "outputs": [
        {
          "output_type": "stream",
          "text": [
            "[1,2,3,4,9,10,11,12]\n",
            "\"hello world\"\n",
            "\"woot\"\n"
          ],
          "name": "stdout"
        }
      ]
    },
    {
      "cell_type": "code",
      "metadata": {
        "id": "U_9C6CqF0sRr",
        "colab": {
          "base_uri": "https://localhost:8080/"
        },
        "outputId": "84ec1a80-d804-4fd8-dcf5-d554ebef94b1"
      },
      "source": [
        "!ghc -e $'\\'A\\':\" SMALL CAT\"'\n",
        "!ghc -e $'5:[1,2,3,4,5]'"
      ],
      "execution_count": null,
      "outputs": [
        {
          "output_type": "stream",
          "text": [
            "\"A SMALL CAT\"\n",
            "[5,1,2,3,4,5]\n"
          ],
          "name": "stdout"
        }
      ]
    },
    {
      "cell_type": "markdown",
      "metadata": {
        "id": "o4UHyTtI07zX"
      },
      "source": [
        "`[1,2,3]` は内部的には `1:2:3:[]` で、`[]` は空リストである。空リストの冒頭に 3 を加えると `[3]` になる。できたリストの頭に 2 を加えると、`[2,3]` になる。"
      ]
    },
    {
      "cell_type": "code",
      "metadata": {
        "id": "Tn4oyGN-1yoR",
        "colab": {
          "base_uri": "https://localhost:8080/"
        },
        "outputId": "76dc8a10-34b8-4376-a93a-1679e563354d"
      },
      "source": [
        "!ghc -e '\"Steve Buscemi\" !! 6'\n",
        "!ghc -e '[9.4,33.2,96.2,11.2,23.25] !! 1'"
      ],
      "execution_count": null,
      "outputs": [
        {
          "output_type": "stream",
          "text": [
            "'B'\n",
            "33.2\n"
          ],
          "name": "stdout"
        }
      ]
    },
    {
      "cell_type": "code",
      "metadata": {
        "id": "09V_A7nx1ztd",
        "colab": {
          "base_uri": "https://localhost:8080/"
        },
        "outputId": "139c5e6b-02d5-4200-f94f-06ffaae6cdae"
      },
      "source": [
        "# python でｊは次のように書く\n",
        "\n",
        "print (\"Steve Buscemi\"[6])\n",
        "print ([9.4,33.2,96.2,11.2,23.25][1])\n"
      ],
      "execution_count": null,
      "outputs": [
        {
          "output_type": "stream",
          "text": [
            "B\n",
            "33.2\n"
          ],
          "name": "stdout"
        }
      ]
    },
    {
      "cell_type": "markdown",
      "metadata": {
        "id": "bFGr1ma4GG1k"
      },
      "source": [
        "# インデクスが大きすぎるとエラーになる。"
      ]
    },
    {
      "cell_type": "code",
      "metadata": {
        "id": "XtxFVZtxGFCh",
        "colab": {
          "base_uri": "https://localhost:8080/"
        },
        "outputId": "72c81506-38bc-4fcf-f7fa-c986019c48a3"
      },
      "source": [
        "!ghc -e '[9.4,33.2,96.2,11.2,23.25] !! 6'"
      ],
      "execution_count": null,
      "outputs": [
        {
          "output_type": "stream",
          "text": [
            "<interactive>: Prelude.!!: index too large\n"
          ],
          "name": "stdout"
        }
      ]
    },
    {
      "cell_type": "code",
      "metadata": {
        "colab": {
          "base_uri": "https://localhost:8080/"
        },
        "id": "LFMRXLVz0RMT",
        "outputId": "e5da0fb4-3e0c-4e70-f31f-88b2d226b23c"
      },
      "source": [
        "!ghc -e 'let b = [[1,2,3,4],[5,3,3,3],[1,2,2,3,4],[1,2,3]] in b ++ [[1,1,1,1]] '\n",
        "!ghc -e 'let b = [[1,2,3,4],[5,3,3,3],[1,2,2,3,4],[1,2,3]] in [6,6,6]:b'\n",
        "!ghc -e 'let b = [[1,2,3,4],[5,3,3,3],[1,2,2,3,4],[1,2,3]] in b !! 2'"
      ],
      "execution_count": null,
      "outputs": [
        {
          "output_type": "stream",
          "text": [
            "[[1,2,3,4],[5,3,3,3],[1,2,2,3,4],[1,2,3],[1,1,1,1]]\n",
            "[[6,6,6],[1,2,3,4],[5,3,3,3],[1,2,2,3,4],[1,2,3]]\n",
            "[1,2,2,3,4]\n"
          ],
          "name": "stdout"
        }
      ]
    },
    {
      "cell_type": "code",
      "metadata": {
        "colab": {
          "base_uri": "https://localhost:8080/"
        },
        "id": "qI-239Nk2PQh",
        "outputId": "c97158a2-8b29-41d1-a80f-b8c8864afd67"
      },
      "source": [
        "%%writefile list01.hs\n",
        "\n",
        "b :: [[Int]]\n",
        "b = [[1,2,3,4],[5,3,3,3],[1,2,2,3,4],[1,2,3]]\n",
        "\n",
        "main :: IO ()\n",
        "main = do \n",
        "  print (b ++ [[1,1,1,1]])\n",
        "  print ([6,6,6]:b)\n",
        "  print (b !! 2)"
      ],
      "execution_count": null,
      "outputs": [
        {
          "output_type": "stream",
          "text": [
            "Overwriting list01.hs\n"
          ],
          "name": "stdout"
        }
      ]
    },
    {
      "cell_type": "code",
      "metadata": {
        "colab": {
          "base_uri": "https://localhost:8080/"
        },
        "id": "majrty089BTP",
        "outputId": "1db36b60-3700-49c5-813e-c914eab6ab98"
      },
      "source": [
        "!runghc list01.hs"
      ],
      "execution_count": null,
      "outputs": [
        {
          "output_type": "stream",
          "text": [
            "[[1,2,3,4],[5,3,3,3],[1,2,2,3,4],[1,2,3],[1,1,1,1]]\n",
            "[[6,6,6],[1,2,3,4],[5,3,3,3],[1,2,2,3,4],[1,2,3]]\n",
            "[1,2,2,3,4]\n"
          ],
          "name": "stdout"
        }
      ]
    },
    {
      "cell_type": "code",
      "metadata": {
        "colab": {
          "base_uri": "https://localhost:8080/"
        },
        "id": "q-d8t2JO-f_s",
        "outputId": "852c3a54-16b9-4e36-bc09-17b18864aba0"
      },
      "source": [
        "# parse error on input ‘where’ というエラーが出る。 改行なしに where は使えないのか? かもね。\n",
        "%%writefile list02.hs\n",
        "main :: IO ()\n",
        "main = do \n",
        "  print (b ++ [[1,1,1,1]] where b::[[Int]] = [[1,2,3,4],[5,3,3,3],[1,2,2,3,4],[1,2,3]])"
      ],
      "execution_count": null,
      "outputs": [
        {
          "output_type": "stream",
          "text": [
            "Overwriting list02.hs\n"
          ],
          "name": "stdout"
        }
      ]
    },
    {
      "cell_type": "code",
      "metadata": {
        "colab": {
          "base_uri": "https://localhost:8080/"
        },
        "id": "dhc0eNHqBPuI",
        "outputId": "cfd63d59-4ee3-4e73-aaa9-55a8295a6091"
      },
      "source": [
        "!runghc list02.hs"
      ],
      "execution_count": null,
      "outputs": [
        {
          "output_type": "stream",
          "text": [
            "\n",
            "list02.hs:3:27: error: parse error on input ‘where’\n"
          ],
          "name": "stdout"
        }
      ]
    },
    {
      "cell_type": "code",
      "metadata": {
        "colab": {
          "base_uri": "https://localhost:8080/"
        },
        "id": "cE8zs8Of8mEO",
        "outputId": "d40aeb4c-2017-472f-f747-1a70859c2e8b"
      },
      "source": [
        "%%writefile where01.hs\n",
        "calcBmi cm kg\n",
        "  | bmi <= 18.5 = \"痩せてるね\"\n",
        "  | bmi <= 25.0 = \"普通だね\"\n",
        "  | bmi <= 30.0 = \"ぽっちゃりだね\"\n",
        "  | otherwise = \"太っているね\"\n",
        "  where\n",
        "    bmi = kg / (m ^ 2)\n",
        "    m = cm / 100\n",
        "\n",
        "main = do\n",
        "  putStrLn $ calcBmi 170 60"
      ],
      "execution_count": null,
      "outputs": [
        {
          "output_type": "stream",
          "text": [
            "Writing where01.hs\n"
          ],
          "name": "stdout"
        }
      ]
    },
    {
      "cell_type": "code",
      "metadata": {
        "colab": {
          "base_uri": "https://localhost:8080/"
        },
        "id": "Kd8vqiyG8w9P",
        "outputId": "509e77de-994a-4ba3-e028-c018647f735c"
      },
      "source": [
        "!runghc where01.hs"
      ],
      "execution_count": null,
      "outputs": [
        {
          "output_type": "stream",
          "text": [
            "普通だね\n"
          ],
          "name": "stdout"
        }
      ]
    },
    {
      "cell_type": "code",
      "metadata": {
        "id": "m3hlaMnMGgIq",
        "colab": {
          "base_uri": "https://localhost:8080/"
        },
        "outputId": "83078c8e-395b-4eb9-f946-9ea7f7d2f72c"
      },
      "source": [
        "!ghc -e '[3,2,1] > [2,1,0]'\n",
        "!ghc -e '[3,2,1] > [2,10,100] '\n",
        "!ghc -e '[3,4,2] > [3,4]'\n",
        "!ghc -e '[3,4,2] > [2,4] '\n",
        "!ghc -e '[3,4,2] == [3,4,2]'"
      ],
      "execution_count": null,
      "outputs": [
        {
          "output_type": "stream",
          "text": [
            "True\n",
            "True\n",
            "True\n",
            "True\n",
            "True\n"
          ],
          "name": "stdout"
        }
      ]
    },
    {
      "cell_type": "code",
      "metadata": {
        "id": "F4wLT3baGqIy",
        "colab": {
          "base_uri": "https://localhost:8080/"
        },
        "outputId": "3058469a-07c3-400f-9f5b-9e2c7c1a3393"
      },
      "source": [
        "!ghc -e 'head [5,4,3,2,1] '\n",
        "!ghc -e 'tail [5,4,3,2,1] '\n"
      ],
      "execution_count": null,
      "outputs": [
        {
          "output_type": "stream",
          "text": [
            "5\n",
            "[4,3,2,1]\n"
          ],
          "name": "stdout"
        }
      ]
    },
    {
      "cell_type": "code",
      "metadata": {
        "id": "GFNfbwqRG0Ec",
        "colab": {
          "base_uri": "https://localhost:8080/"
        },
        "outputId": "c744135e-72c7-4807-ab61-ce692081c6e5"
      },
      "source": [
        "!ghc -e 'last [5,4,3,2,1]  '\n",
        "!ghc -e 'init [5,4,3,2,1] '"
      ],
      "execution_count": null,
      "outputs": [
        {
          "output_type": "stream",
          "text": [
            "1\n",
            "[5,4,3,2]\n"
          ],
          "name": "stdout"
        }
      ]
    },
    {
      "cell_type": "markdown",
      "metadata": {
        "id": "lUNKb5yuG7lC"
      },
      "source": [
        "空リストの head を取ろうとするとエラーになる。"
      ]
    },
    {
      "cell_type": "code",
      "metadata": {
        "id": "nW8V3FxzG8Fp",
        "colab": {
          "base_uri": "https://localhost:8080/"
        },
        "outputId": "4f401b71-e37b-4ad3-8b36-5877f6f95b80"
      },
      "source": [
        "!ghc -e 'head []'"
      ],
      "execution_count": null,
      "outputs": [
        {
          "output_type": "stream",
          "text": [
            "<interactive>: Prelude.head: empty list\n"
          ],
          "name": "stdout"
        }
      ]
    },
    {
      "cell_type": "code",
      "metadata": {
        "id": "3zr0TMJkHVd-",
        "colab": {
          "base_uri": "https://localhost:8080/"
        },
        "outputId": "d9d79982-67c9-44f8-e346-1c92632a5ed1"
      },
      "source": [
        "!ghc -e 'length [5,4,3,2,1]'\n",
        "!ghc -e 'null [1,2,3]  '\n",
        "!ghc -e 'null [] '\n",
        "!ghc -e 'reverse [5,4,3,2,1] '"
      ],
      "execution_count": null,
      "outputs": [
        {
          "output_type": "stream",
          "text": [
            "5\n",
            "False\n",
            "True\n",
            "[1,2,3,4,5]\n"
          ],
          "name": "stdout"
        }
      ]
    },
    {
      "cell_type": "code",
      "metadata": {
        "id": "x17NceVRHlSz",
        "colab": {
          "base_uri": "https://localhost:8080/"
        },
        "outputId": "73091959-fc4f-4ab4-b996-56604fcec288"
      },
      "source": [
        "!ghc -e 'take 3 [5,4,3,2,1]'\n",
        "!ghc -e 'take 1 [3,9,3]'\n",
        "!ghc -e 'take 5 [1,2]'\n",
        "!ghc -e 'take 0 [6,6,6]'\n",
        "!ghc -e 'take 1 []'\n",
        "!ghc -e 'take -1 [6,6,6]' # エラー"
      ],
      "execution_count": null,
      "outputs": [
        {
          "output_type": "stream",
          "text": [
            "[5,4,3]\n",
            "[3]\n",
            "[1,2]\n",
            "[]\n",
            "[]\n",
            "\n",
            "<interactive>:0:1: error:\n",
            "    • Non type-variable argument\n",
            "        in the constraint: Num (Int -> [a] -> [a])\n",
            "      (Use FlexibleContexts to permit this)\n",
            "    • When checking the inferred type\n",
            "        it :: forall t a.\n",
            "              (Num (Int -> [a] -> [a]), Num ([t] -> Int -> [a] -> [a]), Num t) =>\n",
            "              Int -> [a] -> [a]\n"
          ],
          "name": "stdout"
        }
      ]
    },
    {
      "cell_type": "code",
      "metadata": {
        "id": "IItgPWw8Hylk",
        "colab": {
          "base_uri": "https://localhost:8080/"
        },
        "outputId": "278c804d-0345-45cc-a036-8389ea3acc2d"
      },
      "source": [
        "!ghc -e 'drop 3 [8,4,2,1,5,6]  '\n",
        "!ghc -e 'drop 0 [1,2,3,4] '\n",
        "!ghc -e 'drop 100 [1,2,3,4] '"
      ],
      "execution_count": null,
      "outputs": [
        {
          "output_type": "stream",
          "text": [
            "[1,5,6]\n",
            "[1,2,3,4]\n",
            "[]\n"
          ],
          "name": "stdout"
        }
      ]
    },
    {
      "cell_type": "code",
      "metadata": {
        "id": "hHOHtCnlH690",
        "colab": {
          "base_uri": "https://localhost:8080/"
        },
        "outputId": "2b941452-107e-4601-a131-f3ca1f94a20a"
      },
      "source": [
        "!ghc -e 'minimum [8,4,2,1,5,6]'\n",
        "!ghc -e 'maximum [1,9,2,3,4] '"
      ],
      "execution_count": null,
      "outputs": [
        {
          "output_type": "stream",
          "text": [
            "1\n",
            "9\n"
          ],
          "name": "stdout"
        }
      ]
    },
    {
      "cell_type": "code",
      "metadata": {
        "colab": {
          "base_uri": "https://localhost:8080/"
        },
        "id": "hEIy4RgTGV4D",
        "outputId": "5c672f44-3c42-49d7-9890-116b2c8349cd"
      },
      "source": [
        "!ghc -e 'sum [5,2,1,6,3,2,5,7]'\n",
        "!ghc -e 'product [6,2,1,2]  '\n",
        "!ghc -e 'product [1,2,5,6,7,9,2,0]  '"
      ],
      "execution_count": null,
      "outputs": [
        {
          "output_type": "stream",
          "text": [
            "31\n",
            "24\n",
            "0\n"
          ],
          "name": "stdout"
        }
      ]
    },
    {
      "cell_type": "code",
      "metadata": {
        "colab": {
          "base_uri": "https://localhost:8080/"
        },
        "id": "6wDxixWAGtXO",
        "outputId": "262bdad1-e197-45d0-eb5c-ac13338bd1d4"
      },
      "source": [
        "!ghc -e 'elem 4 [3,4,5,6]  '\n",
        "!ghc -e 'elem 10 [3,4,5,6] '"
      ],
      "execution_count": null,
      "outputs": [
        {
          "output_type": "stream",
          "text": [
            "True\n",
            "False\n"
          ],
          "name": "stdout"
        }
      ]
    },
    {
      "cell_type": "markdown",
      "metadata": {
        "id": "sYQTtxMuHGDf"
      },
      "source": [
        "# range"
      ]
    },
    {
      "cell_type": "code",
      "metadata": {
        "colab": {
          "base_uri": "https://localhost:8080/"
        },
        "id": "g2AGs_jNHip6",
        "outputId": "21071462-2ca9-482a-d6e4-277df8bf7277"
      },
      "source": [
        "!ghc -e $'[1..20]  '\n",
        "!ghc -e $'[\\'a\\'..\\'z\\']  '\n",
        "!ghc -e $'[\\'K\\'..\\'Z\\']  '\n",
        "!ghc -e $'[2,4..20]  '\n",
        "!ghc -e $'[3,6..20]  '\n",
        "!ghc -e $'[20,19..1]'"
      ],
      "execution_count": null,
      "outputs": [
        {
          "output_type": "stream",
          "text": [
            "[1,2,3,4,5,6,7,8,9,10,11,12,13,14,15,16,17,18,19,20]\n",
            "\"abcdefghijklmnopqrstuvwxyz\"\n",
            "\"KLMNOPQRSTUVWXYZ\"\n",
            "[2,4,6,8,10,12,14,16,18,20]\n",
            "[3,6,9,12,15,18]\n",
            "[20,19,18,17,16,15,14,13,12,11,10,9,8,7,6,5,4,3,2,1]\n"
          ],
          "name": "stdout"
        }
      ]
    },
    {
      "cell_type": "code",
      "metadata": {
        "colab": {
          "base_uri": "https://localhost:8080/"
        },
        "id": "Kb0ZV1uRfVgq",
        "outputId": "a4fdf6e3-de9c-4ce5-9d27-a6af937a86b1"
      },
      "source": [
        "# do not use floating point numbers in ranges\n",
        "!ghc -e '[0.1, 0.3 .. 1] '"
      ],
      "execution_count": null,
      "outputs": [
        {
          "output_type": "stream",
          "text": [
            "[0.1,0.3,0.5,0.7,0.8999999999999999,1.0999999999999999]\n"
          ],
          "name": "stdout"
        }
      ]
    },
    {
      "cell_type": "code",
      "metadata": {
        "colab": {
          "base_uri": "https://localhost:8080/"
        },
        "id": "faDphCBjfrOA",
        "outputId": "3f3ac762-b56a-40a4-da25-267897a79389"
      },
      "source": [
        "# infinite list\n",
        "!ghc -e 'take 10 [1..]'\n",
        "!ghc -e 'take 10 $ cycle [1,2,3]'\n",
        "!ghc -e 'take 10 (cycle [1,2,3])'\n",
        "!ghc -e 'take 12 (cycle \"LOL \")  '\n",
        "!ghc -e 'take 10 (repeat 5) '\n",
        "\n",
        "!ghc -e 'replicate 3 10'"
      ],
      "execution_count": null,
      "outputs": [
        {
          "output_type": "stream",
          "text": [
            "[1,2,3,4,5,6,7,8,9,10]\n",
            "[1,2,3,1,2,3,1,2,3,1]\n",
            "[1,2,3,1,2,3,1,2,3,1]\n",
            "\"LOL LOL LOL \"\n",
            "[5,5,5,5,5,5,5,5,5,5]\n",
            "[10,10,10]\n"
          ],
          "name": "stdout"
        }
      ]
    },
    {
      "cell_type": "markdown",
      "metadata": {
        "id": "4YgqZnJMgnui"
      },
      "source": [
        "# 内包表記 list comprehension"
      ]
    },
    {
      "cell_type": "markdown",
      "metadata": {
        "id": "YDHFsquwkhFv"
      },
      "source": [
        "集合で習う集合の内包表記は数式で次の様に書く。\n",
        "\n",
        "$$\n",
        "S= \\{2 \\cdot x \\mid x \\in  \\mathbb{N}, \\ x \\leq 10 \\}\n",
        "$$"
      ]
    },
    {
      "cell_type": "code",
      "metadata": {
        "colab": {
          "base_uri": "https://localhost:8080/",
          "height": 38
        },
        "id": "FPRji7FKkpWg",
        "outputId": "08ba266e-e30e-4696-d47b-1d2fbfbef25d"
      },
      "source": [
        "# 参考 集合で習う集合の内包表記は数式で次の様に書く。\n",
        "%%latex\n",
        "\n",
        "S= \\{2 \\cdot x \\mid x \\in  \\mathbb{N}, \\ x \\leq 10 \\}\n"
      ],
      "execution_count": null,
      "outputs": [
        {
          "output_type": "display_data",
          "data": {
            "text/latex": "\nS= \\{2 \\cdot x \\mid x \\in  \\mathbb{N}, \\ x \\leq 10 \\}",
            "text/plain": [
              "<IPython.core.display.Latex object>"
            ]
          },
          "metadata": {
            "tags": []
          }
        }
      ]
    },
    {
      "cell_type": "code",
      "metadata": {
        "colab": {
          "base_uri": "https://localhost:8080/"
        },
        "id": "u1EYZe1Ognc-",
        "outputId": "7d6e9d06-6022-4e8f-b2bb-1d0af0512e36"
      },
      "source": [
        "!ghc -e '[x*2 | x <- [1..10]]'\n",
        "!ghc -e '[x*2 | x <- [1..10], x*2 >= 12]'\n",
        "!ghc -e '[ x | x <- [50..100], x `mod` 7 == 3]'"
      ],
      "execution_count": null,
      "outputs": [
        {
          "output_type": "stream",
          "text": [
            "[2,4,6,8,10,12,14,16,18,20]\n",
            "[12,14,16,18,20]\n",
            "[52,59,66,73,80,87,94]\n"
          ],
          "name": "stdout"
        }
      ]
    },
    {
      "cell_type": "code",
      "metadata": {
        "colab": {
          "base_uri": "https://localhost:8080/"
        },
        "id": "pb5JIQUIimEX",
        "outputId": "0276296d-37d4-43a9-f219-11fa94b7f9df"
      },
      "source": [
        "!ghc -e 'let boomBangs xs = [ if x < 10 then \"BOOM!\" else \"BANG!\" | x <- xs, odd x] in boomBangs [7..13]'"
      ],
      "execution_count": null,
      "outputs": [
        {
          "output_type": "stream",
          "text": [
            "[\"BOOM!\",\"BOOM!\",\"BANG!\",\"BANG!\"]\n"
          ],
          "name": "stdout"
        }
      ]
    },
    {
      "cell_type": "code",
      "metadata": {
        "colab": {
          "base_uri": "https://localhost:8080/"
        },
        "id": "gCxWBDBBizHr",
        "outputId": "64da1081-c234-401e-e4c2-fd350f693cbc"
      },
      "source": [
        "!ghc -e '[ x | x <- [10..20], x /= 13, x /= 15, x /= 19]'"
      ],
      "execution_count": null,
      "outputs": [
        {
          "output_type": "stream",
          "text": [
            "[10,11,12,14,16,17,18,20]\n"
          ],
          "name": "stdout"
        }
      ]
    },
    {
      "cell_type": "code",
      "metadata": {
        "id": "_b5ceC4-F4a8",
        "colab": {
          "base_uri": "https://localhost:8080/"
        },
        "outputId": "05a824c9-9713-4610-814c-c39cdb0e9941"
      },
      "source": [
        "!ghc -e '[ x*y | x <- [2,5,10], y <- [8,10,11]] '\n",
        "!ghc -e '[ x*y | x <- [2,5,10], y <- [8,10,11], x*y > 50]'"
      ],
      "execution_count": null,
      "outputs": [
        {
          "output_type": "stream",
          "text": [
            "[16,20,22,40,50,55,80,100,110]\n",
            "[55,80,100,110]\n"
          ],
          "name": "stdout"
        }
      ]
    },
    {
      "cell_type": "code",
      "metadata": {
        "id": "ZX2I0PzcGedi",
        "colab": {
          "base_uri": "https://localhost:8080/"
        },
        "outputId": "3497e7a3-797a-4145-b10c-2eb776efc636"
      },
      "source": [
        "!ghc -e 'let {nouns = [\"hobo\",\"frog\",\"pope\"]; adjectives = [\"lazy\",\"grouchy\",\"scheming\"]} in [adjective ++ \" \" ++ noun | adjective <- adjectives, noun <- nouns]'"
      ],
      "execution_count": null,
      "outputs": [
        {
          "output_type": "stream",
          "text": [
            "[\"lazy hobo\",\"lazy frog\",\"lazy pope\",\"grouchy hobo\",\"grouchy frog\",\"grouchy pope\",\"scheming hobo\",\"scheming frog\",\"scheming pope\"]\n"
          ],
          "name": "stdout"
        }
      ]
    },
    {
      "cell_type": "code",
      "metadata": {
        "id": "1NbystuVIPtl"
      },
      "source": [
        "# 上記の例は改行を入れると次のようになる\n",
        "%%script false\n",
        "!ghc -e 'let {nouns = [\"hobo\",\"frog\",\"pope\"]; \n",
        "              adjectives = [\"lazy\",\"grouchy\",\"scheming\"]} \n",
        "         in [adjective ++ \" \" ++ noun | adjective <- adjectives, noun <- nouns]'\n",
        "\n",
        "output:\n",
        "[\"lazy hobo\",\"lazy frog\",\"lazy pope\",\"grouchy hobo\",\"grouchy frog\",\n",
        "\"grouchy pope\",\"scheming hobo\",\"scheming frog\",\"scheming pope\"]"
      ],
      "execution_count": null,
      "outputs": []
    },
    {
      "cell_type": "code",
      "metadata": {
        "id": "GOyKIOqVIuIL"
      },
      "source": [
        "# 日本語でやってみたら、文字化けしてしまった\n",
        "%%script false\n",
        "!ghc -e 'let {nouns = [\"流れもの\",\"カエル\",\"坊主\"]; adjectives = [\"なまけものの\",\"文句たれの\",\"ずるい\"]} in [adjective ++ noun | adjective <- adjectives, noun <- nouns]'"
      ],
      "execution_count": null,
      "outputs": []
    },
    {
      "cell_type": "code",
      "metadata": {
        "id": "3kyz1NYvJujX",
        "colab": {
          "base_uri": "https://localhost:8080/"
        },
        "outputId": "928becaf-dc44-4cb2-9b43-3707d3860819"
      },
      "source": [
        "# 実験\n",
        "%%writefile adjective_noun.hs\n",
        "nouns = [\"流れもの\",\"カエル\",\"坊主\"]; \n",
        "adjectives = [\"なまけものの\",\"文句たれの\",\"ずるい\"]\n",
        "adjectiveplusnouns = [adjective ++ noun | adjective <- adjectives, noun <- nouns]\n",
        "\n",
        "main = do\n",
        "    putStrLn (adjectiveplusnouns!!0)\n",
        "    putStrLn (adjectiveplusnouns!!1)\n",
        "    putStrLn (adjectiveplusnouns!!2)\n",
        "    putStrLn (adjectiveplusnouns!!3)\n",
        "    putStrLn (adjectiveplusnouns!!4)\n",
        "    putStrLn (adjectiveplusnouns!!5)\n",
        "    putStrLn (adjectiveplusnouns!!6)\n",
        "    putStrLn (adjectiveplusnouns!!7)\n",
        "    putStrLn (adjectiveplusnouns!!8)"
      ],
      "execution_count": null,
      "outputs": [
        {
          "output_type": "stream",
          "text": [
            "Overwriting adjective_noun.hs\n"
          ],
          "name": "stdout"
        }
      ]
    },
    {
      "cell_type": "code",
      "metadata": {
        "id": "_j60kkBeMVtf",
        "colab": {
          "base_uri": "https://localhost:8080/"
        },
        "outputId": "84b8e4f2-733d-4b4b-97d8-df4cbc08e61e"
      },
      "source": [
        "!runghc adjective_noun.hs"
      ],
      "execution_count": null,
      "outputs": [
        {
          "output_type": "stream",
          "text": [
            "なまけものの流れもの\n",
            "なまけもののカエル\n",
            "なまけものの坊主\n",
            "文句たれの流れもの\n",
            "文句たれのカエル\n",
            "文句たれの坊主\n",
            "ずるい流れもの\n",
            "ずるいカエル\n",
            "ずるい坊主\n"
          ],
          "name": "stdout"
        }
      ]
    },
    {
      "cell_type": "code",
      "metadata": {
        "id": "MqYeoGw5RLYs",
        "colab": {
          "base_uri": "https://localhost:8080/"
        },
        "outputId": "d0cea563-e7c1-4f3e-ae1d-089aaff904f5"
      },
      "source": [
        "# length を実装する\n",
        "!ghc -e 'let length01 xs = sum [1 | _ <- xs] in print (length01 [1,2,3])'"
      ],
      "execution_count": null,
      "outputs": [
        {
          "output_type": "stream",
          "text": [
            "3\n"
          ],
          "name": "stdout"
        }
      ]
    },
    {
      "cell_type": "code",
      "metadata": {
        "id": "dL2-xvNOR8VD",
        "colab": {
          "base_uri": "https://localhost:8080/"
        },
        "outputId": "dde0054a-79ca-4c80-ed49-22ca9c82de1f"
      },
      "source": [
        "!ghc -e $'let removeNonUppercase st = [ c | c <- st, elem c [\\'A\\'..\\'Z\\']] in putStrLn(\"IdontLIKEFROGS\")'"
      ],
      "execution_count": null,
      "outputs": [
        {
          "output_type": "stream",
          "text": [
            "IdontLIKEFROGS\n"
          ],
          "name": "stdout"
        }
      ]
    },
    {
      "cell_type": "code",
      "metadata": {
        "id": "AExiKVBmTmXz",
        "colab": {
          "base_uri": "https://localhost:8080/"
        },
        "outputId": "8c462f9a-0e1e-4274-d636-83b040136c74"
      },
      "source": [
        "%%writefile withoutflatten.hs\n",
        "main = do\n",
        "  let xxs = [[1,3,5,2,3,1,2,4,5],[1,2,3,4,5,6,7,8,9],[1,2,4,2,1,6,3,1,3,2,3,6]] \n",
        "      newlist =  [ [ x | x <- xs, even x ] | xs <- xxs] \n",
        "    in print newlist"
      ],
      "execution_count": null,
      "outputs": [
        {
          "output_type": "stream",
          "text": [
            "Writing withoutflatten.hs\n"
          ],
          "name": "stdout"
        }
      ]
    },
    {
      "cell_type": "code",
      "metadata": {
        "id": "RrP9uTJNTqaa",
        "colab": {
          "base_uri": "https://localhost:8080/"
        },
        "outputId": "063dde6a-18af-4584-81ab-5014f8dc13b0"
      },
      "source": [
        "!runghc withoutflatten.hs"
      ],
      "execution_count": null,
      "outputs": [
        {
          "output_type": "stream",
          "text": [
            "[[2,2,4],[2,4,6,8],[2,4,2,6,2,6]]\n"
          ],
          "name": "stdout"
        }
      ]
    },
    {
      "cell_type": "code",
      "metadata": {
        "id": "qT0BZBxyqFaN",
        "colab": {
          "base_uri": "https://localhost:8080/"
        },
        "outputId": "75022cd0-2840-47bb-ba3b-586b61d6545d"
      },
      "source": [
        "!ghc -e 'let xxs = [[1,3,5,2,3,1,2,4,5],[1,2,3,4,5,6,7,8,9],[1,2,4,2,1,6,3,1,3,2,3,6]] in  [ [ x | x <- xs, even x ] | xs <- xxs]'\n"
      ],
      "execution_count": null,
      "outputs": [
        {
          "output_type": "stream",
          "text": [
            "[[2,2,4],[2,4,6,8],[2,4,2,6,2,6]]\n"
          ],
          "name": "stdout"
        }
      ]
    },
    {
      "cell_type": "markdown",
      "metadata": {
        "id": "zNCsRM7sqTPS"
      },
      "source": [
        "# タプル tuple"
      ]
    },
    {
      "cell_type": "code",
      "metadata": {
        "id": "YmtFps_Gp2ED",
        "colab": {
          "base_uri": "https://localhost:8080/"
        },
        "outputId": "8d10b870-ac83-4f80-a8a8-15f58efe5dde"
      },
      "source": [
        "# 長さが合わない時 => 残りは捨てられる\n",
        "!ghc -e 'zip [5,3,2,6,2,7,2,5,4,6,6] [\"im\",\"a\",\"turtle\"]'"
      ],
      "execution_count": null,
      "outputs": [
        {
          "output_type": "stream",
          "text": [
            "[(5,\"im\"),(3,\"a\"),(2,\"turtle\")]\n"
          ],
          "name": "stdout"
        }
      ]
    },
    {
      "cell_type": "code",
      "metadata": {
        "id": "oZibfkpLqvnI",
        "colab": {
          "base_uri": "https://localhost:8080/"
        },
        "outputId": "28e75dfc-5569-495e-d392-e50b2dbe5778"
      },
      "source": [
        "# これと遅延評価を利用すると、長いリストを扱える\n",
        "!ghc -e '[ (a,b,c) | c <- [1..10], b <- [1..c], a <- [1..b], a^2 + b^2 == c^2, a+b+c == 24]'\n"
      ],
      "execution_count": null,
      "outputs": [
        {
          "output_type": "stream",
          "text": [
            "[(6,8,10)]\n"
          ],
          "name": "stdout"
        }
      ]
    },
    {
      "cell_type": "markdown",
      "metadata": {
        "id": "MykKGye5w1HI"
      },
      "source": [
        "# 型 type と 型クラス type class"
      ]
    },
    {
      "cell_type": "code",
      "metadata": {
        "id": "MAE7s1W9wn2b",
        "colab": {
          "base_uri": "https://localhost:8080/"
        },
        "outputId": "d4df2bd1-fd03-445d-bfb4-362be41325fe"
      },
      "source": [
        "!ghc -e $':t \\'a\\''\n",
        "!ghc -e $':t True'\n",
        "!ghc -e $':t \"HELLO!\"'\n",
        "!ghc -e $':t (True, \\'a\\')'\n",
        "!ghc -e $':t 4 == 5'"
      ],
      "execution_count": null,
      "outputs": [
        {
          "output_type": "stream",
          "text": [
            "'a' :: Char\n",
            "True :: Bool\n",
            "\"HELLO!\" :: [Char]\n",
            "(True, 'a') :: (Bool, Char)\n",
            "4 == 5 :: Bool\n"
          ],
          "name": "stdout"
        }
      ]
    },
    {
      "cell_type": "markdown",
      "metadata": {
        "id": "QNN-nWJBW7Gp"
      },
      "source": [
        ":: は (の)型(は) (has type of) と読む。\n"
      ]
    },
    {
      "cell_type": "code",
      "metadata": {
        "id": "-MlynYqMYOJk",
        "colab": {
          "base_uri": "https://localhost:8080/"
        },
        "outputId": "6c0c8b66-a856-4520-f4f3-bbe0e3ec5477"
      },
      "source": [
        "!ghc -e $':t (\\'a\\',\\'b\\',\\'c\\')'\n",
        "!ghc -e $':t [\\'a\\',\\'b\\',\\'c\\']'"
      ],
      "execution_count": null,
      "outputs": [
        {
          "output_type": "stream",
          "text": [
            "('a','b','c') :: (Char, Char, Char)\n",
            "['a','b','c'] :: [Char]\n"
          ],
          "name": "stdout"
        }
      ]
    },
    {
      "cell_type": "markdown",
      "metadata": {
        "id": "aynmNzHYYjfR"
      },
      "source": [
        "上のセルの一行目はタプルで、二行目がリスト。"
      ]
    },
    {
      "cell_type": "markdown",
      "metadata": {
        "id": "4ukpwwdpRz4P"
      },
      "source": [
        "# 関数の型について"
      ]
    },
    {
      "cell_type": "markdown",
      "metadata": {
        "id": "hBioXNVtLz_Z"
      },
      "source": [
        "関数の型は次のように書く。\r\n",
        "\r\n",
        "removeNonUppercase :: [Char] -> [Char]\r\n",
        "\r\n",
        "removeNonUppercase st = [ c | c <- st, c `elem` ['A'..'Z']]\r\n",
        "\r\n",
        "ここで、[Char] -> [Char] というのは string を受けて、 string を返す、という意味。\r\n",
        "\r\n",
        "引数が 3個とかだと次のようになる。\r\n",
        "\r\n",
        "addThree :: Int -> Int -> Int -> Int\r\n",
        "\r\n",
        "addThree x y z = x + y + z\r\n",
        "\r\n",
        "最後の  -> Int が返り値で、その前の 3個が引数。\r\n",
        "\r\n",
        "\r\n",
        "\r\n",
        "\r\n"
      ]
    },
    {
      "cell_type": "code",
      "metadata": {
        "id": "H6EC7u_3T5SF",
        "colab": {
          "base_uri": "https://localhost:8080/"
        },
        "outputId": "b4d9cf5f-b14a-43c4-ea2b-093139fbc29d"
      },
      "source": [
        "!ghc -e 'let factorial n = product [1..n] in factorial 50'"
      ],
      "execution_count": null,
      "outputs": [
        {
          "output_type": "stream",
          "text": [
            "30414093201713378043612608166064768844377641568960512000000000000\n"
          ],
          "name": "stdout"
        }
      ]
    },
    {
      "cell_type": "markdown",
      "metadata": {
        "id": "p6UOG8fJZu20"
      },
      "source": [
        "上記の factorial のタイプは\r\n",
        "\r\n",
        "Integer -> Integer\r\n",
        "\r\n",
        "で Int でないのは、Integerの方が大きな数を扱えるから。\r\n",
        "\r\n",
        "効率は Int の方がよい。\r\n",
        "\r\n"
      ]
    },
    {
      "cell_type": "code",
      "metadata": {
        "id": "fkaU3elEAG9U"
      },
      "source": [
        "# 実験\n",
        "!ghc -e 'let {circumference :: Float -> Float;circumference r = 2 * pi * r} in circumference 4.0'\n",
        "!ghc -e 'let { circumference :: Double -> Double; circumference r = 2 * pi * r} in circumference 4.0'\n",
        "!ghc -e 'let { circumference :: Int -> Int; circumference r = 2 * pi * r} in circumference 4.0'"
      ],
      "execution_count": null,
      "outputs": []
    },
    {
      "cell_type": "code",
      "metadata": {
        "colab": {
          "base_uri": "https://localhost:8080/"
        },
        "id": "Ts4sqEknaQK9",
        "outputId": "19980816-7023-4cd3-e7d0-d9e2ac5281f1"
      },
      "source": [
        "# 実験 \n",
        "!ghc -e 'pi'\n",
        "!ghc -e 'exp 1'\n",
        "!ghc -e ':t pi'\n",
        "!ghc -e ':t exp'\n",
        "!ghc -e ':t exp 1'"
      ],
      "execution_count": null,
      "outputs": [
        {
          "output_type": "stream",
          "text": [
            "3.141592653589793\n",
            "2.718281828459045\n",
            "pi :: Floating a => a\n",
            "exp :: Floating a => a -> a\n",
            "exp 1 :: Floating a => a\n"
          ],
          "name": "stdout"
        }
      ]
    },
    {
      "cell_type": "code",
      "metadata": {
        "colab": {
          "base_uri": "https://localhost:8080/"
        },
        "id": "ZeyNRMCfjPe6",
        "outputId": "01cfb8b2-d2cb-462c-ce0b-91179d5c2891"
      },
      "source": [
        "!ghc -e ':t exp'"
      ],
      "execution_count": null,
      "outputs": [
        {
          "output_type": "stream",
          "text": [
            "exp :: Floating a => a -> a\n"
          ],
          "name": "stdout"
        }
      ]
    },
    {
      "cell_type": "code",
      "metadata": {
        "colab": {
          "base_uri": "https://localhost:8080/"
        },
        "id": "YaepHxwnjoH7",
        "outputId": "dace070e-bc47-4e41-b9cf-71f78793e6ae"
      },
      "source": [
        "!ghc -e ':t (==)'"
      ],
      "execution_count": null,
      "outputs": [
        {
          "output_type": "stream",
          "text": [
            "(==) :: Eq a => a -> a -> Bool\n"
          ],
          "name": "stdout"
        }
      ]
    },
    {
      "cell_type": "markdown",
      "metadata": {
        "id": "5LiFuyVIgD9T"
      },
      "source": [
        "# `=>` 記号\n",
        "型制約、型クラス制約 class constraint\n",
        "\n",
        "例えば、(==) について言えば\n",
        "\n",
        "(==) :: Eq a => a -> a -> Bool\n",
        "\n",
        "(==) 関数は、2つの値 (a -> a) を引数としてとり、真偽値 Bool を返り値として返すが、この 2つの値は、Eq 型クラスに属していなければならない。\n",
        "\n",
        "というように読む。\n",
        "\n"
      ]
    },
    {
      "cell_type": "code",
      "metadata": {
        "id": "T1QRimtx6vO9",
        "colab": {
          "base_uri": "https://localhost:8080/"
        },
        "outputId": "f9da4031-c99f-48f5-8a58-2855e753ab86"
      },
      "source": [
        "!ghc -e ':t head'"
      ],
      "execution_count": null,
      "outputs": [
        {
          "output_type": "stream",
          "text": [
            "head :: [a] -> a\n"
          ],
          "name": "stdout"
        }
      ]
    },
    {
      "cell_type": "markdown",
      "metadata": {
        "id": "be8RDfXX7kiU"
      },
      "source": [
        "上記の結果\n",
        "\n",
        "head :: [a] -> a\n",
        "\n",
        "の a は、型変数と呼ばれ、これの場合は、型クラス制約がなければなんでもいい、という意味。\n",
        "\n",
        "型変数がある関数は 多形性 polymorphic 関数を呼ばれる。\n",
        "\n"
      ]
    },
    {
      "cell_type": "code",
      "metadata": {
        "id": "h2ZekLvB8e52",
        "colab": {
          "base_uri": "https://localhost:8080/"
        },
        "outputId": "81b96db2-beec-4609-d63c-9b7c18074d71"
      },
      "source": [
        "!ghc -e ':t fst'"
      ],
      "execution_count": null,
      "outputs": [
        {
          "output_type": "stream",
          "text": [
            "fst :: (a, b) -> a\n"
          ],
          "name": "stdout"
        }
      ]
    },
    {
      "cell_type": "markdown",
      "metadata": {
        "id": "u4f61nDwXFQv"
      },
      "source": [
        "上記の結果\n",
        "\n",
        "fst :: (a, b) -> a\n",
        "\n",
        "は 2つの要素からなるタプルを引数として、そのタプルの中の最初の要素を返す、という意味。"
      ]
    },
    {
      "cell_type": "markdown",
      "metadata": {
        "id": "PLkQdVXregHy"
      },
      "source": [
        "型クラスは、"
      ]
    },
    {
      "cell_type": "markdown",
      "metadata": {
        "id": "zvrQFVBIIOYx"
      },
      "source": [
        "# いまここ \n",
        "http://learnyouahaskell.com/types-and-typeclasses"
      ]
    },
    {
      "cell_type": "code",
      "metadata": {
        "id": "QgdFRYgAvBiM"
      },
      "source": [
        "\n",
        "A typeclass is a sort of interface that defines some behavior.\n",
        "If a type is a part of a typeclass, that means that it supports and implements the behavior the typeclass describes.\n",
        "A lot of people coming from OOP get confused by typeclasses because they think they are like classes in object oriented languages.\n",
        "Well, they're not.\n",
        "You can think of them kind of as Java interfaces, only better.\n",
        "\n",
        "What's the type signature of the == function?\n",
        "\n",
        "ghci> :t (==)\n",
        "(==) :: (Eq a) => a -> a -> Bool\n",
        "Note: the equality operator, == is a function.\n",
        "So are +, *, -, / and pretty much all operators.\n",
        "If a function is comprised only of special characters, it's considered an infix function by default.\n",
        "If we want to examine its type, pass it to another function or call it as a prefix function, we have to surround it in parentheses.\n",
        "Interesting.\n",
        "We see a new thing here, the => symbol.\n",
        "Everything before the => symbol is called a class constraint.\n",
        "We can read the previous type declaration like this: the equality function takes any two values that are of the same type and returns a Bool.\n",
        "The type of those two values must be a member of the Eq class (this was the class constraint).\n",
        "\n",
        "The Eq typeclass provides an interface for testing for equality.\n",
        "Any type where it makes sense to test for equality between two values of that type should be a member of the Eq class.\n",
        "All standard Haskell types except for IO (the type for dealing with input and output) and functions are a part of the Eq typeclass.\n",
        "\n",
        "The elem function has a type of (Eq a) => a -> [a] -> Bool because it uses == over a list to check whether some value we're looking for is in it.\n",
        "\n",
        "Some basic typeclasses:\n",
        "\n",
        "Eq is used for types that support equality testing.\n",
        "The functions its members implement are == and /=.\n",
        "So if there's an Eq class constraint for a type variable in a function, it uses == or /= somewhere inside its definition.\n",
        "All the types we mentioned previously except for functions are part of Eq, so they can be tested for equality.\n",
        "\n",
        "ghci> 5 == 5\n",
        "True\n",
        "ghci> 5 /= 5\n",
        "False\n",
        "ghci> 'a' == 'a'\n",
        "True\n",
        "ghci> \"Ho Ho\" == \"Ho Ho\"\n",
        "True\n",
        "ghci> 3.432 == 3.432\n",
        "True\n",
        "Ord is for types that have an ordering.\n",
        "\n",
        "ghci> :t (>)\n",
        "(>) :: (Ord a) => a -> a -> Bool\n",
        "All the types we covered so far except for functions are part of Ord.\n",
        "Ord covers all the standard comparing functions such as >, <, >= and <=.\n",
        "The compare function takes two Ord members of the same type and returns an ordering.\n",
        "Ordering is a type that can be GT, LT or EQ, meaning greater than, lesser than and equal, respectively.\n",
        "\n",
        "To be a member of Ord, a type must first have membership in the prestigious and exclusive Eq club.\n",
        "\n",
        "ghci> \"Abrakadabra\" < \"Zebra\"\n",
        "True\n",
        "ghci> \"Abrakadabra\" `compare` \"Zebra\"\n",
        "LT\n",
        "ghci> 5 >= 2\n",
        "True\n",
        "ghci> 5 `compare` 3\n",
        "GT\n",
        "Members of Show can be presented as strings.\n",
        "All types covered so far except for functions are a part of Show.\n",
        "The most used function that deals with the Show typeclass is show.\n",
        "It takes a value whose type is a member of Show and presents it to us as a string.\n",
        "\n",
        "ghci> show 3\n",
        "\"3\"\n",
        "ghci> show 5.334\n",
        "\"5.334\"\n",
        "ghci> show True\n",
        "\"True\"\n",
        "Read is sort of the opposite typeclass of Show.\n",
        "The read function takes a string and returns a type which is a member of Read.\n",
        "\n",
        "ghci> read \"True\" || False\n",
        "True\n",
        "ghci> read \"8.2\" + 3.8\n",
        "12.0\n",
        "ghci> read \"5\" - 2\n",
        "3\n",
        "ghci> read \"[1,2,3,4]\" ++ [3]\n",
        "[1,2,3,4,3]\n",
        "So far so good.\n",
        "Again, all types covered so far are in this typeclass.\n",
        "But what happens if we try to do just read \"4\"?\n",
        "\n",
        "ghci> read \"4\"\n",
        "<interactive>:1:0:\n",
        "    Ambiguous type variable `a' in the constraint:\n",
        "      `Read a' arising from a use of `read' at <interactive>:1:0-7\n",
        "    Probable fix: add a type signature that fixes these type variable(s)\n",
        "What GHCI is telling us here is that it doesn't know what we want in return.\n",
        "Notice that in the previous uses of read we did something with the result afterwards.\n",
        "That way, GHCI could infer what kind of result we wanted out of our read.\n",
        "If we used it as a boolean, it knew it had to return a Bool.\n",
        "But now, it knows we want some type that is part of the Read class, it just doesn't know which one.\n",
        "Let's take a look at the type signature of read.\n",
        "\n",
        "ghci> :t read\n",
        "read :: (Read a) => String -> a\n",
        "See? It returns a type that's part of Read but if we don't try to use it in some way later, it has no way of knowing which type.\n",
        "That's why we can use explicit type annotations.\n",
        "Type annotations are a way of explicitly saying what the type of an expression should be.\n",
        "We do that by adding :: at the end of the expression and then specifying a type.\n",
        "Observe:\n",
        "\n",
        "ghci> read \"5\" :: Int\n",
        "5\n",
        "ghci> read \"5\" :: Float\n",
        "5.0\n",
        "ghci> (read \"5\" :: Float) * 4\n",
        "20.0\n",
        "ghci> read \"[1,2,3,4]\" :: [Int]\n",
        "[1,2,3,4]\n",
        "ghci> read \"(3, 'a')\" :: (Int, Char)\n",
        "(3, 'a')\n",
        "Most expressions are such that the compiler can infer what their type is by itself.\n",
        "But sometimes, the compiler doesn't know whether to return a value of type Int or Float for an expression like read \"5\".\n",
        "To see what the type is, Haskell would have to actually evaluate read \"5\".\n",
        "But since Haskell is a statically typed language, it has to know all the types before the code is compiled (or in the case of GHCI, evaluated).\n",
        "So we have to tell Haskell: \"Hey, this expression should have this type, in case you don't know!\".\n",
        "\n",
        "Enum members are sequentially ordered types — they can be enumerated.\n",
        "The main advantage of the Enum typeclass is that we can use its types in list ranges.\n",
        "They also have defined successors and predecesors, which you can get with the succ and pred functions.\n",
        "Types in this class: (), Bool, Char, Ordering, Int, Integer, Float and Double.\n",
        "\n",
        "ghci> ['a'..'e']\n",
        "\"abcde\"\n",
        "ghci> [LT ..\n",
        "GT]\n",
        "[LT,EQ,GT]\n",
        "ghci> [3 ..\n",
        "5]\n",
        "[3,4,5]\n",
        "ghci> succ 'B'\n",
        "'C'\n",
        "Bounded members have an upper and a lower bound.\n",
        "\n",
        "ghci> minBound :: Int\n",
        "-2147483648\n",
        "ghci> maxBound :: Char\n",
        "'\\1114111'\n",
        "ghci> maxBound :: Bool\n",
        "True\n",
        "ghci> minBound :: Bool\n",
        "False\n",
        "minBound and maxBound are interesting because they have a type of (Bounded a) => a.\n",
        "In a sense they are polymorphic constants.\n",
        "\n",
        "All tuples are also part of Bounded if the components are also in it.\n",
        "\n",
        "ghci> maxBound :: (Bool, Int, Char)\n",
        "(True,2147483647,'\\1114111')\n",
        "Num is a numeric typeclass.\n",
        "Its members have the property of being able to act like numbers.\n",
        "Let's examine the type of a number.\n",
        "\n",
        "ghci> :t 20\n",
        "20 :: (Num t) => t\n",
        "It appears that whole numbers are also polymorphic constants.\n",
        "They can act like any type that's a member of the Num typeclass.\n",
        "\n",
        "ghci> 20 :: Int\n",
        "20\n",
        "ghci> 20 :: Integer\n",
        "20\n",
        "ghci> 20 :: Float\n",
        "20.0\n",
        "ghci> 20 :: Double\n",
        "20.0\n",
        "Those are types that are in the Num typeclass.\n",
        "If we examine the type of *, we'll see that it accepts all numbers.\n",
        "\n",
        "ghci> :t (*)\n",
        "(*) :: (Num a) => a -> a -> a\n",
        "It takes two numbers of the same type and returns a number of that type.\n",
        "That's why (5 :: Int) * (6 :: Integer) will result in a type error whereas 5 * (6 :: Integer) will work just fine and produce an Integer \n",
        "because 5 can act like an Integer or an Int.\n",
        "\n",
        "To join Num, a type must already be friends with Show and Eq.\n",
        "\n",
        "Integral is also a numeric typeclass.\n",
        "Num includes all numbers, including real numbers and integral numbers, Integral includes only integral (whole) numbers.\n",
        "In this typeclass are Int and Integer.\n",
        "\n",
        "Floating includes only floating point numbers, so Float and Double.\n",
        "\n",
        "A very useful function for dealing with numbers is fromIntegral.\n",
        "It has a type declaration of fromIntegral :: (Num b, Integral a) => a -> b.\n",
        "From its type signature we see that it takes an integral number and turns it into a more general number.\n",
        "That's useful when you want integral and floating point types to work together nicely.\n",
        "For instance, the length function has a type declaration of length :: [a] -> Int instead of having a more general type of (Num b) => length :: [a] -> b.\n",
        "I think that's there for historical reasons or something, although in my opinion, it's pretty stupid.\n",
        "Anyway, if we try to get a length of a list and then add it to 3.2, we'll get an error because we tried to add together an Int and a \n",
        "floating point number.\n",
        "So to get around this, we do fromIntegral (length [1,2,3,4]) + 3.2 and it all works out.\n",
        "\n",
        "Notice that fromIntegral has several class constraints in its type signature.\n",
        "That's completely valid and as you can see, the class constraints are separated by\n",
        " commas inside the parentheses.\n"
      ],
      "execution_count": null,
      "outputs": []
    }
  ]
}