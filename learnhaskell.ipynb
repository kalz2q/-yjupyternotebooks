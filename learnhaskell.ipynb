{
  "nbformat": 4,
  "nbformat_minor": 0,
  "metadata": {
    "colab": {
      "name": "learnhaskell.ipynb",
      "provenance": [],
      "authorship_tag": "ABX9TyNo/d7pnuXClAoU4oV7hOh+",
      "include_colab_link": true
    },
    "kernelspec": {
      "name": "python3",
      "display_name": "Python 3"
    }
  },
  "cells": [
    {
      "cell_type": "markdown",
      "metadata": {
        "id": "view-in-github",
        "colab_type": "text"
      },
      "source": [
        "<a href=\"https://colab.research.google.com/github/kalz2q/mycolabnotebooks/blob/master/learnhaskell.ipynb\" target=\"_parent\"><img src=\"https://colab.research.google.com/assets/colab-badge.svg\" alt=\"Open In Colab\"/></a>"
      ]
    },
    {
      "cell_type": "markdown",
      "metadata": {
        "id": "JZqM1qwx2bFV"
      },
      "source": [
        "# メモ\n",
        "\n",
        "1. Colab の環境を利用して Haskellを勉強する。\n",
        "1. Colab の環境は Hakell はインストールされていないので、インストールする。\n",
        "1. 無料の Colab の場合、数時間でクリアされてしまうので再インストールが必要。\n",
        "1. Colab の環境で Haskell のインタラクティブ環境は使えないので、`%%writefile filename.hs` でファイルを作り、`!runghc filename.hs` で実行する。\n",
        "\n",
        "1. とりあえずは Haskell の入門書や入門サイトからサンプルプログラムを入力してみる。\n",
        "1. https://wiki.haskell.org/Haskell入門_5ステップ\n",
        "1. 10分で学ぶHaskell (https://wiki.haskell.org/10分で学ぶHaskell)\n",
        "1. Learn You A Haskell For Great Good! (http://learnyouahaskell.com/)  <= いまここ\n",
        "1. A Gentle Introduction to Haskell (https://www.haskell.org/tutorial/)\n",
        "1. Yet Another Haskell Tutorial (http://users.umiacs.umd.edu/~hal/docs/daume02yaht.pdf)\n",
        "1. https://wiki.haskell.org/How_to_work_on_lists\n",
        "1. https://wiki.haskell.org/Applications_and_libraries/Data_structures\n",
        "1. https://wiki.haskell.org/Applications_and_libraries/Concurrency_and_parallelism\n",
        "1. https://wiki.haskell.org/Applications_and_libraries/GUI_libraries\n",
        "1. https://wiki.haskell.org/Applications_and_libraries/Network\n",
        "1. https://wiki.haskell.org/QuickCheck\n",
        "1. https://wiki.haskell.org/HUnit_1.0_User%27s_Guide\n",
        "1. https://wiki.haskell.org/Regex_Posix\n",
        "\n",
        "\n",
        "\n",
        "  \n",
        "  \n"
      ]
    },
    {
      "cell_type": "code",
      "metadata": {
        "id": "S-NYRxs4SuLf"
      },
      "source": [
        "# haskell(ghc)のインストール\n",
        "%%capture\n",
        "!apt install ghc\n"
      ],
      "execution_count": 1,
      "outputs": []
    },
    {
      "cell_type": "code",
      "metadata": {
        "id": "uFBBZYLDS8Ed",
        "colab": {
          "base_uri": "https://localhost:8080/"
        },
        "outputId": "669fe035-0741-4da8-9dac-5722afbdd3b1"
      },
      "source": [
        "# インストールされたことの確認\n",
        "!ghc --version\n"
      ],
      "execution_count": 2,
      "outputs": [
        {
          "output_type": "stream",
          "text": [
            "The Glorious Glasgow Haskell Compilation System, version 8.0.2\n"
          ],
          "name": "stdout"
        }
      ]
    },
    {
      "cell_type": "code",
      "metadata": {
        "id": "Ba2HY_gpTx4I",
        "colab": {
          "base_uri": "https://localhost:8080/"
        },
        "outputId": "ef23d46a-66a7-4e9c-eff9-5dfcb9b964ef"
      },
      "source": [
        "%%writefile hello.hs\n",
        "main = putStrLn \"hello, world\""
      ],
      "execution_count": 3,
      "outputs": [
        {
          "output_type": "stream",
          "text": [
            "Overwriting hello.hs\n"
          ],
          "name": "stdout"
        }
      ]
    },
    {
      "cell_type": "code",
      "metadata": {
        "id": "SvIkXNjIU6iv",
        "colab": {
          "base_uri": "https://localhost:8080/"
        },
        "outputId": "4a0b7a46-8a4a-4c9c-9e39-5e6f511b2089"
      },
      "source": [
        "!runghc hello.hs"
      ],
      "execution_count": 4,
      "outputs": [
        {
          "output_type": "stream",
          "text": [
            "hello, world\n"
          ],
          "name": "stdout"
        }
      ]
    },
    {
      "cell_type": "markdown",
      "metadata": {
        "id": "ViF69Gd1AQy_"
      },
      "source": [
        "Haskellは `putStrLn` と `print` があるし、改行も自動で入る。  \n",
        "改行コードをエスケープで入れたときの挙動とかが違う。\n",
        "\n",
        "  \n"
      ]
    },
    {
      "cell_type": "code",
      "metadata": {
        "id": "BW6_ktjv-GDS",
        "colab": {
          "base_uri": "https://localhost:8080/"
        },
        "outputId": "f372aed5-7527-4008-e4e0-e40cd2d43812"
      },
      "source": [
        "%%writefile print01.hs\n",
        "main = do\n",
        "  print \"Haskell\\nand\\nPython\"  \n",
        "  putStrLn \"Haskell\\nand\\nPython\"  \n"
      ],
      "execution_count": 5,
      "outputs": [
        {
          "output_type": "stream",
          "text": [
            "Overwriting print01.hs\n"
          ],
          "name": "stdout"
        }
      ]
    },
    {
      "cell_type": "code",
      "metadata": {
        "id": "BX9GzPza3q1S",
        "colab": {
          "base_uri": "https://localhost:8080/"
        },
        "outputId": "2184bda0-f643-492b-a555-1dad9615b4c9"
      },
      "source": [
        "!runghc print01.hs"
      ],
      "execution_count": 6,
      "outputs": [
        {
          "output_type": "stream",
          "text": [
            "\"Haskell\\nand\\nPython\"\n",
            "Haskell\n",
            "and\n",
            "Python\n"
          ],
          "name": "stdout"
        }
      ]
    },
    {
      "cell_type": "markdown",
      "metadata": {
        "id": "1hE1az0p-JCH"
      },
      "source": [
        "Haskell は関数のカッコはあってもよいが省略可能。\n"
      ]
    },
    {
      "cell_type": "code",
      "metadata": {
        "id": "FzNpBNRN-UC0",
        "colab": {
          "base_uri": "https://localhost:8080/"
        },
        "outputId": "4b4c3bd5-1f82-4d45-f315-d44b9219d22c"
      },
      "source": [
        "%%writefile if01.hs\n",
        "main = \n",
        "  let fac n = if n == 0 then 1 else n * fac (n-1)  \n",
        "  in print ( fac 5 )"
      ],
      "execution_count": 7,
      "outputs": [
        {
          "output_type": "stream",
          "text": [
            "Overwriting if01.hs\n"
          ],
          "name": "stdout"
        }
      ]
    },
    {
      "cell_type": "code",
      "metadata": {
        "id": "9OWoPdET4N1E",
        "colab": {
          "base_uri": "https://localhost:8080/"
        },
        "outputId": "71e135e2-546d-487d-9049-fd33e495c3f6"
      },
      "source": [
        "!runghc if01.hs"
      ],
      "execution_count": 8,
      "outputs": [
        {
          "output_type": "stream",
          "text": [
            "120\n"
          ],
          "name": "stdout"
        }
      ]
    },
    {
      "cell_type": "markdown",
      "metadata": {
        "id": "fPcnaEfF-Y-y"
      },
      "source": [
        "階乗を計算する関数を作っている。\n"
      ]
    },
    {
      "cell_type": "markdown",
      "metadata": {
        "id": "w5wAydKX2cYY"
      },
      "source": [
        "ま、とりあえずできたということで。\n",
        "さきへ進もう。"
      ]
    },
    {
      "cell_type": "code",
      "metadata": {
        "id": "K535VVGH-lD_",
        "colab": {
          "base_uri": "https://localhost:8080/"
        },
        "outputId": "2e82b970-ba4c-4f7c-df1f-549db1192da7"
      },
      "source": [
        "%%writefile fac01.hs\n",
        "fac 0 = 1  \n",
        "fac n = n * fac (n-1)  \n",
        "main = print (fac 42)  \n"
      ],
      "execution_count": 9,
      "outputs": [
        {
          "output_type": "stream",
          "text": [
            "Overwriting fac01.hs\n"
          ],
          "name": "stdout"
        }
      ]
    },
    {
      "cell_type": "code",
      "metadata": {
        "id": "_A2BylE4LNzN",
        "colab": {
          "base_uri": "https://localhost:8080/"
        },
        "outputId": "ae961b5d-3535-4c38-e7e2-3a6abc8344a6"
      },
      "source": [
        "!runghc fac01.hs"
      ],
      "execution_count": 10,
      "outputs": [
        {
          "output_type": "stream",
          "text": [
            "1405006117752879898543142606244511569936384000000000\n"
          ],
          "name": "stdout"
        }
      ]
    },
    {
      "cell_type": "markdown",
      "metadata": {
        "id": "gbJVKth8h6c4"
      },
      "source": [
        "さすがこれはPythonにはないか。\n"
      ]
    },
    {
      "cell_type": "markdown",
      "metadata": {
        "id": "73Fe-0mXT4Oo"
      },
      "source": [
        "# いまここ"
      ]
    },
    {
      "cell_type": "markdown",
      "metadata": {
        "id": "Eh0YyntvF0O-"
      },
      "source": [
        "# 四則演算"
      ]
    },
    {
      "cell_type": "code",
      "metadata": {
        "id": "xrXWasfNF4tO",
        "colab": {
          "base_uri": "https://localhost:8080/"
        },
        "outputId": "1fcd421d-3c8d-4647-b031-2619b9e9d392"
      },
      "source": [
        "%%writefile arithmetic01.hs\n",
        "\n",
        "main = do\n",
        "  print $ 3 * 5\n",
        "  print $ 4 ^ 2 - 1\n",
        "  print $ (1-5)^(3*2 - 4)"
      ],
      "execution_count": 11,
      "outputs": [
        {
          "output_type": "stream",
          "text": [
            "Overwriting arithmetic01.hs\n"
          ],
          "name": "stdout"
        }
      ]
    },
    {
      "cell_type": "code",
      "metadata": {
        "id": "0bvVHssEvDKU",
        "colab": {
          "base_uri": "https://localhost:8080/"
        },
        "outputId": "d8a39179-7b78-4ba0-fdb4-f4ab04377066"
      },
      "source": [
        "!runghc arithmetic01.hs"
      ],
      "execution_count": 12,
      "outputs": [
        {
          "output_type": "stream",
          "text": [
            "15\n",
            "15\n",
            "16\n"
          ],
          "name": "stdout"
        }
      ]
    },
    {
      "cell_type": "markdown",
      "metadata": {
        "id": "SAeWCy8897AH"
      },
      "source": [
        "\n",
        "文字列はダブルクォート（二重引用符）で囲む。 文字列の結合をするときは ++ を使う。\n",
        "  \n",
        "  \n"
      ]
    },
    {
      "cell_type": "code",
      "metadata": {
        "id": "XD-Q9HsR-5EK",
        "colab": {
          "base_uri": "https://localhost:8080/"
        },
        "outputId": "e0aacb7c-34c5-40e3-f6b8-745641113233"
      },
      "source": [
        "%%writefile string01.hs\n",
        "\n",
        "main = do\n",
        "  print \"Hello\"\n",
        "  print $ \"hello\" ++ \", haskell\"\n"
      ],
      "execution_count": 13,
      "outputs": [
        {
          "output_type": "stream",
          "text": [
            "Overwriting string01.hs\n"
          ],
          "name": "stdout"
        }
      ]
    },
    {
      "cell_type": "code",
      "metadata": {
        "id": "4epQKGoHvnND",
        "colab": {
          "base_uri": "https://localhost:8080/"
        },
        "outputId": "c0c1c9a4-1eda-4545-93aa-397ad9e033c7"
      },
      "source": [
        "!runghc string01.hs"
      ],
      "execution_count": 14,
      "outputs": [
        {
          "output_type": "stream",
          "text": [
            "\"Hello\"\n",
            "\"hello, haskell\"\n"
          ],
          "name": "stdout"
        }
      ]
    },
    {
      "cell_type": "code",
      "metadata": {
        "id": "3Awt28XplzFA",
        "colab": {
          "base_uri": "https://localhost:8080/"
        },
        "outputId": "02947a16-29e0-466e-a4ff-7c56e631b3fb"
      },
      "source": [
        "%%writefile math01.hs\n",
        "\n",
        "main =  do\n",
        "    print $ succ 5\n",
        "    print $ truncate 6.59\n",
        "    print $ round 6.59\n",
        "    print $ sqrt 2\n",
        "    print $ not (5 < 3)\n",
        "    print $ gcd 21 14\n"
      ],
      "execution_count": 15,
      "outputs": [
        {
          "output_type": "stream",
          "text": [
            "Overwriting math01.hs\n"
          ],
          "name": "stdout"
        }
      ]
    },
    {
      "cell_type": "code",
      "metadata": {
        "id": "VH-lYQ5ywHur",
        "colab": {
          "base_uri": "https://localhost:8080/"
        },
        "outputId": "890a4f0d-415b-40a0-bc58-10dd6567a13d"
      },
      "source": [
        "!runghc math01.hs"
      ],
      "execution_count": 16,
      "outputs": [
        {
          "output_type": "stream",
          "text": [
            "6\n",
            "6\n",
            "7\n",
            "1.4142135623730951\n",
            "True\n",
            "7\n"
          ],
          "name": "stdout"
        }
      ]
    },
    {
      "cell_type": "markdown",
      "metadata": {
        "id": "ctM7K9ZNwdLy"
      },
      "source": [
        "# ワンライナー\n",
        "\n",
        "`ghc -e` または `stack eval` でワンライナーが書ける、とういので実験。\n"
      ]
    },
    {
      "cell_type": "code",
      "metadata": {
        "id": "kxB5SULE_Nre",
        "colab": {
          "base_uri": "https://localhost:8080/"
        },
        "outputId": "bc44fde9-2ad1-452b-9aeb-48f239e7b369"
      },
      "source": [
        "!ghci -e 'putStrLn \"hello world\"'\n",
        "!ghci -e 'putStrLn \"hello world\"'"
      ],
      "execution_count": 17,
      "outputs": [
        {
          "output_type": "stream",
          "text": [
            "hello world\n",
            "hello world\n"
          ],
          "name": "stdout"
        }
      ]
    },
    {
      "cell_type": "code",
      "metadata": {
        "id": "-rjT7qBbhfnC",
        "colab": {
          "base_uri": "https://localhost:8080/"
        },
        "outputId": "261c1ea4-a8a1-4785-86bf-74c35004cda2"
      },
      "source": [
        "!ghci -e  'print $ truncate (-6.59)'"
      ],
      "execution_count": 18,
      "outputs": [
        {
          "output_type": "stream",
          "text": [
            "-6\n"
          ],
          "name": "stdout"
        }
      ]
    },
    {
      "cell_type": "markdown",
      "metadata": {
        "id": "FB2dUULriMOH"
      },
      "source": [
        "ちょっとくせがあるみたいだけど、使える。 いちいちプログラムファイルを作らずに実験できる。 \n"
      ]
    },
    {
      "cell_type": "code",
      "metadata": {
        "id": "8BX5lnthiYRv",
        "colab": {
          "base_uri": "https://localhost:8080/"
        },
        "outputId": "a275f010-e6d8-45ea-f16c-8c930a734655"
      },
      "source": [
        "# 実験 floor が使えるかどうか\n",
        "!ghci -e 'floor(-6.59)' #=> -7"
      ],
      "execution_count": 19,
      "outputs": [
        {
          "output_type": "stream",
          "text": [
            "-7\n"
          ],
          "name": "stdout"
        }
      ]
    },
    {
      "cell_type": "markdown",
      "metadata": {
        "id": "LYqikGpK1Pmh"
      },
      "source": [
        "ひとつの式の中で複数の I/O アクションを使いたい場合は、doブロックを使う。アクションはセミコロンで区切る。\n",
        "  \n",
        "  \n"
      ]
    },
    {
      "cell_type": "code",
      "metadata": {
        "id": "Ppn7NhT5iyNa",
        "colab": {
          "base_uri": "https://localhost:8080/"
        },
        "outputId": "117db18d-8fef-4915-9848-bcd689888460"
      },
      "source": [
        "!ghci -e 'do {putStr \"2 + 2 = \"; print(2 + 2)}'\n",
        "!ghci -e 'do { putStrLn \"ABCDE\" ; putStrLn \"12345\" }  '"
      ],
      "execution_count": 20,
      "outputs": [
        {
          "output_type": "stream",
          "text": [
            "2 + 2 = 4\n",
            "ABCDE\n",
            "12345\n"
          ],
          "name": "stdout"
        }
      ]
    },
    {
      "cell_type": "markdown",
      "metadata": {
        "id": "T7qCPk48Fmmu"
      },
      "source": [
        "# 型について少し\n"
      ]
    },
    {
      "cell_type": "markdown",
      "metadata": {
        "id": "3tfVY2QnJs1Y"
      },
      "source": [
        "\n",
        "### 型宣言"
      ]
    },
    {
      "cell_type": "code",
      "metadata": {
        "id": "iOEMdj3kkbsb",
        "colab": {
          "base_uri": "https://localhost:8080/"
        },
        "outputId": "53e5b9e9-d9a1-49ce-81ce-a355ada06ea6"
      },
      "source": [
        "!ghci -e '5::Int'\n",
        "!ghci -e '5::Double'"
      ],
      "execution_count": 21,
      "outputs": [
        {
          "output_type": "stream",
          "text": [
            "5\n",
            "5.0\n"
          ],
          "name": "stdout"
        }
      ]
    },
    {
      "cell_type": "markdown",
      "metadata": {
        "id": "O79IgiT7FrTl"
      },
      "source": [
        "### 型を調べる"
      ]
    },
    {
      "cell_type": "code",
      "metadata": {
        "id": "R8mbMN4HkmLf",
        "colab": {
          "base_uri": "https://localhost:8080/"
        },
        "outputId": "01007802-d6c7-430c-87be-7413a18c3f68"
      },
      "source": [
        "!ghci -e ':t True'\n",
        "!ghci -e $':t \\'X\\''\n",
        "!ghci -e ':t \"hello haskell\"'"
      ],
      "execution_count": 22,
      "outputs": [
        {
          "output_type": "stream",
          "text": [
            "True :: Bool\n",
            "'X' :: Char\n",
            "\"hello haskell\" :: [Char]\n"
          ],
          "name": "stdout"
        }
      ]
    },
    {
      "cell_type": "markdown",
      "metadata": {
        "id": "shyizwS1F5MZ"
      },
      "source": [
        "[Char]はStringの別名。 Char のリスト。\n"
      ]
    },
    {
      "cell_type": "code",
      "metadata": {
        "id": "Rl2CyyheJFZQ",
        "colab": {
          "base_uri": "https://localhost:8080/"
        },
        "outputId": "d364e0df-054b-4ca4-c8e6-948248895d5e"
      },
      "source": [
        "!ghci -e ':t 42'\n",
        "!ghci -e ':t 42.0'\n",
        "!ghci -e ':t gcd 15 20'"
      ],
      "execution_count": 23,
      "outputs": [
        {
          "output_type": "stream",
          "text": [
            "42 :: Num t => t\n",
            "42.0 :: Fractional t => t\n",
            "gcd 15 20 :: Integral a => a\n"
          ],
          "name": "stdout"
        }
      ]
    },
    {
      "cell_type": "markdown",
      "metadata": {
        "id": "0VJQp8dzJw7U"
      },
      "source": [
        "### Unit 型"
      ]
    },
    {
      "cell_type": "code",
      "metadata": {
        "id": "IAFEJNfKJvd0",
        "colab": {
          "base_uri": "https://localhost:8080/"
        },
        "outputId": "4a60e8e7-d33e-4cb7-bac0-2fb703c01dd2"
      },
      "source": [
        "!ghci -e 'print ()'\n",
        "!ghci -e ':t ()'"
      ],
      "execution_count": 24,
      "outputs": [
        {
          "output_type": "stream",
          "text": [
            "()\n",
            "() :: ()\n"
          ],
          "name": "stdout"
        }
      ]
    },
    {
      "cell_type": "markdown",
      "metadata": {
        "id": "zHYfydjqJ0bq"
      },
      "source": [
        "# リスト\n",
        "\n",
        "Haskell のリストは型の混在はなし。 型を混在させるにはタプルを用いる。\n",
        "\n",
        "文字列は単に文字 Char のリスト。"
      ]
    },
    {
      "cell_type": "code",
      "metadata": {
        "id": "lXxY_lLRKAk2",
        "colab": {
          "base_uri": "https://localhost:8080/"
        },
        "outputId": "e3bac041-4cda-4cdc-be80-f8992c3448e9"
      },
      "source": [
        "!ghci -e '[1, 2, 3]'\n",
        "!ghci -e '[1 .. 5]'\n",
        "!ghci -e '[1, 3 .. 10]'\n",
        "!ghci -e '[True, False, True]'\n",
        "!ghci -e $'[\\'H\\', \\'e\\', \\'l\\', \\'l\\', \\'o\\']'\n",
        "!ghci -e $'\\'C\\' : [\\'H\\', \\'e\\', \\'l\\', \\'l\\', \\'o\\']'\n"
      ],
      "execution_count": 25,
      "outputs": [
        {
          "output_type": "stream",
          "text": [
            "[1,2,3]\n",
            "[1,2,3,4,5]\n",
            "[1,3,5,7,9]\n",
            "[True,False,True]\n",
            "\"Hello\"\n",
            "\"CHello\"\n"
          ],
          "name": "stdout"
        }
      ]
    },
    {
      "cell_type": "markdown",
      "metadata": {
        "id": "IJcQNo4G2TJJ"
      },
      "source": [
        "# タプル"
      ]
    },
    {
      "cell_type": "code",
      "metadata": {
        "id": "PRZJdUhP2-8w",
        "colab": {
          "base_uri": "https://localhost:8080/"
        },
        "outputId": "da4df03f-30eb-4f1e-9904-2b54302d23a8"
      },
      "source": [
        "!ghci -e '(1, True)'\n",
        "!ghci -e $'zip [1 .. 5] [\\'a\\' .. \\'e\\']'\n"
      ],
      "execution_count": 26,
      "outputs": [
        {
          "output_type": "stream",
          "text": [
            "(1,True)\n",
            "[(1,'a'),(2,'b'),(3,'c'),(4,'d'),(5,'e')]\n"
          ],
          "name": "stdout"
        }
      ]
    },
    {
      "cell_type": "markdown",
      "metadata": {
        "id": "jSG0fx1bPLqB"
      },
      "source": [
        "# いまここ"
      ]
    },
    {
      "cell_type": "code",
      "metadata": {
        "id": "QnhmYQLP3KFy",
        "colab": {
          "base_uri": "https://localhost:8080/"
        },
        "outputId": "7bacd491-fde3-4127-8544-744bd38e849a"
      },
      "source": [
        "!ghci -e $':t [\\'a\\' .. \\'c\\']'\n",
        "!ghci -e $':t [(\\'x\\', True), (\\'y\\', False)]'"
      ],
      "execution_count": 27,
      "outputs": [
        {
          "output_type": "stream",
          "text": [
            "['a' .. 'c'] :: [Char]\n",
            "[('x', True), ('y', False)] :: [(Char, Bool)]\n"
          ],
          "name": "stdout"
        }
      ]
    },
    {
      "cell_type": "code",
      "metadata": {
        "id": "yArbCM1L3L1Q",
        "colab": {
          "base_uri": "https://localhost:8080/"
        },
        "outputId": "018aac42-3c4f-44f7-eab8-8f2ce02bc80f"
      },
      "source": [
        "!ghci -e 'fst (1, 2)'\n",
        "!ghci -e 'snd (1, 2)'\n",
        "!ghci -e 'map fst [(1, 2), (3, 4), (5, 6)]'"
      ],
      "execution_count": 28,
      "outputs": [
        {
          "output_type": "stream",
          "text": [
            "1\n",
            "2\n",
            "[1,3,5]\n"
          ],
          "name": "stdout"
        }
      ]
    },
    {
      "cell_type": "markdown",
      "metadata": {
        "id": "UOWi2Qe_5KxD"
      },
      "source": [
        "# 関数定義"
      ]
    },
    {
      "cell_type": "code",
      "metadata": {
        "id": "BEE6hOyJ5NQR",
        "outputId": "d7f95832-40ed-45c3-b2d6-d613faae6958",
        "colab": {
          "base_uri": "https://localhost:8080/"
        }
      },
      "source": [
        "%%writefile Test.hs\n",
        "module Main where\n",
        "\n",
        "factorial n = if n == 0 then 1 else n * factorial (n - 1)\n",
        "\n",
        "main = do putStrLn \"What is 5! ?\"\n",
        "          x <- readLn\n",
        "          if x == factorial 5\n",
        "              then putStrLn \"You're right!\"\n",
        "              else putStrLn \"You're wrong!\""
      ],
      "execution_count": 33,
      "outputs": [
        {
          "output_type": "stream",
          "text": [
            "Overwriting Test.hs\n"
          ],
          "name": "stdout"
        }
      ]
    },
    {
      "cell_type": "code",
      "metadata": {
        "id": "5uBBmlwM5WJZ",
        "outputId": "68a2e637-6d5f-4890-8dda-d8b4e4e8a77a",
        "colab": {
          "base_uri": "https://localhost:8080/"
        }
      },
      "source": [
        "!ghc --make Test.hs"
      ],
      "execution_count": 34,
      "outputs": [
        {
          "output_type": "stream",
          "text": [
            "[1 of 1] Compiling Main             ( Test.hs, Test.o )\n",
            "Linking Test ...\n"
          ],
          "name": "stdout"
        }
      ]
    },
    {
      "cell_type": "code",
      "metadata": {
        "id": "RLUm1DaB5YTk"
      },
      "source": [
        "$ ./Test\n",
        "What is 5! ?\n",
        "120\n",
        "You're right!"
      ],
      "execution_count": null,
      "outputs": []
    },
    {
      "cell_type": "code",
      "metadata": {
        "id": "o22NOUIZ5aYf"
      },
      "source": [
        "$ ghci Test.hs\n",
        "GHCi, version 8.6.5: http://www.haskell.org/ghc/  :? for help\n",
        "[1 of 1] Compiling Main             ( test.hs, interpreted )\n",
        "Ok, one module loaded.\n",
        "*Main> factorial 4\n",
        "24\n",
        "*Main> main\n",
        "What is 5! ?\n",
        "100\n",
        "You're wrong!\n",
        "*Main> :t factorial\n",
        "factorial :: (Eq p, Num p) => p -> p\n"
      ],
      "execution_count": null,
      "outputs": []
    },
    {
      "cell_type": "code",
      "metadata": {
        "id": "ajXsLOal5uxz"
      },
      "source": [
        "factorial 0 = 1\n",
        "factorial n = n * factorial (n - 1)\n"
      ],
      "execution_count": null,
      "outputs": []
    },
    {
      "cell_type": "markdown",
      "metadata": {
        "id": "Zu-Sa_a36AAC"
      },
      "source": [
        "# 便利な構文"
      ]
    },
    {
      "cell_type": "code",
      "metadata": {
        "id": "Gmg_4nAo6CoH"
      },
      "source": [
        "secsToWeeks secs = let perMinute = 60\n",
        "                       perHour   = 60 * perMinute\n",
        "                       perDay    = 24 * perHour\n",
        "                       perWeek   =  7 * perDay\n",
        "                   in  secs / perWeek"
      ],
      "execution_count": null,
      "outputs": []
    },
    {
      "cell_type": "markdown",
      "metadata": {
        "id": "M67kE5oy6ZKp"
      },
      "source": [
        "上コードセルで、let , in は一時的な名前を定義している。\n",
        "\n",
        "`{}` と `:` による定義もできる。 check_later"
      ]
    },
    {
      "cell_type": "code",
      "metadata": {
        "id": "XN5488-c6Xtm"
      },
      "source": [
        "classify age = case age of 0 -> \"newborn\"\n",
        "                           1 -> \"infant\"\n",
        "                           2 -> \"toddler\"\n",
        "                           _ -> \"senior citizen\""
      ],
      "execution_count": null,
      "outputs": []
    },
    {
      "cell_type": "markdown",
      "metadata": {
        "id": "cp5ZgVAk68_H"
      },
      "source": [
        "上のセルで、case 式を使っている。 `_` はその他すべてを表す。"
      ]
    },
    {
      "cell_type": "markdown",
      "metadata": {
        "id": "Q-LIDxck97kv"
      },
      "source": [
        "# ライブラリの使い方 import qualified as"
      ]
    },
    {
      "cell_type": "code",
      "metadata": {
        "id": "4LPJq0oa9bO8"
      },
      "source": [
        "-- qualified.hs\n",
        "module Main where\n",
        "\n",
        "import qualified Data.Map as M\n",
        "\n",
        "errorsPerLine = M.fromList\n",
        "    [ (\"Chris\", 472), (\"Don\", 100), (\"Simon\", -5) ]\n",
        "\n",
        "main = do putStrLn \"Who are you?\"\n",
        "          name <- getLine\n",
        "          case M.lookup name errorsPerLine of\n",
        "              Nothing -> putStrLn \"I don't know you\"\n",
        "              Just n  -> do putStr \"Errors per line: \"\n",
        "                            print n"
      ],
      "execution_count": null,
      "outputs": []
    },
    {
      "cell_type": "markdown",
      "metadata": {
        "id": "zV0Gpb__-GwF"
      },
      "source": [
        "標準ライブラリにないものを使う場合は\n",
        "\n",
        "1. http://hackage.haskell.org/packages/hackage.html\n",
        "1. https://wiki.haskell.org/Applications_and_libraries\n",
        "\n",
        "からダウンロードして\n"
      ]
    },
    {
      "cell_type": "code",
      "metadata": {
        "id": "8S8lp-j_-dON"
      },
      "source": [
        " runhaskell Setup configure\n",
        " runhaskell Setup build\n",
        " runhaskell Setup install"
      ],
      "execution_count": null,
      "outputs": []
    },
    {
      "cell_type": "markdown",
      "metadata": {
        "id": "u-Agmwju-f-_"
      },
      "source": [
        "省いたトピック\n",
        "\n",
        "* List comprehensions https://wiki.haskell.org/List_comprehension\n",
        "* Type synonyms https://wiki.haskell.org/Type#Type_and_newtype\n",
        "* https://wiki.haskell.org/Type\n",
        "* https://wiki.haskell.org/Newtype\n",
        "* https://wiki.haskell.org/Infix_operator\n",
        "* Lambda abstractions https://wiki.haskell.org/Lambda_abstraction\n",
        "* https://wiki.haskell.org/Section_of_an_infix_operator\n",
        "* Monads https://wiki.haskell.org/Category:Monad\n",
        "* File I/O https://wiki.haskell.org/Tutorials/Programming_Haskell/String_IO\n",
        "\n",
        "\n",
        "\n",
        "\n"
      ]
    },
    {
      "cell_type": "markdown",
      "metadata": {
        "id": "V01fOAB7AYN_"
      },
      "source": [
        "# いまここ\n"
      ]
    },
    {
      "cell_type": "markdown",
      "metadata": {
        "id": "05q0I6VCAal4"
      },
      "source": [
        "# ここから  Learn You A Haskell For Great Good!"
      ]
    },
    {
      "cell_type": "code",
      "metadata": {
        "id": "BT0js6Fkczb7"
      },
      "source": [
        "Prelude> :set prompt \"ghci> \"\n",
        "ghci> "
      ],
      "execution_count": null,
      "outputs": []
    },
    {
      "cell_type": "markdown",
      "metadata": {
        "id": "XvyLhuBKc8zr"
      },
      "source": [
        "Learn You A Haskell For Great Good! の最初は `Prelude>` というプロンプトは長過ぎるので `ghci> ` というプロンプトにしている。 \n",
        "\n",
        "本質とは関係ないところから入っているけど、`:` で始まるコマンドがあることが学べるし、なにより、Haskell ではなんでも変えられることが示されている。\n",
        "\n",
        "あと、普通の言語では repl はおまけみたいなところがあるけど、Haskell ではそれがけっこうメインらしい、とかも感じられるかもしれない。\n"
      ]
    },
    {
      "cell_type": "code",
      "metadata": {
        "id": "Lat2FpdBnUK3"
      },
      "source": [
        "ghci> 2 + 15\n",
        "17\n",
        "ghci> 49 * 100\n",
        "4900\n",
        "ghci> 1892 - 1472\n",
        "420\n",
        "ghci> 5 / 2\n",
        "2.5\n"
      ],
      "execution_count": null,
      "outputs": []
    },
    {
      "cell_type": "code",
      "metadata": {
        "id": "AFkAK5ZEnkFW"
      },
      "source": [
        "ghci> (50 * 100) - 4999\n",
        "1\n",
        "ghci> 50 * 100 - 4999\n",
        "1\n",
        "ghci> 50 * (100 - 4999)\n",
        "-244950\n"
      ],
      "execution_count": null,
      "outputs": []
    },
    {
      "cell_type": "code",
      "metadata": {
        "id": "wOvMZGQ5nmR4"
      },
      "source": [
        "ghci> True && False\n",
        "False\n",
        "ghci> True && True\n",
        "True\n",
        "ghci> False || True\n",
        "True\n",
        "ghci> not False\n",
        "True\n",
        "ghci> not (True && True)\n",
        "False\n"
      ],
      "execution_count": null,
      "outputs": []
    },
    {
      "cell_type": "code",
      "metadata": {
        "id": "MDS-LdXBocT4"
      },
      "source": [
        "ghci> succ 8\n",
        "9\n",
        "ghci> min 9 10\n",
        "9\n",
        "ghci> min 3.4 3.2\n",
        "3.2\n",
        "ghci> max 100 101\n",
        "101\n"
      ],
      "execution_count": null,
      "outputs": []
    },
    {
      "cell_type": "markdown",
      "metadata": {
        "id": "tKwonjJ6ozn-"
      },
      "source": [
        "関数の優先順位が一番高い。\n",
        "\n",
        "次の2つの式は同じ意味になる。\n"
      ]
    },
    {
      "cell_type": "code",
      "metadata": {
        "id": "iBs4X0rco0E8"
      },
      "source": [
        "ghci> succ 9 + max 5 4 + 1\n",
        "16\n",
        "ghci> (succ 9) + (max 5 4) + 1\n",
        "16\n"
      ],
      "execution_count": null,
      "outputs": []
    },
    {
      "cell_type": "code",
      "metadata": {
        "id": "SIVVq2yRpOM_"
      },
      "source": [
        "ghci> succ 9 * 10\n",
        "100\n"
      ],
      "execution_count": null,
      "outputs": []
    },
    {
      "cell_type": "markdown",
      "metadata": {
        "id": "L5od-47zpe_l"
      },
      "source": [
        "### 整数除算"
      ]
    },
    {
      "cell_type": "code",
      "metadata": {
        "id": "Ap8spQwxpd0c"
      },
      "source": [
        "92 // 10"
      ],
      "execution_count": null,
      "outputs": []
    },
    {
      "cell_type": "code",
      "metadata": {
        "id": "7Pw30dR1poQy"
      },
      "source": [
        "ghci> 92 `div` 10\n",
        "9\n"
      ],
      "execution_count": null,
      "outputs": []
    },
    {
      "cell_type": "markdown",
      "metadata": {
        "id": "g2awhpFhVCQL"
      },
      "source": [
        "### 関数"
      ]
    },
    {
      "cell_type": "code",
      "metadata": {
        "id": "XkZ08fY0VEv6"
      },
      "source": [
        "Prelude> doubleMe x = x + x\n",
        "Prelude> doubleMe 9\n",
        "18\n",
        "Prelude> doubleMe 8.3\n",
        "16.6\n"
      ],
      "execution_count": null,
      "outputs": []
    },
    {
      "cell_type": "code",
      "metadata": {
        "id": "ZJDh4GipVhYq"
      },
      "source": [
        "Prelude> doubleUs x y = x*2 + y*2   \n",
        "Prelude> doubleUs 4 9\n",
        "26\n",
        "Prelude> doubleUs 2.3 34.2\n",
        "73.0\n",
        "Prelude> doubleUs 28 88 + doubleMe 123\n",
        "478\n"
      ],
      "execution_count": null,
      "outputs": []
    },
    {
      "cell_type": "code",
      "metadata": {
        "id": "ldKkYAW3VtEX"
      },
      "source": [
        "Prelude> doubleUs x y = doubleMe x + doubleMe y\n"
      ],
      "execution_count": null,
      "outputs": []
    },
    {
      "cell_type": "code",
      "metadata": {
        "id": "Mdjyx2G7bfMf"
      },
      "source": [
        "Prelude> doubleSmallNumber x = if x > 100 then x else x*2\n",
        "Prelude> doubleSmallNumber 120\n",
        "120\n",
        "Prelude> doubleSmallNumber 12\n",
        "24\n"
      ],
      "execution_count": null,
      "outputs": []
    },
    {
      "cell_type": "markdown",
      "metadata": {
        "id": "s7bImZu-cwh0"
      },
      "source": [
        "Haskell の if では else は必須。なぜなら if は式であり、返り値が必要だから。"
      ]
    },
    {
      "cell_type": "code",
      "metadata": {
        "id": "qV8VRsIJbm3I"
      },
      "source": [
        "# python\n",
        "\n",
        "def doubleSmallNumber (x) :\n",
        "    if x > 100 :\n",
        "        return x\n",
        "    else:\n",
        "        return x * 2\n",
        "\n",
        "print (doubleSmallNumber (120))\n",
        "print (doubleSmallNumber (12))"
      ],
      "execution_count": null,
      "outputs": []
    },
    {
      "cell_type": "code",
      "metadata": {
        "id": "PhAfzsAbdTHu"
      },
      "source": [
        "Prelude> doubleSmallNumber' x = (if x > 100 then x else x*2) + 1 "
      ],
      "execution_count": null,
      "outputs": []
    },
    {
      "cell_type": "markdown",
      "metadata": {
        "id": "j02DA3mwdUGF"
      },
      "source": [
        "上の例では `()` がないと違う意味になる。\n",
        "\n",
        "あと、関数名に \\` がついているが、バッククォートは名前に使えるので上ような使い方をする。"
      ]
    },
    {
      "cell_type": "code",
      "metadata": {
        "id": "5mNdpWKTdsTr"
      },
      "source": [
        "Prelude> conanO'Brien = \"It's a-me, Conan O'Brien!\"   \n",
        "Prelude> conanO'Brien \n",
        "\"It's a-me, Conan O'Brien!\"\n"
      ],
      "execution_count": null,
      "outputs": []
    },
    {
      "cell_type": "markdown",
      "metadata": {
        "id": "QPcmXomYd-sT"
      },
      "source": [
        "上の例で2つのことを指摘したい。\n",
        "\n",
        "1. 関数名は小文字で始まる。\n",
        "1. 関数は引数なしもあり得る。引数なしの場合、ただの定義になる。"
      ]
    },
    {
      "cell_type": "markdown",
      "metadata": {
        "id": "y6H51hT-zQ3d"
      },
      "source": [
        "# リスト"
      ]
    },
    {
      "cell_type": "code",
      "metadata": {
        "id": "wnQmo8IGzSaV"
      },
      "source": [
        "Prelude> let lostNumbers = [4,8,15,16,23,42]\n",
        "Prelude> lostNumbers\n",
        "[4,8,15,16,23,42]"
      ],
      "execution_count": null,
      "outputs": []
    },
    {
      "cell_type": "code",
      "metadata": {
        "id": "rvpkOXPo0aJu"
      },
      "source": [
        "Prelude> [1,2,3,4] ++ [9,10,11,12]\n",
        "[1,2,3,4,9,10,11,12]\n",
        "Prelude> \"hello\" ++ \" \" ++ \"world\"\n",
        "\"hello world\"\n",
        "Prelude> ['w', 'o'] ++ ['o','t']\n",
        "\"woot\"\n"
      ],
      "execution_count": null,
      "outputs": []
    },
    {
      "cell_type": "code",
      "metadata": {
        "id": "U_9C6CqF0sRr"
      },
      "source": [
        "Prelude> 'A':\" SMALL CAT\"\n",
        "\"A SMALL CAT\"\n",
        "Prelude> 5:[1,2,3,4,5]\n",
        "[5,1,2,3,4,5]\n"
      ],
      "execution_count": null,
      "outputs": []
    },
    {
      "cell_type": "markdown",
      "metadata": {
        "id": "o4UHyTtI07zX"
      },
      "source": [
        "`[1,2,3]` は内部的には `1:2:3:[]` で、`[]` は空リストである。空リストの冒頭に 3 を加えると `[3]` になる。できたリストの頭に 2 を加えると、`[2,3]` になる。"
      ]
    },
    {
      "cell_type": "code",
      "metadata": {
        "id": "Tn4oyGN-1yoR"
      },
      "source": [
        "Prelude> \"Steve Buscemi\" !! 6\n",
        "'B'\n",
        "Prelude> [9.4,33.2,96.2,11.2,23.25] !! 1\n",
        "33.2\n"
      ],
      "execution_count": null,
      "outputs": []
    },
    {
      "cell_type": "code",
      "metadata": {
        "id": "09V_A7nx1ztd"
      },
      "source": [
        "# python\n",
        "\n",
        "print (\"Steve Buscemi\"[6])\n",
        "\n",
        "print ([9.4,33.2,96.2,11.2,23.25][1])\n"
      ],
      "execution_count": null,
      "outputs": []
    },
    {
      "cell_type": "markdown",
      "metadata": {
        "id": "bFGr1ma4GG1k"
      },
      "source": [
        "インデクスが大きすぎるとエラーになる。"
      ]
    },
    {
      "cell_type": "code",
      "metadata": {
        "id": "XtxFVZtxGFCh"
      },
      "source": [
        "Prelude>  [9.4,33.2,96.2,11.2,23.25] !! 6\n",
        "*** Exception: Prelude.!!: index too large\n"
      ],
      "execution_count": null,
      "outputs": []
    },
    {
      "cell_type": "code",
      "metadata": {
        "id": "_aV1mz3EF7K-"
      },
      "source": [
        "Prelude> let b = [[1,2,3,4],[5,3,3,3],[1,2,2,3,4],[1,2,3]]\n",
        "Prelude> b ++ [[1,1,1,1]] \n",
        "[[1,2,3,4],[5,3,3,3],[1,2,2,3,4],[1,2,3],[1,1,1,1]]\n",
        "Prelude> [6,6,6]:b\n",
        "[[6,6,6],[1,2,3,4],[5,3,3,3],[1,2,2,3,4],[1,2,3]]\n",
        "Prelude> b !! 2\n",
        "[1,2,2,3,4]\n"
      ],
      "execution_count": null,
      "outputs": []
    },
    {
      "cell_type": "code",
      "metadata": {
        "id": "m3hlaMnMGgIq"
      },
      "source": [
        "Prelude> [3,2,1] > [2,1,0]\n",
        "True\n",
        "Prelude> [3,2,1] > [2,10,100] \n",
        "True\n",
        "Prelude> [3,4,2] > [3,4]\n",
        "True\n",
        "Prelude> [3,4,2] > [2,4] \n",
        "True\n",
        "Prelude> [3,4,2] == [3,4,2]\n",
        "True\n"
      ],
      "execution_count": null,
      "outputs": []
    },
    {
      "cell_type": "code",
      "metadata": {
        "id": "F4wLT3baGqIy"
      },
      "source": [
        "Prelude> head [5,4,3,2,1] \n",
        "5\n",
        "Prelude> tail [5,4,3,2,1] \n",
        "[4,3,2,1]\n"
      ],
      "execution_count": null,
      "outputs": []
    },
    {
      "cell_type": "code",
      "metadata": {
        "id": "GFNfbwqRG0Ec"
      },
      "source": [
        "Prelude> last [5,4,3,2,1]  \n",
        "1\n",
        "Prelude> init [5,4,3,2,1] \n",
        "[5,4,3,2]\n"
      ],
      "execution_count": null,
      "outputs": []
    },
    {
      "cell_type": "markdown",
      "metadata": {
        "id": "lUNKb5yuG7lC"
      },
      "source": [
        "空リストの head を取ろうとするとエラーになる。"
      ]
    },
    {
      "cell_type": "code",
      "metadata": {
        "id": "nW8V3FxzG8Fp"
      },
      "source": [
        "Prelude> head []\n",
        "*** Exception: Prelude.head: empty list\n"
      ],
      "execution_count": null,
      "outputs": []
    },
    {
      "cell_type": "code",
      "metadata": {
        "id": "3zr0TMJkHVd-"
      },
      "source": [
        "Prelude> length [5,4,3,2,1]\n",
        "5\n",
        "Prelude> null [1,2,3]  \n",
        "False\n",
        "Prelude> null [] \n",
        "True\n",
        "Prelude> reverse [5,4,3,2,1] \n",
        "[1,2,3,4,5]\n"
      ],
      "execution_count": null,
      "outputs": []
    },
    {
      "cell_type": "code",
      "metadata": {
        "id": "x17NceVRHlSz"
      },
      "source": [
        "Prelude> take 3 [5,4,3,2,1]\n",
        "[5,4,3]\n",
        "Prelude> take 1 [3,9,3]\n",
        "[3]\n",
        "Prelude> take 5 [1,2]\n",
        "[1,2]\n",
        "Prelude> take 0 [6,6,6]\n",
        "[]\n"
      ],
      "execution_count": null,
      "outputs": []
    },
    {
      "cell_type": "code",
      "metadata": {
        "id": "IItgPWw8Hylk"
      },
      "source": [
        "Prelude> drop 3 [8,4,2,1,5,6]  \n",
        "[1,5,6]\n",
        "Prelude> drop 0 [1,2,3,4] \n",
        "[1,2,3,4]\n",
        "Prelude> drop 100 [1,2,3,4] \n",
        "[]\n"
      ],
      "execution_count": null,
      "outputs": []
    },
    {
      "cell_type": "code",
      "metadata": {
        "id": "hHOHtCnlH690"
      },
      "source": [
        "Prelude> minimum [8,4,2,1,5,6]\n",
        "1\n",
        "Prelude> maximum [1,9,2,3,4] \n",
        "9\n"
      ],
      "execution_count": null,
      "outputs": []
    },
    {
      "cell_type": "markdown",
      "metadata": {
        "id": "TMZMoyAPTOvg"
      },
      "source": [
        "# いまここ\n",
        "\n",
        "http://learnyouahaskell.com/starting-out#babys-first-functions"
      ]
    }
  ]
}