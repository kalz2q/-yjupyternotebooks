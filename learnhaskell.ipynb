{
  "nbformat": 4,
  "nbformat_minor": 0,
  "metadata": {
    "colab": {
      "name": "learnhaskell.ipynb",
      "provenance": [],
      "toc_visible": true,
      "authorship_tag": "ABX9TyO36dAAoKiLp41YlPnJCcPW",
      "include_colab_link": true
    },
    "kernelspec": {
      "name": "python3",
      "display_name": "Python 3"
    }
  },
  "cells": [
    {
      "cell_type": "markdown",
      "metadata": {
        "id": "view-in-github",
        "colab_type": "text"
      },
      "source": [
        "<a href=\"https://colab.research.google.com/github/kalz2q/mycolabnotebooks/blob/master/learnhaskell.ipynb\" target=\"_parent\"><img src=\"https://colab.research.google.com/assets/colab-badge.svg\" alt=\"Open In Colab\"/></a>"
      ]
    },
    {
      "cell_type": "markdown",
      "metadata": {
        "id": "JZqM1qwx2bFV"
      },
      "source": [
        "# メモ\n",
        "1. このノートブックは Colab で読まれることを想定している。 是非 Colab で開いてください。\n",
        "1. Colab の環境を利用して Haskellを勉強する。Colab の環境は Hakell はインストールされていないので、インストールする。\n",
        "1. Colab の環境で Haskell のインタラクティブ環境は使えないので、`%%writefile filename.hs` でファイルを作り、`!runghc filename.hs` で実行するか、`!ghc -e` でコマンドラインワンライナーで実行する。\n"
      ]
    },
    {
      "cell_type": "markdown",
      "metadata": {
        "id": "npDz1ryYbkrF"
      },
      "source": [
        "参考\n",
        "1. とりあえずは Haskell の入門書や入門サイトからサンプルプログラムを入力してみる。\n",
        "1. ワンライナー的実行  \n",
        "https://haskell.jp/blog/posts/2017/08-ghc-4way-execution.html#%E3%83%AF%E3%83%B3%E3%83%A9%E3%82%A4%E3%83%8A%E3%83%BC%E7%9A%84%E5%AE%9F%E8%A1%8C\n",
        "1. Learn You A Haskell For Great Good! (http://learnyouahaskell.com/)  \n",
        "1. A Gentle Introduction to Haskell (https://www.haskell.org/tutorial/)\n",
        "1. Yet Another Haskell Tutorial (http://users.umiacs.umd.edu/~hal/docs/daume02yaht.pdf)\n",
        "1. https://wiki.haskell.org/How_to_work_on_lists\n",
        "1. https://wiki.haskell.org/Applications_and_libraries/Data_structures\n",
        "1. https://wiki.haskell.org/Applications_and_libraries/Concurrency_and_parallelism\n",
        "1. https://wiki.haskell.org/Applications_and_libraries/GUI_libraries\n",
        "1. https://wiki.haskell.org/Applications_and_libraries/Network\n",
        "1. https://wiki.haskell.org/QuickCheck\n",
        "1. https://wiki.haskell.org/HUnit_1.0_User%27s_Guide\n",
        "1. https://wiki.haskell.org/Regex_Posix\n",
        "\n",
        "\n",
        "\n",
        "  \n",
        "  \n"
      ]
    },
    {
      "cell_type": "code",
      "metadata": {
        "id": "S-NYRxs4SuLf"
      },
      "source": [
        "# haskell(ghc)のインストール\n",
        "%%capture\n",
        "!apt install haskell-platform"
      ],
      "execution_count": null,
      "outputs": []
    },
    {
      "cell_type": "code",
      "metadata": {
        "id": "uFBBZYLDS8Ed",
        "colab": {
          "base_uri": "https://localhost:8080/"
        },
        "outputId": "70864806-6b7f-45cb-daa9-15b4bee651c2"
      },
      "source": [
        "# インストールされたことの確認\n",
        "!ghc --version"
      ],
      "execution_count": null,
      "outputs": [
        {
          "output_type": "stream",
          "text": [
            "The Glorious Glasgow Haskell Compilation System, version 8.0.2\n"
          ],
          "name": "stdout"
        }
      ]
    },
    {
      "cell_type": "code",
      "metadata": {
        "id": "Ba2HY_gpTx4I",
        "colab": {
          "base_uri": "https://localhost:8080/"
        },
        "outputId": "1ab5bbda-792f-438f-c797-e6173e8895e8"
      },
      "source": [
        "# ファイルを作る\n",
        "%%writefile hello.hs\n",
        "main = putStrLn \"hello, world\""
      ],
      "execution_count": null,
      "outputs": [
        {
          "output_type": "stream",
          "text": [
            "Writing hello.hs\n"
          ],
          "name": "stdout"
        }
      ]
    },
    {
      "cell_type": "code",
      "metadata": {
        "id": "SvIkXNjIU6iv",
        "colab": {
          "base_uri": "https://localhost:8080/"
        },
        "outputId": "b4074dbf-ca31-4b8b-8d77-d9c07c365e95"
      },
      "source": [
        "# ファイルを実行する\r\n",
        "!runghc hello.hs"
      ],
      "execution_count": null,
      "outputs": [
        {
          "output_type": "stream",
          "text": [
            "hello, world\n"
          ],
          "name": "stdout"
        }
      ]
    },
    {
      "cell_type": "code",
      "metadata": {
        "id": "f833IGbAwxVZ",
        "colab": {
          "base_uri": "https://localhost:8080/"
        },
        "outputId": "3ad3371a-afee-4062-d9fc-5d59811f3fe5"
      },
      "source": [
        "# シェル(コマンドラインワンライナー)で実行する\n",
        "# 便利なので多用する\n",
        "!ghc -e 'putStrLn \"hello world!\"'"
      ],
      "execution_count": null,
      "outputs": [
        {
          "output_type": "stream",
          "text": [
            "hello world!\n"
          ],
          "name": "stdout"
        }
      ]
    },
    {
      "cell_type": "code",
      "metadata": {
        "id": "lWcYdzaZh0Id"
      },
      "source": [
        "# ユーザーとのやり取りも次のようにすればできるが、Colab では使わないこととする\r\n",
        "%%script false\r\n",
        "!ghc -e \"interact (unlines.map reverse.lines)\""
      ],
      "execution_count": null,
      "outputs": []
    },
    {
      "cell_type": "code",
      "metadata": {
        "id": "KKwu4FRKcsNu",
        "colab": {
          "base_uri": "https://localhost:8080/"
        },
        "outputId": "f47cf60a-0ee0-4153-d75b-93412ecc1caf"
      },
      "source": [
        "# echo と getContents を使う\r\n",
        "!echo $'this is a pen\\n abcdef\\n12345' | ghc -e \"getContents >>=  print . unlines .map reverse.lines\"\r\n",
        "!echo $'this is a pen\\n abcdef\\n12345' | ghc -e \"getContents >>=  mapM_ putStrLn . map reverse.lines\""
      ],
      "execution_count": null,
      "outputs": [
        {
          "output_type": "stream",
          "text": [
            "\"nep a si siht\\nfedcba \\n54321\\n\"\n",
            "nep a si siht\n",
            "fedcba \n",
            "54321\n"
          ],
          "name": "stdout"
        }
      ]
    },
    {
      "cell_type": "markdown",
      "metadata": {
        "id": "ViF69Gd1AQy_"
      },
      "source": [
        "Haskellは `putStrLn` と `print` がある。両方共行末の改行は自動で入る。\n",
        "\n",
        "改行コードをエスケープで入れたときの挙動とが違う。\n",
        "\n",
        "putStrLn は引数が文字列で数値は扱えない。 print は数値でも大丈夫。\n",
        "\n"
      ]
    },
    {
      "cell_type": "code",
      "metadata": {
        "id": "BW6_ktjv-GDS",
        "colab": {
          "base_uri": "https://localhost:8080/"
        },
        "outputId": "9d3f82ed-d09d-449f-a9e7-b8d09f4fc50f"
      },
      "source": [
        "%%writefile print01.hs\n",
        "main = do\n",
        "  print \"Haskell\\nand\\nPython\"  \n",
        "  putStrLn \"Haskell\\nand\\nPython\"  \n"
      ],
      "execution_count": null,
      "outputs": [
        {
          "output_type": "stream",
          "text": [
            "Writing print01.hs\n"
          ],
          "name": "stdout"
        }
      ]
    },
    {
      "cell_type": "code",
      "metadata": {
        "id": "BX9GzPza3q1S",
        "colab": {
          "base_uri": "https://localhost:8080/"
        },
        "outputId": "39f21b64-9010-4218-e699-07d37057ebd8"
      },
      "source": [
        "!runghc print01.hs"
      ],
      "execution_count": null,
      "outputs": [
        {
          "output_type": "stream",
          "text": [
            "\"Haskell\\nand\\nPython\"\n",
            "Haskell\n",
            "and\n",
            "Python\n"
          ],
          "name": "stdout"
        }
      ]
    },
    {
      "cell_type": "code",
      "metadata": {
        "id": "GEUZgmSbxehO",
        "colab": {
          "base_uri": "https://localhost:8080/"
        },
        "outputId": "e72bb21b-c740-4af9-e385-7b47a284387d"
      },
      "source": [
        "# 実験 数字を直接 putStrLn の引数にするとエラーになるので show で文字列に変換する。\n",
        "!ghc -e 'putStrLn(show(32))'"
      ],
      "execution_count": null,
      "outputs": [
        {
          "output_type": "stream",
          "text": [
            "32\n"
          ],
          "name": "stdout"
        }
      ]
    },
    {
      "cell_type": "markdown",
      "metadata": {
        "id": "1hE1az0p-JCH"
      },
      "source": [
        "Haskell は関数のカッコは省略可能だが、場合によっては必要。\n",
        "\n",
        "`$`による省略も便利なので使うが、エラーの原因にもなるので注意。\n"
      ]
    },
    {
      "cell_type": "code",
      "metadata": {
        "id": "FzNpBNRN-UC0",
        "colab": {
          "base_uri": "https://localhost:8080/"
        },
        "outputId": "7b2c36d8-62b3-44b1-bd3d-5d4f100bd6c2"
      },
      "source": [
        "%%writefile if01.hs\n",
        "main = \n",
        "  let fac n = if n == 0 then 1 else n * fac (n-1)  \n",
        "  in print ( fac 42 )"
      ],
      "execution_count": null,
      "outputs": [
        {
          "output_type": "stream",
          "text": [
            "Writing if01.hs\n"
          ],
          "name": "stdout"
        }
      ]
    },
    {
      "cell_type": "code",
      "metadata": {
        "id": "9OWoPdET4N1E",
        "colab": {
          "base_uri": "https://localhost:8080/"
        },
        "outputId": "a58ea9b0-66a9-41db-f09b-ed2287f26ee8"
      },
      "source": [
        "!runghc if01.hs"
      ],
      "execution_count": null,
      "outputs": [
        {
          "output_type": "stream",
          "text": [
            "1405006117752879898543142606244511569936384000000000\n"
          ],
          "name": "stdout"
        }
      ]
    },
    {
      "cell_type": "code",
      "metadata": {
        "id": "m0M_Is7VcMPU",
        "colab": {
          "base_uri": "https://localhost:8080/"
        },
        "outputId": "a21a9772-f4c9-42a8-bd07-5636c404eee7"
      },
      "source": [
        "# 実験 コマンドラインワンライナーにできるか\r\n",
        "!ghc -e \"let fac  n = if n == 0 then 1 else n * fac (n-1) in print ( fac 42 )\""
      ],
      "execution_count": null,
      "outputs": [
        {
          "output_type": "stream",
          "text": [
            "1405006117752879898543142606244511569936384000000000\n"
          ],
          "name": "stdout"
        }
      ]
    },
    {
      "cell_type": "code",
      "metadata": {
        "id": "8w4PrTw5cqom",
        "colab": {
          "base_uri": "https://localhost:8080/"
        },
        "outputId": "f08d0ab5-02bc-4b23-c690-9e4fdc7e5e4a"
      },
      "source": [
        "# 実験 putStLn にしてみる\r\n",
        "!ghc -e \"let fac  n = if n == 0 then 1 else n * fac (n-1) in putStrLn (show ( fac 42 ))\""
      ],
      "execution_count": null,
      "outputs": [
        {
          "output_type": "stream",
          "text": [
            "1405006117752879898543142606244511569936384000000000\n"
          ],
          "name": "stdout"
        }
      ]
    },
    {
      "cell_type": "markdown",
      "metadata": {
        "id": "fPcnaEfF-Y-y"
      },
      "source": [
        "階乗を計算する関数を作って再帰的に実行している。\n",
        "\n",
        "なかなかすごいのではないか。\n"
      ]
    },
    {
      "cell_type": "markdown",
      "metadata": {
        "id": "w5wAydKX2cYY"
      },
      "source": [
        "ま、とりあえずできたということで。\n",
        "さきへ進もう。"
      ]
    },
    {
      "cell_type": "code",
      "metadata": {
        "id": "K535VVGH-lD_",
        "colab": {
          "base_uri": "https://localhost:8080/"
        },
        "outputId": "95da4cae-6ee1-4e39-d487-986f3ada7b6d"
      },
      "source": [
        "# 以下のような関数の作り方はなんと呼ぶのか。パターンマッチング?\n",
        "%%writefile fac01.hs\n",
        "fac 0 = 1  \n",
        "fac n = n * fac (n-1)  \n",
        "main = print (fac 42)  \n"
      ],
      "execution_count": null,
      "outputs": [
        {
          "output_type": "stream",
          "text": [
            "Writing fac01.hs\n"
          ],
          "name": "stdout"
        }
      ]
    },
    {
      "cell_type": "code",
      "metadata": {
        "id": "_A2BylE4LNzN",
        "colab": {
          "base_uri": "https://localhost:8080/"
        },
        "outputId": "34d1e2c3-28f3-4117-9e9a-44eccae7fbdf"
      },
      "source": [
        "!runghc fac01.hs"
      ],
      "execution_count": null,
      "outputs": [
        {
          "output_type": "stream",
          "text": [
            "1405006117752879898543142606244511569936384000000000\n"
          ],
          "name": "stdout"
        }
      ]
    },
    {
      "cell_type": "markdown",
      "metadata": {
        "id": "Eh0YyntvF0O-"
      },
      "source": [
        "# 四則演算"
      ]
    },
    {
      "cell_type": "code",
      "metadata": {
        "id": "xrXWasfNF4tO",
        "colab": {
          "base_uri": "https://localhost:8080/"
        },
        "outputId": "b01bf952-128a-4ca1-ea5e-59cd55d60129"
      },
      "source": [
        "%%writefile arithmetic01.hs\n",
        "main = do\n",
        "  print $ 3 * 5\n",
        "  print $ 4 ^ 2 - 1\n",
        "  print $ (1-5)^(3*2 - 4)\n",
        "  print $ 5 / 2"
      ],
      "execution_count": null,
      "outputs": [
        {
          "output_type": "stream",
          "text": [
            "Overwriting arithmetic01.hs\n"
          ],
          "name": "stdout"
        }
      ]
    },
    {
      "cell_type": "code",
      "metadata": {
        "id": "0bvVHssEvDKU",
        "colab": {
          "base_uri": "https://localhost:8080/"
        },
        "outputId": "72740020-4835-4878-ca71-a012af36eba8"
      },
      "source": [
        "!runghc arithmetic01.hs"
      ],
      "execution_count": null,
      "outputs": [
        {
          "output_type": "stream",
          "text": [
            "15\n",
            "15\n",
            "16\n",
            "2.5\n"
          ],
          "name": "stdout"
        }
      ]
    },
    {
      "cell_type": "code",
      "metadata": {
        "id": "KRkEzsyVdsJB",
        "colab": {
          "base_uri": "https://localhost:8080/"
        },
        "outputId": "2130ff44-3ade-44a4-c546-43c6248dffa0"
      },
      "source": [
        "!ghc -e '3*5'\r\n",
        "!ghc -e '4 ^ 2 - 1'\r\n",
        "!ghc -e '(1-5)^(3*2 - 4)'\r\n",
        "!ghc -e '5 / 2'"
      ],
      "execution_count": null,
      "outputs": [
        {
          "output_type": "stream",
          "text": [
            "15\n",
            "15\n",
            "16\n",
            "2.5\n"
          ],
          "name": "stdout"
        }
      ]
    },
    {
      "cell_type": "markdown",
      "metadata": {
        "id": "5pYgDgiE0pOk"
      },
      "source": [
        "括弧が重なるのを避けるため `$` という記法を使うと `$` 以降の結果が `$` の前の関数の引数になる。\n"
      ]
    },
    {
      "cell_type": "markdown",
      "metadata": {
        "id": "SAeWCy8897AH"
      },
      "source": [
        "\n",
        "文字列はダブルクォート（二重引用符）で囲む。 文字列の結合をするときは ++ を使う。\n",
        "  \n",
        "  \n"
      ]
    },
    {
      "cell_type": "code",
      "metadata": {
        "id": "XD-Q9HsR-5EK",
        "colab": {
          "base_uri": "https://localhost:8080/"
        },
        "outputId": "f4fccf0a-c4b7-4274-d8be-e31fd7adc0e6"
      },
      "source": [
        "%%writefile string01.hs\n",
        "main = do\n",
        "  print \"Hello\"\n",
        "  print $ \"hello\" ++ \", haskell\"\n"
      ],
      "execution_count": null,
      "outputs": [
        {
          "output_type": "stream",
          "text": [
            "Overwriting string01.hs\n"
          ],
          "name": "stdout"
        }
      ]
    },
    {
      "cell_type": "code",
      "metadata": {
        "id": "4epQKGoHvnND",
        "colab": {
          "base_uri": "https://localhost:8080/"
        },
        "outputId": "f05eefeb-a1b1-4a02-9e54-f0bdb3dbbbbd"
      },
      "source": [
        "!runghc string01.hs"
      ],
      "execution_count": null,
      "outputs": [
        {
          "output_type": "stream",
          "text": [
            "\"Hello\"\n",
            "\"hello, haskell\"\n"
          ],
          "name": "stdout"
        }
      ]
    },
    {
      "cell_type": "code",
      "metadata": {
        "id": "3Awt28XplzFA",
        "colab": {
          "base_uri": "https://localhost:8080/"
        },
        "outputId": "52b806f9-22ad-4f05-ca18-d292c9132ec0"
      },
      "source": [
        "%%writefile math01.hs\n",
        "\n",
        "main =  do\n",
        "    print $ succ 5\n",
        "    print $ truncate 6.59\n",
        "    print $ round 6.59\n",
        "    print $ sqrt 2\n",
        "    print $ not (5 < 3)\n",
        "    print $ gcd 21 14\n"
      ],
      "execution_count": null,
      "outputs": [
        {
          "output_type": "stream",
          "text": [
            "Writing math01.hs\n"
          ],
          "name": "stdout"
        }
      ]
    },
    {
      "cell_type": "code",
      "metadata": {
        "id": "VH-lYQ5ywHur",
        "colab": {
          "base_uri": "https://localhost:8080/"
        },
        "outputId": "9777e5ee-a98d-4c90-ffa9-8c286dfdabfc"
      },
      "source": [
        "!runghc math01.hs"
      ],
      "execution_count": null,
      "outputs": [
        {
          "output_type": "stream",
          "text": [
            "6\n",
            "6\n",
            "7\n",
            "1.4142135623730951\n",
            "True\n",
            "7\n"
          ],
          "name": "stdout"
        }
      ]
    },
    {
      "cell_type": "markdown",
      "metadata": {
        "id": "ctM7K9ZNwdLy"
      },
      "source": [
        "# ワンライナー\n",
        "\n",
        "`ghci -e`  でワンライナーが書ける、とういうので実験。\n"
      ]
    },
    {
      "cell_type": "code",
      "metadata": {
        "id": "kxB5SULE_Nre",
        "colab": {
          "base_uri": "https://localhost:8080/"
        },
        "outputId": "909f289c-3c65-4b11-dd36-da1530d83247"
      },
      "source": [
        "!ghc -e 'putStrLn \"hello world\"'\n",
        "!ghc -e 'print \"hello world\"'"
      ],
      "execution_count": null,
      "outputs": [
        {
          "output_type": "stream",
          "text": [
            "hello world\n",
            "\"hello world\"\n"
          ],
          "name": "stdout"
        }
      ]
    },
    {
      "cell_type": "code",
      "metadata": {
        "id": "-rjT7qBbhfnC",
        "colab": {
          "base_uri": "https://localhost:8080/"
        },
        "outputId": "164f00dd-1ace-4ef4-e0e1-b02e0d9b424a"
      },
      "source": [
        "!ghc -e  'print $ truncate (-6.59)'"
      ],
      "execution_count": null,
      "outputs": [
        {
          "output_type": "stream",
          "text": [
            "-6\n"
          ],
          "name": "stdout"
        }
      ]
    },
    {
      "cell_type": "code",
      "metadata": {
        "id": "8BX5lnthiYRv",
        "colab": {
          "base_uri": "https://localhost:8080/"
        },
        "outputId": "495b0910-f17a-4b20-c4f5-dc5075503f49"
      },
      "source": [
        "# 実験 floor が使えるかどうか\n",
        "!ghc -e 'floor(-6.59)' #=> -7"
      ],
      "execution_count": null,
      "outputs": [
        {
          "output_type": "stream",
          "text": [
            "-7\n"
          ],
          "name": "stdout"
        }
      ]
    },
    {
      "cell_type": "markdown",
      "metadata": {
        "id": "LYqikGpK1Pmh"
      },
      "source": [
        "ひとつの式の中で複数の I/O アクションを使いたい場合は、doブロックを使う。アクションはセミコロンで区切る。\n",
        "  \n",
        "  \n"
      ]
    },
    {
      "cell_type": "code",
      "metadata": {
        "id": "Ppn7NhT5iyNa",
        "colab": {
          "base_uri": "https://localhost:8080/"
        },
        "outputId": "1e472fc7-2890-4fae-abe4-9c0c86b5f270"
      },
      "source": [
        "!ghc -e 'do {putStr \"2 + 2 = \"; print(2 + 2)}'\n",
        "!ghc -e 'do { putStrLn \"ABCDE\" ; putStrLn \"12345\" }  '"
      ],
      "execution_count": null,
      "outputs": [
        {
          "output_type": "stream",
          "text": [
            "2 + 2 = 4\n",
            "ABCDE\n",
            "12345\n"
          ],
          "name": "stdout"
        }
      ]
    },
    {
      "cell_type": "code",
      "metadata": {
        "id": "QqsKOdWoI2J6",
        "colab": {
          "base_uri": "https://localhost:8080/"
        },
        "outputId": "c7f3d57a-454f-4438-c26c-0fa4c02bcc8f"
      },
      "source": [
        "!ghc -e '\"hello\"'\n",
        "!ghc -e '[1,2,3]'\n",
        "!ghc -e '3'"
      ],
      "execution_count": null,
      "outputs": [
        {
          "output_type": "stream",
          "text": [
            "\"hello\"\n",
            "[1,2,3]\n",
            "3\n"
          ],
          "name": "stdout"
        }
      ]
    },
    {
      "cell_type": "code",
      "metadata": {
        "colab": {
          "base_uri": "https://localhost:8080/"
        },
        "id": "AeokIoRmR8CV",
        "outputId": "a65a7e36-651e-4c7d-becd-8ea744e8d86a"
      },
      "source": [
        "!ghc -e 'map (\\x ->  x^2) [1..3]'"
      ],
      "execution_count": null,
      "outputs": [
        {
          "output_type": "stream",
          "text": [
            "[1,4,9]\n"
          ],
          "name": "stdout"
        }
      ]
    },
    {
      "cell_type": "code",
      "metadata": {
        "colab": {
          "base_uri": "https://localhost:8080/"
        },
        "id": "dtJbwAKTSwYF",
        "outputId": "a5987a68-6125-4da2-b9f1-3cab5ced8f8d"
      },
      "source": [
        "!ghc -e 'mapM print [1..3]'\r\n",
        "!ghc -e 'mapM_ print [1..3]' # 結果のリストを返さないバージョン"
      ],
      "execution_count": null,
      "outputs": [
        {
          "output_type": "stream",
          "text": [
            "1\n",
            "2\n",
            "3\n",
            "[(),(),()]\n",
            "1\n",
            "2\n",
            "3\n"
          ],
          "name": "stdout"
        }
      ]
    },
    {
      "cell_type": "code",
      "metadata": {
        "colab": {
          "base_uri": "https://localhost:8080/"
        },
        "id": "91UoXa9HTXHZ",
        "outputId": "051ff614-436c-48af-fcee-2e820c85258a"
      },
      "source": [
        "!echo 'this\\nis' | ghc -e 'getLine'\r\n",
        "!echo\r\n",
        "!echo $'this\\nis' | ghc -e 'getLine'\r\n",
        "!echo $'this\\nis' | ghc -e 'getContents >>= print . lines'"
      ],
      "execution_count": null,
      "outputs": [
        {
          "output_type": "stream",
          "text": [
            "\"this\\\\nis\"\n",
            "\n",
            "\"this\"\n",
            "[\"this\",\"is\"]\n"
          ],
          "name": "stdout"
        }
      ]
    },
    {
      "cell_type": "code",
      "metadata": {
        "colab": {
          "base_uri": "https://localhost:8080/"
        },
        "id": "WQO_woD2Tq2K",
        "outputId": "e19939b4-9d4d-438a-c652-ace0beb03f90"
      },
      "source": [
        "!echo $'this\\nis' | ghc -e 'getLine >>= putStrLn'\r\n",
        "!echo\r\n",
        "!echo $'this\\nis' | ghc -e 'putStrLn =<< getLine'\r\n",
        "!echo\r\n",
        "!echo $'this\\nis' | ghc -e 'do {x <- getLine ; putStrLn x}'\r\n",
        "!echo\r\n",
        "!echo $'this\\nis' | ghc -e 'do {x <- getContents ; mapM_ print (lines(x))}'"
      ],
      "execution_count": null,
      "outputs": [
        {
          "output_type": "stream",
          "text": [
            "this\n",
            "\n",
            "this\n",
            "\n",
            "this\n",
            "\"this\"\n",
            "\"is\"\n"
          ],
          "name": "stdout"
        }
      ]
    },
    {
      "cell_type": "code",
      "metadata": {
        "colab": {
          "base_uri": "https://localhost:8080/"
        },
        "id": "FfBgDIpqUvIJ",
        "outputId": "fad7c560-dfe8-499a-eb53-da0919d21cee"
      },
      "source": [
        "!echo $'John\\nMike' | ghc -e 'interact $ unlines . map (\"hello \" ++) . lines'\r\n",
        "!echo\r\n",
        "!echo $'John\\nMike' | ghc -e 'interact $ unlines.map (\"hello \" ++).lines'"
      ],
      "execution_count": null,
      "outputs": [
        {
          "output_type": "stream",
          "text": [
            "hello John\n",
            "hello Mike\n",
            "\n",
            "hello John\n",
            "hello Mike\n"
          ],
          "name": "stdout"
        }
      ]
    },
    {
      "cell_type": "code",
      "metadata": {
        "colab": {
          "base_uri": "https://localhost:8080/"
        },
        "id": "i0HK2HFzVMOP",
        "outputId": "f1943810-76f9-4f0f-d6ef-94388dbb920f"
      },
      "source": [
        "!echo\r\n",
        "!echo $'John\\nMike' | ghc -e 'map (\"hello \" ++).lines <$> getContents'"
      ],
      "execution_count": null,
      "outputs": [
        {
          "output_type": "stream",
          "text": [
            "\n",
            "[\"hello John\",\"hello Mike\"]\n"
          ],
          "name": "stdout"
        }
      ]
    },
    {
      "cell_type": "markdown",
      "metadata": {
        "id": "LMNeEUkYg52W"
      },
      "source": [
        "入力を最終的にリストで受取る\r\n",
        "\r\n",
        "!echo $'10 20\\n30 40\\n50 60' \r\n",
        "\r\n",
        "を\r\n",
        "\r\n",
        " [[10,20],[30,40],[50,60]]で受け取りたい"
      ]
    },
    {
      "cell_type": "code",
      "metadata": {
        "colab": {
          "base_uri": "https://localhost:8080/"
        },
        "id": "LoeQxmt2hSDJ",
        "outputId": "9a8422ff-b520-4a3f-d83e-d06bb1dbd484"
      },
      "source": [
        "# getContents で全体を取得\r\n",
        "!echo $'10 20\\n30 40\\n50 60' | ghc -e 'getContents'"
      ],
      "execution_count": null,
      "outputs": [
        {
          "output_type": "stream",
          "text": [
            "\"10 20\\n30 40\\n50 60\\n\"\n"
          ],
          "name": "stdout"
        }
      ]
    },
    {
      "cell_type": "code",
      "metadata": {
        "colab": {
          "base_uri": "https://localhost:8080/"
        },
        "id": "GLZ5h8Krf1B0",
        "outputId": "2f7d4745-0575-4afd-b48c-a6dc77849e7f"
      },
      "source": [
        "# <- で IO String から String に変換する\r\n",
        "# lines で行に分割\r\n",
        "!echo $'10 20\\n30 40\\n50 60' | ghc -e 'do {input <- getContents; let strList = lines(input) in print strList}'"
      ],
      "execution_count": null,
      "outputs": [
        {
          "output_type": "stream",
          "text": [
            "[\"10 20\",\"30 40\",\"50 60\"]\n"
          ],
          "name": "stdout"
        }
      ]
    },
    {
      "cell_type": "code",
      "metadata": {
        "colab": {
          "base_uri": "https://localhost:8080/"
        },
        "id": "Go5j9IRgiZpq",
        "outputId": "0c19b566-b046-420b-ce91-73b427852a36"
      },
      "source": [
        "# ファンクターを使うと直接 lines を getContents に働かせる\r\n",
        "!echo $'10 20\\n30 40\\n50 60' | ghc -e 'lines <$> getContents'"
      ],
      "execution_count": null,
      "outputs": [
        {
          "output_type": "stream",
          "text": [
            "[\"10 20\",\"30 40\",\"50 60\"]\n"
          ],
          "name": "stdout"
        }
      ]
    },
    {
      "cell_type": "code",
      "metadata": {
        "colab": {
          "base_uri": "https://localhost:8080/"
        },
        "id": "ZzXF6aeOjHCO",
        "outputId": "e80e9d61-edfb-445c-c9f3-f5113db5f7e9"
      },
      "source": [
        "# words を使ってさらにバラす\r\n",
        "# ただこのままでは数値になっていない\r\n",
        "!echo $'10 20\\n30 40\\n50 60' | ghc -e 'map words . lines <$> getContents'"
      ],
      "execution_count": null,
      "outputs": [
        {
          "output_type": "stream",
          "text": [
            "[[\"10\",\"20\"],[\"30\",\"40\"],[\"50\",\"60\"]]\n"
          ],
          "name": "stdout"
        }
      ]
    },
    {
      "cell_type": "code",
      "metadata": {
        "colab": {
          "base_uri": "https://localhost:8080/"
        },
        "id": "mbTWEw-KjvxO",
        "outputId": "8b53fb17-45d7-4d15-a240-1557ef515096"
      },
      "source": [
        "# map read で数値にする\r\n",
        "!echo $'10 20\\n30 40\\n50 60' | ghc -e 'map (map (read::String -> Int)) . map words . lines <$> getContents'\r\n",
        "!echo \r\n",
        "!echo $'10 20\\n30 40\\n50 60' | ghc -e 'map (map (read::String -> Int) . words) . lines <$> getContents'\r\n",
        "!echo \r\n",
        "!echo $'10 20\\n30 40\\n50 60' | ghc -e 'getContents >>= print . map (map (read::String -> Int) . words) . lines'"
      ],
      "execution_count": null,
      "outputs": [
        {
          "output_type": "stream",
          "text": [
            "[[10,20],[30,40],[50,60]]\n",
            "\n",
            "[[10,20],[30,40],[50,60]]\n",
            "\n",
            "[[10,20],[30,40],[50,60]]\n"
          ],
          "name": "stdout"
        }
      ]
    },
    {
      "cell_type": "code",
      "metadata": {
        "colab": {
          "base_uri": "https://localhost:8080/"
        },
        "id": "Meu2FOwQlIPQ",
        "outputId": "d487ff7a-7862-4b27-8fad-6a2d3cdd3297"
      },
      "source": [
        "# 入力が !echo $'3\\n10 20\\n30 40\\n50 60' のようにデータ数が冒頭にある場合\r\n",
        "!echo $'3\\n10 20\\n30 40\\n50 60' | ghc -e 'getContents >>=  print . map (map (read::String -> Int) . words).(drop 1).lines'\r\n",
        "!echo\r\n",
        "!echo $'3\\n10 20\\n30 40\\n50 60' | ghc -e 'getContents >>=  print.map(map(read::String -> Int).words).tail.lines'\r\n"
      ],
      "execution_count": null,
      "outputs": [
        {
          "output_type": "stream",
          "text": [
            "[[10,20],[30,40],[50,60]]\n",
            "\n",
            "[[10,20],[30,40],[50,60]]\n"
          ],
          "name": "stdout"
        }
      ]
    },
    {
      "cell_type": "code",
      "metadata": {
        "colab": {
          "base_uri": "https://localhost:8080/"
        },
        "id": "lTCE7DTH9p7l",
        "outputId": "7526521a-6961-4204-d6e7-2b4c36523eff"
      },
      "source": [
        "# >>= はデータの流れが途中から逆方向になるが\r\n",
        "# コマンドラインワンライナーでは便利\r\n",
        "!echo $'10 20' | ghc -e 'getLine >>= print.sum.map read.words'"
      ],
      "execution_count": null,
      "outputs": [
        {
          "output_type": "stream",
          "text": [
            "30\n"
          ],
          "name": "stdout"
        }
      ]
    },
    {
      "cell_type": "code",
      "metadata": {
        "id": "dFGoBpsu-Psz"
      },
      "source": [
        "# コマンドラインワンライナーでリスト内包表記は使えるか => 使える\r\n",
        "!ghc -e '[x^2 | x <- [1..10]]'"
      ],
      "execution_count": null,
      "outputs": []
    },
    {
      "cell_type": "code",
      "metadata": {
        "colab": {
          "base_uri": "https://localhost:8080/"
        },
        "id": "8omsjbj_-E20",
        "outputId": "b87e7091-1531-4811-ee47-53b964c86913"
      },
      "source": [
        "# 各行の和を取る\r\n",
        "!echo $'10 20\\n30 40\\n50 60' | ghc -e 'getContents >>= print.map(sum.map read.words).lines'\r\n",
        "\r\n",
        "# 冒頭にデータ数があるのを捨てる場合\r\n",
        "!echo $'3\\n10 20\\n30 40\\n50 60' | ghc -e 'getContents >>= print.map(sum.map read.words).tail.lines'\r\n"
      ],
      "execution_count": null,
      "outputs": [
        {
          "output_type": "stream",
          "text": [
            "[30,70,110]\n",
            "[30,70,110]\n"
          ],
          "name": "stdout"
        }
      ]
    },
    {
      "cell_type": "code",
      "metadata": {
        "colab": {
          "base_uri": "https://localhost:8080/"
        },
        "id": "TWIfDATTBnVf",
        "outputId": "32fe7f37-449a-4bcd-f91f-31019a826ffa"
      },
      "source": [
        "# 結果を一つずつ改行して出力する\r\n",
        "!echo $'3\\n10 20\\n30 40\\n50 60' | ghc -e 'getContents >>= mapM_ print.map(sum.map read.words).tail.lines'\r\n"
      ],
      "execution_count": null,
      "outputs": [
        {
          "output_type": "stream",
          "text": [
            "30\n",
            "70\n",
            "110\n"
          ],
          "name": "stdout"
        }
      ]
    },
    {
      "cell_type": "code",
      "metadata": {
        "id": "OJiuL9yRtU3E",
        "colab": {
          "base_uri": "https://localhost:8080/"
        },
        "outputId": "8a671a3a-8ee8-4211-c2aa-6b1ecea46b19"
      },
      "source": [
        "# zip を使う\r\n",
        "!ghc -e \"zip [1..3] ['A'..]\""
      ],
      "execution_count": null,
      "outputs": [
        {
          "output_type": "stream",
          "text": [
            "[(1,'A'),(2,'B'),(3,'C')]\n"
          ],
          "name": "stdout"
        }
      ]
    },
    {
      "cell_type": "code",
      "metadata": {
        "id": "XhG48QFRtzF2",
        "colab": {
          "base_uri": "https://localhost:8080/"
        },
        "outputId": "23e73959-0350-40ba-89aa-876022cc1298"
      },
      "source": [
        "# すべての組み合わせを生成する\r\n",
        "# <*> はアプリカティブで <$> はファンクター\r\n",
        "!ghc -e \"(,) <$> [1..3] <*> ['A'..'C']\""
      ],
      "execution_count": null,
      "outputs": [
        {
          "output_type": "stream",
          "text": [
            "[(1,'A'),(1,'B'),(1,'C'),(2,'A'),(2,'B'),(2,'C'),(3,'A'),(3,'B'),(3,'C')]\n"
          ],
          "name": "stdout"
        }
      ]
    },
    {
      "cell_type": "code",
      "metadata": {
        "id": "EbcsT3_Vv1DB",
        "colab": {
          "base_uri": "https://localhost:8080/"
        },
        "outputId": "555c44cd-33fa-4564-a44d-2a84c2726a8d"
      },
      "source": [
        "# アプリカティブはつぎのように作用する\r\n",
        "!ghc -e '(<*>) [length, Data.Char.digitToInt . head] [\"f\", \"ba\", \"baz\"]'\r\n",
        "!ghc -e '(<*>) (Just (\\x -> x * x)) (Just 3)'\r\n",
        "!ghc -e '(<*>) Nothing (Just 3)'\r\n",
        "!ghc -e '(<*>) (Just (\\x -> x * x)) Nothing' "
      ],
      "execution_count": null,
      "outputs": [
        {
          "output_type": "stream",
          "text": [
            "[1,2,3,15,11,11]\n",
            "Just 9\n",
            "Nothing\n",
            "Nothing\n"
          ],
          "name": "stdout"
        }
      ]
    },
    {
      "cell_type": "code",
      "metadata": {
        "id": "vBX5cY5IxfyM",
        "colab": {
          "base_uri": "https://localhost:8080/"
        },
        "outputId": "0714a93e-7d4c-4e6f-913f-9daae3cb70cb"
      },
      "source": [
        "# アプリカティブとファンクターとラムダ式の応用\r\n",
        "# なんでもできそう\r\n",
        "!ghc -e '(\\x y -> x ++ \"-\" ++ y) <$> [\"2016\", \"2017\", \"2018\"] <*> [\"Jan\", \"Feb\", \"Mar\"]'"
      ],
      "execution_count": null,
      "outputs": [
        {
          "output_type": "stream",
          "text": [
            "[\"2016-Jan\",\"2016-Feb\",\"2016-Mar\",\"2017-Jan\",\"2017-Feb\",\"2017-Mar\",\"2018-Jan\",\"2018-Feb\",\"2018-Mar\"]\n"
          ],
          "name": "stdout"
        }
      ]
    },
    {
      "cell_type": "code",
      "metadata": {
        "id": "-E7NFsLsYtGU",
        "colab": {
          "base_uri": "https://localhost:8080/"
        },
        "outputId": "d5844e9b-86ef-4247-98a6-5bb47468928f"
      },
      "source": [
        "!ghc -e ':i foldl'\r\n"
      ],
      "execution_count": null,
      "outputs": [
        {
          "output_type": "stream",
          "text": [
            "class Foldable (t :: * -> *) where\n",
            "  ...\n",
            "  foldl :: (b -> a -> b) -> b -> t a -> b\n",
            "  ...\n",
            "  \t-- Defined in ‘Data.Foldable’\n"
          ],
          "name": "stdout"
        }
      ]
    },
    {
      "cell_type": "code",
      "metadata": {
        "id": "683uqbizZLEO",
        "colab": {
          "base_uri": "https://localhost:8080/"
        },
        "outputId": "3acd1fad-bfaf-4dba-9385-032733002cd5"
      },
      "source": [
        "!NUM=5; ghc -e \"[1..$NUM]\"\r\n",
        "!X1=\"[1..3]\"; X2=\"['A'..'C']\"; ghc -e \"zip $X1 $X2\"\r\n",
        "!X1=\"[1..3]\"; X2=\"['A'..'C']\"; ghc -e \"(,) <$> $X1 <*> $X2\"\r\n"
      ],
      "execution_count": null,
      "outputs": [
        {
          "output_type": "stream",
          "text": [
            "[1,2,3,4,5]\n",
            "[(1,'A'),(2,'B'),(3,'C')]\n",
            "[(1,'A'),(1,'B'),(1,'C'),(2,'A'),(2,'B'),(2,'C'),(3,'A'),(3,'B'),(3,'C')]\n"
          ],
          "name": "stdout"
        }
      ]
    },
    {
      "cell_type": "code",
      "metadata": {
        "id": "qCNsBQUlbIN_"
      },
      "source": [
        "%%capture\r\n",
        "!apt install haskell-platform"
      ],
      "execution_count": null,
      "outputs": []
    },
    {
      "cell_type": "code",
      "metadata": {
        "id": "zwm1LnWFa-S1",
        "colab": {
          "base_uri": "https://localhost:8080/"
        },
        "outputId": "64750665-a796-4f27-8f22-d4e7894e82d8"
      },
      "source": [
        "!echo $'1\\n2\\n3' | ghc -e \":t lines <$> getContents\"\r\n",
        "!echo\r\n",
        "!echo $'1\\n2\\n3' | ghc -e \"getContents >>= print.lines\"\r\n",
        "!echo\r\n",
        "!echo $'1\\n2\\n3' | ghc -e \":t lines <$> getContents\"\r\n",
        "!echo $'1\\n2\\n3' | ghc -e \":t (getContents >>= print.lines)\"\r\n"
      ],
      "execution_count": null,
      "outputs": [
        {
          "output_type": "stream",
          "text": [
            "[\"1\",\"2\",\"3\"]\n",
            "\n",
            "[\"1\",\"2\",\"3\"]\n",
            "\n",
            "lines <$> getContents :: IO [String]\n",
            "(getContents >>= print.lines) :: IO ()\n"
          ],
          "name": "stdout"
        }
      ]
    },
    {
      "cell_type": "code",
      "metadata": {
        "id": "t_1LrKmAduhI",
        "colab": {
          "base_uri": "https://localhost:8080/"
        },
        "outputId": "970c3d47-6f17-4479-ba71-2a3731575bbd"
      },
      "source": [
        "!ghc -e $':t (>>=)'\r\n",
        "!ghc -e $'do {:t (->)}'"
      ],
      "execution_count": null,
      "outputs": [
        {
          "output_type": "stream",
          "text": [
            "(>>=) :: Monad m => m a -> (a -> m b) -> m b\n",
            "\n",
            "<interactive>:0:5: error: parse error on input ‘:’\n"
          ],
          "name": "stdout"
        }
      ]
    },
    {
      "cell_type": "code",
      "metadata": {
        "id": "dnWxbkdVc5jH",
        "colab": {
          "base_uri": "https://localhost:8080/"
        },
        "outputId": "eaf6f526-4f9f-493a-bda3-60319f76957b"
      },
      "source": [
        "!echo $'1\\n2\\n3' | ghc -e \"(sum . map read .lines) <$> getContents\"\r\n",
        "!echo\r\n",
        "!echo $'1\\n2\\n3' | ghc -e \"getContents >>= print . sum . map read .lines \""
      ],
      "execution_count": null,
      "outputs": [
        {
          "output_type": "stream",
          "text": [
            "6\n",
            "\n",
            "6\n"
          ],
          "name": "stdout"
        }
      ]
    },
    {
      "cell_type": "code",
      "metadata": {
        "id": "K2BcZf_AdRyv",
        "colab": {
          "base_uri": "https://localhost:8080/"
        },
        "outputId": "a9291ee1-9d41-43ab-8eb3-36ae38f7efd6"
      },
      "source": [
        "!echo $'1\\n2\\n3' | ghc -e \"interact $ unlines . map (show . (*2) . (read::String -> Int)) . lines\"\r\n",
        "!echo\r\n",
        "!echo $'1\\n2\\n3' | ghc -e \"getContents >>= mapM_ putStrLn .  map (show . (*2) . (read::String -> Int)) . lines\""
      ],
      "execution_count": null,
      "outputs": [
        {
          "output_type": "stream",
          "text": [
            "2\n",
            "4\n",
            "6\n",
            "\n",
            "2\n",
            "4\n",
            "6\n"
          ],
          "name": "stdout"
        }
      ]
    },
    {
      "cell_type": "code",
      "metadata": {
        "id": "iA-Mj7OaeT2O",
        "colab": {
          "base_uri": "https://localhost:8080/"
        },
        "outputId": "9b38b6d7-5177-4706-8231-7dbfa575e3cd"
      },
      "source": [
        "!ghc -e \"let x = 1; y = 2 in x+y\""
      ],
      "execution_count": null,
      "outputs": [
        {
          "output_type": "stream",
          "text": [
            "3\n"
          ],
          "name": "stdout"
        }
      ]
    },
    {
      "cell_type": "code",
      "metadata": {
        "id": "C0TgtF1D4ZeL",
        "colab": {
          "base_uri": "https://localhost:8080/"
        },
        "outputId": "bae9febd-00ba-4012-9a29-2461a8f747bc"
      },
      "source": [
        "!ghc -e \"let {x = 1; y = 2} in x+y\"\n"
      ],
      "execution_count": null,
      "outputs": [
        {
          "output_type": "stream",
          "text": [
            "3\n"
          ],
          "name": "stdout"
        }
      ]
    },
    {
      "cell_type": "code",
      "metadata": {
        "id": "eJNxfqPB4jGR",
        "colab": {
          "base_uri": "https://localhost:8080/"
        },
        "outputId": "52aef52d-aa3e-4ba3-b2b9-98f2ea643d35"
      },
      "source": [
        "!ghc -e \"do {let x = 1; y = 2 in x+y}\""
      ],
      "execution_count": null,
      "outputs": [
        {
          "output_type": "stream",
          "text": [
            "3\n"
          ],
          "name": "stdout"
        }
      ]
    },
    {
      "cell_type": "code",
      "metadata": {
        "id": "eqtcvFBOecj8",
        "colab": {
          "base_uri": "https://localhost:8080/"
        },
        "outputId": "75775752-50b6-4db4-b051-1aa510de34fe"
      },
      "source": [
        "!ghc -e 'Text.Printf.printf \"%s %d\\n\" \"abc\" 1'"
      ],
      "execution_count": null,
      "outputs": [
        {
          "output_type": "stream",
          "text": [
            "abc 1\n"
          ],
          "name": "stdout"
        }
      ]
    },
    {
      "cell_type": "markdown",
      "metadata": {
        "id": "hXUdOhIL448y"
      },
      "source": [
        "上の欄で `Text.Printf.printf` として printf を使っている。 import しなくてもパッケージ名を書けば使えるものもあるということか。 コマンドラインワンライナーでは import はできない。\n",
        "\n",
        "import しないで使えるもののリストが欲しい。"
      ]
    },
    {
      "cell_type": "code",
      "metadata": {
        "id": "DKODrRuq-gbE",
        "colab": {
          "base_uri": "https://localhost:8080/"
        },
        "outputId": "aab3ed7f-7e97-4ea1-92c8-56fbf8e14007"
      },
      "source": [
        "!ghc -e $'Data.List.sort([3,1,2])'"
      ],
      "execution_count": null,
      "outputs": [
        {
          "output_type": "stream",
          "text": [
            "[1,2,3]\n"
          ],
          "name": "stdout"
        }
      ]
    },
    {
      "cell_type": "code",
      "metadata": {
        "id": "NgXPOOkv_PBR",
        "colab": {
          "base_uri": "https://localhost:8080/"
        },
        "outputId": "cc53b23b-3432-4738-9a85-b46264d2a8b8"
      },
      "source": [
        "!ghc -e $'pi'\n",
        "!ghc -e $'exp(1)'"
      ],
      "execution_count": null,
      "outputs": [
        {
          "output_type": "stream",
          "text": [
            "3.141592653589793\n",
            "2.718281828459045\n"
          ],
          "name": "stdout"
        }
      ]
    },
    {
      "cell_type": "code",
      "metadata": {
        "id": "UMpvvcWQerfM",
        "colab": {
          "base_uri": "https://localhost:8080/"
        },
        "outputId": "a5a7e370-0469-4bc1-b56d-45070aa21253"
      },
      "source": [
        "!ghc -e \"sin(pi/2)\""
      ],
      "execution_count": null,
      "outputs": [
        {
          "output_type": "stream",
          "text": [
            "1.0\n"
          ],
          "name": "stdout"
        }
      ]
    },
    {
      "cell_type": "code",
      "metadata": {
        "id": "mBdJ4evlexS0",
        "colab": {
          "base_uri": "https://localhost:8080/"
        },
        "outputId": "0d2f4306-69cd-4d6f-e910-a162d8c735f9"
      },
      "source": [
        "!ghc -e \"[sin (n * pi/8) | n <- [0..4]]\""
      ],
      "execution_count": null,
      "outputs": [
        {
          "output_type": "stream",
          "text": [
            "[0.0,0.3826834323650898,0.7071067811865475,0.9238795325112867,1.0]\n"
          ],
          "name": "stdout"
        }
      ]
    },
    {
      "cell_type": "code",
      "metadata": {
        "id": "pbiCpiI5e5BR",
        "colab": {
          "base_uri": "https://localhost:8080/"
        },
        "outputId": "43fa118f-dcca-4c9f-a965-9d0314c477ca"
      },
      "source": [
        "!ghc -e 'replicate 5 \"hello\"'"
      ],
      "execution_count": null,
      "outputs": [
        {
          "output_type": "stream",
          "text": [
            "[\"hello\",\"hello\",\"hello\",\"hello\",\"hello\"]\n"
          ],
          "name": "stdout"
        }
      ]
    },
    {
      "cell_type": "code",
      "metadata": {
        "id": "0DyTBh1cs5wg"
      },
      "source": [
        "%%capture\n",
        "!apt install haskell-platform"
      ],
      "execution_count": null,
      "outputs": []
    },
    {
      "cell_type": "code",
      "metadata": {
        "colab": {
          "base_uri": "https://localhost:8080/"
        },
        "id": "pMB4Chk5tGbE",
        "outputId": "44b0af1f-0b92-4545-bdf3-d617ffa8144f"
      },
      "source": [
        "!ghc -e $'replicate 5 5'\n",
        "!ghc -e $'replicate 5 [5]'\n",
        "!ghc -e $'replicate 5 \\'x\\''"
      ],
      "execution_count": null,
      "outputs": [
        {
          "output_type": "stream",
          "text": [
            "[5,5,5,5,5]\n",
            "[[5],[5],[5],[5],[5]]\n",
            "\"xxxxx\"\n"
          ],
          "name": "stdout"
        }
      ]
    },
    {
      "cell_type": "markdown",
      "metadata": {
        "id": "T7qCPk48Fmmu"
      },
      "source": [
        "# 型について少し\n"
      ]
    },
    {
      "cell_type": "markdown",
      "metadata": {
        "id": "3tfVY2QnJs1Y"
      },
      "source": [
        "型宣言"
      ]
    },
    {
      "cell_type": "code",
      "metadata": {
        "id": "iOEMdj3kkbsb",
        "colab": {
          "base_uri": "https://localhost:8080/"
        },
        "outputId": "1907fa75-dfba-4e21-a0c8-96ac07547bc1"
      },
      "source": [
        "# 型宣言\n",
        "!ghc -e '5::Int'\n",
        "!ghc -e '5::Double'"
      ],
      "execution_count": null,
      "outputs": [
        {
          "output_type": "stream",
          "text": [
            "5\n",
            "5.0\n"
          ],
          "name": "stdout"
        }
      ]
    },
    {
      "cell_type": "code",
      "metadata": {
        "id": "R8mbMN4HkmLf",
        "colab": {
          "base_uri": "https://localhost:8080/"
        },
        "outputId": "5742e34f-d9f8-4745-b670-5a19e9621153"
      },
      "source": [
        "!ghc -e ':t True'\n",
        "!ghc -e $':t \\'X\\''\n",
        "!ghc -e ':t \"hello haskell\"'"
      ],
      "execution_count": null,
      "outputs": [
        {
          "output_type": "stream",
          "text": [
            "True :: Bool\n",
            "'X' :: Char\n",
            "\"hello haskell\" :: [Char]\n"
          ],
          "name": "stdout"
        }
      ]
    },
    {
      "cell_type": "code",
      "metadata": {
        "id": "rwn1tY4gG528",
        "colab": {
          "base_uri": "https://localhost:8080/"
        },
        "outputId": "0e4989d4-2d0c-4b3f-d7d1-d7682d2a4479"
      },
      "source": [
        "# bash で $'string' とすると string 内で backslash による escape が意味を持つ。\n",
        "# \\t, \\n などが使え、\\' がシングルクォートになる。\n",
        "!ghc -e $':t \\'X\\''\n",
        "!ghc -e $':t \"hello\"'\n",
        "!ghc -e ':t \"hello\"'\n",
        "!ghc -e ':t '\"'\"'X'\"'\"\n",
        "!ghc -e ':t '\\''X'\\'\n",
        "!ghc -e  \":t 'X'\"\n",
        "!echo $'hel\\tlo\\nhello'"
      ],
      "execution_count": null,
      "outputs": [
        {
          "output_type": "stream",
          "text": [
            "'X' :: Char\n",
            "\"hello\" :: [Char]\n",
            "\"hello\" :: [Char]\n",
            "'X' :: Char\n",
            "'X' :: Char\n",
            "'X' :: Char\n",
            "hel\tlo\n",
            "hello\n"
          ],
          "name": "stdout"
        }
      ]
    },
    {
      "cell_type": "markdown",
      "metadata": {
        "id": "shyizwS1F5MZ"
      },
      "source": [
        "[Char]はStringの別名。 Char のリスト。\n"
      ]
    },
    {
      "cell_type": "code",
      "metadata": {
        "id": "Rl2CyyheJFZQ",
        "colab": {
          "base_uri": "https://localhost:8080/"
        },
        "outputId": "a8939f96-d1e6-49c6-97f1-ffbc3d46cbb3"
      },
      "source": [
        "!ghc -e ':t 42'\n",
        "!ghc -e ':t 42.0'\n",
        "!ghc -e ':t gcd 15 20'"
      ],
      "execution_count": null,
      "outputs": [
        {
          "output_type": "stream",
          "text": [
            "42 :: Num t => t\n",
            "42.0 :: Fractional t => t\n",
            "gcd 15 20 :: Integral a => a\n"
          ],
          "name": "stdout"
        }
      ]
    },
    {
      "cell_type": "markdown",
      "metadata": {
        "id": "j5HGk6ZpuPT5"
      },
      "source": [
        "上結果の Num, Fractional, Integral は、型クラス。"
      ]
    },
    {
      "cell_type": "code",
      "metadata": {
        "id": "uveus_IVNwiq",
        "colab": {
          "base_uri": "https://localhost:8080/"
        },
        "outputId": "f3f9237d-c24b-4521-d542-ed1e63fc8317"
      },
      "source": [
        "# カインドと型クラス\r\n",
        "!ghc -e ':k Maybe'\r\n",
        "!ghc -e ':k Fractional'\r\n",
        "!ghc -e ':k Num'\r\n",
        "!ghc -e ':k Integral'\r\n",
        "!echo\r\n",
        "# アプリカティブ、ファンクター、モナド\r\n",
        "!ghc -e ':t (*)'\r\n",
        "!ghc -e ':t (<*>)'\r\n",
        "!ghc -e ':t (<$>)'\r\n",
        "!ghc -e ':t (>>=)'\r\n",
        "!ghc -e ':t (=<<)'\r\n",
        "\r\n",
        "# IOアクションの -> はタイプを取り出せない\r\n",
        "# !ghc -e ':t (->))'\r\n",
        "# 1. do 節の中で IO から IO でない文字列へ変換して変数に代入する\r\n",
        "# 2. リスト内包表記の中で、範囲から中身を取り出す\r\n",
        "# 3. case文の中で、場合分けの結果を表示する\r\n",
        "# 4. 関数定義で、引数と引数の間、引数と返り値の間を示す。\r\n"
      ],
      "execution_count": null,
      "outputs": [
        {
          "output_type": "stream",
          "text": [
            "Maybe :: * -> *\n",
            "Fractional :: * -> Constraint\n",
            "Num :: * -> Constraint\n",
            "Integral :: * -> Constraint\n",
            "\n",
            "(*) :: Num a => a -> a -> a\n",
            "(<*>) :: Applicative f => f (a -> b) -> f a -> f b\n",
            "(<$>) :: Functor f => (a -> b) -> f a -> f b\n",
            "(>>=) :: Monad m => m a -> (a -> m b) -> m b\n",
            "(=<<) :: Monad m => (a -> m b) -> m a -> m b\n"
          ],
          "name": "stdout"
        }
      ]
    },
    {
      "cell_type": "code",
      "metadata": {
        "id": "avSWO7A2Rn7V",
        "colab": {
          "base_uri": "https://localhost:8080/"
        },
        "outputId": "a9bc939b-dd84-453b-8892-2d7183f5d032"
      },
      "source": [
        "!ghc -e ':t print'"
      ],
      "execution_count": null,
      "outputs": [
        {
          "output_type": "stream",
          "text": [
            "print :: Show a => a -> IO ()\n"
          ],
          "name": "stdout"
        }
      ]
    },
    {
      "cell_type": "code",
      "metadata": {
        "colab": {
          "base_uri": "https://localhost:8080/"
        },
        "id": "GdN5W8GFvI0h",
        "outputId": "4a880e84-44da-4607-c1ac-05b1120541c2"
      },
      "source": [
        "!ghc -e $':t (=>)'\n",
        "!ghc -e $':t (->)'"
      ],
      "execution_count": null,
      "outputs": [
        {
          "output_type": "stream",
          "text": [
            "\n",
            "<interactive>:1:2: error: parse error on input ‘=>’\n",
            "\n",
            "<interactive>:1:2: error: parse error on input ‘->’\n"
          ],
          "name": "stdout"
        }
      ]
    },
    {
      "cell_type": "markdown",
      "metadata": {
        "id": "0VJQp8dzJw7U"
      },
      "source": [
        "Unit 型"
      ]
    },
    {
      "cell_type": "code",
      "metadata": {
        "id": "IAFEJNfKJvd0",
        "colab": {
          "base_uri": "https://localhost:8080/"
        },
        "outputId": "2264f91b-1731-4416-8e72-adcec63b59a6"
      },
      "source": [
        "# ユニット型\n",
        "!ghc -e 'print ()'\n",
        "!ghc -e ':t ()'"
      ],
      "execution_count": null,
      "outputs": [
        {
          "output_type": "stream",
          "text": [
            "()\n",
            "() :: ()\n"
          ],
          "name": "stdout"
        }
      ]
    },
    {
      "cell_type": "markdown",
      "metadata": {
        "id": "zHYfydjqJ0bq"
      },
      "source": [
        "# リスト\n",
        "\n",
        "Haskell のリストは型の混在はなし。 型を混在させるにはタプルを用いる。\n",
        "\n",
        "文字列は文字 Char のリスト。"
      ]
    },
    {
      "cell_type": "code",
      "metadata": {
        "id": "lXxY_lLRKAk2",
        "colab": {
          "base_uri": "https://localhost:8080/"
        },
        "outputId": "498b0db3-edeb-4906-8772-59a98d8e57d4"
      },
      "source": [
        "!ghc -e '[1, 2, 3]'\n",
        "!ghc -e '[1 .. 5]'\n",
        "!ghc -e '[1, 3 .. 10]'\n",
        "!ghc -e '[True, False, True]'\n",
        "!ghc -e $'[\\'H\\', \\'e\\', \\'l\\', \\'l\\', \\'o\\']'\n",
        "!ghc -e $'\\'C\\' : [\\'H\\', \\'e\\', \\'l\\', \\'l\\', \\'o\\']'\n"
      ],
      "execution_count": null,
      "outputs": [
        {
          "output_type": "stream",
          "text": [
            "[1,2,3]\n",
            "[1,2,3,4,5]\n",
            "[1,3,5,7,9]\n",
            "[True,False,True]\n",
            "\"Hello\"\n",
            "\"CHello\"\n"
          ],
          "name": "stdout"
        }
      ]
    },
    {
      "cell_type": "markdown",
      "metadata": {
        "id": "IJcQNo4G2TJJ"
      },
      "source": [
        "# タプル"
      ]
    },
    {
      "cell_type": "markdown",
      "metadata": {
        "id": "oldSN25mUuHD"
      },
      "source": [
        "タプル tuple の特徴は list と違い型の違うものを入れられること、と、タプルが新しい型を作るので、タプルのリストにすることによって安全性が高まること。\n",
        "\n",
        "[[1,2],[3,4,5],[6,7]]\n",
        "\n",
        "はエラーなしにコンパイルされるが、\n",
        "\n",
        "[(1,2),(3,4,5),(6,7)] \n",
        "\n",
        "はエラーになる。"
      ]
    },
    {
      "cell_type": "code",
      "metadata": {
        "id": "PRZJdUhP2-8w",
        "colab": {
          "base_uri": "https://localhost:8080/"
        },
        "outputId": "0507bd9e-02bf-4666-8a97-a0206ef031bf"
      },
      "source": [
        "# 実験 ['a'..'e']は便利かも\n",
        "!ghc -e $'[\\'a\\' .. \\'e\\']'\n",
        "!ghc -e '(1, True)'\n",
        "!ghc -e $'zip [1 .. 5] [\\'a\\' .. \\'e\\']'"
      ],
      "execution_count": null,
      "outputs": [
        {
          "output_type": "stream",
          "text": [
            "\"abcde\"\n",
            "(1,True)\n",
            "[(1,'a'),(2,'b'),(3,'c'),(4,'d'),(5,'e')]\n"
          ],
          "name": "stdout"
        }
      ]
    },
    {
      "cell_type": "code",
      "metadata": {
        "id": "OwVPfQoDAEXJ",
        "colab": {
          "base_uri": "https://localhost:8080/"
        },
        "outputId": "50539287-42b4-429f-b660-2aa321107fe8"
      },
      "source": [
        "!ghc -e $':t (..)'"
      ],
      "execution_count": null,
      "outputs": [
        {
          "output_type": "stream",
          "text": [
            "\n",
            "<interactive>:1:2: error: parse error on input ‘..’\n"
          ],
          "name": "stdout"
        }
      ]
    },
    {
      "cell_type": "code",
      "metadata": {
        "id": "QnhmYQLP3KFy",
        "colab": {
          "base_uri": "https://localhost:8080/"
        },
        "outputId": "4b1bd056-5cc4-4ff0-be50-3e9e8ab53dd3"
      },
      "source": [
        "!ghc -e $':t [\\'a\\' .. \\'c\\']'\n",
        "!ghc -e $':t [(\\'x\\', True), (\\'y\\', False)]'"
      ],
      "execution_count": null,
      "outputs": [
        {
          "output_type": "stream",
          "text": [
            "['a' .. 'c'] :: [Char]\n",
            "[('x', True), ('y', False)] :: [(Char, Bool)]\n"
          ],
          "name": "stdout"
        }
      ]
    },
    {
      "cell_type": "code",
      "metadata": {
        "id": "yArbCM1L3L1Q",
        "colab": {
          "base_uri": "https://localhost:8080/"
        },
        "outputId": "3c153e7e-811d-4bc4-d5eb-41ac5849482d"
      },
      "source": [
        "!ghc -e 'fst (1, 2)'\n",
        "!ghc -e 'snd (1, 2)'\n",
        "!ghc -e 'map fst [(1, 2), (3, 4), (5, 6)]'"
      ],
      "execution_count": null,
      "outputs": [
        {
          "output_type": "stream",
          "text": [
            "1\n",
            "2\n",
            "[1,3,5]\n"
          ],
          "name": "stdout"
        }
      ]
    },
    {
      "cell_type": "code",
      "metadata": {
        "colab": {
          "base_uri": "https://localhost:8080/"
        },
        "id": "G9tnRyO_G5sT",
        "outputId": "acb0b6f0-d214-457d-bde1-dbb7ab6fc696"
      },
      "source": [
        "!ghc -e '[1..10]'\r\n",
        "!ghc -e '[1..3]::[5..10]'\r\n",
        "!ghc -e '[3, 5..10]'\r\n",
        "!ghc -e '[1..3, 5..10]'"
      ],
      "execution_count": null,
      "outputs": [
        {
          "output_type": "stream",
          "text": [
            "[1,2,3,4,5,6,7,8,9,10]\n",
            "\n",
            "<interactive>:0:11: error: parse error on input ‘..’\n",
            "[3,5,7,9]\n",
            "\n",
            "<interactive>:0:6: error: parse error on input ‘,’\n"
          ],
          "name": "stdout"
        }
      ]
    },
    {
      "cell_type": "code",
      "metadata": {
        "id": "SYMjyxkeH0Tz",
        "colab": {
          "base_uri": "https://localhost:8080/"
        },
        "outputId": "8180ca10-7289-4135-aa96-151559cd54e9"
      },
      "source": [
        "# リスト内包表記\r\n",
        "!ghc -e '[x^2 | x <- [1..10]]'\r\n",
        "\r\n",
        "# mapM_ による1行ごとの出力\r\n",
        "!ghc -e 'mapM_ print [1..3]'\r\n"
      ],
      "execution_count": null,
      "outputs": [
        {
          "output_type": "stream",
          "text": [
            "[1,4,9,16,25,36,49,64,81,100]\n",
            "1\n",
            "2\n",
            "3\n"
          ],
          "name": "stdout"
        }
      ]
    },
    {
      "cell_type": "code",
      "metadata": {
        "id": "YKKlsILyKgNM",
        "colab": {
          "base_uri": "https://localhost:8080/"
        },
        "outputId": "6b73129a-26b4-477f-f735-9edeecf85727"
      },
      "source": [
        "# リスト内包表記との組み合わせ\r\n",
        "!ghc -e 'mapM_ print [x^2 | x <- [1..3]]'\r\n",
        "!ghc -e 'let list = [x^2 | x <- [1..3]] in  mapM_ print list'\r\n"
      ],
      "execution_count": null,
      "outputs": [
        {
          "output_type": "stream",
          "text": [
            "1\n",
            "4\n",
            "9\n",
            "1\n",
            "4\n",
            "9\n"
          ],
          "name": "stdout"
        }
      ]
    },
    {
      "cell_type": "markdown",
      "metadata": {
        "id": "o5zW6xLTLDWC"
      },
      "source": [
        "# getContents"
      ]
    },
    {
      "cell_type": "code",
      "metadata": {
        "id": "0d0wmUdFrlbL",
        "colab": {
          "base_uri": "https://localhost:8080/"
        },
        "outputId": "4827d649-5648-4b2b-d86f-b039aa47084b"
      },
      "source": [
        "# getContents\r\n",
        "!echo $'This is a pen.\\nThat is an apple.'\r\n",
        "!echo $'This is a pen.\\nThat is an apple.' | ghc -e 'getLine'\r\n",
        "!echo $'This is a pen.\\nThat is an apple.' | ghc -e 'getContents'\r\n",
        "!echo $'This is a pen.\\nThat is an apple.' | ghc -e 'lines <$> getContents'\r\n",
        "!echo\r\n",
        "# 実験 getContents から lines にしたあとの処理\r\n",
        "!echo $'288 240' | ghc -e 'map ((\\[x, y] -> gcd (read x) (read y)) . words) . lines <$> getContents'\r\n",
        "!echo $'288 240' | ghc -e 'map words . lines <$> getContents'\r\n",
        "!echo $'288 240' | ghc -e 'map ((\\[x, y] -> gcd (read x) (read y)) . words) . lines <$> getContents'\r\n",
        "!ghc -e 'gcd 24 81'\r\n",
        "!echo $'288 240' | ghc -e 'map ((\\[x, y] -> gcd 100 (read x)) . words) . lines <$> getContents'\r\n",
        "!echo\r\n",
        "!echo $'This is a pen.\\nThat is an apple.' | ghc -e 'map ( words) . lines <$> getContents'\r\n",
        "!echo $'This is a pen.\\nThat is an apple.' | ghc -e 'map (length) . lines <$> getContents'\r\n",
        "!ghc -e 'length([\"This\",\"is\",\"a\",\"pen.\"])'\r\n",
        "!ghc -e 'map length [\"This\",\"is\",\"a\",\"pen.\"]'\r\n",
        "\r\n",
        "\r\n"
      ],
      "execution_count": null,
      "outputs": [
        {
          "output_type": "stream",
          "text": [
            "This is a pen.\n",
            "That is an apple.\n",
            "\"This is a pen.\"\n",
            "\"This is a pen.\\nThat is an apple.\\n\"\n",
            "[\"This is a pen.\",\"That is an apple.\"]\n",
            "\n",
            "[48]\n",
            "[[\"288\",\"240\"]]\n",
            "[48]\n",
            "3\n",
            "[4]\n",
            "\n",
            "[[\"This\",\"is\",\"a\",\"pen.\"],[\"That\",\"is\",\"an\",\"apple.\"]]\n",
            "[14,17]\n",
            "4\n",
            "[4,2,1,4]\n"
          ],
          "name": "stdout"
        }
      ]
    },
    {
      "cell_type": "code",
      "metadata": {
        "id": "1nqetsIyC19O",
        "colab": {
          "base_uri": "https://localhost:8080/"
        },
        "outputId": "2a2300e0-1b4b-46f3-9474-b75641535013"
      },
      "source": [
        "!echo $'This is a pen.\\nThat is an apple.' | ghc -e 'getContents >>= mapM_ putStrLn . lines'"
      ],
      "execution_count": null,
      "outputs": [
        {
          "output_type": "stream",
          "text": [
            "This is a pen.\n",
            "That is an apple.\n"
          ],
          "name": "stdout"
        }
      ]
    },
    {
      "cell_type": "markdown",
      "metadata": {
        "id": "UOWi2Qe_5KxD"
      },
      "source": [
        "# 関数定義"
      ]
    },
    {
      "cell_type": "code",
      "metadata": {
        "id": "BEE6hOyJ5NQR",
        "colab": {
          "base_uri": "https://localhost:8080/"
        },
        "outputId": "4375e3f7-65ba-4157-d24e-d396457666c0"
      },
      "source": [
        "%%writefile Test.hs\n",
        "module Main where\n",
        "\n",
        "factorial n = if n == 0 then 1 else n * factorial (n - 1)\n",
        "\n",
        "main = do putStrLn \"What is 5! ?\"\n",
        "          x <- readLn\n",
        "          if x == factorial 5\n",
        "              then putStrLn \"You're right!\"\n",
        "              else putStrLn \"You're wrong!\""
      ],
      "execution_count": null,
      "outputs": [
        {
          "output_type": "stream",
          "text": [
            "Writing Test.hs\n"
          ],
          "name": "stdout"
        }
      ]
    },
    {
      "cell_type": "code",
      "metadata": {
        "id": "5uBBmlwM5WJZ",
        "colab": {
          "base_uri": "https://localhost:8080/"
        },
        "outputId": "eb6571fb-ff7f-432d-8b00-d972ab074dc3"
      },
      "source": [
        "# コンパイルして実行すると、入力待ちになる。出力欄をクリックして入力ウィンドウに入力することができる。\n",
        "!ghc --make Test.hs; ./Test"
      ],
      "execution_count": null,
      "outputs": [
        {
          "output_type": "stream",
          "text": [
            "What is 5! ?\n",
            "30\n",
            "You're wrong!\n"
          ],
          "name": "stdout"
        }
      ]
    },
    {
      "cell_type": "code",
      "metadata": {
        "id": "YTEAzvR9nTp8",
        "colab": {
          "base_uri": "https://localhost:8080/"
        },
        "outputId": "af4ece23-e184-4c67-c5e4-395570689f2e"
      },
      "source": [
        "%%writefile factorial.hs\n",
        "\n",
        "factorial n = if n == 0 then 1 else n * factorial (n - 1)\n",
        "\n",
        "main = do putStrLn \"What is 5! ?\"\n",
        "          x <- readLn\n",
        "          if x == factorial 5\n",
        "              then putStrLn \"You're right!\"\n",
        "              else putStrLn \"You're wrong!\""
      ],
      "execution_count": null,
      "outputs": [
        {
          "output_type": "stream",
          "text": [
            "Overwriting factorial.hs\n"
          ],
          "name": "stdout"
        }
      ]
    },
    {
      "cell_type": "code",
      "metadata": {
        "id": "jAVkoqgvnu0-",
        "colab": {
          "base_uri": "https://localhost:8080/"
        },
        "outputId": "fdcaab38-1f99-4324-e1bd-908a1d447c44"
      },
      "source": [
        "!echo 120 | runghc factorial.hs\n",
        "!echo 150 | runghc factorial.hs"
      ],
      "execution_count": null,
      "outputs": [
        {
          "output_type": "stream",
          "text": [
            "What is 5! ?\n",
            "You're right!\n",
            "What is 5! ?\n",
            "You're wrong!\n"
          ],
          "name": "stdout"
        }
      ]
    },
    {
      "cell_type": "markdown",
      "metadata": {
        "id": "H-u9V2fHds36"
      },
      "source": [
        "上のように、echo を使って、プログラムの readLn で受けるか。\n",
        "\n",
        "次のように、プログラム内に渡すデータを書いて、結果を出力するか。\n",
        "\n",
        "このどちらかになると思う。"
      ]
    },
    {
      "cell_type": "code",
      "metadata": {
        "id": "pooc_yHlqaA6",
        "colab": {
          "base_uri": "https://localhost:8080/"
        },
        "outputId": "38996b96-6466-49e7-fc1b-cca8c3c377d6"
      },
      "source": [
        "%%writefile factorial02.hs\n",
        "\n",
        "factorial n = if n == 0 then 1 else n * factorial (n - 1)\n",
        "\n",
        "main = do\n",
        "        print(factorial 5)\n",
        "        print(factorial 4)"
      ],
      "execution_count": null,
      "outputs": [
        {
          "output_type": "stream",
          "text": [
            "Overwriting factorial02.hs\n"
          ],
          "name": "stdout"
        }
      ]
    },
    {
      "cell_type": "code",
      "metadata": {
        "id": "woeE70_PqoSd",
        "colab": {
          "base_uri": "https://localhost:8080/"
        },
        "outputId": "ee8d21aa-2f90-4bfb-a5cb-2a4d9cd27e6c"
      },
      "source": [
        "!runghc factorial02.hs"
      ],
      "execution_count": null,
      "outputs": [
        {
          "output_type": "stream",
          "text": [
            "120\n",
            "24\n"
          ],
          "name": "stdout"
        }
      ]
    },
    {
      "cell_type": "markdown",
      "metadata": {
        "id": "ksOskHSJd4p1"
      },
      "source": [
        "パターンマッチングを利用して次のように書く書き方もある。"
      ]
    },
    {
      "cell_type": "code",
      "metadata": {
        "id": "ajXsLOal5uxz",
        "colab": {
          "base_uri": "https://localhost:8080/"
        },
        "outputId": "92f373bd-71a0-4a6c-c5cd-2b77001ca1dd"
      },
      "source": [
        "%%writefile factorial03.hs\n",
        "\n",
        "factorial 0 = 1\n",
        "factorial n = n * factorial (n - 1)\n",
        "\n",
        "main = do\n",
        "        print(factorial x)\n",
        "        print(factorial y)\n",
        "\n",
        "x = 6\n",
        "y = 5"
      ],
      "execution_count": null,
      "outputs": [
        {
          "output_type": "stream",
          "text": [
            "Writing factorial03.hs\n"
          ],
          "name": "stdout"
        }
      ]
    },
    {
      "cell_type": "code",
      "metadata": {
        "id": "PCiTutabrJL1",
        "colab": {
          "base_uri": "https://localhost:8080/"
        },
        "outputId": "07dee36a-2e47-40b4-9855-be9150fe8b32"
      },
      "source": [
        "!runghc factorial03.hs"
      ],
      "execution_count": null,
      "outputs": [
        {
          "output_type": "stream",
          "text": [
            "720\n",
            "120\n"
          ],
          "name": "stdout"
        }
      ]
    },
    {
      "cell_type": "markdown",
      "metadata": {
        "id": "12WQ1L4CwK6G"
      },
      "source": [
        "ちなみに、Colab では 複数のセルを選択して、 Ctrl+Shift+Enter すると、便利である。"
      ]
    },
    {
      "cell_type": "code",
      "metadata": {
        "id": "Gmg_4nAo6CoH",
        "colab": {
          "base_uri": "https://localhost:8080/"
        },
        "outputId": "6ec811d3-8ebc-436b-b9b2-428fb8ecc271"
      },
      "source": [
        "%%writefile let01.hs\n",
        "secsToWeeks secs = let perMinute = 60\n",
        "                       perHour   = 60 * perMinute\n",
        "                       perDay    = 24 * perHour\n",
        "                       perWeek   =  7 * perDay\n",
        "                   in  secs / perWeek\n",
        "\n",
        "main = do\n",
        "        print (secsToWeeks 100000)"
      ],
      "execution_count": null,
      "outputs": [
        {
          "output_type": "stream",
          "text": [
            "Overwriting let01.hs\n"
          ],
          "name": "stdout"
        }
      ]
    },
    {
      "cell_type": "code",
      "metadata": {
        "colab": {
          "base_uri": "https://localhost:8080/"
        },
        "id": "HP9L2lybgzRS",
        "outputId": "4d59aee0-13cd-43e5-d332-c0b5c4b5b3d5"
      },
      "source": [
        "!runghc let01.hs"
      ],
      "execution_count": null,
      "outputs": [
        {
          "output_type": "stream",
          "text": [
            "0.16534391534391535\n"
          ],
          "name": "stdout"
        }
      ]
    },
    {
      "cell_type": "markdown",
      "metadata": {
        "id": "M67kE5oy6ZKp"
      },
      "source": [
        "上コードセルで、let , in は一時的な名前を定義している。\n"
      ]
    },
    {
      "cell_type": "code",
      "metadata": {
        "id": "XN5488-c6Xtm",
        "colab": {
          "base_uri": "https://localhost:8080/"
        },
        "outputId": "5cc91a42-a558-420f-d3ab-4394706c966c"
      },
      "source": [
        "%%writefile case01.hs\n",
        "classify age = case age of 0 -> \"newborn\"\n",
        "                           1 -> \"infant\"\n",
        "                           2 -> \"toddler\"\n",
        "                           _ -> \"senior citizen\"\n",
        "\n",
        "main = do\n",
        "        putStrLn (classify 0)                           \n",
        "        putStrLn (classify 69)"
      ],
      "execution_count": null,
      "outputs": [
        {
          "output_type": "stream",
          "text": [
            "Writing case01.hs\n"
          ],
          "name": "stdout"
        }
      ]
    },
    {
      "cell_type": "code",
      "metadata": {
        "colab": {
          "base_uri": "https://localhost:8080/"
        },
        "id": "ZzkYe9drhp7a",
        "outputId": "0cd588e3-127e-4205-9ea4-545c79453cda"
      },
      "source": [
        "!runghc case01.hs"
      ],
      "execution_count": null,
      "outputs": [
        {
          "output_type": "stream",
          "text": [
            "newborn\n",
            "senior citizen\n"
          ],
          "name": "stdout"
        }
      ]
    },
    {
      "cell_type": "markdown",
      "metadata": {
        "id": "cp5ZgVAk68_H"
      },
      "source": [
        "上のセルで、case 式を使っている。 `_` はその他すべてを表す。"
      ]
    },
    {
      "cell_type": "markdown",
      "metadata": {
        "id": "Q-LIDxck97kv"
      },
      "source": [
        "# ライブラリー、パッケージ、モジュール\r\n",
        "\r\n",
        "import libraryname \r\n",
        "\r\n",
        "import libaryname as somename\r\n",
        "\r\n",
        "ある機能が欲しいとき、hackage で調べて、ライブラリーがあればインポートする。 インポートできなければ cabal でパッケージをインストールする、という理解でよいか。\r\n",
        "\r\n",
        "いまの ghc で import できるライブラリーはなにか。\r\n",
        "\r\n",
        "ghc-pkg list\r\n",
        "\r\n",
        "でインストールされているパッケージを見ることができる。\r\n",
        "\r\n",
        "\r\n",
        "\r\n"
      ]
    },
    {
      "cell_type": "code",
      "metadata": {
        "id": "iGQJQWgIcXQp"
      },
      "source": [
        "!ghc-pkg list"
      ],
      "execution_count": null,
      "outputs": []
    },
    {
      "cell_type": "markdown",
      "metadata": {
        "id": "G8XTKwv4sIpR"
      },
      "source": [
        "例えば次の Data.Map というライブラリーは import するか、ライブラリー名をつけて関数を使うかしないと使えないが、パッケージは containers にあって、それは ghc にはじめからインストールされている。"
      ]
    },
    {
      "cell_type": "code",
      "metadata": {
        "id": "4LPJq0oa9bO8",
        "colab": {
          "base_uri": "https://localhost:8080/"
        },
        "outputId": "ded2fd49-3d3b-4888-ddc1-f03c726b0f24"
      },
      "source": [
        "%%writefile importqualified.hs\n",
        "\n",
        "import qualified Data.Map as M\n",
        "\n",
        "errorsPerLine = M.fromList [ (\"Chris\", 472), (\"Don\", 100), (\"Simon\", -5) ]\n",
        "\n",
        "main = do \n",
        "    putStrLn \"Who are you?\"\n",
        "    name <- getLine\n",
        "    case M.lookup name errorsPerLine of\n",
        "        Nothing -> putStrLn \"I don't know you\"\n",
        "        Just n  -> do putStr \"Errors per line: \"\n",
        "                      print n"
      ],
      "execution_count": null,
      "outputs": [
        {
          "output_type": "stream",
          "text": [
            "Overwriting importqualified.hs\n"
          ],
          "name": "stdout"
        }
      ]
    },
    {
      "cell_type": "code",
      "metadata": {
        "colab": {
          "base_uri": "https://localhost:8080/"
        },
        "id": "CwHKDTs_jGqK",
        "outputId": "3576930e-0d33-48fa-e014-bb0a426ef303"
      },
      "source": [
        "!echo Don | runghc importqualified.hs"
      ],
      "execution_count": null,
      "outputs": [
        {
          "output_type": "stream",
          "text": [
            "Who are you?\n",
            "Errors per line: 100\n"
          ],
          "name": "stdout"
        }
      ]
    },
    {
      "cell_type": "code",
      "metadata": {
        "colab": {
          "base_uri": "https://localhost:8080/"
        },
        "id": "sgIS8yV9kPZ2",
        "outputId": "ecbf429a-3fed-4c52-e517-ffdeac64a4dc"
      },
      "source": [
        "!echo Bob | runghc importqualified.hs"
      ],
      "execution_count": null,
      "outputs": [
        {
          "output_type": "stream",
          "text": [
            "Who are you?\n",
            "I don't know you\n"
          ],
          "name": "stdout"
        }
      ]
    },
    {
      "cell_type": "code",
      "metadata": {
        "id": "I33RQzT6YAaS",
        "colab": {
          "base_uri": "https://localhost:8080/"
        },
        "outputId": "1606c2f3-359b-4f33-d256-23657b847c33"
      },
      "source": [
        "!ghc -e $'let errorsPerLine = Data.Map.fromList [(\"Chris\", 472), (\"Don\", 100), (\"Simon\", -5)] in do case Data.Map.lookup \"Simon\" errorsPerLine of Just n -> print n'"
      ],
      "execution_count": null,
      "outputs": [
        {
          "output_type": "stream",
          "text": [
            "-5\n"
          ],
          "name": "stdout"
        }
      ]
    },
    {
      "cell_type": "code",
      "metadata": {
        "id": "unVJIfwAY57q",
        "colab": {
          "base_uri": "https://localhost:8080/"
        },
        "outputId": "4b3aa4b9-9295-45ef-dec7-e9fee84332f4"
      },
      "source": [
        "!ghc -e $'let errorsPerLine = Data.Map.fromList [(\"Chris\", 472), (\"Don\", 100), (\"Simon\", -5)] in print errorsPerLine'\r\n"
      ],
      "execution_count": null,
      "outputs": [
        {
          "output_type": "stream",
          "text": [
            "fromList [(\"Chris\",472),(\"Don\",100),(\"Simon\",-5)]\n"
          ],
          "name": "stdout"
        }
      ]
    },
    {
      "cell_type": "markdown",
      "metadata": {
        "id": "05q0I6VCAal4"
      },
      "source": [
        "四則演算"
      ]
    },
    {
      "cell_type": "code",
      "metadata": {
        "colab": {
          "base_uri": "https://localhost:8080/"
        },
        "id": "FQCMMJLxdoam",
        "outputId": "374e9b7f-4d3a-446d-b9f9-180e2f92323c"
      },
      "source": [
        "!ghc -e '2 + 15'\n",
        "!ghc -e '49 * 100'\n",
        "!ghc -e '1892 - 1472'\n",
        "!ghc -e '5 / 2'"
      ],
      "execution_count": null,
      "outputs": [
        {
          "output_type": "stream",
          "text": [
            "17\n",
            "4900\n",
            "420\n",
            "2.5\n"
          ],
          "name": "stdout"
        }
      ]
    },
    {
      "cell_type": "code",
      "metadata": {
        "id": "AFkAK5ZEnkFW",
        "colab": {
          "base_uri": "https://localhost:8080/"
        },
        "outputId": "a152692d-8e90-490a-9f6f-72b2b25a429a"
      },
      "source": [
        "!ghc -e '(50 * 100) - 4999'\n",
        "!ghc -e '50 * 100 - 4999'\n",
        "!ghc -e '50 * (100 - 4999)'"
      ],
      "execution_count": null,
      "outputs": [
        {
          "output_type": "stream",
          "text": [
            "1\n",
            "1\n",
            "-244950\n"
          ],
          "name": "stdout"
        }
      ]
    },
    {
      "cell_type": "code",
      "metadata": {
        "id": "wOvMZGQ5nmR4",
        "colab": {
          "base_uri": "https://localhost:8080/"
        },
        "outputId": "88b26040-5a9f-44ef-e06e-6f59eca022af"
      },
      "source": [
        "!ghc -e 'True && False'\n",
        "!ghc -e 'True && True'\n",
        "!ghc -e 'False || True'\n",
        "!ghc -e 'not False'\n",
        "!ghc -e 'not (True && True)'"
      ],
      "execution_count": null,
      "outputs": [
        {
          "output_type": "stream",
          "text": [
            "False\n",
            "True\n",
            "True\n",
            "True\n",
            "False\n"
          ],
          "name": "stdout"
        }
      ]
    },
    {
      "cell_type": "code",
      "metadata": {
        "id": "MDS-LdXBocT4",
        "colab": {
          "base_uri": "https://localhost:8080/"
        },
        "outputId": "2561ec3c-8904-42df-df4a-ca4fed7eb1a7"
      },
      "source": [
        "!ghc -e 'succ 8'\n",
        "!ghc -e 'min 9 10'\n",
        "!ghc -e 'min 3.4 3.2'\n",
        "!ghc -e 'max 100 101'\n",
        "!ghc -e 'max(1)(2)'"
      ],
      "execution_count": null,
      "outputs": [
        {
          "output_type": "stream",
          "text": [
            "9\n",
            "9\n",
            "3.2\n",
            "101\n",
            "2\n"
          ],
          "name": "stdout"
        }
      ]
    },
    {
      "cell_type": "markdown",
      "metadata": {
        "id": "tKwonjJ6ozn-"
      },
      "source": [
        "関数の優先順位が一番高い。\n",
        "\n",
        "次の2つの式は同じ意味になる。\n"
      ]
    },
    {
      "cell_type": "code",
      "metadata": {
        "id": "iBs4X0rco0E8",
        "colab": {
          "base_uri": "https://localhost:8080/"
        },
        "outputId": "780edcaa-d2fe-486f-9827-c7101b43d021"
      },
      "source": [
        "!ghc -e 'succ 9 + max 5 4 + 1'\n",
        "!ghc -e '(succ 9) + (max 5 4) + 1'"
      ],
      "execution_count": null,
      "outputs": [
        {
          "output_type": "stream",
          "text": [
            "16\n",
            "16\n"
          ],
          "name": "stdout"
        }
      ]
    },
    {
      "cell_type": "code",
      "metadata": {
        "id": "SIVVq2yRpOM_",
        "colab": {
          "base_uri": "https://localhost:8080/"
        },
        "outputId": "6ccbfe83-97dd-4dd6-b6c3-455c358088b1"
      },
      "source": [
        "!ghc -e 'succ 9 * 10'"
      ],
      "execution_count": null,
      "outputs": [
        {
          "output_type": "stream",
          "text": [
            "100\n"
          ],
          "name": "stdout"
        }
      ]
    },
    {
      "cell_type": "markdown",
      "metadata": {
        "id": "L5od-47zpe_l"
      },
      "source": [
        "# 整数除算"
      ]
    },
    {
      "cell_type": "code",
      "metadata": {
        "id": "Ap8spQwxpd0c",
        "colab": {
          "base_uri": "https://localhost:8080/"
        },
        "outputId": "96eaf6fa-8c37-46d6-dcd6-b47186fc32ad"
      },
      "source": [
        "!ghc -e '92 `div` 10'\n",
        "!ghc -e '92 / 10'\n",
        "!ghc -e '92 `mod` 10'"
      ],
      "execution_count": null,
      "outputs": [
        {
          "output_type": "stream",
          "text": [
            "9\n",
            "9.2\n",
            "2\n"
          ],
          "name": "stdout"
        }
      ]
    },
    {
      "cell_type": "code",
      "metadata": {
        "colab": {
          "base_uri": "https://localhost:8080/"
        },
        "id": "JPs9z0Agin6M",
        "outputId": "1e5767be-7811-4bfc-eaeb-7b8729a05755"
      },
      "source": [
        "!ghc -e 'floor (92 / 10)'\n",
        "!ghc -e 'floor (-92 / 10)'"
      ],
      "execution_count": null,
      "outputs": [
        {
          "output_type": "stream",
          "text": [
            "9\n",
            "-10\n"
          ],
          "name": "stdout"
        }
      ]
    },
    {
      "cell_type": "markdown",
      "metadata": {
        "id": "g2awhpFhVCQL"
      },
      "source": [
        "# 関数"
      ]
    },
    {
      "cell_type": "markdown",
      "metadata": {
        "id": "QBlbCX1pj79K"
      },
      "source": [
        "# 質問 関数の型を調べる方法はあるか。"
      ]
    },
    {
      "cell_type": "code",
      "metadata": {
        "id": "XkZ08fY0VEv6",
        "colab": {
          "base_uri": "https://localhost:8080/"
        },
        "outputId": "7d674c4b-85ec-48b9-a11a-6023b33b0020"
      },
      "source": [
        "%%writefile doubleme.hs\n",
        "doubleMe x = x + x\n",
        "\n",
        "main = do\n",
        "    print(doubleMe 9)\n",
        "    print(doubleMe 8.3)"
      ],
      "execution_count": null,
      "outputs": [
        {
          "output_type": "stream",
          "text": [
            "Overwriting doubleme.hs\n"
          ],
          "name": "stdout"
        }
      ]
    },
    {
      "cell_type": "code",
      "metadata": {
        "colab": {
          "base_uri": "https://localhost:8080/"
        },
        "id": "WICZfSInfhEF",
        "outputId": "662baaff-600c-496c-a468-ef735c79157d"
      },
      "source": [
        "!runghc doubleme.hs"
      ],
      "execution_count": null,
      "outputs": [
        {
          "output_type": "stream",
          "text": [
            "18\n",
            "16.6\n"
          ],
          "name": "stdout"
        }
      ]
    },
    {
      "cell_type": "markdown",
      "metadata": {
        "id": "DqV75lcfkhVB"
      },
      "source": [
        "次の例で doubleUs を 2回定義しようとすると redundant エラーになる。"
      ]
    },
    {
      "cell_type": "code",
      "metadata": {
        "id": "ZJDh4GipVhYq",
        "colab": {
          "base_uri": "https://localhost:8080/"
        },
        "outputId": "b8189d3b-09d9-4057-ade3-6dbc0741d3d6"
      },
      "source": [
        "%%writefile doubleus.hs\n",
        "doubleMe x = x + x\n",
        "doubleUs x y = x*2 + y*2   \n",
        "doubleUs x y = doubleMe x + doubleMe y\n",
        "\n",
        "main = do\n",
        "    print(doubleUs 4 9)\n",
        "    print(doubleUs 2.3 34.2)\n",
        "    print(doubleUs 28 88 + doubleMe 123)"
      ],
      "execution_count": null,
      "outputs": [
        {
          "output_type": "stream",
          "text": [
            "Overwriting doubleus.hs\n"
          ],
          "name": "stdout"
        }
      ]
    },
    {
      "cell_type": "code",
      "metadata": {
        "colab": {
          "base_uri": "https://localhost:8080/"
        },
        "id": "-LA5XHXngNtw",
        "outputId": "2765ee96-8924-4c0e-93bf-6fe9b0ab0aef"
      },
      "source": [
        "!runghc doubleus.hs"
      ],
      "execution_count": null,
      "outputs": [
        {
          "output_type": "stream",
          "text": [
            "\n",
            "doubleus.hs:3:1: warning: [-Woverlapping-patterns]\n",
            "    Pattern match is redundant\n",
            "    In an equation for ‘doubleUs’: doubleUs x y = ...\n",
            "26\n",
            "73.0\n",
            "478\n"
          ],
          "name": "stdout"
        }
      ]
    },
    {
      "cell_type": "markdown",
      "metadata": {
        "id": "PYRry4HUlQbB"
      },
      "source": [
        "# VSCode の拡張機能で次のように関数の型がわかる。"
      ]
    },
    {
      "cell_type": "code",
      "metadata": {
        "colab": {
          "base_uri": "https://localhost:8080/"
        },
        "id": "QlMG8DCdnHkk",
        "outputId": "2edfa4ec-dbbd-4212-d719-115c0be1b798"
      },
      "source": [
        "%%writefile ifthen.hs\n",
        "-- Haskell の if では else は必須。なぜなら if は式であり、返り値が必要だから。\n",
        "doubleSmallNumber :: (Ord a, Num a) => a -> a\n",
        "doubleSmallNumber x = if x > 100 then x else x * 2\n",
        "\n",
        "main :: IO ()\n",
        "main = do\n",
        "  x <- readLn\n",
        "  print (doubleSmallNumber x)"
      ],
      "execution_count": null,
      "outputs": [
        {
          "output_type": "stream",
          "text": [
            "Overwriting ifthen.hs\n"
          ],
          "name": "stdout"
        }
      ]
    },
    {
      "cell_type": "code",
      "metadata": {
        "colab": {
          "base_uri": "https://localhost:8080/"
        },
        "id": "_4cjdLG0nLHO",
        "outputId": "17fc95a9-eab6-4ea5-cecd-fb31450957b0"
      },
      "source": [
        "!echo 120 | runghc ifthen.hs\n",
        "!echo 12 | runghc ifthen.hs"
      ],
      "execution_count": null,
      "outputs": [
        {
          "output_type": "stream",
          "text": [
            "120\n",
            "24\n"
          ],
          "name": "stdout"
        }
      ]
    },
    {
      "cell_type": "code",
      "metadata": {
        "id": "qV8VRsIJbm3I",
        "colab": {
          "base_uri": "https://localhost:8080/"
        },
        "outputId": "1928546d-953e-4c12-fc58-521644322bb3"
      },
      "source": [
        "# python の if then は次のように書く\n",
        "\n",
        "def doubleSmallNumber (x) :\n",
        "    if x > 100 :\n",
        "        return x\n",
        "    else:\n",
        "        return x * 2\n",
        "\n",
        "print (doubleSmallNumber (120))\n",
        "print (doubleSmallNumber (12))"
      ],
      "execution_count": null,
      "outputs": [
        {
          "output_type": "stream",
          "text": [
            "120\n",
            "24\n"
          ],
          "name": "stdout"
        }
      ]
    },
    {
      "cell_type": "code",
      "metadata": {
        "id": "5mNdpWKTdsTr",
        "colab": {
          "base_uri": "https://localhost:8080/"
        },
        "outputId": "d45569c1-f1a1-4792-d12c-a184d011b45c"
      },
      "source": [
        "!ghc -e $'let conanO\\'Brien = \"It\\'s a-me, Conan O\\'Brien!\" in conanO\\'Brien'\n"
      ],
      "execution_count": null,
      "outputs": [
        {
          "output_type": "stream",
          "text": [
            "\"It's a-me, Conan O'Brien!\"\n"
          ],
          "name": "stdout"
        }
      ]
    },
    {
      "cell_type": "markdown",
      "metadata": {
        "id": "QPcmXomYd-sT"
      },
      "source": [
        "上の例で2つのことを指摘したい。\n",
        "\n",
        "1. 関数名は小文字で始まる。\n",
        "1. 関数は引数なしもあり得る。引数なしの場合、ただの定義になる。"
      ]
    },
    {
      "cell_type": "code",
      "metadata": {
        "colab": {
          "base_uri": "https://localhost:8080/"
        },
        "id": "1sZcN_P-v_Yu",
        "outputId": "21654492-7281-45b2-9a49-604d432d99d7"
      },
      "source": [
        "# `let in` とワンライナー\n",
        "!ghc -e $'let doubleSmallNumber x = if x > 100 then x else x * 2 in doubleSmallNumber 18'"
      ],
      "execution_count": null,
      "outputs": [
        {
          "output_type": "stream",
          "text": [
            "36\n"
          ],
          "name": "stdout"
        }
      ]
    },
    {
      "cell_type": "markdown",
      "metadata": {
        "id": "y6H51hT-zQ3d"
      },
      "source": [
        "# リスト"
      ]
    },
    {
      "cell_type": "code",
      "metadata": {
        "id": "wnQmo8IGzSaV",
        "colab": {
          "base_uri": "https://localhost:8080/"
        },
        "outputId": "9e45cb8f-d701-4dda-dc6f-10d6fc62bc5a"
      },
      "source": [
        "!ghc -e $'let lostNumbers = [4,8,15,16,23,42] in lostNumbers'"
      ],
      "execution_count": null,
      "outputs": [
        {
          "output_type": "stream",
          "text": [
            "[4,8,15,16,23,42]\n"
          ],
          "name": "stdout"
        }
      ]
    },
    {
      "cell_type": "code",
      "metadata": {
        "id": "rvpkOXPo0aJu",
        "colab": {
          "base_uri": "https://localhost:8080/"
        },
        "outputId": "068ce4f4-63a4-42ca-89c5-e96ae100ef3a"
      },
      "source": [
        "!ghc -e $'[1,2,3,4] ++ [9,10,11,12]'\n",
        "!ghc -e $'\"hello\" ++ \" \" ++ \"world\"'\n",
        "!ghc -e $'[\\'w\\', \\'o\\'] ++ [\\'o\\',\\'t\\']'"
      ],
      "execution_count": null,
      "outputs": [
        {
          "output_type": "stream",
          "text": [
            "[1,2,3,4,9,10,11,12]\n",
            "\"hello world\"\n",
            "\"woot\"\n"
          ],
          "name": "stdout"
        }
      ]
    },
    {
      "cell_type": "code",
      "metadata": {
        "id": "U_9C6CqF0sRr",
        "colab": {
          "base_uri": "https://localhost:8080/"
        },
        "outputId": "84ec1a80-d804-4fd8-dcf5-d554ebef94b1"
      },
      "source": [
        "!ghc -e $'\\'A\\':\" SMALL CAT\"'\n",
        "!ghc -e $'5:[1,2,3,4,5]'"
      ],
      "execution_count": null,
      "outputs": [
        {
          "output_type": "stream",
          "text": [
            "\"A SMALL CAT\"\n",
            "[5,1,2,3,4,5]\n"
          ],
          "name": "stdout"
        }
      ]
    },
    {
      "cell_type": "markdown",
      "metadata": {
        "id": "o4UHyTtI07zX"
      },
      "source": [
        "`[1,2,3]` は内部的には `1:2:3:[]` で、`[]` は空リストである。空リストの冒頭に 3 を加えると `[3]` になる。できたリストの頭に 2 を加えると、`[2,3]` になる。"
      ]
    },
    {
      "cell_type": "code",
      "metadata": {
        "id": "Tn4oyGN-1yoR",
        "colab": {
          "base_uri": "https://localhost:8080/"
        },
        "outputId": "76dc8a10-34b8-4376-a93a-1679e563354d"
      },
      "source": [
        "!ghc -e '\"Steve Buscemi\" !! 6'\n",
        "!ghc -e '[9.4,33.2,96.2,11.2,23.25] !! 1'"
      ],
      "execution_count": null,
      "outputs": [
        {
          "output_type": "stream",
          "text": [
            "'B'\n",
            "33.2\n"
          ],
          "name": "stdout"
        }
      ]
    },
    {
      "cell_type": "code",
      "metadata": {
        "id": "09V_A7nx1ztd",
        "colab": {
          "base_uri": "https://localhost:8080/"
        },
        "outputId": "139c5e6b-02d5-4200-f94f-06ffaae6cdae"
      },
      "source": [
        "# python では次のように書く\n",
        "\n",
        "print (\"Steve Buscemi\"[6])\n",
        "print ([9.4,33.2,96.2,11.2,23.25][1])\n"
      ],
      "execution_count": null,
      "outputs": [
        {
          "output_type": "stream",
          "text": [
            "B\n",
            "33.2\n"
          ],
          "name": "stdout"
        }
      ]
    },
    {
      "cell_type": "markdown",
      "metadata": {
        "id": "bFGr1ma4GG1k"
      },
      "source": [
        "# インデクスが大きすぎるとエラーになる。"
      ]
    },
    {
      "cell_type": "code",
      "metadata": {
        "id": "XtxFVZtxGFCh",
        "colab": {
          "base_uri": "https://localhost:8080/"
        },
        "outputId": "72c81506-38bc-4fcf-f7fa-c986019c48a3"
      },
      "source": [
        "!ghc -e '[9.4,33.2,96.2,11.2,23.25] !! 6'"
      ],
      "execution_count": null,
      "outputs": [
        {
          "output_type": "stream",
          "text": [
            "<interactive>: Prelude.!!: index too large\n"
          ],
          "name": "stdout"
        }
      ]
    },
    {
      "cell_type": "code",
      "metadata": {
        "colab": {
          "base_uri": "https://localhost:8080/"
        },
        "id": "LFMRXLVz0RMT",
        "outputId": "e5da0fb4-3e0c-4e70-f31f-88b2d226b23c"
      },
      "source": [
        "!ghc -e 'let b = [[1,2,3,4],[5,3,3,3],[1,2,2,3,4],[1,2,3]] in b ++ [[1,1,1,1]] '\n",
        "!ghc -e 'let b = [[1,2,3,4],[5,3,3,3],[1,2,2,3,4],[1,2,3]] in [6,6,6]:b'\n",
        "!ghc -e 'let b = [[1,2,3,4],[5,3,3,3],[1,2,2,3,4],[1,2,3]] in b !! 2'"
      ],
      "execution_count": null,
      "outputs": [
        {
          "output_type": "stream",
          "text": [
            "[[1,2,3,4],[5,3,3,3],[1,2,2,3,4],[1,2,3],[1,1,1,1]]\n",
            "[[6,6,6],[1,2,3,4],[5,3,3,3],[1,2,2,3,4],[1,2,3]]\n",
            "[1,2,2,3,4]\n"
          ],
          "name": "stdout"
        }
      ]
    },
    {
      "cell_type": "code",
      "metadata": {
        "colab": {
          "base_uri": "https://localhost:8080/"
        },
        "id": "qI-239Nk2PQh",
        "outputId": "c97158a2-8b29-41d1-a80f-b8c8864afd67"
      },
      "source": [
        "%%writefile list01.hs\n",
        "\n",
        "b :: [[Int]]\n",
        "b = [[1,2,3,4],[5,3,3,3],[1,2,2,3,4],[1,2,3]]\n",
        "\n",
        "main :: IO ()\n",
        "main = do \n",
        "  print (b ++ [[1,1,1,1]])\n",
        "  print ([6,6,6]:b)\n",
        "  print (b !! 2)"
      ],
      "execution_count": null,
      "outputs": [
        {
          "output_type": "stream",
          "text": [
            "Overwriting list01.hs\n"
          ],
          "name": "stdout"
        }
      ]
    },
    {
      "cell_type": "code",
      "metadata": {
        "colab": {
          "base_uri": "https://localhost:8080/"
        },
        "id": "majrty089BTP",
        "outputId": "1db36b60-3700-49c5-813e-c914eab6ab98"
      },
      "source": [
        "!runghc list01.hs"
      ],
      "execution_count": null,
      "outputs": [
        {
          "output_type": "stream",
          "text": [
            "[[1,2,3,4],[5,3,3,3],[1,2,2,3,4],[1,2,3],[1,1,1,1]]\n",
            "[[6,6,6],[1,2,3,4],[5,3,3,3],[1,2,2,3,4],[1,2,3]]\n",
            "[1,2,2,3,4]\n"
          ],
          "name": "stdout"
        }
      ]
    },
    {
      "cell_type": "code",
      "metadata": {
        "colab": {
          "base_uri": "https://localhost:8080/"
        },
        "id": "q-d8t2JO-f_s",
        "outputId": "f4212710-cf52-44c8-ca0e-de97f51e2793"
      },
      "source": [
        "# 実験\n",
        "%%writefile list02.hs\n",
        "main :: IO ()\n",
        "main = do \n",
        "    let x = b ++ [[1,1,1,1]] where b = [[1,2,3,4],[5,3,3,3],[1,2,2,3,4],[1,2,3]]\n",
        "    print x"
      ],
      "execution_count": null,
      "outputs": [
        {
          "output_type": "stream",
          "text": [
            "Overwriting list02.hs\n"
          ],
          "name": "stdout"
        }
      ]
    },
    {
      "cell_type": "code",
      "metadata": {
        "colab": {
          "base_uri": "https://localhost:8080/"
        },
        "id": "dhc0eNHqBPuI",
        "outputId": "5a95165a-86e1-43da-deb2-8b795cafe776"
      },
      "source": [
        "!runghc list02.hs"
      ],
      "execution_count": null,
      "outputs": [
        {
          "output_type": "stream",
          "text": [
            "[[1,2,3,4],[5,3,3,3],[1,2,2,3,4],[1,2,3],[1,1,1,1]]\n"
          ],
          "name": "stdout"
        }
      ]
    },
    {
      "cell_type": "code",
      "metadata": {
        "colab": {
          "base_uri": "https://localhost:8080/"
        },
        "id": "cE8zs8Of8mEO",
        "outputId": "d40aeb4c-2017-472f-f747-1a70859c2e8b"
      },
      "source": [
        "%%writefile where01.hs\n",
        "calcBmi cm kg\n",
        "  | bmi <= 18.5 = \"痩せてるね\"\n",
        "  | bmi <= 25.0 = \"普通だね\"\n",
        "  | bmi <= 30.0 = \"ぽっちゃりだね\"\n",
        "  | otherwise = \"太っているね\"\n",
        "  where\n",
        "    bmi = kg / (m ^ 2)\n",
        "    m = cm / 100\n",
        "\n",
        "main = do\n",
        "  putStrLn $ calcBmi 170 60"
      ],
      "execution_count": null,
      "outputs": [
        {
          "output_type": "stream",
          "text": [
            "Writing where01.hs\n"
          ],
          "name": "stdout"
        }
      ]
    },
    {
      "cell_type": "code",
      "metadata": {
        "colab": {
          "base_uri": "https://localhost:8080/"
        },
        "id": "Kd8vqiyG8w9P",
        "outputId": "509e77de-994a-4ba3-e028-c018647f735c"
      },
      "source": [
        "!runghc where01.hs"
      ],
      "execution_count": null,
      "outputs": [
        {
          "output_type": "stream",
          "text": [
            "普通だね\n"
          ],
          "name": "stdout"
        }
      ]
    },
    {
      "cell_type": "code",
      "metadata": {
        "id": "m3hlaMnMGgIq",
        "colab": {
          "base_uri": "https://localhost:8080/"
        },
        "outputId": "83078c8e-395b-4eb9-f946-9ea7f7d2f72c"
      },
      "source": [
        "!ghc -e '[3,2,1] > [2,1,0]'\n",
        "!ghc -e '[3,2,1] > [2,10,100] '\n",
        "!ghc -e '[3,4,2] > [3,4]'\n",
        "!ghc -e '[3,4,2] > [2,4] '\n",
        "!ghc -e '[3,4,2] == [3,4,2]'"
      ],
      "execution_count": null,
      "outputs": [
        {
          "output_type": "stream",
          "text": [
            "True\n",
            "True\n",
            "True\n",
            "True\n",
            "True\n"
          ],
          "name": "stdout"
        }
      ]
    },
    {
      "cell_type": "code",
      "metadata": {
        "id": "F4wLT3baGqIy",
        "colab": {
          "base_uri": "https://localhost:8080/"
        },
        "outputId": "3058469a-07c3-400f-9f5b-9e2c7c1a3393"
      },
      "source": [
        "!ghc -e 'head [5,4,3,2,1] '\n",
        "!ghc -e 'tail [5,4,3,2,1] '\n"
      ],
      "execution_count": null,
      "outputs": [
        {
          "output_type": "stream",
          "text": [
            "5\n",
            "[4,3,2,1]\n"
          ],
          "name": "stdout"
        }
      ]
    },
    {
      "cell_type": "code",
      "metadata": {
        "id": "GFNfbwqRG0Ec",
        "colab": {
          "base_uri": "https://localhost:8080/"
        },
        "outputId": "c744135e-72c7-4807-ab61-ce692081c6e5"
      },
      "source": [
        "!ghc -e 'last [5,4,3,2,1]  '\n",
        "!ghc -e 'init [5,4,3,2,1] '"
      ],
      "execution_count": null,
      "outputs": [
        {
          "output_type": "stream",
          "text": [
            "1\n",
            "[5,4,3,2]\n"
          ],
          "name": "stdout"
        }
      ]
    },
    {
      "cell_type": "markdown",
      "metadata": {
        "id": "lUNKb5yuG7lC"
      },
      "source": [
        "空リストの head を取ろうとするとエラーになる。"
      ]
    },
    {
      "cell_type": "code",
      "metadata": {
        "id": "nW8V3FxzG8Fp",
        "colab": {
          "base_uri": "https://localhost:8080/"
        },
        "outputId": "4f401b71-e37b-4ad3-8b36-5877f6f95b80"
      },
      "source": [
        "!ghc -e 'head []'"
      ],
      "execution_count": null,
      "outputs": [
        {
          "output_type": "stream",
          "text": [
            "<interactive>: Prelude.head: empty list\n"
          ],
          "name": "stdout"
        }
      ]
    },
    {
      "cell_type": "code",
      "metadata": {
        "id": "3zr0TMJkHVd-",
        "colab": {
          "base_uri": "https://localhost:8080/"
        },
        "outputId": "d9d79982-67c9-44f8-e346-1c92632a5ed1"
      },
      "source": [
        "!ghc -e 'length [5,4,3,2,1]'\n",
        "!ghc -e 'null [1,2,3]  '\n",
        "!ghc -e 'null [] '\n",
        "!ghc -e 'reverse [5,4,3,2,1] '"
      ],
      "execution_count": null,
      "outputs": [
        {
          "output_type": "stream",
          "text": [
            "5\n",
            "False\n",
            "True\n",
            "[1,2,3,4,5]\n"
          ],
          "name": "stdout"
        }
      ]
    },
    {
      "cell_type": "code",
      "metadata": {
        "id": "scv3bPba33Zh",
        "colab": {
          "base_uri": "https://localhost:8080/"
        },
        "outputId": "062c6e55-fcc4-4917-d902-ebf709f06580"
      },
      "source": [
        "!ghc -e 'Data.List.sort [5,4,3,2,1] '"
      ],
      "execution_count": null,
      "outputs": [
        {
          "output_type": "stream",
          "text": [
            "[1,2,3,4,5]\n"
          ],
          "name": "stdout"
        }
      ]
    },
    {
      "cell_type": "code",
      "metadata": {
        "id": "x17NceVRHlSz",
        "colab": {
          "base_uri": "https://localhost:8080/"
        },
        "outputId": "73091959-fc4f-4ab4-b996-56604fcec288"
      },
      "source": [
        "!ghc -e 'take 3 [5,4,3,2,1]'\n",
        "!ghc -e 'take 1 [3,9,3]'\n",
        "!ghc -e 'take 5 [1,2]'\n",
        "!ghc -e 'take 0 [6,6,6]'\n",
        "!ghc -e 'take 1 []'\n",
        "!ghc -e 'take -1 [6,6,6]' # エラー"
      ],
      "execution_count": null,
      "outputs": [
        {
          "output_type": "stream",
          "text": [
            "[5,4,3]\n",
            "[3]\n",
            "[1,2]\n",
            "[]\n",
            "[]\n",
            "\n",
            "<interactive>:0:1: error:\n",
            "    • Non type-variable argument\n",
            "        in the constraint: Num (Int -> [a] -> [a])\n",
            "      (Use FlexibleContexts to permit this)\n",
            "    • When checking the inferred type\n",
            "        it :: forall t a.\n",
            "              (Num (Int -> [a] -> [a]), Num ([t] -> Int -> [a] -> [a]), Num t) =>\n",
            "              Int -> [a] -> [a]\n"
          ],
          "name": "stdout"
        }
      ]
    },
    {
      "cell_type": "code",
      "metadata": {
        "id": "IItgPWw8Hylk",
        "colab": {
          "base_uri": "https://localhost:8080/"
        },
        "outputId": "278c804d-0345-45cc-a036-8389ea3acc2d"
      },
      "source": [
        "!ghc -e 'drop 3 [8,4,2,1,5,6]  '\n",
        "!ghc -e 'drop 0 [1,2,3,4] '\n",
        "!ghc -e 'drop 100 [1,2,3,4] '"
      ],
      "execution_count": null,
      "outputs": [
        {
          "output_type": "stream",
          "text": [
            "[1,5,6]\n",
            "[1,2,3,4]\n",
            "[]\n"
          ],
          "name": "stdout"
        }
      ]
    },
    {
      "cell_type": "code",
      "metadata": {
        "id": "hHOHtCnlH690",
        "colab": {
          "base_uri": "https://localhost:8080/"
        },
        "outputId": "2b941452-107e-4601-a131-f3ca1f94a20a"
      },
      "source": [
        "!ghc -e 'minimum [8,4,2,1,5,6]'\n",
        "!ghc -e 'maximum [1,9,2,3,4] '"
      ],
      "execution_count": null,
      "outputs": [
        {
          "output_type": "stream",
          "text": [
            "1\n",
            "9\n"
          ],
          "name": "stdout"
        }
      ]
    },
    {
      "cell_type": "code",
      "metadata": {
        "colab": {
          "base_uri": "https://localhost:8080/"
        },
        "id": "hEIy4RgTGV4D",
        "outputId": "5c672f44-3c42-49d7-9890-116b2c8349cd"
      },
      "source": [
        "!ghc -e 'sum [5,2,1,6,3,2,5,7]'\n",
        "!ghc -e 'product [6,2,1,2]  '\n",
        "!ghc -e 'product [1,2,5,6,7,9,2,0]  '"
      ],
      "execution_count": null,
      "outputs": [
        {
          "output_type": "stream",
          "text": [
            "31\n",
            "24\n",
            "0\n"
          ],
          "name": "stdout"
        }
      ]
    },
    {
      "cell_type": "code",
      "metadata": {
        "colab": {
          "base_uri": "https://localhost:8080/"
        },
        "id": "6wDxixWAGtXO",
        "outputId": "262bdad1-e197-45d0-eb5c-ac13338bd1d4"
      },
      "source": [
        "!ghc -e 'elem 4 [3,4,5,6]  '\n",
        "!ghc -e 'elem 10 [3,4,5,6] '"
      ],
      "execution_count": null,
      "outputs": [
        {
          "output_type": "stream",
          "text": [
            "True\n",
            "False\n"
          ],
          "name": "stdout"
        }
      ]
    },
    {
      "cell_type": "markdown",
      "metadata": {
        "id": "sYQTtxMuHGDf"
      },
      "source": [
        "# range"
      ]
    },
    {
      "cell_type": "code",
      "metadata": {
        "colab": {
          "base_uri": "https://localhost:8080/"
        },
        "id": "g2AGs_jNHip6",
        "outputId": "21071462-2ca9-482a-d6e4-277df8bf7277"
      },
      "source": [
        "!ghc -e $'[1..20]  '\n",
        "!ghc -e $'[\\'a\\'..\\'z\\']  '\n",
        "!ghc -e $'[\\'K\\'..\\'Z\\']  '\n",
        "!ghc -e $'[2,4..20]  '\n",
        "!ghc -e $'[3,6..20]  '\n",
        "!ghc -e $'[20,19..1]'"
      ],
      "execution_count": null,
      "outputs": [
        {
          "output_type": "stream",
          "text": [
            "[1,2,3,4,5,6,7,8,9,10,11,12,13,14,15,16,17,18,19,20]\n",
            "\"abcdefghijklmnopqrstuvwxyz\"\n",
            "\"KLMNOPQRSTUVWXYZ\"\n",
            "[2,4,6,8,10,12,14,16,18,20]\n",
            "[3,6,9,12,15,18]\n",
            "[20,19,18,17,16,15,14,13,12,11,10,9,8,7,6,5,4,3,2,1]\n"
          ],
          "name": "stdout"
        }
      ]
    },
    {
      "cell_type": "code",
      "metadata": {
        "colab": {
          "base_uri": "https://localhost:8080/"
        },
        "id": "Kb0ZV1uRfVgq",
        "outputId": "a4fdf6e3-de9c-4ce5-9d27-a6af937a86b1"
      },
      "source": [
        "# do not use floating point numbers in ranges\n",
        "!ghc -e '[0.1, 0.3 .. 1] '"
      ],
      "execution_count": null,
      "outputs": [
        {
          "output_type": "stream",
          "text": [
            "[0.1,0.3,0.5,0.7,0.8999999999999999,1.0999999999999999]\n"
          ],
          "name": "stdout"
        }
      ]
    },
    {
      "cell_type": "code",
      "metadata": {
        "colab": {
          "base_uri": "https://localhost:8080/"
        },
        "id": "faDphCBjfrOA",
        "outputId": "00884f96-fcf5-4bfd-9959-f79f0b356445"
      },
      "source": [
        "# infinite list\n",
        "!ghc -e 'take 10 [1..]'\n",
        "!ghc -e 'take 10 $ cycle [1,2,3]'\n",
        "!ghc -e 'take 10 (cycle [1,2,3])'\n",
        "!ghc -e 'take 12 (cycle \"LOL \")  '\n",
        "!ghc -e 'take 10 (repeat 5) '\n",
        "!echo\n",
        "!ghc -e 'replicate 3 10'"
      ],
      "execution_count": null,
      "outputs": [
        {
          "output_type": "stream",
          "text": [
            "[1,2,3,4,5,6,7,8,9,10]\n",
            "[1,2,3,1,2,3,1,2,3,1]\n",
            "[1,2,3,1,2,3,1,2,3,1]\n",
            "\"LOL LOL LOL \"\n",
            "[5,5,5,5,5,5,5,5,5,5]\n",
            "\n",
            "[10,10,10]\n"
          ],
          "name": "stdout"
        }
      ]
    },
    {
      "cell_type": "markdown",
      "metadata": {
        "id": "4YgqZnJMgnui"
      },
      "source": [
        "# 内包表記 list comprehension"
      ]
    },
    {
      "cell_type": "markdown",
      "metadata": {
        "id": "YDHFsquwkhFv"
      },
      "source": [
        "集合で習う集合の内包表記は数式で次の様に書く。\n",
        "\n",
        "$$\n",
        "S= \\{2 \\cdot x \\mid x \\in  \\mathbb{N}, \\ x \\leq 10 \\}\n",
        "$$"
      ]
    },
    {
      "cell_type": "code",
      "metadata": {
        "colab": {
          "base_uri": "https://localhost:8080/",
          "height": 38
        },
        "id": "FPRji7FKkpWg",
        "outputId": "08ba266e-e30e-4696-d47b-1d2fbfbef25d"
      },
      "source": [
        "# 参考 集合で習う集合の内包表記は数式で次の様に書く。\n",
        "%%latex\n",
        "\n",
        "S= \\{2 \\cdot x \\mid x \\in  \\mathbb{N}, \\ x \\leq 10 \\}\n"
      ],
      "execution_count": null,
      "outputs": [
        {
          "output_type": "display_data",
          "data": {
            "text/latex": "\nS= \\{2 \\cdot x \\mid x \\in  \\mathbb{N}, \\ x \\leq 10 \\}",
            "text/plain": [
              "<IPython.core.display.Latex object>"
            ]
          },
          "metadata": {
            "tags": []
          }
        }
      ]
    },
    {
      "cell_type": "code",
      "metadata": {
        "colab": {
          "base_uri": "https://localhost:8080/"
        },
        "id": "u1EYZe1Ognc-",
        "outputId": "7d6e9d06-6022-4e8f-b2bb-1d0af0512e36"
      },
      "source": [
        "!ghc -e '[x*2 | x <- [1..10]]'\n",
        "!ghc -e '[x*2 | x <- [1..10], x*2 >= 12]'\n",
        "!ghc -e '[ x | x <- [50..100], x `mod` 7 == 3]'"
      ],
      "execution_count": null,
      "outputs": [
        {
          "output_type": "stream",
          "text": [
            "[2,4,6,8,10,12,14,16,18,20]\n",
            "[12,14,16,18,20]\n",
            "[52,59,66,73,80,87,94]\n"
          ],
          "name": "stdout"
        }
      ]
    },
    {
      "cell_type": "code",
      "metadata": {
        "colab": {
          "base_uri": "https://localhost:8080/"
        },
        "id": "pb5JIQUIimEX",
        "outputId": "0276296d-37d4-43a9-f219-11fa94b7f9df"
      },
      "source": [
        "!ghc -e 'let boomBangs xs = [ if x < 10 then \"BOOM!\" else \"BANG!\" | x <- xs, odd x] in boomBangs [7..13]'"
      ],
      "execution_count": null,
      "outputs": [
        {
          "output_type": "stream",
          "text": [
            "[\"BOOM!\",\"BOOM!\",\"BANG!\",\"BANG!\"]\n"
          ],
          "name": "stdout"
        }
      ]
    },
    {
      "cell_type": "code",
      "metadata": {
        "colab": {
          "base_uri": "https://localhost:8080/"
        },
        "id": "gCxWBDBBizHr",
        "outputId": "64da1081-c234-401e-e4c2-fd350f693cbc"
      },
      "source": [
        "!ghc -e '[ x | x <- [10..20], x /= 13, x /= 15, x /= 19]'"
      ],
      "execution_count": null,
      "outputs": [
        {
          "output_type": "stream",
          "text": [
            "[10,11,12,14,16,17,18,20]\n"
          ],
          "name": "stdout"
        }
      ]
    },
    {
      "cell_type": "code",
      "metadata": {
        "id": "_b5ceC4-F4a8",
        "colab": {
          "base_uri": "https://localhost:8080/"
        },
        "outputId": "05a824c9-9713-4610-814c-c39cdb0e9941"
      },
      "source": [
        "!ghc -e '[ x*y | x <- [2,5,10], y <- [8,10,11]] '\n",
        "!ghc -e '[ x*y | x <- [2,5,10], y <- [8,10,11], x*y > 50]'"
      ],
      "execution_count": null,
      "outputs": [
        {
          "output_type": "stream",
          "text": [
            "[16,20,22,40,50,55,80,100,110]\n",
            "[55,80,100,110]\n"
          ],
          "name": "stdout"
        }
      ]
    },
    {
      "cell_type": "code",
      "metadata": {
        "id": "oU9sVB_wC-N3",
        "colab": {
          "base_uri": "https://localhost:8080/"
        },
        "outputId": "c2d6e1f0-57e7-422d-c0e2-7befa37b2f2d"
      },
      "source": [
        "!ghc -e '[ (x, y) | x <- [2,5,10], y <- [8,10,11]] '\r\n",
        "!ghc -e '[ [x, y] | x <- [2,5,10], y <- [8,10,11]] '"
      ],
      "execution_count": null,
      "outputs": [
        {
          "output_type": "stream",
          "text": [
            "[(2,8),(2,10),(2,11),(5,8),(5,10),(5,11),(10,8),(10,10),(10,11)]\n",
            "[[2,8],[2,10],[2,11],[5,8],[5,10],[5,11],[10,8],[10,10],[10,11]]\n"
          ],
          "name": "stdout"
        }
      ]
    },
    {
      "cell_type": "code",
      "metadata": {
        "id": "ZX2I0PzcGedi",
        "colab": {
          "base_uri": "https://localhost:8080/"
        },
        "outputId": "3497e7a3-797a-4145-b10c-2eb776efc636"
      },
      "source": [
        "!ghc -e 'let {nouns = [\"hobo\",\"frog\",\"pope\"]; adjectives = [\"lazy\",\"grouchy\",\"scheming\"]} in [adjective ++ \" \" ++ noun | adjective <- adjectives, noun <- nouns]'"
      ],
      "execution_count": null,
      "outputs": [
        {
          "output_type": "stream",
          "text": [
            "[\"lazy hobo\",\"lazy frog\",\"lazy pope\",\"grouchy hobo\",\"grouchy frog\",\"grouchy pope\",\"scheming hobo\",\"scheming frog\",\"scheming pope\"]\n"
          ],
          "name": "stdout"
        }
      ]
    },
    {
      "cell_type": "code",
      "metadata": {
        "id": "GOyKIOqVIuIL",
        "colab": {
          "base_uri": "https://localhost:8080/"
        },
        "outputId": "b2970312-50d1-4fc0-c191-3a0c3c471615"
      },
      "source": [
        "# 日本語でやってみたら、文字化けしてしまった\n",
        "!ghc -e 'let {nouns = [\"流れもの\",\"カエル\",\"坊主\"]; adjectives = [\"なまけものの\",\"文句たれの\",\"ずるい\"]} in [adjective ++ noun | adjective <- adjectives, noun <- nouns]'"
      ],
      "execution_count": null,
      "outputs": [
        {
          "output_type": "stream",
          "text": [
            "[\"\\12394\\12414\\12369\\12418\\12398\\12398\\27969\\12428\\12418\\12398\",\"\\12394\\12414\\12369\\12418\\12398\\12398\\12459\\12456\\12523\",\"\\12394\\12414\\12369\\12418\\12398\\12398\\22346\\20027\",\"\\25991\\21477\\12383\\12428\\12398\\27969\\12428\\12418\\12398\",\"\\25991\\21477\\12383\\12428\\12398\\12459\\12456\\12523\",\"\\25991\\21477\\12383\\12428\\12398\\22346\\20027\",\"\\12378\\12427\\12356\\27969\\12428\\12418\\12398\",\"\\12378\\12427\\12356\\12459\\12456\\12523\",\"\\12378\\12427\\12356\\22346\\20027\"]\n"
          ],
          "name": "stdout"
        }
      ]
    },
    {
      "cell_type": "code",
      "metadata": {
        "colab": {
          "base_uri": "https://localhost:8080/"
        },
        "id": "x9PAeNCIM255",
        "outputId": "71de1845-b5c9-41d8-e948-0aefb270b6c4"
      },
      "source": [
        "# 実験 putStrLn で取り出す\n",
        "!ghc -e 'let {nouns = [\"流れもの\",\"カエル\",\"坊主\"]; adjectives = [\"なまけものの\",\"文句たれの\",\"ずるい\"]} in mapM_ putStrLn [adjective ++ noun | adjective <- adjectives, noun <- nouns]'"
      ],
      "execution_count": null,
      "outputs": [
        {
          "output_type": "stream",
          "text": [
            "なまけものの流れもの\n",
            "なまけもののカエル\n",
            "なまけものの坊主\n",
            "文句たれの流れもの\n",
            "文句たれのカエル\n",
            "文句たれの坊主\n",
            "ずるい流れもの\n",
            "ずるいカエル\n",
            "ずるい坊主\n"
          ],
          "name": "stdout"
        }
      ]
    },
    {
      "cell_type": "code",
      "metadata": {
        "id": "3kyz1NYvJujX",
        "colab": {
          "base_uri": "https://localhost:8080/"
        },
        "outputId": "80094266-8fe8-4cb0-8dee-f4af9ed97733"
      },
      "source": [
        "# 実験\n",
        "%%writefile adjective_noun.hs\n",
        "nouns = [\"流れもの\",\"カエル\",\"坊主\"]; \n",
        "adjectives = [\"なまけものの\",\"文句たれの\",\"ずるい\"]\n",
        "adjectiveplusnouns = [adjective ++ noun | adjective <- adjectives, noun <- nouns]\n",
        "\n",
        "main = do\n",
        "    putStrLn (adjectiveplusnouns!!0)\n",
        "    mapM_ putStrLn adjectiveplusnouns"
      ],
      "execution_count": null,
      "outputs": [
        {
          "output_type": "stream",
          "text": [
            "Overwriting adjective_noun.hs\n"
          ],
          "name": "stdout"
        }
      ]
    },
    {
      "cell_type": "code",
      "metadata": {
        "id": "_j60kkBeMVtf",
        "colab": {
          "base_uri": "https://localhost:8080/"
        },
        "outputId": "9598e0cf-6664-469c-e11f-1571e03774ef"
      },
      "source": [
        "!runghc adjective_noun.hs"
      ],
      "execution_count": null,
      "outputs": [
        {
          "output_type": "stream",
          "text": [
            "なまけものの流れもの\n",
            "なまけものの流れもの\n",
            "なまけもののカエル\n",
            "なまけものの坊主\n",
            "文句たれの流れもの\n",
            "文句たれのカエル\n",
            "文句たれの坊主\n",
            "ずるい流れもの\n",
            "ずるいカエル\n",
            "ずるい坊主\n"
          ],
          "name": "stdout"
        }
      ]
    },
    {
      "cell_type": "code",
      "metadata": {
        "id": "MqYeoGw5RLYs",
        "colab": {
          "base_uri": "https://localhost:8080/"
        },
        "outputId": "d0cea563-e7c1-4f3e-ae1d-089aaff904f5"
      },
      "source": [
        "# length を実装する\n",
        "!ghc -e 'let length01 xs = sum [1 | _ <- xs] in print (length01 [1,2,3])'"
      ],
      "execution_count": null,
      "outputs": [
        {
          "output_type": "stream",
          "text": [
            "3\n"
          ],
          "name": "stdout"
        }
      ]
    },
    {
      "cell_type": "code",
      "metadata": {
        "id": "dL2-xvNOR8VD",
        "colab": {
          "base_uri": "https://localhost:8080/"
        },
        "outputId": "dde0054a-79ca-4c80-ed49-22ca9c82de1f"
      },
      "source": [
        "!ghc -e $'let removeNonUppercase st = [ c | c <- st, elem c [\\'A\\'..\\'Z\\']] in putStrLn(\"IdontLIKEFROGS\")'"
      ],
      "execution_count": null,
      "outputs": [
        {
          "output_type": "stream",
          "text": [
            "IdontLIKEFROGS\n"
          ],
          "name": "stdout"
        }
      ]
    },
    {
      "cell_type": "code",
      "metadata": {
        "colab": {
          "base_uri": "https://localhost:8080/"
        },
        "id": "g8VJyPP8QfH1",
        "outputId": "26433927-b3ea-4591-fed9-4846f0dc6042"
      },
      "source": [
        "!ghc -e $'let removeNonUppercase st = [ c | c <- st, elem c [\\'A\\'..\\'Z\\']] in putStrLn(removeNonUppercase \"IdontLIKEFROGS\")'"
      ],
      "execution_count": null,
      "outputs": [
        {
          "output_type": "stream",
          "text": [
            "ILIKEFROGS\n"
          ],
          "name": "stdout"
        }
      ]
    },
    {
      "cell_type": "code",
      "metadata": {
        "id": "AExiKVBmTmXz",
        "colab": {
          "base_uri": "https://localhost:8080/"
        },
        "outputId": "e1f9df44-5859-47b2-db18-8fdcd6cff251"
      },
      "source": [
        "%%writefile withoutflatten.hs\n",
        "main = do\n",
        "  let xxs = [[1,3,5,2,3,1,2,4,5],[1,2,3,4,5,6,7,8,9],[1,2,4,2,1,6,3,1,3,2,3,6]] \n",
        "      newlist =  [ [ x | x <- xs, even x ] | xs <- xxs] \n",
        "      in print newlist"
      ],
      "execution_count": null,
      "outputs": [
        {
          "output_type": "stream",
          "text": [
            "Overwriting withoutflatten.hs\n"
          ],
          "name": "stdout"
        }
      ]
    },
    {
      "cell_type": "code",
      "metadata": {
        "id": "RrP9uTJNTqaa",
        "colab": {
          "base_uri": "https://localhost:8080/"
        },
        "outputId": "57354aae-f18c-4b96-966b-8ad0b78f6e64"
      },
      "source": [
        "!runghc withoutflatten.hs"
      ],
      "execution_count": null,
      "outputs": [
        {
          "output_type": "stream",
          "text": [
            "[[2,2,4],[2,4,6,8],[2,4,2,6,2,6]]\n"
          ],
          "name": "stdout"
        }
      ]
    },
    {
      "cell_type": "code",
      "metadata": {
        "id": "qT0BZBxyqFaN",
        "colab": {
          "base_uri": "https://localhost:8080/"
        },
        "outputId": "75022cd0-2840-47bb-ba3b-586b61d6545d"
      },
      "source": [
        "!ghc -e 'let xxs = [[1,3,5,2,3,1,2,4,5],[1,2,3,4,5,6,7,8,9],[1,2,4,2,1,6,3,1,3,2,3,6]] in  [ [ x | x <- xs, even x ] | xs <- xxs]'\n"
      ],
      "execution_count": null,
      "outputs": [
        {
          "output_type": "stream",
          "text": [
            "[[2,2,4],[2,4,6,8],[2,4,2,6,2,6]]\n"
          ],
          "name": "stdout"
        }
      ]
    },
    {
      "cell_type": "code",
      "metadata": {
        "colab": {
          "base_uri": "https://localhost:8080/"
        },
        "id": "EBDXuuziQ_Ls",
        "outputId": "8c8f9511-2281-46d2-ffca-e6e2bb1721a7"
      },
      "source": [
        "# bash は \\ を入れることで長いコマンドに改行を入れることができる\n",
        "!ghc -e '\\\n",
        "    let xxs = [[1,3,5,2,3,1,2,4,5],[1,2,3,4,5,6,7,8,9],[1,2,4,2,1,6,3,1,3,2,3,6]] \\\n",
        "        in  [ [ x | x <- xs, even x ] | xs <- xxs]'"
      ],
      "execution_count": null,
      "outputs": [
        {
          "output_type": "stream",
          "text": [
            "[[2,2,4],[2,4,6,8],[2,4,2,6,2,6]]\n"
          ],
          "name": "stdout"
        }
      ]
    },
    {
      "cell_type": "markdown",
      "metadata": {
        "id": "zNCsRM7sqTPS"
      },
      "source": [
        "# タプル tuple"
      ]
    },
    {
      "cell_type": "code",
      "metadata": {
        "id": "YmtFps_Gp2ED",
        "colab": {
          "base_uri": "https://localhost:8080/"
        },
        "outputId": "8d10b870-ac83-4f80-a8a8-15f58efe5dde"
      },
      "source": [
        "# zip でタプルを作る\n",
        "# 長さが合わない時 => 残りは捨てられる\n",
        "!ghc -e 'zip [5,3,2,6,2,7,2,5,4,6,6] [\"im\",\"a\",\"turtle\"]'"
      ],
      "execution_count": null,
      "outputs": [
        {
          "output_type": "stream",
          "text": [
            "[(5,\"im\"),(3,\"a\"),(2,\"turtle\")]\n"
          ],
          "name": "stdout"
        }
      ]
    },
    {
      "cell_type": "code",
      "metadata": {
        "id": "oZibfkpLqvnI",
        "colab": {
          "base_uri": "https://localhost:8080/"
        },
        "outputId": "28e75dfc-5569-495e-d392-e50b2dbe5778"
      },
      "source": [
        "# これと遅延評価を利用すると、長いリストを扱える\n",
        "!ghc -e '[ (a,b,c) | c <- [1..10], b <- [1..c], a <- [1..b], a^2 + b^2 == c^2, a+b+c == 24]'\n"
      ],
      "execution_count": null,
      "outputs": [
        {
          "output_type": "stream",
          "text": [
            "[(6,8,10)]\n"
          ],
          "name": "stdout"
        }
      ]
    },
    {
      "cell_type": "code",
      "metadata": {
        "colab": {
          "base_uri": "https://localhost:8080/"
        },
        "id": "MW4PBj0KSTca",
        "outputId": "3d3eb5c2-bc66-4dac-86a5-46344008be91"
      },
      "source": [
        "!ghc -e 'take 10 [ (a,b,c) | c <- [1..10], b <- [1..c], a <- [1..b]]'"
      ],
      "execution_count": null,
      "outputs": [
        {
          "output_type": "stream",
          "text": [
            "[(1,1,1),(1,1,2),(1,2,2),(2,2,2),(1,1,3),(1,2,3),(2,2,3),(1,3,3),(2,3,3),(3,3,3)]\n"
          ],
          "name": "stdout"
        }
      ]
    },
    {
      "cell_type": "markdown",
      "metadata": {
        "id": "MykKGye5w1HI"
      },
      "source": [
        "# 型 type と 型クラス type class"
      ]
    },
    {
      "cell_type": "code",
      "metadata": {
        "id": "MAE7s1W9wn2b",
        "colab": {
          "base_uri": "https://localhost:8080/"
        },
        "outputId": "d4df2bd1-fd03-445d-bfb4-362be41325fe"
      },
      "source": [
        "!ghc -e $':t \\'a\\''\n",
        "!ghc -e $':t True'\n",
        "!ghc -e $':t \"HELLO!\"'\n",
        "!ghc -e $':t (True, \\'a\\')'\n",
        "!ghc -e $':t 4 == 5'"
      ],
      "execution_count": null,
      "outputs": [
        {
          "output_type": "stream",
          "text": [
            "'a' :: Char\n",
            "True :: Bool\n",
            "\"HELLO!\" :: [Char]\n",
            "(True, 'a') :: (Bool, Char)\n",
            "4 == 5 :: Bool\n"
          ],
          "name": "stdout"
        }
      ]
    },
    {
      "cell_type": "markdown",
      "metadata": {
        "id": "QNN-nWJBW7Gp"
      },
      "source": [
        ":: は (の)型(は) (has type of) と読む。\n"
      ]
    },
    {
      "cell_type": "code",
      "metadata": {
        "id": "-MlynYqMYOJk",
        "colab": {
          "base_uri": "https://localhost:8080/"
        },
        "outputId": "6c0c8b66-a856-4520-f4f3-bbe0e3ec5477"
      },
      "source": [
        "!ghc -e $':t (\\'a\\',\\'b\\',\\'c\\')'\n",
        "!ghc -e $':t [\\'a\\',\\'b\\',\\'c\\']'"
      ],
      "execution_count": null,
      "outputs": [
        {
          "output_type": "stream",
          "text": [
            "('a','b','c') :: (Char, Char, Char)\n",
            "['a','b','c'] :: [Char]\n"
          ],
          "name": "stdout"
        }
      ]
    },
    {
      "cell_type": "markdown",
      "metadata": {
        "id": "aynmNzHYYjfR"
      },
      "source": [
        "上のセルの一行目はタプルで、二行目がリスト。"
      ]
    },
    {
      "cell_type": "markdown",
      "metadata": {
        "id": "4ukpwwdpRz4P"
      },
      "source": [
        "# 関数の型について"
      ]
    },
    {
      "cell_type": "markdown",
      "metadata": {
        "id": "hBioXNVtLz_Z"
      },
      "source": [
        "関数の型は次のように書く。\r\n",
        "\r\n",
        "removeNonUppercase :: [Char] -> [Char]\r\n",
        "\r\n",
        "removeNonUppercase st = [ c | c <- st, c `elem` ['A'..'Z']]\r\n",
        "\r\n",
        "ここで、[Char] -> [Char] というのは string を受けて、 string を返す、という意味。\r\n",
        "\r\n",
        "引数が 3個とかだと次のようになる。\r\n",
        "\r\n",
        "addThree :: Int -> Int -> Int -> Int\r\n",
        "\r\n",
        "addThree x y z = x + y + z\r\n",
        "\r\n",
        "最後の  -> Int が返り値で、その前の 3個が引数。\r\n",
        "\r\n",
        "\r\n",
        "\r\n",
        "\r\n"
      ]
    },
    {
      "cell_type": "code",
      "metadata": {
        "id": "H6EC7u_3T5SF",
        "colab": {
          "base_uri": "https://localhost:8080/"
        },
        "outputId": "b4d9cf5f-b14a-43c4-ea2b-093139fbc29d"
      },
      "source": [
        "!ghc -e 'let factorial n = product [1..n] in factorial 50'"
      ],
      "execution_count": null,
      "outputs": [
        {
          "output_type": "stream",
          "text": [
            "30414093201713378043612608166064768844377641568960512000000000000\n"
          ],
          "name": "stdout"
        }
      ]
    },
    {
      "cell_type": "markdown",
      "metadata": {
        "id": "p6UOG8fJZu20"
      },
      "source": [
        "上記の factorial のタイプは\r\n",
        "\r\n",
        "Integer -> Integer\r\n",
        "\r\n",
        "で Int でないのは、Integerの方が大きな数を扱えるから。\r\n",
        "\r\n",
        "効率は Int の方がよい。\r\n",
        "\r\n"
      ]
    },
    {
      "cell_type": "code",
      "metadata": {
        "id": "fkaU3elEAG9U",
        "colab": {
          "base_uri": "https://localhost:8080/"
        },
        "outputId": "aea283b8-1c86-4bc9-d679-e5a9e2a5a781"
      },
      "source": [
        "# 実験\n",
        "!ghc -e 'let {circumference :: Float -> Float;circumference r = 2 * pi * r} in circumference 4.0'\n",
        "!ghc -e 'let {circumference :: Double -> Double; circumference r = 2 * pi * r} in circumference 4.0'\n",
        "# 次のは pi が Int でないのでエラーになる\n",
        "!ghc -e 'let {circumference :: Int -> Int; circumference r = 2 * pi * r} in circumference 4'"
      ],
      "execution_count": null,
      "outputs": [
        {
          "output_type": "stream",
          "text": [
            "25.132742\n",
            "25.132741228718345\n",
            "\n",
            "<interactive>:0:57: error:\n",
            "    • No instance for (Floating Int) arising from a use of ‘pi’\n",
            "    • In the second argument of ‘(*)’, namely ‘pi’\n",
            "      In the first argument of ‘(*)’, namely ‘2 * pi’\n",
            "      In the expression: 2 * pi * r\n"
          ],
          "name": "stdout"
        }
      ]
    },
    {
      "cell_type": "code",
      "metadata": {
        "colab": {
          "base_uri": "https://localhost:8080/"
        },
        "id": "Ts4sqEknaQK9",
        "outputId": "19980816-7023-4cd3-e7d0-d9e2ac5281f1"
      },
      "source": [
        "# 実験 \n",
        "!ghc -e 'pi'\n",
        "!ghc -e 'exp 1'\n",
        "!ghc -e ':t pi'\n",
        "!ghc -e ':t exp'\n",
        "!ghc -e ':t exp 1'"
      ],
      "execution_count": null,
      "outputs": [
        {
          "output_type": "stream",
          "text": [
            "3.141592653589793\n",
            "2.718281828459045\n",
            "pi :: Floating a => a\n",
            "exp :: Floating a => a -> a\n",
            "exp 1 :: Floating a => a\n"
          ],
          "name": "stdout"
        }
      ]
    },
    {
      "cell_type": "code",
      "metadata": {
        "colab": {
          "base_uri": "https://localhost:8080/"
        },
        "id": "ZeyNRMCfjPe6",
        "outputId": "01cfb8b2-d2cb-462c-ce0b-91179d5c2891"
      },
      "source": [
        "!ghc -e ':t exp'"
      ],
      "execution_count": null,
      "outputs": [
        {
          "output_type": "stream",
          "text": [
            "exp :: Floating a => a -> a\n"
          ],
          "name": "stdout"
        }
      ]
    },
    {
      "cell_type": "code",
      "metadata": {
        "colab": {
          "base_uri": "https://localhost:8080/"
        },
        "id": "YaepHxwnjoH7",
        "outputId": "dace070e-bc47-4e41-b9cf-71f78793e6ae"
      },
      "source": [
        "!ghc -e ':t (==)'"
      ],
      "execution_count": null,
      "outputs": [
        {
          "output_type": "stream",
          "text": [
            "(==) :: Eq a => a -> a -> Bool\n"
          ],
          "name": "stdout"
        }
      ]
    },
    {
      "cell_type": "markdown",
      "metadata": {
        "id": "5LiFuyVIgD9T"
      },
      "source": [
        "# `=>` 記号\n",
        "型制約、型クラス制約 class constraint\n",
        "\n",
        "例えば、(==) について言えば\n",
        "\n",
        "(==) :: Eq a => a -> a -> Bool\n",
        "\n",
        "(==) 関数は、2つの値 (a -> a) を引数としてとり、真偽値 Bool を返り値として返すが、この 2つの値は、Eq 型クラスに属していなければならない。\n",
        "\n",
        "というように読む。\n",
        "\n"
      ]
    },
    {
      "cell_type": "code",
      "metadata": {
        "id": "T1QRimtx6vO9",
        "colab": {
          "base_uri": "https://localhost:8080/"
        },
        "outputId": "f9da4031-c99f-48f5-8a58-2855e753ab86"
      },
      "source": [
        "!ghc -e ':t head'"
      ],
      "execution_count": null,
      "outputs": [
        {
          "output_type": "stream",
          "text": [
            "head :: [a] -> a\n"
          ],
          "name": "stdout"
        }
      ]
    },
    {
      "cell_type": "markdown",
      "metadata": {
        "id": "be8RDfXX7kiU"
      },
      "source": [
        "上記の結果\n",
        "\n",
        "head :: [a] -> a\n",
        "\n",
        "の a は、型変数と呼ばれ、これの場合は、型クラス制約がなければなんでもいい、という意味。\n",
        "\n",
        "型変数がある関数は 多形性 polymorphic 関数を呼ばれる。\n",
        "\n"
      ]
    },
    {
      "cell_type": "code",
      "metadata": {
        "id": "h2ZekLvB8e52",
        "colab": {
          "base_uri": "https://localhost:8080/"
        },
        "outputId": "81b96db2-beec-4609-d63c-9b7c18074d71"
      },
      "source": [
        "!ghc -e ':t fst'"
      ],
      "execution_count": null,
      "outputs": [
        {
          "output_type": "stream",
          "text": [
            "fst :: (a, b) -> a\n"
          ],
          "name": "stdout"
        }
      ]
    },
    {
      "cell_type": "markdown",
      "metadata": {
        "id": "u4f61nDwXFQv"
      },
      "source": [
        "上記の結果\n",
        "\n",
        "fst :: (a, b) -> a\n",
        "\n",
        "は 2つの要素からなるタプルを引数として、そのタプルの中の最初の要素を返す、という意味。"
      ]
    },
    {
      "cell_type": "code",
      "metadata": {
        "id": "DPvmdZwelWCQ",
        "colab": {
          "base_uri": "https://localhost:8080/"
        },
        "outputId": "cc604cd1-f90b-4d14-fa96-0055e7b80043"
      },
      "source": [
        "!ghc -e ':t elem'"
      ],
      "execution_count": null,
      "outputs": [
        {
          "output_type": "stream",
          "text": [
            "elem :: (Eq a, Foldable t) => a -> t a -> Bool\n"
          ],
          "name": "stdout"
        }
      ]
    },
    {
      "cell_type": "code",
      "metadata": {
        "id": "HeUocyAAlw4G",
        "colab": {
          "base_uri": "https://localhost:8080/"
        },
        "outputId": "f7ba26d1-374b-4a9d-e775-4b133158abf2"
      },
      "source": [
        "!ghc -e ':t (>)'"
      ],
      "execution_count": null,
      "outputs": [
        {
          "output_type": "stream",
          "text": [
            "(>) :: Ord a => a -> a -> Bool\n"
          ],
          "name": "stdout"
        }
      ]
    },
    {
      "cell_type": "code",
      "metadata": {
        "id": "TmtVbaYmmCBw",
        "colab": {
          "base_uri": "https://localhost:8080/"
        },
        "outputId": "fb9befe1-02b2-453a-a42e-43823a621a8d"
      },
      "source": [
        "!ghc -e ':t compare'\r\n",
        "!ghc -e 'compare \"Abrakadabra\" \"Zebra\"'"
      ],
      "execution_count": null,
      "outputs": [
        {
          "output_type": "stream",
          "text": [
            "compare :: Ord a => a -> a -> Ordering\n",
            "LT\n"
          ],
          "name": "stdout"
        }
      ]
    },
    {
      "cell_type": "code",
      "metadata": {
        "id": "yp8bwfCfmNAe",
        "colab": {
          "base_uri": "https://localhost:8080/"
        },
        "outputId": "c83b58a8-b893-454f-b615-49a69b8b8604"
      },
      "source": [
        "!ghc -e ':t show'"
      ],
      "execution_count": null,
      "outputs": [
        {
          "output_type": "stream",
          "text": [
            "show :: Show a => a -> String\n"
          ],
          "name": "stdout"
        }
      ]
    },
    {
      "cell_type": "code",
      "metadata": {
        "id": "vkLNASfPmtTD",
        "colab": {
          "base_uri": "https://localhost:8080/"
        },
        "outputId": "eb2ff400-6d27-45c1-cfd6-7addfca421cc"
      },
      "source": [
        "!ghc -e 'show 3'\n",
        "!ghc -e 'show 5.334'\n",
        "!ghc -e 'show True'"
      ],
      "execution_count": null,
      "outputs": [
        {
          "output_type": "stream",
          "text": [
            "\"3\"\n",
            "\"5.334\"\n",
            "\"True\"\n"
          ],
          "name": "stdout"
        }
      ]
    },
    {
      "cell_type": "markdown",
      "metadata": {
        "id": "OvlvXtZKoHib"
      },
      "source": [
        "Read 型クラスは Show 型クラスの反対で、read 関数は string を Read 型クラスへ変換する。"
      ]
    },
    {
      "cell_type": "code",
      "metadata": {
        "id": "ask7eBwBoTMs",
        "colab": {
          "base_uri": "https://localhost:8080/"
        },
        "outputId": "551ccf77-823c-4810-c89c-daffca68ac1c"
      },
      "source": [
        "!ghc -e ':t read'"
      ],
      "execution_count": null,
      "outputs": [
        {
          "output_type": "stream",
          "text": [
            "read :: Read a => String -> a\n"
          ],
          "name": "stdout"
        }
      ]
    },
    {
      "cell_type": "code",
      "metadata": {
        "id": "1Y0Slc2xmvZg",
        "colab": {
          "base_uri": "https://localhost:8080/"
        },
        "outputId": "ef3a99e3-696e-46a0-b78b-4cdf29c7795b"
      },
      "source": [
        "!ghc -e 'read \"True\" || False'\n",
        "!ghc -e 'read \"8.2\" + 3.8'\n",
        "!ghc -e 'read \"5\" - 2'\n",
        "!ghc -e 'read \"[1,2,3,4]\" ++ [3]'\n"
      ],
      "execution_count": null,
      "outputs": [
        {
          "output_type": "stream",
          "text": [
            "True\n",
            "12.0\n",
            "3\n",
            "[1,2,3,4,3]\n"
          ],
          "name": "stdout"
        }
      ]
    },
    {
      "cell_type": "code",
      "metadata": {
        "id": "UyaT16a_phvc",
        "colab": {
          "base_uri": "https://localhost:8080/"
        },
        "outputId": "bd303c2e-636e-468b-93d6-e06b9c422004"
      },
      "source": [
        "# 実験 なにに変換していいかわからないとエラーになる\n",
        "!ghc -e 'read \"4\"'"
      ],
      "execution_count": null,
      "outputs": [
        {
          "output_type": "stream",
          "text": [
            "<interactive>: Prelude.read: no parse\n"
          ],
          "name": "stdout"
        }
      ]
    },
    {
      "cell_type": "code",
      "metadata": {
        "colab": {
          "base_uri": "https://localhost:8080/"
        },
        "id": "4yKNA9s2Vgku",
        "outputId": "5612ba98-562f-4490-ba80-24e6adc8c53d"
      },
      "source": [
        "!ghc -e 'read \"4\"::Int'\n",
        "!ghc -e '(read::String -> Int) \"4\"'"
      ],
      "execution_count": null,
      "outputs": [
        {
          "output_type": "stream",
          "text": [
            "4\n",
            "4\n"
          ],
          "name": "stdout"
        }
      ]
    },
    {
      "cell_type": "code",
      "metadata": {
        "id": "mcMTlNxfmyNH",
        "colab": {
          "base_uri": "https://localhost:8080/"
        },
        "outputId": "1b353b07-b75c-48f8-c2eb-3b7bd2ceed43"
      },
      "source": [
        "!ghc -e 'read \"5\"::Int'\n",
        "!ghc -e 'read \"5\"::Float'\n",
        "!ghc -e '(read \"5\"::Float) * 4'\n",
        "!ghc -e 'read \"[1,2,3,4]\"::[Int]'\n",
        "!ghc -e $'read \"(3, \\'a\\')\"::(Int, Char)'\n",
        "!ghc -e '(read \"[1,2,3,4]\"::[Int]) ++ [80]'\n",
        "# 次のはエラーになる\n",
        "!ghc -e $'read \"(120, \\'a\\')\"::(Char, Char)'"
      ],
      "execution_count": null,
      "outputs": [
        {
          "output_type": "stream",
          "text": [
            "5\n",
            "5.0\n",
            "20.0\n",
            "[1,2,3,4]\n",
            "(3,'a')\n",
            "[1,2,3,4,80]\n",
            "<interactive>: Prelude.read: no parse\n"
          ],
          "name": "stdout"
        }
      ]
    },
    {
      "cell_type": "code",
      "metadata": {
        "id": "3i52Ibk2rpeG"
      },
      "source": [
        "# Enum は型クラス。型クラスの情報は :k か :i で知る\r\n",
        "!ghc -e ':t Enum'\r\n",
        "!ghc -e ':k Enum'\r\n",
        "!ghc -e ':i Enum'"
      ],
      "execution_count": null,
      "outputs": []
    },
    {
      "cell_type": "code",
      "metadata": {
        "id": "5P0qAgaim0Kv",
        "colab": {
          "base_uri": "https://localhost:8080/"
        },
        "outputId": "8bb958f0-7276-42ab-d704-9a240ad7dec7"
      },
      "source": [
        "!ghc -e $'[\\'a\\'..\\'e\\']'\n",
        "!ghc -e '[LT ..GT]'\n",
        "!ghc -e '[3 ..5]'\n",
        "!ghc -e $'succ \\'B\\''\n",
        "!echo\n",
        "!ghc -e 'succ LT'\n",
        "!ghc -e 'succ GT'"
      ],
      "execution_count": null,
      "outputs": [
        {
          "output_type": "stream",
          "text": [
            "\"abcde\"\n",
            "[LT,EQ,GT]\n",
            "[3,4,5]\n",
            "'C'\n",
            "\n",
            "EQ\n",
            "<interactive>: Prelude.Enum.Ordering.succ: bad argument\n"
          ],
          "name": "stdout"
        }
      ]
    },
    {
      "cell_type": "code",
      "metadata": {
        "id": "RyYpFX2Vm1Bo",
        "colab": {
          "base_uri": "https://localhost:8080/"
        },
        "outputId": "91f1b135-1451-4366-d5b0-cf9719b54bca"
      },
      "source": [
        "!ghc -e 'minBound :: Int'\n",
        "!ghc -e 'maxBound :: Char'\n",
        "!ghc -e 'maxBound :: Bool'\n",
        "!ghc -e 'minBound :: Bool'\n",
        "!echo\n",
        "!ghc -e ':t minBound'\n"
      ],
      "execution_count": null,
      "outputs": [
        {
          "output_type": "stream",
          "text": [
            "-9223372036854775808\n",
            "'\\1114111'\n",
            "True\n",
            "False\n",
            "\n",
            "minBound :: Bounded a => a\n"
          ],
          "name": "stdout"
        }
      ]
    },
    {
      "cell_type": "code",
      "metadata": {
        "id": "fE9RVhdpm2uf",
        "colab": {
          "base_uri": "https://localhost:8080/"
        },
        "outputId": "2e3e8800-3b09-49d5-ff51-6870e101a441"
      },
      "source": [
        "# tupleのmaxBound\n",
        "!ghc -e 'maxBound :: (Bool, Int, Char)'"
      ],
      "execution_count": null,
      "outputs": [
        {
          "output_type": "stream",
          "text": [
            "(True,9223372036854775807,'\\1114111')\n"
          ],
          "name": "stdout"
        }
      ]
    },
    {
      "cell_type": "code",
      "metadata": {
        "id": "9GSp8EE0m2Af",
        "colab": {
          "base_uri": "https://localhost:8080/"
        },
        "outputId": "1ec70ace-e0b1-4352-ab8e-2bdc98692183"
      },
      "source": [
        "# Numも型クラス\n",
        "!ghc -e ':t 20'\n",
        "!ghc -e '20 :: Int'\n",
        "!ghc -e '20 :: Integer'\n",
        "!ghc -e '20 :: Float'\n",
        "!ghc -e '20 :: Double'\n",
        "!echo\n",
        "!ghc -e ':t (*)'"
      ],
      "execution_count": null,
      "outputs": [
        {
          "output_type": "stream",
          "text": [
            "20 :: Num t => t\n",
            "20\n",
            "20\n",
            "20.0\n",
            "20.0\n",
            "\n",
            "(*) :: Num a => a -> a -> a\n"
          ],
          "name": "stdout"
        }
      ]
    },
    {
      "cell_type": "code",
      "metadata": {
        "id": "ptSQsi3q-Cjz",
        "colab": {
          "base_uri": "https://localhost:8080/"
        },
        "outputId": "7329147b-6538-4ceb-afa0-aec622097b08"
      },
      "source": [
        "# 次のはエラーになる\r\n",
        "!ghc -e ':t (5::Int)*(3::Integer)'"
      ],
      "execution_count": null,
      "outputs": [
        {
          "output_type": "stream",
          "text": [
            "\n",
            "<interactive>:1:11: error:\n",
            "    • Couldn't match expected type ‘Int’ with actual type ‘Integer’\n",
            "    • In the second argument of ‘(*)’, namely ‘(3 :: Integer)’\n",
            "      In the expression: (5 :: Int) * (3 :: Integer)\n"
          ],
          "name": "stdout"
        }
      ]
    },
    {
      "cell_type": "code",
      "metadata": {
        "id": "4sCgGgi2-mkn",
        "colab": {
          "base_uri": "https://localhost:8080/"
        },
        "outputId": "900efab9-e24a-48cf-da0d-a8251539b12e"
      },
      "source": [
        "!ghci -e ':t fromIntegral'\r\n",
        "!ghci -e '(length [1,2,3,4] + 3.2)' # エラー\r\n",
        "!ghci -e 'fromIntegral (length [1,2,3,4]) + 3.2' #=> 7.2"
      ],
      "execution_count": null,
      "outputs": [
        {
          "output_type": "stream",
          "text": [
            "fromIntegral :: (Num b, Integral a) => a -> b\n",
            "\n",
            "<interactive>:0:21: error:\n",
            "    • No instance for (Fractional Int) arising from the literal ‘3.2’\n",
            "    • In the second argument of ‘(+)’, namely ‘3.2’\n",
            "      In the expression: (length [1, 2, 3, 4] + 3.2)\n",
            "      In an equation for ‘it’: it = (length [1, 2, 3, ....] + 3.2)\n",
            "7.2\n"
          ],
          "name": "stdout"
        }
      ]
    },
    {
      "cell_type": "markdown",
      "metadata": {
        "id": "kNbngAGP_ydG"
      },
      "source": [
        "# 関数の文法 Syntax in Functions"
      ]
    },
    {
      "cell_type": "markdown",
      "metadata": {
        "id": "IAeMIiBbTos9"
      },
      "source": [
        "# パターンマッチング\r\n",
        "ここからパターンマッチングになるが、コマンドラインワンライナーでパターンマッチングできるか。"
      ]
    },
    {
      "cell_type": "code",
      "metadata": {
        "id": "9VXtkRvSTeih",
        "colab": {
          "base_uri": "https://localhost:8080/"
        },
        "outputId": "5f0a919f-2332-4459-8a2a-625c5914791d"
      },
      "source": [
        "%%writefile lucky7.hs\r\n",
        "lucky:: (Integral a) => a -> String\r\n",
        "lucky 7 = \"LUCKY NUMBER SEVEN!!!!\"\r\n",
        "lucky x = \"Sorry, you're out of luck, pal!!!!\" \r\n",
        "\r\n",
        "main = print $ lucky 7"
      ],
      "execution_count": null,
      "outputs": [
        {
          "output_type": "stream",
          "text": [
            "Overwriting lucky7.hs\n"
          ],
          "name": "stdout"
        }
      ]
    },
    {
      "cell_type": "code",
      "metadata": {
        "id": "OpZwdNPlVJIE",
        "colab": {
          "base_uri": "https://localhost:8080/"
        },
        "outputId": "26bfed15-68e9-46bd-b5fc-ed7954f81736"
      },
      "source": [
        "!runghc lucky7.hs\r\n"
      ],
      "execution_count": null,
      "outputs": [
        {
          "output_type": "stream",
          "text": [
            "\"LUCKY NUMBER SEVEN!!!!\"\n"
          ],
          "name": "stdout"
        }
      ]
    },
    {
      "cell_type": "code",
      "metadata": {
        "id": "s5mZpt0ZVaVw",
        "colab": {
          "base_uri": "https://localhost:8080/"
        },
        "outputId": "b8f2a712-6b96-472c-b021-b1ab53cb0d6d"
      },
      "source": [
        "!ghc -e $'let {lucky 7 = \"LUCKY NUMBER SEVEN!!!!\"; lucky x = \"Sorry, you\\'re out of luck, pal!!!!\" } in print $ lucky 6'"
      ],
      "execution_count": null,
      "outputs": [
        {
          "output_type": "stream",
          "text": [
            "\"Sorry, you're out of luck, pal!!!!\"\n"
          ],
          "name": "stdout"
        }
      ]
    },
    {
      "cell_type": "code",
      "metadata": {
        "id": "nrp2XHZN_7Gn",
        "colab": {
          "base_uri": "https://localhost:8080/"
        },
        "outputId": "5823a6aa-f894-469b-f319-5e198a56ebf1"
      },
      "source": [
        "!ghc -e $'let {sayMe :: (Integral a) => a -> String; sayMe 1 = \"One!\"; sayMe 2 = \"Two!\"; sayMe 3 = \"Three!\"; sayMe 4 = \"Four!\"; sayMe 5 = \"Five!\"; sayMe x = \"Not between 1 and 5\"; } in print $ sayMe 8'\r\n"
      ],
      "execution_count": null,
      "outputs": [
        {
          "output_type": "stream",
          "text": [
            "\"Not between 1 and 5\"\n"
          ],
          "name": "stdout"
        }
      ]
    },
    {
      "cell_type": "code",
      "metadata": {
        "id": "Og34JxEWCBL1",
        "colab": {
          "base_uri": "https://localhost:8080/"
        },
        "outputId": "53919be1-b309-4f15-b502-997fe3fcea80"
      },
      "source": [
        "!ghc -e $'let { factorial :: (Integral a) => a -> a; factorial 0 = 1; factorial n = n * factorial (n - 1); } in print $ factorial 42'\r\n"
      ],
      "execution_count": null,
      "outputs": [
        {
          "output_type": "stream",
          "text": [
            "1405006117752879898543142606244511569936384000000000\n"
          ],
          "name": "stdout"
        }
      ]
    },
    {
      "cell_type": "code",
      "metadata": {
        "id": "fhhacyZMDaRZ",
        "colab": {
          "base_uri": "https://localhost:8080/"
        },
        "outputId": "a940131f-25c7-4e19-919a-bfedcfda0499"
      },
      "source": [
        "!ghc -e $'let {addVectors :: (Num a) => (a, a) -> (a, a) -> (a, a); addVectors a b = (fst a + fst b, snd a + snd b);} in print $ addVectors (1,2) (3, 4)'\r\n"
      ],
      "execution_count": null,
      "outputs": [
        {
          "output_type": "stream",
          "text": [
            "(4,6)\n"
          ],
          "name": "stdout"
        }
      ]
    },
    {
      "cell_type": "code",
      "metadata": {
        "id": "hxV1UAdzERoS",
        "colab": {
          "base_uri": "https://localhost:8080/"
        },
        "outputId": "ca2b271b-35e8-49f8-f04d-a9736dece0e3"
      },
      "source": [
        "!ghc -e $'let { addVectors :: (Num a) => (a, a) -> (a, a) -> (a, a); addVectors (x1, y1) (x2, y2) = (x1 + x2, y1 + y2);} in addVectors (1, 2) (3, 4)'\r\n"
      ],
      "execution_count": null,
      "outputs": [
        {
          "output_type": "stream",
          "text": [
            "(4,6)\n"
          ],
          "name": "stdout"
        }
      ]
    },
    {
      "cell_type": "code",
      "metadata": {
        "id": "s16B5TzHw4S6",
        "colab": {
          "base_uri": "https://localhost:8080/"
        },
        "outputId": "f5cf95c0-7eb0-4b4c-8127-34118f34fabe"
      },
      "source": [
        "!ghc -e $'let { first :: (a, b, c) -> a; first (x, _, _) = x; } in print $ first (1,2,3)'\r\n",
        "!ghc -e $'let { second :: (a, b, c) -> b ; second (_, y, _) = y; } in print $ second (1,2,3)'\r\n",
        "!ghc -e $'let { third :: (a, b, c) -> c; third (_, _, z) = z; } in print $ third (1,2,3)'"
      ],
      "execution_count": null,
      "outputs": [
        {
          "output_type": "stream",
          "text": [
            "1\n",
            "2\n",
            "3\n"
          ],
          "name": "stdout"
        }
      ]
    },
    {
      "cell_type": "code",
      "metadata": {
        "id": "-MFUrFWkx3uC",
        "colab": {
          "base_uri": "https://localhost:8080/"
        },
        "outputId": "4dc03701-b73e-4f54-9c53-3c73c34cf1d8"
      },
      "source": [
        "!ghc -e $'let xs = [(1,3), (4,3), (2,4), (5,3), (5,6), (3,1)] in [a+b | (a,b) <- xs]'\r\n",
        "!ghc -e $'let xs = [(1,3), (4,3), (2,4), (5,3), (5,6), (3,1)] in print  [a+b | (a,b) <- xs]'\r\n"
      ],
      "execution_count": null,
      "outputs": [
        {
          "output_type": "stream",
          "text": [
            "[4,7,6,8,11,4]\n",
            "[4,7,6,8,11,4]\n"
          ],
          "name": "stdout"
        }
      ]
    },
    {
      "cell_type": "markdown",
      "metadata": {
        "id": "jQqSUGdlKIJ5"
      },
      "source": [
        "# flatten\r\n",
        "concat もしくは map concat で flatten できる。"
      ]
    },
    {
      "cell_type": "code",
      "metadata": {
        "id": "xiUZZY3pyVz0",
        "colab": {
          "base_uri": "https://localhost:8080/"
        },
        "outputId": "d324469a-277c-46ba-dfee-8a82450b7625"
      },
      "source": [
        "#!echo $'[(1,3), (4,3), (2,4), (5,3), (5,6), (3,1)]' | ghc -e $'getContents >>= map (\\(a,b) -> a+b)'\r\n",
        "# !echo $'10 20\\n30 40\\n50 60' | ghc -e 'getContents >>= print . map (map (read::String -> Int) . words) . lines'\r\n",
        "# !echo $'[(1,3), (4,3), (2,4), (5,3), (5,6), (3,1)]' | ghc -e 'getContents >>= map (read::String -> ([(Int, Int)]) . lines'\r\n",
        "!echo $'[(1,3), (4,3), (2,4), (5,3), (5,6), (3,1)]' | ghc -e 'getContents >>= print . map (read::String -> [(Int, Int)]) . lines'\r\n",
        "!echo $'[(1,3), (4,3), (2,4), (5,3), (5,6), (3,1)]' | ghc -e 'getContents >>= print. map (\\(a,b) -> a+b) . concat . map (read::String -> [(Int, Int)]) . lines'\r\n"
      ],
      "execution_count": null,
      "outputs": [
        {
          "output_type": "stream",
          "text": [
            "[[(1,3),(4,3),(2,4),(5,3),(5,6),(3,1)]]\n",
            "[4,7,6,8,11,4]\n"
          ],
          "name": "stdout"
        }
      ]
    },
    {
      "cell_type": "markdown",
      "metadata": {
        "id": "EUmqt8osNIVL"
      },
      "source": [
        "# リスト list を x:xs で取り出す"
      ]
    },
    {
      "cell_type": "code",
      "metadata": {
        "id": "wZ2WrU8nNh-e",
        "colab": {
          "base_uri": "https://localhost:8080/"
        },
        "outputId": "7eac9f0c-0f23-425f-ad2c-ee01c2f728ab"
      },
      "source": [
        "# head を実装する\r\n",
        "# !echo $'[4,5,6]' | ghc -e $'getLine >>= let {head01::[a]->a;head01[]=error \"Can\\'t\"; head01 (x:_)=x;} in (read::String->[a])'\r\n",
        "# getLine の結果は IO のままなので getContents のときと同様一旦 lines で処理する必要がある\r\n",
        "# map の結果は print を使わないと返り値だけではエラーになる\r\n",
        "!echo $'[4,5,6]' | ghc -e $'getContents >>= print.map (read::String-> [Int]).lines'\r\n",
        "!echo $'[4,5,6]' | ghc -e $'getContents >>= print.concat.map (read::String-> [Int]).lines'\r\n",
        "!echo $'[4,5,6]' | ghc -e $'getContents >>= let {head01::[a]->a;head01[]=error \"Can\\'t\"; head01 (x:_)=x;} in print.head01.concat.map(read::String->[Int]).lines'\r\n"
      ],
      "execution_count": null,
      "outputs": [
        {
          "output_type": "stream",
          "text": [
            "[[4,5,6]]\n",
            "[4,5,6]\n",
            "4\n"
          ],
          "name": "stdout"
        }
      ]
    },
    {
      "cell_type": "code",
      "metadata": {
        "colab": {
          "base_uri": "https://localhost:8080/"
        },
        "id": "ou9nWM4L1TJR",
        "outputId": "915c8731-368b-439c-dfc9-dcce192b6015"
      },
      "source": [
        "!echo $'\"Hello\"' | ghc -e $'getContents >>= let {head01::[a]->a;head01[]=error \"Can\\'t\"; head01 (x:_)=x;} in print.head01.concat.map(read::String->String).lines'\r\n",
        "!echo $'\"Hello\"' | ghc -e $'getContents >>= let {head01::[a]->a;head01[]=error \"Can\\'t\"; head01 (x:_)=x;} in print.head01.concat.map(read::[Char]->[Char]).lines'\r\n"
      ],
      "execution_count": null,
      "outputs": [
        {
          "output_type": "stream",
          "text": [
            "'H'\n",
            "'H'\n"
          ],
          "name": "stdout"
        }
      ]
    },
    {
      "cell_type": "code",
      "metadata": {
        "colab": {
          "base_uri": "https://localhost:8080/"
        },
        "id": "ZdBpJ6K42BDv",
        "outputId": "89c86c3c-0cab-4301-8333-32273db88d3f"
      },
      "source": [
        "!echo $'[]' | ghc -e $'getContents >>= let {head01::[a]->a;head01[]=error \"Can\\'t\"; head01 (x:_)=x;} in print.head01.concat.map(read::String->String).lines'\r\n"
      ],
      "execution_count": null,
      "outputs": [
        {
          "output_type": "stream",
          "text": [
            "<interactive>: Can't\n",
            "CallStack (from HasCallStack):\n",
            "  error, called at <interactive>:0:46 in interactive:Ghci1\n"
          ],
          "name": "stdout"
        }
      ]
    },
    {
      "cell_type": "code",
      "metadata": {
        "colab": {
          "base_uri": "https://localhost:8080/"
        },
        "id": "SLqCErcs2qn5",
        "outputId": "0352559b-fee1-4b5c-bc87-1a2566f8a3b6"
      },
      "source": [
        "# tell :: (Show a) => [a] -> String\r\n",
        "# tell [] = \"The list is empty\"\r\n",
        "# tell (x:[]) = \"The list has one element: \" ++ show x\r\n",
        "# tell (x:y:[]) = \"The list has two elements: \" ++ show x ++ \" and \" ++ show y\r\n",
        "# tell (x:y:_) = \"This list is long. The first two elements are: \" ++ show x ++ \" and \" ++ show y\r\n",
        "!echo $'[]' | ghc -e $'getContents >>= let{ tell :: (Show a) => [a] -> String; tell [] = \"The list is empty\"; tell (x:[]) = \"The list has one element: \" ++ show x; tell (x:y:[]) = \"The list has two elements: \" ++ show x ++ \" and \" ++ show y; tell (x:y:_) = \"This list is long. The first two elements are: \" ++ show x ++ \" and \" ++ show y;} in print.tell.concat.map (read::String->[Char]).lines'\r\n",
        "!echo $'[]' | ghc -e $'getContents >>= let{ tell :: (Show a) => [a] -> String; tell [] = \"The list is empty\"; tell (x:[]) = \"The list has one element: \" ++ show x; tell (x:y:[]) = \"The list has two elements: \" ++ show x ++ \" and \" ++ show y; tell (x:y:_) = \"This list is long. The first two elements are: \" ++ show x ++ \" and \" ++ show y;} in print.tell.concat.map (read::String->String).lines'\r\n",
        "!echo $'\"abcdef\"' | ghc -e $'getContents >>= let{ tell :: (Show a) => [a] -> String; tell [] = \"The list is empty\"; tell (x:[]) = \"The list has one element: \" ++ show x; tell (x:y:[]) = \"The list has two elements: \" ++ show x ++ \" and \" ++ show y; tell (x:y:_) = \"This list is long. The first two elements are: \" ++ show x ++ \" and \" ++ show y;} in print.tell.concat.map (read::String->String).lines'\r\n"
      ],
      "execution_count": null,
      "outputs": [
        {
          "output_type": "stream",
          "text": [
            "\"The list is empty\"\n",
            "\"The list is empty\"\n",
            "\"This list is long. The first two elements are: 'a' and 'b'\"\n"
          ],
          "name": "stdout"
        }
      ]
    },
    {
      "cell_type": "code",
      "metadata": {
        "colab": {
          "base_uri": "https://localhost:8080/"
        },
        "id": "7Aq-Zn5ZOFyN",
        "outputId": "2cb59c61-acc5-4ed9-b3cd-195f5afa030e"
      },
      "source": [
        "# リスト内包表記を使って length を実装する\r\n",
        "!ghc -e 'let length01 xs = sum [1 | _ <- xs] in print (length01 [1,2,3])'\r\n",
        "!echo $'[1,2,3]' | ghc -e 'getContents >>= let {length01 xs = sum [1 | _ <- xs]} in print.length01.concat.map(read::String->[Int]).lines'"
      ],
      "execution_count": null,
      "outputs": [
        {
          "output_type": "stream",
          "text": [
            "3\n",
            "3\n"
          ],
          "name": "stdout"
        }
      ]
    },
    {
      "cell_type": "code",
      "metadata": {
        "id": "bmspZeMeFJ60",
        "colab": {
          "base_uri": "https://localhost:8080/"
        },
        "outputId": "5d4736a5-b8a3-4f52-b10a-051f0945e688"
      },
      "source": [
        "# パターンマッチングを使ってlength を実装する\r\n",
        "#\r\n",
        "# length02 :: (Num b) => [a] -> b\r\n",
        "# length02 [] = 0\r\n",
        "# length02 (_:xs) = 1 + length' xs\r\n",
        "#\r\n",
        "!echo $'[1,2,3]' | ghc -e 'getContents >>= let {length02 :: (Num b) => [a] -> b; length02 [] = 0; length02 (_:xs) = 1 + length02 xs;} in print.length02.concat.map(read::String->[Int]).lines'\r\n"
      ],
      "execution_count": null,
      "outputs": [
        {
          "output_type": "stream",
          "text": [
            "3\n"
          ],
          "name": "stdout"
        }
      ]
    },
    {
      "cell_type": "markdown",
      "metadata": {
        "id": "-MxrtqOSmsYF"
      },
      "source": [
        "# wordwrapper \r\n",
        "英語のテキストを長い文字列の段落を処理しやすいように短い文字列に分割するツール。"
      ]
    },
    {
      "cell_type": "code",
      "metadata": {
        "colab": {
          "base_uri": "https://localhost:8080/"
        },
        "id": "ixKFQX_Km4y-",
        "outputId": "e5cf9b13-9d7e-40a7-c96f-88f3686a5f07"
      },
      "source": [
        "%%writefile wwrap03.hs\r\n",
        "wordwrap maxlen = wrap_ 0 . words\r\n",
        "  where\r\n",
        "    wrap_ _ [] = \"\"\r\n",
        "\r\n",
        "    wrap_ pos (w:ws)\r\n",
        "      -- at line start: put down the word no matter what\r\n",
        "      | pos == 0 = w ++ wrap_ (pos + lw) ws\r\n",
        "      | pos + lw + 1 > maxlen = '\\n' : wrap_ 0 (w : ws)\r\n",
        "      | otherwise = ' ' : w ++ wrap_ (pos + lw + 1) ws\r\n",
        "      where\r\n",
        "        lw = length w\r\n",
        "\r\n",
        "main =  do\r\n",
        "    x <- getContents\r\n",
        "    putStr $ unlines $ map (wordwrap 60) $ lines x\r\n"
      ],
      "execution_count": null,
      "outputs": [
        {
          "output_type": "stream",
          "text": [
            "Writing wwrap03.hs\n"
          ],
          "name": "stdout"
        }
      ]
    },
    {
      "cell_type": "code",
      "metadata": {
        "colab": {
          "base_uri": "https://localhost:8080/"
        },
        "id": "qBAVAAPQnHkW",
        "outputId": "07492994-9a55-41bb-eee0-c3df2bdd2b57"
      },
      "source": [
        "!echo $'This is a pen.  That is an apple. This is a pen.  That is an apple. This is a pen.  That is an apple. This is a pen.  That is an apple. This is a pen.  That is an apple. This is a pen.  That is an apple. This is a pen.  That is an apple. This is a pen.  That is an apple. ;jk lkjl; ljkl;jk \\n\\n lkj;lj this \\nthis is a epnl;kj; lk;j' |runghc wwrap03.hs"
      ],
      "execution_count": null,
      "outputs": [
        {
          "output_type": "stream",
          "text": [
            "This is a pen. That is an apple. This is a pen. That is an\n",
            "apple. This is a pen. That is an apple. This is a pen. That\n",
            "is an apple. This is a pen. That is an apple. This is a pen.\n",
            "That is an apple. This is a pen. That is an apple. This is a\n",
            "pen. That is an apple. ;jk lkjl; ljkl;jk\n",
            "\n",
            "lkj;lj this\n",
            "this is a epnl;kj; lk;j\n"
          ],
          "name": "stdout"
        }
      ]
    },
    {
      "cell_type": "code",
      "metadata": {
        "id": "np8NdWgR21uX",
        "colab": {
          "base_uri": "https://localhost:8080/"
        },
        "outputId": "a6d3d36e-0ac8-47c4-afbf-8e8cc7663237"
      },
      "source": [
        "# パターンマッチングで sum を実装する\r\n",
        "\r\n",
        "%%writefile sum01.hs\r\n",
        "\r\n",
        "sum01 :: (Num a) => [a] -> a  \r\n",
        "sum01 [] = 0  \r\n",
        "sum01 (x:xs) = x + sum01 xs  \r\n",
        "\r\n",
        "main = print $ sum [1,2,3]"
      ],
      "execution_count": null,
      "outputs": [
        {
          "output_type": "stream",
          "text": [
            "Writing sum01.hs\n"
          ],
          "name": "stdout"
        }
      ]
    },
    {
      "cell_type": "code",
      "metadata": {
        "colab": {
          "base_uri": "https://localhost:8080/"
        },
        "id": "bZymYtkUiRaw",
        "outputId": "dc9c12c2-b37a-472b-e0dc-602ae8443dff"
      },
      "source": [
        "!runghc sum01.hs"
      ],
      "execution_count": null,
      "outputs": [
        {
          "output_type": "stream",
          "text": [
            "6\n"
          ],
          "name": "stdout"
        }
      ]
    },
    {
      "cell_type": "code",
      "metadata": {
        "id": "NFgA8axBsc1w",
        "colab": {
          "base_uri": "https://localhost:8080/"
        },
        "outputId": "2a52970a-7f5b-479b-9f97-d9264e003d5c"
      },
      "source": [
        "# パターンマッチングで sum を実装する\r\n",
        "# コマンドラインワンライナーバージョン\r\n",
        "!ghc -e $'let {sum01 :: (Num a) => [a] -> a; sum01 [] = 0; sum01 (x:xs) = x + sum01 xs } in print $ sum [1,2,3]'"
      ],
      "execution_count": null,
      "outputs": [
        {
          "output_type": "stream",
          "text": [
            "6\n"
          ],
          "name": "stdout"
        }
      ]
    },
    {
      "cell_type": "markdown",
      "metadata": {
        "id": "qZtVGeHnjegw"
      },
      "source": [
        "# 解くべき精選過去問 10 問"
      ]
    },
    {
      "cell_type": "markdown",
      "metadata": {
        "id": "Kbw0MhTN7iUj"
      },
      "source": [
        "\r\n",
        "\r\n",
        "@hsjoihs氏による AtCoder に登録したら解くべき精選過去問 10 問を Haskell で解いてみた – Qiita  \r\n",
        "\r\n",
        "\r\n",
        "@myuon_myon氏による Haskellで解くAtCoder – The curse of λ  \r\n",
        "\r\n",
        "\r\n",
        "@hnw氏による HaskellでAtCoderの問題を解く（入力の高速化編） – Qiita  \r\n",
        "\r\n",
        "\r\n",
        "Haskell で高速なプログラムを書くときに注意すること （2016年6月）\r\n",
        "\r\n",
        "\r\n",
        "Haskellで競技プログラミング IO編  \r\n",
        "https://qiita.com/karszawa/items/ec0c01c81c22ce060405  \r\n",
        "\r\n",
        "配列 入力 haskell  \r\n",
        "\r\n",
        "HaskellでAtCoderに参戦して水色になった  \r\n",
        "https://blog.miz-ar.info/2019/05/atcoder-with-haskell/   \r\n",
        "\r\n",
        "\r\n",
        "\r\n",
        "など参考にすこし脇道にそれる。"
      ]
    },
    {
      "cell_type": "code",
      "metadata": {
        "id": "_-_KyVpzih3l",
        "colab": {
          "base_uri": "https://localhost:8080/"
        },
        "outputId": "eff43452-005a-4c62-8688-07a462cd0be5"
      },
      "source": [
        "# AtCoder Regular Contest #14 B問題\r\n",
        "%%writefile arc14b.hs\r\n",
        "import Control.Monad\r\n",
        "import Control.Applicative\r\n",
        "import Data.List\r\n",
        "\r\n",
        "main :: IO ()\r\n",
        "main = do\r\n",
        "    n <- readLn\r\n",
        "    (w:ws) <- replicateM n getLine\r\n",
        "    putStrLn $ case check [w] ws True of\r\n",
        "        Nothing -> \"DRAW\"\r\n",
        "        Just True -> \"WIN\"\r\n",
        "        Just False -> \"LOSE\"\r\n",
        "\r\n",
        "check _ [] _ = Nothing\r\n",
        "check dict@(la:_) (w:ws) b\r\n",
        "    | last la /= head w = Just b\r\n",
        "    | w `elem` dict = Just b\r\n",
        "    | otherwise = check (w:dict) ws (not b)"
      ],
      "execution_count": null,
      "outputs": [
        {
          "output_type": "stream",
          "text": [
            "Writing arc14b.hs\n"
          ],
          "name": "stdout"
        }
      ]
    },
    {
      "cell_type": "code",
      "metadata": {
        "id": "sUPPXQf9xes4",
        "colab": {
          "base_uri": "https://localhost:8080/"
        },
        "outputId": "67a57344-056f-4293-b7ea-eff9695d0232"
      },
      "source": [
        "!echo $'3\\nbook\\nkilo\\noldies' | runghc arc14b.hs"
      ],
      "execution_count": null,
      "outputs": [
        {
          "output_type": "stream",
          "text": [
            "DRAW\n"
          ],
          "name": "stdout"
        }
      ]
    },
    {
      "cell_type": "code",
      "metadata": {
        "id": "cChJbfD70QNL",
        "colab": {
          "base_uri": "https://localhost:8080/"
        },
        "outputId": "3165342f-8d7f-41af-d802-fa0aaff930ec"
      },
      "source": [
        "!ghc -e $'print $ map (read::String -> Int) $ words $ \"3 4 5\"'"
      ],
      "execution_count": null,
      "outputs": [
        {
          "output_type": "stream",
          "text": [
            "[3,4,5]\n"
          ],
          "name": "stdout"
        }
      ]
    },
    {
      "cell_type": "markdown",
      "metadata": {
        "id": "cDVTm7vt31ih"
      },
      "source": [
        "# AtCoder First 10"
      ]
    },
    {
      "cell_type": "code",
      "metadata": {
        "id": "dqV4h2Q8DU72",
        "colab": {
          "base_uri": "https://localhost:8080/"
        },
        "outputId": "05f11048-3de3-47ed-90fd-af5d0e3c945d"
      },
      "source": [
        "# atcoderfirstten00\r\n",
        "%%writefile atcoderfirstten00.hs\r\n",
        "main = do\r\n",
        "    a <- readLn\r\n",
        "    [b,c] <- map read . words <$> getLine\r\n",
        "    s <- getLine\r\n",
        "    putStrLn $ unwords [show (a + b + c), s]"
      ],
      "execution_count": null,
      "outputs": [
        {
          "output_type": "stream",
          "text": [
            "Writing atcoderfirstten00.hs\n"
          ],
          "name": "stdout"
        }
      ]
    },
    {
      "cell_type": "code",
      "metadata": {
        "colab": {
          "base_uri": "https://localhost:8080/"
        },
        "id": "46eJf6fPhM4J",
        "outputId": "17819c0c-3855-4573-8283-54157e17a63d"
      },
      "source": [
        "!echo $'3\\n4 5 \\n 6' | runghc atcoderfirstten00.hs\r\n"
      ],
      "execution_count": null,
      "outputs": [
        {
          "output_type": "stream",
          "text": [
            "12  6\n"
          ],
          "name": "stdout"
        }
      ]
    },
    {
      "cell_type": "code",
      "metadata": {
        "id": "xf5wNfqt44wl",
        "colab": {
          "base_uri": "https://localhost:8080/"
        },
        "outputId": "1a8c8e40-ff62-4c68-ab71-63f3d05c0596"
      },
      "source": [
        "# atcoderfirstten00\r\n",
        "!echo $'3\\n4 5\\n 6' | ghc -e 'do {x <- getContents; let [a,b,c,s] = map (read::String->Int) (words x) in putStrLn (unwords [show (a + b + c), show(s)])}'"
      ],
      "execution_count": null,
      "outputs": [
        {
          "output_type": "stream",
          "text": [
            "12 6\n"
          ],
          "name": "stdout"
        }
      ]
    },
    {
      "cell_type": "code",
      "metadata": {
        "id": "yZEzofvcf3py",
        "colab": {
          "base_uri": "https://localhost:8080/"
        },
        "outputId": "f7e461c5-7bbd-4866-fc33-beea6e145c5f"
      },
      "source": [
        "# atcoderfirstten01 product\r\n",
        "%%writefile atcoderfirstten01.hs\r\n",
        "main = do\r\n",
        "    [a,b] <- map read . words <$> getLine\r\n",
        "    if (a * b) `mod` 2 == 0 then putStrLn \"Even\" else putStrLn \"Odd\""
      ],
      "execution_count": null,
      "outputs": [
        {
          "output_type": "stream",
          "text": [
            "Overwriting atcoderfirstten01.hs\n"
          ],
          "name": "stdout"
        }
      ]
    },
    {
      "cell_type": "code",
      "metadata": {
        "id": "wa6aTtg-gEnu",
        "colab": {
          "base_uri": "https://localhost:8080/"
        },
        "outputId": "dee47927-b6bc-4329-db37-19e457e53c50"
      },
      "source": [
        "!echo $'4 5' | runghc atcoderfirstten01.hs"
      ],
      "execution_count": null,
      "outputs": [
        {
          "output_type": "stream",
          "text": [
            "Even\n"
          ],
          "name": "stdout"
        }
      ]
    },
    {
      "cell_type": "code",
      "metadata": {
        "id": "eAppaqofgNR1",
        "colab": {
          "base_uri": "https://localhost:8080/"
        },
        "outputId": "5b4c6d80-1a39-40ce-e691-3b4e8dec5745"
      },
      "source": [
        "# atcoderfirstten01\r\n",
        "!echo $'4 5' | ghc -e $'do {[a,b] <- map (read::String->Int).words <$> getContents; if (a * b) `mod` 2 == 0 then putStrLn \"Even\" else putStrLn\"Odd\"}'"
      ],
      "execution_count": null,
      "outputs": [
        {
          "output_type": "stream",
          "text": [
            "Even\n"
          ],
          "name": "stdout"
        }
      ]
    },
    {
      "cell_type": "markdown",
      "metadata": {
        "id": "1nllqupq8YXt"
      },
      "source": [
        "# いまここ"
      ]
    },
    {
      "cell_type": "code",
      "metadata": {
        "id": "_8gvDvlhikF2",
        "colab": {
          "base_uri": "https://localhost:8080/"
        },
        "outputId": "8b55f3df-f3e5-4257-b724-292c5e31cb6c"
      },
      "source": [
        "# atcoderfirstten02 placing marbles\r\n",
        "# いまここ\r\n",
        "main = getLine >>= print . length . filter (=='1')\r\n"
      ],
      "execution_count": null,
      "outputs": [
        {
          "output_type": "stream",
          "text": [
            "UsageError: %%writefile is a cell magic, but the cell body is empty.\n"
          ],
          "name": "stderr"
        }
      ]
    },
    {
      "cell_type": "markdown",
      "metadata": {
        "id": "KXhYgVI7wjRR"
      },
      "source": [
        "アズパターンはあとマークをパターンの前に置く。 パターンと名前を紐付けるもので便利に使える。\r\n",
        "\r\n",
        "例えば `xs@(x:y:ys)` と書くと `(x:y:ys)` の代わりに `xs` が使える。"
      ]
    },
    {
      "cell_type": "code",
      "metadata": {
        "id": "y9PPrqkDxQKO",
        "colab": {
          "base_uri": "https://localhost:8080/"
        },
        "outputId": "6455bdf8-80f2-454c-81ff-d3d7d1f61337"
      },
      "source": [
        "!echo '' | ghc -e $'getContents >>= let{capital::String->String; capital \"\" = \"Empty string, whoops!\"; capital all@(x:xs) =\"The first letter of \" ++ all ++ \" is \"++ [x];} in putStrLn.capital.concat. lines'"
      ],
      "execution_count": null,
      "outputs": [
        {
          "output_type": "stream",
          "text": [
            "Empty string, whoops!\n"
          ],
          "name": "stdout"
        }
      ]
    },
    {
      "cell_type": "code",
      "metadata": {
        "id": "b4smYce47GW5",
        "colab": {
          "base_uri": "https://localhost:8080/"
        },
        "outputId": "65577c43-64b4-4a47-b7f3-bdb9f634a924"
      },
      "source": [
        "!echo 'Dracula' | ghc -e $'getContents >>= let{capital::String->String; capital \"\" = \"Empty string, whoops!\"; capital all@(x:xs) =\"The first letter of \" ++ all ++ \" is \"++ [x];} in putStrLn.capital.concat. lines'"
      ],
      "execution_count": null,
      "outputs": [
        {
          "output_type": "stream",
          "text": [
            "The first letter of Dracula is D\n"
          ],
          "name": "stdout"
        }
      ]
    },
    {
      "cell_type": "markdown",
      "metadata": {
        "id": "MPWGIk0Q8EDH"
      },
      "source": [
        "# ガード guard\r\n",
        "\r\n",
        "条件分岐にパターンマッチング、if、case、guard、がある。 たぶんどれも代用できるかもしれないので、読みやすさのためにあると思われる。 他言語との行き来を考えると、if と case だけを使うのがいいかもしれない。"
      ]
    },
    {
      "cell_type": "code",
      "metadata": {
        "id": "FWrgQwbO9sOJ"
      },
      "source": [
        "# 次のようなあまりよくない関数を考える\r\n",
        "%%script false\r\n",
        "bmiTell :: (RealFloat a) => a -> String  \r\n",
        "bmiTell bmi  \r\n",
        "   | bmi <= 18.5 = \"You're underweight, you emo, you!\"  \r\n",
        "   | bmi <= 25.0 = \"You're supposedly normal. Pffft, I bet you're ugly!\"  \r\n",
        "   | bmi <= 30.0 = \"You're fat! Lose some weight, fatty!\"  \r\n",
        "   | otherwise   = \"You're a whale, congratulations!\"  "
      ],
      "execution_count": null,
      "outputs": []
    },
    {
      "cell_type": "code",
      "metadata": {
        "id": "5o2c8bFk-a2W",
        "colab": {
          "base_uri": "https://localhost:8080/"
        },
        "outputId": "18f0b78a-78d8-41da-a496-29c41e31bca0"
      },
      "source": [
        "!echo $'18.0' | ghc -e $'getContents >>= let{bmiTell::(RealFloat a)=>a->String; bmiTell bmi | bmi <= 18.5 = \"You\\'re underweight, you emo, you!\" | bmi <= 25.0 = \"You\\'re supposedly normal.\" | bmi <= 30.0 = \"You\\'re fat!\" | otherwise  = \"You\\'re a whale!\";} in putStrLn.bmiTell.(read::String->Float).concat.lines'\r\n",
        "!echo $'25.0' | ghc -e $'getContents >>= let{bmiTell::(RealFloat a)=>a->String; bmiTell bmi | bmi <= 18.5 = \"You\\'re underweight, you emo, you!\" | bmi <= 25.0 = \"You\\'re supposedly normal.\" | bmi <= 30.0 = \"You\\'re fat!\" | otherwise  = \"You\\'re a whale!\";} in putStrLn.bmiTell.(read::String->Float).concat.lines'\r\n",
        "!echo $'28.0' | ghc -e $'getContents >>= let{bmiTell::(RealFloat a)=>a->String; bmiTell bmi | bmi <= 18.5 = \"You\\'re underweight, you emo, you!\" | bmi <= 25.0 = \"You\\'re supposedly normal.\" | bmi <= 30.0 = \"You\\'re fat!\" | otherwise  = \"You\\'re a whale!\";} in putStrLn.bmiTell.(read::String->Float).concat.lines'\r\n",
        "!echo $'50.0' | ghc -e $'getContents >>= let{bmiTell::(RealFloat a)=>a->String; bmiTell bmi | bmi <= 18.5 = \"You\\'re underweight, you emo, you!\" | bmi <= 25.0 = \"You\\'re supposedly normal.\" | bmi <= 30.0 = \"You\\'re fat!\" | otherwise  = \"You\\'re a whale!\";} in putStrLn.bmiTell.(read::String->Float).concat.lines'"
      ],
      "execution_count": null,
      "outputs": [
        {
          "output_type": "stream",
          "text": [
            "You're underweight, you emo, you!\n",
            "You're supposedly normal.\n",
            "You're fat!\n",
            "You're a whale!\n"
          ],
          "name": "stdout"
        }
      ]
    },
    {
      "cell_type": "code",
      "metadata": {
        "id": "KfYUDSJkkLHo"
      },
      "source": [
        "# 身長と体重を入力すると bmi を計算するように変更する\r\n",
        "%%script false\r\n",
        "bmiTell :: (RealFloat a) => a -> a -> String  \r\n",
        "bmiTell weight height  \r\n",
        "   | weight / height ^ 2 <= 18.5 = \"You're underweight, youemo, you!\"  \r\n",
        "   | weight / height ^ 2 <= 25.0 = \"You're supposedly normal.Pffft, I bet you're ugly!\"  \r\n",
        "   | weight / height ^ 2 <= 30.0 = \"You're fat! Lose some weight,fatty!\"  \r\n",
        "   | otherwise                 = \"You're a whale, congratulations!\"  "
      ],
      "execution_count": null,
      "outputs": []
    },
    {
      "cell_type": "code",
      "metadata": {
        "id": "4snmUBZ2lN4U",
        "colab": {
          "base_uri": "https://localhost:8080/"
        },
        "outputId": "ee030a44-3ee6-469b-f81d-301bfc39e9b0"
      },
      "source": [
        "!echo $'85 1.90' | ghc -e $'getContents >>= let{bmiTell::(RealFloat a)=>a->a->String; bmiTell weight height |weight/height^2<=18.5=\"Emo!\"|weight/height^2<=25.0=\"Normal!\"|weight/height^2<=30.0=\"Fat!\"| otherwise = \"A whale\";} in print.(\\[x, y] -> bmiTell x y).map (read::String->Float).words.concat.lines'\r\n",
        "!echo $'100 1.10' | ghc -e $'getContents >>= let{bmiTell::(RealFloat a)=>a->a->String; bmiTell weight height |weight/height^2<=18.5=\"Emo!\"|weight/height^2<=25.0=\"Normal!\"|weight/height^2<=30.0=\"Fat!\"| otherwise = \"A whale\";} in print.(\\[x, y] -> bmiTell x y).map (read::String->Float).words.concat.lines'\r\n",
        "!echo $'50 1.70' | ghc -e $'getContents >>= let{bmiTell::(RealFloat a)=>a->a->String; bmiTell weight height |weight/height^2<=18.5=\"Emo!\"|weight/height^2<=25.0=\"Normal!\"|weight/height^2<=30.0=\"Fat!\"| otherwise = \"A whale\";} in print.(\\[x, y] -> bmiTell x y).map (read::String->Float).words.concat.lines'"
      ],
      "execution_count": null,
      "outputs": [
        {
          "output_type": "stream",
          "text": [
            "\"Normal!\"\n",
            "\"A whale\"\n",
            "\"Emo!\"\n"
          ],
          "name": "stdout"
        }
      ]
    },
    {
      "cell_type": "code",
      "metadata": {
        "colab": {
          "base_uri": "https://localhost:8080/"
        },
        "id": "9GOP5oQ89sUN",
        "outputId": "099414d8-d51c-4b0e-b61e-1a3526d05bd9"
      },
      "source": [
        "# max を実装する\r\n",
        "# max01 :: (Ord a) => a -> a -> a  \r\n",
        "# max01 a b   \r\n",
        "#    | a > b     = a  \r\n",
        "#    | otherwise = b  \r\n",
        "\r\n",
        "!echo '3 8.4' |ghc -e $'getContents >>= let {max01::(Ord a)=>a->a->a; max01 a b | a > b = a | otherwise = b ;} in print.(\\[x,y] -> max01 x y).map (read::String->Float).words.concat.lines'"
      ],
      "execution_count": null,
      "outputs": [
        {
          "output_type": "stream",
          "text": [
            "8.4\n"
          ],
          "name": "stdout"
        }
      ]
    },
    {
      "cell_type": "code",
      "metadata": {
        "colab": {
          "base_uri": "https://localhost:8080/"
        },
        "id": "ePEGTNR4Rpzc",
        "outputId": "11026906-266b-492f-df11-b42752530bda"
      },
      "source": [
        "# compare を実装する\r\n",
        "# compare01 :: (Ord a) => a -> a -> Ordering  \r\n",
        "# a `compare01` b  \r\n",
        "#    | a > b     = GT  \r\n",
        "#    | a == b    = EQ  \r\n",
        "#    | otherwise = LT  \r\n",
        "\r\n",
        "!echo '3 2' |ghc -e $'getContents >>= let {compare01::(Ord a)=>a->a->Ordering; compare01 a b | a > b = GT| a==b = EQ | otherwise = LT ;} in print.(\\[x,y] -> compare01 x y).map (read::String->Float).words.concat.lines'\r\n",
        "!echo '3 3' |ghc -e $'getContents >>= let {compare01::(Ord a)=>a->a->Ordering; compare01 a b | a > b = GT| a==b = EQ | otherwise = LT ;} in print.(\\[x,y] -> compare01 x y).map (read::String->Float).words.concat.lines'"
      ],
      "execution_count": null,
      "outputs": [
        {
          "output_type": "stream",
          "text": [
            "GT\n",
            "EQ\n"
          ],
          "name": "stdout"
        }
      ]
    },
    {
      "cell_type": "code",
      "metadata": {
        "colab": {
          "base_uri": "https://localhost:8080/"
        },
        "id": "3fFXfc3WSrHe",
        "outputId": "811160ff-31c4-4872-840a-264962902bc2"
      },
      "source": [
        "# where はコマンドラインワンライナーで使えるか\r\n",
        "# where bmi = weight / height ^ 2  \r\n",
        "# 使えた!!!!\r\n",
        "!echo $'85 1.90' | ghc -e $'getContents >>= let{bmiTell::(RealFloat a)=>a->a->String; bmiTell weight height |weight/height^2<=18.5=\"Emo!\"|weight/height^2<=25.0=\"Normal!\"|weight/height^2<=30.0=\"Fat!\"| otherwise = \"A whale\" where bmi = weight / height ^ 2 ;} in print.(\\[x, y] -> bmiTell x y).map (read::String->Float).words.concat.lines'\r\n",
        "!echo $'100 1.10' | ghc -e $'getContents >>= let{bmiTell::(RealFloat a)=>a->a->String; bmiTell weight height |weight/height^2<=18.5=\"Emo!\"|weight/height^2<=25.0=\"Normal!\"|weight/height^2<=30.0=\"Fat!\"| otherwise = \"A whale\" where bmi = weight / height ^ 2 ;} in print.(\\[x, y] -> bmiTell x y).map (read::String->Float).words.concat.lines'\r\n",
        "!echo $'50 1.70' | ghc -e $'getContents >>= let{bmiTell::(RealFloat a)=>a->a->String; bmiTell weight height |weight/height^2<=18.5=\"Emo!\"|weight/height^2<=25.0=\"Normal!\"|weight/height^2<=30.0=\"Fat!\"| otherwise = \"A whale\" where bmi = weight / height ^ 2 ;} in print.(\\[x, y] -> bmiTell x y).map (read::String->Float).words.concat.lines'"
      ],
      "execution_count": null,
      "outputs": [
        {
          "output_type": "stream",
          "text": [
            "\"Normal!\"\n",
            "\"A whale\"\n",
            "\"Emo!\"\n"
          ],
          "name": "stdout"
        }
      ]
    },
    {
      "cell_type": "code",
      "metadata": {
        "colab": {
          "base_uri": "https://localhost:8080/"
        },
        "id": "ofASktnlb5HG",
        "outputId": "0f8d2769-43b9-49fc-e613-1709f2dca66e"
      },
      "source": [
        "# where の中で複数の分が使えるか => 使える\r\n",
        "!echo $'100 1.10' | ghc -e $'getContents >>= let{bmiTell::(RealFloat a)=>a->a->String; bmiTell weight height |weight/height^2<=skinny=\"Emo!\"|weight/height^2<=normal=\"Normal!\"|weight/height^2<=fat=\"Fat!\"| otherwise = \"A whale\" where {bmi = weight / height ^ 2; skinny = 18.5; normal = 25.0; fat=30.0;} ;} in print.(\\[x, y] -> bmiTell x y).map (read::String->Float).words.concat.lines'"
      ],
      "execution_count": null,
      "outputs": [
        {
          "output_type": "stream",
          "text": [
            "\"A whale\"\n"
          ],
          "name": "stdout"
        }
      ]
    },
    {
      "cell_type": "code",
      "metadata": {
        "colab": {
          "base_uri": "https://localhost:8080/"
        },
        "id": "QgxAmZ3HcOhI",
        "outputId": "37fe170c-917e-47c5-b77f-a853d86c3b44"
      },
      "source": [
        "# where の中でパターンマッチングが使える\r\n",
        "!echo $'100 1.10' | ghc -e $'getContents >>= let{bmiTell::(RealFloat a)=>a->a->String; bmiTell weight height |weight/height^2<=skinny=\"Emo!\"|weight/height^2<=normal=\"Normal!\"|weight/height^2<=fat=\"Fat!\"| otherwise = \"A whale\" where {bmi = weight / height ^ 2; (skinny, normal, fat) = (18.5, 25.0, 30.0);} ;} in print.(\\[x, y] -> bmiTell x y).map (read::String->Float).words.concat.lines'"
      ],
      "execution_count": null,
      "outputs": [
        {
          "output_type": "stream",
          "text": [
            "\"A whale\"\n"
          ],
          "name": "stdout"
        }
      ]
    },
    {
      "cell_type": "code",
      "metadata": {
        "colab": {
          "base_uri": "https://localhost:8080/"
        },
        "id": "JDEixwXqck3B",
        "outputId": "ad92c126-5682-41da-bb57-c24477e561f8"
      },
      "source": [
        "# 名前を入れるとイニシャルを返すプログラム\r\n",
        "!echo $'Harrison Ford' | ghc -e $'getContents >>= let{initials::String->String->String; initials firstname lastname  =  [f]++\". \"++[l] where {(f:_)=firstname; (l:_)=lastname;} ;} in putStrLn.(\\[x, y] -> initials x y).words.concat.lines'"
      ],
      "execution_count": null,
      "outputs": [
        {
          "output_type": "stream",
          "text": [
            "H. F\n"
          ],
          "name": "stdout"
        }
      ]
    },
    {
      "cell_type": "code",
      "metadata": {
        "id": "vCbEXnQxqfVx",
        "colab": {
          "base_uri": "https://localhost:8080/"
        },
        "outputId": "86c68c47-f624-4143-db87-72943d0b8b1e"
      },
      "source": [
        "# where の中で関数を定義する\r\n",
        "# calcBmis :: (RealFloat a) => [(a, a)] -> [a]  \r\n",
        "# calcBmis xs = [bmi w h | (w, h) <- xs]  \r\n",
        "#    where bmi weight height = weight / height ^ 2  \r\n",
        "\r\n",
        "!echo '50 1.70' | ghc -e $'getContents >>= let {calcBmis::(RealFloat a)=>[(a,a)]->[a]; calcBmis xs=[bmi w h | (w, h) <- xs] where bmi weight height = weight / height ^ 2;} in print.(\\[x, y] -> calcBmis [(x,y)]).map (read::String->Float).words.concat.lines'"
      ],
      "execution_count": null,
      "outputs": [
        {
          "output_type": "stream",
          "text": [
            "[17.301037]\n"
          ],
          "name": "stdout"
        }
      ]
    },
    {
      "cell_type": "markdown",
      "metadata": {
        "id": "TZTTCrJCtmvl"
      },
      "source": [
        "let と where の違い\r\n",
        "\r\n",
        "let は式 (expression) なのでどこででも使えるが、where は構文 (syntactic construct) なので使える場所が限られる。 しかし、where は guard をまたがって使えるのに対し、let はそのような使い方はできない。 let の local は狭い範囲に限定されている。 という違いがある。"
      ]
    },
    {
      "cell_type": "code",
      "metadata": {
        "id": "6KbP-jqkLbex"
      },
      "source": [
        "%%capture\r\n",
        "!apt install haskell-platform"
      ],
      "execution_count": null,
      "outputs": []
    },
    {
      "cell_type": "code",
      "metadata": {
        "id": "RCvVX8Gvukck",
        "colab": {
          "base_uri": "https://localhost:8080/"
        },
        "outputId": "09d5cbca-f8c2-4c26-931e-9994bbf57035"
      },
      "source": [
        "# let を使って、円筒の高さと半径から表面積を求める\r\n",
        "# cylinder :: (RealFloat a) => a -> a -> a  \r\n",
        "# cylinder r h = \r\n",
        "#    let sideArea = 2 * pi * r * h  \r\n",
        "#        topArea = pi * r ^2  \r\n",
        "#    in  sideArea + 2 * topArea  \r\n",
        "!echo $'3.0 10.0' |ghc -e $'getContents >>= print.map (read::String->Float).words.concat.lines'\r\n",
        "!echo\r\n",
        "!echo $'3.0 10.0' |ghc -e $'getContents >>= let {cylinder::(RealFloat a)=>a->a->a; cylinder r h = let {sideArea=2*pi*r*h;topArea=pi*r^2} in sideArea+2*topArea} in print.(\\[x, y] -> cylinder x y).map (read::String->Float).words.concat.lines'"
      ],
      "execution_count": null,
      "outputs": [
        {
          "output_type": "stream",
          "text": [
            "[3.0,10.0]\n",
            "\n",
            "245.04422\n"
          ],
          "name": "stdout"
        }
      ]
    },
    {
      "cell_type": "code",
      "metadata": {
        "id": "jB7MFjKgzyfu",
        "colab": {
          "base_uri": "https://localhost:8080/"
        },
        "outputId": "568b30c5-36b2-4bff-ee60-a4dbe07ccfc8"
      },
      "source": [
        "# let は式 (expression) で、where は構文 (syntactic construct) である、ことについて。\n",
        "# haskell では if が式 (expression) でであることを以前に説明した。\n",
        "# 式なのでほとんどどこででも使える。\n",
        "!ghc -e $'[if 5 > 3 then \"Woo\" else \"Boo\", if \\'a\\' > \\'b\\' then \"Foo\" else \"Bar\"] ' #=> [\"Woo\",\"Bar\"]\n",
        "!ghc -e $'4 * (if 10 > 5 then 10 else 0) + 2' #=> 42\n",
        "!echo\n",
        "# 同じように let を使うことができる。\n",
        "!ghc -e $'4 * (let a = 9 in a + 1) + 2' #=> 42\n",
        "!ghc -e $'[let square x = x * x in (square 5, square 3, square 2)]' #=> [(25,9,4)] \n",
        "!ghc -e $'(let a = 100; b = 200; c = 300 in a*b*c, let foo=\"Hey \"; bar = \"there!\" in foo ++ bar)' #=> (6000000,\"Hey there!\")\n",
        "!ghc -e $'(let {a = 100; b = 200; c = 300;} in a*b*c, let foo=\"Hey \"; bar = \"there!\" in foo ++ bar)' #=> (6000000,\"Hey there!\")\n",
        "!ghc -e $'(let (a,b,c) = (1,2,3) in a+b+c) * 100' #=> 600"
      ],
      "execution_count": null,
      "outputs": [
        {
          "output_type": "stream",
          "text": [
            "[\"Woo\",\"Bar\"]\n",
            "42\n",
            "\n",
            "42\n",
            "[(25,9,4)]\n",
            "(6000000,\"Hey there!\")\n",
            "(6000000,\"Hey there!\")\n",
            "600\n"
          ],
          "name": "stdout"
        }
      ]
    },
    {
      "cell_type": "code",
      "metadata": {
        "id": "2EKmVAVB2TJn",
        "colab": {
          "base_uri": "https://localhost:8080/"
        },
        "outputId": "40291646-92f3-4d0e-c079-53703cbf2d64"
      },
      "source": [
        "# リスト内包表記 list comprehension の中で let が使える\n",
        "# 以前 where を使って作った体重と身長から bmi を算出するプログラムを書き換える\n",
        "#\n",
        "# calcBmis :: (RealFloat a) => [(a, a)] -> [a]  \n",
        "# calcBmis xs = [bmi | (w, h) <- xs, let bmi = w / h ^ 2]  \n",
        "!echo '50 1.70' | ghc -e $'getContents >>= let {calcBmis::(RealFloat a)=>[(a,a)]->[a]; calcBmis xs=[bmi w h | (w, h) <- xs] where bmi weight height = weight / height ^ 2;} in print.(\\[x, y] -> calcBmis [(x,y)]).map (read::String->Float).words.concat.lines'\n",
        "!echo \n",
        "!echo '50 1.70' | ghc -e $'getContents >>= let {calcBmis::(RealFloat a)=>[(a,a)]->[a]; calcBmis xs=[bmi | (w, h) <- xs, let bmi=w/h^2];} in print.(\\[x, y] -> calcBmis [(x,y)]).map (read::String->Float).words.concat.lines'\n",
        "!echo $'50 1.70\\n100 1.1' | ghc -e $'getContents >>= let {calcBmis::(RealFloat a)=>[(a,a)]->[a]; calcBmis xs=[bmi | (w, h) <- xs, let bmi=w/h^2];} in print.map (\\[x, y] -> calcBmis [(x,y)]).map (map (read::String->Float).words).lines'\n"
      ],
      "execution_count": null,
      "outputs": [
        {
          "output_type": "stream",
          "text": [
            "[17.301037]\n",
            "\n",
            "[17.301037]\n",
            "[[17.301037],[82.64462]]\n"
          ],
          "name": "stdout"
        }
      ]
    },
    {
      "cell_type": "code",
      "metadata": {
        "id": "Ks4Guo9Bq8ZI",
        "colab": {
          "base_uri": "https://localhost:8080/"
        },
        "outputId": "ce3baf69-4d3a-46d5-dd36-9785bb97b499"
      },
      "source": [
        "# list の中で bmi が 25.0 以上という条件を入れることはできる\n",
        "# しかし、filter に let は使えない。なぜなら順序が逆になるから。 値を得る前に処理はできない。\n",
        "!echo $'50 1.70\\n100 1.1' | ghc -e $'getContents >>= let {calcBmis::(RealFloat a)=>[(a,a)]->[a]; calcBmis xs=[bmi | (w, h) <- xs, let bmi=w/h^2, bmi >= 25.0];} in print.map (\\[x, y] -> calcBmis [(x,y)]).map (map (read::String->Float).words).lines'\n"
      ],
      "execution_count": null,
      "outputs": [
        {
          "output_type": "stream",
          "text": [
            "[[],[82.64462]]\n"
          ],
          "name": "stdout"
        }
      ]
    },
    {
      "cell_type": "code",
      "metadata": {
        "id": "b8DwByHtryN0"
      },
      "source": [
        "# let は let in のペアで使われるが、list で使うときには in 部分を省略できる。\n",
        "# ghci で in 部分を省略すると全体で使える"
      ],
      "execution_count": null,
      "outputs": []
    },
    {
      "cell_type": "markdown",
      "metadata": {
        "id": "IgpeQKk8sWE4"
      },
      "source": [
        "# case 式"
      ]
    },
    {
      "cell_type": "markdown",
      "metadata": {
        "id": "APgfV6s7am-5"
      },
      "source": [
        "C, C++, Java など命令形プログラミング言語は case 構文があり、同じようなことを haskell の case expression が行うが、式 (expression) という名前が示すように、haskell では case は式であり、if else や let で見たようにどこでも使え、値を返すだけでなく、パターンマッチングができる。\n",
        "\n",
        "実際、関数定義におけるパターンマッチングは case式の糖衣構文なのである。\n",
        "\n",
        "次の2つのプログラムは同じことをやっている。"
      ]
    },
    {
      "cell_type": "code",
      "metadata": {
        "id": "4uXp8Lgpjf59",
        "colab": {
          "base_uri": "https://localhost:8080/"
        },
        "outputId": "28a28927-58f3-4813-8863-e3d2ee1aca71"
      },
      "source": [
        "# pattern matching vs case expression\r\n",
        "# head' :: [a] -> a  \r\n",
        "# head' [] = error \"No head for empty lists!\"  \r\n",
        "# head' (x:_) = x  \r\n",
        "# head' :: [a] -> a  \r\n",
        "# head' xs = case xs of [] -> error \"No head for empty lists!\"\r\n",
        "#                      (x:_) -> x  \r\n",
        "\r\n",
        "!echo $'' |ghc -e $'getContents >>= let {head01::[a]->a; head01 [] = error \"No head for empty lists!\"; head01 (x:_) = x;} in print.head01.concat.lines'\r\n",
        "!echo $'Dracula' |ghc -e $'getContents >>= let {head01::[a]->a; head01 [] = error \"No head for empty lists!\"; head01 (x:_) = x;} in print.head01.concat.lines'\r\n",
        "!echo\r\n",
        "!echo $'' |ghc -e $'getContents >>= let {head01::[a]->a; head01 xs = case xs of [] -> error \"No head for empty lists!\"; (x:_) -> x;} in print.head01.concat.lines'\r\n",
        "!echo $'Dracula' |ghc -e $'getContents >>= let {head01::[a]->a; head01 xs = case xs of [] -> error \"No head for empty lists!\"; (x:_) -> x;} in print.head01.concat.lines'\r\n"
      ],
      "execution_count": null,
      "outputs": [
        {
          "output_type": "stream",
          "text": [
            "<interactive>: No head for empty lists!\n",
            "CallStack (from HasCallStack):\n",
            "  error, called at <interactive>:0:50 in interactive:Ghci1\n",
            "'D'\n",
            "\n",
            "<interactive>: No head for empty lists!\n",
            "CallStack (from HasCallStack):\n",
            "  error, called at <interactive>:0:67 in interactive:Ghci1\n",
            "'D'\n"
          ],
          "name": "stdout"
        }
      ]
    },
    {
      "cell_type": "code",
      "metadata": {
        "id": "jz2Flqu1zjSb",
        "colab": {
          "base_uri": "https://localhost:8080/"
        },
        "outputId": "d37e2895-ed3e-4dbc-bb04-a89dd9327ce8"
      },
      "source": [
        "# case式がどこでも呼べる例\n",
        "# describeList :: [a] -> String  \n",
        "# describeList xs = \"The list is \" ++ case xs of [] -> \"empty.\"  \n",
        "#                                               [x] -> \"a singletonlist.\"   \n",
        "#                                               xs -> \"a longerlist.\"  \n",
        "\n",
        "!echo $'' |ghc -e $'getContents >>= let {describeList::[a]->String; describeList xs = \"The list is \" ++ case xs of {[] -> \"empty.\"; [x] -> \"a singletonlist.\"; xs -> \"a longerlist.\"}} in print.describeList.concat.lines'\n",
        "!echo $'a' |ghc -e $'getContents >>= let {describeList::[a]->String; describeList xs = \"The list is \" ++ case xs of {[] -> \"empty.\"; [x] -> \"a singletonlist.\"; xs -> \"a longerlist.\"}} in print.describeList.concat.lines'\n",
        "!echo $'abu' |ghc -e $'getContents >>= let {describeList::[a]->String; describeList xs = \"The list is \" ++ case xs of {[] -> \"empty.\"; [x] -> \"a singletonlist.\"; xs -> \"a longerlist.\"}} in print.describeList.concat.lines'\n"
      ],
      "execution_count": null,
      "outputs": [
        {
          "output_type": "stream",
          "text": [
            "\"The list is empty.\"\n",
            "\"The list is a singletonlist.\"\n",
            "\"The list is a longerlist.\"\n"
          ],
          "name": "stdout"
        }
      ]
    },
    {
      "cell_type": "code",
      "metadata": {
        "id": "4j-R2Rax1VVG"
      },
      "source": [
        "# 上の例を case を使わずにパターンマッチングだけで書く例\n",
        "#\n",
        "# describeList :: [a] -> String  \n",
        "# describeList xs = \"The list is \" ++ what xs  \n",
        "#    where what [] = \"empty.\"  \n",
        "#          what [x] = \"a singleton list.\"  \n",
        "#          what xs = \"a longer list.\"  \n"
      ],
      "execution_count": null,
      "outputs": []
    },
    {
      "cell_type": "markdown",
      "metadata": {
        "id": "pPIBjBk73Kqv"
      },
      "source": [
        "# 再帰 recursion"
      ]
    },
    {
      "cell_type": "code",
      "metadata": {
        "id": "76ccmresiwfI",
        "colab": {
          "base_uri": "https://localhost:8080/"
        },
        "outputId": "3f2bbca1-c984-483f-b9e1-977518d294dd"
      },
      "source": [
        "# fibonacci\r\n",
        "!ghc -e \"let {fib  0 =0; fib 1=1; fib n=fib (n-1) + fib(n-2);} in print (map fib [0..9])\"\r\n",
        "!echo\r\n",
        "!ghc -e \"let {fib::[Integer];fib = 0 : 1 : zipWith (+) fib (tail fib)} in print (take 10 fib)\"\r\n"
      ],
      "execution_count": null,
      "outputs": [
        {
          "output_type": "stream",
          "text": [
            "[0,1,1,2,3,5,8,13,21,34]\n",
            "\n",
            "[0,1,1,2,3,5,8,13,21,34]\n"
          ],
          "name": "stdout"
        }
      ]
    },
    {
      "cell_type": "markdown",
      "metadata": {
        "id": "GocGQqROuytQ"
      },
      "source": [
        "# いまここ2"
      ]
    },
    {
      "cell_type": "code",
      "metadata": {
        "id": "txm9eL6slds5",
        "outputId": "de73ec3c-c8d6-4439-d03e-d5cee26bb7af",
        "colab": {
          "base_uri": "https://localhost:8080/"
        }
      },
      "source": [
        "# maximum を実装する\r\n",
        "# maximum' :: (Ord a) => [a] -> a\r\n",
        "# maximum' [] = error \"maximum of empty list\"\r\n",
        "# maximum' [x] = x\r\n",
        "# maximum' (x:xs)\r\n",
        "#     | x > maxTail = x\r\n",
        "#     | otherwise = maxTail\r\n",
        "#     where maxTail = maximum' xs\r\n",
        "\r\n",
        "!ghc -e $'let {maximum01::(Ord a)=>[a]->a;maximum01 []=error\"empty\";maximum01 [x]=x; maximum01 (x:xs) | x > maxTail = x | otherwise = maxTail where maxTail = maximum01 xs;} in print (maximum01([1,3,2]))'\r\n"
      ],
      "execution_count": 19,
      "outputs": [
        {
          "output_type": "stream",
          "text": [
            "3\n"
          ],
          "name": "stdout"
        }
      ]
    },
    {
      "cell_type": "code",
      "metadata": {
        "id": "OlVrf4xGQLhh"
      },
      "source": [
        "\r\n",
        "Maximum awesome\r\n",
        "\r\n",
        "The maximum function takes a list of things that can be\r\n",
        "ordered (e.g. instances of the Ord typeclass) and returns\r\n",
        "the biggest of them. Think about how you'd implement that in\r\n",
        "an imperative fashion. You'd probably set up a variable to\r\n",
        "hold the maximum value so far and then you'd loop through\r\n",
        "the elements of a list and if an element is bigger than then\r\n",
        "the current maximum value, you'd replace it with that\r\n",
        "element. The maximum value that remains at the end is the\r\n",
        "result. Whew! That's quite a lot of words to describe such a\r\n",
        "simple algorithm!\r\n",
        "\r\n",
        "Now let's see how we'd define it recursively. We could first\r\n",
        "set up an edge condition and say that the maximum of a\r\n",
        "singleton list is equal to the only element in it. Then we\r\n",
        "can say that the maximum of a longer list is the head if the\r\n",
        "head is bigger than the maximum of the tail. If the maximum\r\n",
        "of the tail is bigger, well, then it's the maximum of the\r\n",
        "tail. That's it! Now let's implement that in Haskell.\r\n",
        "\r\n",
        "maximum' :: (Ord a) => [a] -> a\r\n",
        "maximum' [] = error \"maximum of empty list\"\r\n",
        "maximum' [x] = x\r\n",
        "maximum' (x:xs)\r\n",
        "| x > maxTail = x\r\n",
        "| otherwise = maxTail\r\n",
        "where maxTail = maximum' xs\r\n",
        "As you can see, pattern matching goes great with recursion!\r\n",
        "Most imperative languages don't have pattern matching so you\r\n",
        "have to make a lot of if else statements to test for edge\r\n",
        "conditions. Here, we simply put them out as patterns. So the\r\n",
        "first edge condition says that if the list is empty, crash!\r\n",
        "Makes sense because what's the maximum of an empty list? I\r\n",
        "don't know. The second pattern also lays out an edge\r\n",
        "condition. It says that if it's the singleton list, just\r\n",
        "give back the only element.\r\n",
        "\r\n",
        "Now the third pattern is where the action happens. We use\r\n",
        "pattern matching to split a list into a head and a tail.\r\n",
        "This is a very common idiom when doing recursion with lists,\r\n",
        "so get used to it. We use a where binding to define maxTail\r\n",
        "as the maximum of the rest of the list. Then we check if the\r\n",
        "head is greater than the maximum of the rest of the list. If\r\n",
        "it is, we return the head. Otherwise, we return the maximum\r\n",
        "of the rest of the list.\r\n",
        "\r\n",
        "Let's take an example list of numbers and check out how this\r\n",
        "would work on them: [2,5,1]. If we call maximum' on that,\r\n",
        "the first two patterns won't match. The third one will and\r\n",
        "the list is split into 2 and [5,1]. The where clause wants\r\n",
        "to know the maximum of [5,1], so we follow that route. It\r\n",
        "matches the third pattern again and [5,1] is split into 5\r\n",
        "and [1]. Again, the where clause wants to know the maximum\r\n",
        "of [1]. Because that's the edge condition, it returns 1.\r\n",
        "Finally! So going up one step, comparing 5 to the maximum of\r\n",
        "[1] (which is 1), we obviously get back 5. So now we know\r\n",
        "that the maximum of [5,1] is 5. We go up one step again\r\n",
        "where we had 2 and [5,1]. Comparing 2 with the maximum of\r\n",
        "[5,1], which is 5, we choose 5.\r\n",
        "\r\n",
        "An even clearer way to write this function is to use max. If\r\n",
        "you remember, max is a function that takes two numbers and\r\n",
        "returns the bigger of them. Here's how we could rewrite\r\n",
        "maximum' by using max:\r\n",
        "\r\n",
        "maximum' :: (Ord a) => [a] -> a\r\n",
        "maximum' [] = error \"maximum of empty list\"\r\n",
        "maximum' [x] = x\r\n",
        "maximum' (x:xs) = max x (maximum' xs)\r\n",
        "How's that for elegant! In essence, the maximum of a list is\r\n",
        "the max of the first element and the maximum of the tail.\r\n",
        "\r\n",
        "max\r\n",
        "A few more recursive functions\r\n",
        "Now that we know how to generally think recursively, let's\r\n",
        "implement a few functions using recursion. First off, we'll\r\n",
        "implement replicate. replicate takes an Int and some element\r\n",
        "and returns a list that has several repetitions of the same\r\n",
        "element. For instance, replicate 3 5 returns [5,5,5]. Let's\r\n",
        "think about the edge condition. My guess is that the edge\r\n",
        "condition is 0 or less. If we try to replicate something\r\n",
        "zero times, it should return an empty list. Also for\r\n",
        "negative numbers, because it doesn't really make sense.\r\n",
        "\r\n",
        "replicate' :: (Num i, Ord i) => i -> a -> [a]\r\n",
        "replicate' n x\r\n",
        "| n <= 0 = []\r\n",
        "| otherwise = x:replicate' (n-1) x\r\n",
        "We used guards here instead of patterns because we're\r\n",
        "testing for a boolean condition. If n is less than or equal\r\n",
        "to 0, return an empty list. Otherwise return a list that has\r\n",
        "x as the first element and then x replicated n-1 times as\r\n",
        "the tail. Eventually, the (n-1) part will cause our function\r\n",
        "to reach the edge condition.\r\n",
        "\r\n",
        "Note: Num is not a subclass of Ord. That means that what\r\n",
        "constitutes for a number doesn't really have to adhere to an\r\n",
        "ordering. So that's why we have to specify both the Num and\r\n",
        "Ord class constraints when doing addition or subtraction and\r\n",
        "also comparison.\r\n",
        "Next up, we'll implement take. It takes a certain number of\r\n",
        "elements from a list. For instance, take 3 [5,4,3,2,1] will\r\n",
        "return [5,4,3]. If we try to take 0 or less elements from a\r\n",
        "list, we get an empty list. Also if we try to take anything\r\n",
        "from an empty list, we get an empty list. Notice that those\r\n",
        "are two edge conditions right there. So let's write that\r\n",
        "out:\r\n",
        "\r\n",
        "take' :: (Num i, Ord i) => i -> [a] -> [a]\r\n",
        "take' n _\r\n",
        "| n <= 0 = []\r\n",
        "take' _ [] = []\r\n",
        "take' n (x:xs) = x : take' (n-1) xs\r\n",
        "painter\r\n",
        "The first pattern specifies that if we try to take a 0 or\r\n",
        "negative number of elements, we get an empty list. Notice\r\n",
        "that we're using _ to match the list because we don't really\r\n",
        "care what it is in this case. Also notice that we use a\r\n",
        "guard, but without an otherwise part. That means that if n\r\n",
        "turns out to be more than 0, the matching will fall through\r\n",
        "to the next pattern. The second pattern indicates that if we\r\n",
        "try to take anything from an empty list, we get an empty\r\n",
        "list. The third pattern breaks the list into a head and a\r\n",
        "tail. And then we state that taking n elements from a list\r\n",
        "equals a list that has x as the head and then a list that\r\n",
        "takes n-1 elements from the tail as a tail. Try using a\r\n",
        "piece of paper to write down how the evaluation would look\r\n",
        "like if we try to take, say, 3 from [4,3,2,1].\r\n",
        "\r\n",
        "reverse simply reverses a list. Think about the edge\r\n",
        "condition. What is it? Come on ... it's the empty list! An\r\n",
        "empty list reversed equals the empty list itself. O-kay.\r\n",
        "What about the rest of it? Well, you could say that if we\r\n",
        "split a list to a head and a tail, the reversed list is\r\n",
        "equal to the reversed tail and then the head at the end.\r\n",
        "\r\n",
        "reverse' :: [a] -> [a]\r\n",
        "reverse' [] = []\r\n",
        "reverse' (x:xs) = reverse' xs ++ [x]\r\n",
        "There we go!\r\n",
        "\r\n",
        "Because Haskell supports infinite lists, our recursion\r\n",
        "doesn't really have to have an edge condition. But if it\r\n",
        "doesn't have it, it will either keep churning at something\r\n",
        "infinitely or produce an infinite data structure, like an\r\n",
        "infinite list. The good thing about infinite lists though is\r\n",
        "that we can cut them where we want. repeat takes an element\r\n",
        "and returns an infinite list that just has that element. A\r\n",
        "recursive implementation of that is really easy, watch.\r\n",
        "\r\n",
        "repeat' :: a -> [a]\r\n",
        "repeat' x = x:repeat' x\r\n",
        "Calling repeat 3 will give us a list that starts with 3 and\r\n",
        "then has an infinite amount of 3's as a tail. So calling\r\n",
        "repeat 3 would evaluate like 3:repeat 3, which is\r\n",
        "3:(3:repeat 3), which is 3:(3:(3:repeat 3)), etc. repeat 3\r\n",
        "will never finish evaluating, whereas take 5 (repeat 3) will\r\n",
        "give us a list of five 3's. So essentially it's like doing\r\n",
        "replicate 5 3.\r\n",
        "\r\n",
        "zip takes two lists and zips them together. zip [1,2,3]\r\n",
        "[2,3] returns [(1,2),(2,3)], because it truncates the longer\r\n",
        "list to match the length of the shorter one. How about if we\r\n",
        "zip something with an empty list? Well, we get an empty list\r\n",
        "back then. So there's our edge condition. However, zip takes\r\n",
        "two lists as parameters, so there are actually two edge\r\n",
        "conditions.\r\n",
        "\r\n",
        "zip' :: [a] -> [b] -> [(a,b)]\r\n",
        "zip' _ [] = []\r\n",
        "zip' [] _ = []\r\n",
        "zip' (x:xs) (y:ys) = (x,y):zip' xs ys\r\n",
        "First two patterns say that if the first list or second list\r\n",
        "is empty, we get an empty list. The third one says that two\r\n",
        "lists zipped are equal to pairing up their heads and then\r\n",
        "tacking on the zipped tails. Zipping [1,2,3] and ['a','b']\r\n",
        "will eventually try to zip [3] with []. The edge condition\r\n",
        "patterns kick in and so the result is (1,'a'):(2,'b'):[],\r\n",
        "which is exactly the same as [(1,'a'),(2,'b')].\r\n",
        "\r\n",
        "Let's implement one more standard library function — elem.\r\n",
        "It takes an element and a list and sees if that element is\r\n",
        "in the list. The edge condition, as is most of the times\r\n",
        "with lists, is the empty list. We know that an empty list\r\n",
        "contains no elements, so it certainly doesn't have the\r\n",
        "droids we're looking for.\r\n",
        "\r\n",
        "elem' :: (Eq a) => a -> [a] -> Bool\r\n",
        "elem' a [] = False\r\n",
        "elem' a (x:xs)\r\n",
        "| a == x = True\r\n",
        "| otherwise = a `elem'` xs\r\n",
        "Pretty simple and expected. If the head isn't the element\r\n",
        "then we check the tail. If we reach an empty list, the\r\n",
        "result is False.\r\n",
        "\r\n",
        "Quick, sort!\r\n",
        "We have a list of items that can be sorted. Their type is an\r\n",
        "instance of the Ord typeclass. And now, we want to sort\r\n",
        "them! There's a very cool algoritm for sorting called\r\n",
        "quicksort. It's a very clever way of sorting items. While it\r\n",
        "takes upwards of 10 lines to implement quicksort in\r\n",
        "imperative languages, the implementation is much shorter and\r\n",
        "elegant in Haskell. Quicksort has become a sort of poster\r\n",
        "child for Haskell. Therefore, let's implement it here, even\r\n",
        "though implementing quicksort in Haskell is considered\r\n",
        "really cheesy because everyone does it to showcase how\r\n",
        "elegant Haskell is.\r\n",
        "\r\n",
        "quickman\r\n",
        "So, the type signature is going to be quicksort :: (Ord a)\r\n",
        "=> [a] -> [a]. No surprises there. The edge condition? Empty\r\n",
        "list, as is expected. A sorted empty list is an empty list.\r\n",
        "Now here comes the main algorithm: a sorted list is a list\r\n",
        "that has all the values smaller than (or equal to) the head\r\n",
        "of the list in front (and those values are sorted), then\r\n",
        "comes the head of the list in the middle and then come all\r\n",
        "the values that are bigger than the head (they're also\r\n",
        "sorted). Notice that we said sorted two times in this\r\n",
        "definition, so we'll probably have to make the recursive\r\n",
        "call twice! Also notice that we defined it using the verb is\r\n",
        "to define the algorithm instead of saying do this, do that,\r\n",
        "then do that .... That's the beauty of functional\r\n",
        "programming! How are we going to filter the list so that we\r\n",
        "get only the elements smaller than the head of our list and\r\n",
        "only elements that are bigger? List comprehensions. So,\r\n",
        "let's dive in and define this function.\r\n",
        "\r\n",
        "quicksort :: (Ord a) => [a] -> [a]\r\n",
        "quicksort [] = []\r\n",
        "quicksort (x:xs) =\r\n",
        "let smallerSorted = quicksort [a | a <- xs, a <= x]\r\n",
        "biggerSorted = quicksort [a | a <- xs, a > x]\r\n",
        "in smallerSorted ++ [x] ++ biggerSorted\r\n",
        "Let's give it a small test run to see if it appears to\r\n",
        "behave correctly.\r\n",
        "\r\n",
        "ghci> quicksort [10,2,5,3,1,6,7,4,2,3,4,8,9]\r\n",
        "[1,2,2,3,3,4,4,5,6,7,8,9,10]\r\n",
        "ghci> quicksort \"the quick brown fox jumps over the lazy\r\n",
        "dog\"\r\n",
        "\" abcdeeefghhijklmnoooopqrrsttuuvwxyz\"\r\n",
        "Booyah! That's what I'm talking about! So if we have, say\r\n",
        "[5,1,9,4,6,7,3] and we want to sort it, this algorithm will\r\n",
        "first take the head, which is 5 and then put it in the\r\n",
        "middle of two lists that are smaller and bigger than it. So\r\n",
        "at one point, you'll have [1,4,3] ++ [5] ++ [9,6,7]. We know\r\n",
        "that once the list is sorted completely, the number 5 will\r\n",
        "stay in the fourth place since there are 3 numbers lower\r\n",
        "than it and 3 numbers higher than it. Now, if we sort\r\n",
        "[1,4,3] and [9,6,7], we have a sorted list! We sort the two\r\n",
        "lists using the same function. Eventually, we'll break it up\r\n",
        "so much that we reach empty lists and an empty list is\r\n",
        "already sorted in a way, by virtue of being empty. Here's an\r\n",
        "illustration:\r\n",
        "\r\n",
        "quicksort\r\n",
        "An element that is in place and won't move anymore is\r\n",
        "represented in orange. If you read them from left to right,\r\n",
        "you'll see the sorted list. Although we chose to compare all\r\n",
        "the elements to the heads, we could have used any element to\r\n",
        "compare against. In quicksort, an element that you compare\r\n",
        "against is called a pivot. They're in green here. We chose\r\n",
        "the head because it's easy to get by pattern matching. The\r\n",
        "elements that are smaller than the pivot are light green and\r\n",
        "elements larger than the pivot are dark green. The yellowish\r\n",
        "gradient thing represents an application of quicksort.\r\n",
        "\r\n",
        "Thinking recursively\r\n",
        "We did quite a bit of recursion so far and as you've\r\n",
        "probably noticed, there's a pattern here. Usually you define\r\n",
        "an edge case and then you define a function that does\r\n",
        "something between some element and the function applied to\r\n",
        "the rest. It doesn't matter if it's a list, a tree or any\r\n",
        "other data structure. A sum is the first element of a list\r\n",
        "plus the sum of the rest of the list. A product of a list is\r\n",
        "the first element of the list times the product of the rest\r\n",
        "of the list. The length of a list is one plus the length of\r\n",
        "the tail of the list. Ekcetera, ekcetera ...\r\n",
        "\r\n",
        "brain\r\n",
        "Of course, these also have edge cases. Usually the edge case\r\n",
        "is some scenario where a recursive application doesn't make\r\n",
        "sense. When dealing with lists, the edge case is most often\r\n",
        "the empty list. If you're dealing with trees, the edge case\r\n",
        "is usually a node that doesn't have any children.\r\n",
        "\r\n",
        "It's similar when you're dealing with numbers recursively.\r\n",
        "Usually it has to do with some number and the function\r\n",
        "applied to that number modified. We did the factorial\r\n",
        "function earlier and it's the product of a number and the\r\n",
        "factorial of that number minus one. Such a recursive\r\n",
        "application doesn't make sense with zero, because factorials\r\n",
        "are defined only for positive integers. Often the edge case\r\n",
        "value turns out to be an identity. The identity for\r\n",
        "multiplication is 1 because if you multiply something by 1,\r\n",
        "you get that something back. Also when doing sums of lists,\r\n",
        "we define the sum of an empty list as 0 and 0 is the\r\n",
        "identity for addition. In quicksort, the edge case is the\r\n",
        "empty list and the identity is also the empty list, because\r\n",
        "if you add an empty list to a list, you just get the\r\n",
        "original list back.\r\n",
        "\r\n",
        "So when trying to think of a recursive way to solve a\r\n",
        "problem, try to think of when a recursive solution doesn't\r\n",
        "apply and see if you can use that as an edge case, think\r\n",
        "about identities and think about whether you'll break apart\r\n",
        "the parameters of the function (for instance, lists are\r\n",
        "usually broken into a head and a tail via pattern matching)\r\n",
        "and on which part you'll use the recursive call.\r\n"
      ],
      "execution_count": null,
      "outputs": []
    },
    {
      "cell_type": "code",
      "metadata": {
        "id": "y9oVCAclRU98"
      },
      "source": [
        ""
      ],
      "execution_count": null,
      "outputs": []
    }
  ]
}