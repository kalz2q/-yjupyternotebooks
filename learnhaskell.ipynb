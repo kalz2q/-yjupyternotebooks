{
  "nbformat": 4,
  "nbformat_minor": 0,
  "metadata": {
    "colab": {
      "name": "learnhaskell.ipynb",
      "provenance": [],
      "toc_visible": true,
      "authorship_tag": "ABX9TyOWshB4yGve1OMN3gGAq/6N",
      "include_colab_link": true
    },
    "kernelspec": {
      "name": "python3",
      "display_name": "Python 3"
    }
  },
  "cells": [
    {
      "cell_type": "markdown",
      "metadata": {
        "id": "view-in-github",
        "colab_type": "text"
      },
      "source": [
        "<a href=\"https://colab.research.google.com/github/kalz2q/mycolabnotebooks/blob/master/learnhaskell.ipynb\" target=\"_parent\"><img src=\"https://colab.research.google.com/assets/colab-badge.svg\" alt=\"Open In Colab\"/></a>"
      ]
    },
    {
      "cell_type": "markdown",
      "metadata": {
        "id": "JZqM1qwx2bFV"
      },
      "source": [
        "# メモ\n",
        "1. このノートブックは Colab で読まれることを想定している。 是非 Colab で開いてください。\n",
        "1. Colab の環境を利用して Haskellを勉強する。Colab の環境は Hakell はインストールされていないので、インストールする。\n",
        "1. Colab の環境で Haskell のインタラクティブ環境は使えないので、`%%writefile filename.hs` でファイルを作り、`!runghc filename.hs` で実行するか、!ghc -e でコマンドラインワンライナーで実行する。\n"
      ]
    },
    {
      "cell_type": "markdown",
      "metadata": {
        "id": "npDz1ryYbkrF"
      },
      "source": [
        "参考\n",
        "1. とりあえずは Haskell の入門書や入門サイトからサンプルプログラムを入力してみる。\n",
        "1. ワンライナー的実行  \n",
        "https://haskell.jp/blog/posts/2017/08-ghc-4way-execution.html#%E3%83%AF%E3%83%B3%E3%83%A9%E3%82%A4%E3%83%8A%E3%83%BC%E7%9A%84%E5%AE%9F%E8%A1%8C\n",
        "1. Learn You A Haskell For Great Good! (http://learnyouahaskell.com/)  \n",
        "1. A Gentle Introduction to Haskell (https://www.haskell.org/tutorial/)\n",
        "1. Yet Another Haskell Tutorial (http://users.umiacs.umd.edu/~hal/docs/daume02yaht.pdf)\n",
        "1. https://wiki.haskell.org/How_to_work_on_lists\n",
        "1. https://wiki.haskell.org/Applications_and_libraries/Data_structures\n",
        "1. https://wiki.haskell.org/Applications_and_libraries/Concurrency_and_parallelism\n",
        "1. https://wiki.haskell.org/Applications_and_libraries/GUI_libraries\n",
        "1. https://wiki.haskell.org/Applications_and_libraries/Network\n",
        "1. https://wiki.haskell.org/QuickCheck\n",
        "1. https://wiki.haskell.org/HUnit_1.0_User%27s_Guide\n",
        "1. https://wiki.haskell.org/Regex_Posix\n",
        "\n",
        "\n",
        "\n",
        "  \n",
        "  \n"
      ]
    },
    {
      "cell_type": "code",
      "metadata": {
        "id": "S-NYRxs4SuLf"
      },
      "source": [
        "# haskell(ghc)のインストール\n",
        "%%capture\n",
        "!apt install haskell-platform"
      ],
      "execution_count": null,
      "outputs": []
    },
    {
      "cell_type": "code",
      "metadata": {
        "id": "uFBBZYLDS8Ed",
        "colab": {
          "base_uri": "https://localhost:8080/"
        },
        "outputId": "ed23d246-69fe-487d-e5bd-790c082b1319"
      },
      "source": [
        "# インストールされたことの確認\n",
        "!ghc --version"
      ],
      "execution_count": null,
      "outputs": [
        {
          "output_type": "stream",
          "text": [
            "The Glorious Glasgow Haskell Compilation System, version 8.0.2\n"
          ],
          "name": "stdout"
        }
      ]
    },
    {
      "cell_type": "code",
      "metadata": {
        "id": "Ba2HY_gpTx4I",
        "colab": {
          "base_uri": "https://localhost:8080/"
        },
        "outputId": "1ab5bbda-792f-438f-c797-e6173e8895e8"
      },
      "source": [
        "# ファイルを作る\n",
        "%%writefile hello.hs\n",
        "main = putStrLn \"hello, world\""
      ],
      "execution_count": null,
      "outputs": [
        {
          "output_type": "stream",
          "text": [
            "Writing hello.hs\n"
          ],
          "name": "stdout"
        }
      ]
    },
    {
      "cell_type": "code",
      "metadata": {
        "id": "SvIkXNjIU6iv",
        "colab": {
          "base_uri": "https://localhost:8080/"
        },
        "outputId": "b4074dbf-ca31-4b8b-8d77-d9c07c365e95"
      },
      "source": [
        "# ファイルを実行する\r\n",
        "!runghc hello.hs"
      ],
      "execution_count": null,
      "outputs": [
        {
          "output_type": "stream",
          "text": [
            "hello, world\n"
          ],
          "name": "stdout"
        }
      ]
    },
    {
      "cell_type": "code",
      "metadata": {
        "id": "f833IGbAwxVZ",
        "colab": {
          "base_uri": "https://localhost:8080/"
        },
        "outputId": "3ad3371a-afee-4062-d9fc-5d59811f3fe5"
      },
      "source": [
        "# シェル(コマンドラインワンライナー)で実行する\n",
        "# 便利なので多用する\n",
        "!ghc -e 'putStrLn \"hello world!\"'"
      ],
      "execution_count": null,
      "outputs": [
        {
          "output_type": "stream",
          "text": [
            "hello world!\n"
          ],
          "name": "stdout"
        }
      ]
    },
    {
      "cell_type": "code",
      "metadata": {
        "id": "lWcYdzaZh0Id"
      },
      "source": [
        "# ユーザーとのやり取りも次のようにすればできるが、Colab では使わないこととする\r\n",
        "%%script false\r\n",
        "!ghc -e \"interact (unlines.map reverse.lines)\""
      ],
      "execution_count": null,
      "outputs": []
    },
    {
      "cell_type": "code",
      "metadata": {
        "id": "KKwu4FRKcsNu",
        "colab": {
          "base_uri": "https://localhost:8080/"
        },
        "outputId": "f47cf60a-0ee0-4153-d75b-93412ecc1caf"
      },
      "source": [
        "# echo と getContents を使う\r\n",
        "!echo $'this is a pen\\n abcdef\\n12345' | ghc -e \"getContents >>=  print . unlines .map reverse.lines\"\r\n",
        "!echo $'this is a pen\\n abcdef\\n12345' | ghc -e \"getContents >>=  mapM_ putStrLn . map reverse.lines\""
      ],
      "execution_count": null,
      "outputs": [
        {
          "output_type": "stream",
          "text": [
            "\"nep a si siht\\nfedcba \\n54321\\n\"\n",
            "nep a si siht\n",
            "fedcba \n",
            "54321\n"
          ],
          "name": "stdout"
        }
      ]
    },
    {
      "cell_type": "markdown",
      "metadata": {
        "id": "ViF69Gd1AQy_"
      },
      "source": [
        "Haskellは `putStrLn` と `print` がある。両方共行末の改行は自動で入る。\n",
        "\n",
        "改行コードをエスケープで入れたときの挙動とが違う。\n",
        "\n",
        "putStrLn は引数が文字列で数値は扱えない。 print は数値でも大丈夫。\n",
        "\n"
      ]
    },
    {
      "cell_type": "code",
      "metadata": {
        "id": "BW6_ktjv-GDS",
        "colab": {
          "base_uri": "https://localhost:8080/"
        },
        "outputId": "9d3f82ed-d09d-449f-a9e7-b8d09f4fc50f"
      },
      "source": [
        "%%writefile print01.hs\n",
        "main = do\n",
        "  print \"Haskell\\nand\\nPython\"  \n",
        "  putStrLn \"Haskell\\nand\\nPython\"  \n"
      ],
      "execution_count": null,
      "outputs": [
        {
          "output_type": "stream",
          "text": [
            "Writing print01.hs\n"
          ],
          "name": "stdout"
        }
      ]
    },
    {
      "cell_type": "code",
      "metadata": {
        "id": "BX9GzPza3q1S",
        "colab": {
          "base_uri": "https://localhost:8080/"
        },
        "outputId": "39f21b64-9010-4218-e699-07d37057ebd8"
      },
      "source": [
        "!runghc print01.hs"
      ],
      "execution_count": null,
      "outputs": [
        {
          "output_type": "stream",
          "text": [
            "\"Haskell\\nand\\nPython\"\n",
            "Haskell\n",
            "and\n",
            "Python\n"
          ],
          "name": "stdout"
        }
      ]
    },
    {
      "cell_type": "code",
      "metadata": {
        "id": "GEUZgmSbxehO",
        "colab": {
          "base_uri": "https://localhost:8080/"
        },
        "outputId": "e72bb21b-c740-4af9-e385-7b47a284387d"
      },
      "source": [
        "# 実験 数字を直接 putStrLn の引数にするとエラーになるので show で文字列に変換する。\n",
        "!ghc -e 'putStrLn(show(32))'"
      ],
      "execution_count": null,
      "outputs": [
        {
          "output_type": "stream",
          "text": [
            "32\n"
          ],
          "name": "stdout"
        }
      ]
    },
    {
      "cell_type": "markdown",
      "metadata": {
        "id": "1hE1az0p-JCH"
      },
      "source": [
        "Haskell は関数のカッコは省略可能だが、場合によっては必要。\n",
        "\n",
        "`$`による省略も便利なので使うが、エラーの原因にもなるので注意。\n"
      ]
    },
    {
      "cell_type": "code",
      "metadata": {
        "id": "FzNpBNRN-UC0",
        "colab": {
          "base_uri": "https://localhost:8080/"
        },
        "outputId": "7b2c36d8-62b3-44b1-bd3d-5d4f100bd6c2"
      },
      "source": [
        "%%writefile if01.hs\n",
        "main = \n",
        "  let fac n = if n == 0 then 1 else n * fac (n-1)  \n",
        "  in print ( fac 42 )"
      ],
      "execution_count": null,
      "outputs": [
        {
          "output_type": "stream",
          "text": [
            "Writing if01.hs\n"
          ],
          "name": "stdout"
        }
      ]
    },
    {
      "cell_type": "code",
      "metadata": {
        "id": "9OWoPdET4N1E",
        "colab": {
          "base_uri": "https://localhost:8080/"
        },
        "outputId": "a58ea9b0-66a9-41db-f09b-ed2287f26ee8"
      },
      "source": [
        "!runghc if01.hs"
      ],
      "execution_count": null,
      "outputs": [
        {
          "output_type": "stream",
          "text": [
            "1405006117752879898543142606244511569936384000000000\n"
          ],
          "name": "stdout"
        }
      ]
    },
    {
      "cell_type": "code",
      "metadata": {
        "id": "m0M_Is7VcMPU",
        "colab": {
          "base_uri": "https://localhost:8080/"
        },
        "outputId": "a21a9772-f4c9-42a8-bd07-5636c404eee7"
      },
      "source": [
        "# 実験 コマンドラインワンライナーにできるか\r\n",
        "!ghc -e \"let fac  n = if n == 0 then 1 else n * fac (n-1) in print ( fac 42 )\""
      ],
      "execution_count": null,
      "outputs": [
        {
          "output_type": "stream",
          "text": [
            "1405006117752879898543142606244511569936384000000000\n"
          ],
          "name": "stdout"
        }
      ]
    },
    {
      "cell_type": "code",
      "metadata": {
        "id": "8w4PrTw5cqom",
        "colab": {
          "base_uri": "https://localhost:8080/"
        },
        "outputId": "f08d0ab5-02bc-4b23-c690-9e4fdc7e5e4a"
      },
      "source": [
        "# 実験 putStLn にしてみる\r\n",
        "!ghc -e \"let fac  n = if n == 0 then 1 else n * fac (n-1) in putStrLn (show ( fac 42 ))\""
      ],
      "execution_count": null,
      "outputs": [
        {
          "output_type": "stream",
          "text": [
            "1405006117752879898543142606244511569936384000000000\n"
          ],
          "name": "stdout"
        }
      ]
    },
    {
      "cell_type": "markdown",
      "metadata": {
        "id": "fPcnaEfF-Y-y"
      },
      "source": [
        "階乗を計算する関数を作って再帰的に実行している。\n",
        "\n",
        "なかなかすごいのではないか。\n"
      ]
    },
    {
      "cell_type": "markdown",
      "metadata": {
        "id": "w5wAydKX2cYY"
      },
      "source": [
        "ま、とりあえずできたということで。\n",
        "さきへ進もう。"
      ]
    },
    {
      "cell_type": "code",
      "metadata": {
        "id": "K535VVGH-lD_",
        "colab": {
          "base_uri": "https://localhost:8080/"
        },
        "outputId": "95da4cae-6ee1-4e39-d487-986f3ada7b6d"
      },
      "source": [
        "# 以下のような関数の作り方はなんと呼ぶのか。パターンマッチング?\n",
        "%%writefile fac01.hs\n",
        "fac 0 = 1  \n",
        "fac n = n * fac (n-1)  \n",
        "main = print (fac 42)  \n"
      ],
      "execution_count": null,
      "outputs": [
        {
          "output_type": "stream",
          "text": [
            "Writing fac01.hs\n"
          ],
          "name": "stdout"
        }
      ]
    },
    {
      "cell_type": "code",
      "metadata": {
        "id": "_A2BylE4LNzN",
        "colab": {
          "base_uri": "https://localhost:8080/"
        },
        "outputId": "34d1e2c3-28f3-4117-9e9a-44eccae7fbdf"
      },
      "source": [
        "!runghc fac01.hs"
      ],
      "execution_count": null,
      "outputs": [
        {
          "output_type": "stream",
          "text": [
            "1405006117752879898543142606244511569936384000000000\n"
          ],
          "name": "stdout"
        }
      ]
    },
    {
      "cell_type": "markdown",
      "metadata": {
        "id": "Eh0YyntvF0O-"
      },
      "source": [
        "# 四則演算"
      ]
    },
    {
      "cell_type": "code",
      "metadata": {
        "id": "xrXWasfNF4tO",
        "colab": {
          "base_uri": "https://localhost:8080/"
        },
        "outputId": "b01bf952-128a-4ca1-ea5e-59cd55d60129"
      },
      "source": [
        "%%writefile arithmetic01.hs\n",
        "main = do\n",
        "  print $ 3 * 5\n",
        "  print $ 4 ^ 2 - 1\n",
        "  print $ (1-5)^(3*2 - 4)\n",
        "  print $ 5 / 2"
      ],
      "execution_count": null,
      "outputs": [
        {
          "output_type": "stream",
          "text": [
            "Overwriting arithmetic01.hs\n"
          ],
          "name": "stdout"
        }
      ]
    },
    {
      "cell_type": "code",
      "metadata": {
        "id": "0bvVHssEvDKU",
        "colab": {
          "base_uri": "https://localhost:8080/"
        },
        "outputId": "72740020-4835-4878-ca71-a012af36eba8"
      },
      "source": [
        "!runghc arithmetic01.hs"
      ],
      "execution_count": null,
      "outputs": [
        {
          "output_type": "stream",
          "text": [
            "15\n",
            "15\n",
            "16\n",
            "2.5\n"
          ],
          "name": "stdout"
        }
      ]
    },
    {
      "cell_type": "code",
      "metadata": {
        "id": "KRkEzsyVdsJB",
        "colab": {
          "base_uri": "https://localhost:8080/"
        },
        "outputId": "2130ff44-3ade-44a4-c546-43c6248dffa0"
      },
      "source": [
        "!ghc -e '3*5'\r\n",
        "!ghc -e '4 ^ 2 - 1'\r\n",
        "!ghc -e '(1-5)^(3*2 - 4)'\r\n",
        "!ghc -e '5 / 2'"
      ],
      "execution_count": null,
      "outputs": [
        {
          "output_type": "stream",
          "text": [
            "15\n",
            "15\n",
            "16\n",
            "2.5\n"
          ],
          "name": "stdout"
        }
      ]
    },
    {
      "cell_type": "markdown",
      "metadata": {
        "id": "5pYgDgiE0pOk"
      },
      "source": [
        "括弧が重なるのを避けるため `$` という記法を使うと `$` 以降の結果が `$` の前の関数の引数になる。\n"
      ]
    },
    {
      "cell_type": "markdown",
      "metadata": {
        "id": "SAeWCy8897AH"
      },
      "source": [
        "\n",
        "文字列はダブルクォート（二重引用符）で囲む。 文字列の結合をするときは ++ を使う。\n",
        "  \n",
        "  \n"
      ]
    },
    {
      "cell_type": "code",
      "metadata": {
        "id": "XD-Q9HsR-5EK",
        "colab": {
          "base_uri": "https://localhost:8080/"
        },
        "outputId": "f4fccf0a-c4b7-4274-d8be-e31fd7adc0e6"
      },
      "source": [
        "%%writefile string01.hs\n",
        "main = do\n",
        "  print \"Hello\"\n",
        "  print $ \"hello\" ++ \", haskell\"\n"
      ],
      "execution_count": null,
      "outputs": [
        {
          "output_type": "stream",
          "text": [
            "Overwriting string01.hs\n"
          ],
          "name": "stdout"
        }
      ]
    },
    {
      "cell_type": "code",
      "metadata": {
        "id": "4epQKGoHvnND",
        "colab": {
          "base_uri": "https://localhost:8080/"
        },
        "outputId": "f05eefeb-a1b1-4a02-9e54-f0bdb3dbbbbd"
      },
      "source": [
        "!runghc string01.hs"
      ],
      "execution_count": null,
      "outputs": [
        {
          "output_type": "stream",
          "text": [
            "\"Hello\"\n",
            "\"hello, haskell\"\n"
          ],
          "name": "stdout"
        }
      ]
    },
    {
      "cell_type": "code",
      "metadata": {
        "id": "3Awt28XplzFA",
        "colab": {
          "base_uri": "https://localhost:8080/"
        },
        "outputId": "52b806f9-22ad-4f05-ca18-d292c9132ec0"
      },
      "source": [
        "%%writefile math01.hs\n",
        "\n",
        "main =  do\n",
        "    print $ succ 5\n",
        "    print $ truncate 6.59\n",
        "    print $ round 6.59\n",
        "    print $ sqrt 2\n",
        "    print $ not (5 < 3)\n",
        "    print $ gcd 21 14\n"
      ],
      "execution_count": null,
      "outputs": [
        {
          "output_type": "stream",
          "text": [
            "Writing math01.hs\n"
          ],
          "name": "stdout"
        }
      ]
    },
    {
      "cell_type": "code",
      "metadata": {
        "id": "VH-lYQ5ywHur",
        "colab": {
          "base_uri": "https://localhost:8080/"
        },
        "outputId": "9777e5ee-a98d-4c90-ffa9-8c286dfdabfc"
      },
      "source": [
        "!runghc math01.hs"
      ],
      "execution_count": null,
      "outputs": [
        {
          "output_type": "stream",
          "text": [
            "6\n",
            "6\n",
            "7\n",
            "1.4142135623730951\n",
            "True\n",
            "7\n"
          ],
          "name": "stdout"
        }
      ]
    },
    {
      "cell_type": "markdown",
      "metadata": {
        "id": "ctM7K9ZNwdLy"
      },
      "source": [
        "# ワンライナー\n",
        "\n",
        "`ghci -e`  でワンライナーが書ける、とういうので実験。\n"
      ]
    },
    {
      "cell_type": "code",
      "metadata": {
        "id": "kxB5SULE_Nre",
        "colab": {
          "base_uri": "https://localhost:8080/"
        },
        "outputId": "909f289c-3c65-4b11-dd36-da1530d83247"
      },
      "source": [
        "!ghc -e 'putStrLn \"hello world\"'\n",
        "!ghc -e 'print \"hello world\"'"
      ],
      "execution_count": null,
      "outputs": [
        {
          "output_type": "stream",
          "text": [
            "hello world\n",
            "\"hello world\"\n"
          ],
          "name": "stdout"
        }
      ]
    },
    {
      "cell_type": "code",
      "metadata": {
        "id": "-rjT7qBbhfnC",
        "colab": {
          "base_uri": "https://localhost:8080/"
        },
        "outputId": "164f00dd-1ace-4ef4-e0e1-b02e0d9b424a"
      },
      "source": [
        "!ghc -e  'print $ truncate (-6.59)'"
      ],
      "execution_count": null,
      "outputs": [
        {
          "output_type": "stream",
          "text": [
            "-6\n"
          ],
          "name": "stdout"
        }
      ]
    },
    {
      "cell_type": "code",
      "metadata": {
        "id": "8BX5lnthiYRv",
        "colab": {
          "base_uri": "https://localhost:8080/"
        },
        "outputId": "495b0910-f17a-4b20-c4f5-dc5075503f49"
      },
      "source": [
        "# 実験 floor が使えるかどうか\n",
        "!ghc -e 'floor(-6.59)' #=> -7"
      ],
      "execution_count": null,
      "outputs": [
        {
          "output_type": "stream",
          "text": [
            "-7\n"
          ],
          "name": "stdout"
        }
      ]
    },
    {
      "cell_type": "markdown",
      "metadata": {
        "id": "LYqikGpK1Pmh"
      },
      "source": [
        "ひとつの式の中で複数の I/O アクションを使いたい場合は、doブロックを使う。アクションはセミコロンで区切る。\n",
        "  \n",
        "  \n"
      ]
    },
    {
      "cell_type": "code",
      "metadata": {
        "id": "Ppn7NhT5iyNa",
        "colab": {
          "base_uri": "https://localhost:8080/"
        },
        "outputId": "1e472fc7-2890-4fae-abe4-9c0c86b5f270"
      },
      "source": [
        "!ghc -e 'do {putStr \"2 + 2 = \"; print(2 + 2)}'\n",
        "!ghc -e 'do { putStrLn \"ABCDE\" ; putStrLn \"12345\" }  '"
      ],
      "execution_count": null,
      "outputs": [
        {
          "output_type": "stream",
          "text": [
            "2 + 2 = 4\n",
            "ABCDE\n",
            "12345\n"
          ],
          "name": "stdout"
        }
      ]
    },
    {
      "cell_type": "code",
      "metadata": {
        "id": "QqsKOdWoI2J6",
        "colab": {
          "base_uri": "https://localhost:8080/"
        },
        "outputId": "c7f3d57a-454f-4438-c26c-0fa4c02bcc8f"
      },
      "source": [
        "!ghc -e '\"hello\"'\n",
        "!ghc -e '[1,2,3]'\n",
        "!ghc -e '3'"
      ],
      "execution_count": null,
      "outputs": [
        {
          "output_type": "stream",
          "text": [
            "\"hello\"\n",
            "[1,2,3]\n",
            "3\n"
          ],
          "name": "stdout"
        }
      ]
    },
    {
      "cell_type": "code",
      "metadata": {
        "colab": {
          "base_uri": "https://localhost:8080/"
        },
        "id": "AeokIoRmR8CV",
        "outputId": "a65a7e36-651e-4c7d-becd-8ea744e8d86a"
      },
      "source": [
        "!ghc -e 'map (\\x ->  x^2) [1..3]'"
      ],
      "execution_count": null,
      "outputs": [
        {
          "output_type": "stream",
          "text": [
            "[1,4,9]\n"
          ],
          "name": "stdout"
        }
      ]
    },
    {
      "cell_type": "code",
      "metadata": {
        "colab": {
          "base_uri": "https://localhost:8080/"
        },
        "id": "dtJbwAKTSwYF",
        "outputId": "a5987a68-6125-4da2-b9f1-3cab5ced8f8d"
      },
      "source": [
        "!ghc -e 'mapM print [1..3]'\r\n",
        "!ghc -e 'mapM_ print [1..3]' # 結果のリストを返さないバージョン"
      ],
      "execution_count": null,
      "outputs": [
        {
          "output_type": "stream",
          "text": [
            "1\n",
            "2\n",
            "3\n",
            "[(),(),()]\n",
            "1\n",
            "2\n",
            "3\n"
          ],
          "name": "stdout"
        }
      ]
    },
    {
      "cell_type": "code",
      "metadata": {
        "colab": {
          "base_uri": "https://localhost:8080/"
        },
        "id": "91UoXa9HTXHZ",
        "outputId": "051ff614-436c-48af-fcee-2e820c85258a"
      },
      "source": [
        "!echo 'this\\nis' | ghc -e 'getLine'\r\n",
        "!echo\r\n",
        "!echo $'this\\nis' | ghc -e 'getLine'\r\n",
        "!echo $'this\\nis' | ghc -e 'getContents >>= print . lines'"
      ],
      "execution_count": null,
      "outputs": [
        {
          "output_type": "stream",
          "text": [
            "\"this\\\\nis\"\n",
            "\n",
            "\"this\"\n",
            "[\"this\",\"is\"]\n"
          ],
          "name": "stdout"
        }
      ]
    },
    {
      "cell_type": "code",
      "metadata": {
        "colab": {
          "base_uri": "https://localhost:8080/"
        },
        "id": "WQO_woD2Tq2K",
        "outputId": "e19939b4-9d4d-438a-c652-ace0beb03f90"
      },
      "source": [
        "!echo $'this\\nis' | ghc -e 'getLine >>= putStrLn'\r\n",
        "!echo\r\n",
        "!echo $'this\\nis' | ghc -e 'putStrLn =<< getLine'\r\n",
        "!echo\r\n",
        "!echo $'this\\nis' | ghc -e 'do {x <- getLine ; putStrLn x}'\r\n",
        "!echo\r\n",
        "!echo $'this\\nis' | ghc -e 'do {x <- getContents ; mapM_ print (lines(x))}'"
      ],
      "execution_count": null,
      "outputs": [
        {
          "output_type": "stream",
          "text": [
            "this\n",
            "\n",
            "this\n",
            "\n",
            "this\n",
            "\"this\"\n",
            "\"is\"\n"
          ],
          "name": "stdout"
        }
      ]
    },
    {
      "cell_type": "code",
      "metadata": {
        "colab": {
          "base_uri": "https://localhost:8080/"
        },
        "id": "FfBgDIpqUvIJ",
        "outputId": "fad7c560-dfe8-499a-eb53-da0919d21cee"
      },
      "source": [
        "!echo $'John\\nMike' | ghc -e 'interact $ unlines . map (\"hello \" ++) . lines'\r\n",
        "!echo\r\n",
        "!echo $'John\\nMike' | ghc -e 'interact $ unlines.map (\"hello \" ++).lines'"
      ],
      "execution_count": null,
      "outputs": [
        {
          "output_type": "stream",
          "text": [
            "hello John\n",
            "hello Mike\n",
            "\n",
            "hello John\n",
            "hello Mike\n"
          ],
          "name": "stdout"
        }
      ]
    },
    {
      "cell_type": "code",
      "metadata": {
        "colab": {
          "base_uri": "https://localhost:8080/"
        },
        "id": "i0HK2HFzVMOP",
        "outputId": "f1943810-76f9-4f0f-d6ef-94388dbb920f"
      },
      "source": [
        "!echo\r\n",
        "!echo $'John\\nMike' | ghc -e 'map (\"hello \" ++).lines <$> getContents'"
      ],
      "execution_count": null,
      "outputs": [
        {
          "output_type": "stream",
          "text": [
            "\n",
            "[\"hello John\",\"hello Mike\"]\n"
          ],
          "name": "stdout"
        }
      ]
    },
    {
      "cell_type": "markdown",
      "metadata": {
        "id": "LMNeEUkYg52W"
      },
      "source": [
        "入力を最終的にリストで受取る\r\n",
        "\r\n",
        "!echo $'10 20\\n30 40\\n50 60' \r\n",
        "\r\n",
        "を\r\n",
        "\r\n",
        " [[10,20],[30,40],[50,60]]で受け取りたい"
      ]
    },
    {
      "cell_type": "code",
      "metadata": {
        "colab": {
          "base_uri": "https://localhost:8080/"
        },
        "id": "LoeQxmt2hSDJ",
        "outputId": "9a8422ff-b520-4a3f-d83e-d06bb1dbd484"
      },
      "source": [
        "# getContents で全体を取得\r\n",
        "!echo $'10 20\\n30 40\\n50 60' | ghc -e 'getContents'"
      ],
      "execution_count": null,
      "outputs": [
        {
          "output_type": "stream",
          "text": [
            "\"10 20\\n30 40\\n50 60\\n\"\n"
          ],
          "name": "stdout"
        }
      ]
    },
    {
      "cell_type": "code",
      "metadata": {
        "colab": {
          "base_uri": "https://localhost:8080/"
        },
        "id": "GLZ5h8Krf1B0",
        "outputId": "2f7d4745-0575-4afd-b48c-a6dc77849e7f"
      },
      "source": [
        "# <- で IO String から String に変換する\r\n",
        "# lines で行に分割\r\n",
        "!echo $'10 20\\n30 40\\n50 60' | ghc -e 'do {input <- getContents; let strList = lines(input) in print strList}'"
      ],
      "execution_count": null,
      "outputs": [
        {
          "output_type": "stream",
          "text": [
            "[\"10 20\",\"30 40\",\"50 60\"]\n"
          ],
          "name": "stdout"
        }
      ]
    },
    {
      "cell_type": "code",
      "metadata": {
        "colab": {
          "base_uri": "https://localhost:8080/"
        },
        "id": "Go5j9IRgiZpq",
        "outputId": "0c19b566-b046-420b-ce91-73b427852a36"
      },
      "source": [
        "# ファンクターを使うと直接 lines を getContents に働かせる\r\n",
        "!echo $'10 20\\n30 40\\n50 60' | ghc -e 'lines <$> getContents'"
      ],
      "execution_count": null,
      "outputs": [
        {
          "output_type": "stream",
          "text": [
            "[\"10 20\",\"30 40\",\"50 60\"]\n"
          ],
          "name": "stdout"
        }
      ]
    },
    {
      "cell_type": "code",
      "metadata": {
        "colab": {
          "base_uri": "https://localhost:8080/"
        },
        "id": "ZzXF6aeOjHCO",
        "outputId": "e80e9d61-edfb-445c-c9f3-f5113db5f7e9"
      },
      "source": [
        "# words を使ってさらにバラす\r\n",
        "# ただこのままでは数値になっていない\r\n",
        "!echo $'10 20\\n30 40\\n50 60' | ghc -e 'map words . lines <$> getContents'"
      ],
      "execution_count": null,
      "outputs": [
        {
          "output_type": "stream",
          "text": [
            "[[\"10\",\"20\"],[\"30\",\"40\"],[\"50\",\"60\"]]\n"
          ],
          "name": "stdout"
        }
      ]
    },
    {
      "cell_type": "code",
      "metadata": {
        "colab": {
          "base_uri": "https://localhost:8080/"
        },
        "id": "mbTWEw-KjvxO",
        "outputId": "8b53fb17-45d7-4d15-a240-1557ef515096"
      },
      "source": [
        "# map read で数値にする\r\n",
        "!echo $'10 20\\n30 40\\n50 60' | ghc -e 'map (map (read::String -> Int)) . map words . lines <$> getContents'\r\n",
        "!echo \r\n",
        "!echo $'10 20\\n30 40\\n50 60' | ghc -e 'map (map (read::String -> Int) . words) . lines <$> getContents'\r\n",
        "!echo \r\n",
        "!echo $'10 20\\n30 40\\n50 60' | ghc -e 'getContents >>= print . map (map (read::String -> Int) . words) . lines'"
      ],
      "execution_count": null,
      "outputs": [
        {
          "output_type": "stream",
          "text": [
            "[[10,20],[30,40],[50,60]]\n",
            "\n",
            "[[10,20],[30,40],[50,60]]\n",
            "\n",
            "[[10,20],[30,40],[50,60]]\n"
          ],
          "name": "stdout"
        }
      ]
    },
    {
      "cell_type": "code",
      "metadata": {
        "colab": {
          "base_uri": "https://localhost:8080/"
        },
        "id": "Meu2FOwQlIPQ",
        "outputId": "d487ff7a-7862-4b27-8fad-6a2d3cdd3297"
      },
      "source": [
        "# 入力が !echo $'3\\n10 20\\n30 40\\n50 60' のようにデータ数が冒頭にある場合\r\n",
        "!echo $'3\\n10 20\\n30 40\\n50 60' | ghc -e 'getContents >>=  print . map (map (read::String -> Int) . words).(drop 1).lines'\r\n",
        "!echo\r\n",
        "!echo $'3\\n10 20\\n30 40\\n50 60' | ghc -e 'getContents >>=  print.map(map(read::String -> Int).words).tail.lines'\r\n"
      ],
      "execution_count": null,
      "outputs": [
        {
          "output_type": "stream",
          "text": [
            "[[10,20],[30,40],[50,60]]\n",
            "\n",
            "[[10,20],[30,40],[50,60]]\n"
          ],
          "name": "stdout"
        }
      ]
    },
    {
      "cell_type": "code",
      "metadata": {
        "colab": {
          "base_uri": "https://localhost:8080/"
        },
        "id": "lTCE7DTH9p7l",
        "outputId": "7526521a-6961-4204-d6e7-2b4c36523eff"
      },
      "source": [
        "# >>= はデータの流れが途中から逆方向になるが\r\n",
        "# コマンドラインワンライナーでは便利\r\n",
        "!echo $'10 20' | ghc -e 'getLine >>= print.sum.map read.words'"
      ],
      "execution_count": null,
      "outputs": [
        {
          "output_type": "stream",
          "text": [
            "30\n"
          ],
          "name": "stdout"
        }
      ]
    },
    {
      "cell_type": "code",
      "metadata": {
        "id": "dFGoBpsu-Psz"
      },
      "source": [
        "# コマンドラインワンライナーでリスト内包表記は使えるか => 使える\r\n",
        "!ghc -e '[x^2 | x <- [1..10]]'"
      ],
      "execution_count": null,
      "outputs": []
    },
    {
      "cell_type": "code",
      "metadata": {
        "colab": {
          "base_uri": "https://localhost:8080/"
        },
        "id": "8omsjbj_-E20",
        "outputId": "b87e7091-1531-4811-ee47-53b964c86913"
      },
      "source": [
        "# 各行の和を取る\r\n",
        "!echo $'10 20\\n30 40\\n50 60' | ghc -e 'getContents >>= print.map(sum.map read.words).lines'\r\n",
        "\r\n",
        "# 冒頭にデータ数があるのを捨てる場合\r\n",
        "!echo $'3\\n10 20\\n30 40\\n50 60' | ghc -e 'getContents >>= print.map(sum.map read.words).tail.lines'\r\n"
      ],
      "execution_count": null,
      "outputs": [
        {
          "output_type": "stream",
          "text": [
            "[30,70,110]\n",
            "[30,70,110]\n"
          ],
          "name": "stdout"
        }
      ]
    },
    {
      "cell_type": "code",
      "metadata": {
        "colab": {
          "base_uri": "https://localhost:8080/"
        },
        "id": "TWIfDATTBnVf",
        "outputId": "32fe7f37-449a-4bcd-f91f-31019a826ffa"
      },
      "source": [
        "# 結果を一つずつ改行して出力する\r\n",
        "!echo $'3\\n10 20\\n30 40\\n50 60' | ghc -e 'getContents >>= mapM_ print.map(sum.map read.words).tail.lines'\r\n"
      ],
      "execution_count": null,
      "outputs": [
        {
          "output_type": "stream",
          "text": [
            "30\n",
            "70\n",
            "110\n"
          ],
          "name": "stdout"
        }
      ]
    },
    {
      "cell_type": "code",
      "metadata": {
        "id": "OJiuL9yRtU3E",
        "colab": {
          "base_uri": "https://localhost:8080/"
        },
        "outputId": "8a671a3a-8ee8-4211-c2aa-6b1ecea46b19"
      },
      "source": [
        "# zip を使う\r\n",
        "!ghc -e \"zip [1..3] ['A'..]\""
      ],
      "execution_count": null,
      "outputs": [
        {
          "output_type": "stream",
          "text": [
            "[(1,'A'),(2,'B'),(3,'C')]\n"
          ],
          "name": "stdout"
        }
      ]
    },
    {
      "cell_type": "code",
      "metadata": {
        "id": "XhG48QFRtzF2",
        "colab": {
          "base_uri": "https://localhost:8080/"
        },
        "outputId": "23e73959-0350-40ba-89aa-876022cc1298"
      },
      "source": [
        "# すべての組み合わせを生成する\r\n",
        "# <*> はアプリカティブで <$> はファンクター\r\n",
        "!ghc -e \"(,) <$> [1..3] <*> ['A'..'C']\""
      ],
      "execution_count": null,
      "outputs": [
        {
          "output_type": "stream",
          "text": [
            "[(1,'A'),(1,'B'),(1,'C'),(2,'A'),(2,'B'),(2,'C'),(3,'A'),(3,'B'),(3,'C')]\n"
          ],
          "name": "stdout"
        }
      ]
    },
    {
      "cell_type": "code",
      "metadata": {
        "id": "EbcsT3_Vv1DB",
        "colab": {
          "base_uri": "https://localhost:8080/"
        },
        "outputId": "555c44cd-33fa-4564-a44d-2a84c2726a8d"
      },
      "source": [
        "# アプリカティブはつぎのように作用する\r\n",
        "!ghc -e '(<*>) [length, Data.Char.digitToInt . head] [\"f\", \"ba\", \"baz\"]'\r\n",
        "!ghc -e '(<*>) (Just (\\x -> x * x)) (Just 3)'\r\n",
        "!ghc -e '(<*>) Nothing (Just 3)'\r\n",
        "!ghc -e '(<*>) (Just (\\x -> x * x)) Nothing' "
      ],
      "execution_count": null,
      "outputs": [
        {
          "output_type": "stream",
          "text": [
            "[1,2,3,15,11,11]\n",
            "Just 9\n",
            "Nothing\n",
            "Nothing\n"
          ],
          "name": "stdout"
        }
      ]
    },
    {
      "cell_type": "code",
      "metadata": {
        "id": "vBX5cY5IxfyM",
        "colab": {
          "base_uri": "https://localhost:8080/"
        },
        "outputId": "0714a93e-7d4c-4e6f-913f-9daae3cb70cb"
      },
      "source": [
        "# アプリカティブとファンクターとラムダ式の応用\r\n",
        "# なんでもできそう\r\n",
        "!ghc -e '(\\x y -> x ++ \"-\" ++ y) <$> [\"2016\", \"2017\", \"2018\"] <*> [\"Jan\", \"Feb\", \"Mar\"]'"
      ],
      "execution_count": null,
      "outputs": [
        {
          "output_type": "stream",
          "text": [
            "[\"2016-Jan\",\"2016-Feb\",\"2016-Mar\",\"2017-Jan\",\"2017-Feb\",\"2017-Mar\",\"2018-Jan\",\"2018-Feb\",\"2018-Mar\"]\n"
          ],
          "name": "stdout"
        }
      ]
    },
    {
      "cell_type": "code",
      "metadata": {
        "id": "-E7NFsLsYtGU",
        "colab": {
          "base_uri": "https://localhost:8080/"
        },
        "outputId": "d5844e9b-86ef-4247-98a6-5bb47468928f"
      },
      "source": [
        "!ghc -e ':i foldl'\r\n"
      ],
      "execution_count": null,
      "outputs": [
        {
          "output_type": "stream",
          "text": [
            "class Foldable (t :: * -> *) where\n",
            "  ...\n",
            "  foldl :: (b -> a -> b) -> b -> t a -> b\n",
            "  ...\n",
            "  \t-- Defined in ‘Data.Foldable’\n"
          ],
          "name": "stdout"
        }
      ]
    },
    {
      "cell_type": "code",
      "metadata": {
        "id": "683uqbizZLEO",
        "colab": {
          "base_uri": "https://localhost:8080/"
        },
        "outputId": "3acd1fad-bfaf-4dba-9385-032733002cd5"
      },
      "source": [
        "!NUM=5; ghc -e \"[1..$NUM]\"\r\n",
        "!X1=\"[1..3]\"; X2=\"['A'..'C']\"; ghc -e \"zip $X1 $X2\"\r\n",
        "!X1=\"[1..3]\"; X2=\"['A'..'C']\"; ghc -e \"(,) <$> $X1 <*> $X2\"\r\n"
      ],
      "execution_count": null,
      "outputs": [
        {
          "output_type": "stream",
          "text": [
            "[1,2,3,4,5]\n",
            "[(1,'A'),(2,'B'),(3,'C')]\n",
            "[(1,'A'),(1,'B'),(1,'C'),(2,'A'),(2,'B'),(2,'C'),(3,'A'),(3,'B'),(3,'C')]\n"
          ],
          "name": "stdout"
        }
      ]
    },
    {
      "cell_type": "code",
      "metadata": {
        "id": "qCNsBQUlbIN_"
      },
      "source": [
        "%%capture\r\n",
        "!apt install haskell-platform"
      ],
      "execution_count": null,
      "outputs": []
    },
    {
      "cell_type": "code",
      "metadata": {
        "id": "zwm1LnWFa-S1",
        "colab": {
          "base_uri": "https://localhost:8080/"
        },
        "outputId": "64750665-a796-4f27-8f22-d4e7894e82d8"
      },
      "source": [
        "!echo $'1\\n2\\n3' | ghc -e \":t lines <$> getContents\"\r\n",
        "!echo\r\n",
        "!echo $'1\\n2\\n3' | ghc -e \"getContents >>= print.lines\"\r\n",
        "!echo\r\n",
        "!echo $'1\\n2\\n3' | ghc -e \":t lines <$> getContents\"\r\n",
        "!echo $'1\\n2\\n3' | ghc -e \":t (getContents >>= print.lines)\"\r\n"
      ],
      "execution_count": null,
      "outputs": [
        {
          "output_type": "stream",
          "text": [
            "[\"1\",\"2\",\"3\"]\n",
            "\n",
            "[\"1\",\"2\",\"3\"]\n",
            "\n",
            "lines <$> getContents :: IO [String]\n",
            "(getContents >>= print.lines) :: IO ()\n"
          ],
          "name": "stdout"
        }
      ]
    },
    {
      "cell_type": "code",
      "metadata": {
        "id": "t_1LrKmAduhI",
        "colab": {
          "base_uri": "https://localhost:8080/"
        },
        "outputId": "970c3d47-6f17-4479-ba71-2a3731575bbd"
      },
      "source": [
        "!ghc -e $':t (>>=)'\r\n",
        "!ghc -e $'do {:t (->)}'"
      ],
      "execution_count": null,
      "outputs": [
        {
          "output_type": "stream",
          "text": [
            "(>>=) :: Monad m => m a -> (a -> m b) -> m b\n",
            "\n",
            "<interactive>:0:5: error: parse error on input ‘:’\n"
          ],
          "name": "stdout"
        }
      ]
    },
    {
      "cell_type": "code",
      "metadata": {
        "id": "dnWxbkdVc5jH",
        "colab": {
          "base_uri": "https://localhost:8080/"
        },
        "outputId": "eaf6f526-4f9f-493a-bda3-60319f76957b"
      },
      "source": [
        "!echo $'1\\n2\\n3' | ghc -e \"(sum . map read .lines) <$> getContents\"\r\n",
        "!echo\r\n",
        "!echo $'1\\n2\\n3' | ghc -e \"getContents >>= print . sum . map read .lines \""
      ],
      "execution_count": null,
      "outputs": [
        {
          "output_type": "stream",
          "text": [
            "6\n",
            "\n",
            "6\n"
          ],
          "name": "stdout"
        }
      ]
    },
    {
      "cell_type": "code",
      "metadata": {
        "id": "K2BcZf_AdRyv",
        "colab": {
          "base_uri": "https://localhost:8080/"
        },
        "outputId": "a9291ee1-9d41-43ab-8eb3-36ae38f7efd6"
      },
      "source": [
        "!echo $'1\\n2\\n3' | ghc -e \"interact $ unlines . map (show . (*2) . (read::String -> Int)) . lines\"\r\n",
        "!echo\r\n",
        "!echo $'1\\n2\\n3' | ghc -e \"getContents >>= mapM_ putStrLn .  map (show . (*2) . (read::String -> Int)) . lines\""
      ],
      "execution_count": null,
      "outputs": [
        {
          "output_type": "stream",
          "text": [
            "2\n",
            "4\n",
            "6\n",
            "\n",
            "2\n",
            "4\n",
            "6\n"
          ],
          "name": "stdout"
        }
      ]
    },
    {
      "cell_type": "code",
      "metadata": {
        "id": "iA-Mj7OaeT2O",
        "colab": {
          "base_uri": "https://localhost:8080/"
        },
        "outputId": "9b38b6d7-5177-4706-8231-7dbfa575e3cd"
      },
      "source": [
        "!ghc -e \"let x = 1; y = 2 in x+y\""
      ],
      "execution_count": null,
      "outputs": [
        {
          "output_type": "stream",
          "text": [
            "3\n"
          ],
          "name": "stdout"
        }
      ]
    },
    {
      "cell_type": "code",
      "metadata": {
        "id": "C0TgtF1D4ZeL",
        "colab": {
          "base_uri": "https://localhost:8080/"
        },
        "outputId": "bae9febd-00ba-4012-9a29-2461a8f747bc"
      },
      "source": [
        "!ghc -e \"let {x = 1; y = 2} in x+y\"\n"
      ],
      "execution_count": null,
      "outputs": [
        {
          "output_type": "stream",
          "text": [
            "3\n"
          ],
          "name": "stdout"
        }
      ]
    },
    {
      "cell_type": "code",
      "metadata": {
        "id": "eJNxfqPB4jGR",
        "colab": {
          "base_uri": "https://localhost:8080/"
        },
        "outputId": "52aef52d-aa3e-4ba3-b2b9-98f2ea643d35"
      },
      "source": [
        "!ghc -e \"do {let x = 1; y = 2 in x+y}\""
      ],
      "execution_count": null,
      "outputs": [
        {
          "output_type": "stream",
          "text": [
            "3\n"
          ],
          "name": "stdout"
        }
      ]
    },
    {
      "cell_type": "code",
      "metadata": {
        "id": "eqtcvFBOecj8",
        "colab": {
          "base_uri": "https://localhost:8080/"
        },
        "outputId": "75775752-50b6-4db4-b051-1aa510de34fe"
      },
      "source": [
        "!ghc -e 'Text.Printf.printf \"%s %d\\n\" \"abc\" 1'"
      ],
      "execution_count": null,
      "outputs": [
        {
          "output_type": "stream",
          "text": [
            "abc 1\n"
          ],
          "name": "stdout"
        }
      ]
    },
    {
      "cell_type": "markdown",
      "metadata": {
        "id": "hXUdOhIL448y"
      },
      "source": [
        "上の欄で `Text.Printf.printf` として printf を使っている。 import しなくてもパッケージ名を書けば使えるものもあるということか。 コマンドラインワンライナーでは import はできない。\n",
        "\n",
        "import しないで使えるもののリストが欲しい。"
      ]
    },
    {
      "cell_type": "code",
      "metadata": {
        "id": "DKODrRuq-gbE",
        "colab": {
          "base_uri": "https://localhost:8080/"
        },
        "outputId": "aab3ed7f-7e97-4ea1-92c8-56fbf8e14007"
      },
      "source": [
        "!ghc -e $'Data.List.sort([3,1,2])'"
      ],
      "execution_count": null,
      "outputs": [
        {
          "output_type": "stream",
          "text": [
            "[1,2,3]\n"
          ],
          "name": "stdout"
        }
      ]
    },
    {
      "cell_type": "code",
      "metadata": {
        "id": "NgXPOOkv_PBR",
        "colab": {
          "base_uri": "https://localhost:8080/"
        },
        "outputId": "cc53b23b-3432-4738-9a85-b46264d2a8b8"
      },
      "source": [
        "!ghc -e $'pi'\n",
        "!ghc -e $'exp(1)'"
      ],
      "execution_count": null,
      "outputs": [
        {
          "output_type": "stream",
          "text": [
            "3.141592653589793\n",
            "2.718281828459045\n"
          ],
          "name": "stdout"
        }
      ]
    },
    {
      "cell_type": "code",
      "metadata": {
        "id": "UMpvvcWQerfM",
        "colab": {
          "base_uri": "https://localhost:8080/"
        },
        "outputId": "a5a7e370-0469-4bc1-b56d-45070aa21253"
      },
      "source": [
        "!ghc -e \"sin(pi/2)\""
      ],
      "execution_count": null,
      "outputs": [
        {
          "output_type": "stream",
          "text": [
            "1.0\n"
          ],
          "name": "stdout"
        }
      ]
    },
    {
      "cell_type": "code",
      "metadata": {
        "id": "mBdJ4evlexS0",
        "colab": {
          "base_uri": "https://localhost:8080/"
        },
        "outputId": "0d2f4306-69cd-4d6f-e910-a162d8c735f9"
      },
      "source": [
        "!ghc -e \"[sin (n * pi/8) | n <- [0..4]]\""
      ],
      "execution_count": null,
      "outputs": [
        {
          "output_type": "stream",
          "text": [
            "[0.0,0.3826834323650898,0.7071067811865475,0.9238795325112867,1.0]\n"
          ],
          "name": "stdout"
        }
      ]
    },
    {
      "cell_type": "code",
      "metadata": {
        "id": "pbiCpiI5e5BR",
        "colab": {
          "base_uri": "https://localhost:8080/"
        },
        "outputId": "43fa118f-dcca-4c9f-a965-9d0314c477ca"
      },
      "source": [
        "!ghc -e 'replicate 5 \"hello\"'"
      ],
      "execution_count": null,
      "outputs": [
        {
          "output_type": "stream",
          "text": [
            "[\"hello\",\"hello\",\"hello\",\"hello\",\"hello\"]\n"
          ],
          "name": "stdout"
        }
      ]
    },
    {
      "cell_type": "code",
      "metadata": {
        "id": "0DyTBh1cs5wg"
      },
      "source": [
        "%%capture\n",
        "!apt install haskell-platform"
      ],
      "execution_count": null,
      "outputs": []
    },
    {
      "cell_type": "code",
      "metadata": {
        "colab": {
          "base_uri": "https://localhost:8080/"
        },
        "id": "pMB4Chk5tGbE",
        "outputId": "44b0af1f-0b92-4545-bdf3-d617ffa8144f"
      },
      "source": [
        "!ghc -e $'replicate 5 5'\n",
        "!ghc -e $'replicate 5 [5]'\n",
        "!ghc -e $'replicate 5 \\'x\\''"
      ],
      "execution_count": null,
      "outputs": [
        {
          "output_type": "stream",
          "text": [
            "[5,5,5,5,5]\n",
            "[[5],[5],[5],[5],[5]]\n",
            "\"xxxxx\"\n"
          ],
          "name": "stdout"
        }
      ]
    },
    {
      "cell_type": "markdown",
      "metadata": {
        "id": "T7qCPk48Fmmu"
      },
      "source": [
        "# 型について少し\n"
      ]
    },
    {
      "cell_type": "markdown",
      "metadata": {
        "id": "3tfVY2QnJs1Y"
      },
      "source": [
        "型宣言"
      ]
    },
    {
      "cell_type": "code",
      "metadata": {
        "id": "iOEMdj3kkbsb",
        "colab": {
          "base_uri": "https://localhost:8080/"
        },
        "outputId": "1907fa75-dfba-4e21-a0c8-96ac07547bc1"
      },
      "source": [
        "# 型宣言\n",
        "!ghc -e '5::Int'\n",
        "!ghc -e '5::Double'"
      ],
      "execution_count": null,
      "outputs": [
        {
          "output_type": "stream",
          "text": [
            "5\n",
            "5.0\n"
          ],
          "name": "stdout"
        }
      ]
    },
    {
      "cell_type": "code",
      "metadata": {
        "id": "R8mbMN4HkmLf",
        "colab": {
          "base_uri": "https://localhost:8080/"
        },
        "outputId": "5742e34f-d9f8-4745-b670-5a19e9621153"
      },
      "source": [
        "!ghc -e ':t True'\n",
        "!ghc -e $':t \\'X\\''\n",
        "!ghc -e ':t \"hello haskell\"'"
      ],
      "execution_count": null,
      "outputs": [
        {
          "output_type": "stream",
          "text": [
            "True :: Bool\n",
            "'X' :: Char\n",
            "\"hello haskell\" :: [Char]\n"
          ],
          "name": "stdout"
        }
      ]
    },
    {
      "cell_type": "code",
      "metadata": {
        "id": "rwn1tY4gG528",
        "colab": {
          "base_uri": "https://localhost:8080/"
        },
        "outputId": "0e4989d4-2d0c-4b3f-d7d1-d7682d2a4479"
      },
      "source": [
        "# bash で $'string' とすると string 内で backslash による escape が意味を持つ。\n",
        "# \\t, \\n などが使え、\\' がシングルクォートになる。\n",
        "!ghc -e $':t \\'X\\''\n",
        "!ghc -e $':t \"hello\"'\n",
        "!ghc -e ':t \"hello\"'\n",
        "!ghc -e ':t '\"'\"'X'\"'\"\n",
        "!ghc -e ':t '\\''X'\\'\n",
        "!ghc -e  \":t 'X'\"\n",
        "!echo $'hel\\tlo\\nhello'"
      ],
      "execution_count": null,
      "outputs": [
        {
          "output_type": "stream",
          "text": [
            "'X' :: Char\n",
            "\"hello\" :: [Char]\n",
            "\"hello\" :: [Char]\n",
            "'X' :: Char\n",
            "'X' :: Char\n",
            "'X' :: Char\n",
            "hel\tlo\n",
            "hello\n"
          ],
          "name": "stdout"
        }
      ]
    },
    {
      "cell_type": "markdown",
      "metadata": {
        "id": "shyizwS1F5MZ"
      },
      "source": [
        "[Char]はStringの別名。 Char のリスト。\n"
      ]
    },
    {
      "cell_type": "code",
      "metadata": {
        "id": "Rl2CyyheJFZQ",
        "colab": {
          "base_uri": "https://localhost:8080/"
        },
        "outputId": "a8939f96-d1e6-49c6-97f1-ffbc3d46cbb3"
      },
      "source": [
        "!ghc -e ':t 42'\n",
        "!ghc -e ':t 42.0'\n",
        "!ghc -e ':t gcd 15 20'"
      ],
      "execution_count": null,
      "outputs": [
        {
          "output_type": "stream",
          "text": [
            "42 :: Num t => t\n",
            "42.0 :: Fractional t => t\n",
            "gcd 15 20 :: Integral a => a\n"
          ],
          "name": "stdout"
        }
      ]
    },
    {
      "cell_type": "markdown",
      "metadata": {
        "id": "j5HGk6ZpuPT5"
      },
      "source": [
        "上結果の Num, Fractional, Integral は、型クラス。"
      ]
    },
    {
      "cell_type": "code",
      "metadata": {
        "id": "uveus_IVNwiq",
        "colab": {
          "base_uri": "https://localhost:8080/"
        },
        "outputId": "f3f9237d-c24b-4521-d542-ed1e63fc8317"
      },
      "source": [
        "# カインドと型クラス\r\n",
        "!ghc -e ':k Maybe'\r\n",
        "!ghc -e ':k Fractional'\r\n",
        "!ghc -e ':k Num'\r\n",
        "!ghc -e ':k Integral'\r\n",
        "!echo\r\n",
        "# アプリカティブ、ファンクター、モナド\r\n",
        "!ghc -e ':t (*)'\r\n",
        "!ghc -e ':t (<*>)'\r\n",
        "!ghc -e ':t (<$>)'\r\n",
        "!ghc -e ':t (>>=)'\r\n",
        "!ghc -e ':t (=<<)'\r\n",
        "\r\n",
        "# IOアクションの -> はタイプを取り出せない\r\n",
        "# !ghc -e ':t (->))'\r\n",
        "# 1. do 節の中で IO から IO でない文字列へ変換して変数に代入する\r\n",
        "# 2. リスト内包表記の中で、範囲から中身を取り出す\r\n",
        "# 3. case文の中で、場合分けの結果を表示する\r\n",
        "# 4. 関数定義で、引数と引数の間、引数と返り値の間を示す。\r\n"
      ],
      "execution_count": null,
      "outputs": [
        {
          "output_type": "stream",
          "text": [
            "Maybe :: * -> *\n",
            "Fractional :: * -> Constraint\n",
            "Num :: * -> Constraint\n",
            "Integral :: * -> Constraint\n",
            "\n",
            "(*) :: Num a => a -> a -> a\n",
            "(<*>) :: Applicative f => f (a -> b) -> f a -> f b\n",
            "(<$>) :: Functor f => (a -> b) -> f a -> f b\n",
            "(>>=) :: Monad m => m a -> (a -> m b) -> m b\n",
            "(=<<) :: Monad m => (a -> m b) -> m a -> m b\n"
          ],
          "name": "stdout"
        }
      ]
    },
    {
      "cell_type": "code",
      "metadata": {
        "id": "avSWO7A2Rn7V",
        "colab": {
          "base_uri": "https://localhost:8080/"
        },
        "outputId": "a9bc939b-dd84-453b-8892-2d7183f5d032"
      },
      "source": [
        "!ghc -e ':t print'"
      ],
      "execution_count": null,
      "outputs": [
        {
          "output_type": "stream",
          "text": [
            "print :: Show a => a -> IO ()\n"
          ],
          "name": "stdout"
        }
      ]
    },
    {
      "cell_type": "code",
      "metadata": {
        "colab": {
          "base_uri": "https://localhost:8080/"
        },
        "id": "GdN5W8GFvI0h",
        "outputId": "4a880e84-44da-4607-c1ac-05b1120541c2"
      },
      "source": [
        "!ghc -e $':t (=>)'\n",
        "!ghc -e $':t (->)'"
      ],
      "execution_count": null,
      "outputs": [
        {
          "output_type": "stream",
          "text": [
            "\n",
            "<interactive>:1:2: error: parse error on input ‘=>’\n",
            "\n",
            "<interactive>:1:2: error: parse error on input ‘->’\n"
          ],
          "name": "stdout"
        }
      ]
    },
    {
      "cell_type": "markdown",
      "metadata": {
        "id": "0VJQp8dzJw7U"
      },
      "source": [
        "Unit 型"
      ]
    },
    {
      "cell_type": "code",
      "metadata": {
        "id": "IAFEJNfKJvd0",
        "colab": {
          "base_uri": "https://localhost:8080/"
        },
        "outputId": "2264f91b-1731-4416-8e72-adcec63b59a6"
      },
      "source": [
        "# ユニット型\n",
        "!ghc -e 'print ()'\n",
        "!ghc -e ':t ()'"
      ],
      "execution_count": null,
      "outputs": [
        {
          "output_type": "stream",
          "text": [
            "()\n",
            "() :: ()\n"
          ],
          "name": "stdout"
        }
      ]
    },
    {
      "cell_type": "markdown",
      "metadata": {
        "id": "zHYfydjqJ0bq"
      },
      "source": [
        "# リスト\n",
        "\n",
        "Haskell のリストは型の混在はなし。 型を混在させるにはタプルを用いる。\n",
        "\n",
        "文字列は文字 Char のリスト。"
      ]
    },
    {
      "cell_type": "code",
      "metadata": {
        "id": "lXxY_lLRKAk2",
        "colab": {
          "base_uri": "https://localhost:8080/"
        },
        "outputId": "498b0db3-edeb-4906-8772-59a98d8e57d4"
      },
      "source": [
        "!ghc -e '[1, 2, 3]'\n",
        "!ghc -e '[1 .. 5]'\n",
        "!ghc -e '[1, 3 .. 10]'\n",
        "!ghc -e '[True, False, True]'\n",
        "!ghc -e $'[\\'H\\', \\'e\\', \\'l\\', \\'l\\', \\'o\\']'\n",
        "!ghc -e $'\\'C\\' : [\\'H\\', \\'e\\', \\'l\\', \\'l\\', \\'o\\']'\n"
      ],
      "execution_count": null,
      "outputs": [
        {
          "output_type": "stream",
          "text": [
            "[1,2,3]\n",
            "[1,2,3,4,5]\n",
            "[1,3,5,7,9]\n",
            "[True,False,True]\n",
            "\"Hello\"\n",
            "\"CHello\"\n"
          ],
          "name": "stdout"
        }
      ]
    },
    {
      "cell_type": "markdown",
      "metadata": {
        "id": "IJcQNo4G2TJJ"
      },
      "source": [
        "# タプル"
      ]
    },
    {
      "cell_type": "markdown",
      "metadata": {
        "id": "oldSN25mUuHD"
      },
      "source": [
        "タプル tuple の特徴は list と違い型の違うものを入れられること、と、タプルが新しい型を作るので、タプルのリストにすることによって安全性が高まること。\n",
        "\n",
        "[[1,2],[3,4,5],[6,7]]\n",
        "\n",
        "はエラーなしにコンパイルされるが、\n",
        "\n",
        "[(1,2),(3,4,5),(6,7)] \n",
        "\n",
        "はエラーになる。"
      ]
    },
    {
      "cell_type": "code",
      "metadata": {
        "id": "PRZJdUhP2-8w",
        "colab": {
          "base_uri": "https://localhost:8080/"
        },
        "outputId": "0507bd9e-02bf-4666-8a97-a0206ef031bf"
      },
      "source": [
        "# 実験 ['a'..'e']は便利かも\n",
        "!ghc -e $'[\\'a\\' .. \\'e\\']'\n",
        "!ghc -e '(1, True)'\n",
        "!ghc -e $'zip [1 .. 5] [\\'a\\' .. \\'e\\']'"
      ],
      "execution_count": null,
      "outputs": [
        {
          "output_type": "stream",
          "text": [
            "\"abcde\"\n",
            "(1,True)\n",
            "[(1,'a'),(2,'b'),(3,'c'),(4,'d'),(5,'e')]\n"
          ],
          "name": "stdout"
        }
      ]
    },
    {
      "cell_type": "code",
      "metadata": {
        "id": "OwVPfQoDAEXJ",
        "colab": {
          "base_uri": "https://localhost:8080/"
        },
        "outputId": "50539287-42b4-429f-b660-2aa321107fe8"
      },
      "source": [
        "!ghc -e $':t (..)'"
      ],
      "execution_count": null,
      "outputs": [
        {
          "output_type": "stream",
          "text": [
            "\n",
            "<interactive>:1:2: error: parse error on input ‘..’\n"
          ],
          "name": "stdout"
        }
      ]
    },
    {
      "cell_type": "code",
      "metadata": {
        "id": "QnhmYQLP3KFy",
        "colab": {
          "base_uri": "https://localhost:8080/"
        },
        "outputId": "4b1bd056-5cc4-4ff0-be50-3e9e8ab53dd3"
      },
      "source": [
        "!ghc -e $':t [\\'a\\' .. \\'c\\']'\n",
        "!ghc -e $':t [(\\'x\\', True), (\\'y\\', False)]'"
      ],
      "execution_count": null,
      "outputs": [
        {
          "output_type": "stream",
          "text": [
            "['a' .. 'c'] :: [Char]\n",
            "[('x', True), ('y', False)] :: [(Char, Bool)]\n"
          ],
          "name": "stdout"
        }
      ]
    },
    {
      "cell_type": "code",
      "metadata": {
        "id": "yArbCM1L3L1Q",
        "colab": {
          "base_uri": "https://localhost:8080/"
        },
        "outputId": "3c153e7e-811d-4bc4-d5eb-41ac5849482d"
      },
      "source": [
        "!ghc -e 'fst (1, 2)'\n",
        "!ghc -e 'snd (1, 2)'\n",
        "!ghc -e 'map fst [(1, 2), (3, 4), (5, 6)]'"
      ],
      "execution_count": null,
      "outputs": [
        {
          "output_type": "stream",
          "text": [
            "1\n",
            "2\n",
            "[1,3,5]\n"
          ],
          "name": "stdout"
        }
      ]
    },
    {
      "cell_type": "code",
      "metadata": {
        "colab": {
          "base_uri": "https://localhost:8080/"
        },
        "id": "G9tnRyO_G5sT",
        "outputId": "acb0b6f0-d214-457d-bde1-dbb7ab6fc696"
      },
      "source": [
        "!ghc -e '[1..10]'\r\n",
        "!ghc -e '[1..3]::[5..10]'\r\n",
        "!ghc -e '[3, 5..10]'\r\n",
        "!ghc -e '[1..3, 5..10]'"
      ],
      "execution_count": null,
      "outputs": [
        {
          "output_type": "stream",
          "text": [
            "[1,2,3,4,5,6,7,8,9,10]\n",
            "\n",
            "<interactive>:0:11: error: parse error on input ‘..’\n",
            "[3,5,7,9]\n",
            "\n",
            "<interactive>:0:6: error: parse error on input ‘,’\n"
          ],
          "name": "stdout"
        }
      ]
    },
    {
      "cell_type": "code",
      "metadata": {
        "id": "SYMjyxkeH0Tz",
        "colab": {
          "base_uri": "https://localhost:8080/"
        },
        "outputId": "8180ca10-7289-4135-aa96-151559cd54e9"
      },
      "source": [
        "# リスト内包表記\r\n",
        "!ghc -e '[x^2 | x <- [1..10]]'\r\n",
        "\r\n",
        "# mapM_ による1行ごとの出力\r\n",
        "!ghc -e 'mapM_ print [1..3]'\r\n"
      ],
      "execution_count": null,
      "outputs": [
        {
          "output_type": "stream",
          "text": [
            "[1,4,9,16,25,36,49,64,81,100]\n",
            "1\n",
            "2\n",
            "3\n"
          ],
          "name": "stdout"
        }
      ]
    },
    {
      "cell_type": "code",
      "metadata": {
        "id": "YKKlsILyKgNM",
        "colab": {
          "base_uri": "https://localhost:8080/"
        },
        "outputId": "6b73129a-26b4-477f-f735-9edeecf85727"
      },
      "source": [
        "# リスト内包表記との組み合わせ\r\n",
        "!ghc -e 'mapM_ print [x^2 | x <- [1..3]]'\r\n",
        "!ghc -e 'let list = [x^2 | x <- [1..3]] in  mapM_ print list'\r\n"
      ],
      "execution_count": null,
      "outputs": [
        {
          "output_type": "stream",
          "text": [
            "1\n",
            "4\n",
            "9\n",
            "1\n",
            "4\n",
            "9\n"
          ],
          "name": "stdout"
        }
      ]
    },
    {
      "cell_type": "markdown",
      "metadata": {
        "id": "o5zW6xLTLDWC"
      },
      "source": [
        "# getContents"
      ]
    },
    {
      "cell_type": "code",
      "metadata": {
        "id": "0d0wmUdFrlbL",
        "colab": {
          "base_uri": "https://localhost:8080/"
        },
        "outputId": "4827d649-5648-4b2b-d86f-b039aa47084b"
      },
      "source": [
        "# getContents\r\n",
        "!echo $'This is a pen.\\nThat is an apple.'\r\n",
        "!echo $'This is a pen.\\nThat is an apple.' | ghc -e 'getLine'\r\n",
        "!echo $'This is a pen.\\nThat is an apple.' | ghc -e 'getContents'\r\n",
        "!echo $'This is a pen.\\nThat is an apple.' | ghc -e 'lines <$> getContents'\r\n",
        "!echo\r\n",
        "# 実験 getContents から lines にしたあとの処理\r\n",
        "!echo $'288 240' | ghc -e 'map ((\\[x, y] -> gcd (read x) (read y)) . words) . lines <$> getContents'\r\n",
        "!echo $'288 240' | ghc -e 'map words . lines <$> getContents'\r\n",
        "!echo $'288 240' | ghc -e 'map ((\\[x, y] -> gcd (read x) (read y)) . words) . lines <$> getContents'\r\n",
        "!ghc -e 'gcd 24 81'\r\n",
        "!echo $'288 240' | ghc -e 'map ((\\[x, y] -> gcd 100 (read x)) . words) . lines <$> getContents'\r\n",
        "!echo\r\n",
        "!echo $'This is a pen.\\nThat is an apple.' | ghc -e 'map ( words) . lines <$> getContents'\r\n",
        "!echo $'This is a pen.\\nThat is an apple.' | ghc -e 'map (length) . lines <$> getContents'\r\n",
        "!ghc -e 'length([\"This\",\"is\",\"a\",\"pen.\"])'\r\n",
        "!ghc -e 'map length [\"This\",\"is\",\"a\",\"pen.\"]'\r\n",
        "\r\n",
        "\r\n"
      ],
      "execution_count": null,
      "outputs": [
        {
          "output_type": "stream",
          "text": [
            "This is a pen.\n",
            "That is an apple.\n",
            "\"This is a pen.\"\n",
            "\"This is a pen.\\nThat is an apple.\\n\"\n",
            "[\"This is a pen.\",\"That is an apple.\"]\n",
            "\n",
            "[48]\n",
            "[[\"288\",\"240\"]]\n",
            "[48]\n",
            "3\n",
            "[4]\n",
            "\n",
            "[[\"This\",\"is\",\"a\",\"pen.\"],[\"That\",\"is\",\"an\",\"apple.\"]]\n",
            "[14,17]\n",
            "4\n",
            "[4,2,1,4]\n"
          ],
          "name": "stdout"
        }
      ]
    },
    {
      "cell_type": "code",
      "metadata": {
        "id": "1nqetsIyC19O",
        "colab": {
          "base_uri": "https://localhost:8080/"
        },
        "outputId": "2a2300e0-1b4b-46f3-9474-b75641535013"
      },
      "source": [
        "!echo $'This is a pen.\\nThat is an apple.' | ghc -e 'getContents >>= mapM_ putStrLn . lines'"
      ],
      "execution_count": null,
      "outputs": [
        {
          "output_type": "stream",
          "text": [
            "This is a pen.\n",
            "That is an apple.\n"
          ],
          "name": "stdout"
        }
      ]
    },
    {
      "cell_type": "markdown",
      "metadata": {
        "id": "UOWi2Qe_5KxD"
      },
      "source": [
        "# 関数定義"
      ]
    },
    {
      "cell_type": "code",
      "metadata": {
        "id": "BEE6hOyJ5NQR",
        "colab": {
          "base_uri": "https://localhost:8080/"
        },
        "outputId": "4375e3f7-65ba-4157-d24e-d396457666c0"
      },
      "source": [
        "%%writefile Test.hs\n",
        "module Main where\n",
        "\n",
        "factorial n = if n == 0 then 1 else n * factorial (n - 1)\n",
        "\n",
        "main = do putStrLn \"What is 5! ?\"\n",
        "          x <- readLn\n",
        "          if x == factorial 5\n",
        "              then putStrLn \"You're right!\"\n",
        "              else putStrLn \"You're wrong!\""
      ],
      "execution_count": null,
      "outputs": [
        {
          "output_type": "stream",
          "text": [
            "Writing Test.hs\n"
          ],
          "name": "stdout"
        }
      ]
    },
    {
      "cell_type": "code",
      "metadata": {
        "id": "5uBBmlwM5WJZ",
        "colab": {
          "base_uri": "https://localhost:8080/"
        },
        "outputId": "eb6571fb-ff7f-432d-8b00-d972ab074dc3"
      },
      "source": [
        "# コンパイルして実行すると、入力待ちになる。出力欄をクリックして入力ウィンドウに入力することができる。\n",
        "!ghc --make Test.hs; ./Test"
      ],
      "execution_count": null,
      "outputs": [
        {
          "output_type": "stream",
          "text": [
            "What is 5! ?\n",
            "30\n",
            "You're wrong!\n"
          ],
          "name": "stdout"
        }
      ]
    },
    {
      "cell_type": "code",
      "metadata": {
        "id": "YTEAzvR9nTp8",
        "colab": {
          "base_uri": "https://localhost:8080/"
        },
        "outputId": "af4ece23-e184-4c67-c5e4-395570689f2e"
      },
      "source": [
        "%%writefile factorial.hs\n",
        "\n",
        "factorial n = if n == 0 then 1 else n * factorial (n - 1)\n",
        "\n",
        "main = do putStrLn \"What is 5! ?\"\n",
        "          x <- readLn\n",
        "          if x == factorial 5\n",
        "              then putStrLn \"You're right!\"\n",
        "              else putStrLn \"You're wrong!\""
      ],
      "execution_count": null,
      "outputs": [
        {
          "output_type": "stream",
          "text": [
            "Overwriting factorial.hs\n"
          ],
          "name": "stdout"
        }
      ]
    },
    {
      "cell_type": "code",
      "metadata": {
        "id": "jAVkoqgvnu0-",
        "colab": {
          "base_uri": "https://localhost:8080/"
        },
        "outputId": "fdcaab38-1f99-4324-e1bd-908a1d447c44"
      },
      "source": [
        "!echo 120 | runghc factorial.hs\n",
        "!echo 150 | runghc factorial.hs"
      ],
      "execution_count": null,
      "outputs": [
        {
          "output_type": "stream",
          "text": [
            "What is 5! ?\n",
            "You're right!\n",
            "What is 5! ?\n",
            "You're wrong!\n"
          ],
          "name": "stdout"
        }
      ]
    },
    {
      "cell_type": "markdown",
      "metadata": {
        "id": "H-u9V2fHds36"
      },
      "source": [
        "上のように、echo を使って、プログラムの readLn で受けるか。\n",
        "\n",
        "次のように、プログラム内に渡すデータを書いて、結果を出力するか。\n",
        "\n",
        "このどちらかになると思う。"
      ]
    },
    {
      "cell_type": "code",
      "metadata": {
        "id": "pooc_yHlqaA6",
        "colab": {
          "base_uri": "https://localhost:8080/"
        },
        "outputId": "38996b96-6466-49e7-fc1b-cca8c3c377d6"
      },
      "source": [
        "%%writefile factorial02.hs\n",
        "\n",
        "factorial n = if n == 0 then 1 else n * factorial (n - 1)\n",
        "\n",
        "main = do\n",
        "        print(factorial 5)\n",
        "        print(factorial 4)"
      ],
      "execution_count": null,
      "outputs": [
        {
          "output_type": "stream",
          "text": [
            "Overwriting factorial02.hs\n"
          ],
          "name": "stdout"
        }
      ]
    },
    {
      "cell_type": "code",
      "metadata": {
        "id": "woeE70_PqoSd",
        "colab": {
          "base_uri": "https://localhost:8080/"
        },
        "outputId": "ee8d21aa-2f90-4bfb-a5cb-2a4d9cd27e6c"
      },
      "source": [
        "!runghc factorial02.hs"
      ],
      "execution_count": null,
      "outputs": [
        {
          "output_type": "stream",
          "text": [
            "120\n",
            "24\n"
          ],
          "name": "stdout"
        }
      ]
    },
    {
      "cell_type": "markdown",
      "metadata": {
        "id": "ksOskHSJd4p1"
      },
      "source": [
        "パターンマッチングを利用して次のように書く書き方もある。"
      ]
    },
    {
      "cell_type": "code",
      "metadata": {
        "id": "ajXsLOal5uxz",
        "colab": {
          "base_uri": "https://localhost:8080/"
        },
        "outputId": "92f373bd-71a0-4a6c-c5cd-2b77001ca1dd"
      },
      "source": [
        "%%writefile factorial03.hs\n",
        "\n",
        "factorial 0 = 1\n",
        "factorial n = n * factorial (n - 1)\n",
        "\n",
        "main = do\n",
        "        print(factorial x)\n",
        "        print(factorial y)\n",
        "\n",
        "x = 6\n",
        "y = 5"
      ],
      "execution_count": null,
      "outputs": [
        {
          "output_type": "stream",
          "text": [
            "Writing factorial03.hs\n"
          ],
          "name": "stdout"
        }
      ]
    },
    {
      "cell_type": "code",
      "metadata": {
        "id": "PCiTutabrJL1",
        "colab": {
          "base_uri": "https://localhost:8080/"
        },
        "outputId": "07dee36a-2e47-40b4-9855-be9150fe8b32"
      },
      "source": [
        "!runghc factorial03.hs"
      ],
      "execution_count": null,
      "outputs": [
        {
          "output_type": "stream",
          "text": [
            "720\n",
            "120\n"
          ],
          "name": "stdout"
        }
      ]
    },
    {
      "cell_type": "markdown",
      "metadata": {
        "id": "12WQ1L4CwK6G"
      },
      "source": [
        "ちなみに、Colab では 複数のセルを選択して、 Ctrl+Shift+Enter すると、便利である。"
      ]
    },
    {
      "cell_type": "code",
      "metadata": {
        "id": "Gmg_4nAo6CoH",
        "colab": {
          "base_uri": "https://localhost:8080/"
        },
        "outputId": "6ec811d3-8ebc-436b-b9b2-428fb8ecc271"
      },
      "source": [
        "%%writefile let01.hs\n",
        "secsToWeeks secs = let perMinute = 60\n",
        "                       perHour   = 60 * perMinute\n",
        "                       perDay    = 24 * perHour\n",
        "                       perWeek   =  7 * perDay\n",
        "                   in  secs / perWeek\n",
        "\n",
        "main = do\n",
        "        print (secsToWeeks 100000)"
      ],
      "execution_count": null,
      "outputs": [
        {
          "output_type": "stream",
          "text": [
            "Overwriting let01.hs\n"
          ],
          "name": "stdout"
        }
      ]
    },
    {
      "cell_type": "code",
      "metadata": {
        "colab": {
          "base_uri": "https://localhost:8080/"
        },
        "id": "HP9L2lybgzRS",
        "outputId": "4d59aee0-13cd-43e5-d332-c0b5c4b5b3d5"
      },
      "source": [
        "!runghc let01.hs"
      ],
      "execution_count": null,
      "outputs": [
        {
          "output_type": "stream",
          "text": [
            "0.16534391534391535\n"
          ],
          "name": "stdout"
        }
      ]
    },
    {
      "cell_type": "markdown",
      "metadata": {
        "id": "M67kE5oy6ZKp"
      },
      "source": [
        "上コードセルで、let , in は一時的な名前を定義している。\n"
      ]
    },
    {
      "cell_type": "code",
      "metadata": {
        "id": "XN5488-c6Xtm",
        "colab": {
          "base_uri": "https://localhost:8080/"
        },
        "outputId": "5cc91a42-a558-420f-d3ab-4394706c966c"
      },
      "source": [
        "%%writefile case01.hs\n",
        "classify age = case age of 0 -> \"newborn\"\n",
        "                           1 -> \"infant\"\n",
        "                           2 -> \"toddler\"\n",
        "                           _ -> \"senior citizen\"\n",
        "\n",
        "main = do\n",
        "        putStrLn (classify 0)                           \n",
        "        putStrLn (classify 69)"
      ],
      "execution_count": null,
      "outputs": [
        {
          "output_type": "stream",
          "text": [
            "Writing case01.hs\n"
          ],
          "name": "stdout"
        }
      ]
    },
    {
      "cell_type": "code",
      "metadata": {
        "colab": {
          "base_uri": "https://localhost:8080/"
        },
        "id": "ZzkYe9drhp7a",
        "outputId": "0cd588e3-127e-4205-9ea4-545c79453cda"
      },
      "source": [
        "!runghc case01.hs"
      ],
      "execution_count": null,
      "outputs": [
        {
          "output_type": "stream",
          "text": [
            "newborn\n",
            "senior citizen\n"
          ],
          "name": "stdout"
        }
      ]
    },
    {
      "cell_type": "markdown",
      "metadata": {
        "id": "cp5ZgVAk68_H"
      },
      "source": [
        "上のセルで、case 式を使っている。 `_` はその他すべてを表す。"
      ]
    },
    {
      "cell_type": "markdown",
      "metadata": {
        "id": "Q-LIDxck97kv"
      },
      "source": [
        "# ライブラリー、パッケージ、モジュール\r\n",
        "\r\n",
        "import libraryname \r\n",
        "\r\n",
        "import libaryname as somename\r\n",
        "\r\n",
        "ある機能が欲しいとき、hackage で調べて、ライブラリーがあればインポートする。 インポートできなければ cabal でパッケージをインストールする、という理解でよいか。\r\n",
        "\r\n",
        "いまの ghc で import できるライブラリーはなにか。\r\n",
        "\r\n",
        "ghc-pkg list\r\n",
        "\r\n",
        "でインストールされているパッケージを見ることができる。\r\n",
        "\r\n",
        "\r\n",
        "\r\n"
      ]
    },
    {
      "cell_type": "code",
      "metadata": {
        "id": "iGQJQWgIcXQp"
      },
      "source": [
        "!ghc-pkg list"
      ],
      "execution_count": null,
      "outputs": []
    },
    {
      "cell_type": "code",
      "metadata": {
        "id": "4LPJq0oa9bO8",
        "colab": {
          "base_uri": "https://localhost:8080/"
        },
        "outputId": "ded2fd49-3d3b-4888-ddc1-f03c726b0f24"
      },
      "source": [
        "%%writefile importqualified.hs\n",
        "\n",
        "import qualified Data.Map as M\n",
        "\n",
        "errorsPerLine = M.fromList [ (\"Chris\", 472), (\"Don\", 100), (\"Simon\", -5) ]\n",
        "\n",
        "main = do \n",
        "    putStrLn \"Who are you?\"\n",
        "    name <- getLine\n",
        "    case M.lookup name errorsPerLine of\n",
        "        Nothing -> putStrLn \"I don't know you\"\n",
        "        Just n  -> do putStr \"Errors per line: \"\n",
        "                      print n"
      ],
      "execution_count": null,
      "outputs": [
        {
          "output_type": "stream",
          "text": [
            "Overwriting importqualified.hs\n"
          ],
          "name": "stdout"
        }
      ]
    },
    {
      "cell_type": "code",
      "metadata": {
        "colab": {
          "base_uri": "https://localhost:8080/"
        },
        "id": "CwHKDTs_jGqK",
        "outputId": "3576930e-0d33-48fa-e014-bb0a426ef303"
      },
      "source": [
        "!echo Don | runghc importqualified.hs"
      ],
      "execution_count": null,
      "outputs": [
        {
          "output_type": "stream",
          "text": [
            "Who are you?\n",
            "Errors per line: 100\n"
          ],
          "name": "stdout"
        }
      ]
    },
    {
      "cell_type": "code",
      "metadata": {
        "colab": {
          "base_uri": "https://localhost:8080/"
        },
        "id": "sgIS8yV9kPZ2",
        "outputId": "ecbf429a-3fed-4c52-e517-ffdeac64a4dc"
      },
      "source": [
        "!echo Bob | runghc importqualified.hs"
      ],
      "execution_count": null,
      "outputs": [
        {
          "output_type": "stream",
          "text": [
            "Who are you?\n",
            "I don't know you\n"
          ],
          "name": "stdout"
        }
      ]
    },
    {
      "cell_type": "code",
      "metadata": {
        "id": "I33RQzT6YAaS",
        "colab": {
          "base_uri": "https://localhost:8080/"
        },
        "outputId": "1606c2f3-359b-4f33-d256-23657b847c33"
      },
      "source": [
        "!ghc -e $'let errorsPerLine = Data.Map.fromList [(\"Chris\", 472), (\"Don\", 100), (\"Simon\", -5)] in do case Data.Map.lookup \"Simon\" errorsPerLine of Just n -> print n'"
      ],
      "execution_count": null,
      "outputs": [
        {
          "output_type": "stream",
          "text": [
            "-5\n"
          ],
          "name": "stdout"
        }
      ]
    },
    {
      "cell_type": "code",
      "metadata": {
        "id": "unVJIfwAY57q",
        "colab": {
          "base_uri": "https://localhost:8080/"
        },
        "outputId": "4b3aa4b9-9295-45ef-dec7-e9fee84332f4"
      },
      "source": [
        "!ghc -e $'let errorsPerLine = Data.Map.fromList [(\"Chris\", 472), (\"Don\", 100), (\"Simon\", -5)] in print errorsPerLine'\r\n"
      ],
      "execution_count": null,
      "outputs": [
        {
          "output_type": "stream",
          "text": [
            "fromList [(\"Chris\",472),(\"Don\",100),(\"Simon\",-5)]\n"
          ],
          "name": "stdout"
        }
      ]
    },
    {
      "cell_type": "markdown",
      "metadata": {
        "id": "05q0I6VCAal4"
      },
      "source": [
        "四則演算"
      ]
    },
    {
      "cell_type": "code",
      "metadata": {
        "colab": {
          "base_uri": "https://localhost:8080/"
        },
        "id": "FQCMMJLxdoam",
        "outputId": "374e9b7f-4d3a-446d-b9f9-180e2f92323c"
      },
      "source": [
        "!ghc -e '2 + 15'\n",
        "!ghc -e '49 * 100'\n",
        "!ghc -e '1892 - 1472'\n",
        "!ghc -e '5 / 2'"
      ],
      "execution_count": null,
      "outputs": [
        {
          "output_type": "stream",
          "text": [
            "17\n",
            "4900\n",
            "420\n",
            "2.5\n"
          ],
          "name": "stdout"
        }
      ]
    },
    {
      "cell_type": "code",
      "metadata": {
        "id": "AFkAK5ZEnkFW",
        "colab": {
          "base_uri": "https://localhost:8080/"
        },
        "outputId": "a152692d-8e90-490a-9f6f-72b2b25a429a"
      },
      "source": [
        "!ghc -e '(50 * 100) - 4999'\n",
        "!ghc -e '50 * 100 - 4999'\n",
        "!ghc -e '50 * (100 - 4999)'"
      ],
      "execution_count": null,
      "outputs": [
        {
          "output_type": "stream",
          "text": [
            "1\n",
            "1\n",
            "-244950\n"
          ],
          "name": "stdout"
        }
      ]
    },
    {
      "cell_type": "code",
      "metadata": {
        "id": "wOvMZGQ5nmR4",
        "colab": {
          "base_uri": "https://localhost:8080/"
        },
        "outputId": "88b26040-5a9f-44ef-e06e-6f59eca022af"
      },
      "source": [
        "!ghc -e 'True && False'\n",
        "!ghc -e 'True && True'\n",
        "!ghc -e 'False || True'\n",
        "!ghc -e 'not False'\n",
        "!ghc -e 'not (True && True)'"
      ],
      "execution_count": null,
      "outputs": [
        {
          "output_type": "stream",
          "text": [
            "False\n",
            "True\n",
            "True\n",
            "True\n",
            "False\n"
          ],
          "name": "stdout"
        }
      ]
    },
    {
      "cell_type": "code",
      "metadata": {
        "id": "MDS-LdXBocT4",
        "colab": {
          "base_uri": "https://localhost:8080/"
        },
        "outputId": "2561ec3c-8904-42df-df4a-ca4fed7eb1a7"
      },
      "source": [
        "!ghc -e 'succ 8'\n",
        "!ghc -e 'min 9 10'\n",
        "!ghc -e 'min 3.4 3.2'\n",
        "!ghc -e 'max 100 101'\n",
        "!ghc -e 'max(1)(2)'"
      ],
      "execution_count": null,
      "outputs": [
        {
          "output_type": "stream",
          "text": [
            "9\n",
            "9\n",
            "3.2\n",
            "101\n",
            "2\n"
          ],
          "name": "stdout"
        }
      ]
    },
    {
      "cell_type": "markdown",
      "metadata": {
        "id": "tKwonjJ6ozn-"
      },
      "source": [
        "関数の優先順位が一番高い。\n",
        "\n",
        "次の2つの式は同じ意味になる。\n"
      ]
    },
    {
      "cell_type": "code",
      "metadata": {
        "id": "iBs4X0rco0E8",
        "colab": {
          "base_uri": "https://localhost:8080/"
        },
        "outputId": "780edcaa-d2fe-486f-9827-c7101b43d021"
      },
      "source": [
        "!ghc -e 'succ 9 + max 5 4 + 1'\n",
        "!ghc -e '(succ 9) + (max 5 4) + 1'"
      ],
      "execution_count": null,
      "outputs": [
        {
          "output_type": "stream",
          "text": [
            "16\n",
            "16\n"
          ],
          "name": "stdout"
        }
      ]
    },
    {
      "cell_type": "code",
      "metadata": {
        "id": "SIVVq2yRpOM_",
        "colab": {
          "base_uri": "https://localhost:8080/"
        },
        "outputId": "6ccbfe83-97dd-4dd6-b6c3-455c358088b1"
      },
      "source": [
        "!ghc -e 'succ 9 * 10'"
      ],
      "execution_count": null,
      "outputs": [
        {
          "output_type": "stream",
          "text": [
            "100\n"
          ],
          "name": "stdout"
        }
      ]
    },
    {
      "cell_type": "markdown",
      "metadata": {
        "id": "L5od-47zpe_l"
      },
      "source": [
        "# 整数除算"
      ]
    },
    {
      "cell_type": "code",
      "metadata": {
        "id": "Ap8spQwxpd0c",
        "colab": {
          "base_uri": "https://localhost:8080/"
        },
        "outputId": "96eaf6fa-8c37-46d6-dcd6-b47186fc32ad"
      },
      "source": [
        "!ghc -e '92 `div` 10'\n",
        "!ghc -e '92 / 10'\n",
        "!ghc -e '92 `mod` 10'"
      ],
      "execution_count": null,
      "outputs": [
        {
          "output_type": "stream",
          "text": [
            "9\n",
            "9.2\n",
            "2\n"
          ],
          "name": "stdout"
        }
      ]
    },
    {
      "cell_type": "code",
      "metadata": {
        "colab": {
          "base_uri": "https://localhost:8080/"
        },
        "id": "JPs9z0Agin6M",
        "outputId": "1e5767be-7811-4bfc-eaeb-7b8729a05755"
      },
      "source": [
        "!ghc -e 'floor (92 / 10)'\n",
        "!ghc -e 'floor (-92 / 10)'"
      ],
      "execution_count": null,
      "outputs": [
        {
          "output_type": "stream",
          "text": [
            "9\n",
            "-10\n"
          ],
          "name": "stdout"
        }
      ]
    },
    {
      "cell_type": "markdown",
      "metadata": {
        "id": "g2awhpFhVCQL"
      },
      "source": [
        "# 関数"
      ]
    },
    {
      "cell_type": "markdown",
      "metadata": {
        "id": "QBlbCX1pj79K"
      },
      "source": [
        "# 質問 関数の型を調べる方法はあるか。"
      ]
    },
    {
      "cell_type": "code",
      "metadata": {
        "id": "XkZ08fY0VEv6",
        "colab": {
          "base_uri": "https://localhost:8080/"
        },
        "outputId": "7d674c4b-85ec-48b9-a11a-6023b33b0020"
      },
      "source": [
        "%%writefile doubleme.hs\n",
        "doubleMe x = x + x\n",
        "\n",
        "main = do\n",
        "    print(doubleMe 9)\n",
        "    print(doubleMe 8.3)"
      ],
      "execution_count": null,
      "outputs": [
        {
          "output_type": "stream",
          "text": [
            "Overwriting doubleme.hs\n"
          ],
          "name": "stdout"
        }
      ]
    },
    {
      "cell_type": "code",
      "metadata": {
        "colab": {
          "base_uri": "https://localhost:8080/"
        },
        "id": "WICZfSInfhEF",
        "outputId": "662baaff-600c-496c-a468-ef735c79157d"
      },
      "source": [
        "!runghc doubleme.hs"
      ],
      "execution_count": null,
      "outputs": [
        {
          "output_type": "stream",
          "text": [
            "18\n",
            "16.6\n"
          ],
          "name": "stdout"
        }
      ]
    },
    {
      "cell_type": "markdown",
      "metadata": {
        "id": "DqV75lcfkhVB"
      },
      "source": [
        "次の例で doubleUs を 2回定義しようとすると redundant エラーになる。"
      ]
    },
    {
      "cell_type": "code",
      "metadata": {
        "id": "ZJDh4GipVhYq",
        "colab": {
          "base_uri": "https://localhost:8080/"
        },
        "outputId": "b8189d3b-09d9-4057-ade3-6dbc0741d3d6"
      },
      "source": [
        "%%writefile doubleus.hs\n",
        "doubleMe x = x + x\n",
        "doubleUs x y = x*2 + y*2   \n",
        "doubleUs x y = doubleMe x + doubleMe y\n",
        "\n",
        "main = do\n",
        "    print(doubleUs 4 9)\n",
        "    print(doubleUs 2.3 34.2)\n",
        "    print(doubleUs 28 88 + doubleMe 123)"
      ],
      "execution_count": null,
      "outputs": [
        {
          "output_type": "stream",
          "text": [
            "Overwriting doubleus.hs\n"
          ],
          "name": "stdout"
        }
      ]
    },
    {
      "cell_type": "code",
      "metadata": {
        "colab": {
          "base_uri": "https://localhost:8080/"
        },
        "id": "-LA5XHXngNtw",
        "outputId": "2765ee96-8924-4c0e-93bf-6fe9b0ab0aef"
      },
      "source": [
        "!runghc doubleus.hs"
      ],
      "execution_count": null,
      "outputs": [
        {
          "output_type": "stream",
          "text": [
            "\n",
            "doubleus.hs:3:1: warning: [-Woverlapping-patterns]\n",
            "    Pattern match is redundant\n",
            "    In an equation for ‘doubleUs’: doubleUs x y = ...\n",
            "26\n",
            "73.0\n",
            "478\n"
          ],
          "name": "stdout"
        }
      ]
    },
    {
      "cell_type": "markdown",
      "metadata": {
        "id": "PYRry4HUlQbB"
      },
      "source": [
        "# VSCode の拡張機能で次のように関数の型がわかる。"
      ]
    },
    {
      "cell_type": "code",
      "metadata": {
        "colab": {
          "base_uri": "https://localhost:8080/"
        },
        "id": "QlMG8DCdnHkk",
        "outputId": "2edfa4ec-dbbd-4212-d719-115c0be1b798"
      },
      "source": [
        "%%writefile ifthen.hs\n",
        "-- Haskell の if では else は必須。なぜなら if は式であり、返り値が必要だから。\n",
        "doubleSmallNumber :: (Ord a, Num a) => a -> a\n",
        "doubleSmallNumber x = if x > 100 then x else x * 2\n",
        "\n",
        "main :: IO ()\n",
        "main = do\n",
        "  x <- readLn\n",
        "  print (doubleSmallNumber x)"
      ],
      "execution_count": null,
      "outputs": [
        {
          "output_type": "stream",
          "text": [
            "Overwriting ifthen.hs\n"
          ],
          "name": "stdout"
        }
      ]
    },
    {
      "cell_type": "code",
      "metadata": {
        "colab": {
          "base_uri": "https://localhost:8080/"
        },
        "id": "_4cjdLG0nLHO",
        "outputId": "17fc95a9-eab6-4ea5-cecd-fb31450957b0"
      },
      "source": [
        "!echo 120 | runghc ifthen.hs\n",
        "!echo 12 | runghc ifthen.hs"
      ],
      "execution_count": null,
      "outputs": [
        {
          "output_type": "stream",
          "text": [
            "120\n",
            "24\n"
          ],
          "name": "stdout"
        }
      ]
    },
    {
      "cell_type": "code",
      "metadata": {
        "id": "qV8VRsIJbm3I",
        "colab": {
          "base_uri": "https://localhost:8080/"
        },
        "outputId": "1928546d-953e-4c12-fc58-521644322bb3"
      },
      "source": [
        "# python の if then は次のように書く\n",
        "\n",
        "def doubleSmallNumber (x) :\n",
        "    if x > 100 :\n",
        "        return x\n",
        "    else:\n",
        "        return x * 2\n",
        "\n",
        "print (doubleSmallNumber (120))\n",
        "print (doubleSmallNumber (12))"
      ],
      "execution_count": null,
      "outputs": [
        {
          "output_type": "stream",
          "text": [
            "120\n",
            "24\n"
          ],
          "name": "stdout"
        }
      ]
    },
    {
      "cell_type": "code",
      "metadata": {
        "id": "5mNdpWKTdsTr",
        "colab": {
          "base_uri": "https://localhost:8080/"
        },
        "outputId": "d45569c1-f1a1-4792-d12c-a184d011b45c"
      },
      "source": [
        "!ghc -e $'let conanO\\'Brien = \"It\\'s a-me, Conan O\\'Brien!\" in conanO\\'Brien'\n"
      ],
      "execution_count": null,
      "outputs": [
        {
          "output_type": "stream",
          "text": [
            "\"It's a-me, Conan O'Brien!\"\n"
          ],
          "name": "stdout"
        }
      ]
    },
    {
      "cell_type": "markdown",
      "metadata": {
        "id": "QPcmXomYd-sT"
      },
      "source": [
        "上の例で2つのことを指摘したい。\n",
        "\n",
        "1. 関数名は小文字で始まる。\n",
        "1. 関数は引数なしもあり得る。引数なしの場合、ただの定義になる。"
      ]
    },
    {
      "cell_type": "code",
      "metadata": {
        "colab": {
          "base_uri": "https://localhost:8080/"
        },
        "id": "1sZcN_P-v_Yu",
        "outputId": "21654492-7281-45b2-9a49-604d432d99d7"
      },
      "source": [
        "# `let in` とワンライナー\n",
        "!ghc -e $'let doubleSmallNumber x = if x > 100 then x else x * 2 in doubleSmallNumber 18'"
      ],
      "execution_count": null,
      "outputs": [
        {
          "output_type": "stream",
          "text": [
            "36\n"
          ],
          "name": "stdout"
        }
      ]
    },
    {
      "cell_type": "markdown",
      "metadata": {
        "id": "y6H51hT-zQ3d"
      },
      "source": [
        "# リスト"
      ]
    },
    {
      "cell_type": "code",
      "metadata": {
        "id": "wnQmo8IGzSaV",
        "colab": {
          "base_uri": "https://localhost:8080/"
        },
        "outputId": "9e45cb8f-d701-4dda-dc6f-10d6fc62bc5a"
      },
      "source": [
        "!ghc -e $'let lostNumbers = [4,8,15,16,23,42] in lostNumbers'"
      ],
      "execution_count": null,
      "outputs": [
        {
          "output_type": "stream",
          "text": [
            "[4,8,15,16,23,42]\n"
          ],
          "name": "stdout"
        }
      ]
    },
    {
      "cell_type": "code",
      "metadata": {
        "id": "rvpkOXPo0aJu",
        "colab": {
          "base_uri": "https://localhost:8080/"
        },
        "outputId": "068ce4f4-63a4-42ca-89c5-e96ae100ef3a"
      },
      "source": [
        "!ghc -e $'[1,2,3,4] ++ [9,10,11,12]'\n",
        "!ghc -e $'\"hello\" ++ \" \" ++ \"world\"'\n",
        "!ghc -e $'[\\'w\\', \\'o\\'] ++ [\\'o\\',\\'t\\']'"
      ],
      "execution_count": null,
      "outputs": [
        {
          "output_type": "stream",
          "text": [
            "[1,2,3,4,9,10,11,12]\n",
            "\"hello world\"\n",
            "\"woot\"\n"
          ],
          "name": "stdout"
        }
      ]
    },
    {
      "cell_type": "code",
      "metadata": {
        "id": "U_9C6CqF0sRr",
        "colab": {
          "base_uri": "https://localhost:8080/"
        },
        "outputId": "84ec1a80-d804-4fd8-dcf5-d554ebef94b1"
      },
      "source": [
        "!ghc -e $'\\'A\\':\" SMALL CAT\"'\n",
        "!ghc -e $'5:[1,2,3,4,5]'"
      ],
      "execution_count": null,
      "outputs": [
        {
          "output_type": "stream",
          "text": [
            "\"A SMALL CAT\"\n",
            "[5,1,2,3,4,5]\n"
          ],
          "name": "stdout"
        }
      ]
    },
    {
      "cell_type": "markdown",
      "metadata": {
        "id": "o4UHyTtI07zX"
      },
      "source": [
        "`[1,2,3]` は内部的には `1:2:3:[]` で、`[]` は空リストである。空リストの冒頭に 3 を加えると `[3]` になる。できたリストの頭に 2 を加えると、`[2,3]` になる。"
      ]
    },
    {
      "cell_type": "code",
      "metadata": {
        "id": "Tn4oyGN-1yoR",
        "colab": {
          "base_uri": "https://localhost:8080/"
        },
        "outputId": "76dc8a10-34b8-4376-a93a-1679e563354d"
      },
      "source": [
        "!ghc -e '\"Steve Buscemi\" !! 6'\n",
        "!ghc -e '[9.4,33.2,96.2,11.2,23.25] !! 1'"
      ],
      "execution_count": null,
      "outputs": [
        {
          "output_type": "stream",
          "text": [
            "'B'\n",
            "33.2\n"
          ],
          "name": "stdout"
        }
      ]
    },
    {
      "cell_type": "code",
      "metadata": {
        "id": "09V_A7nx1ztd",
        "colab": {
          "base_uri": "https://localhost:8080/"
        },
        "outputId": "139c5e6b-02d5-4200-f94f-06ffaae6cdae"
      },
      "source": [
        "# python では次のように書く\n",
        "\n",
        "print (\"Steve Buscemi\"[6])\n",
        "print ([9.4,33.2,96.2,11.2,23.25][1])\n"
      ],
      "execution_count": null,
      "outputs": [
        {
          "output_type": "stream",
          "text": [
            "B\n",
            "33.2\n"
          ],
          "name": "stdout"
        }
      ]
    },
    {
      "cell_type": "markdown",
      "metadata": {
        "id": "bFGr1ma4GG1k"
      },
      "source": [
        "# インデクスが大きすぎるとエラーになる。"
      ]
    },
    {
      "cell_type": "code",
      "metadata": {
        "id": "XtxFVZtxGFCh",
        "colab": {
          "base_uri": "https://localhost:8080/"
        },
        "outputId": "72c81506-38bc-4fcf-f7fa-c986019c48a3"
      },
      "source": [
        "!ghc -e '[9.4,33.2,96.2,11.2,23.25] !! 6'"
      ],
      "execution_count": null,
      "outputs": [
        {
          "output_type": "stream",
          "text": [
            "<interactive>: Prelude.!!: index too large\n"
          ],
          "name": "stdout"
        }
      ]
    },
    {
      "cell_type": "code",
      "metadata": {
        "colab": {
          "base_uri": "https://localhost:8080/"
        },
        "id": "LFMRXLVz0RMT",
        "outputId": "e5da0fb4-3e0c-4e70-f31f-88b2d226b23c"
      },
      "source": [
        "!ghc -e 'let b = [[1,2,3,4],[5,3,3,3],[1,2,2,3,4],[1,2,3]] in b ++ [[1,1,1,1]] '\n",
        "!ghc -e 'let b = [[1,2,3,4],[5,3,3,3],[1,2,2,3,4],[1,2,3]] in [6,6,6]:b'\n",
        "!ghc -e 'let b = [[1,2,3,4],[5,3,3,3],[1,2,2,3,4],[1,2,3]] in b !! 2'"
      ],
      "execution_count": null,
      "outputs": [
        {
          "output_type": "stream",
          "text": [
            "[[1,2,3,4],[5,3,3,3],[1,2,2,3,4],[1,2,3],[1,1,1,1]]\n",
            "[[6,6,6],[1,2,3,4],[5,3,3,3],[1,2,2,3,4],[1,2,3]]\n",
            "[1,2,2,3,4]\n"
          ],
          "name": "stdout"
        }
      ]
    },
    {
      "cell_type": "code",
      "metadata": {
        "colab": {
          "base_uri": "https://localhost:8080/"
        },
        "id": "qI-239Nk2PQh",
        "outputId": "c97158a2-8b29-41d1-a80f-b8c8864afd67"
      },
      "source": [
        "%%writefile list01.hs\n",
        "\n",
        "b :: [[Int]]\n",
        "b = [[1,2,3,4],[5,3,3,3],[1,2,2,3,4],[1,2,3]]\n",
        "\n",
        "main :: IO ()\n",
        "main = do \n",
        "  print (b ++ [[1,1,1,1]])\n",
        "  print ([6,6,6]:b)\n",
        "  print (b !! 2)"
      ],
      "execution_count": null,
      "outputs": [
        {
          "output_type": "stream",
          "text": [
            "Overwriting list01.hs\n"
          ],
          "name": "stdout"
        }
      ]
    },
    {
      "cell_type": "code",
      "metadata": {
        "colab": {
          "base_uri": "https://localhost:8080/"
        },
        "id": "majrty089BTP",
        "outputId": "1db36b60-3700-49c5-813e-c914eab6ab98"
      },
      "source": [
        "!runghc list01.hs"
      ],
      "execution_count": null,
      "outputs": [
        {
          "output_type": "stream",
          "text": [
            "[[1,2,3,4],[5,3,3,3],[1,2,2,3,4],[1,2,3],[1,1,1,1]]\n",
            "[[6,6,6],[1,2,3,4],[5,3,3,3],[1,2,2,3,4],[1,2,3]]\n",
            "[1,2,2,3,4]\n"
          ],
          "name": "stdout"
        }
      ]
    },
    {
      "cell_type": "code",
      "metadata": {
        "colab": {
          "base_uri": "https://localhost:8080/"
        },
        "id": "q-d8t2JO-f_s",
        "outputId": "f4212710-cf52-44c8-ca0e-de97f51e2793"
      },
      "source": [
        "# 実験\n",
        "%%writefile list02.hs\n",
        "main :: IO ()\n",
        "main = do \n",
        "    let x = b ++ [[1,1,1,1]] where b = [[1,2,3,4],[5,3,3,3],[1,2,2,3,4],[1,2,3]]\n",
        "    print x"
      ],
      "execution_count": null,
      "outputs": [
        {
          "output_type": "stream",
          "text": [
            "Overwriting list02.hs\n"
          ],
          "name": "stdout"
        }
      ]
    },
    {
      "cell_type": "code",
      "metadata": {
        "colab": {
          "base_uri": "https://localhost:8080/"
        },
        "id": "dhc0eNHqBPuI",
        "outputId": "5a95165a-86e1-43da-deb2-8b795cafe776"
      },
      "source": [
        "!runghc list02.hs"
      ],
      "execution_count": null,
      "outputs": [
        {
          "output_type": "stream",
          "text": [
            "[[1,2,3,4],[5,3,3,3],[1,2,2,3,4],[1,2,3],[1,1,1,1]]\n"
          ],
          "name": "stdout"
        }
      ]
    },
    {
      "cell_type": "code",
      "metadata": {
        "colab": {
          "base_uri": "https://localhost:8080/"
        },
        "id": "cE8zs8Of8mEO",
        "outputId": "d40aeb4c-2017-472f-f747-1a70859c2e8b"
      },
      "source": [
        "%%writefile where01.hs\n",
        "calcBmi cm kg\n",
        "  | bmi <= 18.5 = \"痩せてるね\"\n",
        "  | bmi <= 25.0 = \"普通だね\"\n",
        "  | bmi <= 30.0 = \"ぽっちゃりだね\"\n",
        "  | otherwise = \"太っているね\"\n",
        "  where\n",
        "    bmi = kg / (m ^ 2)\n",
        "    m = cm / 100\n",
        "\n",
        "main = do\n",
        "  putStrLn $ calcBmi 170 60"
      ],
      "execution_count": null,
      "outputs": [
        {
          "output_type": "stream",
          "text": [
            "Writing where01.hs\n"
          ],
          "name": "stdout"
        }
      ]
    },
    {
      "cell_type": "code",
      "metadata": {
        "colab": {
          "base_uri": "https://localhost:8080/"
        },
        "id": "Kd8vqiyG8w9P",
        "outputId": "509e77de-994a-4ba3-e028-c018647f735c"
      },
      "source": [
        "!runghc where01.hs"
      ],
      "execution_count": null,
      "outputs": [
        {
          "output_type": "stream",
          "text": [
            "普通だね\n"
          ],
          "name": "stdout"
        }
      ]
    },
    {
      "cell_type": "code",
      "metadata": {
        "id": "m3hlaMnMGgIq",
        "colab": {
          "base_uri": "https://localhost:8080/"
        },
        "outputId": "83078c8e-395b-4eb9-f946-9ea7f7d2f72c"
      },
      "source": [
        "!ghc -e '[3,2,1] > [2,1,0]'\n",
        "!ghc -e '[3,2,1] > [2,10,100] '\n",
        "!ghc -e '[3,4,2] > [3,4]'\n",
        "!ghc -e '[3,4,2] > [2,4] '\n",
        "!ghc -e '[3,4,2] == [3,4,2]'"
      ],
      "execution_count": null,
      "outputs": [
        {
          "output_type": "stream",
          "text": [
            "True\n",
            "True\n",
            "True\n",
            "True\n",
            "True\n"
          ],
          "name": "stdout"
        }
      ]
    },
    {
      "cell_type": "code",
      "metadata": {
        "id": "F4wLT3baGqIy",
        "colab": {
          "base_uri": "https://localhost:8080/"
        },
        "outputId": "3058469a-07c3-400f-9f5b-9e2c7c1a3393"
      },
      "source": [
        "!ghc -e 'head [5,4,3,2,1] '\n",
        "!ghc -e 'tail [5,4,3,2,1] '\n"
      ],
      "execution_count": null,
      "outputs": [
        {
          "output_type": "stream",
          "text": [
            "5\n",
            "[4,3,2,1]\n"
          ],
          "name": "stdout"
        }
      ]
    },
    {
      "cell_type": "code",
      "metadata": {
        "id": "GFNfbwqRG0Ec",
        "colab": {
          "base_uri": "https://localhost:8080/"
        },
        "outputId": "c744135e-72c7-4807-ab61-ce692081c6e5"
      },
      "source": [
        "!ghc -e 'last [5,4,3,2,1]  '\n",
        "!ghc -e 'init [5,4,3,2,1] '"
      ],
      "execution_count": null,
      "outputs": [
        {
          "output_type": "stream",
          "text": [
            "1\n",
            "[5,4,3,2]\n"
          ],
          "name": "stdout"
        }
      ]
    },
    {
      "cell_type": "markdown",
      "metadata": {
        "id": "lUNKb5yuG7lC"
      },
      "source": [
        "空リストの head を取ろうとするとエラーになる。"
      ]
    },
    {
      "cell_type": "code",
      "metadata": {
        "id": "nW8V3FxzG8Fp",
        "colab": {
          "base_uri": "https://localhost:8080/"
        },
        "outputId": "4f401b71-e37b-4ad3-8b36-5877f6f95b80"
      },
      "source": [
        "!ghc -e 'head []'"
      ],
      "execution_count": null,
      "outputs": [
        {
          "output_type": "stream",
          "text": [
            "<interactive>: Prelude.head: empty list\n"
          ],
          "name": "stdout"
        }
      ]
    },
    {
      "cell_type": "code",
      "metadata": {
        "id": "3zr0TMJkHVd-",
        "colab": {
          "base_uri": "https://localhost:8080/"
        },
        "outputId": "d9d79982-67c9-44f8-e346-1c92632a5ed1"
      },
      "source": [
        "!ghc -e 'length [5,4,3,2,1]'\n",
        "!ghc -e 'null [1,2,3]  '\n",
        "!ghc -e 'null [] '\n",
        "!ghc -e 'reverse [5,4,3,2,1] '"
      ],
      "execution_count": null,
      "outputs": [
        {
          "output_type": "stream",
          "text": [
            "5\n",
            "False\n",
            "True\n",
            "[1,2,3,4,5]\n"
          ],
          "name": "stdout"
        }
      ]
    },
    {
      "cell_type": "code",
      "metadata": {
        "id": "scv3bPba33Zh",
        "colab": {
          "base_uri": "https://localhost:8080/"
        },
        "outputId": "062c6e55-fcc4-4917-d902-ebf709f06580"
      },
      "source": [
        "!ghc -e 'Data.List.sort [5,4,3,2,1] '"
      ],
      "execution_count": null,
      "outputs": [
        {
          "output_type": "stream",
          "text": [
            "[1,2,3,4,5]\n"
          ],
          "name": "stdout"
        }
      ]
    },
    {
      "cell_type": "code",
      "metadata": {
        "id": "x17NceVRHlSz",
        "colab": {
          "base_uri": "https://localhost:8080/"
        },
        "outputId": "73091959-fc4f-4ab4-b996-56604fcec288"
      },
      "source": [
        "!ghc -e 'take 3 [5,4,3,2,1]'\n",
        "!ghc -e 'take 1 [3,9,3]'\n",
        "!ghc -e 'take 5 [1,2]'\n",
        "!ghc -e 'take 0 [6,6,6]'\n",
        "!ghc -e 'take 1 []'\n",
        "!ghc -e 'take -1 [6,6,6]' # エラー"
      ],
      "execution_count": null,
      "outputs": [
        {
          "output_type": "stream",
          "text": [
            "[5,4,3]\n",
            "[3]\n",
            "[1,2]\n",
            "[]\n",
            "[]\n",
            "\n",
            "<interactive>:0:1: error:\n",
            "    • Non type-variable argument\n",
            "        in the constraint: Num (Int -> [a] -> [a])\n",
            "      (Use FlexibleContexts to permit this)\n",
            "    • When checking the inferred type\n",
            "        it :: forall t a.\n",
            "              (Num (Int -> [a] -> [a]), Num ([t] -> Int -> [a] -> [a]), Num t) =>\n",
            "              Int -> [a] -> [a]\n"
          ],
          "name": "stdout"
        }
      ]
    },
    {
      "cell_type": "code",
      "metadata": {
        "id": "IItgPWw8Hylk",
        "colab": {
          "base_uri": "https://localhost:8080/"
        },
        "outputId": "278c804d-0345-45cc-a036-8389ea3acc2d"
      },
      "source": [
        "!ghc -e 'drop 3 [8,4,2,1,5,6]  '\n",
        "!ghc -e 'drop 0 [1,2,3,4] '\n",
        "!ghc -e 'drop 100 [1,2,3,4] '"
      ],
      "execution_count": null,
      "outputs": [
        {
          "output_type": "stream",
          "text": [
            "[1,5,6]\n",
            "[1,2,3,4]\n",
            "[]\n"
          ],
          "name": "stdout"
        }
      ]
    },
    {
      "cell_type": "code",
      "metadata": {
        "id": "hHOHtCnlH690",
        "colab": {
          "base_uri": "https://localhost:8080/"
        },
        "outputId": "2b941452-107e-4601-a131-f3ca1f94a20a"
      },
      "source": [
        "!ghc -e 'minimum [8,4,2,1,5,6]'\n",
        "!ghc -e 'maximum [1,9,2,3,4] '"
      ],
      "execution_count": null,
      "outputs": [
        {
          "output_type": "stream",
          "text": [
            "1\n",
            "9\n"
          ],
          "name": "stdout"
        }
      ]
    },
    {
      "cell_type": "code",
      "metadata": {
        "colab": {
          "base_uri": "https://localhost:8080/"
        },
        "id": "hEIy4RgTGV4D",
        "outputId": "5c672f44-3c42-49d7-9890-116b2c8349cd"
      },
      "source": [
        "!ghc -e 'sum [5,2,1,6,3,2,5,7]'\n",
        "!ghc -e 'product [6,2,1,2]  '\n",
        "!ghc -e 'product [1,2,5,6,7,9,2,0]  '"
      ],
      "execution_count": null,
      "outputs": [
        {
          "output_type": "stream",
          "text": [
            "31\n",
            "24\n",
            "0\n"
          ],
          "name": "stdout"
        }
      ]
    },
    {
      "cell_type": "code",
      "metadata": {
        "colab": {
          "base_uri": "https://localhost:8080/"
        },
        "id": "6wDxixWAGtXO",
        "outputId": "262bdad1-e197-45d0-eb5c-ac13338bd1d4"
      },
      "source": [
        "!ghc -e 'elem 4 [3,4,5,6]  '\n",
        "!ghc -e 'elem 10 [3,4,5,6] '"
      ],
      "execution_count": null,
      "outputs": [
        {
          "output_type": "stream",
          "text": [
            "True\n",
            "False\n"
          ],
          "name": "stdout"
        }
      ]
    },
    {
      "cell_type": "markdown",
      "metadata": {
        "id": "sYQTtxMuHGDf"
      },
      "source": [
        "# range"
      ]
    },
    {
      "cell_type": "code",
      "metadata": {
        "colab": {
          "base_uri": "https://localhost:8080/"
        },
        "id": "g2AGs_jNHip6",
        "outputId": "21071462-2ca9-482a-d6e4-277df8bf7277"
      },
      "source": [
        "!ghc -e $'[1..20]  '\n",
        "!ghc -e $'[\\'a\\'..\\'z\\']  '\n",
        "!ghc -e $'[\\'K\\'..\\'Z\\']  '\n",
        "!ghc -e $'[2,4..20]  '\n",
        "!ghc -e $'[3,6..20]  '\n",
        "!ghc -e $'[20,19..1]'"
      ],
      "execution_count": null,
      "outputs": [
        {
          "output_type": "stream",
          "text": [
            "[1,2,3,4,5,6,7,8,9,10,11,12,13,14,15,16,17,18,19,20]\n",
            "\"abcdefghijklmnopqrstuvwxyz\"\n",
            "\"KLMNOPQRSTUVWXYZ\"\n",
            "[2,4,6,8,10,12,14,16,18,20]\n",
            "[3,6,9,12,15,18]\n",
            "[20,19,18,17,16,15,14,13,12,11,10,9,8,7,6,5,4,3,2,1]\n"
          ],
          "name": "stdout"
        }
      ]
    },
    {
      "cell_type": "code",
      "metadata": {
        "colab": {
          "base_uri": "https://localhost:8080/"
        },
        "id": "Kb0ZV1uRfVgq",
        "outputId": "a4fdf6e3-de9c-4ce5-9d27-a6af937a86b1"
      },
      "source": [
        "# do not use floating point numbers in ranges\n",
        "!ghc -e '[0.1, 0.3 .. 1] '"
      ],
      "execution_count": null,
      "outputs": [
        {
          "output_type": "stream",
          "text": [
            "[0.1,0.3,0.5,0.7,0.8999999999999999,1.0999999999999999]\n"
          ],
          "name": "stdout"
        }
      ]
    },
    {
      "cell_type": "code",
      "metadata": {
        "colab": {
          "base_uri": "https://localhost:8080/"
        },
        "id": "faDphCBjfrOA",
        "outputId": "00884f96-fcf5-4bfd-9959-f79f0b356445"
      },
      "source": [
        "# infinite list\n",
        "!ghc -e 'take 10 [1..]'\n",
        "!ghc -e 'take 10 $ cycle [1,2,3]'\n",
        "!ghc -e 'take 10 (cycle [1,2,3])'\n",
        "!ghc -e 'take 12 (cycle \"LOL \")  '\n",
        "!ghc -e 'take 10 (repeat 5) '\n",
        "!echo\n",
        "!ghc -e 'replicate 3 10'"
      ],
      "execution_count": null,
      "outputs": [
        {
          "output_type": "stream",
          "text": [
            "[1,2,3,4,5,6,7,8,9,10]\n",
            "[1,2,3,1,2,3,1,2,3,1]\n",
            "[1,2,3,1,2,3,1,2,3,1]\n",
            "\"LOL LOL LOL \"\n",
            "[5,5,5,5,5,5,5,5,5,5]\n",
            "\n",
            "[10,10,10]\n"
          ],
          "name": "stdout"
        }
      ]
    },
    {
      "cell_type": "markdown",
      "metadata": {
        "id": "4YgqZnJMgnui"
      },
      "source": [
        "# 内包表記 list comprehension"
      ]
    },
    {
      "cell_type": "markdown",
      "metadata": {
        "id": "YDHFsquwkhFv"
      },
      "source": [
        "集合で習う集合の内包表記は数式で次の様に書く。\n",
        "\n",
        "$$\n",
        "S= \\{2 \\cdot x \\mid x \\in  \\mathbb{N}, \\ x \\leq 10 \\}\n",
        "$$"
      ]
    },
    {
      "cell_type": "code",
      "metadata": {
        "colab": {
          "base_uri": "https://localhost:8080/",
          "height": 38
        },
        "id": "FPRji7FKkpWg",
        "outputId": "08ba266e-e30e-4696-d47b-1d2fbfbef25d"
      },
      "source": [
        "# 参考 集合で習う集合の内包表記は数式で次の様に書く。\n",
        "%%latex\n",
        "\n",
        "S= \\{2 \\cdot x \\mid x \\in  \\mathbb{N}, \\ x \\leq 10 \\}\n"
      ],
      "execution_count": null,
      "outputs": [
        {
          "output_type": "display_data",
          "data": {
            "text/latex": "\nS= \\{2 \\cdot x \\mid x \\in  \\mathbb{N}, \\ x \\leq 10 \\}",
            "text/plain": [
              "<IPython.core.display.Latex object>"
            ]
          },
          "metadata": {
            "tags": []
          }
        }
      ]
    },
    {
      "cell_type": "code",
      "metadata": {
        "colab": {
          "base_uri": "https://localhost:8080/"
        },
        "id": "u1EYZe1Ognc-",
        "outputId": "7d6e9d06-6022-4e8f-b2bb-1d0af0512e36"
      },
      "source": [
        "!ghc -e '[x*2 | x <- [1..10]]'\n",
        "!ghc -e '[x*2 | x <- [1..10], x*2 >= 12]'\n",
        "!ghc -e '[ x | x <- [50..100], x `mod` 7 == 3]'"
      ],
      "execution_count": null,
      "outputs": [
        {
          "output_type": "stream",
          "text": [
            "[2,4,6,8,10,12,14,16,18,20]\n",
            "[12,14,16,18,20]\n",
            "[52,59,66,73,80,87,94]\n"
          ],
          "name": "stdout"
        }
      ]
    },
    {
      "cell_type": "code",
      "metadata": {
        "colab": {
          "base_uri": "https://localhost:8080/"
        },
        "id": "pb5JIQUIimEX",
        "outputId": "0276296d-37d4-43a9-f219-11fa94b7f9df"
      },
      "source": [
        "!ghc -e 'let boomBangs xs = [ if x < 10 then \"BOOM!\" else \"BANG!\" | x <- xs, odd x] in boomBangs [7..13]'"
      ],
      "execution_count": null,
      "outputs": [
        {
          "output_type": "stream",
          "text": [
            "[\"BOOM!\",\"BOOM!\",\"BANG!\",\"BANG!\"]\n"
          ],
          "name": "stdout"
        }
      ]
    },
    {
      "cell_type": "code",
      "metadata": {
        "colab": {
          "base_uri": "https://localhost:8080/"
        },
        "id": "gCxWBDBBizHr",
        "outputId": "64da1081-c234-401e-e4c2-fd350f693cbc"
      },
      "source": [
        "!ghc -e '[ x | x <- [10..20], x /= 13, x /= 15, x /= 19]'"
      ],
      "execution_count": null,
      "outputs": [
        {
          "output_type": "stream",
          "text": [
            "[10,11,12,14,16,17,18,20]\n"
          ],
          "name": "stdout"
        }
      ]
    },
    {
      "cell_type": "code",
      "metadata": {
        "id": "_b5ceC4-F4a8",
        "colab": {
          "base_uri": "https://localhost:8080/"
        },
        "outputId": "05a824c9-9713-4610-814c-c39cdb0e9941"
      },
      "source": [
        "!ghc -e '[ x*y | x <- [2,5,10], y <- [8,10,11]] '\n",
        "!ghc -e '[ x*y | x <- [2,5,10], y <- [8,10,11], x*y > 50]'"
      ],
      "execution_count": null,
      "outputs": [
        {
          "output_type": "stream",
          "text": [
            "[16,20,22,40,50,55,80,100,110]\n",
            "[55,80,100,110]\n"
          ],
          "name": "stdout"
        }
      ]
    },
    {
      "cell_type": "code",
      "metadata": {
        "id": "oU9sVB_wC-N3",
        "colab": {
          "base_uri": "https://localhost:8080/"
        },
        "outputId": "c2d6e1f0-57e7-422d-c0e2-7befa37b2f2d"
      },
      "source": [
        "!ghc -e '[ (x, y) | x <- [2,5,10], y <- [8,10,11]] '\r\n",
        "!ghc -e '[ [x, y] | x <- [2,5,10], y <- [8,10,11]] '"
      ],
      "execution_count": null,
      "outputs": [
        {
          "output_type": "stream",
          "text": [
            "[(2,8),(2,10),(2,11),(5,8),(5,10),(5,11),(10,8),(10,10),(10,11)]\n",
            "[[2,8],[2,10],[2,11],[5,8],[5,10],[5,11],[10,8],[10,10],[10,11]]\n"
          ],
          "name": "stdout"
        }
      ]
    },
    {
      "cell_type": "code",
      "metadata": {
        "id": "ZX2I0PzcGedi",
        "colab": {
          "base_uri": "https://localhost:8080/"
        },
        "outputId": "3497e7a3-797a-4145-b10c-2eb776efc636"
      },
      "source": [
        "!ghc -e 'let {nouns = [\"hobo\",\"frog\",\"pope\"]; adjectives = [\"lazy\",\"grouchy\",\"scheming\"]} in [adjective ++ \" \" ++ noun | adjective <- adjectives, noun <- nouns]'"
      ],
      "execution_count": null,
      "outputs": [
        {
          "output_type": "stream",
          "text": [
            "[\"lazy hobo\",\"lazy frog\",\"lazy pope\",\"grouchy hobo\",\"grouchy frog\",\"grouchy pope\",\"scheming hobo\",\"scheming frog\",\"scheming pope\"]\n"
          ],
          "name": "stdout"
        }
      ]
    },
    {
      "cell_type": "code",
      "metadata": {
        "id": "GOyKIOqVIuIL",
        "colab": {
          "base_uri": "https://localhost:8080/"
        },
        "outputId": "b2970312-50d1-4fc0-c191-3a0c3c471615"
      },
      "source": [
        "# 日本語でやってみたら、文字化けしてしまった\n",
        "!ghc -e 'let {nouns = [\"流れもの\",\"カエル\",\"坊主\"]; adjectives = [\"なまけものの\",\"文句たれの\",\"ずるい\"]} in [adjective ++ noun | adjective <- adjectives, noun <- nouns]'"
      ],
      "execution_count": null,
      "outputs": [
        {
          "output_type": "stream",
          "text": [
            "[\"\\12394\\12414\\12369\\12418\\12398\\12398\\27969\\12428\\12418\\12398\",\"\\12394\\12414\\12369\\12418\\12398\\12398\\12459\\12456\\12523\",\"\\12394\\12414\\12369\\12418\\12398\\12398\\22346\\20027\",\"\\25991\\21477\\12383\\12428\\12398\\27969\\12428\\12418\\12398\",\"\\25991\\21477\\12383\\12428\\12398\\12459\\12456\\12523\",\"\\25991\\21477\\12383\\12428\\12398\\22346\\20027\",\"\\12378\\12427\\12356\\27969\\12428\\12418\\12398\",\"\\12378\\12427\\12356\\12459\\12456\\12523\",\"\\12378\\12427\\12356\\22346\\20027\"]\n"
          ],
          "name": "stdout"
        }
      ]
    },
    {
      "cell_type": "code",
      "metadata": {
        "colab": {
          "base_uri": "https://localhost:8080/"
        },
        "id": "x9PAeNCIM255",
        "outputId": "71de1845-b5c9-41d8-e948-0aefb270b6c4"
      },
      "source": [
        "# 実験 putStrLn で取り出す\n",
        "!ghc -e 'let {nouns = [\"流れもの\",\"カエル\",\"坊主\"]; adjectives = [\"なまけものの\",\"文句たれの\",\"ずるい\"]} in mapM_ putStrLn [adjective ++ noun | adjective <- adjectives, noun <- nouns]'"
      ],
      "execution_count": null,
      "outputs": [
        {
          "output_type": "stream",
          "text": [
            "なまけものの流れもの\n",
            "なまけもののカエル\n",
            "なまけものの坊主\n",
            "文句たれの流れもの\n",
            "文句たれのカエル\n",
            "文句たれの坊主\n",
            "ずるい流れもの\n",
            "ずるいカエル\n",
            "ずるい坊主\n"
          ],
          "name": "stdout"
        }
      ]
    },
    {
      "cell_type": "code",
      "metadata": {
        "id": "3kyz1NYvJujX",
        "colab": {
          "base_uri": "https://localhost:8080/"
        },
        "outputId": "80094266-8fe8-4cb0-8dee-f4af9ed97733"
      },
      "source": [
        "# 実験\n",
        "%%writefile adjective_noun.hs\n",
        "nouns = [\"流れもの\",\"カエル\",\"坊主\"]; \n",
        "adjectives = [\"なまけものの\",\"文句たれの\",\"ずるい\"]\n",
        "adjectiveplusnouns = [adjective ++ noun | adjective <- adjectives, noun <- nouns]\n",
        "\n",
        "main = do\n",
        "    putStrLn (adjectiveplusnouns!!0)\n",
        "    mapM_ putStrLn adjectiveplusnouns"
      ],
      "execution_count": null,
      "outputs": [
        {
          "output_type": "stream",
          "text": [
            "Overwriting adjective_noun.hs\n"
          ],
          "name": "stdout"
        }
      ]
    },
    {
      "cell_type": "code",
      "metadata": {
        "id": "_j60kkBeMVtf",
        "colab": {
          "base_uri": "https://localhost:8080/"
        },
        "outputId": "9598e0cf-6664-469c-e11f-1571e03774ef"
      },
      "source": [
        "!runghc adjective_noun.hs"
      ],
      "execution_count": null,
      "outputs": [
        {
          "output_type": "stream",
          "text": [
            "なまけものの流れもの\n",
            "なまけものの流れもの\n",
            "なまけもののカエル\n",
            "なまけものの坊主\n",
            "文句たれの流れもの\n",
            "文句たれのカエル\n",
            "文句たれの坊主\n",
            "ずるい流れもの\n",
            "ずるいカエル\n",
            "ずるい坊主\n"
          ],
          "name": "stdout"
        }
      ]
    },
    {
      "cell_type": "code",
      "metadata": {
        "id": "MqYeoGw5RLYs",
        "colab": {
          "base_uri": "https://localhost:8080/"
        },
        "outputId": "d0cea563-e7c1-4f3e-ae1d-089aaff904f5"
      },
      "source": [
        "# length を実装する\n",
        "!ghc -e 'let length01 xs = sum [1 | _ <- xs] in print (length01 [1,2,3])'"
      ],
      "execution_count": null,
      "outputs": [
        {
          "output_type": "stream",
          "text": [
            "3\n"
          ],
          "name": "stdout"
        }
      ]
    },
    {
      "cell_type": "code",
      "metadata": {
        "id": "dL2-xvNOR8VD",
        "colab": {
          "base_uri": "https://localhost:8080/"
        },
        "outputId": "dde0054a-79ca-4c80-ed49-22ca9c82de1f"
      },
      "source": [
        "!ghc -e $'let removeNonUppercase st = [ c | c <- st, elem c [\\'A\\'..\\'Z\\']] in putStrLn(\"IdontLIKEFROGS\")'"
      ],
      "execution_count": null,
      "outputs": [
        {
          "output_type": "stream",
          "text": [
            "IdontLIKEFROGS\n"
          ],
          "name": "stdout"
        }
      ]
    },
    {
      "cell_type": "code",
      "metadata": {
        "colab": {
          "base_uri": "https://localhost:8080/"
        },
        "id": "g8VJyPP8QfH1",
        "outputId": "26433927-b3ea-4591-fed9-4846f0dc6042"
      },
      "source": [
        "!ghc -e $'let removeNonUppercase st = [ c | c <- st, elem c [\\'A\\'..\\'Z\\']] in putStrLn(removeNonUppercase \"IdontLIKEFROGS\")'"
      ],
      "execution_count": null,
      "outputs": [
        {
          "output_type": "stream",
          "text": [
            "ILIKEFROGS\n"
          ],
          "name": "stdout"
        }
      ]
    },
    {
      "cell_type": "code",
      "metadata": {
        "id": "AExiKVBmTmXz",
        "colab": {
          "base_uri": "https://localhost:8080/"
        },
        "outputId": "e1f9df44-5859-47b2-db18-8fdcd6cff251"
      },
      "source": [
        "%%writefile withoutflatten.hs\n",
        "main = do\n",
        "  let xxs = [[1,3,5,2,3,1,2,4,5],[1,2,3,4,5,6,7,8,9],[1,2,4,2,1,6,3,1,3,2,3,6]] \n",
        "      newlist =  [ [ x | x <- xs, even x ] | xs <- xxs] \n",
        "      in print newlist"
      ],
      "execution_count": null,
      "outputs": [
        {
          "output_type": "stream",
          "text": [
            "Overwriting withoutflatten.hs\n"
          ],
          "name": "stdout"
        }
      ]
    },
    {
      "cell_type": "code",
      "metadata": {
        "id": "RrP9uTJNTqaa",
        "colab": {
          "base_uri": "https://localhost:8080/"
        },
        "outputId": "57354aae-f18c-4b96-966b-8ad0b78f6e64"
      },
      "source": [
        "!runghc withoutflatten.hs"
      ],
      "execution_count": null,
      "outputs": [
        {
          "output_type": "stream",
          "text": [
            "[[2,2,4],[2,4,6,8],[2,4,2,6,2,6]]\n"
          ],
          "name": "stdout"
        }
      ]
    },
    {
      "cell_type": "code",
      "metadata": {
        "id": "qT0BZBxyqFaN",
        "colab": {
          "base_uri": "https://localhost:8080/"
        },
        "outputId": "75022cd0-2840-47bb-ba3b-586b61d6545d"
      },
      "source": [
        "!ghc -e 'let xxs = [[1,3,5,2,3,1,2,4,5],[1,2,3,4,5,6,7,8,9],[1,2,4,2,1,6,3,1,3,2,3,6]] in  [ [ x | x <- xs, even x ] | xs <- xxs]'\n"
      ],
      "execution_count": null,
      "outputs": [
        {
          "output_type": "stream",
          "text": [
            "[[2,2,4],[2,4,6,8],[2,4,2,6,2,6]]\n"
          ],
          "name": "stdout"
        }
      ]
    },
    {
      "cell_type": "code",
      "metadata": {
        "colab": {
          "base_uri": "https://localhost:8080/"
        },
        "id": "EBDXuuziQ_Ls",
        "outputId": "8c8f9511-2281-46d2-ffca-e6e2bb1721a7"
      },
      "source": [
        "# bash は \\ を入れることで長いコマンドに改行を入れることができる\n",
        "!ghc -e '\\\n",
        "    let xxs = [[1,3,5,2,3,1,2,4,5],[1,2,3,4,5,6,7,8,9],[1,2,4,2,1,6,3,1,3,2,3,6]] \\\n",
        "        in  [ [ x | x <- xs, even x ] | xs <- xxs]'"
      ],
      "execution_count": null,
      "outputs": [
        {
          "output_type": "stream",
          "text": [
            "[[2,2,4],[2,4,6,8],[2,4,2,6,2,6]]\n"
          ],
          "name": "stdout"
        }
      ]
    },
    {
      "cell_type": "markdown",
      "metadata": {
        "id": "zNCsRM7sqTPS"
      },
      "source": [
        "# タプル tuple"
      ]
    },
    {
      "cell_type": "code",
      "metadata": {
        "id": "YmtFps_Gp2ED",
        "colab": {
          "base_uri": "https://localhost:8080/"
        },
        "outputId": "8d10b870-ac83-4f80-a8a8-15f58efe5dde"
      },
      "source": [
        "# zip でタプルを作る\n",
        "# 長さが合わない時 => 残りは捨てられる\n",
        "!ghc -e 'zip [5,3,2,6,2,7,2,5,4,6,6] [\"im\",\"a\",\"turtle\"]'"
      ],
      "execution_count": null,
      "outputs": [
        {
          "output_type": "stream",
          "text": [
            "[(5,\"im\"),(3,\"a\"),(2,\"turtle\")]\n"
          ],
          "name": "stdout"
        }
      ]
    },
    {
      "cell_type": "code",
      "metadata": {
        "id": "oZibfkpLqvnI",
        "colab": {
          "base_uri": "https://localhost:8080/"
        },
        "outputId": "28e75dfc-5569-495e-d392-e50b2dbe5778"
      },
      "source": [
        "# これと遅延評価を利用すると、長いリストを扱える\n",
        "!ghc -e '[ (a,b,c) | c <- [1..10], b <- [1..c], a <- [1..b], a^2 + b^2 == c^2, a+b+c == 24]'\n"
      ],
      "execution_count": null,
      "outputs": [
        {
          "output_type": "stream",
          "text": [
            "[(6,8,10)]\n"
          ],
          "name": "stdout"
        }
      ]
    },
    {
      "cell_type": "code",
      "metadata": {
        "colab": {
          "base_uri": "https://localhost:8080/"
        },
        "id": "MW4PBj0KSTca",
        "outputId": "3d3eb5c2-bc66-4dac-86a5-46344008be91"
      },
      "source": [
        "!ghc -e 'take 10 [ (a,b,c) | c <- [1..10], b <- [1..c], a <- [1..b]]'"
      ],
      "execution_count": null,
      "outputs": [
        {
          "output_type": "stream",
          "text": [
            "[(1,1,1),(1,1,2),(1,2,2),(2,2,2),(1,1,3),(1,2,3),(2,2,3),(1,3,3),(2,3,3),(3,3,3)]\n"
          ],
          "name": "stdout"
        }
      ]
    },
    {
      "cell_type": "markdown",
      "metadata": {
        "id": "MykKGye5w1HI"
      },
      "source": [
        "# 型 type と 型クラス type class"
      ]
    },
    {
      "cell_type": "code",
      "metadata": {
        "id": "MAE7s1W9wn2b",
        "colab": {
          "base_uri": "https://localhost:8080/"
        },
        "outputId": "d4df2bd1-fd03-445d-bfb4-362be41325fe"
      },
      "source": [
        "!ghc -e $':t \\'a\\''\n",
        "!ghc -e $':t True'\n",
        "!ghc -e $':t \"HELLO!\"'\n",
        "!ghc -e $':t (True, \\'a\\')'\n",
        "!ghc -e $':t 4 == 5'"
      ],
      "execution_count": null,
      "outputs": [
        {
          "output_type": "stream",
          "text": [
            "'a' :: Char\n",
            "True :: Bool\n",
            "\"HELLO!\" :: [Char]\n",
            "(True, 'a') :: (Bool, Char)\n",
            "4 == 5 :: Bool\n"
          ],
          "name": "stdout"
        }
      ]
    },
    {
      "cell_type": "markdown",
      "metadata": {
        "id": "QNN-nWJBW7Gp"
      },
      "source": [
        ":: は (の)型(は) (has type of) と読む。\n"
      ]
    },
    {
      "cell_type": "code",
      "metadata": {
        "id": "-MlynYqMYOJk",
        "colab": {
          "base_uri": "https://localhost:8080/"
        },
        "outputId": "6c0c8b66-a856-4520-f4f3-bbe0e3ec5477"
      },
      "source": [
        "!ghc -e $':t (\\'a\\',\\'b\\',\\'c\\')'\n",
        "!ghc -e $':t [\\'a\\',\\'b\\',\\'c\\']'"
      ],
      "execution_count": null,
      "outputs": [
        {
          "output_type": "stream",
          "text": [
            "('a','b','c') :: (Char, Char, Char)\n",
            "['a','b','c'] :: [Char]\n"
          ],
          "name": "stdout"
        }
      ]
    },
    {
      "cell_type": "markdown",
      "metadata": {
        "id": "aynmNzHYYjfR"
      },
      "source": [
        "上のセルの一行目はタプルで、二行目がリスト。"
      ]
    },
    {
      "cell_type": "markdown",
      "metadata": {
        "id": "4ukpwwdpRz4P"
      },
      "source": [
        "# 関数の型について"
      ]
    },
    {
      "cell_type": "markdown",
      "metadata": {
        "id": "hBioXNVtLz_Z"
      },
      "source": [
        "関数の型は次のように書く。\r\n",
        "\r\n",
        "removeNonUppercase :: [Char] -> [Char]\r\n",
        "\r\n",
        "removeNonUppercase st = [ c | c <- st, c `elem` ['A'..'Z']]\r\n",
        "\r\n",
        "ここで、[Char] -> [Char] というのは string を受けて、 string を返す、という意味。\r\n",
        "\r\n",
        "引数が 3個とかだと次のようになる。\r\n",
        "\r\n",
        "addThree :: Int -> Int -> Int -> Int\r\n",
        "\r\n",
        "addThree x y z = x + y + z\r\n",
        "\r\n",
        "最後の  -> Int が返り値で、その前の 3個が引数。\r\n",
        "\r\n",
        "\r\n",
        "\r\n",
        "\r\n"
      ]
    },
    {
      "cell_type": "code",
      "metadata": {
        "id": "H6EC7u_3T5SF",
        "colab": {
          "base_uri": "https://localhost:8080/"
        },
        "outputId": "b4d9cf5f-b14a-43c4-ea2b-093139fbc29d"
      },
      "source": [
        "!ghc -e 'let factorial n = product [1..n] in factorial 50'"
      ],
      "execution_count": null,
      "outputs": [
        {
          "output_type": "stream",
          "text": [
            "30414093201713378043612608166064768844377641568960512000000000000\n"
          ],
          "name": "stdout"
        }
      ]
    },
    {
      "cell_type": "markdown",
      "metadata": {
        "id": "p6UOG8fJZu20"
      },
      "source": [
        "上記の factorial のタイプは\r\n",
        "\r\n",
        "Integer -> Integer\r\n",
        "\r\n",
        "で Int でないのは、Integerの方が大きな数を扱えるから。\r\n",
        "\r\n",
        "効率は Int の方がよい。\r\n",
        "\r\n"
      ]
    },
    {
      "cell_type": "code",
      "metadata": {
        "id": "fkaU3elEAG9U",
        "colab": {
          "base_uri": "https://localhost:8080/"
        },
        "outputId": "aea283b8-1c86-4bc9-d679-e5a9e2a5a781"
      },
      "source": [
        "# 実験\n",
        "!ghc -e 'let {circumference :: Float -> Float;circumference r = 2 * pi * r} in circumference 4.0'\n",
        "!ghc -e 'let {circumference :: Double -> Double; circumference r = 2 * pi * r} in circumference 4.0'\n",
        "# 次のは pi が Int でないのでエラーになる\n",
        "!ghc -e 'let {circumference :: Int -> Int; circumference r = 2 * pi * r} in circumference 4'"
      ],
      "execution_count": null,
      "outputs": [
        {
          "output_type": "stream",
          "text": [
            "25.132742\n",
            "25.132741228718345\n",
            "\n",
            "<interactive>:0:57: error:\n",
            "    • No instance for (Floating Int) arising from a use of ‘pi’\n",
            "    • In the second argument of ‘(*)’, namely ‘pi’\n",
            "      In the first argument of ‘(*)’, namely ‘2 * pi’\n",
            "      In the expression: 2 * pi * r\n"
          ],
          "name": "stdout"
        }
      ]
    },
    {
      "cell_type": "code",
      "metadata": {
        "colab": {
          "base_uri": "https://localhost:8080/"
        },
        "id": "Ts4sqEknaQK9",
        "outputId": "19980816-7023-4cd3-e7d0-d9e2ac5281f1"
      },
      "source": [
        "# 実験 \n",
        "!ghc -e 'pi'\n",
        "!ghc -e 'exp 1'\n",
        "!ghc -e ':t pi'\n",
        "!ghc -e ':t exp'\n",
        "!ghc -e ':t exp 1'"
      ],
      "execution_count": null,
      "outputs": [
        {
          "output_type": "stream",
          "text": [
            "3.141592653589793\n",
            "2.718281828459045\n",
            "pi :: Floating a => a\n",
            "exp :: Floating a => a -> a\n",
            "exp 1 :: Floating a => a\n"
          ],
          "name": "stdout"
        }
      ]
    },
    {
      "cell_type": "code",
      "metadata": {
        "colab": {
          "base_uri": "https://localhost:8080/"
        },
        "id": "ZeyNRMCfjPe6",
        "outputId": "01cfb8b2-d2cb-462c-ce0b-91179d5c2891"
      },
      "source": [
        "!ghc -e ':t exp'"
      ],
      "execution_count": null,
      "outputs": [
        {
          "output_type": "stream",
          "text": [
            "exp :: Floating a => a -> a\n"
          ],
          "name": "stdout"
        }
      ]
    },
    {
      "cell_type": "code",
      "metadata": {
        "colab": {
          "base_uri": "https://localhost:8080/"
        },
        "id": "YaepHxwnjoH7",
        "outputId": "dace070e-bc47-4e41-b9cf-71f78793e6ae"
      },
      "source": [
        "!ghc -e ':t (==)'"
      ],
      "execution_count": null,
      "outputs": [
        {
          "output_type": "stream",
          "text": [
            "(==) :: Eq a => a -> a -> Bool\n"
          ],
          "name": "stdout"
        }
      ]
    },
    {
      "cell_type": "markdown",
      "metadata": {
        "id": "5LiFuyVIgD9T"
      },
      "source": [
        "# `=>` 記号\n",
        "型制約、型クラス制約 class constraint\n",
        "\n",
        "例えば、(==) について言えば\n",
        "\n",
        "(==) :: Eq a => a -> a -> Bool\n",
        "\n",
        "(==) 関数は、2つの値 (a -> a) を引数としてとり、真偽値 Bool を返り値として返すが、この 2つの値は、Eq 型クラスに属していなければならない。\n",
        "\n",
        "というように読む。\n",
        "\n"
      ]
    },
    {
      "cell_type": "code",
      "metadata": {
        "id": "T1QRimtx6vO9",
        "colab": {
          "base_uri": "https://localhost:8080/"
        },
        "outputId": "f9da4031-c99f-48f5-8a58-2855e753ab86"
      },
      "source": [
        "!ghc -e ':t head'"
      ],
      "execution_count": null,
      "outputs": [
        {
          "output_type": "stream",
          "text": [
            "head :: [a] -> a\n"
          ],
          "name": "stdout"
        }
      ]
    },
    {
      "cell_type": "markdown",
      "metadata": {
        "id": "be8RDfXX7kiU"
      },
      "source": [
        "上記の結果\n",
        "\n",
        "head :: [a] -> a\n",
        "\n",
        "の a は、型変数と呼ばれ、これの場合は、型クラス制約がなければなんでもいい、という意味。\n",
        "\n",
        "型変数がある関数は 多形性 polymorphic 関数を呼ばれる。\n",
        "\n"
      ]
    },
    {
      "cell_type": "code",
      "metadata": {
        "id": "h2ZekLvB8e52",
        "colab": {
          "base_uri": "https://localhost:8080/"
        },
        "outputId": "81b96db2-beec-4609-d63c-9b7c18074d71"
      },
      "source": [
        "!ghc -e ':t fst'"
      ],
      "execution_count": null,
      "outputs": [
        {
          "output_type": "stream",
          "text": [
            "fst :: (a, b) -> a\n"
          ],
          "name": "stdout"
        }
      ]
    },
    {
      "cell_type": "markdown",
      "metadata": {
        "id": "u4f61nDwXFQv"
      },
      "source": [
        "上記の結果\n",
        "\n",
        "fst :: (a, b) -> a\n",
        "\n",
        "は 2つの要素からなるタプルを引数として、そのタプルの中の最初の要素を返す、という意味。"
      ]
    },
    {
      "cell_type": "code",
      "metadata": {
        "id": "DPvmdZwelWCQ",
        "colab": {
          "base_uri": "https://localhost:8080/"
        },
        "outputId": "cc604cd1-f90b-4d14-fa96-0055e7b80043"
      },
      "source": [
        "!ghc -e ':t elem'"
      ],
      "execution_count": null,
      "outputs": [
        {
          "output_type": "stream",
          "text": [
            "elem :: (Eq a, Foldable t) => a -> t a -> Bool\n"
          ],
          "name": "stdout"
        }
      ]
    },
    {
      "cell_type": "code",
      "metadata": {
        "id": "HeUocyAAlw4G",
        "colab": {
          "base_uri": "https://localhost:8080/"
        },
        "outputId": "f7ba26d1-374b-4a9d-e775-4b133158abf2"
      },
      "source": [
        "!ghc -e ':t (>)'"
      ],
      "execution_count": null,
      "outputs": [
        {
          "output_type": "stream",
          "text": [
            "(>) :: Ord a => a -> a -> Bool\n"
          ],
          "name": "stdout"
        }
      ]
    },
    {
      "cell_type": "code",
      "metadata": {
        "id": "TmtVbaYmmCBw",
        "colab": {
          "base_uri": "https://localhost:8080/"
        },
        "outputId": "fb9befe1-02b2-453a-a42e-43823a621a8d"
      },
      "source": [
        "!ghc -e ':t compare'\r\n",
        "!ghc -e 'compare \"Abrakadabra\" \"Zebra\"'"
      ],
      "execution_count": null,
      "outputs": [
        {
          "output_type": "stream",
          "text": [
            "compare :: Ord a => a -> a -> Ordering\n",
            "LT\n"
          ],
          "name": "stdout"
        }
      ]
    },
    {
      "cell_type": "code",
      "metadata": {
        "id": "yp8bwfCfmNAe",
        "colab": {
          "base_uri": "https://localhost:8080/"
        },
        "outputId": "c83b58a8-b893-454f-b615-49a69b8b8604"
      },
      "source": [
        "!ghc -e ':t show'"
      ],
      "execution_count": null,
      "outputs": [
        {
          "output_type": "stream",
          "text": [
            "show :: Show a => a -> String\n"
          ],
          "name": "stdout"
        }
      ]
    },
    {
      "cell_type": "code",
      "metadata": {
        "id": "vkLNASfPmtTD",
        "colab": {
          "base_uri": "https://localhost:8080/"
        },
        "outputId": "eb2ff400-6d27-45c1-cfd6-7addfca421cc"
      },
      "source": [
        "!ghc -e 'show 3'\n",
        "!ghc -e 'show 5.334'\n",
        "!ghc -e 'show True'"
      ],
      "execution_count": null,
      "outputs": [
        {
          "output_type": "stream",
          "text": [
            "\"3\"\n",
            "\"5.334\"\n",
            "\"True\"\n"
          ],
          "name": "stdout"
        }
      ]
    },
    {
      "cell_type": "markdown",
      "metadata": {
        "id": "OvlvXtZKoHib"
      },
      "source": [
        "Read 型クラスは Show 型クラスの反対で、read 関数は string を Read 型クラスへ変換する。"
      ]
    },
    {
      "cell_type": "code",
      "metadata": {
        "id": "ask7eBwBoTMs",
        "colab": {
          "base_uri": "https://localhost:8080/"
        },
        "outputId": "551ccf77-823c-4810-c89c-daffca68ac1c"
      },
      "source": [
        "!ghc -e ':t read'"
      ],
      "execution_count": null,
      "outputs": [
        {
          "output_type": "stream",
          "text": [
            "read :: Read a => String -> a\n"
          ],
          "name": "stdout"
        }
      ]
    },
    {
      "cell_type": "code",
      "metadata": {
        "id": "1Y0Slc2xmvZg",
        "colab": {
          "base_uri": "https://localhost:8080/"
        },
        "outputId": "ef3a99e3-696e-46a0-b78b-4cdf29c7795b"
      },
      "source": [
        "!ghc -e 'read \"True\" || False'\n",
        "!ghc -e 'read \"8.2\" + 3.8'\n",
        "!ghc -e 'read \"5\" - 2'\n",
        "!ghc -e 'read \"[1,2,3,4]\" ++ [3]'\n"
      ],
      "execution_count": null,
      "outputs": [
        {
          "output_type": "stream",
          "text": [
            "True\n",
            "12.0\n",
            "3\n",
            "[1,2,3,4,3]\n"
          ],
          "name": "stdout"
        }
      ]
    },
    {
      "cell_type": "code",
      "metadata": {
        "id": "UyaT16a_phvc",
        "colab": {
          "base_uri": "https://localhost:8080/"
        },
        "outputId": "bd303c2e-636e-468b-93d6-e06b9c422004"
      },
      "source": [
        "# 実験 なにに変換していいかわからないとエラーになる\n",
        "!ghc -e 'read \"4\"'"
      ],
      "execution_count": null,
      "outputs": [
        {
          "output_type": "stream",
          "text": [
            "<interactive>: Prelude.read: no parse\n"
          ],
          "name": "stdout"
        }
      ]
    },
    {
      "cell_type": "code",
      "metadata": {
        "colab": {
          "base_uri": "https://localhost:8080/"
        },
        "id": "4yKNA9s2Vgku",
        "outputId": "5612ba98-562f-4490-ba80-24e6adc8c53d"
      },
      "source": [
        "!ghc -e 'read \"4\"::Int'\n",
        "!ghc -e '(read::String -> Int) \"4\"'"
      ],
      "execution_count": null,
      "outputs": [
        {
          "output_type": "stream",
          "text": [
            "4\n",
            "4\n"
          ],
          "name": "stdout"
        }
      ]
    },
    {
      "cell_type": "code",
      "metadata": {
        "id": "mcMTlNxfmyNH",
        "colab": {
          "base_uri": "https://localhost:8080/"
        },
        "outputId": "1b353b07-b75c-48f8-c2eb-3b7bd2ceed43"
      },
      "source": [
        "!ghc -e 'read \"5\"::Int'\n",
        "!ghc -e 'read \"5\"::Float'\n",
        "!ghc -e '(read \"5\"::Float) * 4'\n",
        "!ghc -e 'read \"[1,2,3,4]\"::[Int]'\n",
        "!ghc -e $'read \"(3, \\'a\\')\"::(Int, Char)'\n",
        "!ghc -e '(read \"[1,2,3,4]\"::[Int]) ++ [80]'\n",
        "# 次のはエラーになる\n",
        "!ghc -e $'read \"(120, \\'a\\')\"::(Char, Char)'"
      ],
      "execution_count": null,
      "outputs": [
        {
          "output_type": "stream",
          "text": [
            "5\n",
            "5.0\n",
            "20.0\n",
            "[1,2,3,4]\n",
            "(3,'a')\n",
            "[1,2,3,4,80]\n",
            "<interactive>: Prelude.read: no parse\n"
          ],
          "name": "stdout"
        }
      ]
    },
    {
      "cell_type": "code",
      "metadata": {
        "id": "3i52Ibk2rpeG"
      },
      "source": [
        "# Enum は型クラス。型クラスの情報は :k か :i で知る\r\n",
        "!ghc -e ':t Enum'\r\n",
        "!ghc -e ':k Enum'\r\n",
        "!ghc -e ':i Enum'"
      ],
      "execution_count": null,
      "outputs": []
    },
    {
      "cell_type": "code",
      "metadata": {
        "id": "5P0qAgaim0Kv",
        "colab": {
          "base_uri": "https://localhost:8080/"
        },
        "outputId": "8bb958f0-7276-42ab-d704-9a240ad7dec7"
      },
      "source": [
        "!ghc -e $'[\\'a\\'..\\'e\\']'\n",
        "!ghc -e '[LT ..GT]'\n",
        "!ghc -e '[3 ..5]'\n",
        "!ghc -e $'succ \\'B\\''\n",
        "!echo\n",
        "!ghc -e 'succ LT'\n",
        "!ghc -e 'succ GT'"
      ],
      "execution_count": null,
      "outputs": [
        {
          "output_type": "stream",
          "text": [
            "\"abcde\"\n",
            "[LT,EQ,GT]\n",
            "[3,4,5]\n",
            "'C'\n",
            "\n",
            "EQ\n",
            "<interactive>: Prelude.Enum.Ordering.succ: bad argument\n"
          ],
          "name": "stdout"
        }
      ]
    },
    {
      "cell_type": "code",
      "metadata": {
        "id": "RyYpFX2Vm1Bo",
        "colab": {
          "base_uri": "https://localhost:8080/"
        },
        "outputId": "91f1b135-1451-4366-d5b0-cf9719b54bca"
      },
      "source": [
        "!ghc -e 'minBound :: Int'\n",
        "!ghc -e 'maxBound :: Char'\n",
        "!ghc -e 'maxBound :: Bool'\n",
        "!ghc -e 'minBound :: Bool'\n",
        "!echo\n",
        "!ghc -e ':t minBound'\n"
      ],
      "execution_count": null,
      "outputs": [
        {
          "output_type": "stream",
          "text": [
            "-9223372036854775808\n",
            "'\\1114111'\n",
            "True\n",
            "False\n",
            "\n",
            "minBound :: Bounded a => a\n"
          ],
          "name": "stdout"
        }
      ]
    },
    {
      "cell_type": "code",
      "metadata": {
        "id": "fE9RVhdpm2uf",
        "colab": {
          "base_uri": "https://localhost:8080/"
        },
        "outputId": "2e3e8800-3b09-49d5-ff51-6870e101a441"
      },
      "source": [
        "# tupleのmaxBound\n",
        "!ghc -e 'maxBound :: (Bool, Int, Char)'"
      ],
      "execution_count": null,
      "outputs": [
        {
          "output_type": "stream",
          "text": [
            "(True,9223372036854775807,'\\1114111')\n"
          ],
          "name": "stdout"
        }
      ]
    },
    {
      "cell_type": "code",
      "metadata": {
        "id": "9GSp8EE0m2Af",
        "colab": {
          "base_uri": "https://localhost:8080/"
        },
        "outputId": "1ec70ace-e0b1-4352-ab8e-2bdc98692183"
      },
      "source": [
        "# Numも型クラス\n",
        "!ghc -e ':t 20'\n",
        "!ghc -e '20 :: Int'\n",
        "!ghc -e '20 :: Integer'\n",
        "!ghc -e '20 :: Float'\n",
        "!ghc -e '20 :: Double'\n",
        "!echo\n",
        "!ghc -e ':t (*)'"
      ],
      "execution_count": null,
      "outputs": [
        {
          "output_type": "stream",
          "text": [
            "20 :: Num t => t\n",
            "20\n",
            "20\n",
            "20.0\n",
            "20.0\n",
            "\n",
            "(*) :: Num a => a -> a -> a\n"
          ],
          "name": "stdout"
        }
      ]
    },
    {
      "cell_type": "code",
      "metadata": {
        "id": "ptSQsi3q-Cjz",
        "colab": {
          "base_uri": "https://localhost:8080/"
        },
        "outputId": "7329147b-6538-4ceb-afa0-aec622097b08"
      },
      "source": [
        "# 次のはエラーになる\r\n",
        "!ghc -e ':t (5::Int)*(3::Integer)'"
      ],
      "execution_count": null,
      "outputs": [
        {
          "output_type": "stream",
          "text": [
            "\n",
            "<interactive>:1:11: error:\n",
            "    • Couldn't match expected type ‘Int’ with actual type ‘Integer’\n",
            "    • In the second argument of ‘(*)’, namely ‘(3 :: Integer)’\n",
            "      In the expression: (5 :: Int) * (3 :: Integer)\n"
          ],
          "name": "stdout"
        }
      ]
    },
    {
      "cell_type": "code",
      "metadata": {
        "id": "4sCgGgi2-mkn",
        "colab": {
          "base_uri": "https://localhost:8080/"
        },
        "outputId": "900efab9-e24a-48cf-da0d-a8251539b12e"
      },
      "source": [
        "!ghci -e ':t fromIntegral'\r\n",
        "!ghci -e '(length [1,2,3,4] + 3.2)' # エラー\r\n",
        "!ghci -e 'fromIntegral (length [1,2,3,4]) + 3.2' #=> 7.2"
      ],
      "execution_count": null,
      "outputs": [
        {
          "output_type": "stream",
          "text": [
            "fromIntegral :: (Num b, Integral a) => a -> b\n",
            "\n",
            "<interactive>:0:21: error:\n",
            "    • No instance for (Fractional Int) arising from the literal ‘3.2’\n",
            "    • In the second argument of ‘(+)’, namely ‘3.2’\n",
            "      In the expression: (length [1, 2, 3, 4] + 3.2)\n",
            "      In an equation for ‘it’: it = (length [1, 2, 3, ....] + 3.2)\n",
            "7.2\n"
          ],
          "name": "stdout"
        }
      ]
    },
    {
      "cell_type": "markdown",
      "metadata": {
        "id": "kNbngAGP_ydG"
      },
      "source": [
        "# 関数の文法 Syntax in Functions"
      ]
    },
    {
      "cell_type": "markdown",
      "metadata": {
        "id": "IAeMIiBbTos9"
      },
      "source": [
        "# パターンマッチング\r\n",
        "ここからパターンマッチングになるが、コマンドラインワンライナーでパターンマッチングできるか。"
      ]
    },
    {
      "cell_type": "code",
      "metadata": {
        "id": "9VXtkRvSTeih",
        "colab": {
          "base_uri": "https://localhost:8080/"
        },
        "outputId": "5f0a919f-2332-4459-8a2a-625c5914791d"
      },
      "source": [
        "%%writefile lucky7.hs\r\n",
        "lucky:: (Integral a) => a -> String\r\n",
        "lucky 7 = \"LUCKY NUMBER SEVEN!!!!\"\r\n",
        "lucky x = \"Sorry, you're out of luck, pal!!!!\" \r\n",
        "\r\n",
        "main = print $ lucky 7"
      ],
      "execution_count": null,
      "outputs": [
        {
          "output_type": "stream",
          "text": [
            "Overwriting lucky7.hs\n"
          ],
          "name": "stdout"
        }
      ]
    },
    {
      "cell_type": "code",
      "metadata": {
        "id": "OpZwdNPlVJIE",
        "colab": {
          "base_uri": "https://localhost:8080/"
        },
        "outputId": "26bfed15-68e9-46bd-b5fc-ed7954f81736"
      },
      "source": [
        "!runghc lucky7.hs\r\n"
      ],
      "execution_count": null,
      "outputs": [
        {
          "output_type": "stream",
          "text": [
            "\"LUCKY NUMBER SEVEN!!!!\"\n"
          ],
          "name": "stdout"
        }
      ]
    },
    {
      "cell_type": "code",
      "metadata": {
        "id": "s5mZpt0ZVaVw",
        "colab": {
          "base_uri": "https://localhost:8080/"
        },
        "outputId": "b8f2a712-6b96-472c-b021-b1ab53cb0d6d"
      },
      "source": [
        "!ghc -e $'let {lucky 7 = \"LUCKY NUMBER SEVEN!!!!\"; lucky x = \"Sorry, you\\'re out of luck, pal!!!!\" } in print $ lucky 6'"
      ],
      "execution_count": null,
      "outputs": [
        {
          "output_type": "stream",
          "text": [
            "\"Sorry, you're out of luck, pal!!!!\"\n"
          ],
          "name": "stdout"
        }
      ]
    },
    {
      "cell_type": "markdown",
      "metadata": {
        "id": "G8BClBONSkp2"
      },
      "source": [
        "# いまここ"
      ]
    },
    {
      "cell_type": "code",
      "metadata": {
        "id": "nrp2XHZN_7Gn",
        "colab": {
          "base_uri": "https://localhost:8080/"
        },
        "outputId": "5823a6aa-f894-469b-f319-5e198a56ebf1"
      },
      "source": [
        "!ghc -e $'let {sayMe :: (Integral a) => a -> String; sayMe 1 = \"One!\"; sayMe 2 = \"Two!\"; sayMe 3 = \"Three!\"; sayMe 4 = \"Four!\"; sayMe 5 = \"Five!\"; sayMe x = \"Not between 1 and 5\"; } in print $ sayMe 8'\r\n"
      ],
      "execution_count": null,
      "outputs": [
        {
          "output_type": "stream",
          "text": [
            "\"Not between 1 and 5\"\n"
          ],
          "name": "stdout"
        }
      ]
    },
    {
      "cell_type": "code",
      "metadata": {
        "id": "Og34JxEWCBL1",
        "colab": {
          "base_uri": "https://localhost:8080/"
        },
        "outputId": "53919be1-b309-4f15-b502-997fe3fcea80"
      },
      "source": [
        "!ghc -e $'let { factorial :: (Integral a) => a -> a; factorial 0 = 1; factorial n = n * factorial (n - 1); } in print $ factorial 42'\r\n"
      ],
      "execution_count": null,
      "outputs": [
        {
          "output_type": "stream",
          "text": [
            "1405006117752879898543142606244511569936384000000000\n"
          ],
          "name": "stdout"
        }
      ]
    },
    {
      "cell_type": "code",
      "metadata": {
        "id": "fhhacyZMDaRZ",
        "colab": {
          "base_uri": "https://localhost:8080/"
        },
        "outputId": "a940131f-25c7-4e19-919a-bfedcfda0499"
      },
      "source": [
        "!ghc -e $'let {addVectors :: (Num a) => (a, a) -> (a, a) -> (a, a); addVectors a b = (fst a + fst b, snd a + snd b);} in print $ addVectors (1,2) (3, 4)'\r\n"
      ],
      "execution_count": null,
      "outputs": [
        {
          "output_type": "stream",
          "text": [
            "(4,6)\n"
          ],
          "name": "stdout"
        }
      ]
    },
    {
      "cell_type": "code",
      "metadata": {
        "id": "hxV1UAdzERoS",
        "colab": {
          "base_uri": "https://localhost:8080/"
        },
        "outputId": "ca2b271b-35e8-49f8-f04d-a9736dece0e3"
      },
      "source": [
        "!ghc -e $'let { addVectors :: (Num a) => (a, a) -> (a, a) -> (a, a); addVectors (x1, y1) (x2, y2) = (x1 + x2, y1 + y2);} in addVectors (1, 2) (3, 4)'\r\n"
      ],
      "execution_count": null,
      "outputs": [
        {
          "output_type": "stream",
          "text": [
            "(4,6)\n"
          ],
          "name": "stdout"
        }
      ]
    },
    {
      "cell_type": "code",
      "metadata": {
        "id": "s16B5TzHw4S6",
        "colab": {
          "base_uri": "https://localhost:8080/"
        },
        "outputId": "f5cf95c0-7eb0-4b4c-8127-34118f34fabe"
      },
      "source": [
        "!ghc -e $'let { first :: (a, b, c) -> a; first (x, _, _) = x; } in print $ first (1,2,3)'\r\n",
        "!ghc -e $'let { second :: (a, b, c) -> b ; second (_, y, _) = y; } in print $ second (1,2,3)'\r\n",
        "!ghc -e $'let { third :: (a, b, c) -> c; third (_, _, z) = z; } in print $ third (1,2,3)'"
      ],
      "execution_count": null,
      "outputs": [
        {
          "output_type": "stream",
          "text": [
            "1\n",
            "2\n",
            "3\n"
          ],
          "name": "stdout"
        }
      ]
    },
    {
      "cell_type": "code",
      "metadata": {
        "id": "-MFUrFWkx3uC",
        "colab": {
          "base_uri": "https://localhost:8080/"
        },
        "outputId": "4dc03701-b73e-4f54-9c53-3c73c34cf1d8"
      },
      "source": [
        "!ghc -e $'let xs = [(1,3), (4,3), (2,4), (5,3), (5,6), (3,1)] in [a+b | (a,b) <- xs]'\r\n",
        "!ghc -e $'let xs = [(1,3), (4,3), (2,4), (5,3), (5,6), (3,1)] in print  [a+b | (a,b) <- xs]'\r\n"
      ],
      "execution_count": null,
      "outputs": [
        {
          "output_type": "stream",
          "text": [
            "[4,7,6,8,11,4]\n",
            "[4,7,6,8,11,4]\n"
          ],
          "name": "stdout"
        }
      ]
    },
    {
      "cell_type": "markdown",
      "metadata": {
        "id": "jQqSUGdlKIJ5"
      },
      "source": [
        "# flatten\r\n",
        "concat もしくは map concat で flatten できる。"
      ]
    },
    {
      "cell_type": "code",
      "metadata": {
        "id": "xiUZZY3pyVz0",
        "colab": {
          "base_uri": "https://localhost:8080/"
        },
        "outputId": "d324469a-277c-46ba-dfee-8a82450b7625"
      },
      "source": [
        "#!echo $'[(1,3), (4,3), (2,4), (5,3), (5,6), (3,1)]' | ghc -e $'getContents >>= map (\\(a,b) -> a+b)'\r\n",
        "# !echo $'10 20\\n30 40\\n50 60' | ghc -e 'getContents >>= print . map (map (read::String -> Int) . words) . lines'\r\n",
        "# !echo $'[(1,3), (4,3), (2,4), (5,3), (5,6), (3,1)]' | ghc -e 'getContents >>= map (read::String -> ([(Int, Int)]) . lines'\r\n",
        "!echo $'[(1,3), (4,3), (2,4), (5,3), (5,6), (3,1)]' | ghc -e 'getContents >>= print . map (read::String -> [(Int, Int)]) . lines'\r\n",
        "!echo $'[(1,3), (4,3), (2,4), (5,3), (5,6), (3,1)]' | ghc -e 'getContents >>= print. map (\\(a,b) -> a+b) . concat . map (read::String -> [(Int, Int)]) . lines'\r\n"
      ],
      "execution_count": null,
      "outputs": [
        {
          "output_type": "stream",
          "text": [
            "[[(1,3),(4,3),(2,4),(5,3),(5,6),(3,1)]]\n",
            "[4,7,6,8,11,4]\n"
          ],
          "name": "stdout"
        }
      ]
    },
    {
      "cell_type": "markdown",
      "metadata": {
        "id": "EUmqt8osNIVL"
      },
      "source": [
        "# リスト list を x:xs で取り出す"
      ]
    },
    {
      "cell_type": "code",
      "metadata": {
        "id": "wZ2WrU8nNh-e",
        "colab": {
          "base_uri": "https://localhost:8080/"
        },
        "outputId": "7eac9f0c-0f23-425f-ad2c-ee01c2f728ab"
      },
      "source": [
        "# head を実装する\r\n",
        "# !echo $'[4,5,6]' | ghc -e $'getLine >>= let {head01::[a]->a;head01[]=error \"Can\\'t\"; head01 (x:_)=x;} in (read::String->[a])'\r\n",
        "# getLine の結果は IO のままなので getContents のときと同様一旦 lines で処理する必要がある\r\n",
        "# map の結果は print を使わないと返り値だけではエラーになる\r\n",
        "!echo $'[4,5,6]' | ghc -e $'getContents >>= print.map (read::String-> [Int]).lines'\r\n",
        "!echo $'[4,5,6]' | ghc -e $'getContents >>= print.concat.map (read::String-> [Int]).lines'\r\n",
        "!echo $'[4,5,6]' | ghc -e $'getContents >>= let {head01::[a]->a;head01[]=error \"Can\\'t\"; head01 (x:_)=x;} in print.head01.concat.map(read::String->[Int]).lines'\r\n"
      ],
      "execution_count": null,
      "outputs": [
        {
          "output_type": "stream",
          "text": [
            "[[4,5,6]]\n",
            "[4,5,6]\n",
            "4\n"
          ],
          "name": "stdout"
        }
      ]
    },
    {
      "cell_type": "code",
      "metadata": {
        "colab": {
          "base_uri": "https://localhost:8080/"
        },
        "id": "ou9nWM4L1TJR",
        "outputId": "915c8731-368b-439c-dfc9-dcce192b6015"
      },
      "source": [
        "!echo $'\"Hello\"' | ghc -e $'getContents >>= let {head01::[a]->a;head01[]=error \"Can\\'t\"; head01 (x:_)=x;} in print.head01.concat.map(read::String->String).lines'\r\n",
        "!echo $'\"Hello\"' | ghc -e $'getContents >>= let {head01::[a]->a;head01[]=error \"Can\\'t\"; head01 (x:_)=x;} in print.head01.concat.map(read::[Char]->[Char]).lines'\r\n"
      ],
      "execution_count": null,
      "outputs": [
        {
          "output_type": "stream",
          "text": [
            "'H'\n",
            "'H'\n"
          ],
          "name": "stdout"
        }
      ]
    },
    {
      "cell_type": "code",
      "metadata": {
        "colab": {
          "base_uri": "https://localhost:8080/"
        },
        "id": "ZdBpJ6K42BDv",
        "outputId": "89c86c3c-0cab-4301-8333-32273db88d3f"
      },
      "source": [
        "!echo $'[]' | ghc -e $'getContents >>= let {head01::[a]->a;head01[]=error \"Can\\'t\"; head01 (x:_)=x;} in print.head01.concat.map(read::String->String).lines'\r\n"
      ],
      "execution_count": null,
      "outputs": [
        {
          "output_type": "stream",
          "text": [
            "<interactive>: Can't\n",
            "CallStack (from HasCallStack):\n",
            "  error, called at <interactive>:0:46 in interactive:Ghci1\n"
          ],
          "name": "stdout"
        }
      ]
    },
    {
      "cell_type": "code",
      "metadata": {
        "colab": {
          "base_uri": "https://localhost:8080/"
        },
        "id": "SLqCErcs2qn5",
        "outputId": "0352559b-fee1-4b5c-bc87-1a2566f8a3b6"
      },
      "source": [
        "# tell :: (Show a) => [a] -> String\r\n",
        "# tell [] = \"The list is empty\"\r\n",
        "# tell (x:[]) = \"The list has one element: \" ++ show x\r\n",
        "# tell (x:y:[]) = \"The list has two elements: \" ++ show x ++ \" and \" ++ show y\r\n",
        "# tell (x:y:_) = \"This list is long. The first two elements are: \" ++ show x ++ \" and \" ++ show y\r\n",
        "!echo $'[]' | ghc -e $'getContents >>= let{ tell :: (Show a) => [a] -> String; tell [] = \"The list is empty\"; tell (x:[]) = \"The list has one element: \" ++ show x; tell (x:y:[]) = \"The list has two elements: \" ++ show x ++ \" and \" ++ show y; tell (x:y:_) = \"This list is long. The first two elements are: \" ++ show x ++ \" and \" ++ show y;} in print.tell.concat.map (read::String->[Char]).lines'\r\n",
        "!echo $'[]' | ghc -e $'getContents >>= let{ tell :: (Show a) => [a] -> String; tell [] = \"The list is empty\"; tell (x:[]) = \"The list has one element: \" ++ show x; tell (x:y:[]) = \"The list has two elements: \" ++ show x ++ \" and \" ++ show y; tell (x:y:_) = \"This list is long. The first two elements are: \" ++ show x ++ \" and \" ++ show y;} in print.tell.concat.map (read::String->String).lines'\r\n",
        "!echo $'\"abcdef\"' | ghc -e $'getContents >>= let{ tell :: (Show a) => [a] -> String; tell [] = \"The list is empty\"; tell (x:[]) = \"The list has one element: \" ++ show x; tell (x:y:[]) = \"The list has two elements: \" ++ show x ++ \" and \" ++ show y; tell (x:y:_) = \"This list is long. The first two elements are: \" ++ show x ++ \" and \" ++ show y;} in print.tell.concat.map (read::String->String).lines'\r\n"
      ],
      "execution_count": null,
      "outputs": [
        {
          "output_type": "stream",
          "text": [
            "\"The list is empty\"\n",
            "\"The list is empty\"\n",
            "\"This list is long. The first two elements are: 'a' and 'b'\"\n"
          ],
          "name": "stdout"
        }
      ]
    },
    {
      "cell_type": "code",
      "metadata": {
        "colab": {
          "base_uri": "https://localhost:8080/"
        },
        "id": "7Aq-Zn5ZOFyN",
        "outputId": "2cb59c61-acc5-4ed9-b3cd-195f5afa030e"
      },
      "source": [
        "# リスト内包表記を使って length を実装する\r\n",
        "!ghc -e 'let length01 xs = sum [1 | _ <- xs] in print (length01 [1,2,3])'\r\n",
        "!echo $'[1,2,3]' | ghc -e 'getContents >>= let {length01 xs = sum [1 | _ <- xs]} in print.length01.concat.map(read::String->[Int]).lines'"
      ],
      "execution_count": null,
      "outputs": [
        {
          "output_type": "stream",
          "text": [
            "3\n",
            "3\n"
          ],
          "name": "stdout"
        }
      ]
    },
    {
      "cell_type": "code",
      "metadata": {
        "id": "bmspZeMeFJ60",
        "colab": {
          "base_uri": "https://localhost:8080/"
        },
        "outputId": "5d4736a5-b8a3-4f52-b10a-051f0945e688"
      },
      "source": [
        "# パターンマッチングを使ってlength を実装する\r\n",
        "#\r\n",
        "# length02 :: (Num b) => [a] -> b\r\n",
        "# length02 [] = 0\r\n",
        "# length02 (_:xs) = 1 + length' xs\r\n",
        "#\r\n",
        "!echo $'[1,2,3]' | ghc -e 'getContents >>= let {length02 :: (Num b) => [a] -> b; length02 [] = 0; length02 (_:xs) = 1 + length02 xs;} in print.length02.concat.map(read::String->[Int]).lines'\r\n"
      ],
      "execution_count": null,
      "outputs": [
        {
          "output_type": "stream",
          "text": [
            "3\n"
          ],
          "name": "stdout"
        }
      ]
    },
    {
      "cell_type": "markdown",
      "metadata": {
        "id": "-MxrtqOSmsYF"
      },
      "source": [
        "# wordwrapper \r\n",
        "英語のテキストを長い文字列の段落を処理しやすいように短い文字列に分割するツール。"
      ]
    },
    {
      "cell_type": "code",
      "metadata": {
        "colab": {
          "base_uri": "https://localhost:8080/"
        },
        "id": "ixKFQX_Km4y-",
        "outputId": "e5cf9b13-9d7e-40a7-c96f-88f3686a5f07"
      },
      "source": [
        "%%writefile wwrap03.hs\r\n",
        "wordwrap maxlen = wrap_ 0 . words\r\n",
        "  where\r\n",
        "    wrap_ _ [] = \"\"\r\n",
        "\r\n",
        "    wrap_ pos (w:ws)\r\n",
        "      -- at line start: put down the word no matter what\r\n",
        "      | pos == 0 = w ++ wrap_ (pos + lw) ws\r\n",
        "      | pos + lw + 1 > maxlen = '\\n' : wrap_ 0 (w : ws)\r\n",
        "      | otherwise = ' ' : w ++ wrap_ (pos + lw + 1) ws\r\n",
        "      where\r\n",
        "        lw = length w\r\n",
        "\r\n",
        "main =  do\r\n",
        "    x <- getContents\r\n",
        "    putStr $ unlines $ map (wordwrap 60) $ lines x\r\n"
      ],
      "execution_count": null,
      "outputs": [
        {
          "output_type": "stream",
          "text": [
            "Writing wwrap03.hs\n"
          ],
          "name": "stdout"
        }
      ]
    },
    {
      "cell_type": "code",
      "metadata": {
        "colab": {
          "base_uri": "https://localhost:8080/"
        },
        "id": "qBAVAAPQnHkW",
        "outputId": "07492994-9a55-41bb-eee0-c3df2bdd2b57"
      },
      "source": [
        "!echo $'This is a pen.  That is an apple. This is a pen.  That is an apple. This is a pen.  That is an apple. This is a pen.  That is an apple. This is a pen.  That is an apple. This is a pen.  That is an apple. This is a pen.  That is an apple. This is a pen.  That is an apple. ;jk lkjl; ljkl;jk \\n\\n lkj;lj this \\nthis is a epnl;kj; lk;j' |runghc wwrap03.hs"
      ],
      "execution_count": null,
      "outputs": [
        {
          "output_type": "stream",
          "text": [
            "This is a pen. That is an apple. This is a pen. That is an\n",
            "apple. This is a pen. That is an apple. This is a pen. That\n",
            "is an apple. This is a pen. That is an apple. This is a pen.\n",
            "That is an apple. This is a pen. That is an apple. This is a\n",
            "pen. That is an apple. ;jk lkjl; ljkl;jk\n",
            "\n",
            "lkj;lj this\n",
            "this is a epnl;kj; lk;j\n"
          ],
          "name": "stdout"
        }
      ]
    },
    {
      "cell_type": "code",
      "metadata": {
        "id": "np8NdWgR21uX",
        "colab": {
          "base_uri": "https://localhost:8080/"
        },
        "outputId": "a6d3d36e-0ac8-47c4-afbf-8e8cc7663237"
      },
      "source": [
        "# パターンマッチングで sum を実装する\r\n",
        "\r\n",
        "%%writefile sum01.hs\r\n",
        "\r\n",
        "sum01 :: (Num a) => [a] -> a  \r\n",
        "sum01 [] = 0  \r\n",
        "sum01 (x:xs) = x + sum01 xs  \r\n",
        "\r\n",
        "main = print $ sum [1,2,3]"
      ],
      "execution_count": null,
      "outputs": [
        {
          "output_type": "stream",
          "text": [
            "Writing sum01.hs\n"
          ],
          "name": "stdout"
        }
      ]
    },
    {
      "cell_type": "code",
      "metadata": {
        "colab": {
          "base_uri": "https://localhost:8080/"
        },
        "id": "bZymYtkUiRaw",
        "outputId": "dc9c12c2-b37a-472b-e0dc-602ae8443dff"
      },
      "source": [
        "!runghc sum01.hs"
      ],
      "execution_count": null,
      "outputs": [
        {
          "output_type": "stream",
          "text": [
            "6\n"
          ],
          "name": "stdout"
        }
      ]
    },
    {
      "cell_type": "code",
      "metadata": {
        "id": "NFgA8axBsc1w",
        "colab": {
          "base_uri": "https://localhost:8080/"
        },
        "outputId": "2a52970a-7f5b-479b-9f97-d9264e003d5c"
      },
      "source": [
        "# パターンマッチングで sum を実装する\r\n",
        "# コマンドラインワンライナーバージョン\r\n",
        "!ghc -e $'let {sum01 :: (Num a) => [a] -> a; sum01 [] = 0; sum01 (x:xs) = x + sum01 xs } in print $ sum [1,2,3]'"
      ],
      "execution_count": null,
      "outputs": [
        {
          "output_type": "stream",
          "text": [
            "6\n"
          ],
          "name": "stdout"
        }
      ]
    },
    {
      "cell_type": "markdown",
      "metadata": {
        "id": "qZtVGeHnjegw"
      },
      "source": [
        "# Haskellでの標準入力"
      ]
    },
    {
      "cell_type": "markdown",
      "metadata": {
        "id": "GfDX3G6jjqEr"
      },
      "source": [
        "いままで使ってきた getContents など、標準入力は文字列で入ってくるのを、read に型を指定することでなんとか数値にしたりしていたが、リストをどう受取るか。\r\n",
        "\r\n",
        "\r\n",
        "@hsjoihs氏による AtCoder に登録したら解くべき精選過去問 10 問を Haskell で解いてみた – Qiita  \r\n",
        "\r\n",
        "\r\n",
        "@myuon_myon氏による Haskellで解くAtCoder – The curse of λ  \r\n",
        "\r\n",
        "\r\n",
        "@hnw氏による HaskellでAtCoderの問題を解く（入力の高速化編） – Qiita  \r\n",
        "\r\n",
        "\r\n",
        "Haskell で高速なプログラムを書くときに注意すること （2016年6月）\r\n",
        "\r\n",
        "\r\n",
        "Haskellで競技プログラミング IO編  \r\n",
        "https://qiita.com/karszawa/items/ec0c01c81c22ce060405  \r\n",
        "\r\n",
        "配列 入力 haskell  \r\n",
        "\r\n",
        "HaskellでAtCoderに参戦して水色になった  \r\n",
        "https://blog.miz-ar.info/2019/05/atcoder-with-haskell/   \r\n",
        "\r\n",
        "\r\n",
        "\r\n",
        "など参考にすこし脇道にそれる。"
      ]
    },
    {
      "cell_type": "code",
      "metadata": {
        "id": "_-_KyVpzih3l",
        "colab": {
          "base_uri": "https://localhost:8080/"
        },
        "outputId": "eff43452-005a-4c62-8688-07a462cd0be5"
      },
      "source": [
        "# AtCoder Regular Contest #14 B問題\r\n",
        "%%writefile arc14b.hs\r\n",
        "import Control.Monad\r\n",
        "import Control.Applicative\r\n",
        "import Data.List\r\n",
        "\r\n",
        "main :: IO ()\r\n",
        "main = do\r\n",
        "    n <- readLn\r\n",
        "    (w:ws) <- replicateM n getLine\r\n",
        "    putStrLn $ case check [w] ws True of\r\n",
        "        Nothing -> \"DRAW\"\r\n",
        "        Just True -> \"WIN\"\r\n",
        "        Just False -> \"LOSE\"\r\n",
        "\r\n",
        "check _ [] _ = Nothing\r\n",
        "check dict@(la:_) (w:ws) b\r\n",
        "    | last la /= head w = Just b\r\n",
        "    | w `elem` dict = Just b\r\n",
        "    | otherwise = check (w:dict) ws (not b)"
      ],
      "execution_count": null,
      "outputs": [
        {
          "output_type": "stream",
          "text": [
            "Writing arc14b.hs\n"
          ],
          "name": "stdout"
        }
      ]
    },
    {
      "cell_type": "code",
      "metadata": {
        "id": "sUPPXQf9xes4",
        "colab": {
          "base_uri": "https://localhost:8080/"
        },
        "outputId": "67a57344-056f-4293-b7ea-eff9695d0232"
      },
      "source": [
        "!echo $'3\\nbook\\nkilo\\noldies' | runghc arc14b.hs"
      ],
      "execution_count": null,
      "outputs": [
        {
          "output_type": "stream",
          "text": [
            "DRAW\n"
          ],
          "name": "stdout"
        }
      ]
    },
    {
      "cell_type": "code",
      "metadata": {
        "id": "cChJbfD70QNL",
        "colab": {
          "base_uri": "https://localhost:8080/"
        },
        "outputId": "3165342f-8d7f-41af-d802-fa0aaff930ec"
      },
      "source": [
        "!ghc -e $'print $ map (read::String -> Int) $ words $ \"3 4 5\"'"
      ],
      "execution_count": null,
      "outputs": [
        {
          "output_type": "stream",
          "text": [
            "[3,4,5]\n"
          ],
          "name": "stdout"
        }
      ]
    },
    {
      "cell_type": "code",
      "metadata": {
        "id": "dqV4h2Q8DU72",
        "colab": {
          "base_uri": "https://localhost:8080/"
        },
        "outputId": "05f11048-3de3-47ed-90fd-af5d0e3c945d"
      },
      "source": [
        "# atcoderfirstten00\r\n",
        "%%writefile atcoderfirstten00.hs\r\n",
        "main = do\r\n",
        "    a <- readLn\r\n",
        "    [b,c] <- map read . words <$> getLine\r\n",
        "    s <- getLine\r\n",
        "    putStrLn $ unwords [show (a + b + c), s]"
      ],
      "execution_count": null,
      "outputs": [
        {
          "output_type": "stream",
          "text": [
            "Writing atcoderfirstten00.hs\n"
          ],
          "name": "stdout"
        }
      ]
    },
    {
      "cell_type": "code",
      "metadata": {
        "colab": {
          "base_uri": "https://localhost:8080/"
        },
        "id": "46eJf6fPhM4J",
        "outputId": "17819c0c-3855-4573-8283-54157e17a63d"
      },
      "source": [
        "!echo $'3\\n4 5 \\n 6' | runghc atcoderfirstten00.hs\r\n"
      ],
      "execution_count": null,
      "outputs": [
        {
          "output_type": "stream",
          "text": [
            "12  6\n"
          ],
          "name": "stdout"
        }
      ]
    },
    {
      "cell_type": "code",
      "metadata": {
        "id": "xf5wNfqt44wl",
        "colab": {
          "base_uri": "https://localhost:8080/"
        },
        "outputId": "1a8c8e40-ff62-4c68-ab71-63f3d05c0596"
      },
      "source": [
        "# atcoderfirstten00\r\n",
        "!echo $'3\\n4 5\\n 6' | ghc -e 'do {x <- getContents; let [a,b,c,s] = map (read::String->Int) (words x) in putStrLn (unwords [show (a + b + c), show(s)])}'"
      ],
      "execution_count": null,
      "outputs": [
        {
          "output_type": "stream",
          "text": [
            "12 6\n"
          ],
          "name": "stdout"
        }
      ]
    },
    {
      "cell_type": "code",
      "metadata": {
        "id": "yZEzofvcf3py",
        "colab": {
          "base_uri": "https://localhost:8080/"
        },
        "outputId": "f7e461c5-7bbd-4866-fc33-beea6e145c5f"
      },
      "source": [
        "# atcoderfirstten01 product\r\n",
        "%%writefile atcoderfirstten01.hs\r\n",
        "main = do\r\n",
        "    [a,b] <- map read . words <$> getLine\r\n",
        "    if (a * b) `mod` 2 == 0 then putStrLn \"Even\" else putStrLn \"Odd\""
      ],
      "execution_count": null,
      "outputs": [
        {
          "output_type": "stream",
          "text": [
            "Overwriting atcoderfirstten01.hs\n"
          ],
          "name": "stdout"
        }
      ]
    },
    {
      "cell_type": "code",
      "metadata": {
        "id": "wa6aTtg-gEnu",
        "colab": {
          "base_uri": "https://localhost:8080/"
        },
        "outputId": "dee47927-b6bc-4329-db37-19e457e53c50"
      },
      "source": [
        "!echo $'4 5' | runghc atcoderfirstten01.hs"
      ],
      "execution_count": null,
      "outputs": [
        {
          "output_type": "stream",
          "text": [
            "Even\n"
          ],
          "name": "stdout"
        }
      ]
    },
    {
      "cell_type": "code",
      "metadata": {
        "id": "eAppaqofgNR1",
        "colab": {
          "base_uri": "https://localhost:8080/"
        },
        "outputId": "5b4c6d80-1a39-40ce-e691-3b4e8dec5745"
      },
      "source": [
        "# atcoderfirstten01\r\n",
        "!echo $'4 5' | ghc -e $'do {[a,b] <- map (read::String->Int).words <$> getContents; if (a * b) `mod` 2 == 0 then putStrLn \"Even\" else putStrLn\"Odd\"}'"
      ],
      "execution_count": null,
      "outputs": [
        {
          "output_type": "stream",
          "text": [
            "Even\n"
          ],
          "name": "stdout"
        }
      ]
    },
    {
      "cell_type": "code",
      "metadata": {
        "id": "_8gvDvlhikF2",
        "colab": {
          "base_uri": "https://localhost:8080/"
        },
        "outputId": "8b55f3df-f3e5-4257-b724-292c5e31cb6c"
      },
      "source": [
        "# atcoderfirstten02 placing marbles\r\n",
        "# いまここ\r\n",
        "main = getLine >>= print . length . filter (=='1')\r\n"
      ],
      "execution_count": null,
      "outputs": [
        {
          "output_type": "stream",
          "text": [
            "UsageError: %%writefile is a cell magic, but the cell body is empty.\n"
          ],
          "name": "stderr"
        }
      ]
    },
    {
      "cell_type": "markdown",
      "metadata": {
        "id": "q9CWQg5FjqoY"
      },
      "source": [
        "# いまここ"
      ]
    },
    {
      "cell_type": "code",
      "metadata": {
        "id": "OlVrf4xGQLhh"
      },
      "source": [
        "\r\n",
        "Let's implement sum. We know that the sum of an empty list is\r\n",
        "0. We write that down as a pattern. And we also know that the\r\n",
        "sum of a list is the head plus the sum of the rest of the list.\r\n",
        "So if we write that down, we get:\r\n",
        "\r\n",
        "sum' :: (Num a) => [a] -> a  \r\n",
        "sum' [] = 0  \r\n",
        "sum' (x:xs) = x + sum' xs  \r\n",
        "There's also a thing called as patterns. Those are a handy way\r\n",
        "of breaking something up according to a pattern and binding\r\n",
        "it to names whilst still keeping a reference to the whole thing.\r\n",
        "You do that by putting a name and an @ in front of a pattern.\r\n",
        "For instance, the pattern xs@(x:y:ys). This pattern will match\r\n",
        "exactly the same thing as x:y:ys but you can easily get the\r\n",
        "whole list via xs instead of repeating yourself by typing out\r\n",
        "x:y:ys in the function body again. Here's a quick and dirty\r\n",
        "example:\r\n",
        "\r\n",
        "capital :: String -> String  \r\n",
        "capital \"\" = \"Empty string, whoops!\"  \r\n",
        "capital all@(x:xs) = \"The first letter of \" ++ all ++ \" is \"\r\n",
        "++ [x]  \r\n",
        "ghci> capital \"Dracula\"  \r\n",
        "\"The first letter of Dracula is D\"  \r\n",
        "Normally we use as patterns to avoid repeating ourselves when\r\n",
        "matching against a bigger pattern when we have to use the whole\r\n",
        "thing again in the function body.\r\n",
        "\r\n",
        "One more thing — you can't use ++ in pattern matches. If you\r\n",
        "tried to pattern match against (xs ++ ys), what would be in\r\n",
        "the first and what would be in the second list? It doesn't make\r\n",
        "much sense. It would make sense to match stuff against (xs \r\n",
        "++ [x,y,z]) or just (xs ++ [x]), but because of the nature of\r\n",
        "lists, you can't do that.\r\n",
        "\r\n",
        "Guards, guards!\r\n",
        "guards\r\n",
        "Whereas patterns are a way of making sure a value conforms to\r\n",
        "some form and deconstructing it, guards are a way of testing\r\n",
        "whether some property of a value (or several of them) are true\r\n",
        "or false. That sounds a lot like an if statement and it's very\r\n",
        "similar. The thing is that guards are a lot more readable when\r\n",
        "you have several conditions and they play really nicely with\r\n",
        "patterns.\r\n",
        "\r\n",
        "Instead of explaining their syntax, let's just dive in and make\r\n",
        "a function using guards. We're going to make a simple function\r\n",
        "that berates you differently depending on your BMI (body mass\r\n",
        "index). Your BMI equals your weight divided by your height squared.\r\n",
        "If your BMI is less than 18.5, you're considered underweight.\r\n",
        "If it's anywhere from 18.5 to 25 then you're considered normal.\r\n",
        "25 to 30 is overweight and more than 30 is obese. So here's\r\n",
        "the function (we won't be calculating it right now, this function\r\n",
        "just gets a BMI and tells you off)\r\n",
        "\r\n",
        "bmiTell :: (RealFloat a) => a -> String  \r\n",
        "bmiTell bmi  \r\n",
        "   | bmi <= 18.5 = \"You're underweight, you emo, you!\"  \r\n",
        "   | bmi <= 25.0 = \"You're supposedly normal. Pffft, I bet you're\r\n",
        "ugly!\"  \r\n",
        "   | bmi <= 30.0 = \"You're fat! Lose some weight, fatty!\"  \r\n",
        "   | otherwise   = \"You're a whale, congratulations!\"  \r\n",
        "Guards are indicated by pipes that follow a function's name and\r\n",
        "its parameters. Usually, they're indented a bit to the right\r\n",
        "and lined up. A guard is basically a boolean expression. If\r\n",
        "it evaluates to True, then the corresponding function body is\r\n",
        "used. If it evaluates to False, checking drops through to the\r\n",
        "next guard and so on. If we call this function with 24.3, it\r\n",
        "will first check if that's smaller than or equal to 18.5. Because\r\n",
        "it isn't, it falls through to the next guard. The check is carried\r\n",
        "out with the second guard and because 24.3 is less than 25.0,\r\n",
        "the second string is returned.\r\n",
        "\r\n",
        "This is very reminiscent of a big if else tree in imperative\r\n",
        "languages, only this is far better and more readable. While\r\n",
        "big if else trees are usually frowned upon, sometimes a problem\r\n",
        "is defined in such a discrete way that you can't get around\r\n",
        "them. Guards are a very nice alternative for this.\r\n",
        "\r\n",
        "Many times, the last guard is otherwise. otherwise is defined\r\n",
        "simply as otherwise = True and catches everything. This is very\r\n",
        "similar to patterns, only they check if the input satisfies\r\n",
        "a pattern but guards check for boolean conditions. If all the\r\n",
        "guards of a function evaluate to False (and we haven't provided\r\n",
        "an otherwise catch-all guard), evaluation falls through to the\r\n",
        "next pattern. That's how patterns and guards play nicely together.\r\n",
        "If no suitable guards or patterns are found, an error is thrown.\r\n",
        "Of course we can use guards with functions that take as many\r\n",
        "parameters as we want. Instead of having the user calculate\r\n",
        "his own BMI before calling the function, let's modify this function\r\n",
        "so that it takes a height and weight and calculates it for us.\r\n",
        "bmiTell :: (RealFloat a) => a -> a -> String  \r\n",
        "bmiTell weight height  \r\n",
        "   | weight / height ^ 2 <= 18.5 = \"You're underweight, you\r\n",
        "emo, you!\"  \r\n",
        "   | weight / height ^ 2 <= 25.0 = \"You're supposedly normal.\r\n",
        "Pffft, I bet you're ugly!\"  \r\n",
        "   | weight / height ^ 2 <= 30.0 = \"You're fat! Lose some weight,\r\n",
        "fatty!\"  \r\n",
        "   | otherwise                 = \"You're a whale, congratulations\r\n",
        "!\"  \r\n",
        "Let's see if I'm fat ...\r\n",
        "\r\n",
        "ghci> bmiTell 85 1.90  \r\n",
        "\"You're supposedly normal. Pffft, I bet you're ugly!\"  \r\n",
        "Yay! I'm not fat! But Haskell just called me ugly. Whatever!\r\n",
        "Note that there's no = right after the function name and its\r\n",
        "parameters, before the first guard. Many newbies get syntax\r\n",
        "errors because they sometimes put it there.\r\n",
        "\r\n",
        "Another very simple example: let's implement our own max function.\r\n",
        "If you remember, it takes two things that can be compared and\r\n",
        "returns the larger of them.\r\n",
        "\r\n",
        "max' :: (Ord a) => a -> a -> a  \r\n",
        "max' a b   \r\n",
        "   | a > b     = a  \r\n",
        "   | otherwise = b  \r\n",
        "Guards can also be written inline, although I'd advise against\r\n",
        "that because it's less readable, even for very short functions.\r\n",
        "But to demonstrate, we could write max' like this:\r\n",
        "\r\n",
        "max' :: (Ord a) => a -> a -> a  \r\n",
        "max' a b | a > b = a | otherwise = b  \r\n",
        "Ugh! Not very readable at all! Moving on: let's implement our\r\n",
        "own compare by using guards.\r\n",
        "\r\n",
        "myCompare :: (Ord a) => a -> a -> Ordering  \r\n",
        "a `myCompare` b  \r\n",
        "   | a > b     = GT  \r\n",
        "   | a == b    = EQ  \r\n",
        "   | otherwise = LT  \r\n",
        "ghci> 3 `myCompare` 2  \r\n",
        "GT  \r\n",
        "Note: Not only can we call functions as infix with backticks,\r\n",
        "we can also define them using backticks. Sometimes it's easier\r\n",
        "to read that way.\r\n",
        "Where!?\r\n",
        "In the previous section, we defined a BMI calculator function\r\n",
        "and berator like this:\r\n",
        "\r\n",
        "bmiTell :: (RealFloat a) => a -> a -> String  \r\n",
        "bmiTell weight height  \r\n",
        "   | weight / height ^ 2 <= 18.5 = \"You're underweight, you\r\n",
        "emo, you!\"  \r\n",
        "   | weight / height ^ 2 <= 25.0 = \"You're supposedly normal.\r\n",
        "Pffft, I bet you're ugly!\"  \r\n",
        "   | weight / height ^ 2 <= 30.0 = \"You're fat! Lose some weight,\r\n",
        "fatty!\"  \r\n",
        "   | otherwise                   = \"You're a whale, congratulations\r\n",
        "!\"  \r\n",
        "Notice that we repeat ourselves here three times. We repeat ourselves\r\n",
        "three times. Repeating yourself (three times) while programming\r\n",
        "is about as desirable as getting kicked inna head. Since we\r\n",
        "repeat the same expression three times, it would be ideal if\r\n",
        "we could calculate it once, bind it to a name and then use that\r\n",
        "name instead of the expression. Well, we can modify our function\r\n",
        "like this:\r\n",
        "\r\n",
        "bmiTell :: (RealFloat a) => a -> a -> String  \r\n",
        "bmiTell weight height  \r\n",
        "   | bmi <= 18.5 = \"You're underweight, you emo, you!\"  \r\n",
        "   | bmi <= 25.0 = \"You're supposedly normal. Pffft, I bet you're\r\n",
        "ugly!\"  \r\n",
        "   | bmi <= 30.0 = \"You're fat! Lose some weight, fatty!\"  \r\n",
        "   | otherwise   = \"You're a whale, congratulations!\"  \r\n",
        "   where bmi = weight / height ^ 2  \r\n",
        "We put the keyword where after the guards (usually it's best\r\n",
        "to indent it as much as the pipes are indented) and then we\r\n",
        "define several names or functions. These names are visible across\r\n",
        "the guards and give us the advantage of not having to repeat\r\n",
        "ourselves. If we decide that we want to calculate BMI a bit\r\n",
        "differently, we only have to change it once. It also improves\r\n",
        "readability by giving names to things and can make our programs\r\n",
        "faster since stuff like our bmi variable here is calculated\r\n",
        "only once. We could go a bit overboard and present our function\r\n",
        "like this:\r\n",
        "\r\n",
        "bmiTell :: (RealFloat a) => a -> a -> String  \r\n",
        "bmiTell weight height  \r\n",
        "   | bmi <= skinny = \"You're underweight, you emo, you!\"  \r\n",
        "   | bmi <= normal = \"You're supposedly normal. Pffft, I bet\r\n",
        "you're ugly!\"  \r\n",
        "   | bmi <= fat    = \"You're fat! Lose some weight, fatty!\"\r\n",
        " \r\n",
        "   | otherwise     = \"You're a whale, congratulations!\"  \r\n",
        "   where bmi = weight / height ^ 2  \r\n",
        "         skinny = 18.5  \r\n",
        "         normal = 25.0  \r\n",
        "         fat = 30.0  \r\n",
        "The names we define in the where section of a function are only\r\n",
        "visible to that function, so we don't have to worry about them\r\n",
        "polluting the namespace of other functions. Notice that all\r\n",
        "the names are aligned at a single column. If we don't align\r\n",
        "them nice and proper, Haskell gets confused because then it\r\n",
        "doesn't know they're all part of the same block.\r\n",
        "\r\n",
        "where bindings aren't shared across function bodies of different\r\n",
        "patterns. If you want several patterns of one function to access\r\n",
        "some shared name, you have to define it globally.\r\n",
        "\r\n",
        "You can also use where bindings to pattern match! We could have\r\n",
        "rewritten the where section of our previous function as:\r\n",
        "\r\n",
        "...  \r\n",
        "where bmi = weight / height ^ 2  \r\n",
        "     (skinny, normal, fat) = (18.5, 25.0, 30.0)  \r\n",
        "Let's make another fairly trivial function where we get a first\r\n",
        "and a last name and give someone back their initials.\r\n",
        "\r\n",
        "initials :: String -> String -> String  \r\n",
        "initials firstname lastname = [f] ++ \". \" ++ [l] ++ \".\"  \r\n",
        "   where (f:_) = firstname  \r\n",
        "         (l:_) = lastname    \r\n",
        "We could have done this pattern matching directly in the function's\r\n",
        "parameters (it would have been shorter and clearer actually)\r\n",
        "but this just goes to show that it's possible to do it in where\r\n",
        "bindings as well.\r\n",
        "\r\n",
        "Just like we've defined constants in where blocks, you can also\r\n",
        "define functions. Staying true to our healthy programming theme,\r\n",
        "let's make a function that takes a list of weight-height pairs\r\n",
        "and returns a list of BMIs.\r\n",
        "\r\n",
        "calcBmis :: (RealFloat a) => [(a, a)] -> [a]  \r\n",
        "calcBmis xs = [bmi w h | (w, h) <- xs]  \r\n",
        "   where bmi weight height = weight / height ^ 2  \r\n",
        "And that's all there is to it! The reason we had to introduce\r\n",
        "bmi as a function in this example is because we can't just calculate\r\n",
        "one BMI from the function's parameters. We have to examine the\r\n",
        "list passed to the function and there's a different BMI for\r\n",
        "every pair in there.\r\n",
        "\r\n",
        "where bindings can also be nested. It's a common idiom to make\r\n",
        "a function and define some helper function in its where clause\r\n",
        "and then to give those functions helper functions as well, each\r\n",
        "with its own where clause.\r\n",
        "\r\n",
        "Let it be\r\n",
        "Very similar to where bindings are let bindings. Where bindings\r\n",
        "are a syntactic construct that let you bind to variables at\r\n",
        "the end of a function and the whole function can see them, including\r\n",
        "all the guards. Let bindings let you bind to variables anywhere\r\n",
        "and are expressions themselves, but are very local, so they\r\n",
        "don't span across guards. Just like any construct in Haskell\r\n",
        "that is used to bind values to names, let bindings can be used\r\n",
        "for pattern matching. Let's see them in action! This is how\r\n",
        "we could define a function that gives us a cylinder's surface\r\n",
        "area based on its height and radius:\r\n",
        "\r\n",
        "cylinder :: (RealFloat a) => a -> a -> a  \r\n",
        "cylinder r h = \r\n",
        "   let sideArea = 2 * pi * r * h  \r\n",
        "       topArea = pi * r ^2  \r\n",
        "   in  sideArea + 2 * topArea  \r\n",
        "let it be\r\n",
        "The form is let <bindings> in <expression>. The names that you\r\n",
        "define in the let part are accessible to the expression after\r\n",
        "the in part. As you can see, we could have also defined this\r\n",
        "with a where binding. Notice that the names are also aligned\r\n",
        "in a single column. So what's the difference between the two?\r\n",
        "For now it just seems that let puts the bindings first and the\r\n",
        "expression that uses them later whereas where is the other way\r\n",
        "around.\r\n",
        "\r\n",
        "The difference is that let bindings are expressions themselves.\r\n",
        "where bindings are just syntactic constructs. Remember when\r\n",
        "we did the if statement and it was explained that an if else\r\n",
        "statement is an expression and you can cram it in almost anywhere?\r\n",
        "ghci> [if 5 > 3 then \"Woo\" else \"Boo\", if 'a' > 'b' then \"Foo\r\n",
        "\" else \"Bar\"]  \r\n",
        "[\"Woo\", \"Bar\"]  \r\n",
        "ghci> 4 * (if 10 > 5 then 10 else 0) + 2  \r\n",
        "42  \r\n",
        "You can also do that with let bindings.\r\n",
        "\r\n",
        "ghci> 4 * (let a = 9 in a + 1) + 2  \r\n",
        "42  \r\n",
        "They can also be used to introduce functions in a local scope\r\n",
        ":\r\n",
        "\r\n",
        "ghci> [let square x = x * x in (square 5, square 3, square 2)]\r\n",
        " \r\n",
        "[(25,9,4)]  \r\n",
        "If we want to bind to several variables inline, we obviously\r\n",
        "can't align them at columns. That's why we can separate them\r\n",
        "with semicolons.\r\n",
        "\r\n",
        "ghci> (let a = 100; b = 200; c = 300 in a*b*c, let foo=\"Hey \r\n",
        "\"; bar = \"there!\" in foo ++ bar)  \r\n",
        "(6000000,\"Hey there!\")  \r\n",
        "You don't have to put a semicolon after the last binding but\r\n",
        "you can if you want. Like we said before, you can pattern match\r\n",
        "with let bindings. They're very useful for quickly dismantling\r\n",
        "a tuple into components and binding them to names and such.\r\n",
        "ghci> (let (a,b,c) = (1,2,3) in a+b+c) * 100  \r\n",
        "600  \r\n",
        "You can also put let bindings inside list comprehensions. Let's\r\n",
        "rewrite our previous example of calculating lists of weight\r\n",
        "-height pairs to use a let inside a list comprehension instead\r\n",
        "of defining an auxiliary function with a where.\r\n",
        "\r\n",
        "calcBmis :: (RealFloat a) => [(a, a)] -> [a]  \r\n",
        "calcBmis xs = [bmi | (w, h) <- xs, let bmi = w / h ^ 2]  \r\n",
        "We include a let inside a list comprehension much like we would\r\n",
        "a predicate, only it doesn't filter the list, it only binds\r\n",
        "to names. The names defined in a let inside a list comprehension\r\n",
        "are visible to the output function (the part before the |) and\r\n",
        "all predicates and sections that come after of the binding.\r\n",
        "So we could make our function return only the BMIs of fat people\r\n",
        ":\r\n",
        "\r\n",
        "calcBmis :: (RealFloat a) => [(a, a)] -> [a]  \r\n",
        "calcBmis xs = [bmi | (w, h) <- xs, let bmi = w / h ^ 2, bmi \r\n",
        ">= 25.0]  \r\n",
        "We can't use the bmi name in the (w, h) <- xs part because it's\r\n",
        "defined prior to the let binding.\r\n",
        "\r\n",
        "We omitted the in part of the let binding when we used them in\r\n",
        "list comprehensions because the visibility of the names is already\r\n",
        "predefined there. However, we could use a let in binding in\r\n",
        "a predicate and the names defined would only be visible to that\r\n",
        "predicate. The in part can also be omitted when defining functions\r\n",
        "and constants directly in GHCi. If we do that, then the names\r\n",
        "will be visible throughout the entire interactive session.\r\n",
        "\r\n",
        "ghci> let zoot x y z = x * y + z  \r\n",
        "ghci> zoot 3 9 2  \r\n",
        "29  \r\n",
        "ghci> let boot x y z = x * y + z in boot 3 4 2  \r\n",
        "14  \r\n",
        "ghci> boot  \r\n",
        "<interactive>:1:0: Not in scope: `boot'  \r\n",
        "If let bindings are so cool, why not use them all the time instead\r\n",
        "of where bindings, you ask? Well, since let bindings are expressions\r\n",
        "and are fairly local in their scope, they can't be used across\r\n",
        "guards. Some people prefer where bindings because the names\r\n",
        "come after the function they're being used in. That way, the\r\n",
        "function body is closer to its name and type declaration and\r\n",
        "to some that's more readable.\r\n",
        "\r\n",
        "Case expressions\r\n",
        "case\r\n",
        "Many imperative languages (C, C++, Java, etc.) have case syntax\r\n",
        "and if you've ever programmed in them, you probably know what\r\n",
        "it's about. It's about taking a variable and then executing\r\n",
        "blocks of code for specific values of that variable and then\r\n",
        "maybe including a catch-all block of code in case the variable\r\n",
        "has some value for which we didn't set up a case.\r\n",
        "\r\n",
        "Haskell takes that concept and one-ups it. Like the name implies,\r\n",
        "case expressions are, well, expressions, much like if else expressions\r\n",
        "and let bindings. Not only can we evaluate expressions based\r\n",
        "on the possible cases of the value of a variable, we can also\r\n",
        "do pattern matching. Hmmm, taking a variable, pattern matching\r\n",
        "it, evaluating pieces of code based on its value, where have\r\n",
        "we heard this before? Oh yeah, pattern matching on parameters\r\n",
        "in function definitions! Well, that's actually just syntactic\r\n",
        "sugar for case expressions. These two pieces of code do the\r\n",
        "same thing and are interchangeable:\r\n",
        "\r\n",
        "head' :: [a] -> a  \r\n",
        "head' [] = error \"No head for empty lists!\"  \r\n",
        "head' (x:_) = x  \r\n",
        "head' :: [a] -> a  \r\n",
        "head' xs = case xs of [] -> error \"No head for empty lists!\"\r\n",
        " \r\n",
        "                     (x:_) -> x  \r\n",
        "As you can see, the syntax for case expressions is pretty simple\r\n",
        ":\r\n",
        "\r\n",
        "case expression of pattern -> result  \r\n",
        "                  pattern -> result  \r\n",
        "                  pattern -> result  \r\n",
        "                  ...  \r\n",
        "expression is matched against the patterns. The pattern matching\r\n",
        "action is the same as expected: the first pattern that matches\r\n",
        "the expression is used. If it falls through the whole case expression\r\n",
        "and no suitable pattern is found, a runtime error occurs.\r\n",
        "\r\n",
        "Whereas pattern matching on function parameters can only be done\r\n",
        "when defining functions, case expressions can be used pretty\r\n",
        "much anywhere. For instance:\r\n",
        "\r\n",
        "describeList :: [a] -> String  \r\n",
        "describeList xs = \"The list is \" ++ case xs of [] -> \"empty.\r\n",
        "\"  \r\n",
        "                                              [x] -> \"a singleton\r\n",
        "list.\"   \r\n",
        "                                              xs -> \"a longer\r\n",
        "list.\"  \r\n",
        "They are useful for pattern matching against something in the\r\n",
        "middle of an expression. Because pattern matching in function\r\n",
        "definitions is syntactic sugar for case expressions, we could\r\n",
        "have also defined this like so:\r\n",
        "\r\n",
        "describeList :: [a] -> String  \r\n",
        "describeList xs = \"The list is \" ++ what xs  \r\n",
        "   where what [] = \"empty.\"  \r\n",
        "         what [x] = \"a singleton list.\"  \r\n",
        "         what xs = \"a longer list.\"  \r\n",
        "Types and Typeclasses\tTable of contents\tRecursion"
      ],
      "execution_count": null,
      "outputs": []
    }
  ]
}