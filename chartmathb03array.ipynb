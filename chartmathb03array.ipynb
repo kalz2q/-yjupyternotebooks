{
  "nbformat": 4,
  "nbformat_minor": 0,
  "metadata": {
    "colab": {
      "name": "chartmathb03array.ipynb",
      "provenance": [],
      "authorship_tag": "ABX9TyM8pvNq7R/wBCVsTf3LOxTk",
      "include_colab_link": true
    },
    "kernelspec": {
      "name": "python3",
      "display_name": "Python 3"
    }
  },
  "cells": [
    {
      "cell_type": "markdown",
      "metadata": {
        "id": "view-in-github",
        "colab_type": "text"
      },
      "source": [
        "<a href=\"https://colab.research.google.com/github/kalz2q/mycolabnotebooks/blob/master/chartmathb03array.ipynb\" target=\"_parent\"><img src=\"https://colab.research.google.com/assets/colab-badge.svg\" alt=\"Open In Colab\"/></a>"
      ]
    },
    {
      "cell_type": "markdown",
      "metadata": {
        "id": "d98TC-brMOSs"
      },
      "source": [
        "メモ\r\n",
        "\r\n",
        "チャート式数学Bの数列のところを読む"
      ]
    },
    {
      "cell_type": "code",
      "metadata": {
        "id": "MJe0fYX3MNv4"
      },
      "source": [
        ""
      ],
      "execution_count": null,
      "outputs": []
    }
  ]
}