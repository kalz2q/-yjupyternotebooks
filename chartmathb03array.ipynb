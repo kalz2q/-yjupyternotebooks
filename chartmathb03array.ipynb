{
  "nbformat": 4,
  "nbformat_minor": 0,
  "metadata": {
    "colab": {
      "name": "chartmathb03array.ipynb",
      "provenance": [],
      "authorship_tag": "ABX9TyOYuVvXh7jST7M2DtyAN1Ap",
      "include_colab_link": true
    },
    "kernelspec": {
      "name": "python3",
      "display_name": "Python 3"
    }
  },
  "cells": [
    {
      "cell_type": "markdown",
      "metadata": {
        "id": "view-in-github",
        "colab_type": "text"
      },
      "source": [
        "<a href=\"https://colab.research.google.com/github/kalz2q/mycolabnotebooks/blob/master/chartmathb03array.ipynb\" target=\"_parent\"><img src=\"https://colab.research.google.com/assets/colab-badge.svg\" alt=\"Open In Colab\"/></a>"
      ]
    },
    {
      "cell_type": "markdown",
      "metadata": {
        "id": "d98TC-brMOSs"
      },
      "source": [
        "メモ\r\n",
        "\r\n",
        "チャート式数学Bの数列のところを読む"
      ]
    },
    {
      "cell_type": "markdown",
      "metadata": {
        "id": "toF9pCLrPRoh"
      },
      "source": [
        "# 数列\r\n",
        "sequence of numbers か? array, list, sequence, series, 関連して set というのもあるか。\r\n",
        "\r\n",
        "$1,3,5,7,9, \\cdots \\cdots $\r\n",
        "\r\n",
        "($\\cdots \\cdots$ は無限に続くことを表す)\r\n",
        "\r\n",
        "のように、数を 1列に並べたものを、数列といい、その各数を数列の項という。\r\n",
        "\r\n",
        "ということは、数以外のリストは数列とはいわない、ということか。 だから array や list ではなくて、 sequence of numbers なのかも。\r\n",
        "\r\n",
        "最初の項を初項、第2項、$\\cdots\\ $ $n$ 番目の項を第 $n$ 項という。\r\n",
        "\r\n",
        "項といえば、多項式 polynomial という言葉があったが、ここでは関係ないか。\r\n",
        "\r\n",
        "数列の第 $n$ 項が $n$ の式で表されるとき、**一般項**という。\r\n",
        "\r\n",
        "有限数列、無限数列は言葉の通り。\r\n",
        "\r\n",
        "$\\{ a_n  \\}$ という略記もある。\r\n"
      ]
    },
    {
      "cell_type": "markdown",
      "metadata": {
        "id": "qhdB-a2gSBGI"
      },
      "source": [
        "**等差数列**\r\n",
        "\r\n",
        "定義 $\\quad a_{n+1} = a_n + d \\quad $ すなわち $\\quad a_{n+1} - a_n = d $ (一定) $\\quad d$ は一定\r\n",
        "\r\n",
        "一般項 $\\quad a_n= a+ (n-1)d \\quad \\longleftarrow$ (第$n$項)=(初項)+($n-1)\\times$ (交差)\r\n",
        "\r\n"
      ]
    },
    {
      "cell_type": "markdown",
      "metadata": {
        "id": "FHtdttn4V0ag"
      },
      "source": [
        "**等差中項**"
      ]
    },
    {
      "cell_type": "code",
      "metadata": {
        "id": "MJe0fYX3MNv4"
      },
      "source": [
        ""
      ],
      "execution_count": null,
      "outputs": []
    }
  ]
}