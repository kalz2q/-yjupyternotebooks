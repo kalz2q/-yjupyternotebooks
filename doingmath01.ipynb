{
  "nbformat": 4,
  "nbformat_minor": 0,
  "metadata": {
    "colab": {
      "name": "doingmath01.ipynb",
      "provenance": [],
      "toc_visible": true,
      "authorship_tag": "ABX9TyMx35/ybXmLG5b+K52zHqbo",
      "include_colab_link": true
    },
    "kernelspec": {
      "name": "python3",
      "display_name": "Python 3"
    }
  },
  "cells": [
    {
      "cell_type": "markdown",
      "metadata": {
        "id": "view-in-github",
        "colab_type": "text"
      },
      "source": [
        "<a href=\"https://colab.research.google.com/github/kalz2q/mycolabnotebooks/blob/master/doingmath01.ipynb\" target=\"_parent\"><img src=\"https://colab.research.google.com/assets/colab-badge.svg\" alt=\"Open In Colab\"/></a>"
      ]
    },
    {
      "cell_type": "markdown",
      "metadata": {
        "id": "bxuf1ndUU05q",
        "colab_type": "text"
      },
      "source": [
        "# メモ\n",
        "\n",
        "> Doing Math with Python: Use Programming to Explore Algebra, Statistics, Calculus, and More!  \n",
        "> Amit Saha\n",
        "\n",
        "を `Colab` でなぞりながら読む。\n",
        "\n",
        "本のまえがきに高校数学でプログラミングを学ぶ、と書いてあるので、あちらの高校数学の概要がわかり、自分にとっては復習になるかもしれない。\n",
        "\n",
        "途中でめげるかもしれないがとりあえず始めてみよう。\n",
        "\n",
        "http://www.nostarch.com/doingmathwithpython/ にプログラムとヒントがあるとのこと。\n",
        "\n",
        "しかし!!!! とりあえずチャレンジ問題はやらずに先に進んで終わらせることを先行しよう。\n"
      ]
    },
    {
      "cell_type": "markdown",
      "metadata": {
        "id": "v7kSBRy7Y6dP",
        "colab_type": "text"
      },
      "source": [
        "# 数値の操作\n",
        "\n",
        "四則演算はべき乗以外は普通なので実験するだけでいいだろう。"
      ]
    },
    {
      "cell_type": "code",
      "metadata": {
        "id": "45VaHl6fZ-5X",
        "colab_type": "code",
        "colab": {
          "base_uri": "https://localhost:8080/",
          "height": 119
        },
        "outputId": "20f3779e-d8e2-44fa-dc8a-1cf04b12bce3"
      },
      "source": [
        "print (1 + 2)\n",
        "print (3.5)\n",
        "print ( -1 + 2.5)\n",
        "print (100 - 45)\n",
        "print (3 * 2)\n",
        "print (3.5 * 1.5)"
      ],
      "execution_count": null,
      "outputs": [
        {
          "output_type": "stream",
          "text": [
            "3\n",
            "3.5\n",
            "1.5\n",
            "55\n",
            "6\n",
            "5.25\n"
          ],
          "name": "stdout"
        }
      ]
    },
    {
      "cell_type": "code",
      "metadata": {
        "id": "KliXPAQmaWj1",
        "colab_type": "code",
        "colab": {}
      },
      "source": [
        "print (3 / 2)\n",
        "print (4 / 2)"
      ],
      "execution_count": null,
      "outputs": []
    },
    {
      "cell_type": "markdown",
      "metadata": {
        "id": "Ivg5InS6Y6nY",
        "colab_type": "text"
      },
      "source": [
        "以上、加算、減算、乗算、除算を見た。\n",
        "\n",
        "除算で引数が整数同士でも返される値は浮動小数点数になる。\n",
        "\n",
        "整数除算を行いたい場合は、`//` を用いる。"
      ]
    },
    {
      "cell_type": "code",
      "metadata": {
        "id": "k2O6Wlp8a-Lg",
        "colab_type": "code",
        "colab": {
          "base_uri": "https://localhost:8080/",
          "height": 119
        },
        "outputId": "376cca67-c3e9-49e9-b6ca-f50ca3f72bf0"
      },
      "source": [
        "print (3 // 2)\n",
        "print (-3 // 2)\n",
        "print (round (3 / 2))\n",
        "print (round (-3 / 2))\n",
        "print (int(3 / 2))\n",
        "print (int(-3 / 2))"
      ],
      "execution_count": null,
      "outputs": [
        {
          "output_type": "stream",
          "text": [
            "1\n",
            "-2\n",
            "2\n",
            "-2\n",
            "1\n",
            "-1\n"
          ],
          "name": "stdout"
        }
      ]
    },
    {
      "cell_type": "markdown",
      "metadata": {
        "id": "GQSP4CsQbWRH",
        "colab_type": "text"
      },
      "source": [
        "`//` は床除算 `floor division` と呼ばれ、その数以下の整数を結果として返す。\n",
        "\n",
        "余り計算は `%` `modulo` 演算子を用いる。"
      ]
    },
    {
      "cell_type": "code",
      "metadata": {
        "id": "igWqHRoUb_fE",
        "colab_type": "code",
        "colab": {
          "base_uri": "https://localhost:8080/",
          "height": 34
        },
        "outputId": "da1bb7f3-5d6d-4f35-d3d8-1cd51b79fff7"
      },
      "source": [
        "print (9 % 2)"
      ],
      "execution_count": null,
      "outputs": [
        {
          "output_type": "stream",
          "text": [
            "1\n"
          ],
          "name": "stdout"
        }
      ]
    },
    {
      "cell_type": "markdown",
      "metadata": {
        "id": "i9SefNYCcEjH",
        "colab_type": "text"
      },
      "source": [
        "冪乗は `**` `exponential` 演算子を用いる。"
      ]
    },
    {
      "cell_type": "code",
      "metadata": {
        "id": "2ka4BBHdcNxH",
        "colab_type": "code",
        "colab": {
          "base_uri": "https://localhost:8080/",
          "height": 68
        },
        "outputId": "a28312d3-b3bc-49f1-8d2a-44e24a084134"
      },
      "source": [
        "print (2 ** 2)\n",
        "print (2 ** 10)\n",
        "print (1 ** 10)"
      ],
      "execution_count": null,
      "outputs": [
        {
          "output_type": "stream",
          "text": [
            "4\n",
            "1024\n",
            "1\n"
          ],
          "name": "stdout"
        }
      ]
    },
    {
      "cell_type": "markdown",
      "metadata": {
        "id": "btx7_fHRcXDo",
        "colab_type": "text"
      },
      "source": [
        "冪乗の値 `exponential symbol` に `1` 以下の値が使える。平方根を求めたいときにには `1/2`、立方根の場合は `1/3`である。"
      ]
    },
    {
      "cell_type": "code",
      "metadata": {
        "id": "eJL9HmgRcV8I",
        "colab_type": "code",
        "colab": {
          "base_uri": "https://localhost:8080/",
          "height": 34
        },
        "outputId": "8345aaa3-8b50-471a-f0b1-19d6bd14720f"
      },
      "source": [
        "print (8 ** (1 / 3))"
      ],
      "execution_count": null,
      "outputs": [
        {
          "output_type": "stream",
          "text": [
            "2.0\n"
          ],
          "name": "stdout"
        }
      ]
    },
    {
      "cell_type": "markdown",
      "metadata": {
        "id": "5cXawDZfc5kB",
        "colab_type": "text"
      },
      "source": [
        "演算子の優先順序は `PEMDAS` に従う。\n",
        "\n",
        "* 括弧 parntheses\n",
        "* 指数 exponents\n",
        "* 乗算 multiplication\n",
        "* 除算 division\n",
        "* 加算 addition\n",
        "* 減算 subtraction\n",
        "\n",
        "`PEMDAS`を覚える語呂合わせが欲しいが、どうでもいいか。 => Please Excuse My Dear Aunt Sally だって。\n"
      ]
    },
    {
      "cell_type": "code",
      "metadata": {
        "id": "yh0KmGURlKbG",
        "colab_type": "code",
        "colab": {
          "base_uri": "https://localhost:8080/",
          "height": 51
        },
        "outputId": "749c28c3-1812-41e5-9606-20a80abcc162"
      },
      "source": [
        "print (5 + 5 * 5)\n",
        "print ((5 + 5) * 5)"
      ],
      "execution_count": null,
      "outputs": [
        {
          "output_type": "stream",
          "text": [
            "30\n",
            "50\n"
          ],
          "name": "stdout"
        }
      ]
    },
    {
      "cell_type": "markdown",
      "metadata": {
        "id": "6MA16xFMla42",
        "colab_type": "text"
      },
      "source": [
        "# 変数\n",
        "\n",
        "数字につけるラベルのことを数学やプログラミングでは変数、と呼ぶ。\n",
        "\n",
        "中学とかだと $a$ が定数、$x$ が変数みたいな習い方するけど、それって無理あるよね。ラベルかぁ、ラベルというより箱がいいと思うのだが。\"なにか\"って言い方もあったかと思う。ある意味抽象化なのだから、そそ、\"方程式\"という言葉と一緒に習ったような気もする。なにかイコールなにか。なにか掛けるなにかイコールなにか。そのなにかに名前、ラベルをつけたところから数学が始まった。とかね。"
      ]
    },
    {
      "cell_type": "code",
      "metadata": {
        "id": "VnrOsLJXlm9g",
        "colab_type": "code",
        "colab": {
          "base_uri": "https://localhost:8080/",
          "height": 51
        },
        "outputId": "d5e55942-455f-4ca7-debd-7d254e8788c1"
      },
      "source": [
        "a = 3\n",
        "print (a + 1)\n",
        "a = 5\n",
        "print (a + 1)"
      ],
      "execution_count": null,
      "outputs": [
        {
          "output_type": "stream",
          "text": [
            "4\n",
            "6\n"
          ],
          "name": "stdout"
        }
      ]
    },
    {
      "cell_type": "markdown",
      "metadata": {
        "id": "7FzLy1-dmJOC",
        "colab_type": "text"
      },
      "source": [
        "# 型 type\n",
        "\n",
        "整数と浮動小数点数は型がちがう。型を知るには `type()` を使う。"
      ]
    },
    {
      "cell_type": "code",
      "metadata": {
        "id": "vaKKJep-mIyM",
        "colab_type": "code",
        "colab": {
          "base_uri": "https://localhost:8080/",
          "height": 72
        },
        "outputId": "fba5a7e4-58f5-46b0-deb9-0a1b66a77758"
      },
      "source": [
        "print (type (3))\n",
        "print (type (3.5))\n",
        "print (type (3.0))"
      ],
      "execution_count": null,
      "outputs": [
        {
          "output_type": "stream",
          "text": [
            "<class 'int'>\n",
            "<class 'float'>\n",
            "<class 'float'>\n"
          ],
          "name": "stdout"
        }
      ]
    },
    {
      "cell_type": "code",
      "metadata": {
        "id": "uLbffZMxm5el",
        "colab_type": "code",
        "colab": {
          "base_uri": "https://localhost:8080/",
          "height": 51
        },
        "outputId": "154bd513-3946-4034-99fb-0cc89cc635f0"
      },
      "source": [
        "print (3 == 3.0)\n",
        "print (type(3) == type (3.0))"
      ],
      "execution_count": null,
      "outputs": [
        {
          "output_type": "stream",
          "text": [
            "True\n",
            "False\n"
          ],
          "name": "stdout"
        }
      ]
    },
    {
      "cell_type": "markdown",
      "metadata": {
        "id": "4kD0vNZZnLi5",
        "colab_type": "text"
      },
      "source": [
        "`3 == 3.0` が `True` になるのは整数を浮動小数点に変換してから比較しているのだろう。\n",
        "\n",
        "`3 === 3.0' というような厳密な比較をする演算子はないみたい。"
      ]
    },
    {
      "cell_type": "code",
      "metadata": {
        "id": "3JkfHtnnnozl",
        "colab_type": "code",
        "colab": {
          "base_uri": "https://localhost:8080/",
          "height": 102
        },
        "outputId": "63e5d97d-33ef-4df8-906b-7e8e16119d70"
      },
      "source": [
        "print (int(3.8))\n",
        "print (int(3.0))\n",
        "print (float (3))\n",
        "print (int (-3.8))\n",
        "print ( -7 // 2)"
      ],
      "execution_count": null,
      "outputs": [
        {
          "output_type": "stream",
          "text": [
            "3\n",
            "3\n",
            "3.0\n",
            "-3\n",
            "-4\n"
          ],
          "name": "stdout"
        }
      ]
    },
    {
      "cell_type": "markdown",
      "metadata": {
        "id": "RIQCKHigJwfH",
        "colab_type": "text"
      },
      "source": [
        "上の例でマイナスを `//` で整数割り算をして割り切れないと下側になるので、床除算なのだが、そういうこと。"
      ]
    },
    {
      "cell_type": "markdown",
      "metadata": {
        "id": "GlhnAJU1oBbc",
        "colab_type": "text"
      },
      "source": [
        "# 分数 fraction\n"
      ]
    },
    {
      "cell_type": "markdown",
      "metadata": {
        "id": "-ymmVFHNKKKk",
        "colab_type": "text"
      },
      "source": [
        "下の例では `from fractions import Fraction` としているが、一方で Rational というのもあったよね。\n",
        "\n",
        "質問: 分数と有理数との関係。実数との関係。無理数も、無限に小数点が続く分数もコンピューターだと float なのだろうがそれでは数学ができないので、どうにかしているはず。最低限表示の話だが、numpy では Rational、python では  Fraction か？\n",
        "\n",
        "とりあえずここは  Fraction で進む。"
      ]
    },
    {
      "cell_type": "code",
      "metadata": {
        "id": "GbeKg_bdoPzz",
        "colab_type": "code",
        "colab": {
          "base_uri": "https://localhost:8080/",
          "height": 34
        },
        "outputId": "b5002d60-da88-476a-9019-d9c75bb8bb61"
      },
      "source": [
        "from fractions import Fraction\n",
        "f = Fraction (3, 4)\n",
        "f"
      ],
      "execution_count": null,
      "outputs": [
        {
          "output_type": "execute_result",
          "data": {
            "text/plain": [
              "Fraction(3, 4)"
            ]
          },
          "metadata": {
            "tags": []
          },
          "execution_count": 69
        }
      ]
    },
    {
      "cell_type": "code",
      "metadata": {
        "id": "CwI4lUd0o1bh",
        "colab_type": "code",
        "colab": {
          "base_uri": "https://localhost:8080/",
          "height": 34
        },
        "outputId": "abfc736d-7eff-4b6a-937a-e355f9505559"
      },
      "source": [
        "print (f)"
      ],
      "execution_count": null,
      "outputs": [
        {
          "output_type": "stream",
          "text": [
            "3/4\n"
          ],
          "name": "stdout"
        }
      ]
    },
    {
      "cell_type": "markdown",
      "metadata": {
        "id": "4PGRNnpjo9Qc",
        "colab_type": "text"
      },
      "source": [
        "`print()` 関数は `Fraction(3, 4)` を印刷するときに、見やすい形に変換している、と思われる。"
      ]
    },
    {
      "cell_type": "code",
      "metadata": {
        "id": "wt4gg9gvo82L",
        "colab_type": "code",
        "colab": {
          "base_uri": "https://localhost:8080/",
          "height": 34
        },
        "outputId": "c570b161-d130-4da5-8e8d-6c2b98e675c6"
      },
      "source": [
        "Fraction (3, 4) * 1 + 1.5"
      ],
      "execution_count": null,
      "outputs": [
        {
          "output_type": "execute_result",
          "data": {
            "text/plain": [
              "2.25"
            ]
          },
          "metadata": {
            "tags": []
          },
          "execution_count": 26
        }
      ]
    },
    {
      "cell_type": "code",
      "metadata": {
        "id": "XA1nuYLbppEG",
        "colab_type": "code",
        "colab": {
          "base_uri": "https://localhost:8080/",
          "height": 34
        },
        "outputId": "2be8a700-1760-4758-f9d4-82ba10f67956"
      },
      "source": [
        "Fraction (3, 4) + 1 + Fraction (1, 3)"
      ],
      "execution_count": null,
      "outputs": [
        {
          "output_type": "execute_result",
          "data": {
            "text/plain": [
              "Fraction(25, 12)"
            ]
          },
          "metadata": {
            "tags": []
          },
          "execution_count": 27
        }
      ]
    },
    {
      "cell_type": "code",
      "metadata": {
        "id": "vOCUXif2pwJw",
        "colab_type": "code",
        "colab": {
          "base_uri": "https://localhost:8080/",
          "height": 34
        },
        "outputId": "ac6547c6-292d-4df6-f461-3f0bc29d844d"
      },
      "source": [
        "Fraction (3, 4) * 1 + 1.5 + Fraction (1, 3)"
      ],
      "execution_count": null,
      "outputs": [
        {
          "output_type": "execute_result",
          "data": {
            "text/plain": [
              "2.5833333333333335"
            ]
          },
          "metadata": {
            "tags": []
          },
          "execution_count": 29
        }
      ]
    },
    {
      "cell_type": "markdown",
      "metadata": {
        "id": "mezic1TkLtrN",
        "colab_type": "text"
      },
      "source": [
        "次の例でもあるように、float と分数をまぜると、float になってしまう。"
      ]
    },
    {
      "cell_type": "code",
      "metadata": {
        "id": "lHA1rB9gLflQ",
        "colab_type": "code",
        "colab": {
          "base_uri": "https://localhost:8080/",
          "height": 35
        },
        "outputId": "3922a0bc-a991-41b7-ae97-5f45ae212bde"
      },
      "source": [
        "from fractions import Fraction\n",
        "display(1.5 + Fraction (1, 3))"
      ],
      "execution_count": null,
      "outputs": [
        {
          "output_type": "display_data",
          "data": {
            "text/plain": [
              "1.8333333333333333"
            ]
          },
          "metadata": {
            "tags": []
          }
        }
      ]
    },
    {
      "cell_type": "code",
      "metadata": {
        "id": "iNs3unU4MLAH",
        "colab_type": "code",
        "colab": {
          "base_uri": "https://localhost:8080/",
          "height": 52
        },
        "outputId": "c3d7b69c-6a30-46c1-a268-02a8a96c19b5"
      },
      "source": [
        "print (type (Fraction(1,3)))\n",
        "print (type (1.5 + Fraction (1,3)))"
      ],
      "execution_count": null,
      "outputs": [
        {
          "output_type": "stream",
          "text": [
            "<class 'fractions.Fraction'>\n",
            "<class 'float'>\n"
          ],
          "name": "stdout"
        }
      ]
    },
    {
      "cell_type": "markdown",
      "metadata": {
        "id": "N2V3CwnUp3Tt",
        "colab_type": "text"
      },
      "source": [
        "式 expression の中に1つでも浮動小数点があれば結果は浮動小数点。浮動小数点がなければ、分数があれば分数が結果になる。\n",
        "\n"
      ]
    },
    {
      "cell_type": "markdown",
      "metadata": {
        "id": "oHJ10st3qOGh",
        "colab_type": "text"
      },
      "source": [
        "# 複素数 complex number"
      ]
    },
    {
      "cell_type": "markdown",
      "metadata": {
        "id": "6om-6zEWqb-I",
        "colab_type": "text"
      },
      "source": [
        "Pythonは文字 $j$ で識別される虚数部を持つ複素数をサポートする。  \n",
        "$j$ または $J$ は数学表記の  $i$ に相当する。  \n",
        "複素数 $2 + 3i$ はPythonでは `2 + 3j` として記述される。"
      ]
    },
    {
      "cell_type": "code",
      "metadata": {
        "id": "uFj2tXE3q8Dk",
        "colab_type": "code",
        "colab": {
          "base_uri": "https://localhost:8080/",
          "height": 51
        },
        "outputId": "093543cd-f8fb-4bc4-8e0c-f1e6898e575a"
      },
      "source": [
        "a = 2 + 3j\n",
        "print (a)\n",
        "print (type(a))"
      ],
      "execution_count": null,
      "outputs": [
        {
          "output_type": "stream",
          "text": [
            "(2+3j)\n",
            "<class 'complex'>\n"
          ],
          "name": "stdout"
        }
      ]
    },
    {
      "cell_type": "code",
      "metadata": {
        "id": "-mMyV4BcrHgh",
        "colab_type": "code",
        "colab": {
          "base_uri": "https://localhost:8080/",
          "height": 34
        },
        "outputId": "ad368c0f-70e2-41a2-e9b2-79a7c2f42a83"
      },
      "source": [
        "a = complex (2, 3)\n",
        "a"
      ],
      "execution_count": null,
      "outputs": [
        {
          "output_type": "execute_result",
          "data": {
            "text/plain": [
              "(2+3j)"
            ]
          },
          "metadata": {
            "tags": []
          },
          "execution_count": 32
        }
      ]
    },
    {
      "cell_type": "code",
      "metadata": {
        "id": "V3TpMKiE3-zT",
        "colab_type": "code",
        "colab": {
          "base_uri": "https://localhost:8080/",
          "height": 50
        },
        "outputId": "059414fa-0957-4979-d07b-3eff964adba3"
      },
      "source": [
        "b = 3 + 3j\n",
        "print (a + b)\n",
        "print (a - b)"
      ],
      "execution_count": null,
      "outputs": [
        {
          "output_type": "stream",
          "text": [
            "(5+6j)\n",
            "(-1+0j)\n"
          ],
          "name": "stdout"
        }
      ]
    },
    {
      "cell_type": "code",
      "metadata": {
        "id": "UObdGk8P4IZq",
        "colab_type": "code",
        "colab": {
          "base_uri": "https://localhost:8080/",
          "height": 67
        },
        "outputId": "a4ed4f12-d156-4929-9791-ad9f698ac2ff"
      },
      "source": [
        "print (a)\n",
        "print (b)\n",
        "print (a * b)"
      ],
      "execution_count": null,
      "outputs": [
        {
          "output_type": "stream",
          "text": [
            "(2+3j)\n",
            "(3+3j)\n",
            "(-3+15j)\n"
          ],
          "name": "stdout"
        }
      ]
    },
    {
      "cell_type": "code",
      "metadata": {
        "id": "2DB2nhW04U1j",
        "colab_type": "code",
        "colab": {
          "base_uri": "https://localhost:8080/",
          "height": 50
        },
        "outputId": "9b9a468b-002d-49dd-a2c5-e5b611f9e931"
      },
      "source": [
        "z = 2 + 3j\n",
        "print (z.real)\n",
        "print (z.imag)"
      ],
      "execution_count": null,
      "outputs": [
        {
          "output_type": "stream",
          "text": [
            "2.0\n",
            "3.0\n"
          ],
          "name": "stdout"
        }
      ]
    },
    {
      "cell_type": "code",
      "metadata": {
        "id": "x2z-1QFNYQjO",
        "colab_type": "code",
        "colab": {
          "base_uri": "https://localhost:8080/",
          "height": 35
        },
        "outputId": "c4766741-d480-4673-9d76-efedb5eb8ed1"
      },
      "source": [
        "2 +3j - 3j"
      ],
      "execution_count": null,
      "outputs": [
        {
          "output_type": "execute_result",
          "data": {
            "text/plain": [
              "(2+0j)"
            ]
          },
          "metadata": {
            "tags": []
          },
          "execution_count": 10
        }
      ]
    },
    {
      "cell_type": "markdown",
      "metadata": {
        "id": "PuOciXgB4pZT",
        "colab_type": "text"
      },
      "source": [
        "複素数の共役 (きょうやく) は、実部は同じで、虚部は符号が反対になる。\n",
        "\n",
        "`conjugate()` メソッドで得ることができる。"
      ]
    },
    {
      "cell_type": "code",
      "metadata": {
        "id": "Cm-7HOyg49Ru",
        "colab_type": "code",
        "colab": {
          "base_uri": "https://localhost:8080/",
          "height": 50
        },
        "outputId": "94bfb7b5-5f86-444a-8e53-8395fd702810"
      },
      "source": [
        "print (z)\n",
        "print (z.conjugate())"
      ],
      "execution_count": null,
      "outputs": [
        {
          "output_type": "stream",
          "text": [
            "(2+3j)\n",
            "(2-3j)\n"
          ],
          "name": "stdout"
        }
      ]
    },
    {
      "cell_type": "markdown",
      "metadata": {
        "id": "HekJa2p78GvD",
        "colab_type": "text"
      },
      "source": [
        ""
      ]
    },
    {
      "cell_type": "markdown",
      "metadata": {
        "id": "2ZoX-wSC5Ytv",
        "colab_type": "text"
      },
      "source": [
        "実数部と虚数部はどちらも浮動小数点数。\n",
        "\n",
        "実数部と虚数部を使用して、次の式で複素数の大きさを計算できる。"
      ]
    },
    {
      "cell_type": "code",
      "metadata": {
        "id": "b0tYMFV65XiP",
        "colab_type": "code",
        "colab": {
          "base_uri": "https://localhost:8080/",
          "height": 34
        },
        "outputId": "d8caadd3-cc9e-4ad4-a1ba-827dfa087a15"
      },
      "source": [
        "(z.real ** 2 + z.imag ** 2) ** 0.5"
      ],
      "execution_count": null,
      "outputs": [
        {
          "output_type": "execute_result",
          "data": {
            "text/plain": [
              "3.605551275463989"
            ]
          },
          "metadata": {
            "tags": []
          },
          "execution_count": 39
        }
      ]
    },
    {
      "cell_type": "markdown",
      "metadata": {
        "id": "ye-6i5wW5zJi",
        "colab_type": "text"
      },
      "source": [
        "`abs()` 関数は実数の場合は絶対値を返すが、複素数の場合は大きさを返す。\n",
        "\n",
        "上記の式と同じ結果になる。\n"
      ]
    },
    {
      "cell_type": "code",
      "metadata": {
        "id": "t2aKnFZO6LDs",
        "colab_type": "code",
        "colab": {
          "base_uri": "https://localhost:8080/",
          "height": 34
        },
        "outputId": "e19183f3-30f7-4067-c3ae-bf1350598bd9"
      },
      "source": [
        "abs(z)"
      ],
      "execution_count": null,
      "outputs": [
        {
          "output_type": "execute_result",
          "data": {
            "text/plain": [
              "3.605551275463989"
            ]
          },
          "metadata": {
            "tags": []
          },
          "execution_count": 40
        }
      ]
    },
    {
      "cell_type": "markdown",
      "metadata": {
        "id": "DwMnXBMI6ZbE",
        "colab_type": "text"
      },
      "source": [
        "標準ライブラリの  cmath モジュールは、複素数を処理するために他の多くの特殊な関数へのアクセスを提供する。 cmath  は  complex math の意味。"
      ]
    },
    {
      "cell_type": "markdown",
      "metadata": {
        "id": "Reyv7XoaZI7Z",
        "colab_type": "text"
      },
      "source": [
        "# ユーザー入力"
      ]
    },
    {
      "cell_type": "code",
      "metadata": {
        "id": "xskH4Hqf6wdS",
        "colab_type": "code",
        "colab": {
          "base_uri": "https://localhost:8080/",
          "height": 67
        },
        "outputId": "6d803dd4-f9e5-4538-fe5e-94be6c095ae4"
      },
      "source": [
        "# a = input()\n",
        "# print (a)\n",
        "# print (type(a))"
      ],
      "execution_count": null,
      "outputs": [
        {
          "output_type": "stream",
          "text": [
            "3\n",
            "3\n",
            "<class 'str'>\n"
          ],
          "name": "stdout"
        }
      ]
    },
    {
      "cell_type": "markdown",
      "metadata": {
        "id": "oMTSS3t96-uS",
        "colab_type": "text"
      },
      "source": [
        "Colabでも上記のようにするとユーザー・インプットを得ることができるが、プログラムが止まるのであまり使いみちがないような気がする。\n",
        "\n",
        "`input()`関数で得られるのは文字列なので、数字の場合は `int()`関数などで変換する必要がある。"
      ]
    },
    {
      "cell_type": "code",
      "metadata": {
        "id": "4EDVCZNV7kqQ",
        "colab_type": "code",
        "colab": {
          "base_uri": "https://localhost:8080/",
          "height": 50
        },
        "outputId": "bed6365d-1169-4351-a827-8c7448bfd8e6"
      },
      "source": [
        "a = '1'\n",
        "print (int(a) + 1)\n",
        "print (float(a) + 1)"
      ],
      "execution_count": null,
      "outputs": [
        {
          "output_type": "stream",
          "text": [
            "2\n",
            "2.0\n"
          ],
          "name": "stdout"
        }
      ]
    },
    {
      "cell_type": "code",
      "metadata": {
        "id": "PLQYXgmV76ER",
        "colab_type": "code",
        "colab": {
          "base_uri": "https://localhost:8080/",
          "height": 34
        },
        "outputId": "dfa85e81-1fc9-484e-e2d0-94aa3e8ccb99"
      },
      "source": [
        "# int('2.0') # これはエラーになるので\n",
        "int(float('2.0'))"
      ],
      "execution_count": null,
      "outputs": [
        {
          "output_type": "execute_result",
          "data": {
            "text/plain": [
              "2"
            ]
          },
          "metadata": {
            "tags": []
          },
          "execution_count": 46
        }
      ]
    },
    {
      "cell_type": "markdown",
      "metadata": {
        "id": "b7t2vZ_S8XzR",
        "colab_type": "text"
      },
      "source": [
        "'3/4' が入力されると `float()` でも `int()` でもエラーになる。\n",
        "\n",
        "ユーザー入力をエラーなしにするためには、\n",
        "\n",
        "`try ... except` ブロックで扱う必要がある。"
      ]
    },
    {
      "cell_type": "markdown",
      "metadata": {
        "id": "xf9pMX2Q8-T6",
        "colab_type": "text"
      },
      "source": [
        "# 例外処理 exception\n",
        "\n",
        "基本的な考え方は次のとおり。\n",
        "\n",
        "`try... except` ブロックで1つ以上の文 statement を実行し、実行中にエラーが発生しても、プログラムはクラッシュせず、代わりに、処理は except ブロックに転送される。ここで、適切な操作を実行できる。"
      ]
    },
    {
      "cell_type": "code",
      "metadata": {
        "id": "4PODYTu_9zPN",
        "colab_type": "code",
        "colab": {
          "base_uri": "https://localhost:8080/",
          "height": 70
        },
        "outputId": "477d6168-22c6-43df-cdf3-9eb541c366bb"
      },
      "source": [
        "# try:\n",
        "#     a = float(input('Enter a number: '))\n",
        "# except ValueError:\n",
        "#     print ('You entered an invalid number')"
      ],
      "execution_count": null,
      "outputs": [
        {
          "output_type": "stream",
          "text": [
            "Enter a number: 3/4\n",
            "You entered an invalid number\n"
          ],
          "name": "stdout"
        }
      ]
    },
    {
      "cell_type": "markdown",
      "metadata": {
        "id": "djnkWVw2-arS",
        "colab_type": "text"
      },
      "source": [
        "`try ... except` ブロックで例外を扱うには、例外の種類を特定する必要がある。\n",
        "\n",
        "上記の場合、ValueError を指定した。"
      ]
    },
    {
      "cell_type": "code",
      "metadata": {
        "id": "SkXtTSFq_X0U",
        "colab_type": "code",
        "colab": {
          "base_uri": "https://localhost:8080/",
          "height": 50
        },
        "outputId": "49480bbd-80f2-4c18-c76a-a62974ca4fcd"
      },
      "source": [
        "print (1.0.is_integer())\n",
        "print (1.1.is_integer())"
      ],
      "execution_count": null,
      "outputs": [
        {
          "output_type": "stream",
          "text": [
            "True\n",
            "False\n"
          ],
          "name": "stdout"
        }
      ]
    },
    {
      "cell_type": "code",
      "metadata": {
        "id": "WDjXOnsq_vxx",
        "colab_type": "code",
        "colab": {
          "base_uri": "https://localhost:8080/",
          "height": 34
        },
        "outputId": "183a3583-272f-45bd-ac9a-31a3ec76aad5"
      },
      "source": [
        "Fraction ('3/4')"
      ],
      "execution_count": null,
      "outputs": [
        {
          "output_type": "execute_result",
          "data": {
            "text/plain": [
              "Fraction(3, 4)"
            ]
          },
          "metadata": {
            "tags": []
          },
          "execution_count": 56
        }
      ]
    },
    {
      "cell_type": "code",
      "metadata": {
        "id": "csSxkkQs_58d",
        "colab_type": "code",
        "colab": {
          "base_uri": "https://localhost:8080/",
          "height": 34
        },
        "outputId": "457a85a4-0fc8-439f-d6b3-cdf6d201bcbd"
      },
      "source": [
        "Fraction (3, 4)"
      ],
      "execution_count": null,
      "outputs": [
        {
          "output_type": "execute_result",
          "data": {
            "text/plain": [
              "Fraction(3, 4)"
            ]
          },
          "metadata": {
            "tags": []
          },
          "execution_count": 57
        }
      ]
    },
    {
      "cell_type": "code",
      "metadata": {
        "id": "FpkC8_4cADpM",
        "colab_type": "code",
        "colab": {
          "base_uri": "https://localhost:8080/",
          "height": 34
        },
        "outputId": "9d70996b-76cb-4606-d00d-9a17523afbba"
      },
      "source": [
        "print (Fraction (3, 4))"
      ],
      "execution_count": null,
      "outputs": [
        {
          "output_type": "stream",
          "text": [
            "3/4\n"
          ],
          "name": "stdout"
        }
      ]
    },
    {
      "cell_type": "code",
      "metadata": {
        "id": "6vQxvNh1AZKp",
        "colab_type": "code",
        "colab": {
          "base_uri": "https://localhost:8080/",
          "height": 35
        },
        "outputId": "d7985825-bcca-4540-fb2a-a5c73f1ad952"
      },
      "source": [
        "complex ('2+3j') # '2 + 3j' は `ValueError` スペースがじゃまでエラーになる"
      ],
      "execution_count": null,
      "outputs": [
        {
          "output_type": "execute_result",
          "data": {
            "text/plain": [
              "(2+3j)"
            ]
          },
          "metadata": {
            "tags": []
          },
          "execution_count": 4
        }
      ]
    },
    {
      "cell_type": "markdown",
      "metadata": {
        "id": "0poLjJfkSXRD",
        "colab_type": "text"
      },
      "source": [
        "# 因数 Factor"
      ]
    },
    {
      "cell_type": "code",
      "metadata": {
        "id": "xRRgNYZESfHD",
        "colab_type": "code",
        "colab": {
          "base_uri": "https://localhost:8080/",
          "height": 50
        },
        "outputId": "2c3e7b5a-6ece-4d7c-9fa4-17be038e0b30"
      },
      "source": [
        "def is_factor (a, b):\n",
        "    if b % a == 0:\n",
        "        return True\n",
        "    else:\n",
        "        return False\n",
        "\n",
        "print (is_factor(4, 1024))\n",
        "print (1024 % 4 == 0)"
      ],
      "execution_count": null,
      "outputs": [
        {
          "output_type": "stream",
          "text": [
            "True\n",
            "True\n"
          ],
          "name": "stdout"
        }
      ]
    },
    {
      "cell_type": "markdown",
      "metadata": {
        "id": "rJ3-8faKTGZE",
        "colab_type": "text"
      },
      "source": [
        "### range"
      ]
    },
    {
      "cell_type": "code",
      "metadata": {
        "id": "msXfR-z-TFwD",
        "colab_type": "code",
        "colab": {
          "base_uri": "https://localhost:8080/",
          "height": 67
        },
        "outputId": "c7880d06-371e-4d80-e674-0e90625ee380"
      },
      "source": [
        "for i in range (1, 4):\n",
        "    print (i)"
      ],
      "execution_count": null,
      "outputs": [
        {
          "output_type": "stream",
          "text": [
            "1\n",
            "2\n",
            "3\n"
          ],
          "name": "stdout"
        }
      ]
    },
    {
      "cell_type": "code",
      "metadata": {
        "id": "bJpnOfdZTeH1",
        "colab_type": "code",
        "colab": {
          "base_uri": "https://localhost:8080/",
          "height": 101
        },
        "outputId": "131f8c30-49c2-48db-a689-c2f83c033715"
      },
      "source": [
        "for i in range (1, 10, 2):\n",
        "    print (i)"
      ],
      "execution_count": null,
      "outputs": [
        {
          "output_type": "stream",
          "text": [
            "1\n",
            "3\n",
            "5\n",
            "7\n",
            "9\n"
          ],
          "name": "stdout"
        }
      ]
    },
    {
      "cell_type": "code",
      "metadata": {
        "id": "OKVipfn6UDtL",
        "colab_type": "code",
        "colab": {
          "base_uri": "https://localhost:8080/",
          "height": 67
        },
        "outputId": "f4c5bcc5-a67b-4943-b397-ac6be3673042"
      },
      "source": [
        "def factors(b):\n",
        "    ''' Find the factors of an integer '''\n",
        "    for i in range (1, b+1):\n",
        "        if b % i == 0:\n",
        "            print (i)\n",
        "\n",
        "factors (25)"
      ],
      "execution_count": null,
      "outputs": [
        {
          "output_type": "stream",
          "text": [
            "1\n",
            "5\n",
            "25\n"
          ],
          "name": "stdout"
        }
      ]
    },
    {
      "cell_type": "code",
      "metadata": {
        "id": "O_QTyLScVj_Q",
        "colab_type": "code",
        "colab": {
          "base_uri": "https://localhost:8080/",
          "height": 34
        },
        "outputId": "c8175cac-df8d-4543-f4ab-cdabbd47c615"
      },
      "source": [
        "### format\n",
        "item1 = 'apples'\n",
        "item2 = 'bananas'\n",
        "item3 = 'grapes'\n",
        "\n",
        "print('At the grocery store, I bought some {2} and {2} and {1}'.format(item1, item2, item3))"
      ],
      "execution_count": null,
      "outputs": [
        {
          "output_type": "stream",
          "text": [
            "At the grocery store, I bought some grapes and grapes and bananas\n"
          ],
          "name": "stdout"
        }
      ]
    },
    {
      "cell_type": "code",
      "metadata": {
        "id": "NkMgeNOBWNaB",
        "colab_type": "code",
        "colab": {
          "base_uri": "https://localhost:8080/",
          "height": 34
        },
        "outputId": "abe84530-dd04-416b-f84d-b6e0a15cda96"
      },
      "source": [
        "print('Number 1: {0} Number 2: {1} '.format(1, 3.578))"
      ],
      "execution_count": null,
      "outputs": [
        {
          "output_type": "stream",
          "text": [
            "Number 1: 1 Number 2: 3.578 \n"
          ],
          "name": "stdout"
        }
      ]
    },
    {
      "cell_type": "markdown",
      "metadata": {
        "id": "qQqdKEx8WWBk",
        "colab_type": "text"
      },
      "source": [
        "# 掛け算表 Multiplication table"
      ]
    },
    {
      "cell_type": "code",
      "metadata": {
        "id": "omgzGTG0WcQP",
        "colab_type": "code",
        "colab": {
          "base_uri": "https://localhost:8080/",
          "height": 185
        },
        "outputId": "2ade5afc-a302-4e77-f721-3f1cb0b32f81"
      },
      "source": [
        "# multiplication table printer\n",
        "def multi_table(a):\n",
        "    for i in range(1, 11):\n",
        "        print('{0} x {1} = {2}'.format(a, i, a*i))\n",
        "\n",
        "a = 5\n",
        "multi_table(float(a))"
      ],
      "execution_count": null,
      "outputs": [
        {
          "output_type": "stream",
          "text": [
            "5.0 x 1 = 5.0\n",
            "5.0 x 2 = 10.0\n",
            "5.0 x 3 = 15.0\n",
            "5.0 x 4 = 20.0\n",
            "5.0 x 5 = 25.0\n",
            "5.0 x 6 = 30.0\n",
            "5.0 x 7 = 35.0\n",
            "5.0 x 8 = 40.0\n",
            "5.0 x 9 = 45.0\n",
            "5.0 x 10 = 50.0\n"
          ],
          "name": "stdout"
        }
      ]
    },
    {
      "cell_type": "code",
      "metadata": {
        "id": "s0KsvnItU_BA",
        "colab_type": "code",
        "colab": {
          "base_uri": "https://localhost:8080/",
          "height": 67
        },
        "outputId": "56f93b10-ac3a-4c3b-b918-7b91a5596207"
      },
      "source": [
        "print ('{0:.2f}'.format(1.25456))\n",
        "print ('{0:.2f}'.format(1.2555))\n",
        "print ('{0:.2f}'.format(1))"
      ],
      "execution_count": null,
      "outputs": [
        {
          "output_type": "stream",
          "text": [
            "1.25\n",
            "1.26\n",
            "1.00\n"
          ],
          "name": "stdout"
        }
      ]
    },
    {
      "cell_type": "markdown",
      "metadata": {
        "id": "Kwmp7GKge1J1",
        "colab_type": "text"
      },
      "source": [
        "# いまここ"
      ]
    },
    {
      "cell_type": "markdown",
      "metadata": {
        "id": "yMCqOQzZVlZ0",
        "colab_type": "text"
      },
      "source": [
        "# 測定単位変換 converting units of measurement\n",
        "\n",
        "長さ、時間、質量、温度の国際的な測定単位は、メートル、秒、キログラム、およびケルビンと定められている。\n",
        "\n",
        "しかし!!!!\n",
        "\n",
        "例えば音頭は 303.15 ケルビンと言わず、華氏 86 度とか、摂氏 30 度とか言う。比較のためには測定単位を同じにする変換を行わなければならない。\n",
        "\n",
        "まず、長さのインチとマイルの変換のプログラムを作ろう。\n",
        "\n",
        "1 インチは 2.54 センチメートル。100 で割ればメートルになる。\n",
        "\n",
        "例えば 25.5 インチは\n",
        "\n",
        "(25.5 * 2.54) / 100\n",
        "\n",
        "\n"
      ]
    },
    {
      "cell_type": "code",
      "metadata": {
        "id": "zi5hA5mSX0JX",
        "colab_type": "code",
        "colab": {
          "base_uri": "https://localhost:8080/",
          "height": 34
        },
        "outputId": "b672a910-a8d9-4dce-e5d6-777e032d4883"
      },
      "source": [
        "(25.5 * 2.54) / 100"
      ],
      "execution_count": null,
      "outputs": [
        {
          "output_type": "execute_result",
          "data": {
            "text/plain": [
              "0.6476999999999999"
            ]
          },
          "metadata": {
            "tags": []
          },
          "execution_count": 5
        }
      ]
    },
    {
      "cell_type": "markdown",
      "metadata": {
        "id": "aDsrWkX2X34V",
        "colab_type": "text"
      },
      "source": [
        "で、0.6476999999999999 メートルである。\n",
        "\n",
        "1 マイルは 1.609 キロメートルなので、目的地が 650 マイル先ならば\n",
        "\n",
        "650 * 1.609 "
      ]
    },
    {
      "cell_type": "code",
      "metadata": {
        "id": "VF0zjkvaYLib",
        "colab_type": "code",
        "colab": {
          "base_uri": "https://localhost:8080/",
          "height": 34
        },
        "outputId": "4fd040ec-6a8d-42b1-d001-42a7f901ba86"
      },
      "source": [
        "650 * 1.609 "
      ],
      "execution_count": null,
      "outputs": [
        {
          "output_type": "execute_result",
          "data": {
            "text/plain": [
              "1045.85"
            ]
          },
          "metadata": {
            "tags": []
          },
          "execution_count": 6
        }
      ]
    },
    {
      "cell_type": "markdown",
      "metadata": {
        "id": "zEsJKckAYNpL",
        "colab_type": "text"
      },
      "source": [
        "で 1045.85 キロメートルであることがわかる。\n",
        "\n",
        "さて、温度は、次の式で表される。\n",
        "\n",
        "$$\n",
        "C = (F - 32) \\times \\frac{5}{9}\n",
        "$$"
      ]
    },
    {
      "cell_type": "code",
      "metadata": {
        "id": "L0yfwPvpZBSK",
        "colab_type": "code",
        "colab": {
          "base_uri": "https://localhost:8080/",
          "height": 51
        },
        "outputId": "f185bdbf-ab5b-4578-f2e7-d3486347f250"
      },
      "source": [
        "%%latex\n",
        "\\displaystyle\n",
        "\n",
        "C = (F - 32) \\times \\frac{5}{9}"
      ],
      "execution_count": null,
      "outputs": [
        {
          "output_type": "display_data",
          "data": {
            "text/latex": "\\displaystyle\n\nC = (F - 32) \\times \\frac{5}{9}",
            "text/plain": [
              "<IPython.core.display.Latex object>"
            ]
          },
          "metadata": {
            "tags": []
          }
        }
      ]
    },
    {
      "cell_type": "markdown",
      "metadata": {
        "id": "-YVESXHg2LaR",
        "colab_type": "text"
      },
      "source": [
        "ここで `F` は華氏、`C` は摂氏である。  \n",
        "\n",
        "華氏で98.6度はヒトの平均体温と言われるがこれを摂氏では何度か。"
      ]
    },
    {
      "cell_type": "code",
      "metadata": {
        "id": "dqLQSvmKZ0oW",
        "colab_type": "code",
        "colab": {
          "base_uri": "https://localhost:8080/",
          "height": 34
        },
        "outputId": "9c4deff1-ec5d-4a0d-9cf5-8592a0c31012"
      },
      "source": [
        "F = 98.6\n",
        "\n",
        "(F - 32) * 5 / 9"
      ],
      "execution_count": null,
      "outputs": [
        {
          "output_type": "execute_result",
          "data": {
            "text/plain": [
              "37.0"
            ]
          },
          "metadata": {
            "tags": []
          },
          "execution_count": 1
        }
      ]
    },
    {
      "cell_type": "markdown",
      "metadata": {
        "id": "pdJczQY-2pf1",
        "colab_type": "text"
      },
      "source": [
        "まず、変数 `F` を作り98.6度を代入する。\n",
        "\n",
        "次に摂氏に変換する数式を評価する。\n",
        "\n",
        "逆もやってみよう。摂氏から華氏への変換である。"
      ]
    },
    {
      "cell_type": "code",
      "metadata": {
        "id": "sw_Ml0Qv2_fw",
        "colab_type": "code",
        "colab": {
          "base_uri": "https://localhost:8080/",
          "height": 34
        },
        "outputId": "67f02c21-738f-4b39-9910-6d2b42e8624a"
      },
      "source": [
        "C = 37\n",
        "C * (9 / 5) + 32"
      ],
      "execution_count": null,
      "outputs": [
        {
          "output_type": "execute_result",
          "data": {
            "text/plain": [
              "98.60000000000001"
            ]
          },
          "metadata": {
            "tags": []
          },
          "execution_count": 2
        }
      ]
    },
    {
      "cell_type": "markdown",
      "metadata": {
        "id": "dVmn_xsI3HNU",
        "colab_type": "text"
      },
      "source": [
        "単位変換プログラムをつくる。"
      ]
    },
    {
      "cell_type": "code",
      "metadata": {
        "id": "pkdaIR7j3kGo",
        "colab_type": "code",
        "colab": {
          "base_uri": "https://localhost:8080/",
          "height": 50
        },
        "outputId": "cacf7c51-f093-4c1e-940c-df972cf4d215"
      },
      "source": [
        "def km_miles(km):\n",
        "    miles = km / 1.609\n",
        "    return miles\n",
        "\n",
        "def miles_km(miles):\n",
        "    km = miles * 1.609\n",
        "    return km\n",
        "\n",
        "miles = 650\n",
        "print (miles_km(miles))\n",
        "\n",
        "km = 1000\n",
        "print (km_miles(km))"
      ],
      "execution_count": null,
      "outputs": [
        {
          "output_type": "stream",
          "text": [
            "1045.85\n",
            "621.5040397762585\n"
          ],
          "name": "stdout"
        }
      ]
    },
    {
      "cell_type": "markdown",
      "metadata": {
        "id": "LaaLULOh5USi",
        "colab_type": "text"
      },
      "source": [
        "# 二次方程式の根をみつける quadratic equation\n",
        "\n",
        "二次方程式は一般に次の形で表される。"
      ]
    },
    {
      "cell_type": "code",
      "metadata": {
        "id": "z6LwvBMF6Imn",
        "colab_type": "code",
        "colab": {
          "base_uri": "https://localhost:8080/",
          "height": 38
        },
        "outputId": "665c4503-084f-4445-a0b4-8e3d4b1c32ed"
      },
      "source": [
        "%%latex\n",
        "\n",
        "a x^2 + bx + c = 0"
      ],
      "execution_count": null,
      "outputs": [
        {
          "output_type": "display_data",
          "data": {
            "text/latex": "\na x^2 + bx + c = 0",
            "text/plain": [
              "<IPython.core.display.Latex object>"
            ]
          },
          "metadata": {
            "tags": []
          }
        }
      ]
    },
    {
      "cell_type": "markdown",
      "metadata": {
        "id": "ZhfdunLN6jZS",
        "colab_type": "text"
      },
      "source": [
        "二次方程式の根の公式は次のようなものである。"
      ]
    },
    {
      "cell_type": "code",
      "metadata": {
        "id": "RZ5fip9Y6vj_",
        "colab_type": "code",
        "colab": {
          "base_uri": "https://localhost:8080/",
          "height": 56
        },
        "outputId": "a7931306-0ce0-4f34-cdfe-063ddac297bb"
      },
      "source": [
        "%%latex\n",
        "\\displaystyle\n",
        "\n",
        "x = \\frac {- b \\pm \\sqrt{b^2 - 4ac}} {2a}"
      ],
      "execution_count": null,
      "outputs": [
        {
          "output_type": "display_data",
          "data": {
            "text/latex": "\\displaystyle\n\nx_1 = \\frac {- b \\pm \\sqrt{b^2 - 4ac}} {2a}",
            "text/plain": [
              "<IPython.core.display.Latex object>"
            ]
          },
          "metadata": {
            "tags": []
          }
        }
      ]
    },
    {
      "cell_type": "markdown",
      "metadata": {
        "id": "RCFVs3m87MF5",
        "colab_type": "text"
      },
      "source": [
        "二次方程式は一般に2個の根を持つ。どちらの解も元の二次方程式を満足させる。\n",
        "\n",
        "2つの根が同一の場合もある。\n",
        "\n",
        "定数部分、`a`、`b`、`c`を引数として解を計算するプログラムを作る。\n"
      ]
    },
    {
      "cell_type": "code",
      "metadata": {
        "id": "pnNx_lc18w6a",
        "colab_type": "code",
        "colab": {
          "base_uri": "https://localhost:8080/",
          "height": 50
        },
        "outputId": "e93bc92f-50f5-4e77-ff79-c6a8b83525d6"
      },
      "source": [
        "def roots(a, b, c):\n",
        "    '''Quadratic equation root calculator\n",
        "    '''\n",
        "    D = (b*b - 4*a*c)**0.5\n",
        "    x_1 = (-b + D) / (2 * a)\n",
        "    x_2 = (-b - D) / (2 * a)\n",
        "\n",
        "    return (x_1, x_2)\n",
        "\n",
        "a, b, c = 1, 2, 1\n",
        "\n",
        "solvedroot = roots(a, b, c)\n",
        "\n",
        "print ('x1: {}'.format(solvedroot[0]))\n",
        "print ('x2: {}'.format(solvedroot[1]))\n"
      ],
      "execution_count": null,
      "outputs": [
        {
          "output_type": "stream",
          "text": [
            "x1: -1.0\n",
            "x2: -1.0\n"
          ],
          "name": "stdout"
        }
      ]
    },
    {
      "cell_type": "markdown",
      "metadata": {
        "id": "7BiU9nPS-6La",
        "colab_type": "text"
      },
      "source": [
        "複素数 `complex number` が根となる場合がある。\n",
        "</br></br>\n",
        "$$\n",
        "x^2 + x + 1 = 0\n",
        "$$\n",
        "\n",
        "の場合でやってみる。\n"
      ]
    },
    {
      "cell_type": "code",
      "metadata": {
        "id": "ONidVnbh-bG9",
        "colab_type": "code",
        "colab": {
          "base_uri": "https://localhost:8080/",
          "height": 50
        },
        "outputId": "6e4e840f-ce22-48eb-8470-f81d1e84c58c"
      },
      "source": [
        "a, b, c = 1, 1, 1\n",
        "\n",
        "solvedroot = roots(a, b, c)\n",
        "\n",
        "print ('x1: {}'.format(solvedroot[0]))\n",
        "print ('x2: {}'.format(solvedroot[1]))"
      ],
      "execution_count": null,
      "outputs": [
        {
          "output_type": "stream",
          "text": [
            "x1: (-0.49999999999999994+0.8660254037844386j)\n",
            "x2: (-0.5-0.8660254037844386j)\n"
          ],
          "name": "stdout"
        }
      ]
    },
    {
      "cell_type": "markdown",
      "metadata": {
        "id": "gZ2NE_dv_JiB",
        "colab_type": "text"
      },
      "source": [
        "### 問題 1. even_odd \n",
        "\n",
        "与えられた数が偶数か奇数かと、それぞれの場合について、続く9つの偶数または奇数の数列を返す。\n",
        "\n",
        "input: 2\n",
        "output: even 2 4 6 8 10 12 14 16 18 20\n",
        "\n",
        "input: 1\n",
        "output: odd 1 3 5 7 9 11 13 15 17 19\n",
        "\n",
        "浮動小数点数の場合、is_integer() メソッドでエラーメッセージを出すこと。"
      ]
    },
    {
      "cell_type": "code",
      "metadata": {
        "id": "DwIhpwBOBGmR",
        "colab_type": "code",
        "colab": {
          "base_uri": "https://localhost:8080/",
          "height": 134
        },
        "outputId": "8d590a1e-1bf7-4115-9bc0-2e225fba5650"
      },
      "source": [
        "def even_odd_vending (num):\n",
        "    if (num % 2) == 0:\n",
        "        return ['even'] + [(x+num) for x in range(0,20,2)]\n",
        "    else :\n",
        "        return ['odd']  + [(x+num) for x in range(0,20,2)]\n",
        "\n",
        "\n",
        "def even_odd(num):\n",
        "    try:\n",
        "        if float(num).is_integer():\n",
        "            return (even_odd_vending(int(num)))\n",
        "        else:\n",
        "            return \"eerrroor\"\n",
        "    except ValueError:\n",
        "        return ('num is invalid')\n",
        "\n",
        "print(even_odd_vending(2))\n",
        "print(even_odd_vending(1))\n",
        "\n",
        "print (even_odd(1))\n",
        "print (even_odd(2))\n",
        "print (even_odd(2.5))\n",
        "print (even_odd(2.0))\n",
        "print (even_odd(\"two\"))\n"
      ],
      "execution_count": null,
      "outputs": [
        {
          "output_type": "stream",
          "text": [
            "['even', 2, 4, 6, 8, 10, 12, 14, 16, 18, 20]\n",
            "['odd', 1, 3, 5, 7, 9, 11, 13, 15, 17, 19]\n",
            "['odd', 1, 3, 5, 7, 9, 11, 13, 15, 17, 19]\n",
            "['even', 2, 4, 6, 8, 10, 12, 14, 16, 18, 20]\n",
            "eerrroor\n",
            "['even', 2, 4, 6, 8, 10, 12, 14, 16, 18, 20]\n",
            "num is invalid\n"
          ],
          "name": "stdout"
        }
      ]
    },
    {
      "cell_type": "markdown",
      "metadata": {
        "id": "5K3BkCU-NsGQ",
        "colab_type": "text"
      },
      "source": [
        "### 問題 2. 掛け算表の拡張\n",
        "\n",
        "掛け算表を拡張して、2つの引数をとり、最初の数 * 0,1, ..., 次の引数までの表とする。"
      ]
    },
    {
      "cell_type": "code",
      "metadata": {
        "colab_type": "code",
        "id": "wJjE9baHO7B2",
        "colab": {
          "base_uri": "https://localhost:8080/",
          "height": 269
        },
        "outputId": "8cffa936-60ce-4da0-dafa-a829e97b8524"
      },
      "source": [
        "# enhanced multiplication table printer \n",
        "def multi_table(a, b):\n",
        "    for i in range(1, b+1):\n",
        "        print('{0} x {1} = {2}'.format(a, i, a*i))\n",
        "\n",
        "a = 5\n",
        "b = 15\n",
        "multi_table(a, b)"
      ],
      "execution_count": null,
      "outputs": [
        {
          "output_type": "stream",
          "text": [
            "5 x 1 = 5\n",
            "5 x 2 = 10\n",
            "5 x 3 = 15\n",
            "5 x 4 = 20\n",
            "5 x 5 = 25\n",
            "5 x 6 = 30\n",
            "5 x 7 = 35\n",
            "5 x 8 = 40\n",
            "5 x 9 = 45\n",
            "5 x 10 = 50\n",
            "5 x 11 = 55\n",
            "5 x 12 = 60\n",
            "5 x 13 = 65\n",
            "5 x 14 = 70\n",
            "5 x 15 = 75\n"
          ],
          "name": "stdout"
        }
      ]
    },
    {
      "cell_type": "markdown",
      "metadata": {
        "id": "iUj8gkElPgHx",
        "colab_type": "text"
      },
      "source": [
        "### 問題 3. キログラムとポンドの重量単位変換プログラム\n",
        "\n",
        "1 ポンドは 0.453592キログラム\n",
        " "
      ]
    },
    {
      "cell_type": "code",
      "metadata": {
        "id": "AlWO745KQCN1",
        "colab_type": "code",
        "colab": {
          "base_uri": "https://localhost:8080/",
          "height": 50
        },
        "outputId": "49385789-1d52-4d8f-9cfd-03fa8b8a7a12"
      },
      "source": [
        "def pound_kg(pound) :\n",
        "    return pound * 0.453592\n",
        "\n",
        "def kg_pound(kg):\n",
        "    return kg / 0.453592\n",
        "\n",
        "print (pound_kg(1))\n",
        "print (f\"{kg_pound(1):.7}\")"
      ],
      "execution_count": null,
      "outputs": [
        {
          "output_type": "stream",
          "text": [
            "0.453592\n",
            "2.204624\n"
          ],
          "name": "stdout"
        }
      ]
    },
    {
      "cell_type": "markdown",
      "metadata": {
        "id": "b1S30FviQ_Is",
        "colab_type": "text"
      },
      "source": [
        "### 問題 4. 分数計算機"
      ]
    },
    {
      "cell_type": "code",
      "metadata": {
        "id": "vNbxtst7Rgfw",
        "colab_type": "code",
        "colab": {
          "base_uri": "https://localhost:8080/",
          "height": 34
        },
        "outputId": "b83be764-85d0-475d-9fa7-e821211faa03"
      },
      "source": [
        "from fractions import Fraction\n",
        "Fraction (3, 4) + Fraction(2, 3)"
      ],
      "execution_count": null,
      "outputs": [
        {
          "output_type": "execute_result",
          "data": {
            "text/plain": [
              "Fraction(17, 12)"
            ]
          },
          "metadata": {
            "tags": []
          },
          "execution_count": 70
        }
      ]
    },
    {
      "cell_type": "code",
      "metadata": {
        "id": "JKqwXEvYSVwf",
        "colab_type": "code",
        "colab": {
          "base_uri": "https://localhost:8080/",
          "height": 101
        },
        "outputId": "ebcc03ac-cabe-4ed4-baa4-7b459e8d1e71"
      },
      "source": [
        "print (Fraction(8,2))\n",
        "print (Fraction (3, 4) + Fraction(2, 3))\n",
        "print (Fraction (3, 4) - Fraction(2, 3))\n",
        "print (Fraction (3, 4) * Fraction(2, 3))\n",
        "print (Fraction (3, 4) / Fraction(2, 3))"
      ],
      "execution_count": null,
      "outputs": [
        {
          "output_type": "stream",
          "text": [
            "4\n",
            "17/12\n",
            "1/12\n",
            "1/2\n",
            "9/8\n"
          ],
          "name": "stdout"
        }
      ]
    },
    {
      "cell_type": "markdown",
      "metadata": {
        "id": "0BdBEwZtS6pw",
        "colab_type": "text"
      },
      "source": [
        "# グラフでのデータの視覚化\n",
        "\n",
        "* 数直線とデカルト平面\n",
        "* プロットライブラリmatplotlib\n",
        "* グラフ\n",
        "* ニュートンの重力法則と発射体軌跡\n",
        "\n",
        "を学ぶ。\n"
      ]
    },
    {
      "cell_type": "markdown",
      "metadata": {
        "id": "9DbS4cH3YOcs",
        "colab_type": "text"
      },
      "source": [
        "### 数直線\n",
        "\n",
        "数直線をmatplotlibで描きたい。\n"
      ]
    },
    {
      "cell_type": "code",
      "metadata": {
        "id": "-R9LURfzjHVM",
        "colab_type": "code",
        "colab": {
          "base_uri": "https://localhost:8080/",
          "height": 140
        },
        "outputId": "a021e31c-786d-4ebc-c1cc-bb0f3283e525"
      },
      "source": [
        "import matplotlib.pyplot as plt\n",
        "import numpy as np\n",
        "\n",
        "fig = plt.figure(figsize=(12,2))\n",
        "ax = fig.add_subplot(xlim=(-4,4), ylim=(0, 1.0))\n",
        "\n",
        "# blue arrow\n",
        "ax.arrow(-3.5, 0.5, 7, 0.0, head_width=0.1, head_length=0.15, linewidth=4, color='b', length_includes_head=True)\n",
        "ax.arrow(3.5, 0.5, -7, 0, head_width=0.1, head_length=0.15, linewidth=4, color='b', length_includes_head=True)\n",
        "\n",
        "x = [-3, -2, -1, 0, 1, 2, 3]\n",
        "y = [0.5, 0.5, 0.5, 0.5, 0.5, 0.5, 0.5]\n",
        "data_name = [\"-3\", \"-2\", \"-1\", \"0\", \"1\", \"2\", \"3\"]\n",
        "ax.plot(x, y, 'r|', ms=\"40\")\n",
        "\n",
        "xy = zip (x, y)\n",
        "xy_name = zip (xy, data_name)\n",
        "for (i, name) in zip (xy, data_name) :\n",
        "    ax.annotate(name,i, xycoords='data', xytext=(-7,-40), textcoords='offset points', fontsize=20)\n",
        "# for (i, j, name) in zip (x, y, data_name) :\n",
        "#     plt.text(i, j, name, fontsize=15, position=(i-0.05, j-0.2))\n",
        "\n",
        "ax.set_axis_off()\n",
        "plt.show()"
      ],
      "execution_count": null,
      "outputs": [
        {
          "output_type": "display_data",
          "data": {
            "image/png": "[encoded data removed]",
            "text/plain": [
              "<Figure size 864x144 with 1 Axes>"
            ]
          },
          "metadata": {
            "tags": [],
            "needs_background": "light"
          }
        }
      ]
    },
    {
      "cell_type": "markdown",
      "metadata": {
        "id": "NFBrm3giYW20",
        "colab_type": "text"
      },
      "source": [
        "# デカルト平面を理解する\n",
        "\n",
        "数直線は直感的にいくつかの性質を表している。たとえば、ゼロの右側はすべて正で、左側は負であること。数字 $a$ が数字 $b$ の右側にあればかならず $a$ が $b$ より大きく、$b$ は $a$ より小さい。両端の矢印は数直線が永遠に続き、線上のすべての点はどこまで行っても実数を表している。数字は1つで線上の1点に対応する。\n",
        "\n",
        "次の図では数直線がそれぞれの 0点で交差している。これをデカルト平面もしくはx-y平面と呼び、水平の数直線をx軸、垂直の数直線をy軸と呼ぶ。"
      ]
    },
    {
      "cell_type": "markdown",
      "metadata": {
        "id": "p1T20lMwkBi1",
        "colab_type": "text"
      },
      "source": [
        "デカルト平面では1つの数値ではなく、2つの数値で点を表す。\n",
        "記述します。図の点Aを2つの数値x、yで表し、（x、y）と書き、点の座標 `coordinates`と呼ぶ。"
      ]
    },
    {
      "cell_type": "code",
      "metadata": {
        "id": "bLvIfDyMeZ2f",
        "colab_type": "code",
        "colab": {
          "base_uri": "https://localhost:8080/",
          "height": 357
        },
        "outputId": "95e38d4c-f7a7-413e-cb5d-15629e63aef4"
      },
      "source": [
        "import matplotlib.pyplot as plt\n",
        "import numpy as np\n",
        "\n",
        "fig = plt.figure(figsize=(6,6))\n",
        "ax = fig.add_subplot(xlim=(-4,4), ylim=(-4, 4))\n",
        "\n",
        "# arrows\n",
        "ax.arrow(-3.5, 0.0, 7, 0.0, head_width=0.1, head_length=0.15, linewidth=4, color='b', length_includes_head=True)\n",
        "ax.arrow(3.5, 0.0, -7, 0, head_width=0.1, head_length=0.15, linewidth=4, color='b', length_includes_head=True)\n",
        "ax.arrow(0.0, -3.5, 0.0, 7.0, head_width=0.1, head_length=0.15, linewidth=4, color='b', length_includes_head=True)\n",
        "ax.arrow(0.0, 3.5, 0.0, -7.0, head_width=0.1, head_length=0.15, linewidth=4, color='b', length_includes_head=True)\n",
        "\n",
        "x1 = [-3, -2, -1, 1, 2, 3]\n",
        "y1 = [0.0, 0.0, 0.0, 0.0, 0.0, 0.0]\n",
        "data_name = [\"-3\", \"-2\", \"-1\", \"1\", \"2\", \"3\"]\n",
        "ax.plot(x1, y1, 'r|', ms=\"20\")\n",
        "\n",
        "x2 = [0,0,0,0,0,0]\n",
        "y2 = [-3,-2,-1,1,2,3]\n",
        "ax.plot(x2, y2, 'r_', ms=\"20\")\n",
        "ax.plot(2,2,\"ro\")\n",
        "ax.plot(0,0,\"ro\")\n",
        "\n",
        "for (i, j, name) in zip (x1, y1, data_name) :\n",
        "    ax.text(i, j, name, fontsize=15, position=(i-0.1, j-0.6))\n",
        "for (i, j, name) in zip (x2, y2, data_name) :\n",
        "    ax.text(i, j, name, fontsize=15, position=(i-0.5, j - 0.1))\n",
        "ax.annotate(\"Origin\",xy=(-0.2,0.2), xytext=(-2,2), ha='center', fontsize=15, arrowprops={'arrowstyle':'->'})\n",
        "ax.annotate(\"\",xy=(2,0), xytext=(2,2), arrowprops={'arrowstyle':'<->', 'ls':'dashed'})\n",
        "ax.annotate(\"\",xy=(0,2), xytext=(2,2), arrowprops={'arrowstyle':'<->', 'ls':'dashed'})\n",
        "ax.text(3.8,-0.2,\"$x$\",fontsize=15)\n",
        "ax.text(0.3,3.5,\"$y$\",fontsize=15)\n",
        "ax.text(2.2,2.0,\"$A (x, y)$\", fontsize=15)\n",
        "ax.set_axis_off()\n",
        "plt.show()\n"
      ],
      "execution_count": null,
      "outputs": [
        {
          "output_type": "display_data",
          "data": {
            "image/png": "[encoded data removed]",
            "text/plain": [
              "<Figure size 432x432 with 1 Axes>"
            ]
          },
          "metadata": {
            "tags": [],
            "needs_background": "light"
          }
        }
      ]
    },
    {
      "cell_type": "markdown",
      "metadata": {
        "id": "98FwM9_1kyow",
        "colab_type": "text"
      },
      "source": [
        "### リストとタプル\n",
        "\n",
        "Pythonでリストとタプルはリストがイミュータブルでなく、変えられるのに対し、タプルはイミュータブルで変えられない、という違いがある。\n",
        "\n",
        "このテキストではx座標、y座標を表すのにリストを使う。タプルはグラフの`range`をカスタマイズする際に登場する。\n",
        "\n",
        "リストは鈎括弧`brackets`で作ることができる。要素はカンマで区切る。\n",
        "\n",
        "要素はインデクスでアクセスする。インデクスは0ベースである。\n",
        "\n"
      ]
    },
    {
      "cell_type": "code",
      "metadata": {
        "id": "6hdLTmZAl1Q-",
        "colab_type": "code",
        "colab": {
          "base_uri": "https://localhost:8080/",
          "height": 84
        },
        "outputId": "f7bcfcfc-5235-44af-d607-cd3c4cb60d5b"
      },
      "source": [
        "simplelist = [1, 2, 3]\n",
        "print (simplelist)\n",
        "print (simplelist[0])\n",
        "print (simplelist[1])\n",
        "print (simplelist[2])"
      ],
      "execution_count": null,
      "outputs": [
        {
          "output_type": "stream",
          "text": [
            "[1, 2, 3]\n",
            "1\n",
            "2\n",
            "3\n"
          ],
          "name": "stdout"
        }
      ]
    },
    {
      "cell_type": "code",
      "metadata": {
        "id": "qFs997ovmWQR",
        "colab_type": "code",
        "colab": {
          "base_uri": "https://localhost:8080/",
          "height": 50
        },
        "outputId": "58e59a67-b35c-442c-bc5a-526f4e24bd3c"
      },
      "source": [
        "stringlist = ['a string','b string','c string']\n",
        "emptylist = []\n",
        "print (stringlist[1])\n",
        "print (emptylist)"
      ],
      "execution_count": null,
      "outputs": [
        {
          "output_type": "stream",
          "text": [
            "b string\n",
            "[]\n"
          ],
          "name": "stdout"
        }
      ]
    },
    {
      "cell_type": "code",
      "metadata": {
        "id": "Vh-ZuCgUmrNi",
        "colab_type": "code",
        "colab": {
          "base_uri": "https://localhost:8080/",
          "height": 34
        },
        "outputId": "3680871f-1a00-4711-de0d-56c945c0efc7"
      },
      "source": [
        "emptylist = []\n",
        "emptylist.append(1) # in-place\n",
        "emptylist.append(\"two\")\n",
        "emptylist = emptylist + [3, 4]\n",
        "print (emptylist)"
      ],
      "execution_count": null,
      "outputs": [
        {
          "output_type": "stream",
          "text": [
            "[1, 'two', 3, 4]\n"
          ],
          "name": "stdout"
        }
      ]
    },
    {
      "cell_type": "markdown",
      "metadata": {
        "id": "Li36Lyc_SEVD",
        "colab_type": "text"
      },
      "source": [
        "タプルはカッコ `()` を使って作る。"
      ]
    },
    {
      "cell_type": "code",
      "metadata": {
        "id": "2jMK8rtPSI8k",
        "colab_type": "code",
        "colab": {
          "base_uri": "https://localhost:8080/",
          "height": 67
        },
        "outputId": "da145519-5b95-42d1-aabc-63c83e15a2eb"
      },
      "source": [
        "simpletuple = (1,2,3)\n",
        "print(simpletuple[0])\n",
        "print(simpletuple[1])\n",
        "print(simpletuple[2])"
      ],
      "execution_count": null,
      "outputs": [
        {
          "output_type": "stream",
          "text": [
            "1\n",
            "2\n",
            "3\n"
          ],
          "name": "stdout"
        }
      ]
    },
    {
      "cell_type": "code",
      "metadata": {
        "id": "FoYIvgqOSnuQ",
        "colab_type": "code",
        "colab": {
          "base_uri": "https://localhost:8080/",
          "height": 50
        },
        "outputId": "d6babfe1-765d-4850-f41b-0b7354cfb6a5"
      },
      "source": [
        "emptylist = []\n",
        "simpletuple = (1,2,3)\n",
        "print(simpletuple[-1]) # => 3\n",
        "# print(empltylist[-1]) => error!!!!\n",
        "# print (type(emptylist[-1])) => this is error too\n",
        "print (bool(emptylist)) # => false\n"
      ],
      "execution_count": null,
      "outputs": [
        {
          "output_type": "stream",
          "text": [
            "3\n",
            "False\n"
          ],
          "name": "stdout"
        }
      ]
    },
    {
      "cell_type": "markdown",
      "metadata": {
        "id": "_HJC4CFJTYWO",
        "colab_type": "text"
      },
      "source": [
        "# iterating"
      ]
    },
    {
      "cell_type": "code",
      "metadata": {
        "id": "LIk-nZpcTaqo",
        "colab_type": "code",
        "colab": {
          "base_uri": "https://localhost:8080/",
          "height": 67
        },
        "outputId": "1f876cd7-1c6a-443a-9f07-30793cfea1e2"
      },
      "source": [
        "l = [1,2,3]\n",
        "for item in l :\n",
        "    print(item)"
      ],
      "execution_count": null,
      "outputs": [
        {
          "output_type": "stream",
          "text": [
            "1\n",
            "2\n",
            "3\n"
          ],
          "name": "stdout"
        }
      ]
    },
    {
      "cell_type": "code",
      "metadata": {
        "id": "cfDaw695T0Ct",
        "colab_type": "code",
        "colab": {
          "base_uri": "https://localhost:8080/",
          "height": 67
        },
        "outputId": "40a9a401-b532-40a5-d3b2-22bc69a83ac7"
      },
      "source": [
        "l = [\"one\", \"two\", \"three\"]\n",
        "for index, item in enumerate(l) :\n",
        "    print(index, item)"
      ],
      "execution_count": null,
      "outputs": [
        {
          "output_type": "stream",
          "text": [
            "0 one\n",
            "1 two\n",
            "2 three\n"
          ],
          "name": "stdout"
        }
      ]
    },
    {
      "cell_type": "code",
      "metadata": {
        "id": "gGa9iaNyzOeo",
        "colab_type": "code",
        "colab": {
          "base_uri": "https://localhost:8080/",
          "height": 265
        },
        "outputId": "3db0abeb-47d9-4876-ba26-cd5af55ac4e1"
      },
      "source": [
        "import matplotlib.pyplot as plt\n",
        "import numpy as np\n",
        "\n",
        "x_numbers = [1,2,3]\n",
        "y_numbers = [2,4,6]\n",
        "fig = plt.figure()\n",
        "ax = fig.add_subplot()\n",
        "\n",
        "ax.plot(x_numbers, y_numbers, 'bo-')\n",
        "# ax.plot(x_numbers, y_numbers, marker='o')\n",
        "plt.show()"
      ],
      "execution_count": null,
      "outputs": [
        {
          "output_type": "display_data",
          "data": {
            "image/png": "[encoded data removed]",
            "text/plain": [
              "<Figure size 432x288 with 1 Axes>"
            ]
          },
          "metadata": {
            "tags": [],
            "needs_background": "light"
          }
        }
      ]
    },
    {
      "cell_type": "code",
      "metadata": {
        "id": "IbY0wwqFL4Ls",
        "colab_type": "code",
        "colab": {
          "base_uri": "https://localhost:8080/",
          "height": 265
        },
        "outputId": "2af7353e-88dd-46bd-b09a-057cf48ea270"
      },
      "source": [
        "import matplotlib.pyplot as plt\n",
        "import numpy as np\n",
        "\n",
        "nyc_temp = [53.9, 56.3, 56.4, 53.4, 54.5, 55.8, 56.8, 55.0, 55.3, 54.0, 56.7, 56.4, 57.3]\n",
        "years = range(2000, 2013)\n",
        "\n",
        "fig = plt.figure()\n",
        "ax = fig.add_subplot()\n",
        "\n",
        "ax.plot(years, nyc_temp, marker='o')\n",
        "\n",
        "plt.show()"
      ],
      "execution_count": null,
      "outputs": [
        {
          "output_type": "display_data",
          "data": {
            "image/png": "[encoded data removed]",
            "text/plain": [
              "<Figure size 432x288 with 1 Axes>"
            ]
          },
          "metadata": {
            "tags": [],
            "needs_background": "light"
          }
        }
      ]
    },
    {
      "cell_type": "code",
      "metadata": {
        "id": "d6JUERpTLH0u",
        "colab_type": "code",
        "colab": {
          "base_uri": "https://localhost:8080/",
          "height": 265
        },
        "outputId": "84965a52-fe73-4bbc-e6e0-c1c909387975"
      },
      "source": [
        "import matplotlib.pyplot as plt\n",
        "import numpy as np\n",
        "\n",
        "nyc_temp_2000 = [31.3, 37.3, 47.2, 51.0, 63.5, 71.3, 72.3, 72.7, 66.0, 57.0, 45.3, 31.1]\n",
        "nyc_temp_2006 = [40.9, 35.7, 43.1, 55.7, 63.1, 71.0, 77.9, 75.8, 66.6, 56.2, 51.9, 43.6]\n",
        "nyc_temp_2012 = [37.3, 40.9, 50.9, 54.8, 65.1, 71.0, 78.8, 76.7, 68.8, 58.0, 43.9, 41.5]\n",
        "\n",
        "fig = plt.figure()\n",
        "ax = fig.add_subplot()\n",
        "\n",
        "months = range (1,13)\n",
        "ax.plot(months, nyc_temp_2000, months, nyc_temp_2006, months, nyc_temp_2012)\n",
        "\n",
        "plt.show()"
      ],
      "execution_count": null,
      "outputs": [
        {
          "output_type": "display_data",
          "data": {
            "image/png": "[encoded data removed]",
            "text/plain": [
              "<Figure size 432x288 with 1 Axes>"
            ]
          },
          "metadata": {
            "tags": [],
            "needs_background": "light"
          }
        }
      ]
    },
    {
      "cell_type": "markdown",
      "metadata": {
        "id": "6cLUZJtIXnIX",
        "colab_type": "text"
      },
      "source": [
        "上の例ではひとつの `ax.plot()` で全部書いているが、3回書いても同じ。\n"
      ]
    },
    {
      "cell_type": "code",
      "metadata": {
        "id": "qBre4EoPWgvA",
        "colab_type": "code",
        "colab": {
          "base_uri": "https://localhost:8080/",
          "height": 295
        },
        "outputId": "af6b404e-ba35-40a1-b3e6-43409918b08f"
      },
      "source": [
        "import matplotlib.pyplot as plt\n",
        "import numpy as np\n",
        "\n",
        "nyc_temp_2000 = [31.3, 37.3, 47.2, 51.0, 63.5, 71.3, 72.3, 72.7, 66.0, 57.0, 45.3, 31.1]\n",
        "nyc_temp_2006 = [40.9, 35.7, 43.1, 55.7, 63.1, 71.0, 77.9, 75.8, 66.6, 56.2, 51.9, 43.6]\n",
        "nyc_temp_2012 = [37.3, 40.9, 50.9, 54.8, 65.1, 71.0, 78.8, 76.7, 68.8, 58.0, 43.9, 41.5]\n",
        "\n",
        "fig = plt.figure()\n",
        "ax = fig.add_subplot()\n",
        "# ax.axis(ymin=0,ymax=80)\n",
        "ax.axis([0,13,0,100])\n",
        "\n",
        "months = range (1,13)\n",
        "ax.plot(months, nyc_temp_2000)\n",
        "ax.plot(months, nyc_temp_2006)\n",
        "ax.plot(months, nyc_temp_2012)\n",
        "plt.title('Average monthly temperature in NYC')\n",
        "plt.xlabel('Month')\n",
        "plt.ylabel('Temperature')\n",
        "plt.legend([2000,2006,2012])\n",
        "plt.savefig('mygraph.svg')\n",
        "plt.show()"
      ],
      "execution_count": null,
      "outputs": [
        {
          "output_type": "display_data",
          "data": {
            "image/png": "[encoded data removed]",
            "text/plain": [
              "<Figure size 432x288 with 1 Axes>"
            ]
          },
          "metadata": {
            "tags": [],
            "needs_background": "light"
          }
        }
      ]
    },
    {
      "cell_type": "markdown",
      "metadata": {
        "id": "ijuCyVLfS8Gt",
        "colab_type": "text"
      },
      "source": [
        "`plt.savefig('mygraph.svg')` とすると、svg に書き出せる。"
      ]
    },
    {
      "cell_type": "code",
      "metadata": {
        "id": "WSTsgVExTbTW",
        "colab_type": "code",
        "colab": {
          "base_uri": "https://localhost:8080/",
          "height": 17
        },
        "outputId": "df66c3c5-6652-4e52-a6f5-1ce7f8ae9870"
      },
      "source": [
        "from google.colab import files\n",
        "files.download('mygraph.svg')"
      ],
      "execution_count": null,
      "outputs": [
        {
          "output_type": "display_data",
          "data": {
            "application/javascript": [
              "\n",
              "    async function download(id, filename, size) {\n",
              "      if (!google.colab.kernel.accessAllowed) {\n",
              "        return;\n",
              "      }\n",
              "      const div = document.createElement('div');\n",
              "      const label = document.createElement('label');\n",
              "      label.textContent = `Downloading \"${filename}\": `;\n",
              "      div.appendChild(label);\n",
              "      const progress = document.createElement('progress');\n",
              "      progress.max = size;\n",
              "      div.appendChild(progress);\n",
              "      document.body.appendChild(div);\n",
              "\n",
              "      const buffers = [];\n",
              "      let downloaded = 0;\n",
              "\n",
              "      const channel = await google.colab.kernel.comms.open(id);\n",
              "      // Send a message to notify the kernel that we're ready.\n",
              "      channel.send({})\n",
              "\n",
              "      for await (const message of channel.messages) {\n",
              "        // Send a message to notify the kernel that we're ready.\n",
              "        channel.send({})\n",
              "        if (message.buffers) {\n",
              "          for (const buffer of message.buffers) {\n",
              "            buffers.push(buffer);\n",
              "            downloaded += buffer.byteLength;\n",
              "            progress.value = downloaded;\n",
              "          }\n",
              "        }\n",
              "      }\n",
              "      const blob = new Blob(buffers, {type: 'application/binary'});\n",
              "      const a = document.createElement('a');\n",
              "      a.href = window.URL.createObjectURL(blob);\n",
              "      a.download = filename;\n",
              "      div.appendChild(a);\n",
              "      a.click();\n",
              "      div.remove();\n",
              "    }\n",
              "  "
            ],
            "text/plain": [
              "<IPython.core.display.Javascript object>"
            ]
          },
          "metadata": {
            "tags": []
          }
        },
        {
          "output_type": "display_data",
          "data": {
            "application/javascript": [
              "download(\"download_a0705b64-71d8-4b60-b263-cfeb0dc1dc9f\", \"mygraph.svg\", 28427)"
            ],
            "text/plain": [
              "<IPython.core.display.Javascript object>"
            ]
          },
          "metadata": {
            "tags": []
          }
        }
      ]
    },
    {
      "cell_type": "markdown",
      "metadata": {
        "id": "fOBdR3MNUw1S",
        "colab_type": "text"
      },
      "source": [
        "# 数式のグラフ化"
      ]
    },
    {
      "cell_type": "markdown",
      "metadata": {
        "id": "Ywm1JqXtlXdJ",
        "colab_type": "text"
      },
      "source": [
        "## ニュートンの万有引力"
      ]
    },
    {
      "cell_type": "code",
      "metadata": {
        "id": "YN6qCj1RU-sQ",
        "colab_type": "code",
        "colab": {
          "base_uri": "https://localhost:8080/",
          "height": 52
        },
        "outputId": "59863b69-c74a-4905-cb3f-47d9a12eb80a"
      },
      "source": [
        "%%latex\n",
        "\\displaystyle\n",
        "\n",
        "F = \\frac{Gm_1m_2}{r^2}"
      ],
      "execution_count": null,
      "outputs": [
        {
          "output_type": "display_data",
          "data": {
            "text/latex": "\\displaystyle\n\nF = \\frac{Gm_1m_2}{r^2}",
            "text/plain": [
              "<IPython.core.display.Latex object>"
            ]
          },
          "metadata": {
            "tags": []
          }
        }
      ]
    },
    {
      "cell_type": "markdown",
      "metadata": {
        "id": "4KNtTBSBVmD2",
        "colab_type": "text"
      },
      "source": [
        "上の例はニュートンの万有引力の法則で、2つの物体の質量を $m_1$、$m_2$ その間の距離を $r$、としたときに働く引力の大きさ $F$ を求めるもので、$G$ は引力定数。\n",
        "\n",
        "$m_1$ を 0.5kg、$m_2$ を 1.5kg とする。\n",
        "引力定数は\n",
        "$6.674 \\times 10^{-11} \\,\\mathrm{N m^2 kg^{-2}} $\n",
        "である。\n",
        "\n",
        "距離を100m, 150m, 200m, 300m, ..., 1000m とした時の 19 の点について引力のグラフを描く。\n"
      ]
    },
    {
      "cell_type": "code",
      "metadata": {
        "id": "N5QYYLocABBp",
        "colab_type": "code",
        "colab": {
          "base_uri": "https://localhost:8080/",
          "height": 295
        },
        "outputId": "259cc8b6-51f2-4887-9ce5-473330f5c733"
      },
      "source": [
        "# 2つの物体間の距離と引力\n",
        "\n",
        "import matplotlib.pyplot as plt\n",
        "import numpy as np\n",
        "\n",
        "fig = plt.figure()\n",
        "ax = fig.add_subplot()\n",
        "\n",
        "# 2つの物体の重さキログラム\n",
        "m1 = 0.5\n",
        "m2 = 1.5\n",
        "\n",
        "# 距離のリストを作る\n",
        "r = range(100, 1001, 50)\n",
        "\n",
        "# 引力を入れる空リストを作る\n",
        "F = []\n",
        "\n",
        "# 万有引力定数\n",
        "G = 6.674*(10**-11)\n",
        "\n",
        "# 公式に当てはめて、引力を計算する\n",
        "for dist in r:\n",
        "    force = G*(m1*m2)/(dist**2)\n",
        "    F.append(force)   \n",
        "\n",
        "\n",
        "plt.plot(r, F, marker='o')\n",
        "plt.xlabel('Distance in meters')\n",
        "plt.ylabel('Gravitational force in newtons')\n",
        "plt.title('Gravitational force and distance')\n",
        "plt.show()\n"
      ],
      "execution_count": null,
      "outputs": [
        {
          "output_type": "display_data",
          "data": {
            "image/png": "[encoded data removed]",
            "text/plain": [
              "<Figure size 432x288 with 1 Axes>"
            ]
          },
          "metadata": {
            "tags": [],
            "needs_background": "light"
          }
        }
      ]
    },
    {
      "cell_type": "markdown",
      "metadata": {
        "id": "0R9Al1vdldC0",
        "colab_type": "text"
      },
      "source": [
        "### 放物線"
      ]
    },
    {
      "cell_type": "markdown",
      "metadata": {
        "id": "RApxtV5llv4v",
        "colab_type": "text"
      },
      "source": [
        "ボールを投げると、初速度 $u$ と角度 $\\theta$ がある。\n",
        "\n",
        "初速度は、$u_x = u \\cos \\theta$ と $u_y = u \\sin \\theta$ に分解される。\n",
        "\n",
        "速度 $v$ は変化するが、$v_x$は変化せず、$v_y$ は変化する。$v_y$ は次の式で表される。\n",
        "\n",
        "$$\n",
        "v_y = u \\sin \\theta - gt\n",
        "$$\n",
        "\n",
        "ここで $g$ は重力加速度である。\n",
        "\n",
        "水平速度は一定なので、水平距離は $S_x = u (\\cos \\theta) t$ で表せる。\n",
        "\n",
        "垂直距離は\n",
        "\n",
        "$$\n",
        "S_y = u (\\sin \\theta) t - \\frac{1}{2}gt^2\n",
        "$$\n",
        "\n",
        "となる。\n",
        "\n",
        "ボールが頂点に達した時、$v_y$ は $0$ になっていることからそこ到達するまでの時間が割り出せる。\n",
        "\n",
        "$$\n",
        "u \\sin \\theta - gt_{\\mathrm{peak}} = 0  \\\\\n",
        "t_{\\mathrm{peak}} = \\frac{u \\sin \\theta}{g}\n",
        "$$\n",
        "\n",
        "落ちてくるまでの時間はこの倍。\n",
        "$$\n",
        "t_{\\mathrm{flight}} = 2t_{\\mathrm{peak}} = 2 \\frac{u \\sin \\theta}{g}\n",
        "$$\n",
        "\n",
        "初速度 $u$ を $5 \\mathrm{m/s}$、角度 $\\theta$ を $45$度とすると、下記のように計算できる。\n",
        "\n",
        "$$\n",
        "t_{\\mathrm{flight}} = 2 \\frac {5 \\sin 45}{9.8}\n",
        "$$"
      ]
    },
    {
      "cell_type": "code",
      "metadata": {
        "id": "PGbj2-7NjWr4",
        "colab_type": "code",
        "colab": {
          "base_uri": "https://localhost:8080/",
          "height": 34
        },
        "outputId": "f1b16eab-a203-4681-f049-4fb33fd81c12"
      },
      "source": [
        "import math\n",
        "2 * 5 * math.sin(45/180*math.pi) / 9.8"
      ],
      "execution_count": null,
      "outputs": [
        {
          "output_type": "execute_result",
          "data": {
            "text/plain": [
              "0.7215375318230076"
            ]
          },
          "metadata": {
            "tags": []
          },
          "execution_count": 12
        }
      ]
    },
    {
      "cell_type": "markdown",
      "metadata": {
        "id": "CZhTpk-fkbR8",
        "colab_type": "text"
      },
      "source": [
        "ここでは $t_{\\mathrm{flight}}$ を 0.72154 とする。\n",
        "\n",
        "この時間を0.001秒ごとに x 座標と y 座標を計算して、グラフを描くこととしよう。\n",
        "\n"
      ]
    },
    {
      "cell_type": "code",
      "metadata": {
        "id": "nUuX1gJmmebI",
        "colab_type": "code",
        "colab": {}
      },
      "source": [
        "def frange (start, final, increment):\n",
        "    \"\"\"\n",
        "    float version of interval increment between 2 given numbers\n",
        "    \"\"\"\n",
        "    numbers = []\n",
        "    while start < final:\n",
        "        numbers.append(start)\n",
        "        start = start + increment\n",
        "    \n",
        "    return numbers\n",
        "\n",
        "\n"
      ],
      "execution_count": null,
      "outputs": []
    },
    {
      "cell_type": "code",
      "metadata": {
        "id": "fU4Oyi4Jnlkt",
        "colab_type": "code",
        "colab": {}
      },
      "source": [
        "frange?"
      ],
      "execution_count": null,
      "outputs": []
    },
    {
      "cell_type": "code",
      "metadata": {
        "id": "ofHsXurnVbr_",
        "colab_type": "code",
        "colab": {
          "base_uri": "https://localhost:8080/",
          "height": 295
        },
        "outputId": "4b3064e5-3b9d-43ae-c5f0-775124d30531"
      },
      "source": [
        "import matplotlib.pyplot as plt\n",
        "import math\n",
        "import numpy as np\n",
        "\n",
        "fig = plt.figure()\n",
        "ax = fig.add_subplot()\n",
        "\n",
        "def frange (start, final, increment):\n",
        "    \"\"\"\n",
        "    float version of interval increment between 2 given numbers\n",
        "    \"\"\"\n",
        "    numbers = []\n",
        "    while start < final:\n",
        "        numbers.append(start)\n",
        "        start = start + increment\n",
        "    \n",
        "    return numbers\n",
        "\n",
        "u = 5.0\n",
        "theta = 60\n",
        "theta = math.radians(theta)\n",
        "g = 9.8\n",
        "\n",
        "# time of flight\n",
        "t_flight = 2*u*math.sin(theta)/g\n",
        "\n",
        "# find the intervals\n",
        "intervals = frange(0, t_flight, 0.001)\n",
        "\n",
        "# list of x and y coordinates\n",
        "x = []\n",
        "y = []\n",
        "for t in intervals:\n",
        "    x.append(u*math.cos(theta)*t)\n",
        "    y.append(u*math.sin(theta)*t - 0.5*g*t*t)\n",
        "\n",
        "\n",
        "plt.plot(x, y)\n",
        "plt.xlabel('x-coordinate')\n",
        "plt.ylabel('y-coordinate')\n",
        "plt.title('Projectile motion of a ball')\n",
        "plt.show()\n"
      ],
      "execution_count": null,
      "outputs": [
        {
          "output_type": "display_data",
          "data": {
            "image/png": "[encoded data removed]",
            "text/plain": [
              "<Figure size 432x288 with 1 Axes>"
            ]
          },
          "metadata": {
            "tags": [],
            "needs_background": "light"
          }
        }
      ]
    },
    {
      "cell_type": "code",
      "metadata": {
        "id": "7vS05bWoYbaM",
        "colab_type": "code",
        "colab": {
          "base_uri": "https://localhost:8080/",
          "height": 295
        },
        "outputId": "85440c7a-fe86-4b4d-fccc-a9dad5771023"
      },
      "source": [
        "# I want to draw 1. 45 degree, 2. 60 degree, 3. 5 velocity, 4. 10 velocity versions\n",
        "\n",
        "import matplotlib.pyplot as plt\n",
        "import math\n",
        "import numpy as np\n",
        "\n",
        "fig = plt.figure()\n",
        "ax = fig.add_subplot()\n",
        "\n",
        "def frange (start, final, increment):\n",
        "    \"\"\"\n",
        "    float version of interval increment between 2 given numbers\n",
        "    \"\"\"\n",
        "    numbers = []\n",
        "    while start < final:\n",
        "        numbers.append(start)\n",
        "        start = start + increment\n",
        "    \n",
        "    return numbers\n",
        "\n",
        "def draw_trajectory (u, theta) :\n",
        "    theta = math.radians(theta)\n",
        "    g = 9.8\n",
        "    t_flight = 2*u*math.sin(theta)/g\n",
        "    intervals = frange(0, t_flight, 0.001)\n",
        "\n",
        "    x = []\n",
        "    y = []\n",
        "    for t in intervals:\n",
        "        x.append(u*math.cos(theta)*t)\n",
        "        y.append(u*math.sin(theta)*t - 0.5*g*t*t)\n",
        "\n",
        "    plt.plot (x, y)\n",
        "\n",
        "\n",
        "draw_trajectory (5, 45)\n",
        "draw_trajectory (5, 60)\n",
        "draw_trajectory (10, 45)\n",
        "draw_trajectory (10, 60)\n",
        "\n",
        "\n",
        "plt.xlabel('x-coordinate')\n",
        "plt.ylabel('y-coordinate')\n",
        "plt.title('Projectile motion of a ball')\n",
        "plt.legend([\"5,45\",\"5,60\",\"10,45\",\"10,60\"])\n",
        "plt.show()\n"
      ],
      "execution_count": null,
      "outputs": [
        {
          "output_type": "display_data",
          "data": {
            "image/png": "[encoded data removed]",
            "text/plain": [
              "<Figure size 432x288 with 1 Axes>"
            ]
          },
          "metadata": {
            "tags": [],
            "needs_background": "light"
          }
        }
      ]
    },
    {
      "cell_type": "markdown",
      "metadata": {
        "id": "HRYCx_GhhzPg",
        "colab_type": "text"
      },
      "source": [
        "よく、45度の角度で投げると一番遠くへ行く、というがほんとうか。\n",
        "\n"
      ]
    },
    {
      "cell_type": "code",
      "metadata": {
        "id": "WwcjDbEGh5G1",
        "colab_type": "code",
        "colab": {
          "base_uri": "https://localhost:8080/",
          "height": 295
        },
        "outputId": "6a1eecb0-9aca-4cdb-804b-78b5a656a3e9"
      },
      "source": [
        "# draw at various angles\n",
        "\n",
        "import matplotlib.pyplot as plt\n",
        "import math\n",
        "import numpy as np\n",
        "\n",
        "fig = plt.figure()\n",
        "ax = fig.add_subplot()\n",
        "\n",
        "def frange (start, final, increment):\n",
        "    \"\"\"\n",
        "    float version of interval increment between 2 given numbers\n",
        "    \"\"\"\n",
        "    numbers = []\n",
        "    while start < final:\n",
        "        numbers.append(start)\n",
        "        start = start + increment\n",
        "    \n",
        "    return numbers\n",
        "\n",
        "def draw_trajectory (u, theta) :\n",
        "    theta = math.radians(theta)\n",
        "    g = 9.8\n",
        "    t_flight = 2*u*math.sin(theta)/g\n",
        "    intervals = frange(0, t_flight, 0.001)\n",
        "\n",
        "    x = []\n",
        "    y = []\n",
        "    for t in intervals:\n",
        "        x.append(u*math.cos(theta)*t)\n",
        "        y.append(u*math.sin(theta)*t - 0.5*g*t*t)\n",
        "\n",
        "    plt.plot (x, y)\n",
        "\n",
        "angles = [15,30,45,60,75]\n",
        "\n",
        "for i in angles:\n",
        "    draw_trajectory (5, i)\n",
        "\n",
        "\n",
        "plt.xlabel('x-coordinate')\n",
        "plt.ylabel('y-coordinate')\n",
        "plt.title('Projectile motion of a ball')\n",
        "plt.legend(angles)\n",
        "plt.show()\n"
      ],
      "execution_count": null,
      "outputs": [
        {
          "output_type": "display_data",
          "data": {
            "image/png": "[encoded data removed]",
            "text/plain": [
              "<Figure size 432x288 with 1 Axes>"
            ]
          },
          "metadata": {
            "tags": [],
            "needs_background": "light"
          }
        }
      ]
    },
    {
      "cell_type": "markdown",
      "metadata": {
        "id": "GffBIvik38Nc",
        "colab_type": "text"
      },
      "source": [
        "# 棒グラフ バーチャート"
      ]
    },
    {
      "cell_type": "code",
      "metadata": {
        "id": "UHpjSL_Q4BAd",
        "colab_type": "code",
        "colab": {
          "base_uri": "https://localhost:8080/",
          "height": 295
        },
        "outputId": "a8e9af23-4cec-443b-cf6e-d4d74656d5ac"
      },
      "source": [
        "import matplotlib.pyplot as plt\n",
        "import math\n",
        "import numpy as np\n",
        "\n",
        "fig = plt.figure()\n",
        "ax = fig.add_subplot()\n",
        "\n",
        "def create_bar_chart(data, labels):    \n",
        "    num_bars = len(data)\n",
        "    positions = range(1, num_bars+1)\n",
        "    ax.barh(positions, data, align='center')\n",
        "    plt.yticks(positions, labels)    \n",
        "\n",
        "steps = [6534, 7000, 8900, 10786, 3467, 11045, 5095] \n",
        "\n",
        "labels = ['Sun', 'Mon', 'Tue', 'Wed', 'Thu', 'Fri', 'Sat']\n",
        " \n",
        "create_bar_chart(steps, labels)\n",
        "\n",
        "# Set the label of each bar    \n",
        "# plt.yticks(positions, labels)    \n",
        "plt.xlabel('Steps')    \n",
        "plt.ylabel('Day')    \n",
        "plt.title('Number of steps walked') \n",
        "plt.grid()\n",
        "plt.show()\n"
      ],
      "execution_count": null,
      "outputs": [
        {
          "output_type": "display_data",
          "data": {
            "image/png": "[encoded data removed]",
            "text/plain": [
              "<Figure size 432x288 with 1 Axes>"
            ]
          },
          "metadata": {
            "tags": [],
            "needs_background": "light"
          }
        }
      ]
    },
    {
      "cell_type": "markdown",
      "metadata": {
        "id": "D4YeSx1SMtO_",
        "colab_type": "text"
      },
      "source": [
        "# フィボナッチ数"
      ]
    },
    {
      "cell_type": "code",
      "metadata": {
        "id": "raEYCsSYMvYo",
        "colab_type": "code",
        "colab": {
          "base_uri": "https://localhost:8080/",
          "height": 34
        },
        "outputId": "ce0a9d6d-d0bf-4e23-da4c-3fd261bf59f0"
      },
      "source": [
        "def fibo(n):\n",
        "    if n == 1 :\n",
        "        return [1]\n",
        "    elif n == 2:\n",
        "        return [1,1]\n",
        "    else :\n",
        "        a = 1\n",
        "        b = 1\n",
        "        series = [a,b]\n",
        "        for i in range(n):\n",
        "            c = a + b\n",
        "            series.append(c)\n",
        "            a = b\n",
        "            b = c\n",
        "        return series\n",
        "\n",
        "print (fibo(10))"
      ],
      "execution_count": null,
      "outputs": [
        {
          "output_type": "stream",
          "text": [
            "[1, 1, 2, 3, 5, 8, 13, 21, 34, 55, 89, 144]\n"
          ],
          "name": "stdout"
        }
      ]
    },
    {
      "cell_type": "code",
      "metadata": {
        "id": "13lBZngpN-Kc",
        "colab_type": "code",
        "colab": {
          "base_uri": "https://localhost:8080/",
          "height": 295
        },
        "outputId": "cda799b3-530c-4513-cf78-e3262aaf5162"
      },
      "source": [
        "import matplotlib.pyplot as plt\n",
        "import math\n",
        "import numpy as np\n",
        "\n",
        "fig = plt.figure()\n",
        "ax = fig.add_subplot()\n",
        "\n",
        "def fibo(n):\n",
        "    if n == 1 :\n",
        "        return [1]\n",
        "    elif n == 2:\n",
        "        return [1,1]\n",
        "    else :\n",
        "        a = 1\n",
        "        b = 1\n",
        "        series = [a,b]\n",
        "        for i in range(n):\n",
        "            c = a + b\n",
        "            series.append(c)\n",
        "            a = b\n",
        "            b = c\n",
        "        return series\n",
        "\n",
        "def plot_ratio(series):\n",
        "    ratios = []\n",
        "    for i in range(len(series)-1):\n",
        "        ratios.append(series[i+1]/series[i])\n",
        "    ax.plot(ratios)\n",
        "\n",
        "num = 10\n",
        "series = fibo (num)\n",
        "plot_ratio(series)\n",
        "plt.title('Ratio of Fibonacci & Golden') \n",
        "plt.ylabel('Ratio')    \n",
        "plt.xlabel('No.')    \n",
        "plt.grid()\n",
        "plt.show()"
      ],
      "execution_count": null,
      "outputs": [
        {
          "output_type": "display_data",
          "data": {
            "image/png": "[encoded data removed]",
            "text/plain": [
              "<Figure size 432x288 with 1 Axes>"
            ]
          },
          "metadata": {
            "tags": [],
            "needs_background": "light"
          }
        }
      ]
    },
    {
      "cell_type": "markdown",
      "metadata": {
        "id": "ZUhG4NI5QRB1",
        "colab_type": "text"
      },
      "source": [
        "cf. 黄金比 golden ratio\n",
        "\n",
        "正方形を切り落とすと相似になる長方形の縦横比なので\n",
        "\n",
        "$$\n",
        "\\begin{eqnarray}\n",
        "1: a &=& (a - 1) : 1\\\\\n",
        "\\frac{1}{a} &=& \\frac{a-1}{1}\\\\\n",
        "a^2 -a -1 &=& 1\\\\\n",
        "a &=& \\frac{1 + \\sqrt {2^2 + 1}}{2}\\\\\n",
        "a &=& \\frac{1+\\sqrt{5}}{2}\\\\\n",
        "a &\\simeq& (1+2.2362)/2 = 1.6181\n",
        "\\end{eqnarray}\n",
        "$$"
      ]
    },
    {
      "cell_type": "markdown",
      "metadata": {
        "id": "5AuC4-Tp1uR-",
        "colab_type": "text"
      },
      "source": [
        "# 統計処理"
      ]
    },
    {
      "cell_type": "markdown",
      "metadata": {
        "id": "n8wSrKh01ytO",
        "colab_type": "text"
      },
      "source": [
        "# 有意差について\n",
        "\n",
        "この本 doing math with python では、有意差 stastitical significance については語っていないので、別途学ぶ必要がある。\n",
        "\n",
        "有意差でないからと言って、データの結果が間違っているわけではないが、有意差が出ないような統計は客観性が乏しいのも事実なので、有意は大切。\n",
        "\n",
        "例えばアビガンはとても効くのに有意差が証明できないので、保険薬としての承認は得られないのは税金を使う以上あたりまえだけれど、医者が実験として使ったり、患者の自費で使ったりして命を助けることは重要なこと。\n",
        "\n",
        "また、兄弟が生まれた順序と身長の関係が先に生まれた方が高いことは小さいが相関係数がプラス positive correlation coefficient であり、これはたぶん有意差があるので、たとえ身の回りのほとんどの例がそれに当てはまらないとしても正しい結論である。\n",
        "\n",
        "有意ということは、仮にその結論が間違っているとした場合の起こる確率がデータに戻してみると10%以下 (5%以下) である、ということなので、[1,1,1,1,1,0]というデータで 1 という結論を出したところ、1 でない確率は、1 / 6 => 0.16666 なので、有意な差はない。つまり多くの場合、有意差が出ないのはデータ設計が悪いか、データの数が圧倒的に少ないことによる。\n"
      ]
    },
    {
      "cell_type": "markdown",
      "metadata": {
        "id": "Vabcs23x_AJK",
        "colab_type": "text"
      },
      "source": [
        "# 平均値 mean"
      ]
    },
    {
      "cell_type": "code",
      "metadata": {
        "id": "49e54lK11xe7",
        "colab_type": "code",
        "colab": {
          "base_uri": "https://localhost:8080/",
          "height": 50
        },
        "outputId": "3dfe032b-6b57-45a6-e56b-58697039718d"
      },
      "source": [
        "# 平均 mean\n",
        "donations = [100,60,70,900,100,200,500,500,503,600,1000,1200]\n",
        "print(sum(donations))\n",
        "mean = sum(donations) / len(donations)\n",
        "print (mean)"
      ],
      "execution_count": null,
      "outputs": [
        {
          "output_type": "stream",
          "text": [
            "5733\n",
            "477.75\n"
          ],
          "name": "stdout"
        }
      ]
    },
    {
      "cell_type": "code",
      "metadata": {
        "id": "omwSTj1Q2lD4",
        "colab_type": "code",
        "colab": {
          "base_uri": "https://localhost:8080/",
          "height": 34
        },
        "outputId": "712cbb4e-7cbd-4189-dc71-44c6ddd73d03"
      },
      "source": [
        "def calculate_mean(numbers):\n",
        "    s = sum(numbers)\n",
        "    N = len(numbers)\n",
        "    mean = s/N\n",
        "    return mean\n",
        "\n",
        "donations = [100,60,70,900,100,200,500,500,503,600,1000,1200]\n",
        "mean = calculate_mean(donations)\n",
        "N = len(donations)\n",
        "\n",
        "print('Mean donation over the last {0} days is {1}'.format(N, mean))"
      ],
      "execution_count": null,
      "outputs": [
        {
          "output_type": "stream",
          "text": [
            "Mean donation over the last 12 days is 477.75\n"
          ],
          "name": "stdout"
        }
      ]
    },
    {
      "cell_type": "markdown",
      "metadata": {
        "id": "swWEMeI4-72d",
        "colab_type": "text"
      },
      "source": [
        "### メディアン 中央値"
      ]
    },
    {
      "cell_type": "code",
      "metadata": {
        "id": "xzEYFI954bBb",
        "colab_type": "code",
        "colab": {
          "base_uri": "https://localhost:8080/",
          "height": 34
        },
        "outputId": "92f948e9-1c3b-49b7-ad3a-7c91a265e13d"
      },
      "source": [
        "def calculate_median(numbers):\n",
        "    N = len(numbers)\n",
        "    numbers.sort()\n",
        "    if N % 2 == 0:\n",
        "        m1 = int(N/2 - 1)\n",
        "        m2 = int(N/2 - 1)\n",
        "        median = (numbers[m1] + numbers[m2]) / 2\n",
        "    else:\n",
        "        m = int((N-1)/2)\n",
        "        median = numbers[m]\n",
        "    return median\n",
        "\n",
        "donations = [100, 60, 70, 900, 100, 200, 500, 500, 503, 600, 1000, 1200]\n",
        "\n",
        "median = calculate_median(donations)\n",
        "N = len(donations)\n",
        "\n",
        "print ('Median donation over the last {0} days is {1}'.format(N, median))\n",
        "\n",
        "    "
      ],
      "execution_count": null,
      "outputs": [
        {
          "output_type": "stream",
          "text": [
            "Median donation over the last 12 days is 500.0\n"
          ],
          "name": "stdout"
        }
      ]
    },
    {
      "cell_type": "markdown",
      "metadata": {
        "id": "WXJiVmcF-vVy",
        "colab_type": "text"
      },
      "source": [
        "### mode 最頻値\n",
        "\n"
      ]
    },
    {
      "cell_type": "code",
      "metadata": {
        "id": "ZU2vuzUoJM5q",
        "colab_type": "code",
        "colab": {
          "base_uri": "https://localhost:8080/",
          "height": 67
        },
        "outputId": "69984717-0101-4071-8328-1541a514adb7"
      },
      "source": [
        "simplelist = [4,2,1,4,2,2,3,1,4,2,2]\n",
        "from collections import Counter\n",
        "c =Counter(simplelist)\n",
        "print(c.most_common())\n",
        "print(c)\n",
        "print(c.most_common(2))"
      ],
      "execution_count": null,
      "outputs": [
        {
          "output_type": "stream",
          "text": [
            "[(2, 5), (4, 3), (1, 2), (3, 1)]\n",
            "Counter({2: 5, 4: 3, 1: 2, 3: 1})\n",
            "[(2, 5), (4, 3)]\n"
          ],
          "name": "stdout"
        }
      ]
    },
    {
      "cell_type": "markdown",
      "metadata": {
        "id": "RjPdGM9P7NAQ",
        "colab_type": "text"
      },
      "source": [
        "上の、Counter は実装したいね。 これだけのために from collections import Counter はしたくないだろう。 というか実装したほうがわかりやすくないか。\n",
        "\n",
        "\n"
      ]
    },
    {
      "cell_type": "markdown",
      "metadata": {
        "id": "FV4psoaBzjNw",
        "colab_type": "text"
      },
      "source": [
        "こんなんでどうだ。"
      ]
    },
    {
      "cell_type": "code",
      "metadata": {
        "id": "Osx2ls7MwnqT",
        "colab_type": "code",
        "colab": {
          "base_uri": "https://localhost:8080/",
          "height": 34
        },
        "outputId": "cdbf3fb9-c044-448e-f209-f0da7aaa3182"
      },
      "source": [
        "simplelist = [4,2,1,4,2,2,3,1,4]\n",
        "\n",
        "def mode_counter(l):\n",
        "    l.sort()\n",
        "    items = list(set(l))\n",
        "    counts = []\n",
        "    for i in items:\n",
        "        counts.append(l.count(i))\n",
        "    item_count = zip(items, counts)\n",
        "    return (list(item_count))\n",
        "\n",
        "count_sorted = sorted(dict(mode_counter(simplelist)).items(), key=lambda x:x[1], reverse=True)\n",
        "print (count_sorted)"
      ],
      "execution_count": null,
      "outputs": [
        {
          "output_type": "stream",
          "text": [
            "[(2, 3), (4, 3), (1, 2), (3, 1)]\n"
          ],
          "name": "stdout"
        }
      ]
    },
    {
      "cell_type": "code",
      "metadata": {
        "id": "rtzcB-7ayVu5",
        "colab_type": "code",
        "colab": {}
      },
      "source": [
        ""
      ],
      "execution_count": null,
      "outputs": []
    },
    {
      "cell_type": "code",
      "metadata": {
        "id": "va-erGY9oJvR",
        "colab_type": "code",
        "colab": {
          "base_uri": "https://localhost:8080/",
          "height": 34
        },
        "outputId": "9147bda7-400a-47db-d90f-34b42aeda175"
      },
      "source": [
        "from collections import Counter\n",
        "\n",
        "\n",
        "def calculate_mode(numbers):\n",
        "    c = Counter(numbers)\n",
        "    mode = c.most_common(1)\n",
        "    return mode[0][0]\n",
        "\n",
        "\n",
        "scores = [7, 8, 9, 2, 10, 9, 9, 9, 9, 4, 5, 6, 1, 5, 6, 7, 8, 6, 1, 10]\n",
        "mode = calculate_mode(scores)\n",
        "print(\"The mode of the list of numbers is: {0}\".format(mode))"
      ],
      "execution_count": null,
      "outputs": [
        {
          "output_type": "stream",
          "text": [
            "The mode of the list of numbers is: 9\n"
          ],
          "name": "stdout"
        }
      ]
    },
    {
      "cell_type": "code",
      "metadata": {
        "id": "DtZC_yrgz8eE",
        "colab_type": "code",
        "colab": {
          "base_uri": "https://localhost:8080/",
          "height": 50
        },
        "outputId": "e6929727-0791-4b78-9ad3-50cefd9349c7"
      },
      "source": [
        "scores = [7, 8, 9, 2, 10, 9, 9, 9, 9, 4, 5, 6, 1, 5, 6, 7, 8, 6, 1, 10]\n",
        "\n",
        "def mode_counter(l):\n",
        "    l.sort()\n",
        "    items = list(set(l))\n",
        "    counts = []\n",
        "    for i in items:\n",
        "        counts.append(l.count(i))\n",
        "    item_count = zip(items, counts)\n",
        "    return (list(item_count))\n",
        "\n",
        "count_sorted = sorted(dict(mode_counter(scores)).items(), key=lambda x:x[1], reverse=True)\n",
        "print (count_sorted)\n",
        "\n",
        "# mode = calculate_mode(scores)\n",
        "print(\"The mode of the list of numbers is: {0}\".format(count_sorted[0][0]))"
      ],
      "execution_count": null,
      "outputs": [
        {
          "output_type": "stream",
          "text": [
            "[(9, 5), (6, 3), (1, 2), (5, 2), (7, 2), (8, 2), (10, 2), (2, 1), (4, 1)]\n",
            "The mode of the list of numbers is: 9\n"
          ],
          "name": "stdout"
        }
      ]
    },
    {
      "cell_type": "markdown",
      "metadata": {
        "id": "lzNLNuidp8PR",
        "colab_type": "text"
      },
      "source": [
        "最頻値が複数あるときのためのバージョン"
      ]
    },
    {
      "cell_type": "code",
      "metadata": {
        "id": "wI3yPJSGp7wr",
        "colab_type": "code",
        "colab": {
          "base_uri": "https://localhost:8080/",
          "height": 84
        },
        "outputId": "90460315-c8b5-41c0-bcb7-09d9777fb47b"
      },
      "source": [
        "from collections import Counter\n",
        "\n",
        "\n",
        "def calculate_mode(numbers):\n",
        "    c = Counter(numbers)\n",
        "    numbers_freq = c.most_common()\n",
        "    max_count = numbers_freq[0][1]\n",
        "    \n",
        "    modes = []\n",
        "    for num in numbers_freq:\n",
        "        if num[1] == max_count:\n",
        "            modes.append(num[0])\n",
        "    return modes\n",
        "\n",
        "scores = [5, 5, 5, 4, 4, 4, 9, 1, 3, 3 ,3]\n",
        "modes = calculate_mode(scores)\n",
        "print(\"The mode(s) of the list of numbers are: \")\n",
        "for mode in modes:\n",
        "    print(mode)"
      ],
      "execution_count": null,
      "outputs": [
        {
          "output_type": "stream",
          "text": [
            "The mode(s) of the list of numbers are: \n",
            "5\n",
            "4\n",
            "3\n"
          ],
          "name": "stdout"
        }
      ]
    },
    {
      "cell_type": "code",
      "metadata": {
        "id": "UKViKy8w0c2E",
        "colab_type": "code",
        "colab": {}
      },
      "source": [
        "def mode_counter(l):\n",
        "    l.sort()\n",
        "    items = list(set(l))\n",
        "    counts = []\n",
        "    for i in items:\n",
        "        counts.append(l.count(i))\n",
        "    item_count = zip(items, counts)\n",
        "    return (list(item_count))\n",
        "\n",
        "scores = [5, 5, 5, 4, 4, 4, 9, 1, 3, 3 ,3]\n",
        "modes = calculate_mode(scores)\n",
        "print(\"The mode(s) of the list of numbers are: \")\n",
        "for mode in modes:\n",
        "    print(mode)\n",
        "\n",
        "count_sorted = sorted(dict(mode_counter(scores)).items(), key=lambda x:x[1], reverse=True)\n",
        "print (count_sorted)\n"
      ],
      "execution_count": null,
      "outputs": []
    },
    {
      "cell_type": "markdown",
      "metadata": {
        "id": "gZLNc9AGGOdN",
        "colab_type": "text"
      },
      "source": [
        "### 頻度表(度数分布表, frequency table)"
      ]
    },
    {
      "cell_type": "code",
      "metadata": {
        "id": "2FwYjthyHEBs",
        "colab_type": "code",
        "colab": {
          "base_uri": "https://localhost:8080/",
          "height": 185
        },
        "outputId": "2e8d9c80-b384-422f-8e79-8143c6231dbd"
      },
      "source": [
        "from collections import Counter\n",
        "\n",
        "\n",
        "def frequency_table(numbers):\n",
        "    table = Counter(numbers)\n",
        "    print(\"Number\\tFrequency\")\n",
        "    for number in table.most_common():\n",
        "        print('{0}\\t{1}'.format(number[0], number[1]))\n",
        "\n",
        "\n",
        "scores = [7, 8, 9, 2, 10, 9, 9, 9, 9, 4, 5, 6, 1, 5, 6, 7, 8, 6, 1, 10]\n",
        "frequency_table(scores)"
      ],
      "execution_count": null,
      "outputs": [
        {
          "output_type": "stream",
          "text": [
            "Numbe\tFrequency\n",
            "9\t5\n",
            "6\t3\n",
            "7\t2\n",
            "8\t2\n",
            "10\t2\n",
            "5\t2\n",
            "1\t2\n",
            "2\t1\n",
            "4\t1\n"
          ],
          "name": "stdout"
        }
      ]
    },
    {
      "cell_type": "markdown",
      "metadata": {
        "id": "ZmIIDVuhHkeL",
        "colab_type": "text"
      },
      "source": [
        "番号順にソートする"
      ]
    },
    {
      "cell_type": "code",
      "metadata": {
        "id": "pCBezLQTH44j",
        "colab_type": "code",
        "colab": {
          "base_uri": "https://localhost:8080/",
          "height": 185
        },
        "outputId": "9ff176a9-6b28-43bb-c764-2d275ec5aae3"
      },
      "source": [
        "from collections import Counter\n",
        "\n",
        "\n",
        "def frequency_table(numbers):\n",
        "    table = Counter(numbers)\n",
        "    print(\"Number\\tFrequency\")\n",
        "    numbers_freq = table.most_common()\n",
        "    numbers_freq.sort()\n",
        "    for number in numbers_freq:\n",
        "        print('{0}\\t{1}'.format(number[0], number[1]))\n",
        "\n",
        "\n",
        "scores = [7, 8, 9, 2, 10, 9, 9, 9, 9, 4, 5, 6, 1, 5, 6, 7, 8, 6, 1, 10]\n",
        "frequency_table(scores)\n"
      ],
      "execution_count": null,
      "outputs": [
        {
          "output_type": "stream",
          "text": [
            "Number\tFrequency\n",
            "1\t2\n",
            "2\t1\n",
            "4\t1\n",
            "5\t2\n",
            "6\t3\n",
            "7\t2\n",
            "8\t2\n",
            "9\t5\n",
            "10\t2\n"
          ],
          "name": "stdout"
        }
      ]
    },
    {
      "cell_type": "markdown",
      "metadata": {
        "id": "1Ot50ZgrI121",
        "colab_type": "text"
      },
      "source": [
        "# 散布 dispersion\n",
        "範囲 range  \n",
        "variation 分散  \n",
        "deviation 偏差\n"
      ]
    },
    {
      "cell_type": "code",
      "metadata": {
        "id": "30tMe-RBK_vi",
        "colab_type": "code",
        "colab": {
          "base_uri": "https://localhost:8080/",
          "height": 50
        },
        "outputId": "b5f066e1-ce3c-4620-e512-d3e693d88553"
      },
      "source": [
        "def find_range(numbers):\n",
        "    lowest = min(numbers)\n",
        "    highest = max(numbers)\n",
        "    r = highest-lowest\n",
        "    return lowest, highest, r\n",
        "\n",
        "\n",
        "donations = [100, 60, 70, 900, 100, 200, 500, 500, 503, 600, 1000, 1200]\n",
        "lowest, highest, r = find_range(donations)\n",
        "print('Lowest: {0} Highest: {1} Range: {2}'.format(lowest, highest, r))\n",
        "print(find_range(donations))"
      ],
      "execution_count": null,
      "outputs": [
        {
          "output_type": "stream",
          "text": [
            "Lowest: 60 Highest: 1200 Range: 1140\n",
            "(60, 1200, 1140)\n"
          ],
          "name": "stdout"
        }
      ]
    },
    {
      "cell_type": "code",
      "metadata": {
        "id": "UeUJbRjgL0u0",
        "colab_type": "code",
        "colab": {
          "base_uri": "https://localhost:8080/",
          "height": 54
        },
        "outputId": "acc8e970-06cb-4418-d152-a204ff5521a9"
      },
      "source": [
        "%%latex\n",
        "\\displaystyle\n",
        "\n",
        "\\mathrm{variance} = \\frac{\\Sigma (x_i - x_\\mathrm{mean})^2}{n}"
      ],
      "execution_count": null,
      "outputs": [
        {
          "output_type": "display_data",
          "data": {
            "text/latex": "\\displaystyle\n\n\\mathrm{variance} = \\frac{\\Sigma (x_i - x_\\mathrm{mean})^2}{n}",
            "text/plain": [
              "<IPython.core.display.Latex object>"
            ]
          },
          "metadata": {
            "tags": []
          }
        }
      ]
    },
    {
      "cell_type": "code",
      "metadata": {
        "id": "1rgD_kkiOuvA",
        "colab_type": "code",
        "colab": {
          "base_uri": "https://localhost:8080/",
          "height": 50
        },
        "outputId": "d77d0f19-e94b-4a53-dde0-df63bab3d68e"
      },
      "source": [
        "def calculate_mean(numbers):\n",
        "    s = sum(numbers)\n",
        "    N = len(numbers)\n",
        "    mean = s/N\n",
        "    return mean\n",
        "\n",
        "\n",
        "def find_differences(numbers):\n",
        "    mean = calculate_mean(numbers)\n",
        "    diff = []\n",
        "    for num in numbers:\n",
        "        diff.append(num-mean)\n",
        "    return diff\n",
        "\n",
        "\n",
        "def calculate_variance(numbers):\n",
        "    diff = find_differences(numbers)\n",
        "    squared_diff = []\n",
        "    for d in diff:\n",
        "        squared_diff.append(d**2)\n",
        "    sum_squared_diff = sum(squared_diff)\n",
        "    variance = sum_squared_diff/len(numbers)\n",
        "    return variance\n",
        "\n",
        "\n",
        "donations = [100, 60, 70, 900, 100, 200, 500, 500, 503, 600, 1000, 1200]\n",
        "variance = calculate_variance(donations)\n",
        "print('The variance of the list of numbers is {0}'.format(variance))\n",
        "std = variance**0.5\n",
        "print('The standard deviation of the list of numbers is {0}'.format(std))\n"
      ],
      "execution_count": null,
      "outputs": [
        {
          "output_type": "stream",
          "text": [
            "The variance of the list of numbers is 141047.35416666666\n",
            "The standard deviation of the list of numbers is 375.5627166887931\n"
          ],
          "name": "stdout"
        }
      ]
    },
    {
      "cell_type": "code",
      "metadata": {
        "id": "kimfWc8UPTyW",
        "colab_type": "code",
        "colab": {
          "base_uri": "https://localhost:8080/",
          "height": 50
        },
        "outputId": "ee53a527-fdb2-4919-f8f5-3725671cbc12"
      },
      "source": [
        "donations= [382, 389, 377, 397, 396, 368, 369, 392, 398, 367, 393, 396]\n",
        "variance = calculate_variance(donations)\n",
        "print('The variance of the list of numbers is {0}'.format(variance))\n",
        "std = variance**0.5\n",
        "print('The standard deviation of the list of numbers is {0}'.format(std))"
      ],
      "execution_count": null,
      "outputs": [
        {
          "output_type": "stream",
          "text": [
            "The variance of the list of numbers is 135.38888888888889\n",
            "The standard deviation of the list of numbers is 11.63567311713804\n"
          ],
          "name": "stdout"
        }
      ]
    },
    {
      "cell_type": "code",
      "metadata": {
        "id": "HQF8tpppVaiM",
        "colab_type": "code",
        "colab": {
          "base_uri": "https://localhost:8080/",
          "height": 265
        },
        "outputId": "6a3fa1bd-600e-413f-96ac-47efb74e190d"
      },
      "source": [
        "import matplotlib.pyplot as plt\n",
        "import numpy as np\n",
        "\n",
        "donations1 = [100, 60, 70, 900, 100, 200, 500, 500, 503, 600, 1000, 1200]\n",
        "donations2 = [382, 389, 377, 397, 396, 368, 369, 392, 398, 367, 393, 396]\n",
        "mean = [400,400,400,400,400,400,400,400,400,400,400,400,]\n",
        "\n",
        "fig = plt.figure()\n",
        "ax = fig.add_subplot()\n",
        "\n",
        "months = range(1, 13)\n",
        "ax.plot(donations1, marker='o')\n",
        "ax.plot(donations2, marker='o')\n",
        "ax.plot(mean)\n",
        "plt.legend([\"Donations 1\", \"Donations 2\", \"Mean\"])\n",
        "\n",
        "plt.show()\n"
      ],
      "execution_count": null,
      "outputs": [
        {
          "output_type": "display_data",
          "data": {
            "image/png": "[encoded data removed]",
            "text/plain": [
              "<Figure size 432x288 with 1 Axes>"
            ]
          },
          "metadata": {
            "tags": [],
            "needs_background": "light"
          }
        }
      ]
    },
    {
      "cell_type": "markdown",
      "metadata": {
        "id": "G_YKMb2yUbVO",
        "colab_type": "text"
      },
      "source": [
        "# 相関 correlation\n",
        "\n",
        "相関係数 correlation coefficient\n",
        "\n",
        "相関係数は正と負があり、1 が最大で -1 が最小である。 0 の場合は少なくとも線形の相関はなく、非線形の相関がある可能性はある。\n",
        "\n",
        "相関関係があることは因果関係を意味しない。 有名な例は、アイスクリームの売上と犯罪率である。"
      ]
    },
    {
      "cell_type": "markdown",
      "metadata": {
        "id": "vldBWEU9W9SZ",
        "colab_type": "text"
      },
      "source": [
        "相関係数は次の公式で計算される。"
      ]
    },
    {
      "cell_type": "code",
      "metadata": {
        "id": "uHDnC0-rWK_F",
        "colab_type": "code",
        "colab": {
          "base_uri": "https://localhost:8080/",
          "height": 59
        },
        "outputId": "f1104660-91f6-4454-cd32-0f2a309b6115"
      },
      "source": [
        "%%latex\n",
        "\\displaystyle\n",
        "\n",
        "\n",
        "\\mathrm{correlation} = \\frac{n \\Sigma {xy} - \\Sigma x \\Sigma y}{\\sqrt {\n",
        "    (n \\Sigma x^2 - (\\Sigma x)^2)\n",
        "    (n \\Sigma y^2 - (\\Sigma y)^2)\n",
        "    }}"
      ],
      "execution_count": null,
      "outputs": [
        {
          "output_type": "display_data",
          "data": {
            "text/latex": "\\displaystyle\n\n\n\\mathrm{correlation} = \\frac{n \\Sigma {xy} - \\Sigma x \\Sigma y}{\\sqrt {\n    (n \\Sigma x^2 - (\\Sigma x)^2)\n    (n \\Sigma y^2 - (\\Sigma y)^2)\n    }}",
            "text/plain": [
              "<IPython.core.display.Latex object>"
            ]
          },
          "metadata": {
            "tags": []
          }
        }
      ]
    },
    {
      "cell_type": "code",
      "metadata": {
        "id": "Q6XzG96hXFo4",
        "colab_type": "code",
        "colab": {}
      },
      "source": [
        "def find_corr_x_y(x, y):\n",
        "    n = len(x)\n",
        "\n",
        "    prod = []\n",
        "    for xi, yi in zip(x, y):\n",
        "        prod.append(xi * yi)\n",
        "\n",
        "    sum_prod_x_y = sum(prod)\n",
        "    sum_x = sum(x)\n",
        "    sum_y = sum(y)\n",
        "    squared_sum_x = sum_x ** 2\n",
        "    squared_sum_y = sum_y ** 2\n",
        "\n",
        "    x_square = []\n",
        "    for xi in x:\n",
        "        x_square.append(xi**2)\n",
        "\n",
        "    x_square_sum = sum(x_square)\n",
        "\n",
        "    y_square = []\n",
        "    for yi in y:\n",
        "        y_square.append(yi ** 2)\n",
        "    y_square_sum = sum(y_square)\n",
        "\n",
        "    numerator = n * sum_prod_x_y - sum_x * sum_y\n",
        "    denominator_term1 = n * x_square_sum - squared_sum_x\n",
        "    denominator_term2 = n * y_square_sum - squared_sum_y\n",
        "    denominator = (denominator_term1 * denominator_term2) ** 0.5\n",
        "    correlation = numerator/denominator\n",
        "\n",
        "    return correlation\n"
      ],
      "execution_count": null,
      "outputs": []
    },
    {
      "cell_type": "markdown",
      "metadata": {
        "id": "_6PKRsirvUwE",
        "colab_type": "text"
      },
      "source": [
        "次の2つの数列の相関関係を調べる。\n",
        "\n",
        "相関関係を見るには、相関係数を算出する前にプロットしてみるのが大切である。"
      ]
    },
    {
      "cell_type": "code",
      "metadata": {
        "id": "tko43Zazvghp",
        "colab_type": "code",
        "colab": {}
      },
      "source": [
        "high_school_grades = [90, 92, 95, 96, 87, 87, 90, 95, 98, 96]\n",
        "college_admission_test = [85, 87, 86, 97, 96, 88, 89, 98, 98, 87]"
      ],
      "execution_count": null,
      "outputs": []
    },
    {
      "cell_type": "code",
      "metadata": {
        "id": "BYq5sbDrvtls",
        "colab_type": "code",
        "colab": {
          "base_uri": "https://localhost:8080/",
          "height": 279
        },
        "outputId": "7b466226-c594-4d8e-ccc0-48c3533400d4"
      },
      "source": [
        "import matplotlib.pyplot as plt\n",
        "\n",
        "fig = plt.figure()\n",
        "ax = fig.add_subplot()\n",
        "\n",
        "high_school_grades = [90, 92, 95, 96, 87, 87, 90, 95, 98, 96]\n",
        "college_admission_test = [85, 87, 86, 97, 96, 88, 89, 98, 98, 87]\n",
        "\n",
        "ax.set_xlabel('High School Grades')\n",
        "ax.set_ylabel('College Admission Test Scores')\n",
        "ax.scatter(high_school_grades, college_admission_test)\n",
        "plt.show()"
      ],
      "execution_count": null,
      "outputs": [
        {
          "output_type": "display_data",
          "data": {
            "image/png": "[encoded data removed]",
            "text/plain": [
              "<Figure size 432x288 with 1 Axes>"
            ]
          },
          "metadata": {
            "tags": [],
            "needs_background": "light"
          }
        }
      ]
    },
    {
      "cell_type": "markdown",
      "metadata": {
        "id": "VzAHKIw_yYwe",
        "colab_type": "text"
      },
      "source": [
        "若干の正の相関関係が見られるが、弱い相関係数である。"
      ]
    },
    {
      "cell_type": "code",
      "metadata": {
        "id": "CVC8qHTOyP_c",
        "colab_type": "code",
        "colab": {
          "base_uri": "https://localhost:8080/",
          "height": 34
        },
        "outputId": "a6ae62ef-7d41-4f63-8c0c-b2c2dd37e673"
      },
      "source": [
        "print (find_corr_x_y(high_school_grades, college_admission_test))"
      ],
      "execution_count": null,
      "outputs": [
        {
          "output_type": "stream",
          "text": [
            "0.3183785775683751\n"
          ],
          "name": "stdout"
        }
      ]
    },
    {
      "cell_type": "markdown",
      "metadata": {
        "id": "fhK1lLQEzZRQ",
        "colab_type": "text"
      },
      "source": [
        "数学のグレードとの相関を見よう。\n",
        "\n",
        "high_school_math_grades = [83, 85, 84, 96, 94, 86, 87, 97, 97, 85]"
      ]
    },
    {
      "cell_type": "code",
      "metadata": {
        "id": "KFyzZzh6zmWs",
        "colab_type": "code",
        "colab": {
          "base_uri": "https://localhost:8080/",
          "height": 279
        },
        "outputId": "1d2d322e-8587-4115-d317-a9095b975733"
      },
      "source": [
        "import matplotlib.pyplot as plt\n",
        "\n",
        "fig = plt.figure()\n",
        "ax = fig.add_subplot()\n",
        "\n",
        "# high_school_grades = [90, 92, 95, 96, 87, 87, 90, 95, 98, 96]\n",
        "high_school_math_grades = [83, 85, 84, 96, 94, 86, 87, 97, 97, 85]\n",
        "college_admission_test = [85, 87, 86, 97, 96, 88, 89, 98, 98, 87]\n",
        "\n",
        "ax.set_xlabel('High School Math Grades')\n",
        "ax.set_ylabel('College Admission Test Scores')\n",
        "ax.scatter(high_school_math_grades, college_admission_test)\n",
        "plt.show()"
      ],
      "execution_count": null,
      "outputs": [
        {
          "output_type": "display_data",
          "data": {
            "image/png": "[encoded data removed]",
            "text/plain": [
              "<Figure size 432x288 with 1 Axes>"
            ]
          },
          "metadata": {
            "tags": [],
            "needs_background": "light"
          }
        }
      ]
    },
    {
      "cell_type": "code",
      "metadata": {
        "id": "pxFjRdgMz05A",
        "colab_type": "code",
        "colab": {
          "base_uri": "https://localhost:8080/",
          "height": 34
        },
        "outputId": "2748fe0d-c84c-4331-cc38-99483a7649cc"
      },
      "source": [
        "print (find_corr_x_y(high_school_math_grades, college_admission_test))"
      ],
      "execution_count": null,
      "outputs": [
        {
          "output_type": "stream",
          "text": [
            "0.9989633063220916\n"
          ],
          "name": "stdout"
        }
      ]
    },
    {
      "cell_type": "markdown",
      "metadata": {
        "id": "RHGMJ9s4z95_",
        "colab_type": "text"
      },
      "source": [
        "相関係数が 1 に近いので、強い正の相関関係であることがわかる。"
      ]
    },
    {
      "cell_type": "markdown",
      "metadata": {
        "id": "sg9py4x5Ju6K",
        "colab_type": "text"
      },
      "source": [
        "# 散布図 scatter plot の重要性\n",
        "\n",
        "統計的な数値、つまり平均、分散、相関係数、が同じでまったく違う性質のデータがある。Francis Anscombe の “Graphs in Statistical Analysis” に書かれている有名な例を見てみよう。\n",
        "\n",
        "次のA, B, C, Dのそれぞれについて2つの数列は同じ平均、分散、相関係数であるが、プロットするとまったく違う性質のデータである。"
      ]
    },
    {
      "cell_type": "code",
      "metadata": {
        "id": "3Y02cd_vNon5",
        "colab_type": "code",
        "colab": {}
      },
      "source": [
        "a_x1 = [10.0, 8.0, 13.0, 9.0, 11.0, 14.0, 6.0, 4.0, 12.0, 7.0, 5.0]\n",
        "a_y1 = [8.04, 6.95, 7.58, 8.81, 8.33, 9.96, 7.24, 4.26, 10.84, 4.82, 5.68]\n",
        "b_x2 = [10.0, 8.0, 13.0, 9.0, 11.0, 14.0, 6.0, 4.0, 12.0, 7.0, 5.0]\n",
        "b_y2 = [9.14, 8.14, 8.74, 8.77, 9.26, 8.10, 6.13, 3.10, 9.13, 7.26, 4.74]\n",
        "c_x3 = [10.0, 8.0, 13.0, 9.0, 11.0, 14.0, 6.0, 4.0, 12.0, 7.0, 5.0]\n",
        "c_y3 = [7.46, 6.77, 12.74, 7.11, 7.81, 8.84, 6.08, 5.39, 8.15, 6.42, 5.73]\n",
        "d_x4 = [8.0, 8.0, 8.0, 8.0, 8.0, 8.0, 8.0, 19.0, 8.0, 8.0, 8.0]\n",
        "d_y4 = [6.58, 5.76, 7.71, 8.84, 8.47, 7.04, 5.25, 12.50, 5.56, 7.91, 6.89]"
      ],
      "execution_count": null,
      "outputs": []
    },
    {
      "cell_type": "code",
      "metadata": {
        "id": "4JsyAPqzP1i3",
        "colab_type": "code",
        "colab": {
          "base_uri": "https://localhost:8080/",
          "height": 101
        },
        "outputId": "3121ffb7-9875-48e7-87eb-88d238cc53b8"
      },
      "source": [
        "a_x1 = [10.0, 8.0, 13.0, 9.0, 11.0, 14.0, 6.0, 4.0, 12.0, 7.0, 5.0]\n",
        "a_y1 = [8.04, 6.95, 7.58, 8.81, 8.33, 9.96, 7.24, 4.26, 10.84, 4.82, 5.68]\n",
        "b_x2 = [10.0, 8.0, 13.0, 9.0, 11.0, 14.0, 6.0, 4.0, 12.0, 7.0, 5.0]\n",
        "b_y2 = [9.14, 8.14, 8.74, 8.77, 9.26, 8.10, 6.13, 3.10, 9.13, 7.26, 4.74]\n",
        "c_x3 = [10.0, 8.0, 13.0, 9.0, 11.0, 14.0, 6.0, 4.0, 12.0, 7.0, 5.0]\n",
        "c_y3 = [7.46, 6.77, 12.74, 7.11, 7.81, 8.84, 6.08, 5.39, 8.15, 6.42, 5.73]\n",
        "d_x4 = [8.0, 8.0, 8.0, 8.0, 8.0, 8.0, 8.0, 19.0, 8.0, 8.0, 8.0]\n",
        "d_y4 = [6.58, 5.76, 7.71, 8.84, 8.47, 7.04, 5.25, 12.50, 5.56, 7.91, 6.89]\n",
        "\n",
        "def mean(numbers):\n",
        "    s = sum(numbers)\n",
        "    N = len(numbers)\n",
        "    mean = s/N\n",
        "    return mean\n",
        "\n",
        "\n",
        "def find_differences(numbers):\n",
        "    mean_num = mean(numbers)\n",
        "    diff = []\n",
        "    for num in numbers:\n",
        "        diff.append(num-mean_num)\n",
        "    return diff\n",
        "\n",
        "\n",
        "def stddev(numbers):\n",
        "    diff = find_differences(numbers)\n",
        "    squared_diff = []\n",
        "    for d in diff:\n",
        "        squared_diff.append(d**2)\n",
        "    sum_squared_diff = sum(squared_diff)\n",
        "    variance = sum_squared_diff/len(numbers)\n",
        "    return variance**0.5\n",
        "\n",
        "def find_corr_x_y(x, y):\n",
        "    n = len(x)\n",
        "\n",
        "    prod = []\n",
        "    for xi, yi in zip(x, y):\n",
        "        prod.append(xi * yi)\n",
        "\n",
        "    sum_prod_x_y = sum(prod)\n",
        "    sum_x = sum(x)\n",
        "    sum_y = sum(y)\n",
        "    squared_sum_x = sum_x ** 2\n",
        "    squared_sum_y = sum_y ** 2\n",
        "\n",
        "    x_square = []\n",
        "    for xi in x:\n",
        "        x_square.append(xi**2)\n",
        "\n",
        "    x_square_sum = sum(x_square)\n",
        "\n",
        "    y_square = []\n",
        "    for yi in y:\n",
        "        y_square.append(yi ** 2)\n",
        "    y_square_sum = sum(y_square)\n",
        "\n",
        "    numerator = n * sum_prod_x_y - sum_x * sum_y\n",
        "    denominator_term1 = n * x_square_sum - squared_sum_x\n",
        "    denominator_term2 = n * y_square_sum - squared_sum_y\n",
        "    denominator = (denominator_term1 * denominator_term2) ** 0.5\n",
        "    correlation = numerator/denominator\n",
        "\n",
        "    return correlation\n",
        "\n",
        "print(\"Followings are mean, deviation of X, mean, deviation of Y, and correlation of A, B, C, D\")\n",
        "print(mean(a_x1), stddev(a_x1), mean(a_y1), stddev(a_y1), find_corr_x_y(a_x1, a_y1))\n",
        "print(mean(b_x2), stddev(b_x2), mean(b_y2), stddev(b_y2), find_corr_x_y(b_x2, b_y2))\n",
        "print(mean(c_x3), stddev(c_x3), mean(c_y3), stddev(c_y3), find_corr_x_y(c_x3, c_y3))\n",
        "print(mean(d_x4), stddev(d_x4), mean(d_y4), stddev(d_y4), find_corr_x_y(d_x4, d_y4))\n"
      ],
      "execution_count": null,
      "outputs": [
        {
          "output_type": "stream",
          "text": [
            "Followings are mean, deviation of X, mean, deviation of Y, and correlation of A, B, C, D\n",
            "9.0 3.1622776601683795 7.500909090909093 1.937024215108669 0.816420516344843\n",
            "9.0 3.1622776601683795 7.500909090909091 1.93710869148962 0.8162365060002422\n",
            "9.0 3.1622776601683795 7.500000000000001 1.9359329439927313 0.8162867394895953\n",
            "9.0 3.1622776601683795 7.50090909090909 1.9360806451340837 0.8165214368885068\n"
          ],
          "name": "stdout"
        }
      ]
    },
    {
      "cell_type": "markdown",
      "metadata": {
        "id": "vvYyaVomfaRg",
        "colab_type": "text"
      },
      "source": [
        "しかし!!!! 散布図は次のようになる。"
      ]
    },
    {
      "cell_type": "code",
      "metadata": {
        "id": "Pv_b-6wBg3Ka",
        "colab_type": "code",
        "colab": {
          "base_uri": "https://localhost:8080/",
          "height": 279
        },
        "outputId": "55c66d7b-053c-404f-bc9f-a3b2d2d4c5fe"
      },
      "source": [
        "import matplotlib.pyplot as plt\n",
        "\n",
        "fig = plt.figure()\n",
        "ax1 = fig.add_subplot(2, 2, 1)\n",
        "ax2 = fig.add_subplot(2, 2, 2)\n",
        "ax3 = fig.add_subplot(2, 2, 3)\n",
        "ax4 = fig.add_subplot(2, 2, 4)\n",
        "\n",
        "ax1.scatter(a_x1, a_y1)\n",
        "ax1.set_xlabel(\"X1\")\n",
        "ax1.set_ylabel(\"Y1\")\n",
        "ax2.scatter(b_x2, b_y2)\n",
        "ax2.set_xlabel(\"X2\")\n",
        "ax2.set_ylabel(\"Y2\")\n",
        "ax3.scatter(c_x3, c_y3)\n",
        "ax3.set_xlabel(\"X3\")\n",
        "ax3.set_ylabel(\"Y3\")\n",
        "ax4.scatter(d_x4, d_y4)\n",
        "ax4.set_xlabel(\"X4\")\n",
        "ax4.set_ylabel(\"Y4\")\n",
        "plt.show()"
      ],
      "execution_count": null,
      "outputs": [
        {
          "output_type": "display_data",
          "data": {
            "image/png": "[encoded data removed]",
            "text/plain": [
              "<Figure size 432x288 with 4 Axes>"
            ]
          },
          "metadata": {
            "tags": [],
            "needs_background": "light"
          }
        }
      ]
    },
    {
      "cell_type": "markdown",
      "metadata": {
        "id": "OHO18g_UqoYH",
        "colab_type": "text"
      },
      "source": [
        "# ファイルの読み書き (省略)\n",
        "\n",
        "テキストファイル\n",
        "\n",
        "CSVファイル\n",
        "\n"
      ]
    },
    {
      "cell_type": "markdown",
      "metadata": {
        "id": "4Qcztfv_wzL6",
        "colab_type": "text"
      },
      "source": [
        "# パーセンタイル(分布)\n",
        "\n",
        "[5, 1, 9, 3, 14, 9, 7] において、50番目のパーセンタイルは 7 であり、25番目のパーセンタイルは 3.5 である。"
      ]
    },
    {
      "cell_type": "markdown",
      "metadata": {
        "id": "TeIjvrY7yAAd",
        "colab_type": "text"
      },
      "source": [
        "パーセンタイルは次のような手順で算出する。 これをプログラム化する。\n",
        "\n",
        "1. パーセンタイル $p$ に対応する値を算出したいとする。\n",
        "2. データを昇順 ascending order でソートする。 これを $\\mathrm{data}$ とする。\n",
        "3. 次に、\n",
        "$$\n",
        "i = \\frac{np}{100} + 0.5\n",
        "$$\n",
        "を算出する。 ここで $n$ はデータの個数である。\n",
        "4. この結果 $i$ が整数ならば $\\mathrm{data[i]}$ がパーセンタイル $p$ に対応する値である。\n",
        "5. もし $i$ が整数でないならば、$i$ の整数部分の値を $k$ とし、小数点以下を $f$ として、\n",
        "$\\mathrm{(1 - f)*data[k] + f * data[k + 1]}$ がパーセンタイル $p$ の値である。\n"
      ]
    },
    {
      "cell_type": "code",
      "metadata": {
        "id": "LJYxjvYAxZnV",
        "colab_type": "code",
        "colab": {
          "base_uri": "https://localhost:8080/",
          "height": 50
        },
        "outputId": "93b9411c-aad0-40e2-a9f4-31c1dfeeea2f"
      },
      "source": [
        "data = [5, 1, 9, 3, 14, 9, 7]\n",
        "\n",
        "def calc_percentile(x, p):\n",
        "    x.sort()\n",
        "    i = len(x)*p / 100 + 0.5\n",
        "    if i == i // 1 :\n",
        "        return (x[int(i-1)])\n",
        "    else:\n",
        "        k = i // 1\n",
        "        f = i % 1\n",
        "        return ((1-f)*x[int(k-1)]+f*x[int(k)])\n",
        "\n",
        "print (calc_percentile(data, 50))\n",
        "print (calc_percentile(data, 25))"
      ],
      "execution_count": null,
      "outputs": [
        {
          "output_type": "stream",
          "text": [
            "7\n",
            "3.5\n"
          ],
          "name": "stdout"
        }
      ]
    },
    {
      "cell_type": "markdown",
      "metadata": {
        "id": "8ZV17iNrbdKO",
        "colab_type": "text"
      },
      "source": [
        "### 頻度表のグループ化 grouped frequency table\n",
        "\n",
        "以前\n",
        "\n",
        "scores = [7, 8, 9, 2, 10, 9, 9, 9, 9, 4, 5, 6, 1, 5, 6, 7, 8, 6, 1, 10]\n",
        "\n",
        "について頻度表を作成したが、これをグループ化して、次のような表を作成したい。\n",
        "\n",
        "Grade | Frequency\n",
        "--- | ---\n",
        "1 - 6 | 6\n",
        "6 - 11 | 14\n",
        "\n",
        "ここで、範囲の 1 - 6 は 1 を含み 6 を含まない。 6 - 11 は 6 を含み 11 を含まない。\n",
        "\n",
        "範囲の作成については次の関数を用いる。\n"
      ]
    },
    {
      "cell_type": "code",
      "metadata": {
        "id": "yoYenAJlbe6R",
        "colab_type": "code",
        "colab": {
          "base_uri": "https://localhost:8080/",
          "height": 34
        },
        "outputId": "1dd4f2f0-76ba-4f52-c538-478bc01ceadb"
      },
      "source": [
        "scores = [7, 8, 9, 2, 10, 9, 9, 9, 9, 4, 5, 6, 1, 5, 6, 7, 8, 6, 1, 10]\n",
        "\n",
        "def create_classes(numbers, n):\n",
        "    low = min(numbers)\n",
        "    high = max(numbers)\n",
        "\n",
        "    width = (high - low) / n\n",
        "    classes = []\n",
        "    a = low\n",
        "    b = low + width\n",
        "    while a < (high - width):\n",
        "        classes.append((a, b))\n",
        "        a = b\n",
        "        b = a + width\n",
        "    classes.append((a, high + 1))\n",
        "    return classes\n",
        "\n",
        "print(create_classes(scores, 2))\n"
      ],
      "execution_count": null,
      "outputs": [
        {
          "output_type": "stream",
          "text": [
            "[(1, 5.5), (5.5, 11)]\n"
          ],
          "name": "stdout"
        }
      ]
    },
    {
      "cell_type": "code",
      "metadata": {
        "id": "_usqz0SIjWgo",
        "colab_type": "code",
        "colab": {
          "base_uri": "https://localhost:8080/",
          "height": 34
        },
        "outputId": "99f404dc-241a-4afe-c011-07aa680e4db9"
      },
      "source": [
        "# create grouped frequency table\n",
        "\n",
        "\n",
        "\n",
        "def create_classes(numbers, n):\n",
        "    low = min(numbers)\n",
        "    high = max(numbers)\n",
        "\n",
        "    width = (high - low) / n\n",
        "    classes = []\n",
        "    a = low\n",
        "    b = low + width\n",
        "    while a < (high - width):\n",
        "        classes.append((a, b))\n",
        "        a = b\n",
        "        b = a + width\n",
        "    classes.append((a, high + 1))\n",
        "    return classes\n",
        "\n",
        "def frequency_counter(l, num_classes):\n",
        "    l.sort()\n",
        "    items = list(set(l))\n",
        "    counts = []\n",
        "    for i in items:\n",
        "        counts.append(l.count(i))\n",
        "    item_count = list(zip(items, counts))\n",
        "\n",
        "    classes = create_classes(l, num_classes)\n",
        "    frequency = []\n",
        "    for class_i in classes:\n",
        "        i = 0\n",
        "        for item in item_count:\n",
        "            if (item[0] >= class_i[0] and item[0] < class_i[1]):\n",
        "                i = i + item[1]\n",
        "        frequency.append(i)\n",
        "\n",
        "    grouped_frequency = list(zip(classes, frequency))\n",
        "\n",
        "    return (grouped_frequency)\n",
        "\n",
        "\n",
        "scores = [7, 8, 9, 2, 10, 9, 9, 9, 9, 4, 5, 6, 1, 5, 6, 7, 8, 6, 1, 10]\n",
        "grouped_frequency = frequency_counter(scores, 2)\n",
        "print(grouped_frequency)"
      ],
      "execution_count": null,
      "outputs": [
        {
          "output_type": "stream",
          "text": [
            "[((1, 5.5), 6), ((5.5, 11), 14)]\n"
          ],
          "name": "stdout"
        }
      ]
    },
    {
      "cell_type": "markdown",
      "metadata": {
        "id": "hSEPWsproSvR",
        "colab_type": "text"
      },
      "source": [
        "# 代数と記号数学 Algebra and Symbolic Math with SymPy"
      ]
    },
    {
      "cell_type": "markdown",
      "metadata": {
        "id": "c9p8sPE-ar1G",
        "colab_type": "text"
      },
      "source": [
        "$x^3 + 3 x^2 + 3 x + 1$ を因数分解せよ。\n",
        "みたいのが簡単に解けるようになるよ!!!!\n"
      ]
    },
    {
      "cell_type": "code",
      "metadata": {
        "id": "AS5eC526azIX",
        "colab_type": "code",
        "colab": {
          "base_uri": "https://localhost:8080/",
          "height": 39
        },
        "outputId": "80f19a48-ab4c-4418-88e6-0eda40514b01"
      },
      "source": [
        "from sympy import *\n",
        "init_printing()\n",
        "x = symbols('x')\n",
        "factor(x**3 + 3*x**2 + 3*x + 1)"
      ],
      "execution_count": null,
      "outputs": [
        {
          "output_type": "execute_result",
          "data": {
            "image/png": "[encoded data removed]",
            "text/latex": "$$\\left(x + 1\\right)^{3}$$",
            "text/plain": [
              "       3\n",
              "(x + 1) "
            ]
          },
          "metadata": {
            "tags": []
          },
          "execution_count": 1
        }
      ]
    },
    {
      "cell_type": "code",
      "metadata": {
        "id": "KcJd7chojSwg",
        "colab_type": "code",
        "colab": {
          "base_uri": "https://localhost:8080/",
          "height": 35
        },
        "outputId": "62c9fc53-bb21-4673-e117-82610f39d0a9"
      },
      "source": [
        "x.name"
      ],
      "execution_count": null,
      "outputs": [
        {
          "output_type": "execute_result",
          "data": {
            "application/vnd.google.colaboratory.intrinsic+json": {
              "type": "string"
            },
            "text/plain": [
              "'x'"
            ]
          },
          "metadata": {
            "tags": []
          },
          "execution_count": 3
        }
      ]
    },
    {
      "cell_type": "code",
      "metadata": {
        "id": "revNfhqGmEwO",
        "colab_type": "code",
        "colab": {
          "base_uri": "https://localhost:8080/",
          "height": 38
        },
        "outputId": "57a133de-4a83-4494-8953-6b52c8ae022f"
      },
      "source": [
        "from sympy import *\n",
        "init_printing()\n",
        "x, y = symbols('x, y')\n",
        "factor(x**2 - y**2)"
      ],
      "execution_count": null,
      "outputs": [
        {
          "output_type": "execute_result",
          "data": {
            "image/png": "[encoded data removed]",
            "text/latex": "$$\\left(x - y\\right) \\left(x + y\\right)$$",
            "text/plain": [
              "(x - y)⋅(x + y)"
            ]
          },
          "metadata": {
            "tags": []
          },
          "execution_count": 9
        }
      ]
    },
    {
      "cell_type": "code",
      "metadata": {
        "id": "HRyQH24MpgyS",
        "colab_type": "code",
        "colab": {
          "base_uri": "https://localhost:8080/",
          "height": 72
        },
        "outputId": "beccf25b-ea64-4d4e-94cb-ca34db8225e4"
      },
      "source": [
        "from sympy import *\n",
        "init_printing()\n",
        "x, y = symbols('x, y')\n",
        "\n",
        "pprint(expand ((x+y)**3))\n",
        "# expand ((x+y)**3)\n",
        "display(expand ((x+y)**3))\n"
      ],
      "execution_count": null,
      "outputs": [
        {
          "output_type": "stream",
          "text": [
            " 3      2          2    3\n",
            "x  + 3⋅x ⋅y + 3⋅x⋅y  + y \n"
          ],
          "name": "stdout"
        },
        {
          "output_type": "display_data",
          "data": {
            "image/png": "[encoded data removed]",
            "text/latex": "$$x^{3} + 3 x^{2} y + 3 x y^{2} + y^{3}$$",
            "text/plain": [
              " 3      2          2    3\n",
              "x  + 3⋅x ⋅y + 3⋅x⋅y  + y "
            ]
          },
          "metadata": {
            "tags": []
          }
        }
      ]
    },
    {
      "cell_type": "code",
      "metadata": {
        "id": "2lx--V19tPmb",
        "colab_type": "code",
        "colab": {
          "base_uri": "https://localhost:8080/",
          "height": 147
        },
        "outputId": "f27262b9-017b-47da-ef6b-697463806a69"
      },
      "source": [
        "from sympy import *\n",
        "init_printing()\n",
        "\n",
        "x = symbols ('x')\n",
        "b = (x + 2) * (x - 2)\n",
        "c = (x**2 - 4) / (x - 2)\n",
        "display(b, c)\n",
        "pprint(c)\n",
        "print(latex(c))"
      ],
      "execution_count": null,
      "outputs": [
        {
          "output_type": "display_data",
          "data": {
            "image/png": "[encoded data removed]",
            "text/latex": "$$\\left(x - 2\\right) \\left(x + 2\\right)$$",
            "text/plain": [
              "(x - 2)⋅(x + 2)"
            ]
          },
          "metadata": {
            "tags": []
          }
        },
        {
          "output_type": "display_data",
          "data": {
            "image/png": "[encoded data removed]",
            "text/latex": "$$\\frac{x^{2} - 4}{x - 2}$$",
            "text/plain": [
              " 2    \n",
              "x  - 4\n",
              "──────\n",
              "x - 2 "
            ]
          },
          "metadata": {
            "tags": []
          }
        },
        {
          "output_type": "stream",
          "text": [
            " 2    \n",
            "x  - 4\n",
            "──────\n",
            "x - 2 \n",
            "\\frac{x^{2} - 4}{x - 2}\n"
          ],
          "name": "stdout"
        }
      ]
    },
    {
      "cell_type": "code",
      "metadata": {
        "id": "J1u4M-r6uPuq",
        "colab_type": "code",
        "colab": {
          "base_uri": "https://localhost:8080/",
          "height": 56
        },
        "outputId": "58145566-9642-4868-c2e8-6ff63b2bbee6"
      },
      "source": [
        "%%latex\n",
        "\\displaystyle\n",
        "\n",
        "\\frac{x^{2} - 4}{x - 2}"
      ],
      "execution_count": null,
      "outputs": [
        {
          "output_type": "display_data",
          "data": {
            "text/latex": "\\displaystyle\n\n\\frac{x^{2} - 4}{x - 2}",
            "text/plain": [
              "<IPython.core.display.Latex object>"
            ]
          },
          "metadata": {
            "tags": []
          }
        }
      ]
    },
    {
      "cell_type": "code",
      "metadata": {
        "id": "_ENC_KxXukXU",
        "colab_type": "code",
        "colab": {
          "base_uri": "https://localhost:8080/",
          "height": 38
        },
        "outputId": "97e76925-39d4-4012-ff65-aecb272d4a33"
      },
      "source": [
        "init_printing(order='rev-lex')\n",
        "expr = 1 + 2*x + 2*x**2\n",
        "\n",
        "expr"
      ],
      "execution_count": null,
      "outputs": [
        {
          "output_type": "execute_result",
          "data": {
            "image/png": "[encoded data removed]",
            "text/latex": "$$1 + 2 x + 2 x^{2}$$",
            "text/plain": [
              "             2\n",
              "1 + 2⋅x + 2⋅x "
            ]
          },
          "metadata": {
            "tags": []
          },
          "execution_count": 9
        }
      ]
    },
    {
      "cell_type": "markdown",
      "metadata": {
        "id": "aw93Mxwut_fH",
        "colab_type": "text"
      },
      "source": [
        "# 数列 sequence, 級数 series\n",
        "\n",
        "次のような級数を考えてみる。\n",
        "\n",
        "$$\n",
        "x + \\frac{x^2}{2} + \\frac{x^3}{3} + \\frac{x^4}{4} + \\dots + \\frac{x^n}{n}\n",
        "$$\n",
        "\n",
        "\n"
      ]
    },
    {
      "cell_type": "code",
      "metadata": {
        "id": "WFqP92c5DI-I",
        "colab_type": "code",
        "colab": {
          "base_uri": "https://localhost:8080/",
          "height": 54
        },
        "outputId": "a4b6052f-8220-47cf-a07e-248f60bfeafb"
      },
      "source": [
        "%%latex\n",
        "\\displaystyle\n",
        "\n",
        "x + \\frac{x^2}{2} + \\frac{x^3}{3} + \\frac{x^4}{4} + \\dots + \\frac{x^n}{n}"
      ],
      "execution_count": null,
      "outputs": [
        {
          "output_type": "display_data",
          "data": {
            "text/latex": "\\displaystyle\n\nx + \\frac{x^2}{2} + \\frac{x^3}{3} + \\frac{x^4}{4} + \\dots + \\frac{x^n}{n}",
            "text/plain": [
              "<IPython.core.display.Latex object>"
            ]
          },
          "metadata": {
            "tags": []
          }
        }
      ]
    },
    {
      "cell_type": "code",
      "metadata": {
        "id": "HqcfYUfDwPpO",
        "colab_type": "code",
        "colab": {
          "base_uri": "https://localhost:8080/",
          "height": 38
        },
        "outputId": "e7019e3b-2949-48b3-ee54-e702dc114617"
      },
      "source": [
        "from sympy import *\n",
        "init_printing()\n",
        "\n",
        "x = symbols('x')\n",
        "\n",
        "display(x)"
      ],
      "execution_count": null,
      "outputs": [
        {
          "output_type": "display_data",
          "data": {
            "image/png": "[encoded data removed]",
            "text/latex": "$$x$$",
            "text/plain": [
              "x"
            ]
          },
          "metadata": {
            "tags": []
          }
        }
      ]
    },
    {
      "cell_type": "code",
      "metadata": {
        "id": "94SIeceexd6L",
        "colab_type": "code",
        "colab": {
          "base_uri": "https://localhost:8080/",
          "height": 41
        },
        "outputId": "59003b3e-8ce5-4986-d5ad-79a181c28127"
      },
      "source": [
        "from sympy import *\n",
        "init_printing()\n",
        "\n",
        "\n",
        "def print_series(n):\n",
        "    init_printing(order='rev-lex')\n",
        "\n",
        "    x = symbols('x')\n",
        "    series = x\n",
        "    for i in range(2, n + 1):\n",
        "        series = series + (x ** i) / i\n",
        "\n",
        "    return series\n",
        "\n",
        "\n",
        "display(print_series(5))\n"
      ],
      "execution_count": null,
      "outputs": [
        {
          "output_type": "display_data",
          "data": {
            "image/png": "[encoded data removed]",
            "text/latex": "$$x + \\frac{x^{2}}{2} + \\frac{x^{3}}{3} + \\frac{x^{4}}{4} + \\frac{x^{5}}{5}$$",
            "text/plain": [
              "     2    3    4    5\n",
              "    x    x    x    x \n",
              "x + ── + ── + ── + ──\n",
              "    2    3    4    5 "
            ]
          },
          "metadata": {
            "tags": []
          }
        }
      ]
    },
    {
      "cell_type": "code",
      "metadata": {
        "id": "_Ggche1jx9yh",
        "colab_type": "code",
        "colab": {
          "base_uri": "https://localhost:8080/",
          "height": 134
        },
        "outputId": "d9203e31-a113-4c25-ac34-bcc5bd5269ab"
      },
      "source": [
        "from sympy import *\n",
        "help(series)"
      ],
      "execution_count": null,
      "outputs": [
        {
          "output_type": "stream",
          "text": [
            "Help on function series in module sympy.series.series:\n",
            "\n",
            "series(expr, x=None, x0=0, n=6, dir='+')\n",
            "    Series expansion of expr around point `x = x0`.\n",
            "    \n",
            "    See the doctring of Expr.series() for complete details of this wrapper.\n",
            "\n"
          ],
          "name": "stdout"
        }
      ]
    },
    {
      "cell_type": "markdown",
      "metadata": {
        "id": "XYDBdZub4OjQ",
        "colab_type": "text"
      },
      "source": [
        "# 値の代入"
      ]
    },
    {
      "cell_type": "code",
      "metadata": {
        "id": "fhji4wTy4Rt0",
        "colab_type": "code",
        "colab": {
          "base_uri": "https://localhost:8080/",
          "height": 58
        },
        "outputId": "2a9872dc-65d8-4e92-e432-9faefd299380"
      },
      "source": [
        "from sympy import *\n",
        "init_printing()\n",
        "\n",
        "x, y = symbols('x, y')\n",
        "expr = x * x + x * y + x * y + y * y\n",
        "display(expr)\n",
        "\n",
        "res = expr.subs({x: 1, y: 2})\n",
        "display(res)"
      ],
      "execution_count": null,
      "outputs": [
        {
          "output_type": "display_data",
          "data": {
            "image/png": "[encoded data removed]",
            "text/latex": "$$x^{2} + 2 x y + y^{2}$$",
            "text/plain": [
              " 2            2\n",
              "x  + 2⋅x⋅y + y "
            ]
          },
          "metadata": {
            "tags": []
          }
        },
        {
          "output_type": "display_data",
          "data": {
            "image/png": "[encoded data removed]",
            "text/latex": "$$9$$",
            "text/plain": [
              "9"
            ]
          },
          "metadata": {
            "tags": []
          }
        }
      ]
    },
    {
      "cell_type": "code",
      "metadata": {
        "id": "o0HSB61k4oRj",
        "colab_type": "code",
        "colab": {
          "base_uri": "https://localhost:8080/",
          "height": 121
        },
        "outputId": "55ac04af-c7d5-45fb-c2ef-fb1bf40a9b54"
      },
      "source": [
        "from sympy import *\n",
        "init_printing()\n",
        "\n",
        "x, y = symbols('x, y')\n",
        "expr = x * x + x * y + x * y + y * y\n",
        "display(expr)\n",
        "\n",
        "res = expr.subs({x: 1, y: 2})\n",
        "display(res)\n",
        "\n",
        "res = expr.subs({x:1-y})\n",
        "display(res)\n",
        "\n",
        "display(expand(res))\n",
        "\n",
        "display (simplify(res))"
      ],
      "execution_count": null,
      "outputs": [
        {
          "output_type": "display_data",
          "data": {
            "image/png": "[encoded data removed]",
            "text/latex": "$$x^{2} + 2 x y + y^{2}$$",
            "text/plain": [
              " 2            2\n",
              "x  + 2⋅x⋅y + y "
            ]
          },
          "metadata": {
            "tags": []
          }
        },
        {
          "output_type": "display_data",
          "data": {
            "image/png": "[encoded data removed]",
            "text/latex": "$$9$$",
            "text/plain": [
              "9"
            ]
          },
          "metadata": {
            "tags": []
          }
        },
        {
          "output_type": "display_data",
          "data": {
            "image/png": "[encoded data removed]",
            "text/latex": "$$y^{2} + 2 y \\left(- y + 1\\right) + \\left(- y + 1\\right)^{2}$$",
            "text/plain": [
              " 2                          2\n",
              "y  + 2⋅y⋅(-y + 1) + (-y + 1) "
            ]
          },
          "metadata": {
            "tags": []
          }
        },
        {
          "output_type": "display_data",
          "data": {
            "image/png": "[encoded data removed]",
            "text/latex": "$$1$$",
            "text/plain": [
              "1"
            ]
          },
          "metadata": {
            "tags": []
          }
        },
        {
          "output_type": "display_data",
          "data": {
            "image/png": "[encoded data removed]",
            "text/latex": "$$1$$",
            "text/plain": [
              "1"
            ]
          },
          "metadata": {
            "tags": []
          }
        }
      ]
    },
    {
      "cell_type": "code",
      "metadata": {
        "id": "LfEQnS6EjCZg",
        "colab_type": "code",
        "colab": {
          "base_uri": "https://localhost:8080/",
          "height": 58
        },
        "outputId": "4f50d140-f045-4777-8036-a54359379f6d"
      },
      "source": [
        "from sympy import *\n",
        "init_printing()\n",
        "\n",
        "\n",
        "def print_series(n):\n",
        "    init_printing(order='rev-lex')\n",
        "\n",
        "    x = symbols('x')\n",
        "    series = x\n",
        "    for i in range(2, n + 1):\n",
        "        series = series + (x ** i) / i\n",
        "\n",
        "    return series\n",
        "\n",
        "\n",
        "# The number of terms in the series:\n",
        "n = 5\n",
        "series = print_series(n)\n",
        "\n",
        "# the Value of x to evalute the series:\n",
        "x_value = 1.2\n",
        "\n",
        "series_value = series.subs({x: x_value})\n",
        "text = \"Value of the series at {0}: {1}\".format(x_value, series_value)\n",
        "\n",
        "display(series)\n",
        "\n",
        "print(text)\n"
      ],
      "execution_count": null,
      "outputs": [
        {
          "output_type": "display_data",
          "data": {
            "image/png": "[encoded data removed]",
            "text/latex": "$$x + \\frac{x^{2}}{2} + \\frac{x^{3}}{3} + \\frac{x^{4}}{4} + \\frac{x^{5}}{5}$$",
            "text/plain": [
              "     2    3    4    5\n",
              "    x    x    x    x \n",
              "x + ── + ── + ── + ──\n",
              "    2    3    4    5 "
            ]
          },
          "metadata": {
            "tags": []
          }
        },
        {
          "output_type": "stream",
          "text": [
            "Value of the series at 1.2: 3.51206400000000\n"
          ],
          "name": "stdout"
        }
      ]
    },
    {
      "cell_type": "markdown",
      "metadata": {
        "id": "paZPCLWQkJRn",
        "colab_type": "text"
      },
      "source": [
        "# 文字列を数式に変換する\n"
      ]
    },
    {
      "cell_type": "code",
      "metadata": {
        "id": "Y91bS9s_kiAt",
        "colab_type": "code",
        "colab": {
          "base_uri": "https://localhost:8080/",
          "height": 132
        },
        "outputId": "5bac33dd-7d35-4fc2-ee04-9f9e614d8b36"
      },
      "source": [
        "from sympy import *\n",
        "init_printing(order='lex')\n",
        "\n",
        "text = \"x**2 + 3*x + x**3 + 2*x\"\n",
        "\n",
        "expr = sympify(text)\n",
        "\n",
        "display (expr)\n",
        "\n",
        "display(2*expr)\n"
      ],
      "execution_count": null,
      "outputs": [
        {
          "output_type": "error",
          "ename": "SyntaxError",
          "evalue": "ignored",
          "traceback": [
            "\u001b[0;36m  File \u001b[0;32m\"<ipython-input-29-6ac2a7b05f50>\"\u001b[0;36m, line \u001b[0;32m12\u001b[0m\n\u001b[0;31m    sympify(\"x^3\"+2x)\u001b[0m\n\u001b[0m                   ^\u001b[0m\n\u001b[0;31mSyntaxError\u001b[0m\u001b[0;31m:\u001b[0m invalid syntax\n"
          ]
        }
      ]
    },
    {
      "cell_type": "markdown",
      "metadata": {
        "id": "I3eDD8Ial_sr",
        "colab_type": "text"
      },
      "source": [
        "# 例外処理 catch SympifyError exception"
      ]
    },
    {
      "cell_type": "code",
      "metadata": {
        "id": "eKTBST7zmFMU",
        "colab_type": "code",
        "colab": {
          "base_uri": "https://localhost:8080/",
          "height": 34
        },
        "outputId": "d479a924-ac84-4189-bb89-566b3af8a5a1"
      },
      "source": [
        "from sympy import *\n",
        "init_printing()\n",
        "\n",
        "text = \"x**2 + 3*x + x**3 + 2x\"\n",
        "\n",
        "try:\n",
        "    expr = sympify(text)\n",
        "    display(expr)\n",
        "except SympifyError:\n",
        "    print ('Invalid text')\n"
      ],
      "execution_count": null,
      "outputs": [
        {
          "output_type": "stream",
          "text": [
            "Invalid text\n"
          ],
          "name": "stdout"
        }
      ]
    },
    {
      "cell_type": "code",
      "metadata": {
        "id": "qKNgn0KUm8fK",
        "colab_type": "code",
        "colab": {
          "base_uri": "https://localhost:8080/",
          "height": 60
        },
        "outputId": "594101d1-1ba3-4871-e7b5-8a22293e3537"
      },
      "source": [
        "from sympy import *\n",
        "init_printing()\n",
        "\n",
        "x,y = symbols('x, y')\n",
        "\n",
        "def product(expr1, expr2):\n",
        "    prod = expand(expr1 * expr2)\n",
        "    return prod\n",
        "\n",
        "\n",
        "expr1 = \"2*x - 3\"\n",
        "expr2 = \"x + y + 1\"\n",
        "\n",
        "expr1 = sympify(expr1)\n",
        "expr2 = sympify(expr2)\n",
        "\n",
        "display(product(expr1, expr2))\n",
        "display(factor(product(expr1, expr2)))"
      ],
      "execution_count": null,
      "outputs": [
        {
          "output_type": "display_data",
          "data": {
            "image/png": "[encoded data removed]",
            "text/latex": "$$2 x^{2} + 2 x y - x - 3 y - 3$$",
            "text/plain": [
              "   2                      \n",
              "2⋅x  + 2⋅x⋅y - x - 3⋅y - 3"
            ]
          },
          "metadata": {
            "tags": []
          }
        },
        {
          "output_type": "display_data",
          "data": {
            "image/png": "[encoded data removed]",
            "text/latex": "$$\\left(2 x - 3\\right) \\left(x + y + 1\\right)$$",
            "text/plain": [
              "(2⋅x - 3)⋅(x + y + 1)"
            ]
          },
          "metadata": {
            "tags": []
          }
        }
      ]
    },
    {
      "cell_type": "code",
      "metadata": {
        "id": "muyLE0EAxAh-",
        "colab_type": "code",
        "colab": {
          "base_uri": "https://localhost:8080/",
          "height": 103
        },
        "outputId": "63d8ef94-bea1-4dfc-9ceb-2c969d589306"
      },
      "source": [
        "from sympy import *\n",
        "init_printing()\n",
        "\n",
        "x, y = symbols(\"x, y\")\n",
        "\n",
        "\n",
        "expr1 = x ** 2 + x * 2 + x\n",
        "expr2 = x ** 3 + x * 3 + x\n",
        "\n",
        "display(expr1 * expr2)\n",
        "display(expand(expr1 * expr2))\n",
        "\n",
        "expr3 = x * y + x\n",
        "expr4 = x * x + y\n",
        "\n",
        "display(expr3 * expr4)\n",
        "display(expand(expr3*expr4))"
      ],
      "execution_count": null,
      "outputs": [
        {
          "output_type": "display_data",
          "data": {
            "image/png": "[encoded data removed]",
            "text/latex": "$$\\left(x^{2} + 3 x\\right) \\left(x^{3} + 4 x\\right)$$",
            "text/plain": [
              "⎛ 2      ⎞ ⎛ 3      ⎞\n",
              "⎝x  + 3⋅x⎠⋅⎝x  + 4⋅x⎠"
            ]
          },
          "metadata": {
            "tags": []
          }
        },
        {
          "output_type": "display_data",
          "data": {
            "image/png": "[encoded data removed]",
            "text/latex": "$$x^{5} + 3 x^{4} + 4 x^{3} + 12 x^{2}$$",
            "text/plain": [
              " 5      4      3       2\n",
              "x  + 3⋅x  + 4⋅x  + 12⋅x "
            ]
          },
          "metadata": {
            "tags": []
          }
        },
        {
          "output_type": "display_data",
          "data": {
            "image/png": "[encoded data removed]",
            "text/latex": "$$\\left(x^{2} + y\\right) \\left(x y + x\\right)$$",
            "text/plain": [
              "⎛ 2    ⎞          \n",
              "⎝x  + y⎠⋅(x⋅y + x)"
            ]
          },
          "metadata": {
            "tags": []
          }
        },
        {
          "output_type": "display_data",
          "data": {
            "image/png": "[encoded data removed]",
            "text/latex": "$$x^{3} y + x^{3} + x y^{2} + x y$$",
            "text/plain": [
              " 3      3      2      \n",
              "x ⋅y + x  + x⋅y  + x⋅y"
            ]
          },
          "metadata": {
            "tags": []
          }
        }
      ]
    },
    {
      "cell_type": "markdown",
      "metadata": {
        "id": "UglEiRbxQfMQ",
        "colab_type": "text"
      },
      "source": [
        "# 方程式を解く\n"
      ]
    },
    {
      "cell_type": "code",
      "metadata": {
        "id": "fgiU8Oa6Qh7s",
        "colab_type": "code",
        "colab": {
          "base_uri": "https://localhost:8080/",
          "height": 58
        },
        "outputId": "1295a9b0-67ad-48f5-9292-b33ed93d00be"
      },
      "source": [
        "from sympy import *\n",
        "init_printing()\n",
        "\n",
        "x, y = symbols(\"x, y\")\n",
        "\n",
        "expr = x - 5 - 7\n",
        "display(expr)\n",
        "solve(expr)"
      ],
      "execution_count": null,
      "outputs": [
        {
          "output_type": "display_data",
          "data": {
            "image/png": "[encoded data removed]",
            "text/latex": "$$x - 12$$",
            "text/plain": [
              "x - 12"
            ]
          },
          "metadata": {
            "tags": []
          }
        },
        {
          "output_type": "execute_result",
          "data": {
            "image/png": "[encoded data removed]",
            "text/latex": "$$\\left [ 12\\right ]$$",
            "text/plain": [
              "[12]"
            ]
          },
          "metadata": {
            "tags": []
          },
          "execution_count": 1
        }
      ]
    },
    {
      "cell_type": "code",
      "metadata": {
        "id": "f8NQ_hGMRKq7",
        "colab_type": "code",
        "colab": {
          "base_uri": "https://localhost:8080/",
          "height": 80
        },
        "outputId": "448351fb-2b98-439d-bd8c-271d64859a1a"
      },
      "source": [
        "from sympy import *\n",
        "init_printing()\n",
        "\n",
        "x, y = symbols(\"x, y\")\n",
        "\n",
        "expr = x**2 + 5*x + 4\n",
        "display(expr)\n",
        "display(solve(expr))\n",
        "solve(expr, dict=True)"
      ],
      "execution_count": null,
      "outputs": [
        {
          "output_type": "display_data",
          "data": {
            "image/png": "[encoded data removed]",
            "text/latex": "$$x^{2} + 5 x + 4$$",
            "text/plain": [
              " 2          \n",
              "x  + 5⋅x + 4"
            ]
          },
          "metadata": {
            "tags": []
          }
        },
        {
          "output_type": "display_data",
          "data": {
            "image/png": "[encoded data removed]",
            "text/latex": "$$\\left [ -4, \\quad -1\\right ]$$",
            "text/plain": [
              "[-4, -1]"
            ]
          },
          "metadata": {
            "tags": []
          }
        },
        {
          "output_type": "execute_result",
          "data": {
            "image/png": "[encoded data removed]",
            "text/latex": "$$\\left [ \\left \\{ x : -4\\right \\}, \\quad \\left \\{ x : -1\\right \\}\\right ]$$",
            "text/plain": [
              "[{x: -4}, {x: -1}]"
            ]
          },
          "metadata": {
            "tags": []
          },
          "execution_count": 4
        }
      ]
    },
    {
      "cell_type": "code",
      "metadata": {
        "id": "wSAh0NV0RsgD",
        "colab_type": "code",
        "colab": {
          "base_uri": "https://localhost:8080/",
          "height": 99
        },
        "outputId": "6fd4823a-0788-4c0b-efc7-276b3ff3c25a"
      },
      "source": [
        "from sympy import *\n",
        "init_printing()\n",
        "\n",
        "x, y = symbols(\"x, y\")\n",
        "\n",
        "expr = x**2 + x + 1\n",
        "display(expr)\n",
        "display(solve(expr))\n",
        "solve(expr, dict=True)"
      ],
      "execution_count": null,
      "outputs": [
        {
          "output_type": "display_data",
          "data": {
            "image/png": "[encoded data removed]",
            "text/latex": "$$x^{2} + x + 1$$",
            "text/plain": [
              " 2        \n",
              "x  + x + 1"
            ]
          },
          "metadata": {
            "tags": []
          }
        },
        {
          "output_type": "display_data",
          "data": {
            "image/png": "[encoded data removed]",
            "text/latex": "$$\\left [ - \\frac{1}{2} - \\frac{\\sqrt{3} i}{2}, \\quad - \\frac{1}{2} + \\frac{\\sqrt{3} i}{2}\\right ]$$",
            "text/plain": [
              "⎡  1   √3⋅ⅈ    1   √3⋅ⅈ⎤\n",
              "⎢- ─ - ────, - ─ + ────⎥\n",
              "⎣  2    2      2    2  ⎦"
            ]
          },
          "metadata": {
            "tags": []
          }
        },
        {
          "output_type": "execute_result",
          "data": {
            "image/png": "[encoded data removed]",
            "text/latex": "$$\\left [ \\left \\{ x : - \\frac{1}{2} - \\frac{\\sqrt{3} i}{2}\\right \\}, \\quad \\left \\{ x : - \\frac{1}{2} + \\frac{\\sqrt{3} i}{2}\\right \\}\\right ]$$",
            "text/plain": [
              "⎡⎧     1   √3⋅ⅈ⎫  ⎧     1   √3⋅ⅈ⎫⎤\n",
              "⎢⎨x: - ─ - ────⎬, ⎨x: - ─ + ────⎬⎥\n",
              "⎣⎩     2    2  ⎭  ⎩     2    2  ⎭⎦"
            ]
          },
          "metadata": {
            "tags": []
          },
          "execution_count": 5
        }
      ]
    },
    {
      "cell_type": "code",
      "metadata": {
        "id": "vNU8bwaOSKSD",
        "colab_type": "code",
        "colab": {
          "base_uri": "https://localhost:8080/",
          "height": 82
        },
        "outputId": "020af0ec-073c-4dbc-d6a5-dc4765c4755e"
      },
      "source": [
        "from sympy import *\n",
        "init_printing()\n",
        "\n",
        "a, b, c, x, y = symbols(\"a, b, c, x, y\")\n",
        "\n",
        "\n",
        "expr = a*x**2 + b*x + c\n",
        "display(expr)\n",
        "display(solve(expr, x))\n",
        "solve(expr, x, dict=True)\n"
      ],
      "execution_count": null,
      "outputs": [
        {
          "output_type": "display_data",
          "data": {
            "image/png": "[encoded data removed]",
            "text/latex": "$$a x^{2} + b x + c$$",
            "text/plain": [
              "   2          \n",
              "a⋅x  + b⋅x + c"
            ]
          },
          "metadata": {
            "tags": []
          }
        },
        {
          "output_type": "display_data",
          "data": {
            "image/png": "[encoded data removed]",
            "text/latex": "$$\\left [ \\frac{1}{2 a} \\left(- b + \\sqrt{- 4 a c + b^{2}}\\right), \\quad - \\frac{1}{2 a} \\left(b + \\sqrt{- 4 a c + b^{2}}\\right)\\right ]$$",
            "text/plain": [
              "⎡        _____________   ⎛       _____________⎞ ⎤\n",
              "⎢       ╱           2    ⎜      ╱           2 ⎟ ⎥\n",
              "⎢-b + ╲╱  -4⋅a⋅c + b    -⎝b + ╲╱  -4⋅a⋅c + b  ⎠ ⎥\n",
              "⎢─────────────────────, ────────────────────────⎥\n",
              "⎣         2⋅a                     2⋅a           ⎦"
            ]
          },
          "metadata": {
            "tags": []
          }
        },
        {
          "output_type": "execute_result",
          "data": {
            "image/png": "[encoded data removed]",
            "text/latex": "$$\\left [ \\left \\{ x : \\frac{1}{2 a} \\left(- b + \\sqrt{- 4 a c + b^{2}}\\right)\\right \\}, \\quad \\left \\{ x : - \\frac{1}{2 a} \\left(b + \\sqrt{- 4 a c + b^{2}}\\right)\\right \\}\\right ]$$",
            "text/plain": [
              "⎡⎧           _____________⎫  ⎧    ⎛       _____________⎞ ⎫⎤\n",
              "⎢⎪          ╱           2 ⎪  ⎪    ⎜      ╱           2 ⎟ ⎪⎥\n",
              "⎢⎨   -b + ╲╱  -4⋅a⋅c + b  ⎬  ⎨   -⎝b + ╲╱  -4⋅a⋅c + b  ⎠ ⎬⎥\n",
              "⎢⎪x: ─────────────────────⎪, ⎪x: ────────────────────────⎪⎥\n",
              "⎣⎩            2⋅a         ⎭  ⎩             2⋅a           ⎭⎦"
            ]
          },
          "metadata": {
            "tags": []
          },
          "execution_count": 7
        }
      ]
    },
    {
      "cell_type": "code",
      "metadata": {
        "id": "rKRZ0y1yS7aO",
        "colab_type": "code",
        "colab": {
          "base_uri": "https://localhost:8080/",
          "height": 82
        },
        "outputId": "c6ea2a06-a350-40ab-a743-586387053da5"
      },
      "source": [
        "from sympy import *\n",
        "init_printing()\n",
        "\n",
        "a, b, c, x, y = symbols(\"a, b, c, x, y\")\n",
        "\n",
        "\n",
        "expr = (x - 1) * (y - 2)\n",
        "display(expand(expr))\n",
        "display(solve(expr, x, y))\n",
        "solve(expr, x, y, dict=True)\n"
      ],
      "execution_count": null,
      "outputs": [
        {
          "output_type": "display_data",
          "data": {
            "image/png": "[encoded data removed]",
            "text/latex": "$$x y - 2 x - y + 2$$",
            "text/plain": [
              "x⋅y - 2⋅x - y + 2"
            ]
          },
          "metadata": {
            "tags": []
          }
        },
        {
          "output_type": "display_data",
          "data": {
            "image/png": "[encoded data removed]",
            "text/latex": "$$\\left [ \\left \\{ x : 1\\right \\}, \\quad \\left \\{ y : 2\\right \\}\\right ]$$",
            "text/plain": [
              "[{x: 1}, {y: 2}]"
            ]
          },
          "metadata": {
            "tags": []
          }
        },
        {
          "output_type": "execute_result",
          "data": {
            "image/png": "[encoded data removed]",
            "text/latex": "$$\\left [ \\left \\{ x : 1\\right \\}, \\quad \\left \\{ y : 2\\right \\}\\right ]$$",
            "text/plain": [
              "[{x: 1}, {y: 2}]"
            ]
          },
          "metadata": {
            "tags": []
          },
          "execution_count": 11
        }
      ]
    },
    {
      "cell_type": "markdown",
      "metadata": {
        "id": "5ggTR1JG-D8e",
        "colab_type": "text"
      },
      "source": [
        "### 運動方程式\n",
        "\n",
        "次に物理学の運動方程式の1つを考える。\n",
        "\n",
        "加速度が $a$ で一定で、初期速度 $u$ の物体が $t$ 時間の間に移動する距離は次の公式で与えられる。\n",
        "\n",
        "$$\n",
        "s = ut + \\frac12 a t^2\n",
        "$$\n"
      ]
    },
    {
      "cell_type": "code",
      "metadata": {
        "id": "XO_VuEV3-u9Q",
        "colab_type": "code",
        "colab": {
          "base_uri": "https://localhost:8080/",
          "height": 51
        },
        "outputId": "9dacb9fd-7f32-4383-a1dd-9811d51137da"
      },
      "source": [
        "%%latex\n",
        "\\displaystyle\n",
        "\n",
        "s = ut + \\frac12 at^2"
      ],
      "execution_count": null,
      "outputs": [
        {
          "output_type": "display_data",
          "data": {
            "text/latex": "\\displaystyle\n\ns = ut + \\frac12 at^2",
            "text/plain": [
              "<IPython.core.display.Latex object>"
            ]
          },
          "metadata": {
            "tags": []
          }
        }
      ]
    },
    {
      "cell_type": "markdown",
      "metadata": {
        "id": "dQW5XO4i_KY0",
        "colab_type": "text"
      },
      "source": [
        "距離 $s$ を移動するのに必要な時間 $t$ を solve() を使って解いてみよう。"
      ]
    },
    {
      "cell_type": "code",
      "metadata": {
        "id": "AEXjU24h_7Lb",
        "colab_type": "code",
        "colab": {
          "base_uri": "https://localhost:8080/",
          "height": 91
        },
        "outputId": "345a71ee-da91-410b-fad8-b57b3447f5c2"
      },
      "source": [
        "from sympy import *\n",
        "init_printing()\n",
        "\n",
        "s, u, t, a = symbols(\"s,u,t,a\")\n",
        "\n",
        "\n",
        "expr = u * t + (1 / 2) * a * t * t - s\n",
        "t_expr = solve(expr, t, dict=True)\n",
        "display(t_expr)\n",
        "print()\n",
        "latex(t_expr)"
      ],
      "execution_count": null,
      "outputs": [
        {
          "output_type": "display_data",
          "data": {
            "image/png": "[encoded data removed]",
            "text/latex": "$$\\left [ \\left \\{ t : \\frac{1}{a} \\left(- u + \\sqrt{2.0 a s + u^{2}}\\right)\\right \\}, \\quad \\left \\{ t : - \\frac{1}{a} \\left(u + \\sqrt{2.0 a s + u^{2}}\\right)\\right \\}\\right ]$$",
            "text/plain": [
              "⎡⎧           ______________⎫  ⎧    ⎛       ______________⎞ ⎫⎤\n",
              "⎢⎪          ╱            2 ⎪  ⎪    ⎜      ╱            2 ⎟ ⎪⎥\n",
              "⎢⎨   -u + ╲╱  2.0⋅a⋅s + u  ⎬  ⎨   -⎝u + ╲╱  2.0⋅a⋅s + u  ⎠ ⎬⎥\n",
              "⎢⎪t: ──────────────────────⎪, ⎪t: ─────────────────────────⎪⎥\n",
              "⎣⎩             a           ⎭  ⎩               a            ⎭⎦"
            ]
          },
          "metadata": {
            "tags": []
          }
        },
        {
          "output_type": "stream",
          "text": [
            "\n"
          ],
          "name": "stdout"
        },
        {
          "output_type": "execute_result",
          "data": {
            "application/vnd.google.colaboratory.intrinsic+json": {
              "type": "string"
            },
            "text/plain": [
              "'\\\\left [ \\\\left \\\\{ t : \\\\frac{1}{a} \\\\left(- u + \\\\sqrt{2.0 a s + u^{2}}\\\\right)\\\\right \\\\}, \\\\quad \\\\left \\\\{ t : - \\\\frac{1}{a} \\\\left(u + \\\\sqrt{2.0 a s + u^{2}}\\\\right)\\\\right \\\\}\\\\right ]'"
            ]
          },
          "metadata": {
            "tags": []
          },
          "execution_count": 5
        }
      ]
    },
    {
      "cell_type": "markdown",
      "metadata": {
        "id": "XipQlOVFANTo",
        "colab_type": "text"
      },
      "source": [
        "$$\n",
        "\\left [ \\left \\{ \n",
        "    t : \\frac{- u + \\sqrt{2.0 a s + u^2}}{a}\n",
        "\\right \\}, \\quad \\left \\{ \n",
        "    t : - \\frac{u + \\sqrt{2.0 a s + u^2}}{a}\n",
        "\\right \\}\\right ]\n",
        "$$"
      ]
    },
    {
      "cell_type": "markdown",
      "metadata": {
        "id": "ezlftY1rCArL",
        "colab_type": "text"
      },
      "source": [
        "$t$ の式を得たので、$s, u, a$ を subs() で代入すれば $t$ の2つの値を得ることができる。"
      ]
    },
    {
      "cell_type": "markdown",
      "metadata": {
        "id": "j5OKA5InCh2x",
        "colab_type": "text"
      },
      "source": [
        "# 線形方程式 linear equation\n",
        "\n",
        "次の2つの方程式を考える。\n",
        "\n",
        "$$\n",
        "\\begin{array}{ll}\n",
        "2x + 3y &=& 6 \\\\\n",
        "3x + 2y &=& 12\n",
        "\\end{array}\n",
        "$$"
      ]
    },
    {
      "cell_type": "code",
      "metadata": {
        "id": "dH9BgdV4EBTS",
        "colab_type": "code",
        "colab": {
          "base_uri": "https://localhost:8080/",
          "height": 58
        },
        "outputId": "de811c7f-c604-4297-b72a-5327fdd85836"
      },
      "source": [
        "%%latex\n",
        "\\displaystyle\n",
        "\n",
        "\\begin{array}{ll}\n",
        "2x + 3y &=& 6  \\\\\n",
        "3x + 2y &=& 12\n",
        "\\end{array}"
      ],
      "execution_count": null,
      "outputs": [
        {
          "output_type": "display_data",
          "data": {
            "text/latex": "\\displaystyle\n\n\\begin{array}{ll}\n2x + 3y &=& 6  \\\\\n3x + 2y &=& 12\n\\end{array}",
            "text/plain": [
              "<IPython.core.display.Latex object>"
            ]
          },
          "metadata": {
            "tags": []
          }
        }
      ]
    },
    {
      "cell_type": "code",
      "metadata": {
        "id": "RA2jw6SBve28",
        "colab_type": "code",
        "colab": {
          "base_uri": "https://localhost:8080/",
          "height": 38
        },
        "outputId": "a9ad6bf2-53d1-472b-f706-44227532a6cc"
      },
      "source": [
        "from sympy import *\n",
        "init_printing()\n",
        "\n",
        "x, y = symbols(\"x, y\")\n",
        "\n",
        "\n",
        "expr1 = 2 * x + 3 * y - 6\n",
        "expr2 = 3 * x + 2 * y - 12\n",
        "\n",
        "solve((expr1, expr2))\n"
      ],
      "execution_count": 1,
      "outputs": [
        {
          "output_type": "execute_result",
          "data": {
            "image/png": "[encoded data removed]",
            "text/latex": "$$\\left \\{ x : \\frac{24}{5}, \\quad y : - \\frac{6}{5}\\right \\}$$",
            "text/plain": [
              "{x: 24/5, y: -6/5}"
            ]
          },
          "metadata": {
            "tags": []
          },
          "execution_count": 1
        }
      ]
    },
    {
      "cell_type": "code",
      "metadata": {
        "id": "ynWkPgI7vn83",
        "colab_type": "code",
        "colab": {
          "base_uri": "https://localhost:8080/",
          "height": 38
        },
        "outputId": "ce962f70-fb8b-479d-dbf5-011e719dcf19"
      },
      "source": [
        "solve((expr1, expr2), dict=True)"
      ],
      "execution_count": 2,
      "outputs": [
        {
          "output_type": "execute_result",
          "data": {
            "image/png": "[encoded data removed]",
            "text/latex": "$$\\left [ \\left \\{ x : \\frac{24}{5}, \\quad y : - \\frac{6}{5}\\right \\}\\right ]$$",
            "text/plain": [
              "[{x: 24/5, y: -6/5}]"
            ]
          },
          "metadata": {
            "tags": []
          },
          "execution_count": 2
        }
      ]
    },
    {
      "cell_type": "code",
      "metadata": {
        "id": "sZSpgZfsxl2Y",
        "colab_type": "code",
        "colab": {
          "base_uri": "https://localhost:8080/",
          "height": 57
        },
        "outputId": "3cb3436e-8527-4862-8962-671300df23b1"
      },
      "source": [
        "soln = solve((expr1, expr2))\n",
        "display(expr1.subs({x:soln[x], y:soln[y]}))\n",
        "display(expr2.subs({x:soln[x], y:soln[y]}))\n"
      ],
      "execution_count": 6,
      "outputs": [
        {
          "output_type": "display_data",
          "data": {
            "image/png": "[encoded data removed]",
            "text/latex": "$$0$$",
            "text/plain": [
              "0"
            ]
          },
          "metadata": {
            "tags": []
          }
        },
        {
          "output_type": "display_data",
          "data": {
            "image/png": "[encoded data removed]",
            "text/latex": "$$0$$",
            "text/plain": [
              "0"
            ]
          },
          "metadata": {
            "tags": []
          }
        }
      ]
    },
    {
      "cell_type": "markdown",
      "metadata": {
        "id": "2spy-mq9ya-g",
        "colab_type": "text"
      },
      "source": [
        "# 数式でグラフを描く\n",
        "\n",
        "テキストでは sympy.plotting.plot を使っているがうまく行かないのと、sympy.plotting.plot でも裏で matplotlib.pyplot を使っているので、以下、matplotlib.pyplot で描いてみる。"
      ]
    },
    {
      "cell_type": "code",
      "metadata": {
        "id": "N5OmRXo6y9CT",
        "colab_type": "code",
        "colab": {
          "base_uri": "https://localhost:8080/",
          "height": 269
        },
        "outputId": "3bb91a8d-6e63-42f6-ae63-792a3b1438f3"
      },
      "source": [
        "import matplotlib.pyplot as plt\n",
        "import numpy as np\n",
        "\n",
        "fig = plt.figure()\n",
        "ax = fig.add_subplot()\n",
        "\n",
        "x = np.linspace(-10, 10, 400)\n",
        "y = 2 * x + 3\n",
        "ax.plot(x, y)\n",
        "\n",
        "fig.show()"
      ],
      "execution_count": 21,
      "outputs": [
        {
          "output_type": "display_data",
          "data": {
            "image/png": "[encoded data removed]",
            "text/plain": [
              "<Figure size 432x288 with 1 Axes>"
            ]
          },
          "metadata": {
            "tags": [],
            "needs_background": "light"
          }
        }
      ]
    },
    {
      "cell_type": "markdown",
      "metadata": {
        "id": "37XdW_uhMA_Y",
        "colab_type": "text"
      },
      "source": [
        "matplotlibのグラフでは普通 x=0 , y = 0 の軸を描かないが、描くとすると次のようになる。"
      ]
    },
    {
      "cell_type": "code",
      "metadata": {
        "id": "h-N5w-Iz1Jdq",
        "colab_type": "code",
        "colab": {
          "base_uri": "https://localhost:8080/",
          "height": 269
        },
        "outputId": "933152e2-d0f0-40ec-a5fc-7d05f221e809"
      },
      "source": [
        "import matplotlib.pyplot as plt\n",
        "import numpy as np\n",
        "\n",
        "fig = plt.figure()\n",
        "ax = fig.add_subplot()\n",
        "\n",
        "x = np.linspace(-10, 10, 400)\n",
        "y = 2 * x + 3\n",
        "ax.plot(x, y)\n",
        "\n",
        "ax.axhline(y=0)\n",
        "ax.axvline(x=0)\n",
        "ax.grid(true)\n",
        "fig.show()"
      ],
      "execution_count": 22,
      "outputs": [
        {
          "output_type": "display_data",
          "data": {
            "image/png": "[encoded data removed]",
            "text/plain": [
              "<Figure size 432x288 with 1 Axes>"
            ]
          },
          "metadata": {
            "tags": [],
            "needs_background": "light"
          }
        }
      ]
    },
    {
      "cell_type": "markdown",
      "metadata": {
        "id": "AsMx-qHyM-U-",
        "colab_type": "text"
      },
      "source": [
        "タイトルなどをつけてみよう。"
      ]
    },
    {
      "cell_type": "code",
      "metadata": {
        "id": "BB9Pwbi0NWdw",
        "colab_type": "code",
        "colab": {
          "base_uri": "https://localhost:8080/",
          "height": 295
        },
        "outputId": "0cec8f85-4c91-4a6f-add3-f1b7872ee60d"
      },
      "source": [
        "import matplotlib.pyplot as plt\n",
        "import numpy as np\n",
        "\n",
        "fig = plt.figure()\n",
        "ax = fig.add_subplot()\n",
        "\n",
        "x = np.linspace(-10, 10, 400)\n",
        "y = 2 * x + 3\n",
        "ax.plot(x, y)\n",
        "ax.set_title('A line')\n",
        "ax.set_xlabel('x')\n",
        "ax.set_ylabel('2x + 3')\n",
        "\n",
        "ax.grid(true)\n",
        "fig.show()\n"
      ],
      "execution_count": 23,
      "outputs": [
        {
          "output_type": "display_data",
          "data": {
            "image/png": "[encoded data removed]",
            "text/plain": [
              "<Figure size 432x288 with 1 Axes>"
            ]
          },
          "metadata": {
            "tags": [],
            "needs_background": "light"
          }
        }
      ]
    },
    {
      "cell_type": "markdown",
      "metadata": {
        "id": "6Lvyf4Cs3pau",
        "colab_type": "text"
      },
      "source": [
        "# p.112"
      ]
    }
  ]
}