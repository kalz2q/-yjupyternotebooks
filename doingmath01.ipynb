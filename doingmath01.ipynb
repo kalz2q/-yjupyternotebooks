{
  "nbformat": 4,
  "nbformat_minor": 0,
  "metadata": {
    "colab": {
      "name": "doingmath01.ipynb",
      "provenance": [],
      "authorship_tag": "ABX9TyOIowheP9dT1RUprOKDHeU2",
      "include_colab_link": true
    },
    "kernelspec": {
      "name": "python3",
      "display_name": "Python 3"
    }
  },
  "cells": [
    {
      "cell_type": "markdown",
      "metadata": {
        "id": "view-in-github",
        "colab_type": "text"
      },
      "source": [
        "<a href=\"https://colab.research.google.com/github/kalz2q/mycolabnotebooks/blob/master/doingmath01.ipynb\" target=\"_parent\"><img src=\"https://colab.research.google.com/assets/colab-badge.svg\" alt=\"Open In Colab\"/></a>"
      ]
    },
    {
      "cell_type": "code",
      "metadata": {
        "id": "ZBGWZ1XhU0CG",
        "colab_type": "code",
        "colab": {}
      },
      "source": [
        ""
      ],
      "execution_count": null,
      "outputs": []
    },
    {
      "cell_type": "markdown",
      "metadata": {
        "id": "bxuf1ndUU05q",
        "colab_type": "text"
      },
      "source": [
        "# メモ\n",
        "\n",
        "> Doing Math with Python: Use Programming to Explore Algebra, Statistics, Calculus, and More! Amit Saha\n",
        "\n",
        "を `Colab` でなぞりながら読む。\n",
        "\n",
        "本のまえがきに高校数学でプログラミングを学ぶ、と書いてあるので、あちらの高校数学の概要がわかり、自分にとっては復習になるかもしれない。\n",
        "\n",
        "途中でめげるかもしれないがとりあえず始めてみよう。\n",
        "\n"
      ]
    },
    {
      "cell_type": "markdown",
      "metadata": {
        "id": "v7kSBRy7Y6dP",
        "colab_type": "text"
      },
      "source": [
        ""
      ]
    },
    {
      "cell_type": "markdown",
      "metadata": {
        "id": "Ivg5InS6Y6nY",
        "colab_type": "text"
      },
      "source": [
        ""
      ]
    }
  ]
}