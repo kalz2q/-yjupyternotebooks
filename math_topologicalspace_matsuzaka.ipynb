{
  "nbformat": 4,
  "nbformat_minor": 0,
  "metadata": {
    "colab": {
      "name": "math_topologicalspace_matsuzaka.ipynb",
      "provenance": [],
      "toc_visible": true,
      "authorship_tag": "ABX9TyMAi4a14ARNW3hIWmGEiQgi",
      "include_colab_link": true
    },
    "kernelspec": {
      "name": "python3",
      "display_name": "Python 3"
    },
    "language_info": {
      "name": "python"
    }
  },
  "cells": [
    {
      "cell_type": "markdown",
      "metadata": {
        "id": "view-in-github",
        "colab_type": "text"
      },
      "source": [
        "<a href=\"https://colab.research.google.com/github/kalz2q/mycolabnotebooks/blob/master/math_topologicalspace_matsuzaka.ipynb\" target=\"_parent\"><img src=\"https://colab.research.google.com/assets/colab-badge.svg\" alt=\"Open In Colab\"/></a>"
      ]
    },
    {
      "cell_type": "markdown",
      "metadata": {
        "id": "FBHcKv0zwUvg"
      },
      "source": [
        "# メモ\n",
        "\n",
        "集合・位相入門\n",
        "\n",
        "松坂和夫\n",
        "\n",
        "を読む。\n",
        "\n",
        "&nbsp;"
      ]
    },
    {
      "cell_type": "markdown",
      "metadata": {
        "id": "P2HGmiSl0o0h"
      },
      "source": [
        "位相って何?\n",
        "\n",
        "なんか有名な本らしいが、やさしいと書いている人もいるし、むずかしい、と書いている人もいる。 大学数学の壁だって。\n",
        "\n",
        "大学数学は大きく3種類に分けられる印象があって、微積分と線形代数とそれからこの論理・集合・位相(位相幾何学)分野。 集合・位相入門松坂和夫は位相空間であって、位相幾何学ではなくて、toplogical space と topology は違うけどあながち遠いわけではない。\n",
        "\n",
        "それより!!!!\n",
        "\n",
        "大学数学は抽象性が特徴で、抽象数学にたどり着くための 3 本の道の１つだと思う。\n",
        "\n",
        "離散数学で集合、論理、写像、組合せ理論、行列、グラフを扱うが、雰囲気としては離散数学+線形代数と集合・位相(位相幾何学)とが比較される感じ。 離散数学は抽象化には直には踏み込まず、線形代数を経て、別途群環体の理論で抽象化に進むというコースである。 集合・位相(位相幾何学)は集合から直に抽象化していく。\n",
        "\n",
        "自分の印象としては、離散数学+線形代数+群環体圏の方が遠回りだが目標に近い感じがあって、位相経由は傍流でしかないと思うのだが、図形という云々。 まあいいか。\n",
        "\n",
        "&nbsp;\n",
        "\n"
      ]
    },
    {
      "cell_type": "markdown",
      "metadata": {
        "id": "-iJnkptm4ucA"
      },
      "source": [
        "# ドイツ文字\n",
        "\n",
        "$\\mathfrak{ABCDEFGHIJKLMNOPQRSTUVWXYZ}$\n",
        "\n",
        "花文字\n",
        "\n",
        "$\\mathscr{ABCDEFGHIJKLMNOPQRSTUVWXYZ}$\n",
        "\n",
        "筆記体\n",
        "\n",
        "$\\mathcal{ABCDEFGHIJKLMNOPQRSTUVWXYZ}$\n",
        "\n",
        "斜体\n",
        "\n",
        "${ABCDEFGHIJKLMNOPQRSTUVWXYZ}$\n",
        "\n",
        "ローマン体\n",
        "\n",
        "$\\mathrm{ABCDEFGHIJKLMNOPQRSTUVWXYZ}$\n",
        "\n",
        "ブロック体\n",
        "\n",
        "$\\mathbf{ABCDEFGHIJKLMNOPQRSTUVWXYZ}$\n",
        "\n",
        "&nbsp;\n"
      ]
    },
    {
      "cell_type": "markdown",
      "metadata": {
        "id": "j1OsH6XyWPpX"
      },
      "source": [
        "# 集合と写像"
      ]
    },
    {
      "cell_type": "markdown",
      "metadata": {
        "id": "5IWwJHr9WS9Q"
      },
      "source": [
        "集合の説明ののっけから集合の例として\n",
        "\n",
        "* 自然数全体の集まり\n",
        "* $0\\leq x\\leq 1$ であるような実数 $x$ 全体の集まり (これはいわゆる実数の閉区間 $[0,1]$ である)\n",
        "* 10 より小さい正の素数全体の集まり\n",
        "* $x^2+y^2 \\lt 1$ という不等式を満たす平面上の点 $(x,y)$ 全体の集まり (これは原点を中心とする半径 1 の円の内部にほかならない)\n",
        "* 実数の閉区間 $[0,1]$ で定義された連続な実数値関数全体の集まり\n",
        "* $p,q,r$ という 3 つの文字の集まり\n",
        "* $p,q,r$ という 3 つの文字の順列全体の集まり\n",
        "\n",
        "などはいずれも集合である、と始まっている。\n",
        "\n"
      ]
    }
  ]
}