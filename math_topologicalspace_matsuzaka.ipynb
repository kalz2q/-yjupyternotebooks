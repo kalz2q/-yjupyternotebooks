{
  "nbformat": 4,
  "nbformat_minor": 0,
  "metadata": {
    "colab": {
      "name": "math_topologicalspace_matsuzaka.ipynb",
      "provenance": [],
      "authorship_tag": "ABX9TyMqTw5kFHeSGsIGBUpE6VG6",
      "include_colab_link": true
    },
    "kernelspec": {
      "name": "python3",
      "display_name": "Python 3"
    },
    "language_info": {
      "name": "python"
    }
  },
  "cells": [
    {
      "cell_type": "markdown",
      "metadata": {
        "id": "view-in-github",
        "colab_type": "text"
      },
      "source": [
        "<a href=\"https://colab.research.google.com/github/kalz2q/mycolabnotebooks/blob/master/math_topologicalspace_matsuzaka.ipynb\" target=\"_parent\"><img src=\"https://colab.research.google.com/assets/colab-badge.svg\" alt=\"Open In Colab\"/></a>"
      ]
    },
    {
      "cell_type": "markdown",
      "metadata": {
        "id": "FBHcKv0zwUvg"
      },
      "source": [
        "# メモ\n",
        "\n",
        "集合・位相入門\n",
        "\n",
        "松坂和夫\n",
        "\n",
        "を読む。\n",
        "\n",
        "&nbsp;"
      ]
    },
    {
      "cell_type": "markdown",
      "metadata": {
        "id": "P2HGmiSl0o0h"
      },
      "source": [
        "位相って何?\n",
        "\n",
        "なんか有名な本らしいが、やさしいと書いている人もいるし、むずかしい、と書いている人もいる。 大学数学の壁だって。\n",
        "\n",
        "大学数学は大きく3種類に分けられる印象があって、微積分と線形代数とそれからこの論理・集合・位相(位相幾何学)分野。 集合・位相入門松坂和夫は位相空間であって、異位相幾何学ではなくて、toplogical space と topology は違うけどあながち遠いわけではない。\n",
        "\n",
        "それより!!!!\n",
        "\n",
        "大学数学は抽象性が特徴で、抽象数学にたどり着くための 3 本の道。\n",
        "\n",
        "\n"
      ]
    }
  ]
}