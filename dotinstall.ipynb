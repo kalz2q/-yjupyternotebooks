{
  "nbformat": 4,
  "nbformat_minor": 0,
  "metadata": {
    "colab": {
      "name": "dotinstall.ipynb",
      "provenance": [],
      "toc_visible": true,
      "authorship_tag": "ABX9TyN8HVH+pAe4j3S/ntaLJPgm",
      "include_colab_link": true
    },
    "kernelspec": {
      "name": "python3",
      "display_name": "Python 3"
    }
  },
  "cells": [
    {
      "cell_type": "markdown",
      "metadata": {
        "id": "view-in-github",
        "colab_type": "text"
      },
      "source": [
        "<a href=\"https://colab.research.google.com/github/kalz2q/mycolabnotebooks/blob/master/dotinstall.ipynb\" target=\"_parent\"><img src=\"https://colab.research.google.com/assets/colab-badge.svg\" alt=\"Open In Colab\"/></a>"
      ]
    },
    {
      "cell_type": "code",
      "metadata": {
        "id": "GOVsf-vugRdq"
      },
      "source": [
        ""
      ],
      "execution_count": null,
      "outputs": []
    },
    {
      "cell_type": "markdown",
      "metadata": {
        "id": "9yv0kB-tgV6t"
      },
      "source": [
        "# メモ\r\n",
        "1. Colab でノートを取りながら dotinstall を勉強する。"
      ]
    },
    {
      "cell_type": "code",
      "metadata": {
        "colab": {
          "base_uri": "https://localhost:8080/",
          "height": 100
        },
        "id": "jh3wfPrXhUPP",
        "outputId": "79068877-6088-4579-b973-6a6e3e88bdda"
      },
      "source": [
        "%%html\r\n",
        "<h1>山田太郎</h1>\r\n",
        "<p>UI/UXデザイナーです</p>\r\n"
      ],
      "execution_count": 1,
      "outputs": [
        {
          "output_type": "display_data",
          "data": {
            "text/html": [
              "<h1>山田太郎</h1>\n",
              "<p>UI/UXデザイナーです</p>"
            ],
            "text/plain": [
              "<IPython.core.display.HTML object>"
            ]
          },
          "metadata": {
            "tags": []
          }
        }
      ]
    },
    {
      "cell_type": "code",
      "metadata": {
        "colab": {
          "base_uri": "https://localhost:8080/",
          "height": 254
        },
        "id": "TSC4cLSKwdGh",
        "outputId": "06598c6b-3411-4b7a-e49c-5d3a9c59d3f0"
      },
      "source": [
        "%%html\r\n",
        "<svg width=\"120\" viewBox=\"65.947 104.916 146.883 182.854\" xmlns=\"http://www.w3.org/2000/svg\" xmlns:bx=\"https://boxy-svg.com\">  <defs>    <linearGradient id=\"color-2\" bx:pinned=\"true\">      <stop style=\"stop-color: #ffd3b6;\"></stop>    </linearGradient>    <linearGradient id=\"color-0\" bx:pinned=\"true\">      <stop style=\"stop-color: #a8e6cf;\"></stop>    </linearGradient>    <linearGradient id=\"color-1\" bx:pinned=\"true\">      <stop style=\"stop-color: #dcedc1;\"></stop>    </linearGradient>    <linearGradient id=\"color-3\" bx:pinned=\"true\">      <stop style=\"stop-color: #ffaaa5;\"></stop>    </linearGradient>  </defs>  <path d=\"M 208.693 266.187 C 208.693 272.631 207.825 278.872 206.199 284.8 C 190.075 284.767 169.207 285.687 158.549 284.748 C 147.814 283.803 141.035 282.561 134.568 280.552 C 129.394 278.944 126.443 275.562 121.978 274.556 C 117.457 273.538 112.567 273.193 107.59 274.556 C 101.836 276.132 95.563 282.67 89.604 284.748 C 87.725 285.404 85.699 285.727 83.683 285.926 C 82.762 285.535 82.016 285.141 81.511 284.748 C 80.388 283.874 81.127 282.998 80.312 282.05 C 79.113 280.657 76.465 278.417 74.017 277.554 C 72.576 277.046 70.816 276.75 69.066 276.679 C 68.553 273.256 68.287 269.753 68.287 266.187 C 68.287 227.415 99.718 195.984 138.49 195.984 C 177.262 195.984 208.693 227.415 208.693 266.187 Z\" style=\"fill: rgb(56, 67, 165);\"></path>  <circle style=\"fill: url(#color-2);\" cx=\"138.49\" cy=\"178.658\" r=\"63.166\"></circle>  <g transform=\"matrix(1, 0, 0, 1, -171.761505, -62.350121)\">    <circle style=\"fill: rgb(216, 216, 216); stroke-width: 8px; stroke: rgb(85, 218, 85);\" cx=\"277.278\" cy=\"249.401\" r=\"14.307\"></circle>    <circle style=\"fill: rgb(216, 216, 216); stroke-width: 8px; stroke: rgb(85, 218, 85);\" cx=\"343.225\" cy=\"250.6\" r=\"14.307\"></circle>  </g>  <path stroke=\"rgb(255,0,0)\" stroke-width=\"0\" opacity=\"0.984313725490196\" d=\"M 120.779 106.691 C 127.41 105.98 133.562 107.925 139.365 107.89 C 144.691 107.857 150.326 106.034 154.353 106.691 C 157.57 107.215 159.272 109.577 162.146 110.288 C 165.227 111.049 169.424 109.848 172.338 110.887 C 175.056 111.856 177.15 113.552 179.233 115.983 C 181.744 118.915 184.727 123.684 185.827 127.974 C 186.931 132.276 186.971 137.247 185.827 141.763 C 184.615 146.55 181.13 153.078 178.333 155.851 C 176.294 157.873 175.007 158.043 171.739 158.849 C 166.4 160.165 154.713 161.886 147.158 161.247 C 140.225 160.66 133.708 158.372 127.974 155.851 C 122.597 153.488 118.191 148.492 113.585 146.859 C 109.649 145.463 105.348 146.857 102.194 145.659 C 99.386 144.593 97.067 142.58 95.3 140.564 C 93.623 138.651 92.364 136.712 91.703 133.969 C 90.89 130.596 90.703 124.95 91.703 121.379 C 92.599 118.179 93.577 115.497 96.799 113.285 C 101.52 110.043 113.335 107.489 120.779 106.691 Z\" style=\"fill-opacity: 1; fill-rule: nonzero; stroke: none; stroke-dasharray: none; stroke-dashoffset: 0px; stroke-linecap: butt; stroke-linejoin: miter; stroke-miterlimit: 4; stroke-opacity: 1; stroke-width: 1px; paint-order: normal; vector-effect: none; opacity: 1; mix-blend-mode: normal; isolation: auto;\"></path></svg>\r\n",
        "<h1>山田太郎</h1>\r\n",
        "<p>UI/UXデザイナーです</p></a>"
      ],
      "execution_count": 2,
      "outputs": [
        {
          "output_type": "display_data",
          "data": {
            "text/html": [
              "<svg width=\"120\" viewBox=\"65.947 104.916 146.883 182.854\" xmlns=\"http://www.w3.org/2000/svg\" xmlns:bx=\"https://boxy-svg.com\">  <defs>    <linearGradient id=\"color-2\" bx:pinned=\"true\">      <stop style=\"stop-color: #ffd3b6;\"></stop>    </linearGradient>    <linearGradient id=\"color-0\" bx:pinned=\"true\">      <stop style=\"stop-color: #a8e6cf;\"></stop>    </linearGradient>    <linearGradient id=\"color-1\" bx:pinned=\"true\">      <stop style=\"stop-color: #dcedc1;\"></stop>    </linearGradient>    <linearGradient id=\"color-3\" bx:pinned=\"true\">      <stop style=\"stop-color: #ffaaa5;\"></stop>    </linearGradient>  </defs>  <path d=\"M 208.693 266.187 C 208.693 272.631 207.825 278.872 206.199 284.8 C 190.075 284.767 169.207 285.687 158.549 284.748 C 147.814 283.803 141.035 282.561 134.568 280.552 C 129.394 278.944 126.443 275.562 121.978 274.556 C 117.457 273.538 112.567 273.193 107.59 274.556 C 101.836 276.132 95.563 282.67 89.604 284.748 C 87.725 285.404 85.699 285.727 83.683 285.926 C 82.762 285.535 82.016 285.141 81.511 284.748 C 80.388 283.874 81.127 282.998 80.312 282.05 C 79.113 280.657 76.465 278.417 74.017 277.554 C 72.576 277.046 70.816 276.75 69.066 276.679 C 68.553 273.256 68.287 269.753 68.287 266.187 C 68.287 227.415 99.718 195.984 138.49 195.984 C 177.262 195.984 208.693 227.415 208.693 266.187 Z\" style=\"fill: rgb(56, 67, 165);\"></path>  <circle style=\"fill: url(#color-2);\" cx=\"138.49\" cy=\"178.658\" r=\"63.166\"></circle>  <g transform=\"matrix(1, 0, 0, 1, -171.761505, -62.350121)\">    <circle style=\"fill: rgb(216, 216, 216); stroke-width: 8px; stroke: rgb(85, 218, 85);\" cx=\"277.278\" cy=\"249.401\" r=\"14.307\"></circle>    <circle style=\"fill: rgb(216, 216, 216); stroke-width: 8px; stroke: rgb(85, 218, 85);\" cx=\"343.225\" cy=\"250.6\" r=\"14.307\"></circle>  </g>  <path stroke=\"rgb(255,0,0)\" stroke-width=\"0\" opacity=\"0.984313725490196\" d=\"M 120.779 106.691 C 127.41 105.98 133.562 107.925 139.365 107.89 C 144.691 107.857 150.326 106.034 154.353 106.691 C 157.57 107.215 159.272 109.577 162.146 110.288 C 165.227 111.049 169.424 109.848 172.338 110.887 C 175.056 111.856 177.15 113.552 179.233 115.983 C 181.744 118.915 184.727 123.684 185.827 127.974 C 186.931 132.276 186.971 137.247 185.827 141.763 C 184.615 146.55 181.13 153.078 178.333 155.851 C 176.294 157.873 175.007 158.043 171.739 158.849 C 166.4 160.165 154.713 161.886 147.158 161.247 C 140.225 160.66 133.708 158.372 127.974 155.851 C 122.597 153.488 118.191 148.492 113.585 146.859 C 109.649 145.463 105.348 146.857 102.194 145.659 C 99.386 144.593 97.067 142.58 95.3 140.564 C 93.623 138.651 92.364 136.712 91.703 133.969 C 90.89 130.596 90.703 124.95 91.703 121.379 C 92.599 118.179 93.577 115.497 96.799 113.285 C 101.52 110.043 113.335 107.489 120.779 106.691 Z\" style=\"fill-opacity: 1; fill-rule: nonzero; stroke: none; stroke-dasharray: none; stroke-dashoffset: 0px; stroke-linecap: butt; stroke-linejoin: miter; stroke-miterlimit: 4; stroke-opacity: 1; stroke-width: 1px; paint-order: normal; vector-effect: none; opacity: 1; mix-blend-mode: normal; isolation: auto;\"></path></svg>\n",
              "<h1>山田太郎</h1>\n",
              "<p>UI/UXデザイナーです</p></a>"
            ],
            "text/plain": [
              "<IPython.core.display.HTML object>"
            ]
          },
          "metadata": {
            "tags": []
          }
        }
      ]
    },
    {
      "cell_type": "code",
      "metadata": {
        "id": "oVxo2ZzpAdb_",
        "colab": {
          "base_uri": "https://localhost:8080/",
          "height": 35
        },
        "outputId": "51eeece0-6abf-43c2-db5c-20aecf5a6842"
      },
      "source": [
        "%%html\r\n",
        "<a href=\"https://google.com\" target=\"_blank\">hogehoge</a>"
      ],
      "execution_count": 3,
      "outputs": [
        {
          "output_type": "display_data",
          "data": {
            "text/html": [
              "<a href=\"https://google.com\" target=\"_blank\">hogehoge</a>"
            ],
            "text/plain": [
              "<IPython.core.display.HTML object>"
            ]
          },
          "metadata": {
            "tags": []
          }
        }
      ]
    },
    {
      "cell_type": "markdown",
      "metadata": {
        "id": "u9b6sxM3AcpQ"
      },
      "source": [
        ""
      ]
    },
    {
      "cell_type": "code",
      "metadata": {
        "colab": {
          "base_uri": "https://localhost:8080/",
          "height": 147
        },
        "id": "U_4bXHnvgARv",
        "outputId": "bd3bfaf7-9f71-49f2-8267-68cb5ac52d6a"
      },
      "source": [
        "# 横並びにするには親要素にdisplay:flex; をつける。\r\n",
        "%%html\r\n",
        "<style>\r\n",
        "    body {\r\n",
        "        background-color: mistyrose;\r\n",
        "    }\r\n",
        "    .container {\r\n",
        "        background-color: orange;\r\n",
        "        width: 400px;\r\n",
        "        margin: auto;\r\n",
        "        display: flex;\r\n",
        "    }\r\n",
        "    .icon {background-color: skyblue;border-radius: 50%;border-width: 5px;border-style: solid;border-color:white;}\r\n",
        "    .info {background-color: tomato;margin-left: 32px;}\r\n",
        "\r\n",
        "</style>\r\n",
        "<header>\r\n",
        "<div class=\"container\">\r\n",
        "    <svg class=\"icon\" width=\"120\" height=\"120\" viewBox=\"65.947 104.916 146.883 182.854\" xmlns=\"http://www.w3.org/2000/svg\" xmlns:bx=\"https://boxy-svg.com\">  <defs>    <linearGradient id=\"color-2\" bx:pinned=\"true\">      <stop style=\"stop-color: #ffd3b6;\"></stop>    </linearGradient>    <linearGradient id=\"color-0\" bx:pinned=\"true\">      <stop style=\"stop-color: #a8e6cf;\"></stop>    </linearGradient>    <linearGradient id=\"color-1\" bx:pinned=\"true\">      <stop style=\"stop-color: #dcedc1;\"></stop>    </linearGradient>    <linearGradient id=\"color-3\" bx:pinned=\"true\">      <stop style=\"stop-color: #ffaaa5;\"></stop>    </linearGradient>  </defs>  <path d=\"M 208.693 266.187 C 208.693 272.631 207.825 278.872 206.199 284.8 C 190.075 284.767 169.207 285.687 158.549 284.748 C 147.814 283.803 141.035 282.561 134.568 280.552 C 129.394 278.944 126.443 275.562 121.978 274.556 C 117.457 273.538 112.567 273.193 107.59 274.556 C 101.836 276.132 95.563 282.67 89.604 284.748 C 87.725 285.404 85.699 285.727 83.683 285.926 C 82.762 285.535 82.016 285.141 81.511 284.748 C 80.388 283.874 81.127 282.998 80.312 282.05 C 79.113 280.657 76.465 278.417 74.017 277.554 C 72.576 277.046 70.816 276.75 69.066 276.679 C 68.553 273.256 68.287 269.753 68.287 266.187 C 68.287 227.415 99.718 195.984 138.49 195.984 C 177.262 195.984 208.693 227.415 208.693 266.187 Z\" style=\"fill: rgb(56, 67, 165);\"></path>  <circle style=\"fill: url(#color-2);\" cx=\"138.49\" cy=\"178.658\" r=\"63.166\"></circle>  <g transform=\"matrix(1, 0, 0, 1, -171.761505, -62.350121)\">    <circle style=\"fill: rgb(216, 216, 216); stroke-width: 8px; stroke: rgb(85, 218, 85);\" cx=\"277.278\" cy=\"249.401\" r=\"14.307\"></circle>    <circle style=\"fill: rgb(216, 216, 216); stroke-width: 8px; stroke: rgb(85, 218, 85);\" cx=\"343.225\" cy=\"250.6\" r=\"14.307\"></circle>  </g>  <path stroke=\"rgb(255,0,0)\" stroke-width=\"0\" opacity=\"0.984313725490196\" d=\"M 120.779 106.691 C 127.41 105.98 133.562 107.925 139.365 107.89 C 144.691 107.857 150.326 106.034 154.353 106.691 C 157.57 107.215 159.272 109.577 162.146 110.288 C 165.227 111.049 169.424 109.848 172.338 110.887 C 175.056 111.856 177.15 113.552 179.233 115.983 C 181.744 118.915 184.727 123.684 185.827 127.974 C 186.931 132.276 186.971 137.247 185.827 141.763 C 184.615 146.55 181.13 153.078 178.333 155.851 C 176.294 157.873 175.007 158.043 171.739 158.849 C 166.4 160.165 154.713 161.886 147.158 161.247 C 140.225 160.66 133.708 158.372 127.974 155.851 C 122.597 153.488 118.191 148.492 113.585 146.859 C 109.649 145.463 105.348 146.857 102.194 145.659 C 99.386 144.593 97.067 142.58 95.3 140.564 C 93.623 138.651 92.364 136.712 91.703 133.969 C 90.89 130.596 90.703 124.95 91.703 121.379 C 92.599 118.179 93.577 115.497 96.799 113.285 C 101.52 110.043 113.335 107.489 120.779 106.691 Z\" style=\"fill-opacity: 1; fill-rule: nonzero; stroke: none; stroke-dasharray: none; stroke-dashoffset: 0px; stroke-linecap: butt; stroke-linejoin: miter; stroke-miterlimit: 4; stroke-opacity: 1; stroke-width: 1px; paint-order: normal; vector-effect: none; opacity: 1; mix-blend-mode: normal; isolation: auto;\"></path></svg>\r\n",
        "    <div class=\"info\">\r\n",
        "        <h1>山田太郎</h1>\r\n",
        "        <p>UI/UXデザイナーです</p>\r\n",
        "    </div>\r\n",
        "</div>\r\n",
        "</header>"
      ],
      "execution_count": 11,
      "outputs": [
        {
          "output_type": "display_data",
          "data": {
            "text/html": [
              "<style>\n",
              "    body {\n",
              "        background-color: mistyrose;\n",
              "    }\n",
              "    .container {\n",
              "        background-color: orange;\n",
              "        width: 400px;\n",
              "        margin: auto;\n",
              "        display: flex;\n",
              "    }\n",
              "    .icon {background-color: skyblue;border-radius: 50%;border-width: 5px;border-style: solid;border-color:white;}\n",
              "    .info {background-color: tomato;margin-left: 32px;}\n",
              "\n",
              "</style>\n",
              "<header>\n",
              "<div class=\"container\">\n",
              "    <svg class=\"icon\" width=\"120\" height=\"120\" viewBox=\"65.947 104.916 146.883 182.854\" xmlns=\"http://www.w3.org/2000/svg\" xmlns:bx=\"https://boxy-svg.com\">  <defs>    <linearGradient id=\"color-2\" bx:pinned=\"true\">      <stop style=\"stop-color: #ffd3b6;\"></stop>    </linearGradient>    <linearGradient id=\"color-0\" bx:pinned=\"true\">      <stop style=\"stop-color: #a8e6cf;\"></stop>    </linearGradient>    <linearGradient id=\"color-1\" bx:pinned=\"true\">      <stop style=\"stop-color: #dcedc1;\"></stop>    </linearGradient>    <linearGradient id=\"color-3\" bx:pinned=\"true\">      <stop style=\"stop-color: #ffaaa5;\"></stop>    </linearGradient>  </defs>  <path d=\"M 208.693 266.187 C 208.693 272.631 207.825 278.872 206.199 284.8 C 190.075 284.767 169.207 285.687 158.549 284.748 C 147.814 283.803 141.035 282.561 134.568 280.552 C 129.394 278.944 126.443 275.562 121.978 274.556 C 117.457 273.538 112.567 273.193 107.59 274.556 C 101.836 276.132 95.563 282.67 89.604 284.748 C 87.725 285.404 85.699 285.727 83.683 285.926 C 82.762 285.535 82.016 285.141 81.511 284.748 C 80.388 283.874 81.127 282.998 80.312 282.05 C 79.113 280.657 76.465 278.417 74.017 277.554 C 72.576 277.046 70.816 276.75 69.066 276.679 C 68.553 273.256 68.287 269.753 68.287 266.187 C 68.287 227.415 99.718 195.984 138.49 195.984 C 177.262 195.984 208.693 227.415 208.693 266.187 Z\" style=\"fill: rgb(56, 67, 165);\"></path>  <circle style=\"fill: url(#color-2);\" cx=\"138.49\" cy=\"178.658\" r=\"63.166\"></circle>  <g transform=\"matrix(1, 0, 0, 1, -171.761505, -62.350121)\">    <circle style=\"fill: rgb(216, 216, 216); stroke-width: 8px; stroke: rgb(85, 218, 85);\" cx=\"277.278\" cy=\"249.401\" r=\"14.307\"></circle>    <circle style=\"fill: rgb(216, 216, 216); stroke-width: 8px; stroke: rgb(85, 218, 85);\" cx=\"343.225\" cy=\"250.6\" r=\"14.307\"></circle>  </g>  <path stroke=\"rgb(255,0,0)\" stroke-width=\"0\" opacity=\"0.984313725490196\" d=\"M 120.779 106.691 C 127.41 105.98 133.562 107.925 139.365 107.89 C 144.691 107.857 150.326 106.034 154.353 106.691 C 157.57 107.215 159.272 109.577 162.146 110.288 C 165.227 111.049 169.424 109.848 172.338 110.887 C 175.056 111.856 177.15 113.552 179.233 115.983 C 181.744 118.915 184.727 123.684 185.827 127.974 C 186.931 132.276 186.971 137.247 185.827 141.763 C 184.615 146.55 181.13 153.078 178.333 155.851 C 176.294 157.873 175.007 158.043 171.739 158.849 C 166.4 160.165 154.713 161.886 147.158 161.247 C 140.225 160.66 133.708 158.372 127.974 155.851 C 122.597 153.488 118.191 148.492 113.585 146.859 C 109.649 145.463 105.348 146.857 102.194 145.659 C 99.386 144.593 97.067 142.58 95.3 140.564 C 93.623 138.651 92.364 136.712 91.703 133.969 C 90.89 130.596 90.703 124.95 91.703 121.379 C 92.599 118.179 93.577 115.497 96.799 113.285 C 101.52 110.043 113.335 107.489 120.779 106.691 Z\" style=\"fill-opacity: 1; fill-rule: nonzero; stroke: none; stroke-dasharray: none; stroke-dashoffset: 0px; stroke-linecap: butt; stroke-linejoin: miter; stroke-miterlimit: 4; stroke-opacity: 1; stroke-width: 1px; paint-order: normal; vector-effect: none; opacity: 1; mix-blend-mode: normal; isolation: auto;\"></path></svg>\n",
              "    <div class=\"info\">\n",
              "        <h1>山田太郎</h1>\n",
              "        <p>UI/UXデザイナーです</p>\n",
              "    </div>\n",
              "</div>\n",
              "</header>"
            ],
            "text/plain": [
              "<IPython.core.display.HTML object>"
            ]
          },
          "metadata": {
            "tags": []
          }
        }
      ]
    },
    {
      "cell_type": "code",
      "metadata": {
        "id": "aScxXyHdhbHc",
        "colab": {
          "base_uri": "https://localhost:8080/",
          "height": 211
        },
        "outputId": "05c214a4-f328-4941-8f32-76afe5b97fd9"
      },
      "source": [
        "# font-weight: normal; とか\r\n",
        "# 縦方向のセンタリング alighn-items: center;\r\n",
        "%%html\r\n",
        "<style>\r\n",
        "    header {padding-top: 32px; padding-bottom: 32px;}\r\n",
        "    .container {\r\n",
        "        /* width: 400px; */\r\n",
        "        margin: auto;\r\n",
        "        display: flex;\r\n",
        "        align-items: center;\r\n",
        "        justify-content: center;\r\n",
        "    }\r\n",
        "    .icon {border-radius: 50%;border-width: 5px;border-style: solid;border-color:skyblue;}\r\n",
        "    .info {margin-left: 32px}\r\n",
        "    .info h1 {font-weight: normal;}    \r\n",
        "    .info p , h1 {margin: 0;}\r\n",
        "\r\n",
        "</style>\r\n",
        "<header>\r\n",
        "<div class=\"container\">\r\n",
        "    <svg class=\"icon\" width=\"120\" height=\"120\" viewBox=\"65.947 104.916 146.883 182.854\" xmlns=\"http://www.w3.org/2000/svg\" xmlns:bx=\"https://boxy-svg.com\">  <defs>    <linearGradient id=\"color-2\" bx:pinned=\"true\">      <stop style=\"stop-color: #ffd3b6;\"></stop>    </linearGradient>    <linearGradient id=\"color-0\" bx:pinned=\"true\">      <stop style=\"stop-color: #a8e6cf;\"></stop>    </linearGradient>    <linearGradient id=\"color-1\" bx:pinned=\"true\">      <stop style=\"stop-color: #dcedc1;\"></stop>    </linearGradient>    <linearGradient id=\"color-3\" bx:pinned=\"true\">      <stop style=\"stop-color: #ffaaa5;\"></stop>    </linearGradient>  </defs>  <path d=\"M 208.693 266.187 C 208.693 272.631 207.825 278.872 206.199 284.8 C 190.075 284.767 169.207 285.687 158.549 284.748 C 147.814 283.803 141.035 282.561 134.568 280.552 C 129.394 278.944 126.443 275.562 121.978 274.556 C 117.457 273.538 112.567 273.193 107.59 274.556 C 101.836 276.132 95.563 282.67 89.604 284.748 C 87.725 285.404 85.699 285.727 83.683 285.926 C 82.762 285.535 82.016 285.141 81.511 284.748 C 80.388 283.874 81.127 282.998 80.312 282.05 C 79.113 280.657 76.465 278.417 74.017 277.554 C 72.576 277.046 70.816 276.75 69.066 276.679 C 68.553 273.256 68.287 269.753 68.287 266.187 C 68.287 227.415 99.718 195.984 138.49 195.984 C 177.262 195.984 208.693 227.415 208.693 266.187 Z\" style=\"fill: rgb(56, 67, 165);\"></path>  <circle style=\"fill: url(#color-2);\" cx=\"138.49\" cy=\"178.658\" r=\"63.166\"></circle>  <g transform=\"matrix(1, 0, 0, 1, -171.761505, -62.350121)\">    <circle style=\"fill: rgb(216, 216, 216); stroke-width: 8px; stroke: rgb(85, 218, 85);\" cx=\"277.278\" cy=\"249.401\" r=\"14.307\"></circle>    <circle style=\"fill: rgb(216, 216, 216); stroke-width: 8px; stroke: rgb(85, 218, 85);\" cx=\"343.225\" cy=\"250.6\" r=\"14.307\"></circle>  </g>  <path stroke=\"rgb(255,0,0)\" stroke-width=\"0\" opacity=\"0.984313725490196\" d=\"M 120.779 106.691 C 127.41 105.98 133.562 107.925 139.365 107.89 C 144.691 107.857 150.326 106.034 154.353 106.691 C 157.57 107.215 159.272 109.577 162.146 110.288 C 165.227 111.049 169.424 109.848 172.338 110.887 C 175.056 111.856 177.15 113.552 179.233 115.983 C 181.744 118.915 184.727 123.684 185.827 127.974 C 186.931 132.276 186.971 137.247 185.827 141.763 C 184.615 146.55 181.13 153.078 178.333 155.851 C 176.294 157.873 175.007 158.043 171.739 158.849 C 166.4 160.165 154.713 161.886 147.158 161.247 C 140.225 160.66 133.708 158.372 127.974 155.851 C 122.597 153.488 118.191 148.492 113.585 146.859 C 109.649 145.463 105.348 146.857 102.194 145.659 C 99.386 144.593 97.067 142.58 95.3 140.564 C 93.623 138.651 92.364 136.712 91.703 133.969 C 90.89 130.596 90.703 124.95 91.703 121.379 C 92.599 118.179 93.577 115.497 96.799 113.285 C 101.52 110.043 113.335 107.489 120.779 106.691 Z\" style=\"fill-opacity: 1; fill-rule: nonzero; stroke: none; stroke-dasharray: none; stroke-dashoffset: 0px; stroke-linecap: butt; stroke-linejoin: miter; stroke-miterlimit: 4; stroke-opacity: 1; stroke-width: 1px; paint-order: normal; vector-effect: none; opacity: 1; mix-blend-mode: normal; isolation: auto;\"></path></svg>\r\n",
        "    <div class=\"info\">\r\n",
        "        <h1>山田太郎</h1>\r\n",
        "        <p>UI/UXデザイナーです</p>\r\n",
        "    </div>\r\n",
        "</div>\r\n",
        "</header>"
      ],
      "execution_count": 23,
      "outputs": [
        {
          "output_type": "display_data",
          "data": {
            "text/html": [
              "<style>\n",
              "    header {padding-top: 32px; padding-bottom: 32px;}\n",
              "    .container {\n",
              "        /* width: 400px; */\n",
              "        margin: auto;\n",
              "        display: flex;\n",
              "        align-items: center;\n",
              "        justify-content: center;\n",
              "    }\n",
              "    .icon {border-radius: 50%;border-width: 5px;border-style: solid;border-color:skyblue;}\n",
              "    .info {margin-left: 32px}\n",
              "    .info h1 {font-weight: normal;}    \n",
              "    .info p , h1 {margin: 0;}\n",
              "\n",
              "</style>\n",
              "<header>\n",
              "<div class=\"container\">\n",
              "    <svg class=\"icon\" width=\"120\" height=\"120\" viewBox=\"65.947 104.916 146.883 182.854\" xmlns=\"http://www.w3.org/2000/svg\" xmlns:bx=\"https://boxy-svg.com\">  <defs>    <linearGradient id=\"color-2\" bx:pinned=\"true\">      <stop style=\"stop-color: #ffd3b6;\"></stop>    </linearGradient>    <linearGradient id=\"color-0\" bx:pinned=\"true\">      <stop style=\"stop-color: #a8e6cf;\"></stop>    </linearGradient>    <linearGradient id=\"color-1\" bx:pinned=\"true\">      <stop style=\"stop-color: #dcedc1;\"></stop>    </linearGradient>    <linearGradient id=\"color-3\" bx:pinned=\"true\">      <stop style=\"stop-color: #ffaaa5;\"></stop>    </linearGradient>  </defs>  <path d=\"M 208.693 266.187 C 208.693 272.631 207.825 278.872 206.199 284.8 C 190.075 284.767 169.207 285.687 158.549 284.748 C 147.814 283.803 141.035 282.561 134.568 280.552 C 129.394 278.944 126.443 275.562 121.978 274.556 C 117.457 273.538 112.567 273.193 107.59 274.556 C 101.836 276.132 95.563 282.67 89.604 284.748 C 87.725 285.404 85.699 285.727 83.683 285.926 C 82.762 285.535 82.016 285.141 81.511 284.748 C 80.388 283.874 81.127 282.998 80.312 282.05 C 79.113 280.657 76.465 278.417 74.017 277.554 C 72.576 277.046 70.816 276.75 69.066 276.679 C 68.553 273.256 68.287 269.753 68.287 266.187 C 68.287 227.415 99.718 195.984 138.49 195.984 C 177.262 195.984 208.693 227.415 208.693 266.187 Z\" style=\"fill: rgb(56, 67, 165);\"></path>  <circle style=\"fill: url(#color-2);\" cx=\"138.49\" cy=\"178.658\" r=\"63.166\"></circle>  <g transform=\"matrix(1, 0, 0, 1, -171.761505, -62.350121)\">    <circle style=\"fill: rgb(216, 216, 216); stroke-width: 8px; stroke: rgb(85, 218, 85);\" cx=\"277.278\" cy=\"249.401\" r=\"14.307\"></circle>    <circle style=\"fill: rgb(216, 216, 216); stroke-width: 8px; stroke: rgb(85, 218, 85);\" cx=\"343.225\" cy=\"250.6\" r=\"14.307\"></circle>  </g>  <path stroke=\"rgb(255,0,0)\" stroke-width=\"0\" opacity=\"0.984313725490196\" d=\"M 120.779 106.691 C 127.41 105.98 133.562 107.925 139.365 107.89 C 144.691 107.857 150.326 106.034 154.353 106.691 C 157.57 107.215 159.272 109.577 162.146 110.288 C 165.227 111.049 169.424 109.848 172.338 110.887 C 175.056 111.856 177.15 113.552 179.233 115.983 C 181.744 118.915 184.727 123.684 185.827 127.974 C 186.931 132.276 186.971 137.247 185.827 141.763 C 184.615 146.55 181.13 153.078 178.333 155.851 C 176.294 157.873 175.007 158.043 171.739 158.849 C 166.4 160.165 154.713 161.886 147.158 161.247 C 140.225 160.66 133.708 158.372 127.974 155.851 C 122.597 153.488 118.191 148.492 113.585 146.859 C 109.649 145.463 105.348 146.857 102.194 145.659 C 99.386 144.593 97.067 142.58 95.3 140.564 C 93.623 138.651 92.364 136.712 91.703 133.969 C 90.89 130.596 90.703 124.95 91.703 121.379 C 92.599 118.179 93.577 115.497 96.799 113.285 C 101.52 110.043 113.335 107.489 120.779 106.691 Z\" style=\"fill-opacity: 1; fill-rule: nonzero; stroke: none; stroke-dasharray: none; stroke-dashoffset: 0px; stroke-linecap: butt; stroke-linejoin: miter; stroke-miterlimit: 4; stroke-opacity: 1; stroke-width: 1px; paint-order: normal; vector-effect: none; opacity: 1; mix-blend-mode: normal; isolation: auto;\"></path></svg>\n",
              "    <div class=\"info\">\n",
              "        <h1>山田太郎</h1>\n",
              "        <p>UI/UXデザイナーです</p>\n",
              "    </div>\n",
              "</div>\n",
              "</header>"
            ],
            "text/plain": [
              "<IPython.core.display.HTML object>"
            ]
          },
          "metadata": {
            "tags": []
          }
        }
      ]
    },
    {
      "cell_type": "code",
      "metadata": {
        "id": "RU5HSOxCHnul",
        "outputId": "d21fa95b-be29-43de-dbd6-269c4e53bcb1",
        "colab": {
          "base_uri": "https://localhost:8080/",
          "height": 315
        }
      },
      "source": [
        "%%html\r\n",
        "<style>\r\n",
        "    p {\r\n",
        "        height: 140px;\r\n",
        "        line-height: 140px;\r\n",
        "    }\r\n",
        "</style>\r\n",
        "<p> this is a pen. </p>\r\n",
        "<p> this is a pen. </p>"
      ],
      "execution_count": 19,
      "outputs": [
        {
          "output_type": "display_data",
          "data": {
            "text/html": [
              "<style>\n",
              "    p {\n",
              "        /* height: 140px; */\n",
              "        line-height: 140px;\n",
              "    }\n",
              "</style>\n",
              "<p> this is a pen. </p>\n",
              "<p> this is a pen. </p>"
            ],
            "text/plain": [
              "<IPython.core.display.HTML object>"
            ]
          },
          "metadata": {
            "tags": []
          }
        }
      ]
    },
    {
      "cell_type": "markdown",
      "metadata": {
        "id": "y93q7LHspOan"
      },
      "source": [
        "# いまここ\r\n",
        "https://dotinstall.com/lessons/basic_css_v5/49910"
      ]
    }
  ]
}