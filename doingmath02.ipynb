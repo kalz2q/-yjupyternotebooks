{
  "nbformat": 4,
  "nbformat_minor": 0,
  "metadata": {
    "colab": {
      "name": "doingmath02.ipynb",
      "provenance": [],
      "authorship_tag": "ABX9TyOXqThBZZovqSxtX7CiRcOM",
      "include_colab_link": true
    },
    "kernelspec": {
      "name": "python3",
      "display_name": "Python 3"
    }
  },
  "cells": [
    {
      "cell_type": "markdown",
      "metadata": {
        "id": "view-in-github",
        "colab_type": "text"
      },
      "source": [
        "<a href=\"https://colab.research.google.com/github/kalz2q/mycolabnotebooks/blob/master/doingmath02.ipynb\" target=\"_parent\"><img src=\"https://colab.research.google.com/assets/colab-badge.svg\" alt=\"Open In Colab\"/></a>"
      ]
    },
    {
      "cell_type": "code",
      "metadata": {
        "id": "z6JezqD97qSI",
        "colab_type": "code",
        "colab": {}
      },
      "source": [
        ""
      ],
      "execution_count": null,
      "outputs": []
    },
    {
      "cell_type": "markdown",
      "metadata": {
        "id": "sZlEQ3O57tFT",
        "colab_type": "text"
      },
      "source": [
        "# メモ\n",
        "\n",
        "> Doing Math with Python: Use Programming to Explore Algebra, Statistics, Calculus, and More!  \n",
        "> Amit Saha\n",
        "\n",
        "を `Colab` でなぞりながら読む。\n",
        "\n",
        "というプロジェクトの p. 149 あたり、Chapter 6 以降がこのファイルである。\n",
        "\n",
        "6章 図形とフラクタル Drawing Geometric Shapes and Fractals  \n",
        "7章 微積分 Solving Calculus Problems\n",
        "\n",
        "の予定。"
      ]
    },
    {
      "cell_type": "markdown",
      "metadata": {
        "id": "5HhXNKGX8e_Q",
        "colab_type": "text"
      },
      "source": [
        ""
      ]
    }
  ]
}