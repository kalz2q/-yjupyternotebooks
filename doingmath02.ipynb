{
  "nbformat": 4,
  "nbformat_minor": 0,
  "metadata": {
    "colab": {
      "name": "doingmath02.ipynb",
      "provenance": [],
      "authorship_tag": "ABX9TyMJgrDdGJMWkbhDYWtMyPCg",
      "include_colab_link": true
    },
    "kernelspec": {
      "name": "python3",
      "display_name": "Python 3"
    }
  },
  "cells": [
    {
      "cell_type": "markdown",
      "metadata": {
        "id": "view-in-github",
        "colab_type": "text"
      },
      "source": [
        "<a href=\"https://colab.research.google.com/github/kalz2q/mycolabnotebooks/blob/master/doingmath02.ipynb\" target=\"_parent\"><img src=\"https://colab.research.google.com/assets/colab-badge.svg\" alt=\"Open In Colab\"/></a>"
      ]
    },
    {
      "cell_type": "markdown",
      "metadata": {
        "id": "sZlEQ3O57tFT",
        "colab_type": "text"
      },
      "source": [
        "# メモ\n",
        "\n",
        "> Doing Math with Python: Use Programming to Explore Algebra, Statistics, Calculus, and More!  \n",
        "> Amit Saha\n",
        "\n",
        "を `Colab` でなぞりながら読む。\n",
        "\n",
        "というプロジェクトの p. 149 あたり、Chapter 6 以降がこのファイルである。\n",
        "\n",
        "6章 図形とフラクタル Drawing Geometric Shapes and Fractals  \n",
        "7章 微積分 Solving Calculus Problems\n",
        "\n",
        "の予定。"
      ]
    },
    {
      "cell_type": "markdown",
      "metadata": {
        "id": "5HhXNKGX8e_Q",
        "colab_type": "text"
      },
      "source": [
        "# 円を描く\n",
        "\n",
        "最初に円を描く、として次のような例が載っている。 いままでの matplotlib の使い方とだいぶ違うので学び直し、位置付け、が必要な気がする。"
      ]
    },
    {
      "cell_type": "code",
      "metadata": {
        "id": "fjaLxi5ZnQe3",
        "colab_type": "code",
        "colab": {
          "base_uri": "https://localhost:8080/",
          "height": 265
        },
        "outputId": "5d144782-d56a-4c2b-e5ff-f7646431d18e"
      },
      "source": [
        "import matplotlib.pyplot as plt\n",
        "\n",
        "\n",
        "def create_circle():\n",
        "    circle = plt.Circle((0, 0), radius=0.5)\n",
        "    return circle\n",
        "\n",
        "\n",
        "def show_shape(patch):\n",
        "    ax = plt.gca()\n",
        "    ax.add_patch(patch)\n",
        "    plt.axis('scaled')\n",
        "    plt.show()\n",
        "\n",
        "\n",
        "c = create_circle()\n",
        "show_shape(c)\n"
      ],
      "execution_count": 2,
      "outputs": [
        {
          "output_type": "display_data",
          "data": {
            "image/png": "[encoded data removed]",
            "text/plain": [
              "<Figure size 432x288 with 1 Axes>"
            ]
          },
          "metadata": {
            "tags": [],
            "needs_background": "light"
          }
        }
      ]
    },
    {
      "cell_type": "markdown",
      "metadata": {
        "id": "3eYgKF02n-p6",
        "colab_type": "text"
      },
      "source": [
        "def を外して実験してみよう。"
      ]
    },
    {
      "cell_type": "code",
      "metadata": {
        "id": "FDbZFtIqoDSk",
        "colab_type": "code",
        "colab": {
          "base_uri": "https://localhost:8080/",
          "height": 265
        },
        "outputId": "58bcb4e2-8ac1-426e-8e1f-a424a325c188"
      },
      "source": [
        "import matplotlib.pyplot as plt\n",
        "\n",
        "# ax = plt.gca()\n",
        "fig = plt.figure()\n",
        "ax = fig.add_subplot()\n",
        "\n",
        "c = plt.Circle((0,0), radius=0.5)\n",
        "\n",
        "ax.add_patch(c)\n",
        "ax.plot([1,2,3],[4,5,6])\n",
        "plt.axis('scaled')\n",
        "plt.show()"
      ],
      "execution_count": 15,
      "outputs": [
        {
          "output_type": "display_data",
          "data": {
            "image/png": "[encoded data removed]",
            "text/plain": [
              "<Figure size 432x288 with 1 Axes>"
            ]
          },
          "metadata": {
            "tags": [],
            "needs_background": "light"
          }
        }
      ]
    },
    {
      "cell_type": "markdown",
      "metadata": {
        "id": "_1mMn38uskQa",
        "colab_type": "text"
      },
      "source": [
        "基本的に普通の pyplot で Circle とかの命令で図を描いて、add_patch で 追加して、plt.show すればいいみたい。\n",
        "\n",
        "\n",
        "縦横比がおかしかったら\n",
        "\n",
        "ax.set_aspect('equal')\n",
        "\n",
        "とする、とのこと。\n",
        "\n",
        "縁の色 edge color と塗りつぶしの色 face color (fill color) は fc='g'、 ec='r' のように指定する。 円以外にも楕円 Ellipse、多角形 Polygon、四辺形 Rectangle、などの patch がある。\n",
        "\n",
        "\n",
        "\n"
      ]
    },
    {
      "cell_type": "markdown",
      "metadata": {
        "id": "0Jx3t4JKr72Y",
        "colab_type": "text"
      },
      "source": [
        "# アニメーション"
      ]
    },
    {
      "cell_type": "code",
      "metadata": {
        "id": "Qzvm-cdur7XN",
        "colab_type": "code",
        "colab": {
          "base_uri": "https://localhost:8080/",
          "height": 281
        },
        "outputId": "d136647f-8199-4c87-c0c7-ccac5bee6285"
      },
      "source": [
        "import matplotlib.pyplot as plt\n",
        "from matplotlib import animation\n",
        "\n",
        "def create_circle():\n",
        "    circle = plt.Circle((0, 0), radius=0.5)\n",
        "    return circle\n",
        "\n",
        "def update_radius(i, circle):\n",
        "    circle.radius = i * 0.5\n",
        "    return circle,\n",
        "\n",
        "def create_animation():\n",
        "    fig = plt.gcf()\n",
        "    ax = plt.axes(xlim=(-10, 10), ylim=(-10, 10))\n",
        "    ax.set_aspect('equal')\n",
        "    circle = create_circle()\n",
        "    ax.add_patch(circle)\n",
        "    anim = animation.FuncAnimation(fig, update_radius, fargs=(circle,), frames=30, interval=50)\n",
        "    plt.title('Simple Circle Animation')\n",
        "    plt.show()\n",
        "\n",
        "create_animation()\n",
        "\n"
      ],
      "execution_count": 11,
      "outputs": [
        {
          "output_type": "display_data",
          "data": {
            "image/png": "[encoded data removed]",
            "text/plain": [
              "<Figure size 432x288 with 1 Axes>"
            ]
          },
          "metadata": {
            "tags": [],
            "needs_background": "light"
          }
        }
      ]
    },
    {
      "cell_type": "markdown",
      "metadata": {
        "id": "1T4Omvmnzpye",
        "colab_type": "text"
      },
      "source": [
        "## p. 154"
      ]
    },
    {
      "cell_type": "code",
      "metadata": {
        "id": "OM1mtrKfzsv7",
        "colab_type": "code",
        "colab": {}
      },
      "source": [
        ""
      ],
      "execution_count": null,
      "outputs": []
    }
  ]
}