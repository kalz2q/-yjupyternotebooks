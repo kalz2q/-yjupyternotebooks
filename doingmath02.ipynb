{
  "nbformat": 4,
  "nbformat_minor": 0,
  "metadata": {
    "colab": {
      "name": "doingmath02.ipynb",
      "provenance": [],
      "toc_visible": true,
      "authorship_tag": "ABX9TyMMgvyC49Gxgv5o9zsBw/Po",
      "include_colab_link": true
    },
    "kernelspec": {
      "name": "python3",
      "display_name": "Python 3"
    }
  },
  "cells": [
    {
      "cell_type": "markdown",
      "metadata": {
        "id": "view-in-github",
        "colab_type": "text"
      },
      "source": [
        "<a href=\"https://colab.research.google.com/github/kalz2q/mycolabnotebooks/blob/master/doingmath02.ipynb\" target=\"_parent\"><img src=\"https://colab.research.google.com/assets/colab-badge.svg\" alt=\"Open In Colab\"/></a>"
      ]
    },
    {
      "cell_type": "code",
      "metadata": {
        "id": "xsExJsYQ_tKb",
        "colab_type": "code",
        "colab": {}
      },
      "source": [
        "# new doing"
      ],
      "execution_count": null,
      "outputs": []
    },
    {
      "cell_type": "markdown",
      "metadata": {
        "id": "bxuf1ndUU05q",
        "colab_type": "text"
      },
      "source": [
        "# メモ\n",
        "\n",
        "> Doing Math with Python: Use Programming to Explore Algebra, Statistics, Calculus, and More!  \n",
        "> Amit Saha\n",
        "\n",
        "を `Colab` でなぞりながら読む。\n",
        "\n",
        "本のまえがきに高校数学でプログラミングを学ぶ、と書いてあるので、あちらの高校数学の概要がわかり、自分にとっては復習になるかもしれない。\n",
        "\n",
        "途中でめげるかもしれないがとりあえず始めてみよう。\n",
        "\n",
        "http://www.nostarch.com/doingmathwithpython/ にプログラムとヒントがあるとのこと。\n"
      ]
    },
    {
      "cell_type": "markdown",
      "metadata": {
        "colab_type": "text",
        "id": "ntYjNLhp_--x"
      },
      "source": [
        "# 数値の操作\n",
        "\n",
        "四則演算はべき乗以外は普通なので実験するだけでいいだろう。"
      ]
    },
    {
      "cell_type": "code",
      "metadata": {
        "id": "45VaHl6fZ-5X",
        "colab_type": "code",
        "colab": {
          "base_uri": "https://localhost:8080/",
          "height": 119
        },
        "outputId": "20f3779e-d8e2-44fa-dc8a-1cf04b12bce3"
      },
      "source": [
        "print (1 + 2)\n",
        "print (3.5)\n",
        "print ( -1 + 2.5)\n",
        "print (100 - 45)\n",
        "print (3 * 2)\n",
        "print (3.5 * 1.5)"
      ],
      "execution_count": null,
      "outputs": [
        {
          "output_type": "stream",
          "text": [
            "3\n",
            "3.5\n",
            "1.5\n",
            "55\n",
            "6\n",
            "5.25\n"
          ],
          "name": "stdout"
        }
      ]
    },
    {
      "cell_type": "code",
      "metadata": {
        "id": "KliXPAQmaWj1",
        "colab_type": "code",
        "colab": {}
      },
      "source": [
        "print (3 / 2)\n",
        "print (4 / 2)"
      ],
      "execution_count": null,
      "outputs": []
    },
    {
      "cell_type": "markdown",
      "metadata": {
        "id": "Ivg5InS6Y6nY",
        "colab_type": "text"
      },
      "source": [
        "以上、加算、減算、乗算、除算を見た。\n",
        "\n",
        "除算で引数が整数同士でも返される値は浮動小数点数になる。\n",
        "\n",
        "整数除算を行いたい場合は、`//` を用いる。"
      ]
    },
    {
      "cell_type": "code",
      "metadata": {
        "id": "k2O6Wlp8a-Lg",
        "colab_type": "code",
        "colab": {
          "base_uri": "https://localhost:8080/",
          "height": 119
        },
        "outputId": "376cca67-c3e9-49e9-b6ca-f50ca3f72bf0"
      },
      "source": [
        "print (3 // 2)\n",
        "print (-3 // 2)\n",
        "print (round (3 / 2))\n",
        "print (round (-3 / 2))\n",
        "print (int(3 / 2))\n",
        "print (int(-3 / 2))"
      ],
      "execution_count": null,
      "outputs": [
        {
          "output_type": "stream",
          "text": [
            "1\n",
            "-2\n",
            "2\n",
            "-2\n",
            "1\n",
            "-1\n"
          ],
          "name": "stdout"
        }
      ]
    },
    {
      "cell_type": "markdown",
      "metadata": {
        "id": "GQSP4CsQbWRH",
        "colab_type": "text"
      },
      "source": [
        "`//` は床除算 `floor division` と呼ばれ、その数以下の整数を結果として返す。\n",
        "\n",
        "余り計算は `%` `modulo` 演算子を用いる。"
      ]
    },
    {
      "cell_type": "code",
      "metadata": {
        "id": "igWqHRoUb_fE",
        "colab_type": "code",
        "colab": {
          "base_uri": "https://localhost:8080/",
          "height": 34
        },
        "outputId": "da1bb7f3-5d6d-4f35-d3d8-1cd51b79fff7"
      },
      "source": [
        "print (9 % 2)"
      ],
      "execution_count": null,
      "outputs": [
        {
          "output_type": "stream",
          "text": [
            "1\n"
          ],
          "name": "stdout"
        }
      ]
    },
    {
      "cell_type": "markdown",
      "metadata": {
        "id": "i9SefNYCcEjH",
        "colab_type": "text"
      },
      "source": [
        "冪乗は `**` `exponential` 演算子を用いる。"
      ]
    },
    {
      "cell_type": "code",
      "metadata": {
        "id": "2ka4BBHdcNxH",
        "colab_type": "code",
        "colab": {
          "base_uri": "https://localhost:8080/",
          "height": 68
        },
        "outputId": "a28312d3-b3bc-49f1-8d2a-44e24a084134"
      },
      "source": [
        "print (2 ** 2)\n",
        "print (2 ** 10)\n",
        "print (1 ** 10)"
      ],
      "execution_count": null,
      "outputs": [
        {
          "output_type": "stream",
          "text": [
            "4\n",
            "1024\n",
            "1\n"
          ],
          "name": "stdout"
        }
      ]
    },
    {
      "cell_type": "markdown",
      "metadata": {
        "id": "btx7_fHRcXDo",
        "colab_type": "text"
      },
      "source": [
        "冪乗の値 `exponential symbol` に `1` 以下の値が使える。平方根を求めたいときにには `1/2`、立方根の場合は `1/3`である。"
      ]
    },
    {
      "cell_type": "code",
      "metadata": {
        "id": "eJL9HmgRcV8I",
        "colab_type": "code",
        "colab": {
          "base_uri": "https://localhost:8080/",
          "height": 34
        },
        "outputId": "8345aaa3-8b50-471a-f0b1-19d6bd14720f"
      },
      "source": [
        "print (8 ** (1 / 3))"
      ],
      "execution_count": null,
      "outputs": [
        {
          "output_type": "stream",
          "text": [
            "2.0\n"
          ],
          "name": "stdout"
        }
      ]
    },
    {
      "cell_type": "markdown",
      "metadata": {
        "id": "5cXawDZfc5kB",
        "colab_type": "text"
      },
      "source": [
        "演算子の優先順序は `PEMDAS` に従う。\n",
        "\n",
        "* 括弧 parntheses\n",
        "* 指数 exponents\n",
        "* 乗算 multiplication\n",
        "* 除算 division\n",
        "* 加算 addition\n",
        "* 減算 subtraction\n",
        "\n",
        "`PEMDAS`を覚える語呂合わせが欲しいが、どうでもいいか。 => Please Excuse My Dear Aunt Sally だって。\n"
      ]
    },
    {
      "cell_type": "code",
      "metadata": {
        "id": "yh0KmGURlKbG",
        "colab_type": "code",
        "colab": {
          "base_uri": "https://localhost:8080/",
          "height": 51
        },
        "outputId": "749c28c3-1812-41e5-9606-20a80abcc162"
      },
      "source": [
        "print (5 + 5 * 5)\n",
        "print ((5 + 5) * 5)"
      ],
      "execution_count": null,
      "outputs": [
        {
          "output_type": "stream",
          "text": [
            "30\n",
            "50\n"
          ],
          "name": "stdout"
        }
      ]
    },
    {
      "cell_type": "markdown",
      "metadata": {
        "id": "6MA16xFMla42",
        "colab_type": "text"
      },
      "source": [
        "# 変数\n",
        "\n",
        "数字につけるラベルのことを数学やプログラミングでは変数、と呼ぶ。\n",
        "\n",
        "中学とかだと $a$ が定数、$x$ が変数みたいな習い方するけど、それって無理あるよね。ラベルかぁ、ラベルというより箱がいいと思うのだが。\"なにか\"って言い方もあったかと思う。ある意味抽象化なのだから、そそ、\"方程式\"という言葉と一緒に習ったような気もする。なにかイコールなにか。なにか掛けるなにかイコールなにか。そのなにかに名前、ラベルをつけたところから数学が始まった。とかね。"
      ]
    },
    {
      "cell_type": "code",
      "metadata": {
        "id": "VnrOsLJXlm9g",
        "colab_type": "code",
        "colab": {
          "base_uri": "https://localhost:8080/",
          "height": 51
        },
        "outputId": "d5e55942-455f-4ca7-debd-7d254e8788c1"
      },
      "source": [
        "a = 3\n",
        "print (a + 1)\n",
        "a = 5\n",
        "print (a + 1)"
      ],
      "execution_count": null,
      "outputs": [
        {
          "output_type": "stream",
          "text": [
            "4\n",
            "6\n"
          ],
          "name": "stdout"
        }
      ]
    },
    {
      "cell_type": "markdown",
      "metadata": {
        "id": "7FzLy1-dmJOC",
        "colab_type": "text"
      },
      "source": [
        "# 型 type\n",
        "\n",
        "整数と浮動小数点数は型がちがう。型を知るには `type()` を使う。"
      ]
    },
    {
      "cell_type": "code",
      "metadata": {
        "id": "vaKKJep-mIyM",
        "colab_type": "code",
        "colab": {
          "base_uri": "https://localhost:8080/",
          "height": 72
        },
        "outputId": "fba5a7e4-58f5-46b0-deb9-0a1b66a77758"
      },
      "source": [
        "print (type (3))\n",
        "print (type (3.5))\n",
        "print (type (3.0))"
      ],
      "execution_count": null,
      "outputs": [
        {
          "output_type": "stream",
          "text": [
            "<class 'int'>\n",
            "<class 'float'>\n",
            "<class 'float'>\n"
          ],
          "name": "stdout"
        }
      ]
    },
    {
      "cell_type": "code",
      "metadata": {
        "id": "uLbffZMxm5el",
        "colab_type": "code",
        "colab": {
          "base_uri": "https://localhost:8080/",
          "height": 51
        },
        "outputId": "154bd513-3946-4034-99fb-0cc89cc635f0"
      },
      "source": [
        "print (3 == 3.0)\n",
        "print (type(3) == type (3.0))"
      ],
      "execution_count": null,
      "outputs": [
        {
          "output_type": "stream",
          "text": [
            "True\n",
            "False\n"
          ],
          "name": "stdout"
        }
      ]
    },
    {
      "cell_type": "markdown",
      "metadata": {
        "id": "4kD0vNZZnLi5",
        "colab_type": "text"
      },
      "source": [
        "`3 == 3.0` が `True` になるのは整数を浮動小数点に変換してから比較しているのだろう。\n",
        "\n",
        "`3 === 3.0' というような厳密な比較をする演算子はないみたい。"
      ]
    },
    {
      "cell_type": "code",
      "metadata": {
        "id": "3JkfHtnnnozl",
        "colab_type": "code",
        "colab": {
          "base_uri": "https://localhost:8080/",
          "height": 102
        },
        "outputId": "63e5d97d-33ef-4df8-906b-7e8e16119d70"
      },
      "source": [
        "print (int(3.8))\n",
        "print (int(3.0))\n",
        "print (float (3))\n",
        "print (int (-3.8))\n",
        "print ( -7 // 2)"
      ],
      "execution_count": null,
      "outputs": [
        {
          "output_type": "stream",
          "text": [
            "3\n",
            "3\n",
            "3.0\n",
            "-3\n",
            "-4\n"
          ],
          "name": "stdout"
        }
      ]
    },
    {
      "cell_type": "markdown",
      "metadata": {
        "id": "RIQCKHigJwfH",
        "colab_type": "text"
      },
      "source": [
        "上の例でマイナスを `//` で整数割り算をして割り切れないと下側になるので、床除算なのだが、そういうこと。"
      ]
    },
    {
      "cell_type": "markdown",
      "metadata": {
        "id": "GlhnAJU1oBbc",
        "colab_type": "text"
      },
      "source": [
        "# 分数 fraction\n"
      ]
    },
    {
      "cell_type": "markdown",
      "metadata": {
        "id": "-ymmVFHNKKKk",
        "colab_type": "text"
      },
      "source": [
        "下の例では `from fractions import Fraction` としているが、一方で Rational というのもあったよね。\n",
        "\n",
        "質問: 分数と有理数との関係。実数との関係。無理数も、無限に小数点が続く分数もコンピューターだと float なのだろうがそれでは数学ができないので、どうにかしているはず。最低限表示の話だが、numpy では Rational、python では  Fraction か？\n",
        "\n",
        "とりあえずここは  Fraction で進む。"
      ]
    },
    {
      "cell_type": "code",
      "metadata": {
        "id": "GbeKg_bdoPzz",
        "colab_type": "code",
        "colab": {
          "base_uri": "https://localhost:8080/",
          "height": 34
        },
        "outputId": "b5002d60-da88-476a-9019-d9c75bb8bb61"
      },
      "source": [
        "from fractions import Fraction\n",
        "f = Fraction (3, 4)\n",
        "f"
      ],
      "execution_count": null,
      "outputs": [
        {
          "output_type": "execute_result",
          "data": {
            "text/plain": [
              "Fraction(3, 4)"
            ]
          },
          "metadata": {
            "tags": []
          },
          "execution_count": 69
        }
      ]
    },
    {
      "cell_type": "code",
      "metadata": {
        "id": "CwI4lUd0o1bh",
        "colab_type": "code",
        "colab": {
          "base_uri": "https://localhost:8080/",
          "height": 34
        },
        "outputId": "abfc736d-7eff-4b6a-937a-e355f9505559"
      },
      "source": [
        "print (f)"
      ],
      "execution_count": null,
      "outputs": [
        {
          "output_type": "stream",
          "text": [
            "3/4\n"
          ],
          "name": "stdout"
        }
      ]
    },
    {
      "cell_type": "markdown",
      "metadata": {
        "id": "4PGRNnpjo9Qc",
        "colab_type": "text"
      },
      "source": [
        "`print()` 関数は `Fraction(3, 4)` を印刷するときに、見やすい形に変換している、と思われる。"
      ]
    },
    {
      "cell_type": "code",
      "metadata": {
        "id": "wt4gg9gvo82L",
        "colab_type": "code",
        "colab": {
          "base_uri": "https://localhost:8080/",
          "height": 34
        },
        "outputId": "c570b161-d130-4da5-8e8d-6c2b98e675c6"
      },
      "source": [
        "Fraction (3, 4) * 1 + 1.5"
      ],
      "execution_count": null,
      "outputs": [
        {
          "output_type": "execute_result",
          "data": {
            "text/plain": [
              "2.25"
            ]
          },
          "metadata": {
            "tags": []
          },
          "execution_count": 26
        }
      ]
    },
    {
      "cell_type": "code",
      "metadata": {
        "id": "XA1nuYLbppEG",
        "colab_type": "code",
        "colab": {
          "base_uri": "https://localhost:8080/",
          "height": 34
        },
        "outputId": "2be8a700-1760-4758-f9d4-82ba10f67956"
      },
      "source": [
        "Fraction (3, 4) + 1 + Fraction (1, 3)"
      ],
      "execution_count": null,
      "outputs": [
        {
          "output_type": "execute_result",
          "data": {
            "text/plain": [
              "Fraction(25, 12)"
            ]
          },
          "metadata": {
            "tags": []
          },
          "execution_count": 27
        }
      ]
    },
    {
      "cell_type": "code",
      "metadata": {
        "id": "vOCUXif2pwJw",
        "colab_type": "code",
        "colab": {
          "base_uri": "https://localhost:8080/",
          "height": 34
        },
        "outputId": "ac6547c6-292d-4df6-f461-3f0bc29d844d"
      },
      "source": [
        "Fraction (3, 4) * 1 + 1.5 + Fraction (1, 3)"
      ],
      "execution_count": null,
      "outputs": [
        {
          "output_type": "execute_result",
          "data": {
            "text/plain": [
              "2.5833333333333335"
            ]
          },
          "metadata": {
            "tags": []
          },
          "execution_count": 29
        }
      ]
    },
    {
      "cell_type": "markdown",
      "metadata": {
        "id": "mezic1TkLtrN",
        "colab_type": "text"
      },
      "source": [
        "次の例でもあるように、float と分数をまぜると、float になってしまう。"
      ]
    },
    {
      "cell_type": "code",
      "metadata": {
        "id": "lHA1rB9gLflQ",
        "colab_type": "code",
        "colab": {
          "base_uri": "https://localhost:8080/",
          "height": 35
        },
        "outputId": "3922a0bc-a991-41b7-ae97-5f45ae212bde"
      },
      "source": [
        "from fractions import Fraction\n",
        "display(1.5 + Fraction (1, 3))"
      ],
      "execution_count": null,
      "outputs": [
        {
          "output_type": "display_data",
          "data": {
            "text/plain": [
              "1.8333333333333333"
            ]
          },
          "metadata": {
            "tags": []
          }
        }
      ]
    },
    {
      "cell_type": "code",
      "metadata": {
        "id": "iNs3unU4MLAH",
        "colab_type": "code",
        "colab": {
          "base_uri": "https://localhost:8080/",
          "height": 52
        },
        "outputId": "c3d7b69c-6a30-46c1-a268-02a8a96c19b5"
      },
      "source": [
        "print (type (Fraction(1,3)))\n",
        "print (type (1.5 + Fraction (1,3)))"
      ],
      "execution_count": null,
      "outputs": [
        {
          "output_type": "stream",
          "text": [
            "<class 'fractions.Fraction'>\n",
            "<class 'float'>\n"
          ],
          "name": "stdout"
        }
      ]
    },
    {
      "cell_type": "markdown",
      "metadata": {
        "id": "N2V3CwnUp3Tt",
        "colab_type": "text"
      },
      "source": [
        "式 expression の中に1つでも浮動小数点があれば結果は浮動小数点。浮動小数点がなければ、分数があれば分数が結果になる。\n",
        "\n"
      ]
    },
    {
      "cell_type": "markdown",
      "metadata": {
        "id": "oHJ10st3qOGh",
        "colab_type": "text"
      },
      "source": [
        "# 複素数 complex number"
      ]
    },
    {
      "cell_type": "markdown",
      "metadata": {
        "id": "6om-6zEWqb-I",
        "colab_type": "text"
      },
      "source": [
        "Pythonは文字 $j$ で識別される虚数部を持つ複素数をサポートする。  \n",
        "$j$ または $J$ は数学表記の  $i$ に相当する。  \n",
        "複素数 $2 + 3i$ はPythonでは `2 + 3j` として記述される。"
      ]
    },
    {
      "cell_type": "code",
      "metadata": {
        "id": "uFj2tXE3q8Dk",
        "colab_type": "code",
        "colab": {
          "base_uri": "https://localhost:8080/",
          "height": 51
        },
        "outputId": "093543cd-f8fb-4bc4-8e0c-f1e6898e575a"
      },
      "source": [
        "a = 2 + 3j\n",
        "print (a)\n",
        "print (type(a))"
      ],
      "execution_count": null,
      "outputs": [
        {
          "output_type": "stream",
          "text": [
            "(2+3j)\n",
            "<class 'complex'>\n"
          ],
          "name": "stdout"
        }
      ]
    },
    {
      "cell_type": "code",
      "metadata": {
        "id": "-mMyV4BcrHgh",
        "colab_type": "code",
        "colab": {
          "base_uri": "https://localhost:8080/",
          "height": 34
        },
        "outputId": "ad368c0f-70e2-41a2-e9b2-79a7c2f42a83"
      },
      "source": [
        "a = complex (2, 3)\n",
        "a"
      ],
      "execution_count": null,
      "outputs": [
        {
          "output_type": "execute_result",
          "data": {
            "text/plain": [
              "(2+3j)"
            ]
          },
          "metadata": {
            "tags": []
          },
          "execution_count": 32
        }
      ]
    },
    {
      "cell_type": "code",
      "metadata": {
        "id": "V3TpMKiE3-zT",
        "colab_type": "code",
        "colab": {
          "base_uri": "https://localhost:8080/",
          "height": 50
        },
        "outputId": "059414fa-0957-4979-d07b-3eff964adba3"
      },
      "source": [
        "b = 3 + 3j\n",
        "print (a + b)\n",
        "print (a - b)"
      ],
      "execution_count": null,
      "outputs": [
        {
          "output_type": "stream",
          "text": [
            "(5+6j)\n",
            "(-1+0j)\n"
          ],
          "name": "stdout"
        }
      ]
    },
    {
      "cell_type": "code",
      "metadata": {
        "id": "UObdGk8P4IZq",
        "colab_type": "code",
        "colab": {
          "base_uri": "https://localhost:8080/",
          "height": 67
        },
        "outputId": "a4ed4f12-d156-4929-9791-ad9f698ac2ff"
      },
      "source": [
        "print (a)\n",
        "print (b)\n",
        "print (a * b)"
      ],
      "execution_count": null,
      "outputs": [
        {
          "output_type": "stream",
          "text": [
            "(2+3j)\n",
            "(3+3j)\n",
            "(-3+15j)\n"
          ],
          "name": "stdout"
        }
      ]
    },
    {
      "cell_type": "code",
      "metadata": {
        "id": "2DB2nhW04U1j",
        "colab_type": "code",
        "colab": {
          "base_uri": "https://localhost:8080/",
          "height": 50
        },
        "outputId": "9b9a468b-002d-49dd-a2c5-e5b611f9e931"
      },
      "source": [
        "z = 2 + 3j\n",
        "print (z.real)\n",
        "print (z.imag)"
      ],
      "execution_count": null,
      "outputs": [
        {
          "output_type": "stream",
          "text": [
            "2.0\n",
            "3.0\n"
          ],
          "name": "stdout"
        }
      ]
    },
    {
      "cell_type": "code",
      "metadata": {
        "id": "x2z-1QFNYQjO",
        "colab_type": "code",
        "colab": {
          "base_uri": "https://localhost:8080/",
          "height": 35
        },
        "outputId": "c4766741-d480-4673-9d76-efedb5eb8ed1"
      },
      "source": [
        "2 +3j - 3j"
      ],
      "execution_count": null,
      "outputs": [
        {
          "output_type": "execute_result",
          "data": {
            "text/plain": [
              "(2+0j)"
            ]
          },
          "metadata": {
            "tags": []
          },
          "execution_count": 10
        }
      ]
    },
    {
      "cell_type": "markdown",
      "metadata": {
        "id": "PuOciXgB4pZT",
        "colab_type": "text"
      },
      "source": [
        "複素数の共役 (きょうやく) は、実部は同じで、虚部は符号が反対になる。\n",
        "\n",
        "`conjugate()` メソッドで得ることができる。"
      ]
    },
    {
      "cell_type": "code",
      "metadata": {
        "id": "Cm-7HOyg49Ru",
        "colab_type": "code",
        "colab": {
          "base_uri": "https://localhost:8080/",
          "height": 50
        },
        "outputId": "94bfb7b5-5f86-444a-8e53-8395fd702810"
      },
      "source": [
        "print (z)\n",
        "print (z.conjugate())"
      ],
      "execution_count": null,
      "outputs": [
        {
          "output_type": "stream",
          "text": [
            "(2+3j)\n",
            "(2-3j)\n"
          ],
          "name": "stdout"
        }
      ]
    },
    {
      "cell_type": "markdown",
      "metadata": {
        "id": "2ZoX-wSC5Ytv",
        "colab_type": "text"
      },
      "source": [
        "実数部と虚数部はどちらも浮動小数点数。\n",
        "\n",
        "実数部と虚数部を使用して、次の式で複素数の大きさを計算できる。"
      ]
    },
    {
      "cell_type": "code",
      "metadata": {
        "id": "b0tYMFV65XiP",
        "colab_type": "code",
        "colab": {
          "base_uri": "https://localhost:8080/",
          "height": 34
        },
        "outputId": "d8caadd3-cc9e-4ad4-a1ba-827dfa087a15"
      },
      "source": [
        "(z.real ** 2 + z.imag ** 2) ** 0.5"
      ],
      "execution_count": null,
      "outputs": [
        {
          "output_type": "execute_result",
          "data": {
            "text/plain": [
              "3.605551275463989"
            ]
          },
          "metadata": {
            "tags": []
          },
          "execution_count": 39
        }
      ]
    },
    {
      "cell_type": "markdown",
      "metadata": {
        "id": "ye-6i5wW5zJi",
        "colab_type": "text"
      },
      "source": [
        "`abs()` 関数は実数の場合は絶対値を返すが、複素数の場合は大きさを返す。\n",
        "\n",
        "上記の式と同じ結果になる。\n"
      ]
    },
    {
      "cell_type": "code",
      "metadata": {
        "id": "t2aKnFZO6LDs",
        "colab_type": "code",
        "colab": {
          "base_uri": "https://localhost:8080/",
          "height": 34
        },
        "outputId": "e19183f3-30f7-4067-c3ae-bf1350598bd9"
      },
      "source": [
        "abs(z)"
      ],
      "execution_count": null,
      "outputs": [
        {
          "output_type": "execute_result",
          "data": {
            "text/plain": [
              "3.605551275463989"
            ]
          },
          "metadata": {
            "tags": []
          },
          "execution_count": 40
        }
      ]
    },
    {
      "cell_type": "markdown",
      "metadata": {
        "id": "DwMnXBMI6ZbE",
        "colab_type": "text"
      },
      "source": [
        "標準ライブラリの  cmath モジュールは、複素数を処理するために他の多くの特殊な関数へのアクセスを提供する。 cmath  は  complex math の意味。"
      ]
    },
    {
      "cell_type": "markdown",
      "metadata": {
        "id": "Reyv7XoaZI7Z",
        "colab_type": "text"
      },
      "source": [
        "# ユーザー入力"
      ]
    },
    {
      "cell_type": "code",
      "metadata": {
        "id": "xskH4Hqf6wdS",
        "colab_type": "code",
        "colab": {
          "base_uri": "https://localhost:8080/",
          "height": 67
        },
        "outputId": "6d803dd4-f9e5-4538-fe5e-94be6c095ae4"
      },
      "source": [
        "# a = input()\n",
        "# print (a)\n",
        "# print (type(a))"
      ],
      "execution_count": null,
      "outputs": [
        {
          "output_type": "stream",
          "text": [
            "3\n",
            "3\n",
            "<class 'str'>\n"
          ],
          "name": "stdout"
        }
      ]
    },
    {
      "cell_type": "markdown",
      "metadata": {
        "id": "oMTSS3t96-uS",
        "colab_type": "text"
      },
      "source": [
        "Colabでも上記のようにするとユーザー・インプットを得ることができるが、プログラムが止まるのであまり使いみちがないような気がする。\n",
        "\n",
        "`input()`関数で得られるのは文字列なので、数字の場合は `int()`関数などで変換する必要がある。"
      ]
    },
    {
      "cell_type": "code",
      "metadata": {
        "id": "4EDVCZNV7kqQ",
        "colab_type": "code",
        "colab": {
          "base_uri": "https://localhost:8080/",
          "height": 50
        },
        "outputId": "bed6365d-1169-4351-a827-8c7448bfd8e6"
      },
      "source": [
        "a = '1'\n",
        "print (int(a) + 1)\n",
        "print (float(a) + 1)"
      ],
      "execution_count": null,
      "outputs": [
        {
          "output_type": "stream",
          "text": [
            "2\n",
            "2.0\n"
          ],
          "name": "stdout"
        }
      ]
    },
    {
      "cell_type": "code",
      "metadata": {
        "id": "PLQYXgmV76ER",
        "colab_type": "code",
        "colab": {
          "base_uri": "https://localhost:8080/",
          "height": 34
        },
        "outputId": "dfa85e81-1fc9-484e-e2d0-94aa3e8ccb99"
      },
      "source": [
        "# int('2.0') # これはエラーになるので\n",
        "int(float('2.0'))"
      ],
      "execution_count": null,
      "outputs": [
        {
          "output_type": "execute_result",
          "data": {
            "text/plain": [
              "2"
            ]
          },
          "metadata": {
            "tags": []
          },
          "execution_count": 46
        }
      ]
    },
    {
      "cell_type": "markdown",
      "metadata": {
        "id": "b7t2vZ_S8XzR",
        "colab_type": "text"
      },
      "source": [
        "'3/4' が入力されると `float()` でも `int()` でもエラーになる。\n",
        "\n",
        "ユーザー入力をエラーなしにするためには、\n",
        "\n",
        "`try ... except` ブロックで扱う必要がある。"
      ]
    },
    {
      "cell_type": "markdown",
      "metadata": {
        "id": "xf9pMX2Q8-T6",
        "colab_type": "text"
      },
      "source": [
        "# 例外処理 exception\n",
        "\n",
        "基本的な考え方は次のとおり。\n",
        "\n",
        "`try... except` ブロックで1つ以上の文 statement を実行し、実行中にエラーが発生しても、プログラムはクラッシュせず、代わりに、処理は except ブロックに転送される。ここで、適切な操作を実行できる。"
      ]
    },
    {
      "cell_type": "code",
      "metadata": {
        "id": "4PODYTu_9zPN",
        "colab_type": "code",
        "colab": {
          "base_uri": "https://localhost:8080/",
          "height": 70
        },
        "outputId": "477d6168-22c6-43df-cdf3-9eb541c366bb"
      },
      "source": [
        "# try:\n",
        "#     a = float(input('Enter a number: '))\n",
        "# except ValueError:\n",
        "#     print ('You entered an invalid number')"
      ],
      "execution_count": null,
      "outputs": [
        {
          "output_type": "stream",
          "text": [
            "Enter a number: 3/4\n",
            "You entered an invalid number\n"
          ],
          "name": "stdout"
        }
      ]
    },
    {
      "cell_type": "markdown",
      "metadata": {
        "id": "djnkWVw2-arS",
        "colab_type": "text"
      },
      "source": [
        "`try ... except` ブロックで例外を扱うには、例外の種類を特定する必要がある。\n",
        "\n",
        "上記の場合、ValueError を指定した。"
      ]
    },
    {
      "cell_type": "code",
      "metadata": {
        "id": "SkXtTSFq_X0U",
        "colab_type": "code",
        "colab": {
          "base_uri": "https://localhost:8080/",
          "height": 50
        },
        "outputId": "49480bbd-80f2-4c18-c76a-a62974ca4fcd"
      },
      "source": [
        "print (1.0.is_integer())\n",
        "print (1.1.is_integer())"
      ],
      "execution_count": null,
      "outputs": [
        {
          "output_type": "stream",
          "text": [
            "True\n",
            "False\n"
          ],
          "name": "stdout"
        }
      ]
    },
    {
      "cell_type": "code",
      "metadata": {
        "id": "WDjXOnsq_vxx",
        "colab_type": "code",
        "colab": {
          "base_uri": "https://localhost:8080/",
          "height": 34
        },
        "outputId": "183a3583-272f-45bd-ac9a-31a3ec76aad5"
      },
      "source": [
        "Fraction ('3/4')"
      ],
      "execution_count": null,
      "outputs": [
        {
          "output_type": "execute_result",
          "data": {
            "text/plain": [
              "Fraction(3, 4)"
            ]
          },
          "metadata": {
            "tags": []
          },
          "execution_count": 56
        }
      ]
    },
    {
      "cell_type": "code",
      "metadata": {
        "id": "csSxkkQs_58d",
        "colab_type": "code",
        "colab": {
          "base_uri": "https://localhost:8080/",
          "height": 34
        },
        "outputId": "457a85a4-0fc8-439f-d6b3-cdf6d201bcbd"
      },
      "source": [
        "Fraction (3, 4)"
      ],
      "execution_count": null,
      "outputs": [
        {
          "output_type": "execute_result",
          "data": {
            "text/plain": [
              "Fraction(3, 4)"
            ]
          },
          "metadata": {
            "tags": []
          },
          "execution_count": 57
        }
      ]
    },
    {
      "cell_type": "code",
      "metadata": {
        "id": "FpkC8_4cADpM",
        "colab_type": "code",
        "colab": {
          "base_uri": "https://localhost:8080/",
          "height": 34
        },
        "outputId": "9d70996b-76cb-4606-d00d-9a17523afbba"
      },
      "source": [
        "print (Fraction (3, 4))"
      ],
      "execution_count": null,
      "outputs": [
        {
          "output_type": "stream",
          "text": [
            "3/4\n"
          ],
          "name": "stdout"
        }
      ]
    },
    {
      "cell_type": "code",
      "metadata": {
        "id": "6vQxvNh1AZKp",
        "colab_type": "code",
        "colab": {
          "base_uri": "https://localhost:8080/",
          "height": 35
        },
        "outputId": "d7985825-bcca-4540-fb2a-a5c73f1ad952"
      },
      "source": [
        "complex ('2+3j') # '2 + 3j' は `ValueError` スペースがじゃまでエラーになる"
      ],
      "execution_count": null,
      "outputs": [
        {
          "output_type": "execute_result",
          "data": {
            "text/plain": [
              "(2+3j)"
            ]
          },
          "metadata": {
            "tags": []
          },
          "execution_count": 4
        }
      ]
    },
    {
      "cell_type": "markdown",
      "metadata": {
        "id": "0poLjJfkSXRD",
        "colab_type": "text"
      },
      "source": [
        "# 因数 Factor"
      ]
    },
    {
      "cell_type": "code",
      "metadata": {
        "id": "xRRgNYZESfHD",
        "colab_type": "code",
        "colab": {
          "base_uri": "https://localhost:8080/",
          "height": 50
        },
        "outputId": "2c3e7b5a-6ece-4d7c-9fa4-17be038e0b30"
      },
      "source": [
        "def is_factor (a, b):\n",
        "    if b % a == 0:\n",
        "        return True\n",
        "    else:\n",
        "        return False\n",
        "\n",
        "print (is_factor(4, 1024))\n",
        "print (1024 % 4 == 0)"
      ],
      "execution_count": null,
      "outputs": [
        {
          "output_type": "stream",
          "text": [
            "True\n",
            "True\n"
          ],
          "name": "stdout"
        }
      ]
    },
    {
      "cell_type": "markdown",
      "metadata": {
        "id": "rJ3-8faKTGZE",
        "colab_type": "text"
      },
      "source": [
        "### range"
      ]
    },
    {
      "cell_type": "code",
      "metadata": {
        "id": "msXfR-z-TFwD",
        "colab_type": "code",
        "colab": {
          "base_uri": "https://localhost:8080/",
          "height": 67
        },
        "outputId": "c7880d06-371e-4d80-e674-0e90625ee380"
      },
      "source": [
        "for i in range (1, 4):\n",
        "    print (i)"
      ],
      "execution_count": null,
      "outputs": [
        {
          "output_type": "stream",
          "text": [
            "1\n",
            "2\n",
            "3\n"
          ],
          "name": "stdout"
        }
      ]
    },
    {
      "cell_type": "code",
      "metadata": {
        "id": "bJpnOfdZTeH1",
        "colab_type": "code",
        "colab": {
          "base_uri": "https://localhost:8080/",
          "height": 101
        },
        "outputId": "131f8c30-49c2-48db-a689-c2f83c033715"
      },
      "source": [
        "for i in range (1, 10, 2):\n",
        "    print (i)"
      ],
      "execution_count": null,
      "outputs": [
        {
          "output_type": "stream",
          "text": [
            "1\n",
            "3\n",
            "5\n",
            "7\n",
            "9\n"
          ],
          "name": "stdout"
        }
      ]
    },
    {
      "cell_type": "code",
      "metadata": {
        "id": "OKVipfn6UDtL",
        "colab_type": "code",
        "colab": {
          "base_uri": "https://localhost:8080/",
          "height": 67
        },
        "outputId": "f4c5bcc5-a67b-4943-b397-ac6be3673042"
      },
      "source": [
        "def factors(b):\n",
        "    ''' Find the factors of an integer '''\n",
        "    for i in range (1, b+1):\n",
        "        if b % i == 0:\n",
        "            print (i)\n",
        "\n",
        "factors (25)"
      ],
      "execution_count": null,
      "outputs": [
        {
          "output_type": "stream",
          "text": [
            "1\n",
            "5\n",
            "25\n"
          ],
          "name": "stdout"
        }
      ]
    },
    {
      "cell_type": "code",
      "metadata": {
        "id": "O_QTyLScVj_Q",
        "colab_type": "code",
        "colab": {
          "base_uri": "https://localhost:8080/",
          "height": 34
        },
        "outputId": "c8175cac-df8d-4543-f4ab-cdabbd47c615"
      },
      "source": [
        "### format\n",
        "item1 = 'apples'\n",
        "item2 = 'bananas'\n",
        "item3 = 'grapes'\n",
        "\n",
        "print('At the grocery store, I bought some {2} and {2} and {1}'.format(item1, item2, item3))"
      ],
      "execution_count": null,
      "outputs": [
        {
          "output_type": "stream",
          "text": [
            "At the grocery store, I bought some grapes and grapes and bananas\n"
          ],
          "name": "stdout"
        }
      ]
    },
    {
      "cell_type": "code",
      "metadata": {
        "id": "NkMgeNOBWNaB",
        "colab_type": "code",
        "colab": {
          "base_uri": "https://localhost:8080/",
          "height": 34
        },
        "outputId": "abe84530-dd04-416b-f84d-b6e0a15cda96"
      },
      "source": [
        "print('Number 1: {0} Number 2: {1} '.format(1, 3.578))"
      ],
      "execution_count": null,
      "outputs": [
        {
          "output_type": "stream",
          "text": [
            "Number 1: 1 Number 2: 3.578 \n"
          ],
          "name": "stdout"
        }
      ]
    },
    {
      "cell_type": "markdown",
      "metadata": {
        "id": "qQqdKEx8WWBk",
        "colab_type": "text"
      },
      "source": [
        "# 掛け算表 Multiplication table"
      ]
    },
    {
      "cell_type": "code",
      "metadata": {
        "id": "omgzGTG0WcQP",
        "colab_type": "code",
        "colab": {
          "base_uri": "https://localhost:8080/",
          "height": 185
        },
        "outputId": "2ade5afc-a302-4e77-f721-3f1cb0b32f81"
      },
      "source": [
        "# multiplication table printer\n",
        "def multi_table(a):\n",
        "    for i in range(1, 11):\n",
        "        print('{0} x {1} = {2}'.format(a, i, a*i))\n",
        "\n",
        "a = 5\n",
        "multi_table(float(a))"
      ],
      "execution_count": null,
      "outputs": [
        {
          "output_type": "stream",
          "text": [
            "5.0 x 1 = 5.0\n",
            "5.0 x 2 = 10.0\n",
            "5.0 x 3 = 15.0\n",
            "5.0 x 4 = 20.0\n",
            "5.0 x 5 = 25.0\n",
            "5.0 x 6 = 30.0\n",
            "5.0 x 7 = 35.0\n",
            "5.0 x 8 = 40.0\n",
            "5.0 x 9 = 45.0\n",
            "5.0 x 10 = 50.0\n"
          ],
          "name": "stdout"
        }
      ]
    },
    {
      "cell_type": "code",
      "metadata": {
        "id": "s0KsvnItU_BA",
        "colab_type": "code",
        "colab": {
          "base_uri": "https://localhost:8080/",
          "height": 67
        },
        "outputId": "56f93b10-ac3a-4c3b-b918-7b91a5596207"
      },
      "source": [
        "print ('{0:.2f}'.format(1.25456))\n",
        "print ('{0:.2f}'.format(1.2555))\n",
        "print ('{0:.2f}'.format(1))"
      ],
      "execution_count": null,
      "outputs": [
        {
          "output_type": "stream",
          "text": [
            "1.25\n",
            "1.26\n",
            "1.00\n"
          ],
          "name": "stdout"
        }
      ]
    },
    {
      "cell_type": "markdown",
      "metadata": {
        "id": "Kwmp7GKge1J1",
        "colab_type": "text"
      },
      "source": [
        "# いまここ"
      ]
    },
    {
      "cell_type": "markdown",
      "metadata": {
        "id": "yMCqOQzZVlZ0",
        "colab_type": "text"
      },
      "source": [
        "# 測定単位変換 converting units of measurement\n",
        "\n",
        "長さ、時間、質量、温度の国際的な測定単位は、メートル、秒、キログラム、およびケルビンと定められている。\n",
        "\n",
        "しかし!!!!\n",
        "\n",
        "例えば音頭は 303.15 ケルビンと言わず、華氏 86 度とか、摂氏 30 度とか言う。比較のためには測定単位を同じにする変換を行わなければならない。\n",
        "\n",
        "まず、長さのインチとマイルの変換のプログラムを作ろう。\n",
        "\n",
        "1 インチは 2.54 センチメートル。100 で割ればメートルになる。\n",
        "\n",
        "例えば 25.5 インチは\n",
        "\n",
        "(25.5 * 2.54) / 100\n",
        "\n",
        "\n"
      ]
    },
    {
      "cell_type": "code",
      "metadata": {
        "id": "zi5hA5mSX0JX",
        "colab_type": "code",
        "colab": {
          "base_uri": "https://localhost:8080/",
          "height": 34
        },
        "outputId": "b672a910-a8d9-4dce-e5d6-777e032d4883"
      },
      "source": [
        "(25.5 * 2.54) / 100"
      ],
      "execution_count": null,
      "outputs": [
        {
          "output_type": "execute_result",
          "data": {
            "text/plain": [
              "0.6476999999999999"
            ]
          },
          "metadata": {
            "tags": []
          },
          "execution_count": 5
        }
      ]
    },
    {
      "cell_type": "markdown",
      "metadata": {
        "id": "aDsrWkX2X34V",
        "colab_type": "text"
      },
      "source": [
        "で、0.6476999999999999 メートルである。\n",
        "\n",
        "1 マイルは 1.609 キロメートルなので、目的地が 650 マイル先ならば\n",
        "\n",
        "650 * 1.609 "
      ]
    },
    {
      "cell_type": "code",
      "metadata": {
        "id": "VF0zjkvaYLib",
        "colab_type": "code",
        "colab": {
          "base_uri": "https://localhost:8080/",
          "height": 34
        },
        "outputId": "4fd040ec-6a8d-42b1-d001-42a7f901ba86"
      },
      "source": [
        "650 * 1.609 "
      ],
      "execution_count": null,
      "outputs": [
        {
          "output_type": "execute_result",
          "data": {
            "text/plain": [
              "1045.85"
            ]
          },
          "metadata": {
            "tags": []
          },
          "execution_count": 6
        }
      ]
    },
    {
      "cell_type": "markdown",
      "metadata": {
        "id": "zEsJKckAYNpL",
        "colab_type": "text"
      },
      "source": [
        "で 1045.85 キロメートルであることがわかる。\n",
        "\n",
        "さて、温度は、次の式で表される。\n",
        "\n",
        "$$\n",
        "C = (F - 32) \\times \\frac{5}{9}\n",
        "$$"
      ]
    },
    {
      "cell_type": "code",
      "metadata": {
        "id": "L0yfwPvpZBSK",
        "colab_type": "code",
        "colab": {
          "base_uri": "https://localhost:8080/",
          "height": 51
        },
        "outputId": "f185bdbf-ab5b-4578-f2e7-d3486347f250"
      },
      "source": [
        "%%latex\n",
        "\\displaystyle\n",
        "\n",
        "C = (F - 32) \\times \\frac{5}{9}"
      ],
      "execution_count": null,
      "outputs": [
        {
          "output_type": "display_data",
          "data": {
            "text/latex": "\\displaystyle\n\nC = (F - 32) \\times \\frac{5}{9}",
            "text/plain": [
              "<IPython.core.display.Latex object>"
            ]
          },
          "metadata": {
            "tags": []
          }
        }
      ]
    },
    {
      "cell_type": "markdown",
      "metadata": {
        "id": "-YVESXHg2LaR",
        "colab_type": "text"
      },
      "source": [
        "ここで `F` は華氏、`C` は摂氏である。  \n",
        "\n",
        "華氏で98.6度はヒトの平均体温と言われるがこれを摂氏では何度か。"
      ]
    },
    {
      "cell_type": "code",
      "metadata": {
        "id": "dqLQSvmKZ0oW",
        "colab_type": "code",
        "colab": {
          "base_uri": "https://localhost:8080/",
          "height": 34
        },
        "outputId": "9c4deff1-ec5d-4a0d-9cf5-8592a0c31012"
      },
      "source": [
        "F = 98.6\n",
        "\n",
        "(F - 32) * 5 / 9"
      ],
      "execution_count": null,
      "outputs": [
        {
          "output_type": "execute_result",
          "data": {
            "text/plain": [
              "37.0"
            ]
          },
          "metadata": {
            "tags": []
          },
          "execution_count": 1
        }
      ]
    },
    {
      "cell_type": "markdown",
      "metadata": {
        "id": "pdJczQY-2pf1",
        "colab_type": "text"
      },
      "source": [
        "まず、変数 `F` を作り98.6度を代入する。\n",
        "\n",
        "次に摂氏に変換する数式を評価する。\n",
        "\n",
        "逆もやってみよう。摂氏から華氏への変換である。"
      ]
    },
    {
      "cell_type": "code",
      "metadata": {
        "id": "sw_Ml0Qv2_fw",
        "colab_type": "code",
        "colab": {
          "base_uri": "https://localhost:8080/",
          "height": 34
        },
        "outputId": "67f02c21-738f-4b39-9910-6d2b42e8624a"
      },
      "source": [
        "C = 37\n",
        "C * (9 / 5) + 32"
      ],
      "execution_count": null,
      "outputs": [
        {
          "output_type": "execute_result",
          "data": {
            "text/plain": [
              "98.60000000000001"
            ]
          },
          "metadata": {
            "tags": []
          },
          "execution_count": 2
        }
      ]
    },
    {
      "cell_type": "markdown",
      "metadata": {
        "id": "dVmn_xsI3HNU",
        "colab_type": "text"
      },
      "source": [
        "単位変換プログラムをつくる。"
      ]
    },
    {
      "cell_type": "code",
      "metadata": {
        "id": "pkdaIR7j3kGo",
        "colab_type": "code",
        "colab": {
          "base_uri": "https://localhost:8080/",
          "height": 50
        },
        "outputId": "cacf7c51-f093-4c1e-940c-df972cf4d215"
      },
      "source": [
        "def km_miles(km):\n",
        "    miles = km / 1.609\n",
        "    return miles\n",
        "\n",
        "def miles_km(miles):\n",
        "    km = miles * 1.609\n",
        "    return km\n",
        "\n",
        "miles = 650\n",
        "print (miles_km(miles))\n",
        "\n",
        "km = 1000\n",
        "print (km_miles(km))"
      ],
      "execution_count": null,
      "outputs": [
        {
          "output_type": "stream",
          "text": [
            "1045.85\n",
            "621.5040397762585\n"
          ],
          "name": "stdout"
        }
      ]
    },
    {
      "cell_type": "markdown",
      "metadata": {
        "id": "LaaLULOh5USi",
        "colab_type": "text"
      },
      "source": [
        "# 二次方程式の根をみつける quadratic equation\n",
        "\n",
        "二次方程式は一般に次の形で表される。"
      ]
    },
    {
      "cell_type": "code",
      "metadata": {
        "id": "z6LwvBMF6Imn",
        "colab_type": "code",
        "colab": {
          "base_uri": "https://localhost:8080/",
          "height": 38
        },
        "outputId": "665c4503-084f-4445-a0b4-8e3d4b1c32ed"
      },
      "source": [
        "%%latex\n",
        "\n",
        "a x^2 + bx + c = 0"
      ],
      "execution_count": null,
      "outputs": [
        {
          "output_type": "display_data",
          "data": {
            "text/latex": "\na x^2 + bx + c = 0",
            "text/plain": [
              "<IPython.core.display.Latex object>"
            ]
          },
          "metadata": {
            "tags": []
          }
        }
      ]
    },
    {
      "cell_type": "markdown",
      "metadata": {
        "id": "ZhfdunLN6jZS",
        "colab_type": "text"
      },
      "source": [
        "二次方程式の根の公式は次のようなものである。"
      ]
    },
    {
      "cell_type": "code",
      "metadata": {
        "id": "RZ5fip9Y6vj_",
        "colab_type": "code",
        "colab": {
          "base_uri": "https://localhost:8080/",
          "height": 56
        },
        "outputId": "a7931306-0ce0-4f34-cdfe-063ddac297bb"
      },
      "source": [
        "%%latex\n",
        "\\displaystyle\n",
        "\n",
        "x = \\frac {- b \\pm \\sqrt{b^2 - 4ac}} {2a}"
      ],
      "execution_count": null,
      "outputs": [
        {
          "output_type": "display_data",
          "data": {
            "text/latex": "\\displaystyle\n\nx_1 = \\frac {- b \\pm \\sqrt{b^2 - 4ac}} {2a}",
            "text/plain": [
              "<IPython.core.display.Latex object>"
            ]
          },
          "metadata": {
            "tags": []
          }
        }
      ]
    },
    {
      "cell_type": "markdown",
      "metadata": {
        "id": "RCFVs3m87MF5",
        "colab_type": "text"
      },
      "source": [
        "二次方程式は一般に2個の根を持つ。どちらの解も元の二次方程式を満足させる。\n",
        "\n",
        "2つの根が同一の場合もある。\n",
        "\n",
        "定数部分、`a`、`b`、`c`を引数として解を計算するプログラムを作る。\n"
      ]
    },
    {
      "cell_type": "code",
      "metadata": {
        "id": "pnNx_lc18w6a",
        "colab_type": "code",
        "colab": {
          "base_uri": "https://localhost:8080/",
          "height": 50
        },
        "outputId": "e93bc92f-50f5-4e77-ff79-c6a8b83525d6"
      },
      "source": [
        "def roots(a, b, c):\n",
        "    '''Quadratic equation root calculator\n",
        "    '''\n",
        "    D = (b*b - 4*a*c)**0.5\n",
        "    x_1 = (-b + D) / (2 * a)\n",
        "    x_2 = (-b - D) / (2 * a)\n",
        "\n",
        "    return (x_1, x_2)\n",
        "\n",
        "a, b, c = 1, 2, 1\n",
        "\n",
        "solvedroot = roots(a, b, c)\n",
        "\n",
        "print ('x1: {}'.format(solvedroot[0]))\n",
        "print ('x2: {}'.format(solvedroot[1]))\n"
      ],
      "execution_count": null,
      "outputs": [
        {
          "output_type": "stream",
          "text": [
            "x1: -1.0\n",
            "x2: -1.0\n"
          ],
          "name": "stdout"
        }
      ]
    },
    {
      "cell_type": "markdown",
      "metadata": {
        "id": "7BiU9nPS-6La",
        "colab_type": "text"
      },
      "source": [
        "複素数 `complex number` が根となる場合がある。\n",
        "</br></br>\n",
        "$$\n",
        "x^2 + x + 1 = 0\n",
        "$$\n",
        "\n",
        "の場合でやってみる。\n"
      ]
    },
    {
      "cell_type": "code",
      "metadata": {
        "id": "ONidVnbh-bG9",
        "colab_type": "code",
        "colab": {
          "base_uri": "https://localhost:8080/",
          "height": 50
        },
        "outputId": "6e4e840f-ce22-48eb-8470-f81d1e84c58c"
      },
      "source": [
        "a, b, c = 1, 1, 1\n",
        "\n",
        "solvedroot = roots(a, b, c)\n",
        "\n",
        "print ('x1: {}'.format(solvedroot[0]))\n",
        "print ('x2: {}'.format(solvedroot[1]))"
      ],
      "execution_count": null,
      "outputs": [
        {
          "output_type": "stream",
          "text": [
            "x1: (-0.49999999999999994+0.8660254037844386j)\n",
            "x2: (-0.5-0.8660254037844386j)\n"
          ],
          "name": "stdout"
        }
      ]
    },
    {
      "cell_type": "markdown",
      "metadata": {
        "id": "gZ2NE_dv_JiB",
        "colab_type": "text"
      },
      "source": [
        "### 問題 1. even_odd \n",
        "\n",
        "与えられた数が偶数か奇数かと、それぞれの場合について、続く9つの偶数または奇数の数列を返す。\n",
        "\n",
        "input: 2\n",
        "output: even 2 4 6 8 10 12 14 16 18 20\n",
        "\n",
        "input: 1\n",
        "output: odd 1 3 5 7 9 11 13 15 17 19\n",
        "\n",
        "浮動小数点数の場合、is_integer() メソッドでエラーメッセージを出すこと。"
      ]
    },
    {
      "cell_type": "code",
      "metadata": {
        "id": "DwIhpwBOBGmR",
        "colab_type": "code",
        "colab": {
          "base_uri": "https://localhost:8080/",
          "height": 134
        },
        "outputId": "8d590a1e-1bf7-4115-9bc0-2e225fba5650"
      },
      "source": [
        "def even_odd_vending (num):\n",
        "    if (num % 2) == 0:\n",
        "        return ['even'] + [(x+num) for x in range(0,20,2)]\n",
        "    else :\n",
        "        return ['odd']  + [(x+num) for x in range(0,20,2)]\n",
        "\n",
        "\n",
        "def even_odd(num):\n",
        "    try:\n",
        "        if float(num).is_integer():\n",
        "            return (even_odd_vending(int(num)))\n",
        "        else:\n",
        "            return \"eerrroor\"\n",
        "    except ValueError:\n",
        "        return ('num is invalid')\n",
        "\n",
        "print(even_odd_vending(2))\n",
        "print(even_odd_vending(1))\n",
        "\n",
        "print (even_odd(1))\n",
        "print (even_odd(2))\n",
        "print (even_odd(2.5))\n",
        "print (even_odd(2.0))\n",
        "print (even_odd(\"two\"))\n"
      ],
      "execution_count": null,
      "outputs": [
        {
          "output_type": "stream",
          "text": [
            "['even', 2, 4, 6, 8, 10, 12, 14, 16, 18, 20]\n",
            "['odd', 1, 3, 5, 7, 9, 11, 13, 15, 17, 19]\n",
            "['odd', 1, 3, 5, 7, 9, 11, 13, 15, 17, 19]\n",
            "['even', 2, 4, 6, 8, 10, 12, 14, 16, 18, 20]\n",
            "eerrroor\n",
            "['even', 2, 4, 6, 8, 10, 12, 14, 16, 18, 20]\n",
            "num is invalid\n"
          ],
          "name": "stdout"
        }
      ]
    },
    {
      "cell_type": "markdown",
      "metadata": {
        "id": "5K3BkCU-NsGQ",
        "colab_type": "text"
      },
      "source": [
        "### 問題 2. 掛け算表の拡張\n",
        "\n",
        "掛け算表を拡張して、2つの引数をとり、最初の数 * 0,1, ..., 次の引数までの表とする。"
      ]
    },
    {
      "cell_type": "code",
      "metadata": {
        "colab_type": "code",
        "id": "wJjE9baHO7B2",
        "colab": {
          "base_uri": "https://localhost:8080/",
          "height": 269
        },
        "outputId": "8cffa936-60ce-4da0-dafa-a829e97b8524"
      },
      "source": [
        "# enhanced multiplication table printer \n",
        "def multi_table(a, b):\n",
        "    for i in range(1, b+1):\n",
        "        print('{0} x {1} = {2}'.format(a, i, a*i))\n",
        "\n",
        "a = 5\n",
        "b = 15\n",
        "multi_table(a, b)"
      ],
      "execution_count": null,
      "outputs": [
        {
          "output_type": "stream",
          "text": [
            "5 x 1 = 5\n",
            "5 x 2 = 10\n",
            "5 x 3 = 15\n",
            "5 x 4 = 20\n",
            "5 x 5 = 25\n",
            "5 x 6 = 30\n",
            "5 x 7 = 35\n",
            "5 x 8 = 40\n",
            "5 x 9 = 45\n",
            "5 x 10 = 50\n",
            "5 x 11 = 55\n",
            "5 x 12 = 60\n",
            "5 x 13 = 65\n",
            "5 x 14 = 70\n",
            "5 x 15 = 75\n"
          ],
          "name": "stdout"
        }
      ]
    },
    {
      "cell_type": "markdown",
      "metadata": {
        "id": "iUj8gkElPgHx",
        "colab_type": "text"
      },
      "source": [
        "### 問題 3. キログラムとポンドの重量単位変換プログラム\n",
        "\n",
        "1 ポンドは 0.453592キログラム\n",
        " "
      ]
    },
    {
      "cell_type": "code",
      "metadata": {
        "id": "AlWO745KQCN1",
        "colab_type": "code",
        "colab": {
          "base_uri": "https://localhost:8080/",
          "height": 50
        },
        "outputId": "49385789-1d52-4d8f-9cfd-03fa8b8a7a12"
      },
      "source": [
        "def pound_kg(pound) :\n",
        "    return pound * 0.453592\n",
        "\n",
        "def kg_pound(kg):\n",
        "    return kg / 0.453592\n",
        "\n",
        "print (pound_kg(1))\n",
        "print (f\"{kg_pound(1):.7}\")"
      ],
      "execution_count": null,
      "outputs": [
        {
          "output_type": "stream",
          "text": [
            "0.453592\n",
            "2.204624\n"
          ],
          "name": "stdout"
        }
      ]
    },
    {
      "cell_type": "markdown",
      "metadata": {
        "id": "b1S30FviQ_Is",
        "colab_type": "text"
      },
      "source": [
        "### 問題 4. 分数計算機"
      ]
    },
    {
      "cell_type": "code",
      "metadata": {
        "id": "vNbxtst7Rgfw",
        "colab_type": "code",
        "colab": {
          "base_uri": "https://localhost:8080/",
          "height": 34
        },
        "outputId": "b83be764-85d0-475d-9fa7-e821211faa03"
      },
      "source": [
        "from fractions import Fraction\n",
        "Fraction (3, 4) + Fraction(2, 3)"
      ],
      "execution_count": null,
      "outputs": [
        {
          "output_type": "execute_result",
          "data": {
            "text/plain": [
              "Fraction(17, 12)"
            ]
          },
          "metadata": {
            "tags": []
          },
          "execution_count": 70
        }
      ]
    },
    {
      "cell_type": "code",
      "metadata": {
        "id": "JKqwXEvYSVwf",
        "colab_type": "code",
        "colab": {
          "base_uri": "https://localhost:8080/",
          "height": 101
        },
        "outputId": "ebcc03ac-cabe-4ed4-baa4-7b459e8d1e71"
      },
      "source": [
        "print (Fraction(8,2))\n",
        "print (Fraction (3, 4) + Fraction(2, 3))\n",
        "print (Fraction (3, 4) - Fraction(2, 3))\n",
        "print (Fraction (3, 4) * Fraction(2, 3))\n",
        "print (Fraction (3, 4) / Fraction(2, 3))"
      ],
      "execution_count": null,
      "outputs": [
        {
          "output_type": "stream",
          "text": [
            "4\n",
            "17/12\n",
            "1/12\n",
            "1/2\n",
            "9/8\n"
          ],
          "name": "stdout"
        }
      ]
    },
    {
      "cell_type": "markdown",
      "metadata": {
        "id": "0BdBEwZtS6pw",
        "colab_type": "text"
      },
      "source": [
        "# グラフでのデータの視覚化\n",
        "\n",
        "* 数直線とデカルト平面\n",
        "* プロットライブラリmatplotlib\n",
        "* グラフ\n",
        "* ニュートンの重力法則と発射体軌跡\n",
        "\n",
        "を学ぶ。\n"
      ]
    },
    {
      "cell_type": "markdown",
      "metadata": {
        "id": "9DbS4cH3YOcs",
        "colab_type": "text"
      },
      "source": [
        "### 数直線\n",
        "\n",
        "数直線をmatplotlibで描きたい。\n"
      ]
    },
    {
      "cell_type": "code",
      "metadata": {
        "id": "-R9LURfzjHVM",
        "colab_type": "code",
        "colab": {
          "base_uri": "https://localhost:8080/",
          "height": 140
        },
        "outputId": "a021e31c-786d-4ebc-c1cc-bb0f3283e525"
      },
      "source": [
        "import matplotlib.pyplot as plt\n",
        "import numpy as np\n",
        "\n",
        "fig = plt.figure(figsize=(12,2))\n",
        "ax = fig.add_subplot(xlim=(-4,4), ylim=(0, 1.0))\n",
        "\n",
        "# blue arrow\n",
        "ax.arrow(-3.5, 0.5, 7, 0.0, head_width=0.1, head_length=0.15, linewidth=4, color='b', length_includes_head=True)\n",
        "ax.arrow(3.5, 0.5, -7, 0, head_width=0.1, head_length=0.15, linewidth=4, color='b', length_includes_head=True)\n",
        "\n",
        "x = [-3, -2, -1, 0, 1, 2, 3]\n",
        "y = [0.5, 0.5, 0.5, 0.5, 0.5, 0.5, 0.5]\n",
        "data_name = [\"-3\", \"-2\", \"-1\", \"0\", \"1\", \"2\", \"3\"]\n",
        "ax.plot(x, y, 'r|', ms=\"40\")\n",
        "\n",
        "xy = zip (x, y)\n",
        "xy_name = zip (xy, data_name)\n",
        "for (i, name) in zip (xy, data_name) :\n",
        "    ax.annotate(name,i, xycoords='data', xytext=(-7,-40), textcoords='offset points', fontsize=20)\n",
        "# for (i, j, name) in zip (x, y, data_name) :\n",
        "#     plt.text(i, j, name, fontsize=15, position=(i-0.05, j-0.2))\n",
        "\n",
        "ax.set_axis_off()\n",
        "plt.show()"
      ],
      "execution_count": null,
      "outputs": [
        {
          "output_type": "display_data",
          "data": {
            "image/png": "[encoded data removed]",
            "text/plain": [
              "<Figure size 864x144 with 1 Axes>"
            ]
          },
          "metadata": {
            "tags": [],
            "needs_background": "light"
          }
        }
      ]
    },
    {
      "cell_type": "markdown",
      "metadata": {
        "id": "NFBrm3giYW20",
        "colab_type": "text"
      },
      "source": [
        "# デカルト平面を理解する\n",
        "\n",
        "数直線は直感的にいくつかの性質を表している。たとえば、ゼロの右側はすべて正で、左側は負であること。数字 $a$ が数字 $b$ の右側にあればかならず $a$ が $b$ より大きく、$b$ は $a$ より小さい。両端の矢印は数直線が永遠に続き、線上のすべての点はどこまで行っても実数を表している。数字は1つで線上の1点に対応する。\n",
        "\n",
        "次の図では数直線がそれぞれの 0点で交差している。これをデカルト平面もしくはx-y平面と呼び、水平の数直線をx軸、垂直の数直線をy軸と呼ぶ。"
      ]
    },
    {
      "cell_type": "markdown",
      "metadata": {
        "id": "p1T20lMwkBi1",
        "colab_type": "text"
      },
      "source": [
        "デカルト平面では1つの数値ではなく、2つの数値で点を表す。\n",
        "記述します。図の点Aを2つの数値x、yで表し、（x、y）と書き、点の座標 `coordinates`と呼ぶ。"
      ]
    },
    {
      "cell_type": "code",
      "metadata": {
        "id": "bLvIfDyMeZ2f",
        "colab_type": "code",
        "colab": {
          "base_uri": "https://localhost:8080/",
          "height": 357
        },
        "outputId": "95e38d4c-f7a7-413e-cb5d-15629e63aef4"
      },
      "source": [
        "import matplotlib.pyplot as plt\n",
        "import numpy as np\n",
        "\n",
        "fig = plt.figure(figsize=(6,6))\n",
        "ax = fig.add_subplot(xlim=(-4,4), ylim=(-4, 4))\n",
        "\n",
        "# arrows\n",
        "ax.arrow(-3.5, 0.0, 7, 0.0, head_width=0.1, head_length=0.15, linewidth=4, color='b', length_includes_head=True)\n",
        "ax.arrow(3.5, 0.0, -7, 0, head_width=0.1, head_length=0.15, linewidth=4, color='b', length_includes_head=True)\n",
        "ax.arrow(0.0, -3.5, 0.0, 7.0, head_width=0.1, head_length=0.15, linewidth=4, color='b', length_includes_head=True)\n",
        "ax.arrow(0.0, 3.5, 0.0, -7.0, head_width=0.1, head_length=0.15, linewidth=4, color='b', length_includes_head=True)\n",
        "\n",
        "x1 = [-3, -2, -1, 1, 2, 3]\n",
        "y1 = [0.0, 0.0, 0.0, 0.0, 0.0, 0.0]\n",
        "data_name = [\"-3\", \"-2\", \"-1\", \"1\", \"2\", \"3\"]\n",
        "ax.plot(x1, y1, 'r|', ms=\"20\")\n",
        "\n",
        "x2 = [0,0,0,0,0,0]\n",
        "y2 = [-3,-2,-1,1,2,3]\n",
        "ax.plot(x2, y2, 'r_', ms=\"20\")\n",
        "ax.plot(2,2,\"ro\")\n",
        "ax.plot(0,0,\"ro\")\n",
        "\n",
        "for (i, j, name) in zip (x1, y1, data_name) :\n",
        "    ax.text(i, j, name, fontsize=15, position=(i-0.1, j-0.6))\n",
        "for (i, j, name) in zip (x2, y2, data_name) :\n",
        "    ax.text(i, j, name, fontsize=15, position=(i-0.5, j - 0.1))\n",
        "ax.annotate(\"Origin\",xy=(-0.2,0.2), xytext=(-2,2), ha='center', fontsize=15, arrowprops={'arrowstyle':'->'})\n",
        "ax.annotate(\"\",xy=(2,0), xytext=(2,2), arrowprops={'arrowstyle':'<->', 'ls':'dashed'})\n",
        "ax.annotate(\"\",xy=(0,2), xytext=(2,2), arrowprops={'arrowstyle':'<->', 'ls':'dashed'})\n",
        "ax.text(3.8,-0.2,\"$x$\",fontsize=15)\n",
        "ax.text(0.3,3.5,\"$y$\",fontsize=15)\n",
        "ax.text(2.2,2.0,\"$A (x, y)$\", fontsize=15)\n",
        "ax.set_axis_off()\n",
        "plt.show()\n"
      ],
      "execution_count": null,
      "outputs": [
        {
          "output_type": "display_data",
          "data": {
            "image/png": "[encoded data removed]",
            "text/plain": [
              "<Figure size 432x432 with 1 Axes>"
            ]
          },
          "metadata": {
            "tags": [],
            "needs_background": "light"
          }
        }
      ]
    },
    {
      "cell_type": "markdown",
      "metadata": {
        "id": "98FwM9_1kyow",
        "colab_type": "text"
      },
      "source": [
        "### リストとタプル\n",
        "\n",
        "Pythonでリストとタプルはリストがイミュータブルでなく、変えられるのに対し、タプルはイミュータブルで変えられない、という違いがある。\n",
        "\n",
        "このテキストではx座標、y座標を表すのにリストを使う。タプルはグラフの`range`をカスタマイズする際に登場する。\n",
        "\n",
        "リストは鈎括弧`brackets`で作ることができる。要素はカンマで区切る。\n",
        "\n",
        "要素はインデクスでアクセスする。インデクスは0ベースである。\n",
        "\n"
      ]
    },
    {
      "cell_type": "code",
      "metadata": {
        "id": "6hdLTmZAl1Q-",
        "colab_type": "code",
        "colab": {
          "base_uri": "https://localhost:8080/",
          "height": 84
        },
        "outputId": "f7bcfcfc-5235-44af-d607-cd3c4cb60d5b"
      },
      "source": [
        "simplelist = [1, 2, 3]\n",
        "print (simplelist)\n",
        "print (simplelist[0])\n",
        "print (simplelist[1])\n",
        "print (simplelist[2])"
      ],
      "execution_count": null,
      "outputs": [
        {
          "output_type": "stream",
          "text": [
            "[1, 2, 3]\n",
            "1\n",
            "2\n",
            "3\n"
          ],
          "name": "stdout"
        }
      ]
    },
    {
      "cell_type": "code",
      "metadata": {
        "id": "qFs997ovmWQR",
        "colab_type": "code",
        "colab": {
          "base_uri": "https://localhost:8080/",
          "height": 50
        },
        "outputId": "58e59a67-b35c-442c-bc5a-526f4e24bd3c"
      },
      "source": [
        "stringlist = ['a string','b string','c string']\n",
        "emptylist = []\n",
        "print (stringlist[1])\n",
        "print (emptylist)"
      ],
      "execution_count": null,
      "outputs": [
        {
          "output_type": "stream",
          "text": [
            "b string\n",
            "[]\n"
          ],
          "name": "stdout"
        }
      ]
    },
    {
      "cell_type": "code",
      "metadata": {
        "id": "Vh-ZuCgUmrNi",
        "colab_type": "code",
        "colab": {
          "base_uri": "https://localhost:8080/",
          "height": 34
        },
        "outputId": "3680871f-1a00-4711-de0d-56c945c0efc7"
      },
      "source": [
        "emptylist = []\n",
        "emptylist.append(1)\n",
        "emptylist.append(\"two\")\n",
        "emptylist = emptylist + [3, 4]\n",
        "print (emptylist)"
      ],
      "execution_count": null,
      "outputs": [
        {
          "output_type": "stream",
          "text": [
            "[1, 'two', 3, 4]\n"
          ],
          "name": "stdout"
        }
      ]
    },
    {
      "cell_type": "markdown",
      "metadata": {
        "id": "Li36Lyc_SEVD",
        "colab_type": "text"
      },
      "source": [
        "タプルはカッコ `()` を使って作る。"
      ]
    },
    {
      "cell_type": "code",
      "metadata": {
        "id": "2jMK8rtPSI8k",
        "colab_type": "code",
        "colab": {
          "base_uri": "https://localhost:8080/",
          "height": 67
        },
        "outputId": "da145519-5b95-42d1-aabc-63c83e15a2eb"
      },
      "source": [
        "simpletuple = (1,2,3)\n",
        "print(simpletuple[0])\n",
        "print(simpletuple[1])\n",
        "print(simpletuple[2])"
      ],
      "execution_count": null,
      "outputs": [
        {
          "output_type": "stream",
          "text": [
            "1\n",
            "2\n",
            "3\n"
          ],
          "name": "stdout"
        }
      ]
    },
    {
      "cell_type": "code",
      "metadata": {
        "id": "FoYIvgqOSnuQ",
        "colab_type": "code",
        "colab": {
          "base_uri": "https://localhost:8080/",
          "height": 50
        },
        "outputId": "d6babfe1-765d-4850-f41b-0b7354cfb6a5"
      },
      "source": [
        "emptylist = []\n",
        "simpletuple = (1,2,3)\n",
        "print(simpletuple[-1]) # => 3\n",
        "# print(empltylist[-1]) => error!!!!\n",
        "# print (type(emptylist[-1])) => this is error too\n",
        "print (bool(emptylist)) # => false\n"
      ],
      "execution_count": null,
      "outputs": [
        {
          "output_type": "stream",
          "text": [
            "3\n",
            "False\n"
          ],
          "name": "stdout"
        }
      ]
    },
    {
      "cell_type": "markdown",
      "metadata": {
        "id": "_HJC4CFJTYWO",
        "colab_type": "text"
      },
      "source": [
        "# iterating"
      ]
    },
    {
      "cell_type": "code",
      "metadata": {
        "id": "LIk-nZpcTaqo",
        "colab_type": "code",
        "colab": {
          "base_uri": "https://localhost:8080/",
          "height": 67
        },
        "outputId": "1f876cd7-1c6a-443a-9f07-30793cfea1e2"
      },
      "source": [
        "l = [1,2,3]\n",
        "for item in l :\n",
        "    print(item)"
      ],
      "execution_count": null,
      "outputs": [
        {
          "output_type": "stream",
          "text": [
            "1\n",
            "2\n",
            "3\n"
          ],
          "name": "stdout"
        }
      ]
    },
    {
      "cell_type": "code",
      "metadata": {
        "id": "cfDaw695T0Ct",
        "colab_type": "code",
        "colab": {
          "base_uri": "https://localhost:8080/",
          "height": 67
        },
        "outputId": "40a9a401-b532-40a5-d3b2-22bc69a83ac7"
      },
      "source": [
        "l = [\"one\", \"two\", \"three\"]\n",
        "for index, item in enumerate(l) :\n",
        "    print(index, item)"
      ],
      "execution_count": null,
      "outputs": [
        {
          "output_type": "stream",
          "text": [
            "0 one\n",
            "1 two\n",
            "2 three\n"
          ],
          "name": "stdout"
        }
      ]
    },
    {
      "cell_type": "code",
      "metadata": {
        "id": "gGa9iaNyzOeo",
        "colab_type": "code",
        "colab": {
          "base_uri": "https://localhost:8080/",
          "height": 265
        },
        "outputId": "3db0abeb-47d9-4876-ba26-cd5af55ac4e1"
      },
      "source": [
        "import matplotlib.pyplot as plt\n",
        "import numpy as np\n",
        "\n",
        "x_numbers = [1,2,3]\n",
        "y_numbers = [2,4,6]\n",
        "fig = plt.figure()\n",
        "ax = fig.add_subplot()\n",
        "\n",
        "ax.plot(x_numbers, y_numbers, 'bo-')\n",
        "# ax.plot(x_numbers, y_numbers, marker='o')\n",
        "plt.show()"
      ],
      "execution_count": null,
      "outputs": [
        {
          "output_type": "display_data",
          "data": {
            "image/png": "[encoded data removed]",
            "text/plain": [
              "<Figure size 432x288 with 1 Axes>"
            ]
          },
          "metadata": {
            "tags": [],
            "needs_background": "light"
          }
        }
      ]
    },
    {
      "cell_type": "markdown",
      "metadata": {
        "id": "6Lvyf4Cs3pau",
        "colab_type": "text"
      },
      "source": [
        "# p.33"
      ]
    }
  ]
}