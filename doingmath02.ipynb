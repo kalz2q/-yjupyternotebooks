{
  "nbformat": 4,
  "nbformat_minor": 0,
  "metadata": {
    "colab": {
      "name": "doingmath02.ipynb",
      "provenance": [],
      "toc_visible": true,
      "authorship_tag": "ABX9TyOtM1lLXE4cmXOtOYXT6Mzr",
      "include_colab_link": true
    },
    "kernelspec": {
      "name": "python3",
      "display_name": "Python 3"
    }
  },
  "cells": [
    {
      "cell_type": "markdown",
      "metadata": {
        "id": "view-in-github",
        "colab_type": "text"
      },
      "source": [
        "<a href=\"https://colab.research.google.com/github/kalz2q/mycolabnotebooks/blob/master/doingmath02.ipynb\" target=\"_parent\"><img src=\"https://colab.research.google.com/assets/colab-badge.svg\" alt=\"Open In Colab\"/></a>"
      ]
    },
    {
      "cell_type": "markdown",
      "metadata": {
        "id": "sZlEQ3O57tFT",
        "colab_type": "text"
      },
      "source": [
        "# メモ\n",
        "\n",
        "> Doing Math with Python: Use Programming to Explore Algebra, Statistics, Calculus, and More!  \n",
        "> Amit Saha\n",
        "\n",
        "を `Colab` でなぞりながら読む。\n",
        "\n",
        "というプロジェクトの p. 149 あたり、Chapter 6 以降がこのファイルである。\n",
        "\n",
        "6章 図形とフラクタル Drawing Geometric Shapes and Fractals  \n",
        "7章 微積分 Solving Calculus Problems\n",
        "\n",
        "の予定。"
      ]
    },
    {
      "cell_type": "markdown",
      "metadata": {
        "id": "5HhXNKGX8e_Q",
        "colab_type": "text"
      },
      "source": [
        "# 円を描く\n",
        "\n",
        "最初に円を描く、として次のような例が載っている。 いままでの matplotlib の使い方とだいぶ違うので学び直し、位置付け、が必要な気がする。"
      ]
    },
    {
      "cell_type": "code",
      "metadata": {
        "id": "fjaLxi5ZnQe3",
        "colab_type": "code",
        "colab": {
          "base_uri": "https://localhost:8080/",
          "height": 265
        },
        "outputId": "5d144782-d56a-4c2b-e5ff-f7646431d18e"
      },
      "source": [
        "import matplotlib.pyplot as plt\n",
        "\n",
        "\n",
        "def create_circle():\n",
        "    circle = plt.Circle((0, 0), radius=0.5)\n",
        "    return circle\n",
        "\n",
        "\n",
        "def show_shape(patch):\n",
        "    ax = plt.gca()\n",
        "    ax.add_patch(patch)\n",
        "    plt.axis('scaled')\n",
        "    plt.show()\n",
        "\n",
        "\n",
        "c = create_circle()\n",
        "show_shape(c)\n"
      ],
      "execution_count": null,
      "outputs": [
        {
          "output_type": "display_data",
          "data": {
            "image/png": "[encoded data removed]",
            "text/plain": [
              "<Figure size 432x288 with 1 Axes>"
            ]
          },
          "metadata": {
            "tags": [],
            "needs_background": "light"
          }
        }
      ]
    },
    {
      "cell_type": "markdown",
      "metadata": {
        "id": "3eYgKF02n-p6",
        "colab_type": "text"
      },
      "source": [
        "def を外して実験してみよう。"
      ]
    },
    {
      "cell_type": "code",
      "metadata": {
        "id": "FDbZFtIqoDSk",
        "colab_type": "code",
        "colab": {
          "base_uri": "https://localhost:8080/",
          "height": 265
        },
        "outputId": "58bcb4e2-8ac1-426e-8e1f-a424a325c188"
      },
      "source": [
        "import matplotlib.pyplot as plt\n",
        "\n",
        "# ax = plt.gca()\n",
        "fig = plt.figure()\n",
        "ax = fig.add_subplot()\n",
        "\n",
        "c = plt.Circle((0,0), radius=0.5)\n",
        "\n",
        "ax.add_patch(c)\n",
        "ax.plot([1,2,3],[4,5,6])\n",
        "plt.axis('scaled')\n",
        "plt.show()"
      ],
      "execution_count": null,
      "outputs": [
        {
          "output_type": "display_data",
          "data": {
            "image/png": "[encoded data removed]",
            "text/plain": [
              "<Figure size 432x288 with 1 Axes>"
            ]
          },
          "metadata": {
            "tags": [],
            "needs_background": "light"
          }
        }
      ]
    },
    {
      "cell_type": "markdown",
      "metadata": {
        "id": "_1mMn38uskQa",
        "colab_type": "text"
      },
      "source": [
        "基本的に普通の pyplot で Circle とかの命令で図を描いて、add_patch で 追加して、plt.show すればいいみたい。\n",
        "\n",
        "\n",
        "縦横比がおかしかったら\n",
        "\n",
        "ax.set_aspect('equal')\n",
        "\n",
        "とする、とのこと。\n",
        "\n",
        "縁の色 edge color と塗りつぶしの色 face color (fill color) は fc='g'、 ec='r' のように指定する。 円以外にも楕円 Ellipse、多角形 Polygon、四辺形 Rectangle、などの patch がある。\n",
        "\n",
        "\n",
        "\n"
      ]
    },
    {
      "cell_type": "markdown",
      "metadata": {
        "id": "0Jx3t4JKr72Y",
        "colab_type": "text"
      },
      "source": [
        "# アニメーション"
      ]
    },
    {
      "cell_type": "code",
      "metadata": {
        "id": "Qzvm-cdur7XN",
        "colab_type": "code",
        "colab": {
          "base_uri": "https://localhost:8080/",
          "height": 281
        },
        "outputId": "d136647f-8199-4c87-c0c7-ccac5bee6285"
      },
      "source": [
        "import matplotlib.pyplot as plt\n",
        "from matplotlib import animation\n",
        "\n",
        "def create_circle():\n",
        "    circle = plt.Circle((0, 0), radius=0.5)\n",
        "    return circle\n",
        "\n",
        "def update_radius(i, circle):\n",
        "    circle.radius = i * 0.5\n",
        "    return circle,\n",
        "\n",
        "def create_animation():\n",
        "    fig = plt.gcf()\n",
        "    ax = plt.axes(xlim=(-10, 10), ylim=(-10, 10))\n",
        "    ax.set_aspect('equal')\n",
        "    circle = create_circle()\n",
        "    ax.add_patch(circle)\n",
        "    anim = animation.FuncAnimation(fig, update_radius, fargs=(circle,), frames=30, interval=50)\n",
        "    plt.title('Simple Circle Animation')\n",
        "    plt.show()\n",
        "\n",
        "create_animation()\n",
        "\n"
      ],
      "execution_count": null,
      "outputs": [
        {
          "output_type": "display_data",
          "data": {
            "image/png": "[encoded data removed]",
            "text/plain": [
              "<Figure size 432x288 with 1 Axes>"
            ]
          },
          "metadata": {
            "tags": [],
            "needs_background": "light"
          }
        }
      ]
    },
    {
      "cell_type": "markdown",
      "metadata": {
        "id": "1d3Q3m6LCAVh",
        "colab_type": "text"
      },
      "source": [
        "上の例がとりあえず動かないというか表示されないので、ネットで成功したという例をコピペする。"
      ]
    },
    {
      "cell_type": "code",
      "metadata": {
        "id": "pkhyeRgLCHnP",
        "colab_type": "code",
        "colab": {
          "base_uri": "https://localhost:8080/",
          "height": 560
        },
        "outputId": "290a2de6-7de9-4789-bba8-2a1c4d983899"
      },
      "source": [
        "import numpy as np\n",
        "import matplotlib.pyplot as plt\n",
        "from matplotlib.animation import FuncAnimation\n",
        "from IPython.display import HTML\n",
        "\n",
        "fig, ax = plt.subplots()\n",
        "xdata, ydata = [], []\n",
        "ln, = plt.plot([], [], 'ro')\n",
        "\n",
        "def init():\n",
        "    ax.set_xlim(0, 2 * np.pi)\n",
        "    ax.set_ylim(-1, 1)\n",
        "    return ln,\n",
        "\n",
        "def update(frame):\n",
        "    xdata.append(frame)\n",
        "    ydata.append(np.sin(frame))\n",
        "    ln.set_data(xdata, ydata)\n",
        "    return ln,\n",
        "\n",
        "ani = FuncAnimation(fig, update, frames=np.linspace(0, 2 * np.pi, 128),\n",
        "                    init_func=init, blit=True, interval=50)\n",
        "\n",
        "# HTML(ani.to_jshtml())\n",
        "HTML(ani.to_html5_video())  # またはこちら"
      ],
      "execution_count": 13,
      "outputs": [
        {
          "output_type": "execute_result",
          "data": {
            "text/html": [
              "<video width=\"432\" height=\"288\" controls autoplay loop>\n",
              "  <source type=\"video/mp4\" src=\"data:video/mp4;base64,AAAAHGZ0eXBNNFYgAAACAGlzb21pc28yYXZjMQAAAAhmcmVlAAAtNm1kYXQAAAKuBgX//6rcRem9\n",
              "5tlIt5Ys2CDZI+7veDI2NCAtIGNvcmUgMTUyIHIyODU0IGU5YTU5MDMgLSBILjI2NC9NUEVHLTQg\n",
              "QVZDIGNvZGVjIC0gQ29weWxlZnQgMjAwMy0yMDE3IC0gaHR0cDovL3d3dy52aWRlb2xhbi5vcmcv\n",
              "eDI2NC5odG1sIC0gb3B0aW9uczogY2FiYWM9MSByZWY9MyBkZWJsb2NrPTE6MDowIGFuYWx5c2U9\n",
              "MHgzOjB4MTEzIG1lPWhleCBzdWJtZT03IHBzeT0xIHBzeV9yZD0xLjAwOjAuMDAgbWl4ZWRfcmVm\n",
              "PTEgbWVfcmFuZ2U9MTYgY2hyb21hX21lPTEgdHJlbGxpcz0xIDh4OGRjdD0xIGNxbT0wIGRlYWR6\n",
              "b25lPTIxLDExIGZhc3RfcHNraXA9MSBjaHJvbWFfcXBfb2Zmc2V0PS0yIHRocmVhZHM9MyBsb29r\n",
              "YWhlYWRfdGhyZWFkcz0xIHNsaWNlZF90aHJlYWRzPTAgbnI9MCBkZWNpbWF0ZT0xIGludGVybGFj\n",
              "ZWQ9MCBibHVyYXlfY29tcGF0PTAgY29uc3RyYWluZWRfaW50cmE9MCBiZnJhbWVzPTMgYl9weXJh\n",
              "bWlkPTIgYl9hZGFwdD0xIGJfYmlhcz0wIGRpcmVjdD0xIHdlaWdodGI9MSBvcGVuX2dvcD0wIHdl\n",
              "aWdodHA9MiBrZXlpbnQ9MjUwIGtleWludF9taW49MjAgc2NlbmVjdXQ9NDAgaW50cmFfcmVmcmVz\n",
              "aD0wIHJjX2xvb2thaGVhZD00MCByYz1jcmYgbWJ0cmVlPTEgY3JmPTIzLjAgcWNvbXA9MC42MCBx\n",
              "cG1pbj0wIHFwbWF4PTY5IHFwc3RlcD00IGlwX3JhdGlvPTEuNDAgYXE9MToxLjAwAIAAAAphZYiE\n",
              "ADf//vbw/gU2O5jQlxHN6J0zH78VuLo0N73OAAADAAA4Px4LsX6gjMMGIJEX09L7TaZ/+ef1ZwWk\n",
              "V+C/eSHy/YrA+UqQAnVR/I+ayUauyIT4vf4quuf7BrqKtd42okEoad7YZsfCh1+BObM7A94HWgAA\n",
              "AwAbM6hz3hZdt0FIAtxFuON74Md+P2mWQWT7gEBrfWZeiEJZN0j7v0nl/ddraIhw7OxMr4F4WkrF\n",
              "BAr2/ZtsngGrNRQG0KVEvjIptUuD5RcaD/QIth7g0efX8AIHFe3JXyhgU1pKhN+t380x9w1NP1r8\n",
              "XEok0DNV4r+ESl7aa1uchoiJkjHyvIwzgrNeC1bB9EGJwNjuNqISZz43hRU2/fDJn9/snC5BF+9c\n",
              "MdNxCA7AKCj7MhYcMGtl2vIApDdxgCO6+xGZYT4Q7wwmdsNV+NIKyRpWmlROUVL14JJfEg1yXrUH\n",
              "n0wottvU3rZ24OhGixQrB4HJzU1WHA4rusfyXg6WoXeDXU0I7SObkAIxqeowu9Hlt73oCBzHJC6L\n",
              "eKmM4Ty3qV3WQenobaPxT+QAXxxuiK/82kOVdsaaYj6jDzDTnjevVdp4eZxcPLhLocDqCnIOx3iQ\n",
              "4eGskAAJapYaQKRexHAiue8VOBbXpYUEeVap/HZwXlUWZ7V3w5PQnqpnLK13xbcDOqmTz1GJBzDw\n",
              "wkahExC/aoVDBOXcLx7zs+r2KRB1j/DdMnuJMAABqoA6/57jQLuzV4DRQomvINl+LNPfdwyTnHBP\n",
              "llbZIKt4VN+MLR/CsXp/jur+V8ayuOFw2lb9kfeyGhX/jOK1Vmz5onKJiM0Iz2z2boSYkGkgjQaa\n",
              "X4Jd1z+0/2NbNbmpMWinnLREZ9TcpYDV4pZ9cgVNX49MMBPMkF+7og44lCovp3LUAHPoDKz2r38w\n",
              "h+o3J0MumuqXH8a4WkA/5PYQlKTJWg7doDoyLbSKvmrprFnBPk2FKC5eZpcHE+UD7O+9+LDLoAAy\n",
              "+eOsNqGbuVetuL6fgAo5MkaWJsX/FWoq7X/ohryQXLc15t4MkLz89zIlQwlZViWrXINm1mgcGbxL\n",
              "IK1d4ZCgb/JE9SiMYP1oLnJRFuWbB6Jg87kGMTuz7jl/jk2VUyJwTDHvNs4B091uUwn4iiJPX/w2\n",
              "ykYva0RRbE9Kr3SGYtcdGhTTqfVk4dHstu2drPcdu50QWtTMq13fOV1egi56H90eJrSZSGCsoMNi\n",
              "XCAcOJ1tL+i+nAqLpctZeoFWzJSV6M0xOEuFvwiBJMIjoeDPnR2pR7LEsYcGRoKfnyQWlolrGP2p\n",
              "MLk9vGIqfwxHjSUljVG6zqa4nhY7IQjBj3zZfcbVfrntPqKUWKOiowNTP38QAVzehvZU2sO3+6Xo\n",
              "EL3cPxNfrFvCBJFg2jPaKSrJJV3JplSoqdt59JuJ+cqbLpabXRZMKK5DACOfdcvebuAnYofkCdnh\n",
              "56lRv79JgPVGc8NgYjYcWbleAwKEocIHdPFSLk9s61QN8ieAfFyTcmZAJatRaJ+Dcf0TFbFPXaPz\n",
              "bQAeNWjmQGVqtMwVnw1VeAHrisec0sG7JGmpOeT4ePrzPAIqvSn/s24DUEQnCww7IUGd+bZVYVYU\n",
              "s9pfWe24rrjZY3reMJDirjmOOI6InDBnMKlriO95DDW9Vs312TD+ysWyBlhLc6Td0soQuHNo95T1\n",
              "6t3WutOiW8Hm1ft6H4Q0r9SnX98KO3vFYl8hjKPR9e1kUNtTV8fKf5dRdlCzW0nwIoKJnIx+xZGW\n",
              "ttzAFwNS0rS71G7i+wHMQZ7QBvJqWNTOnrv0mdevZKFf5eZ+i/rU6n12w7nrjHw/LK5Vr353IclN\n",
              "mCMdR8uF1x5PZcsix6+DZPowED5XJgT6FQVZfu9x+yodhD9+PvtEFaCdAtJqFfpRdfWL31+daczO\n",
              "0CkvBgLkcvIMb+8yFzUFlwEOgwoArVR8FwAssViwcWBoojbHFCOIUwQU251WO2t00jhEyPrFSJVd\n",
              "/XUBIE5LRpXApGcOSC7VB3Cf+xO7BRJc84GPT4tUuVQQbCAG2a7dH1ObF2+lab6UqGQhcel0iwAO\n",
              "0X4/upx0SjFElAgBSBIJ2auBEbDUl5cPntZijMeVcwG60yV1FKlX8TdNfqBwsPuo86w/T24C7s7Q\n",
              "3KXJPQD/LZHWoJUeD63HGhFJU06RMgVaWFKqn6+j9JjbzQkgUV166o1jGw/5yMqa/JkhqEcwbq1z\n",
              "3D9ovqpD6lhD4u0B2jCs///zvABXBpqP2GzhPBxaEiSPjMnLqG/3XegvXpeCPQAWf4wz6CEuu+r3\n",
              "urhP0xCGaIBWChptlRSgB+vZb/RhfbDbdQi978tqa8CTX+9wuooAB4brwxdYHC3AiV0onqNPLx++\n",
              "w1pV9cJSbSdsI9LdpGDe7mn3CXcfHOflUAZZNozOpLTjzm5mzNMlbizHW+PbrKLLAMqiMbISrvSd\n",
              "udx/hUWXvfRc7TU4KikDQKQl7pQe1khkOYxIKMgOumhxRL/hVzAaOXKzyw5J43nWoRDcdALmKxMg\n",
              "l/j8g+zLhbPv++oEqnrHF//34BI1kz+PfQ1Rc6CQS1mmP7cM2wxfB8AwTMFOsONv3rkNLglv+XGo\n",
              "8SR396GRqh2OcPpvDRtmt+gHcsGXo8fuHz2EFGlJ3O4x3sO4fIS1O6txGFaPLIh8gbPMsKlr7V7p\n",
              "t5k3nHfOrF3dBPKVasighib/Ga1iZ5fBSM8ko9mvulcO9rHdXp/AxoEGUxnHcFyUUlPgqdrzZo0r\n",
              "a2oJ80zxcwkThlbeXv/Hs3GhAHmv/8U+cr33snolGJZLuK5CXlHqeKx7f6NYOyxq5+HKlpT0ktNc\n",
              "elsgBFrvV7vE0954FXES10amWwD/7oyHAFUanBmvDF949PmmeOHCO4FZiOo6gy/PKH30zVn3wMFQ\n",
              "53zZIMvMK6xGaZr5qdMQCu9zCfD52I+ISEnbtQwa5NUW6/OxNNqAFPiCoh8w3bDgtQ59k5H1RhBh\n",
              "DeQEh2AOQ4AodoUuKooeqLTv8vGcNuhs4oYiBiDQDwkdL3GlIV32PJBwRyynNzCutxoeBSKEO+Ng\n",
              "5TAGrHZ4+morvbfNgvVs3POSuONmtoQsf0XjluqeDLZR++9aJ+LAVrYJPYstVq64vX1IYnWslIH4\n",
              "mvlIpBgA7EKo2Ak+HYi2slGxpS1PRcnmMG1tKe2tErnw2CzMNRUxv6tRGIsj6DQLmewWShy39yy4\n",
              "toQ8W0uSQaodnfm3wcn7vd1KZCB5cWwFPPQTAXD17JfUkH8dWrs0+8jAd3R9xxZHGHJ9Bj3jk/MI\n",
              "N5RxfebnKHJDU8ketEzR9rvVTq0jAXVsYvivs0uk2Z0P0EPP6s+MVcWsdvw7GqejoUKzuvsYanKZ\n",
              "l92A+XMxZP6qnSdSefhCODLUnO5I0HqbxHz99+8I3rMAd/OfsKKIzpZ4WcCfJfuP+35XZnirMCBQ\n",
              "lqxhzmLGpt97mZRGWvrpddi96ArzTf4GSc/kMHvLhL/+0mNGWy0e69ZZle0Ro1qDJrc0TBzjQ4qD\n",
              "CpZkhzH3NS9+eIH9RF1qQCc7xP4MlgmEvxAbjgAYBqEAAAFXQZohbEO//qmWAQXWBUAUeB6cy6iO\n",
              "z4Ge7mHzca9usR7uVORo7q1ixuk8bt1NSl4NKquCkkDN6U2JFQAQ3YPGmrGoFaO4HZSZcSPmOb4Z\n",
              "7z/hktMNEGC9hSHgocqn2S9e4d/EfM4LCrPFWHfRAkqOSzRBgQYgSTJj9Zr5wVruYwqDb209Mfxi\n",
              "D4vGAfXoufLXiaXFk+IUT94cg12TcgowDwIvJNCYPcYQebK4u4AnzIm6K+CTZec9baJiC2JrNeE9\n",
              "zr3RVWm5ostEs3QSE6kLbNaR5MGw4dd8MRh+5X1Q2hfUfxUlEwFXvakZuPyLOP9rbAGO9Ampo++H\n",
              "G6XDsvwy4TTVYoQpfDibH2mWDT1CPfUH++LeX3Edv72zOCfzk1EPilQFHHfC+k//37N8axr3vLyr\n",
              "2jmZNjCcgULUlrAJS6gO2cgiJvfBcUAx9SV3pg2wGEpUjawrEAAAAP9BmkM8IZMphDv//qmWAA3l\n",
              "AgfuBvpGXSorqApCERgfJMdL96WA1OmvCobjN6RL+PTh6abUSzprp+HkS/ugmPKypcx6H02xHALA\n",
              "v4AinX2gWyNSGXCjzQGFUM4A5RZGqGEsN6qpOTbrlcmf3Bjt0CNf9Yit7uG7H92cfRgTJAvx4e2v\n",
              "J3K/KRsj+pkE/oU5LwG9AnS5O9Hkz4JztGzzwK2l17mxb/UmOhoR9W+mGRa534vu09t83YBhee0M\n",
              "8J72LpvFbdjHZG5xqcDG4TaZ4Sjl8IJ+eLEkgSS0a23K56FAhiFVrVrZ4Xb7v+TKdhIObQ9i6+T+\n",
              "8L3U7rLYO4IcKRkAAAAuAZ5iakK/AAtde5cMq4SKJvQXwAQiT1AJbTx2e1Vab2lQ77DIMSnoNhsv\n",
              "k35oJAAAAFRBmmZJ4Q8mUwId//6plgANlBKCDNDydJlgFrugF75DyuDxxJIT/OhwVblVmoH/lG5p\n",
              "+AVoH7Z1fqCVoPh9K2FDenrupv8V778hvHEZ1Poe6hEGQ7sAAAArQZ6ERRE8L/8AEV4vteY4zZaF\n",
              "gnVcAC6DBF+Qv2FV683A7NH8cX7pbqUNowAAABQBnqVqQr8AFir+XsBpqO1PqYc3wQAAAFlBmqhJ\n",
              "qEFomUwU8O/+qZYA2i+P1AKqHL99NF45Bp1FQeAxLwe11q71Slf7SHLDH8HCSJa04/B2h5Q/8KBk\n",
              "5nv7jj4SzY4yUcTQp0+O+sY6Mmcqvgu5DEQJOQAAACcBnsdqQr8ALFYCNeueQvfUs8AE6yKib4/G\n",
              "sIWrzudTO9SMmRLbSvgAAAB8QZrLSeEKUmUwId/+qZYAG0Fal4GxWACJ1/p1RB5LnBPeRbHqUQTf\n",
              "4+3P51SJoyA3N8tUXOsd+bYN41lF718TNW4/aGv+PBdbtEZlsIaIAPT6bI3p777plyiPXZcXV9+u\n",
              "eiGhekQDbpEUUogk/Zgldqf+gvMMVdkjyE8F3AAAACRBnulFNEwv/wAfvbFgr11sLADN6NwszTCq\n",
              "0ru8AHVcpV3rXUEAAAAbAZ8KakK/ACxND2+SIDACMHUvCk8T6mAsgPSAAAAALkGbDkmoQWiZTAh3\n",
              "//6plgA1IQ+j20XgqwMANYpkoBGhpjPKC6nX6xf+0x7ICtgAAAAgQZ8sRREsL/8APhtiwPWIcfyF\n",
              "VgAcCFtPhf227JgvTZcAAAATAZ9NakK/AFVATsUPA3hjdBiMaQAAAJZBm1JJqEFsmUwIb//+p4QB\n",
              "ndIXgAmN+yNP+iqnBQ+rYqKFPF0lyZWZay2YeztZCrI4Lh6A17lfTpE19wnI/F1z+W3xTTpBJdy+\n",
              "JZ/cFWLTyQrJ63YxOJ107gwLbRDDoq+yre1ltg2gKq7GIJKuyILeT06C2aqcov9fTwFbsAuRJzTP\n",
              "PYb2XKG+Kpo7UkVMLQ4i3N1gMCEAAAArQZ9wRRUsM/8AXRQej0B4vNj5Qo+AEJy/q3awqzEwyW0H\n",
              "2GyPo1CcdDDB4AAAABoBn490Qr8ArOQyEupA6UBGLAYAZqlLDD8CtgAAABABn5FqQr8AqFGj+L95\n",
              "SAs5AAAAO0Gbk0moQWyZTAhv//6nhAGuUheCg42/z+aRG+PtGvUVhUV6IYkuhQEPoQtzcbtOa9P+\n",
              "6HiaanTvkAsoAAAALUGbtEnhClJlMCHf/qmWAOOdPy2d7U6/ohKMTdQCvkAM51SUnzorCi181kB+\n",
              "QAAAAEVBm9VJ4Q6JlMCHf/6plgDuBT8egqM40bDva6g82+5kNmq7biAPADK54yYuTQNPfidwiu6e\n",
              "OdPjP2nQ4/RNpwQWxbrUBi0AAACxQZv5SeEPJlMCG//+p4QB68AMZK672t/A8BCrkuvSfPsdHoD9\n",
              "O6w/l9gn9V3FY1+xVn/hhvyX/mMI+AmcrIcgHxB2fK/j7x4UEMErUQDcjO2Z55b4DtrycINGVduw\n",
              "qftXqtkO05gzavPe72RgM2LodQOSFPOatlrgyCLboOHWZudndGwg0JI+h43bH+vpxrcPVQgUMZr5\n",
              "KfH3cBl73suqWsSrgr7lVT3pWrcZab/DW9cWAAAAF0GeF0URPDP/AapYQyfH623KYxSwoF3BAAAA\n",
              "GQGeNnRCvwFRS0DXqeSYAO52v4/HTFmAI+EAAAAaAZ44akK/Au6/ETlFjgeaagBCkAoV43TwBswA\n",
              "AABvQZo6SahBaJlMCHf//qmWANpwpYAIxQHswiiXK5ohvOBvxW+2wrbEJH59QAwSMNPGlDCqgOFl\n",
              "6XhbpxSHkJpdY5U5qwRPxpQMq7H1JlCy8m05Qoh2LYOp+XqW8m2kdhiY4gur0URQZf0xvnnIwGfB\n",
              "AAAAaEGaW0nhClJlMCHf/qmWANonlYAn1V0R8tPU9YVTNehTpuWSf5jHxlpLDS4I8bgns8aFp4Lu\n",
              "RgjSfOlXYIbKRarrR70o73dtm2y+Zwzda8BL2uFgjaiPeQLaNk3bf9no0/70Tmd34BSQAAAAd0Ga\n",
              "f0nhDomUwId//qmWCbaVBp2p+wBVetIAnYBag70sXPPAU0bX68ZCn8imeGpoiub4SP30JVS2nXOt\n",
              "Sy1GOYgelbQKaUzn70kgl8bB87risLC+iAog7aJ3loPcxlS/QFyQJ2bvQwLXbGkybscvpjrI+mvG\n",
              "44H5AAAAJEGenUURPDP/AaqNCMX5i7bkcqEQgA2eYmsAGIvZI+BfEGADewAAABEBnrx0Qr8C7S7V\n",
              "xhXLPgDGgAAAABEBnr5qQr8C7r46N29I+8AY0AAAAEtBmqFJqEFomUwU8O/+qZYA2kwG9AEapEAC\n",
              "dF+JXMnNMXkjXklHpIZKu1KZY5Ovm+YT372YqidluBbPov9/BRfNzeHrX5AU0/IgDFkAAAAUAZ7A\n",
              "akK/Au+QsHGBGK5lFM4A/IAAAABVQZrESeEKUmUwId/+qZYA0mMUlNgEy6jeLZFAA1syKiQYkLxc\n",
              "7mx9Odgg0TRjim28g7Pscw8LJIQ7YkJlYNbtxYLclK2Rfiz3oBfzlde5b1AvYACggQAAABRBnuJF\n",
              "NEwv/wI5inCbmKJy4RYBdwAAAB4BnwNqQr8C7r3KjnXy5p46YYAJ1nrv4Ww62M+AA3sAAABHQZsF\n",
              "SahBaJlMCHf//qmWAMnXLnyUXCctABxa8eStF+nRen7+12Y7fRqccK6fKQiScGCaifkVglXg54iT\n",
              "FJ1E+8o3lsSUAoMAAACrQZsoSeEKUmUwId/+qZYAyck0h209ueAL7XxWZLdGAZjqcx6pygmAOCJO\n",
              "ClWCwitzFb98qaEUwHvk2uG/aKh/64QImKW4eomqO29zz43Xm7ttzKRiobPrpLKsrUEFBWUzxHq5\n",
              "gZZl54Wv2IojzhB5QfnWYexd4g+GaWlIRvnw41W152ltSzA87DvcPVvzkiwL8+misF5zbe8YzlcV\n",
              "FuqNKzOeVqV7+7JbCQFxAAAAJUGfRkU0TC//AjmLVMdoKvVTlYSDQAA7Q15r+eKTVPimfUncAwMA\n",
              "AAAyAZ9nakK/Au69xdpAIGo8AEQd+DMgBOs9H6Cg2lMJ9hg0NmFS9lesaza+rlNkH6ZAB4wAAAB+\n",
              "QZtqSahBaJlMFPDv/qmWAMn58oAdK6AX3BwGXwif1UoGxPfgbfiqJodtEeCeSiSGueb5dEZ0CRWh\n",
              "3YbHnNH/e1Z2CcdAoCiMXuVXuKVftEKBBlrVSf+wyK2Ja31AXQiE6wNYZOQ4JXXtj6J3CZive3yx\n",
              "SsDSINFPXkGAkBcQAAAAKgGfiWpCvwLvkp9fEDRcOwOpDQATOy+PKKg1BdK70YQtopx0qFlptEDe\n",
              "gQAAAM1Bm45J4QpSZTAh3/6plgBeBOlEds/KycdAJh0zdFL7x79bvyETenGzU2i/+3fynDK3vb8C\n",
              "seMgT/hJsWIM/215zGGOzZ2WO3F26aMXBJmeE+AYRltvXigvinUkdNXiHHWCHSoc8JhEeIk2YEy6\n",
              "RWeoTcpsjrZUyeQW/fg5aCrj99EGfs1Rns554NtIeB46+IPMrdWVbgdQ8e/ZLEfuz9m1n76dN2+Y\n",
              "LJVgrW4pBN6JCf6l8GKSYcNeaJuBPWwByj9WNRogyJBXZMFd8jdQAAAAI0GfrEU0TDP/AaqM/bnm\n",
              "Oief9+IyPYyQAOM7taF/hs4FgMGAAAAAHwGfy3RCvwLtLY2Q7Bn/hqA1AAmdpT0Xuq/U52+sBg0A\n",
              "AAAcAZ/NakK/Au69y/DUUz5Ik0AHxot8H9K4XKoIGQAAAGdBm9BJqEFomUwU8O/+qZYAW86wD3Sk\n",
              "54B89maGi5CnzTB/bcxBO8h3BSKowp2hq8usyvuz7WQGtj/sgkonvuXLGGrHOMKWs0cQlTHcvm3a\n",
              "Q3YTBM6GN8PyhVhhSl62ORMkc0wHEDQhAAAAHAGf72pCvwLvkp9d/s+sZn36PRgBGS0mzqqgFlAA\n",
              "AABdQZvySeEKUmUwUsN//qeEAFqhZ8sFqbgjX+QCAIuFf+IH0aSwNG/jBVN5EdyIrGl+6ZjC6XCe\n",
              "fL5flhnJWV8yNMiOGUxuo4v/sr8B8pl4L/pqWrpbj/FoiZsjwJOAAAAAEQGeEWpCvwBJRgMwDAhz\n",
              "UHdBAAAARUGaE0nhDomUwId//qmWAC28onAJVbC8aHJ3m+voKgQkoncrYdMegxxHrdKoOuYH+so9\n",
              "ct4RIxxZtgXhkLYwuJP5wHgScAAAAGNBmjVJ4Q8mUwUVPDv//qmWABbzAPhCsMm/G8WAaT2thuzs\n",
              "6rdKcrXmtHkNxEgxu+epqrT+o2vPSfGOR6l+F7t8Q7oIxV5gpFFy3dZ7+BPKtq1GfJBjuUOUFi17\n",
              "JkHiKtiiZDAAAAATAZ5UakK/ACSV061H8KCzZsAmYQAAAFNBmlhJ4Q8mUwId//6plgAWSi1F6PY0\n",
              "fPAIB5QdvMbM7hbKfPurX6hUgDiKuiqSp/SHm8WkphLSEvVvaNHOSYFXT/6PPm0C68tBZC1tpf7I\n",
              "szwS8AAAABJBnnZFETwv/wAaYNGBZl0FoekAAAAQAZ6XakK/ABJdc7ZhqakC4wAAADVBmplJqEFo\n",
              "mUwId//+qZYACzJ7CCBsK6gFBGHh+TmAXtMi5ok8AnJQSDZCp+sejl6z24B8wAAAAGJBmrxJ4QpS\n",
              "ZTAh3/6plgALJxgkAhHw0rjVaMiOm/cnmc0DW7gfLwi4jHJspWo/1UyRR9exrcurrckcU8TTiqBI\n",
              "XsAoLm/2xhulxl+yhaa0Ywhe0XhJpomaMQfUd+k7H/oxoQAAAB9BntpFNEwv/wANg4qssxS8fV41\n",
              "QAJFqJMB4fbBKzZgAAAAFAGe+2pCvwASXYC0QRh4mg2JJLAxAAAATkGa/kmoQWiZTBTw7/6plgAF\n",
              "b5ROAaxDErkAnT4Cv7zQHgSz3wzFQEBByExuwNTW0aWrzVbKnjsB70UEwgCSG0huySWHhSB7qmXj\n",
              "9osfMQAAABUBnx1qQr8AEmDNJoAL3S8iCs5VCpgAAABSQZsfSeEKUmUwId/+qZYAAs3PPFs9XR6g\n",
              "3mlAJPb1EyS/meSPzAWO3YBlHho9IDxw9qz44xwWYrrKNktdYUvrRT4Cb+z/qOz2xhitA8l6cpud\n",
              "DwAAAEZBmyJJ4Q6JlMCHf/6plgACt8YJAIR8NK5AJ0lwm9eSUFusL+AxwMyFQjSNovozBkOCu3Lu\n",
              "qa4Xh26JfnthQTa7sHI857zDAAAAMUGfQEURPC//AA2Di/M2PN7m7rgAfzwpo8Qe+X0Sj7x1aJ39\n",
              "ojfFU9CwjQ0h/f/m3SAAAAAUAZ9hakK/ABJdf8FZRgL4QbEknFkAAABJQZtlSahBaJlMCHf//qmW\n",
              "AAFS0lBBuNnSV8yHgABMOYJmlByzYtJtqrtY4fJtx+6h2fQlc8dGPBoW9v26ulaAmY2NMBg4v5BA\n",
              "uAAAABxBn4NFESwv/wANhEYA6ypk32bh4ADvnQmDd2BBAAAAEgGfpGpCvwASXX+Zjv3aj8+boQAA\n",
              "AHVBm6hJqEFsmUwId//+qZYAAKlxgkAhHwlHq3vNoETwZILJXthQo1TmDn1GCqbxhmzIVRGwGIiB\n",
              "kFfkvEIf6gVojT++SolestVRhdRgXgk0YgrhpZ5ChkcvcnEtfZJONbYVgSlqxsCCnDZJKS3Otjyf\n",
              "JpJT9RkAAAAhQZ/GRRUsL/8ADYRF/DWPOGihj6YcoAEi5ILwsKvSig+BAAAAEwGf52pCvwASXX+G\n",
              "1kkoENIakWAAAABiQZvrSahBbJlMCHf//qmWAABSlEwQcF7xp3ngFmvakVeZxSXQPlFodn7nEacT\n",
              "U0LyWyIZ33LjP4DuUVtP/FfjawaWT4K7QWkWH+1RYAORryENgeyLATArAEkGvAfebsvtuBAAAAAV\n",
              "QZ4JRRUsL/8ADYRF+crKsmHSAlFhAAAAEwGeKmpCvwASXX99bifNL3vrWFgAAACiQZovSahBbJlM\n",
              "CHf//qmWAAApNFvgmtobsAD+sBLZylh4MJEOuPLB4wWocIJSq9HhMS6Tm66DYEFdKguqsRejJl50\n",
              "t0rThzk9vi2Al1AY3YAHfZ4GaQ+uMbAsX1MYZg04RgPxqiqK+OuGnkg8CM1iDzHsmnNeuyMG+Quu\n",
              "Afal8f+6iaGPVXnj7Oc47s/doe8xUMJWnmbapxJMpmayLYUAobx2AAAAGEGeTUUVLDP/AAn1NTqd\n",
              "OyU+r+d0+YTu6wAAABYBnmx0Qr8AEldDPWpFX4iJZx/uHHdRAAAAFAGebmpCvwASXX99bjaFDViP\n",
              "JbqBAAAAdkGacUmoQWyZTBRMO//+qZYAABQKmx/xyiIZe4x8cAk9pjenaZ5WRCzf6gtFFloNARAB\n",
              "lOPbLgTkr17b3gQe51MYxxflRvEtOSFum+bk0N3Nykod/FyOBbNMhB3p3A0EozXS+jXnEjDTKuzu\n",
              "bvp30/xeLJhywEgAAAAfAZ6QakK/ABJgzMnp3FC980AIUzfUDzop80pRgWGcYAAAAI1BmpVJ4QpS\n",
              "ZTAh3/6plgAACgUVLmEsdZqAVAEnt6pxAM4WC+0ayGidelbYoNjr/4Wj+N7HLyd5vPQ44+10Oxp5\n",
              "Xt/lb3XZlb0AlDIsEvx/WwLP0oZ3Pxps8/i/gO1/Vepjey0pI37KMTxV7NWb80tfIEItTVLADg/M\n",
              "eVSui44rjXqxhaS3042jV95658EAAAAjQZ6zRTRMM/8ACfStrf8THfkJgelOCQOmIAJSX3F61jU/\n",
              "nCoAAAAbAZ7SdEK/ABJXQz1qVIF6toFylEIdFWOoanAgAAAAIgGe1GpCvwASXX99bjZ8lKmuPA7p\n",
              "IANjAI8ibdupiUB/dwUAAABZQZrXSahBaJlMFPDf/qeEAAATWjlxLkIA0HLuz50G/+4PP+WgTy6G\n",
              "ml03u/NsAWZhnTEIgdTrVP5Gtp3+m4oEMwO2QnFqcAeZKmi6s7AMuL6lS1x0tZ983SAAAAAbAZ72\n",
              "akK/ABJgzMnp3E+eqx0zVjxALVm/3RRrAAAAXEGa+EnhClJlMCHf/qmWAAAJj1byMve04wX+7/Lg\n",
              "ByzF3rwLz++TtvVLQ4P8/WMbb2qb2nQmEj7sw8VPNvPxxdfcDr2loCcYjsWsKcE8LU5908Yvryiw\n",
              "nVhol9rXAAAAh0GbG0nhDomUwIb//qeEAAAJqXVEATwZdtQ24fwajbaTT/1gWobC2XAikcSpGO8J\n",
              "9a0Q5S9gXAP1rdHRQ1PUWfQ6mnyRA+XoQ7ueytIA3/uhK3ixx0Cq05UqmgZQFb0k/93PYfr3KQAQ\n",
              "pBmNF6tHnhuJLs8Ewdc9tGbwYTFHUTyujXqvp5ycewAAADhBnzlFETwv/wANg4vj/jl8kuP0/r5H\n",
              "QQ3vfKoR8HGQAarnSR58G3GdHQrJ73BnSdSqRp65+2TQnQAAAC0Bn1pqQr8AEl1/fW42fJUzTGCq\n",
              "D+DaYAIg8adHOx5nkyUhQUvE7ZcHVfOTAocAAAAwQZtdSahBaJlMFPDf/qeEAAAJqoHP2QzMheAL\n",
              "0GpZA2uhTsXQjNl16DUlu/d34fvBAAAAGAGffGpCvwASYMzJ6dxPnrGvakBkRNJKMQAAAD5Bm35J\n",
              "4QpSZTAhv/6nhAAACWcurR7eAQTMujCuIFyh8F0r2JQtYyearP0d6EHfGiFc3i+XHNnXZE7xAA6c\n",
              "hQAAACFBm59J4Q6JlMCG//6nhAAACSj/972cyg63KxCi3SaeIZAAAAAhQZugSeEPJlMCHf/+qZYA\n",
              "AASgm4j3bc/cENOAllXzkEMhAAAAf0GbxEnhDyZTAhv//qeEAAAJNyDoZ2Iwk+AOWf+lXtST4qzN\n",
              "CQJAFCwIMM1eY5sP7/wNO72XV41Bo8xdDeMIb95IiUM8FePG10I4/VntCqLv5hYOTErCKydKyJnd\n",
              "1fnATAcveCljISnPiLLAqOMH92RqGHcu3ScgC0zv2T1a6lIAAAAqQZ/iRRE8M/8AAAMD7OmwTOAC\n",
              "+R+W66Zovmh/KXDl2jHxek/AEL4xxT4hAAAADwGeAXRCvwAAB1VVU3ccQAAAAC4BngNqQr8AAAdU\n",
              "pls7wXIANoKpze49LK2E1CfNq3MHuhE7o5xxPOZOTImWtUCBAAAAXUGaBUmoQWiZTAhv//6nhAAA\n",
              "CSmjTAEI93zz6Rz7kwNzldySj+XhNbV9nvrNCaQ9bKY81MaBGumC7CGo+nMRYT/20Ccb162NG5C+\n",
              "1d5hRG5F2Xn3u/YvlHerY1JFawAAADtBmiZJ4QpSZTAhv/6nhAAAEe6b2ogvjmvyvAAuk/86YKiD\n",
              "iJ+sfSzISo1+Q98uEy3DLTlKjIwp8o9M7wAAAExBmkdJ4Q6JlMCG//6nhAAAEe/ukQ3indGPUWJ/\n",
              "jPG/UrE4nD2sU4R5MkJR9Az6IhqWtCM6J2li4KBZ3NBWhRHWsHLcMN18IEqD5YHBAAAASkGaaEnh\n",
              "DyZTAh3//qmWAAAJAU2Sn4db4MLPR4aHLQAgclHUnpz5UYM4IXIY0o2DxjNgppMszjOQcu0tZpV8\n",
              "xAtoN8mVHfWS3gzAAAAAL0GaiUnhDyZTAh3//qmWAAAJAn/rAqAcTvdy4AECEpmMcXfsJ/12nu9A\n",
              "X5NBVeAgAAAAbkGarEnhDyZTAh3//qmWAAAJBPyEKr4wAdK52aZw9/YOsdSkDz2TGVslXV6Z/11j\n",
              "+RiESIeo4N7ak4eeYaSL/Y7qXxfu4zk9znJOjbdop/iQ5RZiEfC69jWYG663I+Tr3y3t9E5O54Ff\n",
              "f2K0wYG5AAAAJEGeykURPC//AAAKqm9M8cH4AG0FpfKXrbXRttRbSaPZFjl3gAAAABYBnutqQr8A\n",
              "AA6ADXTgYDACMI8HAPQMAAAASkGa70moQWiZTAh3//6plgAAEYKIW71hnSLl8XMF+eIfACtM2UJi\n",
              "c5na5KeAjGeGZLE8qdMg84btRnjZIX9fr7xB3h0AaLfGXX/hAAAAH0GfDUURLC//AAAVCgN5ZpS8\n",
              "m3OsdiRtzSnUmg1rVB0AAAAZAZ8uakK/AAAcRETLmt/hlABDeoHYOvL8BwAAAGhBmzJJqEFsmUwI\n",
              "d//+qZYAACIFELfXA8lzDi9tj8O9gBAFNZlHQ1xnTTdUQezXKX+vU5CS7diIhsbkPAD7Ew8TAd2P\n",
              "hTBPVyLxTNfBfTVwFtMnJPrUluZvU0/qD/qSuqSSmdkFBi5xwQAAABhBn1BFFSwv/wAAKPPODG12\n",
              "Mq3r05A1uLwAAAAaAZ9xakK/AAA3TpmjOtc5pyHAArm45FhvD0EAAABOQZt1SahBbJlMCG///qeE\n",
              "AACHf3SKCE+fwy8E8gffZ92vXfCEgB/xbywP7fCfQBHL2/0RgdcAflbUo7Iw20RFcHyuo83ir6rv\n",
              "/RM0gq4QAAAAFUGfk0UVLC//AAAo4iqfrPQYToNz+AAAABQBn7RqQr8AADisg7lozwAC+1XHiQAA\n",
              "ADtBm7ZJqEFsmUwIb//+p4QAAIaszVHY8jQAf1jehybqdqCv2QQfM5XFdiaqHtQETisW8Ip6rFjW\n",
              "zgOhlAAAACxBm9dJ4QpSZTAhv/6nhAAAho5cw2GgAz8DhYnZQTXSz4MWOoCjyd1ZEDTz4QAAAEtB\n",
              "m/hJ4Q6JlMCHf/6plgAAhBk5cwjJUQrWrd2BP4B/WSBRPB5l4zEYDnvPGMCtwIfFoWyvdFbZRVsF\n",
              "G1h2W3KUZo1M618GsMj1jpkAAAAeQZobSeEPJlMCG//+p4QAAQUetjShqQAcaCNPOcw8AAAAHEGe\n",
              "OUURPC//AACj5FF70tIsAFbT5ofeP6N5gX0AAAAXAZ5aakK/AADYMi9S+mADN6V4bHp2eJwAAAB/\n",
              "QZpfSahBaJlMCFf//jhAADz6ERr1e8FAAnWdnYsctOOJ9kT+dPMUHb/sscHwon2tPFTzoMCrsb+u\n",
              "SQj55Z0ObE8LLQuvsxzPa+IWXc4DWI86eFaT6sYsxA9xqsFm5wjkwEZC7mCetpqqWbbvdLgbzFRG\n",
              "dA7FV0F747EB/uYNIQAAADJBnn1FESwz/wAB0Cvar/WtncYqQAN/kK+JRfj2+sOrhW3RGH6EahfZ\n",
              "QRvsBlug1nAFewAAACcBnpx0Qr8AAbB1kDNPAArXEmV7YwFqrSYBoi6yKPAy1v6lRkDKA6YAAAAn\n",
              "AZ6eakK/AANg6GXhuVBQXus6ADQDSzPeTB99DC9+M5SIvHiA0JewAAAIRm1vb3YAAABsbXZoZAAA\n",
              "AAAAAAAAAAAAAAAAA+gAABkAAAEAAAEAAAAAAAAAAAAAAAABAAAAAAAAAAAAAAAAAAAAAQAAAAAA\n",
              "AAAAAAAAAAAAQAAAAAAAAAAAAAAAAAAAAAAAAAAAAAAAAAAAAAAAAAIAAAdwdHJhawAAAFx0a2hk\n",
              "AAAAAwAAAAAAAAAAAAAAAQAAAAAAABkAAAAAAAAAAAAAAAAAAAAAAAABAAAAAAAAAAAAAAAAAAAA\n",
              "AQAAAAAAAAAAAAAAAAAAQAAAAAGwAAABIAAAAAAAJGVkdHMAAAAcZWxzdAAAAAAAAAABAAAZAAAA\n",
              "BAAAAQAAAAAG6G1kaWEAAAAgbWRoZAAAAAAAAAAAAAAAAAAAKAAAAQAAVcQAAAAAAC1oZGxyAAAA\n",
              "AAAAAAB2aWRlAAAAAAAAAAAAAAAAVmlkZW9IYW5kbGVyAAAABpNtaW5mAAAAFHZtaGQAAAABAAAA\n",
              "AAAAAAAAAAAkZGluZgAAABxkcmVmAAAAAAAAAAEAAAAMdXJsIAAAAAEAAAZTc3RibAAAALNzdHNk\n",
              "AAAAAAAAAAEAAACjYXZjMQAAAAAAAAABAAAAAAAAAAAAAAAAAAAAAAGwASAASAAAAEgAAAAAAAAA\n",
              "AQAAAAAAAAAAAAAAAAAAAAAAAAAAAAAAAAAAAAAAAAAAABj//wAAADFhdmNDAWQAFf/hABhnZAAV\n",
              "rNlBsJaEAAADAAQAAAMAoDxYtlgBAAZo6+PLIsAAAAAcdXVpZGtoQPJfJE/FujmlG88DI/MAAAAA\n",
              "AAAAGHN0dHMAAAAAAAAAAQAAAIAAAAIAAAAAFHN0c3MAAAAAAAAAAQAAAAEAAAMoY3R0cwAAAAAA\n",
              "AABjAAAAAgAABAAAAAABAAAGAAAAAAEAAAIAAAAAAQAACAAAAAACAAACAAAAAAEAAAYAAAAAAQAA\n",
              "AgAAAAABAAAIAAAAAAIAAAIAAAAAAQAACAAAAAACAAACAAAAAAEAAAoAAAAAAQAABAAAAAABAAAA\n",
              "AAAAAAEAAAIAAAAAAwAABAAAAAABAAAKAAAAAAEAAAQAAAAAAQAAAAAAAAABAAACAAAAAAIAAAQA\n",
              "AAAAAQAACgAAAAABAAAEAAAAAAEAAAAAAAAAAQAAAgAAAAABAAAGAAAAAAEAAAIAAAAAAQAACAAA\n",
              "AAACAAACAAAAAAEAAAQAAAAAAQAACAAAAAACAAACAAAAAAEAAAYAAAAAAQAAAgAAAAABAAAKAAAA\n",
              "AAEAAAQAAAAAAQAAAAAAAAABAAACAAAAAAEAAAYAAAAAAQAAAgAAAAABAAAGAAAAAAEAAAIAAAAA\n",
              "AQAABAAAAAABAAAGAAAAAAEAAAIAAAAAAQAACAAAAAACAAACAAAAAAEAAAQAAAAAAQAACAAAAAAC\n",
              "AAACAAAAAAEAAAYAAAAAAQAAAgAAAAABAAAEAAAAAAEAAAgAAAAAAgAAAgAAAAABAAAIAAAAAAIA\n",
              "AAIAAAAAAQAACAAAAAACAAACAAAAAAEAAAgAAAAAAgAAAgAAAAABAAAKAAAAAAEAAAQAAAAAAQAA\n",
              "AAAAAAABAAACAAAAAAEAAAYAAAAAAQAAAgAAAAABAAAKAAAAAAEAAAQAAAAAAQAAAAAAAAABAAAC\n",
              "AAAAAAEAAAYAAAAAAQAAAgAAAAABAAAEAAAAAAEAAAgAAAAAAgAAAgAAAAABAAAGAAAAAAEAAAIA\n",
              "AAAAAwAABAAAAAABAAAKAAAAAAEAAAQAAAAAAQAAAAAAAAABAAACAAAAAAUAAAQAAAAAAQAACAAA\n",
              "AAACAAACAAAAAAEAAAgAAAAAAgAAAgAAAAABAAAIAAAAAAIAAAIAAAAAAQAACAAAAAACAAACAAAA\n",
              "AAMAAAQAAAAAAQAACAAAAAACAAACAAAAAAEAAAoAAAAAAQAABAAAAAABAAAAAAAAAAEAAAIAAAAA\n",
              "HHN0c2MAAAAAAAAAAQAAAAEAAACAAAAAAQAAAhRzdHN6AAAAAAAAAAAAAACAAAANFwAAAVsAAAED\n",
              "AAAAMgAAAFgAAAAvAAAAGAAAAF0AAAArAAAAgAAAACgAAAAfAAAAMgAAACQAAAAXAAAAmgAAAC8A\n",
              "AAAeAAAAFAAAAD8AAAAxAAAASQAAALUAAAAbAAAAHQAAAB4AAABzAAAAbAAAAHsAAAAoAAAAFQAA\n",
              "ABUAAABPAAAAGAAAAFkAAAAYAAAAIgAAAEsAAACvAAAAKQAAADYAAACCAAAALgAAANEAAAAnAAAA\n",
              "IwAAACAAAABrAAAAIAAAAGEAAAAVAAAASQAAAGcAAAAXAAAAVwAAABYAAAAUAAAAOQAAAGYAAAAj\n",
              "AAAAGAAAAFIAAAAZAAAAVgAAAEoAAAA1AAAAGAAAAE0AAAAgAAAAFgAAAHkAAAAlAAAAFwAAAGYA\n",
              "AAAZAAAAFwAAAKYAAAAcAAAAGgAAABgAAAB6AAAAIwAAAJEAAAAnAAAAHwAAACYAAABdAAAAHwAA\n",
              "AGAAAACLAAAAPAAAADEAAAA0AAAAHAAAAEIAAAAlAAAAJQAAAIMAAAAuAAAAEwAAADIAAABhAAAA\n",
              "PwAAAFAAAABOAAAAMwAAAHIAAAAoAAAAGgAAAE4AAAAjAAAAHQAAAGwAAAAcAAAAHgAAAFIAAAAZ\n",
              "AAAAGAAAAD8AAAAwAAAATwAAACIAAAAgAAAAGwAAAIMAAAA2AAAAKwAAACsAAAAUc3RjbwAAAAAA\n",
              "AAABAAAALAAAAGJ1ZHRhAAAAWm1ldGEAAAAAAAAAIWhkbHIAAAAAAAAAAG1kaXJhcHBsAAAAAAAA\n",
              "AAAAAAAALWlsc3QAAAAlqXRvbwAAAB1kYXRhAAAAAQAAAABMYXZmNTcuODMuMTAw\n",
              "\">\n",
              "  Your browser does not support the video tag.\n",
              "</video>"
            ],
            "text/plain": [
              "<IPython.core.display.HTML object>"
            ]
          },
          "metadata": {
            "tags": []
          },
          "execution_count": 13
        },
        {
          "output_type": "display_data",
          "data": {
            "image/png": "[encoded data removed]",
            "text/plain": [
              "<Figure size 432x288 with 1 Axes>"
            ]
          },
          "metadata": {
            "tags": [],
            "needs_background": "light"
          }
        }
      ]
    },
    {
      "cell_type": "markdown",
      "metadata": {
        "id": "1T4Omvmnzpye",
        "colab_type": "text"
      },
      "source": [
        "## p. 154"
      ]
    },
    {
      "cell_type": "code",
      "metadata": {
        "id": "OM1mtrKfzsv7",
        "colab_type": "code",
        "colab": {}
      },
      "source": [
        ""
      ],
      "execution_count": null,
      "outputs": []
    }
  ]
}