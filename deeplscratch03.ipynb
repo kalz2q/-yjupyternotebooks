{
  "nbformat": 4,
  "nbformat_minor": 0,
  "metadata": {
    "colab": {
      "name": "deeplscratch03.ipynb",
      "provenance": [],
      "authorship_tag": "ABX9TyOr5JIM/vOv88r17eK55n8h",
      "include_colab_link": true
    },
    "kernelspec": {
      "name": "python3",
      "display_name": "Python 3"
    },
    "language_info": {
      "name": "python"
    }
  },
  "cells": [
    {
      "cell_type": "markdown",
      "metadata": {
        "id": "view-in-github",
        "colab_type": "text"
      },
      "source": [
        "<a href=\"https://colab.research.google.com/github/kalz2q/mycolabnotebooks/blob/master/deeplscratch03.ipynb\" target=\"_parent\"><img src=\"https://colab.research.google.com/assets/colab-badge.svg\" alt=\"Open In Colab\"/></a>"
      ]
    },
    {
      "cell_type": "markdown",
      "metadata": {
        "id": "7nD5ZzW6Wxa8"
      },
      "source": [
        "# メモ\n",
        "\n",
        "さいとうこうき斎藤康毅\n",
        "零から作る Deep Learning 3\n",
        "フレームワーク編\n",
        "\n",
        "を読む"
      ]
    },
    {
      "cell_type": "code",
      "metadata": {
        "id": "OA-l3CtZYBOm"
      },
      "source": [
        "# 完成品 dezero\n",
        "\n",
        "# pytorch, chainer, tensoflow\n",
        "\n",
        "# 必要なソフトウェア\n",
        "python\n",
        "numpy\n",
        "matplotlib\n",
        "cupy #=> nvidiaのgpuを使う\n",
        "pillow => 画像処理\n",
        "graphviz\n",
        "\n",
        "# https://github.com/oreilly-japan/deep-learning-from-scratch-3\n"
      ],
      "execution_count": null,
      "outputs": []
    },
    {
      "cell_type": "markdown",
      "metadata": {
        "id": "TqlwbXpUY3Rz"
      },
      "source": [
        "# 変数"
      ]
    },
    {
      "cell_type": "code",
      "metadata": {
        "id": "NndyzX_pY4zY"
      },
      "source": [
        "class Variable:\n",
        "    def __init__ (self, data):\n",
        "        self.data = data"
      ],
      "execution_count": 1,
      "outputs": []
    },
    {
      "cell_type": "code",
      "metadata": {
        "colab": {
          "base_uri": "https://localhost:8080/"
        },
        "id": "yPd7L1TYZDuw",
        "outputId": "c2410f30-9bd1-4785-8723-dfaeb49bcef5"
      },
      "source": [
        "import numpy as np\n",
        "data = np.array(1.0)\n",
        "x = Variable(data)\n",
        "print(x.data)"
      ],
      "execution_count": 2,
      "outputs": [
        {
          "output_type": "stream",
          "text": [
            "1.0\n"
          ],
          "name": "stdout"
        }
      ]
    },
    {
      "cell_type": "code",
      "metadata": {
        "colab": {
          "base_uri": "https://localhost:8080/"
        },
        "id": "hMvRoeBuZOAm",
        "outputId": "d9827cd0-9d2f-4e39-c191-e4cbf1b0aecd"
      },
      "source": [
        "# 実験\n",
        "import numpy as np\n",
        "data = np.array([1.0,2.,3.8])\n",
        "x = Variable(data)\n",
        "print(x.data)\n",
        "print(type(x))\n",
        "print(type(data))"
      ],
      "execution_count": 7,
      "outputs": [
        {
          "output_type": "stream",
          "text": [
            "[1.  2.  3.8]\n",
            "<class '__main__.Variable'>\n",
            "<class 'numpy.ndarray'>\n"
          ],
          "name": "stdout"
        }
      ]
    }
  ]
}