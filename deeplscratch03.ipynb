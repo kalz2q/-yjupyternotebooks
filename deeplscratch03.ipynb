{
  "nbformat": 4,
  "nbformat_minor": 0,
  "metadata": {
    "colab": {
      "name": "deeplscratch03.ipynb",
      "provenance": [],
      "authorship_tag": "ABX9TyOEiN23TMxdjTUBg/kIBoMV",
      "include_colab_link": true
    },
    "kernelspec": {
      "name": "python3",
      "display_name": "Python 3"
    },
    "language_info": {
      "name": "python"
    }
  },
  "cells": [
    {
      "cell_type": "markdown",
      "metadata": {
        "id": "view-in-github",
        "colab_type": "text"
      },
      "source": [
        "<a href=\"https://colab.research.google.com/github/kalz2q/mycolabnotebooks/blob/master/deeplscratch03.ipynb\" target=\"_parent\"><img src=\"https://colab.research.google.com/assets/colab-badge.svg\" alt=\"Open In Colab\"/></a>"
      ]
    },
    {
      "cell_type": "markdown",
      "metadata": {
        "id": "7nD5ZzW6Wxa8"
      },
      "source": [
        "# メモ\n",
        "\n",
        "さいとうこうき斎藤康毅\n",
        "ゼロから作る Deep Learning 3\n",
        "フレームワーク編\n",
        "\n",
        "を読む\n",
        "\n",
        "=> 中断。 なぜなら大変よく書けている本だと思うし、これを1つずつなぞっていけばChainer, PyTorch, TensorFlow が深く理解できるのかもしれないが、いまの自分の興味の対象ではない。 やるなら、1巻目 Python のところからでしょう そこなら Python の勉強にはなる。 それでもいまの興味の対象である sympy とかではない。"
      ]
    },
    {
      "cell_type": "code",
      "metadata": {
        "id": "OA-l3CtZYBOm"
      },
      "source": [
        "# 完成品 => dezero\n",
        "\n",
        "# pytorch, chainer, tensoflow みたいなものを作る\n",
        "\n",
        "# 必要なソフトウェア\n",
        "# python\n",
        "# numpy\n",
        "# matplotlib\n",
        "# cupy #=> nvidiaのgpuを使う\n",
        "# pillow => 画像処理\n",
        "# graphviz\n",
        "\n",
        "# https://github.com/oreilly-japan/deep-learning-from-scratch-3\n"
      ],
      "execution_count": null,
      "outputs": []
    },
    {
      "cell_type": "markdown",
      "metadata": {
        "id": "TqlwbXpUY3Rz"
      },
      "source": [
        "# 変数"
      ]
    },
    {
      "cell_type": "code",
      "metadata": {
        "id": "NndyzX_pY4zY"
      },
      "source": [
        "class Variable:\n",
        "    def __init__ (self, data):\n",
        "        self.data = data"
      ],
      "execution_count": null,
      "outputs": []
    },
    {
      "cell_type": "code",
      "metadata": {
        "colab": {
          "base_uri": "https://localhost:8080/"
        },
        "id": "yPd7L1TYZDuw",
        "outputId": "eed2e15c-9973-40e0-aeb8-acdff71960c1"
      },
      "source": [
        "import numpy as np\n",
        "data = np.array(1.0)\n",
        "x = Variable(data)\n",
        "print(x.data)"
      ],
      "execution_count": null,
      "outputs": [
        {
          "output_type": "stream",
          "text": [
            "1.0\n"
          ],
          "name": "stdout"
        }
      ]
    },
    {
      "cell_type": "code",
      "metadata": {
        "colab": {
          "base_uri": "https://localhost:8080/"
        },
        "id": "hMvRoeBuZOAm",
        "outputId": "7ba076d2-f5e5-4bf1-e6d2-4eea6a2d215e"
      },
      "source": [
        "# 実験\n",
        "import numpy as np\n",
        "data = np.array([1.0,2.,3.8])\n",
        "x = Variable(data)\n",
        "print(x.data)\n",
        "print(type(x))\n",
        "print(type(data))"
      ],
      "execution_count": null,
      "outputs": [
        {
          "output_type": "stream",
          "text": [
            "[1.  2.  3.8]\n",
            "<class '__main__.Variable'>\n",
            "<class 'numpy.ndarray'>\n"
          ],
          "name": "stdout"
        }
      ]
    },
    {
      "cell_type": "code",
      "metadata": {
        "id": "Lz_aaac0kNqx",
        "colab": {
          "base_uri": "https://localhost:8080/"
        },
        "outputId": "0104337d-9685-4d64-948e-a3e93f95fad5"
      },
      "source": [
        "x.data = np.array(2.0)\n",
        "print(x.data)"
      ],
      "execution_count": null,
      "outputs": [
        {
          "output_type": "stream",
          "text": [
            "2.0\n"
          ],
          "name": "stdout"
        }
      ]
    },
    {
      "cell_type": "code",
      "metadata": {
        "id": "t7vp7ZnZkb3W",
        "colab": {
          "base_uri": "https://localhost:8080/"
        },
        "outputId": "8370cbb2-7321-4b7b-eb4a-d08525898ab1"
      },
      "source": [
        "import numpy as np\n",
        "\n",
        "x = np.array(1)\n",
        "print(x.ndim) # ndim => number of dimension 次元数のこと\n",
        "\n",
        "x = np.array([1, 2, 3])\n",
        "print(x.ndim)\n",
        "\n",
        "x = np.array([[1, 2, 3], [4, 5, 6]])\n",
        "print(x.ndim)"
      ],
      "execution_count": null,
      "outputs": [
        {
          "output_type": "stream",
          "text": [
            "0\n",
            "1\n",
            "2\n"
          ],
          "name": "stdout"
        }
      ]
    }
  ]
}