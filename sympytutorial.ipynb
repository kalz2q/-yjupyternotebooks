{
  "nbformat": 4,
  "nbformat_minor": 0,
  "metadata": {
    "colab": {
      "name": "sympytutorial.ipynb",
      "provenance": [],
      "toc_visible": true,
      "authorship_tag": "ABX9TyNDFX1dpD30GvYbahhq6M4P",
      "include_colab_link": true
    },
    "kernelspec": {
      "name": "python3",
      "display_name": "Python 3"
    }
  },
  "cells": [
    {
      "cell_type": "markdown",
      "metadata": {
        "id": "view-in-github",
        "colab_type": "text"
      },
      "source": [
        "<a href=\"https://colab.research.google.com/github/kalz2q/mycolabnotebooks/blob/master/sympytutorial.ipynb\" target=\"_parent\"><img src=\"https://colab.research.google.com/assets/colab-badge.svg\" alt=\"Open In Colab\"/></a>"
      ]
    },
    {
      "cell_type": "markdown",
      "metadata": {
        "id": "9mr5BgvinSCv"
      },
      "source": [
        "# メモ\r\n",
        "https://docs.sympy.org/latest/tutorial/\r\n",
        "を読む。\r\n"
      ]
    },
    {
      "cell_type": "code",
      "metadata": {
        "colab": {
          "base_uri": "https://localhost:8080/",
          "height": 61
        },
        "id": "WQeBHtR1nXBt",
        "outputId": "74b2da48-7a22-4a28-9dc2-6ec8527c1c3e"
      },
      "source": [
        "# 最初の例\r\n",
        "from sympy import *\r\n",
        "init_printing()\r\n",
        "\r\n",
        "x = symbols('x')\r\n",
        "a = Integral(cos(x)*exp(x), x)\r\n",
        "display(Eq(a, a.doit()))\r\n",
        "display(Eq(Integral(exp(x)*cos(x), x), exp(x)*sin(x)/2 + exp(x)*cos(x)/2))"
      ],
      "execution_count": null,
      "outputs": [
        {
          "output_type": "display_data",
          "data": {
            "image/png": "[encoded data removed]",
            "text/latex": "$$\\int e^{x} \\cos{\\left (x \\right )}\\, dx = \\frac{e^{x}}{2} \\sin{\\left (x \\right )} + \\frac{e^{x}}{2} \\cos{\\left (x \\right )}$$",
            "text/plain": [
              "⌠                 x           x       \n",
              "⎮  x             ℯ ⋅sin(x)   ℯ ⋅cos(x)\n",
              "⎮ ℯ ⋅cos(x) dx = ───────── + ─────────\n",
              "⌡                    2           2    "
            ]
          },
          "metadata": {
            "tags": []
          }
        },
        {
          "output_type": "display_data",
          "data": {
            "image/png": "[encoded data removed]",
            "text/latex": "$$\\int e^{x} \\cos{\\left (x \\right )}\\, dx = \\frac{e^{x}}{2} \\sin{\\left (x \\right )} + \\frac{e^{x}}{2} \\cos{\\left (x \\right )}$$",
            "text/plain": [
              "⌠                 x           x       \n",
              "⎮  x             ℯ ⋅sin(x)   ℯ ⋅cos(x)\n",
              "⎮ ℯ ⋅cos(x) dx = ───────── + ─────────\n",
              "⌡                    2           2    "
            ]
          },
          "metadata": {
            "tags": []
          }
        }
      ]
    },
    {
      "cell_type": "code",
      "metadata": {
        "id": "6VXDsjiiJEfj",
        "colab": {
          "base_uri": "https://localhost:8080/",
          "height": 35
        },
        "outputId": "b1985539-3208-42ce-b0fe-349f3ccc009c"
      },
      "source": [
        "# 実験\r\n",
        "from sympy import *\r\n",
        "init_printing()\r\n",
        "latex(Integral(cos(x)*exp(x), x))"
      ],
      "execution_count": null,
      "outputs": [
        {
          "output_type": "execute_result",
          "data": {
            "application/vnd.google.colaboratory.intrinsic+json": {
              "type": "string"
            },
            "text/plain": [
              "'\\\\int e^{x} \\\\cos{\\\\left (x \\\\right )}\\\\, dx'"
            ]
          },
          "metadata": {
            "tags": []
          },
          "execution_count": 2
        }
      ]
    },
    {
      "cell_type": "markdown",
      "metadata": {
        "id": "YXAb6MO2JPyk"
      },
      "source": [
        "sympy の latex で表示される latex はバックスラッシュがエスケープされている。 colab ではアウトプットにマウスを持っていくとコピーマークがでてそれでこぴーすると、エスケープがなくなり、そのままテキストセルのマークダウンでの記述に使える。\r\n",
        "\r\n",
        "$$\r\n",
        "\\int e^{x} \\cos{\\left (x \\right )}\\, dx\r\n",
        "$$"
      ]
    },
    {
      "cell_type": "code",
      "metadata": {
        "id": "2K1UoidxId-s",
        "colab": {
          "base_uri": "https://localhost:8080/",
          "height": 38
        },
        "outputId": "950aac5b-8c48-48f6-b6ee-e3143dc76b31"
      },
      "source": [
        "# コードセルの %%latex マジックコマンド配下でも使える。\r\n",
        "\r\n",
        "%%latex\r\n",
        "\\int e^{x} \\cos{\\left (x \\right )}\\, dx"
      ],
      "execution_count": null,
      "outputs": [
        {
          "output_type": "display_data",
          "data": {
            "text/latex": "\\int e^{x} \\cos{\\left (x \\right )}\\, dx",
            "text/plain": [
              "<IPython.core.display.Latex object>"
            ]
          },
          "metadata": {
            "tags": []
          }
        }
      ]
    },
    {
      "cell_type": "markdown",
      "metadata": {
        "id": "XhmENih9MRB-"
      },
      "source": [
        "# 添字について"
      ]
    },
    {
      "cell_type": "markdown",
      "metadata": {
        "id": "67v8LW8zMYXK"
      },
      "source": [
        "# いまここ"
      ]
    },
    {
      "cell_type": "code",
      "metadata": {
        "colab": {
          "base_uri": "https://localhost:8080/",
          "height": 38
        },
        "id": "WIC0dVQdni1a",
        "outputId": "3eda6caf-1801-45e3-d875-4d1b1d4385b1"
      },
      "source": [
        "init_printing()\r\n",
        "display (a)"
      ],
      "execution_count": null,
      "outputs": [
        {
          "output_type": "display_data",
          "data": {
            "image/png": "[encoded data removed]",
            "text/latex": "$$\\int e^{x} \\cos{\\left (x \\right )}\\, dx$$",
            "text/plain": [
              "⌠             \n",
              "⎮  x          \n",
              "⎮ ℯ ⋅cos(x) dx\n",
              "⌡             "
            ]
          },
          "metadata": {
            "tags": []
          }
        }
      ]
    },
    {
      "cell_type": "code",
      "metadata": {
        "colab": {
          "base_uri": "https://localhost:8080/",
          "height": 39
        },
        "id": "QVkv7zJwnxLe",
        "outputId": "8753a35b-3e49-48c5-97ac-1c2df101ee30"
      },
      "source": [
        "display(Eq(a, a.doit()))"
      ],
      "execution_count": null,
      "outputs": [
        {
          "output_type": "display_data",
          "data": {
            "image/png": "[encoded data removed]",
            "text/latex": "$$\\int e^{x} \\cos{\\left (x \\right )}\\, dx = \\frac{e^{x}}{2} \\sin{\\left (x \\right )} + \\frac{e^{x}}{2} \\cos{\\left (x \\right )}$$",
            "text/plain": [
              "⌠                 x           x       \n",
              "⎮  x             ℯ ⋅sin(x)   ℯ ⋅cos(x)\n",
              "⎮ ℯ ⋅cos(x) dx = ───────── + ─────────\n",
              "⌡                    2           2    "
            ]
          },
          "metadata": {
            "tags": []
          }
        }
      ]
    },
    {
      "cell_type": "code",
      "metadata": {
        "colab": {
          "base_uri": "https://localhost:8080/",
          "height": 39
        },
        "id": "kyMnua1sn_-q",
        "outputId": "9e438ca2-6eda-4d57-f104-9f05e1d8acb7"
      },
      "source": [
        "display(Eq(Integral(exp(x)*cos(x), x), exp(x)*sin(x)/2 + exp(x)*cos(x)/2))"
      ],
      "execution_count": null,
      "outputs": [
        {
          "output_type": "display_data",
          "data": {
            "image/png": "[encoded data removed]",
            "text/latex": "$$\\int e^{x} \\cos{\\left (x \\right )}\\, dx = \\frac{e^{x}}{2} \\sin{\\left (x \\right )} + \\frac{e^{x}}{2} \\cos{\\left (x \\right )}$$",
            "text/plain": [
              "⌠                 x           x       \n",
              "⎮  x             ℯ ⋅sin(x)   ℯ ⋅cos(x)\n",
              "⎮ ℯ ⋅cos(x) dx = ───────── + ─────────\n",
              "⌡                    2           2    "
            ]
          },
          "metadata": {
            "tags": []
          }
        }
      ]
    },
    {
      "cell_type": "code",
      "metadata": {
        "id": "9CNaqdYCpzVr",
        "colab": {
          "base_uri": "https://localhost:8080/",
          "height": 58
        },
        "outputId": "45b64263-4ff2-4053-e3f7-e24496021752"
      },
      "source": [
        "from sympy import *\r\n",
        "init_printing()\r\n",
        "display(sqrt(3))\r\n",
        "display(sqrt(8))"
      ],
      "execution_count": null,
      "outputs": [
        {
          "output_type": "display_data",
          "data": {
            "image/png": "[encoded data removed]",
            "text/latex": "$$\\sqrt{3}$$",
            "text/plain": [
              "√3"
            ]
          },
          "metadata": {
            "tags": []
          }
        },
        {
          "output_type": "display_data",
          "data": {
            "image/png": "[encoded data removed]",
            "text/latex": "$$2 \\sqrt{2}$$",
            "text/plain": [
              "2⋅√2"
            ]
          },
          "metadata": {
            "tags": []
          }
        }
      ]
    },
    {
      "cell_type": "markdown",
      "metadata": {
        "id": "WvdFvb6FrL3u"
      },
      "source": [
        "# 数式とプログラムとlatexの相互変換"
      ]
    },
    {
      "cell_type": "code",
      "metadata": {
        "id": "2Yh1z71ArcZq",
        "colab": {
          "base_uri": "https://localhost:8080/",
          "height": 35
        },
        "outputId": "37556ee8-bde5-469e-c1d8-8779e4e2a147"
      },
      "source": [
        "x = symbols('x')\r\n",
        "latex(2/x)"
      ],
      "execution_count": null,
      "outputs": [
        {
          "output_type": "execute_result",
          "data": {
            "application/vnd.google.colaboratory.intrinsic+json": {
              "type": "string"
            },
            "text/plain": [
              "'\\\\frac{2}{x}'"
            ]
          },
          "metadata": {
            "tags": []
          },
          "execution_count": 11
        }
      ]
    },
    {
      "cell_type": "code",
      "metadata": {
        "id": "uES-JJSIr2Sk",
        "colab": {
          "base_uri": "https://localhost:8080/",
          "height": 53
        },
        "outputId": "fbc6abf6-0c58-48fe-be24-166a199d5bd0"
      },
      "source": [
        "latex(Eq(Integral(exp(x)*cos(x), x), exp(x)*sin(x)/2 + exp(x)*cos(x)/2))"
      ],
      "execution_count": null,
      "outputs": [
        {
          "output_type": "execute_result",
          "data": {
            "application/vnd.google.colaboratory.intrinsic+json": {
              "type": "string"
            },
            "text/plain": [
              "'\\\\int e^{x} \\\\cos{\\\\left (x \\\\right )}\\\\, dx = \\\\frac{e^{x}}{2} \\\\sin{\\\\left (x \\\\right )} + \\\\frac{e^{x}}{2} \\\\cos{\\\\left (x \\\\right )}'"
            ]
          },
          "metadata": {
            "tags": []
          },
          "execution_count": 12
        }
      ]
    },
    {
      "cell_type": "markdown",
      "metadata": {
        "id": "B8wKbBGgr6AD"
      },
      "source": [
        "$$\r\n",
        "\\int e^{x} \\cos{\\left (x \\right )}\\, dx = \\frac{e^{x}}{2} \\sin{\\left (x \\right )} + \\frac{e^{x}}{2} \\cos{\\left (x \\right )}\r\n",
        "$$"
      ]
    },
    {
      "cell_type": "code",
      "metadata": {
        "id": "dhReQK5KsBM6",
        "colab": {
          "base_uri": "https://localhost:8080/",
          "height": 39
        },
        "outputId": "92f585c9-bee5-4b8b-a4a7-e38942125aed"
      },
      "source": [
        "%%latex\r\n",
        "\\int e^{x} \\cos{\\left (x \\right )}\\, dx = \\frac{e^{x}}{2} \\sin{\\left (x \\right )} + \\frac{e^{x}}{2} \\cos{\\left (x \\right )}"
      ],
      "execution_count": null,
      "outputs": [
        {
          "output_type": "display_data",
          "data": {
            "text/latex": "\\int e^{x} \\cos{\\left (x \\right )}\\, dx = \\frac{e^{x}}{2} \\sin{\\left (x \\right )} + \\frac{e^{x}}{2} \\cos{\\left (x \\right )}",
            "text/plain": [
              "<IPython.core.display.Latex object>"
            ]
          },
          "metadata": {
            "tags": []
          }
        }
      ]
    },
    {
      "cell_type": "markdown",
      "metadata": {
        "id": "xsORqx9msXQF"
      },
      "source": [
        "# とりあえず何で書くか\r\n",
        "数式を latex で書くと、\r\n",
        "1. Markdown で書けるのは便利。 ソースが隠れる。\r\n",
        "1. %%latex で書くとソースが見れる。\r\n",
        "1. sympy を使うと display で アウトプット、latex で ソースを出力できる。\r\n",
        "1. 多分多くの場合 sympy を使うのが一番便利だろう。"
      ]
    },
    {
      "cell_type": "code",
      "metadata": {
        "id": "Y5ehjdFuLMjh",
        "outputId": "d9edf73c-5419-4887-9872-25617ca99454",
        "colab": {
          "base_uri": "https://localhost:8080/",
          "height": 58
        }
      },
      "source": [
        "import sympy\r\n",
        "sympy.init_printing()\r\n",
        "sympy.var('m11, m12, n11, n21')\r\n",
        "sympy.var('a11, a12, a21, a22, b11, b12, b21, b22') \r\n",
        "M = sympy.Matrix([\r\n",
        "[m11,m12]\r\n",
        "])\r\n",
        "N = sympy.Matrix([\r\n",
        "[n11],\r\n",
        "[n21]\r\n",
        "])\r\n",
        "A = sympy.Matrix([\r\n",
        "[a11,a12],\r\n",
        "[a21,a22]\r\n",
        "])\r\n",
        "B = sympy.Matrix([\r\n",
        "[b11,b12],\r\n",
        "[b21,b22]\r\n",
        "])\r\n",
        "display(B)"
      ],
      "execution_count": 5,
      "outputs": [
        {
          "output_type": "display_data",
          "data": {
            "text/latex": "$$\\left[\\begin{matrix}b_{11} & b_{12}\\\\b_{21} & b_{22}\\end{matrix}\\right]$$",
            "text/plain": [
              "⎡b₁₁  b₁₂⎤\n",
              "⎢        ⎥\n",
              "⎣b₂₁  b₂₂⎦"
            ]
          },
          "metadata": {
            "tags": []
          }
        }
      ]
    },
    {
      "cell_type": "markdown",
      "metadata": {
        "id": "v01QzL5apTKf"
      },
      "source": [
        "# いまここ\r\n",
        "https://docs.sympy.org/latest/tutorial/intro.html"
      ]
    }
  ]
}