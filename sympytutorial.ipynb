{
  "nbformat": 4,
  "nbformat_minor": 0,
  "metadata": {
    "colab": {
      "name": "sympytutorial.ipynb",
      "provenance": [],
      "toc_visible": true,
      "authorship_tag": "ABX9TyM9/XWh9F/0VUxN0FkOMQyW",
      "include_colab_link": true
    },
    "kernelspec": {
      "name": "python3",
      "display_name": "Python 3"
    }
  },
  "cells": [
    {
      "cell_type": "markdown",
      "metadata": {
        "id": "view-in-github",
        "colab_type": "text"
      },
      "source": [
        "<a href=\"https://colab.research.google.com/github/kalz2q/mycolabnotebooks/blob/master/sympytutorial.ipynb\" target=\"_parent\"><img src=\"https://colab.research.google.com/assets/colab-badge.svg\" alt=\"Open In Colab\"/></a>"
      ]
    },
    {
      "cell_type": "code",
      "metadata": {
        "id": "4fb4GXo3nP2C"
      },
      "source": [
        ""
      ],
      "execution_count": null,
      "outputs": []
    },
    {
      "cell_type": "markdown",
      "metadata": {
        "id": "9mr5BgvinSCv"
      },
      "source": [
        "# メモ\r\n",
        "https://docs.sympy.org/latest/tutorial/\r\n",
        "を読む。\r\n"
      ]
    },
    {
      "cell_type": "code",
      "metadata": {
        "colab": {
          "base_uri": "https://localhost:8080/"
        },
        "id": "WQeBHtR1nXBt",
        "outputId": "4489792d-a87c-4d39-eff6-e50b86e95ec2"
      },
      "source": [
        "# 最初の例\r\n",
        "from sympy import *\r\n",
        "x = symbols('x')\r\n",
        "a = Integral(cos(x)*exp(x), x)\r\n",
        "Eq(a, a.doit())\r\n",
        "Eq(Integral(exp(x)*cos(x), x), exp(x)*sin(x)/2 + exp(x)*cos(x)/2)"
      ],
      "execution_count": 1,
      "outputs": [
        {
          "output_type": "execute_result",
          "data": {
            "text/plain": [
              "Eq(Integral(exp(x)*cos(x), x), exp(x)*sin(x)/2 + exp(x)*cos(x)/2)"
            ]
          },
          "metadata": {
            "tags": []
          },
          "execution_count": 1
        }
      ]
    },
    {
      "cell_type": "code",
      "metadata": {
        "colab": {
          "base_uri": "https://localhost:8080/",
          "height": 38
        },
        "id": "WIC0dVQdni1a",
        "outputId": "3eda6caf-1801-45e3-d875-4d1b1d4385b1"
      },
      "source": [
        "init_printing()\r\n",
        "display (a)"
      ],
      "execution_count": 3,
      "outputs": [
        {
          "output_type": "display_data",
          "data": {
            "image/png": "[encoded data removed]",
            "text/latex": "$$\\int e^{x} \\cos{\\left (x \\right )}\\, dx$$",
            "text/plain": [
              "⌠             \n",
              "⎮  x          \n",
              "⎮ ℯ ⋅cos(x) dx\n",
              "⌡             "
            ]
          },
          "metadata": {
            "tags": []
          }
        }
      ]
    },
    {
      "cell_type": "code",
      "metadata": {
        "colab": {
          "base_uri": "https://localhost:8080/",
          "height": 39
        },
        "id": "QVkv7zJwnxLe",
        "outputId": "8753a35b-3e49-48c5-97ac-1c2df101ee30"
      },
      "source": [
        "display(Eq(a, a.doit()))"
      ],
      "execution_count": 4,
      "outputs": [
        {
          "output_type": "display_data",
          "data": {
            "image/png": "[encoded data removed]",
            "text/latex": "$$\\int e^{x} \\cos{\\left (x \\right )}\\, dx = \\frac{e^{x}}{2} \\sin{\\left (x \\right )} + \\frac{e^{x}}{2} \\cos{\\left (x \\right )}$$",
            "text/plain": [
              "⌠                 x           x       \n",
              "⎮  x             ℯ ⋅sin(x)   ℯ ⋅cos(x)\n",
              "⎮ ℯ ⋅cos(x) dx = ───────── + ─────────\n",
              "⌡                    2           2    "
            ]
          },
          "metadata": {
            "tags": []
          }
        }
      ]
    },
    {
      "cell_type": "code",
      "metadata": {
        "colab": {
          "base_uri": "https://localhost:8080/",
          "height": 39
        },
        "id": "kyMnua1sn_-q",
        "outputId": "9e438ca2-6eda-4d57-f104-9f05e1d8acb7"
      },
      "source": [
        "display(Eq(Integral(exp(x)*cos(x), x), exp(x)*sin(x)/2 + exp(x)*cos(x)/2))"
      ],
      "execution_count": 5,
      "outputs": [
        {
          "output_type": "display_data",
          "data": {
            "image/png": "[encoded data removed]",
            "text/latex": "$$\\int e^{x} \\cos{\\left (x \\right )}\\, dx = \\frac{e^{x}}{2} \\sin{\\left (x \\right )} + \\frac{e^{x}}{2} \\cos{\\left (x \\right )}$$",
            "text/plain": [
              "⌠                 x           x       \n",
              "⎮  x             ℯ ⋅sin(x)   ℯ ⋅cos(x)\n",
              "⎮ ℯ ⋅cos(x) dx = ───────── + ─────────\n",
              "⌡                    2           2    "
            ]
          },
          "metadata": {
            "tags": []
          }
        }
      ]
    },
    {
      "cell_type": "markdown",
      "metadata": {
        "id": "v01QzL5apTKf"
      },
      "source": [
        "# いまここ\r\n",
        "https://docs.sympy.org/latest/tutorial/intro.html"
      ]
    }
  ]
}