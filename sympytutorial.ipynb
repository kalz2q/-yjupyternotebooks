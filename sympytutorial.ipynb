{
  "nbformat": 4,
  "nbformat_minor": 0,
  "metadata": {
    "colab": {
      "name": "sympytutorial.ipynb",
      "provenance": [],
      "toc_visible": true,
      "authorship_tag": "ABX9TyNZPxzWIWVMmGSXV7shrPcG",
      "include_colab_link": true
    },
    "kernelspec": {
      "name": "python3",
      "display_name": "Python 3"
    }
  },
  "cells": [
    {
      "cell_type": "markdown",
      "metadata": {
        "id": "view-in-github",
        "colab_type": "text"
      },
      "source": [
        "<a href=\"https://colab.research.google.com/github/kalz2q/mycolabnotebooks/blob/master/sympytutorial.ipynb\" target=\"_parent\"><img src=\"https://colab.research.google.com/assets/colab-badge.svg\" alt=\"Open In Colab\"/></a>"
      ]
    },
    {
      "cell_type": "markdown",
      "metadata": {
        "id": "9mr5BgvinSCv"
      },
      "source": [
        "# メモ\r\n",
        "1. 本家チュートリアル  \r\n",
        "https://docs.sympy.org/latest/tutorial/\r\n"
      ]
    },
    {
      "cell_type": "code",
      "metadata": {
        "colab": {
          "base_uri": "https://localhost:8080/",
          "height": 61
        },
        "id": "WQeBHtR1nXBt",
        "outputId": "74b2da48-7a22-4a28-9dc2-6ec8527c1c3e"
      },
      "source": [
        "# 最初の例  方程式のイコールはEq()を使う\r\n",
        "from sympy import *\r\n",
        "init_printing()\r\n",
        "\r\n",
        "x = symbols('x')\r\n",
        "a = Integral(cos(x)*exp(x), x)\r\n",
        "display(Eq(a, a.doit()))\r\n",
        "display(Eq(Integral(exp(x)*cos(x), x), exp(x)*sin(x)/2 + exp(x)*cos(x)/2))"
      ],
      "execution_count": null,
      "outputs": [
        {
          "output_type": "display_data",
          "data": {
            "image/png": "[encoded data removed]",
            "text/latex": "$$\\int e^{x} \\cos{\\left (x \\right )}\\, dx = \\frac{e^{x}}{2} \\sin{\\left (x \\right )} + \\frac{e^{x}}{2} \\cos{\\left (x \\right )}$$",
            "text/plain": [
              "⌠                 x           x       \n",
              "⎮  x             ℯ ⋅sin(x)   ℯ ⋅cos(x)\n",
              "⎮ ℯ ⋅cos(x) dx = ───────── + ─────────\n",
              "⌡                    2           2    "
            ]
          },
          "metadata": {
            "tags": []
          }
        },
        {
          "output_type": "display_data",
          "data": {
            "image/png": "[encoded data removed]",
            "text/latex": "$$\\int e^{x} \\cos{\\left (x \\right )}\\, dx = \\frac{e^{x}}{2} \\sin{\\left (x \\right )} + \\frac{e^{x}}{2} \\cos{\\left (x \\right )}$$",
            "text/plain": [
              "⌠                 x           x       \n",
              "⎮  x             ℯ ⋅sin(x)   ℯ ⋅cos(x)\n",
              "⎮ ℯ ⋅cos(x) dx = ───────── + ─────────\n",
              "⌡                    2           2    "
            ]
          },
          "metadata": {
            "tags": []
          }
        }
      ]
    },
    {
      "cell_type": "code",
      "metadata": {
        "id": "6VXDsjiiJEfj",
        "colab": {
          "base_uri": "https://localhost:8080/",
          "height": 35
        },
        "outputId": "b1985539-3208-42ce-b0fe-349f3ccc009c"
      },
      "source": [
        "# 実験\r\n",
        "from sympy import *\r\n",
        "init_printing()\r\n",
        "latex(Integral(cos(x)*exp(x), x))"
      ],
      "execution_count": null,
      "outputs": [
        {
          "output_type": "execute_result",
          "data": {
            "application/vnd.google.colaboratory.intrinsic+json": {
              "type": "string"
            },
            "text/plain": [
              "'\\\\int e^{x} \\\\cos{\\\\left (x \\\\right )}\\\\, dx'"
            ]
          },
          "metadata": {
            "tags": []
          },
          "execution_count": 2
        }
      ]
    },
    {
      "cell_type": "markdown",
      "metadata": {
        "id": "YXAb6MO2JPyk"
      },
      "source": [
        "sympy の latex で表示される latex はバックスラッシュがエスケープされている。 colab ではアウトプットにマウスを持っていくとコピーマークがでてそれでコピーすると、エスケープがなくなり、そのままテキストセルのマークダウンでの記述に使える。\r\n",
        "\r\n",
        "$$\r\n",
        "\\int e^{x} \\cos{\\left (x \\right )}\\, dx\r\n",
        "$$"
      ]
    },
    {
      "cell_type": "code",
      "metadata": {
        "id": "2K1UoidxId-s",
        "colab": {
          "base_uri": "https://localhost:8080/",
          "height": 38
        },
        "outputId": "950aac5b-8c48-48f6-b6ee-e3143dc76b31"
      },
      "source": [
        "# コードセルの %%latex マジックコマンド配下でも使える。\r\n",
        "%%latex\r\n",
        "\\int e^{x} \\cos{\\left (x \\right )}\\, dx"
      ],
      "execution_count": null,
      "outputs": [
        {
          "output_type": "display_data",
          "data": {
            "text/latex": "\\int e^{x} \\cos{\\left (x \\right )}\\, dx",
            "text/plain": [
              "<IPython.core.display.Latex object>"
            ]
          },
          "metadata": {
            "tags": []
          }
        }
      ]
    },
    {
      "cell_type": "markdown",
      "metadata": {
        "id": "XhmENih9MRB-"
      },
      "source": [
        "# 添字について"
      ]
    },
    {
      "cell_type": "code",
      "metadata": {
        "id": "bEM_SRVtiHWt",
        "colab": {
          "base_uri": "https://localhost:8080/",
          "height": 211
        },
        "outputId": "8a92461c-c2f5-4699-ceb0-8ba741ef6e31"
      },
      "source": [
        "# 実験\r\n",
        "from sympy import *\r\n",
        "init_printing()\r\n",
        "display(symbols('x'))\r\n",
        "display(symbols('x,'))\r\n",
        "display(symbols('a b c'))\r\n",
        "display(symbols(['a' 'b' 'c']))\r\n",
        "display(symbols(['a', 'b', 'c']))\r\n",
        "display(symbols('a1:3(1:3)'))\r\n",
        "display(symbols(('x5:10', 'y:5')))\r\n",
        "display(symbols('x:z'))\r\n",
        "display(symbols('x(:c)'))"
      ],
      "execution_count": null,
      "outputs": [
        {
          "output_type": "display_data",
          "data": {
            "image/png": "[encoded data removed]",
            "text/latex": "$$x$$",
            "text/plain": [
              "x"
            ]
          },
          "metadata": {
            "tags": []
          }
        },
        {
          "output_type": "display_data",
          "data": {
            "image/png": "[encoded data removed]",
            "text/latex": "$$\\left ( x\\right )$$",
            "text/plain": [
              "(x,)"
            ]
          },
          "metadata": {
            "tags": []
          }
        },
        {
          "output_type": "display_data",
          "data": {
            "image/png": "[encoded data removed]",
            "text/latex": "$$\\left ( a, \\quad b, \\quad c\\right )$$",
            "text/plain": [
              "(a, b, c)"
            ]
          },
          "metadata": {
            "tags": []
          }
        },
        {
          "output_type": "display_data",
          "data": {
            "image/png": "[encoded data removed]",
            "text/latex": "$$\\left [ abc\\right ]$$",
            "text/plain": [
              "[abc]"
            ]
          },
          "metadata": {
            "tags": []
          }
        },
        {
          "output_type": "display_data",
          "data": {
            "image/png": "[encoded data removed]",
            "text/latex": "$$\\left [ a, \\quad b, \\quad c\\right ]$$",
            "text/plain": [
              "[a, b, c]"
            ]
          },
          "metadata": {
            "tags": []
          }
        },
        {
          "output_type": "display_data",
          "data": {
            "image/png": "[encoded data removed]",
            "text/latex": "$$\\left ( a_{11}, \\quad a_{12}, \\quad a_{21}, \\quad a_{22}\\right )$$",
            "text/plain": [
              "(a₁₁, a₁₂, a₂₁, a₂₂)"
            ]
          },
          "metadata": {
            "tags": []
          }
        },
        {
          "output_type": "display_data",
          "data": {
            "image/png": "[encoded data removed]",
            "text/latex": "$$\\left ( \\left ( x_{5}, \\quad x_{6}, \\quad x_{7}, \\quad x_{8}, \\quad x_{9}\\right ), \\quad \\left ( y_{0}, \\quad y_{1}, \\quad y_{2}, \\quad y_{3}, \\quad y_{4}\\right )\\right )$$",
            "text/plain": [
              "((x₅, x₆, x₇, x₈, x₉), (y₀, y₁, y₂, y₃, y₄))"
            ]
          },
          "metadata": {
            "tags": []
          }
        },
        {
          "output_type": "display_data",
          "data": {
            "image/png": "[encoded data removed]",
            "text/latex": "$$\\left ( x, \\quad y, \\quad z\\right )$$",
            "text/plain": [
              "(x, y, z)"
            ]
          },
          "metadata": {
            "tags": []
          }
        },
        {
          "output_type": "display_data",
          "data": {
            "image/png": "[encoded data removed]",
            "text/latex": "$$\\left ( xa, \\quad xb, \\quad xc\\right )$$",
            "text/plain": [
              "(xa, xb, xc)"
            ]
          },
          "metadata": {
            "tags": []
          }
        }
      ]
    },
    {
      "cell_type": "code",
      "metadata": {
        "id": "9CNaqdYCpzVr",
        "colab": {
          "base_uri": "https://localhost:8080/",
          "height": 58
        },
        "outputId": "45b64263-4ff2-4053-e3f7-e24496021752"
      },
      "source": [
        "from sympy import *\r\n",
        "init_printing()\r\n",
        "display(sqrt(3))\r\n",
        "display(sqrt(8))"
      ],
      "execution_count": null,
      "outputs": [
        {
          "output_type": "display_data",
          "data": {
            "image/png": "[encoded data removed]",
            "text/latex": "$$\\sqrt{3}$$",
            "text/plain": [
              "√3"
            ]
          },
          "metadata": {
            "tags": []
          }
        },
        {
          "output_type": "display_data",
          "data": {
            "image/png": "[encoded data removed]",
            "text/latex": "$$2 \\sqrt{2}$$",
            "text/plain": [
              "2⋅√2"
            ]
          },
          "metadata": {
            "tags": []
          }
        }
      ]
    },
    {
      "cell_type": "markdown",
      "metadata": {
        "id": "WvdFvb6FrL3u"
      },
      "source": [
        "# 数式とプログラムとlatexの相互変換"
      ]
    },
    {
      "cell_type": "code",
      "metadata": {
        "id": "2Yh1z71ArcZq",
        "colab": {
          "base_uri": "https://localhost:8080/",
          "height": 35
        },
        "outputId": "bae8d789-242d-4b49-aed4-97cc2db6460c"
      },
      "source": [
        "from sympy import *\r\n",
        "init_printing()\r\n",
        "x = symbols('x')\r\n",
        "latex(2/x)"
      ],
      "execution_count": null,
      "outputs": [
        {
          "output_type": "execute_result",
          "data": {
            "application/vnd.google.colaboratory.intrinsic+json": {
              "type": "string"
            },
            "text/plain": [
              "'\\\\frac{2}{x}'"
            ]
          },
          "metadata": {
            "tags": []
          },
          "execution_count": 25
        }
      ]
    },
    {
      "cell_type": "code",
      "metadata": {
        "id": "xFf15UorujQp",
        "colab": {
          "base_uri": "https://localhost:8080/",
          "height": 38
        },
        "outputId": "e0bca9b3-f817-4cfa-bb17-0723db524163"
      },
      "source": [
        "%%latex\r\n",
        "\\frac{2}{x}"
      ],
      "execution_count": null,
      "outputs": [
        {
          "output_type": "display_data",
          "data": {
            "text/latex": "\\frac{2}{x}",
            "text/plain": [
              "<IPython.core.display.Latex object>"
            ]
          },
          "metadata": {
            "tags": []
          }
        }
      ]
    },
    {
      "cell_type": "code",
      "metadata": {
        "id": "uES-JJSIr2Sk",
        "colab": {
          "base_uri": "https://localhost:8080/",
          "height": 53
        },
        "outputId": "fbc6abf6-0c58-48fe-be24-166a199d5bd0"
      },
      "source": [
        "latex(Eq(Integral(exp(x)*cos(x), x), exp(x)*sin(x)/2 + exp(x)*cos(x)/2))"
      ],
      "execution_count": null,
      "outputs": [
        {
          "output_type": "execute_result",
          "data": {
            "application/vnd.google.colaboratory.intrinsic+json": {
              "type": "string"
            },
            "text/plain": [
              "'\\\\int e^{x} \\\\cos{\\\\left (x \\\\right )}\\\\, dx = \\\\frac{e^{x}}{2} \\\\sin{\\\\left (x \\\\right )} + \\\\frac{e^{x}}{2} \\\\cos{\\\\left (x \\\\right )}'"
            ]
          },
          "metadata": {
            "tags": []
          },
          "execution_count": 12
        }
      ]
    },
    {
      "cell_type": "code",
      "metadata": {
        "id": "na4AtSLWuqsJ",
        "colab": {
          "base_uri": "https://localhost:8080/",
          "height": 39
        },
        "outputId": "eb470794-bade-4a81-c537-ef790943f41f"
      },
      "source": [
        "%%latex\r\n",
        "\\int e^{x} \\cos{\\left (x \\right )}\\, dx = \\frac{e^{x}}{2} \\sin{\\left (x \\right )} + \\frac{e^{x}}{2} \\cos{\\left (x \\right )}"
      ],
      "execution_count": null,
      "outputs": [
        {
          "output_type": "display_data",
          "data": {
            "text/latex": "\\int e^{x} \\cos{\\left (x \\right )}\\, dx = \\frac{e^{x}}{2} \\sin{\\left (x \\right )} + \\frac{e^{x}}{2} \\cos{\\left (x \\right )}",
            "text/plain": [
              "<IPython.core.display.Latex object>"
            ]
          },
          "metadata": {
            "tags": []
          }
        }
      ]
    },
    {
      "cell_type": "code",
      "metadata": {
        "id": "Y5ehjdFuLMjh",
        "colab": {
          "base_uri": "https://localhost:8080/",
          "height": 161
        },
        "outputId": "9c1dfbe7-f549-48ea-a915-271be66a9605"
      },
      "source": [
        "from sympy import *\r\n",
        "init_printing()\r\n",
        "var('m11, m12, n11, n21')\r\n",
        "var('a11, a12, a21, a22, b11, b12, b21, b22')\r\n",
        "M = Matrix([\r\n",
        "    [m11, m12]\r\n",
        "])\r\n",
        "N = Matrix([\r\n",
        "    [n11],\r\n",
        "    [n21]\r\n",
        "])\r\n",
        "A = Matrix([\r\n",
        "    [a11, a12],\r\n",
        "    [a21, a22]\r\n",
        "])\r\n",
        "B = Matrix([\r\n",
        "    [b11, b12],\r\n",
        "    [b21, b22]\r\n",
        "])\r\n",
        "display(M)\r\n",
        "display(N)\r\n",
        "display(A)\r\n",
        "display(B)"
      ],
      "execution_count": null,
      "outputs": [
        {
          "output_type": "display_data",
          "data": {
            "text/latex": "$$\\left[\\begin{matrix}m_{11} & m_{12}\\end{matrix}\\right]$$",
            "text/plain": [
              "[m₁₁  m₁₂]"
            ]
          },
          "metadata": {
            "tags": []
          }
        },
        {
          "output_type": "display_data",
          "data": {
            "text/latex": "$$\\left[\\begin{matrix}n_{11}\\\\n_{21}\\end{matrix}\\right]$$",
            "text/plain": [
              "⎡n₁₁⎤\n",
              "⎢   ⎥\n",
              "⎣n₂₁⎦"
            ]
          },
          "metadata": {
            "tags": []
          }
        },
        {
          "output_type": "display_data",
          "data": {
            "text/latex": "$$\\left[\\begin{matrix}a_{11} & a_{12}\\\\a_{21} & a_{22}\\end{matrix}\\right]$$",
            "text/plain": [
              "⎡a₁₁  a₁₂⎤\n",
              "⎢        ⎥\n",
              "⎣a₂₁  a₂₂⎦"
            ]
          },
          "metadata": {
            "tags": []
          }
        },
        {
          "output_type": "display_data",
          "data": {
            "text/latex": "$$\\left[\\begin{matrix}b_{11} & b_{12}\\\\b_{21} & b_{22}\\end{matrix}\\right]$$",
            "text/plain": [
              "⎡b₁₁  b₁₂⎤\n",
              "⎢        ⎥\n",
              "⎣b₂₁  b₂₂⎦"
            ]
          },
          "metadata": {
            "tags": []
          }
        }
      ]
    },
    {
      "cell_type": "markdown",
      "metadata": {
        "id": "-HBN3NHM6YSm"
      },
      "source": [
        "# 実験 var と symbols の違い"
      ]
    },
    {
      "cell_type": "code",
      "metadata": {
        "id": "gKuMww_IzldZ",
        "colab": {
          "base_uri": "https://localhost:8080/",
          "height": 82
        },
        "outputId": "19e93cdf-bc77-4633-d057-d1d5179a5bb7"
      },
      "source": [
        "# 実験 var と symbols の違い\r\n",
        "from sympy import *\r\n",
        "init_printing()\r\n",
        "\r\n",
        "# var('m11, m12, n11, n21') # 変数が定義される\r\n",
        "# var('a11, a12, a21, a22, b11, b12, b21, b22') # 変数が定義される\r\n",
        "display(symbols('m1(1:3), n(1:3)1')) # 変数は定義されない\r\n",
        "display(symbols('a1:3(1:3), b1:3(1:3)')) # 変数は定義されない\r\n",
        "var('m1(1:3), n(1:3)1') # 変数が定義される\r\n",
        "var('a1:3(1:3), b1:3(1:3)') # 変数が定義される\r\n",
        "display((m11, b11, a21)) # 定義されていることの確認"
      ],
      "execution_count": null,
      "outputs": [
        {
          "output_type": "display_data",
          "data": {
            "image/png": "[encoded data removed]",
            "text/latex": "$$\\left ( m_{11}, \\quad m_{12}, \\quad n_{11}, \\quad n_{21}\\right )$$",
            "text/plain": [
              "(m₁₁, m₁₂, n₁₁, n₂₁)"
            ]
          },
          "metadata": {
            "tags": []
          }
        },
        {
          "output_type": "display_data",
          "data": {
            "image/png": "[encoded data removed]",
            "text/latex": "$$\\left ( a_{11}, \\quad a_{12}, \\quad a_{21}, \\quad a_{22}, \\quad b_{11}, \\quad b_{12}, \\quad b_{21}, \\quad b_{22}\\right )$$",
            "text/plain": [
              "(a₁₁, a₁₂, a₂₁, a₂₂, b₁₁, b₁₂, b₂₁, b₂₂)"
            ]
          },
          "metadata": {
            "tags": []
          }
        },
        {
          "output_type": "display_data",
          "data": {
            "image/png": "[encoded data removed]",
            "text/latex": "$$\\left ( m_{11}, \\quad b_{11}, \\quad a_{21}\\right )$$",
            "text/plain": [
              "(m₁₁, b₁₁, a₂₁)"
            ]
          },
          "metadata": {
            "tags": []
          }
        }
      ]
    },
    {
      "cell_type": "markdown",
      "metadata": {
        "id": "ouK3K3Z0gVSk"
      },
      "source": [
        "# sqrt()"
      ]
    },
    {
      "cell_type": "code",
      "metadata": {
        "id": "h4d8mZLRgYhJ",
        "outputId": "dbbe0f5e-d8a8-4d05-e4e6-f8413dd2fb99",
        "colab": {
          "base_uri": "https://localhost:8080/",
          "height": 100
        }
      },
      "source": [
        "from sympy import *\r\n",
        "init_printing()\r\n",
        "\r\n",
        "display(sqrt(8))\r\n",
        "display(sqrt(8)*sqrt(2))\r\n",
        "display(pi)\r\n",
        "display(E)"
      ],
      "execution_count": 8,
      "outputs": [
        {
          "output_type": "display_data",
          "data": {
            "image/png": "[encoded data removed]",
            "text/latex": "$$2 \\sqrt{2}$$",
            "text/plain": [
              "2⋅√2"
            ]
          },
          "metadata": {
            "tags": []
          }
        },
        {
          "output_type": "display_data",
          "data": {
            "image/png": "[encoded data removed]",
            "text/latex": "$$4$$",
            "text/plain": [
              "4"
            ]
          },
          "metadata": {
            "tags": []
          }
        },
        {
          "output_type": "display_data",
          "data": {
            "image/png": "[encoded data removed]",
            "text/latex": "$$\\pi$$",
            "text/plain": [
              "π"
            ]
          },
          "metadata": {
            "tags": []
          }
        },
        {
          "output_type": "display_data",
          "data": {
            "image/png": "[encoded data removed]",
            "text/latex": "$$e$$",
            "text/plain": [
              "ℯ"
            ]
          },
          "metadata": {
            "tags": []
          }
        }
      ]
    },
    {
      "cell_type": "code",
      "metadata": {
        "id": "ubvMWAiyg4JL",
        "outputId": "d56770d4-88bc-4595-eb08-ae592f247890",
        "colab": {
          "base_uri": "https://localhost:8080/",
          "height": 38
        }
      },
      "source": [
        "from sympy import *\r\n",
        "init_printing()\r\n",
        "\r\n",
        "x, y = symbols('x y')\r\n",
        "expr = x + 2*y\r\n",
        "display(expr)"
      ],
      "execution_count": 9,
      "outputs": [
        {
          "output_type": "display_data",
          "data": {
            "image/png": "[encoded data removed]",
            "text/latex": "$$x + 2 y$$",
            "text/plain": [
              "x + 2⋅y"
            ]
          },
          "metadata": {
            "tags": []
          }
        }
      ]
    },
    {
      "cell_type": "markdown",
      "metadata": {
        "id": "v01QzL5apTKf"
      },
      "source": [
        "# いまここ\r\n",
        "https://docs.sympy.org/latest/tutorial/intro.html"
      ]
    }
  ]
}