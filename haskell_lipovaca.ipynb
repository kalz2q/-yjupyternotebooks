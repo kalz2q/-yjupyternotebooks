{
  "nbformat": 4,
  "nbformat_minor": 0,
  "metadata": {
    "colab": {
      "name": "haskell_lipovaca.ipynb",
      "provenance": [],
      "toc_visible": true,
      "authorship_tag": "ABX9TyMCfCknPKW9Tm8AIw+ehLIi",
      "include_colab_link": true
    },
    "kernelspec": {
      "name": "python3",
      "display_name": "Python 3"
    },
    "language_info": {
      "name": "python"
    }
  },
  "cells": [
    {
      "cell_type": "markdown",
      "metadata": {
        "id": "view-in-github",
        "colab_type": "text"
      },
      "source": [
        "<a href=\"https://colab.research.google.com/github/kalz2q/mycolabnotebooks/blob/master/haskell_lipovaca.ipynb\" target=\"_parent\"><img src=\"https://colab.research.google.com/assets/colab-badge.svg\" alt=\"Open In Colab\"/></a>"
      ]
    },
    {
      "cell_type": "markdown",
      "source": [
        "# メモ\n",
        "Learn You a Haskell for Great Good! by Miran Lipovača を jupyter notebook にしてくれた人がいる。これを colab 化する。\n",
        "\n",
        "https://github.com/jamesdbrock/learn-you-a-haskell-notebook/tree/master/notebook\n",
        "\n",
        "いまここ  \n",
        "https://colab.research.google.com/github/jamesdbrock/learn-you-a-haskell-notebook/blob/master/notebook/02-starting-out.ipynb"
      ],
      "metadata": {
        "id": "11HWYhSX8JHL"
      }
    },
    {
      "cell_type": "code",
      "source": [
        "# 準備\n",
        "%%capture\n",
        "!apt install haskell-platform"
      ],
      "metadata": {
        "id": "u8BK7s-v9R6o"
      },
      "execution_count": null,
      "outputs": []
    },
    {
      "cell_type": "code",
      "source": [
        "!ghc -e 'putStrLn \"hello world!\"'"
      ],
      "metadata": {
        "id": "eMR9fs65-M3I"
      },
      "execution_count": null,
      "outputs": []
    },
    {
      "cell_type": "code",
      "source": [
        "# ファイルを作る\n",
        "%%writefile hello.hs\n",
        "main = putStrLn \"hello, world\""
      ],
      "metadata": {
        "id": "06N_qZSm-Ng0"
      },
      "execution_count": null,
      "outputs": []
    },
    {
      "cell_type": "code",
      "source": [
        "!runghc hello.hs"
      ],
      "metadata": {
        "id": "Cmw4Q8vV-RGh"
      },
      "execution_count": null,
      "outputs": []
    },
    {
      "cell_type": "code",
      "source": [
        "%%html\n",
        "<table border=\"1\">\n",
        "<thead>\n",
        "<tr><th>Keyboard Command </th><th> Action </th></tr>\n",
        "</thead>\n",
        "<tbody>\n",
        "<tr><td><kbd>Shift</kbd>+<kbd>Enter</kbd> </td><td> Run the selected Jupyter cell and advance to the next cell </td></tr>\n",
        "<tr><td><kbd>Ctrl</kbd>+<kbd>Enter</kbd> </td><td> Run the selected Jupyter cell and don't advance </td></tr>\n",
        "<tr><td><kbd>Alt</kbd>+<kbd>Enter</kbd> </td><td> Run the selected Jupyter cell and insert a new cell after </td></tr>\n",
        "<tr><td><kbd>Enter</kbd> </td><td> Edit the selected Jupyter cell </td></tr>\n",
        "<tr><td><kbd>Ctrl</kbd>+<kbd>Shift</kbd>+<kbd>-</kbd> </td><td> Split the Jupyter cell at the cursor position</td></tr>\n",
        "</tbody>\n",
        "</table>"
      ],
      "metadata": {
        "id": "WROVZMZ0Bl_8"
      },
      "execution_count": null,
      "outputs": []
    },
    {
      "cell_type": "markdown",
      "metadata": {
        "id": "Ofw8HkU4_66G"
      },
      "source": [
        "Here's some simple arithmetic."
      ]
    },
    {
      "cell_type": "code",
      "execution_count": null,
      "metadata": {
        "attributes": {
          "classes": [
            "haskell:",
            "ghci"
          ],
          "id": "",
          "name": "\"code\""
        },
        "id": "nQDSlSkL_66G"
      },
      "outputs": [],
      "source": [
        "!ghc -e '2 + 15'"
      ]
    },
    {
      "cell_type": "code",
      "execution_count": null,
      "metadata": {
        "attributes": {
          "classes": [
            "haskell:",
            "ghci"
          ],
          "id": "",
          "name": "\"code\""
        },
        "id": "QNI5QMaO_66H"
      },
      "outputs": [],
      "source": [
        "!ghc -e '49 * 100'"
      ]
    },
    {
      "cell_type": "code",
      "execution_count": null,
      "metadata": {
        "attributes": {
          "classes": [
            "haskell:",
            "ghci"
          ],
          "id": "",
          "name": "\"code\""
        },
        "id": "FB31kju8_66I",
        "outputId": "52bf2e06-2399-4489-ae35-ae8eccd6250e",
        "colab": {
          "base_uri": "https://localhost:8080/"
        }
      },
      "outputs": [
        {
          "output_type": "stream",
          "name": "stdout",
          "text": [
            "420\n"
          ]
        }
      ],
      "source": [
        "!ghc -e '1892 - 1472'"
      ]
    },
    {
      "cell_type": "code",
      "execution_count": null,
      "metadata": {
        "attributes": {
          "classes": [
            "haskell:",
            "ghci"
          ],
          "id": "",
          "name": "\"code\""
        },
        "id": "gpx8ai_h_66I",
        "outputId": "d71f352a-0659-4da6-8e96-b0f98f016172",
        "colab": {
          "base_uri": "https://localhost:8080/"
        }
      },
      "outputs": [
        {
          "output_type": "stream",
          "name": "stdout",
          "text": [
            "2.5\n"
          ]
        }
      ],
      "source": [
        "!ghc -e '5 / 2' #=> 2.5 になる"
      ]
    },
    {
      "cell_type": "code",
      "execution_count": null,
      "metadata": {
        "attributes": {
          "classes": [
            "haskell:",
            "ghci"
          ],
          "id": "",
          "name": "\"code\""
        },
        "id": "Vc08RRfS_66J",
        "outputId": "90378721-c806-43dc-a8ab-257c421ded56",
        "colab": {
          "base_uri": "https://localhost:8080/"
        }
      },
      "outputs": [
        {
          "output_type": "stream",
          "name": "stdout",
          "text": [
            "1\n"
          ]
        }
      ],
      "source": [
        "!ghc -e '(50 * 100) - 4999'"
      ]
    },
    {
      "cell_type": "code",
      "execution_count": null,
      "metadata": {
        "attributes": {
          "classes": [
            "haskell:",
            "ghci"
          ],
          "id": "",
          "name": "\"code\""
        },
        "id": "JYSOYB-Z_66K",
        "outputId": "a60acd98-d09b-4d37-cbef-cd91f9d8fb7e",
        "colab": {
          "base_uri": "https://localhost:8080/"
        }
      },
      "outputs": [
        {
          "output_type": "stream",
          "name": "stdout",
          "text": [
            "1\n"
          ]
        }
      ],
      "source": [
        "!ghc -e '50 * 100 - 4999'"
      ]
    },
    {
      "cell_type": "code",
      "execution_count": null,
      "metadata": {
        "attributes": {
          "classes": [
            "haskell:",
            "ghci"
          ],
          "id": "",
          "name": "\"code\""
        },
        "id": "r43BCjRU_66K",
        "outputId": "34449c9d-164e-4022-d049-0d47f0e789f9",
        "colab": {
          "base_uri": "https://localhost:8080/"
        }
      },
      "outputs": [
        {
          "output_type": "stream",
          "name": "stdout",
          "text": [
            "-244950\n"
          ]
        }
      ],
      "source": [
        "!ghc -e '50 * (100 - 4999)'"
      ]
    },
    {
      "cell_type": "markdown",
      "metadata": {
        "id": "KIl23s9__66L"
      },
      "source": [
        "Doing\n",
        "`5 * -3` will make GHC yell at you but doing `5 * (-3)` will work just\n",
        "fine.\n",
        "\n",
        "Boolean algebra is also pretty straightforward. As you probably know, [`&&`](https://hackage.haskell.org/package/base/docs/Prelude.html#v:-38--38-)\n",
        "means a boolean *and*, [`||`](https://hackage.haskell.org/package/base/docs/Prelude.html#v:-124--124-) means a boolean *or*. [`not`](https://hackage.haskell.org/package/base/docs/Prelude.html#v:not) negates a [`True`](https://hackage.haskell.org/package/base/docs/Prelude.html#v:True) or a\n",
        "[`False`](https://hackage.haskell.org/package/base/docs/Prelude.html#v:False)."
      ]
    },
    {
      "cell_type": "code",
      "source": [
        "# 次のコードはエラーになる\n",
        "%%script false\n",
        "!ghc -e '5 * -3'"
      ],
      "metadata": {
        "id": "usrAOlpHDtJM"
      },
      "execution_count": null,
      "outputs": []
    },
    {
      "cell_type": "code",
      "source": [
        "!ghc -e '3 == 4' #=> False と出力される"
      ],
      "metadata": {
        "colab": {
          "base_uri": "https://localhost:8080/"
        },
        "id": "xr0hY2zVD41y",
        "outputId": "2f04e1fc-1c99-4051-a7b6-276597b64c11"
      },
      "execution_count": null,
      "outputs": [
        {
          "output_type": "stream",
          "name": "stdout",
          "text": [
            "False\n"
          ]
        }
      ]
    },
    {
      "cell_type": "code",
      "source": [
        "!ghc -e 'True || False' #=> True"
      ],
      "metadata": {
        "colab": {
          "base_uri": "https://localhost:8080/"
        },
        "id": "NuCc20DyEHud",
        "outputId": "2fb0bbc2-6328-4101-e6d7-8f22d4edb848"
      },
      "execution_count": null,
      "outputs": [
        {
          "output_type": "stream",
          "name": "stdout",
          "text": [
            "True\n"
          ]
        }
      ]
    },
    {
      "cell_type": "code",
      "source": [
        "!ghc -e 'False && False' #=> False"
      ],
      "metadata": {
        "colab": {
          "base_uri": "https://localhost:8080/"
        },
        "id": "lG4kjiaDElN0",
        "outputId": "eddcfe4c-0cb1-4c05-f9a7-d3562ec86c13"
      },
      "execution_count": null,
      "outputs": [
        {
          "output_type": "stream",
          "name": "stdout",
          "text": [
            "False\n"
          ]
        }
      ]
    },
    {
      "cell_type": "code",
      "execution_count": null,
      "metadata": {
        "attributes": {
          "classes": [
            "haskell:",
            "ghci"
          ],
          "id": "",
          "name": "\"code\""
        },
        "id": "iQhTGA5m_66L",
        "outputId": "a250c519-fa52-4753-8666-f347759c4da1",
        "colab": {
          "base_uri": "https://localhost:8080/"
        }
      },
      "outputs": [
        {
          "output_type": "stream",
          "name": "stdout",
          "text": [
            "True\n"
          ]
        }
      ],
      "source": [
        "!ghc -e 'True' #=> True"
      ]
    },
    {
      "cell_type": "code",
      "source": [
        "%%script False\n",
        "!ghc -e 'true' #=> error Variable not in scope: true"
      ],
      "metadata": {
        "id": "z4yHtkW0E8n_"
      },
      "execution_count": null,
      "outputs": []
    },
    {
      "cell_type": "code",
      "execution_count": null,
      "metadata": {
        "attributes": {
          "classes": [
            "haskell:",
            "ghci"
          ],
          "id": "",
          "name": "\"code\""
        },
        "id": "tgFzeSu3_66M",
        "outputId": "121d88fb-238b-4459-b835-d19656420b3d",
        "colab": {
          "base_uri": "https://localhost:8080/"
        }
      },
      "outputs": [
        {
          "output_type": "stream",
          "name": "stdout",
          "text": [
            "True\n"
          ]
        }
      ],
      "source": [
        "!ghc -e 'not False'"
      ]
    },
    {
      "cell_type": "code",
      "execution_count": null,
      "metadata": {
        "attributes": {
          "classes": [
            "haskell:",
            "ghci"
          ],
          "id": "",
          "name": "\"code\""
        },
        "id": "cZ4vOEBr_66M",
        "outputId": "686f3eff-0611-40de-9aad-525019fac218",
        "colab": {
          "base_uri": "https://localhost:8080/"
        }
      },
      "outputs": [
        {
          "output_type": "stream",
          "name": "stdout",
          "text": [
            "False\n"
          ]
        }
      ],
      "source": [
        "!ghc -e 'not (True && True)'"
      ]
    },
    {
      "cell_type": "code",
      "execution_count": null,
      "metadata": {
        "attributes": {
          "classes": [
            "haskell:",
            "ghci"
          ],
          "id": "",
          "name": "\"code\""
        },
        "id": "sp9IOGai_66N",
        "outputId": "8197c2bb-6087-4c28-f699-fd2e2a98f14e",
        "colab": {
          "base_uri": "https://localhost:8080/"
        }
      },
      "outputs": [
        {
          "output_type": "stream",
          "name": "stdout",
          "text": [
            "True\n"
          ]
        }
      ],
      "source": [
        "!ghc -e '5 == 5'"
      ]
    },
    {
      "cell_type": "code",
      "execution_count": null,
      "metadata": {
        "attributes": {
          "classes": [
            "haskell:",
            "ghci"
          ],
          "id": "",
          "name": "\"code\""
        },
        "id": "y7qldU1y_66N",
        "outputId": "38067405-a62e-44ce-c48c-7d6de4cf164b",
        "colab": {
          "base_uri": "https://localhost:8080/"
        }
      },
      "outputs": [
        {
          "output_type": "stream",
          "name": "stdout",
          "text": [
            "False\n"
          ]
        }
      ],
      "source": [
        "!ghc -e '1 == 0'"
      ]
    },
    {
      "cell_type": "code",
      "execution_count": null,
      "metadata": {
        "attributes": {
          "classes": [
            "haskell:",
            "ghci"
          ],
          "id": "",
          "name": "\"code\""
        },
        "id": "l1kHrjdD_66O",
        "outputId": "0e099aef-8d29-4fe4-c9ca-a8e619b5fd62",
        "colab": {
          "base_uri": "https://localhost:8080/"
        }
      },
      "outputs": [
        {
          "output_type": "stream",
          "name": "stdout",
          "text": [
            "False\n"
          ]
        }
      ],
      "source": [
        "!ghc -e '5 /= 5' #=> False `/=` は not equal の意味"
      ]
    },
    {
      "cell_type": "code",
      "execution_count": null,
      "metadata": {
        "attributes": {
          "classes": [
            "haskell:",
            "ghci"
          ],
          "id": "",
          "name": "\"code\""
        },
        "id": "I58XZ1L2_66O",
        "outputId": "d980c127-e396-454d-add8-f14de760a4da",
        "colab": {
          "base_uri": "https://localhost:8080/"
        }
      },
      "outputs": [
        {
          "output_type": "stream",
          "name": "stdout",
          "text": [
            "True\n"
          ]
        }
      ],
      "source": [
        "!ghc -e '5 /= 4'"
      ]
    },
    {
      "cell_type": "code",
      "execution_count": null,
      "metadata": {
        "attributes": {
          "classes": [
            "haskell:",
            "ghci"
          ],
          "id": "",
          "name": "\"code\""
        },
        "id": "_DCMlZk3_66O",
        "outputId": "592b6b68-6f17-406f-86e3-541f96232dbb",
        "colab": {
          "base_uri": "https://localhost:8080/"
        }
      },
      "outputs": [
        {
          "output_type": "stream",
          "name": "stdout",
          "text": [
            "True\n"
          ]
        }
      ],
      "source": [
        "!ghc -e '\"hello\" == \"hello\"'"
      ]
    },
    {
      "cell_type": "code",
      "execution_count": null,
      "metadata": {
        "attributes": {
          "classes": [
            "haskell:",
            "ghci"
          ],
          "id": "",
          "name": "\"code\""
        },
        "id": "w-d5Zm2__66O"
      },
      "outputs": [],
      "source": [
        "# 次のコードはエラーになる\n",
        "# %%script false の行を消して実行してエラーを確認すること\n",
        "%%script false\n",
        "!ghc -e '5 + \"llama\"'"
      ]
    },
    {
      "cell_type": "code",
      "source": [
        "# 文字列の連結は `++` を用いる\n",
        "!ghc -e '\"5\" ++ \"llama\"' #=> 5llama"
      ],
      "metadata": {
        "colab": {
          "base_uri": "https://localhost:8080/"
        },
        "id": "za-sZ6iCNqTm",
        "outputId": "95faea70-0c7e-49de-e8d5-45f73ab2b161"
      },
      "execution_count": null,
      "outputs": [
        {
          "output_type": "stream",
          "name": "stdout",
          "text": [
            "\"5llama\"\n"
          ]
        }
      ]
    },
    {
      "cell_type": "code",
      "source": [
        "# Haskell のエラーは比較的親切\n",
        "# `+` は両辺の引数が number でなければならない\n",
        "# `==` は両辺のデータの型が同じで比較可能なこと\n",
        "# 5 + 4.0 の場合は整数と浮動小数点数の足し算で浮動小数点数になる"
      ],
      "metadata": {
        "id": "6SS5Y4CXN0Pl"
      },
      "execution_count": null,
      "outputs": []
    },
    {
      "cell_type": "code",
      "source": [
        "# `*` のように数字と数字の間に置かれて作用する関数を中置関数 infix function と呼ぶ\n",
        "# 他の殆どの関数は前置 prefix function である\n",
        "# Haskell では前置関数の後にスペースを入れて引数を書く。括弧は要らない"
      ],
      "metadata": {
        "id": "ieqlUnkiXLSx"
      },
      "execution_count": null,
      "outputs": []
    },
    {
      "cell_type": "code",
      "execution_count": null,
      "metadata": {
        "attributes": {
          "classes": [
            "haskell:",
            "ghci"
          ],
          "id": "",
          "name": "\"code\""
        },
        "id": "5jRmWm8c_66P",
        "outputId": "a84bf3bf-df00-447e-ce1e-05eb62ba6b7b",
        "colab": {
          "base_uri": "https://localhost:8080/"
        }
      },
      "outputs": [
        {
          "output_type": "stream",
          "name": "stdout",
          "text": [
            "9\n",
            "7\n"
          ]
        }
      ],
      "source": [
        "# succ 関数は順序の定義された型を引数に取り次に来る値を返す\n",
        "!ghc -e 'succ 8'\n",
        "!ghc -e 'pred 8'"
      ]
    },
    {
      "cell_type": "code",
      "execution_count": null,
      "metadata": {
        "attributes": {
          "classes": [
            "haskell:",
            "ghci"
          ],
          "id": "",
          "name": "\"code\""
        },
        "id": "IcPl9WGQ_66Q",
        "colab": {
          "base_uri": "https://localhost:8080/"
        },
        "outputId": "9f7bdfdb-7577-4694-dc4c-b4ff928018b8"
      },
      "outputs": [
        {
          "output_type": "stream",
          "name": "stdout",
          "text": [
            "9\n",
            "3.2\n",
            "101\n"
          ]
        }
      ],
      "source": [
        "# min , max 関数は引数をそれぞれ 2つ取る\n",
        "!ghc -e 'min 9 10'\n",
        "!ghc -e 'min 3.4 3.2'\n",
        "!ghc -e 'max 100 101'"
      ]
    },
    {
      "cell_type": "markdown",
      "metadata": {
        "id": "ryV6jom9_66Q"
      },
      "source": [
        "Function application (calling a function by putting a space after it and\n",
        "then typing out the parameters) has the highest precedence of them all.\n",
        "What that means for us is that these two statements are equivalent."
      ]
    },
    {
      "cell_type": "code",
      "execution_count": null,
      "metadata": {
        "attributes": {
          "classes": [
            "haskell:",
            "ghci"
          ],
          "id": "",
          "name": "\"code\""
        },
        "id": "vf5dGTbQ_66Q",
        "colab": {
          "base_uri": "https://localhost:8080/"
        },
        "outputId": "c86fd8f6-5712-4d01-a242-39bbe4430b15"
      },
      "outputs": [
        {
          "output_type": "stream",
          "name": "stdout",
          "text": [
            "16\n",
            "16\n",
            "\n",
            "100\n"
          ]
        }
      ],
      "source": [
        "# 関数の優先順位は高い\n",
        "!ghc -e 'succ 9 + max 5 4 + 1' #=> 16\n",
        "!ghc -e '(succ 9) + (max 5 4) + 1' #=>16\n",
        "!echo\n",
        "!ghc -e 'succ 9 * 10' #=> 100\n",
        "!ghc -e 'succ (9 * 10)' #=>  91"
      ]
    },
    {
      "cell_type": "code",
      "source": [
        "# 前置関数を中置関数として使う\n",
        "!ghc -e 'div 92 10' #=> 9\n",
        "!ghc -e '92 `div` 10' #=> 9"
      ],
      "metadata": {
        "colab": {
          "base_uri": "https://localhost:8080/"
        },
        "id": "NI0PFae20L6C",
        "outputId": "8d8199cf-3a3d-430b-cc92-73041af88345"
      },
      "execution_count": null,
      "outputs": [
        {
          "output_type": "stream",
          "name": "stdout",
          "text": [
            "9\n",
            "9\n"
          ]
        }
      ]
    },
    {
      "cell_type": "code",
      "source": [
        "# Haskell で `bar (bar 3)` は括弧が必須の言語で言えば `bar(bar(3))` に当たることを理解すること"
      ],
      "metadata": {
        "id": "3sGhw4MZ1IBH"
      },
      "execution_count": null,
      "outputs": []
    },
    {
      "cell_type": "code",
      "execution_count": null,
      "metadata": {
        "attributes": {
          "classes": [
            "haskell:",
            "hs"
          ],
          "id": "",
          "name": "\"code\""
        },
        "id": "sFYhFRJC_66R"
      },
      "outputs": [],
      "source": [
        "# 関数の作り方\n",
        "# 関数名と変数と `=` とその後に定義を書く\n",
        "!ghc -e 'doubleMe x = x + x'"
      ]
    },
    {
      "cell_type": "markdown",
      "source": [
        "# いまここ"
      ],
      "metadata": {
        "id": "b7JbA13NFVgF"
      }
    },
    {
      "cell_type": "code",
      "source": [
        "# コマンドラインワンライナーで Haskell で関数定義して使う\n",
        "# 次のようには書けない\n",
        "# !ghc -e 'doubleMe x = x + x; doubleMe 9'\n",
        "# `let in` が使える\n",
        "!ghc -e 'let doubleMe x = x + x in doubleMe 9'"
      ],
      "metadata": {
        "colab": {
          "base_uri": "https://localhost:8080/"
        },
        "id": "e1npC11e25eQ",
        "outputId": "ecd2628f-f166-412c-d6c8-c99926ef85c8"
      },
      "execution_count": null,
      "outputs": [
        {
          "output_type": "stream",
          "name": "stdout",
          "text": [
            "18\n"
          ]
        }
      ]
    },
    {
      "cell_type": "code",
      "execution_count": null,
      "metadata": {
        "attributes": {
          "classes": [
            "haskell:",
            "ghci"
          ],
          "id": "",
          "name": "\"code\""
        },
        "id": "N9GDcZ-4_66R",
        "colab": {
          "base_uri": "https://localhost:8080/"
        },
        "outputId": "7fb4096a-5718-4696-dc26-afbde03a9416"
      },
      "outputs": [
        {
          "output_type": "stream",
          "name": "stdout",
          "text": [
            "16.6\n"
          ]
        }
      ],
      "source": [
        "!ghc -e 'let doubleMe x = x + x in doubleMe 8.3'"
      ]
    },
    {
      "cell_type": "code",
      "execution_count": null,
      "metadata": {
        "attributes": {
          "classes": [
            "haskell:",
            "hs"
          ],
          "id": "",
          "name": "\"code\""
        },
        "id": "93ulsol4_66S"
      },
      "outputs": [],
      "source": [
        "# 引数を 2つ取る関数\n",
        "!ghc -e 'doubleUs x y = x*2 + y*2'"
      ]
    },
    {
      "cell_type": "code",
      "execution_count": null,
      "metadata": {
        "attributes": {
          "classes": [
            "haskell:",
            "ghci"
          ],
          "id": "",
          "name": "\"code\""
        },
        "id": "NoTI8pQe_66S",
        "colab": {
          "base_uri": "https://localhost:8080/"
        },
        "outputId": "6f8d3995-e46e-4593-8d2f-5db536d93374"
      },
      "outputs": [
        {
          "output_type": "stream",
          "name": "stdout",
          "text": [
            "26\n",
            "73.0\n",
            "478\n",
            "478\n"
          ]
        }
      ],
      "source": [
        "!ghc -e 'let doubleUs x y = x*2 + y*2 in doubleUs 4 9'\n",
        "!ghc -e 'let doubleUs x y = x*2 + y*2 in doubleUs 2.3 34.2'\n",
        "!ghc -e 'let doubleMe x = x + x in let doubleUs x y = x*2 + y*2 in doubleUs 28 88 + doubleMe 123'\n",
        "!ghc -e 'let doubleMe x = x + x in let doubleUs x y = doubleMe x + doubleMe y in doubleUs 28 88 + doubleMe 123'"
      ]
    },
    {
      "cell_type": "code",
      "source": [
        "# プログラムファイルを作って実行する\n",
        "# 動かない 未解決\n",
        "%%writefile temp.hs\n",
        "main = \n",
        "  doubleMe x = x + x\n",
        "  doubleUs x y = doubleMe x + doubleMe y \n",
        "  putStrLin doubleUs 28 88 + doubleMe 123'"
      ],
      "metadata": {
        "id": "AkM_UIdOKx9v",
        "outputId": "2419fd0d-b273-419a-ab81-eff54353d613",
        "colab": {
          "base_uri": "https://localhost:8080/"
        }
      },
      "execution_count": null,
      "outputs": [
        {
          "output_type": "stream",
          "name": "stdout",
          "text": [
            "Overwriting temp.hs\n"
          ]
        }
      ]
    },
    {
      "cell_type": "code",
      "source": [
        "!runghc temp.hs"
      ],
      "metadata": {
        "id": "U13OrHwsLW1N",
        "outputId": "b1c30f74-faf8-4c10-8a05-6e0d1792c574",
        "colab": {
          "base_uri": "https://localhost:8080/"
        }
      },
      "execution_count": null,
      "outputs": [
        {
          "output_type": "stream",
          "name": "stdout",
          "text": [
            "\n",
            "temp.hs:2:14: error:\n",
            "    parse error on input ‘=’\n",
            "    Perhaps you need a 'let' in a 'do' block?\n",
            "    e.g. 'let x = 5' instead of 'x = 5'\n"
          ]
        }
      ]
    },
    {
      "cell_type": "code",
      "source": [
        ""
      ],
      "metadata": {
        "id": "kScsCRUmghF_"
      },
      "execution_count": null,
      "outputs": []
    },
    {
      "cell_type": "markdown",
      "metadata": {
        "id": "LYPccwF6_66T"
      },
      "source": [
        "This is a very simple example of a common pattern you will see\n",
        "throughout Haskell. Making basic functions that are obviously correct\n",
        "and then combining them into more complex functions. This way you also\n",
        "avoid repetition. What if some mathematicians figured out that 2 is\n",
        "actually 3 and you had to change your program? You could just redefine\n",
        "`doubleMe` to be `x + x + x` and since `doubleUs` calls `doubleMe`, it would\n",
        "automatically work in this strange new world where 2 is 3.\n",
        "\n",
        "Functions in Haskell don't have to be in any particular order, so it\n",
        "doesn't matter if you define `doubleMe` first and then `doubleUs` or if you\n",
        "do it the other way around.\n",
        "\n",
        "Now we're going to make a function that multiplies a number by 2 but\n",
        "only if that number is smaller than or equal to 100 because numbers\n",
        "bigger than 100 are big enough as it is!"
      ]
    },
    {
      "cell_type": "code",
      "execution_count": null,
      "metadata": {
        "attributes": {
          "classes": [
            "haskell:",
            "hs"
          ],
          "id": "",
          "name": "\"code\""
        },
        "id": "PstDUiEF_66T"
      },
      "outputs": [],
      "source": [
        "doubleSmallNumber x = if x > 100\n",
        "                        then x\n",
        "                        else x*2"
      ]
    },
    {
      "cell_type": "markdown",
      "metadata": {
        "id": "7uzqORFU_66T"
      },
      "source": [
        "<img src=\"https://github.com/kalz2q/mycolabnotebooks/blob/master/img/baby.png?raw=1\" title=\"this is you\" style=\"float:left;margin-right:2em;\"/>\n",
        "\n",
        "Right here we introduced Haskell's if statement. You're probably\n",
        "familiar with if statements from other languages. The difference between\n",
        "Haskell's if statement and if statements in imperative languages is that\n",
        "the else part is mandatory in Haskell. In imperative languages you can\n",
        "just skip a couple of steps if the condition isn't satisfied but in\n",
        "Haskell every expression and function must return something. We could\n",
        "have also written that if statement in one line but I find this way more\n",
        "readable. Another thing about the if statement in Haskell is that it is\n",
        "an *expression*. An expression is basically a piece of code that returns\n",
        "a value. `5` is an expression because it returns 5, `4 + 8` is an\n",
        "expression, `x + y` is an expression because it returns the sum of `x` and\n",
        "`y`. Because the else is mandatory, an if statement will always return\n",
        "something and that's why it's an expression. If we wanted to add one to\n",
        "every number that's produced in our previous function, we could have\n",
        "written its body like this."
      ]
    },
    {
      "cell_type": "code",
      "execution_count": null,
      "metadata": {
        "attributes": {
          "classes": [
            "haskell:",
            "hs"
          ],
          "id": "",
          "name": "\"code\""
        },
        "id": "fKi0Sp6c_66T"
      },
      "outputs": [],
      "source": [
        "doubleSmallNumber' x = (if x > 100 then x else x*2) + 1"
      ]
    },
    {
      "cell_type": "markdown",
      "metadata": {
        "id": "OXE93_nA_66T"
      },
      "source": [
        "Had we omitted the parentheses, it would have added one only if `x` wasn't\n",
        "greater than 100. Note the `'` at the end of the function name. That\n",
        "apostrophe doesn't have any special meaning in Haskell's syntax. It's a\n",
        "valid character to use in a function name. We usually use `'` to either\n",
        "denote a strict version of a function (one that isn't lazy) or a\n",
        "slightly modified version of a function or a variable. Because `'` is a\n",
        "valid character in functions, we can make a function like this."
      ]
    },
    {
      "cell_type": "code",
      "execution_count": null,
      "metadata": {
        "attributes": {
          "classes": [
            "haskell:",
            "hs"
          ],
          "id": "",
          "name": "\"code\""
        },
        "id": "kZQLauwV_66U"
      },
      "outputs": [],
      "source": [
        "conanO'Brien = \"It's a-me, Conan O'Brien!\""
      ]
    },
    {
      "cell_type": "markdown",
      "metadata": {
        "id": "MV-xiBlV_66U"
      },
      "source": [
        "There are two noteworthy things here. The first is that in the function\n",
        "name we didn't capitalize Conan's name. That's because functions can't\n",
        "begin with uppercase letters. We'll see why a bit later. The second\n",
        "thing is that this function doesn't take any parameters. When a function\n",
        "doesn't take any parameters, we usually say it's a *definition* (or a\n",
        "*name*). Because we can't change what names (and functions) mean once\n",
        "we've defined them, `conanO'Brien` and the string `\"It's a-me, Conan\n",
        "O'Brien!\"` can be used interchangeably.\n",
        "\n",
        "An intro to lists\n",
        "-----------------\n",
        "\n",
        "<img src=\"https://github.com/kalz2q/mycolabnotebooks/blob/master/img/list.png?raw=1\" title=\"BUY A DOG\" style=\"float:left;margin-right:2em\" /> Much like shopping\n",
        "lists in the real world, lists in Haskell are very useful. It's the most\n",
        "used data structure and it can be used in a multitude of different ways\n",
        "to model and solve a whole bunch of problems. Lists are SO awesome. In\n",
        "this section we'll look at the basics of lists, strings (which are\n",
        "lists) and list comprehensions.\n",
        "\n",
        "In Haskell, lists are a *homogenous* data structure. It stores several\n",
        "elements of the same type. That means that we can have a list of\n",
        "integers or a list of characters but we can't have a list that has a few\n",
        "integers and then a few characters. And now, a list!\n",
        "\n",
        "> __Note:__ We can use the `let` keyword to define a name right in GHCI. Doing\n",
        "> `let a = 1` inside GHCI is the equivalent of writing `a = 1` in a script and\n",
        "> then loading it."
      ]
    },
    {
      "cell_type": "code",
      "execution_count": null,
      "metadata": {
        "attributes": {
          "classes": [
            "haskell:",
            "ghci"
          ],
          "id": "",
          "name": "\"code\""
        },
        "id": "eezVbWAc_66U"
      },
      "outputs": [],
      "source": [
        "let lostNumbers = [4,8,15,16,23,42]"
      ]
    },
    {
      "cell_type": "code",
      "execution_count": null,
      "metadata": {
        "attributes": {
          "classes": [
            "haskell:",
            "ghci"
          ],
          "id": "",
          "name": "\"code\""
        },
        "id": "UHv7RHNa_66U"
      },
      "outputs": [],
      "source": [
        "lostNumbers"
      ]
    },
    {
      "cell_type": "markdown",
      "metadata": {
        "id": "dKrXUd7S_66U"
      },
      "source": [
        "As you can see, lists are denoted by square brackets and the values in\n",
        "the lists are separated by commas. If we tried a list like\n",
        "`[1,2,'a',3,'b','c',4]`, Haskell would complain that characters (which\n",
        "are, by the way, denoted as a character between single quotes) are not\n",
        "numbers. Speaking of characters, strings are just lists of characters.\n",
        "`\"hello\"` is just syntactic sugar for `['h','e','l','l','o']`. Because\n",
        "strings are lists, we can use list functions on them, which is really\n",
        "handy.\n",
        "\n",
        "A common task is putting two lists together. This is done by using the\n",
        "[`++`](https://hackage.haskell.org/package/base/docs/Prelude.html#v:-43--43-) operator."
      ]
    },
    {
      "cell_type": "code",
      "execution_count": null,
      "metadata": {
        "attributes": {
          "classes": [
            "haskell:",
            "ghci"
          ],
          "id": "",
          "name": "\"code\""
        },
        "id": "0bTKtQ9S_66U"
      },
      "outputs": [],
      "source": [
        "[1,2,3,4] ++ [9,10,11,12]"
      ]
    },
    {
      "cell_type": "code",
      "execution_count": null,
      "metadata": {
        "attributes": {
          "classes": [
            "haskell:",
            "ghci"
          ],
          "id": "",
          "name": "\"code\""
        },
        "id": "JX94eQcj_66V"
      },
      "outputs": [],
      "source": [
        "\"hello\" ++ \" \" ++ \"world\""
      ]
    },
    {
      "cell_type": "code",
      "execution_count": null,
      "metadata": {
        "attributes": {
          "classes": [
            "haskell:",
            "ghci"
          ],
          "id": "",
          "name": "\"code\""
        },
        "id": "YfZuo4HD_66V"
      },
      "outputs": [],
      "source": [
        "['w','o'] ++ ['o','t']"
      ]
    },
    {
      "cell_type": "markdown",
      "metadata": {
        "id": "Zb3jwIK6_66V"
      },
      "source": [
        "Watch out when repeatedly using the [`++`](https://hackage.haskell.org/package/base/docs/Prelude.html#v:-43--43-) operator on long strings. When\n",
        "you put together two lists (even if you append a singleton list to a\n",
        "list, for instance: `[1,2,3] ++ [4]`), internally, Haskell has to walk\n",
        "through the whole list on the left side of [`++`](https://hackage.haskell.org/package/base/docs/Prelude.html#v:-43--43-). That's not a problem when\n",
        "dealing with lists that aren't too big. But putting something at the end\n",
        "of a list that's fifty million entries long is going to take a while.\n",
        "However, putting something at the beginning of a list using the `:`\n",
        "operator (also called the cons operator) is instantaneous."
      ]
    },
    {
      "cell_type": "code",
      "execution_count": null,
      "metadata": {
        "attributes": {
          "classes": [
            "haskell:",
            "ghci"
          ],
          "id": "",
          "name": "\"code\""
        },
        "id": "sWMkFTuK_66V"
      },
      "outputs": [],
      "source": [
        "'A':\" SMALL CAT\""
      ]
    },
    {
      "cell_type": "code",
      "execution_count": null,
      "metadata": {
        "attributes": {
          "classes": [
            "haskell:",
            "ghci"
          ],
          "id": "",
          "name": "\"code\""
        },
        "id": "NSCwSMri_66V"
      },
      "outputs": [],
      "source": [
        "5:[1,2,3,4,5]"
      ]
    },
    {
      "cell_type": "markdown",
      "metadata": {
        "id": "SYBPgJij_66V"
      },
      "source": [
        "Notice how `:` takes a number and a list of numbers or a character and a\n",
        "list of characters, whereas [`++`](https://hackage.haskell.org/package/base/docs/Prelude.html#v:-43--43-) takes two lists. Even if you're adding an\n",
        "element to the end of a list with [`++`](https://hackage.haskell.org/package/base/docs/Prelude.html#v:-43--43-), you have to surround it with\n",
        "square brackets so it becomes a list.\n",
        "\n",
        "`[1,2,3]` is actually just syntactic sugar for `1:2:3:[]`. `[]` is an empty\n",
        "list. If we prepend `3` to it, it becomes `[3]`. If we prepend `2` to that, it\n",
        "becomes `[2,3]`, and so on.\n",
        "\n",
        "> __Note:__ `[]`, `[[]]` and `[[],[],[]]` are all different things. The first one\n",
        "> is an empty list, the second one is a list that contains one empty list, the\n",
        "> third one is a list that contains three empty lists.\n",
        "\n",
        "If you want to get an element out of a list by index, use `!!`. The\n",
        "indices start at 0."
      ]
    },
    {
      "cell_type": "code",
      "execution_count": null,
      "metadata": {
        "attributes": {
          "classes": [
            "haskell:",
            "ghci"
          ],
          "id": "",
          "name": "\"code\""
        },
        "id": "YSbx5nWQ_66W"
      },
      "outputs": [],
      "source": [
        "\"Steve Buscemi\" !! 6"
      ]
    },
    {
      "cell_type": "code",
      "execution_count": null,
      "metadata": {
        "attributes": {
          "classes": [
            "haskell:",
            "ghci"
          ],
          "id": "",
          "name": "\"code\""
        },
        "id": "PPribR6t_66W"
      },
      "outputs": [],
      "source": [
        "[9.4,33.2,96.2,11.2,23.25] !! 1"
      ]
    },
    {
      "cell_type": "markdown",
      "metadata": {
        "id": "qX7HWBN4_66W"
      },
      "source": [
        "But if you try to get the sixth element from a list that only has four\n",
        "elements, you'll get an error so be careful!\n",
        "\n",
        "Lists can also contain lists. They can also contain lists that contain\n",
        "lists that contain lists …"
      ]
    },
    {
      "cell_type": "code",
      "execution_count": null,
      "metadata": {
        "attributes": {
          "classes": [
            "haskell:",
            "ghci"
          ],
          "id": "",
          "name": "\"code\""
        },
        "id": "hhE1Qp7S_66W"
      },
      "outputs": [],
      "source": [
        "let b = [[1,2,3,4],[5,3,3,3],[1,2,2,3,4],[1,2,3]]"
      ]
    },
    {
      "cell_type": "code",
      "execution_count": null,
      "metadata": {
        "attributes": {
          "classes": [
            "haskell:",
            "ghci"
          ],
          "id": "",
          "name": "\"code\""
        },
        "id": "AVZgI0ti_66W"
      },
      "outputs": [],
      "source": [
        "b"
      ]
    },
    {
      "cell_type": "code",
      "execution_count": null,
      "metadata": {
        "attributes": {
          "classes": [
            "haskell:",
            "ghci"
          ],
          "id": "",
          "name": "\"code\""
        },
        "id": "MP7IzdMm_66W"
      },
      "outputs": [],
      "source": [
        "b ++ [[1,1,1,1]]"
      ]
    },
    {
      "cell_type": "code",
      "execution_count": null,
      "metadata": {
        "attributes": {
          "classes": [
            "haskell:",
            "ghci"
          ],
          "id": "",
          "name": "\"code\""
        },
        "id": "c7nH_YQ4_66X"
      },
      "outputs": [],
      "source": [
        "[6,6,6]:b"
      ]
    },
    {
      "cell_type": "code",
      "execution_count": null,
      "metadata": {
        "attributes": {
          "classes": [
            "haskell:",
            "ghci"
          ],
          "id": "",
          "name": "\"code\""
        },
        "id": "COMmuCDW_66X"
      },
      "outputs": [],
      "source": [
        "b !! 2"
      ]
    },
    {
      "cell_type": "markdown",
      "metadata": {
        "id": "iaSDswvX_66X"
      },
      "source": [
        "The lists within a list can be of different lengths but they can't be of\n",
        "different types. Just like you can't have a list that has some\n",
        "characters and some numbers, you can't have a list that has some lists\n",
        "of characters and some lists of numbers.\n",
        "\n",
        "Lists can be compared if the stuff they contain can be compared. When\n",
        "using [`<`](https://hackage.haskell.org/package/base/docs/Prelude.html#v:-60-), [`<=`](https://hackage.haskell.org/package/base/docs/Prelude.html#v:-60--61-), [`>`](https://hackage.haskell.org/package/base/docs/Prelude.html#v:-62-) and [`>=`](https://hackage.haskell.org/package/base/docs/Prelude.html#v:-62--61-) to compare lists, they are compared in\n",
        "lexicographical order. First the heads are compared. If they are equal\n",
        "then the second elements are compared, etc."
      ]
    },
    {
      "cell_type": "code",
      "execution_count": null,
      "metadata": {
        "attributes": {
          "classes": [
            "haskell:",
            "ghci"
          ],
          "id": "",
          "name": "\"code\""
        },
        "id": "6jEYbU0-_66X"
      },
      "outputs": [],
      "source": [
        "[3,2,1] > [2,1,0]"
      ]
    },
    {
      "cell_type": "code",
      "execution_count": null,
      "metadata": {
        "attributes": {
          "classes": [
            "haskell:",
            "ghci"
          ],
          "id": "",
          "name": "\"code\""
        },
        "id": "JCu59AFD_66X"
      },
      "outputs": [],
      "source": [
        "[3,2,1] > [2,10,100]"
      ]
    },
    {
      "cell_type": "code",
      "execution_count": null,
      "metadata": {
        "attributes": {
          "classes": [
            "haskell:",
            "ghci"
          ],
          "id": "",
          "name": "\"code\""
        },
        "id": "quz10ipq_66X"
      },
      "outputs": [],
      "source": [
        "[3,4,2] > [3,4]"
      ]
    },
    {
      "cell_type": "code",
      "execution_count": null,
      "metadata": {
        "attributes": {
          "classes": [
            "haskell:",
            "ghci"
          ],
          "id": "",
          "name": "\"code\""
        },
        "id": "odc5bR8e_66X"
      },
      "outputs": [],
      "source": [
        "[3,4,2] > [2,4]"
      ]
    },
    {
      "cell_type": "code",
      "execution_count": null,
      "metadata": {
        "attributes": {
          "classes": [
            "haskell:",
            "ghci"
          ],
          "id": "",
          "name": "\"code\""
        },
        "id": "5rBpa7uN_66Y"
      },
      "outputs": [],
      "source": [
        "[3,4,2] == [3,4,2]"
      ]
    },
    {
      "cell_type": "markdown",
      "metadata": {
        "id": "3ksGuRdy_66Y"
      },
      "source": [
        "What else can you do with lists? Here are some basic functions that\n",
        "operate on lists.\n",
        "\n",
        "__[`head`](https://hackage.haskell.org/package/base/docs/Prelude.html#v:head)__ takes a list and returns its head. The head of a list is basically\n",
        "its first element."
      ]
    },
    {
      "cell_type": "code",
      "execution_count": null,
      "metadata": {
        "attributes": {
          "classes": [
            "haskell:",
            "ghci"
          ],
          "id": "",
          "name": "\"code\""
        },
        "id": "_lvD4ajU_66Y"
      },
      "outputs": [],
      "source": [
        "head [5,4,3,2,1]"
      ]
    },
    {
      "cell_type": "markdown",
      "metadata": {
        "id": "hqIIRjFH_66Y"
      },
      "source": [
        "__[`tail`](https://hackage.haskell.org/package/base/docs/Prelude.html#v:tail)__ takes a list and returns its tail. In other words, it chops off a\n",
        "list's head."
      ]
    },
    {
      "cell_type": "code",
      "execution_count": null,
      "metadata": {
        "attributes": {
          "classes": [
            "haskell:",
            "ghci"
          ],
          "id": "",
          "name": "\"code\""
        },
        "id": "TLhQflMM_66Y"
      },
      "outputs": [],
      "source": [
        "tail [5,4,3,2,1]"
      ]
    },
    {
      "cell_type": "markdown",
      "metadata": {
        "id": "8v1PSOxh_66Y"
      },
      "source": [
        "__[`last`](https://hackage.haskell.org/package/base/docs/Prelude.html#v:last)__ takes a list and returns its last element."
      ]
    },
    {
      "cell_type": "code",
      "execution_count": null,
      "metadata": {
        "attributes": {
          "classes": [
            "haskell:",
            "ghci"
          ],
          "id": "",
          "name": "\"code\""
        },
        "id": "1geAUG-3_66Y"
      },
      "outputs": [],
      "source": [
        "last [5,4,3,2,1]"
      ]
    },
    {
      "cell_type": "markdown",
      "metadata": {
        "id": "wS6lc8pe_66Z"
      },
      "source": [
        "__[`init`](https://hackage.haskell.org/package/base/docs/Prelude.html#v:init)__ takes a list and returns everything except its last element."
      ]
    },
    {
      "cell_type": "code",
      "execution_count": null,
      "metadata": {
        "attributes": {
          "classes": [
            "haskell:",
            "ghci"
          ],
          "id": "",
          "name": "\"code\""
        },
        "id": "dZGStX5K_66Z"
      },
      "outputs": [],
      "source": [
        "init [5,4,3,2,1]"
      ]
    },
    {
      "cell_type": "markdown",
      "metadata": {
        "id": "WZQxcGQW_66Z"
      },
      "source": [
        "If we think of a list as a monster, here's what's what.\n",
        "\n",
        "<img src=\"https://github.com/kalz2q/mycolabnotebooks/blob/master/img/listmonster.png?raw=1\" title=\"list monster\" style=\"\" />\n",
        "\n",
        "But what happens if we try to get the head of an empty list?"
      ]
    },
    {
      "cell_type": "code",
      "execution_count": null,
      "metadata": {
        "attributes": {
          "classes": [
            "haskell:",
            "ghci"
          ],
          "id": "",
          "name": "\"code\""
        },
        "id": "XK0WLB93_66Z"
      },
      "outputs": [],
      "source": [
        "head []"
      ]
    },
    {
      "cell_type": "markdown",
      "metadata": {
        "id": "EXtaiB9A_66Z"
      },
      "source": [
        "Oh my! It all blows up in our face! If there's no monster, it doesn't\n",
        "have a head. When using [`head`](https://hackage.haskell.org/package/base/docs/Prelude.html#v:head), [`tail`](https://hackage.haskell.org/package/base/docs/Prelude.html#v:tail), [`last`](https://hackage.haskell.org/package/base/docs/Prelude.html#v:last) and [`init`](https://hackage.haskell.org/package/base/docs/Prelude.html#v:init), be careful not to use\n",
        "them on empty lists. This error cannot be caught at compile time so it's\n",
        "always good practice to take precautions against accidentally telling\n",
        "Haskell to give you some elements from an empty list.\n",
        "\n",
        "__[`length`](https://hackage.haskell.org/package/base/docs/Prelude.html#v:length)__ takes a list and returns its length, obviously."
      ]
    },
    {
      "cell_type": "code",
      "execution_count": null,
      "metadata": {
        "attributes": {
          "classes": [
            "haskell:",
            "ghci"
          ],
          "id": "",
          "name": "\"code\""
        },
        "id": "gCKcqfct_66Z"
      },
      "outputs": [],
      "source": [
        "length [5,4,3,2,1]"
      ]
    },
    {
      "cell_type": "markdown",
      "metadata": {
        "id": "5k8B2x0B_66Z"
      },
      "source": [
        "__[`null`](https://hackage.haskell.org/package/base/docs/Prelude.html#v:null)__ checks if a list is empty. If it is, it returns [`True`](https://hackage.haskell.org/package/base/docs/Prelude.html#v:True), otherwise it\n",
        "returns [`False`](https://hackage.haskell.org/package/base/docs/Prelude.html#v:False). Use this function instead of `xs == []` (if you have a list\n",
        "called `xs`)"
      ]
    },
    {
      "cell_type": "code",
      "execution_count": null,
      "metadata": {
        "attributes": {
          "classes": [
            "haskell:",
            "ghci"
          ],
          "id": "",
          "name": "\"code\""
        },
        "id": "8Ocm4LGR_66a"
      },
      "outputs": [],
      "source": [
        "null [1,2,3]"
      ]
    },
    {
      "cell_type": "code",
      "execution_count": null,
      "metadata": {
        "attributes": {
          "classes": [
            "haskell:",
            "ghci"
          ],
          "id": "",
          "name": "\"code\""
        },
        "id": "1CewHXXR_66a"
      },
      "outputs": [],
      "source": [
        "null []"
      ]
    },
    {
      "cell_type": "markdown",
      "metadata": {
        "id": "cP6igm7T_66a"
      },
      "source": [
        "__[`reverse`](https://hackage.haskell.org/package/base/docs/Prelude.html#v:reverse)__ reverses a list."
      ]
    },
    {
      "cell_type": "code",
      "execution_count": null,
      "metadata": {
        "attributes": {
          "classes": [
            "haskell:",
            "ghci"
          ],
          "id": "",
          "name": "\"code\""
        },
        "id": "cb4pYkHS_66a"
      },
      "outputs": [],
      "source": [
        "reverse [5,4,3,2,1]"
      ]
    },
    {
      "cell_type": "markdown",
      "metadata": {
        "id": "QVMIdcZX_66a"
      },
      "source": [
        "__[`take`](https://hackage.haskell.org/package/base/docs/Prelude.html#v:take)__ takes number and a list. It extracts that many elements from the\n",
        "beginning of the list. Watch."
      ]
    },
    {
      "cell_type": "code",
      "execution_count": null,
      "metadata": {
        "attributes": {
          "classes": [
            "haskell:",
            "ghci"
          ],
          "id": "",
          "name": "\"code\""
        },
        "id": "LvQumxgN_66a"
      },
      "outputs": [],
      "source": [
        "take 3 [5,4,3,2,1]"
      ]
    },
    {
      "cell_type": "code",
      "execution_count": null,
      "metadata": {
        "attributes": {
          "classes": [
            "haskell:",
            "ghci"
          ],
          "id": "",
          "name": "\"code\""
        },
        "id": "c-o41pNC_66a"
      },
      "outputs": [],
      "source": [
        "take 1 [3,9,3]"
      ]
    },
    {
      "cell_type": "code",
      "execution_count": null,
      "metadata": {
        "attributes": {
          "classes": [
            "haskell:",
            "ghci"
          ],
          "id": "",
          "name": "\"code\""
        },
        "id": "D_nSZWW4_66b"
      },
      "outputs": [],
      "source": [
        "take 5 [1,2]"
      ]
    },
    {
      "cell_type": "code",
      "execution_count": null,
      "metadata": {
        "attributes": {
          "classes": [
            "haskell:",
            "ghci"
          ],
          "id": "",
          "name": "\"code\""
        },
        "id": "Gaf89cq7_66b"
      },
      "outputs": [],
      "source": [
        "take 0 [6,6,6]"
      ]
    },
    {
      "cell_type": "markdown",
      "metadata": {
        "id": "YlG6Cx2F_66b"
      },
      "source": [
        "See how if we try to take more elements than there are in the list, it\n",
        "just returns the list. If we try to take 0 elements, we get an empty\n",
        "list.\n",
        "\n",
        "__[`drop`](https://hackage.haskell.org/package/base/docs/Prelude.html#v:drop)__ works in a similar way, only it drops the number of elements from\n",
        "the beginning of a list."
      ]
    },
    {
      "cell_type": "code",
      "execution_count": null,
      "metadata": {
        "attributes": {
          "classes": [
            "haskell:",
            "ghci"
          ],
          "id": "",
          "name": "\"code\""
        },
        "id": "gpborjpy_66b"
      },
      "outputs": [],
      "source": [
        "drop 3 [8,4,2,1,5,6]"
      ]
    },
    {
      "cell_type": "code",
      "execution_count": null,
      "metadata": {
        "attributes": {
          "classes": [
            "haskell:",
            "ghci"
          ],
          "id": "",
          "name": "\"code\""
        },
        "id": "ZV_3UZFz_66b"
      },
      "outputs": [],
      "source": [
        "drop 0 [1,2,3,4]"
      ]
    },
    {
      "cell_type": "code",
      "execution_count": null,
      "metadata": {
        "attributes": {
          "classes": [
            "haskell:",
            "ghci"
          ],
          "id": "",
          "name": "\"code\""
        },
        "id": "SHfliVQd_66b"
      },
      "outputs": [],
      "source": [
        "drop 100 [1,2,3,4]"
      ]
    },
    {
      "cell_type": "markdown",
      "metadata": {
        "id": "B0MNDUZO_66c"
      },
      "source": [
        "__[`maximum`](https://hackage.haskell.org/package/base/docs/Prelude.html#v:maximum)__ takes a list of stuff that can be put in some kind of order and\n",
        "returns the biggest element.\n",
        "\n",
        "__[`minimum`](https://hackage.haskell.org/package/base/docs/Prelude.html#v:minimum)__ returns the smallest."
      ]
    },
    {
      "cell_type": "code",
      "execution_count": null,
      "metadata": {
        "attributes": {
          "classes": [
            "haskell:",
            "ghci"
          ],
          "id": "",
          "name": "\"code\""
        },
        "id": "QOaIgMFm_66c"
      },
      "outputs": [],
      "source": [
        "minimum [8,4,2,1,5,6]"
      ]
    },
    {
      "cell_type": "code",
      "execution_count": null,
      "metadata": {
        "attributes": {
          "classes": [
            "haskell:",
            "ghci"
          ],
          "id": "",
          "name": "\"code\""
        },
        "id": "i_lvADp7_66c"
      },
      "outputs": [],
      "source": [
        "maximum [1,9,2,3,4]"
      ]
    },
    {
      "cell_type": "markdown",
      "metadata": {
        "id": "1FLKJP7m_66c"
      },
      "source": [
        "__[`sum`](https://hackage.haskell.org/package/base/docs/Prelude.html#v:sum)__ takes a list of numbers and returns their sum.\n",
        "\n",
        "__[`product`](https://hackage.haskell.org/package/base/docs/Prelude.html#v:product)__ takes a list of numbers and returns their product."
      ]
    },
    {
      "cell_type": "code",
      "execution_count": null,
      "metadata": {
        "attributes": {
          "classes": [
            "haskell:",
            "ghci"
          ],
          "id": "",
          "name": "\"code\""
        },
        "id": "IxQEIU3k_66c"
      },
      "outputs": [],
      "source": [
        "sum [5,2,1,6,3,2,5,7]"
      ]
    },
    {
      "cell_type": "code",
      "execution_count": null,
      "metadata": {
        "attributes": {
          "classes": [
            "haskell:",
            "ghci"
          ],
          "id": "",
          "name": "\"code\""
        },
        "id": "DoktFepU_66c"
      },
      "outputs": [],
      "source": [
        "product [6,2,1,2]"
      ]
    },
    {
      "cell_type": "code",
      "execution_count": null,
      "metadata": {
        "attributes": {
          "classes": [
            "haskell:",
            "ghci"
          ],
          "id": "",
          "name": "\"code\""
        },
        "id": "3C9_5ygW_66c"
      },
      "outputs": [],
      "source": [
        "product [1,2,5,6,7,9,2,0]"
      ]
    },
    {
      "cell_type": "markdown",
      "metadata": {
        "id": "s55L8kix_66d"
      },
      "source": [
        "__[`elem`](https://hackage.haskell.org/package/base/docs/Prelude.html#v:elem)__ takes a thing and a list of things and tells us if that thing is an\n",
        "element of the list. It's usually called as an infix function because\n",
        "it's easier to read that way."
      ]
    },
    {
      "cell_type": "code",
      "execution_count": null,
      "metadata": {
        "attributes": {
          "classes": [
            "haskell:",
            "ghci"
          ],
          "id": "",
          "name": "\"code\""
        },
        "id": "6NWY6iRY_66d"
      },
      "outputs": [],
      "source": [
        "4 `elem` [3,4,5,6]"
      ]
    },
    {
      "cell_type": "code",
      "execution_count": null,
      "metadata": {
        "attributes": {
          "classes": [
            "haskell:",
            "ghci"
          ],
          "id": "",
          "name": "\"code\""
        },
        "id": "BZbcaXn2_66d"
      },
      "outputs": [],
      "source": [
        "10 `elem` [3,4,5,6]"
      ]
    },
    {
      "cell_type": "markdown",
      "metadata": {
        "id": "vvRtyjiM_66d"
      },
      "source": [
        "Those were a few basic functions that operate on lists. We'll take a\n",
        "look at more list functions [later](http://learnyouahaskell.com/modules#data-list)\n",
        "\n",
        "Texas ranges\n",
        "------------\n",
        "\n",
        "<img src=\"https://github.com/kalz2q/mycolabnotebooks/blob/master/img/cowboy.png?raw=1\" title=\"draw\" style=\"float:right;margin-left:2em;\" /> What if we want a list\n",
        "of all numbers between 1 and 20? Sure, we could just type them all out\n",
        "but obviously that's not a solution for gentlemen who demand excellence\n",
        "from their programming languages. Instead, we'll use ranges. Ranges are\n",
        "a way of making lists that are arithmetic sequences of elements that can\n",
        "be enumerated. Numbers can be enumerated. One, two, three, four, etc.\n",
        "Characters can also be enumerated. The alphabet is an enumeration of\n",
        "characters from A to Z. Names can't be enumerated. What comes after\n",
        "\"John\"? I don't know.\n",
        "\n",
        "To make a list containing all the natural numbers from 1 to 20, you just\n",
        "write `[1..20]`. That is the equivalent of writing\n",
        "`[1,2,3,4,5,6,7,8,9,10,11,12,13,14,15,16,17,18,19,20]` and there's no\n",
        "difference between writing one or the other except that writing out long\n",
        "enumeration sequences manually is stupid."
      ]
    },
    {
      "cell_type": "code",
      "execution_count": null,
      "metadata": {
        "attributes": {
          "classes": [
            "haskell:",
            "ghci"
          ],
          "id": "",
          "name": "\"code\""
        },
        "id": "MFeaVlOL_66d"
      },
      "outputs": [],
      "source": [
        "[1..20]"
      ]
    },
    {
      "cell_type": "code",
      "execution_count": null,
      "metadata": {
        "attributes": {
          "classes": [
            "haskell:",
            "ghci"
          ],
          "id": "",
          "name": "\"code\""
        },
        "id": "e6vYGfJf_66d"
      },
      "outputs": [],
      "source": [
        "['a'..'z']"
      ]
    },
    {
      "cell_type": "code",
      "execution_count": null,
      "metadata": {
        "attributes": {
          "classes": [
            "haskell:",
            "ghci"
          ],
          "id": "",
          "name": "\"code\""
        },
        "id": "EjRIyqbo_66e"
      },
      "outputs": [],
      "source": [
        "['K'..'Z']"
      ]
    },
    {
      "cell_type": "markdown",
      "metadata": {
        "id": "zRTI9QvG_66e"
      },
      "source": [
        "Ranges are cool because you can also specify a step. What if we want all\n",
        "even numbers between 1 and 20? Or every third number between 1 and 20?"
      ]
    },
    {
      "cell_type": "code",
      "execution_count": null,
      "metadata": {
        "attributes": {
          "classes": [
            "haskell:",
            "ghci"
          ],
          "id": "",
          "name": "\"code\""
        },
        "id": "degZFYkN_66e"
      },
      "outputs": [],
      "source": [
        "[2,4..20]"
      ]
    },
    {
      "cell_type": "code",
      "execution_count": null,
      "metadata": {
        "attributes": {
          "classes": [
            "haskell:",
            "ghci"
          ],
          "id": "",
          "name": "\"code\""
        },
        "id": "HmHwbwym_66e"
      },
      "outputs": [],
      "source": [
        "[3,6..20]"
      ]
    },
    {
      "cell_type": "markdown",
      "metadata": {
        "id": "ZXzdUzCl_66e"
      },
      "source": [
        "It's simply a matter of separating the first two elements with a comma\n",
        "and then specifying what the upper limit is. While pretty smart, ranges\n",
        "with steps aren't as smart as some people expect them to be. You can't\n",
        "do `[1,2,4,8,16..100]` and expect to get all the powers of 2. Firstly\n",
        "because you can only specify one step. And secondly because some\n",
        "sequences that aren't arithmetic are ambiguous if given only by a few of\n",
        "their first terms.\n",
        "\n",
        "To make a list with all the numbers from 20 to 1, you can't just do\n",
        "`[20..1]`, you have to do `[20,19..1]`.\n",
        "\n",
        "Watch out when using floating point numbers in ranges! Because they are\n",
        "not completely precise (by definition), their use in ranges can yield\n",
        "some pretty funky results."
      ]
    },
    {
      "cell_type": "code",
      "execution_count": null,
      "metadata": {
        "attributes": {
          "classes": [
            "haskell:",
            "ghci"
          ],
          "id": "",
          "name": "\"code\""
        },
        "id": "H0SofTt-_66f"
      },
      "outputs": [],
      "source": [
        "[0.1, 0.3 .. 1]"
      ]
    },
    {
      "cell_type": "markdown",
      "metadata": {
        "id": "BQHLTUFw_66f"
      },
      "source": [
        "My advice is not to use them in list ranges.\n",
        "\n",
        "You can also use ranges to make infinite lists by just not specifying an\n",
        "upper limit. Later we'll go into more detail on infinite lists. For now,\n",
        "let's examine how you would get the first 24 multiples of 13. Sure, you\n",
        "could do `[13,26..24*13]`. But there's a better way: `take 24 [13,26..]`.\n",
        "Because Haskell is lazy, it won't try to evaluate the infinite list\n",
        "immediately because it would never finish. It'll wait to see what you\n",
        "want to get out of that infinite lists. And here it sees you just want\n",
        "the first 24 elements and it gladly obliges.\n",
        "\n",
        "A handful of functions that produce infinite lists:\n",
        "\n",
        "__[`cycle`](https://hackage.haskell.org/package/base/docs/Prelude.html#v:cycle)__ takes a list and cycles it into an infinite list. If you just try\n",
        "to display the result, it will go on forever so you have to slice it off\n",
        "somewhere."
      ]
    },
    {
      "cell_type": "code",
      "execution_count": null,
      "metadata": {
        "attributes": {
          "classes": [
            "haskell:",
            "ghci"
          ],
          "id": "",
          "name": "\"code\""
        },
        "id": "QgXp4lnu_66f"
      },
      "outputs": [],
      "source": [
        "take 10 (cycle [1,2,3])"
      ]
    },
    {
      "cell_type": "code",
      "execution_count": null,
      "metadata": {
        "attributes": {
          "classes": [
            "haskell:",
            "ghci"
          ],
          "id": "",
          "name": "\"code\""
        },
        "id": "yn8dH64t_66f"
      },
      "outputs": [],
      "source": [
        "take 12 (cycle \"LOL \")"
      ]
    },
    {
      "cell_type": "markdown",
      "metadata": {
        "id": "isaNLhJJ_66f"
      },
      "source": [
        "__[`repeat`](https://hackage.haskell.org/package/base/docs/Prelude.html#v:repeat)__ takes an element and produces an infinite list of just that\n",
        "element. It's like cycling a list with only one element."
      ]
    },
    {
      "cell_type": "code",
      "execution_count": null,
      "metadata": {
        "attributes": {
          "classes": [
            "haskell:",
            "ghci"
          ],
          "id": "",
          "name": "\"code\""
        },
        "id": "-4ggq70J_66f"
      },
      "outputs": [],
      "source": [
        "take 10 (repeat 5)"
      ]
    },
    {
      "cell_type": "markdown",
      "metadata": {
        "id": "IEjFunlp_66g"
      },
      "source": [
        "Although it's simpler to just use the [`replicate`](https://hackage.haskell.org/package/base/docs/Prelude.html#v:replicate) function if you want\n",
        "some number of the same element in a list. `replicate 3 10` returns\n",
        "`[10,10,10]`.\n",
        "\n",
        "<a name=\"im-a-list-comprehension\"></a>\n",
        "\n",
        "I'm a list comprehension\n",
        "------------------------\n",
        "\n",
        "<img src=\"https://github.com/kalz2q/mycolabnotebooks/blob/master/img/kermit.png?raw=1\" title=\"frog\" style=\"float:left;margin-right:2em;\" /> If you've ever taken a\n",
        "course in mathematics, you've probably run into *set comprehensions*.\n",
        "They're normally used for building more specific sets out of general\n",
        "sets. A basic comprehension for a set that contains the first ten even\n",
        "natural numbers is $ S=\\{2 \\centerdot x | x \\in \\mathbb{N}, x \\le 10 \\}$. The part before\n",
        "the pipe is called the output function, `x` is the variable, `N` is the\n",
        "input set and `x <= 10` is the predicate. That means that the set\n",
        "contains the doubles of all natural numbers that satisfy the predicate.\n",
        "\n",
        "If we wanted to write that in Haskell, we could do something like `take\n",
        "10 [2,4..]`. But what if we didn't want doubles of the first 10 natural\n",
        "numbers but some kind of more complex function applied on them? We could\n",
        "use a list comprehension for that. List comprehensions are very similar\n",
        "to set comprehensions. We'll stick to getting the first 10 even numbers\n",
        "for now. The list comprehension we could use is `[x*2 | x <- [1..10]]`.\n",
        "`x` is drawn from `[1..10]` and for every element in `[1..10]` (which we have\n",
        "bound to `x`), we get that element, only doubled. Here's that\n",
        "comprehension in action."
      ]
    },
    {
      "cell_type": "code",
      "execution_count": null,
      "metadata": {
        "attributes": {
          "classes": [
            "haskell:",
            "ghci"
          ],
          "id": "",
          "name": "\"code\""
        },
        "id": "kZpiXKhD_66g"
      },
      "outputs": [],
      "source": [
        "[x*2 | x <- [1..10]]"
      ]
    },
    {
      "cell_type": "markdown",
      "metadata": {
        "id": "VgUf-L9f_66g"
      },
      "source": [
        "As you can see, we get the desired results. Now let's add a condition\n",
        "(or a predicate) to that comprehension. Predicates go after the binding\n",
        "parts and are separated from them by a comma. Let's say we want only the\n",
        "elements which, doubled, are greater than or equal to 12."
      ]
    },
    {
      "cell_type": "code",
      "execution_count": null,
      "metadata": {
        "attributes": {
          "classes": [
            "haskell:",
            "ghci"
          ],
          "id": "",
          "name": "\"code\""
        },
        "id": "iZfR0CMZ_66g"
      },
      "outputs": [],
      "source": [
        "[x*2 | x <- [1..10], x*2 >= 12]"
      ]
    },
    {
      "cell_type": "markdown",
      "metadata": {
        "id": "0G_YJazS_66g"
      },
      "source": [
        "Cool, it works. How about if we wanted all numbers from 50 to 100 whose\n",
        "remainder when divided with the number 7 is 3? Easy."
      ]
    },
    {
      "cell_type": "code",
      "execution_count": null,
      "metadata": {
        "attributes": {
          "classes": [
            "haskell:",
            "ghci"
          ],
          "id": "",
          "name": "\"code\""
        },
        "id": "3-qVlQOX_66g"
      },
      "outputs": [],
      "source": [
        "[ x | x <- [50..100], x `mod` 7 == 3]"
      ]
    },
    {
      "cell_type": "markdown",
      "metadata": {
        "id": "tynpbm6h_66h"
      },
      "source": [
        "Success! Note that weeding out lists by predicates is also called\n",
        "*filtering*. We took a list of numbers and we filtered them by the\n",
        "predicate. Now for another example. Let's say we want a comprehension\n",
        "that replaces each odd number greater than 10 with `\"BANG!\"` and each odd\n",
        "number that's less than 10 with `\"BOOM!\"`. If a number isn't odd, we throw\n",
        "it out of our list. For convenience, we'll put that comprehension inside\n",
        "a function so we can easily reuse it."
      ]
    },
    {
      "cell_type": "code",
      "execution_count": null,
      "metadata": {
        "attributes": {
          "classes": [
            "haskell:",
            "ghci"
          ],
          "id": "",
          "name": "\"code\""
        },
        "id": "hR9uQ8U1_66h"
      },
      "outputs": [],
      "source": [
        "boomBangs xs = [ if x < 10 then \"BOOM!\" else \"BANG!\" | x <- xs, odd x]"
      ]
    },
    {
      "cell_type": "markdown",
      "metadata": {
        "id": "UjTDYf6Z_66h"
      },
      "source": [
        "The last part of the comprehension is the predicate. The function [`odd`](https://hackage.haskell.org/package/base/docs/Prelude.html#v:odd)\n",
        "returns [`True`](https://hackage.haskell.org/package/base/docs/Prelude.html#v:True) on an odd number and [`False`](https://hackage.haskell.org/package/base/docs/Prelude.html#v:False) on an even one. The element is\n",
        "included in the list only if all the predicates evaluate to [`True`](https://hackage.haskell.org/package/base/docs/Prelude.html#v:True)."
      ]
    },
    {
      "cell_type": "code",
      "execution_count": null,
      "metadata": {
        "attributes": {
          "classes": [
            "haskell:",
            "hs"
          ],
          "id": "",
          "name": "\"code\""
        },
        "id": "L3BcG5N8_66h"
      },
      "outputs": [],
      "source": [
        "boomBangs [7..13]"
      ]
    },
    {
      "cell_type": "markdown",
      "metadata": {
        "id": "SnBX6CwC_66h"
      },
      "source": [
        "We can include several predicates. If we wanted all numbers from 10 to\n",
        "20 that are not 13, 15 or 19, we'd do:"
      ]
    },
    {
      "cell_type": "code",
      "execution_count": null,
      "metadata": {
        "attributes": {
          "classes": [
            "haskell:",
            "ghci"
          ],
          "id": "",
          "name": "\"code\""
        },
        "id": "_oYbozbl_66i"
      },
      "outputs": [],
      "source": [
        "[ x | x <- [10..20], x /= 13, x /= 15, x /= 19]"
      ]
    },
    {
      "cell_type": "markdown",
      "metadata": {
        "id": "3iBLk3lL_66i"
      },
      "source": [
        "Not only can we have multiple predicates in list comprehensions (an\n",
        "element must satisfy all the predicates to be included in the resulting\n",
        "list), we can also draw from several lists. When drawing from several\n",
        "lists, comprehensions produce all combinations of the given lists and\n",
        "then join them by the output function we supply. A list produced by a\n",
        "comprehension that draws from two lists of length 4 will have a length\n",
        "of 16, provided we don't filter them. If we have two lists, `[2,5,10]` and\n",
        "`[8,10,11]` and we want to get the products of all the possible\n",
        "combinations between numbers in those lists, here's what we'd do."
      ]
    },
    {
      "cell_type": "code",
      "execution_count": null,
      "metadata": {
        "attributes": {
          "classes": [
            "haskell:",
            "ghci"
          ],
          "id": "",
          "name": "\"code\""
        },
        "id": "T0NJ_Qfl_66i"
      },
      "outputs": [],
      "source": [
        "[ x*y | x <- [2,5,10], y <- [8,10,11]]"
      ]
    },
    {
      "cell_type": "markdown",
      "metadata": {
        "id": "VbhxYLLh_66i"
      },
      "source": [
        "As expected, the length of the new list is 9. What if we wanted all\n",
        "possible products that are more than 50?"
      ]
    },
    {
      "cell_type": "code",
      "execution_count": null,
      "metadata": {
        "attributes": {
          "classes": [
            "haskell:",
            "ghci"
          ],
          "id": "",
          "name": "\"code\""
        },
        "id": "mAN2MmPj_66i"
      },
      "outputs": [],
      "source": [
        "[ x*y | x <- [2,5,10], y <- [8,10,11], x*y > 50]"
      ]
    },
    {
      "cell_type": "markdown",
      "metadata": {
        "id": "HcQ0FCZ3_66i"
      },
      "source": [
        "How about a list comprehension that combines a list of adjectives and a\n",
        "list of nouns … for epic hilarity."
      ]
    },
    {
      "cell_type": "code",
      "execution_count": null,
      "metadata": {
        "attributes": {
          "classes": [
            "haskell:",
            "ghci"
          ],
          "id": "",
          "name": "\"code\""
        },
        "id": "UBgajw85_66j"
      },
      "outputs": [],
      "source": [
        "let nouns = [\"hobo\",\"frog\",\"pope\"]\n",
        "let adjectives = [\"lazy\",\"grouchy\",\"scheming\"]\n",
        "[adjective ++ \" \" ++ noun | adjective <- adjectives, noun <- nouns]"
      ]
    },
    {
      "cell_type": "markdown",
      "metadata": {
        "id": "LbM5l5Fi_66j"
      },
      "source": [
        "I know! Let's write our own version of [`length`](https://hackage.haskell.org/package/base/docs/Prelude.html#v:length)! We'll call it `length'`."
      ]
    },
    {
      "cell_type": "code",
      "execution_count": null,
      "metadata": {
        "attributes": {
          "classes": [
            "haskell:",
            "hs"
          ],
          "id": "",
          "name": "\"code\""
        },
        "id": "LcbJ49A6_66j"
      },
      "outputs": [],
      "source": [
        "length' xs = sum [1 | _ <- xs]"
      ]
    },
    {
      "cell_type": "markdown",
      "metadata": {
        "id": "cfgUEGGF_66j"
      },
      "source": [
        "`_` means that we don't care what we'll draw from the list anyway so\n",
        "instead of writing a variable name that we'll never use, we just write\n",
        "`_`. This function replaces every element of a list with `1` and then sums\n",
        "that up. This means that the resulting sum will be the length of our\n",
        "list.\n",
        "\n",
        "Just a friendly reminder: because strings are lists, we can use list\n",
        "comprehensions to process and produce strings. Here's a function that\n",
        "takes a string and removes everything except uppercase letters from it."
      ]
    },
    {
      "cell_type": "code",
      "execution_count": null,
      "metadata": {
        "attributes": {
          "classes": [
            "haskell:",
            "hs"
          ],
          "id": "",
          "name": "\"code\""
        },
        "id": "4Lk4pTCg_66j"
      },
      "outputs": [],
      "source": [
        "removeNonUppercase st = [ c | c <- st, c `elem` ['A'..'Z']]"
      ]
    },
    {
      "cell_type": "markdown",
      "metadata": {
        "id": "uySh9hDs_66j"
      },
      "source": [
        "Testing it out:"
      ]
    },
    {
      "cell_type": "code",
      "execution_count": null,
      "metadata": {
        "attributes": {
          "classes": [
            "haskell:",
            "ghci"
          ],
          "id": "",
          "name": "\"code\""
        },
        "id": "_aDBjpBY_66j"
      },
      "outputs": [],
      "source": [
        "removeNonUppercase \"Hahaha! Ahahaha!\""
      ]
    },
    {
      "cell_type": "code",
      "execution_count": null,
      "metadata": {
        "attributes": {
          "classes": [
            "haskell:",
            "ghci"
          ],
          "id": "",
          "name": "\"code\""
        },
        "id": "EXl_OWPS_66k"
      },
      "outputs": [],
      "source": [
        "removeNonUppercase \"IdontLIKEFROGS\""
      ]
    },
    {
      "cell_type": "markdown",
      "metadata": {
        "id": "1nFNrTj4_66k"
      },
      "source": [
        "The predicate here does all the work. It says that the character will be\n",
        "included in the new list only if it's an element of the list `['A'..'Z']`.\n",
        "Nested list comprehensions are also possible if you're operating on\n",
        "lists that contain lists. A list contains several lists of numbers.\n",
        "Let's remove all odd numbers without flattening the list."
      ]
    },
    {
      "cell_type": "code",
      "execution_count": null,
      "metadata": {
        "attributes": {
          "classes": [
            "haskell:",
            "ghci"
          ],
          "id": "",
          "name": "\"code\""
        },
        "id": "wWw5iLTb_66k"
      },
      "outputs": [],
      "source": [
        "let xxs = [[1,3,5,2,3,1,2,4,5],[1,2,3,4,5,6,7,8,9],[1,2,4,2,1,6,3,1,3,2,3,6]]\n",
        "[ [ x | x <- xs, even x ] | xs <- xxs]"
      ]
    },
    {
      "cell_type": "markdown",
      "metadata": {
        "id": "BeSOvR5N_66k"
      },
      "source": [
        "You can write list comprehensions across several lines. It's better to split longer list comprehensions across multiple\n",
        "lines, especially if they're nested.\n",
        "\n",
        "Tuples\n",
        "------\n",
        "\n",
        "<img src=\"https://github.com/kalz2q/mycolabnotebooks/blob/master/img/tuple.png?raw=1\" title=\"tuples\" style=\"float:right;margin-left:2em;\" />\n",
        "\n",
        "In some ways, tuples are like lists — they are a way to store several\n",
        "values into a single value. However, there are a few fundamental\n",
        "differences. A list of numbers is a list of numbers. That's its type and\n",
        "it doesn't matter if it has only one number in it or an infinite amount\n",
        "of numbers. Tuples, however, are used when you know exactly how many\n",
        "values you want to combine and its type depends on how many components\n",
        "it has and the types of the components. They are denoted with\n",
        "parentheses and their components are separated by commas.\n",
        "\n",
        "Another key difference is that they don't have to be homogenous. Unlike\n",
        "a list, a tuple can contain a combination of several types.\n",
        "\n",
        "Think about how we'd represent a two-dimensional vector in Haskell. One\n",
        "way would be to use a list. That would kind of work. So what if we\n",
        "wanted to put a couple of vectors in a list to represent points of a\n",
        "shape on a two-dimensional plane? We could do something like\n",
        "`[[1,2],[8,11],[4,5]]`. The problem with that method is that we could also\n",
        "do stuff like `[[1,2],[8,11,5],[4,5]]`, which Haskell has no problem with\n",
        "since it's still a list of lists with numbers but it kind of doesn't\n",
        "make sense. But a tuple of size two (also called a pair) is its own\n",
        "type, which means that a list can't have a couple of pairs in it and\n",
        "then a triple (a tuple of size three), so let's use that instead.\n",
        "Instead of surrounding the vectors with square brackets, we use\n",
        "parentheses: `[(1,2),(8,11),(4,5)]`. What if we tried to make a shape like\n",
        "`[(1,2),(8,11,5),(4,5)]`? Well, we'd get this error:"
      ]
    },
    {
      "cell_type": "code",
      "execution_count": null,
      "metadata": {
        "attributes": {
          "classes": [
            "haskell:",
            "ghci"
          ],
          "id": "",
          "name": "\"code\""
        },
        "id": "VrwFTxtm_66k"
      },
      "outputs": [],
      "source": [
        "[(1,2),(8,11,5),(4,5)]"
      ]
    },
    {
      "cell_type": "markdown",
      "metadata": {
        "id": "q6vkdaHk_66l"
      },
      "source": [
        "It's telling us that we tried to use a pair and a triple in the same\n",
        "list, which is not supposed to happen. You also couldn't make a list\n",
        "like `[(1,2),(\"One\",2)]` because the first element of the list is a pair\n",
        "of numbers and the second element is a pair consisting of a string and a\n",
        "number. Tuples can also be used to represent a wide variety of data. For\n",
        "instance, if we wanted to represent someone's name and age in Haskell,\n",
        "we could use a triple: `(\"Christopher\", \"Walken\", 55)`. As seen in this\n",
        "example, tuples can also contain lists.\n",
        "\n",
        "Use tuples when you know in advance how many components some piece of\n",
        "data should have. Tuples are much more rigid because each different size\n",
        "of tuple is its own type, so you can't write a general function to\n",
        "append an element to a tuple — you'd have to write a function for\n",
        "appending to a pair, one function for appending to a triple, one\n",
        "function for appending to a 4-tuple, etc.\n",
        "\n",
        "While there are singleton lists, there's no such thing as a singleton\n",
        "tuple. It doesn't really make much sense when you think about it. A\n",
        "singleton tuple would just be the value it contains and as such would\n",
        "have no benefit to us.\n",
        "\n",
        "Like lists, tuples can be compared with each other if their components\n",
        "can be compared. Only you can't compare two tuples of different sizes,\n",
        "whereas you can compare two lists of different sizes. Two useful\n",
        "functions that operate on pairs:\n",
        "\n",
        "__[`fst`](https://hackage.haskell.org/package/base/docs/Prelude.html#v:fst)__ takes a pair and returns its first component."
      ]
    },
    {
      "cell_type": "code",
      "execution_count": null,
      "metadata": {
        "attributes": {
          "classes": [
            "haskell:",
            "ghci"
          ],
          "id": "",
          "name": "\"code\""
        },
        "id": "UmMwrzoa_66l"
      },
      "outputs": [],
      "source": [
        "fst (8,11)"
      ]
    },
    {
      "cell_type": "code",
      "execution_count": null,
      "metadata": {
        "attributes": {
          "classes": [
            "haskell:",
            "ghci"
          ],
          "id": "",
          "name": "\"code\""
        },
        "id": "9tmLV3wQ_66l"
      },
      "outputs": [],
      "source": [
        "fst (\"Wow\", False)"
      ]
    },
    {
      "cell_type": "markdown",
      "metadata": {
        "id": "glyf1-Cz_66l"
      },
      "source": [
        "__[`snd`](https://hackage.haskell.org/package/base/docs/Prelude.html#v:snd)__ takes a pair and returns its second component. Surprise!"
      ]
    },
    {
      "cell_type": "code",
      "execution_count": null,
      "metadata": {
        "attributes": {
          "classes": [
            "haskell:",
            "ghci"
          ],
          "id": "",
          "name": "\"code\""
        },
        "id": "PZ0XbQzt_66l"
      },
      "outputs": [],
      "source": [
        "snd (8,11)"
      ]
    },
    {
      "cell_type": "code",
      "execution_count": null,
      "metadata": {
        "attributes": {
          "classes": [
            "haskell:",
            "ghci"
          ],
          "id": "",
          "name": "\"code\""
        },
        "id": "1zMkhARp_66l"
      },
      "outputs": [],
      "source": [
        "snd (\"Wow\", False)"
      ]
    },
    {
      "cell_type": "markdown",
      "metadata": {
        "id": "JajSw-nc_66m"
      },
      "source": [
        "> __Note:__ these functions operate only on pairs. They won't work on\n",
        "> triples, 4-tuples, 5-tuples, etc. We'll go over extracting data from\n",
        "> tuples in different ways a bit later.\n",
        "\n",
        "A cool function that produces a list of pairs: __[`zip`](https://hackage.haskell.org/package/base/docs/Prelude.html#v:zip)__. It takes two lists\n",
        "and then zips them together into one list by joining the matching\n",
        "elements into pairs. It's a really simple function but it has loads of\n",
        "uses. It's especially useful for when you want to combine two lists in a\n",
        "way or traverse two lists simultaneously. Here's a demonstration."
      ]
    },
    {
      "cell_type": "code",
      "execution_count": null,
      "metadata": {
        "attributes": {
          "classes": [
            "haskell:",
            "ghci"
          ],
          "id": "",
          "name": "\"code\""
        },
        "id": "3UxrMwyk_66m"
      },
      "outputs": [],
      "source": [
        "zip [1,2,3,4,5] [5,5,5,5,5]"
      ]
    },
    {
      "cell_type": "code",
      "execution_count": null,
      "metadata": {
        "attributes": {
          "classes": [
            "haskell:",
            "ghci"
          ],
          "id": "",
          "name": "\"code\""
        },
        "id": "suoVp7-B_66m"
      },
      "outputs": [],
      "source": [
        "zip [1 .. 5] [\"one\", \"two\", \"three\", \"four\", \"five\"]"
      ]
    },
    {
      "cell_type": "markdown",
      "metadata": {
        "id": "zrXDEKbY_66m"
      },
      "source": [
        "It pairs up the elements and produces a new list. The first element goes\n",
        "with the first, the second with the second, etc. Notice that because\n",
        "pairs can have different types in them, [`zip`](https://hackage.haskell.org/package/base/docs/Prelude.html#v:zip) can take two lists that\n",
        "contain different types and zip them up. What happens if the lengths of\n",
        "the lists don't match?"
      ]
    },
    {
      "cell_type": "code",
      "execution_count": null,
      "metadata": {
        "attributes": {
          "classes": [
            "haskell:",
            "ghci"
          ],
          "id": "",
          "name": "\"code\""
        },
        "id": "ejj3sfUg_66m"
      },
      "outputs": [],
      "source": [
        "zip [5,3,2,6,2,7,2,5,4,6,6] [\"im\",\"a\",\"turtle\"]"
      ]
    },
    {
      "cell_type": "markdown",
      "metadata": {
        "id": "YyBxXy4L_66m"
      },
      "source": [
        "The longer list simply gets cut off to match the length of the shorter\n",
        "one. Because Haskell is lazy, we can zip finite lists with infinite\n",
        "lists:"
      ]
    },
    {
      "cell_type": "code",
      "execution_count": null,
      "metadata": {
        "attributes": {
          "classes": [
            "haskell:",
            "ghci"
          ],
          "id": "",
          "name": "\"code\""
        },
        "id": "DxPRHC5q_66m"
      },
      "outputs": [],
      "source": [
        "zip [1..] [\"apple\", \"orange\", \"cherry\", \"mango\"]"
      ]
    },
    {
      "cell_type": "markdown",
      "metadata": {
        "id": "CpqEsBSc_66n"
      },
      "source": [
        "<img src=\"https://github.com/kalz2q/mycolabnotebooks/blob/master/img/pythag.png?raw=1\" title=\"look at meee\" style=\"margin-left:auto;margin-right:auto;\" />\n",
        "\n",
        "Here's a problem that combines tuples and list comprehensions: which\n",
        "right triangle that has integers for all sides and all sides equal to or\n",
        "smaller than 10 has a perimeter of 24? First, let's try generating all\n",
        "triangles with sides equal to or smaller than 10:"
      ]
    },
    {
      "cell_type": "code",
      "execution_count": null,
      "metadata": {
        "attributes": {
          "classes": [
            "haskell:",
            "ghci"
          ],
          "id": "",
          "name": "\"code\""
        },
        "id": "nHJLf7ts_66n"
      },
      "outputs": [],
      "source": [
        "let triangles = [ (a,b,c) | c <- [1..10], b <- [1..10], a <- [1..10] ]"
      ]
    },
    {
      "cell_type": "markdown",
      "metadata": {
        "id": "nFtbJIvK_66n"
      },
      "source": [
        "We're just drawing from three lists and our output function is combining\n",
        "them into a triple. If you evaluate that by typing out `triangles` in\n",
        "GHC, you'll get a list of all possible triangles with sides under or\n",
        "equal to 10. Next, we'll add a condition that they all have to be right\n",
        "triangles. We'll also modify this function by taking into consideration\n",
        "that side b isn't larger than the hypotenuse and that side a isn't\n",
        "larger than side b."
      ]
    },
    {
      "cell_type": "code",
      "execution_count": null,
      "metadata": {
        "attributes": {
          "classes": [
            "haskell:",
            "ghci"
          ],
          "id": "",
          "name": "\"code\""
        },
        "id": "Auu9Uc-j_66n"
      },
      "outputs": [],
      "source": [
        "let rightTriangles = [ (a,b,c) | c <- [1..10], b <- [1..c], a <- [1..b], a^2 + b^2 == c^2]"
      ]
    },
    {
      "cell_type": "markdown",
      "metadata": {
        "id": "bYyaj653_66n"
      },
      "source": [
        "We're almost done. Now, we just modify the function by saying that we\n",
        "want the ones where the perimeter is 24."
      ]
    },
    {
      "cell_type": "code",
      "execution_count": null,
      "metadata": {
        "attributes": {
          "classes": [
            "haskell:",
            "ghci"
          ],
          "id": "",
          "name": "\"code\""
        },
        "id": "WvEXeId7_66n"
      },
      "outputs": [],
      "source": [
        "let rightTriangles' = [ (a,b,c) | c <- [1..10], b <- [1..c], a <- [1..b], a^2 + b^2 == c^2, a+b+c == 24]\n",
        "rightTriangles'"
      ]
    },
    {
      "cell_type": "markdown",
      "metadata": {
        "id": "v7D1jLDP_66n"
      },
      "source": [
        "And there's our answer! This is a common pattern in functional\n",
        "programming. You take a starting set of solutions and then you apply\n",
        "transformations to those solutions and filter them until you get the\n",
        "right ones."
      ]
    }
  ]
}