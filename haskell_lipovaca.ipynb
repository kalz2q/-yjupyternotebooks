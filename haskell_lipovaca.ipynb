{
  "nbformat": 4,
  "nbformat_minor": 0,
  "metadata": {
    "colab": {
      "name": "haskell_lipovaca.ipynb",
      "provenance": [],
      "toc_visible": true,
      "authorship_tag": "ABX9TyO3RKjQzMaL2idosqYwO71B",
      "include_colab_link": true
    },
    "kernelspec": {
      "name": "python3",
      "display_name": "Python 3"
    },
    "language_info": {
      "name": "python"
    }
  },
  "cells": [
    {
      "cell_type": "markdown",
      "metadata": {
        "id": "view-in-github",
        "colab_type": "text"
      },
      "source": [
        "<a href=\"https://colab.research.google.com/github/kalz2q/mycolabnotebooks/blob/master/haskell_lipovaca.ipynb\" target=\"_parent\"><img src=\"https://colab.research.google.com/assets/colab-badge.svg\" alt=\"Open In Colab\"/></a>"
      ]
    },
    {
      "cell_type": "markdown",
      "source": [
        "# メモ\n",
        "\n",
        "learn you a haskell for great good を jupyter notebook にしてくれた人がいる。これを colab 化する。\n",
        "\n",
        "https://github.com/jamesdbrock/learn-you-a-haskell-notebook/tree/master/notebook\n",
        "\n",
        "https://colab.research.google.com/github/jamesdbrock/learn-you-a-haskell-notebook/blob/master/notebook/00-preface.ipynb"
      ],
      "metadata": {
        "id": "11HWYhSX8JHL"
      }
    },
    {
      "cell_type": "code",
      "source": [
        ""
      ],
      "metadata": {
        "id": "u8BK7s-v9R6o"
      },
      "execution_count": null,
      "outputs": []
    },
    {
      "cell_type": "markdown",
      "source": [
        "# いまここ"
      ],
      "metadata": {
        "id": "UcHkB1n99kcc"
      }
    },
    {
      "cell_type": "markdown",
      "metadata": {
        "id": "HtraINMJ9LqB"
      },
      "source": [
        "<img src=\"img/cover.png\" style=\"\"/>\n",
        "\n",
        "Preface to the Jupyter notebook\n",
        "===============================\n",
        "\n",
        "This is a Jupyter notebook adaptation of the book [__*Learn You a Haskell for Great Good!*__](http://learnyouahaskell.com/) by Miran Lipovača.\n",
        "\n",
        "I learned Haskell from this book in 2014 by following along in [GHCI](https://downloads.haskell.org/~ghc/latest/docs/html/users_guide/ghci.html), as the book suggested.\n",
        "\n",
        "In 2019, the Jupyter notebook format would be a nice way read this book. This is one of the best cases for Theodore Gray's idea of the [computational essay](https://www.theatlantic.com/science/archive/2018/04/the-scientific-paper-is-obsolete/556676/), and Andrew Gibiansky has made it possible with [IHaskell](https://github.com/gibiansky/IHaskell).\n",
        "\n",
        "Each chapter of the book is one `.ipynb` Jupyter notebook file. See the list of chapter files on the left sidebar in JupyterLab.\n",
        "\n",
        "Each notebook cell depends on cells that come before it, so run the notebooks from top to bottom. I have refactored code to make the examples work in Jupyter, and removed instructions for how to use GHCI. Other than that I have tried to be faithful to the original text.\n",
        " \n",
        "Miran Lipovača wrote this book and released it to the world under a [Creative Commons Attribution-Noncommercial-Share Alike 3.0 Unported License](http://creativecommons.org/licenses/by-nc-sa/3.0/), which means that the book is free-as-in-speech, and allows us to enjoy the book in notebook format. But that does not mean that the book is free-as-in-beer; it means that you, dear reader, pay for the book under the honor system. If you are honorable and you want to keep living in a world in which honorable artists license their art as Creative Commons, then [buy the book](http://learnyouahaskell.com/).\n",
        "\n",
        "<img src=\"img/holy.png\" style=\"float:right;margin-left:2em;\" />\n",
        "\n",
        "This book is for adults so it contains some naughty words and some ideas from category theory. Though there's less sex than you might expect.\n",
        "\n",
        "Please fork or contribute or ★ or report bugs on GitHub: <https://github.com/jamesdbrock/learn-you-a-haskell-notebook>\n",
        "\n",
        "<div style=\"text-align:right;\">\n",
        "James Brock, Tokyo 2019\n",
        "</div>"
      ]
    },
    {
      "cell_type": "code",
      "execution_count": null,
      "metadata": {
        "id": "Jf3qvwjV8Fc4"
      },
      "outputs": [],
      "source": [
        ""
      ]
    }
  ]
}