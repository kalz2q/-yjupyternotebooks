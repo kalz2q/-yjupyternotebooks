{
  "nbformat": 4,
  "nbformat_minor": 0,
  "metadata": {
    "colab": {
      "name": "haskell_lipovaca.ipynb",
      "provenance": [],
      "toc_visible": true,
      "authorship_tag": "ABX9TyOWeubsHStUiE0mmgs50vWI",
      "include_colab_link": true
    },
    "kernelspec": {
      "name": "python3",
      "display_name": "Python 3"
    },
    "language_info": {
      "name": "python"
    }
  },
  "cells": [
    {
      "cell_type": "markdown",
      "metadata": {
        "id": "view-in-github",
        "colab_type": "text"
      },
      "source": [
        "<a href=\"https://colab.research.google.com/github/kalz2q/mycolabnotebooks/blob/master/haskell_lipovaca.ipynb\" target=\"_parent\"><img src=\"https://colab.research.google.com/assets/colab-badge.svg\" alt=\"Open In Colab\"/></a>"
      ]
    },
    {
      "cell_type": "markdown",
      "source": [
        "# メモ\n",
        "Learn You a Haskell for Great Good! by Miran Lipovača を jupyter notebook にしてくれた人がいる。これを colab 化する。\n",
        "\n",
        "https://github.com/jamesdbrock/learn-you-a-haskell-notebook/tree/master/notebook\n",
        "\n",
        "いまここ  \n",
        "https://colab.research.google.com/github/jamesdbrock/learn-you-a-haskell-notebook/blob/master/notebook/02-starting-out.ipynb"
      ],
      "metadata": {
        "id": "11HWYhSX8JHL"
      }
    },
    {
      "cell_type": "code",
      "source": [
        "# 準備\n",
        "%%capture\n",
        "!apt install haskell-platform"
      ],
      "metadata": {
        "id": "u8BK7s-v9R6o"
      },
      "execution_count": 4,
      "outputs": []
    },
    {
      "cell_type": "code",
      "source": [
        "!ghc -e 'putStrLn \"hello world!\"'"
      ],
      "metadata": {
        "id": "eMR9fs65-M3I",
        "colab": {
          "base_uri": "https://localhost:8080/"
        },
        "outputId": "dfa4f79a-14ae-4456-948f-9887d3ae36bb"
      },
      "execution_count": null,
      "outputs": [
        {
          "output_type": "stream",
          "name": "stdout",
          "text": [
            "hello world!\n"
          ]
        }
      ]
    },
    {
      "cell_type": "code",
      "source": [
        "# ファイルを作る\n",
        "%%writefile hello.hs\n",
        "main = putStrLn \"hello, world\""
      ],
      "metadata": {
        "id": "06N_qZSm-Ng0",
        "outputId": "4510a88c-ac39-4b54-c32e-a9bc5a0101a3",
        "colab": {
          "base_uri": "https://localhost:8080/"
        }
      },
      "execution_count": null,
      "outputs": [
        {
          "output_type": "stream",
          "name": "stdout",
          "text": [
            "Writing hello.hs\n"
          ]
        }
      ]
    },
    {
      "cell_type": "code",
      "source": [
        "!runghc hello.hs"
      ],
      "metadata": {
        "id": "Cmw4Q8vV-RGh",
        "outputId": "fc033af4-9fb9-41e5-9b17-18802072e896",
        "colab": {
          "base_uri": "https://localhost:8080/"
        }
      },
      "execution_count": null,
      "outputs": [
        {
          "output_type": "stream",
          "name": "stdout",
          "text": [
            "hello, world\n"
          ]
        }
      ]
    },
    {
      "cell_type": "code",
      "source": [
        "%%html\n",
        "<table border=\"1\">\n",
        "<thead>\n",
        "<tr><th>キーボードショートカット </th><th> 作  用 </th></tr>\n",
        "</thead>\n",
        "<tbody>\n",
        "<tr><td>Shift+Enter </td><td> 実行して次のセルに移る </td></tr>\n",
        "<tr><td>Ctrl+Enter </td><td> 実行してそのセルに留まる </td></tr>\n",
        "<tr><td>Alt+Enter </td><td> 実行して次に新しいセルを作って移る </td></tr>\n",
        "<tr><td>Enter </td><td> セルを編集する </td></tr>\n",
        "<tr><td>Ctrl+Shift+Enter </td><td> 選択範囲を全て実行する </td></tr>\n",
        "<tr><td>Ctrl+Shift+- </td><td> カーサーポジションでセルを分割する</td></tr>\n",
        "</tbody>\n",
        "</table>"
      ],
      "metadata": {
        "id": "WROVZMZ0Bl_8",
        "colab": {
          "base_uri": "https://localhost:8080/",
          "height": 181
        },
        "outputId": "e0006102-40bb-40ed-8a37-b48bbaa1a7ec"
      },
      "execution_count": null,
      "outputs": [
        {
          "output_type": "display_data",
          "data": {
            "text/plain": [
              "<IPython.core.display.HTML object>"
            ],
            "text/html": [
              "<table border=\"1\">\n",
              "<thead>\n",
              "<tr><th>Keyboard Command </th><th> 作用 </th></tr>\n",
              "</thead>\n",
              "<tbody>\n",
              "<tr><td>Shift+Enter </td><td> 実行して次のセルに移る </td></tr>\n",
              "<tr><td>Ctrl+Enter </td><td> 実行してそのセルに留まる </td></tr>\n",
              "<tr><td>Alt+Enter </td><td> 実行して次に新しいセルを作って移る </td></tr>\n",
              "<tr><td>Enter </td><td> セルを編集する </td></tr>\n",
              "<tr><td>Ctrl+Shift+Enter </td><td> 選択範囲を全て実行する </td></tr>\n",
              "<tr><td>Ctrl+Shift+- </td><td> カーサーポジションでセルを分割する</td></tr>\n",
              "</tbody>\n",
              "</table>"
            ]
          },
          "metadata": {}
        }
      ]
    },
    {
      "cell_type": "markdown",
      "metadata": {
        "id": "Ofw8HkU4_66G"
      },
      "source": [
        "Here's some simple arithmetic."
      ]
    },
    {
      "cell_type": "code",
      "execution_count": null,
      "metadata": {
        "attributes": {
          "classes": [
            "haskell:",
            "ghci"
          ],
          "id": "",
          "name": "\"code\""
        },
        "id": "nQDSlSkL_66G",
        "outputId": "6f403df8-8644-4528-aba7-40f619f4d521",
        "colab": {
          "base_uri": "https://localhost:8080/"
        }
      },
      "outputs": [
        {
          "output_type": "stream",
          "name": "stdout",
          "text": [
            "17\n"
          ]
        }
      ],
      "source": [
        "!ghc -e '2 + 15'"
      ]
    },
    {
      "cell_type": "code",
      "execution_count": null,
      "metadata": {
        "attributes": {
          "classes": [
            "haskell:",
            "ghci"
          ],
          "id": "",
          "name": "\"code\""
        },
        "id": "QNI5QMaO_66H",
        "outputId": "965688ed-5ef8-495e-8c8a-5185ccf49656",
        "colab": {
          "base_uri": "https://localhost:8080/"
        }
      },
      "outputs": [
        {
          "output_type": "stream",
          "name": "stdout",
          "text": [
            "4900\n"
          ]
        }
      ],
      "source": [
        "!ghc -e '49 * 100'"
      ]
    },
    {
      "cell_type": "code",
      "execution_count": null,
      "metadata": {
        "attributes": {
          "classes": [
            "haskell:",
            "ghci"
          ],
          "id": "",
          "name": "\"code\""
        },
        "id": "FB31kju8_66I",
        "outputId": "73d1d681-e46d-4b32-f27e-01564395b3e5",
        "colab": {
          "base_uri": "https://localhost:8080/"
        }
      },
      "outputs": [
        {
          "output_type": "stream",
          "name": "stdout",
          "text": [
            "420\n"
          ]
        }
      ],
      "source": [
        "!ghc -e '1892 - 1472'"
      ]
    },
    {
      "cell_type": "code",
      "execution_count": null,
      "metadata": {
        "attributes": {
          "classes": [
            "haskell:",
            "ghci"
          ],
          "id": "",
          "name": "\"code\""
        },
        "id": "gpx8ai_h_66I",
        "outputId": "c36e9312-34d8-4ddd-ceb4-6d00dec647f5",
        "colab": {
          "base_uri": "https://localhost:8080/"
        }
      },
      "outputs": [
        {
          "output_type": "stream",
          "name": "stdout",
          "text": [
            "2.5\n"
          ]
        }
      ],
      "source": [
        "!ghc -e '5 / 2' #=> 2.5 になる"
      ]
    },
    {
      "cell_type": "code",
      "execution_count": null,
      "metadata": {
        "attributes": {
          "classes": [
            "haskell:",
            "ghci"
          ],
          "id": "",
          "name": "\"code\""
        },
        "id": "Vc08RRfS_66J",
        "outputId": "52a098a1-9124-4f09-e7bf-18712d511eb1",
        "colab": {
          "base_uri": "https://localhost:8080/"
        }
      },
      "outputs": [
        {
          "output_type": "stream",
          "name": "stdout",
          "text": [
            "1\n"
          ]
        }
      ],
      "source": [
        "!ghc -e '(50 * 100) - 4999'"
      ]
    },
    {
      "cell_type": "code",
      "execution_count": null,
      "metadata": {
        "attributes": {
          "classes": [
            "haskell:",
            "ghci"
          ],
          "id": "",
          "name": "\"code\""
        },
        "id": "JYSOYB-Z_66K",
        "outputId": "5f0c8294-49fa-4335-bbb5-0afdc123eb15",
        "colab": {
          "base_uri": "https://localhost:8080/"
        }
      },
      "outputs": [
        {
          "output_type": "stream",
          "name": "stdout",
          "text": [
            "1\n"
          ]
        }
      ],
      "source": [
        "!ghc -e '50 * 100 - 4999'"
      ]
    },
    {
      "cell_type": "code",
      "execution_count": null,
      "metadata": {
        "attributes": {
          "classes": [
            "haskell:",
            "ghci"
          ],
          "id": "",
          "name": "\"code\""
        },
        "id": "r43BCjRU_66K",
        "outputId": "581de55b-07e7-46d3-fd97-cc746645cab6",
        "colab": {
          "base_uri": "https://localhost:8080/"
        }
      },
      "outputs": [
        {
          "output_type": "stream",
          "name": "stdout",
          "text": [
            "-244950\n"
          ]
        }
      ],
      "source": [
        "!ghc -e '50 * (100 - 4999)'"
      ]
    },
    {
      "cell_type": "code",
      "source": [
        "# 次のコードはエラーになる\n",
        "# マイナス符号がついた数値は括弧で囲む必要がある\n",
        "%%script false\n",
        "!ghc -e '5 * -3'"
      ],
      "metadata": {
        "id": "usrAOlpHDtJM"
      },
      "execution_count": null,
      "outputs": []
    },
    {
      "cell_type": "code",
      "source": [
        "!ghc -e '3 == 4' #=> False と出力される"
      ],
      "metadata": {
        "id": "xr0hY2zVD41y",
        "outputId": "6eb8a4e9-7074-45df-9ac8-245356b1b9e8",
        "colab": {
          "base_uri": "https://localhost:8080/"
        }
      },
      "execution_count": null,
      "outputs": [
        {
          "output_type": "stream",
          "name": "stdout",
          "text": [
            "False\n"
          ]
        }
      ]
    },
    {
      "cell_type": "code",
      "source": [
        "!ghc -e 'True || False' #=> True"
      ],
      "metadata": {
        "id": "NuCc20DyEHud",
        "outputId": "ed19f842-c700-4380-8d6b-d279a1041c97",
        "colab": {
          "base_uri": "https://localhost:8080/"
        }
      },
      "execution_count": null,
      "outputs": [
        {
          "output_type": "stream",
          "name": "stdout",
          "text": [
            "True\n"
          ]
        }
      ]
    },
    {
      "cell_type": "code",
      "source": [
        "!ghc -e 'False && False' #=> False"
      ],
      "metadata": {
        "id": "lG4kjiaDElN0"
      },
      "execution_count": null,
      "outputs": []
    },
    {
      "cell_type": "code",
      "execution_count": null,
      "metadata": {
        "attributes": {
          "classes": [
            "haskell:",
            "ghci"
          ],
          "id": "",
          "name": "\"code\""
        },
        "id": "iQhTGA5m_66L"
      },
      "outputs": [],
      "source": [
        "!ghc -e 'True' #=> True"
      ]
    },
    {
      "cell_type": "code",
      "source": [
        "%%script False\n",
        "!ghc -e 'true' #=> error Variable not in scope: true"
      ],
      "metadata": {
        "id": "z4yHtkW0E8n_"
      },
      "execution_count": null,
      "outputs": []
    },
    {
      "cell_type": "code",
      "execution_count": null,
      "metadata": {
        "attributes": {
          "classes": [
            "haskell:",
            "ghci"
          ],
          "id": "",
          "name": "\"code\""
        },
        "id": "tgFzeSu3_66M"
      },
      "outputs": [],
      "source": [
        "!ghc -e 'not False'"
      ]
    },
    {
      "cell_type": "code",
      "execution_count": null,
      "metadata": {
        "attributes": {
          "classes": [
            "haskell:",
            "ghci"
          ],
          "id": "",
          "name": "\"code\""
        },
        "id": "cZ4vOEBr_66M"
      },
      "outputs": [],
      "source": [
        "!ghc -e 'not (True && True)'"
      ]
    },
    {
      "cell_type": "code",
      "execution_count": null,
      "metadata": {
        "attributes": {
          "classes": [
            "haskell:",
            "ghci"
          ],
          "id": "",
          "name": "\"code\""
        },
        "id": "sp9IOGai_66N"
      },
      "outputs": [],
      "source": [
        "!ghc -e '5 == 5'"
      ]
    },
    {
      "cell_type": "code",
      "execution_count": null,
      "metadata": {
        "attributes": {
          "classes": [
            "haskell:",
            "ghci"
          ],
          "id": "",
          "name": "\"code\""
        },
        "id": "y7qldU1y_66N"
      },
      "outputs": [],
      "source": [
        "!ghc -e '1 == 0'"
      ]
    },
    {
      "cell_type": "code",
      "execution_count": null,
      "metadata": {
        "attributes": {
          "classes": [
            "haskell:",
            "ghci"
          ],
          "id": "",
          "name": "\"code\""
        },
        "id": "l1kHrjdD_66O"
      },
      "outputs": [],
      "source": [
        "!ghc -e '5 /= 5' #=> False `/=` は not equal の意味"
      ]
    },
    {
      "cell_type": "code",
      "execution_count": null,
      "metadata": {
        "attributes": {
          "classes": [
            "haskell:",
            "ghci"
          ],
          "id": "",
          "name": "\"code\""
        },
        "id": "I58XZ1L2_66O"
      },
      "outputs": [],
      "source": [
        "!ghc -e '5 /= 4'"
      ]
    },
    {
      "cell_type": "code",
      "execution_count": null,
      "metadata": {
        "attributes": {
          "classes": [
            "haskell:",
            "ghci"
          ],
          "id": "",
          "name": "\"code\""
        },
        "id": "_DCMlZk3_66O"
      },
      "outputs": [],
      "source": [
        "!ghc -e '\"hello\" == \"hello\"'"
      ]
    },
    {
      "cell_type": "code",
      "execution_count": null,
      "metadata": {
        "attributes": {
          "classes": [
            "haskell:",
            "ghci"
          ],
          "id": "",
          "name": "\"code\""
        },
        "id": "w-d5Zm2__66O"
      },
      "outputs": [],
      "source": [
        "# 次のコードはエラーになる\n",
        "# %%script false の行を消して実行してエラーを確認すること\n",
        "%%script false\n",
        "!ghc -e '5 + \"llama\"'"
      ]
    },
    {
      "cell_type": "code",
      "source": [
        "# 文字列の連結は `++` を用いる\n",
        "!ghc -e '\"5\" ++ \"llama\"' #=> 5llama"
      ],
      "metadata": {
        "id": "za-sZ6iCNqTm"
      },
      "execution_count": null,
      "outputs": []
    },
    {
      "cell_type": "code",
      "source": [
        "# Haskell のエラーは比較的親切\n",
        "# `+` は両辺の引数が number でなければならない\n",
        "# `==` は両辺のデータの型が同じで比較可能なこと\n",
        "# 5 + 4.0 の場合は整数と浮動小数点数の足し算で浮動小数点数になる"
      ],
      "metadata": {
        "id": "6SS5Y4CXN0Pl"
      },
      "execution_count": null,
      "outputs": []
    },
    {
      "cell_type": "code",
      "source": [
        "# `*` のように数字と数字の間に置かれて作用する関数を中置関数 infix function と呼ぶ\n",
        "# 他の殆どの関数は前置 prefix function である\n",
        "# Haskell では前置関数の後にスペースを入れて引数を書く。括弧は要らない"
      ],
      "metadata": {
        "id": "ieqlUnkiXLSx"
      },
      "execution_count": null,
      "outputs": []
    },
    {
      "cell_type": "code",
      "execution_count": null,
      "metadata": {
        "attributes": {
          "classes": [
            "haskell:",
            "ghci"
          ],
          "id": "",
          "name": "\"code\""
        },
        "id": "5jRmWm8c_66P"
      },
      "outputs": [],
      "source": [
        "# succ 関数は順序の定義された型を引数に取り次に来る値を返す\n",
        "!ghc -e 'succ 8'\n",
        "!ghc -e 'pred 8'"
      ]
    },
    {
      "cell_type": "code",
      "execution_count": null,
      "metadata": {
        "attributes": {
          "classes": [
            "haskell:",
            "ghci"
          ],
          "id": "",
          "name": "\"code\""
        },
        "id": "IcPl9WGQ_66Q"
      },
      "outputs": [],
      "source": [
        "# min , max 関数は引数をそれぞれ 2つ取る\n",
        "!ghc -e 'min 9 10'\n",
        "!ghc -e 'min 3.4 3.2'\n",
        "!ghc -e 'max 100 101'"
      ]
    },
    {
      "cell_type": "code",
      "execution_count": null,
      "metadata": {
        "attributes": {
          "classes": [
            "haskell:",
            "ghci"
          ],
          "id": "",
          "name": "\"code\""
        },
        "id": "vf5dGTbQ_66Q",
        "colab": {
          "base_uri": "https://localhost:8080/"
        },
        "outputId": "7be7f5d1-da4e-41ab-a5c4-2d6d36b08b2c"
      },
      "outputs": [
        {
          "output_type": "stream",
          "name": "stdout",
          "text": [
            "16\n",
            "16\n",
            "\n",
            "100\n",
            "91\n"
          ]
        }
      ],
      "source": [
        "# 関数の優先順位が最も高い\n",
        "!ghc -e 'succ 9 + max 5 4 + 1' #=> 16\n",
        "!ghc -e '(succ 9) + (max 5 4) + 1' #=>16\n",
        "!echo\n",
        "!ghc -e 'succ 9 * 10' #=> 100\n",
        "!ghc -e 'succ (9 * 10)' #=>  91"
      ]
    },
    {
      "cell_type": "code",
      "source": [
        "# 前置関数を中置関数として使うとわかりやすい\n",
        "# 前置関数を中置関数として使う方法 => バッククオートで囲む\n",
        "!ghc -e 'div 92 10' #=> 9\n",
        "!ghc -e '92 `div` 10' #=> 9"
      ],
      "metadata": {
        "id": "NI0PFae20L6C"
      },
      "execution_count": null,
      "outputs": []
    },
    {
      "cell_type": "code",
      "source": [
        "# Haskell で `bar (bar 3)` は括弧が必須の言語で言えば `bar(bar(3))` に当たることを理解すること"
      ],
      "metadata": {
        "id": "3sGhw4MZ1IBH"
      },
      "execution_count": null,
      "outputs": []
    },
    {
      "cell_type": "code",
      "execution_count": null,
      "metadata": {
        "attributes": {
          "classes": [
            "haskell:",
            "hs"
          ],
          "id": "",
          "name": "\"code\""
        },
        "id": "sFYhFRJC_66R"
      },
      "outputs": [],
      "source": [
        "# 関数の作り方\n",
        "# 関数名と変数と `=` とその後に定義を書く\n",
        "!ghc -e 'doubleMe x = x + x'"
      ]
    },
    {
      "cell_type": "code",
      "source": [
        "# コマンドラインワンライナーで Haskell で関数定義して使う\n",
        "# 次のようには書けない\n",
        "# !ghc -e 'doubleMe x = x + x; doubleMe 9'\n",
        "# `let in` を使う\n",
        "!ghc -e 'let doubleMe x = x + x in doubleMe 9' #=> 18"
      ],
      "metadata": {
        "colab": {
          "base_uri": "https://localhost:8080/"
        },
        "id": "e1npC11e25eQ",
        "outputId": "e64e660e-ddc5-4b90-d0a3-9c901e82e7d0"
      },
      "execution_count": null,
      "outputs": [
        {
          "output_type": "stream",
          "name": "stdout",
          "text": [
            "18\n",
            "\n",
            "<interactive>:0:39: error: parse error on input ‘}’\n"
          ]
        }
      ]
    },
    {
      "cell_type": "code",
      "execution_count": null,
      "metadata": {
        "attributes": {
          "classes": [
            "haskell:",
            "hs"
          ],
          "id": "",
          "name": "\"code\""
        },
        "id": "93ulsol4_66S",
        "outputId": "c18f8a39-911f-4fc8-d233-bd607dff2373",
        "colab": {
          "base_uri": "https://localhost:8080/"
        }
      },
      "outputs": [
        {
          "output_type": "stream",
          "name": "stdout",
          "text": [
            "26\n",
            "26\n"
          ]
        }
      ],
      "source": [
        "# 引数を 2つ取る関数\n",
        "!ghc -e 'doubleUs x y = x*2 + y*2'\n",
        "!ghc -e 'let doubleUs x y = x*2 + y*2 in doubleUs 4 9'\n",
        "# 定義が複数あるとき波括弧とセミコロンでまとめられる\n",
        "# Haskellの関数は特定の順序である必要はないので、最初にdoubleMeを定義し、\n",
        "# 次にdoubleUsを定義するか、その逆にするかは問題ではありません。\n",
        "!ghc -e 'let {doubleUs x y = doubleMe x + doubleMe y; doubleMe x = x + x} in doubleUs 4 9'"
      ]
    },
    {
      "cell_type": "code",
      "source": [
        "# プログラムファイルを作って実行する\n",
        "%%writefile temp.hs\n",
        "main = \n",
        "  doubleMe x = x + x\n",
        "  doubleUs x y = doubleMe x + doubleMe y \n",
        "  putStrLin doubleUs 28 88 + doubleMe 123'"
      ],
      "metadata": {
        "id": "AkM_UIdOKx9v",
        "outputId": "e85af0d4-ff8f-46e5-e801-ff5bd9db9cd1",
        "colab": {
          "base_uri": "https://localhost:8080/"
        }
      },
      "execution_count": null,
      "outputs": [
        {
          "output_type": "stream",
          "name": "stdout",
          "text": [
            "Overwriting temp.hs\n"
          ]
        }
      ]
    },
    {
      "cell_type": "code",
      "source": [
        "# 実験 プログラムファイルを作って実行する\n",
        "%%writefile temp.hs\n",
        "doubleMe x = x + x\n",
        "doubleUs x y = doubleMe x + doubleMe y \n",
        "main = \n",
        "  print $ doubleUs 28 88 + doubleMe 123"
      ],
      "metadata": {
        "id": "UIADvhuZXUgB",
        "outputId": "c1183481-e16d-4553-fb53-dc0ea37a0169",
        "colab": {
          "base_uri": "https://localhost:8080/"
        }
      },
      "execution_count": null,
      "outputs": [
        {
          "output_type": "stream",
          "name": "stdout",
          "text": [
            "Overwriting temp.hs\n"
          ]
        }
      ]
    },
    {
      "cell_type": "code",
      "source": [
        "!runghc temp.hs #=> 56+176+246 \n",
        "!ghc -e '56+176+246'"
      ],
      "metadata": {
        "id": "U13OrHwsLW1N",
        "outputId": "40ea61cf-6be9-4042-94d2-aa12def7d8af",
        "colab": {
          "base_uri": "https://localhost:8080/"
        }
      },
      "execution_count": null,
      "outputs": [
        {
          "output_type": "stream",
          "name": "stdout",
          "text": [
            "478\n",
            "478\n"
          ]
        }
      ]
    },
    {
      "cell_type": "code",
      "source": [
        "# 次に、数値に2を掛ける関数を作成しますが、100より大きい数値はそのままで十分な大きさであるため、\n",
        "# その数値が100以下の場合に限ります。\n",
        "%%script false\n",
        "doubleSmallNumber x = if x > 100\n",
        "                        then x\n",
        "                        else x*2"
      ],
      "metadata": {
        "id": "kScsCRUmghF_"
      },
      "execution_count": null,
      "outputs": []
    },
    {
      "cell_type": "code",
      "source": [
        "!ghc -e 'let doubleSmallNumber x = if x > 100 then x else x*2 in doubleSmallNumber 42'"
      ],
      "metadata": {
        "colab": {
          "base_uri": "https://localhost:8080/"
        },
        "id": "iEW-CplZu2GS",
        "outputId": "fb1ea452-5bb8-478a-9d5a-147ceb499970"
      },
      "execution_count": null,
      "outputs": [
        {
          "output_type": "stream",
          "name": "stdout",
          "text": [
            "84\n"
          ]
        }
      ]
    },
    {
      "cell_type": "code",
      "source": [
        "# Haskell の if ステートメントは、else部 分が必須である\n",
        "# Haskell ではすべての式と関数が何かを返す必要があります\n",
        "# Haskellの if ステートメントは式であり、常に何かを返します\n",
        "# 前の関数で生成されたすべての数値に1を追加したい場合は、その本体をこのように書くことができます。"
      ],
      "metadata": {
        "id": "0WO0eMdFwUZG"
      },
      "execution_count": null,
      "outputs": []
    },
    {
      "cell_type": "code",
      "execution_count": null,
      "metadata": {
        "attributes": {
          "classes": [
            "haskell:",
            "hs"
          ],
          "id": "",
          "name": "\"code\""
        },
        "id": "fKi0Sp6c_66T"
      },
      "outputs": [],
      "source": [
        "%%script false\n",
        "doubleSmallNumber' x = (if x > 100 then x else x*2) + 1"
      ]
    },
    {
      "cell_type": "code",
      "source": [
        "!ghc -e \"let doubleSmallNumber' x = (if x > 100 then x else x*2) + 1 in doubleSmallNumber' 42\""
      ],
      "metadata": {
        "colab": {
          "base_uri": "https://localhost:8080/"
        },
        "id": "aIcB-nPsxhZI",
        "outputId": "6d773df1-70a1-44ef-f812-1b2aa20d4fd3"
      },
      "execution_count": null,
      "outputs": [
        {
          "output_type": "stream",
          "name": "stdout",
          "text": [
            "85\n"
          ]
        }
      ]
    },
    {
      "cell_type": "code",
      "source": [
        "# このテキストではこのように関数をちょっと変更した時に関数名の末尾に\n",
        "# アポストロフィ `'` をつけることにしている\n",
        "# コマンドラインワンライナーにする際、通常文字列をワンクオート (= アポストロフィ)\n",
        "# で囲むのでこれはトラブルの原因になるのでよろしくない\n",
        "# functionname02 とかにする"
      ],
      "metadata": {
        "id": "5Gv1jpMGxdc-"
      },
      "execution_count": null,
      "outputs": []
    },
    {
      "cell_type": "code",
      "execution_count": null,
      "metadata": {
        "attributes": {
          "classes": [
            "haskell:",
            "hs"
          ],
          "id": "",
          "name": "\"code\""
        },
        "id": "kZQLauwV_66U",
        "colab": {
          "base_uri": "https://localhost:8080/"
        },
        "outputId": "5f0afa74-2e1c-4186-8ffa-3799ef34f457"
      },
      "outputs": [
        {
          "output_type": "stream",
          "name": "stdout",
          "text": [
            "Overwriting temp.hs\n"
          ]
        }
      ],
      "source": [
        "# パラメーター なしの関数\n",
        "%%writefile temp.hs\n",
        "conanO'Brien = \"It's a-me, Conan O'Brien!\"\n",
        "main =\n",
        "  putStrLn conanO'Brien"
      ]
    },
    {
      "cell_type": "code",
      "source": [
        "!runghc temp.hs"
      ],
      "metadata": {
        "colab": {
          "base_uri": "https://localhost:8080/"
        },
        "id": "LtNPLto1zada",
        "outputId": "1fede8d6-714e-4ae8-cfc5-3a05de459a66"
      },
      "execution_count": null,
      "outputs": [
        {
          "output_type": "stream",
          "name": "stdout",
          "text": [
            "It's a-me, Conan O'Brien!\n"
          ]
        }
      ]
    },
    {
      "cell_type": "code",
      "source": [
        "# 上の関数はパラメーターをとらない例である\n",
        "# 関数名は大文字で始めることが出来ない\n",
        "# パラメーターを受け取らない関数は通常定義(名前)である、と言う\n",
        "# Haskell は意味を変更出来ないため\n",
        "# conanO'Brienと文字列「It'sa-me、ConanO'Brien！」 を互換的に使用できます"
      ],
      "metadata": {
        "id": "9CFXx4FGzz1G"
      },
      "execution_count": null,
      "outputs": []
    },
    {
      "cell_type": "code",
      "source": [
        "# しかし!!!! アポストロフィは面倒なので外してみる!!!!\n",
        "!ghc -e 'let conanOBrien = \"Its a-me, Conan OBrien!\" in putStrLn conanOBrien'"
      ],
      "metadata": {
        "colab": {
          "base_uri": "https://localhost:8080/"
        },
        "id": "89fdbI6R0pvS",
        "outputId": "85f5bc44-07a4-4799-d14d-1d820db9e7ee"
      },
      "execution_count": null,
      "outputs": [
        {
          "output_type": "stream",
          "name": "stdout",
          "text": [
            "Its a-me, Conan OBrien!\n"
          ]
        }
      ]
    },
    {
      "cell_type": "markdown",
      "source": [
        "---\n",
        "リスト"
      ],
      "metadata": {
        "id": "FoM-FaDF3rgF"
      }
    },
    {
      "cell_type": "code",
      "source": [
        "# 連続した整数のリストは範囲を使って次のように書く\n",
        "%%script false\n",
        "[1..20]"
      ],
      "metadata": {
        "id": "omwh-pk64AaP"
      },
      "execution_count": null,
      "outputs": []
    },
    {
      "cell_type": "code",
      "source": [
        "!ghc -e '[1..20]'\n",
        "!ghc -e \"['a'..'z']\"\n",
        "!ghc -e \"['K'..'Z']\""
      ],
      "metadata": {
        "id": "Tyis9Le64INb",
        "outputId": "74a6b951-49ab-4579-92db-ed6d0202852d",
        "colab": {
          "base_uri": "https://localhost:8080/"
        }
      },
      "execution_count": null,
      "outputs": [
        {
          "output_type": "stream",
          "name": "stdout",
          "text": [
            "[1,2,3,4,5,6,7,8,9,10,11,12,13,14,15,16,17,18,19,20]\n",
            "\"abcdefghijklmnopqrstuvwxyz\"\n",
            "\"KLMNOPQRSTUVWXYZ\"\n"
          ]
        }
      ]
    },
    {
      "cell_type": "code",
      "source": [
        "# 範囲にステップを指定する方法\n",
        "!ghc -e '[2,4..20]'\n",
        "!ghc -e '[3,6..20]'"
      ],
      "metadata": {
        "id": "zRTI9QvG_66e",
        "outputId": "65792924-fec4-4216-8835-0e4cf03efc19",
        "colab": {
          "base_uri": "https://localhost:8080/"
        }
      },
      "execution_count": null,
      "outputs": [
        {
          "output_type": "stream",
          "name": "stdout",
          "text": [
            "[2,4,6,8,10,12,14,16,18,20]\n",
            "[3,6,9,12,15,18]\n"
          ]
        }
      ]
    },
    {
      "cell_type": "code",
      "source": [
        "# 等差数列にしか使えないみたい\n",
        "# マイナスは出来る [20,19..1]\n",
        "# 小数点の差はどうするのか #=> 使わない方が良い\n",
        "!ghc -e '[0.1, 0.3 .. 1]'"
      ],
      "metadata": {
        "id": "4C92QDBB5dsx",
        "outputId": "0dc6cadd-56a7-4829-f586-cae7a9b082cb",
        "colab": {
          "base_uri": "https://localhost:8080/"
        }
      },
      "execution_count": null,
      "outputs": [
        {
          "output_type": "stream",
          "name": "stdout",
          "text": [
            "[0.1,0.3,0.5,0.7,0.8999999999999999,1.0999999999999999]\n"
          ]
        }
      ]
    },
    {
      "cell_type": "code",
      "source": [
        "# 無限リスト\n",
        "# Haskell は lazy なので無限リストは使う時まで評価しない\n",
        "# 例えば 13 の倍数のリストの最初の 24個が欲しいとする\n",
        "# 範囲 range で上限を指定しないと無限リストになる\n",
        "!ghc -e '[13,26 .. 13*24]'\n",
        "!ghc -e 'take 24 [13,26 ..]'"
      ],
      "metadata": {
        "id": "O3S5cL5Q7x8p",
        "colab": {
          "base_uri": "https://localhost:8080/"
        },
        "outputId": "a62cef6c-e470-415e-dd79-ed47d74c138b"
      },
      "execution_count": null,
      "outputs": [
        {
          "output_type": "stream",
          "name": "stdout",
          "text": [
            "[13,26,39,52,65,78,91,104,117,130,143,156,169,182,195,208,221,234,247,260,273,286,299,312]\n",
            "[13,26,39,52,65,78,91,104,117,130,143,156,169,182,195,208,221,234,247,260,273,286,299,312]\n"
          ]
        }
      ]
    },
    {
      "cell_type": "code",
      "source": [
        "# 無限リストを生成する関数\n",
        "# cycle は与えられたリストを無限に繰り返す\n",
        "!ghc -e 'take 10 (cycle [1,2,3])'\n",
        "!ghc -e 'take 12 (cycle \"LOL \")'"
      ],
      "metadata": {
        "colab": {
          "base_uri": "https://localhost:8080/"
        },
        "id": "SDkmxahDKJjS",
        "outputId": "aa80607c-897a-4cd1-d75e-2636ae628df3"
      },
      "execution_count": null,
      "outputs": [
        {
          "output_type": "stream",
          "name": "stdout",
          "text": [
            "[1,2,3,1,2,3,1,2,3,1]\n",
            "\"LOL LOL LOL \"\n"
          ]
        }
      ]
    },
    {
      "cell_type": "code",
      "source": [
        "# repeat\n",
        "!ghc -e 'take 10 (repeat 5)'\n",
        "!ghc -e 'take 10 (repeat \"LOL\")'\n",
        "# 単一要素の繰り返せは replicate の方が便利だろう\n",
        "!ghc -e 'replicate 3 10'\n",
        "!ghc -e 'replicate 3 \"LOL\"'"
      ],
      "metadata": {
        "colab": {
          "base_uri": "https://localhost:8080/"
        },
        "id": "sCWuQVnELloi",
        "outputId": "704aeaad-52ce-4e18-a14b-d0946ee3c3bd"
      },
      "execution_count": null,
      "outputs": [
        {
          "output_type": "stream",
          "name": "stdout",
          "text": [
            "[5,5,5,5,5,5,5,5,5,5]\n",
            "[\"LOL\",\"LOL\",\"LOL\",\"LOL\",\"LOL\",\"LOL\",\"LOL\",\"LOL\",\"LOL\",\"LOL\"]\n",
            "[10,10,10]\n",
            "[\"LOL\",\"LOL\",\"LOL\"]\n"
          ]
        }
      ]
    },
    {
      "cell_type": "markdown",
      "source": [
        "# いまここ"
      ],
      "metadata": {
        "id": "YEW7zMeF2V-j"
      }
    },
    {
      "cell_type": "code",
      "source": [
        "# 内包表記 list comprehension , set comprehension\n",
        "# 数学で集合を習った時に次のような\n",
        "# 数学のコースで、具体的な集合を表すのに次のような表記を用いる\n",
        "%%latex\n",
        "S=\\{2 \\cdot x \\mid x \\in \\mathbb{N}, x \\leqq 10 \\}"
      ],
      "metadata": {
        "id": "caViNeJrOpNx",
        "outputId": "eb7e59e6-e334-444c-d99a-e4fc5bb42b0e",
        "colab": {
          "base_uri": "https://localhost:8080/",
          "height": 39
        }
      },
      "execution_count": 3,
      "outputs": [
        {
          "output_type": "display_data",
          "data": {
            "text/plain": [
              "<IPython.core.display.Latex object>"
            ],
            "text/latex": "S=\\{2 \\cdot x \\mid x \\in \\mathbb{N}, x \\leqq 10 \\}"
          },
          "metadata": {}
        }
      ]
    },
    {
      "cell_type": "code",
      "source": [
        "# haskell でやってみよう\n",
        "!ghc -e '[x * 2 | x <- [1..10]]'\n",
        "!ghc -e '[x*2 | x <- [1..10], x * 2 >= 12]'\n",
        "!ghc -e '[ x | x <- [50..100], x `mod` 7 == 3]'"
      ],
      "metadata": {
        "id": "8oSsEdhhGN-h",
        "outputId": "3ade878e-c97d-41df-fb57-fe0ceb8b2700",
        "colab": {
          "base_uri": "https://localhost:8080/"
        }
      },
      "execution_count": 6,
      "outputs": [
        {
          "output_type": "stream",
          "name": "stdout",
          "text": [
            "[2,4,6,8,10,12,14,16,18,20]\n",
            "[12,14,16,18,20]\n",
            "[52,59,66,73,80,87,94]\n"
          ]
        }
      ]
    },
    {
      "cell_type": "code",
      "source": [
        ""
      ],
      "metadata": {
        "id": "TLrNlLhRHP53"
      },
      "execution_count": null,
      "outputs": []
    },
    {
      "cell_type": "code",
      "source": [
        ""
      ],
      "metadata": {
        "id": "2SL2Y1iPHPwD"
      },
      "execution_count": null,
      "outputs": []
    },
    {
      "cell_type": "markdown",
      "metadata": {
        "id": "IEjFunlp_66g"
      },
      "source": [
        "If you've ever taken a\n",
        "course in mathematics, you've probably run into *set comprehensions*.\n",
        "They're normally used for building more specific sets out of general\n",
        "sets. A basic comprehension for a set that contains the first ten even\n",
        "natural numbers is\n",
        "\n",
        " $ S=\\{2 \\centerdot x | x \\in \\mathbb{N}, x \\le 10 \\}$\n",
        " \n",
        " . The part before\n",
        "the pipe is called the output function, `x` is the variable, `N` is the\n",
        "input set and `x <= 10` is the predicate. That means that the set\n",
        "contains the doubles of all natural numbers that satisfy the predicate.\n",
        "\n",
        "If we wanted to write that in Haskell, we could do something like `take\n",
        "10 [2,4..]`. But what if we didn't want doubles of the first 10 natural\n",
        "numbers but some kind of more complex function applied on them? We could\n",
        "use a list comprehension for that. List comprehensions are very similar\n",
        "to set comprehensions. We'll stick to getting the first 10 even numbers\n",
        "for now. The list comprehension we could use is `[x*2 | x <- [1..10]]`.\n",
        "`x` is drawn from `[1..10]` and for every element in `[1..10]` (which we have\n",
        "bound to `x`), we get that element, only doubled. Here's that\n",
        "comprehension in action."
      ]
    },
    {
      "cell_type": "code",
      "execution_count": null,
      "metadata": {
        "attributes": {
          "classes": [
            "haskell:",
            "ghci"
          ],
          "id": "",
          "name": "\"code\""
        },
        "id": "kZpiXKhD_66g"
      },
      "outputs": [],
      "source": [
        "[x*2 | x <- [1..10]]"
      ]
    },
    {
      "cell_type": "markdown",
      "metadata": {
        "id": "VgUf-L9f_66g"
      },
      "source": [
        "As you can see, we get the desired results. Now let's add a condition\n",
        "(or a predicate) to that comprehension. Predicates go after the binding\n",
        "parts and are separated from them by a comma. Let's say we want only the\n",
        "elements which, doubled, are greater than or equal to 12."
      ]
    },
    {
      "cell_type": "code",
      "execution_count": null,
      "metadata": {
        "attributes": {
          "classes": [
            "haskell:",
            "ghci"
          ],
          "id": "",
          "name": "\"code\""
        },
        "id": "iZfR0CMZ_66g"
      },
      "outputs": [],
      "source": [
        "[x*2 | x <- [1..10], x*2 >= 12]"
      ]
    },
    {
      "cell_type": "markdown",
      "metadata": {
        "id": "0G_YJazS_66g"
      },
      "source": [
        "Cool, it works. How about if we wanted all numbers from 50 to 100 whose\n",
        "remainder when divided with the number 7 is 3? Easy."
      ]
    },
    {
      "cell_type": "code",
      "execution_count": null,
      "metadata": {
        "attributes": {
          "classes": [
            "haskell:",
            "ghci"
          ],
          "id": "",
          "name": "\"code\""
        },
        "id": "3-qVlQOX_66g"
      },
      "outputs": [],
      "source": [
        "[ x | x <- [50..100], x `mod` 7 == 3]"
      ]
    },
    {
      "cell_type": "markdown",
      "metadata": {
        "id": "tynpbm6h_66h"
      },
      "source": [
        "Success! Note that weeding out lists by predicates is also called\n",
        "*filtering*. We took a list of numbers and we filtered them by the\n",
        "predicate. Now for another example. Let's say we want a comprehension\n",
        "that replaces each odd number greater than 10 with `\"BANG!\"` and each odd\n",
        "number that's less than 10 with `\"BOOM!\"`. If a number isn't odd, we throw\n",
        "it out of our list. For convenience, we'll put that comprehension inside\n",
        "a function so we can easily reuse it."
      ]
    },
    {
      "cell_type": "code",
      "execution_count": null,
      "metadata": {
        "attributes": {
          "classes": [
            "haskell:",
            "ghci"
          ],
          "id": "",
          "name": "\"code\""
        },
        "id": "hR9uQ8U1_66h"
      },
      "outputs": [],
      "source": [
        "boomBangs xs = [ if x < 10 then \"BOOM!\" else \"BANG!\" | x <- xs, odd x]"
      ]
    },
    {
      "cell_type": "markdown",
      "metadata": {
        "id": "UjTDYf6Z_66h"
      },
      "source": [
        "The last part of the comprehension is the predicate. The function [`odd`](https://hackage.haskell.org/package/base/docs/Prelude.html#v:odd)\n",
        "returns [`True`](https://hackage.haskell.org/package/base/docs/Prelude.html#v:True) on an odd number and [`False`](https://hackage.haskell.org/package/base/docs/Prelude.html#v:False) on an even one. The element is\n",
        "included in the list only if all the predicates evaluate to [`True`](https://hackage.haskell.org/package/base/docs/Prelude.html#v:True)."
      ]
    },
    {
      "cell_type": "code",
      "execution_count": null,
      "metadata": {
        "attributes": {
          "classes": [
            "haskell:",
            "hs"
          ],
          "id": "",
          "name": "\"code\""
        },
        "id": "L3BcG5N8_66h"
      },
      "outputs": [],
      "source": [
        "boomBangs [7..13]"
      ]
    },
    {
      "cell_type": "markdown",
      "metadata": {
        "id": "SnBX6CwC_66h"
      },
      "source": [
        "We can include several predicates. If we wanted all numbers from 10 to\n",
        "20 that are not 13, 15 or 19, we'd do:"
      ]
    },
    {
      "cell_type": "code",
      "execution_count": null,
      "metadata": {
        "attributes": {
          "classes": [
            "haskell:",
            "ghci"
          ],
          "id": "",
          "name": "\"code\""
        },
        "id": "_oYbozbl_66i"
      },
      "outputs": [],
      "source": [
        "[ x | x <- [10..20], x /= 13, x /= 15, x /= 19]"
      ]
    },
    {
      "cell_type": "markdown",
      "metadata": {
        "id": "3iBLk3lL_66i"
      },
      "source": [
        "Not only can we have multiple predicates in list comprehensions (an\n",
        "element must satisfy all the predicates to be included in the resulting\n",
        "list), we can also draw from several lists. When drawing from several\n",
        "lists, comprehensions produce all combinations of the given lists and\n",
        "then join them by the output function we supply. A list produced by a\n",
        "comprehension that draws from two lists of length 4 will have a length\n",
        "of 16, provided we don't filter them. If we have two lists, `[2,5,10]` and\n",
        "`[8,10,11]` and we want to get the products of all the possible\n",
        "combinations between numbers in those lists, here's what we'd do."
      ]
    },
    {
      "cell_type": "code",
      "execution_count": null,
      "metadata": {
        "attributes": {
          "classes": [
            "haskell:",
            "ghci"
          ],
          "id": "",
          "name": "\"code\""
        },
        "id": "T0NJ_Qfl_66i"
      },
      "outputs": [],
      "source": [
        "[ x*y | x <- [2,5,10], y <- [8,10,11]]"
      ]
    },
    {
      "cell_type": "markdown",
      "metadata": {
        "id": "VbhxYLLh_66i"
      },
      "source": [
        "As expected, the length of the new list is 9. What if we wanted all\n",
        "possible products that are more than 50?"
      ]
    },
    {
      "cell_type": "code",
      "execution_count": null,
      "metadata": {
        "attributes": {
          "classes": [
            "haskell:",
            "ghci"
          ],
          "id": "",
          "name": "\"code\""
        },
        "id": "mAN2MmPj_66i"
      },
      "outputs": [],
      "source": [
        "[ x*y | x <- [2,5,10], y <- [8,10,11], x*y > 50]"
      ]
    },
    {
      "cell_type": "markdown",
      "metadata": {
        "id": "HcQ0FCZ3_66i"
      },
      "source": [
        "How about a list comprehension that combines a list of adjectives and a\n",
        "list of nouns … for epic hilarity."
      ]
    },
    {
      "cell_type": "code",
      "execution_count": null,
      "metadata": {
        "attributes": {
          "classes": [
            "haskell:",
            "ghci"
          ],
          "id": "",
          "name": "\"code\""
        },
        "id": "UBgajw85_66j"
      },
      "outputs": [],
      "source": [
        "let nouns = [\"hobo\",\"frog\",\"pope\"]\n",
        "let adjectives = [\"lazy\",\"grouchy\",\"scheming\"]\n",
        "[adjective ++ \" \" ++ noun | adjective <- adjectives, noun <- nouns]"
      ]
    },
    {
      "cell_type": "markdown",
      "metadata": {
        "id": "LbM5l5Fi_66j"
      },
      "source": [
        "I know! Let's write our own version of [`length`](https://hackage.haskell.org/package/base/docs/Prelude.html#v:length)! We'll call it `length'`."
      ]
    },
    {
      "cell_type": "code",
      "execution_count": null,
      "metadata": {
        "attributes": {
          "classes": [
            "haskell:",
            "hs"
          ],
          "id": "",
          "name": "\"code\""
        },
        "id": "LcbJ49A6_66j"
      },
      "outputs": [],
      "source": [
        "length' xs = sum [1 | _ <- xs]"
      ]
    },
    {
      "cell_type": "markdown",
      "metadata": {
        "id": "cfgUEGGF_66j"
      },
      "source": [
        "`_` means that we don't care what we'll draw from the list anyway so\n",
        "instead of writing a variable name that we'll never use, we just write\n",
        "`_`. This function replaces every element of a list with `1` and then sums\n",
        "that up. This means that the resulting sum will be the length of our\n",
        "list.\n",
        "\n",
        "Just a friendly reminder: because strings are lists, we can use list\n",
        "comprehensions to process and produce strings. Here's a function that\n",
        "takes a string and removes everything except uppercase letters from it."
      ]
    },
    {
      "cell_type": "code",
      "execution_count": null,
      "metadata": {
        "attributes": {
          "classes": [
            "haskell:",
            "hs"
          ],
          "id": "",
          "name": "\"code\""
        },
        "id": "4Lk4pTCg_66j"
      },
      "outputs": [],
      "source": [
        "removeNonUppercase st = [ c | c <- st, c `elem` ['A'..'Z']]"
      ]
    },
    {
      "cell_type": "markdown",
      "metadata": {
        "id": "uySh9hDs_66j"
      },
      "source": [
        "Testing it out:"
      ]
    },
    {
      "cell_type": "code",
      "execution_count": null,
      "metadata": {
        "attributes": {
          "classes": [
            "haskell:",
            "ghci"
          ],
          "id": "",
          "name": "\"code\""
        },
        "id": "_aDBjpBY_66j"
      },
      "outputs": [],
      "source": [
        "removeNonUppercase \"Hahaha! Ahahaha!\""
      ]
    },
    {
      "cell_type": "code",
      "execution_count": null,
      "metadata": {
        "attributes": {
          "classes": [
            "haskell:",
            "ghci"
          ],
          "id": "",
          "name": "\"code\""
        },
        "id": "EXl_OWPS_66k"
      },
      "outputs": [],
      "source": [
        "removeNonUppercase \"IdontLIKEFROGS\""
      ]
    },
    {
      "cell_type": "markdown",
      "metadata": {
        "id": "1nFNrTj4_66k"
      },
      "source": [
        "The predicate here does all the work. It says that the character will be\n",
        "included in the new list only if it's an element of the list `['A'..'Z']`.\n",
        "Nested list comprehensions are also possible if you're operating on\n",
        "lists that contain lists. A list contains several lists of numbers.\n",
        "Let's remove all odd numbers without flattening the list."
      ]
    },
    {
      "cell_type": "code",
      "execution_count": null,
      "metadata": {
        "attributes": {
          "classes": [
            "haskell:",
            "ghci"
          ],
          "id": "",
          "name": "\"code\""
        },
        "id": "wWw5iLTb_66k"
      },
      "outputs": [],
      "source": [
        "let xxs = [[1,3,5,2,3,1,2,4,5],[1,2,3,4,5,6,7,8,9],[1,2,4,2,1,6,3,1,3,2,3,6]]\n",
        "[ [ x | x <- xs, even x ] | xs <- xxs]"
      ]
    },
    {
      "cell_type": "markdown",
      "metadata": {
        "id": "BeSOvR5N_66k"
      },
      "source": [
        "You can write list comprehensions across several lines. It's better to split longer list comprehensions across multiple\n",
        "lines, especially if they're nested.\n",
        "\n",
        "Tuples\n",
        "------\n",
        "\n",
        "<img src=\"https://github.com/kalz2q/mycolabnotebooks/blob/master/img/tuple.png?raw=1\" title=\"tuples\" style=\"float:right;margin-left:2em;\" />\n",
        "\n",
        "In some ways, tuples are like lists — they are a way to store several\n",
        "values into a single value. However, there are a few fundamental\n",
        "differences. A list of numbers is a list of numbers. That's its type and\n",
        "it doesn't matter if it has only one number in it or an infinite amount\n",
        "of numbers. Tuples, however, are used when you know exactly how many\n",
        "values you want to combine and its type depends on how many components\n",
        "it has and the types of the components. They are denoted with\n",
        "parentheses and their components are separated by commas.\n",
        "\n",
        "Another key difference is that they don't have to be homogenous. Unlike\n",
        "a list, a tuple can contain a combination of several types.\n",
        "\n",
        "Think about how we'd represent a two-dimensional vector in Haskell. One\n",
        "way would be to use a list. That would kind of work. So what if we\n",
        "wanted to put a couple of vectors in a list to represent points of a\n",
        "shape on a two-dimensional plane? We could do something like\n",
        "`[[1,2],[8,11],[4,5]]`. The problem with that method is that we could also\n",
        "do stuff like `[[1,2],[8,11,5],[4,5]]`, which Haskell has no problem with\n",
        "since it's still a list of lists with numbers but it kind of doesn't\n",
        "make sense. But a tuple of size two (also called a pair) is its own\n",
        "type, which means that a list can't have a couple of pairs in it and\n",
        "then a triple (a tuple of size three), so let's use that instead.\n",
        "Instead of surrounding the vectors with square brackets, we use\n",
        "parentheses: `[(1,2),(8,11),(4,5)]`. What if we tried to make a shape like\n",
        "`[(1,2),(8,11,5),(4,5)]`? Well, we'd get this error:"
      ]
    },
    {
      "cell_type": "code",
      "execution_count": null,
      "metadata": {
        "attributes": {
          "classes": [
            "haskell:",
            "ghci"
          ],
          "id": "",
          "name": "\"code\""
        },
        "id": "VrwFTxtm_66k"
      },
      "outputs": [],
      "source": [
        "[(1,2),(8,11,5),(4,5)]"
      ]
    },
    {
      "cell_type": "markdown",
      "metadata": {
        "id": "q6vkdaHk_66l"
      },
      "source": [
        "It's telling us that we tried to use a pair and a triple in the same\n",
        "list, which is not supposed to happen. You also couldn't make a list\n",
        "like `[(1,2),(\"One\",2)]` because the first element of the list is a pair\n",
        "of numbers and the second element is a pair consisting of a string and a\n",
        "number. Tuples can also be used to represent a wide variety of data. For\n",
        "instance, if we wanted to represent someone's name and age in Haskell,\n",
        "we could use a triple: `(\"Christopher\", \"Walken\", 55)`. As seen in this\n",
        "example, tuples can also contain lists.\n",
        "\n",
        "Use tuples when you know in advance how many components some piece of\n",
        "data should have. Tuples are much more rigid because each different size\n",
        "of tuple is its own type, so you can't write a general function to\n",
        "append an element to a tuple — you'd have to write a function for\n",
        "appending to a pair, one function for appending to a triple, one\n",
        "function for appending to a 4-tuple, etc.\n",
        "\n",
        "While there are singleton lists, there's no such thing as a singleton\n",
        "tuple. It doesn't really make much sense when you think about it. A\n",
        "singleton tuple would just be the value it contains and as such would\n",
        "have no benefit to us.\n",
        "\n",
        "Like lists, tuples can be compared with each other if their components\n",
        "can be compared. Only you can't compare two tuples of different sizes,\n",
        "whereas you can compare two lists of different sizes. Two useful\n",
        "functions that operate on pairs:\n",
        "\n",
        "__[`fst`](https://hackage.haskell.org/package/base/docs/Prelude.html#v:fst)__ takes a pair and returns its first component."
      ]
    },
    {
      "cell_type": "code",
      "execution_count": null,
      "metadata": {
        "attributes": {
          "classes": [
            "haskell:",
            "ghci"
          ],
          "id": "",
          "name": "\"code\""
        },
        "id": "UmMwrzoa_66l"
      },
      "outputs": [],
      "source": [
        "fst (8,11)"
      ]
    },
    {
      "cell_type": "code",
      "execution_count": null,
      "metadata": {
        "attributes": {
          "classes": [
            "haskell:",
            "ghci"
          ],
          "id": "",
          "name": "\"code\""
        },
        "id": "9tmLV3wQ_66l"
      },
      "outputs": [],
      "source": [
        "fst (\"Wow\", False)"
      ]
    },
    {
      "cell_type": "markdown",
      "metadata": {
        "id": "glyf1-Cz_66l"
      },
      "source": [
        "__[`snd`](https://hackage.haskell.org/package/base/docs/Prelude.html#v:snd)__ takes a pair and returns its second component. Surprise!"
      ]
    },
    {
      "cell_type": "code",
      "execution_count": null,
      "metadata": {
        "attributes": {
          "classes": [
            "haskell:",
            "ghci"
          ],
          "id": "",
          "name": "\"code\""
        },
        "id": "PZ0XbQzt_66l"
      },
      "outputs": [],
      "source": [
        "snd (8,11)"
      ]
    },
    {
      "cell_type": "code",
      "execution_count": null,
      "metadata": {
        "attributes": {
          "classes": [
            "haskell:",
            "ghci"
          ],
          "id": "",
          "name": "\"code\""
        },
        "id": "1zMkhARp_66l"
      },
      "outputs": [],
      "source": [
        "snd (\"Wow\", False)"
      ]
    },
    {
      "cell_type": "markdown",
      "metadata": {
        "id": "JajSw-nc_66m"
      },
      "source": [
        "> __Note:__ these functions operate only on pairs. They won't work on\n",
        "> triples, 4-tuples, 5-tuples, etc. We'll go over extracting data from\n",
        "> tuples in different ways a bit later.\n",
        "\n",
        "A cool function that produces a list of pairs: __[`zip`](https://hackage.haskell.org/package/base/docs/Prelude.html#v:zip)__. It takes two lists\n",
        "and then zips them together into one list by joining the matching\n",
        "elements into pairs. It's a really simple function but it has loads of\n",
        "uses. It's especially useful for when you want to combine two lists in a\n",
        "way or traverse two lists simultaneously. Here's a demonstration."
      ]
    },
    {
      "cell_type": "code",
      "execution_count": null,
      "metadata": {
        "attributes": {
          "classes": [
            "haskell:",
            "ghci"
          ],
          "id": "",
          "name": "\"code\""
        },
        "id": "3UxrMwyk_66m"
      },
      "outputs": [],
      "source": [
        "zip [1,2,3,4,5] [5,5,5,5,5]"
      ]
    },
    {
      "cell_type": "code",
      "execution_count": null,
      "metadata": {
        "attributes": {
          "classes": [
            "haskell:",
            "ghci"
          ],
          "id": "",
          "name": "\"code\""
        },
        "id": "suoVp7-B_66m"
      },
      "outputs": [],
      "source": [
        "zip [1 .. 5] [\"one\", \"two\", \"three\", \"four\", \"five\"]"
      ]
    },
    {
      "cell_type": "markdown",
      "metadata": {
        "id": "zrXDEKbY_66m"
      },
      "source": [
        "It pairs up the elements and produces a new list. The first element goes\n",
        "with the first, the second with the second, etc. Notice that because\n",
        "pairs can have different types in them, [`zip`](https://hackage.haskell.org/package/base/docs/Prelude.html#v:zip) can take two lists that\n",
        "contain different types and zip them up. What happens if the lengths of\n",
        "the lists don't match?"
      ]
    },
    {
      "cell_type": "code",
      "execution_count": null,
      "metadata": {
        "attributes": {
          "classes": [
            "haskell:",
            "ghci"
          ],
          "id": "",
          "name": "\"code\""
        },
        "id": "ejj3sfUg_66m"
      },
      "outputs": [],
      "source": [
        "zip [5,3,2,6,2,7,2,5,4,6,6] [\"im\",\"a\",\"turtle\"]"
      ]
    },
    {
      "cell_type": "markdown",
      "metadata": {
        "id": "YyBxXy4L_66m"
      },
      "source": [
        "The longer list simply gets cut off to match the length of the shorter\n",
        "one. Because Haskell is lazy, we can zip finite lists with infinite\n",
        "lists:"
      ]
    },
    {
      "cell_type": "code",
      "execution_count": null,
      "metadata": {
        "attributes": {
          "classes": [
            "haskell:",
            "ghci"
          ],
          "id": "",
          "name": "\"code\""
        },
        "id": "DxPRHC5q_66m"
      },
      "outputs": [],
      "source": [
        "zip [1..] [\"apple\", \"orange\", \"cherry\", \"mango\"]"
      ]
    },
    {
      "cell_type": "markdown",
      "metadata": {
        "id": "CpqEsBSc_66n"
      },
      "source": [
        "<img src=\"https://github.com/kalz2q/mycolabnotebooks/blob/master/img/pythag.png?raw=1\" title=\"look at meee\" style=\"margin-left:auto;margin-right:auto;\" />\n",
        "\n",
        "Here's a problem that combines tuples and list comprehensions: which\n",
        "right triangle that has integers for all sides and all sides equal to or\n",
        "smaller than 10 has a perimeter of 24? First, let's try generating all\n",
        "triangles with sides equal to or smaller than 10:"
      ]
    },
    {
      "cell_type": "code",
      "execution_count": null,
      "metadata": {
        "attributes": {
          "classes": [
            "haskell:",
            "ghci"
          ],
          "id": "",
          "name": "\"code\""
        },
        "id": "nHJLf7ts_66n"
      },
      "outputs": [],
      "source": [
        "let triangles = [ (a,b,c) | c <- [1..10], b <- [1..10], a <- [1..10] ]"
      ]
    },
    {
      "cell_type": "markdown",
      "metadata": {
        "id": "nFtbJIvK_66n"
      },
      "source": [
        "We're just drawing from three lists and our output function is combining\n",
        "them into a triple. If you evaluate that by typing out `triangles` in\n",
        "GHC, you'll get a list of all possible triangles with sides under or\n",
        "equal to 10. Next, we'll add a condition that they all have to be right\n",
        "triangles. We'll also modify this function by taking into consideration\n",
        "that side b isn't larger than the hypotenuse and that side a isn't\n",
        "larger than side b."
      ]
    },
    {
      "cell_type": "code",
      "execution_count": null,
      "metadata": {
        "attributes": {
          "classes": [
            "haskell:",
            "ghci"
          ],
          "id": "",
          "name": "\"code\""
        },
        "id": "Auu9Uc-j_66n"
      },
      "outputs": [],
      "source": [
        "let rightTriangles = [ (a,b,c) | c <- [1..10], b <- [1..c], a <- [1..b], a^2 + b^2 == c^2]"
      ]
    },
    {
      "cell_type": "markdown",
      "metadata": {
        "id": "bYyaj653_66n"
      },
      "source": [
        "We're almost done. Now, we just modify the function by saying that we\n",
        "want the ones where the perimeter is 24."
      ]
    },
    {
      "cell_type": "code",
      "execution_count": null,
      "metadata": {
        "attributes": {
          "classes": [
            "haskell:",
            "ghci"
          ],
          "id": "",
          "name": "\"code\""
        },
        "id": "WvEXeId7_66n"
      },
      "outputs": [],
      "source": [
        "let rightTriangles' = [ (a,b,c) | c <- [1..10], b <- [1..c], a <- [1..b], a^2 + b^2 == c^2, a+b+c == 24]\n",
        "rightTriangles'"
      ]
    },
    {
      "cell_type": "markdown",
      "metadata": {
        "id": "v7D1jLDP_66n"
      },
      "source": [
        "And there's our answer! This is a common pattern in functional\n",
        "programming. You take a starting set of solutions and then you apply\n",
        "transformations to those solutions and filter them until you get the\n",
        "right ones."
      ]
    },
    {
      "cell_type": "markdown",
      "source": [
        "# EOF"
      ],
      "metadata": {
        "id": "tgZTm3Lvmuui"
      }
    }
  ]
}