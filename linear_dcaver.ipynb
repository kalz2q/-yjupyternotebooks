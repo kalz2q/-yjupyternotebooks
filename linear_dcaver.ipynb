{
  "nbformat": 4,
  "nbformat_minor": 0,
  "metadata": {
    "kernelspec": {
      "display_name": "Python 3",
      "language": "python",
      "name": "python3"
    },
    "language_info": {
      "codemirror_mode": {
        "name": "ipython",
        "version": 3
      },
      "file_extension": ".py",
      "mimetype": "text/x-python",
      "name": "python",
      "nbconvert_exporter": "python",
      "pygments_lexer": "ipython3",
      "version": "3.7.6"
    },
    "toc": {
      "base_numbering": 1,
      "nav_menu": {},
      "number_sections": false,
      "sideBar": false,
      "skip_h1_title": false,
      "title_cell": "Table of Contents",
      "title_sidebar": "Contents",
      "toc_cell": false,
      "toc_position": {},
      "toc_section_display": false,
      "toc_window_display": false
    },
    "colab": {
      "name": "linear_dcaver.ipynb",
      "provenance": [],
      "toc_visible": true,
      "include_colab_link": true
    }
  },
  "cells": [
    {
      "cell_type": "markdown",
      "metadata": {
        "id": "view-in-github",
        "colab_type": "text"
      },
      "source": [
        "<a href=\"https://colab.research.google.com/github/kalz2q/mycolabnotebooks/blob/master/linear_dcaver.ipynb\" target=\"_parent\"><img src=\"https://colab.research.google.com/assets/colab-badge.svg\" alt=\"Open In Colab\"/></a>"
      ]
    },
    {
      "cell_type": "markdown",
      "metadata": {
        "id": "9MhYtuqFRdop"
      },
      "source": [
        "# メモ\r\n",
        "\r\n",
        "https://github.com/dcavar/python-tutorial-notebooks/tree/master/notebooks  \r\n",
        "にLinear Algebra.ipynb ほか6冊あるね。 \r\n",
        "\r\n",
        "とりあえず linear algebra とだけ題されているのを読む。\r\n",
        "\r\n",
        "ちなみにgit cloneできなかったので、ファイルをrawで開いて、temp.txtにコピペして、名前をつけて、wslからwindows側にコピーして、それをcolabに持ってきている。"
      ]
    },
    {
      "cell_type": "markdown",
      "metadata": {
        "id": "dtsnWYIhRTNg"
      },
      "source": [
        "# 基本\r\n",
        "\r\n",
        "導入は連立1次方程式からである。\r\n",
        "\r\n",
        "テキストセルに書いてあるので、まずこれをコードセルで%%latexで書き直そう。"
      ]
    },
    {
      "cell_type": "code",
      "metadata": {
        "id": "U2QT6I75S8OW",
        "colab": {
          "base_uri": "https://localhost:8080/",
          "height": 58
        },
        "outputId": "2a2ec5d3-6864-429f-d0f7-2fcbfe276f44"
      },
      "source": [
        "# equationもsplitも使えないみたいなのでarrayで代用する\r\n",
        "%%latex\r\n",
        "\\displaystyle\r\n",
        "\\begin{array}{rcl}\r\n",
        "4 x_1 - 5 x_2 &=& -13 \\\\\r\n",
        " -2x_1 + 3 x_2 &=& 9\r\n",
        "\\end{array}\r\n"
      ],
      "execution_count": null,
      "outputs": [
        {
          "output_type": "display_data",
          "data": {
            "text/latex": "\\displaystyle\n\\begin{array}{rcl}\n4 x_1 - 5 x_2 &=& -13 \\\\\n -2x_1 + 3 x_2 &=& 9\n\\end{array}",
            "text/plain": [
              "<IPython.core.display.Latex object>"
            ]
          },
          "metadata": {
            "tags": []
          }
        }
      ]
    },
    {
      "cell_type": "markdown",
      "metadata": {
        "id": "cVBQcFu0U8z-"
      },
      "source": [
        "上記の連立1次方程式の$x_1$と$x_2$を求める。\r\n",
        "\r\n",
        "sympy.solve()とかでも求められるのかもしれないが、このテキストはliniar algebraのテキストなので\r\n",
        "\r\n",
        "$Ax=b$\r\n",
        "\r\n",
        "で考える。\r\n"
      ]
    },
    {
      "cell_type": "code",
      "metadata": {
        "id": "kAiH8BGzVQEI",
        "colab": {
          "base_uri": "https://localhost:8080/",
          "height": 58
        },
        "outputId": "d7276fb8-6cde-450c-db61-6d8190a0d1d4"
      },
      "source": [
        "%%latex\r\n",
        "\\displaystyle\r\n",
        "\\begin{pmatrix}\r\n",
        "4 & - 5  \\\\\r\n",
        " -2 &   3 \r\n",
        "\\end{pmatrix}\r\n",
        "\\begin{pmatrix}\r\n",
        "x_1  \\\\\r\n",
        "x_2 \r\n",
        "\\end{pmatrix}\r\n",
        "=\r\n",
        "\\begin{pmatrix}\r\n",
        "-13  \\\\\r\n",
        "9 \r\n",
        "\\end{pmatrix}"
      ],
      "execution_count": 1,
      "outputs": [
        {
          "output_type": "display_data",
          "data": {
            "text/latex": "\\displaystyle\n\\begin{pmatrix}\n4 & - 5  \\\\\n -2 &   3 \n\\end{pmatrix}\n\\begin{pmatrix}\nx_1  \\\\\nx_2 \n\\end{pmatrix}\n=\n\\begin{pmatrix}\n-13  \\\\\n9 \n\\end{pmatrix}",
            "text/plain": [
              "<IPython.core.display.Latex object>"
            ]
          },
          "metadata": {
            "tags": []
          }
        }
      ]
    },
    {
      "cell_type": "code",
      "metadata": {
        "id": "oaHzDktrHwMg",
        "outputId": "bb3321c1-20de-49c6-a05c-b9764d0e155f",
        "colab": {
          "base_uri": "https://localhost:8080/",
          "height": 39
        }
      },
      "source": [
        "# この辺で sympy にできるかも\r\n",
        "from sympy import *\r\n",
        "x1, x2 = symbols('x1, x2')\r\n",
        "A = MatrixSymbol('A', 2, 2)\r\n",
        "x = MatrixSymbol('x', 2, 1)\r\n",
        "b = MatrixSymbol('b', 2, 1)\r\n",
        "Eq(A*x, b)"
      ],
      "execution_count": 4,
      "outputs": [
        {
          "output_type": "execute_result",
          "data": {
            "text/latex": "$\\displaystyle A x = b$",
            "text/plain": [
              "Eq(A*x, b)"
            ]
          },
          "metadata": {
            "tags": []
          },
          "execution_count": 4
        }
      ]
    },
    {
      "cell_type": "code",
      "metadata": {
        "id": "36PY5Aj0Jabu",
        "outputId": "7cf1d334-18a7-42a7-af03-d363bb40c8bb",
        "colab": {
          "base_uri": "https://localhost:8080/",
          "height": 58
        }
      },
      "source": [
        "# これに値を入れられるか\r\n",
        "from sympy import *\r\n",
        "x1, x2 = symbols('x1, x2')\r\n",
        "A = MatrixSymbol('A', 2, 2)\r\n",
        "x = MatrixSymbol('x', 2, 1)\r\n",
        "b = MatrixSymbol('b', 2, 1)\r\n",
        "A = Matrix([[4,-5],[-2,3]])\r\n",
        "x = Matrix([[x1],[x2]])\r\n",
        "b = Matrix([[-13],[9]])\r\n",
        "Eq(A*x, b)"
      ],
      "execution_count": 9,
      "outputs": [
        {
          "output_type": "execute_result",
          "data": {
            "text/latex": "$\\displaystyle \\left[\\begin{matrix}4 x_{1} - 5 x_{2}\\\\- 2 x_{1} + 3 x_{2}\\end{matrix}\\right] = \\left[\\begin{matrix}-13\\\\9\\end{matrix}\\right]$",
            "text/plain": [
              "Eq(Matrix([\n",
              "[ 4*x1 - 5*x2],\n",
              "[-2*x1 + 3*x2]]), Matrix([\n",
              "[-13],\n",
              "[  9]]))"
            ]
          },
          "metadata": {
            "tags": []
          },
          "execution_count": 9
        }
      ]
    },
    {
      "cell_type": "code",
      "metadata": {
        "id": "yxMWFiGbJCyy",
        "outputId": "ea60dcee-cd2f-4d87-df99-7b9d7439bd34",
        "colab": {
          "base_uri": "https://localhost:8080/"
        }
      },
      "source": [
        "# 一気に solve で解けるか\r\n",
        "# => 解けた!!!!\r\n",
        "solve(A*x - b, x1,x2)\r\n"
      ],
      "execution_count": 10,
      "outputs": [
        {
          "output_type": "execute_result",
          "data": {
            "text/plain": [
              "{x1: 3, x2: 5}"
            ]
          },
          "metadata": {
            "tags": []
          },
          "execution_count": 10
        }
      ]
    },
    {
      "cell_type": "code",
      "metadata": {
        "id": "E5jF-VbdLn7i",
        "outputId": "7ec7778c-9b7a-4c8a-a75c-6bc1d9b21825",
        "colab": {
          "base_uri": "https://localhost:8080/",
          "height": 98
        }
      },
      "source": [
        "# display で出力する\r\n",
        "from sympy import *\r\n",
        "x1, x2 = symbols('x1, x2')\r\n",
        "A = MatrixSymbol('A', 2, 2)\r\n",
        "x = MatrixSymbol('x', 2, 1)\r\n",
        "b = MatrixSymbol('b', 2, 1)\r\n",
        "display(Eq(A*x, b))\r\n",
        "A = Matrix([[4,-5],[-2,3]])\r\n",
        "x = Matrix([[x1],[x2]])\r\n",
        "b = Matrix([[-13],[9]])\r\n",
        "display(Eq(A*x, b))\r\n",
        "display(solve(A*x - b, x1,x2))"
      ],
      "execution_count": 11,
      "outputs": [
        {
          "output_type": "display_data",
          "data": {
            "text/latex": "$\\displaystyle A x = b$",
            "text/plain": [
              "Eq(A*x, b)"
            ]
          },
          "metadata": {
            "tags": []
          }
        },
        {
          "output_type": "display_data",
          "data": {
            "text/latex": "$\\displaystyle \\left[\\begin{matrix}4 x_{1} - 5 x_{2}\\\\- 2 x_{1} + 3 x_{2}\\end{matrix}\\right] = \\left[\\begin{matrix}-13\\\\9\\end{matrix}\\right]$",
            "text/plain": [
              "Eq(Matrix([\n",
              "[ 4*x1 - 5*x2],\n",
              "[-2*x1 + 3*x2]]), Matrix([\n",
              "[-13],\n",
              "[  9]]))"
            ]
          },
          "metadata": {
            "tags": []
          }
        },
        {
          "output_type": "display_data",
          "data": {
            "text/plain": [
              "{x1: 3, x2: 5}"
            ]
          },
          "metadata": {
            "tags": []
          }
        }
      ]
    },
    {
      "cell_type": "code",
      "metadata": {
        "id": "u0hybmgvM6wd",
        "outputId": "cb63a5b6-827f-4e99-c41e-b531ac70ef1b",
        "colab": {
          "base_uri": "https://localhost:8080/",
          "height": 225
        }
      },
      "source": [
        "# 代入部分も表示したい\r\n",
        "from sympy import *\r\n",
        "init_printing()\r\n",
        "x1, x2 = symbols('x1, x2')\r\n",
        "A = MatrixSymbol('A', 2, 2)\r\n",
        "x = MatrixSymbol('x', 2, 1)\r\n",
        "b = MatrixSymbol('b', 2, 1)\r\n",
        "display(Eq(A*x, b))\r\n",
        "display(Eq(A,Matrix([[4,-5],[-2,3]])))\r\n",
        "display(Eq(b,Matrix([[-13],[9]])))\r\n",
        "display(Eq(x,Matrix([[x1],[x2]])))\r\n",
        "A = Matrix([[4,-5],[-2,3]])\r\n",
        "x = Matrix([[x1],[x2]])\r\n",
        "b = Matrix([[-13],[9]])\r\n",
        "display(Eq(A*x, b))\r\n",
        "display(solve(A*x - b, x1,x2))"
      ],
      "execution_count": 17,
      "outputs": [
        {
          "output_type": "display_data",
          "data": {
            "image/png": "[encoded data removed]",
            "text/latex": "$\\displaystyle A x = b$",
            "text/plain": [
              "A⋅x = b"
            ]
          },
          "metadata": {
            "tags": []
          }
        },
        {
          "output_type": "display_data",
          "data": {
            "text/latex": "$\\displaystyle A = \\left[\\begin{matrix}4 & -5\\\\-2 & 3\\end{matrix}\\right]$",
            "text/plain": [
              "    ⎡4   -5⎤\n",
              "A = ⎢      ⎥\n",
              "    ⎣-2  3 ⎦"
            ]
          },
          "metadata": {
            "tags": []
          }
        },
        {
          "output_type": "display_data",
          "data": {
            "text/latex": "$\\displaystyle b = \\left[\\begin{matrix}-13\\\\9\\end{matrix}\\right]$",
            "text/plain": [
              "    ⎡-13⎤\n",
              "b = ⎢   ⎥\n",
              "    ⎣ 9 ⎦"
            ]
          },
          "metadata": {
            "tags": []
          }
        },
        {
          "output_type": "display_data",
          "data": {
            "text/latex": "$\\displaystyle x = \\left[\\begin{matrix}x_{1}\\\\x_{2}\\end{matrix}\\right]$",
            "text/plain": [
              "    ⎡x₁⎤\n",
              "x = ⎢  ⎥\n",
              "    ⎣x₂⎦"
            ]
          },
          "metadata": {
            "tags": []
          }
        },
        {
          "output_type": "display_data",
          "data": {
            "text/latex": "$\\displaystyle \\left[\\begin{matrix}4 x_{1} - 5 x_{2}\\\\- 2 x_{1} + 3 x_{2}\\end{matrix}\\right] = \\left[\\begin{matrix}-13\\\\9\\end{matrix}\\right]$",
            "text/plain": [
              "⎡4⋅x₁ - 5⋅x₂ ⎤   ⎡-13⎤\n",
              "⎢            ⎥ = ⎢   ⎥\n",
              "⎣-2⋅x₁ + 3⋅x₂⎦   ⎣ 9 ⎦"
            ]
          },
          "metadata": {
            "tags": []
          }
        },
        {
          "output_type": "display_data",
          "data": {
            "image/png": "[encoded data removed]",
            "text/latex": "$\\displaystyle \\left\\{ x_{1} : 3, \\  x_{2} : 5\\right\\}$",
            "text/plain": [
              "{x₁: 3, x₂: 5}"
            ]
          },
          "metadata": {
            "tags": []
          }
        }
      ]
    },
    {
      "cell_type": "code",
      "metadata": {
        "id": "o8D7yE3SOSMv"
      },
      "source": [
        "# 行列変数を初期化できる\r\n",
        "# 行列変数に値を代入できる\r\n",
        "# 連立一次方程式を solve で解くことができる\r\n",
        "# 掃き出し法で手作業で検算した\r\n",
        "# コードセルに書いて、Ctrl+M M でテキストセルに変換できる\r\n",
        "# 逆は Ctrl+M Y でテキストセルの編集状態からコードセルに変換できる\r\n",
        "# Colab は起動時にコードセルなのでコードセルに書く方を基本とするか"
      ],
      "execution_count": null,
      "outputs": []
    },
    {
      "cell_type": "code",
      "metadata": {
        "id": "HF3GwE5eMXhv",
        "outputId": "dbd9b4f5-c144-408a-b4ef-c3d7075d0aa2",
        "colab": {
          "base_uri": "https://localhost:8080/",
          "height": 80
        }
      },
      "source": [
        "# latex では pmatrix が括弧型の行列、bmatrix が bracket 型の行列\r\n",
        "# 改行の \\\\のあとに改行幅を入れられる\r\n",
        "# vscode で format する <= latexindent がない、とか\r\n",
        "%%latex\r\n",
        "A = \r\n",
        "\\begin{bmatrix}\r\n",
        "    4  & -5 \\\\[1.3em]\r\n",
        "    -2 &  3 \r\n",
        "\\end{bmatrix},\\quad\r\n",
        "b = \r\n",
        "\\begin{bmatrix}\r\n",
        "    -13 \\\\[-0.3em] \r\n",
        "    9 \r\n",
        "\\end{bmatrix}"
      ],
      "execution_count": 24,
      "outputs": [
        {
          "output_type": "display_data",
          "data": {
            "text/latex": "A = \n\\begin{bmatrix}\n    4  & -5 \\\\[1.3em]\n    -2 &  3 \n\\end{bmatrix},\\quad\nb = \n\\begin{bmatrix}\n    -13 \\\\[-0.3em] \n    9 \n\\end{bmatrix}",
            "text/plain": [
              "<IPython.core.display.Latex object>"
            ]
          },
          "metadata": {
            "tags": []
          }
        }
      ]
    },
    {
      "cell_type": "markdown",
      "metadata": {
        "id": "0UFAeOgdIGKZ"
      },
      "source": [
        "# いまここ"
      ]
    },
    {
      "cell_type": "code",
      "metadata": {
        "id": "woYxX05SQlha"
      },
      "source": [
        "\r\n",
        "\r\n"
      ],
      "execution_count": null,
      "outputs": []
    },
    {
      "cell_type": "markdown",
      "metadata": {
        "id": "LRxeb-aiRTNi"
      },
      "source": [
        "A **scalar** is an element in a vector, containing a real number **value**. In a vector space model or a vector mapping of (symbolic, qualitative, or quantitative) properties the scalar holds the concrete value or property of a variable."
      ]
    },
    {
      "cell_type": "markdown",
      "metadata": {
        "id": "gI2oGC6WRTNi"
      },
      "source": [
        "A **vector** is an array, tuple, or ordered list of scalars (or elements) of size $n$, with $n$ a positive integer. The **length** of the vector, that is the number of scalars in the vector, is also called the **order** of the vector."
      ]
    },
    {
      "cell_type": "markdown",
      "metadata": {
        "id": "wfrodyH_RTNi"
      },
      "source": [
        "**Vectorization** is the process of creating a vector from some data using some process."
      ]
    },
    {
      "cell_type": "markdown",
      "metadata": {
        "id": "2e5u4psSRTNi"
      },
      "source": [
        "Vectors of the length $n$ could be treated like points in $n$-dimensional space. One can calculate the distance between such points using measures like [Euclidean Distance](https://en.wikipedia.org/wiki/Euclidean_distance). The similarity of vectors could also be calculated using [Cosine Similarity](https://en.wikipedia.org/wiki/Cosine_similarity)."
      ]
    },
    {
      "cell_type": "markdown",
      "metadata": {
        "id": "AKUdXOljRTNi"
      },
      "source": [
        "## Notation"
      ]
    },
    {
      "cell_type": "markdown",
      "metadata": {
        "id": "WG5EbaFPRTNj"
      },
      "source": [
        "A **matrix** is a list of vectors that all are of the same length. $A$ is a matrix with $m$ rows and $n$ columns, entries of $A$ are real numbers:"
      ]
    },
    {
      "cell_type": "markdown",
      "metadata": {
        "id": "66eQ1E-SRTNj"
      },
      "source": [
        "$A \\in \\mathbb{R}^{m \\times n}$"
      ]
    },
    {
      "cell_type": "markdown",
      "metadata": {
        "id": "2FFCtDvlRTNj"
      },
      "source": [
        "A vector $x$ with $n$ entries of real numbers, could also be thought of as a matrix with $n$ rows and $1$ column, or as known as a **column vector**."
      ]
    },
    {
      "cell_type": "markdown",
      "metadata": {
        "id": "llmTILxNRTNj"
      },
      "source": [
        "$x = \\begin{bmatrix}\n",
        "       x_1 \\\\[0.3em]\n",
        "       x_2 \\\\[0.3em]\n",
        "       \\vdots \\\\[0.3em]\n",
        "       x_n\n",
        "     \\end{bmatrix}$"
      ]
    },
    {
      "cell_type": "markdown",
      "metadata": {
        "id": "U72o6YSmRTNj"
      },
      "source": [
        "Representing a **row vector**, that is a matrix with $1$ row and $n$ columns, we write $x^T$ (this denotes the transpose of $x$, see above)."
      ]
    },
    {
      "cell_type": "markdown",
      "metadata": {
        "id": "016pVQe0RTNj"
      },
      "source": [
        "$x^T = \\begin{bmatrix}\n",
        "       x_1 & x_2 & \\cdots & x_n\n",
        "     \\end{bmatrix}$"
      ]
    },
    {
      "cell_type": "markdown",
      "metadata": {
        "id": "wR86O7BoRTNk"
      },
      "source": [
        "We use the notation $a_{ij}$ (or $A_{ij}$, $A_{i,j}$, etc.) to denote the entry of $A$ in the $i$th row and\n",
        "$j$th column:"
      ]
    },
    {
      "cell_type": "markdown",
      "metadata": {
        "id": "Gl0PZAl7RTNk"
      },
      "source": [
        "$A = \\begin{bmatrix}\n",
        "       a_{11} & a_{12} & \\cdots & a_{1n} \\\\[0.3em]\n",
        "       a_{21} & a_{22} & \\cdots & a_{2n} \\\\[0.3em]\n",
        "       \\vdots & \\vdots & \\ddots & \\vdots \\\\[0.3em]\n",
        "       a_{m1} & a_{m2} & \\cdots & a_{mn} \n",
        "     \\end{bmatrix}$"
      ]
    },
    {
      "cell_type": "markdown",
      "metadata": {
        "id": "8-qUNKH4RTNk"
      },
      "source": [
        "We denote the $j$th column of $A$ by $a_j$ or $A_{:,j}$:"
      ]
    },
    {
      "cell_type": "markdown",
      "metadata": {
        "id": "rrOw7GBVRTNk"
      },
      "source": [
        "$A = \\begin{bmatrix}\n",
        "       \\big| & \\big| &  & \\big| \\\\[0.3em]\n",
        "       a_{1} & a_{2} & \\cdots & a_{n} \\\\[0.3em]\n",
        "       \\big| & \\big| &  & \\big|  \n",
        "     \\end{bmatrix}$"
      ]
    },
    {
      "cell_type": "markdown",
      "metadata": {
        "id": "52dTzNOfRTNk"
      },
      "source": [
        "We denote the $i$th row of $A$ by $a_i^T$ or $A_{i,:}$:"
      ]
    },
    {
      "cell_type": "markdown",
      "metadata": {
        "id": "By_070GIRTNk"
      },
      "source": [
        "$A = \\begin{bmatrix}\n",
        "      -- & a_1^T  & -- \\\\[0.3em]\n",
        "       -- & a_2^T  & -- \\\\[0.3em]\n",
        "          & \\vdots &  \\\\[0.3em]\n",
        "       -- & a_m^T  & -- \n",
        "     \\end{bmatrix}$"
      ]
    },
    {
      "cell_type": "markdown",
      "metadata": {
        "id": "veGC7PZFRTNl"
      },
      "source": [
        ""
      ]
    },
    {
      "cell_type": "markdown",
      "metadata": {
        "id": "yg6yV6NdRTNl"
      },
      "source": [
        "A $n \\times m$ matrix is a two-dimensional array with $n$ rows and $m$ columns."
      ]
    },
    {
      "cell_type": "markdown",
      "metadata": {
        "id": "YR4coYHuRTNl"
      },
      "source": [
        "## Matrix Multiplication"
      ]
    },
    {
      "cell_type": "markdown",
      "metadata": {
        "id": "pJoBvD3pRTNl"
      },
      "source": [
        "The result of the multiplication of two matrixes $A \\in \\mathbb{R}^{m \\times n}$ and $B \\in \\mathbb{R}^{n \\times p}$ is the matrix:"
      ]
    },
    {
      "cell_type": "markdown",
      "metadata": {
        "id": "az8eGcxJRTNl"
      },
      "source": [
        "$C = AB \\in \\mathbb{R}^{m \\times n}$"
      ]
    },
    {
      "cell_type": "markdown",
      "metadata": {
        "id": "iNy4xwZpRTNl"
      },
      "source": [
        "That is, we are multiplying the columns of $A$ with the rows of $B$:"
      ]
    },
    {
      "cell_type": "markdown",
      "metadata": {
        "id": "iBu958U6RTNl"
      },
      "source": [
        "$C_{ij}=\\sum_{k=1}^n{A_{ij}B_{kj}}$"
      ]
    },
    {
      "cell_type": "markdown",
      "metadata": {
        "id": "lPE7wNFyRTNm"
      },
      "source": [
        "The number of columns in $A$ must be equal to the number of rows in $B$."
      ]
    },
    {
      "cell_type": "markdown",
      "metadata": {
        "id": "pOv8mjvBRTNm"
      },
      "source": [
        "### Vector-Vector Products"
      ]
    },
    {
      "cell_type": "markdown",
      "metadata": {
        "id": "vdMZkbSdRTNm"
      },
      "source": [
        "#### Inner or Dot Product of Two Vectors"
      ]
    },
    {
      "cell_type": "markdown",
      "metadata": {
        "id": "Rds3yGvaRTNm"
      },
      "source": [
        "For two vectors $x, y \\in \\mathbb{R}^n$, the **inner product** or **dot product** $x^T y$ is a real number:"
      ]
    },
    {
      "cell_type": "markdown",
      "metadata": {
        "id": "OeM1HP-jRTNm"
      },
      "source": [
        "$x^T y \\in \\mathbb{R} = \\begin{bmatrix}\n",
        "       x_1 & x_2 & \\cdots & x_n\n",
        "     \\end{bmatrix} \\begin{bmatrix}\n",
        "       y_1 \\\\[0.3em]\n",
        "       y_2 \\\\[0.3em]\n",
        "       \\vdots \\\\[0.3em]\n",
        "       y_n\n",
        "     \\end{bmatrix} = \\sum_{i=1}^{n}{x_i y_i}$"
      ]
    },
    {
      "cell_type": "markdown",
      "metadata": {
        "id": "AQTgQ-PaRTNm"
      },
      "source": [
        "The **inner products** are a special case of matrix multiplication."
      ]
    },
    {
      "cell_type": "markdown",
      "metadata": {
        "id": "jWv3T8WiRTNm"
      },
      "source": [
        "It is always the case that $x^T y = y^T x$."
      ]
    },
    {
      "cell_type": "markdown",
      "metadata": {
        "id": "dFfJHmMyRTNn"
      },
      "source": [
        "##### Example"
      ]
    },
    {
      "cell_type": "markdown",
      "metadata": {
        "id": "BV2uS2-YRTNn"
      },
      "source": [
        "To calculate the inner product of two vectors $x = [1 2 3 4]$ and $y = [5 6 7 8]$, we can loop through the vector and multiply and sum the scalars (this is simplified code):"
      ]
    },
    {
      "cell_type": "code",
      "metadata": {
        "id": "Xdf1fOcsRTNn",
        "outputId": "af09b773-602b-4d6a-cf5b-0b26740cfcb5"
      },
      "source": [
        "x = (1, 2, 3, 4)\n",
        "y = (5, 6, 7, 8)\n",
        "n = len(x)\n",
        "if n == len(y):\n",
        "    result = 0\n",
        "    for i in range(n):\n",
        "        result += x[i] * y[i]\n",
        "    print(result)"
      ],
      "execution_count": null,
      "outputs": [
        {
          "output_type": "stream",
          "text": [
            "70\n"
          ],
          "name": "stdout"
        }
      ]
    },
    {
      "cell_type": "markdown",
      "metadata": {
        "id": "dd_GV_TVRTNo"
      },
      "source": [
        "It is clear that in the code above we could change line 7 to `result += y[i] * x[i]` without affecting the result."
      ]
    },
    {
      "cell_type": "markdown",
      "metadata": {
        "id": "H1YujroTRTNp"
      },
      "source": [
        "We can use the *numpy* module to apply the same operation, to calculate the **inner product**. We import the *numpy* module and assign it a name *np* for the following code:"
      ]
    },
    {
      "cell_type": "code",
      "metadata": {
        "id": "scfbubCsRTNp"
      },
      "source": [
        "import numpy as np"
      ],
      "execution_count": null,
      "outputs": []
    },
    {
      "cell_type": "markdown",
      "metadata": {
        "id": "bqKw855YRTNp"
      },
      "source": [
        "We define the vectors $x$ and $y$ using *numpy*:"
      ]
    },
    {
      "cell_type": "code",
      "metadata": {
        "id": "kuIbLPOxRTNp"
      },
      "source": [
        "x = np.array([1, 2, 3, 4])\n",
        "y = np.array([5, 6, 7, 8])\n",
        "print(\"x:\", x)\n",
        "print(\"y:\", y)"
      ],
      "execution_count": null,
      "outputs": []
    },
    {
      "cell_type": "markdown",
      "metadata": {
        "id": "hzA_S4F2RTNp"
      },
      "source": [
        "We can now calculate the $dot$ or $inner product$ using the *dot* function of *numpy*:"
      ]
    },
    {
      "cell_type": "code",
      "metadata": {
        "id": "2WVHRPNoRTNp"
      },
      "source": [
        "np.dot(x, y)"
      ],
      "execution_count": null,
      "outputs": []
    },
    {
      "cell_type": "markdown",
      "metadata": {
        "id": "tVvvNokeRTNq"
      },
      "source": [
        "The order of the arguments is irrelevant:"
      ]
    },
    {
      "cell_type": "code",
      "metadata": {
        "id": "QBw5ZCQiRTNq"
      },
      "source": [
        "np.dot(y, x)"
      ],
      "execution_count": null,
      "outputs": []
    },
    {
      "cell_type": "markdown",
      "metadata": {
        "id": "Nu6uh0sSRTNq"
      },
      "source": [
        "Note that both vectors are actually **row vectors** in the above code. We can transpose them to column vectors by using the *shape* property:"
      ]
    },
    {
      "cell_type": "code",
      "metadata": {
        "id": "CZ4R7_A8RTNq"
      },
      "source": [
        "print(\"x:\", x)\n",
        "x.shape = (4, 1)\n",
        "print(\"xT:\", x)\n",
        "print(\"y:\", y)\n",
        "y.shape = (4, 1)\n",
        "print(\"yT:\", y)"
      ],
      "execution_count": null,
      "outputs": []
    },
    {
      "cell_type": "markdown",
      "metadata": {
        "id": "4BkSaggURTNq"
      },
      "source": [
        "In fact, in our understanding of Linear Algebra, we take the arrays above to represent **row vectors**. *Numpy* treates them differently."
      ]
    },
    {
      "cell_type": "markdown",
      "metadata": {
        "id": "ySaNA_CpRTNq"
      },
      "source": [
        "We see the issues when we try to transform the array objects. Usually, we can transform a row vector into a column vector in *numpy* by using the *T* method on vector or matrix objects:"
      ]
    },
    {
      "cell_type": "code",
      "metadata": {
        "id": "Tb3-_KKARTNr"
      },
      "source": [
        "x = np.array([1, 2, 3, 4])\n",
        "y = np.array([5, 6, 7, 8])\n",
        "print(\"x:\", x)\n",
        "print(\"y:\", y)\n",
        "print(\"xT:\", x.T)\n",
        "print(\"yT:\", y.T)"
      ],
      "execution_count": null,
      "outputs": []
    },
    {
      "cell_type": "markdown",
      "metadata": {
        "id": "ALLbtAeBRTNr"
      },
      "source": [
        "The problem here is that this does not do, what we expect it to do. It only works, if we declare the variables not to be arrays of numbers, but in fact a matrix:"
      ]
    },
    {
      "cell_type": "code",
      "metadata": {
        "id": "e1cZvoGLRTNr"
      },
      "source": [
        "x = np.array([[1, 2, 3, 4]])\n",
        "y = np.array([[5, 6, 7, 8]])\n",
        "print(\"x:\", x)\n",
        "print(\"y:\", y)\n",
        "print(\"xT:\", x.T)\n",
        "print(\"yT:\", y.T)\n"
      ],
      "execution_count": null,
      "outputs": []
    },
    {
      "cell_type": "markdown",
      "metadata": {
        "id": "hU1QJBAmRTNr"
      },
      "source": [
        "Note that the *numpy* functions *dot* and *outer* are not affected by this distinction. We can compute the dot product using the mathematical equation above in *numpy* using the new $x$ and $y$ row vectors:"
      ]
    },
    {
      "cell_type": "code",
      "metadata": {
        "id": "v3RFcRu6RTNr"
      },
      "source": [
        "print(\"x:\", x)\n",
        "print(\"y:\", y.T)\n",
        "np.dot(x, y.T)"
      ],
      "execution_count": null,
      "outputs": []
    },
    {
      "cell_type": "markdown",
      "metadata": {
        "id": "Q33LydCeRTNr"
      },
      "source": [
        "Or by reverting to:"
      ]
    },
    {
      "cell_type": "code",
      "metadata": {
        "id": "c2vg9nrpRTNs"
      },
      "source": [
        "print(\"x:\", x.T)\n",
        "print(\"y:\", y)\n",
        "np.dot(y, x.T)"
      ],
      "execution_count": null,
      "outputs": []
    },
    {
      "cell_type": "markdown",
      "metadata": {
        "id": "1N7VCbp6RTNs"
      },
      "source": [
        "To read the result from this array of arrays, we would need to access the value this way:"
      ]
    },
    {
      "cell_type": "code",
      "metadata": {
        "id": "aOcDohbWRTNs"
      },
      "source": [
        "np.dot(y, x.T)[0][0]"
      ],
      "execution_count": null,
      "outputs": []
    },
    {
      "cell_type": "markdown",
      "metadata": {
        "id": "HhBTBQd2RTNs"
      },
      "source": [
        "#### Outer Product of Two Vectors"
      ]
    },
    {
      "cell_type": "markdown",
      "metadata": {
        "id": "eswEGijXRTNs"
      },
      "source": [
        "For two vectors $x \\in \\mathbb{R}^m$ and $y \\in \\mathbb{R}^n$, where $n$ and $m$ do not have to be equal, the **outer product** of $x$ and $y$ is:"
      ]
    },
    {
      "cell_type": "markdown",
      "metadata": {
        "id": "eQYb5eRLRTNs"
      },
      "source": [
        "$xy^T \\in \\mathbb{R}^{m\\times n}$"
      ]
    },
    {
      "cell_type": "markdown",
      "metadata": {
        "id": "NpQB7-bORTNs"
      },
      "source": [
        "The **outer product** results in a matrix with $m$ rows and $n$ columns by $(xy^T)_{ij} = x_i y_j$:"
      ]
    },
    {
      "cell_type": "markdown",
      "metadata": {
        "id": "Wt8KUaq6RTNs"
      },
      "source": [
        "$xy^T \\in \\mathbb{R}^{m\\times n} = \\begin{bmatrix}\n",
        "       x_1 \\\\[0.3em]\n",
        "       x_2 \\\\[0.3em]\n",
        "       \\vdots \\\\[0.3em]\n",
        "       x_n\n",
        "     \\end{bmatrix} \\begin{bmatrix}\n",
        "       y_1 & y_2 & \\cdots & y_n\n",
        "     \\end{bmatrix} = \\begin{bmatrix}\n",
        "       x_1 y_1 & x_1 y_2 & \\cdots & x_1 y_n \\\\[0.3em]\n",
        "       x_2 y_1 & x_2 y_2 & \\cdots & x_2 y_n \\\\[0.3em]\n",
        "       \\vdots  & \\vdots  & \\ddots & \\vdots \\\\[0.3em]\n",
        "       x_m y_1 & x_m y_2 & \\cdots & x_m y_n \\\\[0.3em]\n",
        "     \\end{bmatrix}$"
      ]
    },
    {
      "cell_type": "markdown",
      "metadata": {
        "id": "kHCLyPBqRTNt"
      },
      "source": [
        "Some useful property of the outer product: assume $\\mathbf{1} \\in \\mathbb{R}^n$ is an $n$-dimensional vector of scalars with the value $1$. Given a matrix $A \\in \\mathbb{R}^{m\\times n}$ with all columns equal to some vector $x \\in \\mathbb{R}^m$, using the outer product $A$ can be represented as:"
      ]
    },
    {
      "cell_type": "markdown",
      "metadata": {
        "id": "YXBqR5XjRTNt"
      },
      "source": [
        "$A = \\begin{bmatrix}\n",
        "       \\big| & \\big| &  & \\big| \\\\[0.3em]\n",
        "       x & x & \\cdots & x \\\\[0.3em]\n",
        "       \\big| & \\big| &  & \\big|  \n",
        "     \\end{bmatrix} = \\begin{bmatrix}\n",
        "       x_1    & x_1    & \\cdots & x_1    \\\\[0.3em]\n",
        "       x_2    & x_2    & \\cdots & x_2    \\\\[0.3em]\n",
        "       \\vdots & \\vdots & \\ddots & \\vdots \\\\[0.3em]\n",
        "       x_m    &x_m     & \\cdots & x_m\n",
        "     \\end{bmatrix} = \\begin{bmatrix}\n",
        "       x_1 \\\\[0.3em]\n",
        "       x_2 \\\\[0.3em]\n",
        "       \\vdots \\\\[0.3em]\n",
        "       x_m\n",
        "     \\end{bmatrix} \\begin{bmatrix}\n",
        "       1 & 1 & \\cdots & 1\n",
        "     \\end{bmatrix} = x \\mathbf{1}^T$"
      ]
    },
    {
      "cell_type": "markdown",
      "metadata": {
        "id": "THn4OH-IRTNt"
      },
      "source": [
        "##### Example"
      ]
    },
    {
      "cell_type": "markdown",
      "metadata": {
        "id": "zXVVVPPSRTNt"
      },
      "source": [
        "If we want to compute the outer product of two vectors $x$ and $y$, we need to transpose the row vector $x$ to a column vector $x^T$. This can be achieved by the *reshape* function in *numpy*, the *T* method, or the *transpose()* function. The *reshape* function takes a parameter that describes the number of colums and rows for the resulting transposing:"
      ]
    },
    {
      "cell_type": "code",
      "metadata": {
        "id": "H2tEXppmRTNu"
      },
      "source": [
        "x = np.array([[1, 2, 3, 4]])\n",
        "print(\"x:\", x)\n",
        "print(\"xT:\", np.reshape(x, (4, 1)))\n",
        "print(\"xT:\", x.T)\n",
        "print(\"xT:\", x.transpose())"
      ],
      "execution_count": null,
      "outputs": []
    },
    {
      "cell_type": "markdown",
      "metadata": {
        "id": "yvDawtCgRTNu"
      },
      "source": [
        "We can now compute the **outer product** by multiplying the column vector $x$ with the row vector $y$:"
      ]
    },
    {
      "cell_type": "code",
      "metadata": {
        "id": "3XSTzFRSRTNu"
      },
      "source": [
        "x = np.array([[1, 2, 3, 4]])\n",
        "y = np.array([[5, 6, 7, 8]])\n",
        "x.T * y"
      ],
      "execution_count": null,
      "outputs": []
    },
    {
      "cell_type": "markdown",
      "metadata": {
        "id": "nIfdvIU_RTNu"
      },
      "source": [
        "*Numpy* provides an *outer* function that does all that:"
      ]
    },
    {
      "cell_type": "code",
      "metadata": {
        "id": "dAg9rs4oRTNu"
      },
      "source": [
        "np.outer(x, y)"
      ],
      "execution_count": null,
      "outputs": []
    },
    {
      "cell_type": "markdown",
      "metadata": {
        "id": "ln7RX-BMRTNu"
      },
      "source": [
        "Note, in this simple case using the simple arrays for the data structures of the vectors does not affect the result of the *outer* function:"
      ]
    },
    {
      "cell_type": "code",
      "metadata": {
        "id": "n6KmRa-mRTNu"
      },
      "source": [
        "x = np.array([1, 2, 3, 4])\n",
        "y = np.array([5, 6, 7, 8])\n",
        "np.outer(x, y)"
      ],
      "execution_count": null,
      "outputs": []
    },
    {
      "cell_type": "markdown",
      "metadata": {
        "id": "QYvAO-3ZRTNv"
      },
      "source": [
        "### Matrix-Vector Products"
      ]
    },
    {
      "cell_type": "markdown",
      "metadata": {
        "id": "mx6cukxVRTNv"
      },
      "source": [
        "Assume a matrix $A \\in \\mathbb{R}^{m\\times n}$ and a vector $x \\in \\mathbb{R}^n$ the product results in a vector $y = Ax \\in \\mathbb{R}^m$."
      ]
    },
    {
      "cell_type": "markdown",
      "metadata": {
        "id": "v3bo_k4URTNv"
      },
      "source": [
        "$Ax$ could be expressed as the dot product of row $i$ of matrix $A$ with the column value $j$ of vector $x$. Let us first consider matrix multiplication with a scalar:"
      ]
    },
    {
      "cell_type": "markdown",
      "metadata": {
        "id": "Ex2R0VETRTNv"
      },
      "source": [
        "$A = \\begin{bmatrix}\n",
        "       1 & 2 \\\\[0.3em]\n",
        "       3 & 4\n",
        "     \\end{bmatrix}$"
      ]
    },
    {
      "cell_type": "markdown",
      "metadata": {
        "id": "K_k9g01ORTNv"
      },
      "source": [
        "We can compute the product of $A$ with a scalar $n = 2$ as:"
      ]
    },
    {
      "cell_type": "markdown",
      "metadata": {
        "id": "DwLqwLhGRTNv"
      },
      "source": [
        "$A = \\begin{bmatrix}\n",
        "       1 * n & 2 * n \\\\[0.3em]\n",
        "       3 * n & 4 * n\n",
        "     \\end{bmatrix} = \\begin{bmatrix}\n",
        "       1 * 2 & 2 * 2 \\\\[0.3em]\n",
        "       3 * 2 & 4 * 2\n",
        "     \\end{bmatrix} = \\begin{bmatrix}\n",
        "       2 & 4 \\\\[0.3em]\n",
        "       6 & 8\n",
        "     \\end{bmatrix} $"
      ]
    },
    {
      "cell_type": "markdown",
      "metadata": {
        "id": "o4PLNrJcRTNv"
      },
      "source": [
        "Using *numpy* this can be achieved by:"
      ]
    },
    {
      "cell_type": "code",
      "metadata": {
        "id": "H7tFUPO7RTNw"
      },
      "source": [
        "import numpy as np\n",
        "A = np.array([[4, 5, 6],\n",
        "             [7, 8, 9]])\n",
        "A * 2"
      ],
      "execution_count": null,
      "outputs": []
    },
    {
      "cell_type": "markdown",
      "metadata": {
        "id": "y92mTAm6RTNw"
      },
      "source": [
        "Assume that we have a column vector $x$:"
      ]
    },
    {
      "cell_type": "markdown",
      "metadata": {
        "id": "3MvgztDORTNw"
      },
      "source": [
        "$x = \\begin{bmatrix}\n",
        "       1 \\\\[0.3em]\n",
        "       2 \\\\[0.3em]\n",
        "       3 \n",
        "     \\end{bmatrix}$"
      ]
    },
    {
      "cell_type": "markdown",
      "metadata": {
        "id": "QGymOQ_zRTNw"
      },
      "source": [
        "To be able to multiply this vector with a matrix, the number of columns in the matrix must correspond to the number of rows in the column vector. The matrix $A$ must have $3$ columns, as for example: "
      ]
    },
    {
      "cell_type": "markdown",
      "metadata": {
        "id": "SWSWucwLRTNw"
      },
      "source": [
        "$A = \\begin{bmatrix}\n",
        "       4 & 5 & 6\\\\[0.3em]\n",
        "       7 & 8 & 9\n",
        "     \\end{bmatrix}$"
      ]
    },
    {
      "cell_type": "markdown",
      "metadata": {
        "id": "pVme-mdSRTNw"
      },
      "source": [
        "To compute $Ax$, we multiply row $1$ of the matrix with column $1$ of $x$:"
      ]
    },
    {
      "cell_type": "markdown",
      "metadata": {
        "id": "DpWAzJTsRTNw"
      },
      "source": [
        "$\\begin{bmatrix}\n",
        "  4 & 5 & 6\n",
        " \\end{bmatrix}\n",
        " \\begin{bmatrix}\n",
        " 1 \\\\[0.3em]\n",
        " 2 \\\\[0.3em]\n",
        " 3 \n",
        "\\end{bmatrix} = 4 * 1 + 5 * 2 + 6 * 3 = 32 $"
      ]
    },
    {
      "cell_type": "markdown",
      "metadata": {
        "id": "jF6h3QB1RTNx"
      },
      "source": [
        "We do the compute the dot product of row $2$ of $A$ and column $1$ of $x$:"
      ]
    },
    {
      "cell_type": "markdown",
      "metadata": {
        "id": "uX2xFrzuRTNx"
      },
      "source": [
        "$\\begin{bmatrix}\n",
        "  7 & 8 & 9\n",
        " \\end{bmatrix}\n",
        " \\begin{bmatrix}\n",
        " 1 \\\\[0.3em]\n",
        " 2 \\\\[0.3em]\n",
        " 3 \n",
        "\\end{bmatrix} = 7 * 1 + 8 * 2 + 9 * 3 = 50 $"
      ]
    },
    {
      "cell_type": "markdown",
      "metadata": {
        "id": "oDZ3EFqMRTNx"
      },
      "source": [
        "The resulting column vector $Ax$ is:"
      ]
    },
    {
      "cell_type": "markdown",
      "metadata": {
        "id": "NcV9fQQ0RTNx"
      },
      "source": [
        "$Ax = \\begin{bmatrix}\n",
        "       32 \\\\[0.3em]\n",
        "       50 \n",
        "     \\end{bmatrix}$"
      ]
    },
    {
      "cell_type": "markdown",
      "metadata": {
        "id": "IeuaKODRRTNx"
      },
      "source": [
        "Using *numpy* we can compute $Ax$:"
      ]
    },
    {
      "cell_type": "code",
      "metadata": {
        "id": "jT8_b5sVRTNx"
      },
      "source": [
        "A = np.array([[4, 5, 6],\n",
        "             [7, 8, 9]])\n",
        "x = np.array([1, 2, 3])\n",
        "A.dot(x)"
      ],
      "execution_count": null,
      "outputs": []
    },
    {
      "cell_type": "markdown",
      "metadata": {
        "id": "73uxMnCdRTNx"
      },
      "source": [
        "We can thus describe the product writing $A$ by rows as:"
      ]
    },
    {
      "cell_type": "markdown",
      "metadata": {
        "id": "spkB0XIZRTNy"
      },
      "source": [
        "$y = Ax = \\begin{bmatrix}\n",
        " -- & a_1^T  & -- \\\\[0.3em]\n",
        " -- & a_2^T  & -- \\\\[0.3em]\n",
        "    & \\vdots &  \\\\[0.3em]\n",
        " -- & a_m^T  & -- \n",
        "\\end{bmatrix} x = \\begin{bmatrix}\n",
        " a_1^T x \\\\[0.3em]\n",
        " a_2^T x \\\\[0.3em]\n",
        " \\vdots \\\\[0.3em]\n",
        " a_m^T x \n",
        "\\end{bmatrix}$"
      ]
    },
    {
      "cell_type": "markdown",
      "metadata": {
        "id": "Oja8Y0AARTNy"
      },
      "source": [
        "This means that the $i$th scalar of $y$ is the inner product of the $i$th row of $A$ and $x$, that is $y_i = a_i^T x$."
      ]
    },
    {
      "cell_type": "markdown",
      "metadata": {
        "id": "qF0RXC18RTNy"
      },
      "source": [
        "If we write $A$ in column form, then:"
      ]
    },
    {
      "cell_type": "markdown",
      "metadata": {
        "id": "_HdzuGfKRTNy"
      },
      "source": [
        "$y = Ax =\n",
        "\\begin{bmatrix}\n",
        " \\big| & \\big| &  & \\big| \\\\[0.3em]\n",
        " a_1 & a_2 & \\cdots & a_n \\\\[0.3em]\n",
        " \\big| & \\big| &  & \\big|  \n",
        "\\end{bmatrix}\n",
        "\\begin{bmatrix}\n",
        " x_1 \\\\[0.3em]\n",
        " x_2 \\\\[0.3em]\n",
        " \\vdots \\\\[0.3em]\n",
        " x_n\n",
        "\\end{bmatrix} =\n",
        "\\begin{bmatrix}\n",
        " a_1\n",
        "\\end{bmatrix} x_1 + \n",
        "\\begin{bmatrix}\n",
        " a_2\n",
        "\\end{bmatrix} x_2 + \\dots +\n",
        "\\begin{bmatrix}\n",
        " a_n\n",
        "\\end{bmatrix} x_n\n",
        "$"
      ]
    },
    {
      "cell_type": "markdown",
      "metadata": {
        "id": "Hp3B9ExDRTNy"
      },
      "source": [
        "In this case $y$ is a **[linear combination](https://en.wikipedia.org/wiki/Linear_combination)** of the *columns* of $A$, the coefficients taken from $x$."
      ]
    },
    {
      "cell_type": "markdown",
      "metadata": {
        "id": "WCObc4VFRTNy"
      },
      "source": [
        "The above examples multiply be the right with a column vector. One can multiply on the left by a row vector as well, $y^T = x^T A$ for $A \\in \\mathbb{R}^{m\\times n}$, $x\\in \\mathbb{R}^m$, $y \\in \\mathbb{R}^n$. There are two ways to express $y^T$, with $A$ expressed by its columns, with $i$th scalar of $y^T$ corresponds to the inner product of $x$ and the $i$th column of $A$:"
      ]
    },
    {
      "cell_type": "markdown",
      "metadata": {
        "id": "h-XCTNoMRTNy"
      },
      "source": [
        "$y^T = x^T A = x^t \\begin{bmatrix}\n",
        " \\big| & \\big| &  & \\big| \\\\[0.3em]\n",
        " a_1 & a_2 & \\cdots & a_n \\\\[0.3em]\n",
        " \\big| & \\big| &  & \\big|  \n",
        "\\end{bmatrix} = \n",
        "\\begin{bmatrix}\n",
        " x^T a_1 & x^T a_2 & \\dots & x^T a_n   \n",
        "\\end{bmatrix}$"
      ]
    },
    {
      "cell_type": "markdown",
      "metadata": {
        "id": "uFXZiABORTNy"
      },
      "source": [
        "One can express $A$ by rows, where $y^T$ is a linear combination of the rows of $A$ with the scalars from $x$."
      ]
    },
    {
      "cell_type": "markdown",
      "metadata": {
        "id": "TsoSK4mCRTNz"
      },
      "source": [
        "$\\begin{equation}\n",
        "\\begin{split}\n",
        "y^T & = x^T A \\\\\n",
        "    & = \\begin{bmatrix}\n",
        " x_1 & x_2 & \\dots & x_n   \n",
        "\\end{bmatrix}\n",
        "\\begin{bmatrix}\n",
        " -- & a_1^T  & -- \\\\[0.3em]\n",
        " -- & a_2^T  & -- \\\\[0.3em]\n",
        "    & \\vdots &  \\\\[0.3em]\n",
        " -- & a_m^T  & -- \n",
        "\\end{bmatrix} \\\\\n",
        "   & = x_1 \\begin{bmatrix}-- & a_1^T  & --\\end{bmatrix} + x_2 \\begin{bmatrix}-- & a_2^T  & --\\end{bmatrix} + \\dots + x_n \\begin{bmatrix}-- & a_n^T  & --\\end{bmatrix}\n",
        "\\end{split}\n",
        "\\end{equation}$"
      ]
    },
    {
      "cell_type": "markdown",
      "metadata": {
        "id": "dtN41O3CRTNz"
      },
      "source": [
        "### Matrix-Matrix Products"
      ]
    },
    {
      "cell_type": "markdown",
      "metadata": {
        "id": "y4eE_8z-RTNz"
      },
      "source": [
        "One can view matrix-matrix multiplication $C = AB$ as a set of vector-vector products. The $(i,j)$th entry of $C$ is the inner product of the $i$th row of $A$ and the $j$th column of $B$:"
      ]
    },
    {
      "cell_type": "markdown",
      "metadata": {
        "id": "3LOs2OU6RTNz"
      },
      "source": [
        "$C = AB =\n",
        "\\begin{bmatrix}\n",
        " -- & a_1^T  & -- \\\\[0.3em]\n",
        " -- & a_2^T  & -- \\\\[0.3em]\n",
        "    & \\vdots &  \\\\[0.3em]\n",
        " -- & a_m^T  & -- \n",
        "\\end{bmatrix}\n",
        "\\begin{bmatrix}\n",
        " \\big| & \\big| &  & \\big| \\\\[0.3em]\n",
        " b_1 & b_2 & \\cdots & b_p \\\\[0.3em]\n",
        " \\big| & \\big| &  & \\big|  \n",
        "\\end{bmatrix} = \n",
        "\\begin{bmatrix}\n",
        " a_1^T b_1 & a_1^T b_2 & \\cdots & a_1^T b_p \\\\[0.3em]\n",
        " a_2^T b_1 & a_2^T b_2 & \\cdots & a_2^T b_p \\\\[0.3em]\n",
        " \\vdots    & \\vdots    & \\ddots & \\vdots    \\\\[0.3em]\n",
        " a_m^T b_1 & a_m^T b_2 & \\cdots & a_m^T b_p \n",
        "\\end{bmatrix}$"
      ]
    },
    {
      "cell_type": "markdown",
      "metadata": {
        "id": "yIT6A7JmRTNz"
      },
      "source": [
        "Here $A \\in \\mathbb{R}^{m\\times n}$ and $B \\in \\mathbb{R}^{n\\times p}$, $a_i \\in \\mathbb{R}^n$ and $b_j \\in \\mathbb{R}^n$, and $A$ is represented by rows, $B$ by columns."
      ]
    },
    {
      "cell_type": "markdown",
      "metadata": {
        "id": "7D31VrXnRTNz"
      },
      "source": [
        "If we represent $A$ by columns and $B$ by rows, then $AB$ is the sum of the outer products:"
      ]
    },
    {
      "cell_type": "markdown",
      "metadata": {
        "id": "voYMJz_YRTNz"
      },
      "source": [
        "$C = AB =\n",
        "\\begin{bmatrix}\n",
        " \\big| & \\big| &  & \\big| \\\\[0.3em]\n",
        " a_1 & a_2 & \\cdots & a_n \\\\[0.3em]\n",
        " \\big| & \\big| &  & \\big|  \n",
        "\\end{bmatrix}\n",
        "\\begin{bmatrix}\n",
        " -- & b_1^T  & -- \\\\[0.3em]\n",
        " -- & b_2^T  & -- \\\\[0.3em]\n",
        "    & \\vdots &  \\\\[0.3em]\n",
        " -- & b_n^T  & -- \n",
        "\\end{bmatrix}\n",
        "= \\sum_{i=1}^n a_i b_i^T\n",
        "$"
      ]
    },
    {
      "cell_type": "markdown",
      "metadata": {
        "id": "rZc9NqYORTN0"
      },
      "source": [
        "This means that $AB$ is the sum over all $i$ of the outer product of the $i$th column of $A$ and the $i$th row of $B$."
      ]
    },
    {
      "cell_type": "markdown",
      "metadata": {
        "id": "M4cFBxxfRTN0"
      },
      "source": [
        "One can interpret matrix-matrix operations also as a set of matrix-vector products. Representing $B$ by columns, the columns of $C$ are matrix-vector products between $A$ and the columns of $B$:"
      ]
    },
    {
      "cell_type": "markdown",
      "metadata": {
        "id": "-Yz97gaERTN0"
      },
      "source": [
        "$C = AB = A\n",
        "\\begin{bmatrix}\n",
        " \\big| & \\big| &  & \\big| \\\\[0.3em]\n",
        " b_1 & b_2 & \\cdots & b_p \\\\[0.3em]\n",
        " \\big| & \\big| &  & \\big|  \n",
        "\\end{bmatrix} = \n",
        "\\begin{bmatrix}\n",
        " \\big| & \\big| &  & \\big| \\\\[0.3em]\n",
        " A b_1 & A b_2 & \\cdots & A b_p \\\\[0.3em]\n",
        " \\big| & \\big| &  & \\big|  \n",
        "\\end{bmatrix}\n",
        "$"
      ]
    },
    {
      "cell_type": "markdown",
      "metadata": {
        "id": "YqR4vzb8RTN0"
      },
      "source": [
        "In this interpretation the $i$th column of $C$ is the matrix-vector product with the vector on the right, i.e. $c_i = A b_i$."
      ]
    },
    {
      "cell_type": "markdown",
      "metadata": {
        "id": "uyQXdIVDRTN0"
      },
      "source": [
        "Representing $A$ by rows, the rows of $C$ are the matrix-vector products between the rows of $A$ and $B$:"
      ]
    },
    {
      "cell_type": "markdown",
      "metadata": {
        "id": "E_0jcwTwRTN0"
      },
      "source": [
        "$C = AB = \\begin{bmatrix}\n",
        " -- & a_1^T  & -- \\\\[0.3em]\n",
        " -- & a_2^T  & -- \\\\[0.3em]\n",
        "    & \\vdots &  \\\\[0.3em]\n",
        " -- & a_m^T  & -- \n",
        "\\end{bmatrix}\n",
        "B = \n",
        "\\begin{bmatrix}\n",
        " -- & a_1^T B & -- \\\\[0.3em]\n",
        " -- & a_2^T B & -- \\\\[0.3em]\n",
        "    & \\vdots &  \\\\[0.3em]\n",
        " -- & a_n^T B & -- \n",
        "\\end{bmatrix}$"
      ]
    },
    {
      "cell_type": "markdown",
      "metadata": {
        "id": "C7linKaQRTN0"
      },
      "source": [
        "The $i$th row of $C$ is the matrix-vector product with the vector on the left, i.e. $c_i^T = a_i^T B$."
      ]
    },
    {
      "cell_type": "markdown",
      "metadata": {
        "id": "qG-UEgWqRTN1"
      },
      "source": [
        "#### Notes on Matrix-Matrix Products"
      ]
    },
    {
      "cell_type": "markdown",
      "metadata": {
        "id": "9XLFPVPiRTN1"
      },
      "source": [
        "**Matrix multiplication is associative:** $(AB)C = A(BC)$"
      ]
    },
    {
      "cell_type": "markdown",
      "metadata": {
        "id": "d2YPwyr5RTN1"
      },
      "source": [
        "**Matrix multiplication is distributive:** $A(B + C) = AB + AC$"
      ]
    },
    {
      "cell_type": "markdown",
      "metadata": {
        "id": "lpuF-zeARTN1"
      },
      "source": [
        "**Matrix multiplication is, in general, not commutative;** It can be the case that $AB \\neq BA$. (For example, if $A \\in \\mathbb{R}^{m\\times n}$ and $B \\in \\mathbb{R}^{n\\times q}$, the matrix product $BA$ does not even exist if $m$ and $q$ are not equal!)"
      ]
    },
    {
      "cell_type": "markdown",
      "metadata": {
        "id": "9VF8J45KRTN1"
      },
      "source": [
        "## Identity Matrix"
      ]
    },
    {
      "cell_type": "markdown",
      "metadata": {
        "id": "juzQcfViRTN1"
      },
      "source": [
        "The **identity matrix** $I \\in \\mathbb{R}^{n\\times n}$ is a square matrix with the value $1$ on the diagonal and $0$ everywhere else:"
      ]
    },
    {
      "cell_type": "markdown",
      "metadata": {
        "id": "UgMPzBIbRTN1"
      },
      "source": [
        "$I_{ij} = \\left\\{\n",
        "\\begin{array}{lr}\n",
        " 1 & i = j\\\\\n",
        " 0 & i \\neq j\n",
        "\\end{array}\n",
        "\\right.\n",
        "$"
      ]
    },
    {
      "cell_type": "markdown",
      "metadata": {
        "id": "tOwwc3RPRTN2"
      },
      "source": [
        "For all $A \\in \\mathbb{R}^{m\\times n}$:"
      ]
    },
    {
      "cell_type": "markdown",
      "metadata": {
        "id": "ccxpsAjvRTN2"
      },
      "source": [
        "$AI = A = IA$"
      ]
    },
    {
      "cell_type": "markdown",
      "metadata": {
        "id": "8zdt6lF6RTN2"
      },
      "source": [
        "In the equation above multiplication has to be made possible, which means that in the portion $AI = A$ the dimensions of $I$ have to be $n\\times n$, while in $A = IA$ they have to be $m\\times m$."
      ]
    },
    {
      "cell_type": "markdown",
      "metadata": {
        "id": "ylYRXIqvRTN2"
      },
      "source": [
        "We can generate an *identity matrix* in *numpy* using:"
      ]
    },
    {
      "cell_type": "code",
      "metadata": {
        "id": "5__piwrFRTN2"
      },
      "source": [
        "import numpy as np\n",
        "A = np.array([[0, 1, 2],\n",
        "              [3, 4, 5],\n",
        "              [6, 7, 8],\n",
        "              [9, 10, 11]])\n",
        "print(\"A:\", A)"
      ],
      "execution_count": null,
      "outputs": []
    },
    {
      "cell_type": "markdown",
      "metadata": {
        "id": "0Uln9FrPRTN2"
      },
      "source": [
        "We can ask for the shape of $A$:"
      ]
    },
    {
      "cell_type": "code",
      "metadata": {
        "id": "aN7EpzqWRTN2"
      },
      "source": [
        "A.shape"
      ],
      "execution_count": null,
      "outputs": []
    },
    {
      "cell_type": "markdown",
      "metadata": {
        "id": "XD2yIpksRTN3"
      },
      "source": [
        "The *shape* property of a matrix contains the $m$ (number of rows) and $n$ (number of columns) properties in a tuple, in that particular order. We can create an identity matrix for the use in $AI$ by using the $n$ value: "
      ]
    },
    {
      "cell_type": "code",
      "metadata": {
        "id": "J_Q05hDNRTN3"
      },
      "source": [
        "np.identity(A.shape[1], dtype=\"int\")"
      ],
      "execution_count": null,
      "outputs": []
    },
    {
      "cell_type": "markdown",
      "metadata": {
        "id": "sHkrD02cRTN3"
      },
      "source": [
        "Note that we specify the *dtype* parameter to *identity* as *int*, since the default would return a matrix of *float* values."
      ]
    },
    {
      "cell_type": "markdown",
      "metadata": {
        "id": "Wa9p0sT1RTN3"
      },
      "source": [
        "To generate an identity matrix for the use in $IA$ we would use the $m$ value:"
      ]
    },
    {
      "cell_type": "code",
      "metadata": {
        "id": "UgtSG4S2RTN3"
      },
      "source": [
        "np.identity(A.shape[0], dtype=\"int\")"
      ],
      "execution_count": null,
      "outputs": []
    },
    {
      "cell_type": "markdown",
      "metadata": {
        "id": "w60MHKhBRTN3"
      },
      "source": [
        "We can compute the dot product of $A$ and its identity matrix $I$:"
      ]
    },
    {
      "cell_type": "code",
      "metadata": {
        "id": "0MCdKuSFRTN3"
      },
      "source": [
        "n = A.shape[1]\n",
        "I = np.array(np.identity(n, dtype=\"int\"))\n",
        "np.dot(A, I)"
      ],
      "execution_count": null,
      "outputs": []
    },
    {
      "cell_type": "markdown",
      "metadata": {
        "id": "E8qHZcu5RTN3"
      },
      "source": [
        "The same is true for the other direction:"
      ]
    },
    {
      "cell_type": "code",
      "metadata": {
        "id": "uRhOa3OPRTN4"
      },
      "source": [
        "m = A.shape[0]\n",
        "I = np.array(np.identity(m, dtype=\"int\"))\n",
        "np.dot(I, A)"
      ],
      "execution_count": null,
      "outputs": []
    },
    {
      "cell_type": "markdown",
      "metadata": {
        "id": "h3VD9v_sRTN4"
      },
      "source": [
        "## Diagonal Matrix"
      ]
    },
    {
      "cell_type": "markdown",
      "metadata": {
        "id": "mscqZIgwRTN4"
      },
      "source": [
        "In the **diagonal matrix** non-diagonal elements are $0$, that is $D = diag(d_1, d_2, \\dots{}, d_n)$, with:"
      ]
    },
    {
      "cell_type": "markdown",
      "metadata": {
        "id": "9WcCsWq_RTN4"
      },
      "source": [
        "$D_{ij} = \\left\\{\n",
        "\\begin{array}{lr}\n",
        " d_i & i = j\\\\\n",
        " 0 & i \\neq j\n",
        "\\end{array}\n",
        "\\right.\n",
        "$"
      ]
    },
    {
      "cell_type": "markdown",
      "metadata": {
        "id": "oJIwYUuJRTN4"
      },
      "source": [
        "The identity matrix is a special case of a diagonal matrix: $I = diag(1, 1, \\dots{}, 1)$."
      ]
    },
    {
      "cell_type": "markdown",
      "metadata": {
        "id": "4ZEI2hQARTN4"
      },
      "source": [
        "In *numpy* we can create a *diagonal matrix* from any given matrix using the *diag* function:"
      ]
    },
    {
      "cell_type": "code",
      "metadata": {
        "id": "otjgHD4QRTN4"
      },
      "source": [
        "import numpy as np\n",
        "A = np.array([[0,   1,  2,  3],\n",
        "              [4,   5,  6,  7],\n",
        "              [8,   9, 10, 11],\n",
        "              [12, 13, 14, 15]])\n",
        "np.diag(A)"
      ],
      "execution_count": null,
      "outputs": []
    },
    {
      "cell_type": "markdown",
      "metadata": {
        "id": "ki-KnSsxRTN5"
      },
      "source": [
        "An optional parameter *k* to the *diag* function allows us to extract the diagonal above the main diagonal with a positive *k*, and below the main diagonal with a negative *k*:"
      ]
    },
    {
      "cell_type": "code",
      "metadata": {
        "id": "WMO0sCRrRTN5"
      },
      "source": [
        "np.diag(A, k=1)"
      ],
      "execution_count": null,
      "outputs": []
    },
    {
      "cell_type": "code",
      "metadata": {
        "id": "anturX0HRTN5"
      },
      "source": [
        "np.diag(A, k=-1)"
      ],
      "execution_count": null,
      "outputs": []
    },
    {
      "cell_type": "markdown",
      "metadata": {
        "id": "S27P0z1rRTN5"
      },
      "source": [
        "## Transpose of a Matrix"
      ]
    },
    {
      "cell_type": "markdown",
      "metadata": {
        "id": "fRrefka1RTN5"
      },
      "source": [
        "**Transposing** a matrix is achieved by *flipping* the rows and columns. For a matrix $A \\in \\mathbb{R}^{m\\times n}$ the transpose $A^T \\in \\mathbb{R}^{n\\times m}$ is the $n\\times m$ matrix given by:"
      ]
    },
    {
      "cell_type": "markdown",
      "metadata": {
        "id": "CVfFTKSFRTN5"
      },
      "source": [
        "$(A^T)_{ij} = A_{ji}$"
      ]
    },
    {
      "cell_type": "markdown",
      "metadata": {
        "id": "c4bg0K1DRTN5"
      },
      "source": [
        "Properties of transposes:"
      ]
    },
    {
      "cell_type": "markdown",
      "metadata": {
        "id": "juqAJHa3RTN6"
      },
      "source": [
        "- $(A^T)^T = A$\n",
        "- $(AB)^T = B^T A^T$\n",
        "- $(A+B)^T = A^T + B^T$"
      ]
    },
    {
      "cell_type": "markdown",
      "metadata": {
        "id": "CXaw3kHRRTN6"
      },
      "source": [
        "## Symmetric Metrices"
      ]
    },
    {
      "cell_type": "markdown",
      "metadata": {
        "id": "IwlwvanZRTN6"
      },
      "source": [
        "Square metrices $A \\in \\mathbb{R}^{n\\times n}$ are **symmetric**, if $A = A^T$."
      ]
    },
    {
      "cell_type": "markdown",
      "metadata": {
        "id": "UrEqbEnsRTN6"
      },
      "source": [
        "$A$ is **anti-symmetric**, if $A = -A^T$."
      ]
    },
    {
      "cell_type": "markdown",
      "metadata": {
        "id": "4xnKsB1-RTN6"
      },
      "source": [
        "For any matrix $A \\in \\mathbb{R}^{n\\times n}$, the matrix $A + A^T$ is **symmetric**."
      ]
    },
    {
      "cell_type": "markdown",
      "metadata": {
        "id": "Vx4vpSITRTN6"
      },
      "source": [
        "For any matrix $A \\in \\mathbb{R}^{n\\times n}$, the matrix $A - A^T$ is **anti-symmetric**."
      ]
    },
    {
      "cell_type": "markdown",
      "metadata": {
        "id": "O5E1n7T7RTN6"
      },
      "source": [
        "Thus, any square matrix $A \\in \\mathbb{R}^{n\\times n}$ can be represented as a sum of a symmetric matrix and an anti-symmetric matrix:"
      ]
    },
    {
      "cell_type": "markdown",
      "metadata": {
        "id": "lRA5bS3wRTN7"
      },
      "source": [
        "$A = \\frac{1}{2} (A + A^T) + \\frac{1}{2} (A - A^T)$"
      ]
    },
    {
      "cell_type": "markdown",
      "metadata": {
        "id": "3zkBbHBERTN7"
      },
      "source": [
        "The first matrix on the right, i.e. $\\frac{1}{2} (A + A^T)$ is symmetric. The second matrix $\\frac{1}{2} (A - A^T)$ is anti-symmetric."
      ]
    },
    {
      "cell_type": "markdown",
      "metadata": {
        "id": "eJFwYzZ-RTN7"
      },
      "source": [
        "$\\mathbb{S}^n$ is the set of all symmetric matrices of size $n$."
      ]
    },
    {
      "cell_type": "markdown",
      "metadata": {
        "id": "W8_grLNHRTN7"
      },
      "source": [
        "$A \\in \\mathbb{S}^n$ means that $A$ is symmetric and of the size $n\\times n$."
      ]
    },
    {
      "cell_type": "markdown",
      "metadata": {
        "id": "qsGsKxCPRTN7"
      },
      "source": [
        "## The Trace"
      ]
    },
    {
      "cell_type": "markdown",
      "metadata": {
        "id": "X-yPx01CRTN7"
      },
      "source": [
        "The **trace** of a square matrix $A \\in \\mathbb{R}^{n\\times n}$ is $tr(A)$ (or $trA$) is the sum of the diagonal elements in the matrix:"
      ]
    },
    {
      "cell_type": "markdown",
      "metadata": {
        "id": "wcsoP5wnRTN7"
      },
      "source": [
        "$trA = \\sum_{i=1}^n A_{ii}$"
      ]
    },
    {
      "cell_type": "markdown",
      "metadata": {
        "id": "uHX3F11xRTN8"
      },
      "source": [
        "Properties of the **trace**:"
      ]
    },
    {
      "cell_type": "markdown",
      "metadata": {
        "id": "-9KONbmzRTN8"
      },
      "source": [
        "- For $A \\in \\mathbb{R}^{n\\times n}$, $\\mathrm{tr}A = \\mathrm{tr}A^T$\n",
        "- For $A,B \\in \\mathbb{R}^{n\\times n}$, $\\mathrm{tr}(A + B) = \\mathrm{tr}A + \\mathrm{tr}B$\n",
        "- For $A \\in \\mathbb{R}^{n\\times n}$, $t \\in \\mathbb{R}$, $\\mathrm{tr}(tA) = t \\mathrm{tr}A$\n",
        "- For $A,B$ such that $AB$ is square, $\\mathrm{tr}AB = \\mathrm{tr}BA$\n",
        "- For $A,B,C$ such that $ABC$ is square, $\\mathrm{tr}ABC = \\mathrm{tr}BCA = \\mathrm{tr}CAB$, and so on for the product of more matrices."
      ]
    },
    {
      "cell_type": "markdown",
      "metadata": {
        "id": "evJEUmCMRTN8"
      },
      "source": [
        "See for proofs the paper!"
      ]
    },
    {
      "cell_type": "markdown",
      "metadata": {
        "id": "hqYO_llaRTN8"
      },
      "source": [
        "## Norms"
      ]
    },
    {
      "cell_type": "markdown",
      "metadata": {
        "id": "xy4aswtIRTN8"
      },
      "source": [
        "The **norm** of a vector $x$ is $\\| x\\|$, informally the length of a vector."
      ]
    },
    {
      "cell_type": "markdown",
      "metadata": {
        "id": "DO08Pgx_RTN8"
      },
      "source": [
        "Example: the Euclidean or $\\mathscr{l}_2$ norm:"
      ]
    },
    {
      "cell_type": "markdown",
      "metadata": {
        "id": "1HPKPOWGRTN8"
      },
      "source": [
        "$\\|x\\|_2 = \\sqrt{\\sum_{i=1}^n{x_i^2}}$"
      ]
    },
    {
      "cell_type": "markdown",
      "metadata": {
        "id": "4etxtzA2RTN9"
      },
      "source": [
        "Note: $\\|x\\|_2^2 = x^T x$"
      ]
    },
    {
      "cell_type": "markdown",
      "metadata": {
        "id": "-luELXtORTN9"
      },
      "source": [
        "A **norm** is any function $f : \\mathbb{R}^n \\rightarrow \\mathbb{R}$ that satisfies the following properties:"
      ]
    },
    {
      "cell_type": "markdown",
      "metadata": {
        "id": "WOz0tizHRTN9"
      },
      "source": [
        "- For all $x \\in \\mathbb{R}^n$, $f(x) \\geq 0$ (non-negativity)\n",
        "- $f(x) = 0$ if and only if $x = 0$ (definiteness)\n",
        "- For all $x \\in \\mathbb{R}^n$, $t \\in \\mathbb{R}$, $f(tx) = |t|\\ f(x)$ (homogeneity)\n",
        "- For all $x, y \\in \\mathbb{R}^n$, $f(x + y) \\leq f(x) + f(y)$ (triangle inequality)"
      ]
    },
    {
      "cell_type": "markdown",
      "metadata": {
        "id": "etd8_tnlRTN9"
      },
      "source": [
        "Norm $\\mathscr{l}_1$:"
      ]
    },
    {
      "cell_type": "markdown",
      "metadata": {
        "id": "ugQVmlXsRTN9"
      },
      "source": [
        "$\\|x\\|_1 = \\sum_{i=1}^n{|x_i|}$"
      ]
    },
    {
      "cell_type": "markdown",
      "metadata": {
        "id": "G8dMrp62RTN9"
      },
      "source": [
        "Norm $\\mathscr{l}_\\infty$:"
      ]
    },
    {
      "cell_type": "markdown",
      "metadata": {
        "id": "WfFanF1CRTN-"
      },
      "source": [
        "$\\|x\\|_\\infty = \\max_i|x_i|$"
      ]
    },
    {
      "cell_type": "markdown",
      "metadata": {
        "id": "o6XvRybURTN-"
      },
      "source": [
        "All these three norms are examples of the $\\mathscr{l}_p$ norms, with $p$ a real number parameter $p \\geq 1$:"
      ]
    },
    {
      "cell_type": "markdown",
      "metadata": {
        "id": "7C7M22FtRTN-"
      },
      "source": [
        "$\\|x\\|_p = \\left(\\sum_{i=1}^n{|x_i|^p}\\right)^{\\frac{1}{p}}$"
      ]
    },
    {
      "cell_type": "markdown",
      "metadata": {
        "id": "VCCTTJyORTN-"
      },
      "source": [
        "*Frobenius norm* for matrices:"
      ]
    },
    {
      "cell_type": "markdown",
      "metadata": {
        "id": "GrdL__n_RTN-"
      },
      "source": [
        "$\\|A\\|_F = \\sqrt{\\sum_{i=1}^m\\sum_{i=1}^n A_{ij}^2} = \\sqrt{\\mathrm{tr}(A^T A)}$"
      ]
    },
    {
      "cell_type": "markdown",
      "metadata": {
        "id": "lM-eorKURTN-"
      },
      "source": [
        "And many more."
      ]
    },
    {
      "cell_type": "markdown",
      "metadata": {
        "id": "zyNszf3TRTN-"
      },
      "source": [
        "## Linear Independence and Rank"
      ]
    },
    {
      "cell_type": "markdown",
      "metadata": {
        "id": "3yfYjYRdRTN_"
      },
      "source": [
        "A set of vectors $\\{x_1, x_2, \\dots{}, x_n\\} \\subset \\mathbb{R}^m$ is said to be **(linearly) independent** if no vector can be represented as a linear combination of the remaining vectors."
      ]
    },
    {
      "cell_type": "markdown",
      "metadata": {
        "id": "zhTCYd-SRTN_"
      },
      "source": [
        "A set of vectors $\\{x_1, x_2, \\dots{}, x_n\\} \\subset \\mathbb{R}^m$ is said to be **(lineraly) dependent** if one vector from this set can be represented as a linear combination of the remaining vectors."
      ]
    },
    {
      "cell_type": "markdown",
      "metadata": {
        "id": "F99eD_NTRTN_"
      },
      "source": [
        "For some scalar values $\\alpha_1, \\dots{}, \\alpha_{n-1} \\in \\mathbb{R}$ the vectors $x_1, \\dots{}, x_n$ are linerly dependent, if:"
      ]
    },
    {
      "cell_type": "markdown",
      "metadata": {
        "id": "dzp6eg95RTN_"
      },
      "source": [
        "$\\begin{equation}\n",
        "x_n = \\sum_{i=1}^{n-1}{\\alpha_i x_i}\n",
        "\\end{equation}$"
      ]
    },
    {
      "cell_type": "markdown",
      "metadata": {
        "id": "NHNdKTZvRTN_"
      },
      "source": [
        "Example: The following vectors are lineraly dependent, because $x_3 = -2 x_1 + x_2$"
      ]
    },
    {
      "cell_type": "markdown",
      "metadata": {
        "id": "fYYmy457RTN_"
      },
      "source": [
        "$x_1 = \\begin{bmatrix}\n",
        " 1 \\\\[0.3em]\n",
        " 2 \\\\[0.3em]\n",
        " 3 \n",
        "\\end{bmatrix}\n",
        "\\quad\n",
        "x_2 = \\begin{bmatrix}\n",
        " 4 \\\\[0.3em]\n",
        " 1 \\\\[0.3em]\n",
        " 5 \n",
        "\\end{bmatrix}\n",
        "\\quad\n",
        "x_3 = \\begin{bmatrix}\n",
        " 2 \\\\[0.3em]\n",
        " -1 \\\\[0.3em]\n",
        " -1 \n",
        "\\end{bmatrix}\n",
        "$"
      ]
    },
    {
      "cell_type": "markdown",
      "metadata": {
        "id": "3mrDjllARTN_"
      },
      "source": [
        "### Column Rank of a Matrix"
      ]
    },
    {
      "cell_type": "markdown",
      "metadata": {
        "id": "4vm_0-aZRTOA"
      },
      "source": [
        "The **column rank** of a matrix $A \\in \\mathbb{R}^{m\\times n}$ is the size of the largest subset of columns of $A$ that constitute a linear independent set. Informaly this is the number of linearly independent columns of $A$."
      ]
    },
    {
      "cell_type": "markdown",
      "metadata": {
        "id": "UDtJl7zzRTOA"
      },
      "source": [
        "### Row Rank of a Matrix"
      ]
    },
    {
      "cell_type": "markdown",
      "metadata": {
        "id": "4jddPGNCRTOA"
      },
      "source": [
        "The **row rank** of a matrix $A \\in \\mathbb{R}^{m\\times n}$ is the largest number of rows of $A$ that constitute a lineraly independent set."
      ]
    },
    {
      "cell_type": "markdown",
      "metadata": {
        "id": "XmQnv3XhRTOB"
      },
      "source": [
        "### Rank of a Matrix"
      ]
    },
    {
      "cell_type": "markdown",
      "metadata": {
        "id": "w3kh94lkRTOB"
      },
      "source": [
        "For any matrix $A \\in \\mathbb{R}^{m\\times n}$, the column rank of $A$ is equal to the row rank of $A$. Both quantities are referred to collectively as the rank of $A$, denoted as $rank(A)$. Here are some basic properties of the rank:"
      ]
    },
    {
      "cell_type": "markdown",
      "metadata": {
        "id": "JJojIYR1RTOB"
      },
      "source": [
        "- For $A \\in \\mathbb{R}^{m\\times n}$, $rank(A) \\leq \\min(m, n)$. If $rank(A) = \\min(m, n)$, then $A$ is said to be\n",
        "**full rank**.\n",
        "- For $A \\in \\mathbb{R}^{m\\times n}$, $rank(A) = rank(A^T)$\n",
        "- For $A \\in \\mathbb{R}^{m\\times n}$, $B \\in \\mathbb{R}^{n\\times p}$, $rank(AB) \\leq \\min(rank(A), rank(B))$\n",
        "- For $A,B \\in \\mathbb{R}^{m\\times n}$, $rank(A + B) \\leq rank(A) + rank(B)$"
      ]
    },
    {
      "cell_type": "markdown",
      "metadata": {
        "id": "8w96br-vRTOB"
      },
      "source": [
        "## Subtraction and Addition of Metrices"
      ]
    },
    {
      "cell_type": "markdown",
      "metadata": {
        "id": "-22Ab6m0RTOB"
      },
      "source": [
        "Assume $A \\in \\mathbb{R}^{m\\times n}$ and $B \\in \\mathbb{R}^{m\\times n}$, that is $A$ and $B$ are of the same size, to add $A$ to $B$, or to subtract $B$ from $A$, we add or subtract corresponding entries:"
      ]
    },
    {
      "cell_type": "markdown",
      "metadata": {
        "id": "KrFsBEFhRTOB"
      },
      "source": [
        "$A + B =\n",
        "\\begin{bmatrix}\n",
        " a_{11} & a_{12} & \\cdots & a_{1n} \\\\[0.3em]\n",
        " a_{21} & a_{22} & \\cdots & a_{2n} \\\\[0.3em]\n",
        " \\vdots & \\vdots & \\ddots & \\vdots \\\\[0.3em]\n",
        " a_{m1} & a_{m2} & \\cdots & a_{mn}\n",
        "\\end{bmatrix} +\n",
        "\\begin{bmatrix}\n",
        " b_{11} & b_{12} & \\cdots & b_{1n} \\\\[0.3em]\n",
        " b_{21} & b_{22} & \\cdots & b_{2n} \\\\[0.3em]\n",
        " \\vdots & \\vdots & \\ddots & \\vdots \\\\[0.3em]\n",
        " b_{m1} & b_{m2} & \\cdots & b_{mn}\n",
        "\\end{bmatrix} =\n",
        "\\begin{bmatrix}\n",
        " a_{11} + b_{11} & a_{12} + b_{12} & \\cdots & a_{1n} + b_{1n} \\\\[0.3em]\n",
        " a_{21} + b_{21} & a_{22} + b_{22} & \\cdots & a_{2n} + b_{2n} \\\\[0.3em]\n",
        " \\vdots & \\vdots & \\ddots & \\vdots \\\\[0.3em]\n",
        " a_{m1} + b_{m1} & a_{m2} + b_{m2} & \\cdots & a_{mn} + b_{mn}\n",
        "\\end{bmatrix}\n",
        "$"
      ]
    },
    {
      "cell_type": "markdown",
      "metadata": {
        "id": "CfwqEinPRTOB"
      },
      "source": [
        "The same is applies to subtraction:"
      ]
    },
    {
      "cell_type": "markdown",
      "metadata": {
        "id": "8q7_hz3RRTOC"
      },
      "source": [
        "$A - B =\n",
        "\\begin{bmatrix}\n",
        " a_{11} & a_{12} & \\cdots & a_{1n} \\\\[0.3em]\n",
        " a_{21} & a_{22} & \\cdots & a_{2n} \\\\[0.3em]\n",
        " \\vdots & \\vdots & \\ddots & \\vdots \\\\[0.3em]\n",
        " a_{m1} & a_{m2} & \\cdots & a_{mn}\n",
        "\\end{bmatrix} -\n",
        "\\begin{bmatrix}\n",
        " b_{11} & b_{12} & \\cdots & b_{1n} \\\\[0.3em]\n",
        " b_{21} & b_{22} & \\cdots & b_{2n} \\\\[0.3em]\n",
        " \\vdots & \\vdots & \\ddots & \\vdots \\\\[0.3em]\n",
        " b_{m1} & b_{m2} & \\cdots & b_{mn}\n",
        "\\end{bmatrix} =\n",
        "\\begin{bmatrix}\n",
        " a_{11} - b_{11} & a_{12} - b_{12} & \\cdots & a_{1n} - b_{1n} \\\\[0.3em]\n",
        " a_{21} - b_{21} & a_{22} - b_{22} & \\cdots & a_{2n} - b_{2n} \\\\[0.3em]\n",
        " \\vdots & \\vdots & \\ddots & \\vdots \\\\[0.3em]\n",
        " a_{m1} - b_{m1} & a_{m2} - b_{m2} & \\cdots & a_{mn} - b_{mn}\n",
        "\\end{bmatrix}\n",
        "$"
      ]
    },
    {
      "cell_type": "markdown",
      "metadata": {
        "id": "1Rg035wORTOC"
      },
      "source": [
        "In Python using *numpy* this can be achieved using the following code:"
      ]
    },
    {
      "cell_type": "code",
      "metadata": {
        "id": "C7FLCfneRTOC"
      },
      "source": [
        "import numpy as np\n",
        "print(\"np.arange(9):\", np.arange(9))\n",
        "print(\"np.arange(9, 18):\", np.arange(9, 18))\n",
        "A = np.arange(9, 18).reshape((3, 3))\n",
        "B = np.arange(9).reshape((3, 3))\n",
        "print(\"A:\", A)\n",
        "print(\"B:\", B)"
      ],
      "execution_count": null,
      "outputs": []
    },
    {
      "cell_type": "markdown",
      "metadata": {
        "id": "Olb9QNJBRTOC"
      },
      "source": [
        "The *numpy* function *arange* is similar to the standard Python function *range*. It returns an array with $n$ elements, specified in the one parameter version only. If we provide to parameters to *arange*, it generates an array starting from the value of the first parameter and ending with a value one less than the second parameter. The function *reshape* returns us a matrix with the corresponding number of rows and columns."
      ]
    },
    {
      "cell_type": "markdown",
      "metadata": {
        "id": "LIGB9VroRTOC"
      },
      "source": [
        "We can now add and subtract the two matrices $A$ and $B$:"
      ]
    },
    {
      "cell_type": "code",
      "metadata": {
        "id": "63mRMrEvRTOC"
      },
      "source": [
        "A + B"
      ],
      "execution_count": null,
      "outputs": []
    },
    {
      "cell_type": "code",
      "metadata": {
        "id": "tqmbAZ07RTOD"
      },
      "source": [
        "A - B"
      ],
      "execution_count": null,
      "outputs": []
    },
    {
      "cell_type": "markdown",
      "metadata": {
        "id": "IXylUpb8RTOD"
      },
      "source": [
        "## Inverse"
      ]
    },
    {
      "cell_type": "markdown",
      "metadata": {
        "id": "nA_lGfNNRTOD"
      },
      "source": [
        "The **inverse** of a square matrix $A \\in \\mathbb{R}^{n\\times n}$ is $A^{-1}$:"
      ]
    },
    {
      "cell_type": "markdown",
      "metadata": {
        "id": "_Jz9pWRSRTOD"
      },
      "source": [
        "$A^{-1} A = I = A A^{-1}$"
      ]
    },
    {
      "cell_type": "markdown",
      "metadata": {
        "id": "JzMP7jv5RTOD"
      },
      "source": [
        "Not all matrices have inverses. Non-square matrices do not have inverses by definition. For some square matrices $A$ the inverse might not exist."
      ]
    },
    {
      "cell_type": "markdown",
      "metadata": {
        "id": "V168W769RTOD"
      },
      "source": [
        "$A$ is **invertible** or **non-singular** if $A^{-1}$ exists."
      ]
    },
    {
      "cell_type": "markdown",
      "metadata": {
        "id": "6t3m3JQhRTOD"
      },
      "source": [
        "$A$ is **non-invertible** or **singular** if $A^{-1}$ does not exist."
      ]
    },
    {
      "cell_type": "markdown",
      "metadata": {
        "id": "2GubsAnsRTOD"
      },
      "source": [
        "<font color='red'>Note: **non-singular** means the opposite of **non-invertible**!</font>"
      ]
    },
    {
      "cell_type": "markdown",
      "metadata": {
        "id": "9zSGM7l1RTOE"
      },
      "source": [
        "For $A$ to have an inverse $A^{-1}$, $A$ must be **full rank**."
      ]
    },
    {
      "cell_type": "markdown",
      "metadata": {
        "id": "t5NBKp9FRTOE"
      },
      "source": [
        "Assuming that $A,B \\in \\mathbb{R}^{n\\times n}$ are non-singular, then:"
      ]
    },
    {
      "cell_type": "markdown",
      "metadata": {
        "id": "B0cGOjbZRTOE"
      },
      "source": [
        "- $(A^{-1})^{-1} = A$\n",
        "- $(AB)^{-1} = B^{-1} A^{-1}$\n",
        "- $(A^{-1})^T = (A^T)^{-1}$ (often simply $A^{-T}$)"
      ]
    },
    {
      "cell_type": "markdown",
      "metadata": {
        "id": "O0PknUHGRTOE"
      },
      "source": [
        "## Orthogonal Matrices"
      ]
    },
    {
      "cell_type": "markdown",
      "metadata": {
        "id": "MKiYAreDRTOE"
      },
      "source": [
        "Two vectors $x, y \\in \\mathbb{R}^n$ are **orthogonal** if $x^T y = 0$."
      ]
    },
    {
      "cell_type": "markdown",
      "metadata": {
        "id": "Y1a8h1DvRTOE"
      },
      "source": [
        "A vector $x \\in \\mathbb{R}^n$ is **normalized** if $\\|x\\|^2 = 1$."
      ]
    },
    {
      "cell_type": "markdown",
      "metadata": {
        "id": "tfo5Vu-0RTOF"
      },
      "source": [
        "A square matrix $U \\in \\mathbb{R}^{n\\times n}$ is **orthogonal** if all its columns are orthogonal to each other and are **normalized**. The columns are then referred to as being **orthonormal**."
      ]
    },
    {
      "cell_type": "markdown",
      "metadata": {
        "id": "NslCKpwwRTOF"
      },
      "source": [
        "It follows immediately from the definition of orthogonality and normality that:"
      ]
    },
    {
      "cell_type": "markdown",
      "metadata": {
        "id": "GxAJVr1VRTOF"
      },
      "source": [
        "$U^T U = I = U U^T$"
      ]
    },
    {
      "cell_type": "markdown",
      "metadata": {
        "id": "OVNm6_0uRTOF"
      },
      "source": [
        "This means that the inverse of an orthogonal matrix is its transpose."
      ]
    },
    {
      "cell_type": "markdown",
      "metadata": {
        "id": "08LdfSDlRTOF"
      },
      "source": [
        "If U is not square - i.e., $U \\in \\mathbb{R}^{m\\times n}$, $n < m$ - but its columns are still orthonormal, then $U^T U = I$, but $U U^T \\neq I$."
      ]
    },
    {
      "cell_type": "markdown",
      "metadata": {
        "id": "DJuB7KTwRTOF"
      },
      "source": [
        "We generally only use the term orthogonal to describe the case, where $U$ is square."
      ]
    },
    {
      "cell_type": "markdown",
      "metadata": {
        "id": "7JI318y9RTOG"
      },
      "source": [
        "Another nice property of orthogonal matrices is that operating on a vector with an orthogonal matrix will not change its Euclidean norm. For any $x \\in \\mathbb{R}^n$, $U \\in \\mathbb{R}^{n\\times n}$ orthogonal."
      ]
    },
    {
      "cell_type": "markdown",
      "metadata": {
        "id": "1a3M8mWhRTOG"
      },
      "source": [
        "$\\|U_x\\|^2 = \\|x\\|^2$"
      ]
    },
    {
      "cell_type": "markdown",
      "metadata": {
        "id": "JAs2dzuNRTOG"
      },
      "source": [
        "## Range and Nullspace of a Matrix"
      ]
    },
    {
      "cell_type": "markdown",
      "metadata": {
        "id": "zxDy1i9hRTOG"
      },
      "source": [
        "The **span** of a set of vectors $\\{ x_1, x_2, \\dots{}, x_n\\}$ is the set of all vectors that can be expressed as\n",
        "a linear combination of $\\{ x_1, \\dots{}, x_n \\}$:"
      ]
    },
    {
      "cell_type": "markdown",
      "metadata": {
        "id": "xQq2-HVwRTOG"
      },
      "source": [
        "$\\mathrm{span}(\\{ x_1, \\dots{}, x_n \\}) = \\{ v : v = \\sum_{i=1}^n \\alpha_i x_i, \\alpha_i \\in \\mathbb{R} \\}$"
      ]
    },
    {
      "cell_type": "markdown",
      "metadata": {
        "id": "BcyZXPhDRTOG"
      },
      "source": [
        "It can be shown that if $\\{ x_1, \\dots{}, x_n \\}$ is a set of n linearly independent vectors, where each $x_i \\in \\mathbb{R}^n$, then $\\mathrm{span}(\\{ x_1, \\dots{}, x_n\\}) = \\mathbb{R}^n$. That is, any vector $v \\in \\mathbb{R}^n$ can be written as a linear combination of $x_1$ through $x_n$."
      ]
    },
    {
      "cell_type": "markdown",
      "metadata": {
        "id": "V8rjNRuyRTOG"
      },
      "source": [
        "The projection of a vector $y \\in \\mathbb{R}^m$ onto the span of $\\{ x_1, \\dots{}, x_n\\}$ (here we assume $x_i \\in \\mathbb{R}^m$) is the vector $v \\in \\mathrm{span}(\\{ x_1, \\dots{}, x_n \\})$, such that $v$ is as close as possible to $y$, as measured by the Euclidean norm $\\|v − y\\|^2$. We denote the projection as $\\mathrm{Proj}(y; \\{ x_1, \\dots{}, x_n \\})$ and can define it formally as:"
      ]
    },
    {
      "cell_type": "markdown",
      "metadata": {
        "id": "Oel4-InERTOH"
      },
      "source": [
        "$\\mathrm{Proj}( y; \\{ x_1, \\dots{}, x_n \\}) = \\mathrm{argmin}_{v\\in \\mathrm{span}(\\{x_1,\\dots{},x_n\\})}\\|y − v\\|^2$"
      ]
    },
    {
      "cell_type": "markdown",
      "metadata": {
        "id": "i83BlwtxRTOH"
      },
      "source": [
        "The **range** (sometimes also called the columnspace) of a matrix $A \\in \\mathbb{R}^{m\\times n}$, denoted $\\mathcal{R}(A)$, is the the span of the columns of $A$. In other words,"
      ]
    },
    {
      "cell_type": "markdown",
      "metadata": {
        "id": "FyjxrUloRTOH"
      },
      "source": [
        "$\\mathcal{R}(A) = \\{ v \\in \\mathbb{R}^m : v = A x, x \\in \\mathbb{R}^n\\}$"
      ]
    },
    {
      "cell_type": "markdown",
      "metadata": {
        "id": "0P6BOLgARTOH"
      },
      "source": [
        "Making a few technical assumptions (namely that $A$ is full rank and that $n < m$), the projection of a vector $y \\in \\mathbb{R}^m$ onto the range of $A$ is given by:"
      ]
    },
    {
      "cell_type": "markdown",
      "metadata": {
        "id": "w3bopUzXRTOH"
      },
      "source": [
        "$\\mathrm{Proj}(y; A) = \\mathrm{argmin}_{v\\in \\mathcal{R}(A)}\\|v − y\\|^2 = A(A^T A)^{−1} A^T y$"
      ]
    },
    {
      "cell_type": "markdown",
      "metadata": {
        "id": "oX_8usvURTOH"
      },
      "source": [
        "<font color=\"red\">See for more details in the notes page 13.</font>"
      ]
    },
    {
      "cell_type": "markdown",
      "metadata": {
        "id": "Hnf3MffmRTOH"
      },
      "source": [
        "The **nullspace** of a matrix $A \\in \\mathbb{R}^{m\\times n}$, denoted $\\mathcal{N}(A)$ is the set of all vectors that equal $0$ when multiplied by $A$, i.e.,"
      ]
    },
    {
      "cell_type": "markdown",
      "metadata": {
        "id": "hgXpg8R3RTOI"
      },
      "source": [
        "$\\mathcal{N}(A) = \\{ x \\in \\mathbb{R}^n : A x = 0 \\}$"
      ]
    },
    {
      "cell_type": "markdown",
      "metadata": {
        "id": "sP8ZtigJRTOI"
      },
      "source": [
        "Note that vectors in $\\mathcal{R}(A)$ are of size $m$, while vectors in the $\\mathcal{N}(A)$ are of size $n$, so vectors in $\\mathcal{R}(A^T)$ and $\\mathcal{N}(A)$ are both in $\\mathbb{R}^n$. In fact, we can say much more. It turns out that:"
      ]
    },
    {
      "cell_type": "markdown",
      "metadata": {
        "id": "SqIZQpZfRTOI"
      },
      "source": [
        "$\\{ w : w = u + v, u \\in \\mathcal{R}(A^T), v \\in \\mathcal{N}(A) \\} = \\mathbb{R}^n$ and $\\mathcal{R}(A^T) \\cap \\mathcal{N}(A) = \\{0\\}$"
      ]
    },
    {
      "cell_type": "markdown",
      "metadata": {
        "id": "f0xbtvLKRTOI"
      },
      "source": [
        "In other words, $\\mathcal{R}(A^T)$ and $\\mathcal{N}(A)$ are disjoint subsets that together span the entire space of\n",
        "$\\mathbb{R}^n$. Sets of this type are called **orthogonal complements**, and we denote this $\\mathcal{R}(A^T) = \\mathcal{N}(A)^\\perp$."
      ]
    },
    {
      "cell_type": "markdown",
      "metadata": {
        "id": "eHF86_20RTOI"
      },
      "source": [
        "## Determinant"
      ]
    },
    {
      "cell_type": "markdown",
      "metadata": {
        "id": "md6RH2AJRTOI"
      },
      "source": [
        "The determinant of a square matrix $A \\in \\mathbb{R}^{n\\times n}$, is a function $\\mathrm{det} : \\mathbb{R}^{n\\times n} \\rightarrow \\mathbb{R}$, and is denoted $|A|$ or $\\mathrm{det}A$ (like the trace operator, we usually omit parentheses)."
      ]
    },
    {
      "cell_type": "markdown",
      "metadata": {
        "id": "B3eWjNO0RTOI"
      },
      "source": [
        "### A geometric interpretation of the determinant"
      ]
    },
    {
      "cell_type": "markdown",
      "metadata": {
        "id": "OYqRu0xNRTOI"
      },
      "source": [
        "Given"
      ]
    },
    {
      "cell_type": "markdown",
      "metadata": {
        "id": "wNziEJysRTOJ"
      },
      "source": [
        "$\\begin{bmatrix}\n",
        " -- & a_1^T  & -- \\\\[0.3em]\n",
        " -- & a_2^T  & -- \\\\[0.3em]\n",
        "    & \\vdots &  \\\\[0.3em]\n",
        " -- & a_n^T  & -- \n",
        "\\end{bmatrix}$"
      ]
    },
    {
      "cell_type": "markdown",
      "metadata": {
        "id": "njg3fno9RTOJ"
      },
      "source": [
        "consider the set of points $S \\subset \\mathbb{R}^n$ formed by taking all possible linear combinations of the row vectors $a_1, \\dots{}, a_n \\in \\mathbb{R}^n$ of $A$, where the coefficients of the linear combination are all\n",
        "between $0$ and $1$; that is, the set $S$ is the restriction of $\\mathrm{span}( \\{ a_1, \\dots{}, a_n \\})$ to only those linear combinations whose coefficients $\\alpha_1, \\dots{}, \\alpha_n$ satisfy $0 \\leq \\alpha_i \\leq 1$, $i = 1, \\dots{}, n$. Formally:"
      ]
    },
    {
      "cell_type": "markdown",
      "metadata": {
        "id": "eKCg9I-XRTOJ"
      },
      "source": [
        "$S = \\{v \\in \\mathbb{R}^n : v = \\sum_{i=1}^n \\alpha_i a_i \\mbox{ where } 0 \\leq \\alpha_i \\leq 1, i = 1, \\dots{}, n \\}$"
      ]
    },
    {
      "cell_type": "markdown",
      "metadata": {
        "id": "fuKYVJmNRTOJ"
      },
      "source": [
        "The absolute value of the determinant of $A$, it turns out, is a measure of the *volume* of the set $S$. The volume here is intuitively for example for $n = 2$ the area of $S$ in the Cartesian plane, or with $n = 3$ it is the common understanding of *volume* for 3-dimensional objects."
      ]
    },
    {
      "cell_type": "markdown",
      "metadata": {
        "id": "TuObcE1pRTOJ"
      },
      "source": [
        "Example:"
      ]
    },
    {
      "cell_type": "markdown",
      "metadata": {
        "id": "nuphFTNkRTOJ"
      },
      "source": [
        "$A = \\begin{bmatrix}\n",
        " 1 & 3\\\\[0.3em]\n",
        " 3 & 2 \n",
        "\\end{bmatrix}$"
      ]
    },
    {
      "cell_type": "markdown",
      "metadata": {
        "id": "nmE9UmFXRTOJ"
      },
      "source": [
        "The rows of the matrix are:"
      ]
    },
    {
      "cell_type": "markdown",
      "metadata": {
        "id": "UE_RLx_sRTOJ"
      },
      "source": [
        "$a_1 = \\begin{bmatrix}\n",
        " 1 \\\\[0.3em]\n",
        " 3 \n",
        "\\end{bmatrix}\n",
        "\\quad\n",
        "a_2 = \\begin{bmatrix}\n",
        " 3 \\\\[0.3em]\n",
        " 2 \n",
        "\\end{bmatrix}$"
      ]
    },
    {
      "cell_type": "markdown",
      "metadata": {
        "id": "aaJrSithRTOK"
      },
      "source": [
        "The set S corresponding to these rows is shown in:"
      ]
    },
    {
      "cell_type": "markdown",
      "metadata": {
        "id": "FgBl_Mw_RTOK"
      },
      "source": [
        "<img src=\"https://github.com/kalz2q/mycolabnotebooks/blob/master/LinearAlgebra_Determinant_2x2.png?raw=1\" style=\"max-width:100%; width: 30%; max-width: none\">"
      ]
    },
    {
      "cell_type": "markdown",
      "metadata": {
        "id": "kp4-TzoGRTOK"
      },
      "source": [
        "The figure above is an illustration of the determinant for the $2\\times 2$ matrix $A$ above. Here, $a_1$ and $a_2$\n",
        "are vectors corresponding to the rows of $A$, and the set $S$ corresponds to the shaded region (i.e., the parallelogram). The absolute value of the determinant, $|\\mathrm{det}A| = 7$, is the area of the parallelogram."
      ]
    },
    {
      "cell_type": "markdown",
      "metadata": {
        "id": "FF6IsgYKRTOK"
      },
      "source": [
        "For two-dimensional matrices, $S$ generally has the shape of a parallelogram. In our example, the value of the determinant is $|A| = −7$ (as can be computed using the formulas shown later), so the area of the parallelogram is $7$."
      ]
    },
    {
      "cell_type": "markdown",
      "metadata": {
        "id": "lK39kBcQRTOK"
      },
      "source": [
        "In three dimensions, the set $S$ corresponds to an object known as a parallelepiped (a three-dimensional box with skewed sides, such that every face has the shape of a parallelogram). The absolute value of the determinant of the $3 \\times 3$ matrix whose rows define $S$ give the three-dimensional volume of the parallelepiped. In even higher dimensions, the set $S$ is an object known as an $n$-dimensional parallelotope."
      ]
    },
    {
      "cell_type": "markdown",
      "metadata": {
        "id": "21EYmLm0RTOK"
      },
      "source": [
        "Algebraically, the determinant satisfies the following three properties (from which all other properties follow, including the general formula):"
      ]
    },
    {
      "cell_type": "markdown",
      "metadata": {
        "id": "-yky-AJIRTOK"
      },
      "source": [
        "- The determinant of the identity is $1$, $|I| = 1$. (Geometrically, the volume of a unit hypercube is $1$).\n",
        "- Given a matrix $A \\in \\mathbb{R}^{n\\times n}$, if we multiply a single row in $A$ by a scalar $t \\in \\mathbb{R}$, then the determinant of the new matrix is $t|A|$,<br/>\n",
        "$\\left| \\begin{bmatrix}\n",
        " -- & t a_1^T  & -- \\\\[0.3em]\n",
        " -- & a_2^T  & -- \\\\[0.3em]\n",
        "    & \\vdots &  \\\\[0.3em]\n",
        " -- & a_m^T  & -- \n",
        "\\end{bmatrix}\\right|  = t|A|$<br/>\n",
        "(Geometrically, multiplying one of the sides of the set $S$ by a factor $t$ causes the volume\n",
        "to increase by a factor $t$.)\n",
        "- If we exchange any two rows $a^T_i$ and $a^T_j$ of $A$, then the determinant of the new matrix is $−|A|$, for example<br/>\n",
        "$\\left| \\begin{bmatrix}\n",
        " -- & a_2^T  & -- \\\\[0.3em]\n",
        " -- & a_1^T  & -- \\\\[0.3em]\n",
        "    & \\vdots &  \\\\[0.3em]\n",
        " -- & a_m^T  & -- \n",
        "\\end{bmatrix}\\right|  = -|A|$"
      ]
    },
    {
      "cell_type": "markdown",
      "metadata": {
        "id": "-2Xx-09gRTOK"
      },
      "source": [
        "Several properties that follow from the three properties above include:"
      ]
    },
    {
      "cell_type": "markdown",
      "metadata": {
        "id": "zLhIshfxRTOL"
      },
      "source": [
        "- For $A \\in \\mathbb{R}^{n\\times n}$, $|A| = |A^T|$\n",
        "- For $A,B \\in \\mathbb{R}^{n\\times n}$, $|AB| = |A||B|$\n",
        "- For $A \\in \\mathbb{R}^{n\\times n}$, $|A| = 0$ if and only if $A$ is singular (i.e., non-invertible). (If $A$ is singular then it does not have full rank, and hence its columns are linearly dependent. In this case, the set $S$ corresponds to a \"flat sheet\" within the $n$-dimensional space and hence has zero volume.)\n",
        "- For $A \\in \\mathbb{R}^{n\\times n}$ and $A$ non-singular, $|A−1| = 1/|A|$"
      ]
    },
    {
      "cell_type": "markdown",
      "metadata": {
        "id": "87xvgWQyRTOL"
      },
      "source": [
        "<font color=\"red\">Continue on page 16.</font>"
      ]
    },
    {
      "cell_type": "markdown",
      "metadata": {
        "id": "O_2kKp_cRTOL"
      },
      "source": [
        "## Tensors"
      ]
    },
    {
      "cell_type": "markdown",
      "metadata": {
        "id": "q9Z3Ht9-RTOL"
      },
      "source": [
        "A [**tensor**](https://en.wikipedia.org/wiki/Tensor) could be thought of as an organized multidimensional array of numerical values. A vector could be assumed to be a sub-class of a tensor. Rows of tensors extend alone the y-axis, columns along the x-axis. The **rank** of a scalar is 0, the rank of a **vector** is 1, the rank of a **matrix** is 2, the rank of a **tensor** is 3 or higher."
      ]
    },
    {
      "cell_type": "markdown",
      "metadata": {
        "id": "qrLujbLxRTOL"
      },
      "source": [
        "## Hyperplane"
      ]
    },
    {
      "cell_type": "markdown",
      "metadata": {
        "id": "5NAMoXbrRTOL"
      },
      "source": [
        "The **hyperplane** is a sub-space in the ambient space with one dimension less. In a two-dimensional space the hyperplane is a line, in a three-dimensional space it is a two-dimensional plane, etc."
      ]
    },
    {
      "cell_type": "markdown",
      "metadata": {
        "id": "ekkX2tyERTOL"
      },
      "source": [
        "Hyperplanes divide an $n$-dimensional space into sub-spaces that might represent clases in a machine learning algorithm."
      ]
    },
    {
      "cell_type": "markdown",
      "metadata": {
        "id": "QbV3Yf5oRTOM"
      },
      "source": [
        "# Summary"
      ]
    },
    {
      "cell_type": "markdown",
      "metadata": {
        "id": "LrLn1AvmRTOM"
      },
      "source": [
        "## Dot Product"
      ]
    },
    {
      "cell_type": "markdown",
      "metadata": {
        "id": "tOkFruYuRTOM"
      },
      "source": [
        "This is also the *inner product*. It is a function that returns a number computed from two vectors of the same length by summing up the product of the corresponding dimensions."
      ]
    },
    {
      "cell_type": "markdown",
      "metadata": {
        "id": "L76bLDn3RTOM"
      },
      "source": [
        "For two vectors $a = [a_1, a_2, \\dots{}, a_n]$ and $b = [b_1, b_2, \\dots{}, b_n]$ the dot product is:"
      ]
    },
    {
      "cell_type": "markdown",
      "metadata": {
        "id": "V-KeEWAhRTOM"
      },
      "source": [
        "$\\mathbf{a} \\cdot \\mathbf{b} = \\sum_{i=1}^{n} a_{i} b_{i} = a_{1} b_{1} + a_{2} b_{2} + \\cdots + a_{n} b_{n}$"
      ]
    },
    {
      "cell_type": "markdown",
      "metadata": {
        "id": "YQGEjZMVRTOM"
      },
      "source": [
        "If we normalize two vectors and compute the dot product, we get the *cosine similarity*, which can be used as a metric for cimilarity of vectors. Independent of the absolute length we look at the angle between the vectors, i.e. the lenght is neutralized via normalization."
      ]
    },
    {
      "cell_type": "markdown",
      "metadata": {
        "id": "aGwMANNzRTOM"
      },
      "source": [
        "The cosine of two non-zero vectors can be derived by using the Euclidean dot product formula (see [Wikipedia: Cosine similarity](https://en.wikipedia.org/wiki/Cosine_similarity)):"
      ]
    },
    {
      "cell_type": "markdown",
      "metadata": {
        "id": "kd0PugbjRTOM"
      },
      "source": [
        "$\\mathbf{a} \\cdot \\mathbf{b} = \\left\\|\\mathbf{a}\\right\\| \\left\\|\\mathbf{b}\\right\\| \\cos\\theta$"
      ]
    },
    {
      "cell_type": "markdown",
      "metadata": {
        "id": "Vf0wr1HwRTON"
      },
      "source": [
        "Given two vectors of attributes, $A$ and $B$, the cosine similarity, $cos(\\theta)$, is represented using a dot product and magnitude as:"
      ]
    },
    {
      "cell_type": "markdown",
      "metadata": {
        "id": "lv2VnC_ZRTON"
      },
      "source": [
        "$\\text{similarity} = \\cos(\\theta) = \\frac{\\mathbf{A} \\cdot \\mathbf{B}}{ \\|\\mathbf{A} \\|\\|\\mathbf{B} \\| } = \\frac{\\sum \\limits_{i=1}^{n}{A_{i}B_{i}}}{{\\sqrt {\\sum \\limits _{i=1}^{n}{A_{i}^{2}}}}{\\sqrt {\\sum \\limits _{i=1}^{n}{B_{i}^{2}}}}}$, with $A_i$ and $B_i$ components of vector $A$ and $B$ respectively."
      ]
    },
    {
      "cell_type": "markdown",
      "metadata": {
        "id": "kOyBnvujRTON"
      },
      "source": [
        "## Hadamard Product"
      ]
    },
    {
      "cell_type": "markdown",
      "metadata": {
        "id": "4GKpsW6bRTON"
      },
      "source": [
        "This is also known as the **entrywise product**. For two matrices $A \\in \\mathbb{R}^{m\\times n}$ and $B \\in \\mathbb{R}^{m\\times n}$ the Hadamard product $A\\circ B$ is:"
      ]
    },
    {
      "cell_type": "markdown",
      "metadata": {
        "id": "LTX6mDayRTON"
      },
      "source": [
        "$(A\\circ B)_{i,j} = (A)_{i,j} (B)_{i,j}$"
      ]
    },
    {
      "cell_type": "markdown",
      "metadata": {
        "id": "M3i0LevVRTON"
      },
      "source": [
        "For example:"
      ]
    },
    {
      "cell_type": "markdown",
      "metadata": {
        "id": "ZpEA6axVRTON"
      },
      "source": [
        "$\\begin{bmatrix}\n",
        " a_{11} & a_{12} & a_{13} \\\\[0.3em]\n",
        " a_{21} & a_{22} & a_{23} \\\\[0.3em]\n",
        " a_{31} & a_{32} & a_{33}\n",
        "\\end{bmatrix} \\circ\n",
        "\\begin{bmatrix}\n",
        " b_{11} & b_{12} & b_{13} \\\\[0.3em]\n",
        " b_{21} & b_{22} & b_{23} \\\\[0.3em]\n",
        " b_{31} & b_{32} & b_{33}\n",
        "\\end{bmatrix} = \n",
        "\\begin{bmatrix}\n",
        " a_{11}b_{11} & a_{12}b_{12} & a_{13}b_{13} \\\\[0.3em]\n",
        " a_{21}b_{21} & a_{22}b_{22} & a_{23}b_{23} \\\\[0.3em]\n",
        " a_{31}b_{31} & a_{32}b_{32} & a_{33}b_{33}\n",
        "\\end{bmatrix}$"
      ]
    },
    {
      "cell_type": "markdown",
      "metadata": {
        "id": "ehq2f1ZJRTON"
      },
      "source": [
        "## Outer Product"
      ]
    },
    {
      "cell_type": "markdown",
      "metadata": {
        "id": "JqisBBrzRTOO"
      },
      "source": [
        "This is also called the **tensor product** of two vectors. Compute the resulting matrix by multiplying each element from a column vector with all alements in a row vector."
      ]
    },
    {
      "cell_type": "markdown",
      "metadata": {
        "id": "60Z7GQbBRTOO"
      },
      "source": [
        "..."
      ]
    },
    {
      "cell_type": "markdown",
      "metadata": {
        "id": "Bd1fYzNfRTOO"
      },
      "source": [
        "**(C) 2018-2020 by [Damir Cavar](http://damir.cavar.me/)**"
      ]
    }
  ]
}