{
  "nbformat": 4,
  "nbformat_minor": 0,
  "metadata": {
    "colab": {
      "name": "category_saigohayato.ipynb",
      "provenance": [],
      "authorship_tag": "ABX9TyNqZ3wNInuS0cFR37JhCf8V",
      "include_colab_link": true
    },
    "kernelspec": {
      "name": "python3",
      "display_name": "Python 3"
    },
    "language_info": {
      "name": "python"
    }
  },
  "cells": [
    {
      "cell_type": "markdown",
      "metadata": {
        "id": "view-in-github",
        "colab_type": "text"
      },
      "source": [
        "<a href=\"https://colab.research.google.com/github/kalz2q/mycolabnotebooks/blob/master/category_saigohayato.ipynb\" target=\"_parent\"><img src=\"https://colab.research.google.com/assets/colab-badge.svg\" alt=\"Open In Colab\"/></a>"
      ]
    },
    {
      "cell_type": "markdown",
      "metadata": {
        "id": "Za52w0zhzLEh"
      },
      "source": [
        "# メモ\n",
        "\n",
        "圏論の道案内\n",
        "\n",
        "矢印でえがく数学の世界\n",
        "\n",
        "西郷はやと甲矢人\n",
        "\n",
        "を読む。"
      ]
    },
    {
      "cell_type": "markdown",
      "metadata": {
        "id": "v6hS44XazziT"
      },
      "source": [
        "圏 (category) とは、対象 (object) と 射 (arrow, morphism) とからなるある種のシステムだ。\n"
      ]
    },
    {
      "cell_type": "markdown",
      "metadata": {
        "id": "bMkJ7jvd0GOP"
      },
      "source": [
        "定義 2.1\n",
        "\n",
        "どんな射に対しても、域 (domain) と呼ばれる対象と余域 (codomain) と呼ばれる対象とがただ 1つ存在する。\n",
        "\n",
        "射 $f$ の域が $A$、余域が $B$ であることを\n",
        "\n",
        "$ \\quad \\quad B \\overset{f}{\\longleftarrow} A $\n",
        "\n",
        "と書き、$f$ は $A$ から $B$ への射である、と言う。  また射 $f$ の域を $ \\mathrm{dom}(f)$、余域を $\\mathrm{cod}(f)$ と記す。"
      ]
    },
    {
      "cell_type": "code",
      "metadata": {
        "colab": {
          "base_uri": "https://localhost:8080/",
          "height": 138
        },
        "id": "eEEjRYyC1EEs",
        "outputId": "ebd86e7b-46fe-4721-f106-dbb650839752"
      },
      "source": [
        "射の合成 p.22"
      ],
      "execution_count": 16,
      "outputs": [
        {
          "output_type": "error",
          "ename": "SyntaxError",
          "evalue": "ignored",
          "traceback": [
            "\u001b[0;36m  File \u001b[0;32m\"<ipython-input-16-76feff994574>\"\u001b[0;36m, line \u001b[0;32m1\u001b[0m\n\u001b[0;31m    射の合成 p.22\u001b[0m\n\u001b[0m         ^\u001b[0m\n\u001b[0;31mSyntaxError\u001b[0m\u001b[0;31m:\u001b[0m invalid syntax\n"
          ]
        }
      ]
    }
  ]
}