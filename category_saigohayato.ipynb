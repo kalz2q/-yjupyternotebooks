{
  "nbformat": 4,
  "nbformat_minor": 0,
  "metadata": {
    "colab": {
      "name": "category_saigohayato.ipynb",
      "provenance": [],
      "toc_visible": true,
      "authorship_tag": "ABX9TyNTS4pT4cHvHkIYImpuzWxa",
      "include_colab_link": true
    },
    "kernelspec": {
      "name": "python3",
      "display_name": "Python 3"
    },
    "language_info": {
      "name": "python"
    }
  },
  "cells": [
    {
      "cell_type": "markdown",
      "metadata": {
        "id": "view-in-github",
        "colab_type": "text"
      },
      "source": [
        "<a href=\"https://colab.research.google.com/github/kalz2q/mycolabnotebooks/blob/master/category_saigohayato.ipynb\" target=\"_parent\"><img src=\"https://colab.research.google.com/assets/colab-badge.svg\" alt=\"Open In Colab\"/></a>"
      ]
    },
    {
      "cell_type": "markdown",
      "metadata": {
        "id": "Za52w0zhzLEh"
      },
      "source": [
        "# メモ\n",
        "\n",
        "圏論の道案内\n",
        "\n",
        "矢印でえがく数学の世界\n",
        "\n",
        "西郷はやと甲矢人\n",
        "\n",
        "を読む。"
      ]
    },
    {
      "cell_type": "markdown",
      "metadata": {
        "id": "X3_Z0fgUAV6r"
      },
      "source": [
        "# 圏とは、射とは"
      ]
    },
    {
      "cell_type": "markdown",
      "metadata": {
        "id": "v6hS44XazziT"
      },
      "source": [
        "圏 (category) とは、対象 (object) と 射 (arrow, morphism) とからなるある種のシステムだ。\n"
      ]
    },
    {
      "cell_type": "markdown",
      "metadata": {
        "id": "bMkJ7jvd0GOP"
      },
      "source": [
        "定義 2.1\n",
        "\n",
        "どんな射に対しても、域 (domain) と呼ばれる対象と余域 (codomain) と呼ばれる対象とがただ 1つ存在する。\n",
        "\n",
        "射 $f$ の域が $A$、余域が $B$ であることを\n",
        "\n",
        "$ \\quad \\quad B \\overset{f}{\\longleftarrow} A $\n",
        "\n",
        "と書き、$f$ は $A$ から $B$ への射である、と言う。  また射 $f$ の域を $ \\mathrm{dom}(f)$、余域を $\\mathrm{cod}(f)$ と記す。"
      ]
    },
    {
      "cell_type": "markdown",
      "metadata": {
        "id": "eEEjRYyC1EEs"
      },
      "source": [
        "**射の合成 p.22**\n",
        "\n",
        "$ g \\circ f $\n"
      ]
    }
  ]
}