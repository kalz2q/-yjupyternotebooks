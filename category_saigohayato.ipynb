{
  "nbformat": 4,
  "nbformat_minor": 0,
  "metadata": {
    "colab": {
      "name": "category_saigohayato.ipynb",
      "provenance": [],
      "toc_visible": true,
      "authorship_tag": "ABX9TyOl1Sl36Fmq+ZXKi7FnL9cx",
      "include_colab_link": true
    },
    "kernelspec": {
      "name": "python3",
      "display_name": "Python 3"
    },
    "language_info": {
      "name": "python"
    }
  },
  "cells": [
    {
      "cell_type": "markdown",
      "metadata": {
        "id": "view-in-github",
        "colab_type": "text"
      },
      "source": [
        "<a href=\"https://colab.research.google.com/github/kalz2q/mycolabnotebooks/blob/master/category_saigohayato.ipynb\" target=\"_parent\"><img src=\"https://colab.research.google.com/assets/colab-badge.svg\" alt=\"Open In Colab\"/></a>"
      ]
    },
    {
      "cell_type": "markdown",
      "metadata": {
        "id": "Za52w0zhzLEh"
      },
      "source": [
        "# メモ\n",
        "\n",
        "圏論の道案内\n",
        "\n",
        "矢印でえがく数学の世界\n",
        "\n",
        "西郷はやと甲矢人\n",
        "\n",
        "を読む。"
      ]
    },
    {
      "cell_type": "markdown",
      "metadata": {
        "id": "X3_Z0fgUAV6r"
      },
      "source": [
        "# 圏とは、射とは"
      ]
    },
    {
      "cell_type": "markdown",
      "metadata": {
        "id": "v6hS44XazziT"
      },
      "source": [
        "圏 (category) とは、対象 (object) と 射 (arrow, morphism) とからなるある種のシステムだ。\n"
      ]
    },
    {
      "cell_type": "markdown",
      "metadata": {
        "id": "bMkJ7jvd0GOP"
      },
      "source": [
        "定義 2.1\n",
        "\n",
        "どんな射に対しても、域 (domain) と呼ばれる対象と余域 (codomain) と呼ばれる対象とがただ 1つ存在する。\n",
        "\n",
        "射 $f$ の域が $A$、余域が $B$ であることを\n",
        "\n",
        "$ \\quad \\quad B \\overset{f}{\\longleftarrow} A $\n",
        "\n",
        "と書き、$f$ は $A$ から $B$ への射である、と言う。  また射 $f$ の域を $ \\mathrm{dom}(f)$、余域を $\\mathrm{cod}(f)$ と記す。"
      ]
    },
    {
      "cell_type": "markdown",
      "metadata": {
        "id": "eEEjRYyC1EEs"
      },
      "source": [
        "**射の合成 p.22**\n",
        "\n",
        "$ g \\circ f $\n"
      ]
    },
    {
      "cell_type": "markdown",
      "metadata": {
        "id": "HqD5BqnKCZhB"
      },
      "source": [
        "**定義 2.2**\n",
        "\n",
        "射 $f,g$ について、$\\mathrm{cod}(f) = \\mathrm{dom}(g)$ であるなら、$f,g$ の合成 (composition) と呼ばれる $\\mathrm{dom}(f)$ から $\\mathrm{cod}(g)$ への射が一意に存在する。 これを $g \\circ f$ と書く。\n",
        "\n",
        "$ \\quad \\quad C \\overset{g \\circ f}{\\longleftarrow} A $\n",
        "\n",
        "$ \\quad \\quad C \\overset{g}{\\longleftarrow} B  \\overset{f}{\\longleftarrow} A$"
      ]
    },
    {
      "cell_type": "markdown",
      "metadata": {
        "id": "R-yaGWWPEFwP"
      },
      "source": [
        "対象と射の関係を図示したものを 図式 (diagram) と呼ぶ。"
      ]
    },
    {
      "cell_type": "markdown",
      "metadata": {
        "id": "sg0Ehs-WEOfo"
      },
      "source": [
        "**定義 2.3**\n",
        "\n",
        "図式内に現れる射やそれらの合成として得られる射について、域と余域がそれぞれ等しい射が互いに等しいとき、その図式は 可換 (commutative) である、と言う。"
      ]
    },
    {
      "cell_type": "markdown",
      "metadata": {
        "id": "a4N0hZ-BPiUu"
      },
      "source": [
        "$$\n",
        "\\quad \\quad B \\overset{f}{\\longleftarrow} A \n",
        "$$"
      ]
    },
    {
      "cell_type": "code",
      "metadata": {
        "id": "S2cs01_zEnsz",
        "outputId": "bfd30572-268c-4b19-d0d7-d5a4ed7f36a8",
        "colab": {
          "base_uri": "https://localhost:8080/",
          "height": 35
        }
      },
      "source": [
        "from sympy import *\n",
        "from sympy.categories import *\n",
        "init_printing()\n",
        "A = Object('A')\n",
        "B= Object('B')\n",
        "C=Object(\"C\")\n",
        "f = NamedMorphism(A,B,\"f\")\n",
        "g = NamedMorphism(B,C,\"g\")\n",
        "diagram=Diagram([f,g],{g*f: \"unique\"})\n",
        "grid=DiagramGrid(diagram)\n",
        "drawer=XypicDiagramDrawer()\n",
        "display(drawer.draw(diagram, grid))"
      ],
      "execution_count": 10,
      "outputs": [
        {
          "output_type": "display_data",
          "data": {
            "application/vnd.google.colaboratory.intrinsic+json": {
              "type": "string"
            },
            "text/plain": [
              "'\\\\xymatrix{\\nA \\\\ar[d]_{g\\\\circ f} \\\\ar[r]^{f} & B \\\\ar[ld]^{g} \\\\\\\\\\nC & \\n}\\n'"
            ]
          },
          "metadata": {
            "tags": []
          }
        }
      ]
    },
    {
      "cell_type": "markdown",
      "metadata": {
        "id": "t7t1ETgyar0O"
      },
      "source": [
        "$$\n",
        "\\begin{CD}\n",
        "K(X) @>{ch}>> H(X;\\mathbb Q);\\\\\n",
        "@VVV @VVV \\\\\n",
        "K(Y) @>{ch}>> H(Y;\\mathbb Q);\n",
        "\\end{CD}\n",
        "$$"
      ]
    }
  ]
}