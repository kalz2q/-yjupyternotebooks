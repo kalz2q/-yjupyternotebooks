{
  "nbformat": 4,
  "nbformat_minor": 0,
  "metadata": {
    "colab": {
      "name": "linear_fujioka.ipynb",
      "provenance": [],
      "authorship_tag": "ABX9TyOsBbHN76bTU8kesJsCrDgM",
      "include_colab_link": true
    },
    "kernelspec": {
      "name": "python3",
      "display_name": "Python 3"
    }
  },
  "cells": [
    {
      "cell_type": "markdown",
      "metadata": {
        "id": "view-in-github",
        "colab_type": "text"
      },
      "source": [
        "<a href=\"https://colab.research.google.com/github/kalz2q/mycolabnotebooks/blob/master/linear_fujioka.ipynb\" target=\"_parent\"><img src=\"https://colab.research.google.com/assets/colab-badge.svg\" alt=\"Open In Colab\"/></a>"
      ]
    },
    {
      "cell_type": "markdown",
      "metadata": {
        "id": "ujBvf3c5FiYT"
      },
      "source": [
        "# メモ\r\n",
        "\r\n",
        "手を動かしてまなぶ 線形代数 藤岡敦\r\n",
        "\r\n",
        "を読む。\r\n",
        "\r\n",
        "http://www.shokabo.co.jp/\r\n",
        "\r\n",
        "に詳細な解答があるって。"
      ]
    },
    {
      "cell_type": "code",
      "metadata": {
        "colab": {
          "base_uri": "https://localhost:8080/",
          "height": 177
        },
        "id": "lwSLe2bMF_QF",
        "outputId": "ce41903d-aa24-4b1c-d8a5-722c41e7db04"
      },
      "source": [
        "# 行列 p.2\r\n",
        "%%latex\r\n",
        "\\displaystyle\r\n",
        "\\bullet~~行列とは数を長方形状に並べたものである。\\\\\r\n",
        "\\bullet~すべての成分が~0~の行列を零行列という。\\\\\r\n",
        "\\bullet~行と列の個数が等しい行列を正方行列という。\\\\\r\n",
        "\\bullet~特別な正方行列として、単位行列、対角行列、スカラー行列、上三角行列、下三角行列があげられる。\\\\\r\n",
        "\\bullet~単位行列はクロネッカーのデルタを用いて、簡単に表すことができる。\\\\\r\n",
        "\\bullet~転置をとっても変わらない正方行列を対称行列という。\\\\\r\n",
        "\\bullet~行ベクトル、列ベクトルをあわせて数ベクトルという。\\\\\r\n",
        "\\bullet~すべての成分が~0~の数ベクトルを零ベクトルという。\\\\"
      ],
      "execution_count": 19,
      "outputs": [
        {
          "output_type": "display_data",
          "data": {
            "text/latex": "\\displaystyle\n\\bullet~~行列とは数を長方形状に並べたものである。\\\\\n\\bullet~すべての成分が~0~の行列を零行列という。\\\\\n\\bullet~行と列の個数が等しい行列を正方行列という。\\\\\n\\bullet~特別な正方行列として、単位行列、対角行列、スカラー行列、上三角行列、下三角行列があげられる。\\\\\n\\bullet~単位行列はクロネッカーのデルタを用いて、簡単に表すことができる。\\\\\n\\bullet~転置をとっても変わらない正方行列を対称行列という。\\\\\n\\bullet~行ベクトル、列ベクトルをあわせて数ベクトルという。\\\\\n\\bullet~すべての成分が~0~の数ベクトルを零ベクトルという。\\\\",
            "text/plain": [
              "<IPython.core.display.Latex object>"
            ]
          },
          "metadata": {
            "tags": []
          }
        }
      ]
    },
    {
      "cell_type": "code",
      "metadata": {
        "colab": {
          "base_uri": "https://localhost:8080/",
          "height": 203
        },
        "id": "HZifWg5xISWU",
        "outputId": "2b4f3088-2182-477b-956d-297ce034bda0"
      },
      "source": [
        "%%latex\r\n",
        "自然数~i=1,2,\\cdots,m~および~j=1,2,\\cdots,n~に対して、数~a_{ij}~が対応しているとする。 \\\\\r\n",
        "このとき、mn~個の数~a_{11},a_{12},\\cdots,a_{mn}~を丸括弧 ~(~)~や角括弧~[~]~を用いて長方形状に\\\\[0.8em]\r\n",
        "\\begin{pmatrix}\r\n",
        "    a_{11} & a_{12} & \\ldots & a_{1n} \\\\\r\n",
        "    a_{21} & a_{22} & \\ldots & a_{2n} \\\\\r\n",
        "    \\vdots & \\vdots & \\ddots & \\vdots \\\\\r\n",
        "    a_{m1} & a_{m2} & \\ldots & a_{mn}\r\n",
        "\\end{pmatrix}, \\quad\r\n",
        "\\begin{bmatrix}\r\n",
        "    a_{11} & a_{12} & \\ldots & a_{1n} \\\\\r\n",
        "    a_{21} & a_{22} & \\ldots & a_{2n} \\\\\r\n",
        "    \\vdots & \\vdots & \\ddots & \\vdots \\\\\r\n",
        "    a_{m1} & a_{m2} & \\ldots & a_{mn}\r\n",
        "\\end{bmatrix} \\\\[0.8em]\r\n",
        "と並べたものを~m \\times n~ 行列または~m~行~n~列の行列という。\\\\\r\n"
      ],
      "execution_count": 18,
      "outputs": [
        {
          "output_type": "display_data",
          "data": {
            "text/latex": "自然数~i=1,2,\\cdots,m~および~j=1,2,\\cdots,n~に対して、数~a_{ij}~が対応しているとする。 \\\\\nこのとき、mn~個の数~a_{11},a_{12},\\cdots,a_{mn}~を丸括弧 ~(~)~や角括弧~[~]~を用いて長方形状に\\\\[0.8em]\n\\begin{pmatrix}\n    a_{11} & a_{12} & \\ldots & a_{1n} \\\\\n    a_{21} & a_{22} & \\ldots & a_{2n} \\\\\n    \\vdots & \\vdots & \\ddots & \\vdots \\\\\n    a_{m1} & a_{m2} & \\ldots & a_{mn}\n\\end{pmatrix}, \\quad\n\\begin{bmatrix}\n    a_{11} & a_{12} & \\ldots & a_{1n} \\\\\n    a_{21} & a_{22} & \\ldots & a_{2n} \\\\\n    \\vdots & \\vdots & \\ddots & \\vdots \\\\\n    a_{m1} & a_{m2} & \\ldots & a_{mn}\n\\end{bmatrix} \\\\[0.8em]\nと並べたものを~m \\times n~ 行列または~m~行~n~列の行列という。\\\\",
            "text/plain": [
              "<IPython.core.display.Latex object>"
            ]
          },
          "metadata": {
            "tags": []
          }
        }
      ]
    }
  ]
}