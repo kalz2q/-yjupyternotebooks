{
  "nbformat": 4,
  "nbformat_minor": 0,
  "metadata": {
    "colab": {
      "name": "linear_fujioka.ipynb",
      "provenance": [],
      "authorship_tag": "ABX9TyN6v/2BD37uwKv/sJf9bbVj",
      "include_colab_link": true
    },
    "kernelspec": {
      "name": "python3",
      "display_name": "Python 3"
    }
  },
  "cells": [
    {
      "cell_type": "markdown",
      "metadata": {
        "id": "view-in-github",
        "colab_type": "text"
      },
      "source": [
        "<a href=\"https://colab.research.google.com/github/kalz2q/mycolabnotebooks/blob/master/linear_fujioka.ipynb\" target=\"_parent\"><img src=\"https://colab.research.google.com/assets/colab-badge.svg\" alt=\"Open In Colab\"/></a>"
      ]
    },
    {
      "cell_type": "code",
      "metadata": {
        "id": "MmmMAhKgFep7"
      },
      "source": [
        ""
      ],
      "execution_count": null,
      "outputs": []
    },
    {
      "cell_type": "markdown",
      "metadata": {
        "id": "ujBvf3c5FiYT"
      },
      "source": [
        "# メモ\r\n",
        "\r\n",
        "手を動かしてまなぶ 線形代数 藤岡敦\r\n",
        "\r\n",
        "を読む。\r\n"
      ]
    }
  ]
}