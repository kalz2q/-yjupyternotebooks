{
  "nbformat": 4,
  "nbformat_minor": 0,
  "metadata": {
    "colab": {
      "name": "linear_fujioka.ipynb",
      "provenance": [],
      "toc_visible": true,
      "authorship_tag": "ABX9TyNCf2txtowVgpYQcQr5So0C",
      "include_colab_link": true
    },
    "kernelspec": {
      "name": "python3",
      "display_name": "Python 3"
    }
  },
  "cells": [
    {
      "cell_type": "markdown",
      "metadata": {
        "id": "view-in-github",
        "colab_type": "text"
      },
      "source": [
        "<a href=\"https://colab.research.google.com/github/kalz2q/mycolabnotebooks/blob/master/linear_fujioka.ipynb\" target=\"_parent\"><img src=\"https://colab.research.google.com/assets/colab-badge.svg\" alt=\"Open In Colab\"/></a>"
      ]
    },
    {
      "cell_type": "markdown",
      "metadata": {
        "id": "ujBvf3c5FiYT"
      },
      "source": [
        "# メモ\r\n",
        "\r\n",
        "手を動かしてまなぶ 線形代数 藤岡敦\r\n",
        "\r\n",
        "を読む。\r\n",
        "\r\n",
        "http://www.shokabo.co.jp/\r\n",
        "\r\n",
        "に詳細な解答があるって。"
      ]
    },
    {
      "cell_type": "code",
      "metadata": {
        "colab": {
          "base_uri": "https://localhost:8080/",
          "height": 177
        },
        "id": "lwSLe2bMF_QF",
        "outputId": "ce41903d-aa24-4b1c-d8a5-722c41e7db04"
      },
      "source": [
        "# 行列 p.2\r\n",
        "%%latex\r\n",
        "\\displaystyle\r\n",
        "\\bullet~~行列とは数を長方形状に並べたものである。\\\\\r\n",
        "\\bullet~すべての成分が~0~の行列を零行列という。\\\\\r\n",
        "\\bullet~行と列の個数が等しい行列を正方行列という。\\\\\r\n",
        "\\bullet~特別な正方行列として、単位行列、対角行列、スカラー行列、上三角行列、下三角行列があげられる。\\\\\r\n",
        "\\bullet~単位行列はクロネッカーのデルタを用いて、簡単に表すことができる。\\\\\r\n",
        "\\bullet~転置をとっても変わらない正方行列を対称行列という。\\\\\r\n",
        "\\bullet~行ベクトル、列ベクトルをあわせて数ベクトルという。\\\\\r\n",
        "\\bullet~すべての成分が~0~の数ベクトルを零ベクトルという。\\\\"
      ],
      "execution_count": null,
      "outputs": [
        {
          "output_type": "display_data",
          "data": {
            "text/latex": "\\displaystyle\n\\bullet~~行列とは数を長方形状に並べたものである。\\\\\n\\bullet~すべての成分が~0~の行列を零行列という。\\\\\n\\bullet~行と列の個数が等しい行列を正方行列という。\\\\\n\\bullet~特別な正方行列として、単位行列、対角行列、スカラー行列、上三角行列、下三角行列があげられる。\\\\\n\\bullet~単位行列はクロネッカーのデルタを用いて、簡単に表すことができる。\\\\\n\\bullet~転置をとっても変わらない正方行列を対称行列という。\\\\\n\\bullet~行ベクトル、列ベクトルをあわせて数ベクトルという。\\\\\n\\bullet~すべての成分が~0~の数ベクトルを零ベクトルという。\\\\",
            "text/plain": [
              "<IPython.core.display.Latex object>"
            ]
          },
          "metadata": {
            "tags": []
          }
        }
      ]
    },
    {
      "cell_type": "code",
      "metadata": {
        "colab": {
          "base_uri": "https://localhost:8080/",
          "height": 241
        },
        "id": "HZifWg5xISWU",
        "outputId": "a137bed0-7206-4236-b539-563b719275bc"
      },
      "source": [
        "%%latex\r\n",
        "自然数~i=1,2,\\cdots,m~および~j=1,2,\\cdots,n~に対して、数~a_{ij}~が対応しているとする。 \\\\\r\n",
        "このとき、mn~個の数~a_{11},a_{12},\\cdots,a_{mn}~を丸括弧 ~(~)~や角括弧~[~]~を用いて長方形状に\\\\[0.8em]\r\n",
        "\\begin{pmatrix}\r\n",
        "    a_{11} & a_{12} & \\ldots & a_{1n} \\\\\r\n",
        "    a_{21} & a_{22} & \\ldots & a_{2n} \\\\\r\n",
        "    \\vdots & \\vdots & \\ddots & \\vdots \\\\\r\n",
        "    a_{m1} & a_{m2} & \\ldots & a_{mn}\r\n",
        "\\end{pmatrix}, \\quad\r\n",
        "\\begin{bmatrix}\r\n",
        "    a_{11} & a_{12} & \\ldots & a_{1n} \\\\\r\n",
        "    a_{21} & a_{22} & \\ldots & a_{2n} \\\\\r\n",
        "    \\vdots & \\vdots & \\ddots & \\vdots \\\\\r\n",
        "    a_{m1} & a_{m2} & \\ldots & a_{mn}\r\n",
        "\\end{bmatrix} \\\\[0.8em]\r\n",
        "と並べたものを~m \\times n~ 行列または~m~行~n~列の行列という。\\\\[1em]\r\n",
        "\r\n",
        "a_{ij}の~i~や~j~を添字(そえじ)という。\r\n"
      ],
      "execution_count": null,
      "outputs": [
        {
          "output_type": "display_data",
          "data": {
            "text/latex": "自然数~i=1,2,\\cdots,m~および~j=1,2,\\cdots,n~に対して、数~a_{ij}~が対応しているとする。 \\\\\nこのとき、mn~個の数~a_{11},a_{12},\\cdots,a_{mn}~を丸括弧 ~(~)~や角括弧~[~]~を用いて長方形状に\\\\[0.8em]\n\\begin{pmatrix}\n    a_{11} & a_{12} & \\ldots & a_{1n} \\\\\n    a_{21} & a_{22} & \\ldots & a_{2n} \\\\\n    \\vdots & \\vdots & \\ddots & \\vdots \\\\\n    a_{m1} & a_{m2} & \\ldots & a_{mn}\n\\end{pmatrix}, \\quad\n\\begin{bmatrix}\n    a_{11} & a_{12} & \\ldots & a_{1n} \\\\\n    a_{21} & a_{22} & \\ldots & a_{2n} \\\\\n    \\vdots & \\vdots & \\ddots & \\vdots \\\\\n    a_{m1} & a_{m2} & \\ldots & a_{mn}\n\\end{bmatrix} \\\\[0.8em]\nと並べたものを~m \\times n~ 行列または~m~行~n~列の行列という。\\\\[1em]\n\na_{ij}の~i~や~j~を添字(そえじ)という。",
            "text/plain": [
              "<IPython.core.display.Latex object>"
            ]
          },
          "metadata": {
            "tags": []
          }
        }
      ]
    },
    {
      "cell_type": "code",
      "metadata": {
        "id": "rN67qBN3nPnM",
        "colab": {
          "base_uri": "https://localhost:8080/",
          "height": 92
        },
        "outputId": "a1e8d368-ac93-4150-cd8c-1695de2ce218"
      },
      "source": [
        "%%latex\r\n",
        "例\\\\[0.8em]\r\n",
        "行列~\r\n",
        "\\begin{pmatrix}\r\n",
        "    1 & 2 & 3 \\\\\r\n",
        "    4 & 5 & 6\r\n",
        "\\end{pmatrix}\r\n",
        "~は~2 \\times 3~ 行列である。"
      ],
      "execution_count": null,
      "outputs": [
        {
          "output_type": "display_data",
          "data": {
            "text/latex": "例\\\\[0.8em]\n行列~\n\\begin{pmatrix}\n    1 & 2 & 3 \\\\\n    4 & 5 & 6\n\\end{pmatrix}\n~は~2 \\times 3~ 行列である。",
            "text/plain": [
              "<IPython.core.display.Latex object>"
            ]
          },
          "metadata": {
            "tags": []
          }
        }
      ]
    },
    {
      "cell_type": "code",
      "metadata": {
        "colab": {
          "base_uri": "https://localhost:8080/",
          "height": 238
        },
        "id": "q9uNR1fjn9nN",
        "outputId": "eeb9e3db-b816-450b-e239-741c41cf256f"
      },
      "source": [
        "%%latex\r\n",
        "行列~A~について\\\\[0.8em]\r\n",
        "A = (a_{ij})\\\\[0.8em]\r\n",
        "と書く。\\\\\r\n",
        "\r\n",
        "a_{ij},\\quad\r\n",
        "(a_{i1}~ a_{i2}~ \\cdots ~a_{in}),\\quad\r\n",
        "\\begin{pmatrix}\r\n",
        "    a_{1j} \\\\\r\n",
        "    a_{2j} \\\\\r\n",
        "    a_{2j} \\\\\r\n",
        "    a_{mj} \r\n",
        "\\end{pmatrix}\\\\[0.8em]\r\n",
        "\r\n",
        "を~A~の~(i,j)~成分、第~i~行、第~j~列という。\\\\[0.8em]\r\n",
        "\r\n",
        "\r\n"
      ],
      "execution_count": null,
      "outputs": [
        {
          "output_type": "display_data",
          "data": {
            "text/latex": "行列~A~について\\\\[0.8em]\nA = (a_{ij})\\\\[0.8em]\nと書く。\\\\\n\na_{ij},\\quad\n(a_{i1}~ a_{i2}~ \\cdots ~a_{in}),\\quad\n\\begin{pmatrix}\n    a_{1j} \\\\\n    a_{2j} \\\\\n    a_{2j} \\\\\n    a_{mj} \n\\end{pmatrix}\\\\[0.8em]\n\nを~A~の~(i,j)~成分、第~i~行、第~j~列という。\\\\[0.8em]\n\n",
            "text/plain": [
              "<IPython.core.display.Latex object>"
            ]
          },
          "metadata": {
            "tags": []
          }
        }
      ]
    },
    {
      "cell_type": "code",
      "metadata": {
        "colab": {
          "base_uri": "https://localhost:8080/",
          "height": 202
        },
        "id": "WbBcxf_Jqmcf",
        "outputId": "81c62c39-49cb-4082-ecac-068e1a380c09"
      },
      "source": [
        "%%latex\r\n",
        "~A=(a_{ij})_{m \\times n}~を~m \\times n~行列、 B=(b_{kl})_{p \\times q}~を~p \\times q~行列とする。\\\\\r\n",
        "~A~と~B~が同じ型で、対応する成分が等しいとき、すなわち、~m=p~かつ~n=q~で、\\\\\r\n",
        "任意の~i=1,2,\\cdots,m~および~j=1,2,\\cdots,n~にたいして~a_{ij}=b_{ij}~がなりたつとき\\\\[0.8em]\r\n",
        "\r\n",
        "\\quad \\quad \\quad \\quad A = B \\\\[0.8em]\r\n",
        "\r\n",
        "と記し、A~と~B~は等しい、という。A = B~でないときは\\\\[0.8em]\r\n",
        "\r\n",
        "\\quad \\quad \\quad \\quad A \\neq B \\\\[0.8em]\r\n"
      ],
      "execution_count": null,
      "outputs": [
        {
          "output_type": "display_data",
          "data": {
            "text/latex": "~A=(a_{ij})_{m \\times n}~を~m \\times n~行列、 B=(b_{kl})_{p \\times q}~を~p \\times q~行列とする。\\\\\n~A~と~B~が同じ型で、対応する成分が等しいとき、すなわち、~m=p~かつ~n=q~で、\\\\\n任意の~i=1,2,\\cdots,m~および~j=1,2,\\cdots,n~にたいして~a_{ij}=b_{ij}~がなりたつとき\\\\[0.8em]\n\n\\quad \\quad \\quad \\quad A = B \\\\[0.8em]\n\nと記し、A~と~B~は等しい、という。A = B~でないときは\\\\[0.8em]\n\n\\quad \\quad \\quad \\quad A \\neq B \\\\[0.8em]",
            "text/plain": [
              "<IPython.core.display.Latex object>"
            ]
          },
          "metadata": {
            "tags": []
          }
        }
      ]
    },
    {
      "cell_type": "code",
      "metadata": {
        "colab": {
          "base_uri": "https://localhost:8080/",
          "height": 115
        },
        "id": "_rBJf1hasyRw",
        "outputId": "55043da6-14ca-4bf8-adcb-a42742f09634"
      },
      "source": [
        "%%latex\r\n",
        "\\begin{array}{rcl}\r\n",
        "\\begin{pmatrix}\r\n",
        "    a & b & c \\\\\r\n",
        "    d & e & f\r\n",
        "\\end{pmatrix} &=&\r\n",
        "\\begin{pmatrix}\r\n",
        "    p & q & r \\\\\r\n",
        "    s & t & u\r\n",
        "\\end{pmatrix} \\\\[0.8em]\r\n",
        "\r\n",
        "&\\Updownarrow& \\\\[0.8em]\r\n",
        "\r\n",
        "a = p,\\quad  b = q,\\quad  c = r&,& d = s,\\quad  e = t,\\quad  f = u\r\n",
        "\\end{array} \\\\\r\n"
      ],
      "execution_count": null,
      "outputs": [
        {
          "output_type": "display_data",
          "data": {
            "text/latex": "\\begin{array}{rcl}\n\\begin{pmatrix}\n    a & b & c \\\\\n    d & e & f\n\\end{pmatrix} &=&\n\\begin{pmatrix}\n    p & q & r \\\\\n    s & t & u\n\\end{pmatrix} \\\\[0.8em]\n\n&\\Updownarrow& \\\\[0.8em]\n\na = p,\\quad  b = q,\\quad  c = r&,& d = s,\\quad  e = t,\\quad  f = u\n\\end{array} \\\\",
            "text/plain": [
              "<IPython.core.display.Latex object>"
            ]
          },
          "metadata": {
            "tags": []
          }
        }
      ]
    },
    {
      "cell_type": "code",
      "metadata": {
        "colab": {
          "base_uri": "https://localhost:8080/",
          "height": 147
        },
        "id": "5VbsbwnZvvPF",
        "outputId": "59d1d1f2-e89a-4fb4-ea02-3e83f817ccaf"
      },
      "source": [
        "%%latex\r\n",
        "すべての成分が~0~の~m \\times n~行列を~O_{m,n}~または~O~と書き、零行列という。\r\n",
        "\\\\[0.8em]\r\n",
        "\\quad \\quad \\quad \\quad \r\n",
        "O_{3,2} =\r\n",
        "\\begin{pmatrix}\r\n",
        "    0 & 0 \\\\\r\n",
        "    0 & 0 \\\\\r\n",
        "    0 & 0 \r\n",
        "\\end{pmatrix}\r\n",
        "\\\\[0.8em]\r\n",
        "2~列、~3~行"
      ],
      "execution_count": null,
      "outputs": [
        {
          "output_type": "display_data",
          "data": {
            "text/latex": "すべての成分が~0~の~m \\times n~行列を~O_{m,n}~または~O~と書き、零行列という。\n\\\\[0.8em]\n\\quad \\quad \\quad \\quad \nO_{3,2} =\n\\begin{pmatrix}\n    0 & 0 \\\\\n    0 & 0 \\\\\n    0 & 0 \n\\end{pmatrix}\n\\\\[0.8em]\n2~列、~3~行",
            "text/plain": [
              "<IPython.core.display.Latex object>"
            ]
          },
          "metadata": {
            "tags": []
          }
        }
      ]
    },
    {
      "cell_type": "code",
      "metadata": {
        "id": "5hbyzh-3ypI0",
        "colab": {
          "base_uri": "https://localhost:8080/",
          "height": 39
        },
        "outputId": "953bdc83-1c8f-41fe-d3da-efcfbd44f6b6"
      },
      "source": [
        "%%latex\r\n",
        "一般に、2~つの命題~P,~Q~に対して、P~ならば~Q~であることを~P \\Longrightarrow Q~と表し、P~と~Q~が同値であることを\r\n",
        "~P \\Longleftrightarrow Q~と表す。"
      ],
      "execution_count": null,
      "outputs": [
        {
          "output_type": "display_data",
          "data": {
            "text/latex": "一般に、2~つの命題~P,~Q~に対して、P~ならば~Q~であることを~P \\Longrightarrow Q~と表し、P~と~Q~が同値であることを\n~P \\Longleftrightarrow Q~と表す。",
            "text/plain": [
              "<IPython.core.display.Latex object>"
            ]
          },
          "metadata": {
            "tags": []
          }
        }
      ]
    },
    {
      "cell_type": "code",
      "metadata": {
        "id": "WodYhHDczMDw",
        "colab": {
          "base_uri": "https://localhost:8080/",
          "height": 379
        },
        "outputId": "4df40dfb-995c-4b4d-f287-b0bd7172494e"
      },
      "source": [
        "%%latex\r\n",
        "A = (a_{ij})_{n \\times n}~を~n \\times n~ 行列とするとき、A~を~n~次の正方行列という。\\\\\r\n",
        "成分~a_{11}, a_{22}, \\cdots a_{nn}~を~A~の対角成分という。\\\\[0.8em]\r\n",
        "\r\n",
        "正方行列 ~A~が\\\\[0.8em]\r\n",
        "\r\n",
        "\\quad \\quad \\quad \\quad a_{ij} = 0 \\quad (i \\neq j) \\\\[0.8em]\r\n",
        "\r\n",
        "を満たすとき、A~を対角行列という。 正方行列~A~が\\\\[0.8em]\r\n",
        "\r\n",
        "\\quad \\quad \\quad \\quad a_{ij} = 0 \\quad (i \\neq j), \\quad a_{11} = a_{22} = \\cdots = a_{nn} \\\\[0.8em]\r\n",
        "\r\n",
        "を満たすとき、A~をスカラー行列という。 正方行列~A~が\\\\[0.8em]\r\n",
        "\r\n",
        "\\quad \\quad \\quad \\quad a_{ij} = 0 \\quad (i > j) \\\\[0.8em]\r\n",
        "\r\n",
        "を満たすとき、A~を上三角行列という。 正方行列~A~が\\\\[0.8em]\r\n",
        "\r\n",
        "\\quad \\quad \\quad \\quad a_{ij} = 0 \\quad (i < j) \\\\[0.8em]\r\n",
        "\r\n",
        "を満たすとき、A~を下三角行列という。 "
      ],
      "execution_count": null,
      "outputs": [
        {
          "output_type": "display_data",
          "data": {
            "text/latex": "A = (a_{ij})_{n \\times n}~を~n \\times n~ 行列とするとき、A~を~n~次の正方行列という。\\\\\n成分~a_{11}, a_{22}, \\cdots a_{nn}~を~A~の対角成分という。\\\\[0.8em]\n\n正方行列 ~A~が\\\\[0.8em]\n\n\\quad \\quad \\quad \\quad a_{ij} = 0 \\quad (i \\neq j) \\\\[0.8em]\n\nを満たすとき、A~を対角行列という。 正方行列~A~が\\\\[0.8em]\n\n\\quad \\quad \\quad \\quad a_{ij} = 0 \\quad (i \\neq j), \\quad a_{11} = a_{22} = \\cdots = a_{nn} \\\\[0.8em]\n\nを満たすとき、A~をスカラー行列という。 正方行列~A~が\\\\[0.8em]\n\n\\quad \\quad \\quad \\quad a_{ij} = 0 \\quad (i > j) \\\\[0.8em]\n\nを満たすとき、A~を上三角行列という。 正方行列~A~が\\\\[0.8em]\n\n\\quad \\quad \\quad \\quad a_{ij} = 0 \\quad (i < j) \\\\[0.8em]\n\nを満たすとき、A~を下三角行列という。 ",
            "text/plain": [
              "<IPython.core.display.Latex object>"
            ]
          },
          "metadata": {
            "tags": []
          }
        }
      ]
    },
    {
      "cell_type": "code",
      "metadata": {
        "colab": {
          "base_uri": "https://localhost:8080/",
          "height": 203
        },
        "id": "XHhVVxty9zMy",
        "outputId": "5bd24bff-e8bf-42d7-b60c-e09e6ae00570"
      },
      "source": [
        "%%latex\r\n",
        "2~次の正方行列\r\n",
        "~A~ = \r\n",
        "\\begin{pmatrix}\r\n",
        "    a & b \\\\\r\n",
        "    c & d\r\n",
        "\\end{pmatrix}\r\n",
        "~とする。\\\\[0.8em]\r\n",
        "\r\n",
        "A~の対角成分は~\r\n",
        "\\begin{pmatrix}\r\n",
        "    a & 0 \\\\\r\n",
        "    0 & d\r\n",
        "\\end{pmatrix}\\\\[0.8em]\r\n",
        "\r\n",
        "A~が対角行列、上三角行列、下三角行列となるときそれぞれ\\\\[0.8em]\r\n",
        "\r\n",
        "\\begin{pmatrix}\r\n",
        "    a & 0 \\\\\r\n",
        "    0 & a\r\n",
        "\\end{pmatrix}, \\quad\r\n",
        "\r\n",
        "\\begin{pmatrix}\r\n",
        "    a & b \\\\\r\n",
        "    0 & d\r\n",
        "\\end{pmatrix}, \\quad\r\n",
        "\r\n",
        "\\begin{pmatrix}\r\n",
        "    a & 0 \\\\\r\n",
        "    c & d\r\n",
        "\\end{pmatrix}"
      ],
      "execution_count": null,
      "outputs": [
        {
          "output_type": "display_data",
          "data": {
            "text/latex": "2~次の正方行列\n~A~ = \n\\begin{pmatrix}\n    a & b \\\\\n    c & d\n\\end{pmatrix}\n~とする。\\\\[0.8em]\n\nA~の対角成分は~\n\\begin{pmatrix}\n    a & 0 \\\\\n    0 & d\n\\end{pmatrix}\\\\[0.8em]\n\nA~が対角行列、上三角行列、下三角行列となるときそれぞれ\\\\[0.8em]\n\n\\begin{pmatrix}\n    a & 0 \\\\\n    0 & a\n\\end{pmatrix}, \\quad\n\n\\begin{pmatrix}\n    a & b \\\\\n    0 & d\n\\end{pmatrix}, \\quad\n\n\\begin{pmatrix}\n    a & 0 \\\\\n    c & d\n\\end{pmatrix}",
            "text/plain": [
              "<IPython.core.display.Latex object>"
            ]
          },
          "metadata": {
            "tags": []
          }
        }
      ]
    },
    {
      "cell_type": "code",
      "metadata": {
        "colab": {
          "base_uri": "https://localhost:8080/",
          "height": 114
        },
        "id": "eQasAnsI_AIR",
        "outputId": "3543e8b4-f55c-415d-84b2-05b0940a322a"
      },
      "source": [
        "%%latex\r\n",
        "対角成分がすべて~1~の~n~次スカラー行列を~E_n~または~E~と書き、~n~次単位行列という。 ~I_n~や~I~と書くこともある。\\\\[0.8em]\r\n",
        "\r\n",
        "E_1 = (1) = 1, \\quad E_2 = \r\n",
        "\\begin{pmatrix}\r\n",
        "    1 & 0 \\\\\r\n",
        "    0 & 1\r\n",
        "\\end{pmatrix}, \\quad E_3 =\r\n",
        "\\begin{pmatrix}\r\n",
        "    1 & 0 & 0 \\\\\r\n",
        "    0 & 1 & 0 \\\\\r\n",
        "    0 & 0 & 1\r\n",
        "\\end{pmatrix}"
      ],
      "execution_count": null,
      "outputs": [
        {
          "output_type": "display_data",
          "data": {
            "text/latex": "対角成分がすべて~1~の~n~次スカラー行列を~E_n~または~E~と書き、~n~次単位行列という。 ~I_n~や~I~と書くこともある。\\\\[0.8em]\n\nE_1 = (1) = 1, \\quad E_2 = \n\\begin{pmatrix}\n    1 & 0 \\\\\n    0 & 1\n\\end{pmatrix}, \\quad E_3 =\n\\begin{pmatrix}\n    1 & 0 & 0 \\\\\n    0 & 1 & 0 \\\\\n    0 & 0 & 1\n\\end{pmatrix}",
            "text/plain": [
              "<IPython.core.display.Latex object>"
            ]
          },
          "metadata": {
            "tags": []
          }
        }
      ]
    },
    {
      "cell_type": "code",
      "metadata": {
        "colab": {
          "base_uri": "https://localhost:8080/",
          "height": 184
        },
        "id": "WoBxIVk_ZvAD",
        "outputId": "ebe86762-e4b1-45bb-dc75-d7f6227a2556"
      },
      "source": [
        "# クロネッカーのデルタ\r\n",
        "%%latex\r\n",
        "クロネッカーのデルタ\\\\[0.8em]\r\n",
        "\r\n",
        "i,j = 1,2, \\cdots, n~ に対して\\\\[0.8em]\r\n",
        "\r\n",
        "\\quad \\quad \\quad \\quad \\delta =\r\n",
        "\r\n",
        "\\left \\{\r\n",
        "\\begin{array}{cl}\r\n",
        "    1 & (i = j) \\\\\r\n",
        "    0 & (i \\neq j)\r\n",
        "\\end{array}\r\n",
        "\\right .\r\n",
        "\\\\[0.8em]\r\n",
        "により、~0~または~1~をとる記号~\\delta_{ij}~を定める。 \\\\\r\n",
        "~\\delta_{ij}~をクロネッカーのデルタという。"
      ],
      "execution_count": null,
      "outputs": [
        {
          "output_type": "display_data",
          "data": {
            "text/latex": "クロネッカーのデルタ\\\\[0.8em]\n\ni,j = 1,2, \\cdots, n~ に対して\\\\[0.8em]\n\n\\quad \\quad \\quad \\quad \\delta =\n\n\\left \\{\n\\begin{array}{cl}\n    1 & (i = j) \\\\\n    0 & (i \\neq j)\n\\end{array}\n\\right .\n\\\\[0.8em]\nにより、~0~または~1~をとる記号~\\delta_{ij}~を定める。 \\\\\n~\\delta_{ij}~をクロネッカーのデルタという。",
            "text/plain": [
              "<IPython.core.display.Latex object>"
            ]
          },
          "metadata": {
            "tags": []
          }
        }
      ]
    },
    {
      "cell_type": "code",
      "metadata": {
        "colab": {
          "base_uri": "https://localhost:8080/",
          "height": 75
        },
        "id": "4MnXA7QfmSc8",
        "outputId": "30f4b196-6d91-4183-ada9-804660c19837"
      },
      "source": [
        "%%latex\r\n",
        "i,j = 1,2 のとき、クロネッカーのデルタ~\\delta_{ij}~の値を求める。\\\\[0.8em]\r\n",
        "\r\n",
        "\\quad \\quad \\quad \\quad \\delta_{11} = \\delta_{22} = 1, \\quad \\delta_{12} = \\delta_{21} = 0"
      ],
      "execution_count": null,
      "outputs": [
        {
          "output_type": "display_data",
          "data": {
            "text/latex": "i,j = 1,2 のとき、クロネッカーのデルタ~\\delta_{ij}~の値を求める。\\\\[0.8em]\n\n\\quad \\quad \\quad \\quad \\delta_{11} = \\delta_{22} = 1, \\quad \\delta_{12} = \\delta_{21} = 0",
            "text/plain": [
              "<IPython.core.display.Latex object>"
            ]
          },
          "metadata": {
            "tags": []
          }
        }
      ]
    },
    {
      "cell_type": "code",
      "metadata": {
        "colab": {
          "base_uri": "https://localhost:8080/",
          "height": 147
        },
        "id": "slOvGGoYm2Kf",
        "outputId": "692810e1-057a-48b3-e9bb-6cc9ed7a9612"
      },
      "source": [
        "%%latex\r\n",
        "クロネッカーのデルタを用いると、~n~次単位行列~E_n~は~E_n = (\\delta_{ij})_{n \\times n}~ と表すことができる。\\\\\r\n",
        "例えば、~2~次単位行列は\\\\[0.8em]\r\n",
        "\r\n",
        "\\quad \\quad \\quad \\quad E_2 = \r\n",
        "\r\n",
        "\\begin{pmatrix}\r\n",
        "  \\delta_{11} & \\delta_{12} \\\\\r\n",
        "  \\delta_{21} & \\delta_{22}\r\n",
        "\\end{pmatrix} =\r\n",
        "\r\n",
        "\\begin{pmatrix}\r\n",
        "  1 & 0 \\\\\r\n",
        "  0 & 1\r\n",
        "\\end{pmatrix} \\\\[0.8em]\r\n",
        "\r\n",
        "となる。"
      ],
      "execution_count": null,
      "outputs": [
        {
          "output_type": "display_data",
          "data": {
            "text/latex": "クロネッカーのデルタを用いると、~n~次単位行列~E_n~は~E_n = (\\delta_{ij})_{n \\times n}~ と表すことができる。\\\\\n例えば、~2~次単位行列は\\\\[0.8em]\n\n\\quad \\quad \\quad \\quad E_2 = \n\n\\begin{pmatrix}\n  \\delta_{11} & \\delta_{12} \\\\\n  \\delta_{21} & \\delta_{22}\n\\end{pmatrix} =\n\n\\begin{pmatrix}\n  1 & 0 \\\\\n  0 & 1\n\\end{pmatrix} \\\\[0.8em]\n\nとなる。",
            "text/plain": [
              "<IPython.core.display.Latex object>"
            ]
          },
          "metadata": {
            "tags": []
          }
        }
      ]
    },
    {
      "cell_type": "code",
      "metadata": {
        "colab": {
          "base_uri": "https://localhost:8080/",
          "height": 443
        },
        "id": "pi0XLNTRoFzJ",
        "outputId": "58a52ff5-1078-4604-fb33-5a2b4275ecc3"
      },
      "source": [
        "%%latex\r\n",
        "転置行列\\\\[0.8em]\r\n",
        "\r\n",
        "m \\times n~ 行列~A~の行と列を入れ替えて得られる~n \\times m~ 行列を~{}^t A, A^t~ または~{}^T A~ などと書き、\\\\\r\n",
        "~A~の転置行列という。 すなわち、\\\\[0.8em]\r\n",
        "\\quad \\quad \\quad \\quad \r\n",
        "A = \r\n",
        "\\begin{pmatrix}\r\n",
        "    a_{11} & a_{12} & \\ldots & a_{1n} \\\\\r\n",
        "    a_{21} & a_{22} & \\ldots & a_{2n} \\\\\r\n",
        "    \\vdots & \\vdots & \\ddots & \\vdots \\\\\r\n",
        "    a_{m1} & a_{m2} & \\ldots & a_{mn}\r\n",
        "\\end{pmatrix} \\\\[0.8em]\r\n",
        "\r\n",
        "のとき、\\\\[0.8em]\r\n",
        "\r\n",
        "\\quad \\quad \\quad \\quad \r\n",
        "{}^t A = \r\n",
        "\\begin{pmatrix}\r\n",
        "    a_{11} & a_{21} & \\ldots & a_{m1} \\\\\r\n",
        "    a_{12} & a_{22} & \\ldots & a_{m2} \\\\\r\n",
        "    \\vdots & \\vdots & \\ddots & \\vdots \\\\\r\n",
        "    a_{1n} & a_{2m} & \\ldots & a_{mn}\r\n",
        "\\end{pmatrix} \\\\[0.8em]\r\n",
        "\r\n",
        "である。定義より、\\\\[0.8em]\r\n",
        "\r\n",
        "\\quad \\quad \\quad \\quad \r\n",
        "{}^t({}^t A) = A \\\\[0.8em]\r\n",
        "\r\n",
        "が成り立つ。 なお転置行列を作ることを、転置を取る、ともいう。"
      ],
      "execution_count": null,
      "outputs": [
        {
          "output_type": "display_data",
          "data": {
            "text/latex": "転置行列\\\\[0.8em]\n\nm \\times n~ 行列~A~の行と列を入れ替えて得られる~n \\times m~ 行列を~{}^t A, A^t~ または~{}^T A~ などと書き、\\\\\n~A~の転置行列という。 すなわち、\\\\[0.8em]\n\\quad \\quad \\quad \\quad \nA = \n\\begin{pmatrix}\n    a_{11} & a_{12} & \\ldots & a_{1n} \\\\\n    a_{21} & a_{22} & \\ldots & a_{2n} \\\\\n    \\vdots & \\vdots & \\ddots & \\vdots \\\\\n    a_{m1} & a_{m2} & \\ldots & a_{mn}\n\\end{pmatrix} \\\\[0.8em]\n\nのとき、\\\\[0.8em]\n\n\\quad \\quad \\quad \\quad \n{}^t A = \n\\begin{pmatrix}\n    a_{11} & a_{21} & \\ldots & a_{m1} \\\\\n    a_{12} & a_{22} & \\ldots & a_{m2} \\\\\n    \\vdots & \\vdots & \\ddots & \\vdots \\\\\n    a_{1n} & a_{2m} & \\ldots & a_{mn}\n\\end{pmatrix} \\\\[0.8em]\n\nである。定義より、\\\\[0.8em]\n\n\\quad \\quad \\quad \\quad \n{}^t({}^t A) = A \\\\[0.8em]\n\nが成り立つ。 なお転置行列を作ることを、転置を取る、ともいう。",
            "text/plain": [
              "<IPython.core.display.Latex object>"
            ]
          },
          "metadata": {
            "tags": []
          }
        }
      ]
    },
    {
      "cell_type": "code",
      "metadata": {
        "id": "zmwgrUCIz8ou",
        "colab": {
          "base_uri": "https://localhost:8080/",
          "height": 92
        },
        "outputId": "3673386e-521e-4e94-d77a-f73e8f38a378"
      },
      "source": [
        "%%latex\r\n",
        "例題 \\\\[0.8em]\r\n",
        "\r\n",
        "2 \\times 3~ 行列~\r\n",
        "\\begin{pmatrix}\r\n",
        "    1 & 2 & 3 \\\\\r\n",
        "    4 & 5 & 6\r\n",
        "\\end{pmatrix}~\r\n",
        "の転置行列を求める。 \\\\[0.8em]"
      ],
      "execution_count": null,
      "outputs": [
        {
          "output_type": "display_data",
          "data": {
            "text/latex": "例題 \\\\[0.8em]\n\n2 \\times 3~ 行列~\n\\begin{pmatrix}\n    1 & 2 & 3 \\\\\n    4 & 5 & 6\n\\end{pmatrix}~\nの転置行列を求める。",
            "text/plain": [
              "<IPython.core.display.Latex object>"
            ]
          },
          "metadata": {
            "tags": []
          }
        }
      ]
    },
    {
      "cell_type": "code",
      "metadata": {
        "id": "TCM83oPY1A56",
        "colab": {
          "base_uri": "https://localhost:8080/",
          "height": 137
        },
        "outputId": "66f24aa2-11ce-4915-82ab-8e6f8ebbc25b"
      },
      "source": [
        "from sympy import *\r\n",
        "init_printing()\r\n",
        "A = Matrix([[1,2,3],[4,5,6]])\r\n",
        "display(A)\r\n",
        "print()\r\n",
        "display (A.T)"
      ],
      "execution_count": null,
      "outputs": [
        {
          "output_type": "display_data",
          "data": {
            "text/latex": "$\\displaystyle \\left[\\begin{matrix}1 & 2 & 3\\\\4 & 5 & 6\\end{matrix}\\right]$",
            "text/plain": [
              "⎡1  2  3⎤\n",
              "⎢       ⎥\n",
              "⎣4  5  6⎦"
            ]
          },
          "metadata": {
            "tags": []
          }
        },
        {
          "output_type": "stream",
          "text": [
            "\n"
          ],
          "name": "stdout"
        },
        {
          "output_type": "display_data",
          "data": {
            "text/latex": "$\\displaystyle \\left[\\begin{matrix}1 & 4\\\\2 & 5\\\\3 & 6\\end{matrix}\\right]$",
            "text/plain": [
              "⎡1  4⎤\n",
              "⎢    ⎥\n",
              "⎢2  5⎥\n",
              "⎢    ⎥\n",
              "⎣3  6⎦"
            ]
          },
          "metadata": {
            "tags": []
          }
        }
      ]
    },
    {
      "cell_type": "code",
      "metadata": {
        "colab": {
          "base_uri": "https://localhost:8080/",
          "height": 216
        },
        "id": "Q4s4f76tcGcN",
        "outputId": "a5166828-06a1-434e-cb94-12d9f278bc45"
      },
      "source": [
        "%%latex\r\n",
        "対称行列\\\\[0.8em]\r\n",
        "\r\n",
        "~n~次の正方行列の転置行列は再び~n~次の正方行列となる。よって、次のような正方行列を考えることができる。\\\\[0.8em]\r\n",
        "\r\n",
        "定義 \\quad {}^t A = A が成り立つ正方行列~A~を対称行列という。\\\\[0.8em]\r\n",
        "\r\n",
        "例 \\\\[0.8em]\r\n",
        "\r\n",
        "\\quad \\quad \\quad \\quad \r\n",
        "(1), \\quad\r\n",
        "\\begin{pmatrix}\r\n",
        "  1 & 2 \\\\\r\n",
        "  2 & 3\r\n",
        "\\end{pmatrix} , \\quad\r\n",
        "\\begin{pmatrix}\r\n",
        "  1 & 2 & 3\\\\\r\n",
        "  2 & 4 & 5\\\\\r\n",
        "  3 & 5 & 6\r\n",
        "\\end{pmatrix}"
      ],
      "execution_count": 2,
      "outputs": [
        {
          "output_type": "display_data",
          "data": {
            "text/latex": "対称行列\\\\[0.8em]\n\n~n~次の正方行列の転置行列は再び~n~次の正方行列となる。よって、次のような正方行列を考えることができる。\\\\[0.8em]\n\n定義 \\quad {}^t A = A が成り立つ正方行列~A~を対称行列という。\\\\[0.8em]\n\n例 \\\\[0.8em]\n\n\\quad \\quad \\quad \\quad \n(1), \\quad\n\\begin{pmatrix}\n  1 & 2 \\\\\n  2 & 3\n\\end{pmatrix} , \\quad\n\\begin{pmatrix}\n  1 & 2 & 3\\\\\n  2 & 4 & 5\\\\\n  3 & 5 & 6\n\\end{pmatrix}",
            "text/plain": [
              "<IPython.core.display.Latex object>"
            ]
          },
          "metadata": {
            "tags": []
          }
        }
      ]
    },
    {
      "cell_type": "code",
      "metadata": {
        "colab": {
          "base_uri": "https://localhost:8080/",
          "height": 141
        },
        "id": "fKCbawh_dZ_e",
        "outputId": "a4ab6c00-4ce8-4a0e-c99e-eb139e7d7a3c"
      },
      "source": [
        "%%latex\r\n",
        "定義より、対称行列について、次の定理が成り立つ。\\\\[0.8em]\r\n",
        "\r\n",
        "A=(a_{ij})~を~n~次の正方行列とする。 ~A~が対称行列であるための必要十分条件は\\\\[0.8em]\r\n",
        "\r\n",
        "\\quad \\quad \\quad \\quad \r\n",
        "a_{ij} = a_{ji} \\quad (i,j = 1,2,\\cdots, n)\\\\[0.8em]\r\n",
        "\r\n",
        "である。"
      ],
      "execution_count": 5,
      "outputs": [
        {
          "output_type": "display_data",
          "data": {
            "text/latex": "定義より、対称行列について、次の定理が成り立つ。\\\\[0.8em]\n\nA=(a_{ij})~を~n~次の正方行列とする。 ~A~が対称行列であるための必要十分条件は\\\\[0.8em]\n\n\\quad \\quad \\quad \\quad \na_{ij} = a_{ji} \\quad (i,j = 1,2,\\cdots, n)\\\\[0.8em]\n\nである。",
            "text/plain": [
              "<IPython.core.display.Latex object>"
            ]
          },
          "metadata": {
            "tags": []
          }
        }
      ]
    },
    {
      "cell_type": "code",
      "metadata": {
        "colab": {
          "base_uri": "https://localhost:8080/",
          "height": 193
        },
        "id": "6K0O28IiePJv",
        "outputId": "c05e2569-d2cc-4237-c434-131325c6f05b"
      },
      "source": [
        "%%latex\r\n",
        "ベクトルと名のつくものを簡単に書くときは太文字、ボールド体を用いる。\\\\[0.8em]\r\n",
        "\r\n",
        "\\quad \\quad \\quad \\quad \\mathbf{0,a,b,c,d,e,n,v,x,y,z,R,C}\\\\[0.8em]\r\n",
        "\r\n",
        "手書きするときは、文字の左側を~2~重にする。\\\\[0.8em]\r\n",
        "\r\n",
        "\\quad \\quad \\quad \\quad \\mathbb{0,a,b,c,d,e,n,v,x,y,z,R,C}\\\\[0.8em]\r\n",
        "\r\n",
        "大文字しか~2~重にならない。"
      ],
      "execution_count": 1,
      "outputs": [
        {
          "output_type": "display_data",
          "data": {
            "text/latex": "ベクトルと名のつくものを簡単に書くときは太文字、ボールド体を用いる。\\\\[0.8em]\n\n\\quad \\quad \\quad \\quad \\mathbf{0,a,b,c,d,e,n,v,x,y,z,R,C}\\\\[0.8em]\n\n手書きするときは、文字の左側を~2~重にする。\\\\[0.8em]\n\n\\quad \\quad \\quad \\quad \\mathbb{0,a,b,c,d,e,n,v,x,y,z,R,C}\\\\[0.8em]\n\n大文字しか~2~重にならない。 => いまの考えテキストが~2~重文字のとき、テキスト重視の考え方から\\\\\n~\\mathbb~",
            "text/plain": [
              "<IPython.core.display.Latex object>"
            ]
          },
          "metadata": {
            "tags": []
          }
        }
      ]
    },
    {
      "cell_type": "code",
      "metadata": {
        "colab": {
          "base_uri": "https://localhost:8080/",
          "height": 112
        },
        "id": "vvkuqa2rhiDb",
        "outputId": "ebbcfea3-c038-4577-fecb-045554ca1848"
      },
      "source": [
        "%%latex\r\n",
        "問題\\\\[0.8em]\r\n",
        "\r\n",
        "~3~次の正方行列~A~を~A =\r\n",
        "\\begin{pmatrix}\r\n",
        "    a_{11} & a_{12} & a_{13} \\\\\r\n",
        "    a_{21} & a_{22} & a_{23} \\\\\r\n",
        "    a_{31} & a_{32} & a_{33}\r\n",
        "\\end{pmatrix}~と表す。\r\n",
        "\r\n",
        "1.~A~の対角成分を答える。\r\n",
        "2.~A~が対角行列、スカラー行列、上三角行列、下三角行列になるとき、~A~をそれぞれ具体的に示す。"
      ],
      "execution_count": 4,
      "outputs": [
        {
          "output_type": "display_data",
          "data": {
            "text/latex": "問題\\\\[0.8em]\n\n~3~次の正方行列~A~を~A =\n\\begin{pmatrix}\n    a_{11} & a_{12} & a_{13} \\\\\n    a_{21} & a_{22} & a_{23} \\\\\n    a_{31} & a_{32} & a_{33}\n\\end{pmatrix}",
            "text/plain": [
              "<IPython.core.display.Latex object>"
            ]
          },
          "metadata": {
            "tags": []
          }
        }
      ]
    },
    {
      "cell_type": "code",
      "metadata": {
        "colab": {
          "base_uri": "https://localhost:8080/",
          "height": 114
        },
        "id": "D4pk-G-4Iik8",
        "outputId": "40952695-86bb-4283-b946-805a53154c6e"
      },
      "source": [
        "%%latex\r\n",
        "1.~a_{11},a_{12},a_{13} \\\\[0.8em]\r\n",
        "2.~\r\n",
        "\\begin{pmatrix}\r\n",
        "    a_{11} & 0 & 0 \\\\\r\n",
        "    0 & a_{22} & 0 \\\\\r\n",
        "    0 & 0 & a_{33}\r\n",
        "\\end{pmatrix}, \\quad\r\n",
        "\\begin{pmatrix}\r\n",
        "    a_{11} & 0 & 0 \\\\\r\n",
        "    0 & a_{11} & 0 \\\\\r\n",
        "    0 & 0 & a_{11}\r\n",
        "\\end{pmatrix}, \\quad\r\n",
        "\\begin{pmatrix}\r\n",
        "    a_{11} & a_{12} & a_{13} \\\\\r\n",
        "    0 & a_{22} & a_{23} \\\\\r\n",
        "    0 & 0 & a_{33}\r\n",
        "\\end{pmatrix}~, \\quad\r\n",
        "\\begin{pmatrix}\r\n",
        "    a_{11} & 0 & 0 \\\\\r\n",
        "    a_{21} & a_{22} & 0 \\\\\r\n",
        "    a_{31} & a_{32} & a_{33}\r\n",
        "\\end{pmatrix}"
      ],
      "execution_count": 8,
      "outputs": [
        {
          "output_type": "display_data",
          "data": {
            "text/latex": "1.~a_{11},a_{12},a_{13} \\\\[0.8em]\n2.~\n\\begin{pmatrix}\n    a_{11} & 0 & 0 \\\\\n    0 & a_{22} & 0 \\\\\n    0 & 0 & a_{33}\n\\end{pmatrix}, \\quad\n\\begin{pmatrix}\n    a_{11} & 0 & 0 \\\\\n    0 & a_{11} & 0 \\\\\n    0 & 0 & a_{11}\n\\end{pmatrix}, \\quad\n\\begin{pmatrix}\n    a_{11} & a_{12} & a_{13} \\\\\n    0 & a_{22} & a_{23} \\\\\n    0 & 0 & a_{33}\n\\end{pmatrix}~, \\quad\n\\begin{pmatrix}\n    a_{11} & 0 & 0 \\\\\n    a_{21} & a_{22} & 0 \\\\\n    a_{31} & a_{32} & a_{33}\n\\end{pmatrix}",
            "text/plain": [
              "<IPython.core.display.Latex object>"
            ]
          },
          "metadata": {
            "tags": []
          }
        }
      ]
    },
    {
      "cell_type": "code",
      "metadata": {
        "colab": {
          "base_uri": "https://localhost:8080/",
          "height": 141
        },
        "id": "IrvQddzQKJKL",
        "outputId": "d4ee2e11-9e75-4479-9e0b-d36f7d5713c3"
      },
      "source": [
        "%%latex\r\n",
        "問題 \\\\[0.8em]\r\n",
        "\r\n",
        "クロネッカーのデルタ~\\delta_{ij} \\quad (i,j = 1,2, \\cdots, n)~ について、~i,j=1,2,3~のとき、~\\delta_{ij}~の値を求める。 \\\\[0.8em]\r\n",
        "\r\n",
        "解答 \\\\[0.8em]\r\n",
        "\r\n",
        "\\delta_{11}=\\delta_{22}=\\delta_{33}=1, \\quad\r\n",
        "\r\n",
        "\\delta_{12}=\\delta_{13}=\\delta_{21}=\\delta_{23}=\\delta_{31}=\\delta_{32}=0\r\n"
      ],
      "execution_count": 11,
      "outputs": [
        {
          "output_type": "display_data",
          "data": {
            "text/latex": "問題 \\\\[0.8em]\n\nクロネッカーのデルタ~\\delta_{ij} \\quad (i,j = 1,2, \\cdots, n)~ について、~i,j=1,2,3~のとき、~\\delta_{ij}~の値を求める。 \\\\[0.8em]\n\n解答 \\\\[0.8em]\n\n\\delta_{11}=\\delta_{22}=\\delta_{33}=1, \\quad\n\n\\delta_{12}=\\delta_{13}=\\delta_{21}=\\delta_{23}=\\delta_{31}=\\delta_{32}=0\n\n",
            "text/plain": [
              "<IPython.core.display.Latex object>"
            ]
          },
          "metadata": {
            "tags": []
          }
        }
      ]
    },
    {
      "cell_type": "code",
      "metadata": {
        "colab": {
          "base_uri": "https://localhost:8080/",
          "height": 112
        },
        "id": "etnx3C7QL2ON",
        "outputId": "a3da6fff-0fe1-4f3d-d621-c3f5c651c3f8"
      },
      "source": [
        "%%latex\r\n",
        "問題 \\\\[0.8em]\r\n",
        "\r\n",
        "~3 \\times 2~行列~\r\n",
        "\\begin{pmatrix}\r\n",
        "    5 & 4 \\\\\r\n",
        "    3 & 2 \\\\\r\n",
        "    1 & 0\r\n",
        "\\end{pmatrix}~の転置行列を求める。"
      ],
      "execution_count": 12,
      "outputs": [
        {
          "output_type": "display_data",
          "data": {
            "text/latex": "問題 \\\\[0.8em]\n\n~3 \\times 2~行列~\n\\begin{pmatrix}\n    5 & 4 \\\\\n    3 & 2 \\\\\n    1 & 0\n\\end{pmatrix}",
            "text/plain": [
              "<IPython.core.display.Latex object>"
            ]
          },
          "metadata": {
            "tags": []
          }
        }
      ]
    },
    {
      "cell_type": "code",
      "metadata": {
        "colab": {
          "base_uri": "https://localhost:8080/",
          "height": 185
        },
        "id": "HRCYhcF5Md4S",
        "outputId": "8daaf0d9-2216-4f73-f44d-858adc529b51"
      },
      "source": [
        "from sympy import *\r\n",
        "from IPython.display import Markdown\r\n",
        "init_printing()\r\n",
        "display(Markdown(\"解答\"))\r\n",
        "print()\r\n",
        "display(Matrix([[5,4],[3,2],[1,0]]))\r\n",
        "print()\r\n",
        "display(Matrix([[5,4],[3,2],[1,0]]).T)"
      ],
      "execution_count": 16,
      "outputs": [
        {
          "output_type": "display_data",
          "data": {
            "text/markdown": "解答",
            "text/plain": [
              "<IPython.core.display.Markdown object>"
            ]
          },
          "metadata": {
            "tags": []
          }
        },
        {
          "output_type": "stream",
          "text": [
            "\n"
          ],
          "name": "stdout"
        },
        {
          "output_type": "display_data",
          "data": {
            "text/latex": "$\\displaystyle \\left[\\begin{matrix}5 & 4\\\\3 & 2\\\\1 & 0\\end{matrix}\\right]$",
            "text/plain": [
              "⎡5  4⎤\n",
              "⎢    ⎥\n",
              "⎢3  2⎥\n",
              "⎢    ⎥\n",
              "⎣1  0⎦"
            ]
          },
          "metadata": {
            "tags": []
          }
        },
        {
          "output_type": "stream",
          "text": [
            "\n"
          ],
          "name": "stdout"
        },
        {
          "output_type": "display_data",
          "data": {
            "text/latex": "$\\displaystyle \\left[\\begin{matrix}5 & 3 & 1\\\\4 & 2 & 0\\end{matrix}\\right]$",
            "text/plain": [
              "⎡5  3  1⎤\n",
              "⎢       ⎥\n",
              "⎣4  2  0⎦"
            ]
          },
          "metadata": {
            "tags": []
          }
        }
      ]
    },
    {
      "cell_type": "code",
      "metadata": {
        "id": "m8ihmNU0awx1",
        "outputId": "a1b27930-e6d4-4cb7-bc16-992b970b1c55",
        "colab": {
          "base_uri": "https://localhost:8080/",
          "height": 92
        }
      },
      "source": [
        "%%latex\r\n",
        "問題 \\\\[0.8em]\r\n",
        "\\begin{pmatrix}\r\n",
        "    a^2+b^2 & ab + bc \\\\\r\n",
        "    ab + bc & b^2 + c^2\r\n",
        "\\end{pmatrix}\r\n",
        "=\r\n",
        "\\begin{pmatrix}\r\n",
        "    1 & 0 \\\\\r\n",
        "    0 &  4\r\n",
        "\\end{pmatrix}"
      ],
      "execution_count": 18,
      "outputs": [
        {
          "output_type": "display_data",
          "data": {
            "text/latex": "問題 \\\\[0.8em]\n\\begin{pmatrix}\n    a^2+b^2 & ab + bc \\\\\n    ab + bc & b^2 + c^2\n\\end{pmatrix}\n=\n\\begin{pmatrix}\n    1 & 0 \\\\\n    0 &  4\n\\end{pmatrix}",
            "text/plain": [
              "<IPython.core.display.Latex object>"
            ]
          },
          "metadata": {
            "tags": []
          }
        }
      ]
    },
    {
      "cell_type": "code",
      "metadata": {
        "id": "yK3vbJTabodS",
        "outputId": "fdeb7a63-bcfa-4851-d71f-d3c80ede426b",
        "colab": {
          "base_uri": "https://localhost:8080/",
          "height": 240
        }
      },
      "source": [
        "from sympy import *\r\n",
        "from IPython.display import Markdown\r\n",
        "init_printing()\r\n",
        "display(Markdown(\"問題\"))\r\n",
        "a,b,c = symbols('a,b,c')\r\n",
        "A = Matrix([[a**2+b**2, a*b+b*c],[a*b+b*c, b**2+c**2]])\r\n",
        "display(A)\r\n",
        "B = Matrix([[1,0],[0,4]])\r\n",
        "display(B)\r\n",
        "display(Eq(A,B))\r\n",
        "display(Markdown(\"解答\"))\r\n",
        "display(solve((A-B),a,b,c))\r\n",
        "display(solve((A-B)))"
      ],
      "execution_count": 31,
      "outputs": [
        {
          "output_type": "display_data",
          "data": {
            "text/markdown": "問題",
            "text/plain": [
              "<IPython.core.display.Markdown object>"
            ]
          },
          "metadata": {
            "tags": []
          }
        },
        {
          "output_type": "display_data",
          "data": {
            "text/latex": "$\\displaystyle \\left[\\begin{matrix}a^{2} + b^{2} & a b + b c\\\\a b + b c & b^{2} + c^{2}\\end{matrix}\\right]$",
            "text/plain": [
              "⎡  2    2            ⎤\n",
              "⎢ a  + b    a⋅b + b⋅c⎥\n",
              "⎢                    ⎥\n",
              "⎢             2    2 ⎥\n",
              "⎣a⋅b + b⋅c   b  + c  ⎦"
            ]
          },
          "metadata": {
            "tags": []
          }
        },
        {
          "output_type": "display_data",
          "data": {
            "text/latex": "$\\displaystyle \\left[\\begin{matrix}1 & 0\\\\0 & 4\\end{matrix}\\right]$",
            "text/plain": [
              "⎡1  0⎤\n",
              "⎢    ⎥\n",
              "⎣0  4⎦"
            ]
          },
          "metadata": {
            "tags": []
          }
        },
        {
          "output_type": "display_data",
          "data": {
            "text/latex": "$\\displaystyle \\left[\\begin{matrix}a^{2} + b^{2} & a b + b c\\\\a b + b c & b^{2} + c^{2}\\end{matrix}\\right] = \\left[\\begin{matrix}1 & 0\\\\0 & 4\\end{matrix}\\right]$",
            "text/plain": [
              "⎡  2    2            ⎤         \n",
              "⎢ a  + b    a⋅b + b⋅c⎥   ⎡1  0⎤\n",
              "⎢                    ⎥ = ⎢    ⎥\n",
              "⎢             2    2 ⎥   ⎣0  4⎦\n",
              "⎣a⋅b + b⋅c   b  + c  ⎦         "
            ]
          },
          "metadata": {
            "tags": []
          }
        },
        {
          "output_type": "display_data",
          "data": {
            "text/markdown": "解答",
            "text/plain": [
              "<IPython.core.display.Markdown object>"
            ]
          },
          "metadata": {
            "tags": []
          }
        },
        {
          "output_type": "display_data",
          "data": {
            "image/png": "[encoded data removed]",
            "text/latex": "$\\displaystyle \\left[ \\left( -1, \\  0, \\  -2\\right), \\  \\left( -1, \\  0, \\  2\\right), \\  \\left( 1, \\  0, \\  -2\\right), \\  \\left( 1, \\  0, \\  2\\right)\\right]$",
            "text/plain": [
              "[(-1, 0, -2), (-1, 0, 2), (1, 0, -2), (1, 0, 2)]"
            ]
          },
          "metadata": {
            "tags": []
          }
        },
        {
          "output_type": "display_data",
          "data": {
            "image/png": "[encoded data removed]",
            "text/latex": "$\\displaystyle \\left[ \\left\\{ a : -1, \\  b : 0, \\  c : -2\\right\\}, \\  \\left\\{ a : -1, \\  b : 0, \\  c : 2\\right\\}, \\  \\left\\{ a : 1, \\  b : 0, \\  c : -2\\right\\}, \\  \\left\\{ a : 1, \\  b : 0, \\  c : 2\\right\\}\\right]$",
            "text/plain": [
              "[{a: -1, b: 0, c: -2}, {a: -1, b: 0, c: 2}, {a: 1, b: 0, c: -2}, {a: 1, b: 0, \n",
              "c: 2}]"
            ]
          },
          "metadata": {
            "tags": []
          }
        }
      ]
    },
    {
      "cell_type": "code",
      "metadata": {
        "id": "huB4rVGbdjkm",
        "outputId": "e1339c4e-a489-4716-ffb2-d32873d50542",
        "colab": {
          "base_uri": "https://localhost:8080/",
          "height": 46
        }
      },
      "source": [
        "from sympy import *\r\n",
        "from IPython.display import Markdown\r\n",
        "init_printing()\r\n",
        "display(Markdown(\"問題\"))\r\n",
        "a,b,c = symbols('a,b,c')\r\n",
        "A = Matrix([[a**2+b**2, a*b+b*c],[a*b+b*c, b**2+c**2],[]])"
      ],
      "execution_count": 32,
      "outputs": [
        {
          "output_type": "display_data",
          "data": {
            "text/markdown": "問題",
            "text/plain": [
              "<IPython.core.display.Markdown object>"
            ]
          },
          "metadata": {
            "tags": []
          }
        }
      ]
    },
    {
      "cell_type": "markdown",
      "metadata": {
        "id": "7cgkRHpRignZ"
      },
      "source": [
        "# いまここ p.10"
      ]
    }
  ]
}