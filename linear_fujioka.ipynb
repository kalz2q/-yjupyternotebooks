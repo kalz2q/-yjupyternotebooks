{
  "nbformat": 4,
  "nbformat_minor": 0,
  "metadata": {
    "colab": {
      "name": "linear_fujioka.ipynb",
      "provenance": [],
      "toc_visible": true,
      "authorship_tag": "ABX9TyPnhq6gD9zlLU1+MyCI1o5F",
      "include_colab_link": true
    },
    "kernelspec": {
      "name": "python3",
      "display_name": "Python 3"
    }
  },
  "cells": [
    {
      "cell_type": "markdown",
      "metadata": {
        "id": "view-in-github",
        "colab_type": "text"
      },
      "source": [
        "<a href=\"https://colab.research.google.com/github/kalz2q/mycolabnotebooks/blob/master/linear_fujioka.ipynb\" target=\"_parent\"><img src=\"https://colab.research.google.com/assets/colab-badge.svg\" alt=\"Open In Colab\"/></a>"
      ]
    },
    {
      "cell_type": "markdown",
      "metadata": {
        "id": "ujBvf3c5FiYT"
      },
      "source": [
        "# メモ\r\n",
        "\r\n",
        "手を動かしてまなぶ 線形代数 藤岡敦\r\n",
        "\r\n",
        "を読む。\r\n",
        "\r\n",
        "http://www.shokabo.co.jp/\r\n",
        "\r\n",
        "に詳細な解答があるって。"
      ]
    },
    {
      "cell_type": "code",
      "metadata": {
        "colab": {
          "base_uri": "https://localhost:8080/",
          "height": 177
        },
        "id": "lwSLe2bMF_QF",
        "outputId": "ce41903d-aa24-4b1c-d8a5-722c41e7db04"
      },
      "source": [
        "# 行列 p.2\r\n",
        "%%latex\r\n",
        "\\displaystyle\r\n",
        "\\bullet~~行列とは数を長方形状に並べたものである。\\\\\r\n",
        "\\bullet~すべての成分が~0~の行列を零行列という。\\\\\r\n",
        "\\bullet~行と列の個数が等しい行列を正方行列という。\\\\\r\n",
        "\\bullet~特別な正方行列として、単位行列、対角行列、スカラー行列、上三角行列、下三角行列があげられる。\\\\\r\n",
        "\\bullet~単位行列はクロネッカーのデルタを用いて、簡単に表すことができる。\\\\\r\n",
        "\\bullet~転置をとっても変わらない正方行列を対称行列という。\\\\\r\n",
        "\\bullet~行ベクトル、列ベクトルをあわせて数ベクトルという。\\\\\r\n",
        "\\bullet~すべての成分が~0~の数ベクトルを零ベクトルという。\\\\"
      ],
      "execution_count": null,
      "outputs": [
        {
          "output_type": "display_data",
          "data": {
            "text/latex": "\\displaystyle\n\\bullet~~行列とは数を長方形状に並べたものである。\\\\\n\\bullet~すべての成分が~0~の行列を零行列という。\\\\\n\\bullet~行と列の個数が等しい行列を正方行列という。\\\\\n\\bullet~特別な正方行列として、単位行列、対角行列、スカラー行列、上三角行列、下三角行列があげられる。\\\\\n\\bullet~単位行列はクロネッカーのデルタを用いて、簡単に表すことができる。\\\\\n\\bullet~転置をとっても変わらない正方行列を対称行列という。\\\\\n\\bullet~行ベクトル、列ベクトルをあわせて数ベクトルという。\\\\\n\\bullet~すべての成分が~0~の数ベクトルを零ベクトルという。\\\\",
            "text/plain": [
              "<IPython.core.display.Latex object>"
            ]
          },
          "metadata": {
            "tags": []
          }
        }
      ]
    },
    {
      "cell_type": "code",
      "metadata": {
        "colab": {
          "base_uri": "https://localhost:8080/",
          "height": 241
        },
        "id": "HZifWg5xISWU",
        "outputId": "a137bed0-7206-4236-b539-563b719275bc"
      },
      "source": [
        "%%latex\r\n",
        "自然数~i=1,2,\\cdots,m~および~j=1,2,\\cdots,n~に対して、数~a_{ij}~が対応しているとする。 \\\\\r\n",
        "このとき、mn~個の数~a_{11},a_{12},\\cdots,a_{mn}~を丸括弧 ~(~)~や角括弧~[~]~を用いて長方形状に\\\\[0.8em]\r\n",
        "\\begin{pmatrix}\r\n",
        "    a_{11} & a_{12} & \\ldots & a_{1n} \\\\\r\n",
        "    a_{21} & a_{22} & \\ldots & a_{2n} \\\\\r\n",
        "    \\vdots & \\vdots & \\ddots & \\vdots \\\\\r\n",
        "    a_{m1} & a_{m2} & \\ldots & a_{mn}\r\n",
        "\\end{pmatrix}, \\quad\r\n",
        "\\begin{bmatrix}\r\n",
        "    a_{11} & a_{12} & \\ldots & a_{1n} \\\\\r\n",
        "    a_{21} & a_{22} & \\ldots & a_{2n} \\\\\r\n",
        "    \\vdots & \\vdots & \\ddots & \\vdots \\\\\r\n",
        "    a_{m1} & a_{m2} & \\ldots & a_{mn}\r\n",
        "\\end{bmatrix} \\\\[0.8em]\r\n",
        "と並べたものを~m \\times n~ 行列または~m~行~n~列の行列という。\\\\[1em]\r\n",
        "\r\n",
        "a_{ij}の~i~や~j~を添字(そえじ)という。\r\n"
      ],
      "execution_count": null,
      "outputs": [
        {
          "output_type": "display_data",
          "data": {
            "text/latex": "自然数~i=1,2,\\cdots,m~および~j=1,2,\\cdots,n~に対して、数~a_{ij}~が対応しているとする。 \\\\\nこのとき、mn~個の数~a_{11},a_{12},\\cdots,a_{mn}~を丸括弧 ~(~)~や角括弧~[~]~を用いて長方形状に\\\\[0.8em]\n\\begin{pmatrix}\n    a_{11} & a_{12} & \\ldots & a_{1n} \\\\\n    a_{21} & a_{22} & \\ldots & a_{2n} \\\\\n    \\vdots & \\vdots & \\ddots & \\vdots \\\\\n    a_{m1} & a_{m2} & \\ldots & a_{mn}\n\\end{pmatrix}, \\quad\n\\begin{bmatrix}\n    a_{11} & a_{12} & \\ldots & a_{1n} \\\\\n    a_{21} & a_{22} & \\ldots & a_{2n} \\\\\n    \\vdots & \\vdots & \\ddots & \\vdots \\\\\n    a_{m1} & a_{m2} & \\ldots & a_{mn}\n\\end{bmatrix} \\\\[0.8em]\nと並べたものを~m \\times n~ 行列または~m~行~n~列の行列という。\\\\[1em]\n\na_{ij}の~i~や~j~を添字(そえじ)という。",
            "text/plain": [
              "<IPython.core.display.Latex object>"
            ]
          },
          "metadata": {
            "tags": []
          }
        }
      ]
    },
    {
      "cell_type": "code",
      "metadata": {
        "id": "rN67qBN3nPnM",
        "colab": {
          "base_uri": "https://localhost:8080/",
          "height": 92
        },
        "outputId": "a1e8d368-ac93-4150-cd8c-1695de2ce218"
      },
      "source": [
        "%%latex\r\n",
        "例\\\\[0.8em]\r\n",
        "行列~\r\n",
        "\\begin{pmatrix}\r\n",
        "    1 & 2 & 3 \\\\\r\n",
        "    4 & 5 & 6\r\n",
        "\\end{pmatrix}\r\n",
        "~は~2 \\times 3~ 行列である。"
      ],
      "execution_count": null,
      "outputs": [
        {
          "output_type": "display_data",
          "data": {
            "text/latex": "例\\\\[0.8em]\n行列~\n\\begin{pmatrix}\n    1 & 2 & 3 \\\\\n    4 & 5 & 6\n\\end{pmatrix}\n~は~2 \\times 3~ 行列である。",
            "text/plain": [
              "<IPython.core.display.Latex object>"
            ]
          },
          "metadata": {
            "tags": []
          }
        }
      ]
    },
    {
      "cell_type": "code",
      "metadata": {
        "colab": {
          "base_uri": "https://localhost:8080/",
          "height": 238
        },
        "id": "q9uNR1fjn9nN",
        "outputId": "eeb9e3db-b816-450b-e239-741c41cf256f"
      },
      "source": [
        "%%latex\r\n",
        "行列~A~について\\\\[0.8em]\r\n",
        "A = (a_{ij})\\\\[0.8em]\r\n",
        "と書く。\\\\\r\n",
        "\r\n",
        "a_{ij},\\quad\r\n",
        "(a_{i1}~ a_{i2}~ \\cdots ~a_{in}),\\quad\r\n",
        "\\begin{pmatrix}\r\n",
        "    a_{1j} \\\\\r\n",
        "    a_{2j} \\\\\r\n",
        "    a_{2j} \\\\\r\n",
        "    a_{mj} \r\n",
        "\\end{pmatrix}\\\\[0.8em]\r\n",
        "\r\n",
        "を~A~の~(i,j)~成分、第~i~行、第~j~列という。\\\\[0.8em]\r\n",
        "\r\n",
        "\r\n"
      ],
      "execution_count": null,
      "outputs": [
        {
          "output_type": "display_data",
          "data": {
            "text/latex": "行列~A~について\\\\[0.8em]\nA = (a_{ij})\\\\[0.8em]\nと書く。\\\\\n\na_{ij},\\quad\n(a_{i1}~ a_{i2}~ \\cdots ~a_{in}),\\quad\n\\begin{pmatrix}\n    a_{1j} \\\\\n    a_{2j} \\\\\n    a_{2j} \\\\\n    a_{mj} \n\\end{pmatrix}\\\\[0.8em]\n\nを~A~の~(i,j)~成分、第~i~行、第~j~列という。\\\\[0.8em]\n\n",
            "text/plain": [
              "<IPython.core.display.Latex object>"
            ]
          },
          "metadata": {
            "tags": []
          }
        }
      ]
    },
    {
      "cell_type": "code",
      "metadata": {
        "colab": {
          "base_uri": "https://localhost:8080/",
          "height": 202
        },
        "id": "WbBcxf_Jqmcf",
        "outputId": "81c62c39-49cb-4082-ecac-068e1a380c09"
      },
      "source": [
        "%%latex\r\n",
        "~A=(a_{ij})_{m \\times n}~を~m \\times n~行列、 B=(b_{kl})_{p \\times q}~を~p \\times q~行列とする。\\\\\r\n",
        "~A~と~B~が同じ型で、対応する成分が等しいとき、すなわち、~m=p~かつ~n=q~で、\\\\\r\n",
        "任意の~i=1,2,\\cdots,m~および~j=1,2,\\cdots,n~にたいして~a_{ij}=b_{ij}~がなりたつとき\\\\[0.8em]\r\n",
        "\r\n",
        "\\quad \\quad \\quad \\quad A = B \\\\[0.8em]\r\n",
        "\r\n",
        "と記し、A~と~B~は等しい、という。A = B~でないときは\\\\[0.8em]\r\n",
        "\r\n",
        "\\quad \\quad \\quad \\quad A \\neq B \\\\[0.8em]\r\n"
      ],
      "execution_count": null,
      "outputs": [
        {
          "output_type": "display_data",
          "data": {
            "text/latex": "~A=(a_{ij})_{m \\times n}~を~m \\times n~行列、 B=(b_{kl})_{p \\times q}~を~p \\times q~行列とする。\\\\\n~A~と~B~が同じ型で、対応する成分が等しいとき、すなわち、~m=p~かつ~n=q~で、\\\\\n任意の~i=1,2,\\cdots,m~および~j=1,2,\\cdots,n~にたいして~a_{ij}=b_{ij}~がなりたつとき\\\\[0.8em]\n\n\\quad \\quad \\quad \\quad A = B \\\\[0.8em]\n\nと記し、A~と~B~は等しい、という。A = B~でないときは\\\\[0.8em]\n\n\\quad \\quad \\quad \\quad A \\neq B \\\\[0.8em]",
            "text/plain": [
              "<IPython.core.display.Latex object>"
            ]
          },
          "metadata": {
            "tags": []
          }
        }
      ]
    },
    {
      "cell_type": "code",
      "metadata": {
        "colab": {
          "base_uri": "https://localhost:8080/",
          "height": 115
        },
        "id": "_rBJf1hasyRw",
        "outputId": "55043da6-14ca-4bf8-adcb-a42742f09634"
      },
      "source": [
        "%%latex\r\n",
        "\\begin{array}{rcl}\r\n",
        "\\begin{pmatrix}\r\n",
        "    a & b & c \\\\\r\n",
        "    d & e & f\r\n",
        "\\end{pmatrix} &=&\r\n",
        "\\begin{pmatrix}\r\n",
        "    p & q & r \\\\\r\n",
        "    s & t & u\r\n",
        "\\end{pmatrix} \\\\[0.8em]\r\n",
        "\r\n",
        "&\\Updownarrow& \\\\[0.8em]\r\n",
        "\r\n",
        "a = p,\\quad  b = q,\\quad  c = r&,& d = s,\\quad  e = t,\\quad  f = u\r\n",
        "\\end{array} \\\\\r\n"
      ],
      "execution_count": null,
      "outputs": [
        {
          "output_type": "display_data",
          "data": {
            "text/latex": "\\begin{array}{rcl}\n\\begin{pmatrix}\n    a & b & c \\\\\n    d & e & f\n\\end{pmatrix} &=&\n\\begin{pmatrix}\n    p & q & r \\\\\n    s & t & u\n\\end{pmatrix} \\\\[0.8em]\n\n&\\Updownarrow& \\\\[0.8em]\n\na = p,\\quad  b = q,\\quad  c = r&,& d = s,\\quad  e = t,\\quad  f = u\n\\end{array} \\\\",
            "text/plain": [
              "<IPython.core.display.Latex object>"
            ]
          },
          "metadata": {
            "tags": []
          }
        }
      ]
    },
    {
      "cell_type": "code",
      "metadata": {
        "colab": {
          "base_uri": "https://localhost:8080/",
          "height": 147
        },
        "id": "5VbsbwnZvvPF",
        "outputId": "59d1d1f2-e89a-4fb4-ea02-3e83f817ccaf"
      },
      "source": [
        "%%latex\r\n",
        "すべての成分が~0~の~m \\times n~行列を~O_{m,n}~または~O~と書き、零行列という。\r\n",
        "\\\\[0.8em]\r\n",
        "\\quad \\quad \\quad \\quad \r\n",
        "O_{3,2} =\r\n",
        "\\begin{pmatrix}\r\n",
        "    0 & 0 \\\\\r\n",
        "    0 & 0 \\\\\r\n",
        "    0 & 0 \r\n",
        "\\end{pmatrix}\r\n",
        "\\\\[0.8em]\r\n",
        "2~列、~3~行"
      ],
      "execution_count": null,
      "outputs": [
        {
          "output_type": "display_data",
          "data": {
            "text/latex": "すべての成分が~0~の~m \\times n~行列を~O_{m,n}~または~O~と書き、零行列という。\n\\\\[0.8em]\n\\quad \\quad \\quad \\quad \nO_{3,2} =\n\\begin{pmatrix}\n    0 & 0 \\\\\n    0 & 0 \\\\\n    0 & 0 \n\\end{pmatrix}\n\\\\[0.8em]\n2~列、~3~行",
            "text/plain": [
              "<IPython.core.display.Latex object>"
            ]
          },
          "metadata": {
            "tags": []
          }
        }
      ]
    },
    {
      "cell_type": "code",
      "metadata": {
        "id": "5hbyzh-3ypI0",
        "colab": {
          "base_uri": "https://localhost:8080/",
          "height": 39
        },
        "outputId": "953bdc83-1c8f-41fe-d3da-efcfbd44f6b6"
      },
      "source": [
        "%%latex\r\n",
        "一般に、2~つの命題~P,~Q~に対して、P~ならば~Q~であることを~P \\Longrightarrow Q~と表し、P~と~Q~が同値であることを\r\n",
        "~P \\Longleftrightarrow Q~と表す。"
      ],
      "execution_count": null,
      "outputs": [
        {
          "output_type": "display_data",
          "data": {
            "text/latex": "一般に、2~つの命題~P,~Q~に対して、P~ならば~Q~であることを~P \\Longrightarrow Q~と表し、P~と~Q~が同値であることを\n~P \\Longleftrightarrow Q~と表す。",
            "text/plain": [
              "<IPython.core.display.Latex object>"
            ]
          },
          "metadata": {
            "tags": []
          }
        }
      ]
    },
    {
      "cell_type": "code",
      "metadata": {
        "id": "WodYhHDczMDw",
        "colab": {
          "base_uri": "https://localhost:8080/",
          "height": 379
        },
        "outputId": "4df40dfb-995c-4b4d-f287-b0bd7172494e"
      },
      "source": [
        "%%latex\r\n",
        "A = (a_{ij})_{n \\times n}~を~n \\times n~ 行列とするとき、A~を~n~次の正方行列という。\\\\\r\n",
        "成分~a_{11}, a_{22}, \\cdots a_{nn}~を~A~の対角成分という。\\\\[0.8em]\r\n",
        "\r\n",
        "正方行列 ~A~が\\\\[0.8em]\r\n",
        "\r\n",
        "\\quad \\quad \\quad \\quad a_{ij} = 0 \\quad (i \\neq j) \\\\[0.8em]\r\n",
        "\r\n",
        "を満たすとき、A~を対角行列という。 正方行列~A~が\\\\[0.8em]\r\n",
        "\r\n",
        "\\quad \\quad \\quad \\quad a_{ij} = 0 \\quad (i \\neq j), \\quad a_{11} = a_{22} = \\cdots = a_{nn} \\\\[0.8em]\r\n",
        "\r\n",
        "を満たすとき、A~をスカラー行列という。 正方行列~A~が\\\\[0.8em]\r\n",
        "\r\n",
        "\\quad \\quad \\quad \\quad a_{ij} = 0 \\quad (i > j) \\\\[0.8em]\r\n",
        "\r\n",
        "を満たすとき、A~を上三角行列という。 正方行列~A~が\\\\[0.8em]\r\n",
        "\r\n",
        "\\quad \\quad \\quad \\quad a_{ij} = 0 \\quad (i < j) \\\\[0.8em]\r\n",
        "\r\n",
        "を満たすとき、A~を下三角行列という。 "
      ],
      "execution_count": 59,
      "outputs": [
        {
          "output_type": "display_data",
          "data": {
            "text/latex": "A = (a_{ij})_{n \\times n}~を~n \\times n~ 行列とするとき、A~を~n~次の正方行列という。\\\\\n成分~a_{11}, a_{22}, \\cdots a_{nn}~を~A~の対角成分という。\\\\[0.8em]\n\n正方行列 ~A~が\\\\[0.8em]\n\n\\quad \\quad \\quad \\quad a_{ij} = 0 \\quad (i \\neq j) \\\\[0.8em]\n\nを満たすとき、A~を対角行列という。 正方行列~A~が\\\\[0.8em]\n\n\\quad \\quad \\quad \\quad a_{ij} = 0 \\quad (i \\neq j), \\quad a_{11} = a_{22} = \\cdots = a_{nn} \\\\[0.8em]\n\nを満たすとき、A~をスカラー行列という。 正方行列~A~が\\\\[0.8em]\n\n\\quad \\quad \\quad \\quad a_{ij} = 0 \\quad (i > j) \\\\[0.8em]\n\nを満たすとき、A~を上三角行列という。 正方行列~A~が\\\\[0.8em]\n\n\\quad \\quad \\quad \\quad a_{ij} = 0 \\quad (i < j) \\\\[0.8em]\n\nを満たすとき、A~を下三角行列という。 ",
            "text/plain": [
              "<IPython.core.display.Latex object>"
            ]
          },
          "metadata": {
            "tags": []
          }
        }
      ]
    },
    {
      "cell_type": "code",
      "metadata": {
        "id": "XHhVVxty9zMy",
        "outputId": "5bd24bff-e8bf-42d7-b60c-e09e6ae00570",
        "colab": {
          "base_uri": "https://localhost:8080/",
          "height": 203
        }
      },
      "source": [
        "%%latex\r\n",
        "2~次の正方行列\r\n",
        "~A~ = \r\n",
        "\\begin{pmatrix}\r\n",
        "    a & b \\\\\r\n",
        "    c & d\r\n",
        "\\end{pmatrix}\r\n",
        "~とする。\\\\[0.8em]\r\n",
        "\r\n",
        "A~の対角成分は~\r\n",
        "\\begin{pmatrix}\r\n",
        "    a & 0 \\\\\r\n",
        "    0 & d\r\n",
        "\\end{pmatrix}\\\\[0.8em]\r\n",
        "\r\n",
        "A~が対角行列、上三角行列、下三角行列となるときそれぞれ\\\\[0.8em]\r\n",
        "\r\n",
        "\\begin{pmatrix}\r\n",
        "    a & 0 \\\\\r\n",
        "    0 & a\r\n",
        "\\end{pmatrix}, \\quad\r\n",
        "\r\n",
        "\\begin{pmatrix}\r\n",
        "    a & b \\\\\r\n",
        "    0 & d\r\n",
        "\\end{pmatrix}, \\quad\r\n",
        "\r\n",
        "\\begin{pmatrix}\r\n",
        "    a & 0 \\\\\r\n",
        "    c & d\r\n",
        "\\end{pmatrix}"
      ],
      "execution_count": 63,
      "outputs": [
        {
          "output_type": "display_data",
          "data": {
            "text/latex": "2~次の正方行列\n~A~ = \n\\begin{pmatrix}\n    a & b \\\\\n    c & d\n\\end{pmatrix}\n~とする。\\\\[0.8em]\n\nA~の対角成分は~\n\\begin{pmatrix}\n    a & 0 \\\\\n    0 & d\n\\end{pmatrix}\\\\[0.8em]\n\nA~が対角行列、上三角行列、下三角行列となるときそれぞれ\\\\[0.8em]\n\n\\begin{pmatrix}\n    a & 0 \\\\\n    0 & a\n\\end{pmatrix}, \\quad\n\n\\begin{pmatrix}\n    a & b \\\\\n    0 & d\n\\end{pmatrix}, \\quad\n\n\\begin{pmatrix}\n    a & 0 \\\\\n    c & d\n\\end{pmatrix}",
            "text/plain": [
              "<IPython.core.display.Latex object>"
            ]
          },
          "metadata": {
            "tags": []
          }
        }
      ]
    },
    {
      "cell_type": "markdown",
      "metadata": {
        "id": "pn6xC2tr1bat"
      },
      "source": [
        "# いまここ p.6"
      ]
    },
    {
      "cell_type": "code",
      "metadata": {
        "id": "eQasAnsI_AIR"
      },
      "source": [
        "%%latex"
      ],
      "execution_count": null,
      "outputs": []
    }
  ]
}