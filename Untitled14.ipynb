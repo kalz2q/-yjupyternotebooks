{
  "nbformat": 4,
  "nbformat_minor": 0,
  "metadata": {
    "colab": {
      "name": "Untitled14.ipynb",
      "provenance": [],
      "authorship_tag": "ABX9TyNppGP6nkO217fV7sStzpaQ",
      "include_colab_link": true
    },
    "kernelspec": {
      "name": "python3",
      "display_name": "Python 3"
    }
  },
  "cells": [
    {
      "cell_type": "markdown",
      "metadata": {
        "id": "view-in-github",
        "colab_type": "text"
      },
      "source": [
        "<a href=\"https://colab.research.google.com/github/kalz2q/mycolabnotebooks/blob/master/Untitled14.ipynb\" target=\"_parent\"><img src=\"https://colab.research.google.com/assets/colab-badge.svg\" alt=\"Open In Colab\"/></a>"
      ]
    },
    {
      "cell_type": "code",
      "metadata": {
        "id": "gmuidhcaKFWQ"
      },
      "source": [
        ""
      ],
      "execution_count": null,
      "outputs": []
    },
    {
      "cell_type": "markdown",
      "metadata": {
        "id": "81fU3lFkKGSv"
      },
      "source": [
        "# メモ\r\n",
        "\r\n",
        "線形代数学 堀内龍太郎，浦部治一郎 学術図書出版社\r\n",
        "\r\n",
        "を読む。"
      ]
    },
    {
      "cell_type": "code",
      "metadata": {
        "colab": {
          "base_uri": "https://localhost:8080/",
          "height": 115
        },
        "id": "bRm4Bh2kLj8h",
        "outputId": "4df39b6f-efb9-4dac-b804-8a2605f259c4"
      },
      "source": [
        "%%latex\r\n",
        "すべての~n~次元の実数ベクトルがつくる集合を~R^n~で表す。 \\\\\r\n",
        "この集合の要素には~2~つの演算; 和とスカラー倍が定義される。\\\\[0.8em]\r\n",
        "\r\n",
        "\\bm{u,v,w} \\in R^n~と~λ,μ \\in R~に対し次が成り立つ。\\\\\r\n",
        "1.~任意の~\\bm{u,v}"
      ],
      "execution_count": 9,
      "outputs": [
        {
          "output_type": "display_data",
          "data": {
            "text/latex": "すべての~n~次元の実数ベクトルがつくる集合を~R^n~で表す。 \\\\\nこの集合の要素には~2~つの演算; 和とスカラー倍が定義される。\\\\[0.8em]\n\n\\bm{u,v,w} \\in R^n~と~λ,μ \\in R~に対し次が成り立つ。\\\\\n1.~任意の~\\bm{u,v}",
            "text/plain": [
              "<IPython.core.display.Latex object>"
            ]
          },
          "metadata": {
            "tags": []
          }
        }
      ]
    }
  ]
}