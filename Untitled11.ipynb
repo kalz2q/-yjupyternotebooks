{
  "nbformat": 4,
  "nbformat_minor": 0,
  "metadata": {
    "colab": {
      "name": "Untitled11.ipynb",
      "provenance": [],
      "authorship_tag": "ABX9TyNvc3fdJsR0CkWMQbGI//cA",
      "include_colab_link": true
    },
    "kernelspec": {
      "name": "python3",
      "display_name": "Python 3"
    }
  },
  "cells": [
    {
      "cell_type": "markdown",
      "metadata": {
        "id": "view-in-github",
        "colab_type": "text"
      },
      "source": [
        "<a href=\"https://colab.research.google.com/github/kalz2q/mycolabnotebooks/blob/master/Untitled11.ipynb\" target=\"_parent\"><img src=\"https://colab.research.google.com/assets/colab-badge.svg\" alt=\"Open In Colab\"/></a>"
      ]
    },
    {
      "cell_type": "markdown",
      "metadata": {
        "id": "vRAdpyUAm-JE"
      },
      "source": [
        "# メモ\n",
        "1. learncpp.ipynb の続き。\n",
        "1. Colab で開かれて読まれることを想定している。\n",
        "1. ゼロから学ぶC++ (book形式) https://rinatz.github.io/cpp-book/ch01-02-hello-world/ を Colab 化しながら勉強していて、learncpp.ipynb が1万行を越えたのと、難しくなってきたのでファイルを分ける。\n",
        "1. learncpp02.ipynb として、代入演算子以降を対象とする。\n"
      ]
    },
    {
      "cell_type": "markdown",
      "metadata": {
        "id": "uK1U1tmMnpoY"
      },
      "source": [
        "# 代入演算子 assignment operator"
      ]
    }
  ]
}