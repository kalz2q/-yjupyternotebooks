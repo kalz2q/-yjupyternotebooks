{
  "nbformat": 4,
  "nbformat_minor": 0,
  "metadata": {
    "colab": {
      "name": "sympy_category.ipynb",
      "provenance": [],
      "authorship_tag": "ABX9TyMpUWpIjbBKR1CJi0KzKRvZ",
      "include_colab_link": true
    },
    "kernelspec": {
      "name": "python3",
      "display_name": "Python 3"
    },
    "language_info": {
      "name": "python"
    }
  },
  "cells": [
    {
      "cell_type": "markdown",
      "metadata": {
        "id": "view-in-github",
        "colab_type": "text"
      },
      "source": [
        "<a href=\"https://colab.research.google.com/github/kalz2q/mycolabnotebooks/blob/master/sympy_category.ipynb\" target=\"_parent\"><img src=\"https://colab.research.google.com/assets/colab-badge.svg\" alt=\"Open In Colab\"/></a>"
      ]
    },
    {
      "cell_type": "markdown",
      "metadata": {
        "id": "Za52w0zhzLEh"
      },
      "source": [
        "# メモ\n",
        "\n",
        "sympy document の category theory のところ\n",
        "\n",
        "https://docs.sympy.org/latest/modules/categories.html\n",
        "\n",
        "をやってみる。 手を動かしてみる。\n",
        "\n",
        "理論は\n",
        "\n",
        "category_sasigohayato.ipynb\n",
        "\n",
        "で本を読んでいます。\n"
      ]
    },
    {
      "cell_type": "markdown",
      "metadata": {
        "id": "v6hS44XazziT"
      },
      "source": [
        "# 用語\n",
        "\n",
        "* 圏 category\n",
        "* 対象 object\n",
        "* 射 arrow, morphism\n",
        "\n",
        "* 域 domain\n",
        "* 余域 codomain \n",
        "\n",
        "メモ $\\quad$ 集合のドメインとか補集合のようなものではないので注意"
      ]
    },
    {
      "cell_type": "markdown",
      "metadata": {
        "id": "bMkJ7jvd0GOP"
      },
      "source": [
        "どんな射に対しても、域 (domain) と呼ばれる対象と余域 (codomain) と呼ばれる対象とがただ 1つ存在する。\n",
        "\n",
        "射 $f$ の域が $A$、余域が $B$ であることを\n",
        "\n",
        "$ \\quad \\quad B \\overset{f}{\\longleftarrow} A $\n",
        "\n",
        "と書き、$f$ は $A$ から $B$ への射である、と言う。  また射 $f$ の域を $ \\mathrm{dom}(f)$、余域を $\\mathrm{cod}(f)$ と記す。\n",
        "\n",
        "メモ $\\quad$ なぜ右から左への矢印なのか。"
      ]
    },
    {
      "cell_type": "code",
      "metadata": {
        "id": "gI0B_uGbiXQZ",
        "outputId": "5f1deeea-2a90-4458-b828-b54b7832ef17",
        "colab": {
          "base_uri": "https://localhost:8080/",
          "height": 46
        }
      },
      "source": [
        "%%latex\n",
        "B \\overset{f}{\\longleftarrow} A"
      ],
      "execution_count": 2,
      "outputs": [
        {
          "output_type": "display_data",
          "data": {
            "text/latex": "\\displaystyle\nB \\overset{f}{\\longleftarrow} A",
            "text/plain": [
              "<IPython.core.display.Latex object>"
            ]
          },
          "metadata": {
            "tags": []
          }
        }
      ]
    },
    {
      "cell_type": "markdown",
      "metadata": {
        "id": "HqD5BqnKCZhB"
      },
      "source": [
        "**定義 2.2**\n",
        "\n",
        "射 $f,g$ について、$\\mathrm{cod}(f) = \\mathrm{dom}(g)$ であるなら、$f,g$ の合成 (composition) と呼ばれる $\\mathrm{dom}(f)$ から $\\mathrm{cod}(g)$ への射が一意に存在する。 これを $g \\circ f$ と書く。\n",
        "\n",
        "$ \\quad \\quad C \\overset{g \\circ f}{\\longleftarrow} A $\n",
        "\n",
        "$ \\quad \\quad C \\overset{g}{\\longleftarrow} B  \\overset{f}{\\longleftarrow} A$"
      ]
    },
    {
      "cell_type": "code",
      "metadata": {
        "id": "SWZafUl8ipl_",
        "outputId": "07c6547b-b80a-4f0e-c78e-5c5bdc670ef5",
        "colab": {
          "base_uri": "https://localhost:8080/",
          "height": 118
        }
      },
      "source": [
        "# \\com,\\dom はない\n",
        "%%latex\n",
        "\\mathrm{cod}(f) = \\mathrm{dom}(g) \\\\\n",
        "g \\circ f \\\\\n",
        "C \\overset{g \\circ f}{\\longleftarrow} A \\\\\n",
        "C \\overset{g}{\\longleftarrow} B  \\overset{f}{\\longleftarrow} A"
      ],
      "execution_count": 6,
      "outputs": [
        {
          "output_type": "display_data",
          "data": {
            "text/latex": "\n\\mathrm{cod}(f) = \\mathrm{dom}(g) \\\\\n\ng \\circ f \\\\\n\nC \\overset{g \\circ f}{\\longleftarrow} A \\\\\n\nC \\overset{g}{\\longleftarrow} B  \\overset{f}{\\longleftarrow} A",
            "text/plain": [
              "<IPython.core.display.Latex object>"
            ]
          },
          "metadata": {
            "tags": []
          }
        }
      ]
    },
    {
      "cell_type": "markdown",
      "metadata": {
        "id": "R-yaGWWPEFwP"
      },
      "source": [
        "対象と射の関係を図示したものを 図式 (diagram) と呼ぶ。"
      ]
    },
    {
      "cell_type": "markdown",
      "metadata": {
        "id": "sg0Ehs-WEOfo"
      },
      "source": [
        "**定義 2.3**\n",
        "\n",
        "図式内に現れる射やそれらの合成として得られる射について、域と余域がそれぞれ等しい射が互いに等しいとき、その図式は 可換 (commutative) である、と言う。"
      ]
    },
    {
      "cell_type": "markdown",
      "metadata": {
        "id": "a4N0hZ-BPiUu"
      },
      "source": [
        "$$\n",
        "\\quad \\quad B \\overset{f}{\\longleftarrow} A \n",
        "$$"
      ]
    },
    {
      "cell_type": "code",
      "metadata": {
        "id": "S2cs01_zEnsz",
        "colab": {
          "base_uri": "https://localhost:8080/",
          "height": 60
        },
        "outputId": "30303af4-3e5c-4fbb-c4aa-0dfd7f72f0f3"
      },
      "source": [
        "# codomain returns the codomain of the morphism\n",
        "from sympy import *\n",
        "from sympy.categories import *\n",
        "init_printing()\n",
        "A = Object('A')\n",
        "B= Object('B')\n",
        "C=Object(\"C\")\n",
        "f = NamedMorphism(A,B,\"f\")\n",
        "display(f.codomain)\n",
        "f"
      ],
      "execution_count": 20,
      "outputs": [
        {
          "output_type": "display_data",
          "data": {
            "image/png": "[encoded data removed]",
            "text/latex": "$\\displaystyle B$",
            "text/plain": [
              "B"
            ]
          },
          "metadata": {
            "tags": []
          }
        },
        {
          "output_type": "execute_result",
          "data": {
            "image/png": "[encoded data removed]",
            "text/latex": "$\\displaystyle f:A\\rightarrow B$",
            "text/plain": [
              "f:A——▶B"
            ]
          },
          "metadata": {
            "tags": []
          },
          "execution_count": 20
        }
      ]
    },
    {
      "cell_type": "code",
      "metadata": {
        "id": "NMdNfiO_mwgG",
        "outputId": "cf5bca0c-0313-4c24-ef7d-30074630303d",
        "colab": {
          "base_uri": "https://localhost:8080/",
          "height": 82
        }
      },
      "source": [
        "# compose composes self with the supplied morphism\n",
        "from sympy import *\n",
        "from sympy.categories import *\n",
        "init_printing()\n",
        "A = Object('A')\n",
        "B = Object('B')\n",
        "C = Object(\"C\")\n",
        "f = NamedMorphism(A,B,\"f\")\n",
        "g = NamedMorphism(B,C,\"g\")\n",
        "display(g * f)\n",
        "display((g*f).domain)\n",
        "display((g*f).codomain)"
      ],
      "execution_count": 8,
      "outputs": [
        {
          "output_type": "display_data",
          "data": {
            "image/png": "[encoded data removed]",
            "text/latex": "$\\displaystyle g\\circ f:A\\rightarrow C$",
            "text/plain": [
              "g∘f:A——▶C"
            ]
          },
          "metadata": {
            "tags": []
          }
        },
        {
          "output_type": "display_data",
          "data": {
            "image/png": "[encoded data removed]",
            "text/latex": "$\\displaystyle A$",
            "text/plain": [
              "A"
            ]
          },
          "metadata": {
            "tags": []
          }
        },
        {
          "output_type": "display_data",
          "data": {
            "image/png": "[encoded data removed]",
            "text/latex": "$\\displaystyle C$",
            "text/plain": [
              "C"
            ]
          },
          "metadata": {
            "tags": []
          }
        }
      ]
    },
    {
      "cell_type": "code",
      "metadata": {
        "id": "XJ7-nsjanQpC",
        "outputId": "77d66ded-0df6-4622-d68d-484cd25e108d",
        "colab": {
          "base_uri": "https://localhost:8080/",
          "height": 92
        }
      },
      "source": [
        "# domain returns the domain of the morphism\n",
        "# names are used to distinguish morphisms\n",
        "from sympy import *\n",
        "from sympy.categories import *\n",
        "init_printing()\n",
        "A = Object('A')\n",
        "B = Object('B')\n",
        "f = NamedMorphism(A,B,\"f\")\n",
        "print(f.domain)\n",
        "print(f)\n",
        "display(f)\n",
        "f.name"
      ],
      "execution_count": 13,
      "outputs": [
        {
          "output_type": "stream",
          "text": [
            "Object(\"A\")\n",
            "NamedMorphism(Object(\"A\"), Object(\"B\"), \"f\")\n"
          ],
          "name": "stdout"
        },
        {
          "output_type": "display_data",
          "data": {
            "image/png": "[encoded data removed]",
            "text/latex": "$\\displaystyle f:A\\rightarrow B$",
            "text/plain": [
              "f:A——▶B"
            ]
          },
          "metadata": {
            "tags": []
          }
        },
        {
          "output_type": "execute_result",
          "data": {
            "application/vnd.google.colaboratory.intrinsic+json": {
              "type": "string"
            },
            "text/plain": [
              "'f'"
            ]
          },
          "metadata": {
            "tags": []
          },
          "execution_count": 13
        }
      ]
    },
    {
      "cell_type": "code",
      "metadata": {
        "id": "p_Tpj700oMut",
        "outputId": "0fd174c9-1fc5-473b-86ec-8e10aa31f905",
        "colab": {
          "base_uri": "https://localhost:8080/",
          "height": 56
        }
      },
      "source": [
        "# CompositeMorphism\n",
        "from sympy import *\n",
        "from sympy.categories import *\n",
        "init_printing()\n",
        "A = Object('A')\n",
        "B = Object('B')\n",
        "C = Object(\"C\")\n",
        "display(CompositeMorphism(f,g))\n",
        "CompositeMorphism(f,g) == g * f  "
      ],
      "execution_count": 21,
      "outputs": [
        {
          "output_type": "display_data",
          "data": {
            "image/png": "[encoded data removed]",
            "text/latex": "$\\displaystyle g\\circ f:A\\rightarrow C$",
            "text/plain": [
              "g∘f:A——▶C"
            ]
          },
          "metadata": {
            "tags": []
          }
        },
        {
          "output_type": "execute_result",
          "data": {
            "text/plain": [
              "True"
            ]
          },
          "metadata": {
            "tags": []
          },
          "execution_count": 21
        }
      ]
    },
    {
      "cell_type": "code",
      "metadata": {
        "id": "yV7S7YDhnvUF",
        "outputId": "990e9ec3-c7bb-4aa8-da04-e2e07b68267e",
        "colab": {
          "base_uri": "https://localhost:8080/",
          "height": 38
        }
      },
      "source": [
        "# property domain\n",
        "from sympy import *\n",
        "from sympy.categories import *\n",
        "init_printing()\n",
        "A = Object('A')\n",
        "B = Object('B')\n",
        "C = Object(\"C\")\n",
        "f = NamedMorphism(A,B,\"f\")\n",
        "g = NamedMorphism(B,C,\"g\")\n",
        "(g * f).codomain"
      ],
      "execution_count": 18,
      "outputs": [
        {
          "output_type": "execute_result",
          "data": {
            "image/png": "[encoded data removed]",
            "text/latex": "$\\displaystyle C$",
            "text/plain": [
              "C"
            ]
          },
          "metadata": {
            "tags": []
          },
          "execution_count": 18
        }
      ]
    },
    {
      "cell_type": "code",
      "metadata": {
        "id": "u4vUqXA_uKKZ",
        "outputId": "acd446f3-25aa-473f-9117-cf08ef7f9690",
        "colab": {
          "base_uri": "https://localhost:8080/",
          "height": 60
        }
      },
      "source": [
        "# components, domain\n",
        "from sympy import *\n",
        "from sympy.categories import *\n",
        "init_printing()\n",
        "A = Object('A')\n",
        "B = Object('B')\n",
        "C = Object(\"C\")\n",
        "f = NamedMorphism(A,B,\"f\")\n",
        "g = NamedMorphism(B,C,\"g\")\n",
        "display((g * f).components)\n",
        "display((g * f).domain)\n"
      ],
      "execution_count": 23,
      "outputs": [
        {
          "output_type": "display_data",
          "data": {
            "image/png": "[encoded data removed]",
            "text/latex": "$\\displaystyle \\left( f:A\\rightarrow B, \\  g:B\\rightarrow C\\right)$",
            "text/plain": [
              "(f:A——▶B, g:B——▶C)"
            ]
          },
          "metadata": {
            "tags": []
          }
        },
        {
          "output_type": "display_data",
          "data": {
            "image/png": "[encoded data removed]",
            "text/latex": "$\\displaystyle A$",
            "text/plain": [
              "A"
            ]
          },
          "metadata": {
            "tags": []
          }
        }
      ]
    },
    {
      "cell_type": "code",
      "metadata": {
        "id": "0HUyw-rLovYn",
        "outputId": "1bf36670-65bb-4114-a730-31d06059c071",
        "colab": {
          "base_uri": "https://localhost:8080/",
          "height": 38
        }
      },
      "source": [
        "# flatten forgets the composite structure of this morphism\n",
        "from sympy import *\n",
        "from sympy.categories import *\n",
        "init_printing()\n",
        "A = Object('A')\n",
        "B = Object('B')\n",
        "C = Object(\"C\")\n",
        "f = NamedMorphism(A,B,\"f\")\n",
        "g = NamedMorphism(B,C,\"g\")\n",
        "(g * f).flatten(\"h\")"
      ],
      "execution_count": 25,
      "outputs": [
        {
          "output_type": "execute_result",
          "data": {
            "image/png": "[encoded data removed]",
            "text/latex": "$\\displaystyle h:A\\rightarrow C$",
            "text/plain": [
              "h:A——▶C"
            ]
          },
          "metadata": {
            "tags": []
          },
          "execution_count": 25
        }
      ]
    },
    {
      "cell_type": "code",
      "metadata": {
        "id": "9K_qfXxpuz97",
        "outputId": "a3f3b1aa-d963-4277-83b9-ab66baaa9398",
        "colab": {
          "base_uri": "https://localhost:8080/",
          "height": 95
        }
      },
      "source": [
        "# IdentiityMorphism represents an identity morphism\n",
        "from sympy import *\n",
        "from sympy.categories import *\n",
        "init_printing()\n",
        "A = Object('A')\n",
        "B = Object('B')\n",
        "f = NamedMorphism(A,B,\"f\")\n",
        "id_A = IdentityMorphism(A)\n",
        "id_B = IdentityMorphism(B)\n",
        "display(id_A)\n",
        "display(f * id_A)\n",
        "display(f * id_A == f)\n",
        "display(id_B * f == f)"
      ],
      "execution_count": 30,
      "outputs": [
        {
          "output_type": "display_data",
          "data": {
            "image/png": "[encoded data removed]",
            "text/latex": "$\\displaystyle id:A\\rightarrow A$",
            "text/plain": [
              "id:A——▶A"
            ]
          },
          "metadata": {
            "tags": []
          }
        },
        {
          "output_type": "display_data",
          "data": {
            "image/png": "[encoded data removed]",
            "text/latex": "$\\displaystyle f:A\\rightarrow B$",
            "text/plain": [
              "f:A——▶B"
            ]
          },
          "metadata": {
            "tags": []
          }
        },
        {
          "output_type": "display_data",
          "data": {
            "text/plain": [
              "True"
            ]
          },
          "metadata": {
            "tags": []
          }
        },
        {
          "output_type": "display_data",
          "data": {
            "text/plain": [
              "True"
            ]
          },
          "metadata": {
            "tags": []
          }
        }
      ]
    },
    {
      "cell_type": "code",
      "metadata": {
        "id": "Nv4oobijv2S1",
        "outputId": "f55395b0-8ca1-4f42-909c-bd6e4d88a2ef",
        "colab": {
          "base_uri": "https://localhost:8080/",
          "height": 53
        }
      },
      "source": [
        "# Category, commutative_diagrams, name\n",
        "from sympy import *\n",
        "from sympy.categories import *\n",
        "init_printing()\n",
        "A = Object('A')\n",
        "B = Object('B')\n",
        "C = Object(\"C\")\n",
        "f = NamedMorphism(A,B,\"f\")\n",
        "g = NamedMorphism(B,C,\"g\")\n",
        "d = Diagram([f,g])\n",
        "K = Category(\"K\", commutative_diagrams=[d])\n",
        "display(K.commutative_diagrams == FiniteSet(d))\n",
        "display(K.name)"
      ],
      "execution_count": 41,
      "outputs": [
        {
          "output_type": "display_data",
          "data": {
            "text/plain": [
              "True"
            ]
          },
          "metadata": {
            "tags": []
          }
        },
        {
          "output_type": "display_data",
          "data": {
            "application/vnd.google.colaboratory.intrinsic+json": {
              "type": "string"
            },
            "text/plain": [
              "'K'"
            ]
          },
          "metadata": {
            "tags": []
          }
        }
      ]
    },
    {
      "cell_type": "code",
      "metadata": {
        "id": "1eDBpAUixPug",
        "outputId": "68a7cc00-e908-4d00-939a-d25f8a28460c",
        "colab": {
          "base_uri": "https://localhost:8080/",
          "height": 56
        }
      },
      "source": [
        "# objects\n",
        "from sympy import *\n",
        "from sympy.categories import *\n",
        "init_printing()\n",
        "A = Object('A')\n",
        "B = Object('B')\n",
        "K = Category(\"K\", FiniteSet(A,B))\n",
        "print(K.objects)\n",
        "display(K.objects)"
      ],
      "execution_count": 44,
      "outputs": [
        {
          "output_type": "stream",
          "text": [
            "Class(FiniteSet(Object(\"A\"), Object(\"B\")))\n"
          ],
          "name": "stdout"
        },
        {
          "output_type": "display_data",
          "data": {
            "image/png": "[encoded data removed]",
            "text/latex": "$\\displaystyle Class\\left(\\left\\{A, B\\right\\}\\right)$",
            "text/plain": [
              "Class(FiniteSet(Object(\"A\"), Object(\"B\")))"
            ]
          },
          "metadata": {
            "tags": []
          }
        }
      ]
    },
    {
      "cell_type": "code",
      "metadata": {
        "id": "hYXJoGJ1xkow",
        "outputId": "45cbd600-0376-45eb-8d06-f83d438ad9b3",
        "colab": {
          "base_uri": "https://localhost:8080/",
          "height": 152
        }
      },
      "source": [
        "# Diagram, conclusions\n",
        "from sympy import *\n",
        "from sympy.categories import *\n",
        "init_printing()\n",
        "A = Object('A')\n",
        "B = Object('B')\n",
        "C = Object(\"C\")\n",
        "f = NamedMorphism(A,B,\"f\")\n",
        "g = NamedMorphism(B,C,\"g\")\n",
        "d = Diagram([f,g])\n",
        "premises_keys = sorted(d.premises.keys(), key=default_sort_key)\n",
        "pprint(premises_keys, use_unicode=False)\n",
        "display(premises_keys)\n",
        "pprint(d.premises, use_unicode=False)\n",
        "display(d.premises)\n",
        "d = Diagram([f, g], {g * f: \"unique\"})\n",
        "pprint(d.conclusions,use_unicode=False)\n",
        "display(d.conclusions)\n"
      ],
      "execution_count": 51,
      "outputs": [
        {
          "output_type": "stream",
          "text": [
            "[g*f:A-->C, id:A-->A, id:B-->B, id:C-->C, f:A-->B, g:B-->C]\n"
          ],
          "name": "stdout"
        },
        {
          "output_type": "display_data",
          "data": {
            "image/png": "[encoded data removed]",
            "text/latex": "$\\displaystyle \\left[ g\\circ f:A\\rightarrow C, \\  id:A\\rightarrow A, \\  id:B\\rightarrow B, \\  id:C\\rightarrow C, \\  f:A\\rightarrow B, \\  g:B\\rightarrow C\\right]$",
            "text/plain": [
              "[g∘f:A——▶C, id:A——▶A, id:B——▶B, id:C——▶C, f:A——▶B, g:B——▶C]"
            ]
          },
          "metadata": {
            "tags": []
          }
        },
        {
          "output_type": "stream",
          "text": [
            "{g*f:A-->C: EmptySet, id:A-->A: EmptySet, id:B-->B: EmptySet, id:C-->C: EmptyS\n",
            "et, f:A-->B: EmptySet, g:B-->C: EmptySet}\n"
          ],
          "name": "stdout"
        },
        {
          "output_type": "display_data",
          "data": {
            "image/png": "[encoded data removed]",
            "text/latex": "$\\displaystyle \\left\\{ g\\circ f:A\\rightarrow C : \\emptyset, \\  id:A\\rightarrow A : \\emptyset, \\  id:B\\rightarrow B : \\emptyset, \\  id:C\\rightarrow C : \\emptyset, \\  f:A\\rightarrow B : \\emptyset, \\  g:B\\rightarrow C : \\emptyset\\right\\}$",
            "text/plain": [
              "{g∘f:A——▶C: ∅, id:A——▶A: ∅, id:B——▶B: ∅, id:C——▶C: ∅, f:A——▶B: ∅, g:B——▶C: ∅}"
            ]
          },
          "metadata": {
            "tags": []
          }
        },
        {
          "output_type": "stream",
          "text": [
            "{g*f:A-->C: {unique}}\n"
          ],
          "name": "stdout"
        },
        {
          "output_type": "display_data",
          "data": {
            "image/png": "[encoded data removed]",
            "text/latex": "$\\displaystyle \\left\\{ g\\circ f:A\\rightarrow C : \\left\\{unique\\right\\}\\right\\}$",
            "text/plain": [
              "{g∘f:A——▶C: {unique}}"
            ]
          },
          "metadata": {
            "tags": []
          }
        }
      ]
    },
    {
      "cell_type": "code",
      "metadata": {
        "id": "rGsDFz2Iz0zw"
      },
      "source": [
        "# hom\n"
      ],
      "execution_count": null,
      "outputs": []
    },
    {
      "cell_type": "markdown",
      "metadata": {
        "id": "CeABPjYfoxeZ"
      },
      "source": [
        "# いまここ"
      ]
    },
    {
      "cell_type": "code",
      "metadata": {
        "id": "ZRCTMPc5mhU7",
        "outputId": "16592f92-596f-4e29-e068-584cb688b5ab",
        "colab": {
          "base_uri": "https://localhost:8080/",
          "height": 35
        }
      },
      "source": [
        "from sympy import *\n",
        "from sympy.categories import *\n",
        "init_printing()\n",
        "A = Object('A')\n",
        "B= Object('B')\n",
        "C=Object(\"C\")\n",
        "f = NamedMorphism(A,B,\"f\")\n",
        "g = NamedMorphism(B,C,\"g\")\n",
        "diagram=Diagram([f,g],{g*f: \"unique\"})\n",
        "grid=DiagramGrid(diagram)\n",
        "drawer=XypicDiagramDrawer()\n",
        "display(drawer.draw(diagram, grid))"
      ],
      "execution_count": 3,
      "outputs": [
        {
          "output_type": "display_data",
          "data": {
            "application/vnd.google.colaboratory.intrinsic+json": {
              "type": "string"
            },
            "text/plain": [
              "'\\\\xymatrix{\\nA \\\\ar[d]_{g\\\\circ f} \\\\ar[r]^{f} & B \\\\ar[ld]^{g} \\\\\\\\\\nC & \\n}\\n'"
            ]
          },
          "metadata": {
            "tags": []
          }
        }
      ]
    },
    {
      "cell_type": "markdown",
      "metadata": {
        "id": "t7t1ETgyar0O"
      },
      "source": [
        "$$\n",
        "\\begin{CD}\n",
        "K(X) @>{ch}>> H(X;\\mathbb Q);\\\\\n",
        "@VVV @VVV \\\\\n",
        "K(Y) @>{ch}>> H(Y;\\mathbb Q);\n",
        "\\end{CD}\n",
        "$$"
      ]
    },
    {
      "cell_type": "markdown",
      "metadata": {
        "id": "_r-tXKQThx4N"
      },
      "source": [
        "$$\n",
        "\\require{AMScd}\n",
        "\\begin{CD}\n",
        "    A @>{f}>> B \\\\\n",
        "@V{g}VV    @VVV \\\\\n",
        "    C   @>>>  D\n",
        "\\end{CD}\n",
        "$$"
      ]
    }
  ]
}