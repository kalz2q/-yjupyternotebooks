{
  "nbformat": 4,
  "nbformat_minor": 0,
  "metadata": {
    "colab": {
      "name": "haskell_grahamhutton.ipynb",
      "provenance": [],
      "toc_visible": true,
      "authorship_tag": "ABX9TyNx8iJuwj2dyDJcdS2usQt5",
      "include_colab_link": true
    },
    "kernelspec": {
      "name": "python3",
      "display_name": "Python 3"
    }
  },
  "cells": [
    {
      "cell_type": "markdown",
      "metadata": {
        "id": "view-in-github",
        "colab_type": "text"
      },
      "source": [
        "<a href=\"https://colab.research.google.com/github/kalz2q/mycolabnotebooks/blob/master/haskell_grahamhutton.ipynb\" target=\"_parent\"><img src=\"https://colab.research.google.com/assets/colab-badge.svg\" alt=\"Open In Colab\"/></a>"
      ]
    },
    {
      "cell_type": "markdown",
      "metadata": {
        "id": "1v9CVKfb7gvW"
      },
      "source": [
        "# メモ\r\n",
        "Programming in Haskell  \r\n",
        "プログラミング Haskell, graham hutton を読む。"
      ]
    },
    {
      "cell_type": "code",
      "metadata": {
        "id": "KtIZE-NX7gJO"
      },
      "source": [
        "%%capture\r\n",
        "!apt install haskell-platform"
      ],
      "execution_count": 2,
      "outputs": []
    },
    {
      "cell_type": "code",
      "metadata": {
        "id": "Ih2xEzHB8Vag",
        "colab": {
          "base_uri": "https://localhost:8080/"
        },
        "outputId": "4e0db58b-6c7b-4fa0-a803-d7fcb5518bc5"
      },
      "source": [
        "!ghc -e 'let {double x = x + x} in print (double 3)' #=> 6"
      ],
      "execution_count": null,
      "outputs": [
        {
          "output_type": "stream",
          "text": [
            "6\n"
          ],
          "name": "stdout"
        }
      ]
    },
    {
      "cell_type": "code",
      "metadata": {
        "id": "HNYp4-mX9RNp",
        "colab": {
          "base_uri": "https://localhost:8080/",
          "height": 120
        },
        "outputId": "2d1bb8ea-2cda-4578-9dd8-ffd6bd2624ad"
      },
      "source": [
        "%%latex\r\n",
        "double \\ 3  \\\\\r\n",
        "= \\quad \\{double \\text{ を適用}\\} \\\\\r\n",
        "\\quad 3 + 3 \\\\\r\n",
        "= \\quad \\{+ \\text{ を適用}\\} \\\\\r\n",
        "\\quad 6"
      ],
      "execution_count": 1,
      "outputs": [
        {
          "output_type": "display_data",
          "data": {
            "text/latex": "double \\ 3  \\\\\n= \\quad \\{double \\text{ を適用}\\} \\\\\n\\quad 3 + 3 \\\\\n= \\quad \\{+ \\text{ を適用}\\} \\\\\n\\quad 6",
            "text/plain": [
              "<IPython.core.display.Latex object>"
            ]
          },
          "metadata": {
            "tags": []
          }
        }
      ]
    },
    {
      "cell_type": "markdown",
      "metadata": {
        "id": "QxbEHbv6Afai"
      },
      "source": [
        "richard bird も数式の変形は同じような書き方をしていたのでそれなりに標準なのだろう。イコールを書いて、説明を `{}` で書いて、イコールの結果を書く。\r\n",
        "\r\n",
        "case 式に似ていると思う。\r\n",
        "\r\n",
        "fac n = case n of 0 -> 1\r\n",
        "\r\n",
        "を\r\n",
        "\r\n",
        "$fac \\ n$  \r\n",
        "$= \\{\\text {case n of 0 ->} \\}$  \r\n",
        "$\\quad 1$\r\n",
        "\r\n",
        "と書くような感じ。 Richard Birdの本では Wim Feijenが考案した式変形の記法ということ。\r\n",
        "\r\n",
        "\r\n",
        "\r\n"
      ]
    },
    {
      "cell_type": "code",
      "metadata": {
        "id": "soy_Y75W8zHC",
        "colab": {
          "base_uri": "https://localhost:8080/"
        },
        "outputId": "b706a115-70f5-4664-aae4-7eed392dde0f"
      },
      "source": [
        "!ghc -e 'let {double x = x + x} in print (double (double 2))' #=> 8"
      ],
      "execution_count": null,
      "outputs": [
        {
          "output_type": "stream",
          "text": [
            "8\n"
          ],
          "name": "stdout"
        }
      ]
    },
    {
      "cell_type": "code",
      "metadata": {
        "id": "RdxwqJ1tuDeR",
        "outputId": "050dcbe2-c51c-4cf6-f587-20a031ea3383",
        "colab": {
          "base_uri": "https://localhost:8080/"
        }
      },
      "source": [
        "# sum を実装する p.7\r\n",
        "%%writefile test.hs\r\n",
        "sum01 :: Num p => [p] -> p\r\n",
        "sum01 [] = 0\r\n",
        "sum01 (x:xs) = x + sum(xs)\r\n",
        "\r\n",
        "main = print (sum01[1..5])"
      ],
      "execution_count": 5,
      "outputs": [
        {
          "output_type": "stream",
          "text": [
            "Overwriting test.hs\n"
          ],
          "name": "stdout"
        }
      ]
    },
    {
      "cell_type": "code",
      "metadata": {
        "id": "f_ajiOPIuUrh",
        "outputId": "fd50f83c-2b32-4702-8467-bb8eb46ee2bb",
        "colab": {
          "base_uri": "https://localhost:8080/"
        }
      },
      "source": [
        "!runghc test.hs"
      ],
      "execution_count": 6,
      "outputs": [
        {
          "output_type": "stream",
          "text": [
            "15\n"
          ],
          "name": "stdout"
        }
      ]
    },
    {
      "cell_type": "code",
      "metadata": {
        "id": "9PJXBNZhu6PZ",
        "outputId": "d7d11e7e-346f-409b-8e40-7fce2adcbfa5",
        "colab": {
          "base_uri": "https://localhost:8080/"
        }
      },
      "source": [
        "# qsort を定義する\r\n",
        "%%writefile test.hs\r\n",
        "qsort :: Ord a => [a] -> [a]\r\n",
        "qsort [] = []\r\n",
        "qsort (x : xs) = qsort smaller ++ [x] ++ qsort larger\r\n",
        "  where\r\n",
        "    smaller = [a | a <- xs, a <= x]\r\n",
        "    larger = [a | a <- xs, a > x]\r\n",
        "\r\n",
        "main = print (qsort [5, 1, 3, 2, 4])"
      ],
      "execution_count": 7,
      "outputs": [
        {
          "output_type": "stream",
          "text": [
            "Overwriting test.hs\n"
          ],
          "name": "stdout"
        }
      ]
    },
    {
      "cell_type": "code",
      "metadata": {
        "id": "SKoZKRquvzGE",
        "outputId": "07e69d8d-cd95-43ab-c9c0-74d5083a6cab",
        "colab": {
          "base_uri": "https://localhost:8080/"
        }
      },
      "source": [
        "!runghc test.hs"
      ],
      "execution_count": 8,
      "outputs": [
        {
          "output_type": "stream",
          "text": [
            "[1,2,3,4,5]\n"
          ],
          "name": "stdout"
        }
      ]
    },
    {
      "cell_type": "code",
      "metadata": {
        "id": "Gx2mXdTstdsy"
      },
      "source": [
        "# いまここ\r\n",
        "p.15"
      ],
      "execution_count": null,
      "outputs": []
    },
    {
      "cell_type": "markdown",
      "metadata": {
        "id": "K8MkcVasta_L"
      },
      "source": [
        "# いまここ"
      ]
    }
  ]
}