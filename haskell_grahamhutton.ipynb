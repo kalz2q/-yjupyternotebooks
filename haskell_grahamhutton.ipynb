{
  "nbformat": 4,
  "nbformat_minor": 0,
  "metadata": {
    "colab": {
      "name": "haskell_grahamhutton.ipynb",
      "provenance": [],
      "toc_visible": true,
      "authorship_tag": "ABX9TyPBrRb2gl0gPfAE8v4guAg9",
      "include_colab_link": true
    },
    "kernelspec": {
      "name": "python3",
      "display_name": "Python 3"
    }
  },
  "cells": [
    {
      "cell_type": "markdown",
      "metadata": {
        "id": "view-in-github",
        "colab_type": "text"
      },
      "source": [
        "<a href=\"https://colab.research.google.com/github/kalz2q/mycolabnotebooks/blob/master/haskell_grahamhutton.ipynb\" target=\"_parent\"><img src=\"https://colab.research.google.com/assets/colab-badge.svg\" alt=\"Open In Colab\"/></a>"
      ]
    },
    {
      "cell_type": "markdown",
      "metadata": {
        "id": "1v9CVKfb7gvW"
      },
      "source": [
        "# メモ\r\n",
        "Programming in Haskell  \r\n",
        "プログラミング Haskell, graham hutton を読む。"
      ]
    },
    {
      "cell_type": "code",
      "metadata": {
        "id": "KtIZE-NX7gJO"
      },
      "source": [
        "%%capture \r\n",
        "!apt install haskell-platform"
      ],
      "execution_count": 1,
      "outputs": []
    },
    {
      "cell_type": "code",
      "metadata": {
        "id": "Ih2xEzHB8Vag",
        "colab": {
          "base_uri": "https://localhost:8080/"
        },
        "outputId": "4e0db58b-6c7b-4fa0-a803-d7fcb5518bc5"
      },
      "source": [
        "!ghc -e 'let {double x = x + x} in print (double 3)' #=> 6"
      ],
      "execution_count": null,
      "outputs": [
        {
          "output_type": "stream",
          "text": [
            "6\n"
          ],
          "name": "stdout"
        }
      ]
    },
    {
      "cell_type": "code",
      "metadata": {
        "id": "HNYp4-mX9RNp",
        "colab": {
          "base_uri": "https://localhost:8080/",
          "height": 120
        },
        "outputId": "2d1bb8ea-2cda-4578-9dd8-ffd6bd2624ad"
      },
      "source": [
        "%%latex\r\n",
        "double \\ 3  \\\\\r\n",
        "= \\quad \\{double \\text{ を適用}\\} \\\\\r\n",
        "\\quad 3 + 3 \\\\\r\n",
        "= \\quad \\{+ \\text{ を適用}\\} \\\\\r\n",
        "\\quad 6"
      ],
      "execution_count": null,
      "outputs": [
        {
          "output_type": "display_data",
          "data": {
            "text/latex": "double \\ 3  \\\\\n= \\quad \\{double \\text{ を適用}\\} \\\\\n\\quad 3 + 3 \\\\\n= \\quad \\{+ \\text{ を適用}\\} \\\\\n\\quad 6",
            "text/plain": [
              "<IPython.core.display.Latex object>"
            ]
          },
          "metadata": {
            "tags": []
          }
        }
      ]
    },
    {
      "cell_type": "markdown",
      "metadata": {
        "id": "QxbEHbv6Afai"
      },
      "source": [
        "richard bird も数式の変形は同じような書き方をしていたのでそれなりに標準なのだろう。イコールを書いて、説明を `{}` で書いて、イコールの結果を書く。\r\n",
        "\r\n",
        "case 式に似ていると思う。\r\n",
        "\r\n",
        "fac n = case n of 0 -> 1\r\n",
        "\r\n",
        "を\r\n",
        "\r\n",
        "$fac \\ n$  \r\n",
        "$= \\{\\text {case n of 0 ->} \\}$  \r\n",
        "$\\quad 1$\r\n",
        "\r\n",
        "と書くような感じ。 Richard Birdの本では Wim Feijenが考案した式変形の記法ということ。\r\n",
        "\r\n",
        "\r\n",
        "\r\n"
      ]
    },
    {
      "cell_type": "code",
      "metadata": {
        "id": "soy_Y75W8zHC",
        "colab": {
          "base_uri": "https://localhost:8080/"
        },
        "outputId": "b706a115-70f5-4664-aae4-7eed392dde0f"
      },
      "source": [
        "!ghc -e 'let {double x = x + x} in print (double (double 2))' #=> 8"
      ],
      "execution_count": null,
      "outputs": [
        {
          "output_type": "stream",
          "text": [
            "8\n"
          ],
          "name": "stdout"
        }
      ]
    },
    {
      "cell_type": "code",
      "metadata": {
        "id": "RdxwqJ1tuDeR",
        "colab": {
          "base_uri": "https://localhost:8080/"
        },
        "outputId": "050dcbe2-c51c-4cf6-f587-20a031ea3383"
      },
      "source": [
        "# sum を実装する p.7\r\n",
        "%%writefile test.hs\r\n",
        "sum01 :: Num p => [p] -> p\r\n",
        "sum01 [] = 0\r\n",
        "sum01 (x:xs) = x + sum(xs)\r\n",
        "\r\n",
        "main = print (sum01[1..5])"
      ],
      "execution_count": null,
      "outputs": [
        {
          "output_type": "stream",
          "text": [
            "Overwriting test.hs\n"
          ],
          "name": "stdout"
        }
      ]
    },
    {
      "cell_type": "code",
      "metadata": {
        "id": "f_ajiOPIuUrh",
        "colab": {
          "base_uri": "https://localhost:8080/"
        },
        "outputId": "fd50f83c-2b32-4702-8467-bb8eb46ee2bb"
      },
      "source": [
        "!runghc test.hs"
      ],
      "execution_count": null,
      "outputs": [
        {
          "output_type": "stream",
          "text": [
            "15\n"
          ],
          "name": "stdout"
        }
      ]
    },
    {
      "cell_type": "code",
      "metadata": {
        "id": "9PJXBNZhu6PZ",
        "colab": {
          "base_uri": "https://localhost:8080/"
        },
        "outputId": "d7d11e7e-346f-409b-8e40-7fce2adcbfa5"
      },
      "source": [
        "# qsort を定義する\r\n",
        "%%writefile test.hs\r\n",
        "qsort :: Ord a => [a] -> [a]\r\n",
        "qsort [] = []\r\n",
        "qsort (x : xs) = qsort smaller ++ [x] ++ qsort larger\r\n",
        "  where\r\n",
        "    smaller = [a | a <- xs, a <= x]\r\n",
        "    larger = [a | a <- xs, a > x]\r\n",
        "\r\n",
        "main = print (qsort [5, 1, 3, 2, 4])"
      ],
      "execution_count": null,
      "outputs": [
        {
          "output_type": "stream",
          "text": [
            "Overwriting test.hs\n"
          ],
          "name": "stdout"
        }
      ]
    },
    {
      "cell_type": "code",
      "metadata": {
        "id": "SKoZKRquvzGE",
        "colab": {
          "base_uri": "https://localhost:8080/"
        },
        "outputId": "07e69d8d-cd95-43ab-c9c0-74d5083a6cab"
      },
      "source": [
        "!runghc test.hs"
      ],
      "execution_count": null,
      "outputs": [
        {
          "output_type": "stream",
          "text": [
            "[1,2,3,4,5]\n"
          ],
          "name": "stdout"
        }
      ]
    },
    {
      "cell_type": "code",
      "metadata": {
        "id": "YDtXp2zSG2wv",
        "outputId": "490c183b-aa26-42c9-b564-fdd12fa6d476",
        "colab": {
          "base_uri": "https://localhost:8080/"
        }
      },
      "source": [
        "# \r\n",
        "%%writefile test.hs\r\n",
        "double x = x + x\r\n",
        "quadruple x = double (double x)\r\n",
        "\r\n",
        "main = do\r\n",
        "  print (quadruple 10)\r\n",
        "  print (take (double 2) [1,2,3,4,5,6])"
      ],
      "execution_count": 4,
      "outputs": [
        {
          "output_type": "stream",
          "text": [
            "Overwriting test.hs\n"
          ],
          "name": "stdout"
        }
      ]
    },
    {
      "cell_type": "code",
      "metadata": {
        "id": "WIcrgEnEHTcJ",
        "outputId": "2a8a93fd-b4ec-401e-ff5f-2714a8cf3169",
        "colab": {
          "base_uri": "https://localhost:8080/"
        }
      },
      "source": [
        "!runghc test.hs"
      ],
      "execution_count": 5,
      "outputs": [
        {
          "output_type": "stream",
          "text": [
            "40\n",
            "[1,2,3,4]\n"
          ],
          "name": "stdout"
        }
      ]
    },
    {
      "cell_type": "code",
      "metadata": {
        "id": "rDr94H37Hqvg",
        "outputId": "e938c5fb-219c-4063-8d84-12d11689b8fc",
        "colab": {
          "base_uri": "https://localhost:8080/"
        }
      },
      "source": [
        "# \r\n",
        "%%writefile test.hs\r\n",
        "factorial n = product [1..n]\r\n",
        "average ns = div (sum ns)  (length ns)\r\n",
        "\r\n",
        "main = do\r\n",
        "  print $ factorial 10\r\n",
        "  print $ average [1,2,3,4,5]"
      ],
      "execution_count": 10,
      "outputs": [
        {
          "output_type": "stream",
          "text": [
            "Overwriting test.hs\n"
          ],
          "name": "stdout"
        }
      ]
    },
    {
      "cell_type": "code",
      "metadata": {
        "id": "FTmOXGORHgZc",
        "outputId": "ff397e45-0359-4097-ec8f-660fdee7da51",
        "colab": {
          "base_uri": "https://localhost:8080/"
        }
      },
      "source": [
        "!runghc test.hs"
      ],
      "execution_count": 11,
      "outputs": [
        {
          "output_type": "stream",
          "text": [
            "3628800\n",
            "3\n"
          ],
          "name": "stdout"
        }
      ]
    },
    {
      "cell_type": "code",
      "metadata": {
        "id": "w45P7NgeKTxT",
        "outputId": "05d5ff2d-90ff-48fe-d518-95ebd7a5a933",
        "colab": {
          "base_uri": "https://localhost:8080/"
        }
      },
      "source": [
        "# Int と Integer の違い。 Int は固定精度整数、Integer は多倍長整数。\r\n",
        "# Int は範囲があり、Integer は範囲はない (メモリーの限度まで計算する)。\r\n",
        "# Int は速いので、通常は Int を使う。 \r\n",
        "# 2 ^ 64 のような大きい数字は Integer が使われる。\r\n",
        "!ghc -e '(2^64)::Int'\r\n",
        "!ghc -e '(2^64)::Integer'"
      ],
      "execution_count": 22,
      "outputs": [
        {
          "output_type": "stream",
          "text": [
            "0\n",
            "18446744073709551616\n"
          ],
          "name": "stdout"
        }
      ]
    },
    {
      "cell_type": "code",
      "metadata": {
        "id": "3ket6bb2LwMP",
        "outputId": "59bec789-3938-431f-ccf2-06fb2e3cabdd",
        "colab": {
          "base_uri": "https://localhost:8080/"
        }
      },
      "source": [
        "# Float の桁数\r\n",
        "!ghc -e 'sqrt 2'\r\n",
        "!ghc -e 'sqrt 999999'\r\n",
        "!ghc -e 'sqrt 999999::Float'"
      ],
      "execution_count": 27,
      "outputs": [
        {
          "output_type": "stream",
          "text": [
            "1.4142135623730951\n",
            "999.999499999875\n",
            "999.9995\n"
          ],
          "name": "stdout"
        }
      ]
    },
    {
      "cell_type": "code",
      "metadata": {
        "id": "TNV4cqCQMObd",
        "outputId": "c8d581b0-7378-47fb-a527-d65c904686d0",
        "colab": {
          "base_uri": "https://localhost:8080/"
        }
      },
      "source": [
        "!ghc -e ':t []'\r\n",
        "!ghc -e ':t ()'\r\n",
        "!ghc -e ':t \"\"'\r\n",
        "!ghc -e ':t (,)'\r\n",
        "!ghc -e ':t (,,)'\r\n",
        "!ghc -e ':t (.)'\r\n",
        "!ghc -e ':t (())'"
      ],
      "execution_count": 36,
      "outputs": [
        {
          "output_type": "stream",
          "text": [
            "[] :: [t]\n",
            "() :: ()\n",
            "\"\" :: [Char]\n",
            "(,) :: a -> b -> (a, b)\n",
            "(,,) :: a -> b -> c -> (a, b, c)\n",
            "(.) :: (b -> c) -> (a -> b) -> a -> c\n",
            "(()) :: ()\n"
          ],
          "name": "stdout"
        }
      ]
    },
    {
      "cell_type": "code",
      "metadata": {
        "id": "Gx2mXdTstdsy"
      },
      "source": [
        "# いまここ\r\n",
        "p.23"
      ],
      "execution_count": null,
      "outputs": []
    },
    {
      "cell_type": "markdown",
      "metadata": {
        "id": "K8MkcVasta_L"
      },
      "source": [
        "# いまここ"
      ]
    }
  ]
}