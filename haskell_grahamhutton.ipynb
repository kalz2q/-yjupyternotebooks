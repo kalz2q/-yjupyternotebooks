{
  "nbformat": 4,
  "nbformat_minor": 0,
  "metadata": {
    "colab": {
      "name": "haskell_grahamhutton.ipynb",
      "provenance": [],
      "authorship_tag": "ABX9TyMI2uQwwrSQnw6LbdppbtRY",
      "include_colab_link": true
    },
    "kernelspec": {
      "name": "python3",
      "display_name": "Python 3"
    }
  },
  "cells": [
    {
      "cell_type": "markdown",
      "metadata": {
        "id": "view-in-github",
        "colab_type": "text"
      },
      "source": [
        "<a href=\"https://colab.research.google.com/github/kalz2q/mycolabnotebooks/blob/master/haskell_grahamhutton.ipynb\" target=\"_parent\"><img src=\"https://colab.research.google.com/assets/colab-badge.svg\" alt=\"Open In Colab\"/></a>"
      ]
    },
    {
      "cell_type": "markdown",
      "metadata": {
        "id": "1v9CVKfb7gvW"
      },
      "source": [
        "# メモ\r\n",
        "Programming in Haskell  \r\n",
        "プログラミング Haskell, graham hutton を読む。"
      ]
    },
    {
      "cell_type": "code",
      "metadata": {
        "id": "KtIZE-NX7gJO"
      },
      "source": [
        "%%capture\r\n",
        "!apt install haskell-platform"
      ],
      "execution_count": null,
      "outputs": []
    }
  ]
}