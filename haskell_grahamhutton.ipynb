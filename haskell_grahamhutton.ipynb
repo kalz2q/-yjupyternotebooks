{
  "nbformat": 4,
  "nbformat_minor": 0,
  "metadata": {
    "colab": {
      "name": "haskell_grahamhutton.ipynb",
      "provenance": [],
      "authorship_tag": "ABX9TyNJSgxE7+qUV0+b4VV/2LeI",
      "include_colab_link": true
    },
    "kernelspec": {
      "name": "python3",
      "display_name": "Python 3"
    }
  },
  "cells": [
    {
      "cell_type": "markdown",
      "metadata": {
        "id": "view-in-github",
        "colab_type": "text"
      },
      "source": [
        "<a href=\"https://colab.research.google.com/github/kalz2q/mycolabnotebooks/blob/master/haskell_grahamhutton.ipynb\" target=\"_parent\"><img src=\"https://colab.research.google.com/assets/colab-badge.svg\" alt=\"Open In Colab\"/></a>"
      ]
    },
    {
      "cell_type": "markdown",
      "metadata": {
        "id": "1v9CVKfb7gvW"
      },
      "source": [
        "# メモ\r\n",
        "Programming in Haskell  \r\n",
        "プログラミング Haskell, graham hutton を読む。"
      ]
    },
    {
      "cell_type": "code",
      "metadata": {
        "id": "KtIZE-NX7gJO"
      },
      "source": [
        "%%capture\r\n",
        "!apt install haskell-platform"
      ],
      "execution_count": 2,
      "outputs": []
    },
    {
      "cell_type": "code",
      "metadata": {
        "id": "Ih2xEzHB8Vag",
        "outputId": "4e0db58b-6c7b-4fa0-a803-d7fcb5518bc5",
        "colab": {
          "base_uri": "https://localhost:8080/"
        }
      },
      "source": [
        "!ghc -e 'let {double x = x + x} in print (double 3)' #=> 6"
      ],
      "execution_count": 6,
      "outputs": [
        {
          "output_type": "stream",
          "text": [
            "6\n"
          ],
          "name": "stdout"
        }
      ]
    },
    {
      "cell_type": "code",
      "metadata": {
        "id": "HNYp4-mX9RNp",
        "outputId": "169a2789-7725-4af0-9499-2acc20dc78f4",
        "colab": {
          "base_uri": "https://localhost:8080/",
          "height": 120
        }
      },
      "source": [
        "%%latex\r\n",
        "double \\ 3  \\\\\r\n",
        "= \\quad \\{double \\text{ を適用}\\} \\\\\r\n",
        "\\quad 3 + 3 \\\\\r\n",
        "= \\quad \\{+ \\text{ を適用}\\} \\\\\r\n",
        "\\quad 6"
      ],
      "execution_count": 28,
      "outputs": [
        {
          "output_type": "display_data",
          "data": {
            "text/latex": "double \\ 3  \\\\\n= \\quad \\{double \\text{ を適用}\\} \\\\\n\\quad 3 + 3 \\\\\n= \\quad \\{+ \\text{ を適用}\\} \\\\\n\\quad 6",
            "text/plain": [
              "<IPython.core.display.Latex object>"
            ]
          },
          "metadata": {
            "tags": []
          }
        }
      ]
    },
    {
      "cell_type": "markdown",
      "metadata": {
        "id": "QxbEHbv6Afai"
      },
      "source": [
        "richard bird も数式の変形は同じような書き方をしていたのでそれなりに標準なのだろう。イコールを書いて、説明を `{}` で書いて、イコールの結果を書く。\r\n",
        "\r\n",
        "case 式に似ていると思う。\r\n",
        "\r\n",
        "fac n = case n of 0 -> 1\r\n",
        "\r\n",
        "を\r\n",
        "\r\n",
        "$fac \\ n$  \r\n",
        "$= \\{\\text {case n of 0 ->} \\}$  \r\n",
        "$\\quad 1$\r\n",
        "\r\n",
        "と書くような感じ。 Richard Birdの本では Wim Feijenが考案した式変形の記法ということ。\r\n",
        "\r\n",
        "\r\n",
        "\r\n"
      ]
    },
    {
      "cell_type": "code",
      "metadata": {
        "id": "soy_Y75W8zHC",
        "outputId": "b706a115-70f5-4664-aae4-7eed392dde0f",
        "colab": {
          "base_uri": "https://localhost:8080/"
        }
      },
      "source": [
        "!ghc -e 'let {double x = x + x} in print (double (double 2))' #=> 8"
      ],
      "execution_count": 7,
      "outputs": [
        {
          "output_type": "stream",
          "text": [
            "8\n"
          ],
          "name": "stdout"
        }
      ]
    }
  ]
}