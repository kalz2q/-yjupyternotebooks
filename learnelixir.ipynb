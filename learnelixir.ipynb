{
  "nbformat": 4,
  "nbformat_minor": 0,
  "metadata": {
    "colab": {
      "name": "learnelixir.ipynb",
      "provenance": [],
      "toc_visible": true,
      "authorship_tag": "ABX9TyM/sbn9H7/14LR/B5TwC6yy",
      "include_colab_link": true
    },
    "kernelspec": {
      "name": "python3",
      "display_name": "Python 3"
    },
    "language_info": {
      "name": "python"
    }
  },
  "cells": [
    {
      "cell_type": "markdown",
      "metadata": {
        "id": "view-in-github",
        "colab_type": "text"
      },
      "source": [
        "<a href=\"https://colab.research.google.com/github/kalz2q/mycolabnotebooks/blob/master/learnelixir.ipynb\" target=\"_parent\"><img src=\"https://colab.research.google.com/assets/colab-badge.svg\" alt=\"Open In Colab\"/></a>"
      ]
    },
    {
      "cell_type": "markdown",
      "metadata": {
        "id": "RfpoUurcVnZv"
      },
      "source": [
        "# メモ\n",
        "\n",
        "elixir を齧る。かじる。\n",
        "\n",
        "今のイメージ erlang 上で、erlang は 並行処理のためのシステムで、その erlang 上で理想的な言語を作ろうとしたら、ruby + clojure みたいな言語になった。\n",
        "\n",
        "Dave Thomas と まつもとゆきひろ が勧めているのだからいい言語なのだろう。\n"
      ]
    },
    {
      "cell_type": "markdown",
      "metadata": {
        "id": "kEf4GSz_Vva4"
      },
      "source": [
        "* https://magazine.rubyist.net/articles/0054/0054-ElixirBook.html\n",
        "* https://elixirschool.com/ja/lessons/basics/basics/\n",
        "* https://elixirschool.com/ja/lessons/basics/control-structures/"
      ]
    },
    {
      "cell_type": "code",
      "metadata": {
        "id": "THvpbkjdWs0Q"
      },
      "source": [
        "%%capture\n",
        "!sudo apt install elixir"
      ],
      "execution_count": null,
      "outputs": []
    },
    {
      "cell_type": "markdown",
      "metadata": {
        "id": "IpYclRqgcttK"
      },
      "source": [
        "メモ\n",
        "\n",
        "このあと `!elixir --version` とするとエラーになるが、以下のコードセルに見るようにとりあえず使えているので先に進む。\n",
        "\n",
        "`!elixir -h` としたら ワンライナーが使えるらしいことがわかった。\n",
        "\n",
        "`iex` というのがインタラクティブ環境なのだが、colab では使いにくいのでとりあえず使わない。\n"
      ]
    },
    {
      "cell_type": "code",
      "metadata": {
        "id": "S_s89E37Xroq",
        "colab": {
          "base_uri": "https://localhost:8080/"
        },
        "outputId": "16bb726b-2ebc-4bfc-c06a-c995031adff7"
      },
      "source": [
        "!elixir -e 'IO.puts 3 + 3'\n",
        "!elixir -e 'IO.puts \"hello world!\"'"
      ],
      "execution_count": 21,
      "outputs": [
        {
          "output_type": "stream",
          "text": [
            "6\n",
            "hello world!\n"
          ],
          "name": "stdout"
        }
      ]
    },
    {
      "cell_type": "code",
      "metadata": {
        "colab": {
          "base_uri": "https://localhost:8080/"
        },
        "id": "RYCKapxtdtco",
        "outputId": "d4e4151e-35c1-486d-99a1-32335e538f95"
      },
      "source": [
        "%%writefile temp.exs\n",
        "IO.puts \"this is a pen.\""
      ],
      "execution_count": 22,
      "outputs": [
        {
          "output_type": "stream",
          "text": [
            "Writing temp.exs\n"
          ],
          "name": "stdout"
        }
      ]
    },
    {
      "cell_type": "code",
      "metadata": {
        "colab": {
          "base_uri": "https://localhost:8080/"
        },
        "id": "06mP6Jy_d505",
        "outputId": "96eeaaee-0931-4378-f9c3-6f02582ca08c"
      },
      "source": [
        "!elixir temp.exs"
      ],
      "execution_count": 23,
      "outputs": [
        {
          "output_type": "stream",
          "text": [
            "this is a pen.\n"
          ],
          "name": "stdout"
        }
      ]
    },
    {
      "cell_type": "markdown",
      "metadata": {
        "id": "7NE03KtbjVDc"
      },
      "source": [
        "ネットで紹介されていた次のコードセルのコードはどうやって実行するのだろう。\n",
        "\n",
        "説明:\n",
        "\n",
        "このプログラムでは、Parallel というモジュールに pmap という関数を定義しています。 pmap は、与えられたコレクションに対して map（Ruby での Enumerable#map と同じようなものと考えて下さい）を行なうのですが、 各要素の処理を、要素数の分だけプロセスを生成し、各プロセスで並行に実行する、というものです。 ちょっと見ても、よくわからないような気がしますが、大丈夫、本書を読めば、わかるようになります。\n",
        "\n",
        "とのこと。"
      ]
    },
    {
      "cell_type": "code",
      "metadata": {
        "id": "_OFyxKshdQ2W"
      },
      "source": [
        "%%writefile temp.exs\n",
        "defmodule Parallel do\n",
        "  def pmap(collection, func) do\n",
        "    collection\n",
        "    |> Enum.map(&(Task.async(fn -> func.(&1) end)))\n",
        "    |> Enum.map(&Task.await/1)\n",
        "  end\n",
        "end"
      ],
      "execution_count": null,
      "outputs": []
    },
    {
      "cell_type": "markdown",
      "metadata": {
        "id": "Ajr_Z2V6mh7Y"
      },
      "source": [
        "コメントは `#`"
      ]
    },
    {
      "cell_type": "code",
      "metadata": {
        "colab": {
          "base_uri": "https://localhost:8080/"
        },
        "id": "DfMZdyUImlsG",
        "outputId": "3800188f-1fad-40cd-b3d9-6aa8cea5e44a"
      },
      "source": [
        "%%writefile temp.exs\n",
        "# コメント実験\n",
        "str = \"helloworld!!!!\"\n",
        "IO.puts str"
      ],
      "execution_count": 24,
      "outputs": [
        {
          "output_type": "stream",
          "text": [
            "Overwriting temp.exs\n"
          ],
          "name": "stdout"
        }
      ]
    },
    {
      "cell_type": "code",
      "metadata": {
        "colab": {
          "base_uri": "https://localhost:8080/"
        },
        "id": "qUtHCWc3mtba",
        "outputId": "1f54fb90-0653-49dd-d1db-7e089d948f6e"
      },
      "source": [
        "!elixir temp.exs"
      ],
      "execution_count": 25,
      "outputs": [
        {
          "output_type": "stream",
          "text": [
            "helloworld!!!!\n"
          ],
          "name": "stdout"
        }
      ]
    },
    {
      "cell_type": "code",
      "metadata": {
        "colab": {
          "base_uri": "https://localhost:8080/"
        },
        "id": "iosas2W_nx9E",
        "outputId": "737a734e-981f-41de-b4d3-400dc19e8551"
      },
      "source": [
        "!elixir -e 'IO.puts 0b1111'\n",
        "!elixir -e 'IO.puts 0o7777'\n",
        "!elixir -e 'IO.puts 0xffff'\n",
        "!elixir -e 'IO.puts 1000_000_00_0'"
      ],
      "execution_count": 30,
      "outputs": [
        {
          "output_type": "stream",
          "text": [
            "15\n",
            "4095\n",
            "65535\n",
            "1000000000\n"
          ],
          "name": "stdout"
        }
      ]
    },
    {
      "cell_type": "code",
      "metadata": {
        "colab": {
          "base_uri": "https://localhost:8080/"
        },
        "id": "fY5OrrP9ogLF",
        "outputId": "aa2bb19c-e191-440c-fb37-220496e03a4c"
      },
      "source": [
        "!elixir -e 'IO.puts 1.532e-4'\n",
        "# .0 とか 1. とかはエラーになる"
      ],
      "execution_count": 33,
      "outputs": [
        {
          "output_type": "stream",
          "text": [
            "1.532e-4\n",
            "** (TokenMissingError) nofile:1: syntax error: expression is incomplete\n",
            "    (elixir) lib/code.ex:168: Code.eval_string/3\n",
            "\n"
          ],
          "name": "stdout"
        }
      ]
    },
    {
      "cell_type": "code",
      "metadata": {
        "colab": {
          "base_uri": "https://localhost:8080/"
        },
        "id": "Bjc6aZSso4ma",
        "outputId": "6f8ebaaa-eb74-4530-8c16-2f2b64b501dc"
      },
      "source": [
        "!elixir -e 'IO.puts \"日本語が書けますか\"'\n",
        "!elixir -e 'IO.puts \"日本語が書けます\"'"
      ],
      "execution_count": 36,
      "outputs": [
        {
          "output_type": "stream",
          "text": [
            "日本語が書けますか\n",
            "日本語が書けます\n"
          ],
          "name": "stdout"
        }
      ]
    },
    {
      "cell_type": "code",
      "metadata": {
        "colab": {
          "base_uri": "https://localhost:8080/"
        },
        "id": "UhF_wVUSpG0A",
        "outputId": "f2f39671-1b6e-4f1c-8987-9ce103450f3d"
      },
      "source": [
        "# 関数の括弧の前にスペースはエラーになる\n",
        "!elixir -e 'IO.puts(0b1111)'\n",
        "!elixir -e 'IO.puts(\"にほんご\\n日本語\")'\n",
        "!elixir -e \"IO.puts('にほんご\\n\\\"日本語\\\"')\""
      ],
      "execution_count": 50,
      "outputs": [
        {
          "output_type": "stream",
          "text": [
            "15\n",
            "にほんご\n",
            "日本語\n",
            "にほんご\n",
            "\"日本語\"\n"
          ],
          "name": "stdout"
        }
      ]
    },
    {
      "cell_type": "code",
      "metadata": {
        "colab": {
          "base_uri": "https://localhost:8080/"
        },
        "id": "Pse7-AAcqCD1",
        "outputId": "0851c255-6fb5-4eb5-ba6c-5ccad4d8b18d"
      },
      "source": [
        "# 文字連結\n",
        "!elixir -e 'IO.puts(\"ABCD\"<>\"EFGH\")'"
      ],
      "execution_count": 51,
      "outputs": [
        {
          "output_type": "stream",
          "text": [
            "ABCDEFGH\n"
          ],
          "name": "stdout"
        }
      ]
    },
    {
      "cell_type": "markdown",
      "metadata": {
        "id": "zeEliw_Esji1"
      },
      "source": [
        "値の埋め込み\n",
        "\n",
        "`#{変数名}` を記述することで、変数の値を埋め込むことができる。\n"
      ]
    },
    {
      "cell_type": "code",
      "metadata": {
        "id": "1mm0BWeds1SQ",
        "outputId": "724e430c-d384-40b2-8435-bbf4bb24e3c3",
        "colab": {
          "base_uri": "https://localhost:8080/"
        }
      },
      "source": [
        "!elixir -e 'val = 1000; IO.puts \"val = #{val}\"'"
      ],
      "execution_count": 52,
      "outputs": [
        {
          "output_type": "stream",
          "text": [
            "val = 1000\n"
          ],
          "name": "stdout"
        }
      ]
    },
    {
      "cell_type": "markdown",
      "metadata": {
        "id": "StBnVUaHtQgL"
      },
      "source": [
        "真理値\n",
        "\n",
        "true と false で false と nil が false でそれ以外は true\n"
      ]
    },
    {
      "cell_type": "code",
      "metadata": {
        "id": "D9yH5Dy-tgFj",
        "outputId": "c1a2e8af-cf2f-4fec-adea-077e71df9bfe",
        "colab": {
          "base_uri": "https://localhost:8080/"
        }
      },
      "source": [
        "!elixir -e 'if true do IO.puts \"true\" end'"
      ],
      "execution_count": 55,
      "outputs": [
        {
          "output_type": "stream",
          "text": [
            "true\n"
          ],
          "name": "stdout"
        }
      ]
    },
    {
      "cell_type": "markdown",
      "metadata": {
        "id": "H5V331cUuN5E"
      },
      "source": [
        "# いまここ"
      ]
    },
    {
      "cell_type": "code",
      "metadata": {
        "id": "dYe-13TJmxA6"
      },
      "source": [
        "\n",
        "●真理値\n",
        "\tElixirの真理値は「true」と「false」が用意されており、\n",
        "\tfalseとnilは偽、それ以外の値は全て真(true)と判断されます。\n",
        "\n",
        "●アトム\n",
        "\tアトムは名前がそのまま値となる定数です。\n",
        "\t名前の前に「:」をつけることでアトムとして扱われます。\n",
        "\n",
        "\t・例\n",
        "\t\tiex> :Test == :Test\n",
        "\t\ttrue\n",
        "\t\tiex> :Test == :Test2\n",
        "\t\tfalse\n",
        "\n",
        "\t・真理値との関係\n",
        "\t\t真理値のtrueとfalseの正体はアトムです。\n",
        "\n",
        "\t\t・証明コード\n",
        "\t\t\tiex> true === :true\n",
        "\t\t\ttrue\n",
        "\n",
        "\t・使用できる文字\n",
        "\t\tアトムに使用できる文字は英字の大文字、小文字、数字、アンダースコア(_)、「@」が\n",
        "\t\t使用でき、終端文字としてのみ「!」や「?」が使えます。\n",
        "\n",
        "\t\t・先頭で使える文字\n",
        "\t\t\t先頭で使用できる文字は英字とアンダースコア(_)のみです。\n",
        "\t\t\t「@」や数字は使えないので注意して下さい。\n",
        "\n",
        "\t\t・例１\n",
        "\t\t\tiex> :yttm@gmail\n",
        "\t\t\t:yttm@gmail\n",
        "\n",
        "\t\t・例２\n",
        "\t\t\tiex> :ElixirWolrd!\n",
        "\t\t\t:ElixirWolrd!\n",
        "■演算子\n",
        "こちらで紹介する演算子は「算術演算子」「比較演算子」「論理演算子」です。\n",
        "他にも「マッチ演算子」などがありますが、それらは別で説明します。\n",
        "\n",
        "●算術演算子\n",
        "\t算術演算子は計算を行うための演算子です。\n",
        "\t四則演算を行うための演算子が用意されています。\n",
        "\n",
        "\t・足し算\n",
        "\t\t足し算を行う場合は「+」演算子を使用します。\n",
        "\t\tこの演算子を二つの値の間に指定すると左辺と右辺の値で足し算が行われます。\n",
        "\n",
        "\t\t・例\n",
        "\t\t\tiex> 1 + 2\n",
        "\t\t\t3\n",
        "\t\t\tiex> x = 10\n",
        "\t\t\t10\n",
        "\t\t\tiex> x + 1\n",
        "\t\t\t11\n",
        "\n",
        "\t・引き算\n",
        "\t\t引き算を行う場合は「-」演算子を使用します。\n",
        "\t\tこの演算子を二つの値の間に指定すると左辺と右辺の値で引き算が行われます。\n",
        "\n",
        "\t\t・例\n",
        "\t\t\tiex> 1 - 2\n",
        "\t\t\t-1\n",
        "\t\t\tiex> x = 10\n",
        "\t\t\t10\n",
        "\t\t\tiex> x - 1\n",
        "\t\t\t9\n",
        "\n",
        "\t・掛け算\n",
        "\t\t掛け算を行う場合は「*」演算子を使用します。\n",
        "\t\tこの演算子を二つの値の間に指定すると左辺と右辺の値で掛け算が行われます。\n",
        "\n",
        "\t\t・例\n",
        "\t\t\tiex> 5 * 2\n",
        "\t\t\t10\n",
        "\t\t\tiex> x = 10\n",
        "\t\t\t10\n",
        "\t\t\tiex> x * 4\n",
        "\t\t\t40\n",
        "\n",
        "\t・割り算\n",
        "\t\t割り算を行う場合は「/」演算子を使用します。\n",
        "\t\tこの演算子を二つの値の間に指定すると左辺と右辺の値で割り算が行われます。\n",
        "\n",
        "\t\t・例\n",
        "\t\t\tiex> 5 / 2\n",
        "\t\t\t2.5\n",
        "\t\t\tiex> x = 10\n",
        "\t\t\t10\n",
        "\t\t\tiex> x / 3\n",
        "\t\t\t3.3333333333333335\n",
        "\n",
        "\t\t・強制浮動少数\n",
        "\t\t\tElixirの「/」を使用した割り算は整数同士でも強制的に\n",
        "\t\t\t浮動少数として扱われます。\n",
        "\n",
        "\t\t\t・例\n",
        "\t\t\t\tiex> 10 / 2\n",
        "\t\t\t\t5.0\n",
        "\n",
        "\t\t\t浮動少数ではなく整数としての結果がほしい場合はdiv関数を使用します。\n",
        "\n",
        "\t\t\t・例\n",
        "\t\t\t\tiex> div(10, 5)\n",
        "\t\t\t\t2\n",
        "\t\t\t\tiex> div(10, 4)\n",
        "\t\t\t\t2\n",
        "\n",
        "\t・余り算\n",
        "\t\t割り算の余りを求める余り算を行う場合は「rem」関数を使用します。\n",
        "\t\t\n",
        "\t\t・例\n",
        "\t\t\tiex> rem(10, 4)\n",
        "\t\t\t2\n",
        "\t\t\tiex> rem(10, 3)\n",
        "\t\t\t1\n",
        "\t\t\tiex> rem(4, 2)\n",
        "\t\t\t0\n",
        "\n",
        "●比較演算子\n",
        "\t比較演算子は二つの値を比較する際に使用する演算子です。\n",
        "\t比較の結果が正しければ「true」間違っていれば「false」となります。\n",
        "\n",
        "\t・==\n",
        "\t\t「==」は左辺と右辺の値が同じ値かを比較する演算子です。\n",
        "\t\t同じ値なら「true」異なった値なら「false」となります。\n",
        "\n",
        "\t\t・例\n",
        "\t\t\tiex> 1 == 1\n",
        "\t\t\ttrue\n",
        "\t\t\tiex> 1 == 2\n",
        "\t\t\tfalse\n",
        "\t\t\tiex> x = 10\n",
        "\t\t\t10\n",
        "\t\t\tiex> y = 10\n",
        "\t\t\t10\n",
        "\t\t\tiex> x == y\n",
        "\t\t\ttrue\n",
        "\n",
        "\t・!=\n",
        "\t\t「!=」は左辺と右辺の値が異なっているかを比較する演算子です。\n",
        "\t\t値が異なっていたら「true」同じなら「false」となります。\n",
        "\n",
        "\t\t・例\n",
        "\t\t\tiex> 1 != 1\n",
        "\t\t\tfalse\n",
        "\t\t\tiex> 1 != 2\n",
        "\t\t\ttrue\n",
        "\t\t\tiex> str = \"Hello\"\n",
        "\t\t\t\"Hello\"\n",
        "\t\t\tiex> str2 = \"Hello Wolrd\"\n",
        "\t\t\t\"Hello Wolrd\"\n",
        "\t\t\tiex> str != str2\n",
        "\t\t\ttrue\n",
        "\t・===\n",
        "\t\t「===」はデータ型の違い含めるなど「==」よりも厳密な等号比較が行われます。\n",
        "\t\t値が同じ値なら「true」異なる値なら「false」となります。\n",
        "\n",
        "\t\t・例\n",
        "\t\t\tiex> 20.0 == 20\n",
        "\t\t\ttrue\n",
        "\t\t\tiex> 20.0 === 20\n",
        "\t\t\tfalse\n",
        "\n",
        "\t\t上の例では１回目の比較は「==」を使用し、20.0と20を比較し、結果はtrueとなっています。\n",
        "\t\t２回目の比較では「===」を使用し再度20.0と20を比較していますが、\n",
        "\t\t結果はfalseとなっています。\n",
        "\t\tこれは20.0は浮動少数型、20は整数型なので厳密に比較すると異なっていると\n",
        "\t\t判断されたためです。\n",
        "\n",
        "\t・!==\n",
        "\t\t「!==」は「!=」よりも厳密な判定が行われます。\n",
        "\t\t型などを含めて値が異なっていたら「true」、完全に値が一致していたら「false」となります。\n",
        "\n",
        "\t\t・例\n",
        "\t\t\tiex> 20.0 != 20\n",
        "\t\t\tfalse\n",
        "\t\t\tiex> 20.0 !== 20\n",
        "\t\t\ttrue\n",
        "\n",
        "\t・<=\n",
        "\t\t「<=」は２つ値の大小関係を比較します。\n",
        "\t\t左辺の値が右辺の値以下の場合「true」左辺の値が右辺の値よりも\n",
        "\t\t大きければ「false」となります。\n",
        "\n",
        "\t\t・例\n",
        "\t\t\tiex> 20 <= 30\n",
        "\t\t\ttrue\n",
        "\t\t\tiex> 20 <= 20\n",
        "\t\t\ttrue\n",
        "\t\t\tiex> 20 <= 10\n",
        "\t\t\tfalse\n",
        "\n",
        "\t・<\n",
        "\t\t「<=」は２つ値の大小関係を比較します。\n",
        "\t\t左辺の値が右辺の値よりも小さい場合「true」\n",
        "\t\t左辺の値が右辺の値以上なら「false」となります。\n",
        "\n",
        "\t\t・例\n",
        "\t\t\tiex> 20 < 30\n",
        "\t\t\ttrue\n",
        "\t\t\tiex> 20 < 20\n",
        "\t\t\tfalse\n",
        "\t\t\tiex> 20 < 10\n",
        "\t\t\tfalse\n",
        "\n",
        "\t・>=\n",
        "\t\t「>=」は２つ値の大小関係を比較します。\n",
        "\t\t左辺の値が右辺の値以上の場合「true」左辺の値が右辺の値よりも\n",
        "\t\t小さければ「false」となります。\n",
        "\n",
        "\t\t・例\n",
        "\t\t\tiex> 30 >= 20\n",
        "\t\t\ttrue\n",
        "\t\t\tiex> 30 >= 30\n",
        "\t\t\ttrue\n",
        "\t\t\tiex> 20 >= 30\n",
        "\t\t\tfalse\n",
        "\n",
        "\t・>\n",
        "\t\t「>」は２つ値の大小関係を比較します。\n",
        "\t\t左辺の値が右辺の値よりも大きい場合「true」\n",
        "\t\t左辺の値が右辺の値以下なら「false」となります。\n",
        "\n",
        "\t\t・例\n",
        "\t\t\tiex> 30 > 20\n",
        "\t\t\ttrue\n",
        "\t\t\tiex> 30 > 30\n",
        "\t\t\tfalse\n",
        "\t\t\tiex> 20 > 30\n",
        "\t\t\tfalse\n",
        "\n",
        "\t・文字の比較\n",
        "\t\t文字列は大文字、小文字を区別して判定します。\n",
        "\n",
        "\t\t・例\n",
        "\t\t\tiex> \"ABC\" == \"ABC\"\n",
        "\t\t\ttrue\n",
        "\t\t\tiex> \"ABC\" == \"abc\"\n",
        "\t\t\tfalse\n",
        "\n",
        "\t\t上の例で、最初の比較はどちらも「\"ABC\"」で比較しており、結果はtrueになっています。\n",
        "\t\t次の比較は右辺が「\"ABC\"」左辺が「\"abc\"」で比較しており、結果はfalseです。\n",
        "\t\t２回目の比較は左辺が全て大文字、右辺が全て小文字なので、別の文字列として扱われ、\n",
        "\t\t比較の結果としてfalseとなっています。\n",
        "\n",
        "●論理演算子\n",
        "\t論理演算子は複雑な条件式を行う場合に使用される演算子で、主に式と式の繋ぎとして使用されます。\n",
        "\n",
        "\t・論理和\n",
        "\t\t論理和は二つの条件式の結果のどちらかがtrueだった場合、\n",
        "\t\t全体の条件式の結果をtrueとして判定する演算子です。\n",
        "\t\t「||」記号を使用します。\n",
        "\t\t\n",
        "\t\t・例\n",
        "\t\t\tiex> \"ABC\" == \"ABC\" || 20 == 30\n",
        "\t\t\ttrue\n",
        "\t\t\tiex> \"ABC\" == \"abc\" || 20 == 30\n",
        "\t\t\tfalse\n",
        "\n",
        "\t・論理積\n",
        "\t\t論理積は二つの条件式の結果が両方ともtrueだった場合、\n",
        "\t\t全体の条件式の結果をtrueとして判定する演算子です。\n",
        "\t\t「&&」記号を使用します。\n",
        "\n",
        "\t\t・例\n",
        "\t\t\tiex> \"ABC\" == \"ABC\" && 20 == 20\n",
        "\t\t\ttrue\n",
        "\t\t\tiex> \"ABC\" == \"ABC\" && 20 == 30\n",
        "\t\t\tfalse\n",
        "\t\t\tiex> \"ABC\" == \"def\" && 10 > 100\n",
        "\t\t\tfalse\n",
        "\n",
        "\t・否定\n",
        "\t\t否定は条件式の結果を反転させます。\n",
        "\t\t条件式の結果がtrueだったらfalse、falseだったらtrueとなります。\n",
        "\t\t否定は論理積、論理和と異なり否定したい条件式の前に「!」を設定します。\n",
        "\t\t※否定を行う条件式は()で囲んでください。\n",
        "\n",
        "\t\t・例\n",
        "\t\t\tiex> !(\"ABC\" == \"ABC\")\n",
        "\t\t\tfalse\n",
        "\t\t\tiex> !(\"ABC\" == \"DEF\")\n",
        "\t\t\ttrue\n",
        "\n",
        " \n",
        "\n",
        " \t "
      ],
      "execution_count": null,
      "outputs": []
    }
  ]
}