{
  "nbformat": 4,
  "nbformat_minor": 0,
  "metadata": {
    "colab": {
      "name": "learnelixir.ipynb",
      "provenance": [],
      "toc_visible": true,
      "authorship_tag": "ABX9TyMffX5KiOmnvrNn99QHVpNk",
      "include_colab_link": true
    },
    "kernelspec": {
      "name": "python3",
      "display_name": "Python 3"
    },
    "language_info": {
      "name": "python"
    }
  },
  "cells": [
    {
      "cell_type": "markdown",
      "metadata": {
        "id": "view-in-github",
        "colab_type": "text"
      },
      "source": [
        "<a href=\"https://colab.research.google.com/github/kalz2q/mycolabnotebooks/blob/master/learnelixir.ipynb\" target=\"_parent\"><img src=\"https://colab.research.google.com/assets/colab-badge.svg\" alt=\"Open In Colab\"/></a>"
      ]
    },
    {
      "cell_type": "markdown",
      "metadata": {
        "id": "RfpoUurcVnZv"
      },
      "source": [
        "# メモ\n",
        "\n",
        "elixir を齧る。かじる。\n",
        "\n",
        "今のイメージ erlang 上で、erlang は 並行処理のためのシステムで、その erlang 上で理想的な言語を作ろうとしたら、ruby + clojure みたいな言語になった。\n",
        "\n",
        "Dave Thomas と まつもとゆきひろ が勧めているのだからいい言語なのだろう。\n"
      ]
    },
    {
      "cell_type": "markdown",
      "metadata": {
        "id": "kEf4GSz_Vva4"
      },
      "source": [
        "* https://magazine.rubyist.net/articles/0054/0054-ElixirBook.html\n",
        "* https://elixirschool.com/ja/lessons/basics/basics/"
      ]
    },
    {
      "cell_type": "code",
      "metadata": {
        "id": "THvpbkjdWs0Q"
      },
      "source": [
        "%%capture\n",
        "!sudo apt install elixir"
      ],
      "execution_count": 11,
      "outputs": []
    },
    {
      "cell_type": "code",
      "metadata": {
        "id": "S_s89E37Xroq",
        "outputId": "28467e43-ae29-4cbe-e690-0a19c9b9943a",
        "colab": {
          "base_uri": "https://localhost:8080/"
        }
      },
      "source": [
        "!elixir -e 'IO.puts 3 + 3'"
      ],
      "execution_count": 19,
      "outputs": [
        {
          "output_type": "stream",
          "text": [
            "6\n"
          ],
          "name": "stdout"
        }
      ]
    }
  ]
}