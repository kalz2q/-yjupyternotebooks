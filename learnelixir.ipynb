{
  "nbformat": 4,
  "nbformat_minor": 0,
  "metadata": {
    "colab": {
      "name": "learnelixir.ipynb",
      "provenance": [],
      "toc_visible": true,
      "authorship_tag": "ABX9TyMRoJgsnSU1XcU+qBXUsDZ1",
      "include_colab_link": true
    },
    "kernelspec": {
      "name": "python3",
      "display_name": "Python 3"
    },
    "language_info": {
      "name": "python"
    }
  },
  "cells": [
    {
      "cell_type": "markdown",
      "metadata": {
        "id": "view-in-github",
        "colab_type": "text"
      },
      "source": [
        "<a href=\"https://colab.research.google.com/github/kalz2q/mycolabnotebooks/blob/master/learnelixir.ipynb\" target=\"_parent\"><img src=\"https://colab.research.google.com/assets/colab-badge.svg\" alt=\"Open In Colab\"/></a>"
      ]
    },
    {
      "cell_type": "markdown",
      "metadata": {
        "id": "RfpoUurcVnZv"
      },
      "source": [
        "# メモ\n",
        "\n",
        "elixir を齧る。かじる。\n",
        "\n",
        "今のイメージ erlang 上で、erlang は 並行処理のためのシステムで、その erlang 上で理想的な言語を作ろうとしたら、ruby + clojure みたいな言語になった。\n",
        "\n",
        "Dave Thomas と まつもとゆきひろ が勧めているのだからいい言語なのだろう。\n"
      ]
    },
    {
      "cell_type": "markdown",
      "metadata": {
        "id": "kEf4GSz_Vva4"
      },
      "source": [
        "* https://elixirschool.com/ja/lessons/basics/collections/#マップ\n",
        "* https://magazine.rubyist.net/articles/0054/0054-ElixirBook.html"
      ]
    },
    {
      "cell_type": "code",
      "metadata": {
        "id": "THvpbkjdWs0Q"
      },
      "source": [
        "%%capture\n",
        "!sudo apt install elixir"
      ],
      "execution_count": 2,
      "outputs": []
    },
    {
      "cell_type": "markdown",
      "metadata": {
        "id": "IpYclRqgcttK"
      },
      "source": [
        "メモ\n",
        "\n",
        "このあと `!elixir --version` とするとエラーになるが、以下のコードセルに見るようにとりあえず使えているので先に進む。\n",
        "\n",
        "`!elixir -h` としたら ワンライナー `elixir -e` が使えるらしいことがわかった。\n",
        "\n",
        "`iex` というのがインタラクティブ環境なのだが、colab では使いにくいのでとりあえず使わない。\n"
      ]
    },
    {
      "cell_type": "code",
      "metadata": {
        "id": "S_s89E37Xroq",
        "colab": {
          "base_uri": "https://localhost:8080/"
        },
        "outputId": "16bb726b-2ebc-4bfc-c06a-c995031adff7"
      },
      "source": [
        "!elixir -e 'IO.puts 3 + 3'\n",
        "!elixir -e 'IO.puts \"hello world!\"'"
      ],
      "execution_count": null,
      "outputs": [
        {
          "output_type": "stream",
          "text": [
            "6\n",
            "hello world!\n"
          ],
          "name": "stdout"
        }
      ]
    },
    {
      "cell_type": "code",
      "metadata": {
        "colab": {
          "base_uri": "https://localhost:8080/"
        },
        "id": "RYCKapxtdtco",
        "outputId": "d4e4151e-35c1-486d-99a1-32335e538f95"
      },
      "source": [
        "%%writefile temp.exs\n",
        "IO.puts \"this is a pen.\""
      ],
      "execution_count": null,
      "outputs": [
        {
          "output_type": "stream",
          "text": [
            "Writing temp.exs\n"
          ],
          "name": "stdout"
        }
      ]
    },
    {
      "cell_type": "code",
      "metadata": {
        "colab": {
          "base_uri": "https://localhost:8080/"
        },
        "id": "06mP6Jy_d505",
        "outputId": "96eeaaee-0931-4378-f9c3-6f02582ca08c"
      },
      "source": [
        "!elixir temp.exs"
      ],
      "execution_count": null,
      "outputs": [
        {
          "output_type": "stream",
          "text": [
            "this is a pen.\n"
          ],
          "name": "stdout"
        }
      ]
    },
    {
      "cell_type": "markdown",
      "metadata": {
        "id": "7NE03KtbjVDc"
      },
      "source": [
        "ネットで紹介されていた次のコードセルのコードはどうやって実行するのだろう。\n",
        "\n",
        "説明:\n",
        "\n",
        "このプログラムでは、Parallel というモジュールに pmap という関数を定義しています。 pmap は、与えられたコレクションに対して map（Ruby での Enumerable#map と同じようなものと考えて下さい）を行なうのですが、 各要素の処理を、要素数の分だけプロセスを生成し、各プロセスで並行に実行する、というものです。 ちょっと見ても、よくわからないような気がしますが、大丈夫、本書を読めば、わかるようになります。\n",
        "\n",
        "とのこと。"
      ]
    },
    {
      "cell_type": "code",
      "metadata": {
        "id": "_OFyxKshdQ2W"
      },
      "source": [
        "%%writefile temp.exs\n",
        "defmodule Parallel do\n",
        "  def pmap(collection, func) do\n",
        "    collection\n",
        "    |> Enum.map(&(Task.async(fn -> func.(&1) end)))\n",
        "    |> Enum.map(&Task.await/1)\n",
        "  end\n",
        "end"
      ],
      "execution_count": null,
      "outputs": []
    },
    {
      "cell_type": "markdown",
      "metadata": {
        "id": "Ajr_Z2V6mh7Y"
      },
      "source": [
        "コメントは `#`"
      ]
    },
    {
      "cell_type": "code",
      "metadata": {
        "colab": {
          "base_uri": "https://localhost:8080/"
        },
        "id": "DfMZdyUImlsG",
        "outputId": "3800188f-1fad-40cd-b3d9-6aa8cea5e44a"
      },
      "source": [
        "%%writefile temp.exs\n",
        "# コメント実験\n",
        "str = \"helloworld!!!!\"\n",
        "IO.puts str"
      ],
      "execution_count": null,
      "outputs": [
        {
          "output_type": "stream",
          "text": [
            "Overwriting temp.exs\n"
          ],
          "name": "stdout"
        }
      ]
    },
    {
      "cell_type": "code",
      "metadata": {
        "colab": {
          "base_uri": "https://localhost:8080/"
        },
        "id": "qUtHCWc3mtba",
        "outputId": "1f54fb90-0653-49dd-d1db-7e089d948f6e"
      },
      "source": [
        "!elixir temp.exs"
      ],
      "execution_count": null,
      "outputs": [
        {
          "output_type": "stream",
          "text": [
            "helloworld!!!!\n"
          ],
          "name": "stdout"
        }
      ]
    },
    {
      "cell_type": "code",
      "metadata": {
        "colab": {
          "base_uri": "https://localhost:8080/"
        },
        "id": "iosas2W_nx9E",
        "outputId": "737a734e-981f-41de-b4d3-400dc19e8551"
      },
      "source": [
        "!elixir -e 'IO.puts 0b1111'\n",
        "!elixir -e 'IO.puts 0o7777'\n",
        "!elixir -e 'IO.puts 0xffff'\n",
        "!elixir -e 'IO.puts 1000_000_00_0'"
      ],
      "execution_count": null,
      "outputs": [
        {
          "output_type": "stream",
          "text": [
            "15\n",
            "4095\n",
            "65535\n",
            "1000000000\n"
          ],
          "name": "stdout"
        }
      ]
    },
    {
      "cell_type": "code",
      "metadata": {
        "colab": {
          "base_uri": "https://localhost:8080/"
        },
        "id": "fY5OrrP9ogLF",
        "outputId": "aa2bb19c-e191-440c-fb37-220496e03a4c"
      },
      "source": [
        "!elixir -e 'IO.puts 1.532e-4'\n",
        "# .0 とか 1. とかはエラーになる"
      ],
      "execution_count": null,
      "outputs": [
        {
          "output_type": "stream",
          "text": [
            "1.532e-4\n",
            "** (TokenMissingError) nofile:1: syntax error: expression is incomplete\n",
            "    (elixir) lib/code.ex:168: Code.eval_string/3\n",
            "\n"
          ],
          "name": "stdout"
        }
      ]
    },
    {
      "cell_type": "code",
      "metadata": {
        "colab": {
          "base_uri": "https://localhost:8080/"
        },
        "id": "Bjc6aZSso4ma",
        "outputId": "6f8ebaaa-eb74-4530-8c16-2f2b64b501dc"
      },
      "source": [
        "!elixir -e 'IO.puts \"日本語が書けますか\"'\n",
        "!elixir -e 'IO.puts \"日本語が書けます\"'"
      ],
      "execution_count": null,
      "outputs": [
        {
          "output_type": "stream",
          "text": [
            "日本語が書けますか\n",
            "日本語が書けます\n"
          ],
          "name": "stdout"
        }
      ]
    },
    {
      "cell_type": "code",
      "metadata": {
        "colab": {
          "base_uri": "https://localhost:8080/"
        },
        "id": "UhF_wVUSpG0A",
        "outputId": "f2f39671-1b6e-4f1c-8987-9ce103450f3d"
      },
      "source": [
        "# 関数の括弧の前にスペースはエラーになる\n",
        "!elixir -e 'IO.puts(0b1111)'\n",
        "!elixir -e 'IO.puts(\"にほんご\\n日本語\")'\n",
        "!elixir -e \"IO.puts('にほんご\\n\\\"日本語\\\"')\""
      ],
      "execution_count": null,
      "outputs": [
        {
          "output_type": "stream",
          "text": [
            "15\n",
            "にほんご\n",
            "日本語\n",
            "にほんご\n",
            "\"日本語\"\n"
          ],
          "name": "stdout"
        }
      ]
    },
    {
      "cell_type": "code",
      "metadata": {
        "colab": {
          "base_uri": "https://localhost:8080/"
        },
        "id": "Pse7-AAcqCD1",
        "outputId": "0851c255-6fb5-4eb5-ba6c-5ccad4d8b18d"
      },
      "source": [
        "# 文字連結\n",
        "!elixir -e 'IO.puts(\"ABCD\"<>\"EFGH\")'"
      ],
      "execution_count": null,
      "outputs": [
        {
          "output_type": "stream",
          "text": [
            "ABCDEFGH\n"
          ],
          "name": "stdout"
        }
      ]
    },
    {
      "cell_type": "markdown",
      "metadata": {
        "id": "zeEliw_Esji1"
      },
      "source": [
        "値の埋め込み\n",
        "\n",
        "`#{変数名}` を記述することで、変数の値を埋め込むことができる。\n"
      ]
    },
    {
      "cell_type": "code",
      "metadata": {
        "colab": {
          "base_uri": "https://localhost:8080/"
        },
        "id": "1mm0BWeds1SQ",
        "outputId": "724e430c-d384-40b2-8435-bbf4bb24e3c3"
      },
      "source": [
        "!elixir -e 'val = 1000; IO.puts \"val = #{val}\"'"
      ],
      "execution_count": null,
      "outputs": [
        {
          "output_type": "stream",
          "text": [
            "val = 1000\n"
          ],
          "name": "stdout"
        }
      ]
    },
    {
      "cell_type": "markdown",
      "metadata": {
        "id": "StBnVUaHtQgL"
      },
      "source": [
        "真理値\n",
        "\n",
        "true と false で false と nil が false でそれ以外は true\n",
        "\n"
      ]
    },
    {
      "cell_type": "code",
      "metadata": {
        "colab": {
          "base_uri": "https://localhost:8080/"
        },
        "id": "D9yH5Dy-tgFj",
        "outputId": "7d3ed7b6-378b-40b9-8945-1ade4c959e32"
      },
      "source": [
        "!elixir -e 'if true do IO.puts \"true\" end'\n",
        "!elixir -e 'if True do IO.puts \"true\" end'\n",
        "!elixir -e 'if False do IO.puts \"true\" end'\n",
        "!elixir -e 'if false do IO.puts \"true\" else IO.puts \"false\" end'\n",
        "!elixir -e 'if nil do IO.puts \"true\" else IO.puts \"false\" end'\n",
        "!elixir -e 'if 0 do IO.puts \"true\" else IO.puts \"false\" end'\n",
        "!elixir -e 'if (-1) do IO.puts \"true\" else IO.puts \"false\" end'\n",
        "!elixir -e 'if [] do IO.puts \"true\" else IO.puts \"false\" end'\n",
        "!elixir -e 'if \"\" do IO.puts \"true\" else IO.puts \"false\" end'"
      ],
      "execution_count": null,
      "outputs": [
        {
          "output_type": "stream",
          "text": [
            "true\n",
            "true\n",
            "true\n",
            "false\n",
            "false\n",
            "true\n",
            "true\n",
            "true\n",
            "true\n"
          ],
          "name": "stdout"
        }
      ]
    },
    {
      "cell_type": "markdown",
      "metadata": {
        "id": "itYbKcCB4ySP"
      },
      "source": [
        "`null` はない。"
      ]
    },
    {
      "cell_type": "markdown",
      "metadata": {
        "id": "ymMoHgZ648UL"
      },
      "source": [
        "# アトム\n",
        "\n",
        "アトムは名前がそのまま値となる定数である。\n",
        "\n",
        "名前の前にコロン `:` をつけることでアトムになる。\n",
        "\n",
        "アトムはアンダースコア `_` もしくは英字で始まる。 そのあとは\n",
        "数字、アンダースコア、`@` が使える。 終端文字としてのみ「!」や「?」が使える。\n"
      ]
    },
    {
      "cell_type": "code",
      "metadata": {
        "id": "I4OyDEuL5NXn",
        "colab": {
          "base_uri": "https://localhost:8080/"
        },
        "outputId": "193cbd02-6a0c-4656-d1d6-34ad84674231"
      },
      "source": [
        "!elixir -e 'IO.puts true === :true'"
      ],
      "execution_count": null,
      "outputs": [
        {
          "output_type": "stream",
          "text": [
            "true\n"
          ],
          "name": "stdout"
        }
      ]
    },
    {
      "cell_type": "markdown",
      "metadata": {
        "id": "11Dfjo4Y6LQU"
      },
      "source": [
        "演算子"
      ]
    },
    {
      "cell_type": "code",
      "metadata": {
        "id": "ISACU_0p6Nv2",
        "colab": {
          "base_uri": "https://localhost:8080/"
        },
        "outputId": "0c26f3bf-ef83-4d36-9386-2f96f3fde532"
      },
      "source": [
        "!elixir -e 'IO.puts 1 + 2'\n",
        "!elixir -e 'x = 10; IO.puts x + 1'\n",
        "!elixir -e 'IO.puts 1 - 2'\n",
        "!elixir -e 'x = 10; IO.puts x - 1'\n",
        "!elixir -e 'IO.puts 5 * 2'\n",
        "!elixir -e 'x = 10; IO.puts x * 4'\n",
        "!echo \n",
        "!elixir -e 'IO.puts 5 / 2'\n",
        "!elixir -e 'x = 10; IO.puts x / 3'"
      ],
      "execution_count": null,
      "outputs": [
        {
          "output_type": "stream",
          "text": [
            "3\n",
            "11\n",
            "-1\n",
            "9\n",
            "10\n",
            "40\n",
            "\n",
            "2.5\n",
            "3.3333333333333335\n"
          ],
          "name": "stdout"
        }
      ]
    },
    {
      "cell_type": "code",
      "metadata": {
        "id": "hcGSSQlu7JEQ",
        "colab": {
          "base_uri": "https://localhost:8080/"
        },
        "outputId": "e814f7b0-75c1-46b4-ad78-941809817307"
      },
      "source": [
        "# 浮動少数ではなく整数としての結果がほしい場合は div 関数を使用\n",
        "!elixir -e 'IO.puts div(10,5)'\n",
        "!elixir -e 'IO.puts div(10,4)'\n",
        "# 割り算の余り、剰余を求める場合は rem関数を使用します。\n",
        "!elixir -e 'IO.puts rem(10,4)'\n",
        "!elixir -e 'IO.puts rem(10,3)'\n",
        "!elixir -e 'IO.puts rem(10,2)'"
      ],
      "execution_count": null,
      "outputs": [
        {
          "output_type": "stream",
          "text": [
            "2\n",
            "2\n",
            "2\n",
            "1\n",
            "0\n"
          ],
          "name": "stdout"
        }
      ]
    },
    {
      "cell_type": "code",
      "metadata": {
        "colab": {
          "base_uri": "https://localhost:8080/"
        },
        "id": "MD79UYp8WYW5",
        "outputId": "896eb7f7-f0dc-4a57-cd29-31a1b6cea4e2"
      },
      "source": [
        "# 比較演算子\n",
        "!elixir -e 'IO.puts 1 == 1'\n",
        "!elixir -e 'IO.puts 1 != 1'\n",
        "!elixir -e 'IO.puts ! (1 != 1)'\n",
        "!elixir -e 'IO.puts 20.0 == 20'\n",
        "!elixir -e 'IO.puts 20.0 === 20'\n",
        "!elixir -e 'IO.puts 20.0 !== 20'"
      ],
      "execution_count": null,
      "outputs": [
        {
          "output_type": "stream",
          "text": [
            "true\n",
            "false\n",
            "true\n",
            "true\n",
            "false\n",
            "\n",
            "true\n"
          ],
          "name": "stdout"
        }
      ]
    },
    {
      "cell_type": "code",
      "metadata": {
        "colab": {
          "base_uri": "https://localhost:8080/"
        },
        "id": "HpG6ZfOPXSHE",
        "outputId": "57dfd1bb-c8c2-4b77-c815-ab4f0077b8a1"
      },
      "source": [
        "# 論理演算子\n",
        "# 論理和\n",
        "!elixir -e 'IO.puts \"ABC\" == \"ABC\" || 20 == 30'\n",
        "!elixir -e 'IO.puts \"ABC\" == \"abc\" || 20 == 30'\n",
        "!echo\n",
        "# 論理積\n",
        "!elixir -e 'IO.puts \"ABC\" == \"ABC\" && 20 == 20'\n",
        "!elixir -e 'IO.puts \"ABC\" == \"ABC\" && 20 == 30'\n",
        "!elixir -e 'IO.puts \"ABC\" == \"def\" && 10 > 100'\n",
        "!echo\n",
        "# 否定\n",
        "!elixir -e 'IO.puts !(\"ABC\" == \"ABC\")'\n",
        "!elixir -e 'IO.puts !(\"ABC\" == \"DEF\")'"
      ],
      "execution_count": null,
      "outputs": [
        {
          "output_type": "stream",
          "text": [
            "true\n",
            "false\n",
            "\n",
            "true\n",
            "false\n",
            "false\n",
            "\n",
            "false\n",
            "true\n"
          ],
          "name": "stdout"
        }
      ]
    },
    {
      "cell_type": "markdown",
      "metadata": {
        "id": "oG0fOdZZaT4E"
      },
      "source": [
        "# リスト\n",
        "\n",
        "elixir のリストは複数の型を含むことができる。\n",
        "\n",
        "メモ 下のコードセルで `IO.inspect` を使っているが、`IO.puts` ではリストを出力できなかったので、とりあえずわからないまま使っている。"
      ]
    },
    {
      "cell_type": "code",
      "metadata": {
        "id": "-UTLByQLaeP-",
        "colab": {
          "base_uri": "https://localhost:8080/"
        },
        "outputId": "d8a1b770-acde-4cc0-8aca-9e24bdcce8a6"
      },
      "source": [
        "# リスト\n",
        "!elixir -e 'IO.inspect [3.14, :pie, \"Apple\"]'\n"
      ],
      "execution_count": null,
      "outputs": [
        {
          "output_type": "stream",
          "text": [
            "[3.14, :pie, \"Apple\"]\n"
          ],
          "name": "stdout"
        }
      ]
    },
    {
      "cell_type": "code",
      "metadata": {
        "id": "2adTcaWdpJLx",
        "colab": {
          "base_uri": "https://localhost:8080/"
        },
        "outputId": "1f8447c8-0702-4b25-da66-8ee5cf4c8fc5"
      },
      "source": [
        "# リスト先頭への追加(高速)\n",
        "!elixir -e 'IO.inspect [\"π\" | [3.14, :pie, \"Apple\"]]'\n",
        "# リスト末尾への追加(低速)\n",
        "!elixir -e 'IO.inspect [3.14, :pie, \"Apple\"] ++ [\"Cherry\"]'"
      ],
      "execution_count": null,
      "outputs": [
        {
          "output_type": "stream",
          "text": [
            "[\"π\", 3.14, :pie, \"Apple\"]\n",
            "[3.14, :pie, \"Apple\", \"Cherry\"]\n"
          ],
          "name": "stdout"
        }
      ]
    },
    {
      "cell_type": "markdown",
      "metadata": {
        "id": "_fTO4PU_Ar3o"
      },
      "source": [
        "上と下のコードセルでリストの連結を行っているが、++/2 演算子を用いている。 この `++/2` という表記は `++` が演算子自体で `/2` がアリティ (引数の数) を表す。 後述。"
      ]
    },
    {
      "cell_type": "code",
      "metadata": {
        "id": "O8nIlA3jBEIf",
        "colab": {
          "base_uri": "https://localhost:8080/"
        },
        "outputId": "936f7d5e-f8c5-456d-c326-957a3c287d2f"
      },
      "source": [
        "# リストの連結\n",
        "!elixir -e 'IO.inspect  [1, 2] ++ [3, 4, 1]'"
      ],
      "execution_count": null,
      "outputs": [
        {
          "output_type": "stream",
          "text": [
            "[1, 2, 3, 4, 1]\n"
          ],
          "name": "stdout"
        }
      ]
    },
    {
      "cell_type": "code",
      "metadata": {
        "id": "F6fHksfUVGu0",
        "colab": {
          "base_uri": "https://localhost:8080/"
        },
        "outputId": "74e0f4c8-e4f8-45da-8459-279b431402f2"
      },
      "source": [
        "# リストの減算 \n",
        "#  --/2 演算子は存在しない値を引いてしまってもオッケー\n",
        "!elixir -e 'IO.inspect [\"foo\", :bar, 42] -- [42, \"bar\"]'\n",
        "# 重複した値の場合、右辺の要素のそれぞれに対し、左辺の要素のうち初めて登場した同じ値が順次削除\n",
        "!elixir -e 'IO.inspect [1,2,2,3,2,3] -- [1,2,3,2]'\n",
        "# リストの減算の値のマッチには strict comparison が使われている\n",
        "!elixir -e 'IO.inspect  [2] -- [2.0]'\n",
        "!elixir -e 'IO.inspect  [2.0] -- [2.0]'"
      ],
      "execution_count": null,
      "outputs": [
        {
          "output_type": "stream",
          "text": [
            "[\"foo\", :bar]\n",
            "[2, 3]\n",
            "[2]\n",
            "[]\n"
          ],
          "name": "stdout"
        }
      ]
    },
    {
      "cell_type": "code",
      "metadata": {
        "id": "H6BBZhUrWfq6",
        "colab": {
          "base_uri": "https://localhost:8080/"
        },
        "outputId": "e0828a87-78e0-480d-a5f7-9676de9443da"
      },
      "source": [
        "# head /tail\n",
        "!elixir -e 'IO.inspect hd [3.14, :pie, \"Apple\"]'\n",
        "!elixir -e 'IO.inspect tl [3.14, :pie, \"Apple\"]'"
      ],
      "execution_count": null,
      "outputs": [
        {
          "output_type": "stream",
          "text": [
            "3.14\n",
            "[:pie, \"Apple\"]\n"
          ],
          "name": "stdout"
        }
      ]
    },
    {
      "cell_type": "markdown",
      "metadata": {
        "id": "T-JhzbsCXITz"
      },
      "source": [
        "リストを頭部と尾部に分けるのに\n",
        "\n",
        "* パターンマッチング\n",
        "* cons 演算子( `|` )\n",
        "\n",
        "を使うこともできる。"
      ]
    },
    {
      "cell_type": "code",
      "metadata": {
        "id": "A29_XouHXitI",
        "colab": {
          "base_uri": "https://localhost:8080/"
        },
        "outputId": "de3cea92-cfdb-4096-b031-3f64c79084be"
      },
      "source": [
        "!elixir -e '[head | tail] = [3.14, :pie, \"Apple\"]; IO.inspect head; IO.inspect tail'"
      ],
      "execution_count": null,
      "outputs": [
        {
          "output_type": "stream",
          "text": [
            "3.14\n",
            "[:pie, \"Apple\"]\n"
          ],
          "name": "stdout"
        }
      ]
    },
    {
      "cell_type": "markdown",
      "metadata": {
        "id": "nYc9e2XhX4VL"
      },
      "source": [
        "# タプル\n",
        "\n",
        "タプルの要素はメモリ上に隣接して格納される。\n",
        "\n",
        "このため、長さを得るのは高速ｄが、修正は高コストになる。\n",
        "なぜなら、全ての要素がコピーされるから。\n",
        "\n",
        "タプルは波括弧 brace を用いて定義される。\n"
      ]
    },
    {
      "cell_type": "code",
      "metadata": {
        "id": "S2QAVIgAYdN1",
        "colab": {
          "base_uri": "https://localhost:8080/"
        },
        "outputId": "825d1c1e-1eaa-418a-908e-f5c6320419d6"
      },
      "source": [
        "!elixir -e 'IO.inspect {3.14, :pie, \"Apple\"}'"
      ],
      "execution_count": null,
      "outputs": [
        {
          "output_type": "stream",
          "text": [
            "{3.14, :pie, \"Apple\"}\n"
          ],
          "name": "stdout"
        }
      ]
    },
    {
      "cell_type": "markdown",
      "metadata": {
        "id": "E8R4apKlYsNJ"
      },
      "source": [
        "タプルは関数の返り値に便利に利用される。\n",
        "\n",
        "パターンマッチングと組み合わせて使われる。\n",
        "\n",
        "```\n",
        "iex> File.read(\"path/to/existing/file\")\n",
        "{:ok, \"... contents ...\"}\n",
        "iex> File.read(\"path/to/unknown/file\")\n",
        "{:error, :enoent}\n",
        "```\n",
        "\n"
      ]
    },
    {
      "cell_type": "markdown",
      "metadata": {
        "id": "EOXvBvVzY4Ox"
      },
      "source": [
        "# キーワードリスト\n",
        "\n",
        "キーワードリストとマップは elixir の連想配列である。\n",
        "\n",
        "キーワードリストは最初の要素がアトムのタプルからなる特別なリストで、リストと同様の性能になる。"
      ]
    },
    {
      "cell_type": "code",
      "metadata": {
        "id": "n9K3nXH0Z1pY",
        "colab": {
          "base_uri": "https://localhost:8080/"
        },
        "outputId": "aeb7ff7d-5a8d-4674-c6a0-cfc5a956a7f4"
      },
      "source": [
        "# キーワードリスト\n",
        "!elixir -e 'IO.inspect [foo: \"bar\", hello: \"world\"]'\n",
        "!elixir -e 'IO.inspect [{:foo, \"bar\"}, {:hello, \"world\"}]'\n",
        "!elixir -e 'IO.inspect [foo: \"bar\", hello: \"world\"] == [{:foo, \"bar\"}, {:hello, \"world\"}]'"
      ],
      "execution_count": null,
      "outputs": [
        {
          "output_type": "stream",
          "text": [
            "[foo: \"bar\", hello: \"world\"]\n",
            "[foo: \"bar\", hello: \"world\"]\n",
            "true\n"
          ],
          "name": "stdout"
        }
      ]
    },
    {
      "cell_type": "markdown",
      "metadata": {
        "id": "nCLr_RSYkJgp"
      },
      "source": [
        "キーワードリストの 3 つの特徴\n",
        "\n",
        "* キーはアトムである。\n",
        "* キーは順序付けされている。\n",
        "* キーの一意性は保証されない。\n",
        "\n",
        "こうした理由から、キーワードリストは関数にオプションを渡すためによく用いられる。\n"
      ]
    },
    {
      "cell_type": "markdown",
      "metadata": {
        "id": "FTteo69skgsD"
      },
      "source": [
        "# マップ\n",
        "\n",
        "* キーワードリストとは違ってどんな型のキーも使える。\n",
        "* 順序付けされない。\n",
        "* キーの一意性が保証されている。重複したキーが追加された場合は、前の値が置き換えられる。\n",
        "* 変数をマップのキーにできる。\n",
        "* `%{}` 構文で定義する。\n",
        "\n"
      ]
    },
    {
      "cell_type": "code",
      "metadata": {
        "id": "GpcBT5UxlNqX",
        "colab": {
          "base_uri": "https://localhost:8080/"
        },
        "outputId": "a15c3fdc-37c4-41f4-8278-e98d431841ea"
      },
      "source": [
        "!elixir -e 'IO.inspect %{:foo => \"bar\", \"hello\" => :world}'\n",
        "!elixir -e 'map = %{:foo => \"bar\", \"hello\" => :world}; IO.inspect map[:foo]'\n",
        "!elixir -e 'map = %{:foo => \"bar\", \"hello\" => :world}; IO.inspect map[\"hello\"]'\n",
        "!echo\n",
        "!elixir -e 'key = \"hello\"; IO.inspect %{key => \"world\"}'\n",
        "!elixir -e 'IO.inspect %{:foo => \"bar\", :foo => \"hello world\"}'"
      ],
      "execution_count": null,
      "outputs": [
        {
          "output_type": "stream",
          "text": [
            "%{:foo => \"bar\", \"hello\" => :world}\n",
            "\"bar\"\n",
            ":world\n",
            "\n",
            "%{\"hello\" => \"world\"}\n",
            "%{foo: \"hello world\"}\n"
          ],
          "name": "stdout"
        }
      ]
    },
    {
      "cell_type": "markdown",
      "metadata": {
        "id": "dkcO672-FkQc"
      },
      "source": [
        "上下の例にあるように、アトムのキーだけを含んだマップには特別な構文がある。"
      ]
    },
    {
      "cell_type": "code",
      "metadata": {
        "id": "nvuza7GRmeZa",
        "colab": {
          "base_uri": "https://localhost:8080/"
        },
        "outputId": "1ba6dc41-7686-4518-f243-9faa131c792b"
      },
      "source": [
        "!elixir -e 'IO.inspect %{foo: \"bar\", hello: \"world\"} == %{:foo => \"bar\", :hello => \"world\"}'"
      ],
      "execution_count": null,
      "outputs": [
        {
          "output_type": "stream",
          "text": [
            "true\n"
          ],
          "name": "stdout"
        }
      ]
    },
    {
      "cell_type": "code",
      "metadata": {
        "id": "3qIWDH31ZxtW",
        "colab": {
          "base_uri": "https://localhost:8080/"
        },
        "outputId": "0b112a23-0366-4eaf-89f1-c7401d6fe9dc"
      },
      "source": [
        "# 加えて、アトムのキーにアクセスするための特別な構文がある。\n",
        "!elixir -e 'map = %{foo: \"bar\", hello: \"world\"}; IO.inspect map.hello'"
      ],
      "execution_count": null,
      "outputs": [
        {
          "output_type": "stream",
          "text": [
            "\"world\"\n"
          ],
          "name": "stdout"
        }
      ]
    },
    {
      "cell_type": "code",
      "metadata": {
        "id": "q9GkwzvFaPHo",
        "colab": {
          "base_uri": "https://localhost:8080/"
        },
        "outputId": "980a6289-2e87-4d45-bad8-c43271fafcb4"
      },
      "source": [
        "# マップの更新のための構文がある (新シ map が作成される)\n",
        "# この構文は、マップに既に存在するキーを更新する場合にのみ機能する。\n",
        "!elixir -e 'map = %{foo: \"bar\", hello: \"world\"}; IO.inspect %{map | foo: \"baz\"}'"
      ],
      "execution_count": null,
      "outputs": [
        {
          "output_type": "stream",
          "text": [
            "%{foo: \"baz\", hello: \"world\"}\n"
          ],
          "name": "stdout"
        }
      ]
    },
    {
      "cell_type": "code",
      "metadata": {
        "colab": {
          "base_uri": "https://localhost:8080/"
        },
        "id": "cP3Im0X7qw1v",
        "outputId": "84d640c8-7a16-4262-8578-7f40a9b3aa20"
      },
      "source": [
        "# 新しいキーを作成するには、`Map.put/3` を使用\n",
        "!elixir -e 'map = %{hello: \"world\"}; IO.inspect  Map.put(map, :foo, \"baz\")'"
      ],
      "execution_count": 3,
      "outputs": [
        {
          "output_type": "stream",
          "text": [
            "%{foo: \"baz\", hello: \"world\"}\n"
          ],
          "name": "stdout"
        }
      ]
    },
    {
      "cell_type": "markdown",
      "metadata": {
        "id": "XclysRjIZ-j8"
      },
      "source": [
        "# いまここ"
      ]
    },
    {
      "cell_type": "markdown",
      "metadata": {
        "id": "v2CvxtY_rag8"
      },
      "source": [
        "# enum\n",
        "\n",
        "enum はリストなどを列挙するための一連のアルゴリズム。\n",
        "\n",
        "* all?、any?\n",
        "* chunk_every、chunk_by、map_every\n",
        "* each\n",
        "* map、filter、reduce\n",
        "* min、max\n",
        "* sort、uniq、uniq_by\n",
        "* キャプチャ演算子 `(&)`\n"
      ]
    },
    {
      "cell_type": "markdown",
      "metadata": {
        "id": "g-s-BTlMuwSl"
      },
      "source": [
        "メモ $\\quad$ 関数の調べ方"
      ]
    },
    {
      "cell_type": "code",
      "metadata": {
        "id": "Ir93AAnbvCuA"
      },
      "source": [
        "!elixir -e 'Enum.__info__(:functions) |> Enum.each(fn({function, arity}) -> IO.puts \"#{function}/#{arity}\" end)'"
      ],
      "execution_count": null,
      "outputs": []
    },
    {
      "cell_type": "code",
      "metadata": {
        "id": "crcthqHyvaSN"
      },
      "source": [
        "!elixir -e 'require IEx.Helpers;IEx.Helpers.h Enum.all?/1'"
      ],
      "execution_count": null,
      "outputs": []
    },
    {
      "cell_type": "code",
      "metadata": {
        "id": "1c-WGlISZ1fo"
      },
      "source": [
        "\n",
        "Copy\n",
        "iex\n",
        "iex> Enum.__info__(:functions) |> Enum.each(fn({function, arity}) ->\n",
        "...>   IO.puts \"#{function}/#{arity}\"\n",
        "...> end)\n",
        "all?/1\n",
        "all?/2\n",
        "any?/1\n",
        "any?/2\n",
        "at/2\n",
        "at/3\n",
        "...\n",
        "このように、 Enum モジュールが非常に多くの機能を持っていることは一目瞭然ですが、\n",
        "これには明確な理由があります。 列挙は関数型プログラミングの中核であり、\n",
        "Elixirが開発者にもたらす驚くべきその他の恩恵と基部で統合的に用意されているおかげです。\n",
        "\n",
        "全ての関数を知りたい場合は公式ドキュメントのEnumを参照してください。\n",
        "尚、列挙の遅延処理ではStreamモジュールを利用してください。\n",
        "\n",
        "all? \n",
        "通常、 all?/2 にはコレクションの要素に対して適用する関数を渡します。 all?/2 の場合、コレクションの全体が true と評価されなければならず、そうでなければ false が返されます。\n",
        "\n",
        "Copy\n",
        "iex> Enum.all?([\"foo\", \"bar\", \"hello\"], fn(s) -> String.length(s) == 3 end)\n",
        "false\n",
        "iex> Enum.all?([\"foo\", \"bar\", \"hello\"], fn(s) -> String.length(s) > 1 end)\n",
        "true\n",
        "any? \n",
        "上記と違って、 any? は少なくとも1つの要素が true と評価された場合に true を返します:\n",
        "\n",
        "Copy\n",
        "iex> Enum.any?([\"foo\", \"bar\", \"hello\"], fn(s) -> String.length(s) == 5 end)\n",
        "true\n",
        "chunk_every \n",
        "コレクションを小さなグループに分割する必要があるなら、恐らく chunk_every/2 こそが探し求めている関数でしょう:\n",
        "\n",
        "Copy\n",
        "iex> Enum.chunk_every([1, 2, 3, 4, 5, 6], 2)\n",
        "[[1, 2], [3, 4], [5, 6]]\n",
        "chunk_every/4 にはいくつかのオプションがありますが、ここでは触れないのでこの関数の公式ドキュメントを調べてください。\n",
        "\n",
        "chunk_by \n",
        "要素数ではない他の何かでコレクションを分類したい場合には、 chunk_by/2 関数を使うことができます。この関数は列挙可能なコレクションと関数を引数に取り、その関数の戻り値が変化することによってコレクションの分類もそれに倣いながら開始されます。\n",
        "\n",
        "Copy\n",
        "iex> Enum.chunk_by([\"one\", \"two\", \"three\", \"four\", \"five\"], fn(x) -> String.length(x) end)\n",
        "[[\"one\", \"two\"], [\"three\"], [\"four\", \"five\"]]\n",
        "iex> Enum.chunk_by([\"one\", \"two\", \"three\", \"four\", \"five\", \"six\"], fn(x) -> String.length(x) end)\n",
        "[[\"one\", \"two\"], [\"three\"], [\"four\", \"five\"], [\"six\"]]\n",
        "map_every \n",
        "時にはコレクションをグループに別けるだけでは充分ではない場合があります。 nth 毎のアイテムに対して何かの処理をしたい時には map_every/3 が有用です。これは最初の要素にかならず触れます。\n",
        "\n",
        "Copy\n",
        "# 関数を最初に適用してから3つ毎に同様の処理\n",
        "iex> Enum.map_every([1, 2, 3, 4, 5, 6, 7, 8], 3, fn x -> x + 1000 end)\n",
        "[1001, 2, 3, 1004, 5, 6, 1007, 8]\n",
        "each \n",
        "新しい値を生成することなく、コレクションを反復する必要があるかもしれません。こうした場合には each/2 を使います:\n",
        "\n",
        "Copy\n",
        "iex> Enum.each([\"one\", \"two\", \"three\"], fn(s) -> IO.puts(s) end)\n",
        "one\n",
        "two\n",
        "three\n",
        ":ok\n",
        "注記: each 関数は :ok というアトムを返します。\n",
        "\n",
        "map \n",
        "関数を各要素に適用して新しいコレクションを生み出すなら map/2 関数です:\n",
        "\n",
        "Copy\n",
        "iex> Enum.map([0, 1, 2, 3], fn(x) -> x - 1 end)\n",
        "[-1, 0, 1, 2]\n",
        "min \n",
        "コレクションの中で最小の(min/1)値を探します:\n",
        "\n",
        "Copy\n",
        "iex> Enum.min([5, 3, 0, -1])\n",
        "-1\n",
        "min/2 も同様ですが、コレクションが空であった場合にあらかじめ最小値を生成する為の関数を渡すことができます。\n",
        "\n",
        "Copy\n",
        "iex> Enum.min([], fn -> :foo end)\n",
        ":foo\n",
        "max \n",
        "コレクションの中で最大の(max/1)値を返します:\n",
        "\n",
        "Copy\n",
        "iex> Enum.max([5, 3, 0, -1])\n",
        "5\n",
        "max/2 と max/1 の関係は min/2 と min/1 の関係と同じです:\n",
        "\n",
        "Copy\n",
        "Enum.max([], fn -> :bar end)\n",
        ":bar\n",
        "filter \n",
        "filter/2 を使うと、与えられた関数によって true と評価された要素だけを得る為に、それ以外の要素を取り除くことができます。\n",
        "\n",
        "Copy\n",
        "iex> Enum.filter([1, 2, 3, 4], fn(x) -> rem(x, 2) == 0 end)\n",
        "[2, 4]\n",
        "reduce \n",
        "reduce/3 を用いることで、コレクションをまとめ、そこから単一の値へと抽出することができます。この処理には任意のアキュムレータを関数に渡します。アキュムレータとは、前の演算結果を一時的に保持するものです(この例では 10)。アキュムレータが与えられない場合にはコレクションの最初の要素が用いられます。\n",
        "\n",
        "Copy\n",
        "iex> Enum.reduce([1, 2, 3], 10, fn(x, acc) -> x + acc end)\n",
        "16\n",
        "\n",
        "iex> Enum.reduce([1, 2, 3], fn(x, acc) -> x + acc end)\n",
        "6\n",
        "\n",
        "iex> Enum.reduce([\"a\",\"b\",\"c\"], \"1\", fn(x,acc)-> x <> acc end)\n",
        "\"cba1\"\n",
        "sort \n",
        "コレクションのソートに、関数を1つだけでなく2つ使うと容易になります。\n",
        "\n",
        "sort/1 はソートの順序を決める為にErlangの Term優先順位 を使います:\n",
        "\n",
        "Copy\n",
        "iex> Enum.sort([5, 6, 1, 3, -1, 4])\n",
        "[-1, 1, 3, 4, 5, 6]\n",
        "\n",
        "iex> Enum.sort([:foo, \"bar\", Enum, -1, 4])\n",
        "[-1, 4, Enum, :foo, \"bar\"]\n",
        "一方で sort/2 には、自分で順序を決める為の関数を渡すことができます:\n",
        "\n",
        "Copy\n",
        "# ソート関数あり\n",
        "iex> Enum.sort([%{:val => 4}, %{:val => 1}], fn(x, y) -> x[:val] > y[:val] end)\n",
        "[%{val: 4}, %{val: 1}]\n",
        "\n",
        "# なし\n",
        "iex> Enum.sort([%{:count => 4}, %{:count => 1}])\n",
        "[%{count: 1}, %{count: 4}]\n",
        "便宜上, sort/2 に :asc または :desc をソート関数として渡すことができます：\n",
        "\n",
        "Copy\n",
        "Enum.sort([2, 3, 1], :desc)\n",
        "[3, 2, 1]\n",
        "uniq \n",
        "uniq/1 を使ってコレクションから重複した要素を取り除くことができます:\n",
        "\n",
        "Copy\n",
        "iex> Enum.uniq([1, 2, 3, 2, 1, 1, 1, 1, 1])\n",
        "[1, 2, 3]\n",
        "uniq_by \n",
        "uniq_by/2 もコレクションから重複した要素を削除しますが、ユニークかどうか比較を行う関数を渡せます。\n",
        "\n",
        "Copy\n",
        "iex> Enum.uniq_by([%{x: 1, y: 1}, %{x: 2, y: 1}, %{x: 3, y: 3}], fn coord -> coord.y end)\n",
        "[%{x: 1, y: 1}, %{x: 3, y: 3}]\n",
        "キャプチャ演算子（&）を使用したEnum \n",
        "ElixirのEnumモジュール内の多くの関数は、渡されるEnum型のオブジェクトを処理するための引数として無名関数を取ります。\n",
        "\n",
        "これらの無名関数は、多くの場合、キャプチャ演算子（&）を使用して省略形で記述されます。\n",
        "\n",
        "Enumモジュールを使用してキャプチャ演算子を実装する方法を示すいくつかの例を次に示します。 各バージョンは機能的に同等です。\n",
        "\n",
        "無名関数でのキャプチャ演算子の使用 \n",
        "以下は、無名関数を Enum.map/2 に渡すときの標準構文の典型的な例です。\n",
        "\n",
        "Copy\n",
        "iex> Enum.map([1,2,3], fn number -> number + 3 end)\n",
        "[4, 5, 6]\n",
        "次に、キャプチャ演算子（&）を実装します。数値のリスト（[1,2,3]）の各要素をキャプチャし、マッピング関数を通過するときに各要素を変数&1に割り当てます。\n",
        "\n",
        "Copy\n",
        "iex> Enum.map([1,2,3], &(&1 + 3))\n",
        "[4, 5, 6]\n",
        "これをさらにリファクタリングして、キャプチャ演算子を特徴とする以前の無名関数を変数に割り当て、 Enum.map/2 関数から呼び出すことができます。\n",
        "\n",
        "Copy\n",
        "iex> plus_three = &(&1 + 3)\n",
        "iex> Enum.map([1,2,3], plus_three)\n",
        "[4, 5, 6]\n",
        "名前付き関数でのキャプチャ演算子の使用 \n",
        "まず、名前付き関数を作成し、 Enum.map/2 で定義されている無名関数内で呼び出します。\n",
        "\n",
        "Copy\n",
        "defmodule Adding do\n",
        "  def plus_three(number), do: number + 3\n",
        "end\n",
        "\n",
        "iex>  Enum.map([1,2,3], fn number -> Adding.plus_three(number) end)\n",
        "[4, 5, 6]\n",
        "次に、キャプチャ演算子を使用するようにリファクタリングできます。\n",
        "\n",
        "Copy\n",
        "iex> Enum.map([1,2,3], &Adding.plus_three(&1))\n",
        "[4, 5, 6]\n",
        "最も簡潔な構文の場合、変数を明示的にキャプチャせずに、名前付き関数を直接呼び出すことができます。\n",
        "\n",
        "Copy\n",
        "iex> Enum.map([1,2,3], &Adding.plus_three/1)\n",
        "[4, 5, 6]\n",
        "\n"
      ],
      "execution_count": null,
      "outputs": []
    }
  ]
}