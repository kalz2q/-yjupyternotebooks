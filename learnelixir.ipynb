{
  "nbformat": 4,
  "nbformat_minor": 0,
  "metadata": {
    "colab": {
      "name": "learnelixir.ipynb",
      "provenance": [],
      "toc_visible": true,
      "authorship_tag": "ABX9TyPZJqw0t0V/yQZjaU5IU31O",
      "include_colab_link": true
    },
    "kernelspec": {
      "name": "python3",
      "display_name": "Python 3"
    },
    "language_info": {
      "name": "python"
    }
  },
  "cells": [
    {
      "cell_type": "markdown",
      "metadata": {
        "id": "view-in-github",
        "colab_type": "text"
      },
      "source": [
        "<a href=\"https://colab.research.google.com/github/kalz2q/mycolabnotebooks/blob/master/learnelixir.ipynb\" target=\"_parent\"><img src=\"https://colab.research.google.com/assets/colab-badge.svg\" alt=\"Open In Colab\"/></a>"
      ]
    },
    {
      "cell_type": "markdown",
      "metadata": {
        "id": "RfpoUurcVnZv"
      },
      "source": [
        "# メモ\n",
        "\n",
        "elixir を齧る。かじる。\n",
        "\n",
        "今のイメージ erlang 上で、erlang は 並行処理のためのシステムで、その erlang 上で理想的な言語を作ろうとしたら、ruby + clojure みたいな言語になった。\n",
        "\n",
        "Dave Thomas と まつもとゆきひろ が勧めているのだからいい言語なのだろう。\n"
      ]
    },
    {
      "cell_type": "markdown",
      "metadata": {
        "id": "kEf4GSz_Vva4"
      },
      "source": [
        "* https://elixirschool.com/ja/lessons/basics/basics/\n",
        "* https://elixirschool.com/ja/lessons/basics/control-structures/\n",
        "* https://magazine.rubyist.net/articles/0054/0054-ElixirBook.html"
      ]
    },
    {
      "cell_type": "code",
      "metadata": {
        "id": "THvpbkjdWs0Q"
      },
      "source": [
        "%%capture\n",
        "!sudo apt install elixir"
      ],
      "execution_count": null,
      "outputs": []
    },
    {
      "cell_type": "markdown",
      "metadata": {
        "id": "IpYclRqgcttK"
      },
      "source": [
        "メモ\n",
        "\n",
        "このあと `!elixir --version` とするとエラーになるが、以下のコードセルに見るようにとりあえず使えているので先に進む。\n",
        "\n",
        "`!elixir -h` としたら ワンライナー `elixir -e` が使えるらしいことがわかった。\n",
        "\n",
        "`iex` というのがインタラクティブ環境なのだが、colab では使いにくいのでとりあえず使わない。\n"
      ]
    },
    {
      "cell_type": "code",
      "metadata": {
        "id": "S_s89E37Xroq",
        "colab": {
          "base_uri": "https://localhost:8080/"
        },
        "outputId": "16bb726b-2ebc-4bfc-c06a-c995031adff7"
      },
      "source": [
        "!elixir -e 'IO.puts 3 + 3'\n",
        "!elixir -e 'IO.puts \"hello world!\"'"
      ],
      "execution_count": null,
      "outputs": [
        {
          "output_type": "stream",
          "text": [
            "6\n",
            "hello world!\n"
          ],
          "name": "stdout"
        }
      ]
    },
    {
      "cell_type": "code",
      "metadata": {
        "colab": {
          "base_uri": "https://localhost:8080/"
        },
        "id": "RYCKapxtdtco",
        "outputId": "d4e4151e-35c1-486d-99a1-32335e538f95"
      },
      "source": [
        "%%writefile temp.exs\n",
        "IO.puts \"this is a pen.\""
      ],
      "execution_count": null,
      "outputs": [
        {
          "output_type": "stream",
          "text": [
            "Writing temp.exs\n"
          ],
          "name": "stdout"
        }
      ]
    },
    {
      "cell_type": "code",
      "metadata": {
        "colab": {
          "base_uri": "https://localhost:8080/"
        },
        "id": "06mP6Jy_d505",
        "outputId": "96eeaaee-0931-4378-f9c3-6f02582ca08c"
      },
      "source": [
        "!elixir temp.exs"
      ],
      "execution_count": null,
      "outputs": [
        {
          "output_type": "stream",
          "text": [
            "this is a pen.\n"
          ],
          "name": "stdout"
        }
      ]
    },
    {
      "cell_type": "markdown",
      "metadata": {
        "id": "7NE03KtbjVDc"
      },
      "source": [
        "ネットで紹介されていた次のコードセルのコードはどうやって実行するのだろう。\n",
        "\n",
        "説明:\n",
        "\n",
        "このプログラムでは、Parallel というモジュールに pmap という関数を定義しています。 pmap は、与えられたコレクションに対して map（Ruby での Enumerable#map と同じようなものと考えて下さい）を行なうのですが、 各要素の処理を、要素数の分だけプロセスを生成し、各プロセスで並行に実行する、というものです。 ちょっと見ても、よくわからないような気がしますが、大丈夫、本書を読めば、わかるようになります。\n",
        "\n",
        "とのこと。"
      ]
    },
    {
      "cell_type": "code",
      "metadata": {
        "id": "_OFyxKshdQ2W"
      },
      "source": [
        "%%writefile temp.exs\n",
        "defmodule Parallel do\n",
        "  def pmap(collection, func) do\n",
        "    collection\n",
        "    |> Enum.map(&(Task.async(fn -> func.(&1) end)))\n",
        "    |> Enum.map(&Task.await/1)\n",
        "  end\n",
        "end"
      ],
      "execution_count": null,
      "outputs": []
    },
    {
      "cell_type": "markdown",
      "metadata": {
        "id": "Ajr_Z2V6mh7Y"
      },
      "source": [
        "コメントは `#`"
      ]
    },
    {
      "cell_type": "code",
      "metadata": {
        "colab": {
          "base_uri": "https://localhost:8080/"
        },
        "id": "DfMZdyUImlsG",
        "outputId": "3800188f-1fad-40cd-b3d9-6aa8cea5e44a"
      },
      "source": [
        "%%writefile temp.exs\n",
        "# コメント実験\n",
        "str = \"helloworld!!!!\"\n",
        "IO.puts str"
      ],
      "execution_count": null,
      "outputs": [
        {
          "output_type": "stream",
          "text": [
            "Overwriting temp.exs\n"
          ],
          "name": "stdout"
        }
      ]
    },
    {
      "cell_type": "code",
      "metadata": {
        "colab": {
          "base_uri": "https://localhost:8080/"
        },
        "id": "qUtHCWc3mtba",
        "outputId": "1f54fb90-0653-49dd-d1db-7e089d948f6e"
      },
      "source": [
        "!elixir temp.exs"
      ],
      "execution_count": null,
      "outputs": [
        {
          "output_type": "stream",
          "text": [
            "helloworld!!!!\n"
          ],
          "name": "stdout"
        }
      ]
    },
    {
      "cell_type": "code",
      "metadata": {
        "colab": {
          "base_uri": "https://localhost:8080/"
        },
        "id": "iosas2W_nx9E",
        "outputId": "737a734e-981f-41de-b4d3-400dc19e8551"
      },
      "source": [
        "!elixir -e 'IO.puts 0b1111'\n",
        "!elixir -e 'IO.puts 0o7777'\n",
        "!elixir -e 'IO.puts 0xffff'\n",
        "!elixir -e 'IO.puts 1000_000_00_0'"
      ],
      "execution_count": null,
      "outputs": [
        {
          "output_type": "stream",
          "text": [
            "15\n",
            "4095\n",
            "65535\n",
            "1000000000\n"
          ],
          "name": "stdout"
        }
      ]
    },
    {
      "cell_type": "code",
      "metadata": {
        "colab": {
          "base_uri": "https://localhost:8080/"
        },
        "id": "fY5OrrP9ogLF",
        "outputId": "aa2bb19c-e191-440c-fb37-220496e03a4c"
      },
      "source": [
        "!elixir -e 'IO.puts 1.532e-4'\n",
        "# .0 とか 1. とかはエラーになる"
      ],
      "execution_count": null,
      "outputs": [
        {
          "output_type": "stream",
          "text": [
            "1.532e-4\n",
            "** (TokenMissingError) nofile:1: syntax error: expression is incomplete\n",
            "    (elixir) lib/code.ex:168: Code.eval_string/3\n",
            "\n"
          ],
          "name": "stdout"
        }
      ]
    },
    {
      "cell_type": "code",
      "metadata": {
        "colab": {
          "base_uri": "https://localhost:8080/"
        },
        "id": "Bjc6aZSso4ma",
        "outputId": "6f8ebaaa-eb74-4530-8c16-2f2b64b501dc"
      },
      "source": [
        "!elixir -e 'IO.puts \"日本語が書けますか\"'\n",
        "!elixir -e 'IO.puts \"日本語が書けます\"'"
      ],
      "execution_count": null,
      "outputs": [
        {
          "output_type": "stream",
          "text": [
            "日本語が書けますか\n",
            "日本語が書けます\n"
          ],
          "name": "stdout"
        }
      ]
    },
    {
      "cell_type": "code",
      "metadata": {
        "colab": {
          "base_uri": "https://localhost:8080/"
        },
        "id": "UhF_wVUSpG0A",
        "outputId": "f2f39671-1b6e-4f1c-8987-9ce103450f3d"
      },
      "source": [
        "# 関数の括弧の前にスペースはエラーになる\n",
        "!elixir -e 'IO.puts(0b1111)'\n",
        "!elixir -e 'IO.puts(\"にほんご\\n日本語\")'\n",
        "!elixir -e \"IO.puts('にほんご\\n\\\"日本語\\\"')\""
      ],
      "execution_count": null,
      "outputs": [
        {
          "output_type": "stream",
          "text": [
            "15\n",
            "にほんご\n",
            "日本語\n",
            "にほんご\n",
            "\"日本語\"\n"
          ],
          "name": "stdout"
        }
      ]
    },
    {
      "cell_type": "code",
      "metadata": {
        "colab": {
          "base_uri": "https://localhost:8080/"
        },
        "id": "Pse7-AAcqCD1",
        "outputId": "0851c255-6fb5-4eb5-ba6c-5ccad4d8b18d"
      },
      "source": [
        "# 文字連結\n",
        "!elixir -e 'IO.puts(\"ABCD\"<>\"EFGH\")'"
      ],
      "execution_count": null,
      "outputs": [
        {
          "output_type": "stream",
          "text": [
            "ABCDEFGH\n"
          ],
          "name": "stdout"
        }
      ]
    },
    {
      "cell_type": "markdown",
      "metadata": {
        "id": "zeEliw_Esji1"
      },
      "source": [
        "値の埋め込み\n",
        "\n",
        "`#{変数名}` を記述することで、変数の値を埋め込むことができる。\n"
      ]
    },
    {
      "cell_type": "code",
      "metadata": {
        "colab": {
          "base_uri": "https://localhost:8080/"
        },
        "id": "1mm0BWeds1SQ",
        "outputId": "724e430c-d384-40b2-8435-bbf4bb24e3c3"
      },
      "source": [
        "!elixir -e 'val = 1000; IO.puts \"val = #{val}\"'"
      ],
      "execution_count": null,
      "outputs": [
        {
          "output_type": "stream",
          "text": [
            "val = 1000\n"
          ],
          "name": "stdout"
        }
      ]
    },
    {
      "cell_type": "markdown",
      "metadata": {
        "id": "StBnVUaHtQgL"
      },
      "source": [
        "真理値\n",
        "\n",
        "true と false で false と nil が false でそれ以外は true\n",
        "\n"
      ]
    },
    {
      "cell_type": "code",
      "metadata": {
        "colab": {
          "base_uri": "https://localhost:8080/"
        },
        "id": "D9yH5Dy-tgFj",
        "outputId": "7d3ed7b6-378b-40b9-8945-1ade4c959e32"
      },
      "source": [
        "!elixir -e 'if true do IO.puts \"true\" end'\n",
        "!elixir -e 'if True do IO.puts \"true\" end'\n",
        "!elixir -e 'if False do IO.puts \"true\" end'\n",
        "!elixir -e 'if false do IO.puts \"true\" else IO.puts \"false\" end'\n",
        "!elixir -e 'if nil do IO.puts \"true\" else IO.puts \"false\" end'\n",
        "!elixir -e 'if 0 do IO.puts \"true\" else IO.puts \"false\" end'\n",
        "!elixir -e 'if (-1) do IO.puts \"true\" else IO.puts \"false\" end'\n",
        "!elixir -e 'if [] do IO.puts \"true\" else IO.puts \"false\" end'\n",
        "!elixir -e 'if \"\" do IO.puts \"true\" else IO.puts \"false\" end'"
      ],
      "execution_count": null,
      "outputs": [
        {
          "output_type": "stream",
          "text": [
            "true\n",
            "true\n",
            "true\n",
            "false\n",
            "false\n",
            "true\n",
            "true\n",
            "true\n",
            "true\n"
          ],
          "name": "stdout"
        }
      ]
    },
    {
      "cell_type": "markdown",
      "metadata": {
        "id": "itYbKcCB4ySP"
      },
      "source": [
        "`null` はない。"
      ]
    },
    {
      "cell_type": "markdown",
      "metadata": {
        "id": "ymMoHgZ648UL"
      },
      "source": [
        "# アトム\n",
        "\n",
        "アトムは名前がそのまま値となる定数である。\n",
        "\n",
        "名前の前にコロン `:` をつけることでアトムになる。\n",
        "\n",
        "アトムはアンダースコア `_` もしくは英字で始まる。 そのあとは\n",
        "数字、アンダースコア、`@` が使える。 終端文字としてのみ「!」や「?」が使える。\n"
      ]
    },
    {
      "cell_type": "code",
      "metadata": {
        "id": "I4OyDEuL5NXn",
        "colab": {
          "base_uri": "https://localhost:8080/"
        },
        "outputId": "193cbd02-6a0c-4656-d1d6-34ad84674231"
      },
      "source": [
        "!elixir -e 'IO.puts true === :true'"
      ],
      "execution_count": null,
      "outputs": [
        {
          "output_type": "stream",
          "text": [
            "true\n"
          ],
          "name": "stdout"
        }
      ]
    },
    {
      "cell_type": "markdown",
      "metadata": {
        "id": "11Dfjo4Y6LQU"
      },
      "source": [
        "演算子"
      ]
    },
    {
      "cell_type": "code",
      "metadata": {
        "id": "ISACU_0p6Nv2",
        "colab": {
          "base_uri": "https://localhost:8080/"
        },
        "outputId": "0c26f3bf-ef83-4d36-9386-2f96f3fde532"
      },
      "source": [
        "!elixir -e 'IO.puts 1 + 2'\n",
        "!elixir -e 'x = 10; IO.puts x + 1'\n",
        "!elixir -e 'IO.puts 1 - 2'\n",
        "!elixir -e 'x = 10; IO.puts x - 1'\n",
        "!elixir -e 'IO.puts 5 * 2'\n",
        "!elixir -e 'x = 10; IO.puts x * 4'\n",
        "!echo \n",
        "!elixir -e 'IO.puts 5 / 2'\n",
        "!elixir -e 'x = 10; IO.puts x / 3'"
      ],
      "execution_count": null,
      "outputs": [
        {
          "output_type": "stream",
          "text": [
            "3\n",
            "11\n",
            "-1\n",
            "9\n",
            "10\n",
            "40\n",
            "\n",
            "2.5\n",
            "3.3333333333333335\n"
          ],
          "name": "stdout"
        }
      ]
    },
    {
      "cell_type": "code",
      "metadata": {
        "id": "hcGSSQlu7JEQ",
        "colab": {
          "base_uri": "https://localhost:8080/"
        },
        "outputId": "e814f7b0-75c1-46b4-ad78-941809817307"
      },
      "source": [
        "# 浮動少数ではなく整数としての結果がほしい場合は div 関数を使用\n",
        "!elixir -e 'IO.puts div(10,5)'\n",
        "!elixir -e 'IO.puts div(10,4)'\n",
        "# 割り算の余り、剰余を求める場合は rem関数を使用します。\n",
        "!elixir -e 'IO.puts rem(10,4)'\n",
        "!elixir -e 'IO.puts rem(10,3)'\n",
        "!elixir -e 'IO.puts rem(10,2)'"
      ],
      "execution_count": null,
      "outputs": [
        {
          "output_type": "stream",
          "text": [
            "2\n",
            "2\n",
            "2\n",
            "1\n",
            "0\n"
          ],
          "name": "stdout"
        }
      ]
    },
    {
      "cell_type": "code",
      "metadata": {
        "colab": {
          "base_uri": "https://localhost:8080/"
        },
        "id": "MD79UYp8WYW5",
        "outputId": "896eb7f7-f0dc-4a57-cd29-31a1b6cea4e2"
      },
      "source": [
        "# 比較演算子\n",
        "!elixir -e 'IO.puts 1 == 1'\n",
        "!elixir -e 'IO.puts 1 != 1'\n",
        "!elixir -e 'IO.puts ! (1 != 1)'\n",
        "!elixir -e 'IO.puts 20.0 == 20'\n",
        "!elixir -e 'IO.puts 20.0 === 20'\n",
        "!elixir -e 'IO.puts 20.0 !== 20'"
      ],
      "execution_count": 80,
      "outputs": [
        {
          "output_type": "stream",
          "text": [
            "true\n",
            "false\n",
            "true\n",
            "true\n",
            "false\n",
            "\n",
            "true\n"
          ],
          "name": "stdout"
        }
      ]
    },
    {
      "cell_type": "code",
      "metadata": {
        "colab": {
          "base_uri": "https://localhost:8080/"
        },
        "id": "HpG6ZfOPXSHE",
        "outputId": "57dfd1bb-c8c2-4b77-c815-ab4f0077b8a1"
      },
      "source": [
        "# 論理演算子\n",
        "# 論理和\n",
        "!elixir -e 'IO.puts \"ABC\" == \"ABC\" || 20 == 30'\n",
        "!elixir -e 'IO.puts \"ABC\" == \"abc\" || 20 == 30'\n",
        "!echo\n",
        "# 論理積\n",
        "!elixir -e 'IO.puts \"ABC\" == \"ABC\" && 20 == 20'\n",
        "!elixir -e 'IO.puts \"ABC\" == \"ABC\" && 20 == 30'\n",
        "!elixir -e 'IO.puts \"ABC\" == \"def\" && 10 > 100'\n",
        "!echo\n",
        "# 否定\n",
        "!elixir -e 'IO.puts !(\"ABC\" == \"ABC\")'\n",
        "!elixir -e 'IO.puts !(\"ABC\" == \"DEF\")'"
      ],
      "execution_count": 85,
      "outputs": [
        {
          "output_type": "stream",
          "text": [
            "true\n",
            "false\n",
            "\n",
            "true\n",
            "false\n",
            "false\n",
            "\n",
            "false\n",
            "true\n"
          ],
          "name": "stdout"
        }
      ]
    },
    {
      "cell_type": "markdown",
      "metadata": {
        "id": "4P_OWfS0Zy1E"
      },
      "source": [
        "# いまここ"
      ]
    },
    {
      "cell_type": "markdown",
      "metadata": {
        "id": "oG0fOdZZaT4E"
      },
      "source": [
        "# リスト"
      ]
    },
    {
      "cell_type": "code",
      "metadata": {
        "id": "-UTLByQLaeP-"
      },
      "source": [
        ""
      ],
      "execution_count": null,
      "outputs": []
    },
    {
      "cell_type": "code",
      "metadata": {
        "id": "1c-WGlISZ1fo"
      },
      "source": [
        "Elixir School\n",
        "        \n",
        "コレクション\n",
        "この和訳は最新です。\n",
        "リスト、タプル、キーワードリスト、マップ。\n",
        "\n",
        "目次\n",
        "リスト\n",
        "リストの連結\n",
        "リストの減算\n",
        "頭部 / 尾部\n",
        "タプル\n",
        "キーワードリスト\n",
        "マップ\n",
        "リスト \n",
        "リストは値の単純なコレクションで、複数の型を含むことができます。また、一意ではない値を含むことができます:\n",
        "\n",
        "Copy\n",
        "iex> [3.14, :pie, \"Apple\"]\n",
        "[3.14, :pie, \"Apple\"]\n",
        "Elixirはリストコレクションを連結リストとして実装しています。すなわちリストの長さを得るのは線形時間(O(n))の処理となります。このことから、リスト先頭への追加はほとんどの場合にリスト末尾への追加より高速です:\n",
        "\n",
        "Copy\n",
        "iex> list = [3.14, :pie, \"Apple\"]\n",
        "[3.14, :pie, \"Apple\"]\n",
        "# リスト先頭への追加(高速)\n",
        "iex> [\"π\" | list]\n",
        "[\"π\", 3.14, :pie, \"Apple\"]\n",
        "# リスト末尾への追加(低速)\n",
        "iex> list ++ [\"Cherry\"]\n",
        "[3.14, :pie, \"Apple\", \"Cherry\"]\n",
        "リストの連結 \n",
        "リストの連結には ++/2 演算子を用います:\n",
        "\n",
        "Copy\n",
        "iex> [1, 2] ++ [3, 4, 1]\n",
        "[1, 2, 3, 4, 1]\n",
        "上記の名前(++/2)の形式についての追記: Elixir(とその土台のErlang)において、関数や演算子の名前は2つの部分、与えられた名前(ここでは ++)とその アリティ から成ります。アリティはElixir(とErlang)のコードについて説明するときの中核となるものです。アリティは関数や演算子が取る引数の数(この場合は2)です。名前とアリティはスラッシュで繋げられます。後ほどより詳しく扱いますが、この知識は今のところこの表記法を理解する助けになるでしょう。\n",
        "\n",
        "リストの減算 \n",
        "減算に対応するために --/2 演算子が用意されています。存在しない値を引いてしまっても安全です:\n",
        "\n",
        "Copy\n",
        "iex> [\"foo\", :bar, 42] -- [42, \"bar\"]\n",
        "[\"foo\", :bar]\n",
        "重複した値に注意してください。 右辺の要素のそれぞれに対し、左辺の要素のうち初めて登場した同じ値が順次削除されます:\n",
        "\n",
        "Copy\n",
        "iex> [1,2,2,3,2,3] -- [1,2,3,2]\n",
        "[2, 3]\n",
        "参考: リストの減算の値のマッチには strict comparison が使われています。例えば:\n",
        "\n",
        "Copy\n",
        "iex> [2] -- [2.0]\n",
        "[2]\n",
        "iex> [2.0] -- [2.0]\n",
        "[]\n",
        "頭部 / 尾部 \n",
        "リストを扱う際には、よくリストの頭部と尾部を利用したりします。頭部はそのリストの最初の要素で、尾部は残りの要素になります。Elixirはこれらを扱うために、 hd と tl という2つの便利な関数を用意しています:\n",
        "\n",
        "Copy\n",
        "iex> hd [3.14, :pie, \"Apple\"]\n",
        "3.14\n",
        "iex> tl [3.14, :pie, \"Apple\"]\n",
        "[:pie, \"Apple\"]\n",
        "前述した関数に加えて、リストを頭部と尾部に分けるのにパターンマッチングやcons演算子(|)を使うこともできます。このパターンについては後のレッスンで取り上げます:\n",
        "\n",
        "Copy\n",
        "iex> [head | tail] = [3.14, :pie, \"Apple\"]\n",
        "[3.14, :pie, \"Apple\"]\n",
        "iex> head\n",
        "3.14\n",
        "iex> tail\n",
        "[:pie, \"Apple\"]\n",
        "タプル \n",
        "タプルはリストに似ていますが、各要素はメモリ上に隣接して格納されます。 このため、タプルの長さを得るのは高速ですが、修正を行うのは高コストとなります。というのも、新しいタプルは全ての要素がメモリにコピーされるからです。タプルは波括弧を用いて定義されます:\n",
        "\n",
        "Copy\n",
        "iex> {3.14, :pie, \"Apple\"}\n",
        "{3.14, :pie, \"Apple\"}\n",
        "タプルは関数から補助的な情報を返す仕組みとしてよく利用されます。この便利さは、パターンマッチングについて扱う時により明らかになるでしょう:\n",
        "\n",
        "Copy\n",
        "iex> File.read(\"path/to/existing/file\")\n",
        "{:ok, \"... contents ...\"}\n",
        "iex> File.read(\"path/to/unknown/file\")\n",
        "{:error, :enoent}\n",
        "キーワードリスト \n",
        "キーワードリストとマップはElixirの連想コレクションです。Elixirでは、キーワードリストは最初の要素がアトムのタプルからなる特別なリストで、リストと同様の性能になります:\n",
        "\n",
        "Copy\n",
        "iex> [foo: \"bar\", hello: \"world\"]\n",
        "[foo: \"bar\", hello: \"world\"]\n",
        "iex> [{:foo, \"bar\"}, {:hello, \"world\"}]\n",
        "[foo: \"bar\", hello: \"world\"]\n",
        "キーワードリストの重要性は次の3つの特徴によって強調づけられています:\n",
        "\n",
        "キーはアトムです。\n",
        "キーは順序付けされています。\n",
        "キーの一意性は保証されません。\n",
        "こうした理由から、キーワードリストは関数にオプションを渡すために非常に良く用いられます。\n",
        "\n",
        "マップ \n",
        "Elixirではマップは”花形の”キーバリューストアです。 キーワードリストとは違ってどんな型のキーも使え、順序付けされません。 マップは %{} 構文で定義することができます:\n",
        "\n",
        "Copy\n",
        "iex> map = %{:foo => \"bar\", \"hello\" => :world}\n",
        "%{:foo => \"bar\", \"hello\" => :world}\n",
        "iex> map[:foo]\n",
        "\"bar\"\n",
        "iex> map[\"hello\"]\n",
        ":world\n",
        "Elixir 1.2では変数をマップのキーにすることができます:\n",
        "\n",
        "Copy\n",
        "iex> key = \"hello\"\n",
        "\"hello\"\n",
        "iex> %{key => \"world\"}\n",
        "%{\"hello\" => \"world\"}\n",
        "重複したキーが追加された場合は、前の値が置き換えられます:\n",
        "\n",
        "Copy\n",
        "iex> %{:foo => \"bar\", :foo => \"hello world\"}\n",
        "%{foo: \"hello world\"}\n",
        "上記の出力からわかるように、アトムのキーだけを含んだマップには特別な構文があります:\n",
        "\n",
        "Copy\n",
        "iex> %{foo: \"bar\", hello: \"world\"}\n",
        "%{foo: \"bar\", hello: \"world\"}\n",
        "\n",
        "iex> %{foo: \"bar\", hello: \"world\"} == %{:foo => \"bar\", :hello => \"world\"}\n",
        "true\n",
        "加えて、アトムのキーにアクセスするための特別な構文もあります:\n",
        "\n",
        "Copy\n",
        "iex> map = %{foo: \"bar\", hello: \"world\"}\n",
        "%{foo: \"bar\", hello: \"world\"}\n",
        "iex> map.hello\n",
        "\"world\"\n",
        "マップのもう一つの興味深い特性は、マップの更新のための固有の構文があることです(注: 更新と言っていますが、新しいmapが作成されます):\n",
        "\n",
        "Copy\n",
        "iex> map = %{foo: \"bar\", hello: \"world\"}\n",
        "%{foo: \"bar\", hello: \"world\"}\n",
        "iex> %{map | foo: \"baz\"}\n",
        "%{foo: \"baz\", hello: \"world\"}\n",
        "注意: この構文は、マップに既に存在するキーを更新する場合にのみ機能します！キーが存在しない場合、 KeyError が発生します。\n",
        "\n",
        "新しいキーを作成するには、代わりに Map.put/3 を使用します。\n",
        "\n",
        "Copy\n",
        "iex> map = %{hello: \"world\"}\n",
        "%{hello: \"world\"}\n",
        "iex> %{map | foo: \"baz\"}\n",
        "** (KeyError) key :foo not found in: %{hello: \"world\"}\n",
        "    (stdlib) :maps.update(:foo, \"baz\", %{hello: \"world\"})\n",
        "    (stdlib) erl_eval.erl:259: anonymous fn/2 in :erl_eval.expr/5\n",
        "    (stdlib) lists.erl:1263: :lists.foldl/3\n",
        "iex> Map.put(map, :foo, \"baz\")\n",
        "%{foo: \"baz\", hello: \"world\"}\n",
        "Caught a mistake or want to contribute to the lesson? Edit this page on GitHub!\n",
        "← 基本\n",
        "Enum →\n",
        "bg bn de en es fr gr id it ja ko ms no pl pt ru sk ta th tr uk vi zh-hans zh-hant\n",
        "Elixir 1.10.1 - Erlang/OTP 22.0 [erts-10.5.3]\n",
        "Menu\n",
        "プログラミング言語Elixirのレッスン\n",
        "© 2021 Sean Callan All rights reserved.\n",
        "\n",
        "Toggle"
      ],
      "execution_count": null,
      "outputs": []
    }
  ]
}