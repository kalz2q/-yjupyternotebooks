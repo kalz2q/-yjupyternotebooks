{
  "nbformat": 4,
  "nbformat_minor": 0,
  "metadata": {
    "colab": {
      "name": "learnelixir.ipynb",
      "provenance": [],
      "toc_visible": true,
      "authorship_tag": "ABX9TyM3IBAjFCpAUu9d23jxbNOM",
      "include_colab_link": true
    },
    "kernelspec": {
      "name": "python3",
      "display_name": "Python 3"
    },
    "language_info": {
      "name": "python"
    }
  },
  "cells": [
    {
      "cell_type": "markdown",
      "metadata": {
        "id": "view-in-github",
        "colab_type": "text"
      },
      "source": [
        "<a href=\"https://colab.research.google.com/github/kalz2q/mycolabnotebooks/blob/master/learnelixir.ipynb\" target=\"_parent\"><img src=\"https://colab.research.google.com/assets/colab-badge.svg\" alt=\"Open In Colab\"/></a>"
      ]
    },
    {
      "cell_type": "markdown",
      "metadata": {
        "id": "RfpoUurcVnZv"
      },
      "source": [
        "# メモ\n",
        "\n",
        "elixir を齧る。かじる。\n",
        "\n",
        "今のイメージ $\\quad$ erlang 上で、erlang は 並行処理のためのシステムで、その erlang 上で理想的な言語を作ろうとしたら、ruby + clojure みたいな言語になった。\n",
        "\n",
        "Dave Thomas と まつもとゆきひろ が勧めているのだからいい言語なのだろう。\n"
      ]
    },
    {
      "cell_type": "markdown",
      "metadata": {
        "id": "kEf4GSz_Vva4"
      },
      "source": [
        "* https://elixirschool.com/ja/lessons/basics/control-structures/\n",
        "* https://magazine.rubyist.net/articles/0054/0054-ElixirBook.\n",
        "* https://dev.to/gumi/elixir-01--2585\n",
        "* https://elixir-lang.org/getting-started/introduction.html\n",
        "\n",
        "---\n",
        "本を買った。\n",
        "\n",
        "プログラミング elixir\n",
        "\n",
        "dave thomas, 笹田耕一・鳥居雪訳、 ohmsha\n",
        "programming elixir |> 1.6\n",
        "\n",
        "を読む。\n",
        "\n"
      ]
    },
    {
      "cell_type": "code",
      "metadata": {
        "id": "THvpbkjdWs0Q"
      },
      "source": [
        "%%capture\n",
        "!wget https://packages.erlang-solutions.com/erlang-solutions_2.0_all.deb && sudo dpkg -i erlang-solutions_2.0_all.deb\n",
        "!sudo apt update\n",
        "!sudo apt install elixir"
      ],
      "execution_count": 2,
      "outputs": []
    },
    {
      "cell_type": "code",
      "metadata": {
        "id": "6FkejEE2crA5",
        "colab": {
          "base_uri": "https://localhost:8080/"
        },
        "outputId": "6c3e8334-68cc-422f-d89a-9cd378f3f7b7"
      },
      "source": [
        "!elixir -v\n",
        "!date"
      ],
      "execution_count": null,
      "outputs": [
        {
          "output_type": "stream",
          "name": "stdout",
          "text": [
            "Erlang/OTP 24 [erts-12.2.1] [source] [64-bit] [smp:2:2] [ds:2:2:10] [async-threads:1] [jit]\n",
            "\n",
            "Elixir 1.13.0 (compiled with Erlang/OTP 24)\n",
            "Sat Mar  5 21:42:24 UTC 2022\n"
          ]
        }
      ]
    },
    {
      "cell_type": "markdown",
      "metadata": {
        "id": "IpYclRqgcttK"
      },
      "source": [
        "---\n",
        "メモ\n",
        "\n",
        "`!elixir -h` (ヘルプ)としたらシェルワンライナー `elixir -e` が使えるらしいことがわかった。\n",
        "\n",
        "`iex` というのがインタラクティブ環境なのだが、colab では使いにくいので `elixir -e` で代用する。"
      ]
    },
    {
      "cell_type": "code",
      "metadata": {
        "id": "S_s89E37Xroq",
        "colab": {
          "base_uri": "https://localhost:8080/"
        },
        "outputId": "282c10a5-37ca-4746-d9e1-577df7d1211b"
      },
      "source": [
        "!elixir -e 'IO.puts 3 + 3'\n",
        "!elixir -e 'IO.puts \"hello world!\"'"
      ],
      "execution_count": null,
      "outputs": [
        {
          "output_type": "stream",
          "name": "stdout",
          "text": [
            "6\n",
            "hello world!\n"
          ]
        }
      ]
    },
    {
      "cell_type": "code",
      "metadata": {
        "colab": {
          "base_uri": "https://localhost:8080/"
        },
        "id": "RYCKapxtdtco",
        "outputId": "da745095-20e3-4c15-a3e3-1cc0c49408af"
      },
      "source": [
        "# 次のようにすればファイルが作れる\n",
        "%%writefile temp.exs\n",
        "IO.puts \"this is a pen.\""
      ],
      "execution_count": null,
      "outputs": [
        {
          "output_type": "stream",
          "name": "stdout",
          "text": [
            "Writing temp.exs\n"
          ]
        }
      ]
    },
    {
      "cell_type": "code",
      "source": [
        "# cat してみる\n",
        "!cat temp.exs"
      ],
      "metadata": {
        "id": "N3_QSeBGCWS3",
        "outputId": "c70f02ea-2fec-462a-d59a-9ffa201b64aa",
        "colab": {
          "base_uri": "https://localhost:8080/"
        }
      },
      "execution_count": null,
      "outputs": [
        {
          "output_type": "stream",
          "name": "stdout",
          "text": [
            "IO.puts \"this is a pen.\""
          ]
        }
      ]
    },
    {
      "cell_type": "code",
      "metadata": {
        "colab": {
          "base_uri": "https://localhost:8080/"
        },
        "id": "06mP6Jy_d505",
        "outputId": "8fe41fcd-a47e-4129-ccd3-d8c3338e544b"
      },
      "source": [
        "# ファイルを elixir で実行する\n",
        "!elixir temp.exs"
      ],
      "execution_count": null,
      "outputs": [
        {
          "output_type": "stream",
          "name": "stdout",
          "text": [
            "this is a pen.\n"
          ]
        }
      ]
    },
    {
      "cell_type": "markdown",
      "metadata": {
        "id": "7NE03KtbjVDc"
      },
      "source": [
        "---\n",
        "ネットで紹介されていた次のコードセルのコードはどうやって実行するのだろう。 今はわからなくていいと思うがとりあえず転記しておく。\n",
        "\n",
        "説明:\n",
        "\n",
        "このプログラムでは、Parallel というモジュールに pmap という関数を定義しています。 pmap は、与えられたコレクションに対して map（Ruby での Enumerable#map と同じようなものと考えて下さい）を行なうのですが、 各要素の処理を、要素数の分だけプロセスを生成し、各プロセスで並行に実行する、というものです。 ちょっと見ても、よくわからないような気がしますが、大丈夫、本書を読めば、わかるようになります。\n",
        "\n",
        "とのこと。"
      ]
    },
    {
      "cell_type": "code",
      "metadata": {
        "id": "_OFyxKshdQ2W",
        "colab": {
          "base_uri": "https://localhost:8080/"
        },
        "outputId": "25482b7a-570b-4c6b-92d2-8eafc793c0c3"
      },
      "source": [
        "%%writefile temp.exs\n",
        "defmodule Parallel do\n",
        "  def pmap(collection, func) do\n",
        "    collection\n",
        "    |> Enum.map(&(Task.async(fn -> func.(&1) end)))\n",
        "    |> Enum.map(&Task.await/1)\n",
        "  end\n",
        "end\n",
        "\n",
        "result = Parallel.pmap 1..1000, &(&1 * &1)\n",
        "\n",
        "IO.inspect result"
      ],
      "execution_count": null,
      "outputs": [
        {
          "output_type": "stream",
          "name": "stdout",
          "text": [
            "Overwriting temp.exs\n"
          ]
        }
      ]
    },
    {
      "cell_type": "code",
      "metadata": {
        "id": "B4ysN080Mcaw",
        "colab": {
          "base_uri": "https://localhost:8080/"
        },
        "outputId": "e9b750ae-d6dd-4d56-d5e0-28a48d87c072"
      },
      "source": [
        "!elixir temp.exs"
      ],
      "execution_count": null,
      "outputs": [
        {
          "output_type": "stream",
          "name": "stdout",
          "text": [
            "[1, 4, 9, 16, 25, 36, 49, 64, 81, 100, 121, 144, 169, 196, 225, 256, 289, 324,\n",
            " 361, 400, 441, 484, 529, 576, 625, 676, 729, 784, 841, 900, 961, 1024, 1089,\n",
            " 1156, 1225, 1296, 1369, 1444, 1521, 1600, 1681, 1764, 1849, 1936, 2025, 2116,\n",
            " 2209, 2304, 2401, 2500, ...]\n"
          ]
        }
      ]
    },
    {
      "cell_type": "markdown",
      "metadata": {
        "id": "d9aiwzGwe_Kn"
      },
      "source": [
        "上の例で colab 環境で非同期処理が問題なく動くことが確認できたみたい。"
      ]
    },
    {
      "cell_type": "markdown",
      "metadata": {
        "id": "jbgpkxtYpARC"
      },
      "source": [
        "---\n",
        "次のもネットで紹介されていた例で、ハローワールド並行処理版\n"
      ]
    },
    {
      "cell_type": "code",
      "metadata": {
        "colab": {
          "base_uri": "https://localhost:8080/"
        },
        "id": "Kg0J7hd8pHXP",
        "outputId": "bee5ac09-3b90-434a-e786-a3b799918cc6"
      },
      "source": [
        "%%writefile temp.exs\n",
        "parent = self()\n",
        " \n",
        "spawn_link(fn ->\n",
        "  send parent, {:msg, \"hello world\"}\n",
        "end)\n",
        " \n",
        "receive do\n",
        "  {:msg, contents} -> IO.puts contents\n",
        "end"
      ],
      "execution_count": null,
      "outputs": [
        {
          "output_type": "stream",
          "name": "stdout",
          "text": [
            "Overwriting temp.exs\n"
          ]
        }
      ]
    },
    {
      "cell_type": "code",
      "metadata": {
        "colab": {
          "base_uri": "https://localhost:8080/"
        },
        "id": "XWmyBYpEpZ4n",
        "outputId": "71865fe1-a34a-4d25-ae28-5285c72cade6"
      },
      "source": [
        "!elixir temp.exs"
      ],
      "execution_count": null,
      "outputs": [
        {
          "output_type": "stream",
          "name": "stdout",
          "text": [
            "hello world\n"
          ]
        }
      ]
    },
    {
      "cell_type": "markdown",
      "metadata": {
        "id": "z6EdDr20r5q8"
      },
      "source": [
        "上の例でやっていることはつぎのような流れである。\n",
        "\n",
        "1. spawn_linkという関数に渡された関数が、関数の内容を実行する。\n",
        "2. 新しく作られたプロセス側では、メインプロセス側（parent）に “hello world” というメッセージを送る。\n",
        "3. メインプロセス側は、どこからかメッセージが来ないかを待ち受けて（receive）、メッセージが来たらそれをコンソールに表示する。"
      ]
    },
    {
      "cell_type": "code",
      "metadata": {
        "id": "gXbF4HnE1jnt",
        "colab": {
          "base_uri": "https://localhost:8080/"
        },
        "outputId": "5fe4d217-7fc5-4aa7-e554-57e06c0bb92f"
      },
      "source": [
        "# 実験 とりあえず理解しない。 colab 環境でどうかだけ調べる。\n",
        "%%writefile chain.exs\n",
        "defmodule Chain do\n",
        "  def counter(next_pid) do\n",
        "    receive do\n",
        "      n -> send next_pid, n + 1\n",
        "    end\n",
        "  end\n",
        " \n",
        "  def create_processes(n) do\n",
        "    last = Enum.reduce 1..n, self(),\n",
        "      fn (_, send_to) -> spawn(Chain, :counter, [send_to]) end\n",
        "    send last, 0\n",
        "    receive do\n",
        "      final_answer when is_integer(final_answer) ->\n",
        "        \"Result is #{inspect(final_answer)}\"\n",
        "    end\n",
        "  end\n",
        " \n",
        "  def run(n) do\n",
        "    IO.puts inspect :timer.tc(Chain, :create_processes, [n])\n",
        "  end\n",
        "end"
      ],
      "execution_count": null,
      "outputs": [
        {
          "output_type": "stream",
          "name": "stdout",
          "text": [
            "Writing chain.exs\n"
          ]
        }
      ]
    },
    {
      "cell_type": "code",
      "metadata": {
        "id": "Flqn_Jrmrxy1",
        "colab": {
          "base_uri": "https://localhost:8080/"
        },
        "outputId": "750cf48f-2acb-4969-f837-90f1b91b342b"
      },
      "source": [
        "!elixir --erl \"+P 1000000\" -r chain.exs  -e \"Chain.run(1_000_000)\""
      ],
      "execution_count": null,
      "outputs": [
        {
          "output_type": "stream",
          "name": "stdout",
          "text": [
            "{4638957, \"Result is 1000000\"}\n"
          ]
        }
      ]
    },
    {
      "cell_type": "markdown",
      "metadata": {
        "id": "scVR0hFA2bO8"
      },
      "source": [
        "記事 https://ubiteku.oinker.me/2015/12/22/elixir試飲-2-カルチャーショックに戸惑う-並行指向プ/ のマシン Macbook Pro – 3 GHz Intel Core i7, 16GB RAM では 7 秒のところ、colab では 5 秒で終わってるね!!!!\n",
        "\n",
        "手元のwindowsマシン intel core i5-9400 8gb ram でやったら次のようになった。  \n",
        "{3492935, \"Result is 1000000\"}\n",
        "\n",
        "あれ、速いじゃん!!!!"
      ]
    },
    {
      "cell_type": "markdown",
      "metadata": {
        "id": "Ajr_Z2V6mh7Y"
      },
      "source": [
        "---\n",
        "コメントは `#`"
      ]
    },
    {
      "cell_type": "code",
      "metadata": {
        "colab": {
          "base_uri": "https://localhost:8080/"
        },
        "id": "DfMZdyUImlsG",
        "outputId": "94b47d9c-653d-432b-ea11-6e447b7253d2"
      },
      "source": [
        "%%writefile temp.exs\n",
        "# コメント実験\n",
        "str = \"helloworld!!!!\"\n",
        "IO.puts str"
      ],
      "execution_count": null,
      "outputs": [
        {
          "output_type": "stream",
          "name": "stdout",
          "text": [
            "Overwriting temp.exs\n"
          ]
        }
      ]
    },
    {
      "cell_type": "code",
      "metadata": {
        "colab": {
          "base_uri": "https://localhost:8080/"
        },
        "id": "qUtHCWc3mtba",
        "outputId": "bc541e73-d1af-44c5-b783-187eb72ebeb8"
      },
      "source": [
        "!elixir temp.exs"
      ],
      "execution_count": null,
      "outputs": [
        {
          "output_type": "stream",
          "name": "stdout",
          "text": [
            "helloworld!!!!\n"
          ]
        }
      ]
    },
    {
      "cell_type": "markdown",
      "metadata": {
        "id": "JSTaVsDvh8Gl"
      },
      "source": [
        "---\n",
        "n 進数、整数 integer"
      ]
    },
    {
      "cell_type": "code",
      "metadata": {
        "colab": {
          "base_uri": "https://localhost:8080/"
        },
        "id": "iosas2W_nx9E",
        "outputId": "737a734e-981f-41de-b4d3-400dc19e8551"
      },
      "source": [
        "!elixir -e 'IO.puts 0b1111'\n",
        "!elixir -e 'IO.puts 0o7777'\n",
        "!elixir -e 'IO.puts 0xffff'\n",
        "!elixir -e 'IO.puts 1000_000_00_0'"
      ],
      "execution_count": null,
      "outputs": [
        {
          "output_type": "stream",
          "text": [
            "15\n",
            "4095\n",
            "65535\n",
            "1000000000\n"
          ],
          "name": "stdout"
        }
      ]
    },
    {
      "cell_type": "markdown",
      "metadata": {
        "id": "nOl9SbJnOqdT"
      },
      "source": [
        "整数型に上限下限 fixed limit はない。 factorial(10000) が計算できる。今はしない。\n"
      ]
    },
    {
      "cell_type": "markdown",
      "metadata": {
        "id": "gpjl9l3FfQwe"
      },
      "source": [
        "---\n",
        "問題\n",
        "\n",
        "10進数を $n$ 進数にベースを変えるのはどうするか。 python では `int()`, `bin()`, `oct()`, `hex()` があった。"
      ]
    },
    {
      "cell_type": "code",
      "metadata": {
        "id": "k9DwveLAgc84",
        "colab": {
          "base_uri": "https://localhost:8080/"
        },
        "outputId": "89c4b22b-3f70-44e0-cb29-dc18e6047ba7"
      },
      "source": [
        "# python\n",
        "print(0b1111)\n",
        "print(0o7777)\n",
        "print(0xffff)\n",
        "print(int('7777',8))\n",
        "print(bin(15))\n",
        "print(oct(4095))\n",
        "print(hex(65535))"
      ],
      "execution_count": null,
      "outputs": [
        {
          "output_type": "stream",
          "text": [
            "15\n",
            "4095\n",
            "65535\n",
            "4095\n",
            "0b1111\n",
            "0o7777\n",
            "0xffff\n"
          ],
          "name": "stdout"
        }
      ]
    },
    {
      "cell_type": "code",
      "metadata": {
        "id": "TsFxYNSDsMzN",
        "colab": {
          "base_uri": "https://localhost:8080/"
        },
        "outputId": "4d6e5960-820d-4c90-faa6-d3bc72edb0e3"
      },
      "source": [
        "!elixir -e 'IO.puts 0b1111'\n",
        "!elixir -e 'IO.puts 0o7777'\n",
        "!elixir -e 'IO.puts 0xffff'\n",
        "!echo\n",
        "# Integer.to_string() と言う関数を使う\n",
        "# <> はバイナリー連結\n",
        "!elixir -e 'IO.puts \"0b\" <> Integer.to_string(15,2)'\n",
        "!elixir -e 'IO.puts \"0o\" <> Integer.to_string(4095,8)'\n",
        "!elixir -e 'IO.puts \"0x\" <> Integer.to_string(65535,16)'"
      ],
      "execution_count": null,
      "outputs": [
        {
          "output_type": "stream",
          "name": "stdout",
          "text": [
            "15\n",
            "4095\n",
            "65535\n",
            "\n",
            "0b1111\n",
            "0o7777\n",
            "0xFFFF\n"
          ]
        }
      ]
    },
    {
      "cell_type": "markdown",
      "metadata": {
        "id": "_y3Y9lKwtpOl"
      },
      "source": [
        "浮動小数点数 floating-point number"
      ]
    },
    {
      "cell_type": "code",
      "metadata": {
        "colab": {
          "base_uri": "https://localhost:8080/"
        },
        "id": "fY5OrrP9ogLF",
        "outputId": "534bdca0-699e-4ca5-e301-e7c89d57ef60"
      },
      "source": [
        "!elixir -e 'IO.puts 1.532e-4'\n",
        "# .0 とか 1. とかはエラーになる\n",
        "!elixir -e 'IO.puts 98099098.0809898888'\n",
        "!elixir -e 'IO.puts 0.00000000000000000000000001' #=> 1.0e-26\n",
        "!elixir -e 'IO.puts 90000000000000000000000000000000000000000000000000000000'"
      ],
      "execution_count": null,
      "outputs": [
        {
          "output_type": "stream",
          "name": "stdout",
          "text": [
            "1.532e-4\n",
            "98099098.08098988\n",
            "1.0e-26\n",
            "999999999999999999999999999999999999999\n",
            "90000000000000000000000000000000000000000000000000000000\n"
          ]
        }
      ]
    },
    {
      "cell_type": "markdown",
      "metadata": {
        "id": "6yA5uGUBPihD"
      },
      "source": [
        "文字列 string\n",
        "\n",
        "string という型はない、みたい。\n",
        "\n",
        "質問 型を調べる関数はあるか。type() とか。\n",
        "\n",
        "質問 日本語についてはまた別途まとめて勉強する。"
      ]
    },
    {
      "cell_type": "code",
      "metadata": {
        "colab": {
          "base_uri": "https://localhost:8080/"
        },
        "id": "Bjc6aZSso4ma",
        "outputId": "6f8ebaaa-eb74-4530-8c16-2f2b64b501dc"
      },
      "source": [
        "!elixir -e 'IO.puts \"日本語が書けますか\"'\n",
        "!elixir -e 'IO.puts \"日本語が書けます\"'"
      ],
      "execution_count": null,
      "outputs": [
        {
          "output_type": "stream",
          "text": [
            "日本語が書けますか\n",
            "日本語が書けます\n"
          ],
          "name": "stdout"
        }
      ]
    },
    {
      "cell_type": "code",
      "metadata": {
        "colab": {
          "base_uri": "https://localhost:8080/"
        },
        "id": "UhF_wVUSpG0A",
        "outputId": "1dae7128-8974-4c47-fb67-8fb499e448de"
      },
      "source": [
        "# 関数に括弧をつけることができる\n",
        "# \\ で escape できる\n",
        "!elixir -e 'IO.puts (0b1111)'\n",
        "!elixir -e 'IO.puts (\"にほんご\\n日本語\")'\n",
        "!elixir -e \"IO.puts ('にほんご\\n\\\"日本語\\\"')\""
      ],
      "execution_count": null,
      "outputs": [
        {
          "output_type": "stream",
          "text": [
            "15\n",
            "にほんご\n",
            "日本語\n",
            "にほんご\n",
            "\"日本語\"\n"
          ],
          "name": "stdout"
        }
      ]
    },
    {
      "cell_type": "code",
      "metadata": {
        "colab": {
          "base_uri": "https://localhost:8080/"
        },
        "id": "Pse7-AAcqCD1",
        "outputId": "0851c255-6fb5-4eb5-ba6c-5ccad4d8b18d"
      },
      "source": [
        "# 文字連結 `+` ではない!!!!\n",
        "!elixir -e 'IO.puts(\"ABCD\"<>\"EFGH\")'"
      ],
      "execution_count": null,
      "outputs": [
        {
          "output_type": "stream",
          "text": [
            "ABCDEFGH\n"
          ],
          "name": "stdout"
        }
      ]
    },
    {
      "cell_type": "markdown",
      "source": [
        "`<>` と言う記号はバイナリ連結ということらしい。"
      ],
      "metadata": {
        "id": "Js6Px_xAsOq4"
      }
    },
    {
      "cell_type": "markdown",
      "metadata": {
        "id": "zeEliw_Esji1"
      },
      "source": [
        "---\n",
        "値の埋め込み\n",
        "\n",
        "`#{変数名}` を記述することで、変数の値を埋め込むことができる。\n"
      ]
    },
    {
      "cell_type": "code",
      "metadata": {
        "colab": {
          "base_uri": "https://localhost:8080/"
        },
        "id": "1mm0BWeds1SQ",
        "outputId": "724e430c-d384-40b2-8435-bbf4bb24e3c3"
      },
      "source": [
        "!elixir -e 'val = 1000; IO.puts \"val = #{val}\"'"
      ],
      "execution_count": null,
      "outputs": [
        {
          "output_type": "stream",
          "text": [
            "val = 1000\n"
          ],
          "name": "stdout"
        }
      ]
    },
    {
      "cell_type": "markdown",
      "metadata": {
        "id": "StBnVUaHtQgL"
      },
      "source": [
        "---\n",
        "真偽値\n",
        "\n",
        "elixir の 真偽値は true と false (小文字) で false と nil が false でそれ以外は true\n",
        "\n"
      ]
    },
    {
      "cell_type": "code",
      "metadata": {
        "colab": {
          "base_uri": "https://localhost:8080/"
        },
        "id": "D9yH5Dy-tgFj",
        "outputId": "7d3ed7b6-378b-40b9-8945-1ade4c959e32"
      },
      "source": [
        "!elixir -e 'if true do IO.puts \"true\" end'\n",
        "!elixir -e 'if True do IO.puts \"true\" end'\n",
        "!elixir -e 'if False do IO.puts \"true\" end' # False が大文字なので\n",
        "!elixir -e 'if false do IO.puts \"true\" else IO.puts \"false\" end'\n",
        "!elixir -e 'if nil do IO.puts \"true\" else IO.puts \"false\" end'\n",
        "!elixir -e 'if 0 do IO.puts \"true\" else IO.puts \"false\" end'\n",
        "!elixir -e 'if (-1) do IO.puts \"true\" else IO.puts \"false\" end'\n",
        "!elixir -e 'if [] do IO.puts \"true\" else IO.puts \"false\" end'\n",
        "!elixir -e 'if \"\" do IO.puts \"true\" else IO.puts \"false\" end'"
      ],
      "execution_count": null,
      "outputs": [
        {
          "output_type": "stream",
          "text": [
            "true\n",
            "true\n",
            "true\n",
            "false\n",
            "false\n",
            "true\n",
            "true\n",
            "true\n",
            "true\n"
          ],
          "name": "stdout"
        }
      ]
    },
    {
      "cell_type": "markdown",
      "metadata": {
        "id": "itYbKcCB4ySP"
      },
      "source": [
        "`null` はない。"
      ]
    },
    {
      "cell_type": "markdown",
      "metadata": {
        "id": "C9JDfWYm_mDC"
      },
      "source": [
        "# マッチ演算子 `=`\n",
        "\n",
        "マッチ演算子 `=` はマッチ演算子である。 マッチ演算子を通して値を代入し、その後、マッチさせることができる。マッチすると、方程式の結果が返され、失敗すると、エラーになる。"
      ]
    },
    {
      "cell_type": "code",
      "metadata": {
        "colab": {
          "base_uri": "https://localhost:8080/"
        },
        "id": "DfVC7pluKE0H",
        "outputId": "3fa7c21a-7368-443b-b9ce-2146ccbdf4bc"
      },
      "source": [
        "!elixir -e 'IO.puts a = 1'\n",
        "!elixir -e 'a =1; IO.puts 1 = a'\n",
        "!elixir -e 'a =1; IO.puts 2 = a'"
      ],
      "execution_count": 3,
      "outputs": [
        {
          "output_type": "stream",
          "name": "stdout",
          "text": [
            "1\n",
            "1\n",
            "** (MatchError) no match of right hand side value: 1\n",
            "    (stdlib 3.17) erl_eval.erl:450: :erl_eval.expr/5\n",
            "    (stdlib 3.17) erl_eval.erl:893: :erl_eval.expr_list/6\n",
            "    (stdlib 3.17) erl_eval.erl:408: :erl_eval.expr/5\n",
            "    (elixir 1.13.0) lib/code.ex:404: Code.validated_eval_string/3\n"
          ]
        }
      ]
    },
    {
      "cell_type": "code",
      "metadata": {
        "colab": {
          "base_uri": "https://localhost:8080/"
        },
        "id": "pwxo37byKqR8",
        "outputId": "1c4ade23-749b-4945-fc10-e520d535bd4c"
      },
      "source": [
        "!elixir -e 'IO.inspect a = [1,2,3]' # リストは puts で表示できないので\n",
        "!elixir -e '[a,b,c] = [1,2,3]; IO.puts c; IO.puts b'\n"
      ],
      "execution_count": 9,
      "outputs": [
        {
          "output_type": "stream",
          "name": "stdout",
          "text": [
            "[1, 2, 3]\n",
            "3\n",
            "2\n"
          ]
        }
      ]
    },
    {
      "cell_type": "markdown",
      "metadata": {
        "id": "y0ASVVRgLcWv"
      },
      "source": [
        "上の例は、elixir は マッチ演算子 `=` があると左右がマッチするように最善を尽くす。 そのため、`[a,b,c] = [1,2,3]` で a,b,c に値が代入される。"
      ]
    },
    {
      "cell_type": "code",
      "metadata": {
        "colab": {
          "base_uri": "https://localhost:8080/"
        },
        "id": "0DmXw7wRL56_",
        "outputId": "da139eef-593e-4057-9adf-1a688d6b2b00"
      },
      "source": [
        "!elixir -e 'IO.inspect [1,2,[3,4,5]]'\n",
        "!elixir -e '[a,b,c] = [1,2,[3,4,5]]; IO.inspect c; IO.inspect b'"
      ],
      "execution_count": null,
      "outputs": [
        {
          "output_type": "stream",
          "text": [
            "[1, 2, [3, 4, 5]]\n",
            "[3, 4, 5]\n",
            "2\n"
          ],
          "name": "stdout"
        }
      ]
    },
    {
      "cell_type": "code",
      "metadata": {
        "colab": {
          "base_uri": "https://localhost:8080/"
        },
        "id": "CMKwmMRvMUVY",
        "outputId": "202fb09e-ab9c-4a63-d4e3-41c76a3cd15e"
      },
      "source": [
        "# 実験 => エラー\n",
        "!elixir -e 'IO.insepct [a,b] = [1,2,3]'"
      ],
      "execution_count": null,
      "outputs": [
        {
          "output_type": "stream",
          "text": [
            "** (MatchError) no match of right hand side value: [1, 2, 3]\n",
            "    (stdlib 3.15) erl_eval.erl:450: :erl_eval.expr/5\n",
            "    (stdlib 3.15) erl_eval.erl:893: :erl_eval.expr_list/6\n",
            "    (stdlib 3.15) erl_eval.erl:408: :erl_eval.expr/5\n",
            "    (elixir 1.12.0) lib/code.ex:656: Code.eval_string_with_error_handling/3\n"
          ],
          "name": "stdout"
        }
      ]
    },
    {
      "cell_type": "code",
      "metadata": {
        "colab": {
          "base_uri": "https://localhost:8080/"
        },
        "id": "PJeH48afMhZF",
        "outputId": "5e1db2ec-a98f-407e-84da-79522fe0db4f"
      },
      "source": [
        "# 実験\n",
        "!elixir -e 'IO.inspect a = [[1,2,3]]'\n",
        "!elixir -e 'IO.inspect [a] = [[1,2,3]]'\n",
        "!elixir -e '[a] = [[1,2,3]]; IO.inspect a'"
      ],
      "execution_count": null,
      "outputs": [
        {
          "output_type": "stream",
          "text": [
            "[[1, 2, 3]]\n",
            "[[1, 2, 3]]\n",
            "[1, 2, 3]\n"
          ],
          "name": "stdout"
        }
      ]
    },
    {
      "cell_type": "code",
      "metadata": {
        "colab": {
          "base_uri": "https://localhost:8080/"
        },
        "id": "kXTCugTQMzoK",
        "outputId": "d98c75ba-b04b-48b1-b455-5953f6c74e49"
      },
      "source": [
        "# 実験 => エラー\n",
        "!elixir -e 'IO.insepct [a,b] = [a,b]'"
      ],
      "execution_count": null,
      "outputs": [
        {
          "output_type": "stream",
          "text": [
            "\u001b[33mwarning: \u001b[0mvariable \"a\" does not exist and is being expanded to \"a()\", please use parentheses to remove the ambiguity or change the variable name\n",
            "  nofile:1\n",
            "\n",
            "** (CompileError) nofile:1: undefined function a/0\n",
            "    (stdlib 3.15) lists.erl:1358: :lists.mapfoldl/3\n"
          ],
          "name": "stdout"
        }
      ]
    },
    {
      "cell_type": "markdown",
      "source": [
        "# いまここ"
      ],
      "metadata": {
        "id": "Z_ah9bgWJP9a"
      }
    },
    {
      "cell_type": "code",
      "metadata": {
        "colab": {
          "base_uri": "https://localhost:8080/"
        },
        "id": "8clX4wX5M8qW",
        "outputId": "d7099ec0-513d-4a5f-b536-61476a57580a"
      },
      "source": [
        "# 実験\n",
        "!elixir -e 'IO.puts a = :a'\n",
        "!elixir -e 'a = :a; IO.inspect a = a'\n",
        "!elixir -e 'a = :a; IO.puts a = a'\n",
        "!elixir -e 'IO.puts :b'"
      ],
      "execution_count": null,
      "outputs": [
        {
          "output_type": "stream",
          "text": [
            "a\n",
            ":a\n",
            "a\n",
            "b\n"
          ],
          "name": "stdout"
        }
      ]
    },
    {
      "cell_type": "markdown",
      "metadata": {
        "id": "ux4nZ8goNr1-"
      },
      "source": [
        "アンダースコア `_` で値を無視する。 ワルドカード。\n",
        "\n",
        "なんでも受け付ける。"
      ]
    },
    {
      "cell_type": "code",
      "metadata": {
        "colab": {
          "base_uri": "https://localhost:8080/"
        },
        "id": "kv4acj4VN1PL",
        "outputId": "1b9e8d22-db8e-492e-eaf2-399a0402c32e"
      },
      "source": [
        "!elixir -e 'IO.inspect [1,_,_]=[1,2,3]'"
      ],
      "execution_count": null,
      "outputs": [
        {
          "output_type": "stream",
          "text": [
            "[1, 2, 3]\n"
          ],
          "name": "stdout"
        }
      ]
    },
    {
      "cell_type": "code",
      "metadata": {
        "colab": {
          "base_uri": "https://localhost:8080/"
        },
        "id": "XKMEyqD9OHHi",
        "outputId": "b2026df0-8fe8-48e0-ad83-834533a40198"
      },
      "source": [
        "!elixir -e 'IO.inspect [1,_,_]=[1,\"cat\",\"dog\"]'"
      ],
      "execution_count": null,
      "outputs": [
        {
          "output_type": "stream",
          "text": [
            "[1, \"cat\", \"dog\"]\n"
          ],
          "name": "stdout"
        }
      ]
    },
    {
      "cell_type": "markdown",
      "metadata": {
        "id": "7J8qxcWUOUbR"
      },
      "source": [
        "変数は、バインド (束縛、紐付け) されると変更できない。\n",
        "\n",
        "かと思ったらできてしまう。\n"
      ]
    },
    {
      "cell_type": "code",
      "metadata": {
        "colab": {
          "base_uri": "https://localhost:8080/"
        },
        "id": "NKezGeRTeIRa",
        "outputId": "38841722-dedd-440a-bf66-9a6a9b83e518"
      },
      "source": [
        "!elixir -e 'a = 1; IO.puts a = 2'"
      ],
      "execution_count": null,
      "outputs": [
        {
          "output_type": "stream",
          "text": [
            "2\n"
          ],
          "name": "stdout"
        }
      ]
    },
    {
      "cell_type": "markdown",
      "metadata": {
        "id": "lTmxh0zaeug0"
      },
      "source": [
        "元の変数を指し示すピン演算子 (`^` カレット) がある。"
      ]
    },
    {
      "cell_type": "code",
      "metadata": {
        "colab": {
          "base_uri": "https://localhost:8080/"
        },
        "id": "qUZaOkqrerqM",
        "outputId": "730fdcbf-1855-4b32-dc77-91e10c77bdbe"
      },
      "source": [
        "!elixir -e 'a = 1; IO.puts ^a = 2'"
      ],
      "execution_count": null,
      "outputs": [
        {
          "output_type": "stream",
          "text": [
            "** (MatchError) no match of right hand side value: 2\n",
            "    (stdlib 3.15) erl_eval.erl:450: :erl_eval.expr/5\n",
            "    (stdlib 3.15) erl_eval.erl:893: :erl_eval.expr_list/6\n",
            "    (stdlib 3.15) erl_eval.erl:408: :erl_eval.expr/5\n",
            "    (elixir 1.12.0) lib/code.ex:656: Code.eval_string_with_error_handling/3\n"
          ],
          "name": "stdout"
        }
      ]
    },
    {
      "cell_type": "markdown",
      "metadata": {
        "id": "dsKGlpUjfOgd"
      },
      "source": [
        "メモ $\\quad$ 普通の関数型言語のように変数は変更できないルールにしてしまった方が簡単ではなかったか、と思わないでもない。 変数を不変にする、const 宣言みたいなのはないのか。\n",
        "\n",
        "リストは不変 immutable なので安心。\n",
        "\n"
      ]
    },
    {
      "cell_type": "code",
      "metadata": {
        "colab": {
          "base_uri": "https://localhost:8080/"
        },
        "id": "sRqOyI0XwcJl",
        "outputId": "5c1a68f5-76bc-4738-e77f-f8769db497e7"
      },
      "source": [
        "# 大文字にする capitalize\n",
        "!elixir -e 'IO.puts name = String.capitalize \"elixir\"'"
      ],
      "execution_count": null,
      "outputs": [
        {
          "output_type": "stream",
          "text": [
            "Elixir\n"
          ],
          "name": "stdout"
        }
      ]
    },
    {
      "cell_type": "code",
      "metadata": {
        "colab": {
          "base_uri": "https://localhost:8080/"
        },
        "id": "FoIH56zvxcuB",
        "outputId": "af173fcb-a285-4f86-d8ec-b7999b767364"
      },
      "source": [
        "# 大文字にする upcase\n",
        "!elixir -e 'IO.puts String.upcase \"elixir\"'"
      ],
      "execution_count": null,
      "outputs": [
        {
          "output_type": "stream",
          "text": [
            "ELIXIR\n"
          ],
          "name": "stdout"
        }
      ]
    },
    {
      "cell_type": "markdown",
      "metadata": {
        "id": "ymMoHgZ648UL"
      },
      "source": [
        "# アトム\n",
        "\n",
        "アトムは名前がそのまま値となる定数である。\n",
        "\n",
        "**名前の前にコロン `:` をつけることでアトムになる。**\n",
        "\n",
        "アトムの名前は utf-8 文字列 (記号を含む)、数字、アンダースコア `_` 、`@` で、終端文字としてのみ「!」や「?」が使える。\n",
        "\n",
        ":fred $\\quad$ :is_binary? $\\quad$ ​:var@2 $\\quad$ ​:<> $\\quad$ ​:=== \n",
        "\n",
        "​:\"func/3\"​ $\\quad$ ​​:\"long john silver\" $\\quad$ ​:эликсир\n",
        "\n",
        "​:mötley_crüe\n",
        "\n",
        "メモ"
      ]
    },
    {
      "cell_type": "code",
      "metadata": {
        "id": "I4OyDEuL5NXn",
        "colab": {
          "base_uri": "https://localhost:8080/"
        },
        "outputId": "f3a57992-8d33-4e0d-9e72-5a4b9f4670b7"
      },
      "source": [
        "# 実験\n",
        "!elixir -e 'IO.puts true === :true'\n",
        "!elixir -e 'IO.puts :true'\n",
        "!elixir -e 'IO.puts false === :false'"
      ],
      "execution_count": null,
      "outputs": [
        {
          "output_type": "stream",
          "text": [
            "true\n",
            "true\n",
            "true\n"
          ],
          "name": "stdout"
        }
      ]
    },
    {
      "cell_type": "code",
      "metadata": {
        "id": "_JgCByovuZDa",
        "colab": {
          "base_uri": "https://localhost:8080/"
        },
        "outputId": "2e26bf3d-7bd9-45bb-f41e-0de535e3010f"
      },
      "source": [
        "# 実験 多分 colab の環境のせいで引用符が処理できない。2 バイト文字はオッケー。\n",
        "!elixir -e 'IO.puts :fred'\n",
        "!elixir -e 'IO.puts :is_binary?'\n",
        "!elixir -e 'IO.puts :var@2'\n",
        "!elixir -e 'IO.puts :<>'\n",
        "!elixir -e 'IO.puts :==='\n",
        "# !elixir -e 'IO.puts :\"func/3\"​'\n",
        "# !elixir -e 'IO.puts ​​:\"long john silver\"'\n",
        "!elixir -e 'IO.puts :эликсир'\n",
        "!elixir -e 'IO.puts :mötley_crüe'\n",
        "!elixir -e 'IO.puts :日本語はどうか'"
      ],
      "execution_count": null,
      "outputs": [
        {
          "output_type": "stream",
          "text": [
            "fred\n",
            "is_binary?\n",
            "var@2\n",
            "<>\n",
            "===\n",
            "эликсир\n",
            "mötley_crüe\n",
            "日本語はどうか\n"
          ],
          "name": "stdout"
        }
      ]
    },
    {
      "cell_type": "markdown",
      "metadata": {
        "id": "11Dfjo4Y6LQU"
      },
      "source": [
        "演算子"
      ]
    },
    {
      "cell_type": "code",
      "metadata": {
        "id": "ISACU_0p6Nv2",
        "colab": {
          "base_uri": "https://localhost:8080/"
        },
        "outputId": "0c26f3bf-ef83-4d36-9386-2f96f3fde532"
      },
      "source": [
        "!elixir -e 'IO.puts 1 + 2'\n",
        "!elixir -e 'x = 10; IO.puts x + 1'\n",
        "!elixir -e 'IO.puts 1 - 2'\n",
        "!elixir -e 'x = 10; IO.puts x - 1'\n",
        "!elixir -e 'IO.puts 5 * 2'\n",
        "!elixir -e 'x = 10; IO.puts x * 4'\n",
        "!echo \n",
        "!elixir -e 'IO.puts 5 / 2'\n",
        "!elixir -e 'x = 10; IO.puts x / 3'"
      ],
      "execution_count": null,
      "outputs": [
        {
          "output_type": "stream",
          "text": [
            "3\n",
            "11\n",
            "-1\n",
            "9\n",
            "10\n",
            "40\n",
            "\n",
            "2.5\n",
            "3.3333333333333335\n"
          ],
          "name": "stdout"
        }
      ]
    },
    {
      "cell_type": "code",
      "metadata": {
        "id": "hcGSSQlu7JEQ",
        "colab": {
          "base_uri": "https://localhost:8080/"
        },
        "outputId": "e814f7b0-75c1-46b4-ad78-941809817307"
      },
      "source": [
        "# 浮動少数ではなく整数としての結果がほしい場合は div 関数を使用\n",
        "!elixir -e 'IO.puts div(10,5)'\n",
        "!elixir -e 'IO.puts div(10,4)'\n",
        "# 割り算の余り、剰余を求める場合は rem関数を使用\n",
        "!elixir -e 'IO.puts rem(10,4)'\n",
        "!elixir -e 'IO.puts rem(10,3)'\n",
        "!elixir -e 'IO.puts rem(10,2)'"
      ],
      "execution_count": null,
      "outputs": [
        {
          "output_type": "stream",
          "text": [
            "2\n",
            "2\n",
            "2\n",
            "1\n",
            "0\n"
          ],
          "name": "stdout"
        }
      ]
    },
    {
      "cell_type": "code",
      "metadata": {
        "colab": {
          "base_uri": "https://localhost:8080/"
        },
        "id": "MD79UYp8WYW5",
        "outputId": "2d542d04-fd31-4535-8ae0-533f438f6b9f"
      },
      "source": [
        "# 比較演算子\n",
        "!elixir -e 'IO.puts 1 == 1'\n",
        "!elixir -e 'IO.puts 1 != 1'\n",
        "!elixir -e 'IO.puts ! (1 != 1)'\n",
        "!elixir -e 'IO.puts 20.0 == 20'\n",
        "!elixir -e 'IO.puts 20.0 === 20'\n",
        "!elixir -e 'IO.puts 20.0 !== 20'"
      ],
      "execution_count": null,
      "outputs": [
        {
          "output_type": "stream",
          "text": [
            "true\n",
            "false\n",
            "true\n",
            "true\n",
            "false\n",
            "true\n"
          ],
          "name": "stdout"
        }
      ]
    },
    {
      "cell_type": "code",
      "metadata": {
        "colab": {
          "base_uri": "https://localhost:8080/"
        },
        "id": "HpG6ZfOPXSHE",
        "outputId": "57dfd1bb-c8c2-4b77-c815-ab4f0077b8a1"
      },
      "source": [
        "# 論理演算子\n",
        "# 論理和\n",
        "!elixir -e 'IO.puts \"ABC\" == \"ABC\" || 20 == 30'\n",
        "!elixir -e 'IO.puts \"ABC\" == \"abc\" || 20 == 30'\n",
        "!echo\n",
        "# 論理積\n",
        "!elixir -e 'IO.puts \"ABC\" == \"ABC\" && 20 == 20'\n",
        "!elixir -e 'IO.puts \"ABC\" == \"ABC\" && 20 == 30'\n",
        "!elixir -e 'IO.puts \"ABC\" == \"def\" && 10 > 100'\n",
        "!echo\n",
        "# 否定\n",
        "!elixir -e 'IO.puts !(\"ABC\" == \"ABC\")'\n",
        "!elixir -e 'IO.puts !(\"ABC\" == \"DEF\")'"
      ],
      "execution_count": null,
      "outputs": [
        {
          "output_type": "stream",
          "text": [
            "true\n",
            "false\n",
            "\n",
            "true\n",
            "false\n",
            "false\n",
            "\n",
            "false\n",
            "true\n"
          ],
          "name": "stdout"
        }
      ]
    },
    {
      "cell_type": "markdown",
      "metadata": {
        "id": "JC8x22M7ID-Y"
      },
      "source": [
        "range\n",
        "\n",
        "メモ $\\quad$ range は型ではなく、struct である。 構造体?\n",
        "\n",
        "`start..end` で表現される、とあるが、1..10 と書けばそれで range なのか?\n"
      ]
    },
    {
      "cell_type": "code",
      "metadata": {
        "id": "gTcnmspAIk68",
        "colab": {
          "base_uri": "https://localhost:8080/"
        },
        "outputId": "74feafda-254e-4218-ae3f-4a64da88d9d1"
      },
      "source": [
        "!elixir -e 'IO.inspect Enum.to_list(1..3)'\n",
        "!elixir -e 'IO.inspect Enum.to_list(0..10//3)'\n",
        "!elixir -e 'IO.inspect Enum.to_list(0..10//-3)'\n",
        "!elixir -e 'IO.inspect Enum.to_list(10..0//-3)'\n",
        "!elixir -e 'IO.inspect Enum.to_list(1..1)'\n",
        "!elixir -e 'IO.inspect Enum.to_list(1..1//2)'\n",
        "!elixir -e 'IO.inspect Enum.to_list(1..-1//2)'"
      ],
      "execution_count": null,
      "outputs": [
        {
          "output_type": "stream",
          "text": [
            "[1, 2, 3]\n",
            "[0, 3, 6, 9]\n",
            "[]\n",
            "[10, 7, 4, 1]\n",
            "[1]\n",
            "[1]\n",
            "[]\n"
          ],
          "name": "stdout"
        }
      ]
    },
    {
      "cell_type": "code",
      "metadata": {
        "id": "Wu-Njp0qJxY0",
        "colab": {
          "base_uri": "https://localhost:8080/"
        },
        "outputId": "156a8bc2-8ca5-497a-9e99-42aba120eb9b"
      },
      "source": [
        "!elixir -e 'IO.inspect 1..9//2'"
      ],
      "execution_count": null,
      "outputs": [
        {
          "output_type": "stream",
          "text": [
            "1..9//2\n"
          ],
          "name": "stdout"
        }
      ]
    },
    {
      "cell_type": "markdown",
      "metadata": {
        "id": "TT31OFdF1Skv"
      },
      "source": [
        "正規表現 regular expression\n",
        "\n",
        "正規表現も型ではなく、struct である。"
      ]
    },
    {
      "cell_type": "code",
      "metadata": {
        "colab": {
          "base_uri": "https://localhost:8080/"
        },
        "id": "nVehQSED1ZgE",
        "outputId": "e46537ae-26e4-45ad-efa6-53e3e2963853"
      },
      "source": [
        "!elixir -e 'IO.inspect Regex.run ~r{[aiueo]},\"catapillar\"'"
      ],
      "execution_count": null,
      "outputs": [
        {
          "output_type": "stream",
          "text": [
            "[\"a\"]\n"
          ],
          "name": "stdout"
        }
      ]
    },
    {
      "cell_type": "code",
      "metadata": {
        "colab": {
          "base_uri": "https://localhost:8080/"
        },
        "id": "DjFF5Ocf2hDw",
        "outputId": "f3107c4b-08a4-4afb-9355-aedbf36702b2"
      },
      "source": [
        "!elixir -e 'IO.inspect Regex.scan ~r{[aiueo]},\"catapillar\"'"
      ],
      "execution_count": null,
      "outputs": [
        {
          "output_type": "stream",
          "text": [
            "[[\"a\"], [\"a\"], [\"i\"], [\"a\"]]\n"
          ],
          "name": "stdout"
        }
      ]
    },
    {
      "cell_type": "code",
      "metadata": {
        "colab": {
          "base_uri": "https://localhost:8080/"
        },
        "id": "B-9puevy2kFI",
        "outputId": "be12bf18-b9f6-42c4-ba08-db08b13c049c"
      },
      "source": [
        "!elixir -e 'IO.inspect Regex.split ~r{[aiueo]},\"catapillar\"'"
      ],
      "execution_count": null,
      "outputs": [
        {
          "output_type": "stream",
          "text": [
            "[\"c\", \"t\", \"p\", \"ll\", \"r\"]\n"
          ],
          "name": "stdout"
        }
      ]
    },
    {
      "cell_type": "code",
      "metadata": {
        "colab": {
          "base_uri": "https://localhost:8080/"
        },
        "id": "xbWEbhrJ2n_b",
        "outputId": "4b5c6945-c10c-4b17-8315-f6901d3c9da7"
      },
      "source": [
        "!elixir -e 'IO.inspect Regex.replace ~r{[aiueo]},\"catapillar\", \"*\"'"
      ],
      "execution_count": null,
      "outputs": [
        {
          "output_type": "stream",
          "text": [
            "\"c*t*p*ll*r\"\n"
          ],
          "name": "stdout"
        }
      ]
    },
    {
      "cell_type": "markdown",
      "metadata": {
        "id": "0nHvR2D_3HUu"
      },
      "source": [
        "# コレクション型"
      ]
    },
    {
      "cell_type": "markdown",
      "metadata": {
        "id": "nYc9e2XhX4VL"
      },
      "source": [
        "## タプル\n",
        "\n",
        "タプルは波括弧 brace を用いて定義する。\n",
        "\n",
        "タプルに限らず elixir のコレクションはすべて要素のタイプを限定しない。\n",
        "\n",
        "通常 2 から 4 の要素であり、それ以上の要素数の場合、map や struct の利用を考える。\n",
        "\n",
        "タプルは関数の返り値に便利に利用される。\n",
        "\n",
        "パターンマッチングと組み合わせて使われる。\n"
      ]
    },
    {
      "cell_type": "code",
      "metadata": {
        "id": "S2QAVIgAYdN1",
        "colab": {
          "base_uri": "https://localhost:8080/"
        },
        "outputId": "b6815386-a1a2-41b3-9d19-187ed3a905e4"
      },
      "source": [
        "!elixir -e 'IO.inspect {3.14, :pie, \"Apple\"}'"
      ],
      "execution_count": null,
      "outputs": [
        {
          "output_type": "stream",
          "text": [
            "{3.14, :pie, \"Apple\"}\n"
          ],
          "name": "stdout"
        }
      ]
    },
    {
      "cell_type": "code",
      "metadata": {
        "colab": {
          "base_uri": "https://localhost:8080/"
        },
        "id": "Pf1feznT4dft",
        "outputId": "9d832b46-44ac-4bb2-b27b-f736acb66b97"
      },
      "source": [
        "!elixir -e '{status, count, action} = {3.14, :pie, \"next\"}; IO.puts action'"
      ],
      "execution_count": null,
      "outputs": [
        {
          "output_type": "stream",
          "text": [
            "next\n"
          ],
          "name": "stdout"
        }
      ]
    },
    {
      "cell_type": "code",
      "metadata": {
        "colab": {
          "base_uri": "https://localhost:8080/"
        },
        "id": "-owoQYO150ic",
        "outputId": "3c5ca34f-fac4-44ce-dc2a-e423510931fe"
      },
      "source": [
        "!echo hello > temp.txt\n",
        "!elixir -e '{status, file} = File.open(\"temp.txt\"); IO.inspect {status, file}'\n",
        "!elixir -e '{status, file} = File.read(\"temp.txt\"); IO.inspect {status, file}'\n",
        "!elixir -e '{status, file} = File.read(\"temp02.txt\"); IO.inspect {status, file}'"
      ],
      "execution_count": null,
      "outputs": [
        {
          "output_type": "stream",
          "text": [
            "{:ok, #PID<0.95.0>}\n",
            "{:ok, \"hello\\n\"}\n",
            "{:error, :enoent}\n"
          ],
          "name": "stdout"
        }
      ]
    },
    {
      "cell_type": "code",
      "metadata": {
        "id": "XwMhvoxEVJlA",
        "colab": {
          "base_uri": "https://localhost:8080/"
        },
        "outputId": "ec0998a9-c794-481b-975c-1ca36c07c1ac"
      },
      "source": [
        "# 実験 タプルに ++ は使えるか。 => 使えない\n",
        "# !elixir -e 'IO.inspect {3.14, :pie, \"Apple\"} ++ {3}'\n",
        "# 実験 タプルに head は使えるか。 => 使えない\n",
        "# !elixir -e 'IO.inspect hd {3.14, :pie, \"Apple\"}'\n",
        "# 実験 タプルにパターンマッチングは使えるか。 => 使える\n",
        "!elixir -e '{a,b,c} =  {3.14, :pie, \"Apple\"}; IO.inspect [c,a,b]'"
      ],
      "execution_count": null,
      "outputs": [
        {
          "output_type": "stream",
          "text": [
            "/bin/bash: elixir: command not found\n"
          ],
          "name": "stdout"
        }
      ]
    },
    {
      "cell_type": "code",
      "metadata": {
        "colab": {
          "base_uri": "https://localhost:8080/"
        },
        "id": "yA9cADK87DCa",
        "outputId": "a8d2389d-acb5-49da-fca2-9c08dc61b5df"
      },
      "source": [
        "# 実験\n",
        "!elixir -e 'a=1; b=3; {b,a}={a,b}; IO.inspect {a,b}'"
      ],
      "execution_count": null,
      "outputs": [
        {
          "output_type": "stream",
          "text": [
            "{3, 1}\n"
          ],
          "name": "stdout"
        }
      ]
    },
    {
      "cell_type": "markdown",
      "metadata": {
        "id": "oG0fOdZZaT4E"
      },
      "source": [
        "## リスト\n",
        "\n",
        "他の言語の配列 array と elixir のリストは違うので注意。 lisp のリストと似たような概念である。\n",
        "\n",
        "カラのリストでなければ、head と tail がある。\n"
      ]
    },
    {
      "cell_type": "code",
      "metadata": {
        "id": "-UTLByQLaeP-",
        "colab": {
          "base_uri": "https://localhost:8080/"
        },
        "outputId": "d8a1b770-acde-4cc0-8aca-9e24bdcce8a6"
      },
      "source": [
        "# リスト\n",
        "!elixir -e 'IO.inspect [3.14, :pie, \"Apple\"]'\n"
      ],
      "execution_count": null,
      "outputs": [
        {
          "output_type": "stream",
          "text": [
            "[3.14, :pie, \"Apple\"]\n"
          ],
          "name": "stdout"
        }
      ]
    },
    {
      "cell_type": "code",
      "metadata": {
        "id": "2adTcaWdpJLx",
        "colab": {
          "base_uri": "https://localhost:8080/"
        },
        "outputId": "1f8447c8-0702-4b25-da66-8ee5cf4c8fc5"
      },
      "source": [
        "# リスト先頭への追加(高速)\n",
        "!elixir -e 'IO.inspect [\"π\" | [3.14, :pie, \"Apple\"]]'\n",
        "# リスト末尾への追加(低速)\n",
        "!elixir -e 'IO.inspect [3.14, :pie, \"Apple\"] ++ [\"Cherry\"]'"
      ],
      "execution_count": null,
      "outputs": [
        {
          "output_type": "stream",
          "text": [
            "[\"π\", 3.14, :pie, \"Apple\"]\n",
            "[3.14, :pie, \"Apple\", \"Cherry\"]\n"
          ],
          "name": "stdout"
        }
      ]
    },
    {
      "cell_type": "markdown",
      "metadata": {
        "id": "_fTO4PU_Ar3o"
      },
      "source": [
        "上と下のコードセルでリストの連結を行っているが、++/2 演算子を用いている。 この `++/2` という表記は `++` が演算子自体で `/2` がアリティ (引数の数) を表す。 \n",
        "\n"
      ]
    },
    {
      "cell_type": "markdown",
      "metadata": {
        "id": "TAt7A6S6UgYf"
      },
      "source": [
        "---\n",
        "質問 $\\quad$ アリティとはなにか。\n",
        "\n",
        "質問 $\\quad$ リストの連結に `++` で文字列の連結 `<>` なのはなぜか。 オーバーライディングはあるのか。 文字列 string はリストではないのか。 長さを測る関数も別々なのか。"
      ]
    },
    {
      "cell_type": "code",
      "metadata": {
        "id": "O8nIlA3jBEIf",
        "colab": {
          "base_uri": "https://localhost:8080/"
        },
        "outputId": "5fdc6997-9950-45cc-ef68-06d02b372f4e"
      },
      "source": [
        "# リストの連結\n",
        "!elixir -e 'IO.inspect  [1, 2] ++ [3, 4, 1]'"
      ],
      "execution_count": null,
      "outputs": [
        {
          "output_type": "stream",
          "text": [
            "** (ArgumentError) expected binary argument in <> operator but got: [1, 2]\n",
            "    (elixir 1.12.0) lib/kernel.ex:1893: Kernel.wrap_concatenation/3\n",
            "    (elixir 1.12.0) lib/kernel.ex:1880: Kernel.extract_concatenations/2\n",
            "    (elixir 1.12.0) expanding macro: Kernel.<>/2\n",
            "    nofile:1: (file)\n"
          ],
          "name": "stdout"
        }
      ]
    },
    {
      "cell_type": "code",
      "metadata": {
        "id": "F6fHksfUVGu0",
        "colab": {
          "base_uri": "https://localhost:8080/"
        },
        "outputId": "74e0f4c8-e4f8-45da-8459-279b431402f2"
      },
      "source": [
        "# リストの減算 \n",
        "#  --/2 演算子は存在しない値を引いてしまってもオッケー\n",
        "!elixir -e 'IO.inspect [\"foo\", :bar, 42] -- [42, \"bar\"]'\n",
        "# 重複した値の場合、右辺の要素のそれぞれに対し、左辺の要素のうち初めて登場した同じ値が順次削除\n",
        "!elixir -e 'IO.inspect [1,2,2,3,2,3] -- [1,2,3,2]'\n",
        "# リストの減算の値のマッチには strict comparison が使われている\n",
        "!elixir -e 'IO.inspect  [2] -- [2.0]'\n",
        "!elixir -e 'IO.inspect  [2.0] -- [2.0]'"
      ],
      "execution_count": null,
      "outputs": [
        {
          "output_type": "stream",
          "text": [
            "[\"foo\", :bar]\n",
            "[2, 3]\n",
            "[2]\n",
            "[]\n"
          ],
          "name": "stdout"
        }
      ]
    },
    {
      "cell_type": "code",
      "metadata": {
        "id": "H6BBZhUrWfq6",
        "colab": {
          "base_uri": "https://localhost:8080/"
        },
        "outputId": "e0828a87-78e0-480d-a5f7-9676de9443da"
      },
      "source": [
        "# head /tail\n",
        "!elixir -e 'IO.inspect hd [3.14, :pie, \"Apple\"]'\n",
        "!elixir -e 'IO.inspect tl [3.14, :pie, \"Apple\"]'"
      ],
      "execution_count": null,
      "outputs": [
        {
          "output_type": "stream",
          "text": [
            "3.14\n",
            "[:pie, \"Apple\"]\n"
          ],
          "name": "stdout"
        }
      ]
    },
    {
      "cell_type": "markdown",
      "metadata": {
        "id": "T-JhzbsCXITz"
      },
      "source": [
        "---\n",
        "リストを頭部と尾部に分けるのに\n",
        "\n",
        "* パターンマッチング\n",
        "* cons 演算子( `|` )\n",
        "\n",
        "を使うこともできる。"
      ]
    },
    {
      "cell_type": "code",
      "metadata": {
        "id": "A29_XouHXitI",
        "colab": {
          "base_uri": "https://localhost:8080/"
        },
        "outputId": "de3cea92-cfdb-4096-b031-3f64c79084be"
      },
      "source": [
        "!elixir -e '[head | tail] = [3.14, :pie, \"Apple\"]; IO.inspect head; IO.inspect tail'"
      ],
      "execution_count": null,
      "outputs": [
        {
          "output_type": "stream",
          "text": [
            "3.14\n",
            "[:pie, \"Apple\"]\n"
          ],
          "name": "stdout"
        }
      ]
    },
    {
      "cell_type": "markdown",
      "metadata": {
        "id": "EOXvBvVzY4Ox"
      },
      "source": [
        "## キーワードリスト\n",
        "\n",
        "キーワードリストとマップは elixir の連想配列である。\n",
        "\n",
        "キーワードリストは最初の要素がアトムのタプルからなる特別なリストで、リストと同様の性能になる。"
      ]
    },
    {
      "cell_type": "code",
      "metadata": {
        "id": "n9K3nXH0Z1pY",
        "colab": {
          "base_uri": "https://localhost:8080/"
        },
        "outputId": "aeb7ff7d-5a8d-4674-c6a0-cfc5a956a7f4"
      },
      "source": [
        "# キーワードリスト\n",
        "!elixir -e 'IO.inspect [foo: \"bar\", hello: \"world\"]'\n",
        "# タプルのリストとしても同じ\n",
        "!elixir -e 'IO.inspect [{:foo, \"bar\"}, {:hello, \"world\"}]'\n",
        "!elixir -e 'IO.inspect [foo: \"bar\", hello: \"world\"] == [{:foo, \"bar\"}, {:hello, \"world\"}]'"
      ],
      "execution_count": null,
      "outputs": [
        {
          "output_type": "stream",
          "text": [
            "[foo: \"bar\", hello: \"world\"]\n",
            "[foo: \"bar\", hello: \"world\"]\n",
            "true\n"
          ],
          "name": "stdout"
        }
      ]
    },
    {
      "cell_type": "markdown",
      "metadata": {
        "id": "nCLr_RSYkJgp"
      },
      "source": [
        "キーワードリストの 3 つの特徴\n",
        "\n",
        "* キーはアトムである。\n",
        "* キーは順序付けされている。\n",
        "* キーの一意性は保証されない。\n",
        "\n",
        "こうした理由から、キーワードリストは関数にオプションを渡すためによく用いられる。\n"
      ]
    },
    {
      "cell_type": "code",
      "metadata": {
        "colab": {
          "base_uri": "https://localhost:8080/"
        },
        "id": "vEUTICVkBOZu",
        "outputId": "c4a43a26-1467-458b-ffd3-2cd761aac8d7"
      },
      "source": [
        "# 実験 リストの角括弧は省略できる\n",
        "!elixir -e 'IO.inspect foo: \"bar\", hello: \"world\"'"
      ],
      "execution_count": null,
      "outputs": [
        {
          "output_type": "stream",
          "text": [
            "[foo: \"bar\", hello: \"world\"]\n"
          ],
          "name": "stdout"
        }
      ]
    },
    {
      "cell_type": "code",
      "metadata": {
        "colab": {
          "base_uri": "https://localhost:8080/"
        },
        "id": "5MmigNGEK5Pm",
        "outputId": "c1242ada-a0fb-4fc9-d865-d03dbba769e4"
      },
      "source": [
        "# 実験\n",
        "!elixir -e 'IO.inspect [1, fred: 1, dave: 2]'\n",
        "!elixir -e 'IO.inspect {1, fred: 1, dave: 2}'\n",
        "!elixir -e 'IO.inspect {1, [{:fred,1},{:dave, 2}]}'"
      ],
      "execution_count": null,
      "outputs": [
        {
          "output_type": "stream",
          "text": [
            "[1, {:fred, 1}, {:dave, 2}]\n",
            "{1, [fred: 1, dave: 2]}\n",
            "{1, [fred: 1, dave: 2]}\n"
          ],
          "name": "stdout"
        }
      ]
    },
    {
      "cell_type": "markdown",
      "metadata": {
        "id": "FTteo69skgsD"
      },
      "source": [
        "## マップ\n",
        "\n",
        "* キーワードリストとは違ってどんな型のキーも使える。\n",
        "* 順序付けされない。\n",
        "* キーの一意性が保証されている。重複したキーが追加された場合は、前の値が置き換えられる。\n",
        "* 変数をマップのキーにできる。\n",
        "* `%{}` 構文で定義する。\n",
        "\n"
      ]
    },
    {
      "cell_type": "code",
      "metadata": {
        "id": "GpcBT5UxlNqX",
        "colab": {
          "base_uri": "https://localhost:8080/"
        },
        "outputId": "a15c3fdc-37c4-41f4-8278-e98d431841ea"
      },
      "source": [
        "!elixir -e 'IO.inspect %{:foo => \"bar\", \"hello\" => :world}'\n",
        "!elixir -e 'map = %{:foo => \"bar\", \"hello\" => :world}; IO.inspect map[:foo]'\n",
        "!elixir -e 'map = %{:foo => \"bar\", \"hello\" => :world}; IO.inspect map[\"hello\"]'\n",
        "!echo\n",
        "!elixir -e 'key = \"hello\"; IO.inspect %{key => \"world\"}'\n",
        "!elixir -e 'IO.inspect %{:foo => \"bar\", :foo => \"hello world\"}'"
      ],
      "execution_count": null,
      "outputs": [
        {
          "output_type": "stream",
          "text": [
            "%{:foo => \"bar\", \"hello\" => :world}\n",
            "\"bar\"\n",
            ":world\n",
            "\n",
            "%{\"hello\" => \"world\"}\n",
            "%{foo: \"hello world\"}\n"
          ],
          "name": "stdout"
        }
      ]
    },
    {
      "cell_type": "markdown",
      "metadata": {
        "id": "dkcO672-FkQc"
      },
      "source": [
        "上下の例にあるように、アトムのキーだけを含んだマップには特別な構文がある。"
      ]
    },
    {
      "cell_type": "code",
      "metadata": {
        "id": "nvuza7GRmeZa",
        "colab": {
          "base_uri": "https://localhost:8080/"
        },
        "outputId": "1ba6dc41-7686-4518-f243-9faa131c792b"
      },
      "source": [
        "!elixir -e 'IO.inspect %{foo: \"bar\", hello: \"world\"} == %{:foo => \"bar\", :hello => \"world\"}'"
      ],
      "execution_count": null,
      "outputs": [
        {
          "output_type": "stream",
          "text": [
            "true\n"
          ],
          "name": "stdout"
        }
      ]
    },
    {
      "cell_type": "code",
      "metadata": {
        "id": "3qIWDH31ZxtW",
        "colab": {
          "base_uri": "https://localhost:8080/"
        },
        "outputId": "0b112a23-0366-4eaf-89f1-c7401d6fe9dc"
      },
      "source": [
        "# 加えて、アトムのキーにアクセスするための特別な構文がある。\n",
        "!elixir -e 'map = %{foo: \"bar\", hello: \"world\"}; IO.inspect map.hello'"
      ],
      "execution_count": null,
      "outputs": [
        {
          "output_type": "stream",
          "text": [
            "\"world\"\n"
          ],
          "name": "stdout"
        }
      ]
    },
    {
      "cell_type": "code",
      "metadata": {
        "id": "q9GkwzvFaPHo",
        "colab": {
          "base_uri": "https://localhost:8080/"
        },
        "outputId": "980a6289-2e87-4d45-bad8-c43271fafcb4"
      },
      "source": [
        "# マップの更新のための構文がある (新しい map が作成される)\n",
        "# この構文は、マップに既に存在するキーを更新する場合にのみ機能する\n",
        "!elixir -e 'map = %{foo: \"bar\", hello: \"world\"}; IO.inspect %{map | foo: \"baz\"}'"
      ],
      "execution_count": null,
      "outputs": [
        {
          "output_type": "stream",
          "text": [
            "%{foo: \"baz\", hello: \"world\"}\n"
          ],
          "name": "stdout"
        }
      ]
    },
    {
      "cell_type": "code",
      "metadata": {
        "colab": {
          "base_uri": "https://localhost:8080/"
        },
        "id": "cP3Im0X7qw1v",
        "outputId": "84d640c8-7a16-4262-8578-7f40a9b3aa20"
      },
      "source": [
        "# 新しいキーを作成するには、`Map.put/3` を使用\n",
        "!elixir -e 'map = %{hello: \"world\"}; IO.inspect  Map.put(map, :foo, \"baz\")'"
      ],
      "execution_count": null,
      "outputs": [
        {
          "output_type": "stream",
          "text": [
            "%{foo: \"baz\", hello: \"world\"}\n"
          ],
          "name": "stdout"
        }
      ]
    },
    {
      "cell_type": "markdown",
      "metadata": {
        "id": "eu5Wd8V0Smb7"
      },
      "source": [
        "# いまここ \n",
        "# バイナリ binary"
      ]
    },
    {
      "cell_type": "code",
      "metadata": {
        "id": "RTxXe7kkQVdb",
        "colab": {
          "base_uri": "https://localhost:8080/"
        },
        "outputId": "4fa31afe-9554-4897-8137-ef49b6abd857"
      },
      "source": [
        "# binaries\n",
        "!elixir -e 'IO.inspect <<1,2>>'\n",
        "!elixir -e 'IO.inspect <<1,10>>'\n",
        "!elixir -e 'bin = <<1,10>>; IO.inspect byte_size bin'\n",
        "!elixir -e 'bin = <<3::size(2),5::size(4),1::size(2)>>; IO.inspect bin'\n",
        "!elixir -e 'IO.puts Integer.to_string(213,2)'\n",
        "!elixir -e 'IO.puts 0b11'\n",
        "!elixir -e 'IO.puts 0b0101'\n",
        "!echo\n",
        "!elixir -e 'bin = <<3::size(2),5::size(4),1::size(2)>>; IO.inspect byte_size bin'\n",
        "!elixir -e 'bin = <<3::size(2),5::size(4),1::size(2)>>; IO.inspect :io.format(\"~-8.2b~n\",:binary.bin_to_list(bin))'"
      ],
      "execution_count": null,
      "outputs": [
        {
          "output_type": "stream",
          "text": [
            "<<1, 2>>\n",
            "<<1, 10>>\n",
            "2\n",
            "<<213>>\n",
            "11010101\n",
            "3\n",
            "5\n",
            "\n",
            "1\n",
            "11010101\n",
            ":ok\n"
          ],
          "name": "stdout"
        }
      ]
    },
    {
      "cell_type": "markdown",
      "metadata": {
        "id": "bwvkel2v_0ee"
      },
      "source": [
        "# Date and Time 日付"
      ]
    },
    {
      "cell_type": "code",
      "metadata": {
        "id": "31Hs1nDsABon",
        "colab": {
          "base_uri": "https://localhost:8080/"
        },
        "outputId": "a28c945c-43ed-4c7b-f7c8-2ffd34b69272"
      },
      "source": [
        "# Date and Time\n",
        "!elixir -e 'IO.inspect Date.new(2021,6,2)'"
      ],
      "execution_count": null,
      "outputs": [
        {
          "output_type": "stream",
          "text": [
            "{:ok, ~D[2021-06-02]}\n"
          ],
          "name": "stdout"
        }
      ]
    },
    {
      "cell_type": "code",
      "metadata": {
        "id": "BpD56DGELYWy",
        "colab": {
          "base_uri": "https://localhost:8080/"
        },
        "outputId": "8f86b634-68ae-4026-86d5-c7b569a36500"
      },
      "source": [
        "!elixir -e '{:ok, d1}=Date.new(2021,6,2); IO.inspect d1'\n",
        "!elixir -e '{:ok, d1}=Date.new(2021,6,2); IO.inspect Date.day_of_week(d1)'\n",
        "!elixir -e '{:ok, d1}=Date.new(2021,6,2); IO.inspect Date.add(d1,7)'\n",
        "!elixir -e '{:ok, d1}=Date.new(2021,6,2); IO.inspect d1, structs: false'"
      ],
      "execution_count": null,
      "outputs": [
        {
          "output_type": "stream",
          "text": [
            "~D[2021-06-02]\n",
            "3\n",
            "~D[2021-06-09]\n",
            "%{__struct__: Date, calendar: Calendar.ISO, day: 2, month: 6, year: 2021}\n"
          ],
          "name": "stdout"
        }
      ]
    },
    {
      "cell_type": "markdown",
      "metadata": {
        "id": "5Dz-2jFfWj8O"
      },
      "source": [
        "`~D[...]` や `~T[...]` は elixir の シギル sigil である。 文字列とバイナリーのところで説明する。"
      ]
    },
    {
      "cell_type": "code",
      "metadata": {
        "id": "aRqK0HqvMZJ2"
      },
      "source": [
        "# date は range に使える\n",
        "!"
      ],
      "execution_count": null,
      "outputs": []
    },
    {
      "cell_type": "markdown",
      "metadata": {
        "id": "g-s-BTlMuwSl"
      },
      "source": [
        "# help について\n",
        "メモ $\\quad$ 関数の調べ方\n",
        "\n",
        "Helper の使い方。 help, type, info, information とか。\n",
        "\n",
        "下のコードセルにあるように、対象のモジュールの関数名を調べ、そのヘルプを見ればけっこうくわしくわかる。\n",
        "\n",
        "コメントアウトしてあるのは出力が大きいので、とりあえずコメントアウトして出力を抑制してある。\n",
        "\n",
        "具体的には、Enum にあたるところにモジュール名を入れて関数のリストを出す。 Ctrl+A Ctrl+C でコピーして vscode などでペーストして読む。 調べたい関数名をヘルプの、Enum.all?/1 のところに入れて出力をコピーして、vscode などでペーストして読む\n"
      ]
    },
    {
      "cell_type": "code",
      "metadata": {
        "id": "RMwZZxhdSuJl"
      },
      "source": [
        "# !elixir -e 'Enum.__info__(:functions) |> Enum.each(fn({function, arity}) -> IO.puts \"#{function}/#{arity}\" end)'"
      ],
      "execution_count": null,
      "outputs": []
    },
    {
      "cell_type": "code",
      "metadata": {
        "id": "crcthqHyvaSN"
      },
      "source": [
        "# !elixir -e 'require IEx.Helpers;IEx.Helpers.h Enum.all?/1'"
      ],
      "execution_count": null,
      "outputs": []
    },
    {
      "cell_type": "code",
      "metadata": {
        "id": "ChuZDdiEigcH"
      },
      "source": [
        "# h 単独のドキュメントを見たい\n",
        "# !elixir -e 'require IEx.Helpers;IEx.Helpers.h'"
      ],
      "execution_count": null,
      "outputs": []
    },
    {
      "cell_type": "code",
      "metadata": {
        "id": "HbbVD-lVi-Du"
      },
      "source": [
        "# i というのもある\n",
        "# !elixir -e 'x = [3,2]; require IEx.Helpers;IEx.Helpers.i x'"
      ],
      "execution_count": null,
      "outputs": []
    },
    {
      "cell_type": "code",
      "metadata": {
        "id": "C4tVLXfYpbh_"
      },
      "source": [
        "# !elixir -e 'require IEx.Helpers;IEx.Helpers.h IO'"
      ],
      "execution_count": null,
      "outputs": []
    },
    {
      "cell_type": "code",
      "metadata": {
        "id": "93KRea97Ontw"
      },
      "source": [
        ""
      ],
      "execution_count": null,
      "outputs": []
    },
    {
      "cell_type": "markdown",
      "metadata": {
        "id": "v2CvxtY_rag8"
      },
      "source": [
        "# enum モジュール\n",
        "\n",
        "enum はリストなどコレクションを列挙するための一連のアルゴリズム。\n",
        "\n",
        "* all?、any?\n",
        "* chunk_every、chunk_by、map_every\n",
        "* each\n",
        "* map、filter、reduce\n",
        "* min、max\n",
        "* sort、uniq、uniq_by\n",
        "* キャプチャ演算子 `(&)`\n"
      ]
    },
    {
      "cell_type": "code",
      "metadata": {
        "id": "fRHdnhaDDdzn",
        "colab": {
          "base_uri": "https://localhost:8080/"
        },
        "outputId": "cf54b2a5-14c5-4146-d2f4-d4110efd1f9c"
      },
      "source": [
        "# all? 関数を引数で受け取り、リストの全体が true の時、true を返す\n",
        "!elixir -e 'IO.puts Enum.all?([\"foo\", \"bar\", \"hello\"], fn(s) -> String.length(s) == 3 end)'\n",
        "!elixir -e 'IO.puts Enum.all?([\"foo\", \"bar\", \"hello\"], fn(s) -> String.length(s) >1 end)'"
      ],
      "execution_count": null,
      "outputs": [
        {
          "output_type": "stream",
          "text": [
            "false\n",
            "true\n"
          ],
          "name": "stdout"
        }
      ]
    },
    {
      "cell_type": "code",
      "metadata": {
        "id": "Fr1YhaY2ECAE",
        "colab": {
          "base_uri": "https://localhost:8080/"
        },
        "outputId": "c5b5983f-2b5d-4098-c53e-90fb7c6a706a"
      },
      "source": [
        "# any? 少なくとも1つの要素が true と評価された場合に true を返す\n",
        "!elixir -e 'IO.puts Enum.any?([\"foo\", \"bar\", \"hello\"], fn(s) -> String.length(s) == 5 end)'"
      ],
      "execution_count": null,
      "outputs": [
        {
          "output_type": "stream",
          "text": [
            "true\n"
          ],
          "name": "stdout"
        }
      ]
    },
    {
      "cell_type": "code",
      "metadata": {
        "id": "ltdysP5SFOM1",
        "colab": {
          "base_uri": "https://localhost:8080/"
        },
        "outputId": "1a00597a-33cd-466e-98a3-a48126c88f28"
      },
      "source": [
        "# chunk_every リストを小さなグループに分割する\n",
        "!elixir -e 'IO.inspect Enum.chunk([1, 2, 3, 4, 5, 6], 2)'\n",
        "!elixir -e 'IO.inspect Enum.chunk([1, 2, 3, 4, 5, 6], 3)'\n",
        "!elixir -e 'IO.inspect Enum.chunk([1, 2, 3, 4, 5, 6], 4)'"
      ],
      "execution_count": null,
      "outputs": [
        {
          "output_type": "stream",
          "text": [
            "[[1, 2], [3, 4], [5, 6]]\n",
            "[[1, 2, 3], [4, 5, 6]]\n",
            "[[1, 2, 3, 4]]\n"
          ],
          "name": "stdout"
        }
      ]
    },
    {
      "cell_type": "code",
      "metadata": {
        "id": "myy_9FgVGpeA",
        "colab": {
          "base_uri": "https://localhost:8080/"
        },
        "outputId": "d8b0da14-c9f5-4c75-ff44-7636799ed2d6"
      },
      "source": [
        "# chunk_by 関数の戻り値が変化することによって分割する\n",
        "!elixir -e 'IO.inspect Enum.chunk_by([\"one\", \"two\", \"three\", \"four\", \"five\"], fn(x) -> String.length(x) end)'\n",
        "!elixir -e 'IO.inspect Enum.chunk_by([\"one\", \"two\", \"three\", \"four\", \"five\", \"six\"], fn(x) -> String.length(x) end)'"
      ],
      "execution_count": null,
      "outputs": [
        {
          "output_type": "stream",
          "text": [
            "[[\"one\", \"two\"], [\"three\"], [\"four\", \"five\"]]\n",
            "[[\"one\", \"two\"], [\"three\"], [\"four\", \"five\"], [\"six\"]]\n"
          ],
          "name": "stdout"
        }
      ]
    },
    {
      "cell_type": "code",
      "metadata": {
        "id": "gbEbNAbmUFHE",
        "colab": {
          "base_uri": "https://localhost:8080/"
        },
        "outputId": "0e28d3a6-b558-40c3-dc9a-62797161efe3"
      },
      "source": [
        "# map_every nth ごとに map 処理する\n",
        "!elixir -e 'IO.inspect Enum.map_every(1..10, 3, fn x -> x + 1000 end)'\n",
        "!elixir -e 'IO.inspect Enum.map_every(1..10, 1, fn x -> x + 1000 end)'\n",
        "!elixir -e 'IO.inspect Enum.map_every(1..10, 0, fn x -> x + 1000 end)'"
      ],
      "execution_count": null,
      "outputs": [
        {
          "output_type": "stream",
          "text": [
            "[1001, 2, 3, 1004, 5, 6, 1007, 8, 9, 1010]\n",
            "[1001, 1002, 1003, 1004, 1005, 1006, 1007, 1008, 1009, 1010]\n",
            "[1, 2, 3, 4, 5, 6, 7, 8, 9, 10]\n"
          ],
          "name": "stdout"
        }
      ]
    },
    {
      "cell_type": "code",
      "metadata": {
        "colab": {
          "base_uri": "https://localhost:8080/"
        },
        "id": "yn6ucqU9gVW1",
        "outputId": "601d14bf-5043-4889-ce54-6d1a02da2a2c"
      },
      "source": [
        "# each 新しい値を生成することなく反復する。返り値は:ok というアトム。\n",
        "!elixir -e 'IO.inspect Enum.each([\"one\", \"two\", \"three\"], fn(s) -> IO.puts(s) end)'\n",
        "!elixir -e 'IO.puts Enum.each([\"one\", \"two\", \"three\"], fn(s) -> IO.puts(s) end)'"
      ],
      "execution_count": null,
      "outputs": [
        {
          "output_type": "stream",
          "text": [
            "one\n",
            "two\n",
            "three\n",
            ":ok\n"
          ],
          "name": "stdout"
        }
      ]
    },
    {
      "cell_type": "code",
      "metadata": {
        "colab": {
          "base_uri": "https://localhost:8080/"
        },
        "id": "wzRwKv_imULW",
        "outputId": "b5a2fd71-b970-459d-b7d8-ebe22c7fa501"
      },
      "source": [
        "# map 関数を各要素に適用して新しいリストを生み出す\n",
        "!elixir -e 'IO.inspect Enum.map([0, 1, 2, 3], fn(x) -> x - 1 end)'"
      ],
      "execution_count": null,
      "outputs": [
        {
          "output_type": "stream",
          "text": [
            "[-1, 0, 1, 2]\n"
          ],
          "name": "stdout"
        }
      ]
    },
    {
      "cell_type": "code",
      "metadata": {
        "colab": {
          "base_uri": "https://localhost:8080/"
        },
        "id": "85q0m8_ZmyyQ",
        "outputId": "bdf70f32-c114-462b-f396-951f1549b4fb"
      },
      "source": [
        "# min 最小の値を探す。 リストが空の場合エラーになる\n",
        "# リストが空だったときのために予め最衣装血を生成する関数を渡すことができる\n",
        "!elixir -e 'IO.inspect Enum.min([5, 3, 0, -1])'\n",
        "!elixir -e 'IO.inspect Enum.min([], fn -> :foo end)'"
      ],
      "execution_count": null,
      "outputs": [
        {
          "output_type": "stream",
          "text": [
            "-1\n",
            ":foo\n"
          ],
          "name": "stdout"
        }
      ]
    },
    {
      "cell_type": "code",
      "metadata": {
        "colab": {
          "base_uri": "https://localhost:8080/"
        },
        "id": "F2Wx1evnnUWB",
        "outputId": "dd19d081-838f-4077-a7dc-00ef14eec9f3"
      },
      "source": [
        "# max 最大の(max/1)値を返す\n",
        "!elixir -e 'IO.inspect Enum.max([5, 3, 0, -1])'\n",
        "!elixir -e 'IO.inspect Enum.max([], fn -> :bar end)'"
      ],
      "execution_count": null,
      "outputs": [
        {
          "output_type": "stream",
          "text": [
            "5\n",
            ":bar\n"
          ],
          "name": "stdout"
        }
      ]
    },
    {
      "cell_type": "code",
      "metadata": {
        "colab": {
          "base_uri": "https://localhost:8080/"
        },
        "id": "LMRdRxOso7pU",
        "outputId": "daac690a-544a-48bc-927b-288fc3804ccb"
      },
      "source": [
        "# filter 与えられた関数によって true と評価された要素だけを得る\n",
        "!elixir -e 'IO.inspect Enum.filter([1, 2, 3, 4], fn(x) -> rem(x, 2) == 0 end)'\n",
        "!elixir -e 'IO.inspect Enum.filter([], fn(x) -> rem(x, 2) == 0 end)'"
      ],
      "execution_count": null,
      "outputs": [
        {
          "output_type": "stream",
          "text": [
            "[2, 4]\n",
            "[]\n"
          ],
          "name": "stdout"
        }
      ]
    },
    {
      "cell_type": "code",
      "metadata": {
        "colab": {
          "base_uri": "https://localhost:8080/"
        },
        "id": "XKKtE4wOpvBi",
        "outputId": "4f6abd08-4b82-4ab8-b76b-2fa596d96cc7"
      },
      "source": [
        "# reduce リストを関数に従って単一の値へ抽出すうる。 accumulator を指定できる。\n",
        "# accumulator が与えられない場合は最初の要素が用いられる。\n",
        "!elixir -e 'IO.inspect Enum.reduce([1, 2, 3], 10, fn(x, acc) -> x + acc end)'\n",
        "!elixir -e 'IO.inspect Enum.reduce([1, 2, 3], fn(x, acc) -> x + acc end)'\n",
        "!elixir -e 'IO.inspect Enum.reduce([\"a\",\"b\",\"c\"], \"1\", fn(x,acc)-> x <> acc end)'"
      ],
      "execution_count": null,
      "outputs": [
        {
          "output_type": "stream",
          "text": [
            "16\n",
            "6\n",
            "\"cba1\"\n"
          ],
          "name": "stdout"
        }
      ]
    },
    {
      "cell_type": "code",
      "metadata": {
        "colab": {
          "base_uri": "https://localhost:8080/"
        },
        "id": "KcZHo75X0t94",
        "outputId": "0ee9b8ff-7a2c-4311-c09c-f86f7e6b972e"
      },
      "source": [
        "# sort `sort/1` はソートの順序に Erlangの Term 優先順位 を使う\n",
        "!elixir -e 'IO.inspect Enum.sort([5, 6, 1, 3, -1, 4])'\n",
        "!elixir -e 'IO.inspect Enum.sort([:foo, \"bar\", Enum, -1, 4])'\n",
        "\n",
        "# `sort/2` は、順序を決める為の関数を渡すことができる\n",
        "!elixir -e 'IO.inspect Enum.sort([%{:val => 4}, %{:val => 1}], fn(x, y) -> x[:val] > y[:val] end)'\n",
        "\n",
        "# なしの場合\n",
        "!elixir -e 'IO.inspect Enum.sort([%{:count => 4}, %{:count => 1}])'\n",
        "\n",
        "# sort/2 に :asc または :desc をソート関数として渡すことができる\n",
        "!elixir -e 'IO.inspect Enum.sort([2, 3, 1], :desc)'\n"
      ],
      "execution_count": null,
      "outputs": [
        {
          "output_type": "stream",
          "text": [
            "[-1, 1, 3, 4, 5, 6]\n",
            "[-1, 4, Enum, :foo, \"bar\"]\n",
            "[%{val: 4}, %{val: 1}]\n",
            "[%{count: 1}, %{count: 4}]\n",
            "[3, 2, 1]\n"
          ],
          "name": "stdout"
        }
      ]
    },
    {
      "cell_type": "code",
      "metadata": {
        "id": "Ajs77q8e14f4",
        "colab": {
          "base_uri": "https://localhost:8080/"
        },
        "outputId": "de33dc6f-b9ac-4d60-be9c-ae4bf93977ed"
      },
      "source": [
        "# uniq 重複した要素を取り除く\n",
        "!elixir -e 'IO.inspect Enum.uniq([1, 2, 3, 2, 1, 1, 1, 1, 1])'\n",
        "[1, 2, 3]\n",
        "\n",
        "# uniq_by 重複した要素を削除するが、ユニークかどうか比較を行う関数を渡せる\n",
        "!elixir -e 'IO.inspect Enum.uniq_by([%{x: 1, y: 1}, %{x: 2, y: 1}, %{x: 3, y: 3}], fn coord -> coord.y end)'"
      ],
      "execution_count": null,
      "outputs": [
        {
          "output_type": "stream",
          "text": [
            "[1, 2, 3]\n",
            "[%{x: 1, y: 1}, %{x: 3, y: 3}]\n"
          ],
          "name": "stdout"
        }
      ]
    },
    {
      "cell_type": "markdown",
      "metadata": {
        "id": "e5qxCiaH6Bps"
      },
      "source": [
        "# キャプチャ演算子 `&` を使用した enum と無名関数 \n",
        "\n",
        "elixir の enum モジュール内の多くの関数は、引数として無名関数を取る。\n",
        "\n",
        "これらの無名関数は、多くの場合、キャプチャ演算子 `&` を使用して省略形で記述される。\n",
        "\n"
      ]
    },
    {
      "cell_type": "code",
      "metadata": {
        "id": "1c-WGlISZ1fo",
        "colab": {
          "base_uri": "https://localhost:8080/"
        },
        "outputId": "61088b3d-f774-45df-efa0-54626dbcb3fa"
      },
      "source": [
        "# 無名関数でのキャプチャ演算子の使用 \n",
        "!elixir -e 'IO.inspect Enum.map([1,2,3], fn number -> number + 3 end)'\n",
        "!elixir -e 'IO.inspect Enum.map([1,2,3], &(&1 + 3))'\n",
        "!elixir -e 'plus_three = &(&1 + 3);IO.inspect Enum.map([1,2,3], plus_three)'"
      ],
      "execution_count": null,
      "outputs": [
        {
          "output_type": "stream",
          "text": [
            "[4, 5, 6]\n",
            "[4, 5, 6]\n",
            "[4, 5, 6]\n"
          ],
          "name": "stdout"
        }
      ]
    },
    {
      "cell_type": "markdown",
      "metadata": {
        "id": "HhMGJ2HzdAPn"
      },
      "source": [
        "---\n",
        "# パターンマッチング\n",
        "\n",
        "パターンマッチングでは、値、データ構造、関数をマッチすることができる。\n",
        "\n",
        "* マッチ演算子\n",
        "* ピン演算子"
      ]
    },
    {
      "cell_type": "code",
      "metadata": {
        "colab": {
          "base_uri": "https://localhost:8080/"
        },
        "id": "6oVfGSzCdX2-",
        "outputId": "ff4ca919-c6ab-4063-9074-79c57f64059e"
      },
      "source": [
        "# マッチ演算子 `=` はマッチ演算子である。 マッチ演算子を通して値を代入し、\n",
        "# その後、マッチさせることができる。マッチすると、方程式の結果が返され、\n",
        "# 失敗すると、エラーになる\n",
        "!elixir -e 'IO.puts x = 1'\n",
        "!elixir -e 'x = 1;IO.puts 1 = x'\n",
        "# !elixir -e 'x = 1;IO.puts 2 = x'\n",
        "#=> (MatchError) no match of right hand side value: 1"
      ],
      "execution_count": null,
      "outputs": [
        {
          "output_type": "stream",
          "text": [
            "1\n",
            "1\n"
          ],
          "name": "stdout"
        }
      ]
    },
    {
      "cell_type": "code",
      "metadata": {
        "colab": {
          "base_uri": "https://localhost:8080/"
        },
        "id": "V_S_BGxmeX-4",
        "outputId": "5c48ee1c-a2d0-4c10-882d-98ed5bfd39bc"
      },
      "source": [
        "# リストでのマッチ演算子\n",
        "!elixir -e 'IO.inspect list = [1, 2, 3]'\n",
        "!elixir -e 'list = [1, 2, 3]; IO.inspect [1, 2, 3] = list'\n",
        "# !elixir -e 'list = [1, 2, 3]; IO.inspect [] = list'\n",
        "#=> (MatchError) no match of right hand side value: [1, 2, 3]"
      ],
      "execution_count": null,
      "outputs": [
        {
          "output_type": "stream",
          "text": [
            "[1, 2, 3]\n",
            "[1, 2, 3]\n"
          ],
          "name": "stdout"
        }
      ]
    },
    {
      "cell_type": "code",
      "metadata": {
        "colab": {
          "base_uri": "https://localhost:8080/"
        },
        "id": "JGD6GcMsGG7n",
        "outputId": "5e24a243-c726-45bd-a070-835c476619c1"
      },
      "source": [
        "!elixir -e 'list = [1, 2, 3]; IO.inspect [1 | tail] = list'\n",
        "!elixir -e 'list = [1, 2, 3];  [1 | tail] = list; IO.inspect tail'"
      ],
      "execution_count": null,
      "outputs": [
        {
          "output_type": "stream",
          "text": [
            "[1, 2, 3]\n",
            "[2, 3]\n"
          ],
          "name": "stdout"
        }
      ]
    },
    {
      "cell_type": "code",
      "metadata": {
        "colab": {
          "base_uri": "https://localhost:8080/"
        },
        "id": "FAI9EHeUGviK",
        "outputId": "7ad435a4-9c8d-40c0-afc6-a4c099994135"
      },
      "source": [
        "# タプルとマッチ演算子\n",
        "!elixir -e 'IO.inspect {:ok, value} = {:ok, \"Successful!\"}'\n",
        "!elixir -e '{:ok, value} = {:ok, \"Successful!\"}; IO.inspect  value'"
      ],
      "execution_count": null,
      "outputs": [
        {
          "output_type": "stream",
          "text": [
            "{:ok, \"Successful!\"}\n",
            "\"Successful!\"\n",
            ":ok\n"
          ],
          "name": "stdout"
        }
      ]
    },
    {
      "cell_type": "markdown",
      "metadata": {
        "id": "niw-oNFPHc8u"
      },
      "source": [
        "# ピン演算子\n",
        "\n",
        "マッチ演算子は左辺に変数が含まれている時に代入操作を行う。 \n",
        "\n",
        "この変数を再び束縛するという挙動は望ましくない場合がある。 そうした状況のために、ピン演算子 `^` がある。\n",
        "\n",
        "ピン演算子で変数を固定すると、新しく再束縛するのではなく既存の値とマッチする。\n"
      ]
    },
    {
      "cell_type": "code",
      "metadata": {
        "colab": {
          "base_uri": "https://localhost:8080/"
        },
        "id": "LwiOOT1LIEwW",
        "outputId": "3f137a15-8287-40d4-e1bf-228179a8cabf"
      },
      "source": [
        "# ピン演算子\n",
        "!elixir -e 'IO.inspect x = 1'\n",
        "# !elixir -e 'x = 1; IO.inspect ^x = 2'\n",
        "#=> ** (MatchError) no match of right hand side value: 2\n",
        "!elixir -e 'x = 1; IO.inspect {x, ^x} = {2, 1}'\n",
        "!elixir -e 'x = 1;{x, ^x} = {2, 1}; IO.inspect x'\n",
        "!echo\n",
        "!elixir -e 'IO.inspect key = \"hello\"'\n",
        "!elixir -e 'key = \"hello\"; IO.inspect %{^key => value} = %{\"hello\" => \"world\"}'\n",
        "!elixir -e 'key = \"hello\"; IO.inspect %{^key => value} = %{\"hello\" => \"world\"}'\n",
        "!elixir -e 'key = \"hello\"; %{^key => value} = %{\"hello\" => \"world\"}; IO.inspect value'"
      ],
      "execution_count": null,
      "outputs": [
        {
          "output_type": "stream",
          "text": [
            "1\n",
            "{2, 1}\n",
            "2\n",
            "\n",
            "\"hello\"\n",
            "%{\"hello\" => \"world\"}\n",
            "%{\"hello\" => \"world\"}\n",
            "\"world\"\n"
          ],
          "name": "stdout"
        }
      ]
    },
    {
      "cell_type": "code",
      "metadata": {
        "colab": {
          "base_uri": "https://localhost:8080/"
        },
        "id": "GwNu1JTePo1J",
        "outputId": "f11ec9e7-ec51-4c11-b5a2-f2bad5669449"
      },
      "source": [
        "# 関数の clause でのピン演算子\n",
        "!elixir -e 'IO.inspect greeting = \"Hello\"'\n",
        "!elixir -e 'greeting = \"Hello\"; IO.inspect greet = fn (^greeting, name) -> \"Hi #{name}\"; (greeting, name) -> \"${greeting},${name}\" end'\n",
        "!elixir -e 'greeting = \"Hello\"; greet = fn (^greeting, name) -> \"Hi #{name}\"; (greeting, name) -> \"#{greeting},#{name}\" end; IO.inspect greet.(\"Hello\",\"Sean\")'\n",
        "!elixir -e 'greeting = \"Hello\"; greet = fn (^greeting, name) -> \"Hi #{name}\"; (greeting, name) -> \"#{greeting},#{name}\" end; IO.inspect greet.(\"Mornin\",\"Sean\")'"
      ],
      "execution_count": null,
      "outputs": [
        {
          "output_type": "stream",
          "text": [
            "\"Hello\"\n",
            "#Function<12.99386804/2 in :erl_eval.expr/5>\n",
            "\"Hi Sean\"\n",
            "\"Mornin,Sean\"\n"
          ],
          "name": "stdout"
        }
      ]
    },
    {
      "cell_type": "markdown",
      "metadata": {
        "id": "F0vzrD-YSRiO"
      },
      "source": [
        "# いまここ"
      ]
    },
    {
      "cell_type": "markdown",
      "metadata": {
        "id": "ApkBxRTzSJuh"
      },
      "source": [
        "# 制御構造 control structure\n",
        "\n",
        "* if と unless\n",
        "* case\n",
        "* cond\n",
        "* with"
      ]
    },
    {
      "cell_type": "markdown",
      "metadata": {
        "id": "Uutvm8_BUOTu"
      },
      "source": [
        "if と unless \n",
        "\n",
        "elixir の if と unless は ruby と同じ。\n",
        "\n",
        "elixir は if と unless はマクロとして定義されている。\n",
        "\n",
        "この実装は kernel module で知ることができる。\n",
        "\n",
        "elixir では偽とみなされる値は nil と真理値の false だけだということに留意。"
      ]
    },
    {
      "cell_type": "code",
      "metadata": {
        "id": "Z43eR8Muc03m"
      },
      "source": [
        "iex> if String.valid?(\"Hello\") do\n",
        "...>   \"Valid string!\"\n",
        "...> else\n",
        "...>   \"Invalid string.\"\n",
        "...> end\n",
        "\"Valid string!\"\n",
        "\n",
        "iex> if \"a string value\" do\n",
        "...>   \"Truthy\"\n",
        "...> end\n",
        "\"Truthy\"\n",
        "unless/2 は if/2 のように使いますが、条件が否定される時だけ作用します:\n",
        "\n",
        "Copy\n",
        "iex> unless is_integer(\"hello\") do\n",
        "...>   \"Not an Int\"\n",
        "...> end\n",
        "\"Not an Int\"\n",
        "case \n",
        "複数のパターンに対してマッチする必要があるなら、 case/2 を使うことができます:\n",
        "\n",
        "Copy\n",
        "iex> case {:ok, \"Hello World\"} do\n",
        "...>   {:ok, result} -> result\n",
        "...>   {:error} -> \"Uh oh!\"\n",
        "...>   _ -> \"Catch all\"\n",
        "...> end\n",
        "\"Hello World\"\n",
        "_ 変数は case/2 命令文の中に含まれる重要な要素です。これが無いと、マッチするものが見あたらない場合にエラーが発生します:\n",
        "\n",
        "Copy\n",
        "iex> case :even do\n",
        "...>   :odd -> \"Odd\"\n",
        "...> end\n",
        "** (CaseClauseError) no case clause matching: :even\n",
        "\n",
        "iex> case :even do\n",
        "...>   :odd -> \"Odd\"\n",
        "...>   _ -> \"Not Odd\"\n",
        "...> end\n",
        "\"Not Odd\"\n",
        "_ を”他の全て”にマッチする else と考えましょう。\n",
        "\n",
        "case/2 はパターンマッチングに依存しているため、パターンマッチングと同じルールや制限が全て適用されます。既存の変数に対してマッチさせようという場合にはピン ^ 演算子を使わなくてはいけません:\n",
        "\n",
        "Copy\n",
        "iex> pie = 3.14\n",
        "3.14\n",
        "iex> case \"cherry pie\" do\n",
        "...>   ^pie -> \"Not so tasty\"\n",
        "...>   pie -> \"I bet #{pie} is tasty\"\n",
        "...> end\n",
        "\"I bet cherry pie is tasty\"\n",
        "case/2 のもう1つの素晴らしい特徴として、ガード節に対応していることがあげられます:\n",
        "\n",
        "この例は公式のElixirのGetting Startedガイドから直接持ってきています。\n",
        "\n",
        "Copy\n",
        "iex> case {1, 2, 3} do\n",
        "...>   {1, x, 3} when x > 0 ->\n",
        "...>     \"Will match\"\n",
        "...>   _ ->\n",
        "...>     \"Won't match\"\n",
        "...> end\n",
        "\"Will match\"\n",
        "公式ドキュメントからExpressions allowed in guard clausesを読んでみてください。\n",
        "\n",
        "cond \n",
        "値ではなく、条件をマッチさせる必要がある時には、 cond/1 を使うことができます。これは他の言語でいうところの else if や elsif のようなものです:\n",
        "\n",
        "この例は公式のElixirのGetting Startedガイドから直接持ってきています。\n",
        "\n",
        "Copy\n",
        "iex> cond do\n",
        "...>   2 + 2 == 5 ->\n",
        "...>     \"This will not be true\"\n",
        "...>   2 * 2 == 3 ->\n",
        "...>     \"Nor this\"\n",
        "...>   1 + 1 == 2 ->\n",
        "...>     \"But this will\"\n",
        "...> end\n",
        "\"But this will\"\n",
        "case のように、 cond はマッチしない場合にエラーを発生させます。これに対処するには、 true になる条件を定義すればよいです:\n",
        "\n",
        "Copy\n",
        "iex> cond do\n",
        "...>   7 + 1 == 0 -> \"Incorrect\"\n",
        "...>   true -> \"Catch all\"\n",
        "...> end\n",
        "\"Catch all\"\n",
        "with \n",
        "特殊形式の with/1 はネストされた case/2 文を使うような時やきれいにパイプできない状況に便利です。 with/1 式はキーワード, ジェネレータ, そして式から成り立っています。\n",
        "\n",
        "ジェネレータについてはリスト内包表記のレッスンでより詳しく述べますが、今は <- の右側と左側を比べるのにパターンマッチングが使われることを知っておくだけでよいです。\n",
        "\n",
        "with/1 の簡単な例から始め、その後さらなる例を見てみましょう:\n",
        "\n",
        "Copy\n",
        "iex> user = %{first: \"Sean\", last: \"Callan\"}\n",
        "%{first: \"Sean\", last: \"Callan\"}\n",
        "iex> with {:ok, first} <- Map.fetch(user, :first),\n",
        "...>      {:ok, last} <- Map.fetch(user, :last),\n",
        "...>      do: last <> \", \" <> first\n",
        "\"Callan, Sean\"\n",
        "式がマッチに失敗した場合はマッチしない値が返されます:\n",
        "\n",
        "Copy\n",
        "iex> user = %{first: \"doomspork\"}\n",
        "%{first: \"doomspork\"}\n",
        "iex> with {:ok, first} <- Map.fetch(user, :first),\n",
        "...>      {:ok, last} <- Map.fetch(user, :last),\n",
        "...>      do: last <> \", \" <> first\n",
        ":error\n",
        "それでは、 with/1 を使わない長めの例と、それをどのようにリファクタリングできるかを見てみましょう:\n",
        "\n",
        "Copy\n",
        "case Repo.insert(changeset) do\n",
        "  {:ok, user} ->\n",
        "    case Guardian.encode_and_sign(user, :token, claims) do\n",
        "      {:ok, jwt, full_claims} ->\n",
        "        important_stuff(jwt, full_claims)\n",
        "\n",
        "      error ->\n",
        "        error\n",
        "    end\n",
        "\n",
        "  error ->\n",
        "    error\n",
        "end\n",
        "with/1 を導入するとコードが短く、わかりやすくなります:\n",
        "\n",
        "Copy\n",
        "with {:ok, user} <- Repo.insert(changeset),\n",
        "     {:ok, jwt, full_claims} <- Guardian.encode_and_sign(user, :token, claims),\n",
        "     do: important_stuff(jwt, full_claims)\n",
        "Elixir 1.3からは with/1 で else を使えます:\n",
        "\n",
        "Copy\n",
        "import Integer\n",
        "\n",
        "m = %{a: 1, c: 3}\n",
        "\n",
        "a =\n",
        "  with {:ok, number} <- Map.fetch(m, :a),\n",
        "    true <- is_even(number) do\n",
        "      IO.puts \"#{number} divided by 2 is #{div(number, 2)}\"\n",
        "      :even\n",
        "  else\n",
        "    :error ->\n",
        "      IO.puts(\"We don't have this item in map\")\n",
        "      :error\n",
        "\n",
        "    _ ->\n",
        "      IO.puts(\"It is odd\")\n",
        "      :odd\n",
        "  end\n",
        "これは case のようなパターンマッチングを提供することで、エラーを扱いやすくします。渡されるのはマッチングに失敗した最初の表現式の値です。\n",
        "\n",
        "Caught a mistake or want to contribute to the lesson? Edit this page on GitHub!\n",
        "← パターンマッチング\n",
        "関数 →\n",
        "bg bn de en es fr gr id it ja ko ms no pl pt ru sk ta th tr uk vi zh-hans zh-hant\n",
        "Elixir 1.10.1 - Erlang/OTP 22.0 [erts-10.5.3]\n",
        "Menu\n",
        "プログラミング言語Elixirのレッスン\n",
        "© 2021 Sean Callan All rights reserved.\n",
        "\n",
        "Toggle"
      ],
      "execution_count": null,
      "outputs": []
    }
  ]
}