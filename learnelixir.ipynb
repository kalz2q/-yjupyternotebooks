{
  "nbformat": 4,
  "nbformat_minor": 0,
  "metadata": {
    "colab": {
      "name": "learnelixir.ipynb",
      "provenance": [],
      "toc_visible": true,
      "authorship_tag": "ABX9TyPQ/vcYFo48a7uOMA4LlRcn",
      "include_colab_link": true
    },
    "kernelspec": {
      "name": "python3",
      "display_name": "Python 3"
    },
    "language_info": {
      "name": "python"
    }
  },
  "cells": [
    {
      "cell_type": "markdown",
      "metadata": {
        "id": "view-in-github",
        "colab_type": "text"
      },
      "source": [
        "<a href=\"https://colab.research.google.com/github/kalz2q/mycolabnotebooks/blob/master/learnelixir.ipynb\" target=\"_parent\"><img src=\"https://colab.research.google.com/assets/colab-badge.svg\" alt=\"Open In Colab\"/></a>"
      ]
    },
    {
      "cell_type": "markdown",
      "metadata": {
        "id": "RfpoUurcVnZv"
      },
      "source": [
        "# メモ\n",
        "\n",
        "elixir を齧る。かじる。\n",
        "\n",
        "今のイメージ erlang 上で、erlang は 並行処理のためのシステムで、その erlang 上で理想的な言語を作ろうとしたら、ruby + clojure みたいな言語になった。\n",
        "\n",
        "Dave Thomas と まつもとゆきひろ が勧めているのだからいい言語なのだろう。\n"
      ]
    },
    {
      "cell_type": "markdown",
      "metadata": {
        "id": "kEf4GSz_Vva4"
      },
      "source": [
        "* https://elixirschool.com/ja/lessons/basics/control-structures/\n",
        "* https://magazine.rubyist.net/articles/0054/0054-ElixirBook.html"
      ]
    },
    {
      "cell_type": "code",
      "metadata": {
        "id": "THvpbkjdWs0Q"
      },
      "source": [
        "%%capture\n",
        "!wget https://packages.erlang-solutions.com/erlang-solutions_2.0_all.deb && sudo dpkg -i erlang-solutions_2.0_all.deb\n",
        "!sudo apt update\n",
        "!sudo apt install elixir"
      ],
      "execution_count": null,
      "outputs": []
    },
    {
      "cell_type": "code",
      "metadata": {
        "id": "6FkejEE2crA5"
      },
      "source": [
        "!elixir -v"
      ],
      "execution_count": null,
      "outputs": []
    },
    {
      "cell_type": "markdown",
      "metadata": {
        "id": "IpYclRqgcttK"
      },
      "source": [
        "メモ\n",
        "\n",
        "`!elixir -h` としたら ワンライナー `elixir -e` が使えるらしいことがわかった。\n",
        "\n",
        "`iex` というのがインタラクティブ環境なのだが、colab では使いにくいのでとりあえず使わない。"
      ]
    },
    {
      "cell_type": "code",
      "metadata": {
        "id": "S_s89E37Xroq",
        "colab": {
          "base_uri": "https://localhost:8080/"
        },
        "outputId": "16bb726b-2ebc-4bfc-c06a-c995031adff7"
      },
      "source": [
        "!elixir -e 'IO.puts 3 + 3'\n",
        "!elixir -e 'IO.puts \"hello world!\"'"
      ],
      "execution_count": null,
      "outputs": [
        {
          "output_type": "stream",
          "text": [
            "6\n",
            "hello world!\n"
          ],
          "name": "stdout"
        }
      ]
    },
    {
      "cell_type": "code",
      "metadata": {
        "colab": {
          "base_uri": "https://localhost:8080/"
        },
        "id": "RYCKapxtdtco",
        "outputId": "d4e4151e-35c1-486d-99a1-32335e538f95"
      },
      "source": [
        "%%writefile temp.exs\n",
        "IO.puts \"this is a pen.\""
      ],
      "execution_count": null,
      "outputs": [
        {
          "output_type": "stream",
          "text": [
            "Writing temp.exs\n"
          ],
          "name": "stdout"
        }
      ]
    },
    {
      "cell_type": "code",
      "metadata": {
        "colab": {
          "base_uri": "https://localhost:8080/"
        },
        "id": "06mP6Jy_d505",
        "outputId": "96eeaaee-0931-4378-f9c3-6f02582ca08c"
      },
      "source": [
        "!elixir temp.exs"
      ],
      "execution_count": null,
      "outputs": [
        {
          "output_type": "stream",
          "text": [
            "this is a pen.\n"
          ],
          "name": "stdout"
        }
      ]
    },
    {
      "cell_type": "markdown",
      "metadata": {
        "id": "7NE03KtbjVDc"
      },
      "source": [
        "ネットで紹介されていた次のコードセルのコードはどうやって実行するのだろう。\n",
        "\n",
        "説明:\n",
        "\n",
        "このプログラムでは、Parallel というモジュールに pmap という関数を定義しています。 pmap は、与えられたコレクションに対して map（Ruby での Enumerable#map と同じようなものと考えて下さい）を行なうのですが、 各要素の処理を、要素数の分だけプロセスを生成し、各プロセスで並行に実行する、というものです。 ちょっと見ても、よくわからないような気がしますが、大丈夫、本書を読めば、わかるようになります。\n",
        "\n",
        "とのこと。"
      ]
    },
    {
      "cell_type": "code",
      "metadata": {
        "id": "_OFyxKshdQ2W"
      },
      "source": [
        "%%writefile temp.exs\n",
        "defmodule Parallel do\n",
        "  def pmap(collection, func) do\n",
        "    collection\n",
        "    |> Enum.map(&(Task.async(fn -> func.(&1) end)))\n",
        "    |> Enum.map(&Task.await/1)\n",
        "  end\n",
        "end"
      ],
      "execution_count": null,
      "outputs": []
    },
    {
      "cell_type": "markdown",
      "metadata": {
        "id": "jbgpkxtYpARC"
      },
      "source": [
        "次のもネットで紹介されていた例で、ハローワールド並行処理版\n"
      ]
    },
    {
      "cell_type": "code",
      "metadata": {
        "colab": {
          "base_uri": "https://localhost:8080/"
        },
        "id": "Kg0J7hd8pHXP",
        "outputId": "7a2641ca-fe3d-4c4c-8560-c6644a74bba1"
      },
      "source": [
        "%%writefile temp.exs\n",
        "parent = self()\n",
        " \n",
        "spawn_link(fn ->\n",
        "  send parent, {:msg, \"hello world\"}\n",
        "end)\n",
        " \n",
        "receive do\n",
        "  {:msg, contents} -> IO.puts contents\n",
        "end"
      ],
      "execution_count": 49,
      "outputs": [
        {
          "output_type": "stream",
          "text": [
            "Writing temp.exs\n"
          ],
          "name": "stdout"
        }
      ]
    },
    {
      "cell_type": "code",
      "metadata": {
        "colab": {
          "base_uri": "https://localhost:8080/"
        },
        "id": "XWmyBYpEpZ4n",
        "outputId": "939acc3b-4a87-4d1e-8ff1-4b7cb1990b1d"
      },
      "source": [
        "!elixir temp.exs"
      ],
      "execution_count": 50,
      "outputs": [
        {
          "output_type": "stream",
          "text": [
            "hello world\n"
          ],
          "name": "stdout"
        }
      ]
    },
    {
      "cell_type": "markdown",
      "metadata": {
        "id": "z6EdDr20r5q8"
      },
      "source": [
        "上の例でやっていることはつぎのような流れである。\n",
        "\n",
        "1. spawn_linkという関数に渡された関数が、関数の内容を実行する。\n",
        "2. 新しく作られたプロセス側では、メインプロセス側（parent）に “hello world” というメッセージを送る。\n",
        "3. メインプロセス側は、どこからかメッセージが来ないかを待ち受けて（receive）、メッセージが来たらそれをコンソールに表示する。"
      ]
    },
    {
      "cell_type": "code",
      "metadata": {
        "id": "gXbF4HnE1jnt",
        "outputId": "5a4af229-255e-40cf-f1c7-e84e251ec0e2",
        "colab": {
          "base_uri": "https://localhost:8080/"
        }
      },
      "source": [
        "%%writefile chain.exs\n",
        "defmodule Chain do\n",
        "  def counter(next_pid) do\n",
        "    receive do\n",
        "      n -> send next_pid, n + 1\n",
        "    end\n",
        "  end\n",
        " \n",
        "  def create_processes(n) do\n",
        "    last = Enum.reduce 1..n, self(),\n",
        "      fn (_, send_to) -> spawn(Chain, :counter, [send_to]) end\n",
        "    send last, 0\n",
        "    receive do\n",
        "      final_answer when is_integer(final_answer) ->\n",
        "        \"Result is #{inspect(final_answer)}\"\n",
        "    end\n",
        "  end\n",
        " \n",
        "  def run(n) do\n",
        "    IO.puts inspect :timer.tc(Chain, :create_processes, [n])\n",
        "  end\n",
        "end"
      ],
      "execution_count": 53,
      "outputs": [
        {
          "output_type": "stream",
          "text": [
            "Overwriting chain.exs\n"
          ],
          "name": "stdout"
        }
      ]
    },
    {
      "cell_type": "code",
      "metadata": {
        "id": "Flqn_Jrmrxy1",
        "outputId": "163a2e17-a106-44f8-d9bb-2c09a1decfe4",
        "colab": {
          "base_uri": "https://localhost:8080/"
        }
      },
      "source": [
        "!elixir --erl \"+P 1000000\" -r chain.exs  -e \"Chain.run(1_000_000)\""
      ],
      "execution_count": 55,
      "outputs": [
        {
          "output_type": "stream",
          "text": [
            "{4896723, \"Result is 1000000\"}\n"
          ],
          "name": "stdout"
        }
      ]
    },
    {
      "cell_type": "markdown",
      "metadata": {
        "id": "scVR0hFA2bO8"
      },
      "source": [
        "記事 https://ubiteku.oinker.me/2015/12/22/elixir試飲-2-カルチャーショックに戸惑う-並行指向プ/ のマシン Macbook Pro – 3 GHz Intel Core i7, 16GB RAM では 7 秒のところ、colab では 5 秒で終わってるね!!!!\n",
        "\n"
      ]
    },
    {
      "cell_type": "markdown",
      "metadata": {
        "id": "Ajr_Z2V6mh7Y"
      },
      "source": [
        "コメントは `#`"
      ]
    },
    {
      "cell_type": "code",
      "metadata": {
        "colab": {
          "base_uri": "https://localhost:8080/"
        },
        "id": "DfMZdyUImlsG",
        "outputId": "3800188f-1fad-40cd-b3d9-6aa8cea5e44a"
      },
      "source": [
        "%%writefile temp.exs\n",
        "# コメント実験\n",
        "str = \"helloworld!!!!\"\n",
        "IO.puts str"
      ],
      "execution_count": null,
      "outputs": [
        {
          "output_type": "stream",
          "text": [
            "Overwriting temp.exs\n"
          ],
          "name": "stdout"
        }
      ]
    },
    {
      "cell_type": "code",
      "metadata": {
        "colab": {
          "base_uri": "https://localhost:8080/"
        },
        "id": "qUtHCWc3mtba",
        "outputId": "1f54fb90-0653-49dd-d1db-7e089d948f6e"
      },
      "source": [
        "!elixir temp.exs"
      ],
      "execution_count": null,
      "outputs": [
        {
          "output_type": "stream",
          "text": [
            "helloworld!!!!\n"
          ],
          "name": "stdout"
        }
      ]
    },
    {
      "cell_type": "code",
      "metadata": {
        "colab": {
          "base_uri": "https://localhost:8080/"
        },
        "id": "iosas2W_nx9E",
        "outputId": "737a734e-981f-41de-b4d3-400dc19e8551"
      },
      "source": [
        "!elixir -e 'IO.puts 0b1111'\n",
        "!elixir -e 'IO.puts 0o7777'\n",
        "!elixir -e 'IO.puts 0xffff'\n",
        "!elixir -e 'IO.puts 1000_000_00_0'"
      ],
      "execution_count": null,
      "outputs": [
        {
          "output_type": "stream",
          "text": [
            "15\n",
            "4095\n",
            "65535\n",
            "1000000000\n"
          ],
          "name": "stdout"
        }
      ]
    },
    {
      "cell_type": "code",
      "metadata": {
        "colab": {
          "base_uri": "https://localhost:8080/"
        },
        "id": "fY5OrrP9ogLF",
        "outputId": "aa2bb19c-e191-440c-fb37-220496e03a4c"
      },
      "source": [
        "!elixir -e 'IO.puts 1.532e-4'\n",
        "# .0 とか 1. とかはエラーになる"
      ],
      "execution_count": null,
      "outputs": [
        {
          "output_type": "stream",
          "text": [
            "1.532e-4\n",
            "** (TokenMissingError) nofile:1: syntax error: expression is incomplete\n",
            "    (elixir) lib/code.ex:168: Code.eval_string/3\n",
            "\n"
          ],
          "name": "stdout"
        }
      ]
    },
    {
      "cell_type": "code",
      "metadata": {
        "colab": {
          "base_uri": "https://localhost:8080/"
        },
        "id": "Bjc6aZSso4ma",
        "outputId": "6f8ebaaa-eb74-4530-8c16-2f2b64b501dc"
      },
      "source": [
        "!elixir -e 'IO.puts \"日本語が書けますか\"'\n",
        "!elixir -e 'IO.puts \"日本語が書けます\"'"
      ],
      "execution_count": null,
      "outputs": [
        {
          "output_type": "stream",
          "text": [
            "日本語が書けますか\n",
            "日本語が書けます\n"
          ],
          "name": "stdout"
        }
      ]
    },
    {
      "cell_type": "code",
      "metadata": {
        "colab": {
          "base_uri": "https://localhost:8080/"
        },
        "id": "UhF_wVUSpG0A",
        "outputId": "f2f39671-1b6e-4f1c-8987-9ce103450f3d"
      },
      "source": [
        "# 関数の括弧の前にスペースはエラーになる\n",
        "!elixir -e 'IO.puts(0b1111)'\n",
        "!elixir -e 'IO.puts(\"にほんご\\n日本語\")'\n",
        "!elixir -e \"IO.puts('にほんご\\n\\\"日本語\\\"')\""
      ],
      "execution_count": null,
      "outputs": [
        {
          "output_type": "stream",
          "text": [
            "15\n",
            "にほんご\n",
            "日本語\n",
            "にほんご\n",
            "\"日本語\"\n"
          ],
          "name": "stdout"
        }
      ]
    },
    {
      "cell_type": "code",
      "metadata": {
        "colab": {
          "base_uri": "https://localhost:8080/"
        },
        "id": "Pse7-AAcqCD1",
        "outputId": "0851c255-6fb5-4eb5-ba6c-5ccad4d8b18d"
      },
      "source": [
        "# 文字連結\n",
        "!elixir -e 'IO.puts(\"ABCD\"<>\"EFGH\")'"
      ],
      "execution_count": null,
      "outputs": [
        {
          "output_type": "stream",
          "text": [
            "ABCDEFGH\n"
          ],
          "name": "stdout"
        }
      ]
    },
    {
      "cell_type": "markdown",
      "metadata": {
        "id": "zeEliw_Esji1"
      },
      "source": [
        "値の埋め込み\n",
        "\n",
        "`#{変数名}` を記述することで、変数の値を埋め込むことができる。\n"
      ]
    },
    {
      "cell_type": "code",
      "metadata": {
        "colab": {
          "base_uri": "https://localhost:8080/"
        },
        "id": "1mm0BWeds1SQ",
        "outputId": "724e430c-d384-40b2-8435-bbf4bb24e3c3"
      },
      "source": [
        "!elixir -e 'val = 1000; IO.puts \"val = #{val}\"'"
      ],
      "execution_count": null,
      "outputs": [
        {
          "output_type": "stream",
          "text": [
            "val = 1000\n"
          ],
          "name": "stdout"
        }
      ]
    },
    {
      "cell_type": "markdown",
      "metadata": {
        "id": "StBnVUaHtQgL"
      },
      "source": [
        "真理値\n",
        "\n",
        "true と false で false と nil が false でそれ以外は true\n",
        "\n"
      ]
    },
    {
      "cell_type": "code",
      "metadata": {
        "colab": {
          "base_uri": "https://localhost:8080/"
        },
        "id": "D9yH5Dy-tgFj",
        "outputId": "7d3ed7b6-378b-40b9-8945-1ade4c959e32"
      },
      "source": [
        "!elixir -e 'if true do IO.puts \"true\" end'\n",
        "!elixir -e 'if True do IO.puts \"true\" end'\n",
        "!elixir -e 'if False do IO.puts \"true\" end'\n",
        "!elixir -e 'if false do IO.puts \"true\" else IO.puts \"false\" end'\n",
        "!elixir -e 'if nil do IO.puts \"true\" else IO.puts \"false\" end'\n",
        "!elixir -e 'if 0 do IO.puts \"true\" else IO.puts \"false\" end'\n",
        "!elixir -e 'if (-1) do IO.puts \"true\" else IO.puts \"false\" end'\n",
        "!elixir -e 'if [] do IO.puts \"true\" else IO.puts \"false\" end'\n",
        "!elixir -e 'if \"\" do IO.puts \"true\" else IO.puts \"false\" end'"
      ],
      "execution_count": null,
      "outputs": [
        {
          "output_type": "stream",
          "text": [
            "true\n",
            "true\n",
            "true\n",
            "false\n",
            "false\n",
            "true\n",
            "true\n",
            "true\n",
            "true\n"
          ],
          "name": "stdout"
        }
      ]
    },
    {
      "cell_type": "markdown",
      "metadata": {
        "id": "itYbKcCB4ySP"
      },
      "source": [
        "`null` はない。"
      ]
    },
    {
      "cell_type": "markdown",
      "metadata": {
        "id": "ymMoHgZ648UL"
      },
      "source": [
        "# アトム\n",
        "\n",
        "アトムは名前がそのまま値となる定数である。\n",
        "\n",
        "名前の前にコロン `:` をつけることでアトムになる。\n",
        "\n",
        "アトムはアンダースコア `_` もしくは英字で始まる。 そのあとは\n",
        "数字、アンダースコア、`@` が使える。 終端文字としてのみ「!」や「?」が使える。\n"
      ]
    },
    {
      "cell_type": "code",
      "metadata": {
        "id": "I4OyDEuL5NXn",
        "colab": {
          "base_uri": "https://localhost:8080/"
        },
        "outputId": "193cbd02-6a0c-4656-d1d6-34ad84674231"
      },
      "source": [
        "!elixir -e 'IO.puts true === :true'"
      ],
      "execution_count": null,
      "outputs": [
        {
          "output_type": "stream",
          "text": [
            "true\n"
          ],
          "name": "stdout"
        }
      ]
    },
    {
      "cell_type": "markdown",
      "metadata": {
        "id": "11Dfjo4Y6LQU"
      },
      "source": [
        "演算子"
      ]
    },
    {
      "cell_type": "code",
      "metadata": {
        "id": "ISACU_0p6Nv2",
        "colab": {
          "base_uri": "https://localhost:8080/"
        },
        "outputId": "0c26f3bf-ef83-4d36-9386-2f96f3fde532"
      },
      "source": [
        "!elixir -e 'IO.puts 1 + 2'\n",
        "!elixir -e 'x = 10; IO.puts x + 1'\n",
        "!elixir -e 'IO.puts 1 - 2'\n",
        "!elixir -e 'x = 10; IO.puts x - 1'\n",
        "!elixir -e 'IO.puts 5 * 2'\n",
        "!elixir -e 'x = 10; IO.puts x * 4'\n",
        "!echo \n",
        "!elixir -e 'IO.puts 5 / 2'\n",
        "!elixir -e 'x = 10; IO.puts x / 3'"
      ],
      "execution_count": null,
      "outputs": [
        {
          "output_type": "stream",
          "text": [
            "3\n",
            "11\n",
            "-1\n",
            "9\n",
            "10\n",
            "40\n",
            "\n",
            "2.5\n",
            "3.3333333333333335\n"
          ],
          "name": "stdout"
        }
      ]
    },
    {
      "cell_type": "code",
      "metadata": {
        "id": "hcGSSQlu7JEQ",
        "colab": {
          "base_uri": "https://localhost:8080/"
        },
        "outputId": "e814f7b0-75c1-46b4-ad78-941809817307"
      },
      "source": [
        "# 浮動少数ではなく整数としての結果がほしい場合は div 関数を使用\n",
        "!elixir -e 'IO.puts div(10,5)'\n",
        "!elixir -e 'IO.puts div(10,4)'\n",
        "# 割り算の余り、剰余を求める場合は rem関数を使用します。\n",
        "!elixir -e 'IO.puts rem(10,4)'\n",
        "!elixir -e 'IO.puts rem(10,3)'\n",
        "!elixir -e 'IO.puts rem(10,2)'"
      ],
      "execution_count": null,
      "outputs": [
        {
          "output_type": "stream",
          "text": [
            "2\n",
            "2\n",
            "2\n",
            "1\n",
            "0\n"
          ],
          "name": "stdout"
        }
      ]
    },
    {
      "cell_type": "code",
      "metadata": {
        "colab": {
          "base_uri": "https://localhost:8080/"
        },
        "id": "MD79UYp8WYW5",
        "outputId": "896eb7f7-f0dc-4a57-cd29-31a1b6cea4e2"
      },
      "source": [
        "# 比較演算子\n",
        "!elixir -e 'IO.puts 1 == 1'\n",
        "!elixir -e 'IO.puts 1 != 1'\n",
        "!elixir -e 'IO.puts ! (1 != 1)'\n",
        "!elixir -e 'IO.puts 20.0 == 20'\n",
        "!elixir -e 'IO.puts 20.0 === 20'\n",
        "!elixir -e 'IO.puts 20.0 !== 20'"
      ],
      "execution_count": null,
      "outputs": [
        {
          "output_type": "stream",
          "text": [
            "true\n",
            "false\n",
            "true\n",
            "true\n",
            "false\n",
            "\n",
            "true\n"
          ],
          "name": "stdout"
        }
      ]
    },
    {
      "cell_type": "code",
      "metadata": {
        "colab": {
          "base_uri": "https://localhost:8080/"
        },
        "id": "HpG6ZfOPXSHE",
        "outputId": "57dfd1bb-c8c2-4b77-c815-ab4f0077b8a1"
      },
      "source": [
        "# 論理演算子\n",
        "# 論理和\n",
        "!elixir -e 'IO.puts \"ABC\" == \"ABC\" || 20 == 30'\n",
        "!elixir -e 'IO.puts \"ABC\" == \"abc\" || 20 == 30'\n",
        "!echo\n",
        "# 論理積\n",
        "!elixir -e 'IO.puts \"ABC\" == \"ABC\" && 20 == 20'\n",
        "!elixir -e 'IO.puts \"ABC\" == \"ABC\" && 20 == 30'\n",
        "!elixir -e 'IO.puts \"ABC\" == \"def\" && 10 > 100'\n",
        "!echo\n",
        "# 否定\n",
        "!elixir -e 'IO.puts !(\"ABC\" == \"ABC\")'\n",
        "!elixir -e 'IO.puts !(\"ABC\" == \"DEF\")'"
      ],
      "execution_count": null,
      "outputs": [
        {
          "output_type": "stream",
          "text": [
            "true\n",
            "false\n",
            "\n",
            "true\n",
            "false\n",
            "false\n",
            "\n",
            "false\n",
            "true\n"
          ],
          "name": "stdout"
        }
      ]
    },
    {
      "cell_type": "markdown",
      "metadata": {
        "id": "oG0fOdZZaT4E"
      },
      "source": [
        "# リスト\n",
        "\n",
        "elixir のリストは複数の型を含むことができる。\n",
        "\n",
        "メモ 下のコードセルで `IO.inspect` を使っているが、`IO.puts` ではリストを出力できなかったので、とりあえずわからないまま使っている。"
      ]
    },
    {
      "cell_type": "code",
      "metadata": {
        "id": "-UTLByQLaeP-",
        "colab": {
          "base_uri": "https://localhost:8080/"
        },
        "outputId": "d8a1b770-acde-4cc0-8aca-9e24bdcce8a6"
      },
      "source": [
        "# リスト\n",
        "!elixir -e 'IO.inspect [3.14, :pie, \"Apple\"]'\n"
      ],
      "execution_count": null,
      "outputs": [
        {
          "output_type": "stream",
          "text": [
            "[3.14, :pie, \"Apple\"]\n"
          ],
          "name": "stdout"
        }
      ]
    },
    {
      "cell_type": "code",
      "metadata": {
        "id": "2adTcaWdpJLx",
        "colab": {
          "base_uri": "https://localhost:8080/"
        },
        "outputId": "1f8447c8-0702-4b25-da66-8ee5cf4c8fc5"
      },
      "source": [
        "# リスト先頭への追加(高速)\n",
        "!elixir -e 'IO.inspect [\"π\" | [3.14, :pie, \"Apple\"]]'\n",
        "# リスト末尾への追加(低速)\n",
        "!elixir -e 'IO.inspect [3.14, :pie, \"Apple\"] ++ [\"Cherry\"]'"
      ],
      "execution_count": null,
      "outputs": [
        {
          "output_type": "stream",
          "text": [
            "[\"π\", 3.14, :pie, \"Apple\"]\n",
            "[3.14, :pie, \"Apple\", \"Cherry\"]\n"
          ],
          "name": "stdout"
        }
      ]
    },
    {
      "cell_type": "markdown",
      "metadata": {
        "id": "_fTO4PU_Ar3o"
      },
      "source": [
        "上と下のコードセルでリストの連結を行っているが、++/2 演算子を用いている。 この `++/2` という表記は `++` が演算子自体で `/2` がアリティ (引数の数) を表す。 後述。"
      ]
    },
    {
      "cell_type": "code",
      "metadata": {
        "id": "O8nIlA3jBEIf",
        "colab": {
          "base_uri": "https://localhost:8080/"
        },
        "outputId": "936f7d5e-f8c5-456d-c326-957a3c287d2f"
      },
      "source": [
        "# リストの連結\n",
        "!elixir -e 'IO.inspect  [1, 2] ++ [3, 4, 1]'"
      ],
      "execution_count": null,
      "outputs": [
        {
          "output_type": "stream",
          "text": [
            "[1, 2, 3, 4, 1]\n"
          ],
          "name": "stdout"
        }
      ]
    },
    {
      "cell_type": "code",
      "metadata": {
        "id": "F6fHksfUVGu0",
        "colab": {
          "base_uri": "https://localhost:8080/"
        },
        "outputId": "74e0f4c8-e4f8-45da-8459-279b431402f2"
      },
      "source": [
        "# リストの減算 \n",
        "#  --/2 演算子は存在しない値を引いてしまってもオッケー\n",
        "!elixir -e 'IO.inspect [\"foo\", :bar, 42] -- [42, \"bar\"]'\n",
        "# 重複した値の場合、右辺の要素のそれぞれに対し、左辺の要素のうち初めて登場した同じ値が順次削除\n",
        "!elixir -e 'IO.inspect [1,2,2,3,2,3] -- [1,2,3,2]'\n",
        "# リストの減算の値のマッチには strict comparison が使われている\n",
        "!elixir -e 'IO.inspect  [2] -- [2.0]'\n",
        "!elixir -e 'IO.inspect  [2.0] -- [2.0]'"
      ],
      "execution_count": null,
      "outputs": [
        {
          "output_type": "stream",
          "text": [
            "[\"foo\", :bar]\n",
            "[2, 3]\n",
            "[2]\n",
            "[]\n"
          ],
          "name": "stdout"
        }
      ]
    },
    {
      "cell_type": "code",
      "metadata": {
        "id": "H6BBZhUrWfq6",
        "colab": {
          "base_uri": "https://localhost:8080/"
        },
        "outputId": "e0828a87-78e0-480d-a5f7-9676de9443da"
      },
      "source": [
        "# head /tail\n",
        "!elixir -e 'IO.inspect hd [3.14, :pie, \"Apple\"]'\n",
        "!elixir -e 'IO.inspect tl [3.14, :pie, \"Apple\"]'"
      ],
      "execution_count": null,
      "outputs": [
        {
          "output_type": "stream",
          "text": [
            "3.14\n",
            "[:pie, \"Apple\"]\n"
          ],
          "name": "stdout"
        }
      ]
    },
    {
      "cell_type": "markdown",
      "metadata": {
        "id": "T-JhzbsCXITz"
      },
      "source": [
        "リストを頭部と尾部に分けるのに\n",
        "\n",
        "* パターンマッチング\n",
        "* cons 演算子( `|` )\n",
        "\n",
        "を使うこともできる。"
      ]
    },
    {
      "cell_type": "code",
      "metadata": {
        "id": "A29_XouHXitI",
        "colab": {
          "base_uri": "https://localhost:8080/"
        },
        "outputId": "de3cea92-cfdb-4096-b031-3f64c79084be"
      },
      "source": [
        "!elixir -e '[head | tail] = [3.14, :pie, \"Apple\"]; IO.inspect head; IO.inspect tail'"
      ],
      "execution_count": null,
      "outputs": [
        {
          "output_type": "stream",
          "text": [
            "3.14\n",
            "[:pie, \"Apple\"]\n"
          ],
          "name": "stdout"
        }
      ]
    },
    {
      "cell_type": "markdown",
      "metadata": {
        "id": "nYc9e2XhX4VL"
      },
      "source": [
        "# タプル\n",
        "\n",
        "タプルの要素はメモリ上に隣接して格納される。\n",
        "\n",
        "このため、長さを得るのは高速ｄが、修正は高コストになる。\n",
        "なぜなら、全ての要素がコピーされるから。\n",
        "\n",
        "タプルは波括弧 brace を用いて定義される。\n"
      ]
    },
    {
      "cell_type": "code",
      "metadata": {
        "id": "S2QAVIgAYdN1",
        "colab": {
          "base_uri": "https://localhost:8080/"
        },
        "outputId": "825d1c1e-1eaa-418a-908e-f5c6320419d6"
      },
      "source": [
        "!elixir -e 'IO.inspect {3.14, :pie, \"Apple\"}'"
      ],
      "execution_count": null,
      "outputs": [
        {
          "output_type": "stream",
          "text": [
            "{3.14, :pie, \"Apple\"}\n"
          ],
          "name": "stdout"
        }
      ]
    },
    {
      "cell_type": "markdown",
      "metadata": {
        "id": "E8R4apKlYsNJ"
      },
      "source": [
        "タプルは関数の返り値に便利に利用される。\n",
        "\n",
        "パターンマッチングと組み合わせて使われる。\n",
        "\n",
        "```\n",
        "iex> File.read(\"path/to/existing/file\")\n",
        "{:ok, \"... contents ...\"}\n",
        "iex> File.read(\"path/to/unknown/file\")\n",
        "{:error, :enoent}\n",
        "```\n",
        "\n"
      ]
    },
    {
      "cell_type": "markdown",
      "metadata": {
        "id": "EOXvBvVzY4Ox"
      },
      "source": [
        "# キーワードリスト\n",
        "\n",
        "キーワードリストとマップは elixir の連想配列である。\n",
        "\n",
        "キーワードリストは最初の要素がアトムのタプルからなる特別なリストで、リストと同様の性能になる。"
      ]
    },
    {
      "cell_type": "code",
      "metadata": {
        "id": "n9K3nXH0Z1pY",
        "colab": {
          "base_uri": "https://localhost:8080/"
        },
        "outputId": "aeb7ff7d-5a8d-4674-c6a0-cfc5a956a7f4"
      },
      "source": [
        "# キーワードリスト\n",
        "!elixir -e 'IO.inspect [foo: \"bar\", hello: \"world\"]'\n",
        "!elixir -e 'IO.inspect [{:foo, \"bar\"}, {:hello, \"world\"}]'\n",
        "!elixir -e 'IO.inspect [foo: \"bar\", hello: \"world\"] == [{:foo, \"bar\"}, {:hello, \"world\"}]'"
      ],
      "execution_count": null,
      "outputs": [
        {
          "output_type": "stream",
          "text": [
            "[foo: \"bar\", hello: \"world\"]\n",
            "[foo: \"bar\", hello: \"world\"]\n",
            "true\n"
          ],
          "name": "stdout"
        }
      ]
    },
    {
      "cell_type": "markdown",
      "metadata": {
        "id": "nCLr_RSYkJgp"
      },
      "source": [
        "キーワードリストの 3 つの特徴\n",
        "\n",
        "* キーはアトムである。\n",
        "* キーは順序付けされている。\n",
        "* キーの一意性は保証されない。\n",
        "\n",
        "こうした理由から、キーワードリストは関数にオプションを渡すためによく用いられる。\n"
      ]
    },
    {
      "cell_type": "markdown",
      "metadata": {
        "id": "FTteo69skgsD"
      },
      "source": [
        "# マップ\n",
        "\n",
        "* キーワードリストとは違ってどんな型のキーも使える。\n",
        "* 順序付けされない。\n",
        "* キーの一意性が保証されている。重複したキーが追加された場合は、前の値が置き換えられる。\n",
        "* 変数をマップのキーにできる。\n",
        "* `%{}` 構文で定義する。\n",
        "\n"
      ]
    },
    {
      "cell_type": "code",
      "metadata": {
        "id": "GpcBT5UxlNqX",
        "colab": {
          "base_uri": "https://localhost:8080/"
        },
        "outputId": "a15c3fdc-37c4-41f4-8278-e98d431841ea"
      },
      "source": [
        "!elixir -e 'IO.inspect %{:foo => \"bar\", \"hello\" => :world}'\n",
        "!elixir -e 'map = %{:foo => \"bar\", \"hello\" => :world}; IO.inspect map[:foo]'\n",
        "!elixir -e 'map = %{:foo => \"bar\", \"hello\" => :world}; IO.inspect map[\"hello\"]'\n",
        "!echo\n",
        "!elixir -e 'key = \"hello\"; IO.inspect %{key => \"world\"}'\n",
        "!elixir -e 'IO.inspect %{:foo => \"bar\", :foo => \"hello world\"}'"
      ],
      "execution_count": null,
      "outputs": [
        {
          "output_type": "stream",
          "text": [
            "%{:foo => \"bar\", \"hello\" => :world}\n",
            "\"bar\"\n",
            ":world\n",
            "\n",
            "%{\"hello\" => \"world\"}\n",
            "%{foo: \"hello world\"}\n"
          ],
          "name": "stdout"
        }
      ]
    },
    {
      "cell_type": "markdown",
      "metadata": {
        "id": "dkcO672-FkQc"
      },
      "source": [
        "上下の例にあるように、アトムのキーだけを含んだマップには特別な構文がある。"
      ]
    },
    {
      "cell_type": "code",
      "metadata": {
        "id": "nvuza7GRmeZa",
        "colab": {
          "base_uri": "https://localhost:8080/"
        },
        "outputId": "1ba6dc41-7686-4518-f243-9faa131c792b"
      },
      "source": [
        "!elixir -e 'IO.inspect %{foo: \"bar\", hello: \"world\"} == %{:foo => \"bar\", :hello => \"world\"}'"
      ],
      "execution_count": null,
      "outputs": [
        {
          "output_type": "stream",
          "text": [
            "true\n"
          ],
          "name": "stdout"
        }
      ]
    },
    {
      "cell_type": "code",
      "metadata": {
        "id": "3qIWDH31ZxtW",
        "colab": {
          "base_uri": "https://localhost:8080/"
        },
        "outputId": "0b112a23-0366-4eaf-89f1-c7401d6fe9dc"
      },
      "source": [
        "# 加えて、アトムのキーにアクセスするための特別な構文がある。\n",
        "!elixir -e 'map = %{foo: \"bar\", hello: \"world\"}; IO.inspect map.hello'"
      ],
      "execution_count": null,
      "outputs": [
        {
          "output_type": "stream",
          "text": [
            "\"world\"\n"
          ],
          "name": "stdout"
        }
      ]
    },
    {
      "cell_type": "code",
      "metadata": {
        "id": "q9GkwzvFaPHo",
        "colab": {
          "base_uri": "https://localhost:8080/"
        },
        "outputId": "980a6289-2e87-4d45-bad8-c43271fafcb4"
      },
      "source": [
        "# マップの更新のための構文がある (新シ map が作成される)\n",
        "# この構文は、マップに既に存在するキーを更新する場合にのみ機能する。\n",
        "!elixir -e 'map = %{foo: \"bar\", hello: \"world\"}; IO.inspect %{map | foo: \"baz\"}'"
      ],
      "execution_count": null,
      "outputs": [
        {
          "output_type": "stream",
          "text": [
            "%{foo: \"baz\", hello: \"world\"}\n"
          ],
          "name": "stdout"
        }
      ]
    },
    {
      "cell_type": "code",
      "metadata": {
        "colab": {
          "base_uri": "https://localhost:8080/"
        },
        "id": "cP3Im0X7qw1v",
        "outputId": "84d640c8-7a16-4262-8578-7f40a9b3aa20"
      },
      "source": [
        "# 新しいキーを作成するには、`Map.put/3` を使用\n",
        "!elixir -e 'map = %{hello: \"world\"}; IO.inspect  Map.put(map, :foo, \"baz\")'"
      ],
      "execution_count": null,
      "outputs": [
        {
          "output_type": "stream",
          "text": [
            "%{foo: \"baz\", hello: \"world\"}\n"
          ],
          "name": "stdout"
        }
      ]
    },
    {
      "cell_type": "markdown",
      "metadata": {
        "id": "v2CvxtY_rag8"
      },
      "source": [
        "# enum\n",
        "\n",
        "enum はリストなどを列挙するための一連のアルゴリズム。\n",
        "\n",
        "* all?、any?\n",
        "* chunk_every、chunk_by、map_every\n",
        "* each\n",
        "* map、filter、reduce\n",
        "* min、max\n",
        "* sort、uniq、uniq_by\n",
        "* キャプチャ演算子 `(&)`\n"
      ]
    },
    {
      "cell_type": "markdown",
      "metadata": {
        "id": "g-s-BTlMuwSl"
      },
      "source": [
        "メモ $\\quad$ 関数の調べ方\n",
        "\n",
        "下のコードセル 2 つにあるように、対象のモジュールの関数名を調べ、そのヘルプを見ればけっこうくわしくわかる。\n",
        "\n",
        "コメントアウトしてあるのは出力が大きいので、とりあえずコメントアウトして出力を抑制してある。\n",
        "\n",
        "具体的には、Enum にあたるところにモジュール名を入れて関数のリストを出す。 Ctrl+A Ctrl+C でコピーして vscode などでペーストして読む。 調べたい関数名をヘルプの、Enum.all?/1 のところに入れて出力をコピーして、vscode などでペーストして読む\n"
      ]
    },
    {
      "cell_type": "code",
      "metadata": {
        "id": "RMwZZxhdSuJl"
      },
      "source": [
        "# !elixir -e 'Enum.__info__(:functions) |> Enum.each(fn({function, arity}) -> IO.puts \"#{function}/#{arity}\" end)'"
      ],
      "execution_count": null,
      "outputs": []
    },
    {
      "cell_type": "code",
      "metadata": {
        "id": "crcthqHyvaSN"
      },
      "source": [
        "# !elixir -e 'require IEx.Helpers;IEx.Helpers.h Enum.all?/1'"
      ],
      "execution_count": null,
      "outputs": []
    },
    {
      "cell_type": "code",
      "metadata": {
        "id": "fRHdnhaDDdzn",
        "colab": {
          "base_uri": "https://localhost:8080/"
        },
        "outputId": "cf54b2a5-14c5-4146-d2f4-d4110efd1f9c"
      },
      "source": [
        "# all? 関数を引数で受け取り、リストの全体が true の時、true を返す\n",
        "!elixir -e 'IO.puts Enum.all?([\"foo\", \"bar\", \"hello\"], fn(s) -> String.length(s) == 3 end)'\n",
        "!elixir -e 'IO.puts Enum.all?([\"foo\", \"bar\", \"hello\"], fn(s) -> String.length(s) >1 end)'"
      ],
      "execution_count": null,
      "outputs": [
        {
          "output_type": "stream",
          "text": [
            "false\n",
            "true\n"
          ],
          "name": "stdout"
        }
      ]
    },
    {
      "cell_type": "code",
      "metadata": {
        "id": "Fr1YhaY2ECAE",
        "colab": {
          "base_uri": "https://localhost:8080/"
        },
        "outputId": "c5b5983f-2b5d-4098-c53e-90fb7c6a706a"
      },
      "source": [
        "# any? 少なくとも1つの要素が true と評価された場合に true を返す\n",
        "!elixir -e 'IO.puts Enum.any?([\"foo\", \"bar\", \"hello\"], fn(s) -> String.length(s) == 5 end)'"
      ],
      "execution_count": null,
      "outputs": [
        {
          "output_type": "stream",
          "text": [
            "true\n"
          ],
          "name": "stdout"
        }
      ]
    },
    {
      "cell_type": "code",
      "metadata": {
        "id": "ltdysP5SFOM1",
        "colab": {
          "base_uri": "https://localhost:8080/"
        },
        "outputId": "1a00597a-33cd-466e-98a3-a48126c88f28"
      },
      "source": [
        "# chunk_every リストを小さなグループに分割する\n",
        "!elixir -e 'IO.inspect Enum.chunk([1, 2, 3, 4, 5, 6], 2)'\n",
        "!elixir -e 'IO.inspect Enum.chunk([1, 2, 3, 4, 5, 6], 3)'\n",
        "!elixir -e 'IO.inspect Enum.chunk([1, 2, 3, 4, 5, 6], 4)'"
      ],
      "execution_count": null,
      "outputs": [
        {
          "output_type": "stream",
          "text": [
            "[[1, 2], [3, 4], [5, 6]]\n",
            "[[1, 2, 3], [4, 5, 6]]\n",
            "[[1, 2, 3, 4]]\n"
          ],
          "name": "stdout"
        }
      ]
    },
    {
      "cell_type": "code",
      "metadata": {
        "id": "myy_9FgVGpeA",
        "colab": {
          "base_uri": "https://localhost:8080/"
        },
        "outputId": "d8b0da14-c9f5-4c75-ff44-7636799ed2d6"
      },
      "source": [
        "# chunk_by 関数の戻り値が変化することによって分割する\n",
        "!elixir -e 'IO.inspect Enum.chunk_by([\"one\", \"two\", \"three\", \"four\", \"five\"], fn(x) -> String.length(x) end)'\n",
        "!elixir -e 'IO.inspect Enum.chunk_by([\"one\", \"two\", \"three\", \"four\", \"five\", \"six\"], fn(x) -> String.length(x) end)'"
      ],
      "execution_count": null,
      "outputs": [
        {
          "output_type": "stream",
          "text": [
            "[[\"one\", \"two\"], [\"three\"], [\"four\", \"five\"]]\n",
            "[[\"one\", \"two\"], [\"three\"], [\"four\", \"five\"], [\"six\"]]\n"
          ],
          "name": "stdout"
        }
      ]
    },
    {
      "cell_type": "code",
      "metadata": {
        "id": "gbEbNAbmUFHE",
        "colab": {
          "base_uri": "https://localhost:8080/"
        },
        "outputId": "0e28d3a6-b558-40c3-dc9a-62797161efe3"
      },
      "source": [
        "# map_every nth ごとに map 処理する\n",
        "!elixir -e 'IO.inspect Enum.map_every(1..10, 3, fn x -> x + 1000 end)'\n",
        "!elixir -e 'IO.inspect Enum.map_every(1..10, 1, fn x -> x + 1000 end)'\n",
        "!elixir -e 'IO.inspect Enum.map_every(1..10, 0, fn x -> x + 1000 end)'"
      ],
      "execution_count": null,
      "outputs": [
        {
          "output_type": "stream",
          "text": [
            "[1001, 2, 3, 1004, 5, 6, 1007, 8, 9, 1010]\n",
            "[1001, 1002, 1003, 1004, 1005, 1006, 1007, 1008, 1009, 1010]\n",
            "[1, 2, 3, 4, 5, 6, 7, 8, 9, 10]\n"
          ],
          "name": "stdout"
        }
      ]
    },
    {
      "cell_type": "code",
      "metadata": {
        "colab": {
          "base_uri": "https://localhost:8080/"
        },
        "id": "yn6ucqU9gVW1",
        "outputId": "601d14bf-5043-4889-ce54-6d1a02da2a2c"
      },
      "source": [
        "# each 新しい値を生成することなく反復する。返り値は:ok というアトム。\n",
        "!elixir -e 'IO.inspect Enum.each([\"one\", \"two\", \"three\"], fn(s) -> IO.puts(s) end)'\n",
        "!elixir -e 'IO.puts Enum.each([\"one\", \"two\", \"three\"], fn(s) -> IO.puts(s) end)'"
      ],
      "execution_count": null,
      "outputs": [
        {
          "output_type": "stream",
          "text": [
            "one\n",
            "two\n",
            "three\n",
            ":ok\n"
          ],
          "name": "stdout"
        }
      ]
    },
    {
      "cell_type": "code",
      "metadata": {
        "colab": {
          "base_uri": "https://localhost:8080/"
        },
        "id": "wzRwKv_imULW",
        "outputId": "b5a2fd71-b970-459d-b7d8-ebe22c7fa501"
      },
      "source": [
        "# map 関数を各要素に適用して新しいリストを生み出す\n",
        "!elixir -e 'IO.inspect Enum.map([0, 1, 2, 3], fn(x) -> x - 1 end)'"
      ],
      "execution_count": null,
      "outputs": [
        {
          "output_type": "stream",
          "text": [
            "[-1, 0, 1, 2]\n"
          ],
          "name": "stdout"
        }
      ]
    },
    {
      "cell_type": "code",
      "metadata": {
        "colab": {
          "base_uri": "https://localhost:8080/"
        },
        "id": "85q0m8_ZmyyQ",
        "outputId": "bdf70f32-c114-462b-f396-951f1549b4fb"
      },
      "source": [
        "# min 最小の値を探す。 リストが空の場合エラーになる\n",
        "# リストが空だったときのために予め最衣装血を生成する関数を渡すことができる\n",
        "!elixir -e 'IO.inspect Enum.min([5, 3, 0, -1])'\n",
        "!elixir -e 'IO.inspect Enum.min([], fn -> :foo end)'"
      ],
      "execution_count": null,
      "outputs": [
        {
          "output_type": "stream",
          "text": [
            "-1\n",
            ":foo\n"
          ],
          "name": "stdout"
        }
      ]
    },
    {
      "cell_type": "code",
      "metadata": {
        "colab": {
          "base_uri": "https://localhost:8080/"
        },
        "id": "F2Wx1evnnUWB",
        "outputId": "dd19d081-838f-4077-a7dc-00ef14eec9f3"
      },
      "source": [
        "# max 最大の(max/1)値を返す\n",
        "!elixir -e 'IO.inspect Enum.max([5, 3, 0, -1])'\n",
        "!elixir -e 'IO.inspect Enum.max([], fn -> :bar end)'"
      ],
      "execution_count": null,
      "outputs": [
        {
          "output_type": "stream",
          "text": [
            "5\n",
            ":bar\n"
          ],
          "name": "stdout"
        }
      ]
    },
    {
      "cell_type": "code",
      "metadata": {
        "colab": {
          "base_uri": "https://localhost:8080/"
        },
        "id": "LMRdRxOso7pU",
        "outputId": "daac690a-544a-48bc-927b-288fc3804ccb"
      },
      "source": [
        "# filter 与えられた関数によって true と評価された要素だけを得る\n",
        "!elixir -e 'IO.inspect Enum.filter([1, 2, 3, 4], fn(x) -> rem(x, 2) == 0 end)'\n",
        "!elixir -e 'IO.inspect Enum.filter([], fn(x) -> rem(x, 2) == 0 end)'"
      ],
      "execution_count": null,
      "outputs": [
        {
          "output_type": "stream",
          "text": [
            "[2, 4]\n",
            "[]\n"
          ],
          "name": "stdout"
        }
      ]
    },
    {
      "cell_type": "code",
      "metadata": {
        "colab": {
          "base_uri": "https://localhost:8080/"
        },
        "id": "XKKtE4wOpvBi",
        "outputId": "4f6abd08-4b82-4ab8-b76b-2fa596d96cc7"
      },
      "source": [
        "# reduce リストを関数に従って単一の値へ抽出すうる。 accumulator を指定できる。\n",
        "# accumulator が与えられない場合は最初の要素が用いられる。\n",
        "!elixir -e 'IO.inspect Enum.reduce([1, 2, 3], 10, fn(x, acc) -> x + acc end)'\n",
        "!elixir -e 'IO.inspect Enum.reduce([1, 2, 3], fn(x, acc) -> x + acc end)'\n",
        "!elixir -e 'IO.inspect Enum.reduce([\"a\",\"b\",\"c\"], \"1\", fn(x,acc)-> x <> acc end)'"
      ],
      "execution_count": null,
      "outputs": [
        {
          "output_type": "stream",
          "text": [
            "16\n",
            "6\n",
            "\"cba1\"\n"
          ],
          "name": "stdout"
        }
      ]
    },
    {
      "cell_type": "code",
      "metadata": {
        "colab": {
          "base_uri": "https://localhost:8080/"
        },
        "id": "KcZHo75X0t94",
        "outputId": "0ee9b8ff-7a2c-4311-c09c-f86f7e6b972e"
      },
      "source": [
        "# sort `sort/1` はソートの順序に Erlangの Term 優先順位 を使う\n",
        "!elixir -e 'IO.inspect Enum.sort([5, 6, 1, 3, -1, 4])'\n",
        "!elixir -e 'IO.inspect Enum.sort([:foo, \"bar\", Enum, -1, 4])'\n",
        "\n",
        "# `sort/2` は、順序を決める為の関数を渡すことができる\n",
        "!elixir -e 'IO.inspect Enum.sort([%{:val => 4}, %{:val => 1}], fn(x, y) -> x[:val] > y[:val] end)'\n",
        "\n",
        "# なしの場合\n",
        "!elixir -e 'IO.inspect Enum.sort([%{:count => 4}, %{:count => 1}])'\n",
        "\n",
        "# sort/2 に :asc または :desc をソート関数として渡すことができる\n",
        "!elixir -e 'IO.inspect Enum.sort([2, 3, 1], :desc)'\n"
      ],
      "execution_count": null,
      "outputs": [
        {
          "output_type": "stream",
          "text": [
            "[-1, 1, 3, 4, 5, 6]\n",
            "[-1, 4, Enum, :foo, \"bar\"]\n",
            "[%{val: 4}, %{val: 1}]\n",
            "[%{count: 1}, %{count: 4}]\n",
            "[3, 2, 1]\n"
          ],
          "name": "stdout"
        }
      ]
    },
    {
      "cell_type": "code",
      "metadata": {
        "id": "Ajs77q8e14f4",
        "colab": {
          "base_uri": "https://localhost:8080/"
        },
        "outputId": "de33dc6f-b9ac-4d60-be9c-ae4bf93977ed"
      },
      "source": [
        "# uniq 重複した要素を取り除く\n",
        "!elixir -e 'IO.inspect Enum.uniq([1, 2, 3, 2, 1, 1, 1, 1, 1])'\n",
        "[1, 2, 3]\n",
        "\n",
        "# uniq_by 重複した要素を削除するが、ユニークかどうか比較を行う関数を渡せる\n",
        "!elixir -e 'IO.inspect Enum.uniq_by([%{x: 1, y: 1}, %{x: 2, y: 1}, %{x: 3, y: 3}], fn coord -> coord.y end)'"
      ],
      "execution_count": null,
      "outputs": [
        {
          "output_type": "stream",
          "text": [
            "[1, 2, 3]\n",
            "[%{x: 1, y: 1}, %{x: 3, y: 3}]\n"
          ],
          "name": "stdout"
        }
      ]
    },
    {
      "cell_type": "markdown",
      "metadata": {
        "id": "e5qxCiaH6Bps"
      },
      "source": [
        "# キャプチャ演算子 `&` を使用した enum\n",
        "\n",
        "elixir の enum モジュール内の多くの関数は、引数として無名関数を取る。\n",
        "\n",
        "これらの無名関数は、多くの場合、キャプチャ演算子 `&` を使用して省略形で記述される。\n",
        "\n"
      ]
    },
    {
      "cell_type": "code",
      "metadata": {
        "id": "1c-WGlISZ1fo",
        "colab": {
          "base_uri": "https://localhost:8080/"
        },
        "outputId": "61088b3d-f774-45df-efa0-54626dbcb3fa"
      },
      "source": [
        "# 無名関数でのキャプチャ演算子の使用 \n",
        "!elixir -e 'IO.inspect Enum.map([1,2,3], fn number -> number + 3 end)'\n",
        "!elixir -e 'IO.inspect Enum.map([1,2,3], &(&1 + 3))'\n",
        "!elixir -e 'plus_three = &(&1 + 3);IO.inspect Enum.map([1,2,3], plus_three)'"
      ],
      "execution_count": 3,
      "outputs": [
        {
          "output_type": "stream",
          "text": [
            "[4, 5, 6]\n",
            "[4, 5, 6]\n",
            "[4, 5, 6]\n"
          ],
          "name": "stdout"
        }
      ]
    },
    {
      "cell_type": "markdown",
      "metadata": {
        "id": "HhMGJ2HzdAPn"
      },
      "source": [
        "# パターンマッチング\n",
        "\n",
        "パターンマッチングでは、値、データ構造、関数をマッチすることができる。\n",
        "\n",
        "* マッチ演算子\n",
        "* ピン演算子"
      ]
    },
    {
      "cell_type": "markdown",
      "metadata": {
        "id": "zs8-szD5HkZb"
      },
      "source": [
        "マッチ演算子\n",
        "\n",
        "マッチ演算子 `=` はマッチ演算子である。 マッチ演算子を通して値を代入し、その後、マッチさせることができる。マッチすると、方程式の結果が返され、失敗すると、エラーになる。"
      ]
    },
    {
      "cell_type": "code",
      "metadata": {
        "colab": {
          "base_uri": "https://localhost:8080/"
        },
        "id": "6oVfGSzCdX2-",
        "outputId": "ff4ca919-c6ab-4063-9074-79c57f64059e"
      },
      "source": [
        "# マッチ演算子 `=` はマッチ演算子である。 マッチ演算子を通して値を代入し、\n",
        "# その後、マッチさせることができる。マッチすると、方程式の結果が返され、\n",
        "# 失敗すると、エラーになる\n",
        "!elixir -e 'IO.puts x = 1'\n",
        "!elixir -e 'x = 1;IO.puts 1 = x'\n",
        "# !elixir -e 'x = 1;IO.puts 2 = x'\n",
        "#=> (MatchError) no match of right hand side value: 1"
      ],
      "execution_count": 7,
      "outputs": [
        {
          "output_type": "stream",
          "text": [
            "1\n",
            "1\n"
          ],
          "name": "stdout"
        }
      ]
    },
    {
      "cell_type": "code",
      "metadata": {
        "colab": {
          "base_uri": "https://localhost:8080/"
        },
        "id": "V_S_BGxmeX-4",
        "outputId": "5c48ee1c-a2d0-4c10-882d-98ed5bfd39bc"
      },
      "source": [
        "# リストでのマッチ演算子\n",
        "!elixir -e 'IO.inspect list = [1, 2, 3]'\n",
        "!elixir -e 'list = [1, 2, 3]; IO.inspect [1, 2, 3] = list'\n",
        "# !elixir -e 'list = [1, 2, 3]; IO.inspect [] = list'\n",
        "#=> (MatchError) no match of right hand side value: [1, 2, 3]"
      ],
      "execution_count": 8,
      "outputs": [
        {
          "output_type": "stream",
          "text": [
            "[1, 2, 3]\n",
            "[1, 2, 3]\n"
          ],
          "name": "stdout"
        }
      ]
    },
    {
      "cell_type": "code",
      "metadata": {
        "colab": {
          "base_uri": "https://localhost:8080/"
        },
        "id": "JGD6GcMsGG7n",
        "outputId": "5e24a243-c726-45bd-a070-835c476619c1"
      },
      "source": [
        "!elixir -e 'list = [1, 2, 3]; IO.inspect [1 | tail] = list'\n",
        "!elixir -e 'list = [1, 2, 3];  [1 | tail] = list; IO.inspect tail'"
      ],
      "execution_count": 14,
      "outputs": [
        {
          "output_type": "stream",
          "text": [
            "[1, 2, 3]\n",
            "[2, 3]\n"
          ],
          "name": "stdout"
        }
      ]
    },
    {
      "cell_type": "code",
      "metadata": {
        "colab": {
          "base_uri": "https://localhost:8080/"
        },
        "id": "FAI9EHeUGviK",
        "outputId": "7ad435a4-9c8d-40c0-afc6-a4c099994135"
      },
      "source": [
        "# タプルとマッチ演算子\n",
        "!elixir -e 'IO.inspect {:ok, value} = {:ok, \"Successful!\"}'\n",
        "!elixir -e '{:ok, value} = {:ok, \"Successful!\"}; IO.inspect  value'"
      ],
      "execution_count": 17,
      "outputs": [
        {
          "output_type": "stream",
          "text": [
            "{:ok, \"Successful!\"}\n",
            "\"Successful!\"\n",
            ":ok\n"
          ],
          "name": "stdout"
        }
      ]
    },
    {
      "cell_type": "markdown",
      "metadata": {
        "id": "niw-oNFPHc8u"
      },
      "source": [
        "# ピン演算子\n",
        "\n",
        "マッチ演算子は左辺に変数が含まれている時に代入操作を行う。 \n",
        "\n",
        "この変数を再び束縛するという挙動は望ましくない場合がある。 そうした状況のために、ピン演算子 `^` がある。\n",
        "\n",
        "ピン演算子で変数を固定すると、新しく再束縛するのではなく既存の値とマッチする。\n"
      ]
    },
    {
      "cell_type": "code",
      "metadata": {
        "colab": {
          "base_uri": "https://localhost:8080/"
        },
        "id": "LwiOOT1LIEwW",
        "outputId": "3f137a15-8287-40d4-e1bf-228179a8cabf"
      },
      "source": [
        "# ピン演算子\n",
        "!elixir -e 'IO.inspect x = 1'\n",
        "# !elixir -e 'x = 1; IO.inspect ^x = 2'\n",
        "#=> ** (MatchError) no match of right hand side value: 2\n",
        "!elixir -e 'x = 1; IO.inspect {x, ^x} = {2, 1}'\n",
        "!elixir -e 'x = 1;{x, ^x} = {2, 1}; IO.inspect x'\n",
        "!echo\n",
        "!elixir -e 'IO.inspect key = \"hello\"'\n",
        "!elixir -e 'key = \"hello\"; IO.inspect %{^key => value} = %{\"hello\" => \"world\"}'\n",
        "!elixir -e 'key = \"hello\"; IO.inspect %{^key => value} = %{\"hello\" => \"world\"}'\n",
        "!elixir -e 'key = \"hello\"; %{^key => value} = %{\"hello\" => \"world\"}; IO.inspect value'"
      ],
      "execution_count": 30,
      "outputs": [
        {
          "output_type": "stream",
          "text": [
            "1\n",
            "{2, 1}\n",
            "2\n",
            "\n",
            "\"hello\"\n",
            "%{\"hello\" => \"world\"}\n",
            "%{\"hello\" => \"world\"}\n",
            "\"world\"\n"
          ],
          "name": "stdout"
        }
      ]
    },
    {
      "cell_type": "code",
      "metadata": {
        "colab": {
          "base_uri": "https://localhost:8080/"
        },
        "id": "GwNu1JTePo1J",
        "outputId": "f11ec9e7-ec51-4c11-b5a2-f2bad5669449"
      },
      "source": [
        "# 関数の clause でのピン演算子\n",
        "!elixir -e 'IO.inspect greeting = \"Hello\"'\n",
        "!elixir -e 'greeting = \"Hello\"; IO.inspect greet = fn (^greeting, name) -> \"Hi #{name}\"; (greeting, name) -> \"${greeting},${name}\" end'\n",
        "!elixir -e 'greeting = \"Hello\"; greet = fn (^greeting, name) -> \"Hi #{name}\"; (greeting, name) -> \"#{greeting},#{name}\" end; IO.inspect greet.(\"Hello\",\"Sean\")'\n",
        "!elixir -e 'greeting = \"Hello\"; greet = fn (^greeting, name) -> \"Hi #{name}\"; (greeting, name) -> \"#{greeting},#{name}\" end; IO.inspect greet.(\"Mornin\",\"Sean\")'"
      ],
      "execution_count": 40,
      "outputs": [
        {
          "output_type": "stream",
          "text": [
            "\"Hello\"\n",
            "#Function<12.99386804/2 in :erl_eval.expr/5>\n",
            "\"Hi Sean\"\n",
            "\"Mornin,Sean\"\n"
          ],
          "name": "stdout"
        }
      ]
    },
    {
      "cell_type": "markdown",
      "metadata": {
        "id": "F0vzrD-YSRiO"
      },
      "source": [
        "# いまここ"
      ]
    },
    {
      "cell_type": "markdown",
      "metadata": {
        "id": "ApkBxRTzSJuh"
      },
      "source": [
        "# 制御構造 control structure\n",
        "\n",
        "* if と unless\n",
        "* case\n",
        "* cond\n",
        "* with"
      ]
    },
    {
      "cell_type": "markdown",
      "metadata": {
        "id": "Uutvm8_BUOTu"
      },
      "source": [
        "if と unless \n",
        "\n",
        "elixir の if と unless は ruby と同じ。\n",
        "\n",
        "elixir は if と unless はマクロとして定義されている。\n",
        "\n",
        "この実装は kernel module で知ることができる。\n",
        "\n",
        "elixir では偽とみなされる値は nil と真理値の false だけだということに留意。"
      ]
    },
    {
      "cell_type": "code",
      "metadata": {
        "id": "Z43eR8Muc03m"
      },
      "source": [
        "iex> if String.valid?(\"Hello\") do\n",
        "...>   \"Valid string!\"\n",
        "...> else\n",
        "...>   \"Invalid string.\"\n",
        "...> end\n",
        "\"Valid string!\"\n",
        "\n",
        "iex> if \"a string value\" do\n",
        "...>   \"Truthy\"\n",
        "...> end\n",
        "\"Truthy\"\n",
        "unless/2 は if/2 のように使いますが、条件が否定される時だけ作用します:\n",
        "\n",
        "Copy\n",
        "iex> unless is_integer(\"hello\") do\n",
        "...>   \"Not an Int\"\n",
        "...> end\n",
        "\"Not an Int\"\n",
        "case \n",
        "複数のパターンに対してマッチする必要があるなら、 case/2 を使うことができます:\n",
        "\n",
        "Copy\n",
        "iex> case {:ok, \"Hello World\"} do\n",
        "...>   {:ok, result} -> result\n",
        "...>   {:error} -> \"Uh oh!\"\n",
        "...>   _ -> \"Catch all\"\n",
        "...> end\n",
        "\"Hello World\"\n",
        "_ 変数は case/2 命令文の中に含まれる重要な要素です。これが無いと、マッチするものが見あたらない場合にエラーが発生します:\n",
        "\n",
        "Copy\n",
        "iex> case :even do\n",
        "...>   :odd -> \"Odd\"\n",
        "...> end\n",
        "** (CaseClauseError) no case clause matching: :even\n",
        "\n",
        "iex> case :even do\n",
        "...>   :odd -> \"Odd\"\n",
        "...>   _ -> \"Not Odd\"\n",
        "...> end\n",
        "\"Not Odd\"\n",
        "_ を”他の全て”にマッチする else と考えましょう。\n",
        "\n",
        "case/2 はパターンマッチングに依存しているため、パターンマッチングと同じルールや制限が全て適用されます。既存の変数に対してマッチさせようという場合にはピン ^ 演算子を使わなくてはいけません:\n",
        "\n",
        "Copy\n",
        "iex> pie = 3.14\n",
        "3.14\n",
        "iex> case \"cherry pie\" do\n",
        "...>   ^pie -> \"Not so tasty\"\n",
        "...>   pie -> \"I bet #{pie} is tasty\"\n",
        "...> end\n",
        "\"I bet cherry pie is tasty\"\n",
        "case/2 のもう1つの素晴らしい特徴として、ガード節に対応していることがあげられます:\n",
        "\n",
        "この例は公式のElixirのGetting Startedガイドから直接持ってきています。\n",
        "\n",
        "Copy\n",
        "iex> case {1, 2, 3} do\n",
        "...>   {1, x, 3} when x > 0 ->\n",
        "...>     \"Will match\"\n",
        "...>   _ ->\n",
        "...>     \"Won't match\"\n",
        "...> end\n",
        "\"Will match\"\n",
        "公式ドキュメントからExpressions allowed in guard clausesを読んでみてください。\n",
        "\n",
        "cond \n",
        "値ではなく、条件をマッチさせる必要がある時には、 cond/1 を使うことができます。これは他の言語でいうところの else if や elsif のようなものです:\n",
        "\n",
        "この例は公式のElixirのGetting Startedガイドから直接持ってきています。\n",
        "\n",
        "Copy\n",
        "iex> cond do\n",
        "...>   2 + 2 == 5 ->\n",
        "...>     \"This will not be true\"\n",
        "...>   2 * 2 == 3 ->\n",
        "...>     \"Nor this\"\n",
        "...>   1 + 1 == 2 ->\n",
        "...>     \"But this will\"\n",
        "...> end\n",
        "\"But this will\"\n",
        "case のように、 cond はマッチしない場合にエラーを発生させます。これに対処するには、 true になる条件を定義すればよいです:\n",
        "\n",
        "Copy\n",
        "iex> cond do\n",
        "...>   7 + 1 == 0 -> \"Incorrect\"\n",
        "...>   true -> \"Catch all\"\n",
        "...> end\n",
        "\"Catch all\"\n",
        "with \n",
        "特殊形式の with/1 はネストされた case/2 文を使うような時やきれいにパイプできない状況に便利です。 with/1 式はキーワード, ジェネレータ, そして式から成り立っています。\n",
        "\n",
        "ジェネレータについてはリスト内包表記のレッスンでより詳しく述べますが、今は <- の右側と左側を比べるのにパターンマッチングが使われることを知っておくだけでよいです。\n",
        "\n",
        "with/1 の簡単な例から始め、その後さらなる例を見てみましょう:\n",
        "\n",
        "Copy\n",
        "iex> user = %{first: \"Sean\", last: \"Callan\"}\n",
        "%{first: \"Sean\", last: \"Callan\"}\n",
        "iex> with {:ok, first} <- Map.fetch(user, :first),\n",
        "...>      {:ok, last} <- Map.fetch(user, :last),\n",
        "...>      do: last <> \", \" <> first\n",
        "\"Callan, Sean\"\n",
        "式がマッチに失敗した場合はマッチしない値が返されます:\n",
        "\n",
        "Copy\n",
        "iex> user = %{first: \"doomspork\"}\n",
        "%{first: \"doomspork\"}\n",
        "iex> with {:ok, first} <- Map.fetch(user, :first),\n",
        "...>      {:ok, last} <- Map.fetch(user, :last),\n",
        "...>      do: last <> \", \" <> first\n",
        ":error\n",
        "それでは、 with/1 を使わない長めの例と、それをどのようにリファクタリングできるかを見てみましょう:\n",
        "\n",
        "Copy\n",
        "case Repo.insert(changeset) do\n",
        "  {:ok, user} ->\n",
        "    case Guardian.encode_and_sign(user, :token, claims) do\n",
        "      {:ok, jwt, full_claims} ->\n",
        "        important_stuff(jwt, full_claims)\n",
        "\n",
        "      error ->\n",
        "        error\n",
        "    end\n",
        "\n",
        "  error ->\n",
        "    error\n",
        "end\n",
        "with/1 を導入するとコードが短く、わかりやすくなります:\n",
        "\n",
        "Copy\n",
        "with {:ok, user} <- Repo.insert(changeset),\n",
        "     {:ok, jwt, full_claims} <- Guardian.encode_and_sign(user, :token, claims),\n",
        "     do: important_stuff(jwt, full_claims)\n",
        "Elixir 1.3からは with/1 で else を使えます:\n",
        "\n",
        "Copy\n",
        "import Integer\n",
        "\n",
        "m = %{a: 1, c: 3}\n",
        "\n",
        "a =\n",
        "  with {:ok, number} <- Map.fetch(m, :a),\n",
        "    true <- is_even(number) do\n",
        "      IO.puts \"#{number} divided by 2 is #{div(number, 2)}\"\n",
        "      :even\n",
        "  else\n",
        "    :error ->\n",
        "      IO.puts(\"We don't have this item in map\")\n",
        "      :error\n",
        "\n",
        "    _ ->\n",
        "      IO.puts(\"It is odd\")\n",
        "      :odd\n",
        "  end\n",
        "これは case のようなパターンマッチングを提供することで、エラーを扱いやすくします。渡されるのはマッチングに失敗した最初の表現式の値です。\n",
        "\n",
        "Caught a mistake or want to contribute to the lesson? Edit this page on GitHub!\n",
        "← パターンマッチング\n",
        "関数 →\n",
        "bg bn de en es fr gr id it ja ko ms no pl pt ru sk ta th tr uk vi zh-hans zh-hant\n",
        "Elixir 1.10.1 - Erlang/OTP 22.0 [erts-10.5.3]\n",
        "Menu\n",
        "プログラミング言語Elixirのレッスン\n",
        "© 2021 Sean Callan All rights reserved.\n",
        "\n",
        "Toggle"
      ],
      "execution_count": null,
      "outputs": []
    }
  ]
}