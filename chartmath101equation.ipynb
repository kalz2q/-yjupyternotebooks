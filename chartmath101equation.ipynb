{
  "nbformat": 4,
  "nbformat_minor": 0,
  "metadata": {
    "colab": {
      "name": "chartmath101equation.ipynb",
      "provenance": [],
      "toc_visible": true,
      "authorship_tag": "ABX9TyOFTVk9aRB53DqKYyHoNXpS",
      "include_colab_link": true
    },
    "kernelspec": {
      "name": "python3",
      "display_name": "Python 3"
    }
  },
  "cells": [
    {
      "cell_type": "markdown",
      "metadata": {
        "id": "view-in-github",
        "colab_type": "text"
      },
      "source": [
        "<a href=\"https://colab.research.google.com/github/kalz2q/mycolabnotebooks/blob/master/chartmath101equation.ipynb\" target=\"_parent\"><img src=\"https://colab.research.google.com/assets/colab-badge.svg\" alt=\"Open In Colab\"/></a>"
      ]
    },
    {
      "cell_type": "code",
      "metadata": {
        "id": "wR5OuSSlt1cZ"
      },
      "source": [
        ""
      ],
      "execution_count": null,
      "outputs": []
    },
    {
      "cell_type": "markdown",
      "metadata": {
        "id": "P4kVFKYdt2jO"
      },
      "source": [
        "メモ\n",
        "\n",
        "チャート式数学を Colab に写経するプロジェクト。"
      ]
    },
    {
      "cell_type": "markdown",
      "metadata": {
        "id": "A-_PdSWZuUxn"
      },
      "source": [
        " # 数学Ⅰ\n",
        "\n",
        " # 第1章 方程式と不等式"
      ]
    },
    {
      "cell_type": "markdown",
      "metadata": {
        "id": "ozBHB9O_u4fr"
      },
      "source": [
        "### 1.1 式の計算"
      ]
    },
    {
      "cell_type": "markdown",
      "metadata": {
        "id": "F5aBs4FkvKiu"
      },
      "source": [
        ""
      ]
    }
  ]
}