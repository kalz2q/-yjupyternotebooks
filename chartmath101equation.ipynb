{
  "nbformat": 4,
  "nbformat_minor": 0,
  "metadata": {
    "colab": {
      "name": "chartmath101equation.ipynb",
      "provenance": [],
      "toc_visible": true,
      "authorship_tag": "ABX9TyMErAwCO5HkJoMntI3G60z7",
      "include_colab_link": true
    },
    "kernelspec": {
      "name": "python3",
      "display_name": "Python 3"
    }
  },
  "cells": [
    {
      "cell_type": "markdown",
      "metadata": {
        "id": "view-in-github",
        "colab_type": "text"
      },
      "source": [
        "<a href=\"https://colab.research.google.com/github/kalz2q/mycolabnotebooks/blob/master/chartmath101equation.ipynb\" target=\"_parent\"><img src=\"https://colab.research.google.com/assets/colab-badge.svg\" alt=\"Open In Colab\"/></a>"
      ]
    },
    {
      "cell_type": "markdown",
      "metadata": {
        "id": "P4kVFKYdt2jO"
      },
      "source": [
        "# メモ\n",
        "\n",
        "チャート式数学を Colab に写経するプロジェクト。\n",
        "\n",
        "これは数学 $\\mathrm I$。青チャート。基本事項のところを写経する。使う道具は、Clabのマークダウンの中の LaTeX(MathJax)、コードセルでの%%LatexとPython。グラフはmatplotlib。とか。"
      ]
    },
    {
      "cell_type": "markdown",
      "metadata": {
        "id": "A-_PdSWZuUxn"
      },
      "source": [
        " # 第1章 方程式と不等式"
      ]
    },
    {
      "cell_type": "markdown",
      "metadata": {
        "id": "ozBHB9O_u4fr"
      },
      "source": [
        "### 1.1 式の計算"
      ]
    },
    {
      "cell_type": "markdown",
      "metadata": {
        "id": "aCeMVKViCAaY"
      },
      "source": [
        "### 1.1.1 多項式 polynomial\n",
        "\n"
      ]
    },
    {
      "cell_type": "markdown",
      "metadata": {
        "id": "UP7_LX44CE1r"
      },
      "source": [
        "1. 数や文字だけの積の形を単項式と言う。単項式の和として表される式を多項式という。\n",
        "\n",
        "1. 文字の部分が同じな項を同類項という\n",
        "\n",
        "1. 単項式の数の部分を係数、文字の指数の和を次数といい、次数が $n$ のとき $n$ 次式という。次数が $0$ の項を定数項という。\n",
        "\n"
      ]
    },
    {
      "cell_type": "markdown",
      "metadata": {
        "id": "F5aBs4FkvKiu"
      },
      "source": [
        "### 1.1.2 多項式の加法・減法と乗法\n",
        "\n",
        "1. 多項式の計算における基本法則\n",
        "  * 交換法則 $\\quad A+B=B+A,\\quad AB=BA$   \n",
        "  * 結合法則 $\\quad (A+B) + C = A+(B+C), \\quad (AB)C=A(BC)$  \n",
        "  * 分配法則 $\\quad A(B+C)=AB+ AC,\\quad (A+B)C=AC+BC$\n",
        "\n",
        "1. 指数法則\n",
        "\n",
        "  * $a^ma^n= a^{m+n}$  \n",
        "  * $(a^m)^n = a^{mn}$  \n",
        "  * $(ab)^n = a^n b^n$  \n",
        "\n",
        "\n"
      ]
    },
    {
      "cell_type": "code",
      "metadata": {
        "id": "7gPm5SLkEg32"
      },
      "source": [
        ""
      ],
      "execution_count": null,
      "outputs": []
    }
  ]
}