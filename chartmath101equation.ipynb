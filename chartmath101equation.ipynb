{
  "nbformat": 4,
  "nbformat_minor": 0,
  "metadata": {
    "colab": {
      "name": "chartmath101equation.ipynb",
      "provenance": [],
      "toc_visible": true,
      "authorship_tag": "ABX9TyNSJ8BTyAxPhxHPXkk9rQIs",
      "include_colab_link": true
    },
    "kernelspec": {
      "name": "python3",
      "display_name": "Python 3"
    }
  },
  "cells": [
    {
      "cell_type": "markdown",
      "metadata": {
        "id": "view-in-github",
        "colab_type": "text"
      },
      "source": [
        "<a href=\"https://colab.research.google.com/github/kalz2q/mycolabnotebooks/blob/master/chartmath101equation.ipynb\" target=\"_parent\"><img src=\"https://colab.research.google.com/assets/colab-badge.svg\" alt=\"Open In Colab\"/></a>"
      ]
    },
    {
      "cell_type": "markdown",
      "metadata": {
        "id": "P4kVFKYdt2jO"
      },
      "source": [
        "# メモ\n",
        "\n",
        "チャート式数学を Colab に写経するプロジェクト。\n",
        "\n",
        "これは数学 Ⅰ。青チャート。 第1章 方程式と不等式"
      ]
    },
    {
      "cell_type": "markdown",
      "metadata": {
        "id": "ozBHB9O_u4fr"
      },
      "source": [
        "# 式の計算"
      ]
    },
    {
      "cell_type": "markdown",
      "metadata": {
        "id": "UP7_LX44CE1r"
      },
      "source": [
        "**多項式 polynomial**\n",
        "\n",
        "1. 数や文字だけの積の形を単項式と言う。単項式の和として表される式を多項式と言う。\n",
        "\n",
        "1. 文字の部分が同じな項を同類項と言う\n",
        "\n",
        "1. 単項式の数の部分を係数、文字の指数の和を次数といい、次数が $n$ のとき $n$ 次式と言う。次数が 0 の項を定数項と言う。\n",
        "\n"
      ]
    },
    {
      "cell_type": "markdown",
      "metadata": {
        "id": "F5aBs4FkvKiu"
      },
      "source": [
        "**多項式の加法・減法と乗法**\n",
        "\n",
        "1. 多項式の計算における基本法則\n",
        "  - 交換法則 $\\quad A+B=B+A,\\quad AB=BA$   \n",
        "  - 結合法則 $\\quad (A+B) + C = A+(B+C), \\quad (AB)C=A(BC)$  \n",
        "  - 分配法則 $\\quad A(B+C)=AB+ AC,\\quad (A+B)C=AC+BC$\n",
        "\n",
        "cf. commutative law, associative law, distributive law\n",
        "\n",
        "1. 指数法則\n",
        "\n",
        "  - $a^ma^n= a^{m+n}$  \n",
        "  - $(a^m)^n = a^{mn}$  \n",
        "  - $(ab)^n = a^n b^n$  \n",
        "\n",
        "\n"
      ]
    },
    {
      "cell_type": "markdown",
      "metadata": {
        "id": "WFwEVbk3uaCv"
      },
      "source": [
        "多項式でないもの\n",
        "\n",
        "$\\quad \\quad \\displaystyle \\frac{1}{x+1},~x+\\frac{3}{x},~\\sqrt{x^2+1},~x^2-2\\sqrt{x}-\\sqrt5$\n",
        "\n",
        "多項式の整理 $\\quad$ 項の次数の高いものから順に並べる $\\cdots\\cdots$ 降冪 (こうべき)\n",
        "\n"
      ]
    },
    {
      "cell_type": "markdown",
      "metadata": {
        "id": "OQnPAxFCY3xo"
      },
      "source": [
        "**基本例題 1**\n",
        "\n",
        "次の多項式の同類項をまとめて整理する。 また 2, 3 の多項式において、[  ] 内の文字に着目したとき、その次数と定数項はなにか。\n",
        "\n",
        "1. $3x^2+2x-6-4x^2+3x+2$\n",
        "\n",
        "1. $2a^2-ab-b^2+4ab+3a^2+2b^2$ $\\quad [b]$\n",
        "\n",
        "1. $x^2-2ax^2y+4xy-3by+y^2+2xy-2by+4a$ $\\quad [x と y], [y]$"
      ]
    },
    {
      "cell_type": "markdown",
      "metadata": {
        "id": "RDzTcp_Vf2dU"
      },
      "source": [
        "**解答**\n",
        "\n",
        "1. $-x^2+5x-4$\n",
        "\n",
        "1. $5a^2+3ab+b^2$\n",
        "\n",
        "3. $x^3 - 2ax^2y +6xy + y^2 -5by +4a$  \n",
        "$x$ と $y$ に着目すると $\\quad$ 次数 3, 定数項 $4a$   \n",
        "更に、$y$に着目すると $y^2+(-2ax^2+6x-5b)y+x^3+4a$ より  \n",
        "$\\quad$ 次数 2, 定数項 $x^2+4a$  \n"
      ]
    },
    {
      "cell_type": "markdown",
      "metadata": {
        "id": "Yg0w6HRPllg0"
      },
      "source": [
        "# 多項式の加法・減法と乗法\n",
        "\n",
        "多項式の計算における基本法則\n",
        "\n",
        "$\n",
        "\\begin{array}{lccc}\n",
        "&加法  &|& 乗法 \\\\\n",
        "交換法則 & A+B=B+A &|& AB=BA \\\\\n",
        "結合法則 & (A+B)+C=A+(B+C) &|& (AB)C = A(BC)\n",
        "\\end{array}\n",
        "$\n",
        "\n",
        "分配法則 $\\quad A(B+C)=AB+AC, (A+B)C = AC+BC$\n",
        "\n",
        "1. 指数法則\n",
        "\n",
        "  - $a^ma^n= a^{m+n}$  \n",
        "  - $(a^m)^n = a^{mn}$  \n",
        "  - $(ab)^n = a^n b^n$  \n"
      ]
    },
    {
      "cell_type": "markdown",
      "metadata": {
        "id": "3lgO2KPGjH2f"
      },
      "source": [
        "**展開の公式**\n",
        "\n",
        "$(a+b)^2 = a^2+2ab+b^2$\n",
        "\n",
        "$(a-b)^2 = a^2-2ab+b^2$\n",
        "\n",
        "$(a+b)(a-b)=a^2-b^2$\n",
        "\n",
        "$(x+a)(x+b)=x^2+(a+b)x+ab$\n",
        "\n",
        "$(ax+b)(cx+d)=acx^2+(ad+bc)x+bd$\n",
        "\n",
        "$(a+b)(a^2-ab+b^2)=a^3+b^3$\n",
        "\n",
        "$(a-b)(a^2+ab+b^2)=a^3-b^3$\n",
        "\n",
        "$(a+b)^3=a^3+3a^2b+3ab^2+b^3$\n",
        "\n",
        "$(a-b)^3=a^3-3a^2b+3ab^2-b^3$\n"
      ]
    },
    {
      "cell_type": "code",
      "metadata": {
        "id": "xs6cPTORvZjr",
        "colab": {
          "base_uri": "https://localhost:8080/",
          "height": 145
        },
        "outputId": "d26ab02d-192c-4246-fd71-68d03d93fb7b"
      },
      "source": [
        "from sympy import *\n",
        "a,b=symbols(\"a,b\")\n",
        "exp=(a+b)\n",
        "exp2=(a-b)\n",
        "display(exp**3)\n",
        "display(expand(exp**3))\n",
        "display(exp2**3)\n",
        "display(expand(exp2**3))\n",
        "display(exp*exp2)\n",
        "display(expand(exp*exp2))"
      ],
      "execution_count": null,
      "outputs": [
        {
          "output_type": "display_data",
          "data": {
            "text/latex": "$\\displaystyle \\left(a + b\\right)^{3}$",
            "text/plain": [
              "(a + b)**3"
            ]
          },
          "metadata": {
            "tags": []
          }
        },
        {
          "output_type": "display_data",
          "data": {
            "text/latex": "$\\displaystyle a^{3} + 3 a^{2} b + 3 a b^{2} + b^{3}$",
            "text/plain": [
              "a**3 + 3*a**2*b + 3*a*b**2 + b**3"
            ]
          },
          "metadata": {
            "tags": []
          }
        },
        {
          "output_type": "display_data",
          "data": {
            "text/latex": "$\\displaystyle \\left(a - b\\right)^{3}$",
            "text/plain": [
              "(a - b)**3"
            ]
          },
          "metadata": {
            "tags": []
          }
        },
        {
          "output_type": "display_data",
          "data": {
            "text/latex": "$\\displaystyle a^{3} - 3 a^{2} b + 3 a b^{2} - b^{3}$",
            "text/plain": [
              "a**3 - 3*a**2*b + 3*a*b**2 - b**3"
            ]
          },
          "metadata": {
            "tags": []
          }
        },
        {
          "output_type": "display_data",
          "data": {
            "text/latex": "$\\displaystyle \\left(a - b\\right) \\left(a + b\\right)$",
            "text/plain": [
              "(a - b)*(a + b)"
            ]
          },
          "metadata": {
            "tags": []
          }
        },
        {
          "output_type": "display_data",
          "data": {
            "text/latex": "$\\displaystyle a^{2} - b^{2}$",
            "text/plain": [
              "a**2 - b**2"
            ]
          },
          "metadata": {
            "tags": []
          }
        }
      ]
    },
    {
      "cell_type": "code",
      "metadata": {
        "id": "kv5_WQzQi_mD",
        "colab": {
          "base_uri": "https://localhost:8080/",
          "height": 186
        },
        "outputId": "c7bed274-d7bf-4087-f9f8-2649f65fce83"
      },
      "source": [
        "# 基本例題 p.13\n",
        "from sympy.abc import *\n",
        "from sympy import *\n",
        "A = x**2+3*y**2 - 2*x*y\n",
        "display(A)\n",
        "B=y**2+3*x*y - 2*x**2\n",
        "display(B)\n",
        "C=-3*x**2+x*y - 4*y**2\n",
        "display(C)\n",
        "print()\n",
        "display(A+B)\n",
        "display(A-B)\n",
        "display(-3*A+2*B-C)\n",
        "display(3*(2*A+C)-2*(2*(A+C)-(B-C)))"
      ],
      "execution_count": null,
      "outputs": [
        {
          "output_type": "display_data",
          "data": {
            "text/latex": "$\\displaystyle x^{2} - 2 x y + 3 y^{2}$",
            "text/plain": [
              "x**2 - 2*x*y + 3*y**2"
            ]
          },
          "metadata": {
            "tags": []
          }
        },
        {
          "output_type": "display_data",
          "data": {
            "text/latex": "$\\displaystyle - 2 x^{2} + 3 x y + y^{2}$",
            "text/plain": [
              "-2*x**2 + 3*x*y + y**2"
            ]
          },
          "metadata": {
            "tags": []
          }
        },
        {
          "output_type": "display_data",
          "data": {
            "text/latex": "$\\displaystyle - 3 x^{2} + x y - 4 y^{2}$",
            "text/plain": [
              "-3*x**2 + x*y - 4*y**2"
            ]
          },
          "metadata": {
            "tags": []
          }
        },
        {
          "output_type": "stream",
          "text": [
            "\n"
          ],
          "name": "stdout"
        },
        {
          "output_type": "display_data",
          "data": {
            "text/latex": "$\\displaystyle - x^{2} + x y + 4 y^{2}$",
            "text/plain": [
              "-x**2 + x*y + 4*y**2"
            ]
          },
          "metadata": {
            "tags": []
          }
        },
        {
          "output_type": "display_data",
          "data": {
            "text/latex": "$\\displaystyle 3 x^{2} - 5 x y + 2 y^{2}$",
            "text/plain": [
              "3*x**2 - 5*x*y + 2*y**2"
            ]
          },
          "metadata": {
            "tags": []
          }
        },
        {
          "output_type": "display_data",
          "data": {
            "text/latex": "$\\displaystyle - 4 x^{2} + 11 x y - 3 y^{2}$",
            "text/plain": [
              "-4*x**2 + 11*x*y - 3*y**2"
            ]
          },
          "metadata": {
            "tags": []
          }
        },
        {
          "output_type": "display_data",
          "data": {
            "text/latex": "$\\displaystyle 7 x^{2} - x y + 20 y^{2}$",
            "text/plain": [
              "7*x**2 - x*y + 20*y**2"
            ]
          },
          "metadata": {
            "tags": []
          }
        }
      ]
    },
    {
      "cell_type": "code",
      "metadata": {
        "id": "kQE3_AGExxl9",
        "colab": {
          "base_uri": "https://localhost:8080/",
          "height": 101
        },
        "outputId": "998fc529-abbe-4a25-cf39-2e34d1dd9ef2"
      },
      "source": [
        "# 基本例題 3 (1) p.14\n",
        "from sympy.abc import *\n",
        "from sympy import *\n",
        "expr1 = (-x*y**2)**2\n",
        "expr2 = (-3*x**2*y)\n",
        "display (expr1)\n",
        "display (expr2)\n",
        "print()\n",
        "display(expr1*expr2)"
      ],
      "execution_count": null,
      "outputs": [
        {
          "output_type": "display_data",
          "data": {
            "text/latex": "$\\displaystyle x^{2} y^{4}$",
            "text/plain": [
              "x**2*y**4"
            ]
          },
          "metadata": {
            "tags": []
          }
        },
        {
          "output_type": "display_data",
          "data": {
            "text/latex": "$\\displaystyle - 3 x^{2} y$",
            "text/plain": [
              "-3*x**2*y"
            ]
          },
          "metadata": {
            "tags": []
          }
        },
        {
          "output_type": "stream",
          "text": [
            "\n"
          ],
          "name": "stdout"
        },
        {
          "output_type": "display_data",
          "data": {
            "text/latex": "$\\displaystyle - 3 x^{4} y^{5}$",
            "text/plain": [
              "-3*x**4*y**5"
            ]
          },
          "metadata": {
            "tags": []
          }
        }
      ]
    },
    {
      "cell_type": "code",
      "metadata": {
        "id": "M6p3zuxXRUlg",
        "colab": {
          "base_uri": "https://localhost:8080/",
          "height": 101
        },
        "outputId": "76c6f7b7-7e44-4278-bbc0-2de35e933a76"
      },
      "source": [
        "# 基本例題 3 (2) p.14\n",
        "from sympy.abc import *\n",
        "from sympy import *\n",
        "expr1 = -a**2*b\n",
        "expr2 = (-3*a**2*b*c**2)**3\n",
        "display (expr1)\n",
        "display (expr2)\n",
        "print()\n",
        "display(expr1*expr2)"
      ],
      "execution_count": null,
      "outputs": [
        {
          "output_type": "display_data",
          "data": {
            "text/latex": "$\\displaystyle - a^{2} b$",
            "text/plain": [
              "-a**2*b"
            ]
          },
          "metadata": {
            "tags": []
          }
        },
        {
          "output_type": "display_data",
          "data": {
            "text/latex": "$\\displaystyle - 27 a^{6} b^{3} c^{6}$",
            "text/plain": [
              "-27*a**6*b**3*c**6"
            ]
          },
          "metadata": {
            "tags": []
          }
        },
        {
          "output_type": "stream",
          "text": [
            "\n"
          ],
          "name": "stdout"
        },
        {
          "output_type": "display_data",
          "data": {
            "text/latex": "$\\displaystyle 27 a^{8} b^{4} c^{6}$",
            "text/plain": [
              "27*a**8*b**4*c**6"
            ]
          },
          "metadata": {
            "tags": []
          }
        }
      ]
    },
    {
      "cell_type": "code",
      "metadata": {
        "id": "MbJPk7zQRlLQ",
        "colab": {
          "base_uri": "https://localhost:8080/",
          "height": 101
        },
        "outputId": "1a5e7938-908c-4679-de9b-99f0431cb600"
      },
      "source": [
        "# 基本例題 3 (3) p.14\n",
        "from sympy.abc import *\n",
        "from sympy import *\n",
        "expr1 = 3*a*b*c\n",
        "expr2 = a+4*b-2*c\n",
        "display (expr1)\n",
        "display (expr2)\n",
        "print()\n",
        "display(expand(expr1*expr2))"
      ],
      "execution_count": null,
      "outputs": [
        {
          "output_type": "display_data",
          "data": {
            "text/latex": "$\\displaystyle 3 a b c$",
            "text/plain": [
              "3*a*b*c"
            ]
          },
          "metadata": {
            "tags": []
          }
        },
        {
          "output_type": "display_data",
          "data": {
            "text/latex": "$\\displaystyle a + 4 b - 2 c$",
            "text/plain": [
              "a + 4*b - 2*c"
            ]
          },
          "metadata": {
            "tags": []
          }
        },
        {
          "output_type": "stream",
          "text": [
            "\n"
          ],
          "name": "stdout"
        },
        {
          "output_type": "display_data",
          "data": {
            "text/latex": "$\\displaystyle 3 a^{2} b c + 12 a b^{2} c - 6 a b c^{2}$",
            "text/plain": [
              "3*a**2*b*c + 12*a*b**2*c - 6*a*b*c**2"
            ]
          },
          "metadata": {
            "tags": []
          }
        }
      ]
    },
    {
      "cell_type": "code",
      "metadata": {
        "id": "odlwTrGXR0bK",
        "colab": {
          "base_uri": "https://localhost:8080/",
          "height": 101
        },
        "outputId": "c8443db0-5563-4378-d0ab-e99016b11aeb"
      },
      "source": [
        "# 基本例題 3 (4) p.14\n",
        "from sympy.abc import *\n",
        "from sympy import *\n",
        "expr1 = (-x*y)**2\n",
        "expr2 = 3*x**2 - 2*y -4\n",
        "display (expr1)\n",
        "display (expr2)\n",
        "print()\n",
        "display(expand(expr1*expr2))"
      ],
      "execution_count": null,
      "outputs": [
        {
          "output_type": "display_data",
          "data": {
            "text/latex": "$\\displaystyle x^{2} y^{2}$",
            "text/plain": [
              "x**2*y**2"
            ]
          },
          "metadata": {
            "tags": []
          }
        },
        {
          "output_type": "display_data",
          "data": {
            "text/latex": "$\\displaystyle 3 x^{2} - 2 y - 4$",
            "text/plain": [
              "3*x**2 - 2*y - 4"
            ]
          },
          "metadata": {
            "tags": []
          }
        },
        {
          "output_type": "stream",
          "text": [
            "\n"
          ],
          "name": "stdout"
        },
        {
          "output_type": "display_data",
          "data": {
            "text/latex": "$\\displaystyle 3 x^{4} y^{2} - 2 x^{2} y^{3} - 4 x^{2} y^{2}$",
            "text/plain": [
              "3*x**4*y**2 - 2*x**2*y**3 - 4*x**2*y**2"
            ]
          },
          "metadata": {
            "tags": []
          }
        }
      ]
    },
    {
      "cell_type": "code",
      "metadata": {
        "id": "rcbVfwKISYdy",
        "colab": {
          "base_uri": "https://localhost:8080/",
          "height": 101
        },
        "outputId": "45b10afd-2f36-4867-c817-5e1babe0ffd1"
      },
      "source": [
        "# 練習 (1) p.14\n",
        "from sympy.abc import *\n",
        "from sympy import *\n",
        "expr1 = (-a*b)**2\n",
        "expr2 = -2*a**3*b\n",
        "display (expr1)\n",
        "display (expr2)\n",
        "print()\n",
        "display(expand(expr1*expr2))"
      ],
      "execution_count": null,
      "outputs": [
        {
          "output_type": "display_data",
          "data": {
            "text/latex": "$\\displaystyle a^{2} b^{2}$",
            "text/plain": [
              "a**2*b**2"
            ]
          },
          "metadata": {
            "tags": []
          }
        },
        {
          "output_type": "display_data",
          "data": {
            "text/latex": "$\\displaystyle - 2 a^{3} b$",
            "text/plain": [
              "-2*a**3*b"
            ]
          },
          "metadata": {
            "tags": []
          }
        },
        {
          "output_type": "stream",
          "text": [
            "\n"
          ],
          "name": "stdout"
        },
        {
          "output_type": "display_data",
          "data": {
            "text/latex": "$\\displaystyle - 2 a^{5} b^{3}$",
            "text/plain": [
              "-2*a**5*b**3"
            ]
          },
          "metadata": {
            "tags": []
          }
        }
      ]
    },
    {
      "cell_type": "code",
      "metadata": {
        "id": "haMy4fqpSqmj",
        "colab": {
          "base_uri": "https://localhost:8080/",
          "height": 101
        },
        "outputId": "79214f76-a5d4-4bcd-8845-b9252864f3a9"
      },
      "source": [
        "# 練習 (2) p.14\n",
        "from sympy.abc import *\n",
        "from sympy import *\n",
        "expr1 = -2*x**4*y**2*z**3\n",
        "expr2 = -3*x**2*y**2*z**4\n",
        "display (expr1)\n",
        "display (expr2)\n",
        "print()\n",
        "display(expand(expr1*expr2))"
      ],
      "execution_count": null,
      "outputs": [
        {
          "output_type": "display_data",
          "data": {
            "text/latex": "$\\displaystyle - 2 x^{4} y^{2} z^{3}$",
            "text/plain": [
              "-2*x**4*y**2*z**3"
            ]
          },
          "metadata": {
            "tags": []
          }
        },
        {
          "output_type": "display_data",
          "data": {
            "text/latex": "$\\displaystyle - 3 x^{2} y^{2} z^{4}$",
            "text/plain": [
              "-3*x**2*y**2*z**4"
            ]
          },
          "metadata": {
            "tags": []
          }
        },
        {
          "output_type": "stream",
          "text": [
            "\n"
          ],
          "name": "stdout"
        },
        {
          "output_type": "display_data",
          "data": {
            "text/latex": "$\\displaystyle 6 x^{6} y^{4} z^{7}$",
            "text/plain": [
              "6*x**6*y**4*z**7"
            ]
          },
          "metadata": {
            "tags": []
          }
        }
      ]
    },
    {
      "cell_type": "code",
      "metadata": {
        "id": "-Z8VN044S6KB",
        "colab": {
          "base_uri": "https://localhost:8080/",
          "height": 101
        },
        "outputId": "b5f1d068-7135-4cd3-ca18-a4d59e956a2a"
      },
      "source": [
        "# 練習 (3) p.14\n",
        "from sympy.abc import *\n",
        "from sympy import *\n",
        "expr1 = 2*a**2*b*c\n",
        "expr2 = a-3*b**2+2*c\n",
        "display (expr1)\n",
        "display (expr2)\n",
        "print()\n",
        "display(expand(expr1*expr2))"
      ],
      "execution_count": null,
      "outputs": [
        {
          "output_type": "display_data",
          "data": {
            "text/latex": "$\\displaystyle 2 a^{2} b c$",
            "text/plain": [
              "2*a**2*b*c"
            ]
          },
          "metadata": {
            "tags": []
          }
        },
        {
          "output_type": "display_data",
          "data": {
            "text/latex": "$\\displaystyle a - 3 b^{2} + 2 c$",
            "text/plain": [
              "a - 3*b**2 + 2*c"
            ]
          },
          "metadata": {
            "tags": []
          }
        },
        {
          "output_type": "stream",
          "text": [
            "\n"
          ],
          "name": "stdout"
        },
        {
          "output_type": "display_data",
          "data": {
            "text/latex": "$\\displaystyle 2 a^{3} b c - 6 a^{2} b^{3} c + 4 a^{2} b c^{2}$",
            "text/plain": [
              "2*a**3*b*c - 6*a**2*b**3*c + 4*a**2*b*c**2"
            ]
          },
          "metadata": {
            "tags": []
          }
        }
      ]
    },
    {
      "cell_type": "code",
      "metadata": {
        "id": "seJ_ef3DTJbB",
        "colab": {
          "base_uri": "https://localhost:8080/",
          "height": 101
        },
        "outputId": "2454beae-ba27-468a-8410-69ad487ffc80"
      },
      "source": [
        "# 練習 (4) p.14\n",
        "from sympy.abc import *\n",
        "from sympy import *\n",
        "expr1 = (-2*x)**3\n",
        "expr2 = 3*x**2-2*x+4\n",
        "display (expr1)\n",
        "display (expr2)\n",
        "print()\n",
        "display(expand(expr1*expr2))"
      ],
      "execution_count": null,
      "outputs": [
        {
          "output_type": "display_data",
          "data": {
            "text/latex": "$\\displaystyle - 8 x^{3}$",
            "text/plain": [
              "-8*x**3"
            ]
          },
          "metadata": {
            "tags": []
          }
        },
        {
          "output_type": "display_data",
          "data": {
            "text/latex": "$\\displaystyle 3 x^{2} - 2 x + 4$",
            "text/plain": [
              "3*x**2 - 2*x + 4"
            ]
          },
          "metadata": {
            "tags": []
          }
        },
        {
          "output_type": "stream",
          "text": [
            "\n"
          ],
          "name": "stdout"
        },
        {
          "output_type": "display_data",
          "data": {
            "text/latex": "$\\displaystyle - 24 x^{5} + 16 x^{4} - 32 x^{3}$",
            "text/plain": [
              "-24*x**5 + 16*x**4 - 32*x**3"
            ]
          },
          "metadata": {
            "tags": []
          }
        }
      ]
    },
    {
      "cell_type": "code",
      "metadata": {
        "id": "K9cNTDyVTcEG",
        "colab": {
          "base_uri": "https://localhost:8080/",
          "height": 101
        },
        "outputId": "00f59960-ff7c-42e9-ce79-bd24f74c4e74"
      },
      "source": [
        "# 基本例題4 (1) p.15\n",
        "from sympy.abc import *\n",
        "from sympy import *\n",
        "expr1 = 2*x-3\n",
        "expr2 = x**2+3*x-4\n",
        "display (expr1)\n",
        "display (expr2)\n",
        "print()\n",
        "display(expand(expr1*expr2))"
      ],
      "execution_count": null,
      "outputs": [
        {
          "output_type": "display_data",
          "data": {
            "text/latex": "$\\displaystyle 2 x - 3$",
            "text/plain": [
              "2*x - 3"
            ]
          },
          "metadata": {
            "tags": []
          }
        },
        {
          "output_type": "display_data",
          "data": {
            "text/latex": "$\\displaystyle x^{2} + 3 x - 4$",
            "text/plain": [
              "x**2 + 3*x - 4"
            ]
          },
          "metadata": {
            "tags": []
          }
        },
        {
          "output_type": "stream",
          "text": [
            "\n"
          ],
          "name": "stdout"
        },
        {
          "output_type": "display_data",
          "data": {
            "text/latex": "$\\displaystyle 2 x^{3} + 3 x^{2} - 17 x + 12$",
            "text/plain": [
              "2*x**3 + 3*x**2 - 17*x + 12"
            ]
          },
          "metadata": {
            "tags": []
          }
        }
      ]
    },
    {
      "cell_type": "code",
      "metadata": {
        "id": "lJyVkqlbTukS",
        "colab": {
          "base_uri": "https://localhost:8080/",
          "height": 101
        },
        "outputId": "67489c3b-6934-4bcb-a195-e5e195bc85d0"
      },
      "source": [
        "# 基本例題4 (2) p.15\n",
        "from sympy.abc import *\n",
        "from sympy import *\n",
        "expr1 = 3*x**3-5*x**2+1\n",
        "expr2 = 1-x+2*x**2\n",
        "display (expr1)\n",
        "display (expr2)\n",
        "print()\n",
        "display(expand(expr1*expr2))"
      ],
      "execution_count": null,
      "outputs": [
        {
          "output_type": "display_data",
          "data": {
            "text/latex": "$\\displaystyle 3 x^{3} - 5 x^{2} + 1$",
            "text/plain": [
              "3*x**3 - 5*x**2 + 1"
            ]
          },
          "metadata": {
            "tags": []
          }
        },
        {
          "output_type": "display_data",
          "data": {
            "text/latex": "$\\displaystyle 2 x^{2} - x + 1$",
            "text/plain": [
              "2*x**2 - x + 1"
            ]
          },
          "metadata": {
            "tags": []
          }
        },
        {
          "output_type": "stream",
          "text": [
            "\n"
          ],
          "name": "stdout"
        },
        {
          "output_type": "display_data",
          "data": {
            "text/latex": "$\\displaystyle 6 x^{5} - 13 x^{4} + 8 x^{3} - 3 x^{2} - x + 1$",
            "text/plain": [
              "6*x**5 - 13*x**4 + 8*x**3 - 3*x**2 - x + 1"
            ]
          },
          "metadata": {
            "tags": []
          }
        }
      ]
    },
    {
      "cell_type": "code",
      "metadata": {
        "id": "wh3uni2PUHYb",
        "colab": {
          "base_uri": "https://localhost:8080/",
          "height": 101
        },
        "outputId": "5ea15254-4dbb-4a57-e038-91f5556f54eb"
      },
      "source": [
        "# 練習4 (1) p.15\n",
        "from sympy.abc import *\n",
        "from sympy import *\n",
        "expr1 = 2*a+3*b\n",
        "expr2 = a-2*b\n",
        "display (expr1)\n",
        "display (expr2)\n",
        "print()\n",
        "display(expand(expr1*expr2))"
      ],
      "execution_count": null,
      "outputs": [
        {
          "output_type": "display_data",
          "data": {
            "text/latex": "$\\displaystyle 2 a + 3 b$",
            "text/plain": [
              "2*a + 3*b"
            ]
          },
          "metadata": {
            "tags": []
          }
        },
        {
          "output_type": "display_data",
          "data": {
            "text/latex": "$\\displaystyle a - 2 b$",
            "text/plain": [
              "a - 2*b"
            ]
          },
          "metadata": {
            "tags": []
          }
        },
        {
          "output_type": "stream",
          "text": [
            "\n"
          ],
          "name": "stdout"
        },
        {
          "output_type": "display_data",
          "data": {
            "text/latex": "$\\displaystyle 2 a^{2} - a b - 6 b^{2}$",
            "text/plain": [
              "2*a**2 - a*b - 6*b**2"
            ]
          },
          "metadata": {
            "tags": []
          }
        }
      ]
    },
    {
      "cell_type": "code",
      "metadata": {
        "id": "zwKQsmMEUYY1",
        "colab": {
          "base_uri": "https://localhost:8080/",
          "height": 101
        },
        "outputId": "cbc03eef-2237-4b59-8f0e-2cdabc390ba3"
      },
      "source": [
        "# 練習4 (2) p.15\n",
        "from sympy.abc import *\n",
        "from sympy import *\n",
        "expr1 = 2*x-3*y-1\n",
        "expr2 = 2*x-y-3\n",
        "display (expr1)\n",
        "display (expr2)\n",
        "print()\n",
        "display(expand(expr1*expr2))"
      ],
      "execution_count": null,
      "outputs": [
        {
          "output_type": "display_data",
          "data": {
            "text/latex": "$\\displaystyle 2 x - 3 y - 1$",
            "text/plain": [
              "2*x - 3*y - 1"
            ]
          },
          "metadata": {
            "tags": []
          }
        },
        {
          "output_type": "display_data",
          "data": {
            "text/latex": "$\\displaystyle 2 x - y - 3$",
            "text/plain": [
              "2*x - y - 3"
            ]
          },
          "metadata": {
            "tags": []
          }
        },
        {
          "output_type": "stream",
          "text": [
            "\n"
          ],
          "name": "stdout"
        },
        {
          "output_type": "display_data",
          "data": {
            "text/latex": "$\\displaystyle 4 x^{2} - 8 x y - 8 x + 3 y^{2} + 10 y + 3$",
            "text/plain": [
              "4*x**2 - 8*x*y - 8*x + 3*y**2 + 10*y + 3"
            ]
          },
          "metadata": {
            "tags": []
          }
        }
      ]
    },
    {
      "cell_type": "code",
      "metadata": {
        "colab": {
          "base_uri": "https://localhost:8080/",
          "height": 101
        },
        "id": "5hf7FMeWsQp9",
        "outputId": "98869bcb-d898-4faf-d840-074ad2fda11a"
      },
      "source": [
        "# 練習4 (3) p.15\n",
        "from sympy.abc import *\n",
        "from sympy import *\n",
        "expr1 = 2*a-3*b\n",
        "expr2 = a**2+4*b**2-3*a*b\n",
        "display (expr1)\n",
        "display (expr2)\n",
        "print()\n",
        "display(expand(expr1*expr2))"
      ],
      "execution_count": null,
      "outputs": [
        {
          "output_type": "display_data",
          "data": {
            "text/latex": "$\\displaystyle 2 a - 3 b$",
            "text/plain": [
              "2*a - 3*b"
            ]
          },
          "metadata": {
            "tags": []
          }
        },
        {
          "output_type": "display_data",
          "data": {
            "text/latex": "$\\displaystyle a^{2} - 3 a b + 4 b^{2}$",
            "text/plain": [
              "a**2 - 3*a*b + 4*b**2"
            ]
          },
          "metadata": {
            "tags": []
          }
        },
        {
          "output_type": "stream",
          "text": [
            "\n"
          ],
          "name": "stdout"
        },
        {
          "output_type": "display_data",
          "data": {
            "text/latex": "$\\displaystyle 2 a^{3} - 9 a^{2} b + 17 a b^{2} - 12 b^{3}$",
            "text/plain": [
              "2*a**3 - 9*a**2*b + 17*a*b**2 - 12*b**3"
            ]
          },
          "metadata": {
            "tags": []
          }
        }
      ]
    },
    {
      "cell_type": "code",
      "metadata": {
        "colab": {
          "base_uri": "https://localhost:8080/",
          "height": 101
        },
        "id": "zvWKzgpTshbz",
        "outputId": "124de22a-dbec-41d2-c208-c4d253455429"
      },
      "source": [
        "# 練習4 (4) p.15\n",
        "from sympy.abc import *\n",
        "from sympy import *\n",
        "expr1 = 3*x+x**3-1\n",
        "expr2 = 2*x**2-x-6\n",
        "display (expr1)\n",
        "display (expr2)\n",
        "print()\n",
        "display(expand(expr1*expr2))"
      ],
      "execution_count": null,
      "outputs": [
        {
          "output_type": "display_data",
          "data": {
            "text/latex": "$\\displaystyle x^{3} + 3 x - 1$",
            "text/plain": [
              "x**3 + 3*x - 1"
            ]
          },
          "metadata": {
            "tags": []
          }
        },
        {
          "output_type": "display_data",
          "data": {
            "text/latex": "$\\displaystyle 2 x^{2} - x - 6$",
            "text/plain": [
              "2*x**2 - x - 6"
            ]
          },
          "metadata": {
            "tags": []
          }
        },
        {
          "output_type": "stream",
          "text": [
            "\n"
          ],
          "name": "stdout"
        },
        {
          "output_type": "display_data",
          "data": {
            "text/latex": "$\\displaystyle 2 x^{5} - x^{4} - 5 x^{2} - 17 x + 6$",
            "text/plain": [
              "2*x**5 - x**4 - 5*x**2 - 17*x + 6"
            ]
          },
          "metadata": {
            "tags": []
          }
        }
      ]
    },
    {
      "cell_type": "code",
      "metadata": {
        "colab": {
          "base_uri": "https://localhost:8080/",
          "height": 80
        },
        "id": "twP128r1st8g",
        "outputId": "be858302-67f2-42b2-f6c3-3e3d920bf139"
      },
      "source": [
        "# 基本例題 5 (1) p.16\n",
        "from sympy.abc import *\n",
        "from sympy import *\n",
        "expr = (a+2)**2\n",
        "display (expr)\n",
        "print()\n",
        "display(expand(expr))"
      ],
      "execution_count": null,
      "outputs": [
        {
          "output_type": "display_data",
          "data": {
            "text/latex": "$\\displaystyle \\left(a + 2\\right)^{2}$",
            "text/plain": [
              "(a + 2)**2"
            ]
          },
          "metadata": {
            "tags": []
          }
        },
        {
          "output_type": "stream",
          "text": [
            "\n"
          ],
          "name": "stdout"
        },
        {
          "output_type": "display_data",
          "data": {
            "text/latex": "$\\displaystyle a^{2} + 4 a + 4$",
            "text/plain": [
              "a**2 + 4*a + 4"
            ]
          },
          "metadata": {
            "tags": []
          }
        }
      ]
    },
    {
      "cell_type": "code",
      "metadata": {
        "colab": {
          "base_uri": "https://localhost:8080/",
          "height": 80
        },
        "id": "hrP7ZJ4ctC0i",
        "outputId": "bafe3266-a3ab-47df-df50-082761cb6b8c"
      },
      "source": [
        "# 基本例題 5 (2) p.16\n",
        "from sympy.abc import *\n",
        "from sympy import *\n",
        "expr = (3*x-4*y)**2\n",
        "display (expr)\n",
        "print()\n",
        "display(expand(expr))"
      ],
      "execution_count": null,
      "outputs": [
        {
          "output_type": "display_data",
          "data": {
            "text/latex": "$\\displaystyle \\left(3 x - 4 y\\right)^{2}$",
            "text/plain": [
              "(3*x - 4*y)**2"
            ]
          },
          "metadata": {
            "tags": []
          }
        },
        {
          "output_type": "stream",
          "text": [
            "\n"
          ],
          "name": "stdout"
        },
        {
          "output_type": "display_data",
          "data": {
            "text/latex": "$\\displaystyle 9 x^{2} - 24 x y + 16 y^{2}$",
            "text/plain": [
              "9*x**2 - 24*x*y + 16*y**2"
            ]
          },
          "metadata": {
            "tags": []
          }
        }
      ]
    },
    {
      "cell_type": "code",
      "metadata": {
        "colab": {
          "base_uri": "https://localhost:8080/",
          "height": 79
        },
        "id": "5AhES1N1tKDs",
        "outputId": "c242721c-668e-49fa-d66d-951cbf20058e"
      },
      "source": [
        "# 基本例題 5 (3) p.16\n",
        "from sympy.abc import *\n",
        "from sympy import *\n",
        "expr = (2*a+b)*(2*a-b)\n",
        "display (expr)\n",
        "print()\n",
        "display(expand(expr))"
      ],
      "execution_count": null,
      "outputs": [
        {
          "output_type": "display_data",
          "data": {
            "text/latex": "$\\displaystyle \\left(2 a - b\\right) \\left(2 a + b\\right)$",
            "text/plain": [
              "(2*a - b)*(2*a + b)"
            ]
          },
          "metadata": {
            "tags": []
          }
        },
        {
          "output_type": "stream",
          "text": [
            "\n"
          ],
          "name": "stdout"
        },
        {
          "output_type": "display_data",
          "data": {
            "text/latex": "$\\displaystyle 4 a^{2} - b^{2}$",
            "text/plain": [
              "4*a**2 - b**2"
            ]
          },
          "metadata": {
            "tags": []
          }
        }
      ]
    },
    {
      "cell_type": "code",
      "metadata": {
        "colab": {
          "base_uri": "https://localhost:8080/",
          "height": 79
        },
        "id": "JRqYhVfztVsc",
        "outputId": "6854d12d-0005-4a88-cf37-9a9a85670811"
      },
      "source": [
        "# 基本例題 5 (3) p.16\n",
        "from sympy.abc import *\n",
        "from sympy import *\n",
        "expr = (x+3)*(x-5)\n",
        "display (expr)\n",
        "print()\n",
        "display(expand(expr))"
      ],
      "execution_count": null,
      "outputs": [
        {
          "output_type": "display_data",
          "data": {
            "text/latex": "$\\displaystyle \\left(x - 5\\right) \\left(x + 3\\right)$",
            "text/plain": [
              "(x - 5)*(x + 3)"
            ]
          },
          "metadata": {
            "tags": []
          }
        },
        {
          "output_type": "stream",
          "text": [
            "\n"
          ],
          "name": "stdout"
        },
        {
          "output_type": "display_data",
          "data": {
            "text/latex": "$\\displaystyle x^{2} - 2 x - 15$",
            "text/plain": [
              "x**2 - 2*x - 15"
            ]
          },
          "metadata": {
            "tags": []
          }
        }
      ]
    },
    {
      "cell_type": "code",
      "metadata": {
        "colab": {
          "base_uri": "https://localhost:8080/",
          "height": 79
        },
        "id": "2Lu0IRDPthiv",
        "outputId": "0a9552dd-80c2-440b-8ee6-e2d0e8cc791d"
      },
      "source": [
        "# 基本例題 5 (5) p.16\n",
        "from sympy.abc import *\n",
        "from sympy import *\n",
        "expr = (2*x+3)*(3*x+4)\n",
        "display (expr)\n",
        "print()\n",
        "display(expand(expr))"
      ],
      "execution_count": null,
      "outputs": [
        {
          "output_type": "display_data",
          "data": {
            "text/latex": "$\\displaystyle \\left(2 x + 3\\right) \\left(3 x + 4\\right)$",
            "text/plain": [
              "(2*x + 3)*(3*x + 4)"
            ]
          },
          "metadata": {
            "tags": []
          }
        },
        {
          "output_type": "stream",
          "text": [
            "\n"
          ],
          "name": "stdout"
        },
        {
          "output_type": "display_data",
          "data": {
            "text/latex": "$\\displaystyle 6 x^{2} + 17 x + 12$",
            "text/plain": [
              "6*x**2 + 17*x + 12"
            ]
          },
          "metadata": {
            "tags": []
          }
        }
      ]
    },
    {
      "cell_type": "code",
      "metadata": {
        "colab": {
          "base_uri": "https://localhost:8080/",
          "height": 79
        },
        "id": "adYV7RLMtqI5",
        "outputId": "46230bcc-42b0-4a4b-e918-c8a5a06f4c3c"
      },
      "source": [
        "# 基本例題 5 (6) p.16\n",
        "from sympy.abc import *\n",
        "from sympy import *\n",
        "expr = (4*x+y)*(7*y-3*x)\n",
        "display (expr)\n",
        "print()\n",
        "display(expand(expr))"
      ],
      "execution_count": null,
      "outputs": [
        {
          "output_type": "display_data",
          "data": {
            "text/latex": "$\\displaystyle \\left(- 3 x + 7 y\\right) \\left(4 x + y\\right)$",
            "text/plain": [
              "(-3*x + 7*y)*(4*x + y)"
            ]
          },
          "metadata": {
            "tags": []
          }
        },
        {
          "output_type": "stream",
          "text": [
            "\n"
          ],
          "name": "stdout"
        },
        {
          "output_type": "display_data",
          "data": {
            "text/latex": "$\\displaystyle - 12 x^{2} + 25 x y + 7 y^{2}$",
            "text/plain": [
              "-12*x**2 + 25*x*y + 7*y**2"
            ]
          },
          "metadata": {
            "tags": []
          }
        }
      ]
    },
    {
      "cell_type": "code",
      "metadata": {
        "id": "cs0AmN4fANeO",
        "colab": {
          "base_uri": "https://localhost:8080/",
          "height": 79
        },
        "outputId": "a5ec10dd-bc8c-4e9b-cbf1-2d1532618c5b"
      },
      "source": [
        "# 基本例題 6 (1) p.17  次の式を展開する\n",
        "from sympy.abc import *\n",
        "from sympy import *\n",
        "expr = (x+3)*(x**2-3*x+9)\n",
        "display (expr)\n",
        "print()\n",
        "display(expand(expr))"
      ],
      "execution_count": null,
      "outputs": [
        {
          "output_type": "display_data",
          "data": {
            "text/latex": "$\\displaystyle \\left(x + 3\\right) \\left(x^{2} - 3 x + 9\\right)$",
            "text/plain": [
              "(x + 3)*(x**2 - 3*x + 9)"
            ]
          },
          "metadata": {
            "tags": []
          }
        },
        {
          "output_type": "stream",
          "text": [
            "\n"
          ],
          "name": "stdout"
        },
        {
          "output_type": "display_data",
          "data": {
            "text/latex": "$\\displaystyle x^{3} + 27$",
            "text/plain": [
              "x**3 + 27"
            ]
          },
          "metadata": {
            "tags": []
          }
        }
      ]
    },
    {
      "cell_type": "code",
      "metadata": {
        "id": "jto5fdI4Ao7H",
        "colab": {
          "base_uri": "https://localhost:8080/",
          "height": 79
        },
        "outputId": "15a20273-c1b2-4f54-e543-900f556c84c0"
      },
      "source": [
        "# 基本例題 6 (2) p.17  次の式を展開する\n",
        "from sympy.abc import *\n",
        "from sympy import *\n",
        "expr = (3*a-2*b)*(9*a**2+6*a*b+4*b**2)\n",
        "display (expr)\n",
        "print()\n",
        "display(expand(expr))"
      ],
      "execution_count": null,
      "outputs": [
        {
          "output_type": "display_data",
          "data": {
            "text/latex": "$\\displaystyle \\left(3 a - 2 b\\right) \\left(9 a^{2} + 6 a b + 4 b^{2}\\right)$",
            "text/plain": [
              "(3*a - 2*b)*(9*a**2 + 6*a*b + 4*b**2)"
            ]
          },
          "metadata": {
            "tags": []
          }
        },
        {
          "output_type": "stream",
          "text": [
            "\n"
          ],
          "name": "stdout"
        },
        {
          "output_type": "display_data",
          "data": {
            "text/latex": "$\\displaystyle 27 a^{3} - 8 b^{3}$",
            "text/plain": [
              "27*a**3 - 8*b**3"
            ]
          },
          "metadata": {
            "tags": []
          }
        }
      ]
    },
    {
      "cell_type": "code",
      "metadata": {
        "id": "CVRgBjCvA3E2",
        "colab": {
          "base_uri": "https://localhost:8080/",
          "height": 80
        },
        "outputId": "7a35de10-5bf6-4a66-cbde-8ad7b7fb65a5"
      },
      "source": [
        "# 基本例題 6 (3) p.17  次の式を展開する\n",
        "from sympy.abc import *\n",
        "from sympy import *\n",
        "expr = (a+3)**3\n",
        "display (expr)\n",
        "print()\n",
        "display(expand(expr))"
      ],
      "execution_count": null,
      "outputs": [
        {
          "output_type": "display_data",
          "data": {
            "text/latex": "$\\displaystyle \\left(a + 3\\right)^{3}$",
            "text/plain": [
              "(a + 3)**3"
            ]
          },
          "metadata": {
            "tags": []
          }
        },
        {
          "output_type": "stream",
          "text": [
            "\n"
          ],
          "name": "stdout"
        },
        {
          "output_type": "display_data",
          "data": {
            "text/latex": "$\\displaystyle a^{3} + 9 a^{2} + 27 a + 27$",
            "text/plain": [
              "a**3 + 9*a**2 + 27*a + 27"
            ]
          },
          "metadata": {
            "tags": []
          }
        }
      ]
    },
    {
      "cell_type": "code",
      "metadata": {
        "id": "a_E_Td1MBA6n",
        "colab": {
          "base_uri": "https://localhost:8080/",
          "height": 80
        },
        "outputId": "d06e84d3-af52-44e7-bc99-9cec220a78ad"
      },
      "source": [
        "# 基本例題 6 (4) p.17  次の式を展開する\n",
        "from sympy.abc import *\n",
        "from sympy import *\n",
        "expr = (2*x-y)**3\n",
        "display (expr)\n",
        "print()\n",
        "display(expand(expr))"
      ],
      "execution_count": null,
      "outputs": [
        {
          "output_type": "display_data",
          "data": {
            "text/latex": "$\\displaystyle \\left(2 x - y\\right)^{3}$",
            "text/plain": [
              "(2*x - y)**3"
            ]
          },
          "metadata": {
            "tags": []
          }
        },
        {
          "output_type": "stream",
          "text": [
            "\n"
          ],
          "name": "stdout"
        },
        {
          "output_type": "display_data",
          "data": {
            "text/latex": "$\\displaystyle 8 x^{3} - 12 x^{2} y + 6 x y^{2} - y^{3}$",
            "text/plain": [
              "8*x**3 - 12*x**2*y + 6*x*y**2 - y**3"
            ]
          },
          "metadata": {
            "tags": []
          }
        }
      ]
    },
    {
      "cell_type": "code",
      "metadata": {
        "id": "9VGB6X1JBPWT",
        "colab": {
          "base_uri": "https://localhost:8080/",
          "height": 80
        },
        "outputId": "30820f5d-48ee-4705-ef9a-12e4e6f0c7dd"
      },
      "source": [
        "# 基本例題 7 p.18 次の式を展開する (1)\n",
        "from sympy.abc import *\n",
        "from sympy import *\n",
        "expr = (a+b+c)**2\n",
        "display (expr)\n",
        "print()\n",
        "display(expand(expr))"
      ],
      "execution_count": null,
      "outputs": [
        {
          "output_type": "display_data",
          "data": {
            "text/latex": "$\\displaystyle \\left(a + b + c\\right)^{2}$",
            "text/plain": [
              "(a + b + c)**2"
            ]
          },
          "metadata": {
            "tags": []
          }
        },
        {
          "output_type": "stream",
          "text": [
            "\n"
          ],
          "name": "stdout"
        },
        {
          "output_type": "display_data",
          "data": {
            "text/latex": "$\\displaystyle a^{2} + 2 a b + 2 a c + b^{2} + 2 b c + c^{2}$",
            "text/plain": [
              "a**2 + 2*a*b + 2*a*c + b**2 + 2*b*c + c**2"
            ]
          },
          "metadata": {
            "tags": []
          }
        }
      ]
    },
    {
      "cell_type": "code",
      "metadata": {
        "id": "mIAn4rGZBexU",
        "colab": {
          "base_uri": "https://localhost:8080/",
          "height": 79
        },
        "outputId": "b5eb6a3a-380c-4abe-87af-d914f790dbb4"
      },
      "source": [
        "# 基本例題 7 p.18 次の式を展開する (2)\n",
        "from sympy.abc import *\n",
        "from sympy import *\n",
        "expr = (x+y+z)*(x-y-z)\n",
        "display (expr)\n",
        "print()\n",
        "display(expand(expr))"
      ],
      "execution_count": null,
      "outputs": [
        {
          "output_type": "display_data",
          "data": {
            "text/latex": "$\\displaystyle \\left(x - y - z\\right) \\left(x + y + z\\right)$",
            "text/plain": [
              "(x - y - z)*(x + y + z)"
            ]
          },
          "metadata": {
            "tags": []
          }
        },
        {
          "output_type": "stream",
          "text": [
            "\n"
          ],
          "name": "stdout"
        },
        {
          "output_type": "display_data",
          "data": {
            "text/latex": "$\\displaystyle x^{2} - y^{2} - 2 y z - z^{2}$",
            "text/plain": [
              "x**2 - y**2 - 2*y*z - z**2"
            ]
          },
          "metadata": {
            "tags": []
          }
        }
      ]
    },
    {
      "cell_type": "code",
      "metadata": {
        "id": "50OPvLdiBqt0",
        "colab": {
          "base_uri": "https://localhost:8080/",
          "height": 79
        },
        "outputId": "8855a636-8aff-42f2-c29b-f1139696fd42"
      },
      "source": [
        "# 基本例題 7 p.18 次の式を展開する (3)\n",
        "from sympy.abc import *\n",
        "from sympy import *\n",
        "expr = (x**2+3*x-2)*(x**2+3*x+3)\n",
        "display (expr)\n",
        "print()\n",
        "display(expand(expr))"
      ],
      "execution_count": null,
      "outputs": [
        {
          "output_type": "display_data",
          "data": {
            "text/latex": "$\\displaystyle \\left(x^{2} + 3 x - 2\\right) \\left(x^{2} + 3 x + 3\\right)$",
            "text/plain": [
              "(x**2 + 3*x - 2)*(x**2 + 3*x + 3)"
            ]
          },
          "metadata": {
            "tags": []
          }
        },
        {
          "output_type": "stream",
          "text": [
            "\n"
          ],
          "name": "stdout"
        },
        {
          "output_type": "display_data",
          "data": {
            "text/latex": "$\\displaystyle x^{4} + 6 x^{3} + 10 x^{2} + 3 x - 6$",
            "text/plain": [
              "x**4 + 6*x**3 + 10*x**2 + 3*x - 6"
            ]
          },
          "metadata": {
            "tags": []
          }
        }
      ]
    },
    {
      "cell_type": "code",
      "metadata": {
        "id": "zRYSnKnCGJKc",
        "colab": {
          "base_uri": "https://localhost:8080/",
          "height": 78
        },
        "outputId": "1b71a3f5-8e21-4093-969a-48ae99c4184a"
      },
      "source": [
        "# 基本例題 8 p.19 次の式を展開する (1)\n",
        "from sympy.abc import *\n",
        "from sympy import *\n",
        "expr = (x+y)*(x**2+y**2)*(x-y)\n",
        "display (expr)\n",
        "print()\n",
        "display(expand(expr))"
      ],
      "execution_count": null,
      "outputs": [
        {
          "output_type": "display_data",
          "data": {
            "text/latex": "$\\displaystyle \\left(x - y\\right) \\left(x + y\\right) \\left(x^{2} + y^{2}\\right)$",
            "text/plain": [
              "(x - y)*(x + y)*(x**2 + y**2)"
            ]
          },
          "metadata": {
            "tags": []
          }
        },
        {
          "output_type": "stream",
          "text": [
            "\n"
          ],
          "name": "stdout"
        },
        {
          "output_type": "display_data",
          "data": {
            "text/latex": "$\\displaystyle x^{4} - y^{4}$",
            "text/plain": [
              "x**4 - y**4"
            ]
          },
          "metadata": {
            "tags": []
          }
        }
      ]
    },
    {
      "cell_type": "code",
      "metadata": {
        "id": "ugHNkI7hGist",
        "colab": {
          "base_uri": "https://localhost:8080/",
          "height": 78
        },
        "outputId": "02d241f0-84e8-4f7b-810e-8bfaba09cc6a"
      },
      "source": [
        "# 基本例題 8 p.19 次の式を展開する (2)\n",
        "from sympy.abc import *\n",
        "from sympy import *\n",
        "expr = (p+2*q)**2*(p-2*q)**2\n",
        "display (expr)\n",
        "print()\n",
        "display(expand(expr))"
      ],
      "execution_count": null,
      "outputs": [
        {
          "output_type": "display_data",
          "data": {
            "text/latex": "$\\displaystyle \\left(p - 2 q\\right)^{2} \\left(p + 2 q\\right)^{2}$",
            "text/plain": [
              "(p - 2*q)**2*(p + 2*q)**2"
            ]
          },
          "metadata": {
            "tags": []
          }
        },
        {
          "output_type": "stream",
          "text": [
            "\n"
          ],
          "name": "stdout"
        },
        {
          "output_type": "display_data",
          "data": {
            "text/latex": "$\\displaystyle p^{4} - 8 p^{2} q^{2} + 16 q^{4}$",
            "text/plain": [
              "p**4 - 8*p**2*q**2 + 16*q**4"
            ]
          },
          "metadata": {
            "tags": []
          }
        }
      ]
    },
    {
      "cell_type": "code",
      "metadata": {
        "id": "wpn1azxhG6zh",
        "colab": {
          "base_uri": "https://localhost:8080/",
          "height": 78
        },
        "outputId": "387b09dc-69ed-4233-bc29-b03ecc8e263f"
      },
      "source": [
        "# 基本例題 8 p.19 次の式を展開する (3)\n",
        "from sympy.abc import *\n",
        "from sympy import *\n",
        "expr = (x+1)*(x-2)*(x**2-x+1)*(x**2+2*x+4)\n",
        "display (expr)\n",
        "print()\n",
        "display(expand(expr))"
      ],
      "execution_count": null,
      "outputs": [
        {
          "output_type": "display_data",
          "data": {
            "text/latex": "$\\displaystyle \\left(x - 2\\right) \\left(x + 1\\right) \\left(x^{2} - x + 1\\right) \\left(x^{2} + 2 x + 4\\right)$",
            "text/plain": [
              "(x - 2)*(x + 1)*(x**2 - x + 1)*(x**2 + 2*x + 4)"
            ]
          },
          "metadata": {
            "tags": []
          }
        },
        {
          "output_type": "stream",
          "text": [
            "\n"
          ],
          "name": "stdout"
        },
        {
          "output_type": "display_data",
          "data": {
            "text/latex": "$\\displaystyle x^{6} - 7 x^{3} - 8$",
            "text/plain": [
              "x**6 - 7*x**3 - 8"
            ]
          },
          "metadata": {
            "tags": []
          }
        }
      ]
    },
    {
      "cell_type": "markdown",
      "metadata": {
        "id": "b7I0hS0Z9Yt4"
      },
      "source": [
        "# 因数分解"
      ]
    },
    {
      "cell_type": "markdown",
      "metadata": {
        "id": "WXTC-V4Q-EMP"
      },
      "source": [
        "1. 2次式の因数分解の公式  \n",
        "$a^2+2ab+b^2=(a+b)^2$  \n",
        "$a^2-2ab+b^2=(a-b)^2$  \n",
        "$a^2-b^2=(a+b)(a-b)$  \n",
        "$x^2+(a+b)x+ab = (x+a)(x+b)$  \n",
        "$acx^2+(ad+bc)x+bd=(ax+b)(cx+d)$\n",
        "\n",
        "2. 3次式の因数分解の公式  \n",
        "$a^3+b^3=(a+b)(a^2-ab+b^2)$  \n",
        "$a^3-b^3=(a+b)(a^2+ab+b^2)$  \n",
        "$a^3+3a^2b+3ab^2+b^3=(a+b)^3$  \n",
        "$a^3-3a^2b+3ab^2-b^3=(a-b)^3$  \n",
        "\n"
      ]
    },
    {
      "cell_type": "code",
      "metadata": {
        "id": "6x3tVZsAB34G",
        "colab": {
          "base_uri": "https://localhost:8080/",
          "height": 79
        },
        "outputId": "e0fca035-5020-4e56-a4ef-f1e019334d55"
      },
      "source": [
        "# 基本例題 9 p.22 (1) 次の式を因数分解する \n",
        "from sympy.abc import *\n",
        "from sympy import *\n",
        "expr = 9*a**3*x**2*y-45*a*x**3*y**2+18*a**2*x*y**3\n",
        "display (expr)\n",
        "print()\n",
        "display(simplify(factor(expr)))"
      ],
      "execution_count": null,
      "outputs": [
        {
          "output_type": "display_data",
          "data": {
            "text/latex": "$\\displaystyle 9 a^{3} x^{2} y + 18 a^{2} x y^{3} - 45 a x^{3} y^{2}$",
            "text/plain": [
              "9*a**3*x**2*y + 18*a**2*x*y**3 - 45*a*x**3*y**2"
            ]
          },
          "metadata": {
            "tags": []
          }
        },
        {
          "output_type": "stream",
          "text": [
            "\n"
          ],
          "name": "stdout"
        },
        {
          "output_type": "display_data",
          "data": {
            "text/latex": "$\\displaystyle 9 a x y \\left(a^{2} x + 2 a y^{2} - 5 x^{2} y\\right)$",
            "text/plain": [
              "9*a*x*y*(a**2*x + 2*a*y**2 - 5*x**2*y)"
            ]
          },
          "metadata": {
            "tags": []
          }
        }
      ]
    },
    {
      "cell_type": "code",
      "metadata": {
        "id": "-dfVdL1MKHrL"
      },
      "source": [
        "# 項が思ったとおりに並ばない時に試すこと。\n",
        "\n",
        "# init_printing(order='grlex')\n",
        "\n",
        "# lex, revlex, grlex, grevlex, とか。\n",
        "\n",
        "# simplify が有効な場合も多い"
      ],
      "execution_count": null,
      "outputs": []
    },
    {
      "cell_type": "code",
      "metadata": {
        "colab": {
          "base_uri": "https://localhost:8080/",
          "height": 80
        },
        "id": "cDT_Xl4mAEsD",
        "outputId": "fabb044f-5adb-4a20-db5f-b5534d7cc4e4"
      },
      "source": [
        "# 基本例題 9 p.22 次の式を因数分解する (2)\n",
        "from sympy.abc import *\n",
        "from sympy import *\n",
        "expr = (x-y)**2+y*z-z*x\n",
        "display (expr)\n",
        "print()\n",
        "display(factor(expr))"
      ],
      "execution_count": null,
      "outputs": [
        {
          "output_type": "display_data",
          "data": {
            "text/latex": "$\\displaystyle - x z + y z + \\left(x - y\\right)^{2}$",
            "text/plain": [
              "-x*z + y*z + (x - y)**2"
            ]
          },
          "metadata": {
            "tags": []
          }
        },
        {
          "output_type": "stream",
          "text": [
            "\n"
          ],
          "name": "stdout"
        },
        {
          "output_type": "display_data",
          "data": {
            "text/latex": "$\\displaystyle \\left(x - y\\right) \\left(x - y - z\\right)$",
            "text/plain": [
              "(x - y)*(x - y - z)"
            ]
          },
          "metadata": {
            "tags": []
          }
        }
      ]
    },
    {
      "cell_type": "code",
      "metadata": {
        "colab": {
          "base_uri": "https://localhost:8080/",
          "height": 80
        },
        "id": "nUfDLyX3CDCR",
        "outputId": "4d6d67c2-647c-44e6-eb4a-b6e22516784b"
      },
      "source": [
        "# 基本例題 9 p.22 次の式を因数分解する (3)\n",
        "from sympy.abc import *\n",
        "from sympy import *\n",
        "expr = x**2+14*x+49\n",
        "display (expr)\n",
        "print()\n",
        "display(factor(expr))"
      ],
      "execution_count": null,
      "outputs": [
        {
          "output_type": "display_data",
          "data": {
            "text/latex": "$\\displaystyle x^{2} + 14 x + 49$",
            "text/plain": [
              "x**2 + 14*x + 49"
            ]
          },
          "metadata": {
            "tags": []
          }
        },
        {
          "output_type": "stream",
          "text": [
            "\n"
          ],
          "name": "stdout"
        },
        {
          "output_type": "display_data",
          "data": {
            "text/latex": "$\\displaystyle \\left(x + 7\\right)^{2}$",
            "text/plain": [
              "(x + 7)**2"
            ]
          },
          "metadata": {
            "tags": []
          }
        }
      ]
    },
    {
      "cell_type": "code",
      "metadata": {
        "colab": {
          "base_uri": "https://localhost:8080/",
          "height": 80
        },
        "id": "6gHxPkA3K9gG",
        "outputId": "879d1c4c-dae0-4fc2-e100-32bf7501f084"
      },
      "source": [
        "# 基本例題 9 p.22 次の式を因数分解する (4)\n",
        "from sympy.abc import *\n",
        "from sympy import *\n",
        "expr = 9*x**2-12*x*y+4*y**2\n",
        "display (expr)\n",
        "print()\n",
        "display(factor(expr))"
      ],
      "execution_count": null,
      "outputs": [
        {
          "output_type": "display_data",
          "data": {
            "text/latex": "$\\displaystyle 9 x^{2} - 12 x y + 4 y^{2}$",
            "text/plain": [
              "9*x**2 - 12*x*y + 4*y**2"
            ]
          },
          "metadata": {
            "tags": []
          }
        },
        {
          "output_type": "stream",
          "text": [
            "\n"
          ],
          "name": "stdout"
        },
        {
          "output_type": "display_data",
          "data": {
            "text/latex": "$\\displaystyle \\left(3 x - 2 y\\right)^{2}$",
            "text/plain": [
              "(3*x - 2*y)**2"
            ]
          },
          "metadata": {
            "tags": []
          }
        }
      ]
    },
    {
      "cell_type": "code",
      "metadata": {
        "colab": {
          "base_uri": "https://localhost:8080/",
          "height": 79
        },
        "id": "ZvZIxrM8LLR8",
        "outputId": "fd74630e-0f69-46fa-8160-19088bf2a85a"
      },
      "source": [
        "# 基本例題 9 p.22 次の式を因数分解する (5)\n",
        "from sympy.abc import *\n",
        "from sympy import *\n",
        "expr = 6*a**3*b-24*a*b**3\n",
        "display (expr)\n",
        "print()\n",
        "display(factor(expr))"
      ],
      "execution_count": null,
      "outputs": [
        {
          "output_type": "display_data",
          "data": {
            "text/latex": "$\\displaystyle 6 a^{3} b - 24 a b^{3}$",
            "text/plain": [
              "6*a**3*b - 24*a*b**3"
            ]
          },
          "metadata": {
            "tags": []
          }
        },
        {
          "output_type": "stream",
          "text": [
            "\n"
          ],
          "name": "stdout"
        },
        {
          "output_type": "display_data",
          "data": {
            "text/latex": "$\\displaystyle 6 a b \\left(a - 2 b\\right) \\left(a + 2 b\\right)$",
            "text/plain": [
              "6*a*b*(a - 2*b)*(a + 2*b)"
            ]
          },
          "metadata": {
            "tags": []
          }
        }
      ]
    },
    {
      "cell_type": "code",
      "metadata": {
        "colab": {
          "base_uri": "https://localhost:8080/",
          "height": 79
        },
        "id": "jTsob4cnLa8h",
        "outputId": "e35e305f-f821-4080-df19-cba035334c70"
      },
      "source": [
        "# 基本例題 9 p.22 次の式を因数分解する (6)\n",
        "from sympy.abc import *\n",
        "from sympy import *\n",
        "expr = x**2+7*x+10\n",
        "display (expr)\n",
        "print()\n",
        "display(factor(expr))"
      ],
      "execution_count": null,
      "outputs": [
        {
          "output_type": "display_data",
          "data": {
            "text/latex": "$\\displaystyle x^{2} + 7 x + 10$",
            "text/plain": [
              "x**2 + 7*x + 10"
            ]
          },
          "metadata": {
            "tags": []
          }
        },
        {
          "output_type": "stream",
          "text": [
            "\n"
          ],
          "name": "stdout"
        },
        {
          "output_type": "display_data",
          "data": {
            "text/latex": "$\\displaystyle \\left(x + 2\\right) \\left(x + 5\\right)$",
            "text/plain": [
              "(x + 2)*(x + 5)"
            ]
          },
          "metadata": {
            "tags": []
          }
        }
      ]
    },
    {
      "cell_type": "code",
      "metadata": {
        "colab": {
          "base_uri": "https://localhost:8080/",
          "height": 79
        },
        "id": "xgNX3GqnLixM",
        "outputId": "c98f89f9-154f-457d-ff2f-d42b19de2196"
      },
      "source": [
        "# 基本例題 9 p.22 次の式を因数分解する (7)\n",
        "from sympy.abc import *\n",
        "from sympy import *\n",
        "expr = a**2+5*a-24\n",
        "display (expr)\n",
        "print()\n",
        "display(factor(expr))"
      ],
      "execution_count": null,
      "outputs": [
        {
          "output_type": "display_data",
          "data": {
            "text/latex": "$\\displaystyle a^{2} + 5 a - 24$",
            "text/plain": [
              "a**2 + 5*a - 24"
            ]
          },
          "metadata": {
            "tags": []
          }
        },
        {
          "output_type": "stream",
          "text": [
            "\n"
          ],
          "name": "stdout"
        },
        {
          "output_type": "display_data",
          "data": {
            "text/latex": "$\\displaystyle \\left(a - 3\\right) \\left(a + 8\\right)$",
            "text/plain": [
              "(a - 3)*(a + 8)"
            ]
          },
          "metadata": {
            "tags": []
          }
        }
      ]
    },
    {
      "cell_type": "code",
      "metadata": {
        "colab": {
          "base_uri": "https://localhost:8080/",
          "height": 79
        },
        "id": "qYumeycNLuWF",
        "outputId": "9ac36845-05e9-4a0d-d7b2-ed7048562347"
      },
      "source": [
        "# 基本例題 9 p.22 次の式を因数分解する (8)\n",
        "from sympy.abc import *\n",
        "from sympy import *\n",
        "expr = 3*x**2 +5*x +2\n",
        "display (expr)\n",
        "print()\n",
        "display(factor(expr))"
      ],
      "execution_count": null,
      "outputs": [
        {
          "output_type": "display_data",
          "data": {
            "text/latex": "$\\displaystyle 3 x^{2} + 5 x + 2$",
            "text/plain": [
              "3*x**2 + 5*x + 2"
            ]
          },
          "metadata": {
            "tags": []
          }
        },
        {
          "output_type": "stream",
          "text": [
            "\n"
          ],
          "name": "stdout"
        },
        {
          "output_type": "display_data",
          "data": {
            "text/latex": "$\\displaystyle \\left(x + 1\\right) \\left(3 x + 2\\right)$",
            "text/plain": [
              "(x + 1)*(3*x + 2)"
            ]
          },
          "metadata": {
            "tags": []
          }
        }
      ]
    },
    {
      "cell_type": "code",
      "metadata": {
        "colab": {
          "base_uri": "https://localhost:8080/",
          "height": 79
        },
        "id": "E99eh4UQL4JD",
        "outputId": "4d4cefdd-4bc1-4dc4-fef2-411153eb8057"
      },
      "source": [
        "# 基本例題 9 p.22 次の式を因数分解する (9)\n",
        "from sympy.abc import *\n",
        "from sympy import *\n",
        "expr = 12*x**2 -16*x -3\n",
        "display (expr)\n",
        "print()\n",
        "display(factor(expr))"
      ],
      "execution_count": null,
      "outputs": [
        {
          "output_type": "display_data",
          "data": {
            "text/latex": "$\\displaystyle 12 x^{2} - 16 x - 3$",
            "text/plain": [
              "12*x**2 - 16*x - 3"
            ]
          },
          "metadata": {
            "tags": []
          }
        },
        {
          "output_type": "stream",
          "text": [
            "\n"
          ],
          "name": "stdout"
        },
        {
          "output_type": "display_data",
          "data": {
            "text/latex": "$\\displaystyle \\left(2 x - 3\\right) \\left(6 x + 1\\right)$",
            "text/plain": [
              "(2*x - 3)*(6*x + 1)"
            ]
          },
          "metadata": {
            "tags": []
          }
        }
      ]
    },
    {
      "cell_type": "code",
      "metadata": {
        "colab": {
          "base_uri": "https://localhost:8080/",
          "height": 79
        },
        "id": "MgGqXO96L_4S",
        "outputId": "5fd301e3-1f04-4315-b868-20ae7743d4c8"
      },
      "source": [
        "# 基本例題 9 p.22 次の式を因数分解する (10)\n",
        "from sympy.abc import *\n",
        "from sympy import *\n",
        "expr = 6*a**2+23*a*b-48*b**2\n",
        "display (expr)\n",
        "print()\n",
        "display(factor(expr))"
      ],
      "execution_count": null,
      "outputs": [
        {
          "output_type": "display_data",
          "data": {
            "text/latex": "$\\displaystyle 6 a^{2} + 23 a b - 48 b^{2}$",
            "text/plain": [
              "6*a**2 + 23*a*b - 48*b**2"
            ]
          },
          "metadata": {
            "tags": []
          }
        },
        {
          "output_type": "stream",
          "text": [
            "\n"
          ],
          "name": "stdout"
        },
        {
          "output_type": "display_data",
          "data": {
            "text/latex": "$\\displaystyle \\left(2 a - 3 b\\right) \\left(3 a + 16 b\\right)$",
            "text/plain": [
              "(2*a - 3*b)*(3*a + 16*b)"
            ]
          },
          "metadata": {
            "tags": []
          }
        }
      ]
    },
    {
      "cell_type": "code",
      "metadata": {
        "colab": {
          "base_uri": "https://localhost:8080/",
          "height": 79
        },
        "id": "49fMFPnKMMjt",
        "outputId": "8bbcd058-8900-4d2f-a18f-df2618b8f62d"
      },
      "source": [
        "# 基本例題 10 p. 23 次の式を因数分解する (1)\n",
        "from sympy.abc import *\n",
        "from sympy import *\n",
        "expr = x**3-27\n",
        "display (expr)\n",
        "print()\n",
        "display(factor(expr))"
      ],
      "execution_count": null,
      "outputs": [
        {
          "output_type": "display_data",
          "data": {
            "text/latex": "$\\displaystyle x^{3} - 27$",
            "text/plain": [
              "x**3 - 27"
            ]
          },
          "metadata": {
            "tags": []
          }
        },
        {
          "output_type": "stream",
          "text": [
            "\n"
          ],
          "name": "stdout"
        },
        {
          "output_type": "display_data",
          "data": {
            "text/latex": "$\\displaystyle \\left(x - 3\\right) \\left(x^{2} + 3 x + 9\\right)$",
            "text/plain": [
              "(x - 3)*(x**2 + 3*x + 9)"
            ]
          },
          "metadata": {
            "tags": []
          }
        }
      ]
    },
    {
      "cell_type": "code",
      "metadata": {
        "colab": {
          "base_uri": "https://localhost:8080/",
          "height": 79
        },
        "id": "SPdSW5BfMsoC",
        "outputId": "934de41b-4179-4287-c04a-eb98f93501bf"
      },
      "source": [
        "# 基本例題 10 p. 23 次の式を因数分解する (2)\n",
        "from sympy.abc import *\n",
        "from sympy import *\n",
        "expr = 64*a**3+125*b**3\n",
        "display (expr)\n",
        "print()\n",
        "display(factor(expr))"
      ],
      "execution_count": null,
      "outputs": [
        {
          "output_type": "display_data",
          "data": {
            "text/latex": "$\\displaystyle 64 a^{3} + 125 b^{3}$",
            "text/plain": [
              "64*a**3 + 125*b**3"
            ]
          },
          "metadata": {
            "tags": []
          }
        },
        {
          "output_type": "stream",
          "text": [
            "\n"
          ],
          "name": "stdout"
        },
        {
          "output_type": "display_data",
          "data": {
            "text/latex": "$\\displaystyle \\left(4 a + 5 b\\right) \\left(16 a^{2} - 20 a b + 25 b^{2}\\right)$",
            "text/plain": [
              "(4*a + 5*b)*(16*a**2 - 20*a*b + 25*b**2)"
            ]
          },
          "metadata": {
            "tags": []
          }
        }
      ]
    },
    {
      "cell_type": "code",
      "metadata": {
        "colab": {
          "base_uri": "https://localhost:8080/",
          "height": 80
        },
        "id": "Cqe1cBINM1qF",
        "outputId": "f3e8cdc3-fa02-4c5a-a316-ed9bc4de13b4"
      },
      "source": [
        "# 基本例題 10 p. 23 次の式を因数分解する (3)\n",
        "from sympy.abc import *\n",
        "from sympy import *\n",
        "expr = x**3+6*x**2+12*x+8\n",
        "display (expr)\n",
        "print()\n",
        "display(factor(expr))"
      ],
      "execution_count": null,
      "outputs": [
        {
          "output_type": "display_data",
          "data": {
            "text/latex": "$\\displaystyle x^{3} + 6 x^{2} + 12 x + 8$",
            "text/plain": [
              "x**3 + 6*x**2 + 12*x + 8"
            ]
          },
          "metadata": {
            "tags": []
          }
        },
        {
          "output_type": "stream",
          "text": [
            "\n"
          ],
          "name": "stdout"
        },
        {
          "output_type": "display_data",
          "data": {
            "text/latex": "$\\displaystyle \\left(x + 2\\right)^{3}$",
            "text/plain": [
              "(x + 2)**3"
            ]
          },
          "metadata": {
            "tags": []
          }
        }
      ]
    },
    {
      "cell_type": "code",
      "metadata": {
        "colab": {
          "base_uri": "https://localhost:8080/",
          "height": 79
        },
        "id": "LwOSLc5ZNQDC",
        "outputId": "1468b2ea-d7d7-4fd1-ccd3-8791ce927fb3"
      },
      "source": [
        "# 基本例題 10 p. 23 次の式を因数分解する (4)\n",
        "from sympy.abc import *\n",
        "from sympy import *\n",
        "expr = x**3+x**2-4*x-4\n",
        "display (expr)\n",
        "print()\n",
        "display(factor(expr))"
      ],
      "execution_count": null,
      "outputs": [
        {
          "output_type": "display_data",
          "data": {
            "text/latex": "$\\displaystyle x^{3} + x^{2} - 4 x - 4$",
            "text/plain": [
              "x**3 + x**2 - 4*x - 4"
            ]
          },
          "metadata": {
            "tags": []
          }
        },
        {
          "output_type": "stream",
          "text": [
            "\n"
          ],
          "name": "stdout"
        },
        {
          "output_type": "display_data",
          "data": {
            "text/latex": "$\\displaystyle \\left(x - 2\\right) \\left(x + 1\\right) \\left(x + 2\\right)$",
            "text/plain": [
              "(x - 2)*(x + 1)*(x + 2)"
            ]
          },
          "metadata": {
            "tags": []
          }
        }
      ]
    },
    {
      "cell_type": "code",
      "metadata": {
        "id": "WeUF9h0hIGoS",
        "colab": {
          "base_uri": "https://localhost:8080/",
          "height": 80
        },
        "outputId": "10a7742a-b193-4f44-f4c4-747a9f83469e"
      },
      "source": [
        "# 基本例題 11 p. 24 次の式を因数分解する (1)\n",
        "from sympy.abc import *\n",
        "from sympy import *\n",
        "expr = 2*(x-1)**2-11*(x-1)+15\n",
        "display (expr)\n",
        "print()\n",
        "display(factor(expr))"
      ],
      "execution_count": null,
      "outputs": [
        {
          "output_type": "display_data",
          "data": {
            "text/latex": "$\\displaystyle - 11 x + 2 \\left(x - 1\\right)^{2} + 26$",
            "text/plain": [
              "-11*x + 2*(x - 1)**2 + 26"
            ]
          },
          "metadata": {
            "tags": []
          }
        },
        {
          "output_type": "stream",
          "text": [
            "\n"
          ],
          "name": "stdout"
        },
        {
          "output_type": "display_data",
          "data": {
            "text/latex": "$\\displaystyle \\left(x - 4\\right) \\left(2 x - 7\\right)$",
            "text/plain": [
              "(x - 4)*(2*x - 7)"
            ]
          },
          "metadata": {
            "tags": []
          }
        }
      ]
    },
    {
      "cell_type": "code",
      "metadata": {
        "id": "yTskL2OvImio",
        "colab": {
          "base_uri": "https://localhost:8080/",
          "height": 79
        },
        "outputId": "42569e6f-90d3-475c-f2ab-5ffc20d388b0"
      },
      "source": [
        "# 基本例題 11 p. 24 次の式を因数分解する (2)\n",
        "from sympy.abc import *\n",
        "from sympy import *\n",
        "expr = x**2-y**2+4*y-4\n",
        "display (expr)\n",
        "print()\n",
        "display(factor(expr))"
      ],
      "execution_count": null,
      "outputs": [
        {
          "output_type": "display_data",
          "data": {
            "text/latex": "$\\displaystyle x^{2} - y^{2} + 4 y - 4$",
            "text/plain": [
              "x**2 - y**2 + 4*y - 4"
            ]
          },
          "metadata": {
            "tags": []
          }
        },
        {
          "output_type": "stream",
          "text": [
            "\n"
          ],
          "name": "stdout"
        },
        {
          "output_type": "display_data",
          "data": {
            "text/latex": "$\\displaystyle \\left(x - y + 2\\right) \\left(x + y - 2\\right)$",
            "text/plain": [
              "(x - y + 2)*(x + y - 2)"
            ]
          },
          "metadata": {
            "tags": []
          }
        }
      ]
    },
    {
      "cell_type": "code",
      "metadata": {
        "id": "wEUhyoMMI2Ih",
        "colab": {
          "base_uri": "https://localhost:8080/",
          "height": 79
        },
        "outputId": "d6a5f6e0-60c9-4906-cf86-a4a35dc5b5f9"
      },
      "source": [
        "# 基本例題 11 p. 24 次の式を因数分解する (3)\n",
        "from sympy.abc import *\n",
        "from sympy import *\n",
        "expr = x**4-10*x**2+9\n",
        "display (expr)\n",
        "print()\n",
        "display(factor(expr))"
      ],
      "execution_count": null,
      "outputs": [
        {
          "output_type": "display_data",
          "data": {
            "text/latex": "$\\displaystyle x^{4} - 10 x^{2} + 9$",
            "text/plain": [
              "x**4 - 10*x**2 + 9"
            ]
          },
          "metadata": {
            "tags": []
          }
        },
        {
          "output_type": "stream",
          "text": [
            "\n"
          ],
          "name": "stdout"
        },
        {
          "output_type": "display_data",
          "data": {
            "text/latex": "$\\displaystyle \\left(x - 3\\right) \\left(x - 1\\right) \\left(x + 1\\right) \\left(x + 3\\right)$",
            "text/plain": [
              "(x - 3)*(x - 1)*(x + 1)*(x + 3)"
            ]
          },
          "metadata": {
            "tags": []
          }
        }
      ]
    },
    {
      "cell_type": "code",
      "metadata": {
        "id": "eeg9D5mNJAvg",
        "colab": {
          "base_uri": "https://localhost:8080/",
          "height": 82
        },
        "outputId": "3fd50034-7bc5-4ef4-b5d6-2785304ee8f0"
      },
      "source": [
        "# 基本例題 11 p. 24 次の式を因数分解する (4)\n",
        "from sympy.abc import *\n",
        "from sympy import *\n",
        "expr = (x**2+3*x)**2-2*(x**2+3*x)-8\n",
        "display (expr)\n",
        "print()\n",
        "display(factor(expr))"
      ],
      "execution_count": null,
      "outputs": [
        {
          "output_type": "display_data",
          "data": {
            "text/latex": "$\\displaystyle - 2 x^{2} - 6 x + \\left(x^{2} + 3 x\\right)^{2} - 8$",
            "text/plain": [
              "-2*x**2 - 6*x + (x**2 + 3*x)**2 - 8"
            ]
          },
          "metadata": {
            "tags": []
          }
        },
        {
          "output_type": "stream",
          "text": [
            "\n"
          ],
          "name": "stdout"
        },
        {
          "output_type": "display_data",
          "data": {
            "text/latex": "$\\displaystyle \\left(x - 1\\right) \\left(x + 1\\right) \\left(x + 2\\right) \\left(x + 4\\right)$",
            "text/plain": [
              "(x - 1)*(x + 1)*(x + 2)*(x + 4)"
            ]
          },
          "metadata": {
            "tags": []
          }
        }
      ]
    },
    {
      "cell_type": "code",
      "metadata": {
        "id": "bbvVdxhYJajN",
        "colab": {
          "base_uri": "https://localhost:8080/",
          "height": 79
        },
        "outputId": "f62e7b61-1bc8-433a-9989-051bfb79eca7"
      },
      "source": [
        "# 基本例題 12 p. 25 次の式を因数分解する (1)\n",
        "from sympy.abc import *\n",
        "from sympy import *\n",
        "expr = 9*b**2+3*a*b-2*a-4 #=> 次数の小さい文字 a について整理する\n",
        "display (expr)\n",
        "print()\n",
        "display(factor(expr))"
      ],
      "execution_count": null,
      "outputs": [
        {
          "output_type": "display_data",
          "data": {
            "text/latex": "$\\displaystyle 3 a b - 2 a + 9 b^{2} - 4$",
            "text/plain": [
              "3*a*b - 2*a + 9*b**2 - 4"
            ]
          },
          "metadata": {
            "tags": []
          }
        },
        {
          "output_type": "stream",
          "text": [
            "\n"
          ],
          "name": "stdout"
        },
        {
          "output_type": "display_data",
          "data": {
            "text/latex": "$\\displaystyle \\left(3 b - 2\\right) \\left(a + 3 b + 2\\right)$",
            "text/plain": [
              "(3*b - 2)*(a + 3*b + 2)"
            ]
          },
          "metadata": {
            "tags": []
          }
        }
      ]
    },
    {
      "cell_type": "code",
      "metadata": {
        "id": "VP9j1qhmKHYo",
        "colab": {
          "base_uri": "https://localhost:8080/",
          "height": 79
        },
        "outputId": "1c22c21e-d36b-4440-a9d4-e8aad99985fb"
      },
      "source": [
        "# 基本例題 12 p. 25 次の式を因数分解する (2)\n",
        "from sympy.abc import *\n",
        "from sympy import *\n",
        "expr = x**3-x**2*y-x*z**2+y*z**2 \n",
        "#=> 次数の小さい文字 y について整理する\n",
        "display (expr)\n",
        "print()\n",
        "display(factor(expr))"
      ],
      "execution_count": null,
      "outputs": [
        {
          "output_type": "display_data",
          "data": {
            "text/latex": "$\\displaystyle x^{3} - x^{2} y - x z^{2} + y z^{2}$",
            "text/plain": [
              "x**3 - x**2*y - x*z**2 + y*z**2"
            ]
          },
          "metadata": {
            "tags": []
          }
        },
        {
          "output_type": "stream",
          "text": [
            "\n"
          ],
          "name": "stdout"
        },
        {
          "output_type": "display_data",
          "data": {
            "text/latex": "$\\displaystyle \\left(x - y\\right) \\left(x - z\\right) \\left(x + z\\right)$",
            "text/plain": [
              "(x - y)*(x - z)*(x + z)"
            ]
          },
          "metadata": {
            "tags": []
          }
        }
      ]
    },
    {
      "cell_type": "code",
      "metadata": {
        "id": "ul8ttDAqKq_Y",
        "colab": {
          "base_uri": "https://localhost:8080/",
          "height": 79
        },
        "outputId": "c0c66a99-f022-4d03-e067-8062c72be58d"
      },
      "source": [
        "# 基本例題 12 p. 25 次の式を因数分解する (3)\n",
        "from sympy.abc import *\n",
        "from sympy import *\n",
        "expr = 1+2*a*b+a+2*b\n",
        "display (expr)\n",
        "print()\n",
        "display(factor(expr))"
      ],
      "execution_count": null,
      "outputs": [
        {
          "output_type": "display_data",
          "data": {
            "text/latex": "$\\displaystyle 2 a b + a + 2 b + 1$",
            "text/plain": [
              "2*a*b + a + 2*b + 1"
            ]
          },
          "metadata": {
            "tags": []
          }
        },
        {
          "output_type": "stream",
          "text": [
            "\n"
          ],
          "name": "stdout"
        },
        {
          "output_type": "display_data",
          "data": {
            "text/latex": "$\\displaystyle \\left(a + 1\\right) \\left(2 b + 1\\right)$",
            "text/plain": [
              "(a + 1)*(2*b + 1)"
            ]
          },
          "metadata": {
            "tags": []
          }
        }
      ]
    },
    {
      "cell_type": "code",
      "metadata": {
        "id": "fkVleNJuK5tW",
        "colab": {
          "base_uri": "https://localhost:8080/",
          "height": 79
        },
        "outputId": "ab34fd68-8242-4b4b-fda1-883cb104fe63"
      },
      "source": [
        "# 基本例題 13 p. 26 次の式を因数分解する (1)\n",
        "from sympy.abc import *\n",
        "from sympy import *\n",
        "expr = x**2-x*y-2*y**2-x-7*y-6\n",
        "display (expr)\n",
        "print()\n",
        "display(factor(expr))"
      ],
      "execution_count": null,
      "outputs": [
        {
          "output_type": "display_data",
          "data": {
            "text/latex": "$\\displaystyle x^{2} - x y - x - 2 y^{2} - 7 y - 6$",
            "text/plain": [
              "x**2 - x*y - x - 2*y**2 - 7*y - 6"
            ]
          },
          "metadata": {
            "tags": []
          }
        },
        {
          "output_type": "stream",
          "text": [
            "\n"
          ],
          "name": "stdout"
        },
        {
          "output_type": "display_data",
          "data": {
            "text/latex": "$\\displaystyle \\left(x - 2 y - 3\\right) \\left(x + y + 2\\right)$",
            "text/plain": [
              "(x - 2*y - 3)*(x + y + 2)"
            ]
          },
          "metadata": {
            "tags": []
          }
        }
      ]
    },
    {
      "cell_type": "code",
      "metadata": {
        "id": "vPSZFg0NLTJ9",
        "colab": {
          "base_uri": "https://localhost:8080/",
          "height": 78
        },
        "outputId": "290db158-0c4f-466d-d88f-3fb3b160aaf9"
      },
      "source": [
        "# 基本例題 13 p. 26 次の式を因数分解する (2)\n",
        "from sympy.abc import *\n",
        "from sympy import *\n",
        "expr = 3*x**2+7*x*y+2*y**2-5*x-5*y+2\n",
        "display (expr)\n",
        "print()\n",
        "display(factor(expr))"
      ],
      "execution_count": null,
      "outputs": [
        {
          "output_type": "display_data",
          "data": {
            "text/latex": "$\\displaystyle 3 x^{2} + 7 x y - 5 x + 2 y^{2} - 5 y + 2$",
            "text/plain": [
              "3*x**2 + 7*x*y - 5*x + 2*y**2 - 5*y + 2"
            ]
          },
          "metadata": {
            "tags": []
          }
        },
        {
          "output_type": "stream",
          "text": [
            "\n"
          ],
          "name": "stdout"
        },
        {
          "output_type": "display_data",
          "data": {
            "text/latex": "$\\displaystyle \\left(x + 2 y - 1\\right) \\left(3 x + y - 2\\right)$",
            "text/plain": [
              "(x + 2*y - 1)*(3*x + y - 2)"
            ]
          },
          "metadata": {
            "tags": []
          }
        }
      ]
    },
    {
      "cell_type": "code",
      "metadata": {
        "id": "ipFtFRpajzCy",
        "colab": {
          "base_uri": "https://localhost:8080/",
          "height": 78
        },
        "outputId": "64063cd5-145b-49dc-dbac-de55ba9d5720"
      },
      "source": [
        "# 基本例題 14 p. 27 次の式を因数分解する (1)\n",
        "from sympy.abc import *\n",
        "from sympy import *\n",
        "expr = a**2*b+a*b**2+b**2*c+b*c**2+c**2*a+c*a**2+2*a*b*c\n",
        "display(expr)\n",
        "print()\n",
        "display(factor(expr))"
      ],
      "execution_count": null,
      "outputs": [
        {
          "output_type": "display_data",
          "data": {
            "text/latex": "$\\displaystyle a^{2} b + a^{2} c + a b^{2} + 2 a b c + a c^{2} + b^{2} c + b c^{2}$",
            "text/plain": [
              "a**2*b + a**2*c + a*b**2 + 2*a*b*c + a*c**2 + b**2*c + b*c**2"
            ]
          },
          "metadata": {
            "tags": []
          }
        },
        {
          "output_type": "stream",
          "text": [
            "\n"
          ],
          "name": "stdout"
        },
        {
          "output_type": "display_data",
          "data": {
            "text/latex": "$\\displaystyle \\left(a + b\\right) \\left(a + c\\right) \\left(b + c\\right)$",
            "text/plain": [
              "(a + b)*(a + c)*(b + c)"
            ]
          },
          "metadata": {
            "tags": []
          }
        }
      ]
    },
    {
      "cell_type": "code",
      "metadata": {
        "id": "USJm5_0Vkb0J",
        "colab": {
          "base_uri": "https://localhost:8080/",
          "height": 79
        },
        "outputId": "8fc83631-5c96-455a-ac6c-7ba8cea170cd"
      },
      "source": [
        "# 基本例題 14 p. 27 次の式を因数分解する (2)\n",
        "from sympy.abc import *\n",
        "from sympy import *\n",
        "expr = a**2*(b-c)+b**2*(c-a)+c**2*(a-b)\n",
        "display(expr)\n",
        "print()\n",
        "display(factor(expr))"
      ],
      "execution_count": null,
      "outputs": [
        {
          "output_type": "display_data",
          "data": {
            "text/latex": "$\\displaystyle a^{2} \\left(b - c\\right) + b^{2} \\left(- a + c\\right) + c^{2} \\left(a - b\\right)$",
            "text/plain": [
              "a**2*(b - c) + b**2*(-a + c) + c**2*(a - b)"
            ]
          },
          "metadata": {
            "tags": []
          }
        },
        {
          "output_type": "stream",
          "text": [
            "\n"
          ],
          "name": "stdout"
        },
        {
          "output_type": "display_data",
          "data": {
            "text/latex": "$\\displaystyle \\left(a - b\\right) \\left(a - c\\right) \\left(b - c\\right)$",
            "text/plain": [
              "(a - b)*(a - c)*(b - c)"
            ]
          },
          "metadata": {
            "tags": []
          }
        }
      ]
    },
    {
      "cell_type": "code",
      "metadata": {
        "id": "MOStkQpwBqMo",
        "colab": {
          "base_uri": "https://localhost:8080/",
          "height": 79
        },
        "outputId": "b7041f87-d3f9-430e-e3ec-1407e5bf37ab"
      },
      "source": [
        "# 基本例題 15 p. 30 次の式を計算する (1)\n",
        "from sympy.abc import *\n",
        "from sympy import *\n",
        "expr = (x-1)*(x-2)*(x-3)*(x-4)\n",
        "display(expr)\n",
        "print()\n",
        "display(expand(expr))"
      ],
      "execution_count": null,
      "outputs": [
        {
          "output_type": "display_data",
          "data": {
            "text/latex": "$\\displaystyle \\left(x - 4\\right) \\left(x - 3\\right) \\left(x - 2\\right) \\left(x - 1\\right)$",
            "text/plain": [
              "(x - 4)*(x - 3)*(x - 2)*(x - 1)"
            ]
          },
          "metadata": {
            "tags": []
          }
        },
        {
          "output_type": "stream",
          "text": [
            "\n"
          ],
          "name": "stdout"
        },
        {
          "output_type": "display_data",
          "data": {
            "text/latex": "$\\displaystyle x^{4} - 10 x^{3} + 35 x^{2} - 50 x + 24$",
            "text/plain": [
              "x**4 - 10*x**3 + 35*x**2 - 50*x + 24"
            ]
          },
          "metadata": {
            "tags": []
          }
        }
      ]
    },
    {
      "cell_type": "code",
      "metadata": {
        "id": "xS6016HPCa2f",
        "outputId": "20a2e457-cbf9-4d13-d6dc-20d5714812a2",
        "colab": {
          "base_uri": "https://localhost:8080/",
          "height": 80
        }
      },
      "source": [
        "# 基本例題 15 p. 30 次の式を計算する (2)\n",
        "from sympy.abc import *\n",
        "from sympy import *\n",
        "expr = (a+b+c)**2+(b+c-a)**2+(c+a-b)**2+(a+b-c)**2\n",
        "display(expr)\n",
        "print()\n",
        "display(expand(expr))"
      ],
      "execution_count": 1,
      "outputs": [
        {
          "output_type": "display_data",
          "data": {
            "text/latex": "$\\displaystyle \\left(- a + b + c\\right)^{2} + \\left(a - b + c\\right)^{2} + \\left(a + b - c\\right)^{2} + \\left(a + b + c\\right)^{2}$",
            "text/plain": [
              "(-a + b + c)**2 + (a - b + c)**2 + (a + b - c)**2 + (a + b + c)**2"
            ]
          },
          "metadata": {
            "tags": []
          }
        },
        {
          "output_type": "stream",
          "text": [
            "\n"
          ],
          "name": "stdout"
        },
        {
          "output_type": "display_data",
          "data": {
            "text/latex": "$\\displaystyle 4 a^{2} + 4 b^{2} + 4 c^{2}$",
            "text/plain": [
              "4*a**2 + 4*b**2 + 4*c**2"
            ]
          },
          "metadata": {
            "tags": []
          }
        }
      ]
    },
    {
      "cell_type": "code",
      "metadata": {
        "id": "sxdaJgU5KyVQ",
        "outputId": "370cebae-7d2a-4d7b-d168-cc063b85b4c7",
        "colab": {
          "base_uri": "https://localhost:8080/",
          "height": 80
        }
      },
      "source": [
        "# 基本例題 15 p. 30 次の式を計算する (3)\n",
        "from sympy.abc import *\n",
        "from sympy import *\n",
        "expr = (x+y)**4-(x-y)**4\n",
        "display(expr)\n",
        "print()\n",
        "display(expand(expr))"
      ],
      "execution_count": 2,
      "outputs": [
        {
          "output_type": "display_data",
          "data": {
            "text/latex": "$\\displaystyle - \\left(x - y\\right)^{4} + \\left(x + y\\right)^{4}$",
            "text/plain": [
              "-(x - y)**4 + (x + y)**4"
            ]
          },
          "metadata": {
            "tags": []
          }
        },
        {
          "output_type": "stream",
          "text": [
            "\n"
          ],
          "name": "stdout"
        },
        {
          "output_type": "display_data",
          "data": {
            "text/latex": "$\\displaystyle 8 x^{3} y + 8 x y^{3}$",
            "text/plain": [
              "8*x**3*y + 8*x*y**3"
            ]
          },
          "metadata": {
            "tags": []
          }
        }
      ]
    },
    {
      "cell_type": "code",
      "metadata": {
        "id": "JX95sTH4K-fy",
        "outputId": "09e6eee7-ae5f-449e-e681-5d2a413975b6",
        "colab": {
          "base_uri": "https://localhost:8080/",
          "height": 79
        }
      },
      "source": [
        "# 基本例題 16 p. 31 次の式を因数分解する (1)\n",
        "from sympy.abc import *\n",
        "from sympy import *\n",
        "expr = a**2*(b+c)+b**2*(c+a)+c**2*(a+b)+3*a*b*c\n",
        "display(expr)\n",
        "print()\n",
        "display(factor(expr))"
      ],
      "execution_count": 3,
      "outputs": [
        {
          "output_type": "display_data",
          "data": {
            "text/latex": "$\\displaystyle a^{2} \\left(b + c\\right) + 3 a b c + b^{2} \\left(a + c\\right) + c^{2} \\left(a + b\\right)$",
            "text/plain": [
              "a**2*(b + c) + 3*a*b*c + b**2*(a + c) + c**2*(a + b)"
            ]
          },
          "metadata": {
            "tags": []
          }
        },
        {
          "output_type": "stream",
          "text": [
            "\n"
          ],
          "name": "stdout"
        },
        {
          "output_type": "display_data",
          "data": {
            "text/latex": "$\\displaystyle \\left(a + b + c\\right) \\left(a b + a c + b c\\right)$",
            "text/plain": [
              "(a + b + c)*(a*b + a*c + b*c)"
            ]
          },
          "metadata": {
            "tags": []
          }
        }
      ]
    },
    {
      "cell_type": "code",
      "metadata": {
        "id": "FQ6BynDJLhRX",
        "outputId": "1e10f751-5b4b-4deb-d598-e193e104b647",
        "colab": {
          "base_uri": "https://localhost:8080/",
          "height": 79
        }
      },
      "source": [
        "# 基本例題 16 p. 31 次の式を因数分解する (2)\n",
        "from sympy.abc import *\n",
        "from sympy import *\n",
        "expr = a**3*(b-c)+b**3*(c-a)+c**3*(a-b)\n",
        "display(expr)\n",
        "print()\n",
        "display(factor(expr))"
      ],
      "execution_count": 5,
      "outputs": [
        {
          "output_type": "display_data",
          "data": {
            "text/latex": "$\\displaystyle a^{3} \\left(b - c\\right) + b^{3} \\left(- a + c\\right) + c^{3} \\left(a - b\\right)$",
            "text/plain": [
              "a**3*(b - c) + b**3*(-a + c) + c**3*(a - b)"
            ]
          },
          "metadata": {
            "tags": []
          }
        },
        {
          "output_type": "stream",
          "text": [
            "\n"
          ],
          "name": "stdout"
        },
        {
          "output_type": "display_data",
          "data": {
            "text/latex": "$\\displaystyle \\left(a - b\\right) \\left(a - c\\right) \\left(b - c\\right) \\left(a + b + c\\right)$",
            "text/plain": [
              "(a - b)*(a - c)*(b - c)*(a + b + c)"
            ]
          },
          "metadata": {
            "tags": []
          }
        }
      ]
    },
    {
      "cell_type": "markdown",
      "metadata": {
        "id": "eXOl_c41K6JM"
      },
      "source": [
        "# いまここ"
      ]
    },
    {
      "cell_type": "code",
      "metadata": {
        "id": "asowLb9YMHlK"
      },
      "source": [
        "# 基本例題 17 p. 32 次の式を因数分解する (1)\n"
      ],
      "execution_count": null,
      "outputs": []
    },
    {
      "cell_type": "markdown",
      "metadata": {
        "id": "qElx6KJirz1E"
      },
      "source": [
        "# 最後"
      ]
    }
  ]
}