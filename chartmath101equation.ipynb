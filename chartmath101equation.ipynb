{
  "nbformat": 4,
  "nbformat_minor": 0,
  "metadata": {
    "colab": {
      "name": "chartmath101equation.ipynb",
      "provenance": [],
      "toc_visible": true,
      "authorship_tag": "ABX9TyOtKKX+DhJeWhuucLiXfR9b",
      "include_colab_link": true
    },
    "kernelspec": {
      "name": "python3",
      "display_name": "Python 3"
    }
  },
  "cells": [
    {
      "cell_type": "markdown",
      "metadata": {
        "id": "view-in-github",
        "colab_type": "text"
      },
      "source": [
        "<a href=\"https://colab.research.google.com/github/kalz2q/mycolabnotebooks/blob/master/chartmath101equation.ipynb\" target=\"_parent\"><img src=\"https://colab.research.google.com/assets/colab-badge.svg\" alt=\"Open In Colab\"/></a>"
      ]
    },
    {
      "cell_type": "markdown",
      "metadata": {
        "id": "P4kVFKYdt2jO"
      },
      "source": [
        "# メモ\n",
        "\n",
        "チャート式数学を Colab に写経するプロジェクト。\n",
        "\n",
        "これは数学 Ⅰ。青チャート。 第1章 方程式"
      ]
    },
    {
      "cell_type": "markdown",
      "metadata": {
        "id": "A-_PdSWZuUxn"
      },
      "source": [
        " # 方程式と不等式"
      ]
    },
    {
      "cell_type": "markdown",
      "metadata": {
        "id": "ozBHB9O_u4fr"
      },
      "source": [
        "**式の計算**"
      ]
    },
    {
      "cell_type": "markdown",
      "metadata": {
        "id": "UP7_LX44CE1r"
      },
      "source": [
        "**多項式 polynomial**\n",
        "\n",
        "1. 数や文字だけの積の形を単項式と言う。単項式の和として表される式を多項式という。\n",
        "\n",
        "1. 文字の部分が同じな項を同類項という\n",
        "\n",
        "1. 単項式の数の部分を係数、文字の指数の和を次数といい、次数が $n$ のとき $n$ 次式という。次数が 0 の項を定数項という。\n",
        "\n"
      ]
    },
    {
      "cell_type": "markdown",
      "metadata": {
        "id": "F5aBs4FkvKiu"
      },
      "source": [
        "**多項式の加法・減法と乗法**\n",
        "\n",
        "1. 多項式の計算における基本法則\n",
        "  - 交換法則 $\\quad A+B=B+A,\\quad AB=BA$   \n",
        "  - 結合法則 $\\quad (A+B) + C = A+(B+C), \\quad (AB)C=A(BC)$  \n",
        "  - 分配法則 $\\quad A(B+C)=AB+ AC,\\quad (A+B)C=AC+BC$\n",
        "\n",
        "1. 指数法則\n",
        "\n",
        "  - $a^ma^n= a^{m+n}$  \n",
        "  - $(a^m)^n = a^{mn}$  \n",
        "  - $(ab)^n = a^n b^n$  \n",
        "\n",
        "\n"
      ]
    },
    {
      "cell_type": "markdown",
      "metadata": {
        "id": "ftFHXy05uXTK"
      },
      "source": [
        "# いまここ p.10"
      ]
    },
    {
      "cell_type": "markdown",
      "metadata": {
        "id": "WFwEVbk3uaCv"
      },
      "source": [
        "多項式でないもの\r\n",
        "\r\n",
        "$\\quad \\quad \\displaystyle \\frac{1}{x+1},~x+\\frac{3}{x},~\\sqrt{x^2+1},~x^2-2\\sqrt{x}-\\sqrt5$\r\n",
        "\r\n",
        "多項式の整理 $\\quad$ 項の次数の高いものから順に並べる $\\cdots\\cdots$降冪 (こうべき)\r\n",
        "\r\n"
      ]
    },
    {
      "cell_type": "markdown",
      "metadata": {
        "id": "OQnPAxFCY3xo"
      },
      "source": [
        "**基本例題 1**\r\n",
        "\r\n",
        "次の多項式の同類項をまとめて整理する。 また 2, 3 の多項式において、[  ] 内の文字に着目したとき、その次数と定数項はなにか。\r\n",
        "\r\n",
        "1. "
      ]
    }
  ]
}