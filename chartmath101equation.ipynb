{
  "nbformat": 4,
  "nbformat_minor": 0,
  "metadata": {
    "colab": {
      "name": "chartmath101equation.ipynb",
      "provenance": [],
      "toc_visible": true,
      "authorship_tag": "ABX9TyNtvgZqK7RChnQaLui062+j",
      "include_colab_link": true
    },
    "kernelspec": {
      "name": "python3",
      "display_name": "Python 3"
    }
  },
  "cells": [
    {
      "cell_type": "markdown",
      "metadata": {
        "id": "view-in-github",
        "colab_type": "text"
      },
      "source": [
        "<a href=\"https://colab.research.google.com/github/kalz2q/mycolabnotebooks/blob/master/chartmath101equation.ipynb\" target=\"_parent\"><img src=\"https://colab.research.google.com/assets/colab-badge.svg\" alt=\"Open In Colab\"/></a>"
      ]
    },
    {
      "cell_type": "markdown",
      "metadata": {
        "id": "P4kVFKYdt2jO"
      },
      "source": [
        "# メモ\n",
        "\n",
        "チャート式数学を Colab に写経するプロジェクト。\n",
        "\n",
        "これは数学 Ⅰ。青チャート。"
      ]
    },
    {
      "cell_type": "markdown",
      "metadata": {
        "id": "A-_PdSWZuUxn"
      },
      "source": [
        " # 方程式と不等式"
      ]
    },
    {
      "cell_type": "markdown",
      "metadata": {
        "id": "ozBHB9O_u4fr"
      },
      "source": [
        "**式の計算**"
      ]
    },
    {
      "cell_type": "markdown",
      "metadata": {
        "id": "UP7_LX44CE1r"
      },
      "source": [
        "**多項式 polynomial**\n",
        "\n",
        "1. 数や文字だけの積の形を単項式と言う。単項式の和として表される式を多項式という。\n",
        "\n",
        "1. 文字の部分が同じな項を同類項という\n",
        "\n",
        "1. 単項式の数の部分を係数、文字の指数の和を次数といい、次数が $n$ のとき $n$ 次式という。次数が 0 の項を定数項という。\n",
        "\n"
      ]
    },
    {
      "cell_type": "markdown",
      "metadata": {
        "id": "F5aBs4FkvKiu"
      },
      "source": [
        "**多項式の加法・減法と乗法**\n",
        "\n",
        "1. 多項式の計算における基本法則\n",
        "  - 交換法則 $\\quad A+B=B+A,\\quad AB=BA$   \n",
        "  - 結合法則 $\\quad (A+B) + C = A+(B+C), \\quad (AB)C=A(BC)$  \n",
        "  - 分配法則 $\\quad A(B+C)=AB+ AC,\\quad (A+B)C=AC+BC$\n",
        "\n",
        "1. 指数法則\n",
        "\n",
        "  - $a^ma^n= a^{m+n}$  \n",
        "  - $(a^m)^n = a^{mn}$  \n",
        "  - $(ab)^n = a^n b^n$  \n",
        "\n",
        "\n"
      ]
    },
    {
      "cell_type": "markdown",
      "metadata": {
        "id": "V1vEGvcxTfA5"
      },
      "source": [
        "sympy で実験してみる。\n",
        "\n",
        "sympy は python による数式処理の言語。\n",
        "\n",
        "数式処理言語として、Mathematica(有料), Maxima(無料), Sympy(無料) が有名。"
      ]
    },
    {
      "cell_type": "code",
      "metadata": {
        "id": "7gPm5SLkEg32",
        "colab": {
          "base_uri": "https://localhost:8080/",
          "height": 301
        },
        "outputId": "f23c2c69-fa4c-4e46-ec97-3eb0e7b68d1e"
      },
      "source": [
        "from sympy import *\n",
        "init_printing()\n",
        "\n",
        "A, B, C, a, b, m, n = symbols('A, B, C, a, b, m, n')\n",
        "\n",
        "display (A + B)\n",
        "display (A + B + A)\n",
        "display( A*B )\n",
        "display ((A+B)+C)\n",
        "display ((A+B)*C)\n",
        "display (expand((A+B)*C))\n",
        "display (factor(expand((A+B)*C)))\n",
        "\n",
        "display (a**m * a**n)\n",
        "display (simplify(a**m * a**n))\n",
        "\n",
        "display ((a**m)**n)\n",
        "display (a**(m*n))\n",
        "\n",
        "display ((a*b)**n)\n",
        "display (a**n*b**n)\n",
        "\n",
        "\n",
        "\n",
        "\n",
        "\n"
      ],
      "execution_count": null,
      "outputs": [
        {
          "output_type": "display_data",
          "data": {
            "image/png": "[encoded data removed]",
            "text/latex": "$$A + B$$",
            "text/plain": [
              "A + B"
            ]
          },
          "metadata": {
            "tags": []
          }
        },
        {
          "output_type": "display_data",
          "data": {
            "image/png": "[encoded data removed]",
            "text/latex": "$$2 A + B$$",
            "text/plain": [
              "2⋅A + B"
            ]
          },
          "metadata": {
            "tags": []
          }
        },
        {
          "output_type": "display_data",
          "data": {
            "image/png": "[encoded data removed]",
            "text/latex": "$$A B$$",
            "text/plain": [
              "A⋅B"
            ]
          },
          "metadata": {
            "tags": []
          }
        },
        {
          "output_type": "display_data",
          "data": {
            "image/png": "[encoded data removed]",
            "text/latex": "$$A + B + C$$",
            "text/plain": [
              "A + B + C"
            ]
          },
          "metadata": {
            "tags": []
          }
        },
        {
          "output_type": "display_data",
          "data": {
            "image/png": "[encoded data removed]",
            "text/latex": "$$C \\left(A + B\\right)$$",
            "text/plain": [
              "C⋅(A + B)"
            ]
          },
          "metadata": {
            "tags": []
          }
        },
        {
          "output_type": "display_data",
          "data": {
            "image/png": "[encoded data removed]",
            "text/latex": "$$A C + B C$$",
            "text/plain": [
              "A⋅C + B⋅C"
            ]
          },
          "metadata": {
            "tags": []
          }
        },
        {
          "output_type": "display_data",
          "data": {
            "image/png": "[encoded data removed]",
            "text/latex": "$$C \\left(A + B\\right)$$",
            "text/plain": [
              "C⋅(A + B)"
            ]
          },
          "metadata": {
            "tags": []
          }
        },
        {
          "output_type": "display_data",
          "data": {
            "image/png": "[encoded data removed]",
            "text/latex": "$$a^{m} a^{n}$$",
            "text/plain": [
              " m  n\n",
              "a ⋅a "
            ]
          },
          "metadata": {
            "tags": []
          }
        },
        {
          "output_type": "display_data",
          "data": {
            "image/png": "[encoded data removed]",
            "text/latex": "$$a^{m + n}$$",
            "text/plain": [
              " m + n\n",
              "a     "
            ]
          },
          "metadata": {
            "tags": []
          }
        },
        {
          "output_type": "display_data",
          "data": {
            "image/png": "[encoded data removed]",
            "text/latex": "$$\\left(a^{m}\\right)^{n}$$",
            "text/plain": [
              "    n\n",
              "⎛ m⎞ \n",
              "⎝a ⎠ "
            ]
          },
          "metadata": {
            "tags": []
          }
        },
        {
          "output_type": "display_data",
          "data": {
            "image/png": "[encoded data removed]",
            "text/latex": "$$a^{m n}$$",
            "text/plain": [
              " m⋅n\n",
              "a   "
            ]
          },
          "metadata": {
            "tags": []
          }
        },
        {
          "output_type": "display_data",
          "data": {
            "image/png": "[encoded data removed]",
            "text/latex": "$$\\left(a b\\right)^{n}$$",
            "text/plain": [
              "     n\n",
              "(a⋅b) "
            ]
          },
          "metadata": {
            "tags": []
          }
        },
        {
          "output_type": "display_data",
          "data": {
            "image/png": "[encoded data removed]",
            "text/latex": "$$a^{n} b^{n}$$",
            "text/plain": [
              " n  n\n",
              "a ⋅b "
            ]
          },
          "metadata": {
            "tags": []
          }
        }
      ]
    },
    {
      "cell_type": "markdown",
      "metadata": {
        "id": "ftFHXy05uXTK"
      },
      "source": [
        "# いまここ"
      ]
    },
    {
      "cell_type": "markdown",
      "metadata": {
        "id": "WFwEVbk3uaCv"
      },
      "source": [
        ""
      ]
    }
  ]
}