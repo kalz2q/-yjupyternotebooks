{
  "nbformat": 4,
  "nbformat_minor": 0,
  "metadata": {
    "colab": {
      "name": "chartmath101equation.ipynb",
      "provenance": [],
      "toc_visible": true,
      "authorship_tag": "ABX9TyP4aGhvl+e1uQtddjVlw7n8",
      "include_colab_link": true
    },
    "kernelspec": {
      "name": "python3",
      "display_name": "Python 3"
    }
  },
  "cells": [
    {
      "cell_type": "markdown",
      "metadata": {
        "id": "view-in-github",
        "colab_type": "text"
      },
      "source": [
        "<a href=\"https://colab.research.google.com/github/kalz2q/mycolabnotebooks/blob/master/chartmath101equation.ipynb\" target=\"_parent\"><img src=\"https://colab.research.google.com/assets/colab-badge.svg\" alt=\"Open In Colab\"/></a>"
      ]
    },
    {
      "cell_type": "markdown",
      "metadata": {
        "id": "P4kVFKYdt2jO"
      },
      "source": [
        "# メモ\n",
        "\n",
        "チャート式数学を Colab に写経するプロジェクト。\n",
        "\n",
        "これは数学 Ⅰ。青チャート。 第1章 方程式"
      ]
    },
    {
      "cell_type": "markdown",
      "metadata": {
        "id": "A-_PdSWZuUxn"
      },
      "source": [
        " # 方程式と不等式"
      ]
    },
    {
      "cell_type": "markdown",
      "metadata": {
        "id": "ozBHB9O_u4fr"
      },
      "source": [
        "**式の計算**"
      ]
    },
    {
      "cell_type": "markdown",
      "metadata": {
        "id": "UP7_LX44CE1r"
      },
      "source": [
        "**多項式 polynomial**\n",
        "\n",
        "1. 数や文字だけの積の形を単項式と言う。単項式の和として表される式を多項式という。\n",
        "\n",
        "1. 文字の部分が同じな項を同類項という\n",
        "\n",
        "1. 単項式の数の部分を係数、文字の指数の和を次数といい、次数が $n$ のとき $n$ 次式という。次数が 0 の項を定数項という。\n",
        "\n"
      ]
    },
    {
      "cell_type": "markdown",
      "metadata": {
        "id": "F5aBs4FkvKiu"
      },
      "source": [
        "**多項式の加法・減法と乗法**\n",
        "\n",
        "1. 多項式の計算における基本法則\n",
        "  - 交換法則 $\\quad A+B=B+A,\\quad AB=BA$   \n",
        "  - 結合法則 $\\quad (A+B) + C = A+(B+C), \\quad (AB)C=A(BC)$  \n",
        "  - 分配法則 $\\quad A(B+C)=AB+ AC,\\quad (A+B)C=AC+BC$\n",
        "\n",
        "1. 指数法則\n",
        "\n",
        "  - $a^ma^n= a^{m+n}$  \n",
        "  - $(a^m)^n = a^{mn}$  \n",
        "  - $(ab)^n = a^n b^n$  \n",
        "\n",
        "\n"
      ]
    },
    {
      "cell_type": "markdown",
      "metadata": {
        "id": "ftFHXy05uXTK"
      },
      "source": [
        "# いまここ p.10"
      ]
    },
    {
      "cell_type": "markdown",
      "metadata": {
        "id": "WFwEVbk3uaCv"
      },
      "source": [
        "多項式でないもの\n",
        "\n",
        "$\\quad \\quad \\displaystyle \\frac{1}{x+1},~x+\\frac{3}{x},~\\sqrt{x^2+1},~x^2-2\\sqrt{x}-\\sqrt5$\n",
        "\n",
        "多項式の整理 $\\quad$ 項の次数の高いものから順に並べる $\\cdots\\cdots$降冪 (こうべき)\n",
        "\n"
      ]
    },
    {
      "cell_type": "markdown",
      "metadata": {
        "id": "OQnPAxFCY3xo"
      },
      "source": [
        "**基本例題 1**\n",
        "\n",
        "次の多項式の同類項をまとめて整理する。 また 2, 3 の多項式において、[  ] 内の文字に着目したとき、その次数と定数項はなにか。\n",
        "\n",
        "1. $3x^2+2x-6-4x^2+3x+2$\n",
        "\n",
        "1. $2a^2-ab-b^2+4ab+3a^2+2b^2$ $\\quad [b]$\n",
        "\n",
        "1. $x^2-2ax^2y+4xy-3by+y^2+2xy-2by+4a$ $\\quad [x と y], [y]$"
      ]
    },
    {
      "cell_type": "markdown",
      "metadata": {
        "id": "RDzTcp_Vf2dU"
      },
      "source": [
        "**解答**\n",
        "\n",
        "1. $-x^2+5x-4$\n",
        "\n",
        "1. $5a^2+3ab+b^2$\n",
        "\n",
        "3. $x^3 - 2ax^2y +6xy + y^2 -5by +4a$  \n",
        "$x$ と $y$ に着目すると $\\quad$ 次数 3, 定数項 $4a$   \n",
        "更に、$y$に着目すると $y^2+(-2ax^2+6x-5b)y+x^3+4a$ より  \n",
        "$\\quad$ 次数 2, 定数項 $x^2+4a$  \n"
      ]
    },
    {
      "cell_type": "markdown",
      "metadata": {
        "id": "Yg0w6HRPllg0"
      },
      "source": [
        "# 多項式の加法・減法と乗法\n",
        "\n",
        "多項式の計算における基本法則\n",
        "\n",
        "$\n",
        "\\begin{array}{lccc}\n",
        "&加法  &|& 乗法 \\\\\n",
        "交換法則 & A+B=B+A &|& AB=BA \\\\\n",
        "結合法則 & (A+B)+C=A+(B+C) &|& (AB)C = A(BC)\n",
        "\\end{array}\n",
        "$\n",
        "\n",
        "分配法則 $\\quad A(B+C)=AB+AC, (A+B)C = AC+BC$\n",
        "\n",
        "1. 指数法則\n",
        "\n",
        "  - $a^ma^n= a^{m+n}$  \n",
        "  - $(a^m)^n = a^{mn}$  \n",
        "  - $(ab)^n = a^n b^n$  \n"
      ]
    },
    {
      "cell_type": "markdown",
      "metadata": {
        "id": "3lgO2KPGjH2f"
      },
      "source": [
        "**展開の公式**\n",
        "\n",
        "$(a+b)^3\n",
        "$"
      ]
    },
    {
      "cell_type": "code",
      "metadata": {
        "id": "kv5_WQzQi_mD"
      },
      "source": [
        ""
      ],
      "execution_count": null,
      "outputs": []
    }
  ]
}