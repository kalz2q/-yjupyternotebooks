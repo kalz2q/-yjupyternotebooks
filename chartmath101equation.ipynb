{
  "nbformat": 4,
  "nbformat_minor": 0,
  "metadata": {
    "colab": {
      "name": "chartmath101equation.ipynb",
      "provenance": [],
      "toc_visible": true,
      "authorship_tag": "ABX9TyO6WFBK/1Jc3XS8L9FKLT8X",
      "include_colab_link": true
    },
    "kernelspec": {
      "name": "python3",
      "display_name": "Python 3"
    }
  },
  "cells": [
    {
      "cell_type": "markdown",
      "metadata": {
        "id": "view-in-github",
        "colab_type": "text"
      },
      "source": [
        "<a href=\"https://colab.research.google.com/github/kalz2q/mycolabnotebooks/blob/master/chartmath101equation.ipynb\" target=\"_parent\"><img src=\"https://colab.research.google.com/assets/colab-badge.svg\" alt=\"Open In Colab\"/></a>"
      ]
    },
    {
      "cell_type": "markdown",
      "metadata": {
        "id": "P4kVFKYdt2jO"
      },
      "source": [
        "# メモ\n",
        "\n",
        "チャート式数学を Colab に写経するプロジェクト。\n",
        "\n",
        "これは数学 Ⅰ。青チャート。 第1章 方程式と不等式"
      ]
    },
    {
      "cell_type": "markdown",
      "metadata": {
        "id": "ozBHB9O_u4fr"
      },
      "source": [
        "# 式の計算"
      ]
    },
    {
      "cell_type": "markdown",
      "metadata": {
        "id": "UP7_LX44CE1r"
      },
      "source": [
        "**多項式 polynomial**\n",
        "\n",
        "1. 数や文字だけの積の形を単項式と言う。単項式の和として表される式を多項式と言う。\n",
        "\n",
        "1. 文字の部分が同じな項を同類項と言う\n",
        "\n",
        "1. 単項式の数の部分を係数、文字の指数の和を次数といい、次数が $n$ のとき $n$ 次式と言う。次数が 0 の項を定数項と言う。\n",
        "\n"
      ]
    },
    {
      "cell_type": "markdown",
      "metadata": {
        "id": "F5aBs4FkvKiu"
      },
      "source": [
        "**多項式の加法・減法と乗法**\n",
        "\n",
        "1. 多項式の計算における基本法則\n",
        "  - 交換法則 $\\quad A+B=B+A,\\quad AB=BA$   \n",
        "  - 結合法則 $\\quad (A+B) + C = A+(B+C), \\quad (AB)C=A(BC)$  \n",
        "  - 分配法則 $\\quad A(B+C)=AB+ AC,\\quad (A+B)C=AC+BC$\n",
        "\n",
        "cf. commutative law, associative law, distributive law\n",
        "\n",
        "1. 指数法則\n",
        "\n",
        "  - $a^ma^n= a^{m+n}$  \n",
        "  - $(a^m)^n = a^{mn}$  \n",
        "  - $(ab)^n = a^n b^n$  \n",
        "\n",
        "\n"
      ]
    },
    {
      "cell_type": "markdown",
      "metadata": {
        "id": "WFwEVbk3uaCv"
      },
      "source": [
        "多項式でないもの\n",
        "\n",
        "$\\quad \\quad \\displaystyle \\frac{1}{x+1},~x+\\frac{3}{x},~\\sqrt{x^2+1},~x^2-2\\sqrt{x}-\\sqrt5$\n",
        "\n",
        "多項式の整理 $\\quad$ 項の次数の高いものから順に並べる $\\cdots\\cdots$ 降冪 (こうべき)\n",
        "\n"
      ]
    },
    {
      "cell_type": "markdown",
      "metadata": {
        "id": "OQnPAxFCY3xo"
      },
      "source": [
        "**基本例題 1**\n",
        "\n",
        "次の多項式の同類項をまとめて整理する。 また 2, 3 の多項式において、[  ] 内の文字に着目したとき、その次数と定数項はなにか。\n",
        "\n",
        "1. $3x^2+2x-6-4x^2+3x+2$\n",
        "\n",
        "1. $2a^2-ab-b^2+4ab+3a^2+2b^2$ $\\quad [b]$\n",
        "\n",
        "1. $x^2-2ax^2y+4xy-3by+y^2+2xy-2by+4a$ $\\quad [x と y], [y]$"
      ]
    },
    {
      "cell_type": "markdown",
      "metadata": {
        "id": "RDzTcp_Vf2dU"
      },
      "source": [
        "**解答**\n",
        "\n",
        "1. $-x^2+5x-4$\n",
        "\n",
        "1. $5a^2+3ab+b^2$\n",
        "\n",
        "3. $x^3 - 2ax^2y +6xy + y^2 -5by +4a$  \n",
        "$x$ と $y$ に着目すると $\\quad$ 次数 3, 定数項 $4a$   \n",
        "更に、$y$に着目すると $y^2+(-2ax^2+6x-5b)y+x^3+4a$ より  \n",
        "$\\quad$ 次数 2, 定数項 $x^2+4a$  \n"
      ]
    },
    {
      "cell_type": "markdown",
      "metadata": {
        "id": "Yg0w6HRPllg0"
      },
      "source": [
        "# 多項式の加法・減法と乗法\n",
        "\n",
        "多項式の計算における基本法則\n",
        "\n",
        "$\n",
        "\\begin{array}{lccc}\n",
        "&加法  &|& 乗法 \\\\\n",
        "交換法則 & A+B=B+A &|& AB=BA \\\\\n",
        "結合法則 & (A+B)+C=A+(B+C) &|& (AB)C = A(BC)\n",
        "\\end{array}\n",
        "$\n",
        "\n",
        "分配法則 $\\quad A(B+C)=AB+AC, (A+B)C = AC+BC$\n",
        "\n",
        "1. 指数法則\n",
        "\n",
        "  - $a^ma^n= a^{m+n}$  \n",
        "  - $(a^m)^n = a^{mn}$  \n",
        "  - $(ab)^n = a^n b^n$  \n"
      ]
    },
    {
      "cell_type": "markdown",
      "metadata": {
        "id": "3lgO2KPGjH2f"
      },
      "source": [
        "**展開の公式**\n",
        "\n",
        "$(a+b)^2 = a^2+2ab+b^2$\n",
        "\n",
        "$(a-b)^2 = a^2-2ab+b^2$\n",
        "\n",
        "$(a+b)(a-b)=a^2-b^2$\n",
        "\n",
        "$(x+a)(x+b)=x^2+(a+b)x+ab$\n",
        "\n",
        "$(ax+b)(cx+d)=acx^2+(ad+bc)x+bd$\n",
        "\n",
        "$(a+b)(a^2-ab+b^2)=a^3+b^3$\n",
        "\n",
        "$(a-b)(a^2+ab+b^2)=a^3-b^3$\n",
        "\n",
        "$(a+b)^3=a^3+3a^2b+3ab^2+b^3$\n",
        "\n",
        "$(a-b)^3=a^3-3a^2b+3ab^2-b^3$\n"
      ]
    },
    {
      "cell_type": "code",
      "metadata": {
        "id": "xs6cPTORvZjr",
        "colab": {
          "base_uri": "https://localhost:8080/",
          "height": 145
        },
        "outputId": "d26ab02d-192c-4246-fd71-68d03d93fb7b"
      },
      "source": [
        "from sympy import *\n",
        "a,b=symbols(\"a,b\")\n",
        "exp=(a+b)\n",
        "exp2=(a-b)\n",
        "display(exp**3)\n",
        "display(expand(exp**3))\n",
        "display(exp2**3)\n",
        "display(expand(exp2**3))\n",
        "display(exp*exp2)\n",
        "display(expand(exp*exp2))"
      ],
      "execution_count": null,
      "outputs": [
        {
          "output_type": "display_data",
          "data": {
            "text/latex": "$\\displaystyle \\left(a + b\\right)^{3}$",
            "text/plain": [
              "(a + b)**3"
            ]
          },
          "metadata": {
            "tags": []
          }
        },
        {
          "output_type": "display_data",
          "data": {
            "text/latex": "$\\displaystyle a^{3} + 3 a^{2} b + 3 a b^{2} + b^{3}$",
            "text/plain": [
              "a**3 + 3*a**2*b + 3*a*b**2 + b**3"
            ]
          },
          "metadata": {
            "tags": []
          }
        },
        {
          "output_type": "display_data",
          "data": {
            "text/latex": "$\\displaystyle \\left(a - b\\right)^{3}$",
            "text/plain": [
              "(a - b)**3"
            ]
          },
          "metadata": {
            "tags": []
          }
        },
        {
          "output_type": "display_data",
          "data": {
            "text/latex": "$\\displaystyle a^{3} - 3 a^{2} b + 3 a b^{2} - b^{3}$",
            "text/plain": [
              "a**3 - 3*a**2*b + 3*a*b**2 - b**3"
            ]
          },
          "metadata": {
            "tags": []
          }
        },
        {
          "output_type": "display_data",
          "data": {
            "text/latex": "$\\displaystyle \\left(a - b\\right) \\left(a + b\\right)$",
            "text/plain": [
              "(a - b)*(a + b)"
            ]
          },
          "metadata": {
            "tags": []
          }
        },
        {
          "output_type": "display_data",
          "data": {
            "text/latex": "$\\displaystyle a^{2} - b^{2}$",
            "text/plain": [
              "a**2 - b**2"
            ]
          },
          "metadata": {
            "tags": []
          }
        }
      ]
    },
    {
      "cell_type": "code",
      "metadata": {
        "id": "kv5_WQzQi_mD",
        "colab": {
          "base_uri": "https://localhost:8080/",
          "height": 186
        },
        "outputId": "c7bed274-d7bf-4087-f9f8-2649f65fce83"
      },
      "source": [
        "# 基本例題 p.13\n",
        "from sympy.abc import *\n",
        "from sympy import *\n",
        "A = x**2+3*y**2 - 2*x*y\n",
        "display(A)\n",
        "B=y**2+3*x*y - 2*x**2\n",
        "display(B)\n",
        "C=-3*x**2+x*y - 4*y**2\n",
        "display(C)\n",
        "print()\n",
        "display(A+B)\n",
        "display(A-B)\n",
        "display(-3*A+2*B-C)\n",
        "display(3*(2*A+C)-2*(2*(A+C)-(B-C)))"
      ],
      "execution_count": null,
      "outputs": [
        {
          "output_type": "display_data",
          "data": {
            "text/latex": "$\\displaystyle x^{2} - 2 x y + 3 y^{2}$",
            "text/plain": [
              "x**2 - 2*x*y + 3*y**2"
            ]
          },
          "metadata": {
            "tags": []
          }
        },
        {
          "output_type": "display_data",
          "data": {
            "text/latex": "$\\displaystyle - 2 x^{2} + 3 x y + y^{2}$",
            "text/plain": [
              "-2*x**2 + 3*x*y + y**2"
            ]
          },
          "metadata": {
            "tags": []
          }
        },
        {
          "output_type": "display_data",
          "data": {
            "text/latex": "$\\displaystyle - 3 x^{2} + x y - 4 y^{2}$",
            "text/plain": [
              "-3*x**2 + x*y - 4*y**2"
            ]
          },
          "metadata": {
            "tags": []
          }
        },
        {
          "output_type": "stream",
          "text": [
            "\n"
          ],
          "name": "stdout"
        },
        {
          "output_type": "display_data",
          "data": {
            "text/latex": "$\\displaystyle - x^{2} + x y + 4 y^{2}$",
            "text/plain": [
              "-x**2 + x*y + 4*y**2"
            ]
          },
          "metadata": {
            "tags": []
          }
        },
        {
          "output_type": "display_data",
          "data": {
            "text/latex": "$\\displaystyle 3 x^{2} - 5 x y + 2 y^{2}$",
            "text/plain": [
              "3*x**2 - 5*x*y + 2*y**2"
            ]
          },
          "metadata": {
            "tags": []
          }
        },
        {
          "output_type": "display_data",
          "data": {
            "text/latex": "$\\displaystyle - 4 x^{2} + 11 x y - 3 y^{2}$",
            "text/plain": [
              "-4*x**2 + 11*x*y - 3*y**2"
            ]
          },
          "metadata": {
            "tags": []
          }
        },
        {
          "output_type": "display_data",
          "data": {
            "text/latex": "$\\displaystyle 7 x^{2} - x y + 20 y^{2}$",
            "text/plain": [
              "7*x**2 - x*y + 20*y**2"
            ]
          },
          "metadata": {
            "tags": []
          }
        }
      ]
    },
    {
      "cell_type": "code",
      "metadata": {
        "id": "kQE3_AGExxl9",
        "outputId": "998fc529-abbe-4a25-cf39-2e34d1dd9ef2",
        "colab": {
          "base_uri": "https://localhost:8080/",
          "height": 101
        }
      },
      "source": [
        "# 基本例題 3 (1) p.14\n",
        "from sympy.abc import *\n",
        "from sympy import *\n",
        "expr1 = (-x*y**2)**2\n",
        "expr2 = (-3*x**2*y)\n",
        "display (expr1)\n",
        "display (expr2)\n",
        "print()\n",
        "display(expr1*expr2)"
      ],
      "execution_count": 3,
      "outputs": [
        {
          "output_type": "display_data",
          "data": {
            "text/latex": "$\\displaystyle x^{2} y^{4}$",
            "text/plain": [
              "x**2*y**4"
            ]
          },
          "metadata": {
            "tags": []
          }
        },
        {
          "output_type": "display_data",
          "data": {
            "text/latex": "$\\displaystyle - 3 x^{2} y$",
            "text/plain": [
              "-3*x**2*y"
            ]
          },
          "metadata": {
            "tags": []
          }
        },
        {
          "output_type": "stream",
          "text": [
            "\n"
          ],
          "name": "stdout"
        },
        {
          "output_type": "display_data",
          "data": {
            "text/latex": "$\\displaystyle - 3 x^{4} y^{5}$",
            "text/plain": [
              "-3*x**4*y**5"
            ]
          },
          "metadata": {
            "tags": []
          }
        }
      ]
    },
    {
      "cell_type": "code",
      "metadata": {
        "id": "M6p3zuxXRUlg",
        "outputId": "76c6f7b7-7e44-4278-bbc0-2de35e933a76",
        "colab": {
          "base_uri": "https://localhost:8080/",
          "height": 101
        }
      },
      "source": [
        "# 基本例題 3 (2) p.14\n",
        "from sympy.abc import *\n",
        "from sympy import *\n",
        "expr1 = -a**2*b\n",
        "expr2 = (-3*a**2*b*c**2)**3\n",
        "display (expr1)\n",
        "display (expr2)\n",
        "print()\n",
        "display(expr1*expr2)"
      ],
      "execution_count": 4,
      "outputs": [
        {
          "output_type": "display_data",
          "data": {
            "text/latex": "$\\displaystyle - a^{2} b$",
            "text/plain": [
              "-a**2*b"
            ]
          },
          "metadata": {
            "tags": []
          }
        },
        {
          "output_type": "display_data",
          "data": {
            "text/latex": "$\\displaystyle - 27 a^{6} b^{3} c^{6}$",
            "text/plain": [
              "-27*a**6*b**3*c**6"
            ]
          },
          "metadata": {
            "tags": []
          }
        },
        {
          "output_type": "stream",
          "text": [
            "\n"
          ],
          "name": "stdout"
        },
        {
          "output_type": "display_data",
          "data": {
            "text/latex": "$\\displaystyle 27 a^{8} b^{4} c^{6}$",
            "text/plain": [
              "27*a**8*b**4*c**6"
            ]
          },
          "metadata": {
            "tags": []
          }
        }
      ]
    },
    {
      "cell_type": "code",
      "metadata": {
        "id": "MbJPk7zQRlLQ",
        "outputId": "1a5e7938-908c-4679-de9b-99f0431cb600",
        "colab": {
          "base_uri": "https://localhost:8080/",
          "height": 101
        }
      },
      "source": [
        "# 基本例題 3 (3) p.14\n",
        "from sympy.abc import *\n",
        "from sympy import *\n",
        "expr1 = 3*a*b*c\n",
        "expr2 = a+4*b-2*c\n",
        "display (expr1)\n",
        "display (expr2)\n",
        "print()\n",
        "display(expand(expr1*expr2))"
      ],
      "execution_count": 6,
      "outputs": [
        {
          "output_type": "display_data",
          "data": {
            "text/latex": "$\\displaystyle 3 a b c$",
            "text/plain": [
              "3*a*b*c"
            ]
          },
          "metadata": {
            "tags": []
          }
        },
        {
          "output_type": "display_data",
          "data": {
            "text/latex": "$\\displaystyle a + 4 b - 2 c$",
            "text/plain": [
              "a + 4*b - 2*c"
            ]
          },
          "metadata": {
            "tags": []
          }
        },
        {
          "output_type": "stream",
          "text": [
            "\n"
          ],
          "name": "stdout"
        },
        {
          "output_type": "display_data",
          "data": {
            "text/latex": "$\\displaystyle 3 a^{2} b c + 12 a b^{2} c - 6 a b c^{2}$",
            "text/plain": [
              "3*a**2*b*c + 12*a*b**2*c - 6*a*b*c**2"
            ]
          },
          "metadata": {
            "tags": []
          }
        }
      ]
    },
    {
      "cell_type": "code",
      "metadata": {
        "id": "odlwTrGXR0bK",
        "outputId": "c8443db0-5563-4378-d0ab-e99016b11aeb",
        "colab": {
          "base_uri": "https://localhost:8080/",
          "height": 101
        }
      },
      "source": [
        "# 基本例題 3 (4) p.14\n",
        "from sympy.abc import *\n",
        "from sympy import *\n",
        "expr1 = (-x*y)**2\n",
        "expr2 = 3*x**2 - 2*y -4\n",
        "display (expr1)\n",
        "display (expr2)\n",
        "print()\n",
        "display(expand(expr1*expr2))"
      ],
      "execution_count": 7,
      "outputs": [
        {
          "output_type": "display_data",
          "data": {
            "text/latex": "$\\displaystyle x^{2} y^{2}$",
            "text/plain": [
              "x**2*y**2"
            ]
          },
          "metadata": {
            "tags": []
          }
        },
        {
          "output_type": "display_data",
          "data": {
            "text/latex": "$\\displaystyle 3 x^{2} - 2 y - 4$",
            "text/plain": [
              "3*x**2 - 2*y - 4"
            ]
          },
          "metadata": {
            "tags": []
          }
        },
        {
          "output_type": "stream",
          "text": [
            "\n"
          ],
          "name": "stdout"
        },
        {
          "output_type": "display_data",
          "data": {
            "text/latex": "$\\displaystyle 3 x^{4} y^{2} - 2 x^{2} y^{3} - 4 x^{2} y^{2}$",
            "text/plain": [
              "3*x**4*y**2 - 2*x**2*y**3 - 4*x**2*y**2"
            ]
          },
          "metadata": {
            "tags": []
          }
        }
      ]
    },
    {
      "cell_type": "markdown",
      "metadata": {
        "id": "ftFHXy05uXTK"
      },
      "source": [
        "# いまここ "
      ]
    },
    {
      "cell_type": "code",
      "metadata": {
        "id": "rcbVfwKISYdy",
        "outputId": "45b10afd-2f36-4867-c817-5e1babe0ffd1",
        "colab": {
          "base_uri": "https://localhost:8080/",
          "height": 101
        }
      },
      "source": [
        "# 練習 (1) p.14\n",
        "from sympy.abc import *\n",
        "from sympy import *\n",
        "expr1 = (-a*b)**2\n",
        "expr2 = -2*a**3*b\n",
        "display (expr1)\n",
        "display (expr2)\n",
        "print()\n",
        "display(expand(expr1*expr2))"
      ],
      "execution_count": 8,
      "outputs": [
        {
          "output_type": "display_data",
          "data": {
            "text/latex": "$\\displaystyle a^{2} b^{2}$",
            "text/plain": [
              "a**2*b**2"
            ]
          },
          "metadata": {
            "tags": []
          }
        },
        {
          "output_type": "display_data",
          "data": {
            "text/latex": "$\\displaystyle - 2 a^{3} b$",
            "text/plain": [
              "-2*a**3*b"
            ]
          },
          "metadata": {
            "tags": []
          }
        },
        {
          "output_type": "stream",
          "text": [
            "\n"
          ],
          "name": "stdout"
        },
        {
          "output_type": "display_data",
          "data": {
            "text/latex": "$\\displaystyle - 2 a^{5} b^{3}$",
            "text/plain": [
              "-2*a**5*b**3"
            ]
          },
          "metadata": {
            "tags": []
          }
        }
      ]
    },
    {
      "cell_type": "code",
      "metadata": {
        "id": "haMy4fqpSqmj",
        "outputId": "79214f76-a5d4-4bcd-8845-b9252864f3a9",
        "colab": {
          "base_uri": "https://localhost:8080/",
          "height": 101
        }
      },
      "source": [
        "# 練習 (2) p.14\n",
        "from sympy.abc import *\n",
        "from sympy import *\n",
        "expr1 = -2*x**4*y**2*z**3\n",
        "expr2 = -3*x**2*y**2*z**4\n",
        "display (expr1)\n",
        "display (expr2)\n",
        "print()\n",
        "display(expand(expr1*expr2))"
      ],
      "execution_count": 9,
      "outputs": [
        {
          "output_type": "display_data",
          "data": {
            "text/latex": "$\\displaystyle - 2 x^{4} y^{2} z^{3}$",
            "text/plain": [
              "-2*x**4*y**2*z**3"
            ]
          },
          "metadata": {
            "tags": []
          }
        },
        {
          "output_type": "display_data",
          "data": {
            "text/latex": "$\\displaystyle - 3 x^{2} y^{2} z^{4}$",
            "text/plain": [
              "-3*x**2*y**2*z**4"
            ]
          },
          "metadata": {
            "tags": []
          }
        },
        {
          "output_type": "stream",
          "text": [
            "\n"
          ],
          "name": "stdout"
        },
        {
          "output_type": "display_data",
          "data": {
            "text/latex": "$\\displaystyle 6 x^{6} y^{4} z^{7}$",
            "text/plain": [
              "6*x**6*y**4*z**7"
            ]
          },
          "metadata": {
            "tags": []
          }
        }
      ]
    },
    {
      "cell_type": "code",
      "metadata": {
        "id": "-Z8VN044S6KB",
        "outputId": "b5f1d068-7135-4cd3-ca18-a4d59e956a2a",
        "colab": {
          "base_uri": "https://localhost:8080/",
          "height": 101
        }
      },
      "source": [
        "# 練習 (3) p.14\n",
        "from sympy.abc import *\n",
        "from sympy import *\n",
        "expr1 = 2*a**2*b*c\n",
        "expr2 = a-3*b**2+2*c\n",
        "display (expr1)\n",
        "display (expr2)\n",
        "print()\n",
        "display(expand(expr1*expr2))"
      ],
      "execution_count": 10,
      "outputs": [
        {
          "output_type": "display_data",
          "data": {
            "text/latex": "$\\displaystyle 2 a^{2} b c$",
            "text/plain": [
              "2*a**2*b*c"
            ]
          },
          "metadata": {
            "tags": []
          }
        },
        {
          "output_type": "display_data",
          "data": {
            "text/latex": "$\\displaystyle a - 3 b^{2} + 2 c$",
            "text/plain": [
              "a - 3*b**2 + 2*c"
            ]
          },
          "metadata": {
            "tags": []
          }
        },
        {
          "output_type": "stream",
          "text": [
            "\n"
          ],
          "name": "stdout"
        },
        {
          "output_type": "display_data",
          "data": {
            "text/latex": "$\\displaystyle 2 a^{3} b c - 6 a^{2} b^{3} c + 4 a^{2} b c^{2}$",
            "text/plain": [
              "2*a**3*b*c - 6*a**2*b**3*c + 4*a**2*b*c**2"
            ]
          },
          "metadata": {
            "tags": []
          }
        }
      ]
    },
    {
      "cell_type": "code",
      "metadata": {
        "id": "seJ_ef3DTJbB",
        "outputId": "2454beae-ba27-468a-8410-69ad487ffc80",
        "colab": {
          "base_uri": "https://localhost:8080/",
          "height": 101
        }
      },
      "source": [
        "# 練習 (4) p.14\n",
        "from sympy.abc import *\n",
        "from sympy import *\n",
        "expr1 = (-2*x)**3\n",
        "expr2 = 3*x**2-2*x+4\n",
        "display (expr1)\n",
        "display (expr2)\n",
        "print()\n",
        "display(expand(expr1*expr2))"
      ],
      "execution_count": 11,
      "outputs": [
        {
          "output_type": "display_data",
          "data": {
            "text/latex": "$\\displaystyle - 8 x^{3}$",
            "text/plain": [
              "-8*x**3"
            ]
          },
          "metadata": {
            "tags": []
          }
        },
        {
          "output_type": "display_data",
          "data": {
            "text/latex": "$\\displaystyle 3 x^{2} - 2 x + 4$",
            "text/plain": [
              "3*x**2 - 2*x + 4"
            ]
          },
          "metadata": {
            "tags": []
          }
        },
        {
          "output_type": "stream",
          "text": [
            "\n"
          ],
          "name": "stdout"
        },
        {
          "output_type": "display_data",
          "data": {
            "text/latex": "$\\displaystyle - 24 x^{5} + 16 x^{4} - 32 x^{3}$",
            "text/plain": [
              "-24*x**5 + 16*x**4 - 32*x**3"
            ]
          },
          "metadata": {
            "tags": []
          }
        }
      ]
    },
    {
      "cell_type": "code",
      "metadata": {
        "id": "K9cNTDyVTcEG",
        "outputId": "00f59960-ff7c-42e9-ce79-bd24f74c4e74",
        "colab": {
          "base_uri": "https://localhost:8080/",
          "height": 101
        }
      },
      "source": [
        "# 基本例題4 (1) p.15\n",
        "from sympy.abc import *\n",
        "from sympy import *\n",
        "expr1 = 2*x-3\n",
        "expr2 = x**2+3*x-4\n",
        "display (expr1)\n",
        "display (expr2)\n",
        "print()\n",
        "display(expand(expr1*expr2))"
      ],
      "execution_count": 12,
      "outputs": [
        {
          "output_type": "display_data",
          "data": {
            "text/latex": "$\\displaystyle 2 x - 3$",
            "text/plain": [
              "2*x - 3"
            ]
          },
          "metadata": {
            "tags": []
          }
        },
        {
          "output_type": "display_data",
          "data": {
            "text/latex": "$\\displaystyle x^{2} + 3 x - 4$",
            "text/plain": [
              "x**2 + 3*x - 4"
            ]
          },
          "metadata": {
            "tags": []
          }
        },
        {
          "output_type": "stream",
          "text": [
            "\n"
          ],
          "name": "stdout"
        },
        {
          "output_type": "display_data",
          "data": {
            "text/latex": "$\\displaystyle 2 x^{3} + 3 x^{2} - 17 x + 12$",
            "text/plain": [
              "2*x**3 + 3*x**2 - 17*x + 12"
            ]
          },
          "metadata": {
            "tags": []
          }
        }
      ]
    },
    {
      "cell_type": "code",
      "metadata": {
        "id": "lJyVkqlbTukS",
        "outputId": "67489c3b-6934-4bcb-a195-e5e195bc85d0",
        "colab": {
          "base_uri": "https://localhost:8080/",
          "height": 101
        }
      },
      "source": [
        "# 基本例題4 (2) p.15\n",
        "from sympy.abc import *\n",
        "from sympy import *\n",
        "expr1 = 3*x**3-5*x**2+1\n",
        "expr2 = 1-x+2*x**2\n",
        "display (expr1)\n",
        "display (expr2)\n",
        "print()\n",
        "display(expand(expr1*expr2))"
      ],
      "execution_count": 14,
      "outputs": [
        {
          "output_type": "display_data",
          "data": {
            "text/latex": "$\\displaystyle 3 x^{3} - 5 x^{2} + 1$",
            "text/plain": [
              "3*x**3 - 5*x**2 + 1"
            ]
          },
          "metadata": {
            "tags": []
          }
        },
        {
          "output_type": "display_data",
          "data": {
            "text/latex": "$\\displaystyle 2 x^{2} - x + 1$",
            "text/plain": [
              "2*x**2 - x + 1"
            ]
          },
          "metadata": {
            "tags": []
          }
        },
        {
          "output_type": "stream",
          "text": [
            "\n"
          ],
          "name": "stdout"
        },
        {
          "output_type": "display_data",
          "data": {
            "text/latex": "$\\displaystyle 6 x^{5} - 13 x^{4} + 8 x^{3} - 3 x^{2} - x + 1$",
            "text/plain": [
              "6*x**5 - 13*x**4 + 8*x**3 - 3*x**2 - x + 1"
            ]
          },
          "metadata": {
            "tags": []
          }
        }
      ]
    },
    {
      "cell_type": "code",
      "metadata": {
        "id": "wh3uni2PUHYb",
        "outputId": "5ea15254-4dbb-4a57-e038-91f5556f54eb",
        "colab": {
          "base_uri": "https://localhost:8080/",
          "height": 101
        }
      },
      "source": [
        "# 練習4 (1) p.15\n",
        "from sympy.abc import *\n",
        "from sympy import *\n",
        "expr1 = 2*a+3*b\n",
        "expr2 = a-2*b\n",
        "display (expr1)\n",
        "display (expr2)\n",
        "print()\n",
        "display(expand(expr1*expr2))"
      ],
      "execution_count": 16,
      "outputs": [
        {
          "output_type": "display_data",
          "data": {
            "text/latex": "$\\displaystyle 2 a + 3 b$",
            "text/plain": [
              "2*a + 3*b"
            ]
          },
          "metadata": {
            "tags": []
          }
        },
        {
          "output_type": "display_data",
          "data": {
            "text/latex": "$\\displaystyle a - 2 b$",
            "text/plain": [
              "a - 2*b"
            ]
          },
          "metadata": {
            "tags": []
          }
        },
        {
          "output_type": "stream",
          "text": [
            "\n"
          ],
          "name": "stdout"
        },
        {
          "output_type": "display_data",
          "data": {
            "text/latex": "$\\displaystyle 2 a^{2} - a b - 6 b^{2}$",
            "text/plain": [
              "2*a**2 - a*b - 6*b**2"
            ]
          },
          "metadata": {
            "tags": []
          }
        }
      ]
    },
    {
      "cell_type": "code",
      "metadata": {
        "id": "zwKQsmMEUYY1"
      },
      "source": [
        ""
      ],
      "execution_count": null,
      "outputs": []
    }
  ]
}