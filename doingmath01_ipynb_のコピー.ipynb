{
  "nbformat": 4,
  "nbformat_minor": 0,
  "metadata": {
    "colab": {
      "name": "doingmath01.ipynb のコピー",
      "provenance": [],
      "toc_visible": true,
      "authorship_tag": "ABX9TyPM1JSSWwY5A1/wiz5seiL0",
      "include_colab_link": true
    },
    "kernelspec": {
      "name": "python3",
      "display_name": "Python 3"
    }
  },
  "cells": [
    {
      "cell_type": "markdown",
      "metadata": {
        "id": "view-in-github",
        "colab_type": "text"
      },
      "source": [
        "<a href=\"https://colab.research.google.com/github/kalz2q/mycolabnotebooks/blob/master/doingmath01_ipynb_%E3%81%AE%E3%82%B3%E3%83%94%E3%83%BC.ipynb\" target=\"_parent\"><img src=\"https://colab.research.google.com/assets/colab-badge.svg\" alt=\"Open In Colab\"/></a>"
      ]
    },
    {
      "cell_type": "markdown",
      "metadata": {
        "id": "bxuf1ndUU05q",
        "colab_type": "text"
      },
      "source": [
        "# メモ\n",
        "\n",
        "> Doing Math with Python: Use Programming to Explore Algebra, Statistics, Calculus, and More! Amit Saha\n",
        "\n",
        "を `Colab` でなぞりながら読む。\n",
        "\n",
        "本のまえがきに高校数学でプログラミングを学ぶ、と書いてあるので、あちらの高校数学の概要がわかり、自分にとっては復習になるかもしれない。\n",
        "\n",
        "途中でめげるかもしれないがとりあえず始めてみよう。\n",
        "\n",
        "http://www.nostarch.com/doingmathwithpython/ にプログラムとヒントがあるとのこと。\n"
      ]
    },
    {
      "cell_type": "markdown",
      "metadata": {
        "id": "v7kSBRy7Y6dP",
        "colab_type": "text"
      },
      "source": [
        "# 数値の操作"
      ]
    },
    {
      "cell_type": "code",
      "metadata": {
        "id": "45VaHl6fZ-5X",
        "colab_type": "code",
        "colab": {
          "base_uri": "https://localhost:8080/",
          "height": 119
        },
        "outputId": "20f3779e-d8e2-44fa-dc8a-1cf04b12bce3"
      },
      "source": [
        "print (1 + 2)\n",
        "print (3.5)\n",
        "print ( -1 + 2.5)\n",
        "print (100 - 45)\n",
        "print (3 * 2)\n",
        "print (3.5 * 1.5)"
      ],
      "execution_count": null,
      "outputs": [
        {
          "output_type": "stream",
          "text": [
            "3\n",
            "3.5\n",
            "1.5\n",
            "55\n",
            "6\n",
            "5.25\n"
          ],
          "name": "stdout"
        }
      ]
    },
    {
      "cell_type": "code",
      "metadata": {
        "id": "KliXPAQmaWj1",
        "colab_type": "code",
        "colab": {}
      },
      "source": [
        "print (3 / 2)\n",
        "print (4 / 2)"
      ],
      "execution_count": null,
      "outputs": []
    },
    {
      "cell_type": "markdown",
      "metadata": {
        "id": "Ivg5InS6Y6nY",
        "colab_type": "text"
      },
      "source": [
        "以上、加算、減算、乗算、除算を見た。\n",
        "\n",
        "除算で引数が整数同士でも返される値は浮動小数点つきになる。\n",
        "\n",
        "整数除算を行いたい場合は、`//` を用いる。"
      ]
    },
    {
      "cell_type": "code",
      "metadata": {
        "id": "k2O6Wlp8a-Lg",
        "colab_type": "code",
        "colab": {
          "base_uri": "https://localhost:8080/",
          "height": 119
        },
        "outputId": "376cca67-c3e9-49e9-b6ca-f50ca3f72bf0"
      },
      "source": [
        "print (3 // 2)\n",
        "print (-3 // 2)\n",
        "print (round (3 / 2))\n",
        "print (round (-3 / 2))\n",
        "print (int(3 / 2))\n",
        "print (int(-3 / 2))"
      ],
      "execution_count": null,
      "outputs": [
        {
          "output_type": "stream",
          "text": [
            "1\n",
            "-2\n",
            "2\n",
            "-2\n",
            "1\n",
            "-1\n"
          ],
          "name": "stdout"
        }
      ]
    },
    {
      "cell_type": "markdown",
      "metadata": {
        "id": "GQSP4CsQbWRH",
        "colab_type": "text"
      },
      "source": [
        "`//` は床除算 `floor division` と呼ばれ、その数以下の整数を結果として返す。\n",
        "\n",
        "余り計算は `%` `modulo` 演算子を用いる。"
      ]
    },
    {
      "cell_type": "code",
      "metadata": {
        "id": "igWqHRoUb_fE",
        "colab_type": "code",
        "colab": {
          "base_uri": "https://localhost:8080/",
          "height": 34
        },
        "outputId": "da1bb7f3-5d6d-4f35-d3d8-1cd51b79fff7"
      },
      "source": [
        "print (9 % 2)"
      ],
      "execution_count": null,
      "outputs": [
        {
          "output_type": "stream",
          "text": [
            "1\n"
          ],
          "name": "stdout"
        }
      ]
    },
    {
      "cell_type": "markdown",
      "metadata": {
        "id": "i9SefNYCcEjH",
        "colab_type": "text"
      },
      "source": [
        "冪乗は `**` `exponential` 演算子を用いる。"
      ]
    },
    {
      "cell_type": "code",
      "metadata": {
        "id": "2ka4BBHdcNxH",
        "colab_type": "code",
        "colab": {
          "base_uri": "https://localhost:8080/",
          "height": 68
        },
        "outputId": "a28312d3-b3bc-49f1-8d2a-44e24a084134"
      },
      "source": [
        "print (2 ** 2)\n",
        "print (2 ** 10)\n",
        "print (1 ** 10)"
      ],
      "execution_count": null,
      "outputs": [
        {
          "output_type": "stream",
          "text": [
            "4\n",
            "1024\n",
            "1\n"
          ],
          "name": "stdout"
        }
      ]
    },
    {
      "cell_type": "markdown",
      "metadata": {
        "id": "btx7_fHRcXDo",
        "colab_type": "text"
      },
      "source": [
        "冪乗の値 `exponential symbol` に `1` 以下の値が使える。平方根を求めたいときにには `1/2`、立方根の場合は `1/3`である。"
      ]
    },
    {
      "cell_type": "code",
      "metadata": {
        "id": "eJL9HmgRcV8I",
        "colab_type": "code",
        "colab": {
          "base_uri": "https://localhost:8080/",
          "height": 34
        },
        "outputId": "8345aaa3-8b50-471a-f0b1-19d6bd14720f"
      },
      "source": [
        "print (8 ** (1 / 3))"
      ],
      "execution_count": null,
      "outputs": [
        {
          "output_type": "stream",
          "text": [
            "2.0\n"
          ],
          "name": "stdout"
        }
      ]
    },
    {
      "cell_type": "markdown",
      "metadata": {
        "id": "5cXawDZfc5kB",
        "colab_type": "text"
      },
      "source": [
        "演算子の優先順序は `PEMDAS` に従う。\n",
        "\n",
        "* 括弧 parntheses\n",
        "* 指数 exponents\n",
        "* 乗算 multiplication\n",
        "* 除算 division\n",
        "* 加算 addition\n",
        "* 減算 subtraction\n"
      ]
    },
    {
      "cell_type": "code",
      "metadata": {
        "id": "yh0KmGURlKbG",
        "colab_type": "code",
        "colab": {
          "base_uri": "https://localhost:8080/",
          "height": 51
        },
        "outputId": "749c28c3-1812-41e5-9606-20a80abcc162"
      },
      "source": [
        "print (5 + 5 * 5)\n",
        "print ((5 + 5) * 5)"
      ],
      "execution_count": null,
      "outputs": [
        {
          "output_type": "stream",
          "text": [
            "30\n",
            "50\n"
          ],
          "name": "stdout"
        }
      ]
    },
    {
      "cell_type": "markdown",
      "metadata": {
        "id": "6MA16xFMla42",
        "colab_type": "text"
      },
      "source": [
        "# 変数\n",
        "\n",
        "数字につけるラベルのことを数学やプログラミングでは変数、と呼ぶ。"
      ]
    },
    {
      "cell_type": "code",
      "metadata": {
        "id": "VnrOsLJXlm9g",
        "colab_type": "code",
        "colab": {
          "base_uri": "https://localhost:8080/",
          "height": 51
        },
        "outputId": "d5e55942-455f-4ca7-debd-7d254e8788c1"
      },
      "source": [
        "a = 3\n",
        "print (a + 1)\n",
        "a = 5\n",
        "print (a + 1)"
      ],
      "execution_count": null,
      "outputs": [
        {
          "output_type": "stream",
          "text": [
            "4\n",
            "6\n"
          ],
          "name": "stdout"
        }
      ]
    },
    {
      "cell_type": "markdown",
      "metadata": {
        "id": "7FzLy1-dmJOC",
        "colab_type": "text"
      },
      "source": [
        "# 型 type\n",
        "\n",
        "整数と浮動小数点は型がちがう。型を知るには `type()` を使う。"
      ]
    },
    {
      "cell_type": "code",
      "metadata": {
        "id": "vaKKJep-mIyM",
        "colab_type": "code",
        "colab": {
          "base_uri": "https://localhost:8080/",
          "height": 68
        },
        "outputId": "20d82da4-7ef3-4056-bebf-5fd4eb1f2186"
      },
      "source": [
        "print (type (3))\n",
        "print (type(3.5))\n",
        "print (type (3.0))"
      ],
      "execution_count": null,
      "outputs": [
        {
          "output_type": "stream",
          "text": [
            "<class 'int'>\n",
            "<class 'float'>\n",
            "<class 'float'>\n"
          ],
          "name": "stdout"
        }
      ]
    },
    {
      "cell_type": "code",
      "metadata": {
        "id": "uLbffZMxm5el",
        "colab_type": "code",
        "colab": {
          "base_uri": "https://localhost:8080/",
          "height": 51
        },
        "outputId": "154bd513-3946-4034-99fb-0cc89cc635f0"
      },
      "source": [
        "print (3 == 3.0)\n",
        "print (type(3) == type (3.0))"
      ],
      "execution_count": null,
      "outputs": [
        {
          "output_type": "stream",
          "text": [
            "True\n",
            "False\n"
          ],
          "name": "stdout"
        }
      ]
    },
    {
      "cell_type": "markdown",
      "metadata": {
        "id": "4kD0vNZZnLi5",
        "colab_type": "text"
      },
      "source": [
        "`3 == 3.0` が`True`になるのは整数を浮動小数点に変換してから比較しているのだろう。"
      ]
    },
    {
      "cell_type": "code",
      "metadata": {
        "id": "3JkfHtnnnozl",
        "colab_type": "code",
        "colab": {
          "base_uri": "https://localhost:8080/",
          "height": 102
        },
        "outputId": "63e5d97d-33ef-4df8-906b-7e8e16119d70"
      },
      "source": [
        "print (int(3.8))\n",
        "print (int(3.0))\n",
        "print (float (3))\n",
        "print (int (-3.8))\n",
        "print ( -7 // 2)"
      ],
      "execution_count": null,
      "outputs": [
        {
          "output_type": "stream",
          "text": [
            "3\n",
            "3\n",
            "3.0\n",
            "-3\n",
            "-4\n"
          ],
          "name": "stdout"
        }
      ]
    },
    {
      "cell_type": "markdown",
      "metadata": {
        "id": "GlhnAJU1oBbc",
        "colab_type": "text"
      },
      "source": [
        "# 分数 fraction\n"
      ]
    },
    {
      "cell_type": "code",
      "metadata": {
        "id": "GbeKg_bdoPzz",
        "colab_type": "code",
        "colab": {
          "base_uri": "https://localhost:8080/",
          "height": 34
        },
        "outputId": "c96a9607-2a44-461b-a813-a8cb4f75717d"
      },
      "source": [
        "from fractions import Fraction\n",
        "f = Fraction (3, 4)\n",
        "f"
      ],
      "execution_count": null,
      "outputs": [
        {
          "output_type": "execute_result",
          "data": {
            "text/plain": [
              "Fraction(3, 4)"
            ]
          },
          "metadata": {
            "tags": []
          },
          "execution_count": 24
        }
      ]
    },
    {
      "cell_type": "code",
      "metadata": {
        "id": "CwI4lUd0o1bh",
        "colab_type": "code",
        "colab": {
          "base_uri": "https://localhost:8080/",
          "height": 34
        },
        "outputId": "abfc736d-7eff-4b6a-937a-e355f9505559"
      },
      "source": [
        "print (f)"
      ],
      "execution_count": null,
      "outputs": [
        {
          "output_type": "stream",
          "text": [
            "3/4\n"
          ],
          "name": "stdout"
        }
      ]
    },
    {
      "cell_type": "markdown",
      "metadata": {
        "id": "4PGRNnpjo9Qc",
        "colab_type": "text"
      },
      "source": [
        "`print()` 関数は `Fraction(3, 4)` を印刷するときに、見やすい形に変換している、と思われる。"
      ]
    },
    {
      "cell_type": "code",
      "metadata": {
        "id": "wt4gg9gvo82L",
        "colab_type": "code",
        "colab": {
          "base_uri": "https://localhost:8080/",
          "height": 34
        },
        "outputId": "c570b161-d130-4da5-8e8d-6c2b98e675c6"
      },
      "source": [
        "Fraction (3, 4) * 1 + 1.5"
      ],
      "execution_count": null,
      "outputs": [
        {
          "output_type": "execute_result",
          "data": {
            "text/plain": [
              "2.25"
            ]
          },
          "metadata": {
            "tags": []
          },
          "execution_count": 26
        }
      ]
    },
    {
      "cell_type": "code",
      "metadata": {
        "id": "XA1nuYLbppEG",
        "colab_type": "code",
        "colab": {
          "base_uri": "https://localhost:8080/",
          "height": 34
        },
        "outputId": "2be8a700-1760-4758-f9d4-82ba10f67956"
      },
      "source": [
        "Fraction (3, 4) + 1 + Fraction (1, 3)"
      ],
      "execution_count": null,
      "outputs": [
        {
          "output_type": "execute_result",
          "data": {
            "text/plain": [
              "Fraction(25, 12)"
            ]
          },
          "metadata": {
            "tags": []
          },
          "execution_count": 27
        }
      ]
    },
    {
      "cell_type": "code",
      "metadata": {
        "id": "vOCUXif2pwJw",
        "colab_type": "code",
        "colab": {
          "base_uri": "https://localhost:8080/",
          "height": 34
        },
        "outputId": "ac6547c6-292d-4df6-f461-3f0bc29d844d"
      },
      "source": [
        "Fraction (3, 4) * 1 + 1.5 + Fraction (1, 3)"
      ],
      "execution_count": null,
      "outputs": [
        {
          "output_type": "execute_result",
          "data": {
            "text/plain": [
              "2.5833333333333335"
            ]
          },
          "metadata": {
            "tags": []
          },
          "execution_count": 29
        }
      ]
    },
    {
      "cell_type": "markdown",
      "metadata": {
        "id": "N2V3CwnUp3Tt",
        "colab_type": "text"
      },
      "source": [
        "式 `expression` の中に1つでも浮動小数点があれば結果は浮動小数点。浮動小数点がなければ、分数があれば分数が結果になる。\n",
        "\n"
      ]
    },
    {
      "cell_type": "markdown",
      "metadata": {
        "id": "oHJ10st3qOGh",
        "colab_type": "text"
      },
      "source": [
        "# 複素数 complex number"
      ]
    },
    {
      "cell_type": "markdown",
      "metadata": {
        "id": "6om-6zEWqb-I",
        "colab_type": "text"
      },
      "source": [
        "Pythonは文字 `j` で識別される虚数部を持つ複素数をサポートする。  \n",
        "`i` または `J` は数学表記の `i` に相当する。  \n",
        "複素数 `2 + 3i` はPythonでは `2 + 3j` として記述される。"
      ]
    },
    {
      "cell_type": "code",
      "metadata": {
        "id": "uFj2tXE3q8Dk",
        "colab_type": "code",
        "colab": {
          "base_uri": "https://localhost:8080/",
          "height": 51
        },
        "outputId": "093543cd-f8fb-4bc4-8e0c-f1e6898e575a"
      },
      "source": [
        "a = 2 + 3j\n",
        "print (a)\n",
        "print (type(a))"
      ],
      "execution_count": null,
      "outputs": [
        {
          "output_type": "stream",
          "text": [
            "(2+3j)\n",
            "<class 'complex'>\n"
          ],
          "name": "stdout"
        }
      ]
    },
    {
      "cell_type": "code",
      "metadata": {
        "id": "-mMyV4BcrHgh",
        "colab_type": "code",
        "colab": {}
      },
      "source": [
        "a = complex (2, 3)"
      ],
      "execution_count": null,
      "outputs": []
    }
  ]
}