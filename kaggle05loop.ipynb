{
  "nbformat": 4,
  "nbformat_minor": 0,
  "metadata": {
    "colab": {
      "name": "kaggle05loop.ipynb",
      "provenance": [],
      "toc_visible": true,
      "authorship_tag": "ABX9TyMOzBcnQLoA+EGBeG3fpejk",
      "include_colab_link": true
    },
    "kernelspec": {
      "name": "python3",
      "display_name": "Python 3"
    }
  },
  "cells": [
    {
      "cell_type": "markdown",
      "metadata": {
        "id": "view-in-github",
        "colab_type": "text"
      },
      "source": [
        "<a href=\"https://colab.research.google.com/github/kalz2q/mycolabnotebooks/blob/master/kaggle05loop.ipynb\" target=\"_parent\"><img src=\"https://colab.research.google.com/assets/colab-badge.svg\" alt=\"Open In Colab\"/></a>"
      ]
    },
    {
      "cell_type": "code",
      "metadata": {
        "id": "4UTN8UCrfmlw",
        "colab_type": "code",
        "colab": {}
      },
      "source": [
        ""
      ],
      "execution_count": null,
      "outputs": []
    },
    {
      "cell_type": "markdown",
      "metadata": {
        "id": "ENTj9XMzgHaX",
        "colab_type": "text"
      },
      "source": [
        "# kaggle05loop.ipynb"
      ]
    },
    {
      "cell_type": "markdown",
      "metadata": {
        "id": "5K849kXOfnPj",
        "colab_type": "text"
      },
      "source": [
        "# メモ\n",
        "\n",
        "1.  kaggleのPython tutorialをベスにColabのノートブックを作成している。\n",
        "1.  Colabで開いて読まれることを想定。\n",
        "1.  元ファイル (https://www.kaggle.com/colinmorris/loops-and-list-comprehensions )\n",
        "\n",
        "\n"
      ]
    },
    {
      "cell_type": "markdown",
      "metadata": {
        "id": "toPQJDF61GHp",
        "colab_type": "text"
      },
      "source": [
        "# ループ\n",
        "\n",
        "ループは同じコードを繰り返し実行する方法のこと。\n",
        "\n",
        "例を示そう。\n",
        "\n"
      ]
    },
    {
      "cell_type": "code",
      "metadata": {
        "id": "6gAT9C_j1SXR",
        "colab_type": "code",
        "colab": {
          "base_uri": "https://localhost:8080/",
          "height": 35
        },
        "outputId": "1065ce44-afe8-4a07-9132-2bf73654e489"
      },
      "source": [
        "planets = ['Mercury', 'Venus', 'Earth', 'Mars', 'Jupiter', 'Saturn', 'Uranus', 'Neptune']\n",
        "for planet in planets:\n",
        "    print(planet, end=' ') # print all on same line"
      ],
      "execution_count": 1,
      "outputs": [
        {
          "output_type": "stream",
          "text": [
            "Mercury Venus Earth Mars Jupiter Saturn Uranus Neptune "
          ],
          "name": "stdout"
        }
      ]
    },
    {
      "cell_type": "markdown",
      "metadata": {
        "id": "QeUmaqxdgML9",
        "colab_type": "text"
      },
      "source": [
        "`for`ループでは次のようなことが行われる。\n",
        "\n",
        "* 使われる変数がしていされる。今回の場合`planet`\n",
        "* ループする値のセット。今回の場合は`planets`\n",
        "* `in`という単語を使っての変数と値のセットとのリンク\n",
        "\n",
        "`in`の右側に来るオブジェクトは繰り返しをサポートするものならなんでもよい。基本的にはなんらかのグループでループできるもの。リスト以外ではタプルも使える。\n",
        "\n"
      ]
    },
    {
      "cell_type": "code",
      "metadata": {
        "id": "SIrqrLI6ALue",
        "colab_type": "code",
        "colab": {
          "base_uri": "https://localhost:8080/",
          "height": 35
        },
        "outputId": "d273d604-26bf-4936-e0b5-854fdfbde75c"
      },
      "source": [
        "multiplicands = (2, 2, 2, 3, 3, 5)\n",
        "product = 1\n",
        "for mult in multiplicands:\n",
        "    product = product * mult\n",
        "\n",
        "product"
      ],
      "execution_count": 2,
      "outputs": [
        {
          "output_type": "execute_result",
          "data": {
            "text/plain": [
              "360"
            ]
          },
          "metadata": {
            "tags": []
          },
          "execution_count": 2
        }
      ]
    },
    {
      "cell_type": "markdown",
      "metadata": {
        "id": "8IWJD-uVgPhd",
        "colab_type": "text"
      },
      "source": [
        "文字列の文字についてもループできる。\n"
      ]
    },
    {
      "cell_type": "code",
      "metadata": {
        "id": "OplDO1YOAdr0",
        "colab_type": "code",
        "colab": {
          "base_uri": "https://localhost:8080/",
          "height": 35
        },
        "outputId": "50e9b00e-fbaf-40e2-80a8-6a67c3c74f0d"
      },
      "source": [
        "s = 'steganograpHy is the practicE of conceaLing a file, message, image, or video within another fiLe, message, image, Or video.'\n",
        "msg = ''\n",
        "# print all the uppercase letters in s, one at a time\n",
        "for char in s:\n",
        "    if char.isupper():\n",
        "        print(char, end='')      "
      ],
      "execution_count": 3,
      "outputs": [
        {
          "output_type": "stream",
          "text": [
            "HELLO"
          ],
          "name": "stdout"
        }
      ]
    },
    {
      "cell_type": "markdown",
      "metadata": {
        "id": "sIQD561CgS6m",
        "colab_type": "text"
      },
      "source": [
        "### range()\n",
        "\n",
        "`range()`は数列をつくる関数で、ループを書くときに役に立つ。\n",
        "\n",
        "たとえば同じ作業を5回やりたいとする:\n",
        "\n"
      ]
    },
    {
      "cell_type": "code",
      "metadata": {
        "id": "roiIh3eOBF2k",
        "colab_type": "code",
        "colab": {
          "base_uri": "https://localhost:8080/",
          "height": 104
        },
        "outputId": "9b5734c6-cdb2-45c8-8efc-d604b04fa13d"
      },
      "source": [
        "for i in range(5):\n",
        "    print(\"Doing important work. i =\", i)"
      ],
      "execution_count": 4,
      "outputs": [
        {
          "output_type": "stream",
          "text": [
            "Doing important work. i = 0\n",
            "Doing important work. i = 1\n",
            "Doing important work. i = 2\n",
            "Doing important work. i = 3\n",
            "Doing important work. i = 4\n"
          ],
          "name": "stdout"
        }
      ]
    },
    {
      "cell_type": "markdown",
      "metadata": {
        "id": "l4Y__AcJBDHw",
        "colab_type": "text"
      },
      "source": [
        "```\n",
        "### while ループ\n",
        "\n",
        "`while`ループは条件を満たすまで繰り返す。\n"
      ]
    },
    {
      "cell_type": "code",
      "metadata": {
        "id": "dvsgrfVsBY5N",
        "colab_type": "code",
        "colab": {
          "base_uri": "https://localhost:8080/",
          "height": 35
        },
        "outputId": "c56d4fbc-94a4-4e17-e599-2c123bb9f669"
      },
      "source": [
        "i = 0\n",
        "while i < 10:\n",
        "    print(i, end=' ')\n",
        "    i += 1"
      ],
      "execution_count": 5,
      "outputs": [
        {
          "output_type": "stream",
          "text": [
            "0 1 2 3 4 5 6 7 8 9 "
          ],
          "name": "stdout"
        }
      ]
    },
    {
      "cell_type": "markdown",
      "metadata": {
        "id": "Ui6j0LgdBfnj",
        "colab_type": "text"
      },
      "source": [
        "# いまここ"
      ]
    },
    {
      "cell_type": "markdown",
      "metadata": {
        "id": "_BF8GlV0gXZL",
        "colab_type": "text"
      },
      "source": [
        "\n",
        "The argument of the while loop is evaluated as a boolean statement, and the loop is executed until the statement evaluates to False.\n",
        "\n",
        "List comprehensions\n",
        "List comprehensions are one of Python's most beloved and unique features. The easiest way to understand them is probably to just look at a few examples:\n",
        "```\n",
        "squares = [n**2 for n in range(10)]\n",
        "squares\n",
        "[0, 1, 4, 9, 16, 25, 36, 49, 64, 81]\n",
        "```\n"
      ]
    },
    {
      "cell_type": "markdown",
      "metadata": {
        "id": "BUJDb7GZgdY7",
        "colab_type": "text"
      },
      "source": [
        "\n",
        "Here's how we would do the same thing without a list comprehension:\n",
        "```\n",
        "squares = []\n",
        "for n in range(10):\n",
        "    squares.append(n**2)\n",
        "squares\n",
        "[0, 1, 4, 9, 16, 25, 36, 49, 64, 81]\n",
        "```\n",
        "\n",
        "We can also add an if condition:\n",
        "```\n",
        "short_planets = [planet for planet in planets if len(planet) < 6]\n",
        "short_planets\n",
        "['Venus', 'Earth', 'Mars']\n",
        "```\n",
        "\n",
        "(If you're familiar with SQL, you might think of this as being like a \"WHERE\" clause)\n",
        "\n",
        "Here's an example of filtering with an if condition and applying some transformation to the loop variable:\n"
      ]
    },
    {
      "cell_type": "markdown",
      "metadata": {
        "id": "V1gJ6uJ1glI2",
        "colab_type": "text"
      },
      "source": [
        "```\n",
        "# str.upper() returns an all-caps version of a string\n",
        "loud_short_planets = [planet.upper() + '!' for planet in planets if len(planet) < 6]\n",
        "loud_short_planets\n",
        "['VENUS!', 'EARTH!', 'MARS!']\n",
        "People usually write these on a single line, but you might find the structure clearer when it's split up over 3 lines:\n",
        "\n",
        "[\n",
        "    planet.upper() + '!' \n",
        "    for planet in planets \n",
        "    if len(planet) < 6\n",
        "]\n",
        "['VENUS!', 'EARTH!', 'MARS!']\n",
        "(Continuing the SQL analogy, you could think of these three lines as SELECT, FROM, and WHERE)\n",
        "```\n",
        "\n",
        "The expression on the left doesn't technically have to involve the loop variable (though it'd be pretty unusual for it not to). What do you think the expression below will evaluate to? Press the 'output' button to check.\n",
        "\n",
        "[32 for planet in planets]\n",
        "List comprehensions combined with functions like min, max, and sum can lead to impressive one-line solutions for problems that would otherwise require several lines of code.\n",
        "\n",
        "For example, compare the following two cells of code that do the same thing.\n",
        "\n"
      ]
    },
    {
      "cell_type": "markdown",
      "metadata": {
        "id": "Fev8CsN6gsCV",
        "colab_type": "text"
      },
      "source": [
        "\n",
        "def count_negatives(nums):\n",
        "    \"\"\"Return the number of negative numbers in the given list.\n",
        "    \n",
        "    >>> count_negatives([5, -1, -2, 0, 3])\n",
        "    2\n",
        "    \"\"\"\n",
        "    n_negative = 0\n",
        "    for num in nums:\n",
        "        if num < 0:\n",
        "            n_negative = n_negative + 1\n",
        "    return n_negative\n",
        "Here's a solution using a list comprehension:\n",
        "\n",
        "def count_negatives(nums):\n",
        "    return len([num for num in nums if num < 0])\n",
        "Much better, right?\n",
        "\n",
        "Well if all we care about is minimizing the length of our code, this third solution is better still!\n",
        "\n"
      ]
    },
    {
      "cell_type": "markdown",
      "metadata": {
        "id": "G-MUOy34g0S-",
        "colab_type": "text"
      },
      "source": [
        "```\n",
        "def count_negatives(nums):\n",
        "    # Reminder: in the \"booleans and conditionals\" exercises, we learned about a quirk of \n",
        "    # Python where it calculates something like True + True + False + True to be equal to 3.\n",
        "    return sum([num < 0 for num in nums])\n",
        "```\n",
        "Which of these solutions is the \"best\" is entirely subjective. Solving a problem with less code is always nice, but it's worth keeping in mind the following lines from The Zen of Python:\n",
        "\n",
        "Readability counts.\n",
        "Explicit is better than implicit.\n",
        "\n",
        "So, use these tools to make compact readable programs. But when you have to choose, favor code that is easy for others to understand.\n",
        "\n",
        "Your Turn\n",
        "You know the deal at this point. We have some fun coding challenges for you. This next set of coding problems is shorter, so try it now.\n",
        "\n"
      ]
    }
  ]
}