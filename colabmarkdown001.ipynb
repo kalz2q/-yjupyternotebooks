{
  "nbformat": 4,
  "nbformat_minor": 0,
  "metadata": {
    "colab": {
      "name": "Markdown Guide",
      "provenance": [],
      "collapsed_sections": [],
      "toc_visible": true,
      "include_colab_link": true
    },
    "kernelspec": {
      "display_name": "Python 3",
      "name": "python3"
    }
  },
  "cells": [
    {
      "cell_type": "markdown",
      "metadata": {
        "id": "view-in-github",
        "colab_type": "text"
      },
      "source": [
        "<a href=\"https://colab.research.google.com/github/kalz2q/myjupyternotebooks/blob/master/colabmarkdown001.ipynb\" target=\"_parent\"><img src=\"https://colab.research.google.com/assets/colab-badge.svg\" alt=\"Open In Colab\"/></a>"
      ]
    },
    {
      "cell_type": "markdown",
      "metadata": {
        "id": "IafBX3BqFzhw",
        "colab_type": "text"
      },
      "source": [
        "# はじめに\n",
        "\n",
        "このファイルはhttps://github.com/kalz2q/myjupyternotebooks/blob/master/colabmarkdown001.ipynb\n",
        "です。\n",
        "\n",
        "Colabのマークダウンのドキュメントがあったので、それを翻訳しながら考えます。\n",
        "\n",
        "ColabというかJupyter Notebookでもいいのですが、Pythonが実行できるノートとか、Colabならば機械学習環境ができているとかが話題になって、それはそれですばらしいことなのですが、それらがマークダウンで書かれたテキストの中にあることの重要性を声を大にして言いたい。\n",
        "\n",
        "いわゆる写経による勉強ができるではないか。\n",
        "\n",
        "数学の勉強とか、語学の勉強に使えるではないか。\n",
        "\n",
        "とか。\n",
        "\n",
        "## ここに`##`を書くと目次に現れるかどうか\n",
        "=> セルが分割されないと`##`でマークダウンしても目次には現れない。\n",
        "\n"
      ]
    },
    {
      "cell_type": "markdown",
      "metadata": {
        "colab_type": "text",
        "id": "uTnBkRyvGvhW"
      },
      "source": [
        "Formatting text in Colaboratory: A guide to Colaboratory markdown  \n",
        "Colabでのテキストの整形: Colabでのマークダウンのガイド\n",
        "===\n",
        "のっけからこれは何？  \n",
        "`#`とかではなく、`===`を使っている。すると大きなブロック体になるのか？  \n",
        "あとで出てくるかもしれない。\n",
        "\n",
        "## ここに`##`を書くとどうなるか\n",
        "\n",
        "=> どうにもならない。\n",
        "いや、章が立ったが目次には現れない。"
      ]
    },
    {
      "cell_type": "markdown",
      "metadata": {
        "id": "jkWKacPSOimA",
        "colab_type": "text"
      },
      "source": [
        "## ここに`##`をあらたに書くとどうなるか\n",
        "\n",
        "=> 新たに章が立った。 目次に現れる。"
      ]
    },
    {
      "cell_type": "markdown",
      "metadata": {
        "colab_type": "text",
        "id": "70pYkR9LiOV0"
      },
      "source": [
        "# マークダウンとは\n",
        "\n",
        "Colabはテキストセルとコードセルの2種類のタイプのセルがあります。  \n",
        "テキストセルに使われる簡単な整形用マークアップ言語がマークダウンと呼ばれ、ベースとなっているのは、based on [the original](https://daringfireball.net/projects/markdown/syntax)` = https://daringfireball.net/projects/markdown/syntax`です。\n",
        "\n"
      ]
    },
    {
      "cell_type": "markdown",
      "metadata": {
        "colab_type": "text",
        "id": "eYaIiIaJOPqi"
      },
      "source": [
        "## 例\n",
        "\n",
        "例をまず見たほうがわかりやすいかもしれません。\n",
        "\n",
        "以下、マークダウンの機能がわかりやすいように、まず表示したいように書いて、再度マークダウンの部分をコードとして表示します。それでもわかりにくいと思うのでColabのセル編集で開いて実験して見て下さい。"
      ]
    },
    {
      "cell_type": "markdown",
      "metadata": {
        "colab_type": "text",
        "id": "tPqPXAKKkzaM"
      },
      "source": [
        "##### \\#\\#\\#\\#\\#This text is treated as an \\<h5\\> because it has five hashes at the beginning\n",
        "\n",
        "```markdown\n",
        "##### \\#\\#\\#\\#\\#This text is treated as an \\<h5\\> because it has five hashes at the beginning\n",
        "```\n",
        "\n",
        "\\**italics*\\* and \\__italics_\\_\n",
        "\n",
        "**\\*\\*bold\\*\\***\n",
        "\n",
        "\\~\\~~~strikethrough~~\\~\\~\n",
        "\n",
        "\\``monospace`\\`\n",
        "\n",
        "No indent\n",
        ">\\>One level of indentation\n",
        ">>\\>\\>Two levels of indentation\n",
        "\n",
        "An ordered list:\n",
        "1. 1\\. One\n",
        "1. 1\\. Two\n",
        "1. 1\\. Three\n",
        "\n",
        "An unordered list:\n",
        "* \\* One\n",
        "* \\* Two\n",
        "* \\* Three\n",
        "\n",
        "A naked URL: https://google.com\n",
        "\n",
        "Linked URL: \\[[Colaboratory](https://research.google.com/colaboratory)]\\(https://research.google.com/colaboratory)\n",
        "\n",
        "A linked URL using references:\n",
        "\n",
        ">\\[[Colaboratory][colaboratory-label]]\\[colaboratory-label]\n",
        "\n",
        ">\\[colaboratory-label]: https://research.google.com/colaboratory\n",
        "[colaboratory-label]: https://research.google.com/colaboratory\n",
        "\n",
        "An inline image: !\\[Google's logo](https://www.google.com/images/logos/google_logo_41.png)\n",
        ">![Google's logo](https://www.google.com/images/logos/google_logo_41.png)\n",
        "\n",
        "Equations:\n",
        "\n",
        ">$y=x^2$\n",
        "\n",
        ">$e^{i\\pi} + 1 = 0$\n",
        "\n",
        ">$e^x=\\sum_{i=0}^\\infty \\frac{1}{i!}x^i$\n",
        "\n",
        ">$\\frac{n!}{k!(n-k)!} = {n \\choose k}$\n",
        "\n",
        ">$A_{m,n} =\n",
        " \\begin{pmatrix}\n",
        "  a_{1,1} & a_{1,2} & \\cdots & a_{1,n} \\\\\n",
        "  a_{2,1} & a_{2,2} & \\cdots & a_{2,n} \\\\\n",
        "  \\vdots  & \\vdots  & \\ddots & \\vdots  \\\\\n",
        "  a_{m,1} & a_{m,2} & \\cdots & a_{m,n}\n",
        " \\end{pmatrix}$\n",
        "\n",
        "Tables:\n",
        ">```\n",
        "First column name | Second column name\n",
        "--- | ---\n",
        "Row 1, Col 1 | Row 1, Col 2\n",
        "Row 2, Col 1 | Row 2, Col 2\n",
        "```\n",
        "\n",
        "becomes:\n",
        "\n",
        ">First column name | Second column name\n",
        ">--- | ---\n",
        ">Row 1, Col 1 | Row 1, Col 2\n",
        ">Row 2, Col 1 | Row 2, Col 2\n",
        "\n",
        "Horizontal rule done with three dashes (\\-\\-\\-):\n",
        "\n",
        "---\n",
        "\n"
      ]
    },
    {
      "cell_type": "markdown",
      "metadata": {
        "colab_type": "text",
        "id": "w86a4I4fmkvD"
      },
      "source": [
        "## Differences between Colaboratory markdown and other markdown dialects\n",
        "\n",
        "Colaboratory uses [marked.js](https://github.com/chjj/marked) and so is similar but not quite identical to the markdown used by Jupyter and Github.\n",
        "\n",
        "The biggest differences are that Colaboratory supports (MathJax) $\\LaTeX$ equations like Jupyter, but does not allow HTML tags in the markdown unlike most other markdowns.\n",
        "\n",
        "Smaller differences are that Colaboratory does not support syntax highlighting in code blocks, nor does it support some GitHub additions like emojis and to-do checkboxes.\n",
        "\n",
        "If HTML must be included in a Colaboratory notebook, see the [%%html magic](/notebooks/basic_features_overview.ipynb#scrollTo=qM4myQGfQboQ)."
      ]
    },
    {
      "cell_type": "markdown",
      "metadata": {
        "colab_type": "text",
        "id": "uSx6SUb1Komv"
      },
      "source": [
        "## 参考サイト\n",
        "Useful references"
      ]
    },
    {
      "cell_type": "markdown",
      "metadata": {
        "colab_type": "text",
        "id": "5Y3CStVkLxqt"
      },
      "source": [
        "* [Github markdown basics](https://help.github.com/articles/markdown-basics/)\n",
        "* [Github flavored markdown](https://help.github.com/articles/github-flavored-markdown/)\n",
        "* [Original markdown spec: Syntax](http://daringfireball.net/projects/markdown/syntax)\n",
        "* [Original markdown spec: Basics](http://daringfireball.net/projects/markdown/basics)\n",
        "* [marked.js library used by Colaboratory](https://github.com/chjj/marked)\n",
        "* [LaTex mathematics for equations](https://en.wikibooks.org/wiki/LaTeX/Mathematics)"
      ]
    }
  ]
}