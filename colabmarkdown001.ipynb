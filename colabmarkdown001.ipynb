{
  "nbformat": 4,
  "nbformat_minor": 0,
  "metadata": {
    "colab": {
      "name": "Markdown Guide",
      "provenance": [],
      "collapsed_sections": [],
      "toc_visible": true,
      "include_colab_link": true
    },
    "kernelspec": {
      "display_name": "Python 3",
      "name": "python3"
    }
  },
  "cells": [
    {
      "cell_type": "markdown",
      "metadata": {
        "id": "view-in-github",
        "colab_type": "text"
      },
      "source": [
        "<a href=\"https://colab.research.google.com/github/kalz2q/myjupyternotebooks/blob/master/colabmarkdown001.ipynb\" target=\"_parent\"><img src=\"https://colab.research.google.com/assets/colab-badge.svg\" alt=\"Open In Colab\"/></a>"
      ]
    },
    {
      "cell_type": "markdown",
      "metadata": {
        "id": "IafBX3BqFzhw",
        "colab_type": "text"
      },
      "source": [
        "# はじめに\n",
        "Colabのマークダウンのドキュメントがあったので、ぞれに沿って実験しながら書きます。\n",
        "\n",
        "cf. Formatting text in Colaboratory: A guide to Colaboratory markdown  \n",
        "\n",
        "ColabというかJupyter Notebookでもいいのですが、Pythonが実行できるノートとか、Colabならば機械学習環境ができているとかが話題になって、それはそれですばらしいことなのですが、それらがマークダウンで書かれたテキストの中にあることの重要性を声を大にして言いたい。\n",
        "\n",
        "いわゆる写経による勉強ができるではないか。\n",
        "\n",
        "数学の勉強とか、語学の勉強に使える。\n",
        "\n",
        "\n"
      ]
    },
    {
      "cell_type": "markdown",
      "metadata": {
        "colab_type": "text",
        "id": "70pYkR9LiOV0"
      },
      "source": [
        "# マークダウンとは\n",
        "\n",
        "Colabはテキストセルとコードセルの2種類のタイプのセルがあります。  \n",
        "テキストセルに使われる簡単な整形用マークアップ言語がマークダウンと呼ばれ、ベースとなっているのは、based on [the original](https://daringfireball.net/projects/markdown/syntax)` = https://daringfireball.net/projects/markdown/syntax`です。\n",
        "\n"
      ]
    },
    {
      "cell_type": "markdown",
      "metadata": {
        "colab_type": "text",
        "id": "eYaIiIaJOPqi"
      },
      "source": [
        "## 例\n",
        "\n",
        "例をまず見たほうがわかりやすいかもしれません。\n",
        "\n",
        "以下、マークダウンの機能がわかりやすいように、まず表示したいように書いて、再度マークダウンの部分をコードとして表示します。それでもわかりにくいと思うのでColabのセル編集で開いて実験して見て下さい。"
      ]
    },
    {
      "cell_type": "markdown",
      "metadata": {
        "colab_type": "text",
        "id": "tPqPXAKKkzaM"
      },
      "source": [
        "##### \\#\\#\\#\\#\\#This text is treated as an \\<h5\\> because it has five hashes at the beginning\n",
        "\n",
        "```markdown\n",
        "##### \\#\\#\\#\\#\\#This text is treated as an \\<h5\\> because it has five hashes at the beginning\n",
        "```\n",
        "*itallics* and _italics_\n",
        "\n",
        "```\n",
        "*itallics* and _italics_\n",
        "```\n",
        "\\**italics*\\* and \\__italics_ \\_\n",
        "\n",
        "**\\*\\*bold\\*\\***\n",
        "\n",
        "~~strikethrough~~\n",
        "\n",
        "\\~\\~~~strikethrough~~\\~\\~\n",
        "\n",
        "\\``monospace`\\`\n",
        "\n",
        "```monospace```\n",
        "\n",
        "*イタリックは* `*`か`_`で囲む。 **太文字(bold)**は`**`で囲む。~~見え消し~~、取り消し線は`~~`で囲む。コードは`\\``(バッククォート)で````囲む````。\n",
        "\n",
        "バッククォートの数は問題ではないのか。ブロックの場合は3つ、文中の場合は一つのような気がするがどうか。"
      ]
    },
    {
      "cell_type": "markdown",
      "metadata": {
        "id": "olS0Bc0EEKDz",
        "colab_type": "text"
      },
      "source": [
        "## インデントとリストとか\n",
        "\n",
        "No indent\n",
        ">\\>One level of indentation\n",
        ">>\\>\\>Two levels of indentation\n",
        "\n",
        "An ordered list:\n",
        "1. 1\\. One\n",
        "1. 1\\. Two\n",
        "1. 1\\. Three\n",
        "\n",
        "An unordered list:\n",
        "* \\* One\n",
        "* \\* Two\n",
        "* \\* Three\n",
        "\n",
        "これはどうか\n",
        "- \\- one\n",
        "- \\- two\n",
        "- \\- three\n",
        "\n",
        " - this\n",
        "   - is\n",
        "\n",
        "* a pnn\n",
        "  * this\n",
        "    * is\n",
        "\n",
        "         - 突然\n",
        "\n",
        "記号の前のスペースと記号の後のスペースには意味がある!!!!\n",
        "\n"
      ]
    },
    {
      "cell_type": "markdown",
      "metadata": {
        "id": "Lp0DgybuHVFC",
        "colab_type": "text"
      },
      "source": [
        "## URLの書き方\n",
        "\n",
        "A naked URL: https://google.com\n",
        "\n",
        "裸のURLはそのまま書けば表示とリンクがされます。\n",
        "\n",
        "文字列にリンクをつけたい場合は次のようにします。\n",
        "\n",
        "Linked URL: \\[[Colaboratory](https://research.google.com/colaboratory)]\\(https://research.google.com/colaboratory)\n",
        "\n",
        "A linked URL using references:\n",
        "\n",
        ">\\[[Colaboratory][colaboratory-label]]\\[colaboratory-label]\n",
        "\n",
        ">\\[colaboratory-label]: https://research.google.com/colaboratory\n",
        "[colaboratory-label]: https://research.google.com/colaboratory\n",
        "\n",
        "An inline image: !\\[Google's logo](https://www.google.com/images/logos/google_logo_41.png)\n",
        ">![Google's logo](https://www.google.com/images/logos/google_logo_41.png)\n",
        "\n",
        "`$\\LaTeX$`も使える$\\LaTeX$\n",
        "\n",
        "MathJaxが入っているということです。\n",
        "\n"
      ]
    },
    {
      "cell_type": "markdown",
      "metadata": {
        "id": "eMI_Ss6BCWvB",
        "colab_type": "text"
      },
      "source": [
        "## 数式\n",
        "\n",
        ">$y=x^2$\n",
        "\n",
        ">$e^{i\\pi} + 1 = 0$\n",
        "\n",
        ">$e^x=\\sum_{i=0}^\\infty \\frac{1}{i!}x^i$\n",
        "\n",
        ">$\\frac{n!}{k!(n-k)!} = {n \\choose k}$\n",
        "\n",
        ">$A_{m,n} =\n",
        " \\begin{pmatrix}\n",
        "  a_{1,1} & a_{1,2} & \\cdots & a_{1,n} \\\\\n",
        "  a_{2,1} & a_{2,2} & \\cdots & a_{2,n} \\\\\n",
        "  \\vdots  & \\vdots  & \\ddots & \\vdots  \\\\\n",
        "  a_{m,1} & a_{m,2} & \\cdots & a_{m,n}\n",
        " \\end{pmatrix}$\n",
        "\n",
        "## 表\n",
        ">```\n",
        "First column name | Second column name\n",
        "--- | ---\n",
        "Row 1, Col 1 | Row 1, Col 2\n",
        "Row 2, Col 1 | Row 2, Col 2\n",
        "```\n",
        "\n",
        "becomes:\n",
        "\n",
        ">First column name | Second column name\n",
        ">--- | ---\n",
        ">Row 1, Col 1 | Row 1, Col 2\n",
        ">Row 2, Col 1 | Row 2, Col 2\n",
        "\n",
        "横線はダッシュ3つで描けます (\\-\\-\\-):\n",
        "\n",
        "---\n",
        "\n"
      ]
    },
    {
      "cell_type": "markdown",
      "metadata": {
        "colab_type": "text",
        "id": "w86a4I4fmkvD"
      },
      "source": [
        "## Colabのマークダウンとその他のマークダウン方言との違い\n",
        "\n",
        "Colabのマークダウンは[marked.js](https://github.com/chjj/marked)を使っているので、JupyterやGitHubとほとんど同じですが多少の違いがあります。\n",
        "\n",
        "最大の違いは(MathJax) $\\LaTeX$が使える点までは同じなのですが、ColabではHTMLタグがマークダウンの中からは使えません。\n",
        "\n",
        "またこれは小さい問題ですが、Colabではコードブロックにシンタックスはいライティングがありません。また、GitHubのようなemojiやto-do checkboxをサポートしていません。\n",
        "\n",
        "もし、ColabのノートブックにHTMLを入れたい場合のやりかたは、[%%html magic](/notebooks/basic_features_overview.ipynb#scrollTo=qM4myQGfQboQ)を参照してください。"
      ]
    },
    {
      "cell_type": "markdown",
      "metadata": {
        "colab_type": "text",
        "id": "uSx6SUb1Komv"
      },
      "source": [
        "## 参考サイト (Useful references)"
      ]
    },
    {
      "cell_type": "markdown",
      "metadata": {
        "colab_type": "text",
        "id": "5Y3CStVkLxqt"
      },
      "source": [
        "* [Github markdown basics](https://help.github.com/articles/markdown-basics/)\n",
        "* [Github flavored markdown](https://help.github.com/articles/github-flavored-markdown/)\n",
        "* [Original markdown spec: Syntax](http://daringfireball.net/projects/markdown/syntax)\n",
        "* [Original markdown spec: Basics](http://daringfireball.net/projects/markdown/basics)\n",
        "* [marked.js library used by Colaboratory](https://github.com/chjj/marked)\n",
        "* [LaTex mathematics for equations](https://en.wikibooks.org/wiki/LaTeX/Mathematics)"
      ]
    }
  ]
}