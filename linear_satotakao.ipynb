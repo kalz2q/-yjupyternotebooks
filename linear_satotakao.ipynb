{
  "nbformat": 4,
  "nbformat_minor": 0,
  "metadata": {
    "colab": {
      "name": "linear_satotakao.ipynb",
      "provenance": [],
      "authorship_tag": "ABX9TyPIIsVn9+R9xs+lYytwyoFG",
      "include_colab_link": true
    },
    "kernelspec": {
      "name": "python3",
      "display_name": "Python 3"
    }
  },
  "cells": [
    {
      "cell_type": "markdown",
      "metadata": {
        "id": "view-in-github",
        "colab_type": "text"
      },
      "source": [
        "<a href=\"https://colab.research.google.com/github/kalz2q/mycolabnotebooks/blob/master/linear_satotakao.ipynb\" target=\"_parent\"><img src=\"https://colab.research.google.com/assets/colab-badge.svg\" alt=\"Open In Colab\"/></a>"
      ]
    },
    {
      "cell_type": "code",
      "metadata": {
        "id": "GwIhihIE6Cir"
      },
      "source": [
        ""
      ],
      "execution_count": null,
      "outputs": []
    },
    {
      "cell_type": "markdown",
      "metadata": {
        "id": "tBcR-FqE6HHT"
      },
      "source": [
        "# メモ\r\n",
        "\r\n",
        "テキストブック線形代数 佐藤隆夫 裳華房\r\n",
        "\r\n",
        "を読む。\r\n"
      ]
    },
    {
      "cell_type": "code",
      "metadata": {
        "colab": {
          "base_uri": "https://localhost:8080/",
          "height": 43
        },
        "id": "F55hRvTv8ZHq",
        "outputId": "6004e267-7b8f-46e4-d477-8626356de614"
      },
      "source": [
        "%%latex\r\n",
        "\\overrightarrow{\\mathrm{OA}}"
      ],
      "execution_count": 5,
      "outputs": [
        {
          "output_type": "display_data",
          "data": {
            "text/latex": "\\overrightarrow{\\mathrm{OA}}",
            "text/plain": [
              "<IPython.core.display.Latex object>"
            ]
          },
          "metadata": {
            "tags": []
          }
        }
      ]
    }
  ]
}