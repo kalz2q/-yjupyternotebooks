{
  "nbformat": 4,
  "nbformat_minor": 0,
  "metadata": {
    "colab": {
      "name": "functionalpython.ipynb",
      "provenance": [],
      "toc_visible": true,
      "authorship_tag": "ABX9TyO/3hMuW+1ZWhRAcrGjztjv",
      "include_colab_link": true
    },
    "kernelspec": {
      "name": "python3",
      "display_name": "Python 3"
    }
  },
  "cells": [
    {
      "cell_type": "markdown",
      "metadata": {
        "id": "view-in-github",
        "colab_type": "text"
      },
      "source": [
        "<a href=\"https://colab.research.google.com/github/kalz2q/mycolabnotebooks/blob/master/functionalpython.ipynb\" target=\"_parent\"><img src=\"https://colab.research.google.com/assets/colab-badge.svg\" alt=\"Open In Colab\"/></a>"
      ]
    },
    {
      "cell_type": "markdown",
      "metadata": {
        "id": "q2VOU_NmBs9A"
      },
      "source": [
        "# メモ\r\n",
        "関数型Python という考え方\r\n",
        "1. reduce, map, filter を使う。  \r\n",
        "1. iterator, generator を使う。  \r\n",
        "https://docs.python.org/ja/3/howto/functional.html\r\n"
      ]
    },
    {
      "cell_type": "markdown",
      "metadata": {
        "id": "ZApaIbdsDsbQ"
      },
      "source": [
        "# reduce"
      ]
    },
    {
      "cell_type": "code",
      "metadata": {
        "id": "ejLW8duEBp8d",
        "colab": {
          "base_uri": "https://localhost:8080/"
        },
        "outputId": "0b80dfdb-1355-436e-a90f-42ab714258b8"
      },
      "source": [
        "# reduce は functools にある\r\n",
        "from functools import reduce\r\n",
        "array = [20, 1, 2, 3, 4, 5]\r\n",
        "\r\n",
        "print(reduce(lambda x, y: x+y, array))\r\n",
        "\r\n",
        "from operator import add\r\n",
        "from operator import sub\r\n",
        "from operator import mul\r\n",
        "\r\n",
        "print(reduce(add, array)) # 35\r\n",
        "print(reduce(sub, array)) # 5\r\n",
        "print(reduce(mul, array)) # 2400"
      ],
      "execution_count": null,
      "outputs": [
        {
          "output_type": "stream",
          "text": [
            "35\n",
            "35\n",
            "5\n",
            "2400\n"
          ],
          "name": "stdout"
        }
      ]
    },
    {
      "cell_type": "code",
      "metadata": {
        "id": "CPai0-AzYwCg",
        "colab": {
          "base_uri": "https://localhost:8080/"
        },
        "outputId": "72c8c0fa-b3ae-4dc5-959d-4dd899cdc5bf"
      },
      "source": [
        "from functools import reduce\r\n",
        "numbers = [-8, 5, -1, 4, -9, 2]\r\n",
        "print(reduce(lambda x, y: x +y, numbers)) # -7"
      ],
      "execution_count": null,
      "outputs": [
        {
          "output_type": "stream",
          "text": [
            "-7\n"
          ],
          "name": "stdout"
        }
      ]
    },
    {
      "cell_type": "code",
      "metadata": {
        "id": "TbGBFPVgZice",
        "colab": {
          "base_uri": "https://localhost:8080/"
        },
        "outputId": "6371c254-8152-47d4-c1ea-6ca5d60da255"
      },
      "source": [
        "# map とかは built-in 関数\r\n",
        "numbers = [-8, 5, -1, 4, -9, 2]\r\n",
        "\r\n",
        "print(list(map(abs, numbers))) #[8, 5, 1, 4, 9, 2]"
      ],
      "execution_count": null,
      "outputs": [
        {
          "output_type": "stream",
          "text": [
            "[8, 5, 1, 4, 9, 2]\n"
          ],
          "name": "stdout"
        }
      ]
    },
    {
      "cell_type": "code",
      "metadata": {
        "id": "wW4ieJVhZruG",
        "colab": {
          "base_uri": "https://localhost:8080/"
        },
        "outputId": "4dce0765-40f0-4bb3-da44-ea52d5c77ac5"
      },
      "source": [
        "# map の結果は map object\r\n",
        "numbers = [-8, 5, -1, 4, -9, 2]\r\n",
        "\r\n",
        "print(map(abs, numbers)) #[8, 5, 1, 4, 9, 2]"
      ],
      "execution_count": null,
      "outputs": [
        {
          "output_type": "stream",
          "text": [
            "<map object at 0x7f76d47a62b0>\n"
          ],
          "name": "stdout"
        }
      ]
    },
    {
      "cell_type": "code",
      "metadata": {
        "id": "oPLNybneZ3U6",
        "colab": {
          "base_uri": "https://localhost:8080/"
        },
        "outputId": "0c383e9e-4663-4810-fccf-819871f71d53"
      },
      "source": [
        "# filter\r\n",
        "numbers = [-8, 5, -1, 4, -9, 2]\r\n",
        "\r\n",
        "print(list(filter(lambda x: abs(x) > 3, numbers))) #[-8, 5, 4, -9]"
      ],
      "execution_count": null,
      "outputs": [
        {
          "output_type": "stream",
          "text": [
            "[-8, 5, 4, -9]\n"
          ],
          "name": "stdout"
        }
      ]
    },
    {
      "cell_type": "code",
      "metadata": {
        "id": "Qz1ghX8DaZlj",
        "colab": {
          "base_uri": "https://localhost:8080/"
        },
        "outputId": "ddac4ca8-c8b6-486e-a2ec-02b6cfff1b2c"
      },
      "source": [
        "# 実験 ndarrayにreduceが使えるか\r\n",
        "from functools import reduce\r\n",
        "import numpy as np\r\n",
        "print(reduce(lambda x,y: x+y, np.arange(10)))"
      ],
      "execution_count": null,
      "outputs": [
        {
          "output_type": "stream",
          "text": [
            "45\n"
          ],
          "name": "stdout"
        }
      ]
    },
    {
      "cell_type": "code",
      "metadata": {
        "id": "YWGsILuulL1j",
        "colab": {
          "base_uri": "https://localhost:8080/"
        },
        "outputId": "3751c6e6-c7df-48ff-9e70-eea4b23a51f2"
      },
      "source": [
        "# np.arange は ndarray で range は range クラス\r\n",
        "# ndarray を使う\r\n",
        "import numpy as np\r\n",
        "print(type(np.arange(10)))\r\n",
        "print(type(range(10)))"
      ],
      "execution_count": null,
      "outputs": [
        {
          "output_type": "stream",
          "text": [
            "<class 'numpy.ndarray'>\n",
            "<class 'range'>\n"
          ],
          "name": "stdout"
        }
      ]
    },
    {
      "cell_type": "code",
      "metadata": {
        "id": "VCORLzN58X1D",
        "colab": {
          "base_uri": "https://localhost:8080/"
        },
        "outputId": "fd95a4e4-f298-461e-9a3b-40e49b4d0445"
      },
      "source": [
        "# ndarray について\r\n",
        "import numpy as np\r\n",
        "a = np.array([1,2,3])\r\n",
        "a02 = np.arange(1,4)\r\n",
        "print(type(a))\r\n",
        "print(a == a02)\r\n",
        "b = np.array([[1,2,3], [4,5,6]])\r\n",
        "print(a)\r\n",
        "print(b)\r\n",
        "print(a.T)\r\n",
        "print(b.T)\r\n",
        "print(a.data)\r\n",
        "print(a.dtype)"
      ],
      "execution_count": null,
      "outputs": [
        {
          "output_type": "stream",
          "text": [
            "<class 'numpy.ndarray'>\n",
            "[ True  True  True]\n",
            "[1 2 3]\n",
            "[[1 2 3]\n",
            " [4 5 6]]\n",
            "[1 2 3]\n",
            "[[1 4]\n",
            " [2 5]\n",
            " [3 6]]\n",
            "<memory at 0x7f1bb69bef48>\n",
            "int64\n"
          ],
          "name": "stdout"
        }
      ]
    },
    {
      "cell_type": "markdown",
      "metadata": {
        "id": "EcYBWrClRTSP"
      },
      "source": [
        "# flatten"
      ]
    },
    {
      "cell_type": "code",
      "metadata": {
        "id": "quwuVGGV8aZx",
        "colab": {
          "base_uri": "https://localhost:8080/"
        },
        "outputId": "18e58124-11fe-4527-fa8b-b9d40ca2e772"
      },
      "source": [
        "# flatten\r\n",
        "import numpy as np\r\n",
        "b = np.array([[1,2,3], [4,5,6]])\r\n",
        "print(b.flatten())\r\n",
        "print(b.flat[3])\r\n",
        "\r\n",
        "from functools import reduce\r\n",
        "print(reduce(lambda a, b: a + b, [[1,2,3],[4,5,6],[7,8,9]]))\r\n",
        "print(reduce(lambda a, b: a + b, np.array([[1,2,3], [4,5,6]]))) # flatten にならない\r\n",
        "print(reduce(lambda a, b: a + b, np.array([[1,2,3],[4,5,6],[7,8,9]]))) # flatten にならない\r\n"
      ],
      "execution_count": null,
      "outputs": [
        {
          "output_type": "stream",
          "text": [
            "[1 2 3 4 5 6]\n",
            "4\n",
            "[1, 2, 3, 4, 5, 6, 7, 8, 9]\n",
            "[5 7 9]\n",
            "[12 15 18]\n"
          ],
          "name": "stdout"
        }
      ]
    },
    {
      "cell_type": "code",
      "metadata": {
        "id": "0QimhkgYRX7p",
        "colab": {
          "base_uri": "https://localhost:8080/"
        },
        "outputId": "ca410462-9c0c-4d7b-83ce-ce4b22d12396"
      },
      "source": [
        "# flatten\r\n",
        "import numpy as np\r\n",
        "\r\n",
        "print(np.concatenate([np.array([[1,2,3], [4,5,6]])[0],  np.array([[1,2,3], [4,5,6]])[1]] ))\r\n",
        "print(reduce(lambda a, b: np.concatenate([a,b]), np.array([[1,2,3], [4,5,6]])))\r\n",
        "print(reduce(lambda a, b: np.concatenate([a,b]), np.array([[1,2,3], [4,5,6],[7,8,9]])))\r\n",
        "\r\n"
      ],
      "execution_count": null,
      "outputs": [
        {
          "output_type": "stream",
          "text": [
            "[1 2 3 4 5 6]\n",
            "[1 2 3 4 5 6]\n",
            "[1 2 3 4 5 6 7 8 9]\n",
            "[1 2 3 4 5 6 7 8 9]\n"
          ],
          "name": "stdout"
        }
      ]
    },
    {
      "cell_type": "code",
      "metadata": {
        "id": "ePfWh3suBSso",
        "colab": {
          "base_uri": "https://localhost:8080/"
        },
        "outputId": "85e731f5-0e68-4264-de4e-2709f142ad38"
      },
      "source": [
        "# real, imag\r\n",
        "c = np.array([1.-2.6j, 2.1+3.J, 4.-3.2j])\r\n",
        "print(c.real)\r\n",
        "print(c.imag)"
      ],
      "execution_count": null,
      "outputs": [
        {
          "output_type": "stream",
          "text": [
            "[1.  2.1 4. ]\n",
            "[-2.6  3.  -3.2]\n"
          ],
          "name": "stdout"
        }
      ]
    },
    {
      "cell_type": "markdown",
      "metadata": {
        "id": "h0ngzzE8gLHO"
      },
      "source": [
        "# iterator"
      ]
    },
    {
      "cell_type": "code",
      "metadata": {
        "id": "b7FBfFIogNxl"
      },
      "source": [
        "it = iter([1,2,3])\r\n",
        "print(it)\r\n",
        "print(it.__next__())\r\n",
        "print(next(it))\r\n",
        "# print(it.next()) これはエラーになる\r\n",
        "print(next(it))\r\n",
        "# print(next(it)) StopIteration エラー"
      ],
      "execution_count": null,
      "outputs": []
    },
    {
      "cell_type": "code",
      "metadata": {
        "id": "LmjM6lCshCT7",
        "colab": {
          "base_uri": "https://localhost:8080/"
        },
        "outputId": "6b660724-4bd2-4021-abce-cd2674b77c4d"
      },
      "source": [
        "# 次のようなのを for loop を使わずに実現したい check_later\r\n",
        "m = {'Jan': 1, 'Feb': 2, 'Mar': 3, 'Apr': 4, 'May': 5, 'Jun': 6, 'Jul': 7, 'Aug': 8, 'Sep': 9, 'Oct': 10, 'Nov': 11, 'Dec': 12}\r\n",
        "for key in m:\r\n",
        "    print(\"{0} {1}, \".format(key, m[key]), end='')\r\n"
      ],
      "execution_count": null,
      "outputs": [
        {
          "output_type": "stream",
          "text": [
            "Jan 1, Feb 2, Mar 3, Apr 4, May 5, Jun 6, Jul 7, Aug 8, Sep 9, Oct 10, Nov 11, Dec 12, "
          ],
          "name": "stdout"
        }
      ]
    },
    {
      "cell_type": "code",
      "metadata": {
        "id": "e3ZmNjMJrhpV",
        "colab": {
          "base_uri": "https://localhost:8080/"
        },
        "outputId": "84f335c1-bc92-4f52-b40c-5f7db40e6d37"
      },
      "source": [
        "# やりかけ\r\n",
        "m = {'Jan': 1, 'Feb': 2, 'Mar': 3, 'Apr': 4, 'May': 5, 'Jun': 6, 'Jul': 7, 'Aug': 8, 'Sep': 9, 'Oct': 10, 'Nov': 11, 'Dec': 12}\r\n",
        "print(list(zip(m.keys(), m.values())))\r\n",
        "print(m.items())\r\n",
        "print([item[0]+' '+str(item[1])  for item in m.items()])"
      ],
      "execution_count": null,
      "outputs": [
        {
          "output_type": "stream",
          "text": [
            "[('Jan', 1), ('Feb', 2), ('Mar', 3), ('Apr', 4), ('May', 5), ('Jun', 6), ('Jul', 7), ('Aug', 8), ('Sep', 9), ('Oct', 10), ('Nov', 11), ('Dec', 12)]\n",
            "dict_items([('Jan', 1), ('Feb', 2), ('Mar', 3), ('Apr', 4), ('May', 5), ('Jun', 6), ('Jul', 7), ('Aug', 8), ('Sep', 9), ('Oct', 10), ('Nov', 11), ('Dec', 12)])\n",
            "['Jan 1', 'Feb 2', 'Mar 3', 'Apr 4', 'May 5', 'Jun 6', 'Jul 7', 'Aug 8', 'Sep 9', 'Oct 10', 'Nov 11', 'Dec 12']\n"
          ],
          "name": "stdout"
        }
      ]
    },
    {
      "cell_type": "markdown",
      "metadata": {
        "id": "MSEQXp2fnKTs"
      },
      "source": [
        "# genertor と list comprehension"
      ]
    },
    {
      "cell_type": "code",
      "metadata": {
        "id": "k-CfBaEpnOn6",
        "colab": {
          "base_uri": "https://localhost:8080/"
        },
        "outputId": "fbec7afe-c47d-4b45-fe77-f904ea9e9f43"
      },
      "source": [
        "line_list = ['  line 1\\n', 'line 2  \\n']\r\n",
        "\r\n",
        "# Generator expression -- returns iterator\r\n",
        "stripped_iter = (line.strip() for line in line_list)\r\n",
        "print(stripped_iter)\r\n",
        "# List comprehension -- returns list\r\n",
        "stripped_list = [line.strip() for line in line_list]\r\n",
        "print(stripped_list)"
      ],
      "execution_count": null,
      "outputs": [
        {
          "output_type": "stream",
          "text": [
            "<generator object <genexpr> at 0x7f655cb0a0a0>\n",
            "['line 1', 'line 2']\n"
          ],
          "name": "stdout"
        }
      ]
    },
    {
      "cell_type": "code",
      "metadata": {
        "id": "5EoT4KBxFkuw",
        "outputId": "591c5f96-17dc-4804-d613-e25dd598abf0",
        "colab": {
          "base_uri": "https://localhost:8080/"
        }
      },
      "source": [
        "# 上記を map を使って実装する\r\n",
        "# map は for loop を使わないので、内包表記よりよいと思う\r\n",
        "\r\n",
        "line_list = ['  line 1\\n', 'line 2  \\n']\r\n",
        "\r\n",
        "print(list(map(lambda line: line.strip(),  line_list)))"
      ],
      "execution_count": 57,
      "outputs": [
        {
          "output_type": "stream",
          "text": [
            "['line 1', 'line 2']\n"
          ],
          "name": "stdout"
        }
      ]
    },
    {
      "cell_type": "code",
      "metadata": {
        "id": "F6u5llU2yRyE",
        "colab": {
          "base_uri": "https://localhost:8080/"
        },
        "outputId": "20fe5221-0a58-4712-aafc-a7d8c0d2eea8"
      },
      "source": [
        "def generate_ints(N):\r\n",
        "   for i in range(N):\r\n",
        "       yield i\r\n",
        "\r\n",
        "gen = generate_ints(3)\r\n",
        "print(gen)\r\n",
        "print(next(gen))\r\n",
        "print(next(gen))\r\n",
        "print(next(gen))\r\n",
        "# print(next(gen)) # StopIteration\r\n",
        "\r\n"
      ],
      "execution_count": null,
      "outputs": [
        {
          "output_type": "stream",
          "text": [
            "<generator object generate_ints at 0x7f6554ceea40>\n",
            "0\n",
            "1\n",
            "2\n"
          ],
          "name": "stdout"
        }
      ]
    },
    {
      "cell_type": "code",
      "metadata": {
        "id": "3NhVcVi2GLvt"
      },
      "source": [
        "# A recursive generator that generates Tree leaves in in-order.\r\n",
        "def inorder(t):\r\n",
        "    if t:\r\n",
        "        for x in inorder(t.left):\r\n",
        "            yield x\r\n",
        "\r\n",
        "        yield t.label\r\n",
        "\r\n",
        "        for x in inorder(t.right):\r\n",
        "            yield x"
      ],
      "execution_count": 43,
      "outputs": []
    },
    {
      "cell_type": "code",
      "metadata": {
        "id": "jqIwXdseGgId",
        "outputId": "98683a17-6443-4ff9-8d74-1e37f53d74fe",
        "colab": {
          "base_uri": "https://localhost:8080/"
        }
      },
      "source": [
        "# val = (yield i)\r\n",
        "\r\n",
        "def counter(maximum):\r\n",
        "    i = 0\r\n",
        "    while i < maximum:\r\n",
        "        val = (yield i)\r\n",
        "        # If value provided, change counter\r\n",
        "        if val is not None:\r\n",
        "            i = val\r\n",
        "        else:\r\n",
        "            i += 1\r\n",
        "\r\n",
        "it = counter(10)  \r\n",
        "print(next(it))\r\n",
        "print(next(it))\r\n",
        "print(it.send(8))\r\n",
        "print(next(it))\r\n",
        "# print(next(it))"
      ],
      "execution_count": 46,
      "outputs": [
        {
          "output_type": "stream",
          "text": [
            "0\n",
            "1\n",
            "8\n",
            "9\n"
          ],
          "name": "stdout"
        }
      ]
    },
    {
      "cell_type": "code",
      "metadata": {
        "id": "t41BmBDjHzq0",
        "outputId": "99597ad1-8e2b-4861-8d13-0e3dde24fb52",
        "colab": {
          "base_uri": "https://localhost:8080/"
        }
      },
      "source": [
        "def upper(s):\r\n",
        "    return s.upper()\r\n",
        "\r\n",
        "print(list(map(upper, ['sentence', 'fragment'])))\r\n",
        "print([upper(s) for s in ['sentence', 'fragment']])\r\n",
        "\r\n",
        "# 関数定義は要らないのではないか\r\n",
        "# map では lambda を使う。\r\n",
        "# 内包表記ではメソッドのまま使える\r\n",
        "print(list(map(lambda x: x.upper(),  ['sentence', 'fragment'])))\r\n",
        "print([s.upper() for s in ['sentence', 'fragment']])"
      ],
      "execution_count": 52,
      "outputs": [
        {
          "output_type": "stream",
          "text": [
            "['SENTENCE', 'FRAGMENT']\n",
            "['SENTENCE', 'FRAGMENT']\n",
            "['SENTENCE', 'FRAGMENT']\n",
            "['SENTENCE', 'FRAGMENT']\n"
          ],
          "name": "stdout"
        }
      ]
    },
    {
      "cell_type": "code",
      "metadata": {
        "id": "GGXKTqFRd40y",
        "outputId": "6360f948-0fef-4c83-93b0-ee1641d089a4",
        "colab": {
          "base_uri": "https://localhost:8080/"
        }
      },
      "source": [
        "print (list(map (lambda x : x.upper(),  ['sentence', 'fragment'])))"
      ],
      "execution_count": 50,
      "outputs": [
        {
          "output_type": "stream",
          "text": [
            "['SENTENCE', 'FRAGMENT']\n"
          ],
          "name": "stdout"
        }
      ]
    },
    {
      "cell_type": "markdown",
      "metadata": {
        "id": "KXL7r2BTiECJ"
      },
      "source": [
        "# filter"
      ]
    },
    {
      "cell_type": "code",
      "metadata": {
        "id": "XFNfRWdWiFwA",
        "outputId": "0442f2ba-61fd-4075-afb8-2a372e4d3980",
        "colab": {
          "base_uri": "https://localhost:8080/"
        }
      },
      "source": [
        "# filter\r\n",
        "def is_even(x):\r\n",
        "    return (x % 2) == 0\r\n",
        "\r\n",
        "print(list(filter(is_even, range(10))))\r\n",
        "\r\n",
        "print(list(filter(lambda x: (x % 2) == 0, range(10))))\r\n",
        "\r\n",
        "print(list(x for x in range(10) if is_even(x)))"
      ],
      "execution_count": 59,
      "outputs": [
        {
          "output_type": "stream",
          "text": [
            "[0, 2, 4, 6, 8]\n",
            "[0, 2, 4, 6, 8]\n",
            "[0, 2, 4, 6, 8]\n"
          ],
          "name": "stdout"
        }
      ]
    },
    {
      "cell_type": "markdown",
      "metadata": {
        "id": "xp8bu2cVoZ1Q"
      },
      "source": [
        "# enumerate"
      ]
    },
    {
      "cell_type": "code",
      "metadata": {
        "id": "4vlBlDkPlOes",
        "outputId": "797bb907-6022-4fc1-d087-087e70fa7bca",
        "colab": {
          "base_uri": "https://localhost:8080/"
        }
      },
      "source": [
        "# enumerate\r\n",
        "for item in enumerate(['subject', 'verb', 'object']):\r\n",
        "    print(item)\r\n",
        "\r\n",
        "print(list(enumerate(['subject', 'verb', 'object'])))\r\n",
        "print(list(map(lambda x: (x[0], x[1]), enumerate(['subject', 'verb', 'object']))))"
      ],
      "execution_count": 15,
      "outputs": [
        {
          "output_type": "stream",
          "text": [
            "(0, 'subject')\n",
            "(1, 'verb')\n",
            "(2, 'object')\n",
            "[(0, 'subject'), (1, 'verb'), (2, 'object')]\n",
            "[(0, 'subject'), (1, 'verb'), (2, 'object')]\n"
          ],
          "name": "stdout"
        }
      ]
    },
    {
      "cell_type": "code",
      "metadata": {
        "id": "_2SNmdSmocD3",
        "outputId": "dc7a05b4-29b9-4ba3-e649-0955c8782810",
        "colab": {
          "base_uri": "https://localhost:8080/"
        }
      },
      "source": [
        "# enumerate の使い方\r\n",
        "# f = open('data.txt', 'r')\r\n",
        "f = ['This is an apple.', '', 'That is a pen.','', 'END']\r\n",
        "for i, line in enumerate(f):\r\n",
        "    if line.strip() == '':\r\n",
        "        print('Blank line at line #%i' % i)\r\n",
        "\r\n",
        "\r\n",
        "print(list(map(lambda x: \"Blank line at line #\"+ str(x[0]), (filter(lambda x: x[1] == '', enumerate(f))))))"
      ],
      "execution_count": 27,
      "outputs": [
        {
          "output_type": "stream",
          "text": [
            "Blank line at line #1\n",
            "Blank line at line #3\n",
            "['Blank line at line #1', 'Blank line at line #3']\n"
          ],
          "name": "stdout"
        }
      ]
    },
    {
      "cell_type": "markdown",
      "metadata": {
        "id": "-2h7KPIKv2FT"
      },
      "source": [
        "# sorted\r\n"
      ]
    },
    {
      "cell_type": "code",
      "metadata": {
        "id": "qJZGt3xcv4Yq",
        "outputId": "69b66c7e-3a28-4636-d0d4-29b593a69b35",
        "colab": {
          "base_uri": "https://localhost:8080/"
        }
      },
      "source": [
        "import random\r\n",
        "# Generate 8 random numbers between [0, 10000)\r\n",
        "rand_list = random.sample(range(10000), 8)\r\n",
        "print(rand_list)\r\n",
        "print(sorted(rand_list))\r\n",
        "print(sorted(rand_list, reverse=True))\r\n"
      ],
      "execution_count": 33,
      "outputs": [
        {
          "output_type": "stream",
          "text": [
            "[8472, 1787, 5965, 2983, 4798, 9739, 6306, 7455]\n",
            "[1787, 2983, 4798, 5965, 6306, 7455, 8472, 9739]\n",
            "[9739, 8472, 7455, 6306, 5965, 4798, 2983, 1787]\n"
          ],
          "name": "stdout"
        }
      ]
    },
    {
      "cell_type": "code",
      "metadata": {
        "id": "N3XKwMxFwlT6",
        "outputId": "03465ec3-3ac7-43ca-8fea-15a14c65fa7c",
        "colab": {
          "base_uri": "https://localhost:8080/"
        }
      },
      "source": [
        "print(any([0, 1, 0]))\r\n",
        "print(any([0, 0, 0]))\r\n",
        "print(any([1, 1, 1]))\r\n",
        "print(all([0, 1, 0]))\r\n",
        "print(all([0, 0, 0]))\r\n",
        "print(all([1, 1, 1]))\r\n"
      ],
      "execution_count": 34,
      "outputs": [
        {
          "output_type": "stream",
          "text": [
            "True\n",
            "False\n",
            "True\n",
            "False\n",
            "False\n",
            "True\n"
          ],
          "name": "stdout"
        }
      ]
    },
    {
      "cell_type": "code",
      "metadata": {
        "id": "weQ3OeUtwuYR",
        "outputId": "39093f55-3049-4e6b-e028-076bdaeeb655",
        "colab": {
          "base_uri": "https://localhost:8080/"
        }
      },
      "source": [
        "list(zip(['a', 'b', 'c'], (1, 2, 3)))"
      ],
      "execution_count": 37,
      "outputs": [
        {
          "output_type": "execute_result",
          "data": {
            "text/plain": [
              "[('a', 1), ('b', 2), ('c', 3)]"
            ]
          },
          "metadata": {
            "tags": []
          },
          "execution_count": 37
        }
      ]
    },
    {
      "cell_type": "markdown",
      "metadata": {
        "id": "6Q1fLUyixBuA"
      },
      "source": [
        "# itertools"
      ]
    },
    {
      "cell_type": "code",
      "metadata": {
        "id": "M5yfKhHHxDcY",
        "outputId": "0fe4b89a-21d7-4193-9787-641a92314e7e",
        "colab": {
          "base_uri": "https://localhost:8080/"
        }
      },
      "source": [
        "import itertools\r\n",
        "\r\n",
        "print(list(itertools.islice(itertools.count(), 10)))\r\n",
        "print(list(itertools.islice(itertools.count(10), 10)))\r\n",
        "print(list(itertools.islice(itertools.count(10, 5), 10)))\r\n",
        "\r\n"
      ],
      "execution_count": 42,
      "outputs": [
        {
          "output_type": "stream",
          "text": [
            "[0, 1, 2, 3, 4, 5, 6, 7, 8, 9]\n",
            "[10, 11, 12, 13, 14, 15, 16, 17, 18, 19]\n",
            "[10, 15, 20, 25, 30, 35, 40, 45, 50, 55]\n"
          ],
          "name": "stdout"
        }
      ]
    },
    {
      "cell_type": "markdown",
      "metadata": {
        "id": "KsyffhixYb0-"
      },
      "source": [
        "# いまここ\r\n",
        "\r\n",
        "https://docs.python.org/ja/3/howto/functional.html\r\n",
        "\r\n",
        "\r\n",
        "\r\n"
      ]
    }
  ]
}