{
  "nbformat": 4,
  "nbformat_minor": 0,
  "metadata": {
    "colab": {
      "name": "functionalpython.ipynb",
      "provenance": [],
      "toc_visible": true,
      "authorship_tag": "ABX9TyNdVJjTzbA51gJdlIX1JZeV",
      "include_colab_link": true
    },
    "kernelspec": {
      "name": "python3",
      "display_name": "Python 3"
    }
  },
  "cells": [
    {
      "cell_type": "markdown",
      "metadata": {
        "id": "view-in-github",
        "colab_type": "text"
      },
      "source": [
        "<a href=\"https://colab.research.google.com/github/kalz2q/mycolabnotebooks/blob/master/functionalpython.ipynb\" target=\"_parent\"><img src=\"https://colab.research.google.com/assets/colab-badge.svg\" alt=\"Open In Colab\"/></a>"
      ]
    },
    {
      "cell_type": "markdown",
      "metadata": {
        "id": "q2VOU_NmBs9A"
      },
      "source": [
        "# メモ\r\n",
        "関数型Python という考え方\r\n",
        "1. reduce, map, filter を使う。  \r\n",
        "1. iterator, generator を使う。  \r\n",
        "https://docs.python.org/ja/3/howto/functional.html\r\n"
      ]
    },
    {
      "cell_type": "markdown",
      "metadata": {
        "id": "ZApaIbdsDsbQ"
      },
      "source": [
        "# reduce"
      ]
    },
    {
      "cell_type": "code",
      "metadata": {
        "id": "ejLW8duEBp8d",
        "colab": {
          "base_uri": "https://localhost:8080/"
        },
        "outputId": "0b80dfdb-1355-436e-a90f-42ab714258b8"
      },
      "source": [
        "# reduce は functools にある\r\n",
        "from functools import reduce\r\n",
        "array = [20, 1, 2, 3, 4, 5]\r\n",
        "\r\n",
        "print(reduce(lambda x, y: x+y, array))\r\n",
        "\r\n",
        "from operator import add\r\n",
        "from operator import sub\r\n",
        "from operator import mul\r\n",
        "\r\n",
        "print(reduce(add, array)) # 35\r\n",
        "print(reduce(sub, array)) # 5\r\n",
        "print(reduce(mul, array)) # 2400"
      ],
      "execution_count": null,
      "outputs": [
        {
          "output_type": "stream",
          "text": [
            "35\n",
            "35\n",
            "5\n",
            "2400\n"
          ],
          "name": "stdout"
        }
      ]
    },
    {
      "cell_type": "code",
      "metadata": {
        "id": "CPai0-AzYwCg",
        "colab": {
          "base_uri": "https://localhost:8080/"
        },
        "outputId": "72c8c0fa-b3ae-4dc5-959d-4dd899cdc5bf"
      },
      "source": [
        "from functools import reduce\r\n",
        "numbers = [-8, 5, -1, 4, -9, 2]\r\n",
        "print(reduce(lambda x, y: x +y, numbers)) # -7"
      ],
      "execution_count": null,
      "outputs": [
        {
          "output_type": "stream",
          "text": [
            "-7\n"
          ],
          "name": "stdout"
        }
      ]
    },
    {
      "cell_type": "code",
      "metadata": {
        "id": "TbGBFPVgZice",
        "colab": {
          "base_uri": "https://localhost:8080/"
        },
        "outputId": "6371c254-8152-47d4-c1ea-6ca5d60da255"
      },
      "source": [
        "# map とかは built-in 関数\r\n",
        "numbers = [-8, 5, -1, 4, -9, 2]\r\n",
        "\r\n",
        "print(list(map(abs, numbers))) #[8, 5, 1, 4, 9, 2]"
      ],
      "execution_count": null,
      "outputs": [
        {
          "output_type": "stream",
          "text": [
            "[8, 5, 1, 4, 9, 2]\n"
          ],
          "name": "stdout"
        }
      ]
    },
    {
      "cell_type": "code",
      "metadata": {
        "id": "wW4ieJVhZruG",
        "colab": {
          "base_uri": "https://localhost:8080/"
        },
        "outputId": "4dce0765-40f0-4bb3-da44-ea52d5c77ac5"
      },
      "source": [
        "# map の結果は map object\r\n",
        "numbers = [-8, 5, -1, 4, -9, 2]\r\n",
        "\r\n",
        "print(map(abs, numbers)) #[8, 5, 1, 4, 9, 2]"
      ],
      "execution_count": null,
      "outputs": [
        {
          "output_type": "stream",
          "text": [
            "<map object at 0x7f76d47a62b0>\n"
          ],
          "name": "stdout"
        }
      ]
    },
    {
      "cell_type": "code",
      "metadata": {
        "id": "oPLNybneZ3U6",
        "colab": {
          "base_uri": "https://localhost:8080/"
        },
        "outputId": "0c383e9e-4663-4810-fccf-819871f71d53"
      },
      "source": [
        "# filter\r\n",
        "numbers = [-8, 5, -1, 4, -9, 2]\r\n",
        "\r\n",
        "print(list(filter(lambda x: abs(x) > 3, numbers))) #[-8, 5, 4, -9]"
      ],
      "execution_count": null,
      "outputs": [
        {
          "output_type": "stream",
          "text": [
            "[-8, 5, 4, -9]\n"
          ],
          "name": "stdout"
        }
      ]
    },
    {
      "cell_type": "code",
      "metadata": {
        "id": "Qz1ghX8DaZlj",
        "colab": {
          "base_uri": "https://localhost:8080/"
        },
        "outputId": "ddac4ca8-c8b6-486e-a2ec-02b6cfff1b2c"
      },
      "source": [
        "# 実験 ndarrayにreduceが使えるか\r\n",
        "from functools import reduce\r\n",
        "import numpy as np\r\n",
        "print(reduce(lambda x,y: x+y, np.arange(10)))"
      ],
      "execution_count": null,
      "outputs": [
        {
          "output_type": "stream",
          "text": [
            "45\n"
          ],
          "name": "stdout"
        }
      ]
    },
    {
      "cell_type": "code",
      "metadata": {
        "id": "YWGsILuulL1j",
        "colab": {
          "base_uri": "https://localhost:8080/"
        },
        "outputId": "3751c6e6-c7df-48ff-9e70-eea4b23a51f2"
      },
      "source": [
        "# np.arange は ndarray で range は range クラス\r\n",
        "# ndarray を使う\r\n",
        "import numpy as np\r\n",
        "print(type(np.arange(10)))\r\n",
        "print(type(range(10)))"
      ],
      "execution_count": null,
      "outputs": [
        {
          "output_type": "stream",
          "text": [
            "<class 'numpy.ndarray'>\n",
            "<class 'range'>\n"
          ],
          "name": "stdout"
        }
      ]
    },
    {
      "cell_type": "code",
      "metadata": {
        "id": "VCORLzN58X1D",
        "colab": {
          "base_uri": "https://localhost:8080/"
        },
        "outputId": "fd95a4e4-f298-461e-9a3b-40e49b4d0445"
      },
      "source": [
        "# ndarray について\r\n",
        "import numpy as np\r\n",
        "a = np.array([1,2,3])\r\n",
        "a02 = np.arange(1,4)\r\n",
        "print(type(a))\r\n",
        "print(a == a02)\r\n",
        "b = np.array([[1,2,3], [4,5,6]])\r\n",
        "print(a)\r\n",
        "print(b)\r\n",
        "print(a.T)\r\n",
        "print(b.T)\r\n",
        "print(a.data)\r\n",
        "print(a.dtype)"
      ],
      "execution_count": null,
      "outputs": [
        {
          "output_type": "stream",
          "text": [
            "<class 'numpy.ndarray'>\n",
            "[ True  True  True]\n",
            "[1 2 3]\n",
            "[[1 2 3]\n",
            " [4 5 6]]\n",
            "[1 2 3]\n",
            "[[1 4]\n",
            " [2 5]\n",
            " [3 6]]\n",
            "<memory at 0x7f1bb69bef48>\n",
            "int64\n"
          ],
          "name": "stdout"
        }
      ]
    },
    {
      "cell_type": "markdown",
      "metadata": {
        "id": "EcYBWrClRTSP"
      },
      "source": [
        "# flatten"
      ]
    },
    {
      "cell_type": "code",
      "metadata": {
        "id": "quwuVGGV8aZx",
        "colab": {
          "base_uri": "https://localhost:8080/"
        },
        "outputId": "18e58124-11fe-4527-fa8b-b9d40ca2e772"
      },
      "source": [
        "# flatten\r\n",
        "import numpy as np\r\n",
        "b = np.array([[1,2,3], [4,5,6]])\r\n",
        "print(b.flatten())\r\n",
        "print(b.flat[3])\r\n",
        "\r\n",
        "from functools import reduce\r\n",
        "print(reduce(lambda a, b: a + b, [[1,2,3],[4,5,6],[7,8,9]]))\r\n",
        "print(reduce(lambda a, b: a + b, np.array([[1,2,3], [4,5,6]]))) # flatten にならない\r\n",
        "print(reduce(lambda a, b: a + b, np.array([[1,2,3],[4,5,6],[7,8,9]]))) # flatten にならない\r\n"
      ],
      "execution_count": null,
      "outputs": [
        {
          "output_type": "stream",
          "text": [
            "[1 2 3 4 5 6]\n",
            "4\n",
            "[1, 2, 3, 4, 5, 6, 7, 8, 9]\n",
            "[5 7 9]\n",
            "[12 15 18]\n"
          ],
          "name": "stdout"
        }
      ]
    },
    {
      "cell_type": "code",
      "metadata": {
        "id": "0QimhkgYRX7p",
        "colab": {
          "base_uri": "https://localhost:8080/"
        },
        "outputId": "ca410462-9c0c-4d7b-83ce-ce4b22d12396"
      },
      "source": [
        "# flatten\r\n",
        "import numpy as np\r\n",
        "\r\n",
        "print(np.concatenate([np.array([[1,2,3], [4,5,6]])[0],  np.array([[1,2,3], [4,5,6]])[1]] ))\r\n",
        "print(reduce(lambda a, b: np.concatenate([a,b]), np.array([[1,2,3], [4,5,6]])))\r\n",
        "print(reduce(lambda a, b: np.concatenate([a,b]), np.array([[1,2,3], [4,5,6],[7,8,9]])))\r\n",
        "\r\n"
      ],
      "execution_count": null,
      "outputs": [
        {
          "output_type": "stream",
          "text": [
            "[1 2 3 4 5 6]\n",
            "[1 2 3 4 5 6]\n",
            "[1 2 3 4 5 6 7 8 9]\n",
            "[1 2 3 4 5 6 7 8 9]\n"
          ],
          "name": "stdout"
        }
      ]
    },
    {
      "cell_type": "code",
      "metadata": {
        "id": "ePfWh3suBSso",
        "colab": {
          "base_uri": "https://localhost:8080/"
        },
        "outputId": "85e731f5-0e68-4264-de4e-2709f142ad38"
      },
      "source": [
        "# real, imag\r\n",
        "c = np.array([1.-2.6j, 2.1+3.J, 4.-3.2j])\r\n",
        "print(c.real)\r\n",
        "print(c.imag)"
      ],
      "execution_count": null,
      "outputs": [
        {
          "output_type": "stream",
          "text": [
            "[1.  2.1 4. ]\n",
            "[-2.6  3.  -3.2]\n"
          ],
          "name": "stdout"
        }
      ]
    },
    {
      "cell_type": "markdown",
      "metadata": {
        "id": "h0ngzzE8gLHO"
      },
      "source": [
        "# iterator"
      ]
    },
    {
      "cell_type": "code",
      "metadata": {
        "id": "b7FBfFIogNxl"
      },
      "source": [
        "it = iter([1,2,3])\r\n",
        "print(it)\r\n",
        "print(it.__next__())\r\n",
        "print(next(it))\r\n",
        "# print(it.next()) これはエラーになる\r\n",
        "print(next(it))\r\n",
        "# print(next(it)) StopIteration エラー"
      ],
      "execution_count": null,
      "outputs": []
    },
    {
      "cell_type": "code",
      "metadata": {
        "id": "LmjM6lCshCT7",
        "colab": {
          "base_uri": "https://localhost:8080/"
        },
        "outputId": "6b660724-4bd2-4021-abce-cd2674b77c4d"
      },
      "source": [
        "# 次のようなのを for loop を使わずに実現したい check_later\r\n",
        "m = {'Jan': 1, 'Feb': 2, 'Mar': 3, 'Apr': 4, 'May': 5, 'Jun': 6, 'Jul': 7, 'Aug': 8, 'Sep': 9, 'Oct': 10, 'Nov': 11, 'Dec': 12}\r\n",
        "for key in m:\r\n",
        "    print(\"{0} {1}, \".format(key, m[key]), end='')\r\n"
      ],
      "execution_count": null,
      "outputs": [
        {
          "output_type": "stream",
          "text": [
            "Jan 1, Feb 2, Mar 3, Apr 4, May 5, Jun 6, Jul 7, Aug 8, Sep 9, Oct 10, Nov 11, Dec 12, "
          ],
          "name": "stdout"
        }
      ]
    },
    {
      "cell_type": "code",
      "metadata": {
        "id": "e3ZmNjMJrhpV",
        "outputId": "84f335c1-bc92-4f52-b40c-5f7db40e6d37",
        "colab": {
          "base_uri": "https://localhost:8080/"
        }
      },
      "source": [
        "# やりかけ\r\n",
        "m = {'Jan': 1, 'Feb': 2, 'Mar': 3, 'Apr': 4, 'May': 5, 'Jun': 6, 'Jul': 7, 'Aug': 8, 'Sep': 9, 'Oct': 10, 'Nov': 11, 'Dec': 12}\r\n",
        "print(list(zip(m.keys(), m.values())))\r\n",
        "print(m.items())\r\n",
        "print([item[0]+' '+str(item[1])  for item in m.items()])"
      ],
      "execution_count": 35,
      "outputs": [
        {
          "output_type": "stream",
          "text": [
            "[('Jan', 1), ('Feb', 2), ('Mar', 3), ('Apr', 4), ('May', 5), ('Jun', 6), ('Jul', 7), ('Aug', 8), ('Sep', 9), ('Oct', 10), ('Nov', 11), ('Dec', 12)]\n",
            "dict_items([('Jan', 1), ('Feb', 2), ('Mar', 3), ('Apr', 4), ('May', 5), ('Jun', 6), ('Jul', 7), ('Aug', 8), ('Sep', 9), ('Oct', 10), ('Nov', 11), ('Dec', 12)])\n",
            "['Jan 1', 'Feb 2', 'Mar 3', 'Apr 4', 'May 5', 'Jun 6', 'Jul 7', 'Aug 8', 'Sep 9', 'Oct 10', 'Nov 11', 'Dec 12']\n"
          ],
          "name": "stdout"
        }
      ]
    },
    {
      "cell_type": "markdown",
      "metadata": {
        "id": "MSEQXp2fnKTs"
      },
      "source": [
        "# genertor と list comprehension"
      ]
    },
    {
      "cell_type": "code",
      "metadata": {
        "id": "k-CfBaEpnOn6",
        "colab": {
          "base_uri": "https://localhost:8080/"
        },
        "outputId": "fbec7afe-c47d-4b45-fe77-f904ea9e9f43"
      },
      "source": [
        "line_list = ['  line 1\\n', 'line 2  \\n']\r\n",
        "\r\n",
        "# Generator expression -- returns iterator\r\n",
        "stripped_iter = (line.strip() for line in line_list)\r\n",
        "print(stripped_iter)\r\n",
        "# List comprehension -- returns list\r\n",
        "stripped_list = [line.strip() for line in line_list]\r\n",
        "print(stripped_list)"
      ],
      "execution_count": null,
      "outputs": [
        {
          "output_type": "stream",
          "text": [
            "<generator object <genexpr> at 0x7f655cb0a0a0>\n",
            "['line 1', 'line 2']\n"
          ],
          "name": "stdout"
        }
      ]
    },
    {
      "cell_type": "markdown",
      "metadata": {
        "id": "KsyffhixYb0-"
      },
      "source": [
        "# いまここ\r\n",
        "\r\n",
        "https://docs.python.org/ja/3/howto/functional.html\r\n",
        "\r\n",
        "\r\n",
        "\r\n"
      ]
    }
  ]
}