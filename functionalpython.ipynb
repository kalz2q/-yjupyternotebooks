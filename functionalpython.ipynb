{
  "nbformat": 4,
  "nbformat_minor": 0,
  "metadata": {
    "colab": {
      "name": "functionalpython.ipynb",
      "provenance": [],
      "toc_visible": true,
      "authorship_tag": "ABX9TyNTRE3tDi6Aj3XRftYxE0eB",
      "include_colab_link": true
    },
    "kernelspec": {
      "name": "python3",
      "display_name": "Python 3"
    }
  },
  "cells": [
    {
      "cell_type": "markdown",
      "metadata": {
        "id": "view-in-github",
        "colab_type": "text"
      },
      "source": [
        "<a href=\"https://colab.research.google.com/github/kalz2q/mycolabnotebooks/blob/master/functionalpython.ipynb\" target=\"_parent\"><img src=\"https://colab.research.google.com/assets/colab-badge.svg\" alt=\"Open In Colab\"/></a>"
      ]
    },
    {
      "cell_type": "markdown",
      "metadata": {
        "id": "q2VOU_NmBs9A"
      },
      "source": [
        "# メモ\n",
        "関数型 Python という考え方\n",
        "1. reduce, map, filter を使う。  \n",
        "1. iterator, generator を使う。  \n",
        "https://docs.python.org/ja/3/howto/functional.html\n"
      ]
    },
    {
      "cell_type": "markdown",
      "metadata": {
        "id": "ZApaIbdsDsbQ"
      },
      "source": [
        "## reduce"
      ]
    },
    {
      "cell_type": "code",
      "metadata": {
        "id": "ejLW8duEBp8d",
        "colab": {
          "base_uri": "https://localhost:8080/"
        },
        "outputId": "0b80dfdb-1355-436e-a90f-42ab714258b8"
      },
      "source": [
        "# reduce は functools にある\n",
        "from functools import reduce\n",
        "array = [20, 1, 2, 3, 4, 5]\n",
        "\n",
        "print(reduce(lambda x, y: x+y, array))\n",
        "\n",
        "from operator import add\n",
        "from operator import sub\n",
        "from operator import mul\n",
        "\n",
        "print(reduce(add, array)) # 35\n",
        "print(reduce(sub, array)) # 5\n",
        "print(reduce(mul, array)) # 2400"
      ],
      "execution_count": null,
      "outputs": [
        {
          "output_type": "stream",
          "text": [
            "35\n",
            "35\n",
            "5\n",
            "2400\n"
          ],
          "name": "stdout"
        }
      ]
    },
    {
      "cell_type": "code",
      "metadata": {
        "id": "CPai0-AzYwCg",
        "colab": {
          "base_uri": "https://localhost:8080/"
        },
        "outputId": "72c8c0fa-b3ae-4dc5-959d-4dd899cdc5bf"
      },
      "source": [
        "from functools import reduce\n",
        "numbers = [-8, 5, -1, 4, -9, 2]\n",
        "print(reduce(lambda x, y: x +y, numbers)) # -7"
      ],
      "execution_count": null,
      "outputs": [
        {
          "output_type": "stream",
          "text": [
            "-7\n"
          ],
          "name": "stdout"
        }
      ]
    },
    {
      "cell_type": "code",
      "metadata": {
        "id": "TbGBFPVgZice",
        "colab": {
          "base_uri": "https://localhost:8080/"
        },
        "outputId": "6371c254-8152-47d4-c1ea-6ca5d60da255"
      },
      "source": [
        "# map とかは built-in 関数\n",
        "numbers = [-8, 5, -1, 4, -9, 2]\n",
        "\n",
        "print(list(map(abs, numbers))) #[8, 5, 1, 4, 9, 2]"
      ],
      "execution_count": null,
      "outputs": [
        {
          "output_type": "stream",
          "text": [
            "[8, 5, 1, 4, 9, 2]\n"
          ],
          "name": "stdout"
        }
      ]
    },
    {
      "cell_type": "code",
      "metadata": {
        "id": "wW4ieJVhZruG",
        "colab": {
          "base_uri": "https://localhost:8080/"
        },
        "outputId": "4dce0765-40f0-4bb3-da44-ea52d5c77ac5"
      },
      "source": [
        "# map の結果は map object\n",
        "numbers = [-8, 5, -1, 4, -9, 2]\n",
        "\n",
        "print(map(abs, numbers)) #[8, 5, 1, 4, 9, 2]"
      ],
      "execution_count": null,
      "outputs": [
        {
          "output_type": "stream",
          "text": [
            "<map object at 0x7f76d47a62b0>\n"
          ],
          "name": "stdout"
        }
      ]
    },
    {
      "cell_type": "code",
      "metadata": {
        "id": "oPLNybneZ3U6",
        "colab": {
          "base_uri": "https://localhost:8080/"
        },
        "outputId": "0c383e9e-4663-4810-fccf-819871f71d53"
      },
      "source": [
        "# filter\n",
        "numbers = [-8, 5, -1, 4, -9, 2]\n",
        "\n",
        "print(list(filter(lambda x: abs(x) > 3, numbers))) #[-8, 5, 4, -9]"
      ],
      "execution_count": null,
      "outputs": [
        {
          "output_type": "stream",
          "text": [
            "[-8, 5, 4, -9]\n"
          ],
          "name": "stdout"
        }
      ]
    },
    {
      "cell_type": "code",
      "metadata": {
        "id": "Qz1ghX8DaZlj",
        "colab": {
          "base_uri": "https://localhost:8080/"
        },
        "outputId": "ddac4ca8-c8b6-486e-a2ec-02b6cfff1b2c"
      },
      "source": [
        "# 実験 ndarrayにreduceが使えるか\n",
        "from functools import reduce\n",
        "import numpy as np\n",
        "print(reduce(lambda x,y: x+y, np.arange(10)))"
      ],
      "execution_count": null,
      "outputs": [
        {
          "output_type": "stream",
          "text": [
            "45\n"
          ],
          "name": "stdout"
        }
      ]
    },
    {
      "cell_type": "code",
      "metadata": {
        "id": "YWGsILuulL1j",
        "colab": {
          "base_uri": "https://localhost:8080/"
        },
        "outputId": "3751c6e6-c7df-48ff-9e70-eea4b23a51f2"
      },
      "source": [
        "# np.arange は ndarray で range は range クラス\n",
        "# ndarray を使う\n",
        "import numpy as np\n",
        "print(type(np.arange(10)))\n",
        "print(type(range(10)))"
      ],
      "execution_count": null,
      "outputs": [
        {
          "output_type": "stream",
          "text": [
            "<class 'numpy.ndarray'>\n",
            "<class 'range'>\n"
          ],
          "name": "stdout"
        }
      ]
    },
    {
      "cell_type": "code",
      "metadata": {
        "id": "VCORLzN58X1D",
        "colab": {
          "base_uri": "https://localhost:8080/"
        },
        "outputId": "fd95a4e4-f298-461e-9a3b-40e49b4d0445"
      },
      "source": [
        "# ndarray について\n",
        "import numpy as np\n",
        "a = np.array([1,2,3])\n",
        "a02 = np.arange(1,4)\n",
        "print(type(a))\n",
        "print(a == a02)\n",
        "b = np.array([[1,2,3], [4,5,6]])\n",
        "print(a)\n",
        "print(b)\n",
        "print(a.T)\n",
        "print(b.T)\n",
        "print(a.data)\n",
        "print(a.dtype)"
      ],
      "execution_count": null,
      "outputs": [
        {
          "output_type": "stream",
          "text": [
            "<class 'numpy.ndarray'>\n",
            "[ True  True  True]\n",
            "[1 2 3]\n",
            "[[1 2 3]\n",
            " [4 5 6]]\n",
            "[1 2 3]\n",
            "[[1 4]\n",
            " [2 5]\n",
            " [3 6]]\n",
            "<memory at 0x7f1bb69bef48>\n",
            "int64\n"
          ],
          "name": "stdout"
        }
      ]
    },
    {
      "cell_type": "markdown",
      "metadata": {
        "id": "EcYBWrClRTSP"
      },
      "source": [
        "# flatten"
      ]
    },
    {
      "cell_type": "code",
      "metadata": {
        "id": "quwuVGGV8aZx",
        "colab": {
          "base_uri": "https://localhost:8080/"
        },
        "outputId": "18e58124-11fe-4527-fa8b-b9d40ca2e772"
      },
      "source": [
        "# flatten\n",
        "import numpy as np\n",
        "b = np.array([[1,2,3], [4,5,6]])\n",
        "print(b.flatten())\n",
        "print(b.flat[3])\n",
        "\n",
        "from functools import reduce\n",
        "print(reduce(lambda a, b: a + b, [[1,2,3],[4,5,6],[7,8,9]]))\n",
        "print(reduce(lambda a, b: a + b, np.array([[1,2,3], [4,5,6]]))) # flatten にならない\n",
        "print(reduce(lambda a, b: a + b, np.array([[1,2,3],[4,5,6],[7,8,9]]))) # flatten にならない\n"
      ],
      "execution_count": null,
      "outputs": [
        {
          "output_type": "stream",
          "text": [
            "[1 2 3 4 5 6]\n",
            "4\n",
            "[1, 2, 3, 4, 5, 6, 7, 8, 9]\n",
            "[5 7 9]\n",
            "[12 15 18]\n"
          ],
          "name": "stdout"
        }
      ]
    },
    {
      "cell_type": "code",
      "metadata": {
        "id": "0QimhkgYRX7p",
        "colab": {
          "base_uri": "https://localhost:8080/"
        },
        "outputId": "ca410462-9c0c-4d7b-83ce-ce4b22d12396"
      },
      "source": [
        "# flatten\n",
        "import numpy as np\n",
        "\n",
        "print(np.concatenate([np.array([[1,2,3], [4,5,6]])[0],  np.array([[1,2,3], [4,5,6]])[1]] ))\n",
        "print(reduce(lambda a, b: np.concatenate([a,b]), np.array([[1,2,3], [4,5,6]])))\n",
        "print(reduce(lambda a, b: np.concatenate([a,b]), np.array([[1,2,3], [4,5,6],[7,8,9]])))\n",
        "\n"
      ],
      "execution_count": null,
      "outputs": [
        {
          "output_type": "stream",
          "text": [
            "[1 2 3 4 5 6]\n",
            "[1 2 3 4 5 6]\n",
            "[1 2 3 4 5 6 7 8 9]\n",
            "[1 2 3 4 5 6 7 8 9]\n"
          ],
          "name": "stdout"
        }
      ]
    },
    {
      "cell_type": "code",
      "metadata": {
        "id": "ePfWh3suBSso",
        "colab": {
          "base_uri": "https://localhost:8080/"
        },
        "outputId": "85e731f5-0e68-4264-de4e-2709f142ad38"
      },
      "source": [
        "# real, imag\n",
        "c = np.array([1.-2.6j, 2.1+3.J, 4.-3.2j])\n",
        "print(c.real)\n",
        "print(c.imag)"
      ],
      "execution_count": null,
      "outputs": [
        {
          "output_type": "stream",
          "text": [
            "[1.  2.1 4. ]\n",
            "[-2.6  3.  -3.2]\n"
          ],
          "name": "stdout"
        }
      ]
    },
    {
      "cell_type": "markdown",
      "metadata": {
        "id": "h0ngzzE8gLHO"
      },
      "source": [
        "# iterator"
      ]
    },
    {
      "cell_type": "code",
      "metadata": {
        "id": "b7FBfFIogNxl"
      },
      "source": [
        "it = iter([1,2,3])\n",
        "print(it)\n",
        "print(it.__next__())\n",
        "print(next(it))\n",
        "# print(it.next()) これはエラーになる\n",
        "print(next(it))\n",
        "# print(next(it)) StopIteration エラー"
      ],
      "execution_count": null,
      "outputs": []
    },
    {
      "cell_type": "code",
      "metadata": {
        "id": "LmjM6lCshCT7",
        "colab": {
          "base_uri": "https://localhost:8080/"
        },
        "outputId": "6b660724-4bd2-4021-abce-cd2674b77c4d"
      },
      "source": [
        "# 次のようなのを for loop を使わずに実現したい check_later\n",
        "m = {'Jan': 1, 'Feb': 2, 'Mar': 3, 'Apr': 4, 'May': 5, 'Jun': 6, 'Jul': 7, 'Aug': 8, 'Sep': 9, 'Oct': 10, 'Nov': 11, 'Dec': 12}\n",
        "for key in m:\n",
        "    print(\"{0} {1}, \".format(key, m[key]), end='')\n"
      ],
      "execution_count": null,
      "outputs": [
        {
          "output_type": "stream",
          "text": [
            "Jan 1, Feb 2, Mar 3, Apr 4, May 5, Jun 6, Jul 7, Aug 8, Sep 9, Oct 10, Nov 11, Dec 12, "
          ],
          "name": "stdout"
        }
      ]
    },
    {
      "cell_type": "code",
      "metadata": {
        "id": "e3ZmNjMJrhpV",
        "colab": {
          "base_uri": "https://localhost:8080/"
        },
        "outputId": "84f335c1-bc92-4f52-b40c-5f7db40e6d37"
      },
      "source": [
        "# やりかけ\n",
        "m = {'Jan': 1, 'Feb': 2, 'Mar': 3, 'Apr': 4, 'May': 5, 'Jun': 6, 'Jul': 7, 'Aug': 8, 'Sep': 9, 'Oct': 10, 'Nov': 11, 'Dec': 12}\n",
        "print(list(zip(m.keys(), m.values())))\n",
        "print(m.items())\n",
        "print([item[0]+' '+str(item[1])  for item in m.items()])"
      ],
      "execution_count": null,
      "outputs": [
        {
          "output_type": "stream",
          "text": [
            "[('Jan', 1), ('Feb', 2), ('Mar', 3), ('Apr', 4), ('May', 5), ('Jun', 6), ('Jul', 7), ('Aug', 8), ('Sep', 9), ('Oct', 10), ('Nov', 11), ('Dec', 12)]\n",
            "dict_items([('Jan', 1), ('Feb', 2), ('Mar', 3), ('Apr', 4), ('May', 5), ('Jun', 6), ('Jul', 7), ('Aug', 8), ('Sep', 9), ('Oct', 10), ('Nov', 11), ('Dec', 12)])\n",
            "['Jan 1', 'Feb 2', 'Mar 3', 'Apr 4', 'May 5', 'Jun 6', 'Jul 7', 'Aug 8', 'Sep 9', 'Oct 10', 'Nov 11', 'Dec 12']\n"
          ],
          "name": "stdout"
        }
      ]
    },
    {
      "cell_type": "markdown",
      "metadata": {
        "id": "MSEQXp2fnKTs"
      },
      "source": [
        "# genertor と list comprehension"
      ]
    },
    {
      "cell_type": "code",
      "metadata": {
        "id": "k-CfBaEpnOn6",
        "colab": {
          "base_uri": "https://localhost:8080/"
        },
        "outputId": "fbec7afe-c47d-4b45-fe77-f904ea9e9f43"
      },
      "source": [
        "line_list = ['  line 1\\n', 'line 2  \\n']\n",
        "\n",
        "# Generator expression -- returns iterator\n",
        "stripped_iter = (line.strip() for line in line_list)\n",
        "print(stripped_iter)\n",
        "# List comprehension -- returns list\n",
        "stripped_list = [line.strip() for line in line_list]\n",
        "print(stripped_list)"
      ],
      "execution_count": null,
      "outputs": [
        {
          "output_type": "stream",
          "text": [
            "<generator object <genexpr> at 0x7f655cb0a0a0>\n",
            "['line 1', 'line 2']\n"
          ],
          "name": "stdout"
        }
      ]
    },
    {
      "cell_type": "code",
      "metadata": {
        "id": "5EoT4KBxFkuw",
        "colab": {
          "base_uri": "https://localhost:8080/"
        },
        "outputId": "591c5f96-17dc-4804-d613-e25dd598abf0"
      },
      "source": [
        "# 上記を map を使って実装する\n",
        "# map は for loop を使わないので、内包表記よりよいと思う\n",
        "\n",
        "line_list = ['  line 1\\n', 'line 2  \\n']\n",
        "\n",
        "print(list(map(lambda line: line.strip(),  line_list)))"
      ],
      "execution_count": null,
      "outputs": [
        {
          "output_type": "stream",
          "text": [
            "['line 1', 'line 2']\n"
          ],
          "name": "stdout"
        }
      ]
    },
    {
      "cell_type": "code",
      "metadata": {
        "id": "F6u5llU2yRyE",
        "colab": {
          "base_uri": "https://localhost:8080/"
        },
        "outputId": "20fe5221-0a58-4712-aafc-a7d8c0d2eea8"
      },
      "source": [
        "def generate_ints(N):\n",
        "   for i in range(N):\n",
        "       yield i\n",
        "\n",
        "gen = generate_ints(3)\n",
        "print(gen)\n",
        "print(next(gen))\n",
        "print(next(gen))\n",
        "print(next(gen))\n",
        "# print(next(gen)) # StopIteration\n",
        "\n"
      ],
      "execution_count": null,
      "outputs": [
        {
          "output_type": "stream",
          "text": [
            "<generator object generate_ints at 0x7f6554ceea40>\n",
            "0\n",
            "1\n",
            "2\n"
          ],
          "name": "stdout"
        }
      ]
    },
    {
      "cell_type": "code",
      "metadata": {
        "id": "3NhVcVi2GLvt"
      },
      "source": [
        "# A recursive generator that generates Tree leaves in in-order.\n",
        "def inorder(t):\n",
        "    if t:\n",
        "        for x in inorder(t.left):\n",
        "            yield x\n",
        "\n",
        "        yield t.label\n",
        "\n",
        "        for x in inorder(t.right):\n",
        "            yield x"
      ],
      "execution_count": null,
      "outputs": []
    },
    {
      "cell_type": "code",
      "metadata": {
        "id": "jqIwXdseGgId",
        "colab": {
          "base_uri": "https://localhost:8080/"
        },
        "outputId": "98683a17-6443-4ff9-8d74-1e37f53d74fe"
      },
      "source": [
        "# val = (yield i)\n",
        "\n",
        "def counter(maximum):\n",
        "    i = 0\n",
        "    while i < maximum:\n",
        "        val = (yield i)\n",
        "        # If value provided, change counter\n",
        "        if val is not None:\n",
        "            i = val\n",
        "        else:\n",
        "            i += 1\n",
        "\n",
        "it = counter(10)  \n",
        "print(next(it))\n",
        "print(next(it))\n",
        "print(it.send(8))\n",
        "print(next(it))\n",
        "# print(next(it))"
      ],
      "execution_count": null,
      "outputs": [
        {
          "output_type": "stream",
          "text": [
            "0\n",
            "1\n",
            "8\n",
            "9\n"
          ],
          "name": "stdout"
        }
      ]
    },
    {
      "cell_type": "code",
      "metadata": {
        "id": "t41BmBDjHzq0",
        "colab": {
          "base_uri": "https://localhost:8080/"
        },
        "outputId": "99597ad1-8e2b-4861-8d13-0e3dde24fb52"
      },
      "source": [
        "def upper(s):\n",
        "    return s.upper()\n",
        "\n",
        "print(list(map(upper, ['sentence', 'fragment'])))\n",
        "print([upper(s) for s in ['sentence', 'fragment']])\n",
        "\n",
        "# 関数定義は要らないのではないか\n",
        "# map では lambda を使う。\n",
        "# 内包表記ではメソッドのまま使える\n",
        "print(list(map(lambda x: x.upper(),  ['sentence', 'fragment'])))\n",
        "print([s.upper() for s in ['sentence', 'fragment']])"
      ],
      "execution_count": null,
      "outputs": [
        {
          "output_type": "stream",
          "text": [
            "['SENTENCE', 'FRAGMENT']\n",
            "['SENTENCE', 'FRAGMENT']\n",
            "['SENTENCE', 'FRAGMENT']\n",
            "['SENTENCE', 'FRAGMENT']\n"
          ],
          "name": "stdout"
        }
      ]
    },
    {
      "cell_type": "code",
      "metadata": {
        "id": "GGXKTqFRd40y",
        "colab": {
          "base_uri": "https://localhost:8080/"
        },
        "outputId": "6360f948-0fef-4c83-93b0-ee1641d089a4"
      },
      "source": [
        "print (list(map (lambda x : x.upper(),  ['sentence', 'fragment'])))"
      ],
      "execution_count": null,
      "outputs": [
        {
          "output_type": "stream",
          "text": [
            "['SENTENCE', 'FRAGMENT']\n"
          ],
          "name": "stdout"
        }
      ]
    },
    {
      "cell_type": "markdown",
      "metadata": {
        "id": "KXL7r2BTiECJ"
      },
      "source": [
        "# filter"
      ]
    },
    {
      "cell_type": "code",
      "metadata": {
        "id": "XFNfRWdWiFwA",
        "colab": {
          "base_uri": "https://localhost:8080/"
        },
        "outputId": "0442f2ba-61fd-4075-afb8-2a372e4d3980"
      },
      "source": [
        "# filter\n",
        "def is_even(x):\n",
        "    return (x % 2) == 0\n",
        "\n",
        "print(list(filter(is_even, range(10))))\n",
        "\n",
        "print(list(filter(lambda x: (x % 2) == 0, range(10))))\n",
        "\n",
        "print(list(x for x in range(10) if is_even(x)))"
      ],
      "execution_count": null,
      "outputs": [
        {
          "output_type": "stream",
          "text": [
            "[0, 2, 4, 6, 8]\n",
            "[0, 2, 4, 6, 8]\n",
            "[0, 2, 4, 6, 8]\n"
          ],
          "name": "stdout"
        }
      ]
    },
    {
      "cell_type": "markdown",
      "metadata": {
        "id": "xp8bu2cVoZ1Q"
      },
      "source": [
        "# enumerate"
      ]
    },
    {
      "cell_type": "code",
      "metadata": {
        "id": "4vlBlDkPlOes",
        "colab": {
          "base_uri": "https://localhost:8080/"
        },
        "outputId": "797bb907-6022-4fc1-d087-087e70fa7bca"
      },
      "source": [
        "# enumerate\n",
        "for item in enumerate(['subject', 'verb', 'object']):\n",
        "    print(item)\n",
        "\n",
        "print(list(enumerate(['subject', 'verb', 'object'])))\n",
        "print(list(map(lambda x: (x[0], x[1]), enumerate(['subject', 'verb', 'object']))))"
      ],
      "execution_count": null,
      "outputs": [
        {
          "output_type": "stream",
          "text": [
            "(0, 'subject')\n",
            "(1, 'verb')\n",
            "(2, 'object')\n",
            "[(0, 'subject'), (1, 'verb'), (2, 'object')]\n",
            "[(0, 'subject'), (1, 'verb'), (2, 'object')]\n"
          ],
          "name": "stdout"
        }
      ]
    },
    {
      "cell_type": "code",
      "metadata": {
        "id": "_2SNmdSmocD3",
        "colab": {
          "base_uri": "https://localhost:8080/"
        },
        "outputId": "dc7a05b4-29b9-4ba3-e649-0955c8782810"
      },
      "source": [
        "# enumerate の使い方\n",
        "# f = open('data.txt', 'r')\n",
        "f = ['This is an apple.', '', 'That is a pen.','', 'END']\n",
        "for i, line in enumerate(f):\n",
        "    if line.strip() == '':\n",
        "        print('Blank line at line #%i' % i)\n",
        "\n",
        "\n",
        "print(list(map(lambda x: \"Blank line at line #\"+ str(x[0]), (filter(lambda x: x[1] == '', enumerate(f))))))"
      ],
      "execution_count": null,
      "outputs": [
        {
          "output_type": "stream",
          "text": [
            "Blank line at line #1\n",
            "Blank line at line #3\n",
            "['Blank line at line #1', 'Blank line at line #3']\n"
          ],
          "name": "stdout"
        }
      ]
    },
    {
      "cell_type": "markdown",
      "metadata": {
        "id": "-2h7KPIKv2FT"
      },
      "source": [
        "# sorted\n"
      ]
    },
    {
      "cell_type": "code",
      "metadata": {
        "id": "qJZGt3xcv4Yq",
        "colab": {
          "base_uri": "https://localhost:8080/"
        },
        "outputId": "69b66c7e-3a28-4636-d0d4-29b593a69b35"
      },
      "source": [
        "import random\n",
        "# Generate 8 random numbers between [0, 10000)\n",
        "rand_list = random.sample(range(10000), 8)\n",
        "print(rand_list)\n",
        "print(sorted(rand_list))\n",
        "print(sorted(rand_list, reverse=True))\n"
      ],
      "execution_count": null,
      "outputs": [
        {
          "output_type": "stream",
          "text": [
            "[8472, 1787, 5965, 2983, 4798, 9739, 6306, 7455]\n",
            "[1787, 2983, 4798, 5965, 6306, 7455, 8472, 9739]\n",
            "[9739, 8472, 7455, 6306, 5965, 4798, 2983, 1787]\n"
          ],
          "name": "stdout"
        }
      ]
    },
    {
      "cell_type": "code",
      "metadata": {
        "id": "N3XKwMxFwlT6",
        "colab": {
          "base_uri": "https://localhost:8080/"
        },
        "outputId": "03465ec3-3ac7-43ca-8fea-15a14c65fa7c"
      },
      "source": [
        "print(any([0, 1, 0]))\n",
        "print(any([0, 0, 0]))\n",
        "print(any([1, 1, 1]))\n",
        "print(all([0, 1, 0]))\n",
        "print(all([0, 0, 0]))\n",
        "print(all([1, 1, 1]))\n"
      ],
      "execution_count": null,
      "outputs": [
        {
          "output_type": "stream",
          "text": [
            "True\n",
            "False\n",
            "True\n",
            "False\n",
            "False\n",
            "True\n"
          ],
          "name": "stdout"
        }
      ]
    },
    {
      "cell_type": "code",
      "metadata": {
        "id": "weQ3OeUtwuYR",
        "colab": {
          "base_uri": "https://localhost:8080/"
        },
        "outputId": "39093f55-3049-4e6b-e028-076bdaeeb655"
      },
      "source": [
        "list(zip(['a', 'b', 'c'], (1, 2, 3)))"
      ],
      "execution_count": null,
      "outputs": [
        {
          "output_type": "execute_result",
          "data": {
            "text/plain": [
              "[('a', 1), ('b', 2), ('c', 3)]"
            ]
          },
          "metadata": {
            "tags": []
          },
          "execution_count": 37
        }
      ]
    },
    {
      "cell_type": "markdown",
      "metadata": {
        "id": "6Q1fLUyixBuA"
      },
      "source": [
        "# itertools"
      ]
    },
    {
      "cell_type": "code",
      "metadata": {
        "id": "M5yfKhHHxDcY",
        "colab": {
          "base_uri": "https://localhost:8080/"
        },
        "outputId": "6409abac-2077-4907-fa77-e61f6c65c242"
      },
      "source": [
        "import itertools\n",
        "\n",
        "print(list(itertools.islice(itertools.count(), 10)))\n",
        "print(list(itertools.islice(itertools.count(10), 10)))\n",
        "print(list(itertools.islice(itertools.count(10, 5), 10)))\n",
        "\n"
      ],
      "execution_count": null,
      "outputs": [
        {
          "output_type": "stream",
          "text": [
            "[0, 1, 2, 3, 4, 5, 6, 7, 8, 9]\n",
            "[10, 11, 12, 13, 14, 15, 16, 17, 18, 19]\n",
            "[10, 15, 20, 25, 30, 35, 40, 45, 50, 55]\n"
          ],
          "name": "stdout"
        }
      ]
    },
    {
      "cell_type": "code",
      "metadata": {
        "id": "AwGYKhBsAOhL",
        "colab": {
          "base_uri": "https://localhost:8080/"
        },
        "outputId": "480a3de3-c814-4024-abd2-17cd77760839"
      },
      "source": [
        "import itertools\n",
        "print(list(itertools.islice(itertools.cycle([1, 2, 3]), 10)))\n",
        "\n",
        "print(list(itertools.repeat('abc', 5)))\n",
        "\n",
        "print(list(itertools.repeat([1,2,3,], 5)))\n"
      ],
      "execution_count": null,
      "outputs": [
        {
          "output_type": "stream",
          "text": [
            "[1, 2, 3, 1, 2, 3, 1, 2, 3, 1]\n",
            "['abc', 'abc', 'abc', 'abc', 'abc']\n",
            "[[1, 2, 3], [1, 2, 3], [1, 2, 3], [1, 2, 3], [1, 2, 3]]\n"
          ],
          "name": "stdout"
        }
      ]
    },
    {
      "cell_type": "code",
      "metadata": {
        "id": "DdK0M6VrBINv",
        "colab": {
          "base_uri": "https://localhost:8080/"
        },
        "outputId": "aa26b9f8-d8ca-4920-9b84-ca53d6196f0b"
      },
      "source": [
        "import itertools\n",
        "print(list(itertools.islice(range(10), 8)))\n",
        "print(list(itertools.islice(range(10), 2, 8)))\n",
        "print(list(itertools.islice(range(10), 2, 8, 2)))"
      ],
      "execution_count": null,
      "outputs": [
        {
          "output_type": "stream",
          "text": [
            "[0, 1, 2, 3, 4, 5, 6, 7]\n",
            "[2, 3, 4, 5, 6, 7]\n",
            "[2, 4, 6]\n"
          ],
          "name": "stdout"
        }
      ]
    },
    {
      "cell_type": "code",
      "metadata": {
        "id": "r4HpiuDkBjs2",
        "colab": {
          "base_uri": "https://localhost:8080/"
        },
        "outputId": "32756697-f006-4b43-acd9-49cfe8f3dd12"
      },
      "source": [
        "itertools.tee( itertools.count() )"
      ],
      "execution_count": null,
      "outputs": [
        {
          "output_type": "execute_result",
          "data": {
            "text/plain": [
              "(<itertools._tee at 0x7f4978fdfa08>, <itertools._tee at 0x7f4978fdf8c8>)"
            ]
          },
          "metadata": {
            "tags": []
          },
          "execution_count": 9
        }
      ]
    },
    {
      "cell_type": "code",
      "metadata": {
        "id": "ED6cacGgB5oV",
        "colab": {
          "base_uri": "https://localhost:8080/"
        },
        "outputId": "77acdc1b-04e2-49d4-fdd9-e33abc846727"
      },
      "source": [
        "import os\n",
        "list(itertools.starmap(os.path.join,\n",
        "                  [('/bin', 'python'), ('/usr', 'bin', 'java'),\n",
        "                   ('/usr', 'bin', 'perl'), ('/usr', 'bin', 'ruby')]))"
      ],
      "execution_count": null,
      "outputs": [
        {
          "output_type": "execute_result",
          "data": {
            "text/plain": [
              "['/bin/python', '/usr/bin/java', '/usr/bin/perl', '/usr/bin/ruby']"
            ]
          },
          "metadata": {
            "tags": []
          },
          "execution_count": 12
        }
      ]
    },
    {
      "cell_type": "code",
      "metadata": {
        "id": "j5GG8tEECghc",
        "colab": {
          "base_uri": "https://localhost:8080/"
        },
        "outputId": "f40ec160-8027-453f-e7df-90dd87f28831"
      },
      "source": [
        "print(list(itertools.islice(itertools.filterfalse(lambda x: x%2 != 0, itertools.count()),10)))"
      ],
      "execution_count": null,
      "outputs": [
        {
          "output_type": "stream",
          "text": [
            "[0, 2, 4, 6, 8, 10, 12, 14, 16, 18]\n"
          ],
          "name": "stdout"
        }
      ]
    },
    {
      "cell_type": "code",
      "metadata": {
        "id": "u8EAvQXyDMW0",
        "colab": {
          "base_uri": "https://localhost:8080/"
        },
        "outputId": "bf9cb85f-0fec-4303-cb08-016231c56d28"
      },
      "source": [
        "print(list(itertools.takewhile(lambda x: x < 10, itertools.count())))"
      ],
      "execution_count": null,
      "outputs": [
        {
          "output_type": "stream",
          "text": [
            "[0, 1, 2, 3, 4, 5, 6, 7, 8, 9]\n"
          ],
          "name": "stdout"
        }
      ]
    },
    {
      "cell_type": "code",
      "metadata": {
        "id": "232awvg0DgnU",
        "colab": {
          "base_uri": "https://localhost:8080/"
        },
        "outputId": "771a2178-2e69-468d-ca5f-f036e593f0fa"
      },
      "source": [
        "print(list(itertools.takewhile(lambda x: x%2==0, itertools.count())))"
      ],
      "execution_count": null,
      "outputs": [
        {
          "output_type": "stream",
          "text": [
            "[0]\n"
          ],
          "name": "stdout"
        }
      ]
    },
    {
      "cell_type": "code",
      "metadata": {
        "id": "f-fO84caDxol",
        "colab": {
          "base_uri": "https://localhost:8080/"
        },
        "outputId": "c8bb3deb-fe78-4c8f-c7d3-0c9e8c47708d"
      },
      "source": [
        "print(list(itertools.islice(itertools.dropwhile(lambda x: x < 10, itertools.count()),10)))"
      ],
      "execution_count": null,
      "outputs": [
        {
          "output_type": "stream",
          "text": [
            "[10, 11, 12, 13, 14, 15, 16, 17, 18, 19]\n"
          ],
          "name": "stdout"
        }
      ]
    },
    {
      "cell_type": "code",
      "metadata": {
        "id": "hT0KKytYDzb3",
        "colab": {
          "base_uri": "https://localhost:8080/"
        },
        "outputId": "c576fbdd-b6ba-45f9-d642-f36cfaafb2ee"
      },
      "source": [
        "print(list(itertools.islice(itertools.dropwhile(lambda x: x%2==0, itertools.count()), 10)))"
      ],
      "execution_count": null,
      "outputs": [
        {
          "output_type": "stream",
          "text": [
            "[1, 2, 3, 4, 5, 6, 7, 8, 9, 10]\n"
          ],
          "name": "stdout"
        }
      ]
    },
    {
      "cell_type": "code",
      "metadata": {
        "id": "rVkYHp3kEU89",
        "colab": {
          "base_uri": "https://localhost:8080/"
        },
        "outputId": "9d481d8c-4920-4674-8cbd-a24519cd70b6"
      },
      "source": [
        "list(itertools.compress([1, 2, 3, 4, 5], [True, True, False, False, True]))"
      ],
      "execution_count": null,
      "outputs": [
        {
          "output_type": "execute_result",
          "data": {
            "text/plain": [
              "[1, 2, 5]"
            ]
          },
          "metadata": {
            "tags": []
          },
          "execution_count": 26
        }
      ]
    },
    {
      "cell_type": "code",
      "metadata": {
        "id": "nZ20jiy5EiMj",
        "colab": {
          "base_uri": "https://localhost:8080/"
        },
        "outputId": "ef331aab-4660-4feb-f3a0-6950988b65ea"
      },
      "source": [
        "print(list(itertools.combinations([1, 2, 3, 4, 5], 2)))\n",
        "print(list(itertools.combinations([1, 2, 3, 4, 5], 3)))"
      ],
      "execution_count": null,
      "outputs": [
        {
          "output_type": "stream",
          "text": [
            "[(1, 2), (1, 3), (1, 4), (1, 5), (2, 3), (2, 4), (2, 5), (3, 4), (3, 5), (4, 5)]\n",
            "[(1, 2, 3), (1, 2, 4), (1, 2, 5), (1, 3, 4), (1, 3, 5), (1, 4, 5), (2, 3, 4), (2, 3, 5), (2, 4, 5), (3, 4, 5)]\n"
          ],
          "name": "stdout"
        }
      ]
    },
    {
      "cell_type": "code",
      "metadata": {
        "id": "wGf6W1VMFbYm",
        "colab": {
          "base_uri": "https://localhost:8080/"
        },
        "outputId": "294ed613-100e-4704-8b97-30c7505e63c3"
      },
      "source": [
        "print(list(itertools.permutations('aba', 3)))"
      ],
      "execution_count": null,
      "outputs": [
        {
          "output_type": "stream",
          "text": [
            "[('a', 'b', 'a'), ('a', 'a', 'b'), ('b', 'a', 'a'), ('b', 'a', 'a'), ('a', 'a', 'b'), ('a', 'b', 'a')]\n"
          ],
          "name": "stdout"
        }
      ]
    },
    {
      "cell_type": "code",
      "metadata": {
        "id": "RNZ2Ijkeg50E",
        "colab": {
          "base_uri": "https://localhost:8080/"
        },
        "outputId": "4136e97e-0f79-4db9-8939-78b2ee16598b"
      },
      "source": [
        "print(list(itertools.combinations_with_replacement([1, 2, 3, 4, 5], 2)))"
      ],
      "execution_count": null,
      "outputs": [
        {
          "output_type": "stream",
          "text": [
            "[(1, 1), (1, 2), (1, 3), (1, 4), (1, 5), (2, 2), (2, 3), (2, 4), (2, 5), (3, 3), (3, 4), (3, 5), (4, 4), (4, 5), (5, 5)]\n"
          ],
          "name": "stdout"
        }
      ]
    },
    {
      "cell_type": "code",
      "metadata": {
        "id": "vA2Hj7PaiZS5",
        "colab": {
          "base_uri": "https://localhost:8080/"
        },
        "outputId": "f97721b9-ccdb-4770-b9ce-1226c77f2c78"
      },
      "source": [
        "# groupby\n",
        "import itertools\n",
        "\n",
        "city_list = [('Decatur', 'AL'), ('Huntsville', 'AL'), ('Selma', 'AL'),\n",
        "             ('Anchorage', 'AK'), ('Nome', 'AK'), ('Flagstaff', 'AZ'), \n",
        "             ('Phoenix', 'AZ'), ('Tucson', 'AZ')]\n",
        "\n",
        "\n",
        "def get_state(city_state):\n",
        "    return city_state[1]\n",
        "\n",
        "list(map (lambda x: (x[0], list(x[1])), itertools.groupby(city_list, get_state)))"
      ],
      "execution_count": null,
      "outputs": [
        {
          "output_type": "execute_result",
          "data": {
            "text/plain": [
              "[('AL', [('Decatur', 'AL'), ('Huntsville', 'AL'), ('Selma', 'AL')]),\n",
              " ('AK', [('Anchorage', 'AK'), ('Nome', 'AK')]),\n",
              " ('AZ', [('Flagstaff', 'AZ'), ('Phoenix', 'AZ'), ('Tucson', 'AZ')])]"
            ]
          },
          "metadata": {
            "tags": []
          },
          "execution_count": 50
        }
      ]
    },
    {
      "cell_type": "markdown",
      "metadata": {
        "id": "360Nd8kvKmu2"
      },
      "source": [
        "# functools.partial"
      ]
    },
    {
      "cell_type": "code",
      "metadata": {
        "id": "Y59O6d9HK9H4",
        "colab": {
          "base_uri": "https://localhost:8080/"
        },
        "outputId": "fef8a8d0-205d-496e-ec4e-720d38251a1f"
      },
      "source": [
        "# functoolsfunctools.partial\n",
        "import functools\n",
        "\n",
        "def sayhello(message=\"hello\", to=\"ryo\"):\n",
        "    print(\"{1}さん、{0}\".format(message, to))\n",
        "\n",
        "sayhello()\n",
        "\n",
        "konnnichiwa = functools.partial(sayhello, \"こんにちわ\")\n",
        "\n",
        "konnnichiwa(\"nishizawa\")\n",
        "konnnichiwa(\"takahashi\")\n"
      ],
      "execution_count": null,
      "outputs": [
        {
          "output_type": "stream",
          "text": [
            "ryoさん、hello\n",
            "nishizawaさん、こんにちわ\n",
            "takahashiさん、こんにちわ\n"
          ],
          "name": "stdout"
        }
      ]
    },
    {
      "cell_type": "code",
      "metadata": {
        "id": "VI9cvQPpVgau",
        "outputId": "ae85a05b-fc1d-4543-b462-5a51b8b9f9ca",
        "colab": {
          "base_uri": "https://localhost:8080/",
          "height": 35
        }
      },
      "source": [
        "# reduce は haskell の foldr と考えてよいか\n",
        "import operator, functools\n",
        "functools.reduce(operator.concat, ['A', 'BB', 'C'])\n",
        "\n",
        "functools.reduce(operator.concat, ['A', 'BB', 'C'], 'END')"
      ],
      "execution_count": null,
      "outputs": [
        {
          "output_type": "execute_result",
          "data": {
            "application/vnd.google.colaboratory.intrinsic+json": {
              "type": "string"
            },
            "text/plain": [
              "'ENDABBC'"
            ]
          },
          "metadata": {
            "tags": []
          },
          "execution_count": 4
        }
      ]
    },
    {
      "cell_type": "code",
      "metadata": {
        "id": "qaim89ebWnIt",
        "outputId": "d739f7b3-2c78-4a2f-d5f5-9c54c7030dc1",
        "colab": {
          "base_uri": "https://localhost:8080/"
        }
      },
      "source": [
        "import operator, itertools\n",
        "print(list(itertools.accumulate([1, 2, 3, 4, 5])))\n",
        "print(list(itertools.accumulate([1, 2, 3, 4, 5], operator.mul)))"
      ],
      "execution_count": null,
      "outputs": [
        {
          "output_type": "stream",
          "text": [
            "[1, 3, 6, 10, 15]\n",
            "[1, 2, 6, 24, 120]\n"
          ],
          "name": "stdout"
        }
      ]
    },
    {
      "cell_type": "markdown",
      "metadata": {
        "id": "KsyffhixYb0-"
      },
      "source": [
        "# いまここ\n",
        "\n",
        "https://docs.python.org/ja/3/howto/functional.html\n",
        "\n",
        "\n",
        "\n"
      ]
    }
  ]
}