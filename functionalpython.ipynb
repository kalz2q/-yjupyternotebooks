{
  "nbformat": 4,
  "nbformat_minor": 0,
  "metadata": {
    "colab": {
      "name": "functionalpython.ipynb",
      "provenance": [],
      "toc_visible": true,
      "authorship_tag": "ABX9TyNJLEC17AWc4mwYAIxIVn8y",
      "include_colab_link": true
    },
    "kernelspec": {
      "name": "python3",
      "display_name": "Python 3"
    }
  },
  "cells": [
    {
      "cell_type": "markdown",
      "metadata": {
        "id": "view-in-github",
        "colab_type": "text"
      },
      "source": [
        "<a href=\"https://colab.research.google.com/github/kalz2q/mycolabnotebooks/blob/master/functionalpython.ipynb\" target=\"_parent\"><img src=\"https://colab.research.google.com/assets/colab-badge.svg\" alt=\"Open In Colab\"/></a>"
      ]
    },
    {
      "cell_type": "markdown",
      "metadata": {
        "id": "q2VOU_NmBs9A"
      },
      "source": [
        "# メモ\r\n",
        "関数型Python という考え方\r\n",
        "1. reduce, map, filter を使う。  \r\n",
        "高階関数の使い方！Pythonでreduceを使う方法【初心者向け】\r\n",
        "1. とか。\r\n"
      ]
    },
    {
      "cell_type": "code",
      "metadata": {
        "id": "ejLW8duEBp8d",
        "colab": {
          "base_uri": "https://localhost:8080/"
        },
        "outputId": "0b80dfdb-1355-436e-a90f-42ab714258b8"
      },
      "source": [
        "# reduce は functools にある\r\n",
        "from functools import reduce\r\n",
        "array = [20, 1, 2, 3, 4, 5]\r\n",
        "\r\n",
        "print(reduce(lambda x, y: x+y, array))\r\n",
        "\r\n",
        "from operator import add\r\n",
        "from operator import sub\r\n",
        "from operator import mul\r\n",
        "\r\n",
        "print(reduce(add, array)) # 35\r\n",
        "print(reduce(sub, array)) # 5\r\n",
        "print(reduce(mul, array)) # 2400"
      ],
      "execution_count": null,
      "outputs": [
        {
          "output_type": "stream",
          "text": [
            "35\n",
            "35\n",
            "5\n",
            "2400\n"
          ],
          "name": "stdout"
        }
      ]
    },
    {
      "cell_type": "code",
      "metadata": {
        "id": "CPai0-AzYwCg",
        "outputId": "72c8c0fa-b3ae-4dc5-959d-4dd899cdc5bf",
        "colab": {
          "base_uri": "https://localhost:8080/"
        }
      },
      "source": [
        "from functools import reduce\r\n",
        "numbers = [-8, 5, -1, 4, -9, 2]\r\n",
        "print(reduce(lambda x, y: x +y, numbers)) # -7"
      ],
      "execution_count": 29,
      "outputs": [
        {
          "output_type": "stream",
          "text": [
            "-7\n"
          ],
          "name": "stdout"
        }
      ]
    },
    {
      "cell_type": "code",
      "metadata": {
        "id": "TbGBFPVgZice",
        "outputId": "6371c254-8152-47d4-c1ea-6ca5d60da255",
        "colab": {
          "base_uri": "https://localhost:8080/"
        }
      },
      "source": [
        "# map とかは built-in 関数\r\n",
        "numbers = [-8, 5, -1, 4, -9, 2]\r\n",
        "\r\n",
        "print(list(map(abs, numbers))) #[8, 5, 1, 4, 9, 2]"
      ],
      "execution_count": 30,
      "outputs": [
        {
          "output_type": "stream",
          "text": [
            "[8, 5, 1, 4, 9, 2]\n"
          ],
          "name": "stdout"
        }
      ]
    },
    {
      "cell_type": "code",
      "metadata": {
        "id": "wW4ieJVhZruG",
        "outputId": "4dce0765-40f0-4bb3-da44-ea52d5c77ac5",
        "colab": {
          "base_uri": "https://localhost:8080/"
        }
      },
      "source": [
        "# map の結果は map object\r\n",
        "numbers = [-8, 5, -1, 4, -9, 2]\r\n",
        "\r\n",
        "print(map(abs, numbers)) #[8, 5, 1, 4, 9, 2]"
      ],
      "execution_count": 31,
      "outputs": [
        {
          "output_type": "stream",
          "text": [
            "<map object at 0x7f76d47a62b0>\n"
          ],
          "name": "stdout"
        }
      ]
    },
    {
      "cell_type": "code",
      "metadata": {
        "id": "oPLNybneZ3U6",
        "outputId": "0c383e9e-4663-4810-fccf-819871f71d53",
        "colab": {
          "base_uri": "https://localhost:8080/"
        }
      },
      "source": [
        "# filter\r\n",
        "numbers = [-8, 5, -1, 4, -9, 2]\r\n",
        "\r\n",
        "print(list(filter(lambda x: abs(x) > 3, numbers))) #[-8, 5, 4, -9]"
      ],
      "execution_count": 36,
      "outputs": [
        {
          "output_type": "stream",
          "text": [
            "[-8, 5, 4, -9]\n"
          ],
          "name": "stdout"
        }
      ]
    },
    {
      "cell_type": "code",
      "metadata": {
        "id": "Qz1ghX8DaZlj"
      },
      "source": [
        ""
      ],
      "execution_count": null,
      "outputs": []
    },
    {
      "cell_type": "markdown",
      "metadata": {
        "id": "KsyffhixYb0-"
      },
      "source": [
        "# いまここ\r\n",
        "reduce python qiita\r\n",
        "で検索\r\n",
        "https://www.google.com/search?q=reduce+python+qiita&oq=reduce+python+qiita&aqs=chrome..69i57j0i333l2.5334j1j4&sourceid=chrome&ie=UTF-8\r\n",
        "\r\n",
        "array vector python\r\n",
        "\r\n",
        "で検索\r\n",
        "\r\n",
        "というのが高階関数ってベクトルに作用させるのだよね。\r\n",
        "\r\n",
        "とか\r\n",
        "\r\n"
      ]
    }
  ]
}