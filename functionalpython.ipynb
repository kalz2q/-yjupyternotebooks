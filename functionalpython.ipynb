{
  "nbformat": 4,
  "nbformat_minor": 0,
  "metadata": {
    "colab": {
      "name": "functionalpython.ipynb",
      "provenance": [],
      "toc_visible": true,
      "authorship_tag": "ABX9TyOz59PdxsLldAVdl/lK7Xw2",
      "include_colab_link": true
    },
    "kernelspec": {
      "name": "python3",
      "display_name": "Python 3"
    }
  },
  "cells": [
    {
      "cell_type": "markdown",
      "metadata": {
        "id": "view-in-github",
        "colab_type": "text"
      },
      "source": [
        "<a href=\"https://colab.research.google.com/github/kalz2q/mycolabnotebooks/blob/master/functionalpython.ipynb\" target=\"_parent\"><img src=\"https://colab.research.google.com/assets/colab-badge.svg\" alt=\"Open In Colab\"/></a>"
      ]
    },
    {
      "cell_type": "markdown",
      "metadata": {
        "id": "q2VOU_NmBs9A"
      },
      "source": [
        "# メモ\r\n",
        "関数型Python という考え方\r\n",
        "1. reduce, map, filter を使う。  \r\n",
        "高階関数の使い方！Pythonでreduceを使う方法【初心者向け】\r\n",
        "1. とか。\r\n"
      ]
    },
    {
      "cell_type": "markdown",
      "metadata": {
        "id": "ZApaIbdsDsbQ"
      },
      "source": [
        "# reduce"
      ]
    },
    {
      "cell_type": "code",
      "metadata": {
        "id": "ejLW8duEBp8d",
        "colab": {
          "base_uri": "https://localhost:8080/"
        },
        "outputId": "0b80dfdb-1355-436e-a90f-42ab714258b8"
      },
      "source": [
        "# reduce は functools にある\r\n",
        "from functools import reduce\r\n",
        "array = [20, 1, 2, 3, 4, 5]\r\n",
        "\r\n",
        "print(reduce(lambda x, y: x+y, array))\r\n",
        "\r\n",
        "from operator import add\r\n",
        "from operator import sub\r\n",
        "from operator import mul\r\n",
        "\r\n",
        "print(reduce(add, array)) # 35\r\n",
        "print(reduce(sub, array)) # 5\r\n",
        "print(reduce(mul, array)) # 2400"
      ],
      "execution_count": null,
      "outputs": [
        {
          "output_type": "stream",
          "text": [
            "35\n",
            "35\n",
            "5\n",
            "2400\n"
          ],
          "name": "stdout"
        }
      ]
    },
    {
      "cell_type": "code",
      "metadata": {
        "id": "CPai0-AzYwCg",
        "colab": {
          "base_uri": "https://localhost:8080/"
        },
        "outputId": "72c8c0fa-b3ae-4dc5-959d-4dd899cdc5bf"
      },
      "source": [
        "from functools import reduce\r\n",
        "numbers = [-8, 5, -1, 4, -9, 2]\r\n",
        "print(reduce(lambda x, y: x +y, numbers)) # -7"
      ],
      "execution_count": null,
      "outputs": [
        {
          "output_type": "stream",
          "text": [
            "-7\n"
          ],
          "name": "stdout"
        }
      ]
    },
    {
      "cell_type": "code",
      "metadata": {
        "id": "TbGBFPVgZice",
        "colab": {
          "base_uri": "https://localhost:8080/"
        },
        "outputId": "6371c254-8152-47d4-c1ea-6ca5d60da255"
      },
      "source": [
        "# map とかは built-in 関数\r\n",
        "numbers = [-8, 5, -1, 4, -9, 2]\r\n",
        "\r\n",
        "print(list(map(abs, numbers))) #[8, 5, 1, 4, 9, 2]"
      ],
      "execution_count": null,
      "outputs": [
        {
          "output_type": "stream",
          "text": [
            "[8, 5, 1, 4, 9, 2]\n"
          ],
          "name": "stdout"
        }
      ]
    },
    {
      "cell_type": "code",
      "metadata": {
        "id": "wW4ieJVhZruG",
        "colab": {
          "base_uri": "https://localhost:8080/"
        },
        "outputId": "4dce0765-40f0-4bb3-da44-ea52d5c77ac5"
      },
      "source": [
        "# map の結果は map object\r\n",
        "numbers = [-8, 5, -1, 4, -9, 2]\r\n",
        "\r\n",
        "print(map(abs, numbers)) #[8, 5, 1, 4, 9, 2]"
      ],
      "execution_count": null,
      "outputs": [
        {
          "output_type": "stream",
          "text": [
            "<map object at 0x7f76d47a62b0>\n"
          ],
          "name": "stdout"
        }
      ]
    },
    {
      "cell_type": "code",
      "metadata": {
        "id": "oPLNybneZ3U6",
        "colab": {
          "base_uri": "https://localhost:8080/"
        },
        "outputId": "0c383e9e-4663-4810-fccf-819871f71d53"
      },
      "source": [
        "# filter\r\n",
        "numbers = [-8, 5, -1, 4, -9, 2]\r\n",
        "\r\n",
        "print(list(filter(lambda x: abs(x) > 3, numbers))) #[-8, 5, 4, -9]"
      ],
      "execution_count": null,
      "outputs": [
        {
          "output_type": "stream",
          "text": [
            "[-8, 5, 4, -9]\n"
          ],
          "name": "stdout"
        }
      ]
    },
    {
      "cell_type": "code",
      "metadata": {
        "id": "Qz1ghX8DaZlj",
        "outputId": "ddac4ca8-c8b6-486e-a2ec-02b6cfff1b2c",
        "colab": {
          "base_uri": "https://localhost:8080/"
        }
      },
      "source": [
        "# 実験 ndarrayにreduceが使えるか\r\n",
        "from functools import reduce\r\n",
        "import numpy as np\r\n",
        "print(reduce(lambda x,y: x+y, np.arange(10)))"
      ],
      "execution_count": 2,
      "outputs": [
        {
          "output_type": "stream",
          "text": [
            "45\n"
          ],
          "name": "stdout"
        }
      ]
    },
    {
      "cell_type": "code",
      "metadata": {
        "id": "YWGsILuulL1j",
        "outputId": "3751c6e6-c7df-48ff-9e70-eea4b23a51f2",
        "colab": {
          "base_uri": "https://localhost:8080/"
        }
      },
      "source": [
        "# np.arange は ndarray で range は range クラス\r\n",
        "# ndarray を使う\r\n",
        "import numpy as np\r\n",
        "print(type(np.arange(10)))\r\n",
        "print(type(range(10)))"
      ],
      "execution_count": 6,
      "outputs": [
        {
          "output_type": "stream",
          "text": [
            "<class 'numpy.ndarray'>\n",
            "<class 'range'>\n"
          ],
          "name": "stdout"
        }
      ]
    },
    {
      "cell_type": "code",
      "metadata": {
        "id": "VCORLzN58X1D",
        "outputId": "fd95a4e4-f298-461e-9a3b-40e49b4d0445",
        "colab": {
          "base_uri": "https://localhost:8080/"
        }
      },
      "source": [
        "# ndarray について\r\n",
        "import numpy as np\r\n",
        "a = np.array([1,2,3])\r\n",
        "a02 = np.arange(1,4)\r\n",
        "print(type(a))\r\n",
        "print(a == a02)\r\n",
        "b = np.array([[1,2,3], [4,5,6]])\r\n",
        "print(a)\r\n",
        "print(b)\r\n",
        "print(a.T)\r\n",
        "print(b.T)\r\n",
        "print(a.data)\r\n",
        "print(a.dtype)"
      ],
      "execution_count": 37,
      "outputs": [
        {
          "output_type": "stream",
          "text": [
            "<class 'numpy.ndarray'>\n",
            "[ True  True  True]\n",
            "[1 2 3]\n",
            "[[1 2 3]\n",
            " [4 5 6]]\n",
            "[1 2 3]\n",
            "[[1 4]\n",
            " [2 5]\n",
            " [3 6]]\n",
            "<memory at 0x7f1bb69bef48>\n",
            "int64\n"
          ],
          "name": "stdout"
        }
      ]
    },
    {
      "cell_type": "code",
      "metadata": {
        "id": "quwuVGGV8aZx",
        "outputId": "6aff41f1-485b-487b-eba7-60a9cae7af94",
        "colab": {
          "base_uri": "https://localhost:8080/"
        }
      },
      "source": [
        "# flatten\r\n",
        "import numpy as np\r\n",
        "b = np.array([[1,2,3], [4,5,6]])\r\n",
        "print(b.flatten())\r\n",
        "print(b.flat[3])"
      ],
      "execution_count": 41,
      "outputs": [
        {
          "output_type": "stream",
          "text": [
            "[1 2 3 4 5 6]\n",
            "4\n"
          ],
          "name": "stdout"
        }
      ]
    },
    {
      "cell_type": "code",
      "metadata": {
        "id": "ePfWh3suBSso",
        "outputId": "85e731f5-0e68-4264-de4e-2709f142ad38",
        "colab": {
          "base_uri": "https://localhost:8080/"
        }
      },
      "source": [
        "# real, imag\r\n",
        "c = np.array([1.-2.6j, 2.1+3.J, 4.-3.2j])\r\n",
        "print(c.real)\r\n",
        "print(c.imag)"
      ],
      "execution_count": 43,
      "outputs": [
        {
          "output_type": "stream",
          "text": [
            "[1.  2.1 4. ]\n",
            "[-2.6  3.  -3.2]\n"
          ],
          "name": "stdout"
        }
      ]
    },
    {
      "cell_type": "markdown",
      "metadata": {
        "id": "KsyffhixYb0-"
      },
      "source": [
        "# いまここ\r\n",
        "\r\n",
        "reduce python qiita\r\n",
        "で検索\r\n",
        "https://www.google.com/search?q=reduce+python+qiita&oq=reduce+python+qiita&aqs=chrome..69i57j0i333l2.5334j1j4&sourceid=chrome&ie=UTF-8\r\n",
        "\r\n",
        "\r\n",
        "\r\n",
        "\r\n"
      ]
    }
  ]
}