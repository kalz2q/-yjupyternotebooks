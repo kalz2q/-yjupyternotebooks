{
  "nbformat": 4,
  "nbformat_minor": 0,
  "metadata": {
    "colab": {
      "name": "chartmatha01probability1.ipynb",
      "provenance": [],
      "toc_visible": true,
      "authorship_tag": "ABX9TyOqqyZmbL5L7B9mUH7cU5Lz",
      "include_colab_link": true
    },
    "kernelspec": {
      "name": "python3",
      "display_name": "Python 3"
    }
  },
  "cells": [
    {
      "cell_type": "markdown",
      "metadata": {
        "id": "view-in-github",
        "colab_type": "text"
      },
      "source": [
        "<a href=\"https://colab.research.google.com/github/kalz2q/mycolabnotebooks/blob/master/chartmatha01probability1.ipynb\" target=\"_parent\"><img src=\"https://colab.research.google.com/assets/colab-badge.svg\" alt=\"Open In Colab\"/></a>"
      ]
    },
    {
      "cell_type": "markdown",
      "metadata": {
        "id": "GsRxjb7ky1Rb"
      },
      "source": [
        "# 数学 A 1.場合の数と確率\n",
        "\n"
      ]
    },
    {
      "cell_type": "code",
      "source": [
        "# a \\in A の意味は a は集合 A の要素である\n",
        "# a \\not \\in A の意味は a は集合 A の要素ではない\n",
        "# A \\subset B の意味は A は B の部分集合である\n",
        "# x \\in A ならば x \\in B が成り立つ\n",
        "# A = B A と B の要素が全く一致する時 A \\subset B かつ B \\subset A が成り立つ"
      ],
      "metadata": {
        "id": "xoZ_k9cHzaOg"
      },
      "execution_count": null,
      "outputs": []
    },
    {
      "cell_type": "code",
      "source": [
        "%%latex\n",
        "a \\in A \\\\\n",
        "a \\not\\in A \\\\\n",
        "A \\subset B \\\\\n",
        "x \\in A \\Rightarrow x \\in B \\\\\n",
        "A = B \\Rightarrow A \\subset B \\land B \\subset A"
      ],
      "metadata": {
        "colab": {
          "base_uri": "https://localhost:8080/",
          "height": 125
        },
        "id": "SugLv8fQGxvG",
        "outputId": "a5a95dc3-fa0f-41b5-dd92-68b783e19a3b"
      },
      "execution_count": null,
      "outputs": [
        {
          "output_type": "display_data",
          "data": {
            "text/plain": [
              "<IPython.core.display.Latex object>"
            ],
            "text/latex": "a \\in A \\\\\na \\not\\in A \\\\\nA \\subset B \\\\\nx \\in A \\Rightarrow x \\in B \\\\\nA = B \\Rightarrow A \\subset B \\land B \\subset A"
          },
          "metadata": {}
        }
      ]
    },
    {
      "cell_type": "code",
      "source": [
        "# 集合を構成しているものを、その集合の要素または元という\n",
        "# a \\in A のとき、a は集合 A に属するという\n",
        "# 集合 A の a については必ず a \\in A, a \\not \\in A のどちらか一方が成り立つ\n",
        "# A \\subset B (A は B の部分集合) のとき、A は B に含まれる、または B は A を含む、という\n",
        "# A 自身も A の部分集合である。 すなわち、A \\subset A である"
      ],
      "metadata": {
        "id": "lxdqNwKn1Jg_"
      },
      "execution_count": null,
      "outputs": []
    },
    {
      "cell_type": "code",
      "source": [
        "# 集合の表現\n",
        "# 1から 9までの奇数全体の集合を A とする７と、A には次のような表し方がある。\n",
        "# 列挙する A = {1,3,5,7,9}\n",
        "# A = \\{expression|condition\\}$ の形 <= 内包表記 list comprehension\n",
        "# A = \\{x|1 \\leq x \\leq 9, x は奇数\\}\n",
        "# A = \\{2n-1|1 \\leq n \\leq 5, n は整数 \\}\n",
        "# 100以下の正の奇数全体の集合 \\quad \\{1,3,5,\\cdots \\cdots, 99\\}\n",
        "# 正の偶数全体の集合 \\{2,4,6,\\cdots \\cdots\\}$"
      ],
      "metadata": {
        "id": "VGRc2HQl23RH"
      },
      "execution_count": null,
      "outputs": []
    },
    {
      "cell_type": "code",
      "source": [
        "%%latex\n",
        "A = {1,3,5,7,9} \\\\\n",
        "A = \\{expression|condition\\} \\\\\n",
        "A = \\{x|1 \\leq x \\leq 9, x は奇数\\} \\\\\n",
        "A = \\{2n-1|1 \\leq n \\leq 5, n は整数 \\} \\\\\n",
        "\\{1,3,5,\\cdots \\cdots, 99\\} \\\\\n",
        "\\{2,4,6,\\cdots \\cdots\\}"
      ],
      "metadata": {
        "colab": {
          "base_uri": "https://localhost:8080/",
          "height": 144
        },
        "id": "jylLBLgILX_z",
        "outputId": "edd507e9-53ad-4c77-c096-44757eb8b308"
      },
      "execution_count": null,
      "outputs": [
        {
          "output_type": "display_data",
          "data": {
            "text/plain": [
              "<IPython.core.display.Latex object>"
            ],
            "text/latex": "A = {1,3,5,7,9} \\\\\nA = \\{expression|condition\\} \\\\\nA = \\{x|1 \\leq x \\leq 9, x は奇数\\} \\\\\nA = \\{2n-1|1 \\leq n \\leq 5, n は整数 \\} \\\\\n\\{1,3,5,\\cdots \\cdots, 99\\} \\\\\n\\{2,4,6,\\cdots \\cdots\\}"
          },
          "metadata": {}
        }
      ]
    },
    {
      "cell_type": "code",
      "source": [
        "# 共通部分 A \\cap B A と B のどちらにも属する要素全体の集合\n",
        "# 和集合 A \\cup B A と B の少なくとも一方に属する要素全体の集合"
      ],
      "metadata": {
        "id": "gAWGxEqF5EQb"
      },
      "execution_count": null,
      "outputs": []
    },
    {
      "cell_type": "code",
      "source": [
        "%%latex\n",
        "A \\cap B \\\\\n",
        "A \\cup B "
      ],
      "metadata": {
        "colab": {
          "base_uri": "https://localhost:8080/",
          "height": 60
        },
        "id": "C0lM0iLLldiP",
        "outputId": "0a9e67dc-cf21-4906-ab25-45196681adca"
      },
      "execution_count": null,
      "outputs": [
        {
          "output_type": "display_data",
          "data": {
            "text/plain": [
              "<IPython.core.display.Latex object>"
            ],
            "text/latex": "A \\cap B \\\\\nA \\cup B "
          },
          "metadata": {}
        }
      ]
    },
    {
      "cell_type": "code",
      "source": [
        "# 3 つの集合の共通部分 A \\cap B \\cap C A と B と C のどれにも属する要素全体の集合\n",
        "# 3 つの集合の和集合 A \\cup B \\cup C A と B と C の少なくとも 1つに属する要素全体の集合"
      ],
      "metadata": {
        "id": "LtcPDpUxlCP6"
      },
      "execution_count": null,
      "outputs": []
    },
    {
      "cell_type": "code",
      "source": [
        "%%latex \n",
        "A \\cap B \\cap C \\\\\n",
        "A \\cup B \\cup C"
      ],
      "metadata": {
        "colab": {
          "base_uri": "https://localhost:8080/",
          "height": 60
        },
        "id": "1JTxffUhmIZ3",
        "outputId": "625d4766-bdc4-4a21-cf17-ff5bb1e9093c"
      },
      "execution_count": null,
      "outputs": [
        {
          "output_type": "display_data",
          "data": {
            "text/plain": [
              "<IPython.core.display.Latex object>"
            ],
            "text/latex": "A \\cap B \\cap C \\\\\nA \\cup B \\cup C"
          },
          "metadata": {}
        }
      ]
    },
    {
      "cell_type": "code",
      "source": [
        "# 空集合 \\emptyset, \\varnothing, \\phi latex ではそれぞれ \\emptyset, \\varnothing, \\phi \n",
        "# 要素を 1つも持たない集合 \n",
        "# 空集合はすべて集合の部分集合\n",
        "# 補集合 \\overline A 全体集合 U の要素で、A に属さない要素全体の集合"
      ],
      "metadata": {
        "id": "D9dv3yQ2lwXS"
      },
      "execution_count": null,
      "outputs": []
    },
    {
      "cell_type": "code",
      "source": [
        "%%latex\n",
        "\\emptyset, \\varnothing, \\phi \\\\\n",
        "\\overline A"
      ],
      "metadata": {
        "colab": {
          "base_uri": "https://localhost:8080/",
          "height": 59
        },
        "id": "wAS24jrYmtrv",
        "outputId": "d89024b4-7572-4ea3-b9d2-2b61c3abdcd9"
      },
      "execution_count": null,
      "outputs": [
        {
          "output_type": "display_data",
          "data": {
            "text/plain": [
              "<IPython.core.display.Latex object>"
            ],
            "text/latex": "\\emptyset, \\varnothing, \\phi \\\\\n\\overline A"
          },
          "metadata": {}
        }
      ]
    },
    {
      "cell_type": "code",
      "source": [
        "# ド・モルガンの法則\n",
        "# \\overline {A \\cup B} = \\overline A \\cap \\overline B\n",
        "# \\overline {A \\cap B} = \\overline A \\cup \\overline B"
      ],
      "metadata": {
        "id": "7_3BIDK0mYpb"
      },
      "execution_count": null,
      "outputs": []
    },
    {
      "cell_type": "code",
      "source": [
        "%%latex\n",
        "\\overline {A \\cup B} = \\overline A \\cap \\overline B \\\\\n",
        "\\overline {A \\cap B} = \\overline A \\cup \\overline B"
      ],
      "metadata": {
        "colab": {
          "base_uri": "https://localhost:8080/",
          "height": 58
        },
        "id": "2QA4vpmNnJu8",
        "outputId": "b12485be-51d4-439c-90ed-9675eabc12f7"
      },
      "execution_count": null,
      "outputs": [
        {
          "output_type": "display_data",
          "data": {
            "text/plain": [
              "<IPython.core.display.Latex object>"
            ],
            "text/latex": "\\overline {A \\cup B} = \\overline A \\cap \\overline B \\\\\n\\overline {A \\cap B} = \\overline A \\cup \\overline B"
          },
          "metadata": {}
        }
      ]
    },
    {
      "cell_type": "markdown",
      "source": [
        "# いまここ"
      ],
      "metadata": {
        "id": "PwN1Ib-mMfyM"
      }
    },
    {
      "cell_type": "code",
      "source": [
        "from matplotlib_venn import venn2\n",
        "import matplotlib.pyplot as plt\n",
        "from sympy import *\n",
        "# A = FiniteSet(1, 2)\n",
        "# B = FiniteSet(2, 3, 4)\n",
        "A = set({1, 2})\n",
        "B = set({2, 3, 4})\n",
        "help(diagram.get_patch_by_id(\"10\").set_color())"
      ],
      "metadata": {
        "id": "xcacu38-5Ys1",
        "outputId": "6487ac84-5ced-40f0-c5d3-66d527782494",
        "colab": {
          "base_uri": "https://localhost:8080/",
          "height": 211
        }
      },
      "execution_count": 84,
      "outputs": [
        {
          "output_type": "error",
          "ename": "TypeError",
          "evalue": "ignored",
          "traceback": [
            "\u001b[0;31m---------------------------------------------------------------------------\u001b[0m",
            "\u001b[0;31mTypeError\u001b[0m                                 Traceback (most recent call last)",
            "\u001b[0;32m<ipython-input-84-7d9d182b9bca>\u001b[0m in \u001b[0;36m<module>\u001b[0;34m()\u001b[0m\n\u001b[1;32m      6\u001b[0m \u001b[0mA\u001b[0m \u001b[0;34m=\u001b[0m \u001b[0mset\u001b[0m\u001b[0;34m(\u001b[0m\u001b[0;34m{\u001b[0m\u001b[0;36m1\u001b[0m\u001b[0;34m,\u001b[0m \u001b[0;36m2\u001b[0m\u001b[0;34m}\u001b[0m\u001b[0;34m)\u001b[0m\u001b[0;34m\u001b[0m\u001b[0;34m\u001b[0m\u001b[0m\n\u001b[1;32m      7\u001b[0m \u001b[0mB\u001b[0m \u001b[0;34m=\u001b[0m \u001b[0mset\u001b[0m\u001b[0;34m(\u001b[0m\u001b[0;34m{\u001b[0m\u001b[0;36m2\u001b[0m\u001b[0;34m,\u001b[0m \u001b[0;36m3\u001b[0m\u001b[0;34m,\u001b[0m \u001b[0;36m4\u001b[0m\u001b[0;34m}\u001b[0m\u001b[0;34m)\u001b[0m\u001b[0;34m\u001b[0m\u001b[0;34m\u001b[0m\u001b[0m\n\u001b[0;32m----> 8\u001b[0;31m \u001b[0mhelp\u001b[0m\u001b[0;34m(\u001b[0m\u001b[0mdiagram\u001b[0m\u001b[0;34m.\u001b[0m\u001b[0mget_patch_by_id\u001b[0m\u001b[0;34m(\u001b[0m\u001b[0;34m\"10\"\u001b[0m\u001b[0;34m)\u001b[0m\u001b[0;34m.\u001b[0m\u001b[0mset_color\u001b[0m\u001b[0;34m(\u001b[0m\u001b[0;34m)\u001b[0m\u001b[0;34m)\u001b[0m\u001b[0;34m\u001b[0m\u001b[0;34m\u001b[0m\u001b[0m\n\u001b[0m",
            "\u001b[0;31mTypeError\u001b[0m: set_color() missing 1 required positional argument: 'c'"
          ]
        }
      ]
    },
    {
      "cell_type": "code",
      "metadata": {
        "id": "RPptTcW8_VgB",
        "colab": {
          "base_uri": "https://localhost:8080/",
          "height": 251
        },
        "outputId": "dcd329fb-83bd-4ad1-adbe-49420b4a3db4"
      },
      "source": [
        "# ベン図 venn diagram\n",
        "from matplotlib_venn import venn2\n",
        "import matplotlib.pyplot as plt\n",
        "from sympy import *\n",
        "# A = FiniteSet(1, 2)\n",
        "# B = FiniteSet(2, 3, 4)\n",
        "A = set({1, 2})\n",
        "B = set({2, 3, 4})\n",
        "diagram = venn2([A,B])\n",
        "diagram.get_label_by_id(\"10\").set_text(\"\")\n",
        "diagram.get_patch_by_id(\"10\").set_color('skyblue')\n",
        "diagram.get_patch_by_id(\"10\").set_color('skyblue')\n",
        "# venn2(subsets=(A,B))\n",
        "plt.show()"
      ],
      "execution_count": 74,
      "outputs": [
        {
          "output_type": "display_data",
          "data": {
            "text/plain": [
              "<Figure size 432x288 with 1 Axes>"
            ],
            "image/png": "[encoded data removed]"
          },
          "metadata": {}
        }
      ]
    },
    {
      "cell_type": "code",
      "source": [
        "from matplotlib_venn import venn2\n",
        "import matplotlib.pyplot as plt\n",
        "from sympy import *\n",
        "plt.show()\n",
        "print()\n",
        "venn2(subsets=(15,10,5), set_labels=('X','Y'))\n",
        "plt.show()"
      ],
      "metadata": {
        "colab": {
          "base_uri": "https://localhost:8080/",
          "height": 268
        },
        "id": "9CwsGxt8n4Zr",
        "outputId": "9225885b-6c3a-4399-cd96-431a4914e54d"
      },
      "execution_count": null,
      "outputs": [
        {
          "output_type": "stream",
          "name": "stdout",
          "text": [
            "\n"
          ]
        },
        {
          "output_type": "display_data",
          "data": {
            "text/plain": [
              "<Figure size 432x288 with 1 Axes>"
            ],
            "image/png": "[encoded data removed]"
          },
          "metadata": {}
        }
      ]
    },
    {
      "cell_type": "code",
      "source": [
        "from matplotlib_venn import venn2\n",
        "import matplotlib.pyplot as plt\n",
        "from sympy import *\n",
        "plt.show()\n",
        "print()\n",
        "venn2(subsets=(1,1,1), set_labels=('X','Y'))\n",
        "plt.show()"
      ],
      "metadata": {
        "colab": {
          "base_uri": "https://localhost:8080/",
          "height": 269
        },
        "id": "gRVprXPIroPU",
        "outputId": "dc03b362-d151-403b-b653-f8ffaecbf2d3"
      },
      "execution_count": null,
      "outputs": [
        {
          "output_type": "stream",
          "name": "stdout",
          "text": [
            "\n"
          ]
        },
        {
          "output_type": "display_data",
          "data": {
            "text/plain": [
              "<Figure size 432x288 with 1 Axes>"
            ],
            "image/png": "[encoded data removed]"
          },
          "metadata": {}
        }
      ]
    },
    {
      "cell_type": "code",
      "metadata": {
        "id": "KIt3sAVaVWlb",
        "colab": {
          "base_uri": "https://localhost:8080/",
          "height": 253
        },
        "outputId": "93f88ab4-39ff-424b-aa08-5a444c3fe11e"
      },
      "source": [
        "# ベン図 venn diagram\n",
        "from matplotlib_venn import venn3\n",
        "import matplotlib.pyplot as plt\n",
        "venn3(subsets=(1,2,3,4,5,6,7), set_labels=('X','Y','Z'))\n",
        "plt.show()"
      ],
      "execution_count": null,
      "outputs": [
        {
          "output_type": "display_data",
          "data": {
            "image/png": "[encoded data removed]",
            "text/plain": [
              "<Figure size 432x288 with 1 Axes>"
            ]
          },
          "metadata": {
            "tags": []
          }
        }
      ]
    },
    {
      "cell_type": "code",
      "source": [
        "# ベン図 venn diagram\n",
        "import matplotlib.pyplot as plt\n",
        "from matplotlib_venn import venn2_unweighted\n",
        "# A = FiniteSet(\"apple\",\"peach\",\"grape\")\n",
        "# B = FiniteSet(\"banana\", \"apple\")\n",
        "A = set(\"Do you like green eggs and ham?\".replace(\"?\", \"\").lower().split())\n",
        "B = set(\"I do not like green eggs and ham\".lower().split())\n",
        "\n",
        "# Create and instance of a venn diagram with 2 areas\n",
        "diagram = venn2_unweighted([A, B], (\"Set A\", \"Set B\"))\n",
        "\n",
        "# Set text content of areas\n",
        "diagram.get_label_by_id(\"10\").set_text(\"\")\n",
        "# diagram.get_label_by_id(\"10\").set_text(\"\\n\".join(A - B))\n",
        "# diagram.get_label_by_id(\"11\").set_text(\"\\n\".join(A & B))\n",
        "# diagram.get_label_by_id(\"01\").set_text(\"\\n\".join(B - A))\n",
        "\n",
        "# Modify font sizes\n",
        "# for text in diagram.set_labels:\n",
        "#     text.set_fontsize(24)\n",
        "for text in diagram.subset_labels:\n",
        "    text.set_fontsize(20)\n",
        "\n",
        "plt.gcf().canvas.set_window_title('Fun With Venn Diagrams')  # Set window title\n",
        "plt.show()"
      ],
      "metadata": {
        "colab": {
          "base_uri": "https://localhost:8080/",
          "height": 251
        },
        "id": "IOMByQFKthCj",
        "outputId": "c28542db-f4a8-4ef7-f2e2-e66008d7bbc3"
      },
      "execution_count": null,
      "outputs": [
        {
          "output_type": "display_data",
          "data": {
            "text/plain": [
              "<Figure size 432x288 with 1 Axes>"
            ],
            "image/png": "[encoded data removed]"
          },
          "metadata": {}
        }
      ]
    },
    {
      "cell_type": "code",
      "source": [
        "A = set(\"Do you like green eggs and ham?\".replace(\"?\", \"\").lower().split())\n",
        "B = set(\"I do not like green eggs and ham\".lower().split())\n",
        "C = FiniteSet(\"apple\",\"peach\",\"grape\")\n",
        "D = FiniteSet(\"banana\", \"apple\")\n",
        "print (A)\n",
        "print (set(C))\n",
        "print (set([1,2,3,3]))\n",
        "print ({1,2,3,3})"
      ],
      "metadata": {
        "id": "9Oaf4e3V0PKt",
        "outputId": "d1aa429a-57a4-4832-deb8-e7d2d43a62b7",
        "colab": {
          "base_uri": "https://localhost:8080/"
        }
      },
      "execution_count": null,
      "outputs": [
        {
          "output_type": "stream",
          "name": "stdout",
          "text": [
            "{'like', 'ham', 'do', 'and', 'you', 'green', 'eggs'}\n",
            "{grape, apple, peach}\n",
            "{1, 2, 3}\n",
            "{1, 2, 3}\n"
          ]
        }
      ]
    },
    {
      "cell_type": "markdown",
      "metadata": {
        "id": "nahvyXeJWjsf"
      },
      "source": [
        "全体集合 $\\quad U$\n",
        "\n",
        "チャート式の空集合は $\\varnothing$ `\\varnothing` で数学書としてはめずらしくないか????\n",
        "\n",
        "次が成り立つ。\n",
        "\n",
        "$\\overline \\varnothing = U,\\;\\; \\overline U = \\varnothing ,\\;\\; \\overline {\\overline A} = A$\n",
        "\n",
        "$A \\cap \\overline A = \\varnothing,\\;\\; A\\cup \\overline A = U,\\;\\; A \\subset B \\Longleftrightarrow \\overline A \\supset \\overline B$\n"
      ]
    },
    {
      "cell_type": "markdown",
      "metadata": {
        "id": "-syuHB7aYhAi"
      },
      "source": [
        "基本例題 1 p.218\n",
        "\n",
        "集合 $U=\\{x\\;|\\;x$ は 1 桁の自然数$\\}$とする。\n",
        "\n",
        "集合 $U$ の部分集合 $A,B$ を $A=\\{1,2,4,6,8\\},\\;\\; B=\\{1,3,6,9\\}$ とするとき、次の集合を求める。  \n",
        "1.  $\\overline A$\n",
        "1.  $\\overline A \\cap B$\n",
        "1.  $\\overline A \\cap \\overline B$\n",
        "1.  $\\overline A \\cup \\overline B$\n",
        "\n"
      ]
    },
    {
      "cell_type": "code",
      "metadata": {
        "id": "uzsqzwLdR8bX",
        "colab": {
          "base_uri": "https://localhost:8080/"
        },
        "outputId": "a207eba7-a1cd-480b-cad4-24c95fcb3c74"
      },
      "source": [
        "U = {1,2,3,4,5,6,7,8,9}\n",
        "A = {1,2,4,6,8}\n",
        "B = {1,3,6,9}\n",
        "\n",
        "print(U.difference(A))\n",
        "print(U.difference(A).intersection(B))\n",
        "print(U.difference(A).intersection(U.difference(B)))\n",
        "print(U.difference(A).union(U.difference(B)))\n"
      ],
      "execution_count": null,
      "outputs": [
        {
          "output_type": "stream",
          "text": [
            "{9, 3, 5, 7}\n",
            "{9, 3}\n",
            "{5, 7}\n",
            "{2, 3, 4, 5, 7, 8, 9}\n"
          ],
          "name": "stdout"
        }
      ]
    },
    {
      "cell_type": "markdown",
      "metadata": {
        "id": "zFQc7jnQRLNS"
      },
      "source": [
        "基本例題 1 p.218 つづき\n",
        "\n",
        "集合 $U$ の部分集合 $A,B$ において、$\\overline A \\cap B = \\{3,9\\}, \\;\\; A \\cap \\overline B = \\{2,4,8\\},\\;\\; \\overline A \\cap \\overline B = \\{1,5,7\\}$ が成り立つとき、集合 $A,B$ を求める。"
      ]
    },
    {
      "cell_type": "code",
      "metadata": {
        "id": "wrBjJtDtUFtC",
        "colab": {
          "base_uri": "https://localhost:8080/"
        },
        "outputId": "6b9bc2b3-0d08-4e16-9df5-acc9dde3b1c7"
      },
      "source": [
        "U = {1,2,3,4,5,6,7,8,9}\n",
        "A = {2,4,6,8}\n",
        "B = {3,6,9}\n",
        "\n",
        "print(U.difference(A).intersection(B))\n",
        "print(A.intersection(U.difference(B)))\n",
        "print(U.difference(A).intersection(U.difference(B)))"
      ],
      "execution_count": null,
      "outputs": [
        {
          "output_type": "stream",
          "text": [
            "{9, 3}\n",
            "{8, 2, 4}\n",
            "{1, 5, 7}\n"
          ],
          "name": "stdout"
        }
      ]
    },
    {
      "cell_type": "markdown",
      "metadata": {
        "id": "4wKK2fcQUnRl"
      },
      "source": [
        "基本例題 2 p.219\n",
        "\n",
        "ド・モルガンの法則\n",
        "$ \\overline {A \\cap B} = \\overline A \\cup \\overline B$\n",
        "を証明する。"
      ]
    },
    {
      "cell_type": "markdown",
      "metadata": {
        "id": "TEbaaoEzVFtd"
      },
      "source": [
        "基本例題 2 p.219 つづき\n",
        "\n",
        "1 以上 100 以下の整数全体の集合を $U$ を全体集合として考える。\n",
        "\n",
        "$A=\\{x\\;|\\;\\; x$ はある整数の平方$,\\;\\;x \\in U\\}$\n",
        "\n",
        "$B=\\{x\\;|\\;\\; x$ は偶数$,\\;\\;x \\in U\\}$\n",
        "\n",
        "$C=\\{x\\;|\\;\\; x$ は 4 の倍数$,\\;\\;x \\in U\\}$\n",
        "\n",
        "とするとき $C \\subset \\overline A \\cup \\overline B$ であることを示す。\n"
      ]
    },
    {
      "cell_type": "code",
      "metadata": {
        "id": "jWK8Nnh-JIgx",
        "outputId": "edb87075-1e05-4914-92bc-38b7249c4ae5",
        "colab": {
          "base_uri": "https://localhost:8080/"
        }
      },
      "source": [
        "U = set(range(1,101))\n",
        "A = {n*n for n in range(1,11) if n*n in U}\n",
        "B = {2*n for n in range(1,51) if 2*n in U}\n",
        "C = {4*n for n in range(1,26) if 4*n in U}\n",
        "print(A)\n",
        "print(B)\n",
        "print(C)\n",
        "D = U.difference(C)\n",
        "E = U.difference(A).union(U.difference(B))\n",
        "print(D.issubset(E))"
      ],
      "execution_count": null,
      "outputs": [
        {
          "output_type": "stream",
          "text": [
            "{64, 1, 4, 36, 100, 9, 16, 49, 81, 25}\n",
            "{2, 4, 6, 8, 10, 12, 14, 16, 18, 20, 22, 24, 26, 28, 30, 32, 34, 36, 38, 40, 42, 44, 46, 48, 50, 52, 54, 56, 58, 60, 62, 64, 66, 68, 70, 72, 74, 76, 78, 80, 82, 84, 86, 88, 90, 92, 94, 96, 98, 100}\n",
            "{4, 8, 12, 16, 20, 24, 28, 32, 36, 40, 44, 48, 52, 56, 60, 64, 68, 72, 76, 80, 84, 88, 92, 96, 100}\n",
            "True\n"
          ],
          "name": "stdout"
        }
      ]
    },
    {
      "cell_type": "markdown",
      "metadata": {
        "id": "OFmuHyQGNFWq"
      },
      "source": [
        "基本例題 3 p. 220 \n",
        "\n",
        "$A= \\{n\\;|\\;\\; n$ は 16 の正の約数 $\\}$、\n",
        "\n",
        "$B= \\{n\\;|\\;\\; n$ は 20 の正の約数 $\\}$、\n",
        "\n",
        "$C=\\{n\\;|\\;\\; n$ は 8 以下の正の偶数 $\\}$、\n",
        "\n",
        "とするとき次の集合を求める。\n",
        "\n",
        "1. $A \\cap B \\cap C$\n",
        "2. $A \\cup B \\cup C$\n",
        "3. $(A \\cap B) \\cup C$\n",
        "4. $(A \\cap C) \\cup (B \\cap C)$"
      ]
    },
    {
      "cell_type": "code",
      "metadata": {
        "id": "eOhACKmJOX4S",
        "outputId": "71680da0-864e-4029-be25-ede382fb5c6a",
        "colab": {
          "base_uri": "https://localhost:8080/"
        }
      },
      "source": [
        "A = {1,2,4,8,16}\n",
        "B = {1,2,4,5,10,20}\n",
        "C = {2,4,6,8}\n",
        "print(A.intersection(B).intersection(C))\n",
        "print(A.union(B).union(C))\n",
        "print((A.intersection(B)).union(C))\n",
        "print((A.intersection(C)).union(B.intersection(C)))"
      ],
      "execution_count": null,
      "outputs": [
        {
          "output_type": "stream",
          "text": [
            "{2, 4}\n",
            "{1, 2, 4, 5, 6, 8, 10, 16, 20}\n",
            "{1, 2, 4, 6, 8}\n",
            "{2, 4, 8}\n"
          ],
          "name": "stdout"
        }
      ]
    },
    {
      "cell_type": "markdown",
      "metadata": {
        "id": "rXIR2XLzPYgf"
      },
      "source": [
        "# 集合の要素の個数"
      ]
    },
    {
      "cell_type": "markdown",
      "metadata": {
        "id": "9SCi4Wz2QFs6"
      },
      "source": [
        "**個数定理**\n",
        "\n"
      ]
    },
    {
      "cell_type": "markdown",
      "metadata": {
        "id": "Xc3FHDG0_dHT"
      },
      "source": [
        "# いまここ p.221"
      ]
    }
  ]
}