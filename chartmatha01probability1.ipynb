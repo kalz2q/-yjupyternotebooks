{
  "nbformat": 4,
  "nbformat_minor": 0,
  "metadata": {
    "colab": {
      "name": "chartmatha01probability1.ipynb",
      "provenance": [],
      "toc_visible": true,
      "authorship_tag": "ABX9TyPTwVktzzkYNkLEOJMeb1ik",
      "include_colab_link": true
    },
    "kernelspec": {
      "name": "python3",
      "display_name": "Python 3"
    }
  },
  "cells": [
    {
      "cell_type": "markdown",
      "metadata": {
        "id": "view-in-github",
        "colab_type": "text"
      },
      "source": [
        "<a href=\"https://colab.research.google.com/github/kalz2q/mycolabnotebooks/blob/master/chartmatha01probability1.ipynb\" target=\"_parent\"><img src=\"https://colab.research.google.com/assets/colab-badge.svg\" alt=\"Open In Colab\"/></a>"
      ]
    },
    {
      "cell_type": "markdown",
      "metadata": {
        "id": "GsRxjb7ky1Rb"
      },
      "source": [
        "# 数学 A 1.場合の数と確率\n",
        "\n"
      ]
    },
    {
      "cell_type": "code",
      "source": [
        "# a \\in A の意味は a は集合 A の要素である\n",
        "# a \\not \\in A の意味は a は集合 A の要素ではない\n",
        "# A \\subset B の意味は A は B の部分集合である\n",
        "# x \\in A ならば x \\in B が成り立つ\n",
        "# A = B A と B の要素が全く一致する時 A \\subset B かつ B \\subset A が成り立つ"
      ],
      "metadata": {
        "id": "xoZ_k9cHzaOg"
      },
      "execution_count": null,
      "outputs": []
    },
    {
      "cell_type": "code",
      "source": [
        "%%latex\n",
        "a \\in A \\\\\n",
        "a \\not\\in A \\\\\n",
        "A \\subset B \\\\\n",
        "\\quad\\Longrightarrow\\quad (x \\in A \\quad\\Longrightarrow\\quad x \\in B) \\\\\n",
        "A = B \\quad\\Longrightarrow\\quad A \\subset B \\land B \\subset A"
      ],
      "metadata": {
        "colab": {
          "base_uri": "https://localhost:8080/",
          "height": 127
        },
        "id": "SugLv8fQGxvG",
        "outputId": "eac187f6-135c-4227-ce99-7593ab4d5cc5"
      },
      "execution_count": 2,
      "outputs": [
        {
          "output_type": "display_data",
          "data": {
            "text/plain": [
              "<IPython.core.display.Latex object>"
            ],
            "text/latex": "a \\in A \\\\\na \\not\\in A \\\\\nA \\subset B \\\\\n\\quad\\Longrightarrow\\quad (x \\in A \\quad\\Longrightarrow\\quad x \\in B) \\\\\nA = B \\quad\\Longrightarrow\\quad A \\subset B \\land B \\subset A"
          },
          "metadata": {}
        }
      ]
    },
    {
      "cell_type": "code",
      "source": [
        "# 集合を構成しているものを、その集合の要素または元という\n",
        "# a \\in A のとき、a は集合 A に属するという\n",
        "# 集合 A の a については必ず a \\in A, a \\not \\in A のどちらか一方が成り立つ\n",
        "# A \\subset B (A は B の部分集合) のとき、A は B に含まれる、または B は A を含む、という\n",
        "# A 自身も A の部分集合である。 すなわち、A \\subset A である"
      ],
      "metadata": {
        "id": "lxdqNwKn1Jg_"
      },
      "execution_count": null,
      "outputs": []
    },
    {
      "cell_type": "code",
      "source": [
        "# 集合の表現\n",
        "# 1から 9までの奇数全体の集合を A とする７と、A には次のような表し方がある。\n",
        "# 列挙する A = {1,3,5,7,9}\n",
        "# A = \\{expression|condition\\}$ の形 <= 内包表記 list comprehension\n",
        "# A = \\{x|1 \\leq x \\leq 9, x は奇数\\}\n",
        "# A = \\{2n-1|1 \\leq n \\leq 5, n は整数 \\}\n",
        "# 100以下の正の奇数全体の集合 \\quad \\{1,3,5,\\cdots \\cdots, 99\\}\n",
        "# 正の偶数全体の集合 \\{2,4,6,\\cdots \\cdots\\}$"
      ],
      "metadata": {
        "id": "VGRc2HQl23RH"
      },
      "execution_count": null,
      "outputs": []
    },
    {
      "cell_type": "code",
      "source": [
        "%%latex\n",
        "A = {1,3,5,7,9} \\\\\n",
        "A = \\{expression|condition\\} \\\\\n",
        "A = \\{x|1 \\leq x \\leq 9, x は奇数\\} \\\\\n",
        "A = \\{2n-1|1 \\leq n \\leq 5, n は整数 \\} \\\\\n",
        "\\{1,3,5,\\cdots \\cdots, 99\\} \\\\\n",
        "\\{2,4,6,\\cdots \\cdots\\}"
      ],
      "metadata": {
        "colab": {
          "base_uri": "https://localhost:8080/",
          "height": 144
        },
        "id": "jylLBLgILX_z",
        "outputId": "edd507e9-53ad-4c77-c096-44757eb8b308"
      },
      "execution_count": null,
      "outputs": [
        {
          "output_type": "display_data",
          "data": {
            "text/plain": [
              "<IPython.core.display.Latex object>"
            ],
            "text/latex": "A = {1,3,5,7,9} \\\\\nA = \\{expression|condition\\} \\\\\nA = \\{x|1 \\leq x \\leq 9, x は奇数\\} \\\\\nA = \\{2n-1|1 \\leq n \\leq 5, n は整数 \\} \\\\\n\\{1,3,5,\\cdots \\cdots, 99\\} \\\\\n\\{2,4,6,\\cdots \\cdots\\}"
          },
          "metadata": {}
        }
      ]
    },
    {
      "cell_type": "code",
      "source": [
        "# 共通部分 A \\cap B A と B のどちらにも属する要素全体の集合\n",
        "# 和集合 A \\cup B A と B の少なくとも一方に属する要素全体の集合"
      ],
      "metadata": {
        "id": "gAWGxEqF5EQb"
      },
      "execution_count": null,
      "outputs": []
    },
    {
      "cell_type": "code",
      "source": [
        "%%latex\n",
        "A \\cap B \\\\\n",
        "A \\cup B "
      ],
      "metadata": {
        "colab": {
          "base_uri": "https://localhost:8080/",
          "height": 60
        },
        "id": "C0lM0iLLldiP",
        "outputId": "0a9e67dc-cf21-4906-ab25-45196681adca"
      },
      "execution_count": null,
      "outputs": [
        {
          "output_type": "display_data",
          "data": {
            "text/plain": [
              "<IPython.core.display.Latex object>"
            ],
            "text/latex": "A \\cap B \\\\\nA \\cup B "
          },
          "metadata": {}
        }
      ]
    },
    {
      "cell_type": "code",
      "source": [
        "# 3 つの集合の共通部分 A \\cap B \\cap C A と B と C のどれにも属する要素全体の集合\n",
        "# 3 つの集合の和集合 A \\cup B \\cup C A と B と C の少なくとも 1つに属する要素全体の集合"
      ],
      "metadata": {
        "id": "LtcPDpUxlCP6"
      },
      "execution_count": null,
      "outputs": []
    },
    {
      "cell_type": "code",
      "source": [
        "%%latex \n",
        "A \\cap B \\cap C \\\\\n",
        "A \\cup B \\cup C"
      ],
      "metadata": {
        "colab": {
          "base_uri": "https://localhost:8080/",
          "height": 60
        },
        "id": "1JTxffUhmIZ3",
        "outputId": "625d4766-bdc4-4a21-cf17-ff5bb1e9093c"
      },
      "execution_count": null,
      "outputs": [
        {
          "output_type": "display_data",
          "data": {
            "text/plain": [
              "<IPython.core.display.Latex object>"
            ],
            "text/latex": "A \\cap B \\cap C \\\\\nA \\cup B \\cup C"
          },
          "metadata": {}
        }
      ]
    },
    {
      "cell_type": "markdown",
      "source": [
        "## 空集合"
      ],
      "metadata": {
        "id": "EY-NuQBYkVII"
      }
    },
    {
      "cell_type": "code",
      "source": [
        "# 空集合 \\emptyset, \\varnothing, \\phi latex ではそれぞれ \\emptyset, \\varnothing, \\phi \n",
        "# 要素を 1つも持たない集合 \n",
        "# 空集合はすべて集合の部分集合\n",
        "# 補集合 \\overline A 全体集合 U の要素で、A に属さない要素全体の集合"
      ],
      "metadata": {
        "id": "D9dv3yQ2lwXS"
      },
      "execution_count": null,
      "outputs": []
    },
    {
      "cell_type": "code",
      "source": [
        "%%latex\n",
        "\\emptyset, \\varnothing, \\phi \\\\\n",
        "\\overline A"
      ],
      "metadata": {
        "colab": {
          "base_uri": "https://localhost:8080/",
          "height": 59
        },
        "id": "wAS24jrYmtrv",
        "outputId": "d89024b4-7572-4ea3-b9d2-2b61c3abdcd9"
      },
      "execution_count": null,
      "outputs": [
        {
          "output_type": "display_data",
          "data": {
            "text/plain": [
              "<IPython.core.display.Latex object>"
            ],
            "text/latex": "\\emptyset, \\varnothing, \\phi \\\\\n\\overline A"
          },
          "metadata": {}
        }
      ]
    },
    {
      "cell_type": "code",
      "source": [
        "# ド・モルガンの法則\n",
        "# \\overline {A \\cup B} = \\overline A \\cap \\overline B\n",
        "# \\overline {A \\cap B} = \\overline A \\cup \\overline B"
      ],
      "metadata": {
        "id": "7_3BIDK0mYpb"
      },
      "execution_count": null,
      "outputs": []
    },
    {
      "cell_type": "code",
      "source": [
        "%%latex\n",
        "\\overline {A \\cup B} = \\overline A \\cap \\overline B \\\\\n",
        "\\overline {A \\cap B} = \\overline A \\cup \\overline B"
      ],
      "metadata": {
        "colab": {
          "base_uri": "https://localhost:8080/",
          "height": 58
        },
        "id": "2QA4vpmNnJu8",
        "outputId": "b12485be-51d4-439c-90ed-9675eabc12f7"
      },
      "execution_count": null,
      "outputs": [
        {
          "output_type": "display_data",
          "data": {
            "text/plain": [
              "<IPython.core.display.Latex object>"
            ],
            "text/latex": "\\overline {A \\cup B} = \\overline A \\cap \\overline B \\\\\n\\overline {A \\cap B} = \\overline A \\cup \\overline B"
          },
          "metadata": {}
        }
      ]
    },
    {
      "cell_type": "code",
      "metadata": {
        "id": "RPptTcW8_VgB",
        "colab": {
          "base_uri": "https://localhost:8080/",
          "height": 248
        },
        "outputId": "444e64b4-7533-4dd6-c813-b5359ede4255"
      },
      "source": [
        "# ベン図 venn diagram\n",
        "from matplotlib_venn import venn2\n",
        "import matplotlib.pyplot as plt\n",
        "from sympy import *\n",
        "A = set({1, 2})\n",
        "B = set({2, 3, 4})\n",
        "diagram = venn2([A,B],(\"\",\"\"))\n",
        "diagram.get_label_by_id(\"10\").set_text(\"A\")\n",
        "diagram.get_label_by_id(\"11\").set_text(\"A ∩ B\")\n",
        "diagram.get_label_by_id(\"01\").set_text(\"B\")\n",
        "for text in diagram.subset_labels:\n",
        "    text.set_fontsize(20)\n",
        "plt.show()"
      ],
      "execution_count": null,
      "outputs": [
        {
          "output_type": "display_data",
          "data": {
            "text/plain": [
              "<Figure size 432x288 with 1 Axes>"
            ],
            "image/png": "[encoded data removed]"
          },
          "metadata": {}
        }
      ]
    },
    {
      "cell_type": "code",
      "metadata": {
        "colab": {
          "base_uri": "https://localhost:8080/",
          "height": 248
        },
        "outputId": "4d247c7d-5b6d-4c4a-80b9-c148b6019142",
        "id": "fwbhVywjiDAy"
      },
      "source": [
        "# ベン図 venn diagram\n",
        "from matplotlib_venn import venn2\n",
        "import matplotlib.pyplot as plt\n",
        "from sympy import *\n",
        "A = set({1, 2})\n",
        "B = set({2, 3, 4})\n",
        "diagram = venn2([A,B],(\"\",\"\"))\n",
        "diagram.get_label_by_id(\"10\").set_text(\"\")\n",
        "diagram.get_label_by_id(\"11\").set_text(\"A ∪ B\")\n",
        "diagram.get_label_by_id(\"01\").set_text(\"\")\n",
        "diagram.get_patch_by_id(\"10\").set_color(\"red\")\n",
        "diagram.get_patch_by_id(\"11\").set_color(\"red\")\n",
        "diagram.get_patch_by_id(\"01\").set_color(\"red\")\n",
        "for text in diagram.subset_labels: text.set_fontsize(20)\n",
        "plt.show()"
      ],
      "execution_count": null,
      "outputs": [
        {
          "output_type": "display_data",
          "data": {
            "text/plain": [
              "<Figure size 432x288 with 1 Axes>"
            ],
            "image/png": "[encoded data removed]"
          },
          "metadata": {}
        }
      ]
    },
    {
      "cell_type": "code",
      "metadata": {
        "id": "KIt3sAVaVWlb",
        "colab": {
          "base_uri": "https://localhost:8080/",
          "height": 253
        },
        "outputId": "93f88ab4-39ff-424b-aa08-5a444c3fe11e"
      },
      "source": [
        "# ベン図 venn diagram\n",
        "from matplotlib_venn import venn3\n",
        "import matplotlib.pyplot as plt\n",
        "venn3(subsets=(1,2,3,4,5,6,7), set_labels=('X','Y','Z'))\n",
        "plt.show()"
      ],
      "execution_count": null,
      "outputs": [
        {
          "output_type": "display_data",
          "data": {
            "image/png": "[encoded data removed]",
            "text/plain": [
              "<Figure size 432x288 with 1 Axes>"
            ]
          },
          "metadata": {
            "tags": []
          }
        }
      ]
    },
    {
      "cell_type": "code",
      "source": [
        "# 全体集合 U\n",
        "# 次が成り立つ\n",
        "# \\overline \\varnothing = U\n",
        "# \\overline U = \\varnothing\n",
        "# \\overline {\\overline A} = A\n",
        "# A \\cap \\overline A = \\varnothing\n",
        "# A \\cup \\overline A = U\n",
        "# A \\subset B \\Longleftrightarrow \\overline A \\supset \\overline B"
      ],
      "metadata": {
        "id": "nahvyXeJWjsf"
      },
      "execution_count": null,
      "outputs": []
    },
    {
      "cell_type": "code",
      "source": [
        "%%latex\n",
        "\\overline \\varnothing = U \\\\\n",
        "\\overline U = \\varnothing \\\\\n",
        "\\overline {\\overline A} = A \\\\\n",
        "A \\cap \\overline A = \\varnothing \\\\\n",
        "A \\cup \\overline A = U \\\\\n",
        "A \\subset B \\Longleftrightarrow \\overline A \\supset \\overline B"
      ],
      "metadata": {
        "id": "TKsbJsZ8lJ9q",
        "outputId": "8b4e563f-157e-436b-813f-fa3e85cefae1",
        "colab": {
          "base_uri": "https://localhost:8080/",
          "height": 151
        }
      },
      "execution_count": null,
      "outputs": [
        {
          "output_type": "display_data",
          "data": {
            "text/plain": [
              "<IPython.core.display.Latex object>"
            ],
            "text/latex": "\\overline \\varnothing = U \\\\\n\\overline U = \\varnothing \\\\\n\\overline {\\overline A} = A \\\\\nA \\cap \\overline A = \\varnothing \\\\\nA \\cup \\overline A = U \\\\\nA \\subset B \\Longleftrightarrow \\overline A \\supset \\overline B \\\\"
          },
          "metadata": {}
        }
      ]
    },
    {
      "cell_type": "code",
      "source": [
        "# 基本例題 1 p.218\n",
        "# 集合 U=\\{x|x は 1 桁の自然数\\}とする\n",
        "# 集合 U の部分集合 A,B を A=\\{1,2,4,6,8\\}, B=\\{1,3,6,9\\} とするとき、次の集合を求める。  \n",
        "# 1.  \\overline A\n",
        "# 1.  \\overline A \\cap B\n",
        "# 1.  \\overline A \\cap \\overline B\n",
        "# 1.  \\overline A \\cup \\overline B"
      ],
      "metadata": {
        "id": "-syuHB7aYhAi"
      },
      "execution_count": null,
      "outputs": []
    },
    {
      "cell_type": "code",
      "source": [
        "%%latex\n",
        "U=\\{x|x は 1 桁の自然数\\} \\\\\n",
        "A=\\{1,2,4,6,8\\} \\\\\n",
        "B=\\{1,3,6,9\\} \\\\\n",
        "\\overline A \\\\\n",
        "\\overline A \\cap B \\\\\n",
        "\\overline A \\cap \\overline B \\\\\n",
        "\\overline A \\cup \\overline B"
      ],
      "metadata": {
        "id": "KGCAaKi0piEP",
        "outputId": "a914ef8d-8880-420f-e0c3-dca384024af4",
        "colab": {
          "base_uri": "https://localhost:8080/",
          "height": 166
        }
      },
      "execution_count": null,
      "outputs": [
        {
          "output_type": "display_data",
          "data": {
            "text/plain": [
              "<IPython.core.display.Latex object>"
            ],
            "text/latex": "U=\\{x|x は 1 桁の自然数\\} \\\\\nA=\\{1,2,4,6,8\\} \\\\\nB=\\{1,3,6,9\\} \\\\\n\\overline A \\\\\n\\overline A \\cap B \\\\\n\\overline A \\cap \\overline B \\\\\n\\overline A \\cup \\overline B \\\\"
          },
          "metadata": {}
        }
      ]
    },
    {
      "cell_type": "code",
      "metadata": {
        "id": "uzsqzwLdR8bX",
        "colab": {
          "base_uri": "https://localhost:8080/"
        },
        "outputId": "a207eba7-a1cd-480b-cad4-24c95fcb3c74"
      },
      "source": [
        "U = {1,2,3,4,5,6,7,8,9}\n",
        "A = {1,2,4,6,8}\n",
        "B = {1,3,6,9}\n",
        "print(U.difference(A)) # \\overline A\n",
        "print(U.difference(A).intersection(B)) # \\overline A \\cap B\n",
        "print(U.difference(A).intersection(U.difference(B))) # \\overline A \\cap \\overline B \\\\\n",
        "print(U.difference(A).union(U.difference(B))) # \\overline A \\cup \\overline B"
      ],
      "execution_count": null,
      "outputs": [
        {
          "output_type": "stream",
          "text": [
            "{9, 3, 5, 7}\n",
            "{9, 3}\n",
            "{5, 7}\n",
            "{2, 3, 4, 5, 7, 8, 9}\n"
          ],
          "name": "stdout"
        }
      ]
    },
    {
      "cell_type": "code",
      "source": [
        "# 基本例題 1 p.218 つづき\n",
        "# 集合 U の部分集合 A, B において、\n",
        "# \\overline A \\cap B = \\{3, 9\\} \n",
        "# A \\cap \\overline B = \\{2, 4, 8\\}\n",
        "# \\overline A \\cap \\overline B = \\{1, 5, 7\\} \n",
        "# が成り立つとき、集合 A ,B を求める。"
      ],
      "metadata": {
        "id": "zFQc7jnQRLNS"
      },
      "execution_count": null,
      "outputs": []
    },
    {
      "cell_type": "code",
      "source": [
        "%%latex\n",
        "\\overline A \\cap B = \\{3, 9\\}  \\\\\n",
        "A \\cap \\overline B = \\{2, 4, 8\\} \\\\\n",
        "\\overline A \\cap \\overline B = \\{1, 5, 7\\}  \\\\"
      ],
      "metadata": {
        "id": "25rQ8SdarQKd",
        "outputId": "438ae170-67bb-49b9-ea62-e494542f8d26",
        "colab": {
          "base_uri": "https://localhost:8080/",
          "height": 81
        }
      },
      "execution_count": null,
      "outputs": [
        {
          "output_type": "display_data",
          "data": {
            "text/plain": [
              "<IPython.core.display.Latex object>"
            ],
            "text/latex": "\\overline A \\cap B = \\{3, 9\\}  \\\\\nA \\cap \\overline B = \\{2, 4, 8\\} \\\\\n\\overline A \\cap \\overline B = \\{1, 5, 7\\}  \\\\"
          },
          "metadata": {}
        }
      ]
    },
    {
      "cell_type": "code",
      "metadata": {
        "id": "wrBjJtDtUFtC",
        "colab": {
          "base_uri": "https://localhost:8080/"
        },
        "outputId": "6b9bc2b3-0d08-4e16-9df5-acc9dde3b1c7"
      },
      "source": [
        "U = {1,2,3,4,5,6,7,8,9}\n",
        "A = {2,4,6,8}\n",
        "B = {3,6,9}\n",
        "\n",
        "print(U.difference(A).intersection(B)) #=> {9, 3}\n",
        "print(A.intersection(U.difference(B))) #=> {8, 2, 4}\n",
        "print(U.difference(A).intersection(U.difference(B))) #=> {1, 5, 7}"
      ],
      "execution_count": null,
      "outputs": [
        {
          "output_type": "stream",
          "text": [
            "{9, 3}\n",
            "{8, 2, 4}\n",
            "{1, 5, 7}\n"
          ],
          "name": "stdout"
        }
      ]
    },
    {
      "cell_type": "code",
      "source": [
        "# 基本例題 2 p.219\n",
        "# ド・モルガンの法則\n",
        "# \\overline {A \\cap B} = \\overline A \\cup \\overline B\n",
        "# を証明する\n",
        "#=> ベン図で証明"
      ],
      "metadata": {
        "id": "4wKK2fcQUnRl"
      },
      "execution_count": null,
      "outputs": []
    },
    {
      "cell_type": "code",
      "source": [
        "%%latex\n",
        "\\overline {A \\cap B} = \\overline A \\cup \\overline B"
      ],
      "metadata": {
        "id": "wcWfM_OXsH_9",
        "outputId": "5d6d2c2c-ed4c-48b0-9f48-5780a6e760dd",
        "colab": {
          "base_uri": "https://localhost:8080/",
          "height": 37
        }
      },
      "execution_count": null,
      "outputs": [
        {
          "output_type": "display_data",
          "data": {
            "text/plain": [
              "<IPython.core.display.Latex object>"
            ],
            "text/latex": "\\overline {A \\cap B} = \\overline A \\cup \\overline B"
          },
          "metadata": {}
        }
      ]
    },
    {
      "cell_type": "code",
      "source": [
        "# 基本例題 2 (2)\n",
        "# 1 以上 100 以下の整数全体の集合を U を全体集合として考える\n",
        "# A=\\{x | x はある整数の平方, x \\in U\\}\n",
        "# B=\\{x | x は偶数, x \\in U\\}\n",
        "# C=\\{x | x は 4 の倍数, x \\in U\\}\n",
        "# とするとき C \\subset \\overline A \\cup \\overline B であることを示す"
      ],
      "metadata": {
        "id": "TEbaaoEzVFtd"
      },
      "execution_count": null,
      "outputs": []
    },
    {
      "cell_type": "code",
      "source": [
        "%%latex\n",
        "A=\\{x | x はある整数の平方, x \\in U\\} \\\\\n",
        "B=\\{x | x は偶数, x \\in U\\} \\\\\n",
        "C=\\{x | x は 4 の倍数, x \\in U\\} \\\\\n",
        "C \\subset \\overline A \\cup \\overline B \\\\"
      ],
      "metadata": {
        "id": "z72FmJpWtBlM",
        "outputId": "5eba59bb-814e-4aef-c6e6-27295165b175",
        "colab": {
          "base_uri": "https://localhost:8080/",
          "height": 105
        }
      },
      "execution_count": null,
      "outputs": [
        {
          "output_type": "display_data",
          "data": {
            "text/plain": [
              "<IPython.core.display.Latex object>"
            ],
            "text/latex": "A=\\{x | x はある整数の平方, x \\in U\\} \\\\\nB=\\{x | x は偶数, x \\in U\\} \\\\\nC=\\{x | x は 4 の倍数, x \\in U\\} \\\\\nC \\subset \\overline A \\cup \\overline B \\\\"
          },
          "metadata": {}
        }
      ]
    },
    {
      "cell_type": "code",
      "metadata": {
        "id": "jWK8Nnh-JIgx",
        "outputId": "09b6f0f2-556b-44d2-fa0b-6b505699cba7",
        "colab": {
          "base_uri": "https://localhost:8080/"
        }
      },
      "source": [
        "U = set(range(1,101))\n",
        "A = {n*n for n in range(1,11) if n*n in U}\n",
        "B = {2*n for n in range(1,51) if 2*n in U}\n",
        "C = {4*n for n in range(1,26) if 4*n in U}\n",
        "print(A)\n",
        "print(B)\n",
        "print(C)\n",
        "E = U.difference(A).union(U.difference(B))\n",
        "print(D.issubset(E))"
      ],
      "execution_count": null,
      "outputs": [
        {
          "output_type": "stream",
          "name": "stdout",
          "text": [
            "{64, 1, 4, 36, 100, 9, 16, 49, 81, 25}\n",
            "{2, 4, 6, 8, 10, 12, 14, 16, 18, 20, 22, 24, 26, 28, 30, 32, 34, 36, 38, 40, 42, 44, 46, 48, 50, 52, 54, 56, 58, 60, 62, 64, 66, 68, 70, 72, 74, 76, 78, 80, 82, 84, 86, 88, 90, 92, 94, 96, 98, 100}\n",
            "{4, 8, 12, 16, 20, 24, 28, 32, 36, 40, 44, 48, 52, 56, 60, 64, 68, 72, 76, 80, 84, 88, 92, 96, 100}\n",
            "True\n"
          ]
        }
      ]
    },
    {
      "cell_type": "code",
      "source": [
        "# 基本例題 3 p. 220 \n",
        "# A= \\{n| n は 16 の正の約数 \\}、\n",
        "# B= \\{n| n は 20 の正の約数 \\}、\n",
        "# C=\\{n| n は 8 以下の正の偶数 \\}、\n",
        "# とするとき次の集合を求める。\n",
        "# 1. A \\cap B \\cap C\n",
        "# 2. A \\cup B \\cup C\n",
        "# 3. (A \\cap B) \\cup C\n",
        "# 4. (A \\cap C) \\cup (B \\cap C)"
      ],
      "metadata": {
        "id": "OFmuHyQGNFWq"
      },
      "execution_count": null,
      "outputs": []
    },
    {
      "cell_type": "code",
      "source": [
        "%%latex\n",
        "A= \\{n| n は 16 の正の約数 \\} \\\\\n",
        "B= \\{n| n は 20 の正の約数 \\} \\\\\n",
        "C=\\{n| n は 8 以下の正の偶数 \\} \\\\\n",
        "1. A \\cap B \\cap C \\\\\n",
        "2. A \\cup B \\cup C \\\\\n",
        "3. (A \\cap B) \\cup C \\\\\n",
        "4. (A \\cap C) \\cup (B \\cap C) \\\\"
      ],
      "metadata": {
        "id": "xeUE4TUc6N2t",
        "outputId": "1862d0f3-9bea-4691-d599-e47eb6c6f076",
        "colab": {
          "base_uri": "https://localhost:8080/",
          "height": 169
        }
      },
      "execution_count": null,
      "outputs": [
        {
          "output_type": "display_data",
          "data": {
            "text/plain": [
              "<IPython.core.display.Latex object>"
            ],
            "text/latex": "A= \\{n| n は 16 の正の約数 \\} \\\\\nB= \\{n| n は 20 の正の約数 \\} \\\\\nC=\\{n| n は 8 以下の正の偶数 \\} \\\\\n1. A \\cap B \\cap C \\\\\n2. A \\cup B \\cup C \\\\\n3. (A \\cap B) \\cup C \\\\\n4. (A \\cap C) \\cup (B \\cap C) \\\\"
          },
          "metadata": {}
        }
      ]
    },
    {
      "cell_type": "code",
      "metadata": {
        "id": "eOhACKmJOX4S",
        "outputId": "71680da0-864e-4029-be25-ede382fb5c6a",
        "colab": {
          "base_uri": "https://localhost:8080/"
        }
      },
      "source": [
        "A = {1,2,4,8,16}\n",
        "B = {1,2,4,5,10,20}\n",
        "C = {2,4,6,8}\n",
        "print(A.intersection(B).intersection(C))\n",
        "print(A.union(B).union(C))\n",
        "print((A.intersection(B)).union(C))\n",
        "print((A.intersection(C)).union(B.intersection(C)))"
      ],
      "execution_count": null,
      "outputs": [
        {
          "output_type": "stream",
          "text": [
            "{2, 4}\n",
            "{1, 2, 4, 5, 6, 8, 10, 16, 20}\n",
            "{1, 2, 4, 6, 8}\n",
            "{2, 4, 8}\n"
          ],
          "name": "stdout"
        }
      ]
    },
    {
      "cell_type": "code",
      "source": [
        "# p.221 2. 集合の要素の個数\n",
        "# 個数定理\n",
        "# 有限集合 P の要素の個数を n(P) で表す\n",
        "# A, B が有限集合の時\n",
        "# 和集合の要素の個数\n",
        "# n(A \\cup B)=n(A)+n(B)-n(A\\cap B) \n",
        "# 特に A\\cap B=\\varnothing の時 n(A \\cup B)=n(A)+n(B) \n",
        "# 補集合の要素の個数\n",
        "# n(\\overline A)=n(U)-n(A)\n",
        "# U は全体集合、\\overline A は A の補集合"
      ],
      "metadata": {
        "id": "KAbMIlnI60_r"
      },
      "execution_count": null,
      "outputs": []
    },
    {
      "cell_type": "code",
      "source": [
        "%%latex\n",
        "n(A \\cup B)=n(A)+n(B)-n(A\\cap B) \\\\\n",
        "A\\cap B=\\varnothing \\Longrightarrow n(A \\cup B)=n(A)+n(B) \\\\\n",
        "n(\\overline A)=n(U)-n(A)"
      ],
      "metadata": {
        "id": "XLIgNGza7aZ0",
        "outputId": "bde6ba1e-1f98-47a0-cf0b-f58f0eb2a360",
        "colab": {
          "base_uri": "https://localhost:8080/",
          "height": 82
        }
      },
      "execution_count": null,
      "outputs": [
        {
          "output_type": "display_data",
          "data": {
            "text/plain": [
              "<IPython.core.display.Latex object>"
            ],
            "text/latex": "n(A \\cup B)=n(A)+n(B)-n(A\\cap B) \\\\\nA\\cap B=\\varnothing \\Longrightarrow n(A \\cup B)=n(A)+n(B) \\\\\nn(\\overline A)=n(U)-n(A)"
          },
          "metadata": {}
        }
      ]
    },
    {
      "cell_type": "code",
      "source": [
        "# p.229 場合の数\n",
        "# 場合の数の数え方 => 1.辞書式配列法 2.樹形図 tree\n",
        "# 和の法則\n",
        "# 2 つの事柄 A, B が同時には起こらないとする\n",
        "# A の起こり方が m 通り、B の起こり方が n 通りとすると\n",
        "# A または B のどちらかが起こる場合の数は m + n 通りである\n",
        "# 積の法則\n",
        "# 2 つの事柄 A, B があって、A の起こり方は m 通りあり、\n",
        "# その各々の場合について、B の起こり方が n 通りずつあるならば\n",
        "# A と B が共に起こる場合の数は mn 通りである。"
      ],
      "metadata": {
        "id": "KqIsExaL8oN8"
      },
      "execution_count": null,
      "outputs": []
    },
    {
      "cell_type": "code",
      "source": [
        "# p.234 順列\n",
        "# 異なる n 個のものの中から異なる r 個を取り出して 1 列に並べる順列の総数は\n",
        "# _nP_r=n(n-1)(n-2)\\cdots\\cdots(n-r+1)=\\frac{n!}{(n-r)!} <= r 個の数の積\n",
        "# 特に\n",
        "# _nP_n=n(n-1)(n-2)\\cdots\\cdots3\\cdot2\\cdot1\n",
        "# ただし\n",
        "# 0!=1\n",
        "# _nP_0=1\n",
        "# と定める"
      ],
      "metadata": {
        "id": "4ErqG4nm8oDT"
      },
      "execution_count": null,
      "outputs": []
    },
    {
      "cell_type": "code",
      "source": [
        "%%latex\n",
        "\\displaystyle\n",
        "_nP_r=n(n-1)(n-2)\\cdots\\cdots(n-r+1)=\\frac{n!}{(n-r)!} \\\\\n",
        "\\\\\n",
        "_nP_n=n(n-1)(n-2)\\cdots\\cdots3\\cdot2\\cdot1 \\\\\n",
        "\\\\\n",
        "0!=1 \\\\\n",
        "\\\\\n",
        "_nP_0=1"
      ],
      "metadata": {
        "id": "KG4rT2yb8n6b",
        "outputId": "f7080d7e-2e0f-4cd3-910f-2106a15d86f1",
        "colab": {
          "base_uri": "https://localhost:8080/",
          "height": 120
        }
      },
      "execution_count": null,
      "outputs": [
        {
          "output_type": "display_data",
          "data": {
            "text/plain": [
              "<IPython.core.display.Latex object>"
            ],
            "text/latex": "\\displaystyle\n_nP_r=n(n-1)(n-2)\\cdots\\cdots(n-r+1)=\\frac{n!}{(n-r)!} \\\\\n\\\\\n_nP_n=n(n-1)(n-2)\\cdots\\cdots3\\cdot2\\cdot1 \\\\\n\\\\\n0!=1 \\\\\n\\\\\n_nP_0=1"
          },
          "metadata": {}
        }
      ]
    },
    {
      "cell_type": "code",
      "source": [
        "# p.239 円順列・重複順列\n",
        "# 円順列\n",
        "# (n - 1)!\n",
        "# じゅず数珠順列\n",
        "# \\frac{(n - 1)!}{2}\n",
        "# 重複順列\n",
        "# n^r"
      ],
      "metadata": {
        "id": "ax_CbCQuVyza"
      },
      "execution_count": null,
      "outputs": []
    },
    {
      "cell_type": "code",
      "source": [
        "%%latex\n",
        "\\displaystyle\n",
        "(n - 1)! \\\\\n",
        "\\frac{(n - 1)!}{2} \\\\\n",
        "n^r"
      ],
      "metadata": {
        "id": "5xosFvuzB0kH",
        "outputId": "ab300162-feb7-4630-ab4e-0c71f3fcfa76",
        "colab": {
          "base_uri": "https://localhost:8080/",
          "height": 97
        }
      },
      "execution_count": null,
      "outputs": [
        {
          "output_type": "display_data",
          "data": {
            "text/plain": [
              "<IPython.core.display.Latex object>"
            ],
            "text/latex": "\\displaystyle\n(n - 1)! \\\\\n\\frac{(n - 1)!}{2} \\\\\nn^r"
          },
          "metadata": {}
        }
      ]
    },
    {
      "cell_type": "code",
      "source": [
        "# p.242 組合せ\n",
        "# 異なる n 個のものの中から異なる r 個を取る組合せの総数は\n",
        "# _nC_r=\\frac{_nP_r}{r!}=\\frac{n(n-1)(n-2)\\cdots \\cdots (n - r + 1)}{r(r-1)\\cdots\\cdots3\\cdot2\\cdot1} = \\frac{n!}{r!(n-r)!}\n",
        "# 特に _nC_n=1 ただし _nC_0=1 と定める。 \\Longleftarrow _nP_1=1 \n",
        "\n",
        "# _nC_r の性質 \n",
        "# C_r =_nC_{n-r} (0 \\leqq r \\leqq n)\n",
        "# _nC_r = _{n-1}C_r + _{n-1}C_{r-1} (1\\leqq r \\leqq n-1, n \\geqq2)"
      ],
      "metadata": {
        "id": "-Mb3c_ATB0ao"
      },
      "execution_count": null,
      "outputs": []
    },
    {
      "cell_type": "code",
      "source": [
        "%%latex\n",
        "\\displaystyle\n",
        "_nC_r=\\frac{_nP_r}{r!}=\\frac{n(n-1)(n-2)\\cdots \\cdots (n - r + 1)}{r(r-1)\\cdots\\cdots3\\cdot2\\cdot1} = \\frac{n!}{r!(n-r)!} \\\\\\\n",
        "_nC_n=1 \\\\\\\n",
        "_nC_0=1 \\Longleftarrow _nP_1=1 \\\\\\\n",
        "_nC_r =_nC_{n-r} \\\\\\\n",
        "(0 \\leqq r \\leqq n) \\\\\\\n",
        "_nC_r = _{n-1}C_r + _{n-1}C_{r-1} \\\\\\\n",
        "(1\\leqq r \\leqq n-1, n \\geqq2)"
      ],
      "metadata": {
        "id": "WNKletJ6C6wM",
        "colab": {
          "base_uri": "https://localhost:8080/",
          "height": 189
        },
        "outputId": "3849d47e-17f6-42ef-ef4f-cc2b7728d080"
      },
      "execution_count": null,
      "outputs": [
        {
          "output_type": "display_data",
          "data": {
            "text/plain": [
              "<IPython.core.display.Latex object>"
            ],
            "text/latex": "\\displaystyle\n_nC_r=\\frac{_nP_r}{r!}=\\frac{n(n-1)(n-2)\\cdots \\cdots (n - r + 1)}{r(r-1)\\cdots\\cdots3\\cdot2\\cdot1} = \\frac{n!}{r!(n-r)!} \\\\\\\n_nC_n=1 \\\\\\\n_nC_0=1 \\Longleftarrow _nP_1=1 \\\\\\\n_nC_r =_nC_{n-r} \\\\\\\n(0 \\leqq r \\leqq n) \\\\\\\n_nC_r = _{n-1}C_r + _{n-1}C_{r-1} \\\\\\\n(1\\leqq r \\leqq n-1, n \\geqq2)"
          },
          "metadata": {}
        }
      ]
    },
    {
      "cell_type": "code",
      "source": [
        "# 同じものを含む順列\n",
        "# n 個の物の内、p 個は同じ物、q 個は別の同じ物、r 個はまた別の同じ物、\\cdots \\cdots である時、\n",
        "# それら n 個の物全部を使って作られる順列の総数は\n",
        "# _nC_p\\times_{n-p}C_q\\times_{n-p-q}C_r\\times\\cdots\\cdots すなわち\n",
        "# \\frac{n!}{p!q!r!\\cdots} (p+q+r+\\cdots\\cdots=n)"
      ],
      "metadata": {
        "id": "kslY9eMJC6sO"
      },
      "execution_count": null,
      "outputs": []
    },
    {
      "cell_type": "code",
      "source": [
        "%%latex\n",
        "\\displaystyle\n",
        "_nC_p\\times_{n-p}C_q\\times_{n-p-q}C_r\\times\\cdots\\cdots \\\\\\\n",
        "\\frac{n!}{p!q!r!\\cdots} \\\\\\\n",
        "(p+q+r+\\cdots\\cdots=n)"
      ],
      "metadata": {
        "id": "06X1SMkSC6no",
        "colab": {
          "base_uri": "https://localhost:8080/",
          "height": 99
        },
        "outputId": "7427ea7b-dfa4-4c67-adec-3f6ef1d156d8"
      },
      "execution_count": null,
      "outputs": [
        {
          "output_type": "display_data",
          "data": {
            "text/plain": [
              "<IPython.core.display.Latex object>"
            ],
            "text/latex": "\\displaystyle\n_nC_p\\times_{n-p}C_q\\times_{n-p-q}C_r\\times\\cdots\\cdots \\\\\\\n\\frac{n!}{p!q!r!\\cdots} \\\\\\\n(p+q+r+\\cdots\\cdots=n)"
          },
          "metadata": {}
        }
      ]
    },
    {
      "cell_type": "code",
      "source": [
        "# p.249 重複組合せ\n",
        "# 異なる n 個の物から重複を許して r 個取る重複組合せの総数は\n",
        "# _nH_r=_{n+r-1}C_r (n \\lt r であってもよい)\n",
        "# H => homogenous product"
      ],
      "metadata": {
        "id": "u4VLodcFVzNH"
      },
      "execution_count": null,
      "outputs": []
    },
    {
      "cell_type": "code",
      "source": [
        "%%latex\n",
        "_nH_r=_{n+r-1}C_r \\\\\\\n",
        "(n \\lt r であってもよい)"
      ],
      "metadata": {
        "id": "gMwAcfdSW5Yd",
        "colab": {
          "base_uri": "https://localhost:8080/",
          "height": 61
        },
        "outputId": "788ed9e4-0bc5-4ad1-903b-f8fa734633b1"
      },
      "execution_count": null,
      "outputs": [
        {
          "output_type": "display_data",
          "data": {
            "text/plain": [
              "<IPython.core.display.Latex object>"
            ],
            "text/latex": "_nH_r=_{n+r-1}C_r \\\\\\\n(n \\lt r であってもよい)"
          },
          "metadata": {}
        }
      ]
    },
    {
      "cell_type": "code",
      "source": [
        "# p.249 練習問題 38 (1) x, y, z 3 種類の文字から作られる 5 次の項は何通りできるか\n",
        "%%latex\n",
        "_3H_5 = _7C_5 = 7*6/2 => 21"
      ],
      "metadata": {
        "id": "R34I42-6W5TD",
        "colab": {
          "base_uri": "https://localhost:8080/",
          "height": 39
        },
        "outputId": "02efc4b8-2776-489a-a12f-cb21858cfdc1"
      },
      "execution_count": null,
      "outputs": [
        {
          "output_type": "display_data",
          "data": {
            "text/plain": [
              "<IPython.core.display.Latex object>"
            ],
            "text/latex": "_3H_5 = _7C_5 = 7*6/2 => 21"
          },
          "metadata": {}
        }
      ]
    },
    {
      "cell_type": "code",
      "source": [
        "# 練習問題 38 (2) 候補者が 3 名、投票者が 45 名いる無記名投票で 1 人 1 票を投票する時の票の分かれ方は何通りか\n",
        "# ただし、候補者は投票しない\n",
        "%%latex\n",
        "_{45+3-1}H_{45} = _{47}C_{4}= (47*46)/2 => 1081"
      ],
      "metadata": {
        "id": "gV91onRqW5MY",
        "colab": {
          "base_uri": "https://localhost:8080/",
          "height": 39
        },
        "outputId": "10e77636-fe38-425c-cf8d-4555c1d30610"
      },
      "execution_count": null,
      "outputs": [
        {
          "output_type": "display_data",
          "data": {
            "text/plain": [
              "<IPython.core.display.Latex object>"
            ],
            "text/latex": "_{45+3-1}H_{45} = _{47}C_{4}= (47*46)/2 => 1081"
          },
          "metadata": {}
        }
      ]
    },
    {
      "cell_type": "code",
      "source": [
        "# 練習問題 38 (3) 1 つのサイコロを 2 回投げて出た目を順に a, b とする時\n",
        "# a \\geqq b となるような目の出方は何通りあるか\n",
        "#=> 21 通り"
      ],
      "metadata": {
        "id": "S4bWxVchM6Ul"
      },
      "execution_count": null,
      "outputs": []
    },
    {
      "cell_type": "code",
      "source": [
        "%%latex\n",
        " a \\geqq b"
      ],
      "metadata": {
        "colab": {
          "base_uri": "https://localhost:8080/",
          "height": 39
        },
        "id": "aocxg5eYM6Q9",
        "outputId": "7b80738b-91bc-4c83-a680-8573683a6fa9"
      },
      "execution_count": null,
      "outputs": [
        {
          "output_type": "display_data",
          "data": {
            "text/plain": [
              "<IPython.core.display.Latex object>"
            ],
            "text/latex": " a \\geqq b"
          },
          "metadata": {}
        }
      ]
    },
    {
      "cell_type": "code",
      "source": [
        "# 二項定理\n",
        "# パスカルの三角形\n",
        "# (a+b)^2,(a+b)^3,\\cdots, (a+b)^6, \\cdots\n",
        "# を展開した式の各項の係数を書き出すと次のようになる\n",
        "#  1\n",
        "#  1 1\n",
        "#  1 2 1\n",
        "#  1 3 3 1\n",
        "#  1 4 6 4 1\n",
        "#  1 5 10 10 5 1\n",
        "#  1 6 15 20 15 6 1"
      ],
      "metadata": {
        "id": "Sj1jNZNeM6Nn"
      },
      "execution_count": null,
      "outputs": []
    },
    {
      "cell_type": "code",
      "source": [
        "%%latex\n",
        "(a+b)^2,(a+b)^3,\\cdots, (a+b)^6, \\cdots"
      ],
      "metadata": {
        "colab": {
          "base_uri": "https://localhost:8080/",
          "height": 39
        },
        "id": "otbYfLF-M6Jz",
        "outputId": "8befa351-d99f-4b29-b454-da15d8710303"
      },
      "execution_count": null,
      "outputs": [
        {
          "output_type": "display_data",
          "data": {
            "text/plain": [
              "<IPython.core.display.Latex object>"
            ],
            "text/latex": "(a+b)^2,(a+b)^3,\\cdots, (a+b)^6, \\cdots"
          },
          "metadata": {}
        }
      ]
    },
    {
      "cell_type": "code",
      "source": [
        "# Pascal's Triangle\n",
        "%%writefile temp.cpp\n",
        "#include <bits/stdc++.h>\n",
        "using namespace std;\n",
        " \n",
        "int binomialCoeff(int n, int k);\n",
        "\n",
        "void printPascal(int n) {\n",
        "    for (int line = 0; line < n; line++) {\n",
        "        for (int i = 0; i <= line; i++)\n",
        "            cout <<\" \"<< binomialCoeff(line, i);\n",
        "        cout <<\"\\n\";\n",
        "    }\n",
        "}\n",
        "\n",
        "int binomialCoeff(int n, int k) {\n",
        "    int res = 1;\n",
        "    if (k > n - k)\n",
        "    k = n - k;\n",
        "    for (int i = 0; i < k; ++i) {\n",
        "        res *= (n - i);\n",
        "        res /= (i + 1);\n",
        "    }\n",
        "    return res;\n",
        "}\n",
        "\n",
        "int main () {\n",
        "    int n = 7;\n",
        "    printPascal(n);\n",
        "}"
      ],
      "metadata": {
        "id": "JNH2tPwL3MQZ",
        "outputId": "d50703bd-e187-45cb-800a-a8a354c65502",
        "colab": {
          "base_uri": "https://localhost:8080/"
        }
      },
      "execution_count": null,
      "outputs": [
        {
          "output_type": "stream",
          "name": "stdout",
          "text": [
            "Overwriting temp.cpp\n"
          ]
        }
      ]
    },
    {
      "cell_type": "code",
      "source": [
        "!g++ temp.cpp; echo  |./a.out"
      ],
      "metadata": {
        "id": "mDVpKBt43YrL",
        "outputId": "14e347c8-72e0-46f8-fc5d-3f0649a3090d",
        "colab": {
          "base_uri": "https://localhost:8080/"
        }
      },
      "execution_count": null,
      "outputs": [
        {
          "output_type": "stream",
          "name": "stdout",
          "text": [
            " 1\n",
            " 1 1\n",
            " 1 2 1\n",
            " 1 3 3 1\n",
            " 1 4 6 4 1\n",
            " 1 5 10 10 5 1\n",
            " 1 6 15 20 15 6 1\n"
          ]
        }
      ]
    },
    {
      "cell_type": "code",
      "source": [
        "# (a+b+c)^n の展開式、指数の拡張\n",
        "# 展開式の一般項は \\frac{n!}{p!q!r!} a^p b^q c^r\n",
        "# ただし p+q+r=n, p,q,r は整数、p \\geqq 0, q \\geqq 0, r\\geqq 0"
      ],
      "metadata": {
        "id": "4B0IjeoN3YnO"
      },
      "execution_count": null,
      "outputs": []
    },
    {
      "cell_type": "code",
      "source": [
        "%%latex\n",
        "\\displaystyle\n",
        "(a+b+c)^n \\\\[0.8em]\n",
        "\\quad \\Longrightarrow \\quad \\frac{n!}{p!q!r!} a^p b^q c^r \\quad \\text{where} \\quad p+q+r=n, \\quad p \\geqq 0,\\; q \\geqq 0,\\; r\\geqq 0"
      ],
      "metadata": {
        "id": "4P_0g7hD3Yg3",
        "outputId": "e7b792cd-9bb5-4295-d792-7797d1ae8ee6",
        "colab": {
          "base_uri": "https://localhost:8080/",
          "height": 91
        }
      },
      "execution_count": 6,
      "outputs": [
        {
          "output_type": "display_data",
          "data": {
            "text/plain": [
              "<IPython.core.display.Latex object>"
            ],
            "text/latex": "\\displaystyle\n(a+b+c)^n \\\\[0.8em]\n\\quad \\Longrightarrow \\quad \\frac{n!}{p!q!r!} a^p b^q c^r \\quad \\text{where} \\quad p+q+r=n, \\quad p \\geqq 0,\\; q \\geqq 0,\\; r\\geqq 0"
          },
          "metadata": {}
        }
      ]
    },
    {
      "cell_type": "code",
      "source": [
        "# 指数の拡張と指数法則\n",
        "# 定義の拡張\n",
        "# 指数法則"
      ],
      "metadata": {
        "id": "99CxVxdiKba1"
      },
      "execution_count": null,
      "outputs": []
    },
    {
      "cell_type": "code",
      "source": [
        "%%latex\n",
        "\\displaystyle\n",
        "\\text{Let}\\quad a \\neq 0, \\quad n \\geqq 0 \\; \\land \\; n \\in \\mathbf Z \\\\[0.8em]\n",
        "a^0=1,\\quad a^{-n}= \\frac 1 {a^n}, \\quad \\text{especially}\\quad  a^{-1} = \\frac 1 a \\\\[0.8em]\n",
        "\\text{Let}\\quad a \\neq 0, \\quad b \\neq 0, \\quad m, n \\in \\mathbf Z \\\\[0.8em]\n",
        "a^m a^n = a^{m + n} \\\\[0.8em]\n",
        "(a^m)^n = a^{mn} \\\\[0.8em]\n",
        "(ab)^n = a^n b^n"
      ],
      "metadata": {
        "id": "uwg8RfVJKbXD",
        "outputId": "13e99b1e-4080-43a7-9e6a-37fc92fa3627",
        "colab": {
          "base_uri": "https://localhost:8080/",
          "height": 228
        }
      },
      "execution_count": null,
      "outputs": [
        {
          "output_type": "display_data",
          "data": {
            "text/plain": [
              "<IPython.core.display.Latex object>"
            ],
            "text/latex": "\\displaystyle\n\\text{Let}\\quad a \\neq 0, \\quad n \\geqq 0 \\; \\land \\; n \\in \\mathbf Z \\\\[0.8em]\na^0=1,\\quad a^{-n}= \\frac 1 {a^n}, \\quad \\text{especially}\\quad  a^{-1} = \\frac 1 a \\\\[0.8em]\n\\text{Let}\\quad a \\neq 0, \\quad b \\neq 0, \\quad m, n \\in \\mathbf Z \\\\[0.8em]\na^m a^n = a^{m + n} \\\\[0.8em]\n(a^m)^n = a^{mn} \\\\[0.8em]\n(ab)^n = a^n b^n"
          },
          "metadata": {}
        }
      ]
    },
    {
      "cell_type": "markdown",
      "metadata": {
        "id": "_aE5hVOrr2z1"
      },
      "source": [
        "# いまここ"
      ]
    },
    {
      "cell_type": "code",
      "source": [
        "# 証明  \\frac{n!}{p!q!r!} a^p b^q c^r \\\\\n",
        "%%latex\n",
        "\\displaystyle\n",
        "\\text{Prove} \\quad \\frac{n!}{p!q!r!} a^p b^q c^r \\\\[0.8em]\n",
        "(a+b+c)^n = ((a+b)+c)^n \\\\[0.8em]\n",
        "\\quad \\Longrightarrow \\quad _nC_r (a+b)^{n-r} c^r  \\\\[0.8em]\n",
        "(a+b)^{n-r} = {}_{n-r}Cq^q a^{n-r-q} b^q \\\\[0.8em]\n",
        "\n",
        "\\text{Let} \\quad n-r-q=p \\\\[0.8em]\n",
        "\\quad \\Longrightarrow \\quad _nC_r  \n",
        "c^r \\quad \\because \\quad "
      ],
      "metadata": {
        "id": "aFmyZoQhO8MV",
        "outputId": "6b118947-6aaa-44c7-9690-f60b2b64e4b0",
        "colab": {
          "base_uri": "https://localhost:8080/",
          "height": 233
        }
      },
      "execution_count": 9,
      "outputs": [
        {
          "output_type": "display_data",
          "data": {
            "text/plain": [
              "<IPython.core.display.Latex object>"
            ],
            "text/latex": "\\displaystyle\n\\text{Prove} \\quad \\frac{n!}{p!q!r!} a^p b^q c^r \\\\[0.8em]\n(a+b+c)^n = ((a+b)+c)^n \\\\[0.8em]\n\\quad \\Longrightarrow \\quad _nC_r (a+b)^{n-r} c^r \\quad (\\text{general term}) \\\\[0.8em]\n(a+b)^{n-r} = {}_{n-r}Cq^q a^{n-r-q} b^q \\\\[0.8em]\n\n\\text{Let} \\quad n-r-q=p \\\\[0.8em]\n\\quad \\Longrightarrow \\quad _nC_r  \nc^r \\quad \\because \\quad "
          },
          "metadata": {}
        }
      ]
    },
    {
      "cell_type": "markdown",
      "source": [
        "# EOF"
      ],
      "metadata": {
        "id": "eNhwINOX6oc-"
      }
    }
  ]
}