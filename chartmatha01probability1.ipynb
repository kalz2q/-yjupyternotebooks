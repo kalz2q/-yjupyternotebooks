{
  "nbformat": 4,
  "nbformat_minor": 0,
  "metadata": {
    "colab": {
      "name": "chartmatha01probability1.ipynb",
      "provenance": [],
      "toc_visible": true,
      "authorship_tag": "ABX9TyPPKg+qcxX6ogxyAkWVqz6B",
      "include_colab_link": true
    },
    "kernelspec": {
      "name": "python3",
      "display_name": "Python 3"
    }
  },
  "cells": [
    {
      "cell_type": "markdown",
      "metadata": {
        "id": "view-in-github",
        "colab_type": "text"
      },
      "source": [
        "<a href=\"https://colab.research.google.com/github/kalz2q/mycolabnotebooks/blob/master/chartmatha01probability1.ipynb\" target=\"_parent\"><img src=\"https://colab.research.google.com/assets/colab-badge.svg\" alt=\"Open In Colab\"/></a>"
      ]
    },
    {
      "cell_type": "markdown",
      "metadata": {
        "id": "GsRxjb7ky1Rb"
      },
      "source": [
        "# メモ\n",
        "\n",
        "チャート式数学 A の最初の場合の数と確率\n",
        "\n",
        "を読む。\n",
        "\n"
      ]
    },
    {
      "cell_type": "markdown",
      "metadata": {
        "id": "bcYyItYWzVHS"
      },
      "source": [
        "# 集合"
      ]
    },
    {
      "cell_type": "markdown",
      "metadata": {
        "id": "xoZ_k9cHzaOg"
      },
      "source": [
        "1. $a \\in A \\cdots \\cdots a $ は集合 $A$ の要素 $\\quad a \\not\\in A \\cdots \\cdots a $ は集合 $A$ の要素ではない\n",
        "\n",
        "1. $A \\subset B \\cdots \\cdots A$ は $B$ の部分集合 $\\quad x \\in A$ ならば $x \\in B$ が成り立つ。\n",
        "\n",
        "1. $A = B \\cdots \\cdots A$ と $B$ の要素は全く一致 $\\quad A \\subset B$ かつ $B \\subset A$ が成り立つ。\n"
      ]
    },
    {
      "cell_type": "markdown",
      "metadata": {
        "id": "lxdqNwKn1Jg_"
      },
      "source": [
        "集合を構成しているものを、その集合の要素または元という。  \n",
        "$a \\in A$ のとき、$a$ は集合 $A$ に属するという。  \n",
        "集合 $A$ の $a$ については必ず $a \\in A, a \\not\\in A$ のどちらか一方が成り立つ。  \n",
        "\n",
        "$A \\subset B$ ($A$ は $B$ の部分集合) のとき、$A$ は $B$ に含まれる、または $B$ は $A$ を含む、という。\n",
        "なお、$A$ 自身も $A$ の部分集合である。 すなわち、$A \\subset A$ である。"
      ]
    },
    {
      "cell_type": "markdown",
      "metadata": {
        "id": "VGRc2HQl23RH"
      },
      "source": [
        "**集合の表現**\n",
        "\n",
        "1から 9までの奇数全体の集合を $A$ とする７と、$A$ には次のような表し方がある。\n",
        "\n",
        "1. 列挙する $A = {1,3,5,7,9}$  \n",
        "\n",
        "1. $A = \\{x|1 \\leq x \\leq 9, x は奇数\\}$  \n",
        "\n",
        "1. $A = \\{2n-1|1 \\leq n \\leq 5, n は整数 \\}$\n",
        "\n",
        "**略記記号 $\\cdots \\cdots$**\n",
        "\n",
        "100以下の正の奇数全体の集合 $\\quad \\{1,3,5,\\cdots \\cdots, 99\\}$  \n",
        "\n",
        "正の偶数全体の集合 $\\quad \\{2,4,6,\\cdots \\cdots\\}$"
      ]
    },
    {
      "cell_type": "markdown",
      "metadata": {
        "id": "ILcBDPnH4QlV"
      },
      "source": [
        "上の $A = \\{expression|condition\\}$ の形はプログラミングででてくるリスト内包表記 list comprehension の形と同じだね!!!!"
      ]
    },
    {
      "cell_type": "markdown",
      "metadata": {
        "id": "gAWGxEqF5EQb"
      },
      "source": [
        "**共通部分、和集合**\n",
        "\n",
        "共通部分 $\\quad A \\cap B \\quad$ $A$ と $B$ のどちらにも属する要素全体の集合\n",
        "\n",
        "和集合 $\\quad A \\cup B \\quad$ $A$ と $B$ の少なくとも一方に属する要素全体の集合\n",
        "\n",
        "**3つの集合の共通部分、和集合**\n",
        "\n",
        "共通部分 $\\quad A \\cap B \\cap C \\quad$ $A$ と $B$ と $C$ のどれにも属する要素全体の集合\n",
        "\n",
        "和集合 $\\quad A \\cup B \\cup C \\quad$ $A$ と $B$ と $C$ の少なくとも 1つに属する要素全体の集合\n",
        "\n",
        "**空集合、補集合**\n",
        "\n",
        "空集合 $\\quad \\emptyset, \\varnothing, \\phi \\quad$ latex ではそれぞれ \\emptyset, \\varnothing, \\phi。 要素を 1つも持たない集合。 空集合はすべて集合の部分集合。\n",
        "\n",
        "補集合 $\\quad \\overline A \\quad$ 全体集合 $U$ の要素で、$A$ に属さない要素全体の集合\n",
        "\n",
        "**ド・モルガンの法則**\n",
        "\n",
        "$\\overline {A \\cup B} = \\overline A \\cap \\overline B, \\quad \\overline {A \\cap B} = \\overline A \\cup \\overline B$"
      ]
    },
    {
      "cell_type": "code",
      "metadata": {
        "id": "RPptTcW8_VgB",
        "colab": {
          "base_uri": "https://localhost:8080/",
          "height": 501
        },
        "outputId": "131d08d2-854d-4d6b-8675-0336d5101ddc"
      },
      "source": [
        "# ベン図 venn diagram\n",
        "from matplotlib_venn import venn2\n",
        "import matplotlib.pyplot as plt\n",
        "from sympy import *\n",
        "\n",
        "\n",
        "A = FiniteSet(1, 2)\n",
        "B = FiniteSet(2, 3, 4)\n",
        "\n",
        "venn2(subsets=(A,B))\n",
        "plt.show()\n",
        "print()\n",
        "venn2(subsets=(15,10,5), set_labels=('X','Y'))\n",
        "plt.show()"
      ],
      "execution_count": null,
      "outputs": [
        {
          "output_type": "display_data",
          "data": {
            "image/png": "[encoded data removed]",
            "text/plain": [
              "<Figure size 432x288 with 1 Axes>"
            ]
          },
          "metadata": {
            "tags": []
          }
        },
        {
          "output_type": "stream",
          "text": [
            "\n"
          ],
          "name": "stdout"
        },
        {
          "output_type": "display_data",
          "data": {
            "image/png": "[encoded data removed]",
            "text/plain": [
              "<Figure size 432x288 with 1 Axes>"
            ]
          },
          "metadata": {
            "tags": []
          }
        }
      ]
    },
    {
      "cell_type": "code",
      "metadata": {
        "id": "KIt3sAVaVWlb",
        "colab": {
          "base_uri": "https://localhost:8080/",
          "height": 253
        },
        "outputId": "93f88ab4-39ff-424b-aa08-5a444c3fe11e"
      },
      "source": [
        "# ベン図 venn diagram\n",
        "from matplotlib_venn import venn3\n",
        "import matplotlib.pyplot as plt\n",
        "venn3(subsets=(1,2,3,4,5,6,7), set_labels=('X','Y','Z'))\n",
        "plt.show()"
      ],
      "execution_count": null,
      "outputs": [
        {
          "output_type": "display_data",
          "data": {
            "image/png": "[encoded data removed]",
            "text/plain": [
              "<Figure size 432x288 with 1 Axes>"
            ]
          },
          "metadata": {
            "tags": []
          }
        }
      ]
    },
    {
      "cell_type": "markdown",
      "metadata": {
        "id": "nahvyXeJWjsf"
      },
      "source": [
        "全体集合 $\\quad U$\n",
        "\n",
        "チャート式の空集合は $\\varnothing$ `\\varnothing` で数学書としてはめずらしくないか????\n",
        "\n",
        "次が成り立つ。\n",
        "\n",
        "$\\overline \\varnothing = U,\\;\\; \\overline U = \\varnothing ,\\;\\; \\overline {\\overline A} = A$\n",
        "\n",
        "$A \\cap \\overline A = \\varnothing,\\;\\; A\\cup \\overline A = U,\\;\\; A \\subset B \\Longleftrightarrow \\overline A \\supset \\overline B$\n"
      ]
    },
    {
      "cell_type": "markdown",
      "metadata": {
        "id": "-syuHB7aYhAi"
      },
      "source": [
        "基本例題 1 p.218\n",
        "\n",
        "集合 $U=\\{x\\;|\\;x$ は 1 桁の自然数$\\}$とする。\n",
        "\n",
        "集合 $U$ の部分集合 $A,B$ を $A=\\{1,2,4,6,8\\},\\;\\; B=\\{1,3,6,9\\}$ とするとき、次の集合を求める。  \n",
        "1.  $\\overline A$\n",
        "1.  $\\overline A \\cap B$\n",
        "1.  $\\overline A \\cap \\overline B$\n",
        "1.  $\\overline A \\cup \\overline B$\n",
        "\n"
      ]
    },
    {
      "cell_type": "code",
      "metadata": {
        "id": "uzsqzwLdR8bX",
        "colab": {
          "base_uri": "https://localhost:8080/"
        },
        "outputId": "a207eba7-a1cd-480b-cad4-24c95fcb3c74"
      },
      "source": [
        "U = {1,2,3,4,5,6,7,8,9}\n",
        "A = {1,2,4,6,8}\n",
        "B = {1,3,6,9}\n",
        "\n",
        "print(U.difference(A))\n",
        "print(U.difference(A).intersection(B))\n",
        "print(U.difference(A).intersection(U.difference(B)))\n",
        "print(U.difference(A).union(U.difference(B)))\n"
      ],
      "execution_count": null,
      "outputs": [
        {
          "output_type": "stream",
          "text": [
            "{9, 3, 5, 7}\n",
            "{9, 3}\n",
            "{5, 7}\n",
            "{2, 3, 4, 5, 7, 8, 9}\n"
          ],
          "name": "stdout"
        }
      ]
    },
    {
      "cell_type": "markdown",
      "metadata": {
        "id": "zFQc7jnQRLNS"
      },
      "source": [
        "基本例題 1 p.218 つづき\n",
        "\n",
        "集合 $U$ の部分集合 $A,B$ において、$\\overline A \\cap B = \\{3,9\\}, \\;\\; A \\cap \\overline B = \\{2,4,8\\},\\;\\; \\overline A \\cap \\overline B = \\{1,5,7\\}$ が成り立つとき、集合 $A,B$ を求める。"
      ]
    },
    {
      "cell_type": "code",
      "metadata": {
        "id": "wrBjJtDtUFtC",
        "colab": {
          "base_uri": "https://localhost:8080/"
        },
        "outputId": "6b9bc2b3-0d08-4e16-9df5-acc9dde3b1c7"
      },
      "source": [
        "U = {1,2,3,4,5,6,7,8,9}\n",
        "A = {2,4,6,8}\n",
        "B = {3,6,9}\n",
        "\n",
        "print(U.difference(A).intersection(B))\n",
        "print(A.intersection(U.difference(B)))\n",
        "print(U.difference(A).intersection(U.difference(B)))"
      ],
      "execution_count": null,
      "outputs": [
        {
          "output_type": "stream",
          "text": [
            "{9, 3}\n",
            "{8, 2, 4}\n",
            "{1, 5, 7}\n"
          ],
          "name": "stdout"
        }
      ]
    },
    {
      "cell_type": "markdown",
      "metadata": {
        "id": "4wKK2fcQUnRl"
      },
      "source": [
        "基本例題 2 p.219\n",
        "\n",
        "ド・モルガンの法則\n",
        "$ \\overline {A \\cap B} = \\overline A \\cup \\overline B$\n",
        "を証明する。"
      ]
    },
    {
      "cell_type": "markdown",
      "metadata": {
        "id": "TEbaaoEzVFtd"
      },
      "source": [
        "基本例題 2 p.219 つづき\n",
        "\n",
        "1 以上 100 以下の整数全体の集合を $U$ を全体集合として考える。\n",
        "\n",
        "$A=\\{x\\;|\\;\\; x$ はある整数の平方$,\\;\\;x \\in U\\}$\n",
        "\n",
        "$B=\\{x\\;|\\;\\; x$ は偶数$,\\;\\;x \\in U\\}$\n",
        "\n",
        "$C=\\{x\\;|\\;\\; x$ は 4 の倍数$,\\;\\;x \\in U\\}$\n",
        "\n",
        "とするとき $C \\subset \\overline A \\cup \\overline B$ であることを示す。\n"
      ]
    },
    {
      "cell_type": "code",
      "metadata": {
        "id": "jWK8Nnh-JIgx",
        "outputId": "edb87075-1e05-4914-92bc-38b7249c4ae5",
        "colab": {
          "base_uri": "https://localhost:8080/"
        }
      },
      "source": [
        "U = set(range(1,101))\n",
        "A = {n*n for n in range(1,11) if n*n in U}\n",
        "B = {2*n for n in range(1,51) if 2*n in U}\n",
        "C = {4*n for n in range(1,26) if 4*n in U}\n",
        "print(A)\n",
        "print(B)\n",
        "print(C)\n",
        "D = U.difference(C)\n",
        "E = U.difference(A).union(U.difference(B))\n",
        "print(D.issubset(E))"
      ],
      "execution_count": 20,
      "outputs": [
        {
          "output_type": "stream",
          "text": [
            "{64, 1, 4, 36, 100, 9, 16, 49, 81, 25}\n",
            "{2, 4, 6, 8, 10, 12, 14, 16, 18, 20, 22, 24, 26, 28, 30, 32, 34, 36, 38, 40, 42, 44, 46, 48, 50, 52, 54, 56, 58, 60, 62, 64, 66, 68, 70, 72, 74, 76, 78, 80, 82, 84, 86, 88, 90, 92, 94, 96, 98, 100}\n",
            "{4, 8, 12, 16, 20, 24, 28, 32, 36, 40, 44, 48, 52, 56, 60, 64, 68, 72, 76, 80, 84, 88, 92, 96, 100}\n",
            "True\n"
          ],
          "name": "stdout"
        }
      ]
    },
    {
      "cell_type": "markdown",
      "metadata": {
        "id": "OFmuHyQGNFWq"
      },
      "source": [
        "基本例題 3 p. 220 \n",
        "\n",
        "$A= \\{n\\;|\\;\\; n$ は 16 の正の約数 $\\}$、\n",
        "\n",
        "$B= \\{n\\;|\\;\\; n$ は 20 の正の約数 $\\}$、\n",
        "\n",
        "$C=\\{n\\;|\\;\\; n$ は 8 以下の正の偶数 $\\}$、\n",
        "\n",
        "とするとき次の集合を求める。\n",
        "\n",
        "1. $A \\cap B \\cap C$\n",
        "2. $A \\cup B \\cup C$\n",
        "3. $(A \\cap B) \\cup C$\n",
        "4. $(A \\cap C) \\cup (B \\cap C)$"
      ]
    },
    {
      "cell_type": "code",
      "metadata": {
        "id": "eOhACKmJOX4S",
        "outputId": "71680da0-864e-4029-be25-ede382fb5c6a",
        "colab": {
          "base_uri": "https://localhost:8080/"
        }
      },
      "source": [
        "A = {1,2,4,8,16}\n",
        "B = {1,2,4,5,10,20}\n",
        "C = {2,4,6,8}\n",
        "print(A.intersection(B).intersection(C))\n",
        "print(A.union(B).union(C))\n",
        "print((A.intersection(B)).union(C))\n",
        "print((A.intersection(C)).union(B.intersection(C)))"
      ],
      "execution_count": 25,
      "outputs": [
        {
          "output_type": "stream",
          "text": [
            "{2, 4}\n",
            "{1, 2, 4, 5, 6, 8, 10, 16, 20}\n",
            "{1, 2, 4, 6, 8}\n",
            "{2, 4, 8}\n"
          ],
          "name": "stdout"
        }
      ]
    },
    {
      "cell_type": "markdown",
      "metadata": {
        "id": "rXIR2XLzPYgf"
      },
      "source": [
        "# 集合の要素の個数"
      ]
    },
    {
      "cell_type": "markdown",
      "metadata": {
        "id": "9SCi4Wz2QFs6"
      },
      "source": [
        "**個数定理**\n",
        "\n"
      ]
    },
    {
      "cell_type": "markdown",
      "metadata": {
        "id": "Xc3FHDG0_dHT"
      },
      "source": [
        "# いまここ p.221"
      ]
    }
  ]
}