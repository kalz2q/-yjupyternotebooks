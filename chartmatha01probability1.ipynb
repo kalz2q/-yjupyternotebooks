{
  "nbformat": 4,
  "nbformat_minor": 0,
  "metadata": {
    "colab": {
      "name": "chartmatha01probability1.ipynb",
      "provenance": [],
      "authorship_tag": "ABX9TyNkIVft5C/j/g/zqp9nli6o",
      "include_colab_link": true
    },
    "kernelspec": {
      "name": "python3",
      "display_name": "Python 3"
    }
  },
  "cells": [
    {
      "cell_type": "markdown",
      "metadata": {
        "id": "view-in-github",
        "colab_type": "text"
      },
      "source": [
        "<a href=\"https://colab.research.google.com/github/kalz2q/mycolabnotebooks/blob/master/chartmatha01probability1.ipynb\" target=\"_parent\"><img src=\"https://colab.research.google.com/assets/colab-badge.svg\" alt=\"Open In Colab\"/></a>"
      ]
    },
    {
      "cell_type": "code",
      "metadata": {
        "id": "ObYj72zoymrI"
      },
      "source": [
        ""
      ],
      "execution_count": null,
      "outputs": []
    },
    {
      "cell_type": "markdown",
      "metadata": {
        "id": "GsRxjb7ky1Rb"
      },
      "source": [
        "# メモ\r\n",
        "\r\n",
        "チャート式数学 A の最初の場合の数と確率\r\n",
        "\r\n",
        "を読む。\r\n",
        "\r\n"
      ]
    }
  ]
}