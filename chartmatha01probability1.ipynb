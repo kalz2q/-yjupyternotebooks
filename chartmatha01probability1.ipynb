{
  "nbformat": 4,
  "nbformat_minor": 0,
  "metadata": {
    "colab": {
      "name": "chartmatha01probability1.ipynb",
      "provenance": [],
      "toc_visible": true,
      "authorship_tag": "ABX9TyNVFizl4QEPN5NqFIU6qQwe",
      "include_colab_link": true
    },
    "kernelspec": {
      "name": "python3",
      "display_name": "Python 3"
    }
  },
  "cells": [
    {
      "cell_type": "markdown",
      "metadata": {
        "id": "view-in-github",
        "colab_type": "text"
      },
      "source": [
        "<a href=\"https://colab.research.google.com/github/kalz2q/mycolabnotebooks/blob/master/chartmatha01probability1.ipynb\" target=\"_parent\"><img src=\"https://colab.research.google.com/assets/colab-badge.svg\" alt=\"Open In Colab\"/></a>"
      ]
    },
    {
      "cell_type": "markdown",
      "metadata": {
        "id": "GsRxjb7ky1Rb"
      },
      "source": [
        "# メモ\r\n",
        "\r\n",
        "チャート式数学 A の最初の場合の数と確率\r\n",
        "\r\n",
        "を読む。\r\n",
        "\r\n"
      ]
    },
    {
      "cell_type": "markdown",
      "metadata": {
        "id": "_a6M_m7GzGkF"
      },
      "source": [
        "# 場合の数と確率"
      ]
    },
    {
      "cell_type": "markdown",
      "metadata": {
        "id": "bcYyItYWzVHS"
      },
      "source": [
        "# 集合とその要素の個数"
      ]
    },
    {
      "cell_type": "markdown",
      "metadata": {
        "id": "xoZ_k9cHzaOg"
      },
      "source": [
        "1. $a \\in A \\cdots \\cdots a $ は集合 $A$ の要素 $\\quad a \\not\\in A \\cdots \\cdots a $ は集合 $A$ の要素ではない\r\n",
        "\r\n",
        "1. $A \\subset B \\cdots \\cdots A$ は $B$ の部分集合 $\\quad x \\in A$ ならば $x \\in B$ が成り立つ。\r\n",
        "\r\n",
        "1. $A = B \\cdots \\cdots A$ と $B$ の要素は全く一致 $\\quad A \\subset B$ かつ $B \\subset A$ が成り立つ。\r\n"
      ]
    },
    {
      "cell_type": "markdown",
      "metadata": {
        "id": "lxdqNwKn1Jg_"
      },
      "source": [
        "集合を構成しているものを、その集合の要素または元という。  \r\n",
        "$a \\in A$ のとき、$a$ は集合 $A$ に属するという。  \r\n",
        "集合 $A$ の $a$ については必ず $a \\in A, a \\not\\in A$ のどちらか一方が成り立つ。  \r\n",
        "\r\n",
        "$A \\subset B$ ($A$ は $B$ の部分集合) のとき、$A$ は $B$ に含まれる、または $B$ は $A$ を含む、という。\r\n",
        "なお、$A$ 自身も $A$ の部分集合である。 すなわち、$A \\subset A$ である。"
      ]
    },
    {
      "cell_type": "markdown",
      "metadata": {
        "id": "VGRc2HQl23RH"
      },
      "source": [
        "**集合の表現**\r\n",
        "\r\n",
        "1から 9までの奇数全体の集合を $A$ とする７と、$A$ には次のような表し方がある。\r\n",
        "\r\n",
        "1. 列挙する $A = {1,3,5,7,9}$  \r\n",
        "\r\n",
        "1. $A = \\{x|1 \\leq x \\leq 9, x は奇数\\}$  \r\n",
        "\r\n",
        "1. $A = \\{2n-1|1 \\leq n \\leq 5, n は整数 \\}$\r\n",
        "\r\n",
        "**略記記号 $\\cdots \\cdots$**\r\n",
        "\r\n",
        "100以下の正の奇数全体の集合 $\\quad \\{1,3,5,\\cdots \\cdots, 99\\}$  \r\n",
        "\r\n",
        "正の偶数全体の集合 $\\quad \\{2,4,6,\\cdots \\cdots\\}$"
      ]
    },
    {
      "cell_type": "markdown",
      "metadata": {
        "id": "ILcBDPnH4QlV"
      },
      "source": [
        "上の $A = \\{expression|condition\\}$ の形はプログラミングででてくるリスト内包表記 list comprehension の形と同じだね!!!!"
      ]
    },
    {
      "cell_type": "markdown",
      "metadata": {
        "id": "gAWGxEqF5EQb"
      },
      "source": [
        "**共通部分、和集合**\r\n",
        "\r\n",
        "共通部分 $\\quad A \\cap B \\quad$ $A$ と $B$ のどちらにも属する要素全体の集合\r\n",
        "\r\n",
        "和集合 $\\quad A \\cup B \\quad$ $A$ と $B$ の少なくとも一方に属する要素全体の集合\r\n",
        "\r\n",
        "**3つの集合の共通部分、和集合**\r\n",
        "\r\n",
        "共通部分 $\\quad A \\cap B \\cap C \\quad$ $A$ と $B$ と $C$ のどれにも属する要素全体の集合\r\n",
        "\r\n",
        "和集合 $\\quad A \\cup B \\cup C \\quad$ $A$ と $B$ と $C$ の少なくとも 1つに属する要素全体の集合\r\n",
        "\r\n",
        "**空集合、補集合**\r\n",
        "\r\n",
        "空集合 $\\quad \\emptyset, \\varnothing, \\phi \\quad$ latex ではそれぞれ \\emptyset, \\varnothing, \\phi。 要素を 1つも持たない集合。 空集合はすべて集合の部分集合。\r\n",
        "\r\n",
        "補集合 $\\quad \\overline A \\quad$ 全体集合 $U$ の要素で、$A$ に属さない要素全体の集合\r\n",
        "\r\n",
        "**ド・モルガンの法則**\r\n",
        "\r\n",
        "$\\overline {A \\cup B} = \\overline A \\cap \\overline B, \\quad \\overline {A \\cap B} = \\overline A \\cup \\overline B$"
      ]
    },
    {
      "cell_type": "code",
      "metadata": {
        "id": "RPptTcW8_VgB",
        "outputId": "131d08d2-854d-4d6b-8675-0336d5101ddc",
        "colab": {
          "base_uri": "https://localhost:8080/",
          "height": 501
        }
      },
      "source": [
        "# ベン図 venn diagram\r\n",
        "from matplotlib_venn import venn2\r\n",
        "import matplotlib.pyplot as plt\r\n",
        "from sympy import *\r\n",
        "\r\n",
        "\r\n",
        "A = FiniteSet(1, 2)\r\n",
        "B = FiniteSet(2, 3, 4)\r\n",
        "\r\n",
        "venn2(subsets=(A,B))\r\n",
        "plt.show()\r\n",
        "print()\r\n",
        "venn2(subsets=(15,10,5), set_labels=('X','Y'))\r\n",
        "plt.show()"
      ],
      "execution_count": 1,
      "outputs": [
        {
          "output_type": "display_data",
          "data": {
            "image/png": "[encoded data removed]",
            "text/plain": [
              "<Figure size 432x288 with 1 Axes>"
            ]
          },
          "metadata": {
            "tags": []
          }
        },
        {
          "output_type": "stream",
          "text": [
            "\n"
          ],
          "name": "stdout"
        },
        {
          "output_type": "display_data",
          "data": {
            "image/png": "[encoded data removed]",
            "text/plain": [
              "<Figure size 432x288 with 1 Axes>"
            ]
          },
          "metadata": {
            "tags": []
          }
        }
      ]
    },
    {
      "cell_type": "markdown",
      "metadata": {
        "id": "Xc3FHDG0_dHT"
      },
      "source": [
        "# いまここ p.217"
      ]
    }
  ]
}