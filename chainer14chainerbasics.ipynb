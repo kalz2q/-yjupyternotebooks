{
  "nbformat": 4,
  "nbformat_minor": 0,
  "metadata": {
    "colab": {
      "name": "chainer14chainerbasics.ipynb",
      "provenance": [],
      "collapsed_sections": [],
      "include_colab_link": true
    },
    "kernelspec": {
      "display_name": "Python 3",
      "language": "python",
      "name": "python3"
    },
    "language_info": {
      "codemirror_mode": {
        "name": "ipython",
        "version": 3
      },
      "file_extension": ".py",
      "mimetype": "text/x-python",
      "name": "python",
      "nbconvert_exporter": "python",
      "pygments_lexer": "ipython3",
      "version": "3.7.2"
    }
  },
  "cells": [
    {
      "cell_type": "markdown",
      "metadata": {
        "id": "view-in-github",
        "colab_type": "text"
      },
      "source": [
        "<a href=\"https://colab.research.google.com/github/kalz2q/mycolabnotebooks/blob/master/chainer14chainerbasics.ipynb\" target=\"_parent\"><img src=\"https://colab.research.google.com/assets/colab-badge.svg\" alt=\"Open In Colab\"/></a>"
      ]
    },
    {
      "cell_type": "markdown",
      "metadata": {
        "id": "MPN37waRNybq"
      },
      "source": [
        "# Chainer の基礎\n",
        "\n",
        "本章では、ディープラーニングフレームワーク Chainer の基本的な機能を使って、Chainer を使った訓練がどのような処理で構成されているかを簡潔に紹介します。\n",
        "Chainer を用いた訓練の工夫や、GPUを利用した訓練、`Trainer` クラスを使った簡潔な訓練コードの記述方法などの発展的な内容は次章以降に紹介します。\n",
        "\n",
        "Colab では予め Chainer がインストールされているため環境構築の必要はありません。\n",
        "もし自分の PC 等に Chaier をインストールしたい場合は、[chainer.org](https://chainer.org/) の Quick Start に書かれた手順を参考にインストールしてください。\n",
        "\n"
      ]
    },
    {
      "cell_type": "markdown",
      "metadata": {
        "id": "IkubjvtRN1_3"
      },
      "source": [
        "## Chainer とは\n",
        "\n",
        "Chainer はオープンソースのディープラーニングフレームワークです。\n",
        "こちらのGithubリポジトリ：[chainer/chainer](https://github.com/chainer/chainer) で活発に開発が行われています。\n",
        "**オープンソースソフトウェア (open source software; OSS)** であるため、誰でも Chainer の全てのコードを見ることができます。\n",
        "\n",
        "ディープラーニングフレームワークとは、これまでの章で説明してきたようなニューラルネットワークの設計・訓練・評価などに必要な一連の実装を容易にするためのフレームワークです（[注釈1](#note1)）。\n",
        "特に層数の多いニューラルネットワークを GPU などを用いて高速に訓練できるようにする機能を備えたものを指すことが多く、Chainer の他にも様々なディープラーニングフレームワークが発表されています。\n",
        "\n",
        "Chainer の大きな特徴として、「**Powerful (高性能)**」「**Flexibility (柔軟性)**」「**Intuitive (直感的)**」であることが挙げられます。ディープラーニングを学び始めたばかりの初学者から、新しい手法の発見を目指す研究者、実用的なシステムへの応用を行いたい開発者まで、多岐にわたるユーザが、様々なアイデアを試し、評価して、その結果に基づいてまた新たなアイデアを試す、という試行錯誤のループを高速に回せることを目指して、開発が進められています（[注釈2](#note2)）。"
      ]
    },
    {
      "cell_type": "markdown",
      "metadata": {
        "id": "sUq-umH4SLl2"
      },
      "source": [
        "## Chainer の準備\n",
        "\n",
        "Colab 上では Chainer は予めインストールされているため、ノートブックを開くとすでに Chainer のモジュールを読み込む準備が整っています。\n",
        "最初にChainer を `import` して Chainer を使う準備をします。"
      ]
    },
    {
      "cell_type": "code",
      "metadata": {
        "id": "4HTUEiZVPqQO"
      },
      "source": [
        "import chainer"
      ],
      "execution_count": null,
      "outputs": []
    },
    {
      "cell_type": "markdown",
      "metadata": {
        "id": "BWJ07kf2QWRB"
      },
      "source": [
        "Chainer のバージョンや実行環境を確認します。\n",
        "Chainer には `print_runtime_info()` という関数が用意されており、これを実行することでインストールされている Chainer のバージョンや、CuPy が利用可能か、などの情報を調べることができます。"
      ]
    },
    {
      "cell_type": "code",
      "metadata": {
        "id": "jgMiqMlWQT1d",
        "colab": {
          "base_uri": "https://localhost:8080/",
          "height": 269
        },
        "outputId": "cd2cd292-5d19-48a0-fa90-d31a07a2bfc8"
      },
      "source": [
        "chainer.print_runtime_info()"
      ],
      "execution_count": null,
      "outputs": [
        {
          "output_type": "stream",
          "text": [
            "Platform: Linux-4.14.79+-x86_64-with-Ubuntu-18.04-bionic\n",
            "Chainer: 5.4.0\n",
            "NumPy: 1.16.3\n",
            "CuPy:\n",
            "  CuPy Version          : 5.4.0\n",
            "  CUDA Root             : /usr/local/cuda\n",
            "  CUDA Build Version    : 10000\n",
            "  CUDA Driver Version   : 10000\n",
            "  CUDA Runtime Version  : 10000\n",
            "  cuDNN Build Version   : 7301\n",
            "  cuDNN Version         : 7301\n",
            "  NCCL Build Version    : 2402\n",
            "  NCCL Runtime Version  : 2402\n",
            "iDeep: 2.0.0.post3\n"
          ],
          "name": "stdout"
        }
      ]
    },
    {
      "cell_type": "markdown",
      "metadata": {
        "id": "-3hP19dhN6Jd"
      },
      "source": [
        "## Chainerによる訓練\n",
        "\n",
        "以降の説明では、簡単のためにニューラルネットワークをネットワークと呼びます。\n",
        "\n",
        "Chainer によるネットワークの訓練は以下の 5 つのステップに分けられます。\n",
        "\n",
        "- Step 1 : データセットの準備 \n",
        "- Step 2 : ネットワークを決める\n",
        "- Step 3 : 目的関数を決める\n",
        "- Step 4 : 最適化手法を選択する\n",
        "- Step 5 : ネットワークを訓練する\n",
        "\n",
        "本章では、 scikit-learn に用意されている Iris データセットを利用し、アヤメの品種を分類する問題に取り組みます。\n",
        "個々のステップについて以降で詳しく説明していきます。"
      ]
    },
    {
      "cell_type": "markdown",
      "metadata": {
        "id": "_jEPB6MvOz7V"
      },
      "source": [
        "### Step 1 : データセットの準備\n",
        "\n",
        "ここでは Iris データセットの読み込みからデータセットの分割までを行います。"
      ]
    },
    {
      "cell_type": "markdown",
      "metadata": {
        "id": "A5BotWdKO3VM"
      },
      "source": [
        "#### データセットの読み込み"
      ]
    },
    {
      "cell_type": "markdown",
      "metadata": {
        "id": "GfNxTPIgTIZ2"
      },
      "source": [
        "`sklearn.datasets` モジュールにある `load_iris()` 関数を実行すると、150 個のアヤメの萼片の幅・長さ、花びらの幅・長さのデータと、それぞれのアヤメの種類を示すクラス IDが返ってきます。 これをそれぞれ `x` と `t` という変数で受け取って、それぞれの配列の形を表示してみます。"
      ]
    },
    {
      "cell_type": "code",
      "metadata": {
        "id": "1djdJsjNHwQ3",
        "colab": {
          "base_uri": "https://localhost:8080/",
          "height": 53
        },
        "outputId": "3ee49144-c66f-4f80-f6ba-c26b56c87446"
      },
      "source": [
        "from sklearn.datasets import load_iris\n",
        "\n",
        "# Iris データセットの読み込み\n",
        "x, t = load_iris(return_X_y=True)\n",
        "\n",
        "print('x:', x.shape)\n",
        "print('t:', t.shape)"
      ],
      "execution_count": null,
      "outputs": [
        {
          "output_type": "stream",
          "text": [
            "x: (150, 4)\n",
            "t: (150,)\n"
          ],
          "name": "stdout"
        }
      ]
    },
    {
      "cell_type": "markdown",
      "metadata": {
        "id": "PJzMV1RfUiIu"
      },
      "source": [
        "Iris データセットについて詳しく知りたい方はこちらをご覧ください。参考：[Iris plants dataset](https://scikit-learn.org/stable/datasets/index.html#iris-dataset)\n"
      ]
    },
    {
      "cell_type": "markdown",
      "metadata": {
        "id": "qr7rZ7izHwWP"
      },
      "source": [
        "#### データの形式を Chainer に合わせる\n",
        "\n",
        "Chainer のデフォルトでは、入力値のデータ型は `numpy.float32`、分類問題では目標値のデータ型は `numpy.int32` になっている必要があります。\n",
        "そこで、これに合わせるためデータセットのデータ型を変更します。\n",
        "`numpy.ndarray` は `astype()` メソッドを使ってデータ型を変更することができます。"
      ]
    },
    {
      "cell_type": "code",
      "metadata": {
        "id": "ivwcazzPOuO3"
      },
      "source": [
        "# それぞれデータ型を変換\n",
        "x = x.astype('float32')  \n",
        "t = t.astype('int32')  "
      ],
      "execution_count": null,
      "outputs": []
    },
    {
      "cell_type": "markdown",
      "metadata": {
        "id": "-Ffox9HqO6bj"
      },
      "source": [
        "#### データセットの分割\n",
        "\n",
        "scikit-learn の `sklearn.model_selection` モジュールで定義されている `train_test_split()` という関数を使い、データセットを「訓練データセット」「検証データセット」「テストデータセット」の 3 つに分割します。\n",
        "\n",
        "まず全体を訓練データセットと検証データセットを合わせたものとテストデータセットの 2 つに分割します。\n",
        "このときテストデータセットのサンプルサイズが全体の 30% になるように `test_size=0.3` と指定します。"
      ]
    },
    {
      "cell_type": "code",
      "metadata": {
        "id": "_i6csYKabJKu"
      },
      "source": [
        "# データセットを分割するモジュールの読み込み\n",
        "from sklearn.model_selection import train_test_split\n",
        "\n",
        "x_train_val, x_test, t_train_val, t_test = train_test_split(x, t, test_size=0.3, random_state=0)"
      ],
      "execution_count": null,
      "outputs": []
    },
    {
      "cell_type": "markdown",
      "metadata": {
        "id": "UPNoEMrGcAMO"
      },
      "source": [
        "次に訓練データセットと検証データセットに分割します。\n",
        "検証データセットは訓練データセットと検証データセットを合わせたもののうち 30% になるようにします。"
      ]
    },
    {
      "cell_type": "code",
      "metadata": {
        "id": "alvjz_bJczH3"
      },
      "source": [
        "x_train, x_val, t_train, t_val = train_test_split(x_train_val, t_train_val, test_size=0.3, random_state=0)"
      ],
      "execution_count": null,
      "outputs": []
    },
    {
      "cell_type": "markdown",
      "metadata": {
        "id": "H5NIop3gN_UK"
      },
      "source": [
        "### Step 2 : ネットワークを決める"
      ]
    },
    {
      "cell_type": "markdown",
      "metadata": {
        "id": "7ybvb5HmBjPI"
      },
      "source": [
        "ここでは訓練に使用するネットワークを決めます。\n",
        "\n",
        "本章以降では、ネットワークを構成する「層 (layer) 」という言葉を、これまでの説明で用いてきたノードの集まりに対してではなく、訓練可能なパラメータを持つ関数に対して用います。\n",
        "\n",
        "よって下の図のネットワークは、全結合層 1 つからなる 1 層のネットワークということになります。 \n",
        "\n",
        "![ネットワークの定義](https://github.com/chainer/tutorials/blob/master/ja/images/12/12_02.png?raw=1)\n",
        "\n",
        "「層」が何を指すかは文献によって異なっている場合もあるため、注意してください。\n",
        "\n",
        "Chainer はニューラルネットワークの層を構成するための微分可能な関数を多く提供しています。\n",
        "それらの関数は以下の 2 つに大別されます。\n",
        "\n",
        "- パラメータを持つ関数 (層)：リンク\n",
        "- パラメータを持たない関数：ファンクション\n",
        "\n",
        "パラメータを持つ関数の例としては、上の図の全結合層のような層があります。一方、パラメータを持たない関数としては、シグモイド関数や ReLU 関数があります。\n",
        "\n",
        "リンクは、`chainer.links` モジュール以下に、ファンクションは、`chainer.functions` モジュール以下に定義されています。\n",
        "\n",
        "まずはこの二つのモジュールを読み込みます。\n"
      ]
    },
    {
      "cell_type": "code",
      "metadata": {
        "id": "obC35C9vZ0kn"
      },
      "source": [
        "import chainer.links as L\n",
        "import chainer.functions as F"
      ],
      "execution_count": null,
      "outputs": []
    },
    {
      "cell_type": "markdown",
      "metadata": {
        "id": "Xtu1MY93ONF_"
      },
      "source": [
        "#### Sequentialによるネットワーク定義\n",
        "\n",
        "Chainer ではネットワークを作る方法がいくつか用意されています。\n",
        "ここでは簡単にネットワークが作ることができる `Sequential` クラスを利用し、全結合層が 3 つ、活性化関数に ReLU 関数を利用したネットワーク `net` を作ります。\n",
        "\n",
        "Chainerでは全結合層は `Linear` クラスとして定義されています。\n",
        "これは以下のように、インスタンス化の際に入力の次元数と出力の次元数を引数に取ります。"
      ]
    },
    {
      "cell_type": "code",
      "metadata": {
        "id": "sS4-_ujCdmcD"
      },
      "source": [
        "# 入力次元数が 3、出力次元数が 2 の全結合層\n",
        "l = L.Linear(3, 2)"
      ],
      "execution_count": null,
      "outputs": []
    },
    {
      "cell_type": "markdown",
      "metadata": {
        "id": "7Q1I0l0PH2uG"
      },
      "source": [
        "また、ReLU 関数は `relu()` として定義されています。\n",
        "\n",
        "それでは、`Sequential` クラスと `Linear` クラス、`relu()` を使ってネットワークを作ります。\n",
        "\n",
        "Iris のデータは入力変数が 4 つですので、最初の全結合層の入力次元数が 4 になります。\n",
        "また、Iris のクラス数は 3 なので、最後の全結合層の出力次元数は 3 です。\n",
        "\n",
        "2 つ目の全結合層の入力次元数は任意の値を指定できますが、ここでは 10 としておきます。"
      ]
    },
    {
      "cell_type": "code",
      "metadata": {
        "id": "70pSV6Ezda1A"
      },
      "source": [
        "from chainer import Sequential\n",
        "\n",
        "# net としてインスタンス化\n",
        "n_input = 4\n",
        "n_hidden = 10\n",
        "n_output = 3\n",
        "\n",
        "net = Sequential(\n",
        "    L.Linear(n_input, n_hidden), F.relu,\n",
        "    L.Linear(n_hidden, n_hidden), F.relu,\n",
        "    L.Linear(n_hidden, n_output)\n",
        ")"
      ],
      "execution_count": null,
      "outputs": []
    },
    {
      "cell_type": "markdown",
      "metadata": {
        "id": "PUhw_Z7kOQDA"
      },
      "source": [
        "### Step 3 : 目的関数を決める\n",
        "\n",
        "訓練の際に利用する目的関数を決定します。\n",
        "今回は、分類タスクによく利用される目的関数の中から、**交差エントロピー**を採用することにします。\n",
        "\n",
        "ここでは、Chainerに定義されている `softmax_cross_entropy()` （[注釈3](#note3)）を利用します。"
      ]
    },
    {
      "cell_type": "markdown",
      "metadata": {
        "id": "SkdKyNm3OYwg"
      },
      "source": [
        "### Step 4 : 最適化手法を選択する"
      ]
    },
    {
      "cell_type": "markdown",
      "metadata": {
        "id": "E2-UB7AiOp91"
      },
      "source": [
        "訓練を行う上で、最適化手法を選択する必要があります。\n",
        "\n",
        "今回は、最適化手法として、**確率的勾配降下法 (SGD)** を利用します。\n",
        "Chainer では `chainer.optimizers` に各最適化手法を実行するためのクラスが用意されており、確率的勾配降下法は `SGD` という名前で定義されています。\n",
        "\n",
        "学習率 `lr` を 0.01としてインスタンス化し、`optimizer` という名前を付けます。"
      ]
    },
    {
      "cell_type": "code",
      "metadata": {
        "id": "ExsYrBLak30E"
      },
      "source": [
        "optimizer = chainer.optimizers.SGD(lr=0.01)"
      ],
      "execution_count": null,
      "outputs": []
    },
    {
      "cell_type": "markdown",
      "metadata": {
        "id": "IzUKSF7uk4V6"
      },
      "source": [
        "次に `optimizer` に `net` をセットして、`net` のパラメータが確率的勾配降下法によって更新されるようにします。"
      ]
    },
    {
      "cell_type": "code",
      "metadata": {
        "id": "G3S8AMt4kuc6",
        "colab": {
          "base_uri": "https://localhost:8080/",
          "height": 35
        },
        "outputId": "2955203a-91b1-49eb-de66-7889ae58872a"
      },
      "source": [
        "optimizer.setup(net)"
      ],
      "execution_count": null,
      "outputs": [
        {
          "output_type": "execute_result",
          "data": {
            "text/plain": [
              "<chainer.optimizers.sgd.SGD at 0x7fe08061d2e8>"
            ]
          },
          "metadata": {
            "tags": []
          },
          "execution_count": 11
        }
      ]
    },
    {
      "cell_type": "markdown",
      "metadata": {
        "id": "mAKj3hOyO9hi"
      },
      "source": [
        "### Step 5 : ネットワークを訓練する\n",
        "\n",
        "Step 1 〜 Step 4 で準備したものを使ってネットワークの訓練を行います。\n",
        "ネットワークの訓練を行う前に、訓練の際のエポック数とバッチサイズを決めます。ここではエポック数 `n_epoch` と バッチサイズ `n_batchsize` を以下のようにします。"
      ]
    },
    {
      "cell_type": "code",
      "metadata": {
        "id": "MWXgPwjinswf"
      },
      "source": [
        "n_epoch = 30\n",
        "n_batchsize = 16"
      ],
      "execution_count": null,
      "outputs": []
    },
    {
      "cell_type": "markdown",
      "metadata": {
        "id": "mtsDeZwjPA1v"
      },
      "source": [
        "#### 訓練の実行"
      ]
    },
    {
      "cell_type": "markdown",
      "metadata": {
        "id": "_2bJMRKp5cj3"
      },
      "source": [
        "実際に訓練を実行します。\n",
        "訓練は以下の処理を繰り返します。\n",
        "\n",
        "1. 訓練用のバッチを準備\n",
        "2. 予測値を計算し、目的関数を適用 (順伝播)\n",
        "3. 勾配を計算 (逆伝播)\n",
        "4. パラメータを更新\n",
        "\n",
        "これに加えて、訓練がうまくいっているか判断するために、訓練データを利用した分類精度と検証データを利用した目的関数の値と分類精度を計算します。\n",
        "\n"
      ]
    },
    {
      "cell_type": "code",
      "metadata": {
        "id": "so5ALppetayp"
      },
      "source": [
        "import numpy as np"
      ],
      "execution_count": null,
      "outputs": []
    },
    {
      "cell_type": "code",
      "metadata": {
        "id": "RUXrtcZanN5z",
        "colab": {
          "base_uri": "https://localhost:8080/",
          "height": 557
        },
        "outputId": "bfe2375c-8275-4bf5-e7a1-d34c4f50b252"
      },
      "source": [
        "iteration = 0\n",
        "\n",
        "# ログの保存用\n",
        "results_train = {\n",
        "    'loss': [],\n",
        "    'accuracy': []\n",
        "}\n",
        "results_valid = {\n",
        "    'loss': [],\n",
        "    'accuracy': []\n",
        "}\n",
        "\n",
        "\n",
        "for epoch in range(n_epoch):\n",
        "    \n",
        "    # データセット並べ替えた順番を取得\n",
        "    order = np.random.permutation(range(len(x_train)))\n",
        "    \n",
        "    # 各バッチ毎の目的関数の出力と分類精度の保存用\n",
        "    loss_list = []\n",
        "    accuracy_list = []\n",
        "    \n",
        "    for i in range(0, len(order), n_batchsize):\n",
        "        # バッチを準備\n",
        "        index = order[i:i+n_batchsize]\n",
        "        x_train_batch = x_train[index,:]\n",
        "        t_train_batch = t_train[index]\n",
        "\n",
        "        # 予測値を出力\n",
        "        y_train_batch = net(x_train_batch)\n",
        "        \n",
        "        # 目的関数を適用し、分類精度を計算\n",
        "        loss_train_batch = F.softmax_cross_entropy(y_train_batch, t_train_batch)\n",
        "        accuracy_train_batch = F.accuracy(y_train_batch, t_train_batch)\n",
        "        \n",
        "        loss_list.append(loss_train_batch.array)\n",
        "        accuracy_list.append(accuracy_train_batch.array)\n",
        "\n",
        "        # 勾配のリセットと勾配の計算\n",
        "        net.cleargrads()\n",
        "        loss_train_batch.backward()\n",
        "\n",
        "        # パラメータの更新\n",
        "        optimizer.update()\n",
        "\n",
        "        # カウントアップ\n",
        "        iteration += 1\n",
        "    \n",
        "    # 訓練データに対する目的関数の出力と分類精度を集計\n",
        "    loss_train = np.mean(loss_list)\n",
        "    accuracy_train = np.mean(accuracy_list)\n",
        "    \n",
        "    # 1エポック終えたら、検証データで評価\n",
        "    # 検証データで予測値を出力\n",
        "    with chainer.using_config('train', False), chainer.using_config('enable_backprop', False):\n",
        "        y_val = net(x_val)\n",
        "        \n",
        "    # 目的関数を適用し、分類精度を計算\n",
        "    loss_val = F.softmax_cross_entropy(y_val, t_val)\n",
        "    accuracy_val = F.accuracy(y_val, t_val)\n",
        "    \n",
        "    # 結果の表示\n",
        "    print('epoch: {}, iteration: {}, loss (train): {:.4f}, loss (valid): {:.4f}'.format(\n",
        "        epoch, iteration, loss_train, loss_val.array))\n",
        "        \n",
        "    # ログを保存\n",
        "    results_train['loss'] .append(loss_train)\n",
        "    results_train['accuracy'] .append(accuracy_train)\n",
        "    results_valid['loss'].append(loss_val.array)\n",
        "    results_valid['accuracy'].append(accuracy_val.array)\n",
        "            \n",
        "    "
      ],
      "execution_count": null,
      "outputs": [
        {
          "output_type": "stream",
          "text": [
            "epoch: 0, iteration: 5, loss (train): 1.5355, loss (valid): 1.1857\n",
            "epoch: 1, iteration: 10, loss (train): 1.0105, loss (valid): 1.0177\n",
            "epoch: 2, iteration: 15, loss (train): 0.9157, loss (valid): 0.9478\n",
            "epoch: 3, iteration: 20, loss (train): 0.8797, loss (valid): 0.8991\n",
            "epoch: 4, iteration: 25, loss (train): 0.8264, loss (valid): 0.8676\n",
            "epoch: 5, iteration: 30, loss (train): 0.7967, loss (valid): 0.8311\n",
            "epoch: 6, iteration: 35, loss (train): 0.7775, loss (valid): 0.7984\n",
            "epoch: 7, iteration: 40, loss (train): 0.7558, loss (valid): 0.7766\n",
            "epoch: 8, iteration: 45, loss (train): 0.7329, loss (valid): 0.7428\n",
            "epoch: 9, iteration: 50, loss (train): 0.7126, loss (valid): 0.7150\n",
            "epoch: 10, iteration: 55, loss (train): 0.7089, loss (valid): 0.6872\n",
            "epoch: 11, iteration: 60, loss (train): 0.6797, loss (valid): 0.6589\n",
            "epoch: 12, iteration: 65, loss (train): 0.6668, loss (valid): 0.6397\n",
            "epoch: 13, iteration: 70, loss (train): 0.6396, loss (valid): 0.6223\n",
            "epoch: 14, iteration: 75, loss (train): 0.6479, loss (valid): 0.5947\n",
            "epoch: 15, iteration: 80, loss (train): 0.6292, loss (valid): 0.5804\n",
            "epoch: 16, iteration: 85, loss (train): 0.5999, loss (valid): 0.5594\n",
            "epoch: 17, iteration: 90, loss (train): 0.5946, loss (valid): 0.5409\n",
            "epoch: 18, iteration: 95, loss (train): 0.5756, loss (valid): 0.5265\n",
            "epoch: 19, iteration: 100, loss (train): 0.5651, loss (valid): 0.5138\n",
            "epoch: 20, iteration: 105, loss (train): 0.5533, loss (valid): 0.4991\n",
            "epoch: 21, iteration: 110, loss (train): 0.5344, loss (valid): 0.4903\n",
            "epoch: 22, iteration: 115, loss (train): 0.5307, loss (valid): 0.4726\n",
            "epoch: 23, iteration: 120, loss (train): 0.5252, loss (valid): 0.4626\n",
            "epoch: 24, iteration: 125, loss (train): 0.5236, loss (valid): 0.4537\n",
            "epoch: 25, iteration: 130, loss (train): 0.5201, loss (valid): 0.4443\n",
            "epoch: 26, iteration: 135, loss (train): 0.5097, loss (valid): 0.4351\n",
            "epoch: 27, iteration: 140, loss (train): 0.4986, loss (valid): 0.4269\n",
            "epoch: 28, iteration: 145, loss (train): 0.4962, loss (valid): 0.4173\n",
            "epoch: 29, iteration: 150, loss (train): 0.4791, loss (valid): 0.4095\n"
          ],
          "name": "stdout"
        }
      ]
    },
    {
      "cell_type": "markdown",
      "metadata": {
        "id": "9jUGCwgPmzH_"
      },
      "source": [
        "ここでは簡単のために、1エポックの内で使用してないサンプルサイズがバッチサイズ以下になったら次のエポックに移るようにしています。\n",
        "\n",
        "上のコードで示したように、Chainer では勾配を計算する前に `net.cleargrads()` を実行し、一つ前の勾配を削除した後、`loss_train_batch.backward()` で勾配を計算します。 \n",
        "\n",
        "\n",
        "また、検証データに対して予測値の計算を行う際には、`chainer.using_config('train', False)` と `chainer.using_config('enable_backprop', False)` の 2 つのスコープを指定しています（[注釈4](#note4)）。"
      ]
    },
    {
      "cell_type": "markdown",
      "metadata": {
        "id": "2qJ9Z7hM8kJS"
      },
      "source": [
        "訓練が終了したので、目的関数の出力値（交差エントロピー誤差）と分類精度がエポック毎にどのように変化したかを可視化します。まずは、目的関数の出力値を表示します。"
      ]
    },
    {
      "cell_type": "code",
      "metadata": {
        "id": "r29tCUMtyk6N"
      },
      "source": [
        "%matplotlib inline\n",
        "import matplotlib.pyplot as plt"
      ],
      "execution_count": null,
      "outputs": []
    },
    {
      "cell_type": "code",
      "metadata": {
        "id": "BK_-GsnDyFCV",
        "colab": {
          "base_uri": "https://localhost:8080/",
          "height": 287
        },
        "outputId": "9a2cce34-d964-447e-e04c-5d2af74b56fa"
      },
      "source": [
        "# 目的関数の出力 (loss)\n",
        "plt.plot(results_train['loss'], label='train')  # label で凡例の設定\n",
        "plt.plot(results_valid['loss'], label='valid')  # label で凡例の設定\n",
        "plt.legend()  # 凡例の表示"
      ],
      "execution_count": null,
      "outputs": [
        {
          "output_type": "execute_result",
          "data": {
            "text/plain": [
              "<matplotlib.legend.Legend at 0x7fe08059d9b0>"
            ]
          },
          "metadata": {
            "tags": []
          },
          "execution_count": 16
        },
        {
          "output_type": "display_data",
          "data": {
            "image/png": "[encoded data removed]",
            "text/plain": [
              "<Figure size 432x288 with 1 Axes>"
            ]
          },
          "metadata": {
            "tags": []
          }
        }
      ]
    },
    {
      "cell_type": "markdown",
      "metadata": {
        "id": "bNSgyGnp99Lq"
      },
      "source": [
        "横軸がエポック数、縦軸が目的関数の出力値になっています。グラフを見ると、訓練が進むにつれて目的関数の出力値（誤差）が減っており、訓練がうまくいっていることがわかります。"
      ]
    },
    {
      "cell_type": "markdown",
      "metadata": {
        "id": "H6fHNDPr-Nwv"
      },
      "source": [
        "次に、分類精度を表示します。"
      ]
    },
    {
      "cell_type": "code",
      "metadata": {
        "id": "ClqdxxCSyR7e",
        "colab": {
          "base_uri": "https://localhost:8080/",
          "height": 287
        },
        "outputId": "65e234dc-5f1c-411c-9d99-59db50bbe4f4"
      },
      "source": [
        "# 分類精度 (accuracy)\n",
        "plt.plot(results_train['accuracy'], label='train')  # label で凡例の設定\n",
        "plt.plot(results_valid['accuracy'], label='valid')  # label で凡例の設定\n",
        "plt.legend()  # 凡例の表示"
      ],
      "execution_count": null,
      "outputs": [
        {
          "output_type": "execute_result",
          "data": {
            "text/plain": [
              "<matplotlib.legend.Legend at 0x7fe0804cd518>"
            ]
          },
          "metadata": {
            "tags": []
          },
          "execution_count": 17
        },
        {
          "output_type": "display_data",
          "data": {
            "image/png": "[encoded data removed]",
            "text/plain": [
              "<Figure size 432x288 with 1 Axes>"
            ]
          },
          "metadata": {
            "tags": []
          }
        }
      ]
    },
    {
      "cell_type": "markdown",
      "metadata": {
        "id": "Fu-WNRgL9yox"
      },
      "source": [
        "横軸がエポック数、縦軸が分類精度になっています。こちらのグラフでも訓練が進むにつれて分類精度が上がっており、訓練がうまくいっていることがわかります。"
      ]
    },
    {
      "cell_type": "markdown",
      "metadata": {
        "id": "pX2kbR9OVYnW"
      },
      "source": [
        "#### テストデータを用いた評価\n",
        "\n",
        "訓練済みのネットワークを使ってテストデータに対する評価を行います。まずは、テストデータで予測を行います。検証用データのときと同様に `chainer.using_config('train', False)` と `chainer.using_config('enable_backprop', False)` を使います。"
      ]
    },
    {
      "cell_type": "code",
      "metadata": {
        "id": "ilL9B9RgVwK1"
      },
      "source": [
        "# テストデータで予測値を計算\n",
        "with chainer.using_config('train', False), chainer.using_config('enable_backprop', False):\n",
        "    y_test = net(x_test)"
      ],
      "execution_count": null,
      "outputs": []
    },
    {
      "cell_type": "markdown",
      "metadata": {
        "id": "PHK_3fYIV-wo"
      },
      "source": [
        "予測ができたら分類精度を計算を確認します。"
      ]
    },
    {
      "cell_type": "code",
      "metadata": {
        "id": "WMiUqM-PVcaO",
        "colab": {
          "base_uri": "https://localhost:8080/",
          "height": 35
        },
        "outputId": "1509ec12-26a8-42db-dc41-0ec4f61c24cd"
      },
      "source": [
        "accuracy_test = F.accuracy(y_test, t_test)\n",
        "accuracy_test.array"
      ],
      "execution_count": null,
      "outputs": [
        {
          "output_type": "execute_result",
          "data": {
            "text/plain": [
              "array(0.82222223, dtype=float32)"
            ]
          },
          "metadata": {
            "tags": []
          },
          "execution_count": 19
        }
      ]
    },
    {
      "cell_type": "markdown",
      "metadata": {
        "id": "HapDuposPJyH"
      },
      "source": [
        "#### ネットワークの保存"
      ]
    },
    {
      "cell_type": "markdown",
      "metadata": {
        "id": "w86uXSod-cbx"
      },
      "source": [
        "最後に、訓練したネットワークを保存します。保存する場合は以下のようにします。"
      ]
    },
    {
      "cell_type": "code",
      "metadata": {
        "id": "juPJvKXawLWA"
      },
      "source": [
        "chainer.serializers.save_npz('my_iris.net', net)"
      ],
      "execution_count": null,
      "outputs": []
    },
    {
      "cell_type": "markdown",
      "metadata": {
        "id": "ersAJMjewydR"
      },
      "source": [
        "`my_iris.net` という名前で保存しました。保存されたか確認します。"
      ]
    },
    {
      "cell_type": "code",
      "metadata": {
        "id": "NV4DI1iOwvNc",
        "colab": {
          "base_uri": "https://localhost:8080/",
          "height": 35
        },
        "outputId": "f72d1fbe-07c9-4ce5-95f2-1f9c1c5377df"
      },
      "source": [
        "!ls"
      ],
      "execution_count": null,
      "outputs": [
        {
          "output_type": "stream",
          "text": [
            "my_iris.net  sample_data\n"
          ],
          "name": "stdout"
        }
      ]
    },
    {
      "cell_type": "markdown",
      "metadata": {
        "id": "nOInvJe2PMp3"
      },
      "source": [
        "## 訓練済みネットワークを用いた推論"
      ]
    },
    {
      "cell_type": "markdown",
      "metadata": {
        "id": "BlwBegWr-4t6"
      },
      "source": [
        "訓練済みのネットワークを用いてテストデータに対して推論を行います。\n",
        "\n",
        "まずは保存したネットワークを読み込みます。\n",
        "ネットワークを読み込むには、最初に訓練済みのネットワークと同様のクラスのインスタンスを作ります。"
      ]
    },
    {
      "cell_type": "code",
      "metadata": {
        "id": "ZosK85eSw9zx"
      },
      "source": [
        "loaded_net = Sequential(\n",
        "    L.Linear(n_input, n_hidden), F.relu,\n",
        "    L.Linear(n_hidden, n_hidden), F.relu,\n",
        "    L.Linear(n_hidden, n_output)\n",
        ")"
      ],
      "execution_count": null,
      "outputs": []
    },
    {
      "cell_type": "markdown",
      "metadata": {
        "id": "1QQRufXX_bSr"
      },
      "source": [
        "このネットワークのインスタンスに訓練済みのネットワークのパラメータを読み込ませます。"
      ]
    },
    {
      "cell_type": "code",
      "metadata": {
        "id": "uPjs4BzjxT7j"
      },
      "source": [
        "chainer.serializers.load_npz('my_iris.net', loaded_net)"
      ],
      "execution_count": null,
      "outputs": []
    },
    {
      "cell_type": "markdown",
      "metadata": {
        "id": "PwxazVcV_5y5"
      },
      "source": [
        "訓練済みのネットワークの準備ができたら、実際に推論を行います。推論を行う際は検証用データのときと同様に `chainer.using_config('train', False)`、`chainer.using_config('enable_backprop', False)` を使います。"
      ]
    },
    {
      "cell_type": "code",
      "metadata": {
        "id": "zC8xoBD9xXaA"
      },
      "source": [
        "with chainer.using_config('train', False), chainer.using_config('enable_backprop', False):\n",
        "    y_test = loaded_net(x_test)"
      ],
      "execution_count": null,
      "outputs": []
    },
    {
      "cell_type": "markdown",
      "metadata": {
        "id": "y5FiPpxVJc4M"
      },
      "source": [
        "テストデータに対して推論ができたので、テストデータの `0` 番目のサンプルの予測結果を確認してみます。分類では以下のようにして、予測されたラベルを出力できます。"
      ]
    },
    {
      "cell_type": "code",
      "metadata": {
        "id": "iGzKD8MVJtRE",
        "colab": {
          "base_uri": "https://localhost:8080/",
          "height": 35
        },
        "outputId": "e0e34924-96af-4813-b479-8b413357ce8a"
      },
      "source": [
        "np.argmax(y_test[0,:].array)"
      ],
      "execution_count": null,
      "outputs": [
        {
          "output_type": "execute_result",
          "data": {
            "text/plain": [
              "2"
            ]
          },
          "metadata": {
            "tags": []
          },
          "execution_count": 25
        }
      ]
    },
    {
      "cell_type": "markdown",
      "metadata": {
        "id": "ENSJJRC80SwB"
      },
      "source": [
        "本章では、Chainer を用いたモデルの訓練、及び推論の基本的な使い方を解説しました。\n",
        "\n",
        "次章では、モデルの精度改善や訓練時間の短縮を行うための、より実践的な機能について紹介していきます。"
      ]
    },
    {
      "cell_type": "markdown",
      "metadata": {
        "id": "CzosHbIcV3ch"
      },
      "source": [
        "<hr />\n",
        "\n",
        "<div class=\"alert alert-info\">\n",
        "**注釈 1**\n",
        "\n",
        "**フレームワーク**の定義については、**制御の反転 (inversion of control)** という概念がキーになります。\n",
        "ライブラリの場合は、ライブラリ側が制御フローを持っているのではなくユーザが書いた制御フローの中で要素となる処理を担うためにその機能が呼ばれるという使われ方になりますが、フレームワークの場合は、**フレームワーク側が制御フローを持っていて、その要素となる処理についてユーザがコードを記述し、そのコードがフレームワーク側から呼ばれる**という構造を持ちます。（参考：[Inversion of control](https://en.wikipedia.org/wiki/Inversion_of_control)）\n",
        "\n",
        "[▲上へ戻る](#ref_note1)\n",
        "</div>\n",
        "\n",
        "<div class=\"alert alert-info\">\n",
        "**注釈 2**\n",
        "\n",
        "より具体的な特徴として、以下のようなものがあります。\n",
        "\n",
        "- 試行錯誤のループを高速に回すには、思い浮かんだアイデアをソースコードに落とし込む作業がすばやく行えることが重要です。そのために Chainer は、<b>全ての機能が直感的なインターフェースを備えている</b>ように、また<b>数式とコードの間で記述が大きく乖離しないように</b>、注意深くデザインされています。\n",
        "- 試行錯誤の過程で<b>間違ったコードを書いてしまったときにも、どの箇所が間違っているのかが発見しやすくなっている</b>ことも重要です。Chainer は、<b>エラーメッセージを分かりやすくし、デバッグ用の機能を提供する</b>などでこれを助けます。\n",
        "- 実装したアイデアが思ったとおりの効果を上げるどうかを調べるための実験を短い時間で終えられれば、次のアイデアを試すまでの時間も短くなり、結果として試行錯誤のループを高速に回すことができます。そのためには、実験結果が出るまでに掛かる時間を短くする必要があります。Chainer は、<b>時間の掛かる計算を複数のマシンやデバイスに分散させて高速に処理する</b>機能や、状況に合わせて少ない手間で様々な処理を最適化する機能も持っており、一つの実験結果が出るまでの時間を短くする色々な方法が提供されています。\n",
        "- ニューラルネットワークが訓練されていく過程で出力される様々な値を、視覚的にチェックすることができる <b>ChainerUI という拡張パッケージによって、 試行錯誤のループに直感的な判断を加えることが容易に</b>なります。\n",
        "- ディープラーニングは様々な分野で応用されており、扱われるデータの種類や組み合わされるアルゴリズムの種類は多岐にわたります。 Chainer では画像認識、化学・生物学、強化学習などの分野における応用をスムーズに開始できるように以下の拡張ライブラリも提供しています。\n",
        "    - **画像認識タスク向けに ChainerCV**\n",
        "    - **化学・生物学分野向けに Chainer Chemistry**\n",
        "    - **深層強化学習のために ChainerRL**\n",
        "    \n",
        "これらのライブラリでは、それぞれの分野にディープラーニングを応用するための便利な機能や、最先端の手法の実装コード、学習済みニューラルネットワークなどが商用利用も可能な自由な形で提供されているため、<b>各分野への入門から研究への活用、そして実用アプリケーションの開発に至るまで</b>、広く利用することができます。\n",
        "- ディープラーニングにはニューラルネットワークを訓練する段階と、できあがったニューラルネットワークを活用する推論の段階があり、Chainer は推論を行う際に便利な機能やエコシステムもサポートしています。Chainer はディープラーニングのニューラルネットワークを表現するための<b>標準フォーマットである ONNX での出力に対応</b>しており、Chainer で訓練したニューラルネットワークを<b>他のフレームワークや推論専用のライブラリで読み込むことができます</b>。また、Chainer で作られたニューラルネットワークを公式にサポートしている推論ライブラリ Menoh も開発されており、デバイスやプログラミング言語を問わず、様々な環境にデプロイできます。\n",
        "\n",
        "Chainer は、<b>研究開発から実用化まで、一貫して用いられるよう意識されたフレームワークです。</b>\n",
        "    \n",
        "[▲上へ戻る](#ref_note2)    \n",
        "</div>\n",
        "\n",
        "<div class=\"alert alert-info\">\n",
        "**注釈 3**\n",
        "\n",
        " 交差エントロピーを計算するためには、 2 つの確率分布（正解ラベルと予測確率分布）を入力する必要があります。しかしながら、ネットワークの出力値は確率分布にはなっていないため、出力値に対してソフトマックス関数を適用することで確率分布への正規化を行い、その後に交差エントロピーを計算するという手続きが必要となります。\n",
        "\n",
        "Chainer では、内部でソフトマックス関数を適用した後、交差エントロピーを計算する `sofmax_cross_entropy()` が定義されています。今回はこれを目的関数として利用することで、明示的にソフトマックス関数を呼ばずに、ネットワークの出力値を直接 `softmax_cross_entropy()` に渡して交差エントロピーを計算できます。\n",
        "\n",
        "[▲上へ戻る](#ref_note3)\n",
        "</div>\n",
        "\n",
        "<div class=\"alert alert-info\">\n",
        "**注釈 4**\n",
        "\n",
        "`chainer.using_config('train', False)` は、対象のデータを使用した訓練を行わない場合に指定します。 一方、`chainer.using_config('enable_backprop', False)` は、計算グラフの構築を行わない場合に指定します。 検証データでは勾配を計算しないため、計算グラフは不要となります。これを指定することで計算グラフの構築処理が省かれるため、メモリ消費量を節約することができます。\n",
        "\n",
        "[▲上へ戻る](#ref_note4)\n",
        "</div>"
      ]
    }
  ]
}