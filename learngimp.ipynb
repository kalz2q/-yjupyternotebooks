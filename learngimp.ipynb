{
  "nbformat": 4,
  "nbformat_minor": 0,
  "metadata": {
    "colab": {
      "name": "learngimp.ipynb",
      "provenance": [],
      "toc_visible": true,
      "authorship_tag": "ABX9TyO/JCqj5WZ0/lyFXL5DPsbx",
      "include_colab_link": true
    },
    "kernelspec": {
      "name": "python3",
      "display_name": "Python 3"
    }
  },
  "cells": [
    {
      "cell_type": "markdown",
      "metadata": {
        "id": "view-in-github",
        "colab_type": "text"
      },
      "source": [
        "<a href=\"https://colab.research.google.com/github/kalz2q/mycolabnotebooks/blob/master/learngimp.ipynb\" target=\"_parent\"><img src=\"https://colab.research.google.com/assets/colab-badge.svg\" alt=\"Open In Colab\"/></a>"
      ]
    },
    {
      "cell_type": "markdown",
      "metadata": {
        "id": "QbA6SE0R5vdd"
      },
      "source": [
        "# メモ\n",
        "\n",
        "windows 10 で gimp を使う。\n",
        "\n",
        "その前は ipad で affinity designer を使っていた。\n",
        "\n",
        "とりあえずメモ帳代わり。 ノートブック\n"
      ]
    },
    {
      "cell_type": "markdown",
      "metadata": {
        "id": "_RezkUJB9V9s"
      },
      "source": [
        "ツールボックス\n",
        "\n",
        "画像編集ゾーン\n",
        "\n",
        "ダイアログウィンドウ\n",
        "\n",
        "シングルウィンドウ チェックボックス\n",
        "\n"
      ]
    }
  ]
}