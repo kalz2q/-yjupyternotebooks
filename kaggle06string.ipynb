{
  "nbformat": 4,
  "nbformat_minor": 0,
  "metadata": {
    "colab": {
      "name": "kaggle06string.ipynb",
      "provenance": [],
      "authorship_tag": "ABX9TyPcDpse6DX1ByvLmyFM+wfU",
      "include_colab_link": true
    },
    "kernelspec": {
      "name": "python3",
      "display_name": "Python 3"
    }
  },
  "cells": [
    {
      "cell_type": "markdown",
      "metadata": {
        "id": "view-in-github",
        "colab_type": "text"
      },
      "source": [
        "<a href=\"https://colab.research.google.com/github/kalz2q/mycolabnotebooks/blob/master/kaggle06string.ipynb\" target=\"_parent\"><img src=\"https://colab.research.google.com/assets/colab-badge.svg\" alt=\"Open In Colab\"/></a>"
      ]
    },
    {
      "cell_type": "markdown",
      "metadata": {
        "id": "kYx20gNtAiGy",
        "colab_type": "text"
      },
      "source": [
        "# kaggle06string.ipynb"
      ]
    },
    {
      "cell_type": "markdown",
      "metadata": {
        "id": "5K849kXOfnPj",
        "colab_type": "text"
      },
      "source": [
        "# メモ\n",
        "\n",
        "1.  kaggleのPython tutorialをベスにColabのノートブックを作成している。\n",
        "1.  Colabで開いて読まれることを想定。\n",
        "1.  元ファイル (\n",
        "https://www.kaggle.com/colinmorris/strings-and-dictionaries )\n",
        "\n"
      ]
    },
    {
      "cell_type": "markdown",
      "metadata": {
        "id": "x2LVPJLMA11H",
        "colab_type": "text"
      },
      "source": [
        ""
      ]
    }
  ]
}