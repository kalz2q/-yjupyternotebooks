{
  "nbformat": 4,
  "nbformat_minor": 0,
  "metadata": {
    "colab": {
      "name": "kaggle06string.ipynb",
      "provenance": [],
      "toc_visible": true,
      "authorship_tag": "ABX9TyM62juHczDOHgqgDAA09UYQ",
      "include_colab_link": true
    },
    "kernelspec": {
      "name": "python3",
      "display_name": "Python 3"
    }
  },
  "cells": [
    {
      "cell_type": "markdown",
      "metadata": {
        "id": "view-in-github",
        "colab_type": "text"
      },
      "source": [
        "<a href=\"https://colab.research.google.com/github/kalz2q/mycolabnotebooks/blob/master/kaggle06string.ipynb\" target=\"_parent\"><img src=\"https://colab.research.google.com/assets/colab-badge.svg\" alt=\"Open In Colab\"/></a>"
      ]
    },
    {
      "cell_type": "markdown",
      "metadata": {
        "id": "kYx20gNtAiGy",
        "colab_type": "text"
      },
      "source": [
        "# kaggle06string.ipynb"
      ]
    },
    {
      "cell_type": "markdown",
      "metadata": {
        "id": "5K849kXOfnPj",
        "colab_type": "text"
      },
      "source": [
        "# メモ\n",
        "\n",
        "1.  kaggleのPython tutorialをベスにColabのノートブックを作成している。\n",
        "1.  Colabで開いて読まれることを想定。\n",
        "1.  元ファイル (\n",
        "https://www.kaggle.com/colinmorris/strings-and-dictionaries )\n",
        "\n"
      ]
    },
    {
      "cell_type": "markdown",
      "metadata": {
        "id": "x2LVPJLMA11H",
        "colab_type": "text"
      },
      "source": [
        "# 文字列\n",
        "\n",
        "Pythonは文字列の扱いが得意で、この章ではPythonに組み込まれている関数とフォーマット処理について述べる。\n",
        "\n",
        "文字列操作はしばしば科学研究の文脈で使われ、Pythonの特典のひとつと言える。\n"
      ]
    },
    {
      "cell_type": "markdown",
      "metadata": {
        "id": "5m3Y_QU8RwKT",
        "colab_type": "text"
      },
      "source": [
        "### 文字列文法\n",
        "\n",
        "復習になるが、Pythonの文字列はシングルクォートでもダブルクォートでも作ることができて、機能的に全く同じである。\n"
      ]
    },
    {
      "cell_type": "code",
      "metadata": {
        "id": "_jcckYmDRysY",
        "colab_type": "code",
        "colab": {
          "base_uri": "https://localhost:8080/",
          "height": 34
        },
        "outputId": "c1b1d993-7b91-4626-9137-60378f998309"
      },
      "source": [
        "x = 'Pluto is a planet'\n",
        "y = \"Pluto is a planet\"\n",
        "x == y"
      ],
      "execution_count": null,
      "outputs": [
        {
          "output_type": "execute_result",
          "data": {
            "text/plain": [
              "True"
            ]
          },
          "metadata": {
            "tags": []
          },
          "execution_count": 1
        }
      ]
    },
    {
      "cell_type": "markdown",
      "metadata": {
        "id": "BLUcgTl-R0l4",
        "colab_type": "text"
      },
      "source": [
        "文字列がアポストロフィなどシングルクォートを含んでいる場合はダブルクォートが便利だし、逆にダブルクォートを含んでいる場合はシングルクォートが便利。\n"
      ]
    },
    {
      "cell_type": "code",
      "metadata": {
        "id": "-DJ8dJPXR5dK",
        "colab_type": "code",
        "colab": {
          "base_uri": "https://localhost:8080/",
          "height": 50
        },
        "outputId": "04e31ffc-f867-406a-e7ec-9a529acceeb5"
      },
      "source": [
        "print(\"Pluto's a planet!\")\n",
        "print('My dog is named \"Pluto\"')"
      ],
      "execution_count": null,
      "outputs": [
        {
          "output_type": "stream",
          "text": [
            "Pluto's a planet!\n",
            "My dog is named \"Pluto\"\n"
          ],
          "name": "stdout"
        }
      ]
    },
    {
      "cell_type": "markdown",
      "metadata": {
        "id": "_DNvo59QR7O5",
        "colab_type": "text"
      },
      "source": [
        "シングルクォートで囲んだ文字列の中にシングルクォートがあればエラーになる。\n"
      ]
    },
    {
      "cell_type": "code",
      "metadata": {
        "id": "quyLN7KQSDT_",
        "colab_type": "code",
        "colab": {}
      },
      "source": [
        "# 'Pluto's a planet!'"
      ],
      "execution_count": null,
      "outputs": []
    },
    {
      "cell_type": "markdown",
      "metadata": {
        "id": "g9muXd1QSE5U",
        "colab_type": "text"
      },
      "source": [
        "このような場合、バックスラッシュでエスケープすることができる。\n"
      ]
    },
    {
      "cell_type": "code",
      "metadata": {
        "id": "9SS6QbnxSGrt",
        "colab_type": "code",
        "colab": {
          "base_uri": "https://localhost:8080/",
          "height": 35
        },
        "outputId": "70ad1a7f-b7be-4f4a-c717-5705e39a9f6a"
      },
      "source": [
        "'Pluto\\'s a planet!'"
      ],
      "execution_count": null,
      "outputs": [
        {
          "output_type": "execute_result",
          "data": {
            "application/vnd.google.colaboratory.intrinsic": {
              "type": "string"
            },
            "text/plain": [
              "\"Pluto's a planet!\""
            ]
          },
          "metadata": {
            "tags": []
          },
          "execution_count": 4
        }
      ]
    },
    {
      "cell_type": "markdown",
      "metadata": {
        "id": "7pmynJS0SJXq",
        "colab_type": "text"
      },
      "source": [
        "次の表はバックスラッシュの用法についてまとめたもの。\n"
      ]
    },
    {
      "cell_type": "markdown",
      "metadata": {
        "id": "2FRAyEgtSK_h",
        "colab_type": "text"
      },
      "source": [
        "| What you type... |\tWhat you get |\texample\t| print(example) |\n",
        "| --- | --- | --- | --- |\n",
        "|\\\\'  |\t'\t| 'What\\\\'s up?'\t| What's up? |\n",
        "| \\\\\"  |\t\"\t| \"That's \\\\\"cool\\\\\"\\\" |\tThat's \"cool\" |\n",
        "| \\\\\\  |\t\\\t| \"Look, a mountain: /\\\\\"\t| Look, a mountain: /\\ |\n",
        "| \\\\n  |\t | \"1\\n2 3\" |\t1  |\n",
        "|  |  | | 2 3 |\n"
      ]
    },
    {
      "cell_type": "markdown",
      "metadata": {
        "id": "2XbJYKLpSNU8",
        "colab_type": "text"
      },
      "source": [
        "表の最後の行の`\\n`は、改行文字を表し、Pythonでは改行して新しい行になる。\n"
      ]
    },
    {
      "cell_type": "code",
      "metadata": {
        "id": "PdE75B7cSQE0",
        "colab_type": "code",
        "colab": {
          "base_uri": "https://localhost:8080/",
          "height": 50
        },
        "outputId": "5b2056e6-e431-4867-8348-3deda7147011"
      },
      "source": [
        "hello = \"hello\\nworld\"\n",
        "print(hello)"
      ],
      "execution_count": null,
      "outputs": [
        {
          "output_type": "stream",
          "text": [
            "hello\n",
            "world\n"
          ],
          "name": "stdout"
        }
      ]
    },
    {
      "cell_type": "markdown",
      "metadata": {
        "id": "X0P8Z55PSSnS",
        "colab_type": "text"
      },
      "source": [
        "さらにPythonの3重引用符は、｀Enter`による改行をうけつける。つまり、みたままの形で文字列を変数に入れることができる。すでに`docstring`で見てきているが、どこでもできる。\n"
      ]
    },
    {
      "cell_type": "code",
      "metadata": {
        "id": "dyGjStwaSUmi",
        "colab_type": "code",
        "colab": {
          "base_uri": "https://localhost:8080/",
          "height": 70
        },
        "outputId": "ca26c216-702d-43ab-8eef-038261dcbe9f"
      },
      "source": [
        "triplequoted_hello = \"\"\"hello\n",
        "world\"\"\"\n",
        "print(triplequoted_hello)\n",
        "triplequoted_hello == 'hello\\nworld'"
      ],
      "execution_count": null,
      "outputs": [
        {
          "output_type": "stream",
          "text": [
            "hello\n",
            "world\n"
          ],
          "name": "stdout"
        },
        {
          "output_type": "execute_result",
          "data": {
            "text/plain": [
              "True"
            ]
          },
          "metadata": {
            "tags": []
          },
          "execution_count": 11
        }
      ]
    },
    {
      "cell_type": "markdown",
      "metadata": {
        "id": "naFxE9IhSWF7",
        "colab_type": "text"
      },
      "source": [
        "`printf()`関数は自動的に改行コードを最後に入れる。デフォルトの`¥n`を入れさせないためには次のようにする。\n"
      ]
    },
    {
      "cell_type": "code",
      "metadata": {
        "id": "_Fa_VprGSXnj",
        "colab_type": "code",
        "colab": {
          "base_uri": "https://localhost:8080/",
          "height": 70
        },
        "outputId": "4db6c405-f97d-4d19-fd57-31361aed99cc"
      },
      "source": [
        "print(\"hello\")\n",
        "print(\"world\")\n",
        "print(\"hello\", end='')\n",
        "print(\"pluto\", end='')"
      ],
      "execution_count": null,
      "outputs": [
        {
          "output_type": "stream",
          "text": [
            "hello\n",
            "world\n",
            "hellopluto"
          ],
          "name": "stdout"
        }
      ]
    },
    {
      "cell_type": "markdown",
      "metadata": {
        "id": "kIAb25k8SZc7",
        "colab_type": "text"
      },
      "source": [
        "### 文字列とリスト\n",
        "\n",
        "文字列`string`は文字`character`のシーケンス`sequence`、リスト、とみなすことができて、リストについてのほとんどの関数やメソッドが使える。\n"
      ]
    },
    {
      "cell_type": "code",
      "metadata": {
        "id": "GVRcyZj1Sb6i",
        "colab_type": "code",
        "colab": {
          "base_uri": "https://localhost:8080/",
          "height": 35
        },
        "outputId": "32e41b8c-bb6d-431c-c2c6-fe12d39627c4"
      },
      "source": [
        "# Indexing\n",
        "planet = 'Pluto'\n",
        "planet[0]"
      ],
      "execution_count": null,
      "outputs": [
        {
          "output_type": "execute_result",
          "data": {
            "application/vnd.google.colaboratory.intrinsic+json": {
              "type": "string"
            },
            "text/plain": [
              "'P'"
            ]
          },
          "metadata": {
            "tags": []
          },
          "execution_count": 13
        }
      ]
    },
    {
      "cell_type": "code",
      "metadata": {
        "id": "5UetN5SISdYl",
        "colab_type": "code",
        "colab": {
          "base_uri": "https://localhost:8080/",
          "height": 35
        },
        "outputId": "2506b61c-8b95-4df0-ebc2-8f4ff678cff3"
      },
      "source": [
        "# Slicing\n",
        "planet[-3:]\n"
      ],
      "execution_count": null,
      "outputs": [
        {
          "output_type": "execute_result",
          "data": {
            "application/vnd.google.colaboratory.intrinsic+json": {
              "type": "string"
            },
            "text/plain": [
              "'uto'"
            ]
          },
          "metadata": {
            "tags": []
          },
          "execution_count": 14
        }
      ]
    },
    {
      "cell_type": "code",
      "metadata": {
        "id": "W1Xd1fpNSf3H",
        "colab_type": "code",
        "colab": {
          "base_uri": "https://localhost:8080/",
          "height": 35
        },
        "outputId": "90d1ac8c-966e-4f41-e0af-806dd4acd93c"
      },
      "source": [
        "# How long is this string?\n",
        "len(planet)"
      ],
      "execution_count": null,
      "outputs": [
        {
          "output_type": "execute_result",
          "data": {
            "text/plain": [
              "5"
            ]
          },
          "metadata": {
            "tags": []
          },
          "execution_count": 15
        }
      ]
    },
    {
      "cell_type": "code",
      "metadata": {
        "id": "J-zZ_GEuSiZL",
        "colab_type": "code",
        "colab": {
          "base_uri": "https://localhost:8080/",
          "height": 35
        },
        "outputId": "f2ee8d19-3837-47dc-bf6f-f4d791f35505"
      },
      "source": [
        "# Yes, we can even loop over them\n",
        "[char+'! ' for char in planet]"
      ],
      "execution_count": null,
      "outputs": [
        {
          "output_type": "execute_result",
          "data": {
            "text/plain": [
              "['P! ', 'l! ', 'u! ', 't! ', 'o! ']"
            ]
          },
          "metadata": {
            "tags": []
          },
          "execution_count": 16
        }
      ]
    },
    {
      "cell_type": "markdown",
      "metadata": {
        "id": "VNpfyMSmSj9x",
        "colab_type": "text"
      },
      "source": [
        "しかし!!!!\n",
        "\n",
        "リストと文字列の最大の違いは、文字列はイミュータブル`immutable`だと言うことだ。文字列は変更できない。\n"
      ]
    },
    {
      "cell_type": "code",
      "metadata": {
        "id": "BPZyz4VXSl-H",
        "colab_type": "code",
        "colab": {}
      },
      "source": [
        "# planet[0] = 'B'\n",
        "# planet.append doesn't work either\n",
        "\n",
        "# TypeError: 'str' object does not support item assignment"
      ],
      "execution_count": null,
      "outputs": []
    },
    {
      "cell_type": "code",
      "metadata": {
        "id": "uNifsGul7hdt",
        "colab_type": "code",
        "colab": {
          "base_uri": "https://localhost:8080/",
          "height": 35
        },
        "outputId": "41a7b242-6b6e-490a-8c24-f482b69ec778"
      },
      "source": [
        "type (\"\")"
      ],
      "execution_count": null,
      "outputs": [
        {
          "output_type": "execute_result",
          "data": {
            "text/plain": [
              "str"
            ]
          },
          "metadata": {
            "tags": []
          },
          "execution_count": 17
        }
      ]
    },
    {
      "cell_type": "markdown",
      "metadata": {
        "id": "pVRDChLjSpNR",
        "colab_type": "text"
      },
      "source": [
        "### 文字列メソッド\n",
        "\n",
        "文字列型`str`はたくさんの便利なメソッドがある。ここで紹介するのはほんの一部である。\n"
      ]
    },
    {
      "cell_type": "code",
      "metadata": {
        "id": "QovR__QiSq1X",
        "colab_type": "code",
        "colab": {
          "base_uri": "https://localhost:8080/",
          "height": 35
        },
        "outputId": "6e4f238e-4be4-4b65-c87f-75f73d30b26f"
      },
      "source": [
        "# ALL CAPS\n",
        "claim = \"Pluto is a planet!\"\n",
        "claim.upper()\n"
      ],
      "execution_count": null,
      "outputs": [
        {
          "output_type": "execute_result",
          "data": {
            "application/vnd.google.colaboratory.intrinsic+json": {
              "type": "string"
            },
            "text/plain": [
              "'PLUTO IS A PLANET!'"
            ]
          },
          "metadata": {
            "tags": []
          },
          "execution_count": 18
        }
      ]
    },
    {
      "cell_type": "code",
      "metadata": {
        "id": "FUb3KBsgSsPe",
        "colab_type": "code",
        "colab": {
          "base_uri": "https://localhost:8080/",
          "height": 35
        },
        "outputId": "2f02c5b2-6c1d-45a1-bb65-4a7d8ef6307a"
      },
      "source": [
        "# all lowercase\n",
        "claim.lower()"
      ],
      "execution_count": null,
      "outputs": [
        {
          "output_type": "execute_result",
          "data": {
            "application/vnd.google.colaboratory.intrinsic+json": {
              "type": "string"
            },
            "text/plain": [
              "'pluto is a planet!'"
            ]
          },
          "metadata": {
            "tags": []
          },
          "execution_count": 23
        }
      ]
    },
    {
      "cell_type": "code",
      "metadata": {
        "id": "rZTwT6Z0Sts6",
        "colab_type": "code",
        "colab": {
          "base_uri": "https://localhost:8080/",
          "height": 35
        },
        "outputId": "89fe1df7-9b7b-4652-b9f3-5c3e3c008f1a"
      },
      "source": [
        "# Searching for the first index of a substring\n",
        "claim.index('plan')"
      ],
      "execution_count": null,
      "outputs": [
        {
          "output_type": "execute_result",
          "data": {
            "text/plain": [
              "11"
            ]
          },
          "metadata": {
            "tags": []
          },
          "execution_count": 24
        }
      ]
    },
    {
      "cell_type": "code",
      "metadata": {
        "id": "oqXxoYC3W5kd",
        "colab_type": "code",
        "colab": {
          "base_uri": "https://localhost:8080/",
          "height": 35
        },
        "outputId": "64e3de82-e570-43a2-fe38-99f788684972"
      },
      "source": [
        "claim.startswith(planet)"
      ],
      "execution_count": null,
      "outputs": [
        {
          "output_type": "execute_result",
          "data": {
            "text/plain": [
              "True"
            ]
          },
          "metadata": {
            "tags": []
          },
          "execution_count": 25
        }
      ]
    },
    {
      "cell_type": "code",
      "metadata": {
        "id": "GikS40lHW--A",
        "colab_type": "code",
        "colab": {
          "base_uri": "https://localhost:8080/",
          "height": 35
        },
        "outputId": "7094ec3d-610f-4ba5-97ab-f525d32d1a07"
      },
      "source": [
        "claim.endswith('dwarf planet')"
      ],
      "execution_count": null,
      "outputs": [
        {
          "output_type": "execute_result",
          "data": {
            "text/plain": [
              "False"
            ]
          },
          "metadata": {
            "tags": []
          },
          "execution_count": 26
        }
      ]
    },
    {
      "cell_type": "markdown",
      "metadata": {
        "id": "C4lBwSxpSuwz",
        "colab_type": "text"
      },
      "source": [
        "### 文字列をリスト、リストを文字列に変換`split()`と`join()`\n",
        "\n",
        "`str.split()`はデフォルトはスペースで文字列を短い文字列のリストに変換する。長い文字列から単語を切り出すのに使える。\n"
      ]
    },
    {
      "cell_type": "code",
      "metadata": {
        "id": "400lbjnjSv-0",
        "colab_type": "code",
        "colab": {
          "base_uri": "https://localhost:8080/",
          "height": 35
        },
        "outputId": "b3a1074a-8644-4629-c6aa-47bbae652160"
      },
      "source": [
        "split = \"Pluto is a planet!\"\n",
        "words = claim.split()\n",
        "\n",
        "words"
      ],
      "execution_count": null,
      "outputs": [
        {
          "output_type": "execute_result",
          "data": {
            "text/plain": [
              "['Pluto', 'is', 'a', 'planet!']"
            ]
          },
          "metadata": {
            "tags": []
          },
          "execution_count": 28
        }
      ]
    },
    {
      "cell_type": "markdown",
      "metadata": {
        "id": "8VISfu3mSxXP",
        "colab_type": "text"
      },
      "source": [
        "ホワイトスペース以外の切れ目で切り分けたいときもあるでしょう。\n",
        "\n",
        "例えば :"
      ]
    },
    {
      "cell_type": "code",
      "metadata": {
        "id": "ZtRv5UdISzde",
        "colab_type": "code",
        "colab": {
          "base_uri": "https://localhost:8080/",
          "height": 35
        },
        "outputId": "6bd107c3-e47a-4d6b-d97e-e2eaed3e8cb1"
      },
      "source": [
        "datestr = '1956-01-31'\n",
        "\n",
        "year, month, day = datestr.split('-')\n",
        "\n",
        "(year, month, day)"
      ],
      "execution_count": null,
      "outputs": [
        {
          "output_type": "execute_result",
          "data": {
            "text/plain": [
              "('1956', '01', '31')"
            ]
          },
          "metadata": {
            "tags": []
          },
          "execution_count": 31
        }
      ]
    },
    {
      "cell_type": "markdown",
      "metadata": {
        "id": "boWa9cdSS0b0",
        "colab_type": "text"
      },
      "source": [
        "`str.join()`は逆に文字列のリストをひとつの文字列にする。関数を呼び出す際にセパレーターを指定する。\n"
      ]
    },
    {
      "cell_type": "code",
      "metadata": {
        "id": "s16WCzttS1y1",
        "colab_type": "code",
        "colab": {
          "base_uri": "https://localhost:8080/",
          "height": 35
        },
        "outputId": "547c8c5e-dbbb-4834-986b-aadf9aad27fa"
      },
      "source": [
        "'/'.join([month, day, year])"
      ],
      "execution_count": null,
      "outputs": [
        {
          "output_type": "execute_result",
          "data": {
            "application/vnd.google.colaboratory.intrinsic+json": {
              "type": "string"
            },
            "text/plain": [
              "'01/31/1956'"
            ]
          },
          "metadata": {
            "tags": []
          },
          "execution_count": 33
        }
      ]
    },
    {
      "cell_type": "code",
      "metadata": {
        "id": "otVdbd4QayIJ",
        "colab_type": "code",
        "colab": {
          "base_uri": "https://localhost:8080/",
          "height": 35
        },
        "outputId": "8d238368-9cb6-4d93-ee6a-3ca8e500cec0"
      },
      "source": [
        "# Yes, we can put unicode characters right in our string literals :)\n",
        "' 👏 '.join([word.upper() for word in words])\n",
        "'PLUTO 👏 IS 👏 A 👏 PLANET!'\n"
      ],
      "execution_count": null,
      "outputs": [
        {
          "output_type": "execute_result",
          "data": {
            "application/vnd.google.colaboratory.intrinsic+json": {
              "type": "string"
            },
            "text/plain": [
              "'PLUTO 👏 IS 👏 A 👏 PLANET!'"
            ]
          },
          "metadata": {
            "tags": []
          },
          "execution_count": 34
        }
      ]
    },
    {
      "cell_type": "markdown",
      "metadata": {
        "id": "UX_iTnmoa7Dj",
        "colab_type": "text"
      },
      "source": [
        "### 文字列の整形 `.format()`"
      ]
    },
    {
      "cell_type": "markdown",
      "metadata": {
        "id": "kZAHvg87S3AZ",
        "colab_type": "text"
      },
      "source": [
        "Pythonは`+`で文字列を結合できる。"
      ]
    },
    {
      "cell_type": "code",
      "metadata": {
        "id": "L-MF-CM6S4ou",
        "colab_type": "code",
        "colab": {
          "base_uri": "https://localhost:8080/",
          "height": 35
        },
        "outputId": "90b67c08-4f53-465c-d832-4e74c68b5899"
      },
      "source": [
        "planet + ', we miss you.'\n"
      ],
      "execution_count": null,
      "outputs": [
        {
          "output_type": "execute_result",
          "data": {
            "application/vnd.google.colaboratory.intrinsic+json": {
              "type": "string"
            },
            "text/plain": [
              "'Pluto, we miss you.'"
            ]
          },
          "metadata": {
            "tags": []
          },
          "execution_count": 35
        }
      ]
    },
    {
      "cell_type": "markdown",
      "metadata": {
        "id": "i-M2cNnMS51b",
        "colab_type": "text"
      },
      "source": [
        "文字列でないものを文字列と結合するときは、`str())`で文字列変換してから結合する。"
      ]
    },
    {
      "cell_type": "code",
      "metadata": {
        "id": "Et00pBNpS68l",
        "colab_type": "code",
        "colab": {
          "base_uri": "https://localhost:8080/",
          "height": 35
        },
        "outputId": "b445b098-7393-448a-c73a-5607768106a5"
      },
      "source": [
        "position = 9\n",
        "planet = 'Pluto'\n",
        "planet + \", you'll always be the \" + str(position) + \"th planet to me.\""
      ],
      "execution_count": null,
      "outputs": [
        {
          "output_type": "execute_result",
          "data": {
            "application/vnd.google.colaboratory.intrinsic+json": {
              "type": "string"
            },
            "text/plain": [
              "\"Pluto, you'll always be the 9th planet to me.\""
            ]
          },
          "metadata": {
            "tags": []
          },
          "execution_count": 3
        }
      ]
    },
    {
      "cell_type": "markdown",
      "metadata": {
        "id": "gebHj9cpS9xo",
        "colab_type": "text"
      },
      "source": [
        "`str.format()`は、引数に挿入したい値を入れるので、扱いやすい。\n",
        "\n",
        "プレースフォルダーとして`{}`を使い、引数は文字列以外も自動的に変換されるので`str{}`で文字列変換する必要がない。\n"
      ]
    },
    {
      "cell_type": "code",
      "metadata": {
        "id": "9g8ywliPS-91",
        "colab_type": "code",
        "colab": {
          "base_uri": "https://localhost:8080/",
          "height": 35
        },
        "outputId": "817b6c2e-786f-4bee-e62c-dcbcc51b1415"
      },
      "source": [
        "# use str.format()\n",
        "\"{}, you'll always be the {}th planet to me.\".format(planet, position)"
      ],
      "execution_count": null,
      "outputs": [
        {
          "output_type": "execute_result",
          "data": {
            "application/vnd.google.colaboratory.intrinsic+json": {
              "type": "string"
            },
            "text/plain": [
              "\"Pluto, you'll always be the 9th planet to me.\""
            ]
          },
          "metadata": {
            "tags": []
          },
          "execution_count": 4
        }
      ]
    },
    {
      "cell_type": "markdown",
      "metadata": {
        "id": "ysU-kBQlS_9x",
        "colab_type": "text"
      },
      "source": [
        "`str.format()`はもっとすごいことができる。\n",
        "\n",
        "以下はその一例。\n"
      ]
    },
    {
      "cell_type": "code",
      "metadata": {
        "id": "hcQ0CSnvTBFA",
        "colab_type": "code",
        "colab": {
          "base_uri": "https://localhost:8080/",
          "height": 35
        },
        "outputId": "2d6beaaf-bd05-450d-9eb9-c18162b70c46"
      },
      "source": [
        "pluto_mass = 1.303 * 10**22\n",
        "earth_mass = 5.9722 * 10**24\n",
        "population = 52910390\n",
        "# 2 decimal points   3 decimal points, format as percent     separate with commas\n",
        "\"{} weighs about {:.2} kilograms ({:.3%} of Earth's mass). It is home to {:,} Plutonians.\".format(\n",
        "    planet, pluto_mass, pluto_mass / earth_mass, population,\n",
        ")\n"
      ],
      "execution_count": null,
      "outputs": [
        {
          "output_type": "execute_result",
          "data": {
            "application/vnd.google.colaboratory.intrinsic+json": {
              "type": "string"
            },
            "text/plain": [
              "\"Pluto weighs about 1.3e+22 kilograms (0.218% of Earth's mass). It is home to 52,910,390 Plutonians.\""
            ]
          },
          "metadata": {
            "tags": []
          },
          "execution_count": 5
        }
      ]
    },
    {
      "cell_type": "code",
      "metadata": {
        "id": "NkjCPLI7PdaN",
        "colab_type": "code",
        "colab": {
          "base_uri": "https://localhost:8080/",
          "height": 84
        },
        "outputId": "132e04e4-bd6c-4fae-aad8-efaf0ac653b9"
      },
      "source": [
        "# Referring to format() arguments by index, starting from 0\n",
        "s = \"\"\"Pluto's a {0}.\n",
        "No, it's a {1}.\n",
        "{0}!\n",
        "{1}!\"\"\".format('planet', 'dwarf planet')\n",
        "print(s)"
      ],
      "execution_count": null,
      "outputs": [
        {
          "output_type": "stream",
          "text": [
            "Pluto's a planet.\n",
            "No, it's a dwarf planet.\n",
            "planet!\n",
            "dwarf planet!\n"
          ],
          "name": "stdout"
        }
      ]
    },
    {
      "cell_type": "markdown",
      "metadata": {
        "id": "nACCusLoTCFn",
        "colab_type": "text"
      },
      "source": [
        "`str.form`だけで1冊の本が書けます。興味のある方は、pyformat.info ( https://pyformat.info/ )と公式ドキュメント ( https://docs.python.org/3/library/string.html#string-formatting )を参照のこと。"
      ]
    },
    {
      "cell_type": "markdown",
      "metadata": {
        "id": "FgYRw1n-TDa2",
        "colab_type": "text"
      },
      "source": [
        "# 辞書\n",
        "\n",
        "辞書 `dictionary` はPythonに組み込まれたデータ型で、キーと値をマップしたもの。\n"
      ]
    },
    {
      "cell_type": "code",
      "metadata": {
        "id": "5EFBMlN_TEiA",
        "colab_type": "code",
        "colab": {
          "base_uri": "https://localhost:8080/",
          "height": 34
        },
        "outputId": "5bef05f3-9d07-44ec-abfe-f719c32d12e2"
      },
      "source": [
        "numbers = {'one':1, 'two':2, 'three':3}\n",
        "numbers"
      ],
      "execution_count": null,
      "outputs": [
        {
          "output_type": "stream",
          "text": [
            "{'one': 1, 'two': 2, 'three': 3}\n"
          ],
          "name": "stdout"
        }
      ]
    },
    {
      "cell_type": "markdown",
      "metadata": {
        "id": "1GzoJJQUTFvr",
        "colab_type": "text"
      },
      "source": [
        "この例の場合、'one', 'two', 'three'がキーで、1, 2, 3 が対応する値。\n",
        "\n",
        "値はリストや文字列のときのインデクスと似た文法でカギカッコ(`square bracket`)でアクセスできる。\n"
      ]
    },
    {
      "cell_type": "code",
      "metadata": {
        "id": "lDq_9HfKTGnZ",
        "colab_type": "code",
        "colab": {
          "base_uri": "https://localhost:8080/",
          "height": 35
        },
        "outputId": "2d3d2228-95dd-4b67-e4ad-542a1f146e81"
      },
      "source": [
        "numbers = {'one':1, 'two':2, 'three':3}\n",
        "numbers['three']"
      ],
      "execution_count": null,
      "outputs": [
        {
          "output_type": "execute_result",
          "data": {
            "text/plain": [
              "3"
            ]
          },
          "metadata": {
            "tags": []
          },
          "execution_count": 2
        }
      ]
    },
    {
      "cell_type": "markdown",
      "metadata": {
        "id": "ADZPRWG1THYW",
        "colab_type": "text"
      },
      "source": [
        "同じ文法で別のキー、値ペアを加える。\n"
      ]
    },
    {
      "cell_type": "code",
      "metadata": {
        "id": "RCJ7VNjMTIRA",
        "colab_type": "code",
        "colab": {
          "base_uri": "https://localhost:8080/",
          "height": 35
        },
        "outputId": "f636a353-7b47-43fc-a2b7-2d64fe28334d"
      },
      "source": [
        "numbers = {'one':1, 'two':2, 'three':3}\n",
        "numbers['eleven'] = 11\n",
        "numbers"
      ],
      "execution_count": null,
      "outputs": [
        {
          "output_type": "execute_result",
          "data": {
            "text/plain": [
              "{'eleven': 11, 'one': 1, 'three': 3, 'two': 2}"
            ]
          },
          "metadata": {
            "tags": []
          },
          "execution_count": 3
        }
      ]
    },
    {
      "cell_type": "markdown",
      "metadata": {
        "id": "LNS09vWSTJjZ",
        "colab_type": "text"
      },
      "source": [
        "すでにあるキーに結び付けられている値を変えるのも同じ。\n"
      ]
    },
    {
      "cell_type": "code",
      "metadata": {
        "id": "2QkQiPydTKpN",
        "colab_type": "code",
        "colab": {
          "base_uri": "https://localhost:8080/",
          "height": 35
        },
        "outputId": "91ee1e7d-7292-4871-f8cb-df5ab623e155"
      },
      "source": [
        "numbers = {'one':1, 'two':2, 'three':3}\n",
        "numbers['one'] = 'Pluto'\n",
        "numbers"
      ],
      "execution_count": null,
      "outputs": [
        {
          "output_type": "execute_result",
          "data": {
            "text/plain": [
              "{'one': 'Pluto', 'three': 3, 'two': 2}"
            ]
          },
          "metadata": {
            "tags": []
          },
          "execution_count": 4
        }
      ]
    },
    {
      "cell_type": "markdown",
      "metadata": {
        "id": "E__eIT3_TLsS",
        "colab_type": "text"
      },
      "source": [
        "リスト内包表記と似たやりかたで内包表記ができる。"
      ]
    },
    {
      "cell_type": "code",
      "metadata": {
        "id": "6FuRVTn2TM0i",
        "colab_type": "code",
        "colab": {
          "base_uri": "https://localhost:8080/",
          "height": 155
        },
        "outputId": "02afae05-fcdc-4f50-b12f-f11bf4d188e1"
      },
      "source": [
        "planets = ['Mercury', 'Venus', 'Earth', 'Mars', 'Jupiter', 'Saturn', 'Uranus', 'Neptune']\n",
        "planet_to_initial = { planet: planet[0] for planet in planets }\n",
        "planet_to_initial"
      ],
      "execution_count": null,
      "outputs": [
        {
          "output_type": "execute_result",
          "data": {
            "text/plain": [
              "{'Earth': 'E',\n",
              " 'Jupiter': 'J',\n",
              " 'Mars': 'M',\n",
              " 'Mercury': 'M',\n",
              " 'Neptune': 'N',\n",
              " 'Saturn': 'S',\n",
              " 'Uranus': 'U',\n",
              " 'Venus': 'V'}"
            ]
          },
          "metadata": {
            "tags": []
          },
          "execution_count": 13
        }
      ]
    },
    {
      "cell_type": "markdown",
      "metadata": {
        "id": "E3NiaXZ9TNzR",
        "colab_type": "text"
      },
      "source": [
        "`in` 演算子でキーの有無を知ることができる。"
      ]
    },
    {
      "cell_type": "code",
      "metadata": {
        "id": "x0kOs0s0TOsv",
        "colab_type": "code",
        "colab": {
          "base_uri": "https://localhost:8080/",
          "height": 52
        },
        "outputId": "eab1607b-0cf9-4001-d6a5-2ca34da29130"
      },
      "source": [
        "print ('Saturn' in planet_to_initial)\n",
        "print ('Betelgeuse' in planet_to_initial)"
      ],
      "execution_count": null,
      "outputs": [
        {
          "output_type": "stream",
          "text": [
            "True\n",
            "False\n"
          ],
          "name": "stdout"
        }
      ]
    },
    {
      "cell_type": "markdown",
      "metadata": {
        "id": "tHY7e_OMTPms",
        "colab_type": "text"
      },
      "source": [
        "辞書で`for`ループを行うとキーについてループする。\n"
      ]
    },
    {
      "cell_type": "code",
      "metadata": {
        "id": "mI8fEG97TRDU",
        "colab_type": "code",
        "colab": {
          "base_uri": "https://localhost:8080/",
          "height": 69
        },
        "outputId": "a5d95369-372e-4700-d663-e2aa76286798"
      },
      "source": [
        "numbers = {'one':1, 'two':2, 'three':3}\n",
        "for k in numbers:\n",
        "    print(\"{} = {}\".format(k, numbers[k]))"
      ],
      "execution_count": null,
      "outputs": [
        {
          "output_type": "stream",
          "text": [
            "one = 1\n",
            "two = 2\n",
            "three = 3\n"
          ],
          "name": "stdout"
        }
      ]
    },
    {
      "cell_type": "markdown",
      "metadata": {
        "id": "_Msq4B8JTS3I",
        "colab_type": "text"
      },
      "source": [
        "すべてのキーが欲しいときは`dict.keys()`、すべての値が欲しいときは`dict.values()`を使う。"
      ]
    },
    {
      "cell_type": "code",
      "metadata": {
        "id": "C-Rh7WXbTTvB",
        "colab_type": "code",
        "colab": {
          "base_uri": "https://localhost:8080/",
          "height": 35
        },
        "outputId": "da75bba9-d494-4948-c017-e0cd8126ea16"
      },
      "source": [
        "planets = ['Mercury', 'Venus', 'Earth', 'Mars', 'Jupiter', 'Saturn', 'Uranus', 'Neptune']\n",
        "planet_to_initial = { planet: planet[0] for planet in planets }\n",
        "\n",
        "# Get all the initials, sort them alphabetically, and put them in a space-separated string.\n",
        "' '.join(sorted(planet_to_initial.values()))\n"
      ],
      "execution_count": null,
      "outputs": [
        {
          "output_type": "execute_result",
          "data": {
            "application/vnd.google.colaboratory.intrinsic+json": {
              "type": "string"
            },
            "text/plain": [
              "'E J M M N S U V'"
            ]
          },
          "metadata": {
            "tags": []
          },
          "execution_count": 16
        }
      ]
    },
    {
      "cell_type": "markdown",
      "metadata": {
        "id": "T2k0VJiCdCBA",
        "colab_type": "text"
      },
      "source": [
        "キーと値のペアを同時に取得するには次のようにする。"
      ]
    },
    {
      "cell_type": "code",
      "metadata": {
        "id": "Yx1iNjdRTV60",
        "colab_type": "code",
        "colab": {
          "base_uri": "https://localhost:8080/",
          "height": 155
        },
        "outputId": "341d0eff-79f7-40f6-d186-112c5743109f"
      },
      "source": [
        "planets = ['Mercury', 'Venus', 'Earth', 'Mars', 'Jupiter', 'Saturn', 'Uranus', 'Neptune']\n",
        "planet_to_initial = { planet: planet[0] for planet in planets }\n",
        "\n",
        "for planet, initial in planet_to_initial.items():\n",
        "    print(\"{} begins with \\\"{}\\\"\".format(planet.rjust(10), initial))"
      ],
      "execution_count": null,
      "outputs": [
        {
          "output_type": "stream",
          "text": [
            "   Mercury begins with \"M\"\n",
            "     Venus begins with \"V\"\n",
            "     Earth begins with \"E\"\n",
            "      Mars begins with \"M\"\n",
            "   Jupiter begins with \"J\"\n",
            "    Saturn begins with \"S\"\n",
            "    Uranus begins with \"U\"\n",
            "   Neptune begins with \"N\"\n"
          ],
          "name": "stdout"
        }
      ]
    },
    {
      "cell_type": "markdown",
      "metadata": {
        "id": "MbnHvNGFdOmu",
        "colab_type": "text"
      },
      "source": [
        "'dict.items()'という専用のメソッドもある。"
      ]
    },
    {
      "cell_type": "code",
      "metadata": {
        "id": "n6M3o2c607O6",
        "colab_type": "code",
        "colab": {
          "base_uri": "https://localhost:8080/",
          "height": 155
        },
        "outputId": "8ae32967-a395-4c74-a85a-889241859fb3"
      },
      "source": [
        "for pair in planet_to_initial.items() :\n",
        "     print(\"{} begins with \\\"{}\\\"\".format(pair[0], pair[1]))"
      ],
      "execution_count": null,
      "outputs": [
        {
          "output_type": "stream",
          "text": [
            "Mercury begins with \"M\"\n",
            "Venus begins with \"V\"\n",
            "Earth begins with \"E\"\n",
            "Mars begins with \"M\"\n",
            "Jupiter begins with \"J\"\n",
            "Saturn begins with \"S\"\n",
            "Uranus begins with \"U\"\n",
            "Neptune begins with \"N\"\n"
          ],
          "name": "stdout"
        }
      ]
    },
    {
      "cell_type": "markdown",
      "metadata": {
        "id": "W0VPNjGZTWzG",
        "colab_type": "text"
      },
      "source": [
        "辞書のメソッドにほかにどんなものがあるかは、`help(dict)`、もしくは公式ドキュメントを参照のこと。"
      ]
    },
    {
      "cell_type": "markdown",
      "metadata": {
        "id": "UeMcY86PTaGD",
        "colab_type": "text"
      },
      "source": [
        "# 練習問題"
      ]
    },
    {
      "cell_type": "markdown",
      "metadata": {
        "id": "nIXtWCWSTdE8",
        "colab_type": "text"
      },
      "source": [
        "### 問題 0 文字列の長さ\n",
        "\n",
        "次のプログラムの結果を予想してから実行する。\n"
      ]
    },
    {
      "cell_type": "code",
      "metadata": {
        "id": "zAROb5mqUFt4",
        "colab_type": "code",
        "colab": {
          "base_uri": "https://localhost:8080/",
          "height": 104
        },
        "outputId": "2fdca98f-dd6c-4bc1-fba0-60695820fb31"
      },
      "source": [
        "a = \"\"\n",
        "length = len(a)\n",
        "print (length)\n",
        "\n",
        "b = \"it's ok\"\n",
        "length = len(b)\n",
        "print (length)\n",
        "\n",
        "c = 'it\\'s ok'\n",
        "length = len(c)\n",
        "print (length)\n",
        "\n",
        "d = \"\"\"hey\"\"\"\n",
        "length = len(d)\n",
        "print (length)\n",
        "\n",
        "e = '\\n'\n",
        "length = len(e)\n",
        "print (length)"
      ],
      "execution_count": null,
      "outputs": [
        {
          "output_type": "stream",
          "text": [
            "0\n",
            "7\n",
            "7\n",
            "3\n",
            "1\n"
          ],
          "name": "stdout"
        }
      ]
    },
    {
      "cell_type": "markdown",
      "metadata": {
        "id": "QQCjZcQVUHUf",
        "colab_type": "text"
      },
      "source": [
        "### 問題 1 データサイエンス\n",
        "\n",
        "データサイエンス学者は80%の時間をデータクリーニングに使い、残りの20%はデータクリーニングへの不平を言っている、という言い回しがある。\n",
        "\n",
        "アメリカの郵便番号をチェックするプログラムをつくる。今回は文字列がちょうど5桁であればオーケーとしよう。\n",
        "\n",
        "`str`のメソッドを調べるには`help(str)`を使う。"
      ]
    },
    {
      "cell_type": "code",
      "metadata": {
        "id": "rjZbw1-CUKcC",
        "colab_type": "code",
        "colab": {
          "base_uri": "https://localhost:8080/",
          "height": 86
        },
        "outputId": "6534047d-838d-44f1-cc3b-579ff090229b"
      },
      "source": [
        "def is_valid_zip(zip_code):\n",
        "    \"\"\"Returns whether the input string is a valid (5 digit) zip code\n",
        "    \"\"\"\n",
        "    return len(zip_code) == 5\n",
        "\n",
        "print (is_valid_zip(\"12\"))\n",
        "print (is_valid_zip(\"12345\"))\n",
        "print (is_valid_zip(\"123456\"))\n",
        "print (is_valid_zip(\"\"))\n",
        "\n"
      ],
      "execution_count": null,
      "outputs": [
        {
          "output_type": "stream",
          "text": [
            "False\n",
            "True\n",
            "False\n",
            "False\n"
          ],
          "name": "stdout"
        }
      ]
    },
    {
      "cell_type": "markdown",
      "metadata": {
        "id": "35mV2wguUMCN",
        "colab_type": "text"
      },
      "source": [
        "### 問題 2. フィルタリング\n",
        "\n",
        "とある研究者が数千のニュース記事を集めた。特定の単語で記事をフィルターにかけたいと考えている。そのための関数を作る。\n",
        "\n",
        "関数は次の基準を満たすものとする。\n",
        "\n",
        "- キーワードは単独で現れるものだけをとる。つまり\"closed\"だったら、\"enclosed\"は含まれない。\n",
        "- 大文字小文字は区別しない。つまりキーワードが\"closed\"ならば\"Closed the case.\"は含まれる。\n",
        "- ピリオドはマッチに影響しない。\"It is closed.\"は含まれる。他の句読点はないものとしてよい。"
      ]
    },
    {
      "cell_type": "code",
      "metadata": {
        "id": "W1of5bkYUOPF",
        "colab_type": "code",
        "colab": {
          "base_uri": "https://localhost:8080/",
          "height": 35
        },
        "outputId": "cabde228-d800-48fa-da86-ec42ce536ccb"
      },
      "source": [
        "def word_search(doc_list, keyword):\n",
        "    \"\"\"\n",
        "    Takes a list of documents (each document is a string) and a keyword. \n",
        "    Returns list of the index values into the original list for all documents \n",
        "    containing the keyword.\n",
        "\n",
        "    Example:\n",
        "    doc_list = [\"The Learn Python Challenge Casino.\", \"They bought a car\", \"Casinoville\"]\n",
        "    >>> word_search(doc_list, 'casino')\n",
        "    >>> [0]\n",
        "    \"\"\"\n",
        "    match = [doc.lower().strip(\".\").split().count(keyword.lower()) for doc in doc_list]\n",
        "    dictOfMatch = { i : match[i] for i in range(0, len(match))}\n",
        "    return  [key for key in dictOfMatch if dictOfMatch[key] > 0]\n",
        "\n",
        "doc_list = [\"The Learn Python Challenge Casino.\", \"They bought a car\", \"Casinoville\"]\n",
        "word_search(doc_list, 'casino')\n"
      ],
      "execution_count": 19,
      "outputs": [
        {
          "output_type": "execute_result",
          "data": {
            "text/plain": [
              "[0]"
            ]
          },
          "metadata": {
            "tags": []
          },
          "execution_count": 19
        }
      ]
    },
    {
      "cell_type": "markdown",
      "metadata": {
        "id": "XqM-LiFwUPX7",
        "colab_type": "text"
      },
      "source": [
        "## 問題 3 複数キーワード検索\n",
        "\n",
        "次に、研究者は複数のキーワードで検索したい、と思った。\n",
        "\n",
        "いま作った`word_search`を利用して次の関数を作ること。\n"
      ]
    },
    {
      "cell_type": "code",
      "metadata": {
        "id": "b0gLA2d0UQhF",
        "colab_type": "code",
        "colab": {
          "base_uri": "https://localhost:8080/",
          "height": 35
        },
        "outputId": "ea4de62d-7e7b-49ba-a1e0-7654a9d56c78"
      },
      "source": [
        "def multi_word_search(doc_list, keywords):\n",
        "    \"\"\"\n",
        "    Takes list of documents (each document is a string) and a list of keywords.  \n",
        "    Returns a dictionary where each key is a keyword, and the value is a list of indices\n",
        "    (from doc_list) of the documents containing that keyword\n",
        "\n",
        "    >>> doc_list = [\"The Learn Python Challenge Casino.\", \"They bought a car and a casino\", \"Casinoville\"]\n",
        "    >>> keywords = ['casino', 'they']\n",
        "    >>> multi_word_search(doc_list, keywords)\n",
        "    {'casino': [0, 1], 'they': [1]}\n",
        "    \"\"\"\n",
        "    dictOfMatch = { keyword : word_search(doc_list, keyword) for keyword in keywords }\n",
        "    \n",
        "    return dictOfMatch\n",
        "\n",
        "doc_list = [\"The Learn Python Challenge Casino.\", \"They bought a car and a casino\", \"Casinoville\"]\n",
        "keywords = ['casino', 'they']\n",
        "\n",
        "multi_word_search(doc_list, keywords)"
      ],
      "execution_count": 26,
      "outputs": [
        {
          "output_type": "execute_result",
          "data": {
            "text/plain": [
              "{'casino': [0, 1], 'they': [1]}"
            ]
          },
          "metadata": {
            "tags": []
          },
          "execution_count": 26
        }
      ]
    }
  ]
}