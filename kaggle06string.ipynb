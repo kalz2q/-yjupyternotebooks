{
  "nbformat": 4,
  "nbformat_minor": 0,
  "metadata": {
    "colab": {
      "name": "kaggle06string.ipynb",
      "provenance": [],
      "toc_visible": true,
      "authorship_tag": "ABX9TyNFunNSvgBL61ydLIQkkSwF",
      "include_colab_link": true
    },
    "kernelspec": {
      "name": "python3",
      "display_name": "Python 3"
    }
  },
  "cells": [
    {
      "cell_type": "markdown",
      "metadata": {
        "id": "view-in-github",
        "colab_type": "text"
      },
      "source": [
        "<a href=\"https://colab.research.google.com/github/kalz2q/mycolabnotebooks/blob/master/kaggle06string.ipynb\" target=\"_parent\"><img src=\"https://colab.research.google.com/assets/colab-badge.svg\" alt=\"Open In Colab\"/></a>"
      ]
    },
    {
      "cell_type": "markdown",
      "metadata": {
        "id": "kYx20gNtAiGy",
        "colab_type": "text"
      },
      "source": [
        "# kaggle06string.ipynb"
      ]
    },
    {
      "cell_type": "markdown",
      "metadata": {
        "id": "5K849kXOfnPj",
        "colab_type": "text"
      },
      "source": [
        "# メモ\n",
        "\n",
        "1.  kaggleのPython tutorialをベスにColabのノートブックを作成している。\n",
        "1.  Colabで開いて読まれることを想定。\n",
        "1.  元ファイル (\n",
        "https://www.kaggle.com/colinmorris/strings-and-dictionaries )\n",
        "\n"
      ]
    },
    {
      "cell_type": "markdown",
      "metadata": {
        "id": "x2LVPJLMA11H",
        "colab_type": "text"
      },
      "source": [
        "# 文字列\n",
        "\n",
        "Pythonは文字列の扱いが得意で、この章ではPythonに組み込まれている関数とフォーマット処理について述べる。\n",
        "\n",
        "文字列操作はしばしば科学研究の文脈で使われ、Pythonの特典のひとつと言える。\n"
      ]
    },
    {
      "cell_type": "markdown",
      "metadata": {
        "id": "5m3Y_QU8RwKT",
        "colab_type": "text"
      },
      "source": [
        "### 文字列文法\n",
        "\n",
        "復習になるが、Pythonの文字列はシングルクォートでもダブルクォートでも作ることができて、機能的に全く同じである。\n"
      ]
    },
    {
      "cell_type": "code",
      "metadata": {
        "id": "_jcckYmDRysY",
        "colab_type": "code",
        "colab": {
          "base_uri": "https://localhost:8080/",
          "height": 34
        },
        "outputId": "c1b1d993-7b91-4626-9137-60378f998309"
      },
      "source": [
        "x = 'Pluto is a planet'\n",
        "y = \"Pluto is a planet\"\n",
        "x == y"
      ],
      "execution_count": 1,
      "outputs": [
        {
          "output_type": "execute_result",
          "data": {
            "text/plain": [
              "True"
            ]
          },
          "metadata": {
            "tags": []
          },
          "execution_count": 1
        }
      ]
    },
    {
      "cell_type": "markdown",
      "metadata": {
        "id": "BLUcgTl-R0l4",
        "colab_type": "text"
      },
      "source": [
        "文字列がアポストロフィなどシングルクォートを含んでいる場合はダブルクォートが便利だし、逆にダブルクォートを含んでいる場合はシングルクォートが便利。\n"
      ]
    },
    {
      "cell_type": "code",
      "metadata": {
        "id": "-DJ8dJPXR5dK",
        "colab_type": "code",
        "colab": {
          "base_uri": "https://localhost:8080/",
          "height": 50
        },
        "outputId": "04e31ffc-f867-406a-e7ec-9a529acceeb5"
      },
      "source": [
        "print(\"Pluto's a planet!\")\n",
        "print('My dog is named \"Pluto\"')"
      ],
      "execution_count": 2,
      "outputs": [
        {
          "output_type": "stream",
          "text": [
            "Pluto's a planet!\n",
            "My dog is named \"Pluto\"\n"
          ],
          "name": "stdout"
        }
      ]
    },
    {
      "cell_type": "markdown",
      "metadata": {
        "id": "_DNvo59QR7O5",
        "colab_type": "text"
      },
      "source": [
        "シングルクォートで囲んだ文字列の中にシングルクォートがあればエラーになる。\n"
      ]
    },
    {
      "cell_type": "code",
      "metadata": {
        "id": "quyLN7KQSDT_",
        "colab_type": "code",
        "colab": {}
      },
      "source": [
        "# 'Pluto's a planet!'"
      ],
      "execution_count": null,
      "outputs": []
    },
    {
      "cell_type": "markdown",
      "metadata": {
        "id": "g9muXd1QSE5U",
        "colab_type": "text"
      },
      "source": [
        "このような場合、バックスラッシュでエスケープすることができる。\n"
      ]
    },
    {
      "cell_type": "code",
      "metadata": {
        "id": "9SS6QbnxSGrt",
        "colab_type": "code",
        "colab": {
          "base_uri": "https://localhost:8080/",
          "height": 35
        },
        "outputId": "70ad1a7f-b7be-4f4a-c717-5705e39a9f6a"
      },
      "source": [
        "'Pluto\\'s a planet!'"
      ],
      "execution_count": 4,
      "outputs": [
        {
          "output_type": "execute_result",
          "data": {
            "application/vnd.google.colaboratory.intrinsic": {
              "type": "string"
            },
            "text/plain": [
              "\"Pluto's a planet!\""
            ]
          },
          "metadata": {
            "tags": []
          },
          "execution_count": 4
        }
      ]
    },
    {
      "cell_type": "markdown",
      "metadata": {
        "id": "7pmynJS0SJXq",
        "colab_type": "text"
      },
      "source": [
        "次の表はバックスラッシュの用法についてまとめたもの。\n"
      ]
    },
    {
      "cell_type": "markdown",
      "metadata": {
        "id": "i1y6baW2oaB7",
        "colab_type": "text"
      },
      "source": [
        "# いまここ"
      ]
    },
    {
      "cell_type": "markdown",
      "metadata": {
        "id": "2FRAyEgtSK_h",
        "colab_type": "text"
      },
      "source": [
        "| What you type... |\tWhat you get |\texample\t| print(example) |\n",
        "| --- | --- | --- | --- |\n",
        "|\\\\'  |\t'\t| 'What\\\\'s up?'\t| What's up? |\n",
        "| \\\\\"  |\t\"\t| \"That's \\\\\"cool\\\\\"\\\" |\tThat's \"cool\" |\n",
        "| \\\\\\  |\t\\\t| \"Look, a mountain: /\\\\\"\t| Look, a mountain: /\\ |\n",
        "| \\\\n  |\t | \"1\\n2 3\" |\t1  |\n",
        "|  |  | | 2 3 |\n"
      ]
    },
    {
      "cell_type": "markdown",
      "metadata": {
        "id": "2XbJYKLpSNU8",
        "colab_type": "text"
      },
      "source": [
        "表の最後の行の`\\n`は、改行文字を表し、Pythonでは改行して新しい行になる。\n"
      ]
    },
    {
      "cell_type": "code",
      "metadata": {
        "id": "PdE75B7cSQE0",
        "colab_type": "code",
        "colab": {
          "base_uri": "https://localhost:8080/",
          "height": 50
        },
        "outputId": "5b2056e6-e431-4867-8348-3deda7147011"
      },
      "source": [
        "hello = \"hello\\nworld\"\n",
        "print(hello)"
      ],
      "execution_count": 5,
      "outputs": [
        {
          "output_type": "stream",
          "text": [
            "hello\n",
            "world\n"
          ],
          "name": "stdout"
        }
      ]
    },
    {
      "cell_type": "markdown",
      "metadata": {
        "id": "X0P8Z55PSSnS",
        "colab_type": "text"
      },
      "source": [
        "\n",
        "In addition, Python's triple quote syntax for strings lets us include newlines literally (i.e. by just hitting 'Enter' on our keyboard, rather than using the special '\\n' sequence). We've already seen this in the docstrings we use to document our functions, but we can use them anywhere we want to define a string.\n"
      ]
    },
    {
      "cell_type": "markdown",
      "metadata": {
        "id": "dyGjStwaSUmi",
        "colab_type": "text"
      },
      "source": [
        "\n",
        "```\n",
        "triplequoted_hello = \"\"\"hello\n",
        "world\"\"\"\n",
        "print(triplequoted_hello)\n",
        "triplequoted_hello == hello\n",
        "hello\n",
        "world\n",
        "True\n",
        "```\n"
      ]
    },
    {
      "cell_type": "markdown",
      "metadata": {
        "id": "naFxE9IhSWF7",
        "colab_type": "text"
      },
      "source": [
        "\n",
        "The print() function automatically adds a newline character unless we specify a value for the keyword argument end other than the default value of '\\n':\n"
      ]
    },
    {
      "cell_type": "markdown",
      "metadata": {
        "id": "_Fa_VprGSXnj",
        "colab_type": "text"
      },
      "source": [
        "\n",
        "```\n",
        "print(\"hello\")\n",
        "print(\"world\")\n",
        "print(\"hello\", end='')\n",
        "print(\"pluto\", end='')\n",
        "\n",
        "hello\n",
        "world\n",
        "hellopluto\n",
        "```\n"
      ]
    },
    {
      "cell_type": "markdown",
      "metadata": {
        "id": "kIAb25k8SZc7",
        "colab_type": "text"
      },
      "source": [
        "\n",
        "### Strings are sequences\n",
        "\n",
        "Strings can be thought of as sequences of characters. Almost everything we've seen that we can do to a list, we can also do to a string.\n"
      ]
    },
    {
      "cell_type": "markdown",
      "metadata": {
        "id": "GVRcyZj1Sb6i",
        "colab_type": "text"
      },
      "source": [
        "\n",
        "```\n",
        "# Indexing\n",
        "planet = 'Pluto'\n",
        "planet[0]\n",
        "'P'\n",
        "```\n"
      ]
    },
    {
      "cell_type": "markdown",
      "metadata": {
        "id": "5UetN5SISdYl",
        "colab_type": "text"
      },
      "source": [
        "\n",
        "```\n",
        "# Slicing\n",
        "planet[-3:]\n",
        "'uto'\n",
        "```\n"
      ]
    },
    {
      "cell_type": "markdown",
      "metadata": {
        "id": "W1Xd1fpNSf3H",
        "colab_type": "text"
      },
      "source": [
        "\n",
        "```\n",
        "# How long is this string?\n",
        "len(planet)\n",
        "5\n",
        "```\n"
      ]
    },
    {
      "cell_type": "markdown",
      "metadata": {
        "id": "J-zZ_GEuSiZL",
        "colab_type": "text"
      },
      "source": [
        "\n",
        "```\n",
        "# Yes, we can even loop over them\n",
        "[char+'! ' for char in planet]\n",
        "['P! ', 'l! ', 'u! ', 't! ', 'o! ']\n",
        "```\n"
      ]
    },
    {
      "cell_type": "markdown",
      "metadata": {
        "id": "VNpfyMSmSj9x",
        "colab_type": "text"
      },
      "source": [
        "\n",
        "But a major way in which they differ from lists is that they are immutable. We can't modify them.\n"
      ]
    },
    {
      "cell_type": "markdown",
      "metadata": {
        "id": "BPZyz4VXSl-H",
        "colab_type": "text"
      },
      "source": [
        "\n",
        "```\n",
        "planet[0] = 'B'\n",
        "# planet.append doesn't work either\n",
        "---------------------------------------------------------------------------\n",
        "TypeError                                 Traceback (most recent call last)\n",
        "<ipython-input-12-6ca42463b9f9> in <module>\n",
        "----> 1 planet[0] = 'B'\n",
        "      2 # planet.append doesn't work either\n",
        "\n",
        "TypeError: 'str' object does not support item assignment\n",
        "```\n"
      ]
    },
    {
      "cell_type": "markdown",
      "metadata": {
        "id": "pVRDChLjSpNR",
        "colab_type": "text"
      },
      "source": [
        "\n",
        "\n",
        "### String methods\n",
        "Like list, the type str has lots of very useful methods. I'll show just a few examples here.\n"
      ]
    },
    {
      "cell_type": "markdown",
      "metadata": {
        "id": "QovR__QiSq1X",
        "colab_type": "text"
      },
      "source": [
        "\n",
        "```\n",
        "# ALL CAPS\n",
        "claim = \"Pluto is a planet!\"\n",
        "claim.upper()\n",
        "'PLUTO IS A PLANET!'\n",
        "```\n"
      ]
    },
    {
      "cell_type": "markdown",
      "metadata": {
        "id": "FUb3KBsgSsPe",
        "colab_type": "text"
      },
      "source": [
        "\n",
        "```\n",
        "# all lowercase\n",
        "claim.lower()\n",
        "'pluto is a planet!'\n",
        "```\n"
      ]
    },
    {
      "cell_type": "markdown",
      "metadata": {
        "id": "rZTwT6Z0Sts6",
        "colab_type": "text"
      },
      "source": [
        "\n",
        "```\n",
        "# Searching for the first index of a substring\n",
        "claim.index('plan')\n",
        "11\n",
        "claim.startswith(planet)\n",
        "True\n",
        "claim.endswith('dwarf planet')\n",
        "False\n",
        "```\n"
      ]
    },
    {
      "cell_type": "markdown",
      "metadata": {
        "id": "C4lBwSxpSuwz",
        "colab_type": "text"
      },
      "source": [
        "\n",
        "Going between strings and lists: .split() and .join()\n",
        "\n",
        "str.split() turns a string into a list of smaller strings, breaking on whitespace by default. This is super useful for taking you from one big string to a list of words.\n"
      ]
    },
    {
      "cell_type": "markdown",
      "metadata": {
        "id": "400lbjnjSv-0",
        "colab_type": "text"
      },
      "source": [
        "\n",
        "words = claim.split()\n",
        "words\n",
        "['Pluto', 'is', 'a', 'planet!']\n"
      ]
    },
    {
      "cell_type": "markdown",
      "metadata": {
        "id": "8VISfu3mSxXP",
        "colab_type": "text"
      },
      "source": [
        "\n",
        "```\n",
        "Occasionally you'll want to split on something other than whitespace:\n",
        "```\n"
      ]
    },
    {
      "cell_type": "markdown",
      "metadata": {
        "id": "ZtRv5UdISzde",
        "colab_type": "text"
      },
      "source": [
        "\n",
        "datestr = '1956-01-31'\n",
        "year, month, day = datestr.split('-')\n",
        "```\n"
      ]
    },
    {
      "cell_type": "markdown",
      "metadata": {
        "id": "boWa9cdSS0b0",
        "colab_type": "text"
      },
      "source": [
        "\n",
        "str.join() takes us in the other direction, sewing a list of strings up into one long string, using the string it was called on as a separator.\n"
      ]
    },
    {
      "cell_type": "markdown",
      "metadata": {
        "id": "s16WCzttS1y1",
        "colab_type": "text"
      },
      "source": [
        "\n",
        "```\n",
        "'/'.join([month, day, year])\n",
        "'01/31/1956'\n",
        "# Yes, we can put unicode characters right in our string literals :)\n",
        "' 👏 '.join([word.upper() for word in words])\n",
        "'PLUTO 👏 IS 👏 A 👏 PLANET!'\n",
        "Building strings with .format()\n",
        "```\n"
      ]
    },
    {
      "cell_type": "markdown",
      "metadata": {
        "id": "kZAHvg87S3AZ",
        "colab_type": "text"
      },
      "source": [
        "\n",
        "Python lets us concatenate strings with the + operator.\n"
      ]
    },
    {
      "cell_type": "markdown",
      "metadata": {
        "id": "L-MF-CM6S4ou",
        "colab_type": "text"
      },
      "source": [
        "\n",
        "```\n",
        "planet + ', we miss you.'\n",
        "'Pluto, we miss you.'\n",
        "```\n"
      ]
    },
    {
      "cell_type": "markdown",
      "metadata": {
        "id": "i-M2cNnMS51b",
        "colab_type": "text"
      },
      "source": [
        "\n",
        "If we want to throw in any non-string objects, we have to be careful to call str() on them first\n"
      ]
    },
    {
      "cell_type": "markdown",
      "metadata": {
        "id": "Et00pBNpS68l",
        "colab_type": "text"
      },
      "source": [
        "\n",
        "```\n",
        "position = 9\n",
        "planet + \", you'll always be the \" + position + \"th planet to me.\"\n",
        "---------------------------------------------------------------------------\n",
        "TypeError                                 Traceback (most recent call last)\n",
        "<ipython-input-23-73295f9638cc> in <module>\n",
        "      1 position = 9\n",
        "----> 2 planet + \", you'll always be the \" + position + \"th planet to me.\"\n",
        "\n",
        "TypeError: must be str, not int\n",
        "planet + \", you'll always be the \" + str(position) + \"th planet to me.\"\n",
        "\"Pluto, you'll always be the 9th planet to me.\"\n",
        "```\n"
      ]
    },
    {
      "cell_type": "markdown",
      "metadata": {
        "id": "gebHj9cpS9xo",
        "colab_type": "text"
      },
      "source": [
        "\n",
        "This is getting hard to read and annoying to type. str.format() to the rescue.\n"
      ]
    },
    {
      "cell_type": "markdown",
      "metadata": {
        "id": "9g8ywliPS-91",
        "colab_type": "text"
      },
      "source": [
        "\n",
        "```\n",
        "\"{}, you'll always be the {}th planet to me.\".format(planet, position)\n",
        "\"Pluto, you'll always be the 9th planet to me.\"\n",
        "```\n"
      ]
    },
    {
      "cell_type": "markdown",
      "metadata": {
        "id": "ysU-kBQlS_9x",
        "colab_type": "text"
      },
      "source": [
        "\n",
        "So much cleaner! We call .format() on a \"format string\", where the Python values we want to insert are represented with {} placeholders.\n",
        "\n",
        "Notice how we didn't even have to call str() to convert position from an int. format() takes care of that for us.\n",
        "\n",
        "If that was all that format() did, it would still be incredibly useful. But as it turns out, it can do a lot more. Here's just a taste:\n"
      ]
    },
    {
      "cell_type": "markdown",
      "metadata": {
        "id": "hcQ0CSnvTBFA",
        "colab_type": "text"
      },
      "source": [
        "\n",
        "```\n",
        "pluto_mass = 1.303 * 10**22\n",
        "earth_mass = 5.9722 * 10**24\n",
        "population = 52910390\n",
        "#         2 decimal points   3 decimal points, format as percent     separate with commas\n",
        "\"{} weighs about {:.2} kilograms ({:.3%} of Earth's mass). It is home to {:,} Plutonians.\".format(\n",
        "    planet, pluto_mass, pluto_mass / earth_mass, population,\n",
        ")\n",
        "\"Pluto weighs about 1.3e+22 kilograms (0.218% of Earth's mass). It is home to 52,910,390 Plutonians.\"\n",
        "# Referring to format() arguments by index, starting from 0\n",
        "s = \"\"\"Pluto's a {0}.\n",
        "No, it's a {1}.\n",
        "{0}!\n",
        "{1}!\"\"\".format('planet', 'dwarf planet')\n",
        "print(s)\n",
        "Pluto's a planet.\n",
        "No, it's a dwarf planet.\n",
        "planet!\n",
        "dwarf planet!\n",
        "```\n"
      ]
    },
    {
      "cell_type": "markdown",
      "metadata": {
        "id": "nACCusLoTCFn",
        "colab_type": "text"
      },
      "source": [
        "\n",
        "\n",
        "\n",
        "You could probably write a short book just on str.format, so I'll stop here, and point you to pyformat.info and the official docs for further reading.\n"
      ]
    },
    {
      "cell_type": "markdown",
      "metadata": {
        "id": "FgYRw1n-TDa2",
        "colab_type": "text"
      },
      "source": [
        "\n",
        "\n",
        "# Dictionaries\n",
        "\n",
        "Dictionaries are a built-in Python data structure for mapping keys to values.\n"
      ]
    },
    {
      "cell_type": "markdown",
      "metadata": {
        "id": "5EFBMlN_TEiA",
        "colab_type": "text"
      },
      "source": [
        "\n",
        "\n",
        "```\n",
        "numbers = {'one':1, 'two':2, 'three':3}\n",
        "```\n"
      ]
    },
    {
      "cell_type": "markdown",
      "metadata": {
        "id": "1GzoJJQUTFvr",
        "colab_type": "text"
      },
      "source": [
        "\n",
        "In this case 'one', 'two', and 'three' are the keys, and 1, 2 and 3 are their corresponding values.\n",
        "\n",
        "Values are accessed via square bracket syntax similar to indexing into lists and strings.\n"
      ]
    },
    {
      "cell_type": "markdown",
      "metadata": {
        "id": "lDq_9HfKTGnZ",
        "colab_type": "text"
      },
      "source": [
        "\n",
        "\n",
        "```\n",
        "numbers['one']\n",
        "1\n",
        "```\n"
      ]
    },
    {
      "cell_type": "markdown",
      "metadata": {
        "id": "ADZPRWG1THYW",
        "colab_type": "text"
      },
      "source": [
        "\n",
        "We can use the same syntax to add another key, value \n"
      ]
    },
    {
      "cell_type": "markdown",
      "metadata": {
        "id": "RCJ7VNjMTIRA",
        "colab_type": "text"
      },
      "source": [
        "\n",
        "```\n",
        "numbers['eleven'] = 11\n",
        "numbers\n",
        "{'one': 1, 'two': 2, 'three': 3, 'eleven': 11}\n",
        "```\n"
      ]
    },
    {
      "cell_type": "markdown",
      "metadata": {
        "id": "LNS09vWSTJjZ",
        "colab_type": "text"
      },
      "source": [
        "\n",
        "Or to change the value associated with an existing key\n"
      ]
    },
    {
      "cell_type": "markdown",
      "metadata": {
        "id": "2QkQiPydTKpN",
        "colab_type": "text"
      },
      "source": [
        "\n",
        "```\n",
        "numbers['one'] = 'Pluto'\n",
        "numbers\n",
        "{'one': 'Pluto', 'two': 2, 'three': 3, 'eleven': 11}\n",
        "```\n"
      ]
    },
    {
      "cell_type": "markdown",
      "metadata": {
        "id": "E__eIT3_TLsS",
        "colab_type": "text"
      },
      "source": [
        "\n",
        "Python has dictionary comprehensions with a syntax similar to the list comprehensions we saw in the previous tutorial.\n"
      ]
    },
    {
      "cell_type": "markdown",
      "metadata": {
        "id": "6FuRVTn2TM0i",
        "colab_type": "text"
      },
      "source": [
        "\n",
        "```\n",
        "planets = ['Mercury', 'Venus', 'Earth', 'Mars', 'Jupiter', 'Saturn', 'Uranus', 'Neptune']\n",
        "planet_to_initial = {planet: planet[0] for planet in planets}\n",
        "planet_to_initial\n",
        "{'Mercury': 'M',\n",
        " 'Venus': 'V',\n",
        " 'Earth': 'E',\n",
        " 'Mars': 'M',\n",
        " 'Jupiter': 'J',\n",
        " 'Saturn': 'S',\n",
        " 'Uranus': 'U',\n",
        " 'Neptune': 'N'}\n",
        "```\n"
      ]
    },
    {
      "cell_type": "markdown",
      "metadata": {
        "id": "E3NiaXZ9TNzR",
        "colab_type": "text"
      },
      "source": [
        "\n",
        "The in operator tells us whether something is a key in the dictionary\n"
      ]
    },
    {
      "cell_type": "markdown",
      "metadata": {
        "id": "x0kOs0s0TOsv",
        "colab_type": "text"
      },
      "source": [
        "\n",
        "```\n",
        "'Saturn' in planet_to_initial\n",
        "True\n",
        "'Betelgeuse' in planet_to_initial\n",
        "False\n",
        "```\n"
      ]
    },
    {
      "cell_type": "markdown",
      "metadata": {
        "id": "tHY7e_OMTPms",
        "colab_type": "text"
      },
      "source": [
        "\n",
        "A for loop over a dictionary will loop over its keys\n"
      ]
    },
    {
      "cell_type": "markdown",
      "metadata": {
        "id": "mI8fEG97TRDU",
        "colab_type": "text"
      },
      "source": [
        "\n",
        "for k in numbers:\n",
        "    print(\"{} = {}\".format(k, numbers[k]))\n",
        "one = Pluto\n",
        "two = 2\n",
        "three = 3\n",
        "eleven = 11\n",
        "```\n"
      ]
    },
    {
      "cell_type": "markdown",
      "metadata": {
        "id": "_Msq4B8JTS3I",
        "colab_type": "text"
      },
      "source": [
        "\n",
        "We can access a collection of all the keys or all the values with dict.keys() and dict.values(), respectively.\n"
      ]
    },
    {
      "cell_type": "markdown",
      "metadata": {
        "id": "C-Rh7WXbTTvB",
        "colab_type": "text"
      },
      "source": [
        "\n",
        "```\n",
        "# Get all the initials, sort them alphabetically, and put them in a space-separated string.\n",
        "' '.join(sorted(planet_to_initial.values()))\n",
        "'E J M M N S U V'\n",
        "```\n"
      ]
    },
    {
      "cell_type": "markdown",
      "metadata": {
        "id": "XeUDkcq5TUu7",
        "colab_type": "text"
      },
      "source": [
        "\n",
        "The very useful dict.items() method lets us iterate over the keys and values of a dictionary simultaneously. (In Python jargon, an item refers to a key, value pair)\n"
      ]
    },
    {
      "cell_type": "markdown",
      "metadata": {
        "id": "Yx1iNjdRTV60",
        "colab_type": "text"
      },
      "source": [
        "\n",
        "```\n",
        "for planet, initial in planet_to_initial.items():\n",
        "    print(\"{} begins with \\\"{}\\\"\".format(planet.rjust(10), initial))\n",
        "   Mercury begins with \"M\"\n",
        "     Venus begins with \"V\"\n",
        "     Earth begins with \"E\"\n",
        "      Mars begins with \"M\"\n",
        "   Jupiter begins with \"J\"\n",
        "    Saturn begins with \"S\"\n",
        "    Uranus begins with \"U\"\n",
        "   Neptune begins with \"N\"\n",
        "```\n"
      ]
    },
    {
      "cell_type": "markdown",
      "metadata": {
        "id": "W0VPNjGZTWzG",
        "colab_type": "text"
      },
      "source": [
        "\n",
        "To read a full inventory of dictionaries' methods, click the \"output\" button below to read the full help page, or check out the official online documentation.\n"
      ]
    },
    {
      "cell_type": "markdown",
      "metadata": {
        "id": "oweAAeU6TYDn",
        "colab_type": "text"
      },
      "source": [
        "\n",
        "```\n",
        "help(dict)\n",
        "Your Turn\n",
        "You've learned a lot of Python... go test your skills with some realistic programming applications.\n",
        "\n",
        "Python Home Page\n",
        "\n",
        "Have questions or comments? Visit the Learn Discussion forum to chat with other Learners."
      ]
    },
    {
      "cell_type": "markdown",
      "metadata": {
        "id": "UeMcY86PTaGD",
        "colab_type": "text"
      },
      "source": [
        "# 練習問題"
      ]
    },
    {
      "cell_type": "markdown",
      "metadata": {
        "id": "nIXtWCWSTdE8",
        "colab_type": "text"
      },
      "source": [
        "問題 １\n",
        "\n",
        "\n",
        "**[Python Home Page](https://www.kaggle.com/learn/python)**\n",
        "\n",
        "---\n",
        "\n",
        "\n",
        "# Try It Yourself\n",
        "\n",
        "You are almost done with the course. Nice job. \n",
        "\n",
        "Fortunately, we have a couple more interesting problems for you before you go. \n",
        "\n",
        "As always, run the setup code below before working on the questions.\n",
        "\n",
        "from learntools.core import binder; binder.bind(globals())\n",
        "from learntools.python.ex6 import *\n",
        "print('Setup complete.')\n",
        "\n",
        "# Exercises\n",
        "\n",
        "## 0. \n",
        "\n",
        "Let's start with a string lightning round to warm up. What are the lengths of the strings below?\n",
        "\n",
        "For each of the five strings below, predict what `len()` would return when passed that string. Use the variable `length` to record your answer, then run the cell to check whether you were right.  \n"
      ]
    },
    {
      "cell_type": "markdown",
      "metadata": {
        "id": "zAROb5mqUFt4",
        "colab_type": "text"
      },
      "source": [
        "\n",
        "a = \"\"\n",
        "length = ____\n",
        "q0.a.check()\n",
        "\n",
        "b = \"it's ok\"\n",
        "length = ____\n",
        "q0.b.check()\n",
        "\n",
        "c = 'it\\'s ok'\n",
        "length = ____\n",
        "q0.c.check()\n",
        "\n",
        "d = \"\"\"hey\"\"\"\n",
        "length = ____\n",
        "q0.d.check()\n",
        "\n",
        "e = '\\n'\n",
        "length = ____\n",
        "q0.e.check()\n"
      ]
    },
    {
      "cell_type": "markdown",
      "metadata": {
        "id": "QQCjZcQVUHUf",
        "colab_type": "text"
      },
      "source": [
        "\n",
        "## 1.\n",
        "\n",
        "There is a saying that \"Data scientists spend 80% of their time cleaning data, and 20% of their time complaining about cleaning data.\" Let's see if you can write a function to help clean US zip code data. Given a string, it should return whether or not that string represents a valid zip code. For our purposes, a valid zip code is any string consisting of exactly 5 digits.\n",
        "\n",
        "HINT: `str` has a method that will be useful here. Use `help(str)` to review a list of string methods.\n"
      ]
    },
    {
      "cell_type": "markdown",
      "metadata": {
        "id": "rjZbw1-CUKcC",
        "colab_type": "text"
      },
      "source": [
        "\n",
        "def is_valid_zip(zip_code):\n",
        "    \"\"\"Returns whether the input string is a valid (5 digit) zip code\n",
        "    \"\"\"\n",
        "    pass\n"
      ]
    },
    {
      "cell_type": "markdown",
      "metadata": {
        "id": "35mV2wguUMCN",
        "colab_type": "text"
      },
      "source": [
        "\n",
        "# Check your answer\n",
        "q1.check()\n",
        "\n",
        "#q1.hint()\n",
        "#q1.solution()\n",
        "\n",
        "## 2.\n",
        "\n",
        "A researcher has gathered thousands of news articles. But she wants to focus her attention on articles including a specific word. Complete the function below to help her filter her list of articles.\n",
        "\n",
        "Your function should meet the following criteria:\n",
        "\n",
        "- Do not include documents where the keyword string shows up only as a part of a larger word. For example, if she were looking for the keyword “closed”, you would not include the string “enclosed.” \n",
        "- She does not want you to distinguish upper case from lower case letters. So the phrase “Closed the case.” would be included when the keyword is “closed”\n",
        "- Do not let periods or commas affect what is matched. “It is closed.” would be included when the keyword is “closed”. But you can assume there are no other types of punctuation.\n"
      ]
    },
    {
      "cell_type": "markdown",
      "metadata": {
        "id": "W1of5bkYUOPF",
        "colab_type": "text"
      },
      "source": [
        "\n",
        "def word_search(doc_list, keyword):\n",
        "    \"\"\"\n",
        "    Takes a list of documents (each document is a string) and a keyword. \n",
        "    Returns list of the index values into the original list for all documents \n",
        "    containing the keyword.\n",
        "\n",
        "    Example:\n",
        "    doc_list = [\"The Learn Python Challenge Casino.\", \"They bought a car\", \"Casinoville\"]\n",
        "    >>> word_search(doc_list, 'casino')\n",
        "    >>> [0]\n",
        "    \"\"\"\n",
        "    pass\n"
      ]
    },
    {
      "cell_type": "markdown",
      "metadata": {
        "id": "XqM-LiFwUPX7",
        "colab_type": "text"
      },
      "source": [
        "\n",
        "## 3.\n",
        "\n",
        "Now the researcher wants to supply multiple keywords to search for. Complete the function below to help her.\n",
        "\n",
        "(You're encouraged to use the `word_search` function you just wrote when implementing this function. Reusing code in this way makes your programs more robust and readable - and it saves typing!)\n"
      ]
    },
    {
      "cell_type": "markdown",
      "metadata": {
        "id": "b0gLA2d0UQhF",
        "colab_type": "text"
      },
      "source": [
        "\n",
        "def multi_word_search(doc_list, keywords):\n",
        "    \"\"\"\n",
        "    Takes list of documents (each document is a string) and a list of keywords.  \n",
        "    Returns a dictionary where each key is a keyword, and the value is a list of indices\n",
        "    (from doc_list) of the documents containing that keyword\n",
        "\n",
        "    >>> doc_list = [\"The Learn Python Challenge Casino.\", \"They bought a car and a casino\", \"Casinoville\"]\n",
        "    >>> keywords = ['casino', 'they']\n",
        "    >>> multi_word_search(doc_list, keywords)\n",
        "    {'casino': [0, 1], 'they': [1]}\n",
        "    \"\"\"\n",
        "    pass\n",
        "\n"
      ]
    }
  ]
}