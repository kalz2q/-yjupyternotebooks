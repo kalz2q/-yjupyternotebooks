{
  "nbformat": 4,
  "nbformat_minor": 0,
  "metadata": {
    "colab": {
      "name": "kaggle06string.ipynb",
      "provenance": [],
      "toc_visible": true,
      "authorship_tag": "ABX9TyOXpJ5IEk2/GALrmjVdjsyy",
      "include_colab_link": true
    },
    "kernelspec": {
      "name": "python3",
      "display_name": "Python 3"
    }
  },
  "cells": [
    {
      "cell_type": "markdown",
      "metadata": {
        "id": "view-in-github",
        "colab_type": "text"
      },
      "source": [
        "<a href=\"https://colab.research.google.com/github/kalz2q/mycolabnotebooks/blob/master/kaggle06string.ipynb\" target=\"_parent\"><img src=\"https://colab.research.google.com/assets/colab-badge.svg\" alt=\"Open In Colab\"/></a>"
      ]
    },
    {
      "cell_type": "markdown",
      "metadata": {
        "id": "kYx20gNtAiGy",
        "colab_type": "text"
      },
      "source": [
        "# kaggle06string.ipynb"
      ]
    },
    {
      "cell_type": "markdown",
      "metadata": {
        "id": "5K849kXOfnPj",
        "colab_type": "text"
      },
      "source": [
        "# メモ\n",
        "\n",
        "1.  kaggleのPython tutorialをベスにColabのノートブックを作成している。\n",
        "1.  Colabで開いて読まれることを想定。\n",
        "1.  元ファイル (\n",
        "https://www.kaggle.com/colinmorris/strings-and-dictionaries )\n",
        "\n"
      ]
    },
    {
      "cell_type": "markdown",
      "metadata": {
        "id": "x2LVPJLMA11H",
        "colab_type": "text"
      },
      "source": [
        "# 文字列\n",
        "\n",
        "Pythonは文字列の扱いが得意で、この章ではPythonに組み込まれている関数とフォーマット処理について述べる。\n",
        "\n",
        "文字列操作はしばしば科学研究の文脈で使われ、Pythonの特典のひとつと言える。\n"
      ]
    },
    {
      "cell_type": "markdown",
      "metadata": {
        "id": "5m3Y_QU8RwKT",
        "colab_type": "text"
      },
      "source": [
        "### 文字列文法\n",
        "\n",
        "復習になるが、Pythonの文字列はシングルクォートでもダブルクォートでも作ることができて、機能的に全く同じである。\n"
      ]
    },
    {
      "cell_type": "code",
      "metadata": {
        "id": "_jcckYmDRysY",
        "colab_type": "code",
        "colab": {
          "base_uri": "https://localhost:8080/",
          "height": 34
        },
        "outputId": "c1b1d993-7b91-4626-9137-60378f998309"
      },
      "source": [
        "x = 'Pluto is a planet'\n",
        "y = \"Pluto is a planet\"\n",
        "x == y"
      ],
      "execution_count": null,
      "outputs": [
        {
          "output_type": "execute_result",
          "data": {
            "text/plain": [
              "True"
            ]
          },
          "metadata": {
            "tags": []
          },
          "execution_count": 1
        }
      ]
    },
    {
      "cell_type": "markdown",
      "metadata": {
        "id": "BLUcgTl-R0l4",
        "colab_type": "text"
      },
      "source": [
        "文字列がアポストロフィなどシングルクォートを含んでいる場合はダブルクォートが便利だし、逆にダブルクォートを含んでいる場合はシングルクォートが便利。\n"
      ]
    },
    {
      "cell_type": "code",
      "metadata": {
        "id": "-DJ8dJPXR5dK",
        "colab_type": "code",
        "colab": {
          "base_uri": "https://localhost:8080/",
          "height": 50
        },
        "outputId": "04e31ffc-f867-406a-e7ec-9a529acceeb5"
      },
      "source": [
        "print(\"Pluto's a planet!\")\n",
        "print('My dog is named \"Pluto\"')"
      ],
      "execution_count": null,
      "outputs": [
        {
          "output_type": "stream",
          "text": [
            "Pluto's a planet!\n",
            "My dog is named \"Pluto\"\n"
          ],
          "name": "stdout"
        }
      ]
    },
    {
      "cell_type": "markdown",
      "metadata": {
        "id": "_DNvo59QR7O5",
        "colab_type": "text"
      },
      "source": [
        "シングルクォートで囲んだ文字列の中にシングルクォートがあればエラーになる。\n"
      ]
    },
    {
      "cell_type": "code",
      "metadata": {
        "id": "quyLN7KQSDT_",
        "colab_type": "code",
        "colab": {}
      },
      "source": [
        "# 'Pluto's a planet!'"
      ],
      "execution_count": null,
      "outputs": []
    },
    {
      "cell_type": "markdown",
      "metadata": {
        "id": "g9muXd1QSE5U",
        "colab_type": "text"
      },
      "source": [
        "このような場合、バックスラッシュでエスケープすることができる。\n"
      ]
    },
    {
      "cell_type": "code",
      "metadata": {
        "id": "9SS6QbnxSGrt",
        "colab_type": "code",
        "colab": {
          "base_uri": "https://localhost:8080/",
          "height": 35
        },
        "outputId": "70ad1a7f-b7be-4f4a-c717-5705e39a9f6a"
      },
      "source": [
        "'Pluto\\'s a planet!'"
      ],
      "execution_count": null,
      "outputs": [
        {
          "output_type": "execute_result",
          "data": {
            "application/vnd.google.colaboratory.intrinsic": {
              "type": "string"
            },
            "text/plain": [
              "\"Pluto's a planet!\""
            ]
          },
          "metadata": {
            "tags": []
          },
          "execution_count": 4
        }
      ]
    },
    {
      "cell_type": "markdown",
      "metadata": {
        "id": "7pmynJS0SJXq",
        "colab_type": "text"
      },
      "source": [
        "次の表はバックスラッシュの用法についてまとめたもの。\n"
      ]
    },
    {
      "cell_type": "markdown",
      "metadata": {
        "id": "2FRAyEgtSK_h",
        "colab_type": "text"
      },
      "source": [
        "| What you type... |\tWhat you get |\texample\t| print(example) |\n",
        "| --- | --- | --- | --- |\n",
        "|\\\\'  |\t'\t| 'What\\\\'s up?'\t| What's up? |\n",
        "| \\\\\"  |\t\"\t| \"That's \\\\\"cool\\\\\"\\\" |\tThat's \"cool\" |\n",
        "| \\\\\\  |\t\\\t| \"Look, a mountain: /\\\\\"\t| Look, a mountain: /\\ |\n",
        "| \\\\n  |\t | \"1\\n2 3\" |\t1  |\n",
        "|  |  | | 2 3 |\n"
      ]
    },
    {
      "cell_type": "markdown",
      "metadata": {
        "id": "2XbJYKLpSNU8",
        "colab_type": "text"
      },
      "source": [
        "表の最後の行の`\\n`は、改行文字を表し、Pythonでは改行して新しい行になる。\n"
      ]
    },
    {
      "cell_type": "code",
      "metadata": {
        "id": "PdE75B7cSQE0",
        "colab_type": "code",
        "colab": {
          "base_uri": "https://localhost:8080/",
          "height": 50
        },
        "outputId": "5b2056e6-e431-4867-8348-3deda7147011"
      },
      "source": [
        "hello = \"hello\\nworld\"\n",
        "print(hello)"
      ],
      "execution_count": null,
      "outputs": [
        {
          "output_type": "stream",
          "text": [
            "hello\n",
            "world\n"
          ],
          "name": "stdout"
        }
      ]
    },
    {
      "cell_type": "markdown",
      "metadata": {
        "id": "X0P8Z55PSSnS",
        "colab_type": "text"
      },
      "source": [
        "さらにPythonの3重引用符は、｀Enter`による改行をうけつける。つまり、みたままの形で文字列を変数に入れることができる。すでに`docstring`で見てきているが、どこでもできる。\n"
      ]
    },
    {
      "cell_type": "code",
      "metadata": {
        "id": "dyGjStwaSUmi",
        "colab_type": "code",
        "colab": {
          "base_uri": "https://localhost:8080/",
          "height": 70
        },
        "outputId": "ca26c216-702d-43ab-8eef-038261dcbe9f"
      },
      "source": [
        "triplequoted_hello = \"\"\"hello\n",
        "world\"\"\"\n",
        "print(triplequoted_hello)\n",
        "triplequoted_hello == 'hello\\nworld'"
      ],
      "execution_count": null,
      "outputs": [
        {
          "output_type": "stream",
          "text": [
            "hello\n",
            "world\n"
          ],
          "name": "stdout"
        },
        {
          "output_type": "execute_result",
          "data": {
            "text/plain": [
              "True"
            ]
          },
          "metadata": {
            "tags": []
          },
          "execution_count": 11
        }
      ]
    },
    {
      "cell_type": "markdown",
      "metadata": {
        "id": "naFxE9IhSWF7",
        "colab_type": "text"
      },
      "source": [
        "`printf()`関数は自動的に改行コードを最後に入れる。デフォルトの`¥n`を入れさせないためには次のようにする。\n"
      ]
    },
    {
      "cell_type": "code",
      "metadata": {
        "id": "_Fa_VprGSXnj",
        "colab_type": "code",
        "colab": {
          "base_uri": "https://localhost:8080/",
          "height": 70
        },
        "outputId": "4db6c405-f97d-4d19-fd57-31361aed99cc"
      },
      "source": [
        "print(\"hello\")\n",
        "print(\"world\")\n",
        "print(\"hello\", end='')\n",
        "print(\"pluto\", end='')"
      ],
      "execution_count": null,
      "outputs": [
        {
          "output_type": "stream",
          "text": [
            "hello\n",
            "world\n",
            "hellopluto"
          ],
          "name": "stdout"
        }
      ]
    },
    {
      "cell_type": "markdown",
      "metadata": {
        "id": "kIAb25k8SZc7",
        "colab_type": "text"
      },
      "source": [
        "### 文字列とリスト\n",
        "\n",
        "文字列`string`は文字`character`のシーケンス`sequence`、リスト、とみなすことができて、リストについてのほとんどの関数やメソッドが使える。\n"
      ]
    },
    {
      "cell_type": "code",
      "metadata": {
        "id": "GVRcyZj1Sb6i",
        "colab_type": "code",
        "colab": {
          "base_uri": "https://localhost:8080/",
          "height": 35
        },
        "outputId": "32e41b8c-bb6d-431c-c2c6-fe12d39627c4"
      },
      "source": [
        "# Indexing\n",
        "planet = 'Pluto'\n",
        "planet[0]"
      ],
      "execution_count": null,
      "outputs": [
        {
          "output_type": "execute_result",
          "data": {
            "application/vnd.google.colaboratory.intrinsic+json": {
              "type": "string"
            },
            "text/plain": [
              "'P'"
            ]
          },
          "metadata": {
            "tags": []
          },
          "execution_count": 13
        }
      ]
    },
    {
      "cell_type": "code",
      "metadata": {
        "id": "5UetN5SISdYl",
        "colab_type": "code",
        "colab": {
          "base_uri": "https://localhost:8080/",
          "height": 35
        },
        "outputId": "2506b61c-8b95-4df0-ebc2-8f4ff678cff3"
      },
      "source": [
        "# Slicing\n",
        "planet[-3:]\n"
      ],
      "execution_count": null,
      "outputs": [
        {
          "output_type": "execute_result",
          "data": {
            "application/vnd.google.colaboratory.intrinsic+json": {
              "type": "string"
            },
            "text/plain": [
              "'uto'"
            ]
          },
          "metadata": {
            "tags": []
          },
          "execution_count": 14
        }
      ]
    },
    {
      "cell_type": "code",
      "metadata": {
        "id": "W1Xd1fpNSf3H",
        "colab_type": "code",
        "colab": {
          "base_uri": "https://localhost:8080/",
          "height": 35
        },
        "outputId": "90d1ac8c-966e-4f41-e0af-806dd4acd93c"
      },
      "source": [
        "# How long is this string?\n",
        "len(planet)"
      ],
      "execution_count": null,
      "outputs": [
        {
          "output_type": "execute_result",
          "data": {
            "text/plain": [
              "5"
            ]
          },
          "metadata": {
            "tags": []
          },
          "execution_count": 15
        }
      ]
    },
    {
      "cell_type": "code",
      "metadata": {
        "id": "J-zZ_GEuSiZL",
        "colab_type": "code",
        "colab": {
          "base_uri": "https://localhost:8080/",
          "height": 35
        },
        "outputId": "f2ee8d19-3837-47dc-bf6f-f4d791f35505"
      },
      "source": [
        "# Yes, we can even loop over them\n",
        "[char+'! ' for char in planet]"
      ],
      "execution_count": null,
      "outputs": [
        {
          "output_type": "execute_result",
          "data": {
            "text/plain": [
              "['P! ', 'l! ', 'u! ', 't! ', 'o! ']"
            ]
          },
          "metadata": {
            "tags": []
          },
          "execution_count": 16
        }
      ]
    },
    {
      "cell_type": "markdown",
      "metadata": {
        "id": "VNpfyMSmSj9x",
        "colab_type": "text"
      },
      "source": [
        "しかし!!!!\n",
        "\n",
        "リストと文字列の最大の違いは、文字列はイミュータブル`immutable`だと言うことだ。文字列は変更できない。\n"
      ]
    },
    {
      "cell_type": "code",
      "metadata": {
        "id": "BPZyz4VXSl-H",
        "colab_type": "code",
        "colab": {}
      },
      "source": [
        "# planet[0] = 'B'\n",
        "# planet.append doesn't work either\n",
        "\n",
        "# TypeError: 'str' object does not support item assignment"
      ],
      "execution_count": null,
      "outputs": []
    },
    {
      "cell_type": "code",
      "metadata": {
        "id": "uNifsGul7hdt",
        "colab_type": "code",
        "colab": {
          "base_uri": "https://localhost:8080/",
          "height": 35
        },
        "outputId": "41a7b242-6b6e-490a-8c24-f482b69ec778"
      },
      "source": [
        "type (\"\")"
      ],
      "execution_count": null,
      "outputs": [
        {
          "output_type": "execute_result",
          "data": {
            "text/plain": [
              "str"
            ]
          },
          "metadata": {
            "tags": []
          },
          "execution_count": 17
        }
      ]
    },
    {
      "cell_type": "markdown",
      "metadata": {
        "id": "pVRDChLjSpNR",
        "colab_type": "text"
      },
      "source": [
        "### 文字列メソッド\n",
        "\n",
        "文字列型`str`はたくさんの便利なメソッドがある。ここで紹介するのはほんの一部である。\n"
      ]
    },
    {
      "cell_type": "code",
      "metadata": {
        "id": "QovR__QiSq1X",
        "colab_type": "code",
        "colab": {
          "base_uri": "https://localhost:8080/",
          "height": 35
        },
        "outputId": "6e4f238e-4be4-4b65-c87f-75f73d30b26f"
      },
      "source": [
        "# ALL CAPS\n",
        "claim = \"Pluto is a planet!\"\n",
        "claim.upper()\n"
      ],
      "execution_count": null,
      "outputs": [
        {
          "output_type": "execute_result",
          "data": {
            "application/vnd.google.colaboratory.intrinsic+json": {
              "type": "string"
            },
            "text/plain": [
              "'PLUTO IS A PLANET!'"
            ]
          },
          "metadata": {
            "tags": []
          },
          "execution_count": 18
        }
      ]
    },
    {
      "cell_type": "code",
      "metadata": {
        "id": "FUb3KBsgSsPe",
        "colab_type": "code",
        "colab": {
          "base_uri": "https://localhost:8080/",
          "height": 35
        },
        "outputId": "2f02c5b2-6c1d-45a1-bb65-4a7d8ef6307a"
      },
      "source": [
        "# all lowercase\n",
        "claim.lower()"
      ],
      "execution_count": null,
      "outputs": [
        {
          "output_type": "execute_result",
          "data": {
            "application/vnd.google.colaboratory.intrinsic+json": {
              "type": "string"
            },
            "text/plain": [
              "'pluto is a planet!'"
            ]
          },
          "metadata": {
            "tags": []
          },
          "execution_count": 23
        }
      ]
    },
    {
      "cell_type": "code",
      "metadata": {
        "id": "rZTwT6Z0Sts6",
        "colab_type": "code",
        "colab": {
          "base_uri": "https://localhost:8080/",
          "height": 35
        },
        "outputId": "89fe1df7-9b7b-4652-b9f3-5c3e3c008f1a"
      },
      "source": [
        "# Searching for the first index of a substring\n",
        "claim.index('plan')"
      ],
      "execution_count": null,
      "outputs": [
        {
          "output_type": "execute_result",
          "data": {
            "text/plain": [
              "11"
            ]
          },
          "metadata": {
            "tags": []
          },
          "execution_count": 24
        }
      ]
    },
    {
      "cell_type": "code",
      "metadata": {
        "id": "oqXxoYC3W5kd",
        "colab_type": "code",
        "colab": {
          "base_uri": "https://localhost:8080/",
          "height": 35
        },
        "outputId": "64e3de82-e570-43a2-fe38-99f788684972"
      },
      "source": [
        "claim.startswith(planet)"
      ],
      "execution_count": null,
      "outputs": [
        {
          "output_type": "execute_result",
          "data": {
            "text/plain": [
              "True"
            ]
          },
          "metadata": {
            "tags": []
          },
          "execution_count": 25
        }
      ]
    },
    {
      "cell_type": "code",
      "metadata": {
        "id": "GikS40lHW--A",
        "colab_type": "code",
        "colab": {
          "base_uri": "https://localhost:8080/",
          "height": 35
        },
        "outputId": "7094ec3d-610f-4ba5-97ab-f525d32d1a07"
      },
      "source": [
        "claim.endswith('dwarf planet')"
      ],
      "execution_count": null,
      "outputs": [
        {
          "output_type": "execute_result",
          "data": {
            "text/plain": [
              "False"
            ]
          },
          "metadata": {
            "tags": []
          },
          "execution_count": 26
        }
      ]
    },
    {
      "cell_type": "markdown",
      "metadata": {
        "id": "C4lBwSxpSuwz",
        "colab_type": "text"
      },
      "source": [
        "### 文字列をリスト、リストを文字列に変換`split()`と`join()`\n",
        "\n",
        "`str.split()`はデフォルトはスペースで文字列を短い文字列のリストに変換する。長い文字列から単語を切り出すのに使える。\n"
      ]
    },
    {
      "cell_type": "code",
      "metadata": {
        "id": "400lbjnjSv-0",
        "colab_type": "code",
        "colab": {
          "base_uri": "https://localhost:8080/",
          "height": 35
        },
        "outputId": "b3a1074a-8644-4629-c6aa-47bbae652160"
      },
      "source": [
        "split = \"Pluto is a planet!\"\n",
        "words = claim.split()\n",
        "\n",
        "words"
      ],
      "execution_count": null,
      "outputs": [
        {
          "output_type": "execute_result",
          "data": {
            "text/plain": [
              "['Pluto', 'is', 'a', 'planet!']"
            ]
          },
          "metadata": {
            "tags": []
          },
          "execution_count": 28
        }
      ]
    },
    {
      "cell_type": "markdown",
      "metadata": {
        "id": "8VISfu3mSxXP",
        "colab_type": "text"
      },
      "source": [
        "ホワイトスペース以外の切れ目で切り分けたいときもあるでしょう。\n",
        "\n",
        "例えば :"
      ]
    },
    {
      "cell_type": "code",
      "metadata": {
        "id": "ZtRv5UdISzde",
        "colab_type": "code",
        "colab": {
          "base_uri": "https://localhost:8080/",
          "height": 35
        },
        "outputId": "6bd107c3-e47a-4d6b-d97e-e2eaed3e8cb1"
      },
      "source": [
        "datestr = '1956-01-31'\n",
        "\n",
        "year, month, day = datestr.split('-')\n",
        "\n",
        "(year, month, day)"
      ],
      "execution_count": 31,
      "outputs": [
        {
          "output_type": "execute_result",
          "data": {
            "text/plain": [
              "('1956', '01', '31')"
            ]
          },
          "metadata": {
            "tags": []
          },
          "execution_count": 31
        }
      ]
    },
    {
      "cell_type": "markdown",
      "metadata": {
        "id": "boWa9cdSS0b0",
        "colab_type": "text"
      },
      "source": [
        "`str.join()`は逆に文字列のリストをひとつの文字列にする。関数を呼び出す際にセパレーターを指定する。\n"
      ]
    },
    {
      "cell_type": "code",
      "metadata": {
        "id": "s16WCzttS1y1",
        "colab_type": "code",
        "colab": {
          "base_uri": "https://localhost:8080/",
          "height": 35
        },
        "outputId": "547c8c5e-dbbb-4834-986b-aadf9aad27fa"
      },
      "source": [
        "'/'.join([month, day, year])"
      ],
      "execution_count": 33,
      "outputs": [
        {
          "output_type": "execute_result",
          "data": {
            "application/vnd.google.colaboratory.intrinsic+json": {
              "type": "string"
            },
            "text/plain": [
              "'01/31/1956'"
            ]
          },
          "metadata": {
            "tags": []
          },
          "execution_count": 33
        }
      ]
    },
    {
      "cell_type": "code",
      "metadata": {
        "id": "otVdbd4QayIJ",
        "colab_type": "code",
        "colab": {
          "base_uri": "https://localhost:8080/",
          "height": 35
        },
        "outputId": "8d238368-9cb6-4d93-ee6a-3ca8e500cec0"
      },
      "source": [
        "# Yes, we can put unicode characters right in our string literals :)\n",
        "' 👏 '.join([word.upper() for word in words])\n",
        "'PLUTO 👏 IS 👏 A 👏 PLANET!'\n"
      ],
      "execution_count": 34,
      "outputs": [
        {
          "output_type": "execute_result",
          "data": {
            "application/vnd.google.colaboratory.intrinsic+json": {
              "type": "string"
            },
            "text/plain": [
              "'PLUTO 👏 IS 👏 A 👏 PLANET!'"
            ]
          },
          "metadata": {
            "tags": []
          },
          "execution_count": 34
        }
      ]
    },
    {
      "cell_type": "markdown",
      "metadata": {
        "id": "UX_iTnmoa7Dj",
        "colab_type": "text"
      },
      "source": [
        "### 文字列の整形 `.format()`"
      ]
    },
    {
      "cell_type": "markdown",
      "metadata": {
        "id": "kZAHvg87S3AZ",
        "colab_type": "text"
      },
      "source": [
        "Pythonは`+`で文字列を結合できる。"
      ]
    },
    {
      "cell_type": "code",
      "metadata": {
        "id": "L-MF-CM6S4ou",
        "colab_type": "code",
        "colab": {
          "base_uri": "https://localhost:8080/",
          "height": 35
        },
        "outputId": "90b67c08-4f53-465c-d832-4e74c68b5899"
      },
      "source": [
        "planet + ', we miss you.'\n"
      ],
      "execution_count": 35,
      "outputs": [
        {
          "output_type": "execute_result",
          "data": {
            "application/vnd.google.colaboratory.intrinsic+json": {
              "type": "string"
            },
            "text/plain": [
              "'Pluto, we miss you.'"
            ]
          },
          "metadata": {
            "tags": []
          },
          "execution_count": 35
        }
      ]
    },
    {
      "cell_type": "markdown",
      "metadata": {
        "id": "i-M2cNnMS51b",
        "colab_type": "text"
      },
      "source": [
        "文字列でないものを文字列と結合するときは、`str())`で文字列変換してから結合する。"
      ]
    },
    {
      "cell_type": "markdown",
      "metadata": {
        "id": "DS0W5SXdcCyk",
        "colab_type": "text"
      },
      "source": [
        "# いまここ"
      ]
    },
    {
      "cell_type": "code",
      "metadata": {
        "id": "Et00pBNpS68l",
        "colab_type": "code",
        "colab": {
          "base_uri": "https://localhost:8080/",
          "height": 35
        },
        "outputId": "e2576eeb-b2b7-439f-a101-2863a6048bd0"
      },
      "source": [
        "position = 9\n",
        "planet + \", you'll always be the \" + str(position) + \"th planet to me.\""
      ],
      "execution_count": 37,
      "outputs": [
        {
          "output_type": "execute_result",
          "data": {
            "application/vnd.google.colaboratory.intrinsic+json": {
              "type": "string"
            },
            "text/plain": [
              "\"Pluto, you'll always be the 9th planet to me.\""
            ]
          },
          "metadata": {
            "tags": []
          },
          "execution_count": 37
        }
      ]
    },
    {
      "cell_type": "markdown",
      "metadata": {
        "id": "gebHj9cpS9xo",
        "colab_type": "text"
      },
      "source": [
        "\n",
        "This is getting hard to read and annoying to type. str.format() to the rescue.\n"
      ]
    },
    {
      "cell_type": "markdown",
      "metadata": {
        "id": "9g8ywliPS-91",
        "colab_type": "text"
      },
      "source": [
        "\n",
        "```\n",
        "\"{}, you'll always be the {}th planet to me.\".format(planet, position)\n",
        "\"Pluto, you'll always be the 9th planet to me.\"\n",
        "```\n"
      ]
    },
    {
      "cell_type": "markdown",
      "metadata": {
        "id": "ysU-kBQlS_9x",
        "colab_type": "text"
      },
      "source": [
        "\n",
        "So much cleaner! We call .format() on a \"format string\", where the Python values we want to insert are represented with {} placeholders.\n",
        "\n",
        "Notice how we didn't even have to call str() to convert position from an int. format() takes care of that for us.\n",
        "\n",
        "If that was all that format() did, it would still be incredibly useful. But as it turns out, it can do a lot more. Here's just a taste:\n"
      ]
    },
    {
      "cell_type": "markdown",
      "metadata": {
        "id": "hcQ0CSnvTBFA",
        "colab_type": "text"
      },
      "source": [
        "\n",
        "```\n",
        "pluto_mass = 1.303 * 10**22\n",
        "earth_mass = 5.9722 * 10**24\n",
        "population = 52910390\n",
        "#         2 decimal points   3 decimal points, format as percent     separate with commas\n",
        "\"{} weighs about {:.2} kilograms ({:.3%} of Earth's mass). It is home to {:,} Plutonians.\".format(\n",
        "    planet, pluto_mass, pluto_mass / earth_mass, population,\n",
        ")\n",
        "\"Pluto weighs about 1.3e+22 kilograms (0.218% of Earth's mass). It is home to 52,910,390 Plutonians.\"\n",
        "# Referring to format() arguments by index, starting from 0\n",
        "s = \"\"\"Pluto's a {0}.\n",
        "No, it's a {1}.\n",
        "{0}!\n",
        "{1}!\"\"\".format('planet', 'dwarf planet')\n",
        "print(s)\n",
        "Pluto's a planet.\n",
        "No, it's a dwarf planet.\n",
        "planet!\n",
        "dwarf planet!\n",
        "```\n"
      ]
    },
    {
      "cell_type": "markdown",
      "metadata": {
        "id": "nACCusLoTCFn",
        "colab_type": "text"
      },
      "source": [
        "\n",
        "\n",
        "\n",
        "You could probably write a short book just on str.format, so I'll stop here, and point you to pyformat.info and the official docs for further reading.\n"
      ]
    },
    {
      "cell_type": "markdown",
      "metadata": {
        "id": "FgYRw1n-TDa2",
        "colab_type": "text"
      },
      "source": [
        "\n",
        "\n",
        "# Dictionaries\n",
        "\n",
        "Dictionaries are a built-in Python data structure for mapping keys to values.\n"
      ]
    },
    {
      "cell_type": "markdown",
      "metadata": {
        "id": "5EFBMlN_TEiA",
        "colab_type": "text"
      },
      "source": [
        "\n",
        "\n",
        "```\n",
        "numbers = {'one':1, 'two':2, 'three':3}\n",
        "```\n"
      ]
    },
    {
      "cell_type": "markdown",
      "metadata": {
        "id": "1GzoJJQUTFvr",
        "colab_type": "text"
      },
      "source": [
        "\n",
        "In this case 'one', 'two', and 'three' are the keys, and 1, 2 and 3 are their corresponding values.\n",
        "\n",
        "Values are accessed via square bracket syntax similar to indexing into lists and strings.\n"
      ]
    },
    {
      "cell_type": "markdown",
      "metadata": {
        "id": "lDq_9HfKTGnZ",
        "colab_type": "text"
      },
      "source": [
        "\n",
        "\n",
        "```\n",
        "numbers['one']\n",
        "1\n",
        "```\n"
      ]
    },
    {
      "cell_type": "markdown",
      "metadata": {
        "id": "ADZPRWG1THYW",
        "colab_type": "text"
      },
      "source": [
        "\n",
        "We can use the same syntax to add another key, value \n"
      ]
    },
    {
      "cell_type": "markdown",
      "metadata": {
        "id": "RCJ7VNjMTIRA",
        "colab_type": "text"
      },
      "source": [
        "\n",
        "```\n",
        "numbers['eleven'] = 11\n",
        "numbers\n",
        "{'one': 1, 'two': 2, 'three': 3, 'eleven': 11}\n",
        "```\n"
      ]
    },
    {
      "cell_type": "markdown",
      "metadata": {
        "id": "LNS09vWSTJjZ",
        "colab_type": "text"
      },
      "source": [
        "\n",
        "Or to change the value associated with an existing key\n"
      ]
    },
    {
      "cell_type": "markdown",
      "metadata": {
        "id": "2QkQiPydTKpN",
        "colab_type": "text"
      },
      "source": [
        "\n",
        "```\n",
        "numbers['one'] = 'Pluto'\n",
        "numbers\n",
        "{'one': 'Pluto', 'two': 2, 'three': 3, 'eleven': 11}\n",
        "```\n"
      ]
    },
    {
      "cell_type": "markdown",
      "metadata": {
        "id": "E__eIT3_TLsS",
        "colab_type": "text"
      },
      "source": [
        "\n",
        "Python has dictionary comprehensions with a syntax similar to the list comprehensions we saw in the previous tutorial.\n"
      ]
    },
    {
      "cell_type": "markdown",
      "metadata": {
        "id": "6FuRVTn2TM0i",
        "colab_type": "text"
      },
      "source": [
        "\n",
        "```\n",
        "planets = ['Mercury', 'Venus', 'Earth', 'Mars', 'Jupiter', 'Saturn', 'Uranus', 'Neptune']\n",
        "planet_to_initial = {planet: planet[0] for planet in planets}\n",
        "planet_to_initial\n",
        "{'Mercury': 'M',\n",
        " 'Venus': 'V',\n",
        " 'Earth': 'E',\n",
        " 'Mars': 'M',\n",
        " 'Jupiter': 'J',\n",
        " 'Saturn': 'S',\n",
        " 'Uranus': 'U',\n",
        " 'Neptune': 'N'}\n",
        "```\n"
      ]
    },
    {
      "cell_type": "markdown",
      "metadata": {
        "id": "E3NiaXZ9TNzR",
        "colab_type": "text"
      },
      "source": [
        "\n",
        "The in operator tells us whether something is a key in the dictionary\n"
      ]
    },
    {
      "cell_type": "markdown",
      "metadata": {
        "id": "x0kOs0s0TOsv",
        "colab_type": "text"
      },
      "source": [
        "\n",
        "```\n",
        "'Saturn' in planet_to_initial\n",
        "True\n",
        "'Betelgeuse' in planet_to_initial\n",
        "False\n",
        "```\n"
      ]
    },
    {
      "cell_type": "markdown",
      "metadata": {
        "id": "tHY7e_OMTPms",
        "colab_type": "text"
      },
      "source": [
        "\n",
        "A for loop over a dictionary will loop over its keys\n"
      ]
    },
    {
      "cell_type": "markdown",
      "metadata": {
        "id": "mI8fEG97TRDU",
        "colab_type": "text"
      },
      "source": [
        "\n",
        "for k in numbers:\n",
        "    print(\"{} = {}\".format(k, numbers[k]))\n",
        "one = Pluto\n",
        "two = 2\n",
        "three = 3\n",
        "eleven = 11\n",
        "```\n"
      ]
    },
    {
      "cell_type": "markdown",
      "metadata": {
        "id": "_Msq4B8JTS3I",
        "colab_type": "text"
      },
      "source": [
        "\n",
        "We can access a collection of all the keys or all the values with dict.keys() and dict.values(), respectively.\n"
      ]
    },
    {
      "cell_type": "markdown",
      "metadata": {
        "id": "C-Rh7WXbTTvB",
        "colab_type": "text"
      },
      "source": [
        "\n",
        "```\n",
        "# Get all the initials, sort them alphabetically, and put them in a space-separated string.\n",
        "' '.join(sorted(planet_to_initial.values()))\n",
        "'E J M M N S U V'\n",
        "```\n"
      ]
    },
    {
      "cell_type": "markdown",
      "metadata": {
        "id": "XeUDkcq5TUu7",
        "colab_type": "text"
      },
      "source": [
        "\n",
        "The very useful dict.items() method lets us iterate over the keys and values of a dictionary simultaneously. (In Python jargon, an item refers to a key, value pair)\n"
      ]
    },
    {
      "cell_type": "markdown",
      "metadata": {
        "id": "Yx1iNjdRTV60",
        "colab_type": "text"
      },
      "source": [
        "\n",
        "```\n",
        "for planet, initial in planet_to_initial.items():\n",
        "    print(\"{} begins with \\\"{}\\\"\".format(planet.rjust(10), initial))\n",
        "   Mercury begins with \"M\"\n",
        "     Venus begins with \"V\"\n",
        "     Earth begins with \"E\"\n",
        "      Mars begins with \"M\"\n",
        "   Jupiter begins with \"J\"\n",
        "    Saturn begins with \"S\"\n",
        "    Uranus begins with \"U\"\n",
        "   Neptune begins with \"N\"\n",
        "```\n"
      ]
    },
    {
      "cell_type": "markdown",
      "metadata": {
        "id": "W0VPNjGZTWzG",
        "colab_type": "text"
      },
      "source": [
        "\n",
        "To read a full inventory of dictionaries' methods, click the \"output\" button below to read the full help page, or check out the official online documentation.\n"
      ]
    },
    {
      "cell_type": "markdown",
      "metadata": {
        "id": "oweAAeU6TYDn",
        "colab_type": "text"
      },
      "source": [
        "\n",
        "```\n",
        "help(dict)\n",
        "Your Turn\n",
        "You've learned a lot of Python... go test your skills with some realistic programming applications.\n",
        "\n",
        "Python Home Page\n",
        "\n",
        "Have questions or comments? Visit the Learn Discussion forum to chat with other Learners."
      ]
    },
    {
      "cell_type": "markdown",
      "metadata": {
        "id": "UeMcY86PTaGD",
        "colab_type": "text"
      },
      "source": [
        "# 練習問題"
      ]
    },
    {
      "cell_type": "markdown",
      "metadata": {
        "id": "nIXtWCWSTdE8",
        "colab_type": "text"
      },
      "source": [
        "問題 １\n",
        "\n",
        "\n",
        "**[Python Home Page](https://www.kaggle.com/learn/python)**\n",
        "\n",
        "---\n",
        "\n",
        "\n",
        "# Try It Yourself\n",
        "\n",
        "You are almost done with the course. Nice job. \n",
        "\n",
        "Fortunately, we have a couple more interesting problems for you before you go. \n",
        "\n",
        "As always, run the setup code below before working on the questions.\n",
        "\n",
        "from learntools.core import binder; binder.bind(globals())\n",
        "from learntools.python.ex6 import *\n",
        "print('Setup complete.')\n",
        "\n",
        "# Exercises\n",
        "\n",
        "## 0. \n",
        "\n",
        "Let's start with a string lightning round to warm up. What are the lengths of the strings below?\n",
        "\n",
        "For each of the five strings below, predict what `len()` would return when passed that string. Use the variable `length` to record your answer, then run the cell to check whether you were right.  \n"
      ]
    },
    {
      "cell_type": "markdown",
      "metadata": {
        "id": "zAROb5mqUFt4",
        "colab_type": "text"
      },
      "source": [
        "\n",
        "a = \"\"\n",
        "length = ____\n",
        "q0.a.check()\n",
        "\n",
        "b = \"it's ok\"\n",
        "length = ____\n",
        "q0.b.check()\n",
        "\n",
        "c = 'it\\'s ok'\n",
        "length = ____\n",
        "q0.c.check()\n",
        "\n",
        "d = \"\"\"hey\"\"\"\n",
        "length = ____\n",
        "q0.d.check()\n",
        "\n",
        "e = '\\n'\n",
        "length = ____\n",
        "q0.e.check()\n"
      ]
    },
    {
      "cell_type": "markdown",
      "metadata": {
        "id": "QQCjZcQVUHUf",
        "colab_type": "text"
      },
      "source": [
        "\n",
        "## 1.\n",
        "\n",
        "There is a saying that \"Data scientists spend 80% of their time cleaning data, and 20% of their time complaining about cleaning data.\" Let's see if you can write a function to help clean US zip code data. Given a string, it should return whether or not that string represents a valid zip code. For our purposes, a valid zip code is any string consisting of exactly 5 digits.\n",
        "\n",
        "HINT: `str` has a method that will be useful here. Use `help(str)` to review a list of string methods.\n"
      ]
    },
    {
      "cell_type": "markdown",
      "metadata": {
        "id": "rjZbw1-CUKcC",
        "colab_type": "text"
      },
      "source": [
        "\n",
        "def is_valid_zip(zip_code):\n",
        "    \"\"\"Returns whether the input string is a valid (5 digit) zip code\n",
        "    \"\"\"\n",
        "    pass\n"
      ]
    },
    {
      "cell_type": "markdown",
      "metadata": {
        "id": "35mV2wguUMCN",
        "colab_type": "text"
      },
      "source": [
        "\n",
        "# Check your answer\n",
        "q1.check()\n",
        "\n",
        "#q1.hint()\n",
        "#q1.solution()\n",
        "\n",
        "## 2.\n",
        "\n",
        "A researcher has gathered thousands of news articles. But she wants to focus her attention on articles including a specific word. Complete the function below to help her filter her list of articles.\n",
        "\n",
        "Your function should meet the following criteria:\n",
        "\n",
        "- Do not include documents where the keyword string shows up only as a part of a larger word. For example, if she were looking for the keyword “closed”, you would not include the string “enclosed.” \n",
        "- She does not want you to distinguish upper case from lower case letters. So the phrase “Closed the case.” would be included when the keyword is “closed”\n",
        "- Do not let periods or commas affect what is matched. “It is closed.” would be included when the keyword is “closed”. But you can assume there are no other types of punctuation.\n"
      ]
    },
    {
      "cell_type": "markdown",
      "metadata": {
        "id": "W1of5bkYUOPF",
        "colab_type": "text"
      },
      "source": [
        "\n",
        "def word_search(doc_list, keyword):\n",
        "    \"\"\"\n",
        "    Takes a list of documents (each document is a string) and a keyword. \n",
        "    Returns list of the index values into the original list for all documents \n",
        "    containing the keyword.\n",
        "\n",
        "    Example:\n",
        "    doc_list = [\"The Learn Python Challenge Casino.\", \"They bought a car\", \"Casinoville\"]\n",
        "    >>> word_search(doc_list, 'casino')\n",
        "    >>> [0]\n",
        "    \"\"\"\n",
        "    pass\n"
      ]
    },
    {
      "cell_type": "markdown",
      "metadata": {
        "id": "XqM-LiFwUPX7",
        "colab_type": "text"
      },
      "source": [
        "\n",
        "## 3.\n",
        "\n",
        "Now the researcher wants to supply multiple keywords to search for. Complete the function below to help her.\n",
        "\n",
        "(You're encouraged to use the `word_search` function you just wrote when implementing this function. Reusing code in this way makes your programs more robust and readable - and it saves typing!)\n"
      ]
    },
    {
      "cell_type": "markdown",
      "metadata": {
        "id": "b0gLA2d0UQhF",
        "colab_type": "text"
      },
      "source": [
        "\n",
        "def multi_word_search(doc_list, keywords):\n",
        "    \"\"\"\n",
        "    Takes list of documents (each document is a string) and a list of keywords.  \n",
        "    Returns a dictionary where each key is a keyword, and the value is a list of indices\n",
        "    (from doc_list) of the documents containing that keyword\n",
        "\n",
        "    >>> doc_list = [\"The Learn Python Challenge Casino.\", \"They bought a car and a casino\", \"Casinoville\"]\n",
        "    >>> keywords = ['casino', 'they']\n",
        "    >>> multi_word_search(doc_list, keywords)\n",
        "    {'casino': [0, 1], 'they': [1]}\n",
        "    \"\"\"\n",
        "    pass\n",
        "\n"
      ]
    }
  ]
}