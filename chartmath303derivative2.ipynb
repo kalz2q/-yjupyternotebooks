{
  "nbformat": 4,
  "nbformat_minor": 0,
  "metadata": {
    "colab": {
      "name": "chartmath303derivative2.ipynb",
      "provenance": [],
      "toc_visible": true,
      "authorship_tag": "ABX9TyNOu2TN9A6/NQaESmatRif+",
      "include_colab_link": true
    },
    "kernelspec": {
      "name": "python3",
      "display_name": "Python 3"
    },
    "language_info": {
      "name": "python"
    }
  },
  "cells": [
    {
      "cell_type": "markdown",
      "metadata": {
        "id": "view-in-github",
        "colab_type": "text"
      },
      "source": [
        "<a href=\"https://colab.research.google.com/github/kalz2q/mycolabnotebooks/blob/master/chartmath303derivative2.ipynb\" target=\"_parent\"><img src=\"https://colab.research.google.com/assets/colab-badge.svg\" alt=\"Open In Colab\"/></a>"
      ]
    },
    {
      "cell_type": "markdown",
      "metadata": {
        "id": "Ovj1Uqg7nyOK"
      },
      "source": [
        "# メモ \n",
        "チャート式基礎からの数学Ⅲ 3章 微分法\n",
        "\n",
        "を読む"
      ]
    },
    {
      "cell_type": "markdown",
      "metadata": {
        "id": "g05Ndz-toGkQ"
      },
      "source": [
        "微分係数\n",
        "\n",
        "定義 $\\quad$ 関数 $f(x)$ の $x-a$ における微分係数\n",
        "\n",
        "$\\qquad f'(a)= \\displaystyle \\lim_{h \\to 0} \\frac {f(a+h)-f(a)}{h} = \\lim_{x \\to a} \\frac {f(x)-f(a)}{x-a}$\n",
        "\n",
        "微分可能と連続 $\\quad$ $f(x)$ が $x-a$ において微分可能ならば、$f(x)$ は $x-a$ において連続である。ただし、逆は成り立たない。\n",
        "\n",
        "* 命題 proposition $\\qquad$ $p \\rightarrow q$\n",
        "* 逆 converse $\\qquad$ $q \\rightarrow p$\n",
        "* 裏 reverse  $\\qquad$ $\\neg p \\rightarrow \\neg q$\n",
        "* 対偶 contraposition  $\\qquad$ $\\neg q \\rightarrow \\neg p$\n",
        "\n",
        "導関数\n",
        "\n",
        "定義 $\\quad$ 関数 $f(x)$ の 導関数\n",
        "\n",
        "$\\qquad f'(a)= \\displaystyle \\lim_{h \\to 0} \\frac {f(x+h)-f(x)}{h}$\n",
        "\n",
        "\n",
        "\n",
        "\n",
        "\n"
      ]
    },
    {
      "cell_type": "markdown",
      "metadata": {
        "id": "un_GPptA5dT2"
      },
      "source": [
        "---\n",
        "基本例題 46 p.81 (1)\n",
        "\n",
        "定義に従って、関数 $y = \\sqrt x$ の $x=1$ における微分係数を求める。\n",
        "\n",
        "$\\displaystyle \\frac {\\sqrt{1+h} - 1}{h} = \\frac {(\\sqrt{1+h} - 1)(\\sqrt{1+h} + 1)}{h(\\sqrt{1+h} + 1)}$\n",
        "\n",
        "$\\qquad = \\displaystyle \\frac {h}{h(\\sqrt{1+h} + 1)}$\n",
        "\n",
        "$\\qquad = \\displaystyle \\frac {1}{\\sqrt{1+h} + 1}$\n",
        "\n",
        "$\\qquad = \\displaystyle \\frac 1 2$"
      ]
    },
    {
      "cell_type": "markdown",
      "metadata": {
        "id": "S3pxmI3p7VMV"
      },
      "source": [
        "基本例題 46 (2) p.81\n",
        "\n",
        "関数 $y = \\;\\mid x-a\\;\\mid\\;$ について、$x=a$ における連続性、微分可能性を調べる。\n",
        "\n",
        "解:\n",
        "\n",
        "$f(x) = \\;\\mid x-a\\;\\mid\\;$ と置くと、\n",
        "\n",
        "$\\qquad \\displaystyle \\lim_{x \\to a} f(x) = \\lim_{x \\to a} \\mid x-a\\mid = 0 = f(a)$\n",
        "\n",
        "よって、$f(a)$ が極限 $\\displaystyle \\lim_{x \\to a} f(x)$と同じなので連続である。\n",
        "\n",
        "次に $h \\to 0$ と $h \\to -0$ での微分係数を調べると極限値が $\\pm 1$ となり異なるので微分可能ではない。\n",
        "\n",
        "\n"
      ]
    },
    {
      "cell_type": "markdown",
      "metadata": {
        "id": "kBdugJf_TF9w"
      },
      "source": [
        "---\n",
        "導関数の性質\n",
        "\n",
        "$k,l$ を定数とする。\n",
        "* 定数倍 $\\quad$ $(ku)' = ku'$\n",
        "* 和 $\\quad (u+v)' = u' + v'$\n",
        "* $(ku+lv)' = ku' +lv' \\quad$ 特に $\\quad (u-v)'=u'-v'$\n",
        "\n",
        "積の導関数\n",
        "* $(uv)' = u'v + uv'$\n",
        "* $n$ が自然数の時 $\\quad (x^n)' = nx^{n-1}$\n",
        "\n"
      ]
    },
    {
      "cell_type": "markdown",
      "metadata": {
        "id": "yV0xAvNsXmv9"
      },
      "source": [
        "---\n",
        "商の導関数 p.83\n",
        "\n",
        "* $\\displaystyle \\left(\\frac u v\\right)'= \\frac{u'v - uv'}{v^2}\\quad$ 特に $\\quad \\displaystyle \\left(\\frac 1 v \\right) = - \\frac {v'}{v^2}$ \n",
        "\n",
        "$n$ が整数の時、$\\quad (x^n)' = nx^{n-1}$\n",
        "\n",
        "$n$ が自然数の時は二項定理もしくは帰納法で証明する。\n",
        "\n",
        "$n$ が負の時、$n=-m$ と置いて、\n",
        "\n",
        "$(x^n)' = (x^{-m})' = \\left(\\frac 1 {x^m}\\right)'= -\\frac{(x^m)'}{(x^m)^2} = - \\frac {mx^{m-1}}{x^{2m}} = -mx^{-m-1} = nx^{n-1}$\n",
        "\n"
      ]
    },
    {
      "cell_type": "markdown",
      "metadata": {
        "id": "11GABX9lCXYF"
      },
      "source": [
        "---\n",
        "合成関数の導関数\n",
        "\n",
        "$y=f(u)$ が $u$ の関数として微分可能、$u=g(x)$ が $x$ の関数として微分可能である時、関数 $y=f(u),\\;u=g(x)$ の合成関数 $y=f(g(x))$ も $x$ の関数として微分可能である。\n",
        "\n",
        "$\\qquad \\displaystyle \\frac {dy}{dx} = \\frac {dy}{du} \\cdot \\frac {du}{dx}$\n",
        "\n",
        "一般に\n",
        "\n",
        "$\\qquad \\{f(g(x))\\}'=f'(g(x))\\dot g'(x),\\;\\displaystyle\\frac{d}{dx}f(y)=f'(y)\\cdot\\frac{dy}{dx}$\n"
      ]
    },
    {
      "cell_type": "markdown",
      "metadata": {
        "id": "rWT6jnzkj4vy"
      },
      "source": [
        "逆関数の微分法\n",
        "\n",
        "微分可能な関数 $y=f(x)$ の逆関数 $f^{-1}(x)$ が存在する時、\n",
        "\n",
        "$\\qquad \\displaystyle \\frac {dy}{dx} = \\frac {1}{\\displaystyle \\frac {dx}{dy}}$\n",
        "\n",
        "証明\n",
        "\n",
        "微分可能な関数 $y=f(x)$ の逆関数 $f^{-1}(x)$ が存在する時、$y=f(x)$ とすると、$x=f(y)$、これを左右 $x$ について微分すると、\n",
        "\n",
        "左辺は $\\quad\\displaystyle \\frac {d}{dx}x=1$\n",
        "\n",
        "右辺は $\\quad\\displaystyle\\frac{d}{dx}f(y)=\\frac{d}{dx}f(y)\\cdot\\frac{dy}{dx}=\\frac{dx}{dy}\\cdot\\frac{dy}{dx}$\n",
        "\n",
        "よって、\n",
        "\n",
        "$\\qquad 1 = \\displaystyle\\frac{dx}{dy}\\cdot\\frac{dy}{dx}$\n",
        "\n",
        "$\\qquad \\displaystyle\\frac{dy}{dx}=\\frac{1}{\\displaystyle\\frac{dx}{dy}}$\n",
        "\n",
        "\n",
        "\n"
      ]
    },
    {
      "cell_type": "markdown",
      "metadata": {
        "id": "-hvfS-jbFHc5"
      },
      "source": [
        "---\n",
        "基本例題 47 (1) p.84\n",
        "\n",
        "$u,v,w$ が $x$ の関数で微分可能であるとき、次の公式を証明する。\n",
        "\n",
        "$\\qquad (uvw)' = u'vw+uv'w+uvw'$\n",
        "\n",
        "証明\n",
        "\n",
        "$(uv)'=u'v+uv'$ より、\n",
        "\n",
        "$\\qquad (uvw)' = ((uv)w)' = (uv)'w + uvw' = u'vw + uv'w + uvw'$\n",
        "\n",
        "\n",
        "\n"
      ]
    },
    {
      "cell_type": "markdown",
      "metadata": {
        "id": "Y4SzeVU_nHT1"
      },
      "source": [
        "---\n",
        "基本例題 47 (2) p.84\n",
        "\n",
        "次の関数を微分する。\n",
        "\n"
      ]
    },
    {
      "cell_type": "code",
      "metadata": {
        "colab": {
          "base_uri": "https://localhost:8080/",
          "height": 60
        },
        "id": "FlFyBvPdnYuW",
        "outputId": "108538c8-a14f-409f-82dc-4655decb33b4"
      },
      "source": [
        "from sympy.abc import *\n",
        "from sympy import *\n",
        "y = x**4 + 2*x**3 -3*x\n",
        "display(y)\n",
        "display(diff(y))"
      ],
      "execution_count": 3,
      "outputs": [
        {
          "output_type": "display_data",
          "data": {
            "text/latex": "$\\displaystyle x^{4} + 2 x^{3} - 3 x$",
            "text/plain": [
              "x**4 + 2*x**3 - 3*x"
            ]
          },
          "metadata": {
            "tags": []
          }
        },
        {
          "output_type": "display_data",
          "data": {
            "text/latex": "$\\displaystyle 4 x^{3} + 6 x^{2} - 3$",
            "text/plain": [
              "4*x**3 + 6*x**2 - 3"
            ]
          },
          "metadata": {
            "tags": []
          }
        }
      ]
    },
    {
      "cell_type": "code",
      "metadata": {
        "colab": {
          "base_uri": "https://localhost:8080/",
          "height": 82
        },
        "id": "rU0jFMgCn1Im",
        "outputId": "460a567c-2ff7-4bea-c329-8b0c2ec70ab4"
      },
      "source": [
        "from sympy.abc import *\n",
        "from sympy import *\n",
        "y = (x**2-2*x)*(4*x**2+3*x)\n",
        "display(y)\n",
        "display(diff(y))\n",
        "display(expand(diff(y)))"
      ],
      "execution_count": 8,
      "outputs": [
        {
          "output_type": "display_data",
          "data": {
            "text/latex": "$\\displaystyle \\left(x^{2} - 2 x\\right) \\left(4 x^{2} + 3 x\\right)$",
            "text/plain": [
              "(x**2 - 2*x)*(4*x**2 + 3*x)"
            ]
          },
          "metadata": {
            "tags": []
          }
        },
        {
          "output_type": "display_data",
          "data": {
            "text/latex": "$\\displaystyle \\left(2 x - 2\\right) \\left(4 x^{2} + 3 x\\right) + \\left(8 x + 3\\right) \\left(x^{2} - 2 x\\right)$",
            "text/plain": [
              "(2*x - 2)*(4*x**2 + 3*x) + (8*x + 3)*(x**2 - 2*x)"
            ]
          },
          "metadata": {
            "tags": []
          }
        },
        {
          "output_type": "display_data",
          "data": {
            "text/latex": "$\\displaystyle 16 x^{3} - 15 x^{2} - 12 x$",
            "text/plain": [
              "16*x**3 - 15*x**2 - 12*x"
            ]
          },
          "metadata": {
            "tags": []
          }
        }
      ]
    },
    {
      "cell_type": "code",
      "metadata": {
        "colab": {
          "base_uri": "https://localhost:8080/",
          "height": 123
        },
        "id": "yW9gRnx7oY_3",
        "outputId": "65448618-4368-4142-aa78-c87f09dfd5c8"
      },
      "source": [
        "from sympy.abc import *\n",
        "from sympy import *\n",
        "y = (2*x**3+x-1)/x**2\n",
        "display(y)\n",
        "display(apart(y))\n",
        "display(expand(diff(y))) # 商の導関数の公式を使う (1/v)' = v'/v**2"
      ],
      "execution_count": 11,
      "outputs": [
        {
          "output_type": "display_data",
          "data": {
            "text/latex": "$\\displaystyle \\frac{2 x^{3} + x - 1}{x^{2}}$",
            "text/plain": [
              "(2*x**3 + x - 1)/x**2"
            ]
          },
          "metadata": {
            "tags": []
          }
        },
        {
          "output_type": "display_data",
          "data": {
            "text/latex": "$\\displaystyle 2 x + \\frac{1}{x} - \\frac{1}{x^{2}}$",
            "text/plain": [
              "2*x + 1/x - 1/x**2"
            ]
          },
          "metadata": {
            "tags": []
          }
        },
        {
          "output_type": "display_data",
          "data": {
            "text/latex": "$\\displaystyle 2 - \\frac{1}{x^{2}} + \\frac{2}{x^{3}}$",
            "text/plain": [
              "2 - 1/x**2 + 2/x**3"
            ]
          },
          "metadata": {
            "tags": []
          }
        }
      ]
    },
    {
      "cell_type": "code",
      "metadata": {
        "colab": {
          "base_uri": "https://localhost:8080/",
          "height": 134
        },
        "id": "OXNWIc5ksC1o",
        "outputId": "1c1d366e-5c42-4acb-936d-f9c2d5d6cd6e"
      },
      "source": [
        "from sympy.abc import *\n",
        "from sympy import *\n",
        "y = (2*x-3)/(x**2+1)\n",
        "display(y)\n",
        "display(diff(y))\n",
        "display(cancel(diff(y))) # 通分は cancel か simplify を使う"
      ],
      "execution_count": 17,
      "outputs": [
        {
          "output_type": "display_data",
          "data": {
            "text/latex": "$\\displaystyle \\frac{2 x - 3}{x^{2} + 1}$",
            "text/plain": [
              "(2*x - 3)/(x**2 + 1)"
            ]
          },
          "metadata": {
            "tags": []
          }
        },
        {
          "output_type": "display_data",
          "data": {
            "text/latex": "$\\displaystyle - \\frac{2 x \\left(2 x - 3\\right)}{\\left(x^{2} + 1\\right)^{2}} + \\frac{2}{x^{2} + 1}$",
            "text/plain": [
              "-2*x*(2*x - 3)/(x**2 + 1)**2 + 2/(x**2 + 1)"
            ]
          },
          "metadata": {
            "tags": []
          }
        },
        {
          "output_type": "display_data",
          "data": {
            "text/latex": "$\\displaystyle \\frac{- 2 x^{2} + 6 x + 2}{x^{4} + 2 x^{2} + 1}$",
            "text/plain": [
              "(-2*x**2 + 6*x + 2)/(x**4 + 2*x**2 + 1)"
            ]
          },
          "metadata": {
            "tags": []
          }
        }
      ]
    },
    {
      "cell_type": "markdown",
      "metadata": {
        "id": "8DoFp_HgtP6h"
      },
      "source": [
        "---\n",
        "基本例題 48 p.85 \n",
        "\n",
        "次の関数を微分する。"
      ]
    },
    {
      "cell_type": "code",
      "metadata": {
        "colab": {
          "base_uri": "https://localhost:8080/",
          "height": 66
        },
        "id": "wis_M3CntaDZ",
        "outputId": "2ed8e23e-87c5-4b2b-fd86-f01855870e3b"
      },
      "source": [
        "from sympy.abc import *\n",
        "from sympy import *\n",
        "y = (x**2+1)**3\n",
        "display(y)\n",
        "display(diff(y)) # 合成関数の微分"
      ],
      "execution_count": 20,
      "outputs": [
        {
          "output_type": "display_data",
          "data": {
            "text/latex": "$\\displaystyle \\left(x^{2} + 1\\right)^{3}$",
            "text/plain": [
              "(x**2 + 1)**3"
            ]
          },
          "metadata": {
            "tags": []
          }
        },
        {
          "output_type": "display_data",
          "data": {
            "text/latex": "$\\displaystyle 6 x \\left(x^{2} + 1\\right)^{2}$",
            "text/plain": [
              "6*x*(x**2 + 1)**2"
            ]
          },
          "metadata": {
            "tags": []
          }
        }
      ]
    },
    {
      "cell_type": "code",
      "metadata": {
        "id": "00cPkiQqxIUg",
        "outputId": "aedd095f-adea-48db-e093-6204267f127d",
        "colab": {
          "base_uri": "https://localhost:8080/",
          "height": 99
        }
      },
      "source": [
        "from sympy.abc import *\n",
        "from sympy import *\n",
        "y = 1 / (2*x-3)**2\n",
        "display(y)\n",
        "display(diff(y))"
      ],
      "execution_count": 22,
      "outputs": [
        {
          "output_type": "display_data",
          "data": {
            "text/latex": "$\\displaystyle \\frac{1}{\\left(2 x - 3\\right)^{2}}$",
            "text/plain": [
              "(2*x - 3)**(-2)"
            ]
          },
          "metadata": {
            "tags": []
          }
        },
        {
          "output_type": "display_data",
          "data": {
            "text/latex": "$\\displaystyle - \\frac{4}{\\left(2 x - 3\\right)^{3}}$",
            "text/plain": [
              "-4/(2*x - 3)**3"
            ]
          },
          "metadata": {
            "tags": []
          }
        }
      ]
    },
    {
      "cell_type": "code",
      "metadata": {
        "id": "zI8q7YTFx-tB",
        "outputId": "7cdc7321-49ec-465c-8300-21517f7ec807",
        "colab": {
          "base_uri": "https://localhost:8080/",
          "height": 84
        }
      },
      "source": [
        "from sympy.abc import *\n",
        "from sympy import *\n",
        "y =(3*x+1)**2*(x-2)\n",
        "display(y)\n",
        "display(diff(y))\n",
        "display(simplify(diff(y)))"
      ],
      "execution_count": 25,
      "outputs": [
        {
          "output_type": "display_data",
          "data": {
            "text/latex": "$\\displaystyle \\left(x - 2\\right) \\left(3 x + 1\\right)^{2}$",
            "text/plain": [
              "(x - 2)*(3*x + 1)**2"
            ]
          },
          "metadata": {
            "tags": []
          }
        },
        {
          "output_type": "display_data",
          "data": {
            "text/latex": "$\\displaystyle \\left(x - 2\\right) \\left(18 x + 6\\right) + \\left(3 x + 1\\right)^{2}$",
            "text/plain": [
              "(x - 2)*(18*x + 6) + (3*x + 1)**2"
            ]
          },
          "metadata": {
            "tags": []
          }
        },
        {
          "output_type": "display_data",
          "data": {
            "text/latex": "$\\displaystyle \\left(3 x + 1\\right) \\left(9 x - 11\\right)$",
            "text/plain": [
              "(3*x + 1)*(9*x - 11)"
            ]
          },
          "metadata": {
            "tags": []
          }
        }
      ]
    },
    {
      "cell_type": "code",
      "metadata": {
        "id": "rYgPoOpkycgj",
        "outputId": "6dcee0b9-b466-432b-8468-4e287b762420",
        "colab": {
          "base_uri": "https://localhost:8080/",
          "height": 139
        }
      },
      "source": [
        "from sympy.abc import *\n",
        "from sympy import *\n",
        "y =(x-1)/(x**2+1)**2\n",
        "display(y)\n",
        "display(diff(y))\n",
        "display(cancel(diff(y)))"
      ],
      "execution_count": 28,
      "outputs": [
        {
          "output_type": "display_data",
          "data": {
            "text/latex": "$\\displaystyle \\frac{x - 1}{\\left(x^{2} + 1\\right)^{2}}$",
            "text/plain": [
              "(x - 1)/(x**2 + 1)**2"
            ]
          },
          "metadata": {
            "tags": []
          }
        },
        {
          "output_type": "display_data",
          "data": {
            "text/latex": "$\\displaystyle - \\frac{4 x \\left(x - 1\\right)}{\\left(x^{2} + 1\\right)^{3}} + \\frac{1}{\\left(x^{2} + 1\\right)^{2}}$",
            "text/plain": [
              "-4*x*(x - 1)/(x**2 + 1)**3 + (x**2 + 1)**(-2)"
            ]
          },
          "metadata": {
            "tags": []
          }
        },
        {
          "output_type": "display_data",
          "data": {
            "text/latex": "$\\displaystyle \\frac{- 3 x^{2} + 4 x + 1}{x^{6} + 3 x^{4} + 3 x^{2} + 1}$",
            "text/plain": [
              "(-3*x**2 + 4*x + 1)/(x**6 + 3*x**4 + 3*x**2 + 1)"
            ]
          },
          "metadata": {
            "tags": []
          }
        }
      ]
    },
    {
      "cell_type": "markdown",
      "metadata": {
        "id": "3IGRonmNy4Km"
      },
      "source": [
        "---\n",
        "基本例題 49 p.86 (1)\n",
        "\n",
        "$(x^3)'=3x^2,\\;\\; \\displaystyle\\frac{dy}{dx} =\\frac{1}{\\displaystyle\\frac{dx}{dy}}$ を用いて、$y=x^3$ の逆関数 $y=f(x)$ の導関数を求める。\n",
        "\n",
        "解:\n",
        "\n",
        "\n"
      ]
    },
    {
      "cell_type": "code",
      "metadata": {
        "id": "CmcDvxn4zxWF",
        "outputId": "6ff1c285-8202-42a4-a0c4-bc90e63be2cc",
        "colab": {
          "base_uri": "https://localhost:8080/",
          "height": 91
        }
      },
      "source": [
        "from sympy.abc import *\n",
        "from sympy import *\n",
        "y = x**(Rational(1,3))\n",
        "display(y)\n",
        "print()\n",
        "display(diff(y))"
      ],
      "execution_count": 38,
      "outputs": [
        {
          "output_type": "display_data",
          "data": {
            "text/latex": "$\\displaystyle \\sqrt[3]{x}$",
            "text/plain": [
              "x**(1/3)"
            ]
          },
          "metadata": {
            "tags": []
          }
        },
        {
          "output_type": "stream",
          "text": [
            "\n"
          ],
          "name": "stdout"
        },
        {
          "output_type": "display_data",
          "data": {
            "text/latex": "$\\displaystyle \\frac{1}{3 x^{\\frac{2}{3}}}$",
            "text/plain": [
              "1/(3*x**(2/3))"
            ]
          },
          "metadata": {
            "tags": []
          }
        }
      ]
    }
  ]
}