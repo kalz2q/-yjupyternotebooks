{
  "nbformat": 4,
  "nbformat_minor": 0,
  "metadata": {
    "colab": {
      "name": "chartmath303derivative2.ipynb",
      "provenance": [],
      "authorship_tag": "ABX9TyNBSNhZruQJIVqmADOcc6+L",
      "include_colab_link": true
    },
    "kernelspec": {
      "name": "python3",
      "display_name": "Python 3"
    },
    "language_info": {
      "name": "python"
    }
  },
  "cells": [
    {
      "cell_type": "markdown",
      "metadata": {
        "id": "view-in-github",
        "colab_type": "text"
      },
      "source": [
        "<a href=\"https://colab.research.google.com/github/kalz2q/mycolabnotebooks/blob/master/chartmath303derivative2.ipynb\" target=\"_parent\"><img src=\"https://colab.research.google.com/assets/colab-badge.svg\" alt=\"Open In Colab\"/></a>"
      ]
    },
    {
      "cell_type": "markdown",
      "metadata": {
        "id": "Ovj1Uqg7nyOK"
      },
      "source": [
        "# メモ \n",
        "チャート式基礎からの数学Ⅲ 3章 微分法\n",
        "\n",
        "を読む"
      ]
    },
    {
      "cell_type": "markdown",
      "metadata": {
        "id": "g05Ndz-toGkQ"
      },
      "source": [
        "微分係数\n",
        "\n",
        "定義 $\\quad$ 関数 $f(x)$ の $x-a$ における微分係数\n",
        "\n",
        "$\\qquad f'(a)= \\displaystyle \\lim_{h \\to 0} \\frac {f(a+h)-f(a)}{h} = \\lim_{x \\to a} \\frac {f(x)-f(a)}{x-a}$\n",
        "\n",
        "微分可能と連続 $\\quad$ $f(x)$ が $x-a$ において微分可能ならば、$f(x)$ は $x-a$ において連続である。ただし、逆は成り立たない。\n",
        "\n",
        "* 命題 proposition $\\qquad$ $p \\rightarrow q$\n",
        "* 逆 converse $\\qquad$ $q \\rightarrow p$\n",
        "* 裏 reverse  $\\qquad$ $\\neg p \\rightarrow \\neg q$\n",
        "* 対偶 contraposition  $\\qquad$ $\\neg q \\rightarrow \\neg p$\n",
        "\n",
        "導関数\n",
        "\n",
        "定義 $\\quad$ 関数 $f(x)$ の 導関数\n",
        "\n",
        "$\\qquad f'(a)= \\displaystyle \\lim_{h \\to 0} \\frac {f(x+h)-f(x)}{h}$\n",
        "\n",
        "\n",
        "\n",
        "\n",
        "\n"
      ]
    },
    {
      "cell_type": "markdown",
      "metadata": {
        "id": "un_GPptA5dT2"
      },
      "source": [
        "---\n",
        "基本例題 46 p.81 (1)\n",
        "\n",
        "定義に従って、関数 $y = \\sqrt x$ の $x=1$ における微分係数を求める。\n",
        "\n",
        "$\\displaystyle \\frac {\\sqrt{1+h} - 1}{h} = \\frac {(\\sqrt{1+h} - 1)(\\sqrt{1+h} + 1)}{h(\\sqrt{1+h} + 1)}$\n",
        "\n",
        "$\\qquad = \\displaystyle \\frac {h}{h(\\sqrt{1+h} + 1)}$\n",
        "\n",
        "$\\qquad = \\displaystyle \\frac {1}{\\sqrt{1+h} + 1}$\n",
        "\n",
        "$\\qquad = \\displaystyle \\frac 1 2$"
      ]
    },
    {
      "cell_type": "markdown",
      "metadata": {
        "id": "S3pxmI3p7VMV"
      },
      "source": [
        "基本例題 46 (2) p.81\n",
        "\n"
      ]
    }
  ]
}