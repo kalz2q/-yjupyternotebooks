{
  "nbformat": 4,
  "nbformat_minor": 0,
  "metadata": {
    "colab": {
      "name": "chartmath303derivative2.ipynb",
      "provenance": [],
      "toc_visible": true,
      "authorship_tag": "ABX9TyMWR8XoidQAz5B0vQrBcJP1",
      "include_colab_link": true
    },
    "kernelspec": {
      "name": "python3",
      "display_name": "Python 3"
    },
    "language_info": {
      "name": "python"
    }
  },
  "cells": [
    {
      "cell_type": "markdown",
      "metadata": {
        "id": "view-in-github",
        "colab_type": "text"
      },
      "source": [
        "<a href=\"https://colab.research.google.com/github/kalz2q/mycolabnotebooks/blob/master/chartmath303derivative2.ipynb\" target=\"_parent\"><img src=\"https://colab.research.google.com/assets/colab-badge.svg\" alt=\"Open In Colab\"/></a>"
      ]
    },
    {
      "cell_type": "markdown",
      "metadata": {
        "id": "Ovj1Uqg7nyOK"
      },
      "source": [
        "# メモ \n",
        "チャート式基礎からの数学Ⅲ 3章 微分法\n",
        "\n",
        "を読む"
      ]
    },
    {
      "cell_type": "markdown",
      "metadata": {
        "id": "g05Ndz-toGkQ"
      },
      "source": [
        "微分係数\n",
        "\n",
        "定義 $\\quad$ 関数 $f(x)$ の $x-a$ における微分係数\n",
        "\n",
        "$\\qquad f'(a)= \\displaystyle \\lim_{h \\to 0} \\frac {f(a+h)-f(a)}{h} = \\lim_{x \\to a} \\frac {f(x)-f(a)}{x-a}$\n",
        "\n",
        "微分可能と連続 $\\quad$ $f(x)$ が $x-a$ において微分可能ならば、$f(x)$ は $x-a$ において連続である。ただし、逆は成り立たない。\n",
        "\n",
        "* 命題 proposition $\\qquad$ $p \\rightarrow q$\n",
        "* 逆 converse $\\qquad$ $q \\rightarrow p$\n",
        "* 裏 reverse  $\\qquad$ $\\neg p \\rightarrow \\neg q$\n",
        "* 対偶 contraposition  $\\qquad$ $\\neg q \\rightarrow \\neg p$\n",
        "\n",
        "導関数\n",
        "\n",
        "定義 $\\quad$ 関数 $f(x)$ の 導関数\n",
        "\n",
        "$\\qquad f'(a)= \\displaystyle \\lim_{h \\to 0} \\frac {f(x+h)-f(x)}{h}$\n",
        "\n",
        "\n",
        "\n",
        "\n",
        "\n"
      ]
    },
    {
      "cell_type": "markdown",
      "metadata": {
        "id": "un_GPptA5dT2"
      },
      "source": [
        "---\n",
        "基本例題 46 p.81 (1)\n",
        "\n",
        "定義に従って、関数 $y = \\sqrt x$ の $x=1$ における微分係数を求める。\n",
        "\n",
        "$\\displaystyle \\frac {\\sqrt{1+h} - 1}{h} = \\frac {(\\sqrt{1+h} - 1)(\\sqrt{1+h} + 1)}{h(\\sqrt{1+h} + 1)}$\n",
        "\n",
        "$\\qquad = \\displaystyle \\frac {h}{h(\\sqrt{1+h} + 1)}$\n",
        "\n",
        "$\\qquad = \\displaystyle \\frac {1}{\\sqrt{1+h} + 1}$\n",
        "\n",
        "$\\qquad = \\displaystyle \\frac 1 2$"
      ]
    },
    {
      "cell_type": "markdown",
      "metadata": {
        "id": "S3pxmI3p7VMV"
      },
      "source": [
        "基本例題 46 (2) p.81\n",
        "\n",
        "関数 $y = \\;\\mid x-a\\;\\mid\\;$ について、$x=a$ における連続性、微分可能性を調べる。\n",
        "\n",
        "解:\n",
        "\n",
        "$f(x) = \\;\\mid x-a\\;\\mid\\;$ と置くと、\n",
        "\n",
        "$\\qquad \\displaystyle \\lim_{x \\to a} f(x) = \\lim_{x \\to a} \\mid x-a\\mid = 0 = f(a)$\n",
        "\n",
        "よって、$f(a)$ が極限 $\\displaystyle \\lim_{x \\to a} f(x)$と同じなので連続である。\n",
        "\n",
        "次に $h \\to 0$ と $h \\to -0$ での微分係数を調べると極限値が $\\pm 1$ となり異なるので微分可能ではない。\n",
        "\n",
        "\n"
      ]
    },
    {
      "cell_type": "markdown",
      "metadata": {
        "id": "kBdugJf_TF9w"
      },
      "source": [
        "---\n",
        "導関数の性質\n",
        "\n",
        "$k,l$ を定数とする。\n",
        "* 定数倍 $\\quad$ $(ku)' = ku'$\n",
        "* 和 $\\quad (u+v)' = u' + v'$\n",
        "* $(ku+lv)' = ku' +lv' \\quad$ 特に $\\quad (u-v)'=u'-v'$\n",
        "\n",
        "積の導関数\n",
        "* $(uv)' = u'v + uv'$\n",
        "* $n$ が自然数の時 $\\quad (x^n)' = nx^{n-1}$\n",
        "\n"
      ]
    },
    {
      "cell_type": "markdown",
      "metadata": {
        "id": "yV0xAvNsXmv9"
      },
      "source": [
        "---\n",
        "商の導関数 p.83\n",
        "\n",
        "* $\\displaystyle \\left(\\frac u v\\right)'= \\frac{u'v - uv'}{v^2}\\quad$ 特に $\\quad \\displaystyle \\left(\\frac 1 v \\right) = - \\frac {v'}{v^2}$ \n",
        "\n",
        "$n$ が整数の時、$\\quad (x^n)' = nx^{n-1}$\n",
        "\n",
        "$n$ が自然数の時は二項定理もしくは帰納法で証明する。\n",
        "\n",
        "$n$ が負の時、$n=-m$ と置いて、\n",
        "\n",
        "$(x^n)' = (x^{-m})' = \\left(\\frac 1 {x^m}\\right)'= -\\frac{(x^m)'}{(x^m)^2} = - \\frac {mx^{m-1}}{x^{2m}} = -mx^{-m-1} = nx^{n-1}$\n",
        "\n"
      ]
    },
    {
      "cell_type": "markdown",
      "metadata": {
        "id": "11GABX9lCXYF"
      },
      "source": [
        "---\n",
        "合成関数の導関数\n",
        "\n",
        "$y=f(u)$ が $u$ の関数として微分可能、$u=g(x)$ が $x$ の関数として微分可能である時、関数 $y=f(u),\\;u=g(x)$ の合成関数 $y=f(g(x))$ も $x$ の関数として微分可能である。\n",
        "\n",
        "$\\qquad \\displaystyle \\frac {dy}{dx} = \\frac {dy}{du} \\cdot \\frac {du}{dx}$\n",
        "\n",
        "一般に\n",
        "\n",
        "$\\qquad \\{f(g(x))\\}'=f'(g(x))\\dot g'(x),\\;\\displaystyle\\frac{d}{dx}f(y)=f'(y)\\cdot\\frac{dy}{dx}$\n"
      ]
    },
    {
      "cell_type": "markdown",
      "metadata": {
        "id": "rWT6jnzkj4vy"
      },
      "source": [
        "逆関数の微分法\n",
        "\n",
        "微分可能な関数 $y=f(x)$ の逆関数 $f^{-1}(x)$ が存在する時、\n",
        "\n",
        "$\\qquad \\displaystyle \\frac {dy}{dx} = \\frac {1}{\\displaystyle \\frac {dx}{dy}}$\n",
        "\n",
        "証明\n",
        "\n",
        "微分可能な関数 $y=f(x)$ の逆関数 $f^{-1}(x)$ が存在する時、$y=f(x)$ とすると、$x=f(y)$、これを左右 $x$ について微分すると、\n",
        "\n",
        "左辺は $\\quad\\displaystyle \\frac {d}{dx}x=1$\n",
        "\n",
        "右辺は $\\quad\\displaystyle\\frac{d}{dx}f(y)=\\frac{d}{dx}f(y)\\cdot\\frac{dy}{dx}=\\frac{dx}{dy}\\cdot\\frac{dy}{dx}$\n",
        "\n",
        "よって、\n",
        "\n",
        "$\\qquad 1 = \\displaystyle\\frac{dx}{dy}\\cdot\\frac{dy}{dx}$\n",
        "\n",
        "$\\qquad \\displaystyle\\frac{dy}{dx}=\\frac{1}{\\displaystyle\\frac{dx}{dy}}$\n",
        "\n",
        "\n",
        "\n"
      ]
    },
    {
      "cell_type": "markdown",
      "metadata": {
        "id": "-hvfS-jbFHc5"
      },
      "source": [
        "---\n",
        "基本例題 47 (1) p.84\n",
        "\n",
        "$u,v,w$ が $x$ の関数で微分可能であるとき、次の公式を証明する。\n",
        "\n",
        "$\\qquad (uvw)' = u'vw+uv'w+uvw'$\n",
        "\n",
        "証明\n",
        "\n",
        "$(uv)'=u'v+uv'$ より、\n",
        "\n",
        "$\\qquad (uvw)' = ((uv)w)' = (uv)'w + uvw' = u'vw + uv'w + uvw'$\n",
        "\n",
        "\n",
        "\n"
      ]
    },
    {
      "cell_type": "markdown",
      "metadata": {
        "id": "Y4SzeVU_nHT1"
      },
      "source": [
        "---\n",
        "基本例題 47 (2) p.84\n",
        "\n",
        "次の関数を微分する。\n",
        "\n"
      ]
    },
    {
      "cell_type": "code",
      "metadata": {
        "id": "FlFyBvPdnYuW",
        "outputId": "108538c8-a14f-409f-82dc-4655decb33b4",
        "colab": {
          "base_uri": "https://localhost:8080/",
          "height": 60
        }
      },
      "source": [
        "from sympy.abc import *\n",
        "from sympy import *\n",
        "y = x**4 + 2*x**3 -3*x\n",
        "display(y)\n",
        "display(diff(y))"
      ],
      "execution_count": 3,
      "outputs": [
        {
          "output_type": "display_data",
          "data": {
            "text/latex": "$\\displaystyle x^{4} + 2 x^{3} - 3 x$",
            "text/plain": [
              "x**4 + 2*x**3 - 3*x"
            ]
          },
          "metadata": {
            "tags": []
          }
        },
        {
          "output_type": "display_data",
          "data": {
            "text/latex": "$\\displaystyle 4 x^{3} + 6 x^{2} - 3$",
            "text/plain": [
              "4*x**3 + 6*x**2 - 3"
            ]
          },
          "metadata": {
            "tags": []
          }
        }
      ]
    },
    {
      "cell_type": "code",
      "metadata": {
        "id": "rU0jFMgCn1Im",
        "outputId": "460a567c-2ff7-4bea-c329-8b0c2ec70ab4",
        "colab": {
          "base_uri": "https://localhost:8080/",
          "height": 82
        }
      },
      "source": [
        "from sympy.abc import *\n",
        "from sympy import *\n",
        "y = (x**2-2*x)*(4*x**2+3*x)\n",
        "display(y)\n",
        "display(diff(y))\n",
        "display(expand(diff(y)))"
      ],
      "execution_count": 8,
      "outputs": [
        {
          "output_type": "display_data",
          "data": {
            "text/latex": "$\\displaystyle \\left(x^{2} - 2 x\\right) \\left(4 x^{2} + 3 x\\right)$",
            "text/plain": [
              "(x**2 - 2*x)*(4*x**2 + 3*x)"
            ]
          },
          "metadata": {
            "tags": []
          }
        },
        {
          "output_type": "display_data",
          "data": {
            "text/latex": "$\\displaystyle \\left(2 x - 2\\right) \\left(4 x^{2} + 3 x\\right) + \\left(8 x + 3\\right) \\left(x^{2} - 2 x\\right)$",
            "text/plain": [
              "(2*x - 2)*(4*x**2 + 3*x) + (8*x + 3)*(x**2 - 2*x)"
            ]
          },
          "metadata": {
            "tags": []
          }
        },
        {
          "output_type": "display_data",
          "data": {
            "text/latex": "$\\displaystyle 16 x^{3} - 15 x^{2} - 12 x$",
            "text/plain": [
              "16*x**3 - 15*x**2 - 12*x"
            ]
          },
          "metadata": {
            "tags": []
          }
        }
      ]
    },
    {
      "cell_type": "code",
      "metadata": {
        "id": "yW9gRnx7oY_3",
        "outputId": "65448618-4368-4142-aa78-c87f09dfd5c8",
        "colab": {
          "base_uri": "https://localhost:8080/",
          "height": 123
        }
      },
      "source": [
        "from sympy.abc import *\n",
        "from sympy import *\n",
        "y = (2*x**3+x-1)/x**2\n",
        "display(y)\n",
        "display(apart(y))\n",
        "display(expand(diff(y))) # 商の導関数の公式を使う (1/v)' = v'/v**2"
      ],
      "execution_count": 11,
      "outputs": [
        {
          "output_type": "display_data",
          "data": {
            "text/latex": "$\\displaystyle \\frac{2 x^{3} + x - 1}{x^{2}}$",
            "text/plain": [
              "(2*x**3 + x - 1)/x**2"
            ]
          },
          "metadata": {
            "tags": []
          }
        },
        {
          "output_type": "display_data",
          "data": {
            "text/latex": "$\\displaystyle 2 x + \\frac{1}{x} - \\frac{1}{x^{2}}$",
            "text/plain": [
              "2*x + 1/x - 1/x**2"
            ]
          },
          "metadata": {
            "tags": []
          }
        },
        {
          "output_type": "display_data",
          "data": {
            "text/latex": "$\\displaystyle 2 - \\frac{1}{x^{2}} + \\frac{2}{x^{3}}$",
            "text/plain": [
              "2 - 1/x**2 + 2/x**3"
            ]
          },
          "metadata": {
            "tags": []
          }
        }
      ]
    },
    {
      "cell_type": "code",
      "metadata": {
        "id": "OXNWIc5ksC1o",
        "outputId": "1c1d366e-5c42-4acb-936d-f9c2d5d6cd6e",
        "colab": {
          "base_uri": "https://localhost:8080/",
          "height": 134
        }
      },
      "source": [
        "from sympy.abc import *\n",
        "from sympy import *\n",
        "y = (2*x-3)/(x**2+1)\n",
        "display(y)\n",
        "display(diff(y))\n",
        "display(cancel(diff(y))) # 通分は cancel か simplify を使う"
      ],
      "execution_count": 17,
      "outputs": [
        {
          "output_type": "display_data",
          "data": {
            "text/latex": "$\\displaystyle \\frac{2 x - 3}{x^{2} + 1}$",
            "text/plain": [
              "(2*x - 3)/(x**2 + 1)"
            ]
          },
          "metadata": {
            "tags": []
          }
        },
        {
          "output_type": "display_data",
          "data": {
            "text/latex": "$\\displaystyle - \\frac{2 x \\left(2 x - 3\\right)}{\\left(x^{2} + 1\\right)^{2}} + \\frac{2}{x^{2} + 1}$",
            "text/plain": [
              "-2*x*(2*x - 3)/(x**2 + 1)**2 + 2/(x**2 + 1)"
            ]
          },
          "metadata": {
            "tags": []
          }
        },
        {
          "output_type": "display_data",
          "data": {
            "text/latex": "$\\displaystyle \\frac{- 2 x^{2} + 6 x + 2}{x^{4} + 2 x^{2} + 1}$",
            "text/plain": [
              "(-2*x**2 + 6*x + 2)/(x**4 + 2*x**2 + 1)"
            ]
          },
          "metadata": {
            "tags": []
          }
        }
      ]
    },
    {
      "cell_type": "markdown",
      "metadata": {
        "id": "8DoFp_HgtP6h"
      },
      "source": [
        "---\n",
        "基本例題 48 p.85 \n",
        "\n",
        "次の関数を微分する。"
      ]
    },
    {
      "cell_type": "code",
      "metadata": {
        "id": "wis_M3CntaDZ"
      },
      "source": [
        ""
      ],
      "execution_count": null,
      "outputs": []
    }
  ]
}