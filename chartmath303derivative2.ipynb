{
  "nbformat": 4,
  "nbformat_minor": 0,
  "metadata": {
    "colab": {
      "name": "chartmath303derivative2.ipynb",
      "provenance": [],
      "authorship_tag": "ABX9TyNyfwVjPVmm+pmfMksA/Kmj",
      "include_colab_link": true
    },
    "kernelspec": {
      "name": "python3",
      "display_name": "Python 3"
    },
    "language_info": {
      "name": "python"
    }
  },
  "cells": [
    {
      "cell_type": "markdown",
      "metadata": {
        "id": "view-in-github",
        "colab_type": "text"
      },
      "source": [
        "<a href=\"https://colab.research.google.com/github/kalz2q/mycolabnotebooks/blob/master/chartmath303derivative2.ipynb\" target=\"_parent\"><img src=\"https://colab.research.google.com/assets/colab-badge.svg\" alt=\"Open In Colab\"/></a>"
      ]
    },
    {
      "cell_type": "code",
      "metadata": {
        "id": "yhDgcHN4nusP"
      },
      "source": [
        ""
      ],
      "execution_count": null,
      "outputs": []
    },
    {
      "cell_type": "markdown",
      "metadata": {
        "id": "Ovj1Uqg7nyOK"
      },
      "source": [
        "# メモ \n",
        "チャート式基礎からの数学Ⅲ 3章 微分法\n",
        "\n",
        "を読む"
      ]
    },
    {
      "cell_type": "markdown",
      "metadata": {
        "id": "g05Ndz-toGkQ"
      },
      "source": [
        "微分係数\n",
        "\n",
        "定義 $\\quad$ 関数 $f(x)$ の $x-a$ における微分係数\n",
        "\n",
        "\n"
      ]
    }
  ]
}