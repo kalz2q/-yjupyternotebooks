{
  "nbformat": 4,
  "nbformat_minor": 0,
  "metadata": {
    "colab": {
      "name": "cpp_bitsetsearch.ipynb",
      "provenance": [],
      "toc_visible": true,
      "authorship_tag": "ABX9TyM77zu5Za6erQYAFVvNs942",
      "include_colab_link": true
    },
    "kernelspec": {
      "name": "python3",
      "display_name": "Python 3"
    },
    "language_info": {
      "name": "python"
    }
  },
  "cells": [
    {
      "cell_type": "markdown",
      "metadata": {
        "id": "view-in-github",
        "colab_type": "text"
      },
      "source": [
        "<a href=\"https://colab.research.google.com/github/kalz2q/mycolabnotebooks/blob/master/cpp_bitsetsearch.ipynb\" target=\"_parent\"><img src=\"https://colab.research.google.com/assets/colab-badge.svg\" alt=\"Open In Colab\"/></a>"
      ]
    },
    {
      "cell_type": "markdown",
      "source": [
        "# メモ\n",
        "bitset を使った全探索をマスターしたい  \n",
        "apg4b の bitset の部分を勉強する  \n",
        "cpp_bit.ipynb は bitset を使わずに全探索を説明しているので書き換える  \n",
        "易しい問題を解く"
      ],
      "metadata": {
        "id": "pPe8geexq6KW"
      }
    },
    {
      "cell_type": "code",
      "source": [
        "# ネットにあった 部分和問題の解法\n",
        "%%writefile temp.cpp\n",
        "#include <bits/stdc++.h>\n",
        "using namespace std;\n",
        "\n",
        "int main() {\n",
        "    int N, K;\n",
        "    cin >> N >> K;\n",
        "    vector<int> vec(N);\n",
        "    for (int i = 0; i < N; i++) cin >> vec.at(i);\n",
        "\n",
        "    // dp の遷移を bitset に落とし込む\n",
        "    bitset<100001> dp; // ある程度大きな数にしておく必要がある\n",
        "    dp.set(0); // bitset の 0 桁目 (右端) を 1 にする。他はデフォルトで 0\n",
        "    for (int i = 0; i < N; i++) dp |= (dp << vec.at(i)); // ここがポイント!!!! \n",
        "    // 複合代入演算子を使っている\n",
        "    // 例えば 1 は |= で 11 になり 2 が来ると 1 と 2 と 3 にフラグが立つ\n",
        "    // | なのですでにフラグが立っていればそのまま\n",
        "\n",
        "    // 答えを出力\n",
        "    if (dp.test(K)) cout << \"Yes\" << endl; // bitset の値を調べるのは test を使う\n",
        "    else cout << \"No\" << endl;\n",
        "}"
      ],
      "metadata": {
        "id": "9Dgr0hn2rkjH",
        "colab": {
          "base_uri": "https://localhost:8080/"
        },
        "outputId": "fe1a085f-d536-4ca1-b9eb-56a24ecac03e"
      },
      "execution_count": null,
      "outputs": [
        {
          "output_type": "stream",
          "name": "stdout",
          "text": [
            "Overwriting temp.cpp\n"
          ]
        }
      ]
    },
    {
      "cell_type": "code",
      "source": [
        "!g++ temp.cpp; echo 3 11 7 2 9 |./a.out #=> Yes\n",
        "!g++ temp.cpp; echo 2 11 5 7 |./a.out #=> No"
      ],
      "metadata": {
        "id": "Y9qViu6jrkxF",
        "colab": {
          "base_uri": "https://localhost:8080/"
        },
        "outputId": "f16fd787-b399-4246-e3c0-176470d7a590"
      },
      "execution_count": null,
      "outputs": [
        {
          "output_type": "stream",
          "name": "stdout",
          "text": [
            "Yes\n",
            "No\n"
          ]
        }
      ]
    },
    {
      "cell_type": "code",
      "source": [
        "# 上記の部分和問題の解法は理解したが\n",
        "# 一般化出来ないと思うので\n",
        "# 普通の全探索をやってみよう"
      ],
      "metadata": {
        "id": "U7anW-ivwYXf"
      },
      "execution_count": null,
      "outputs": []
    },
    {
      "cell_type": "code",
      "source": [
        "# 部分和を普通の bitset 全探索でやってみる\n",
        "%%writefile temp.cpp\n",
        "#include <bits/stdc++.h>\n",
        "using namespace std;\n",
        "\n",
        "int main() {\n",
        "    int N, K;\n",
        "    cin >> N >> K;\n",
        "    vector<int> vec(N);\n",
        "    for (int i = 0; i < N; i++) cin >> vec.at(i);\n",
        "\n",
        "    // N 桁の全探索ですべての場合について合計が K になるかを調べる\n",
        "    bool flag = false;\n",
        "    for (int tmp = 0; tmp < (1 << N); tmp++) {\n",
        "        bitset<20> bs(tmp);\n",
        "        int sum = 0;\n",
        "        for (int i = 0; i < N ; i++) {\n",
        "            if (bs.test(i)) sum += vec.at(i);\n",
        "        }\n",
        "        if ( sum == K) flag = true;\n",
        "    }\n",
        "\n",
        "    if (flag) cout << \"Yes\" << endl; // bitset の値を調べるのは test を使う\n",
        "    else cout << \"No\" << endl;\n",
        "}"
      ],
      "metadata": {
        "id": "03gFjHsSn7gB",
        "outputId": "1abe2058-cb08-4760-b48d-99b9129cc51d",
        "colab": {
          "base_uri": "https://localhost:8080/"
        }
      },
      "execution_count": null,
      "outputs": [
        {
          "output_type": "stream",
          "name": "stdout",
          "text": [
            "Overwriting temp.cpp\n"
          ]
        }
      ]
    },
    {
      "cell_type": "code",
      "source": [
        "!g++ temp.cpp; echo 3 11 7 2 9 |./a.out #=> Yes\n",
        "!g++ temp.cpp; echo 2 11 5 7 |./a.out #=> No\n",
        "!g++ temp.cpp; echo 5 11 2 8 4 2 9 |./a.out #=> YES\n",
        "!g++ temp.cpp; echo 5 3 2 8 4 2 9 |./a.out #=> NO\n",
        "!g++ temp.cpp; echo 5 25 2 8 4 2 9 |./a.out #=> YES"
      ],
      "metadata": {
        "id": "WfDGdZMboGqW",
        "outputId": "2b57fc77-1b1e-42b9-9e81-4ad6b5ca8028",
        "colab": {
          "base_uri": "https://localhost:8080/"
        }
      },
      "execution_count": null,
      "outputs": [
        {
          "output_type": "stream",
          "name": "stdout",
          "text": [
            "Yes\n",
            "No\n"
          ]
        }
      ]
    },
    {
      "cell_type": "code",
      "source": [
        "# bitset 全探索\n",
        "%%writefile temp.cpp\n",
        "#include <bits/stdc++.h>\n",
        "using namespace std;\n",
        " \n",
        "int main() {\n",
        "    for (int tmp = 0; tmp < (1 << 3); tmp++) {\n",
        "        bitset<3> s(tmp);\n",
        "        cout << s << endl;\n",
        "    }\n",
        "}"
      ],
      "metadata": {
        "id": "61d_AdjhtfZG",
        "outputId": "85683b5e-af2d-4a96-911b-88de5f472ff0",
        "colab": {
          "base_uri": "https://localhost:8080/"
        }
      },
      "execution_count": null,
      "outputs": [
        {
          "output_type": "stream",
          "name": "stdout",
          "text": [
            "Overwriting temp.cpp\n"
          ]
        }
      ]
    },
    {
      "cell_type": "code",
      "source": [
        "!g++ temp.cpp; ./a.out"
      ],
      "metadata": {
        "id": "eRt4dQdPtnlH",
        "outputId": "155f009e-078e-4e45-efdd-ffaeaced1273",
        "colab": {
          "base_uri": "https://localhost:8080/"
        }
      },
      "execution_count": null,
      "outputs": [
        {
          "output_type": "stream",
          "name": "stdout",
          "text": [
            "000\n",
            "001\n",
            "010\n",
            "011\n",
            "100\n",
            "101\n",
            "110\n",
            "111\n"
          ]
        }
      ]
    },
    {
      "cell_type": "code",
      "source": [
        "# bitsetの操作に使う関数\n",
        "# bitset は set, test を使う。 at や `[]` は使えない\n",
        "# 位置の指定は右からで配列の逆\n",
        "%%html\n",
        "<table border=\"1\" style=\"width:80%\">\n",
        "<thead>\n",
        "<tr><th>操作</th><th>書き方</th><th style=\"width: 50%\">備考</th></tr>\n",
        "</thead>\n",
        "<tbody>\n",
        "<tr><td>特定のビットの値を変更する</td><td>変数.set(位置, 値);</td><td>変更するビットの位置を0始まりのインデックスで指定します。値は0か1を指定します。</td></tr>\n",
        "<tr><td>特定のビットが1になっているかを調べる</td><td>変数.test(調べる位置);</td><td>調べるビットの位置を0始まりのインデックスで指定します。ビットが1ならtrueを、ビットが0ならfalseを返します。</td></tr>\n",
        "</tbody>\n",
        "</table>"
      ],
      "metadata": {
        "id": "LCbhhtUiKuJS",
        "outputId": "23f21d4c-c950-47fb-a67e-d821b050d13b",
        "colab": {
          "base_uri": "https://localhost:8080/",
          "height": 124
        }
      },
      "execution_count": null,
      "outputs": [
        {
          "output_type": "display_data",
          "data": {
            "text/plain": [
              "<IPython.core.display.HTML object>"
            ],
            "text/html": [
              "<table border=\"1\" style=\"width:80%\">\n",
              "<thead>\n",
              "<tr><th>操作</th><th>書き方</th><th style=\"width: 50%\">備考</th></tr>\n",
              "</thead>\n",
              "<tbody>\n",
              "<tr><td>特定のビットの値を変更する</td><td>変数.set(位置, 値);</td><td>変更するビットの位置を0始まりのインデックスで指定します。値は0か1を指定します。</td></tr>\n",
              "<tr><td>特定のビットが1になっているかを調べる</td><td>変数.test(調べる位置);</td><td>調べるビットの位置を0始まりのインデックスで指定します。ビットが1ならtrueを、ビットが0ならfalseを返します。</td></tr>\n",
              "</tbody>\n",
              "</table>"
            ]
          },
          "metadata": {}
        }
      ]
    },
    {
      "cell_type": "code",
      "source": [
        "# set と test の使い方\n",
        "%%writefile temp.cpp\n",
        "#include <bits/stdc++.h>\n",
        "using namespace std;\n",
        "int main() {\n",
        "  bitset<4> bs;\n",
        "  bs.set(0, 1);  // 0番目のビットを1にする\n",
        "  cout << bs << endl;\n",
        " \n",
        "  if (bs.test(3)) {\n",
        "    cout << \"4th bit is 1\" << endl;\n",
        "  } else {\n",
        "    cout << \"4th bit is 0\" << endl;\n",
        "  }\n",
        "}"
      ],
      "metadata": {
        "id": "PS6m2vFALaxy",
        "outputId": "eb9fb5c7-87d7-4a34-dd5d-de68d6de2110",
        "colab": {
          "base_uri": "https://localhost:8080/"
        }
      },
      "execution_count": null,
      "outputs": [
        {
          "output_type": "stream",
          "name": "stdout",
          "text": [
            "Overwriting temp.cpp\n"
          ]
        }
      ]
    },
    {
      "cell_type": "code",
      "source": [
        "!g++ temp.cpp; ./a.out "
      ],
      "metadata": {
        "id": "aZAChAQEMgWf",
        "outputId": "402eff89-a73a-476e-d018-bfdc3ba1db52",
        "colab": {
          "base_uri": "https://localhost:8080/"
        }
      },
      "execution_count": null,
      "outputs": [
        {
          "output_type": "stream",
          "name": "stdout",
          "text": [
            "0001\n",
            "4th bit is 0\n"
          ]
        }
      ]
    },
    {
      "cell_type": "code",
      "source": [
        "# 整数とビット列の対応\n",
        "%%html\n",
        "<table border=\"1\">\n",
        "<thead>\n",
        "<tr><th>十進数</th><th>二進数</th><th></th></tr>\n",
        "</thead>\n",
        "<tbody>\n",
        "<tr><td>4</td><td>100</td><td>4=2^2</td></tr>\n",
        "<tr><td>5</td><td>101</td><td>5=4+1=2^2+2^0</td></tr>\n",
        "<tr><td>36</td><td>100100</td><td>36=32+4=2^5+2^2</td></tr>\n",
        "<tr><td>100</td><td>1100100</td><td>100=64+32+4=2^6+2^5+2^2</td></tr>\n",
        "</tbody>\n",
        "</table>"
      ],
      "metadata": {
        "id": "bpFwvtqiMc59",
        "outputId": "4414d4f2-4181-49bf-d3cd-2e3bb9c72d63",
        "colab": {
          "base_uri": "https://localhost:8080/",
          "height": 135
        }
      },
      "execution_count": null,
      "outputs": [
        {
          "output_type": "display_data",
          "data": {
            "text/plain": [
              "<IPython.core.display.HTML object>"
            ],
            "text/html": [
              "<table border=\"1\">\n",
              "<thead>\n",
              "<tr><th>十進数</th><th>二進数</th><th></th></tr>\n",
              "</thead>\n",
              "<tbody>\n",
              "<tr><td>4</td><td>100</td><td>4=2^2</td></tr>\n",
              "<tr><td>5</td><td>101</td><td>5=4+1=2^2+2^0</td></tr>\n",
              "<tr><td>36</td><td>100100</td><td>36=32+4=2^5+2^2</td></tr>\n",
              "<tr><td>100</td><td>1100100</td><td>100=64+32+4=2^6+2^5+2^2</td></tr>\n",
              "</tbody>\n",
              "</table>"
            ]
          },
          "metadata": {}
        }
      ]
    },
    {
      "cell_type": "code",
      "source": [
        "# 0〜15の二進数表記は以下の通りです。二進数に不慣れな人は確認してみてください。\n",
        "%%html\n",
        "<table border=\"1\">\n",
        "<thead>\n",
        "<tr><th>十進数</th><th>0</th><th>1</th><th>2</th><th>3</th><th>4</th><th>5</th><th>6</th><th>7</th><th>8</th><th>9</th><th>10</th><th>11</th><th>12</th><th>13</th><th>14</th><th>15</th></tr>\n",
        "</thead>\n",
        "<tbody>\n",
        "<tr><td>二進数</td><td>0000</td><td>0001</td><td>0010</td><td>0011</td><td>0100</td><td>0101</td><td>0110</td><td>0111</td><td>1000</td><td>1001</td><td>1010</td><td>1011</td><td>1100</td><td>1101</td><td>1110</td><td>1111</td></tr>\n",
        "</tbody>\n",
        "</table>"
      ],
      "metadata": {
        "id": "FMOxmed-iicW",
        "outputId": "4a9d0559-5018-43a3-f7c0-aa78076cd835",
        "colab": {
          "base_uri": "https://localhost:8080/",
          "height": 67
        }
      },
      "execution_count": null,
      "outputs": [
        {
          "output_type": "display_data",
          "data": {
            "text/plain": [
              "<IPython.core.display.HTML object>"
            ],
            "text/html": [
              "<table border=\"1\">\n",
              "<thead>\n",
              "<tr><th>十進数</th><th>0</th><th>1</th><th>2</th><th>3</th><th>4</th><th>5</th><th>6</th><th>7</th><th>8</th><th>9</th><th>10</th><th>11</th><th>12</th><th>13</th><th>14</th><th>15</th></tr>\n",
              "</thead>\n",
              "<tbody>\n",
              "<tr><td>二進数</td><td>0000</td><td>0001</td><td>0010</td><td>0011</td><td>0100</td><td>0101</td><td>0110</td><td>0111</td><td>1000</td><td>1001</td><td>1010</td><td>1011</td><td>1100</td><td>1101</td><td>1110</td><td>1111</td></tr>\n",
              "</tbody>\n",
              "</table>"
            ]
          },
          "metadata": {}
        }
      ]
    },
    {
      "cell_type": "code",
      "source": [
        "# 0〜15の二進数表記\n",
        "%%writefile temp.cpp\n",
        "#include <bits/stdc++.h>\n",
        "using namespace std;\n",
        "\n",
        "int main() {\n",
        "    for (int i = 0; i < (1 << 4); i++) {\n",
        "        cout << i << \" : \" << bitset<4>(i) << endl;\n",
        "    }\n",
        "}"
      ],
      "metadata": {
        "id": "ShJ4Y9mtZfRM",
        "outputId": "3db25026-c6ba-46c3-a327-bb08f63e0722",
        "colab": {
          "base_uri": "https://localhost:8080/"
        }
      },
      "execution_count": null,
      "outputs": [
        {
          "output_type": "stream",
          "name": "stdout",
          "text": [
            "Overwriting temp.cpp\n"
          ]
        }
      ]
    },
    {
      "cell_type": "code",
      "source": [
        "!g++ temp.cpp; ./a.out "
      ],
      "metadata": {
        "id": "IqWfephgyHG6",
        "outputId": "4a9d51d3-9441-4b37-e976-de5659344bec",
        "colab": {
          "base_uri": "https://localhost:8080/"
        }
      },
      "execution_count": null,
      "outputs": [
        {
          "output_type": "stream",
          "name": "stdout",
          "text": [
            "0 : 0000\n",
            "1 : 0001\n",
            "2 : 0010\n",
            "3 : 0011\n",
            "4 : 0100\n",
            "5 : 0101\n",
            "6 : 0110\n",
            "7 : 0111\n",
            "8 : 1000\n",
            "9 : 1001\n",
            "10 : 1010\n",
            "11 : 1011\n",
            "12 : 1100\n",
            "13 : 1101\n",
            "14 : 1110\n",
            "15 : 1111\n"
          ]
        }
      ]
    },
    {
      "cell_type": "code",
      "source": [
        "# bit 演算子の優先順序は低いので必ず `()` で括る\n",
        "%%writefile temp.cpp\n",
        "#include <bits/stdc++.h>\n",
        "using namespace std;\n",
        " \n",
        "int main() {\n",
        "  int x = 5;  // 0101\n",
        "  int y = 10; // 1010\n",
        "  // if (x & y > 0) { // &演算子よりも>演算子の優先度の方が高いので x & (y > 0) と解釈される\n",
        "  if ((x & y) > 0) {\n",
        "    cout << \"yes\" << endl;\n",
        "  } else {\n",
        "    cout << \"no\" << endl;\n",
        "  }\n",
        "}"
      ],
      "metadata": {
        "id": "wEUMEe69i5at",
        "outputId": "5f777ccb-f672-4e65-8094-d9199d5d74f8",
        "colab": {
          "base_uri": "https://localhost:8080/"
        }
      },
      "execution_count": null,
      "outputs": [
        {
          "output_type": "stream",
          "name": "stdout",
          "text": [
            "Overwriting temp.cpp\n"
          ]
        }
      ]
    },
    {
      "cell_type": "code",
      "source": [
        "!g++ temp.cpp; ./a.out "
      ],
      "metadata": {
        "id": "hAggQIyQjVeZ",
        "outputId": "124faded-43f6-4b84-9604-3855614210d8",
        "colab": {
          "base_uri": "https://localhost:8080/"
        }
      },
      "execution_count": null,
      "outputs": [
        {
          "output_type": "stream",
          "name": "stdout",
          "text": [
            "no\n"
          ]
        }
      ]
    },
    {
      "cell_type": "code",
      "source": [
        "# 主要な演算子の優先順位\n",
        "%%html\n",
        "<style>\n",
        "    tr td:nth-child(1) {\n",
        "        color: red;\n",
        "    }\n",
        "</style>\n",
        "<table border=\"1\">\n",
        "<thead>\n",
        "<tr><th style=\"width:35%\">演算子</th><th>説明</th></tr>\n",
        "</thead>\n",
        "<tbody>\n",
        "<tr><td>a++, a--, .</td><td>インクリメント、デクリメント、メンバアクセス</td></tr>\n",
        "<tr><td>!, ~</td><td>論理否定、ビット毎のNOT演算</td></tr>\n",
        "<tr><td>a*b, a/b, a%b</td><td>乗算、除算、剰余</td></tr>\n",
        "<tr><td>a+b, a-b</td><td>加算、減算</td></tr>\n",
        "<tr><td><<, >></td><td>左シフト演算、右シフト演算</td></tr>\n",
        "<tr><td><, <=, >, >=</td><td>比較演算</td></tr>\n",
        "<tr><td>==, !=</td><td>関係演算子</td></tr>\n",
        "<tr><td>&</td><td>ビット毎のAND演算</td></tr>\n",
        "<tr><td>^</td><td>ビット毎のXOR演算</td></tr>\n",
        "<tr><td>|</td><td>ビット毎のOR演算</td></tr>\n",
        "<tr><td>&&</td><td>論理演算（かつ）</td></tr>\n",
        "<tr><td>||</td><td>論理演算（または）</td></tr>\n",
        "<tr><td>=, ◯=</td><td>代入演算、複合代入演算</td></tr>\n",
        "</tbody>\n",
        "</table>"
      ],
      "metadata": {
        "id": "pvYQgQTGjRl-",
        "outputId": "57d978b1-4f48-4368-c761-82a8a8a62027",
        "colab": {
          "base_uri": "https://localhost:8080/",
          "height": 342
        }
      },
      "execution_count": null,
      "outputs": [
        {
          "output_type": "display_data",
          "data": {
            "text/plain": [
              "<IPython.core.display.HTML object>"
            ],
            "text/html": [
              "<style>\n",
              "    tr td:nth-child(1) {\n",
              "        color: red;\n",
              "    }\n",
              "</style>\n",
              "<table border=\"1\">\n",
              "<thead>\n",
              "<tr><th style=\"width:35%\">演算子</th><th>説明</th></tr>\n",
              "</thead>\n",
              "<tbody>\n",
              "<tr><td>a++, a--, .</td><td>インクリメント、デクリメント、メンバアクセス</td></tr>\n",
              "<tr><td>!, ~</td><td>論理否定、ビット毎のNOT演算</td></tr>\n",
              "<tr><td>a*b, a/b, a%b</td><td>乗算、除算、剰余</td></tr>\n",
              "<tr><td>a+b, a-b</td><td>加算、減算</td></tr>\n",
              "<tr><td><<, >></td><td>左シフト演算、右シフト演算</td></tr>\n",
              "<tr><td><, <=, >, >=</td><td>比較演算</td></tr>\n",
              "<tr><td>==, !=</td><td>関係演算子</td></tr>\n",
              "<tr><td>&</td><td>ビット毎のAND演算</td></tr>\n",
              "<tr><td>^</td><td>ビット毎のXOR演算</td></tr>\n",
              "<tr><td>|</td><td>ビット毎のOR演算</td></tr>\n",
              "<tr><td>&&</td><td>論理演算（かつ）</td></tr>\n",
              "<tr><td>||</td><td>論理演算（または）</td></tr>\n",
              "<tr><td>=, ◯=</td><td>代入演算、複合代入演算</td></tr>\n",
              "</tbody>\n",
              "</table>"
            ]
          },
          "metadata": {}
        }
      ]
    },
    {
      "cell_type": "code",
      "source": [
        "# bitset の関数\n",
        "# 以下の表に bitset のビット列に対する操作をまとめます。\n",
        "%%html\n",
        "<table border=\"1\" style=\"width: 90%\">\n",
        "<thead>\n",
        "<tr><th>操作</th><th>書き方</th><th style=\"width: 50%\">備考</th></tr>\n",
        "</thead>\n",
        "<tbody>\n",
        "<tr><td>全てのビットを1にする</td><td>変数.set();</td><td></td></tr>\n",
        "<tr><td>特定のビットを1にする</td><td>変数.set(1にする位置);</td><td>1にするビットの位置を0始まりのインデックスで指定します。</td></tr>\n",
        "<tr><td>特定のビットの値を変更する</td><td>変数.set(位置, 値);</td><td>変更するビットの位置を0始まりのインデックスで指定します。値は0か1を指定します。</td></tr>\n",
        "<tr><td>全てのビットを0にする</td><td>変数.reset();</td><td></td></tr>\n",
        "<tr><td>特定のビットを0にする</td><td>変数.reset(0にする位置);</td><td>0にするビットの位置を0始まりのインデックスで指定します。</td></tr>\n",
        "<tr><td>全てのビットを反転する</td><td>変数.flip();</td><td></td></tr>\n",
        "<tr><td>特定のビットを反転する</td><td>変数.flip(反転する位置);</td><td>反転するビットの位置を0始まりのインデックスで指定します。</td></tr>\n",
        "<tr><td>特定のビットが1になっているかを調べる</td><td>変数.test(調べる位置);</td><td>調べるビットの位置を0始まりのインデックスで指定します。ビットが1ならtrueを、ビットが0ならfalseを返します。</td></tr>\n",
        "<tr><td>全てのビットが1になっているかを判定する</td><td>変数.all()</td><td>全てのビットが1ならtrueを、そうでなければfalseを返します。</td></tr>\n",
        "<tr><td>いずれかのビットが1になっているかを判定する</td><td>変数.any()</td><td>1のビットが存在するならtrueを、そうでなければfalseを返します。</td></tr>\n",
        "<tr><td>1のビットの個数を数える</td><td>変数.count()</td><td></td></tr>\n",
        "<tr><td>ビット列を出力する</td><td>cout << 変数;</td><td></td></tr>\n",
        "<tr><td>ビット列を文字列化する</td><td>変数.to_string()</td><td></td></tr>\n",
        "<tr><td>ビットに対するアクセス</td><td>変数[位置]</td><td>基本的にはtest、set/resetと同等ですが、範囲外の位置を指定した場合にエラーにならないことに注意する必要があります。</td></tr>\n",
        "</tbody>\n",
        "</table>"
      ],
      "metadata": {
        "id": "mn2sFwd8kBYz",
        "outputId": "51399bc9-2790-4226-e6f4-8fa22a0eca97",
        "colab": {
          "base_uri": "https://localhost:8080/",
          "height": 417
        }
      },
      "execution_count": null,
      "outputs": [
        {
          "output_type": "display_data",
          "data": {
            "text/plain": [
              "<IPython.core.display.HTML object>"
            ],
            "text/html": [
              "<table border=\"1\" style=\"width: 90%\">\n",
              "<thead>\n",
              "<tr><th>操作</th><th>書き方</th><th style=\"width: 50%\">備考</th></tr>\n",
              "</thead>\n",
              "<tbody>\n",
              "<tr><td>全てのビットを1にする</td><td>変数.set();</td><td></td></tr>\n",
              "<tr><td>特定のビットを1にする</td><td>変数.set(1にする位置);</td><td>1にするビットの位置を0始まりのインデックスで指定します。</td></tr>\n",
              "<tr><td>特定のビットの値を変更する</td><td>変数.set(位置, 値);</td><td>変更するビットの位置を0始まりのインデックスで指定します。値は0か1を指定します。</td></tr>\n",
              "<tr><td>全てのビットを0にする</td><td>変数.reset();</td><td></td></tr>\n",
              "<tr><td>特定のビットを0にする</td><td>変数.reset(0にする位置);</td><td>0にするビットの位置を0始まりのインデックスで指定します。</td></tr>\n",
              "<tr><td>全てのビットを反転する</td><td>変数.flip();</td><td></td></tr>\n",
              "<tr><td>特定のビットを反転する</td><td>変数.flip(反転する位置);</td><td>反転するビットの位置を0始まりのインデックスで指定します。</td></tr>\n",
              "<tr><td>特定のビットが1になっているかを調べる</td><td>変数.test(調べる位置);</td><td>調べるビットの位置を0始まりのインデックスで指定します。ビットが1ならtrueを、ビットが0ならfalseを返します。</td></tr>\n",
              "<tr><td>全てのビットが1になっているかを判定する</td><td>変数.all()</td><td>全てのビットが1ならtrueを、そうでなければfalseを返します。</td></tr>\n",
              "<tr><td>いずれかのビットが1になっているかを判定する</td><td>変数.any()</td><td>1のビットが存在するならtrueを、そうでなければfalseを返します。</td></tr>\n",
              "<tr><td>1のビットの個数を数える</td><td>変数.count()</td><td></td></tr>\n",
              "<tr><td>ビット列を出力する</td><td>cout << 変数;</td><td></td></tr>\n",
              "<tr><td>ビット列を文字列化する</td><td>変数.to_string()</td><td></td></tr>\n",
              "<tr><td>ビットに対するアクセス</td><td>変数[位置]</td><td>基本的にはtest、set/resetと同等ですが、範囲外の位置を指定した場合にエラーにならないことに注意する必要があります。</td></tr>\n",
              "</tbody>\n",
              "</table>"
            ]
          },
          "metadata": {}
        }
      ]
    },
    {
      "cell_type": "code",
      "source": [
        "# 実験 to_string , to_ullong\n",
        "%%writefile temp.cpp\n",
        "#include <bits/stdc++.h>\n",
        "using namespace std;\n",
        " \n",
        "int main() {\n",
        "  bitset<4> x(\"1010\");\n",
        "  cout << x.to_string() << endl;\n",
        "  cout << x << endl;\n",
        "  cout << x.to_ullong() << endl;\n",
        "}"
      ],
      "metadata": {
        "id": "Yx0WeXNhEzOW"
      },
      "execution_count": null,
      "outputs": []
    },
    {
      "cell_type": "code",
      "source": [
        "!g++ temp.cpp; ./a.out"
      ],
      "metadata": {
        "id": "3dDYV0FlFOdP",
        "outputId": "33bdcf2a-2605-42ab-8210-046cde15a1af",
        "colab": {
          "base_uri": "https://localhost:8080/"
        }
      },
      "execution_count": null,
      "outputs": [
        {
          "output_type": "stream",
          "name": "stdout",
          "text": [
            "1010\n",
            "1010\n",
            "10\n"
          ]
        }
      ]
    },
    {
      "cell_type": "code",
      "source": [
        "# ビット全探索\n",
        "%%writefile temp.cpp\n",
        "#include <bits/stdc++.h>\n",
        "using namespace std;\n",
        " \n",
        "int main() {\n",
        "  // 3ビットのビット列をすべて列挙する\n",
        "  for (int tmp = 0; tmp < (1 << 3); tmp++) {\n",
        "    bitset<3> s(tmp);\n",
        "    cout << s << endl;\n",
        "  }\n",
        "}"
      ],
      "metadata": {
        "id": "5xpXXrjzk6p2",
        "outputId": "d266b996-515f-4af7-cb4a-5a03000d91d9",
        "colab": {
          "base_uri": "https://localhost:8080/"
        }
      },
      "execution_count": null,
      "outputs": [
        {
          "output_type": "stream",
          "name": "stdout",
          "text": [
            "Writing temp.cpp\n"
          ]
        }
      ]
    },
    {
      "cell_type": "code",
      "source": [
        "!g++ temp.cpp; ./a.out "
      ],
      "metadata": {
        "id": "IsmmEXL2RJHt",
        "outputId": "50b7d63b-2222-4b2a-d35d-9d68013a59e3",
        "colab": {
          "base_uri": "https://localhost:8080/"
        }
      },
      "execution_count": null,
      "outputs": [
        {
          "output_type": "stream",
          "name": "stdout",
          "text": [
            "000\n",
            "001\n",
            "010\n",
            "011\n",
            "100\n",
            "101\n",
            "110\n",
            "111\n"
          ]
        }
      ]
    },
    {
      "cell_type": "code",
      "source": [
        "# 0から7のビット列は次のようになっている\n",
        "%%html\n",
        "<table border=\"1\">\n",
        "<tbody>\n",
        "<tr><td>十進数</td><td>0</td><td>1</td><td>2</td><td>3</td><td>4</td><td>5</td><td>6</td><td>7</td></tr>\n",
        "<tr><td>二進数</td><td>000</td><td>001</td><td>010</td><td>011</td><td>100</td><td>101</td><td>110</td><td>111</td></tr>\n",
        "</tbody>\n",
        "</table>"
      ],
      "metadata": {
        "id": "OVysB-ZaRDo5",
        "outputId": "94739f7b-a5e9-4589-d6fc-044ff580b31d",
        "colab": {
          "base_uri": "https://localhost:8080/",
          "height": 67
        }
      },
      "execution_count": null,
      "outputs": [
        {
          "output_type": "display_data",
          "data": {
            "text/plain": [
              "<IPython.core.display.HTML object>"
            ],
            "text/html": [
              "<table border=\"1\">\n",
              "<tbody>\n",
              "<tr><td>十進数</td><td>0</td><td>1</td><td>2</td><td>3</td><td>4</td><td>5</td><td>6</td><td>7</td></tr>\n",
              "<tr><td>二進数</td><td>000</td><td>001</td><td>010</td><td>011</td><td>100</td><td>101</td><td>110</td><td>111</td></tr>\n",
              "</tbody>\n",
              "</table>"
            ]
          },
          "metadata": {}
        }
      ]
    },
    {
      "cell_type": "code",
      "source": [
        "# bitsetと整数の相互変換\n",
        "# 整数からbitsetへの変換\n",
        "# bitsetのコンストラクタに整数を渡すことで整数をビット列としてみなしてbitsetに変換することが出来る\n",
        "\n",
        "# bitset<ビット数> 変数名(整数);\n",
        "\n",
        "# bitsetから整数への変換\n",
        "# mapのKeyとして使う場合や四則演算を行う場合に、bitsetを整数に変換したいことがある\n",
        "# このような場合には、bitsetのto_ullong関数を用いる\n",
        "\n",
        "# bitsetの変数.to_ullong()\n",
        "# bitsetのビット数が64ビットを超えている場合は、整数に変換できずに実行時エラーになる\n",
        "\n",
        "# 2進数リテラル\n",
        "# 2進数リテラルを用いることで、2進数表記で整数を書くことが出来る\n",
        "\n",
        "# 2進数リテラルは0b0101や0b11111111のように、0bに続けて01のビット列を書く\n",
        "\n",
        "%%writefile temp.cpp\n",
        "#include <bits/stdc++.h>\n",
        "using namespace std;\n",
        " \n",
        "int main() {\n",
        "  uint32_t x = 0b100;\n",
        "  cout << x << endl;  // 4\n",
        " \n",
        "  cout << (x | 0b010) << endl;  // 計算結果は 0b110 = 6\n",
        "}"
      ],
      "metadata": {
        "id": "dbTlJoKGTFUK",
        "colab": {
          "base_uri": "https://localhost:8080/"
        },
        "outputId": "505a891e-b9d1-4ede-f350-de660d00aaf8"
      },
      "execution_count": null,
      "outputs": [
        {
          "output_type": "stream",
          "name": "stdout",
          "text": [
            "Overwriting temp.cpp\n"
          ]
        }
      ]
    },
    {
      "cell_type": "code",
      "source": [
        "!g++ temp.cpp; ./a.out"
      ],
      "metadata": {
        "id": "pj-P7ZlATj3e",
        "colab": {
          "base_uri": "https://localhost:8080/"
        },
        "outputId": "a30d8b6c-de68-4ef1-ccf3-408423340605"
      },
      "execution_count": null,
      "outputs": [
        {
          "output_type": "stream",
          "name": "stdout",
          "text": [
            "4\n",
            "6\n"
          ]
        }
      ]
    },
    {
      "cell_type": "code",
      "source": [
        "# ビット演算の計算量\n",
        "# 整数をビット列として用いる場合\n",
        "# 全てO(1)です。\n",
        "\n",
        "# bitsetを用いる場合\n",
        "# 基本的にはbitsetの操作の計算量はビット数をNとしてO(N)です。\n",
        "\n",
        "# しかし、内部的には整数のビット演算を用いて複数のビットをまとめて処理するように\n",
        "# 実装されていることが多いため、 64ビット以内であれば基本的にO(1)になります。 \n",
        "# 64ビットを超える場合でも、計算量から見積もられる実行時間より高速に動作することが多いです。\n",
        "\n",
        "# 負の整数の右シフト\n",
        "# 論理右シフトでは、空いたビットは0で埋められるということを説明したが、 \n",
        "# 負の数を右シフトした場合には、空いたビットは基本的に1で埋められます。 \n",
        "# この動作を算術右シフトと言う\n"
      ],
      "metadata": {
        "id": "sUN-L4dBTYTR"
      },
      "execution_count": null,
      "outputs": []
    },
    {
      "cell_type": "code",
      "source": [
        "# 問題 EX25 - 集合の操作 \n",
        "# 0 から 49 までの整数からなる集合 A, B がある\n",
        "# プログラムの雛形をもとに、集合 A,B に対して操作を行う関数を実装する\n",
        "# 実装する操作は以下の通り\n",
        "%%html\n",
        "<style>\n",
        "    tr td:nth-child(1) {\n",
        "        color: red;\n",
        "    }\n",
        "</style>\n",
        "<table border=\"1\" style=\"width: 90%\">\n",
        "<thead>\n",
        "<tr><th>操作</th><th style=\"width: 50%\">説明</th><th>例</th></tr>\n",
        "</thead>\n",
        "<tbody>\n",
        "<tr><td>intersection</td><td>AとBに共通して含まれる要素からなる集合を返す。\n",
        "    </td><td>A: {1,2,3}, B:{2,3,4} 結果:{2,3}</td></tr>\n",
        "<tr><td>union_set</td><td>AとBのうち少なくとも一方に含まれる要素からなる集合を返す。\n",
        "    </td><td>A: {1,2,3}, B:{2,3,4} 結果:{1,2,3,4}</td></tr>\n",
        "<tr><td>symmetric_diff</td><td>AとBのうちどちらか一方にだけ含まれる要素からなる集合を返す。\n",
        "    </td><td>A: {1,2,3}, B:{2,3,4} 結果:{1,4}</td></tr>\n",
        "<tr><td>subtract x</td><td>集合Aから値xを削除する。xは存在することが保証される。\n",
        "    </td><td>A: {1,2,3}, x: 2 結果:{1,3}</td></tr>\n",
        "<tr><td>increment</td><td>集合Aに含まれる要素すべてに1を加える。ただし、\n",
        "    <strong>操作前の集合に含まれる49は操作後は0になるものとする</strong>。\n",
        "    </td><td>A: {1,2,49} 結果:{2,3,0}</td></tr>\n",
        "<tr><td>decrement</td><td>集合Aに含まれる要素すべてから1を引く。ただし、\n",
        "    <strong>操作前の集合に含まれる0は操作後は49になるものとする</strong>。<\n",
        "        /td><td>A: {0,1,2} 結果:{49,0,1}</td></tr>\n",
        "</tbody>"
      ],
      "metadata": {
        "id": "KL6Opnx8gS9C",
        "colab": {
          "base_uri": "https://localhost:8080/",
          "height": 216
        },
        "outputId": "d795dfbd-c8c4-46cb-ed3d-a18f546bda76"
      },
      "execution_count": null,
      "outputs": [
        {
          "output_type": "display_data",
          "data": {
            "text/plain": [
              "<IPython.core.display.HTML object>"
            ],
            "text/html": [
              "<style>\n",
              "    tr td:nth-child(1) {\n",
              "        color: red;\n",
              "    }\n",
              "</style>\n",
              "<table border=\"1\" style=\"width: 90%\">\n",
              "<thead>\n",
              "<tr><th>操作</th><th style=\"width: 50%\">説明</th><th>例</th></tr>\n",
              "</thead>\n",
              "<tbody>\n",
              "<tr><td>intersection</td><td>AとBに共通して含まれる要素からなる集合を返す。\n",
              "    </td><td>A: {1,2,3}, B:{2,3,4} 結果:{2,3}</td></tr>\n",
              "<tr><td>union_set</td><td>AとBのうち少なくとも一方に含まれる要素からなる集合を返す。\n",
              "    </td><td>A: {1,2,3}, B:{2,3,4} 結果:{1,2,3,4}</td></tr>\n",
              "<tr><td>symmetric_diff</td><td>AとBのうちどちらか一方にだけ含まれる要素からなる集合を返す。\n",
              "    </td><td>A: {1,2,3}, B:{2,3,4} 結果:{1,4}</td></tr>\n",
              "<tr><td>subtract x</td><td>集合Aから値xを削除する。xは存在することが保証される。\n",
              "    </td><td>A: {1,2,3}, x: 2 結果:{1,3}</td></tr>\n",
              "<tr><td>increment</td><td>集合Aに含まれる要素すべてに1を加える。ただし、\n",
              "    <strong>操作前の集合に含まれる49は操作後は0になるものとする</strong>。\n",
              "    </td><td>A: {1,2,49} 結果:{2,3,0}</td></tr>\n",
              "<tr><td>decrement</td><td>集合Aに含まれる要素すべてから1を引く。ただし、\n",
              "    <strong>操作前の集合に含まれる0は操作後は49になるものとする</strong>。<\n",
              "        /td><td>A: {0,1,2} 結果:{49,0,1}</td></tr>\n",
              "</tbody>"
            ]
          },
          "metadata": {}
        }
      ]
    },
    {
      "cell_type": "code",
      "source": [
        "# ヒント\n",
        "# * intersectionはビット毎の AND 演算を用いて実装\n",
        "# * union_setはビット毎の OR 演算を用いて実装\n",
        "# * symmetric_diffはビット毎の XOR 演算を用いて実装\n",
        "# * subtract x は S を表すビット列の x ビット目を0にすればよい\n",
        "# * increment, decrementは全ての要素が1ずつ増える（減る）ので論理シフト演算が利用"
      ],
      "metadata": {
        "id": "H_pTZ-mY4XPI"
      },
      "execution_count": null,
      "outputs": []
    },
    {
      "cell_type": "code",
      "source": [
        "# 解答例\n",
        "%%writefile temp.cpp\n",
        "#include <bits/stdc++.h>\n",
        "using namespace std;\n",
        "\n",
        "// 各操作を行う関数を実装する\n",
        "\n",
        "// AとBに共通して含まれる要素からなる集合を返す\n",
        "bitset<50> intersection(bitset<50> A, bitset<50> B) {\n",
        "  return A & B;\n",
        "}\n",
        "// AとBのうち少なくとも一方に含まれる要素からなる集合を返す\n",
        "bitset<50> union_set(bitset<50> A, bitset<50> B) {\n",
        "  return A | B;\n",
        "}\n",
        "// AとBのうちどちらか一方にだけ含まれる要素からなる集合を返す\n",
        "bitset<50> symmetric_diff(bitset<50> A, bitset<50> B) {\n",
        "  return A ^ B;\n",
        "}\n",
        "// Aから値xを除く\n",
        "bitset<50> subtract(bitset<50> A, int x) {\n",
        "  A.set(x, 0);\n",
        "  return A;\n",
        "}\n",
        "// Aに含まれる要素に1を加える(ただし、要素49が含まれる場合は0になるものとする)\n",
        "bitset<50> increment(bitset<50> A) {\n",
        "  bitset<50> ret = A << 1;  // 左シフトでまとめて+1する\n",
        "  if (A.test(49)) {\n",
        "    ret.set(0, 1);\n",
        "  }\n",
        "  return ret;\n",
        "}\n",
        "// Aに含まれる要素から1を引く(ただし、要素0が含まれる場合は49になるものとする)\n",
        "bitset<50> decrement(bitset<50> A) {\n",
        "  bitset<50> ret = A >> 1;  // 右シフトでまとめて-1する\n",
        "  if (A.test(0)) {\n",
        "    ret.set(49, 1);\n",
        "  }\n",
        "  return ret;\n",
        "}\n",
        "\n",
        "// Sに値xを加える\n",
        "bitset<50> add(bitset<50> S, int x) {\n",
        "  S.set(x, 1);  // xビット目を1にする\n",
        "  return S;\n",
        "}\n",
        "\n",
        "// 集合Sの内容を昇順で出力する(スペース区切りで各要素の値を出力する)\n",
        "void print_set(bitset<50> S) {\n",
        "  vector<int> cont;\n",
        "  for (int i = 0; i < 50; i++) {\n",
        "    if (S.test(i)) {\n",
        "      cont.push_back(i);\n",
        "    }\n",
        "  }\n",
        "  for (int i = 0; i < cont.size(); i++) {\n",
        "    if (i > 0) cout << \" \";\n",
        "    cout << cont.at(i);\n",
        "  }\n",
        "  cout << endl;\n",
        "}\n",
        "\n",
        "// これより下は書き換えない\n",
        "\n",
        "int main() {\n",
        "  bitset<50> A, B;\n",
        "  int N;\n",
        "  cin >> N;\n",
        "  for (int i = 0; i < N; i++) {\n",
        "    int x;\n",
        "    cin >> x;\n",
        "    A = add(A, x);\n",
        "  }\n",
        "  int M;\n",
        "  cin >> M;\n",
        "  for (int i = 0; i < M; i++) {\n",
        "    int x;\n",
        "    cin >> x;\n",
        "    B = add(B, x);\n",
        "  }\n",
        "\n",
        "  // 操作\n",
        "  string com;\n",
        "  cin >> com;\n",
        "\n",
        "  if (com == \"intersection\") {\n",
        "    print_set(intersection(A, B));\n",
        "  } else if (com == \"union_set\") {\n",
        "    print_set(union_set(A, B));\n",
        "  } else if (com == \"symmetric_diff\") {\n",
        "    print_set(symmetric_diff(A, B));\n",
        "  } else if (com == \"subtract\") {\n",
        "    int x;\n",
        "    cin >> x;\n",
        "    print_set(subtract(A, x));\n",
        "  } else if (com == \"increment\") {\n",
        "    print_set(increment(A));\n",
        "  } else if (com == \"decrement\") {\n",
        "    print_set(decrement(A));\n",
        "  }\n",
        "}"
      ],
      "metadata": {
        "id": "iOigh2Yt5qkg",
        "colab": {
          "base_uri": "https://localhost:8080/"
        },
        "outputId": "a1b26dc3-e7fa-4266-fdbf-7944d138a686"
      },
      "execution_count": null,
      "outputs": [
        {
          "output_type": "stream",
          "name": "stdout",
          "text": [
            "Overwriting temp.cpp\n"
          ]
        }
      ]
    },
    {
      "cell_type": "code",
      "source": [
        "!g++ temp.cpp; echo 3 0 1 2 3 1 2 3 intersection |./a.out #=> 1 2\n",
        "!g++ temp.cpp; echo 3 0 1 2 3 1 2 3 union_set |./a.out #=> 0 1 2 3\n",
        "!g++ temp.cpp; echo 3 0 1 2 3 1 2 3 symmetric_diff |./a.out #=> 0 3\n",
        "!g++ temp.cpp; echo 3 0 1 2 3 1 2 3 subtract 2 |./a.out #=> 0 1\n",
        "!g++ temp.cpp; echo 3 0 1 49 3 1 2 3 increment |./a.out #=> 0 1 2\n",
        "!g++ temp.cpp; echo 3 0 1 49 3 1 2 3 decrement |./a.out #=> 0 48 49"
      ],
      "metadata": {
        "id": "mc0OHP7Vg4Vo",
        "colab": {
          "base_uri": "https://localhost:8080/"
        },
        "outputId": "6716669f-641a-43d0-a8ad-342f7e7f630b"
      },
      "execution_count": null,
      "outputs": [
        {
          "output_type": "stream",
          "name": "stdout",
          "text": [
            "1 2\n",
            "0 1 2 3\n",
            "0 3\n",
            "0 1\n",
            "0 1 2\n",
            "0 48 49\n"
          ]
        }
      ]
    },
    {
      "cell_type": "code",
      "source": [
        "# 理解のための実験\n",
        "%%writefile temp.cpp\n",
        "#include <bits/stdc++.h>\n",
        "using namespace std;\n",
        "\n",
        "const int n = 50;\n",
        "\n",
        "// 集合 bitset S の内容を数字の文字列にする\n",
        "string formatBitNum(bitset<n> S) {\n",
        "  string str = \"\";\n",
        "  str += \"{\";\n",
        "  bool isFirst = true;\n",
        "  for (int i = 0; i < n; i++) {\n",
        "    if (S.test(i)) {\n",
        "      if (!isFirst) str += \", \";\n",
        "      str += to_string(i);\n",
        "      isFirst = false;\n",
        "    }\n",
        "  }\n",
        "  str += \"}\";\n",
        "  return str;\n",
        "}\n",
        "\n",
        "int main() {\n",
        "  bitset<n> A; // 変数 n は const なので定義に使える\n",
        "  int N;\n",
        "  cin >> N;\n",
        "  for (int i = 0; i < N; i++) {\n",
        "    int x;\n",
        "    cin >> x;\n",
        "    A.set(x);\n",
        "  }\n",
        "  cout << formatBitNum(A) << endl;\n",
        "}"
      ],
      "metadata": {
        "id": "_3UxwZkrpJee",
        "colab": {
          "base_uri": "https://localhost:8080/"
        },
        "outputId": "019a8416-d984-49e1-c191-bb93b7e350cd"
      },
      "execution_count": null,
      "outputs": [
        {
          "output_type": "stream",
          "name": "stdout",
          "text": [
            "Overwriting temp.cpp\n"
          ]
        }
      ]
    },
    {
      "cell_type": "code",
      "source": [
        "!g++ temp.cpp; echo 4 8 2 0 5 |./a.out"
      ],
      "metadata": {
        "id": "kOUZxV4hpOZ2",
        "colab": {
          "base_uri": "https://localhost:8080/"
        },
        "outputId": "fb09a992-65e3-4e50-94ff-c70ca4c32bb9"
      },
      "execution_count": null,
      "outputs": [
        {
          "output_type": "stream",
          "name": "stdout",
          "text": [
            "{0, 2, 5, 8}\n"
          ]
        }
      ]
    },
    {
      "cell_type": "code",
      "source": [
        "# 理解のための実験\n",
        "# {1, 2, 3, 4} と {2, 5} の intersection と union を求める\n",
        "%%writefile temp.cpp\n",
        "#include <bits/stdc++.h>\n",
        "using namespace std;\n",
        "\n",
        "const int n = 20;\n",
        "\n",
        "// 集合 bitset S の内容を数字の文字列にする\n",
        "string formatBitNum(bitset<n> S) {\n",
        "  string str = \"\";\n",
        "  str += \"{\";\n",
        "  bool isFirst = true;\n",
        "  for (int i = 0; i < n; i++) {\n",
        "    if (S.test(i)) {\n",
        "      if (!isFirst) str += \", \";\n",
        "      str += to_string(i);\n",
        "      isFirst = false;\n",
        "    }\n",
        "  }\n",
        "  str += \"}\";\n",
        "  return str;\n",
        "}\n",
        "\n",
        "int main() {\n",
        "  vector<int> A={1, 2, 3, 4};\n",
        "  vector<int> B={2, 5};\n",
        "  bitset<n> bsA;\n",
        "  bitset<n> bsB;\n",
        "  for (int i = 0; i < A.size(); i++) bsA.set(A.at(i));\n",
        "  for (int i = 0; i < B.size(); i++) bsB.set(B.at(i));\n",
        "\n",
        "  cout << formatBitNum(bsA & bsB) << endl;\n",
        "  cout << formatBitNum(bsA | bsB) << endl;\n",
        "\n",
        "}"
      ],
      "metadata": {
        "id": "21Pr10V5n0Ka",
        "outputId": "9ebeb84c-a940-4582-bcb3-0f358493905e",
        "colab": {
          "base_uri": "https://localhost:8080/"
        }
      },
      "execution_count": null,
      "outputs": [
        {
          "output_type": "stream",
          "name": "stdout",
          "text": [
            "Overwriting temp.cpp\n"
          ]
        }
      ]
    },
    {
      "cell_type": "code",
      "source": [
        "!g++ temp.cpp; ./a.out"
      ],
      "metadata": {
        "id": "xaM-EbtxpaTk",
        "outputId": "8caa4b80-9fbb-4d36-acf3-d1110489280d",
        "colab": {
          "base_uri": "https://localhost:8080/"
        }
      },
      "execution_count": null,
      "outputs": [
        {
          "output_type": "stream",
          "name": "stdout",
          "text": [
            "{2}\n",
            "{1, 2, 3, 4, 5}\n"
          ]
        }
      ]
    },
    {
      "cell_type": "code",
      "source": [
        "# 理解のための実験\n",
        "# 同じことを set を使ってみよう\n",
        "# {1, 2, 3, 4} と {2, 5} の intersection と union を求める\n",
        "%%writefile temp.cpp\n",
        "#include <bits/stdc++.h>\n",
        "using namespace std;\n",
        "\n",
        "string formatVecInt(vector<int> vec){\n",
        "    string str = \"\";\n",
        "    str +=\"{\";\n",
        "    bool isFirst = true;\n",
        "    for (auto item : vec){\n",
        "        if(!isFirst) str += \", \";\n",
        "        str += to_string(item);\n",
        "        isFirst = false;\n",
        "    };\n",
        "    str += \"}\";\n",
        "    return str;\n",
        "}\n",
        "\n",
        "int main() {\n",
        "  set<int> A={1, 2, 3, 4};\n",
        "  set<int> B={2, 5};\n",
        "  vector<int> result;\n",
        "  set_union(begin(A),end(A),begin(B),end(B), inserter(result, end(result)));\n",
        "\n",
        "  cout << formatVecInt(result) << endl;\n",
        "  \n",
        "  result = {};\n",
        "  set_intersection(begin(A),end(A),begin(B),end(B), inserter(result, end(result)));\n",
        "\n",
        "  cout << formatVecInt(result) << endl;\n",
        "}"
      ],
      "metadata": {
        "id": "LAuayMBeqHWa",
        "outputId": "79d6f51e-64e3-4e19-a525-4b4429923dd8",
        "colab": {
          "base_uri": "https://localhost:8080/"
        }
      },
      "execution_count": null,
      "outputs": [
        {
          "output_type": "stream",
          "name": "stdout",
          "text": [
            "Overwriting temp.cpp\n"
          ]
        }
      ]
    },
    {
      "cell_type": "code",
      "source": [
        "!g++ temp.cpp; ./a.out"
      ],
      "metadata": {
        "id": "uQ9wZ7ICsPI7",
        "outputId": "90416890-86be-4ce5-9892-07b020e0e957",
        "colab": {
          "base_uri": "https://localhost:8080/"
        }
      },
      "execution_count": null,
      "outputs": [
        {
          "output_type": "stream",
          "name": "stdout",
          "text": [
            "{1, 2, 3, 4, 5}\n",
            "{2}\n"
          ]
        }
      ]
    },
    {
      "cell_type": "code",
      "source": [
        "# ARC061 C - たくさんの数式 / Many Formulas をビット演算で解く\n",
        "# 1 以上 9 以下の数字のみからなる文字列 S が与えられます。\n",
        "# あなたはこれら文字と文字の間に + を入れることができます。\n",
        "#  一つも入れなくてもかまいません。\n",
        "# このようにして出来る全ての文字列を数式とみなし、\n",
        "# ありうる全ての数式の値を計算し、その合計を出力してください。\n",
        "%%writefile temp.cpp\n",
        "#include <bits/stdc++.h>\n",
        "using namespace std;\n",
        "\n",
        "long value(string str, bitset<50> s){\n",
        "    long result = 0;\n",
        "    string tempString = \"\";\n",
        "    if (str == \"\") return result;\n",
        "    for (int i=0; i < s.size(); i++){\n",
        "        if (i < str.size()) tempString += str.at(i);\n",
        "        if (s.test(i)) {\n",
        "            result += stoi(tempString);\n",
        "            tempString = \"\";\n",
        "        }\n",
        "    }\n",
        "    result += stoll(tempString);\n",
        "    return result;\n",
        "}\n",
        "\n",
        "string expression(string str, bitset<50> s){\n",
        "    string result = \"\";\n",
        "    if (str == \"\") return result;\n",
        "    for (int i=0; i < s.size(); i++){\n",
        "            if (i < str.size()) result += str.at(i);\n",
        "            if (s.test(i)) result += \"+\";\n",
        "    }\n",
        "    return result;\n",
        "}\n",
        "\n",
        "int main(){\n",
        "    string str;\n",
        "    cin >> str;\n",
        "    long sum = 0;\n",
        "    for (int tmp = 0; tmp < (1 << (str.size() - 1)); tmp++) {\n",
        "        bitset<50> s(tmp);\n",
        "        // cout << expression(str, s) << endl;\n",
        "        sum += value(str, s);\n",
        "    }\n",
        "    cout << sum << endl;\n",
        "}"
      ],
      "metadata": {
        "id": "Jei-R63JCBiQ",
        "colab": {
          "base_uri": "https://localhost:8080/"
        },
        "outputId": "6e09159b-efeb-41c6-c2bf-40fc6dd29a90"
      },
      "execution_count": 13,
      "outputs": [
        {
          "output_type": "stream",
          "name": "stdout",
          "text": [
            "Overwriting temp.cpp\n"
          ]
        }
      ]
    },
    {
      "cell_type": "code",
      "source": [
        "!g++ temp.cpp; echo 125 |./a.out #=> 176\n",
        "!g++ temp.cpp; echo 9999999999 |./a.out #=> 12656242944"
      ],
      "metadata": {
        "id": "NCOH9288COne",
        "colab": {
          "base_uri": "https://localhost:8080/"
        },
        "outputId": "0ef3dc94-c7c1-4538-ec2e-3465aceb558f"
      },
      "execution_count": 15,
      "outputs": [
        {
          "output_type": "stream",
          "name": "stdout",
          "text": [
            "125\n",
            "1+25\n",
            "12+5\n",
            "1+2+5\n",
            "176\n"
          ]
        }
      ]
    },
    {
      "cell_type": "code",
      "source": [
        "これを改造する\n",
        "\n",
        "# 問題 ABC079 C - Train Ticket をビット演算で解く\n",
        "# 駅の待合室に座っている joisino お姉ちゃんは、切符を眺めています。\n",
        "# 切符には 4 つの 0 以上 9 以下の整数 A,B,C,D が整理番号としてこの順に書かれています。\n",
        "# A op1 B op2 C op3 D = 7 となるように、op1,op2,op3 に + か - を入れて式を作って下さい。\n",
        "# なお、答えが存在しない入力は与えられず、また答えが複数存在する場合はどれを出力してもよいものとします。\n",
        "# 作った式を、= 7 の部分を含めて出力せよ。\n",
        "%%writefile temp.cpp\n",
        "#include <bits/stdc++.h>\n",
        "using namespace std;\n",
        "\n",
        "int main() {\n",
        "  int abcd;\n",
        "  cin >> abcd;\n",
        "  vector<int> ticket(4);\n",
        "\n",
        "  for(int i = 3; i > -1; i--){\n",
        "    ticket[i] = (abcd%10); // 1桁取り出していく\n",
        "    abcd /= 10;\n",
        "  }\n",
        "\n",
        "  for(int bit = 0; bit < (1 << 3); bit++){\n",
        "    int ans = ticket[0];\n",
        "\n",
        "    for(int idx = 0; idx < 3; idx++){\n",
        "      if(bit & (1 << idx)) ans += ticket[idx + 1];\n",
        "\n",
        "      else ans -= ticket[idx + 1];\n",
        "    }\n",
        "\n",
        "    if(ans == 7){\n",
        "      cout << ticket[0];\n",
        "\n",
        "      for(int idx = 0; idx < 3; idx++){\n",
        "        if(bit & (1 << idx)) cout << '+';\n",
        "        else cout << '-';\n",
        "\n",
        "        cout << ticket[idx + 1];\n",
        "      }\n",
        "\n",
        "      cout << \"=7\" << endl;\n",
        "      break;\n",
        "    }\n",
        "  }\n",
        "}"
      ],
      "metadata": {
        "id": "P_hOEcnK6dbP"
      },
      "execution_count": null,
      "outputs": []
    },
    {
      "cell_type": "code",
      "source": [
        "!g++ temp.cpp; echo 1222 |./a.out #=> 1+2+2+2=7\n",
        "!g++ temp.cpp; echo 0290 |./a.out #=> 0-2+9+0=7\n",
        "!g++ temp.cpp; echo 3242 |./a.out #=> 3+2+4-2=7"
      ],
      "metadata": {
        "id": "oGWFP_SNeYB2"
      },
      "execution_count": null,
      "outputs": []
    },
    {
      "cell_type": "markdown",
      "source": [
        "# いまここ"
      ],
      "metadata": {
        "id": "hVUSVfAoJgGS"
      }
    },
    {
      "cell_type": "code",
      "source": [
        "# 問題 ABC079 C - Train Ticket をビット演算で解く\n",
        "# 駅の待合室に座っている joisino お姉ちゃんは、切符を眺めています。\n",
        "# 切符には 4 つの 0 以上 9 以下の整数 A,B,C,D が整理番号としてこの順に書かれています。\n",
        "# A op1 B op2 C op3 D = 7 となるように、op1,op2,op3 に + か - を入れて式を作って下さい。\n",
        "# なお、答えが存在しない入力は与えられず、また答えが複数存在する場合はどれを出力してもよいものとします。\n",
        "# 作った式を、= 7 の部分を含めて出力せよ。\n",
        "%%writefile temp.cpp\n",
        "#include <bits/stdc++.h>\n",
        "using namespace std;\n",
        "\n",
        "long value(string str, bitset<50> s){\n",
        "    long result = 0;\n",
        "    string tempString = \"\";\n",
        "    if (str == \"\") return result;\n",
        "    for (int i=0; i < s.size(); i++){\n",
        "        if (i < str.size()) tempString += str.at(i);\n",
        "        if (s.test(i)) {\n",
        "            result += stoi(tempString);\n",
        "            tempString = \"\";\n",
        "        }\n",
        "    }\n",
        "    result += stoll(tempString);\n",
        "    return result;\n",
        "}\n",
        "\n",
        "string expression(string str, bitset<50> s){\n",
        "    string result = \"\";\n",
        "    if (str == \"\") return result;\n",
        "    for (int i=0; i < s.size(); i++){\n",
        "            if (i < str.size()) result += str.at(i);\n",
        "            if (s.test(i)) result += \"+\";\n",
        "    }\n",
        "    return result;\n",
        "}\n",
        "\n",
        "int main() {\n",
        "  int abcd;\n",
        "  cin >> abcd;\n",
        "  vector<int> ticket(4);\n",
        "\n",
        "  for(int i = 0; i < 4; i++){\n",
        "    ticket[i] = abcd / pow(10, (3 - i));\n",
        "    abcd = abcd - ticket.at(i) * pow(10, (3 - i));\n",
        "  }\n",
        "\n",
        "\n",
        "  for(int bit = 0; bit < (1 << 3); bit++){\n",
        "    int ans = ticket[0];\n",
        "\n",
        "    for(int idx = 0; idx < 3; idx++){\n",
        "      if(bit & (1 << idx)) ans += ticket[idx + 1];\n",
        "\n",
        "      else ans -= ticket[idx + 1];\n",
        "    }\n",
        "\n",
        "    if(ans == 7){\n",
        "      cout << ticket[0];\n",
        "\n",
        "      for(int idx = 0; idx < 3; idx++){\n",
        "        if(bit & (1 << idx)) cout << '+';\n",
        "        else cout << '-';\n",
        "\n",
        "        cout << ticket[idx + 1];\n",
        "      }\n",
        "\n",
        "      cout << \"=7\" << endl;\n",
        "      break;\n",
        "    }\n",
        "  } \n",
        "}"
      ],
      "metadata": {
        "colab": {
          "base_uri": "https://localhost:8080/"
        },
        "id": "yYDCrpwT06w6",
        "outputId": "8b475aa2-9601-43a1-941a-462e3d1e9b54"
      },
      "execution_count": 29,
      "outputs": [
        {
          "output_type": "stream",
          "name": "stdout",
          "text": [
            "Overwriting temp.cpp\n"
          ]
        }
      ]
    },
    {
      "cell_type": "code",
      "source": [
        "!g++ temp.cpp; echo 1222 |./a.out #=> 1+2+2+2=7\n",
        "# !g++ temp.cpp; echo 0290 |./a.out #=> 0-2+9+0=7\n",
        "# !g++ temp.cpp; echo 3242 |./a.out #=> 3+2+4-2=7"
      ],
      "metadata": {
        "colab": {
          "base_uri": "https://localhost:8080/"
        },
        "id": "h9sfwf-h06m6",
        "outputId": "b87473a6-ad4c-4a9f-9555-bfd08a54f5c4"
      },
      "execution_count": 30,
      "outputs": [
        {
          "output_type": "stream",
          "name": "stdout",
          "text": [
            "1+2+2+2=7\n"
          ]
        }
      ]
    },
    {
      "cell_type": "code",
      "source": [
        "# ABC104 C - All Green をビット演算で解く\n",
        "# ARC029 A - 高橋君とお肉 をビット演算で解く\n",
        "# ABC002 D - 派閥 をビット演算で解く"
      ],
      "metadata": {
        "id": "Fg6qTn1KeXbo"
      },
      "execution_count": null,
      "outputs": []
    }
  ]
}