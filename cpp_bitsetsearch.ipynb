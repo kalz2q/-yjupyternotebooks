{
  "nbformat": 4,
  "nbformat_minor": 0,
  "metadata": {
    "colab": {
      "name": "cpp_bitsetsearch.ipynb",
      "provenance": [],
      "toc_visible": true,
      "authorship_tag": "ABX9TyPqSWrW3QTrL6Yt0A8ZQ3oQ",
      "include_colab_link": true
    },
    "kernelspec": {
      "name": "python3",
      "display_name": "Python 3"
    },
    "language_info": {
      "name": "python"
    }
  },
  "cells": [
    {
      "cell_type": "markdown",
      "metadata": {
        "id": "view-in-github",
        "colab_type": "text"
      },
      "source": [
        "<a href=\"https://colab.research.google.com/github/kalz2q/mycolabnotebooks/blob/master/cpp_bitsetsearch.ipynb\" target=\"_parent\"><img src=\"https://colab.research.google.com/assets/colab-badge.svg\" alt=\"Open In Colab\"/></a>"
      ]
    },
    {
      "cell_type": "markdown",
      "source": [
        "# メモ\n",
        "bitset を使った全探索をマスターしたい  \n",
        "apg4b の bitset の部分を勉強する  \n",
        "cpp_bit.ipynb は bitset を使わずに全探索を説明しているので書き換える  \n",
        "易しい問題を解く"
      ],
      "metadata": {
        "id": "pPe8geexq6KW"
      }
    },
    {
      "cell_type": "code",
      "source": [
        "# ネットにあった 部分和問題の解法\n",
        "%%writefile temp.cpp\n",
        "#include <bits/stdc++.h>\n",
        "using namespace std;\n",
        "\n",
        "int main() {\n",
        "    int N, K;\n",
        "    cin >> N >> K;\n",
        "    vector<int> vec(N);\n",
        "    for (int i = 0; i < N; i++) cin >> vec.at(i);\n",
        "\n",
        "    // dp の遷移を bitset に落とし込む\n",
        "    bitset<100001> dp; // ある程度大きな数にしておく必要がある\n",
        "    dp.set(0); // bitset の 0 桁目 (右端) を 1 にする。他はデフォルトで 0\n",
        "    for (int i = 0; i < N; i++) dp |= (dp << vec.at(i)); // ここがポイント!!!! \n",
        "    // 複合代入演算子を使っている\n",
        "    // 例えば 1 は |= で 11 になり 2 が来ると 1 と 2 と 3 にフラグが立つ\n",
        "    // | なのですでにフラグが立っていればそのまま\n",
        "\n",
        "    // 答えを出力\n",
        "    if (dp.test(K)) cout << \"Yes\" << endl; // bitset の値を調べるのは test を使う\n",
        "    else cout << \"No\" << endl;\n",
        "}"
      ],
      "metadata": {
        "id": "9Dgr0hn2rkjH",
        "colab": {
          "base_uri": "https://localhost:8080/"
        },
        "outputId": "fe1a085f-d536-4ca1-b9eb-56a24ecac03e"
      },
      "execution_count": null,
      "outputs": [
        {
          "output_type": "stream",
          "name": "stdout",
          "text": [
            "Overwriting temp.cpp\n"
          ]
        }
      ]
    },
    {
      "cell_type": "code",
      "source": [
        "!g++ temp.cpp; echo 3 11 7 2 9 |./a.out #=> Yes\n",
        "!g++ temp.cpp; echo 2 11 5 7 |./a.out #=> No"
      ],
      "metadata": {
        "id": "Y9qViu6jrkxF",
        "colab": {
          "base_uri": "https://localhost:8080/"
        },
        "outputId": "f16fd787-b399-4246-e3c0-176470d7a590"
      },
      "execution_count": null,
      "outputs": [
        {
          "output_type": "stream",
          "name": "stdout",
          "text": [
            "Yes\n",
            "No\n"
          ]
        }
      ]
    },
    {
      "cell_type": "code",
      "source": [
        "# 上記の部分和問題の解法は理解したが\n",
        "# 一般化出来ないと思うので\n",
        "# 普通の全探索をやってみよう"
      ],
      "metadata": {
        "id": "U7anW-ivwYXf"
      },
      "execution_count": null,
      "outputs": []
    },
    {
      "cell_type": "code",
      "source": [
        "# 部分和を全探索のテンプレート通りにやってみる\n",
        "%%writefile temp.cpp\n",
        "#include <bits/stdc++.h>\n",
        "using namespace std;\n",
        "\n",
        "int main() {\n",
        "    int N, K;\n",
        "    cin >> N >> K;\n",
        "    vector<int> vec(N);\n",
        "    for (int i = 0; i < N; i++) cin >> vec.at(i);\n",
        "\n",
        "    // N 桁の全探索ですべての場合について合計が K になるかを調べる\n",
        "    bool flag = false;\n",
        "    for (int tmp = 0; tmp < (1 << N); tmp++) {\n",
        "        bitset<4> bs(tmp);\n",
        "        int sum = 0;\n",
        "        for (int i = 0; i < N ; i++) {\n",
        "            if (bs.test(i)) sum += vec.at(i);\n",
        "        }\n",
        "        if ( sum == K) flag = true;\n",
        "    }\n",
        "\n",
        "    if (flag) cout << \"Yes\" << endl; // bitset の値を調べるのは test を使う\n",
        "    else cout << \"No\" << endl;\n",
        "}"
      ],
      "metadata": {
        "id": "03gFjHsSn7gB",
        "outputId": "186ff624-261f-409f-f80e-81fc09adc6b6",
        "colab": {
          "base_uri": "https://localhost:8080/"
        }
      },
      "execution_count": 23,
      "outputs": [
        {
          "output_type": "stream",
          "name": "stdout",
          "text": [
            "Overwriting temp.cpp\n"
          ]
        }
      ]
    },
    {
      "cell_type": "code",
      "source": [
        "!g++ temp.cpp; echo 3 11 7 2 9 |./a.out #=> Yes\n",
        "!g++ temp.cpp; echo 2 11 5 7 |./a.out #=> No"
      ],
      "metadata": {
        "id": "WfDGdZMboGqW",
        "outputId": "2b57fc77-1b1e-42b9-9e81-4ad6b5ca8028",
        "colab": {
          "base_uri": "https://localhost:8080/"
        }
      },
      "execution_count": 24,
      "outputs": [
        {
          "output_type": "stream",
          "name": "stdout",
          "text": [
            "Yes\n",
            "No\n"
          ]
        }
      ]
    },
    {
      "cell_type": "code",
      "source": [
        "# 全探索のテンプレート\n",
        "%%writefile temp.cpp\n",
        "#include <bits/stdc++.h>\n",
        "using namespace std;\n",
        " \n",
        "int main() {\n",
        "    for (int tmp = 0; tmp < (1 << 3); tmp++) {\n",
        "        bitset<3> s(tmp);\n",
        "        cout << s << endl;\n",
        "    }\n",
        "}"
      ],
      "metadata": {
        "id": "61d_AdjhtfZG",
        "outputId": "85683b5e-af2d-4a96-911b-88de5f472ff0",
        "colab": {
          "base_uri": "https://localhost:8080/"
        }
      },
      "execution_count": 26,
      "outputs": [
        {
          "output_type": "stream",
          "name": "stdout",
          "text": [
            "Overwriting temp.cpp\n"
          ]
        }
      ]
    },
    {
      "cell_type": "code",
      "source": [
        "!g++ temp.cpp; ./a.out"
      ],
      "metadata": {
        "id": "eRt4dQdPtnlH",
        "outputId": "155f009e-078e-4e45-efdd-ffaeaced1273",
        "colab": {
          "base_uri": "https://localhost:8080/"
        }
      },
      "execution_count": 27,
      "outputs": [
        {
          "output_type": "stream",
          "name": "stdout",
          "text": [
            "000\n",
            "001\n",
            "010\n",
            "011\n",
            "100\n",
            "101\n",
            "110\n",
            "111\n"
          ]
        }
      ]
    },
    {
      "cell_type": "code",
      "source": [
        "# bitsetの操作に使う関数\n",
        "# bitset は set, test を使う。 at や `[]` は使えない\n",
        "# 位置の指定は右からで配列の逆\n",
        "%%html\n",
        "<table border=\"1\" style=\"width:80%\">\n",
        "<thead>\n",
        "<tr><th>操作</th><th>書き方</th><th style=\"width: 50%\">備考</th></tr>\n",
        "</thead>\n",
        "<tbody>\n",
        "<tr><td>特定のビットの値を変更する</td><td>変数.set(位置, 値);</td><td>変更するビットの位置を0始まりのインデックスで指定します。値は0か1を指定します。</td></tr>\n",
        "<tr><td>特定のビットが1になっているかを調べる</td><td>変数.test(調べる位置);</td><td>調べるビットの位置を0始まりのインデックスで指定します。ビットが1ならtrueを、ビットが0ならfalseを返します。</td></tr>\n",
        "</tbody>\n",
        "</table>"
      ],
      "metadata": {
        "id": "LCbhhtUiKuJS",
        "outputId": "23f21d4c-c950-47fb-a67e-d821b050d13b",
        "colab": {
          "base_uri": "https://localhost:8080/",
          "height": 124
        }
      },
      "execution_count": null,
      "outputs": [
        {
          "output_type": "display_data",
          "data": {
            "text/plain": [
              "<IPython.core.display.HTML object>"
            ],
            "text/html": [
              "<table border=\"1\" style=\"width:80%\">\n",
              "<thead>\n",
              "<tr><th>操作</th><th>書き方</th><th style=\"width: 50%\">備考</th></tr>\n",
              "</thead>\n",
              "<tbody>\n",
              "<tr><td>特定のビットの値を変更する</td><td>変数.set(位置, 値);</td><td>変更するビットの位置を0始まりのインデックスで指定します。値は0か1を指定します。</td></tr>\n",
              "<tr><td>特定のビットが1になっているかを調べる</td><td>変数.test(調べる位置);</td><td>調べるビットの位置を0始まりのインデックスで指定します。ビットが1ならtrueを、ビットが0ならfalseを返します。</td></tr>\n",
              "</tbody>\n",
              "</table>"
            ]
          },
          "metadata": {}
        }
      ]
    },
    {
      "cell_type": "markdown",
      "source": [
        "# いまここ\n"
      ],
      "metadata": {
        "id": "aObux_AAx9WY"
      }
    },
    {
      "cell_type": "code",
      "source": [
        "# サンプルプログラム\n",
        "%%writefile temp.cpp\n",
        "#include <bits/stdc++.h>\n",
        "using namespace std;\n",
        "int main() {\n",
        "  bitset<4> bs;\n",
        "  bs.set(0, 1);  // 0番目のビットを1にする\n",
        "  cout << bs << endl;\n",
        " \n",
        "  if (bs.test(3)) {\n",
        "    cout << \"4th bit is 1\" << endl;\n",
        "  } else {\n",
        "    cout << \"4th bit is 0\" << endl;\n",
        "  }\n",
        "}"
      ],
      "metadata": {
        "id": "PS6m2vFALaxy",
        "outputId": "eb9fb5c7-87d7-4a34-dd5d-de68d6de2110",
        "colab": {
          "base_uri": "https://localhost:8080/"
        }
      },
      "execution_count": null,
      "outputs": [
        {
          "output_type": "stream",
          "name": "stdout",
          "text": [
            "Overwriting temp.cpp\n"
          ]
        }
      ]
    },
    {
      "cell_type": "code",
      "source": [
        "!g++ temp.cpp; ./a.out "
      ],
      "metadata": {
        "id": "aZAChAQEMgWf",
        "outputId": "402eff89-a73a-476e-d018-bfdc3ba1db52",
        "colab": {
          "base_uri": "https://localhost:8080/"
        }
      },
      "execution_count": null,
      "outputs": [
        {
          "output_type": "stream",
          "name": "stdout",
          "text": [
            "0001\n",
            "4th bit is 0\n"
          ]
        }
      ]
    },
    {
      "cell_type": "code",
      "source": [
        "# 整数とビット列の対応\n",
        "%%html\n",
        "<table border=\"1\">\n",
        "<thead>\n",
        "<tr><th>十進数</th><th>二進数</th><th></th></tr>\n",
        "</thead>\n",
        "<tbody>\n",
        "<tr><td>4</td><td>100</td><td>4=2^2</td></tr>\n",
        "<tr><td>5</td><td>101</td><td>5=4+1=2^2+2^0</td></tr>\n",
        "<tr><td>36</td><td>100100</td><td>36=32+4=2^5+2^2</td></tr>\n",
        "<tr><td>100</td><td>1100100</td><td>100=64+32+4=2^6+2^5+2^2</td></tr>\n",
        "</tbody>\n",
        "</table>"
      ],
      "metadata": {
        "id": "bpFwvtqiMc59",
        "outputId": "4414d4f2-4181-49bf-d3cd-2e3bb9c72d63",
        "colab": {
          "base_uri": "https://localhost:8080/",
          "height": 135
        }
      },
      "execution_count": null,
      "outputs": [
        {
          "output_type": "display_data",
          "data": {
            "text/plain": [
              "<IPython.core.display.HTML object>"
            ],
            "text/html": [
              "<table border=\"1\">\n",
              "<thead>\n",
              "<tr><th>十進数</th><th>二進数</th><th></th></tr>\n",
              "</thead>\n",
              "<tbody>\n",
              "<tr><td>4</td><td>100</td><td>4=2^2</td></tr>\n",
              "<tr><td>5</td><td>101</td><td>5=4+1=2^2+2^0</td></tr>\n",
              "<tr><td>36</td><td>100100</td><td>36=32+4=2^5+2^2</td></tr>\n",
              "<tr><td>100</td><td>1100100</td><td>100=64+32+4=2^6+2^5+2^2</td></tr>\n",
              "</tbody>\n",
              "</table>"
            ]
          },
          "metadata": {}
        }
      ]
    },
    {
      "cell_type": "code",
      "source": [
        "# 0〜15の二進数表記は以下の通りです。二進数に不慣れな人は確認してみてください。\n",
        "%%html\n",
        "<table border=\"1\">\n",
        "<thead>\n",
        "<tr><th>十進数</th><th>0</th><th>1</th><th>2</th><th>3</th><th>4</th><th>5</th><th>6</th><th>7</th><th>8</th><th>9</th><th>10</th><th>11</th><th>12</th><th>13</th><th>14</th><th>15</th></tr>\n",
        "</thead>\n",
        "<tbody>\n",
        "<tr><td>二進数</td><td>0000</td><td>0001</td><td>0010</td><td>0011</td><td>0100</td><td>0101</td><td>0110</td><td>0111</td><td>1000</td><td>1001</td><td>1010</td><td>1011</td><td>1100</td><td>1101</td><td>1110</td><td>1111</td></tr>\n",
        "</tbody>\n",
        "</table>"
      ],
      "metadata": {
        "id": "FMOxmed-iicW",
        "outputId": "4a9d0559-5018-43a3-f7c0-aa78076cd835",
        "colab": {
          "base_uri": "https://localhost:8080/",
          "height": 67
        }
      },
      "execution_count": null,
      "outputs": [
        {
          "output_type": "display_data",
          "data": {
            "text/plain": [
              "<IPython.core.display.HTML object>"
            ],
            "text/html": [
              "<table border=\"1\">\n",
              "<thead>\n",
              "<tr><th>十進数</th><th>0</th><th>1</th><th>2</th><th>3</th><th>4</th><th>5</th><th>6</th><th>7</th><th>8</th><th>9</th><th>10</th><th>11</th><th>12</th><th>13</th><th>14</th><th>15</th></tr>\n",
              "</thead>\n",
              "<tbody>\n",
              "<tr><td>二進数</td><td>0000</td><td>0001</td><td>0010</td><td>0011</td><td>0100</td><td>0101</td><td>0110</td><td>0111</td><td>1000</td><td>1001</td><td>1010</td><td>1011</td><td>1100</td><td>1101</td><td>1110</td><td>1111</td></tr>\n",
              "</tbody>\n",
              "</table>"
            ]
          },
          "metadata": {}
        }
      ]
    },
    {
      "cell_type": "code",
      "source": [
        "# 任意の数を "
      ],
      "metadata": {
        "id": "ShJ4Y9mtZfRM"
      },
      "execution_count": null,
      "outputs": []
    },
    {
      "cell_type": "code",
      "source": [
        "# 整数でのビット演算\n",
        "# C++には、整数をビット列として扱うための演算子が用意されています。 \n",
        "# 整数でのビット演算の演算子はbitsetのものと同じです。\n",
        "\n",
        "# ただし、整数型に応じてビット列の長さが固定されているので、bitsetほど柔軟には使えません。 \n",
        "# 例えば、uint32_tは32ビットのビット列として扱うことができ、\n",
        "# uint8_tは8ビットのビット列として扱うことができます。 さらに、C++の標準で扱える\n",
        "# 最大の整数型はuint64_tであり、これは64ビットのビット列なので、 \n",
        "# 整数をビット列として扱えるのは64ビット以下の場合に限定されることになります。\n",
        "\n",
        "# また、coutで出力しようとした場合に10進数の整数として出力されてしまうため\n",
        "# 分かりにくいという欠点があります。\n",
        "\n",
        "# 基本的にはbitsetを使うのが便利ですが、 「ありうる集合すべてを列挙する」\n",
        "# ような処理を行う場合には整数をビット列として扱う方が簡潔に書けることがあります。 \n",
        "# 詳しくは「細かい話」の「ビット全探索」で説明します。\n",
        "\n",
        "# 注意点\n",
        "# 演算子の優先順位\n",
        "# ビット演算に用いる演算子は優先順位が低いものが多いので、\n",
        "# 明示的に()でくくる必要がある場合があります。\n",
        "\n",
        "# サンプルプログラム\n",
        "%%writefile temp.cpp\n",
        "#include <bits/stdc++.h>\n",
        "using namespace std;\n",
        " \n",
        "int main() {\n",
        "  int x = 5;  // 0101\n",
        "  int y = 10; // 1010\n",
        "  // if (x & y > 0) { // &演算子よりも>演算子の優先度の方が高いので x & (y > 0) と解釈される\n",
        "  if ((x & y) > 0) {\n",
        "    cout << \"yes\" << endl;\n",
        "  } else {\n",
        "    cout << \"no\" << endl;\n",
        "  }\n",
        "}"
      ],
      "metadata": {
        "id": "wEUMEe69i5at"
      },
      "execution_count": null,
      "outputs": []
    },
    {
      "cell_type": "code",
      "source": [
        "!g++ temp.cpp; ./a.out "
      ],
      "metadata": {
        "id": "hAggQIyQjVeZ"
      },
      "execution_count": null,
      "outputs": []
    },
    {
      "cell_type": "code",
      "source": [
        "# 主要な演算子の優先順位を以下に示します。上ほど優先度が高いです。\n",
        "\n",
        "# 優先順位を全て暗記するのは大変なので、ミスを防ぐためにもビット演算を行う際には\n",
        "# 常に()でくくるようにしましょう。\n",
        "%%html\n",
        "<style>\n",
        "    tr td:nth-child(1) {\n",
        "        color: red;\n",
        "    }\n",
        "</style>\n",
        "<table border=\"1\">\n",
        "<thead>\n",
        "<tr><th style=\"width:35%\">演算子</th><th>説明</th></tr>\n",
        "</thead>\n",
        "<tbody>\n",
        "<tr><td>a++, a--, .</td><td>インクリメント、デクリメント、メンバアクセス</td></tr>\n",
        "<tr><td>!, ~</td><td>論理否定、ビット毎のNOT演算</td></tr>\n",
        "<tr><td>a*b, a/b, a%b</td><td>乗算、除算、剰余</td></tr>\n",
        "<tr><td>a+b, a-b</td><td>加算、減算</td></tr>\n",
        "<tr><td><<, >></td><td>左シフト演算、右シフト演算</td></tr>\n",
        "<tr><td><, <=, >, >=</td><td>比較演算</td></tr>\n",
        "<tr><td>==, !=</td><td>関係演算子</td></tr>\n",
        "<tr><td>&</td><td>ビット毎のAND演算</td></tr>\n",
        "<tr><td>^</td><td>ビット毎のXOR演算</td></tr>\n",
        "<tr><td>|</td><td>ビット毎のOR演算</td></tr>\n",
        "<tr><td>&&</td><td>論理演算（かつ）</td></tr>\n",
        "<tr><td>||</td><td>論理演算（または）</td></tr>\n",
        "<tr><td>=, ◯=</td><td>代入演算、複合代入演算</td></tr>\n",
        "</tbody>\n",
        "</table>"
      ],
      "metadata": {
        "id": "pvYQgQTGjRl-"
      },
      "execution_count": null,
      "outputs": []
    },
    {
      "cell_type": "code",
      "source": [
        "# bitsetの関数\n",
        "# 以下の表にbitsetのビット列に対する操作をまとめます。\n",
        "%%html\n",
        "<table border=\"1\" style=\"width: 90%\">\n",
        "<thead>\n",
        "<tr><th>操作</th><th>書き方</th><th style=\"width: 50%\">備考</th></tr>\n",
        "</thead>\n",
        "<tbody>\n",
        "<tr><td>全てのビットを1にする</td><td>変数.set();</td><td></td></tr>\n",
        "<tr><td>特定のビットを1にする</td><td>変数.set(1にする位置);</td><td>1にするビットの位置を0始まりのインデックスで指定します。</td></tr>\n",
        "<tr><td>特定のビットの値を変更する</td><td>変数.set(位置, 値);</td><td>変更するビットの位置を0始まりのインデックスで指定します。値は0か1を指定します。</td></tr>\n",
        "<tr><td>全てのビットを0にする</td><td>変数.reset();</td><td></td></tr>\n",
        "<tr><td>特定のビットを0にする</td><td>変数.reset(0にする位置);</td><td>0にするビットの位置を0始まりのインデックスで指定します。</td></tr>\n",
        "<tr><td>全てのビットを反転する</td><td>変数.flip();</td><td></td></tr>\n",
        "<tr><td>特定のビットを反転する</td><td>変数.flip(反転する位置);</td><td>反転するビットの位置を0始まりのインデックスで指定します。</td></tr>\n",
        "<tr><td>特定のビットが1になっているかを調べる</td><td>変数.test(調べる位置);</td><td>調べるビットの位置を0始まりのインデックスで指定します。ビットが1ならtrueを、ビットが0ならfalseを返します。</td></tr>\n",
        "<tr><td>全てのビットが1になっているかを判定する</td><td>変数.all()</td><td>全てのビットが1ならtrueを、そうでなければfalseを返します。</td></tr>\n",
        "<tr><td>いずれかのビットが1になっているかを判定する</td><td>変数.any()</td><td>1のビットが存在するならtrueを、そうでなければfalseを返します。</td></tr>\n",
        "<tr><td>1のビットの個数を数える</td><td>変数.count()</td><td></td></tr>\n",
        "<tr><td>ビット列を出力する</td><td>cout << 変数;</td><td></td></tr>\n",
        "<tr><td>ビット列を文字列化する</td><td>変数.to_string()</td><td></td></tr>\n",
        "<tr><td>ビットに対するアクセス</td><td>変数[位置]</td><td>基本的にはtest、set/resetと同等ですが、範囲外の位置を指定した場合にエラーにならないことに注意する必要があります。</td></tr>\n",
        "</tbody>\n",
        "</table>"
      ],
      "metadata": {
        "id": "mn2sFwd8kBYz",
        "outputId": "51399bc9-2790-4226-e6f4-8fa22a0eca97",
        "colab": {
          "base_uri": "https://localhost:8080/",
          "height": 417
        }
      },
      "execution_count": null,
      "outputs": [
        {
          "output_type": "display_data",
          "data": {
            "text/plain": [
              "<IPython.core.display.HTML object>"
            ],
            "text/html": [
              "<table border=\"1\" style=\"width: 90%\">\n",
              "<thead>\n",
              "<tr><th>操作</th><th>書き方</th><th style=\"width: 50%\">備考</th></tr>\n",
              "</thead>\n",
              "<tbody>\n",
              "<tr><td>全てのビットを1にする</td><td>変数.set();</td><td></td></tr>\n",
              "<tr><td>特定のビットを1にする</td><td>変数.set(1にする位置);</td><td>1にするビットの位置を0始まりのインデックスで指定します。</td></tr>\n",
              "<tr><td>特定のビットの値を変更する</td><td>変数.set(位置, 値);</td><td>変更するビットの位置を0始まりのインデックスで指定します。値は0か1を指定します。</td></tr>\n",
              "<tr><td>全てのビットを0にする</td><td>変数.reset();</td><td></td></tr>\n",
              "<tr><td>特定のビットを0にする</td><td>変数.reset(0にする位置);</td><td>0にするビットの位置を0始まりのインデックスで指定します。</td></tr>\n",
              "<tr><td>全てのビットを反転する</td><td>変数.flip();</td><td></td></tr>\n",
              "<tr><td>特定のビットを反転する</td><td>変数.flip(反転する位置);</td><td>反転するビットの位置を0始まりのインデックスで指定します。</td></tr>\n",
              "<tr><td>特定のビットが1になっているかを調べる</td><td>変数.test(調べる位置);</td><td>調べるビットの位置を0始まりのインデックスで指定します。ビットが1ならtrueを、ビットが0ならfalseを返します。</td></tr>\n",
              "<tr><td>全てのビットが1になっているかを判定する</td><td>変数.all()</td><td>全てのビットが1ならtrueを、そうでなければfalseを返します。</td></tr>\n",
              "<tr><td>いずれかのビットが1になっているかを判定する</td><td>変数.any()</td><td>1のビットが存在するならtrueを、そうでなければfalseを返します。</td></tr>\n",
              "<tr><td>1のビットの個数を数える</td><td>変数.count()</td><td></td></tr>\n",
              "<tr><td>ビット列を出力する</td><td>cout << 変数;</td><td></td></tr>\n",
              "<tr><td>ビット列を文字列化する</td><td>変数.to_string()</td><td></td></tr>\n",
              "<tr><td>ビットに対するアクセス</td><td>変数[位置]</td><td>基本的にはtest、set/resetと同等ですが、範囲外の位置を指定した場合にエラーにならないことに注意する必要があります。</td></tr>\n",
              "</tbody>\n",
              "</table>"
            ]
          },
          "metadata": {}
        }
      ]
    },
    {
      "cell_type": "code",
      "source": [
        "# 実験 to_string \n",
        "%%writefile temp.cpp\n",
        "#include <bits/stdc++.h>\n",
        "using namespace std;\n",
        " \n",
        "int main() {\n",
        "  bitset<4> x(\"1010\");\n",
        "  cout << x.to_string() << endl;\n",
        "  cout << x << endl;\n",
        "  cout << x.to_ullong() << endl;\n",
        "}"
      ],
      "metadata": {
        "id": "Yx0WeXNhEzOW"
      },
      "execution_count": null,
      "outputs": []
    },
    {
      "cell_type": "code",
      "source": [
        "!g++ temp.cpp; ./a.out"
      ],
      "metadata": {
        "id": "3dDYV0FlFOdP"
      },
      "execution_count": null,
      "outputs": []
    },
    {
      "cell_type": "code",
      "source": [
        "# ビット全探索\n",
        "# 「ビット全探索」と呼ばれるテクニックを紹介します。\n",
        "\n",
        "# ビット全探索によって、組合せの全列挙をシンプルに実装することができます。\n",
        "# ビット全探索とは「すべてのビット列の組合せ」に対して何らかの処理を行うことをいいます。\n",
        "# 例えば、長さ2のビット列ならば、すべてのビット列の組合せは「00」「01」「10」「11」の4通りです。\n",
        "# 各ビットについて0か1の2通りなので長さ N のビット列は 2^N 通り存在します。\n",
        "# 次のサンプルプログラムでは、すべての「長さ3のビット列」を列挙しています。\n",
        "\n",
        "# サンプルプログラム\n",
        "%%writefile temp.cpp\n",
        "#include <bits/stdc++.h>\n",
        "using namespace std;\n",
        " \n",
        "int main() {\n",
        "  // 3ビットのビット列をすべて列挙する\n",
        "  for (int tmp = 0; tmp < (1 << 3); tmp++) {\n",
        "    bitset<3> s(tmp);\n",
        "    cout << s << endl;\n",
        "  }\n",
        "}"
      ],
      "metadata": {
        "id": "5xpXXrjzk6p2",
        "outputId": "d266b996-515f-4af7-cb4a-5a03000d91d9",
        "colab": {
          "base_uri": "https://localhost:8080/"
        }
      },
      "execution_count": null,
      "outputs": [
        {
          "output_type": "stream",
          "name": "stdout",
          "text": [
            "Writing temp.cpp\n"
          ]
        }
      ]
    },
    {
      "cell_type": "code",
      "source": [
        "!g++ temp.cpp; ./a.out "
      ],
      "metadata": {
        "id": "IsmmEXL2RJHt",
        "outputId": "50b7d63b-2222-4b2a-d35d-9d68013a59e3",
        "colab": {
          "base_uri": "https://localhost:8080/"
        }
      },
      "execution_count": null,
      "outputs": [
        {
          "output_type": "stream",
          "name": "stdout",
          "text": [
            "000\n",
            "001\n",
            "010\n",
            "011\n",
            "100\n",
            "101\n",
            "110\n",
            "111\n"
          ]
        }
      ]
    },
    {
      "cell_type": "code",
      "source": [
        "# 6行目はtmpという変数を0から始めて8になるまでのfor文です。 \n",
        "# 1 << 3は、2の3乗を得るための式です。 \n",
        "# 1を3ビット左シフトすると、ビット列は「1000」となり、\n",
        "# これを2進数として解釈すると2の3乗=8になります。\n",
        "\n",
        "# 2のk乗の値を得るために、1 << kという書き方をすることがよくあります。\n",
        "# シンプルな形なので覚えておきましょう。\n",
        "\n",
        "# 7行目では、tmpをビット列として解釈してbitset<3>型のsを初期化しています。\n",
        "\n",
        "# 9行目ではsのビット列を出力しています。\n",
        "\n",
        "# 0から7のビット列は次のようになっています。\n",
        "%%html\n",
        "<table border=\"1\">\n",
        "<tbody>\n",
        "<tr><td>十進数</td><td>0</td><td>1</td><td>2</td><td>3</td><td>4</td><td>5</td><td>6</td><td>7</td></tr>\n",
        "<tr><td>二進数</td><td>000</td><td>001</td><td>010</td><td>011</td><td>100</td><td>101</td><td>110</td><td>111</td></tr>\n",
        "</tbody>\n",
        "</table>"
      ],
      "metadata": {
        "id": "OVysB-ZaRDo5",
        "outputId": "94739f7b-a5e9-4589-d6fc-044ff580b31d",
        "colab": {
          "base_uri": "https://localhost:8080/",
          "height": 67
        }
      },
      "execution_count": null,
      "outputs": [
        {
          "output_type": "display_data",
          "data": {
            "text/plain": [
              "<IPython.core.display.HTML object>"
            ],
            "text/html": [
              "<table border=\"1\">\n",
              "<tbody>\n",
              "<tr><td>十進数</td><td>0</td><td>1</td><td>2</td><td>3</td><td>4</td><td>5</td><td>6</td><td>7</td></tr>\n",
              "<tr><td>二進数</td><td>000</td><td>001</td><td>010</td><td>011</td><td>100</td><td>101</td><td>110</td><td>111</td></tr>\n",
              "</tbody>\n",
              "</table>"
            ]
          },
          "metadata": {}
        }
      ]
    },
    {
      "cell_type": "code",
      "source": [
        "# これらの中に長さ3のビット列が全て現れているということが分かります。\n",
        "\n",
        "# より一般には、0から2^N−1の範囲でループすることで、 \n",
        "# 長さNのビット列をすべて列挙することができます。\n",
        "\n",
        "# ビット全探索の雛形\n",
        "# 次の形でビット全探索を行うことができます。\n",
        "\n",
        "# for (int tmp = 0; tmp < (1 << ビット数); tmp++) {\n",
        "#   bitset<ビット数> s(tmp);\n",
        "#   // (ビット列sに対する処理)\n",
        "# }\n",
        "\n",
        "# bitsetの長さの指定に変数は使えないことに注意してください。\n",
        "\n",
        "# また、このアルゴリズムはビット列の長さを N として、少なくとも 2^N 回以上の\n",
        "# ループになるので計算量に注意しましょう。\n",
        "\n",
        "# 例題\n",
        "# A^1,A^2,⋯,A^N のN個の整数が与えられます。 これらの整数からいくつかを選んで、\n",
        "# その総和がKとなるような選び方が存在するかを求めてください。\n",
        "# 総和がKとなるような整数の組合せが存在するなら1行に YES を、そうでなければ NO を出力してください。\n"
      ],
      "metadata": {
        "id": "kbUp7ArWRiFF"
      },
      "execution_count": null,
      "outputs": []
    },
    {
      "cell_type": "code",
      "source": [
        "# 解答例\n",
        "%%writefile temp.cpp\n",
        "#include <bits/stdc++.h>\n",
        "using namespace std;\n",
        " \n",
        "int main () {\n",
        "  int N, K;\n",
        "  cin >> N >> K;\n",
        "  vector<int> A(N);\n",
        "  for (int i = 0; i < N; i++) {\n",
        "    cin >> A.at(i);\n",
        "  }\n",
        " \n",
        "  bool ans = false;\n",
        " \n",
        "  // すべての選び方を試して、総和がKになるものがあるかを調べる\n",
        "  for (int tmp = 0; tmp < (1 << 20); tmp++) {\n",
        "    bitset<20> s(tmp);  // 最大20個なので20ビットのビット列として扱う, 変数 N は使えない\n",
        " \n",
        "    // ビット列の1のビットに対応する整数を選んだとみなして総和を求める\n",
        "    int sum = 0;\n",
        "    for (int i = 0; i < N; i++) {\n",
        "      if (s.test(i)) {\n",
        "        sum += A.at(i);\n",
        "      }\n",
        "    }\n",
        "    if (sum == K) {\n",
        "      ans = true;\n",
        "    }\n",
        "  }\n",
        " \n",
        "  if (ans) {\n",
        "    cout << \"YES\" << endl;\n",
        "  } else {\n",
        "    cout << \"NO\" << endl;\n",
        "  }\n",
        "}"
      ],
      "metadata": {
        "id": "lbNl2ylvS_VI"
      },
      "execution_count": null,
      "outputs": []
    },
    {
      "cell_type": "code",
      "source": [
        "!g++ temp.cpp; echo 5 11 2 8 4 2 9 |./temp #=> YES\n",
        "!g++ temp.cpp; echo 5 3 2 8 4 2 9 |./temp #=> NO\n",
        "!g++ temp.cpp; echo 5 25 2 8 4 2 9 |./temp #=> YES"
      ],
      "metadata": {
        "id": "iVbbLUSxSfS1"
      },
      "execution_count": null,
      "outputs": []
    },
    {
      "cell_type": "code",
      "source": [
        "# bitsetと整数の相互変換\n",
        "# 整数からbitsetへの変換\n",
        "# bitsetのコンストラクタに整数を渡すことで整数をビット列としてみなしてbitsetに変換することができます。\n",
        "\n",
        "# bitset<ビット数> 変数名(整数);\n",
        "\n",
        "# bitsetから整数への変換\n",
        "# mapのKeyとして使う場合や四則演算を行う場合に、bitsetを整数に変換したいことがあります。\n",
        "# このような場合には、bitsetのto_ullong関数を用います。\n",
        "\n",
        "# bitsetの変数.to_ullong()\n",
        "# bitsetのビット数が64ビットを超えている場合は、整数に変換できずに実行時エラーになります。\n",
        "\n",
        "# 2進数リテラル\n",
        "# 2進数リテラルを用いることで、2進数表記で整数を書くことができます。\n",
        "\n",
        "# 2進数リテラルは0b0101や0b11111111のように、0bに続けて01のビット列を書きます。\n",
        "\n",
        "%%writefile temp.cpp\n",
        "#include <bits/stdc++.h>\n",
        "using namespace std;\n",
        " \n",
        "int main() {\n",
        "  uint32_t x = 0b100;\n",
        "  cout << x << endl;  // 4\n",
        " \n",
        "  cout << (x | 0b010) << endl;  // 計算結果は 0b110 = 6\n",
        "}"
      ],
      "metadata": {
        "id": "dbTlJoKGTFUK"
      },
      "execution_count": null,
      "outputs": []
    },
    {
      "cell_type": "code",
      "source": [
        "!g++ temp.cpp; ./a.out"
      ],
      "metadata": {
        "id": "pj-P7ZlATj3e"
      },
      "execution_count": null,
      "outputs": []
    },
    {
      "cell_type": "code",
      "source": [
        "# ビット演算の計算量\n",
        "# 整数をビット列として用いる場合\n",
        "# 全てO(1)です。\n",
        "\n",
        "# bitsetを用いる場合\n",
        "# 基本的にはbitsetの操作の計算量はビット数をNとしてO(N)です。\n",
        "\n",
        "# しかし、内部的には整数のビット演算を用いて複数のビットをまとめて処理するように\n",
        "# 実装されていることが多いため、 64ビット以内であれば基本的にO(1)になります。 \n",
        "# 64ビットを超える場合でも、計算量から見積もられる実行時間より高速に動作することが多いです。\n",
        "\n",
        "# 負の整数の右シフト\n",
        "# 論理右シフトでは、空いたビットは0で埋められるということを説明しましたが、 \n",
        "# 負の数を右シフトした場合には、空いたビットは基本的に1で埋められます。 \n",
        "# この動作を算術右シフトといいます。\n"
      ],
      "metadata": {
        "id": "sUN-L4dBTYTR"
      },
      "execution_count": null,
      "outputs": []
    },
    {
      "cell_type": "code",
      "source": [
        "# EX25 - 集合の操作 \n",
        "# 0から49までの整数からなる集合A, Bがあります。\n",
        "# プログラムの雛形をもとに、集合A,Bに対して操作を行う関数を実装してください。\n",
        "# 実装する操作は以下の通りです。\n",
        "%%html\n",
        "<style>\n",
        "    tr td:nth-child(1) {\n",
        "        color: red;\n",
        "    }\n",
        "</style>\n",
        "<table border=\"1\" style=\"width: 90%\">\n",
        "<thead>\n",
        "<tr><th>操作</th><th style=\"width: 50%\">説明</th><th>例</th></tr>\n",
        "</thead>\n",
        "<tbody>\n",
        "<tr><td>intersection</td><td>AとBに共通して含まれる要素からなる集合を返す。\n",
        "    </td><td>A: {1,2,3}, B:{2,3,4} 結果:{2,3}</td></tr>\n",
        "<tr><td>union_set</td><td>AとBのうち少なくとも一方に含まれる要素からなる集合を返す。\n",
        "    </td><td>A: {1,2,3}, B:{2,3,4} 結果:{1,2,3,4}</td></tr>\n",
        "<tr><td>symmetric_diff</td><td>AとBのうちどちらか一方にだけ含まれる要素からなる集合を返す。\n",
        "    </td><td>A: {1,2,3}, B:{2,3,4} 結果:{1,4}</td></tr>\n",
        "<tr><td>subtract x</td><td>集合Aから値xを削除する。xは存在することが保証される。\n",
        "    </td><td>A: {1,2,3}, x: 2 結果:{1,3}</td></tr>\n",
        "<tr><td>increment</td><td>集合Aに含まれる要素すべてに1を加える。ただし、\n",
        "    <strong>操作前の集合に含まれる49は操作後は0になるものとする</strong>。\n",
        "    </td><td>A: {1,2,49} 結果:{2,3,0}</td></tr>\n",
        "<tr><td>decrement</td><td>集合Aに含まれる要素すべてから1を引く。ただし、\n",
        "    <strong>操作前の集合に含まれる0は操作後は49になるものとする</strong>。<\n",
        "        /td><td>A: {0,1,2} 結果:{49,0,1}</td></tr>\n",
        "</tbody>"
      ],
      "metadata": {
        "id": "KL6Opnx8gS9C"
      },
      "execution_count": null,
      "outputs": []
    },
    {
      "cell_type": "code",
      "source": [
        "# ヒント\n",
        "# * intersectionはビット毎のAND演算を用いて実装できます。\n",
        "# * union_setはビット毎のOR演算を用いて実装できます。\n",
        "# * symmetric_diffはビット毎のXOR演算を用いて実装できます。\n",
        "# * subtract xはSを表すビット列のxビット目を0にすればよいです。\n",
        "# * increment, decrementは全ての要素が1ずつ増える（減る）ので論理シフト演算が利用できます。"
      ],
      "metadata": {
        "id": "H_pTZ-mY4XPI"
      },
      "execution_count": null,
      "outputs": []
    },
    {
      "cell_type": "code",
      "source": [
        "# 解答例\n",
        "%%writefile temp.cpp\n",
        "#include <bits/stdc++.h>\n",
        "using namespace std;\n",
        "\n",
        "// 各操作を行う関数を実装する\n",
        "\n",
        "// AとBに共通して含まれる要素からなる集合を返す\n",
        "bitset<50> intersection(bitset<50> A, bitset<50> B) {\n",
        "  return A & B;\n",
        "}\n",
        "// AとBのうち少なくとも一方に含まれる要素からなる集合を返す\n",
        "bitset<50> union_set(bitset<50> A, bitset<50> B) {\n",
        "  return A | B;\n",
        "}\n",
        "// AとBのうちどちらか一方にだけ含まれる要素からなる集合を返す\n",
        "bitset<50> symmetric_diff(bitset<50> A, bitset<50> B) {\n",
        "  return A ^ B;\n",
        "}\n",
        "// Aから値xを除く\n",
        "bitset<50> subtract(bitset<50> A, int x) {\n",
        "  A.set(x, 0);\n",
        "  return A;\n",
        "}\n",
        "// Aに含まれる要素に1を加える(ただし、要素49が含まれる場合は0になるものとする)\n",
        "bitset<50> increment(bitset<50> A) {\n",
        "  bitset<50> ret = A << 1;  // 左シフトでまとめて+1する\n",
        "  if (A.test(49)) {\n",
        "    ret.set(0, 1);\n",
        "  }\n",
        "  return ret;\n",
        "}\n",
        "// Aに含まれる要素から1を引く(ただし、要素0が含まれる場合は49になるものとする)\n",
        "bitset<50> decrement(bitset<50> A) {\n",
        "  bitset<50> ret = A >> 1;  // 右シフトでまとめて-1する\n",
        "  if (A.test(0)) {\n",
        "    ret.set(49, 1);\n",
        "  }\n",
        "  return ret;\n",
        "}\n",
        "\n",
        "// Sに値xを加える\n",
        "bitset<50> add(bitset<50> S, int x) {\n",
        "  S.set(x, 1);  // xビット目を1にする\n",
        "  return S;\n",
        "}\n",
        "\n",
        "// 集合Sの内容を昇順で出力する(スペース区切りで各要素の値を出力する)\n",
        "void print_set(bitset<50> S) {\n",
        "  vector<int> cont;\n",
        "  for (int i = 0; i < 50; i++) {\n",
        "    if (S.test(i)) {\n",
        "      cont.push_back(i);\n",
        "    }\n",
        "  }\n",
        "  for (int i = 0; i < cont.size(); i++) {\n",
        "    if (i > 0) cout << \" \";\n",
        "    cout << cont.at(i);\n",
        "  }\n",
        "  cout << endl;\n",
        "}\n",
        "\n",
        "// これより下は書き換えない\n",
        "\n",
        "int main() {\n",
        "  bitset<50> A, B;\n",
        "  int N;\n",
        "  cin >> N;\n",
        "  for (int i = 0; i < N; i++) {\n",
        "    int x;\n",
        "    cin >> x;\n",
        "    A = add(A, x);\n",
        "  }\n",
        "  int M;\n",
        "  cin >> M;\n",
        "  for (int i = 0; i < M; i++) {\n",
        "    int x;\n",
        "    cin >> x;\n",
        "    B = add(B, x);\n",
        "  }\n",
        "\n",
        "  // 操作\n",
        "  string com;\n",
        "  cin >> com;\n",
        "\n",
        "  if (com == \"intersection\") {\n",
        "    print_set(intersection(A, B));\n",
        "  } else if (com == \"union_set\") {\n",
        "    print_set(union_set(A, B));\n",
        "  } else if (com == \"symmetric_diff\") {\n",
        "    print_set(symmetric_diff(A, B));\n",
        "  } else if (com == \"subtract\") {\n",
        "    int x;\n",
        "    cin >> x;\n",
        "    print_set(subtract(A, x));\n",
        "  } else if (com == \"increment\") {\n",
        "    print_set(increment(A));\n",
        "  } else if (com == \"decrement\") {\n",
        "    print_set(decrement(A));\n",
        "  }\n",
        "}"
      ],
      "metadata": {
        "id": "iOigh2Yt5qkg"
      },
      "execution_count": null,
      "outputs": []
    },
    {
      "cell_type": "code",
      "source": [
        "!g++ temp.cpp; echo 3 0 1 2 3 1 2 3 intersection |./temp #=> 1 2\n",
        "!g++ temp.cpp; echo 3 0 1 2 3 1 2 3 union_set |./temp #=> 0 1 2 3\n",
        "!g++ temp.cpp; echo 3 0 1 2 3 1 2 3 symmetric_diff |./temp #=> 0 3\n",
        "!g++ temp.cpp; echo 3 0 1 2 3 1 2 3 subtract 2 |./temp #=> 0 1\n",
        "!g++ temp.cpp; echo 3 0 1 49 3 1 2 3 increment |./temp #=> 0 1 2\n",
        "!g++ temp.cpp; echo 3 0 1 49 3 1 2 3 decrement |./temp #=> 0 48 49"
      ],
      "metadata": {
        "id": "mc0OHP7Vg4Vo"
      },
      "execution_count": null,
      "outputs": []
    },
    {
      "cell_type": "code",
      "source": [
        "# 理解のための実験\n",
        "%%writefile temp.cpp\n",
        "#include <bits/stdc++.h>\n",
        "using namespace std;\n",
        "\n",
        "const int n = 50;\n",
        "\n",
        "// 集合 bitset S に値 x を加える\n",
        "bitset<n> add(bitset<n> S, int x) {\n",
        "  S.set(x, 1);  // xビット目を1にする\n",
        "  return S;\n",
        "}\n",
        "\n",
        "// 集合 bitset S の内容を数字の文字列にする\n",
        "string print_set(bitset<n> S) {\n",
        "  string str = \"\";\n",
        "  str += \"{\";\n",
        "  bool isFirst = true;\n",
        "  for (int i = 0; i < n; i++) {\n",
        "    if (S.test(i)) {\n",
        "      if (!isFirst) str += \", \";\n",
        "      str += to_string(i);\n",
        "      isFirst = false;\n",
        "    }\n",
        "  }\n",
        "  str += \"}\";\n",
        "  return str;\n",
        "}\n",
        "\n",
        "int main() {\n",
        "  bitset<n> A;\n",
        "  int N;\n",
        "  cin >> N;\n",
        "  for (int i = 0; i < N; i++) {\n",
        "    int x;\n",
        "    cin >> x;\n",
        "    A = add(A, x);\n",
        "  }\n",
        "  cout << print_set(A) << endl;\n",
        "  cout << A << endl;\n",
        "}"
      ],
      "metadata": {
        "id": "_3UxwZkrpJee"
      },
      "execution_count": null,
      "outputs": []
    },
    {
      "cell_type": "code",
      "source": [
        "!g++ temp.cpp; echo 4 8 2 0 5 |./temp"
      ],
      "metadata": {
        "id": "kOUZxV4hpOZ2"
      },
      "execution_count": null,
      "outputs": []
    },
    {
      "cell_type": "code",
      "source": [
        "# ARC061 C - たくさんの数式 / Many Formulas をビット演算で解く\n",
        "# 1 以上 9 以下の数字のみからなる文字列 S が与えられます。 この文字列の中で、\n",
        "# あなたはこれら文字と文字の間のうち、いくつかの場所に + を入れることができます。\n",
        "#  一つも入れなくてもかまいません。 ただし、+ が連続してはいけません。\n",
        "# このようにして出来る全ての文字列を数式とみなし、和を計算することができます。\n",
        "# ありうる全ての数式の値を計算し、その合計を出力してください。\n",
        "# ありうる全ての数式の値の総和を 1 行に出力せよ。\n",
        "%%writefile temp.cpp\n",
        "#include <bits/stdc++.h>\n",
        "using namespace std;\n",
        "#define REP(i,n) for(int i=0; i<(n); i++)\n",
        "\n",
        "long long value(int bit);\n",
        "\n",
        "string s;\n",
        "int n;\n",
        "\n",
        "int main(){\n",
        "    cin>>s;\n",
        "    n=s.size()-1;   // '+'が入るスペースの数\n",
        "    long long sum=0; \n",
        "\n",
        "    for(int bit=0; bit<(1<<n); bit++){\n",
        "        sum+=value(bit);\n",
        "    }\n",
        "\n",
        "    cout<<sum<<endl;\n",
        "}\n",
        "\n",
        "long long value(int bit){\n",
        "    long long v=0;\n",
        "    // 0文字目\n",
        "    string c=s.substr(0,1);\n",
        "\n",
        "    REP(i,n){  \n",
        "        // i番目が'+'なら\n",
        "        if(bit&(1<<i)){\n",
        "            v+=stoll(c);\n",
        "            c.clear();\n",
        "            c=s.substr(i+1,1);\n",
        "        // そうでないなら\n",
        "        }else{\n",
        "            c+=s.substr(i+1,1);\n",
        "        }\n",
        "    }\n",
        "    // 最後に残っている部分を足す\n",
        "    v+=stoll(c);\n",
        "    \n",
        "    return v;\n",
        "}"
      ],
      "metadata": {
        "id": "I87Vrd8PgQAe"
      },
      "execution_count": null,
      "outputs": []
    },
    {
      "cell_type": "code",
      "source": [
        "!g++ temp.cpp; echo 125 |./temp #=> 176\n",
        "!g++ temp.cpp; echo 9999999999 |./temp #=> 12656242944"
      ],
      "metadata": {
        "id": "hUQAGRjl7Xqg"
      },
      "execution_count": null,
      "outputs": []
    },
    {
      "cell_type": "code",
      "source": [
        "# ARC061 C - たくさんの数式 / Many Formulas をビット演算で解く\n",
        "# bitset を使って解く\n",
        "%%writefile temp.cpp\n",
        "#include <bits/stdc++.h>\n",
        "using namespace std;\n",
        "\n",
        "long long value(string str, bitset<50> s){\n",
        "    long long result = 0;\n",
        "    string tempString = \"\";\n",
        "    if (str == \"\") return result;\n",
        "    for (int i=0; i<s.size(); i++){\n",
        "        if (i < str.size()) tempString += str.at(i);\n",
        "        if (s.test(i)) {\n",
        "            result += stoi(tempString);\n",
        "            tempString = \"\";\n",
        "        }\n",
        "    }\n",
        "    result += stoll(tempString);\n",
        "    return result;\n",
        "}\n",
        "\n",
        "string expression(string str, bitset<50> s){\n",
        "    string result = \"\";\n",
        "    if (str == \"\") return result;\n",
        "    for (int i=0; i<s.size(); i++){\n",
        "            if (i < str.size())result += str.at(i);\n",
        "            if (s.test(i)) result += \"+\";\n",
        "    }\n",
        "    return result;\n",
        "}\n",
        "\n",
        "int main(){\n",
        "    string str;\n",
        "    cin >> str;\n",
        "    long long sum = 0;\n",
        "    for (int tmp = 0; tmp < (1 << (str.size()-1)); tmp++) {\n",
        "        bitset<50> s(tmp);\n",
        "        // cout << expression(str, s) << endl;\n",
        "        sum += value(str, s);\n",
        "    }\n",
        "    cout << sum << endl;\n",
        "}"
      ],
      "metadata": {
        "id": "Jei-R63JCBiQ"
      },
      "execution_count": null,
      "outputs": []
    },
    {
      "cell_type": "code",
      "source": [
        "!g++ temp.cpp; echo 125 |./temp #=> 176\n",
        "!echo\n",
        "!g++ temp.cpp; echo 9999999999 |./temp #=> 12656242944"
      ],
      "metadata": {
        "id": "NCOH9288COne"
      },
      "execution_count": null,
      "outputs": []
    },
    {
      "cell_type": "markdown",
      "source": [
        "# いまここ"
      ],
      "metadata": {
        "id": "hVUSVfAoJgGS"
      }
    },
    {
      "cell_type": "code",
      "source": [
        "# ABC079 C - Train Ticket をビット演算で解く\n",
        "# 問題\n",
        "# 駅の待合室に座っているjoisinoお姉ちゃんは、切符を眺めています。\n",
        "# 切符には 4 つの 0 以上 9 以下の整数 A,B,C,D が整理番号としてこの順に書かれています。\n",
        "# A op1 B op2 C op3 D = 7 となるように、op1,op2,op3 に + か - を入れて式を作って下さい。\n",
        "# なお、答えが存在しない入力は与えられず、また答えが複数存在する場合はどれを出力してもよいものとします。\n",
        "# 作った式を、=7 の部分を含めて出力せよ。\n",
        "\n",
        "%%writefile temp.cpp\n",
        "#include <bits/stdc++.h>\n",
        "using namespace std;\n",
        "\n",
        "int main() {\n",
        "  int abcd;\n",
        "  cin >> abcd;\n",
        "  vector<int> ticket(4);\n",
        "\n",
        "  for(int i = 3; i > -1; i--){\n",
        "    ticket[i] = (abcd%10); // 1桁取り出していく\n",
        "    abcd /= 10;\n",
        "  }\n",
        "\n",
        "  for(int bit = 0; bit < (1 << 3); bit++){\n",
        "    int ans = ticket[0];\n",
        "\n",
        "    for(int idx = 0; idx < 3; idx++){\n",
        "      if(bit & (1 << idx)) ans += ticket[idx + 1];\n",
        "\n",
        "      else ans -= ticket[idx + 1];\n",
        "    }\n",
        "\n",
        "    if(ans == 7){\n",
        "      cout << ticket[0];\n",
        "\n",
        "      for(int idx = 0; idx < 3; idx++){\n",
        "        if(bit & (1 << idx)) cout << '+';\n",
        "        else cout << '-';\n",
        "\n",
        "        cout << ticket[idx + 1];\n",
        "      }\n",
        "\n",
        "      cout << \"=7\" << endl;\n",
        "      break;\n",
        "    }\n",
        "  }\n",
        "}"
      ],
      "metadata": {
        "id": "P_hOEcnK6dbP"
      },
      "execution_count": null,
      "outputs": []
    },
    {
      "cell_type": "code",
      "source": [
        "!g++ temp.cpp; echo 1222 |./temp #=> 1+2+2+2=7\n",
        "!g++ temp.cpp; echo 0290 |./temp #=> 0-2+9+0=7\n",
        "!g++ temp.cpp; echo 3242 |./temp #=> 3+2+4-2=7"
      ],
      "metadata": {
        "id": "oGWFP_SNeYB2"
      },
      "execution_count": null,
      "outputs": []
    },
    {
      "cell_type": "code",
      "source": [
        "# ABC104 C - All Green をビット演算で解く\n",
        "# ARC029 A - 高橋君とお肉 をビット演算で解く\n",
        "# ABC002 D - 派閥 をビット演算で解く"
      ],
      "metadata": {
        "id": "Fg6qTn1KeXbo"
      },
      "execution_count": null,
      "outputs": []
    }
  ]
}