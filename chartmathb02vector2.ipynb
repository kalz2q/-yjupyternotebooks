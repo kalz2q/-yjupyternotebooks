{
  "nbformat": 4,
  "nbformat_minor": 0,
  "metadata": {
    "colab": {
      "name": "chartmathb02vector2.ipynb",
      "provenance": [],
      "toc_visible": true,
      "authorship_tag": "ABX9TyOztsG/BloFvHrsAjosi/wE",
      "include_colab_link": true
    },
    "kernelspec": {
      "name": "python3",
      "display_name": "Python 3"
    }
  },
  "cells": [
    {
      "cell_type": "markdown",
      "metadata": {
        "id": "view-in-github",
        "colab_type": "text"
      },
      "source": [
        "<a href=\"https://colab.research.google.com/github/kalz2q/mycolabnotebooks/blob/master/chartmathb02vector2.ipynb\" target=\"_parent\"><img src=\"https://colab.research.google.com/assets/colab-badge.svg\" alt=\"Open In Colab\"/></a>"
      ]
    },
    {
      "cell_type": "markdown",
      "metadata": {
        "id": "Df-P42nLxlqU"
      },
      "source": [
        "# メモ\r\n",
        "\r\n",
        "チャート式数学Bの\r\n",
        "空間ベクトル\r\n",
        "\r\n",
        "のところを読む。\r\n"
      ]
    },
    {
      "cell_type": "markdown",
      "metadata": {
        "id": "jyOLH2VlGdQc"
      },
      "source": [
        "# 空間座標、空間ベクトル"
      ]
    },
    {
      "cell_type": "markdown",
      "metadata": {
        "id": "tHI4O0U5HmhV"
      },
      "source": [
        "**直線、平面の位置関係**\r\n",
        "\r\n",
        "1. 2直線の位置関係  \r\n",
        "  - 同一平面上にあって、共有点がない $ \\quad \\cdots \\cdots $ 平行である\r\n",
        "  - 同一平面上にあって、ただ 1つの共有点をもつ $ \\quad \\cdots \\cdots $ 交わる\r\n",
        "  - 同一平面上にない $ \\quad \\cdots \\cdots $ ねじれの位置にある\r\n",
        "\r\n",
        "\r\n",
        "2. 直線と平面の位置関係  \r\n",
        "  - 共有点がない $ \\quad \\cdots \\cdots $ 平行である\r\n",
        "  - ただ 1つの共有点をもつ $ \\quad \\cdots \\cdots $ 交わる\r\n",
        "  - 直線が平面に含まれる\r\n",
        "\r\n",
        "\r\n",
        "3. 2平面の位置関係\r\n",
        "  - 共有点がない $ \\quad \\cdots \\cdots $ 平行である\r\n",
        "  - 共有点がある $ \\quad \\cdots \\cdots $ 交わる\r\n",
        "\r\n",
        "\r\n",
        "4. 2平面のなす角  \r\n",
        "2平面の交線上の 1点から交線に垂直に平面上に引いた 2直線のなす角"
      ]
    },
    {
      "cell_type": "markdown",
      "metadata": {
        "id": "0ri9qHYXHxcE"
      },
      "source": [
        "1. なす角  \r\n",
        "2直線 $ l,m $ が平行でないとき、任意の 1点を通る 2直線 $ l',m' $ を、それぞれ $ l,m $ に平行に引く。  \r\n",
        " $ l',m' $ のなす角を 2直線 $ l,m $ のなす角という。  \r\n",
        "この角が直角であるとき、 $ l $ と $ m $ は垂直であるといい、$l \\perp m $ と書く。   \r\n",
        "このとき $ l $ と $ m $ は直交するという。\r\n",
        "\r\n",
        "\r\n",
        "2. 直線と平面の垂直  \r\n",
        "直線 $ h $ が、平面 $ \\alpha $ 上のすべての直線に垂直であるとき、 $ h $ は $ \\alpha $ に垂直であるといい、$ h \\perp \\alpha $ で表す。  "
      ]
    },
    {
      "cell_type": "markdown",
      "metadata": {
        "id": "J0_PQZ0UH0w0"
      },
      "source": [
        "**空間の座標**  \r\n",
        "\r\n",
        "座標軸 $\\quad$ 定点 $\\mathrm O$ を共通の原点とする数直線 $ x,x', y,y', zz' $ を、その  2つずつが直交するようにとるとき、\r\n",
        "数直線 $ x,x', y,y', zz' $ をそれぞれ $x$ 軸、 $y$ 軸、 $z$ 軸といい、まとめて座標軸という。  \r\n",
        "\r\n",
        "座標平面 $\\quad x$ 軸と $y$ 軸が定める平面を $xy$ 平面、$y$ 軸と $z$ 軸が定める平面を $yz$ 平面、$z$ 軸と $x$ 軸が定める平面を $zx$ 平面という。 まとめて座標平面という。\r\n",
        "\r\n",
        "**2点間の距離**\r\n",
        "\r\n",
        "2点 $\\mathrm A (x1,y1,z1), \\mathrm B(x2,y2,z2)$ について  \r\n",
        "$AB = \\sqrt{(x_2-x_1)^2+(y_2-y_1)^2+(z_2-z_1)^2}$  \r\n",
        "特に、原点 $\\mathrm O$と点 $\\mathrm A$ の距離は $\\mathrm{OA} = \\sqrt {{x_1}^2+{y_1}^2+{z_1}^2}$\r\n"
      ]
    },
    {
      "cell_type": "markdown",
      "metadata": {
        "id": "zZYcFvL5rurC"
      },
      "source": [
        "**空間のベクトルの演算法則** ($k,l$ は実数)  \r\n",
        "\r\n",
        "空間ベクトルの加法、減法、実数倍や単位ベクトル、逆ベクトル、零ベクトルなどは、平面ベクトルの場合と全く同様にていぎされ、次のことが成り立つ。\r\n",
        "\r\n",
        "加法 $\\quad \\overrightarrow a + \\overrightarrow b = \\overrightarrow b + \\overrightarrow a$ (交換法則) $\\quad (\\overrightarrow a + \\overrightarrow b) + \\overrightarrow c = \\overrightarrow a + (\\overrightarrow b + \\overrightarrow c)$ (結合法則)\r\n",
        "\r\n",
        "$ \\overrightarrow a + (-  \\overrightarrow a) =  \\overrightarrow 0, \\quad $\r\n",
        "$ \\overrightarrow a + \\overrightarrow 0 =  \\overrightarrow a, \\quad $\r\n",
        "$ \\overrightarrow a -  \\overrightarrow b = \\overrightarrow a + (-  \\overrightarrow b)  $\r\n",
        "\r\n",
        "実数倍 $\\quad k (l \\overrightarrow a) = (kl) \\overrightarrow a, \\quad $\r\n",
        "$(k+l)\\overrightarrow a = k\\overrightarrow a + l\\overrightarrow a, \\quad $\r\n",
        "$k(\\overrightarrow a + \\overrightarrow b) = k\\overrightarrow a + k\\overrightarrow b$\r\n",
        "\r\n",
        "**空間ベクトルの平行条件**\r\n",
        "\r\n",
        "$\\overrightarrow a \\neq \\overrightarrow 0,  \\overrightarrow b \\neq \\overrightarrow 0$ のとき、$\\overrightarrow a \\parallel \\overrightarrow b \\Longleftrightarrow \\overrightarrow b = k\\overrightarrow a$ となる実数 $k$ がある。\r\n"
      ]
    },
    {
      "cell_type": "markdown",
      "metadata": {
        "id": "JuKUlOoMA7hQ"
      },
      "source": [
        "**ベクトルの分解 (空間)**\r\n",
        "\r\n",
        "空間内に、同じ平面上にない 4点 $\\mathrm{O,A,B,C}$ があるとき、任意の点を $\\mathrm P $  とし、\r\n",
        "\r\n",
        "$\\overrightarrow {\\mathrm{OA}} = \\overrightarrow a, \\overrightarrow {\\mathrm{OB}} = \\overrightarrow b, \\overrightarrow {\\mathrm{OC}} = \\overrightarrow c, \\overrightarrow {\\mathrm{OP}} = \\overrightarrow p$\r\n",
        "とする ($s,t,u,s',t',u'$ は実数)。\r\n",
        "\r\n",
        "1. 任意のベクトル $\\overrightarrow p$ はただ 1通りに $\\overrightarrow p = s \\overrightarrow a + t \\overrightarrow b + u \\overrightarrow c$ の形に表される。\r\n",
        "\r\n",
        "1. $s \\overrightarrow a + t \\overrightarrow b + u \\overrightarrow c = s' \\overrightarrow a + t' \\overrightarrow b + u' \\overrightarrow c \\Longleftrightarrow s=s', t=t', u=u'$  \r\n",
        "特に  $s \\overrightarrow a + t \\overrightarrow b + u \\overrightarrow c = \\overrightarrow 0 \\Longleftrightarrow s=0, t=0, u=0$ "
      ]
    },
    {
      "cell_type": "markdown",
      "metadata": {
        "id": "jN4stLXYieMs"
      },
      "source": [
        "**基本例題 35**\r\n",
        "\r\n",
        "点 $\\mathrm P (3,4,2)$ に対して、次の点の座標を求める。\r\n",
        "\r\n",
        "1. 点 $\\mathrm P$ から $xy$ 平面、$yz$ 平面、$zx$ 平面に下ろした垂線の足を、それぞれ $\\mathrm{A,B,C}$ とするとき、3点 $\\mathrm{A,B,C}$ の座標。\r\n",
        "\r\n",
        "1. 点 $\\mathrm P$ と $xy$ 平面、$yz$ 平面、$zx$ 平面に関して対称な点を、それぞれ $\\mathrm{Q,R,S}$ とするとき、3点 $\\mathrm{Q,R,S}$ の座標。\r\n",
        "\r\n",
        "1. 点 $\\mathrm P$ と $x$ 軸、$y$ 軸、$z$ 軸に関して対称な点を、それぞれ $\\mathrm{L,M,N}$ とするとき、3点 $\\mathrm{L,M,N}$ の座標。"
      ]
    },
    {
      "cell_type": "markdown",
      "metadata": {
        "id": "hYCKsSPDm8AO"
      },
      "source": [
        "**基本例題 36**\r\n",
        "\r\n",
        "3点 $\\mathrm O (0,0,0), \\mathrm A (-1,0,2), \\mathrm B (2,1,-1)$ について、  \r\n",
        "\r\n",
        "1. 2点 $\\mathrm{A,B}$ から等距離にある $z$ 軸上の点 $\\mathrm P$ の座標を求める。\r\n",
        "\r\n",
        "1. 3点 $\\mathrm{O,A,B}$ から等距離にある、$xy$ 平面上の点 $\\mathrm Q$ の座標を求める。\r\n",
        "\r\n"
      ]
    },
    {
      "cell_type": "markdown",
      "metadata": {
        "id": "li9k1-77GpTi"
      },
      "source": [
        "# いまここ p.62"
      ]
    },
    {
      "cell_type": "markdown",
      "metadata": {
        "id": "EdInG_hHvuJ1"
      },
      "source": [
        "**基本例題 37**"
      ]
    }
  ]
}