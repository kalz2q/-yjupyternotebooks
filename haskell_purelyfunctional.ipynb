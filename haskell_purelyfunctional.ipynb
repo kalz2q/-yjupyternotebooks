{
  "nbformat": 4,
  "nbformat_minor": 0,
  "metadata": {
    "colab": {
      "name": "haskell_purelyfunctional.ipynb",
      "provenance": [],
      "authorship_tag": "ABX9TyMB6P+ti/O0eVS6w11ZyTII",
      "include_colab_link": true
    },
    "kernelspec": {
      "name": "python3",
      "display_name": "Python 3"
    }
  },
  "cells": [
    {
      "cell_type": "markdown",
      "metadata": {
        "id": "view-in-github",
        "colab_type": "text"
      },
      "source": [
        "<a href=\"https://colab.research.google.com/github/kalz2q/mycolabnotebooks/blob/master/haskell_purelyfunctional.ipynb\" target=\"_parent\"><img src=\"https://colab.research.google.com/assets/colab-badge.svg\" alt=\"Open In Colab\"/></a>"
      ]
    },
    {
      "cell_type": "markdown",
      "metadata": {
        "id": "BfmgBPV6vSdV"
      },
      "source": [
        "# メモ\r\n",
        "純粋関数型データ構造 Chris Okasaki , Purely Functional Data Structures\r\n",
        "を読む。\r\n",
        "\r\n",
        "Standard ML で書かれている。 巻末にコードのHaskell版があるので、それを見ながら読む。"
      ]
    },
    {
      "cell_type": "code",
      "metadata": {
        "id": "vS_S83KrvR7A"
      },
      "source": [
        "%%capture\r\n",
        "!apt install haskell-platform"
      ],
      "execution_count": null,
      "outputs": []
    },
    {
      "cell_type": "code",
      "metadata": {
        "id": "EoUzF2MSvjpd"
      },
      "source": [
        ""
      ],
      "execution_count": null,
      "outputs": []
    }
  ]
}