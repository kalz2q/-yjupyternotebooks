{
  "nbformat": 4,
  "nbformat_minor": 0,
  "metadata": {
    "colab": {
      "name": "rust01.ipynb",
      "provenance": [],
      "toc_visible": true,
      "authorship_tag": "ABX9TyMxOqzWwoCR0q7aGwWXnR6d",
      "include_colab_link": true
    },
    "kernelspec": {
      "name": "python3",
      "display_name": "Python 3"
    }
  },
  "cells": [
    {
      "cell_type": "markdown",
      "metadata": {
        "id": "view-in-github",
        "colab_type": "text"
      },
      "source": [
        "<a href=\"https://colab.research.google.com/github/kalz2q/mycolabnotebooks/blob/master/rust01.ipynb\" target=\"_parent\"><img src=\"https://colab.research.google.com/assets/colab-badge.svg\" alt=\"Open In Colab\"/></a>"
      ]
    },
    {
      "cell_type": "markdown",
      "metadata": {
        "id": "Z5PU-iNA6q3p"
      },
      "source": [
        "# メモ\n",
        "\n",
        "1. Colab で実行しながら読まれることを想定している。\n",
        "1. Rust の勉強\n",
        "1. 資料は本家のテュートリアル https://rust-cli.github.io/book/index.html"
      ]
    },
    {
      "cell_type": "markdown",
      "metadata": {
        "id": "NfI_Y6uw54N9"
      },
      "source": [
        "# Rust のインストール\n",
        "\n",
        "\n",
        "\n"
      ]
    },
    {
      "cell_type": "code",
      "metadata": {
        "id": "NqpdnM0vvX1F"
      },
      "source": [
        "# Rust をインストールする。\n",
        "%%capture\n",
        "!apt install rustc --fix-missing"
      ],
      "execution_count": null,
      "outputs": []
    },
    {
      "cell_type": "markdown",
      "metadata": {
        "id": "sNt9JTL5fJo0"
      },
      "source": [
        "通常の curl を使ったインストールは使えない。"
      ]
    },
    {
      "cell_type": "code",
      "metadata": {
        "id": "dLELZiZQ1HyM"
      },
      "source": [
        "# 参考\n",
        "\n",
        "# !curl https://sh.rustup.rs -sSf | sh\n",
        "#=> sh: 121: cannot open /dev/tty: No such device or address"
      ],
      "execution_count": null,
      "outputs": []
    },
    {
      "cell_type": "code",
      "metadata": {
        "id": "D0LUqMYq8kv8",
        "colab": {
          "base_uri": "https://localhost:8080/"
        },
        "outputId": "dbd9bf69-0900-427c-adbf-81324643b6ea"
      },
      "source": [
        "# インストールの確認\n",
        "!rustc --version"
      ],
      "execution_count": null,
      "outputs": [
        {
          "output_type": "stream",
          "text": [
            "/bin/bash: rustc: command not found\n"
          ],
          "name": "stdout"
        }
      ]
    },
    {
      "cell_type": "code",
      "metadata": {
        "id": "kQLzTzRCfh5S",
        "colab": {
          "base_uri": "https://localhost:8080/"
        },
        "outputId": "dad0efdb-6e21-4536-d970-f2e6f6cf0533"
      },
      "source": [
        "# 環境をつくるコマンドの cargo も入っている\n",
        "!cargo --version"
      ],
      "execution_count": null,
      "outputs": [
        {
          "output_type": "stream",
          "text": [
            "/bin/bash: cargo: command not found\n"
          ],
          "name": "stdout"
        }
      ]
    },
    {
      "cell_type": "code",
      "metadata": {
        "id": "0YSWbhrFfyR6",
        "colab": {
          "base_uri": "https://localhost:8080/"
        },
        "outputId": "16601bc4-fe5b-4c9c-b272-9645fa237817"
      },
      "source": [
        "%env USER=root\n",
        "!cargo init"
      ],
      "execution_count": null,
      "outputs": [
        {
          "output_type": "stream",
          "text": [
            "env: USER=root\n",
            "\u001b[0m\u001b[0m\u001b[1m\u001b[32m     Created\u001b[0m binary (application) package\n"
          ],
          "name": "stdout"
        }
      ]
    },
    {
      "cell_type": "markdown",
      "metadata": {
        "id": "a-dvtcLp-cCJ"
      },
      "source": [
        "以上で、ここでmain.rsをビルドして、コンパイルすることができるようになる。"
      ]
    },
    {
      "cell_type": "code",
      "metadata": {
        "id": "L7OQbOxm9KcA",
        "colab": {
          "base_uri": "https://localhost:8080/"
        },
        "outputId": "9ea29481-a5bc-4c31-c09d-bb8c4db5823d"
      },
      "source": [
        "# プログラムを書く\n",
        "%%writefile main.rs\n",
        "fn main() {\n",
        "    println!(\"Hello, world!\");\n",
        "}"
      ],
      "execution_count": null,
      "outputs": [
        {
          "output_type": "stream",
          "text": [
            "Overwriting main.rs\n"
          ],
          "name": "stdout"
        }
      ]
    },
    {
      "cell_type": "code",
      "metadata": {
        "id": "cp18zfSS9RtH",
        "colab": {
          "base_uri": "https://localhost:8080/"
        },
        "outputId": "3b50a14e-ad7e-4587-e8e9-3758a2cad8c8"
      },
      "source": [
        "# コンパイル\n",
        "!cargo build"
      ],
      "execution_count": null,
      "outputs": [
        {
          "output_type": "stream",
          "text": [
            "\u001b[0m\u001b[0m\u001b[1m\u001b[32m   Compiling\u001b[0m content v0.1.0 (/content)\n",
            "\u001b[0m\u001b[0m\u001b[1m\u001b[32m    Finished\u001b[0m dev [unoptimized + debuginfo] target(s) in 0.40s\n"
          ],
          "name": "stdout"
        }
      ]
    },
    {
      "cell_type": "code",
      "metadata": {
        "id": "tGBqfm82pCBI",
        "colab": {
          "base_uri": "https://localhost:8080/"
        },
        "outputId": "fc46b187-741b-4e85-877d-67543daf6022"
      },
      "source": [
        "# コンパイルして実行\n",
        "!cargo run "
      ],
      "execution_count": null,
      "outputs": [
        {
          "output_type": "stream",
          "text": [
            "\u001b[0m\u001b[0m\u001b[1m\u001b[32m   Compiling\u001b[0m content v0.1.0 (/content)\n",
            "\u001b[0m\u001b[1m\u001b[38;5;9merror[E0423]\u001b[0m\u001b[0m\u001b[1m: expected function, found macro `println`\u001b[0m\n",
            "\u001b[0m \u001b[0m\u001b[0m\u001b[1m\u001b[38;5;12m--> \u001b[0m\u001b[0mmain.rs:2:5\u001b[0m\n",
            "\u001b[0m  \u001b[0m\u001b[0m\u001b[1m\u001b[38;5;12m|\u001b[0m\n",
            "\u001b[0m\u001b[1m\u001b[38;5;12m2\u001b[0m\u001b[0m \u001b[0m\u001b[0m\u001b[1m\u001b[38;5;12m| \u001b[0m\u001b[0m    println(\"Hello, world!\");\u001b[0m\n",
            "\u001b[0m  \u001b[0m\u001b[0m\u001b[1m\u001b[38;5;12m| \u001b[0m\u001b[0m    \u001b[0m\u001b[0m\u001b[1m\u001b[38;5;9m^^^^^^^\u001b[0m\u001b[0m \u001b[0m\u001b[0m\u001b[1m\u001b[38;5;9mhelp: use `!` to invoke the macro: `println!`\u001b[0m\n",
            "\n",
            "\u001b[0m\u001b[1m\u001b[38;5;9merror\u001b[0m\u001b[0m\u001b[1m: aborting due to previous error\u001b[0m\n",
            "\n",
            "\u001b[0m\u001b[1mFor more information about this error, try `rustc --explain E0423`.\u001b[0m\n",
            "\u001b[0m\u001b[0m\u001b[1m\u001b[31merror\u001b[0m\u001b[1m:\u001b[0m could not compile `content`.\n",
            "\n",
            "To learn more, run the command again with --verbose.\n"
          ],
          "name": "stdout"
        }
      ]
    },
    {
      "cell_type": "markdown",
      "metadata": {
        "id": "pAqxIySQ7GiU"
      },
      "source": [
        "# テュートリアルより\n",
        "\n"
      ]
    },
    {
      "cell_type": "markdown",
      "metadata": {
        "id": "dmFCq2UVXoUT"
      },
      "source": [
        "以上で Colab で Rust チュートリアルのノートをとる準備が整ったが、チュートリアル自体は Colab 用ではないので次のような記述になっている。\n",
        "\n",
        "まず、`cargo new grrs` (grrsは今回作るプログラム名)、でディレクトリーを作る。 grrs の中にいろいろなファイルができる。 なかでも `Cargo.toml` にプロジェクトのメタデータが書かれていて、使われるライブラリーの依存、バージョンコントロールが行われる。 cargo run すると、main.rs がコンパイルされ、実行される。"
      ]
    },
    {
      "cell_type": "code",
      "metadata": {
        "id": "9v57SjiPXoUV"
      },
      "source": [
        "# ざっと次のような流れになる\n",
        "%%script false\n",
        "$ cargo new grrs\n",
        "     Created binary (application) `grrs` package\n",
        "$ cd grrs/\n",
        "$ cargo run\n",
        "   Compiling grrs v0.1.0 (/Users/pascal/code/grrs)\n",
        "    Finished dev [unoptimized + debuginfo] target(s) in 0.70s\n",
        "     Running `target/debug/grrs`\n",
        "Hello, world!"
      ],
      "execution_count": null,
      "outputs": []
    },
    {
      "cell_type": "markdown",
      "metadata": {
        "id": "lvQ7KiHbK_Ym"
      },
      "source": [
        "セルマジックの %%script false が書かれるとそれ以降の行は実行されない。\n",
        "\n",
        "全体をコメントアウトしたような使い方ができる。"
      ]
    },
    {
      "cell_type": "markdown",
      "metadata": {
        "id": "3NKM9fmfePp_"
      },
      "source": [
        "## 最初の課題"
      ]
    },
    {
      "cell_type": "code",
      "metadata": {
        "id": "wmYAtznw7WSe"
      },
      "source": [
        "# テュートリアルより最初の課題\n",
        "# 次のような動作をするgrepもどき(grrs)をつくる。\n",
        "\n",
        "# $ cat test.txt\n",
        "# foo: 10\n",
        "# bar: 20\n",
        "# baz: 30\n",
        "# $ grrs foo test.txt\n",
        "# foo: 10\n",
        "# $ grrs --help\n",
        "# [some help text explaining the available options]\n"
      ],
      "execution_count": null,
      "outputs": []
    },
    {
      "cell_type": "markdown",
      "metadata": {
        "id": "JkdUpNY5eyL2"
      },
      "source": [
        "## コマンドラインをパースする"
      ]
    },
    {
      "cell_type": "markdown",
      "metadata": {
        "id": "1FtmH8ONe6R_"
      },
      "source": [
        "典型的なコマンドラインツールはつぎのような形になる。\n"
      ]
    },
    {
      "cell_type": "code",
      "metadata": {
        "id": "mSUwDZAFfr6U"
      },
      "source": [
        "%%script false\n",
        "$ grrs foobar test.txt"
      ],
      "execution_count": null,
      "outputs": []
    },
    {
      "cell_type": "markdown",
      "metadata": {
        "id": "7wNDMxo6fq2A"
      },
      "source": [
        "この例では、grrs というプログラムで、test.txt の中の foobar という文字列を含む行をプリントアウトすることを想定している。\n",
        "\n",
        "プログラム名のあとの文字列はオペレーティングシステムの内部的には大雑把にいうとスペースで区切られている文字列のリストとして処理されている。\n",
        "\n",
        "コマンドライン引数と呼ばれる。 --this というような書き方でフラグをしていするのにも使われる。\n",
        "\n",
        "\n"
      ]
    },
    {
      "cell_type": "markdown",
      "metadata": {
        "id": "ziPrCPABhG9m"
      },
      "source": [
        "## コマンドライン引数の取得\n",
        "\n",
        "標準ライブラリーに関数 \n",
        "std::env::args() \n",
        "があり、戻り値はイテレーターで index 0 にはプログラム自身、今回の例では grrs が入っている。 \n",
        "\n",
        "引数を含めた全体はつぎのようなプログラムで取得する。\n",
        "\n",
        "\n"
      ]
    },
    {
      "cell_type": "code",
      "metadata": {
        "id": "hXS_sifRfFq2"
      },
      "source": [
        "%%script false\n",
        "fn main() {\n",
        "    let pattern = std::env::args().nth(1).expect(\"no pattern given\");\n",
        "    let path = std::env::args().nth(2).expect(\"no path given\");\n",
        "}"
      ],
      "execution_count": null,
      "outputs": []
    },
    {
      "cell_type": "markdown",
      "metadata": {
        "id": "vxqq96eehPdk"
      },
      "source": [
        "Rust ではデータを中心にプログラムを組み立てるのが通例である。 それにしたがって、次のように書く。"
      ]
    },
    {
      "cell_type": "code",
      "metadata": {
        "id": "9s64k-2BhiFB"
      },
      "source": [
        "%%script false\n",
        "\n",
        "struct Cli {\n",
        "    pattern: String,\n",
        "    path: std::path::PathBuf,\n",
        "}\n",
        "\n",
        "fn main (){\n",
        "    let pattern = std::env::args().nth(1).expect(\"no pattern given\");\n",
        "    let path = std::env::args().nth(2).expect(\"no path given\");\n",
        "\n",
        "    let args = Cli {\n",
        "        pattern: pattern,\n",
        "        path: std::path::PathBuf::from(path),\n",
        "};"
      ],
      "execution_count": null,
      "outputs": []
    },
    {
      "cell_type": "markdown",
      "metadata": {
        "id": "8jSf-sq0fZP4"
      },
      "source": [
        "\n",
        "\n",
        "let pattern = std::env::args().nth(1).expect(\"no pattern given\");\n",
        "let path = std::env::args().nth(2).expect(\"no path given\");\n",
        "let args = Cli {\n",
        "    pattern: pattern,\n",
        "    path: std::path::PathBuf::from(path),\n",
        "};\n",
        "This works, but it’s not very convenient. How would you deal with the requirement to support --pattern=\"foo\" or --pattern \"foo\"? How would you implement --help?\n"
      ]
    },
    {
      "cell_type": "markdown",
      "metadata": {
        "id": "oVVSCi_Kib1O"
      },
      "source": [
        "## StructOpt によるコマンドライン引数の取得\n",
        "\n",
        "上のプログラムでもコマンドライン引数は取得できるのだが、あまり便利ではない。 フラグやオプション、ヘルプを付け加えたいというときにどうするか。 ライブラリーを使うのが便利で、コマンドライン引数をパースするのによく使われるのは clap というライブラリーである。\n",
        "\n",
        "今回使う structopt ライブラリーも clap をベースにしていて、struct の定義に使える。\n",
        "\n",
        "ライブラリーを import するには、Cargo.toml の [dependencies] セクションに\n",
        "```\n",
        "structopt = \"0.3.13\"\n",
        "```\n",
        "を加える。"
      ]
    },
    {
      "cell_type": "code",
      "metadata": {
        "id": "qhstw79skbCE",
        "colab": {
          "base_uri": "https://localhost:8080/"
        },
        "outputId": "185fa0ab-b1b6-46c7-c157-a363685a4306"
      },
      "source": [
        "%%writefile Cargo.toml\n",
        "[package]\n",
        "name = \"content\"\n",
        "version = \"0.1.0\"\n",
        "authors = [\"root\"]\n",
        "edition = \"2018\"\n",
        "\n",
        "# See more keys and their definitions at https://doc.rust-lang.org/cargo/reference/manifest.html\n",
        "\n",
        "[dependencies]\n",
        "structopt = \"0.3.13\"\n",
        "\n",
        "[[bin]]\n",
        "name = \"content\"\n",
        "path = \"main.rs\""
      ],
      "execution_count": null,
      "outputs": [
        {
          "output_type": "stream",
          "text": [
            "Overwriting Cargo.toml\n"
          ],
          "name": "stdout"
        }
      ]
    },
    {
      "cell_type": "markdown",
      "metadata": {
        "id": "fLzLxnIQkRoL"
      },
      "source": [
        "これで次のようにプログラムで StructOpt が使える。\n",
        "\n",
        "ついでにドキュメントも加えよう。\n",
        "\n"
      ]
    },
    {
      "cell_type": "code",
      "metadata": {
        "id": "pEC2Fo6Ek5_E",
        "colab": {
          "base_uri": "https://localhost:8080/"
        },
        "outputId": "e6c9d86e-9cba-4122-c9ad-ab629f8ab712"
      },
      "source": [
        "%%writefile main.rs\n",
        "use structopt::StructOpt;\n",
        "\n",
        "/// Search for a pattern in a file and display the lines that contain it.\n",
        "#[derive(StructOpt)]\n",
        "struct Cli {\n",
        "    /// The pattern to look for\n",
        "    pattern: String,\n",
        "    /// The path to the file to read\n",
        "    #[structopt(parse(from_os_str))]\n",
        "    path: std::path::PathBuf,\n",
        "}\n",
        "\n",
        "fn main (){\n",
        "    let args = Cli::from_args();\n",
        "}"
      ],
      "execution_count": null,
      "outputs": [
        {
          "output_type": "stream",
          "text": [
            "Overwriting main.rs\n"
          ],
          "name": "stdout"
        }
      ]
    },
    {
      "cell_type": "markdown",
      "metadata": {
        "id": "o67o2iRFfSX6"
      },
      "source": [
        "Clap は各フィールドに入るべき値を管理していて、\n",
        "\n",
        "```    \n",
        "let args = Cli::from_args();\n",
        "\n",
        "```\n",
        "が失敗すると、ヘルプメッセージを出して、終了する。\n",
        "\n"
      ]
    },
    {
      "cell_type": "code",
      "metadata": {
        "id": "IEzoM6mr70iI"
      },
      "source": [
        "# あるべき引数なしに実行するとつぎのようになる\n",
        "%%script false\n",
        "$ cargo run\n",
        "    Finished dev [unoptimized + debuginfo] target(s) in 10.16s\n",
        "     Running `target/debug/grrs`\n",
        "error: The following required arguments were not provided:\n",
        "    <pattern>\n",
        "    <path>\n",
        "\n",
        "USAGE:\n",
        "    grrs <pattern> <path>\n",
        "\n",
        "For more information try --help"
      ],
      "execution_count": null,
      "outputs": []
    },
    {
      "cell_type": "code",
      "metadata": {
        "id": "idIX0qJV8It5"
      },
      "source": [
        "# cargo run に引数を付けて実行したい時は -- のあとに書く\n",
        "\n",
        "%%script false\n",
        "\n",
        "$ cargo run -- some-pattern some-file\n",
        "    Finished dev [unoptimized + debuginfo] target(s) in 0.11s\n",
        "     Running `target/debug/grrs some-pattern some-file`"
      ],
      "execution_count": null,
      "outputs": []
    },
    {
      "cell_type": "markdown",
      "metadata": {
        "id": "8cQuJM9m8u4T"
      },
      "source": [
        "実験: やってみよう。"
      ]
    },
    {
      "cell_type": "code",
      "metadata": {
        "id": "gkmqD2iW8sDM",
        "colab": {
          "base_uri": "https://localhost:8080/"
        },
        "outputId": "d61d2284-fc22-4035-9ed9-52a62c7eb8b2"
      },
      "source": [
        "# 実験: やってみる\n",
        "!cargo run"
      ],
      "execution_count": null,
      "outputs": [
        {
          "output_type": "stream",
          "text": [
            "\u001b[0m\u001b[0m\u001b[1m\u001b[32m   Compiling\u001b[0m content v0.1.0 (/content)\n",
            "\u001b[0m\u001b[1m\u001b[33mwarning\u001b[0m\u001b[0m\u001b[1m: unused variable: `args`\u001b[0m\n",
            "\u001b[0m  \u001b[0m\u001b[0m\u001b[1m\u001b[38;5;12m--> \u001b[0m\u001b[0mmain.rs:14:9\u001b[0m\n",
            "\u001b[0m   \u001b[0m\u001b[0m\u001b[1m\u001b[38;5;12m|\u001b[0m\n",
            "\u001b[0m\u001b[1m\u001b[38;5;12m14\u001b[0m\u001b[0m \u001b[0m\u001b[0m\u001b[1m\u001b[38;5;12m| \u001b[0m\u001b[0m    let args = Cli::from_args();\u001b[0m\n",
            "\u001b[0m   \u001b[0m\u001b[0m\u001b[1m\u001b[38;5;12m| \u001b[0m\u001b[0m        \u001b[0m\u001b[0m\u001b[1m\u001b[33m^^^^\u001b[0m\u001b[0m \u001b[0m\u001b[0m\u001b[1m\u001b[33mhelp: consider prefixing with an underscore: `_args`\u001b[0m\n",
            "\u001b[0m   \u001b[0m\u001b[0m\u001b[1m\u001b[38;5;12m|\u001b[0m\n",
            "\u001b[0m   \u001b[0m\u001b[0m\u001b[1m\u001b[38;5;12m= \u001b[0m\u001b[0m\u001b[1mnote\u001b[0m\u001b[0m: `#[warn(unused_variables)]` on by default\u001b[0m\n",
            "\n",
            "\u001b[0m\u001b[1m\u001b[33mwarning\u001b[0m\u001b[0m\u001b[1m: field is never read: `pattern`\u001b[0m\n",
            "\u001b[0m \u001b[0m\u001b[0m\u001b[1m\u001b[38;5;12m--> \u001b[0m\u001b[0mmain.rs:7:5\u001b[0m\n",
            "\u001b[0m  \u001b[0m\u001b[0m\u001b[1m\u001b[38;5;12m|\u001b[0m\n",
            "\u001b[0m\u001b[1m\u001b[38;5;12m7\u001b[0m\u001b[0m \u001b[0m\u001b[0m\u001b[1m\u001b[38;5;12m| \u001b[0m\u001b[0m    pattern: String,\u001b[0m\n",
            "\u001b[0m  \u001b[0m\u001b[0m\u001b[1m\u001b[38;5;12m| \u001b[0m\u001b[0m    \u001b[0m\u001b[0m\u001b[1m\u001b[33m^^^^^^^^^^^^^^^\u001b[0m\n",
            "\u001b[0m  \u001b[0m\u001b[0m\u001b[1m\u001b[38;5;12m|\u001b[0m\n",
            "\u001b[0m  \u001b[0m\u001b[0m\u001b[1m\u001b[38;5;12m= \u001b[0m\u001b[0m\u001b[1mnote\u001b[0m\u001b[0m: `#[warn(dead_code)]` on by default\u001b[0m\n",
            "\n",
            "\u001b[0m\u001b[1m\u001b[33mwarning\u001b[0m\u001b[0m\u001b[1m: field is never read: `path`\u001b[0m\n",
            "\u001b[0m  \u001b[0m\u001b[0m\u001b[1m\u001b[38;5;12m--> \u001b[0m\u001b[0mmain.rs:10:5\u001b[0m\n",
            "\u001b[0m   \u001b[0m\u001b[0m\u001b[1m\u001b[38;5;12m|\u001b[0m\n",
            "\u001b[0m\u001b[1m\u001b[38;5;12m10\u001b[0m\u001b[0m \u001b[0m\u001b[0m\u001b[1m\u001b[38;5;12m| \u001b[0m\u001b[0m    path: std::path::PathBuf,\u001b[0m\n",
            "\u001b[0m   \u001b[0m\u001b[0m\u001b[1m\u001b[38;5;12m| \u001b[0m\u001b[0m    \u001b[0m\u001b[0m\u001b[1m\u001b[33m^^^^^^^^^^^^^^^^^^^^^^^^\u001b[0m\n",
            "\n",
            "\u001b[0m\u001b[0m\u001b[1m\u001b[32m    Finished\u001b[0m dev [unoptimized + debuginfo] target(s) in 0.99s\n",
            "\u001b[0m\u001b[0m\u001b[1m\u001b[32m     Running\u001b[0m `target/debug/content`\n",
            "\u001b[1;31merror:\u001b[0m The following required arguments were not provided:\n",
            "    \u001b[1;31m<pattern>\u001b[0m\n",
            "    \u001b[1;31m<path>\u001b[0m\n",
            "\n",
            "USAGE:\n",
            "    content <pattern> <path>\n",
            "\n",
            "For more information try \u001b[32m--help\u001b[0m\n"
          ],
          "name": "stdout"
        }
      ]
    },
    {
      "cell_type": "code",
      "metadata": {
        "id": "hJnqDaWY-ZEz",
        "colab": {
          "base_uri": "https://localhost:8080/"
        },
        "outputId": "a112b63c-cc2b-4674-cefd-9d8092218dbe"
      },
      "source": [
        "# 実験 引数を付けてみる\n",
        "!cargo run -- some-pattern some-file"
      ],
      "execution_count": null,
      "outputs": [
        {
          "output_type": "stream",
          "text": [
            "\u001b[0m\u001b[1m\u001b[33mwarning\u001b[0m\u001b[0m\u001b[1m: unused variable: `args`\u001b[0m\n",
            "\u001b[0m  \u001b[0m\u001b[0m\u001b[1m\u001b[38;5;12m--> \u001b[0m\u001b[0mmain.rs:14:9\u001b[0m\n",
            "\u001b[0m   \u001b[0m\u001b[0m\u001b[1m\u001b[38;5;12m|\u001b[0m\n",
            "\u001b[0m\u001b[1m\u001b[38;5;12m14\u001b[0m\u001b[0m \u001b[0m\u001b[0m\u001b[1m\u001b[38;5;12m| \u001b[0m\u001b[0m    let args = Cli::from_args();\u001b[0m\n",
            "\u001b[0m   \u001b[0m\u001b[0m\u001b[1m\u001b[38;5;12m| \u001b[0m\u001b[0m        \u001b[0m\u001b[0m\u001b[1m\u001b[33m^^^^\u001b[0m\u001b[0m \u001b[0m\u001b[0m\u001b[1m\u001b[33mhelp: consider prefixing with an underscore: `_args`\u001b[0m\n",
            "\u001b[0m   \u001b[0m\u001b[0m\u001b[1m\u001b[38;5;12m|\u001b[0m\n",
            "\u001b[0m   \u001b[0m\u001b[0m\u001b[1m\u001b[38;5;12m= \u001b[0m\u001b[0m\u001b[1mnote\u001b[0m\u001b[0m: `#[warn(unused_variables)]` on by default\u001b[0m\n",
            "\n",
            "\u001b[0m\u001b[1m\u001b[33mwarning\u001b[0m\u001b[0m\u001b[1m: field is never read: `pattern`\u001b[0m\n",
            "\u001b[0m \u001b[0m\u001b[0m\u001b[1m\u001b[38;5;12m--> \u001b[0m\u001b[0mmain.rs:7:5\u001b[0m\n",
            "\u001b[0m  \u001b[0m\u001b[0m\u001b[1m\u001b[38;5;12m|\u001b[0m\n",
            "\u001b[0m\u001b[1m\u001b[38;5;12m7\u001b[0m\u001b[0m \u001b[0m\u001b[0m\u001b[1m\u001b[38;5;12m| \u001b[0m\u001b[0m    pattern: String,\u001b[0m\n",
            "\u001b[0m  \u001b[0m\u001b[0m\u001b[1m\u001b[38;5;12m| \u001b[0m\u001b[0m    \u001b[0m\u001b[0m\u001b[1m\u001b[33m^^^^^^^^^^^^^^^\u001b[0m\n",
            "\u001b[0m  \u001b[0m\u001b[0m\u001b[1m\u001b[38;5;12m|\u001b[0m\n",
            "\u001b[0m  \u001b[0m\u001b[0m\u001b[1m\u001b[38;5;12m= \u001b[0m\u001b[0m\u001b[1mnote\u001b[0m\u001b[0m: `#[warn(dead_code)]` on by default\u001b[0m\n",
            "\n",
            "\u001b[0m\u001b[1m\u001b[33mwarning\u001b[0m\u001b[0m\u001b[1m: field is never read: `path`\u001b[0m\n",
            "\u001b[0m  \u001b[0m\u001b[0m\u001b[1m\u001b[38;5;12m--> \u001b[0m\u001b[0mmain.rs:10:5\u001b[0m\n",
            "\u001b[0m   \u001b[0m\u001b[0m\u001b[1m\u001b[38;5;12m|\u001b[0m\n",
            "\u001b[0m\u001b[1m\u001b[38;5;12m10\u001b[0m\u001b[0m \u001b[0m\u001b[0m\u001b[1m\u001b[38;5;12m| \u001b[0m\u001b[0m    path: std::path::PathBuf,\u001b[0m\n",
            "\u001b[0m   \u001b[0m\u001b[0m\u001b[1m\u001b[38;5;12m| \u001b[0m\u001b[0m    \u001b[0m\u001b[0m\u001b[1m\u001b[33m^^^^^^^^^^^^^^^^^^^^^^^^\u001b[0m\n",
            "\n",
            "\u001b[0m\u001b[0m\u001b[1m\u001b[32m    Finished\u001b[0m dev [unoptimized + debuginfo] target(s) in 0.02s\n",
            "\u001b[0m\u001b[0m\u001b[1m\u001b[32m     Running\u001b[0m `target/debug/content some-pattern some-file`\n"
          ],
          "name": "stdout"
        }
      ]
    },
    {
      "cell_type": "markdown",
      "metadata": {
        "id": "Hu0q87js-gtS"
      },
      "source": [
        "## 課題 pattern と path を出力する"
      ]
    },
    {
      "cell_type": "code",
      "metadata": {
        "id": "jc4q-SUs-orc",
        "colab": {
          "base_uri": "https://localhost:8080/"
        },
        "outputId": "b05f4cbb-18e5-4dfa-fed9-5aa60f1a06e5"
      },
      "source": [
        "%%writefile main.rs\n",
        "use structopt::StructOpt;\n",
        "\n",
        "/// Search for a pattern in a file and display the lines that contain it.\n",
        "#[derive(StructOpt)]\n",
        "struct Cli {\n",
        "    /// The pattern to look for\n",
        "    pattern: String,\n",
        "    /// The path to the file to read\n",
        "    #[structopt(parse(from_os_str))]\n",
        "    path: std::path::PathBuf,\n",
        "}\n",
        "\n",
        "fn main (){\n",
        "    let args = Cli::from_args();\n",
        "    println!(\"{} => {:?}\", args.pattern, args.path)\n",
        "}"
      ],
      "execution_count": null,
      "outputs": [
        {
          "output_type": "stream",
          "text": [
            "Overwriting main.rs\n"
          ],
          "name": "stdout"
        }
      ]
    },
    {
      "cell_type": "code",
      "metadata": {
        "id": "qUBKP7b6-5k8",
        "colab": {
          "base_uri": "https://localhost:8080/"
        },
        "outputId": "98a7c307-8626-47bb-8e1d-7fe6a8d1a34e"
      },
      "source": [
        "# 実験\n",
        "!cargo run -- some-pattern some-file"
      ],
      "execution_count": null,
      "outputs": [
        {
          "output_type": "stream",
          "text": [
            "\u001b[0m\u001b[0m\u001b[1m\u001b[32m   Compiling\u001b[0m content v0.1.0 (/content)\n",
            "\u001b[0m\u001b[0m\u001b[1m\u001b[32m    Finished\u001b[0m dev [unoptimized + debuginfo] target(s) in 1.04s\n",
            "\u001b[0m\u001b[0m\u001b[1m\u001b[32m     Running\u001b[0m `target/debug/content some-pattern some-file`\n",
            "some-pattern => \"some-file\"\n"
          ],
          "name": "stdout"
        }
      ]
    },
    {
      "cell_type": "markdown",
      "metadata": {
        "id": "csKdiYcwXwQa"
      },
      "source": [
        "## grrs の最初の実装\n"
      ]
    },
    {
      "cell_type": "code",
      "metadata": {
        "id": "EsQX3x9hBWjQ",
        "colab": {
          "base_uri": "https://localhost:8080/"
        },
        "outputId": "8f6ba309-408b-4b7c-ac2c-13aaee999023"
      },
      "source": [
        "%%writefile main.rs\n",
        "use structopt::StructOpt;\n",
        "\n",
        "/// Search for a pattern in a file and display the lines that contain it.\n",
        "#[derive(StructOpt)]\n",
        "struct Cli {\n",
        "    /// The pattern to look for\n",
        "    pattern: String,\n",
        "    /// The path to the file to read\n",
        "    #[structopt(parse(from_os_str))]\n",
        "    path: std::path::PathBuf,\n",
        "}\n",
        "\n",
        "fn main (){\n",
        "    let args = Cli::from_args();\n",
        "    let content = std::fs::read_to_string(&args.path).expect(\"could not read file\");\n",
        "\n",
        "    for line in content.lines() {\n",
        "        if line.contains(&args.pattern) {\n",
        "            println!(\"{}\", line);\n",
        "        }\n",
        "    }\n",
        "}"
      ],
      "execution_count": null,
      "outputs": [
        {
          "output_type": "stream",
          "text": [
            "Overwriting main.rs\n"
          ],
          "name": "stdout"
        }
      ]
    },
    {
      "cell_type": "code",
      "metadata": {
        "id": "NxvWCszDB7F0",
        "colab": {
          "base_uri": "https://localhost:8080/"
        },
        "outputId": "feaf6093-a70c-4c8a-ba92-79bc138302d7"
      },
      "source": [
        "!cargo run -- main main.rs"
      ],
      "execution_count": null,
      "outputs": [
        {
          "output_type": "stream",
          "text": [
            "\u001b[0m\u001b[0m\u001b[1m\u001b[32m    Finished\u001b[0m dev [unoptimized + debuginfo] target(s) in 0.02s\n",
            "\u001b[0m\u001b[0m\u001b[1m\u001b[32m     Running\u001b[0m `target/debug/content main main.rs`\n",
            "fn main (){\n"
          ],
          "name": "stdout"
        }
      ]
    },
    {
      "cell_type": "markdown",
      "metadata": {
        "id": "zrr7ddNsCkDz"
      },
      "source": [
        "上の実行結果が、\n",
        "```\n",
        "fn main (){\n",
        "```\n",
        "であれば成功!!!!"
      ]
    },
    {
      "cell_type": "code",
      "metadata": {
        "id": "UfC_2OAmCRpR",
        "colab": {
          "base_uri": "https://localhost:8080/"
        },
        "outputId": "8af13918-3565-431e-be07-68aeec2e6cd2"
      },
      "source": [
        "# 実験\n",
        "!cargo run -- path main.rs"
      ],
      "execution_count": null,
      "outputs": [
        {
          "output_type": "stream",
          "text": [
            "\u001b[0m\u001b[0m\u001b[1m\u001b[32m    Finished\u001b[0m dev [unoptimized + debuginfo] target(s) in 0.02s\n",
            "\u001b[0m\u001b[0m\u001b[1m\u001b[32m     Running\u001b[0m `target/debug/content path main.rs`\n",
            "    /// The path to the file to read\n",
            "    path: std::path::PathBuf,\n",
            "    let content = std::fs::read_to_string(&args.path).expect(\"could not read file\");\n"
          ],
          "name": "stdout"
        }
      ]
    },
    {
      "cell_type": "markdown",
      "metadata": {
        "id": "63Av9BqCBMsd"
      },
      "source": [
        "## 課題 ファイルを一度に全部読み込まない方法\n",
        "\n",
        "巨大なファイルだった場合、\n",
        "```\n",
        "let content = std::fs::read_to_string(&args.path).expect(\"could not read file\");\n",
        "```\n",
        "`read_to_string()`の代わりに`BufReader`を使う方法がある。\n",
        "\n"
      ]
    },
    {
      "cell_type": "markdown",
      "metadata": {
        "id": "UaLYb7AKDpFq"
      },
      "source": [
        "## エラー出力の改善\n"
      ]
    },
    {
      "cell_type": "markdown",
      "metadata": {
        "id": "JCSf91rjRtsd"
      },
      "source": [
        "\n",
        "## Results\n",
        "\n",
        "関数 read_to_string のような関数は戻り値は文字列ではなく、文字列かもしくはなんらかのエラーという Result というタイプの戻り値になる。 エラーは今回の場合は std::io::Error になる。 Result は列挙型 enum なので、結果は match が使える。\n",
        "\n"
      ]
    },
    {
      "cell_type": "code",
      "metadata": {
        "id": "LGoxFeb-fNrp"
      },
      "source": [
        "%%script false\n",
        "let result = std::fs::read_to_string(\"test.txt\");\n",
        "match result {\n",
        "    Ok(content) => { println!(\"File content: {}\", content); }\n",
        "    Err(error) => { println!(\"Oh noes: {}\", error); }\n",
        "}"
      ],
      "execution_count": null,
      "outputs": []
    },
    {
      "cell_type": "markdown",
      "metadata": {
        "id": "81ajupF3RlEn"
      },
      "source": [
        "## アンラッピング\n",
        "\n",
        "match によって得られた文字列 content は次のような方法で変数に格納できる。\n"
      ]
    },
    {
      "cell_type": "code",
      "metadata": {
        "id": "Y0wR8GcpgJUz"
      },
      "source": [
        "%%script false\n",
        "let result = std::fs::read_to_string(\"test.txt\");\n",
        "let content = match result {\n",
        "    Ok(content) => { content },\n",
        "    Err(error) => { panic!(\"Can't deal with {}, just exit here\", error); }\n",
        "};\n",
        "println!(\"file content: {}\", content);"
      ],
      "execution_count": null,
      "outputs": []
    },
    {
      "cell_type": "markdown",
      "metadata": {
        "id": "ESzQoUqwgQsA"
      },
      "source": [
        "# いまここ"
      ]
    },
    {
      "cell_type": "markdown",
      "metadata": {
        "id": "aA5oSCF7ReTK"
      },
      "source": [
        "\n",
        "We can use the String in content after the match block. If result were an error, the String wouldn’t exist. But since the program would exit before it ever reached a point where we use content, it’s fine.\n",
        "\n",
        "This may seem drastic, but it’s very convenient. If your program needs to read that file and can’t do anything if the file doesn’t exist, exiting is a valid strategy. There’s even a shortcut method on Results, called unwrap:\n",
        "\n"
      ]
    },
    {
      "cell_type": "markdown",
      "metadata": {
        "id": "OBeX9aPmRbGy"
      },
      "source": [
        "\n",
        "```\n",
        "let content = std::fs::read_to_string(\"test.txt\").unwrap();\n",
        "```\n"
      ]
    },
    {
      "cell_type": "markdown",
      "metadata": {
        "id": "LdkdXUAhRYxK"
      },
      "source": [
        "\n",
        "# No need to panic\n",
        "\n",
        "Of course, aborting the program is not the only way to deal with errors. Instead of the panic!, we can also easily write return:\n"
      ]
    },
    {
      "cell_type": "markdown",
      "metadata": {
        "id": "3SFZp11MRV6D"
      },
      "source": [
        "\n",
        "\n",
        "```\n",
        "let result = std::fs::read_to_string(\"test.txt\");\n",
        "let _content = match result {\n",
        "    Ok(content) => { content },\n",
        "    Err(error) => { return Err(error.into()); }\n",
        "};\n",
        "```\n"
      ]
    },
    {
      "cell_type": "markdown",
      "metadata": {
        "id": "mDKp5gdARSyU"
      },
      "source": [
        "\n",
        "This, however changes the return type our function needs. Indeed, there was something hidden in our examples all this time: The function signature this code lives in. And in this last example with return, it becomes important. Here’s the full example:\n"
      ]
    },
    {
      "cell_type": "markdown",
      "metadata": {
        "id": "peQbgvtCROc1"
      },
      "source": [
        "\n",
        "\n",
        "```\n",
        "fn main() -> Result<(), Box<dyn std::error::Error>> {\n",
        "    let result = std::fs::read_to_string(\"test.txt\");\n",
        "    let content = match result {\n",
        "        Ok(content) => { content },\n",
        "        Err(error) => { return Err(error.into()); }\n",
        "    };\n",
        "    println!(\"file content: {}\", content);\n",
        "    Ok(())\n",
        "}\n",
        "```\n"
      ]
    },
    {
      "cell_type": "markdown",
      "metadata": {
        "id": "DTjnLGezRKtn"
      },
      "source": [
        "\n",
        "Our return type is a Result! This is why we can write return Err(error); in the second match arm. See how there is an Ok(()) at the bottom? It’s the default return value of the function and means “Result is okay, and has no content”.\n",
        "\n",
        "Aside: Why is this not written as return Ok(());? It easily could be – this is totally valid as well. The last expression of any block in Rust is its return value, and it is customary to omit needless returns.\n"
      ]
    },
    {
      "cell_type": "markdown",
      "metadata": {
        "id": "1tgetGS2R77i"
      },
      "source": [
        "\n",
        "# Question Mark\n",
        "\n",
        "Just like calling .unwrap() is a shortcut for the match with panic! in the error arm, we have another shortcut for the match that returns in the error arm: ?.\n",
        "\n",
        "That’s right, a question mark. You can append this operator to a value of type Result, and Rust will internally expand this to something very similar to the match we just wrote.\n",
        "\n",
        "Give it a try:\n"
      ]
    },
    {
      "cell_type": "markdown",
      "metadata": {
        "id": "HmCqj-q7RHG_"
      },
      "source": [
        "\n",
        "```\n",
        "\n",
        "fn main() -> Result<(), Box<dyn std::error::Error>> {\n",
        "    let content = std::fs::read_to_string(\"test.txt\")?;\n",
        "    println!(\"file content: {}\", content);\n",
        "    Ok(())\n",
        "}\n",
        "```"
      ]
    },
    {
      "cell_type": "markdown",
      "metadata": {
        "id": "SGq8TQ5PRBwq"
      },
      "source": [
        "\n",
        "Very concise!\n",
        "\n",
        "Aside: There are a few more things happening here that are not required to understand to work with this. For example, the error type in our main function is Box<dyn std::error::Error>. But we’ve seen above that read_to_string returns a std::io::Error. This works because ? expands to code that converts error types.\n",
        "\n",
        "Box<dyn std::error::Error> is also an interesting type. It’s a Box that can contain any type that implements the standard Error trait. This means that basically all errors can be put into this box, so we can use ? on all of the usual functions that return Results.\n",
        "\n",
        "## Providing Context\n",
        "\n",
        "The errors you get when using ? in your main function are okay, but they are not great. For example: When you run std::fs::read_to_string(\"test.txt\")? but the file test.txt doesn’t exist, you get this output:\n",
        "\n",
        "\n",
        "Error: Os { code: 2, kind: NotFound, message: \"No such file or directory\" }\n",
        "In cases where your code doesn’t literally contain the file name, it would be very hard to tell which file was NotFound. There are multiple ways to deal with this.\n",
        "\n",
        "For example, we can create our own error type, and then use that to build a custom error message:\n"
      ]
    },
    {
      "cell_type": "markdown",
      "metadata": {
        "id": "s2r7nVsMQ9Gr"
      },
      "source": [
        "\n",
        "```\n",
        "#[derive(Debug)]\n",
        "struct CustomError(String);\n",
        "\n",
        "fn main() -> Result<(), CustomError> {\n",
        "    let path = \"test.txt\";\n",
        "    let content = std::fs::read_to_string(path)\n",
        "        .map_err(|err| CustomError(format!(\"Error reading `{}`: {}\", path, err)))?;\n",
        "    println!(\"file content: {}\", content);\n",
        "    Ok(())\n",
        "}\n",
        "\n",
        "```\n"
      ]
    },
    {
      "cell_type": "markdown",
      "metadata": {
        "id": "4znuIyFGQ6Dd"
      },
      "source": [
        "\n",
        "Now, running this we’ll get our custom error message:\n",
        "\n",
        "```\n",
        "Error: CustomError(\"Error reading `test.txt`: No such file or directory (os error 2)\")\n",
        "Not very pretty, but we can easily adapt the debug output for our type later on.\n",
        "```\n",
        "This pattern is in fact very common. It has one problem, though: We don’t store the original error, only its string representation. The often used anyhow library has a neat solution for that: Similar to our CustomError type, its Context trait can be used to add a description. Additionally, it also keeps the original error, so we get a “chain” of error messages pointing out the root cause.\n",
        "\n",
        "Let’s first import the anyhow crate by adding anyhow = \"1.0\" to the [dependencies] section of our Cargo.toml file.\n",
        "\n",
        "The full example will then look like this:\n"
      ]
    },
    {
      "cell_type": "markdown",
      "metadata": {
        "id": "tmJxuOX9QviS"
      },
      "source": [
        "\n",
        "```\n",
        "use anyhow::{Context, Result};\n",
        "\n",
        "fn main() -> Result<()> {\n",
        "    let path = \"test.txt\";\n",
        "    let content = std::fs::read_to_string(path)\n",
        "        .with_context(|| format!(\"could not read file `{}`\", path))?;\n",
        "    println!(\"file content: {}\", content);\n",
        "    Ok(())\n",
        "}\n",
        "This will print an error:\n",
        "\n",
        "\n",
        "Error: could not read file `test.txt`\n",
        "\n",
        "Caused by:\n",
        "    No such file or directory (os error 2)\n",
        "```"
      ]
    }
  ]
}