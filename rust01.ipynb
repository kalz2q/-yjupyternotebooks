{
  "nbformat": 4,
  "nbformat_minor": 0,
  "metadata": {
    "colab": {
      "name": "rust01.ipynb",
      "provenance": [],
      "toc_visible": true,
      "authorship_tag": "ABX9TyNiQCym2ZrsCuyyim/d3p6H",
      "include_colab_link": true
    },
    "kernelspec": {
      "name": "python3",
      "display_name": "Python 3"
    }
  },
  "cells": [
    {
      "cell_type": "markdown",
      "metadata": {
        "id": "view-in-github",
        "colab_type": "text"
      },
      "source": [
        "<a href=\"https://colab.research.google.com/github/kalz2q/mycolabnotebooks/blob/master/rust01.ipynb\" target=\"_parent\"><img src=\"https://colab.research.google.com/assets/colab-badge.svg\" alt=\"Open In Colab\"/></a>"
      ]
    },
    {
      "cell_type": "markdown",
      "metadata": {
        "id": "Z5PU-iNA6q3p"
      },
      "source": [
        "# メモ\n",
        "\n",
        "1. Colab で実行しながら読まれることを想定している。\n",
        "1. Rust の勉強\n",
        "1. 資料は本家のテュートリアル https://rust-cli.github.io/book/index.html"
      ]
    },
    {
      "cell_type": "markdown",
      "metadata": {
        "id": "NfI_Y6uw54N9"
      },
      "source": [
        "# Rust をインストールする"
      ]
    },
    {
      "cell_type": "code",
      "metadata": {
        "id": "NqpdnM0vvX1F"
      },
      "source": [
        "# Rust をインストールする\n",
        "# %%capture\n",
        "!apt install rustc --fix-missing"
      ],
      "execution_count": null,
      "outputs": []
    },
    {
      "cell_type": "code",
      "metadata": {
        "id": "dLELZiZQ1HyM",
        "outputId": "3bb014a3-f1c8-4f39-c3ed-4c7ed036da12",
        "colab": {
          "base_uri": "https://localhost:8080/"
        }
      },
      "source": [
        "# %env USER=root\n",
        "# !curl https://sh.rustup.rs -sSf | sh\n",
        "#=> sh: 121: cannot open /dev/tty: No such device or address"
      ],
      "execution_count": null,
      "outputs": [
        {
          "output_type": "stream",
          "text": [
            "env: USER=root\n",
            "\u001b[1minfo:\u001b[0m downloading installer\n",
            "sh: 121: cannot open /dev/tty: No such device or address\n"
          ],
          "name": "stdout"
        }
      ]
    },
    {
      "cell_type": "code",
      "metadata": {
        "id": "OHQmXpflpEDf"
      },
      "source": [
        "# !curl --proto '=https' --tlsv1.2 -sSf https://sh.rustup.rs "
      ],
      "execution_count": null,
      "outputs": []
    },
    {
      "cell_type": "code",
      "metadata": {
        "id": "D0LUqMYq8kv8",
        "outputId": "5b698624-9284-4574-be80-b18bc4e9d769",
        "colab": {
          "base_uri": "https://localhost:8080/"
        }
      },
      "source": [
        "# インストールの確認\n",
        "!rustc --version"
      ],
      "execution_count": null,
      "outputs": [
        {
          "output_type": "stream",
          "text": [
            "rustc 1.43.0\n"
          ],
          "name": "stdout"
        }
      ]
    },
    {
      "cell_type": "code",
      "metadata": {
        "id": "L7OQbOxm9KcA",
        "outputId": "fbb5070e-e7e2-4801-f16e-0210f608144b",
        "colab": {
          "base_uri": "https://localhost:8080/"
        }
      },
      "source": [
        "# プログラムを書く\n",
        "%%writefile main.rs\n",
        "fn main() {\n",
        "    println!(\"Hello, world!\");\n",
        "}"
      ],
      "execution_count": null,
      "outputs": [
        {
          "output_type": "stream",
          "text": [
            "Overwriting main.rs\n"
          ],
          "name": "stdout"
        }
      ]
    },
    {
      "cell_type": "code",
      "metadata": {
        "id": "cp18zfSS9RtH",
        "outputId": "9f762ef4-80bd-43e9-bead-def8d40dd86f",
        "colab": {
          "base_uri": "https://localhost:8080/"
        }
      },
      "source": [
        "# コンパイルして実行\n",
        "!rustc main.rs\n",
        "!./main"
      ],
      "execution_count": null,
      "outputs": [
        {
          "output_type": "stream",
          "text": [
            "Hello, world!\n"
          ],
          "name": "stdout"
        }
      ]
    },
    {
      "cell_type": "markdown",
      "metadata": {
        "id": "pAqxIySQ7GiU"
      },
      "source": [
        "# テュートリアルより\n",
        "\n"
      ]
    },
    {
      "cell_type": "code",
      "metadata": {
        "id": "wmYAtznw7WSe"
      },
      "source": [
        "# テュートリアルより最初の課題\n",
        "# 次のような動作をするgrrsをつくる。\n",
        "\n",
        "# $ cat test.txt\n",
        "# foo: 10\n",
        "# bar: 20\n",
        "# baz: 30\n",
        "# $ grrs foo test.txt\n",
        "# foo: 10\n",
        "# $ grrs --help\n",
        "# [some help text explaining the available options]\n"
      ],
      "execution_count": null,
      "outputs": []
    },
    {
      "cell_type": "code",
      "metadata": {
        "id": "Z9u503QJ7NZQ",
        "outputId": "5d269d4e-457f-41d0-f3be-f1226109d712",
        "colab": {
          "base_uri": "https://localhost:8080/"
        }
      },
      "source": [
        "%%writefile grrs01.rs\n",
        "fn main() {\n",
        "    let pattern = std::env::args().nth(1).expect(\"no pattern given\");\n",
        "    let path = std::env::args().nth(2).expect(\"no path given\");\n",
        "}"
      ],
      "execution_count": null,
      "outputs": [
        {
          "output_type": "stream",
          "text": [
            "Writing grrs01.rs\n"
          ],
          "name": "stdout"
        }
      ]
    },
    {
      "cell_type": "code",
      "metadata": {
        "id": "EPeu_cRi71__"
      },
      "source": [
        "# 実験\n",
        "!rustc grrs01.rs\n",
        "!./grrs01"
      ],
      "execution_count": null,
      "outputs": []
    },
    {
      "cell_type": "code",
      "metadata": {
        "id": "p7dxeUrLO3Xu",
        "outputId": "889c6a23-1247-42b5-de29-ca9653230403",
        "colab": {
          "base_uri": "https://localhost:8080/"
        }
      },
      "source": [
        "%env USER=root\n",
        "!cargo init"
      ],
      "execution_count": null,
      "outputs": [
        {
          "output_type": "stream",
          "text": [
            "env: USER=root\n",
            "\u001b[0m\u001b[0m\u001b[1m\u001b[31merror\u001b[0m\u001b[1m:\u001b[0m `cargo init` cannot be run on existing Cargo packages\n"
          ],
          "name": "stdout"
        }
      ]
    },
    {
      "cell_type": "code",
      "metadata": {
        "id": "f4T2MtJETNLB",
        "outputId": "009eb4ac-820c-4d60-a3f4-7546989e7e91",
        "colab": {
          "base_uri": "https://localhost:8080/"
        }
      },
      "source": [
        "%%writefile Cargo.toml\n",
        "[package]\n",
        "name = \"content\"\n",
        "version = \"0.1.0\"\n",
        "authors = [\"root\"]\n",
        "edition = \"2018\"\n",
        "\n",
        "# See more keys and their definitions at https://doc.rust-lang.org/cargo/reference/manifest.html\n",
        "\n",
        "[dependencies]\n",
        "structopt = \"0.3.13\"\n",
        "\n",
        "[[bin]]\n",
        "name = \"content\"\n",
        "path = \"main.rs\""
      ],
      "execution_count": 6,
      "outputs": [
        {
          "output_type": "stream",
          "text": [
            "Writing Cargo.toml\n"
          ],
          "name": "stdout"
        }
      ]
    },
    {
      "cell_type": "code",
      "metadata": {
        "id": "dpsoBNwA8iPv",
        "outputId": "14f20a65-91a5-45dc-ca3c-fdfb8291005f",
        "colab": {
          "base_uri": "https://localhost:8080/"
        }
      },
      "source": [
        "%%writefile main.rs\n",
        "use structopt::StructOpt;\n",
        "\n",
        "/// Search for a pattern in a file and display the lines that contain it.\n",
        "#[derive(StructOpt)]\n",
        "struct Cli {\n",
        "    /// The pattern to look for\n",
        "    pattern: String,\n",
        "    /// The path to the file to read\n",
        "    #[structopt(parse(from_os_str))]\n",
        "    path: std::path::PathBuf,\n",
        "}\n",
        "\n",
        "fn main() {\n",
        "    let pattern = std::env::args().nth(1).expect(\"no pattern given\");\n",
        "    let path = std::env::args().nth(2).expect(\"no path given\");\n",
        "}"
      ],
      "execution_count": 4,
      "outputs": [
        {
          "output_type": "stream",
          "text": [
            "Writing main.rs\n"
          ],
          "name": "stdout"
        }
      ]
    },
    {
      "cell_type": "code",
      "metadata": {
        "id": "8AmSOcgvTmP1",
        "outputId": "dd993311-b834-4b20-de94-5aea15f53d0c",
        "colab": {
          "base_uri": "https://localhost:8080/"
        }
      },
      "source": [
        "!rustc main.rs\n",
        "!./main"
      ],
      "execution_count": null,
      "outputs": [
        {
          "output_type": "stream",
          "text": [
            "\u001b[0m\u001b[1m\u001b[38;5;9merror[E0432]\u001b[0m\u001b[0m\u001b[1m: unresolved import `structopt`\u001b[0m\n",
            "\u001b[0m \u001b[0m\u001b[0m\u001b[1m\u001b[38;5;12m--> \u001b[0m\u001b[0mmain.rs:1:5\u001b[0m\n",
            "\u001b[0m  \u001b[0m\u001b[0m\u001b[1m\u001b[38;5;12m|\u001b[0m\n",
            "\u001b[0m\u001b[1m\u001b[38;5;12m1\u001b[0m\u001b[0m \u001b[0m\u001b[0m\u001b[1m\u001b[38;5;12m| \u001b[0m\u001b[0muse structopt::StructOpt;\u001b[0m\n",
            "\u001b[0m  \u001b[0m\u001b[0m\u001b[1m\u001b[38;5;12m| \u001b[0m\u001b[0m    \u001b[0m\u001b[0m\u001b[1m\u001b[38;5;9m^^^^^^^^^\u001b[0m\u001b[0m \u001b[0m\u001b[0m\u001b[1m\u001b[38;5;9mmaybe a missing crate `structopt`?\u001b[0m\n",
            "\n",
            "\u001b[0m\u001b[1m\u001b[38;5;9merror\u001b[0m\u001b[0m\u001b[1m: cannot determine resolution for the derive macro `StructOpt`\u001b[0m\n",
            "\u001b[0m \u001b[0m\u001b[0m\u001b[1m\u001b[38;5;12m--> \u001b[0m\u001b[0mmain.rs:4:10\u001b[0m\n",
            "\u001b[0m  \u001b[0m\u001b[0m\u001b[1m\u001b[38;5;12m|\u001b[0m\n",
            "\u001b[0m\u001b[1m\u001b[38;5;12m4\u001b[0m\u001b[0m \u001b[0m\u001b[0m\u001b[1m\u001b[38;5;12m| \u001b[0m\u001b[0m#[derive(StructOpt)]\u001b[0m\n",
            "\u001b[0m  \u001b[0m\u001b[0m\u001b[1m\u001b[38;5;12m| \u001b[0m\u001b[0m         \u001b[0m\u001b[0m\u001b[1m\u001b[38;5;9m^^^^^^^^^\u001b[0m\n",
            "\u001b[0m  \u001b[0m\u001b[0m\u001b[1m\u001b[38;5;12m|\u001b[0m\n",
            "\u001b[0m  \u001b[0m\u001b[0m\u001b[1m\u001b[38;5;12m= \u001b[0m\u001b[0m\u001b[1mnote\u001b[0m\u001b[0m: import resolution is stuck, try simplifying macro imports\u001b[0m\n",
            "\n",
            "\u001b[0m\u001b[1m\u001b[38;5;9merror\u001b[0m\u001b[0m\u001b[1m: cannot find attribute `structopt` in this scope\u001b[0m\n",
            "\u001b[0m \u001b[0m\u001b[0m\u001b[1m\u001b[38;5;12m--> \u001b[0m\u001b[0mmain.rs:9:7\u001b[0m\n",
            "\u001b[0m  \u001b[0m\u001b[0m\u001b[1m\u001b[38;5;12m|\u001b[0m\n",
            "\u001b[0m\u001b[1m\u001b[38;5;12m9\u001b[0m\u001b[0m \u001b[0m\u001b[0m\u001b[1m\u001b[38;5;12m| \u001b[0m\u001b[0m    #[structopt(parse(from_os_str))]\u001b[0m\n",
            "\u001b[0m  \u001b[0m\u001b[0m\u001b[1m\u001b[38;5;12m| \u001b[0m\u001b[0m      \u001b[0m\u001b[0m\u001b[1m\u001b[38;5;9m^^^^^^^^^\u001b[0m\n",
            "\n",
            "\u001b[0m\u001b[1m\u001b[38;5;9merror\u001b[0m\u001b[0m\u001b[1m: aborting due to 3 previous errors\u001b[0m\n",
            "\n",
            "\u001b[0m\u001b[1mFor more information about this error, try `rustc --explain E0432`.\u001b[0m\n",
            "Hello, world!\n"
          ],
          "name": "stdout"
        }
      ]
    },
    {
      "cell_type": "code",
      "metadata": {
        "id": "4hMumAYeXpbP",
        "outputId": "d7439859-8fa3-4943-fc8e-e657d55c5907",
        "colab": {
          "base_uri": "https://localhost:8080/"
        }
      },
      "source": [
        "# %%capture\n",
        "!apt install rustc --fix-missing"
      ],
      "execution_count": 1,
      "outputs": [
        {
          "output_type": "stream",
          "text": [
            "Reading package lists... Done\n",
            "Building dependency tree       \n",
            "Reading state information... Done\n",
            "The following additional packages will be installed:\n",
            "  cargo gdb gdbserver libbabeltrace1 libc6-dbg libdw1 libhttp-parser2.7.1\n",
            "  libssh2-1 libstd-rust-1.43 libstd-rust-dev rust-gdb\n",
            "Suggested packages:\n",
            "  cargo-doc gdb-doc rust-doc rust-src lld-9\n",
            "The following NEW packages will be installed:\n",
            "  cargo gdb gdbserver libbabeltrace1 libc6-dbg libdw1 libhttp-parser2.7.1\n",
            "  libssh2-1 libstd-rust-1.43 libstd-rust-dev rust-gdb rustc\n",
            "0 upgraded, 12 newly installed, 0 to remove and 12 not upgraded.\n",
            "Need to get 87.3 MB of archives.\n",
            "After this operation, 358 MB of additional disk space will be used.\n",
            "Get:1 http://archive.ubuntu.com/ubuntu bionic-updates/main amd64 libdw1 amd64 0.170-0.4ubuntu0.1 [203 kB]\n",
            "Get:2 http://archive.ubuntu.com/ubuntu bionic/main amd64 libbabeltrace1 amd64 1.5.5-1 [154 kB]\n",
            "Err:3 http://archive.ubuntu.com/ubuntu bionic-updates/main amd64 gdb amd64 8.1-0ubuntu3.2\n",
            "  404  Not Found [IP: 91.189.88.142 80]\n",
            "Err:4 http://archive.ubuntu.com/ubuntu bionic-updates/main amd64 gdbserver amd64 8.1-0ubuntu3.2\n",
            "  404  Not Found [IP: 91.189.88.142 80]\n",
            "Get:5 http://archive.ubuntu.com/ubuntu bionic/universe amd64 libssh2-1 amd64 1.8.0-1 [73.2 kB]\n",
            "Get:6 http://archive.ubuntu.com/ubuntu bionic-updates/universe amd64 libstd-rust-1.43 amd64 1.43.0+dfsg1+llvm-1~exp1ubuntu2~18.04.1 [47.9 MB]\n",
            "Get:7 http://archive.ubuntu.com/ubuntu bionic/main amd64 libhttp-parser2.7.1 amd64 2.7.1-2 [20.6 kB]\n",
            "Get:8 http://archive.ubuntu.com/ubuntu bionic-updates/universe amd64 libstd-rust-dev amd64 1.43.0+dfsg1+llvm-1~exp1ubuntu2~18.04.1 [25.7 MB]\n",
            "Get:9 http://archive.ubuntu.com/ubuntu bionic-updates/universe amd64 rustc amd64 1.43.0+dfsg1+llvm-1~exp1ubuntu2~18.04.1 [1,781 kB]\n",
            "Get:10 http://archive.ubuntu.com/ubuntu bionic-updates/universe amd64 cargo amd64 0.44.1-0ubuntu1~18.04.1 [3,070 kB]\n",
            "Get:11 http://archive.ubuntu.com/ubuntu bionic-updates/main amd64 libc6-dbg amd64 2.27-3ubuntu1.3 [5,163 kB]\n",
            "Get:12 http://archive.ubuntu.com/ubuntu bionic-updates/universe amd64 rust-gdb all 1.43.0+dfsg1+llvm-1~exp1ubuntu2~18.04.1 [26.6 kB]\n",
            "Fetched 84.1 MB in 3s (24.4 MB/s)\n",
            "Selecting previously unselected package libdw1:amd64.\n",
            "(Reading database ... 144786 files and directories currently installed.)\n",
            "Preparing to unpack .../0-libdw1_0.170-0.4ubuntu0.1_amd64.deb ...\n",
            "Unpacking libdw1:amd64 (0.170-0.4ubuntu0.1) ...\n",
            "Selecting previously unselected package libssh2-1:amd64.\n",
            "Preparing to unpack .../1-libssh2-1_1.8.0-1_amd64.deb ...\n",
            "Unpacking libssh2-1:amd64 (1.8.0-1) ...\n",
            "Selecting previously unselected package libstd-rust-1.43:amd64.\n",
            "Preparing to unpack .../2-libstd-rust-1.43_1.43.0+dfsg1+llvm-1~exp1ubuntu2~18.04.1_amd64.deb ...\n",
            "Unpacking libstd-rust-1.43:amd64 (1.43.0+dfsg1+llvm-1~exp1ubuntu2~18.04.1) ...\n",
            "Selecting previously unselected package libhttp-parser2.7.1:amd64.\n",
            "Preparing to unpack .../3-libhttp-parser2.7.1_2.7.1-2_amd64.deb ...\n",
            "Unpacking libhttp-parser2.7.1:amd64 (2.7.1-2) ...\n",
            "Selecting previously unselected package libstd-rust-dev:amd64.\n",
            "Preparing to unpack .../4-libstd-rust-dev_1.43.0+dfsg1+llvm-1~exp1ubuntu2~18.04.1_amd64.deb ...\n",
            "Unpacking libstd-rust-dev:amd64 (1.43.0+dfsg1+llvm-1~exp1ubuntu2~18.04.1) ...\n",
            "Selecting previously unselected package rustc.\n",
            "Preparing to unpack .../5-rustc_1.43.0+dfsg1+llvm-1~exp1ubuntu2~18.04.1_amd64.deb ...\n",
            "Unpacking rustc (1.43.0+dfsg1+llvm-1~exp1ubuntu2~18.04.1) ...\n",
            "Selecting previously unselected package cargo.\n",
            "Preparing to unpack .../6-cargo_0.44.1-0ubuntu1~18.04.1_amd64.deb ...\n",
            "Unpacking cargo (0.44.1-0ubuntu1~18.04.1) ...\n",
            "Selecting previously unselected package libbabeltrace1:amd64.\n",
            "Preparing to unpack .../7-libbabeltrace1_1.5.5-1_amd64.deb ...\n",
            "Unpacking libbabeltrace1:amd64 (1.5.5-1) ...\n",
            "Selecting previously unselected package libc6-dbg:amd64.\n",
            "Preparing to unpack .../8-libc6-dbg_2.27-3ubuntu1.3_amd64.deb ...\n",
            "Unpacking libc6-dbg:amd64 (2.27-3ubuntu1.3) ...\n",
            "Setting up libhttp-parser2.7.1:amd64 (2.7.1-2) ...\n",
            "Setting up libc6-dbg:amd64 (2.27-3ubuntu1.3) ...\n",
            "Setting up libdw1:amd64 (0.170-0.4ubuntu0.1) ...\n",
            "Setting up libssh2-1:amd64 (1.8.0-1) ...\n",
            "Setting up libstd-rust-1.43:amd64 (1.43.0+dfsg1+llvm-1~exp1ubuntu2~18.04.1) ...\n",
            "Setting up libbabeltrace1:amd64 (1.5.5-1) ...\n",
            "Setting up libstd-rust-dev:amd64 (1.43.0+dfsg1+llvm-1~exp1ubuntu2~18.04.1) ...\n",
            "Setting up rustc (1.43.0+dfsg1+llvm-1~exp1ubuntu2~18.04.1) ...\n",
            "Setting up cargo (0.44.1-0ubuntu1~18.04.1) ...\n",
            "Processing triggers for libc-bin (2.27-3ubuntu1.2) ...\n",
            "/sbin/ldconfig.real: /usr/local/lib/python3.6/dist-packages/ideep4py/lib/libmkldnn.so.0 is not a symbolic link\n",
            "\n",
            "Processing triggers for man-db (2.8.3-2ubuntu0.1) ...\n",
            "E: Failed to fetch http://archive.ubuntu.com/ubuntu/pool/main/g/gdb/gdb_8.1-0ubuntu3.2_amd64.deb  404  Not Found [IP: 91.189.88.142 80]\n",
            "E: Failed to fetch http://archive.ubuntu.com/ubuntu/pool/main/g/gdb/gdbserver_8.1-0ubuntu3.2_amd64.deb  404  Not Found [IP: 91.189.88.142 80]\n"
          ],
          "name": "stdout"
        }
      ]
    },
    {
      "cell_type": "code",
      "metadata": {
        "id": "Wngf4SP4XxeI",
        "outputId": "41888fb2-1385-4b36-928d-c2e9f6bfa5c3",
        "colab": {
          "base_uri": "https://localhost:8080/"
        }
      },
      "source": [
        "!rustc --version"
      ],
      "execution_count": 2,
      "outputs": [
        {
          "output_type": "stream",
          "text": [
            "rustc 1.43.0\n"
          ],
          "name": "stdout"
        }
      ]
    },
    {
      "cell_type": "code",
      "metadata": {
        "id": "IHQ6jV30YXQu",
        "outputId": "535a0425-77fe-441a-800f-a6c78892eb5a",
        "colab": {
          "base_uri": "https://localhost:8080/"
        }
      },
      "source": [
        "!cargo --version"
      ],
      "execution_count": 3,
      "outputs": [
        {
          "output_type": "stream",
          "text": [
            "cargo 1.43.0\n"
          ],
          "name": "stdout"
        }
      ]
    },
    {
      "cell_type": "code",
      "metadata": {
        "id": "rhUch2pkkPpK",
        "outputId": "9f76458c-52f2-4998-dc5a-a874b872acc8",
        "colab": {
          "base_uri": "https://localhost:8080/"
        }
      },
      "source": [
        "!cargo build\n"
      ],
      "execution_count": 7,
      "outputs": [
        {
          "output_type": "stream",
          "text": [
            "\u001b[0m\u001b[0m\u001b[1m\u001b[32m    Updating\u001b[0m crates.io index\n",
            "\u001b[0m\u001b[0m\u001b[1m\u001b[32m Downloading\u001b[0m crates ...\n",
            "\u001b[0m\u001b[0m\u001b[1m\u001b[32m  Downloaded\u001b[0m structopt v0.3.20\n",
            "\u001b[0m\u001b[0m\u001b[1m\u001b[32m  Downloaded\u001b[0m structopt-derive v0.4.13\n",
            "\u001b[0m\u001b[0m\u001b[1m\u001b[32m  Downloaded\u001b[0m lazy_static v1.4.0\n",
            "\u001b[0m\u001b[0m\u001b[1m\u001b[32m  Downloaded\u001b[0m clap v2.33.3\n",
            "\u001b[0m\u001b[0m\u001b[1m\u001b[32m  Downloaded\u001b[0m quote v1.0.7\n",
            "\u001b[0m\u001b[0m\u001b[1m\u001b[32m  Downloaded\u001b[0m proc-macro2 v1.0.24\n",
            "\u001b[0m\u001b[0m\u001b[1m\u001b[32m  Downloaded\u001b[0m heck v0.3.1\n",
            "\u001b[0m\u001b[0m\u001b[1m\u001b[32m  Downloaded\u001b[0m syn v1.0.48\n",
            "\u001b[0m\u001b[0m\u001b[1m\u001b[32m  Downloaded\u001b[0m proc-macro-error v1.0.4\n",
            "\u001b[0m\u001b[0m\u001b[1m\u001b[32m  Downloaded\u001b[0m vec_map v0.8.2\n",
            "\u001b[0m\u001b[0m\u001b[1m\u001b[32m  Downloaded\u001b[0m atty v0.2.14\n",
            "\u001b[0m\u001b[0m\u001b[1m\u001b[32m  Downloaded\u001b[0m ansi_term v0.11.0\n",
            "\u001b[0m\u001b[0m\u001b[1m\u001b[32m  Downloaded\u001b[0m textwrap v0.11.0\n",
            "\u001b[0m\u001b[0m\u001b[1m\u001b[32m  Downloaded\u001b[0m unicode-width v0.1.8\n",
            "\u001b[0m\u001b[0m\u001b[1m\u001b[32m  Downloaded\u001b[0m bitflags v1.2.1\n",
            "\u001b[0m\u001b[0m\u001b[1m\u001b[32m  Downloaded\u001b[0m strsim v0.8.0\n",
            "\u001b[0m\u001b[0m\u001b[1m\u001b[32m  Downloaded\u001b[0m unicode-xid v0.2.1\n",
            "\u001b[0m\u001b[0m\u001b[1m\u001b[32m  Downloaded\u001b[0m proc-macro-error-attr v1.0.4\n",
            "\u001b[0m\u001b[0m\u001b[1m\u001b[32m  Downloaded\u001b[0m unicode-segmentation v1.7.0\n",
            "\u001b[0m\u001b[0m\u001b[1m\u001b[32m  Downloaded\u001b[0m version_check v0.9.2\n",
            "\u001b[0m\u001b[0m\u001b[1m\u001b[32m  Downloaded\u001b[0m libc v0.2.80\n",
            "\u001b[0m\u001b[0m\u001b[1m\u001b[32m   Compiling\u001b[0m proc-macro2 v1.0.24\n",
            "\u001b[0m\u001b[0m\u001b[1m\u001b[32m   Compiling\u001b[0m version_check v0.9.2\n",
            "\u001b[0m\u001b[0m\u001b[1m\u001b[32m   Compiling\u001b[0m unicode-xid v0.2.1\n",
            "\u001b[0m\u001b[0m\u001b[1m\u001b[32m   Compiling\u001b[0m syn v1.0.48\n",
            "\u001b[0m\u001b[0m\u001b[1m\u001b[32m   Compiling\u001b[0m libc v0.2.80\n",
            "\u001b[0m\u001b[0m\u001b[1m\u001b[32m   Compiling\u001b[0m bitflags v1.2.1\n",
            "\u001b[0m\u001b[0m\u001b[1m\u001b[32m   Compiling\u001b[0m unicode-segmentation v1.7.0\n",
            "\u001b[0m\u001b[0m\u001b[1m\u001b[32m   Compiling\u001b[0m unicode-width v0.1.8\n",
            "\u001b[0m\u001b[0m\u001b[1m\u001b[32m   Compiling\u001b[0m strsim v0.8.0\n",
            "\u001b[0m\u001b[0m\u001b[1m\u001b[32m   Compiling\u001b[0m vec_map v0.8.2\n",
            "\u001b[0m\u001b[0m\u001b[1m\u001b[32m   Compiling\u001b[0m ansi_term v0.11.0\n",
            "\u001b[0m\u001b[0m\u001b[1m\u001b[32m   Compiling\u001b[0m lazy_static v1.4.0\n",
            "\u001b[0m\u001b[0m\u001b[1m\u001b[32m   Compiling\u001b[0m proc-macro-error-attr v1.0.4\n",
            "\u001b[0m\u001b[0m\u001b[1m\u001b[32m   Compiling\u001b[0m proc-macro-error v1.0.4\n",
            "\u001b[0m\u001b[0m\u001b[1m\u001b[32m   Compiling\u001b[0m heck v0.3.1\n",
            "\u001b[0m\u001b[0m\u001b[1m\u001b[32m   Compiling\u001b[0m textwrap v0.11.0\n",
            "\u001b[0m\u001b[0m\u001b[1m\u001b[32m   Compiling\u001b[0m quote v1.0.7\n",
            "\u001b[0m\u001b[0m\u001b[1m\u001b[32m   Compiling\u001b[0m atty v0.2.14\n",
            "\u001b[0m\u001b[0m\u001b[1m\u001b[32m   Compiling\u001b[0m clap v2.33.3\n",
            "\u001b[0m\u001b[0m\u001b[1m\u001b[32m   Compiling\u001b[0m structopt-derive v0.4.13\n",
            "\u001b[0m\u001b[0m\u001b[1m\u001b[32m   Compiling\u001b[0m structopt v0.3.20\n",
            "\u001b[0m\u001b[0m\u001b[1m\u001b[32m   Compiling\u001b[0m content v0.1.0 (/content)\n",
            "\u001b[0m\u001b[1m\u001b[33mwarning\u001b[0m\u001b[0m\u001b[1m: unused variable: `pattern`\u001b[0m\n",
            "\u001b[0m  \u001b[0m\u001b[0m\u001b[1m\u001b[38;5;12m--> \u001b[0m\u001b[0mmain.rs:14:9\u001b[0m\n",
            "\u001b[0m   \u001b[0m\u001b[0m\u001b[1m\u001b[38;5;12m|\u001b[0m\n",
            "\u001b[0m\u001b[1m\u001b[38;5;12m14\u001b[0m\u001b[0m \u001b[0m\u001b[0m\u001b[1m\u001b[38;5;12m| \u001b[0m\u001b[0m    let pattern = std::env::args().nth(1).expect(\"no pattern given\");\u001b[0m\n",
            "\u001b[0m   \u001b[0m\u001b[0m\u001b[1m\u001b[38;5;12m| \u001b[0m\u001b[0m        \u001b[0m\u001b[0m\u001b[1m\u001b[33m^^^^^^^\u001b[0m\u001b[0m \u001b[0m\u001b[0m\u001b[1m\u001b[33mhelp: consider prefixing with an underscore: `_pattern`\u001b[0m\n",
            "\u001b[0m   \u001b[0m\u001b[0m\u001b[1m\u001b[38;5;12m|\u001b[0m\n",
            "\u001b[0m   \u001b[0m\u001b[0m\u001b[1m\u001b[38;5;12m= \u001b[0m\u001b[0m\u001b[1mnote\u001b[0m\u001b[0m: `#[warn(unused_variables)]` on by default\u001b[0m\n",
            "\n",
            "\u001b[0m\u001b[1m\u001b[33mwarning\u001b[0m\u001b[0m\u001b[1m: unused variable: `path`\u001b[0m\n",
            "\u001b[0m  \u001b[0m\u001b[0m\u001b[1m\u001b[38;5;12m--> \u001b[0m\u001b[0mmain.rs:15:9\u001b[0m\n",
            "\u001b[0m   \u001b[0m\u001b[0m\u001b[1m\u001b[38;5;12m|\u001b[0m\n",
            "\u001b[0m\u001b[1m\u001b[38;5;12m15\u001b[0m\u001b[0m \u001b[0m\u001b[0m\u001b[1m\u001b[38;5;12m| \u001b[0m\u001b[0m    let path = std::env::args().nth(2).expect(\"no path given\");\u001b[0m\n",
            "\u001b[0m   \u001b[0m\u001b[0m\u001b[1m\u001b[38;5;12m| \u001b[0m\u001b[0m        \u001b[0m\u001b[0m\u001b[1m\u001b[33m^^^^\u001b[0m\u001b[0m \u001b[0m\u001b[0m\u001b[1m\u001b[33mhelp: consider prefixing with an underscore: `_path`\u001b[0m\n",
            "\n",
            "\u001b[0m\u001b[1m\u001b[33mwarning\u001b[0m\u001b[0m\u001b[1m: field is never read: `pattern`\u001b[0m\n",
            "\u001b[0m \u001b[0m\u001b[0m\u001b[1m\u001b[38;5;12m--> \u001b[0m\u001b[0mmain.rs:7:5\u001b[0m\n",
            "\u001b[0m  \u001b[0m\u001b[0m\u001b[1m\u001b[38;5;12m|\u001b[0m\n",
            "\u001b[0m\u001b[1m\u001b[38;5;12m7\u001b[0m\u001b[0m \u001b[0m\u001b[0m\u001b[1m\u001b[38;5;12m| \u001b[0m\u001b[0m    pattern: String,\u001b[0m\n",
            "\u001b[0m  \u001b[0m\u001b[0m\u001b[1m\u001b[38;5;12m| \u001b[0m\u001b[0m    \u001b[0m\u001b[0m\u001b[1m\u001b[33m^^^^^^^^^^^^^^^\u001b[0m\n",
            "\u001b[0m  \u001b[0m\u001b[0m\u001b[1m\u001b[38;5;12m|\u001b[0m\n",
            "\u001b[0m  \u001b[0m\u001b[0m\u001b[1m\u001b[38;5;12m= \u001b[0m\u001b[0m\u001b[1mnote\u001b[0m\u001b[0m: `#[warn(dead_code)]` on by default\u001b[0m\n",
            "\n",
            "\u001b[0m\u001b[1m\u001b[33mwarning\u001b[0m\u001b[0m\u001b[1m: field is never read: `path`\u001b[0m\n",
            "\u001b[0m  \u001b[0m\u001b[0m\u001b[1m\u001b[38;5;12m--> \u001b[0m\u001b[0mmain.rs:10:5\u001b[0m\n",
            "\u001b[0m   \u001b[0m\u001b[0m\u001b[1m\u001b[38;5;12m|\u001b[0m\n",
            "\u001b[0m\u001b[1m\u001b[38;5;12m10\u001b[0m\u001b[0m \u001b[0m\u001b[0m\u001b[1m\u001b[38;5;12m| \u001b[0m\u001b[0m    path: std::path::PathBuf,\u001b[0m\n",
            "\u001b[0m   \u001b[0m\u001b[0m\u001b[1m\u001b[38;5;12m| \u001b[0m\u001b[0m    \u001b[0m\u001b[0m\u001b[1m\u001b[33m^^^^^^^^^^^^^^^^^^^^^^^^\u001b[0m\n",
            "\n",
            "\u001b[0m\u001b[0m\u001b[1m\u001b[32m    Finished\u001b[0m dev [unoptimized + debuginfo] target(s) in 57.08s\n"
          ],
          "name": "stdout"
        }
      ]
    },
    {
      "cell_type": "markdown",
      "metadata": {
        "id": "hUHwGmzBkqUF"
      },
      "source": [
        "!cargo build\n",
        "したところ\n",
        "error: couldn't read main.rs: No such file or directory (os error 2)\n",
        "\n",
        "error: aborting due to previous error\n",
        "\n",
        "error: could not compile `content`.\n",
        "となった。\n",
        "やはり main.rsである必要はあるみたい。\n",
        "content\n",
        "関係はまだわからない。"
      ]
    }
  ]
}