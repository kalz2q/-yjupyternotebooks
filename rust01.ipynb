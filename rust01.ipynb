{
  "nbformat": 4,
  "nbformat_minor": 0,
  "metadata": {
    "colab": {
      "name": "rust01.ipynb",
      "provenance": [],
      "toc_visible": true,
      "authorship_tag": "ABX9TyOgrX8t7KgQdDduJpJO51M9",
      "include_colab_link": true
    },
    "kernelspec": {
      "name": "python3",
      "display_name": "Python 3"
    }
  },
  "cells": [
    {
      "cell_type": "markdown",
      "metadata": {
        "id": "view-in-github",
        "colab_type": "text"
      },
      "source": [
        "<a href=\"https://colab.research.google.com/github/kalz2q/mycolabnotebooks/blob/master/rust01.ipynb\" target=\"_parent\"><img src=\"https://colab.research.google.com/assets/colab-badge.svg\" alt=\"Open In Colab\"/></a>"
      ]
    },
    {
      "cell_type": "markdown",
      "metadata": {
        "id": "Z5PU-iNA6q3p"
      },
      "source": [
        "# メモ\n",
        "\n",
        "1. Colab で実行しながら読まれることを想定している。\n",
        "1. Rust の勉強\n",
        "1. 資料は本家のテュートリアル https://rust-cli.github.io/book/index.html"
      ]
    },
    {
      "cell_type": "markdown",
      "metadata": {
        "id": "NfI_Y6uw54N9"
      },
      "source": [
        "# Rust をインストールする"
      ]
    },
    {
      "cell_type": "code",
      "metadata": {
        "id": "NqpdnM0vvX1F"
      },
      "source": [
        "# Rust をインストールする\n",
        "%%capture\n",
        "# !apt install rustc;"
      ],
      "execution_count": 1,
      "outputs": []
    },
    {
      "cell_type": "code",
      "metadata": {
        "id": "H5Upr6cDteDT",
        "outputId": "82ee99e5-d1f9-4546-f37d-93405c498ee2",
        "colab": {
          "base_uri": "https://localhost:8080/"
        }
      },
      "source": [
        "%%writefile sh.rustup.sh\n",
        "#!/bin/sh\n",
        "# shellcheck shell=dash\n",
        "\n",
        "# This is just a little script that can be downloaded from the internet to\n",
        "# install rustup. It just does platform detection, downloads the installer\n",
        "# and runs it.\n",
        "\n",
        "# It runs on Unix shells like {a,ba,da,k,z}sh. It uses the common `local`\n",
        "# extension. Note: Most shells limit `local` to 1 var per line, contra bash.\n",
        "\n",
        "set -u\n",
        "\n",
        "# If RUSTUP_UPDATE_ROOT is unset or empty, default it.\n",
        "RUSTUP_UPDATE_ROOT=\"${RUSTUP_UPDATE_ROOT:-https://static.rust-lang.org/rustup}\"\n",
        "\n",
        "#XXX: If you change anything here, please make the same changes in setup_mode.rs\n",
        "usage() {\n",
        "    cat 1>&2 <<EOF\n",
        "rustup-init 1.22.1 (76644d669 2020-07-08)\n",
        "The installer for rustup\n",
        "\n",
        "USAGE:\n",
        "    rustup-init [FLAGS] [OPTIONS]\n",
        "\n",
        "FLAGS:\n",
        "    -v, --verbose           Enable verbose output\n",
        "    -q, --quiet             Disable progress output\n",
        "    -y                      Disable confirmation prompt.\n",
        "        --no-modify-path    Don't configure the PATH environment variable\n",
        "    -h, --help              Prints help information\n",
        "    -V, --version           Prints version information\n",
        "\n",
        "OPTIONS:\n",
        "        --default-host <default-host>              Choose a default host triple\n",
        "        --default-toolchain <default-toolchain>    Choose a default toolchain to install\n",
        "        --default-toolchain none                   Do not install any toolchains\n",
        "        --profile [minimal|default|complete]       Choose a profile\n",
        "    -c, --component <components>...                Component name to also install\n",
        "    -t, --target <targets>...                      Target name to also install\n",
        "EOF\n",
        "}\n",
        "\n",
        "main() {\n",
        "    downloader --check\n",
        "    need_cmd uname\n",
        "    need_cmd mktemp\n",
        "    need_cmd chmod\n",
        "    need_cmd mkdir\n",
        "    need_cmd rm\n",
        "    need_cmd rmdir\n",
        "\n",
        "    get_architecture || return 1\n",
        "    local _arch=\"$RETVAL\"\n",
        "    assert_nz \"$_arch\" \"arch\"\n",
        "\n",
        "    local _ext=\"\"\n",
        "    case \"$_arch\" in\n",
        "        *windows*)\n",
        "            _ext=\".exe\"\n",
        "            ;;\n",
        "    esac\n",
        "\n",
        "    local _url=\"${RUSTUP_UPDATE_ROOT}/dist/${_arch}/rustup-init${_ext}\"\n",
        "\n",
        "    local _dir\n",
        "    _dir=\"$(mktemp -d 2>/dev/null || ensure mktemp -d -t rustup)\"\n",
        "    local _file=\"${_dir}/rustup-init${_ext}\"\n",
        "\n",
        "    local _ansi_escapes_are_valid=false\n",
        "    if [ -t 2 ]; then\n",
        "        if [ \"${TERM+set}\" = 'set' ]; then\n",
        "            case \"$TERM\" in\n",
        "                xterm*|rxvt*|urxvt*|linux*|vt*)\n",
        "                    _ansi_escapes_are_valid=true\n",
        "                ;;\n",
        "            esac\n",
        "        fi\n",
        "    fi\n",
        "\n",
        "    # check if we have to use /dev/tty to prompt the user\n",
        "    local need_tty=yes\n",
        "    for arg in \"$@\"; do\n",
        "        case \"$arg\" in\n",
        "            -h|--help)\n",
        "                usage\n",
        "                exit 0\n",
        "                ;;\n",
        "            -y)\n",
        "                # user wants to skip the prompt -- we don't need /dev/tty\n",
        "                need_tty=no\n",
        "                ;;\n",
        "            *)\n",
        "                ;;\n",
        "        esac\n",
        "    done\n",
        "\n",
        "    if $_ansi_escapes_are_valid; then\n",
        "        printf \"\\33[1minfo:\\33[0m downloading installer\\n\" 1>&2\n",
        "    else\n",
        "        printf '%s\\n' 'info: downloading installer' 1>&2\n",
        "    fi\n",
        "\n",
        "    ensure mkdir -p \"$_dir\"\n",
        "    ensure downloader \"$_url\" \"$_file\" \"$_arch\"\n",
        "    ensure chmod u+x \"$_file\"\n",
        "    if [ ! -x \"$_file\" ]; then\n",
        "        printf '%s\\n' \"Cannot execute $_file (likely because of mounting /tmp as noexec).\" 1>&2\n",
        "        printf '%s\\n' \"Please copy the file to a location where you can execute binaries and run ./rustup-init${_ext}.\" 1>&2\n",
        "        exit 1\n",
        "    fi\n",
        "\n",
        "    if [ \"$need_tty\" = \"yes\" ]; then\n",
        "        # The installer is going to want to ask for confirmation by\n",
        "        # reading stdin.  This script was piped into `sh` though and\n",
        "        # doesn't have stdin to pass to its children. Instead we're going\n",
        "        # to explicitly connect /dev/tty to the installer's stdin.\n",
        "        if [ ! -t 1 ]; then\n",
        "            err \"Unable to run interactively. Run with -y to accept defaults, --help for additional options\"\n",
        "        fi\n",
        "\n",
        "        # ignore \"$_file\" \"$@\" < /dev/tty\n",
        "        ignore \"$_file\" \"$@\"\n",
        "    else\n",
        "        ignore \"$_file\" \"$@\"\n",
        "    fi\n",
        "\n",
        "    local _retval=$?\n",
        "\n",
        "    ignore rm \"$_file\"\n",
        "    ignore rmdir \"$_dir\"\n",
        "\n",
        "    return \"$_retval\"\n",
        "}\n",
        "\n",
        "get_bitness() {\n",
        "    need_cmd head\n",
        "    # Architecture detection without dependencies beyond coreutils.\n",
        "    # ELF files start out \"\\x7fELF\", and the following byte is\n",
        "    #   0x01 for 32-bit and\n",
        "    #   0x02 for 64-bit.\n",
        "    # The printf builtin on some shells like dash only supports octal\n",
        "    # escape sequences, so we use those.\n",
        "    local _current_exe_head\n",
        "    _current_exe_head=$(head -c 5 /proc/self/exe )\n",
        "    if [ \"$_current_exe_head\" = \"$(printf '\\177ELF\\001')\" ]; then\n",
        "        echo 32\n",
        "    elif [ \"$_current_exe_head\" = \"$(printf '\\177ELF\\002')\" ]; then\n",
        "        echo 64\n",
        "    else\n",
        "        err \"unknown platform bitness\"\n",
        "    fi\n",
        "}\n",
        "\n",
        "get_endianness() {\n",
        "    local cputype=$1\n",
        "    local suffix_eb=$2\n",
        "    local suffix_el=$3\n",
        "\n",
        "    # detect endianness without od/hexdump, like get_bitness() does.\n",
        "    need_cmd head\n",
        "    need_cmd tail\n",
        "\n",
        "    local _current_exe_endianness\n",
        "    _current_exe_endianness=\"$(head -c 6 /proc/self/exe | tail -c 1)\"\n",
        "    if [ \"$_current_exe_endianness\" = \"$(printf '\\001')\" ]; then\n",
        "        echo \"${cputype}${suffix_el}\"\n",
        "    elif [ \"$_current_exe_endianness\" = \"$(printf '\\002')\" ]; then\n",
        "        echo \"${cputype}${suffix_eb}\"\n",
        "    else\n",
        "        err \"unknown platform endianness\"\n",
        "    fi\n",
        "}\n",
        "\n",
        "get_architecture() {\n",
        "    local _ostype _cputype _bitness _arch _clibtype\n",
        "    _ostype=\"$(uname -s)\"\n",
        "    _cputype=\"$(uname -m)\"\n",
        "    _clibtype=\"gnu\"\n",
        "\n",
        "    if [ \"$_ostype\" = Linux ]; then\n",
        "        if [ \"$(uname -o)\" = Android ]; then\n",
        "            _ostype=Android\n",
        "        fi\n",
        "        if ldd --version 2>&1 | grep -q 'musl'; then\n",
        "            _clibtype=\"musl\"\n",
        "        fi\n",
        "    fi\n",
        "\n",
        "    if [ \"$_ostype\" = Darwin ] && [ \"$_cputype\" = i386 ]; then\n",
        "        # Darwin `uname -m` lies\n",
        "        if sysctl hw.optional.x86_64 | grep -q ': 1'; then\n",
        "            _cputype=x86_64\n",
        "        fi\n",
        "    fi\n",
        "\n",
        "    case \"$_ostype\" in\n",
        "\n",
        "        Android)\n",
        "            _ostype=linux-android\n",
        "            ;;\n",
        "\n",
        "        Linux)\n",
        "            _ostype=unknown-linux-$_clibtype\n",
        "            _bitness=$(get_bitness)\n",
        "            ;;\n",
        "\n",
        "        FreeBSD)\n",
        "            _ostype=unknown-freebsd\n",
        "            ;;\n",
        "\n",
        "        NetBSD)\n",
        "            _ostype=unknown-netbsd\n",
        "            ;;\n",
        "\n",
        "        DragonFly)\n",
        "            _ostype=unknown-dragonfly\n",
        "            ;;\n",
        "\n",
        "        Darwin)\n",
        "            _ostype=apple-darwin\n",
        "            ;;\n",
        "\n",
        "        MINGW* | MSYS* | CYGWIN*)\n",
        "            _ostype=pc-windows-gnu\n",
        "            ;;\n",
        "\n",
        "        *)\n",
        "            err \"unrecognized OS type: $_ostype\"\n",
        "            ;;\n",
        "\n",
        "    esac\n",
        "\n",
        "    case \"$_cputype\" in\n",
        "\n",
        "        i386 | i486 | i686 | i786 | x86)\n",
        "            _cputype=i686\n",
        "            ;;\n",
        "\n",
        "        xscale | arm)\n",
        "            _cputype=arm\n",
        "            if [ \"$_ostype\" = \"linux-android\" ]; then\n",
        "                _ostype=linux-androideabi\n",
        "            fi\n",
        "            ;;\n",
        "\n",
        "        armv6l)\n",
        "            _cputype=arm\n",
        "            if [ \"$_ostype\" = \"linux-android\" ]; then\n",
        "                _ostype=linux-androideabi\n",
        "            else\n",
        "                _ostype=\"${_ostype}eabihf\"\n",
        "            fi\n",
        "            ;;\n",
        "\n",
        "        armv7l | armv8l)\n",
        "            _cputype=armv7\n",
        "            if [ \"$_ostype\" = \"linux-android\" ]; then\n",
        "                _ostype=linux-androideabi\n",
        "            else\n",
        "                _ostype=\"${_ostype}eabihf\"\n",
        "            fi\n",
        "            ;;\n",
        "\n",
        "        aarch64)\n",
        "            _cputype=aarch64\n",
        "            ;;\n",
        "\n",
        "        x86_64 | x86-64 | x64 | amd64)\n",
        "            _cputype=x86_64\n",
        "            ;;\n",
        "\n",
        "        mips)\n",
        "            _cputype=$(get_endianness mips '' el)\n",
        "            ;;\n",
        "\n",
        "        mips64)\n",
        "            if [ \"$_bitness\" -eq 64 ]; then\n",
        "                # only n64 ABI is supported for now\n",
        "                _ostype=\"${_ostype}abi64\"\n",
        "                _cputype=$(get_endianness mips64 '' el)\n",
        "            fi\n",
        "            ;;\n",
        "\n",
        "        ppc)\n",
        "            _cputype=powerpc\n",
        "            ;;\n",
        "\n",
        "        ppc64)\n",
        "            _cputype=powerpc64\n",
        "            ;;\n",
        "\n",
        "        ppc64le)\n",
        "            _cputype=powerpc64le\n",
        "            ;;\n",
        "\n",
        "        s390x)\n",
        "            _cputype=s390x\n",
        "            ;;\n",
        "        riscv64)\n",
        "            _cputype=riscv64gc\n",
        "            ;;\n",
        "        *)\n",
        "            err \"unknown CPU type: $_cputype\"\n",
        "\n",
        "    esac\n",
        "\n",
        "    # Detect 64-bit linux with 32-bit userland\n",
        "    if [ \"${_ostype}\" = unknown-linux-gnu ] && [ \"${_bitness}\" -eq 32 ]; then\n",
        "        case $_cputype in\n",
        "            x86_64)\n",
        "                _cputype=i686\n",
        "                ;;\n",
        "            mips64)\n",
        "                _cputype=$(get_endianness mips '' el)\n",
        "                ;;\n",
        "            powerpc64)\n",
        "                _cputype=powerpc\n",
        "                ;;\n",
        "            aarch64)\n",
        "                _cputype=armv7\n",
        "                if [ \"$_ostype\" = \"linux-android\" ]; then\n",
        "                    _ostype=linux-androideabi\n",
        "                else\n",
        "                    _ostype=\"${_ostype}eabihf\"\n",
        "                fi\n",
        "                ;;\n",
        "            riscv64gc)\n",
        "                err \"riscv64 with 32-bit userland unsupported\"\n",
        "                ;;\n",
        "        esac\n",
        "    fi\n",
        "\n",
        "    # Detect armv7 but without the CPU features Rust needs in that build,\n",
        "    # and fall back to arm.\n",
        "    # See https://github.com/rust-lang/rustup.rs/issues/587.\n",
        "    if [ \"$_ostype\" = \"unknown-linux-gnueabihf\" ] && [ \"$_cputype\" = armv7 ]; then\n",
        "        if ensure grep '^Features' /proc/cpuinfo | grep -q -v neon; then\n",
        "            # At least one processor does not have NEON.\n",
        "            _cputype=arm\n",
        "        fi\n",
        "    fi\n",
        "\n",
        "    _arch=\"${_cputype}-${_ostype}\"\n",
        "\n",
        "    RETVAL=\"$_arch\"\n",
        "}\n",
        "\n",
        "say() {\n",
        "    printf 'rustup: %s\\n' \"$1\"\n",
        "}\n",
        "\n",
        "err() {\n",
        "    say \"$1\" >&2\n",
        "    exit 1\n",
        "}\n",
        "\n",
        "need_cmd() {\n",
        "    if ! check_cmd \"$1\"; then\n",
        "        err \"need '$1' (command not found)\"\n",
        "    fi\n",
        "}\n",
        "\n",
        "check_cmd() {\n",
        "    command -v \"$1\" > /dev/null 2>&1\n",
        "}\n",
        "\n",
        "assert_nz() {\n",
        "    if [ -z \"$1\" ]; then err \"assert_nz $2\"; fi\n",
        "}\n",
        "\n",
        "# Run a command that should never fail. If the command fails execution\n",
        "# will immediately terminate with an error showing the failing\n",
        "# command.\n",
        "ensure() {\n",
        "    if ! \"$@\"; then err \"command failed: $*\"; fi\n",
        "}\n",
        "\n",
        "# This is just for indicating that commands' results are being\n",
        "# intentionally ignored. Usually, because it's being executed\n",
        "# as part of error handling.\n",
        "ignore() {\n",
        "    \"$@\"\n",
        "}\n",
        "\n",
        "# This wraps curl or wget. Try curl first, if not installed,\n",
        "# use wget instead.\n",
        "downloader() {\n",
        "    local _dld\n",
        "    local _ciphersuites\n",
        "    if check_cmd curl; then\n",
        "        _dld=curl\n",
        "    elif check_cmd wget; then\n",
        "        _dld=wget\n",
        "    else\n",
        "        _dld='curl or wget' # to be used in error message of need_cmd\n",
        "    fi\n",
        "\n",
        "    if [ \"$1\" = --check ]; then\n",
        "        need_cmd \"$_dld\"\n",
        "    elif [ \"$_dld\" = curl ]; then\n",
        "        get_ciphersuites_for_curl\n",
        "        _ciphersuites=\"$RETVAL\"\n",
        "        if [ -n \"$_ciphersuites\" ]; then\n",
        "            curl --proto '=https' --tlsv1.2 --ciphers \"$_ciphersuites\" --silent --show-error --fail --location \"$1\" --output \"$2\"\n",
        "        else\n",
        "            echo \"Warning: Not enforcing strong cipher suites for TLS, this is potentially less secure\"\n",
        "            if ! check_help_for \"$3\" curl --proto --tlsv1.2; then\n",
        "                echo \"Warning: Not enforcing TLS v1.2, this is potentially less secure\"\n",
        "                curl --silent --show-error --fail --location \"$1\" --output \"$2\"\n",
        "            else\n",
        "                curl --proto '=https' --tlsv1.2 --silent --show-error --fail --location \"$1\" --output \"$2\"\n",
        "            fi\n",
        "        fi\n",
        "    elif [ \"$_dld\" = wget ]; then\n",
        "        get_ciphersuites_for_wget\n",
        "        _ciphersuites=\"$RETVAL\"\n",
        "        if [ -n \"$_ciphersuites\" ]; then\n",
        "            wget --https-only --secure-protocol=TLSv1_2 --ciphers \"$_ciphersuites\" \"$1\" -O \"$2\"\n",
        "        else\n",
        "            echo \"Warning: Not enforcing strong cipher suites for TLS, this is potentially less secure\"\n",
        "            if ! check_help_for \"$3\" wget --https-only --secure-protocol; then\n",
        "                echo \"Warning: Not enforcing TLS v1.2, this is potentially less secure\"\n",
        "                wget \"$1\" -O \"$2\"\n",
        "            else\n",
        "                wget --https-only --secure-protocol=TLSv1_2 \"$1\" -O \"$2\"\n",
        "            fi\n",
        "        fi\n",
        "    else\n",
        "        err \"Unknown downloader\"   # should not reach here\n",
        "    fi\n",
        "}\n",
        "\n",
        "check_help_for() {\n",
        "    local _arch\n",
        "    local _cmd\n",
        "    local _arg\n",
        "    _arch=\"$1\"\n",
        "    shift\n",
        "    _cmd=\"$1\"\n",
        "    shift\n",
        "\n",
        "    case \"$_arch\" in\n",
        "\n",
        "        # If we're running on OS-X, older than 10.13, then we always\n",
        "        # fail to find these options to force fallback\n",
        "        *darwin*)\n",
        "        if check_cmd sw_vers; then\n",
        "            if [ \"$(sw_vers -productVersion | cut -d. -f2)\" -lt 13 ]; then\n",
        "                # Older than 10.13\n",
        "                echo \"Warning: Detected OS X platform older than 10.13\"\n",
        "                return 1\n",
        "            fi\n",
        "        fi\n",
        "        ;;\n",
        "\n",
        "    esac\n",
        "\n",
        "    for _arg in \"$@\"; do\n",
        "        if ! \"$_cmd\" --help | grep -q -- \"$_arg\"; then\n",
        "            return 1\n",
        "        fi\n",
        "    done\n",
        "\n",
        "    true # not strictly needed\n",
        "}\n",
        "\n",
        "# Return cipher suite string specified by user, otherwise return strong TLS 1.2-1.3 cipher suites\n",
        "# if support by local tools is detected. Detection currently supports these curl backends: \n",
        "# GnuTLS and OpenSSL (possibly also LibreSSL and BoringSSL). Return value can be empty.\n",
        "get_ciphersuites_for_curl() {\n",
        "    if [ -n \"${RUSTUP_TLS_CIPHERSUITES-}\" ]; then\n",
        "        # user specified custom cipher suites, assume they know what they're doing\n",
        "        RETVAL=\"$RUSTUP_TLS_CIPHERSUITES\"\n",
        "        return\n",
        "    fi\n",
        "\n",
        "    local _openssl_syntax=\"no\"\n",
        "    local _gnutls_syntax=\"no\"\n",
        "    local _backend_supported=\"yes\"\n",
        "    if curl -V | grep -q ' OpenSSL/'; then\n",
        "        _openssl_syntax=\"yes\"\n",
        "    elif curl -V | grep -iq ' LibreSSL/'; then\n",
        "        _openssl_syntax=\"yes\"\n",
        "    elif curl -V | grep -iq ' BoringSSL/'; then\n",
        "        _openssl_syntax=\"yes\"\n",
        "    elif curl -V | grep -iq ' GnuTLS/'; then\n",
        "        _gnutls_syntax=\"yes\"\n",
        "    else\n",
        "        _backend_supported=\"no\"\n",
        "    fi\n",
        "\n",
        "    local _args_supported=\"no\"\n",
        "    if [ \"$_backend_supported\" = \"yes\" ]; then\n",
        "        # \"unspecified\" is for arch, allows for possibility old OS using macports, homebrew, etc.\n",
        "        if check_help_for \"notspecified\" \"curl\" \"--tlsv1.2\" \"--ciphers\" \"--proto\"; then\n",
        "            _args_supported=\"yes\"\n",
        "        fi\n",
        "    fi\n",
        "\n",
        "    local _cs=\"\"\n",
        "    if [ \"$_args_supported\" = \"yes\" ]; then\n",
        "        if [ \"$_openssl_syntax\" = \"yes\" ]; then\n",
        "            _cs=$(get_strong_ciphersuites_for \"openssl\")\n",
        "        elif [ \"$_gnutls_syntax\" = \"yes\" ]; then\n",
        "            _cs=$(get_strong_ciphersuites_for \"gnutls\")\n",
        "        fi\n",
        "    fi\n",
        "\n",
        "    RETVAL=\"$_cs\"\n",
        "}\n",
        "\n",
        "# Return cipher suite string specified by user, otherwise return strong TLS 1.2-1.3 cipher suites\n",
        "# if support by local tools is detected. Detection currently supports these wget backends: \n",
        "# GnuTLS and OpenSSL (possibly also LibreSSL and BoringSSL). Return value can be empty.\n",
        "get_ciphersuites_for_wget() {\n",
        "    if [ -n \"${RUSTUP_TLS_CIPHERSUITES-}\" ]; then\n",
        "        # user specified custom cipher suites, assume they know what they're doing\n",
        "        RETVAL=\"$RUSTUP_TLS_CIPHERSUITES\"\n",
        "        return\n",
        "    fi\n",
        "\n",
        "    local _cs=\"\"\n",
        "    if wget -V | grep -q '\\-DHAVE_LIBSSL'; then\n",
        "        # \"unspecified\" is for arch, allows for possibility old OS using macports, homebrew, etc.\n",
        "        if check_help_for \"notspecified\" \"wget\" \"TLSv1_2\" \"--ciphers\" \"--https-only\" \"--secure-protocol\"; then\n",
        "            _cs=$(get_strong_ciphersuites_for \"openssl\")\n",
        "        fi\n",
        "    elif wget -V | grep -q '\\-DHAVE_LIBGNUTLS'; then\n",
        "        # \"unspecified\" is for arch, allows for possibility old OS using macports, homebrew, etc.\n",
        "        if check_help_for \"notspecified\" \"wget\" \"TLSv1_2\" \"--ciphers\" \"--https-only\" \"--secure-protocol\"; then\n",
        "            _cs=$(get_strong_ciphersuites_for \"gnutls\")\n",
        "        fi\n",
        "    fi\n",
        "\n",
        "    RETVAL=\"$_cs\"\n",
        "}\n",
        "\n",
        "# Return strong TLS 1.2-1.3 cipher suites in OpenSSL or GnuTLS syntax. TLS 1.2 \n",
        "# excludes non-ECDHE and non-AEAD cipher suites. DHE is excluded due to bad \n",
        "# DH params often found on servers (see RFC 7919). Sequence matches or is\n",
        "# similar to Firefox 68 ESR with weak cipher suites disabled via about:config.  \n",
        "# $1 must be openssl or gnutls.\n",
        "get_strong_ciphersuites_for() {\n",
        "    if [ \"$1\" = \"openssl\" ]; then\n",
        "        # OpenSSL is forgiving of unknown values, no problems with TLS 1.3 values on versions that don't support it yet.\n",
        "        echo \"TLS_AES_128_GCM_SHA256:TLS_CHACHA20_POLY1305_SHA256:TLS_AES_256_GCM_SHA384:ECDHE-ECDSA-AES128-GCM-SHA256:ECDHE-RSA-AES128-GCM-SHA256:ECDHE-ECDSA-CHACHA20-POLY1305:ECDHE-RSA-CHACHA20-POLY1305:ECDHE-ECDSA-AES256-GCM-SHA384:ECDHE-RSA-AES256-GCM-SHA384\"\n",
        "    elif [ \"$1\" = \"gnutls\" ]; then\n",
        "        # GnuTLS isn't forgiving of unknown values, so this may require a GnuTLS version that supports TLS 1.3 even if wget doesn't.\n",
        "        # Begin with SECURE128 (and higher) then remove/add to build cipher suites. Produces same 9 cipher suites as OpenSSL but in slightly different order.\n",
        "        echo \"SECURE128:-VERS-SSL3.0:-VERS-TLS1.0:-VERS-TLS1.1:-VERS-DTLS-ALL:-CIPHER-ALL:-MAC-ALL:-KX-ALL:+AEAD:+ECDHE-ECDSA:+ECDHE-RSA:+AES-128-GCM:+CHACHA20-POLY1305:+AES-256-GCM\"\n",
        "    fi \n",
        "}\n",
        "\n",
        "main \"$@\" || exit 1"
      ],
      "execution_count": null,
      "outputs": [
        {
          "output_type": "stream",
          "text": [
            "Overwriting sh.rustup.sh\n"
          ],
          "name": "stdout"
        }
      ]
    },
    {
      "cell_type": "code",
      "metadata": {
        "id": "kG_hOOTszcIK"
      },
      "source": [
        "!cd ~/"
      ],
      "execution_count": 4,
      "outputs": []
    },
    {
      "cell_type": "code",
      "metadata": {
        "id": "txRcIGYIzlzR",
        "outputId": "50785d65-a8fe-419b-d31f-a5c295d451f9",
        "colab": {
          "base_uri": "https://localhost:8080/"
        }
      },
      "source": [
        "!cd ./share\n",
        "!ls -la share"
      ],
      "execution_count": 14,
      "outputs": [
        {
          "output_type": "stream",
          "text": [
            "total 24\n",
            "drwx------ 1 root root 4096 Nov 12 17:20 .\n",
            "drwx------ 1 root root 4096 Nov 12 17:20 ..\n",
            "drwx------ 1 root root 4096 Nov 12 17:21 jupyter\n"
          ],
          "name": "stdout"
        }
      ]
    },
    {
      "cell_type": "code",
      "metadata": {
        "id": "dLELZiZQ1HyM",
        "outputId": "3bb014a3-f1c8-4f39-c3ed-4c7ed036da12",
        "colab": {
          "base_uri": "https://localhost:8080/"
        }
      },
      "source": [
        "%env USER=root\n",
        "!curl https://sh.rustup.rs -sSf | sh\n"
      ],
      "execution_count": 17,
      "outputs": [
        {
          "output_type": "stream",
          "text": [
            "env: USER=root\n",
            "\u001b[1minfo:\u001b[0m downloading installer\n",
            "sh: 121: cannot open /dev/tty: No such device or address\n"
          ],
          "name": "stdout"
        }
      ]
    },
    {
      "cell_type": "code",
      "metadata": {
        "id": "GHM9_BfUtlIt",
        "outputId": "0530cec6-aaff-4a8c-8c70-d4f5b746ace8",
        "colab": {
          "base_uri": "https://localhost:8080/"
        }
      },
      "source": [
        "!source sh.rustup.sh"
      ],
      "execution_count": null,
      "outputs": [
        {
          "output_type": "stream",
          "text": [
            "^C\n"
          ],
          "name": "stdout"
        }
      ]
    },
    {
      "cell_type": "code",
      "metadata": {
        "id": "JGj4jhtuv2w0"
      },
      "source": [
        ""
      ],
      "execution_count": null,
      "outputs": []
    },
    {
      "cell_type": "code",
      "metadata": {
        "id": "aPlGKLkbvN0Z",
        "outputId": "60534678-fc28-4e33-edad-950865b73aa1",
        "colab": {
          "base_uri": "https://localhost:8080/"
        }
      },
      "source": [
        "!apt remove rustc\n"
      ],
      "execution_count": null,
      "outputs": [
        {
          "output_type": "stream",
          "text": [
            "Reading package lists... Done\n",
            "Building dependency tree       \n",
            "Reading state information... Done\n",
            "The following packages were automatically installed and are no longer required:\n",
            "  gdb gdbserver libbabeltrace1 libc6-dbg libdw1 libhttp-parser2.7.1 libssh2-1\n",
            "  libstd-rust-1.43 libstd-rust-dev rust-gdb\n",
            "Use 'apt autoremove' to remove them.\n",
            "The following packages will be REMOVED:\n",
            "  cargo rustc\n",
            "0 upgraded, 0 newly installed, 2 to remove and 12 not upgraded.\n",
            "After this operation, 16.6 MB disk space will be freed.\n",
            "(Reading database ... 145343 files and directories currently installed.)\n",
            "Removing cargo (0.44.1-0ubuntu1~18.04.1) ...\n",
            "Removing rustc (1.43.0+dfsg1+llvm-1~exp1ubuntu2~18.04.1) ...\n",
            "Processing triggers for man-db (2.8.3-2ubuntu0.1) ...\n"
          ],
          "name": "stdout"
        }
      ]
    },
    {
      "cell_type": "code",
      "metadata": {
        "id": "OHQmXpflpEDf"
      },
      "source": [
        "!curl --proto '=https' --tlsv1.2 -sSf https://sh.rustup.rs "
      ],
      "execution_count": null,
      "outputs": []
    },
    {
      "cell_type": "code",
      "metadata": {
        "id": "lzqkqfi5wjh_",
        "outputId": "c95c9482-c987-4921-ba90-6df3291c4b33",
        "colab": {
          "base_uri": "https://localhost:8080/"
        }
      },
      "source": [
        "!ls -la /.cargo"
      ],
      "execution_count": null,
      "outputs": [
        {
          "output_type": "stream",
          "text": [
            "ls: cannot access '/.cargo': No such file or directory\n"
          ],
          "name": "stdout"
        }
      ]
    },
    {
      "cell_type": "code",
      "metadata": {
        "id": "D0LUqMYq8kv8",
        "outputId": "5b698624-9284-4574-be80-b18bc4e9d769",
        "colab": {
          "base_uri": "https://localhost:8080/"
        }
      },
      "source": [
        "# インストールの確認\n",
        "!rustc --version"
      ],
      "execution_count": null,
      "outputs": [
        {
          "output_type": "stream",
          "text": [
            "rustc 1.43.0\n"
          ],
          "name": "stdout"
        }
      ]
    },
    {
      "cell_type": "code",
      "metadata": {
        "id": "L7OQbOxm9KcA",
        "outputId": "fbb5070e-e7e2-4801-f16e-0210f608144b",
        "colab": {
          "base_uri": "https://localhost:8080/"
        }
      },
      "source": [
        "# プログラムを書く\n",
        "%%writefile main.rs\n",
        "fn main() {\n",
        "    println!(\"Hello, world!\");\n",
        "}"
      ],
      "execution_count": null,
      "outputs": [
        {
          "output_type": "stream",
          "text": [
            "Overwriting main.rs\n"
          ],
          "name": "stdout"
        }
      ]
    },
    {
      "cell_type": "code",
      "metadata": {
        "id": "cp18zfSS9RtH",
        "outputId": "9f762ef4-80bd-43e9-bead-def8d40dd86f",
        "colab": {
          "base_uri": "https://localhost:8080/"
        }
      },
      "source": [
        "# コンパイルして実行\n",
        "!rustc main.rs\n",
        "!./main"
      ],
      "execution_count": null,
      "outputs": [
        {
          "output_type": "stream",
          "text": [
            "Hello, world!\n"
          ],
          "name": "stdout"
        }
      ]
    },
    {
      "cell_type": "code",
      "metadata": {
        "id": "PY9qPxXX-Vjn",
        "outputId": "6216695d-8001-4f63-936a-74f24e904325",
        "colab": {
          "base_uri": "https://localhost:8080/"
        }
      },
      "source": [
        "# 実験\n",
        "# 名前を変えてみる\n",
        "%%writefile hoge.rs\n",
        "fn main() {\n",
        "    println!(\"hoge, world!\");\n",
        "}"
      ],
      "execution_count": null,
      "outputs": [
        {
          "output_type": "stream",
          "text": [
            "Overwriting hoge.rs\n"
          ],
          "name": "stdout"
        }
      ]
    },
    {
      "cell_type": "code",
      "metadata": {
        "id": "IVt3jzA7jXiu",
        "outputId": "a4433846-c3ce-4058-876f-1955304b7eed",
        "colab": {
          "base_uri": "https://localhost:8080/"
        }
      },
      "source": [
        "# 実験\n",
        "# 1行でコンパイルして、実行\n",
        "!rustc hoge.rs; ./hoge"
      ],
      "execution_count": null,
      "outputs": [
        {
          "output_type": "stream",
          "text": [
            "hoge, world!\n"
          ],
          "name": "stdout"
        }
      ]
    },
    {
      "cell_type": "markdown",
      "metadata": {
        "id": "pAqxIySQ7GiU"
      },
      "source": [
        "# テュートリアルより\n",
        "\n"
      ]
    },
    {
      "cell_type": "code",
      "metadata": {
        "id": "wmYAtznw7WSe"
      },
      "source": [
        "# テュートリアルより最初の課題\n",
        "# 次のような動作をするgrrsをつくる。\n",
        "\n",
        "# $ cat test.txt\n",
        "# foo: 10\n",
        "# bar: 20\n",
        "# baz: 30\n",
        "# $ grrs foo test.txt\n",
        "# foo: 10\n",
        "# $ grrs --help\n",
        "# [some help text explaining the available options]\n"
      ],
      "execution_count": null,
      "outputs": []
    },
    {
      "cell_type": "code",
      "metadata": {
        "id": "Z9u503QJ7NZQ",
        "outputId": "5d269d4e-457f-41d0-f3be-f1226109d712",
        "colab": {
          "base_uri": "https://localhost:8080/"
        }
      },
      "source": [
        "%%writefile grrs01.rs\n",
        "fn main() {\n",
        "    let pattern = std::env::args().nth(1).expect(\"no pattern given\");\n",
        "    let path = std::env::args().nth(2).expect(\"no path given\");\n",
        "}"
      ],
      "execution_count": null,
      "outputs": [
        {
          "output_type": "stream",
          "text": [
            "Writing grrs01.rs\n"
          ],
          "name": "stdout"
        }
      ]
    },
    {
      "cell_type": "code",
      "metadata": {
        "id": "EPeu_cRi71__"
      },
      "source": [
        "# 実験\n",
        "!rustc grrs01.rs\n",
        "!./grrs01"
      ],
      "execution_count": null,
      "outputs": []
    },
    {
      "cell_type": "code",
      "metadata": {
        "id": "p7dxeUrLO3Xu",
        "outputId": "889c6a23-1247-42b5-de29-ca9653230403",
        "colab": {
          "base_uri": "https://localhost:8080/"
        }
      },
      "source": [
        "%env USER=root\n",
        "!cargo init"
      ],
      "execution_count": null,
      "outputs": [
        {
          "output_type": "stream",
          "text": [
            "env: USER=root\n",
            "\u001b[0m\u001b[0m\u001b[1m\u001b[31merror\u001b[0m\u001b[1m:\u001b[0m `cargo init` cannot be run on existing Cargo packages\n"
          ],
          "name": "stdout"
        }
      ]
    },
    {
      "cell_type": "code",
      "metadata": {
        "id": "E4RVJOPCRThK",
        "outputId": "ade98bed-623d-4f75-cbb3-16323f5621ca",
        "colab": {
          "base_uri": "https://localhost:8080/"
        }
      },
      "source": [
        "!cat Cargo.toml"
      ],
      "execution_count": null,
      "outputs": [
        {
          "output_type": "stream",
          "text": [
            "[package]\n",
            "name = \"content\"\n",
            "version = \"0.1.0\"\n",
            "authors = [\"root\"]\n",
            "edition = \"2018\"\n",
            "\n",
            "# See more keys and their definitions at https://doc.rust-lang.org/cargo/reference/manifest.html\n",
            "\n",
            "[dependencies]\n",
            "structopt = \"0.3.13\"\n",
            "\n",
            "[[bin]]\n",
            "name = \"content\"\n",
            "path = \"main.rs\""
          ],
          "name": "stdout"
        }
      ]
    },
    {
      "cell_type": "code",
      "metadata": {
        "id": "f4T2MtJETNLB",
        "outputId": "250c7701-9c32-47fb-aac7-f8341d5200b7",
        "colab": {
          "base_uri": "https://localhost:8080/"
        }
      },
      "source": [
        "%%writefile Cargo.toml\n",
        "[package]\n",
        "name = \"content\"\n",
        "version = \"0.1.0\"\n",
        "authors = [\"root\"]\n",
        "edition = \"2018\"\n",
        "\n",
        "# See more keys and their definitions at https://doc.rust-lang.org/cargo/reference/manifest.html\n",
        "\n",
        "[dependencies]\n",
        "structopt = \"0.3.13\"\n",
        "\n",
        "[[bin]]\n",
        "name = \"content\"\n",
        "path = \"main.rs\""
      ],
      "execution_count": 28,
      "outputs": [
        {
          "output_type": "stream",
          "text": [
            "Writing Cargo.toml\n"
          ],
          "name": "stdout"
        }
      ]
    },
    {
      "cell_type": "code",
      "metadata": {
        "id": "dpsoBNwA8iPv",
        "outputId": "1021fd42-42d6-4731-be80-a01ffbd6b03d",
        "colab": {
          "base_uri": "https://localhost:8080/"
        }
      },
      "source": [
        "%%writefile main.rs\n",
        "use structopt::StructOpt;\n",
        "\n",
        "/// Search for a pattern in a file and display the lines that contain it.\n",
        "#[derive(StructOpt)]\n",
        "struct Cli {\n",
        "    /// The pattern to look for\n",
        "    pattern: String,\n",
        "    /// The path to the file to read\n",
        "    #[structopt(parse(from_os_str))]\n",
        "    path: std::path::PathBuf,\n",
        "}\n",
        "\n",
        "fn main() {\n",
        "    let pattern = std::env::args().nth(1).expect(\"no pattern given\");\n",
        "    let path = std::env::args().nth(2).expect(\"no path given\");\n",
        "}"
      ],
      "execution_count": null,
      "outputs": [
        {
          "output_type": "stream",
          "text": [
            "Overwriting main.rs\n"
          ],
          "name": "stdout"
        }
      ]
    },
    {
      "cell_type": "code",
      "metadata": {
        "id": "8AmSOcgvTmP1",
        "outputId": "dd993311-b834-4b20-de94-5aea15f53d0c",
        "colab": {
          "base_uri": "https://localhost:8080/"
        }
      },
      "source": [
        "!rustc main.rs\n",
        "!./main"
      ],
      "execution_count": null,
      "outputs": [
        {
          "output_type": "stream",
          "text": [
            "\u001b[0m\u001b[1m\u001b[38;5;9merror[E0432]\u001b[0m\u001b[0m\u001b[1m: unresolved import `structopt`\u001b[0m\n",
            "\u001b[0m \u001b[0m\u001b[0m\u001b[1m\u001b[38;5;12m--> \u001b[0m\u001b[0mmain.rs:1:5\u001b[0m\n",
            "\u001b[0m  \u001b[0m\u001b[0m\u001b[1m\u001b[38;5;12m|\u001b[0m\n",
            "\u001b[0m\u001b[1m\u001b[38;5;12m1\u001b[0m\u001b[0m \u001b[0m\u001b[0m\u001b[1m\u001b[38;5;12m| \u001b[0m\u001b[0muse structopt::StructOpt;\u001b[0m\n",
            "\u001b[0m  \u001b[0m\u001b[0m\u001b[1m\u001b[38;5;12m| \u001b[0m\u001b[0m    \u001b[0m\u001b[0m\u001b[1m\u001b[38;5;9m^^^^^^^^^\u001b[0m\u001b[0m \u001b[0m\u001b[0m\u001b[1m\u001b[38;5;9mmaybe a missing crate `structopt`?\u001b[0m\n",
            "\n",
            "\u001b[0m\u001b[1m\u001b[38;5;9merror\u001b[0m\u001b[0m\u001b[1m: cannot determine resolution for the derive macro `StructOpt`\u001b[0m\n",
            "\u001b[0m \u001b[0m\u001b[0m\u001b[1m\u001b[38;5;12m--> \u001b[0m\u001b[0mmain.rs:4:10\u001b[0m\n",
            "\u001b[0m  \u001b[0m\u001b[0m\u001b[1m\u001b[38;5;12m|\u001b[0m\n",
            "\u001b[0m\u001b[1m\u001b[38;5;12m4\u001b[0m\u001b[0m \u001b[0m\u001b[0m\u001b[1m\u001b[38;5;12m| \u001b[0m\u001b[0m#[derive(StructOpt)]\u001b[0m\n",
            "\u001b[0m  \u001b[0m\u001b[0m\u001b[1m\u001b[38;5;12m| \u001b[0m\u001b[0m         \u001b[0m\u001b[0m\u001b[1m\u001b[38;5;9m^^^^^^^^^\u001b[0m\n",
            "\u001b[0m  \u001b[0m\u001b[0m\u001b[1m\u001b[38;5;12m|\u001b[0m\n",
            "\u001b[0m  \u001b[0m\u001b[0m\u001b[1m\u001b[38;5;12m= \u001b[0m\u001b[0m\u001b[1mnote\u001b[0m\u001b[0m: import resolution is stuck, try simplifying macro imports\u001b[0m\n",
            "\n",
            "\u001b[0m\u001b[1m\u001b[38;5;9merror\u001b[0m\u001b[0m\u001b[1m: cannot find attribute `structopt` in this scope\u001b[0m\n",
            "\u001b[0m \u001b[0m\u001b[0m\u001b[1m\u001b[38;5;12m--> \u001b[0m\u001b[0mmain.rs:9:7\u001b[0m\n",
            "\u001b[0m  \u001b[0m\u001b[0m\u001b[1m\u001b[38;5;12m|\u001b[0m\n",
            "\u001b[0m\u001b[1m\u001b[38;5;12m9\u001b[0m\u001b[0m \u001b[0m\u001b[0m\u001b[1m\u001b[38;5;12m| \u001b[0m\u001b[0m    #[structopt(parse(from_os_str))]\u001b[0m\n",
            "\u001b[0m  \u001b[0m\u001b[0m\u001b[1m\u001b[38;5;12m| \u001b[0m\u001b[0m      \u001b[0m\u001b[0m\u001b[1m\u001b[38;5;9m^^^^^^^^^\u001b[0m\n",
            "\n",
            "\u001b[0m\u001b[1m\u001b[38;5;9merror\u001b[0m\u001b[0m\u001b[1m: aborting due to 3 previous errors\u001b[0m\n",
            "\n",
            "\u001b[0m\u001b[1mFor more information about this error, try `rustc --explain E0432`.\u001b[0m\n",
            "Hello, world!\n"
          ],
          "name": "stdout"
        }
      ]
    },
    {
      "cell_type": "code",
      "metadata": {
        "id": "kqAhd8wpWR3B",
        "outputId": "31b78b9f-a537-4866-ae10-4423d64d77c9",
        "colab": {
          "base_uri": "https://localhost:8080/"
        }
      },
      "source": [
        "!ls -la\n"
      ],
      "execution_count": null,
      "outputs": [
        {
          "output_type": "stream",
          "text": [
            "total 21284\n",
            "drwxr-xr-x 1 root root    4096 Nov 13 11:09 .\n",
            "drwxr-xr-x 1 root root    4096 Nov 13 01:43 ..\n",
            "-rw-r--r-- 1 root root     258 Nov 13 11:11 Cargo.toml\n",
            "drwxr-xr-x 1 root root    4096 Nov  6 17:30 .config\n",
            "drwxr-xr-x 6 root root    4096 Nov 13 10:52 .git\n",
            "-rw-r--r-- 1 root root     540 Nov 13 11:09 .gitignore\n",
            "-rwxr-xr-x 1 root root 7252344 Nov 13 09:30 grrs01\n",
            "-rw-r--r-- 1 root root     448 Nov 13 11:21 grrs01.rs\n",
            "-rwxr-xr-x 1 root root 7248808 Nov 13 09:22 hoge\n",
            "-rw-r--r-- 1 root root      43 Nov 13 09:21 hoge.rs\n",
            "-rwxr-xr-x 1 root root 7248808 Nov 13 09:21 main\n",
            "-rw-r--r-- 1 root root      44 Nov 13 09:21 main.rs\n",
            "drwxr-xr-x 1 root root    4096 Nov  6 17:30 sample_data\n"
          ],
          "name": "stdout"
        }
      ]
    },
    {
      "cell_type": "code",
      "metadata": {
        "id": "4hMumAYeXpbP",
        "outputId": "7d723199-ec14-4ed9-964e-9cb7774e08b9",
        "colab": {
          "base_uri": "https://localhost:8080/"
        }
      },
      "source": [
        "# %%capture\n",
        "!apt install rustc --fix-missing"
      ],
      "execution_count": 24,
      "outputs": [
        {
          "output_type": "stream",
          "text": [
            "Reading package lists... Done\n",
            "Building dependency tree       \n",
            "Reading state information... Done\n",
            "The following additional packages will be installed:\n",
            "  cargo gdb gdbserver libbabeltrace1 libc6-dbg libdw1 libhttp-parser2.7.1\n",
            "  libssh2-1 libstd-rust-1.43 libstd-rust-dev rust-gdb\n",
            "Suggested packages:\n",
            "  cargo-doc gdb-doc rust-doc rust-src lld-9\n",
            "The following NEW packages will be installed:\n",
            "  cargo gdb gdbserver libbabeltrace1 libc6-dbg libdw1 libhttp-parser2.7.1\n",
            "  libssh2-1 libstd-rust-1.43 libstd-rust-dev rust-gdb rustc\n",
            "0 upgraded, 12 newly installed, 0 to remove and 12 not upgraded.\n",
            "Need to get 3,220 kB/87.3 MB of archives.\n",
            "After this operation, 358 MB of additional disk space will be used.\n",
            "Err:1 http://archive.ubuntu.com/ubuntu bionic-updates/main amd64 gdb amd64 8.1-0ubuntu3.2\n",
            "  404  Not Found [IP: 91.189.88.152 80]\n",
            "Err:2 http://archive.ubuntu.com/ubuntu bionic-updates/main amd64 gdbserver amd64 8.1-0ubuntu3.2\n",
            "  404  Not Found [IP: 91.189.88.152 80]\n",
            "Selecting previously unselected package libdw1:amd64.\n",
            "(Reading database ... 144786 files and directories currently installed.)\n",
            "Preparing to unpack .../0-libdw1_0.170-0.4ubuntu0.1_amd64.deb ...\n",
            "Unpacking libdw1:amd64 (0.170-0.4ubuntu0.1) ...\n",
            "Selecting previously unselected package libssh2-1:amd64.\n",
            "Preparing to unpack .../1-libssh2-1_1.8.0-1_amd64.deb ...\n",
            "Unpacking libssh2-1:amd64 (1.8.0-1) ...\n",
            "Selecting previously unselected package libstd-rust-1.43:amd64.\n",
            "Preparing to unpack .../2-libstd-rust-1.43_1.43.0+dfsg1+llvm-1~exp1ubuntu2~18.04.1_amd64.deb ...\n",
            "Unpacking libstd-rust-1.43:amd64 (1.43.0+dfsg1+llvm-1~exp1ubuntu2~18.04.1) ...\n",
            "Selecting previously unselected package libhttp-parser2.7.1:amd64.\n",
            "Preparing to unpack .../3-libhttp-parser2.7.1_2.7.1-2_amd64.deb ...\n",
            "Unpacking libhttp-parser2.7.1:amd64 (2.7.1-2) ...\n",
            "Selecting previously unselected package libstd-rust-dev:amd64.\n",
            "Preparing to unpack .../4-libstd-rust-dev_1.43.0+dfsg1+llvm-1~exp1ubuntu2~18.04.1_amd64.deb ...\n",
            "Unpacking libstd-rust-dev:amd64 (1.43.0+dfsg1+llvm-1~exp1ubuntu2~18.04.1) ...\n",
            "Selecting previously unselected package rustc.\n",
            "Preparing to unpack .../5-rustc_1.43.0+dfsg1+llvm-1~exp1ubuntu2~18.04.1_amd64.deb ...\n",
            "Unpacking rustc (1.43.0+dfsg1+llvm-1~exp1ubuntu2~18.04.1) ...\n",
            "Selecting previously unselected package cargo.\n",
            "Preparing to unpack .../6-cargo_0.44.1-0ubuntu1~18.04.1_amd64.deb ...\n",
            "Unpacking cargo (0.44.1-0ubuntu1~18.04.1) ...\n",
            "Selecting previously unselected package libbabeltrace1:amd64.\n",
            "Preparing to unpack .../7-libbabeltrace1_1.5.5-1_amd64.deb ...\n",
            "Unpacking libbabeltrace1:amd64 (1.5.5-1) ...\n",
            "Selecting previously unselected package libc6-dbg:amd64.\n",
            "Preparing to unpack .../8-libc6-dbg_2.27-3ubuntu1.3_amd64.deb ...\n",
            "Unpacking libc6-dbg:amd64 (2.27-3ubuntu1.3) ...\n",
            "Setting up libhttp-parser2.7.1:amd64 (2.7.1-2) ...\n",
            "Setting up libc6-dbg:amd64 (2.27-3ubuntu1.3) ...\n",
            "Setting up libdw1:amd64 (0.170-0.4ubuntu0.1) ...\n",
            "Setting up libssh2-1:amd64 (1.8.0-1) ...\n",
            "Setting up libstd-rust-1.43:amd64 (1.43.0+dfsg1+llvm-1~exp1ubuntu2~18.04.1) ...\n",
            "Setting up libbabeltrace1:amd64 (1.5.5-1) ...\n",
            "Setting up libstd-rust-dev:amd64 (1.43.0+dfsg1+llvm-1~exp1ubuntu2~18.04.1) ...\n",
            "Setting up rustc (1.43.0+dfsg1+llvm-1~exp1ubuntu2~18.04.1) ...\n",
            "Setting up cargo (0.44.1-0ubuntu1~18.04.1) ...\n",
            "Processing triggers for libc-bin (2.27-3ubuntu1.2) ...\n",
            "/sbin/ldconfig.real: /usr/local/lib/python3.6/dist-packages/ideep4py/lib/libmkldnn.so.0 is not a symbolic link\n",
            "\n",
            "Processing triggers for man-db (2.8.3-2ubuntu0.1) ...\n",
            "E: Failed to fetch http://archive.ubuntu.com/ubuntu/pool/main/g/gdb/gdb_8.1-0ubuntu3.2_amd64.deb  404  Not Found [IP: 91.189.88.152 80]\n",
            "E: Failed to fetch http://archive.ubuntu.com/ubuntu/pool/main/g/gdb/gdbserver_8.1-0ubuntu3.2_amd64.deb  404  Not Found [IP: 91.189.88.152 80]\n"
          ],
          "name": "stdout"
        }
      ]
    },
    {
      "cell_type": "code",
      "metadata": {
        "id": "Wngf4SP4XxeI",
        "outputId": "74b9cf25-5af6-4f37-d28e-b7e783058cae",
        "colab": {
          "base_uri": "https://localhost:8080/"
        }
      },
      "source": [
        "!rustc --version"
      ],
      "execution_count": 25,
      "outputs": [
        {
          "output_type": "stream",
          "text": [
            "rustc 1.43.0\n"
          ],
          "name": "stdout"
        }
      ]
    },
    {
      "cell_type": "code",
      "metadata": {
        "id": "IHQ6jV30YXQu",
        "outputId": "9c81b808-4aff-44e5-9997-23961e598ac8",
        "colab": {
          "base_uri": "https://localhost:8080/"
        }
      },
      "source": [
        "!cargo --version"
      ],
      "execution_count": 26,
      "outputs": [
        {
          "output_type": "stream",
          "text": [
            "cargo 1.43.0\n"
          ],
          "name": "stdout"
        }
      ]
    },
    {
      "cell_type": "code",
      "metadata": {
        "id": "7a7KNyGWXmwk",
        "outputId": "33b92c69-4bb4-46cc-9f87-bb44516449e4",
        "colab": {
          "base_uri": "https://localhost:8080/"
        }
      },
      "source": [
        "!cargo install structopt"
      ],
      "execution_count": 35,
      "outputs": [
        {
          "output_type": "stream",
          "text": [
            "\u001b[0m\u001b[0m\u001b[1m\u001b[32m    Updating\u001b[0m crates.io index\n",
            "\u001b[0m\u001b[0m\u001b[1m\u001b[31merror\u001b[0m\u001b[1m:\u001b[0m specified package `structopt v0.3.20` has no binaries\n"
          ],
          "name": "stdout"
        }
      ]
    },
    {
      "cell_type": "code",
      "metadata": {
        "id": "rhUch2pkkPpK",
        "outputId": "605fd1b2-8830-45be-f048-82af79d8d101",
        "colab": {
          "base_uri": "https://localhost:8080/"
        }
      },
      "source": [
        "!cargo build\n"
      ],
      "execution_count": 37,
      "outputs": [
        {
          "output_type": "stream",
          "text": [
            "\u001b[0m\u001b[0m\u001b[1m\u001b[32m    Updating\u001b[0m crates.io index\n",
            "\u001b[0m\u001b[0m\u001b[1m\u001b[32m Downloading\u001b[0m crates ...\n",
            "\u001b[0m\u001b[0m\u001b[1m\u001b[32m  Downloaded\u001b[0m clap v2.33.3\n",
            "\u001b[0m\u001b[0m\u001b[1m\u001b[32m  Downloaded\u001b[0m structopt-derive v0.4.13\n",
            "\u001b[0m\u001b[0m\u001b[1m\u001b[32m  Downloaded\u001b[0m lazy_static v1.4.0\n",
            "\u001b[0m\u001b[0m\u001b[1m\u001b[32m  Downloaded\u001b[0m atty v0.2.14\n",
            "\u001b[0m\u001b[0m\u001b[1m\u001b[32m  Downloaded\u001b[0m bitflags v1.2.1\n",
            "\u001b[0m\u001b[0m\u001b[1m\u001b[32m  Downloaded\u001b[0m vec_map v0.8.2\n",
            "\u001b[0m\u001b[0m\u001b[1m\u001b[32m  Downloaded\u001b[0m textwrap v0.11.0\n",
            "\u001b[0m\u001b[0m\u001b[1m\u001b[32m  Downloaded\u001b[0m strsim v0.8.0\n",
            "\u001b[0m\u001b[0m\u001b[1m\u001b[32m  Downloaded\u001b[0m ansi_term v0.11.0\n",
            "\u001b[0m\u001b[0m\u001b[1m\u001b[32m  Downloaded\u001b[0m proc-macro2 v1.0.24\n",
            "\u001b[0m\u001b[0m\u001b[1m\u001b[32m  Downloaded\u001b[0m syn v1.0.48\n",
            "\u001b[0m\u001b[0m\u001b[1m\u001b[32m  Downloaded\u001b[0m quote v1.0.7\n",
            "\u001b[0m\u001b[0m\u001b[1m\u001b[32m  Downloaded\u001b[0m libc v0.2.80\n",
            "\u001b[0m\u001b[0m\u001b[1m\u001b[32m  Downloaded\u001b[0m proc-macro-error v1.0.4\n",
            "\u001b[0m\u001b[0m\u001b[1m\u001b[32m  Downloaded\u001b[0m heck v0.3.1\n",
            "\u001b[0m\u001b[0m\u001b[1m\u001b[32m  Downloaded\u001b[0m unicode-xid v0.2.1\n",
            "\u001b[0m\u001b[0m\u001b[1m\u001b[32m  Downloaded\u001b[0m version_check v0.9.2\n",
            "\u001b[0m\u001b[0m\u001b[1m\u001b[32m  Downloaded\u001b[0m unicode-segmentation v1.7.0\n",
            "\u001b[0m\u001b[0m\u001b[1m\u001b[32m  Downloaded\u001b[0m proc-macro-error-attr v1.0.4\n",
            "\u001b[0m\u001b[0m\u001b[1m\u001b[32m  Downloaded\u001b[0m unicode-width v0.1.8\n",
            "\u001b[0m\u001b[0m\u001b[1m\u001b[32m   Compiling\u001b[0m proc-macro2 v1.0.24\n",
            "\u001b[0m\u001b[0m\u001b[1m\u001b[32m   Compiling\u001b[0m version_check v0.9.2\n",
            "\u001b[0m\u001b[0m\u001b[1m\u001b[32m   Compiling\u001b[0m unicode-xid v0.2.1\n",
            "\u001b[0m\u001b[0m\u001b[1m\u001b[32m   Compiling\u001b[0m libc v0.2.80\n",
            "\u001b[0m\u001b[0m\u001b[1m\u001b[32m   Compiling\u001b[0m syn v1.0.48\n",
            "\u001b[0m\u001b[0m\u001b[1m\u001b[32m   Compiling\u001b[0m bitflags v1.2.1\n",
            "\u001b[0m\u001b[0m\u001b[1m\u001b[32m   Compiling\u001b[0m unicode-width v0.1.8\n",
            "\u001b[0m\u001b[0m\u001b[1m\u001b[32m   Compiling\u001b[0m unicode-segmentation v1.7.0\n",
            "\u001b[0m\u001b[0m\u001b[1m\u001b[32m   Compiling\u001b[0m ansi_term v0.11.0\n",
            "\u001b[0m\u001b[0m\u001b[1m\u001b[32m   Compiling\u001b[0m vec_map v0.8.2\n",
            "\u001b[0m\u001b[0m\u001b[1m\u001b[32m   Compiling\u001b[0m strsim v0.8.0\n",
            "\u001b[0m\u001b[0m\u001b[1m\u001b[32m   Compiling\u001b[0m lazy_static v1.4.0\n",
            "\u001b[0m\u001b[0m\u001b[1m\u001b[32m   Compiling\u001b[0m proc-macro-error-attr v1.0.4\n",
            "\u001b[0m\u001b[0m\u001b[1m\u001b[32m   Compiling\u001b[0m proc-macro-error v1.0.4\n",
            "\u001b[0m\u001b[0m\u001b[1m\u001b[32m   Compiling\u001b[0m textwrap v0.11.0\n",
            "\u001b[0m\u001b[0m\u001b[1m\u001b[32m   Compiling\u001b[0m heck v0.3.1\n",
            "\u001b[0m\u001b[0m\u001b[1m\u001b[32m   Compiling\u001b[0m quote v1.0.7\n",
            "\u001b[0m\u001b[0m\u001b[1m\u001b[32m   Compiling\u001b[0m atty v0.2.14\n",
            "\u001b[0m\u001b[0m\u001b[1m\u001b[32m   Compiling\u001b[0m clap v2.33.3\n",
            "\u001b[0m\u001b[0m\u001b[1m\u001b[32m   Compiling\u001b[0m structopt-derive v0.4.13\n",
            "\u001b[0m\u001b[0m\u001b[1m\u001b[32m   Compiling\u001b[0m structopt v0.3.20\n",
            "\u001b[0m\u001b[0m\u001b[1m\u001b[32m   Compiling\u001b[0m content v0.1.0 (/root/.local)\n",
            "\u001b[0m\u001b[1m\u001b[38;5;9merror\u001b[0m\u001b[0m\u001b[1m: couldn't read main.rs: No such file or directory (os error 2)\u001b[0m\n",
            "\n",
            "\u001b[0m\u001b[1m\u001b[38;5;9merror\u001b[0m\u001b[0m\u001b[1m: aborting due to previous error\u001b[0m\n",
            "\n",
            "\u001b[0m\u001b[0m\u001b[1m\u001b[31merror\u001b[0m\u001b[1m:\u001b[0m could not compile `content`.\n",
            "\n",
            "To learn more, run the command again with --verbose.\n"
          ],
          "name": "stdout"
        }
      ]
    },
    {
      "cell_type": "markdown",
      "metadata": {
        "id": "hUHwGmzBkqUF"
      },
      "source": [
        "!cargo build\n",
        "したところ\n",
        "error: couldn't read main.rs: No such file or directory (os error 2)\n",
        "\n",
        "error: aborting due to previous error\n",
        "\n",
        "error: could not compile `content`.\n",
        "となった。\n",
        "やはり main.rsである必要はあるみたい。\n",
        "content\n",
        "関係はまだわからない。"
      ]
    },
    {
      "cell_type": "code",
      "metadata": {
        "id": "Un2CKIIbY8ZT"
      },
      "source": [
        ""
      ],
      "execution_count": null,
      "outputs": []
    }
  ]
}