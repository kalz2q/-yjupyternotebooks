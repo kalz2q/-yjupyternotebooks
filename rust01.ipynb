{
  "nbformat": 4,
  "nbformat_minor": 0,
  "metadata": {
    "colab": {
      "name": "rust01.ipynb",
      "provenance": [],
      "authorship_tag": "ABX9TyPo5mVHhLxyewSF9Wa5vjdd",
      "include_colab_link": true
    },
    "kernelspec": {
      "name": "python3",
      "display_name": "Python 3"
    }
  },
  "cells": [
    {
      "cell_type": "markdown",
      "metadata": {
        "id": "view-in-github",
        "colab_type": "text"
      },
      "source": [
        "<a href=\"https://colab.research.google.com/github/kalz2q/mycolabnotebooks/blob/master/rust01.ipynb\" target=\"_parent\"><img src=\"https://colab.research.google.com/assets/colab-badge.svg\" alt=\"Open In Colab\"/></a>"
      ]
    },
    {
      "cell_type": "markdown",
      "metadata": {
        "id": "Z5PU-iNA6q3p"
      },
      "source": [
        "# メモ\n",
        "\n",
        "1. Colab で実行しながら読まれることを想定している。\n",
        "1. Rust の勉強\n",
        "1. 資料は本家のテュートリアル https://rust-cli.github.io/book/index.html"
      ]
    },
    {
      "cell_type": "markdown",
      "metadata": {
        "id": "NfI_Y6uw54N9"
      },
      "source": [
        "# Rust をインストールする"
      ]
    },
    {
      "cell_type": "code",
      "metadata": {
        "id": "NqpdnM0vvX1F"
      },
      "source": [
        "# Rust をインストールする\n",
        "%%capture\n",
        "!apt install rustc;"
      ],
      "execution_count": 18,
      "outputs": []
    },
    {
      "cell_type": "code",
      "metadata": {
        "id": "D0LUqMYq8kv8",
        "outputId": "5b698624-9284-4574-be80-b18bc4e9d769",
        "colab": {
          "base_uri": "https://localhost:8080/"
        }
      },
      "source": [
        "# インストールの確認\n",
        "!rustc --version"
      ],
      "execution_count": 19,
      "outputs": [
        {
          "output_type": "stream",
          "text": [
            "rustc 1.43.0\n"
          ],
          "name": "stdout"
        }
      ]
    },
    {
      "cell_type": "code",
      "metadata": {
        "id": "L7OQbOxm9KcA",
        "outputId": "fbb5070e-e7e2-4801-f16e-0210f608144b",
        "colab": {
          "base_uri": "https://localhost:8080/"
        }
      },
      "source": [
        "# プログラムを書く\n",
        "%%writefile main.rs\n",
        "fn main() {\n",
        "    println!(\"Hello, world!\");\n",
        "}"
      ],
      "execution_count": 20,
      "outputs": [
        {
          "output_type": "stream",
          "text": [
            "Overwriting main.rs\n"
          ],
          "name": "stdout"
        }
      ]
    },
    {
      "cell_type": "code",
      "metadata": {
        "id": "cp18zfSS9RtH",
        "outputId": "9f762ef4-80bd-43e9-bead-def8d40dd86f",
        "colab": {
          "base_uri": "https://localhost:8080/"
        }
      },
      "source": [
        "# コンパイルして実行\n",
        "!rustc main.rs\n",
        "!./main"
      ],
      "execution_count": 21,
      "outputs": [
        {
          "output_type": "stream",
          "text": [
            "Hello, world!\n"
          ],
          "name": "stdout"
        }
      ]
    },
    {
      "cell_type": "code",
      "metadata": {
        "id": "PY9qPxXX-Vjn",
        "outputId": "6216695d-8001-4f63-936a-74f24e904325",
        "colab": {
          "base_uri": "https://localhost:8080/"
        }
      },
      "source": [
        "# 実験\n",
        "# 名前を変えてみる\n",
        "%%writefile hoge.rs\n",
        "fn main() {\n",
        "    println!(\"hoge, world!\");\n",
        "}"
      ],
      "execution_count": 22,
      "outputs": [
        {
          "output_type": "stream",
          "text": [
            "Overwriting hoge.rs\n"
          ],
          "name": "stdout"
        }
      ]
    },
    {
      "cell_type": "code",
      "metadata": {
        "id": "IVt3jzA7jXiu",
        "outputId": "a4433846-c3ce-4058-876f-1955304b7eed",
        "colab": {
          "base_uri": "https://localhost:8080/"
        }
      },
      "source": [
        "# 実験\n",
        "# 1行でコンパイルして、実行\n",
        "!rustc hoge.rs; ./hoge"
      ],
      "execution_count": 23,
      "outputs": [
        {
          "output_type": "stream",
          "text": [
            "hoge, world!\n"
          ],
          "name": "stdout"
        }
      ]
    },
    {
      "cell_type": "markdown",
      "metadata": {
        "id": "pAqxIySQ7GiU"
      },
      "source": [
        "# テュートリアルより\n",
        "\n"
      ]
    },
    {
      "cell_type": "code",
      "metadata": {
        "id": "wmYAtznw7WSe"
      },
      "source": [
        "# テュートリアルより最初の課題\n",
        "# 次のような動作をするgrrsをつくる。\n",
        "\n",
        "# $ cat test.txt\n",
        "# foo: 10\n",
        "# bar: 20\n",
        "# baz: 30\n",
        "# $ grrs foo test.txt\n",
        "# foo: 10\n",
        "# $ grrs --help\n",
        "# [some help text explaining the available options]\n"
      ],
      "execution_count": null,
      "outputs": []
    },
    {
      "cell_type": "code",
      "metadata": {
        "id": "Z9u503QJ7NZQ",
        "outputId": "5d269d4e-457f-41d0-f3be-f1226109d712",
        "colab": {
          "base_uri": "https://localhost:8080/"
        }
      },
      "source": [
        "%%writefile grrs01.rs\n",
        "fn main() {\n",
        "    let pattern = std::env::args().nth(1).expect(\"no pattern given\");\n",
        "    let path = std::env::args().nth(2).expect(\"no path given\");\n",
        "}"
      ],
      "execution_count": 24,
      "outputs": [
        {
          "output_type": "stream",
          "text": [
            "Writing grrs01.rs\n"
          ],
          "name": "stdout"
        }
      ]
    },
    {
      "cell_type": "code",
      "metadata": {
        "id": "EPeu_cRi71__"
      },
      "source": [
        "# 実験\n",
        "!rustc grrs01.rs\n",
        "!./grrs01"
      ],
      "execution_count": null,
      "outputs": []
    },
    {
      "cell_type": "code",
      "metadata": {
        "id": "p7dxeUrLO3Xu",
        "outputId": "505b4ea2-3738-4dac-d80e-52bd88806dca",
        "colab": {
          "base_uri": "https://localhost:8080/"
        }
      },
      "source": [
        "# !export USER=$USER\n",
        "%env USER=root\n",
        "!cargo init"
      ],
      "execution_count": 54,
      "outputs": [
        {
          "output_type": "stream",
          "text": [
            "env: USER=root\n",
            "\u001b[0m\u001b[0m\u001b[1m\u001b[32m     Created\u001b[0m binary (application) package\n"
          ],
          "name": "stdout"
        }
      ]
    },
    {
      "cell_type": "code",
      "metadata": {
        "id": "E4RVJOPCRThK",
        "outputId": "934f7245-8e2a-4607-bce2-b4fa52a44ff9",
        "colab": {
          "base_uri": "https://localhost:8080/"
        }
      },
      "source": [
        "!cat Cargo.toml"
      ],
      "execution_count": 58,
      "outputs": [
        {
          "output_type": "stream",
          "text": [
            "[package]\n",
            "name = \"content\"\n",
            "version = \"0.1.0\"\n",
            "authors = [\"root\"]\n",
            "edition = \"2018\"\n",
            "\n",
            "# See more keys and their definitions at https://doc.rust-lang.org/cargo/reference/manifest.html\n",
            "\n",
            "[dependencies]\n",
            "\n",
            "[[bin]]\n",
            "name = \"content\"\n",
            "path = \"main.rs\"\n"
          ],
          "name": "stdout"
        }
      ]
    },
    {
      "cell_type": "code",
      "metadata": {
        "id": "f4T2MtJETNLB",
        "outputId": "1b40f64b-9174-4d2f-b3de-1bac7dce40dd",
        "colab": {
          "base_uri": "https://localhost:8080/"
        }
      },
      "source": [
        "%%writefile Cargo.toml\n",
        "[package]\n",
        "name = \"content\"\n",
        "version = \"0.1.0\"\n",
        "authors = [\"root\"]\n",
        "edition = \"2018\"\n",
        "\n",
        "# See more keys and their definitions at https://doc.rust-lang.org/cargo/reference/manifest.html\n",
        "\n",
        "[dependencies]\n",
        "structopt = \"0.3.13\"\n",
        "\n",
        "[[bin]]\n",
        "name = \"content\"\n",
        "path = \"main.rs\""
      ],
      "execution_count": 59,
      "outputs": [
        {
          "output_type": "stream",
          "text": [
            "Overwriting Cargo.toml\n"
          ],
          "name": "stdout"
        }
      ]
    },
    {
      "cell_type": "code",
      "metadata": {
        "id": "dpsoBNwA8iPv",
        "outputId": "7d09a41d-f148-416b-9cd8-643dcec4ea5d",
        "colab": {
          "base_uri": "https://localhost:8080/"
        }
      },
      "source": [
        "%%writefile grrs01.rs\n",
        "use self::structopt::StructOpt;\n",
        "\n",
        "/// Search for a pattern in a file and display the lines that contain it.\n",
        "#[derive(StructOpt)]\n",
        "struct Cli {\n",
        "    /// The pattern to look for\n",
        "    pattern: String,\n",
        "    /// The path to the file to read\n",
        "    #[structopt(parse(from_os_str))]\n",
        "    path: std::path::PathBuf,\n",
        "}\n",
        "\n",
        "fn main() {\n",
        "    let pattern = std::env::args().nth(1).expect(\"no pattern given\");\n",
        "    let path = std::env::args().nth(2).expect(\"no path given\");\n",
        "}"
      ],
      "execution_count": 72,
      "outputs": [
        {
          "output_type": "stream",
          "text": [
            "Overwriting grrs01.rs\n"
          ],
          "name": "stdout"
        }
      ]
    },
    {
      "cell_type": "code",
      "metadata": {
        "id": "8AmSOcgvTmP1",
        "outputId": "189867cb-a958-438a-d4ee-c0d5c6af3125",
        "colab": {
          "base_uri": "https://localhost:8080/"
        }
      },
      "source": [
        "!rustc grrs01.rs\n",
        "!./grrs01"
      ],
      "execution_count": 73,
      "outputs": [
        {
          "output_type": "stream",
          "text": [
            "\u001b[0m\u001b[1m\u001b[38;5;9merror[E0432]\u001b[0m\u001b[0m\u001b[1m: unresolved import `self::structopt`\u001b[0m\n",
            "\u001b[0m \u001b[0m\u001b[0m\u001b[1m\u001b[38;5;12m--> \u001b[0m\u001b[0mgrrs01.rs:1:11\u001b[0m\n",
            "\u001b[0m  \u001b[0m\u001b[0m\u001b[1m\u001b[38;5;12m|\u001b[0m\n",
            "\u001b[0m\u001b[1m\u001b[38;5;12m1\u001b[0m\u001b[0m \u001b[0m\u001b[0m\u001b[1m\u001b[38;5;12m| \u001b[0m\u001b[0muse self::structopt::StructOpt;\u001b[0m\n",
            "\u001b[0m  \u001b[0m\u001b[0m\u001b[1m\u001b[38;5;12m| \u001b[0m\u001b[0m          \u001b[0m\u001b[0m\u001b[1m\u001b[38;5;9m^^^^^^^^^\u001b[0m\u001b[0m \u001b[0m\u001b[0m\u001b[1m\u001b[38;5;9mmaybe a missing crate `structopt`?\u001b[0m\n",
            "\n",
            "\u001b[0m\u001b[1m\u001b[38;5;9merror\u001b[0m\u001b[0m\u001b[1m: cannot determine resolution for the derive macro `StructOpt`\u001b[0m\n",
            "\u001b[0m \u001b[0m\u001b[0m\u001b[1m\u001b[38;5;12m--> \u001b[0m\u001b[0mgrrs01.rs:4:10\u001b[0m\n",
            "\u001b[0m  \u001b[0m\u001b[0m\u001b[1m\u001b[38;5;12m|\u001b[0m\n",
            "\u001b[0m\u001b[1m\u001b[38;5;12m4\u001b[0m\u001b[0m \u001b[0m\u001b[0m\u001b[1m\u001b[38;5;12m| \u001b[0m\u001b[0m#[derive(StructOpt)]\u001b[0m\n",
            "\u001b[0m  \u001b[0m\u001b[0m\u001b[1m\u001b[38;5;12m| \u001b[0m\u001b[0m         \u001b[0m\u001b[0m\u001b[1m\u001b[38;5;9m^^^^^^^^^\u001b[0m\n",
            "\u001b[0m  \u001b[0m\u001b[0m\u001b[1m\u001b[38;5;12m|\u001b[0m\n",
            "\u001b[0m  \u001b[0m\u001b[0m\u001b[1m\u001b[38;5;12m= \u001b[0m\u001b[0m\u001b[1mnote\u001b[0m\u001b[0m: import resolution is stuck, try simplifying macro imports\u001b[0m\n",
            "\n",
            "\u001b[0m\u001b[1m\u001b[38;5;9merror\u001b[0m\u001b[0m\u001b[1m: cannot find attribute `structopt` in this scope\u001b[0m\n",
            "\u001b[0m \u001b[0m\u001b[0m\u001b[1m\u001b[38;5;12m--> \u001b[0m\u001b[0mgrrs01.rs:9:7\u001b[0m\n",
            "\u001b[0m  \u001b[0m\u001b[0m\u001b[1m\u001b[38;5;12m|\u001b[0m\n",
            "\u001b[0m\u001b[1m\u001b[38;5;12m9\u001b[0m\u001b[0m \u001b[0m\u001b[0m\u001b[1m\u001b[38;5;12m| \u001b[0m\u001b[0m    #[structopt(parse(from_os_str))]\u001b[0m\n",
            "\u001b[0m  \u001b[0m\u001b[0m\u001b[1m\u001b[38;5;12m| \u001b[0m\u001b[0m      \u001b[0m\u001b[0m\u001b[1m\u001b[38;5;9m^^^^^^^^^\u001b[0m\n",
            "\n",
            "\u001b[0m\u001b[1m\u001b[38;5;9merror\u001b[0m\u001b[0m\u001b[1m: aborting due to 3 previous errors\u001b[0m\n",
            "\n",
            "\u001b[0m\u001b[1mFor more information about this error, try `rustc --explain E0432`.\u001b[0m\n",
            "thread 'main' panicked at 'no pattern given', grrs01.rs:2:19\n",
            "note: run with `RUST_BACKTRACE=1` environment variable to display a backtrace\n"
          ],
          "name": "stdout"
        }
      ]
    },
    {
      "cell_type": "code",
      "metadata": {
        "id": "kqAhd8wpWR3B",
        "outputId": "501ecf65-57e9-41e6-835c-aa32b9dfaa44",
        "colab": {
          "base_uri": "https://localhost:8080/"
        }
      },
      "source": [
        "!ls -la ./.config"
      ],
      "execution_count": 76,
      "outputs": [
        {
          "output_type": "stream",
          "text": [
            "total 40\n",
            "drwxr-xr-x 1 root root 4096 Nov  6 17:30 .\n",
            "drwxr-xr-x 1 root root 4096 Nov 13 11:09 ..\n",
            "-rw-r--r-- 1 root root    7 Nov  6 17:29 active_config\n",
            "-rw-r--r-- 1 root root    0 Nov  6 17:30 config_sentinel\n",
            "drwxr-xr-x 2 root root 4096 Nov  6 17:29 configurations\n",
            "-rw------- 1 root root    5 Jan  1  2040 gce\n",
            "-rw-r--r-- 1 root root    3 Nov  6 17:29 .last_opt_in_prompt.yaml\n",
            "-rw-r--r-- 1 root root   37 Nov  6 17:30 .last_survey_prompt.yaml\n",
            "-rw-r--r-- 1 root root  135 Nov  6 17:30 .last_update_check.json\n",
            "drwxr-xr-x 3 root root 4096 Nov  6 17:29 logs\n",
            "-rw-r--r-- 1 root root   32 Nov  6 17:30 .metricsUUID\n"
          ],
          "name": "stdout"
        }
      ]
    }
  ]
}