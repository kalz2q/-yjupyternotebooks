{
  "nbformat": 4,
  "nbformat_minor": 0,
  "metadata": {
    "colab": {
      "name": "rust01.ipynb",
      "provenance": [],
      "toc_visible": true,
      "authorship_tag": "ABX9TyOX85dX92CvlgZcHXp3Bctm",
      "include_colab_link": true
    },
    "kernelspec": {
      "name": "python3",
      "display_name": "Python 3"
    }
  },
  "cells": [
    {
      "cell_type": "markdown",
      "metadata": {
        "id": "view-in-github",
        "colab_type": "text"
      },
      "source": [
        "<a href=\"https://colab.research.google.com/github/kalz2q/mycolabnotebooks/blob/master/rust01.ipynb\" target=\"_parent\"><img src=\"https://colab.research.google.com/assets/colab-badge.svg\" alt=\"Open In Colab\"/></a>"
      ]
    },
    {
      "cell_type": "markdown",
      "metadata": {
        "id": "Z5PU-iNA6q3p"
      },
      "source": [
        "# メモ\n",
        "\n",
        "1. Colab で実行しながら読まれることを想定している。\n",
        "1. Rust の勉強\n",
        "1. 資料は本家のテュートリアル https://rust-cli.github.io/book/index.html"
      ]
    },
    {
      "cell_type": "markdown",
      "metadata": {
        "id": "NfI_Y6uw54N9"
      },
      "source": [
        "# Rust のインストール\n",
        "\n",
        "\n",
        "\n"
      ]
    },
    {
      "cell_type": "code",
      "metadata": {
        "id": "NqpdnM0vvX1F"
      },
      "source": [
        "# Rust をインストールする。\n",
        "%%capture\n",
        "!apt install rustc --fix-missing"
      ],
      "execution_count": null,
      "outputs": []
    },
    {
      "cell_type": "markdown",
      "metadata": {
        "id": "sNt9JTL5fJo0"
      },
      "source": [
        "通常の curl を使ったインストールは使えない。"
      ]
    },
    {
      "cell_type": "code",
      "metadata": {
        "id": "dLELZiZQ1HyM"
      },
      "source": [
        "# 参考\n",
        "\n",
        "# !curl https://sh.rustup.rs -sSf | sh\n",
        "#=> sh: 121: cannot open /dev/tty: No such device or address"
      ],
      "execution_count": null,
      "outputs": []
    },
    {
      "cell_type": "code",
      "metadata": {
        "id": "D0LUqMYq8kv8",
        "colab": {
          "base_uri": "https://localhost:8080/"
        },
        "outputId": "b389c661-6baa-4d0f-c823-9c7c3d4267d2"
      },
      "source": [
        "# インストールの確認\n",
        "!rustc --version"
      ],
      "execution_count": 8,
      "outputs": [
        {
          "output_type": "stream",
          "text": [
            "rustc 1.43.0\n"
          ],
          "name": "stdout"
        }
      ]
    },
    {
      "cell_type": "code",
      "metadata": {
        "id": "kQLzTzRCfh5S",
        "colab": {
          "base_uri": "https://localhost:8080/"
        },
        "outputId": "dd687686-d414-4a79-e4fa-278dd3e34330"
      },
      "source": [
        "# 環境をつくるコマンドの cargo も入っている\n",
        "!cargo --version"
      ],
      "execution_count": null,
      "outputs": [
        {
          "output_type": "stream",
          "text": [
            "cargo 1.43.0\n"
          ],
          "name": "stdout"
        }
      ]
    },
    {
      "cell_type": "code",
      "metadata": {
        "id": "0YSWbhrFfyR6",
        "colab": {
          "base_uri": "https://localhost:8080/"
        },
        "outputId": "882f214e-ac4a-41ef-d73e-3e5c55b77809"
      },
      "source": [
        "%env USER=root\n",
        "!cargo init"
      ],
      "execution_count": null,
      "outputs": [
        {
          "output_type": "stream",
          "text": [
            "env: USER=root\n",
            "\u001b[0m\u001b[0m\u001b[1m\u001b[32m     Created\u001b[0m binary (application) package\n"
          ],
          "name": "stdout"
        }
      ]
    },
    {
      "cell_type": "markdown",
      "metadata": {
        "id": "a-dvtcLp-cCJ"
      },
      "source": [
        "以上で、ここでmain.rsをビルドして、コンパイルすることができるようになる。"
      ]
    },
    {
      "cell_type": "code",
      "metadata": {
        "id": "L7OQbOxm9KcA",
        "colab": {
          "base_uri": "https://localhost:8080/"
        },
        "outputId": "e194cfb7-dfb8-4b8d-e2c9-3a17933cef81"
      },
      "source": [
        "# プログラムを書く\n",
        "%%writefile main.rs\n",
        "fn main() {\n",
        "    println!(\"Hello, world!\");\n",
        "}"
      ],
      "execution_count": null,
      "outputs": [
        {
          "output_type": "stream",
          "text": [
            "Writing main.rs\n"
          ],
          "name": "stdout"
        }
      ]
    },
    {
      "cell_type": "code",
      "metadata": {
        "id": "cp18zfSS9RtH",
        "colab": {
          "base_uri": "https://localhost:8080/"
        },
        "outputId": "3b50a14e-ad7e-4587-e8e9-3758a2cad8c8"
      },
      "source": [
        "# コンパイル\n",
        "!cargo build"
      ],
      "execution_count": null,
      "outputs": [
        {
          "output_type": "stream",
          "text": [
            "\u001b[0m\u001b[0m\u001b[1m\u001b[32m   Compiling\u001b[0m content v0.1.0 (/content)\n",
            "\u001b[0m\u001b[0m\u001b[1m\u001b[32m    Finished\u001b[0m dev [unoptimized + debuginfo] target(s) in 0.40s\n"
          ],
          "name": "stdout"
        }
      ]
    },
    {
      "cell_type": "code",
      "metadata": {
        "id": "tGBqfm82pCBI",
        "colab": {
          "base_uri": "https://localhost:8080/"
        },
        "outputId": "53380198-5862-4e9b-e765-8b21ef2d21f8"
      },
      "source": [
        "# コンパイルして実行\n",
        "!cargo run "
      ],
      "execution_count": null,
      "outputs": [
        {
          "output_type": "stream",
          "text": [
            "\u001b[0m\u001b[0m\u001b[1m\u001b[32m    Finished\u001b[0m dev [unoptimized + debuginfo] target(s) in 0.01s\n",
            "\u001b[0m\u001b[0m\u001b[1m\u001b[32m     Running\u001b[0m `target/debug/content`\n",
            "Hello, world!\n"
          ],
          "name": "stdout"
        }
      ]
    },
    {
      "cell_type": "markdown",
      "metadata": {
        "id": "pAqxIySQ7GiU"
      },
      "source": [
        "# テュートリアルより\n",
        "\n"
      ]
    },
    {
      "cell_type": "markdown",
      "metadata": {
        "id": "dmFCq2UVXoUT"
      },
      "source": [
        "以上で Colab で Rust チュートリアルのノートをとる準備が整ったが、チュートリアル自体は Colab 用ではないので次のような記述になっている。\n",
        "\n",
        "まず、`cargo new grrs` (grrsは今回作るプログラム名)、でディレクトリーを作る。 grrs の中にいろいろなファイルができる。 なかでも `Cargo.toml` にプロジェクトのメタデータが書かれていて、使われるライブラリーの依存、バージョンコントロールが行われる。 cargo run すると、main.rs がコンパイルされ、実行される。"
      ]
    },
    {
      "cell_type": "code",
      "metadata": {
        "id": "9v57SjiPXoUV"
      },
      "source": [
        "# ざっと次のような流れになる\n",
        "%%script false\n",
        "$ cargo new grrs\n",
        "     Created binary (application) `grrs` package\n",
        "$ cd grrs/\n",
        "$ cargo run\n",
        "   Compiling grrs v0.1.0 (/Users/pascal/code/grrs)\n",
        "    Finished dev [unoptimized + debuginfo] target(s) in 0.70s\n",
        "     Running `target/debug/grrs`\n",
        "Hello, world!"
      ],
      "execution_count": null,
      "outputs": []
    },
    {
      "cell_type": "markdown",
      "metadata": {
        "id": "lvQ7KiHbK_Ym"
      },
      "source": [
        "セルマジックの %%script false が書かれるとそれ以降の行は実行されない。\n",
        "\n",
        "全体をコメントアウトしたような使い方ができる。"
      ]
    },
    {
      "cell_type": "markdown",
      "metadata": {
        "id": "3NKM9fmfePp_"
      },
      "source": [
        "## 最初の課題"
      ]
    },
    {
      "cell_type": "code",
      "metadata": {
        "id": "wmYAtznw7WSe"
      },
      "source": [
        "# テュートリアルより最初の課題\n",
        "# 次のような動作をするgrepもどき(grrs)をつくる。\n",
        "\n",
        "# $ cat test.txt\n",
        "# foo: 10\n",
        "# bar: 20\n",
        "# baz: 30\n",
        "# $ grrs foo test.txt\n",
        "# foo: 10\n",
        "# $ grrs --help\n",
        "# [some help text explaining the available options]\n"
      ],
      "execution_count": null,
      "outputs": []
    },
    {
      "cell_type": "markdown",
      "metadata": {
        "id": "JkdUpNY5eyL2"
      },
      "source": [
        "## コマンドラインをパースする"
      ]
    },
    {
      "cell_type": "markdown",
      "metadata": {
        "id": "BTTCFhYre3t6"
      },
      "source": [
        "# いまここ"
      ]
    },
    {
      "cell_type": "markdown",
      "metadata": {
        "id": "1FtmH8ONe6R_"
      },
      "source": [
        "典型的なコマンドラインツールはつぎのような形になる。\n"
      ]
    },
    {
      "cell_type": "code",
      "metadata": {
        "id": "mSUwDZAFfr6U"
      },
      "source": [
        "%%script false\n",
        "$ grrs foobar test.txt"
      ],
      "execution_count": null,
      "outputs": []
    },
    {
      "cell_type": "markdown",
      "metadata": {
        "id": "7wNDMxo6fq2A"
      },
      "source": [
        "この例では、grrs というプログラムで、test.txt の中の foobar という文字列を含む行をプリントアウトすることを想定している。\n",
        "\n",
        "プログラム名のあとの文字列は大雑把にいうとスペースで区切られている文字列のリストとしてオペレーティングシステムの内部的には処理されている。\n",
        "\n",
        "コマンドライン引数と呼ばれる。 --this というような書き方でフラグをしていするのにも使われる。\n",
        "\n",
        "\n"
      ]
    },
    {
      "cell_type": "markdown",
      "metadata": {
        "id": "ziPrCPABhG9m"
      },
      "source": [
        "## コマンドライン引数の取得\n",
        "\n",
        "標準ライブラリーに関数 \n",
        "std::env::args() \n",
        "があり、戻り値はイテレーターで index 0 にはプログラム自身、今回の例では grrs が入っている。\n",
        "\n"
      ]
    },
    {
      "cell_type": "markdown",
      "metadata": {
        "id": "yrxlp29mazZl"
      },
      "source": [
        "\n",
        "\n",
        "\n",
        "\n",
        "\n",
        "Getting the arguments\n",
        "The standard library contains the function that gives you an iterator of the given arguments. The first entry (at index 0) will be the name your program was called as (e.g. grrs), the ones that follow are what the user wrote afterwards.\n",
        "\n",
        "Getting the raw arguments this way is quite easy (in file src/main.rs, after fn main() {):\n"
      ]
    },
    {
      "cell_type": "markdown",
      "metadata": {
        "id": "WSTEnJZmfcvH"
      },
      "source": [
        "\n",
        "\n",
        "let pattern = std::env::args().nth(1).expect(\"no pattern given\");\n",
        "let path = std::env::args().nth(2).expect(\"no path given\");\n",
        "CLI arguments as data type\n"
      ]
    },
    {
      "cell_type": "code",
      "metadata": {
        "id": "aLDQ9y3s7LGM"
      },
      "source": [
        "\n",
        "let pattern = std::env::args().nth(1).expect(\"no pattern given\");\n",
        "let path = std::env::args().nth(2).expect(\"no path given\");\n",
        "CLI arguments as data type"
      ],
      "execution_count": null,
      "outputs": []
    },
    {
      "cell_type": "markdown",
      "metadata": {
        "id": "tSj7nI1N7FFt"
      },
      "source": [
        "\n",
        "Instead of thinking about them as a bunch of text, it often pays off to think of CLI arguments as a custom data type that represents the inputs to your program.\n"
      ]
    },
    {
      "cell_type": "markdown",
      "metadata": {
        "id": "Ie49J1ydfeRP"
      },
      "source": [
        "\n",
        "Look at grrs foobar test.txt: There are two arguments, first the pattern (the string to look for), and then the path (the file to look in).\n",
        "\n",
        "What more can we say about them? Well, for a start, both are required. We haven’t talked about any default values, so we expect our users to always provide two values. Furthermore, we can say a bit about their types: The pattern is expected to be a string, while the second argument is expected to be a path to a file.\n",
        "\n",
        "In Rust, it is common to structure programs around the data they handle, so this way of looking at CLI arguments fits very well. Let’s start with this (in file src/main.rs, before fn main() {):\n"
      ]
    },
    {
      "cell_type": "markdown",
      "metadata": {
        "id": "XTV9tcW4fbIp"
      },
      "source": [
        "\n",
        "\n",
        "struct Cli {\n",
        "    pattern: String,\n",
        "    path: std::path::PathBuf,\n",
        "}\n",
        "\n",
        "This defines a new structure (a struct) that has two fields to store data in: pattern, and path.\n",
        "\n",
        "Aside: PathBuf is like a String but for file system paths that works cross-platform.\n",
        "\n",
        "Now, we still need to get the actual arguments our program got into this form. One option would be to manually parse the list of strings we get from the operating system and build the structure ourselves. It would look something like this:\n"
      ]
    },
    {
      "cell_type": "markdown",
      "metadata": {
        "id": "8jSf-sq0fZP4"
      },
      "source": [
        "\n",
        "\n",
        "let pattern = std::env::args().nth(1).expect(\"no pattern given\");\n",
        "let path = std::env::args().nth(2).expect(\"no path given\");\n",
        "let args = Cli {\n",
        "    pattern: pattern,\n",
        "    path: std::path::PathBuf::from(path),\n",
        "};\n",
        "This works, but it’s not very convenient. How would you deal with the requirement to support --pattern=\"foo\" or --pattern \"foo\"? How would you implement --help?\n",
        "\n",
        "Parsing CLI arguments with StructOpt\n",
        "A much nicer way is to use one of the many available libraries. The most popular library for parsing command line arguments is called clap. It has all the functionality you’d expect, including support for sub-commands, shell completions, and great help messages.\n",
        "\n",
        "The structopt library builds on clap and provides a “derive” macro to generate clap code for struct definitions. This is quite nice: All we have to do is annotate a struct and it’ll generate the code that parses the arguments into the fields.\n",
        "\n",
        "Let’s first import structopt by adding structopt = \"0.3.13\" to the [dependencies] section of our Cargo.toml file.\n",
        "\n",
        "Now, we can write use structopt::StructOpt; in our code, and add #[derive(StructOpt)] right above our struct Cli. Let’s also write some documentation comments along the way.\n",
        "\n",
        "It’ll look like this (in file src/main.rs, before fn main() {):\n",
        "\n"
      ]
    },
    {
      "cell_type": "markdown",
      "metadata": {
        "id": "6lRzI0rOfWzp"
      },
      "source": [
        "\n",
        "use structopt::StructOpt;\n",
        "\n",
        "/// Search for a pattern in a file and display the lines that contain it.\n",
        "#[derive(StructOpt)]\n",
        "struct Cli {\n",
        "    /// The pattern to look for\n",
        "    pattern: String,\n",
        "    /// The path to the file to read\n",
        "    #[structopt(parse(from_os_str))]\n",
        "    path: std::path::PathBuf,\n",
        "}\n",
        "\n",
        "Note: There are a lot of custom attributes you can add to fields. For example, we added one to tell structopt how to parse the PathBuf type. To say you want to use this field for the argument after -o or --output, you’d add #[structopt(short = \"o\", long = \"output\")]. For more information, see the structopt documentation.\n",
        "\n",
        "Right below the Cli struct our template contains its main function. When the program starts, it will call this function. The first line is:\n"
      ]
    },
    {
      "cell_type": "markdown",
      "metadata": {
        "id": "o67o2iRFfSX6"
      },
      "source": [
        "\n",
        "\n",
        "fn main() {\n",
        "    let args = Cli::from_args();\n",
        "}\n",
        "This will try to parse the arguments into our Cli struct.\n",
        "\n",
        "But what if that fails? That’s the beauty of this approach: Clap knows which fields to expect, and what their expected format is. It can automatically generate a nice --help message, as well as give some great errors to suggest you pass --output when you wrote --putput.\n",
        "\n",
        "Note: The from_args method is meant to be used in your main function. When it fails, it will print out an error or help message and immediately exit the program. Don’t use it in other places!\n",
        "\n",
        "This is what it may look like\n",
        "Running it without any arguments:\n",
        "\n"
      ]
    },
    {
      "cell_type": "markdown",
      "metadata": {
        "id": "8XO4xkb0fQDQ"
      },
      "source": [
        "\n",
        "$ cargo run\n",
        "    Finished dev [unoptimized + debuginfo] target(s) in 10.16s\n",
        "     Running `target/debug/grrs`\n",
        "error: The following required arguments were not provided:\n",
        "    <pattern>\n",
        "    <path>\n",
        "\n",
        "USAGE:\n",
        "    grrs <pattern> <path>\n",
        "\n",
        "For more information try --help\n",
        "We can pass arguments when using cargo run directly by writing them after --:\n",
        "\n",
        "\n",
        "$ cargo run -- some-pattern some-file\n",
        "    Finished dev [unoptimized + debuginfo] target(s) in 0.11s\n",
        "     Running `target/debug/grrs some-pattern some-file`\n",
        "As you can see, there is no output. Which is good: That just means there is no error and our program ended.\n",
        "\n",
        "Exercise for the reader: Make this program output its arguments!"
      ]
    },
    {
      "cell_type": "code",
      "metadata": {
        "id": "Z9u503QJ7NZQ",
        "colab": {
          "base_uri": "https://localhost:8080/"
        },
        "outputId": "c768940e-9e19-47e8-f3c0-a08c1310e48c"
      },
      "source": [
        "%%writefile main.rs\n",
        "fn main() {\n",
        "    let pattern = std::env::args().nth(1).expect(\"no pattern given\");\n",
        "    let path = std::env::args().nth(2).expect(\"no path given\");\n",
        "}"
      ],
      "execution_count": null,
      "outputs": [
        {
          "output_type": "stream",
          "text": [
            "Overwriting main.rs\n"
          ],
          "name": "stdout"
        }
      ]
    },
    {
      "cell_type": "code",
      "metadata": {
        "id": "EPeu_cRi71__"
      },
      "source": [
        "# 実験\n",
        "!cargo build"
      ],
      "execution_count": null,
      "outputs": []
    },
    {
      "cell_type": "code",
      "metadata": {
        "id": "f4T2MtJETNLB",
        "colab": {
          "base_uri": "https://localhost:8080/"
        },
        "outputId": "28f94619-95f9-4662-dcd9-af13be2ab6a0"
      },
      "source": [
        "%%writefile Cargo.toml\n",
        "[package]\n",
        "name = \"content\"\n",
        "version = \"0.1.0\"\n",
        "authors = [\"root\"]\n",
        "edition = \"2018\"\n",
        "\n",
        "# See more keys and their definitions at https://doc.rust-lang.org/cargo/reference/manifest.html\n",
        "\n",
        "[dependencies]\n",
        "structopt = \"0.3.13\"\n",
        "\n",
        "[[bin]]\n",
        "name = \"content\"\n",
        "path = \"main.rs\""
      ],
      "execution_count": 18,
      "outputs": [
        {
          "output_type": "stream",
          "text": [
            "Overwriting Cargo.toml\n"
          ],
          "name": "stdout"
        }
      ]
    },
    {
      "cell_type": "code",
      "metadata": {
        "id": "dpsoBNwA8iPv",
        "colab": {
          "base_uri": "https://localhost:8080/"
        },
        "outputId": "d0ab53da-6aee-4fba-e8cd-9b0eff6b52c5"
      },
      "source": [
        "%%writefile main.rs\n",
        "use structopt::StructOpt;\n",
        "\n",
        "/// Search for a pattern in a file and display the lines that contain it.\n",
        "#[derive(StructOpt)]\n",
        "struct Cli {\n",
        "    /// The pattern to look for\n",
        "    pattern: String,\n",
        "    /// The path to the file to read\n",
        "    #[structopt(parse(from_os_str))]\n",
        "    path: std::path::PathBuf,\n",
        "}\n",
        "\n",
        "fn main() {\n",
        "    let pattern = std::env::args().nth(1).expect(\"no pattern given\");\n",
        "    let path = std::env::args().nth(2).expect(\"no path given\");\n",
        "}"
      ],
      "execution_count": 9,
      "outputs": [
        {
          "output_type": "stream",
          "text": [
            "Overwriting main.rs\n"
          ],
          "name": "stdout"
        }
      ]
    },
    {
      "cell_type": "code",
      "metadata": {
        "id": "mdZCNK8571BD",
        "outputId": "76b196ae-78c1-45ad-dbfd-386de5c4b79d",
        "colab": {
          "base_uri": "https://localhost:8080/"
        }
      },
      "source": [
        "!cat main.rs"
      ],
      "execution_count": 12,
      "outputs": [
        {
          "output_type": "stream",
          "text": [
            "use structopt::StructOpt;\n",
            "\n",
            "/// Search for a pattern in a file and display the lines that contain it.\n",
            "#[derive(StructOpt)]\n",
            "struct Cli {\n",
            "    /// The pattern to look for\n",
            "    pattern: String,\n",
            "    /// The path to the file to read\n",
            "    #[structopt(parse(from_os_str))]\n",
            "    path: std::path::PathBuf,\n",
            "}\n",
            "\n",
            "fn main() {\n",
            "    let pattern = std::env::args().nth(1).expect(\"no pattern given\");\n",
            "    let path = std::env::args().nth(2).expect(\"no path given\");\n",
            "}"
          ],
          "name": "stdout"
        }
      ]
    },
    {
      "cell_type": "code",
      "metadata": {
        "id": "xELuPHLN9U_7"
      },
      "source": [
        "!cargo update"
      ],
      "execution_count": 15,
      "outputs": []
    },
    {
      "cell_type": "code",
      "metadata": {
        "id": "8AmSOcgvTmP1",
        "outputId": "2b1a0dda-4312-4d5e-fb12-b5c4eb594116",
        "colab": {
          "base_uri": "https://localhost:8080/"
        }
      },
      "source": [
        "!cargo build"
      ],
      "execution_count": 19,
      "outputs": [
        {
          "output_type": "stream",
          "text": [
            "\u001b[0m\u001b[0m\u001b[1m\u001b[32m    Updating\u001b[0m crates.io index\n",
            "\u001b[0m\u001b[0m\u001b[1m\u001b[32m Downloading\u001b[0m crates ...\n",
            "\u001b[0m\u001b[0m\u001b[1m\u001b[32m  Downloaded\u001b[0m structopt v0.3.20\n",
            "\u001b[0m\u001b[0m\u001b[1m\u001b[32m  Downloaded\u001b[0m clap v2.33.3\n",
            "\u001b[0m\u001b[0m\u001b[1m\u001b[32m  Downloaded\u001b[0m structopt-derive v0.4.13\n",
            "\u001b[0m\u001b[0m\u001b[1m\u001b[32m  Downloaded\u001b[0m lazy_static v1.4.0\n",
            "\u001b[0m\u001b[0m\u001b[1m\u001b[32m  Downloaded\u001b[0m textwrap v0.11.0\n",
            "\u001b[0m\u001b[0m\u001b[1m\u001b[32m  Downloaded\u001b[0m strsim v0.8.0\n",
            "\u001b[0m\u001b[0m\u001b[1m\u001b[32m  Downloaded\u001b[0m atty v0.2.14\n",
            "\u001b[0m\u001b[0m\u001b[1m\u001b[32m  Downloaded\u001b[0m vec_map v0.8.2\n",
            "\u001b[0m\u001b[0m\u001b[1m\u001b[32m  Downloaded\u001b[0m libc v0.2.80\n",
            "\u001b[0m\u001b[0m\u001b[1m\u001b[32m  Downloaded\u001b[0m syn v1.0.48\n",
            "\u001b[0m\u001b[0m\u001b[1m\u001b[32m  Downloaded\u001b[0m quote v1.0.7\n",
            "\u001b[0m\u001b[0m\u001b[1m\u001b[32m  Downloaded\u001b[0m unicode-width v0.1.8\n",
            "\u001b[0m\u001b[0m\u001b[1m\u001b[32m  Downloaded\u001b[0m ansi_term v0.11.0\n",
            "\u001b[0m\u001b[0m\u001b[1m\u001b[32m  Downloaded\u001b[0m bitflags v1.2.1\n",
            "\u001b[0m\u001b[0m\u001b[1m\u001b[32m  Downloaded\u001b[0m proc-macro2 v1.0.24\n",
            "\u001b[0m\u001b[0m\u001b[1m\u001b[32m  Downloaded\u001b[0m heck v0.3.1\n",
            "\u001b[0m\u001b[0m\u001b[1m\u001b[32m  Downloaded\u001b[0m proc-macro-error v1.0.4\n",
            "\u001b[0m\u001b[0m\u001b[1m\u001b[32m  Downloaded\u001b[0m unicode-segmentation v1.7.0\n",
            "\u001b[0m\u001b[0m\u001b[1m\u001b[32m  Downloaded\u001b[0m unicode-xid v0.2.1\n",
            "\u001b[0m\u001b[0m\u001b[1m\u001b[32m  Downloaded\u001b[0m version_check v0.9.2\n",
            "\u001b[0m\u001b[0m\u001b[1m\u001b[32m  Downloaded\u001b[0m proc-macro-error-attr v1.0.4\n",
            "\u001b[0m\u001b[0m\u001b[1m\u001b[32m   Compiling\u001b[0m proc-macro2 v1.0.24\n",
            "\u001b[0m\u001b[0m\u001b[1m\u001b[32m   Compiling\u001b[0m version_check v0.9.2\n",
            "\u001b[0m\u001b[0m\u001b[1m\u001b[32m   Compiling\u001b[0m unicode-xid v0.2.1\n",
            "\u001b[0m\u001b[0m\u001b[1m\u001b[32m   Compiling\u001b[0m syn v1.0.48\n",
            "\u001b[0m\u001b[0m\u001b[1m\u001b[32m   Compiling\u001b[0m libc v0.2.80\n",
            "\u001b[0m\u001b[0m\u001b[1m\u001b[32m   Compiling\u001b[0m bitflags v1.2.1\n",
            "\u001b[0m\u001b[0m\u001b[1m\u001b[32m   Compiling\u001b[0m unicode-width v0.1.8\n",
            "\u001b[0m\u001b[0m\u001b[1m\u001b[32m   Compiling\u001b[0m unicode-segmentation v1.7.0\n",
            "\u001b[0m\u001b[0m\u001b[1m\u001b[32m   Compiling\u001b[0m vec_map v0.8.2\n",
            "\u001b[0m\u001b[0m\u001b[1m\u001b[32m   Compiling\u001b[0m strsim v0.8.0\n",
            "\u001b[0m\u001b[0m\u001b[1m\u001b[32m   Compiling\u001b[0m ansi_term v0.11.0\n",
            "\u001b[0m\u001b[0m\u001b[1m\u001b[32m   Compiling\u001b[0m lazy_static v1.4.0\n",
            "\u001b[0m\u001b[0m\u001b[1m\u001b[32m   Compiling\u001b[0m proc-macro-error-attr v1.0.4\n",
            "\u001b[0m\u001b[0m\u001b[1m\u001b[32m   Compiling\u001b[0m proc-macro-error v1.0.4\n",
            "\u001b[0m\u001b[0m\u001b[1m\u001b[32m   Compiling\u001b[0m textwrap v0.11.0\n",
            "\u001b[0m\u001b[0m\u001b[1m\u001b[32m   Compiling\u001b[0m heck v0.3.1\n",
            "\u001b[0m\u001b[0m\u001b[1m\u001b[32m   Compiling\u001b[0m quote v1.0.7\n",
            "\u001b[0m\u001b[0m\u001b[1m\u001b[32m   Compiling\u001b[0m atty v0.2.14\n",
            "\u001b[0m\u001b[0m\u001b[1m\u001b[32m   Compiling\u001b[0m clap v2.33.3\n",
            "\u001b[0m\u001b[0m\u001b[1m\u001b[32m   Compiling\u001b[0m structopt-derive v0.4.13\n",
            "\u001b[0m\u001b[0m\u001b[1m\u001b[32m   Compiling\u001b[0m structopt v0.3.20\n",
            "\u001b[0m\u001b[0m\u001b[1m\u001b[32m   Compiling\u001b[0m content v0.1.0 (/content)\n",
            "\u001b[0m\u001b[1m\u001b[33mwarning\u001b[0m\u001b[0m\u001b[1m: unused variable: `pattern`\u001b[0m\n",
            "\u001b[0m  \u001b[0m\u001b[0m\u001b[1m\u001b[38;5;12m--> \u001b[0m\u001b[0mmain.rs:14:9\u001b[0m\n",
            "\u001b[0m   \u001b[0m\u001b[0m\u001b[1m\u001b[38;5;12m|\u001b[0m\n",
            "\u001b[0m\u001b[1m\u001b[38;5;12m14\u001b[0m\u001b[0m \u001b[0m\u001b[0m\u001b[1m\u001b[38;5;12m| \u001b[0m\u001b[0m    let pattern = std::env::args().nth(1).expect(\"no pattern given\");\u001b[0m\n",
            "\u001b[0m   \u001b[0m\u001b[0m\u001b[1m\u001b[38;5;12m| \u001b[0m\u001b[0m        \u001b[0m\u001b[0m\u001b[1m\u001b[33m^^^^^^^\u001b[0m\u001b[0m \u001b[0m\u001b[0m\u001b[1m\u001b[33mhelp: consider prefixing with an underscore: `_pattern`\u001b[0m\n",
            "\u001b[0m   \u001b[0m\u001b[0m\u001b[1m\u001b[38;5;12m|\u001b[0m\n",
            "\u001b[0m   \u001b[0m\u001b[0m\u001b[1m\u001b[38;5;12m= \u001b[0m\u001b[0m\u001b[1mnote\u001b[0m\u001b[0m: `#[warn(unused_variables)]` on by default\u001b[0m\n",
            "\n",
            "\u001b[0m\u001b[1m\u001b[33mwarning\u001b[0m\u001b[0m\u001b[1m: unused variable: `path`\u001b[0m\n",
            "\u001b[0m  \u001b[0m\u001b[0m\u001b[1m\u001b[38;5;12m--> \u001b[0m\u001b[0mmain.rs:15:9\u001b[0m\n",
            "\u001b[0m   \u001b[0m\u001b[0m\u001b[1m\u001b[38;5;12m|\u001b[0m\n",
            "\u001b[0m\u001b[1m\u001b[38;5;12m15\u001b[0m\u001b[0m \u001b[0m\u001b[0m\u001b[1m\u001b[38;5;12m| \u001b[0m\u001b[0m    let path = std::env::args().nth(2).expect(\"no path given\");\u001b[0m\n",
            "\u001b[0m   \u001b[0m\u001b[0m\u001b[1m\u001b[38;5;12m| \u001b[0m\u001b[0m        \u001b[0m\u001b[0m\u001b[1m\u001b[33m^^^^\u001b[0m\u001b[0m \u001b[0m\u001b[0m\u001b[1m\u001b[33mhelp: consider prefixing with an underscore: `_path`\u001b[0m\n",
            "\n",
            "\u001b[0m\u001b[1m\u001b[33mwarning\u001b[0m\u001b[0m\u001b[1m: field is never read: `pattern`\u001b[0m\n",
            "\u001b[0m \u001b[0m\u001b[0m\u001b[1m\u001b[38;5;12m--> \u001b[0m\u001b[0mmain.rs:7:5\u001b[0m\n",
            "\u001b[0m  \u001b[0m\u001b[0m\u001b[1m\u001b[38;5;12m|\u001b[0m\n",
            "\u001b[0m\u001b[1m\u001b[38;5;12m7\u001b[0m\u001b[0m \u001b[0m\u001b[0m\u001b[1m\u001b[38;5;12m| \u001b[0m\u001b[0m    pattern: String,\u001b[0m\n",
            "\u001b[0m  \u001b[0m\u001b[0m\u001b[1m\u001b[38;5;12m| \u001b[0m\u001b[0m    \u001b[0m\u001b[0m\u001b[1m\u001b[33m^^^^^^^^^^^^^^^\u001b[0m\n",
            "\u001b[0m  \u001b[0m\u001b[0m\u001b[1m\u001b[38;5;12m|\u001b[0m\n",
            "\u001b[0m  \u001b[0m\u001b[0m\u001b[1m\u001b[38;5;12m= \u001b[0m\u001b[0m\u001b[1mnote\u001b[0m\u001b[0m: `#[warn(dead_code)]` on by default\u001b[0m\n",
            "\n",
            "\u001b[0m\u001b[1m\u001b[33mwarning\u001b[0m\u001b[0m\u001b[1m: field is never read: `path`\u001b[0m\n",
            "\u001b[0m  \u001b[0m\u001b[0m\u001b[1m\u001b[38;5;12m--> \u001b[0m\u001b[0mmain.rs:10:5\u001b[0m\n",
            "\u001b[0m   \u001b[0m\u001b[0m\u001b[1m\u001b[38;5;12m|\u001b[0m\n",
            "\u001b[0m\u001b[1m\u001b[38;5;12m10\u001b[0m\u001b[0m \u001b[0m\u001b[0m\u001b[1m\u001b[38;5;12m| \u001b[0m\u001b[0m    path: std::path::PathBuf,\u001b[0m\n",
            "\u001b[0m   \u001b[0m\u001b[0m\u001b[1m\u001b[38;5;12m| \u001b[0m\u001b[0m    \u001b[0m\u001b[0m\u001b[1m\u001b[33m^^^^^^^^^^^^^^^^^^^^^^^^\u001b[0m\n",
            "\n",
            "\u001b[0m\u001b[0m\u001b[1m\u001b[32m    Finished\u001b[0m dev [unoptimized + debuginfo] target(s) in 1m 03s\n"
          ],
          "name": "stdout"
        }
      ]
    },
    {
      "cell_type": "code",
      "metadata": {
        "id": "gYY37lFtA_E9",
        "outputId": "32b48e84-2e03-4de5-c697-fdbd92ec991a",
        "colab": {
          "base_uri": "https://localhost:8080/"
        }
      },
      "source": [
        "! cargo run this"
      ],
      "execution_count": 17,
      "outputs": [
        {
          "output_type": "stream",
          "text": [
            "\u001b[0m\u001b[0m\u001b[1m\u001b[32m    Finished\u001b[0m dev [unoptimized + debuginfo] target(s) in 0.00s\n",
            "\u001b[0m\u001b[0m\u001b[1m\u001b[32m     Running\u001b[0m `target/debug/content this`\n",
            "Hello, world!\n"
          ],
          "name": "stdout"
        }
      ]
    },
    {
      "cell_type": "markdown",
      "metadata": {
        "id": "nY7g9ZHWrqTU"
      },
      "source": [
        "# いまここ"
      ]
    },
    {
      "cell_type": "markdown",
      "metadata": {
        "id": "csKdiYcwXwQa"
      },
      "source": [
        ""
      ]
    }
  ]
}