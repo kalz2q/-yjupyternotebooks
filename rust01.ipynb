{
  "nbformat": 4,
  "nbformat_minor": 0,
  "metadata": {
    "colab": {
      "name": "rust01.ipynb",
      "provenance": [],
      "toc_visible": true,
      "authorship_tag": "ABX9TyOYjgI/2jKNFSjnxQv6Mj9l",
      "include_colab_link": true
    },
    "kernelspec": {
      "name": "python3",
      "display_name": "Python 3"
    }
  },
  "cells": [
    {
      "cell_type": "markdown",
      "metadata": {
        "id": "view-in-github",
        "colab_type": "text"
      },
      "source": [
        "<a href=\"https://colab.research.google.com/github/kalz2q/mycolabnotebooks/blob/master/rust01.ipynb\" target=\"_parent\"><img src=\"https://colab.research.google.com/assets/colab-badge.svg\" alt=\"Open In Colab\"/></a>"
      ]
    },
    {
      "cell_type": "markdown",
      "metadata": {
        "id": "Z5PU-iNA6q3p"
      },
      "source": [
        "# メモ\n",
        "\n",
        "1. Colab で実行しながら読まれることを想定している。\n",
        "1. Rust の勉強\n",
        "1. 資料は本家のテュートリアル https://rust-cli.github.io/book/index.html"
      ]
    },
    {
      "cell_type": "markdown",
      "metadata": {
        "id": "NfI_Y6uw54N9"
      },
      "source": [
        "# Rust のインストール\n",
        "\n",
        "\n",
        "\n"
      ]
    },
    {
      "cell_type": "code",
      "metadata": {
        "id": "NqpdnM0vvX1F"
      },
      "source": [
        "# Rust をインストールする。\n",
        "%%capture\n",
        "!apt install rustc --fix-missing"
      ],
      "execution_count": 11,
      "outputs": []
    },
    {
      "cell_type": "code",
      "metadata": {
        "id": "0YSWbhrFfyR6"
      },
      "source": [
        "%env USER=root\n",
        "!cargo init"
      ],
      "execution_count": null,
      "outputs": []
    },
    {
      "cell_type": "code",
      "metadata": {
        "id": "D0LUqMYq8kv8"
      },
      "source": [
        "# インストールの確認\n",
        "# !rustc --version"
      ],
      "execution_count": null,
      "outputs": []
    },
    {
      "cell_type": "code",
      "metadata": {
        "id": "kQLzTzRCfh5S"
      },
      "source": [
        "# 環境をつくるコマンドの cargo も入っている\n",
        "# !cargo --version"
      ],
      "execution_count": null,
      "outputs": []
    },
    {
      "cell_type": "markdown",
      "metadata": {
        "id": "a-dvtcLp-cCJ"
      },
      "source": [
        "以上で、ここでmain.rsをビルドして、コンパイルすることができるようになる。"
      ]
    },
    {
      "cell_type": "code",
      "metadata": {
        "id": "L7OQbOxm9KcA",
        "colab": {
          "base_uri": "https://localhost:8080/"
        },
        "outputId": "b58a3562-c5e7-488b-f240-9f18873823da"
      },
      "source": [
        "# プログラムを書く\n",
        "%%writefile main.rs\n",
        "fn main() {\n",
        "    println!(\"Hello, world!\");\n",
        "}"
      ],
      "execution_count": 42,
      "outputs": [
        {
          "output_type": "stream",
          "text": [
            "Overwriting main.rs\n"
          ],
          "name": "stdout"
        }
      ]
    },
    {
      "cell_type": "code",
      "metadata": {
        "id": "cp18zfSS9RtH",
        "colab": {
          "base_uri": "https://localhost:8080/"
        },
        "outputId": "f9a27a83-ccff-4d9e-9bca-f4d45ab2b854"
      },
      "source": [
        "# コンパイル&ラン(実行)\n",
        "!cargo run"
      ],
      "execution_count": 43,
      "outputs": [
        {
          "output_type": "stream",
          "text": [
            "\u001b[0m\u001b[0m\u001b[1m\u001b[32m   Compiling\u001b[0m content v0.1.0 (/content)\n",
            "\u001b[0m\u001b[0m\u001b[1m\u001b[32m    Finished\u001b[0m dev [unoptimized + debuginfo] target(s) in 0.36s\n",
            "\u001b[0m\u001b[0m\u001b[1m\u001b[32m     Running\u001b[0m `target/debug/content`\n",
            "Hello, world!\n"
          ],
          "name": "stdout"
        }
      ]
    },
    {
      "cell_type": "markdown",
      "metadata": {
        "id": "pAqxIySQ7GiU"
      },
      "source": [
        "# テュートリアルより\n",
        "\n"
      ]
    },
    {
      "cell_type": "markdown",
      "metadata": {
        "id": "lvQ7KiHbK_Ym"
      },
      "source": [
        "セルマジックの %%script false を書くとそれ以降の行は実行されない。\n",
        "\n",
        "全体をコメントアウトしたような使い方ができる。"
      ]
    },
    {
      "cell_type": "markdown",
      "metadata": {
        "id": "3NKM9fmfePp_"
      },
      "source": [
        "## 最初の課題"
      ]
    },
    {
      "cell_type": "markdown",
      "metadata": {
        "id": "AHGeBcC9BvjG"
      },
      "source": [
        "次のような動作をする grep もどき(grrs)をつくる。"
      ]
    },
    {
      "cell_type": "code",
      "metadata": {
        "id": "wmYAtznw7WSe"
      },
      "source": [
        "%%script false\n",
        "\n",
        "$ cat test.txt\n",
        "foo: 10\n",
        "bar: 20\n",
        "baz: 30\n",
        "$ grrs foo test.txt\n",
        "foo: 10\n",
        "$ grrs --help\n",
        "[some help text explaining the available options]\n"
      ],
      "execution_count": null,
      "outputs": []
    },
    {
      "cell_type": "markdown",
      "metadata": {
        "id": "JkdUpNY5eyL2"
      },
      "source": [
        "## コマンドラインをパースする"
      ]
    },
    {
      "cell_type": "markdown",
      "metadata": {
        "id": "1FtmH8ONe6R_"
      },
      "source": [
        "典型的なコマンドラインツールはつぎのような形になる。\n"
      ]
    },
    {
      "cell_type": "code",
      "metadata": {
        "id": "mSUwDZAFfr6U"
      },
      "source": [
        "%%script false\n",
        "$ grrs foobar test.txt"
      ],
      "execution_count": null,
      "outputs": []
    },
    {
      "cell_type": "markdown",
      "metadata": {
        "id": "7wNDMxo6fq2A"
      },
      "source": [
        "この例では、grrs というプログラムで、test.txt の中の foobar という文字列を含む行をプリントアウトすることを想定している。\n",
        "\n",
        "コマンドライン引数と呼ばれる。\n",
        "\n",
        "\n"
      ]
    },
    {
      "cell_type": "markdown",
      "metadata": {
        "id": "ziPrCPABhG9m"
      },
      "source": [
        "## コマンドライン引数の取得\n",
        "\n",
        "標準ライブラリーに関数 \n",
        "\n",
        "std::env::args() \n",
        "\n",
        "があり、戻り値はイテレーターで index 0 にはプログラム自身が入っている。 \n",
        "\n",
        "\n",
        "\n"
      ]
    },
    {
      "cell_type": "code",
      "metadata": {
        "id": "9s64k-2BhiFB",
        "colab": {
          "base_uri": "https://localhost:8080/"
        },
        "outputId": "75d68028-f940-49d3-a9cc-4aed980ae132"
      },
      "source": [
        "%%script false\n",
        "\n",
        "struct Cli {\n",
        "    pattern: String,\n",
        "    path: std::path::PathBuf,\n",
        "}\n",
        "\n",
        "fn main (){\n",
        "    let pattern = std::env::args().nth(1).expect(\"no pattern given\");\n",
        "    let path = std::env::args().nth(2).expect(\"no path given\");\n",
        "\n",
        "    let args = Cli {\n",
        "        pattern: pattern,\n",
        "        path: std::path::PathBuf::from(path),\n",
        "}"
      ],
      "execution_count": 32,
      "outputs": [
        {
          "output_type": "stream",
          "text": [
            "Overwriting main.rs\n"
          ],
          "name": "stdout"
        }
      ]
    },
    {
      "cell_type": "markdown",
      "metadata": {
        "id": "oVVSCi_Kib1O"
      },
      "source": [
        "## StructOpt によるコマンドライン引数の取得\n",
        "\n",
        "上のプログラムでもコマンドライン引数は取得できるのだが、あまり便利ではない。 フラグやオプション、ヘルプを付け加えたいというときにどうするか。 ライブラリーを使うのが便利で、コマンドライン引数をパースするのによく使われるのは clap というライブラリーである。\n",
        "\n",
        "今回使う structopt ライブラリーも clap をベースにしていて、struct の定義に使える。\n",
        "\n",
        "ライブラリーを import するには、Cargo.toml の [dependencies] セクションに\n",
        "```\n",
        "structopt = \"0.3.13\"\n",
        "```\n",
        "を加える。"
      ]
    },
    {
      "cell_type": "code",
      "metadata": {
        "id": "qhstw79skbCE",
        "colab": {
          "base_uri": "https://localhost:8080/"
        },
        "outputId": "933002be-9ed8-458c-b982-67db1a32e5cd"
      },
      "source": [
        "%%writefile Cargo.toml\n",
        "[package]\n",
        "name = \"content\"\n",
        "version = \"0.1.0\"\n",
        "authors = [\"root\"]\n",
        "edition = \"2018\"\n",
        "\n",
        "# See more keys and their definitions at https://doc.rust-lang.org/cargo/reference/manifest.html\n",
        "\n",
        "[dependencies]\n",
        "structopt = \"0.3.13\"\n",
        "\n",
        "[[bin]]\n",
        "name = \"content\"\n",
        "path = \"main.rs\""
      ],
      "execution_count": 34,
      "outputs": [
        {
          "output_type": "stream",
          "text": [
            "Overwriting Cargo.toml\n"
          ],
          "name": "stdout"
        }
      ]
    },
    {
      "cell_type": "code",
      "metadata": {
        "id": "AKAmaAgJJpGA",
        "outputId": "049593f8-ae87-42a5-e431-cb83f114360c",
        "colab": {
          "base_uri": "https://localhost:8080/"
        }
      },
      "source": [
        "%%writefile test.txt\n",
        "foo: 10\n",
        "bar: 20\n",
        "baz: 30"
      ],
      "execution_count": 28,
      "outputs": [
        {
          "output_type": "stream",
          "text": [
            "Writing test.txt\n"
          ],
          "name": "stdout"
        }
      ]
    },
    {
      "cell_type": "markdown",
      "metadata": {
        "id": "fLzLxnIQkRoL"
      },
      "source": [
        "これで次のようにプログラムで StructOpt が使える。\n",
        "\n",
        "ついでにドキュメントも加えよう。\n",
        "\n"
      ]
    },
    {
      "cell_type": "code",
      "metadata": {
        "id": "pEC2Fo6Ek5_E",
        "colab": {
          "base_uri": "https://localhost:8080/"
        },
        "outputId": "253c0612-534b-424e-a46e-f8591629b86f"
      },
      "source": [
        "%%writefile main.rs\n",
        "use structopt::StructOpt;\n",
        "\n",
        "/// Search for a pattern in a file and display the lines that contain it.\n",
        "#[derive(StructOpt)]\n",
        "struct Cli {\n",
        "    /// The pattern to look for\n",
        "    pattern: String,\n",
        "    /// The path to the file to read\n",
        "    #[structopt(parse(from_os_str))]\n",
        "    path: std::path::PathBuf,\n",
        "}\n",
        "\n",
        "fn main (){\n",
        "    let args = Cli::from_args();\n",
        "    println!(\"{} => {:?}\", args.pattern, args.path)\n",
        "}"
      ],
      "execution_count": 38,
      "outputs": [
        {
          "output_type": "stream",
          "text": [
            "Overwriting main.rs\n"
          ],
          "name": "stdout"
        }
      ]
    },
    {
      "cell_type": "markdown",
      "metadata": {
        "id": "o67o2iRFfSX6"
      },
      "source": [
        "Clap は各フィールドに入るべき値を管理していて、\n",
        "\n",
        "\n",
        "let args = Cli::from_args();\n",
        "\n",
        "が失敗すると、ヘルプメッセージを出して、終了する。\n",
        "\n"
      ]
    },
    {
      "cell_type": "code",
      "metadata": {
        "id": "IEzoM6mr70iI"
      },
      "source": [
        "# あるべき引数なしに実行するとつぎのようになる\n",
        "%%script false\n",
        "$ cargo run\n",
        "    Finished dev [unoptimized + debuginfo] target(s) in 10.16s\n",
        "     Running `target/debug/grrs`\n",
        "error: The following required arguments were not provided:\n",
        "    <pattern>\n",
        "    <path>\n",
        "\n",
        "USAGE:\n",
        "    grrs <pattern> <path>\n",
        "\n",
        "For more information try --help"
      ],
      "execution_count": null,
      "outputs": []
    },
    {
      "cell_type": "code",
      "metadata": {
        "id": "idIX0qJV8It5"
      },
      "source": [
        "# cargo run に引数を付けて実行したい時は -- のあとに書く\n",
        "%%script false\n",
        "\n",
        "$ cargo run -- some-pattern some-file\n",
        "    Finished dev [unoptimized + debuginfo] target(s) in 0.11s\n",
        "     Running `target/debug/grrs some-pattern some-file`"
      ],
      "execution_count": null,
      "outputs": []
    },
    {
      "cell_type": "markdown",
      "metadata": {
        "id": "8cQuJM9m8u4T"
      },
      "source": [
        "実験: やってみよう。"
      ]
    },
    {
      "cell_type": "code",
      "metadata": {
        "id": "nIMV44ypDCbY",
        "outputId": "970c8d35-c674-40b6-ad1c-59595160997c",
        "colab": {
          "base_uri": "https://localhost:8080/"
        }
      },
      "source": [
        "!cargo build; cargo run -- bar test.txt"
      ],
      "execution_count": 39,
      "outputs": [
        {
          "output_type": "stream",
          "text": [
            "\u001b[0m\u001b[0m\u001b[1m\u001b[32m   Compiling\u001b[0m content v0.1.0 (/content)\n",
            "\u001b[0m\u001b[0m\u001b[1m\u001b[32m    Finished\u001b[0m dev [unoptimized + debuginfo] target(s) in 0.96s\n",
            "\u001b[0m\u001b[0m\u001b[1m\u001b[32m    Finished\u001b[0m dev [unoptimized + debuginfo] target(s) in 0.02s\n",
            "\u001b[0m\u001b[0m\u001b[1m\u001b[32m     Running\u001b[0m `target/debug/content bar test.txt`\n",
            "bar => \"test.txt\"\n"
          ],
          "name": "stdout"
        }
      ]
    },
    {
      "cell_type": "markdown",
      "metadata": {
        "id": "Hu0q87js-gtS"
      },
      "source": [
        "## 課題 pattern と path を出力する"
      ]
    },
    {
      "cell_type": "code",
      "metadata": {
        "id": "jc4q-SUs-orc",
        "colab": {
          "base_uri": "https://localhost:8080/"
        },
        "outputId": "b05f4cbb-18e5-4dfa-fed9-5aa60f1a06e5"
      },
      "source": [
        "%%writefile main.rs\n",
        "use structopt::StructOpt;\n",
        "\n",
        "/// Search for a pattern in a file and display the lines that contain it.\n",
        "#[derive(StructOpt)]\n",
        "struct Cli {\n",
        "    /// The pattern to look for\n",
        "    pattern: String,\n",
        "    /// The path to the file to read\n",
        "    #[structopt(parse(from_os_str))]\n",
        "    path: std::path::PathBuf,\n",
        "}\n",
        "\n",
        "fn main (){\n",
        "    let args = Cli::from_args();\n",
        "    println!(\"{} => {:?}\", args.pattern, args.path)\n",
        "}"
      ],
      "execution_count": null,
      "outputs": [
        {
          "output_type": "stream",
          "text": [
            "Overwriting main.rs\n"
          ],
          "name": "stdout"
        }
      ]
    },
    {
      "cell_type": "code",
      "metadata": {
        "id": "qUBKP7b6-5k8",
        "colab": {
          "base_uri": "https://localhost:8080/"
        },
        "outputId": "98a7c307-8626-47bb-8e1d-7fe6a8d1a34e"
      },
      "source": [
        "# 実験\n",
        "!cargo run -- some-pattern some-file"
      ],
      "execution_count": null,
      "outputs": [
        {
          "output_type": "stream",
          "text": [
            "\u001b[0m\u001b[0m\u001b[1m\u001b[32m   Compiling\u001b[0m content v0.1.0 (/content)\n",
            "\u001b[0m\u001b[0m\u001b[1m\u001b[32m    Finished\u001b[0m dev [unoptimized + debuginfo] target(s) in 1.04s\n",
            "\u001b[0m\u001b[0m\u001b[1m\u001b[32m     Running\u001b[0m `target/debug/content some-pattern some-file`\n",
            "some-pattern => \"some-file\"\n"
          ],
          "name": "stdout"
        }
      ]
    },
    {
      "cell_type": "markdown",
      "metadata": {
        "id": "csKdiYcwXwQa"
      },
      "source": [
        "## grrs の最初の実装\n"
      ]
    },
    {
      "cell_type": "code",
      "metadata": {
        "id": "EsQX3x9hBWjQ",
        "colab": {
          "base_uri": "https://localhost:8080/"
        },
        "outputId": "c7bea728-bb99-4e2c-abbe-569508fd2f1f"
      },
      "source": [
        "%%writefile main.rs\n",
        "use structopt::StructOpt;\n",
        "\n",
        "/// Search for a pattern in a file and display the lines that contain it.\n",
        "#[derive(StructOpt)]\n",
        "struct Cli {\n",
        "    /// The pattern to look for\n",
        "    pattern: String,\n",
        "    /// The path to the file to read\n",
        "    #[structopt(parse(from_os_str))]\n",
        "    path: std::path::PathBuf,\n",
        "}\n",
        "\n",
        "fn main (){\n",
        "    let args = Cli::from_args();\n",
        "    let content = std::fs::read_to_string(&args.path).expect(\"could not read file\");\n",
        "\n",
        "    for line in content.lines() {\n",
        "        if line.contains(&args.pattern) {\n",
        "            println!(\"{}\", line);\n",
        "        }\n",
        "    }\n",
        "}"
      ],
      "execution_count": 40,
      "outputs": [
        {
          "output_type": "stream",
          "text": [
            "Overwriting main.rs\n"
          ],
          "name": "stdout"
        }
      ]
    },
    {
      "cell_type": "code",
      "metadata": {
        "id": "NxvWCszDB7F0",
        "colab": {
          "base_uri": "https://localhost:8080/"
        },
        "outputId": "3e87308d-8d4b-4f5a-e768-198563bf74f8"
      },
      "source": [
        "!cargo run -- main main.rs"
      ],
      "execution_count": 41,
      "outputs": [
        {
          "output_type": "stream",
          "text": [
            "\u001b[0m\u001b[0m\u001b[1m\u001b[32m   Compiling\u001b[0m content v0.1.0 (/content)\n",
            "\u001b[0m\u001b[0m\u001b[1m\u001b[32m    Finished\u001b[0m dev [unoptimized + debuginfo] target(s) in 1.03s\n",
            "\u001b[0m\u001b[0m\u001b[1m\u001b[32m     Running\u001b[0m `target/debug/content main main.rs`\n",
            "fn main (){\n"
          ],
          "name": "stdout"
        }
      ]
    },
    {
      "cell_type": "markdown",
      "metadata": {
        "id": "zrr7ddNsCkDz"
      },
      "source": [
        "上の実行結果が、\n",
        "```\n",
        "fn main (){\n",
        "```\n",
        "であれば成功!!!!"
      ]
    },
    {
      "cell_type": "code",
      "metadata": {
        "id": "UfC_2OAmCRpR",
        "colab": {
          "base_uri": "https://localhost:8080/"
        },
        "outputId": "8af13918-3565-431e-be07-68aeec2e6cd2"
      },
      "source": [
        "# 実験\n",
        "!cargo run -- path main.rs"
      ],
      "execution_count": null,
      "outputs": [
        {
          "output_type": "stream",
          "text": [
            "\u001b[0m\u001b[0m\u001b[1m\u001b[32m    Finished\u001b[0m dev [unoptimized + debuginfo] target(s) in 0.02s\n",
            "\u001b[0m\u001b[0m\u001b[1m\u001b[32m     Running\u001b[0m `target/debug/content path main.rs`\n",
            "    /// The path to the file to read\n",
            "    path: std::path::PathBuf,\n",
            "    let content = std::fs::read_to_string(&args.path).expect(\"could not read file\");\n"
          ],
          "name": "stdout"
        }
      ]
    },
    {
      "cell_type": "markdown",
      "metadata": {
        "id": "63Av9BqCBMsd"
      },
      "source": [
        "## 課題 ファイルを一度に全部読み込まない方法\n",
        "\n",
        "巨大なファイルだった場合、\n",
        "```\n",
        "let content = std::fs::read_to_string(&args.path).expect(\"could not read file\");\n",
        "```\n",
        "`read_to_string()`の代わりに`BufReader`を使う方法がある。\n",
        "\n"
      ]
    },
    {
      "cell_type": "markdown",
      "metadata": {
        "id": "UaLYb7AKDpFq"
      },
      "source": [
        "## エラー出力の改善\n"
      ]
    },
    {
      "cell_type": "markdown",
      "metadata": {
        "id": "JCSf91rjRtsd"
      },
      "source": [
        "\n",
        "## Results\n",
        "\n",
        "関数 read_to_string のような関数は戻り値は文字列ではなく、文字列かもしくはなんらかのエラーという Result というタイプの戻り値になる。 エラーは今回の場合は std::io::Error になる。 Result は列挙型 enum なので、結果は match が使える。\n",
        "\n"
      ]
    },
    {
      "cell_type": "code",
      "metadata": {
        "id": "LGoxFeb-fNrp"
      },
      "source": [
        "%%script false\n",
        "let result = std::fs::read_to_string(\"test.txt\");\n",
        "match result {\n",
        "    Ok(content) => { println!(\"File content: {}\", content); }\n",
        "    Err(error) => { println!(\"Oh noes: {}\", error); }\n",
        "}"
      ],
      "execution_count": null,
      "outputs": []
    },
    {
      "cell_type": "markdown",
      "metadata": {
        "id": "81ajupF3RlEn"
      },
      "source": [
        "## アンラッピング\n",
        "\n",
        "match によって得られた文字列 content は次のような方法で変数に格納できる。\n"
      ]
    },
    {
      "cell_type": "code",
      "metadata": {
        "id": "Y0wR8GcpgJUz"
      },
      "source": [
        "%%script false\n",
        "let result = std::fs::read_to_string(\"test.txt\");\n",
        "let content = match result {\n",
        "    Ok(content) => { content },\n",
        "    Err(error) => { panic!(\"Can't deal with {}, just exit here\", error); }\n",
        "};\n",
        "println!(\"file content: {}\", content);"
      ],
      "execution_count": null,
      "outputs": []
    },
    {
      "cell_type": "markdown",
      "metadata": {
        "id": "ESzQoUqwgQsA"
      },
      "source": [
        "# いまここ"
      ]
    },
    {
      "cell_type": "markdown",
      "metadata": {
        "id": "aA5oSCF7ReTK"
      },
      "source": [
        "\n",
        "We can use the String in content after the match block. If result were an error, the String wouldn’t exist. But since the program would exit before it ever reached a point where we use content, it’s fine.\n",
        "\n",
        "This may seem drastic, but it’s very convenient. If your program needs to read that file and can’t do anything if the file doesn’t exist, exiting is a valid strategy. There’s even a shortcut method on Results, called unwrap:\n",
        "\n"
      ]
    },
    {
      "cell_type": "markdown",
      "metadata": {
        "id": "OBeX9aPmRbGy"
      },
      "source": [
        "\n",
        "```\n",
        "let content = std::fs::read_to_string(\"test.txt\").unwrap();\n",
        "```\n"
      ]
    },
    {
      "cell_type": "markdown",
      "metadata": {
        "id": "LdkdXUAhRYxK"
      },
      "source": [
        "\n",
        "# No need to panic\n",
        "\n",
        "Of course, aborting the program is not the only way to deal with errors. Instead of the panic!, we can also easily write return:\n"
      ]
    },
    {
      "cell_type": "markdown",
      "metadata": {
        "id": "3SFZp11MRV6D"
      },
      "source": [
        "\n",
        "\n",
        "```\n",
        "let result = std::fs::read_to_string(\"test.txt\");\n",
        "let _content = match result {\n",
        "    Ok(content) => { content },\n",
        "    Err(error) => { return Err(error.into()); }\n",
        "};\n",
        "```\n"
      ]
    },
    {
      "cell_type": "markdown",
      "metadata": {
        "id": "mDKp5gdARSyU"
      },
      "source": [
        "\n",
        "This, however changes the return type our function needs. Indeed, there was something hidden in our examples all this time: The function signature this code lives in. And in this last example with return, it becomes important. Here’s the full example:\n"
      ]
    },
    {
      "cell_type": "markdown",
      "metadata": {
        "id": "peQbgvtCROc1"
      },
      "source": [
        "\n",
        "\n",
        "```\n",
        "fn main() -> Result<(), Box<dyn std::error::Error>> {\n",
        "    let result = std::fs::read_to_string(\"test.txt\");\n",
        "    let content = match result {\n",
        "        Ok(content) => { content },\n",
        "        Err(error) => { return Err(error.into()); }\n",
        "    };\n",
        "    println!(\"file content: {}\", content);\n",
        "    Ok(())\n",
        "}\n",
        "```\n"
      ]
    },
    {
      "cell_type": "markdown",
      "metadata": {
        "id": "DTjnLGezRKtn"
      },
      "source": [
        "\n",
        "Our return type is a Result! This is why we can write return Err(error); in the second match arm. See how there is an Ok(()) at the bottom? It’s the default return value of the function and means “Result is okay, and has no content”.\n",
        "\n",
        "Aside: Why is this not written as return Ok(());? It easily could be – this is totally valid as well. The last expression of any block in Rust is its return value, and it is customary to omit needless returns.\n"
      ]
    },
    {
      "cell_type": "markdown",
      "metadata": {
        "id": "1tgetGS2R77i"
      },
      "source": [
        "\n",
        "# Question Mark\n",
        "\n",
        "Just like calling .unwrap() is a shortcut for the match with panic! in the error arm, we have another shortcut for the match that returns in the error arm: ?.\n",
        "\n",
        "That’s right, a question mark. You can append this operator to a value of type Result, and Rust will internally expand this to something very similar to the match we just wrote.\n",
        "\n",
        "Give it a try:\n"
      ]
    },
    {
      "cell_type": "markdown",
      "metadata": {
        "id": "HmCqj-q7RHG_"
      },
      "source": [
        "\n",
        "```\n",
        "\n",
        "fn main() -> Result<(), Box<dyn std::error::Error>> {\n",
        "    let content = std::fs::read_to_string(\"test.txt\")?;\n",
        "    println!(\"file content: {}\", content);\n",
        "    Ok(())\n",
        "}\n",
        "```"
      ]
    },
    {
      "cell_type": "markdown",
      "metadata": {
        "id": "SGq8TQ5PRBwq"
      },
      "source": [
        "\n",
        "Very concise!\n",
        "\n",
        "Aside: There are a few more things happening here that are not required to understand to work with this. For example, the error type in our main function is Box<dyn std::error::Error>. But we’ve seen above that read_to_string returns a std::io::Error. This works because ? expands to code that converts error types.\n",
        "\n",
        "Box<dyn std::error::Error> is also an interesting type. It’s a Box that can contain any type that implements the standard Error trait. This means that basically all errors can be put into this box, so we can use ? on all of the usual functions that return Results.\n",
        "\n",
        "## Providing Context\n",
        "\n",
        "The errors you get when using ? in your main function are okay, but they are not great. For example: When you run std::fs::read_to_string(\"test.txt\")? but the file test.txt doesn’t exist, you get this output:\n",
        "\n",
        "\n",
        "Error: Os { code: 2, kind: NotFound, message: \"No such file or directory\" }\n",
        "In cases where your code doesn’t literally contain the file name, it would be very hard to tell which file was NotFound. There are multiple ways to deal with this.\n",
        "\n",
        "For example, we can create our own error type, and then use that to build a custom error message:\n"
      ]
    },
    {
      "cell_type": "markdown",
      "metadata": {
        "id": "s2r7nVsMQ9Gr"
      },
      "source": [
        "\n",
        "```\n",
        "#[derive(Debug)]\n",
        "struct CustomError(String);\n",
        "\n",
        "fn main() -> Result<(), CustomError> {\n",
        "    let path = \"test.txt\";\n",
        "    let content = std::fs::read_to_string(path)\n",
        "        .map_err(|err| CustomError(format!(\"Error reading `{}`: {}\", path, err)))?;\n",
        "    println!(\"file content: {}\", content);\n",
        "    Ok(())\n",
        "}\n",
        "\n",
        "```\n"
      ]
    },
    {
      "cell_type": "markdown",
      "metadata": {
        "id": "4znuIyFGQ6Dd"
      },
      "source": [
        "\n",
        "Now, running this we’ll get our custom error message:\n",
        "\n",
        "```\n",
        "Error: CustomError(\"Error reading `test.txt`: No such file or directory (os error 2)\")\n",
        "Not very pretty, but we can easily adapt the debug output for our type later on.\n",
        "```\n",
        "This pattern is in fact very common. It has one problem, though: We don’t store the original error, only its string representation. The often used anyhow library has a neat solution for that: Similar to our CustomError type, its Context trait can be used to add a description. Additionally, it also keeps the original error, so we get a “chain” of error messages pointing out the root cause.\n",
        "\n",
        "Let’s first import the anyhow crate by adding anyhow = \"1.0\" to the [dependencies] section of our Cargo.toml file.\n",
        "\n",
        "The full example will then look like this:\n"
      ]
    },
    {
      "cell_type": "markdown",
      "metadata": {
        "id": "tmJxuOX9QviS"
      },
      "source": [
        "\n",
        "```\n",
        "use anyhow::{Context, Result};\n",
        "\n",
        "fn main() -> Result<()> {\n",
        "    let path = \"test.txt\";\n",
        "    let content = std::fs::read_to_string(path)\n",
        "        .with_context(|| format!(\"could not read file `{}`\", path))?;\n",
        "    println!(\"file content: {}\", content);\n",
        "    Ok(())\n",
        "}\n",
        "This will print an error:\n",
        "\n",
        "\n",
        "Error: could not read file `test.txt`\n",
        "\n",
        "Caused by:\n",
        "    No such file or directory (os error 2)\n",
        "```"
      ]
    }
  ]
}