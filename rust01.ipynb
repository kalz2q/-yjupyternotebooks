{
  "nbformat": 4,
  "nbformat_minor": 0,
  "metadata": {
    "colab": {
      "name": "rust01.ipynb",
      "provenance": [],
      "authorship_tag": "ABX9TyMOXPxcyqd2mVwCGcgbhr2U",
      "include_colab_link": true
    },
    "kernelspec": {
      "name": "python3",
      "display_name": "Python 3"
    }
  },
  "cells": [
    {
      "cell_type": "markdown",
      "metadata": {
        "id": "view-in-github",
        "colab_type": "text"
      },
      "source": [
        "<a href=\"https://colab.research.google.com/github/kalz2q/mycolabnotebooks/blob/master/rust01.ipynb\" target=\"_parent\"><img src=\"https://colab.research.google.com/assets/colab-badge.svg\" alt=\"Open In Colab\"/></a>"
      ]
    },
    {
      "cell_type": "code",
      "metadata": {
        "id": "NqpdnM0vvX1F",
        "outputId": "608d5298-2f5a-47f2-8f31-03a064666533",
        "colab": {
          "base_uri": "https://localhost:8080/"
        }
      },
      "source": [
        "!apt install rustc"
      ],
      "execution_count": 1,
      "outputs": [
        {
          "output_type": "stream",
          "text": [
            "Reading package lists... Done\n",
            "Building dependency tree       \n",
            "Reading state information... Done\n",
            "The following additional packages will be installed:\n",
            "  cargo gdb gdbserver libbabeltrace1 libc6-dbg libdw1 libhttp-parser2.7.1\n",
            "  libssh2-1 libstd-rust-1.43 libstd-rust-dev rust-gdb\n",
            "Suggested packages:\n",
            "  cargo-doc gdb-doc rust-doc rust-src lld-9\n",
            "The following NEW packages will be installed:\n",
            "  cargo gdb gdbserver libbabeltrace1 libc6-dbg libdw1 libhttp-parser2.7.1\n",
            "  libssh2-1 libstd-rust-1.43 libstd-rust-dev rust-gdb rustc\n",
            "0 upgraded, 12 newly installed, 0 to remove and 12 not upgraded.\n",
            "Need to get 87.3 MB of archives.\n",
            "After this operation, 358 MB of additional disk space will be used.\n",
            "Get:1 http://archive.ubuntu.com/ubuntu bionic-updates/main amd64 libdw1 amd64 0.170-0.4ubuntu0.1 [203 kB]\n",
            "Get:2 http://archive.ubuntu.com/ubuntu bionic/main amd64 libbabeltrace1 amd64 1.5.5-1 [154 kB]\n",
            "Get:3 http://archive.ubuntu.com/ubuntu bionic-updates/main amd64 gdb amd64 8.1-0ubuntu3.2 [2,938 kB]\n",
            "Get:4 http://archive.ubuntu.com/ubuntu bionic-updates/main amd64 gdbserver amd64 8.1-0ubuntu3.2 [282 kB]\n",
            "Get:5 http://archive.ubuntu.com/ubuntu bionic/universe amd64 libssh2-1 amd64 1.8.0-1 [73.2 kB]\n",
            "Get:6 http://archive.ubuntu.com/ubuntu bionic-updates/universe amd64 libstd-rust-1.43 amd64 1.43.0+dfsg1+llvm-1~exp1ubuntu2~18.04.1 [47.9 MB]\n",
            "Get:7 http://archive.ubuntu.com/ubuntu bionic/main amd64 libhttp-parser2.7.1 amd64 2.7.1-2 [20.6 kB]\n",
            "Get:8 http://archive.ubuntu.com/ubuntu bionic-updates/universe amd64 libstd-rust-dev amd64 1.43.0+dfsg1+llvm-1~exp1ubuntu2~18.04.1 [25.7 MB]\n",
            "Get:9 http://archive.ubuntu.com/ubuntu bionic-updates/universe amd64 rustc amd64 1.43.0+dfsg1+llvm-1~exp1ubuntu2~18.04.1 [1,781 kB]\n",
            "Get:10 http://archive.ubuntu.com/ubuntu bionic-updates/universe amd64 cargo amd64 0.44.1-0ubuntu1~18.04.1 [3,070 kB]\n",
            "Get:11 http://archive.ubuntu.com/ubuntu bionic-updates/main amd64 libc6-dbg amd64 2.27-3ubuntu1.3 [5,163 kB]\n",
            "Get:12 http://archive.ubuntu.com/ubuntu bionic-updates/universe amd64 rust-gdb all 1.43.0+dfsg1+llvm-1~exp1ubuntu2~18.04.1 [26.6 kB]\n",
            "Fetched 87.3 MB in 5s (19.4 MB/s)\n",
            "Selecting previously unselected package libdw1:amd64.\n",
            "(Reading database ... 144786 files and directories currently installed.)\n",
            "Preparing to unpack .../00-libdw1_0.170-0.4ubuntu0.1_amd64.deb ...\n",
            "Unpacking libdw1:amd64 (0.170-0.4ubuntu0.1) ...\n",
            "Selecting previously unselected package libbabeltrace1:amd64.\n",
            "Preparing to unpack .../01-libbabeltrace1_1.5.5-1_amd64.deb ...\n",
            "Unpacking libbabeltrace1:amd64 (1.5.5-1) ...\n",
            "Selecting previously unselected package gdb.\n",
            "Preparing to unpack .../02-gdb_8.1-0ubuntu3.2_amd64.deb ...\n",
            "Unpacking gdb (8.1-0ubuntu3.2) ...\n",
            "Selecting previously unselected package gdbserver.\n",
            "Preparing to unpack .../03-gdbserver_8.1-0ubuntu3.2_amd64.deb ...\n",
            "Unpacking gdbserver (8.1-0ubuntu3.2) ...\n",
            "Selecting previously unselected package libssh2-1:amd64.\n",
            "Preparing to unpack .../04-libssh2-1_1.8.0-1_amd64.deb ...\n",
            "Unpacking libssh2-1:amd64 (1.8.0-1) ...\n",
            "Selecting previously unselected package libstd-rust-1.43:amd64.\n",
            "Preparing to unpack .../05-libstd-rust-1.43_1.43.0+dfsg1+llvm-1~exp1ubuntu2~18.04.1_amd64.deb ...\n",
            "Unpacking libstd-rust-1.43:amd64 (1.43.0+dfsg1+llvm-1~exp1ubuntu2~18.04.1) ...\n",
            "Selecting previously unselected package libhttp-parser2.7.1:amd64.\n",
            "Preparing to unpack .../06-libhttp-parser2.7.1_2.7.1-2_amd64.deb ...\n",
            "Unpacking libhttp-parser2.7.1:amd64 (2.7.1-2) ...\n",
            "Selecting previously unselected package libstd-rust-dev:amd64.\n",
            "Preparing to unpack .../07-libstd-rust-dev_1.43.0+dfsg1+llvm-1~exp1ubuntu2~18.04.1_amd64.deb ...\n",
            "Unpacking libstd-rust-dev:amd64 (1.43.0+dfsg1+llvm-1~exp1ubuntu2~18.04.1) ...\n",
            "Selecting previously unselected package rustc.\n",
            "Preparing to unpack .../08-rustc_1.43.0+dfsg1+llvm-1~exp1ubuntu2~18.04.1_amd64.deb ...\n",
            "Unpacking rustc (1.43.0+dfsg1+llvm-1~exp1ubuntu2~18.04.1) ...\n",
            "Selecting previously unselected package cargo.\n",
            "Preparing to unpack .../09-cargo_0.44.1-0ubuntu1~18.04.1_amd64.deb ...\n",
            "Unpacking cargo (0.44.1-0ubuntu1~18.04.1) ...\n",
            "Selecting previously unselected package libc6-dbg:amd64.\n",
            "Preparing to unpack .../10-libc6-dbg_2.27-3ubuntu1.3_amd64.deb ...\n",
            "Unpacking libc6-dbg:amd64 (2.27-3ubuntu1.3) ...\n",
            "Selecting previously unselected package rust-gdb.\n",
            "Preparing to unpack .../11-rust-gdb_1.43.0+dfsg1+llvm-1~exp1ubuntu2~18.04.1_all.deb ...\n",
            "Unpacking rust-gdb (1.43.0+dfsg1+llvm-1~exp1ubuntu2~18.04.1) ...\n",
            "Setting up libhttp-parser2.7.1:amd64 (2.7.1-2) ...\n",
            "Setting up libc6-dbg:amd64 (2.27-3ubuntu1.3) ...\n",
            "Setting up libdw1:amd64 (0.170-0.4ubuntu0.1) ...\n",
            "Setting up libssh2-1:amd64 (1.8.0-1) ...\n",
            "Setting up libstd-rust-1.43:amd64 (1.43.0+dfsg1+llvm-1~exp1ubuntu2~18.04.1) ...\n",
            "Setting up gdbserver (8.1-0ubuntu3.2) ...\n",
            "Setting up libbabeltrace1:amd64 (1.5.5-1) ...\n",
            "Setting up libstd-rust-dev:amd64 (1.43.0+dfsg1+llvm-1~exp1ubuntu2~18.04.1) ...\n",
            "Setting up rustc (1.43.0+dfsg1+llvm-1~exp1ubuntu2~18.04.1) ...\n",
            "Setting up cargo (0.44.1-0ubuntu1~18.04.1) ...\n",
            "Setting up gdb (8.1-0ubuntu3.2) ...\n",
            "Setting up rust-gdb (1.43.0+dfsg1+llvm-1~exp1ubuntu2~18.04.1) ...\n",
            "Processing triggers for man-db (2.8.3-2ubuntu0.1) ...\n",
            "Processing triggers for libc-bin (2.27-3ubuntu1.2) ...\n",
            "/sbin/ldconfig.real: /usr/local/lib/python3.6/dist-packages/ideep4py/lib/libmkldnn.so.0 is not a symbolic link\n",
            "\n"
          ],
          "name": "stdout"
        }
      ]
    },
    {
      "cell_type": "code",
      "metadata": {
        "id": "D0LUqMYq8kv8",
        "outputId": "991d1cce-8be3-40ca-b34c-c6642ca2aafd",
        "colab": {
          "base_uri": "https://localhost:8080/"
        }
      },
      "source": [
        "!rustc --version\n",
        "\n"
      ],
      "execution_count": 4,
      "outputs": [
        {
          "output_type": "stream",
          "text": [
            "rustc 1.43.0\n"
          ],
          "name": "stdout"
        }
      ]
    },
    {
      "cell_type": "code",
      "metadata": {
        "id": "L7OQbOxm9KcA",
        "outputId": "c34b8ab3-1e80-4610-e604-ece0821663dd",
        "colab": {
          "base_uri": "https://localhost:8080/"
        }
      },
      "source": [
        "%%writefile main.rs\n",
        "fn main() {\n",
        "    println!(\"Hello, world!\");\n",
        "}"
      ],
      "execution_count": 5,
      "outputs": [
        {
          "output_type": "stream",
          "text": [
            "Writing main.rs\n"
          ],
          "name": "stdout"
        }
      ]
    },
    {
      "cell_type": "code",
      "metadata": {
        "id": "cp18zfSS9RtH",
        "outputId": "514603f5-0b82-44bd-f53e-107bbf172e66",
        "colab": {
          "base_uri": "https://localhost:8080/"
        }
      },
      "source": [
        "!rustc main.rs\n",
        "!./main"
      ],
      "execution_count": 8,
      "outputs": [
        {
          "output_type": "stream",
          "text": [
            "Hello, world!\n"
          ],
          "name": "stdout"
        }
      ]
    }
  ]
}