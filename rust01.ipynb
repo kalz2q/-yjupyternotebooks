{
  "nbformat": 4,
  "nbformat_minor": 0,
  "metadata": {
    "colab": {
      "name": "rust01.ipynb",
      "provenance": [],
      "toc_visible": true,
      "authorship_tag": "ABX9TyPOwOjIqCJ8zJjWcVhB2Dt7",
      "include_colab_link": true
    },
    "kernelspec": {
      "name": "python3",
      "display_name": "Python 3"
    }
  },
  "cells": [
    {
      "cell_type": "markdown",
      "metadata": {
        "id": "view-in-github",
        "colab_type": "text"
      },
      "source": [
        "<a href=\"https://colab.research.google.com/github/kalz2q/mycolabnotebooks/blob/master/rust01.ipynb\" target=\"_parent\"><img src=\"https://colab.research.google.com/assets/colab-badge.svg\" alt=\"Open In Colab\"/></a>"
      ]
    },
    {
      "cell_type": "markdown",
      "metadata": {
        "id": "Z5PU-iNA6q3p"
      },
      "source": [
        "# メモ\n",
        "\n",
        "1. Colab で実行しながら読まれることを想定している。\n",
        "1. Rust の勉強\n",
        "1. 資料は本家のテュートリアル https://rust-cli.github.io/book/index.html"
      ]
    },
    {
      "cell_type": "markdown",
      "metadata": {
        "id": "NfI_Y6uw54N9"
      },
      "source": [
        "# Rust のインストール\n",
        "\n",
        "\n",
        "\n"
      ]
    },
    {
      "cell_type": "code",
      "metadata": {
        "id": "NqpdnM0vvX1F"
      },
      "source": [
        "# Rust をインストールする。\n",
        "%%capture\n",
        "!apt install rustc --fix-missing"
      ],
      "execution_count": null,
      "outputs": []
    },
    {
      "cell_type": "markdown",
      "metadata": {
        "id": "sNt9JTL5fJo0"
      },
      "source": [
        "通常の curl を使ったインストールは使えない。"
      ]
    },
    {
      "cell_type": "code",
      "metadata": {
        "id": "dLELZiZQ1HyM"
      },
      "source": [
        "# 参考\n",
        "\n",
        "# !curl https://sh.rustup.rs -sSf | sh\n",
        "#=> sh: 121: cannot open /dev/tty: No such device or address"
      ],
      "execution_count": null,
      "outputs": []
    },
    {
      "cell_type": "code",
      "metadata": {
        "id": "D0LUqMYq8kv8",
        "outputId": "a62017c0-a224-401d-ff2b-89f49cd7c5fc",
        "colab": {
          "base_uri": "https://localhost:8080/"
        }
      },
      "source": [
        "# インストールの確認\n",
        "!rustc --version"
      ],
      "execution_count": null,
      "outputs": [
        {
          "output_type": "stream",
          "text": [
            "rustc 1.43.0\n"
          ],
          "name": "stdout"
        }
      ]
    },
    {
      "cell_type": "code",
      "metadata": {
        "id": "kQLzTzRCfh5S",
        "outputId": "dd687686-d414-4a79-e4fa-278dd3e34330",
        "colab": {
          "base_uri": "https://localhost:8080/"
        }
      },
      "source": [
        "# 環境をつくるコマンドの cargo も入っている\n",
        "!cargo --version"
      ],
      "execution_count": null,
      "outputs": [
        {
          "output_type": "stream",
          "text": [
            "cargo 1.43.0\n"
          ],
          "name": "stdout"
        }
      ]
    },
    {
      "cell_type": "code",
      "metadata": {
        "id": "0YSWbhrFfyR6",
        "outputId": "7419c4cf-cb96-4439-de56-db446aa2e2df",
        "colab": {
          "base_uri": "https://localhost:8080/"
        }
      },
      "source": [
        "%env USER=root\n",
        "!cargo init"
      ],
      "execution_count": null,
      "outputs": [
        {
          "output_type": "stream",
          "text": [
            "env: USER=root\n",
            "\u001b[0m\u001b[0m\u001b[1m\u001b[32m     Created\u001b[0m binary (application) package\n"
          ],
          "name": "stdout"
        }
      ]
    },
    {
      "cell_type": "markdown",
      "metadata": {
        "id": "a-dvtcLp-cCJ"
      },
      "source": [
        "以上で、ここでmain.rsをビルドして、コンパイルすることができるようになる。"
      ]
    },
    {
      "cell_type": "code",
      "metadata": {
        "id": "L7OQbOxm9KcA",
        "outputId": "cd71a8c7-32c4-4d5a-fe86-04ef1eb85732",
        "colab": {
          "base_uri": "https://localhost:8080/"
        }
      },
      "source": [
        "# プログラムを書く\n",
        "%%writefile main.rs\n",
        "fn main() {\n",
        "    println!(\"Hello, world!\");\n",
        "}"
      ],
      "execution_count": null,
      "outputs": [
        {
          "output_type": "stream",
          "text": [
            "Overwriting main.rs\n"
          ],
          "name": "stdout"
        }
      ]
    },
    {
      "cell_type": "code",
      "metadata": {
        "id": "cp18zfSS9RtH"
      },
      "source": [
        "# コンパイル\n",
        "!cargo build"
      ],
      "execution_count": null,
      "outputs": []
    },
    {
      "cell_type": "code",
      "metadata": {
        "id": "tGBqfm82pCBI",
        "outputId": "ae06ff5b-05cd-4728-8828-457450111df5",
        "colab": {
          "base_uri": "https://localhost:8080/"
        }
      },
      "source": [
        "# コンパイルして実行\n",
        "!cargo run "
      ],
      "execution_count": null,
      "outputs": [
        {
          "output_type": "stream",
          "text": [
            "\u001b[0m\u001b[0m\u001b[1m\u001b[32m   Compiling\u001b[0m content v0.1.0 (/content)\n",
            "\u001b[0m\u001b[0m\u001b[1m\u001b[32m    Finished\u001b[0m dev [unoptimized + debuginfo] target(s) in 0.34s\n",
            "\u001b[0m\u001b[0m\u001b[1m\u001b[32m     Running\u001b[0m `target/debug/content`\n",
            "Hello, world!\n"
          ],
          "name": "stdout"
        }
      ]
    },
    {
      "cell_type": "markdown",
      "metadata": {
        "id": "pAqxIySQ7GiU"
      },
      "source": [
        "# テュートリアルより\n",
        "\n"
      ]
    },
    {
      "cell_type": "markdown",
      "metadata": {
        "id": "dmFCq2UVXoUT"
      },
      "source": [
        "以上で Colab で Rust チュートリアルのノートをとる準備が整ったが、チュートリアル自体は Colab 用ではないので次のような記述になっている。\n",
        "\n",
        "まず、`cargo new grrs` (grrsは今回作るプログラム名)、でディレクトリーを作る。 grrs の中にいろいろなファイルができる。 なかでも `Cargo.toml` にプロジェクトのメタデータが書かれていて、使われるライブラリーの依存、バージョンコントロールが行われる。 cargo run すると、main.rs がコンパイルされ、実行される。"
      ]
    },
    {
      "cell_type": "code",
      "metadata": {
        "id": "9v57SjiPXoUV"
      },
      "source": [
        "# ざっと次のような流れになる\n",
        "%%script false\n",
        "$ cargo new grrs\n",
        "     Created binary (application) `grrs` package\n",
        "$ cd grrs/\n",
        "$ cargo run\n",
        "   Compiling grrs v0.1.0 (/Users/pascal/code/grrs)\n",
        "    Finished dev [unoptimized + debuginfo] target(s) in 0.70s\n",
        "     Running `target/debug/grrs`\n",
        "Hello, world!"
      ],
      "execution_count": null,
      "outputs": []
    },
    {
      "cell_type": "markdown",
      "metadata": {
        "id": "3NKM9fmfePp_"
      },
      "source": [
        "## 最初の課題"
      ]
    },
    {
      "cell_type": "code",
      "metadata": {
        "id": "wmYAtznw7WSe"
      },
      "source": [
        "# テュートリアルより最初の課題\n",
        "# 次のような動作をするgrepもどき(grrs)をつくる。\n",
        "\n",
        "# $ cat test.txt\n",
        "# foo: 10\n",
        "# bar: 20\n",
        "# baz: 30\n",
        "# $ grrs foo test.txt\n",
        "# foo: 10\n",
        "# $ grrs --help\n",
        "# [some help text explaining the available options]\n"
      ],
      "execution_count": null,
      "outputs": []
    },
    {
      "cell_type": "markdown",
      "metadata": {
        "id": "JkdUpNY5eyL2"
      },
      "source": [
        "## コマンドラインをパースする"
      ]
    },
    {
      "cell_type": "markdown",
      "metadata": {
        "id": "BTTCFhYre3t6"
      },
      "source": [
        "# いまここ"
      ]
    },
    {
      "cell_type": "markdown",
      "metadata": {
        "id": "1FtmH8ONe6R_"
      },
      "source": [
        "典型的なコマンドラインツールはつぎのような形になる。\n"
      ]
    },
    {
      "cell_type": "code",
      "metadata": {
        "id": "mSUwDZAFfr6U"
      },
      "source": [
        "%%script false\n",
        "$ grrs foobar test.txt"
      ],
      "execution_count": 1,
      "outputs": []
    },
    {
      "cell_type": "markdown",
      "metadata": {
        "id": "7wNDMxo6fq2A"
      },
      "source": [
        "この例では、grrs というプログラムで、test.txt の中の foobar という文字列を含む行をプリントアウトすることを想定している。\n",
        "\n",
        "プログラム名のあとの文字列をコマンドライン引数 command line arguments とか、フラグ(--this)と呼び、大雑把に言うとスペースで区切られている文字列のリストとしてオペレーティングシステムの内部的には処理されている。\n",
        "\n"
      ]
    },
    {
      "cell_type": "markdown",
      "metadata": {
        "id": "ziPrCPABhG9m"
      },
      "source": [
        "\n",
        "\n",
        "\n",
        "\n",
        "There are many ways to think about these arguments, and how to parse them into something more easy to work with. You will also need to tell the users of your program which arguments they need to give and in which format they are expected.\n",
        "\n",
        "Getting the arguments\n",
        "The standard library contains the function std::env::args() that gives you an iterator of the given arguments. The first entry (at index 0) will be the name your program was called as (e.g. grrs), the ones that follow are what the user wrote afterwards.\n",
        "\n",
        "Getting the raw arguments this way is quite easy (in file src/main.rs, after fn main() {):\n"
      ]
    },
    {
      "cell_type": "markdown",
      "metadata": {
        "id": "WSTEnJZmfcvH"
      },
      "source": [
        "\n",
        "\n",
        "let pattern = std::env::args().nth(1).expect(\"no pattern given\");\n",
        "let path = std::env::args().nth(2).expect(\"no path given\");\n",
        "CLI arguments as data type\n",
        "Instead of thinking about them as a bunch of text, it often pays off to think of CLI arguments as a custom data type that represents the inputs to your program.\n"
      ]
    },
    {
      "cell_type": "markdown",
      "metadata": {
        "id": "Ie49J1ydfeRP"
      },
      "source": [
        "\n",
        "Look at grrs foobar test.txt: There are two arguments, first the pattern (the string to look for), and then the path (the file to look in).\n",
        "\n",
        "What more can we say about them? Well, for a start, both are required. We haven’t talked about any default values, so we expect our users to always provide two values. Furthermore, we can say a bit about their types: The pattern is expected to be a string, while the second argument is expected to be a path to a file.\n",
        "\n",
        "In Rust, it is common to structure programs around the data they handle, so this way of looking at CLI arguments fits very well. Let’s start with this (in file src/main.rs, before fn main() {):\n"
      ]
    },
    {
      "cell_type": "markdown",
      "metadata": {
        "id": "XTV9tcW4fbIp"
      },
      "source": [
        "\n",
        "\n",
        "struct Cli {\n",
        "    pattern: String,\n",
        "    path: std::path::PathBuf,\n",
        "}\n",
        "\n",
        "This defines a new structure (a struct) that has two fields to store data in: pattern, and path.\n",
        "\n",
        "Aside: PathBuf is like a String but for file system paths that works cross-platform.\n",
        "\n",
        "Now, we still need to get the actual arguments our program got into this form. One option would be to manually parse the list of strings we get from the operating system and build the structure ourselves. It would look something like this:\n"
      ]
    },
    {
      "cell_type": "markdown",
      "metadata": {
        "id": "8jSf-sq0fZP4"
      },
      "source": [
        "\n",
        "\n",
        "let pattern = std::env::args().nth(1).expect(\"no pattern given\");\n",
        "let path = std::env::args().nth(2).expect(\"no path given\");\n",
        "let args = Cli {\n",
        "    pattern: pattern,\n",
        "    path: std::path::PathBuf::from(path),\n",
        "};\n",
        "This works, but it’s not very convenient. How would you deal with the requirement to support --pattern=\"foo\" or --pattern \"foo\"? How would you implement --help?\n",
        "\n",
        "Parsing CLI arguments with StructOpt\n",
        "A much nicer way is to use one of the many available libraries. The most popular library for parsing command line arguments is called clap. It has all the functionality you’d expect, including support for sub-commands, shell completions, and great help messages.\n",
        "\n",
        "The structopt library builds on clap and provides a “derive” macro to generate clap code for struct definitions. This is quite nice: All we have to do is annotate a struct and it’ll generate the code that parses the arguments into the fields.\n",
        "\n",
        "Let’s first import structopt by adding structopt = \"0.3.13\" to the [dependencies] section of our Cargo.toml file.\n",
        "\n",
        "Now, we can write use structopt::StructOpt; in our code, and add #[derive(StructOpt)] right above our struct Cli. Let’s also write some documentation comments along the way.\n",
        "\n",
        "It’ll look like this (in file src/main.rs, before fn main() {):\n",
        "\n"
      ]
    },
    {
      "cell_type": "markdown",
      "metadata": {
        "id": "6lRzI0rOfWzp"
      },
      "source": [
        "\n",
        "use structopt::StructOpt;\n",
        "\n",
        "/// Search for a pattern in a file and display the lines that contain it.\n",
        "#[derive(StructOpt)]\n",
        "struct Cli {\n",
        "    /// The pattern to look for\n",
        "    pattern: String,\n",
        "    /// The path to the file to read\n",
        "    #[structopt(parse(from_os_str))]\n",
        "    path: std::path::PathBuf,\n",
        "}\n",
        "\n",
        "Note: There are a lot of custom attributes you can add to fields. For example, we added one to tell structopt how to parse the PathBuf type. To say you want to use this field for the argument after -o or --output, you’d add #[structopt(short = \"o\", long = \"output\")]. For more information, see the structopt documentation.\n",
        "\n",
        "Right below the Cli struct our template contains its main function. When the program starts, it will call this function. The first line is:\n"
      ]
    },
    {
      "cell_type": "markdown",
      "metadata": {
        "id": "o67o2iRFfSX6"
      },
      "source": [
        "\n",
        "\n",
        "fn main() {\n",
        "    let args = Cli::from_args();\n",
        "}\n",
        "This will try to parse the arguments into our Cli struct.\n",
        "\n",
        "But what if that fails? That’s the beauty of this approach: Clap knows which fields to expect, and what their expected format is. It can automatically generate a nice --help message, as well as give some great errors to suggest you pass --output when you wrote --putput.\n",
        "\n",
        "Note: The from_args method is meant to be used in your main function. When it fails, it will print out an error or help message and immediately exit the program. Don’t use it in other places!\n",
        "\n",
        "This is what it may look like\n",
        "Running it without any arguments:\n",
        "\n"
      ]
    },
    {
      "cell_type": "markdown",
      "metadata": {
        "id": "8XO4xkb0fQDQ"
      },
      "source": [
        "\n",
        "$ cargo run\n",
        "    Finished dev [unoptimized + debuginfo] target(s) in 10.16s\n",
        "     Running `target/debug/grrs`\n",
        "error: The following required arguments were not provided:\n",
        "    <pattern>\n",
        "    <path>\n",
        "\n",
        "USAGE:\n",
        "    grrs <pattern> <path>\n",
        "\n",
        "For more information try --help\n",
        "We can pass arguments when using cargo run directly by writing them after --:\n",
        "\n",
        "\n",
        "$ cargo run -- some-pattern some-file\n",
        "    Finished dev [unoptimized + debuginfo] target(s) in 0.11s\n",
        "     Running `target/debug/grrs some-pattern some-file`\n",
        "As you can see, there is no output. Which is good: That just means there is no error and our program ended.\n",
        "\n",
        "Exercise for the reader: Make this program output its arguments!"
      ]
    },
    {
      "cell_type": "code",
      "metadata": {
        "id": "Z9u503QJ7NZQ",
        "outputId": "c768940e-9e19-47e8-f3c0-a08c1310e48c",
        "colab": {
          "base_uri": "https://localhost:8080/"
        }
      },
      "source": [
        "%%writefile main.rs\n",
        "fn main() {\n",
        "    let pattern = std::env::args().nth(1).expect(\"no pattern given\");\n",
        "    let path = std::env::args().nth(2).expect(\"no path given\");\n",
        "}"
      ],
      "execution_count": null,
      "outputs": [
        {
          "output_type": "stream",
          "text": [
            "Overwriting main.rs\n"
          ],
          "name": "stdout"
        }
      ]
    },
    {
      "cell_type": "code",
      "metadata": {
        "id": "EPeu_cRi71__"
      },
      "source": [
        "# 実験\n",
        "!cargo build"
      ],
      "execution_count": null,
      "outputs": []
    },
    {
      "cell_type": "code",
      "metadata": {
        "id": "f4T2MtJETNLB",
        "outputId": "8e4df800-e61b-47b4-fffc-5902e21d5972",
        "colab": {
          "base_uri": "https://localhost:8080/"
        }
      },
      "source": [
        "%%writefile Cargo.toml\n",
        "[package]\n",
        "name = \"content\"\n",
        "version = \"0.1.0\"\n",
        "authors = [\"root\"]\n",
        "edition = \"2018\"\n",
        "\n",
        "# See more keys and their definitions at https://doc.rust-lang.org/cargo/reference/manifest.html\n",
        "\n",
        "[dependencies]\n",
        "structopt = \"0.3.13\"\n",
        "\n",
        "[[bin]]\n",
        "name = \"content\"\n",
        "path = \"main.rs\""
      ],
      "execution_count": null,
      "outputs": [
        {
          "output_type": "stream",
          "text": [
            "Overwriting Cargo.toml\n"
          ],
          "name": "stdout"
        }
      ]
    },
    {
      "cell_type": "code",
      "metadata": {
        "id": "dpsoBNwA8iPv",
        "outputId": "2cc071d5-1775-4f9f-da48-aef4290f0381",
        "colab": {
          "base_uri": "https://localhost:8080/"
        }
      },
      "source": [
        "%%writefile main.rs\n",
        "use structopt::StructOpt;\n",
        "\n",
        "/// Search for a pattern in a file and display the lines that contain it.\n",
        "#[derive(StructOpt)]\n",
        "struct Cli {\n",
        "    /// The pattern to look for\n",
        "    pattern: String,\n",
        "    /// The path to the file to read\n",
        "    #[structopt(parse(from_os_str))]\n",
        "    path: std::path::PathBuf,\n",
        "}\n",
        "\n",
        "fn main() {\n",
        "    let pattern = std::env::args().nth(1).expect(\"no pattern given\");\n",
        "    let path = std::env::args().nth(2).expect(\"no path given\");\n",
        "}"
      ],
      "execution_count": null,
      "outputs": [
        {
          "output_type": "stream",
          "text": [
            "Overwriting main.rs\n"
          ],
          "name": "stdout"
        }
      ]
    },
    {
      "cell_type": "code",
      "metadata": {
        "id": "8AmSOcgvTmP1"
      },
      "source": [
        "!cargo build"
      ],
      "execution_count": null,
      "outputs": []
    },
    {
      "cell_type": "code",
      "metadata": {
        "id": "gYY37lFtA_E9"
      },
      "source": [
        "! cargo run"
      ],
      "execution_count": null,
      "outputs": []
    },
    {
      "cell_type": "markdown",
      "metadata": {
        "id": "nY7g9ZHWrqTU"
      },
      "source": [
        "# いまここ"
      ]
    },
    {
      "cell_type": "markdown",
      "metadata": {
        "id": "csKdiYcwXwQa"
      },
      "source": [
        ""
      ]
    }
  ]
}