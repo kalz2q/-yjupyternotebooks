{
  "nbformat": 4,
  "nbformat_minor": 0,
  "metadata": {
    "colab": {
      "name": "rust01.ipynb",
      "provenance": [],
      "toc_visible": true,
      "authorship_tag": "ABX9TyPNxOkLOlSMkiQniX75fkpp",
      "include_colab_link": true
    },
    "kernelspec": {
      "name": "python3",
      "display_name": "Python 3"
    }
  },
  "cells": [
    {
      "cell_type": "markdown",
      "metadata": {
        "id": "view-in-github",
        "colab_type": "text"
      },
      "source": [
        "<a href=\"https://colab.research.google.com/github/kalz2q/mycolabnotebooks/blob/master/rust01.ipynb\" target=\"_parent\"><img src=\"https://colab.research.google.com/assets/colab-badge.svg\" alt=\"Open In Colab\"/></a>"
      ]
    },
    {
      "cell_type": "markdown",
      "metadata": {
        "id": "Z5PU-iNA6q3p"
      },
      "source": [
        "# メモ\n",
        "\n",
        "1. Colab で実行しながら読まれることを想定している。\n",
        "1. Rust の勉強\n",
        "1. 資料は本家のテュートリアル https://rust-cli.github.io/book/index.html"
      ]
    },
    {
      "cell_type": "markdown",
      "metadata": {
        "id": "NfI_Y6uw54N9"
      },
      "source": [
        "# Rust のインストール\n",
        "\n",
        "\n",
        "\n"
      ]
    },
    {
      "cell_type": "code",
      "metadata": {
        "id": "NqpdnM0vvX1F"
      },
      "source": [
        "# Rust をインストールする\n",
        "# %%capture\n",
        "!apt install rustc --fix-missing"
      ],
      "execution_count": null,
      "outputs": []
    },
    {
      "cell_type": "markdown",
      "metadata": {
        "id": "sNt9JTL5fJo0"
      },
      "source": [
        "通常の curl を使ったインストールは使えない。"
      ]
    },
    {
      "cell_type": "code",
      "metadata": {
        "id": "dLELZiZQ1HyM"
      },
      "source": [
        "# 参考\n",
        "# %env USER=root\n",
        "# !curl https://sh.rustup.rs -sSf | sh\n",
        "#=> sh: 121: cannot open /dev/tty: No such device or address"
      ],
      "execution_count": null,
      "outputs": []
    },
    {
      "cell_type": "code",
      "metadata": {
        "id": "D0LUqMYq8kv8",
        "outputId": "5b698624-9284-4574-be80-b18bc4e9d769",
        "colab": {
          "base_uri": "https://localhost:8080/"
        }
      },
      "source": [
        "# インストールの確認\n",
        "!rustc --version"
      ],
      "execution_count": null,
      "outputs": [
        {
          "output_type": "stream",
          "text": [
            "rustc 1.43.0\n"
          ],
          "name": "stdout"
        }
      ]
    },
    {
      "cell_type": "code",
      "metadata": {
        "id": "kQLzTzRCfh5S",
        "outputId": "9c9b960f-ac92-4957-adf9-bf03f560ea8b",
        "colab": {
          "base_uri": "https://localhost:8080/"
        }
      },
      "source": [
        "# 環境をつくるコマンドの cargo も入っている\n",
        "!cargo --version"
      ],
      "execution_count": 9,
      "outputs": [
        {
          "output_type": "stream",
          "text": [
            "cargo 1.43.0\n"
          ],
          "name": "stdout"
        }
      ]
    },
    {
      "cell_type": "code",
      "metadata": {
        "id": "0YSWbhrFfyR6"
      },
      "source": [
        "!cargo init"
      ],
      "execution_count": null,
      "outputs": []
    },
    {
      "cell_type": "code",
      "metadata": {
        "id": "L7OQbOxm9KcA",
        "outputId": "84803de0-b2ae-4313-8af1-67552e7fd187",
        "colab": {
          "base_uri": "https://localhost:8080/"
        }
      },
      "source": [
        "# プログラムを書く\n",
        "%%writefile main.rs\n",
        "fn main() {\n",
        "    println!(\"Hello, world!\");\n",
        "}"
      ],
      "execution_count": 13,
      "outputs": [
        {
          "output_type": "stream",
          "text": [
            "Overwriting main.rs\n"
          ],
          "name": "stdout"
        }
      ]
    },
    {
      "cell_type": "code",
      "metadata": {
        "id": "cp18zfSS9RtH",
        "outputId": "fd1841e2-bdd2-4eb1-c34e-4f6869d73610",
        "colab": {
          "base_uri": "https://localhost:8080/"
        }
      },
      "source": [
        "# コンパイル\n",
        "!cargo build"
      ],
      "execution_count": 14,
      "outputs": [
        {
          "output_type": "stream",
          "text": [
            "\u001b[0m\u001b[0m\u001b[1m\u001b[32m   Compiling\u001b[0m content v0.1.0 (/content)\n",
            "\u001b[0m\u001b[0m\u001b[1m\u001b[32m    Finished\u001b[0m dev [unoptimized + debuginfo] target(s) in 0.51s\n"
          ],
          "name": "stdout"
        }
      ]
    },
    {
      "cell_type": "code",
      "metadata": {
        "id": "tGBqfm82pCBI",
        "outputId": "01436775-cc2a-4e15-d8c3-84790a48e9bd",
        "colab": {
          "base_uri": "https://localhost:8080/"
        }
      },
      "source": [
        "# 実行\n",
        "!cargo run "
      ],
      "execution_count": 18,
      "outputs": [
        {
          "output_type": "stream",
          "text": [
            "\u001b[0m\u001b[0m\u001b[1m\u001b[32m    Finished\u001b[0m dev [unoptimized + debuginfo] target(s) in 0.02s\n",
            "\u001b[0m\u001b[0m\u001b[1m\u001b[32m     Running\u001b[0m `target/debug/content`\n",
            "Hello, world!\n"
          ],
          "name": "stdout"
        }
      ]
    },
    {
      "cell_type": "code",
      "metadata": {
        "id": "ZHqjeYdjphfw",
        "outputId": "d7c06a9f-fe28-4007-d9cb-4fdd97f753e8",
        "colab": {
          "base_uri": "https://localhost:8080/"
        }
      },
      "source": [
        "!rustc main.rs\n",
        "!./main"
      ],
      "execution_count": 22,
      "outputs": [
        {
          "output_type": "stream",
          "text": [
            "Hello, world!\n"
          ],
          "name": "stdout"
        }
      ]
    },
    {
      "cell_type": "markdown",
      "metadata": {
        "id": "pAqxIySQ7GiU"
      },
      "source": [
        "# テュートリアルより\n",
        "\n"
      ]
    },
    {
      "cell_type": "code",
      "metadata": {
        "id": "wmYAtznw7WSe"
      },
      "source": [
        "# テュートリアルより最初の課題\n",
        "# 次のような動作をするgrrsをつくる。\n",
        "\n",
        "# $ cat test.txt\n",
        "# foo: 10\n",
        "# bar: 20\n",
        "# baz: 30\n",
        "# $ grrs foo test.txt\n",
        "# foo: 10\n",
        "# $ grrs --help\n",
        "# [some help text explaining the available options]\n"
      ],
      "execution_count": null,
      "outputs": []
    },
    {
      "cell_type": "code",
      "metadata": {
        "id": "Z9u503QJ7NZQ",
        "outputId": "53ffcf00-966b-482b-8a6f-7a84188de9e0",
        "colab": {
          "base_uri": "https://localhost:8080/"
        }
      },
      "source": [
        "%%writefile main.rs\n",
        "fn main() {\n",
        "    let pattern = std::env::args().nth(1).expect(\"no pattern given\");\n",
        "    let path = std::env::args().nth(2).expect(\"no path given\");\n",
        "}"
      ],
      "execution_count": 23,
      "outputs": [
        {
          "output_type": "stream",
          "text": [
            "Overwriting main.rs\n"
          ],
          "name": "stdout"
        }
      ]
    },
    {
      "cell_type": "code",
      "metadata": {
        "id": "EPeu_cRi71__"
      },
      "source": [
        "# 実験\n",
        "!cargo build"
      ],
      "execution_count": null,
      "outputs": []
    },
    {
      "cell_type": "code",
      "metadata": {
        "id": "f4T2MtJETNLB",
        "outputId": "d361fd35-4299-44dd-86ba-89d2848c8ae9",
        "colab": {
          "base_uri": "https://localhost:8080/"
        }
      },
      "source": [
        "%%writefile Cargo.toml\n",
        "[package]\n",
        "name = \"content\"\n",
        "version = \"0.1.0\"\n",
        "authors = [\"root\"]\n",
        "edition = \"2018\"\n",
        "\n",
        "# See more keys and their definitions at https://doc.rust-lang.org/cargo/reference/manifest.html\n",
        "\n",
        "[dependencies]\n",
        "structopt = \"0.3.13\"\n",
        "\n",
        "[[bin]]\n",
        "name = \"content\"\n",
        "path = \"main.rs\""
      ],
      "execution_count": 25,
      "outputs": [
        {
          "output_type": "stream",
          "text": [
            "Overwriting Cargo.toml\n"
          ],
          "name": "stdout"
        }
      ]
    },
    {
      "cell_type": "code",
      "metadata": {
        "id": "dpsoBNwA8iPv",
        "outputId": "5d0d8000-082d-4bbf-f9fa-de13bae88a8f",
        "colab": {
          "base_uri": "https://localhost:8080/"
        }
      },
      "source": [
        "%%writefile main.rs\n",
        "use structopt::StructOpt;\n",
        "\n",
        "/// Search for a pattern in a file and display the lines that contain it.\n",
        "#[derive(StructOpt)]\n",
        "struct Cli {\n",
        "    /// The pattern to look for\n",
        "    pattern: String,\n",
        "    /// The path to the file to read\n",
        "    #[structopt(parse(from_os_str))]\n",
        "    path: std::path::PathBuf,\n",
        "}\n",
        "\n",
        "fn main() {\n",
        "    let pattern = std::env::args().nth(1).expect(\"no pattern given\");\n",
        "    let path = std::env::args().nth(2).expect(\"no path given\");\n",
        "}"
      ],
      "execution_count": 26,
      "outputs": [
        {
          "output_type": "stream",
          "text": [
            "Overwriting main.rs\n"
          ],
          "name": "stdout"
        }
      ]
    },
    {
      "cell_type": "code",
      "metadata": {
        "id": "8AmSOcgvTmP1",
        "outputId": "abe1049c-5c53-4a51-c95f-8b6bbb2a119d",
        "colab": {
          "base_uri": "https://localhost:8080/"
        }
      },
      "source": [
        "!cargo build"
      ],
      "execution_count": 27,
      "outputs": [
        {
          "output_type": "stream",
          "text": [
            "\u001b[0m\u001b[0m\u001b[1m\u001b[32m   Compiling\u001b[0m content v0.1.0 (/content)\n",
            "\u001b[0m\u001b[1m\u001b[33mwarning\u001b[0m\u001b[0m\u001b[1m: unused variable: `pattern`\u001b[0m\n",
            "\u001b[0m  \u001b[0m\u001b[0m\u001b[1m\u001b[38;5;12m--> \u001b[0m\u001b[0mmain.rs:14:9\u001b[0m\n",
            "\u001b[0m   \u001b[0m\u001b[0m\u001b[1m\u001b[38;5;12m|\u001b[0m\n",
            "\u001b[0m\u001b[1m\u001b[38;5;12m14\u001b[0m\u001b[0m \u001b[0m\u001b[0m\u001b[1m\u001b[38;5;12m| \u001b[0m\u001b[0m    let pattern = std::env::args().nth(1).expect(\"no pattern given\");\u001b[0m\n",
            "\u001b[0m   \u001b[0m\u001b[0m\u001b[1m\u001b[38;5;12m| \u001b[0m\u001b[0m        \u001b[0m\u001b[0m\u001b[1m\u001b[33m^^^^^^^\u001b[0m\u001b[0m \u001b[0m\u001b[0m\u001b[1m\u001b[33mhelp: consider prefixing with an underscore: `_pattern`\u001b[0m\n",
            "\u001b[0m   \u001b[0m\u001b[0m\u001b[1m\u001b[38;5;12m|\u001b[0m\n",
            "\u001b[0m   \u001b[0m\u001b[0m\u001b[1m\u001b[38;5;12m= \u001b[0m\u001b[0m\u001b[1mnote\u001b[0m\u001b[0m: `#[warn(unused_variables)]` on by default\u001b[0m\n",
            "\n",
            "\u001b[0m\u001b[1m\u001b[33mwarning\u001b[0m\u001b[0m\u001b[1m: unused variable: `path`\u001b[0m\n",
            "\u001b[0m  \u001b[0m\u001b[0m\u001b[1m\u001b[38;5;12m--> \u001b[0m\u001b[0mmain.rs:15:9\u001b[0m\n",
            "\u001b[0m   \u001b[0m\u001b[0m\u001b[1m\u001b[38;5;12m|\u001b[0m\n",
            "\u001b[0m\u001b[1m\u001b[38;5;12m15\u001b[0m\u001b[0m \u001b[0m\u001b[0m\u001b[1m\u001b[38;5;12m| \u001b[0m\u001b[0m    let path = std::env::args().nth(2).expect(\"no path given\");\u001b[0m\n",
            "\u001b[0m   \u001b[0m\u001b[0m\u001b[1m\u001b[38;5;12m| \u001b[0m\u001b[0m        \u001b[0m\u001b[0m\u001b[1m\u001b[33m^^^^\u001b[0m\u001b[0m \u001b[0m\u001b[0m\u001b[1m\u001b[33mhelp: consider prefixing with an underscore: `_path`\u001b[0m\n",
            "\n",
            "\u001b[0m\u001b[1m\u001b[33mwarning\u001b[0m\u001b[0m\u001b[1m: field is never read: `pattern`\u001b[0m\n",
            "\u001b[0m \u001b[0m\u001b[0m\u001b[1m\u001b[38;5;12m--> \u001b[0m\u001b[0mmain.rs:7:5\u001b[0m\n",
            "\u001b[0m  \u001b[0m\u001b[0m\u001b[1m\u001b[38;5;12m|\u001b[0m\n",
            "\u001b[0m\u001b[1m\u001b[38;5;12m7\u001b[0m\u001b[0m \u001b[0m\u001b[0m\u001b[1m\u001b[38;5;12m| \u001b[0m\u001b[0m    pattern: String,\u001b[0m\n",
            "\u001b[0m  \u001b[0m\u001b[0m\u001b[1m\u001b[38;5;12m| \u001b[0m\u001b[0m    \u001b[0m\u001b[0m\u001b[1m\u001b[33m^^^^^^^^^^^^^^^\u001b[0m\n",
            "\u001b[0m  \u001b[0m\u001b[0m\u001b[1m\u001b[38;5;12m|\u001b[0m\n",
            "\u001b[0m  \u001b[0m\u001b[0m\u001b[1m\u001b[38;5;12m= \u001b[0m\u001b[0m\u001b[1mnote\u001b[0m\u001b[0m: `#[warn(dead_code)]` on by default\u001b[0m\n",
            "\n",
            "\u001b[0m\u001b[1m\u001b[33mwarning\u001b[0m\u001b[0m\u001b[1m: field is never read: `path`\u001b[0m\n",
            "\u001b[0m  \u001b[0m\u001b[0m\u001b[1m\u001b[38;5;12m--> \u001b[0m\u001b[0mmain.rs:10:5\u001b[0m\n",
            "\u001b[0m   \u001b[0m\u001b[0m\u001b[1m\u001b[38;5;12m|\u001b[0m\n",
            "\u001b[0m\u001b[1m\u001b[38;5;12m10\u001b[0m\u001b[0m \u001b[0m\u001b[0m\u001b[1m\u001b[38;5;12m| \u001b[0m\u001b[0m    path: std::path::PathBuf,\u001b[0m\n",
            "\u001b[0m   \u001b[0m\u001b[0m\u001b[1m\u001b[38;5;12m| \u001b[0m\u001b[0m    \u001b[0m\u001b[0m\u001b[1m\u001b[33m^^^^^^^^^^^^^^^^^^^^^^^^\u001b[0m\n",
            "\n",
            "\u001b[0m\u001b[0m\u001b[1m\u001b[32m    Finished\u001b[0m dev [unoptimized + debuginfo] target(s) in 0.84s\n"
          ],
          "name": "stdout"
        }
      ]
    },
    {
      "cell_type": "markdown",
      "metadata": {
        "id": "nY7g9ZHWrqTU"
      },
      "source": [
        "# いまここ"
      ]
    }
  ]
}