{
  "nbformat": 4,
  "nbformat_minor": 0,
  "metadata": {
    "colab": {
      "name": "temp.ipynb",
      "provenance": [],
      "authorship_tag": "ABX9TyPXQwkoIxFdt1cp+ud4UNBn",
      "include_colab_link": true
    },
    "kernelspec": {
      "name": "python3",
      "display_name": "Python 3"
    }
  },
  "cells": [
    {
      "cell_type": "markdown",
      "metadata": {
        "id": "view-in-github",
        "colab_type": "text"
      },
      "source": [
        "<a href=\"https://colab.research.google.com/github/kalz2q/mycolabnotebooks/blob/master/temp.ipynb\" target=\"_parent\"><img src=\"https://colab.research.google.com/assets/colab-badge.svg\" alt=\"Open In Colab\"/></a>"
      ]
    },
    {
      "cell_type": "code",
      "metadata": {
        "id": "FjnsfpsM5GXX",
        "outputId": "c02c165a-e6d6-4821-e11d-5e3d2d11a44b",
        "colab": {
          "base_uri": "https://localhost:8080/",
          "height": 35
        }
      },
      "source": [
        "xx = [\"even\" if i % 2 == 0 else \"odd\" for i in range(10)]\n",
        "\n",
        "print(xx)"
      ],
      "execution_count": 1,
      "outputs": [
        {
          "output_type": "stream",
          "text": [
            "['even', 'odd', 'even', 'odd', 'even', 'odd', 'even', 'odd', 'even', 'odd']\n"
          ],
          "name": "stdout"
        }
      ]
    },
    {
      "cell_type": "markdown",
      "metadata": {
        "id": "T5B-NN-9qmqI"
      },
      "source": [
        "マークダウンでドルマークを表示する方法\n",
        "\n",
        "`&#36;` => &#36;5 ドル\n",
        "\n",
        "が確実か。\n",
        "\n",
        "`&dollar;` => &dollar;10 ドル\n",
        "\n",
        "もとりあえず colab では使える。こちらは覚えやすい。\n",
        "\n",
        "&pound;4ポンド\n",
        "\n",
        "は `&pound;` としたら出た。\n",
        "\n",
        "&euro;20ユーロ\n",
        "\n",
        "&yen;100円\n",
        "\n",
        "https://dev.w3.org/html5/html-author/charref  \n",
        "\n",
        "character entity reference chart  \n",
        "というページがあった。\n"
      ]
    },
    {
      "cell_type": "code",
      "metadata": {
        "id": "ixTQ5oaDqt7D"
      },
      "source": [
        ""
      ],
      "execution_count": null,
      "outputs": []
    }
  ]
}