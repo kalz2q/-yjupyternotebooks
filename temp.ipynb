{
  "nbformat": 4,
  "nbformat_minor": 0,
  "metadata": {
    "colab": {
      "name": "temp.ipynb",
      "provenance": [],
      "toc_visible": true,
      "authorship_tag": "ABX9TyOUpN+v3MgS/jhuFHa0MPS1",
      "include_colab_link": true
    },
    "kernelspec": {
      "name": "python3",
      "display_name": "Python 3"
    }
  },
  "cells": [
    {
      "cell_type": "markdown",
      "metadata": {
        "id": "view-in-github",
        "colab_type": "text"
      },
      "source": [
        "<a href=\"https://colab.research.google.com/github/kalz2q/mycolabnotebooks/blob/master/temp.ipynb\" target=\"_parent\"><img src=\"https://colab.research.google.com/assets/colab-badge.svg\" alt=\"Open In Colab\"/></a>"
      ]
    },
    {
      "cell_type": "markdown",
      "source": [
        "# メモ\n",
        "\n",
        "実験場、メモ置き場、です"
      ],
      "metadata": {
        "id": "KBSwAUuU4s_Y"
      }
    },
    {
      "cell_type": "code",
      "source": [
        "# 関数で vector を返り値にする\n",
        "# str2vec で文字列を vector にする\n",
        "%%writefile temp.cpp\n",
        "# include <bits/stdc++.h>\n",
        "using namespace std;\n",
        "\n",
        "int count_byte(char c){\n",
        "    if ((c & 0x80) == 0) return 1;\n",
        "    else if ((c & 0xe0) == 0xc0) return 2;\n",
        "    else if ((c & 0xf0) == 0xe0) return 3;\n",
        "    else return 4;\n",
        "}\n",
        "\n",
        "vector<string> str2vec(string &str){\n",
        "    vector<string> vec;\n",
        "    /*\n",
        "    for (const auto &i : vec) {\n",
        "        vec.push_back(str.at(i));\n",
        "    }*/\n",
        "    for (int i = 0 ; i < str.size(); i += count_byte(str.at(i))){\n",
        "//        count += 1; \n",
        "        vec.push_back(str.substr(i,count_byte(str.at(i))));\n",
        "//        cout << i << \":\" << count_byte(str.at(i)) << endl;\n",
        "    }    \n",
        "    return vec;\n",
        "}\n",
        "\n",
        "int main() {\n",
        "    string str;\n",
        "    getline(cin, str);\n",
        "    vector<string> vec;\n",
        "    vec = str2vec(str);\n",
        "    for (auto& item : vec) {\n",
        "        cout << item;\n",
        "    };\n",
        "    cout << endl;\n",
        "    cout << \"文字列の長さは \" << vec.size() << \" です。\" << endl;\n",
        "}"
      ],
      "metadata": {
        "id": "RwOy-Gts9FtL",
        "outputId": "747e3644-f5cd-4da6-8ba1-8dfdfe7166df",
        "colab": {
          "base_uri": "https://localhost:8080/"
        }
      },
      "execution_count": 114,
      "outputs": [
        {
          "output_type": "stream",
          "name": "stdout",
          "text": [
            "Overwriting temp.cpp\n"
          ]
        }
      ]
    },
    {
      "cell_type": "code",
      "source": [
        "!g++ temp.cpp; echo \"This is 本\" |./a.out"
      ],
      "metadata": {
        "id": "W-9LXWU79_El",
        "outputId": "d3b825df-b2da-423c-835c-5cdd069d9da7",
        "colab": {
          "base_uri": "https://localhost:8080/"
        }
      },
      "execution_count": 115,
      "outputs": [
        {
          "output_type": "stream",
          "name": "stdout",
          "text": [
            "This is 本\n",
            "文字列の長さは 9 です。\n"
          ]
        }
      ]
    },
    {
      "cell_type": "code",
      "source": [
        "# 関数で vector を返り値にする方法\n",
        "# と言う記事を自分風に書き直し\n",
        "%%writefile temp.cpp\n",
        "# include <bits/stdc++.h>\n",
        "using namespace std;\n",
        "\n",
        "\n",
        "vector<int> multiplyByFour(vector<int> &arr)\n",
        "{\n",
        "    vector<int> mult;\n",
        "    mult.reserve(arr.size());\n",
        "\n",
        "    for (const auto &i : arr) {\n",
        "        mult.push_back(i * 4);\n",
        "    }\n",
        "    return mult;\n",
        "}\n",
        "\n",
        "int main() {\n",
        "    vector<int> arr = {1,2,3,4,5,6,7,8,9,10};\n",
        "    vector<int> arrby4;\n",
        "    arrby4 = multiplyByFour(arr);\n",
        "    for (auto& item : arrby4) {\n",
        "        cout << item << \" \" ;\n",
        "    };\n",
        "    cout << endl;\n",
        "}"
      ],
      "metadata": {
        "id": "2MPwXh_P8GXE",
        "outputId": "a2688a96-3af8-4a72-a80b-d14f3ad802ee",
        "colab": {
          "base_uri": "https://localhost:8080/"
        }
      },
      "execution_count": null,
      "outputs": [
        {
          "output_type": "stream",
          "name": "stdout",
          "text": [
            "Overwriting temp.cpp\n"
          ]
        }
      ]
    },
    {
      "cell_type": "code",
      "source": [
        "!g++ temp.cpp; ./a.out"
      ],
      "metadata": {
        "id": "-z17d-Dt8nbo",
        "outputId": "6772050c-17e1-4f16-a671-90960f33c6c1",
        "colab": {
          "base_uri": "https://localhost:8080/"
        }
      },
      "execution_count": null,
      "outputs": [
        {
          "output_type": "stream",
          "name": "stdout",
          "text": [
            "4 8 12 16 20 24 28 32 36 40 \n"
          ]
        }
      ]
    },
    {
      "cell_type": "code",
      "source": [
        "# 関数で vector を返り値にする方法\n",
        "%%writefile temp.cpp\n",
        "# include <bits/stdc++.h>\n",
        "using namespace std;\n",
        "\n",
        "\n",
        "vector<int> multiplyByFour(vector<int> &arr)\n",
        "{\n",
        "    vector<int> mult;\n",
        "    mult.reserve(arr.size());\n",
        "\n",
        "    for (const auto &i : arr) {\n",
        "        mult.push_back(i * 4);\n",
        "    }\n",
        "    return mult;\n",
        "}\n",
        "\n",
        "int main() {\n",
        "    vector<int> arr = {1,2,3,4,5,6,7,8,9,10};\n",
        "    vector<int> arrby4;\n",
        "\n",
        "    arrby4 = multiplyByFour(arr);\n",
        "\n",
        "    cout << \"arr    - | \";\n",
        "    copy(arr.begin(), arr.end(),\n",
        "         std::ostream_iterator<int>(cout,\" | \"));\n",
        "    cout << endl;\n",
        "    cout << \"arrby4 - | \";\n",
        "    copy(arrby4.begin(), arrby4.end(),\n",
        "         std::ostream_iterator<int>(cout,\" | \"));\n",
        "    cout << endl;\n",
        "}"
      ],
      "metadata": {
        "id": "FZt03_L72y9T",
        "outputId": "471f8c67-4675-4e9e-8092-6a04b4edc944",
        "colab": {
          "base_uri": "https://localhost:8080/"
        }
      },
      "execution_count": null,
      "outputs": [
        {
          "output_type": "stream",
          "name": "stdout",
          "text": [
            "Overwriting temp.cpp\n"
          ]
        }
      ]
    },
    {
      "cell_type": "code",
      "source": [
        "!g++ temp.cpp; ./a.out"
      ],
      "metadata": {
        "id": "VS10Ip852y0a",
        "outputId": "debddfa8-e54f-4dfa-ca58-75303ddf69f7",
        "colab": {
          "base_uri": "https://localhost:8080/"
        }
      },
      "execution_count": null,
      "outputs": [
        {
          "output_type": "stream",
          "name": "stdout",
          "text": [
            "arr    - | 1 | 2 | 3 | 4 | 5 | 6 | 7 | 8 | 9 | 10 | \n",
            "arrby4 - | 4 | 8 | 12 | 16 | 20 | 24 | 28 | 32 | 36 | 40 | \n"
          ]
        }
      ]
    },
    {
      "cell_type": "code",
      "source": [
        "# 関数で vector を返り値にする方法 その2\n",
        "%%writefile temp.cpp\n",
        "# include <bits/stdc++.h>\n",
        "using namespace std;\n",
        "\n",
        "vector<int> &multiplyByFive(vector<int> &arr)\n",
        "{\n",
        "    for (auto &i : arr) {\n",
        "        i *= 5;\n",
        "    }\n",
        "    return arr;\n",
        "}\n",
        "\n",
        "int main() {\n",
        "    vector<int> arr = {1,2,3,4,5,6,7,8,9,10};\n",
        "    vector<int> arrby5;\n",
        "\n",
        "    cout << \"arr    - | \";\n",
        "    copy(arr.begin(), arr.end(),\n",
        "         std::ostream_iterator<int>(cout,\" | \"));\n",
        "    cout << endl;\n",
        "\n",
        "    arrby5 = multiplyByFive(arr);\n",
        "\n",
        "    cout << \"arrby5 - | \";\n",
        "    copy(arrby5.begin(), arrby5.end(),\n",
        "         std::ostream_iterator<int>(cout,\" | \"));\n",
        "    cout << endl;\n",
        "\n",
        "    cout << \"arr    - | \";\n",
        "    copy(arr.begin(), arr.end(),\n",
        "         std::ostream_iterator<int>(cout,\" | \"));\n",
        "    cout << endl;\n",
        "}"
      ],
      "metadata": {
        "id": "JUfD2Xt04aJC",
        "outputId": "8137abf7-6312-4bfa-bb3c-c58948842c44",
        "colab": {
          "base_uri": "https://localhost:8080/"
        }
      },
      "execution_count": null,
      "outputs": [
        {
          "output_type": "stream",
          "name": "stdout",
          "text": [
            "Overwriting temp.cpp\n"
          ]
        }
      ]
    },
    {
      "cell_type": "code",
      "source": [
        "!g++ temp.cpp; ./a.out"
      ],
      "metadata": {
        "id": "T8jkC2_f4aEa",
        "outputId": "1d7c10c9-4526-4657-f786-527bb8f7c9e6",
        "colab": {
          "base_uri": "https://localhost:8080/"
        }
      },
      "execution_count": null,
      "outputs": [
        {
          "output_type": "stream",
          "name": "stdout",
          "text": [
            "arr    - | 1 | 2 | 3 | 4 | 5 | 6 | 7 | 8 | 9 | 10 | \n",
            "arrby5 - | 5 | 10 | 15 | 20 | 25 | 30 | 35 | 40 | 45 | 50 | \n",
            "arr    - | 5 | 10 | 15 | 20 | 25 | 30 | 35 | 40 | 45 | 50 | \n"
          ]
        }
      ]
    },
    {
      "cell_type": "code",
      "source": [
        "# str2vec と言う関数を作れば色んな事が解決するのではないか、と言うアイデア\n",
        "%%writefile temp.cpp\n",
        "# include <bits/stdc++.h>\n",
        "using namespace std;\n",
        "int main(){\n",
        "}"
      ],
      "metadata": {
        "id": "vzyMp9Q7zgK5",
        "outputId": "459bd4b9-62bb-47e2-bbb2-2bf315476ae9",
        "colab": {
          "base_uri": "https://localhost:8080/"
        }
      },
      "execution_count": null,
      "outputs": [
        {
          "output_type": "stream",
          "name": "stdout",
          "text": [
            "Overwriting temp.cpp\n"
          ]
        }
      ]
    },
    {
      "cell_type": "code",
      "source": [
        "!g++ temp.cpp; echo \"a亜\" |./a.out"
      ],
      "metadata": {
        "id": "5Turhn3dz9qf"
      },
      "execution_count": null,
      "outputs": []
    },
    {
      "cell_type": "code",
      "source": [
        "# qiita c++で、UTF-8のbyte数を判定することでマルチバイトの文字列をカウントする\n",
        "# https://qiita.com/kazuma_suto/items/cfb65d9c2dde02d6becd\n",
        "# これに沿って考えてみる\n",
        "# 方針として string に書き直す"
      ],
      "metadata": {
        "id": "dq_ZrhlOAZGW"
      },
      "execution_count": null,
      "outputs": []
    },
    {
      "cell_type": "code",
      "source": [
        "# 最初に char str1[] = \"a\";とある => string にしたい\n",
        "# 実験\n",
        "%%writefile temp.cpp\n",
        "# include <bits/stdc++.h>\n",
        "using namespace std;\n",
        "int main(){\n",
        "    string str1 = \"a愛\";\n",
        "    cout << str1[0] << endl;\n",
        "    str1[0] = 'b';\n",
        "    cout << str1[0] << endl;\n",
        "    cout << str1.at(1) << endl; // 文字化け\n",
        "    cout << hex << (str1.at(1) &0xff) << endl;\n",
        "    cout << hex << (str1.at(2) &0xff) << endl;\n",
        "    cout << hex << (str1.at(3) &0xff) << endl;\n",
        "}"
      ],
      "metadata": {
        "colab": {
          "base_uri": "https://localhost:8080/"
        },
        "id": "ugzILmnPAnHH",
        "outputId": "a290f7ec-e3cd-42a9-d7db-d9e3ed0187b9"
      },
      "execution_count": null,
      "outputs": [
        {
          "output_type": "stream",
          "name": "stdout",
          "text": [
            "Overwriting temp.cpp\n"
          ]
        }
      ]
    },
    {
      "cell_type": "code",
      "source": [
        "!g++ temp.cpp; ./a.out"
      ],
      "metadata": {
        "colab": {
          "base_uri": "https://localhost:8080/"
        },
        "id": "43zlIHLMAUaz",
        "outputId": "3a35947d-844e-412d-bfc2-adda68c7a986"
      },
      "execution_count": null,
      "outputs": [
        {
          "output_type": "stream",
          "name": "stdout",
          "text": [
            "a\n",
            "b\n",
            "�\n",
            "e6\n",
            "84\n",
            "9b\n"
          ]
        }
      ]
    },
    {
      "cell_type": "code",
      "source": [
        "# コード表示\n",
        "%%writefile temp.cpp\n",
        "# include <bits/stdc++.h>\n",
        "using namespace std;\n",
        "int main(){\n",
        "    string str1 = \"aあ\";\n",
        "    for (int i=0; i < str1.size(); i++){\n",
        "      cout << \"0x\" << hex << (str1[i] & 0xff) << endl; // 0xff は 2桁にするおまじないか?\n",
        "    }\n",
        "}"
      ],
      "metadata": {
        "colab": {
          "base_uri": "https://localhost:8080/"
        },
        "id": "rFcrKJGjC_qP",
        "outputId": "e041952c-d5e2-40d1-8988-0ea3fe0bedaf"
      },
      "execution_count": null,
      "outputs": [
        {
          "output_type": "stream",
          "name": "stdout",
          "text": [
            "Overwriting temp.cpp\n"
          ]
        }
      ]
    },
    {
      "cell_type": "code",
      "source": [
        "!g++ temp.cpp; ./a.out"
      ],
      "metadata": {
        "id": "T4P9r3vmvGw-",
        "outputId": "1f989932-42f2-4819-b324-ca700985da67",
        "colab": {
          "base_uri": "https://localhost:8080/"
        }
      },
      "execution_count": null,
      "outputs": [
        {
          "output_type": "stream",
          "name": "stdout",
          "text": [
            "0x61\n",
            "0xe3\n",
            "0x81\n",
            "0x82\n"
          ]
        }
      ]
    },
    {
      "cell_type": "code",
      "source": [
        "# qiita c++で、UTF-8のbyte数を判定することでマルチバイトの文字列をカウントする\n",
        "%%writefile temp.cpp\n",
        "# include <bits/stdc++.h>\n",
        "using namespace std;\n",
        "int count_byte(char c){\n",
        "    if ((c & 0x80) == 0) return 1;\n",
        "    else if ((c & 0xe0) == 0xc0) return 2;\n",
        "    else if ((c & 0xf0) == 0xe0) return 3;\n",
        "    else return 4;\n",
        "}\n",
        "int main(){\n",
        "    string str4 = \"b\";\n",
        "    string str5 = \"©\";\n",
        "    string str6 = \"亜\";\n",
        "    printf(\"%sのbyte数は%d\\n\",str4.c_str(),count_byte(str4[0]));\n",
        "    printf(\"%sのbyte数は%d\\n\",str5.c_str(),count_byte(str5[0]));\n",
        "    printf(\"%sのbyte数は%d\\n\",str6.c_str(),count_byte(str6[0]));\n",
        "}\n"
      ],
      "metadata": {
        "id": "tjpdiI8uT-Ld",
        "outputId": "bf4123bf-18cd-4802-fd91-eee0b1d9a798",
        "colab": {
          "base_uri": "https://localhost:8080/"
        }
      },
      "execution_count": null,
      "outputs": [
        {
          "output_type": "stream",
          "name": "stdout",
          "text": [
            "Overwriting temp.cpp\n"
          ]
        }
      ]
    },
    {
      "cell_type": "code",
      "source": [
        "!g++ temp.cpp; ./a.out"
      ],
      "metadata": {
        "id": "EO9Li4SX9Axt",
        "outputId": "e7580d6d-0b90-4b2c-8487-2efe01da87cc",
        "colab": {
          "base_uri": "https://localhost:8080/"
        }
      },
      "execution_count": null,
      "outputs": [
        {
          "output_type": "stream",
          "name": "stdout",
          "text": [
            "bのbyte数は1\n",
            "©のbyte数は2\n",
            "亜のbyte数は3\n"
          ]
        }
      ]
    },
    {
      "cell_type": "code",
      "source": [
        "# 文字数カウント\n",
        "%%writefile temp.cpp\n",
        "# include <bits/stdc++.h>\n",
        "using namespace std;\n",
        "int count_byte(char c){\n",
        "    if ((c & 0x80) == 0) return 1;\n",
        "    else if ((c & 0xe0) == 0xc0) return 2;\n",
        "    else if ((c & 0xf0) == 0xe0) return 3;\n",
        "    else return 4;\n",
        "}\n",
        "int count_char(string str){\n",
        "    int count = 0;\n",
        "    /*\n",
        "    char c = *strings;\n",
        "    while(c != '\\0'){\n",
        "        count += 1;\n",
        "        strings += count_byte(c);\n",
        "        c = *strings;\n",
        "    } *//*\n",
        "    for (int i = 0 ; i < str.size(); i++){\n",
        "        count += 1;\n",
        "        i += count_byte(str.at(i)) -1;\n",
        "    }*/\n",
        "    for (int i = 0 ; i < str.size(); i += count_byte(str.at(i))){\n",
        "        count += 1; \n",
        "//        cout << i << \":\" << count_byte(str.at(i)) << endl;\n",
        "    }\n",
        "    return count;\n",
        "}\n",
        "int main (){\n",
        "string strs2 = \"著作権マーク（ちょさくけんマーク）またはコピーライトマーク（copyright mark）とは、大文字のCを丸で囲んだ記号（©）であり、音声録音[1]以外の作品の著作権表示に使用される記号である。\";\n",
        "printf(\"strs2 の文字数は%d\\n\",count_char(strs2)); // 98 になったら成功らしい\n",
        "string str = \"a亜\";\n",
        "cout << str << \"の文字数は\" <<  count_char(str) << endl; // 2 が正解\n",
        "}"
      ],
      "metadata": {
        "id": "E-ajXj-b9DlM",
        "outputId": "22cc85f7-eba2-4a71-aee5-3ad73e056df9",
        "colab": {
          "base_uri": "https://localhost:8080/"
        }
      },
      "execution_count": null,
      "outputs": [
        {
          "output_type": "stream",
          "name": "stdout",
          "text": [
            "Overwriting temp.cpp\n"
          ]
        }
      ]
    },
    {
      "cell_type": "code",
      "source": [
        "!g++ temp.cpp; ./a.out"
      ],
      "metadata": {
        "id": "BF_XcYd-Q2c9",
        "outputId": "bbfecdf5-5eb4-4d04-da6b-070d854a7386",
        "colab": {
          "base_uri": "https://localhost:8080/"
        }
      },
      "execution_count": null,
      "outputs": [
        {
          "output_type": "stream",
          "name": "stdout",
          "text": [
            "strs2 の文字数は98\n",
            "a亜の文字数は2\n"
          ]
        }
      ]
    },
    {
      "cell_type": "code",
      "source": [
        "# C++: UTF-8 の文字列を1文字ずつ表示する (std::string)\n",
        "# と言う記事\n",
        "%%writefile temp.cpp\n",
        "# include <bits/stdc++.h>\n",
        "using namespace std;\n",
        "\n",
        "void print_each_char(std::string);\n",
        "\n",
        "int main()\n",
        "{\n",
        "    string str = \"wats𠮷野家\";\n",
        "    print_each_char(str);\n",
        "}\n",
        "\n",
        "void print_each_char(std::string str)\n",
        "{\n",
        "    using namespace std;\n",
        "\n",
        "    int pos;\n",
        "    unsigned char lead; \n",
        "    int char_size;\n",
        "\n",
        "   for (pos = 0; pos < str.size(); pos += char_size) {\n",
        "   \n",
        "        lead = str[pos];\n",
        "\n",
        "        if (lead < 0x80) {\n",
        "            char_size = 1;\n",
        "        } else if (lead < 0xE0) {\n",
        "            char_size = 2;\n",
        "        } else if (lead < 0xF0) {\n",
        "            char_size = 3;\n",
        "        } else {\n",
        "            char_size = 4;\n",
        "        }\n",
        "\n",
        "        cout << str.substr(pos, char_size) << '\\n';\n",
        "    }\n",
        "\n",
        "}"
      ],
      "metadata": {
        "colab": {
          "base_uri": "https://localhost:8080/"
        },
        "id": "rekuY80v4vk8",
        "outputId": "ef432609-2291-49b6-db38-2327a442b8e8"
      },
      "execution_count": null,
      "outputs": [
        {
          "output_type": "stream",
          "name": "stdout",
          "text": [
            "Overwriting temp.cpp\n"
          ]
        }
      ]
    },
    {
      "cell_type": "code",
      "source": [
        "!g++ temp.cpp; ./a.out"
      ],
      "metadata": {
        "colab": {
          "base_uri": "https://localhost:8080/"
        },
        "id": "SMn5Xg3247sM",
        "outputId": "9b315274-6e74-491a-d8f4-218c68a3e041"
      },
      "execution_count": null,
      "outputs": [
        {
          "output_type": "stream",
          "name": "stdout",
          "text": [
            "w\n",
            "a\n",
            "t\n",
            "s\n",
            "𠮷\n",
            "野\n",
            "家\n"
          ]
        }
      ]
    },
    {
      "cell_type": "code",
      "source": [
        "# iterator version\n",
        "#include <iostream>\n",
        "#include <string>\n",
        "\n",
        "void print_each_char(std::string);\n",
        "\n",
        "int main(void)\n",
        "{\n",
        "    using namespace std;\n",
        "    string str = u8\"𠮷野家のコピペ\";\n",
        "    print_each_char(str);\n",
        "\n",
        "    return 0;\n",
        "}\n",
        "\n",
        "void print_each_char(std::string str)\n",
        "{\n",
        "    using namespace std;\n",
        "\n",
        "    unsigned char lead; \n",
        "    int char_size = 0;\n",
        "\n",
        "    for (string::iterator it = str.begin(); it != str.end(); it += char_size) {\n",
        "\n",
        "        lead = *it;\n",
        "\n",
        "        if (lead < 0x80) {\n",
        "            char_size = 1;\n",
        "        } else if (lead < 0xE0) {\n",
        "            char_size = 2;\n",
        "        } else if (lead < 0xF0) {\n",
        "            char_size = 3;\n",
        "        } else {\n",
        "            char_size = 4;\n",
        "        }\n",
        "\n",
        "        cout << str.substr(distance(str.begin(), it), char_size) << '\\n';\n",
        "\n",
        "    }\n",
        "\n",
        "}"
      ],
      "metadata": {
        "id": "Yq4OQl1__bVB"
      },
      "execution_count": null,
      "outputs": []
    },
    {
      "cell_type": "code",
      "source": [
        "# tuple version\n",
        "#include <iostream>\n",
        "#include <string>\n",
        "\n",
        "std::tuple<std::string, int> utf8_next_char(std::string str, int str_size, int pos);\n",
        "\n",
        "int main(void)\n",
        "{\n",
        "    using namespace std;\n",
        "\n",
        "    string str = u8\"あいうえお\";\n",
        "    tuple<string, int> t;\n",
        "    int str_size = str.size();\n",
        "\n",
        "    int pos = 0;\n",
        "    string buf;\n",
        "    int buf_size = 0;\n",
        "\n",
        "    for (int pos = 0; pos < str_size; pos += buf_size) {\n",
        "        t = utf8_next_char(str, str_size, pos);\n",
        "        buf = get<0>(t);\n",
        "        buf_size = get<1>(t);\n",
        "        cout << buf << '\\n';\n",
        "    }\n",
        "\n",
        "    return 0;\n",
        "}\n",
        "\n",
        "std::tuple<std::string, int> utf8_next_char(std::string str, int str_size, int pos)\n",
        "{\n",
        "    using namespace std;\n",
        "    unsigned char c;\n",
        "\n",
        "    string buf;\n",
        "    int buf_size;\n",
        "\n",
        "    if (pos >= str_size) {\n",
        "        return make_tuple(u8\"?\", pos);\n",
        "    }\n",
        "\n",
        "    c = str[pos];\n",
        "\n",
        "    if (c < 0x80) {\n",
        "        buf_size = 1;\n",
        "    } else if (c < 0xE0) {\n",
        "        buf_size = 2;\n",
        "    } else if (c < 0xF0){\n",
        "        buf_size = 3;\n",
        "    } else {\n",
        "        buf_size = 4;\n",
        "    }\n",
        "\n",
        "    buf = str.substr(pos, buf_size);\n",
        "\n",
        "    return  make_tuple(buf, buf_size);\n",
        "}"
      ],
      "metadata": {
        "id": "yqf_tRCO_d7C"
      },
      "execution_count": null,
      "outputs": []
    },
    {
      "cell_type": "code",
      "source": [
        "# この記事を書いた人は constexpr の練習、と言っているが const にしても動く\n",
        "# https://qiita.com/Kogia_sima/items/fc5094776ba9761e186f\n",
        "# 文字列をわざわざ `u\"\"` としなくても動く\n",
        "# wchar を使っていない\n",
        "%%writefile temp.cpp\n",
        "# include <bits/stdc++.h>\n",
        "using namespace std;\n",
        "\n",
        "const size_t utf8_strlen(const char* str) {\n",
        "  size_t count = 0;\n",
        "\n",
        "  while (*str != '\\0') {\n",
        "    uint8_t lead = static_cast<uint8_t>(*(str++));\n",
        "    ptrdiff_t secondary_chars =\n",
        "        (lead < 0x80) ? 0 :\n",
        "        ((lead >> 5) == 0b110) ? 1 :\n",
        "        ((lead >> 4) == 0b1110) ? 2 :\n",
        "        ((lead >> 3) == 0b11110) ? 3 :\n",
        "        throw std::out_of_range(\"invalid UTF code point was detected.\");\n",
        "\n",
        "    while (secondary_chars) {\n",
        "      if (-65 < *(str++)) {\n",
        "        throw std::out_of_range(\"invalid UTF code point was detected.\");\n",
        "      }\n",
        "\n",
        "      --secondary_chars;\n",
        "    }\n",
        "\n",
        "    ++count;\n",
        "  }\n",
        "\n",
        "  return count;\n",
        "}\n",
        "\n",
        "int main() {\n",
        "  // constexpr const char str[] = u8\"UTF-8だよ〜ん\";\n",
        "  const char str[] = \"UTF-8だよ〜ん\";\n",
        "  const size_t length = utf8_strlen(str);\n",
        "\n",
        "  printf(\"%lu\\n\", length);\n",
        "}"
      ],
      "metadata": {
        "id": "CD9T7a1g2I0N",
        "outputId": "ffc5d559-ab1e-4544-977c-bf31f7a81d7d",
        "colab": {
          "base_uri": "https://localhost:8080/"
        }
      },
      "execution_count": null,
      "outputs": [
        {
          "output_type": "stream",
          "name": "stdout",
          "text": [
            "Overwriting temp.cpp\n"
          ]
        }
      ]
    },
    {
      "cell_type": "code",
      "source": [
        "# const を取ったらどうなるか実験  => 動いた\n",
        "# この記事を書いた人は constexpr の練習、と言っているが const にしても動く\n",
        "# https://qiita.com/Kogia_sima/items/fc5094776ba9761e186f\n",
        "# 文字列をわざわざ `u\"\"` としなくても動く\n",
        "# wchar を使っていない。size_t は使っている\n",
        "%%writefile temp.cpp\n",
        "# include <bits/stdc++.h>\n",
        "using namespace std;\n",
        "\n",
        "size_t utf8_strlen(const char* str) {\n",
        "  size_t count = 0;\n",
        "\n",
        "  while (*str != '\\0') {\n",
        "    uint8_t lead = static_cast<uint8_t>(*(str++));\n",
        "    ptrdiff_t secondary_chars =\n",
        "        (lead < 0x80) ? 0 :\n",
        "        ((lead >> 5) == 0b110) ? 1 :\n",
        "        ((lead >> 4) == 0b1110) ? 2 :\n",
        "        ((lead >> 3) == 0b11110) ? 3 :\n",
        "        throw std::out_of_range(\"invalid UTF code point was detected.\");\n",
        "\n",
        "    while (secondary_chars) {\n",
        "      if (-65 < *(str++)) {\n",
        "        throw std::out_of_range(\"invalid UTF code point was detected.\");\n",
        "      }\n",
        "\n",
        "      --secondary_chars;\n",
        "    }\n",
        "\n",
        "    ++count;\n",
        "  }\n",
        "\n",
        "  return count;\n",
        "}\n",
        "\n",
        "int main() {\n",
        "  // constexpr const char str[] = u8\"UTF-8だよ〜ん\";\n",
        "  char str[] = \"UTF-8だよ〜ん\";\n",
        "  size_t length = utf8_strlen(str);\n",
        "\n",
        "  printf(\"%lu\\n\", length);\n",
        "}"
      ],
      "metadata": {
        "id": "P-A2CY1L3ZIY",
        "outputId": "28f12f80-7a2a-44c3-82ff-2b44755f2adc",
        "colab": {
          "base_uri": "https://localhost:8080/"
        }
      },
      "execution_count": null,
      "outputs": [
        {
          "output_type": "stream",
          "name": "stdout",
          "text": [
            "Overwriting temp.cpp\n"
          ]
        }
      ]
    },
    {
      "cell_type": "code",
      "source": [
        "# char* str を string str にしたらどうか #=> エラーは出たがアウトプットは合っている\n",
        "# const を取ったらどうなるか実験  => 動いた\n",
        "# この記事を書いた人は constexpr の練習、と言っているが const にしても動く\n",
        "# https://qiita.com/Kogia_sima/items/fc5094776ba9761e186f\n",
        "# 文字列をわざわざ `u\"\"` としなくても動く\n",
        "# wchar を使っていない。size_t は使っている\n",
        "%%writefile temp.cpp\n",
        "# include <bits/stdc++.h>\n",
        "using namespace std;\n",
        "\n",
        "size_t utf8_strlen(const char* str) {\n",
        "  size_t count = 0;\n",
        "\n",
        "  while (*str != '\\0') {\n",
        "    uint8_t lead = static_cast<uint8_t>(*(str++));\n",
        "    ptrdiff_t secondary_chars =\n",
        "        (lead < 0x80) ? 0 :\n",
        "        ((lead >> 5) == 0b110) ? 1 :\n",
        "        ((lead >> 4) == 0b1110) ? 2 :\n",
        "        ((lead >> 3) == 0b11110) ? 3 :\n",
        "        throw std::out_of_range(\"invalid UTF code point was detected.\");\n",
        "\n",
        "    while (secondary_chars) {\n",
        "      if (-65 < *(str++)) {\n",
        "        throw std::out_of_range(\"invalid UTF code point was detected.\");\n",
        "      }\n",
        "\n",
        "      --secondary_chars;\n",
        "    }\n",
        "\n",
        "    ++count;\n",
        "  }\n",
        "\n",
        "  return count;\n",
        "}\n",
        "\n",
        "int main() {\n",
        "  // constexpr const char str[] = u8\"UTF-8だよ〜ん\";\n",
        "  // char str[] = \"UTF-8だよ〜ん\";\n",
        "  string str = \"UTF-8だよ〜ん\";\n",
        "  size_t length = utf8_strlen(str);\n",
        "\n",
        "  printf(\"%lu\\n\", length);\n",
        "}"
      ],
      "metadata": {
        "id": "PIItQ7324g8y",
        "outputId": "1e8c971b-3182-4d81-b02e-60ba0d8b4a4a",
        "colab": {
          "base_uri": "https://localhost:8080/"
        }
      },
      "execution_count": null,
      "outputs": [
        {
          "output_type": "stream",
          "name": "stdout",
          "text": [
            "Overwriting temp.cpp\n"
          ]
        }
      ]
    },
    {
      "cell_type": "code",
      "source": [
        "!g++ temp.cpp; ./a.out"
      ],
      "metadata": {
        "id": "S7HToc4kw_LB",
        "outputId": "a2f6bedf-f133-40df-c130-de977d6c4f37",
        "colab": {
          "base_uri": "https://localhost:8080/"
        }
      },
      "execution_count": null,
      "outputs": [
        {
          "output_type": "stream",
          "name": "stdout",
          "text": [
            "\u001b[01m\u001b[Ktemp.cpp:\u001b[m\u001b[K In function ‘\u001b[01m\u001b[Kint main()\u001b[m\u001b[K’:\n",
            "\u001b[01m\u001b[Ktemp.cpp:34:34:\u001b[m\u001b[K \u001b[01;31m\u001b[Kerror: \u001b[m\u001b[Kcannot convert ‘\u001b[01m\u001b[Kstd::__cxx11::string {aka std::__cxx11::basic_string<char>}\u001b[m\u001b[K’ to ‘\u001b[01m\u001b[Kconst char*\u001b[m\u001b[K’ for argument ‘\u001b[01m\u001b[K1\u001b[m\u001b[K’ to ‘\u001b[01m\u001b[Ksize_t utf8_strlen(const char*)\u001b[m\u001b[K’\n",
            "   size_t length = utf8_strlen(str\u001b[01;31m\u001b[K)\u001b[m\u001b[K;\n",
            "                                  \u001b[01;31m\u001b[K^\u001b[m\u001b[K\n",
            "9\n"
          ]
        }
      ]
    },
    {
      "cell_type": "code",
      "source": [
        "%%html\n",
        "<style>\n",
        "    tr td:nth-child(2) {\n",
        "        color: red;\n",
        "    }\n",
        "</style>\n",
        "\n",
        "<table border=\"1\">\n",
        "<thead>\n",
        "<tr><th>基本的な型 </th><th> 値の例</th></tr>\n",
        "</thead>\n",
        "<tbody>\n",
        "<tr><td>整数 </td><td> 1</td></tr>\n",
        "<tr><td>整数(16進数) </td><td> 0x1F</td></tr>\n",
        "<tr><td>小数 </td><td> 1.0</td></tr>\n",
        "<tr><td>論理値 </td><td> true</td></tr>\n",
        "<tr><td><span style=\"color: red;\">アトム</span></td><td> :atom</td></tr>\n",
        "<tr><td>文字列 </td><td> \"elixir\"</td></tr>\n",
        "<tr><td>リスト </td><td> [1, 2, 3]</td></tr>\n",
        "<tr><td>タプル </td><td> {1, 2, 3}</td></tr>\n",
        "</tbody>\n",
        "</table>"
      ],
      "metadata": {
        "id": "0oZPe1w4BE59",
        "outputId": "43ffe014-9c6d-4b4d-a0b7-ed54b974dcc9",
        "colab": {
          "base_uri": "https://localhost:8080/",
          "height": 227
        }
      },
      "execution_count": null,
      "outputs": [
        {
          "output_type": "display_data",
          "data": {
            "text/plain": [
              "<IPython.core.display.HTML object>"
            ],
            "text/html": [
              "<style>\n",
              "    tr td:nth-child(2) {\n",
              "        color: red;\n",
              "    }\n",
              "</style>\n",
              "\n",
              "<table border=\"1\">\n",
              "<thead>\n",
              "<tr><th>基本的な型 </th><th> 値の例</th></tr>\n",
              "</thead>\n",
              "<tbody>\n",
              "<tr><td>整数 </td><td> 1</td></tr>\n",
              "<tr><td>整数(16進数) </td><td> 0x1F</td></tr>\n",
              "<tr><td>小数 </td><td> 1.0</td></tr>\n",
              "<tr><td>論理値 </td><td> true</td></tr>\n",
              "<tr><td><span style=\"color: red;\">アトム</span></td><td> :atom</td></tr>\n",
              "<tr><td>文字列 </td><td> \"elixir\"</td></tr>\n",
              "<tr><td>リスト </td><td> [1, 2, 3]</td></tr>\n",
              "<tr><td>タプル </td><td> {1, 2, 3}</td></tr>\n",
              "</tbody>\n",
              "</table>"
            ]
          },
          "metadata": {}
        }
      ]
    },
    {
      "cell_type": "code",
      "metadata": {
        "colab": {
          "base_uri": "https://localhost:8080/",
          "height": 265
        },
        "id": "igjGqlmlXHjR",
        "outputId": "37a9c6ea-ef1a-4a61-daef-22a2a184407a"
      },
      "source": [
        "import matplotlib.pyplot as plt\n",
        "fig = plt.figure(figsize=(6,4))\n",
        "ax = fig.add_subplot()\n",
        "x = [0,6,7,8,9,11,12,13,14,15,16,17,22]\n",
        "y = [0,22,26,29.5,33,40.5,44,47.5,51,54.5,59,62,80]\n",
        "ax.plot(x,y)\n",
        "plt.show()"
      ],
      "execution_count": null,
      "outputs": [
        {
          "output_type": "display_data",
          "data": {
            "image/png": "[encoded data removed]",
            "text/plain": [
              "<Figure size 432x288 with 1 Axes>"
            ]
          },
          "metadata": {
            "tags": [],
            "needs_background": "light"
          }
        }
      ]
    },
    {
      "cell_type": "code",
      "metadata": {
        "id": "OgwSbvhta2ya",
        "outputId": "6ff0fd00-6f61-4644-ad00-f4b919cd4b0c",
        "colab": {
          "base_uri": "https://localhost:8080/"
        }
      },
      "source": [
        "# 三角関数 trigonometry\n",
        "import math\n",
        "math.tan(24/180*math.pi)"
      ],
      "execution_count": null,
      "outputs": [
        {
          "output_type": "execute_result",
          "data": {
            "text/plain": [
              "0.4452286853085361"
            ]
          },
          "metadata": {},
          "execution_count": 7
        }
      ]
    },
    {
      "cell_type": "markdown",
      "metadata": {
        "id": "MtTfHOoPIKqA"
      },
      "source": [
        "15.5. A bit of number theory with SymPy\n",
        "\n",
        "https://ipython-books.github.io/155-a-bit-of-number-theory-with-sympy/\n",
        "\n",
        "をなぞってみよう。\n",
        "\n",
        "合同算術を sypy でできるか。 という課題。 number theory に道具立てはあるみたいなのだが、合同 $\\equiv$ が表示できないし、よくわからないのでウロウロしているところ\n",
        "\n",
        "chinese remainder theorem\n",
        "\n",
        "と言う問題を解いている。\n",
        "\n",
        "\n"
      ]
    },
    {
      "cell_type": "markdown",
      "metadata": {
        "id": "HdyzOLVSvoU4"
      },
      "source": [
        "# チェックマーク check mark\n",
        "$\\checkmark$\n",
        "$✓$\n",
        "\n",
        "✓\n",
        "\n",
        "\n"
      ]
    },
    {
      "cell_type": "code",
      "metadata": {
        "id": "Kdnc1K2JNLqW"
      },
      "source": [
        "from sympy.ntheory.modular import *\n",
        "import sympy.ntheory\n",
        "dir(sympy.ntheory)"
      ],
      "execution_count": null,
      "outputs": []
    },
    {
      "cell_type": "code",
      "metadata": {
        "id": "y5nN4BatIKmS",
        "colab": {
          "base_uri": "https://localhost:8080/"
        },
        "outputId": "52f07ba6-ecdd-4501-e1e7-9d94aeeb4a7e"
      },
      "source": [
        "from sympy import *\n",
        "print(isprime (2017))\n",
        "print(nextprime(2017))\n",
        "print(nextprime(8))\n",
        "#=> from sympy.ntheory としないでも nextprime とかが入る。"
      ],
      "execution_count": null,
      "outputs": [
        {
          "output_type": "stream",
          "text": [
            "True\n",
            "2027\n",
            "11\n"
          ],
          "name": "stdout"
        }
      ]
    },
    {
      "cell_type": "code",
      "metadata": {
        "id": "wp5dLlzNJmOz",
        "colab": {
          "base_uri": "https://localhost:8080/"
        },
        "outputId": "96f3e425-67ec-43ac-ff07-b08ae751dfc1"
      },
      "source": [
        "from sympy import *\n",
        "# prime(n) は n 番目の素数\n",
        "print(prime(1000))\n",
        "print(prime(1))\n",
        "# primepi は n 以下の素数の数\n",
        "print(primepi(2017))\n",
        "print(primepi(3)) #=> {2,3} => 2 個\n",
        "print(primepi(10)) #=> 2,3,5,7 => 4個\n"
      ],
      "execution_count": null,
      "outputs": [
        {
          "output_type": "stream",
          "text": [
            "7919\n",
            "2\n",
            "306\n",
            "2\n",
            "4\n"
          ],
          "name": "stdout"
        }
      ]
    },
    {
      "cell_type": "code",
      "metadata": {
        "id": "F8SdQYYPIKiM",
        "colab": {
          "base_uri": "https://localhost:8080/",
          "height": 282
        },
        "outputId": "74130ee1-a145-4760-b1cd-e0729bc79037"
      },
      "source": [
        "import numpy as np\n",
        "import matplotlib.pyplot as plt\n",
        "x = np.arange(2, 10000)\n",
        "fig, ax = plt.subplots(1, 1, figsize=(6, 4))\n",
        "ax.plot(x, list(map(primepi, x)), '-k',\n",
        "        label='$\\pi(x)$')\n",
        "ax.plot(x, x / np.log(x), '--k',\n",
        "        label='$x/\\log(x)$')\n",
        "ax.legend(loc=2)"
      ],
      "execution_count": null,
      "outputs": [
        {
          "output_type": "execute_result",
          "data": {
            "text/plain": [
              "<matplotlib.legend.Legend at 0x7f649ed7a4d0>"
            ]
          },
          "metadata": {
            "tags": []
          },
          "execution_count": 12
        },
        {
          "output_type": "display_data",
          "data": {
            "image/png": "[encoded data removed]",
            "text/plain": [
              "<Figure size 432x288 with 1 Axes>"
            ]
          },
          "metadata": {
            "tags": [],
            "needs_background": "light"
          }
        }
      ]
    },
    {
      "cell_type": "code",
      "metadata": {
        "id": "bGlnIZaOIKdw",
        "colab": {
          "base_uri": "https://localhost:8080/"
        },
        "outputId": "0a396306-3bd4-4b77-ba30-5de6ec2f3186"
      },
      "source": [
        "print(factorint(1998))"
      ],
      "execution_count": null,
      "outputs": [
        {
          "output_type": "stream",
          "text": [
            "{2: 1, 3: 3, 37: 1}\n"
          ],
          "name": "stdout"
        }
      ]
    },
    {
      "cell_type": "markdown",
      "metadata": {
        "id": "trBM7FFCIKZd"
      },
      "source": [
        "8.  Finally, a small problem. A lazy mathematician is counting his marbles. When they are arranged in three rows, the last column contains one marble. When they form four rows, there are two marbles in the last column, and there are three with five rows. How many marbles are there? (Hint: The lazy mathematician has fewer than 100 marbles.)"
      ]
    },
    {
      "cell_type": "code",
      "metadata": {
        "id": "mKr5ijUdIKLN",
        "colab": {
          "base_uri": "https://localhost:8080/"
        },
        "outputId": "be993c5f-d3e9-4cf2-a128-6a17d5d00ec4"
      },
      "source": [
        "from sympy.ntheory.modular import solve_congruence\n",
        "solve_congruence((1, 3), (2, 4), (3, 5))"
      ],
      "execution_count": null,
      "outputs": [
        {
          "output_type": "execute_result",
          "data": {
            "text/plain": [
              "(58, 60)"
            ]
          },
          "metadata": {
            "tags": []
          },
          "execution_count": 14
        }
      ]
    },
    {
      "cell_type": "markdown",
      "metadata": {
        "id": "209FbEbDMtsO"
      },
      "source": [
        "(58,60) の意味は congruence を満足させるのは 58 を始めとして、それに 60 を足した数はすべて。"
      ]
    },
    {
      "cell_type": "code",
      "metadata": {
        "id": "S9sKsK6ls1fk"
      },
      "source": [
        "# 課題\n",
        "# y= ax*b になるような散布図を描く\n",
        "# そのために\n",
        "# 1. y=ax+b のグラフを matplotlibで描く => ベース\n",
        "# randomの使い方を考える\n"
      ],
      "execution_count": null,
      "outputs": []
    },
    {
      "cell_type": "code",
      "metadata": {
        "id": "j1cxsALptMhK",
        "colab": {
          "base_uri": "https://localhost:8080/",
          "height": 265
        },
        "outputId": "665713cc-adcd-4ee0-a95d-86ab2a702863"
      },
      "source": [
        "import matplotlib.pyplot as plt\n",
        "import numpy as np\n",
        "fig, ax = plt.subplots() \n",
        "\n",
        "data = {'a': np.arange(50),\n",
        "        'c': np.random.randint(0, 50, 50),\n",
        "        'd': np.random.randn(50)}\n",
        "data['b'] = data['a'] + 10 * np.random.randn(50)\n",
        "data['d'] = np.abs(data['d']) * 100\n",
        "\n",
        "# ax.scatter('a', 'b', c='c', s='d', data=data)\n",
        "ax.scatter(data['a'], data['b'], c=data['c'], s=data['d'])\n",
        "# ax.set_xlabel('entry a')\n",
        "# ax.set_ylabel('entry b')\n",
        "# ax.axis('scaled')\n",
        "# ax.set_axis_off()\n",
        "plt.show()"
      ],
      "execution_count": null,
      "outputs": [
        {
          "output_type": "display_data",
          "data": {
            "image/png": "[encoded data removed]",
            "text/plain": [
              "<Figure size 432x288 with 1 Axes>"
            ]
          },
          "metadata": {
            "tags": [],
            "needs_background": "light"
          }
        }
      ]
    },
    {
      "cell_type": "code",
      "metadata": {
        "id": "r2TqCbZVx0uj",
        "colab": {
          "base_uri": "https://localhost:8080/"
        },
        "outputId": "12aa5cb6-e0c6-44d1-871e-db5e2d73925b"
      },
      "source": [
        "import matplotlib.pyplot as plt\n",
        "import numpy as np\n",
        "# fig, ax = plt.subplots() \n",
        "\n",
        "data = {'a': np.arange(3),\n",
        "        'c': np.random.randint(0, 50, 3),\n",
        "        'd': np.random.randn(3)}\n",
        "data['b'] = data['a'] + 10 * np.random.randn(3)\n",
        "data['d'] = np.abs(data['d']) * 100\n",
        "\n",
        "print(data['a'])\n",
        "# ax.scatter('a', 'b', c='c', s='d', data=data)\n",
        "# ax.set_xlabel('entry a')\n",
        "# ax.set_ylabel('entry b')\n",
        "# plt.show()"
      ],
      "execution_count": null,
      "outputs": [
        {
          "output_type": "stream",
          "text": [
            "[0 1 2]\n"
          ],
          "name": "stdout"
        }
      ]
    },
    {
      "cell_type": "code",
      "metadata": {
        "id": "B5tgpWd9yXw6",
        "colab": {
          "base_uri": "https://localhost:8080/"
        },
        "outputId": "02b6a95b-4823-4389-adfa-741d5bc1ca65"
      },
      "source": [
        "import matplotlib.pyplot as plt\n",
        "import numpy as np\n",
        "# fig, ax = plt.subplots() \n",
        "\n",
        "print (10*np.random.randn(3))\n",
        "\n",
        "# x = [1,2,3]\n",
        "# y = x + np.random.randn(3)\n",
        "\n",
        "# ax.scatter(x,y)\n",
        "# plt.show()"
      ],
      "execution_count": null,
      "outputs": [
        {
          "output_type": "stream",
          "text": [
            "[-4.72102573  8.84976573  2.39627047]\n"
          ],
          "name": "stdout"
        }
      ]
    },
    {
      "cell_type": "code",
      "metadata": {
        "id": "4r3BK_q-phSh",
        "colab": {
          "base_uri": "https://localhost:8080/",
          "height": 66
        },
        "outputId": "488f920e-1aa1-43cb-f578-c6f89c098a99"
      },
      "source": [
        "from sympy.abc import *\n",
        "from sympy import *\n",
        "expr = 5 * sqrt(2) - 7\n",
        "expr = expr**Rational(1,3)\n",
        "display(expr)\n",
        "solve((sqrt(2)*x +y)**3 - (expr)**3)"
      ],
      "execution_count": null,
      "outputs": [
        {
          "output_type": "display_data",
          "data": {
            "text/latex": "$\\displaystyle \\sqrt[3]{-7 + 5 \\sqrt{2}}$",
            "text/plain": [
              "(-7 + 5*sqrt(2))**(1/3)"
            ]
          },
          "metadata": {
            "tags": []
          }
        },
        {
          "output_type": "execute_result",
          "data": {
            "text/plain": [
              "[{x: nan}]"
            ]
          },
          "metadata": {
            "tags": []
          },
          "execution_count": 16
        }
      ]
    },
    {
      "cell_type": "markdown",
      "metadata": {
        "id": "VwlIPWDp3bgO"
      },
      "source": [
        "# このノートの読み方\n",
        "1. colab で開く\n",
        "1. 上の方のメニューでドライブにコピーを押す\n",
        "1. セルを実行しながら読む\n",
        "\n",
        "&nbsp;"
      ]
    },
    {
      "cell_type": "markdown",
      "metadata": {
        "id": "SiYp8ajal9x6"
      },
      "source": [
        "# 媒介変数\n",
        "\n",
        "媒介変数 matplotlib グラフ\n",
        "\n",
        "媒介変数 Parameter\n",
        "\n",
        "http://www.yamamo10.jp/yamamoto/comp/Python/library/Matplotlib/implicit/index.php\n",
        "\n",
        "陰関数 implicit function"
      ]
    },
    {
      "cell_type": "markdown",
      "metadata": {
        "id": "iLt2_TdyU-Zf"
      },
      "source": [
        "---\n",
        "集合と位相をなぜ学ぶのか　\n",
        "\n",
        "数学の基礎として根づくまでの歴史　\n",
        "\n",
        "藤田博司\n",
        "\n",
        "なかなかいい題名だが云々。\n",
        "\n",
        "すこし読んでみよう。\n",
        "\n"
      ]
    },
    {
      "cell_type": "markdown",
      "metadata": {
        "id": "JqiV1s5rWu7P"
      },
      "source": [
        "フーリエ級数から始まっている\n",
        "\n",
        "熱伝導方程式\n",
        "\n",
        "偏微分方程式\n",
        "\n",
        "$$\n",
        "\\frac{\\partial u}{\\partial t} = \\frac{\\partial^2 u}{\\partial^2 x} \\tag {1.1}\n",
        "$$\n",
        "\n",
        "これはいいが、そのあとのフーリエ級数の説明が読めない。 \n",
        "\n",
        "あ、わからない、と言うより、読めない、はいいね!!!!\n",
        "\n",
        "それにしよう。"
      ]
    },
    {
      "cell_type": "code",
      "metadata": {
        "id": "sBwVD3-T-t9B",
        "colab": {
          "base_uri": "https://localhost:8080/",
          "height": 279
        },
        "outputId": "2a3423ed-f596-4508-db1c-ce2a7d2f1905"
      },
      "source": [
        "# sympy フーリエ で検索\n",
        "from sympy import *\n",
        "import mpmath\n",
        "# fourier 5回級数展開\n",
        "l = [-mpmath.pi, mpmath.pi]\n",
        "f0 = lambda x:sign(sin(x))\n",
        "cs = mpmath.fourier(f0, l, 5)\n",
        "f1 = lambda x: mpmath.fourierval(cs, l, x)\n",
        "mpmath.plot([f0, f1], xlim=l)"
      ],
      "execution_count": null,
      "outputs": [
        {
          "output_type": "display_data",
          "data": {
            "image/png": "[encoded data removed]",
            "text/plain": [
              "<Figure size 432x288 with 1 Axes>"
            ]
          },
          "metadata": {
            "tags": [],
            "needs_background": "light"
          }
        }
      ]
    },
    {
      "cell_type": "markdown",
      "metadata": {
        "id": "L5SpdTQiyiBJ"
      },
      "source": [
        "# 数式番号を振る\n",
        "markdown 数式番号\n",
        "\n",
        "[Jupyter Notebook]Markdown の数式に数式番号を振って、参照する\n",
        "\n",
        "メモ 記事には `\\label{a}` が使えると書いてあるが、実際には使えない。\n",
        "\n",
        "\n",
        "$$y'+ f(x)y = g(x) \\tag {1.5}$$\n",
        "\n",
        "$$y'+ f(x)y = g(x) \\tag{1.2}$$\n",
        "\n",
        "$\\ref{a}$ はラベルです。\n",
        "\n",
        "$$\n",
        "\\frac{\\partial u}{\\partial t} = \\alpha \\nabla ^2 u \\tag{1}\n",
        "$$\n",
        "\n",
        "$(\\ref{a})$は熱拡散方程式です。\n",
        "\n",
        "$\n",
        "\\begin{equation}\n",
        "\\frac{\\partial u}{\\partial t} = \\alpha \\nabla ^2 u \\tag{2}\n",
        "\\end{equation}\n",
        "$\n",
        "\n",
        "$(\\ref{b})$も熱拡散方程式です。\n",
        "\n",
        "$$ x \\tag {8.5}$$\n",
        "\n",
        "$(\\ref{c})$も熱拡散方程式です。\n"
      ]
    },
    {
      "cell_type": "markdown",
      "metadata": {
        "id": "ILgl3YRk1RC5"
      },
      "source": [
        "$$\n",
        "\\frac{\\partial u}{\\partial t} = \\alpha \\nabla ^2 u tag{1}\n",
        "$$\n",
        "$(\\ref{d})$は熱拡散方程式です。"
      ]
    },
    {
      "cell_type": "markdown",
      "metadata": {
        "id": "ToFn6V_mKBKe"
      },
      "source": [
        "# 大波括弧による連立方程式 cases, align, array\n",
        "\n",
        "$$\\begin{cases}\n",
        "x = u + 1 \\\\\n",
        "y = v + 2\n",
        "\\end{cases}$$ \n",
        "\n",
        "$$\n",
        "\\left \\{\n",
        "\\begin{align}\n",
        "  x &=& y \\\\\n",
        "  y &=& this is a  pen\n",
        "\\end{align}\n",
        "\\right .\n",
        "$$\n",
        "\n",
        "$\n",
        "\\left \\{\n",
        "\\begin{array}{rrrr}\n",
        "    3 x + & y+& 2z=& 9 \\\\\n",
        "    x - & 2 y + & + z =& 8\\\\\n",
        "    -2x-& y+& z=& -3\n",
        "\\end{array}\n",
        "\\right . \\\\\n",
        "$"
      ]
    },
    {
      "cell_type": "code",
      "metadata": {
        "id": "N8Q8tGQTL_dq",
        "colab": {
          "base_uri": "https://localhost:8080/",
          "height": 98
        },
        "outputId": "f8a1140b-ad59-435e-f901-6dcd0251ca90"
      },
      "source": [
        "# 3元連立1次方程式 p.89\n",
        "%%latex\n",
        "\\displaystyle\n",
        "\\left \\{\n",
        "\\begin{array}{rrrr}\n",
        "    3 x + & y+& 2z=& 9 \\\\\n",
        "    x - & 2 y + & + z =& 8\\\\\n",
        "    -2x-& y+& z=& -3\n",
        "\\end{array}\n",
        "\\right . \\\\\n",
        "を解く。"
      ],
      "execution_count": null,
      "outputs": [
        {
          "output_type": "display_data",
          "data": {
            "text/latex": "\\displaystyle\n\\left \\{\n\\begin{array}{rrrr}\n    3 x + & y+& 2z=& 9 \\\\\n    x - & 2 y + & + z =& 8\\\\\n    -2x-& y+& z=& -3\n\\end{array}\n\\right . \\\\\nを解く。",
            "text/plain": [
              "<IPython.core.display.Latex object>"
            ]
          },
          "metadata": {
            "tags": []
          }
        }
      ]
    },
    {
      "cell_type": "markdown",
      "metadata": {
        "id": "QkYyREw7ERBR"
      },
      "source": [
        "# スペース実験\n",
        "$A\\;{}\\;{}\\;{}\\;{}\\;{}\\;{}\\;{}\\;{}\\;{}\\;{}B$  \n",
        "$A\\ {}\\ {}\\ {}\\ {}\\ {}\\ {}\\ {}\\ {}\\ {}\\ {}B$\n",
        "\n",
        "$A\\;{}\\;{}\\;{}\\;{}\\;{}\\;{}\\;{}\\;{}\\;{}\\;{}B$  \n",
        "$A\\:{}\\:{}\\:{}\\:{}\\:{}\\:{}\\:{}\\:{}\\:{}\\:{}B$  \n",
        "\n",
        "$A\\quad{}\\quad{}B$  \n",
        "$A\\qquad B$  \n",
        "$A\\quad\\quad B$  \n",
        "\n"
      ]
    },
    {
      "cell_type": "markdown",
      "metadata": {
        "id": "N6vtdcq0MaZ5"
      },
      "source": [
        "# イプシロンデルタ論法\n",
        "\n",
        "latex で論理式、論理記号文を書いていて、テキストによって括弧 (丸括弧 parenthesis、角括弧 bracket、波括弧 braces) の使い方に揺れがあったりして、あとカンマの使い方、どういう場合に省略するのか。 と考えていてイプシロンデルタ論法の数式で比べよう、と思いつきました。\n",
        "\n",
        "日本の離散数学などのテキストでは次のような表示になっている。\n",
        "\n",
        "$\\forall\\varepsilon \\gt 0 \\;\\;\\exists\\delta \\gt 0 \\;\\; \\forall x \\in \\mathbf R \\;\\;(0 \\lt |x - a| \\lt \\delta\\implies |f(x) - f(a)| \\lt \\varepsilon)$\n",
        "\n",
        "日本語のウィキペディアでは次のような表示になっていた。\n",
        "\n",
        "${}^{\\forall} \\varepsilon \\gt 0,\\;^{\\exists} \\delta \\gt 0 ;\\;^{\\forall} x \\in \\mathbf R\\;[0 \\lt |x - a| \\lt \\delta\\implies |f(x) - f(a)| \\lt \\varepsilon]$\n",
        "\n",
        "英語では epsilon-delta definition of limit と言うそうです。\n",
        "\n",
        "英語のウィキペディアでは次のような表示になっていた。\n",
        "\n",
        "$\\forall\\varepsilon \\gt 0,\\;\\exists\\delta \\gt 0 ;\\;\\forall x \\in \n",
        "\\mathbf R,\\;0 \\lt |x - a| \\lt \\delta\\implies |f(x) - f(a)| \\lt \\varepsilon$\n",
        "\n",
        "たぶんどれも正しいのだとして、自分の好みとわかりやすさでは日本のテキストの表示がよいと思う。 カンマやセミコロンで明確に区別できるのかもしれないが、カンマやセミコロンは論理記号式以外でも使われるので、いずれにしても文脈で確認しなくてはいけないので、それならばスペースがよい。 命題を角括弧 bracket で囲むのは話としてはわかるが通常の丸括弧 parenthesis で十分だと思う。 その証拠に英語のウィキペディアでは囲ってもいない。 囲まないルールはわかりにくくなると思うのでなんらかの方法で囲った方がよいと思う。\n",
        "\n",
        "あと、全称記号 $\\forall$ と 存在記号 $\\exists$ を小さく前上付きにするのはみんなが同じルールならばわかりやすいとは思うが揺れがあるのだったら普通の大きさで変数の前につけて問題ないと思う。\n",
        "\n",
        "latex でのソースは以下である。\n",
        "\n",
        "&nbsp;\n",
        "\n",
        "日本ののテキスト\n",
        "```\n",
        "$\\forall\\varepsilon \\gt 0 \\;\\;\\exists\\delta \\gt 0 \\;\\; \\forall x \\in \\mathbf R \\;\\;(0 \\lt |x - a| \\lt \\delta\\implies |f(x) - f(a)| \\lt \\varepsilon)$\n",
        "```\n",
        "日本語のウィキペディア\n",
        "```\n",
        "${}^{\\forall} \\varepsilon \\gt 0,\\;^{\\exists} \\delta \\gt 0 ;\\;^{\\forall} x \\in \\mathbf R\\;[0 \\lt |x - a| \\lt \\delta\\implies |f(x) - f(a)| \\lt \\varepsilon]$\n",
        "```\n",
        "英語のウィキペディア\n",
        "```\n",
        "$\\forall\\varepsilon \\gt 0,\\;\\exists\\delta \\gt 0 ;\\;\\forall x \\in \n",
        "\\mathbf R,\\;0 \\lt |x - a| \\lt \\delta\\implies |f(x) - f(a)| \\lt \\varepsilon$\n",
        "```\n",
        "\n",
        "\n",
        "\n",
        "\n",
        "\n"
      ]
    },
    {
      "cell_type": "markdown",
      "metadata": {
        "id": "Q01OL0mEJLy8"
      },
      "source": [
        "\n",
        "\n",
        "$\\forall \\varepsilon > 0,\\  \\exists \\delta > 0 ;\\; \\forall x \\in \\mathbf R \\ (0 < |\\:x - a\\:| < \\delta \\: \\Rightarrow \\: |\\:f(x) - f(a)\\:| < \\epsilon)$"
      ]
    },
    {
      "cell_type": "code",
      "metadata": {
        "id": "uLtdUNx6A7hr"
      },
      "source": [
        "import matplotlib.pyplot as plt\n",
        "from matplotlib_venn import venn3\n",
        "A = set([9,3,6])\n",
        "B = set([2,4,6,8])\n",
        "C = set([0,5,1,7])\n",
        "v = venn3([A,B,C], ('P', 'Q', 'U'))\n",
        "\n",
        "v.get_label_by_id('100').set_text('\\n'.join(map(str,A-B)))\n",
        "v.get_label_by_id('110').set_text('\\n'.join(map(str,A&B)))\n",
        "v.get_label_by_id('010').set_text('\\n'.join(map(str,B-A)))\n",
        "v.get_label_by_id('001').set_text('\\n'.join(map(str,C)))\n",
        "v.get_patch_by_id('001').set_color('white')\n",
        "plt.axis('on')\n",
        "plt.show()"
      ],
      "execution_count": null,
      "outputs": []
    },
    {
      "cell_type": "code",
      "metadata": {
        "id": "ItmDrQ6FA8tN",
        "colab": {
          "base_uri": "https://localhost:8080/",
          "height": 185
        },
        "outputId": "129855c6-bcc3-4a5f-9b8c-6d7843ccf943"
      },
      "source": [
        "import matplotlib.pyplot as plt\n",
        "from matplotlib_venn import venn3\n",
        "A = set([9,3,6])\n",
        "B = set([2,4,6,8])\n",
        "C = set([0,5,1,7])\n",
        "venn3([A,B,C], ('P', 'Q', 'U'))\n",
        "\n",
        "# v.get_label_by_id('100').set_text('\\n'.join(map(str,A-B)))\n",
        "# v.get_label_by_id('110').set_text('\\n'.join(map(str,A&B)))\n",
        "# v.get_label_by_id('010').set_text('\\n'.join(map(str,B-A)))\n",
        "# v.get_label_by_id('001').set_text('\\n'.join(map(str,C)))\n",
        "# v.get_patch_by_id('001').set_color('white')\n",
        "# plt.axis('on')\n",
        "plt.show()"
      ],
      "execution_count": null,
      "outputs": [
        {
          "output_type": "display_data",
          "data": {
            "image/png": "[encoded data removed]",
            "text/plain": [
              "<Figure size 432x288 with 1 Axes>"
            ]
          },
          "metadata": {
            "tags": []
          }
        }
      ]
    },
    {
      "cell_type": "markdown",
      "metadata": {
        "id": "C6IKE_SWA7E8"
      },
      "source": [
        ""
      ]
    },
    {
      "cell_type": "code",
      "metadata": {
        "id": "VKvACg1ODYoM",
        "colab": {
          "base_uri": "https://localhost:8080/",
          "height": 254
        },
        "outputId": "56d6fe50-87a6-4e6d-a021-d2df307a3496"
      },
      "source": [
        "# ベン図 venn diagram\n",
        "from matplotlib_venn import venn3\n",
        "import matplotlib.pyplot as plt\n",
        "\n",
        "\n",
        "A = set([1, 2])\n",
        "B = set([2, 3, 4])\n",
        "C = set([1,2,3,4,5,6,7,8,9,10,11])\n",
        "\n",
        "venn3(subsets=(A,B,C))\n",
        "plt.show()\n"
      ],
      "execution_count": null,
      "outputs": [
        {
          "output_type": "display_data",
          "data": {
            "image/png": "[encoded data removed]",
            "text/plain": [
              "<Figure size 432x288 with 1 Axes>"
            ]
          },
          "metadata": {
            "tags": []
          }
        }
      ]
    },
    {
      "cell_type": "code",
      "metadata": {
        "id": "d-YiopvhwBE1",
        "colab": {
          "base_uri": "https://localhost:8080/",
          "height": 383
        },
        "outputId": "064d7988-caf3-43e3-c426-d5bc9e7653b4"
      },
      "source": [
        "# sin 3α を sin α の式に変形する\n",
        "# 式変形による証明フォーマットは次のようにする\n",
        "# まず latex で、 次に sympy で書いてみる\n",
        "%%latex\n",
        "\\displaystyle\n",
        "\n",
        "\\sin 3 α\\\\\n",
        "= \\{単純変形により\\}\\\\\n",
        "\\quad \\sin(2α + α)\\\\\n",
        "= \\{加法定理~ \\sin(α + β) = \\sin α \\cos β + \\cos α \\sin β ~により\\}\\\\\n",
        "\\quad \\sin 2α \\cos α + \\cos 2α \\sin α \\\\\n",
        "= \\{公式 \\sin 2α = 2 \\sin α \\cos α ~により\\}\\\\\n",
        "\\quad 2 \\sin α \\cos^2 α + \\cos 2α \\sin α \\\\\n",
        "= \\{公式 \\cos 2α = \\cos^2 α − \\sin^2 α ~により\\}\\\\\n",
        "\\quad 2 \\sin α \\cos^2 α + (\\cos^2 α − \\sin^2 α) \\sin α \\\\\n",
        "= \\{\\sin α~で括って\\}\\\\\n",
        "\\quad \\sin α (2 \\cos^2 α+ \\cos^2α - \\sin^2 α)\\\\\n",
        "= \\{単純計算\\}\\\\\n",
        "\\quad \\sin α (3 \\cos^2 α - \\sin^2 α)\\\\\n",
        "= \\{公式 \\sin^2 α+ \\cos^2 α= 1 \\Longrightarrow \\cos^2 α = 1 - \\sin^2 α~ により\\}\\\\\n",
        "\\quad \\sin α (3 - 3 \\sin^2 α - \\sin^2 α)\\\\\n",
        "= \\{単純計算\\}\\\\\n",
        "\\quad \\sin α (3 - 4 \\sin^2 α)\\\\"
      ],
      "execution_count": null,
      "outputs": [
        {
          "output_type": "display_data",
          "data": {
            "text/latex": "\\displaystyle\n\n\\sin 3 α\\\\\n= \\{単純変形により\\}\\\\\n\\quad \\sin(2α + α)\\\\\n= \\{加法定理~ \\sin(α + β) = \\sin α \\cos β + \\cos α \\sin β ~により\\}\\\\\n\\quad \\sin 2α \\cos α + \\cos 2α \\sin α \\\\\n= \\{公式 \\sin 2α = 2 \\sin α \\cos α ~により\\}\\\\\n\\quad 2 \\sin α \\cos^2 α + \\cos 2α \\sin α \\\\\n= \\{公式 \\cos 2α = \\cos^2 α − \\sin^2 α ~により\\}\\\\\n\\quad 2 \\sin α \\cos^2 α + (\\cos^2 α − \\sin^2 α) \\sin α \\\\\n= \\{\\sin α~で括って\\}\\\\\n\\quad \\sin α (2 \\cos^2 α+ \\cos^2α - \\sin^2 α)\\\\\n= \\{単純計算\\}\\\\\n\\quad \\sin α (3 \\cos^2 α - \\sin^2 α)\\\\\n= \\{公式 \\sin^2 α+ \\cos^2 α= 1 \\Longrightarrow \\cos^2 α = 1 - \\sin^2 α~ により\\}\\\\\n\\quad \\sin α (3 - 3 \\sin^2 α - \\sin^2 α)\\\\\n= \\{単純計算\\}\\\\\n\\quad \\sin α (3 - 4 \\sin^2 α)\\\\",
            "text/plain": [
              "<IPython.core.display.Latex object>"
            ]
          },
          "metadata": {
            "tags": []
          }
        }
      ]
    },
    {
      "cell_type": "code",
      "metadata": {
        "id": "qhSfbyjGdFwm",
        "colab": {
          "base_uri": "https://localhost:8080/",
          "height": 621
        },
        "outputId": "ffbde800-2e9b-41ef-aa7b-c8823728a8cb"
      },
      "source": [
        "# sympy で書いてみる実験\n",
        "from sympy import *\n",
        "from IPython.display import Markdown\n",
        "init_printing()\n",
        "α, β = symbols('α β')\n",
        "display (sin (3*α))\n",
        "display(Markdown(\"$\\sin (3α)$ を $\\sin(α)$ だけで表示する。\"))\n",
        "display(Markdown(\"まず公式\"))\n",
        "display (Eq(sin(α+β),expand(sin(α+β),trig=True)))\n",
        "display(Markdown(\"より、$α = 2α,~β = α$ とおくと\"))\n",
        "display(Eq(sin (3*α),(sin(2*α)*cos(α)+cos(2*α)*sin(α))))\n",
        "display(Markdown(\"項の順序はとりあえず気にしない。\"))\n",
        "display(Markdown(\"また同じ公式\"))\n",
        "display (Eq(sin(α+β),expand(sin(α+β),trig=True)))\n",
        "display(Markdown(\"で、$β = α$ とおくと\"))\n",
        "display (Eq(sin(2*α),expand(sin(2*α),trig=True)))\n",
        "display(Markdown(\"を用いて $\\sin(2α)$ を消去すると\"))\n",
        "display(Eq(sin (3*α),(expand(sin(2*α)*cos(α),trig=True)+cos(2*α)*sin(α))))\n",
        "display(Markdown(\"$\\cos(2α)$について公式\"))\n",
        "display (Eq(cos(2*α),expand(cos(2*α),trig=True)))\n",
        "display(Markdown(\"を用いて $\\cos(2α)$ を消去すると\"))\n",
        "display(Eq(sin (3*α),(expand(sin(2*α)*cos(α)+cos(2*α)*sin(α),trig=True))))\n",
        "display(Markdown(\"次に公式を使って $\\cos^2(α)$ を消すために公式を変形する。\"))\n",
        "display(Eq((sin(α))**2+(cos(α))**2,1))\n",
        "display(Eq((cos(α))**2,1-(sin(α))**2))\n",
        "display(Markdown(\"を代入する\"))\n",
        "display(Eq(sin (3*α),4*sin(α)*(1-(sin(α))**2) - sin(α)))\n",
        "display(Eq(sin (3*α),expand(4*sin(α)*(1-(sin(α))**2) - sin(α))))\n"
      ],
      "execution_count": null,
      "outputs": [
        {
          "output_type": "display_data",
          "data": {
            "image/png": "[encoded data removed]",
            "text/latex": "$\\displaystyle \\sin{\\left(3 α \\right)}$",
            "text/plain": [
              "sin(3⋅α)"
            ]
          },
          "metadata": {
            "tags": []
          }
        },
        {
          "output_type": "display_data",
          "data": {
            "text/markdown": "$\\sin (3α)$ を $\\sin(α)$ だけで表示する。",
            "text/plain": [
              "<IPython.core.display.Markdown object>"
            ]
          },
          "metadata": {
            "tags": []
          }
        },
        {
          "output_type": "display_data",
          "data": {
            "text/markdown": "まず公式",
            "text/plain": [
              "<IPython.core.display.Markdown object>"
            ]
          },
          "metadata": {
            "tags": []
          }
        },
        {
          "output_type": "display_data",
          "data": {
            "image/png": "[encoded data removed]",
            "text/latex": "$\\displaystyle \\sin{\\left(α + β \\right)} = \\sin{\\left(α \\right)} \\cos{\\left(β \\right)} + \\sin{\\left(β \\right)} \\cos{\\left(α \\right)}$",
            "text/plain": [
              "sin(α + β) = sin(α)⋅cos(β) + sin(β)⋅cos(α)"
            ]
          },
          "metadata": {
            "tags": []
          }
        },
        {
          "output_type": "display_data",
          "data": {
            "text/markdown": "より、$α = 2α,~β = α$ とおくと",
            "text/plain": [
              "<IPython.core.display.Markdown object>"
            ]
          },
          "metadata": {
            "tags": []
          }
        },
        {
          "output_type": "display_data",
          "data": {
            "image/png": "[encoded data removed]",
            "text/latex": "$\\displaystyle \\sin{\\left(3 α \\right)} = \\sin{\\left(α \\right)} \\cos{\\left(2 α \\right)} + \\sin{\\left(2 α \\right)} \\cos{\\left(α \\right)}$",
            "text/plain": [
              "sin(3⋅α) = sin(α)⋅cos(2⋅α) + sin(2⋅α)⋅cos(α)"
            ]
          },
          "metadata": {
            "tags": []
          }
        },
        {
          "output_type": "display_data",
          "data": {
            "text/markdown": "項の順序はとりあえず気にしない。",
            "text/plain": [
              "<IPython.core.display.Markdown object>"
            ]
          },
          "metadata": {
            "tags": []
          }
        },
        {
          "output_type": "display_data",
          "data": {
            "text/markdown": "また同じ公式",
            "text/plain": [
              "<IPython.core.display.Markdown object>"
            ]
          },
          "metadata": {
            "tags": []
          }
        },
        {
          "output_type": "display_data",
          "data": {
            "image/png": "[encoded data removed]",
            "text/latex": "$\\displaystyle \\sin{\\left(α + β \\right)} = \\sin{\\left(α \\right)} \\cos{\\left(β \\right)} + \\sin{\\left(β \\right)} \\cos{\\left(α \\right)}$",
            "text/plain": [
              "sin(α + β) = sin(α)⋅cos(β) + sin(β)⋅cos(α)"
            ]
          },
          "metadata": {
            "tags": []
          }
        },
        {
          "output_type": "display_data",
          "data": {
            "text/markdown": "で、$β = α$ とおくと",
            "text/plain": [
              "<IPython.core.display.Markdown object>"
            ]
          },
          "metadata": {
            "tags": []
          }
        },
        {
          "output_type": "display_data",
          "data": {
            "image/png": "[encoded data removed]",
            "text/latex": "$\\displaystyle \\sin{\\left(2 α \\right)} = 2 \\sin{\\left(α \\right)} \\cos{\\left(α \\right)}$",
            "text/plain": [
              "sin(2⋅α) = 2⋅sin(α)⋅cos(α)"
            ]
          },
          "metadata": {
            "tags": []
          }
        },
        {
          "output_type": "display_data",
          "data": {
            "text/markdown": "を用いて $\\sin(2α)$ を消去すると",
            "text/plain": [
              "<IPython.core.display.Markdown object>"
            ]
          },
          "metadata": {
            "tags": []
          }
        },
        {
          "output_type": "display_data",
          "data": {
            "image/png": "[encoded data removed]",
            "text/latex": "$\\displaystyle \\sin{\\left(3 α \\right)} = 2 \\sin{\\left(α \\right)} \\cos^{2}{\\left(α \\right)} + \\sin{\\left(α \\right)} \\cos{\\left(2 α \\right)}$",
            "text/plain": [
              "                       2                     \n",
              "sin(3⋅α) = 2⋅sin(α)⋅cos (α) + sin(α)⋅cos(2⋅α)"
            ]
          },
          "metadata": {
            "tags": []
          }
        },
        {
          "output_type": "display_data",
          "data": {
            "text/markdown": "$\\cos(2α)$について公式",
            "text/plain": [
              "<IPython.core.display.Markdown object>"
            ]
          },
          "metadata": {
            "tags": []
          }
        },
        {
          "output_type": "display_data",
          "data": {
            "image/png": "[encoded data removed]",
            "text/latex": "$\\displaystyle \\cos{\\left(2 α \\right)} = 2 \\cos^{2}{\\left(α \\right)} - 1$",
            "text/plain": [
              "                2       \n",
              "cos(2⋅α) = 2⋅cos (α) - 1"
            ]
          },
          "metadata": {
            "tags": []
          }
        },
        {
          "output_type": "display_data",
          "data": {
            "text/markdown": "を用いて $\\cos(2α)$ を消去すると",
            "text/plain": [
              "<IPython.core.display.Markdown object>"
            ]
          },
          "metadata": {
            "tags": []
          }
        },
        {
          "output_type": "display_data",
          "data": {
            "image/png": "[encoded data removed]",
            "text/latex": "$\\displaystyle \\sin{\\left(3 α \\right)} = 4 \\sin{\\left(α \\right)} \\cos^{2}{\\left(α \\right)} - \\sin{\\left(α \\right)}$",
            "text/plain": [
              "                       2            \n",
              "sin(3⋅α) = 4⋅sin(α)⋅cos (α) - sin(α)"
            ]
          },
          "metadata": {
            "tags": []
          }
        },
        {
          "output_type": "display_data",
          "data": {
            "text/markdown": "次に公式を使って $\\cos^2(α)$ を消すために公式を変形する。",
            "text/plain": [
              "<IPython.core.display.Markdown object>"
            ]
          },
          "metadata": {
            "tags": []
          }
        },
        {
          "output_type": "display_data",
          "data": {
            "image/png": "[encoded data removed]",
            "text/latex": "$\\displaystyle \\sin^{2}{\\left(α \\right)} + \\cos^{2}{\\left(α \\right)} = 1$",
            "text/plain": [
              "   2         2       \n",
              "sin (α) + cos (α) = 1"
            ]
          },
          "metadata": {
            "tags": []
          }
        },
        {
          "output_type": "display_data",
          "data": {
            "image/png": "[encoded data removed]",
            "text/latex": "$\\displaystyle \\cos^{2}{\\left(α \\right)} = 1 - \\sin^{2}{\\left(α \\right)}$",
            "text/plain": [
              "   2             2   \n",
              "cos (α) = 1 - sin (α)"
            ]
          },
          "metadata": {
            "tags": []
          }
        },
        {
          "output_type": "display_data",
          "data": {
            "text/markdown": "を代入する",
            "text/plain": [
              "<IPython.core.display.Markdown object>"
            ]
          },
          "metadata": {
            "tags": []
          }
        },
        {
          "output_type": "display_data",
          "data": {
            "image/png": "[encoded data removed]",
            "text/latex": "$\\displaystyle \\sin{\\left(3 α \\right)} = 4 \\left(1 - \\sin^{2}{\\left(α \\right)}\\right) \\sin{\\left(α \\right)} - \\sin{\\left(α \\right)}$",
            "text/plain": [
              "             ⎛       2   ⎞                \n",
              "sin(3⋅α) = 4⋅⎝1 - sin (α)⎠⋅sin(α) - sin(α)"
            ]
          },
          "metadata": {
            "tags": []
          }
        },
        {
          "output_type": "display_data",
          "data": {
            "image/png": "[encoded data removed]",
            "text/latex": "$\\displaystyle \\sin{\\left(3 α \\right)} = - 4 \\sin^{3}{\\left(α \\right)} + 3 \\sin{\\left(α \\right)}$",
            "text/plain": [
              "                  3              \n",
              "sin(3⋅α) = - 4⋅sin (α) + 3⋅sin(α)"
            ]
          },
          "metadata": {
            "tags": []
          }
        }
      ]
    },
    {
      "cell_type": "code",
      "metadata": {
        "id": "U2rl13lXiYGg",
        "colab": {
          "base_uri": "https://localhost:8080/",
          "height": 69
        },
        "outputId": "45000c5b-ef0f-44f8-802e-d39a41caaf60"
      },
      "source": [
        "from IPython.display import Math, display\n",
        "import sympy as sy\n",
        "x = sy.symbols('x')\n",
        "expression = sy.sin(x)\n",
        "display(Math('f(x) =' + sy.latex(expression)))\n",
        "display(Math('\\\\left[ \\\\frac{3 \\\\mu_2^2+\\\\sigma_2^2\\\\log(2)}{2\\\\mu_2} \\\\right]'))"
      ],
      "execution_count": null,
      "outputs": [
        {
          "output_type": "display_data",
          "data": {
            "text/latex": "$$f(x) =\\sin{\\left (x \\right )}$$",
            "text/plain": [
              "<IPython.core.display.Math object>"
            ]
          },
          "metadata": {
            "tags": []
          }
        },
        {
          "output_type": "display_data",
          "data": {
            "text/latex": "$$\\left[ \\frac{3 \\mu_2^2+\\sigma_2^2\\log(2)}{2\\mu_2} \\right]$$",
            "text/plain": [
              "<IPython.core.display.Math object>"
            ]
          },
          "metadata": {
            "tags": []
          }
        }
      ]
    },
    {
      "cell_type": "code",
      "metadata": {
        "id": "WfZZIfrzGbUO",
        "colab": {
          "base_uri": "https://localhost:8080/",
          "height": 82
        },
        "outputId": "209923a7-3b34-4594-ce23-7041e6fbce1d"
      },
      "source": [
        "from sympy import *\n",
        "init_printing()\n",
        "\n",
        "x, f = symbols('x, f')\n",
        "mu = symbol\n",
        "display(sin(x))\n",
        "display(Eq(f(x), sin(x)))\n",
        "mu = symbols(r'\\mu')\n",
        "display(3*mu)\n",
        "# expression = sy.sin(x)\n",
        "# display(Math('f(x) =' + sy.latex(expression)))\n",
        "# display(Math('\\\\left[ \\\\frac{3 \\\\mu_2^2+\\\\sigma_2^2\\\\log(2)}{2\\\\mu_2} \\\\right]'))"
      ],
      "execution_count": null,
      "outputs": [
        {
          "output_type": "display_data",
          "data": {
            "image/png": "[encoded data removed]",
            "text/latex": "$$\\sin{\\left (x \\right )}$$",
            "text/plain": [
              "sin(x)"
            ]
          },
          "metadata": {
            "tags": []
          }
        },
        {
          "output_type": "display_data",
          "data": {
            "image/png": "[encoded data removed]",
            "text/latex": "$$f{\\left (x \\right )} = \\sin{\\left (x \\right )}$$",
            "text/plain": [
              "f(x) = sin(x)"
            ]
          },
          "metadata": {
            "tags": []
          }
        },
        {
          "output_type": "display_data",
          "data": {
            "image/png": "[encoded data removed]",
            "text/latex": "$$3 \\mu$$",
            "text/plain": [
              "3⋅\\mu"
            ]
          },
          "metadata": {
            "tags": []
          }
        }
      ]
    },
    {
      "cell_type": "code",
      "metadata": {
        "id": "7S_3sUHzj7Wh",
        "colab": {
          "base_uri": "https://localhost:8080/",
          "height": 47
        },
        "outputId": "06a7ff1e-5102-46d5-885e-62858f8f677d"
      },
      "source": [
        "%%latex\n",
        "\\left[ \\frac{3 \\mu_2^2+ \\sigma_2^2 \\log(2)}{ 2\\mu_2} \\right]"
      ],
      "execution_count": null,
      "outputs": [
        {
          "output_type": "display_data",
          "data": {
            "text/latex": "\\left[ \\frac{3 \\mu_2^2+ \\sigma_2^2 \\log(2)}{ \\mu_2} \\right]",
            "text/plain": [
              "<IPython.core.display.Latex object>"
            ]
          },
          "metadata": {
            "tags": []
          }
        }
      ]
    },
    {
      "cell_type": "markdown",
      "metadata": {
        "id": "1ZF8dYuekki9"
      },
      "source": [
        "$$\n",
        "\\left[ \\frac{3 \\mu_2^2+ \\sigma_2^2 \\log(2)}{ 2 \\mu_2} \\right]\n",
        "$$"
      ]
    },
    {
      "cell_type": "markdown",
      "metadata": {
        "id": "TNT3Tly5cDzA"
      },
      "source": [
        "# sympy の latex output display とか"
      ]
    },
    {
      "cell_type": "code",
      "metadata": {
        "id": "kkAckyg3cLKw",
        "colab": {
          "base_uri": "https://localhost:8080/",
          "height": 38
        },
        "outputId": "2efe0719-84a1-43f9-d36f-f60bdefbef2b"
      },
      "source": [
        "from sympy import *\n",
        "init_printing()\n",
        "a, b = symbols('a, b')\n",
        "a"
      ],
      "execution_count": null,
      "outputs": [
        {
          "output_type": "execute_result",
          "data": {
            "image/png": "[encoded data removed]",
            "text/latex": "$$a$$",
            "text/plain": [
              "a"
            ]
          },
          "metadata": {
            "tags": []
          },
          "execution_count": 12
        }
      ]
    },
    {
      "cell_type": "code",
      "metadata": {
        "id": "aynrucM7cmGX",
        "colab": {
          "base_uri": "https://localhost:8080/",
          "height": 38
        },
        "outputId": "7c95189d-2755-4c95-b009-9794bedf3f42"
      },
      "source": [
        "from sympy import *\n",
        "display(a**3)"
      ],
      "execution_count": null,
      "outputs": [
        {
          "output_type": "display_data",
          "data": {
            "image/png": "[encoded data removed]",
            "text/latex": "$$a^{3}$$",
            "text/plain": [
              " 3\n",
              "a "
            ]
          },
          "metadata": {
            "tags": []
          }
        }
      ]
    },
    {
      "cell_type": "code",
      "metadata": {
        "id": "GdCiTmtOc4Ry",
        "colab": {
          "base_uri": "https://localhost:8080/",
          "height": 60
        },
        "outputId": "5240a6d9-557e-4880-bb75-744dbfc67720"
      },
      "source": [
        "from sympy import *\n",
        "init_printing()\n",
        "a, b = symbols('a_{i-1} n_3')\n",
        "display (a)\n",
        "display (b)"
      ],
      "execution_count": null,
      "outputs": [
        {
          "output_type": "display_data",
          "data": {
            "image/png": "[encoded data removed]",
            "text/latex": "$$a_{i-1}$$",
            "text/plain": [
              "a_{i-1}"
            ]
          },
          "metadata": {
            "tags": []
          }
        },
        {
          "output_type": "display_data",
          "data": {
            "image/png": "[encoded data removed]",
            "text/latex": "$$n_{3}$$",
            "text/plain": [
              "n₃"
            ]
          },
          "metadata": {
            "tags": []
          }
        }
      ]
    },
    {
      "cell_type": "markdown",
      "metadata": {
        "id": "a707AxSMdPqU"
      },
      "source": [
        ""
      ]
    },
    {
      "cell_type": "code",
      "metadata": {
        "id": "FjnsfpsM5GXX",
        "colab": {
          "base_uri": "https://localhost:8080/",
          "height": 35
        },
        "outputId": "c02c165a-e6d6-4821-e11d-5e3d2d11a44b"
      },
      "source": [
        "xx = [\"even\" if i % 2 == 0 else \"odd\" for i in range(10)]\n",
        "\n",
        "print(xx)"
      ],
      "execution_count": null,
      "outputs": [
        {
          "output_type": "stream",
          "text": [
            "['even', 'odd', 'even', 'odd', 'even', 'odd', 'even', 'odd', 'even', 'odd']\n"
          ],
          "name": "stdout"
        }
      ]
    },
    {
      "cell_type": "markdown",
      "metadata": {
        "id": "T5B-NN-9qmqI"
      },
      "source": [
        "マークダウンでドルマークを表示する方法\n",
        "\n",
        "`&#36;` => &#36;5 ドル\n",
        "\n",
        "が確実か。\n",
        "\n",
        "`&dollar;` => &dollar;10 ドル\n",
        "\n",
        "もとりあえず colab では使える。こちらは覚えやすい。\n",
        "\n",
        "&pound;4ポンド\n",
        "\n",
        "は `&pound;` としたら出た。\n",
        "\n",
        "&euro;20ユーロ\n",
        "\n",
        "&yen;100円\n",
        "\n",
        "https://dev.w3.org/html5/html-author/charref  \n",
        "\n",
        "character entity reference chart  \n",
        "というページがあった。\n"
      ]
    },
    {
      "cell_type": "markdown",
      "metadata": {
        "id": "EtcYLIAcb0Cl"
      },
      "source": [
        "&dollar; T &dollar;&dollar;\n",
        "\n",
        "これは &dollar; マークで囲むとインライン、&dollar;&dollar; で囲むと段落を変えて、センタリングして表示する。\n"
      ]
    },
    {
      "cell_type": "markdown",
      "metadata": {
        "id": "sTxrmTvdtXRo"
      },
      "source": [
        "$$\n",
        "x = 3\n",
        "$$\n",
        "\n",
        "とか。\n",
        "\n",
        "これは \\\\$ マークで囲むとインライン、\\\\$\\\\$ で囲むと段落を変えて、センタリングして表示する。\n",
        "\n",
        "これは &dollar; マークで囲むとインライン、&dollar;&dollar; で囲むと段落を変えて、センタリングして表示する。\n",
        "\n",
        "&nbsp;\n"
      ]
    },
    {
      "cell_type": "markdown",
      "metadata": {
        "id": "E0r0X7aEWHuw"
      },
      "source": [
        "#  Decision Tree\n",
        "https://medium.com/@rnbrown/creating-and-visualizing-decision-trees-with-python-f8e8fa394176"
      ]
    },
    {
      "cell_type": "code",
      "metadata": {
        "id": "JjwHRO06XOhh"
      },
      "source": [
        ""
      ],
      "execution_count": null,
      "outputs": []
    },
    {
      "cell_type": "code",
      "metadata": {
        "id": "ixTQ5oaDqt7D"
      },
      "source": [
        "import sklearn.datasets as datasets\n",
        "import pandas as pd\n",
        "iris=datasets.load_iris()\n",
        "df=pd.DataFrame(iris.data, columns=iris.feature_names)\n",
        "y=iris.target"
      ],
      "execution_count": null,
      "outputs": []
    },
    {
      "cell_type": "code",
      "metadata": {
        "id": "iKyj4-_aWD0R",
        "colab": {
          "base_uri": "https://localhost:8080/",
          "height": 121
        },
        "outputId": "2565d31e-495e-44b5-8879-6ef09e70a7a7"
      },
      "source": [
        "from sklearn.tree import DecisionTreeClassifier\n",
        "dtree=DecisionTreeClassifier()\n",
        "dtree.fit(df,y)"
      ],
      "execution_count": null,
      "outputs": [
        {
          "output_type": "execute_result",
          "data": {
            "text/plain": [
              "DecisionTreeClassifier(ccp_alpha=0.0, class_weight=None, criterion='gini',\n",
              "                       max_depth=None, max_features=None, max_leaf_nodes=None,\n",
              "                       min_impurity_decrease=0.0, min_impurity_split=None,\n",
              "                       min_samples_leaf=1, min_samples_split=2,\n",
              "                       min_weight_fraction_leaf=0.0, presort='deprecated',\n",
              "                       random_state=None, splitter='best')"
            ]
          },
          "metadata": {
            "tags": []
          },
          "execution_count": 3
        }
      ]
    },
    {
      "cell_type": "code",
      "metadata": {
        "id": "otNxb_cnWP-1",
        "colab": {
          "base_uri": "https://localhost:8080/",
          "height": 753
        },
        "outputId": "df610719-b863-48f2-f95a-c45d5a4371a2"
      },
      "source": [
        "from sklearn.externals.six import StringIO  \n",
        "from IPython.display import Image  \n",
        "from sklearn.tree import export_graphviz\n",
        "import pydotplus\n",
        "dot_data = StringIO()\n",
        "export_graphviz(dtree, out_file=dot_data,  \n",
        "                filled=True, rounded=True,\n",
        "                special_characters=True)\n",
        "graph = pydotplus.graph_from_dot_data(dot_data.getvalue())  \n",
        "Image(graph.create_png())"
      ],
      "execution_count": null,
      "outputs": [
        {
          "output_type": "stream",
          "text": [
            "/usr/local/lib/python3.6/dist-packages/sklearn/externals/six.py:31: FutureWarning: The module is deprecated in version 0.21 and will be removed in version 0.23 since we've dropped support for Python 2.7. Please rely on the official version of six (https://pypi.org/project/six/).\n",
            "  \"(https://pypi.org/project/six/).\", FutureWarning)\n"
          ],
          "name": "stderr"
        },
        {
          "output_type": "execute_result",
          "data": {
            "image/png": "[encoded data removed]",
            "text/plain": [
              "<IPython.core.display.Image object>"
            ]
          },
          "metadata": {
            "tags": []
          },
          "execution_count": 4
        }
      ]
    },
    {
      "cell_type": "markdown",
      "metadata": {
        "id": "TLk7ctMRwLfq"
      },
      "source": [
        "# meshgrid を理解する。"
      ]
    },
    {
      "cell_type": "code",
      "metadata": {
        "id": "y_DVpFwbwQ84",
        "colab": {
          "base_uri": "https://localhost:8080/",
          "height": 248
        },
        "outputId": "b677b796-9cb6-43e4-acef-cf1bc03bba5e"
      },
      "source": [
        "import numpy as np\n",
        "x=np.linspace(-1,1,100)\n",
        "y=np.linspace(-1,1,100)\n",
        "x, y = np.meshgrid(x, y)\n",
        "# print(x)\n",
        "z = np.exp(-4*(x**2+y**2))\n",
        "# print(z)\n",
        "\n",
        "import matplotlib.pyplot as plt\n",
        "fig = plt.figure()\n",
        "ax = fig.add_subplot(111, projection='3d')\n",
        "ax.plot_surface(x,y,z, cmap=cm.jet)\n",
        "plt.show()"
      ],
      "execution_count": null,
      "outputs": [
        {
          "output_type": "display_data",
          "data": {
            "image/png": "[encoded data removed]",
            "text/plain": [
              "<Figure size 432x288 with 1 Axes>"
            ]
          },
          "metadata": {
            "tags": [],
            "needs_background": "light"
          }
        }
      ]
    },
    {
      "cell_type": "code",
      "metadata": {
        "id": "jH-KnjaQw_nY",
        "colab": {
          "base_uri": "https://localhost:8080/",
          "height": 104
        },
        "outputId": "0a2305c4-856f-48de-8403-b7dd48e2e2c1"
      },
      "source": [
        "import numpy as np\n",
        "Z = np.zeros((5,5), [('x',float),('y',float)])\n",
        "Z['x'], Z['y'] = np.meshgrid(np.linspace(0,1,5),\n",
        "                             np.linspace(0,1,5))\n",
        "print(Z)"
      ],
      "execution_count": null,
      "outputs": [
        {
          "output_type": "stream",
          "text": [
            "[[(0.  , 0.  ) (0.25, 0.  ) (0.5 , 0.  ) (0.75, 0.  ) (1.  , 0.  )]\n",
            " [(0.  , 0.25) (0.25, 0.25) (0.5 , 0.25) (0.75, 0.25) (1.  , 0.25)]\n",
            " [(0.  , 0.5 ) (0.25, 0.5 ) (0.5 , 0.5 ) (0.75, 0.5 ) (1.  , 0.5 )]\n",
            " [(0.  , 0.75) (0.25, 0.75) (0.5 , 0.75) (0.75, 0.75) (1.  , 0.75)]\n",
            " [(0.  , 1.  ) (0.25, 1.  ) (0.5 , 1.  ) (0.75, 1.  ) (1.  , 1.  )]]\n"
          ],
          "name": "stdout"
        }
      ]
    },
    {
      "cell_type": "code",
      "metadata": {
        "id": "Y6hbqLhHyMua",
        "colab": {
          "base_uri": "https://localhost:8080/",
          "height": 248
        },
        "outputId": "86e9498f-fa87-480b-abb2-1505451986fd"
      },
      "source": [
        "# import for colormaps\n",
        "import matplotlib.pyplot as plt\n",
        "from matplotlib import cm\n",
        "\n",
        "x=np.linspace(-10,10, num=50)\n",
        "y=np.linspace(-10,10, num=50)\n",
        "\n",
        "x, y = np.meshgrid(x, y)\n",
        "\n",
        "z = np.exp(-0.1*x**2-0.1*y**2)\n",
        "\n",
        "fig = plt.figure()\n",
        "ax = fig.add_subplot(111, projection='3d')\n",
        "ax.plot_surface(x,y,z, cmap=cm.jet)\n",
        "plt.show()\n"
      ],
      "execution_count": null,
      "outputs": [
        {
          "output_type": "display_data",
          "data": {
            "image/png": "[encoded data removed]",
            "text/plain": [
              "<Figure size 432x288 with 1 Axes>"
            ]
          },
          "metadata": {
            "tags": [],
            "needs_background": "light"
          }
        }
      ]
    },
    {
      "cell_type": "code",
      "metadata": {
        "id": "L2_IAMzuve_0"
      },
      "source": [
        "# 実験\n",
        "\n",
        "# import for colormaps\n",
        "from matplotlib import cm\n",
        "\n",
        "# x=np.linspace(-10,10, num=100)\n",
        "# y=np.linspace(-10,10, num=100)\n",
        "x=np.linspace(-1,1, 100)\n",
        "y=np.linspace(-1,1, 100)\n",
        "x, y = np.meshgrid(x, y)\n",
        "\n",
        "# D = np.sqrt(X*X+Y*Y)\n",
        "# z = np.exp(-0.1*x**2-0.1*y**2)\n",
        "# sigma, mu = 1.0, 0.0\n",
        "# G = np.exp(-( (D-mu)**2 / ( 2.0 * sigma**2 ) ) )\n",
        "z = np.exp(-(x**2+y**2)**2/2.0)\n",
        "\n",
        "fig = plt.figure()\n",
        "ax = fig.add_subplot(111, projection='3d')\n",
        "ax.plot_surface(x,y,z, cmap=cm.jet)\n",
        "plt.show()"
      ],
      "execution_count": null,
      "outputs": []
    },
    {
      "cell_type": "code",
      "metadata": {
        "id": "_rIQ78aqvm24",
        "colab": {
          "base_uri": "https://localhost:8080/",
          "height": 265
        },
        "outputId": "6ce5ffb4-4b16-4c77-ad95-53d6d97f779a"
      },
      "source": [
        "# 実験\n",
        "import matplotlib.pyplot as plt\n",
        "import numpy as np\n",
        "import math\n",
        "\n",
        "def f(x):\n",
        "    return (math.exp(-x**2/2)) / math.sqrt(2*math.pi)\n",
        "\n",
        "\n",
        "n = np.linspace(-5.0, 5.0, 50)\n",
        "\n",
        "p = []\n",
        "for i in range(len(n)):\n",
        "    p.append(f(n[i]))\n",
        "\n",
        "# グラフに表示\n",
        "plt.plot(n, p)\n",
        "plt.show()\n"
      ],
      "execution_count": null,
      "outputs": [
        {
          "output_type": "display_data",
          "data": {
            "image/png": "[encoded data removed]",
            "text/plain": [
              "<Figure size 432x288 with 1 Axes>"
            ]
          },
          "metadata": {
            "tags": [],
            "needs_background": "light"
          }
        }
      ]
    },
    {
      "cell_type": "markdown",
      "metadata": {
        "id": "uO3GD07fWcjf"
      },
      "source": [
        "# html で変数を扱う"
      ]
    },
    {
      "cell_type": "code",
      "metadata": {
        "colab": {
          "base_uri": "https://localhost:8080/",
          "height": 145
        },
        "id": "Nfh_KGr8WQZk",
        "outputId": "afed5608-e0c8-4f5c-aec6-e7e34df1898c"
      },
      "source": [
        "# css を使ってhtmlで変数を使う。\n",
        "# span を使えば自由な位置に決まった文字列を入れることができる。\n",
        "%%html\n",
        "<style>\n",
        "    .parson1:before {\n",
        "        content: \"田中\";\n",
        "    }\n",
        "\n",
        "    p.age1:after {\n",
        "        content: \"36歳\";\n",
        "    }\n",
        "</style>\n",
        "<h1>サンプル</h1>\n",
        "<p class=\"parson1\">は男の子</p>\n",
        "<p class=\"parson1 age1\">の年齢は</p>\n",
        "<p>私の彼氏は<span class=\"parson1\"></span>君だよ</p>"
      ],
      "execution_count": null,
      "outputs": [
        {
          "output_type": "display_data",
          "data": {
            "text/html": [
              "<style>\n",
              "    .parson1:before {\n",
              "        content: \"田中\";\n",
              "    }\n",
              "\n",
              "    p.age1:after {\n",
              "        content: \"36歳\";\n",
              "    }\n",
              "</style>\n",
              "<h1>サンプル</h1>\n",
              "<p class=\"parson1\">は男の子</p>\n",
              "<p class=\"parson1 age1\">の年齢は</p>\n",
              "<p>私の彼氏は<span class=\"parson1\"></span>君だよ</p>"
            ],
            "text/plain": [
              "<IPython.core.display.HTML object>"
            ]
          },
          "metadata": {
            "tags": []
          }
        }
      ]
    },
    {
      "cell_type": "code",
      "metadata": {
        "colab": {
          "base_uri": "https://localhost:8080/",
          "height": 34
        },
        "id": "ZwZYmNvgWQZi",
        "outputId": "10e51fde-d995-4b5e-e2cd-27561aaac5ca"
      },
      "source": [
        "# javascript を使って html で変数を使う\n",
        "%%html\n",
        "<span class=\"name1″></span>は男です<br />\n",
        "<span class=\"name1″></span>の年齢は30歳です\n",
        "<script>\n",
        "    var nameStr = \"山田太郎\";\n",
        "    var nameElements = document.getElementsByTagName(\"span\");\n",
        "    for (var i = 0; i < nameElements.length; i++) {\n",
        "        if (nameElements[i].className == \"name1\") {\n",
        "            nameElements[i].innerText = nameStr;\n",
        "        }\n",
        "    }\n",
        "</script>"
      ],
      "execution_count": null,
      "outputs": [
        {
          "output_type": "display_data",
          "data": {
            "text/html": [
              "<span class=\"name1″></span>は男です<br />\n",
              "<span class=\"name1″></span>の年齢は30歳です\n",
              "<script>\n",
              "    var nameStr = \"山田太郎\";\n",
              "    var nameElements = document.getElementsByTagName(\"span\");\n",
              "    for (var i = 0; i < nameElements.length; i++) {\n",
              "        if (nameElements[i].className == \"name1\") {\n",
              "            nameElements[i].innerText = nameStr;\n",
              "        }\n",
              "    }\n",
              "</script>"
            ],
            "text/plain": [
              "<IPython.core.display.HTML object>"
            ]
          },
          "metadata": {
            "tags": []
          }
        }
      ]
    },
    {
      "cell_type": "code",
      "metadata": {
        "id": "LJylwWTzXNEL",
        "colab": {
          "base_uri": "https://localhost:8080/",
          "height": 34
        },
        "outputId": "24bdf632-bdcd-4859-c9a1-5de4c35ef18c"
      },
      "source": [
        "# 実験\n",
        "%%html\n",
        "<!-- <button>Click me</button> -->\n",
        "<div>\n",
        "<!-- <span class=\"name1\"></span>は男です<br> -->\n",
        "<span class=\"name1\"></span>の年齢は30歳です\n",
        "<div>\n",
        "<script>\n",
        "    var nameStr = \"山田太郎\";\n",
        "    // const names = document.getElementsByClassName('name1');\n",
        "    var names = document.getElementsByClassName('name1');\n",
        "    names[0].textContent = nameStr;\n",
        "    // function createParagraph() {\n",
        "    //     let para = document.createElement('p');\n",
        "    //     para.textContent = 'ボタンが押されました!';\n",
        "    //     document.body.appendChild(para);\n",
        "    // }\n",
        "\n",
        "    // const buttons = document.querySelectorAll('button');\n",
        "\n",
        "    // for (let i = 0; i < buttons.length; i++) {\n",
        "    //     buttons[i].addEventListener('click', createParagraph);\n",
        "    // }\n",
        "</script>"
      ],
      "execution_count": null,
      "outputs": [
        {
          "output_type": "display_data",
          "data": {
            "text/html": [
              "<!-- <button>Click me</button> -->\n",
              "<div>\n",
              "<!-- <span class=\"name1\"></span>は男です<br> -->\n",
              "<span class=\"name1\"></span>の年齢は30歳です\n",
              "<div>\n",
              "<script>\n",
              "    var nameStr = \"山田太郎\";\n",
              "    // const names = document.getElementsByClassName('name1');\n",
              "    var names = document.getElementsByClassName('name1');\n",
              "    names[0].textContent = nameStr;\n",
              "    // function createParagraph() {\n",
              "    //     let para = document.createElement('p');\n",
              "    //     para.textContent = 'ボタンが押されました!';\n",
              "    //     document.body.appendChild(para);\n",
              "    // }\n",
              "\n",
              "    // const buttons = document.querySelectorAll('button');\n",
              "\n",
              "    // for (let i = 0; i < buttons.length; i++) {\n",
              "    //     buttons[i].addEventListener('click', createParagraph);\n",
              "    // }\n",
              "</script>"
            ],
            "text/plain": [
              "<IPython.core.display.HTML object>"
            ]
          },
          "metadata": {
            "tags": []
          }
        }
      ]
    },
    {
      "cell_type": "code",
      "metadata": {
        "id": "OWZNWL-mhFfc"
      },
      "source": [
        "# ここで for loop を使いたくないので、for loop を reduce にする研究を始める"
      ],
      "execution_count": null,
      "outputs": []
    },
    {
      "cell_type": "markdown",
      "metadata": {
        "id": "Fqo-w0MihMgK"
      },
      "source": [
        "# ここで for loop を使いたくないので、for loop を reduce にする研究を始める\n",
        "\n"
      ]
    },
    {
      "cell_type": "code",
      "metadata": {
        "id": "c2V_3W_nhNek",
        "colab": {
          "base_uri": "https://localhost:8080/"
        },
        "outputId": "2178531e-248b-4db8-cf19-316b77ad8791"
      },
      "source": [
        "# 0-9 の合計 45 を for loop を使わずに計算する\n",
        "%%script node\n",
        "const add = (a, b) => a + b;\n",
        "sum = Array.from(Array(10),(a,b) => b).reduce(add)\n",
        "\n",
        "console.log(sum) "
      ],
      "execution_count": null,
      "outputs": [
        {
          "output_type": "stream",
          "text": [
            "45\n"
          ],
          "name": "stdout"
        }
      ]
    },
    {
      "cell_type": "code",
      "metadata": {
        "colab": {
          "base_uri": "https://localhost:8080/"
        },
        "id": "AIK3JiCJNoZ8",
        "outputId": "116b6623-15a5-4d98-edff-b458d18bd09e"
      },
      "source": [
        "# 1-0 の合計 55 を for loop を使わずに計算する\n",
        "%%script node\n",
        "const add = (a, b) => a + b;\n",
        "sum = Array.from(Array(10),(a,b) => b+1).reduce(add)\n",
        "\n",
        "console.log(sum) "
      ],
      "execution_count": null,
      "outputs": [
        {
          "output_type": "stream",
          "text": [
            "55\n"
          ],
          "name": "stdout"
        }
      ]
    },
    {
      "cell_type": "code",
      "metadata": {
        "id": "tGOfKkthN1Xe",
        "colab": {
          "base_uri": "https://localhost:8080/"
        },
        "outputId": "fb7ca443-ad34-41ea-ae0f-58331632b785"
      },
      "source": [
        "# 説明\n",
        "# const add = (a, b) => a + b;\n",
        "# は function を使わずに関数を定義している\n",
        "%%script node\n",
        "const add = (a, b) => a + b;\n",
        "console.log(add(1,2));\n",
        "function add2 (a, b) {return a + b};\n",
        "console.log(add2(2,3));\n"
      ],
      "execution_count": null,
      "outputs": [
        {
          "output_type": "stream",
          "text": [
            "3\n",
            "5\n"
          ],
          "name": "stdout"
        }
      ]
    },
    {
      "cell_type": "code",
      "metadata": {
        "id": "PZA0kLi6Oobq",
        "colab": {
          "base_uri": "https://localhost:8080/"
        },
        "outputId": "d49d617a-f350-4fcf-ec78-762cca81157b"
      },
      "source": [
        "# 実験 複数行\n",
        "%%script node\n",
        "const addmult = (a, b) => {\n",
        "    sum = a+b;\n",
        "    product = a*b;\n",
        "    return sum * product\n",
        "};\n",
        "console.log(addmult(2,3)); // 30"
      ],
      "execution_count": null,
      "outputs": [
        {
          "output_type": "stream",
          "text": [
            "30\n"
          ],
          "name": "stdout"
        }
      ]
    },
    {
      "cell_type": "code",
      "metadata": {
        "colab": {
          "base_uri": "https://localhost:8080/"
        },
        "id": "h0okkMJWxOOJ",
        "outputId": "515c37fa-5312-4fc8-ffa2-727af257a514"
      },
      "source": [
        "# Array.from は Array を作る\n",
        "%%script node\n",
        "console.log(Array.from('foo'));\n",
        "console.log(Array.from([1, 2, 3, 4, 5, 6, 7, 8, 9, 10, 11], x => x + x));\n",
        "console.log(Array.from(Array(10), (a, b) => b));"
      ],
      "execution_count": null,
      "outputs": [
        {
          "output_type": "stream",
          "text": [
            "[ 'f', 'o', 'o' ]\n",
            "[\n",
            "   2,  4,  6,  8, 10,\n",
            "  12, 14, 16, 18, 20,\n",
            "  22\n",
            "]\n",
            "[\n",
            "  0, 1, 2, 3, 4,\n",
            "  5, 6, 7, 8, 9\n",
            "]\n"
          ],
          "name": "stdout"
        }
      ]
    },
    {
      "cell_type": "code",
      "metadata": {
        "id": "KY60aNCOPs56"
      },
      "source": [
        "# colab で Array を console.log で出力すると一行に出力されない\n",
        "# JSON.stringifyを使えばとりあえず一行になる\n",
        "%%script node\n",
        "console.log(Array.from(Array(10), (a, b) => b));\n",
        "console.log(JSON.stringify(Array.from(Array(10), (a, b) => b)));\n",
        "console.log(JSON.stringify(Array.from({length:10}, (a, b) => b)));\n",
        "console.log(Array.from({length: 10}));"
      ],
      "execution_count": null,
      "outputs": []
    },
    {
      "cell_type": "code",
      "metadata": {
        "colab": {
          "base_uri": "https://localhost:8080/"
        },
        "id": "JXtvCGFXuu01",
        "outputId": "4a7eb2da-122a-4642-b460-506a552f81fe"
      },
      "source": [
        "%%script node\n",
        "//reduce\n",
        "const  initModel = 0\n",
        "const update = ( model, msg) =>  model + msg\n",
        "const sum = msgs => msgs.reduce(update,  initModel)\n",
        "\n",
        "const items = [0, 1, 2]\n",
        "console.log(sum(items))  //  3"
      ],
      "execution_count": null,
      "outputs": [
        {
          "output_type": "stream",
          "text": [
            "3\n"
          ],
          "name": "stdout"
        }
      ]
    },
    {
      "cell_type": "code",
      "metadata": {
        "id": "DBGs9TsWS44Y"
      },
      "source": [
        "const range = (start, stop) => Array.from({ length: (stop - start) + 1}, (_, i) => start + i);"
      ],
      "execution_count": null,
      "outputs": []
    },
    {
      "cell_type": "markdown",
      "metadata": {
        "id": "xUuGDNC9OvAy"
      },
      "source": [
        "# JavaScriptでJSONからテーブルを動的に生成"
      ]
    },
    {
      "cell_type": "code",
      "metadata": {
        "id": "GWSqQwZeOyhN",
        "colab": {
          "base_uri": "https://localhost:8080/",
          "height": 134
        },
        "outputId": "c6aa33d6-110c-481b-90e6-3502831793f2"
      },
      "source": [
        "%%html\n",
        "\n",
        "<style>\n",
        "    div#paging {\n",
        "        text-align: center;\n",
        "        /* スクロールに対してページングボックスの位置を固定 */\n",
        "        position: fixed;\n",
        "        /* 位置を指定 */\n",
        "        bottom: 0;\n",
        "        right: 45%;\n",
        "    }\n",
        "\n",
        "    div#pagingbox {\n",
        "        background: #FFF;\n",
        "    }\n",
        "\n",
        "    th {\n",
        "        /* ヘッダ背景塗りつぶし */\n",
        "        background: #eee;\n",
        "    }\n",
        "\n",
        "    th,\n",
        "    td {\n",
        "        /* 枠線を1本線指定 */\n",
        "        border: solid 1px;\n",
        "        width: auto;\n",
        "    }\n",
        "\n",
        "    table {\n",
        "        /* 枠線を1本線指定 */\n",
        "        border: solid 1px;\n",
        "        border-collapse: collapse;\n",
        "        white-space: nowrap;\n",
        "    }\n",
        "\n",
        "    footer {\n",
        "        position: fixed;\n",
        "        width: 100%;\n",
        "        background-color: #C0C0C0;\n",
        "        padding: 15px 0;\n",
        "        bottom: 0;\n",
        "        /*下に固定*/\n",
        "    }\n",
        "</style>\n",
        "\n",
        "<!--テーブル生成位置-->\n",
        "<div id='maintable'></div>\n",
        "\n",
        "\n",
        "\n",
        "<!--ページングボタン配置-->\n",
        "<footer>\n",
        "    <div id=\"paging\">\n",
        "        <table>\n",
        "            <tr>\n",
        "                <tb><button id=\"prevbtn\" type=\"button\">\n",
        "                        << /button>\n",
        "                </tb>\n",
        "                <tb>\n",
        "                    <span id=\"currentpage\">currentpage</span>\n",
        "                    /\n",
        "                    <span id=\"lastpage\">lastpage</span>\n",
        "                </tb>\n",
        "                <tb><button id=\"nextbtn\" type=\"button\">></button></tb>\n",
        "            </tr>\n",
        "        </table>\n",
        "    </div>\n",
        "</footer>\n",
        "\n",
        "\n",
        "<script>\n",
        "    var json = [     //jsonサンプルデータ\n",
        "        {\n",
        "            \"順位\": 1, \"氏名\": \"王貞治\", \"本数\": 868\n",
        "        }\n",
        "        ,\n",
        "        {\n",
        "            \"順位\": 2, \"氏名\": \"野村克也\", \"本数\": 657\n",
        "        }\n",
        "        ,\n",
        "        {\n",
        "            \"順位\": 3, \"氏名\": \"門田博光\", \"本数\": 567\n",
        "        }\n",
        "        ,\n",
        "        {\n",
        "            \"順位\": 4, \"氏名\": \"山本浩二\", \"本数\": 536\n",
        "        }\n",
        "        ,\n",
        "        {\n",
        "            \"順位\": 5, \"氏名\": \"清原和博\", \"本数\": 525\n",
        "        }\n",
        "    ]\n",
        "\n",
        "    // table要素を生成\n",
        "    var table = document.createElement('table');\n",
        "\n",
        "    // ヘッダーを作成\n",
        "    var tr = document.createElement('tr');\n",
        "    for (key in json[0]) {\n",
        "        // th要素を生成\n",
        "        var th = document.createElement('th');\n",
        "        // th要素内にテキストを追加\n",
        "        th.textContent = key;\n",
        "        // th要素をtr要素の子要素に追加\n",
        "        tr.appendChild(th);\n",
        "    }\n",
        "    // tr要素をtable要素の子要素に追加\n",
        "    table.appendChild(tr);\n",
        "\n",
        "    // テーブル本体を作成\n",
        "    for (var i = 0; i < json.length; i++) {\n",
        "        // tr要素を生成\n",
        "        var tr = document.createElement('tr');\n",
        "        // th・td部分のループ\n",
        "        for (key in json[0]) {\n",
        "            // td要素を生成\n",
        "            var td = document.createElement('td');\n",
        "            // td要素内にテキストを追加\n",
        "            td.textContent = json[i][key];\n",
        "            // td要素をtr要素の子要素に追加\n",
        "            tr.appendChild(td);\n",
        "        }\n",
        "        // tr要素をtable要素の子要素に追加\n",
        "        table.appendChild(tr);\n",
        "    }\n",
        "    // 生成したtable要素を追加する\n",
        "    document.getElementById('maintable').appendChild(table);\n",
        "</script>\n",
        "\n",
        "\n",
        "<script>// ページング機能\n",
        "    jQuery(function ($) {\n",
        "        var page = 0;\n",
        "        var displayrows = 30;// １ページ当たり表示する行の数\n",
        "\n",
        "        function draw() {// ページの表示\n",
        "            $('#lastpage').html(Math.ceil(($('tr').size() - 1) / displayrows));\n",
        "            $('#currentpage').html(page + 1);\n",
        "            $('tr').hide();\n",
        "            $('tr:first,tr:gt(' + page * displayrows + '):lt(' + displayrows + ')').show();// 変数を使用する場合は' +  + 'を忘れずに\n",
        "        }\n",
        "        $('#prevbtn').click(function () {// １ページ後進\n",
        "            if (page > 0) {\n",
        "                page--;\n",
        "                draw();\n",
        "            }\n",
        "        });\n",
        "        $('#nextbtn').click(function () {// １ページ前進\n",
        "            if (page < ($('tr').size() - 1) / displayrows - 1) {\n",
        "                page++;\n",
        "                draw();\n",
        "            }\n",
        "        });\n",
        "        draw();//初回表示\n",
        "    });\n",
        "</script>"
      ],
      "execution_count": null,
      "outputs": [
        {
          "output_type": "display_data",
          "data": {
            "text/html": [
              "\n",
              "<style>\n",
              "    div#paging {\n",
              "        text-align: center;\n",
              "        /* スクロールに対してページングボックスの位置を固定 */\n",
              "        position: fixed;\n",
              "        /* 位置を指定 */\n",
              "        bottom: 0;\n",
              "        right: 45%;\n",
              "    }\n",
              "\n",
              "    div#pagingbox {\n",
              "        background: #FFF;\n",
              "    }\n",
              "\n",
              "    th {\n",
              "        /* ヘッダ背景塗りつぶし */\n",
              "        background: #eee;\n",
              "    }\n",
              "\n",
              "    th,\n",
              "    td {\n",
              "        /* 枠線を1本線指定 */\n",
              "        border: solid 1px;\n",
              "        width: auto;\n",
              "    }\n",
              "\n",
              "    table {\n",
              "        /* 枠線を1本線指定 */\n",
              "        border: solid 1px;\n",
              "        border-collapse: collapse;\n",
              "        white-space: nowrap;\n",
              "    }\n",
              "\n",
              "    footer {\n",
              "        position: fixed;\n",
              "        width: 100%;\n",
              "        background-color: #C0C0C0;\n",
              "        padding: 15px 0;\n",
              "        bottom: 0;\n",
              "        /*下に固定*/\n",
              "    }\n",
              "</style>\n",
              "\n",
              "<!--テーブル生成位置-->\n",
              "<div id='maintable'></div>\n",
              "\n",
              "\n",
              "\n",
              "<!--ページングボタン配置-->\n",
              "<footer>\n",
              "    <div id=\"paging\">\n",
              "        <table>\n",
              "            <tr>\n",
              "                <tb><button id=\"prevbtn\" type=\"button\">\n",
              "                        << /button>\n",
              "                </tb>\n",
              "                <tb>\n",
              "                    <span id=\"currentpage\">currentpage</span>\n",
              "                    /\n",
              "                    <span id=\"lastpage\">lastpage</span>\n",
              "                </tb>\n",
              "                <tb><button id=\"nextbtn\" type=\"button\">></button></tb>\n",
              "            </tr>\n",
              "        </table>\n",
              "    </div>\n",
              "</footer>\n",
              "\n",
              "\n",
              "<script>\n",
              "    var json = [     //jsonサンプルデータ\n",
              "        {\n",
              "            \"順位\": 1, \"氏名\": \"王貞治\", \"本数\": 868\n",
              "        }\n",
              "        ,\n",
              "        {\n",
              "            \"順位\": 2, \"氏名\": \"野村克也\", \"本数\": 657\n",
              "        }\n",
              "        ,\n",
              "        {\n",
              "            \"順位\": 3, \"氏名\": \"門田博光\", \"本数\": 567\n",
              "        }\n",
              "        ,\n",
              "        {\n",
              "            \"順位\": 4, \"氏名\": \"山本浩二\", \"本数\": 536\n",
              "        }\n",
              "        ,\n",
              "        {\n",
              "            \"順位\": 5, \"氏名\": \"清原和博\", \"本数\": 525\n",
              "        }\n",
              "    ]\n",
              "\n",
              "    // table要素を生成\n",
              "    var table = document.createElement('table');\n",
              "\n",
              "    // ヘッダーを作成\n",
              "    var tr = document.createElement('tr');\n",
              "    for (key in json[0]) {\n",
              "        // th要素を生成\n",
              "        var th = document.createElement('th');\n",
              "        // th要素内にテキストを追加\n",
              "        th.textContent = key;\n",
              "        // th要素をtr要素の子要素に追加\n",
              "        tr.appendChild(th);\n",
              "    }\n",
              "    // tr要素をtable要素の子要素に追加\n",
              "    table.appendChild(tr);\n",
              "\n",
              "    // テーブル本体を作成\n",
              "    for (var i = 0; i < json.length; i++) {\n",
              "        // tr要素を生成\n",
              "        var tr = document.createElement('tr');\n",
              "        // th・td部分のループ\n",
              "        for (key in json[0]) {\n",
              "            // td要素を生成\n",
              "            var td = document.createElement('td');\n",
              "            // td要素内にテキストを追加\n",
              "            td.textContent = json[i][key];\n",
              "            // td要素をtr要素の子要素に追加\n",
              "            tr.appendChild(td);\n",
              "        }\n",
              "        // tr要素をtable要素の子要素に追加\n",
              "        table.appendChild(tr);\n",
              "    }\n",
              "    // 生成したtable要素を追加する\n",
              "    document.getElementById('maintable').appendChild(table);\n",
              "</script>\n",
              "\n",
              "\n",
              "<script>// ページング機能\n",
              "    jQuery(function ($) {\n",
              "        var page = 0;\n",
              "        var displayrows = 30;// １ページ当たり表示する行の数\n",
              "\n",
              "        function draw() {// ページの表示\n",
              "            $('#lastpage').html(Math.ceil(($('tr').size() - 1) / displayrows));\n",
              "            $('#currentpage').html(page + 1);\n",
              "            $('tr').hide();\n",
              "            $('tr:first,tr:gt(' + page * displayrows + '):lt(' + displayrows + ')').show();// 変数を使用する場合は' +  + 'を忘れずに\n",
              "        }\n",
              "        $('#prevbtn').click(function () {// １ページ後進\n",
              "            if (page > 0) {\n",
              "                page--;\n",
              "                draw();\n",
              "            }\n",
              "        });\n",
              "        $('#nextbtn').click(function () {// １ページ前進\n",
              "            if (page < ($('tr').size() - 1) / displayrows - 1) {\n",
              "                page++;\n",
              "                draw();\n",
              "            }\n",
              "        });\n",
              "        draw();//初回表示\n",
              "    });\n",
              "</script>"
            ],
            "text/plain": [
              "<IPython.core.display.HTML object>"
            ]
          },
          "metadata": {
            "tags": []
          }
        }
      ]
    },
    {
      "cell_type": "code",
      "metadata": {
        "id": "eFf065QzAGsA",
        "colab": {
          "base_uri": "https://localhost:8080/",
          "height": 134
        },
        "outputId": "e32ba6bb-7a05-4892-f5cb-8a6335e8a282"
      },
      "source": [
        "# 実験 アラビア語 1. temp.ipynb の王貞治\n",
        "# css.ipynb の w3schools\n",
        "# headerはどうでもよい\n",
        "# アラビア語のフォントを大きくする。 フォントを自由に変える。\n",
        "# jsonを使う\n",
        "# 専用のサイトにするか => arabic table\n",
        "# arabic01は duolingo 専用にできるのではないか\n",
        "%%html\n",
        "\n",
        "<style>\n",
        "    div#paging {\n",
        "        text-align: center;\n",
        "        /* スクロールに対してページングボックスの位置を固定 */\n",
        "        position: fixed;\n",
        "        /* 位置を指定 */\n",
        "        bottom: 0;\n",
        "        right: 45%;\n",
        "    }\n",
        "\n",
        "    div#pagingbox {\n",
        "        background: #FFF;\n",
        "    }\n",
        "\n",
        "    th {\n",
        "        /* ヘッダ背景塗りつぶし */\n",
        "        background: #eee;\n",
        "    }\n",
        "\n",
        "    th,\n",
        "    td {\n",
        "        /* 枠線を1本線指定 */\n",
        "        border: solid 1px;\n",
        "        width: auto;\n",
        "    }\n",
        "\n",
        "    table {\n",
        "        /* 枠線を1本線指定 */\n",
        "        border: solid 1px;\n",
        "        border-collapse: collapse;\n",
        "        white-space: nowrap;\n",
        "    }\n",
        "</style>\n",
        "\n",
        "<!--テーブル生成位置-->\n",
        "<div id='maintable'></div>\n",
        "\n",
        "<script>\n",
        "    var json = [     //jsonサンプルデータ\n",
        "        {\n",
        "            \"順位\": 1, \"氏名\": \"王貞治\", \"本数\": 868\n",
        "        }\n",
        "        ,\n",
        "        {\n",
        "            \"順位\": 2, \"氏名\": \"野村克也\", \"本数\": 657\n",
        "        }\n",
        "        ,\n",
        "        {\n",
        "            \"順位\": 3, \"氏名\": \"門田博光\", \"本数\": 567\n",
        "        }\n",
        "        ,\n",
        "        {\n",
        "            \"順位\": 4, \"氏名\": \"山本浩二\", \"本数\": 536\n",
        "        }\n",
        "        ,\n",
        "        {\n",
        "            \"順位\": 5, \"氏名\": \"清原和博\", \"本数\": 525\n",
        "        }\n",
        "    ]\n",
        "\n",
        "    // table要素を生成\n",
        "    var table = document.createElement('table');\n",
        "\n",
        "    // ヘッダーを作成\n",
        "    var tr = document.createElement('tr');\n",
        "    for (key in json[0]) {\n",
        "        // th要素を生成\n",
        "        var th = document.createElement('th');\n",
        "        // th要素内にテキストを追加\n",
        "        th.textContent = key;\n",
        "        // th要素をtr要素の子要素に追加\n",
        "        tr.appendChild(th);\n",
        "    }\n",
        "    // tr要素をtable要素の子要素に追加\n",
        "    table.appendChild(tr);\n",
        "\n",
        "    // テーブル本体を作成\n",
        "    for (var i = 0; i < json.length; i++) {\n",
        "        // tr要素を生成\n",
        "        var tr = document.createElement('tr');\n",
        "        // th・td部分のループ\n",
        "        for (key in json[0]) {\n",
        "            // td要素を生成\n",
        "            var td = document.createElement('td');\n",
        "            // td要素内にテキストを追加\n",
        "            td.textContent = json[i][key];\n",
        "            // td要素をtr要素の子要素に追加\n",
        "            tr.appendChild(td);\n",
        "        }\n",
        "        // tr要素をtable要素の子要素に追加\n",
        "        table.appendChild(tr);\n",
        "    }\n",
        "    // 生成したtable要素を追加する\n",
        "    document.getElementById('maintable').appendChild(table);\n",
        "    \n",
        "</script>"
      ],
      "execution_count": null,
      "outputs": [
        {
          "output_type": "display_data",
          "data": {
            "text/html": [
              "\n",
              "<style>\n",
              "    div#paging {\n",
              "        text-align: center;\n",
              "        /* スクロールに対してページングボックスの位置を固定 */\n",
              "        position: fixed;\n",
              "        /* 位置を指定 */\n",
              "        bottom: 0;\n",
              "        right: 45%;\n",
              "    }\n",
              "\n",
              "    div#pagingbox {\n",
              "        background: #FFF;\n",
              "    }\n",
              "\n",
              "    th {\n",
              "        /* ヘッダ背景塗りつぶし */\n",
              "        background: #eee;\n",
              "    }\n",
              "\n",
              "    th,\n",
              "    td {\n",
              "        /* 枠線を1本線指定 */\n",
              "        border: solid 1px;\n",
              "        width: auto;\n",
              "    }\n",
              "\n",
              "    table {\n",
              "        /* 枠線を1本線指定 */\n",
              "        border: solid 1px;\n",
              "        border-collapse: collapse;\n",
              "        white-space: nowrap;\n",
              "    }\n",
              "</style>\n",
              "\n",
              "<!--テーブル生成位置-->\n",
              "<div id='maintable'></div>\n",
              "\n",
              "<script>\n",
              "    var json = [     //jsonサンプルデータ\n",
              "        {\n",
              "            \"順位\": 1, \"氏名\": \"王貞治\", \"本数\": 868\n",
              "        }\n",
              "        ,\n",
              "        {\n",
              "            \"順位\": 2, \"氏名\": \"野村克也\", \"本数\": 657\n",
              "        }\n",
              "        ,\n",
              "        {\n",
              "            \"順位\": 3, \"氏名\": \"門田博光\", \"本数\": 567\n",
              "        }\n",
              "        ,\n",
              "        {\n",
              "            \"順位\": 4, \"氏名\": \"山本浩二\", \"本数\": 536\n",
              "        }\n",
              "        ,\n",
              "        {\n",
              "            \"順位\": 5, \"氏名\": \"清原和博\", \"本数\": 525\n",
              "        }\n",
              "    ]\n",
              "\n",
              "    // table要素を生成\n",
              "    var table = document.createElement('table');\n",
              "\n",
              "    // ヘッダーを作成\n",
              "    var tr = document.createElement('tr');\n",
              "    for (key in json[0]) {\n",
              "        // th要素を生成\n",
              "        var th = document.createElement('th');\n",
              "        // th要素内にテキストを追加\n",
              "        th.textContent = key;\n",
              "        // th要素をtr要素の子要素に追加\n",
              "        tr.appendChild(th);\n",
              "    }\n",
              "    // tr要素をtable要素の子要素に追加\n",
              "    table.appendChild(tr);\n",
              "\n",
              "    // テーブル本体を作成\n",
              "    for (var i = 0; i < json.length; i++) {\n",
              "        // tr要素を生成\n",
              "        var tr = document.createElement('tr');\n",
              "        // th・td部分のループ\n",
              "        for (key in json[0]) {\n",
              "            // td要素を生成\n",
              "            var td = document.createElement('td');\n",
              "            // td要素内にテキストを追加\n",
              "            td.textContent = json[i][key];\n",
              "            // td要素をtr要素の子要素に追加\n",
              "            tr.appendChild(td);\n",
              "        }\n",
              "        // tr要素をtable要素の子要素に追加\n",
              "        table.appendChild(tr);\n",
              "    }\n",
              "    // 生成したtable要素を追加する\n",
              "    document.getElementById('maintable').appendChild(table);\n",
              "    \n",
              "</script>"
            ],
            "text/plain": [
              "<IPython.core.display.HTML object>"
            ]
          },
          "metadata": {
            "tags": []
          }
        }
      ]
    },
    {
      "cell_type": "markdown",
      "metadata": {
        "id": "hy9-SJ4kWBEJ"
      },
      "source": [
        "# いまここ\n",
        "\n",
        "https://qiita.com/ttatsf/items/846ff861bd45fca0832c"
      ]
    },
    {
      "cell_type": "code",
      "metadata": {
        "id": "zGkmxns9dA5q"
      },
      "source": [
        "# you may be able to define a subclass of sympy.Symbol that implements subs() properly for summations\n",
        "# 添字をつけたいので subscription を検索してて関係ないのがひっかかったけど面白いのでとっておく\n",
        "import sympy\n",
        "a_seq = [-1, 3, 23, 8]\n",
        "n, r = sympy.symbols('n, r')\n",
        "a_n = sympy.Function('a')(n)\n",
        "terms = 4\n",
        "short_expr = sympy.Sum(a_n * r**n, (n, 0, terms - 1))\n",
        "coeffed_short_expr = short_expr.doit().subs(\n",
        "    (a_n.subs(n, i), a_seq[i]) for i in range(terms)) # 8*r**3 + 23*r**2 + 3*r - 1\n",
        "func_short_expr = sympy.lambdify(r, coeffed_short_expr, 'numpy')\n",
        "display(short_expr)\n",
        "display(coeffed_short_expr)\n",
        "func_short_expr(1)"
      ],
      "execution_count": null,
      "outputs": []
    },
    {
      "cell_type": "markdown",
      "metadata": {
        "id": "UUJEjhPtdOrx"
      },
      "source": [
        "# いまここ"
      ]
    },
    {
      "cell_type": "markdown",
      "metadata": {
        "id": "-WLXwalmiCFs"
      },
      "source": [
        "$$\n",
        "\\require{AMScd}\n",
        "\\begin{CD}\n",
        "    A @>{f}>> B \\\\\n",
        "@V{g}VV    @VVV \\\\\n",
        "    C   @>>>  D\n",
        "\\end{CD}\n",
        "$$"
      ]
    },
    {
      "cell_type": "markdown",
      "metadata": {
        "id": "F0A_3YRViGXI"
      },
      "source": [
        "$$\n",
        "\\begin{array}{ccccccccc}\n",
        "0 & \\xrightarrow{i} & A & \\xrightarrow{f} & B & \\xrightarrow{q} & C & \\xrightarrow{d} & 0\\\\\n",
        "\\downarrow & \\searrow & \\downarrow & \\nearrow & \\downarrow & \\searrow & \\downarrow & \\nearrow & \\downarrow\\\\\n",
        "0 & \\xrightarrow{j} & D & \\xrightarrow{g} & E & \\xrightarrow{r} & F & \\xrightarrow{e} & 0\n",
        "\\end{array}\n",
        "$$"
      ]
    },
    {
      "cell_type": "markdown",
      "metadata": {
        "id": "tbIqfsXpkVE8"
      },
      "source": [
        "$$\n",
        "\\begin{array}{}\n",
        "1 & \\xrightarrow{i} & A \\\\\n",
        "\\downarrow & \\searrow{i} & \\downarrow \\\\\n",
        "0 & \\xrightarrow{j} & D & \\xrightarrow{g} & E \n",
        "\\end{array}\n",
        "$$"
      ]
    },
    {
      "cell_type": "markdown",
      "metadata": {
        "id": "_EThwyrW9FZR"
      },
      "source": [
        "```\n",
        "\\begin{array}{ccccccccc}\n",
        "0 & \\xrightarrow{i} & A & \\xrightarrow{f} & B & \\xrightarrow{q} & C & \\xrightarrow{d} & 0\\\\\n",
        "\n",
        "\\downarrow & \\searrow & \\downarrow & \\nearrow & \\downarrow & \\searrow & \\downarrow & \\nearrow & \\downarrow\\\\\n",
        "\n",
        "0 & \\xrightarrow{j} & D & \\xrightarrow{g} & E & \\xrightarrow{r} & F & \\xrightarrow{e} & 0\n",
        "\\end{array}\n",
        "```"
      ]
    },
    {
      "cell_type": "markdown",
      "metadata": {
        "id": "H9aPjDxK86_b"
      },
      "source": [
        "$$\n",
        "\\begin{array}{ccccccccc}\n",
        "0 & \\xrightarrow{i} & A & \\xrightarrow{f} & B & \\xrightarrow{q} & C & \\xrightarrow{d} & 0 \\\\\n",
        "\\downarrow & \\searrow & \\downarrow & \\nearrow & \\downarrow & \\searrow & \\downarrow & \\nearrow & \\downarrow \\\\\n",
        "0 & \\xrightarrow{j} & D & \\xrightarrow{g} & E & \\xrightarrow{r} & F & \\xrightarrow{e} & 0\n",
        "\\end{array} \n",
        "$$"
      ]
    },
    {
      "cell_type": "markdown",
      "metadata": {
        "id": "a7GCvpqc86MI"
      },
      "source": [
        "**メモ**\n",
        "\n",
        "github と colab では begin{array} の書き方の厳密さというかルールの適用に差があるが、きっちり書けばどちらも通る。\n",
        "\n",
        "colab では \\require{AMScd} は通るが、github ではエラーになってそれを含む latex は平文になる。\n",
        "\n",
        "colab では array の中に空行があったり、最終行に \\\\ がついていると対応せず rendering せず平文になるが、githubでは処理する。\n",
        "\n",
        "逆に array に {ccc} がついていなかったり、{ccc} の数より多く & が振られていると colab ではそのまま適当に rendering してくれるが\n",
        "github では rendering しない。\n"
      ]
    },
    {
      "cell_type": "code",
      "metadata": {
        "id": "cNh7cZLO_lk9"
      },
      "source": [
        ""
      ],
      "execution_count": null,
      "outputs": []
    }
  ]
}