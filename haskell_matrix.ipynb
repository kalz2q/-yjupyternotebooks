{
  "nbformat": 4,
  "nbformat_minor": 0,
  "metadata": {
    "colab": {
      "name": "haskell_matrix.ipynb",
      "provenance": [],
      "authorship_tag": "ABX9TyO0w7KUE/wd5KkUNLk3kku9",
      "include_colab_link": true
    },
    "kernelspec": {
      "name": "python3",
      "display_name": "Python 3"
    }
  },
  "cells": [
    {
      "cell_type": "markdown",
      "metadata": {
        "id": "view-in-github",
        "colab_type": "text"
      },
      "source": [
        "<a href=\"https://colab.research.google.com/github/kalz2q/mycolabnotebooks/blob/master/haskell_matrix.ipynb\" target=\"_parent\"><img src=\"https://colab.research.google.com/assets/colab-badge.svg\" alt=\"Open In Colab\"/></a>"
      ]
    },
    {
      "cell_type": "markdown",
      "metadata": {
        "id": "fLaf_uX-kTtV"
      },
      "source": [
        "# メモ\r\n",
        "\r\n",
        "行列 haskell  \r\n",
        "で検索\r\n",
        "\r\n",
        "1. 行列計算用のHaskellライブラリ hmatrix を入れる  \r\n",
        "https://mano.xyz/391/\r\n",
        "1. hmatrix-0.20.1: Numeric Linear Algebra\r\n",
        "1. haskell プログラム集  \r\n",
        "https://userweb.mnet.ne.jp/tnomura/examples/matrix.html\r\n",
        "1. Haskellで数値計算 線形代数編  \r\n",
        "https://lqtmirage.hatenablog.com/entry/2018/07/12/232852\r\n",
        "1. Haskellの行列計算 - 保存と読み出し、複素行列について  \r\n",
        "https://qiita.com/tkch_pe/items/d6cfbc333d6c60751184\r\n",
        "1. Haskell で行列の計算をしてみる  \r\n",
        "http://tsumuji.cocolog-nifty.com/tsumuji/2011/02/haskell-0b4a.html"
      ]
    },
    {
      "cell_type": "code",
      "metadata": {
        "id": "WecUWnw6kQjM"
      },
      "source": [
        "%%capture\r\n",
        "!apt install haskell-platform\r\n",
        "!cabal update\r\n",
        "!cabal install hmatrix"
      ],
      "execution_count": 14,
      "outputs": []
    },
    {
      "cell_type": "code",
      "metadata": {
        "id": "iyFnLL26pFJ6"
      },
      "source": [
        "!ghc -e $'import Numeric.LinearAlgebra'"
      ],
      "execution_count": 15,
      "outputs": []
    }
  ]
}