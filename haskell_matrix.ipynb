{
  "nbformat": 4,
  "nbformat_minor": 0,
  "metadata": {
    "colab": {
      "name": "haskell_matrix.ipynb",
      "provenance": [],
      "authorship_tag": "ABX9TyOx2Xiw0lUKKxLxa1wkHgWg",
      "include_colab_link": true
    },
    "kernelspec": {
      "name": "python3",
      "display_name": "Python 3"
    }
  },
  "cells": [
    {
      "cell_type": "markdown",
      "metadata": {
        "id": "view-in-github",
        "colab_type": "text"
      },
      "source": [
        "<a href=\"https://colab.research.google.com/github/kalz2q/mycolabnotebooks/blob/master/haskell_matrix.ipynb\" target=\"_parent\"><img src=\"https://colab.research.google.com/assets/colab-badge.svg\" alt=\"Open In Colab\"/></a>"
      ]
    },
    {
      "cell_type": "markdown",
      "metadata": {
        "id": "fLaf_uX-kTtV"
      },
      "source": [
        "# メモ\r\n",
        "\r\n",
        "行列 haskell  \r\n",
        "で検索\r\n",
        "\r\n",
        "1. humatrix tutorial old version   \r\n",
        "http://dis.um.es/profesores/alberto/material/hmatrix.pdf\r\n",
        "1, hmatrixの使い方とニューラルネットワークの実装例  \r\n",
        "https://qiita.com/lotz/items/2c932b45f78f6fc70e9c\r\n",
        "1. Haskellの線形代数用ライブラリで多変量ガウス分布を計算した際のメモ  \r\n",
        "https://mmitou.hatenadiary.org/entry/20121021/1350798725\r\n",
        "1. ENTER THE MATRIX, HASKELL STYLE  \r\n",
        "https://www.tweag.io/blog/2017-08-31-hmatrix/\r\n",
        "1. Dimensions and Haskell: Introduction\r\n",
        "https://serokell.io/blog/dimensions-and-haskell-introduction\r\n",
        "1. 行列計算用のHaskellライブラリ hmatrix を入れる  \r\n",
        "https://mano.xyz/391/\r\n",
        "1. hmatrix-0.20.1: Numeric Linear Algebra\r\n",
        "1. haskell プログラム集  \r\n",
        "https://userweb.mnet.ne.jp/tnomura/examples/matrix.html\r\n",
        "1. Haskellで数値計算 線形代数編  \r\n",
        "https://lqtmirage.hatenablog.com/entry/2018/07/12/232852\r\n",
        "1. Haskellの行列計算 - 保存と読み出し、複素行列について  \r\n",
        "https://qiita.com/tkch_pe/items/d6cfbc333d6c60751184\r\n",
        "1. Haskell で行列の計算をしてみる  \r\n",
        "http://tsumuji.cocolog-nifty.com/tsumuji/2011/02/haskell-0b4a.html"
      ]
    },
    {
      "cell_type": "code",
      "metadata": {
        "id": "WecUWnw6kQjM"
      },
      "source": [
        "%%capture\r\n",
        "!apt install haskell-platform\r\n",
        "!cabal update\r\n",
        "!cabal install hmatrix"
      ],
      "execution_count": null,
      "outputs": []
    },
    {
      "cell_type": "code",
      "metadata": {
        "id": "1EiwqjZMVQZa"
      },
      "source": [
        "# colab の環境では上のコマンドでオッケーだが\r\n",
        "# 私のローカルの環境ではHaskellライブラリの他に BLAS/LAPCKというものが必要だった\r\n",
        "# sudo apt-get install libgsl0-dev libblas-dev liblapack-dev libatlas-base-dev"
      ],
      "execution_count": null,
      "outputs": []
    },
    {
      "cell_type": "code",
      "metadata": {
        "id": "iyFnLL26pFJ6"
      },
      "source": [
        "!ghc -e $'import Numeric.LinearAlgebra'"
      ],
      "execution_count": null,
      "outputs": []
    },
    {
      "cell_type": "code",
      "metadata": {
        "id": "-5mCxHuwVudn"
      },
      "source": [
        "# 上のコードでエラーが出なければ hmatrix がインストールされている\r\n",
        "# haskell の線形代数パッケージ hmatrix は Fortran 時代から有名な\r\n",
        "# BLAS (Basic Linear Algebra Subprograms)\r\n",
        "# LAPACK — Linear Algebra PACKage\r\n",
        "# を使っている"
      ],
      "execution_count": null,
      "outputs": []
    },
    {
      "cell_type": "code",
      "metadata": {
        "id": "Hu-lV3WhdGaD",
        "outputId": "bfa5d405-fa96-40c4-d722-e7733c679f31",
        "colab": {
          "base_uri": "https://localhost:8080/"
        }
      },
      "source": [
        "# hmatrix の核となるのは次の二つのデータタイプである\r\n",
        "# data Vector e\r\n",
        "# data Matrix e\r\n",
        "\r\n",
        "%%writefile vector01.hs\r\n",
        "import Numeric.LinearAlgebra\r\n",
        "main = do\r\n",
        "    print (vector [1,2,3] * vector [3,0,-2])\r\n",
        "  \r\n"
      ],
      "execution_count": 73,
      "outputs": [
        {
          "output_type": "stream",
          "text": [
            "Overwriting vector01.hs\n"
          ],
          "name": "stdout"
        }
      ]
    },
    {
      "cell_type": "code",
      "metadata": {
        "id": "esJekUrOjMR7",
        "outputId": "d27f9b45-0355-4bf1-fc48-c75b9d31af08",
        "colab": {
          "base_uri": "https://localhost:8080/"
        }
      },
      "source": [
        "!runghc vector01.hs"
      ],
      "execution_count": 74,
      "outputs": [
        {
          "output_type": "stream",
          "text": [
            "[3.0,0.0,-6.0]\n"
          ],
          "name": "stdout"
        }
      ]
    },
    {
      "cell_type": "code",
      "metadata": {
        "id": "mu1jFc9EgVsc"
      },
      "source": [
        "# 見かけは list だが、型は vector である\r\n",
        "# hmatrix> :t vector [1,2,3] * vector [3,0,-2]\r\n",
        "# vector [1,2,3] * vector [3,0,-2] :: Vector R\r\n",
        "#\r\n",
        "# 要素の型の R は hmatrix の中の数値の型の synonym である\r\n",
        "# type R = Double\r\n",
        "# type C = Complex Double\r\n",
        "# type I = CInt\r\n",
        "# type Z = Int64\r\n"
      ],
      "execution_count": null,
      "outputs": []
    },
    {
      "cell_type": "code",
      "metadata": {
        "id": "3ZwHvTvvlefn",
        "outputId": "88fa70ea-c296-423c-a7f1-84c1eb667fb5",
        "colab": {
          "base_uri": "https://localhost:8080/"
        }
      },
      "source": [
        "# 以上が vector だが、行列 matrix でも同様に\r\n",
        "%%writefile matrix01.hs\r\n",
        "import Numeric.LinearAlgebra\r\n",
        "main = do\r\n",
        "    print (matrix 3 [1..9] * ident 3)\r\n"
      ],
      "execution_count": 75,
      "outputs": [
        {
          "output_type": "stream",
          "text": [
            "Writing matrix01.hs\n"
          ],
          "name": "stdout"
        }
      ]
    },
    {
      "cell_type": "code",
      "metadata": {
        "id": "XdIcW4YJl4UL",
        "outputId": "41a86bf0-dfe1-416f-d565-22657727772c",
        "colab": {
          "base_uri": "https://localhost:8080/"
        }
      },
      "source": [
        "!runghc matrix01.hs"
      ],
      "execution_count": 76,
      "outputs": [
        {
          "output_type": "stream",
          "text": [
            "(3><3)\n",
            " [ 1.0, 0.0, 0.0\n",
            " , 0.0, 5.0, 0.0\n",
            " , 0.0, 0.0, 9.0 ]\n"
          ],
          "name": "stdout"
        }
      ]
    },
    {
      "cell_type": "code",
      "metadata": {
        "id": "O75H2kcQl2kE"
      },
      "source": [
        "#\r\n",
        "# hmatrix> :t matrix 3 [1..9] * ident 3\r\n",
        "# matrix 3 [1..9] * ident 3 :: Matrix R\r\n",
        "#\r\n",
        "# matrix 3 は後続するリストを 3列の行列にする\r\n",
        "# ident は 3 x 3 の単位行列を作る\r\n"
      ],
      "execution_count": null,
      "outputs": []
    },
    {
      "cell_type": "code",
      "metadata": {
        "id": "nKIxp7u1m00A",
        "outputId": "ee417d62-c01c-40b3-c313-0cb24a5f6c64",
        "colab": {
          "base_uri": "https://localhost:8080/"
        }
      },
      "source": [
        "%%writefile matrix02.hs\r\n",
        "import Numeric.LinearAlgebra\r\n",
        "main = do\r\n",
        "    print (matrix 3 [1..15] )"
      ],
      "execution_count": 89,
      "outputs": [
        {
          "output_type": "stream",
          "text": [
            "Overwriting matrix02.hs\n"
          ],
          "name": "stdout"
        }
      ]
    },
    {
      "cell_type": "code",
      "metadata": {
        "id": "QBfamcv1nTkP",
        "outputId": "51bfb668-f273-4b31-fcf2-7977a1bea73c",
        "colab": {
          "base_uri": "https://localhost:8080/"
        }
      },
      "source": [
        "!runghc matrix02.hs"
      ],
      "execution_count": 90,
      "outputs": [
        {
          "output_type": "stream",
          "text": [
            "(5><3)\n",
            " [  1.0,  2.0,  3.0\n",
            " ,  4.0,  5.0,  6.0\n",
            " ,  7.0,  8.0,  9.0\n",
            " , 10.0, 11.0, 12.0\n",
            " , 13.0, 14.0, 15.0 ]\n"
          ],
          "name": "stdout"
        }
      ]
    },
    {
      "cell_type": "code",
      "metadata": {
        "id": "NZIYc8OLnlwG",
        "outputId": "964c4041-abe6-491c-e5b7-95a8858a1853",
        "colab": {
          "base_uri": "https://localhost:8080/"
        }
      },
      "source": [
        "%%writefile matrix03.hs\r\n",
        "import Numeric.LinearAlgebra\r\n",
        "main = do\r\n",
        "    print ((ident 3 ):: Matrix I)"
      ],
      "execution_count": 103,
      "outputs": [
        {
          "output_type": "stream",
          "text": [
            "Overwriting matrix03.hs\n"
          ],
          "name": "stdout"
        }
      ]
    },
    {
      "cell_type": "code",
      "metadata": {
        "id": "29ebxItRno4u",
        "outputId": "a87ac53c-3fa6-4c71-e233-49f4c72a8b1d",
        "colab": {
          "base_uri": "https://localhost:8080/"
        }
      },
      "source": [
        "!runghc matrix03.hs"
      ],
      "execution_count": 104,
      "outputs": [
        {
          "output_type": "stream",
          "text": [
            "(3><3)\n",
            " [ 1, 0, 0\n",
            " , 0, 1, 0\n",
            " , 0, 0, 1 ]\n"
          ],
          "name": "stdout"
        }
      ]
    },
    {
      "cell_type": "code",
      "metadata": {
        "id": "Env-FcIIm0Jz"
      },
      "source": [
        "# GENERALISED MATRICES\r\n",
        "\r\n",
        "In addition to the dense Vector and Matrix types, hmatrix also\r\n",
        " provides a ”general” matrix type GMatrix that provides optimised\r\n",
        " representations for dense, sparse, diagonal, banded, and constant\r\n",
        " matrices of Doubles . For example, the following sparse\r\n",
        " 2x2000 matrix with two non-zero elements is represented as follows\r\n",
        " in the compressed sparse row (CSR) format:\r\n",
        "\r\n",
        "hmatrix> mkSparse [((0,999),1.0),((1,1999),2.0)]\r\n",
        "SparseR\r\n",
        "{ gmCSR = CSR\r\n",
        "          { csrVals = [1.0,2.0]\r\n",
        "          , csrCols = [1000,2000]\r\n",
        "          , csrRows = [1,2,3]\r\n",
        "          , csrNRows = 2\r\n",
        "          , csrNCols = 2000\r\n",
        "          }\r\n",
        ", nRows = 2\r\n",
        ", nCols = 2000\r\n",
        "}\r\n",
        "The package includes an implementation of the conjugate gradient\r\n",
        " method for sparse linear systems.\r\n",
        "\r\n",
        "FUNCTIONALITY\r\n",
        "In addition to the basic operations on vectors and matrices,\r\n",
        " the core hmatrix package provides solvers for linear systems,\r\n",
        " computes inverses, determinants, singular value decomposition,\r\n",
        " eigenvalues & eigenvectors, QR, Cholesky & LU factorisation,\r\n",
        " and some other common matrix operations.\r\n",
        "\r\n",
        "On top of that hmatrix-gsl covers integration, differentiation,\r\n",
        " FFT, solving general polynomial equations, minimization of a\r\n",
        " multidimensional functions, multidimensional root finding, ordinary\r\n",
        " differential equations, nonlinear least-squares fitting, and\r\n",
        " interpolation routines. Moreover, hmatrix-gsl-stats includes\r\n",
        " random distribution functions, linear regression functions,\r\n",
        " histograms, permutations, and common statistics functions (mean,\r\n",
        " variance, standard deviation, and so on).\r\n",
        "\r\n",
        "Finally, hmatrix-special provides Airy, Bessel, Clausen, Coulomb\r\n",
        " wave, coupling coefficient, Dawson, Debye, dilogarithm, elliptic\r\n",
        " integral, Jacobian elliptic, Fermi-Dirac integral, Gegenbauer,\r\n",
        " hypergeometric, Laguerre, Lambert W, synchrotron, digamma, trigamma,\r\n",
        " and transport, Riemann zeta functions as well as Gamma distributions,\r\n",
        " Legendre polynomials, and common trigonometric and exponential\r\n",
        " functions.\r\n",
        "\r\n",
        "AN EXAMPLE: MINIMA OF ARBITRARY MULTIDIMENSIONAL FUNCTIONS\r\n",
        "For example, to find the minimum of a function\r\n"
      ],
      "execution_count": null,
      "outputs": []
    },
    {
      "cell_type": "code",
      "metadata": {
        "id": "9ZvYU20NgQIV"
      },
      "source": [
        "\r\n",
        "f [x,y] = 10*(x-1)^2 + 20*(y-2)^2 + 30\r\n",
        "without providing a gradient, we can define\r\n",
        "\r\n",
        "minimizeS :: ([Double] -> Double) -> [Double] -> ([Double], Matrix\r\n",
        " Double)\r\n",
        "minimizeS f xi\r\n",
        "  = minimize NMSimplex2 1E-2 100 (replicate (length xi) 1) f\r\n",
        " xi\r\n",
        "using the minimize function of hmatrix-gsl’s Numeric.GSL.Minimization.\r\n",
        " It provides us with the minimum as well as the path taken by\r\n",
        " the algorithm to reach that solution. Using gnuplot by way of\r\n",
        " hmatrix’ undocumented Graphics.Plot interface, to visualise\r\n",
        " the path, we get\r\n",
        "\r\n",
        "Minimise Plot\r\n",
        "\r\n",
        "For the full example code, see minimize.hs.\r\n",
        "\r\n",
        "TYPE SAFETY\r\n",
        "A common mistake in array programming is to apply an operation\r\n",
        " to one or more matrices whose dimensions violate a precondition\r\n",
        " of the operation. For example, for matrix multiplication to\r\n",
        " be well-defined for two matrices a and b, we require a to be\r\n",
        " ixj if b is jxk; i.e., the number of a’s columns needs to coincide\r\n",
        " with the number of b’s rows. Like most array libraries in Haskell,\r\n",
        " we cannot express such a constraint in hmatrix’ standard interface,\r\n",
        " where the type of a matrix is independent of the size of its\r\n",
        " dimensions.\r\n",
        "\r\n",
        "The static interface of matrix provides some of hmatrix’ functionality\r\n",
        " with an alternative API, based on GHC’s type literals extension,\r\n",
        " which allows matrix size constraints to be expressed. We will\r\n",
        " discuss this interface in more detail in a future blog post.\r\n",
        "CONTEXT\r\n",
        "If you are coming from Python, then hmatrix will be the closest\r\n",
        " to numpy and scipy that you will find in the Haskell ecosystem.\r\n",
        " The packages in both languages are realised by wrapping highly\r\n",
        " optimised standard routines written in low-level languages \r\n",
        "(such as BLAS and LAPACK) as libraries. However, the functionality\r\n",
        " they provide is not directly comparable as, despite a strong\r\n",
        " overlap, both provide functionality that is absent in the other.\r\n",
        " While numpy and scipy shine with maturity and very widespread\r\n",
        " use, Haskell offers increased safety and the potential to provide\r\n",
        " additional high-performance functionality and fusion of computational\r\n",
        " kernels in Haskell itself (i.e., without the need to drop down\r\n",
        " to C or C++) by combining hmatrix with some of the array libraries\r\n",
        " that we will discuss in the forthcoming posts in this series.\r\n"
      ],
      "execution_count": null,
      "outputs": []
    }
  ]
}