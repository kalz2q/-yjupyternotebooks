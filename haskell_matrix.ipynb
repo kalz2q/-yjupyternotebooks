{
  "nbformat": 4,
  "nbformat_minor": 0,
  "metadata": {
    "colab": {
      "name": "haskell_matrix.ipynb",
      "provenance": [],
      "authorship_tag": "ABX9TyOOoi5wly5kCmfjXSaqVuCp",
      "include_colab_link": true
    },
    "kernelspec": {
      "name": "python3",
      "display_name": "Python 3"
    }
  },
  "cells": [
    {
      "cell_type": "markdown",
      "metadata": {
        "id": "view-in-github",
        "colab_type": "text"
      },
      "source": [
        "<a href=\"https://colab.research.google.com/github/kalz2q/mycolabnotebooks/blob/master/haskell_matrix.ipynb\" target=\"_parent\"><img src=\"https://colab.research.google.com/assets/colab-badge.svg\" alt=\"Open In Colab\"/></a>"
      ]
    },
    {
      "cell_type": "markdown",
      "metadata": {
        "id": "fLaf_uX-kTtV"
      },
      "source": [
        "# メモ\r\n",
        "\r\n",
        "行列 haskell  \r\n",
        "で検索\r\n",
        "\r\n",
        "1. Haskell で行列の計算をしてみる  \r\n",
        "http://tsumuji.cocolog-nifty.com/tsumuji/2011/02/haskell-0b4a.html\r\n",
        "1. haskell プログラム集  \r\n",
        "https://userweb.mnet.ne.jp/tnomura/examples/matrix.html\r\n",
        "1. Haskellで数値計算 線形代数編  \r\n",
        "https://lqtmirage.hatenablog.com/entry/2018/07/12/232852\r\n",
        "1. Haskellの行列計算 - 保存と読み出し、複素行列について  \r\n",
        "https://qiita.com/tkch_pe/items/d6cfbc333d6c60751184"
      ]
    },
    {
      "cell_type": "code",
      "metadata": {
        "id": "WecUWnw6kQjM"
      },
      "source": [
        ""
      ],
      "execution_count": null,
      "outputs": []
    }
  ]
}