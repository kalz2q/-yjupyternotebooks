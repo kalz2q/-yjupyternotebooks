{
  "nbformat": 4,
  "nbformat_minor": 0,
  "metadata": {
    "colab": {
      "name": "haskell_matrix.ipynb",
      "provenance": [],
      "toc_visible": true,
      "authorship_tag": "ABX9TyN2OvAKFygKFF1V1+a7k5uv",
      "include_colab_link": true
    },
    "kernelspec": {
      "name": "python3",
      "display_name": "Python 3"
    }
  },
  "cells": [
    {
      "cell_type": "markdown",
      "metadata": {
        "id": "view-in-github",
        "colab_type": "text"
      },
      "source": [
        "<a href=\"https://colab.research.google.com/github/kalz2q/mycolabnotebooks/blob/master/haskell_matrix.ipynb\" target=\"_parent\"><img src=\"https://colab.research.google.com/assets/colab-badge.svg\" alt=\"Open In Colab\"/></a>"
      ]
    },
    {
      "cell_type": "markdown",
      "metadata": {
        "id": "fLaf_uX-kTtV"
      },
      "source": [
        "# メモ\n",
        "\n",
        "Haskell で 行列 matrix を学ぶ。"
      ]
    },
    {
      "cell_type": "markdown",
      "metadata": {
        "id": "M2RJBQ37g8iG"
      },
      "source": [
        "\n",
        "行列 haskell  \n",
        "で検索\n",
        "\n",
        "1. ARRAY PROGRAMMING IN HASKELL  \n",
        "https://www.tweag.io/blog/2017-08-09-array-programming-in-haskell/  \n",
        "1. humatrix tutorial old version   \n",
        "http://dis.um.es/profesores/alberto/material/hmatrix.pdf  \n",
        "1. hmatrixの使い方とニューラルネットワークの実装例  \n",
        "https://qiita.com/lotz/items/2c932b45f78f6fc70e9c\n",
        "1. Haskellの線形代数用ライブラリで多変量ガウス分布を計算した際のメモ  \n",
        "https://mmitou.hatenadiary.org/entry/20121021/1350798725\n",
        "1. ENTER THE MATRIX, HASKELL STYLE  \n",
        "https://www.tweag.io/blog/2017-08-31-hmatrix/\n",
        "1. Dimensions and Haskell: Introduction\n",
        "https://serokell.io/blog/dimensions-and-haskell-introduction\n",
        "1. 行列計算用のHaskellライブラリ hmatrix を入れる  \n",
        "https://mano.xyz/391/\n",
        "1. hmatrix-0.20.1: Numeric Linear Algebra\n",
        "1. haskell プログラム集  \n",
        "https://userweb.mnet.ne.jp/tnomura/examples/matrix.html\n",
        "1. Haskellで数値計算 線形代数編  \n",
        "https://lqtmirage.hatenablog.com/entry/2018/07/12/232852\n",
        "1. Haskellの行列計算 - 保存と読み出し、複素行列について  \n",
        "https://qiita.com/tkch_pe/items/d6cfbc333d6c60751184\n",
        "1. Haskell で行列の計算をしてみる  \n",
        "http://tsumuji.cocolog-nifty.com/tsumuji/2011/02/haskell-0b4a.html"
      ]
    },
    {
      "cell_type": "code",
      "metadata": {
        "id": "WecUWnw6kQjM"
      },
      "source": [
        "# colab の環境に haskell と hmatrix を入れる\n",
        "# まず haskell をインストールする\n",
        "%%capture\n",
        "!apt install haskell-platform"
      ],
      "execution_count": 1,
      "outputs": []
    },
    {
      "cell_type": "code",
      "metadata": {
        "id": "DG8yTdi3ma9V",
        "outputId": "e650eb50-ff4b-4b8a-a7ff-dd684cf419b3",
        "colab": {
          "base_uri": "https://localhost:8080/"
        }
      },
      "source": [
        "# 次に hmatrix を入れる\n",
        "%%capture\n",
        "!sudo cabal update\n",
        "!sudo cabal install hmatrix"
      ],
      "execution_count": 4,
      "outputs": [
        {
          "output_type": "stream",
          "name": "stdout",
          "text": [
            "Downloading the latest package list from hackage.haskell.org\n",
            "Resolving dependencies...\n",
            "Downloading base-orphans-0.8.6...\n",
            "Downloading semigroups-0.20...\n",
            "Configuring semigroups-0.20...\n",
            "Configuring base-orphans-0.8.6...\n",
            "Building base-orphans-0.8.6...\n",
            "Building semigroups-0.20...\n",
            "Installed semigroups-0.20\n",
            "Installed base-orphans-0.8.6\n",
            "Downloading storable-complex-0.2.3.0...\n",
            "Configuring storable-complex-0.2.3.0...\n",
            "Building storable-complex-0.2.3.0...\n",
            "Installed storable-complex-0.2.3.0\n",
            "Downloading hmatrix-0.20.2...\n",
            "Configuring hmatrix-0.20.2...\n",
            "Building hmatrix-0.20.2...\n",
            "Installed hmatrix-0.20.2\n"
          ]
        }
      ]
    },
    {
      "cell_type": "code",
      "metadata": {
        "id": "iyFnLL26pFJ6"
      },
      "source": [
        "# 次のコードでエラーが出なければ hmatrix がインストールされている\n",
        "!ghc -e $'import Numeric.LinearAlgebra'"
      ],
      "execution_count": 5,
      "outputs": []
    },
    {
      "cell_type": "code",
      "metadata": {
        "id": "WCPKsbo_v6-0"
      },
      "source": [
        "# cabal でインストールできなかった場合、手動で入れることを試みる\n",
        "# haskell の線形代数パッケージ hmatrix は Fortran 時代から有名な\n",
        "# BLAS (Basic Linear Algebra Subprograms)\n",
        "# LAPACK — Linear Algebra PACKage\n",
        "# を使っている\n",
        "# !apt install libghc6-hunit-dev libghc6-quickcheck-dev\n",
        "# !apt install libgsl0-dev libblas-dev liblapack-dev libatlas-base-dev"
      ],
      "execution_count": null,
      "outputs": []
    },
    {
      "cell_type": "code",
      "metadata": {
        "id": "yNJLx9LIil1V"
      },
      "source": [
        "# storable-complex は apt で入れようとするとパッケージがない、と言われる\n",
        "# !wget http://hackage.haskell.org/packages/archive/storable-complex/0.2/storable-complex-0.2.tar.gz\n",
        "# !tar -xzf storable-complex-0.2.tar.gz\n",
        "# !cd storable-complex-0.2/; runhaskell Setup configure; cabal install"
      ],
      "execution_count": null,
      "outputs": []
    },
    {
      "cell_type": "markdown",
      "metadata": {
        "id": "Y_aMcVuTwvZf"
      },
      "source": [
        "# いまここ"
      ]
    },
    {
      "cell_type": "code",
      "metadata": {
        "id": "Hu-lV3WhdGaD",
        "colab": {
          "base_uri": "https://localhost:8080/"
        },
        "outputId": "93f69487-a688-4480-dee0-a435ac6602e0"
      },
      "source": [
        "# hmatrix の核となるのは次の二つのデータタイプである\n",
        "# data Vector e\n",
        "# data Matrix e\n",
        "%%writefile temp.hs\n",
        "import Numeric.LinearAlgebra\n",
        "main = do\n",
        "    print (vector [1,2,3] * vector [3,0,-2])"
      ],
      "execution_count": 6,
      "outputs": [
        {
          "output_type": "stream",
          "name": "stdout",
          "text": [
            "Writing temp.hs\n"
          ]
        }
      ]
    },
    {
      "cell_type": "code",
      "metadata": {
        "id": "esJekUrOjMR7",
        "colab": {
          "base_uri": "https://localhost:8080/"
        },
        "outputId": "f756cc93-9b0f-4aea-9afe-7aa7c9228080"
      },
      "source": [
        "!runghc temp.hs"
      ],
      "execution_count": 7,
      "outputs": [
        {
          "output_type": "stream",
          "name": "stdout",
          "text": [
            "[3.0,0.0,-6.0]\n"
          ]
        }
      ]
    },
    {
      "cell_type": "code",
      "metadata": {
        "id": "mu1jFc9EgVsc"
      },
      "source": [
        "# 見かけは list だが、型は vector である\n",
        "# hmatrix> :t vector [1,2,3] * vector [3,0,-2]\n",
        "# vector [1,2,3] * vector [3,0,-2] :: Vector R\n",
        "\n",
        "# 要素の型の R は hmatrix の中の数値の型の synonym である\n",
        "# type R = Double\n",
        "# type C = Complex Double\n",
        "# type I = CInt\n",
        "# type Z = Int64"
      ],
      "execution_count": null,
      "outputs": []
    },
    {
      "cell_type": "code",
      "metadata": {
        "id": "3ZwHvTvvlefn",
        "colab": {
          "base_uri": "https://localhost:8080/"
        },
        "outputId": "88fa70ea-c296-423c-a7f1-84c1eb667fb5"
      },
      "source": [
        "# 以上が vector だが、行列 matrix でも同様に\n",
        "%%writefile matrix01.hs\n",
        "import Numeric.LinearAlgebra\n",
        "main = do\n",
        "    print (matrix 3 [1..9] * ident 3)\n"
      ],
      "execution_count": null,
      "outputs": [
        {
          "output_type": "stream",
          "text": [
            "Writing matrix01.hs\n"
          ],
          "name": "stdout"
        }
      ]
    },
    {
      "cell_type": "code",
      "metadata": {
        "id": "XdIcW4YJl4UL",
        "colab": {
          "base_uri": "https://localhost:8080/"
        },
        "outputId": "41a86bf0-dfe1-416f-d565-22657727772c"
      },
      "source": [
        "!runghc matrix01.hs"
      ],
      "execution_count": null,
      "outputs": [
        {
          "output_type": "stream",
          "text": [
            "(3><3)\n",
            " [ 1.0, 0.0, 0.0\n",
            " , 0.0, 5.0, 0.0\n",
            " , 0.0, 0.0, 9.0 ]\n"
          ],
          "name": "stdout"
        }
      ]
    },
    {
      "cell_type": "code",
      "metadata": {
        "id": "O75H2kcQl2kE"
      },
      "source": [
        "# hmatrix> :t matrix 3 [1..9] * ident 3\n",
        "# matrix 3 [1..9] * ident 3 :: Matrix R\n",
        "\n",
        "# matrix 3 は後続するリストを 3列の行列にする\n",
        "# ident は 3 x 3 の単位行列を作る"
      ],
      "execution_count": null,
      "outputs": []
    },
    {
      "cell_type": "code",
      "metadata": {
        "id": "nKIxp7u1m00A",
        "colab": {
          "base_uri": "https://localhost:8080/"
        },
        "outputId": "ee417d62-c01c-40b3-c313-0cb24a5f6c64"
      },
      "source": [
        "%%writefile matrix02.hs\n",
        "import Numeric.LinearAlgebra\n",
        "main = do\n",
        "    print (matrix 3 [1..15] )"
      ],
      "execution_count": null,
      "outputs": [
        {
          "output_type": "stream",
          "text": [
            "Overwriting matrix02.hs\n"
          ],
          "name": "stdout"
        }
      ]
    },
    {
      "cell_type": "code",
      "metadata": {
        "id": "QBfamcv1nTkP",
        "colab": {
          "base_uri": "https://localhost:8080/"
        },
        "outputId": "51bfb668-f273-4b31-fcf2-7977a1bea73c"
      },
      "source": [
        "!runghc matrix02.hs"
      ],
      "execution_count": null,
      "outputs": [
        {
          "output_type": "stream",
          "text": [
            "(5><3)\n",
            " [  1.0,  2.0,  3.0\n",
            " ,  4.0,  5.0,  6.0\n",
            " ,  7.0,  8.0,  9.0\n",
            " , 10.0, 11.0, 12.0\n",
            " , 13.0, 14.0, 15.0 ]\n"
          ],
          "name": "stdout"
        }
      ]
    },
    {
      "cell_type": "code",
      "metadata": {
        "id": "NZIYc8OLnlwG",
        "colab": {
          "base_uri": "https://localhost:8080/"
        },
        "outputId": "964c4041-abe6-491c-e5b7-95a8858a1853"
      },
      "source": [
        "%%writefile matrix03.hs\n",
        "import Numeric.LinearAlgebra\n",
        "main = do\n",
        "    print ((ident 3 ):: Matrix I)"
      ],
      "execution_count": null,
      "outputs": [
        {
          "output_type": "stream",
          "text": [
            "Overwriting matrix03.hs\n"
          ],
          "name": "stdout"
        }
      ]
    },
    {
      "cell_type": "code",
      "metadata": {
        "id": "29ebxItRno4u",
        "colab": {
          "base_uri": "https://localhost:8080/"
        },
        "outputId": "a87ac53c-3fa6-4c71-e233-49f4c72a8b1d"
      },
      "source": [
        "!runghc matrix03.hs"
      ],
      "execution_count": null,
      "outputs": [
        {
          "output_type": "stream",
          "text": [
            "(3><3)\n",
            " [ 1, 0, 0\n",
            " , 0, 1, 0\n",
            " , 0, 0, 1 ]\n"
          ],
          "name": "stdout"
        }
      ]
    },
    {
      "cell_type": "code",
      "metadata": {
        "id": "Env-FcIIm0Jz",
        "colab": {
          "base_uri": "https://localhost:8080/"
        },
        "outputId": "ed85aae2-ac0c-4ed4-9b39-a8f5a0efc34c"
      },
      "source": [
        "# GENERALISED MATRICES\n",
        "# 説明がわからないので、以降例だけをしめします\n",
        "# 上記の Matrix型と Vector型に加えて GMatrix という型がある\n",
        "# 次の例は疎 sparse な、2x2000 の行列でゼロでない要素が 2つだけのものを\n",
        "# compressed sparse row (CSR) format で示している\n",
        "%%writefile sparse01.hs\n",
        "import Numeric.LinearAlgebra\n",
        "main = \n",
        "   print (mkSparse [((0,999),1.0),((1,1999),2.0)])\n"
      ],
      "execution_count": null,
      "outputs": [
        {
          "output_type": "stream",
          "text": [
            "Writing sparse01.hs\n"
          ],
          "name": "stdout"
        }
      ]
    },
    {
      "cell_type": "code",
      "metadata": {
        "colab": {
          "base_uri": "https://localhost:8080/"
        },
        "id": "dfPJK13iyniu",
        "outputId": "27d52991-4ae4-47b8-c0ca-dbf32da0dd40"
      },
      "source": [
        "!runghc sparse01.hs"
      ],
      "execution_count": null,
      "outputs": [
        {
          "output_type": "stream",
          "text": [
            "SparseR {gmCSR = CSR {csrVals = [1.0,2.0], csrCols = [1000,2000], csrRows = [1,2,3], csrNRows = 2, csrNCols = 2000}, nRows = 2, nCols = 2000}\n"
          ],
          "name": "stdout"
        }
      ]
    },
    {
      "cell_type": "markdown",
      "metadata": {
        "id": "xGZAMaPgy-VB"
      },
      "source": [
        "```\n",
        "SparseR\n",
        "{ gmCSR = CSR\n",
        "          { csrVals = [1.0,2.0]\n",
        "          , csrCols = [1000,2000]\n",
        "          , csrRows = [1,2,3]\n",
        "          , csrNRows = 2\n",
        "          , csrNCols = 2000\n",
        "          }\n",
        ", nRows = 2\n",
        ", nCols = 2000\n",
        "}\n",
        "```"
      ]
    },
    {
      "cell_type": "code",
      "metadata": {
        "id": "WO4WbpgxyTBj"
      },
      "source": [
        "# f [x,y] = 10*(x-1)^2 + 20*(y-2)^2 + 30\n",
        "# の最小値を gradient を用いずに見つける\n",
        "%%script false\n",
        "%%writefile minima.hs\n",
        "import Numeric.LinearAlgebra\n",
        "minimizeS :: ([Double] -> Double) -> [Double] -> ([Double], Matrix Double)\n",
        "minimizeS f xi\n",
        "  = minimize NMSimplex2 1E-2 100 (replicate (length xi) 1) f xi\n"
      ],
      "execution_count": null,
      "outputs": []
    },
    {
      "cell_type": "code",
      "metadata": {
        "id": "EHcc2Uy107ad"
      },
      "source": [
        "%%script false\n",
        "%%writefile minimize.hs\n",
        "-- the multidimensional minimization example in the GSL manual\n",
        "import Numeric.GSL\n",
        "import Numeric.LinearAlgebra\n",
        "import Graphics.Plot\n",
        "import Text.Printf(printf)\n",
        "\n",
        "-- the function to be minimized\n",
        "f [x,y] = 10*(x-1)^2 + 20*(y-2)^2 + 30\n",
        "\n",
        "-- exact gradient\n",
        "df [x,y] = [20*(x-1), 40*(y-2)]\n",
        "\n",
        "-- a minimization algorithm which does not require the gradient\n",
        "minimizeS f xi = minimize NMSimplex2 1E-2 100 (replicate (length xi) 1) f xi\n",
        "\n",
        "-- Numerical estimation of the gradient\n",
        "gradient f v = [partialDerivative k f v | k <- [0 .. length v -1]]\n",
        "\n",
        "partialDerivative n f v = fst (derivCentral 0.01 g (v!!n)) where\n",
        "    g x = f (concat [a,x:b])\n",
        "    (a,_:b) = splitAt n v\n",
        "\n",
        "disp' = putStrLn . format \"  \" (printf \"%.3f\")\n",
        "\n",
        "allMethods :: (Enum a, Bounded a) => [a]\n",
        "allMethods = [minBound .. maxBound]\n",
        "\n",
        "test method = do\n",
        "    print method\n",
        "    let (s,p) = minimize method 1E-2 30 [1,1] f [5,7]\n",
        "    print s\n",
        "    disp' p\n",
        "\n",
        "testD method = do\n",
        "    print method\n",
        "    let (s,p) = minimizeD method 1E-3 30 1E-2 1E-4 f df [5,7]\n",
        "    print s\n",
        "    disp' p\n",
        "\n",
        "testD' method = do\n",
        "    putStrLn $ show method ++ \" with estimated gradient\"\n",
        "    let (s,p) = minimizeD method 1E-3 30 1E-2 1E-4 f (gradient f) [5,7]\n",
        "    print s\n",
        "    disp' p\n",
        "\n",
        "main = do\n",
        "    mapM_ test [NMSimplex, NMSimplex2]\n",
        "    mapM_ testD allMethods\n",
        "    testD' ConjugateFR\n",
        "    mplot $ drop 3 . toColumns . snd $ minimizeS f [5,7]"
      ],
      "execution_count": null,
      "outputs": []
    },
    {
      "cell_type": "code",
      "metadata": {
        "id": "14VXo2dlFXBX"
      },
      "source": [
        "# 標準モジュール Data.Array 含まれる配列は\n",
        "# immutable, boxed, non-strict であり、これを使って配列のアルゴリズムを作ることができる。\n",
        "# しかし、boxing や non-strictness は連想配列に依存し、haskell compiler の最適化を\n",
        "# 疎外し、結果として遅くなってしまう。\n"
      ],
      "execution_count": null,
      "outputs": []
    },
    {
      "cell_type": "code",
      "metadata": {
        "id": "VmpWyzYm27hM"
      },
      "source": [
        "# non-strictness の恩恵としての表現の豊かさを A Gentle Introduction to Haskell にある\n",
        "# 次の例で見てみよう。\n",
        "\n",
        "The wavefront function defines\n",
        "\n",
        "an nxn array whose leftmost column and topmost row are populated\n",
        "with 1s (by the first two list comprehensions below). All other\n",
        "array elements are defined as the sum of the three elements\n",
        "to their left, top, and top-left (by the third list comprehension\n",
        "in the definition).\n",
        "\n",
        "wavefront :: Int -> Array (Int,Int) Int\n",
        "wavefront n = arr\n",
        " where\n",
        "   arr = array ((1,1),(n,n))\n",
        "               ([((1,j), 1) | j <- [1..n]] ++\n",
        "                [((i,1), 1) | i <- [2..n]] ++\n",
        "                [((i,j), arr!(i,j-1) + arr!(i-1,j-1) + arr!\n",
        "(i-1,j))\n",
        "                            | i <- [2..n], j <- [2..n]])\n",
        "The ! infix operator implements array indexing:\n",
        "\n",
        "(!) :: Ix i => Array i e -> i -> e\n",
        "Moreover, the function array constructs an array from an association\n",
        "list mapping indexes to values:\n",
        "\n",
        "array :: Ix i => (i, i) -> [(i, e)] -> Array i e\n",
        "The elegance of wavefront is in the recursive definition of the\n",
        "array arr.\n",
        "In the expression arr!(i,j-1) + arr!(i-1,j-1) + arr\n",
        "!(i-1,j), we access the elements to the left, top, and top-left\n",
        "of the current one by appropriate indexing of the very array\n",
        "that we are currently in the process of defining.\n",
        "Such a recursive\n",
        "dependency is only valid for a non-strict data structure.\n",
        "\n",
        "BOXING\n",
        "Unfortunately, the expressiveness of non-strict arrays comes\n",
        "at a price, especially if the array elements are simple numbers.\n",
        "Instead of being able to store those numeric elements in-place\n",
        "in the array, non-strict arrays require a boxed representation,\n",
        "where the elements are pointers to heap objects containing the\n",
        "numeric values.\n",
        "This additional indirection requires extra memory\n",
        "and drastically reduces the efficiency of array access, especially\n",
        "in tight loops.\n",
        "The layout difference between an unboxed (left)\n",
        "and a boxed (right) representation is illustrated below.\n",
        "\n",
        "boxed versus unboxed array representation\n",
        "\n",
        "While both strict and non-strict data structures admit boxed\n",
        "representations, non-strict structures typically require boxing.\n",
        "To provide an alternative to the standard non-strict arrays,\n",
        "the array package provides strict, unboxed arrays of type Data.Array.Unboxed.UArray\n",
        "i e.\n",
        "By way of overloading via the type class Data.Array.IArray.IArray,\n",
        "they provide the same API as the standard non-strict, boxed\n",
        "arrays.\n",
        "However, the element type is restricted to basic types\n",
        "that can be stored unboxed, such as integral and floating-point\n",
        "numeric types.\n",
        "\n",
        "Unfortunately, array construction based on association lists,\n",
        "such as the array function, still severely limits the performance\n",
        "of immutable UArrays.\n",
        "Nevertheless, at least, array access by\n",
        "way of (!) is efficient for unboxed arrays.\n",
        "\n",
        "IMMUTABILITY\n",
        "While immutable arrays —i.e., arrays that cannot directly be\n",
        "in-place updated— are semantically simpler, it turns out that\n",
        "indexed-based array construction is drastically more efficient\n",
        "for mutable arrays.\n",
        "Hence, computationally demanding Haskell\n",
        "array code typically adopts a two-phase array life cycle: (1)\n",
        "arrays are allocated as mutable arrays and initialised using\n",
        "in-place array update; once initialised, (2) they are frozen\n",
        "by making them immutable.\n",
        "\n",
        "This usage pattern is supported by the interface provided by\n",
        "the Data.Array.MArray.MArray class and we use it in the following\n",
        "example function generate to initialise an array of Doubles\n",
        "with an index-based generator function gen:\n",
        "\n",
        "generate :: Ix i => (i, i) -> (i -> Double) -> UArray i Double\n",
        "generate bnds gen\n",
        " = runSTUArray $ do\n",
        "     arr <- newArray_ bnds\n",
        "     mapM_ (\\i -> writeArray arr i (gen i)) (range bnds)\n",
        "     return arr\n",
        "Mutable arrays come in various flavours that are, in particularly,\n",
        "distinguished by the monad in which the array operations take\n",
        "place.\n",
        "Usually, this is either IO or ST, and the array package\n",
        "provides both boxed and unboxed variants for both monads.\n",
        "We\n",
        "have the boxed IOArray and the unboxed IOUArray as well as the\n",
        "boxed STArray and the unboxed STUArray.\n",
        "The above definition\n",
        "of generate uses STUArray to initialise the array, and then,\n",
        "freezes it into a UArray, which is returned.\n",
        "The choice of STUArray\n",
        "is implicit in the use of runSTUArray, which executes the code\n",
        "in the state transformer monad ST and freezes the STUArray into\n",
        "a UArray.\n",
        "\n",
        "The function newArray_ provides a fresh uninitialised array:\n",
        "newArray_ :: (MArray a e m, Ix i) => (i, i) -> m (a i e)\n",
        "We can read and write a mutable array with\n",
        "\n",
        "readArray  :: (MArray a e m, Ix i) => a i e -> i      -> m e\n",
        "writeArray :: (MArray a e m, Ix i) => a i e -> i -> e -> m ()\n",
        "In the definition of generate, we use writeArray once on each\n",
        "index in the range range bnds of the mutable array to initialise\n",
        "the value at index i with the value of the generator function\n",
        "at that index, gen i.\n",
        "\n",
        "Generally, we can freeze a mutable array, obtaining an immutable\n",
        "array, with\n",
        "\n",
        "freeze :: (Ix i, MArray a e m, IArray b e) => a i e -> m (b i\n",
        "e)\n",
        "There is also the unsafe variant unsafeFreeze that avoids copying\n",
        "the array during freezing, but puts the onus on the programmer\n",
        "to ensure that the mutable argument is subsequently not updated\n",
        "anymore.\n",
        "In the code for generate above, we indirectly use unsafeFreeze\n",
        "by way of runSTUArray.\n",
        "As runSTUArray makes it impossible to\n",
        "use the mutable array after freezing, this encapsulated use\n",
        "of unsafeFreeze is always safe.\n",
        "\n",
        "An expression, such as, generate (1,100) ((^2) . fromIntegral)\n",
        "produces an unboxed array with the first one hundred square\n",
        "numbers.\n",
        "Internally, it is based on the initialisation of a\n",
        "mutable array, but this is completely abstracted over by the\n",
        "definition of generate.\n",
        "While there is no inbuilt need to ever\n",
        "freeze a mutable array, good functional programming style requires\n",
        "to keep mutable code as localised as possible and to avoid passing\n",
        "mutable data structures around.\n",
        "\n",
        "SUMMARY\n",
        "\n",
        "Well written code based on unboxed arrays and using the discussed\n",
        "pattern to create arrays by initialising a mutable version,\n",
        "which is subsequently frozen, can achieve performance comparable\n",
        "to low-level C code.\n",
        "In fact, the collection-oriented high-performance\n",
        "array frameworks that we will discuss in subsequent blog posts\n",
        "work exactly in this ma\n"
      ],
      "execution_count": null,
      "outputs": []
    },
    {
      "cell_type": "markdown",
      "metadata": {
        "id": "y0tJYA3w2Gzq"
      },
      "source": [
        "# いまここ\n",
        "\n",
        "https://www.tweag.io/blog/2017-09-27-array-package/"
      ]
    }
  ]
}