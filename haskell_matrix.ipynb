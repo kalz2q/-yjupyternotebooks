{
  "nbformat": 4,
  "nbformat_minor": 0,
  "metadata": {
    "colab": {
      "name": "haskell_matrix.ipynb",
      "provenance": [],
      "authorship_tag": "ABX9TyPBhamQsfJWHGUdR4bwpalL",
      "include_colab_link": true
    },
    "kernelspec": {
      "name": "python3",
      "display_name": "Python 3"
    }
  },
  "cells": [
    {
      "cell_type": "markdown",
      "metadata": {
        "id": "view-in-github",
        "colab_type": "text"
      },
      "source": [
        "<a href=\"https://colab.research.google.com/github/kalz2q/mycolabnotebooks/blob/master/haskell_matrix.ipynb\" target=\"_parent\"><img src=\"https://colab.research.google.com/assets/colab-badge.svg\" alt=\"Open In Colab\"/></a>"
      ]
    },
    {
      "cell_type": "markdown",
      "metadata": {
        "id": "fLaf_uX-kTtV"
      },
      "source": [
        "# メモ\r\n",
        "\r\n",
        "行列 haskell  \r\n",
        "で検索\r\n",
        "\r\n",
        "1. ARRAY PROGRAMMING IN HASKELL  \r\n",
        "https://www.tweag.io/blog/2017-08-09-array-programming-in-haskell/  \r\n",
        "1. humatrix tutorial old version   \r\n",
        "http://dis.um.es/profesores/alberto/material/hmatrix.pdf  \r\n",
        "1. hmatrixの使い方とニューラルネットワークの実装例  \r\n",
        "https://qiita.com/lotz/items/2c932b45f78f6fc70e9c\r\n",
        "1. Haskellの線形代数用ライブラリで多変量ガウス分布を計算した際のメモ  \r\n",
        "https://mmitou.hatenadiary.org/entry/20121021/1350798725\r\n",
        "1. ENTER THE MATRIX, HASKELL STYLE  \r\n",
        "https://www.tweag.io/blog/2017-08-31-hmatrix/\r\n",
        "1. Dimensions and Haskell: Introduction\r\n",
        "https://serokell.io/blog/dimensions-and-haskell-introduction\r\n",
        "1. 行列計算用のHaskellライブラリ hmatrix を入れる  \r\n",
        "https://mano.xyz/391/\r\n",
        "1. hmatrix-0.20.1: Numeric Linear Algebra\r\n",
        "1. haskell プログラム集  \r\n",
        "https://userweb.mnet.ne.jp/tnomura/examples/matrix.html\r\n",
        "1. Haskellで数値計算 線形代数編  \r\n",
        "https://lqtmirage.hatenablog.com/entry/2018/07/12/232852\r\n",
        "1. Haskellの行列計算 - 保存と読み出し、複素行列について  \r\n",
        "https://qiita.com/tkch_pe/items/d6cfbc333d6c60751184\r\n",
        "1. Haskell で行列の計算をしてみる  \r\n",
        "http://tsumuji.cocolog-nifty.com/tsumuji/2011/02/haskell-0b4a.html"
      ]
    },
    {
      "cell_type": "code",
      "metadata": {
        "id": "WecUWnw6kQjM"
      },
      "source": [
        "%%capture\r\n",
        "!apt install haskell-platform\r\n",
        "!cabal update\r\n",
        "!cabal install hmatrix"
      ],
      "execution_count": null,
      "outputs": []
    },
    {
      "cell_type": "code",
      "metadata": {
        "id": "1EiwqjZMVQZa"
      },
      "source": [
        "# colab の環境では上のコマンドでオッケーだが\r\n",
        "# 私のローカルの環境ではHaskellライブラリの他に BLAS/LAPCKというものが必要だった\r\n",
        "# sudo apt-get install libgsl0-dev libblas-dev liblapack-dev libatlas-base-dev"
      ],
      "execution_count": null,
      "outputs": []
    },
    {
      "cell_type": "code",
      "metadata": {
        "id": "iyFnLL26pFJ6"
      },
      "source": [
        "!ghc -e $'import Numeric.LinearAlgebra'"
      ],
      "execution_count": null,
      "outputs": []
    },
    {
      "cell_type": "code",
      "metadata": {
        "id": "-5mCxHuwVudn"
      },
      "source": [
        "# 上のコードでエラーが出なければ hmatrix がインストールされている\r\n",
        "# haskell の線形代数パッケージ hmatrix は Fortran 時代から有名な\r\n",
        "# BLAS (Basic Linear Algebra Subprograms)\r\n",
        "# LAPACK — Linear Algebra PACKage\r\n",
        "# を使っている"
      ],
      "execution_count": null,
      "outputs": []
    },
    {
      "cell_type": "code",
      "metadata": {
        "id": "Hu-lV3WhdGaD",
        "colab": {
          "base_uri": "https://localhost:8080/"
        },
        "outputId": "bfa5d405-fa96-40c4-d722-e7733c679f31"
      },
      "source": [
        "# hmatrix の核となるのは次の二つのデータタイプである\r\n",
        "# data Vector e\r\n",
        "# data Matrix e\r\n",
        "\r\n",
        "%%writefile vector01.hs\r\n",
        "import Numeric.LinearAlgebra\r\n",
        "main = do\r\n",
        "    print (vector [1,2,3] * vector [3,0,-2])\r\n",
        "  \r\n"
      ],
      "execution_count": null,
      "outputs": [
        {
          "output_type": "stream",
          "text": [
            "Overwriting vector01.hs\n"
          ],
          "name": "stdout"
        }
      ]
    },
    {
      "cell_type": "code",
      "metadata": {
        "id": "esJekUrOjMR7",
        "colab": {
          "base_uri": "https://localhost:8080/"
        },
        "outputId": "d27f9b45-0355-4bf1-fc48-c75b9d31af08"
      },
      "source": [
        "!runghc vector01.hs"
      ],
      "execution_count": null,
      "outputs": [
        {
          "output_type": "stream",
          "text": [
            "[3.0,0.0,-6.0]\n"
          ],
          "name": "stdout"
        }
      ]
    },
    {
      "cell_type": "code",
      "metadata": {
        "id": "mu1jFc9EgVsc"
      },
      "source": [
        "# 見かけは list だが、型は vector である\r\n",
        "# hmatrix> :t vector [1,2,3] * vector [3,0,-2]\r\n",
        "# vector [1,2,3] * vector [3,0,-2] :: Vector R\r\n",
        "#\r\n",
        "# 要素の型の R は hmatrix の中の数値の型の synonym である\r\n",
        "# type R = Double\r\n",
        "# type C = Complex Double\r\n",
        "# type I = CInt\r\n",
        "# type Z = Int64\r\n"
      ],
      "execution_count": null,
      "outputs": []
    },
    {
      "cell_type": "code",
      "metadata": {
        "id": "3ZwHvTvvlefn",
        "colab": {
          "base_uri": "https://localhost:8080/"
        },
        "outputId": "88fa70ea-c296-423c-a7f1-84c1eb667fb5"
      },
      "source": [
        "# 以上が vector だが、行列 matrix でも同様に\r\n",
        "%%writefile matrix01.hs\r\n",
        "import Numeric.LinearAlgebra\r\n",
        "main = do\r\n",
        "    print (matrix 3 [1..9] * ident 3)\r\n"
      ],
      "execution_count": null,
      "outputs": [
        {
          "output_type": "stream",
          "text": [
            "Writing matrix01.hs\n"
          ],
          "name": "stdout"
        }
      ]
    },
    {
      "cell_type": "code",
      "metadata": {
        "id": "XdIcW4YJl4UL",
        "colab": {
          "base_uri": "https://localhost:8080/"
        },
        "outputId": "41a86bf0-dfe1-416f-d565-22657727772c"
      },
      "source": [
        "!runghc matrix01.hs"
      ],
      "execution_count": null,
      "outputs": [
        {
          "output_type": "stream",
          "text": [
            "(3><3)\n",
            " [ 1.0, 0.0, 0.0\n",
            " , 0.0, 5.0, 0.0\n",
            " , 0.0, 0.0, 9.0 ]\n"
          ],
          "name": "stdout"
        }
      ]
    },
    {
      "cell_type": "code",
      "metadata": {
        "id": "O75H2kcQl2kE"
      },
      "source": [
        "#\r\n",
        "# hmatrix> :t matrix 3 [1..9] * ident 3\r\n",
        "# matrix 3 [1..9] * ident 3 :: Matrix R\r\n",
        "#\r\n",
        "# matrix 3 は後続するリストを 3列の行列にする\r\n",
        "# ident は 3 x 3 の単位行列を作る\r\n"
      ],
      "execution_count": null,
      "outputs": []
    },
    {
      "cell_type": "code",
      "metadata": {
        "id": "nKIxp7u1m00A",
        "colab": {
          "base_uri": "https://localhost:8080/"
        },
        "outputId": "ee417d62-c01c-40b3-c313-0cb24a5f6c64"
      },
      "source": [
        "%%writefile matrix02.hs\r\n",
        "import Numeric.LinearAlgebra\r\n",
        "main = do\r\n",
        "    print (matrix 3 [1..15] )"
      ],
      "execution_count": null,
      "outputs": [
        {
          "output_type": "stream",
          "text": [
            "Overwriting matrix02.hs\n"
          ],
          "name": "stdout"
        }
      ]
    },
    {
      "cell_type": "code",
      "metadata": {
        "id": "QBfamcv1nTkP",
        "colab": {
          "base_uri": "https://localhost:8080/"
        },
        "outputId": "51bfb668-f273-4b31-fcf2-7977a1bea73c"
      },
      "source": [
        "!runghc matrix02.hs"
      ],
      "execution_count": null,
      "outputs": [
        {
          "output_type": "stream",
          "text": [
            "(5><3)\n",
            " [  1.0,  2.0,  3.0\n",
            " ,  4.0,  5.0,  6.0\n",
            " ,  7.0,  8.0,  9.0\n",
            " , 10.0, 11.0, 12.0\n",
            " , 13.0, 14.0, 15.0 ]\n"
          ],
          "name": "stdout"
        }
      ]
    },
    {
      "cell_type": "code",
      "metadata": {
        "id": "NZIYc8OLnlwG",
        "colab": {
          "base_uri": "https://localhost:8080/"
        },
        "outputId": "964c4041-abe6-491c-e5b7-95a8858a1853"
      },
      "source": [
        "%%writefile matrix03.hs\r\n",
        "import Numeric.LinearAlgebra\r\n",
        "main = do\r\n",
        "    print ((ident 3 ):: Matrix I)"
      ],
      "execution_count": null,
      "outputs": [
        {
          "output_type": "stream",
          "text": [
            "Overwriting matrix03.hs\n"
          ],
          "name": "stdout"
        }
      ]
    },
    {
      "cell_type": "code",
      "metadata": {
        "id": "29ebxItRno4u",
        "colab": {
          "base_uri": "https://localhost:8080/"
        },
        "outputId": "a87ac53c-3fa6-4c71-e233-49f4c72a8b1d"
      },
      "source": [
        "!runghc matrix03.hs"
      ],
      "execution_count": null,
      "outputs": [
        {
          "output_type": "stream",
          "text": [
            "(3><3)\n",
            " [ 1, 0, 0\n",
            " , 0, 1, 0\n",
            " , 0, 0, 1 ]\n"
          ],
          "name": "stdout"
        }
      ]
    },
    {
      "cell_type": "code",
      "metadata": {
        "id": "Env-FcIIm0Jz",
        "outputId": "ed85aae2-ac0c-4ed4-9b39-a8f5a0efc34c",
        "colab": {
          "base_uri": "https://localhost:8080/"
        }
      },
      "source": [
        "# GENERALISED MATRICES\r\n",
        "# 説明がわからないので、以降例だけをしめします\r\n",
        "# 上記の Matrix型と Vector型に加えて GMatrix という型がある\r\n",
        "# 次の例は疎 sparse な、2x2000 の行列でゼロでない要素が 2つだけのものを\r\n",
        "# compressed sparse row (CSR) format で示している\r\n",
        "%%writefile sparse01.hs\r\n",
        "import Numeric.LinearAlgebra\r\n",
        "main = \r\n",
        "   print (mkSparse [((0,999),1.0),((1,1999),2.0)])\r\n"
      ],
      "execution_count": 109,
      "outputs": [
        {
          "output_type": "stream",
          "text": [
            "Writing sparse01.hs\n"
          ],
          "name": "stdout"
        }
      ]
    },
    {
      "cell_type": "code",
      "metadata": {
        "id": "dfPJK13iyniu",
        "outputId": "27d52991-4ae4-47b8-c0ca-dbf32da0dd40",
        "colab": {
          "base_uri": "https://localhost:8080/"
        }
      },
      "source": [
        "!runghc sparse01.hs"
      ],
      "execution_count": 110,
      "outputs": [
        {
          "output_type": "stream",
          "text": [
            "SparseR {gmCSR = CSR {csrVals = [1.0,2.0], csrCols = [1000,2000], csrRows = [1,2,3], csrNRows = 2, csrNCols = 2000}, nRows = 2, nCols = 2000}\n"
          ],
          "name": "stdout"
        }
      ]
    },
    {
      "cell_type": "markdown",
      "metadata": {
        "id": "xGZAMaPgy-VB"
      },
      "source": [
        "```\r\n",
        "SparseR\r\n",
        "{ gmCSR = CSR\r\n",
        "          { csrVals = [1.0,2.0]\r\n",
        "          , csrCols = [1000,2000]\r\n",
        "          , csrRows = [1,2,3]\r\n",
        "          , csrNRows = 2\r\n",
        "          , csrNCols = 2000\r\n",
        "          }\r\n",
        ", nRows = 2\r\n",
        ", nCols = 2000\r\n",
        "}\r\n",
        "```"
      ]
    },
    {
      "cell_type": "code",
      "metadata": {
        "id": "WO4WbpgxyTBj"
      },
      "source": [
        "# f [x,y] = 10*(x-1)^2 + 20*(y-2)^2 + 30\r\n",
        "# の最小値を gradient を用いずに見つける\r\n",
        "%%script false\r\n",
        "%%writefile minima.hs\r\n",
        "import Numeric.LinearAlgebra\r\n",
        "minimizeS :: ([Double] -> Double) -> [Double] -> ([Double], Matrix Double)\r\n",
        "minimizeS f xi\r\n",
        "  = minimize NMSimplex2 1E-2 100 (replicate (length xi) 1) f xi\r\n"
      ],
      "execution_count": 111,
      "outputs": []
    },
    {
      "cell_type": "code",
      "metadata": {
        "id": "EHcc2Uy107ad"
      },
      "source": [
        "%%script false\r\n",
        "%%writefile minimize.hs\r\n",
        "-- the multidimensional minimization example in the GSL manual\r\n",
        "import Numeric.GSL\r\n",
        "import Numeric.LinearAlgebra\r\n",
        "import Graphics.Plot\r\n",
        "import Text.Printf(printf)\r\n",
        "\r\n",
        "-- the function to be minimized\r\n",
        "f [x,y] = 10*(x-1)^2 + 20*(y-2)^2 + 30\r\n",
        "\r\n",
        "-- exact gradient\r\n",
        "df [x,y] = [20*(x-1), 40*(y-2)]\r\n",
        "\r\n",
        "-- a minimization algorithm which does not require the gradient\r\n",
        "minimizeS f xi = minimize NMSimplex2 1E-2 100 (replicate (length xi) 1) f xi\r\n",
        "\r\n",
        "-- Numerical estimation of the gradient\r\n",
        "gradient f v = [partialDerivative k f v | k <- [0 .. length v -1]]\r\n",
        "\r\n",
        "partialDerivative n f v = fst (derivCentral 0.01 g (v!!n)) where\r\n",
        "    g x = f (concat [a,x:b])\r\n",
        "    (a,_:b) = splitAt n v\r\n",
        "\r\n",
        "disp' = putStrLn . format \"  \" (printf \"%.3f\")\r\n",
        "\r\n",
        "allMethods :: (Enum a, Bounded a) => [a]\r\n",
        "allMethods = [minBound .. maxBound]\r\n",
        "\r\n",
        "test method = do\r\n",
        "    print method\r\n",
        "    let (s,p) = minimize method 1E-2 30 [1,1] f [5,7]\r\n",
        "    print s\r\n",
        "    disp' p\r\n",
        "\r\n",
        "testD method = do\r\n",
        "    print method\r\n",
        "    let (s,p) = minimizeD method 1E-3 30 1E-2 1E-4 f df [5,7]\r\n",
        "    print s\r\n",
        "    disp' p\r\n",
        "\r\n",
        "testD' method = do\r\n",
        "    putStrLn $ show method ++ \" with estimated gradient\"\r\n",
        "    let (s,p) = minimizeD method 1E-3 30 1E-2 1E-4 f (gradient f) [5,7]\r\n",
        "    print s\r\n",
        "    disp' p\r\n",
        "\r\n",
        "main = do\r\n",
        "    mapM_ test [NMSimplex, NMSimplex2]\r\n",
        "    mapM_ testD allMethods\r\n",
        "    testD' ConjugateFR\r\n",
        "    mplot $ drop 3 . toColumns . snd $ minimizeS f [5,7]"
      ],
      "execution_count": 112,
      "outputs": []
    },
    {
      "cell_type": "code",
      "metadata": {
        "id": "VmpWyzYm27hM"
      },
      "source": [
        "\r\n",
        "\r\n",
        "This is the third post in a series about array programming in\r\n",
        " Haskell — you might be interested in the first and second, too.\r\n",
        "In the previous post of this series, we discussed commonly used\r\n",
        " vector and matrix routines, which are available in highly-optimised\r\n",
        " implementations in most programming languages. However, often\r\n",
        " we need to implement our own custom array algorithms. To this\r\n",
        " end, the Haskell standard (Haskell 2010) already comes with\r\n",
        " a simple array API in the form of the Data.Array standard module.\r\n",
        " These arrays are immutable, boxed, and non-strict. This allows\r\n",
        " for the elegant, high-level description of many array algorithms,\r\n",
        " but it is suboptimal for compute-intensive applications as boxing\r\n",
        " and non-strictness, especially in combination with the reliance\r\n",
        " on association lists for array construction, lead to code that\r\n",
        " is very difficult for the Haskell compiler to optimise, resulting\r\n",
        " in rather limited performance.\r\n",
        "\r\n",
        "STRICTNESS\r\n",
        "The extra expressiveness granted by non-strictness is nicely\r\n",
        " displayed by the following example, courtesy of the classic\r\n",
        " A Gentle Introduction to Haskell. The wavefront function defines\r\n",
        " an nxn array whose leftmost column and topmost row are populated\r\n",
        " with 1s (by the first two list comprehensions below). All other\r\n",
        " array elements are defined as the sum of the three elements\r\n",
        " to their left, top, and top-left (by the third list comprehension\r\n",
        " in the definition).\r\n",
        "\r\n",
        "wavefront :: Int -> Array (Int,Int) Int\r\n",
        "wavefront n = arr\r\n",
        "  where\r\n",
        "    arr = array ((1,1),(n,n))\r\n",
        "                ([((1,j), 1) | j <- [1..n]] ++\r\n",
        "                 [((i,1), 1) | i <- [2..n]] ++\r\n",
        "                 [((i,j), arr!(i,j-1) + arr!(i-1,j-1) + arr!\r\n",
        "(i-1,j))\r\n",
        "                             | i <- [2..n], j <- [2..n]])\r\n",
        "The ! infix operator implements array indexing:\r\n",
        "\r\n",
        "(!) :: Ix i => Array i e -> i -> e\r\n",
        "Moreover, the function array constructs an array from an association\r\n",
        " list mapping indexes to values:\r\n",
        "\r\n",
        "array :: Ix i => (i, i) -> [(i, e)] -> Array i e\r\n",
        "The elegance of wavefront is in the recursive definition of the\r\n",
        " array arr. In the expression arr!(i,j-1) + arr!(i-1,j-1) + arr\r\n",
        "!(i-1,j), we access the elements to the left, top, and top-left\r\n",
        " of the current one by appropriate indexing of the very array\r\n",
        " that we are currently in the process of defining. Such a recursive\r\n",
        " dependency is only valid for a non-strict data structure.\r\n",
        "\r\n",
        "BOXING\r\n",
        "Unfortunately, the expressiveness of non-strict arrays comes\r\n",
        " at a price, especially if the array elements are simple numbers.\r\n",
        " Instead of being able to store those numeric elements in-place\r\n",
        " in the array, non-strict arrays require a boxed representation,\r\n",
        " where the elements are pointers to heap objects containing the\r\n",
        " numeric values. This additional indirection requires extra memory\r\n",
        " and drastically reduces the efficiency of array access, especially\r\n",
        " in tight loops. The layout difference between an unboxed (left)\r\n",
        " and a boxed (right) representation is illustrated below.\r\n",
        "\r\n",
        "boxed versus unboxed array representation\r\n",
        "\r\n",
        "While both strict and non-strict data structures admit boxed\r\n",
        " representations, non-strict structures typically require boxing.\r\n",
        " To provide an alternative to the standard non-strict arrays,\r\n",
        " the array package provides strict, unboxed arrays of type Data.Array.Unboxed.UArray\r\n",
        " i e. By way of overloading via the type class Data.Array.IArray.IArray,\r\n",
        " they provide the same API as the standard non-strict, boxed\r\n",
        " arrays. However, the element type is restricted to basic types\r\n",
        " that can be stored unboxed, such as integral and floating-point\r\n",
        " numeric types.\r\n",
        "\r\n",
        "Unfortunately, array construction based on association lists,\r\n",
        " such as the array function, still severely limits the performance\r\n",
        " of immutable UArrays. Nevertheless, at least, array access by\r\n",
        " way of (!) is efficient for unboxed arrays.\r\n",
        "\r\n",
        "IMMUTABILITY\r\n",
        "While immutable arrays —i.e., arrays that cannot directly be\r\n",
        " in-place updated— are semantically simpler, it turns out that\r\n",
        " indexed-based array construction is drastically more efficient\r\n",
        " for mutable arrays. Hence, computationally demanding Haskell\r\n",
        " array code typically adopts a two-phase array life cycle: (1)\r\n",
        " arrays are allocated as mutable arrays and initialised using\r\n",
        " in-place array update; once initialised, (2) they are frozen\r\n",
        " by making them immutable.\r\n",
        "\r\n",
        "This usage pattern is supported by the interface provided by\r\n",
        " the Data.Array.MArray.MArray class and we use it in the following\r\n",
        " example function generate to initialise an array of Doubles\r\n",
        " with an index-based generator function gen:\r\n",
        "\r\n",
        "generate :: Ix i => (i, i) -> (i -> Double) -> UArray i Double\r\n",
        "generate bnds gen\r\n",
        "  = runSTUArray $ do\r\n",
        "      arr <- newArray_ bnds\r\n",
        "      mapM_ (\\i -> writeArray arr i (gen i)) (range bnds)\r\n",
        "      return arr\r\n",
        "Mutable arrays come in various flavours that are, in particularly,\r\n",
        " distinguished by the monad in which the array operations take\r\n",
        " place. Usually, this is either IO or ST, and the array package\r\n",
        " provides both boxed and unboxed variants for both monads. We\r\n",
        " have the boxed IOArray and the unboxed IOUArray as well as the\r\n",
        " boxed STArray and the unboxed STUArray. The above definition\r\n",
        " of generate uses STUArray to initialise the array, and then,\r\n",
        " freezes it into a UArray, which is returned. The choice of STUArray\r\n",
        " is implicit in the use of runSTUArray, which executes the code\r\n",
        " in the state transformer monad ST and freezes the STUArray into\r\n",
        " a UArray.\r\n",
        "\r\n",
        "The function newArray_ provides a fresh uninitialised array:\r\n",
        "newArray_ :: (MArray a e m, Ix i) => (i, i) -> m (a i e)\r\n",
        "We can read and write a mutable array with\r\n",
        "\r\n",
        "readArray  :: (MArray a e m, Ix i) => a i e -> i      -> m e\r\n",
        "writeArray :: (MArray a e m, Ix i) => a i e -> i -> e -> m ()\r\n",
        "In the definition of generate, we use writeArray once on each\r\n",
        " index in the range range bnds of the mutable array to initialise\r\n",
        " the value at index i with the value of the generator function\r\n",
        " at that index, gen i.\r\n",
        "\r\n",
        "Generally, we can freeze a mutable array, obtaining an immutable\r\n",
        " array, with\r\n",
        "\r\n",
        "freeze :: (Ix i, MArray a e m, IArray b e) => a i e -> m (b i\r\n",
        " e)\r\n",
        "There is also the unsafe variant unsafeFreeze that avoids copying\r\n",
        " the array during freezing, but puts the onus on the programmer\r\n",
        " to ensure that the mutable argument is subsequently not updated\r\n",
        " anymore. In the code for generate above, we indirectly use unsafeFreeze\r\n",
        " by way of runSTUArray. As runSTUArray makes it impossible to\r\n",
        " use the mutable array after freezing, this encapsulated use\r\n",
        " of unsafeFreeze is always safe.\r\n",
        "\r\n",
        "An expression, such as, generate (1,100) ((^2) . fromIntegral)\r\n",
        " produces an unboxed array with the first one hundred square\r\n",
        " numbers. Internally, it is based on the initialisation of a\r\n",
        " mutable array, but this is completely abstracted over by the\r\n",
        " definition of generate. While there is no inbuilt need to ever\r\n",
        " freeze a mutable array, good functional programming style requires\r\n",
        " to keep mutable code as localised as possible and to avoid passing\r\n",
        " mutable data structures around.\r\n",
        "\r\n",
        "SUMMARY\r\n",
        "Well written code based on unboxed arrays and using the discussed\r\n",
        " pattern to create arrays by initialising a mutable version,\r\n",
        " which is subsequently frozen, can achieve performance comparable\r\n",
        " to low-level C code. In fact, the collection-oriented high-performance\r\n",
        " array frameworks that we will discuss in subsequent blog posts\r\n",
        " work exactly in this ma\r\n"
      ],
      "execution_count": null,
      "outputs": []
    },
    {
      "cell_type": "markdown",
      "metadata": {
        "id": "y0tJYA3w2Gzq"
      },
      "source": [
        "# いまここ\r\n",
        "\r\n",
        "https://www.tweag.io/blog/2017-09-27-array-package/"
      ]
    }
  ]
}