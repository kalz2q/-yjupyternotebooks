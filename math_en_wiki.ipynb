{
  "nbformat": 4,
  "nbformat_minor": 0,
  "metadata": {
    "colab": {
      "name": "math_en_wiki.ipynb",
      "provenance": [],
      "toc_visible": true,
      "authorship_tag": "ABX9TyMSkx/TdlVgZljbFdmiDFxz",
      "include_colab_link": true
    },
    "kernelspec": {
      "name": "python3",
      "display_name": "Python 3"
    },
    "language_info": {
      "name": "python"
    }
  },
  "cells": [
    {
      "cell_type": "markdown",
      "metadata": {
        "id": "view-in-github",
        "colab_type": "text"
      },
      "source": [
        "<a href=\"https://colab.research.google.com/github/kalz2q/mycolabnotebooks/blob/master/math_en_wiki.ipynb\" target=\"_parent\"><img src=\"https://colab.research.google.com/assets/colab-badge.svg\" alt=\"Open In Colab\"/></a>"
      ]
    },
    {
      "cell_type": "markdown",
      "source": [
        "# メモ"
      ],
      "metadata": {
        "id": "t09J2RIk4ya0"
      }
    },
    {
      "cell_type": "code",
      "source": [
        "# wikibooks mathematics\n",
        "# Basic Algebra\n",
        "# %%latex, python, sympy, matplotlib, numpy\n",
        "# 今の基本はコードセル上でpythonのコメント#と%%latexで書く。これで明示的explicitlyに書ける\n",
        "# 計算は python, sympy, matplotlib, numpy を使う"
      ],
      "metadata": {
        "id": "pQ2OK0jxdUK2"
      },
      "execution_count": null,
      "outputs": []
    },
    {
      "cell_type": "code",
      "source": [
        "# 四則演算\n",
        "%%latex\n",
        "y \\times x \\\\\n",
        "x \\div y"
      ],
      "metadata": {
        "id": "D07mOrfl6hOc",
        "outputId": "573b601e-76ca-47f9-d8e9-cd0fe8344d86",
        "colab": {
          "base_uri": "https://localhost:8080/",
          "height": 61
        }
      },
      "execution_count": 3,
      "outputs": [
        {
          "output_type": "display_data",
          "data": {
            "text/plain": [
              "<IPython.core.display.Latex object>"
            ],
            "text/latex": "y \\times x \\\\\nx \\div y\n"
          },
          "metadata": {}
        }
      ]
    },
    {
      "cell_type": "code",
      "execution_count": 10,
      "metadata": {
        "id": "yaRhsr134qjX",
        "outputId": "00249cdb-3f9a-4ec5-a7e9-f63b86f1bf10",
        "colab": {
          "base_uri": "https://localhost:8080/",
          "height": 61
        }
      },
      "outputs": [
        {
          "output_type": "display_data",
          "data": {
            "text/plain": [
              "<IPython.core.display.Latex object>"
            ],
            "text/latex": "x = 5 \\quad\\land\\quad y = 4 \\quad\\land\\quad z = x + y \\\\\n\\Rightarrow z =  5 + 4 = 9\n"
          },
          "metadata": {}
        }
      ],
      "source": [
        "# 問題 If x = 5 and y = 4 and z = x + y, what does z equal?\n",
        "%%latex\n",
        "x = 5 \\quad\\land\\quad y = 4 \\quad\\land\\quad z = x + y \\\\\n",
        "\\Rightarrow z =  5 + 4 = 9"
      ]
    },
    {
      "cell_type": "code",
      "source": [
        "# 問題\n",
        "# John collected 14 cans. Tim brought in 10 cans. \n",
        "# Suzy got 3 cans from her house and 15 more from her father's work.\n",
        "# How many cans of food did Suzy collect? \n",
        "# How many cans of food were collected by all three children? "
      ],
      "metadata": {
        "id": "3cmF8IYg9vzA"
      },
      "execution_count": null,
      "outputs": []
    },
    {
      "cell_type": "code",
      "source": [
        "# 問題\n",
        "# Billy broke a stick into 3 pieces. The first piece of the stick is 53 cm long. \n",
        "# The second piece of the stick is 29 cm long.\n",
        "# If the stick was 120 cm long before Billy broke it, how long is the third piece? "
      ],
      "metadata": {
        "id": "lYqO8hZN-6j4"
      },
      "execution_count": null,
      "outputs": []
    },
    {
      "cell_type": "code",
      "source": [
        "# 演算 operation\n",
        "# 演算子 operator  +, –, ×, ÷\n",
        "# 等号 = は演算子ではない\n",
        "# 5 + 6 = 11 \"five plus six equals eleven\"\n",
        "# add subtract mulitply divide\n",
        "%%latex\n",
        "+, -, \\times, \\div"
      ],
      "metadata": {
        "id": "tRLYZoQ4_KY6",
        "colab": {
          "base_uri": "https://localhost:8080/",
          "height": 37
        },
        "outputId": "66736468-ea9a-41a4-d755-56fe8071c088"
      },
      "execution_count": 11,
      "outputs": [
        {
          "output_type": "display_data",
          "data": {
            "text/plain": [
              "<IPython.core.display.Latex object>"
            ],
            "text/latex": "+, -, \\times, \\div\n"
          },
          "metadata": {}
        }
      ]
    },
    {
      "cell_type": "code",
      "source": [
        "# 指数と累乗 Exponents and Powers\n",
        "# 指数は上付き文字 superscript で表し、基数を掛ける数を表す\n",
        "# 基数 base (or radix) は掛けられる数を表す\n",
        "# 次の例では 5 が基数、2 が指数である\n",
        "%%latex\n",
        "5^{2}=25"
      ],
      "metadata": {
        "id": "C2ksKk4cRnLU",
        "outputId": "1be940a0-dd0c-4f27-d65a-91981df5a66a",
        "colab": {
          "base_uri": "https://localhost:8080/",
          "height": 37
        }
      },
      "execution_count": null,
      "outputs": [
        {
          "output_type": "display_data",
          "data": {
            "text/plain": [
              "<IPython.core.display.Latex object>"
            ],
            "text/latex": "5^{2}=25"
          },
          "metadata": {}
        }
      ]
    },
    {
      "cell_type": "code",
      "source": [
        "# Three times three equals three to the second power (or three squared)\n",
        "# 自乗\n",
        "%%latex\n",
        "3 \\times 3 = 3^{2}"
      ],
      "metadata": {
        "id": "n-GqQySvTaB1",
        "outputId": "92a186e1-c48a-4ae5-9348-ffe52923ac4b",
        "colab": {
          "base_uri": "https://localhost:8080/",
          "height": 37
        }
      },
      "execution_count": null,
      "outputs": [
        {
          "output_type": "display_data",
          "data": {
            "text/plain": [
              "<IPython.core.display.Latex object>"
            ],
            "text/latex": "3 \\times 3=3^{2}"
          },
          "metadata": {}
        }
      ]
    },
    {
      "cell_type": "code",
      "source": [
        "# Three times three times three equals three to the third power (or three cubed)\n",
        "%%latex\n",
        "\\displaystyle 3 \\times 3 \\times 3=3^{3}"
      ],
      "metadata": {
        "id": "en4x21LDT9co",
        "outputId": "a1b800cd-da2a-4e12-aed1-8fde8653c49b",
        "colab": {
          "base_uri": "https://localhost:8080/",
          "height": 37
        }
      },
      "execution_count": 17,
      "outputs": [
        {
          "output_type": "display_data",
          "data": {
            "text/plain": [
              "<IPython.core.display.Latex object>"
            ],
            "text/latex": "\\displaystyle 3 \\times 3 \\times 3=3^{3}\n"
          },
          "metadata": {}
        }
      ]
    },
    {
      "cell_type": "code",
      "source": [
        "# Three times three times three times three equal three to the fourth power\n",
        "%%latex\n",
        "\\displaystyle 3\\times 3\\times 3\\times 3=3^{4}"
      ],
      "metadata": {
        "id": "BWyorxOXUKKd",
        "outputId": "b8f33968-c55b-48d6-ad14-455d9e48ead0",
        "colab": {
          "base_uri": "https://localhost:8080/",
          "height": 37
        }
      },
      "execution_count": null,
      "outputs": [
        {
          "output_type": "display_data",
          "data": {
            "text/plain": [
              "<IPython.core.display.Latex object>"
            ],
            "text/latex": "\\displaystyle 3\\times 3\\times 3\\times 3=3^{4}"
          },
          "metadata": {}
        }
      ]
    },
    {
      "cell_type": "code",
      "source": [
        "# Two times two times two equals two to the third power\n",
        "%%latex\n",
        "\\displaystyle 2 \\times 2 \\times 2=2^{3}"
      ],
      "metadata": {
        "id": "KPNPu32qUcjg",
        "outputId": "dce935c5-5ade-4ba1-e8d7-4dbbeb1e1983",
        "colab": {
          "base_uri": "https://localhost:8080/",
          "height": 37
        }
      },
      "execution_count": null,
      "outputs": [
        {
          "output_type": "display_data",
          "data": {
            "text/plain": [
              "<IPython.core.display.Latex object>"
            ],
            "text/latex": "\\displaystyle 2 \\times 2 \\times 2=2^{3}"
          },
          "metadata": {}
        }
      ]
    },
    {
      "cell_type": "code",
      "source": [
        "# Note that any nonzero number raised to the 0 power is always equal to 1.\n",
        "# Two to the zero power equals one\n",
        "%%latex\n",
        "2^{0}=1"
      ],
      "metadata": {
        "id": "I4ZKOjCJUnZE",
        "outputId": "af1def69-517f-42ea-b155-cda688ef43e2",
        "colab": {
          "base_uri": "https://localhost:8080/",
          "height": 37
        }
      },
      "execution_count": null,
      "outputs": [
        {
          "output_type": "display_data",
          "data": {
            "text/plain": [
              "<IPython.core.display.Latex object>"
            ],
            "text/latex": "2^{0}=1"
          },
          "metadata": {}
        }
      ]
    },
    {
      "cell_type": "code",
      "source": [
        "# 負の指数 negative exponent\n",
        "%%latex\n",
        "% Two to the negative two equals one over two to the second power\n",
        "\\displaystyle 2^{-2} = \\frac {1}{2^{2}} = \\frac {1}{4}"
      ],
      "metadata": {
        "id": "g97o0owTUxPE",
        "outputId": "e2cac823-37dd-4ba6-d42e-619415a636af",
        "colab": {
          "base_uri": "https://localhost:8080/",
          "height": 51
        }
      },
      "execution_count": 18,
      "outputs": [
        {
          "output_type": "display_data",
          "data": {
            "text/plain": [
              "<IPython.core.display.Latex object>"
            ],
            "text/latex": "% Two to the negative two equals one over two to the second power\n\\displaystyle 2^{-2} = \\frac {1}{2^{2}} = \\frac {1}{4}\n"
          },
          "metadata": {}
        }
      ]
    },
    {
      "cell_type": "code",
      "source": [
        "# 問題 次の値を求めよ\n",
        "%%latex\n",
        "% Seven to the second power, or seven squared\n",
        "\\displaystyle 7^{2}"
      ],
      "metadata": {
        "id": "xZ095_vWqvO6",
        "outputId": "b62467f5-64b1-4ab2-9939-4bd8d02b6a36",
        "colab": {
          "base_uri": "https://localhost:8080/",
          "height": 37
        }
      },
      "execution_count": null,
      "outputs": [
        {
          "output_type": "display_data",
          "data": {
            "text/plain": [
              "<IPython.core.display.Latex object>"
            ],
            "text/latex": "% Seven to the second power, or seven squared\n\\displaystyle 7^{2}"
          },
          "metadata": {}
        }
      ]
    },
    {
      "cell_type": "code",
      "source": [
        "# 問題 1 辺の長さが 3 メートルの正方形の面積を求めよ\n",
        "# 面積 = (1 辺の長さ) ^ 2\n",
        "# 3 ^ 2 = 9"
      ],
      "metadata": {
        "id": "j5x99KeirX4T"
      },
      "execution_count": null,
      "outputs": []
    },
    {
      "cell_type": "code",
      "source": [
        "# where の使い方\n",
        "%%latex\n",
        "c^{2} \\quad \\text{where} \\quad {\\displaystyle c=6} \\\\\n",
        "6^{2} \\\\\n",
        "36"
      ],
      "metadata": {
        "id": "hnCSqkKKyxcW",
        "outputId": "65846c13-d771-4719-dfaf-ac8d26c3d6bf",
        "colab": {
          "base_uri": "https://localhost:8080/",
          "height": 79
        }
      },
      "execution_count": null,
      "outputs": [
        {
          "output_type": "display_data",
          "data": {
            "text/plain": [
              "<IPython.core.display.Latex object>"
            ],
            "text/latex": "c^{2} \\quad \\text{where} \\quad {\\displaystyle c=6} \\\\\n6^{2} \\\\\n36"
          },
          "metadata": {}
        }
      ]
    },
    {
      "cell_type": "code",
      "source": [
        "#\n",
        "%%latex\n",
        "x^{3} \\quad \\text{where} \\quad x=10 \\\\\n",
        "10^{3} \\\\\n",
        "1000"
      ],
      "metadata": {
        "id": "d9ftVCo7sjAU",
        "outputId": "e4c92876-2e25-4de8-bce7-9a4258f06852",
        "colab": {
          "base_uri": "https://localhost:8080/",
          "height": 79
        }
      },
      "execution_count": null,
      "outputs": [
        {
          "output_type": "display_data",
          "data": {
            "text/plain": [
              "<IPython.core.display.Latex object>"
            ],
            "text/latex": "x^{3} \\quad \\text{where} \\quad x=10 \\\\\n10^{3} \\\\\n1000"
          },
          "metadata": {}
        }
      ]
    },
    {
      "cell_type": "code",
      "source": [
        "# \n",
        "%%latex\n",
        "y^{4} \\quad \\text{where} \\quad y=2 \\\\\n",
        "2^{4} \\\\\n",
        "16"
      ],
      "metadata": {
        "id": "SlJ6bwIZr-Ds",
        "outputId": "d1081429-b9f2-44b2-b92c-3fc51e85a66d",
        "colab": {
          "base_uri": "https://localhost:8080/",
          "height": 79
        }
      },
      "execution_count": null,
      "outputs": [
        {
          "output_type": "display_data",
          "data": {
            "text/plain": [
              "<IPython.core.display.Latex object>"
            ],
            "text/latex": "y^{4} \\quad \\text{where} \\quad y=2 \\\\\n2^{4} \\\\\n16"
          },
          "metadata": {}
        }
      ]
    },
    {
      "cell_type": "code",
      "source": [
        "#\n",
        "%%latex\n",
        "3^{-3} \\\\[0.8em]\n",
        "\\displaystyle {\\frac {1}{3^{3}}} \\\\[0.8em]\n",
        "\\displaystyle {\\frac {1}{27}}"
      ],
      "metadata": {
        "id": "bpo_uPUWtPlX",
        "outputId": "93020e48-daac-4d7c-b274-a3187859a302",
        "colab": {
          "base_uri": "https://localhost:8080/",
          "height": 132
        }
      },
      "execution_count": null,
      "outputs": [
        {
          "output_type": "display_data",
          "data": {
            "text/plain": [
              "<IPython.core.display.Latex object>"
            ],
            "text/latex": "3^{-3} \\\\[0.8em]\n\\displaystyle {\\frac {1}{3^{3}}} \\\\[0.8em]\n\\displaystyle {\\frac {1}{27}}"
          },
          "metadata": {}
        }
      ]
    },
    {
      "cell_type": "code",
      "source": [
        "# \n",
        "%%latex\n",
        "\\displaystyle\n",
        "6^{2} \\\\\n",
        "2^{3} \\\\\n",
        "4^{2} \\\\\n",
        "9^{2} \\\\\n",
        "8^{2} \\\\\n",
        "5^{-3} \\\\\n",
        "6^{0} \\\\\n",
        "7^{2} \\\\\n",
        "12^{2} \\\\\n",
        "2^{4} \\\\"
      ],
      "metadata": {
        "id": "auoqpj8_tc7x",
        "outputId": "d470d2ea-70be-416b-bf3a-8e8c6705adac",
        "colab": {
          "base_uri": "https://localhost:8080/",
          "height": 220
        }
      },
      "execution_count": null,
      "outputs": [
        {
          "output_type": "display_data",
          "data": {
            "text/plain": [
              "<IPython.core.display.Latex object>"
            ],
            "text/latex": "\\displaystyle\n6^{2} \\\\\n2^{3} \\\\\n4^{2} \\\\\n9^{2} \\\\\n8^{2} \\\\\n5^{-3} \\\\\n6^{0} \\\\\n7^{2} \\\\\n12^{2} \\\\\n2^{4} \\\\"
          },
          "metadata": {}
        }
      ]
    },
    {
      "cell_type": "code",
      "source": [
        "# 演算の優先度 => PEMDAS\n",
        "# Please Excuse My Dear Aunt Sally\n",
        "# P: Parenthesis 括弧\n",
        "# E: Exponents 指数\n",
        "# M: Multiplying 乗算\n",
        "# D: Dividing 除算\n",
        "# A: Adding 加算\n",
        "# S=Subtracting 減算\n",
        "# UK -- BODMAS/BIDMAS -- Bracket, Order/Indices, Division, Multiplication, Addition, Subtraction\n",
        "%%latex\n",
        "3 + 4 \\times 5"
      ],
      "metadata": {
        "id": "BnEzMAB_uuqe",
        "outputId": "170eeae9-59e7-4f33-ab67-21b9a4658b5c",
        "colab": {
          "base_uri": "https://localhost:8080/",
          "height": 37
        }
      },
      "execution_count": null,
      "outputs": [
        {
          "output_type": "display_data",
          "data": {
            "text/plain": [
              "<IPython.core.display.Latex object>"
            ],
            "text/latex": "3 + 4 \\times 5"
          },
          "metadata": {}
        }
      ]
    },
    {
      "cell_type": "code",
      "source": [
        "%%latex\n",
        "5+x^{3} \\quad \\text{where} \\quad x=2 \\\\\n",
        "=5+2^{3} \\\\\n",
        "=5+(2\\times 2\\times 2) \\\\\n",
        "=5+8 \\\\\n",
        "=13 \\\\"
      ],
      "metadata": {
        "id": "c4-b_EYRN8RM",
        "outputId": "55809831-a7f7-449d-f4d1-c2be962c696a",
        "colab": {
          "base_uri": "https://localhost:8080/",
          "height": 120
        }
      },
      "execution_count": null,
      "outputs": [
        {
          "output_type": "display_data",
          "data": {
            "text/plain": [
              "<IPython.core.display.Latex object>"
            ],
            "text/latex": "5+x^{3} \\quad \\text{where} \\quad x=2 \\\\\n=5+2^{3} \\\\\n=5+(2\\times 2\\times 2) \\\\\n=5+8 \\\\\n=13 \\\\"
          },
          "metadata": {}
        }
      ]
    },
    {
      "cell_type": "code",
      "source": [
        "%%latex\n",
        "(5+x)^{3}  \\quad \\text{where} \\quad x=2 \\\\\n",
        "=(5+2)^{3} \\\\\n",
        "=7^{3} \\\\\n",
        "=343 \\\\"
      ],
      "metadata": {
        "id": "qajGRaP5QIRr",
        "outputId": "78afe09b-eeef-4f28-ee8a-6c6c407e196d",
        "colab": {
          "base_uri": "https://localhost:8080/",
          "height": 100
        }
      },
      "execution_count": null,
      "outputs": [
        {
          "output_type": "display_data",
          "data": {
            "text/plain": [
              "<IPython.core.display.Latex object>"
            ],
            "text/latex": "(5+x)^{3}  \\quad \\text{where} \\quad x=2 \\\\\n=(5+2)^{3} \\\\\n=7^{3} \\\\\n=343 \\\\"
          },
          "metadata": {}
        }
      ]
    },
    {
      "cell_type": "code",
      "source": [
        "%%latex\n",
        "\\displaystyle\n",
        "{\\frac {6}{x}}+3 \\quad \\text{where} \\quad x=3 \\\\[0.8em]\n",
        "={\\frac {6}{3}}+3 \\\\[0.8em]\n",
        "=2+3 \\\\[0.8em]\n",
        "=5 \\\\[0.8em]"
      ],
      "metadata": {
        "id": "xebdlpChQnTB",
        "outputId": "97022597-db43-4afb-e402-22e140635994",
        "colab": {
          "base_uri": "https://localhost:8080/",
          "height": 180
        }
      },
      "execution_count": null,
      "outputs": [
        {
          "output_type": "display_data",
          "data": {
            "text/plain": [
              "<IPython.core.display.Latex object>"
            ],
            "text/latex": "\\displaystyle\n{\\frac {6}{x}}+3 \\quad \\text{where} \\quad x=3 \\\\[0.8em]\n={\\frac {6}{3}}+3 \\\\[0.8em]\n=2+3 \\\\[0.8em]\n=5 \\\\[0.8em]"
          },
          "metadata": {}
        }
      ]
    },
    {
      "cell_type": "code",
      "source": [
        "%%latex\n",
        "\\displaystyle\n",
        "{\\frac {6}{x+3}} \\quad \\text{where} \\quad x=3 \\\\[0.8em]\n",
        "={\\frac {6}{3+3}} \\\\[0.8em]\n",
        "={\\frac {6}{6}} \\\\[0.8em]\n",
        "=1 \\\\[0.8em]"
      ],
      "metadata": {
        "id": "DeVsOcehQz1i",
        "outputId": "0e6fd5c5-2d5f-4aec-e721-121740e18579",
        "colab": {
          "base_uri": "https://localhost:8080/",
          "height": 196
        }
      },
      "execution_count": null,
      "outputs": [
        {
          "output_type": "display_data",
          "data": {
            "text/plain": [
              "<IPython.core.display.Latex object>"
            ],
            "text/latex": "\\displaystyle\n{\\frac {6}{x+3}} \\quad \\text{where} \\quad x=3 \\\\[0.8em]\n={\\frac {6}{3+3}} \\\\[0.8em]\n={\\frac {6}{6}} \\\\[0.8em]\n=1 \\\\[0.8em]"
          },
          "metadata": {}
        }
      ]
    },
    {
      "cell_type": "code",
      "source": [
        "%%latex\n",
        "8-x+2 \\quad \\text{where} \\quad x=3 \\\\\n",
        "=8-3+2 \\\\\n",
        "=5+2 \\\\\n",
        "=7 \\\\"
      ],
      "metadata": {
        "id": "Lk6BTQjKRDpR",
        "outputId": "3819b20f-68eb-44b2-8d38-b41dc2513bb3",
        "colab": {
          "base_uri": "https://localhost:8080/",
          "height": 100
        }
      },
      "execution_count": null,
      "outputs": [
        {
          "output_type": "display_data",
          "data": {
            "text/plain": [
              "<IPython.core.display.Latex object>"
            ],
            "text/latex": "8-x+2 \\quad \\text{where} \\quad x=3 \\\\\n=8-3+2 \\\\\n=5+2 \\\\\n=7 \\\\"
          },
          "metadata": {}
        }
      ]
    },
    {
      "cell_type": "code",
      "source": [
        "%%latex\n",
        "8-(x+2) \\quad \\text{where} \\quad x=3 \\\\\n",
        "=8-(3+2) \\\\\n",
        "=8-5 \\\\\n",
        "=3 \\\\"
      ],
      "metadata": {
        "id": "94Yz0i5ZRVNy",
        "outputId": "0ebcab93-5473-4f30-f662-84e5423e040b",
        "colab": {
          "base_uri": "https://localhost:8080/",
          "height": 100
        }
      },
      "execution_count": null,
      "outputs": [
        {
          "output_type": "display_data",
          "data": {
            "text/plain": [
              "<IPython.core.display.Latex object>"
            ],
            "text/latex": "8-(x+2) \\quad \\text{where} \\quad x=3 \\\\\n=8-(3+2) \\\\\n=8-5 \\\\\n=3 \\\\"
          },
          "metadata": {}
        }
      ]
    },
    {
      "cell_type": "code",
      "source": [
        "%%latex \n",
        "3+4 \\times 5 \\\\\n",
        "= 23 \\\\\n",
        "(3+4) \\times 5 \\\\\n",
        "= 35 \\\\"
      ],
      "metadata": {
        "id": "Qj_klIqGR4LY",
        "outputId": "083ccfc5-5b1f-4830-c56f-b44e2d297572",
        "colab": {
          "base_uri": "https://localhost:8080/",
          "height": 98
        }
      },
      "execution_count": null,
      "outputs": [
        {
          "output_type": "display_data",
          "data": {
            "text/plain": [
              "<IPython.core.display.Latex object>"
            ],
            "text/latex": "3+4 \\times 5 \\\\\n= 23 \\\\\n(3+4) \\times 5 \\\\\n= 35 \\\\"
          },
          "metadata": {}
        }
      ]
    },
    {
      "cell_type": "code",
      "source": [
        "%%latex\n",
        "62 × (8 – 6) \\\\\n",
        "8 + 6 × 32 \\\\\n",
        "32 / 23 + 4 \\\\\n",
        "8 + 32 / 16 \\\\\n",
        "6 +(4 / 2) 2 × 8 \\\\"
      ],
      "metadata": {
        "id": "NgNdIj0bPtd9",
        "outputId": "c8834595-d2b3-4875-d346-f63d3382bbda",
        "colab": {
          "base_uri": "https://localhost:8080/",
          "height": 119
        }
      },
      "execution_count": null,
      "outputs": [
        {
          "output_type": "display_data",
          "data": {
            "text/plain": [
              "<IPython.core.display.Latex object>"
            ],
            "text/latex": "62 × (8 – 6) \\\\\n8 + 6 × 32 \\\\\n32 / 23 + 4 \\\\\n8 + 32 / 16 \\\\\n6 +(4 / 2) 2 × 8 \\\\"
          },
          "metadata": {}
        }
      ]
    },
    {
      "cell_type": "code",
      "source": [
        "# 変数 variable\n",
        "# 項 term 数や文字の積の形を項と言う。項の和として表される式を多項式と言う。\n",
        "%%latex\n",
        "a, x, y, \\theta \\\\\n",
        "3 + x"
      ],
      "metadata": {
        "id": "4eajtWRHSnQU",
        "colab": {
          "base_uri": "https://localhost:8080/",
          "height": 60
        },
        "outputId": "2abf2840-1ba3-44db-a42b-ab4e955a59b3"
      },
      "execution_count": null,
      "outputs": [
        {
          "output_type": "display_data",
          "data": {
            "text/plain": [
              "<IPython.core.display.Latex object>"
            ],
            "text/latex": "a, x, y, \\theta \\\\\n3 + x"
          },
          "metadata": {}
        }
      ]
    },
    {
      "cell_type": "code",
      "source": [
        "%%latex\n",
        "3x \\\\\n",
        "5-y \\\\\n",
        "2\\div s \\\\[0.8em]\n",
        "\\displaystyle\n",
        "\\frac {2}{s}"
      ],
      "metadata": {
        "colab": {
          "base_uri": "https://localhost:8080/",
          "height": 130
        },
        "id": "MrlE0fXcVxta",
        "outputId": "9e2e4c05-da20-4280-d55a-19ccde9d3cc7"
      },
      "execution_count": null,
      "outputs": [
        {
          "output_type": "display_data",
          "data": {
            "text/plain": [
              "<IPython.core.display.Latex object>"
            ],
            "text/latex": "3x \\\\\n5-y \\\\\n2\\div s \\\\[0.8em]\n\\displaystyle\n\\frac {2}{s} \\\\"
          },
          "metadata": {}
        }
      ]
    },
    {
      "cell_type": "code",
      "source": [
        "# 式 expression は項と項を区切る演算子から成る\n",
        "%%latex\n",
        "\\displaystyle\n",
        "3+5 \\\\[0.8em]\n",
        "\\frac {6}{x} \\\\[0.8em]\n",
        "6x+5"
      ],
      "metadata": {
        "colab": {
          "base_uri": "https://localhost:8080/",
          "height": 120
        },
        "id": "i6wttwqnV-4q",
        "outputId": "325db992-0d6e-44c6-c476-483d81101e8b"
      },
      "execution_count": null,
      "outputs": [
        {
          "output_type": "display_data",
          "data": {
            "text/plain": [
              "<IPython.core.display.Latex object>"
            ],
            "text/latex": "\\displaystyle\n3+5 \\\\[0.8em]\n\\frac {6}{x} \\\\[0.8em]\n6x+5"
          },
          "metadata": {}
        }
      ]
    },
    {
      "cell_type": "code",
      "source": [
        "%%latex\n",
        "3 \\div 6 \\\\\n",
        "8 \\times x \\\\\n",
        "x \\times 6+y \\\\\n",
        "a \\times b \\times c \\times d \\\\"
      ],
      "metadata": {
        "id": "BO1Nn56Y--G8",
        "outputId": "0ce2c56a-bda3-473c-cc88-0a47d3ebd1f8",
        "colab": {
          "base_uri": "https://localhost:8080/",
          "height": 102
        }
      },
      "execution_count": null,
      "outputs": [
        {
          "output_type": "display_data",
          "data": {
            "text/plain": [
              "<IPython.core.display.Latex object>"
            ],
            "text/latex": "3 \\div 6 \\\\\n8 \\times x \\\\\nx \\times 6+y \\\\\na \\times b \\times c \\times d \\\\"
          },
          "metadata": {}
        }
      ]
    },
    {
      "cell_type": "code",
      "source": [
        "%%latex\n",
        "3+4 \\quad \\text{evaluates to} \\quad 7 \\\\\n",
        "18 \\div 3 \\quad \\text{evaluates to} \\quad 6 \\\\\n",
        "4 \\times 5-3 \\quad \\text{evaluates to} \\quad 17"
      ],
      "metadata": {
        "id": "oa6KUHKZS85b",
        "outputId": "fe71cb70-a5cc-4305-e0d5-db17d13ab35b",
        "colab": {
          "base_uri": "https://localhost:8080/",
          "height": 78
        }
      },
      "execution_count": null,
      "outputs": [
        {
          "output_type": "display_data",
          "data": {
            "text/plain": [
              "<IPython.core.display.Latex object>"
            ],
            "text/latex": "3+4 \\quad \\text{evaluates to} \\quad 7 \\\\\n18 \\div 3 \\quad \\text{evaluates to} \\quad 6 \\\\\n4 \\times 5-3 \\quad \\text{evaluates to} \\quad 17"
          },
          "metadata": {}
        }
      ]
    },
    {
      "cell_type": "code",
      "source": [
        "# Examples of substituting: (Substitute 3 for x in these examples.)\n",
        "%%latex\n",
        "x+4 \\quad \\text{is} \\quad 3+4 \\\\\n",
        "18 \\div x \\quad \\text{is} \\quad 18 \\div 3 \\\\\n",
        "4 \\times 5-x \\quad \\text{is} \\quad 4\\times 5-3"
      ],
      "metadata": {
        "id": "pkWNaTNzTjRE",
        "outputId": "fc62921d-b33c-47ee-c3ce-20e0dba33940",
        "colab": {
          "base_uri": "https://localhost:8080/",
          "height": 82
        }
      },
      "execution_count": null,
      "outputs": [
        {
          "output_type": "display_data",
          "data": {
            "text/plain": [
              "<IPython.core.display.Latex object>"
            ],
            "text/latex": "x+4 \\quad \\text{is} \\quad 3+4 \\\\\n18 \\div x \\quad \\text{is} \\quad 18 \\div 3 \\\\\n4 \\times 5-x \\quad \\text{is} \\quad 4\\times 5-3"
          },
          "metadata": {}
        }
      ]
    },
    {
      "cell_type": "code",
      "source": [
        "# Evaluate the following expressions\n",
        "%%latex\n",
        "\\displaystyle\n",
        "5 \\times x \\\\\n",
        "When x=2  \\\\\n",
        "5\\times 2  \\\\\n",
        "Substitute 2 for x  \\\\\n",
        "10  \\\\\n",
        "Evaluate 5\\times 2  \\\\[0.8em]\n",
        "\\frac {x}{3}+y  \\\\\n",
        "When x=9 and y=4  \\\\\n",
        "\\frac {9}{3}+4  \\\\\n",
        "Substitute 9 for x and substitute 4 for y \\\\\n",
        "7  \\\\\n",
        "Evaluate \\frac {9}{3}+4 to get the answer.  \\\\"
      ],
      "metadata": {
        "id": "F6qHChb0UFRh",
        "colab": {
          "base_uri": "https://localhost:8080/",
          "height": 319
        },
        "outputId": "fa768d7c-bbb7-42ed-be31-7c33dd172475"
      },
      "execution_count": null,
      "outputs": [
        {
          "output_type": "display_data",
          "data": {
            "text/plain": [
              "<IPython.core.display.Latex object>"
            ],
            "text/latex": "\\displaystyle\n5 \\times x \\\\\nWhen x=2  \\\\\n5\\times 2  \\\\\nSubstitute 2 for x  \\\\\n10  \\\\\nEvaluate 5\\times 2  \\\\[0.8em]\n\\frac {x}{3}+y  \\\\\nWhen x=9 and y=4  \\\\\n\\frac {9}{3}+4  \\\\\nSubstitute 9 for x and substitute 4 for y \\\\\n7  \\\\\nEvaluate \\frac {9}{3}+4 to get the answer.  \\\\"
          },
          "metadata": {}
        }
      ]
    },
    {
      "cell_type": "code",
      "source": [
        "# Evaluate each expression if a = 1, b = 2, c = 3, and d = 5\n",
        "%%latex\n",
        "5\\times b \\\\[0.8em]\n",
        "9\\times c \\\\[0.8em]\n",
        "c-2 \\\\[0.8em]\n",
        "d-5 \\\\[0.8em]\n",
        "\\displaystyle\n",
        "\\frac {b}{2} \\\\[0.8em]\n",
        "\\frac {36}{c} \\\\[0.8em]\n",
        "b\\times c+2 \\\\[0.8em]\n",
        "b\\times c\\times d-5"
      ],
      "metadata": {
        "id": "7-QieCBCUuYZ",
        "colab": {
          "base_uri": "https://localhost:8080/",
          "height": 310
        },
        "outputId": "bf98a843-82cb-40d5-97d6-70e0cd6ba56f"
      },
      "execution_count": null,
      "outputs": [
        {
          "output_type": "display_data",
          "data": {
            "text/plain": [
              "<IPython.core.display.Latex object>"
            ],
            "text/latex": "5\\times b \\\\[0.8em]\n9\\times c \\\\[0.8em]\nc-2 \\\\[0.8em]\nd-5 \\\\[0.8em]\n\\displaystyle\n\\frac {b}{2} \\\\[0.8em]\n\\frac {36}{c} \\\\[0.8em]\nb\\times c+2 \\\\[0.8em]\nb\\times c\\times d-5"
          },
          "metadata": {}
        }
      ]
    },
    {
      "cell_type": "code",
      "source": [
        "# Evaluate each expression if x = 4, y = 2, and z = 3\n",
        "%%latex\n",
        "x+y \\\\[0.8em]\n",
        "2z \\\\[0.8em]\n",
        "xz \\\\[0.8em]\n",
        "x+y+z \\\\[0.8em]\n",
        "xy+z \\\\[0.8em]\n",
        "yz-x \\\\[0.8em]\n",
        "\\displaystyle\n",
        "\\frac {6}{y}+z \\\\[0.8em]\n",
        "\\frac {2x}{2+y} \\\\[0.8em]"
      ],
      "metadata": {
        "colab": {
          "base_uri": "https://localhost:8080/",
          "height": 329
        },
        "id": "6OswHLdl_nHF",
        "outputId": "718bf6bb-9471-4c09-f1c4-35ef084128ba"
      },
      "execution_count": null,
      "outputs": [
        {
          "output_type": "display_data",
          "data": {
            "text/plain": [
              "<IPython.core.display.Latex object>"
            ],
            "text/latex": "x+y \\\\[0.8em]\n2z \\\\[0.8em]\nxz \\\\[0.8em]\nx+y+z \\\\[0.8em]\nxy+z \\\\[0.8em]\nyz-x \\\\[0.8em]\n\\displaystyle\n\\frac {6}{y}+z \\\\[0.8em]\n\\frac {2x}{2+y} \\\\[0.8em]"
          },
          "metadata": {}
        }
      ]
    },
    {
      "cell_type": "code",
      "source": [
        "# Evaluate each expression if x = 5, y = 8, and z = 9\n",
        "%%latex\n",
        "\\displaystyle\n",
        "(2+x)\\times y \\\\[0.8em]\n",
        "\\frac {3y-9}{5} \\\\[0.8em]\n",
        "\\frac {27}{x+4}-(y-5) \\\\[0.8em]\n",
        "\\frac {z+12}{2x-3}+y \\\\[0.8em]\n",
        "\\left({\\frac {6x}{2+y}}-z\\right)+\\left(x-{\\frac {z}{3}}\\right) \\\\[0.8em]"
      ],
      "metadata": {
        "colab": {
          "base_uri": "https://localhost:8080/",
          "height": 252
        },
        "id": "gDHtVxvpAdrX",
        "outputId": "c49a486d-66e5-45e6-c18d-6a004907cdbc"
      },
      "execution_count": null,
      "outputs": [
        {
          "output_type": "display_data",
          "data": {
            "text/plain": [
              "<IPython.core.display.Latex object>"
            ],
            "text/latex": "\\displaystyle\n(2+x)\\times y \\\\[0.8em]\n\\frac {3y-9}{5} \\\\[0.8em]\n\\frac {27}{x+4}-(y-5) \\\\[0.8em]\n\\frac {z+12}{2x-3}+y \\\\[0.8em]\n\\left({\\frac {6x}{2+y}}-z\\right)+\\left(x-{\\frac {z}{3}}\\right) \\\\[0.8em]"
          },
          "metadata": {}
        }
      ]
    },
    {
      "cell_type": "code",
      "source": [
        "# 負の数\n",
        "%%latex\n",
        "7+(-4)=7-4 \\\\\n",
        "x+(-y)=x-y \\\\\n",
        "7-(-4)=7+4 \\\\\n",
        "x-(-y)=x+y"
      ],
      "metadata": {
        "id": "e--v46LfBRTe",
        "outputId": "97b8ccaf-7787-4256-9c5a-a44f45a0faad",
        "colab": {
          "base_uri": "https://localhost:8080/",
          "height": 102
        }
      },
      "execution_count": null,
      "outputs": [
        {
          "output_type": "display_data",
          "data": {
            "text/plain": [
              "<IPython.core.display.Latex object>"
            ],
            "text/latex": "7+(-4)=7-4 \\\\\nx+(-y)=x-y \\\\\n7-(-4)=7+4 \\\\\nx-(-y)=x+y \\\\"
          },
          "metadata": {}
        }
      ]
    },
    {
      "cell_type": "code",
      "source": [
        "%%latex\n",
        "(-2)\\times 3=-6 \\\\\n",
        "2\\times (-3)=-6"
      ],
      "metadata": {
        "id": "jRc6bbzCo6Vh",
        "outputId": "9b185633-3197-47e0-94e2-34c992ebfc7d",
        "colab": {
          "base_uri": "https://localhost:8080/",
          "height": 58
        }
      },
      "execution_count": null,
      "outputs": [
        {
          "output_type": "display_data",
          "data": {
            "text/plain": [
              "<IPython.core.display.Latex object>"
            ],
            "text/latex": "(-2)\\times 3=-6 \\\\\n2\\times (-3)=-6 \\\\"
          },
          "metadata": {}
        }
      ]
    },
    {
      "cell_type": "code",
      "source": [
        "%%latex\n",
        "(-2)\\times (-3)=6 \\\\\n",
        "(-6)\\div 3=-2 \\\\\n",
        "6\\div (-3)=-2 \\\\\n",
        "(-6)\\div (-3)=2"
      ],
      "metadata": {
        "id": "TS6z6sxRpIeI",
        "outputId": "031f7a65-97f5-41ab-eb14-8d1ab96a232a",
        "colab": {
          "base_uri": "https://localhost:8080/",
          "height": 98
        }
      },
      "execution_count": null,
      "outputs": [
        {
          "output_type": "display_data",
          "data": {
            "text/plain": [
              "<IPython.core.display.Latex object>"
            ],
            "text/latex": "(-2)\\times (-3)=6 \\\\\n(-6)\\div 3=-2 \\\\\n6\\div (-3)=-2 \\\\\n(-6)\\div (-3)=2 \\\\"
          },
          "metadata": {}
        }
      ]
    },
    {
      "cell_type": "code",
      "source": [
        "# 指数計算\n",
        "%%latex\n",
        "(-3)^{2}=9 \\\\\n",
        "(-x)^{2}=(-x)\\times (-x)=x^{2} \\\\\n",
        "(-2)^{3}=-8 \\\\\n",
        "(-x)^{3}=(-x)\\times (-x)\\times (-x)=x^{2}\\times (-x)=-x^{3}"
      ],
      "metadata": {
        "id": "cclmTUlFpUpT",
        "outputId": "2aae740d-d8ab-4b88-871a-7c7511e1bef8",
        "colab": {
          "base_uri": "https://localhost:8080/",
          "height": 102
        }
      },
      "execution_count": null,
      "outputs": [
        {
          "output_type": "display_data",
          "data": {
            "text/plain": [
              "<IPython.core.display.Latex object>"
            ],
            "text/latex": "(-3)^{2}=9 \\\\\n(-x)^{2}=(-x)\\times (-x)=x^{2} \\\\\n(-2)^{3}=-8 \\\\\n(-x)^{3}=(-x)\\times (-x)\\times (-x)=x^{2}\\times (-x)=-x^{3}"
          },
          "metadata": {}
        }
      ]
    },
    {
      "cell_type": "code",
      "source": [
        "# 演算順序\n",
        "%%latex\n",
        "3+8\\div 4=3+2=5 \\\\\n",
        "-3^{2}=-(3\\times 3)=-9 \\\\\n",
        "(-3)^{2}=(-3)\\times (-3)=9"
      ],
      "metadata": {
        "id": "0Z-XSHXzpvTQ",
        "outputId": "8c4e8eb1-c49b-4690-a4d6-e4539a6ccfdc",
        "colab": {
          "base_uri": "https://localhost:8080/",
          "height": 78
        }
      },
      "execution_count": null,
      "outputs": [
        {
          "output_type": "display_data",
          "data": {
            "text/plain": [
              "<IPython.core.display.Latex object>"
            ],
            "text/latex": "3+8\\div 4=3+2=5 \\\\\n-3^{2}=-(3\\times 3)=-9 \\\\\n(-3)^{2}=(-3)\\times (-3)=9"
          },
          "metadata": {}
        }
      ]
    },
    {
      "cell_type": "code",
      "source": [
        "# 問題\n",
        "%%latex\n",
        "4+(-4)=0 \\\\\n",
        "4+(-7)=-3 \\\\\n",
        "0+(-2)=-2 \\\\\n",
        "-5+7-2\\times (-4)=10"
      ],
      "metadata": {
        "id": "OuCu3R80p9cl",
        "outputId": "2e8893df-2cae-45c8-82bf-1aea6c98b6a0",
        "colab": {
          "base_uri": "https://localhost:8080/",
          "height": 98
        }
      },
      "execution_count": null,
      "outputs": [
        {
          "output_type": "display_data",
          "data": {
            "text/plain": [
              "<IPython.core.display.Latex object>"
            ],
            "text/latex": "4+(-4)=0 \\\\\n4+(-7)=-3 \\\\\n0+(-2)=-2 \\\\\n-5+7-2\\times (-4)=10"
          },
          "metadata": {}
        }
      ]
    },
    {
      "cell_type": "code",
      "source": [
        "%%latex\n",
        "\\displaystyle\n",
        "6+(-3) \\\\\n",
        "3+(-9) \\\\\n",
        "-4 \\times 4 \\\\\n",
        "4\\times (-9) \\\\\n",
        "-2\\times (-4) \\\\\n",
        "\\frac {-25}{5^{2}} \\\\\n",
        "-4\\div 2 \\\\"
      ],
      "metadata": {
        "id": "TZvM6rXmqEVb",
        "outputId": "7834ea56-7957-47fd-afe8-bd11972a35a9",
        "colab": {
          "base_uri": "https://localhost:8080/",
          "height": 173
        }
      },
      "execution_count": null,
      "outputs": [
        {
          "output_type": "display_data",
          "data": {
            "text/plain": [
              "<IPython.core.display.Latex object>"
            ],
            "text/latex": "\\displaystyle\n6+(-3) \\\\\n3+(-9) \\\\\n-4 \\times 4 \\\\\n4\\times (-9) \\\\\n-2\\times (-4) \\\\\n\\frac {-25}{5^{2}} \\\\\n-4\\div 2 \\\\"
          },
          "metadata": {}
        }
      ]
    },
    {
      "cell_type": "code",
      "source": [
        "# 方程式 equation の変形\n",
        "# 交換法則 commutative property\n",
        "# 結合法則 associative property\n",
        "# 分配法則 distributive property\n",
        "%%latex\n",
        "\\displaystyle\n",
        "\\text{Find} \\quad x \\quad \\text{where} \\quad y=6 \\\\[0.8em]\n",
        "\\frac {x+y}{2}=14 \\\\[0.8em]\n",
        "\\frac {x+6}{2}=14 \\\\[0.8em]\n",
        "2\\left({\\frac {x+6}{2}}\\right)=2(14) \\\\[0.8em]\n",
        "x+6=28 \\\\[0.8em]\n",
        "x+6-6=28-6 \\\\[0.8em]\n",
        "x=22 \\\\[0.8em]"
      ],
      "metadata": {
        "id": "ngQLqvAh4TaC",
        "outputId": "0a7fda17-430e-450a-d894-9a7123532327",
        "colab": {
          "base_uri": "https://localhost:8080/",
          "height": 306
        }
      },
      "execution_count": null,
      "outputs": [
        {
          "output_type": "display_data",
          "data": {
            "text/plain": [
              "<IPython.core.display.Latex object>"
            ],
            "text/latex": "\\displaystyle\n\\text{Find} \\quad x \\quad \\text{where} \\quad y=6 \\\\[0.8em]\n\\frac {x+y}{2}=14 \\\\[0.8em]\n\\frac {x+6}{2}=14 \\\\[0.8em]\n2\\left({\\frac {x+6}{2}}\\right)=2(14) \\\\[0.8em]\nx+6=28 \\\\[0.8em]\nx+6-6=28-6 \\\\[0.8em]\nx=22 \\\\[0.8em]"
          },
          "metadata": {}
        }
      ]
    },
    {
      "cell_type": "code",
      "source": [
        "%%latex\n",
        "\\displaystyle\n",
        "(x-3y)+2x=15 \\\\\n",
        "(x-3\\times 6)+2x=15 \\\\\n",
        "(x-18)+2x=15 \\\\\n",
        "x-18+2x=15 \\\\\n",
        "3x-18=15 \\\\\n",
        "3x-18+18=15+18 \\\\\n",
        "3x=33 \\\\\n",
        "\\frac {3x}{3}=\\frac {33}{3} \\\\\n",
        "x=11"
      ],
      "metadata": {
        "id": "ygOOlCWwGthh",
        "colab": {
          "base_uri": "https://localhost:8080/",
          "height": 226
        },
        "outputId": "f0c55780-f601-4dd9-ba77-1ee56c123620"
      },
      "execution_count": null,
      "outputs": [
        {
          "output_type": "display_data",
          "data": {
            "text/plain": [
              "<IPython.core.display.Latex object>"
            ],
            "text/latex": "\\displaystyle\n(x-3y)+2x=15 \\\\\n(x-3\\times 6)+2x=15 \\\\\n(x-18)+2x=15 \\\\\nx-18+2x=15 \\\\\n3x-18=15 \\\\\n3x-18+18=15+18 \\\\\n3x=33 \\\\\n\\frac {3x}{3}=\\frac {33}{3} \\\\\nx=11"
          },
          "metadata": {}
        }
      ]
    },
    {
      "cell_type": "code",
      "source": [
        "%%latex\n",
        "\\displaystyle\n",
        "\\frac {15-y}{x}=y^{2} \\\\\n",
        "\\frac {15-6}{x}=6^{2} \\\\\n",
        "\\frac {9}{x}=36 \\\\\n",
        "9=36x \\\\\n",
        "x=\\frac {9}{36} \\\\\n",
        "x=\\frac {1}{4} \\quad \\text{or} \\quad 0.25"
      ],
      "metadata": {
        "colab": {
          "base_uri": "https://localhost:8080/",
          "height": 209
        },
        "id": "MqxU5qKA3n0z",
        "outputId": "e710bcc3-e741-447b-a76f-8106c8d7da59"
      },
      "execution_count": null,
      "outputs": [
        {
          "output_type": "display_data",
          "data": {
            "text/plain": [
              "<IPython.core.display.Latex object>"
            ],
            "text/latex": "\\displaystyle\n\\frac {15-y}{x}=y^{2} \\\\\n\\frac {15-6}{x}=6^{2} \\\\\n\\frac {9}{x}=36 \\\\\n9=36x \\\\\nx=\\frac {9}{36} \\\\\nx=\\frac {1}{4} \\quad \\text{or} \\quad 0.25"
          },
          "metadata": {}
        }
      ]
    },
    {
      "cell_type": "code",
      "source": [
        "%%latex\n",
        "\\displaystyle\n",
        "\\text{Find} \\quad x \\quad \\text{where} \\quad y=9 \\\\\n",
        "x=8\\left(\\frac {y}{3} \\right) \\\\\n",
        "x-4=8+y \\\\\n",
        "\\frac {14+x}{y}=3 \\\\\n",
        "\\frac {15-y}{x} = y^{2} \\\\\n",
        "\\frac {1+y^{2}}{x-4}=17-y^{2} \\\\\n",
        "x+7-(y-9)=43y+3x-y^{2} \\\\\n",
        "\\frac {12-x(45-y)}{y^{2}-67}=84"
      ],
      "metadata": {
        "colab": {
          "base_uri": "https://localhost:8080/",
          "height": 263
        },
        "id": "DZktpFKt5BXl",
        "outputId": "321e0373-6c04-4fa7-96c1-43db1e3dada3"
      },
      "execution_count": null,
      "outputs": [
        {
          "output_type": "display_data",
          "data": {
            "text/plain": [
              "<IPython.core.display.Latex object>"
            ],
            "text/latex": "\\displaystyle\n\\text{Find} \\quad x \\quad \\text{where} \\quad y=9 \\\\\nx=8\\left(\\frac {y}{3} \\right) \\\\\nx-4=8+y \\\\\n\\frac {14+x}{y}=3 \\\\\n\\frac {15-y}{x} = y^{2} \\\\\n\\frac {1+y^{2}}{x-4}=17-y^{2} \\\\\nx+7-(y-9)=43y+3x-y^{2} \\\\\n\\frac {12-x(45-y)}{y^{2}-67}=84"
          },
          "metadata": {}
        }
      ]
    },
    {
      "cell_type": "code",
      "source": [
        "# 整数と数直線 integer (whole number) and number line\n",
        "import matplotlib.pyplot as plt\n",
        "import numpy as np\n",
        "\n",
        "fig = plt.figure(figsize=(12,2))\n",
        "ax = fig.add_subplot(xlim=(-12,12), ylim=(0, 1.0))\n",
        "\n",
        "# blue arrow\n",
        "ax.arrow(-11, 0.5, 22, 0.0, head_width=0.1, head_length=0.2, linewidth=1, length_includes_head=True)\n",
        "ax.arrow(11, 0.5, -22, 0, head_width=0.1, head_length=0.2, linewidth=1, length_includes_head=True)\n",
        "\n",
        "x = [-10,-9,-8,-7,-6,-5,-4,-3,-2,-1,0,1,2,3,4,5,6,7,8,9,10]\n",
        "y = [0.5, 0.5, 0.5, 0.5, 0.5, 0.5, 0.5,0.5, 0.5, 0.5, 0.5, 0.5, 0.5, 0.5,0.5, 0.5, 0.5, 0.5, 0.5, 0.5, 0.5]\n",
        "data_name = [\"-10\",\"-9\",\"-8\",\"-7\",\"-6\",\"-5\",\"-4\",\"-3\",\"-2\",\"-1\",\"0\",\"1\",\"2\",\"3\",\"4\",\"5\",\"6\",\"7\",\"8\",\"9\",\"10\"]\n",
        "ax.plot(x, y, 'r|', ms=\"10\")\n",
        "\n",
        "xy = zip (x, y)\n",
        "xy_name = zip (xy, data_name)\n",
        "for (i, name) in zip (xy, data_name) :\n",
        "    ax.annotate(name,i, xycoords='data', xytext=(-3,-20), textcoords='offset points', fontsize=10)\n",
        "\n",
        "ax.set_axis_off()\n",
        "plt.show()"
      ],
      "metadata": {
        "colab": {
          "base_uri": "https://localhost:8080/",
          "height": 140
        },
        "id": "L8k7yOPg5U_O",
        "outputId": "99031e0b-3dfe-439f-ca08-ae7b892e0020"
      },
      "execution_count": null,
      "outputs": [
        {
          "output_type": "display_data",
          "data": {
            "text/plain": [
              "<Figure size 864x144 with 1 Axes>"
            ],
            "image/png": "[encoded data removed]"
          },
          "metadata": {
            "needs_background": "light"
          }
        }
      ]
    },
    {
      "cell_type": "code",
      "source": [
        "# 絶対値 absolute value, modulus\n",
        "%%latex\n",
        "|x| \\\\\n",
        "|-5+1\\times 3|=|-5+3|=|-2|=2 \\\\"
      ],
      "metadata": {
        "id": "b5Qdqp8Xm-Cm",
        "outputId": "f9ef7f24-3afb-44d4-c240-ee46a987168a",
        "colab": {
          "base_uri": "https://localhost:8080/",
          "height": 59
        }
      },
      "execution_count": null,
      "outputs": [
        {
          "output_type": "display_data",
          "data": {
            "text/plain": [
              "<IPython.core.display.Latex object>"
            ],
            "text/latex": "|x| \\\\\n|-5+1\\times 3|=|-5+3|=|-2|=2 \\\\"
          },
          "metadata": {}
        }
      ]
    },
    {
      "cell_type": "markdown",
      "source": [
        "# いまここ"
      ],
      "metadata": {
        "id": "i075TnhyyTXL"
      }
    },
    {
      "cell_type": "code",
      "source": [
        "%%latex\n",
        "{\\displaystyle |0|=0}{\\displaystyle |0|=0}\n",
        "{\\displaystyle -|-21|=-21}{\\displaystyle -|-21|=-21}\n",
        "{\\displaystyle |7-1|+9=|6|+9=6+9=15}{\\displaystyle |7-1|+9=|6|+9=6+9=15}\n",
        "{\\displaystyle |0.5|=0.5}{\\displaystyle |0.5|=0.5}\n",
        "{\\displaystyle |-5\\times 3|=|-15|=15}{\\displaystyle |-5\\times 3|=|-15|=15}\n",
        "{\\displaystyle \\left|{\\frac {-2}{3}}\\right|={\\frac {2}{3}}}{\\displaystyle \\left|{\\frac {-2}{3}}\\right|={\\frac {2}{3}}}\n",
        "{\\displaystyle |25-16|=|9|=9}{\\displaystyle |25-16|=|9|=9}\n",
        "{\\displaystyle |9|=9}{\\displaystyle |9|=9}\n",
        "{\\displaystyle |3.5-5.7|=|-2.2|=2.2}{\\displaystyle |3.5-5.7|=|-2.2|=2.2}\n",
        "{\\displaystyle |-11.5|=11.5}{\\displaystyle |-11.5|=11.5}\n",
        "{\\displaystyle 5-|3|=5-3=2}{\\displaystyle 5-|3|=5-3=2}\n",
        "{\\displaystyle -|6.7|=-6.7}{\\displaystyle -|6.7|=-6.7}\n",
        "{\\displaystyle 8+|-6\\times 2|=8+|-12|=8+12=20}{\\displaystyle 8+|-6\\times 2|=8+|-12|=8+12=20}\n",
        "\n",
        "\n",
        "|-3|=\n",
        "\n",
        "2\n",
        "\n",
        "|6|=\n",
        "\n",
        "3\n",
        "\n",
        "|-1.8|=\n",
        "\n",
        "4\n",
        "\n",
        "|-27|=\n",
        "\n",
        "5\n",
        "\n",
        "|5/7|=\n",
        "\n",
        "6\n",
        "\n",
        "-|12|=\n",
        "\n",
        "7\n",
        "\n",
        "|0|=\n",
        "\n",
        "8\n",
        "\n",
        "|-3 + 8|=\n",
        "\n",
        "9\n",
        "\n",
        "|9 + 3|=\n",
        "\n",
        "10\n",
        "\n",
        "|-5 + 1|=\n",
        "\n",
        "11\n",
        "\n",
        "|2 - 5|=\n",
        "\n",
        "12\n",
        "\n",
        "|7| + 2=\n",
        "\n",
        "13\n",
        "\n",
        "|13| - 21=\n",
        "\n",
        "14\n",
        "\n",
        "|-5| - 1=\n",
        "\n",
        "15\n",
        "\n",
        "3 - |-2|=\n",
        "\n",
        "16\n",
        "\n",
        "9 + |-3|=\n",
        "\n",
        "17\n",
        "\n",
        "|1 - 6| + 5=\n",
        "\n",
        "18\n",
        "\n",
        "-5 - 1 + |6|=\n",
        "\n",
        "19\n",
        "\n",
        "-6 + |-5 - 1|=\n",
        "\n",
        "20\n",
        "\n",
        "12 - | 3(-5) + 6|=\n",
        "\n",
        "\n"
      ],
      "metadata": {
        "id": "uglQKxRrANIZ"
      },
      "execution_count": null,
      "outputs": []
    },
    {
      "cell_type": "code",
      "source": [],
      "metadata": {
        "id": "Dd7FpbSvANDx"
      },
      "execution_count": null,
      "outputs": []
    },
    {
      "cell_type": "markdown",
      "source": [
        "# EOF"
      ],
      "metadata": {
        "id": "--D7rrFpyXiy"
      }
    }
  ]
}