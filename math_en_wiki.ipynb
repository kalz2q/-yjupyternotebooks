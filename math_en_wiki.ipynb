{
  "nbformat": 4,
  "nbformat_minor": 0,
  "metadata": {
    "colab": {
      "name": "math_en_wiki.ipynb",
      "provenance": [],
      "authorship_tag": "ABX9TyNk0Mjtaih+uVBXDn3zwp93",
      "include_colab_link": true
    },
    "kernelspec": {
      "name": "python3",
      "display_name": "Python 3"
    },
    "language_info": {
      "name": "python"
    }
  },
  "cells": [
    {
      "cell_type": "markdown",
      "metadata": {
        "id": "view-in-github",
        "colab_type": "text"
      },
      "source": [
        "<a href=\"https://colab.research.google.com/github/kalz2q/mycolabnotebooks/blob/master/math_en_wiki.ipynb\" target=\"_parent\"><img src=\"https://colab.research.google.com/assets/colab-badge.svg\" alt=\"Open In Colab\"/></a>"
      ]
    },
    {
      "cell_type": "markdown",
      "source": [
        "# メモ"
      ],
      "metadata": {
        "id": "t09J2RIk4ya0"
      }
    },
    {
      "cell_type": "code",
      "source": [
        "# wikibooks mathematics\n",
        "# Basic Algebra"
      ],
      "metadata": {
        "id": "pQ2OK0jxdUK2"
      },
      "execution_count": null,
      "outputs": []
    },
    {
      "cell_type": "code",
      "source": [
        "# The sum of two unknown numbers can be written as {x+y}\n",
        "# The difference of two unknown numbers can be written as {x-y}\n",
        "# The quotient of two unknown numbers can be written as {x\\div y}\n",
        "# The product of two unknown numbers can be written as {x\\times y}\n",
        "# Keep in mind that {x+y} is the same as {y+x} and \n",
        "# {x\\times y}x\\times y is the same as {y\\times x}.\n",
        "# However, {x-y} is not the same as {y-x}\n",
        "# and {x\\div y} is not the same as {y\\div x}\n",
        "%%latex\n",
        "x \\div y"
      ],
      "metadata": {
        "id": "D07mOrfl6hOc",
        "outputId": "a1b0c9f1-5779-42c9-d382-59d966615c17",
        "colab": {
          "base_uri": "https://localhost:8080/",
          "height": 39
        }
      },
      "execution_count": 3,
      "outputs": [
        {
          "output_type": "display_data",
          "data": {
            "text/plain": [
              "<IPython.core.display.Latex object>"
            ],
            "text/latex": "x \\div y"
          },
          "metadata": {}
        }
      ]
    },
    {
      "cell_type": "code",
      "execution_count": 10,
      "metadata": {
        "id": "yaRhsr134qjX",
        "outputId": "d4d89ec2-8dca-4c73-e61a-73e8fa732a5b",
        "colab": {
          "base_uri": "https://localhost:8080/",
          "height": 60
        }
      },
      "outputs": [
        {
          "output_type": "display_data",
          "data": {
            "text/plain": [
              "<IPython.core.display.Latex object>"
            ],
            "text/latex": "x = 5 \\land y = 4 \\\\\nz = x + y = 5 + 4 = 9"
          },
          "metadata": {}
        }
      ],
      "source": [
        "# practice problwm If x = 5 and y = 4 and z = x + y, what does z equal?\n",
        "%%latex\n",
        "x = 5 \\land y = 4 \\\\\n",
        "z = x + y = 5 + 4 = 9"
      ]
    },
    {
      "cell_type": "code",
      "source": [
        "# John collected 14 cans. Tim brought in 10 cans. \n",
        "# Suzy got 3 cans from her house and 15 more from her father's work.\n",
        "# How many cans of food did Suzy collect? \n",
        "# How many cans of food were collected by all three children? "
      ],
      "metadata": {
        "id": "3cmF8IYg9vzA"
      },
      "execution_count": null,
      "outputs": []
    },
    {
      "cell_type": "code",
      "source": [
        "# Billy broke a stick into 3 pieces. The first piece of the stick is 53 cm long. \n",
        "# The second piece of the stick is 29 cm long.\n",
        "# If the stick was 120 cm long before Billy broke it, how long is the third piece? "
      ],
      "metadata": {
        "id": "lYqO8hZN-6j4"
      },
      "execution_count": null,
      "outputs": []
    },
    {
      "cell_type": "code",
      "source": [
        "\n",
        "[dismiss]\n",
        "Nuvola apps package games.pngThe Wikibooks community has accepted video game strategy guides on this wiki! See Wikibooks:Strategy guides for the newly-created policy on strategy games. We're looking forward to your contributions.\n",
        "Basic Algebra/Introduction to Basic Algebra Ideas/Simple Operations\n",
        "< Basic Algebra\n",
        "Jump to navigationJump to search\n",
        "\n",
        "Contents\n",
        "1\tVocabulary\n",
        "2\tLesson\n",
        "2.1\tAdding\n",
        "2.2\tSubtracting\n",
        "2.3\tMultiplying\n",
        "2.4\tDividing\n",
        "3\tExample Problems\n",
        "4\tPractice Games\n",
        "5\tPractice Problems\n",
        "Vocabulary\n",
        "Operation\n",
        "Equals Sign\n",
        "Adding\n",
        "Subtracting\n",
        "Multiplying\n",
        "Dividing\n",
        "Lesson\n",
        "An operation is a thing you do to numbers. You use signs like: +, –, ×, or ÷ for operations.\n",
        "\n",
        "The equals sign is not an operation. You use the \" = \" sign for the equals sign. It is a special sign that you put between two things that are the same.\n",
        "\n",
        "Adding\n",
        "Adding is a way to put two numbers together. You use the \" + \" sign for the adding operation. If you have 5 apples and a friend has 6 apples, you and your friend have 11 apples. This is 5 + 6 = 11 using the signs of Mathematics, and is read \"five plus six equals eleven\".\n",
        "\n",
        "Order is not important when adding. 2 + 3 is the same as 3 + 2.\n",
        "\n",
        "Subtracting\n",
        "Subtracting is a way of taking a number from another number. It is the opposite of adding. You use the \" – \" sign for the subtracting operation. If you have 5 apples and give 3 to a friend, you then have 2 apples left. This is 5 – 3 = 2 using the signs of Mathematics, and is read \"five minus three equals two\".\n",
        "\n",
        "Order is important when subtracting. 3 – 2 is not the same as 2 – 3.\n",
        "\n",
        "Multiplying\n",
        "Multiplying is a way of adding a number many times. You use the \" × \", \" • \" or \" * \" sign for the multiplying operation. If you have 4 apple trees and every tree has 25 apples, you have 100 apples. This is 4 × 25 = 100 or 25 + 25 + 25 + 25 = 100 in the signs of Mathematics. The first way is shorter and easier to use.\n",
        "\n",
        "Multiplying 25 by 4 is the same as adding 25, 4 times or adding 4, 25 times.\n",
        "\n",
        "4 x 25 = 100 should be read \"four times twenty-five equals one hundred\".\n",
        "\n",
        "Order is not important when multiplying. 2 × 3 is the same as 3 × 2.\n",
        "\n",
        "Dividing\n",
        "Dividing is a way of subtracting a number many times. It is the opposite of multiplying. You use the \" ÷ \" or \" / \" sign for the dividing operation. If 3 friends take an equal part of a bag of 12 apples, every friend gets 4 apples. Or, you may take away (subtract) 3 apples from the bag of 12 apples, exactly 4 times until the bag is empty. This is 12 ÷ 3 = 4 or 12 – 3 – 3 – 3 – 3 = 0 in the signs of Mathematics.\n",
        "\n",
        "12 ÷ 3 = 4 should be read \"twelve divided by three equals 4\".\n",
        "\n",
        "Order is important when dividing. 3 ÷ 2 is not the same as 2 ÷ 3.\n",
        "\n",
        "Example Problems\n",
        "3 + 4 = 7\n",
        "5 – 3 = 2\n",
        "6 × 2 = 12\n",
        "13 + 14 = 27\n",
        "21 – 9 = 12\n",
        "8 × 3 = 24\n",
        "Practice Games\n",
        "Arcademics Grand Prix (Multiplication)\n",
        "Arcademics Jet Ski (Addition)\n",
        "Arcademics Sailboat (Subtraction)\n",
        "Arcademics Drag Race (Division)\n",
        "Practice Problems\n",
        "Evaluate the following expressions:\n",
        "1\n",
        "\n",
        "6 + 8 = \n",
        "\n",
        "2\n",
        "\n",
        "3 + 4 = \n",
        "\n",
        "3\n",
        "\n",
        "10 + 15 = \n",
        "\n",
        "4\n",
        "\n",
        "28 + 13 = \n",
        "\n",
        "5\n",
        "\n",
        "12 - 5 = \n",
        "\n",
        "6\n",
        "\n",
        "16 - 3 = \n",
        "\n",
        "7\n",
        "\n",
        "7 × 5 = \n",
        "\n",
        "8\n",
        "\n",
        "8 × 4 = \n",
        "\n",
        "9\n",
        "\n",
        "6 × 6 = \n",
        "\n",
        "10\n",
        "\n",
        "14 ÷ 7 = \n",
        "\n",
        "11\n",
        "\n",
        "15 ÷ 3 = \n",
        "\n",
        "12\n",
        "\n",
        "40 ÷ 5 = \n"
      ],
      "metadata": {
        "id": "tRLYZoQ4_KY6"
      },
      "execution_count": null,
      "outputs": []
    }
  ]
}