{
  "nbformat": 4,
  "nbformat_minor": 0,
  "metadata": {
    "colab": {
      "name": "math_en_wiki.ipynb",
      "provenance": [],
      "toc_visible": true,
      "authorship_tag": "ABX9TyPSJZENahQ5B5+rhNZnvuZy",
      "include_colab_link": true
    },
    "kernelspec": {
      "name": "python3",
      "display_name": "Python 3"
    },
    "language_info": {
      "name": "python"
    }
  },
  "cells": [
    {
      "cell_type": "markdown",
      "metadata": {
        "id": "view-in-github",
        "colab_type": "text"
      },
      "source": [
        "<a href=\"https://colab.research.google.com/github/kalz2q/mycolabnotebooks/blob/master/math_en_wiki.ipynb\" target=\"_parent\"><img src=\"https://colab.research.google.com/assets/colab-badge.svg\" alt=\"Open In Colab\"/></a>"
      ]
    },
    {
      "cell_type": "markdown",
      "source": [
        "# メモ"
      ],
      "metadata": {
        "id": "t09J2RIk4ya0"
      }
    },
    {
      "cell_type": "code",
      "source": [
        "# wikibooks mathematics\n",
        "# Basic Algebra"
      ],
      "metadata": {
        "id": "pQ2OK0jxdUK2"
      },
      "execution_count": null,
      "outputs": []
    },
    {
      "cell_type": "code",
      "source": [
        "# The sum of two unknown numbers can be written as {x+y}\n",
        "# The difference of two unknown numbers can be written as {x-y}\n",
        "# The quotient of two unknown numbers can be written as {x\\div y}\n",
        "# The product of two unknown numbers can be written as {x\\times y}\n",
        "# Keep in mind that {x+y} is the same as {y+x} and \n",
        "# {x\\times y}x\\times y is the same as {y\\times x}.\n",
        "# However, {x-y} is not the same as {y-x}\n",
        "# and {x\\div y} is not the same as {y\\div x}\n",
        "%%latex\n",
        "x \\div y"
      ],
      "metadata": {
        "id": "D07mOrfl6hOc",
        "outputId": "a1b0c9f1-5779-42c9-d382-59d966615c17",
        "colab": {
          "base_uri": "https://localhost:8080/",
          "height": 39
        }
      },
      "execution_count": null,
      "outputs": [
        {
          "output_type": "display_data",
          "data": {
            "text/plain": [
              "<IPython.core.display.Latex object>"
            ],
            "text/latex": "x \\div y"
          },
          "metadata": {}
        }
      ]
    },
    {
      "cell_type": "code",
      "execution_count": null,
      "metadata": {
        "id": "yaRhsr134qjX",
        "outputId": "d4d89ec2-8dca-4c73-e61a-73e8fa732a5b",
        "colab": {
          "base_uri": "https://localhost:8080/",
          "height": 60
        }
      },
      "outputs": [
        {
          "output_type": "display_data",
          "data": {
            "text/plain": [
              "<IPython.core.display.Latex object>"
            ],
            "text/latex": "x = 5 \\land y = 4 \\\\\nz = x + y = 5 + 4 = 9"
          },
          "metadata": {}
        }
      ],
      "source": [
        "# practice problwm If x = 5 and y = 4 and z = x + y, what does z equal?\n",
        "%%latex\n",
        "x = 5 \\land y = 4 \\\\\n",
        "z = x + y = 5 + 4 = 9"
      ]
    },
    {
      "cell_type": "code",
      "source": [
        "# 問題\n",
        "# John collected 14 cans. Tim brought in 10 cans. \n",
        "# Suzy got 3 cans from her house and 15 more from her father's work.\n",
        "# How many cans of food did Suzy collect? \n",
        "# How many cans of food were collected by all three children? "
      ],
      "metadata": {
        "id": "3cmF8IYg9vzA"
      },
      "execution_count": null,
      "outputs": []
    },
    {
      "cell_type": "code",
      "source": [
        "# 問題\n",
        "# Billy broke a stick into 3 pieces. The first piece of the stick is 53 cm long. \n",
        "# The second piece of the stick is 29 cm long.\n",
        "# If the stick was 120 cm long before Billy broke it, how long is the third piece? "
      ],
      "metadata": {
        "id": "lYqO8hZN-6j4"
      },
      "execution_count": null,
      "outputs": []
    },
    {
      "cell_type": "code",
      "source": [
        "# 演算 operation\n",
        "# 演算子 operator  +, –, ×, ÷\n",
        "# 等号 = は演算子ではない\n",
        "# 5 + 6 = 11 \"five plus six equals eleven\"\n",
        "# add subtract mulitply divide"
      ],
      "metadata": {
        "id": "tRLYZoQ4_KY6"
      },
      "execution_count": null,
      "outputs": []
    },
    {
      "cell_type": "code",
      "source": [
        "# 指数と累乗 Exponents and Powers\n",
        "# 指数は上付き文字 superscript で表し、基数を掛ける数を表す\n",
        "# 基数 Base (or radix) は掛けられる数を表す\n",
        "# 次の例では 5 が基数、2 が指数である\n",
        "%%latex\n",
        "5^{2}=25"
      ],
      "metadata": {
        "id": "C2ksKk4cRnLU",
        "outputId": "1be940a0-dd0c-4f27-d65a-91981df5a66a",
        "colab": {
          "base_uri": "https://localhost:8080/",
          "height": 37
        }
      },
      "execution_count": 1,
      "outputs": [
        {
          "output_type": "display_data",
          "data": {
            "text/plain": [
              "<IPython.core.display.Latex object>"
            ],
            "text/latex": "5^{2}=25"
          },
          "metadata": {}
        }
      ]
    },
    {
      "cell_type": "code",
      "source": [
        "# Three times three equals three to the second power (or three squared)\n",
        "%%latex\n",
        "3 \\times 3=3^{2}"
      ],
      "metadata": {
        "id": "n-GqQySvTaB1",
        "outputId": "92a186e1-c48a-4ae5-9348-ffe52923ac4b",
        "colab": {
          "base_uri": "https://localhost:8080/",
          "height": 37
        }
      },
      "execution_count": 2,
      "outputs": [
        {
          "output_type": "display_data",
          "data": {
            "text/plain": [
              "<IPython.core.display.Latex object>"
            ],
            "text/latex": "3 \\times 3=3^{2}"
          },
          "metadata": {}
        }
      ]
    },
    {
      "cell_type": "code",
      "source": [
        "# Three times three times three equals three to the third power (or three cubed)\n",
        "%%latex\n",
        "\\displaystyle 3 \\times 3 \\times 3=3^{3}"
      ],
      "metadata": {
        "id": "en4x21LDT9co",
        "outputId": "51a8ded1-f22b-4ea6-e69f-a9ce67dc5bea",
        "colab": {
          "base_uri": "https://localhost:8080/",
          "height": 37
        }
      },
      "execution_count": 4,
      "outputs": [
        {
          "output_type": "display_data",
          "data": {
            "text/plain": [
              "<IPython.core.display.Latex object>"
            ],
            "text/latex": "\\displaystyle 3 \\times 3 \\times 3=3^{3}"
          },
          "metadata": {}
        }
      ]
    },
    {
      "cell_type": "code",
      "source": [
        "# Three times three times three times three equal three to the fourth power\n",
        "%%latex\n",
        "\\displaystyle 3\\times 3\\times 3\\times 3=3^{4}"
      ],
      "metadata": {
        "id": "BWyorxOXUKKd",
        "outputId": "b8f33968-c55b-48d6-ad14-455d9e48ead0",
        "colab": {
          "base_uri": "https://localhost:8080/",
          "height": 37
        }
      },
      "execution_count": 5,
      "outputs": [
        {
          "output_type": "display_data",
          "data": {
            "text/plain": [
              "<IPython.core.display.Latex object>"
            ],
            "text/latex": "\\displaystyle 3\\times 3\\times 3\\times 3=3^{4}"
          },
          "metadata": {}
        }
      ]
    },
    {
      "cell_type": "code",
      "source": [
        "# Two times two times two equals two to the third power\n",
        "%%latex\n",
        "\\displaystyle 2 \\times 2 \\times 2=2^{3}"
      ],
      "metadata": {
        "id": "KPNPu32qUcjg",
        "outputId": "dce935c5-5ade-4ba1-e8d7-4dbbeb1e1983",
        "colab": {
          "base_uri": "https://localhost:8080/",
          "height": 37
        }
      },
      "execution_count": 6,
      "outputs": [
        {
          "output_type": "display_data",
          "data": {
            "text/plain": [
              "<IPython.core.display.Latex object>"
            ],
            "text/latex": "\\displaystyle 2 \\times 2 \\times 2=2^{3}"
          },
          "metadata": {}
        }
      ]
    },
    {
      "cell_type": "code",
      "source": [
        "# Note that any nonzero number raised to the 0 power is always equal to 1.\n",
        "# Two to the zero power equals one\n",
        "%%latex\n",
        "2^{0}=1"
      ],
      "metadata": {
        "id": "I4ZKOjCJUnZE",
        "outputId": "af1def69-517f-42ea-b155-cda688ef43e2",
        "colab": {
          "base_uri": "https://localhost:8080/",
          "height": 37
        }
      },
      "execution_count": 9,
      "outputs": [
        {
          "output_type": "display_data",
          "data": {
            "text/plain": [
              "<IPython.core.display.Latex object>"
            ],
            "text/latex": "2^{0}=1"
          },
          "metadata": {}
        }
      ]
    },
    {
      "cell_type": "code",
      "source": [
        "\n",
        "\n",
        "We can also raise any number to a negative exponent. This is called the inverse exponent and places the number on the bottom of a fraction with a 1 on top:\n",
        "\n",
        "{\\displaystyle 2^{-2}={\\frac {1}{2^{2}}}={\\frac {1}{4}}}{\\displaystyle 2^{-2}={\\frac {1}{2^{2}}}={\\frac {1}{4}}}\n",
        "Two to the negative two equals one over two to the second power\n",
        "Example Problems\n",
        "Let's evaluate these expressions.\n",
        "\n",
        "{\\displaystyle 7^{2}}{\\displaystyle 7^{2}}\n",
        "{\\displaystyle 7\\times 7}{\\displaystyle 7\\times 7}\n",
        "Seven to the second power, or seven squared, means seven times seven.\n",
        "{\\displaystyle 49}49\n",
        "Seven times seven is forty-nine.\n",
        "Seven to the second power equals forty-nine.\n",
        "\n",
        "What is the area of a square with a side of 3 meters length?\n",
        "Area = (length of the side)2\n",
        "The area, or space inside, of a square is equal to the length of the side of the square to the second power.\n",
        "(3 meters)2\n",
        "The length of the side is 3 meters, so the area is (3 meters) squared.\n",
        "{\\displaystyle 3\\times 3}{\\displaystyle 3\\times 3} meters2\n",
        "3 squared is the same as 3 times 3.\n",
        "9 square meters\n",
        "Three times three is nine.\n",
        "So, the area of a square with a side length of 3 meters is 9 square meters.\n",
        "\n",
        "{\\displaystyle c^{2}}{\\displaystyle c^{2}} where {\\displaystyle c=6}{\\displaystyle c=6}\n",
        "{\\displaystyle 6^{2}}{\\displaystyle 6^{2}}\n",
        "First, we replace the variable \"c\" in the expression with 6, which is what it equals.\n",
        "{\\displaystyle 6\\times 6}{\\displaystyle 6\\times 6}\n",
        "6 squared equals 6 times 6.\n",
        "{\\displaystyle 36}{\\displaystyle 36}\n",
        "6 times 6 equals 36.\n",
        "So, c squared is 36.\n",
        "\n",
        "{\\displaystyle x^{3}}{\\displaystyle x^{3}} where {\\displaystyle x=10}{\\displaystyle x=10}.\n",
        "{\\displaystyle 10^{3}}{\\displaystyle 10^{3}}\n",
        "First, we replace the variable \"x\" in the expression with 10, which is what it equals.\n",
        "{\\displaystyle 10\\times 10\\times 10}{\\displaystyle 10\\times 10\\times 10}\n",
        "10 to the third power, or 10 cubed, is equal to 10 times 10 times 10.\n",
        "{\\displaystyle 100\\times 10}{\\displaystyle 100\\times 10}\n",
        "10 times 10 equals 100.\n",
        "{\\displaystyle 1000}{\\displaystyle 1000}\n",
        "100 times 10 equals 1000.\n",
        "So, x to the third power is 1000.\n",
        "\n",
        "{\\displaystyle y^{4}}{\\displaystyle y^{4}} where {\\displaystyle y=2}{\\displaystyle y=2}\n",
        "{\\displaystyle 2^{4}}{\\displaystyle 2^{4}}\n",
        "First, we replace the variable \"y\" in the expression with 2, which is what it equals.\n",
        "{\\displaystyle 2\\times 2\\times 2\\times 2}{\\displaystyle 2\\times 2\\times 2\\times 2}\n",
        "2 to the fourth power is equal to 2 times 2 times 2 times 2.\n",
        "{\\displaystyle 4\\times 2\\times 2}{\\displaystyle 4\\times 2\\times 2}\n",
        "2 times 2 equals 4.\n",
        "{\\displaystyle 8\\times 2}{\\displaystyle 8\\times 2}\n",
        "4 times 2 equals 8.\n",
        "{\\displaystyle 16}{\\displaystyle 16}\n",
        "And 8 times 2 equals 16.\n",
        "So, y to the fourth is 16.\n",
        "\n",
        "{\\displaystyle 3^{-3}}{\\displaystyle 3^{-3}}\n",
        "{\\displaystyle {\\frac {1}{3^{3}}}}{\\displaystyle {\\frac {1}{3^{3}}}}\n",
        "Three to the negative third power, which can be expressed as 1 over three cubed.\n",
        "{\\displaystyle {\\frac {1}{27}}}{\\displaystyle {\\frac {1}{27}}}\n",
        "Three cubed equals 3 times 3 times 3 which equals 27.\n",
        "So, three to the negative third power equals one twenty-seventh.\n",
        "Practice Games\n",
        "http://www.math.com/school/subject2/practice/S2U2L2/S2U2L2Pract.html\n",
        "http://www.quia.com/pop/50485.html (scientific notation)\n",
        "http://www.softschools.com/math/games/exponents_practice.jsp\n",
        "http://www.quia.com/quiz/358716.html (King Kong Scientific Notation)\n",
        "http://www.shodor.org/interactivate/activities/OrderOfOperationsFou/ (order of operations including exponents)\n",
        "Practice Problems\n",
        "Use / as the fraction line!\n",
        "\n",
        "Evaluate the following expressions:\n",
        "1\n",
        "\n",
        "{\\displaystyle 6^{2}=}{\\displaystyle 6^{2}=}\n",
        "\n",
        "2\n",
        "\n",
        "{\\displaystyle 2^{3}=}{\\displaystyle 2^{3}=}\n",
        "\n",
        "3\n",
        "\n",
        "{\\displaystyle 4^{2}=}{\\displaystyle 4^{2}=}\n",
        "\n",
        "4\n",
        "\n",
        "{\\displaystyle 5^{3}=}{\\displaystyle 5^{3}=}\n",
        "\n",
        "5\n",
        "\n",
        "{\\displaystyle 2^{4}=}{\\displaystyle 2^{4}=}\n",
        "\n",
        "6\n",
        "\n",
        "{\\displaystyle 9^{2}=}{\\displaystyle 9^{2}=}\n",
        "\n",
        "7\n",
        "\n",
        "{\\displaystyle 8^{2}=}{\\displaystyle 8^{2}=}\n",
        "\n",
        "8\n",
        "\n",
        "{\\displaystyle 5^{-3}=}{\\displaystyle 5^{-3}=}\n",
        "\n",
        "9\n",
        "\n",
        "{\\displaystyle 6^{0}=}{\\displaystyle 6^{0}=}\n",
        "\n",
        "10\n",
        "\n",
        "{\\displaystyle 7^{2}=}{\\displaystyle 7^{2}=}\n",
        "\n",
        "11\n",
        "\n",
        "{\\displaystyle 12^{2}=}{\\displaystyle 12^{2}=}\n",
        "\n",
        "12\n",
        "\n",
        "{\\displaystyle 2^{4}=}{\\displaystyle 2^{4}=}\n",
        "\n",
        "\n",
        "\n",
        "«\tBasic Algebra\n",
        "Exponents and Powers\t»\n",
        "Simple Operations\tOrder of Operations\n",
        "Category: Book:Basic Algebra\n",
        "Navigation menu\n",
        "Not logged in\n",
        "Discussion for this IP address\n",
        "Contributions\n",
        "Create account\n",
        "Log in\n",
        "BookDiscussion\n",
        "ReadEditEdit sourceView history\n",
        "Search\n",
        "Search Wikibooks\n",
        "Main Page\n",
        "Help\n",
        "Browse\n",
        "Cookbook\n",
        "Wikijunior\n",
        "Featured books\n",
        "Recent changes\n",
        "Donations\n",
        "Random book\n",
        "Using Wikibooks\n",
        "Community\n",
        "Reading room forum\n",
        "Community portal\n",
        "Bulletin Board\n",
        "Help out!\n",
        "Policies and guidelines\n",
        "Contact us\n",
        "Tools\n",
        "What links here\n",
        "Related changes\n",
        "Upload file\n",
        "Special pages\n",
        "Permanent link\n",
        "Page information\n",
        "Cite this page\n",
        "Sister projects\n",
        "Wikipedia"
      ],
      "metadata": {
        "id": "g97o0owTUxPE"
      },
      "execution_count": null,
      "outputs": []
    }
  ]
}