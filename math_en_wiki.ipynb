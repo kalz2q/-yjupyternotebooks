{
  "nbformat": 4,
  "nbformat_minor": 0,
  "metadata": {
    "colab": {
      "name": "math_en_wiki.ipynb",
      "provenance": [],
      "toc_visible": true,
      "authorship_tag": "ABX9TyPRwpjEpmRWfP3lthqGQhTw",
      "include_colab_link": true
    },
    "kernelspec": {
      "name": "python3",
      "display_name": "Python 3"
    },
    "language_info": {
      "name": "python"
    }
  },
  "cells": [
    {
      "cell_type": "markdown",
      "metadata": {
        "id": "view-in-github",
        "colab_type": "text"
      },
      "source": [
        "<a href=\"https://colab.research.google.com/github/kalz2q/mycolabnotebooks/blob/master/math_en_wiki.ipynb\" target=\"_parent\"><img src=\"https://colab.research.google.com/assets/colab-badge.svg\" alt=\"Open In Colab\"/></a>"
      ]
    },
    {
      "cell_type": "markdown",
      "source": [
        "# メモ"
      ],
      "metadata": {
        "id": "t09J2RIk4ya0"
      }
    },
    {
      "cell_type": "code",
      "source": [
        "# wikibooks mathematics\n",
        "# Basic Algebra"
      ],
      "metadata": {
        "id": "pQ2OK0jxdUK2"
      },
      "execution_count": null,
      "outputs": []
    },
    {
      "cell_type": "code",
      "source": [
        "# The sum of two unknown numbers can be written as {x+y}\n",
        "# The difference of two unknown numbers can be written as {x-y}\n",
        "# The quotient of two unknown numbers can be written as {x\\div y}\n",
        "# The product of two unknown numbers can be written as {x\\times y}\n",
        "# Keep in mind that {x+y} is the same as {y+x} and \n",
        "# {x\\times y}x\\times y is the same as {y\\times x}.\n",
        "# However, {x-y} is not the same as {y-x}\n",
        "# and {x\\div y} is not the same as {y\\div x}\n",
        "%%latex\n",
        "x \\div y"
      ],
      "metadata": {
        "id": "D07mOrfl6hOc",
        "outputId": "a1b0c9f1-5779-42c9-d382-59d966615c17",
        "colab": {
          "base_uri": "https://localhost:8080/",
          "height": 39
        }
      },
      "execution_count": null,
      "outputs": [
        {
          "output_type": "display_data",
          "data": {
            "text/plain": [
              "<IPython.core.display.Latex object>"
            ],
            "text/latex": "x \\div y"
          },
          "metadata": {}
        }
      ]
    },
    {
      "cell_type": "code",
      "execution_count": null,
      "metadata": {
        "id": "yaRhsr134qjX",
        "outputId": "d4d89ec2-8dca-4c73-e61a-73e8fa732a5b",
        "colab": {
          "base_uri": "https://localhost:8080/",
          "height": 60
        }
      },
      "outputs": [
        {
          "output_type": "display_data",
          "data": {
            "text/plain": [
              "<IPython.core.display.Latex object>"
            ],
            "text/latex": "x = 5 \\land y = 4 \\\\\nz = x + y = 5 + 4 = 9"
          },
          "metadata": {}
        }
      ],
      "source": [
        "# practice problwm If x = 5 and y = 4 and z = x + y, what does z equal?\n",
        "%%latex\n",
        "x = 5 \\land y = 4 \\\\\n",
        "z = x + y = 5 + 4 = 9"
      ]
    },
    {
      "cell_type": "code",
      "source": [
        "# 問題\n",
        "# John collected 14 cans. Tim brought in 10 cans. \n",
        "# Suzy got 3 cans from her house and 15 more from her father's work.\n",
        "# How many cans of food did Suzy collect? \n",
        "# How many cans of food were collected by all three children? "
      ],
      "metadata": {
        "id": "3cmF8IYg9vzA"
      },
      "execution_count": null,
      "outputs": []
    },
    {
      "cell_type": "code",
      "source": [
        "# 問題\n",
        "# Billy broke a stick into 3 pieces. The first piece of the stick is 53 cm long. \n",
        "# The second piece of the stick is 29 cm long.\n",
        "# If the stick was 120 cm long before Billy broke it, how long is the third piece? "
      ],
      "metadata": {
        "id": "lYqO8hZN-6j4"
      },
      "execution_count": null,
      "outputs": []
    },
    {
      "cell_type": "code",
      "source": [
        "# 演算 operation\n",
        "# 演算子 operator  +, –, ×, ÷\n",
        "# 等号 = は演算子ではない\n",
        "# 5 + 6 = 11 \"five plus six equals eleven\"\n",
        "# add subtract mulitply divide"
      ],
      "metadata": {
        "id": "tRLYZoQ4_KY6"
      },
      "execution_count": null,
      "outputs": []
    },
    {
      "cell_type": "code",
      "source": [
        "# 指数と累乗 Exponents and Powers\n",
        "# 指数は上付き文字 superscript で表し、基数を掛ける数を表す\n",
        "# 基数 Base (or radix) は掛けられる数を表す\n",
        "# 次の例では 5 が基数、2 が指数である\n",
        "%%latex\n",
        "5^{2}=25"
      ],
      "metadata": {
        "id": "C2ksKk4cRnLU",
        "outputId": "1be940a0-dd0c-4f27-d65a-91981df5a66a",
        "colab": {
          "base_uri": "https://localhost:8080/",
          "height": 37
        }
      },
      "execution_count": null,
      "outputs": [
        {
          "output_type": "display_data",
          "data": {
            "text/plain": [
              "<IPython.core.display.Latex object>"
            ],
            "text/latex": "5^{2}=25"
          },
          "metadata": {}
        }
      ]
    },
    {
      "cell_type": "code",
      "source": [
        "# Three times three equals three to the second power (or three squared)\n",
        "%%latex\n",
        "3 \\times 3=3^{2}"
      ],
      "metadata": {
        "id": "n-GqQySvTaB1",
        "outputId": "92a186e1-c48a-4ae5-9348-ffe52923ac4b",
        "colab": {
          "base_uri": "https://localhost:8080/",
          "height": 37
        }
      },
      "execution_count": null,
      "outputs": [
        {
          "output_type": "display_data",
          "data": {
            "text/plain": [
              "<IPython.core.display.Latex object>"
            ],
            "text/latex": "3 \\times 3=3^{2}"
          },
          "metadata": {}
        }
      ]
    },
    {
      "cell_type": "code",
      "source": [
        "# Three times three times three equals three to the third power (or three cubed)\n",
        "%%latex\n",
        "\\displaystyle 3 \\times 3 \\times 3=3^{3}"
      ],
      "metadata": {
        "id": "en4x21LDT9co",
        "outputId": "51a8ded1-f22b-4ea6-e69f-a9ce67dc5bea",
        "colab": {
          "base_uri": "https://localhost:8080/",
          "height": 37
        }
      },
      "execution_count": null,
      "outputs": [
        {
          "output_type": "display_data",
          "data": {
            "text/plain": [
              "<IPython.core.display.Latex object>"
            ],
            "text/latex": "\\displaystyle 3 \\times 3 \\times 3=3^{3}"
          },
          "metadata": {}
        }
      ]
    },
    {
      "cell_type": "code",
      "source": [
        "# Three times three times three times three equal three to the fourth power\n",
        "%%latex\n",
        "\\displaystyle 3\\times 3\\times 3\\times 3=3^{4}"
      ],
      "metadata": {
        "id": "BWyorxOXUKKd",
        "outputId": "b8f33968-c55b-48d6-ad14-455d9e48ead0",
        "colab": {
          "base_uri": "https://localhost:8080/",
          "height": 37
        }
      },
      "execution_count": null,
      "outputs": [
        {
          "output_type": "display_data",
          "data": {
            "text/plain": [
              "<IPython.core.display.Latex object>"
            ],
            "text/latex": "\\displaystyle 3\\times 3\\times 3\\times 3=3^{4}"
          },
          "metadata": {}
        }
      ]
    },
    {
      "cell_type": "code",
      "source": [
        "# Two times two times two equals two to the third power\n",
        "%%latex\n",
        "\\displaystyle 2 \\times 2 \\times 2=2^{3}"
      ],
      "metadata": {
        "id": "KPNPu32qUcjg",
        "outputId": "dce935c5-5ade-4ba1-e8d7-4dbbeb1e1983",
        "colab": {
          "base_uri": "https://localhost:8080/",
          "height": 37
        }
      },
      "execution_count": null,
      "outputs": [
        {
          "output_type": "display_data",
          "data": {
            "text/plain": [
              "<IPython.core.display.Latex object>"
            ],
            "text/latex": "\\displaystyle 2 \\times 2 \\times 2=2^{3}"
          },
          "metadata": {}
        }
      ]
    },
    {
      "cell_type": "code",
      "source": [
        "# Note that any nonzero number raised to the 0 power is always equal to 1.\n",
        "# Two to the zero power equals one\n",
        "%%latex\n",
        "2^{0}=1"
      ],
      "metadata": {
        "id": "I4ZKOjCJUnZE",
        "outputId": "af1def69-517f-42ea-b155-cda688ef43e2",
        "colab": {
          "base_uri": "https://localhost:8080/",
          "height": 37
        }
      },
      "execution_count": null,
      "outputs": [
        {
          "output_type": "display_data",
          "data": {
            "text/plain": [
              "<IPython.core.display.Latex object>"
            ],
            "text/latex": "2^{0}=1"
          },
          "metadata": {}
        }
      ]
    },
    {
      "cell_type": "code",
      "source": [
        "# 負の指数 negative exponent\n",
        "%%latex\n",
        "% Two to the negative two equals one over two to the second power\n",
        "\\displaystyle 2^{-2}={\\frac {1}{2^{2}}}={\\frac {1}{4}}"
      ],
      "metadata": {
        "id": "g97o0owTUxPE",
        "outputId": "26e8dac8-c78e-41fc-c9c1-c388a5fbea11",
        "colab": {
          "base_uri": "https://localhost:8080/",
          "height": 51
        }
      },
      "execution_count": null,
      "outputs": [
        {
          "output_type": "display_data",
          "data": {
            "text/plain": [
              "<IPython.core.display.Latex object>"
            ],
            "text/latex": "% Two to the negative two equals one over two to the second power\n\\displaystyle 2^{-2}={\\frac {1}{2^{2}}}={\\frac {1}{4}}"
          },
          "metadata": {}
        }
      ]
    },
    {
      "cell_type": "code",
      "source": [
        "# 問題 次の値を求めよ\n",
        "%%latex\n",
        "% Seven to the second power, or seven squared\n",
        "\\displaystyle 7^{2}"
      ],
      "metadata": {
        "id": "xZ095_vWqvO6",
        "outputId": "b62467f5-64b1-4ab2-9939-4bd8d02b6a36",
        "colab": {
          "base_uri": "https://localhost:8080/",
          "height": 37
        }
      },
      "execution_count": null,
      "outputs": [
        {
          "output_type": "display_data",
          "data": {
            "text/plain": [
              "<IPython.core.display.Latex object>"
            ],
            "text/latex": "% Seven to the second power, or seven squared\n\\displaystyle 7^{2}"
          },
          "metadata": {}
        }
      ]
    },
    {
      "cell_type": "code",
      "source": [
        "# 問題 1 辺の長さが 3 メートルの正方形の面積を求めよ\n",
        "# 面積 = (1 辺の長さ) ^ 2\n",
        "# 3 ^ 2 = 9"
      ],
      "metadata": {
        "id": "j5x99KeirX4T"
      },
      "execution_count": null,
      "outputs": []
    },
    {
      "cell_type": "code",
      "source": [
        "# \n",
        "%%latex\n",
        "c^{2} \\quad \\text{where} \\quad {\\displaystyle c=6} \\\\\n",
        "6^{2} \\\\\n",
        "36"
      ],
      "metadata": {
        "id": "hnCSqkKKyxcW",
        "outputId": "65846c13-d771-4719-dfaf-ac8d26c3d6bf",
        "colab": {
          "base_uri": "https://localhost:8080/",
          "height": 79
        }
      },
      "execution_count": null,
      "outputs": [
        {
          "output_type": "display_data",
          "data": {
            "text/plain": [
              "<IPython.core.display.Latex object>"
            ],
            "text/latex": "c^{2} \\quad \\text{where} \\quad {\\displaystyle c=6} \\\\\n6^{2} \\\\\n36"
          },
          "metadata": {}
        }
      ]
    },
    {
      "cell_type": "code",
      "source": [
        "#\n",
        "%%latex\n",
        "x^{3} \\quad \\text{where} \\quad x=10 \\\\\n",
        "10^{3} \\\\\n",
        "1000"
      ],
      "metadata": {
        "id": "d9ftVCo7sjAU",
        "outputId": "e4c92876-2e25-4de8-bce7-9a4258f06852",
        "colab": {
          "base_uri": "https://localhost:8080/",
          "height": 79
        }
      },
      "execution_count": null,
      "outputs": [
        {
          "output_type": "display_data",
          "data": {
            "text/plain": [
              "<IPython.core.display.Latex object>"
            ],
            "text/latex": "x^{3} \\quad \\text{where} \\quad x=10 \\\\\n10^{3} \\\\\n1000"
          },
          "metadata": {}
        }
      ]
    },
    {
      "cell_type": "code",
      "source": [
        "# \n",
        "%%latex\n",
        "y^{4} \\quad \\text{where} \\quad y=2 \\\\\n",
        "2^{4} \\\\\n",
        "16"
      ],
      "metadata": {
        "id": "SlJ6bwIZr-Ds",
        "outputId": "d1081429-b9f2-44b2-b92c-3fc51e85a66d",
        "colab": {
          "base_uri": "https://localhost:8080/",
          "height": 79
        }
      },
      "execution_count": null,
      "outputs": [
        {
          "output_type": "display_data",
          "data": {
            "text/plain": [
              "<IPython.core.display.Latex object>"
            ],
            "text/latex": "y^{4} \\quad \\text{where} \\quad y=2 \\\\\n2^{4} \\\\\n16"
          },
          "metadata": {}
        }
      ]
    },
    {
      "cell_type": "code",
      "source": [
        "#\n",
        "%%latex\n",
        "3^{-3} \\\\[0.8em]\n",
        "\\displaystyle {\\frac {1}{3^{3}}} \\\\[0.8em]\n",
        "\\displaystyle {\\frac {1}{27}}"
      ],
      "metadata": {
        "id": "bpo_uPUWtPlX",
        "outputId": "93020e48-daac-4d7c-b274-a3187859a302",
        "colab": {
          "base_uri": "https://localhost:8080/",
          "height": 132
        }
      },
      "execution_count": null,
      "outputs": [
        {
          "output_type": "display_data",
          "data": {
            "text/plain": [
              "<IPython.core.display.Latex object>"
            ],
            "text/latex": "3^{-3} \\\\[0.8em]\n\\displaystyle {\\frac {1}{3^{3}}} \\\\[0.8em]\n\\displaystyle {\\frac {1}{27}}"
          },
          "metadata": {}
        }
      ]
    },
    {
      "cell_type": "code",
      "source": [
        "# \n",
        "%%latex\n",
        "\\displaystyle\n",
        "6^{2} \\\\\n",
        "2^{3} \\\\\n",
        "4^{2} \\\\\n",
        "9^{2} \\\\\n",
        "8^{2} \\\\\n",
        "5^{-3} \\\\\n",
        "6^{0} \\\\\n",
        "7^{2} \\\\\n",
        "12^{2} \\\\\n",
        "2^{4} \\\\"
      ],
      "metadata": {
        "id": "auoqpj8_tc7x",
        "outputId": "d470d2ea-70be-416b-bf3a-8e8c6705adac",
        "colab": {
          "base_uri": "https://localhost:8080/",
          "height": 220
        }
      },
      "execution_count": null,
      "outputs": [
        {
          "output_type": "display_data",
          "data": {
            "text/plain": [
              "<IPython.core.display.Latex object>"
            ],
            "text/latex": "\\displaystyle\n6^{2} \\\\\n2^{3} \\\\\n4^{2} \\\\\n9^{2} \\\\\n8^{2} \\\\\n5^{-3} \\\\\n6^{0} \\\\\n7^{2} \\\\\n12^{2} \\\\\n2^{4} \\\\"
          },
          "metadata": {}
        }
      ]
    },
    {
      "cell_type": "code",
      "source": [
        "# 演算の優先度 => PEMDAS\n",
        "# Please Excuse My Dear Aunt Sally\n",
        "# P: Parenthesis 括弧\n",
        "# E: Exponents 指数\n",
        "# M: Multiplying 乗算\n",
        "# D: Dividing 除算\n",
        "# A: Adding 加算\n",
        "# S=Subtracting 減算\n",
        "# UK -- BODMAS/BIDMAS -- Bracket, Order/Indices, Division, Multiplication, Addition, Subtraction\n",
        "%%latex\n",
        "3 + 4 \\times 5"
      ],
      "metadata": {
        "id": "BnEzMAB_uuqe",
        "outputId": "170eeae9-59e7-4f33-ab67-21b9a4658b5c",
        "colab": {
          "base_uri": "https://localhost:8080/",
          "height": 37
        }
      },
      "execution_count": 1,
      "outputs": [
        {
          "output_type": "display_data",
          "data": {
            "text/plain": [
              "<IPython.core.display.Latex object>"
            ],
            "text/latex": "3 + 4 \\times 5"
          },
          "metadata": {}
        }
      ]
    },
    {
      "cell_type": "code",
      "source": [
        "%%latex\n",
        "5+x^{3} \\quad \\text{where} \\quad x=2 \\\\\n",
        "=5+2^{3} \\\\\n",
        "=5+(2\\times 2\\times 2) \\\\\n",
        "=5+8 \\\\\n",
        "=13 \\\\"
      ],
      "metadata": {
        "id": "c4-b_EYRN8RM",
        "outputId": "55809831-a7f7-449d-f4d1-c2be962c696a",
        "colab": {
          "base_uri": "https://localhost:8080/",
          "height": 120
        }
      },
      "execution_count": 4,
      "outputs": [
        {
          "output_type": "display_data",
          "data": {
            "text/plain": [
              "<IPython.core.display.Latex object>"
            ],
            "text/latex": "5+x^{3} \\quad \\text{where} \\quad x=2 \\\\\n=5+2^{3} \\\\\n=5+(2\\times 2\\times 2) \\\\\n=5+8 \\\\\n=13 \\\\"
          },
          "metadata": {}
        }
      ]
    },
    {
      "cell_type": "code",
      "source": [
        "%%latex\n",
        "(5+x)^{3}  \\quad \\text{where} \\quad x=2 \\\\\n",
        "=(5+2)^{3} \\\\\n",
        "=7^{3} \\\\\n",
        "=343 \\\\"
      ],
      "metadata": {
        "id": "qajGRaP5QIRr",
        "outputId": "78afe09b-eeef-4f28-ee8a-6c6c407e196d",
        "colab": {
          "base_uri": "https://localhost:8080/",
          "height": 100
        }
      },
      "execution_count": 5,
      "outputs": [
        {
          "output_type": "display_data",
          "data": {
            "text/plain": [
              "<IPython.core.display.Latex object>"
            ],
            "text/latex": "(5+x)^{3}  \\quad \\text{where} \\quad x=2 \\\\\n=(5+2)^{3} \\\\\n=7^{3} \\\\\n=343 \\\\"
          },
          "metadata": {}
        }
      ]
    },
    {
      "cell_type": "code",
      "source": [
        "%%latex\n",
        "\\displaystyle\n",
        "{\\frac {6}{x}}+3 \\quad \\text{where} \\quad x=3 \\\\[0.8em]\n",
        "={\\frac {6}{3}}+3 \\\\[0.8em]\n",
        "=2+3 \\\\[0.8em]\n",
        "=5 \\\\[0.8em]"
      ],
      "metadata": {
        "id": "xebdlpChQnTB",
        "outputId": "97022597-db43-4afb-e402-22e140635994",
        "colab": {
          "base_uri": "https://localhost:8080/",
          "height": 180
        }
      },
      "execution_count": 7,
      "outputs": [
        {
          "output_type": "display_data",
          "data": {
            "text/plain": [
              "<IPython.core.display.Latex object>"
            ],
            "text/latex": "\\displaystyle\n{\\frac {6}{x}}+3 \\quad \\text{where} \\quad x=3 \\\\[0.8em]\n={\\frac {6}{3}}+3 \\\\[0.8em]\n=2+3 \\\\[0.8em]\n=5 \\\\[0.8em]"
          },
          "metadata": {}
        }
      ]
    },
    {
      "cell_type": "code",
      "source": [
        "%%latex\n",
        "\\displaystyle\n",
        "{\\frac {6}{x+3}} \\quad \\text{where} \\quad x=3 \\\\[0.8em]\n",
        "={\\frac {6}{3+3}} \\\\[0.8em]\n",
        "={\\frac {6}{6}} \\\\[0.8em]\n",
        "=1 \\\\[0.8em]"
      ],
      "metadata": {
        "id": "DeVsOcehQz1i",
        "outputId": "0e6fd5c5-2d5f-4aec-e721-121740e18579",
        "colab": {
          "base_uri": "https://localhost:8080/",
          "height": 196
        }
      },
      "execution_count": 9,
      "outputs": [
        {
          "output_type": "display_data",
          "data": {
            "text/plain": [
              "<IPython.core.display.Latex object>"
            ],
            "text/latex": "\\displaystyle\n{\\frac {6}{x+3}} \\quad \\text{where} \\quad x=3 \\\\[0.8em]\n={\\frac {6}{3+3}} \\\\[0.8em]\n={\\frac {6}{6}} \\\\[0.8em]\n=1 \\\\[0.8em]"
          },
          "metadata": {}
        }
      ]
    },
    {
      "cell_type": "code",
      "source": [
        "%%latex\n",
        "8-x+2 \\quad \\text{where} \\quad x=3 \\\\\n",
        "=8-3+2 \\\\\n",
        "=5+2 \\\\\n",
        "=7 \\\\"
      ],
      "metadata": {
        "id": "Lk6BTQjKRDpR",
        "outputId": "3819b20f-68eb-44b2-8d38-b41dc2513bb3",
        "colab": {
          "base_uri": "https://localhost:8080/",
          "height": 100
        }
      },
      "execution_count": 10,
      "outputs": [
        {
          "output_type": "display_data",
          "data": {
            "text/plain": [
              "<IPython.core.display.Latex object>"
            ],
            "text/latex": "8-x+2 \\quad \\text{where} \\quad x=3 \\\\\n=8-3+2 \\\\\n=5+2 \\\\\n=7 \\\\"
          },
          "metadata": {}
        }
      ]
    },
    {
      "cell_type": "code",
      "source": [
        "%%latex\n",
        "8-(x+2) \\quad \\text{where} \\quad x=3 \\\\\n",
        "=8-(3+2) \\\\\n",
        "=8-5 \\\\\n",
        "=3 \\\\"
      ],
      "metadata": {
        "id": "94Yz0i5ZRVNy",
        "outputId": "0ebcab93-5473-4f30-f662-84e5423e040b",
        "colab": {
          "base_uri": "https://localhost:8080/",
          "height": 100
        }
      },
      "execution_count": 12,
      "outputs": [
        {
          "output_type": "display_data",
          "data": {
            "text/plain": [
              "<IPython.core.display.Latex object>"
            ],
            "text/latex": "8-(x+2) \\quad \\text{where} \\quad x=3 \\\\\n=8-(3+2) \\\\\n=8-5 \\\\\n=3 \\\\"
          },
          "metadata": {}
        }
      ]
    },
    {
      "cell_type": "code",
      "source": [
        "%%latex \n",
        "3+4 \\times 5 \\\\\n",
        "= 23 \\\\\n",
        "(3+4) \\times 5 \\\\\n",
        "= 35 \\\\"
      ],
      "metadata": {
        "id": "Qj_klIqGR4LY",
        "outputId": "083ccfc5-5b1f-4830-c56f-b44e2d297572",
        "colab": {
          "base_uri": "https://localhost:8080/",
          "height": 98
        }
      },
      "execution_count": 14,
      "outputs": [
        {
          "output_type": "display_data",
          "data": {
            "text/plain": [
              "<IPython.core.display.Latex object>"
            ],
            "text/latex": "3+4 \\times 5 \\\\\n= 23 \\\\\n(3+4) \\times 5 \\\\\n= 35 \\\\"
          },
          "metadata": {}
        }
      ]
    },
    {
      "cell_type": "code",
      "source": [
        "%%latex\n",
        "62 × (8 – 6) \\\\\n",
        "8 + 6 × 32 \\\\\n",
        "32 / 23 + 4 \\\\\n",
        "8 + 32 / 16 \\\\\n",
        "6 +(4 / 2) 2 × 8 \\\\"
      ],
      "metadata": {
        "id": "NgNdIj0bPtd9",
        "outputId": "c8834595-d2b3-4875-d346-f63d3382bbda",
        "colab": {
          "base_uri": "https://localhost:8080/",
          "height": 119
        }
      },
      "execution_count": 15,
      "outputs": [
        {
          "output_type": "display_data",
          "data": {
            "text/plain": [
              "<IPython.core.display.Latex object>"
            ],
            "text/latex": "62 × (8 – 6) \\\\\n8 + 6 × 32 \\\\\n32 / 23 + 4 \\\\\n8 + 32 / 16 \\\\\n6 +(4 / 2) 2 × 8 \\\\"
          },
          "metadata": {}
        }
      ]
    },
    {
      "cell_type": "markdown",
      "source": [
        "# いまここ"
      ],
      "metadata": {
        "id": "i075TnhyyTXL"
      }
    },
    {
      "cell_type": "code",
      "source": [
        "# 変数 variable\n",
        " is a letter or symbol that takes place of a number in Algebra.\n",
        "  Common symbols used are {\\displaystyle a}a, {\\displaystyle x}x, \n",
        "  {\\displaystyle y}y, {\\displaystyle \\theta }\\theta  and\n",
        "   {\\displaystyle \\lambda }\\lambda . The letters x and y are commonly \n",
        "   used, but remember that any other symbols would work just as well.\n",
        "\n",
        "Variables are used in algebra as placeholders for unknown numbers. If you see \"3 + x\", don't panic! All this means is that we are adding a number who's value we don't yet know.\n",
        "\n",
        "Some examples of variables in use:\n",
        "\n",
        "{\\displaystyle 3x}{\\displaystyle 3x} -- three times of {\\displaystyle x}x.\n",
        "{\\displaystyle 5-y}{\\displaystyle 5-y} -- five minus {\\displaystyle y}y\n",
        "{\\displaystyle 2\\div s}{\\displaystyle 2\\div s} or {\\displaystyle {\\frac {2}{s}}}{\\displaystyle {\\frac {2}{s}}}-- 2 divided by {\\displaystyle s}s\n",
        "A term is a number or a variable or a cluster of numbers and variables multiplied and or divided separated by addition and subtraction.\n",
        "\n",
        "Examples of terms:\n",
        "\n",
        "{\\displaystyle 3+5}{\\displaystyle 3+5} The terms are 3 and 5.\n",
        "{\\displaystyle {\\frac {6}{x}}}{\\displaystyle {\\frac {6}{x}}} The term is {\\displaystyle 6/x}{\\displaystyle 6/x}, 6 over {\\displaystyle x}x is one term, because the operation is division.\n",
        "{\\displaystyle 6x+5}{\\displaystyle 6x+5} The terms are 6{\\displaystyle x}x and 5, 6{\\displaystyle x}x and 5 are separate terms because they are separated by a addition or subtraction.\n",
        "An operation is a thing you do to numbers, like add, subtract, multiply, or divide. You use signs like +, –, *, or / for operations.\n",
        "\n",
        "An expression is two or more terms, with operations between all terms.\n",
        "\n",
        "Examples of expressions:\n",
        "\n",
        "{\\displaystyle 3\\div 6}{\\displaystyle 3\\div 6}\n",
        "{\\displaystyle 8\\times x}{\\displaystyle 8\\times x}\n",
        "{\\displaystyle x\\times 6+y}{\\displaystyle x\\times 6+y}\n",
        "{\\displaystyle a\\times b\\times c\\times d}{\\displaystyle a\\times b\\times c\\times d}\n",
        "To evaluate an expression, you do the operations to the terms of an expression.\n",
        "\n",
        "Examples of evaluating expressions:\n",
        "\n",
        "{\\displaystyle 3+4}{\\displaystyle 3+4} evaluates to 7.\n",
        "{\\displaystyle 18\\div 3}{\\displaystyle 18\\div 3} evaluates to 6.\n",
        "{\\displaystyle 4\\times 5-3}{\\displaystyle 4\\times 5-3} evaluates to 17.\n",
        "\n",
        "To evaluate an expression with variables, you substitute (put a thing in the place of an other thing) numbers for the variables.\n",
        "\n",
        "Examples of substituting: (Substitute 3 for x in these examples.)\n",
        "\n",
        "{\\displaystyle x+4}{\\displaystyle x+4} is {\\displaystyle 3+4}{\\displaystyle 3+4}.\n",
        "{\\displaystyle 18\\div x}{\\displaystyle 18\\div x} is {\\displaystyle 18\\div 3}{\\displaystyle 18\\div 3}.\n",
        "{\\displaystyle 4\\times 5-x}{\\displaystyle 4\\times 5-x} is {\\displaystyle 4\\times 5-3}{\\displaystyle 4\\times 5-3}.\n",
        "Example Problems\n",
        "Evaluate the following expressions\n",
        "\n",
        "{\\displaystyle 5\\times x}{\\displaystyle 5\\times x}\n",
        "When {\\displaystyle x=2}{\\displaystyle x=2}\n",
        "{\\displaystyle 5\\times 2}{\\displaystyle 5\\times 2}\n",
        "Substitute 2 for {\\displaystyle x}x.\n",
        "{\\displaystyle 10}10\n",
        "Evaluate {\\displaystyle 5\\times 2}{\\displaystyle 5\\times 2} to get the answer.\n",
        "{\\displaystyle {\\frac {x}{3}}+y}{\\displaystyle {\\frac {x}{3}}+y}\n",
        "When {\\displaystyle x=9}{\\displaystyle x=9} and {\\displaystyle y=4}{\\displaystyle y=4}\n",
        "{\\displaystyle {\\frac {9}{3}}+4}{\\displaystyle {\\frac {9}{3}}+4}\n",
        "Substitute 9 for {\\displaystyle x}x and substitute 4 for {\\displaystyle y}y.\n",
        "{\\displaystyle 7}7\n",
        "Evaluate {\\displaystyle {\\frac {9}{3}}+4}{\\displaystyle {\\frac {9}{3}}+4} to get the answer.\n",
        "Practice Games\n",
        "Evaluating expressions\n",
        "Advanced Expression Evaluator\n",
        "Practice Problems\n",
        "remember order of operations\n",
        "\n",
        "Evaluate each expression if {\\displaystyle a}a = 1, {\\displaystyle b}b = 2, {\\displaystyle c}c = 3, and {\\displaystyle d}d = 5.\n",
        "1\n",
        "\n",
        "{\\displaystyle 5\\times b=}{\\displaystyle 5\\times b=}\n",
        "\n",
        "2\n",
        "\n",
        "{\\displaystyle 9\\times c=}{\\displaystyle 9\\times c=}\n",
        "\n",
        "3\n",
        "\n",
        "{\\displaystyle c-2=}{\\displaystyle c-2=}\n",
        "\n",
        "4\n",
        "\n",
        "{\\displaystyle d-5=}{\\displaystyle d-5=}\n",
        "\n",
        "5\n",
        "\n",
        "{\\displaystyle {\\frac {b}{2}}=}{\\displaystyle {\\frac {b}{2}}=}\n",
        "\n",
        "6\n",
        "\n",
        "{\\displaystyle {\\frac {36}{c}}=}{\\displaystyle {\\frac {36}{c}}=}\n",
        "\n",
        "7\n",
        "\n",
        "{\\displaystyle b\\times c+2=}{\\displaystyle b\\times c+2=}\n",
        "\n",
        "8\n",
        "\n",
        "{\\displaystyle b\\times c\\times d-5=}{\\displaystyle b\\times c\\times d-5=}\n",
        "\n",
        "Evaluate each expression if {\\displaystyle x}x = 4, {\\displaystyle y}y = 2, and {\\displaystyle z}z = 3.\n",
        "9\n",
        "\n",
        "{\\displaystyle x+y=}{\\displaystyle x+y=}\n",
        "\n",
        "10\n",
        "\n",
        "{\\displaystyle 2z=}{\\displaystyle 2z=}\n",
        "\n",
        "11\n",
        "\n",
        "{\\displaystyle xz=}{\\displaystyle xz=}\n",
        "\n",
        "12\n",
        "\n",
        "{\\displaystyle x+y+z=}{\\displaystyle x+y+z=}\n",
        "\n",
        "13\n",
        "\n",
        "{\\displaystyle xy+z=}{\\displaystyle xy+z=}\n",
        "\n",
        "14\n",
        "\n",
        "{\\displaystyle yz-x=}{\\displaystyle yz-x=}\n",
        "\n",
        "15\n",
        "\n",
        "{\\displaystyle {\\frac {6}{y}}+z=}{\\displaystyle {\\frac {6}{y}}+z=}\n",
        "\n",
        "16\n",
        "\n",
        "{\\displaystyle {\\frac {2x}{2+y}}=}{\\displaystyle {\\frac {2x}{2+y}}=}\n",
        "\n",
        "More harder questions: Evaluate each expression if {\\displaystyle x}x = 5, {\\displaystyle y}y = 8, and {\\displaystyle z}z = 9.\n",
        "17\n",
        "\n",
        "{\\displaystyle (2+x)\\times y=}{\\displaystyle (2+x)\\times y=}\n",
        "\n",
        "18\n",
        "\n",
        "{\\displaystyle {\\frac {3y-9}{5}}=}{\\displaystyle {\\frac {3y-9}{5}}=}\n",
        "\n",
        "19\n",
        "\n",
        "{\\displaystyle {\\frac {27}{x+4}}-(y-5)=}{\\displaystyle {\\frac {27}{x+4}}-(y-5)=}\n",
        "\n",
        "20\n",
        "\n",
        "{\\displaystyle {\\frac {z+12}{2x-3}}+y=}{\\displaystyle {\\frac {z+12}{2x-3}}+y=}\n",
        "\n",
        "21\n",
        "\n",
        "{\\displaystyle \\left({\\frac {6x}{2+y}}-z\\right)+\\left(x-{\\frac {z}{3}}\\right)=}{\\displaystyle \\left({\\frac {6x}{2+y}}-z\\right)+\\left(x-{\\frac {z}{3}}\\right)=}\n",
        "\n",
        "\n"
      ],
      "metadata": {
        "id": "4eajtWRHSnQU"
      },
      "execution_count": null,
      "outputs": []
    },
    {
      "cell_type": "markdown",
      "source": [
        "# EOF"
      ],
      "metadata": {
        "id": "--D7rrFpyXiy"
      }
    }
  ]
}