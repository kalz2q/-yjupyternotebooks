{
  "nbformat": 4,
  "nbformat_minor": 0,
  "metadata": {
    "colab": {
      "name": "math_en_wiki.ipynb",
      "provenance": [],
      "toc_visible": true,
      "authorship_tag": "ABX9TyMnvqm3WxWUbD6F5r/nYAYs",
      "include_colab_link": true
    },
    "kernelspec": {
      "name": "python3",
      "display_name": "Python 3"
    },
    "language_info": {
      "name": "python"
    }
  },
  "cells": [
    {
      "cell_type": "markdown",
      "metadata": {
        "id": "view-in-github",
        "colab_type": "text"
      },
      "source": [
        "<a href=\"https://colab.research.google.com/github/kalz2q/mycolabnotebooks/blob/master/math_en_wiki.ipynb\" target=\"_parent\"><img src=\"https://colab.research.google.com/assets/colab-badge.svg\" alt=\"Open In Colab\"/></a>"
      ]
    },
    {
      "cell_type": "markdown",
      "source": [
        "# メモ"
      ],
      "metadata": {
        "id": "t09J2RIk4ya0"
      }
    },
    {
      "cell_type": "code",
      "source": [
        "# wikibooks mathematics\n",
        "# Basic Algebra"
      ],
      "metadata": {
        "id": "pQ2OK0jxdUK2"
      },
      "execution_count": null,
      "outputs": []
    },
    {
      "cell_type": "code",
      "source": [
        "# The sum of two unknown numbers can be written as {x+y}\n",
        "# The difference of two unknown numbers can be written as {x-y}\n",
        "# The quotient of two unknown numbers can be written as {x\\div y}\n",
        "# The product of two unknown numbers can be written as {x\\times y}\n",
        "# Keep in mind that {x+y} is the same as {y+x} and \n",
        "# {x\\times y}x\\times y is the same as {y\\times x}.\n",
        "# However, {x-y} is not the same as {y-x}\n",
        "# and {x\\div y} is not the same as {y\\div x}\n",
        "%%latex\n",
        "x \\div y"
      ],
      "metadata": {
        "id": "D07mOrfl6hOc",
        "outputId": "a1b0c9f1-5779-42c9-d382-59d966615c17",
        "colab": {
          "base_uri": "https://localhost:8080/",
          "height": 39
        }
      },
      "execution_count": null,
      "outputs": [
        {
          "output_type": "display_data",
          "data": {
            "text/plain": [
              "<IPython.core.display.Latex object>"
            ],
            "text/latex": "x \\div y"
          },
          "metadata": {}
        }
      ]
    },
    {
      "cell_type": "code",
      "execution_count": null,
      "metadata": {
        "id": "yaRhsr134qjX",
        "outputId": "d4d89ec2-8dca-4c73-e61a-73e8fa732a5b",
        "colab": {
          "base_uri": "https://localhost:8080/",
          "height": 60
        }
      },
      "outputs": [
        {
          "output_type": "display_data",
          "data": {
            "text/plain": [
              "<IPython.core.display.Latex object>"
            ],
            "text/latex": "x = 5 \\land y = 4 \\\\\nz = x + y = 5 + 4 = 9"
          },
          "metadata": {}
        }
      ],
      "source": [
        "# practice problwm If x = 5 and y = 4 and z = x + y, what does z equal?\n",
        "%%latex\n",
        "x = 5 \\land y = 4 \\\\\n",
        "z = x + y = 5 + 4 = 9"
      ]
    },
    {
      "cell_type": "code",
      "source": [
        "# 問題\n",
        "# John collected 14 cans. Tim brought in 10 cans. \n",
        "# Suzy got 3 cans from her house and 15 more from her father's work.\n",
        "# How many cans of food did Suzy collect? \n",
        "# How many cans of food were collected by all three children? "
      ],
      "metadata": {
        "id": "3cmF8IYg9vzA"
      },
      "execution_count": null,
      "outputs": []
    },
    {
      "cell_type": "code",
      "source": [
        "# 問題\n",
        "# Billy broke a stick into 3 pieces. The first piece of the stick is 53 cm long. \n",
        "# The second piece of the stick is 29 cm long.\n",
        "# If the stick was 120 cm long before Billy broke it, how long is the third piece? "
      ],
      "metadata": {
        "id": "lYqO8hZN-6j4"
      },
      "execution_count": null,
      "outputs": []
    },
    {
      "cell_type": "code",
      "source": [
        "# 演算 operation\n",
        "# 演算子 operator  +, –, ×, ÷\n",
        "# 等号 = は演算子ではない\n",
        "# 5 + 6 = 11 \"five plus six equals eleven\"\n",
        "# add subtract mulitply divide"
      ],
      "metadata": {
        "id": "tRLYZoQ4_KY6"
      },
      "execution_count": null,
      "outputs": []
    },
    {
      "cell_type": "code",
      "source": [
        "# 指数と累乗 Exponents and Powers\n",
        "# 指数は上付き文字 superscript で表し、基数を掛ける数を表す\n",
        "# 基数 Base (or radix) は掛けられる数を表す\n",
        "# 次の例では 5 が基数、2 が指数である\n",
        "%%latex\n",
        "5^{2}=25"
      ],
      "metadata": {
        "id": "C2ksKk4cRnLU",
        "outputId": "1be940a0-dd0c-4f27-d65a-91981df5a66a",
        "colab": {
          "base_uri": "https://localhost:8080/",
          "height": 37
        }
      },
      "execution_count": null,
      "outputs": [
        {
          "output_type": "display_data",
          "data": {
            "text/plain": [
              "<IPython.core.display.Latex object>"
            ],
            "text/latex": "5^{2}=25"
          },
          "metadata": {}
        }
      ]
    },
    {
      "cell_type": "code",
      "source": [
        "# Three times three equals three to the second power (or three squared)\n",
        "%%latex\n",
        "3 \\times 3=3^{2}"
      ],
      "metadata": {
        "id": "n-GqQySvTaB1",
        "outputId": "92a186e1-c48a-4ae5-9348-ffe52923ac4b",
        "colab": {
          "base_uri": "https://localhost:8080/",
          "height": 37
        }
      },
      "execution_count": null,
      "outputs": [
        {
          "output_type": "display_data",
          "data": {
            "text/plain": [
              "<IPython.core.display.Latex object>"
            ],
            "text/latex": "3 \\times 3=3^{2}"
          },
          "metadata": {}
        }
      ]
    },
    {
      "cell_type": "code",
      "source": [
        "# Three times three times three equals three to the third power (or three cubed)\n",
        "%%latex\n",
        "\\displaystyle 3 \\times 3 \\times 3=3^{3}"
      ],
      "metadata": {
        "id": "en4x21LDT9co",
        "outputId": "51a8ded1-f22b-4ea6-e69f-a9ce67dc5bea",
        "colab": {
          "base_uri": "https://localhost:8080/",
          "height": 37
        }
      },
      "execution_count": null,
      "outputs": [
        {
          "output_type": "display_data",
          "data": {
            "text/plain": [
              "<IPython.core.display.Latex object>"
            ],
            "text/latex": "\\displaystyle 3 \\times 3 \\times 3=3^{3}"
          },
          "metadata": {}
        }
      ]
    },
    {
      "cell_type": "code",
      "source": [
        "# Three times three times three times three equal three to the fourth power\n",
        "%%latex\n",
        "\\displaystyle 3\\times 3\\times 3\\times 3=3^{4}"
      ],
      "metadata": {
        "id": "BWyorxOXUKKd",
        "outputId": "b8f33968-c55b-48d6-ad14-455d9e48ead0",
        "colab": {
          "base_uri": "https://localhost:8080/",
          "height": 37
        }
      },
      "execution_count": null,
      "outputs": [
        {
          "output_type": "display_data",
          "data": {
            "text/plain": [
              "<IPython.core.display.Latex object>"
            ],
            "text/latex": "\\displaystyle 3\\times 3\\times 3\\times 3=3^{4}"
          },
          "metadata": {}
        }
      ]
    },
    {
      "cell_type": "code",
      "source": [
        "# Two times two times two equals two to the third power\n",
        "%%latex\n",
        "\\displaystyle 2 \\times 2 \\times 2=2^{3}"
      ],
      "metadata": {
        "id": "KPNPu32qUcjg",
        "outputId": "dce935c5-5ade-4ba1-e8d7-4dbbeb1e1983",
        "colab": {
          "base_uri": "https://localhost:8080/",
          "height": 37
        }
      },
      "execution_count": null,
      "outputs": [
        {
          "output_type": "display_data",
          "data": {
            "text/plain": [
              "<IPython.core.display.Latex object>"
            ],
            "text/latex": "\\displaystyle 2 \\times 2 \\times 2=2^{3}"
          },
          "metadata": {}
        }
      ]
    },
    {
      "cell_type": "code",
      "source": [
        "# Note that any nonzero number raised to the 0 power is always equal to 1.\n",
        "# Two to the zero power equals one\n",
        "%%latex\n",
        "2^{0}=1"
      ],
      "metadata": {
        "id": "I4ZKOjCJUnZE",
        "outputId": "af1def69-517f-42ea-b155-cda688ef43e2",
        "colab": {
          "base_uri": "https://localhost:8080/",
          "height": 37
        }
      },
      "execution_count": null,
      "outputs": [
        {
          "output_type": "display_data",
          "data": {
            "text/plain": [
              "<IPython.core.display.Latex object>"
            ],
            "text/latex": "2^{0}=1"
          },
          "metadata": {}
        }
      ]
    },
    {
      "cell_type": "code",
      "source": [
        "# 負の指数 negative exponent\n",
        "%%latex\n",
        "% Two to the negative two equals one over two to the second power\n",
        "\\displaystyle 2^{-2}={\\frac {1}{2^{2}}}={\\frac {1}{4}}"
      ],
      "metadata": {
        "id": "g97o0owTUxPE",
        "outputId": "26e8dac8-c78e-41fc-c9c1-c388a5fbea11",
        "colab": {
          "base_uri": "https://localhost:8080/",
          "height": 51
        }
      },
      "execution_count": 2,
      "outputs": [
        {
          "output_type": "display_data",
          "data": {
            "text/plain": [
              "<IPython.core.display.Latex object>"
            ],
            "text/latex": "% Two to the negative two equals one over two to the second power\n\\displaystyle 2^{-2}={\\frac {1}{2^{2}}}={\\frac {1}{4}}"
          },
          "metadata": {}
        }
      ]
    },
    {
      "cell_type": "code",
      "source": [
        "# 問題 次の値を求めよ\n",
        "%%latex\n",
        "% Seven to the second power, or seven squared\n",
        "\\displaystyle 7^{2}"
      ],
      "metadata": {
        "id": "xZ095_vWqvO6",
        "outputId": "b62467f5-64b1-4ab2-9939-4bd8d02b6a36",
        "colab": {
          "base_uri": "https://localhost:8080/",
          "height": 37
        }
      },
      "execution_count": 15,
      "outputs": [
        {
          "output_type": "display_data",
          "data": {
            "text/plain": [
              "<IPython.core.display.Latex object>"
            ],
            "text/latex": "% Seven to the second power, or seven squared\n\\displaystyle 7^{2}"
          },
          "metadata": {}
        }
      ]
    },
    {
      "cell_type": "code",
      "source": [
        "# 問題 1 辺の長さが 3 メートルの正方形の面積を求めよ\n",
        "# 面積 = (1 辺の長さ) ^ 2\n",
        "# 3 ^ 2 = 9"
      ],
      "metadata": {
        "id": "j5x99KeirX4T"
      },
      "execution_count": null,
      "outputs": []
    },
    {
      "cell_type": "code",
      "source": [
        "# \n",
        "%%latex\n",
        "c^{2} \\quad \\text{where} \\quad {\\displaystyle c=6} \\\\\n",
        "6^{2} \\\\\n",
        "36"
      ],
      "metadata": {
        "id": "hnCSqkKKyxcW",
        "outputId": "65846c13-d771-4719-dfaf-ac8d26c3d6bf",
        "colab": {
          "base_uri": "https://localhost:8080/",
          "height": 79
        }
      },
      "execution_count": 17,
      "outputs": [
        {
          "output_type": "display_data",
          "data": {
            "text/plain": [
              "<IPython.core.display.Latex object>"
            ],
            "text/latex": "c^{2} \\quad \\text{where} \\quad {\\displaystyle c=6} \\\\\n6^{2} \\\\\n36"
          },
          "metadata": {}
        }
      ]
    },
    {
      "cell_type": "code",
      "source": [
        "#\n",
        "%%latex\n",
        "x^{3} \\quad \\text{where} \\quad x=10 \\\\\n",
        "10^{3} \\\\\n",
        "1000"
      ],
      "metadata": {
        "id": "d9ftVCo7sjAU",
        "outputId": "e4c92876-2e25-4de8-bce7-9a4258f06852",
        "colab": {
          "base_uri": "https://localhost:8080/",
          "height": 79
        }
      },
      "execution_count": 18,
      "outputs": [
        {
          "output_type": "display_data",
          "data": {
            "text/plain": [
              "<IPython.core.display.Latex object>"
            ],
            "text/latex": "x^{3} \\quad \\text{where} \\quad x=10 \\\\\n10^{3} \\\\\n1000"
          },
          "metadata": {}
        }
      ]
    },
    {
      "cell_type": "code",
      "source": [
        "# \n",
        "%%latex\n",
        "y^{4} \\quad \\text{where} \\quad y=2 \\\\\n",
        "2^{4} \\\\\n",
        "16"
      ],
      "metadata": {
        "id": "SlJ6bwIZr-Ds",
        "outputId": "d1081429-b9f2-44b2-b92c-3fc51e85a66d",
        "colab": {
          "base_uri": "https://localhost:8080/",
          "height": 79
        }
      },
      "execution_count": 19,
      "outputs": [
        {
          "output_type": "display_data",
          "data": {
            "text/plain": [
              "<IPython.core.display.Latex object>"
            ],
            "text/latex": "y^{4} \\quad \\text{where} \\quad y=2 \\\\\n2^{4} \\\\\n16"
          },
          "metadata": {}
        }
      ]
    },
    {
      "cell_type": "code",
      "source": [
        "#\n",
        "%%latex\n",
        "3^{-3} \\\\[0.8em]\n",
        "\\displaystyle {\\frac {1}{3^{3}}} \\\\[0.8em]\n",
        "\\displaystyle {\\frac {1}{27}}"
      ],
      "metadata": {
        "id": "bpo_uPUWtPlX",
        "outputId": "93020e48-daac-4d7c-b274-a3187859a302",
        "colab": {
          "base_uri": "https://localhost:8080/",
          "height": 132
        }
      },
      "execution_count": 22,
      "outputs": [
        {
          "output_type": "display_data",
          "data": {
            "text/plain": [
              "<IPython.core.display.Latex object>"
            ],
            "text/latex": "3^{-3} \\\\[0.8em]\n\\displaystyle {\\frac {1}{3^{3}}} \\\\[0.8em]\n\\displaystyle {\\frac {1}{27}}"
          },
          "metadata": {}
        }
      ]
    },
    {
      "cell_type": "code",
      "source": [
        "# \n",
        "%%latex\n",
        "\\displaystyle\n",
        "6^{2} \\\\\n",
        "2^{3} \\\\\n",
        "4^{2} \\\\\n",
        "9^{2} \\\\\n",
        "8^{2} \\\\\n",
        "5^{-3} \\\\\n",
        "6^{0} \\\\\n",
        "7^{2} \\\\\n",
        "12^{2} \\\\\n",
        "2^{4} \\\\"
      ],
      "metadata": {
        "id": "auoqpj8_tc7x",
        "outputId": "d470d2ea-70be-416b-bf3a-8e8c6705adac",
        "colab": {
          "base_uri": "https://localhost:8080/",
          "height": 220
        }
      },
      "execution_count": 29,
      "outputs": [
        {
          "output_type": "display_data",
          "data": {
            "text/plain": [
              "<IPython.core.display.Latex object>"
            ],
            "text/latex": "\\displaystyle\n6^{2} \\\\\n2^{3} \\\\\n4^{2} \\\\\n9^{2} \\\\\n8^{2} \\\\\n5^{-3} \\\\\n6^{0} \\\\\n7^{2} \\\\\n12^{2} \\\\\n2^{4} \\\\"
          },
          "metadata": {}
        }
      ]
    },
    {
      "cell_type": "markdown",
      "source": [
        "# いまここ"
      ],
      "metadata": {
        "id": "i075TnhyyTXL"
      }
    },
    {
      "cell_type": "code",
      "source": [
        ""
      ],
      "metadata": {
        "id": "BNgQNOSXuuu9"
      },
      "execution_count": null,
      "outputs": []
    },
    {
      "cell_type": "code",
      "source": [
        "\n",
        "Vocabulary\n",
        "Order of Operations\n",
        "The order of operations is the rule at which you apply operations within a mathematical formula. There are two common mnemonics.\n",
        "In mathematics, we use BODMAS:\n",
        "\n",
        "Brackets\n",
        "Orders (e.g. exponents)\n",
        "Division\n",
        "Multiplication\n",
        "Addition\n",
        "Subtraction\n",
        "In the United States, you may also see PEMDAS:\n",
        "\n",
        "Parentheses\n",
        "Exponents\n",
        "Multiplication\n",
        "Division\n",
        "Addition\n",
        "Subtraction\n",
        "Other variations exist, but the rules for order of operations remain the same.\n",
        "\n",
        "Lesson\n",
        "Evaluate the expression {\\displaystyle 3+4\\times 5}{\\displaystyle 3+4\\times 5}.\n",
        "\n",
        "1st solution - If you multiply first, it is {\\displaystyle 3+20}{\\displaystyle 3+20} and evaluates to 23.\n",
        "\n",
        "2nd solution - If you add first, it is {\\displaystyle 7\\times 5}{\\displaystyle 7\\times 5} and evaluates to 35.\n",
        "\n",
        "Is the first or second answer correct?\n",
        "\n",
        "With no order of operations, both answers would be expected, but if an expression evaluates to more than one answer, math becomes ambiguous and does not work. For math to work there is only one order of operations to evaluate a mathematical expression.\n",
        "\n",
        "The order of operations is Parenthesis, Exponents, Multiplication and Division (from left to right), Addition and Subtraction (from left to right). This can be remembered in two ways: \"Please Excuse My Dear Aunt Sally\" or PEMDAS.\n",
        "\n",
        "Please note that for Multiplication and Division and Addition and Subtraction you do whichever one comes first going from left to right, and that is why both PEMDAS and BODMAS work. The following list, from top to bottom, is the order of operations in Algebra. Operations at the top of the list are completed first, and operations on the same line are completed from left to right.\n",
        "\n",
        "Parenthesis ( )\n",
        "Exponent ^\n",
        "Multiply {\\displaystyle \\times }\\times , Divide {\\displaystyle \\div }{\\displaystyle \\div }\n",
        "Add {\\displaystyle +}+, Subtract {\\displaystyle -}-\n",
        "Parenthesis is a special operation that has the most precedence. You use the ( and ) signs to make a separate expression from a group of terms. You evaluate an expression in parenthesis first. You use parenthesis if you need to do an operation with less precedence first. If the term in parenthesis is juxtaposed to a variable with no multiplication, then you treat this implicit multiplication the same as any other multiplication. (example: In {\\displaystyle 1/2x}{\\displaystyle 1/2x}, the {\\displaystyle 2x}2x is a juxtaposed, implicit multiplication, so it means the same as {\\displaystyle 1/2\\times x}{\\displaystyle 1/2\\times x}, and multiplication does not take precedence over the division in the Order of Operations. If you want {\\displaystyle 2x}2x to be a proper term, you should write {\\displaystyle 1/(2x)}{\\displaystyle 1/(2x)})\n",
        "\n",
        "Example problems\n",
        "Let's evaluate these expressions.\n",
        "\n",
        "{\\displaystyle 5+x^{3}}{\\displaystyle 5+x^{3}} where {\\displaystyle x=2}x=2\n",
        "{\\displaystyle =5+2^{3}}{\\displaystyle =5+2^{3}}\n",
        "{\\displaystyle =5+(2\\times 2\\times 2)}{\\displaystyle =5+(2\\times 2\\times 2)}\n",
        "{\\displaystyle =5+8}{\\displaystyle =5+8}\n",
        "{\\displaystyle =13}{\\displaystyle =13}\n",
        "{\\displaystyle (5+x)^{3}}{\\displaystyle (5+x)^{3}} where {\\displaystyle x=2}x=2\n",
        "{\\displaystyle =(5+2)^{3}}{\\displaystyle =(5+2)^{3}}\n",
        "{\\displaystyle =7^{3}}{\\displaystyle =7^{3}}\n",
        "{\\displaystyle =343}{\\displaystyle =343}\n",
        "{\\displaystyle {\\frac {6}{x}}+3}{\\displaystyle {\\frac {6}{x}}+3} where {\\displaystyle x=3}x=3\n",
        "{\\displaystyle ={\\frac {6}{3}}+3}{\\displaystyle ={\\frac {6}{3}}+3}\n",
        "{\\displaystyle =2+3}{\\displaystyle =2+3}\n",
        "{\\displaystyle =5}{\\displaystyle =5}\n",
        "{\\displaystyle {\\frac {6}{x+3}}}{\\displaystyle {\\frac {6}{x+3}}} where {\\displaystyle x=3}x=3\n",
        "{\\displaystyle ={\\frac {6}{3+3}}}{\\displaystyle ={\\frac {6}{3+3}}}\n",
        "{\\displaystyle ={\\frac {6}{6}}}{\\displaystyle ={\\frac {6}{6}}}\n",
        "{\\displaystyle =1}{\\displaystyle =1}\n",
        "{\\displaystyle 8-x+2}{\\displaystyle 8-x+2} where {\\displaystyle x=3}x = 3\n",
        "{\\displaystyle =8-3+2}{\\displaystyle =8-3+2}\n",
        "(evaluate the – operation first. – and + have the same precedence\n",
        "but is left-to-right)\n",
        "{\\displaystyle =5+2}{\\displaystyle =5+2}\n",
        "{\\displaystyle =7}{\\displaystyle =7}\n",
        "{\\displaystyle 8-(x+2)}{\\displaystyle 8-(x+2)} where {\\displaystyle x=3}x = 3\n",
        "{\\displaystyle =8-(3+2)}{\\displaystyle =8-(3+2)}\n",
        "{\\displaystyle =8-5}{\\displaystyle =8-5}\n",
        "{\\displaystyle =3}{\\displaystyle =3}\n",
        "Back to the first problem: Evaluate the expression {\\displaystyle 3+4\\times 5}{\\displaystyle 3+4\\times 5}.\n",
        "\n",
        "There is only one answer, 23, because we multiply first.\n",
        "\n",
        "If we want to add first, we can use parentheses.\n",
        "\n",
        "If we write {\\displaystyle (3+4)\\times 5}{\\displaystyle (3+4)\\times 5}, then we add first, and get 35.\n",
        "\n",
        "Practice games\n",
        "http://www.quia.com/cm/11715.html\n",
        "http://regentsprep.org/regents/math/orderop/orderPrac.htm\n",
        "Practice problems\n",
        "Evaluate the following expressions:\n",
        "1\n",
        "\n",
        "62 × (8 – 6) =\n",
        "\n",
        "2\n",
        "\n",
        "8 + 6 × 32 =\n",
        "\n",
        "3\n",
        "\n",
        "32 / 23 + 4 =\n",
        "\n",
        "4\n",
        "\n",
        "8 + 32 / 16 =\n",
        "\n",
        "5\n",
        "\n",
        "6 +(4 / 2)2 × 8=\n",
        "\n",
        "\n"
      ],
      "metadata": {
        "id": "BnEzMAB_uuqe"
      },
      "execution_count": null,
      "outputs": []
    },
    {
      "cell_type": "markdown",
      "source": [
        "# EOF"
      ],
      "metadata": {
        "id": "--D7rrFpyXiy"
      }
    }
  ]
}