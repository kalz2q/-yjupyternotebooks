{
  "nbformat": 4,
  "nbformat_minor": 0,
  "metadata": {
    "colab": {
      "name": "math_en_wiki.ipynb",
      "provenance": [],
      "authorship_tag": "ABX9TyPJvO/9bsaO7PdtTnS7VPDm",
      "include_colab_link": true
    },
    "kernelspec": {
      "name": "python3",
      "display_name": "Python 3"
    },
    "language_info": {
      "name": "python"
    }
  },
  "cells": [
    {
      "cell_type": "markdown",
      "metadata": {
        "id": "view-in-github",
        "colab_type": "text"
      },
      "source": [
        "<a href=\"https://colab.research.google.com/github/kalz2q/mycolabnotebooks/blob/master/math_en_wiki.ipynb\" target=\"_parent\"><img src=\"https://colab.research.google.com/assets/colab-badge.svg\" alt=\"Open In Colab\"/></a>"
      ]
    },
    {
      "cell_type": "markdown",
      "source": [
        "# メモ"
      ],
      "metadata": {
        "id": "t09J2RIk4ya0"
      }
    },
    {
      "cell_type": "code",
      "source": [
        "# wikibooks mathematics\n",
        "# Basic Algebra"
      ],
      "metadata": {
        "id": "pQ2OK0jxdUK2"
      },
      "execution_count": null,
      "outputs": []
    },
    {
      "cell_type": "code",
      "source": [
        ""
      ],
      "metadata": {
        "id": "D07mOrfl6hOc"
      },
      "execution_count": null,
      "outputs": []
    },
    {
      "cell_type": "code",
      "execution_count": null,
      "metadata": {
        "id": "yaRhsr134qjX"
      },
      "outputs": [],
      "source": [
        "\n",
        "[dismiss]\n",
        "Nuvola apps package games.pngThe Wikibooks community has accepted video game strategy guides on this wiki! See Wikibooks:Strategy guides for the newly-created policy on strategy games. We're looking forward to your contributions.\n",
        "Basic Algebra/Introduction to Basic Algebra Ideas/Translating Words into Math Symbols\n",
        "< Basic Algebra\n",
        "Jump to navigationJump to search\n",
        "\n",
        "Contents\n",
        "1\tVocabulary\n",
        "2\tDefinitions\n",
        "3\tPractice Games\n",
        "4\tPractice Problems\n",
        "Vocabulary\n",
        "Sum\n",
        "Difference\n",
        "Quotient\n",
        "Product\n",
        "Definitions\n",
        "The sum of two unknown numbers can be written as {\\displaystyle x+y}{\\displaystyle x+y}.\n",
        "The difference of two unknown numbers can be written as {\\displaystyle x-y}{\\displaystyle x-y}.\n",
        "The quotient of two unknown numbers can be written as {\\displaystyle x\\div y}{\\displaystyle x\\div y}.\n",
        "The product of two unknown numbers can be written as {\\displaystyle x\\times y}x\\times y.\n",
        "Keep in mind that {\\displaystyle x+y}{\\displaystyle x+y} is the same as {\\displaystyle y+x}{\\displaystyle y+x} and {\\displaystyle x\\times y}x\\times y is the same as {\\displaystyle y\\times x}{\\displaystyle y\\times x}.\n",
        "\n",
        "However, {\\displaystyle x-y}{\\displaystyle x-y} is not the same as {\\displaystyle y-x}{\\displaystyle y-x}, and {\\displaystyle x\\div y}{\\displaystyle x\\div y} is not the same as {\\displaystyle y\\div x}{\\displaystyle y\\div x}.\n",
        "\n",
        "Practice Games\n",
        "Put links here to games that reinforce these skills.\n",
        "\n",
        "http://www.quia.com/pa/19009.html\n",
        "http://www.quia.com/jg/278151.html\n",
        "Practice Problems\n",
        "1If x = 5 and y = 4 and z = x + y, what does z equal?\n",
        "\n",
        "\n",
        "2John collected 14 cans. Tim brought in 10 cans. Suzy got 3 cans from her house and 15 more from her father's work.\n",
        "\n",
        "How many cans of food did Suzy collect? \n",
        "\n",
        "How many cans of food were collected by all three children? \n",
        "\n",
        "3Billy broke a stick into 3 pieces. The first piece of the stick is 53 cm long. The second piece of the stick is 29 cm long.\n",
        "\n",
        "If the stick was 120 cm long before Billy broke it, how long is the third piece? \n",
        "\n",
        "\n",
        "\n",
        "«\tBasic Algebra\n",
        "Translating Words into Math Symbols\t»\n",
        "The Ideas of Algebra\tSimple Operations\n",
        "Category: Book:Basic Algebra\n",
        "Navigation menu\n",
        "Not logged in\n",
        "Discussion for this IP address\n",
        "Contributions\n",
        "Create account\n",
        "Log in\n",
        "BookDiscussion\n",
        "ReadEditEdit sourceView history\n",
        "Search\n",
        "Search Wikibooks\n",
        "Main Page\n",
        "Help\n",
        "Browse\n",
        "Cookbook\n",
        "Wikijunior\n",
        "Featured books\n",
        "Recent changes\n",
        "Donations\n",
        "Random book\n",
        "Using Wikibooks\n",
        "Community\n",
        "Reading room forum\n",
        "Community portal\n",
        "Bulletin Board\n",
        "Help out!\n",
        "Policies and guidelines\n",
        "Contact us\n",
        "Tools\n",
        "What links here\n",
        "Related changes\n",
        "Upload file\n",
        "Special pages\n",
        "Permanent link\n",
        "Page information\n",
        "Cite this page\n",
        "Sister projects\n",
        "Wikipedia\n",
        "Wikiversity\n",
        "Wiktionary\n",
        "Wikiquote\n",
        "Wikisource\n",
        "Wikinews\n",
        "Wikivoyage\n",
        "Commons\n",
        "Wikidata\n",
        "MediaWiki\n",
        "Meta-Wiki\n",
        "Print/export\n",
        "Create a collection\n",
        "Download as PDF\n",
        "Printable version\n",
        "\n",
        "Languages\n",
        "Add links\n",
        "This page was last edited on 28 March 2022, at 07:06.\n",
        "Text is available under the Creative Commons Attribution-ShareAlike License.; additional terms may apply. By using this site, you agree to the Terms of Use and Privacy Policy.\n",
        "Privacy policyAbout WikibooksDisclaimersMobile viewDevelopersStatisticsCookie statementWikimedia FoundationPowered by MediaWiki"
      ]
    }
  ]
}