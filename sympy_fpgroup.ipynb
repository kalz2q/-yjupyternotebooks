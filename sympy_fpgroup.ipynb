{
  "nbformat": 4,
  "nbformat_minor": 0,
  "metadata": {
    "colab": {
      "name": "sympy_fpgroup.ipynb",
      "provenance": [],
      "authorship_tag": "ABX9TyP0QSiV2/8l9yTahc3JINrB",
      "include_colab_link": true
    },
    "kernelspec": {
      "name": "python3",
      "display_name": "Python 3"
    },
    "language_info": {
      "name": "python"
    }
  },
  "cells": [
    {
      "cell_type": "markdown",
      "metadata": {
        "id": "view-in-github",
        "colab_type": "text"
      },
      "source": [
        "<a href=\"https://colab.research.google.com/github/kalz2q/mycolabnotebooks/blob/master/sympy_fpgroup.ipynb\" target=\"_parent\"><img src=\"https://colab.research.google.com/assets/colab-badge.svg\" alt=\"Open In Colab\"/></a>"
      ]
    },
    {
      "cell_type": "code",
      "metadata": {
        "id": "r_8oU11wexcM"
      },
      "source": [
        ""
      ],
      "execution_count": null,
      "outputs": []
    },
    {
      "cell_type": "markdown",
      "metadata": {
        "id": "IFobaj3Ae0-6"
      },
      "source": [
        "メモ\n",
        "\n",
        "とりあえず sympy document の fpgroups を読んでみよう。 手を動かす、という意味で。\n",
        "\n",
        "山括弧\n",
        "\n",
        "https://docs.sympy.org/latest/modules/combinatorics/fp_groups.html\n"
      ]
    },
    {
      "cell_type": "code",
      "metadata": {
        "id": "cjxA00HufXDa"
      },
      "source": [
        "from sympy.combinatorics.free_groups import free_group, vfree_group, xfree_group\n",
        "from sympy.combinatorics.fp_groups import FpGroup, CosetTable, coset_enumeration_r\n"
      ],
      "execution_count": 1,
      "outputs": []
    },
    {
      "cell_type": "markdown",
      "metadata": {
        "id": "BG31UXybfohy"
      },
      "source": [
        "とりあえず import はできた。\n",
        "\n"
      ]
    },
    {
      "cell_type": "code",
      "metadata": {
        "id": "HFM_u91ghUcj",
        "outputId": "cbb47bf8-1314-41c5-e601-78a5535cc562",
        "colab": {
          "base_uri": "https://localhost:8080/",
          "height": 37
        }
      },
      "source": [
        "F,a,b = free_group(\"a,b\")\n",
        "G=FpGroup(F,[a**2,b**3,(a*b)**4])\n",
        "G"
      ],
      "execution_count": 9,
      "outputs": [
        {
          "output_type": "execute_result",
          "data": {
            "text/latex": "$\\displaystyle \\mathtt{\\text{<fp group on the generators (a, b)>}}$",
            "text/plain": [
              "<fp group on the generators (a, b)>"
            ]
          },
          "metadata": {
            "tags": []
          },
          "execution_count": 9
        }
      ]
    },
    {
      "cell_type": "code",
      "metadata": {
        "id": "tIys0G5Thevd",
        "outputId": "9e130e52-02c0-4d1f-d8a4-396f11c9e287",
        "colab": {
          "base_uri": "https://localhost:8080/",
          "height": 37
        }
      },
      "source": [
        "F,r,s,t = free_group(\"r,s,t\")\n",
        "G=FpGroup(F,[r**2,s**2,t**2,r*s*t*r**-1*t**-1*s**-1,s*t*r*s**-1*r**-1*t**-1])"
      ],
      "execution_count": 12,
      "outputs": [
        {
          "output_type": "execute_result",
          "data": {
            "text/latex": "$\\displaystyle \\mathtt{\\text{<free group on the generators (r, s, t)>}}$",
            "text/plain": [
              "<free group on the generators (r, s, t)>"
            ]
          },
          "metadata": {
            "tags": []
          },
          "execution_count": 12
        }
      ]
    },
    {
      "cell_type": "code",
      "metadata": {
        "id": "7E9QG5K7ipoF",
        "outputId": "1836855d-08f2-4378-eab7-45ba37704543",
        "colab": {
          "base_uri": "https://localhost:8080/",
          "height": 37
        }
      },
      "source": [
        "F,x,y=free_group(\"x,y\")\n",
        "F"
      ],
      "execution_count": 15,
      "outputs": [
        {
          "output_type": "execute_result",
          "data": {
            "text/latex": "$\\displaystyle \\mathtt{\\text{<free group on the generators (x, y)>}}$",
            "text/plain": [
              "<free group on the generators (x, y)>"
            ]
          },
          "metadata": {
            "tags": []
          },
          "execution_count": 15
        }
      ]
    },
    {
      "cell_type": "code",
      "metadata": {
        "id": "u_HUYmUGiyZQ",
        "outputId": "c34068fa-4372-40d3-b6ea-a1403ed0a781",
        "colab": {
          "base_uri": "https://localhost:8080/",
          "height": 37
        }
      },
      "source": [
        "F=vfree_group(\"x,y\")\n",
        "F"
      ],
      "execution_count": 16,
      "outputs": [
        {
          "output_type": "execute_result",
          "data": {
            "text/latex": "$\\displaystyle \\mathtt{\\text{<free group on the generators (x, y)>}}$",
            "text/plain": [
              "<free group on the generators (x, y)>"
            ]
          },
          "metadata": {
            "tags": []
          },
          "execution_count": 16
        }
      ]
    },
    {
      "cell_type": "code",
      "metadata": {
        "id": "MIYEx7h5jDbZ",
        "outputId": "0d40a7d5-f2af-41da-9269-2d3d1039357c",
        "colab": {
          "base_uri": "https://localhost:8080/",
          "height": 56
        }
      },
      "source": [
        "F=xfree_group(\"x,y\")\n",
        "print(F)\n",
        "x**2"
      ],
      "execution_count": 22,
      "outputs": [
        {
          "output_type": "stream",
          "text": [
            "(<free group on the generators (x, y)>, (x, y))\n"
          ],
          "name": "stdout"
        },
        {
          "output_type": "execute_result",
          "data": {
            "text/latex": "$\\displaystyle \\left( \\left( x, \\  2\\right)\\right)$",
            "text/plain": [
              "x**2"
            ]
          },
          "metadata": {
            "tags": []
          },
          "execution_count": 22
        }
      ]
    },
    {
      "cell_type": "code",
      "metadata": {
        "id": "awZODTTQjvYJ"
      },
      "source": [
        "from sympy.combinatorics.free_groups import free_group, vfree_group, xfree_group\n",
        "from sympy.combinatorics.fp_groups import FpGroup, CosetTable, coset_enumeration_r\n",
        "F, a, b = free_group(\"a, b\")\n",
        "Cox = FpGroup(F, [a**6, b**6, (a*b)**2, (a**2*b**2)**2, (a**3*b**3)**5])\n",
        "# C_r = coset_enumeration_r(Cox, [a], max_cosets=50)"
      ],
      "execution_count": 24,
      "outputs": []
    },
    {
      "cell_type": "markdown",
      "metadata": {
        "id": "1nGgDHyiY47W"
      },
      "source": [
        "# 途中だけどここまで\n",
        "\n",
        "群論の group 表記の山括弧が云々、なのでとりあえずストップ。"
      ]
    },
    {
      "cell_type": "code",
      "metadata": {
        "id": "ae5v9UDxZTBq"
      },
      "source": [
        ""
      ],
      "execution_count": null,
      "outputs": []
    }
  ]
}