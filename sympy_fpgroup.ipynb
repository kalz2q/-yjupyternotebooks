{
  "nbformat": 4,
  "nbformat_minor": 0,
  "metadata": {
    "colab": {
      "name": "sympy_fpgroup.ipynb",
      "provenance": [],
      "authorship_tag": "ABX9TyORNawSZia7/sFyuuq/kC0A",
      "include_colab_link": true
    },
    "kernelspec": {
      "name": "python3",
      "display_name": "Python 3"
    },
    "language_info": {
      "name": "python"
    }
  },
  "cells": [
    {
      "cell_type": "markdown",
      "metadata": {
        "id": "view-in-github",
        "colab_type": "text"
      },
      "source": [
        "<a href=\"https://colab.research.google.com/github/kalz2q/mycolabnotebooks/blob/master/sympy_fpgroup.ipynb\" target=\"_parent\"><img src=\"https://colab.research.google.com/assets/colab-badge.svg\" alt=\"Open In Colab\"/></a>"
      ]
    },
    {
      "cell_type": "code",
      "metadata": {
        "id": "r_8oU11wexcM"
      },
      "source": [
        ""
      ],
      "execution_count": null,
      "outputs": []
    },
    {
      "cell_type": "markdown",
      "metadata": {
        "id": "IFobaj3Ae0-6"
      },
      "source": [
        "メモ\n",
        "\n",
        "とりあえず sympy document の fpgroups を読んでみよう。 手を動かす、という意味で。\n",
        "\n",
        "山括弧\n",
        "\n",
        "https://docs.sympy.org/latest/modules/combinatorics/fp_groups.html\n"
      ]
    }
  ]
}