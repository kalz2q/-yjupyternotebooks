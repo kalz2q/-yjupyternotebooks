{
  "nbformat": 4,
  "nbformat_minor": 0,
  "metadata": {
    "colab": {
      "name": "010kagglepythonhello001.ipynb",
      "provenance": [],
      "toc_visible": true,
      "authorship_tag": "ABX9TyMjPtLRWaLLVWs/MjC+vCYk",
      "include_colab_link": true
    },
    "kernelspec": {
      "name": "python3",
      "display_name": "Python 3"
    }
  },
  "cells": [
    {
      "cell_type": "markdown",
      "metadata": {
        "id": "view-in-github",
        "colab_type": "text"
      },
      "source": [
        "<a href=\"https://colab.research.google.com/github/kalz2q/myjupyternotebooks/blob/master/010kagglepythonhello001.ipynb\" target=\"_parent\"><img src=\"https://colab.research.google.com/assets/colab-badge.svg\" alt=\"Open In Colab\"/></a>"
      ]
    },
    {
      "cell_type": "markdown",
      "metadata": {
        "id": "40b21uuB4ays",
        "colab_type": "text"
      },
      "source": [
        "# はじめに その1\n",
        "1. Colabは学習生産性が高い。なぜなら試行錯誤、壊しながら学ぶことができる。\n",
        "2. ノートブックをColabで開くだけで、元のノートのコピーができて、環境ができて、実験学習ができる。まずは上の`Open in Colab`ボタンでColabで開いてみてください。\n",
        "3. 欠点はよくも悪くもPythonがベースなこと。Pythonのどこがきらいかというと、変数のスコープがいいかげん、オブジェクト指向がいいかげん、関数プログラミングがいいかげん。いまどきのプログラミングができない、使っているだけで頭が悪くなる、と思う。\n",
        "4. それでもしかし、入門には最適なことは否めないので入門書をColabで作って、GitHubに上げておきたい。\n",
        "5. 1ファイルの大きさは1000行を目安に最大で5000行くらいにしたいと思っています。"
      ]
    },
    {
      "cell_type": "markdown",
      "metadata": {
        "id": "g-eotUl3Zcg6",
        "colab_type": "text"
      },
      "source": [
        "# はじめに その2\n",
        "kaggleのpythonチュートリアルをベースに変形していきます。\n",
        "\n",
        "https://www.kaggle.com/colinmorris/hello-python#Intro\n",
        "\n",
        "元は英語なので、はしょりながら日本語にしていく過程で変形するのと、練習問題、例題は可能なかぎり換骨奪胎する予定です。\n",
        "\n",
        "順序としては、軽く、Python文法、変数と演算子の概説から入っていきます。\n",
        "\n"
      ]
    },
    {
      "cell_type": "markdown",
      "metadata": {
        "id": "s84YRCb1cSHj",
        "colab_type": "text"
      },
      "source": [
        "# Hello, Python!\n",
        "Pythonの名前はイギリスのコメディ劇団モンティ・パイソンから来ています。\n",
        "\n",
        "コードを読んで、どんな出力になるか考えてみてください。ぜんぜんわからなくても問題ありません。\n",
        "\n",
        "考えたら、実行ボタンを押して、結果を見てみましょう"
      ]
    },
    {
      "cell_type": "code",
      "metadata": {
        "id": "6A6tdrr07dUT",
        "colab_type": "code",
        "colab": {
          "base_uri": "https://localhost:8080/",
          "height": 67
        },
        "outputId": "ff5ee1a4-960f-47b9-fa3c-c4cc2fa2e67f"
      },
      "source": [
        "amount_in_dollars = 0\n",
        "print(amount_in_dollars)\n",
        "\n",
        "# accumulated 4 dollars\n",
        "amount_in_dollars = amount_in_dollars + 4\n",
        "\n",
        "if amount_in_dollars > 0:\n",
        "    print(\"I don't want ANY money!\")\n",
        "\n",
        "money_song = \"Money \" * amount_in_dollars\n",
        "print(money_song)"
      ],
      "execution_count": null,
      "outputs": [
        {
          "output_type": "stream",
          "text": [
            "0\n",
            "I don't want ANY money!\n",
            "Money Money Money Money \n"
          ],
          "name": "stdout"
        }
      ]
    },
    {
      "cell_type": "markdown",
      "metadata": {
        "id": "-ptMHjZJZuw7",
        "colab_type": "text"
      },
      "source": [
        "説明します。\n",
        "\n",
        "短い馬鹿げたプログラムですが、Pythonコードがどんなものか、どういうふうに実行されるかについて重要な点が表現されています。\n",
        "\n",
        "では、頭から順に見ていきましょう。"
      ]
    },
    {
      "cell_type": "code",
      "metadata": {
        "id": "cq3G_mil8imK",
        "colab_type": "code",
        "colab": {}
      },
      "source": [
        "amount_in_dollars = 0"
      ],
      "execution_count": null,
      "outputs": []
    },
    {
      "cell_type": "markdown",
      "metadata": {
        "id": "eamcpwt8Zx3_",
        "colab_type": "text"
      },
      "source": [
        "変数への代入: ここでは `amount_in_dollars` という名前の変数が作られ、`=`を用いて0がアサインされています。`=`は代入演算子と呼ばれます。\n",
        "\n",
        "> 補足: Java or C++) など他のプログラミング言語を経験した方は、Pythonでは必要のないいくつかの特徴に気づいたかもしれません。\n",
        "* 値を代入する前に、変数 `amount_in_dollars` を宣言する必要はありません。\n",
        "* 変数 `amount_in_dollars` に代入される値のタイプを事前に決める必要はありません。 一旦数値を代入したあとに文字列やブール型の値を代入することもできます。"
      ]
    },
    {
      "cell_type": "code",
      "metadata": {
        "id": "dWGF-4HR9Lsu",
        "colab_type": "code",
        "colab": {
          "base_uri": "https://localhost:8080/",
          "height": 50
        },
        "outputId": "5bba585b-bddb-4d85-d418-786a50a06faa"
      },
      "source": [
        "print(amount_in_dollars)\n",
        "type (amount_in_dollars)"
      ],
      "execution_count": null,
      "outputs": [
        {
          "output_type": "stream",
          "text": [
            "4\n"
          ],
          "name": "stdout"
        },
        {
          "output_type": "execute_result",
          "data": {
            "text/plain": [
              "int"
            ]
          },
          "metadata": {
            "tags": []
          },
          "execution_count": 3
        }
      ]
    },
    {
      "cell_type": "markdown",
      "metadata": {
        "id": "uN9WPC0V9JJW",
        "colab_type": "text"
      },
      "source": [
        "関数の呼び出し: `print` は Python の関数で、与えられた値を画面に表示します。関数名のあとにカッコをつけることによって、関数を呼び出します。カッコの中には入力値(引数)を入れます。\n",
        "\n",
        "`type`もPythonのビルトイン関数で引数の型を返します。"
      ]
    },
    {
      "cell_type": "code",
      "metadata": {
        "id": "e3jOen5m9K7U",
        "colab_type": "code",
        "colab": {}
      },
      "source": [
        "# accumulated 4 dollars\n",
        "amount_in_dollars = amount_in_dollars + 4 \n",
        "\n"
      ],
      "execution_count": null,
      "outputs": []
    },
    {
      "cell_type": "markdown",
      "metadata": {
        "id": "lkcEh9wZZ3Fp",
        "colab_type": "text"
      },
      "source": [
        "上のコードの最初の行はコメントです。 Python ではコメントは`#`記号で始まります。\n",
        "\n",
        "次の行は再代入 `reassignment` の例になります。変数を作成したときと同じ `=` 演算子を使います。\n",
        "\n",
        "この例では `amount_in_dollars` への再代入に際し、以前の値に簡単な計算を施しています。この行のところに来ると、Pythonは`=`の右辺すなわち `(0 + 4 = 4)` を評価し、その結果を、左辺の変数に代入します。"
      ]
    },
    {
      "cell_type": "code",
      "metadata": {
        "id": "TYj8djVwFmL7",
        "colab_type": "code",
        "colab": {
          "base_uri": "https://localhost:8080/",
          "height": 50
        },
        "outputId": "1a8439a8-5bb6-4bf6-cd3b-f7dc407787c7"
      },
      "source": [
        "if amount_in_dollars > 0:\n",
        "    print(\"I don't want ANY money!\")\n",
        "\n",
        "money_song=\"Money Money Money\"\n",
        "print(money_song)"
      ],
      "execution_count": null,
      "outputs": [
        {
          "output_type": "stream",
          "text": [
            "I don't want ANY spam!\n",
            "Money Money Money\n"
          ],
          "name": "stdout"
        }
      ]
    },
    {
      "cell_type": "markdown",
      "metadata": {
        "id": "eD9nlSRlZ58N",
        "colab_type": "text"
      },
      "source": [
        "条件式 \"conditionals\" についてはまだ詳しくは述べませんが、プログラムしたことのない人でもこのコードのやっていることは想像がつくでしょう。Pythonはとても読みやすく、簡単な言語です。"
      ]
    },
    {
      "cell_type": "markdown",
      "metadata": {
        "id": "RroOX5ifZ9NF",
        "colab_type": "text"
      },
      "source": [
        "どのようにして、コードの if に属する部分を区別しているかについて説明します。\n",
        "\n",
        " \"I don't want ANY money!\" が出力されるのは、amount_in_dollars が正の値の時だけです。ところが、そのあとのコード(たとえば print(money_song))は条件にかかわらず実行されます。Pythonはどうやってこれを区別しているのでしょうか。\n",
        "\n",
        "if のある行のコロン (:) がコードブロックが始まることを示します。そのあとのインデントされている行がコードブロックを形成します。他の言語は一般的には`{curly braces}`でコードブロックの始まりと終わりを示します。Pythonがホワイトスペースに意味付けをして使うことは、他の言語に慣れたプログラマーが驚きますが、実際には統一的で読みやすいコードになります。\n",
        "\n",
        "他の言語でもコードブロックをインデントすることによって読みやすくすることはありますが、必須ではありません。プログラマーに任されています。"
      ]
    },
    {
      "cell_type": "markdown",
      "metadata": {
        "id": "sqZmcC-1aAAj",
        "colab_type": "text"
      },
      "source": [
        "次からの行はmoney_songを扱っていて、4スペースでインデントされていないので、if のコードブロックには属していません。インデントされたコードブロックの例はあとで関数の定義とくり返しの説明の時に出てきます。\n",
        "\n",
        "このコードスニペットで初めてPythonにおける文字列の例が出てきています。\n",
        "```\n",
        "\"I don't want ANY money!\"\n",
        "```\n",
        "\n",
        "文字列はダブルクォートもしくはシングルクォートで囲まれます。この例の場合は文字列がシングルクォートを含んでいますので、なんらかの対応をしないと全体をシングルクォートで囲むことはできません。対応方法については後述します。\n"
      ]
    },
    {
      "cell_type": "code",
      "metadata": {
        "id": "k8uEKGPJmFz4",
        "colab_type": "code",
        "colab": {
          "base_uri": "https://localhost:8080/",
          "height": 35
        },
        "outputId": "0c229b23-cbb7-4e1f-9ce0-1a418f3bb9dc"
      },
      "source": [
        "money_song = \"Money \" * amount_in_dollars\n",
        "print(money_song)"
      ],
      "execution_count": null,
      "outputs": [
        {
          "output_type": "stream",
          "text": [
            "Spam Spam Spam Spam \n"
          ],
          "name": "stdout"
        }
      ]
    },
    {
      "cell_type": "markdown",
      "metadata": {
        "id": "1boVcCdnaC8u",
        "colab_type": "text"
      },
      "source": [
        "演算子`*` はふつうはふたつの数字を掛け合わせる (3 * 3 -> 9) のに使われますが、おもしろいことに文字列に演算子 `*` を使うと文字列の繰り返しになります。他にも演算子 `+` が数字に使われる時と文字列に使われる時が違う意味で便利に使えるようになっています。この仕組みを演算子オーバーロードと言います。"
      ]
    },
    {
      "cell_type": "markdown",
      "metadata": {
        "id": "1lgHyBPUaI2L",
        "colab_type": "text"
      },
      "source": [
        "## Pythonの数字と演算について\n",
        "すでに数字を含む変数の例を一つ見ました。\n"
      ]
    },
    {
      "cell_type": "code",
      "metadata": {
        "id": "Tu9MRo76yJJQ",
        "colab_type": "code",
        "colab": {}
      },
      "source": [
        "amount_in_dollars = 0"
      ],
      "execution_count": null,
      "outputs": []
    },
    {
      "cell_type": "markdown",
      "metadata": {
        "id": "iSsP3s-eyGsn",
        "colab_type": "text"
      },
      "source": [
        "数字にもいろんな種類があります。Pythonの`type`という関数を使うと、型 `type` を表示するできます。\n"
      ]
    },
    {
      "cell_type": "code",
      "metadata": {
        "id": "i9FS6gNiy4L5",
        "colab_type": "code",
        "colab": {
          "base_uri": "https://localhost:8080/",
          "height": 34
        },
        "outputId": "f6645638-afe3-4f2c-da15-f22724ddd856"
      },
      "source": [
        "type (amount_in_dollars)"
      ],
      "execution_count": null,
      "outputs": [
        {
          "output_type": "execute_result",
          "data": {
            "text/plain": [
              "int"
            ]
          },
          "metadata": {
            "tags": []
          },
          "execution_count": 28
        }
      ]
    },
    {
      "cell_type": "code",
      "metadata": {
        "id": "zVyPmTZULBnJ",
        "colab_type": "code",
        "colab": {
          "base_uri": "https://localhost:8080/",
          "height": 34
        },
        "outputId": "c033c81e-9da4-484f-f947-582468582d4b"
      },
      "source": [
        "if type (amount_in_dollars) == int:\n",
        "  print (\"整数!!!!\")"
      ],
      "execution_count": null,
      "outputs": [
        {
          "output_type": "stream",
          "text": [
            "整数!!!!\n"
          ],
          "name": "stdout"
        }
      ]
    },
    {
      "cell_type": "markdown",
      "metadata": {
        "id": "B_JZiwtey2lz",
        "colab_type": "text"
      },
      "source": [
        "これで、amount_in_dollarsが `int` であることがわかりました。`int` は integer (整数) の省略形です。\n",
        "次はどうでしょうか。\n"
      ]
    },
    {
      "cell_type": "code",
      "metadata": {
        "id": "lQcL51SXzaM4",
        "colab_type": "code",
        "colab": {
          "base_uri": "https://localhost:8080/",
          "height": 34
        },
        "outputId": "666e2a80-f3a3-4863-cf06-aa71b826df3a"
      },
      "source": [
        "type (19.95)"
      ],
      "execution_count": null,
      "outputs": [
        {
          "output_type": "execute_result",
          "data": {
            "text/plain": [
              "float"
            ]
          },
          "metadata": {
            "tags": []
          },
          "execution_count": 29
        }
      ]
    },
    {
      "cell_type": "markdown",
      "metadata": {
        "id": "4HK--BFczYO8",
        "colab_type": "text"
      },
      "source": [
        "\n",
        "`float` は浮動小数点型で重さや割合を表すのに便利な数字です。\n",
        "\n",
        "`type()` は `print()` と同様にPythonに始めからあるビルトイン関数の一つです。型を確認するのに便利に使えます。\n",
        "\n",
        "数字について電卓にあるような四則演算の演算子は Python にもあります。"
      ]
    },
    {
      "cell_type": "markdown",
      "metadata": {
        "id": "XoLEAEkFaMlo",
        "colab_type": "text"
      },
      "source": [
        "| Operator\t| Name\t| Description |\n",
        "| ---- | ---- | ----|\n",
        "|a + b  | Addition\t     |   Sum of a and b |\n",
        "|a - b\t| Subtraction\t   |   Difference of a and b |\n",
        "|a * b\t| Multiplication |\t Product of a and b |\n",
        "|a / b\t| True division\t |   Quotient of a and b |\n",
        "|a // b\t| Floor division |\t Quotient of a and b, removing fractional parts |\n",
        "|a % b\t| Modulus\t       |   Integer remainder after division of a by b |\n",
        "|a ** b\t| Exponentiation |\t a raised to the power of b |\n",
        "|-a\t    | Negation\t     |   The negative of a |\n",
        "\n",
        "割り算の演算子が2種類あることに注意してください。\n",
        "電卓の割り算は \"True division\" です。\n"
      ]
    },
    {
      "cell_type": "code",
      "metadata": {
        "id": "5vVRzjxe_BbW",
        "colab_type": "code",
        "colab": {
          "base_uri": "https://localhost:8080/",
          "height": 50
        },
        "outputId": "66777b77-acc0-46b0-9c7f-0bc0057b0f38"
      },
      "source": [
        "print (5 / 2)\n",
        "print (6 / 2)"
      ],
      "execution_count": null,
      "outputs": [
        {
          "output_type": "stream",
          "text": [
            "2.5\n",
            "3.0\n"
          ],
          "name": "stdout"
        }
      ]
    },
    {
      "cell_type": "code",
      "metadata": {
        "id": "OiCyMtko_Jf6",
        "colab_type": "code",
        "colab": {
          "base_uri": "https://localhost:8080/",
          "height": 50
        },
        "outputId": "e9b6e657-16ba-428a-9313-d700d9ba86ed"
      },
      "source": [
        "print (9 // 4)\n",
        "print (-9 // 4)"
      ],
      "execution_count": null,
      "outputs": [
        {
          "output_type": "stream",
          "text": [
            "2\n",
            "-3\n"
          ],
          "name": "stdout"
        }
      ]
    },
    {
      "cell_type": "markdown",
      "metadata": {
        "id": "ogC_bO-J-_aO",
        "colab_type": "text"
      },
      "source": [
        "演算子 `/` の結果は常に `float` です。\n",
        "\n",
        "演算子 `//` は割り算の結果以下の最大の整数を返します。"
      ]
    },
    {
      "cell_type": "code",
      "metadata": {
        "id": "L_6IaF1OZ4gW",
        "colab_type": "code",
        "colab": {
          "base_uri": "https://localhost:8080/",
          "height": 50
        },
        "outputId": "d622da89-8a92-4868-8313-70bb56f3e064"
      },
      "source": [
        "print (5 // 2)\n",
        "print (6 // 2)"
      ],
      "execution_count": null,
      "outputs": [
        {
          "output_type": "stream",
          "text": [
            "2\n",
            "3\n"
          ],
          "name": "stdout"
        }
      ]
    },
    {
      "cell_type": "markdown",
      "metadata": {
        "id": "ci6ETS-HaPxr",
        "colab_type": "text"
      },
      "source": [
        "これがどんなところで便利かわかりますか？ そんな例はもうすぐ目にすることができます。\n",
        "\n",
        "### 演算の優先順位\n",
        "小学校で習う算数で、計算には順序があることを習います。PEMDAS というニーモニックを覚えている人もいるでしょう。\n",
        "* Parentheses カッコ\n",
        "* Exponents 冪乗\n",
        "* Multiplication/Division 乗算/除法\n",
        "* Addtion/Subtraction 加算/原産\n",
        "\n",
        "Python においてもほぼ似たようなルールが適用されます。\n"
      ]
    },
    {
      "cell_type": "code",
      "metadata": {
        "id": "CKbrRj2Lbs_s",
        "colab_type": "code",
        "colab": {
          "base_uri": "https://localhost:8080/",
          "height": 34
        },
        "outputId": "f40a0d4d-8e61-4c58-e417-b5d500d8f19e"
      },
      "source": [
        "8 - 3 + 2"
      ],
      "execution_count": null,
      "outputs": [
        {
          "output_type": "execute_result",
          "data": {
            "text/plain": [
              "7"
            ]
          },
          "metadata": {
            "tags": []
          },
          "execution_count": 35
        }
      ]
    },
    {
      "cell_type": "code",
      "metadata": {
        "id": "hRWoU9A2btpz",
        "colab_type": "code",
        "colab": {
          "base_uri": "https://localhost:8080/",
          "height": 34
        },
        "outputId": "04c047dc-18d9-4fea-9a9f-5752821cc7dd"
      },
      "source": [
        "-3 + 4 * 2"
      ],
      "execution_count": null,
      "outputs": [
        {
          "output_type": "execute_result",
          "data": {
            "text/plain": [
              "5"
            ]
          },
          "metadata": {
            "tags": []
          },
          "execution_count": 36
        }
      ]
    },
    {
      "cell_type": "markdown",
      "metadata": {
        "id": "FBO7f8GacFyH",
        "colab_type": "text"
      },
      "source": [
        "次の例ではカッコによって強制的に計算の順序を変える必要があります。"
      ]
    },
    {
      "cell_type": "code",
      "metadata": {
        "id": "dN6LRC9NcFVd",
        "colab_type": "code",
        "colab": {
          "base_uri": "https://localhost:8080/",
          "height": 34
        },
        "outputId": "f26a0108-7080-417c-a1ff-a43395e62315"
      },
      "source": [
        "# 頭を除いた肩までの高さを計算する\n",
        "head_height_cm = 25\n",
        "my_height_cm = 190\n",
        "shoulder_height_meters = ( my_height_cm - head_height_cm ) / 100\n",
        "print(\"Shoulder height in meters = \" ,  shoulder_height_meters, \"?\")"
      ],
      "execution_count": null,
      "outputs": [
        {
          "output_type": "stream",
          "text": [
            "Shoulder height in meters =  1.65 ?\n"
          ],
          "name": "stdout"
        }
      ]
    },
    {
      "cell_type": "markdown",
      "metadata": {
        "id": "XXxVWcYXaTe5",
        "colab_type": "text"
      },
      "source": [
        "# 数字に関するビルトイン関数\n",
        "`min` と `max` は引数の最小値と最大値を返します。\n",
        "\n"
      ]
    },
    {
      "cell_type": "code",
      "metadata": {
        "id": "UbgZlsdfdyd1",
        "colab_type": "code",
        "colab": {
          "base_uri": "https://localhost:8080/",
          "height": 50
        },
        "outputId": "cfffcd32-a7ef-4899-edd1-231344dcaf26"
      },
      "source": [
        "print(min(1, 2, 3)) \n",
        "print(max(1, 2, 3))"
      ],
      "execution_count": null,
      "outputs": [
        {
          "output_type": "stream",
          "text": [
            "1\n",
            "3\n"
          ],
          "name": "stdout"
        }
      ]
    },
    {
      "cell_type": "markdown",
      "metadata": {
        "id": "640_qV05dxG8",
        "colab_type": "text"
      },
      "source": [
        "`abs` は引数の絶対値を返します。\n"
      ]
    },
    {
      "cell_type": "code",
      "metadata": {
        "id": "jgHDje1yeCvN",
        "colab_type": "code",
        "colab": {
          "base_uri": "https://localhost:8080/",
          "height": 50
        },
        "outputId": "92edd4c2-066a-4f3b-adb0-3d8895e316a6"
      },
      "source": [
        "print(abs(32)) \n",
        "print(abs(-32)) "
      ],
      "execution_count": null,
      "outputs": [
        {
          "output_type": "stream",
          "text": [
            "32\n",
            "32\n"
          ],
          "name": "stdout"
        }
      ]
    },
    {
      "cell_type": "markdown",
      "metadata": {
        "id": "7dNlJxGPd_sm",
        "colab_type": "text"
      },
      "source": [
        "`float` と `int` は数字の型の名前であるだけでなく引数の型を変換する関数として呼び出すことができます。"
      ]
    },
    {
      "cell_type": "code",
      "metadata": {
        "id": "ZsxeQZplekRg",
        "colab_type": "code",
        "colab": {
          "base_uri": "https://localhost:8080/",
          "height": 84
        },
        "outputId": "b0e154b5-0d74-40df-ff61-9e1607e3454e"
      },
      "source": [
        "print(float(10)) \n",
        "print(int(3.33))\n",
        "print (int (-3.33))\n",
        "print(-3.33 // 1)"
      ],
      "execution_count": null,
      "outputs": [
        {
          "output_type": "stream",
          "text": [
            "10.0\n",
            "3\n",
            "-3\n",
            "-4.0\n"
          ],
          "name": "stdout"
        }
      ]
    },
    {
      "cell_type": "code",
      "metadata": {
        "id": "MCl8fTn9ewkA",
        "colab_type": "code",
        "colab": {
          "base_uri": "https://localhost:8080/",
          "height": 50
        },
        "outputId": "6aca7bbf-26bd-4ec7-9193-e1ec5281f197"
      },
      "source": [
        "# They can even be called on strings!\n",
        "print(int('807') + 1)\n",
        "10.0\n",
        "print(float('33.3') + 0.2 )"
      ],
      "execution_count": null,
      "outputs": [
        {
          "output_type": "stream",
          "text": [
            "808\n",
            "33.5\n"
          ],
          "name": "stdout"
        }
      ]
    },
    {
      "cell_type": "markdown",
      "metadata": {
        "id": "zMJ3df-ve0cG",
        "colab_type": "text"
      },
      "source": [
        "# 練習問題\n",
        "https://www.kaggle.com/takayukikatsuya/exercise-syntax-variables-and-numbers/edit\n",
        "\n",
        "練習問題のページにようこそ！\n",
        "\n",
        "練習問題ではColabのノートブックの機能を使って実際にプログラムを書いて、実行してみることになります。\n",
        "\n",
        "最初にためしに次のコードセルを、実行してみてください。\n",
        "\n",
        "* 実行ボタンを押す。\n",
        "* セルをクリックして選択してから、`Ctrl+Enter` を押す。\n",
        "\n",
        "どちらの方法でもかまいません。\n",
        "\n",
        "\n"
      ]
    },
    {
      "cell_type": "code",
      "metadata": {
        "id": "IJDVhg1dhHL2",
        "colab_type": "code",
        "colab": {
          "base_uri": "https://localhost:8080/",
          "height": 50
        },
        "outputId": "f950c8ef-c628-48de-bae8-c69fbf5dbc60"
      },
      "source": [
        "print(\"Pythonコードを実行しました!!!!\") \n",
        "print(\"おめでとう!!!!\")"
      ],
      "execution_count": null,
      "outputs": [
        {
          "output_type": "stream",
          "text": [
            "Pythonコードを実行しました!!!!\n",
            "おめでとう!!!!\n"
          ],
          "name": "stdout"
        }
      ]
    },
    {
      "cell_type": "markdown",
      "metadata": {
        "id": "_CHHm3Lkgm56",
        "colab_type": "text"
      },
      "source": [
        "コードを追加したり変えてみて、再度実行してみましょう。\n",
        "\n"
      ]
    },
    {
      "cell_type": "markdown",
      "metadata": {
        "id": "B6LqYa63h7m9",
        "colab_type": "text"
      },
      "source": [
        "### 問題 0. 変数、代入、文字列\n",
        "*あなたの好きな色は何色ですか？*\n",
        "\n",
        "colorという変数を作って、値を代入する。文字列はシングルクォートまたはダブルクォートで囲みます。\n",
        "\n"
      ]
    },
    {
      "cell_type": "code",
      "metadata": {
        "id": "wPONAdf2Y8kz",
        "colab_type": "code",
        "colab": {
          "base_uri": "https://localhost:8080/",
          "height": 54
        },
        "outputId": "47c812f4-e55f-4fe7-efeb-a3a97bb14bbf"
      },
      "source": [
        "color = \"pink\"\n",
        "print(color)\n",
        "type(color)"
      ],
      "execution_count": null,
      "outputs": [
        {
          "output_type": "stream",
          "text": [
            "pink\n"
          ],
          "name": "stdout"
        },
        {
          "output_type": "execute_result",
          "data": {
            "text/plain": [
              "str"
            ]
          },
          "metadata": {
            "tags": []
          },
          "execution_count": 2
        }
      ]
    },
    {
      "cell_type": "markdown",
      "metadata": {
        "id": "HEKJfvKFfN68",
        "colab_type": "text"
      },
      "source": [
        "### 問題 1. 四則演算\n",
        "| 演算子\t| 名前\t| 説明 |\n",
        "| ---- | ---- | ----|\n",
        "|a + b  | 加算\t     |   aとbの合計 |\n",
        "|a - b\t| 減算\t   |   aとbの差分 |\n",
        "|a * b\t| 乗法 |\t aとbの積 |\n",
        "|a / b\t| 除法\t |   aとbの商 |\n",
        "|a // b\t| 床除法 |\t aとbの商から少数部分を除いたもの |\n",
        "|a % b\t| 余り       |   整数割り算の余り |\n",
        "|a ** b\t| 冪乗 |\t aのb乗 |\n",
        "|-a\t    | マイナス\t     |   マイナスa |\n"
      ]
    },
    {
      "cell_type": "code",
      "metadata": {
        "id": "-k5AQuYJPE4b",
        "colab_type": "code",
        "colab": {
          "base_uri": "https://localhost:8080/",
          "height": 34
        },
        "outputId": "569458c0-781c-41ed-e560-0199b66b7b0f"
      },
      "source": [
        "pi = 3.14159 # 少数5桁までの円周率π\n",
        "diameter = 3 # 直径\n",
        "\n",
        "# 直径の半分の長さの半径(radius)という名前の変数を作る\n",
        "radius = diameter / 2\n",
        "\n",
        "# 公式 円の面積 = 円周率かける半径の二乗 を使って円の面積を(area)計算する\n",
        "area = pi * radius ** 2\n",
        "print (\"円の面積: \" , area)"
      ],
      "execution_count": null,
      "outputs": [
        {
          "output_type": "stream",
          "text": [
            "円の面積:  7.0685775\n"
          ],
          "name": "stdout"
        }
      ]
    },
    {
      "cell_type": "markdown",
      "metadata": {
        "id": "QoVDyTW_Z_l8",
        "colab_type": "text"
      },
      "source": [
        "# いまここ"
      ]
    },
    {
      "cell_type": "markdown",
      "metadata": {
        "id": "T2uJHafQPn-D",
        "colab_type": "text"
      },
      "source": [
        "## 問題 2. 変数aとbの中身を入れ替える\n",
        "つまり、aの中身が以前のbでbの中身が以前のaになるようにする。\n"
      ]
    },
    {
      "cell_type": "code",
      "metadata": {
        "id": "cXU6Zk11lFUp",
        "colab_type": "code",
        "colab": {
          "base_uri": "https://localhost:8080/",
          "height": 50
        },
        "outputId": "0065701d-dca1-4e49-cf46-d2fb2b0c98a1"
      },
      "source": [
        "a = [1, 2, 3]\n",
        "b = [3, 2, 1]\n",
        "print(a, b)\n",
        "temp = a; a = b; b = temp\n",
        "print(a, b)\n"
      ],
      "execution_count": 17,
      "outputs": [
        {
          "output_type": "stream",
          "text": [
            "[1, 2, 3] [3, 2, 1]\n",
            "[3, 2, 1] [1, 2, 3]\n"
          ],
          "name": "stdout"
        }
      ]
    },
    {
      "cell_type": "markdown",
      "metadata": {
        "id": "wkYajL54Prth",
        "colab_type": "text"
      },
      "source": [
        "## 問題 3. カッコを使って計算結果を変えるクイズ"
      ]
    },
    {
      "cell_type": "code",
      "metadata": {
        "id": "oxm7M6xcls1R",
        "colab_type": "code",
        "colab": {
          "base_uri": "https://localhost:8080/",
          "height": 50
        },
        "outputId": "f641151e-b448-474e-c796-35d533703899"
      },
      "source": [
        "# カッコを使って計算結果を1にする\n",
        "print (5 - 3 // 2)\n",
        "print ((5 - 3) // 2)"
      ],
      "execution_count": 20,
      "outputs": [
        {
          "output_type": "stream",
          "text": [
            "4\n",
            "1\n"
          ],
          "name": "stdout"
        }
      ]
    },
    {
      "cell_type": "code",
      "metadata": {
        "id": "YuePq7mjmcFO",
        "colab_type": "code",
        "colab": {
          "base_uri": "https://localhost:8080/",
          "height": 50
        },
        "outputId": "fd67e134-d83b-4abf-dafb-b5eafde4dad1"
      },
      "source": [
        "# カッコを使って計算結果を0にする\n",
        "print(8 - 3 * 2 - 1 + 1)\n",
        "print(8 - (3 * 2) - (1 + 1))"
      ],
      "execution_count": 24,
      "outputs": [
        {
          "output_type": "stream",
          "text": [
            "2\n",
            "0\n"
          ],
          "name": "stdout"
        }
      ]
    },
    {
      "cell_type": "markdown",
      "metadata": {
        "id": "0LLxbCU7lrBX",
        "colab_type": "text"
      },
      "source": [
        "## 問題 4. AliceとBobとCarolはハロウィーンキャンディを集めて3人で平等に分けて、余りが出た場合は潰して捨てることにしました。"
      ]
    },
    {
      "cell_type": "code",
      "metadata": {
        "id": "FOgYBiPSn3Eg",
        "colab_type": "code",
        "colab": {
          "base_uri": "https://localhost:8080/",
          "height": 34
        },
        "outputId": "fe2cb529-8e22-4f33-d3ff-647de157a2f8"
      },
      "source": [
        "# 例えば、全部で91だった場合、30個ずつ取って、1個捨てる\n",
        "# 捨てなければならないキャンディの数を算出する\n",
        "alice_candies = 121\n",
        "bob_candies = 77\n",
        "carol_candies = 109\n",
        "\n",
        "to_smash = (alice_candies + bob_candies + carol_candies) % 3\n",
        "print(to_smash)"
      ],
      "execution_count": 27,
      "outputs": [
        {
          "output_type": "stream",
          "text": [
            "1\n"
          ],
          "name": "stdout"
        }
      ]
    }
  ]
}