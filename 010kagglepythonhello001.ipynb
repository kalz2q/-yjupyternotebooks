{
  "nbformat": 4,
  "nbformat_minor": 0,
  "metadata": {
    "colab": {
      "name": "010kagglepythonhello001.ipynb",
      "provenance": [],
      "toc_visible": true,
      "authorship_tag": "ABX9TyMWoIEvBpd3tE7bqps+n1nR",
      "include_colab_link": true
    },
    "kernelspec": {
      "name": "python3",
      "display_name": "Python 3"
    }
  },
  "cells": [
    {
      "cell_type": "markdown",
      "metadata": {
        "id": "view-in-github",
        "colab_type": "text"
      },
      "source": [
        "<a href=\"https://colab.research.google.com/github/kalz2q/myjupyternotebooks/blob/master/010kagglepythonhello001.ipynb\" target=\"_parent\"><img src=\"https://colab.research.google.com/assets/colab-badge.svg\" alt=\"Open In Colab\"/></a>"
      ]
    },
    {
      "cell_type": "markdown",
      "metadata": {
        "id": "g-eotUl3Zcg6",
        "colab_type": "text"
      },
      "source": [
        "# はじめに\n",
        "kaggleのpythonチュートリアルを勉強しています。\n",
        "\n",
        "https://www.kaggle.com/colinmorris/hello-python#Intro\n",
        "\n",
        "データサイエンス用とのことなのですが、pythonの入門部分は同じだろうと思うのと、目的があっての書き方はかえって全般的な入門よりいいかな、と思うのと、入門書はいろいろあっていいいし、特にColabを使った入門書はまだあまりないので、これを使ってみます。\n",
        "\n",
        "困るのはまず英語であることと、Colabの使い方の説明を兼ねているのに、Colabにコピーできないみたいなので、テキストコピーして見比べながら使っています。\n",
        "\n",
        "Hello, Pythonという表題だけど、まったくのプログラミングしろうと用には\n",
        "\n",
        "python for non-programmers\n",
        "\n",
        "という入門書もあるとのこと。それもやるかもしれない。\n",
        "\n",
        "順序としては、短いPython文法、変数と演算子の概説から入ります。\n",
        "\n"
      ]
    },
    {
      "cell_type": "markdown",
      "metadata": {
        "id": "s84YRCb1cSHj",
        "colab_type": "text"
      },
      "source": [
        "# Hello, Python!\n",
        "Pythonの名前はイギリスのコメディ劇団モンティ・パイソンから来ています。\n",
        "\n",
        "彼らのスパムについてのスキットに敬意を表したプログラムから始めたいと思います。\n",
        "\n",
        "コードを読んで、どんな出力になるか考えてみてください。ぜんぜんわからなくても問題ありません。\n",
        "\n",
        "考えたら、実行ボタンを押して、結果を見てみましょう"
      ]
    },
    {
      "cell_type": "code",
      "metadata": {
        "id": "6A6tdrr07dUT",
        "colab_type": "code",
        "colab": {
          "base_uri": "https://localhost:8080/",
          "height": 72
        },
        "outputId": "f6318475-f1ce-422a-a4ff-91c1146e09ea"
      },
      "source": [
        "spam_amount = 0\n",
        "print(spam_amount)\n",
        "\n",
        "# Ordering Spam, egg, Spam, Spam, bacon and Spam (4 more servings of Spam)\n",
        "spam_amount = spam_amount + 4\n",
        "\n",
        "if spam_amount > 0:\n",
        "    print(\"But I don't want ANY spam!\")\n",
        "\n",
        "viking_song = \"Spam \" * spam_amount\n",
        "print(viking_song)"
      ],
      "execution_count": null,
      "outputs": [
        {
          "output_type": "stream",
          "text": [
            "0\n",
            "But I don't want ANY spam!\n",
            "Spam Spam Spam Spam \n"
          ],
          "name": "stdout"
        }
      ]
    },
    {
      "cell_type": "markdown",
      "metadata": {
        "id": "-ptMHjZJZuw7",
        "colab_type": "text"
      },
      "source": [
        "説明します。\n",
        "\n",
        "短い馬鹿げたプログラムですが、Pythonコードがどんなものか、どういうふうに実行されるかについて重要な点が表現されています。\n",
        "\n",
        "では、頭から順に見ていきましょう。"
      ]
    },
    {
      "cell_type": "code",
      "metadata": {
        "id": "cq3G_mil8imK",
        "colab_type": "code",
        "colab": {}
      },
      "source": [
        "spam_amount = 0"
      ],
      "execution_count": null,
      "outputs": []
    },
    {
      "cell_type": "markdown",
      "metadata": {
        "id": "eamcpwt8Zx3_",
        "colab_type": "text"
      },
      "source": [
        "変数への代入: ここでは spam_amount という名前の変数が作られ、`=`を用いて0がアサインされています。`=`は代入演算子と呼ばれます。\n",
        "\n",
        "> 補足: Java or C++) など他のプログラミング言語を経験した方は、Pythonでは必要のないいくつかの特徴に気づいたかもしれません。\n",
        "* 値を代入する前に、変数 spam_amount を宣言する必要はありません\n",
        "* we don't need to tell Python what type of value spam_amount is going to refer to. In fact, we can even go on to reassign spam_amount to refer to a different sort of thing like a string or a boolean.\n",
        "\n",
        "> Aside: If you've programmed in certain other languages (like Java or C++), you might be noticing some things Python doesn't require us to do here:\n",
        "* we don't need to \"declare\" spam_amount before assigning to it\n",
        "* we don't need to tell Python what type of value spam_amount is going to refer to. In fact, we can even go on to reassign spam_amount to refer to a different sort of thing like a string or a boolean.\n"
      ]
    },
    {
      "cell_type": "code",
      "metadata": {
        "id": "dWGF-4HR9Lsu",
        "colab_type": "code",
        "colab": {}
      },
      "source": [
        "print(spam_amount)"
      ],
      "execution_count": null,
      "outputs": []
    },
    {
      "cell_type": "markdown",
      "metadata": {
        "id": "uN9WPC0V9JJW",
        "colab_type": "text"
      },
      "source": [
        "\n",
        "print(spam_amount)\n",
        "0\n",
        "Function calls:. print is a Python function that displays the value passed to it on the screen. We call functions by putting parentheses after their name, and putting the inputs (or arguments) to the function in those parentheses."
      ]
    },
    {
      "cell_type": "markdown",
      "metadata": {
        "id": "lkcEh9wZZ3Fp",
        "colab_type": "text"
      },
      "source": [
        "# Ordering Spam, egg, Spam, Spam, bacon and Spam (4 more servings of Spam)\n",
        "spam_amount = spam_amount + 4\n",
        "The first line above is a comment. In Python, comments begin with the # symbol.\n",
        "\n",
        "Next we see an example of reassignment. Reassigning the value of an existing variable looks just the same as creating a variable - it still uses the = assignment operator.\n",
        "\n",
        "In this case, the value we're assigning to spam_amount involves some simple arithmetic on its previous value. When it encounters this line, Python evaluates the expression on the right-hand-side of the = (0 + 4 = 4), and then assigns that value to the variable on the left-hand-side."
      ]
    },
    {
      "cell_type": "markdown",
      "metadata": {
        "id": "eD9nlSRlZ58N",
        "colab_type": "text"
      },
      "source": [
        "if spam_amount > 0:\n",
        "    print(\"But I don't want ANY spam!\")\n",
        "\n",
        "viking_song = \"Spam Spam Spam\"\n",
        "print(viking_song)\n",
        "But I don't want ANY spam!\n",
        "Spam Spam Spam\n",
        "We won't talk much about \"conditionals\" until later, but, even if you've never coded before, you can probably guess what this does. Python is prized for its readability and the simplicity."
      ]
    },
    {
      "cell_type": "markdown",
      "metadata": {
        "id": "RroOX5ifZ9NF",
        "colab_type": "text"
      },
      "source": [
        "Note how we indicated which code belongs to the if. \"But I don't want ANY spam!\" is only supposed to be printed if spam_amount is positive. But the later code (like print(viking_song)) should be executed no matter what. How do we (and Python) know that?\n",
        "\n",
        "The colon (:) at the end of the if line indicates that a new \"code block\" is starting. Subsequent lines which are indented are part of that code block. Some other languages use {curly braces} to mark the beginning and end of code blocks. Python's use of meaningful whitespace can be surprising to programmers who are accustomed to other languages, but in practice it can lead to more consistent and readable code than languages that do not enforce indentation of code blocks."
      ]
    },
    {
      "cell_type": "markdown",
      "metadata": {
        "id": "sqZmcC-1aAAj",
        "colab_type": "text"
      },
      "source": [
        "The later lines dealing with viking_song are not indented with an extra 4 spaces, so they're not a part of the if's code block. We'll see more examples of indented code blocks later when we define functions and using loops.\n",
        "\n",
        "This code snippet is also our first sighting of a string in Python:\n",
        "\n",
        "\"But I don't want ANY spam!\"\n",
        "Strings can be marked either by double or single quotation marks. (But because this particular string contains a single-quote character, we might confuse Python by trying to surround it with single-quotes, unless we're careful.)"
      ]
    },
    {
      "cell_type": "markdown",
      "metadata": {
        "id": "1boVcCdnaC8u",
        "colab_type": "text"
      },
      "source": [
        "viking_song = \"Spam \" * spam_amount\n",
        "print(viking_song)\n",
        "Spam Spam Spam Spam \n",
        "The * operator can be used to multiply two numbers (3 * 3 evaluates to 9), but amusingly enough, we can also multiply a string by a number, to get a version that's been repeated that many times. Python offers a number of cheeky little time-saving tricks like this where operators like * and + have a different meaning depending on what kind of thing they're applied to. (The technical term for this is operator overloading)"
      ]
    },
    {
      "cell_type": "markdown",
      "metadata": {
        "id": "1lgHyBPUaI2L",
        "colab_type": "text"
      },
      "source": [
        "\n",
        "Numbers and arithmetic in Python\n",
        "We've already seen an example of a variable containing a number above:\n",
        "\n",
        "spam_amount = 0\n",
        "\"Number\" is a fine informal name for the kind of thing, but if we wanted to be more technical, we could ask Python how it would describe the type of thing that spam_amount is:\n",
        "\n",
        "type(spam_amount)\n",
        "int\n",
        "It's an int - short for integer. There's another sort of number we commonly encounter in Python:\n",
        "\n",
        "type(19.95)\n",
        "float\n",
        "A float is a number with a decimal place - very useful for representing things like weights or proportions.\n",
        "\n",
        "type() is the second built-in function we've seen (after print()), and it's another good one to remember. It's very useful to be able to ask Python \"what kind of thing is this?\".\n",
        "\n",
        "A natural thing to want to do with numbers is perform arithmetic. We've seen the + operator for addition, and the * operator for multiplication (of a sort). Python also has us covered for the rest of the basic buttons on your calculator:"
      ]
    },
    {
      "cell_type": "markdown",
      "metadata": {
        "id": "XoLEAEkFaMlo",
        "colab_type": "text"
      },
      "source": [
        "\n",
        "\n",
        "Operator\tName\tDescription\n",
        "a + b\tAddition\tSum of a and b\n",
        "a - b\tSubtraction\tDifference of a and b\n",
        "a * b\tMultiplication\tProduct of a and b\n",
        "a / b\tTrue division\tQuotient of a and b\n",
        "a // b\tFloor division\tQuotient of a and b, removing fractional parts\n",
        "a % b\tModulus\tInteger remainder after division of a by b\n",
        "a ** b\tExponentiation\ta raised to the power of b\n",
        "-a\tNegation\tThe negative of a\n",
        "One interesting observation here is that, whereas your calculator probably just has one button for division, Python can do two kinds. \"True division\" is basically what your calculator does:\n",
        "\n",
        "print(5 / 2)\n",
        "print(6 / 2)\n",
        "2.5\n",
        "3.0\n",
        "It always gives us a float.\n",
        "\n",
        "The // operator gives us a result that's rounded down to the next integer."
      ]
    },
    {
      "cell_type": "markdown",
      "metadata": {
        "id": "ci6ETS-HaPxr",
        "colab_type": "text"
      },
      "source": [
        "\n",
        "\n",
        "print(5 // 2)\n",
        "print(6 // 2)\n",
        "2\n",
        "3\n",
        "Can you think of where this would be useful? You'll see an example soon in the coding challenges.\n",
        "\n",
        "Order of operations\n",
        "The arithmetic we learned in primary school has conventions about the order in which operations are evaluated. Some remember these by a mnemonic such as PEMDAS - Parentheses, Exponents, Multiplication/Division, Addition/Subtraction.\n",
        "\n",
        "Python follows similar rules about which calculations to perform first. They're mostly pretty intuitive.\n",
        "\n",
        "8 - 3 + 2\n",
        "7\n",
        "-3 + 4 * 2\n",
        "5\n",
        "Sometimes the default order of operations isn't what we want:\n",
        "\n",
        "hat_height_cm = 25\n",
        "my_height_cm = 190\n",
        "# How tall am I, in meters, when wearing my hat?"
      ]
    },
    {
      "cell_type": "markdown",
      "metadata": {
        "id": "XXxVWcYXaTe5",
        "colab_type": "text"
      },
      "source": [
        "\n",
        "total_height_meters = hat_height_cm + my_height_cm / 100\n",
        "print(\"Height in meters =\", total_height_meters, \"?\")\n",
        "Height in meters = 26.9 ?\n",
        "Parentheses are your useful here. You can add them to force Python to evaluate sub-expressions in whatever order you want.\n",
        "\n",
        "total_height_meters = (hat_height_cm + my_height_cm) / 100\n",
        "print(\"Height in meters =\", total_height_meters)\n",
        "Height in meters = 2.15\n",
        "Builtin functions for working with numbers\n",
        "min and max return the minimum and maximum of their arguments, respectively...\n",
        "\n",
        "print(min(1, 2, 3))\n",
        "print(max(1, 2, 3))\n",
        "1\n",
        "3\n",
        "abs returns the absolute value of it argument:\n",
        "\n",
        "print(abs(32))\n",
        "print(abs(-32))\n",
        "32\n",
        "32\n",
        "In addition to being the names of Python's two main numerical types, int and float can also be called as functions which convert their arguments to the corresponding type:"
      ]
    },
    {
      "cell_type": "markdown",
      "metadata": {
        "id": "ngWPJgIdaWE9",
        "colab_type": "text"
      },
      "source": [
        "print(float(10))\n",
        "print(int(3.33))\n",
        "# They can even be called on strings!\n",
        "print(int('807') + 1)\n",
        "10.0\n",
        "3\n",
        "808\n",
        "Your"
      ]
    },
    {
      "cell_type": "code",
      "metadata": {
        "id": "72Z3FvQHZXUQ",
        "colab_type": "code",
        "colab": {}
      },
      "source": [
        ""
      ],
      "execution_count": null,
      "outputs": []
    }
  ]
}