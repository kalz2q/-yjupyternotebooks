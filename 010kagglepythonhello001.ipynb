{
  "nbformat": 4,
  "nbformat_minor": 0,
  "metadata": {
    "colab": {
      "name": "010kagglepythonhello001.ipynb",
      "provenance": [],
      "toc_visible": true,
      "authorship_tag": "ABX9TyPDmfx/916frf2QhYQVjGZK",
      "include_colab_link": true
    },
    "kernelspec": {
      "name": "python3",
      "display_name": "Python 3"
    }
  },
  "cells": [
    {
      "cell_type": "markdown",
      "metadata": {
        "id": "view-in-github",
        "colab_type": "text"
      },
      "source": [
        "<a href=\"https://colab.research.google.com/github/kalz2q/myjupyternotebooks/blob/master/010kagglepythonhello001.ipynb\" target=\"_parent\"><img src=\"https://colab.research.google.com/assets/colab-badge.svg\" alt=\"Open In Colab\"/></a>"
      ]
    },
    {
      "cell_type": "markdown",
      "metadata": {
        "id": "g-eotUl3Zcg6",
        "colab_type": "text"
      },
      "source": [
        "# はじめに\n",
        "kaggleのpythonチュートリアルを勉強しています。\n",
        "\n",
        "https://www.kaggle.com/colinmorris/hello-python#Intro\n",
        "\n",
        "データサイエンス用とのことなのですが、pythonの入門部分は同じだろうと思うのと、目的があっての書き方はかえって全般的な入門よりいいかな、と思うのと、入門書はいろいろあっていいいし、特にColabを使った入門書はまだあまりないので、これを使ってみます。\n",
        "\n",
        "困るのはまず英語であることと、Colabの使い方の説明を兼ねているのに、Colabにコピーできないみたいなので、テキストコピーして見比べながら使っています。\n",
        "\n",
        "Hello, Pythonという表題だけど、まったくのプログラミングしろうと用には\n",
        "\n",
        "python for non-programmers\n",
        "\n",
        "という入門書もあるとのこと。それもやるかもしれない。\n",
        "\n",
        "順序としては、短いPython文法、変数と演算子の概説から入ります。\n",
        "\n"
      ]
    },
    {
      "cell_type": "markdown",
      "metadata": {
        "id": "s84YRCb1cSHj",
        "colab_type": "text"
      },
      "source": [
        "# Hello, Python!\n",
        "Pythonの名前はイギリスのコメディ劇団モンティ・パイソンから来ています。\n",
        "\n",
        "彼らのスパムについてのスキットに敬意を表したプログラムから始めたいと思います。\n",
        "\n",
        "コードを読んで、どんな出力になるか考えてみてください。ぜんぜんわからなくても問題ありません。\n",
        "\n",
        "考えたら、実行ボタンを押して、結果を見てみましょう"
      ]
    },
    {
      "cell_type": "code",
      "metadata": {
        "id": "6A6tdrr07dUT",
        "colab_type": "code",
        "colab": {
          "base_uri": "https://localhost:8080/",
          "height": 72
        },
        "outputId": "086e933e-a231-4348-c6fd-70118a4d13e8"
      },
      "source": [
        "spam_amount = 0\n",
        "print(spam_amount)\n",
        "\n",
        "# Ordering Spam, egg, Spam, Spam, bacon and Spam (4 more servings of Spam)\n",
        "spam_amount = spam_amount + 4\n",
        "\n",
        "if spam_amount > 0:\n",
        "    print(\"But I don't want ANY spam!\")\n",
        "\n",
        "viking_song = \"Spam \" * spam_amount\n",
        "print(viking_song)"
      ],
      "execution_count": null,
      "outputs": [
        {
          "output_type": "stream",
          "text": [
            "0\n",
            "But I don't want ANY spam!\n",
            "Spam Spam Spam Spam \n"
          ],
          "name": "stdout"
        }
      ]
    },
    {
      "cell_type": "markdown",
      "metadata": {
        "id": "-ptMHjZJZuw7",
        "colab_type": "text"
      },
      "source": [
        "説明します。\n",
        "\n",
        "短い馬鹿げたプログラムですが、Pythonコードがどんなものか、どういうふうに実行されるかについて重要な点が表現されています。\n",
        "\n",
        "では、頭から順に見ていきましょう。"
      ]
    },
    {
      "cell_type": "code",
      "metadata": {
        "id": "cq3G_mil8imK",
        "colab_type": "code",
        "colab": {}
      },
      "source": [
        "spam_amount = 0"
      ],
      "execution_count": null,
      "outputs": []
    },
    {
      "cell_type": "markdown",
      "metadata": {
        "id": "eamcpwt8Zx3_",
        "colab_type": "text"
      },
      "source": [
        "変数への代入: ここでは `spam_amount` という名前の変数が作られ、`=`を用いて0がアサインされています。`=`は代入演算子と呼ばれます。\n",
        "\n",
        "> 補足: Java or C++) など他のプログラミング言語を経験した方は、Pythonでは必要のないいくつかの特徴に気づいたかもしれません。\n",
        "* 値を代入する前に、変数 `spam_amount` を宣言する必要はありません。\n",
        "* 変数 `spam_amount` に代入される値のタイプを事前に決める必要はありません。 一旦数値を代入したあとに文字列やブール型の値を代入することもできます。"
      ]
    },
    {
      "cell_type": "code",
      "metadata": {
        "id": "dWGF-4HR9Lsu",
        "colab_type": "code",
        "colab": {
          "base_uri": "https://localhost:8080/",
          "height": 34
        },
        "outputId": "95700c9e-9067-4690-9b9c-98c3cefa88d0"
      },
      "source": [
        "print(spam_amount)"
      ],
      "execution_count": null,
      "outputs": [
        {
          "output_type": "stream",
          "text": [
            "0\n"
          ],
          "name": "stdout"
        }
      ]
    },
    {
      "cell_type": "markdown",
      "metadata": {
        "id": "uN9WPC0V9JJW",
        "colab_type": "text"
      },
      "source": [
        "関数の呼び出し: `print` は Python の関数で、与えられた値を画面に表示します。関数名のあとにカッコをつけることによって、関数を呼び出します。カッコの中には入力値(引数)を入れます。"
      ]
    },
    {
      "cell_type": "code",
      "metadata": {
        "id": "e3jOen5m9K7U",
        "colab_type": "code",
        "colab": {}
      },
      "source": [
        "# Ordering Spam, egg, Spam, Spam, bacon and Spam (4 more servings of Spam)\n",
        "spam_amount = spam_amount + 4 \n",
        "\n"
      ],
      "execution_count": null,
      "outputs": []
    },
    {
      "cell_type": "markdown",
      "metadata": {
        "id": "lkcEh9wZZ3Fp",
        "colab_type": "text"
      },
      "source": [
        "上のコードの最初の行はコメントです。 Python ではコメントは`#`記号で始まります。\n",
        "\n",
        "次の行は再代入 `reassignment` の例になります。変数を作成したときと同じ `=` 演算子を使います。\n",
        "\n",
        "この例では `spam_amount` への再代入に際し、以前の値に簡単な計算を施しています。この行のところに来ると、Pythonは`=`の右辺すなわち `(0 + 4 = 4)` を評価し、その結果を、左辺のの変数に代入します。"
      ]
    },
    {
      "cell_type": "code",
      "metadata": {
        "id": "TYj8djVwFmL7",
        "colab_type": "code",
        "colab": {
          "base_uri": "https://localhost:8080/",
          "height": 54
        },
        "outputId": "63cebc76-d053-46cb-b8dd-53ddfee029fe"
      },
      "source": [
        "if spam_amount > 0:\n",
        "    print(\"But I don't want ANY spam!\")\n",
        "\n",
        "viking_song=\"spam spam spam\"\n",
        "print(viking_song)"
      ],
      "execution_count": null,
      "outputs": [
        {
          "output_type": "stream",
          "text": [
            "But I don't want ANY spam!\n",
            "spam spam spam\n"
          ],
          "name": "stdout"
        }
      ]
    },
    {
      "cell_type": "markdown",
      "metadata": {
        "id": "eD9nlSRlZ58N",
        "colab_type": "text"
      },
      "source": [
        "条件式 \"conditionals\" についてはまだ詳しくは述べませんが、プログラムしたことのない人でもこのコードのやっていることは想像がつくでしょう。Pythonはとても読みやすく、簡単な言語です。"
      ]
    },
    {
      "cell_type": "markdown",
      "metadata": {
        "id": "RroOX5ifZ9NF",
        "colab_type": "text"
      },
      "source": [
        "どのようにして、コードの if に属する部分を区別しているか理解してください。\n",
        " \"But I don't want ANY spam!\" が出力されるのは、spam_amount が正の値の時だけです。ところが、そのあとのコード(たとえば print(viking_song))は条件にかかわらず実行されます。Pythonはどうやってこれを区別しているのでしょうか。\n",
        "\n",
        "if のある行のコロン (:) がコードブロックが始まることを示します。そのあとのインデントされてた行がコードブロックを形成します。他の言語は`{curly braces*}`でコードブロックの始まりと終わりを示しますが、Pythonがホワイトスペースに意味付けをして使うことは、他の言語に慣れたプログラマーが驚きますが、実際には統一的で読みやすいコードになります。他の言語ではコードブロックをインデントすることはプログラマーに任されています。"
      ]
    },
    {
      "cell_type": "markdown",
      "metadata": {
        "id": "sqZmcC-1aAAj",
        "colab_type": "text"
      },
      "source": [
        "次からの行はviking_songを扱っていて、4スペースでインデントされていません。なので、if のコードブロックには属していません。インデントされたコードブロックの例はあとで関数の定義とくり返しの説明の時に出てきます。\n",
        "\n",
        "このコードスニペットで初めてPythonにおける文字列が出てきています。\n",
        "```\n",
        "\"But I don't want ANY spam!\"\n",
        "```\n",
        "\n",
        "文字列はダブルクォートもしくはシングルクォートで囲まれます。この例の場合は文字列がシングルクォートを含んでいますので、なんらかの対応をしないと全体をシングルクォートで囲むことはできません。対応方法については後述します。\n"
      ]
    },
    {
      "cell_type": "code",
      "metadata": {
        "id": "k8uEKGPJmFz4",
        "colab_type": "code",
        "colab": {
          "base_uri": "https://localhost:8080/",
          "height": 35
        },
        "outputId": "0c229b23-cbb7-4e1f-9ce0-1a418f3bb9dc"
      },
      "source": [
        "viking_song = \"Spam \" * spam_amount\n",
        "print(viking_song)"
      ],
      "execution_count": null,
      "outputs": [
        {
          "output_type": "stream",
          "text": [
            "Spam Spam Spam Spam \n"
          ],
          "name": "stdout"
        }
      ]
    },
    {
      "cell_type": "markdown",
      "metadata": {
        "id": "1boVcCdnaC8u",
        "colab_type": "text"
      },
      "source": [
        "演算子`*` はふつうはふたつの数字を掛け合わせる (3 * 3 ->9) のに使われますが、おもしろいことに文字列に演算子 `*` を使うと文字列の繰り返しになります。他にも演算子 `+` が数字に使われる時と文字列に使われる時が違う意味で便利に使えるようになっています。この仕組みを演算子オーバーロードと言います。"
      ]
    },
    {
      "cell_type": "markdown",
      "metadata": {
        "id": "1lgHyBPUaI2L",
        "colab_type": "text"
      },
      "source": [
        "## Pythonの数字と演算について\n",
        "すでに数字を含む変数の例を一つ見ました。\n"
      ]
    },
    {
      "cell_type": "code",
      "metadata": {
        "id": "Tu9MRo76yJJQ",
        "colab_type": "code",
        "colab": {}
      },
      "source": [
        "spam_amount = 0"
      ],
      "execution_count": null,
      "outputs": []
    },
    {
      "cell_type": "markdown",
      "metadata": {
        "id": "iSsP3s-eyGsn",
        "colab_type": "text"
      },
      "source": [
        "\"Number\" (数字) というのは便利な言葉ですが、もしもっと技術的に扱いたい場合、Pythonに型 `type` を表示してもらうことができます。\n"
      ]
    },
    {
      "cell_type": "code",
      "metadata": {
        "id": "i9FS6gNiy4L5",
        "colab_type": "code",
        "colab": {
          "base_uri": "https://localhost:8080/",
          "height": 34
        },
        "outputId": "f6645638-afe3-4f2c-da15-f22724ddd856"
      },
      "source": [
        "type (spam_amount)"
      ],
      "execution_count": null,
      "outputs": [
        {
          "output_type": "execute_result",
          "data": {
            "text/plain": [
              "int"
            ]
          },
          "metadata": {
            "tags": []
          },
          "execution_count": 28
        }
      ]
    },
    {
      "cell_type": "markdown",
      "metadata": {
        "id": "B_JZiwtey2lz",
        "colab_type": "text"
      },
      "source": [
        "これで、spam_amountが `int` であることがわかりました。`int` は integer (整数) の省略形です。\n",
        "次はどうでしょうか。\n"
      ]
    },
    {
      "cell_type": "code",
      "metadata": {
        "id": "lQcL51SXzaM4",
        "colab_type": "code",
        "colab": {
          "base_uri": "https://localhost:8080/",
          "height": 34
        },
        "outputId": "666e2a80-f3a3-4863-cf06-aa71b826df3a"
      },
      "source": [
        "type (19.95)"
      ],
      "execution_count": null,
      "outputs": [
        {
          "output_type": "execute_result",
          "data": {
            "text/plain": [
              "float"
            ]
          },
          "metadata": {
            "tags": []
          },
          "execution_count": 29
        }
      ]
    },
    {
      "cell_type": "markdown",
      "metadata": {
        "id": "4HK--BFczYO8",
        "colab_type": "text"
      },
      "source": [
        "\n",
        "`float` は浮動小数点型で重さや割合を表すのに便利な数字です。\n",
        "\n",
        "`type()` は `print()` と同様にPythonに始めからあるビルトイン関数の一つです。型を確認するのに便利に使えます。\n",
        "\n",
        "数字について電卓にあるような四則演算の演算子は Python にもあります。"
      ]
    },
    {
      "cell_type": "markdown",
      "metadata": {
        "id": "XoLEAEkFaMlo",
        "colab_type": "text"
      },
      "source": [
        "| Operator\t| Name\t| Description |\n",
        "| ---- | ---- | ----|\n",
        "|a + b  | Addition\t     |   Sum of a and b |\n",
        "|a - b\t| Subtraction\t   |   Difference of a and b |\n",
        "|a * b\t| Multiplication |\t Product of a and b |\n",
        "|a / b\t| True division\t |   Quotient of a and b |\n",
        "|a // b\t| Floor division |\t Quotient of a and b, removing fractional parts |\n",
        "|a % b\t| Modulus\t       |   Integer remainder after division of a by b |\n",
        "|a ** b\t| Exponentiation |\t a raised to the power of b |\n",
        "|-a\t    | Negation\t     |   The negative of a |\n",
        "\n",
        "割り算の演算子が2種類あることに注意してください。\n",
        "電卓の割り算は \"True division\" です。\n"
      ]
    },
    {
      "cell_type": "code",
      "metadata": {
        "id": "5vVRzjxe_BbW",
        "colab_type": "code",
        "colab": {
          "base_uri": "https://localhost:8080/",
          "height": 50
        },
        "outputId": "66777b77-acc0-46b0-9c7f-0bc0057b0f38"
      },
      "source": [
        "print (5 / 2)\n",
        "print (6 / 2)"
      ],
      "execution_count": null,
      "outputs": [
        {
          "output_type": "stream",
          "text": [
            "2.5\n",
            "3.0\n"
          ],
          "name": "stdout"
        }
      ]
    },
    {
      "cell_type": "code",
      "metadata": {
        "id": "OiCyMtko_Jf6",
        "colab_type": "code",
        "colab": {
          "base_uri": "https://localhost:8080/",
          "height": 50
        },
        "outputId": "e9b6e657-16ba-428a-9313-d700d9ba86ed"
      },
      "source": [
        "print (9 // 4)\n",
        "print (-9 // 4)"
      ],
      "execution_count": null,
      "outputs": [
        {
          "output_type": "stream",
          "text": [
            "2\n",
            "-3\n"
          ],
          "name": "stdout"
        }
      ]
    },
    {
      "cell_type": "markdown",
      "metadata": {
        "id": "ogC_bO-J-_aO",
        "colab_type": "text"
      },
      "source": [
        "演算子 `/` の結果は常に `float` です。\n",
        "\n",
        "演算子 `//` は割り算の結果以下の最大の整数を返します。"
      ]
    },
    {
      "cell_type": "code",
      "metadata": {
        "id": "L_6IaF1OZ4gW",
        "colab_type": "code",
        "colab": {
          "base_uri": "https://localhost:8080/",
          "height": 50
        },
        "outputId": "d622da89-8a92-4868-8313-70bb56f3e064"
      },
      "source": [
        "print (5 // 2)\n",
        "print (6 // 2)"
      ],
      "execution_count": null,
      "outputs": [
        {
          "output_type": "stream",
          "text": [
            "2\n",
            "3\n"
          ],
          "name": "stdout"
        }
      ]
    },
    {
      "cell_type": "markdown",
      "metadata": {
        "id": "ci6ETS-HaPxr",
        "colab_type": "text"
      },
      "source": [
        "これがどんなところで便利かわかりますか？ そんな例をもうすぐコーディング・チャレンジのところで目にすることができます。\n",
        "\n",
        "### 演算の優先順位\n",
        "小学校で習う算数で、計算には順序があることを習います。PEMDAS というニーモニックを覚えている人もいるでしょう。\n",
        "* Parentheses カッコ\n",
        "* Exponents 冪乗\n",
        "* Multiplication/Division 乗算/除法\n",
        "* Addtion/Subtraction 加算/原産\n",
        "\n",
        "Python においてもほぼ似たようなルールが適用されます。\n"
      ]
    },
    {
      "cell_type": "code",
      "metadata": {
        "id": "CKbrRj2Lbs_s",
        "colab_type": "code",
        "colab": {
          "base_uri": "https://localhost:8080/",
          "height": 34
        },
        "outputId": "f40a0d4d-8e61-4c58-e417-b5d500d8f19e"
      },
      "source": [
        "8 - 3 + 2"
      ],
      "execution_count": null,
      "outputs": [
        {
          "output_type": "execute_result",
          "data": {
            "text/plain": [
              "7"
            ]
          },
          "metadata": {
            "tags": []
          },
          "execution_count": 35
        }
      ]
    },
    {
      "cell_type": "code",
      "metadata": {
        "id": "hRWoU9A2btpz",
        "colab_type": "code",
        "colab": {
          "base_uri": "https://localhost:8080/",
          "height": 34
        },
        "outputId": "04c047dc-18d9-4fea-9a9f-5752821cc7dd"
      },
      "source": [
        "-3 + 4 * 2"
      ],
      "execution_count": null,
      "outputs": [
        {
          "output_type": "execute_result",
          "data": {
            "text/plain": [
              "5"
            ]
          },
          "metadata": {
            "tags": []
          },
          "execution_count": 36
        }
      ]
    },
    {
      "cell_type": "markdown",
      "metadata": {
        "id": "FBO7f8GacFyH",
        "colab_type": "text"
      },
      "source": [
        "次の例ではカッコによって強制的に計算の順序を変える必要があります。"
      ]
    },
    {
      "cell_type": "code",
      "metadata": {
        "id": "dN6LRC9NcFVd",
        "colab_type": "code",
        "colab": {
          "base_uri": "https://localhost:8080/",
          "height": 34
        },
        "outputId": "d66c7557-b059-4a6e-b2be-acd432ced793"
      },
      "source": [
        "# How tall am I, in meters, when wearing my hat?\n",
        "hat_height_cm = 25\n",
        "my_height_cm = 190\n",
        "total_height_meters = (hat_height_cm + my_height_cm) / 100\n",
        "print(\"Height in meters = \" ,  total_height_meters, \"?\")"
      ],
      "execution_count": null,
      "outputs": [
        {
          "output_type": "stream",
          "text": [
            "Height in meters =  2.15 ?\n"
          ],
          "name": "stdout"
        }
      ]
    },
    {
      "cell_type": "markdown",
      "metadata": {
        "id": "XXxVWcYXaTe5",
        "colab_type": "text"
      },
      "source": [
        "# 数字に関するビルトイン関数\n",
        "`min` と `max` は引数の最小値と最大値を返します。\n",
        "\n"
      ]
    },
    {
      "cell_type": "code",
      "metadata": {
        "id": "UbgZlsdfdyd1",
        "colab_type": "code",
        "colab": {
          "base_uri": "https://localhost:8080/",
          "height": 50
        },
        "outputId": "cfffcd32-a7ef-4899-edd1-231344dcaf26"
      },
      "source": [
        "print(min(1, 2, 3)) \n",
        "print(max(1, 2, 3))"
      ],
      "execution_count": null,
      "outputs": [
        {
          "output_type": "stream",
          "text": [
            "1\n",
            "3\n"
          ],
          "name": "stdout"
        }
      ]
    },
    {
      "cell_type": "markdown",
      "metadata": {
        "id": "640_qV05dxG8",
        "colab_type": "text"
      },
      "source": [
        "`abs` は引数の絶対値を返します。\n"
      ]
    },
    {
      "cell_type": "code",
      "metadata": {
        "id": "jgHDje1yeCvN",
        "colab_type": "code",
        "colab": {
          "base_uri": "https://localhost:8080/",
          "height": 50
        },
        "outputId": "92edd4c2-066a-4f3b-adb0-3d8895e316a6"
      },
      "source": [
        "print(abs(32)) \n",
        "print(abs(-32)) "
      ],
      "execution_count": null,
      "outputs": [
        {
          "output_type": "stream",
          "text": [
            "32\n",
            "32\n"
          ],
          "name": "stdout"
        }
      ]
    },
    {
      "cell_type": "markdown",
      "metadata": {
        "id": "7dNlJxGPd_sm",
        "colab_type": "text"
      },
      "source": [
        "`float` と `int` は数字の型の名前であるだけでなく引数の型を変換する関数として呼び出すことができます。"
      ]
    },
    {
      "cell_type": "code",
      "metadata": {
        "id": "ZsxeQZplekRg",
        "colab_type": "code",
        "colab": {
          "base_uri": "https://localhost:8080/",
          "height": 50
        },
        "outputId": "7d03e937-0b10-4745-8948-945206369bd0"
      },
      "source": [
        "print(float(10)) \n",
        "print(int(3.33))"
      ],
      "execution_count": null,
      "outputs": [
        {
          "output_type": "stream",
          "text": [
            "10.0\n",
            "3\n"
          ],
          "name": "stdout"
        }
      ]
    },
    {
      "cell_type": "code",
      "metadata": {
        "id": "MCl8fTn9ewkA",
        "colab_type": "code",
        "colab": {
          "base_uri": "https://localhost:8080/",
          "height": 50
        },
        "outputId": "be9302be-3aad-48cd-cf81-dfe493453d8b"
      },
      "source": [
        "# They can even be called on strings!\n",
        "print(int('807') + 1)\n",
        "10.0\n"
      ],
      "execution_count": null,
      "outputs": [
        {
          "output_type": "stream",
          "text": [
            "808\n"
          ],
          "name": "stdout"
        },
        {
          "output_type": "execute_result",
          "data": {
            "text/plain": [
              "10.0"
            ]
          },
          "metadata": {
            "tags": []
          },
          "execution_count": 45
        }
      ]
    },
    {
      "cell_type": "markdown",
      "metadata": {
        "id": "zMJ3df-ve0cG",
        "colab_type": "text"
      },
      "source": [
        "# 練習問題\n",
        "https://www.kaggle.com/takayukikatsuya/exercise-syntax-variables-and-numbers/edit\n",
        "\n",
        "練習問題のページにようこそ！\n",
        "\n",
        "練習問題はColabのノートブックの機能を使って実際にプログラムを書いて、実行してみることになります。\n",
        "\n",
        "最初にためしに次のコードセルを、実行してみてください。\n",
        "\n",
        "* 実行ボタンを押す。\n",
        "* セルをクリックして選択してから、`Ctrl+Enter` を押す。\n",
        "\n",
        "どちらの方法でもかまいません。\n",
        "\n",
        "\n"
      ]
    },
    {
      "cell_type": "code",
      "metadata": {
        "id": "IJDVhg1dhHL2",
        "colab_type": "code",
        "colab": {
          "base_uri": "https://localhost:8080/",
          "height": 50
        },
        "outputId": "f3bf36f3-7680-4544-b5c5-b530273b600e"
      },
      "source": [
        "print(\"You've successfully run some Python code\") \n",
        "print(\"Congratulations!\")"
      ],
      "execution_count": null,
      "outputs": [
        {
          "output_type": "stream",
          "text": [
            "You've successfully run some Python code\n",
            "Congratulations!\n"
          ],
          "name": "stdout"
        }
      ]
    },
    {
      "cell_type": "markdown",
      "metadata": {
        "id": "_CHHm3Lkgm56",
        "colab_type": "text"
      },
      "source": [
        "コードを追加して、再度実行してみましょう。\n",
        "\n"
      ]
    },
    {
      "cell_type": "markdown",
      "metadata": {
        "id": "B6LqYa63h7m9",
        "colab_type": "text"
      },
      "source": [
        "### 問題 0 変数、代入、文字列\n",
        "*あなたの好きな色は何色ですか？*\n",
        "\n",
        "colorという変数を作って、値を代入する。文字列はシングルクォートまたはダブルクォートで囲まれます。\n",
        "\n"
      ]
    },
    {
      "cell_type": "code",
      "metadata": {
        "id": "wPONAdf2Y8kz",
        "colab_type": "code",
        "colab": {
          "base_uri": "https://localhost:8080/",
          "height": 54
        },
        "outputId": "47c812f4-e55f-4fe7-efeb-a3a97bb14bbf"
      },
      "source": [
        "color = \"pink\"\n",
        "print(color)\n",
        "type(color)"
      ],
      "execution_count": 2,
      "outputs": [
        {
          "output_type": "stream",
          "text": [
            "pink\n"
          ],
          "name": "stdout"
        },
        {
          "output_type": "execute_result",
          "data": {
            "text/plain": [
              "str"
            ]
          },
          "metadata": {
            "tags": []
          },
          "execution_count": 2
        }
      ]
    },
    {
      "cell_type": "markdown",
      "metadata": {
        "id": "QoVDyTW_Z_l8",
        "colab_type": "text"
      },
      "source": [
        "# いまここ"
      ]
    },
    {
      "cell_type": "markdown",
      "metadata": {
        "id": "HEKJfvKFfN68",
        "colab_type": "text"
      },
      "source": [
        "### 問題 1 四則演算\n",
        "1.\n",
        "Complete the code below. In case it's helpful, here is the table of available arithmetic operations:\n",
        "\n",
        "Operator\tName\tDescription\n",
        "a + b\tAddition\tSum of a and b\n",
        "a - b\tSubtraction\tDifference of a and b\n",
        "a * b\tMultiplication\tProduct of a and b\n",
        "a / b\tTrue division\tQuotient of a and b\n",
        "a // b\tFloor division\tQuotient of a and b, removing fractional parts\n",
        "a % b\tModulus\tInteger remainder after division of a by b\n",
        "a ** b\tExponentiation\ta raised to the power of b\n",
        "-a\tNegation\tThe negative of a\n",
        "\n",
        "\n",
        "\n",
        "\n",
        "\n",
        "pi = 3.14159 # approximate\n",
        "diameter = 3\n",
        "​\n",
        "# Create a variable called 'radius' equal to half the diameter\n",
        "____\n",
        "​\n",
        "# Create a variable called 'area', using the formula for the area of a circle: pi times the radius squared\n",
        "____\n",
        "​\n",
        "# Check your answer\n",
        "q1.check()\n",
        "\n",
        "\n",
        "\n",
        "\n",
        "\n",
        "# Uncomment and run the lines below if you need help.\n",
        "#q1.hint()\n",
        "#q1.solution()\n",
        "\n",
        "\n",
        "\n",
        "\n",
        "\n",
        "## 2.\n",
        "Add code to the following cell to swap variables a and b (so that a refers to the object previously referred to by b and vice versa).\n",
        "\n",
        "\n",
        "\n",
        "\n",
        "\n",
        "\n",
        "########### Setup code - don't touch this part ######################\n",
        "# If you're curious, these are examples of lists. We'll talk about \n",
        "# them in depth a few lessons from now. For now, just know that they're\n",
        "# yet another type of Python object, like int or float.\n",
        "a = [1, 2, 3]\n",
        "b = [3, 2, 1]\n",
        "q2.store_original_ids()\n",
        "######################################################################\n",
        "​\n",
        "# Your code goes here. Swap the values to which a and b refer.\n",
        "# If you get stuck, you can always uncomment one or both of the lines in\n",
        "# the next cell for a hint, or to peek at the solution.\n",
        "​\n",
        "######################################################################\n",
        "​\n",
        "# Check your answer\n",
        "q2.check()\n",
        "\n",
        "\n",
        "\n",
        "\n",
        "\n",
        "#q2.hint()\n",
        "\n",
        "\n",
        "\n",
        "\n",
        "\n",
        "#q2.solution()\n",
        "\n",
        "\n",
        "\n",
        "\n",
        "\n",
        "## 3.\n",
        "a) Add parentheses to the following expression so that it evaluates to 1.\n",
        "\n",
        "\n",
        "\n",
        "\n",
        "\n",
        "\n",
        "5 - 3 // 2\n",
        "\n",
        "\n",
        "\n",
        "\n",
        "\n",
        "#q3.a.hint()\n",
        "\n",
        "\n",
        "\n",
        "\n",
        "\n",
        "# Check your answer (Run this code cell to receive credit!)\n",
        "q3.a.solution()\n",
        "\n",
        "\n",
        "\n",
        "\n",
        "\n",
        "Questions, like this one, marked a spicy pepper are a bit harder.\n",
        "\n",
        "b) 🌶️ Add parentheses to the following expression so that it evaluates to 0\n",
        "\n",
        "\n",
        "\n",
        "\n",
        "\n",
        "\n",
        "8 - 3 * 2 - 1 + 1\n",
        "\n",
        "\n",
        "\n",
        "\n",
        "\n",
        "#q3.b.hint()\n",
        "\n",
        "\n",
        "\n",
        "\n",
        "\n",
        "# Check your answer (Run this code cell to receive credit!)\n",
        "q3.b.solution()\n",
        "\n",
        "\n",
        "\n",
        "\n",
        "\n",
        "## 4. Alice, Bob and Carol have agreed to pool their Halloween candy and split it evenly among themselves. For the sake of their friendship, any candies left over will be smashed. For example, if they collectively bring home 91 candies, they'll take 30 each and smash 1.\n",
        "Write an arithmetic expression below to calculate how many candies they must smash for a given haul.\n",
        "\n",
        "\n",
        "\n",
        "\n",
        "\n",
        "\n",
        "# Variables representing the number of candies collected by alice, bob, and carol\n",
        "alice_candies = 121\n",
        "bob_candies = 77\n",
        "carol_candies = 109\n",
        "​\n",
        "# Your code goes here! Replace the right-hand side of this assignment with an expression\n",
        "# involving alice_candies, bob_candies, and carol_candies\n",
        "to_smash = -1\n",
        "​\n",
        "# Check your answer\n",
        "q4.check()\n",
        "\n",
        "\n",
        "\n",
        "\n",
        "\n",
        "#q4.hint()\n",
        "#q4.solution()\n",
        "\n",
        "\n",
        "\n",
        "\n",
        "\n",
        "Keep Going\n",
        "Next up, you'll learn to write new functions and understand functions others write. This will make you at least 10 times more productive as a Python programmer."
      ]
    }
  ]
}