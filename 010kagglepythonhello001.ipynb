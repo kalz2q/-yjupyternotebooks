{
  "nbformat": 4,
  "nbformat_minor": 0,
  "metadata": {
    "colab": {
      "name": "010kagglepythonhello001.ipynb",
      "provenance": [],
      "toc_visible": true,
      "authorship_tag": "ABX9TyPUiapS8B2gorN2zecjZNAM",
      "include_colab_link": true
    },
    "kernelspec": {
      "name": "python3",
      "display_name": "Python 3"
    }
  },
  "cells": [
    {
      "cell_type": "markdown",
      "metadata": {
        "id": "view-in-github",
        "colab_type": "text"
      },
      "source": [
        "<a href=\"https://colab.research.google.com/github/kalz2q/myjupyternotebooks/blob/master/010kagglepythonhello001.ipynb\" target=\"_parent\"><img src=\"https://colab.research.google.com/assets/colab-badge.svg\" alt=\"Open In Colab\"/></a>"
      ]
    },
    {
      "cell_type": "markdown",
      "metadata": {
        "id": "g-eotUl3Zcg6",
        "colab_type": "text"
      },
      "source": [
        "# はじめに\n",
        "kaggleのpythonチュートリアルを勉強しています。\n",
        "\n",
        "https://www.kaggle.com/colinmorris/hello-python#Intro\n",
        "\n",
        "データサイエンス用とのことなのですが、pythonの入門部分は同じだろうと思うのと、目的があっての書き方はかえって全般的な入門よりいいかな、と思うのと、入門書はいろいろあっていいいし、特にColabを使った入門書はまだあまりないので、これを使ってみます。\n",
        "\n",
        "困るのはまず英語であることと、Colabの使い方の説明を兼ねているのに、Colabにコピーできないみたいなので、テキストコピーして見比べながら使っています。\n",
        "\n",
        "Hello, Pythonという表題だけど、まったくのプログラミングしろうと用には\n",
        "\n",
        "python for non-programmers\n",
        "\n",
        "という入門書もあるとのこと。それもやるかもしれない。\n",
        "\n",
        "順序としては、短いPython文法、変数と演算子の概説から入ります。\n",
        "\n"
      ]
    },
    {
      "cell_type": "markdown",
      "metadata": {
        "id": "s84YRCb1cSHj",
        "colab_type": "text"
      },
      "source": [
        "# Hello, Python!\n",
        "Pythonの名前はイギリスのコメディ劇団モンティ・パイソンから来ています。\n",
        "\n",
        "彼らのスパムについてのスキットに敬意を表したプログラムから始めたいと思います。\n",
        "\n",
        "コードを読んで、どんな出力になるか考えてみてください。ぜんぜんわからなくても問題ありません。\n",
        "\n",
        "考えたら、実行ボタンを押して、結果を見てみましょう"
      ]
    },
    {
      "cell_type": "code",
      "metadata": {
        "id": "6A6tdrr07dUT",
        "colab_type": "code",
        "colab": {
          "base_uri": "https://localhost:8080/",
          "height": 72
        },
        "outputId": "086e933e-a231-4348-c6fd-70118a4d13e8"
      },
      "source": [
        "spam_amount = 0\n",
        "print(spam_amount)\n",
        "\n",
        "# Ordering Spam, egg, Spam, Spam, bacon and Spam (4 more servings of Spam)\n",
        "spam_amount = spam_amount + 4\n",
        "\n",
        "if spam_amount > 0:\n",
        "    print(\"But I don't want ANY spam!\")\n",
        "\n",
        "viking_song = \"Spam \" * spam_amount\n",
        "print(viking_song)"
      ],
      "execution_count": null,
      "outputs": [
        {
          "output_type": "stream",
          "text": [
            "0\n",
            "But I don't want ANY spam!\n",
            "Spam Spam Spam Spam \n"
          ],
          "name": "stdout"
        }
      ]
    },
    {
      "cell_type": "markdown",
      "metadata": {
        "id": "-ptMHjZJZuw7",
        "colab_type": "text"
      },
      "source": [
        "説明します。\n",
        "\n",
        "短い馬鹿げたプログラムですが、Pythonコードがどんなものか、どういうふうに実行されるかについて重要な点が表現されています。\n",
        "\n",
        "では、頭から順に見ていきましょう。"
      ]
    },
    {
      "cell_type": "code",
      "metadata": {
        "id": "cq3G_mil8imK",
        "colab_type": "code",
        "colab": {}
      },
      "source": [
        "spam_amount = 0"
      ],
      "execution_count": null,
      "outputs": []
    },
    {
      "cell_type": "markdown",
      "metadata": {
        "id": "eamcpwt8Zx3_",
        "colab_type": "text"
      },
      "source": [
        "変数への代入: ここでは `spam_amount` という名前の変数が作られ、`=`を用いて0がアサインされています。`=`は代入演算子と呼ばれます。\n",
        "\n",
        "> 補足: Java or C++) など他のプログラミング言語を経験した方は、Pythonでは必要のないいくつかの特徴に気づいたかもしれません。\n",
        "* 値を代入する前に、変数 `spam_amount` を宣言する必要はありません。\n",
        "* 変数 `spam_amount` に代入される値のタイプを事前に決める必要はありません。 一旦数値を代入したあとに文字列やブール型の値を代入することもできます。"
      ]
    },
    {
      "cell_type": "code",
      "metadata": {
        "id": "dWGF-4HR9Lsu",
        "colab_type": "code",
        "colab": {
          "base_uri": "https://localhost:8080/",
          "height": 34
        },
        "outputId": "95700c9e-9067-4690-9b9c-98c3cefa88d0"
      },
      "source": [
        "print(spam_amount)"
      ],
      "execution_count": null,
      "outputs": [
        {
          "output_type": "stream",
          "text": [
            "0\n"
          ],
          "name": "stdout"
        }
      ]
    },
    {
      "cell_type": "markdown",
      "metadata": {
        "id": "uN9WPC0V9JJW",
        "colab_type": "text"
      },
      "source": [
        "関数の呼び出し: `print` は Python の関数で、与えられた値を画面に表示します。関数名のあとにカッコをつけることによって、関数を呼び出します。カッコの中には入力値(引数)を入れます。"
      ]
    },
    {
      "cell_type": "code",
      "metadata": {
        "id": "e3jOen5m9K7U",
        "colab_type": "code",
        "colab": {}
      },
      "source": [
        "# Ordering Spam, egg, Spam, Spam, bacon and Spam (4 more servings of Spam)\n",
        "spam_amount = spam_amount + 4 \n",
        "\n"
      ],
      "execution_count": null,
      "outputs": []
    },
    {
      "cell_type": "markdown",
      "metadata": {
        "id": "lkcEh9wZZ3Fp",
        "colab_type": "text"
      },
      "source": [
        "上のコードの最初の行はコメントです。 Python ではコメントは`#`記号で始まります。\n",
        "\n",
        "次の行は再代入 `reassignment` の例になります。変数を作成したときと同じ `=` 演算子を使います。\n",
        "\n",
        "この例では `spam_amount` への再代入に際し、以前の値に簡単な計算を施しています。この行のところに来ると、Pythonは`=`の右辺すなわち `(0 + 4 = 4)` を評価し、その結果を、左辺のの変数に代入します。"
      ]
    },
    {
      "cell_type": "code",
      "metadata": {
        "id": "TYj8djVwFmL7",
        "colab_type": "code",
        "colab": {
          "base_uri": "https://localhost:8080/",
          "height": 54
        },
        "outputId": "63cebc76-d053-46cb-b8dd-53ddfee029fe"
      },
      "source": [
        "if spam_amount > 0:\n",
        "    print(\"But I don't want ANY spam!\")\n",
        "\n",
        "viking_song=\"spam spam spam\"\n",
        "print(viking_song)"
      ],
      "execution_count": null,
      "outputs": [
        {
          "output_type": "stream",
          "text": [
            "But I don't want ANY spam!\n",
            "spam spam spam\n"
          ],
          "name": "stdout"
        }
      ]
    },
    {
      "cell_type": "markdown",
      "metadata": {
        "id": "eD9nlSRlZ58N",
        "colab_type": "text"
      },
      "source": [
        "条件式 \"conditionals\" についてはまだ詳しくは述べませんが、プログラムしたことのない人でもこのコードのやっていることは想像がつくでしょう。Pythonはとても読みやすく、簡単な言語です。"
      ]
    },
    {
      "cell_type": "markdown",
      "metadata": {
        "id": "RroOX5ifZ9NF",
        "colab_type": "text"
      },
      "source": [
        "どのようにして、コードの if に属する部分を区別しているか理解してください。\n",
        " \"But I don't want ANY spam!\" が出力されるのは、spam_amount が正の値の時だけです。ところが、そのあとのコード(たとえば print(viking_song))は条件にかかわらず実行されます。Pythonはどうやってこれを区別しているのでしょうか。\n",
        "\n",
        "if のある行のコロン (:) がコードブロックが始まることを示します。そのあとのインデントされてた行がコードブロックを形成します。他の言語は`{curly braces*}`でコードブロックの始まりと終わりを示しますが、Pythonがホワイトスペースに意味付けをして使うことは、他の言語に慣れたプログラマーが驚きますが、実際には統一的で読みやすいコードになります。他の言語ではコードブロックをインデントすることはプログラマーに任されています。"
      ]
    },
    {
      "cell_type": "markdown",
      "metadata": {
        "id": "sqZmcC-1aAAj",
        "colab_type": "text"
      },
      "source": [
        "次からの行はviking_songを扱っていて、4スペースでインデントされていません。なので、if のコードブロックには属していません。インデントされたコードブロックの例はあとで関数の定義とくり返しの説明の時に出てきます。\n",
        "\n",
        "このコードスニペットで初めてPythonにおける文字列が出てきています。\n",
        "```\n",
        "\"But I don't want ANY spam!\"\n",
        "```\n",
        "\n",
        "文字列はダブルクォートもしくはシングルクォートで囲まれます。この例の場合は文字列がシングルクォートを含んでいますので、なんらかの対応をしないと全体をシングルクォートで囲むことはできません。対応方法については後述します。\n"
      ]
    },
    {
      "cell_type": "code",
      "metadata": {
        "id": "k8uEKGPJmFz4",
        "colab_type": "code",
        "colab": {
          "base_uri": "https://localhost:8080/",
          "height": 35
        },
        "outputId": "0c229b23-cbb7-4e1f-9ce0-1a418f3bb9dc"
      },
      "source": [
        "viking_song = \"Spam \" * spam_amount\n",
        "print(viking_song)"
      ],
      "execution_count": 26,
      "outputs": [
        {
          "output_type": "stream",
          "text": [
            "Spam Spam Spam Spam \n"
          ],
          "name": "stdout"
        }
      ]
    },
    {
      "cell_type": "markdown",
      "metadata": {
        "id": "2AXnhZPYEvyU",
        "colab_type": "text"
      },
      "source": [
        "# いまここ"
      ]
    },
    {
      "cell_type": "markdown",
      "metadata": {
        "id": "1boVcCdnaC8u",
        "colab_type": "text"
      },
      "source": [
        "`*` 演算子はふつうはふたつの数字を掛け合わせる (3 * 3 ->9) のに使われますが、おもしろいことに文字列に `*` 演算子を使うと\n",
        "\n",
        "\n",
        "\n",
        "The * operator can be used to multiply two numbers (3 * 3 evaluates to 9), but amusingly enough, we can also multiply a string by a number, to get a version that's been repeated that many times. Python offers a number of cheeky little time-saving tricks like this where operators like * and + have a different meaning depending on what kind of thing they're applied to. (The technical term for this is operator overloading)"
      ]
    },
    {
      "cell_type": "markdown",
      "metadata": {
        "id": "1lgHyBPUaI2L",
        "colab_type": "text"
      },
      "source": [
        "\n",
        "Numbers and arithmetic in Python\n",
        "We've already seen an example of a variable containing a number above:\n",
        "\n",
        "spam_amount = 0\n",
        "\"Number\" is a fine informal name for the kind of thing, but if we wanted to be more technical, we could ask Python how it would describe the type of thing that spam_amount is:\n",
        "\n",
        "type(spam_amount)\n",
        "int\n",
        "It's an int - short for integer. There's another sort of number we commonly encounter in Python:\n",
        "\n",
        "type(19.95)\n",
        "float\n",
        "A float is a number with a decimal place - very useful for representing things like weights or proportions.\n",
        "\n",
        "type() is the second built-in function we've seen (after print()), and it's another good one to remember. It's very useful to be able to ask Python \"what kind of thing is this?\".\n",
        "\n",
        "A natural thing to want to do with numbers is perform arithmetic. We've seen the + operator for addition, and the * operator for multiplication (of a sort). Python also has us covered for the rest of the basic buttons on your calculator:"
      ]
    },
    {
      "cell_type": "markdown",
      "metadata": {
        "id": "XoLEAEkFaMlo",
        "colab_type": "text"
      },
      "source": [
        "\n",
        "\n",
        "Operator\tName\tDescription\n",
        "a + b\tAddition\tSum of a and b\n",
        "a - b\tSubtraction\tDifference of a and b\n",
        "a * b\tMultiplication\tProduct of a and b\n",
        "a / b\tTrue division\tQuotient of a and b\n",
        "a // b\tFloor division\tQuotient of a and b, removing fractional parts\n",
        "a % b\tModulus\tInteger remainder after division of a by b\n",
        "a ** b\tExponentiation\ta raised to the power of b\n",
        "-a\tNegation\tThe negative of a\n",
        "One interesting observation here is that, whereas your calculator probably just has one button for division, Python can do two kinds. \"True division\" is basically what your calculator does:\n",
        "\n",
        "print(5 / 2)\n",
        "print(6 / 2)\n",
        "2.5\n",
        "3.0\n",
        "It always gives us a float.\n",
        "\n",
        "The // operator gives us a result that's rounded down to the next integer."
      ]
    },
    {
      "cell_type": "markdown",
      "metadata": {
        "id": "ci6ETS-HaPxr",
        "colab_type": "text"
      },
      "source": [
        "\n",
        "\n",
        "print(5 // 2)\n",
        "print(6 // 2)\n",
        "2\n",
        "3\n",
        "Can you think of where this would be useful? You'll see an example soon in the coding challenges.\n",
        "\n",
        "Order of operations\n",
        "The arithmetic we learned in primary school has conventions about the order in which operations are evaluated. Some remember these by a mnemonic such as PEMDAS - Parentheses, Exponents, Multiplication/Division, Addition/Subtraction.\n",
        "\n",
        "Python follows similar rules about which calculations to perform first. They're mostly pretty intuitive.\n",
        "\n",
        "8 - 3 + 2\n",
        "7\n",
        "-3 + 4 * 2\n",
        "5\n",
        "Sometimes the default order of operations isn't what we want:\n",
        "\n",
        "hat_height_cm = 25\n",
        "my_height_cm = 190\n",
        "# How tall am I, in meters, when wearing my hat?"
      ]
    },
    {
      "cell_type": "markdown",
      "metadata": {
        "id": "XXxVWcYXaTe5",
        "colab_type": "text"
      },
      "source": [
        "\n",
        "total_height_meters = hat_height_cm + my_height_cm / 100\n",
        "print(\"Height in meters =\", total_height_meters, \"?\")\n",
        "Height in meters = 26.9 ?\n",
        "Parentheses are your useful here. You can add them to force Python to evaluate sub-expressions in whatever order you want.\n",
        "\n",
        "total_height_meters = (hat_height_cm + my_height_cm) / 100\n",
        "print(\"Height in meters =\", total_height_meters)\n",
        "Height in meters = 2.15\n",
        "Builtin functions for working with numbers\n",
        "min and max return the minimum and maximum of their arguments, respectively...\n",
        "\n",
        "print(min(1, 2, 3))\n",
        "print(max(1, 2, 3))\n",
        "1\n",
        "3\n",
        "abs returns the absolute value of it argument:\n",
        "\n",
        "print(abs(32))\n",
        "print(abs(-32))\n",
        "32\n",
        "32\n",
        "In addition to being the names of Python's two main numerical types, int and float can also be called as functions which convert their arguments to the corresponding type:"
      ]
    },
    {
      "cell_type": "markdown",
      "metadata": {
        "id": "ngWPJgIdaWE9",
        "colab_type": "text"
      },
      "source": [
        "print(float(10))\n",
        "print(int(3.33))\n",
        "# They can even be called on strings!\n",
        "print(int('807') + 1)\n",
        "10.0\n",
        "3\n",
        "808\n",
        "Your"
      ]
    },
    {
      "cell_type": "code",
      "metadata": {
        "id": "72Z3FvQHZXUQ",
        "colab_type": "code",
        "colab": {}
      },
      "source": [
        ""
      ],
      "execution_count": null,
      "outputs": []
    }
  ]
}