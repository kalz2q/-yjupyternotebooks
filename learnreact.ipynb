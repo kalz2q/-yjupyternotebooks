{
  "nbformat": 4,
  "nbformat_minor": 0,
  "metadata": {
    "colab": {
      "name": "learnreact.ipynb",
      "provenance": [],
      "authorship_tag": "ABX9TyPEscwqsaYcgOabujV+fwB5",
      "include_colab_link": true
    },
    "kernelspec": {
      "name": "python3",
      "display_name": "Python 3"
    }
  },
  "cells": [
    {
      "cell_type": "markdown",
      "metadata": {
        "id": "view-in-github",
        "colab_type": "text"
      },
      "source": [
        "<a href=\"https://colab.research.google.com/github/kalz2q/mycolabnotebooks/blob/master/learnreact.ipynb\" target=\"_parent\"><img src=\"https://colab.research.google.com/assets/colab-badge.svg\" alt=\"Open In Colab\"/></a>"
      ]
    },
    {
      "cell_type": "markdown",
      "metadata": {
        "id": "HfVDGjCckZxG",
        "colab_type": "text"
      },
      "source": [
        "# メモ\n",
        "\n",
        "`Colab`で`React`を学ぶ。colabにreactは関係ないが、ノートとして使う。\n",
        "\n",
        "`dotinstall`のReact入門を読んでいる。\n",
        "\n",
        "React + JSXとする。TypeScriptはやらない。\n"
      ]
    },
    {
      "cell_type": "markdown",
      "metadata": {
        "id": "DRLABvx2ExP9",
        "colab_type": "text"
      },
      "source": [
        "React は Facebook が中心に開発した JavaScript のライブラリー。\n",
        "\n",
        "公式サイトは `reactjs.org` \n",
        "\n",
        "次のコードセルはコメントアウトしてあるが、アンコメントすると動かないのでこうしている。\n",
        "\n",
        "たぶん、`<script src=\"\"></script>` が機能していない。"
      ]
    },
    {
      "cell_type": "code",
      "metadata": {
        "id": "vM8wF89xkXYY",
        "colab_type": "code",
        "colab": {
          "base_uri": "https://localhost:8080/",
          "height": 17
        },
        "outputId": "1d0270bf-60b0-4f18-d943-5c2dd161bd14"
      },
      "source": [
        "# %%html\n",
        "\n",
        "# <head>\n",
        "# <script src=\"https://unpkg.com/react@16/umd/react.development.js\"></script>\n",
        "# <script src=\"https://unpkg.com/react-dom@16/umd/react-dom.development.js\"></script>\n",
        "# <script src=\"https://unpkg.com/@babel/standalone/babel.min.js\"></script>\n",
        "# </head>\n",
        "# <body>\n",
        "#     <div id=\"root\"></div>\n",
        "# <script type=\"text/babel\">\n",
        "#       ReactDOM.render(\n",
        "#         <h1>Hello, world!</h1>,\n",
        "#         document.getElementById('root')\n",
        "#       );\n",
        "# </script>\n",
        "# </body>"
      ],
      "execution_count": null,
      "outputs": [
        {
          "output_type": "display_data",
          "data": {
            "text/html": [
              "\n",
              "<head>\n",
              "<script src=\"https://unpkg.com/react@16/umd/react.development.js\"></script>\n",
              "<script src=\"https://unpkg.com/react-dom@16/umd/react-dom.development.js\"></script>\n",
              "<script src=\"https://unpkg.com/@babel/standalone/babel.min.js\"></script>\n",
              "</head>\n",
              "<body>\n",
              "    <div id=\"root\"></div>\n",
              "<script type=\"text/babel\">\n",
              "      ReactDOM.render(\n",
              "        <h1>Hello, world!</h1>,\n",
              "        document.getElementById('root')\n",
              "      );\n",
              "</script>\n",
              "</body>"
            ],
            "text/plain": [
              "<IPython.core.display.HTML object>"
            ]
          },
          "metadata": {
            "tags": []
          }
        }
      ]
    },
    {
      "cell_type": "markdown",
      "metadata": {
        "id": "8r2h_od1bzOS",
        "colab_type": "text"
      },
      "source": [
        ""
      ]
    }
  ]
}