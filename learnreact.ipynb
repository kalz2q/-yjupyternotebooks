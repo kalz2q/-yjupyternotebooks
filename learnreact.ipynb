{
  "nbformat": 4,
  "nbformat_minor": 0,
  "metadata": {
    "colab": {
      "name": "learnreact.ipynb",
      "provenance": [],
      "authorship_tag": "ABX9TyOs2tEP0L0oqkOKQd6ASKJ8",
      "include_colab_link": true
    },
    "kernelspec": {
      "name": "python3",
      "display_name": "Python 3"
    }
  },
  "cells": [
    {
      "cell_type": "markdown",
      "metadata": {
        "id": "view-in-github",
        "colab_type": "text"
      },
      "source": [
        "<a href=\"https://colab.research.google.com/github/kalz2q/mycolabnotebooks/blob/master/learnreact.ipynb\" target=\"_parent\"><img src=\"https://colab.research.google.com/assets/colab-badge.svg\" alt=\"Open In Colab\"/></a>"
      ]
    },
    {
      "cell_type": "markdown",
      "metadata": {
        "id": "HfVDGjCckZxG",
        "colab_type": "text"
      },
      "source": [
        "# メモ\n",
        "\n",
        "`Colab`で`React`を学ぶ。colabにreactは関係ないが、ただのノートとして使う。\n",
        "\n",
        "いまはまずは`dotinstall`のReact入門をやっている。\n",
        "\n",
        "とりあえずの方針。\n",
        "1. React + JSXとする。TypeScriptはやらない。\n",
        "1. すでにElmで学んだ部分があるので、その分の理解は早い。例えば、`if`は基本的には使わないとか。\n",
        "1. 理解のためにjavascriptで書いてみて、コードセルで`%%javascript`マジックコマンドで実行して確認する、とかしたい。\n"
      ]
    },
    {
      "cell_type": "markdown",
      "metadata": {
        "id": "DRLABvx2ExP9",
        "colab_type": "text"
      },
      "source": [
        "# 導入\n",
        "\n",
        "React は Facebook が中心に開発した JavaScript のライブラリー。ドットインストールの React入門では Elm の一番最初の Counter に相当するウェブアプリをつくっている。\n",
        "\n",
        "公式サイトは `reactjs.org` \n",
        "\n"
      ]
    },
    {
      "cell_type": "code",
      "metadata": {
        "id": "vM8wF89xkXYY",
        "colab_type": "code",
        "colab": {
          "base_uri": "https://localhost:8080/",
          "height": 17
        },
        "outputId": "1d0270bf-60b0-4f18-d943-5c2dd161bd14"
      },
      "source": [
        "%%html\n",
        "\n",
        "<head>\n",
        "<script src=\"https://unpkg.com/react@16/umd/react.development.js\"></script>\n",
        "<script src=\"https://unpkg.com/react-dom@16/umd/react-dom.development.js\"></script>\n",
        "<script src=\"https://unpkg.com/@babel/standalone/babel.min.js\"></script>\n",
        "</head>\n",
        "<body>\n",
        "    <div id=\"root\"></div>\n",
        "<script type=\"text/babel\">\n",
        "      ReactDOM.render(\n",
        "        <h1>Hello, world!</h1>,\n",
        "        document.getElementById('root')\n",
        "      );\n",
        "</script>\n",
        "</body>"
      ],
      "execution_count": 5,
      "outputs": [
        {
          "output_type": "display_data",
          "data": {
            "text/html": [
              "\n",
              "<head>\n",
              "<script src=\"https://unpkg.com/react@16/umd/react.development.js\"></script>\n",
              "<script src=\"https://unpkg.com/react-dom@16/umd/react-dom.development.js\"></script>\n",
              "<script src=\"https://unpkg.com/@babel/standalone/babel.min.js\"></script>\n",
              "</head>\n",
              "<body>\n",
              "    <div id=\"root\"></div>\n",
              "<script type=\"text/babel\">\n",
              "      ReactDOM.render(\n",
              "        <h1>Hello, world!</h1>,\n",
              "        document.getElementById('root')\n",
              "      );\n",
              "</script>\n",
              "</body>"
            ],
            "text/plain": [
              "<IPython.core.display.HTML object>"
            ]
          },
          "metadata": {
            "tags": []
          }
        }
      ]
    }
  ]
}