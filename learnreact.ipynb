{
  "nbformat": 4,
  "nbformat_minor": 0,
  "metadata": {
    "colab": {
      "name": "learnreact.ipynb",
      "provenance": [],
      "authorship_tag": "ABX9TyMNGqoM5LRjnmTHxKMG2XvB",
      "include_colab_link": true
    },
    "kernelspec": {
      "name": "python3",
      "display_name": "Python 3"
    },
    "language_info": {
      "name": "python"
    }
  },
  "cells": [
    {
      "cell_type": "markdown",
      "metadata": {
        "id": "view-in-github",
        "colab_type": "text"
      },
      "source": [
        "<a href=\"https://colab.research.google.com/github/kalz2q/mycolabnotebooks/blob/master/learnreact.ipynb\" target=\"_parent\"><img src=\"https://colab.research.google.com/assets/colab-badge.svg\" alt=\"Open In Colab\"/></a>"
      ]
    },
    {
      "cell_type": "markdown",
      "source": [
        "# メモ\n",
        "react本家チュートリアル https://ja.reactjs.org/tutorial/tutorial.html  \n",
        "TypeScriptでReactに入門するチュートリアル https://qiita.com/yonetty/items/012be4c5c6258a609e35  \n"
      ],
      "metadata": {
        "id": "33yy7JdpxGYL"
      }
    },
    {
      "cell_type": "code",
      "execution_count": null,
      "metadata": {
        "id": "E1Y_IevyxD9j"
      },
      "outputs": [],
      "source": [
        "# 環境\n",
        "# node -v => v14.16.0\n",
        "# npm -v => 6.14.8\n",
        "# react@18.2.0\n",
        "# typescript 4.7.4"
      ]
    },
    {
      "cell_type": "code",
      "source": [
        "# typescript 4.7.4\n",
        "%%capture\n",
        "!npm install -g typescript\n",
        "!npm install --save-dev @types/node\n",
        "!npm install --save lodash"
      ],
      "metadata": {
        "id": "1xbbQ_xBxOcj"
      },
      "execution_count": null,
      "outputs": []
    },
    {
      "cell_type": "code",
      "source": [
        "!tsc -v"
      ],
      "metadata": {
        "colab": {
          "base_uri": "https://localhost:8080/"
        },
        "id": "gwbGO1o9Ku7a",
        "outputId": "7183fe62-7453-42b1-fb48-7cc2fb81e7aa"
      },
      "execution_count": null,
      "outputs": [
        {
          "output_type": "stream",
          "name": "stdout",
          "text": [
            "Version 4.7.4\n"
          ]
        }
      ]
    },
    {
      "cell_type": "code",
      "source": [
        "%capture\n",
        "!npx create-react-app app-dir"
      ],
      "metadata": {
        "id": "bdMTWTxiK5tM"
      },
      "execution_count": null,
      "outputs": []
    },
    {
      "cell_type": "code",
      "source": [
        "# react@18.2.0\n",
        "!cd app-dir;  npm list --depth=0"
      ],
      "metadata": {
        "id": "yqAcPVS5NiAy"
      },
      "execution_count": null,
      "outputs": []
    },
    {
      "cell_type": "code",
      "source": [
        "!ls"
      ],
      "metadata": {
        "colab": {
          "base_uri": "https://localhost:8080/"
        },
        "id": "zQpvQYqPOA_-",
        "outputId": "7687da8b-bb7f-4a08-d949-a7ccc1951802"
      },
      "execution_count": null,
      "outputs": [
        {
          "output_type": "stream",
          "name": "stdout",
          "text": [
            "app-dir  node_modules  package-lock.json  sample_data\n"
          ]
        }
      ]
    },
    {
      "cell_type": "code",
      "source": [
        "# npm install -g create-react-app は必要なかった\n",
        "# !cd app-dir;  npm start は local ではブラウザーが立ち上がるがここではダメ"
      ],
      "metadata": {
        "id": "71ThQ4KzOC75"
      },
      "execution_count": null,
      "outputs": []
    },
    {
      "cell_type": "code",
      "source": [
        ""
      ],
      "metadata": {
        "id": "pDoyoDY4XVTZ"
      },
      "execution_count": null,
      "outputs": []
    },
    {
      "cell_type": "code",
      "source": [
        ""
      ],
      "metadata": {
        "id": "dyHR0sTKPLpY"
      },
      "execution_count": null,
      "outputs": []
    }
  ]
}