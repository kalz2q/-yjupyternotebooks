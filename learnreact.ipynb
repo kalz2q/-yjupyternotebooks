{
  "nbformat": 4,
  "nbformat_minor": 0,
  "metadata": {
    "colab": {
      "name": "learnreact.ipynb",
      "provenance": [],
      "toc_visible": true,
      "authorship_tag": "ABX9TyOiEmfasxCUWT8J1K5GagD8",
      "include_colab_link": true
    },
    "kernelspec": {
      "name": "python3",
      "display_name": "Python 3"
    },
    "language_info": {
      "name": "python"
    }
  },
  "cells": [
    {
      "cell_type": "markdown",
      "metadata": {
        "id": "view-in-github",
        "colab_type": "text"
      },
      "source": [
        "<a href=\"https://colab.research.google.com/github/kalz2q/mycolabnotebooks/blob/master/learnreact.ipynb\" target=\"_parent\"><img src=\"https://colab.research.google.com/assets/colab-badge.svg\" alt=\"Open In Colab\"/></a>"
      ]
    },
    {
      "cell_type": "markdown",
      "source": [
        "# メモ"
      ],
      "metadata": {
        "id": "33yy7JdpxGYL"
      }
    },
    {
      "cell_type": "markdown",
      "source": [
        "\n",
        "react本家チュートリアル https://ja.reactjs.org/tutorial/tutorial.html  \n",
        "TypeScriptでReactに入門するチュートリアル https://qiita.com/yonetty/items/012be4c5c6258a609e35  \n",
        "Create React Appで作成したアプリをgithubで公開する【npm gh-pages】  \n",
        "Reactの初期ページをGitHub Pagesで公開(デプロイ)する方法  "
      ],
      "metadata": {
        "id": "7lBMrG07nG4m"
      }
    },
    {
      "cell_type": "code",
      "source": [
        "# 目的はアイデアを形にして公開すること\n",
        "# typescrpt で書いて react でアプリにして github で公開する方法を探る"
      ],
      "metadata": {
        "id": "SZvaDBRFnJMC"
      },
      "execution_count": null,
      "outputs": []
    },
    {
      "cell_type": "code",
      "execution_count": null,
      "metadata": {
        "id": "E1Y_IevyxD9j"
      },
      "outputs": [],
      "source": [
        "# 環境\n",
        "# node -v => v14.16.0\n",
        "# npm -v => 6.14.8\n",
        "# react@18.2.0\n",
        "# typescript 4.7.4"
      ]
    },
    {
      "cell_type": "code",
      "source": [
        "# typescript 4.7.4\n",
        "%%capture\n",
        "!npm install -g typescript\n",
        "!npm install --save-dev @types/node\n",
        "!npm install --save lodash"
      ],
      "metadata": {
        "id": "1xbbQ_xBxOcj"
      },
      "execution_count": null,
      "outputs": []
    },
    {
      "cell_type": "code",
      "source": [
        "!tsc -v"
      ],
      "metadata": {
        "colab": {
          "base_uri": "https://localhost:8080/"
        },
        "id": "gwbGO1o9Ku7a",
        "outputId": "7183fe62-7453-42b1-fb48-7cc2fb81e7aa"
      },
      "execution_count": null,
      "outputs": [
        {
          "output_type": "stream",
          "name": "stdout",
          "text": [
            "Version 4.7.4\n"
          ]
        }
      ]
    },
    {
      "cell_type": "code",
      "source": [
        "%capture\n",
        "!npx create-react-app app-dir"
      ],
      "metadata": {
        "id": "bdMTWTxiK5tM"
      },
      "execution_count": null,
      "outputs": []
    },
    {
      "cell_type": "code",
      "source": [
        "# react@18.2.0\n",
        "!cd app-dir;  npm list --depth=0"
      ],
      "metadata": {
        "id": "yqAcPVS5NiAy"
      },
      "execution_count": null,
      "outputs": []
    },
    {
      "cell_type": "code",
      "source": [
        "!ls"
      ],
      "metadata": {
        "colab": {
          "base_uri": "https://localhost:8080/"
        },
        "id": "zQpvQYqPOA_-",
        "outputId": "7687da8b-bb7f-4a08-d949-a7ccc1951802"
      },
      "execution_count": null,
      "outputs": [
        {
          "output_type": "stream",
          "name": "stdout",
          "text": [
            "app-dir  node_modules  package-lock.json  sample_data\n"
          ]
        }
      ]
    },
    {
      "cell_type": "code",
      "source": [
        "# npm install -g create-react-app は必要なかった\n",
        "# !cd app-dir;  npm start は local ではブラウザーが立ち上がるがここではダメ"
      ],
      "metadata": {
        "id": "71ThQ4KzOC75"
      },
      "execution_count": null,
      "outputs": []
    },
    {
      "cell_type": "code",
      "source": [
        "# 考え方\n",
        "# npx create-react-app react-app-dir とかでローカルで雛形を作る、もしくは git clone する\n",
        "# github にリポジトリを作り紐づける、既にあれば git clone する\n",
        "# npm run build <= これは deploy 時に実行するのでここでは不要かも\n",
        "# npm run add gh-pages\n",
        "# package.jsonを編集\n",
        "# \"homepage\"と\"scripts\"配下の\"deploy\"を追加する\n",
        "# \"homepage\": \"https://[githubのアカウント名].github.io/[リポジトリ名]\", <= カンマを忘れないこと\n",
        "# \"deploy\": npm run build && gh-pages -d build\", <= カンマを忘れないこと\n",
        "# npm run deploy\n",
        "# 後始末: ローカルの内容を github で見れるようにするため git add . git commit git push しておく"
      ],
      "metadata": {
        "id": "pDoyoDY4XVTZ"
      },
      "execution_count": null,
      "outputs": []
    },
    {
      "cell_type": "code",
      "source": [
        ""
      ],
      "metadata": {
        "id": "dyHR0sTKPLpY"
      },
      "execution_count": null,
      "outputs": []
    }
  ]
}