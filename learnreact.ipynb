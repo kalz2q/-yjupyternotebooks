{
  "nbformat": 4,
  "nbformat_minor": 0,
  "metadata": {
    "colab": {
      "name": "learnreact.ipynb",
      "provenance": [],
      "authorship_tag": "ABX9TyMe338/DXycYSlJX2qcDQwL",
      "include_colab_link": true
    },
    "kernelspec": {
      "name": "python3",
      "display_name": "Python 3"
    }
  },
  "cells": [
    {
      "cell_type": "markdown",
      "metadata": {
        "id": "view-in-github",
        "colab_type": "text"
      },
      "source": [
        "<a href=\"https://colab.research.google.com/github/kalz2q/mycolabnotebooks/blob/master/learnreact.ipynb\" target=\"_parent\"><img src=\"https://colab.research.google.com/assets/colab-badge.svg\" alt=\"Open In Colab\"/></a>"
      ]
    },
    {
      "cell_type": "markdown",
      "metadata": {
        "id": "HfVDGjCckZxG",
        "colab_type": "text"
      },
      "source": [
        "# メモ\n",
        "\n",
        "`Colab`で`React`を学ぶ。colabにreactは関係ないが、ただのノートとして使う。\n",
        "\n",
        "いまはまずは`dotinstall`のReact入門をやっている。\n",
        "\n",
        "とりあえずの方針。\n",
        "1. React + JSXとする。TypeScriptはやらない。\n",
        "1. すでにElmで学んだ部分があるので、その分の理解は早い。例えば、`if`は基本的には使わないとか。\n",
        "1. 理解のためにjavascriptで書いてみて、コードセルで`%%javascript`マジックコマンドで実行して確認する、とかしたい。\n"
      ]
    },
    {
      "cell_type": "markdown",
      "metadata": {
        "id": "DRLABvx2ExP9",
        "colab_type": "text"
      },
      "source": [
        "# 導入\n",
        "\n",
        "React は Facebook が中心に開発した JavaScript のライブラリー。ドットインストールの React入門では Elm の一番最初の Counter に相当するウェブアプリをつくっている。\n",
        "\n",
        "公式サイトは `reactjs.org` \n",
        "\n"
      ]
    },
    {
      "cell_type": "code",
      "metadata": {
        "id": "vM8wF89xkXYY",
        "colab_type": "code",
        "colab": {}
      },
      "source": [
        ""
      ],
      "execution_count": null,
      "outputs": []
    }
  ]
}