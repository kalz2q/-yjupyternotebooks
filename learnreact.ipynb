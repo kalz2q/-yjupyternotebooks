{
  "nbformat": 4,
  "nbformat_minor": 0,
  "metadata": {
    "colab": {
      "name": "learnreact.ipynb",
      "provenance": [],
      "toc_visible": true,
      "authorship_tag": "ABX9TyOdMXLgBwd292mEtbCxv3K4",
      "include_colab_link": true
    },
    "kernelspec": {
      "name": "python3",
      "display_name": "Python 3"
    },
    "language_info": {
      "name": "python"
    }
  },
  "cells": [
    {
      "cell_type": "markdown",
      "metadata": {
        "id": "view-in-github",
        "colab_type": "text"
      },
      "source": [
        "<a href=\"https://colab.research.google.com/github/kalz2q/mycolabnotebooks/blob/master/learnreact.ipynb\" target=\"_parent\"><img src=\"https://colab.research.google.com/assets/colab-badge.svg\" alt=\"Open In Colab\"/></a>"
      ]
    },
    {
      "cell_type": "markdown",
      "source": [
        "# メモ"
      ],
      "metadata": {
        "id": "33yy7JdpxGYL"
      }
    },
    {
      "cell_type": "markdown",
      "source": [
        "\n",
        "react本家チュートリアル https://ja.reactjs.org/tutorial/tutorial.html  \n",
        "TypeScriptでReactに入門するチュートリアル https://qiita.com/yonetty/items/012be4c5c6258a609e35  \n",
        "Create React Appで作成したアプリをgithubで公開する【npm gh-pages】  \n",
        "Reactの初期ページをGitHub Pagesで公開(デプロイ)する方法  \n",
        "\n",
        "\n",
        "React:関数コンポーネントとクラスコンポーネントの違い  \n",
        "https://www.twilio.com/blog/react-choose-functional-components-jp  \n",
        "を読んでいたら、react のコードの切れ端を云々。  \n",
        "learnreactではどう解決したのか。ipynb  \n",
        "と。  \n"
      ],
      "metadata": {
        "id": "7lBMrG07nG4m"
      }
    },
    {
      "cell_type": "code",
      "source": [
        "# 目的はアイデアを形にして公開すること\n",
        "# typescrpt で書いて react でアプリにして github で公開する方法を探る"
      ],
      "metadata": {
        "id": "SZvaDBRFnJMC"
      },
      "execution_count": null,
      "outputs": []
    },
    {
      "cell_type": "code",
      "execution_count": null,
      "metadata": {
        "id": "E1Y_IevyxD9j"
      },
      "outputs": [],
      "source": [
        "# 環境\n",
        "# node -v => v14.16.0\n",
        "# npm -v => 6.14.8\n",
        "# react@18.2.0\n",
        "# typescript 4.7.4"
      ]
    },
    {
      "cell_type": "code",
      "source": [
        "# typescript 4.7.4\n",
        "%%capture\n",
        "!npm install -g typescript\n",
        "!npm install --save-dev @types/node\n",
        "!npm install --save lodash"
      ],
      "metadata": {
        "id": "1xbbQ_xBxOcj"
      },
      "execution_count": null,
      "outputs": []
    },
    {
      "cell_type": "code",
      "source": [
        "!tsc -v"
      ],
      "metadata": {
        "colab": {
          "base_uri": "https://localhost:8080/"
        },
        "id": "gwbGO1o9Ku7a",
        "outputId": "7183fe62-7453-42b1-fb48-7cc2fb81e7aa"
      },
      "execution_count": null,
      "outputs": [
        {
          "output_type": "stream",
          "name": "stdout",
          "text": [
            "Version 4.7.4\n"
          ]
        }
      ]
    },
    {
      "cell_type": "code",
      "source": [
        "%capture\n",
        "!npx create-react-app app-dir"
      ],
      "metadata": {
        "id": "bdMTWTxiK5tM"
      },
      "execution_count": null,
      "outputs": []
    },
    {
      "cell_type": "code",
      "source": [
        "# react@18.2.0\n",
        "!cd app-dir;  npm list --depth=0"
      ],
      "metadata": {
        "id": "yqAcPVS5NiAy"
      },
      "execution_count": null,
      "outputs": []
    },
    {
      "cell_type": "code",
      "source": [
        "!ls"
      ],
      "metadata": {
        "colab": {
          "base_uri": "https://localhost:8080/"
        },
        "id": "zQpvQYqPOA_-",
        "outputId": "7687da8b-bb7f-4a08-d949-a7ccc1951802"
      },
      "execution_count": null,
      "outputs": [
        {
          "output_type": "stream",
          "name": "stdout",
          "text": [
            "app-dir  node_modules  package-lock.json  sample_data\n"
          ]
        }
      ]
    },
    {
      "cell_type": "code",
      "source": [
        "# npm install -g create-react-app は必要なかった\n",
        "# !cd app-dir;  npm start は local ではブラウザーが立ち上がるがここではダメ"
      ],
      "metadata": {
        "id": "71ThQ4KzOC75"
      },
      "execution_count": null,
      "outputs": []
    },
    {
      "cell_type": "code",
      "source": [
        "# typescript+react+github\n",
        "# npx create-react-app リポジトリ名 --template typescript とかでローカルで雛形を作る\n",
        "# github にリポジトリを作り紐づける\n",
        "# npm install gh-pages --save-dev\n",
        "# package.jsonを編集し\"homepage\"と\"scripts\"配下の\"deploy\"を追加する\n",
        "# \"homepage\": \"https://githubのアカウント名.github.io/リポジトリ名/\", <= カンマを忘れないこと\n",
        "# package.json の scripts に次の行を追加する。\n",
        "#   \"scripts\": {\n",
        "#     \"deploy\": \"npm run build && gh-pages -d build\", <= カンマを忘れないこと\n",
        "#   },\n",
        "# git remote add origin git@github.com:kalz2q/リポジトリ名.git <= リポジトリ作成時にすでにやってあるかも\n",
        "# npm run deploy\n",
        "# 後始末: ローカルの内容を github で見れるようにするため git add . git commit git push しておく"
      ],
      "metadata": {
        "id": "dyHR0sTKPLpY"
      },
      "execution_count": null,
      "outputs": []
    },
    {
      "cell_type": "code",
      "source": [
        "# 簡略版\n",
        "# typescript+react+github\n",
        "# npx create-react-app リポジトリ名 --template typescript \n",
        "# github にリポジトリを作り紐づける\n",
        "# npm install gh-pages --save-dev\n",
        "# package.jsonを編集し\"homepage\"と\"scripts\"配下の\"deploy\"を追加\n",
        "# \"homepage\": \"https://githubのアカウント名.github.io/リポジトリ名/\",\n",
        "# package.json の scripts に次の行を追加する。\n",
        "#   \"scripts\": {\n",
        "#     \"deploy\": \"npm run build && gh-pages -d build\",\n",
        "#   },\n",
        "# git remote add origin git@github.com:kalz2q/リポジトリ名.git\n",
        "# npm run deploy\n",
        "# 後始末: ローカルの内容を github で見れるようにするため \n",
        "# git add . git commit git push しておく"
      ],
      "metadata": {
        "id": "dsgLazLyGx1C"
      },
      "execution_count": null,
      "outputs": []
    }
  ]
}