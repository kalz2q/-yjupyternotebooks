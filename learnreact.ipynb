{
  "nbformat": 4,
  "nbformat_minor": 0,
  "metadata": {
    "colab": {
      "name": "learnreact.ipynb",
      "provenance": [],
      "authorship_tag": "ABX9TyPaU71tJt1miS+XQN38Kmdf",
      "include_colab_link": true
    },
    "kernelspec": {
      "name": "python3",
      "display_name": "Python 3"
    }
  },
  "cells": [
    {
      "cell_type": "markdown",
      "metadata": {
        "id": "view-in-github",
        "colab_type": "text"
      },
      "source": [
        "<a href=\"https://colab.research.google.com/github/kalz2q/mycolabnotebooks/blob/master/learnreact.ipynb\" target=\"_parent\"><img src=\"https://colab.research.google.com/assets/colab-badge.svg\" alt=\"Open In Colab\"/></a>"
      ]
    },
    {
      "cell_type": "code",
      "metadata": {
        "id": "9cHFD0Xldq0i"
      },
      "source": [
        ""
      ],
      "execution_count": null,
      "outputs": []
    },
    {
      "cell_type": "markdown",
      "metadata": {
        "id": "qAPxvjcRdtlo"
      },
      "source": [
        "# メモ\n",
        "colab の環境で %%html で react を勉強する、というアイデア。\n",
        "\n",
        "cdn で使えるかどうか => つかえない。\n",
        "\n",
        "getElementById は使える。\n",
        "\n",
        "colab の環境に npm で react をインストールできれば使えるかもしれない。"
      ]
    },
    {
      "cell_type": "code",
      "metadata": {
        "colab": {
          "base_uri": "https://localhost:8080/",
          "height": 46
        },
        "id": "A7O8qQ0DeBPq",
        "outputId": "0939112f-e7d7-4053-f1bb-10963d18ba26"
      },
      "source": [
        "# 実験  getElementById は使える。\n",
        "%%html\n",
        "  <body>\n",
        "    <p id=\"text\"></p>\n",
        "    <script>\n",
        "      document.getElementById(\"text\").innerHTML = \"こんにちは！\";\n",
        "    </script>\n",
        "  </body>"
      ],
      "execution_count": 1,
      "outputs": [
        {
          "output_type": "display_data",
          "data": {
            "text/html": [
              "  <body>\n",
              "    <p id=\"text\"></p>\n",
              "    <script>\n",
              "      document.getElementById(\"text\").innerHTML = \"こんにちは！\";\n",
              "    </script>\n",
              "  </body>"
            ],
            "text/plain": [
              "<IPython.core.display.HTML object>"
            ]
          },
          "metadata": {
            "tags": []
          }
        }
      ]
    },
    {
      "cell_type": "code",
      "metadata": {
        "id": "sWSM8UwGZN8c",
        "colab": {
          "base_uri": "https://localhost:8080/",
          "height": 75
        },
        "outputId": "2a13e0d4-ef1c-4b0f-8d0a-1747bdcab5e1"
      },
      "source": [
        "# 実験\n",
        "%%html\n",
        "<div id=\"root\"></div>\n",
        "<script>\n",
        "document.getElementById(\"root\").innerHTML = \"<h1>ハロー</h1>\";\n",
        "</script>\n"
      ],
      "execution_count": null,
      "outputs": [
        {
          "output_type": "display_data",
          "data": {
            "text/html": [
              "    <div id=\"root\"></div>\n",
              "<script>\n",
              "document.getElementById(\"root\").innerHTML = \"<h1>ハロー</h1>\";\n",
              "</script>"
            ],
            "text/plain": [
              "<IPython.core.display.HTML object>"
            ]
          },
          "metadata": {
            "tags": []
          }
        }
      ]
    },
    {
      "cell_type": "code",
      "metadata": {
        "id": "1XiuwGC5egvM"
      },
      "source": [
        ""
      ],
      "execution_count": null,
      "outputs": []
    }
  ]
}