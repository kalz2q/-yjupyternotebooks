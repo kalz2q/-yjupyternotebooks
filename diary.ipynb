{
  "nbformat": 4,
  "nbformat_minor": 0,
  "metadata": {
    "colab": {
      "name": "diary.ipynb",
      "provenance": [],
      "authorship_tag": "ABX9TyM8waWHq/ahhWcRfq+u3GL2",
      "include_colab_link": true
    },
    "kernelspec": {
      "name": "python3",
      "display_name": "Python 3"
    },
    "language_info": {
      "name": "python"
    }
  },
  "cells": [
    {
      "cell_type": "markdown",
      "metadata": {
        "id": "view-in-github",
        "colab_type": "text"
      },
      "source": [
        "<a href=\"https://colab.research.google.com/github/kalz2q/mycolabnotebooks/blob/master/diary.ipynb\" target=\"_parent\"><img src=\"https://colab.research.google.com/assets/colab-badge.svg\" alt=\"Open In Colab\"/></a>"
      ]
    },
    {
      "cell_type": "code",
      "metadata": {
        "id": "UdrKZGG2ClVW"
      },
      "source": [
        "2021/05/01 3:33 土曜日\n",
        "\n",
        "アイデア\n",
        "\n",
        "コロナ時代の学習教材としての Colab\n",
        "\n",
        "コロナ  学習 対面 オンライン授業 学習教材 ビデオ ストリーミング\n",
        "\n",
        "コロナ禍の学習教材としての Colab\n",
        "\n",
        "はじめに\n",
        "\n",
        "コロナ時代の学習教材としての Colab に注目!!!!\n",
        "\n",
        "対象は高校生以上なら大丈夫だと思う。 教材作りの方が大変だけど使い回しができるのでみんなで作れば怖くない。\n",
        "\n",
        "流れ\n",
        "\n",
        "1. 生徒は https://colab.research.google.com/ にアクセスしてアカウントを作る\n",
        "2. 教材を Colab で開く URL をメールで配布する。 例 https://colab.research.google.com/github/kalz2q/mycolabnotebooks/blob/master/doingmath01.ipynb\n",
        "3. 生徒はメニューの\"ドライブにコピー\"で自分の Colab にコピーする\n",
        "4. 生徒はセルを実行したり、壊したりしながら実験学習する\n",
        "\n",
        "メリット・ディメリット\n",
        "\n",
        "1. だれでも使える。環境設定が不要 (スマホでも使える)\n",
        "2. 生徒は失敗を恐れずインタラクティブに学習できる\n",
        "3. 失敗したらもとのファイルからやりなおせばよい\n",
        "\n",
        "あとがき\n",
        "\n",
        "\n",
        "\n"
      ],
      "execution_count": null,
      "outputs": []
    },
    {
      "cell_type": "code",
      "metadata": {
        "id": "kCIPfBAI1_dE"
      },
      "source": [
        "2021/05/01 2:33 土曜日\n",
        "\n",
        "なぜ、github に colab で日記を書くか。\n",
        "\n",
        "1. バージョン管理ができる (うっかり消しても大丈夫)\n",
        "2. どこからでも使える。 パソコンが壊れても大丈夫\n",
        "3. colab (jupyter) のエディターが複数カーソル(multicursor) に対応している (CodeMirror ベース?) とかそこそこ便利\n",
        "4. google chrome の keep との使い分けができる\n",
        "5. コードセル/テキストセルの切り替えができる\n",
        "6. コードセルでは ubuntu (linux) の機能が使える\n",
        "7. テキストセルでは latex が使えて表現が豊富になる\n",
        "8. github にセーブできる (もっとも安全なサーバー)\n",
        "9. git clone して grep とか ubuntu (linux) の機能がつかえて超便利\n",
        "10. colab には自動保存される。 github にコピーを保存が便利 <= あ、これじゃあわからんね!!!!\n",
        "\n",
        "\n",
        "思いつき。アイデア。\n",
        "\n",
        "メニューのキーボードショートカットにはエディター内で使える機能が載っていないのでリストを作る。\n",
        "\n",
        "ショートカット | 機能 | 備考\n",
        "--- | --- | ---\n",
        "Ctrl+C | コピー | \n",
        "Ctrl+Click | 複数カーソル | muliticursor\n",
        "\n",
        "てかだれか作っているだろう。\n",
        "\n",
        "colab editor shortcuts\n",
        "\n",
        "で検索 check_later\n",
        "\n",
        "メモ\n",
        "\n",
        "日本版wikipediaに翻訳記事作成で参加しています\n",
        "\n",
        "\n",
        "\n"
      ],
      "execution_count": null,
      "outputs": []
    },
    {
      "cell_type": "markdown",
      "metadata": {
        "id": "wb8ofcd06ir4"
      },
      "source": [
        "kljl; lj;j\n"
      ]
    },
    {
      "cell_type": "code",
      "metadata": {
        "id": "yOcz-bF1kfEr"
      },
      "source": [
        "2021/05/01 2:25 土曜日\n",
        "\n",
        "ここはパブリックなので、あたりさわりのないことを書く。\n",
        "\n",
        "お茶の成分はタンニンでコーヒーの成分はカフェイン、というのはなんか違う気がする。\n",
        "お茶にもカフェインが入っている。 デカフェのコーヒーもコーヒーの味がする。\n",
        "\n",
        "茶 タンニン コーヒー カフェイン\n",
        "で検索 => 複雑そう\n",
        "\n"
      ],
      "execution_count": null,
      "outputs": []
    },
    {
      "cell_type": "code",
      "metadata": {
        "id": "JzFAcp-fkhPm"
      },
      "source": [
        "2021/04/30 20:38\n",
        "\n",
        "github に書く diary。 メモ代わりには使えるだろう。\n",
        "\n",
        "\n",
        "\n"
      ],
      "execution_count": null,
      "outputs": []
    }
  ]
}