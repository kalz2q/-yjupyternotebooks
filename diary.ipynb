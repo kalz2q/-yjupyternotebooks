{
  "nbformat": 4,
  "nbformat_minor": 0,
  "metadata": {
    "colab": {
      "name": "diary.ipynb",
      "provenance": [],
      "authorship_tag": "ABX9TyN53AoZ8owNhph80WJF4Pkk",
      "include_colab_link": true
    },
    "kernelspec": {
      "name": "python3",
      "display_name": "Python 3"
    },
    "language_info": {
      "name": "python"
    }
  },
  "cells": [
    {
      "cell_type": "markdown",
      "metadata": {
        "id": "view-in-github",
        "colab_type": "text"
      },
      "source": [
        "<a href=\"https://colab.research.google.com/github/kalz2q/mycolabnotebooks/blob/master/diary.ipynb\" target=\"_parent\"><img src=\"https://colab.research.google.com/assets/colab-badge.svg\" alt=\"Open In Colab\"/></a>"
      ]
    },
    {
      "cell_type": "code",
      "metadata": {
        "id": "yOcz-bF1kfEr"
      },
      "source": [
        "2021/05/01 2:25 土曜日\n",
        "\n",
        "ここはパブリックなので、あたりさわりのないことを書く。\n",
        "\n",
        "お茶の成分はタンニンでコーヒーの成分はカフェイン、というのはなんか違う気がする。\n",
        "お茶にもカフェインが入っている。 デカフェのコーヒーもコーヒーの味がする。\n",
        "\n",
        "茶 タンニン コーヒー カフェイン\n",
        "で検索 => 複雑そう\n",
        "\n"
      ],
      "execution_count": null,
      "outputs": []
    },
    {
      "cell_type": "code",
      "metadata": {
        "id": "JzFAcp-fkhPm"
      },
      "source": [
        "2021/04/30 20:38\n",
        "\n",
        "github に書く diary。 メモ代わりには使えるだろう。\n",
        "\n",
        "\n",
        "\n"
      ],
      "execution_count": null,
      "outputs": []
    }
  ]
}