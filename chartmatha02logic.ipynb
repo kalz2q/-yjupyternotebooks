{
  "nbformat": 4,
  "nbformat_minor": 0,
  "metadata": {
    "colab": {
      "name": "chartmatha02logic.ipynb",
      "provenance": [],
      "toc_visible": true,
      "authorship_tag": "ABX9TyPIOrHTcnfAvVHTPSqWCvcJ",
      "include_colab_link": true
    },
    "kernelspec": {
      "name": "python3",
      "display_name": "Python 3"
    }
  },
  "cells": [
    {
      "cell_type": "markdown",
      "metadata": {
        "id": "view-in-github",
        "colab_type": "text"
      },
      "source": [
        "<a href=\"https://colab.research.google.com/github/kalz2q/mycolabnotebooks/blob/master/chartmatha02logic.ipynb\" target=\"_parent\"><img src=\"https://colab.research.google.com/assets/colab-badge.svg\" alt=\"Open In Colab\"/></a>"
      ]
    },
    {
      "cell_type": "markdown",
      "metadata": {
        "id": "GsRxjb7ky1Rb"
      },
      "source": [
        "# メモ\n",
        "\n",
        "チャート式数学 A 2章\n",
        "\n",
        "論理と集合\n",
        "\n",
        "を読む。\n",
        "\n"
      ]
    },
    {
      "cell_type": "markdown",
      "metadata": {
        "id": "o5LmuKb8itzz"
      },
      "source": [
        "メモ $\\quad$ 大学の数学、例えば集合・位相とか、離散数学とかの最初に集合と論理演算の話が出てくる。 が、テキストによって若干表記が違うので、日本の高校の指導要領ではどうなっているか、の確認を兼ねてチャート式をみてみる。\n",
        "\n",
        "いま不確定なのは\n",
        "\n",
        "1. 論理式、論理演算式、論理記号式におけるカンマの意味\n",
        "1. 論理式、論理演算式、論理記号式における括弧、丸括弧、角括弧、波括弧の意味\n",
        "\n",
        "いま 20210418 の考えでは、カンマを使うのはよくない。 $\\forall x \\in \\mathbf N, x \\in \\mathbf R$ を自然数は実数である、の翻訳と考えるのはよくないと思う。 カンマを取って、ただの併記するか、$\\forall x \\in \\mathbf N [x \\in \\mathbf R]$ として、$\\mathbf N$ に属する $x$ について、$x \\in \\mathbf R$ が成立する。 とか、$\\mathbf N$ の $x$ は $x \\in \\mathbf R$ の性質を持つ、とするのがよいのではないか。\n",
        "\n",
        "ただの丸括弧は式のまとめに使うので、それ以外の使い方があるのかどうか。 なにかのテキストに丸括弧は性質に使う、と書いてあった。 そもそも性質とは数学的にはなんなのか。\n",
        "\n"
      ]
    },
    {
      "cell_type": "markdown",
      "metadata": {
        "id": "TfOvfOImls48"
      },
      "source": [
        "# いまここ p.304"
      ]
    },
    {
      "cell_type": "markdown",
      "metadata": {
        "id": "_a6M_m7GzGkF"
      },
      "source": [
        "# 基本事項"
      ]
    },
    {
      "cell_type": "markdown",
      "metadata": {
        "id": "KqKenhtyl5_C"
      },
      "source": [
        "命題\n",
        "\n",
        "命題 $\\quad$ $p \\implies q$ $\\quad$ $p$ ならば $q$ $\\quad$ $p$ が仮定、$q$ が結論\n",
        "\n",
        "偽と反例\n",
        "\n",
        "$p$ は満たすが $q$ は満たさない例 (反例) があると $p \\implies q$ は偽。\n",
        "\n",
        "条件と集合\n",
        "\n",
        "$p \\implies q$ が真 $\\Longleftrightarrow P \\subset Q$\n",
        "\n",
        "メモ $\\quad$ $\\subset$ が $\\subseteq$ の意味で使われていると思う。 大学数学で $\\subset$ は $P = Q$ を含まない真部分集合というのに無理がある、と思うが、英語でもそういう区別をしているようなので、高校数学が違っているのかもしれない。\n",
        "\n",
        "$p \\Longleftrightarrow q$ が真 $\\Longleftrightarrow P = Q$\n",
        "\n",
        "&nbsp;\n",
        "\n",
        "条件の否定\n",
        "\n",
        "$p \\land q$ $\\quad$ $P \\cap Q$ $\\quad$ $p,q$ が共に成り立つ\n",
        "\n",
        "$p \\lor q$ $\\quad$ $P \\cup Q$ $\\quad$ $p,q$ の少なくとも一方が成り立つ\n",
        "\n",
        "否定\n",
        "\n",
        "$\\neg p$ $\\quad$ $\\overline p$ $\\quad$ $p$ でない\n",
        "\n",
        "$\\overline {(p \\land q)}$\n",
        "\n",
        "$\\overline {(p \\lor q)}$\n",
        "\n",
        "&nbsp;\n",
        "\n",
        "\n",
        "\n",
        "\n"
      ]
    },
    {
      "cell_type": "markdown",
      "metadata": {
        "id": "W39e48ZZzvMu"
      },
      "source": [
        "# 必要条件・十分条件、同値\n",
        "\n",
        "命題 $p \\Rightarrow q$ が真であるとき\n",
        "\n",
        "$q$ を $p$ (であるため) の必要条件 necessary condition と言う。\n",
        "\n",
        "$p$ を $q$ (であるため) の十分条件 sufficient condition と言う。\n",
        "\n",
        "命題 $p \\Longleftrightarrow q$ が真であるとき\n",
        "\n",
        "$p$ を $q$ (であるため) の必要十分条件と言う。このとき $p$ と $q$ は互いに同値であると言う。\n",
        "\n",
        "&nbsp;\n"
      ]
    },
    {
      "cell_type": "markdown",
      "metadata": {
        "id": "mZJvbmuk0m3y"
      },
      "source": [
        "基本例題 61 p.306 次の命題の真偽を調べる。\n",
        "\n",
        "(1)"
      ]
    }
  ]
}