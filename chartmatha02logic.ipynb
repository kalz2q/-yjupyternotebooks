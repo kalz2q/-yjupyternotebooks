{
  "nbformat": 4,
  "nbformat_minor": 0,
  "metadata": {
    "colab": {
      "name": "chartmatha02logic.ipynb",
      "provenance": [],
      "toc_visible": true,
      "authorship_tag": "ABX9TyPEr9oxq1y8WOYbykIkvh4c",
      "include_colab_link": true
    },
    "kernelspec": {
      "name": "python3",
      "display_name": "Python 3"
    }
  },
  "cells": [
    {
      "cell_type": "markdown",
      "metadata": {
        "id": "view-in-github",
        "colab_type": "text"
      },
      "source": [
        "<a href=\"https://colab.research.google.com/github/kalz2q/mycolabnotebooks/blob/master/chartmatha02logic.ipynb\" target=\"_parent\"><img src=\"https://colab.research.google.com/assets/colab-badge.svg\" alt=\"Open In Colab\"/></a>"
      ]
    },
    {
      "cell_type": "markdown",
      "metadata": {
        "id": "GsRxjb7ky1Rb"
      },
      "source": [
        "# メモ\n",
        "チャート式数学 A 2章 論理と集合"
      ]
    },
    {
      "cell_type": "markdown",
      "metadata": {
        "id": "o5LmuKb8itzz"
      },
      "source": [
        "質問  \n",
        "大学の数学、例えば集合・位相とか、離散数学とかの最初に集合と論理演算の話が出てくる。 が、テキストによって若干表記が違う。\n",
        "\n",
        "1. 論理式、論理演算式、論理記号式におけるカンマの意味\n",
        "1. 論理式、論理演算式、論理記号式における括弧、丸括弧、角括弧、波括弧の意味\n",
        "\n",
        "$\\forall x \\in \\mathbf N, x \\in \\mathbf R$ を自然数は実数であると読むのは、\n",
        "$\\forall$ がついているからであって、カンマ自体にカンマの前が条件であるという意味はない、という理解で合っているか。\n",
        "\n",
        "ただの併記 $\\forall x \\in \\mathbf N \\;\\;x \\in \\mathbf R$ にしても同じ意味なのはそのためなのだろう。  \n",
        "\n",
        "$\\forall x \\in \\mathbf N [x \\in \\mathbf R]$ とすると、$\\mathbf N$ に属する $x$ について、$x \\in \\mathbf R$ が成立する、と読める。\n",
        "\n",
        "ただの丸括弧の使い方も不確定で、式のまとめに使う以外に、なにかのテキストに丸括弧は性質に使う、と書いてあった。 そもそも性質とは数学的にはなんなのか。"
      ]
    },
    {
      "cell_type": "code",
      "source": [
        "%%latex\n",
        "\\forall x \\in \\mathbf N, x \\in \\mathbf R \\\\\n",
        "\\forall x \\in \\mathbf N \\;\\;x \\in \\mathbf R \\\\\n",
        "\\forall x \\in \\mathbf N [x \\in \\mathbf R] \\\\\n",
        "x \\in \\mathbf N \\implies x \\in \\mathbf R \\\\"
      ],
      "metadata": {
        "id": "2gqcihGLotw3",
        "outputId": "e181dc89-05d3-4825-af6d-94d87fd75edc",
        "colab": {
          "base_uri": "https://localhost:8080/",
          "height": 105
        }
      },
      "execution_count": 3,
      "outputs": [
        {
          "output_type": "display_data",
          "data": {
            "text/plain": [
              "<IPython.core.display.Latex object>"
            ],
            "text/latex": "\\forall x \\in \\mathbf N, x \\in \\mathbf R \\\\\n\\forall x \\in \\mathbf N \\;\\;x \\in \\mathbf R \\\\\n\\forall x \\in \\mathbf N [x \\in \\mathbf R] \\\\\nx \\in \\mathbf N \\implies x \\in \\mathbf R \\\\"
          },
          "metadata": {}
        }
      ]
    },
    {
      "cell_type": "code",
      "source": [
        "%%latex\n",
        "\\implies \\\\\n",
        "\\Longrightarrow"
      ],
      "metadata": {
        "id": "rQdxW3QOoRep",
        "outputId": "a986bb29-0b7a-48f4-f8e6-540b9cdf1f21",
        "colab": {
          "base_uri": "https://localhost:8080/",
          "height": 58
        }
      },
      "execution_count": 1,
      "outputs": [
        {
          "output_type": "display_data",
          "data": {
            "text/plain": [
              "<IPython.core.display.Latex object>"
            ],
            "text/latex": "\\implies \\\\\n\\Longrightarrow"
          },
          "metadata": {}
        }
      ]
    },
    {
      "cell_type": "code",
      "source": [
        "%%latex\n",
        "p \\Longrightarrow q \\\\\n",
        "p \\Longrightarrow q \\quad \\Longleftrightarrow \\quad P \\subset Q \\\\\n",
        "p \\Longleftrightarrow q \\quad \\Longleftrightarrow \\quad P = Q \\\\\n",
        "p \\land q  \\quad \\Longleftrightarrow \\quad P \\cap Q \\\\\n",
        "p \\lor q  \\quad \\Longleftrightarrow \\quad P \\cup Q \\\\\n",
        "\\neg p \\quad \\Longleftrightarrow \\quad \\overline p\\\\\n",
        "\\overline {(p \\land q)} \\quad \\Longleftrightarrow \\quad \\overline {(p \\lor q)} \\\\"
      ],
      "metadata": {
        "id": "_a6M_m7GzGkF",
        "outputId": "1cc9303d-8744-435e-f201-b7fa3a9bd269",
        "colab": {
          "base_uri": "https://localhost:8080/",
          "height": 170
        }
      },
      "execution_count": 26,
      "outputs": [
        {
          "output_type": "display_data",
          "data": {
            "text/plain": [
              "<IPython.core.display.Latex object>"
            ],
            "text/latex": "p \\Longrightarrow q \\\\\np \\Longrightarrow q \\quad \\Longleftrightarrow \\quad P \\subset Q \\\\\np \\Longleftrightarrow q \\quad \\Longleftrightarrow \\quad P = Q \\\\\np \\land q  \\quad \\Longleftrightarrow \\quad P \\cap Q \\\\\np \\lor q  \\quad \\Longleftrightarrow \\quad P \\cup Q \\\\\n\\neg p \\quad \\Longleftrightarrow \\quad \\overline p\\\\\n\\overline {(p \\land q)} \\quad \\Longleftrightarrow \\quad \\overline {(p \\lor q)} \\\\"
          },
          "metadata": {}
        }
      ]
    },
    {
      "cell_type": "code",
      "source": [
        "# 命題とは p \\implies q \n",
        "# p ならば q と読む  p が仮定、q が結論\n",
        "# p は満たすが q は満たさない例 (反例) があると p \\implies q は偽\n",
        "# 命題と集合には対応関係がある\n",
        "# p \\implies q が真 \\Longleftrightarrow P \\subset Q\n",
        "# p \\Longleftrightarrow q が真 \\Longleftrightarrow P = Q\n",
        "# p \\land q \\quad P \\cap Q \\quad p,q が共に成り立つ\n",
        "# p \\lor q \\quad P \\cup Q \\quad p,q の少なくとも一方が成り立つ\n",
        "# \\neg p \\quad \\overline p \\quad p でない\n",
        "# \\overline {(p \\land q)}\n",
        "# \\overline {(p \\lor q)}"
      ],
      "metadata": {
        "id": "vr_jp7VToiWb"
      },
      "execution_count": null,
      "outputs": []
    },
    {
      "cell_type": "markdown",
      "metadata": {
        "id": "W39e48ZZzvMu"
      },
      "source": [
        "# 必要条件・十分条件、同値\n",
        "\n",
        "命題 $p \\Rightarrow q$ が真であるとき\n",
        "\n",
        "$q$ を $p$ (であるため) の必要条件 necessary condition と言う。\n",
        "\n",
        "$p$ を $q$ (であるため) の十分条件 sufficient condition と言う。\n",
        "\n",
        "命題 $p \\Longleftrightarrow q$ が真であるとき\n",
        "\n",
        "$p$ を $q$ (であるため) の必要十分条件と言う。このとき $p$ と $q$ は互いに同値であると言う。\n",
        "\n",
        "&nbsp;\n"
      ]
    },
    {
      "cell_type": "markdown",
      "metadata": {
        "id": "mZJvbmuk0m3y"
      },
      "source": [
        "基本例題 61 p.306 次の命題の真偽を調べる。\n",
        "\n",
        "1. $x=0 \\implies xy=0$ $\\quad$ True\n",
        "2. $x^2=9 \\implies x=3$ $\\quad$ False $\\quad$ 反例 $x = -3$\n",
        "3. $x \\neq 1 \\implies x \\geq 2$ $\\quad$ False 反例 $x = 0.1$\n",
        "4. $x+y \\gt 0 \\land xy \\gt 0 \\implies x \\gt 0 \\land y \\gt 0$ $\\quad$ True\n",
        "5. $x^2+y^2=0 \\implies x=y=0$ $\\quad$ True\n",
        "\n",
        "&nbsp;"
      ]
    },
    {
      "cell_type": "markdown",
      "metadata": {
        "id": "Af7Dzjsn4LeY"
      },
      "source": [
        "実数 $x,y$ に対して $x^2+y^2=0 \\Longleftrightarrow x=y=0$"
      ]
    },
    {
      "cell_type": "markdown",
      "metadata": {
        "id": "TfOvfOImls48"
      },
      "source": [
        "# いまここ\n",
        "\n",
        "高校数学はどうやら全称記号 $\\forall$ 、存在記号 $\\exists$ は使わないようである。 なので高校数学、チャート式の論理と集合で論理式を学ぶのは効果が少ない。\n",
        "\n",
        "一方、あまり精査せずにカンマをつかっている。 カンマを使う場合にはそれなりの説明が欲しいがあまりつっこんでいない。\n"
      ]
    }
  ]
}