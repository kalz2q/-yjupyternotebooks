{
  "nbformat": 4,
  "nbformat_minor": 0,
  "metadata": {
    "colab": {
      "name": "020magic.ipynb",
      "provenance": [],
      "authorship_tag": "ABX9TyPypjNw6q8bFLrdp9N0XXZi",
      "include_colab_link": true
    },
    "kernelspec": {
      "name": "python3",
      "display_name": "Python 3"
    }
  },
  "cells": [
    {
      "cell_type": "markdown",
      "metadata": {
        "id": "view-in-github",
        "colab_type": "text"
      },
      "source": [
        "<a href=\"https://colab.research.google.com/github/kalz2q/myjupyternotebooks/blob/master/020magic.ipynb\" target=\"_parent\"><img src=\"https://colab.research.google.com/assets/colab-badge.svg\" alt=\"Open In Colab\"/></a>"
      ]
    },
    {
      "cell_type": "markdown",
      "metadata": {
        "id": "Dbrjg1CrV_mS",
        "colab_type": "text"
      },
      "source": [
        "# はじめに\n",
        "`Colab`のノートブックのコードセルでは`Python`が使えるだけでなく、`magic`コマンドが使えるとのこと。`magic`コマンドはいろんなことができるみたいなので、`Colab`で実験しながら勉強する。\n",
        "\n",
        "読まれるかたもぜひ`Open in Colab`ボタンを押して、自分で実験しながら読んで欲しい。"
      ]
    },
    {
      "cell_type": "markdown",
      "metadata": {
        "id": "u2MyJU2b8VVS",
        "colab_type": "text"
      },
      "source": [
        "# %lsmagicと%lsmagic?\n",
        "`%lsmagic`でまずはどんなコマンドがあるか確認"
      ]
    },
    {
      "cell_type": "code",
      "metadata": {
        "id": "Y4LwCIzSV_O5",
        "colab_type": "code",
        "cellView": "code",
        "colab": {
          "base_uri": "https://localhost:8080/",
          "height": 156
        },
        "outputId": "f234fcbf-2144-4a39-89b7-c6ea604d65f7"
      },
      "source": [
        "# まずはどんなコマンドがあるか確認\n",
        "%lsmagic"
      ],
      "execution_count": null,
      "outputs": [
        {
          "output_type": "execute_result",
          "data": {
            "application/json": {
              "cell": {
                "prun": "ExecutionMagics",
                "file": "Other",
                "!": "OSMagics",
                "capture": "ExecutionMagics",
                "timeit": "ExecutionMagics",
                "script": "ScriptMagics",
                "pypy": "Other",
                "system": "OSMagics",
                "perl": "Other",
                "html": "DisplayMagics",
                "bash": "Other",
                "shell": "Other",
                "HTML": "Other",
                "python": "Other",
                "SVG": "Other",
                "javascript": "DisplayMagics",
                "bigquery": "Other",
                "js": "DisplayMagics",
                "writefile": "OSMagics",
                "ruby": "Other",
                "python3": "Other",
                "python2": "Other",
                "latex": "DisplayMagics",
                "sx": "OSMagics",
                "svg": "DisplayMagics",
                "sh": "Other",
                "time": "ExecutionMagics",
                "debug": "ExecutionMagics"
              },
              "line": {
                "psource": "NamespaceMagics",
                "logstart": "LoggingMagics",
                "popd": "OSMagics",
                "tensorflow_version": "Other",
                "loadpy": "CodeMagics",
                "colors": "BasicMagics",
                "who_ls": "NamespaceMagics",
                "lf": "Other",
                "ll": "Other",
                "pprint": "BasicMagics",
                "lk": "Other",
                "ls": "Other",
                "save": "CodeMagics",
                "tb": "ExecutionMagics",
                "lx": "Other",
                "pylab": "PylabMagics",
                "killbgscripts": "ScriptMagics",
                "quickref": "BasicMagics",
                "magic": "BasicMagics",
                "dhist": "OSMagics",
                "edit": "KernelMagics",
                "logstop": "LoggingMagics",
                "gui": "BasicMagics",
                "prun": "ExecutionMagics",
                "debug": "ExecutionMagics",
                "page": "BasicMagics",
                "logstate": "LoggingMagics",
                "ed": "Other",
                "pushd": "OSMagics",
                "timeit": "ExecutionMagics",
                "set_env": "OSMagics",
                "rehashx": "OSMagics",
                "hist": "Other",
                "qtconsole": "KernelMagics",
                "rm": "Other",
                "dirs": "OSMagics",
                "run": "ExecutionMagics",
                "reset_selective": "NamespaceMagics",
                "pinfo2": "NamespaceMagics",
                "matplotlib": "PylabMagics",
                "unload_ext": "ExtensionMagics",
                "doctest_mode": "BasicMagics",
                "logoff": "LoggingMagics",
                "reload_ext": "ExtensionMagics",
                "pdb": "ExecutionMagics",
                "load": "CodeMagics",
                "lsmagic": "BasicMagics",
                "autosave": "KernelMagics",
                "cd": "OSMagics",
                "pastebin": "CodeMagics",
                "alias_magic": "BasicMagics",
                "cp": "Other",
                "autocall": "AutoMagics",
                "ldir": "Other",
                "bookmark": "OSMagics",
                "connect_info": "KernelMagics",
                "mkdir": "Other",
                "system": "OSMagics",
                "whos": "NamespaceMagics",
                "rmdir": "Other",
                "automagic": "AutoMagics",
                "store": "StoreMagics",
                "more": "KernelMagics",
                "shell": "Other",
                "pdef": "NamespaceMagics",
                "precision": "BasicMagics",
                "pinfo": "NamespaceMagics",
                "pwd": "OSMagics",
                "psearch": "NamespaceMagics",
                "reset": "NamespaceMagics",
                "recall": "HistoryMagics",
                "xdel": "NamespaceMagics",
                "xmode": "BasicMagics",
                "cat": "Other",
                "mv": "Other",
                "rerun": "HistoryMagics",
                "logon": "LoggingMagics",
                "history": "HistoryMagics",
                "pycat": "OSMagics",
                "pip": "Other",
                "unalias": "OSMagics",
                "env": "OSMagics",
                "load_ext": "ExtensionMagics",
                "config": "ConfigMagics",
                "profile": "BasicMagics",
                "pfile": "NamespaceMagics",
                "less": "KernelMagics",
                "who": "NamespaceMagics",
                "notebook": "BasicMagics",
                "man": "KernelMagics",
                "sx": "OSMagics",
                "macro": "ExecutionMagics",
                "clear": "KernelMagics",
                "alias": "OSMagics",
                "time": "ExecutionMagics",
                "sc": "OSMagics",
                "rep": "Other",
                "pdoc": "NamespaceMagics"
              }
            },
            "text/plain": [
              "Available line magics:\n",
              "%alias  %alias_magic  %autocall  %automagic  %autosave  %bookmark  %cat  %cd  %clear  %colors  %config  %connect_info  %cp  %debug  %dhist  %dirs  %doctest_mode  %ed  %edit  %env  %gui  %hist  %history  %killbgscripts  %ldir  %less  %lf  %lk  %ll  %load  %load_ext  %loadpy  %logoff  %logon  %logstart  %logstate  %logstop  %ls  %lsmagic  %lx  %macro  %magic  %man  %matplotlib  %mkdir  %more  %mv  %notebook  %page  %pastebin  %pdb  %pdef  %pdoc  %pfile  %pinfo  %pinfo2  %pip  %popd  %pprint  %precision  %profile  %prun  %psearch  %psource  %pushd  %pwd  %pycat  %pylab  %qtconsole  %quickref  %recall  %rehashx  %reload_ext  %rep  %rerun  %reset  %reset_selective  %rm  %rmdir  %run  %save  %sc  %set_env  %shell  %store  %sx  %system  %tb  %tensorflow_version  %time  %timeit  %unalias  %unload_ext  %who  %who_ls  %whos  %xdel  %xmode\n",
              "\n",
              "Available cell magics:\n",
              "%%!  %%HTML  %%SVG  %%bash  %%bigquery  %%capture  %%debug  %%file  %%html  %%javascript  %%js  %%latex  %%perl  %%prun  %%pypy  %%python  %%python2  %%python3  %%ruby  %%script  %%sh  %%shell  %%svg  %%sx  %%system  %%time  %%timeit  %%writefile\n",
              "\n",
              "Automagic is ON, % prefix IS NOT needed for line magics."
            ]
          },
          "metadata": {
            "tags": []
          },
          "execution_count": 3
        }
      ]
    },
    {
      "cell_type": "markdown",
      "metadata": {
        "id": "oD3OsZS6YLmq",
        "colab_type": "text"
      },
      "source": [
        "アウトプットを見てみよう。\n",
        "\n",
        "ラインマジックは以下のとおり。`lsmagic`もラインマジックである。\n",
        "\n",
        "%alias  %alias_magic  %autocall  %automagic  %autosave  %bookmark  %cat  %cd  %clear  %colors  %config  %connect_info  %cp  %debug  %dhist  %dirs  %doctest_mode  %ed  %edit  %env  %gui  %hist  %history  %killbgscripts  %ldir  %less  %lf  %lk  %ll  %load  %load_ext  %loadpy  %logoff  %logon  %logstart  %logstate  %logstop  %ls  %lsmagic  %lx  %macro  %magic  %man  %matplotlib  %mkdir  %more  %mv  %notebook  %page  %pastebin  %pdb  %pdef  %pdoc  %pfile  %pinfo  %pinfo2  %pip  %popd  %pprint  %precision  %profile  %prun  %psearch  %psource  %pushd  %pwd  %pycat  %pylab  %qtconsole  %quickref  %recall  %rehashx  %reload_ext  %rep  %rerun  %reset  %reset_selective  %rm  %rmdir  %run  %save  %sc  %set_env  %shell  %store  %sx  %system  %tb  %tensorflow_version  %time  %timeit  %unalias  %unload_ext  %who  %who_ls  %whos  %xdel  %xmode\n",
        "\n",
        "セルマジックは以下のとおり。\n",
        "\n",
        "%%!  %%HTML  %%SVG  %%bash  %%bigquery  %%capture  %%debug  %%file  %%html  %%javascript  %%js  %%latex  %%perl  %%prun  %%pypy  %%python  %%python2  %%python3  %%ruby  %%script  %%sh  %%shell  %%svg  %%sx  %%system  %%time  %%timeit  %%writefile\n",
        "\n",
        "`automagic`がオンのときは、ラインマジックに`%`は必要ないが、ラインコマンド`automagic`はトグルスイッチで、実際には状態がわからないので、常に`%`をつける必要がある。\n",
        "\n",
        "マジックコマンドに`?`をつけることで簡単な説明が得られる。\n"
      ]
    },
    {
      "cell_type": "code",
      "metadata": {
        "id": "Qfq-lh8ED0x0",
        "colab_type": "code",
        "colab": {}
      },
      "source": [
        "%lsmagic?\n",
        "\n"
      ],
      "execution_count": 2,
      "outputs": []
    },
    {
      "cell_type": "markdown",
      "metadata": {
        "id": "UoTEvksh8Hkf",
        "colab_type": "text"
      },
      "source": [
        "`lsmagic`の説明\n",
        "\n",
        "Docstring: List currently available magic functions.\n",
        "\n",
        "ドックストリング: 現在使えるマジック関数をリストする。\n",
        "\n",
        "とのこと。"
      ]
    },
    {
      "cell_type": "markdown",
      "metadata": {
        "id": "9E26YEMd8rvq",
        "colab_type": "text"
      },
      "source": [
        "## %time\n",
        "Docstring:\n",
        "Time execution of a Python statement or expression.\n",
        "\n",
        "The CPU and wall clock times are printed, and the value of the\n",
        "expression (if any) is returned.  Note that under Win32, system time\n",
        "is always reported as 0, since it can not be measured.\n",
        "\n",
        "This function can be used both as a line and cell magic:\n",
        "\n",
        "- In line mode you can time a single-line statement (though multiple\n",
        "  ones can be chained with using semicolons).\n",
        "\n",
        "- In cell mode, you can time the cell body (a directly \n",
        "  following statement raises an error).\n",
        "\n",
        "This function provides very basic timing functionality.  Use the timeit \n",
        "magic for more control over the measurement.\n",
        "\n",
        "Examples\n",
        "--------\n",
        "::\n",
        "\n",
        "  In [1]: %time 2**128\n",
        "  CPU times: user 0.00 s, sys: 0.00 s, total: 0.00 s\n",
        "  Wall time: 0.00\n",
        "  Out[1]: 340282366920938463463374607431768211456L\n",
        "\n",
        "  In [2]: n = 1000000\n",
        "\n",
        "  In [3]: %time sum(range(n))\n",
        "  CPU times: user 1.20 s, sys: 0.05 s, total: 1.25 s\n",
        "  Wall time: 1.37\n",
        "  Out[3]: 499999500000L\n",
        "\n",
        "  In [4]: %time print 'hello world'\n",
        "  hello world\n",
        "  CPU times: user 0.00 s, sys: 0.00 s, total: 0.00 s\n",
        "  Wall time: 0.00\n",
        "\n",
        "  Note that the time needed by Python to compile the given expression\n",
        "  will be reported if it is more than 0.1s.  In this example, the\n",
        "  actual exponentiation is done by Python at compilation time, so while\n",
        "  the expression can take a noticeable amount of time to compute, that\n",
        "  time is purely due to the compilation:\n",
        "\n",
        "  In [5]: %time 3**9999;\n",
        "  CPU times: user 0.00 s, sys: 0.00 s, total: 0.00 s\n",
        "  Wall time: 0.00 s\n",
        "\n",
        "  In [6]: %time 3**999999;\n",
        "  CPU times: user 0.00 s, sys: 0.00 s, total: 0.00 s\n",
        "  Wall time: 0.00 s\n",
        "  Compiler : 0.78 s\n",
        "  \n",
        "File:      /usr/local/lib/python3.6/dist-packages/IPython/core/magics/execution.py"
      ]
    }
  ]
}