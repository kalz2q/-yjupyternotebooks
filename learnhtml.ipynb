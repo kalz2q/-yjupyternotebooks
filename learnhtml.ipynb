{
  "nbformat": 4,
  "nbformat_minor": 0,
  "metadata": {
    "colab": {
      "name": "learnhtml.ipynb",
      "provenance": [],
      "toc_visible": true,
      "authorship_tag": "ABX9TyMAQMVlQ8areO85Ja/dHpFG",
      "include_colab_link": true
    },
    "kernelspec": {
      "name": "python3",
      "display_name": "Python 3"
    }
  },
  "cells": [
    {
      "cell_type": "markdown",
      "metadata": {
        "id": "view-in-github",
        "colab_type": "text"
      },
      "source": [
        "<a href=\"https://colab.research.google.com/github/kalz2q/mycolabnotebooks/blob/master/learnhtml.ipynb\" target=\"_parent\"><img src=\"https://colab.research.google.com/assets/colab-badge.svg\" alt=\"Open In Colab\"/></a>"
      ]
    },
    {
      "cell_type": "markdown",
      "metadata": {
        "id": "s3ZtJizDOH-k"
      },
      "source": [
        "# メモ\n",
        "\n",
        "1. Colab で開かれることを想定している。\n",
        "1. セルマジックの %%html を使う。\n",
        "1. 実験しながら進むので、読む人もそうして欲しい。\n",
        "1. 参考サイト  \n",
        "https://developer.mozilla.org/ja/docs/Learn/HTML/Introduction_to_HTML/Getting_started  \n",
        "https://www.w3schools.com/html/  \n",
        "\n"
      ]
    },
    {
      "cell_type": "markdown",
      "metadata": {
        "id": "TEv8_GZXEGHM"
      },
      "source": [
        "# はじめに少し実験"
      ]
    },
    {
      "cell_type": "code",
      "metadata": {
        "id": "FTqgiVPevuHa",
        "colab": {
          "base_uri": "https://localhost:8080/",
          "height": 204
        },
        "outputId": "4438eb05-2afb-47f4-8fb4-16c4b7e2b372"
      },
      "source": [
        "# 改行の入り方の実験 => 行間、行の前後、に注意\n",
        "%%html\n",
        "<h1>見出し</h1>\n",
        "<p>段落</p>\n",
        "<div>一行</div>\n",
        "<div>二行</div>\n",
        "とか\n",
        "`br` もつかえるか</br>\n",
        "とか\n",
        "<div>はらほろひれはれ</div>\n",
        "地の文\n",
        "地の文2"
      ],
      "execution_count": null,
      "outputs": [
        {
          "output_type": "display_data",
          "data": {
            "text/html": [
              "<h1>見出し</h1>\n",
              "<p>段落</p>\n",
              "<div>一行</div>\n",
              "<div>二行</div>\n",
              "とか\n",
              "`br` もつかえるか</br>\n",
              "とか\n",
              "<div>はらほろひれはれ</div>\n",
              "地の文\n",
              "地の文2"
            ],
            "text/plain": [
              "<IPython.core.display.HTML object>"
            ]
          },
          "metadata": {
            "tags": []
          }
        }
      ]
    },
    {
      "cell_type": "code",
      "metadata": {
        "id": "NDAIwdYixTL_",
        "colab": {
          "base_uri": "https://localhost:8080/",
          "height": 169
        },
        "outputId": "d95cf88e-32a9-4470-cf9e-4534cfad8a01"
      },
      "source": [
        "# コメントの実験 <script></script> の中ではスラッシュのコメント記法も使える。%%html以下では # によるコメントが使えない\n",
        "%%html\n",
        "<!-- コメント -->\n",
        "<h1>見出し</h1>\n",
        "<p>段落</p>\n",
        "<div>一行</div>\n",
        "<div>二行</div>\n",
        "地の文\n",
        "<div>地の文</div>\n",
        "<script> \n",
        "<!-- コメント2 -->\n",
        "// コメント3\n",
        "/* コメント4 */\n",
        "</script>"
      ],
      "execution_count": null,
      "outputs": [
        {
          "output_type": "display_data",
          "data": {
            "text/html": [
              "<!-- コメント -->\n",
              "<h1>見出し</h1>\n",
              "<p>段落</p>\n",
              "<div>一行</div>\n",
              "<div>二行</div>\n",
              "地の文\n",
              "<div>地の文</div>\n",
              "<script> \n",
              "<!-- コメント2 -->\n",
              "// コメント3\n",
              "/* コメント4 */\n",
              "</script>"
            ],
            "text/plain": [
              "<IPython.core.display.HTML object>"
            ]
          },
          "metadata": {
            "tags": []
          }
        }
      ]
    },
    {
      "cell_type": "code",
      "metadata": {
        "id": "_eP4OcKZyn2K",
        "colab": {
          "base_uri": "https://localhost:8080/",
          "height": 169
        },
        "outputId": "7801d2d9-b4d3-473a-8b71-3c7173db8da0"
      },
      "source": [
        "# 実験 <style></style> が使える。中でコメントが使える。\n",
        "%%html\n",
        "<style>\n",
        "h1 {\n",
        "  color: blue;\n",
        "  // コメント\n",
        "  <!-- コメント2 -->\n",
        "}\n",
        "body {\n",
        "  color: brown;\n",
        "  font-family: Verdana, sams-serif;\n",
        "}\n",
        "</style>\n",
        "<h1>見出し</h1>\n",
        "<p>段落</p>\n",
        "<div>一行</div>\n",
        "<div>二行</div>\n",
        "地の文\n",
        "<div>地の文</div>"
      ],
      "execution_count": null,
      "outputs": [
        {
          "output_type": "display_data",
          "data": {
            "text/html": [
              "<style>\n",
              "h1 {\n",
              "  color: blue;\n",
              "  // コメント\n",
              "  <!-- コメント2 -->\n",
              "}\n",
              "body {\n",
              "  color: brown;\n",
              "  font-family: Verdana, sams-serif;\n",
              "}\n",
              "</style>\n",
              "<h1>見出し</h1>\n",
              "<p>段落</p>\n",
              "<div>一行</div>\n",
              "<div>二行</div>\n",
              "地の文\n",
              "<div>地の文</div>"
            ],
            "text/plain": [
              "<IPython.core.display.HTML object>"
            ]
          },
          "metadata": {
            "tags": []
          }
        }
      ]
    },
    {
      "cell_type": "markdown",
      "metadata": {
        "id": "Xrxy7wCQFo89"
      },
      "source": [
        "# CDN\n",
        "cdn(Content Delivery Network) を使うのはできないみたい。 できるのかもしれないが成功していない。 従って、cdn 経由で jquery、react、などは使えない。\n",
        "\n",
        "CDN だけでなく、`<title></title>` とか普通に `<head></head>` に入るものは使えない。\n",
        "\n",
        "`<html></html>` の中に書かれるものは全部使えると思う。 従って、この環境では css と html と javascrip が学べる、ということになる。\n"
      ]
    },
    {
      "cell_type": "markdown",
      "metadata": {
        "id": "i2DAWq1b1v9o"
      },
      "source": [
        "# リスト\n",
        "\n",
        "`ol` が 番号付きリスト ordered list、`ul` が 番号なしリスト unordered list かな。"
      ]
    },
    {
      "cell_type": "code",
      "metadata": {
        "id": "PY9NbE7q1ch1",
        "colab": {
          "base_uri": "https://localhost:8080/",
          "height": 176
        },
        "outputId": "162d4dac-9b86-412d-921e-778f8fd2fef3"
      },
      "source": [
        "# リストの実験\n",
        "%%html\n",
        "<ol>\n",
        "    <li>\n",
        "        一行目\n",
        "    </li>\n",
        "    <li>\n",
        "        二行目\n",
        "    </li>\n",
        "</ol>\n",
        "<ul>\n",
        "    <li>次</li>\n",
        "    <li>次の次</li>\n",
        "</ul>\n",
        "<ol>\n",
        "    <li>\n",
        "        一行目\n",
        "    </li>\n",
        "    <li>\n",
        "        二行目\n",
        "    </li>\n",
        "</ol>"
      ],
      "execution_count": null,
      "outputs": [
        {
          "output_type": "display_data",
          "data": {
            "text/html": [
              "<ol>\n",
              "    <li>\n",
              "        一行目\n",
              "    </li>\n",
              "    <li>\n",
              "        二行目\n",
              "    </li>\n",
              "</ol>\n",
              "<ul>\n",
              "    <li>次</li>\n",
              "    <li>次の次</li>\n",
              "</ul>\n",
              "<ol>\n",
              "    <li>\n",
              "        一行目\n",
              "    </li>\n",
              "    <li>\n",
              "        二行目\n",
              "    </li>\n",
              "</ol>"
            ],
            "text/plain": [
              "<IPython.core.display.HTML object>"
            ]
          },
          "metadata": {
            "tags": []
          }
        }
      ]
    },
    {
      "cell_type": "code",
      "metadata": {
        "id": "o3bLl_XF0pzW",
        "colab": {
          "base_uri": "https://localhost:8080/",
          "height": 64
        },
        "outputId": "c5f8dd5d-4e98-44c5-887f-185615aba57d"
      },
      "source": [
        "# 太文字\n",
        "%%html\n",
        "<p>My cat is <strong>very grumpy.</p>とか</strong>"
      ],
      "execution_count": null,
      "outputs": [
        {
          "output_type": "display_data",
          "data": {
            "text/html": [
              "<p>My cat is <strong>very grumpy.</p>とか</strong>"
            ],
            "text/plain": [
              "<IPython.core.display.HTML object>"
            ]
          },
          "metadata": {
            "tags": []
          }
        }
      ]
    },
    {
      "cell_type": "code",
      "metadata": {
        "id": "1fgxkKFL1Uyb",
        "colab": {
          "base_uri": "https://localhost:8080/",
          "height": 162
        },
        "outputId": "ae240c8f-944f-45a6-da41-664d4f26a689"
      },
      "source": [
        "# ブロック要素とインライン要素\n",
        "%%html\n",
        "<em>first</em><em>second</em><em>third</em>\n",
        "<p>fourth</p><p>fifth</p><p>sixth</p>\n",
        "<div>fourth</div><div>fifth</div><div>sixth</div>\n"
      ],
      "execution_count": null,
      "outputs": [
        {
          "output_type": "display_data",
          "data": {
            "text/html": [
              "<em>first</em><em>second</em><em>third</em>\n",
              "<p>fourth</p><p>fifth</p><p>sixth</p>\n",
              "<div>fourth</div><div>fifth</div><div>sixth</div>"
            ],
            "text/plain": [
              "<IPython.core.display.HTML object>"
            ]
          },
          "metadata": {
            "tags": []
          }
        }
      ]
    },
    {
      "cell_type": "code",
      "metadata": {
        "id": "eS5B0LXA2K4w",
        "colab": {
          "base_uri": "https://localhost:8080/",
          "height": 120
        },
        "outputId": "2c102454-ad6d-4b3c-c259-e77e2fbf3a9c"
      },
      "source": [
        "# 画像の挿入\n",
        "%%html\n",
        "<img src=\"https://raw.githubusercontent.com/mdn/beginner-html-site/gh-pages/images/firefox-icon.png\" width=\"100\">\n"
      ],
      "execution_count": null,
      "outputs": [
        {
          "output_type": "display_data",
          "data": {
            "text/html": [
              "<img src=\"https://raw.githubusercontent.com/mdn/beginner-html-site/gh-pages/images/firefox-icon.png\" width=\"100\">"
            ],
            "text/plain": [
              "<IPython.core.display.HTML object>"
            ]
          },
          "metadata": {
            "tags": []
          }
        }
      ]
    },
    {
      "cell_type": "code",
      "metadata": {
        "id": "qLdb4Wa025e4",
        "colab": {
          "base_uri": "https://localhost:8080/",
          "height": 46
        },
        "outputId": "1e135ff6-a027-4524-c6a4-91a8c8ee7400"
      },
      "source": [
        "# リンク <a> はハイパーリンク要素\n",
        "%%html\n",
        "<p>A link to my <a href=\"https://www.mozilla.org/\" title=\"The Mozilla homepage\" target=\"_blank\">favourite website</a>.</p>"
      ],
      "execution_count": null,
      "outputs": [
        {
          "output_type": "display_data",
          "data": {
            "text/html": [
              "<p>A link to my <a href=\"https://www.mozilla.org/\" title=\"The Mozilla homepage\" target=\"_blank\">favourite website</a>.</p>"
            ],
            "text/plain": [
              "<IPython.core.display.HTML object>"
            ]
          },
          "metadata": {
            "tags": []
          }
        }
      ]
    },
    {
      "cell_type": "markdown",
      "metadata": {
        "id": "7JUnTj-Z2KJg"
      },
      "source": [
        "# 属性 attribute\n",
        "1. 属性名と要素名の間に 1 つの半角スペース(その要素内にすでに 1 つ以上の属性が設定されている場合は、併せて各属性名の間)がある。\n",
        "1. 属性名とそれに続く等号 (=)がる。\n",
        "1. 属性値。始端から終端までをクォーテーションマーク (引用符) で囲む。"
      ]
    },
    {
      "cell_type": "code",
      "metadata": {
        "id": "w8YiD2aKSORV",
        "outputId": "48a2dc42-89db-4185-8877-48e3937aa71a",
        "colab": {
          "base_uri": "https://localhost:8080/",
          "height": 38
        }
      },
      "source": [
        "# 真偽値属性と略記法\n",
        "%%html\n",
        "<style>\n",
        "    :disabled {\n",
        "        background: #ddd;\n",
        "    }\n",
        "</style>\n",
        "<input type=\"text\" disabled value=\"not available\">\n",
        "<input type=\"text\" value=\"Enter something\" title=\"the\">"
      ],
      "execution_count": 19,
      "outputs": [
        {
          "output_type": "display_data",
          "data": {
            "text/html": [
              "<style>\n",
              "    :disabled {\n",
              "        background: #ddd;\n",
              "    }\n",
              "</style>\n",
              "<input type=\"text\" disabled value=\"not available\">\n",
              "<input type=\"text\" value=\"Enter something\" title=\"the borderland\">"
            ],
            "text/plain": [
              "<IPython.core.display.HTML object>"
            ]
          },
          "metadata": {
            "tags": []
          }
        }
      ]
    },
    {
      "cell_type": "code",
      "metadata": {
        "id": "NEx7f4DbcUd8"
      },
      "source": [
        "# 特殊文字\n",
        "%%script false\n",
        "<\t&lt;\n",
        ">\t&gt;\n",
        "\"\t&quot;\n",
        "'\t&apos;\n",
        "&\t&amp;"
      ],
      "execution_count": 21,
      "outputs": []
    },
    {
      "cell_type": "code",
      "metadata": {
        "id": "n4A0H7xgdISk",
        "outputId": "d882159b-2fbd-4fa0-824b-147b7ec686eb",
        "colab": {
          "base_uri": "https://localhost:8080/",
          "height": 149
        }
      },
      "source": [
        "# サンプル\n",
        "%%html\n",
        "<p>I really enjoy <strong>playing the drums</strong>. One of my favourite drummers is Neal Peart, who plays in the band\n",
        "    <a href=\"https://en.wikipedia.org/wiki/Rush_%28band%29\" title=\"Rush Wikipedia article\">Rush</a>. My favourite Rush\n",
        "    album is currently <a href=\"http://www.deezer.com/album/942295\">Moving Pictures</a>.\n",
        "</p> <img src=\"http://www.cygnus-x1.net/links/rush/images/albums/sectors/sector2-movingpictures-cover-s.jpg\"\n",
        "    width=\"100\">"
      ],
      "execution_count": 22,
      "outputs": [
        {
          "output_type": "display_data",
          "data": {
            "text/html": [
              "<p>I really enjoy <strong>playing the drums</strong>. One of my favourite drummers is Neal Peart, who plays in the band\n",
              "    <a href=\"https://en.wikipedia.org/wiki/Rush_%28band%29\" title=\"Rush Wikipedia article\">Rush</a>. My favourite Rush\n",
              "    album is currently <a href=\"http://www.deezer.com/album/942295\">Moving Pictures</a>.\n",
              "</p> <img src=\"http://www.cygnus-x1.net/links/rush/images/albums/sectors/sector2-movingpictures-cover-s.jpg\"\n",
              "    width=\"100\">"
            ],
            "text/plain": [
              "<IPython.core.display.HTML object>"
            ]
          },
          "metadata": {
            "tags": []
          }
        }
      ]
    },
    {
      "cell_type": "code",
      "metadata": {
        "id": "D390Kru0dfXd",
        "outputId": "f8249bd7-0246-4377-e0bf-5a221b530fc4",
        "colab": {
          "base_uri": "https://localhost:8080/",
          "height": 113
        }
      },
      "source": [
        "# <br> による改行\n",
        "%%html\n",
        "<p>彼は言いました。<br>\n",
        "    「私は日本人です。四季を好みます。」<br>\n",
        "    私は彼の発した突然の一言にはっと驚きました。</p>\n",
        "<div>&lt;div&gt;による改行</div>\n",
        "<div>と比べてみよう。</div>"
      ],
      "execution_count": 27,
      "outputs": [
        {
          "output_type": "display_data",
          "data": {
            "text/html": [
              "<p>彼は言いました。<br>\n",
              "    「私は日本人です。四季を好みます。」<br>\n",
              "    私は彼の発した突然の一言にはっと驚きました。</p>\n",
              "<div>&lt;div&gt;による改行</div>\n",
              "<div>と比べてみよう。</div>"
            ],
            "text/plain": [
              "<IPython.core.display.HTML object>"
            ]
          },
          "metadata": {
            "tags": []
          }
        }
      ]
    },
    {
      "cell_type": "markdown",
      "metadata": {
        "id": "P860rRYPrsYX"
      },
      "source": [
        "# mozilla の meta example の meta 部分\n",
        "colab 環境では意味がないが参考まで。"
      ]
    },
    {
      "cell_type": "code",
      "metadata": {
        "id": "MinEMpgL0tpo",
        "outputId": "5815deaf-350a-47ce-80e2-c7c4f529a3d3",
        "colab": {
          "base_uri": "https://localhost:8080/",
          "height": 99
        }
      },
      "source": [
        "%%html\n",
        "<!DOCTYPE html>\n",
        "<html lang=\"en-US\">\n",
        "  <head>\n",
        "    <meta charset=\"utf-8\">\n",
        "    <title>Meta examples</title>\n",
        "    \n",
        "    <meta name=\"author\" content=\"Chris Mills\">\n",
        "    <meta name=\"description\" content=\"This is an example page to demonstrate usage of metadata on web pages.\">\n",
        "\n",
        "    <meta property=\"og:image\" content=\"https://developer.cdn.mozilla.net/static/img/opengraph-logo.dc4e08e2f6af.png\">\n",
        "    <meta property=\"og:description\" content=\"This is an example page to demonstrate usage of metadata on web pages.\">\n",
        "    <meta property=\"og:title\" content=\"Metadata; The HTML &lt;head&gt;, on MDN\">\n",
        "\n",
        "    <link rel=\"Shortcut Icon\" href=\"favicon.ico\" type=\"image/x-icon\">\n",
        "  </head>\n",
        "  <body>\n",
        "    <h1>Meta examples</h1>\n",
        "\n",
        "    <p>Japanese example: ご飯が熱い。</p>\n",
        "  </body>\n",
        "</html>"
      ],
      "execution_count": 39,
      "outputs": [
        {
          "output_type": "display_data",
          "data": {
            "text/html": [
              "<!DOCTYPE html>\n",
              "<html lang=\"en-US\">\n",
              "  <head>\n",
              "    <meta charset=\"utf-8\">\n",
              "    <title>Meta examples</title>\n",
              "    \n",
              "    <meta name=\"author\" content=\"Chris Mills\">\n",
              "    <meta name=\"description\" content=\"This is an example page to demonstrate usage of metadata on web pages.\">\n",
              "\n",
              "    <meta property=\"og:image\" content=\"https://developer.cdn.mozilla.net/static/img/opengraph-logo.dc4e08e2f6af.png\">\n",
              "    <meta property=\"og:description\" content=\"This is an example page to demonstrate usage of metadata on web pages.\">\n",
              "    <meta property=\"og:title\" content=\"Metadata; The HTML &lt;head&gt;, on MDN\">\n",
              "\n",
              "    <link rel=\"Shortcut Icon\" href=\"favicon.ico\" type=\"image/x-icon\">\n",
              "  </head>\n",
              "  <body>\n",
              "    <h1>Meta examples</h1>\n",
              "\n",
              "    <p>Japanese example: ご飯が熱い。</p>\n",
              "  </body>\n",
              "</html>"
            ],
            "text/plain": [
              "<IPython.core.display.HTML object>"
            ]
          },
          "metadata": {
            "tags": []
          }
        }
      ]
    },
    {
      "cell_type": "markdown",
      "metadata": {
        "id": "LmlAqviX0_pN"
      },
      "source": [
        "# mozilla の meta example の残りの部分\n",
        "style と script を改造中。 まだ動かない。 ダメ。"
      ]
    },
    {
      "cell_type": "code",
      "metadata": {
        "cellView": "form",
        "id": "OWkLWcaoqzgK"
      },
      "source": [
        "#@title まだ動かないのでコードを隠す\n",
        "%%html\n",
        "<style>\n",
        "    body {\n",
        "        background-color: green;\n",
        "        font-size: 20px;\n",
        "    }\n",
        "\n",
        "    ul {\n",
        "        background: red;\n",
        "        padding: 10px;\n",
        "        border: 1px solid black;\n",
        "    }\n",
        "\n",
        "    li {\n",
        "        margin-left: 20px;\n",
        "    }\n",
        "</style>\n",
        "\n",
        "<body>\n",
        "    <h1>Todo List</h1>\n",
        "    <p>アイテムを入力してください</p>\n",
        "    <div class=\"form\">\n",
        "        <input type=\"text\"  placeholder=\"something to do\" class=\"todofield\" autofocus>\n",
        "        <input type=\"submit\"  class=\"submit\">\n",
        "    </div>\n",
        "</body>\n",
        "<script>\n",
        "    const list = document.createElement('ul');\n",
        "    const body = document.querySelector('body');\n",
        "    const submit = document.querySelector('.submit');\n",
        "\n",
        "    function addTodo() {\n",
        "        const listItem = document.createElement('li');\n",
        "        const listContent = item.value;\n",
        "        listItem.textContent = listContent;\n",
        "        list.appendChild(listItem);\n",
        "    }\n",
        "\n",
        "    submit.addEventListener('click', addTodo)\n",
        "\n",
        "    document.body.appendChild(list);\n",
        "\n",
        "\n",
        "    // body.onclick = function () {\n",
        "    //     const listItem = document.createElement('li');\n",
        "    //     const listContent = prompt('What content do you want the list item to have?');\n",
        "    //     listItem.textContent = listContent;\n",
        "    //     list.appendChild(listItem);\n",
        "\n",
        "    //     listItem.onclick = function (e) {\n",
        "    //         e.stopPropagation();\n",
        "    //         const listContent = prompt('Enter new content for your list item');\n",
        "    //         this.textContent = listContent;\n",
        "    //     }\n",
        "    // }\n",
        "</script>"
      ],
      "execution_count": null,
      "outputs": []
    },
    {
      "cell_type": "code",
      "metadata": {
        "id": "rqxmJwXc-RH7",
        "outputId": "0947f618-d4e7-4a88-e746-aa5d5f6a5fe7",
        "colab": {
          "base_uri": "https://localhost:8080/",
          "height": 58
        }
      },
      "source": [
        "# 実験 autofocus => colab 環境ではダメみたい\n",
        "%%html\n",
        "<form action=\"xxx.php\" method=\"post\">\n",
        "    <fieldset>\n",
        "        キーワード:\n",
        "        <input type=\"search\" name=\"q\" autofocus>\n",
        "            <input type=\"submit\" value=\"検索\">\n",
        "    </fieldset>\n",
        "</form>"
      ],
      "execution_count": 52,
      "outputs": [
        {
          "output_type": "display_data",
          "data": {
            "text/html": [
              "<form action=\"xxx.php\" method=\"post\">\n",
              "    <fieldset>\n",
              "        キーワード:\n",
              "        <input type=\"search\" name=\"q\" autofocus>\n",
              "            <input type=\"submit\" value=\"検索\">\n",
              "    </fieldset>\n",
              "</form>"
            ],
            "text/plain": [
              "<IPython.core.display.HTML object>"
            ]
          },
          "metadata": {
            "tags": []
          }
        }
      ]
    },
    {
      "cell_type": "markdown",
      "metadata": {
        "id": "ge2qQtNs_tsO"
      },
      "source": [
        "# フムスのレシピ\n",
        "コンテンツに構造を与える例。"
      ]
    },
    {
      "cell_type": "code",
      "metadata": {
        "id": "gWYyNS6__wl_",
        "outputId": "8fee2cdc-759f-4328-f151-1e645553528a",
        "colab": {
          "base_uri": "https://localhost:8080/",
          "height": 599
        }
      },
      "source": [
        "%%html\n",
        "\n",
        "<h1>Quick hummus recipe</h1>\n",
        "\n",
        "<p>This recipe makes quick, tasty hummus, with no messing. It has been adapted from a number of different recipes\n",
        "    that I have read over the years.</p>\n",
        "\n",
        "<p>hummus is a delicious thick paste used heavily in Greek and Middle Eastern dishes. It is very tasty with salad,\n",
        "    grilled meats and pitta breads.</p>\n",
        "\n",
        "<h2>Ingredients</h2>\n",
        "\n",
        "<ul>\n",
        "    <li>1 can (400g) of chick peas (garbanzo beans)</li>\n",
        "    <li>175g of tahini</li>\n",
        "    <li>6 sundried tomatoes</li>\n",
        "    <li>Half a red pepper</li>\n",
        "    <li>A pinch of cayenne pepper</li>\n",
        "    <li>1 clove of garlic</li>\n",
        "    <li>A dash of olive oil</li>\n",
        "</ul>\n",
        "\n",
        "<h2>Instructions</h2>\n",
        "\n",
        "<ol>\n",
        "    <li>Remove the skin from the garlic, and chop coarsely.</li>\n",
        "    <li>Remove all the seeds and stalk from the pepper, and chop coarsely.</li>\n",
        "    <li>Add all the ingredients into a food processor.</li>\n",
        "    <li>Process all the ingredients into a paste.</li>\n",
        "    <li>If you want a coarse \"chunky\" hummus, process it for a short time.</li>\n",
        "    <li>If you want a smooth hummus, process it for a longer time.</li>\n",
        "</ol>\n",
        "\n",
        "<p>For a different flavour, you could try blending in a small measure of lemon and coriander, chili pepper, lime and\n",
        "    chipotle, harissa and mint, or spinach and feta cheese. Experiment and see what works for you.</p>\n",
        "\n",
        "<h2>Storage</h2>\n",
        "\n",
        "<p>Refrigerate the finished hummus in a sealed container. You should be able to use it for about a week after you've\n",
        "    made it. If it starts to become fizzy, you should definitely discard it.</p>\n",
        "\n",
        "<p>hummus is suitable for freezing; you should thaw it and use it within a couple of months.</p>"
      ],
      "execution_count": 53,
      "outputs": [
        {
          "output_type": "display_data",
          "data": {
            "text/html": [
              "\n",
              "<h1>Quick hummus recipe</h1>\n",
              "\n",
              "<p>This recipe makes quick, tasty hummus, with no messing. It has been adapted from a number of different recipes\n",
              "    that I have read over the years.</p>\n",
              "\n",
              "<p>hummus is a delicious thick paste used heavily in Greek and Middle Eastern dishes. It is very tasty with salad,\n",
              "    grilled meats and pitta breads.</p>\n",
              "\n",
              "<h2>Ingredients</h2>\n",
              "\n",
              "<ul>\n",
              "    <li>1 can (400g) of chick peas (garbanzo beans)</li>\n",
              "    <li>175g of tahini</li>\n",
              "    <li>6 sundried tomatoes</li>\n",
              "    <li>Half a red pepper</li>\n",
              "    <li>A pinch of cayenne pepper</li>\n",
              "    <li>1 clove of garlic</li>\n",
              "    <li>A dash of olive oil</li>\n",
              "</ul>\n",
              "\n",
              "<h2>Instructions</h2>\n",
              "\n",
              "<ol>\n",
              "    <li>Remove the skin from the garlic, and chop coarsely.</li>\n",
              "    <li>Remove all the seeds and stalk from the pepper, and chop coarsely.</li>\n",
              "    <li>Add all the ingredients into a food processor.</li>\n",
              "    <li>Process all the ingredients into a paste.</li>\n",
              "    <li>If you want a coarse \"chunky\" hummus, process it for a short time.</li>\n",
              "    <li>If you want a smooth hummus, process it for a longer time.</li>\n",
              "</ol>\n",
              "\n",
              "<p>For a different flavour, you could try blending in a small measure of lemon and coriander, chili pepper, lime and\n",
              "    chipotle, harissa and mint, or spinach and feta cheese. Experiment and see what works for you.</p>\n",
              "\n",
              "<h2>Storage</h2>\n",
              "\n",
              "<p>Refrigerate the finished hummus in a sealed container. You should be able to use it for about a week after you've\n",
              "    made it. If it starts to become fizzy, you should definitely discard it.</p>\n",
              "\n",
              "<p>hummus is suitable for freezing; you should thaw it and use it within a couple of months.</p>"
            ],
            "text/plain": [
              "<IPython.core.display.HTML object>"
            ]
          },
          "metadata": {
            "tags": []
          }
        }
      ]
    },
    {
      "cell_type": "code",
      "metadata": {
        "id": "vlkQUS7qAUtr",
        "outputId": "d4a474f1-b985-4243-a472-e0f7649b8443",
        "colab": {
          "base_uri": "https://localhost:8080/",
          "height": 122
        }
      },
      "source": [
        "%%html\n",
        "<h1>My short story</h1>\n",
        "<p>I am a policewoman and my name is Trish.</p>\n",
        "<p>My legs are made of cardboard and I am married to a fish.</p>"
      ],
      "execution_count": 54,
      "outputs": [
        {
          "output_type": "display_data",
          "data": {
            "text/html": [
              "<h1>My short story</h1>\n",
              "<p>I am a policewoman and my name is Trish.</p>\n",
              "<p>My legs are made of cardboard and I am married to a fish.</p>"
            ],
            "text/plain": [
              "<IPython.core.display.HTML object>"
            ]
          },
          "metadata": {
            "tags": []
          }
        }
      ]
    },
    {
      "cell_type": "code",
      "metadata": {
        "id": "joL5tMXdA3U8",
        "outputId": "89fd9043-1e73-43f6-a924-1ef1d379e390",
        "colab": {
          "base_uri": "https://localhost:8080/",
          "height": 56
        }
      },
      "source": [
        "%%html\n",
        "<span style=\"font-size: 32px; margin: 21px 0;\">Is this a top level heading?</span>"
      ],
      "execution_count": 55,
      "outputs": [
        {
          "output_type": "display_data",
          "data": {
            "text/html": [
              "<span style=\"font-size: 32px; margin: 21px 0;\">Is this a top level heading?</span>"
            ],
            "text/plain": [
              "<IPython.core.display.HTML object>"
            ]
          },
          "metadata": {
            "tags": []
          }
        }
      ]
    },
    {
      "cell_type": "code",
      "metadata": {
        "id": "YRPgnqcuA6Rz",
        "outputId": "012aab07-3932-4bb7-a845-7712433774e7",
        "colab": {
          "base_uri": "https://localhost:8080/",
          "height": 151
        }
      },
      "source": [
        "%%html\n",
        "<style>\n",
        "    h1 {\n",
        "        color: red;\n",
        "    }\n",
        "\n",
        "    .fakeh1 {\n",
        "        font-size: 32px;\n",
        "        margin: 21px 0;\n",
        "    }\n",
        "</style>\n",
        "\n",
        "<body>\n",
        "    <h1>This is a real heading.</h1>\n",
        "    <p class=\"fakeh1\">Is thsi a top level heading?</p>\n",
        "</body>"
      ],
      "execution_count": 56,
      "outputs": [
        {
          "output_type": "display_data",
          "data": {
            "text/html": [
              "<style>\n",
              "    h1 {\n",
              "        color: red;\n",
              "    }\n",
              "\n",
              "    .fakeh1 {\n",
              "        font-size: 32px;\n",
              "        margin: 21px 0;\n",
              "    }\n",
              "</style>\n",
              "\n",
              "<body>\n",
              "    <h1>This is a real heading.</h1>\n",
              "    <p class=\"fakeh1\">Is thsi a top level heading?</p>\n",
              "</body>"
            ],
            "text/plain": [
              "<IPython.core.display.HTML object>"
            ]
          },
          "metadata": {
            "tags": []
          }
        }
      ]
    },
    {
      "cell_type": "markdown",
      "metadata": {
        "id": "YpTkIX7LCGzP"
      },
      "source": [
        "# 順序なし、順序ありリスト"
      ]
    },
    {
      "cell_type": "code",
      "metadata": {
        "id": "UaH_q0NhCMCZ",
        "outputId": "26c51645-0461-4d89-a6a7-687732788052",
        "colab": {
          "base_uri": "https://localhost:8080/",
          "height": 96
        }
      },
      "source": [
        "%%html\n",
        "<ul>\n",
        "    <li>milk</li>\n",
        "    <li>eggs</li>\n",
        "    <li>bread</li>\n",
        "    <li>hummus</li>\n",
        "</ul>"
      ],
      "execution_count": 57,
      "outputs": [
        {
          "output_type": "display_data",
          "data": {
            "text/html": [
              "<ul>\n",
              "    <li>milk</li>\n",
              "    <li>eggs</li>\n",
              "    <li>bread</li>\n",
              "    <li>hummus</li>\n",
              "</ul>"
            ],
            "text/plain": [
              "<IPython.core.display.HTML object>"
            ]
          },
          "metadata": {
            "tags": []
          }
        }
      ]
    },
    {
      "cell_type": "code",
      "metadata": {
        "id": "gG2b9KpJCtIj",
        "outputId": "afe9a438-0053-447a-894d-f9dffd6bf198",
        "colab": {
          "base_uri": "https://localhost:8080/",
          "height": 129
        }
      },
      "source": [
        "%%html\n",
        "<ol>\n",
        "    <li>Drive to the end of the road</li>\n",
        "    <li>Turn right</li>\n",
        "    <li>Go straight across the first two roundabouts</li>\n",
        "    <li>Turn left at the third roundabout</li>\n",
        "    <li>The school is on your right, 300 meters up the road</li>\n",
        "</ol>"
      ],
      "execution_count": 58,
      "outputs": [
        {
          "output_type": "display_data",
          "data": {
            "text/html": [
              "<ol>\n",
              "    <li>Drive to the end of the road</li>\n",
              "    <li>Turn right</li>\n",
              "    <li>Go straight across the first two roundabouts</li>\n",
              "    <li>Turn left at the third roundabout</li>\n",
              "    <li>The school is on your right, 300 meters up the road</li>\n",
              "</ol>"
            ],
            "text/plain": [
              "<IPython.core.display.HTML object>"
            ]
          },
          "metadata": {
            "tags": []
          }
        }
      ]
    },
    {
      "cell_type": "code",
      "metadata": {
        "id": "vgmlsErBC_9y",
        "outputId": "cdc9cd50-f16f-4c40-fb39-a276d99e8710",
        "colab": {
          "base_uri": "https://localhost:8080/",
          "height": 152
        }
      },
      "source": [
        "# 入れ子のリスト\n",
        "%%html\n",
        "<ol>\n",
        "    <li>Remove the skin from the garlic, and chop coarsely.</li>\n",
        "    <li>Remove all the seeds and stalk from the pepper, and chop coarsely.</li>\n",
        "    <li>Add all the ingredients into a food processor.</li>\n",
        "    <li>Process all the ingredients into a paste.\n",
        "        <ul>\n",
        "            <li>If you want a coarse \"chunky\" hummus, process it for a short time.</li>\n",
        "            <li>If you want a smooth hummus, process it for a longer time.</li>\n",
        "        </ul>\n",
        "    </li>\n",
        "</ol>"
      ],
      "execution_count": 59,
      "outputs": [
        {
          "output_type": "display_data",
          "data": {
            "text/html": [
              "<ol>\n",
              "    <li>Remove the skin from the garlic, and chop coarsely.</li>\n",
              "    <li>Remove all the seeds and stalk from the pepper, and chop coarsely.</li>\n",
              "    <li>Add all the ingredients into a food processor.</li>\n",
              "    <li>Process all the ingredients into a paste.\n",
              "        <ul>\n",
              "            <li>If you want a coarse \"chunky\" hummus, process it for a short time.</li>\n",
              "            <li>If you want a smooth hummus, process it for a longer time.</li>\n",
              "        </ul>\n",
              "    </li>\n",
              "</ol>"
            ],
            "text/plain": [
              "<IPython.core.display.HTML object>"
            ]
          },
          "metadata": {
            "tags": []
          }
        }
      ]
    },
    {
      "cell_type": "markdown",
      "metadata": {
        "id": "MO16mmDCDP0S"
      },
      "source": [
        "# 強調 太字にする\n",
        "標準で強調 strong と斜体 em があるが、少し文字を大きくして強調するのはどうするのだろうか。"
      ]
    },
    {
      "cell_type": "code",
      "metadata": {
        "id": "BRZPKuH0DUH7",
        "outputId": "5bcc2e36-8260-48db-c4bb-9586502e15d7",
        "colab": {
          "base_uri": "https://localhost:8080/",
          "height": 133
        }
      },
      "source": [
        "# 強調と斜体\n",
        "%%html\n",
        "<h1>Important notice</h1>\n",
        "<p>On <strong>Sunday January 9th 2010</strong>, a gang of <em>goths</em> were spotted stealing <strong><em>several</em>\n",
        "        garden gnomes</strong> from a shopping center in downtown <strong>Milwaukee</strong>. They were all wearing\n",
        "    <em>green jumpsuits</em> and <em>silly hats</em>, and seemed to be having a whale of a time. If anyone has\n",
        "    <strong>any</strong> information about this incident, please contact the police <strong>now</strong>.</p>"
      ],
      "execution_count": 60,
      "outputs": [
        {
          "output_type": "display_data",
          "data": {
            "text/html": [
              "<h1>Important notice</h1>\n",
              "<p>On <strong>Sunday January 9th 2010</strong>, a gang of <em>goths</em> were spotted stealing <strong><em>several</em>\n",
              "        garden gnomes</strong> from a shopping center in downtown <strong>Milwaukee</strong>. They were all wearing\n",
              "    <em>green jumpsuits</em> and <em>silly hats</em>, and seemed to be having a whale of a time. If anyone has\n",
              "    <strong>any</strong> information about this incident, please contact the police <strong>now</strong>.</p>"
            ],
            "text/plain": [
              "<IPython.core.display.HTML object>"
            ]
          },
          "metadata": {
            "tags": []
          }
        }
      ]
    },
    {
      "cell_type": "code",
      "metadata": {
        "id": "AbeSWjo5EN4z",
        "outputId": "15e5a4ab-b00f-4c9c-a165-ec6b3ab62e8d",
        "colab": {
          "base_uri": "https://localhost:8080/",
          "height": 159
        }
      },
      "source": [
        "# 強調と斜体\n",
        "%%html\n",
        "<h1>Important notice</h1>\n",
        "<p>On <span style=\"font-size: 150%\">Sunday January 9th 2010</span>, a gang of <em>goths</em> were spotted stealing <span style=\"font-size: 150%\"><em>several</em>\n",
        "        garden gnomes</span> from a shopping center in downtown <span style=\"font-size: 150%\">Milwaukee</span>. They were all wearing\n",
        "    <em>green jumpsuits</em> and <em>silly hats</em>, and seemed to be having a whale of a time. If anyone has\n",
        "    <span style=\"font-size: 150%\">any</span> information about this incident, please contact the police <span style=\"font-size: 150%\">now</span>.</p>"
      ],
      "execution_count": 62,
      "outputs": [
        {
          "output_type": "display_data",
          "data": {
            "text/html": [
              "<h1>Important notice</h1>\n",
              "<p>On <span style=\"font-size: 150%\">Sunday January 9th 2010</span>, a gang of <em>goths</em> were spotted stealing <span style=\"font-size: 150%\"><em>several</em>\n",
              "        garden gnomes</span> from a shopping center in downtown <span style=\"font-size: 150%\">Milwaukee</span>. They were all wearing\n",
              "    <em>green jumpsuits</em> and <em>silly hats</em>, and seemed to be having a whale of a time. If anyone has\n",
              "    <span style=\"font-size: 150%\">any</span> information about this incident, please contact the police <span style=\"font-size: 150%\">now</span>.</p>"
            ],
            "text/plain": [
              "<IPython.core.display.HTML object>"
            ]
          },
          "metadata": {
            "tags": []
          }
        }
      ]
    },
    {
      "cell_type": "code",
      "metadata": {
        "id": "u9kn6_oPFnlb",
        "outputId": "511352e6-9a0e-4dfc-d491-dba2021b6fa3",
        "colab": {
          "base_uri": "https://localhost:8080/",
          "height": 147
        }
      },
      "source": [
        "# 参考 html5 の要素\n",
        "%%html\n",
        "<!-- scientific names -->\n",
        "<p>\n",
        "  The Ruby-throated Hummingbird (<i>Archilochus colubris</i>)\n",
        "  is the most common hummingbird in Eastern North America.\n",
        "</p>\n",
        "\n",
        "<!-- foreign words -->\n",
        "<p>\n",
        "  The menu was a sea of exotic words like <i lang=\"uk-latn\">vatrushka</i>,\n",
        "  <i lang=\"id\">nasi goreng</i> and <i lang=\"fr\">soupe à l'oignon</i>.\n",
        "</p>\n",
        "\n",
        "<!-- a known misspelling -->\n",
        "<p>\n",
        "  Someday I'll learn how to <u style=\"text-decoration-line: underline; text-decoration-style: wavy;\">spel</u> better.\n",
        "</p>\n",
        "\n",
        "<!-- Highlight keywords in a set of instructions -->\n",
        "<ol>\n",
        "  <li>\n",
        "    <b>Slice</b> two pieces of bread off the loaf.\n",
        "  </li>\n",
        "  <li>\n",
        "    <b>Insert</b> a tomato slice and a leaf of\n",
        "    lettuce between the slices of bread.\n",
        "  </li>\n",
        "</ol>"
      ],
      "execution_count": 63,
      "outputs": [
        {
          "output_type": "display_data",
          "data": {
            "text/html": [
              "<!-- scientific names -->\n",
              "<p>\n",
              "  The Ruby-throated Hummingbird (<i>Archilochus colubris</i>)\n",
              "  is the most common hummingbird in Eastern North America.\n",
              "</p>\n",
              "\n",
              "<!-- foreign words -->\n",
              "<p>\n",
              "  The menu was a sea of exotic words like <i lang=\"uk-latn\">vatrushka</i>,\n",
              "  <i lang=\"id\">nasi goreng</i> and <i lang=\"fr\">soupe à l'oignon</i>.\n",
              "</p>\n",
              "\n",
              "<!-- a known misspelling -->\n",
              "<p>\n",
              "  Someday I'll learn how to <u style=\"text-decoration-line: underline; text-decoration-style: wavy;\">spel</u> better.\n",
              "</p>\n",
              "\n",
              "<!-- Highlight keywords in a set of instructions -->\n",
              "<ol>\n",
              "  <li>\n",
              "    <b>Slice</b> two pieces of bread off the loaf.\n",
              "  </li>\n",
              "  <li>\n",
              "    <b>Insert</b> a tomato slice and a leaf of\n",
              "    lettuce between the slices of bread.\n",
              "  </li>\n",
              "</ol>"
            ],
            "text/plain": [
              "<IPython.core.display.HTML object>"
            ]
          },
          "metadata": {
            "tags": []
          }
        }
      ]
    },
    {
      "cell_type": "markdown",
      "metadata": {
        "id": "utLqzd4xGBiH"
      },
      "source": [
        "# ハイパーリンク\n",
        "\n",
        "https://developer.mozilla.org/ja/docs/Learn/HTML/Introduction_to_HTML/Creating_hyperlinks"
      ]
    },
    {
      "cell_type": "markdown",
      "metadata": {
        "id": "HnjmYyblHAX_"
      },
      "source": [
        "# いまここ"
      ]
    }
  ]
}