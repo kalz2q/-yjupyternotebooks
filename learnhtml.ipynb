{
  "nbformat": 4,
  "nbformat_minor": 0,
  "metadata": {
    "colab": {
      "name": "learnhtml.ipynb",
      "provenance": [],
      "toc_visible": true,
      "authorship_tag": "ABX9TyPtob2sXvJFrb9TkSsGuUCz",
      "include_colab_link": true
    },
    "kernelspec": {
      "name": "python3",
      "display_name": "Python 3"
    }
  },
  "cells": [
    {
      "cell_type": "markdown",
      "metadata": {
        "id": "view-in-github",
        "colab_type": "text"
      },
      "source": [
        "<a href=\"https://colab.research.google.com/github/kalz2q/mycolabnotebooks/blob/master/learnhtml.ipynb\" target=\"_parent\"><img src=\"https://colab.research.google.com/assets/colab-badge.svg\" alt=\"Open In Colab\"/></a>"
      ]
    },
    {
      "cell_type": "markdown",
      "metadata": {
        "id": "s3ZtJizDOH-k"
      },
      "source": [
        "# メモ\n",
        "\n",
        "1. Colab で開かれることを想定している。\n",
        "1. セルマジックの %%html を使う。\n",
        "1. 実験しながら進むので、読む人もそうして欲しい。\n",
        "1. 参考サイト  \n",
        "https://developer.mozilla.org/ja/docs/Learn/HTML/Introduction_to_HTML/Getting_started  \n",
        "https://www.w3schools.com/html/  \n",
        "\n"
      ]
    },
    {
      "cell_type": "markdown",
      "metadata": {
        "id": "TEv8_GZXEGHM"
      },
      "source": [
        "# はじめに少し実験"
      ]
    },
    {
      "cell_type": "code",
      "metadata": {
        "id": "FTqgiVPevuHa",
        "colab": {
          "base_uri": "https://localhost:8080/",
          "height": 204
        },
        "outputId": "b9276daa-29fb-40b0-da7e-52366ad4e919"
      },
      "source": [
        "# 改行の入り方の実験 => 行間、行の前後、に注意\n",
        "# %%html に突然文字を書いても出力する。\n",
        "# 全体を括っている<html></html><body></body><div></div>が省略されている。\n",
        "\n",
        "%%html\n",
        "<h1>見出し</h1>\n",
        "<p>段落</p>\n",
        "<div>一行</div>\n",
        "<div>二行</div>\n",
        "とか\n",
        "`br` もつかえるか<br>\n",
        "とか\n",
        "<div>はらほろひれはれ</div>\n",
        "地の文\n",
        "地の文2"
      ],
      "execution_count": null,
      "outputs": [
        {
          "output_type": "display_data",
          "data": {
            "text/html": [
              "<h1>見出し</h1>\n",
              "<p>段落</p>\n",
              "<div>一行</div>\n",
              "<div>二行</div>\n",
              "とか\n",
              "`br` もつかえるか<br>\n",
              "とか\n",
              "<div>はらほろひれはれ</div>\n",
              "地の文\n",
              "地の文2"
            ],
            "text/plain": [
              "<IPython.core.display.HTML object>"
            ]
          },
          "metadata": {
            "tags": []
          }
        }
      ]
    },
    {
      "cell_type": "code",
      "metadata": {
        "id": "NDAIwdYixTL_",
        "colab": {
          "base_uri": "https://localhost:8080/",
          "height": 187
        },
        "outputId": "f76ba5d6-1d48-4caf-9e29-7acff76d17b3"
      },
      "source": [
        "# コメントの実験 \n",
        "# %%html配下では # によるコメントが使えない。\n",
        "# <script></script> の中ではスラッシュのコメント記法 //, /* */ が使える。\n",
        "# <style></style>の中では /* */ しか使えない\n",
        "%%html\n",
        "<!-- コメント -->\n",
        "<h1>見出し</h1>\n",
        "<p>段落</p>\n",
        "<div>一行</div>\n",
        "<div>二行</div>\n",
        "地の文\n",
        "<div>地の文</div>\n",
        "# これはコメントにならない\n",
        "<script> \n",
        "<!-- script配下でこれはコメントになるが使わない -->\n",
        "# script配下でこれはコメントになるが使わない\n",
        "// コメント3\n",
        "/* コメント4 */\n",
        "</script>"
      ],
      "execution_count": null,
      "outputs": [
        {
          "output_type": "display_data",
          "data": {
            "text/html": [
              "<!-- コメント -->\n",
              "<h1>見出し</h1>\n",
              "<p>段落</p>\n",
              "<div>一行</div>\n",
              "<div>二行</div>\n",
              "地の文\n",
              "<div>地の文</div>\n",
              "# これはコメントにならない\n",
              "<script> \n",
              "<!-- script配下でこれはコメントになるが使わない -->\n",
              "# script配下でこれはコメントになるが使わない\n",
              "// コメント3\n",
              "/* コメント4 */\n",
              "</script>"
            ],
            "text/plain": [
              "<IPython.core.display.HTML object>"
            ]
          },
          "metadata": {
            "tags": []
          }
        }
      ]
    },
    {
      "cell_type": "code",
      "metadata": {
        "id": "_eP4OcKZyn2K",
        "colab": {
          "base_uri": "https://localhost:8080/",
          "height": 169
        },
        "outputId": "11fa20d9-2d08-4005-9a99-50786d4441b2"
      },
      "source": [
        "# 実験 <style></style> が使える。中でコメントが使える。\n",
        "# <style></style>の中では /* */ しか使えない\n",
        "%%html\n",
        "<style>\n",
        "    h1 {\n",
        "        color: blue;\n",
        "        /* CSSのコメント */\n",
        "    }\n",
        "\n",
        "    div {\n",
        "        color: brown;\n",
        "        /* div で囲んでいない地の文にも反映されている */\n",
        "        font-family: Verdana, sams-serif;\n",
        "    }\n",
        "</style>\n",
        "\n",
        "<h1>見出し</h1>\n",
        "<p>段落</p>\n",
        "<div>一行</div>\n",
        "<div>二行</div>\n",
        "地の文\n",
        "<div>地の文</div>"
      ],
      "execution_count": null,
      "outputs": [
        {
          "output_type": "display_data",
          "data": {
            "text/html": [
              "<style>\n",
              "    h1 {\n",
              "        color: blue;\n",
              "        /* CSSのコメント */\n",
              "    }\n",
              "\n",
              "    div {\n",
              "        color: brown;\n",
              "        font-family: Verdana, sams-serif;\n",
              "    }\n",
              "</style>\n",
              "\n",
              "<h1>見出し</h1>\n",
              "<p>段落</p>\n",
              "<div>一行</div>\n",
              "<div>二行</div>\n",
              "地の文\n",
              "<div>地の文</div>"
            ],
            "text/plain": [
              "<IPython.core.display.HTML object>"
            ]
          },
          "metadata": {
            "tags": []
          }
        }
      ]
    },
    {
      "cell_type": "markdown",
      "metadata": {
        "id": "CucQPTftzuC3"
      },
      "source": [
        "# HTML要素とは\r\n",
        "`<h1></h1>`とか`<p></p>`のことで、文章を構造化する。"
      ]
    },
    {
      "cell_type": "markdown",
      "metadata": {
        "id": "Xrxy7wCQFo89"
      },
      "source": [
        "# CDN\n",
        "cdn(Content Delivery Network) を使うのはできない。 できるのかもしれないが成功していない。 従って、cdn 経由で jquery、react、などは使えない。\n",
        "\n",
        "CDN だけでなく、`<title></title>` とか普通に `<head></head>` に入るものは使えない。\n",
        "\n",
        "`<html></html>` の中に書かれるものは全部使える。 従って、この環境では css と html と javascrip が学べる、ということになる。\n"
      ]
    },
    {
      "cell_type": "markdown",
      "metadata": {
        "id": "i2DAWq1b1v9o"
      },
      "source": [
        "# リスト\n",
        "\n",
        "`ol` が 番号付きリスト ordered list、`ul` が 番号なしリスト unordered list。"
      ]
    },
    {
      "cell_type": "code",
      "metadata": {
        "id": "PY9NbE7q1ch1",
        "colab": {
          "base_uri": "https://localhost:8080/",
          "height": 177
        },
        "outputId": "d80ff54c-2bb3-4e40-f220-79665a7663f0"
      },
      "source": [
        "# リストの実験\n",
        "%%html\n",
        "<ol>\n",
        "    <li>\n",
        "        一行目\n",
        "    </li>\n",
        "    <li>\n",
        "        二行目\n",
        "    </li>\n",
        "</ol>\n",
        "<ul>\n",
        "    <li>次</li>\n",
        "    <li>次の次</li>\n",
        "</ul>\n",
        "<ol>\n",
        "    <li>\n",
        "        一行目\n",
        "    </li>\n",
        "    <li>\n",
        "        二行目\n",
        "    </li>\n",
        "</ol>"
      ],
      "execution_count": null,
      "outputs": [
        {
          "output_type": "display_data",
          "data": {
            "text/html": [
              "<ol>\n",
              "    <li>\n",
              "        一行目\n",
              "    </li>\n",
              "    <li>\n",
              "        二行目\n",
              "    </li>\n",
              "</ol>\n",
              "<ul>\n",
              "    <li>次</li>\n",
              "    <li>次の次</li>\n",
              "</ul>\n",
              "<ol>\n",
              "    <li>\n",
              "        一行目\n",
              "    </li>\n",
              "    <li>\n",
              "        二行目\n",
              "    </li>\n",
              "</ol>"
            ],
            "text/plain": [
              "<IPython.core.display.HTML object>"
            ]
          },
          "metadata": {
            "tags": []
          }
        }
      ]
    },
    {
      "cell_type": "code",
      "metadata": {
        "id": "o3bLl_XF0pzW",
        "colab": {
          "base_uri": "https://localhost:8080/",
          "height": 64
        },
        "outputId": "421d75aa-1a53-417f-d6b9-fbb0f054eb13"
      },
      "source": [
        "# 太文字 間違った入れ子\n",
        "# 要素の範囲が間違っていても可能な限り対応して出力される。\n",
        "%%html\n",
        "<p>My cat is <strong>very grumpy.</p>とか</strong>"
      ],
      "execution_count": null,
      "outputs": [
        {
          "output_type": "display_data",
          "data": {
            "text/html": [
              "<p>My cat is <strong>very grumpy.</p>とか</strong>"
            ],
            "text/plain": [
              "<IPython.core.display.HTML object>"
            ]
          },
          "metadata": {
            "tags": []
          }
        }
      ]
    },
    {
      "cell_type": "code",
      "metadata": {
        "id": "1fgxkKFL1Uyb",
        "colab": {
          "base_uri": "https://localhost:8080/",
          "height": 163
        },
        "outputId": "935951e7-b676-4cb2-91cf-0829198d3457"
      },
      "source": [
        "# ブロック要素とインライン要素\n",
        "%%html\n",
        "<em>first</em><em>second</em><em>third</em> <!-- インライン要素 -->\n",
        "<p>fourth</p><p>fifth</p><p>sixth</p> <!-- ブロック要素 -->\n",
        "<div>fourth</div><div>fifth</div><div>sixth</div> <!-- ブロック要素 -->\n"
      ],
      "execution_count": null,
      "outputs": [
        {
          "output_type": "display_data",
          "data": {
            "text/html": [
              "<em>first</em><em>second</em><em>third</em> <!-- インライン要素 -->\n",
              "<p>fourth</p><p>fifth</p><p>sixth</p> <!-- ブロック要素 -->\n",
              "<div>fourth</div><div>fifth</div><div>sixth</div> <!-- ブロック要素 -->"
            ],
            "text/plain": [
              "<IPython.core.display.HTML object>"
            ]
          },
          "metadata": {
            "tags": []
          }
        }
      ]
    },
    {
      "cell_type": "code",
      "metadata": {
        "id": "eS5B0LXA2K4w",
        "colab": {
          "base_uri": "https://localhost:8080/",
          "height": 121
        },
        "outputId": "d2476b94-36fe-4499-c14e-ae9a64889599"
      },
      "source": [
        "# 画像の挿入 img\n",
        "%%html\n",
        "<img src=\"https://raw.githubusercontent.com/mdn/beginner-html-site/gh-pages/images/firefox-icon.png\" width=\"100\">\n"
      ],
      "execution_count": 2,
      "outputs": [
        {
          "output_type": "display_data",
          "data": {
            "text/html": [
              "<img src=\"https://raw.githubusercontent.com/mdn/beginner-html-site/gh-pages/images/firefox-icon.png\" width=\"100\">"
            ],
            "text/plain": [
              "<IPython.core.display.HTML object>"
            ]
          },
          "metadata": {
            "tags": []
          }
        }
      ]
    },
    {
      "cell_type": "code",
      "metadata": {
        "id": "fw6us2dwSGnM",
        "outputId": "5e79a861-8300-449f-e5d3-4438269d1c11",
        "colab": {
          "base_uri": "https://localhost:8080/",
          "height": 121
        }
      },
      "source": [
        "# 画像の挿入 SVG\r\n",
        "%%html\r\n",
        "<svg width=\"100\" height=\"100\" >  <circle cx=\"50\" cy=\"50\" r=\"40\" stroke=\"grey\"\" stroke-width=\"4\" fill=\"lightsalmon\" />  <circle cx=\"30\" cy=\"45\" r=\"10\" stroke=\"white\" stroke-width=\"4\" fill=\"black\" />  <circle cx=\"70\" cy=\"45\" r=\"10\" stroke=\"white\" stroke-width=\"4\" fill=\"black\" />  <circle cx=\"50\" cy=\"70\" r=\"10\" stroke=\"white\" stroke-width=\"1\" fill=\"red\" /></svg>"
      ],
      "execution_count": 1,
      "outputs": [
        {
          "output_type": "display_data",
          "data": {
            "text/html": [
              "<svg width=\"100\" height=\"100\" >  <circle cx=\"50\" cy=\"50\" r=\"40\" stroke=\"grey\"\" stroke-width=\"4\" fill=\"lightsalmon\" />  <circle cx=\"30\" cy=\"45\" r=\"10\" stroke=\"white\" stroke-width=\"4\" fill=\"black\" />  <circle cx=\"70\" cy=\"45\" r=\"10\" stroke=\"white\" stroke-width=\"4\" fill=\"black\" />  <circle cx=\"50\" cy=\"70\" r=\"10\" stroke=\"white\" stroke-width=\"1\" fill=\"red\" /></svg>"
            ],
            "text/plain": [
              "<IPython.core.display.HTML object>"
            ]
          },
          "metadata": {
            "tags": []
          }
        }
      ]
    },
    {
      "cell_type": "code",
      "metadata": {
        "id": "qLdb4Wa025e4",
        "colab": {
          "base_uri": "https://localhost:8080/",
          "height": 47
        },
        "outputId": "396b7105-73fa-4b52-c793-c69dffb96abc"
      },
      "source": [
        "# リンク <a> はハイパーリンク要素\n",
        "%%html\n",
        "<p>A link to my <a href=\"https://www.mozilla.org/\" title=\"The Mozilla homepage\" target=\"_blank\">favourite website</a>.</p>"
      ],
      "execution_count": null,
      "outputs": [
        {
          "output_type": "display_data",
          "data": {
            "text/html": [
              "<p>A link to my <a href=\"https://www.mozilla.org/\" title=\"The Mozilla homepage\" target=\"_blank\">favourite website</a>.</p>"
            ],
            "text/plain": [
              "<IPython.core.display.HTML object>"
            ]
          },
          "metadata": {
            "tags": []
          }
        }
      ]
    },
    {
      "cell_type": "markdown",
      "metadata": {
        "id": "7JUnTj-Z2KJg"
      },
      "source": [
        "# 属性 attribute\n",
        "1. 要素名と属性名の間に 1 つの半角スペースがある。\n",
        "1. 属性名とそれに続く等号 (=) がある。\n",
        "1. 属性値。始端から終端までをクォーテーションマーク (引用符) で囲む。"
      ]
    },
    {
      "cell_type": "code",
      "metadata": {
        "id": "w8YiD2aKSORV",
        "colab": {
          "base_uri": "https://localhost:8080/",
          "height": 37
        },
        "outputId": "3e1c46cc-566d-4165-dcd0-755e849c78b6"
      },
      "source": [
        "# 真偽値属性と略記法 disabled みたいなやつ\n",
        "%%html\n",
        "<style>\n",
        "    :disabled {\n",
        "        background: #ddd;\n",
        "    }\n",
        "</style>\n",
        "\n",
        "<input type=\"text\" disabled value=\"not available\">\n",
        "<input type=\"text\" value=\"Enter something\" title=\"the\">"
      ],
      "execution_count": null,
      "outputs": [
        {
          "output_type": "display_data",
          "data": {
            "text/html": [
              "<style>\n",
              "    :disabled {\n",
              "        background: #ddd;\n",
              "    }\n",
              "</style>\n",
              "\n",
              "<input type=\"text\" disabled value=\"not available\">\n",
              "<input type=\"text\" value=\"Enter something\" title=\"the\">"
            ],
            "text/plain": [
              "<IPython.core.display.HTML object>"
            ]
          },
          "metadata": {
            "tags": []
          }
        }
      ]
    },
    {
      "cell_type": "code",
      "metadata": {
        "id": "NEx7f4DbcUd8"
      },
      "source": [
        "# 特殊文字\n",
        "%%script false\n",
        "<\t&lt;\n",
        ">\t&gt;\n",
        "\"\t&quot;\n",
        "'\t&apos;\n",
        "&\t&amp;\n",
        "–   &ndash;\n",
        "—  &mdash;"
      ],
      "execution_count": null,
      "outputs": []
    },
    {
      "cell_type": "code",
      "metadata": {
        "id": "n4A0H7xgdISk",
        "colab": {
          "base_uri": "https://localhost:8080/",
          "height": 169
        },
        "outputId": "4a11ff52-602f-4b74-b3a7-d930c722db4d"
      },
      "source": [
        "# サンプル\n",
        "%%html\n",
        "<p>I really enjoy <strong>playing the drums</strong>. \n",
        "    One of my favourite drummers is Neal Peart, \n",
        "    who plays in the band\n",
        "    <a href=\"https://en.wikipedia.org/wiki/Rush_%28band%29\" \n",
        "        title=\"Rush Wikipedia article\">Rush\n",
        "    </a>. \n",
        "    My favourite Rush album is currently \n",
        "    <a href=\"http://www.deezer.com/album/942295\">\n",
        "        Moving Pictures]\n",
        "    </a>.\n",
        "</p> \n",
        "<img src=\"http://www.cygnus-x1.net\n",
        "/links/rush/images/albums/sectors/sector2-movingpictures-cover-s.jpg\"\n",
        "width=\"100\">"
      ],
      "execution_count": null,
      "outputs": [
        {
          "output_type": "display_data",
          "data": {
            "text/html": [
              "<p>I really enjoy <strong>playing the drums</strong>. \n",
              "    One of my favourite drummers is Neal Peart, \n",
              "    who plays in the band\n",
              "    <a href=\"https://en.wikipedia.org/wiki/Rush_%28band%29\" \n",
              "        title=\"Rush Wikipedia article\">Rush\n",
              "    </a>. \n",
              "    My favourite Rush album is currently \n",
              "    <a href=\"http://www.deezer.com/album/942295\">\n",
              "        Moving Pictures]\n",
              "    </a>.\n",
              "</p> \n",
              "<img src=\"http://www.cygnus-x1.net\n",
              "/links/rush/images/albums/sectors/sector2-movingpictures-cover-s.jpg\"\n",
              "width=\"100\">"
            ],
            "text/plain": [
              "<IPython.core.display.HTML object>"
            ]
          },
          "metadata": {
            "tags": []
          }
        }
      ]
    },
    {
      "cell_type": "code",
      "metadata": {
        "id": "D390Kru0dfXd",
        "colab": {
          "base_uri": "https://localhost:8080/",
          "height": 116
        },
        "outputId": "5e994cf6-cea6-41fe-b94b-4693c027cc9f"
      },
      "source": [
        "# <br> による改行\n",
        "%%html\n",
        "<p>彼女は言いました。<br>\n",
        "「急いでいるの?」<br>\n",
        "私はどう答えるか躊躇いました。</p>\n",
        "<div>&lt;div&gt;による改行</div>\n",
        "<div class=\"divline\">と&lt;br&gt;による改行を比べてみよう。</div>\n",
        "<style>\n",
        "    .divline {\n",
        "        color: red;\n",
        "    }\n",
        "</style>"
      ],
      "execution_count": null,
      "outputs": [
        {
          "output_type": "display_data",
          "data": {
            "text/html": [
              "<p>彼女は言いました。<br>\n",
              "「急いでいるの?」<br>\n",
              "私はどう答えるか躊躇いました。</p>\n",
              "<div>&lt;div&gt;による改行</div>\n",
              "<div class=\"divline\">と&lt;br&gt;による改行を比べてみよう。</div>\n",
              "<style>\n",
              "    .divline {\n",
              "        color: red;\n",
              "    }\n",
              "</style>"
            ],
            "text/plain": [
              "<IPython.core.display.HTML object>"
            ]
          },
          "metadata": {
            "tags": []
          }
        }
      ]
    },
    {
      "cell_type": "markdown",
      "metadata": {
        "id": "-Awtts6OTsD-"
      },
      "source": [
        "# いまここ"
      ]
    },
    {
      "cell_type": "markdown",
      "metadata": {
        "id": "P860rRYPrsYX"
      },
      "source": [
        "# メタデータ\n",
        "html の head 部分には 次のセルのようにメタデータが書かれているが当面はそういうものがあるという認識でよい。 気にしない。"
      ]
    },
    {
      "cell_type": "code",
      "metadata": {
        "id": "MinEMpgL0tpo",
        "colab": {
          "base_uri": "https://localhost:8080/",
          "height": 100
        },
        "outputId": "e61e7652-6f96-40df-a017-d29409216775"
      },
      "source": [
        "%%html\n",
        "<!DOCTYPE html>\n",
        "<html lang=\"en-US\">\n",
        "  <head>\n",
        "    <meta charset=\"utf-8\">\n",
        "    <title>Meta examples</title>\n",
        "    \n",
        "    <meta name=\"author\" content=\"Chris Mills\">\n",
        "    <meta name=\"description\" content=\"This is an example page to demonstrate usage of metadata on web pages.\">\n",
        "\n",
        "    <meta property=\"og:image\" content=\"https://developer.cdn.mozilla.net/static/img/opengraph-logo.dc4e08e2f6af.png\">\n",
        "    <meta property=\"og:description\" content=\"This is an example page to demonstrate usage of metadata on web pages.\">\n",
        "    <meta property=\"og:title\" content=\"Metadata; The HTML &lt;head&gt;, on MDN\">\n",
        "\n",
        "    <link rel=\"Shortcut Icon\" href=\"favicon.ico\" type=\"image/x-icon\">\n",
        "  </head>\n",
        "  <body>\n",
        "    <h1>メタデータ</h1>\n",
        "    <p>Japanese example: OMG ご飯が熱い TMG </p>\n",
        "  </body>\n",
        "</html>"
      ],
      "execution_count": null,
      "outputs": [
        {
          "output_type": "display_data",
          "data": {
            "text/html": [
              "<!DOCTYPE html>\n",
              "<html lang=\"en-US\">\n",
              "  <head>\n",
              "    <meta charset=\"utf-8\">\n",
              "    <title>Meta examples</title>\n",
              "    \n",
              "    <meta name=\"author\" content=\"Chris Mills\">\n",
              "    <meta name=\"description\" content=\"This is an example page to demonstrate usage of metadata on web pages.\">\n",
              "\n",
              "    <meta property=\"og:image\" content=\"https://developer.cdn.mozilla.net/static/img/opengraph-logo.dc4e08e2f6af.png\">\n",
              "    <meta property=\"og:description\" content=\"This is an example page to demonstrate usage of metadata on web pages.\">\n",
              "    <meta property=\"og:title\" content=\"Metadata; The HTML &lt;head&gt;, on MDN\">\n",
              "\n",
              "    <link rel=\"Shortcut Icon\" href=\"favicon.ico\" type=\"image/x-icon\">\n",
              "  </head>\n",
              "  <body>\n",
              "    <h1>メタデータ</h1>\n",
              "    <p>Japanese example: OMG ご飯が熱い TMG </p>\n",
              "  </body>\n",
              "</html>"
            ],
            "text/plain": [
              "<IPython.core.display.HTML object>"
            ]
          },
          "metadata": {
            "tags": []
          }
        }
      ]
    },
    {
      "cell_type": "code",
      "metadata": {
        "id": "rqxmJwXc-RH7",
        "colab": {
          "base_uri": "https://localhost:8080/",
          "height": 59
        },
        "outputId": "c4479801-cff4-4451-e74f-92f73674fe16"
      },
      "source": [
        "# 実験 autofocus => colab 環境では機能しないが、問題もない\n",
        "%%html\n",
        "<form action=\"xxx.php\" method=\"post\">\n",
        "    <fieldset>\n",
        "        キーワード:\n",
        "        <input type=\"search\" name=\"q\" autofocus>\n",
        "        <input type=\"submit\" value=\"検索\">\n",
        "    </fieldset>\n",
        "</form>"
      ],
      "execution_count": null,
      "outputs": [
        {
          "output_type": "display_data",
          "data": {
            "text/html": [
              "<form action=\"xxx.php\" method=\"post\">\n",
              "    <fieldset>\n",
              "        キーワード:\n",
              "        <input type=\"search\" name=\"q\" autofocus>\n",
              "        <input type=\"submit\" value=\"検索\">\n",
              "    </fieldset>\n",
              "</form>"
            ],
            "text/plain": [
              "<IPython.core.display.HTML object>"
            ]
          },
          "metadata": {
            "tags": []
          }
        }
      ]
    },
    {
      "cell_type": "markdown",
      "metadata": {
        "id": "ge2qQtNs_tsO"
      },
      "source": [
        "# フムスのレシピ\n",
        "コンテンツに構造を与える例。"
      ]
    },
    {
      "cell_type": "code",
      "metadata": {
        "id": "gWYyNS6__wl_",
        "colab": {
          "base_uri": "https://localhost:8080/",
          "height": 646
        },
        "outputId": "ed80a37b-5860-4b36-9007-23c40708a314"
      },
      "source": [
        "%%html\n",
        "\n",
        "<h1>Quick hummus recipe</h1>\n",
        "\n",
        "<p>This recipe makes quick, tasty hummus, with no messing. It has been adapted from a number of different recipes\n",
        "    that I have read over the years.</p>\n",
        "\n",
        "<p>hummus is a delicious thick paste used heavily in Greek and Middle Eastern dishes. It is very tasty with salad,\n",
        "    grilled meats and pitta breads.</p>\n",
        "\n",
        "<h2>Ingredients</h2>\n",
        "\n",
        "<ul>\n",
        "    <li>1 can (400g) of chick peas (garbanzo beans)</li>\n",
        "    <li>175g of tahini</li>\n",
        "    <li>6 sundried tomatoes</li>\n",
        "    <li>Half a red pepper</li>\n",
        "    <li>A pinch of cayenne pepper</li>\n",
        "    <li>1 clove of garlic</li>\n",
        "    <li>A dash of olive oil</li>\n",
        "</ul>\n",
        "\n",
        "<h2>Instructions</h2>\n",
        "\n",
        "<ol>\n",
        "    <li>Remove the skin from the garlic, and chop coarsely.</li>\n",
        "    <li>Remove all the seeds and stalk from the pepper, and chop coarsely.</li>\n",
        "    <li>Add all the ingredients into a food processor.</li>\n",
        "    <li>Process all the ingredients into a paste.</li>\n",
        "    <li>If you want a coarse \"chunky\" hummus, process it for a short time.</li>\n",
        "    <li>If you want a smooth hummus, process it for a longer time.</li>\n",
        "</ol>\n",
        "\n",
        "<p>For a different flavour, you could try blending in a small measure of lemon and coriander, chili pepper, lime and\n",
        "    chipotle, harissa and mint, or spinach and feta cheese. Experiment and see what works for you.</p>\n",
        "\n",
        "<h2>Storage</h2>\n",
        "\n",
        "<p>Refrigerate the finished hummus in a sealed container. You should be able to use it for about a week after you've\n",
        "    made it. If it starts to become fizzy, you should definitely discard it.</p>\n",
        "\n",
        "<p>hummus is suitable for freezing; you should thaw it and use it within a couple of months.</p>"
      ],
      "execution_count": null,
      "outputs": [
        {
          "output_type": "display_data",
          "data": {
            "text/html": [
              "\n",
              "<h1>Quick hummus recipe</h1>\n",
              "\n",
              "<p>This recipe makes quick, tasty hummus, with no messing. It has been adapted from a number of different recipes\n",
              "    that I have read over the years.</p>\n",
              "\n",
              "<p>hummus is a delicious thick paste used heavily in Greek and Middle Eastern dishes. It is very tasty with salad,\n",
              "    grilled meats and pitta breads.</p>\n",
              "\n",
              "<h2>Ingredients</h2>\n",
              "\n",
              "<ul>\n",
              "    <li>1 can (400g) of chick peas (garbanzo beans)</li>\n",
              "    <li>175g of tahini</li>\n",
              "    <li>6 sundried tomatoes</li>\n",
              "    <li>Half a red pepper</li>\n",
              "    <li>A pinch of cayenne pepper</li>\n",
              "    <li>1 clove of garlic</li>\n",
              "    <li>A dash of olive oil</li>\n",
              "</ul>\n",
              "\n",
              "<h2>Instructions</h2>\n",
              "\n",
              "<ol>\n",
              "    <li>Remove the skin from the garlic, and chop coarsely.</li>\n",
              "    <li>Remove all the seeds and stalk from the pepper, and chop coarsely.</li>\n",
              "    <li>Add all the ingredients into a food processor.</li>\n",
              "    <li>Process all the ingredients into a paste.</li>\n",
              "    <li>If you want a coarse \"chunky\" hummus, process it for a short time.</li>\n",
              "    <li>If you want a smooth hummus, process it for a longer time.</li>\n",
              "</ol>\n",
              "\n",
              "<p>For a different flavour, you could try blending in a small measure of lemon and coriander, chili pepper, lime and\n",
              "    chipotle, harissa and mint, or spinach and feta cheese. Experiment and see what works for you.</p>\n",
              "\n",
              "<h2>Storage</h2>\n",
              "\n",
              "<p>Refrigerate the finished hummus in a sealed container. You should be able to use it for about a week after you've\n",
              "    made it. If it starts to become fizzy, you should definitely discard it.</p>\n",
              "\n",
              "<p>hummus is suitable for freezing; you should thaw it and use it within a couple of months.</p>"
            ],
            "text/plain": [
              "<IPython.core.display.HTML object>"
            ]
          },
          "metadata": {
            "tags": []
          }
        }
      ]
    },
    {
      "cell_type": "code",
      "metadata": {
        "id": "vlkQUS7qAUtr",
        "colab": {
          "base_uri": "https://localhost:8080/",
          "height": 123
        },
        "outputId": "a5b99e57-15bb-44f0-fa72-824f11368337"
      },
      "source": [
        "%%html\n",
        "<h1>My short story</h1>\n",
        "<p>I am a policewoman and my name is Trish.</p>\n",
        "<p>My legs are made of cardboard and I am married to a fish.</p>"
      ],
      "execution_count": null,
      "outputs": [
        {
          "output_type": "display_data",
          "data": {
            "text/html": [
              "<h1>My short story</h1>\n",
              "<p>I am a policewoman and my name is Trish.</p>\n",
              "<p>My legs are made of cardboard and I am married to a fish.</p>"
            ],
            "text/plain": [
              "<IPython.core.display.HTML object>"
            ]
          },
          "metadata": {
            "tags": []
          }
        }
      ]
    },
    {
      "cell_type": "code",
      "metadata": {
        "id": "joL5tMXdA3U8",
        "colab": {
          "base_uri": "https://localhost:8080/",
          "height": 57
        },
        "outputId": "c21bfab4-3a24-4d6c-abbe-6c9a9efd3c69"
      },
      "source": [
        "%%html\n",
        "<span style=\"font-size: 32px; margin: 21px 0;\">Is this a top level heading?</span>"
      ],
      "execution_count": null,
      "outputs": [
        {
          "output_type": "display_data",
          "data": {
            "text/html": [
              "<span style=\"font-size: 32px; margin: 21px 0;\">Is this a top level heading?</span>"
            ],
            "text/plain": [
              "<IPython.core.display.HTML object>"
            ]
          },
          "metadata": {
            "tags": []
          }
        }
      ]
    },
    {
      "cell_type": "code",
      "metadata": {
        "id": "YRPgnqcuA6Rz",
        "colab": {
          "base_uri": "https://localhost:8080/",
          "height": 152
        },
        "outputId": "3a4163f5-9435-4f29-84c9-41c7a0ce03fd"
      },
      "source": [
        "%%html\n",
        "<style>\n",
        "    h1 {\n",
        "        color: red;\n",
        "    }\n",
        "\n",
        "    .fakeh1 {\n",
        "        font-size: 32px;\n",
        "        margin: 21px 0;\n",
        "    }\n",
        "</style>\n",
        "\n",
        "<body>\n",
        "    <h1>This is a real heading.</h1>\n",
        "    <p class=\"fakeh1\">Is thsi a top level heading?</p>\n",
        "</body>"
      ],
      "execution_count": null,
      "outputs": [
        {
          "output_type": "display_data",
          "data": {
            "text/html": [
              "<style>\n",
              "    h1 {\n",
              "        color: red;\n",
              "    }\n",
              "\n",
              "    .fakeh1 {\n",
              "        font-size: 32px;\n",
              "        margin: 21px 0;\n",
              "    }\n",
              "</style>\n",
              "\n",
              "<body>\n",
              "    <h1>This is a real heading.</h1>\n",
              "    <p class=\"fakeh1\">Is thsi a top level heading?</p>\n",
              "</body>"
            ],
            "text/plain": [
              "<IPython.core.display.HTML object>"
            ]
          },
          "metadata": {
            "tags": []
          }
        }
      ]
    },
    {
      "cell_type": "markdown",
      "metadata": {
        "id": "YpTkIX7LCGzP"
      },
      "source": [
        "# 順序なし、順序ありリスト"
      ]
    },
    {
      "cell_type": "code",
      "metadata": {
        "id": "UaH_q0NhCMCZ",
        "colab": {
          "base_uri": "https://localhost:8080/",
          "height": 99
        },
        "outputId": "fd47d501-4f58-409a-f5f7-82bd99f301dc"
      },
      "source": [
        "%%html\n",
        "<ul>\n",
        "    <li>milk</li>\n",
        "    <li>eggs</li>\n",
        "    <li>bread</li>\n",
        "    <li>hummus</li>\n",
        "</ul>"
      ],
      "execution_count": null,
      "outputs": [
        {
          "output_type": "display_data",
          "data": {
            "text/html": [
              "<ul>\n",
              "    <li>milk</li>\n",
              "    <li>eggs</li>\n",
              "    <li>bread</li>\n",
              "    <li>hummus</li>\n",
              "</ul>"
            ],
            "text/plain": [
              "<IPython.core.display.HTML object>"
            ]
          },
          "metadata": {
            "tags": []
          }
        }
      ]
    },
    {
      "cell_type": "code",
      "metadata": {
        "id": "gG2b9KpJCtIj",
        "colab": {
          "base_uri": "https://localhost:8080/",
          "height": 132
        },
        "outputId": "cbb0a858-a5df-4127-a281-283d82208fb4"
      },
      "source": [
        "%%html\n",
        "<ol>\n",
        "    <li>Drive to the end of the road</li>\n",
        "    <li>Turn right</li>\n",
        "    <li>Go straight across the first two roundabouts</li>\n",
        "    <li>Turn left at the third roundabout</li>\n",
        "    <li>The school is on your right, 300 meters up the road</li>\n",
        "</ol>"
      ],
      "execution_count": null,
      "outputs": [
        {
          "output_type": "display_data",
          "data": {
            "text/html": [
              "<ol>\n",
              "    <li>Drive to the end of the road</li>\n",
              "    <li>Turn right</li>\n",
              "    <li>Go straight across the first two roundabouts</li>\n",
              "    <li>Turn left at the third roundabout</li>\n",
              "    <li>The school is on your right, 300 meters up the road</li>\n",
              "</ol>"
            ],
            "text/plain": [
              "<IPython.core.display.HTML object>"
            ]
          },
          "metadata": {
            "tags": []
          }
        }
      ]
    },
    {
      "cell_type": "code",
      "metadata": {
        "id": "vgmlsErBC_9y",
        "colab": {
          "base_uri": "https://localhost:8080/",
          "height": 155
        },
        "outputId": "f76160b9-3ebc-466a-9d79-dd9038233232"
      },
      "source": [
        "# 入れ子のリスト\n",
        "%%html\n",
        "<ol>\n",
        "    <li>Remove the skin from the garlic, and chop coarsely.</li>\n",
        "    <li>Remove all the seeds and stalk from the pepper, and chop coarsely.</li>\n",
        "    <li>Add all the ingredients into a food processor.</li>\n",
        "    <li>Process all the ingredients into a paste.\n",
        "        <ul>\n",
        "            <li>If you want a coarse \"chunky\" hummus, process it for a short time.</li>\n",
        "            <li>If you want a smooth hummus, process it for a longer time.</li>\n",
        "        </ul>\n",
        "    </li>\n",
        "</ol>"
      ],
      "execution_count": null,
      "outputs": [
        {
          "output_type": "display_data",
          "data": {
            "text/html": [
              "<ol>\n",
              "    <li>Remove the skin from the garlic, and chop coarsely.</li>\n",
              "    <li>Remove all the seeds and stalk from the pepper, and chop coarsely.</li>\n",
              "    <li>Add all the ingredients into a food processor.</li>\n",
              "    <li>Process all the ingredients into a paste.\n",
              "        <ul>\n",
              "            <li>If you want a coarse \"chunky\" hummus, process it for a short time.</li>\n",
              "            <li>If you want a smooth hummus, process it for a longer time.</li>\n",
              "        </ul>\n",
              "    </li>\n",
              "</ol>"
            ],
            "text/plain": [
              "<IPython.core.display.HTML object>"
            ]
          },
          "metadata": {
            "tags": []
          }
        }
      ]
    },
    {
      "cell_type": "markdown",
      "metadata": {
        "id": "MO16mmDCDP0S"
      },
      "source": [
        "# 強調 太字にする\n",
        "標準で強調 strong と斜体 em があるが、少し文字を大きくして強調するのはどうするのだろうか。"
      ]
    },
    {
      "cell_type": "code",
      "metadata": {
        "id": "BRZPKuH0DUH7",
        "colab": {
          "base_uri": "https://localhost:8080/",
          "height": 135
        },
        "outputId": "42af38d5-b72c-4d48-efc0-069b9fa8f839"
      },
      "source": [
        "# 強調と斜体\n",
        "%%html\n",
        "<h1>Important notice</h1>\n",
        "<p>On <strong>Sunday January 9th 2010</strong>, a gang of <em>goths</em> were spotted stealing <strong><em>several</em>\n",
        "        garden gnomes</strong> from a shopping center in downtown <strong>Milwaukee</strong>. They were all wearing\n",
        "    <em>green jumpsuits</em> and <em>silly hats</em>, and seemed to be having a whale of a time. If anyone has\n",
        "    <strong>any</strong> information about this incident, please contact the police <strong>now</strong>.</p>"
      ],
      "execution_count": null,
      "outputs": [
        {
          "output_type": "display_data",
          "data": {
            "text/html": [
              "<h1>Important notice</h1>\n",
              "<p>On <strong>Sunday January 9th 2010</strong>, a gang of <em>goths</em> were spotted stealing <strong><em>several</em>\n",
              "        garden gnomes</strong> from a shopping center in downtown <strong>Milwaukee</strong>. They were all wearing\n",
              "    <em>green jumpsuits</em> and <em>silly hats</em>, and seemed to be having a whale of a time. If anyone has\n",
              "    <strong>any</strong> information about this incident, please contact the police <strong>now</strong>.</p>"
            ],
            "text/plain": [
              "<IPython.core.display.HTML object>"
            ]
          },
          "metadata": {
            "tags": []
          }
        }
      ]
    },
    {
      "cell_type": "code",
      "metadata": {
        "id": "AbeSWjo5EN4z",
        "colab": {
          "base_uri": "https://localhost:8080/",
          "height": 161
        },
        "outputId": "c3e60f13-91f3-4766-d975-691a42b00092"
      },
      "source": [
        "# 強調と斜体 \n",
        "%%html\n",
        "<h1>Important notice</h1>\n",
        "<p>On <span style=\"font-size: 150%\">Sunday January 9th 2010</span>, a gang of <em>goths</em> were spotted stealing <span style=\"font-size: 150%\"><em>several</em>\n",
        "        garden gnomes</span> from a shopping center in downtown <span style=\"font-size: 150%\">Milwaukee</span>. They were all wearing\n",
        "    <em>green jumpsuits</em> and <em>silly hats</em>, and seemed to be having a whale of a time. If anyone has\n",
        "    <span style=\"font-size: 150%\">any</span> information about this incident, please contact the police <span style=\"font-size: 150%\">now</span>.</p>"
      ],
      "execution_count": null,
      "outputs": [
        {
          "output_type": "display_data",
          "data": {
            "text/html": [
              "<h1>Important notice</h1>\n",
              "<p>On <span style=\"font-size: 150%\">Sunday January 9th 2010</span>, a gang of <em>goths</em> were spotted stealing <span style=\"font-size: 150%\"><em>several</em>\n",
              "        garden gnomes</span> from a shopping center in downtown <span style=\"font-size: 150%\">Milwaukee</span>. They were all wearing\n",
              "    <em>green jumpsuits</em> and <em>silly hats</em>, and seemed to be having a whale of a time. If anyone has\n",
              "    <span style=\"font-size: 150%\">any</span> information about this incident, please contact the police <span style=\"font-size: 150%\">now</span>.</p>"
            ],
            "text/plain": [
              "<IPython.core.display.HTML object>"
            ]
          },
          "metadata": {
            "tags": []
          }
        }
      ]
    },
    {
      "cell_type": "code",
      "metadata": {
        "id": "u9kn6_oPFnlb",
        "colab": {
          "base_uri": "https://localhost:8080/",
          "height": 150
        },
        "outputId": "327d90f2-963c-47e7-f013-de2cb3989687"
      },
      "source": [
        "# 参考 html5 の要素\n",
        "%%html\n",
        "<!-- scientific names -->\n",
        "<p>\n",
        "  The Ruby-throated Hummingbird (<i>Archilochus colubris</i>)\n",
        "  is the most common hummingbird in Eastern North America.\n",
        "</p>\n",
        "\n",
        "<!-- foreign words -->\n",
        "<p>\n",
        "  The menu was a sea of exotic words like <i lang=\"uk-latn\">vatrushka</i>,\n",
        "  <i lang=\"id\">nasi goreng</i> and <i lang=\"fr\">soupe à l'oignon</i>.\n",
        "</p>\n",
        "\n",
        "<!-- a known misspelling -->\n",
        "<p>\n",
        "  Someday I'll learn how to <u style=\"text-decoration-line: underline; text-decoration-style: wavy;\">spel</u> better.\n",
        "</p>\n",
        "\n",
        "<!-- Highlight keywords in a set of instructions -->\n",
        "<ol>\n",
        "  <li>\n",
        "    <b>Slice</b> two pieces of bread off the loaf.\n",
        "  </li>\n",
        "  <li>\n",
        "    <b>Insert</b> a tomato slice and a leaf of\n",
        "    lettuce between the slices of bread.\n",
        "  </li>\n",
        "</ol>"
      ],
      "execution_count": null,
      "outputs": [
        {
          "output_type": "display_data",
          "data": {
            "text/html": [
              "<!-- scientific names -->\n",
              "<p>\n",
              "  The Ruby-throated Hummingbird (<i>Archilochus colubris</i>)\n",
              "  is the most common hummingbird in Eastern North America.\n",
              "</p>\n",
              "\n",
              "<!-- foreign words -->\n",
              "<p>\n",
              "  The menu was a sea of exotic words like <i lang=\"uk-latn\">vatrushka</i>,\n",
              "  <i lang=\"id\">nasi goreng</i> and <i lang=\"fr\">soupe à l'oignon</i>.\n",
              "</p>\n",
              "\n",
              "<!-- a known misspelling -->\n",
              "<p>\n",
              "  Someday I'll learn how to <u style=\"text-decoration-line: underline; text-decoration-style: wavy;\">spel</u> better.\n",
              "</p>\n",
              "\n",
              "<!-- Highlight keywords in a set of instructions -->\n",
              "<ol>\n",
              "  <li>\n",
              "    <b>Slice</b> two pieces of bread off the loaf.\n",
              "  </li>\n",
              "  <li>\n",
              "    <b>Insert</b> a tomato slice and a leaf of\n",
              "    lettuce between the slices of bread.\n",
              "  </li>\n",
              "</ol>"
            ],
            "text/plain": [
              "<IPython.core.display.HTML object>"
            ]
          },
          "metadata": {
            "tags": []
          }
        }
      ]
    },
    {
      "cell_type": "markdown",
      "metadata": {
        "id": "utLqzd4xGBiH"
      },
      "source": [
        "# 説明リスト\n",
        "\n"
      ]
    },
    {
      "cell_type": "code",
      "metadata": {
        "colab": {
          "base_uri": "https://localhost:8080/",
          "height": 184
        },
        "id": "I0dSLQ0EXrGe",
        "outputId": "21fc49d6-17b1-46e0-8d55-188035d1ccac"
      },
      "source": [
        "# 説明リスト description list, term, definition\n",
        "%%html\n",
        "<dl>\n",
        "    <dt>独白( soliloquy )</dt>\n",
        "    <dd>ドラマでは、登場人物が自分自身にしゃべりかけ、内なる考えや感情や、そうなった過程を(他の登場人物ではなく)観客に対して表現します。</dd>\n",
        "    <dt>独白( monologue)</dt>\n",
        "    <dd>ドラマで、登場人物が自分の考えを観客や他の登場人物に伝わるように喋ります。</dd>\n",
        "    <dt>ひそひそ話</dt>\n",
        "    <dd>ドラマで、登場人物が観客のみに対し、ユーモアやドラマチックな効果を狙ってコメントをします。これは通常は感情や、考えや、追加の背景情報です。</dd>\n",
        "</dl>"
      ],
      "execution_count": null,
      "outputs": [
        {
          "output_type": "display_data",
          "data": {
            "text/html": [
              "<dl>\n",
              "    <dt>独白( soliloquy )</dt>\n",
              "    <dd>ドラマでは、登場人物が自分自身にしゃべりかけ、内なる考えや感情や、そうなった過程を(他の登場人物ではなく)観客に対して表現します。</dd>\n",
              "    <dt>独白( monologue)</dt>\n",
              "    <dd>ドラマで、登場人物が自分の考えを観客や他の登場人物に伝わるように喋ります。</dd>\n",
              "    <dt>ひそひそ話</dt>\n",
              "    <dd>ドラマで、登場人物が観客のみに対し、ユーモアやドラマチックな効果を狙ってコメントをします。これは通常は感情や、考えや、追加の背景情報です。</dd>\n",
              "</dl>"
            ],
            "text/plain": [
              "<IPython.core.display.HTML object>"
            ]
          },
          "metadata": {
            "tags": []
          }
        }
      ]
    },
    {
      "cell_type": "markdown",
      "metadata": {
        "id": "qmPxXzTdZudw"
      },
      "source": [
        "# 引用 blockquote, q, cite "
      ]
    },
    {
      "cell_type": "code",
      "metadata": {
        "colab": {
          "base_uri": "https://localhost:8080/",
          "height": 86
        },
        "id": "l58htp0EaA6I",
        "outputId": "c67cda22-bf94-40a2-d798-7320902c3e82"
      },
      "source": [
        "%%html\n",
        "<p>Hello and welcome to my motivation page. As <a href=\"http://www.brainyquote.com/quotes/authors/c/confucius.html\"><cite>Confucius' quotes site</cite></a> says:</p>\n",
        "\n",
        "<blockquote cite=\"http://www.brainyquote.com/quotes/authors/c/confucius.html\">\n",
        " <p>It does not matter how slowly you go as long as you do not stop.</p>\n",
        "</blockquote>"
      ],
      "execution_count": null,
      "outputs": [
        {
          "output_type": "display_data",
          "data": {
            "text/html": [
              "<p>Hello and welcome to my motivation page. As <a href=\"http://www.brainyquote.com/quotes/authors/c/confucius.html\"><cite>Confucius' quotes site</cite></a> says:</p>\n",
              "\n",
              "<blockquote cite=\"http://www.brainyquote.com/quotes/authors/c/confucius.html\">\n",
              " <p>It does not matter how slowly you go as long as you do not stop.</p>\n",
              "</blockquote>"
            ],
            "text/plain": [
              "<IPython.core.display.HTML object>"
            ]
          },
          "metadata": {
            "tags": []
          }
        }
      ]
    },
    {
      "cell_type": "code",
      "metadata": {
        "colab": {
          "base_uri": "https://localhost:8080/",
          "height": 134
        },
        "id": "al_vv7ViaQ9S",
        "outputId": "c0c8bb15-ae2f-412f-9518-2bfafeeb527a"
      },
      "source": [
        "# abbreviation => マウスでホバーすると説明がでる。span title でも同じか?\n",
        "# これは Colab 上でもオーケー。\n",
        "%%html\n",
        "<p>We use <abbr title=\"Hypertext Markup Language\">HTML</abbr> to structure our web documents.</p>\n",
        "\n",
        "<p>I think <abbr style=\"font-size: 150%\" title=\"Reverend\">Rev.</abbr> Green did it in the kitchen with the chainsaw.</p>\n",
        "\n",
        "<p>We use <span style=\"font-size: 150%\" title=\"Hypertext Markup Language\">HTML</span> to structure our web documents.</p>\n",
        "\n",
        "<p><abbr title=\"National Aeronautics and Space Administration\">NASA</abbr> sure does some exciting work.</p>"
      ],
      "execution_count": null,
      "outputs": [
        {
          "output_type": "display_data",
          "data": {
            "text/html": [
              "<p>We use <abbr title=\"Hypertext Markup Language\">HTML</abbr> to structure our web documents.</p>\n",
              "\n",
              "<p>I think <abbr style=\"font-size: 150%\" title=\"Reverend\">Rev.</abbr> Green did it in the kitchen with the chainsaw.</p>\n",
              "\n",
              "<p>We use <span style=\"font-size: 150%\" title=\"Hypertext Markup Language\">HTML</span> to structure our web documents.</p>\n",
              "\n",
              "<p><abbr title=\"National Aeronautics and Space Administration\">NASA</abbr> sure does some exciting work.</p>"
            ],
            "text/plain": [
              "<IPython.core.display.HTML object>"
            ]
          },
          "metadata": {
            "tags": []
          }
        }
      ]
    },
    {
      "cell_type": "code",
      "metadata": {
        "id": "v92h_Jyqe2_s",
        "colab": {
          "base_uri": "https://localhost:8080/",
          "height": 102
        },
        "outputId": "31361033-116d-4d35-9944-d6ab54a4dd02"
      },
      "source": [
        "# 上付き下付き\n",
        "%%html\n",
        "<p>My birthday is on the 25<sup>th</sup> of May 2001.</p>\n",
        "<p>Caffeine's chemical formula is C<sub>8</sub>H<sub>10</sub>N<sub>4</sub>O<sub>2</sub>.</p>\n",
        "<p>If x<sup>2</sup> is 9, x must equal 3 or -3.</p>"
      ],
      "execution_count": null,
      "outputs": [
        {
          "output_type": "display_data",
          "data": {
            "text/html": [
              "<p>My birthday is on the 25<sup>th</sup> of May 2001.</p>\n",
              "<p>Caffeine's chemical formula is C<sub>8</sub>H<sub>10</sub>N<sub>4</sub>O<sub>2</sub>.</p>\n",
              "<p>If x<sup>2</sup> is 9, x must equal 3 or -3.</p>"
            ],
            "text/plain": [
              "<IPython.core.display.HTML object>"
            ]
          },
          "metadata": {
            "tags": []
          }
        }
      ]
    },
    {
      "cell_type": "code",
      "metadata": {
        "id": "T4-QKuVJfXGz",
        "colab": {
          "base_uri": "https://localhost:8080/",
          "height": 233
        },
        "outputId": "8a370889-401b-4e8f-8982-f6cec12d8e38"
      },
      "source": [
        "# コード表示\n",
        "%%html\n",
        "<pre><code>var para = document.querySelector('p');\n",
        "\n",
        "para.onclick = function() {\n",
        "  alert('Owww, stop poking me!');\n",
        "}</code></pre>\n",
        "\n",
        "<p>You shouldn't use presentational elements like <code>&lt;font&gt;</code> and <code>&lt;center&gt;</code>.</p>\n",
        "\n",
        "<p>In the above JavaScript example, <var>para</var> represents a paragraph element.</p>\n",
        "\n",
        "\n",
        "<p>Select all the text with <kbd>Ctrl</kbd>/<kbd>Cmd</kbd> + <kbd>A</kbd>.</p>\n",
        "\n",
        "<pre>$ <kbd>ping mozilla.org</kbd>\n",
        "<samp>PING mozilla.org (63.245.215.20): 56 data bytes\n",
        "64 bytes from 63.245.215.20: icmp_seq=0 ttl=40 time=158.233 ms</samp></pre>"
      ],
      "execution_count": null,
      "outputs": [
        {
          "output_type": "display_data",
          "data": {
            "text/html": [
              "<pre><code>var para = document.querySelector('p');\n",
              "\n",
              "para.onclick = function() {\n",
              "  alert('Owww, stop poking me!');\n",
              "}</code></pre>\n",
              "\n",
              "<p>You shouldn't use presentational elements like <code>&lt;font&gt;</code> and <code>&lt;center&gt;</code>.</p>\n",
              "\n",
              "<p>In the above JavaScript example, <var>para</var> represents a paragraph element.</p>\n",
              "\n",
              "\n",
              "<p>Select all the text with <kbd>Ctrl</kbd>/<kbd>Cmd</kbd> + <kbd>A</kbd>.</p>\n",
              "\n",
              "<pre>$ <kbd>ping mozilla.org</kbd>\n",
              "<samp>PING mozilla.org (63.245.215.20): 56 data bytes\n",
              "64 bytes from 63.245.215.20: icmp_seq=0 ttl=40 time=158.233 ms</samp></pre>"
            ],
            "text/plain": [
              "<IPython.core.display.HTML object>"
            ]
          },
          "metadata": {
            "tags": []
          }
        }
      ]
    },
    {
      "cell_type": "code",
      "metadata": {
        "id": "QkSobVFYheOU"
      },
      "source": [
        "# セマンティクス・ブックマーク\n",
        "%%script false\n",
        "ヘッダー: <header>.\n",
        "ナビゲーションバー: <nav>.\n",
        "メインコンテンツ: <main>。<article>、<section>、および <div> 要素で表されるさまざまなコンテンツサブセクションを含みます。\n",
        "サイドバー: <aside>; <main> の中に置かれることがよくあります。\n",
        "フッター: <footer>."
      ],
      "execution_count": null,
      "outputs": []
    },
    {
      "cell_type": "code",
      "metadata": {
        "id": "sLmAQ0CFh9p9",
        "colab": {
          "base_uri": "https://localhost:8080/",
          "height": 673
        },
        "outputId": "f6ebc57c-e68a-47dd-9437-09d571b2272d"
      },
      "source": [
        "%%html\n",
        "\n",
        "<header>\n",
        "    <h1>Header</h1>\n",
        "</header>\n",
        "\n",
        "<nav>\n",
        "    <ul>\n",
        "        <li><a href=\"#\">Home</a></li>\n",
        "        <li><a href=\"#\">Our team</a></li>\n",
        "        <li><a href=\"#\">Projects</a></li>\n",
        "        <li><a href=\"#\">Contact</a></li>\n",
        "    </ul>\n",
        "\n",
        "    <!-- A Search form is another commmon non-linear way to navigate through a website. -->\n",
        "\n",
        "    <form>\n",
        "        <input type=\"search\" name=\"q\" placeholder=\"Search query\">\n",
        "        <input type=\"submit\" value=\"Go!\">\n",
        "    </form>\n",
        "</nav>\n",
        "\n",
        "<!-- Here is our page's main content -->\n",
        "<main>\n",
        "\n",
        "    <!-- It contains an article -->\n",
        "    <article>\n",
        "        <h2>Article heading</h2>\n",
        "\n",
        "        <p>Lorem ipsum dolor sit amet, consectetur adipisicing elit. Donec a diam lectus. Set sit amet ipsum mauris.\n",
        "            Maecenas congue ligula as quam viverra nec consectetur ant hendrerit. Donec et mollis dolor. Praesent et\n",
        "            diam eget libero egestas mattis sit amet vitae augue. Nam tincidunt congue enim, ut porta lorem lacinia\n",
        "            consectetur.</p>\n",
        "\n",
        "        <h3>subsection</h3>\n",
        "\n",
        "        <p>Donec ut librero sed accu vehicula ultricies a non tortor. Lorem ipsum dolor sit amet, consectetur\n",
        "            adipisicing elit. Aenean ut gravida lorem. Ut turpis felis, pulvinar a semper sed, adipiscing id dolor.\n",
        "        </p>\n",
        "\n",
        "        <p>Pelientesque auctor nisi id magna consequat sagittis. Curabitur dapibus, enim sit amet elit pharetra\n",
        "            tincidunt feugiat nist imperdiet. Ut convallis libero in urna ultrices accumsan. Donec sed odio eros.\n",
        "        </p>\n",
        "\n",
        "        <h3>Another subsection</h3>\n",
        "\n",
        "        <p>Donec viverra mi quis quam pulvinar at malesuada arcu rhoncus. Cum soclis natoque penatibus et manis dis\n",
        "            parturient montes, nascetur ridiculus mus. In rutrum accumsan ultricies. Mauris vitae nisi at sem\n",
        "            facilisis semper ac in est.</p>\n",
        "\n",
        "        <p>Vivamus fermentum semper porta. Nunc diam velit, adipscing ut tristique vitae sagittis vel odio. Maecenas\n",
        "            convallis ullamcorper ultricied. Curabitur ornare, ligula semper consectetur sagittis, nisi diam iaculis\n",
        "            velit, is fringille sem nunc vet mi.</p>\n",
        "    </article>\n",
        "\n",
        "    <!-- the aside content can also be nested within the main content -->\n",
        "    <aside>\n",
        "        <h2>Related</h2>\n",
        "\n",
        "        <ul>\n",
        "            <li><a href=\"#\">Oh I do like to be beside the seaside</a></li>\n",
        "            <li><a href=\"#\">Oh I do like to be beside the sea</a></li>\n",
        "            <li><a href=\"#\">Although in the North of England</a></li>\n",
        "            <li><a href=\"#\">It never stops raining</a></li>\n",
        "            <li><a href=\"#\">Oh well...</a></li>\n",
        "        </ul>\n",
        "    </aside>\n",
        "\n",
        "</main>\n",
        "\n",
        "<!-- And here is our main footer that is used across all the pages of our website -->\n",
        "\n",
        "<footer>\n",
        "    <p>©Copyright 2050 by nobody. All rights reversed.</p>\n",
        "</footer>\n",
        "\n",
        "</body>"
      ],
      "execution_count": null,
      "outputs": [
        {
          "output_type": "display_data",
          "data": {
            "text/html": [
              "\n",
              "<header>\n",
              "    <h1>Header</h1>\n",
              "</header>\n",
              "\n",
              "<nav>\n",
              "    <ul>\n",
              "        <li><a href=\"#\">Home</a></li>\n",
              "        <li><a href=\"#\">Our team</a></li>\n",
              "        <li><a href=\"#\">Projects</a></li>\n",
              "        <li><a href=\"#\">Contact</a></li>\n",
              "    </ul>\n",
              "\n",
              "    <!-- A Search form is another commmon non-linear way to navigate through a website. -->\n",
              "\n",
              "    <form>\n",
              "        <input type=\"search\" name=\"q\" placeholder=\"Search query\">\n",
              "        <input type=\"submit\" value=\"Go!\">\n",
              "    </form>\n",
              "</nav>\n",
              "\n",
              "<!-- Here is our page's main content -->\n",
              "<main>\n",
              "\n",
              "    <!-- It contains an article -->\n",
              "    <article>\n",
              "        <h2>Article heading</h2>\n",
              "\n",
              "        <p>Lorem ipsum dolor sit amet, consectetur adipisicing elit. Donec a diam lectus. Set sit amet ipsum mauris.\n",
              "            Maecenas congue ligula as quam viverra nec consectetur ant hendrerit. Donec et mollis dolor. Praesent et\n",
              "            diam eget libero egestas mattis sit amet vitae augue. Nam tincidunt congue enim, ut porta lorem lacinia\n",
              "            consectetur.</p>\n",
              "\n",
              "        <h3>subsection</h3>\n",
              "\n",
              "        <p>Donec ut librero sed accu vehicula ultricies a non tortor. Lorem ipsum dolor sit amet, consectetur\n",
              "            adipisicing elit. Aenean ut gravida lorem. Ut turpis felis, pulvinar a semper sed, adipiscing id dolor.\n",
              "        </p>\n",
              "\n",
              "        <p>Pelientesque auctor nisi id magna consequat sagittis. Curabitur dapibus, enim sit amet elit pharetra\n",
              "            tincidunt feugiat nist imperdiet. Ut convallis libero in urna ultrices accumsan. Donec sed odio eros.\n",
              "        </p>\n",
              "\n",
              "        <h3>Another subsection</h3>\n",
              "\n",
              "        <p>Donec viverra mi quis quam pulvinar at malesuada arcu rhoncus. Cum soclis natoque penatibus et manis dis\n",
              "            parturient montes, nascetur ridiculus mus. In rutrum accumsan ultricies. Mauris vitae nisi at sem\n",
              "            facilisis semper ac in est.</p>\n",
              "\n",
              "        <p>Vivamus fermentum semper porta. Nunc diam velit, adipscing ut tristique vitae sagittis vel odio. Maecenas\n",
              "            convallis ullamcorper ultricied. Curabitur ornare, ligula semper consectetur sagittis, nisi diam iaculis\n",
              "            velit, is fringille sem nunc vet mi.</p>\n",
              "    </article>\n",
              "\n",
              "    <!-- the aside content can also be nested within the main content -->\n",
              "    <aside>\n",
              "        <h2>Related</h2>\n",
              "\n",
              "        <ul>\n",
              "            <li><a href=\"#\">Oh I do like to be beside the seaside</a></li>\n",
              "            <li><a href=\"#\">Oh I do like to be beside the sea</a></li>\n",
              "            <li><a href=\"#\">Although in the North of England</a></li>\n",
              "            <li><a href=\"#\">It never stops raining</a></li>\n",
              "            <li><a href=\"#\">Oh well...</a></li>\n",
              "        </ul>\n",
              "    </aside>\n",
              "\n",
              "</main>\n",
              "\n",
              "<!-- And here is our main footer that is used across all the pages of our website -->\n",
              "\n",
              "<footer>\n",
              "    <p>©Copyright 2050 by nobody. All rights reversed.</p>\n",
              "</footer>\n",
              "\n",
              "</body>"
            ],
            "text/plain": [
              "<IPython.core.display.HTML object>"
            ]
          },
          "metadata": {
            "tags": []
          }
        }
      ]
    },
    {
      "cell_type": "markdown",
      "metadata": {
        "id": "XluZr1f3intr"
      },
      "source": [
        "上のに style をつけると下のようになる。"
      ]
    },
    {
      "cell_type": "code",
      "metadata": {
        "id": "KJhFb7OxiZg-",
        "colab": {
          "base_uri": "https://localhost:8080/",
          "height": 993
        },
        "outputId": "73952503-b02a-40f2-b87a-887ea4ae2c14"
      },
      "source": [
        "%%html\n",
        "<style>\n",
        "    /* || General setup */\n",
        "\n",
        "    html,\n",
        "    body {\n",
        "        margin: 0;\n",
        "        padding: 0;\n",
        "    }\n",
        "\n",
        "    html {\n",
        "        font-size: 10px;\n",
        "        background-color: #a9a9a9;\n",
        "    }\n",
        "\n",
        "    body {\n",
        "        width: 70%;\n",
        "        margin: 0 auto;\n",
        "    }\n",
        "\n",
        "    /* || typography */\n",
        "\n",
        "    h1,\n",
        "    h2,\n",
        "    h3 {\n",
        "        font-family: 'Sonsie One', cursive;\n",
        "        color: #2a2a2a;\n",
        "    }\n",
        "\n",
        "    p,\n",
        "    input,\n",
        "    li {\n",
        "        font-family: 'Open Sans Condensed', sans-serif;\n",
        "        color: #2a2a2a;\n",
        "    }\n",
        "\n",
        "    h1 {\n",
        "        font-size: 4rem;\n",
        "        text-align: center;\n",
        "        color: white;\n",
        "        text-shadow: 2px 2px 10px black;\n",
        "    }\n",
        "\n",
        "    h2 {\n",
        "        font-size: 3rem;\n",
        "        text-align: center;\n",
        "    }\n",
        "\n",
        "    h3 {\n",
        "        font-size: 2.2rem;\n",
        "    }\n",
        "\n",
        "    p,\n",
        "    li {\n",
        "        font-size: 1.6rem;\n",
        "        line-height: 1.5;\n",
        "    }\n",
        "\n",
        "    /* || header layout */\n",
        "\n",
        "    nav,\n",
        "    article,\n",
        "    aside,\n",
        "    footer {\n",
        "        background-color: white;\n",
        "        padding: 1%;\n",
        "    }\n",
        "\n",
        "    nav {\n",
        "        height: 50px;\n",
        "        background-color: #ff80ff;\n",
        "        display: flex;\n",
        "        margin-bottom: 10px;\n",
        "    }\n",
        "\n",
        "    nav ul {\n",
        "        padding: 0;\n",
        "        list-style-type: none;\n",
        "        flex: 2;\n",
        "        display: flex;\n",
        "    }\n",
        "\n",
        "    nav li {\n",
        "        display: inline;\n",
        "        text-align: center;\n",
        "        flex: 1;\n",
        "    }\n",
        "\n",
        "    nav a {\n",
        "        display: inline-block;\n",
        "        font-size: 2rem;\n",
        "        text-transform: uppercase;\n",
        "        text-decoration: none;\n",
        "        color: black;\n",
        "    }\n",
        "\n",
        "    nav form {\n",
        "        flex: 1;\n",
        "        display: flex;\n",
        "        align-items: center;\n",
        "        height: 100%;\n",
        "        padding: 0 2em;\n",
        "    }\n",
        "\n",
        "    input {\n",
        "        font-size: 1.6rem;\n",
        "        height: 32px;\n",
        "    }\n",
        "\n",
        "    input[type=\"search\"] {\n",
        "        flex: 3;\n",
        "    }\n",
        "\n",
        "    input[type=\"submit\"] {\n",
        "        flex: 1;\n",
        "        margin-left: 1rem;\n",
        "        background: #333;\n",
        "        border: 0;\n",
        "        color: white;\n",
        "    }\n",
        "\n",
        "    /* || main layout */\n",
        "\n",
        "    main {\n",
        "        display: flex;\n",
        "    }\n",
        "\n",
        "    article {\n",
        "        flex: 4;\n",
        "    }\n",
        "\n",
        "    aside {\n",
        "        flex: 1;\n",
        "        margin-left: 10px;\n",
        "        background-color: #ff80ff;\n",
        "    }\n",
        "\n",
        "    aside li {\n",
        "        padding-bottom: 10px;\n",
        "    }\n",
        "\n",
        "    footer {\n",
        "        margin-top: 10px;\n",
        "    }\n",
        "</style>\n",
        "<header>\n",
        "    <h1>Header</h1>\n",
        "</header>\n",
        "\n",
        "<nav>\n",
        "    <ul>\n",
        "        <li><a href=\"#\">Home</a></li>\n",
        "        <li><a href=\"#\">Our team</a></li>\n",
        "        <li><a href=\"#\">Projects</a></li>\n",
        "        <li><a href=\"#\">Contact</a></li>\n",
        "    </ul>\n",
        "\n",
        "    <!-- A Search form is another commmon non-linear way to navigate through a website. -->\n",
        "\n",
        "    <form>\n",
        "        <input type=\"search\" name=\"q\" placeholder=\"Search query\">\n",
        "        <input type=\"submit\" value=\"Go!\">\n",
        "    </form>\n",
        "</nav>\n",
        "\n",
        "<!-- Here is our page's main content -->\n",
        "<main>\n",
        "\n",
        "    <!-- It contains an article -->\n",
        "    <article>\n",
        "        <h2>Article heading</h2>\n",
        "\n",
        "        <p>Lorem ipsum dolor sit amet, consectetur adipisicing elit. Donec a diam lectus. Set sit amet ipsum mauris.\n",
        "            Maecenas congue ligula as quam viverra nec consectetur ant hendrerit. Donec et mollis dolor. Praesent et\n",
        "            diam eget libero egestas mattis sit amet vitae augue. Nam tincidunt congue enim, ut porta lorem lacinia\n",
        "            consectetur.</p>\n",
        "\n",
        "        <h3>subsection</h3>\n",
        "\n",
        "        <p>Donec ut librero sed accu vehicula ultricies a non tortor. Lorem ipsum dolor sit amet, consectetur\n",
        "            adipisicing elit. Aenean ut gravida lorem. Ut turpis felis, pulvinar a semper sed, adipiscing id dolor.\n",
        "        </p>\n",
        "\n",
        "        <p>Pelientesque auctor nisi id magna consequat sagittis. Curabitur dapibus, enim sit amet elit pharetra\n",
        "            tincidunt feugiat nist imperdiet. Ut convallis libero in urna ultrices accumsan. Donec sed odio eros.\n",
        "        </p>\n",
        "\n",
        "        <h3>Another subsection</h3>\n",
        "\n",
        "        <p>Donec viverra mi quis quam pulvinar at malesuada arcu rhoncus. Cum soclis natoque penatibus et manis dis\n",
        "            parturient montes, nascetur ridiculus mus. In rutrum accumsan ultricies. Mauris vitae nisi at sem\n",
        "            facilisis semper ac in est.</p>\n",
        "\n",
        "        <p>Vivamus fermentum semper porta. Nunc diam velit, adipscing ut tristique vitae sagittis vel odio. Maecenas\n",
        "            convallis ullamcorper ultricied. Curabitur ornare, ligula semper consectetur sagittis, nisi diam iaculis\n",
        "            velit, is fringille sem nunc vet mi.</p>\n",
        "    </article>\n",
        "\n",
        "    <!-- the aside content can also be nested within the main content -->\n",
        "    <aside>\n",
        "        <h2>Related</h2>\n",
        "\n",
        "        <ul>\n",
        "            <li><a href=\"#\">Oh I do like to be beside the seaside</a></li>\n",
        "            <li><a href=\"#\">Oh I do like to be beside the sea</a></li>\n",
        "            <li><a href=\"#\">Although in the North of England</a></li>\n",
        "            <li><a href=\"#\">It never stops raining</a></li>\n",
        "            <li><a href=\"#\">Oh well...</a></li>\n",
        "        </ul>\n",
        "    </aside>\n",
        "\n",
        "</main>\n",
        "\n",
        "<!-- And here is our main footer that is used across all the pages of our website -->\n",
        "\n",
        "<footer>\n",
        "    <p>©Copyright 2050 by nobody. All rights reversed.</p>\n",
        "</footer>\n",
        "\n",
        "</body>"
      ],
      "execution_count": null,
      "outputs": [
        {
          "output_type": "display_data",
          "data": {
            "text/html": [
              "<style>\n",
              "    /* || General setup */\n",
              "\n",
              "    html,\n",
              "    body {\n",
              "        margin: 0;\n",
              "        padding: 0;\n",
              "    }\n",
              "\n",
              "    html {\n",
              "        font-size: 10px;\n",
              "        background-color: #a9a9a9;\n",
              "    }\n",
              "\n",
              "    body {\n",
              "        width: 70%;\n",
              "        margin: 0 auto;\n",
              "    }\n",
              "\n",
              "    /* || typography */\n",
              "\n",
              "    h1,\n",
              "    h2,\n",
              "    h3 {\n",
              "        font-family: 'Sonsie One', cursive;\n",
              "        color: #2a2a2a;\n",
              "    }\n",
              "\n",
              "    p,\n",
              "    input,\n",
              "    li {\n",
              "        font-family: 'Open Sans Condensed', sans-serif;\n",
              "        color: #2a2a2a;\n",
              "    }\n",
              "\n",
              "    h1 {\n",
              "        font-size: 4rem;\n",
              "        text-align: center;\n",
              "        color: white;\n",
              "        text-shadow: 2px 2px 10px black;\n",
              "    }\n",
              "\n",
              "    h2 {\n",
              "        font-size: 3rem;\n",
              "        text-align: center;\n",
              "    }\n",
              "\n",
              "    h3 {\n",
              "        font-size: 2.2rem;\n",
              "    }\n",
              "\n",
              "    p,\n",
              "    li {\n",
              "        font-size: 1.6rem;\n",
              "        line-height: 1.5;\n",
              "    }\n",
              "\n",
              "    /* || header layout */\n",
              "\n",
              "    nav,\n",
              "    article,\n",
              "    aside,\n",
              "    footer {\n",
              "        background-color: white;\n",
              "        padding: 1%;\n",
              "    }\n",
              "\n",
              "    nav {\n",
              "        height: 50px;\n",
              "        background-color: #ff80ff;\n",
              "        display: flex;\n",
              "        margin-bottom: 10px;\n",
              "    }\n",
              "\n",
              "    nav ul {\n",
              "        padding: 0;\n",
              "        list-style-type: none;\n",
              "        flex: 2;\n",
              "        display: flex;\n",
              "    }\n",
              "\n",
              "    nav li {\n",
              "        display: inline;\n",
              "        text-align: center;\n",
              "        flex: 1;\n",
              "    }\n",
              "\n",
              "    nav a {\n",
              "        display: inline-block;\n",
              "        font-size: 2rem;\n",
              "        text-transform: uppercase;\n",
              "        text-decoration: none;\n",
              "        color: black;\n",
              "    }\n",
              "\n",
              "    nav form {\n",
              "        flex: 1;\n",
              "        display: flex;\n",
              "        align-items: center;\n",
              "        height: 100%;\n",
              "        padding: 0 2em;\n",
              "    }\n",
              "\n",
              "    input {\n",
              "        font-size: 1.6rem;\n",
              "        height: 32px;\n",
              "    }\n",
              "\n",
              "    input[type=\"search\"] {\n",
              "        flex: 3;\n",
              "    }\n",
              "\n",
              "    input[type=\"submit\"] {\n",
              "        flex: 1;\n",
              "        margin-left: 1rem;\n",
              "        background: #333;\n",
              "        border: 0;\n",
              "        color: white;\n",
              "    }\n",
              "\n",
              "    /* || main layout */\n",
              "\n",
              "    main {\n",
              "        display: flex;\n",
              "    }\n",
              "\n",
              "    article {\n",
              "        flex: 4;\n",
              "    }\n",
              "\n",
              "    aside {\n",
              "        flex: 1;\n",
              "        margin-left: 10px;\n",
              "        background-color: #ff80ff;\n",
              "    }\n",
              "\n",
              "    aside li {\n",
              "        padding-bottom: 10px;\n",
              "    }\n",
              "\n",
              "    footer {\n",
              "        margin-top: 10px;\n",
              "    }\n",
              "</style>\n",
              "<header>\n",
              "    <h1>Header</h1>\n",
              "</header>\n",
              "\n",
              "<nav>\n",
              "    <ul>\n",
              "        <li><a href=\"#\">Home</a></li>\n",
              "        <li><a href=\"#\">Our team</a></li>\n",
              "        <li><a href=\"#\">Projects</a></li>\n",
              "        <li><a href=\"#\">Contact</a></li>\n",
              "    </ul>\n",
              "\n",
              "    <!-- A Search form is another commmon non-linear way to navigate through a website. -->\n",
              "\n",
              "    <form>\n",
              "        <input type=\"search\" name=\"q\" placeholder=\"Search query\">\n",
              "        <input type=\"submit\" value=\"Go!\">\n",
              "    </form>\n",
              "</nav>\n",
              "\n",
              "<!-- Here is our page's main content -->\n",
              "<main>\n",
              "\n",
              "    <!-- It contains an article -->\n",
              "    <article>\n",
              "        <h2>Article heading</h2>\n",
              "\n",
              "        <p>Lorem ipsum dolor sit amet, consectetur adipisicing elit. Donec a diam lectus. Set sit amet ipsum mauris.\n",
              "            Maecenas congue ligula as quam viverra nec consectetur ant hendrerit. Donec et mollis dolor. Praesent et\n",
              "            diam eget libero egestas mattis sit amet vitae augue. Nam tincidunt congue enim, ut porta lorem lacinia\n",
              "            consectetur.</p>\n",
              "\n",
              "        <h3>subsection</h3>\n",
              "\n",
              "        <p>Donec ut librero sed accu vehicula ultricies a non tortor. Lorem ipsum dolor sit amet, consectetur\n",
              "            adipisicing elit. Aenean ut gravida lorem. Ut turpis felis, pulvinar a semper sed, adipiscing id dolor.\n",
              "        </p>\n",
              "\n",
              "        <p>Pelientesque auctor nisi id magna consequat sagittis. Curabitur dapibus, enim sit amet elit pharetra\n",
              "            tincidunt feugiat nist imperdiet. Ut convallis libero in urna ultrices accumsan. Donec sed odio eros.\n",
              "        </p>\n",
              "\n",
              "        <h3>Another subsection</h3>\n",
              "\n",
              "        <p>Donec viverra mi quis quam pulvinar at malesuada arcu rhoncus. Cum soclis natoque penatibus et manis dis\n",
              "            parturient montes, nascetur ridiculus mus. In rutrum accumsan ultricies. Mauris vitae nisi at sem\n",
              "            facilisis semper ac in est.</p>\n",
              "\n",
              "        <p>Vivamus fermentum semper porta. Nunc diam velit, adipscing ut tristique vitae sagittis vel odio. Maecenas\n",
              "            convallis ullamcorper ultricied. Curabitur ornare, ligula semper consectetur sagittis, nisi diam iaculis\n",
              "            velit, is fringille sem nunc vet mi.</p>\n",
              "    </article>\n",
              "\n",
              "    <!-- the aside content can also be nested within the main content -->\n",
              "    <aside>\n",
              "        <h2>Related</h2>\n",
              "\n",
              "        <ul>\n",
              "            <li><a href=\"#\">Oh I do like to be beside the seaside</a></li>\n",
              "            <li><a href=\"#\">Oh I do like to be beside the sea</a></li>\n",
              "            <li><a href=\"#\">Although in the North of England</a></li>\n",
              "            <li><a href=\"#\">It never stops raining</a></li>\n",
              "            <li><a href=\"#\">Oh well...</a></li>\n",
              "        </ul>\n",
              "    </aside>\n",
              "\n",
              "</main>\n",
              "\n",
              "<!-- And here is our main footer that is used across all the pages of our website -->\n",
              "\n",
              "<footer>\n",
              "    <p>©Copyright 2050 by nobody. All rights reversed.</p>\n",
              "</footer>\n",
              "\n",
              "</body>"
            ],
            "text/plain": [
              "<IPython.core.display.HTML object>"
            ]
          },
          "metadata": {
            "tags": []
          }
        }
      ]
    },
    {
      "cell_type": "markdown",
      "metadata": {
        "id": "CJwmLrUL1Ftv"
      },
      "source": [
        "# span と div\n",
        "span と div は使いすぎると煩雑になるので注意、とか。"
      ]
    },
    {
      "cell_type": "code",
      "metadata": {
        "id": "e6pyCi3V1RkY",
        "colab": {
          "base_uri": "https://localhost:8080/",
          "height": 64
        },
        "outputId": "482cecf6-210d-47af-c379-bf2d0f611a22"
      },
      "source": [
        "%%html\n",
        "<p>The King walked drunkenly back to his room at 01:00, the beer doing nothing to aid him as he staggered through the door \n",
        "    <span class=\"editor-note\">\n",
        "        [Editor's note: At this point in the play, the lights should be down low]\n",
        "    </span>.\n",
        "</p>"
      ],
      "execution_count": null,
      "outputs": [
        {
          "output_type": "display_data",
          "data": {
            "text/html": [
              "<p>The King walked drunkenly back to his room at 01:00, the beer doing nothing to aid him as he staggered through the door \n",
              "    <span class=\"editor-note\">\n",
              "        [Editor's note: At this point in the play, the lights should be down low]\n",
              "    </span>.\n",
              "</p>"
            ],
            "text/plain": [
              "<IPython.core.display.HTML object>"
            ]
          },
          "metadata": {
            "tags": []
          }
        }
      ]
    },
    {
      "cell_type": "code",
      "metadata": {
        "id": "ntGZIfZN1YWn",
        "colab": {
          "resources": {
            "http://localhost:8080/products/3333-0985/thumb.png": {
              "data": "CjwhRE9DVFlQRSBodG1sPgo8aHRtbCBsYW5nPWVuPgogIDxtZXRhIGNoYXJzZXQ9dXRmLTg+CiAgPG1ldGEgbmFtZT12aWV3cG9ydCBjb250ZW50PSJpbml0aWFsLXNjYWxlPTEsIG1pbmltdW0tc2NhbGU9MSwgd2lkdGg9ZGV2aWNlLXdpZHRoIj4KICA8dGl0bGU+RXJyb3IgNDA0IChOb3QgRm91bmQpISExPC90aXRsZT4KICA8c3R5bGU+CiAgICAqe21hcmdpbjowO3BhZGRpbmc6MH1odG1sLGNvZGV7Zm9udDoxNXB4LzIycHggYXJpYWwsc2Fucy1zZXJpZn1odG1se2JhY2tncm91bmQ6I2ZmZjtjb2xvcjojMjIyO3BhZGRpbmc6MTVweH1ib2R5e21hcmdpbjo3JSBhdXRvIDA7bWF4LXdpZHRoOjM5MHB4O21pbi1oZWlnaHQ6MTgwcHg7cGFkZGluZzozMHB4IDAgMTVweH0qID4gYm9keXtiYWNrZ3JvdW5kOnVybCgvL3d3dy5nb29nbGUuY29tL2ltYWdlcy9lcnJvcnMvcm9ib3QucG5nKSAxMDAlIDVweCBuby1yZXBlYXQ7cGFkZGluZy1yaWdodDoyMDVweH1we21hcmdpbjoxMXB4IDAgMjJweDtvdmVyZmxvdzpoaWRkZW59aW5ze2NvbG9yOiM3Nzc7dGV4dC1kZWNvcmF0aW9uOm5vbmV9YSBpbWd7Ym9yZGVyOjB9QG1lZGlhIHNjcmVlbiBhbmQgKG1heC13aWR0aDo3NzJweCl7Ym9keXtiYWNrZ3JvdW5kOm5vbmU7bWFyZ2luLXRvcDowO21heC13aWR0aDpub25lO3BhZGRpbmctcmlnaHQ6MH19I2xvZ297YmFja2dyb3VuZDp1cmwoLy93d3cuZ29vZ2xlLmNvbS9pbWFnZXMvbG9nb3MvZXJyb3JwYWdlL2Vycm9yX2xvZ28tMTUweDU0LnBuZykgbm8tcmVwZWF0O21hcmdpbi1sZWZ0Oi01cHh9QG1lZGlhIG9ubHkgc2NyZWVuIGFuZCAobWluLXJlc29sdXRpb246MTkyZHBpKXsjbG9nb3tiYWNrZ3JvdW5kOnVybCgvL3d3dy5nb29nbGUuY29tL2ltYWdlcy9sb2dvcy9lcnJvcnBhZ2UvZXJyb3JfbG9nby0xNTB4NTQtMngucG5nKSBuby1yZXBlYXQgMCUgMCUvMTAwJSAxMDAlOy1tb3otYm9yZGVyLWltYWdlOnVybCgvL3d3dy5nb29nbGUuY29tL2ltYWdlcy9sb2dvcy9lcnJvcnBhZ2UvZXJyb3JfbG9nby0xNTB4NTQtMngucG5nKSAwfX1AbWVkaWEgb25seSBzY3JlZW4gYW5kICgtd2Via2l0LW1pbi1kZXZpY2UtcGl4ZWwtcmF0aW86Mil7I2xvZ297YmFja2dyb3VuZDp1cmwoLy93d3cuZ29vZ2xlLmNvbS9pbWFnZXMvbG9nb3MvZXJyb3JwYWdlL2Vycm9yX2xvZ28tMTUweDU0LTJ4LnBuZykgbm8tcmVwZWF0Oy13ZWJraXQtYmFja2dyb3VuZC1zaXplOjEwMCUgMTAwJX19I2xvZ297ZGlzcGxheTppbmxpbmUtYmxvY2s7aGVpZ2h0OjU0cHg7d2lkdGg6MTUwcHh9CiAgPC9zdHlsZT4KICA8YSBocmVmPS8vd3d3Lmdvb2dsZS5jb20vPjxzcGFuIGlkPWxvZ28gYXJpYS1sYWJlbD1Hb29nbGU+PC9zcGFuPjwvYT4KICA8cD48Yj40MDQuPC9iPiA8aW5zPlRoYXTigJlzIGFuIGVycm9yLjwvaW5zPgogIDxwPiAgPGlucz5UaGF04oCZcyBhbGwgd2Uga25vdy48L2lucz4K",
              "ok": false,
              "headers": [
                [
                  "content-length",
                  "1449"
                ],
                [
                  "content-type",
                  "text/html; charset=utf-8"
                ]
              ],
              "status": 404,
              "status_text": ""
            }
          },
          "base_uri": "https://localhost:8080/",
          "height": 154
        },
        "outputId": "00399425-6319-4062-ab86-be1a95d75bc2"
      },
      "source": [
        "%%html\n",
        "<div class=\"shopping-cart\">\n",
        "    <h2>Shopping cart</h2>\n",
        "    <ul>\n",
        "        <li>\n",
        "            <p><a href=\"\"><strong>Silver earrings</strong></a>: $99.95.</p>\n",
        "            <img src=\"../products/3333-0985/thumb.png\" alt=\"Silver earrings\">\n",
        "        </li>\n",
        "        <li>\n",
        "            ...\n",
        "        </li>\n",
        "    </ul>\n",
        "    <p>Total cost: $237.89</p>\n",
        "</div>"
      ],
      "execution_count": null,
      "outputs": [
        {
          "output_type": "display_data",
          "data": {
            "text/html": [
              "<div class=\"shopping-cart\">\n",
              "    <h2>Shopping cart</h2>\n",
              "    <ul>\n",
              "        <li>\n",
              "            <p><a href=\"\"><strong>Silver earrings</strong></a>: $99.95.</p>\n",
              "            <img src=\"../products/3333-0985/thumb.png\" alt=\"Silver earrings\">\n",
              "        </li>\n",
              "        <li>\n",
              "            ...\n",
              "        </li>\n",
              "    </ul>\n",
              "    <p>Total cost: $237.89</p>\n",
              "</div>"
            ],
            "text/plain": [
              "<IPython.core.display.HTML object>"
            ]
          },
          "metadata": {
            "tags": []
          }
        }
      ]
    },
    {
      "cell_type": "code",
      "metadata": {
        "id": "TlTLwI7W12cY",
        "colab": {
          "base_uri": "https://localhost:8080/",
          "height": 99
        },
        "outputId": "92fd05db-c7b4-408b-f18a-1d26853e63e8"
      },
      "source": [
        "# br\n",
        "%%html\n",
        "<p>There once was a girl called Nell<br>\n",
        "    Who loved to write HTML<br>\n",
        "    But her structure was bad, her semantics were sad<br>\n",
        "    and her markup didn't read very well.</p>"
      ],
      "execution_count": null,
      "outputs": [
        {
          "output_type": "display_data",
          "data": {
            "text/html": [
              "<p>There once was a girl called Nell<br>\n",
              "    Who loved to write HTML<br>\n",
              "    But her structure was bad, her semantics were sad<br>\n",
              "    and her markup didn't read very well.</p>"
            ],
            "text/plain": [
              "<IPython.core.display.HTML object>"
            ]
          },
          "metadata": {
            "tags": []
          }
        }
      ]
    },
    {
      "cell_type": "code",
      "metadata": {
        "id": "wR_GX11O17-B",
        "colab": {
          "base_uri": "https://localhost:8080/",
          "height": 132
        },
        "outputId": "83eff9e8-1c0a-4410-c3b7-66a32065e275"
      },
      "source": [
        "# hr\n",
        "%%html\n",
        "<p>ロンは荒廃した地獄の獣たちによって隅に追いやられた。怖がっていたが、彼の友達を守ることを決心していたので、彼は自分の杖を上げて戦いをする準備をした。</p>\n",
        "<hr>\n",
        "<p>その間、ハリーは家に座って、彼の使用料の声明を見つめてそして魅惑の苦痛の手紙が彼の窓を通って飛んで、そして彼の膝に着陸したときに次のスピンオフシリーズが出るだろう時を考えました。彼はそれをぼんやりと読んでため息をついた。「その時は仕事に戻るほうがいい」と彼は言った。\n",
        "</p>"
      ],
      "execution_count": null,
      "outputs": [
        {
          "output_type": "display_data",
          "data": {
            "text/html": [
              "<p>ロンは荒廃した地獄の獣たちによって隅に追いやられた。怖がっていたが、彼の友達を守ることを決心していたので、彼は自分の杖を上げて戦いをする準備をした。</p>\n",
              "<hr>\n",
              "<p>その間、ハリーは家に座って、彼の使用料の声明を見つめてそして魅惑の苦痛の手紙が彼の窓を通って飛んで、そして彼の膝に着陸したときに次のスピンオフシリーズが出るだろう時を考えました。彼はそれをぼんやりと読んでため息をついた。「その時は仕事に戻るほうがいい」と彼は言った。\n",
              "</p>"
            ],
            "text/plain": [
              "<IPython.core.display.HTML object>"
            ]
          },
          "metadata": {
            "tags": []
          }
        }
      ]
    },
    {
      "cell_type": "markdown",
      "metadata": {
        "id": "V_ENI9ZI85WV"
      },
      "source": [
        "# https://validator.w3.org/\n",
        "ここで html のチェックをしてくれる!!!!\n"
      ]
    },
    {
      "cell_type": "markdown",
      "metadata": {
        "id": "A87J2s5H9HrB"
      },
      "source": [
        "# 手紙をマークアップする"
      ]
    },
    {
      "cell_type": "code",
      "metadata": {
        "id": "bxg0OZPMKVL6",
        "colab": {
          "base_uri": "https://localhost:8080/",
          "height": 1000
        },
        "collapsed": true,
        "outputId": "5aad63ef-87ba-4781-b337-c8e70a5bcdd8"
      },
      "source": [
        "#@title コードを非表示、隠す\n",
        "# 手紙をマークアップする\n",
        "%%html\n",
        "<style>\n",
        "    body {\n",
        "        max-width: 800px;\n",
        "        margin: 0 auto;\n",
        "    }\n",
        "\n",
        "    .sender-column {\n",
        "        text-align: right;\n",
        "    }\n",
        "\n",
        "    h1 {\n",
        "        font-size: 1.5em;\n",
        "    }\n",
        "\n",
        "    h2 {\n",
        "        font-size: 1.3em;\n",
        "    }\n",
        "\n",
        "    p,\n",
        "    ul,\n",
        "    ol,\n",
        "    dl,\n",
        "    address {\n",
        "        font-size: 1.1em;\n",
        "    }\n",
        "\n",
        "    p,\n",
        "    li,\n",
        "    dd,\n",
        "    dt,\n",
        "    address {\n",
        "        line-height: 1.5;\n",
        "    }\n",
        "</style>\n",
        "\n",
        "<body>\n",
        "    <p class=\"sender-column\"><strong>Dr. Eleanor Gaye</strong><br>\n",
        "        Awesome Science faculty<br>\n",
        "        University of Awesome<br>\n",
        "        Bobtown, CA 99999,<br>\n",
        "        USA<br>\n",
        "        <strong>Tel:</strong> 123-456-7890<br>\n",
        "        <strong>Email:</strong> no_reply@example.com\n",
        "    </p>\n",
        "\n",
        "    <p class=\"receiver-column\"><time datetime=\"2016-01-20\">20 January 2016</time></p>\n",
        "\n",
        "    <p><strong>Miss Eileen Dover</strong><br>\n",
        "        4321 Cliff Top Edge<br>\n",
        "        Dover, CT9 XXX<br>\n",
        "        UK</p><br>\n",
        "\n",
        "\n",
        "    <h1>Re: Eileen Dover university application</h1>\n",
        "\n",
        "    <p>Dear Eileen,</p>\n",
        "\n",
        "    <p>Thank you for your recent application to join us at the University of Awesome's\n",
        "        science faculty to study as part of your <abbr title=\"Doctor of Philosophy\">PhD\n",
        "        </abbr> next year. I will answer your questions one by one, in the following sections.</p>\n",
        "\n",
        "\n",
        "    <h2>Starting dates</h2>\n",
        "\n",
        "    <p>We are happy to accomodate you starting your study with us at any time, however\n",
        "        it would suit us better if you could start at the beginning of a semester; the start\n",
        "        dates for each one are as follows:</p>\n",
        "    <ul>\n",
        "        <li>First semester: <time datetime=\"2016-09-09\">9 September 2016</time></li>\n",
        "        <li>Second semester: <time datetime=\"2017-01-15\">15 January 2017</time></li>\n",
        "        <li>Third semester: <time datetime=\"2017-05-02\">2 May 2017</time></li>\n",
        "    </ul>\n",
        "\n",
        "    <p>Please let me know if this is ok, and if so which start date you would prefer.<br>\n",
        "\n",
        "        You can find more information about <a href=\"http://example.com\" target=\"_blank\"\n",
        "            title=\"important uni dates\">important university dates on our website.</a></p>\n",
        "\n",
        "\n",
        "    <h2>Subjects of study</h2>\n",
        "\n",
        "    <p>At the Awesome Science Faculty, we have a pretty open-minded research facility —\n",
        "        as long as the subjects fall somewhere in the realm of science and technology.\n",
        "        You seem like an intelligent, dedicated researcher, and just the kind of person we'd\n",
        "        like to have on our team. Saying that, of the ideas you submitted we were most\n",
        "        intrigued by are as follows, in order of priority:</p>\n",
        "    <ol>\n",
        "        <li>Turning H<sub>2</sub>O into wine, and the health benefits of Resveratrol\n",
        "            (C<sub>14</sub>H<sub>12</sub>O<sub>3</sub>.)</li>\n",
        "        <li>Measuring the effect on performance of funk bassplayers at tempratures exceeding\n",
        "            30<sup>o</sup>C (86<sup>o</sup>F), when the audience size exponentially increases\n",
        "            (effect of 3 &times; 10<sup>3</sup> &gt; 3 &times; 10<sup>4</sup>.)</li>\n",
        "        <li><abbr title=\"HyperText Markup Language\">HTML</abbr> and <abbr title=\"Cascading Style Sheet\">\n",
        "                CSS</abbr> constructs for representing musical scores.</li>\n",
        "    </ol>\n",
        "\n",
        "    <p>So please can you provide more information on each of these subjects, including how\n",
        "        long you'd expect the research to take, required staff and other resources, and anything\n",
        "        else you think we'd need to know? Thanks.</p>\n",
        "\n",
        "\n",
        "    <h2>Exotic dance moves</h2>\n",
        "\n",
        "    <p>Yes, you are right! As part of my post-doctorate work, I <em>did</em> study exotic tribal dances.\n",
        "        To answer your question, my favourite dances are as follows, with definitions:</p>\n",
        "    <dl>\n",
        "        <dt>Polynesian chicken dance</dt>\n",
        "        <dd>A little known but <em>very</em> influential dance dating back as far as\n",
        "            300<abbr title=\"Before Christ\">BC</abbr>, a whole village would dance around in\n",
        "            a circle like chickens, to encourage their livestock or be \"fruitful\".</dd>\n",
        "        <dt>Icelandic brownian shuffle</dt>\n",
        "        <dd>Before the Icelanders developed fire as a means of getting warm, they used\n",
        "            to practice this dance, which involved huddling close together in a circle on\n",
        "            the floor, and shuffling their bodies around in imperceptably tiny, very rapid movements.\n",
        "            One of my fellow students used to say that he thought this dance inspired\n",
        "            modern styles such as Twerking.</dd>\n",
        "        <dt>Arctic robot dance</dt>\n",
        "        <dd>An interesting example of historic misinformation, English explorers in the 1960s\n",
        "            believed to have discovered a new dance style characterised by \"robotic\",\n",
        "            stilted movements, being practiced by inhabitants of Northern Alaska and Canada.\n",
        "            Later on however it was discovered that they were just moving like this because\n",
        "            they were really cold.</dd>\n",
        "    </dl>\n",
        "\n",
        "    <p>For more of my research, see my <a href=\"http://example.com\" target=\"_blank\"\n",
        "            title=\"exotic dance research page\">exotic dance research page.</a></p>\n",
        "\n",
        "    <p>Yours sincerely,<br><br><br><br>\n",
        "        Dr. Eleanor Gaye</p>\n",
        "\n",
        "    <p>University of Awesome motto: <q cite=\"Bill S Preston, Esq\">Be awesome to each other.</q>\n",
        "        -- <cite>Bill S Preston, <abbr title=\"Esquire\">Esq</abbr></cite></p>\n",
        "\n",
        "</body>"
      ],
      "execution_count": null,
      "outputs": [
        {
          "output_type": "display_data",
          "data": {
            "text/html": [
              "<style>\n",
              "    body {\n",
              "        max-width: 800px;\n",
              "        margin: 0 auto;\n",
              "    }\n",
              "\n",
              "    .sender-column {\n",
              "        text-align: right;\n",
              "    }\n",
              "\n",
              "    h1 {\n",
              "        font-size: 1.5em;\n",
              "    }\n",
              "\n",
              "    h2 {\n",
              "        font-size: 1.3em;\n",
              "    }\n",
              "\n",
              "    p,\n",
              "    ul,\n",
              "    ol,\n",
              "    dl,\n",
              "    address {\n",
              "        font-size: 1.1em;\n",
              "    }\n",
              "\n",
              "    p,\n",
              "    li,\n",
              "    dd,\n",
              "    dt,\n",
              "    address {\n",
              "        line-height: 1.5;\n",
              "    }\n",
              "</style>\n",
              "\n",
              "<body>\n",
              "    <p class=\"sender-column\"><strong>Dr. Eleanor Gaye</strong><br>\n",
              "        Awesome Science faculty<br>\n",
              "        University of Awesome<br>\n",
              "        Bobtown, CA 99999,<br>\n",
              "        USA<br>\n",
              "        <strong>Tel:</strong> 123-456-7890<br>\n",
              "        <strong>Email:</strong> no_reply@example.com\n",
              "    </p>\n",
              "\n",
              "    <p class=\"receiver-column\"><time datetime=\"2016-01-20\">20 January 2016</time></p>\n",
              "\n",
              "    <p><strong>Miss Eileen Dover</strong><br>\n",
              "        4321 Cliff Top Edge<br>\n",
              "        Dover, CT9 XXX<br>\n",
              "        UK</p><br>\n",
              "\n",
              "\n",
              "    <h1>Re: Eileen Dover university application</h1>\n",
              "\n",
              "    <p>Dear Eileen,</p>\n",
              "\n",
              "    <p>Thank you for your recent application to join us at the University of Awesome's\n",
              "        science faculty to study as part of your <abbr title=\"Doctor of Philosophy\">PhD\n",
              "        </abbr> next year. I will answer your questions one by one, in the following sections.</p>\n",
              "\n",
              "\n",
              "    <h2>Starting dates</h2>\n",
              "\n",
              "    <p>We are happy to accomodate you starting your study with us at any time, however\n",
              "        it would suit us better if you could start at the beginning of a semester; the start\n",
              "        dates for each one are as follows:</p>\n",
              "    <ul>\n",
              "        <li>First semester: <time datetime=\"2016-09-09\">9 September 2016</time></li>\n",
              "        <li>Second semester: <time datetime=\"2017-01-15\">15 January 2017</time></li>\n",
              "        <li>Third semester: <time datetime=\"2017-05-02\">2 May 2017</time></li>\n",
              "    </ul>\n",
              "\n",
              "    <p>Please let me know if this is ok, and if so which start date you would prefer.<br>\n",
              "\n",
              "        You can find more information about <a href=\"http://example.com\" target=\"_blank\"\n",
              "            title=\"important uni dates\">important university dates on our website.</a></p>\n",
              "\n",
              "\n",
              "    <h2>Subjects of study</h2>\n",
              "\n",
              "    <p>At the Awesome Science Faculty, we have a pretty open-minded research facility —\n",
              "        as long as the subjects fall somewhere in the realm of science and technology.\n",
              "        You seem like an intelligent, dedicated researcher, and just the kind of person we'd\n",
              "        like to have on our team. Saying that, of the ideas you submitted we were most\n",
              "        intrigued by are as follows, in order of priority:</p>\n",
              "    <ol>\n",
              "        <li>Turning H<sub>2</sub>O into wine, and the health benefits of Resveratrol\n",
              "            (C<sub>14</sub>H<sub>12</sub>O<sub>3</sub>.)</li>\n",
              "        <li>Measuring the effect on performance of funk bassplayers at tempratures exceeding\n",
              "            30<sup>o</sup>C (86<sup>o</sup>F), when the audience size exponentially increases\n",
              "            (effect of 3 &times; 10<sup>3</sup> &gt; 3 &times; 10<sup>4</sup>.)</li>\n",
              "        <li><abbr title=\"HyperText Markup Language\">HTML</abbr> and <abbr title=\"Cascading Style Sheet\">\n",
              "                CSS</abbr> constructs for representing musical scores.</li>\n",
              "    </ol>\n",
              "\n",
              "    <p>So please can you provide more information on each of these subjects, including how\n",
              "        long you'd expect the research to take, required staff and other resources, and anything\n",
              "        else you think we'd need to know? Thanks.</p>\n",
              "\n",
              "\n",
              "    <h2>Exotic dance moves</h2>\n",
              "\n",
              "    <p>Yes, you are right! As part of my post-doctorate work, I <em>did</em> study exotic tribal dances.\n",
              "        To answer your question, my favourite dances are as follows, with definitions:</p>\n",
              "    <dl>\n",
              "        <dt>Polynesian chicken dance</dt>\n",
              "        <dd>A little known but <em>very</em> influential dance dating back as far as\n",
              "            300<abbr title=\"Before Christ\">BC</abbr>, a whole village would dance around in\n",
              "            a circle like chickens, to encourage their livestock or be \"fruitful\".</dd>\n",
              "        <dt>Icelandic brownian shuffle</dt>\n",
              "        <dd>Before the Icelanders developed fire as a means of getting warm, they used\n",
              "            to practice this dance, which involved huddling close together in a circle on\n",
              "            the floor, and shuffling their bodies around in imperceptably tiny, very rapid movements.\n",
              "            One of my fellow students used to say that he thought this dance inspired\n",
              "            modern styles such as Twerking.</dd>\n",
              "        <dt>Arctic robot dance</dt>\n",
              "        <dd>An interesting example of historic misinformation, English explorers in the 1960s\n",
              "            believed to have discovered a new dance style characterised by \"robotic\",\n",
              "            stilted movements, being practiced by inhabitants of Northern Alaska and Canada.\n",
              "            Later on however it was discovered that they were just moving like this because\n",
              "            they were really cold.</dd>\n",
              "    </dl>\n",
              "\n",
              "    <p>For more of my research, see my <a href=\"http://example.com\" target=\"_blank\"\n",
              "            title=\"exotic dance research page\">exotic dance research page.</a></p>\n",
              "\n",
              "    <p>Yours sincerely,<br><br><br><br>\n",
              "        Dr. Eleanor Gaye</p>\n",
              "\n",
              "    <p>University of Awesome motto: <q cite=\"Bill S Preston, Esq\">Be awesome to each other.</q>\n",
              "        -- <cite>Bill S Preston, <abbr title=\"Esquire\">Esq</abbr></cite></p>\n",
              "\n",
              "</body>"
            ],
            "text/plain": [
              "<IPython.core.display.HTML object>"
            ]
          },
          "metadata": {
            "tags": []
          }
        }
      ]
    },
    {
      "cell_type": "markdown",
      "metadata": {
        "id": "LZoI0AcXNMJn"
      },
      "source": [
        "# コンテンツページを構造化する"
      ]
    },
    {
      "cell_type": "code",
      "metadata": {
        "cellView": "form",
        "collapsed": true,
        "id": "KtleWmr0NPmF",
        "colab": {
          "resources": {
            "http://localhost:8080/dove.png": {
              "data": "CjwhRE9DVFlQRSBodG1sPgo8aHRtbCBsYW5nPWVuPgogIDxtZXRhIGNoYXJzZXQ9dXRmLTg+CiAgPG1ldGEgbmFtZT12aWV3cG9ydCBjb250ZW50PSJpbml0aWFsLXNjYWxlPTEsIG1pbmltdW0tc2NhbGU9MSwgd2lkdGg9ZGV2aWNlLXdpZHRoIj4KICA8dGl0bGU+RXJyb3IgNDA0IChOb3QgRm91bmQpISExPC90aXRsZT4KICA8c3R5bGU+CiAgICAqe21hcmdpbjowO3BhZGRpbmc6MH1odG1sLGNvZGV7Zm9udDoxNXB4LzIycHggYXJpYWwsc2Fucy1zZXJpZn1odG1se2JhY2tncm91bmQ6I2ZmZjtjb2xvcjojMjIyO3BhZGRpbmc6MTVweH1ib2R5e21hcmdpbjo3JSBhdXRvIDA7bWF4LXdpZHRoOjM5MHB4O21pbi1oZWlnaHQ6MTgwcHg7cGFkZGluZzozMHB4IDAgMTVweH0qID4gYm9keXtiYWNrZ3JvdW5kOnVybCgvL3d3dy5nb29nbGUuY29tL2ltYWdlcy9lcnJvcnMvcm9ib3QucG5nKSAxMDAlIDVweCBuby1yZXBlYXQ7cGFkZGluZy1yaWdodDoyMDVweH1we21hcmdpbjoxMXB4IDAgMjJweDtvdmVyZmxvdzpoaWRkZW59aW5ze2NvbG9yOiM3Nzc7dGV4dC1kZWNvcmF0aW9uOm5vbmV9YSBpbWd7Ym9yZGVyOjB9QG1lZGlhIHNjcmVlbiBhbmQgKG1heC13aWR0aDo3NzJweCl7Ym9keXtiYWNrZ3JvdW5kOm5vbmU7bWFyZ2luLXRvcDowO21heC13aWR0aDpub25lO3BhZGRpbmctcmlnaHQ6MH19I2xvZ297YmFja2dyb3VuZDp1cmwoLy93d3cuZ29vZ2xlLmNvbS9pbWFnZXMvbG9nb3MvZXJyb3JwYWdlL2Vycm9yX2xvZ28tMTUweDU0LnBuZykgbm8tcmVwZWF0O21hcmdpbi1sZWZ0Oi01cHh9QG1lZGlhIG9ubHkgc2NyZWVuIGFuZCAobWluLXJlc29sdXRpb246MTkyZHBpKXsjbG9nb3tiYWNrZ3JvdW5kOnVybCgvL3d3dy5nb29nbGUuY29tL2ltYWdlcy9sb2dvcy9lcnJvcnBhZ2UvZXJyb3JfbG9nby0xNTB4NTQtMngucG5nKSBuby1yZXBlYXQgMCUgMCUvMTAwJSAxMDAlOy1tb3otYm9yZGVyLWltYWdlOnVybCgvL3d3dy5nb29nbGUuY29tL2ltYWdlcy9sb2dvcy9lcnJvcnBhZ2UvZXJyb3JfbG9nby0xNTB4NTQtMngucG5nKSAwfX1AbWVkaWEgb25seSBzY3JlZW4gYW5kICgtd2Via2l0LW1pbi1kZXZpY2UtcGl4ZWwtcmF0aW86Mil7I2xvZ297YmFja2dyb3VuZDp1cmwoLy93d3cuZ29vZ2xlLmNvbS9pbWFnZXMvbG9nb3MvZXJyb3JwYWdlL2Vycm9yX2xvZ28tMTUweDU0LTJ4LnBuZykgbm8tcmVwZWF0Oy13ZWJraXQtYmFja2dyb3VuZC1zaXplOjEwMCUgMTAwJX19I2xvZ297ZGlzcGxheTppbmxpbmUtYmxvY2s7aGVpZ2h0OjU0cHg7d2lkdGg6MTUwcHh9CiAgPC9zdHlsZT4KICA8YSBocmVmPS8vd3d3Lmdvb2dsZS5jb20vPjxzcGFuIGlkPWxvZ28gYXJpYS1sYWJlbD1Hb29nbGU+PC9zcGFuPjwvYT4KICA8cD48Yj40MDQuPC9iPiA8aW5zPlRoYXTigJlzIGFuIGVycm9yLjwvaW5zPgogIDxwPiAgPGlucz5UaGF04oCZcyBhbGwgd2Uga25vdy48L2lucz4K",
              "ok": false,
              "headers": [
                [
                  "content-length",
                  "1449"
                ],
                [
                  "content-type",
                  "text/html; charset=utf-8"
                ]
              ],
              "status": 404,
              "status_text": ""
            },
            "http://localhost:8080/favorite-1_th.jpg": {
              "data": "CjwhRE9DVFlQRSBodG1sPgo8aHRtbCBsYW5nPWVuPgogIDxtZXRhIGNoYXJzZXQ9dXRmLTg+CiAgPG1ldGEgbmFtZT12aWV3cG9ydCBjb250ZW50PSJpbml0aWFsLXNjYWxlPTEsIG1pbmltdW0tc2NhbGU9MSwgd2lkdGg9ZGV2aWNlLXdpZHRoIj4KICA8dGl0bGU+RXJyb3IgNDA0IChOb3QgRm91bmQpISExPC90aXRsZT4KICA8c3R5bGU+CiAgICAqe21hcmdpbjowO3BhZGRpbmc6MH1odG1sLGNvZGV7Zm9udDoxNXB4LzIycHggYXJpYWwsc2Fucy1zZXJpZn1odG1se2JhY2tncm91bmQ6I2ZmZjtjb2xvcjojMjIyO3BhZGRpbmc6MTVweH1ib2R5e21hcmdpbjo3JSBhdXRvIDA7bWF4LXdpZHRoOjM5MHB4O21pbi1oZWlnaHQ6MTgwcHg7cGFkZGluZzozMHB4IDAgMTVweH0qID4gYm9keXtiYWNrZ3JvdW5kOnVybCgvL3d3dy5nb29nbGUuY29tL2ltYWdlcy9lcnJvcnMvcm9ib3QucG5nKSAxMDAlIDVweCBuby1yZXBlYXQ7cGFkZGluZy1yaWdodDoyMDVweH1we21hcmdpbjoxMXB4IDAgMjJweDtvdmVyZmxvdzpoaWRkZW59aW5ze2NvbG9yOiM3Nzc7dGV4dC1kZWNvcmF0aW9uOm5vbmV9YSBpbWd7Ym9yZGVyOjB9QG1lZGlhIHNjcmVlbiBhbmQgKG1heC13aWR0aDo3NzJweCl7Ym9keXtiYWNrZ3JvdW5kOm5vbmU7bWFyZ2luLXRvcDowO21heC13aWR0aDpub25lO3BhZGRpbmctcmlnaHQ6MH19I2xvZ297YmFja2dyb3VuZDp1cmwoLy93d3cuZ29vZ2xlLmNvbS9pbWFnZXMvbG9nb3MvZXJyb3JwYWdlL2Vycm9yX2xvZ28tMTUweDU0LnBuZykgbm8tcmVwZWF0O21hcmdpbi1sZWZ0Oi01cHh9QG1lZGlhIG9ubHkgc2NyZWVuIGFuZCAobWluLXJlc29sdXRpb246MTkyZHBpKXsjbG9nb3tiYWNrZ3JvdW5kOnVybCgvL3d3dy5nb29nbGUuY29tL2ltYWdlcy9sb2dvcy9lcnJvcnBhZ2UvZXJyb3JfbG9nby0xNTB4NTQtMngucG5nKSBuby1yZXBlYXQgMCUgMCUvMTAwJSAxMDAlOy1tb3otYm9yZGVyLWltYWdlOnVybCgvL3d3dy5nb29nbGUuY29tL2ltYWdlcy9sb2dvcy9lcnJvcnBhZ2UvZXJyb3JfbG9nby0xNTB4NTQtMngucG5nKSAwfX1AbWVkaWEgb25seSBzY3JlZW4gYW5kICgtd2Via2l0LW1pbi1kZXZpY2UtcGl4ZWwtcmF0aW86Mil7I2xvZ297YmFja2dyb3VuZDp1cmwoLy93d3cuZ29vZ2xlLmNvbS9pbWFnZXMvbG9nb3MvZXJyb3JwYWdlL2Vycm9yX2xvZ28tMTUweDU0LTJ4LnBuZykgbm8tcmVwZWF0Oy13ZWJraXQtYmFja2dyb3VuZC1zaXplOjEwMCUgMTAwJX19I2xvZ297ZGlzcGxheTppbmxpbmUtYmxvY2s7aGVpZ2h0OjU0cHg7d2lkdGg6MTUwcHh9CiAgPC9zdHlsZT4KICA8YSBocmVmPS8vd3d3Lmdvb2dsZS5jb20vPjxzcGFuIGlkPWxvZ28gYXJpYS1sYWJlbD1Hb29nbGU+PC9zcGFuPjwvYT4KICA8cD48Yj40MDQuPC9iPiA8aW5zPlRoYXTigJlzIGFuIGVycm9yLjwvaW5zPgogIDxwPiAgPGlucz5UaGF04oCZcyBhbGwgd2Uga25vdy48L2lucz4K",
              "ok": false,
              "headers": [
                [
                  "content-length",
                  "1449"
                ],
                [
                  "content-type",
                  "text/html; charset=utf-8"
                ]
              ],
              "status": 404,
              "status_text": ""
            },
            "http://localhost:8080/favorite-3_th.jpg": {
              "data": "CjwhRE9DVFlQRSBodG1sPgo8aHRtbCBsYW5nPWVuPgogIDxtZXRhIGNoYXJzZXQ9dXRmLTg+CiAgPG1ldGEgbmFtZT12aWV3cG9ydCBjb250ZW50PSJpbml0aWFsLXNjYWxlPTEsIG1pbmltdW0tc2NhbGU9MSwgd2lkdGg9ZGV2aWNlLXdpZHRoIj4KICA8dGl0bGU+RXJyb3IgNDA0IChOb3QgRm91bmQpISExPC90aXRsZT4KICA8c3R5bGU+CiAgICAqe21hcmdpbjowO3BhZGRpbmc6MH1odG1sLGNvZGV7Zm9udDoxNXB4LzIycHggYXJpYWwsc2Fucy1zZXJpZn1odG1se2JhY2tncm91bmQ6I2ZmZjtjb2xvcjojMjIyO3BhZGRpbmc6MTVweH1ib2R5e21hcmdpbjo3JSBhdXRvIDA7bWF4LXdpZHRoOjM5MHB4O21pbi1oZWlnaHQ6MTgwcHg7cGFkZGluZzozMHB4IDAgMTVweH0qID4gYm9keXtiYWNrZ3JvdW5kOnVybCgvL3d3dy5nb29nbGUuY29tL2ltYWdlcy9lcnJvcnMvcm9ib3QucG5nKSAxMDAlIDVweCBuby1yZXBlYXQ7cGFkZGluZy1yaWdodDoyMDVweH1we21hcmdpbjoxMXB4IDAgMjJweDtvdmVyZmxvdzpoaWRkZW59aW5ze2NvbG9yOiM3Nzc7dGV4dC1kZWNvcmF0aW9uOm5vbmV9YSBpbWd7Ym9yZGVyOjB9QG1lZGlhIHNjcmVlbiBhbmQgKG1heC13aWR0aDo3NzJweCl7Ym9keXtiYWNrZ3JvdW5kOm5vbmU7bWFyZ2luLXRvcDowO21heC13aWR0aDpub25lO3BhZGRpbmctcmlnaHQ6MH19I2xvZ297YmFja2dyb3VuZDp1cmwoLy93d3cuZ29vZ2xlLmNvbS9pbWFnZXMvbG9nb3MvZXJyb3JwYWdlL2Vycm9yX2xvZ28tMTUweDU0LnBuZykgbm8tcmVwZWF0O21hcmdpbi1sZWZ0Oi01cHh9QG1lZGlhIG9ubHkgc2NyZWVuIGFuZCAobWluLXJlc29sdXRpb246MTkyZHBpKXsjbG9nb3tiYWNrZ3JvdW5kOnVybCgvL3d3dy5nb29nbGUuY29tL2ltYWdlcy9sb2dvcy9lcnJvcnBhZ2UvZXJyb3JfbG9nby0xNTB4NTQtMngucG5nKSBuby1yZXBlYXQgMCUgMCUvMTAwJSAxMDAlOy1tb3otYm9yZGVyLWltYWdlOnVybCgvL3d3dy5nb29nbGUuY29tL2ltYWdlcy9sb2dvcy9lcnJvcnBhZ2UvZXJyb3JfbG9nby0xNTB4NTQtMngucG5nKSAwfX1AbWVkaWEgb25seSBzY3JlZW4gYW5kICgtd2Via2l0LW1pbi1kZXZpY2UtcGl4ZWwtcmF0aW86Mil7I2xvZ297YmFja2dyb3VuZDp1cmwoLy93d3cuZ29vZ2xlLmNvbS9pbWFnZXMvbG9nb3MvZXJyb3JwYWdlL2Vycm9yX2xvZ28tMTUweDU0LTJ4LnBuZykgbm8tcmVwZWF0Oy13ZWJraXQtYmFja2dyb3VuZC1zaXplOjEwMCUgMTAwJX19I2xvZ297ZGlzcGxheTppbmxpbmUtYmxvY2s7aGVpZ2h0OjU0cHg7d2lkdGg6MTUwcHh9CiAgPC9zdHlsZT4KICA8YSBocmVmPS8vd3d3Lmdvb2dsZS5jb20vPjxzcGFuIGlkPWxvZ28gYXJpYS1sYWJlbD1Hb29nbGU+PC9zcGFuPjwvYT4KICA8cD48Yj40MDQuPC9iPiA8aW5zPlRoYXTigJlzIGFuIGVycm9yLjwvaW5zPgogIDxwPiAgPGlucz5UaGF04oCZcyBhbGwgd2Uga25vdy48L2lucz4K",
              "ok": false,
              "headers": [
                [
                  "content-length",
                  "1449"
                ],
                [
                  "content-type",
                  "text/html; charset=utf-8"
                ]
              ],
              "status": 404,
              "status_text": ""
            },
            "http://localhost:8080/favorite-4_th.jpg": {
              "data": "CjwhRE9DVFlQRSBodG1sPgo8aHRtbCBsYW5nPWVuPgogIDxtZXRhIGNoYXJzZXQ9dXRmLTg+CiAgPG1ldGEgbmFtZT12aWV3cG9ydCBjb250ZW50PSJpbml0aWFsLXNjYWxlPTEsIG1pbmltdW0tc2NhbGU9MSwgd2lkdGg9ZGV2aWNlLXdpZHRoIj4KICA8dGl0bGU+RXJyb3IgNDA0IChOb3QgRm91bmQpISExPC90aXRsZT4KICA8c3R5bGU+CiAgICAqe21hcmdpbjowO3BhZGRpbmc6MH1odG1sLGNvZGV7Zm9udDoxNXB4LzIycHggYXJpYWwsc2Fucy1zZXJpZn1odG1se2JhY2tncm91bmQ6I2ZmZjtjb2xvcjojMjIyO3BhZGRpbmc6MTVweH1ib2R5e21hcmdpbjo3JSBhdXRvIDA7bWF4LXdpZHRoOjM5MHB4O21pbi1oZWlnaHQ6MTgwcHg7cGFkZGluZzozMHB4IDAgMTVweH0qID4gYm9keXtiYWNrZ3JvdW5kOnVybCgvL3d3dy5nb29nbGUuY29tL2ltYWdlcy9lcnJvcnMvcm9ib3QucG5nKSAxMDAlIDVweCBuby1yZXBlYXQ7cGFkZGluZy1yaWdodDoyMDVweH1we21hcmdpbjoxMXB4IDAgMjJweDtvdmVyZmxvdzpoaWRkZW59aW5ze2NvbG9yOiM3Nzc7dGV4dC1kZWNvcmF0aW9uOm5vbmV9YSBpbWd7Ym9yZGVyOjB9QG1lZGlhIHNjcmVlbiBhbmQgKG1heC13aWR0aDo3NzJweCl7Ym9keXtiYWNrZ3JvdW5kOm5vbmU7bWFyZ2luLXRvcDowO21heC13aWR0aDpub25lO3BhZGRpbmctcmlnaHQ6MH19I2xvZ297YmFja2dyb3VuZDp1cmwoLy93d3cuZ29vZ2xlLmNvbS9pbWFnZXMvbG9nb3MvZXJyb3JwYWdlL2Vycm9yX2xvZ28tMTUweDU0LnBuZykgbm8tcmVwZWF0O21hcmdpbi1sZWZ0Oi01cHh9QG1lZGlhIG9ubHkgc2NyZWVuIGFuZCAobWluLXJlc29sdXRpb246MTkyZHBpKXsjbG9nb3tiYWNrZ3JvdW5kOnVybCgvL3d3dy5nb29nbGUuY29tL2ltYWdlcy9sb2dvcy9lcnJvcnBhZ2UvZXJyb3JfbG9nby0xNTB4NTQtMngucG5nKSBuby1yZXBlYXQgMCUgMCUvMTAwJSAxMDAlOy1tb3otYm9yZGVyLWltYWdlOnVybCgvL3d3dy5nb29nbGUuY29tL2ltYWdlcy9sb2dvcy9lcnJvcnBhZ2UvZXJyb3JfbG9nby0xNTB4NTQtMngucG5nKSAwfX1AbWVkaWEgb25seSBzY3JlZW4gYW5kICgtd2Via2l0LW1pbi1kZXZpY2UtcGl4ZWwtcmF0aW86Mil7I2xvZ297YmFja2dyb3VuZDp1cmwoLy93d3cuZ29vZ2xlLmNvbS9pbWFnZXMvbG9nb3MvZXJyb3JwYWdlL2Vycm9yX2xvZ28tMTUweDU0LTJ4LnBuZykgbm8tcmVwZWF0Oy13ZWJraXQtYmFja2dyb3VuZC1zaXplOjEwMCUgMTAwJX19I2xvZ297ZGlzcGxheTppbmxpbmUtYmxvY2s7aGVpZ2h0OjU0cHg7d2lkdGg6MTUwcHh9CiAgPC9zdHlsZT4KICA8YSBocmVmPS8vd3d3Lmdvb2dsZS5jb20vPjxzcGFuIGlkPWxvZ28gYXJpYS1sYWJlbD1Hb29nbGU+PC9zcGFuPjwvYT4KICA8cD48Yj40MDQuPC9iPiA8aW5zPlRoYXTigJlzIGFuIGVycm9yLjwvaW5zPgogIDxwPiAgPGlucz5UaGF04oCZcyBhbGwgd2Uga25vdy48L2lucz4K",
              "ok": false,
              "headers": [
                [
                  "content-length",
                  "1449"
                ],
                [
                  "content-type",
                  "text/html; charset=utf-8"
                ]
              ],
              "status": 404,
              "status_text": ""
            },
            "http://localhost:8080/favorite-2_th.jpg": {
              "data": "CjwhRE9DVFlQRSBodG1sPgo8aHRtbCBsYW5nPWVuPgogIDxtZXRhIGNoYXJzZXQ9dXRmLTg+CiAgPG1ldGEgbmFtZT12aWV3cG9ydCBjb250ZW50PSJpbml0aWFsLXNjYWxlPTEsIG1pbmltdW0tc2NhbGU9MSwgd2lkdGg9ZGV2aWNlLXdpZHRoIj4KICA8dGl0bGU+RXJyb3IgNDA0IChOb3QgRm91bmQpISExPC90aXRsZT4KICA8c3R5bGU+CiAgICAqe21hcmdpbjowO3BhZGRpbmc6MH1odG1sLGNvZGV7Zm9udDoxNXB4LzIycHggYXJpYWwsc2Fucy1zZXJpZn1odG1se2JhY2tncm91bmQ6I2ZmZjtjb2xvcjojMjIyO3BhZGRpbmc6MTVweH1ib2R5e21hcmdpbjo3JSBhdXRvIDA7bWF4LXdpZHRoOjM5MHB4O21pbi1oZWlnaHQ6MTgwcHg7cGFkZGluZzozMHB4IDAgMTVweH0qID4gYm9keXtiYWNrZ3JvdW5kOnVybCgvL3d3dy5nb29nbGUuY29tL2ltYWdlcy9lcnJvcnMvcm9ib3QucG5nKSAxMDAlIDVweCBuby1yZXBlYXQ7cGFkZGluZy1yaWdodDoyMDVweH1we21hcmdpbjoxMXB4IDAgMjJweDtvdmVyZmxvdzpoaWRkZW59aW5ze2NvbG9yOiM3Nzc7dGV4dC1kZWNvcmF0aW9uOm5vbmV9YSBpbWd7Ym9yZGVyOjB9QG1lZGlhIHNjcmVlbiBhbmQgKG1heC13aWR0aDo3NzJweCl7Ym9keXtiYWNrZ3JvdW5kOm5vbmU7bWFyZ2luLXRvcDowO21heC13aWR0aDpub25lO3BhZGRpbmctcmlnaHQ6MH19I2xvZ297YmFja2dyb3VuZDp1cmwoLy93d3cuZ29vZ2xlLmNvbS9pbWFnZXMvbG9nb3MvZXJyb3JwYWdlL2Vycm9yX2xvZ28tMTUweDU0LnBuZykgbm8tcmVwZWF0O21hcmdpbi1sZWZ0Oi01cHh9QG1lZGlhIG9ubHkgc2NyZWVuIGFuZCAobWluLXJlc29sdXRpb246MTkyZHBpKXsjbG9nb3tiYWNrZ3JvdW5kOnVybCgvL3d3dy5nb29nbGUuY29tL2ltYWdlcy9sb2dvcy9lcnJvcnBhZ2UvZXJyb3JfbG9nby0xNTB4NTQtMngucG5nKSBuby1yZXBlYXQgMCUgMCUvMTAwJSAxMDAlOy1tb3otYm9yZGVyLWltYWdlOnVybCgvL3d3dy5nb29nbGUuY29tL2ltYWdlcy9sb2dvcy9lcnJvcnBhZ2UvZXJyb3JfbG9nby0xNTB4NTQtMngucG5nKSAwfX1AbWVkaWEgb25seSBzY3JlZW4gYW5kICgtd2Via2l0LW1pbi1kZXZpY2UtcGl4ZWwtcmF0aW86Mil7I2xvZ297YmFja2dyb3VuZDp1cmwoLy93d3cuZ29vZ2xlLmNvbS9pbWFnZXMvbG9nb3MvZXJyb3JwYWdlL2Vycm9yX2xvZ28tMTUweDU0LTJ4LnBuZykgbm8tcmVwZWF0Oy13ZWJraXQtYmFja2dyb3VuZC1zaXplOjEwMCUgMTAwJX19I2xvZ297ZGlzcGxheTppbmxpbmUtYmxvY2s7aGVpZ2h0OjU0cHg7d2lkdGg6MTUwcHh9CiAgPC9zdHlsZT4KICA8YSBocmVmPS8vd3d3Lmdvb2dsZS5jb20vPjxzcGFuIGlkPWxvZ28gYXJpYS1sYWJlbD1Hb29nbGU+PC9zcGFuPjwvYT4KICA8cD48Yj40MDQuPC9iPiA8aW5zPlRoYXTigJlzIGFuIGVycm9yLjwvaW5zPgogIDxwPiAgPGlucz5UaGF04oCZcyBhbGwgd2Uga25vdy48L2lucz4K",
              "ok": false,
              "headers": [
                [
                  "content-length",
                  "1449"
                ],
                [
                  "content-type",
                  "text/html; charset=utf-8"
                ]
              ],
              "status": 404,
              "status_text": ""
            }
          },
          "base_uri": "https://localhost:8080/",
          "height": 606
        },
        "outputId": "7567e087-ca06-4eac-b60c-e4b53c364f4d"
      },
      "source": [
        "#@title コードを表示しない\n",
        "\n",
        "%%html\n",
        "<style>\n",
        "    html,\n",
        "    body {\n",
        "        margin: 0;\n",
        "        padding: 0;\n",
        "    }\n",
        "\n",
        "    html {\n",
        "        font-size: 10px;\n",
        "        background-color: #a9a9a9;\n",
        "    }\n",
        "\n",
        "    body {\n",
        "        width: 70%;\n",
        "        min-width: 800px;\n",
        "        margin: 0 auto;\n",
        "    }\n",
        "\n",
        "    /* || typography */\n",
        "\n",
        "    h1,\n",
        "    h2,\n",
        "    h3 {\n",
        "        font-family: 'Cinzel Decorative', cursive;\n",
        "        color: #2a2a2a;\n",
        "    }\n",
        "\n",
        "    p,\n",
        "    input,\n",
        "    li {\n",
        "        font-family: 'Roboto Condensed', sans-serif;\n",
        "        color: #2a2a2a;\n",
        "    }\n",
        "\n",
        "    h1 {\n",
        "        font-size: 4rem;\n",
        "        text-align: center;\n",
        "        text-shadow: 2px 2px 10px black;\n",
        "    }\n",
        "\n",
        "    h2 {\n",
        "        font-size: 3rem;\n",
        "        text-align: center;\n",
        "    }\n",
        "\n",
        "    h3 {\n",
        "        font-size: 2.2rem;\n",
        "    }\n",
        "\n",
        "    p,\n",
        "    li {\n",
        "        font-size: 1.6rem;\n",
        "        line-height: 1.5;\n",
        "    }\n",
        "\n",
        "    /* || header layout */\n",
        "\n",
        "    header {\n",
        "        margin-bottom: 10px;\n",
        "        display: flex;\n",
        "        flex-flow: row wrap;\n",
        "    }\n",
        "\n",
        "    body>* {\n",
        "        background-color: red;\n",
        "        padding: 1%;\n",
        "    }\n",
        "\n",
        "    main,\n",
        "    header,\n",
        "    nav,\n",
        "    article,\n",
        "    aside,\n",
        "    footer,\n",
        "    section {\n",
        "        background-color: rgba(0, 255, 0, 0.5);\n",
        "        padding: 1%;\n",
        "    }\n",
        "\n",
        "    h1 {\n",
        "        flex: 5;\n",
        "        text-transform: uppercase;\n",
        "    }\n",
        "\n",
        "    header img {\n",
        "        display: block;\n",
        "        height: 60px;\n",
        "        padding-top: 20.15px;\n",
        "    }\n",
        "\n",
        "    nav {\n",
        "        height: 50px;\n",
        "        flex: 100%;\n",
        "        display: flex;\n",
        "    }\n",
        "\n",
        "    nav ul {\n",
        "        padding: 0;\n",
        "        list-style-type: none;\n",
        "        flex: 2;\n",
        "        display: flex;\n",
        "    }\n",
        "\n",
        "    nav li {\n",
        "        display: inline;\n",
        "        text-align: center;\n",
        "        flex: 1;\n",
        "    }\n",
        "\n",
        "    nav a,\n",
        "    nav span {\n",
        "        display: inline-block;\n",
        "        font-size: 2rem;\n",
        "        height: 3rem;\n",
        "        line-height: 1.7;\n",
        "        text-transform: uppercase;\n",
        "        text-decoration: none;\n",
        "        color: black;\n",
        "\n",
        "    }\n",
        "\n",
        "    /* || main layout */\n",
        "\n",
        "    main {\n",
        "        display: flex;\n",
        "    }\n",
        "\n",
        "    article,\n",
        "    section {\n",
        "        flex: 4;\n",
        "    }\n",
        "\n",
        "    aside {\n",
        "        flex: 1;\n",
        "        margin-left: 10px;\n",
        "        padding: 1%;\n",
        "    }\n",
        "\n",
        "    aside a {\n",
        "        display: block;\n",
        "        float: left;\n",
        "        width: 50%;\n",
        "    }\n",
        "\n",
        "    aside img {\n",
        "        max-width: 100%;\n",
        "    }\n",
        "\n",
        "    footer {\n",
        "        margin-top: 10px;\n",
        "    }\n",
        "</style>\n",
        "\n",
        "<body>\n",
        "\n",
        "    <h1>Birdwatching</h1>\n",
        "    <img src=\"dove.png\" alt=\"a simple dove logo\">\n",
        "\n",
        "\n",
        "    <ul>\n",
        "        <li><span>Home</span></li>\n",
        "        <li><a href=\"#\">Get started</a></li>\n",
        "        <li><a href=\"#\">Photos</a></li>\n",
        "        <li><a href=\"#\">Gear</a></li>\n",
        "        <li><a href=\"#\">Forum</a></li>\n",
        "    </ul>\n",
        "\n",
        "\n",
        "    <h2>Welcome</h2>\n",
        "\n",
        "    <p>Welcome to our fake birdwatching site. If this were a real site, it would be the ideal place to come to learn\n",
        "        more about birdwatching, whether you are a beginner looking to learn how to get into birding, or an expert\n",
        "        wanting to share ideas, tips, and photos with other like-minded people.</p>\n",
        "\n",
        "    <p>So don't waste time! Get what you need, then turn off that computer and get out into the great outdoors!</p>\n",
        "\n",
        "    <h2>Favourite photos</h2>\n",
        "\n",
        "    <a href=\"favorite-1.jpg\"><img src=\"favorite-1_th.jpg\"\n",
        "            alt=\"Small black bird, black claws, long black slender beak, links to larger version of the image\"></a>\n",
        "    <a href=\"favorite-2.jpg\"><img src=\"favorite-2_th.jpg\"\n",
        "            alt=\"Top half of a pretty bird with bright blue plumage on neck, light colored beak, blue headdress, links to larger version of the image\"></a>\n",
        "    <a href=\"favorite-3.jpg\"><img src=\"favorite-3_th.jpg\"\n",
        "            alt=\"Top half of a large bird with white plumage, very long curved narrow light colored break, links to larger version of the image\"></a>\n",
        "    <a href=\"favorite-4.jpg\"><img src=\"favorite-4_th.jpg\"\n",
        "            alt=\"Large bird, mostly white plumage with black plumage on back and rear, long straight white beak, links to larger version of the image\"></a>\n",
        "\n",
        "\n",
        "    <p>This fake website example is CC0 — any part of this code may be reused in any way you wish. Original example\n",
        "        written by Chris Mills, 2016.</p>\n",
        "\n",
        "    <p><a href=\"http://game-icons.net/lorc/originals/dove.html\">Dove icon</a> by Lorc.</p>\n",
        "\n",
        "</body>"
      ],
      "execution_count": null,
      "outputs": [
        {
          "output_type": "display_data",
          "data": {
            "text/html": [
              "<style>\n",
              "    html,\n",
              "    body {\n",
              "        margin: 0;\n",
              "        padding: 0;\n",
              "    }\n",
              "\n",
              "    html {\n",
              "        font-size: 10px;\n",
              "        background-color: #a9a9a9;\n",
              "    }\n",
              "\n",
              "    body {\n",
              "        width: 70%;\n",
              "        min-width: 800px;\n",
              "        margin: 0 auto;\n",
              "    }\n",
              "\n",
              "    /* || typography */\n",
              "\n",
              "    h1,\n",
              "    h2,\n",
              "    h3 {\n",
              "        font-family: 'Cinzel Decorative', cursive;\n",
              "        color: #2a2a2a;\n",
              "    }\n",
              "\n",
              "    p,\n",
              "    input,\n",
              "    li {\n",
              "        font-family: 'Roboto Condensed', sans-serif;\n",
              "        color: #2a2a2a;\n",
              "    }\n",
              "\n",
              "    h1 {\n",
              "        font-size: 4rem;\n",
              "        text-align: center;\n",
              "        text-shadow: 2px 2px 10px black;\n",
              "    }\n",
              "\n",
              "    h2 {\n",
              "        font-size: 3rem;\n",
              "        text-align: center;\n",
              "    }\n",
              "\n",
              "    h3 {\n",
              "        font-size: 2.2rem;\n",
              "    }\n",
              "\n",
              "    p,\n",
              "    li {\n",
              "        font-size: 1.6rem;\n",
              "        line-height: 1.5;\n",
              "    }\n",
              "\n",
              "    /* || header layout */\n",
              "\n",
              "    header {\n",
              "        margin-bottom: 10px;\n",
              "        display: flex;\n",
              "        flex-flow: row wrap;\n",
              "    }\n",
              "\n",
              "    body>* {\n",
              "        background-color: red;\n",
              "        padding: 1%;\n",
              "    }\n",
              "\n",
              "    main,\n",
              "    header,\n",
              "    nav,\n",
              "    article,\n",
              "    aside,\n",
              "    footer,\n",
              "    section {\n",
              "        background-color: rgba(0, 255, 0, 0.5);\n",
              "        padding: 1%;\n",
              "    }\n",
              "\n",
              "    h1 {\n",
              "        flex: 5;\n",
              "        text-transform: uppercase;\n",
              "    }\n",
              "\n",
              "    header img {\n",
              "        display: block;\n",
              "        height: 60px;\n",
              "        padding-top: 20.15px;\n",
              "    }\n",
              "\n",
              "    nav {\n",
              "        height: 50px;\n",
              "        flex: 100%;\n",
              "        display: flex;\n",
              "    }\n",
              "\n",
              "    nav ul {\n",
              "        padding: 0;\n",
              "        list-style-type: none;\n",
              "        flex: 2;\n",
              "        display: flex;\n",
              "    }\n",
              "\n",
              "    nav li {\n",
              "        display: inline;\n",
              "        text-align: center;\n",
              "        flex: 1;\n",
              "    }\n",
              "\n",
              "    nav a,\n",
              "    nav span {\n",
              "        display: inline-block;\n",
              "        font-size: 2rem;\n",
              "        height: 3rem;\n",
              "        line-height: 1.7;\n",
              "        text-transform: uppercase;\n",
              "        text-decoration: none;\n",
              "        color: black;\n",
              "\n",
              "    }\n",
              "\n",
              "    /* || main layout */\n",
              "\n",
              "    main {\n",
              "        display: flex;\n",
              "    }\n",
              "\n",
              "    article,\n",
              "    section {\n",
              "        flex: 4;\n",
              "    }\n",
              "\n",
              "    aside {\n",
              "        flex: 1;\n",
              "        margin-left: 10px;\n",
              "        padding: 1%;\n",
              "    }\n",
              "\n",
              "    aside a {\n",
              "        display: block;\n",
              "        float: left;\n",
              "        width: 50%;\n",
              "    }\n",
              "\n",
              "    aside img {\n",
              "        max-width: 100%;\n",
              "    }\n",
              "\n",
              "    footer {\n",
              "        margin-top: 10px;\n",
              "    }\n",
              "</style>\n",
              "\n",
              "<body>\n",
              "\n",
              "    <h1>Birdwatching</h1>\n",
              "    <img src=\"dove.png\" alt=\"a simple dove logo\">\n",
              "\n",
              "\n",
              "    <ul>\n",
              "        <li><span>Home</span></li>\n",
              "        <li><a href=\"#\">Get started</a></li>\n",
              "        <li><a href=\"#\">Photos</a></li>\n",
              "        <li><a href=\"#\">Gear</a></li>\n",
              "        <li><a href=\"#\">Forum</a></li>\n",
              "    </ul>\n",
              "\n",
              "\n",
              "    <h2>Welcome</h2>\n",
              "\n",
              "    <p>Welcome to our fake birdwatching site. If this were a real site, it would be the ideal place to come to learn\n",
              "        more about birdwatching, whether you are a beginner looking to learn how to get into birding, or an expert\n",
              "        wanting to share ideas, tips, and photos with other like-minded people.</p>\n",
              "\n",
              "    <p>So don't waste time! Get what you need, then turn off that computer and get out into the great outdoors!</p>\n",
              "\n",
              "    <h2>Favourite photos</h2>\n",
              "\n",
              "    <a href=\"favorite-1.jpg\"><img src=\"favorite-1_th.jpg\"\n",
              "            alt=\"Small black bird, black claws, long black slender beak, links to larger version of the image\"></a>\n",
              "    <a href=\"favorite-2.jpg\"><img src=\"favorite-2_th.jpg\"\n",
              "            alt=\"Top half of a pretty bird with bright blue plumage on neck, light colored beak, blue headdress, links to larger version of the image\"></a>\n",
              "    <a href=\"favorite-3.jpg\"><img src=\"favorite-3_th.jpg\"\n",
              "            alt=\"Top half of a large bird with white plumage, very long curved narrow light colored break, links to larger version of the image\"></a>\n",
              "    <a href=\"favorite-4.jpg\"><img src=\"favorite-4_th.jpg\"\n",
              "            alt=\"Large bird, mostly white plumage with black plumage on back and rear, long straight white beak, links to larger version of the image\"></a>\n",
              "\n",
              "\n",
              "    <p>This fake website example is CC0 — any part of this code may be reused in any way you wish. Original example\n",
              "        written by Chris Mills, 2016.</p>\n",
              "\n",
              "    <p><a href=\"http://game-icons.net/lorc/originals/dove.html\">Dove icon</a> by Lorc.</p>\n",
              "\n",
              "</body>"
            ],
            "text/plain": [
              "<IPython.core.display.HTML object>"
            ]
          },
          "metadata": {
            "tags": []
          }
        }
      ]
    },
    {
      "cell_type": "markdown",
      "metadata": {
        "id": "BNb-MiejN90L"
      },
      "source": [
        "# マルチメディア"
      ]
    },
    {
      "cell_type": "code",
      "metadata": {
        "id": "AO7Kp7IuCHYA",
        "colab": {
          "resources": {
            "http://localhost:8080/images/dinosaur.jpg": {
              "data": "CjwhRE9DVFlQRSBodG1sPgo8aHRtbCBsYW5nPWVuPgogIDxtZXRhIGNoYXJzZXQ9dXRmLTg+CiAgPG1ldGEgbmFtZT12aWV3cG9ydCBjb250ZW50PSJpbml0aWFsLXNjYWxlPTEsIG1pbmltdW0tc2NhbGU9MSwgd2lkdGg9ZGV2aWNlLXdpZHRoIj4KICA8dGl0bGU+RXJyb3IgNDA0IChOb3QgRm91bmQpISExPC90aXRsZT4KICA8c3R5bGU+CiAgICAqe21hcmdpbjowO3BhZGRpbmc6MH1odG1sLGNvZGV7Zm9udDoxNXB4LzIycHggYXJpYWwsc2Fucy1zZXJpZn1odG1se2JhY2tncm91bmQ6I2ZmZjtjb2xvcjojMjIyO3BhZGRpbmc6MTVweH1ib2R5e21hcmdpbjo3JSBhdXRvIDA7bWF4LXdpZHRoOjM5MHB4O21pbi1oZWlnaHQ6MTgwcHg7cGFkZGluZzozMHB4IDAgMTVweH0qID4gYm9keXtiYWNrZ3JvdW5kOnVybCgvL3d3dy5nb29nbGUuY29tL2ltYWdlcy9lcnJvcnMvcm9ib3QucG5nKSAxMDAlIDVweCBuby1yZXBlYXQ7cGFkZGluZy1yaWdodDoyMDVweH1we21hcmdpbjoxMXB4IDAgMjJweDtvdmVyZmxvdzpoaWRkZW59aW5ze2NvbG9yOiM3Nzc7dGV4dC1kZWNvcmF0aW9uOm5vbmV9YSBpbWd7Ym9yZGVyOjB9QG1lZGlhIHNjcmVlbiBhbmQgKG1heC13aWR0aDo3NzJweCl7Ym9keXtiYWNrZ3JvdW5kOm5vbmU7bWFyZ2luLXRvcDowO21heC13aWR0aDpub25lO3BhZGRpbmctcmlnaHQ6MH19I2xvZ297YmFja2dyb3VuZDp1cmwoLy93d3cuZ29vZ2xlLmNvbS9pbWFnZXMvbG9nb3MvZXJyb3JwYWdlL2Vycm9yX2xvZ28tMTUweDU0LnBuZykgbm8tcmVwZWF0O21hcmdpbi1sZWZ0Oi01cHh9QG1lZGlhIG9ubHkgc2NyZWVuIGFuZCAobWluLXJlc29sdXRpb246MTkyZHBpKXsjbG9nb3tiYWNrZ3JvdW5kOnVybCgvL3d3dy5nb29nbGUuY29tL2ltYWdlcy9sb2dvcy9lcnJvcnBhZ2UvZXJyb3JfbG9nby0xNTB4NTQtMngucG5nKSBuby1yZXBlYXQgMCUgMCUvMTAwJSAxMDAlOy1tb3otYm9yZGVyLWltYWdlOnVybCgvL3d3dy5nb29nbGUuY29tL2ltYWdlcy9sb2dvcy9lcnJvcnBhZ2UvZXJyb3JfbG9nby0xNTB4NTQtMngucG5nKSAwfX1AbWVkaWEgb25seSBzY3JlZW4gYW5kICgtd2Via2l0LW1pbi1kZXZpY2UtcGl4ZWwtcmF0aW86Mil7I2xvZ297YmFja2dyb3VuZDp1cmwoLy93d3cuZ29vZ2xlLmNvbS9pbWFnZXMvbG9nb3MvZXJyb3JwYWdlL2Vycm9yX2xvZ28tMTUweDU0LTJ4LnBuZykgbm8tcmVwZWF0Oy13ZWJraXQtYmFja2dyb3VuZC1zaXplOjEwMCUgMTAwJX19I2xvZ297ZGlzcGxheTppbmxpbmUtYmxvY2s7aGVpZ2h0OjU0cHg7d2lkdGg6MTUwcHh9CiAgPC9zdHlsZT4KICA8YSBocmVmPS8vd3d3Lmdvb2dsZS5jb20vPjxzcGFuIGlkPWxvZ28gYXJpYS1sYWJlbD1Hb29nbGU+PC9zcGFuPjwvYT4KICA8cD48Yj40MDQuPC9iPiA8aW5zPlRoYXTigJlzIGFuIGVycm9yLjwvaW5zPgogIDxwPiAgPGlucz5UaGF04oCZcyBhbGwgd2Uga25vdy48L2lucz4K",
              "ok": false,
              "headers": [
                [
                  "content-length",
                  "1449"
                ],
                [
                  "content-type",
                  "text/html; charset=utf-8"
                ]
              ],
              "status": 404,
              "status_text": ""
            }
          },
          "base_uri": "https://localhost:8080/",
          "height": 35
        },
        "outputId": "125ee978-d9fb-4645-cb42-5dd14f2be996"
      },
      "source": [
        "%%html\n",
        "<!-- 代替テキスト -->\n",
        "<img src=\"images/dinosaur.jpg\"\n",
        "     alt=\"恐竜の画像がはいるハズ。ごめん。\">"
      ],
      "execution_count": null,
      "outputs": [
        {
          "output_type": "display_data",
          "data": {
            "text/html": [
              "<!-- 代替テキスト -->\n",
              "<img src=\"images/dinosaur.jpg\"\n",
              "     alt=\"恐竜の画像がはいるハズ。ごめん。\">"
            ],
            "text/plain": [
              "<IPython.core.display.HTML object>"
            ]
          },
          "metadata": {
            "tags": []
          }
        }
      ]
    },
    {
      "cell_type": "code",
      "metadata": {
        "id": "2btQN2JE4omc",
        "colab": {
          "base_uri": "https://localhost:8080/",
          "height": 193
        },
        "outputId": "b1041607-23d5-4e3d-aea2-21147cdf3fd3"
      },
      "source": [
        "%%html\n",
        "<!-- ホットリンクは推奨されないが -->\n",
        "<img src=\"https://raw.githubusercontent.com/mdn/learning-area/master/html/multimedia-and-embedding/images-in-html/dinosaur_small.jpg\"\n",
        " alt=\"The head and torso of a dinosaur skeleton; it has a large head with long sharp teeth\"\n",
        " width=\"200\"\n",
        " height=\"171\"\n",
        " title=\"A T-Rex on display in the Manchester University Museum\">"
      ],
      "execution_count": null,
      "outputs": [
        {
          "output_type": "display_data",
          "data": {
            "text/html": [
              "<!-- ホットリンクは推奨されないが -->\n",
              "<img src=\"https://raw.githubusercontent.com/mdn/learning-area/master/html/multimedia-and-embedding/images-in-html/dinosaur_small.jpg\"\n",
              " alt=\"The head and torso of a dinosaur skeleton; it has a large head with long sharp teeth\"\n",
              " width=\"200\"\n",
              " height=\"171\"\n",
              " title=\"A T-Rex on display in the Manchester University Museum\">"
            ],
            "text/plain": [
              "<IPython.core.display.HTML object>"
            ]
          },
          "metadata": {
            "tags": []
          }
        }
      ]
    },
    {
      "cell_type": "code",
      "metadata": {
        "id": "AUGv-mmY4wz0",
        "colab": {
          "resources": {
            "http://localhost:8080/images/dinosaur.jpg": {
              "data": "CjwhRE9DVFlQRSBodG1sPgo8aHRtbCBsYW5nPWVuPgogIDxtZXRhIGNoYXJzZXQ9dXRmLTg+CiAgPG1ldGEgbmFtZT12aWV3cG9ydCBjb250ZW50PSJpbml0aWFsLXNjYWxlPTEsIG1pbmltdW0tc2NhbGU9MSwgd2lkdGg9ZGV2aWNlLXdpZHRoIj4KICA8dGl0bGU+RXJyb3IgNDA0IChOb3QgRm91bmQpISExPC90aXRsZT4KICA8c3R5bGU+CiAgICAqe21hcmdpbjowO3BhZGRpbmc6MH1odG1sLGNvZGV7Zm9udDoxNXB4LzIycHggYXJpYWwsc2Fucy1zZXJpZn1odG1se2JhY2tncm91bmQ6I2ZmZjtjb2xvcjojMjIyO3BhZGRpbmc6MTVweH1ib2R5e21hcmdpbjo3JSBhdXRvIDA7bWF4LXdpZHRoOjM5MHB4O21pbi1oZWlnaHQ6MTgwcHg7cGFkZGluZzozMHB4IDAgMTVweH0qID4gYm9keXtiYWNrZ3JvdW5kOnVybCgvL3d3dy5nb29nbGUuY29tL2ltYWdlcy9lcnJvcnMvcm9ib3QucG5nKSAxMDAlIDVweCBuby1yZXBlYXQ7cGFkZGluZy1yaWdodDoyMDVweH1we21hcmdpbjoxMXB4IDAgMjJweDtvdmVyZmxvdzpoaWRkZW59aW5ze2NvbG9yOiM3Nzc7dGV4dC1kZWNvcmF0aW9uOm5vbmV9YSBpbWd7Ym9yZGVyOjB9QG1lZGlhIHNjcmVlbiBhbmQgKG1heC13aWR0aDo3NzJweCl7Ym9keXtiYWNrZ3JvdW5kOm5vbmU7bWFyZ2luLXRvcDowO21heC13aWR0aDpub25lO3BhZGRpbmctcmlnaHQ6MH19I2xvZ297YmFja2dyb3VuZDp1cmwoLy93d3cuZ29vZ2xlLmNvbS9pbWFnZXMvbG9nb3MvZXJyb3JwYWdlL2Vycm9yX2xvZ28tMTUweDU0LnBuZykgbm8tcmVwZWF0O21hcmdpbi1sZWZ0Oi01cHh9QG1lZGlhIG9ubHkgc2NyZWVuIGFuZCAobWluLXJlc29sdXRpb246MTkyZHBpKXsjbG9nb3tiYWNrZ3JvdW5kOnVybCgvL3d3dy5nb29nbGUuY29tL2ltYWdlcy9sb2dvcy9lcnJvcnBhZ2UvZXJyb3JfbG9nby0xNTB4NTQtMngucG5nKSBuby1yZXBlYXQgMCUgMCUvMTAwJSAxMDAlOy1tb3otYm9yZGVyLWltYWdlOnVybCgvL3d3dy5nb29nbGUuY29tL2ltYWdlcy9sb2dvcy9lcnJvcnBhZ2UvZXJyb3JfbG9nby0xNTB4NTQtMngucG5nKSAwfX1AbWVkaWEgb25seSBzY3JlZW4gYW5kICgtd2Via2l0LW1pbi1kZXZpY2UtcGl4ZWwtcmF0aW86Mil7I2xvZ297YmFja2dyb3VuZDp1cmwoLy93d3cuZ29vZ2xlLmNvbS9pbWFnZXMvbG9nb3MvZXJyb3JwYWdlL2Vycm9yX2xvZ28tMTUweDU0LTJ4LnBuZykgbm8tcmVwZWF0Oy13ZWJraXQtYmFja2dyb3VuZC1zaXplOjEwMCUgMTAwJX19I2xvZ297ZGlzcGxheTppbmxpbmUtYmxvY2s7aGVpZ2h0OjU0cHg7d2lkdGg6MTUwcHh9CiAgPC9zdHlsZT4KICA8YSBocmVmPS8vd3d3Lmdvb2dsZS5jb20vPjxzcGFuIGlkPWxvZ28gYXJpYS1sYWJlbD1Hb29nbGU+PC9zcGFuPjwvYT4KICA8cD48Yj40MDQuPC9iPiA8aW5zPlRoYXTigJlzIGFuIGVycm9yLjwvaW5zPgogIDxwPiAgPGlucz5UaGF04oCZcyBhbGwgd2Uga25vdy48L2lucz4K",
              "ok": false,
              "headers": [
                [
                  "content-length",
                  "1449"
                ],
                [
                  "content-type",
                  "text/html; charset=utf-8"
                ]
              ],
              "status": 404,
              "status_text": ""
            }
          },
          "base_uri": "https://localhost:8080/",
          "height": 408
        },
        "outputId": "4511ea92-51e7-4d1b-92d6-d74de9cde2df"
      },
      "source": [
        "%%html\n",
        "<!-- figure と figcaption を使うと図とキャプションを関連付けられる -->\n",
        "<figure>\n",
        "  <img src=\"images/dinosaur.jpg\"\n",
        "       alt=\"恐竜の骨格の頭と胴体、\n",
        "            それは長い鋭い歯を持つ大きな頭を持っています\"\n",
        "       width=\"400\"\n",
        "       height=\"341\">\n",
        "\n",
        "  <figcaption>マンチェスター大学博物館に展示されている T-Rex。</figcaption>\n",
        "</figure>"
      ],
      "execution_count": null,
      "outputs": [
        {
          "output_type": "display_data",
          "data": {
            "text/html": [
              "<!-- figure と figcaption を使うと図とキャプションを関連付けられる -->\n",
              "<figure>\n",
              "  <img src=\"images/dinosaur.jpg\"\n",
              "       alt=\"恐竜の骨格の頭と胴体、\n",
              "            それは長い鋭い歯を持つ大きな頭を持っています\"\n",
              "       width=\"400\"\n",
              "       height=\"341\">\n",
              "\n",
              "  <figcaption>マンチェスター大学博物館に展示されている T-Rex。</figcaption>\n",
              "</figure>"
            ],
            "text/plain": [
              "<IPython.core.display.HTML object>"
            ]
          },
          "metadata": {
            "tags": []
          }
        }
      ]
    },
    {
      "cell_type": "code",
      "metadata": {
        "id": "uveOYd1k4wmq",
        "colab": {
          "base_uri": "https://localhost:8080/",
          "height": 121
        },
        "outputId": "0240425c-fc94-4291-9a70-a877dfe68196"
      },
      "source": [
        "%%html\n",
        "<figure>\n",
        "    <audio src='https://drive.google.com/uc?id=1z8enMQJR4TeQcE09iixTaYiDcvqkcOwj' controls>\n",
        "    </audio>\n",
        "    <figcaption>サッポロ一番(さっぽろいちばんしおらーめん)</figcaption>\n",
        "</figure>"
      ],
      "execution_count": null,
      "outputs": [
        {
          "output_type": "display_data",
          "data": {
            "text/html": [
              "<figure>\n",
              "    <audio src='https://drive.google.com/uc?id=1z8enMQJR4TeQcE09iixTaYiDcvqkcOwj' controls>\n",
              "    </audio>\n",
              "    <figcaption>サッポロ一番(さっぽろいちばんしおらーめん)</figcaption>\n",
              "</figure>"
            ],
            "text/plain": [
              "<IPython.core.display.HTML object>"
            ]
          },
          "metadata": {
            "tags": []
          }
        }
      ]
    },
    {
      "cell_type": "code",
      "metadata": {
        "id": "W71VuHrV9D1m",
        "colab": {
          "base_uri": "https://localhost:8080/",
          "height": 322
        },
        "outputId": "e7adae37-643b-4107-8e71-19c0a85d796e"
      },
      "source": [
        "%%html\n",
        "<iframe src=\"https://www.google.com/maps/embed?pb=!1m14!1m12!1m3!1d51891.663190924686!2d139.80105967163098!3d35.62208193792607!2m3!1f0!2f0!3f0!3m2!1i1024!2i768!4f13.1!5e0!3m2!1sja!2sjp!4v1609133463998!5m2!1sja!2sjp\" width=\"400\" height=\"300\" frameborder=\"0\" style=\"border:0;\" allowfullscreen=\"\" aria-hidden=\"false\" tabindex=\"0\"></iframe>\n",
        "</iframe>"
      ],
      "execution_count": null,
      "outputs": [
        {
          "output_type": "display_data",
          "data": {
            "text/html": [
              "<iframe src=\"https://www.google.com/maps/embed?pb=!1m14!1m12!1m3!1d51891.663190924686!2d139.80105967163098!3d35.62208193792607!2m3!1f0!2f0!3f0!3m2!1i1024!2i768!4f13.1!5e0!3m2!1sja!2sjp!4v1609133463998!5m2!1sja!2sjp\" width=\"400\" height=\"300\" frameborder=\"0\" style=\"border:0;\" allowfullscreen=\"\" aria-hidden=\"false\" tabindex=\"0\"></iframe>\n",
              "</iframe>"
            ],
            "text/plain": [
              "<IPython.core.display.HTML object>"
            ]
          },
          "metadata": {
            "tags": []
          }
        }
      ]
    },
    {
      "cell_type": "code",
      "metadata": {
        "id": "hq20m-wK3DWl",
        "colab": {
          "base_uri": "https://localhost:8080/",
          "height": 222
        },
        "outputId": "2a3099b9-7346-43e7-b471-6f29e93d4dcc"
      },
      "source": [
        "%%html\n",
        "<iframe src=\"https://developer.mozilla.org/en-US/docs/Glossary\"\n",
        "        width=\"100%\" height=\"200\" frameborder=\"0\"\n",
        "        allowfullscreen sandbox>\n",
        "</iframe>"
      ],
      "execution_count": null,
      "outputs": [
        {
          "output_type": "display_data",
          "data": {
            "text/html": [
              "<iframe src=\"https://developer.mozilla.org/en-US/docs/Glossary\"\n",
              "        width=\"100%\" height=\"200\" frameborder=\"0\"\n",
              "        allowfullscreen sandbox>\n",
              "</iframe>"
            ],
            "text/plain": [
              "<IPython.core.display.HTML object>"
            ]
          },
          "metadata": {
            "tags": []
          }
        }
      ]
    },
    {
      "cell_type": "markdown",
      "metadata": {
        "id": "urEGGp3T4Wu3"
      },
      "source": [
        "# ベクターグラフィック\n",
        "\n"
      ]
    },
    {
      "cell_type": "code",
      "metadata": {
        "id": "t9L5lO1SH5x5",
        "colab": {
          "base_uri": "https://localhost:8080/",
          "height": 222
        },
        "outputId": "2726d36e-d63f-429c-a762-3b208f3cf1c5"
      },
      "source": [
        "%%html\n",
        "<svg width=\"300\" height=\"200\">\n",
        "  <rect width=\"100%\" height=\"100%\" fill=\"black\" />\n",
        "  <circle cx=\"150\" cy=\"100\" r=\"90\" fill=\"blue\" />\n",
        "</svg>\n"
      ],
      "execution_count": null,
      "outputs": [
        {
          "output_type": "display_data",
          "data": {
            "text/html": [
              "<svg width=\"300\" height=\"200\">\n",
              "  <rect width=\"100%\" height=\"100%\" fill=\"black\" />\n",
              "  <circle cx=\"150\" cy=\"100\" r=\"90\" fill=\"blue\" />\n",
              "</svg>"
            ],
            "text/plain": [
              "<IPython.core.display.HTML object>"
            ]
          },
          "metadata": {
            "tags": []
          }
        }
      ]
    },
    {
      "cell_type": "code",
      "metadata": {
        "id": "MN7LpHav1DBy",
        "colab": {
          "base_uri": "https://localhost:8080/",
          "height": 172
        },
        "outputId": "226ec0ee-2de6-4ef4-b079-20e5f480c6a4"
      },
      "source": [
        "%%html\n",
        "<svg width=\"100%\" height=\"100%\">\n",
        "    <rect width=\"100%\" height=\"100%\" fill=\"red\" />\n",
        "    <circle cx=\"100%\" cy=\"100%\" r=\"150\" fill=\"blue\" stroke=\"black\" />\n",
        "    <polygon points=\"120,0 240,225 0,225\" fill=\"green\" />\n",
        "    <text x=\"50\" y=\"100\" font-family=\"Verdana\" font-size=\"55\" fill=\"white\" stroke=\"black\" stroke-width=\"2\">\n",
        "        Hello!\n",
        "    </text>\n",
        "</svg>"
      ],
      "execution_count": null,
      "outputs": [
        {
          "output_type": "display_data",
          "data": {
            "text/html": [
              "<svg width=\"100%\" height=\"100%\">\n",
              "    <rect width=\"100%\" height=\"100%\" fill=\"red\" />\n",
              "    <circle cx=\"100%\" cy=\"100%\" r=\"150\" fill=\"blue\" stroke=\"black\" />\n",
              "    <polygon points=\"120,0 240,225 0,225\" fill=\"green\" />\n",
              "    <text x=\"50\" y=\"100\" font-family=\"Verdana\" font-size=\"55\" fill=\"white\" stroke=\"black\" stroke-width=\"2\">\n",
              "        Hello!\n",
              "    </text>\n",
              "</svg>"
            ],
            "text/plain": [
              "<IPython.core.display.HTML object>"
            ]
          },
          "metadata": {
            "tags": []
          }
        }
      ]
    },
    {
      "cell_type": "code",
      "metadata": {
        "id": "kwccxndB2ToJ",
        "colab": {
          "base_uri": "https://localhost:8080/",
          "height": 172
        },
        "outputId": "fc85bf2e-a54f-494c-99a3-3d076bc37f4f"
      },
      "source": [
        "# 実験\n",
        "%%html\n",
        "<svg>\n",
        "    <rect width=\"100%\" height=\"100%\" fill=\"red\" />\n",
        "    <circle cx=\"100%\" cy=\"100%\" r=\"150\" fill=\"blue\" stroke=\"black\" />\n",
        "    <polygon points=\"120,0 240,225 0,225\" fill=\"green\" />\n",
        "    <text x=\"50\" y=\"100\" font-family=\"Verdana\" font-size=\"55\" fill=\"white\" stroke=\"black\" stroke-width=\"2\">\n",
        "        Hello!\n",
        "    </text>\n",
        "</svg>"
      ],
      "execution_count": null,
      "outputs": [
        {
          "output_type": "display_data",
          "data": {
            "text/html": [
              "<svg>\n",
              "    <rect width=\"100%\" height=\"100%\" fill=\"red\" />\n",
              "    <circle cx=\"100%\" cy=\"100%\" r=\"150\" fill=\"blue\" stroke=\"black\" />\n",
              "    <polygon points=\"120,0 240,225 0,225\" fill=\"green\" />\n",
              "    <text x=\"50\" y=\"100\" font-family=\"Verdana\" font-size=\"55\" fill=\"white\" stroke=\"black\" stroke-width=\"2\">\n",
              "        Hello!\n",
              "    </text>\n",
              "</svg>"
            ],
            "text/plain": [
              "<IPython.core.display.HTML object>"
            ]
          },
          "metadata": {
            "tags": []
          }
        }
      ]
    },
    {
      "cell_type": "markdown",
      "metadata": {
        "id": "3ZAvsn-qG7E1"
      },
      "source": [
        "# レスポンシブ画像 省略"
      ]
    },
    {
      "cell_type": "markdown",
      "metadata": {
        "id": "BYKTfDkPMXNm"
      },
      "source": [
        "# テーブル\n",
        "テーブルはcssが必要だが、htmlの学習上は邪魔ですね。 どうしようか。\n",
        "\n",
        "1行にしてしまえば、とりあえず邪魔にならないかもしれない。  やってみよう。\n",
        "\n"
      ]
    },
    {
      "cell_type": "code",
      "metadata": {
        "id": "D_qLl2316qkV",
        "colab": {
          "base_uri": "https://localhost:8080/",
          "height": 17
        },
        "outputId": "f3f796ef-8b69-4c78-b5c1-7d9b6303ebb5"
      },
      "source": [
        "# minimal table css\n",
        "%%%html\n",
        "<style>html {font-family: sans-serif;}table {border-collapse: collapse;border: 2px solid rgb(200, 200, 200);letter-spacing: 1px;font-size: 0.8rem;}td,th {border: 1px solid rgb(190, 190, 190);padding: 10px 20px;}th {background-color: rgb(235, 235, 235);}td {text-align: center;}tr:nth-child(even) td {background-color: rgb(250, 250, 250);}tr:nth-child(odd) td {background-color: rgb(245, 245, 245);}caption {padding: 10px;}</style>"
      ],
      "execution_count": null,
      "outputs": [
        {
          "output_type": "display_data",
          "data": {
            "text/html": [
              "<style>html {font-family: sans-serif;}table {border-collapse: collapse;border: 2px solid rgb(200, 200, 200);letter-spacing: 1px;font-size: 0.8rem;}td,th {border: 1px solid rgb(190, 190, 190);padding: 10px 20px;}th {background-color: rgb(235, 235, 235);}td {text-align: center;}tr:nth-child(even) td {background-color: rgb(250, 250, 250);}tr:nth-child(odd) td {background-color: rgb(245, 245, 245);}caption {padding: 10px;}</style>"
            ],
            "text/plain": [
              "<IPython.core.display.HTML object>"
            ]
          },
          "metadata": {
            "tags": []
          }
        }
      ]
    },
    {
      "cell_type": "code",
      "metadata": {
        "id": "0u522ifSN15w",
        "colab": {
          "base_uri": "https://localhost:8080/",
          "height": 57
        },
        "outputId": "773b88b3-b87e-45ae-a468-9c4760ff4028"
      },
      "source": [
        "%%html\n",
        "<style>html {font-family: sans-serif;}table {border-collapse: collapse;border: 2px solid rgb(200, 200, 200);letter-spacing: 1px;font-size: 0.8rem;}td,th {border: 1px solid rgb(190, 190, 190);padding: 10px 20px;}th {background-color: rgb(235, 235, 235);}td {text-align: center;}tr:nth-child(even) td {background-color: rgb(250, 250, 250);}tr:nth-child(odd) td {background-color: rgb(245, 245, 245);}caption {padding: 10px;}</style>\n",
        "<table>\n",
        "    <td>Hi, I'm your first cell.</td>\n",
        "    <td>I'm your second cell.</td>\n",
        "    <td>I'm your third cell.</td>\n",
        "    <td>I'm your fourth cell.</td>\n",
        "</table>"
      ],
      "execution_count": null,
      "outputs": [
        {
          "output_type": "display_data",
          "data": {
            "text/html": [
              "<style>html {font-family: sans-serif;}table {border-collapse: collapse;border: 2px solid rgb(200, 200, 200);letter-spacing: 1px;font-size: 0.8rem;}td,th {border: 1px solid rgb(190, 190, 190);padding: 10px 20px;}th {background-color: rgb(235, 235, 235);}td {text-align: center;}tr:nth-child(even) td {background-color: rgb(250, 250, 250);}tr:nth-child(odd) td {background-color: rgb(245, 245, 245);}caption {padding: 10px;}</style>\n",
              "<table>\n",
              "    <td>Hi, I'm your first cell.</td>\n",
              "    <td>I'm your second cell.</td>\n",
              "    <td>I'm your third cell.</td>\n",
              "    <td>I'm your fourth cell.</td>\n",
              "</table>"
            ],
            "text/plain": [
              "<IPython.core.display.HTML object>"
            ]
          },
          "metadata": {
            "tags": []
          }
        }
      ]
    },
    {
      "cell_type": "code",
      "metadata": {
        "id": "xseYJJBuQhS1",
        "colab": {
          "base_uri": "https://localhost:8080/",
          "height": 93
        },
        "outputId": "9f56c3b4-de8a-4412-957f-5f27a012ecdb"
      },
      "source": [
        "%%html\n",
        "<style>html {font-family: sans-serif;}table {border-collapse: collapse;border: 2px solid rgb(200, 200, 200);letter-spacing: 1px;font-size: 0.8rem;}td,th {border: 1px solid rgb(190, 190, 190);padding: 10px 20px;}th {background-color: rgb(235, 235, 235);}td {text-align: center;}tr:nth-child(even) td {background-color: rgb(250, 250, 250);}tr:nth-child(odd) td {background-color: rgb(245, 245, 245);}caption {padding: 10px;}</style>\n",
        "\n",
        "<table>\n",
        "    <tr>\n",
        "        <td>Hi, I'm your first cell.</td>\n",
        "        <td>I'm your second cell.</td>\n",
        "        <td>I'm your third cell.</td>\n",
        "        <td>I'm your fourth cell.</td>\n",
        "    </tr>\n",
        "    <tr>\n",
        "        <td>Second row, first cell.</td>\n",
        "        <td>Cell 2.</td>\n",
        "        <td>Cell 3.</td>\n",
        "        <td>Cell 4.</td>\n",
        "    </tr>\n",
        "</table>"
      ],
      "execution_count": null,
      "outputs": [
        {
          "output_type": "display_data",
          "data": {
            "text/html": [
              "<style>html {font-family: sans-serif;}table {border-collapse: collapse;border: 2px solid rgb(200, 200, 200);letter-spacing: 1px;font-size: 0.8rem;}td,th {border: 1px solid rgb(190, 190, 190);padding: 10px 20px;}th {background-color: rgb(235, 235, 235);}td {text-align: center;}tr:nth-child(even) td {background-color: rgb(250, 250, 250);}tr:nth-child(odd) td {background-color: rgb(245, 245, 245);}caption {padding: 10px;}</style>\n",
              "\n",
              "<table>\n",
              "    <tr>\n",
              "        <td>Hi, I'm your first cell.</td>\n",
              "        <td>I'm your second cell.</td>\n",
              "        <td>I'm your third cell.</td>\n",
              "        <td>I'm your fourth cell.</td>\n",
              "    </tr>\n",
              "    <tr>\n",
              "        <td>Second row, first cell.</td>\n",
              "        <td>Cell 2.</td>\n",
              "        <td>Cell 3.</td>\n",
              "        <td>Cell 4.</td>\n",
              "    </tr>\n",
              "</table>"
            ],
            "text/plain": [
              "<IPython.core.display.HTML object>"
            ]
          },
          "metadata": {
            "tags": []
          }
        }
      ]
    },
    {
      "cell_type": "code",
      "metadata": {
        "id": "XceIhfKaciJq",
        "colab": {
          "base_uri": "https://localhost:8080/",
          "height": 216
        },
        "outputId": "a3c5c7b2-fbfb-479b-c445-a82e5d4e672c"
      },
      "source": [
        "%%html\n",
        "<style>html {font-family: sans-serif;}table {border-collapse: collapse;border: 2px solid rgb(200, 200, 200);letter-spacing: 1px;font-size: 0.8rem;}td,th {border: 1px solid rgb(190, 190, 190);padding: 10px 20px;}th {background-color: rgb(235, 235, 235);}td {text-align: center;}tr:nth-child(even) td {background-color: rgb(250, 250, 250);}tr:nth-child(odd) td {background-color: rgb(245, 245, 245);}caption {padding: 10px;}</style>\n",
        "\n",
        "<table>\n",
        "    <tr>\n",
        "        <td>&nbsp;</td>\n",
        "        <th scope=\"col\">Knocky</th>\n",
        "        <th scope=\"col\">Flor</th>\n",
        "        <th scope=\"col\">Ella</th>\n",
        "        <th scope=\"col\">Juan</th>\n",
        "    </tr>\n",
        "    <tr>\n",
        "        <th scope=\"row\">Breed</th>\n",
        "        <td>Jack Russell</td>\n",
        "        <td>Poodle</td>\n",
        "        <td>Streetdog</td>\n",
        "        <td>Cocker Spaniel</td>\n",
        "    </tr>\n",
        "    <tr>\n",
        "        <th scope=\"row\">Age</th>\n",
        "        <td>16</td>\n",
        "        <td>9</td>\n",
        "        <td>10</td>\n",
        "        <td>5</td>\n",
        "    </tr>\n",
        "    <tr>\n",
        "        <th scope=\"row\">Owner</th>\n",
        "        <td>Mother-in-law</td>\n",
        "        <td>Me</td>\n",
        "        <td>Me</td>\n",
        "        <td>Sister-in-law</td>\n",
        "    </tr>\n",
        "    <tr>\n",
        "        <th scope=\"row\">Eating Habits</th>\n",
        "        <td>Eats everyone's leftovers</td>\n",
        "        <td>Nibbles at food</td>\n",
        "        <td>Hearty eater</td>\n",
        "        <td>Will eat till he explodes</td>\n",
        "    </tr>\n",
        "</table>"
      ],
      "execution_count": null,
      "outputs": [
        {
          "output_type": "display_data",
          "data": {
            "text/html": [
              "<style>html {font-family: sans-serif;}table {border-collapse: collapse;border: 2px solid rgb(200, 200, 200);letter-spacing: 1px;font-size: 0.8rem;}td,th {border: 1px solid rgb(190, 190, 190);padding: 10px 20px;}th {background-color: rgb(235, 235, 235);}td {text-align: center;}tr:nth-child(even) td {background-color: rgb(250, 250, 250);}tr:nth-child(odd) td {background-color: rgb(245, 245, 245);}caption {padding: 10px;}</style>\n",
              "\n",
              "<table>\n",
              "    <tr>\n",
              "        <td>&nbsp;</td>\n",
              "        <th scope=\"col\">Knocky</th>\n",
              "        <th scope=\"col\">Flor</th>\n",
              "        <th scope=\"col\">Ella</th>\n",
              "        <th scope=\"col\">Juan</th>\n",
              "    </tr>\n",
              "    <tr>\n",
              "        <th scope=\"row\">Breed</th>\n",
              "        <td>Jack Russell</td>\n",
              "        <td>Poodle</td>\n",
              "        <td>Streetdog</td>\n",
              "        <td>Cocker Spaniel</td>\n",
              "    </tr>\n",
              "    <tr>\n",
              "        <th scope=\"row\">Age</th>\n",
              "        <td>16</td>\n",
              "        <td>9</td>\n",
              "        <td>10</td>\n",
              "        <td>5</td>\n",
              "    </tr>\n",
              "    <tr>\n",
              "        <th scope=\"row\">Owner</th>\n",
              "        <td>Mother-in-law</td>\n",
              "        <td>Me</td>\n",
              "        <td>Me</td>\n",
              "        <td>Sister-in-law</td>\n",
              "    </tr>\n",
              "    <tr>\n",
              "        <th scope=\"row\">Eating Habits</th>\n",
              "        <td>Eats everyone's leftovers</td>\n",
              "        <td>Nibbles at food</td>\n",
              "        <td>Hearty eater</td>\n",
              "        <td>Will eat till he explodes</td>\n",
              "    </tr>\n",
              "</table>"
            ],
            "text/plain": [
              "<IPython.core.display.HTML object>"
            ]
          },
          "metadata": {
            "tags": []
          }
        }
      ]
    },
    {
      "cell_type": "code",
      "metadata": {
        "id": "TLXh7UIMiduD",
        "colab": {
          "base_uri": "https://localhost:8080/",
          "height": 330
        },
        "outputId": "3c8c71dd-b951-4a99-b722-76d3426f5774"
      },
      "source": [
        "%%html\n",
        "<style>html {font-family: sans-serif;}table {border-collapse: collapse;border: 2px solid rgb(200, 200, 200);letter-spacing: 1px;font-size: 0.8rem;}td,th {border: 1px solid rgb(190, 190, 190);padding: 10px 20px;}th {background-color: rgb(235, 235, 235);}td {text-align: center;}tr:nth-child(even) td {background-color: rgb(250, 250, 250);}tr:nth-child(odd) td {background-color: rgb(245, 245, 245);}caption {padding: 10px;}</style>\n",
        "\n",
        "<h1>Animals table</h1>\n",
        "\n",
        "<table>\n",
        "    <tr>\n",
        "        <th colspan=\"2\">Animals</th>\n",
        "    </tr>\n",
        "    <tr>\n",
        "        <th colspan=\"2\">Hippopotamus</th>\n",
        "    </tr>\n",
        "    <tr>\n",
        "        <th rowspan=\"2\">Horse</th>\n",
        "        <td>Mare</td>\n",
        "    </tr>\n",
        "    <tr>\n",
        "        <td>Stallion</td>\n",
        "    </tr>\n",
        "    <tr>\n",
        "        <th colspan=\"2\">Crocodile</th>\n",
        "    </tr>\n",
        "    <tr>\n",
        "        <th rowspan=\"2\">Chicken</th>\n",
        "        <td>Hen</td>\n",
        "    </tr>\n",
        "    <tr>\n",
        "        <td>Rooster</td>\n",
        "    </tr>\n",
        "</table>"
      ],
      "execution_count": null,
      "outputs": [
        {
          "output_type": "display_data",
          "data": {
            "text/html": [
              "<style>html {font-family: sans-serif;}table {border-collapse: collapse;border: 2px solid rgb(200, 200, 200);letter-spacing: 1px;font-size: 0.8rem;}td,th {border: 1px solid rgb(190, 190, 190);padding: 10px 20px;}th {background-color: rgb(235, 235, 235);}td {text-align: center;}tr:nth-child(even) td {background-color: rgb(250, 250, 250);}tr:nth-child(odd) td {background-color: rgb(245, 245, 245);}caption {padding: 10px;}</style>\n",
              "\n",
              "<h1>Animals table</h1>\n",
              "\n",
              "<table>\n",
              "    <tr>\n",
              "        <th colspan=\"2\">Animals</th>\n",
              "    </tr>\n",
              "    <tr>\n",
              "        <th colspan=\"2\">Hippopotamus</th>\n",
              "    </tr>\n",
              "    <tr>\n",
              "        <th rowspan=\"2\">Horse</th>\n",
              "        <td>Mare</td>\n",
              "    </tr>\n",
              "    <tr>\n",
              "        <td>Stallion</td>\n",
              "    </tr>\n",
              "    <tr>\n",
              "        <th colspan=\"2\">Crocodile</th>\n",
              "    </tr>\n",
              "    <tr>\n",
              "        <th rowspan=\"2\">Chicken</th>\n",
              "        <td>Hen</td>\n",
              "    </tr>\n",
              "    <tr>\n",
              "        <td>Rooster</td>\n",
              "    </tr>\n",
              "</table>"
            ],
            "text/plain": [
              "<IPython.core.display.HTML object>"
            ]
          },
          "metadata": {
            "tags": []
          }
        }
      ]
    },
    {
      "cell_type": "code",
      "metadata": {
        "id": "pbD6YLVWjyol",
        "colab": {
          "base_uri": "https://localhost:8080/",
          "height": 262
        },
        "outputId": "d749d131-cbb0-4103-ae31-74bf4bbc4808"
      },
      "source": [
        "%%html\n",
        "<style>    html {        font-family: sans-serif;    }    table {        border-collapse: collapse;        border: 2px solid rgb(200, 200, 200);        letter-spacing: 1px;        font-size: 0.8rem;    }    td,    th {        border: 1px solid rgb(190, 190, 190);        padding: 10px 20px;    }    td {        text-align: center;    }    caption {        padding: 10px;    }</style>\n",
        "\n",
        "<h1>School timetable</h1>\n",
        "\n",
        "<table>\n",
        "    <colgroup>\n",
        "        <col span=\"2\">\n",
        "        <col style=\"background-color:#97DB9A;\">\n",
        "        <col style=\"width:42px;\">\n",
        "        <col style=\"background-color:#97DB9A;\">\n",
        "        <col style=\"background-color:#DCC48E; border:4px solid #C1437A;\">\n",
        "        <col span=\"2\" style=\"width:42px; background-color:pink;\">\n",
        "    </colgroup>\n",
        "    <tr>\n",
        "        <td>&nbsp;</td>\n",
        "        <th>Mon</th>\n",
        "        <th>Tues</th>\n",
        "        <th>Wed</th>\n",
        "        <th>Thurs</th>\n",
        "        <th>Fri</th>\n",
        "        <th>Sat</th>\n",
        "        <th>Sun</th>\n",
        "    </tr>\n",
        "    <tr>\n",
        "        <th>1st period</th>\n",
        "        <td>English</td>\n",
        "        <td>&nbsp;</td>\n",
        "        <td>&nbsp;</td>\n",
        "        <td>German</td>\n",
        "        <td>Dutch</td>\n",
        "        <td>&nbsp;</td>\n",
        "        <td>&nbsp;</td>\n",
        "    </tr>\n",
        "    <tr>\n",
        "        <th>2nd period</th>\n",
        "        <td>English</td>\n",
        "        <td>English</td>\n",
        "        <td>&nbsp;</td>\n",
        "        <td>German</td>\n",
        "        <td>Dutch</td>\n",
        "        <td>&nbsp;</td>\n",
        "        <td>&nbsp;</td>\n",
        "    </tr>\n",
        "    <tr>\n",
        "        <th>3rd period</th>\n",
        "        <td>&nbsp;</td>\n",
        "        <td>German</td>\n",
        "        <td>&nbsp;</td>\n",
        "        <td>German</td>\n",
        "        <td>Dutch</td>\n",
        "        <td>&nbsp;</td>\n",
        "        <td>&nbsp;</td>\n",
        "    </tr>\n",
        "    <tr>\n",
        "        <th>4th period</th>\n",
        "        <td>&nbsp;</td>\n",
        "        <td>English</td>\n",
        "        <td>&nbsp;</td>\n",
        "        <td>English</td>\n",
        "        <td>Dutch</td>\n",
        "        <td>&nbsp;</td>\n",
        "        <td>&nbsp;</td>\n",
        "    </tr>\n",
        "</table>"
      ],
      "execution_count": null,
      "outputs": [
        {
          "output_type": "display_data",
          "data": {
            "text/html": [
              "<style>    html {        font-family: sans-serif;    }    table {        border-collapse: collapse;        border: 2px solid rgb(200, 200, 200);        letter-spacing: 1px;        font-size: 0.8rem;    }    td,    th {        border: 1px solid rgb(190, 190, 190);        padding: 10px 20px;    }    td {        text-align: center;    }    caption {        padding: 10px;    }</style>\n",
              "\n",
              "<h1>School timetable</h1>\n",
              "\n",
              "<table>\n",
              "    <colgroup>\n",
              "        <col span=\"2\">\n",
              "        <col style=\"background-color:#97DB9A;\">\n",
              "        <col style=\"width:42px;\">\n",
              "        <col style=\"background-color:#97DB9A;\">\n",
              "        <col style=\"background-color:#DCC48E; border:4px solid #C1437A;\">\n",
              "        <col span=\"2\" style=\"width:42px; background-color:pink;\">\n",
              "    </colgroup>\n",
              "    <tr>\n",
              "        <td>&nbsp;</td>\n",
              "        <th>Mon</th>\n",
              "        <th>Tues</th>\n",
              "        <th>Wed</th>\n",
              "        <th>Thurs</th>\n",
              "        <th>Fri</th>\n",
              "        <th>Sat</th>\n",
              "        <th>Sun</th>\n",
              "    </tr>\n",
              "    <tr>\n",
              "        <th>1st period</th>\n",
              "        <td>English</td>\n",
              "        <td>&nbsp;</td>\n",
              "        <td>&nbsp;</td>\n",
              "        <td>German</td>\n",
              "        <td>Dutch</td>\n",
              "        <td>&nbsp;</td>\n",
              "        <td>&nbsp;</td>\n",
              "    </tr>\n",
              "    <tr>\n",
              "        <th>2nd period</th>\n",
              "        <td>English</td>\n",
              "        <td>English</td>\n",
              "        <td>&nbsp;</td>\n",
              "        <td>German</td>\n",
              "        <td>Dutch</td>\n",
              "        <td>&nbsp;</td>\n",
              "        <td>&nbsp;</td>\n",
              "    </tr>\n",
              "    <tr>\n",
              "        <th>3rd period</th>\n",
              "        <td>&nbsp;</td>\n",
              "        <td>German</td>\n",
              "        <td>&nbsp;</td>\n",
              "        <td>German</td>\n",
              "        <td>Dutch</td>\n",
              "        <td>&nbsp;</td>\n",
              "        <td>&nbsp;</td>\n",
              "    </tr>\n",
              "    <tr>\n",
              "        <th>4th period</th>\n",
              "        <td>&nbsp;</td>\n",
              "        <td>English</td>\n",
              "        <td>&nbsp;</td>\n",
              "        <td>English</td>\n",
              "        <td>Dutch</td>\n",
              "        <td>&nbsp;</td>\n",
              "        <td>&nbsp;</td>\n",
              "    </tr>\n",
              "</table>"
            ],
            "text/plain": [
              "<IPython.core.display.HTML object>"
            ]
          },
          "metadata": {
            "tags": []
          }
        }
      ]
    },
    {
      "cell_type": "markdown",
      "metadata": {
        "id": "8M8L4T7ESpWk"
      },
      "source": [
        "## 表にキャプションをつける"
      ]
    },
    {
      "cell_type": "code",
      "metadata": {
        "id": "1sz7m-SlR44w",
        "colab": {
          "base_uri": "https://localhost:8080/",
          "height": 200
        },
        "outputId": "70dfeab9-a007-498f-b3d3-dfccc31c8d20"
      },
      "source": [
        "%%html\n",
        "<style>    html {        font-family: sans-serif;    }    table {        border-collapse: collapse;        border: 2px solid rgb(200, 200, 200);        letter-spacing: 1px;        font-size: 0.8rem;    }    td,    th {        border: 1px solid rgb(190, 190, 190);        padding: 10px 20px;    }    td {        text-align: center;    }    caption {        padding: 10px;    }</style>\n",
        "\n",
        "<table>\n",
        "    <caption>ジュラ紀の恐竜</caption>\n",
        "    <tr>\n",
        "        <td>&nbsp;</td>\n",
        "        <th scope=\"col\">兄</th>\n",
        "        <th scope=\"col\">弟</th>\n",
        "    </tr>\n",
        "    <tr>\n",
        "        <th scope=\"row\">アルファ</th>\n",
        "        <td>キアヌ</td>\n",
        "        <td>トム</td>\n",
        "    </tr>\n",
        "    <tr>\n",
        "        <th scope=\"row\">ベータ</th>\n",
        "        <td>ハリソン</td>\n",
        "        <td>ジュード</td>\n",
        "    </tr>\n",
        "    <tr>\n",
        "        <th scope=\"row\">オメガ</th>\n",
        "        <td>ジェイク</td>\n",
        "        <td>デンゼル</td>\n",
        "    </tr>\n",
        "</table>"
      ],
      "execution_count": null,
      "outputs": [
        {
          "output_type": "display_data",
          "data": {
            "text/html": [
              "<style>    html {        font-family: sans-serif;    }    table {        border-collapse: collapse;        border: 2px solid rgb(200, 200, 200);        letter-spacing: 1px;        font-size: 0.8rem;    }    td,    th {        border: 1px solid rgb(190, 190, 190);        padding: 10px 20px;    }    td {        text-align: center;    }    caption {        padding: 10px;    }</style>\n",
              "\n",
              "<table>\n",
              "    <caption>ジュラ紀の恐竜</caption>\n",
              "    <tr>\n",
              "        <td>&nbsp;</td>\n",
              "        <th scope=\"col\">兄</th>\n",
              "        <th scope=\"col\">弟</th>\n",
              "    </tr>\n",
              "    <tr>\n",
              "        <th scope=\"row\">アルファ</th>\n",
              "        <td>キアヌ</td>\n",
              "        <td>トム</td>\n",
              "    </tr>\n",
              "    <tr>\n",
              "        <th scope=\"row\">ベータ</th>\n",
              "        <td>ハリソン</td>\n",
              "        <td>ジュード</td>\n",
              "    </tr>\n",
              "    <tr>\n",
              "        <th scope=\"row\">オメガ</th>\n",
              "        <td>ジェイク</td>\n",
              "        <td>デンゼル</td>\n",
              "    </tr>\n",
              "</table>"
            ],
            "text/plain": [
              "<IPython.core.display.HTML object>"
            ]
          },
          "metadata": {
            "tags": []
          }
        }
      ]
    },
    {
      "cell_type": "code",
      "metadata": {
        "id": "4dCTbGvUTa5E",
        "colab": {
          "base_uri": "https://localhost:8080/",
          "height": 329
        },
        "outputId": "3983c9a7-2fe3-48be-8c54-067f5ab4cc7f"
      },
      "source": [
        "%%html\n",
        "<style>\n",
        "html {    font-family: sans-serif;  }    table {    border-collapse: collapse;    border: 2px solid rgb(200,200,200);    letter-spacing: 1px;    font-size: 0.8rem;  }    td, th {    border: 1px solid rgb(190,190,190);    padding: 10px 20px;  }    th {    background-color: rgb(235,235,235);  }    td {    text-align: center;  }    tr:nth-child(even) td {    background-color: rgb(250,250,250);  }    tr:nth-child(odd) td {    background-color: rgb(245,245,245);  }    caption {    padding: 10px;  }\n",
        "</style>\n",
        "\n",
        "<h1>My spending record</h1>\n",
        "\n",
        "<table>\n",
        "    <caption>How I chose to spend my money</caption>\n",
        "    <tr>\n",
        "        <th>Purchase</th>\n",
        "        <th>Location</th>\n",
        "        <th>Date</th>\n",
        "        <th>Evaluation</th>\n",
        "        <th>Cost (€)</th>\n",
        "    </tr>\n",
        "    <tr>\n",
        "        <td>SUM</td>\n",
        "        <td>118</td>\n",
        "    </tr>\n",
        "    <tr>\n",
        "        <td>Haircut</td>\n",
        "        <td>Hairdresser</td>\n",
        "        <td>12/09</td>\n",
        "        <td>Great idea</td>\n",
        "        <td>30</td>\n",
        "    </tr>\n",
        "    <tr>\n",
        "        <td>Lasagna</td>\n",
        "        <td>Restaurant</td>\n",
        "        <td>12/09</td>\n",
        "        <td>Regrets</td>\n",
        "        <td>18</td>\n",
        "    </tr>\n",
        "    <tr>\n",
        "        <td>Shoes</td>\n",
        "        <td>Shoeshop</td>\n",
        "        <td>13/09</td>\n",
        "        <td>Big regrets</td>\n",
        "        <td>65</td>\n",
        "    </tr>\n",
        "    <tr>\n",
        "        <td>Toothpaste</td>\n",
        "        <td>Supermarket</td>\n",
        "        <td>13/09</td>\n",
        "        <td>Good</td>\n",
        "        <td>5</td>\n",
        "    </tr>\n",
        "</table>"
      ],
      "execution_count": null,
      "outputs": [
        {
          "output_type": "display_data",
          "data": {
            "text/html": [
              "<style>\n",
              "html {    font-family: sans-serif;  }    table {    border-collapse: collapse;    border: 2px solid rgb(200,200,200);    letter-spacing: 1px;    font-size: 0.8rem;  }    td, th {    border: 1px solid rgb(190,190,190);    padding: 10px 20px;  }    th {    background-color: rgb(235,235,235);  }    td {    text-align: center;  }    tr:nth-child(even) td {    background-color: rgb(250,250,250);  }    tr:nth-child(odd) td {    background-color: rgb(245,245,245);  }    caption {    padding: 10px;  }\n",
              "</style>\n",
              "\n",
              "<h1>My spending record</h1>\n",
              "\n",
              "<table>\n",
              "    <caption>How I chose to spend my money</caption>\n",
              "    <tr>\n",
              "        <th>Purchase</th>\n",
              "        <th>Location</th>\n",
              "        <th>Date</th>\n",
              "        <th>Evaluation</th>\n",
              "        <th>Cost (€)</th>\n",
              "    </tr>\n",
              "    <tr>\n",
              "        <td>SUM</td>\n",
              "        <td>118</td>\n",
              "    </tr>\n",
              "    <tr>\n",
              "        <td>Haircut</td>\n",
              "        <td>Hairdresser</td>\n",
              "        <td>12/09</td>\n",
              "        <td>Great idea</td>\n",
              "        <td>30</td>\n",
              "    </tr>\n",
              "    <tr>\n",
              "        <td>Lasagna</td>\n",
              "        <td>Restaurant</td>\n",
              "        <td>12/09</td>\n",
              "        <td>Regrets</td>\n",
              "        <td>18</td>\n",
              "    </tr>\n",
              "    <tr>\n",
              "        <td>Shoes</td>\n",
              "        <td>Shoeshop</td>\n",
              "        <td>13/09</td>\n",
              "        <td>Big regrets</td>\n",
              "        <td>65</td>\n",
              "    </tr>\n",
              "    <tr>\n",
              "        <td>Toothpaste</td>\n",
              "        <td>Supermarket</td>\n",
              "        <td>13/09</td>\n",
              "        <td>Good</td>\n",
              "        <td>5</td>\n",
              "    </tr>\n",
              "</table>"
            ],
            "text/plain": [
              "<IPython.core.display.HTML object>"
            ]
          },
          "metadata": {
            "tags": []
          }
        }
      ]
    },
    {
      "cell_type": "code",
      "metadata": {
        "id": "JAPd4VnQBjAo",
        "colab": {
          "base_uri": "https://localhost:8080/",
          "height": 210
        },
        "outputId": "f5b49004-65e7-4f39-ea00-b3b2723fd036"
      },
      "source": [
        "%%html\n",
        "<style>\n",
        "    tbody {\n",
        "        font-size: 90%;\n",
        "        font-style: italic;\n",
        "    }\n",
        "\n",
        "    tfoot {\n",
        "        font-weight: bold;\n",
        "    }\n",
        "</style>\n",
        "\n",
        "<h1>My spending record</h1>\n",
        "\n",
        "<table>\n",
        "    <caption>How I chose to spend my money</caption>\n",
        "    <thead>\n",
        "        <tr>\n",
        "            <th>Purchase</th>\n",
        "            <th>Location</th>\n",
        "            <th>Date</th>\n",
        "            <th>Evaluation</th>\n",
        "            <th>Cost (€)</th>\n",
        "        </tr>\n",
        "    </thead>\n",
        "    <tfoot>\n",
        "        <tr>\n",
        "            <td colspan=\"4\">SUM</td>\n",
        "            <td>118</td>\n",
        "        </tr>\n",
        "    </tfoot>\n",
        "    <tbody>\n",
        "        <tr>\n",
        "            <td>Haircut</td>\n",
        "            <td>Hairdresser</td>\n",
        "            <td>12/09</td>\n",
        "            <td>Great idea</td>\n",
        "            <td>30</td>\n",
        "        </tr>\n",
        "        <tr>\n",
        "            <td>Lasagna</td>\n",
        "            <td>Restaurant</td>\n",
        "            <td>12/09</td>\n",
        "            <td>Regrets</td>\n",
        "            <td>18</td>\n",
        "        </tr>\n",
        "        <tr>\n",
        "            <td>Shoes</td>\n",
        "            <td>Shoeshop</td>\n",
        "            <td>13/09</td>\n",
        "            <td>Big regrets</td>\n",
        "            <td>65</td>\n",
        "        </tr>\n",
        "        <tr>\n",
        "            <td>Toothpaste</td>\n",
        "            <td>Supermarket</td>\n",
        "            <td>13/09</td>\n",
        "            <td>Good</td>\n",
        "            <td>5</td>\n",
        "        </tr>\n",
        "    </tbody>\n",
        "</table>"
      ],
      "execution_count": null,
      "outputs": [
        {
          "output_type": "display_data",
          "data": {
            "text/html": [
              "<style>\n",
              "    tbody {\n",
              "        font-size: 90%;\n",
              "        font-style: italic;\n",
              "    }\n",
              "\n",
              "    tfoot {\n",
              "        font-weight: bold;\n",
              "    }\n",
              "</style>\n",
              "\n",
              "<h1>My spending record</h1>\n",
              "\n",
              "<table>\n",
              "    <caption>How I chose to spend my money</caption>\n",
              "    <thead>\n",
              "        <tr>\n",
              "            <th>Purchase</th>\n",
              "            <th>Location</th>\n",
              "            <th>Date</th>\n",
              "            <th>Evaluation</th>\n",
              "            <th>Cost (€)</th>\n",
              "        </tr>\n",
              "    </thead>\n",
              "    <tfoot>\n",
              "        <tr>\n",
              "            <td colspan=\"4\">SUM</td>\n",
              "            <td>118</td>\n",
              "        </tr>\n",
              "    </tfoot>\n",
              "    <tbody>\n",
              "        <tr>\n",
              "            <td>Haircut</td>\n",
              "            <td>Hairdresser</td>\n",
              "            <td>12/09</td>\n",
              "            <td>Great idea</td>\n",
              "            <td>30</td>\n",
              "        </tr>\n",
              "        <tr>\n",
              "            <td>Lasagna</td>\n",
              "            <td>Restaurant</td>\n",
              "            <td>12/09</td>\n",
              "            <td>Regrets</td>\n",
              "            <td>18</td>\n",
              "        </tr>\n",
              "        <tr>\n",
              "            <td>Shoes</td>\n",
              "            <td>Shoeshop</td>\n",
              "            <td>13/09</td>\n",
              "            <td>Big regrets</td>\n",
              "            <td>65</td>\n",
              "        </tr>\n",
              "        <tr>\n",
              "            <td>Toothpaste</td>\n",
              "            <td>Supermarket</td>\n",
              "            <td>13/09</td>\n",
              "            <td>Good</td>\n",
              "            <td>5</td>\n",
              "        </tr>\n",
              "    </tbody>\n",
              "</table>"
            ],
            "text/plain": [
              "<IPython.core.display.HTML object>"
            ]
          },
          "metadata": {
            "tags": []
          }
        }
      ]
    },
    {
      "cell_type": "markdown",
      "metadata": {
        "id": "8N7mfqpHDID9"
      },
      "source": [
        "## テーブルをネストする"
      ]
    },
    {
      "cell_type": "code",
      "metadata": {
        "id": "FhLMbpnpDLfk",
        "colab": {
          "base_uri": "https://localhost:8080/",
          "height": 153
        },
        "outputId": "e9e3efa8-790f-40d0-e7f2-b6fbee3473b7"
      },
      "source": [
        "%%html\n",
        "<style>\n",
        "html {    font-family: sans-serif;  }    table {    border-collapse: collapse;    border: 2px solid rgb(200,200,200);    letter-spacing: 1px;    font-size: 0.8rem;  }    td, th {    border: 1px solid rgb(190,190,190);    padding: 10px 20px;  }    th {    background-color: rgb(235,235,235);  }    td {    text-align: center;  }    tr:nth-child(even) td {    background-color: rgb(250,250,250);  }    tr:nth-child(odd) td {    background-color: rgb(245,245,245);  }    caption {    padding: 10px;  }\n",
        "</style>\n",
        "<table id=\"table1\">\n",
        "    <tr>\n",
        "        <th>title1</th>\n",
        "        <th>title2</th>\n",
        "        <th>title3</th>\n",
        "    </tr>\n",
        "    <tr>\n",
        "        <td id=\"nested\">\n",
        "            <table id=\"table2\">\n",
        "                <tr>\n",
        "                    <td>cell1</td>\n",
        "                    <td>cell2</td>\n",
        "                    <td>cell3</td>\n",
        "                </tr>\n",
        "            </table>\n",
        "        </td>\n",
        "        <td>cell2</td>\n",
        "        <td>cell3</td>\n",
        "    </tr>\n",
        "    <tr>\n",
        "        <td>cell4</td>\n",
        "        <td>cell5</td>\n",
        "        <td>cell6</td>\n",
        "    </tr>\n",
        "</table>"
      ],
      "execution_count": null,
      "outputs": [
        {
          "output_type": "display_data",
          "data": {
            "text/html": [
              "<style>\n",
              "html {    font-family: sans-serif;  }    table {    border-collapse: collapse;    border: 2px solid rgb(200,200,200);    letter-spacing: 1px;    font-size: 0.8rem;  }    td, th {    border: 1px solid rgb(190,190,190);    padding: 10px 20px;  }    th {    background-color: rgb(235,235,235);  }    td {    text-align: center;  }    tr:nth-child(even) td {    background-color: rgb(250,250,250);  }    tr:nth-child(odd) td {    background-color: rgb(245,245,245);  }    caption {    padding: 10px;  }\n",
              "</style>\n",
              "<table id=\"table1\">\n",
              "    <tr>\n",
              "        <th>title1</th>\n",
              "        <th>title2</th>\n",
              "        <th>title3</th>\n",
              "    </tr>\n",
              "    <tr>\n",
              "        <td id=\"nested\">\n",
              "            <table id=\"table2\">\n",
              "                <tr>\n",
              "                    <td>cell1</td>\n",
              "                    <td>cell2</td>\n",
              "                    <td>cell3</td>\n",
              "                </tr>\n",
              "            </table>\n",
              "        </td>\n",
              "        <td>cell2</td>\n",
              "        <td>cell3</td>\n",
              "    </tr>\n",
              "    <tr>\n",
              "        <td>cell4</td>\n",
              "        <td>cell5</td>\n",
              "        <td>cell6</td>\n",
              "    </tr>\n",
              "</table>"
            ],
            "text/plain": [
              "<IPython.core.display.HTML object>"
            ]
          },
          "metadata": {
            "tags": []
          }
        }
      ]
    },
    {
      "cell_type": "markdown",
      "metadata": {
        "id": "Ox1S929REFt6"
      },
      "source": [
        "## scope について\n",
        "読み上げ機能が表を有機的に読み上げるために、個々のセルの位置付けをhtmlに理解させる必要がある。そのための方法として、\n",
        "\n",
        "scope=\"col\"  scope=\"row\" scope=\"colgroup\" scope=\"rowgroup\"  \n",
        "\n",
        "を使う方法と\n",
        "\n",
        "id を利用して td 側に\n",
        "\n",
        "headers=\"colheader_id rowheader_id\"\n",
        "\n",
        "とする方法がある。"
      ]
    },
    {
      "cell_type": "markdown",
      "metadata": {
        "id": "KIVYHIazF4S9"
      },
      "source": [
        "# 以上で mozilla の html の紹介ページを終了。\n",
        "最後の nasa の衛星データの表は、めんどうなので省略。"
      ]
    },
    {
      "cell_type": "markdown",
      "metadata": {
        "id": "kob7-DdwGKxg"
      },
      "source": [
        "# ここから w3schools の html チュートリアル\n"
      ]
    },
    {
      "cell_type": "code",
      "metadata": {
        "id": "CJri4G3AGil8",
        "colab": {
          "base_uri": "https://localhost:8080/",
          "height": 100
        },
        "outputId": "b9e3ae5b-0dee-4071-f0a3-05fc9d7d5689"
      },
      "source": [
        "%%html\n",
        "<h1>My First Heading</h1>\n",
        "<p>My first paragraph.</p>"
      ],
      "execution_count": null,
      "outputs": [
        {
          "output_type": "display_data",
          "data": {
            "text/html": [
              "<h1>My First Heading</h1>\n",
              "<p>My first paragraph.</p>"
            ],
            "text/plain": [
              "<IPython.core.display.HTML object>"
            ]
          },
          "metadata": {
            "tags": []
          }
        }
      ]
    },
    {
      "cell_type": "code",
      "metadata": {
        "id": "W4LcJckA1AbV",
        "colab": {
          "base_uri": "https://localhost:8080/",
          "height": 35
        },
        "outputId": "b7cd97a2-a5cf-4412-f5f3-60d34b0d0712"
      },
      "source": [
        "# 実験 <a href=\"\"> としたときどうなるか\r\n",
        "%%html\r\n",
        "<a href=\"\">Ctrlを押しながらクリックしてみよう!!!!</a>"
      ],
      "execution_count": null,
      "outputs": [
        {
          "output_type": "display_data",
          "data": {
            "text/html": [
              "<a href=\"\">Ctrlを押しながらクリックしてみよう!!!!</a>"
            ],
            "text/plain": [
              "<IPython.core.display.HTML object>"
            ]
          },
          "metadata": {
            "tags": []
          }
        }
      ]
    },
    {
      "cell_type": "markdown",
      "metadata": {
        "id": "2ZE6AUf61YWW"
      },
      "source": [
        "# HTML is not case sensitive\r\n",
        "大文字小文字を区別しない。 大文字小文字を区別しないのに、なぜ全部小文字なのか。 \r\n",
        "\r\n",
        "1. プログラムミスを防ぐため。\r\n",
        "1. まざると美しくないから。\r\n",
        "1. 区別して意味づけして、例えば inline の strong とかは子文字で、とかにするとわかりやすいかもしれないが、プログラムが区別しないのに人間系の区別を入れるのは正しくないから。\r\n",
        "1. どちらかに寄せるとすると、小文字が美しいから。"
      ]
    },
    {
      "cell_type": "markdown",
      "metadata": {
        "id": "HnjmYyblHAX_"
      },
      "source": [
        "# いまここ\r\n",
        "https://www.w3schools.com/html/html_attributes.asp"
      ]
    }
  ]
}