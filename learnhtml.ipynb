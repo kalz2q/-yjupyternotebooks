{
  "nbformat": 4,
  "nbformat_minor": 0,
  "metadata": {
    "colab": {
      "name": "learnhtml.ipynb",
      "provenance": [],
      "toc_visible": true,
      "authorship_tag": "ABX9TyP6DitRBKZd9V317Iew6a2I",
      "include_colab_link": true
    },
    "kernelspec": {
      "name": "python3",
      "display_name": "Python 3"
    }
  },
  "cells": [
    {
      "cell_type": "markdown",
      "metadata": {
        "id": "view-in-github",
        "colab_type": "text"
      },
      "source": [
        "<a href=\"https://colab.research.google.com/github/kalz2q/mycolabnotebooks/blob/master/learnhtml.ipynb\" target=\"_parent\"><img src=\"https://colab.research.google.com/assets/colab-badge.svg\" alt=\"Open In Colab\"/></a>"
      ]
    },
    {
      "cell_type": "markdown",
      "metadata": {
        "id": "s3ZtJizDOH-k"
      },
      "source": [
        "# メモ\n",
        "\n",
        "1. Colab で開かれることを想定している。\n",
        "1. セルマジックの %%html を使い、画像は svg"
      ]
    },
    {
      "cell_type": "markdown",
      "metadata": {
        "id": "ixXMVPzJvAYu"
      },
      "source": [
        "# はじめに\n",
        "\n",
        "セルマジックの %%html はどのように動くが html を学びながら jupyter も実験しながら学ぶ。\n",
        "\n",
        "具体的には、まさかホームページができるわけではないだろう。から表示を見る。\n",
        "\n",
        "それから css と javascript はどうなるのか。とか。\n"
      ]
    },
    {
      "cell_type": "code",
      "metadata": {
        "id": "FTqgiVPevuHa",
        "outputId": "c929e627-dbec-4859-b041-dfa8c2a914ad",
        "colab": {
          "base_uri": "https://localhost:8080/",
          "height": 183
        }
      },
      "source": [
        "%%html\n",
        "\n",
        "<!-- <img src=\"img/taro.png\" width=\"120\" height=\"120\" alt=\"myicon\"> -->\n",
        "<h1>山田太郎</h1>\n",
        "<p>デザイナー見習いです</p>\n",
        "<div>はらほろひれはれ</div>\n",
        "<div>どれみふぁそらしど</div>\n",
        "とか\n",
        "`br` もつかえるか</br>\n",
        "とか\n",
        "<div>はらほろひれはれ</div>"
      ],
      "execution_count": null,
      "outputs": [
        {
          "output_type": "display_data",
          "data": {
            "text/html": [
              "\n",
              "<!-- <img src=\"img/taro.png\" width=\"120\" height=\"120\" alt=\"myicon\"> -->\n",
              "<h1>山田太郎</h1>\n",
              "<p>デザイナー見習いです</p>\n",
              "<div>はらほろひれはれ</div>\n",
              "<div>どれみふぁそらしど</div>\n",
              "とか\n",
              "`br` もつかえるか</br>\n",
              "とか\n",
              "<div>はらほろひれはれ</div>"
            ],
            "text/plain": [
              "<IPython.core.display.HTML object>"
            ]
          },
          "metadata": {
            "tags": []
          }
        }
      ]
    },
    {
      "cell_type": "code",
      "metadata": {
        "id": "NDAIwdYixTL_",
        "outputId": "681e8609-f8bc-4482-ec06-c016bcf9bb93",
        "colab": {
          "base_uri": "https://localhost:8080/",
          "height": 17
        }
      },
      "source": [
        "%%html\n",
        "\n",
        "<!-- コメント -->"
      ],
      "execution_count": null,
      "outputs": [
        {
          "output_type": "display_data",
          "data": {
            "text/html": [
              "\n",
              "<!-- コメント -->"
            ],
            "text/plain": [
              "<IPython.core.display.HTML object>"
            ]
          },
          "metadata": {
            "tags": []
          }
        }
      ]
    },
    {
      "cell_type": "markdown",
      "metadata": {
        "id": "ura_yfMpydAz"
      },
      "source": [
        "コメントは `<!-- コメント -->` 。\n",
        "\n",
        "全体の構成は次のように `header`、`section`、`footer` とするものもあるし。`section` や `div` を多用するやりかたもあるみたい。"
      ]
    },
    {
      "cell_type": "code",
      "metadata": {
        "id": "_eP4OcKZyn2K",
        "outputId": "e23e6d9e-6adb-4fcb-ed0d-17b95f2576b1",
        "colab": {
          "base_uri": "https://localhost:8080/",
          "height": 102
        }
      },
      "source": [
        "%%html\n",
        "\n",
        "<headder>あ</headder>\n",
        "<section>い</section>\n",
        "<section>う</section>\n",
        "<section>\n",
        "    <section>え</section> \n",
        "</section>\n",
        "<footer>お</footer>\n"
      ],
      "execution_count": null,
      "outputs": [
        {
          "output_type": "display_data",
          "data": {
            "text/html": [
              "\n",
              "\n",
              "<headder>あ</headder>\n",
              "<section>い</section>\n",
              "<section>う</section>\n",
              "<section>\n",
              "    <section>え</section> \n",
              "</section>\n",
              "<footer>お</footer>"
            ],
            "text/plain": [
              "<IPython.core.display.HTML object>"
            ]
          },
          "metadata": {
            "tags": []
          }
        }
      ]
    },
    {
      "cell_type": "markdown",
      "metadata": {
        "id": "i2DAWq1b1v9o"
      },
      "source": [
        "# リスト\n",
        "\n",
        "`ol` が 番号付きリスト ordered list、`ul` が 番号なしリスト unordered list かな。"
      ]
    },
    {
      "cell_type": "code",
      "metadata": {
        "id": "PY9NbE7q1ch1",
        "outputId": "2db66829-4ef6-43b7-bd89-4a2cccf33d46",
        "colab": {
          "base_uri": "https://localhost:8080/",
          "height": 78
        }
      },
      "source": [
        "%%html\n",
        "\n",
        "<ol>\n",
        "    <li>\n",
        "        <!-- <img src=\"img/blog.png\" width=\"20\" height=\"20\" alt=\"ブログサイトへのリンク画像です\"> -->\n",
        "        一行目\n",
        "    </li>\n",
        "    <li>\n",
        "        <!-- <img src=\"img/photos.png\" width=\"20\" height=\"20\" alt=\"写真サイトへのリンク画像です\"> -->\n",
        "        二行目\n",
        "    </li>\n",
        "</ol>"
      ],
      "execution_count": null,
      "outputs": [
        {
          "output_type": "display_data",
          "data": {
            "text/html": [
              "\n",
              "<ol>\n",
              "    <li>\n",
              "        <!-- <img src=\"img/blog.png\" width=\"20\" height=\"20\" alt=\"ブログサイトへのリンク画像です\"> -->\n",
              "        一行目\n",
              "    </li>\n",
              "    <li>\n",
              "        <!-- <img src=\"img/photos.png\" width=\"20\" height=\"20\" alt=\"写真サイトへのリンク画像です\"> -->\n",
              "        二行目\n",
              "    </li>\n",
              "</ol>"
            ],
            "text/plain": [
              "<IPython.core.display.HTML object>"
            ]
          },
          "metadata": {
            "tags": []
          }
        }
      ]
    }
  ]
}