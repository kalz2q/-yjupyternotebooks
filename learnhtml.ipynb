{
  "nbformat": 4,
  "nbformat_minor": 0,
  "metadata": {
    "colab": {
      "name": "learnhtml.ipynb",
      "provenance": [],
      "toc_visible": true,
      "authorship_tag": "ABX9TyMkgHeKIldo/gTD7bpZ8BcR",
      "include_colab_link": true
    },
    "kernelspec": {
      "name": "python3",
      "display_name": "Python 3"
    }
  },
  "cells": [
    {
      "cell_type": "markdown",
      "metadata": {
        "id": "view-in-github",
        "colab_type": "text"
      },
      "source": [
        "<a href=\"https://colab.research.google.com/github/kalz2q/mycolabnotebooks/blob/master/learnhtml.ipynb\" target=\"_parent\"><img src=\"https://colab.research.google.com/assets/colab-badge.svg\" alt=\"Open In Colab\"/></a>"
      ]
    },
    {
      "cell_type": "markdown",
      "metadata": {
        "id": "s3ZtJizDOH-k"
      },
      "source": [
        "# メモ\n",
        "\n",
        "1. Colab で開かれることを想定している。\n",
        "1. セルマジックの %%html を使う。\n",
        "1. 実験しながら進むので、読む人もそうして欲しい。\n",
        "1. 参考サイト  \n",
        "https://developer.mozilla.org/ja/docs/Learn/HTML/Introduction_to_HTML/Getting_started  \n",
        "https://www.w3schools.com/html/  \n",
        "\n"
      ]
    },
    {
      "cell_type": "markdown",
      "metadata": {
        "id": "TEv8_GZXEGHM"
      },
      "source": [
        "# はじめに少し実験"
      ]
    },
    {
      "cell_type": "code",
      "metadata": {
        "id": "FTqgiVPevuHa",
        "colab": {
          "base_uri": "https://localhost:8080/",
          "height": 204
        },
        "outputId": "4438eb05-2afb-47f4-8fb4-16c4b7e2b372"
      },
      "source": [
        "# 改行の入り方の実験 => 行間、行の前後、に注意\n",
        "%%html\n",
        "<h1>見出し</h1>\n",
        "<p>段落</p>\n",
        "<div>一行</div>\n",
        "<div>二行</div>\n",
        "とか\n",
        "`br` もつかえるか</br>\n",
        "とか\n",
        "<div>はらほろひれはれ</div>\n",
        "地の文\n",
        "地の文2"
      ],
      "execution_count": null,
      "outputs": [
        {
          "output_type": "display_data",
          "data": {
            "text/html": [
              "<h1>見出し</h1>\n",
              "<p>段落</p>\n",
              "<div>一行</div>\n",
              "<div>二行</div>\n",
              "とか\n",
              "`br` もつかえるか</br>\n",
              "とか\n",
              "<div>はらほろひれはれ</div>\n",
              "地の文\n",
              "地の文2"
            ],
            "text/plain": [
              "<IPython.core.display.HTML object>"
            ]
          },
          "metadata": {
            "tags": []
          }
        }
      ]
    },
    {
      "cell_type": "code",
      "metadata": {
        "id": "NDAIwdYixTL_",
        "colab": {
          "base_uri": "https://localhost:8080/",
          "height": 169
        },
        "outputId": "d95cf88e-32a9-4470-cf9e-4534cfad8a01"
      },
      "source": [
        "# コメントの実験 <script></script> の中ではスラッシュのコメント記法も使える。%%html以下では # によるコメントが使えない\n",
        "%%html\n",
        "<!-- コメント -->\n",
        "<h1>見出し</h1>\n",
        "<p>段落</p>\n",
        "<div>一行</div>\n",
        "<div>二行</div>\n",
        "地の文\n",
        "<div>地の文</div>\n",
        "<script> \n",
        "<!-- コメント2 -->\n",
        "// コメント3\n",
        "/* コメント4 */\n",
        "</script>"
      ],
      "execution_count": null,
      "outputs": [
        {
          "output_type": "display_data",
          "data": {
            "text/html": [
              "<!-- コメント -->\n",
              "<h1>見出し</h1>\n",
              "<p>段落</p>\n",
              "<div>一行</div>\n",
              "<div>二行</div>\n",
              "地の文\n",
              "<div>地の文</div>\n",
              "<script> \n",
              "<!-- コメント2 -->\n",
              "// コメント3\n",
              "/* コメント4 */\n",
              "</script>"
            ],
            "text/plain": [
              "<IPython.core.display.HTML object>"
            ]
          },
          "metadata": {
            "tags": []
          }
        }
      ]
    },
    {
      "cell_type": "code",
      "metadata": {
        "id": "_eP4OcKZyn2K",
        "colab": {
          "base_uri": "https://localhost:8080/",
          "height": 169
        },
        "outputId": "7801d2d9-b4d3-473a-8b71-3c7173db8da0"
      },
      "source": [
        "# 実験 <style></style> が使える。中でコメントが使える。\n",
        "%%html\n",
        "<style>\n",
        "h1 {\n",
        "  color: blue;\n",
        "  // コメント\n",
        "  <!-- コメント2 -->\n",
        "}\n",
        "body {\n",
        "  color: brown;\n",
        "  font-family: Verdana, sams-serif;\n",
        "}\n",
        "</style>\n",
        "<h1>見出し</h1>\n",
        "<p>段落</p>\n",
        "<div>一行</div>\n",
        "<div>二行</div>\n",
        "地の文\n",
        "<div>地の文</div>"
      ],
      "execution_count": null,
      "outputs": [
        {
          "output_type": "display_data",
          "data": {
            "text/html": [
              "<style>\n",
              "h1 {\n",
              "  color: blue;\n",
              "  // コメント\n",
              "  <!-- コメント2 -->\n",
              "}\n",
              "body {\n",
              "  color: brown;\n",
              "  font-family: Verdana, sams-serif;\n",
              "}\n",
              "</style>\n",
              "<h1>見出し</h1>\n",
              "<p>段落</p>\n",
              "<div>一行</div>\n",
              "<div>二行</div>\n",
              "地の文\n",
              "<div>地の文</div>"
            ],
            "text/plain": [
              "<IPython.core.display.HTML object>"
            ]
          },
          "metadata": {
            "tags": []
          }
        }
      ]
    },
    {
      "cell_type": "markdown",
      "metadata": {
        "id": "Xrxy7wCQFo89"
      },
      "source": [
        "# CDN\n",
        "cdn(Content Delivery Network) を使うのはできないみたい。 できるのかもしれないが成功していない。 従って、cdn 経由で jquery、react、などは使えない。\n",
        "\n",
        "CDN だけでなく、`<title></title>` とか普通に `<head></head>` に入るものは使えない。\n",
        "\n",
        "`<html></html>` の中に書かれるものは全部使えると思う。 従って、この環境では css と html と javascrip が学べる、ということになる。\n"
      ]
    },
    {
      "cell_type": "markdown",
      "metadata": {
        "id": "i2DAWq1b1v9o"
      },
      "source": [
        "# リスト\n",
        "\n",
        "`ol` が 番号付きリスト ordered list、`ul` が 番号なしリスト unordered list かな。"
      ]
    },
    {
      "cell_type": "code",
      "metadata": {
        "id": "PY9NbE7q1ch1",
        "colab": {
          "base_uri": "https://localhost:8080/",
          "height": 176
        },
        "outputId": "162d4dac-9b86-412d-921e-778f8fd2fef3"
      },
      "source": [
        "# リストの実験\n",
        "%%html\n",
        "<ol>\n",
        "    <li>\n",
        "        一行目\n",
        "    </li>\n",
        "    <li>\n",
        "        二行目\n",
        "    </li>\n",
        "</ol>\n",
        "<ul>\n",
        "    <li>次</li>\n",
        "    <li>次の次</li>\n",
        "</ul>\n",
        "<ol>\n",
        "    <li>\n",
        "        一行目\n",
        "    </li>\n",
        "    <li>\n",
        "        二行目\n",
        "    </li>\n",
        "</ol>"
      ],
      "execution_count": null,
      "outputs": [
        {
          "output_type": "display_data",
          "data": {
            "text/html": [
              "<ol>\n",
              "    <li>\n",
              "        一行目\n",
              "    </li>\n",
              "    <li>\n",
              "        二行目\n",
              "    </li>\n",
              "</ol>\n",
              "<ul>\n",
              "    <li>次</li>\n",
              "    <li>次の次</li>\n",
              "</ul>\n",
              "<ol>\n",
              "    <li>\n",
              "        一行目\n",
              "    </li>\n",
              "    <li>\n",
              "        二行目\n",
              "    </li>\n",
              "</ol>"
            ],
            "text/plain": [
              "<IPython.core.display.HTML object>"
            ]
          },
          "metadata": {
            "tags": []
          }
        }
      ]
    },
    {
      "cell_type": "code",
      "metadata": {
        "id": "o3bLl_XF0pzW",
        "colab": {
          "base_uri": "https://localhost:8080/",
          "height": 64
        },
        "outputId": "c5f8dd5d-4e98-44c5-887f-185615aba57d"
      },
      "source": [
        "# 太文字\n",
        "%%html\n",
        "<p>My cat is <strong>very grumpy.</p>とか</strong>"
      ],
      "execution_count": null,
      "outputs": [
        {
          "output_type": "display_data",
          "data": {
            "text/html": [
              "<p>My cat is <strong>very grumpy.</p>とか</strong>"
            ],
            "text/plain": [
              "<IPython.core.display.HTML object>"
            ]
          },
          "metadata": {
            "tags": []
          }
        }
      ]
    },
    {
      "cell_type": "code",
      "metadata": {
        "id": "1fgxkKFL1Uyb",
        "colab": {
          "base_uri": "https://localhost:8080/",
          "height": 162
        },
        "outputId": "ae240c8f-944f-45a6-da41-664d4f26a689"
      },
      "source": [
        "# ブロック要素とインライン要素\n",
        "%%html\n",
        "<em>first</em><em>second</em><em>third</em>\n",
        "<p>fourth</p><p>fifth</p><p>sixth</p>\n",
        "<div>fourth</div><div>fifth</div><div>sixth</div>\n"
      ],
      "execution_count": null,
      "outputs": [
        {
          "output_type": "display_data",
          "data": {
            "text/html": [
              "<em>first</em><em>second</em><em>third</em>\n",
              "<p>fourth</p><p>fifth</p><p>sixth</p>\n",
              "<div>fourth</div><div>fifth</div><div>sixth</div>"
            ],
            "text/plain": [
              "<IPython.core.display.HTML object>"
            ]
          },
          "metadata": {
            "tags": []
          }
        }
      ]
    },
    {
      "cell_type": "code",
      "metadata": {
        "id": "eS5B0LXA2K4w",
        "colab": {
          "base_uri": "https://localhost:8080/",
          "height": 120
        },
        "outputId": "2c102454-ad6d-4b3c-c259-e77e2fbf3a9c"
      },
      "source": [
        "# 画像の挿入\n",
        "%%html\n",
        "<img src=\"https://raw.githubusercontent.com/mdn/beginner-html-site/gh-pages/images/firefox-icon.png\" width=\"100\">\n"
      ],
      "execution_count": null,
      "outputs": [
        {
          "output_type": "display_data",
          "data": {
            "text/html": [
              "<img src=\"https://raw.githubusercontent.com/mdn/beginner-html-site/gh-pages/images/firefox-icon.png\" width=\"100\">"
            ],
            "text/plain": [
              "<IPython.core.display.HTML object>"
            ]
          },
          "metadata": {
            "tags": []
          }
        }
      ]
    },
    {
      "cell_type": "code",
      "metadata": {
        "id": "qLdb4Wa025e4",
        "colab": {
          "base_uri": "https://localhost:8080/",
          "height": 46
        },
        "outputId": "1e135ff6-a027-4524-c6a4-91a8c8ee7400"
      },
      "source": [
        "# リンク <a> はハイパーリンク要素\n",
        "%%html\n",
        "<p>A link to my <a href=\"https://www.mozilla.org/\" title=\"The Mozilla homepage\" target=\"_blank\">favourite website</a>.</p>"
      ],
      "execution_count": null,
      "outputs": [
        {
          "output_type": "display_data",
          "data": {
            "text/html": [
              "<p>A link to my <a href=\"https://www.mozilla.org/\" title=\"The Mozilla homepage\" target=\"_blank\">favourite website</a>.</p>"
            ],
            "text/plain": [
              "<IPython.core.display.HTML object>"
            ]
          },
          "metadata": {
            "tags": []
          }
        }
      ]
    },
    {
      "cell_type": "markdown",
      "metadata": {
        "id": "7JUnTj-Z2KJg"
      },
      "source": [
        ""
      ]
    },
    {
      "cell_type": "markdown",
      "metadata": {
        "id": "HnjmYyblHAX_"
      },
      "source": [
        "# いまここ"
      ]
    }
  ]
}