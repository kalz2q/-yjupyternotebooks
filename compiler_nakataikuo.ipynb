{
  "nbformat": 4,
  "nbformat_minor": 0,
  "metadata": {
    "colab": {
      "name": "compiler_nakataikuo.ipynb",
      "provenance": [],
      "authorship_tag": "ABX9TyMZ04vRDxNn0S1PaBQLthfw",
      "include_colab_link": true
    },
    "kernelspec": {
      "name": "python3",
      "display_name": "Python 3"
    },
    "language_info": {
      "name": "python"
    }
  },
  "cells": [
    {
      "cell_type": "markdown",
      "metadata": {
        "id": "view-in-github",
        "colab_type": "text"
      },
      "source": [
        "<a href=\"https://colab.research.google.com/github/kalz2q/mycolabnotebooks/blob/master/compiler_nakataikuo.ipynb\" target=\"_parent\"><img src=\"https://colab.research.google.com/assets/colab-badge.svg\" alt=\"Open In Colab\"/></a>"
      ]
    },
    {
      "cell_type": "markdown",
      "metadata": {
        "id": "bzFMOyHVrGMd"
      },
      "source": [
        "メモ\n",
        "\n",
        "* コンパイラ 作りながら学ぶ\n",
        "* 中田育男なかたいくお\n",
        "\n",
        "を読む\n"
      ]
    }
  ]
}