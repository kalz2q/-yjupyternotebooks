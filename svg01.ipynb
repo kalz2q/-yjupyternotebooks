{
  "nbformat": 4,
  "nbformat_minor": 0,
  "metadata": {
    "colab": {
      "name": "svg01.ipynb",
      "provenance": [],
      "toc_visible": true,
      "authorship_tag": "ABX9TyPBuzhQxPtrgp4WTgVqAnUC",
      "include_colab_link": true
    },
    "kernelspec": {
      "name": "python3",
      "display_name": "Python 3"
    }
  },
  "cells": [
    {
      "cell_type": "markdown",
      "metadata": {
        "id": "view-in-github",
        "colab_type": "text"
      },
      "source": [
        "<a href=\"https://colab.research.google.com/github/kalz2q/mycolabnotebooks/blob/master/svg01.ipynb\" target=\"_parent\"><img src=\"https://colab.research.google.com/assets/colab-badge.svg\" alt=\"Open In Colab\"/></a>"
      ]
    },
    {
      "cell_type": "markdown",
      "metadata": {
        "id": "vv-_uiFAzsi0"
      },
      "source": [
        "# メモ\n",
        "1. svg の勉強をする。\n",
        "1. Colab で読まれることを想定している。\n",
        "1. マジックコマンドは %%html を使う。\n",
        "\n",
        "参考サイト、とか。\n",
        "1. https://boxy-svg.com/tutorials\n",
        "1. w3scools.com svg tutorial https://www.w3schools.com/graphics/svg_intro.asp\n",
        "1. w3schools SVG examples https://www.w3schools.com/graphics/svg_examples.asp\n",
        "1. learn inkscape https://inkscape.org/learn/\n",
        "1. mdn web docs svg tutorial https://developer.mozilla.org/ja/docs/Web/SVG/Tutorial"
      ]
    },
    {
      "cell_type": "markdown",
      "metadata": {
        "id": "UcNJo-qbYx03"
      },
      "source": [
        "円は中心と半径を指定すると描ける。"
      ]
    },
    {
      "cell_type": "code",
      "metadata": {
        "colab": {
          "base_uri": "https://localhost:8080/",
          "height": 220
        },
        "id": "0AIO0gf-CDfU",
        "outputId": "36408ac6-ae7a-42fa-d6b7-8a15ba4724ed"
      },
      "source": [
        "%%html\n",
        "<svg width=\"200\" height=\"200\" >\n",
        "  <circle cx=\"100\" cy=\"100\" r=\"80\" stroke=\"green\" stroke-width=\"8\" fill=\"yellow\" />\n",
        "</svg>"
      ],
      "execution_count": null,
      "outputs": [
        {
          "output_type": "display_data",
          "data": {
            "text/html": [
              "<svg width=\"200\" height=\"200\" >\n",
              "  <circle cx=\"100\" cy=\"100\" r=\"80\" stroke=\"green\" stroke-width=\"8\" fill=\"yellow\" />\n",
              "</svg>"
            ],
            "text/plain": [
              "<IPython.core.display.HTML object>"
            ]
          },
          "metadata": {
            "tags": []
          }
        }
      ]
    },
    {
      "cell_type": "code",
      "metadata": {
        "colab": {
          "base_uri": "https://localhost:8080/",
          "height": 119
        },
        "id": "_sXL2TfRAtwN",
        "outputId": "022ab1a9-4460-4e89-a7f7-cdab54a8bf08"
      },
      "source": [
        "# 実験 circle だけで描く顔\n",
        "%%html\n",
        "<svg width=\"100\" height=\"100\" >\n",
        "  <circle cx=\"50\" cy=\"50\" r=\"40\" stroke=\"grey\"\" stroke-width=\"4\" fill=\"lightsalmon\" />\n",
        "  <circle cx=\"30\" cy=\"45\" r=\"10\" stroke=\"white\" stroke-width=\"4\" fill=\"black\" />\n",
        "  <circle cx=\"70\" cy=\"45\" r=\"10\" stroke=\"white\" stroke-width=\"4\" fill=\"black\" />\n",
        "  <circle cx=\"50\" cy=\"70\" r=\"10\" stroke=\"white\" stroke-width=\"1\" fill=\"red\" />\n",
        "</svg>"
      ],
      "execution_count": null,
      "outputs": [
        {
          "output_type": "display_data",
          "data": {
            "text/html": [
              "\n",
              "<svg width=\"100\" height=\"100\" >\n",
              "  <circle cx=\"50\" cy=\"50\" r=\"40\" stroke=\"grey\"\" stroke-width=\"4\" fill=\"lightsalmon\" />\n",
              "  <circle cx=\"30\" cy=\"45\" r=\"10\" stroke=\"white\" stroke-width=\"4\" fill=\"black\" />\n",
              "  <circle cx=\"70\" cy=\"45\" r=\"10\" stroke=\"white\" stroke-width=\"4\" fill=\"black\" />\n",
              "  <circle cx=\"50\" cy=\"70\" r=\"10\" stroke=\"white\" stroke-width=\"1\" fill=\"red\" />\n",
              "</svg>"
            ],
            "text/plain": [
              "<IPython.core.display.HTML object>"
            ]
          },
          "metadata": {
            "tags": []
          }
        }
      ]
    },
    {
      "cell_type": "code",
      "metadata": {
        "id": "Z7fRb7GBDGNx",
        "colab": {
          "base_uri": "https://localhost:8080/",
          "height": 119
        },
        "outputId": "ef073841-5b44-4cda-f6cc-f2b010528a55"
      },
      "source": [
        "# 実験 改行なしだと一見コンパクトに書ける\n",
        "%%html\n",
        "<svg width=\"100\" height=\"100\" ><circle cx=\"50\" cy=\"50\" r=\"40\" stroke=\"blue\" stroke-width=\"4\" fill=\"lightsalmon\" /><circle cx=\"30\" cy=\"45\" r=\"10\" stroke=\"white\" stroke-width=\"4\" fill=\"black\" /><circle cx=\"70\" cy=\"45\" r=\"10\" stroke=\"white\" stroke-width=\"4\" fill=\"black\" /><circle cx=\"50\" cy=\"70\" r=\"10\" stroke=\"white\" stroke-width=\"1\" fill=\"red\" /></svg>"
      ],
      "execution_count": null,
      "outputs": [
        {
          "output_type": "display_data",
          "data": {
            "text/html": [
              "<svg width=\"100\" height=\"100\" ><circle cx=\"50\" cy=\"50\" r=\"40\" stroke=\"blue\" stroke-width=\"4\" fill=\"lightsalmon\" /><circle cx=\"30\" cy=\"45\" r=\"10\" stroke=\"white\" stroke-width=\"4\" fill=\"black\" /><circle cx=\"70\" cy=\"45\" r=\"10\" stroke=\"white\" stroke-width=\"4\" fill=\"black\" /><circle cx=\"50\" cy=\"70\" r=\"10\" stroke=\"white\" stroke-width=\"1\" fill=\"red\" /></svg>"
            ],
            "text/plain": [
              "<IPython.core.display.HTML object>"
            ]
          },
          "metadata": {
            "tags": []
          }
        }
      ]
    },
    {
      "cell_type": "markdown",
      "metadata": {
        "id": "5ERuAUlOM34d"
      },
      "source": [
        "svgには次のようなシェイプがある。\n",
        "\n",
        "* Rectangle (rect) 四角\n",
        "* Circle (circle) 円\n",
        "* Ellipse (ellipse) 楕円\n",
        "* Line (line) 線\n",
        "* Polyline (polyline) 折れ線\n",
        "* Polygon (polygon) 多角形\n",
        "* Path (path) パス"
      ]
    },
    {
      "cell_type": "markdown",
      "metadata": {
        "id": "Loh7TB2qNmRQ"
      },
      "source": [
        "## 四角形"
      ]
    },
    {
      "cell_type": "code",
      "metadata": {
        "id": "hLmP7416NpfQ",
        "colab": {
          "base_uri": "https://localhost:8080/",
          "height": 157
        },
        "outputId": "31c0aff1-f682-4137-af8a-b1cdbd124bc2"
      },
      "source": [
        "%%html\n",
        "<style>\n",
        "    html, body {\n",
        "        background-color: yellow;\n",
        "    }\n",
        "</style>\n",
        "<br>\n",
        "<svg width=\"500\" height=\"120\" style=\"background-color:hotpink;\">\n",
        "  <rect width=\"300\" height=\"100\" style=\"fill:rgb(0,0,255);stroke-width:20;stroke:rgb(0,0,0)\" />\n",
        "</svg>"
      ],
      "execution_count": 13,
      "outputs": [
        {
          "output_type": "display_data",
          "data": {
            "text/html": [
              "<style>\n",
              "    html, body {\n",
              "        background-color: yellow;\n",
              "    }\n",
              "</style>\n",
              "<br>\n",
              "<svg width=\"500\" height=\"120\" style=\"background-color:hotpink;\">\n",
              "  <rect width=\"300\" height=\"100\" style=\"fill:rgb(0,0,255);stroke-width:20;stroke:rgb(0,0,0)\" />\n",
              "</svg>"
            ],
            "text/plain": [
              "<IPython.core.display.HTML object>"
            ]
          },
          "metadata": {
            "tags": []
          }
        }
      ]
    },
    {
      "cell_type": "markdown",
      "metadata": {
        "id": "ApuPw2cSPN5-"
      },
      "source": [
        "stroke-widthの幅を広くすると、上と左が半分欠ける。\n",
        "\n",
        "属性はバラバラにも書ける。名称も同じ。"
      ]
    },
    {
      "cell_type": "code",
      "metadata": {
        "id": "B9g4gP88PhAS",
        "colab": {
          "base_uri": "https://localhost:8080/",
          "height": 140
        },
        "outputId": "44ba1e73-c605-43e5-97de-bfc77cb33a81"
      },
      "source": [
        "%%html\n",
        "\n",
        "<svg width=\"320\" height=\"120\">\n",
        "  <rect x=\"10\" y=\"10\" width=\"300\" height=\"100\" fill=\"yellow\" stroke-width=\"20\" stroke=\"blue\">\n",
        "</svg>"
      ],
      "execution_count": 18,
      "outputs": [
        {
          "output_type": "display_data",
          "data": {
            "text/html": [
              "\n",
              "<svg width=\"320\" height=\"120\">\n",
              "  <rect x=\"10\" y=\"10\" width=\"300\" height=\"100\" fill=\"yellow\" stroke-width=\"20\" stroke=\"blue\">\n",
              "</svg>"
            ],
            "text/plain": [
              "<IPython.core.display.HTML object>"
            ]
          },
          "metadata": {
            "tags": []
          }
        }
      ]
    },
    {
      "cell_type": "markdown",
      "metadata": {
        "id": "w2AMrY1WOhB0"
      },
      "source": [
        "svg の stroke の太さは画像のサイズ内外に半分ずつ幅を取っていることがわかる。  \n",
        "stroke-width が 20 でも x, y を 10, 10 から描き始めて欠けない"
      ]
    },
    {
      "cell_type": "code",
      "metadata": {
        "id": "TUaIOBGkRBSk",
        "outputId": "6226b665-9ec1-41ac-a504-d6086dbd8db6",
        "colab": {
          "base_uri": "https://localhost:8080/",
          "height": 170
        }
      },
      "source": [
        "# colab デフォルトの height を調べよう\n",
        "%%html\n",
        "<svg>\n",
        "  <rect width=\"250\" height=\"140\"\n",
        "  style=\"fill:green;stroke:red;stroke-width:20;\" >\n",
        "</svg>\n",
        "<svg>\n",
        "  <rect width=\"250\" height=\"150\"\n",
        "  style=\"fill:green;stroke:red;\" >\n",
        "</svg>\n",
        "<svg>\n",
        "  <rect width=\"250\" height=\"110\"\n",
        "  style=\"x=10;y=10;fill:green;stroke:red;stroke-width:20;\" >\n",
        "</svg>"
      ],
      "execution_count": 42,
      "outputs": [
        {
          "output_type": "display_data",
          "data": {
            "text/html": [
              "<svg>\n",
              "  <rect width=\"250\" height=\"140\"\n",
              "  style=\"fill:green;stroke:red;stroke-width:20;\" >\n",
              "</svg>\n",
              "<svg>\n",
              "  <rect width=\"250\" height=\"150\"\n",
              "  style=\"fill:green;stroke:red;\" >\n",
              "</svg>\n",
              "<svg>\n",
              "  <rect width=\"250\" height=\"110\"\n",
              "  style=\"x=10;y=10;fill:green;stroke:red;stroke-width:20;\" >\n",
              "</svg>"
            ],
            "text/plain": [
              "<IPython.core.display.HTML object>"
            ]
          },
          "metadata": {
            "tags": []
          }
        }
      ]
    },
    {
      "cell_type": "code",
      "metadata": {
        "id": "5bfSGo4wQHv-",
        "colab": {
          "base_uri": "https://localhost:8080/",
          "height": 170
        },
        "outputId": "bb845d8b-5cce-42e6-ffa8-91bfa5475c41"
      },
      "source": [
        "%%html\n",
        "<!-- <svg width=\"400\" height=\"180\"> -->\n",
        "<svg>\n",
        "  <rect x=\"50\" y=\"20\" width=\"150\" height=\"150\"\n",
        "  style=\"fill:mediumblue;stroke:pink;stroke-width:20;fill-opacity:0.9;stroke-opacity:0.9\" />\n",
        "</svg>"
      ],
      "execution_count": 23,
      "outputs": [
        {
          "output_type": "display_data",
          "data": {
            "text/html": [
              "<!-- <svg width=\"400\" height=\"180\"> -->\n",
              "<svg>\n",
              "  <rect x=\"50\" y=\"20\" width=\"150\" height=\"150\"\n",
              "  style=\"fill:mediumblue;stroke:pink;stroke-width:20;fill-opacity:0.9;stroke-opacity:0.9\" />\n",
              "</svg>"
            ],
            "text/plain": [
              "<IPython.core.display.HTML object>"
            ]
          },
          "metadata": {
            "tags": []
          }
        }
      ]
    },
    {
      "cell_type": "code",
      "metadata": {
        "id": "jHTqq-iAQqd8",
        "colab": {
          "base_uri": "https://localhost:8080/",
          "height": 199
        },
        "outputId": "a2adf126-a147-4055-d96a-74c6f6e2a6c9"
      },
      "source": [
        "%%html\n",
        "<div style=\"text-align:center\">\n",
        "<svg width=\"400\" height=\"180\">\n",
        "  <rect x=\"50\" y=\"20\" width=\"150\" height=\"150\"\n",
        "  style=\"fill:blue;stroke:pink;stroke-width:20;fill-opacity:0.1;stroke-opacity:0.9\" />\n",
        "</svg>\n",
        "</div>"
      ],
      "execution_count": null,
      "outputs": [
        {
          "output_type": "display_data",
          "data": {
            "text/html": [
              "<div style=\"text-align:center\">\n",
              "<svg width=\"400\" height=\"180\">\n",
              "  <rect x=\"50\" y=\"20\" width=\"150\" height=\"150\"\n",
              "  style=\"fill:blue;stroke:pink;stroke-width:20;fill-opacity:0.1;stroke-opacity:0.9\" />\n",
              "</svg>\n",
              "</div>"
            ],
            "text/plain": [
              "<IPython.core.display.HTML object>"
            ]
          },
          "metadata": {
            "tags": []
          }
        }
      ]
    },
    {
      "cell_type": "code",
      "metadata": {
        "id": "_z0CdrzjRPg5",
        "colab": {
          "base_uri": "https://localhost:8080/",
          "height": 199
        },
        "outputId": "f6e7ac13-e272-40b8-f2bf-2e1c441f7135"
      },
      "source": [
        "%%html\n",
        "<svg width=\"400\" height=\"180\">\n",
        "  <rect x=\"50\" y=\"20\" width=\"150\" height=\"150\"\n",
        "  style=\"fill:blue;stroke:pink;stroke-width:5;opacity:0.5\" />\n",
        "</svg>"
      ],
      "execution_count": null,
      "outputs": [
        {
          "output_type": "display_data",
          "data": {
            "text/html": [
              "<svg width=\"400\" height=\"180\">\n",
              "  <rect x=\"50\" y=\"20\" width=\"150\" height=\"150\"\n",
              "  style=\"fill:blue;stroke:pink;stroke-width:5;opacity:0.5\" />\n",
              "</svg>"
            ],
            "text/plain": [
              "<IPython.core.display.HTML object>"
            ]
          },
          "metadata": {
            "tags": []
          }
        }
      ]
    },
    {
      "cell_type": "code",
      "metadata": {
        "id": "4PcZpH5IZkLB",
        "colab": {
          "base_uri": "https://localhost:8080/",
          "height": 199
        },
        "outputId": "ef8e4f55-6591-4918-99f5-7c898f29476d"
      },
      "source": [
        "%%html\n",
        "\n",
        "<svg width=\"400\" height=\"180\">\n",
        "  <rect x=\"50\" y=\"20\" rx=\"20\" ry=\"20\" width=\"150\" height=\"150\"\n",
        "  style=\"fill:red;stroke:black;stroke-width:5;opacity:0.5\" />\n",
        "</svg>"
      ],
      "execution_count": null,
      "outputs": [
        {
          "output_type": "display_data",
          "data": {
            "text/html": [
              "\n",
              "<svg width=\"400\" height=\"180\">\n",
              "  <rect x=\"50\" y=\"20\" rx=\"20\" ry=\"20\" width=\"150\" height=\"150\"\n",
              "  style=\"fill:red;stroke:black;stroke-width:5;opacity:0.5\" />\n",
              "</svg>"
            ],
            "text/plain": [
              "<IPython.core.display.HTML object>"
            ]
          },
          "metadata": {
            "tags": []
          }
        }
      ]
    },
    {
      "cell_type": "code",
      "metadata": {
        "id": "_m8qmfoCZ65Z",
        "colab": {
          "base_uri": "https://localhost:8080/",
          "height": 199
        },
        "outputId": "67eeef69-162c-48bd-802e-2d7f927acb2b"
      },
      "source": [
        "%%html\n",
        "\n",
        "<svg width=\"400\" height=\"180\">\n",
        "  <rect x=\"50\" y=\"20\" rx=\"50%\" ry=\"50%\" width=\"150\" height=\"150\"\n",
        "  style=\"fill:red;stroke:black;stroke-width:5;opacity:0.5\" />\n",
        "</svg>"
      ],
      "execution_count": null,
      "outputs": [
        {
          "output_type": "display_data",
          "data": {
            "text/html": [
              "\n",
              "<svg width=\"400\" height=\"180\">\n",
              "  <rect x=\"50\" y=\"20\" rx=\"50%\" ry=\"50%\" width=\"150\" height=\"150\"\n",
              "  style=\"fill:red;stroke:black;stroke-width:5;opacity:0.5\" />\n",
              "</svg>"
            ],
            "text/plain": [
              "<IPython.core.display.HTML object>"
            ]
          },
          "metadata": {
            "tags": []
          }
        }
      ]
    },
    {
      "cell_type": "markdown",
      "metadata": {
        "id": "gb8T99MyaC3s"
      },
      "source": [
        "# 円 circle"
      ]
    },
    {
      "cell_type": "code",
      "metadata": {
        "id": "DjdlGuGTaFqx",
        "colab": {
          "base_uri": "https://localhost:8080/",
          "height": 119
        },
        "outputId": "79854921-f059-4e72-f757-c8d3c228e3e0"
      },
      "source": [
        "%%html\n",
        "<svg height=\"100\" width=\"100\">\n",
        "  <circle cx=\"50\" cy=\"50\" r=\"40\" stroke=\"black\" stroke-width=\"3\" fill=\"red\" />\n",
        "</svg>"
      ],
      "execution_count": null,
      "outputs": [
        {
          "output_type": "display_data",
          "data": {
            "text/html": [
              "<svg height=\"100\" width=\"100\">\n",
              "  <circle cx=\"50\" cy=\"50\" r=\"40\" stroke=\"black\" stroke-width=\"3\" fill=\"red\" />\n",
              "</svg>"
            ],
            "text/plain": [
              "<IPython.core.display.HTML object>"
            ]
          },
          "metadata": {
            "tags": []
          }
        }
      ]
    },
    {
      "cell_type": "markdown",
      "metadata": {
        "id": "pyZbAP7LaRTp"
      },
      "source": [
        "# 楕円 ellipse"
      ]
    },
    {
      "cell_type": "code",
      "metadata": {
        "id": "l5JumpE5aU8K",
        "colab": {
          "base_uri": "https://localhost:8080/",
          "height": 159
        },
        "outputId": "f7b559f5-9651-4dfd-e168-88fb67d47a36"
      },
      "source": [
        "%%html\n",
        "\n",
        "<svg height=\"140\" width=\"500\">\n",
        "  <ellipse cx=\"200\" cy=\"80\" rx=\"100\" ry=\"50\"\n",
        "  style=\"fill:yellow;stroke:purple;stroke-width:2\" />\n",
        "</svg>"
      ],
      "execution_count": null,
      "outputs": [
        {
          "output_type": "display_data",
          "data": {
            "text/html": [
              "\n",
              "<svg height=\"140\" width=\"500\">\n",
              "  <ellipse cx=\"200\" cy=\"80\" rx=\"100\" ry=\"50\"\n",
              "  style=\"fill:yellow;stroke:purple;stroke-width:2\" />\n",
              "</svg>"
            ],
            "text/plain": [
              "<IPython.core.display.HTML object>"
            ]
          },
          "metadata": {
            "tags": []
          }
        }
      ]
    },
    {
      "cell_type": "code",
      "metadata": {
        "id": "qOK55RLtacSh",
        "colab": {
          "base_uri": "https://localhost:8080/",
          "height": 170
        },
        "outputId": "3401a3c3-b95b-4bf9-d2cf-3fc89317358c"
      },
      "source": [
        "%%html\n",
        "\n",
        "<svg height=\"150\" width=\"500\">\n",
        "  <ellipse cx=\"240\" cy=\"100\" rx=\"220\" ry=\"30\" style=\"fill:purple\" />\n",
        "  <ellipse cx=\"220\" cy=\"70\" rx=\"190\" ry=\"20\" style=\"fill:lime\" />\n",
        "  <ellipse cx=\"210\" cy=\"45\" rx=\"170\" ry=\"15\" style=\"fill:yellow\" />\n",
        "</svg>"
      ],
      "execution_count": null,
      "outputs": [
        {
          "output_type": "display_data",
          "data": {
            "text/html": [
              "\n",
              "<svg height=\"150\" width=\"500\">\n",
              "  <ellipse cx=\"240\" cy=\"100\" rx=\"220\" ry=\"30\" style=\"fill:purple\" />\n",
              "  <ellipse cx=\"220\" cy=\"70\" rx=\"190\" ry=\"20\" style=\"fill:lime\" />\n",
              "  <ellipse cx=\"210\" cy=\"45\" rx=\"170\" ry=\"15\" style=\"fill:yellow\" />\n",
              "</svg>"
            ],
            "text/plain": [
              "<IPython.core.display.HTML object>"
            ]
          },
          "metadata": {
            "tags": []
          }
        }
      ]
    },
    {
      "cell_type": "code",
      "metadata": {
        "id": "HW2m0s22aiYa",
        "colab": {
          "base_uri": "https://localhost:8080/",
          "height": 119
        },
        "outputId": "c0b52b9f-77dc-4a6f-a5c9-20f726ea029b"
      },
      "source": [
        "%%html\n",
        "\n",
        "<svg height=\"100\" width=\"500\">\n",
        "  <ellipse cx=\"240\" cy=\"50\" rx=\"220\" ry=\"30\" style=\"fill:yellow\" />\n",
        "  <ellipse cx=\"220\" cy=\"50\" rx=\"190\" ry=\"20\" style=\"fill:white\" />\n",
        "</svg>"
      ],
      "execution_count": null,
      "outputs": [
        {
          "output_type": "display_data",
          "data": {
            "text/html": [
              "\n",
              "<svg height=\"100\" width=\"500\">\n",
              "  <ellipse cx=\"240\" cy=\"50\" rx=\"220\" ry=\"30\" style=\"fill:yellow\" />\n",
              "  <ellipse cx=\"220\" cy=\"50\" rx=\"190\" ry=\"20\" style=\"fill:white\" />\n",
              "</svg>"
            ],
            "text/plain": [
              "<IPython.core.display.HTML object>"
            ]
          },
          "metadata": {
            "tags": []
          }
        }
      ]
    },
    {
      "cell_type": "markdown",
      "metadata": {
        "id": "AirB6ZR5aq2z"
      },
      "source": [
        "# 線 line"
      ]
    },
    {
      "cell_type": "code",
      "metadata": {
        "id": "aM8kMPZuatTV",
        "colab": {
          "base_uri": "https://localhost:8080/",
          "height": 230
        },
        "outputId": "9b59cd9c-d564-40c9-ae58-850d937046bd"
      },
      "source": [
        "%%html\n",
        "\n",
        "<svg height=\"210\" width=\"500\">\n",
        "  <line x1=\"0\" y1=\"0\" x2=\"200\" y2=\"200\" style=\"stroke:rgb(255,0,0);stroke-width:2\" />\n",
        "</svg>"
      ],
      "execution_count": null,
      "outputs": [
        {
          "output_type": "display_data",
          "data": {
            "text/html": [
              "\n",
              "<svg height=\"210\" width=\"500\">\n",
              "  <line x1=\"0\" y1=\"0\" x2=\"200\" y2=\"200\" style=\"stroke:rgb(255,0,0);stroke-width:2\" />\n",
              "</svg>"
            ],
            "text/plain": [
              "<IPython.core.display.HTML object>"
            ]
          },
          "metadata": {
            "tags": []
          }
        }
      ]
    },
    {
      "cell_type": "markdown",
      "metadata": {
        "id": "8TlZhKvua2xt"
      },
      "source": [
        "# 多角形 polygon"
      ]
    },
    {
      "cell_type": "code",
      "metadata": {
        "id": "bA5f9Raza7r7",
        "colab": {
          "base_uri": "https://localhost:8080/",
          "height": 230
        },
        "outputId": "80cca4b3-73c5-4207-e81c-d1d90f7b6828"
      },
      "source": [
        "%%html\n",
        "\n",
        "<svg height=\"210\" width=\"500\">\n",
        "  <polygon points=\"200,10 250,190 160,210\" style=\"fill:lime;stroke:purple;stroke-width:1\" />\n",
        "</svg>"
      ],
      "execution_count": null,
      "outputs": [
        {
          "output_type": "display_data",
          "data": {
            "text/html": [
              "\n",
              "<svg height=\"210\" width=\"500\">\n",
              "  <polygon points=\"200,10 250,190 160,210\" style=\"fill:lime;stroke:purple;stroke-width:1\" />\n",
              "</svg>"
            ],
            "text/plain": [
              "<IPython.core.display.HTML object>"
            ]
          },
          "metadata": {
            "tags": []
          }
        }
      ]
    },
    {
      "cell_type": "code",
      "metadata": {
        "id": "rsNbqWIeqtGQ",
        "colab": {
          "base_uri": "https://localhost:8080/",
          "height": 270
        },
        "outputId": "a8fedbb8-3509-41cf-e08c-3615c54b9025"
      },
      "source": [
        "%%html\n",
        "<svg height=\"250\" width=\"500\">\n",
        "  <polygon points=\"220,10 300,210 170,250 123,234\" style=\"fill:lime;stroke:purple;stroke-width:1\" />\n",
        "</svg>"
      ],
      "execution_count": null,
      "outputs": [
        {
          "output_type": "display_data",
          "data": {
            "text/html": [
              "<svg height=\"250\" width=\"500\">\n",
              "  <polygon points=\"220,10 300,210 170,250 123,234\" style=\"fill:lime;stroke:purple;stroke-width:1\" />\n",
              "</svg>"
            ],
            "text/plain": [
              "<IPython.core.display.HTML object>"
            ]
          },
          "metadata": {
            "tags": []
          }
        }
      ]
    },
    {
      "cell_type": "code",
      "metadata": {
        "id": "QOI45UNeqx2x",
        "colab": {
          "base_uri": "https://localhost:8080/",
          "height": 230
        },
        "outputId": "6b303b9c-37e0-4754-ec49-7ca320370b3e"
      },
      "source": [
        "%%html\n",
        "<svg height=\"210\" width=\"500\">\n",
        "  <polygon points=\"100,10 40,198 190,78 10,78 160,198\"\n",
        "  style=\"fill:lime;stroke:purple;stroke-width:5;fill-rule:nonzero;\" />\n",
        "</svg>"
      ],
      "execution_count": null,
      "outputs": [
        {
          "output_type": "display_data",
          "data": {
            "text/html": [
              "<svg height=\"210\" width=\"500\">\n",
              "  <polygon points=\"100,10 40,198 190,78 10,78 160,198\"\n",
              "  style=\"fill:lime;stroke:purple;stroke-width:5;fill-rule:nonzero;\" />\n",
              "</svg>"
            ],
            "text/plain": [
              "<IPython.core.display.HTML object>"
            ]
          },
          "metadata": {
            "tags": []
          }
        }
      ]
    },
    {
      "cell_type": "code",
      "metadata": {
        "id": "GeUTb2zFq28R",
        "colab": {
          "base_uri": "https://localhost:8080/",
          "height": 230
        },
        "outputId": "2f2606e9-f849-43d6-e5f3-7b7676b079f6"
      },
      "source": [
        "%%html\n",
        "<svg height=\"210\" width=\"500\">\n",
        "  <polygon points=\"100,10 40,198 190,78 10,78 160,198\"\n",
        "  style=\"fill:lime;stroke:purple;stroke-width:5;fill-rule:evenodd;\" />\n",
        "</svg>"
      ],
      "execution_count": null,
      "outputs": [
        {
          "output_type": "display_data",
          "data": {
            "text/html": [
              "<svg height=\"210\" width=\"500\">\n",
              "  <polygon points=\"100,10 40,198 190,78 10,78 160,198\"\n",
              "  style=\"fill:lime;stroke:purple;stroke-width:5;fill-rule:evenodd;\" />\n",
              "</svg>"
            ],
            "text/plain": [
              "<IPython.core.display.HTML object>"
            ]
          },
          "metadata": {
            "tags": []
          }
        }
      ]
    },
    {
      "cell_type": "markdown",
      "metadata": {
        "id": "ddCruB-iq93R"
      },
      "source": [
        "# 折れ線 polyline"
      ]
    },
    {
      "cell_type": "code",
      "metadata": {
        "id": "qWFEywB4rBhC",
        "colab": {
          "base_uri": "https://localhost:8080/",
          "height": 219
        },
        "outputId": "49ed089c-3fa9-4883-b95a-c2518630388a"
      },
      "source": [
        "%%html\n",
        "\n",
        "<svg height=\"200\" width=\"500\">\n",
        "  <polyline points=\"20,20 40,25 60,40 80,120 120,140 200,180\"\n",
        "  style=\"fill:none;stroke:white;stroke-width:3\" />\n",
        "</svg>"
      ],
      "execution_count": null,
      "outputs": [
        {
          "output_type": "display_data",
          "data": {
            "text/html": [
              "\n",
              "<svg height=\"200\" width=\"500\">\n",
              "  <polyline points=\"20,20 40,25 60,40 80,120 120,140 200,180\"\n",
              "  style=\"fill:none;stroke:white;stroke-width:3\" />\n",
              "</svg>"
            ],
            "text/plain": [
              "<IPython.core.display.HTML object>"
            ]
          },
          "metadata": {
            "tags": []
          }
        }
      ]
    },
    {
      "cell_type": "code",
      "metadata": {
        "id": "0VLlnZ6GrN-b",
        "colab": {
          "base_uri": "https://localhost:8080/",
          "height": 199
        },
        "outputId": "751d7595-6abe-4256-c76c-43b12d969367"
      },
      "source": [
        "%%html\n",
        "\n",
        "<svg height=\"180\" width=\"500\">\n",
        "  <polyline points=\"0,40 40,40 40,80 80,80 80,120 120,120 120,160\"\n",
        "  style=\"fill:None;stroke:red;stroke-width:4\" />\n",
        "</svg>"
      ],
      "execution_count": null,
      "outputs": [
        {
          "output_type": "display_data",
          "data": {
            "text/html": [
              "\n",
              "<svg height=\"180\" width=\"500\">\n",
              "  <polyline points=\"0,40 40,40 40,80 80,80 80,120 120,120 120,160\"\n",
              "  style=\"fill:None;stroke:red;stroke-width:4\" />\n",
              "</svg>"
            ],
            "text/plain": [
              "<IPython.core.display.HTML object>"
            ]
          },
          "metadata": {
            "tags": []
          }
        }
      ]
    },
    {
      "cell_type": "markdown",
      "metadata": {
        "id": "-G00PtonrbfC"
      },
      "source": [
        "# パス path\n",
        "\n",
        "パスにはつぎのコマンドがある。\n",
        "\n",
        "* M = moveto \n",
        "* L = lineto \n",
        "* H = horizontal lineto \n",
        "* V = vertical lineto \n",
        "* C = curveto \n",
        "* S = smooth curveto \n",
        "* Q = quadratic Bézier curve \n",
        "* T = smooth quadratic Bézier curveto \n",
        "* A = elliptical Arc \n",
        "* Z = closepath \n",
        "\n",
        "大文字だと絶対座標、小文字だと相対座標。\n"
      ]
    },
    {
      "cell_type": "code",
      "metadata": {
        "id": "qkanqGEQr-d6",
        "colab": {
          "base_uri": "https://localhost:8080/",
          "height": 230
        },
        "outputId": "3fcc6acd-c245-40b0-e71c-698456fe1d2c"
      },
      "source": [
        "%%html\n",
        "\n",
        "<svg height=\"210\" width=\"400\">\n",
        "  <path d=\"M150 0 L75 200 L225 200 Z\" style=\"fill:white;\" />\n",
        "</svg>"
      ],
      "execution_count": null,
      "outputs": [
        {
          "output_type": "display_data",
          "data": {
            "text/html": [
              "\n",
              "<svg height=\"210\" width=\"400\">\n",
              "  <path d=\"M150 0 L75 200 L225 200 Z\" style=\"fill:white;\" />\n",
              "</svg>"
            ],
            "text/plain": [
              "<IPython.core.display.HTML object>"
            ]
          },
          "metadata": {
            "tags": []
          }
        }
      ]
    },
    {
      "cell_type": "markdown",
      "metadata": {
        "id": "O-c3B0NesXcU"
      },
      "source": [
        "# ベジェ曲線\n",
        "\n",
        "次の例では、2次ベジェ曲線を作成する。。AとCは開始点と終了点、Bは制御点。"
      ]
    },
    {
      "cell_type": "code",
      "metadata": {
        "id": "0goo8C2QsxBL",
        "colab": {
          "base_uri": "https://localhost:8080/",
          "height": 419
        },
        "outputId": "1354a049-386e-4b18-be29-9ca54d55f591"
      },
      "source": [
        "%%html\n",
        "\n",
        "<svg height=\"400\" width=\"450\">\n",
        "  <path id=\"lineAB\" d=\"M 100 350 l 150 -300\" stroke=\"red\"\n",
        "  stroke-width=\"3\" fill=\"none\" />\n",
        "  <path id=\"lineBC\" d=\"M 250 50 l 150 300\" stroke=\"red\"\n",
        "  stroke-width=\"3\" fill=\"none\" />\n",
        "  <path d=\"M 175 200 l 150 0\" stroke=\"green\" stroke-width=\"3\"\n",
        "  fill=\"none\" />\n",
        "  <path d=\"M 100 350 q 150 -300 300 0\" stroke=\"blue\"\n",
        "  stroke-width=\"5\" fill=\"none\" />\n",
        "  <!-- Mark relevant points -->\n",
        "  <g stroke=\"black\" stroke-width=\"3\" fill=\"black\">\n",
        "    <circle id=\"pointA\" cx=\"100\" cy=\"350\" r=\"3\" />\n",
        "    <circle id=\"pointB\" cx=\"250\" cy=\"50\" r=\"3\" />\n",
        "    <circle id=\"pointC\" cx=\"400\" cy=\"350\" r=\"3\" />\n",
        "  </g>\n",
        "  <!-- Label the points -->\n",
        "  <g font-size=\"30\" font-family=\"sans-serif\" fill=\"black\" stroke=\"none\"\n",
        "  text-anchor=\"middle\">\n",
        "    <text x=\"100\" y=\"350\" dx=\"-30\">A</text>\n",
        "    <text x=\"250\" y=\"50\" dy=\"-10\">B</text>\n",
        "    <text x=\"400\" y=\"350\" dx=\"30\">C</text>\n",
        "  </g>\n",
        "</svg>"
      ],
      "execution_count": null,
      "outputs": [
        {
          "output_type": "display_data",
          "data": {
            "text/html": [
              "\n",
              "<svg height=\"400\" width=\"450\">\n",
              "  <path id=\"lineAB\" d=\"M 100 350 l 150 -300\" stroke=\"red\"\n",
              "  stroke-width=\"3\" fill=\"none\" />\n",
              "  <path id=\"lineBC\" d=\"M 250 50 l 150 300\" stroke=\"red\"\n",
              "  stroke-width=\"3\" fill=\"none\" />\n",
              "  <path d=\"M 175 200 l 150 0\" stroke=\"green\" stroke-width=\"3\"\n",
              "  fill=\"none\" />\n",
              "  <path d=\"M 100 350 q 150 -300 300 0\" stroke=\"blue\"\n",
              "  stroke-width=\"5\" fill=\"none\" />\n",
              "  <!-- Mark relevant points -->\n",
              "  <g stroke=\"black\" stroke-width=\"3\" fill=\"black\">\n",
              "    <circle id=\"pointA\" cx=\"100\" cy=\"350\" r=\"3\" />\n",
              "    <circle id=\"pointB\" cx=\"250\" cy=\"50\" r=\"3\" />\n",
              "    <circle id=\"pointC\" cx=\"400\" cy=\"350\" r=\"3\" />\n",
              "  </g>\n",
              "  <!-- Label the points -->\n",
              "  <g font-size=\"30\" font-family=\"sans-serif\" fill=\"black\" stroke=\"none\"\n",
              "  text-anchor=\"middle\">\n",
              "    <text x=\"100\" y=\"350\" dx=\"-30\">A</text>\n",
              "    <text x=\"250\" y=\"50\" dy=\"-10\">B</text>\n",
              "    <text x=\"400\" y=\"350\" dx=\"30\">C</text>\n",
              "  </g>\n",
              "</svg>"
            ],
            "text/plain": [
              "<IPython.core.display.HTML object>"
            ]
          },
          "metadata": {
            "tags": []
          }
        }
      ]
    },
    {
      "cell_type": "markdown",
      "metadata": {
        "id": "_9zbcVdYtJU6"
      },
      "source": [
        "# テキスト"
      ]
    },
    {
      "cell_type": "code",
      "metadata": {
        "id": "7x0vxglvtH8U",
        "colab": {
          "base_uri": "https://localhost:8080/",
          "height": 50
        },
        "outputId": "e9e9b4b2-e26b-4a12-de94-b5bb8e0559ba"
      },
      "source": [
        "%%html\n",
        "\n",
        "<svg height=\"30\" width=\"200\">\n",
        "  <text x=\"0\" y=\"15\" fill=\"red\">I love SVG!</text>\n",
        "</svg>"
      ],
      "execution_count": null,
      "outputs": [
        {
          "output_type": "display_data",
          "data": {
            "text/html": [
              "\n",
              "<svg height=\"30\" width=\"200\">\n",
              "  <text x=\"0\" y=\"15\" fill=\"red\">I love SVG!</text>\n",
              "</svg>"
            ],
            "text/plain": [
              "<IPython.core.display.HTML object>"
            ]
          },
          "metadata": {
            "tags": []
          }
        }
      ]
    },
    {
      "cell_type": "code",
      "metadata": {
        "id": "tDZAReVNtVek",
        "colab": {
          "base_uri": "https://localhost:8080/",
          "height": 79
        },
        "outputId": "f5b3be44-7c1f-41f1-d712-9b92cf974732"
      },
      "source": [
        "%%html\n",
        "\n",
        "<svg height=\"60\" width=\"200\">\n",
        "  <text x=\"0\" y=\"15\" fill=\"red\" transform=\"rotate(30 20,40)\">I love SVG</text>\n",
        "</svg>"
      ],
      "execution_count": null,
      "outputs": [
        {
          "output_type": "display_data",
          "data": {
            "text/html": [
              "\n",
              "<svg height=\"60\" width=\"200\">\n",
              "  <text x=\"0\" y=\"15\" fill=\"red\" transform=\"rotate(30 20,40)\">I love SVG</text>\n",
              "</svg>"
            ],
            "text/plain": [
              "<IPython.core.display.HTML object>"
            ]
          },
          "metadata": {
            "tags": []
          }
        }
      ]
    },
    {
      "cell_type": "code",
      "metadata": {
        "id": "B7JXbKAwtlON",
        "colab": {
          "base_uri": "https://localhost:8080/",
          "height": 110
        },
        "outputId": "49a36646-5787-4a9e-a04c-7ec32c990a7b"
      },
      "source": [
        "%%html\n",
        "\n",
        "<svg height=\"90\" width=\"200\">\n",
        "  <text x=\"10\" y=\"20\" style=\"fill:red;\">Several lines:\n",
        "    <tspan x=\"10\" y=\"45\">First line.</tspan>\n",
        "    <tspan x=\"10\" y=\"70\">Second line.</tspan>\n",
        "  </text>\n",
        "</svg>\n"
      ],
      "execution_count": null,
      "outputs": [
        {
          "output_type": "display_data",
          "data": {
            "text/html": [
              "\n",
              "<svg height=\"90\" width=\"200\">\n",
              "  <text x=\"10\" y=\"20\" style=\"fill:red;\">Several lines:\n",
              "    <tspan x=\"10\" y=\"45\">First line.</tspan>\n",
              "    <tspan x=\"10\" y=\"70\">Second line.</tspan>\n",
              "  </text>\n",
              "</svg>"
            ],
            "text/plain": [
              "<IPython.core.display.HTML object>"
            ]
          },
          "metadata": {
            "tags": []
          }
        }
      ]
    },
    {
      "cell_type": "code",
      "metadata": {
        "id": "TMTQsfmIt0Kv",
        "colab": {
          "base_uri": "https://localhost:8080/",
          "height": 50
        },
        "outputId": "d559d7ce-e5c0-4bb5-9ef1-6a4e03e9d445"
      },
      "source": [
        "%%html\n",
        "\n",
        "<svg height=\"30\" width=\"200\" xmlns:xlink=\"http://www.w3.org/1999/xlink\">\n",
        "  <a xlink:href=\"https://www.w3schools.com/graphics/\" target=\"_blank\">\n",
        "    <text x=\"0\" y=\"15\" fill=\"red\">I love SVG!</text>\n",
        "  </a>\n",
        "</svg>"
      ],
      "execution_count": null,
      "outputs": [
        {
          "output_type": "display_data",
          "data": {
            "text/html": [
              "\n",
              "<svg height=\"30\" width=\"200\" xmlns:xlink=\"http://www.w3.org/1999/xlink\">\n",
              "  <a xlink:href=\"https://www.w3schools.com/graphics/\" target=\"_blank\">\n",
              "    <text x=\"0\" y=\"15\" fill=\"red\">I love SVG!</text>\n",
              "  </a>\n",
              "</svg>"
            ],
            "text/plain": [
              "<IPython.core.display.HTML object>"
            ]
          },
          "metadata": {
            "tags": []
          }
        }
      ]
    },
    {
      "cell_type": "markdown",
      "metadata": {
        "id": "dv26PTN2WZkj"
      },
      "source": [
        "# ストローク\n",
        "\n",
        "* ストロークとは\n",
        "* ストローク幅\n",
        "* ストロークラインキャップ\n",
        "* ストロークダッシュ\n"
      ]
    },
    {
      "cell_type": "code",
      "metadata": {
        "id": "zBKODU3XWZAX",
        "colab": {
          "base_uri": "https://localhost:8080/",
          "height": 99
        },
        "outputId": "a903bcc7-cfe1-4986-df23-7f031cd2069e"
      },
      "source": [
        "%%html\n",
        "\n",
        "<svg height=\"80\" width=\"300\">\n",
        "  <g fill=\"none\">\n",
        "    <path stroke=\"red\" d=\"M5 20 l215 0\" />\n",
        "    <path stroke=\"black\" d=\"M5 40 l215 0\" />\n",
        "    <path stroke=\"blue\" d=\"M5 60 l215 0\" />\n",
        "  </g>\n",
        "</svg>"
      ],
      "execution_count": null,
      "outputs": [
        {
          "output_type": "display_data",
          "data": {
            "text/html": [
              "\n",
              "<svg height=\"80\" width=\"300\">\n",
              "  <g fill=\"none\">\n",
              "    <path stroke=\"red\" d=\"M5 20 l215 0\" />\n",
              "    <path stroke=\"black\" d=\"M5 40 l215 0\" />\n",
              "    <path stroke=\"blue\" d=\"M5 60 l215 0\" />\n",
              "  </g>\n",
              "</svg>"
            ],
            "text/plain": [
              "<IPython.core.display.HTML object>"
            ]
          },
          "metadata": {
            "tags": []
          }
        }
      ]
    },
    {
      "cell_type": "markdown",
      "metadata": {
        "id": "b5bcRydbXpW9"
      },
      "source": [
        "ストロークは線、テキスト、図形など要素のアウトラインのことで、その太さは`stroke-width`で指定する。\n",
        "\n"
      ]
    },
    {
      "cell_type": "code",
      "metadata": {
        "id": "7zCzrh3cf7jw",
        "colab": {
          "base_uri": "https://localhost:8080/",
          "height": 99
        },
        "outputId": "04c5165d-07fa-47da-def0-f44828c0e003"
      },
      "source": [
        "%%html\n",
        "\n",
        "<svg height=\"80\" width=\"300\">\n",
        "  <g fill=\"none\" stroke=\"black\">\n",
        "    <path stroke-width=\"2\" d=\"M5 20 l215 0\" />\n",
        "    <path stroke-width=\"4\" d=\"M5 40 l215 0\" />\n",
        "    <path stroke-width=\"6\" d=\"M5 60 l215 0\" />\n",
        "  </g>\n",
        "</svg>"
      ],
      "execution_count": null,
      "outputs": [
        {
          "output_type": "display_data",
          "data": {
            "text/html": [
              "\n",
              "<svg height=\"80\" width=\"300\">\n",
              "  <g fill=\"none\" stroke=\"black\">\n",
              "    <path stroke-width=\"2\" d=\"M5 20 l215 0\" />\n",
              "    <path stroke-width=\"4\" d=\"M5 40 l215 0\" />\n",
              "    <path stroke-width=\"6\" d=\"M5 60 l215 0\" />\n",
              "  </g>\n",
              "</svg>"
            ],
            "text/plain": [
              "<IPython.core.display.HTML object>"
            ]
          },
          "metadata": {
            "tags": []
          }
        }
      ]
    },
    {
      "cell_type": "markdown",
      "metadata": {
        "id": "pqfqruQ6gHCZ"
      },
      "source": [
        "`stroke-linecap` は線の端のタイプを指定する。\n",
        "\n",
        "(矢印はない)\n"
      ]
    },
    {
      "cell_type": "code",
      "metadata": {
        "id": "3BN1i-0RgTai",
        "colab": {
          "base_uri": "https://localhost:8080/",
          "height": 99
        },
        "outputId": "ed49318d-7299-434f-f46d-836809757eb7"
      },
      "source": [
        "%%html\n",
        "<svg height=\"80\" width=\"300\">\n",
        "  <g fill=\"none\" stroke=\"black\" stroke-width=\"6\">\n",
        "    <path stroke-linecap=\"butt\" d=\"M5 20 l215 0\" />\n",
        "    <path stroke-linecap=\"round\" d=\"M5 40 l215 0\" />\n",
        "    <path stroke-linecap=\"square\" d=\"M5 60 l215 0\" />\n",
        "  </g>\n",
        "</svg>"
      ],
      "execution_count": null,
      "outputs": [
        {
          "output_type": "display_data",
          "data": {
            "text/html": [
              "<svg height=\"80\" width=\"300\">\n",
              "  <g fill=\"none\" stroke=\"black\" stroke-width=\"6\">\n",
              "    <path stroke-linecap=\"butt\" d=\"M5 20 l215 0\" />\n",
              "    <path stroke-linecap=\"round\" d=\"M5 40 l215 0\" />\n",
              "    <path stroke-linecap=\"square\" d=\"M5 60 l215 0\" />\n",
              "  </g>\n",
              "</svg>"
            ],
            "text/plain": [
              "<IPython.core.display.HTML object>"
            ]
          },
          "metadata": {
            "tags": []
          }
        }
      ]
    },
    {
      "cell_type": "markdown",
      "metadata": {
        "id": "qKLtAKwdXmlL"
      },
      "source": [
        "`stroke-dasharray` 点線を作るのに使われる。"
      ]
    },
    {
      "cell_type": "code",
      "metadata": {
        "id": "IitQmwEjgh9p",
        "colab": {
          "base_uri": "https://localhost:8080/",
          "height": 99
        },
        "outputId": "a50e0ea3-4331-4cc2-f679-bbcccdf19dea"
      },
      "source": [
        "%%html\n",
        "\n",
        "<svg height=\"80\" width=\"300\">\n",
        "  <g fill=\"none\" stroke=\"black\" stroke-width=\"4\">\n",
        "    <path stroke-dasharray=\"5,5\" d=\"M5 20 l215 0\" />\n",
        "    <path stroke-dasharray=\"10,10\" d=\"M5 40 l215 0\" />\n",
        "    <path stroke-dasharray=\"20,10,5,5,5,10\" d=\"M5 60 l215 0\" />\n",
        "  </g>\n",
        "</svg>"
      ],
      "execution_count": null,
      "outputs": [
        {
          "output_type": "display_data",
          "data": {
            "text/html": [
              "\n",
              "<svg height=\"80\" width=\"300\">\n",
              "  <g fill=\"none\" stroke=\"black\" stroke-width=\"4\">\n",
              "    <path stroke-dasharray=\"5,5\" d=\"M5 20 l215 0\" />\n",
              "    <path stroke-dasharray=\"10,10\" d=\"M5 40 l215 0\" />\n",
              "    <path stroke-dasharray=\"20,10,5,5,5,10\" d=\"M5 60 l215 0\" />\n",
              "  </g>\n",
              "</svg>"
            ],
            "text/plain": [
              "<IPython.core.display.HTML object>"
            ]
          },
          "metadata": {
            "tags": []
          }
        }
      ]
    },
    {
      "cell_type": "markdown",
      "metadata": {
        "id": "MxJqkP56gohG"
      },
      "source": [
        "# SVG フィルター\n",
        "\n",
        "SVG フィルターは SVG 図形に特殊効果を与える。\n",
        "\n",
        "フィルター要素には次のようなものがある。\n",
        "\n",
        "* (feBlend) - 図形を結合するフィルター\n",
        "* (feColorMatrix) - 色変化のフィルター\n",
        "* (feComponentTransfer)\n",
        "* (feComposite)\n",
        "* (feConvolveMatrix)\n",
        "* (feDiffuseLighting)\n",
        "* (feDisplacementMap)\n",
        "* (feFlood)\n",
        "* (feGaussianBlur) - ガウスぼかし\n",
        "* (feImage)\n",
        "* (feMerge)\n",
        "* (feMorphology)\n",
        "* (feOffset) - ドロップ・シャドーのフィルター\n",
        "* (feSpecularLighting)\n",
        "* (feTile)\n",
        "* (feTurbulence)\n",
        "* (feDistantLight) - 遠い光源のフィルター\n",
        "* (fePointLight) - 点光源のフィルター\n",
        "* (feSpotLight) - スポット光源のフィルター\n",
        "\n",
        "SVG 要素に同時に複数のフィルターが使える!!!!\n",
        "\n",
        "SVGフィルターは `<defs>` 要素内で定義される。\n",
        "`<filter>` 要素は、SVGフィルターを定義するために使用される。 `<filter>` 要素は、フィルターを識別する id 属性を付け、グラフィックでは使用するフィルターを指定する。"
      ]
    },
    {
      "cell_type": "markdown",
      "metadata": {
        "id": "gDYwYWKDjJNE"
      },
      "source": [
        "### ガウスぼかし"
      ]
    },
    {
      "cell_type": "code",
      "metadata": {
        "id": "RiRCNOtKjQHX",
        "colab": {
          "base_uri": "https://localhost:8080/",
          "height": 130
        },
        "outputId": "43fe5cbf-9a31-4d7d-ad29-4189c14a6324"
      },
      "source": [
        "%%html\n",
        "\n",
        "<svg height=\"110\" width=\"110\">\n",
        "  <defs>\n",
        "    <filter id=\"f1\" x=\"0\" y=\"0\">\n",
        "      <feGaussianBlur in=\"SourceGraphic\" stdDeviation=\"15\" />\n",
        "    </filter>\n",
        "  </defs>\n",
        "  <rect width=\"90\" height=\"90\" stroke=\"green\" stroke-width=\"3\"\n",
        "  fill=\"yellow\" filter=\"url(#f1)\" />\n",
        "</svg>"
      ],
      "execution_count": null,
      "outputs": [
        {
          "output_type": "display_data",
          "data": {
            "text/html": [
              "\n",
              "<svg height=\"110\" width=\"110\">\n",
              "  <defs>\n",
              "    <filter id=\"f1\" x=\"0\" y=\"0\">\n",
              "      <feGaussianBlur in=\"SourceGraphic\" stdDeviation=\"15\" />\n",
              "    </filter>\n",
              "  </defs>\n",
              "  <rect width=\"90\" height=\"90\" stroke=\"green\" stroke-width=\"3\"\n",
              "  fill=\"yellow\" filter=\"url(#f1)\" />\n",
              "</svg>"
            ],
            "text/plain": [
              "<IPython.core.display.HTML object>"
            ]
          },
          "metadata": {
            "tags": []
          }
        }
      ]
    },
    {
      "cell_type": "markdown",
      "metadata": {
        "id": "63Sr6n65tWvZ"
      },
      "source": [
        "# ドロップシャドー"
      ]
    },
    {
      "cell_type": "code",
      "metadata": {
        "id": "0eRKgsgvtQPN",
        "colab": {
          "base_uri": "https://localhost:8080/",
          "height": 139
        },
        "outputId": "7bb4a761-931a-402b-943f-c17f95deb2f2"
      },
      "source": [
        "%%html\n",
        "\n",
        "<svg height=\"120\" width=\"120\">\n",
        "  <defs>\n",
        "    <filter id=\"f1\" x=\"0\" y=\"0\" width=\"200%\" height=\"200%\">\n",
        "      <feOffset result=\"offOut\" in=\"SourceGraphic\" dx=\"20\" dy=\"20\" />\n",
        "      <feBlend in=\"SourceGraphic\" in2=\"offOut\" mode=\"normal\" />\n",
        "    </filter>\n",
        "  </defs>\n",
        "  <rect width=\"90\" height=\"90\" stroke=\"green\" stroke-width=\"3\"\n",
        "  fill=\"yellow\" filter=\"url(#f1)\" />\n",
        "</svg>"
      ],
      "execution_count": null,
      "outputs": [
        {
          "output_type": "display_data",
          "data": {
            "text/html": [
              "\n",
              "<svg height=\"120\" width=\"120\">\n",
              "  <defs>\n",
              "    <filter id=\"f1\" x=\"0\" y=\"0\" width=\"200%\" height=\"200%\">\n",
              "      <feOffset result=\"offOut\" in=\"SourceGraphic\" dx=\"20\" dy=\"20\" />\n",
              "      <feBlend in=\"SourceGraphic\" in2=\"offOut\" mode=\"normal\" />\n",
              "    </filter>\n",
              "  </defs>\n",
              "  <rect width=\"90\" height=\"90\" stroke=\"green\" stroke-width=\"3\"\n",
              "  fill=\"yellow\" filter=\"url(#f1)\" />\n",
              "</svg>"
            ],
            "text/plain": [
              "<IPython.core.display.HTML object>"
            ]
          },
          "metadata": {
            "tags": []
          }
        }
      ]
    },
    {
      "cell_type": "code",
      "metadata": {
        "id": "A1y0UDPctt7a",
        "colab": {
          "base_uri": "https://localhost:8080/",
          "height": 159
        },
        "outputId": "17646d1f-54e2-41a3-dca9-f1b3d3925a2f"
      },
      "source": [
        "%%html\n",
        "\n",
        "<svg height=\"140\" width=\"140\">\n",
        "  <defs>\n",
        "    <filter id=\"f2\" x=\"0\" y=\"0\" width=\"200%\" height=\"200%\">\n",
        "      <feOffset result=\"offOut\" in=\"SourceGraphic\" dx=\"20\" dy=\"20\" />\n",
        "      <feGaussianBlur result=\"blurOut\" in=\"offOut\" stdDeviation=\"10\" />\n",
        "      <feBlend in=\"SourceGraphic\" in2=\"blurOut\" mode=\"normal\" />\n",
        "    </filter>\n",
        "  </defs>\n",
        "  <rect width=\"90\" height=\"90\" stroke=\"green\" stroke-width=\"3\"\n",
        "  fill=\"yellow\" filter=\"url(#f2)\" />\n",
        "</svg>"
      ],
      "execution_count": null,
      "outputs": [
        {
          "output_type": "display_data",
          "data": {
            "text/html": [
              "\n",
              "<svg height=\"140\" width=\"140\">\n",
              "  <defs>\n",
              "    <filter id=\"f2\" x=\"0\" y=\"0\" width=\"200%\" height=\"200%\">\n",
              "      <feOffset result=\"offOut\" in=\"SourceGraphic\" dx=\"20\" dy=\"20\" />\n",
              "      <feGaussianBlur result=\"blurOut\" in=\"offOut\" stdDeviation=\"10\" />\n",
              "      <feBlend in=\"SourceGraphic\" in2=\"blurOut\" mode=\"normal\" />\n",
              "    </filter>\n",
              "  </defs>\n",
              "  <rect width=\"90\" height=\"90\" stroke=\"green\" stroke-width=\"3\"\n",
              "  fill=\"yellow\" filter=\"url(#f2)\" />\n",
              "</svg>"
            ],
            "text/plain": [
              "<IPython.core.display.HTML object>"
            ]
          },
          "metadata": {
            "tags": []
          }
        }
      ]
    },
    {
      "cell_type": "code",
      "metadata": {
        "id": "RvyVjTvauA1a",
        "colab": {
          "base_uri": "https://localhost:8080/",
          "height": 159
        },
        "outputId": "2160a82a-b46e-4826-e275-c1f95c6fe626"
      },
      "source": [
        "%%html\n",
        "\n",
        "<svg height=\"140\" width=\"140\">\n",
        "  <defs>\n",
        "    <filter id=\"f3\" x=\"0\" y=\"0\" width=\"200%\" height=\"200%\">\n",
        "      <feOffset result=\"offOut\" in=\"SourceAlpha\" dx=\"20\" dy=\"20\" />\n",
        "      <feGaussianBlur result=\"blurOut\" in=\"offOut\" stdDeviation=\"10\" />\n",
        "      <feBlend in=\"SourceGraphic\" in2=\"blurOut\" mode=\"normal\" />\n",
        "    </filter>\n",
        "  </defs>\n",
        "  <rect width=\"90\" height=\"90\" stroke=\"green\" stroke-width=\"3\"\n",
        "  fill=\"yellow\" filter=\"url(#f3)\" />\n",
        "</svg>"
      ],
      "execution_count": null,
      "outputs": [
        {
          "output_type": "display_data",
          "data": {
            "text/html": [
              "\n",
              "<svg height=\"140\" width=\"140\">\n",
              "  <defs>\n",
              "    <filter id=\"f3\" x=\"0\" y=\"0\" width=\"200%\" height=\"200%\">\n",
              "      <feOffset result=\"offOut\" in=\"SourceAlpha\" dx=\"20\" dy=\"20\" />\n",
              "      <feGaussianBlur result=\"blurOut\" in=\"offOut\" stdDeviation=\"10\" />\n",
              "      <feBlend in=\"SourceGraphic\" in2=\"blurOut\" mode=\"normal\" />\n",
              "    </filter>\n",
              "  </defs>\n",
              "  <rect width=\"90\" height=\"90\" stroke=\"green\" stroke-width=\"3\"\n",
              "  fill=\"yellow\" filter=\"url(#f3)\" />\n",
              "</svg>"
            ],
            "text/plain": [
              "<IPython.core.display.HTML object>"
            ]
          },
          "metadata": {
            "tags": []
          }
        }
      ]
    },
    {
      "cell_type": "code",
      "metadata": {
        "id": "G2dQ8L1NuIRz",
        "colab": {
          "base_uri": "https://localhost:8080/",
          "height": 159
        },
        "outputId": "d48e7268-0d54-454e-fbdf-3d63846505c1"
      },
      "source": [
        "%%html\n",
        "\n",
        "<svg height=\"140\" width=\"140\">\n",
        "  <defs>\n",
        "    <filter id=\"f4\" x=\"0\" y=\"0\" width=\"200%\" height=\"200%\">\n",
        "      <feOffset result=\"offOut\" in=\"SourceGraphic\" dx=\"20\" dy=\"20\" />\n",
        "      <feColorMatrix result=\"matrixOut\" in=\"offOut\" type=\"matrix\"\n",
        "      values=\"0.2 0 0 0 0 0 0.2 0 0 0 0 0 0.2 0 0 0 0 0 1 0\" />\n",
        "      <feGaussianBlur result=\"blurOut\" in=\"matrixOut\" stdDeviation=\"10\" />\n",
        "      <feBlend in=\"SourceGraphic\" in2=\"blurOut\" mode=\"normal\" />\n",
        "    </filter>\n",
        "  </defs>\n",
        "  <rect width=\"90\" height=\"90\" stroke=\"green\" stroke-width=\"3\"\n",
        "  fill=\"yellow\" filter=\"url(#f4)\" />\n",
        "</svg>"
      ],
      "execution_count": null,
      "outputs": [
        {
          "output_type": "display_data",
          "data": {
            "text/html": [
              "\n",
              "<svg height=\"140\" width=\"140\">\n",
              "  <defs>\n",
              "    <filter id=\"f4\" x=\"0\" y=\"0\" width=\"200%\" height=\"200%\">\n",
              "      <feOffset result=\"offOut\" in=\"SourceGraphic\" dx=\"20\" dy=\"20\" />\n",
              "      <feColorMatrix result=\"matrixOut\" in=\"offOut\" type=\"matrix\"\n",
              "      values=\"0.2 0 0 0 0 0 0.2 0 0 0 0 0 0.2 0 0 0 0 0 1 0\" />\n",
              "      <feGaussianBlur result=\"blurOut\" in=\"matrixOut\" stdDeviation=\"10\" />\n",
              "      <feBlend in=\"SourceGraphic\" in2=\"blurOut\" mode=\"normal\" />\n",
              "    </filter>\n",
              "  </defs>\n",
              "  <rect width=\"90\" height=\"90\" stroke=\"green\" stroke-width=\"3\"\n",
              "  fill=\"yellow\" filter=\"url(#f4)\" />\n",
              "</svg>"
            ],
            "text/plain": [
              "<IPython.core.display.HTML object>"
            ]
          },
          "metadata": {
            "tags": []
          }
        }
      ]
    },
    {
      "cell_type": "markdown",
      "metadata": {
        "id": "qeE--FPauRdq"
      },
      "source": [
        "# グラデーション\n",
        "\n",
        "グラデーションは2種類ある。\n",
        "\n",
        "* リニア\n",
        "* ラディアル (放射状)"
      ]
    },
    {
      "cell_type": "code",
      "metadata": {
        "id": "2mlGnW1aulJc",
        "colab": {
          "base_uri": "https://localhost:8080/",
          "height": 170
        },
        "outputId": "a739912b-8a6b-4f0a-ac46-b5a07b534d1e"
      },
      "source": [
        "%%html\n",
        "<svg height=\"150\" width=\"400\">\n",
        "  <defs>\n",
        "    <linearGradient id=\"grad1\" x1=\"0%\" y1=\"0%\" x2=\"100%\" y2=\"0%\">\n",
        "      <stop offset=\"0%\" style=\"stop-color:rgb(255,255,0);stop-opacity:1\" />\n",
        "      <stop offset=\"100%\" style=\"stop-color:rgb(255,0,0);stop-opacity:1\" />\n",
        "    </linearGradient>\n",
        "  </defs>\n",
        "  <ellipse cx=\"200\" cy=\"70\" rx=\"85\" ry=\"55\" fill=\"url(#grad1)\" />\n",
        "</svg>"
      ],
      "execution_count": null,
      "outputs": [
        {
          "output_type": "display_data",
          "data": {
            "text/html": [
              "<svg height=\"150\" width=\"400\">\n",
              "  <defs>\n",
              "    <linearGradient id=\"grad1\" x1=\"0%\" y1=\"0%\" x2=\"100%\" y2=\"0%\">\n",
              "      <stop offset=\"0%\" style=\"stop-color:rgb(255,255,0);stop-opacity:1\" />\n",
              "      <stop offset=\"100%\" style=\"stop-color:rgb(255,0,0);stop-opacity:1\" />\n",
              "    </linearGradient>\n",
              "  </defs>\n",
              "  <ellipse cx=\"200\" cy=\"70\" rx=\"85\" ry=\"55\" fill=\"url(#grad1)\" />\n",
              "</svg>"
            ],
            "text/plain": [
              "<IPython.core.display.HTML object>"
            ]
          },
          "metadata": {
            "tags": []
          }
        }
      ]
    },
    {
      "cell_type": "code",
      "metadata": {
        "id": "y9L8p-lfuupD",
        "colab": {
          "base_uri": "https://localhost:8080/",
          "height": 170
        },
        "outputId": "484c4d3d-845d-49d0-ab86-57cff2464986"
      },
      "source": [
        "%%html\n",
        "\n",
        "<svg height=\"150\" width=\"400\">\n",
        "  <defs>\n",
        "    <linearGradient id=\"grad2\" x1=\"0%\" y1=\"0%\" x2=\"0%\" y2=\"100%\">\n",
        "      <stop offset=\"0%\" style=\"stop-color:rgb(255,0,0);stop-opacity:1\" />\n",
        "      <stop offset=\"100%\" style=\"stop-color:rgb(255,255,0);stop-opacity:1\" />\n",
        "    </linearGradient>\n",
        "  </defs>\n",
        "  <ellipse cx=\"200\" cy=\"70\" rx=\"85\" ry=\"55\" fill=\"url(#grad2)\" />\n",
        "</svg>"
      ],
      "execution_count": null,
      "outputs": [
        {
          "output_type": "display_data",
          "data": {
            "text/html": [
              "\n",
              "<svg height=\"150\" width=\"400\">\n",
              "  <defs>\n",
              "    <linearGradient id=\"grad2\" x1=\"0%\" y1=\"0%\" x2=\"0%\" y2=\"100%\">\n",
              "      <stop offset=\"0%\" style=\"stop-color:rgb(255,0,0);stop-opacity:1\" />\n",
              "      <stop offset=\"100%\" style=\"stop-color:rgb(255,255,0);stop-opacity:1\" />\n",
              "    </linearGradient>\n",
              "  </defs>\n",
              "  <ellipse cx=\"200\" cy=\"70\" rx=\"85\" ry=\"55\" fill=\"url(#grad2)\" />\n",
              "</svg>"
            ],
            "text/plain": [
              "<IPython.core.display.HTML object>"
            ]
          },
          "metadata": {
            "tags": []
          }
        }
      ]
    },
    {
      "cell_type": "code",
      "metadata": {
        "id": "Clc9ELzCuztQ",
        "colab": {
          "base_uri": "https://localhost:8080/",
          "height": 170
        },
        "outputId": "4defa7bb-5c70-4eca-d18b-f713f2fd2341"
      },
      "source": [
        "%%html\n",
        "\n",
        "<svg height=\"150\" width=\"400\">\n",
        "  <defs>\n",
        "    <linearGradient id=\"grad3\" x1=\"0%\" y1=\"0%\" x2=\"100%\" y2=\"0%\">\n",
        "      <stop offset=\"0%\" style=\"stop-color:rgb(255,255,0);stop-opacity:1\" />\n",
        "      <stop offset=\"100%\" style=\"stop-color:rgb(255,0,0);stop-opacity:1\" />\n",
        "    </linearGradient>\n",
        "  </defs>\n",
        "  <ellipse cx=\"200\" cy=\"70\" rx=\"85\" ry=\"55\" fill=\"url(#grad3)\" />\n",
        "  <text fill=\"#ffffff\" font-size=\"45\" font-family=\"Verdana\" x=\"150\" y=\"86\">\n",
        "  SVG</text>\n",
        "</svg>"
      ],
      "execution_count": null,
      "outputs": [
        {
          "output_type": "display_data",
          "data": {
            "text/html": [
              "\n",
              "<svg height=\"150\" width=\"400\">\n",
              "  <defs>\n",
              "    <linearGradient id=\"grad3\" x1=\"0%\" y1=\"0%\" x2=\"100%\" y2=\"0%\">\n",
              "      <stop offset=\"0%\" style=\"stop-color:rgb(255,255,0);stop-opacity:1\" />\n",
              "      <stop offset=\"100%\" style=\"stop-color:rgb(255,0,0);stop-opacity:1\" />\n",
              "    </linearGradient>\n",
              "  </defs>\n",
              "  <ellipse cx=\"200\" cy=\"70\" rx=\"85\" ry=\"55\" fill=\"url(#grad3)\" />\n",
              "  <text fill=\"#ffffff\" font-size=\"45\" font-family=\"Verdana\" x=\"150\" y=\"86\">\n",
              "  SVG</text>\n",
              "</svg>"
            ],
            "text/plain": [
              "<IPython.core.display.HTML object>"
            ]
          },
          "metadata": {
            "tags": []
          }
        }
      ]
    },
    {
      "cell_type": "code",
      "metadata": {
        "id": "JhsGURnsu5UP",
        "colab": {
          "base_uri": "https://localhost:8080/",
          "height": 170
        },
        "outputId": "9643edc6-39b6-4719-d7a7-076759b39fa6"
      },
      "source": [
        "%%html\n",
        "\n",
        "<svg height=\"150\" width=\"500\">\n",
        "  <defs>\n",
        "    <radialGradient id=\"grad1\" cx=\"50%\" cy=\"50%\" r=\"50%\" fx=\"50%\" fy=\"50%\">\n",
        "      <stop offset=\"0%\" style=\"stop-color:rgb(255,255,255);\n",
        "      stop-opacity:0\" />\n",
        "      <stop offset=\"100%\" style=\"stop-color:rgb(0,0,255);stop-opacity:1\" />\n",
        "    </radialGradient>\n",
        "  </defs>\n",
        "  <ellipse cx=\"200\" cy=\"70\" rx=\"85\" ry=\"55\" fill=\"url(#grad1)\" />\n",
        "</svg>"
      ],
      "execution_count": null,
      "outputs": [
        {
          "output_type": "display_data",
          "data": {
            "text/html": [
              "\n",
              "<svg height=\"150\" width=\"500\">\n",
              "  <defs>\n",
              "    <radialGradient id=\"grad1\" cx=\"50%\" cy=\"50%\" r=\"50%\" fx=\"50%\" fy=\"50%\">\n",
              "      <stop offset=\"0%\" style=\"stop-color:rgb(255,255,255);\n",
              "      stop-opacity:0\" />\n",
              "      <stop offset=\"100%\" style=\"stop-color:rgb(0,0,255);stop-opacity:1\" />\n",
              "    </radialGradient>\n",
              "  </defs>\n",
              "  <ellipse cx=\"200\" cy=\"70\" rx=\"85\" ry=\"55\" fill=\"url(#grad1)\" />\n",
              "</svg>"
            ],
            "text/plain": [
              "<IPython.core.display.HTML object>"
            ]
          },
          "metadata": {
            "tags": []
          }
        }
      ]
    },
    {
      "cell_type": "code",
      "metadata": {
        "id": "yK1-xsBTu_f7",
        "colab": {
          "base_uri": "https://localhost:8080/",
          "height": 170
        },
        "outputId": "86e883dd-1d2a-48a2-9926-e39c3368b4ac"
      },
      "source": [
        "%%html\n",
        "\n",
        "<svg height=\"150\" width=\"500\">\n",
        "  <defs>\n",
        "    <radialGradient id=\"grad2\" cx=\"20%\" cy=\"30%\" r=\"30%\" fx=\"50%\" fy=\"50%\">\n",
        "      <stop offset=\"0%\" style=\"stop-color:rgb(255,255,255);\n",
        "      stop-opacity:0\" />\n",
        "      <stop offset=\"100%\" style=\"stop-color:rgb(0,0,255);stop-opacity:1\" />\n",
        "    </radialGradient>\n",
        "  </defs>\n",
        "  <ellipse cx=\"200\" cy=\"70\" rx=\"85\" ry=\"55\" fill=\"url(#grad2)\" />\n",
        "</svg>"
      ],
      "execution_count": null,
      "outputs": [
        {
          "output_type": "display_data",
          "data": {
            "text/html": [
              "\n",
              "<svg height=\"150\" width=\"500\">\n",
              "  <defs>\n",
              "    <radialGradient id=\"grad2\" cx=\"20%\" cy=\"30%\" r=\"30%\" fx=\"50%\" fy=\"50%\">\n",
              "      <stop offset=\"0%\" style=\"stop-color:rgb(255,255,255);\n",
              "      stop-opacity:0\" />\n",
              "      <stop offset=\"100%\" style=\"stop-color:rgb(0,0,255);stop-opacity:1\" />\n",
              "    </radialGradient>\n",
              "  </defs>\n",
              "  <ellipse cx=\"200\" cy=\"70\" rx=\"85\" ry=\"55\" fill=\"url(#grad2)\" />\n",
              "</svg>"
            ],
            "text/plain": [
              "<IPython.core.display.HTML object>"
            ]
          },
          "metadata": {
            "tags": []
          }
        }
      ]
    },
    {
      "cell_type": "markdown",
      "metadata": {
        "id": "x8264VqivXRQ"
      },
      "source": [
        "# w3schools SVG examples\n",
        "\n",
        "https://www.w3schools.com/graphics/svg_examples.asp\n"
      ]
    },
    {
      "cell_type": "markdown",
      "metadata": {
        "id": "tpVGizzz6pow"
      },
      "source": [
        "Rectangle that repeatedly fade away over 5 seconds"
      ]
    },
    {
      "cell_type": "code",
      "metadata": {
        "id": "YO8pQr8H6oq_",
        "colab": {
          "base_uri": "https://localhost:8080/",
          "height": 419
        },
        "outputId": "f8e2b56a-6812-44a6-da27-d9b760023b57"
      },
      "source": [
        "%%html\n",
        "\n",
        "<svg width=\"400\" height=\"400\">\n",
        "  <rect x=\"20\" y=\"20\" width=\"250\" height=\"250\" style=\"fill:blue\">\n",
        "    <animate attributeType=\"CSS\" attributeName=\"opacity\" from=\"1\" to=\"0\" dur=\"5s\" repeatCount=\"indefinite\" />\n",
        "  </rect>\n",
        "</svg>\n"
      ],
      "execution_count": null,
      "outputs": [
        {
          "output_type": "display_data",
          "data": {
            "text/html": [
              "\n",
              "<svg width=\"400\" height=\"400\">\n",
              "  <rect x=\"20\" y=\"20\" width=\"250\" height=\"250\" style=\"fill:blue\">\n",
              "    <animate attributeType=\"CSS\" attributeName=\"opacity\" from=\"1\" to=\"0\" dur=\"5s\" repeatCount=\"indefinite\" />\n",
              "  </rect>\n",
              "</svg>"
            ],
            "text/plain": [
              "<IPython.core.display.HTML object>"
            ]
          },
          "metadata": {
            "tags": []
          }
        }
      ]
    },
    {
      "cell_type": "markdown",
      "metadata": {
        "id": "rxkAQPj-7Aqm"
      },
      "source": [
        "A growing rectangle that will change color"
      ]
    },
    {
      "cell_type": "code",
      "metadata": {
        "id": "G1HU3Iht7GNs",
        "colab": {
          "base_uri": "https://localhost:8080/",
          "height": 519
        },
        "outputId": "4a26373d-f24c-4a86-df17-4f2b6f8aa04d"
      },
      "source": [
        "%%html\n",
        "\n",
        "<svg width=\"500\" height=\"500\">\n",
        "  <rect id=\"rec\" x=\"300\" y=\"100\" width=\"300\" height=\"100\" style=\"fill:lime\"> \n",
        "    <animate attributeName=\"x\" attributeType=\"XML\" begin=\"0s\" dur=\"6s\" fill=\"freeze\" from=\"300\" to=\"0\" /> \n",
        "    <animate attributeName=\"y\" attributeType=\"XML\" begin=\"0s\" dur=\"6s\" fill=\"freeze\" from=\"100\" to=\"0\" /> \n",
        "    <animate attributeName=\"width\" attributeType=\"XML\" begin=\"0s\" dur=\"6s\" fill=\"freeze\" from=\"300\" to=\"800\" /> \n",
        "    <animate attributeName=\"height\" attributeType=\"XML\" begin=\"0s\" dur=\"6s\" fill=\"freeze\" from=\"100\" to=\"300\" /> \n",
        "    <animate attributeName=\"fill\" attributeType=\"CSS\" from=\"lime\" to=\"red\" begin=\"2s\" dur=\"4s\" fill=\"freeze\" />\n",
        "  </rect>\n",
        "  Sorry, your browser does not support inline SVG.\n",
        "</svg>\n"
      ],
      "execution_count": null,
      "outputs": [
        {
          "output_type": "display_data",
          "data": {
            "text/html": [
              "\n",
              "<svg width=\"500\" height=\"500\">\n",
              "  <rect id=\"rec\" x=\"300\" y=\"100\" width=\"300\" height=\"100\" style=\"fill:lime\"> \n",
              "    <animate attributeName=\"x\" attributeType=\"XML\" begin=\"0s\" dur=\"6s\" fill=\"freeze\" from=\"300\" to=\"0\" /> \n",
              "    <animate attributeName=\"y\" attributeType=\"XML\" begin=\"0s\" dur=\"6s\" fill=\"freeze\" from=\"100\" to=\"0\" /> \n",
              "    <animate attributeName=\"width\" attributeType=\"XML\" begin=\"0s\" dur=\"6s\" fill=\"freeze\" from=\"300\" to=\"800\" /> \n",
              "    <animate attributeName=\"height\" attributeType=\"XML\" begin=\"0s\" dur=\"6s\" fill=\"freeze\" from=\"100\" to=\"300\" /> \n",
              "    <animate attributeName=\"fill\" attributeType=\"CSS\" from=\"lime\" to=\"red\" begin=\"2s\" dur=\"4s\" fill=\"freeze\" />\n",
              "  </rect>\n",
              "  Sorry, your browser does not support inline SVG.\n",
              "</svg>"
            ],
            "text/plain": [
              "<IPython.core.display.HTML object>"
            ]
          },
          "metadata": {
            "tags": []
          }
        }
      ]
    },
    {
      "cell_type": "markdown",
      "metadata": {
        "id": "tPB8ttuf7QBK"
      },
      "source": [
        "Three rectangles that will change color"
      ]
    },
    {
      "cell_type": "code",
      "metadata": {
        "id": "TB477_Fz7RHa",
        "colab": {
          "base_uri": "https://localhost:8080/",
          "height": 519
        },
        "outputId": "de49da32-75f7-4482-bdd6-1a85bfe94468"
      },
      "source": [
        "%%html\n",
        "\n",
        "<svg width=\"500\" height=\"500\">\n",
        "  <rect x=\"10\" y=\"20\" width=\"90\" height=\"60\">\n",
        "    <animate id=\"a1\" attributeName=\"fill\" from=\"red\" to=\"blue\" dur=\"3s\" fill=\"freeze\" />\n",
        "  </rect>\n",
        "  <rect x=\"10\" y=\"120\" width=\"90\" height=\"60\">\n",
        "    <animate id=\"a2\" attributeName=\"fill\" from=\"blue\" to=\"yellow\" begin=\"a1.end\" dur=\"3s\" fill=\"freeze\" />\n",
        "  </rect>\n",
        "  <rect x=\"10\" y=\"220\" width=\"90\" height=\"60\">\n",
        "    <animate id=\"a3\" attributeName=\"fill\" from=\"yellow\" to=\"green\" begin=\"a2.end\" dur=\"3s\" fill=\"freeze\" />\n",
        "  </rect>\n",
        "  Sorry, your browser does not support inline SVG.  \n",
        "</svg>\n"
      ],
      "execution_count": null,
      "outputs": [
        {
          "output_type": "display_data",
          "data": {
            "text/html": [
              "\n",
              "<svg width=\"500\" height=\"500\">\n",
              "  <rect x=\"10\" y=\"20\" width=\"90\" height=\"60\">\n",
              "    <animate id=\"a1\" attributeName=\"fill\" from=\"red\" to=\"blue\" dur=\"3s\" fill=\"freeze\" />\n",
              "  </rect>\n",
              "  <rect x=\"10\" y=\"120\" width=\"90\" height=\"60\">\n",
              "    <animate id=\"a2\" attributeName=\"fill\" from=\"blue\" to=\"yellow\" begin=\"a1.end\" dur=\"3s\" fill=\"freeze\" />\n",
              "  </rect>\n",
              "  <rect x=\"10\" y=\"220\" width=\"90\" height=\"60\">\n",
              "    <animate id=\"a3\" attributeName=\"fill\" from=\"yellow\" to=\"green\" begin=\"a2.end\" dur=\"3s\" fill=\"freeze\" />\n",
              "  </rect>\n",
              "  Sorry, your browser does not support inline SVG.  \n",
              "</svg>"
            ],
            "text/plain": [
              "<IPython.core.display.HTML object>"
            ]
          },
          "metadata": {
            "tags": []
          }
        }
      ]
    },
    {
      "cell_type": "markdown",
      "metadata": {
        "id": "e-vRmA877YqO"
      },
      "source": [
        ""
      ]
    },
    {
      "cell_type": "markdown",
      "metadata": {
        "id": "yMj90Tz_7cjl"
      },
      "source": [
        "Move text along a motion path"
      ]
    },
    {
      "cell_type": "code",
      "metadata": {
        "id": "YqPIdhWK7diZ",
        "colab": {
          "base_uri": "https://localhost:8080/",
          "height": 519
        },
        "outputId": "d2088a09-bf25-4bb3-b419-ea4862dc5358"
      },
      "source": [
        "%%html\n",
        "\n",
        "<svg width=\"500\" height=\"500\">\n",
        "  <g transform=\"translate(100,100)\">\n",
        "    <text id=\"TextElement\" x=\"0\" y=\"0\" style=\"font-family:Verdana;font-size:24\"> It's SVG!\n",
        "      <animateMotion path=\"M 0 0 L 100 100\" dur=\"5s\" fill=\"freeze\" />\n",
        "    </text>\n",
        "  </g>\n",
        "  Sorry, your browser does not support inline SVG.  \n",
        "</svg>\n"
      ],
      "execution_count": null,
      "outputs": [
        {
          "output_type": "display_data",
          "data": {
            "text/html": [
              "\n",
              "<svg width=\"500\" height=\"500\">\n",
              "  <g transform=\"translate(100,100)\">\n",
              "    <text id=\"TextElement\" x=\"0\" y=\"0\" style=\"font-family:Verdana;font-size:24\"> It's SVG!\n",
              "      <animateMotion path=\"M 0 0 L 100 100\" dur=\"5s\" fill=\"freeze\" />\n",
              "    </text>\n",
              "  </g>\n",
              "  Sorry, your browser does not support inline SVG.  \n",
              "</svg>"
            ],
            "text/plain": [
              "<IPython.core.display.HTML object>"
            ]
          },
          "metadata": {
            "tags": []
          }
        }
      ]
    },
    {
      "cell_type": "markdown",
      "metadata": {
        "id": "-fhiap4X7nTY"
      },
      "source": [
        "Move, rotate, and scale text along a motion path"
      ]
    },
    {
      "cell_type": "code",
      "metadata": {
        "id": "-09Ucjn77oMj",
        "colab": {
          "base_uri": "https://localhost:8080/",
          "height": 619
        },
        "outputId": "de21d713-54d3-43d4-9961-559ec06d9fae"
      },
      "source": [
        "%%html\n",
        "\n",
        "<svg width=\"600\" height=\"600\">\n",
        "  <g transform=\"translate(100,100)\"> \n",
        "    <text id=\"TextElement\" x=\"0\" y=\"0\" style=\"font-family:Verdana;font-size:24; visibility:hidden\"> It's SVG!\n",
        "      <set attributeName=\"visibility\" attributeType=\"CSS\" to=\"visible\" begin=\"1s\" dur=\"5s\" fill=\"freeze\" />\n",
        "      <animateMotion path=\"M 0 0 L 100 100\" begin=\"1s\" dur=\"5s\" fill=\"freeze\" />\n",
        "      <animateTransform attributeName=\"transform\" attributeType=\"XML\" type=\"rotate\" from=\"-30\" to=\"0\" begin=\"1s\" dur=\"5s\" fill=\"freeze\" /> \n",
        "      <animateTransform attributeName=\"transform\" attributeType=\"XML\" type=\"scale\" from=\"1\" to=\"3\" additive=\"sum\" begin=\"1s\" dur=\"5s\" fill=\"freeze\" /> \n",
        "    </text> \n",
        "  </g> \n",
        "  Sorry, your browser does not support inline SVG.\n",
        "</svg>"
      ],
      "execution_count": null,
      "outputs": [
        {
          "output_type": "display_data",
          "data": {
            "text/html": [
              "\n",
              "<svg width=\"600\" height=\"600\">\n",
              "  <g transform=\"translate(100,100)\"> \n",
              "    <text id=\"TextElement\" x=\"0\" y=\"0\" style=\"font-family:Verdana;font-size:24; visibility:hidden\"> It's SVG!\n",
              "      <set attributeName=\"visibility\" attributeType=\"CSS\" to=\"visible\" begin=\"1s\" dur=\"5s\" fill=\"freeze\" />\n",
              "      <animateMotion path=\"M 0 0 L 100 100\" begin=\"1s\" dur=\"5s\" fill=\"freeze\" />\n",
              "      <animateTransform attributeName=\"transform\" attributeType=\"XML\" type=\"rotate\" from=\"-30\" to=\"0\" begin=\"1s\" dur=\"5s\" fill=\"freeze\" /> \n",
              "      <animateTransform attributeName=\"transform\" attributeType=\"XML\" type=\"scale\" from=\"1\" to=\"3\" additive=\"sum\" begin=\"1s\" dur=\"5s\" fill=\"freeze\" /> \n",
              "    </text> \n",
              "  </g> \n",
              "  Sorry, your browser does not support inline SVG.\n",
              "</svg>"
            ],
            "text/plain": [
              "<IPython.core.display.HTML object>"
            ]
          },
          "metadata": {
            "tags": []
          }
        }
      ]
    },
    {
      "cell_type": "markdown",
      "metadata": {
        "id": "bb-8qVb47yCo"
      },
      "source": [
        "Move, rotate, and scale text along a motion path + a growing rectangle that will change color\n",
        "Rotating ellipses\n",
        "\n"
      ]
    },
    {
      "cell_type": "code",
      "metadata": {
        "id": "7LpvRKmy7zHq",
        "colab": {
          "base_uri": "https://localhost:8080/",
          "height": 619
        },
        "outputId": "37dca44b-2124-46ca-95ef-fe2f3a836da2"
      },
      "source": [
        "%%html\n",
        "\n",
        "<svg width=\"600\" height=\"600\">\n",
        "  <rect id=\"rec\" x=\"300\" y=\"100\" width=\"300\" height=\"100\" style=\"fill:lime\"> \n",
        "    <animate attributeName=\"x\" attributeType=\"XML\" begin=\"0s\" dur=\"6s\" fill=\"freeze\" from=\"300\" to=\"0\" /> \n",
        "    <animate attributeName=\"y\" attributeType=\"XML\" begin=\"0s\" dur=\"6s\" fill=\"freeze\" from=\"100\" to=\"0\" /> \n",
        "    <animate attributeName=\"width\" attributeType=\"XML\" begin=\"0s\" dur=\"6s\" fill=\"freeze\" from=\"300\" to=\"800\" /> \n",
        "    <animate attributeName=\"height\" attributeType=\"XML\" begin=\"0s\" dur=\"6s\" fill=\"freeze\" from=\"100\" to=\"300\" /> \n",
        "    <animate attributeName=\"fill\" attributeType=\"CSS\" from=\"lime\" to=\"red\" begin=\"2s\" dur=\"4s\" fill=\"freeze\" />\n",
        "  </rect>\n",
        "  <g transform=\"translate(100,100)\"> \n",
        "    <text id=\"TextElement\" x=\"0\" y=\"0\" style=\"font-family:Verdana;font-size:24; visibility:hidden\"> It's SVG!\n",
        "      <set attributeName=\"visibility\" attributeType=\"CSS\" to=\"visible\" begin=\"1s\" dur=\"5s\" fill=\"freeze\" />\n",
        "      <animateMotion path=\"M 0 0 L 100 100\" begin=\"1s\" dur=\"5s\" fill=\"freeze\" />\n",
        "      <animate attributeName=\"fill\" attributeType=\"CSS\" from=\"red\" to=\"blue\" begin=\"1s\" dur=\"5s\" fill=\"freeze\" /> \n",
        "      <animateTransform attributeName=\"transform\" attributeType=\"XML\" type=\"rotate\" from=\"-30\" to=\"0\" begin=\"1s\" dur=\"5s\" fill=\"freeze\" /> \n",
        "      <animateTransform attributeName=\"transform\" attributeType=\"XML\" type=\"scale\" from=\"1\" to=\"3\" additive=\"sum\" begin=\"1s\" dur=\"5s\" fill=\"freeze\" /> \n",
        "    </text> \n",
        "  </g>\n",
        "</svg>\n"
      ],
      "execution_count": null,
      "outputs": [
        {
          "output_type": "display_data",
          "data": {
            "text/html": [
              "\n",
              "<svg width=\"600\" height=\"600\">\n",
              "  <rect id=\"rec\" x=\"300\" y=\"100\" width=\"300\" height=\"100\" style=\"fill:lime\"> \n",
              "    <animate attributeName=\"x\" attributeType=\"XML\" begin=\"0s\" dur=\"6s\" fill=\"freeze\" from=\"300\" to=\"0\" /> \n",
              "    <animate attributeName=\"y\" attributeType=\"XML\" begin=\"0s\" dur=\"6s\" fill=\"freeze\" from=\"100\" to=\"0\" /> \n",
              "    <animate attributeName=\"width\" attributeType=\"XML\" begin=\"0s\" dur=\"6s\" fill=\"freeze\" from=\"300\" to=\"800\" /> \n",
              "    <animate attributeName=\"height\" attributeType=\"XML\" begin=\"0s\" dur=\"6s\" fill=\"freeze\" from=\"100\" to=\"300\" /> \n",
              "    <animate attributeName=\"fill\" attributeType=\"CSS\" from=\"lime\" to=\"red\" begin=\"2s\" dur=\"4s\" fill=\"freeze\" />\n",
              "  </rect>\n",
              "  <g transform=\"translate(100,100)\"> \n",
              "    <text id=\"TextElement\" x=\"0\" y=\"0\" style=\"font-family:Verdana;font-size:24; visibility:hidden\"> It's SVG!\n",
              "      <set attributeName=\"visibility\" attributeType=\"CSS\" to=\"visible\" begin=\"1s\" dur=\"5s\" fill=\"freeze\" />\n",
              "      <animateMotion path=\"M 0 0 L 100 100\" begin=\"1s\" dur=\"5s\" fill=\"freeze\" />\n",
              "      <animate attributeName=\"fill\" attributeType=\"CSS\" from=\"red\" to=\"blue\" begin=\"1s\" dur=\"5s\" fill=\"freeze\" /> \n",
              "      <animateTransform attributeName=\"transform\" attributeType=\"XML\" type=\"rotate\" from=\"-30\" to=\"0\" begin=\"1s\" dur=\"5s\" fill=\"freeze\" /> \n",
              "      <animateTransform attributeName=\"transform\" attributeType=\"XML\" type=\"scale\" from=\"1\" to=\"3\" additive=\"sum\" begin=\"1s\" dur=\"5s\" fill=\"freeze\" /> \n",
              "    </text> \n",
              "  </g>\n",
              "</svg>"
            ],
            "text/plain": [
              "<IPython.core.display.HTML object>"
            ]
          },
          "metadata": {
            "tags": []
          }
        }
      ]
    }
  ]
}