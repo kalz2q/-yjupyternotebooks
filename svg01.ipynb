{
  "nbformat": 4,
  "nbformat_minor": 0,
  "metadata": {
    "colab": {
      "name": "svg01.ipynb",
      "provenance": [],
      "authorship_tag": "ABX9TyMahUIUSdmzY5ZhrBDh54DV",
      "include_colab_link": true
    },
    "kernelspec": {
      "name": "python3",
      "display_name": "Python 3"
    }
  },
  "cells": [
    {
      "cell_type": "markdown",
      "metadata": {
        "id": "view-in-github",
        "colab_type": "text"
      },
      "source": [
        "<a href=\"https://colab.research.google.com/github/kalz2q/mycolabnotebooks/blob/master/svg01.ipynb\" target=\"_parent\"><img src=\"https://colab.research.google.com/assets/colab-badge.svg\" alt=\"Open In Colab\"/></a>"
      ]
    },
    {
      "cell_type": "markdown",
      "metadata": {
        "id": "vv-_uiFAzsi0",
        "colab_type": "text"
      },
      "source": [
        "# メモ\n",
        "\n",
        "1. svgで数直線とか、ただの三角とか描く。matplotlibで描けるかと思ったのだが、matplotlibはそれ向きではなさそう。\n",
        "1. `%%svg` をこれまでのマニュアルから探そう。=> なかった。Render SVG literal だけ。\n",
        "1. SVG 図形描画とかで探してとりあえずやたら貼りつけよう。"
      ]
    },
    {
      "cell_type": "code",
      "metadata": {
        "id": "78--WNYgy2ah",
        "colab_type": "code",
        "colab": {
          "base_uri": "https://localhost:8080/",
          "height": 179
        },
        "outputId": "80829ce3-d619-4059-c031-f973ab1542f3"
      },
      "source": [
        "%%svg\n",
        "\n",
        "<svg width=\"160\" height=\"160\">\n",
        "<rect x=\"0\" y=\"0\" width=\"160\" height=\"160\" fill=\"skyblue\"/>\n",
        "<rect x=\"40\" y=\"40\" width=\"80\" height=\"80\" fill=\"tomato\"/>\n",
        "</svg>"
      ],
      "execution_count": 11,
      "outputs": [
        {
          "output_type": "display_data",
          "data": {
            "text/plain": [
              "<IPython.core.display.SVG object>"
            ],
            "image/svg+xml": "<svg height=\"160\" width=\"160\">\n<rect fill=\"skyblue\" height=\"160\" width=\"160\" x=\"0\" y=\"0\"/>\n<rect fill=\"tomato\" height=\"80\" width=\"80\" x=\"40\" y=\"40\"/>\n</svg>"
          },
          "metadata": {
            "tags": []
          }
        }
      ]
    },
    {
      "cell_type": "markdown",
      "metadata": {
        "id": "WwRmZ-5xzWWn",
        "colab_type": "text"
      },
      "source": [
        "たぶん\n",
        "1. %%svgで初めても`<svg></svg>`タグは必要みたい。\n",
        "1. `<svg width height>`は描画する場所の広さを決めているだけみたい。\n",
        "1. viewboxだっけ、viewportを知る必要がある。\n",
        "\n",
        "これはdotinstallの最初の例。"
      ]
    },
    {
      "cell_type": "code",
      "metadata": {
        "id": "Sumgrfhsy2OT",
        "colab_type": "code",
        "colab": {
          "base_uri": "https://localhost:8080/",
          "height": 179
        },
        "outputId": "97fcb6a0-63b9-49c8-d75d-fc9a0da1d0de"
      },
      "source": [
        "%%svg\n",
        "\n",
        "<svg width=\"160\" height=\"160\">\n",
        "<rect x=\"0\" y=\"0\" width=\"160\" height=\"160\" fill=\"skyblue\"/>\n",
        "<rect x=\"40\" y=\"40\" width=\"80\" height=\"80\" fill=\"tomato\"/>\n",
        "</svg>\n",
        "<!-- コメント -->"
      ],
      "execution_count": 24,
      "outputs": [
        {
          "output_type": "display_data",
          "data": {
            "text/plain": [
              "<IPython.core.display.SVG object>"
            ],
            "image/svg+xml": "<svg height=\"160\" width=\"160\">\n<rect fill=\"skyblue\" height=\"160\" width=\"160\" x=\"0\" y=\"0\"/>\n<rect fill=\"tomato\" height=\"80\" width=\"80\" x=\"40\" y=\"40\"/>\n</svg>"
          },
          "metadata": {
            "tags": []
          }
        }
      ]
    },
    {
      "cell_type": "markdown",
      "metadata": {
        "id": "FLahusGk0udI",
        "colab_type": "text"
      },
      "source": [
        "セルコマンド `%%svg` の中では、\n",
        "1. `<svg></svg>` は2つ持てない。\n",
        "1. `#` でコメントできない。`<!-- -->` を使う"
      ]
    },
    {
      "cell_type": "code",
      "metadata": {
        "id": "-Npcrb0y1lkA",
        "colab_type": "code",
        "colab": {
          "base_uri": "https://localhost:8080/",
          "height": 179
        },
        "outputId": "78244fa1-293a-48c1-b27e-a2ca1a3e6023"
      },
      "source": [
        "%%svg\n",
        "\n",
        "<!-- <svg width=\"160\" height=\"160\">\n",
        "    <rect x=\"0\" y=\"0\" width=\"160\" height=\"160\" fill=\"skyblue\" />\n",
        "    <rect x=\"40\" y=\"40\" width=\"80\" height=\"80\" fill=\"tomato\" />\n",
        "</svg> -->\n",
        "<svg width=\"160\" height=\"160\" viewBox=\"0 0 320 320\">\n",
        "    <rect x=\"0\" y=\"0\" width=\"160\" height=\"160\" fill=\"skyblue\" />\n",
        "    <rect x=\"40\" y=\"40\" width=\"80\" height=\"80\" fill=\"tomato\" />\n",
        "</svg>\n",
        "<!-- <svg width=\"160\" height=\"160\" viewBox=\"40 40 80 80\">\n",
        "    <rect x=\"0\" y=\"0\" width=\"160\" height=\"160\" fill=\"skyblue\" />\n",
        "    <rect x=\"40\" y=\"40\" width=\"80\" height=\"80\" fill=\"tomato\" />\n",
        "</svg> -->"
      ],
      "execution_count": 25,
      "outputs": [
        {
          "output_type": "display_data",
          "data": {
            "text/plain": [
              "<IPython.core.display.SVG object>"
            ],
            "image/svg+xml": "<svg height=\"160\" viewBox=\"0 0 320 320\" width=\"160\">\n    <rect fill=\"skyblue\" height=\"160\" width=\"160\" x=\"0\" y=\"0\"/>\n    <rect fill=\"tomato\" height=\"80\" width=\"80\" x=\"40\" y=\"40\"/>\n</svg>"
          },
          "metadata": {
            "tags": []
          }
        }
      ]
    },
    {
      "cell_type": "code",
      "metadata": {
        "id": "C-_Fzsbxy2Jx",
        "colab_type": "code",
        "colab": {
          "base_uri": "https://localhost:8080/",
          "height": 179
        },
        "outputId": "edd8a509-2131-41a1-8fa6-ecc9da175a92"
      },
      "source": [
        "%%svg\n",
        "<!-- <svg width=\"160\" height=\"160\">\n",
        "    <rect x=\"0\" y=\"0\" width=\"160\" height=\"160\" fill=\"skyblue\" />\n",
        "    <rect x=\"40\" y=\"40\" width=\"80\" height=\"80\" fill=\"tomato\" />\n",
        "</svg> -->\n",
        "<!-- <svg width=\"160\" height=\"160\" viewBox=\"0 0 320 320\">\n",
        "    <rect x=\"0\" y=\"0\" width=\"160\" height=\"160\" fill=\"skyblue\" />\n",
        "    <rect x=\"40\" y=\"40\" width=\"80\" height=\"80\" fill=\"tomato\" />\n",
        "</svg> -->\n",
        "<svg width=\"160\" height=\"160\" viewBox=\"40 40 80 80\">\n",
        "    <rect x=\"0\" y=\"0\" width=\"160\" height=\"160\" fill=\"skyblue\" />\n",
        "    <rect x=\"40\" y=\"40\" width=\"80\" height=\"80\" fill=\"tomato\" />\n",
        "</svg>"
      ],
      "execution_count": 26,
      "outputs": [
        {
          "output_type": "display_data",
          "data": {
            "text/plain": [
              "<IPython.core.display.SVG object>"
            ],
            "image/svg+xml": "<svg height=\"160\" viewBox=\"40 40 80 80\" width=\"160\">\n    <rect fill=\"skyblue\" height=\"160\" width=\"160\" x=\"0\" y=\"0\"/>\n    <rect fill=\"tomato\" height=\"80\" width=\"80\" x=\"40\" y=\"40\"/>\n</svg>"
          },
          "metadata": {
            "tags": []
          }
        }
      ]
    },
    {
      "cell_type": "markdown",
      "metadata": {
        "id": "Da1cNJgX3gAE",
        "colab_type": "text"
      },
      "source": [
        "1. `svg width height viewbox` で、外から持ってきたsvgのソースコードを自由に貼り付けられる。\n",
        "1. それ以外の部分は最適化、最小化されていてもかまわない。コントロールするためにはわかりやすい方がいいが、それにしてもツールが要るだろう。読むのはたいへん。"
      ]
    },
    {
      "cell_type": "code",
      "metadata": {
        "id": "OLI8BqSZ_OLR",
        "colab_type": "code",
        "colab": {
          "base_uri": "https://localhost:8080/",
          "height": 179
        },
        "outputId": "20db5367-da4b-4a99-ba68-7bf322980e17"
      },
      "source": [
        "%%svg\n",
        "\n",
        "<svg width=\"160\" height=\"160\">\n",
        "    <rect x=\"0\" y=\"0\" width=\"160\" height=\"160\" fill=\"skyblue\" />\n",
        "    <rect x=\"20\" y=\"20\" width=\"30\" height=\"30\" fill=\"#08c\" />\n",
        "    <rect x=\"65\" y=\"20\" width=\"30\" height=\"30\" fill=\"rgba(255, 0, 0, .4)\" />\n",
        "    <rect x=\"110\" y=\"20\" width=\"30\" height=\"30\" fill=\"hsla(120, 40%, 40%, .4)\" />\n",
        "    <rect x=\"20\" y=\"65\" width=\"30\" height=\"30\" fill=\"none\" stroke=\"olive\" stroke-width=\"2\" />\n",
        "    <rect x=\"65\" y=\"65\" width=\"30\" height=\"30\" fill=\"none\" stroke=\"olive\" stroke-width=\"2\" stroke-dasharray=\"10\" />\n",
        "    <rect x=\"110\" y=\"65\" width=\"30\" height=\"30\" fill=\"none\" stroke=\"olive\" stroke-width=\"2\" stroke-dasharray=\"10, 2\" />\n",
        "</svg>"
      ],
      "execution_count": 29,
      "outputs": [
        {
          "output_type": "display_data",
          "data": {
            "text/plain": [
              "<IPython.core.display.SVG object>"
            ],
            "image/svg+xml": "<svg height=\"160\" width=\"160\">\n    <rect fill=\"skyblue\" height=\"160\" width=\"160\" x=\"0\" y=\"0\"/>\n    <rect fill=\"#08c\" height=\"30\" width=\"30\" x=\"20\" y=\"20\"/>\n    <rect fill=\"rgba(255, 0, 0, .4)\" height=\"30\" width=\"30\" x=\"65\" y=\"20\"/>\n    <rect fill=\"hsla(120, 40%, 40%, .4)\" height=\"30\" width=\"30\" x=\"110\" y=\"20\"/>\n    <rect fill=\"none\" height=\"30\" stroke=\"olive\" stroke-width=\"2\" width=\"30\" x=\"20\" y=\"65\"/>\n    <rect fill=\"none\" height=\"30\" stroke=\"olive\" stroke-dasharray=\"10\" stroke-width=\"2\" width=\"30\" x=\"65\" y=\"65\"/>\n    <rect fill=\"none\" height=\"30\" stroke=\"olive\" stroke-dasharray=\"10, 2\" stroke-width=\"2\" width=\"30\" x=\"110\" y=\"65\"/>\n</svg>"
          },
          "metadata": {
            "tags": []
          }
        }
      ]
    },
    {
      "cell_type": "code",
      "metadata": {
        "id": "FNO4DKJf_zlk",
        "colab_type": "code",
        "colab": {
          "base_uri": "https://localhost:8080/",
          "height": 179
        },
        "outputId": "f165f0da-65cc-4e4e-c89f-9b4e05359997"
      },
      "source": [
        "%%svg\n",
        "\n",
        "<svg width=\"160\" height=\"160\">\n",
        "    <defs>\n",
        "        <style>\n",
        "            .my-box {\n",
        "                fill: pink;\n",
        "                cursor: pointer;\n",
        "                transition: .3s;\n",
        "            }\n",
        "\n",
        "            .my-box:hover {\n",
        "                width: 60px;\n",
        "                height: 60px;\n",
        "            }\n",
        "        </style>\n",
        "    </defs>\n",
        "    <rect x=\"0\" y=\"0\" width=\"160\" height=\"160\" fill=\"skyblue\" />\n",
        "    <rect x=\"20\" y=\"20\" width=\"30\" height=\"30\" style=\"fill:#08c; stroke:#eee; stroke-width:3;\" />\n",
        "    <rect x=\"65\" y=\"20\" width=\"30\" height=\"30\" class=\"my-box\" />\n",
        "</svg>"
      ],
      "execution_count": 33,
      "outputs": [
        {
          "output_type": "display_data",
          "data": {
            "text/plain": [
              "<IPython.core.display.SVG object>"
            ],
            "image/svg+xml": "<svg height=\"160\" width=\"160\">\n    <defs>\n        <style>\n            .my-box {\n                fill: pink;\n                cursor: pointer;\n                transition: .3s;\n            }\n\n            .my-box:hover {\n                width: 60px;\n                height: 60px;\n            }\n        </style>\n    </defs>\n    <rect fill=\"skyblue\" height=\"160\" width=\"160\" x=\"0\" y=\"0\"/>\n    <rect height=\"30\" style=\"fill:#08c; stroke:#eee; stroke-width:3;\" width=\"30\" x=\"20\" y=\"20\"/>\n    <rect class=\"my-box\" height=\"30\" width=\"30\" x=\"65\" y=\"20\"/>\n</svg>"
          },
          "metadata": {
            "tags": []
          }
        }
      ]
    },
    {
      "cell_type": "markdown",
      "metadata": {
        "id": "MUhSdFtcARon",
        "colab_type": "text"
      },
      "source": [
        "1. `<style></style>` が使える。\n",
        "2. `:hover` が使える。"
      ]
    },
    {
      "cell_type": "code",
      "metadata": {
        "id": "V8XxmcxO_zfs",
        "colab_type": "code",
        "colab": {
          "base_uri": "https://localhost:8080/",
          "height": 179
        },
        "outputId": "0ba2fa42-9773-417b-c69e-d8f24d988a08"
      },
      "source": [
        "%%svg\n",
        "\n",
        "<svg width=\"160\" height=\"160\">\n",
        "    <rect x=\"0\" y=\"0\" width=\"160\" height=\"160\" fill=\"skyblue\" />\n",
        "    <circle cx=\"80\" cy=\"80\" r=\"40\" fill=\"gold\" />\n",
        "    <circle cx=\"65\" cy=\"75\" r=\"5\" fill=\"black\" />\n",
        "    <circle cx=\"95\" cy=\"75\" r=\"5\" fill=\"black\" />\n",
        "    <line x1=\"65\" y1=\"95\" x2=\"95\" y2=\"95\" stroke=\"black\" stroke-width=\"5\" stroke-linecap=\"round\" />\n",
        "</svg>"
      ],
      "execution_count": 34,
      "outputs": [
        {
          "output_type": "display_data",
          "data": {
            "text/plain": [
              "<IPython.core.display.SVG object>"
            ],
            "image/svg+xml": "<svg height=\"160\" width=\"160\">\n    <rect fill=\"skyblue\" height=\"160\" width=\"160\" x=\"0\" y=\"0\"/>\n    <circle cx=\"80\" cy=\"80\" fill=\"gold\" r=\"40\"/>\n    <circle cx=\"65\" cy=\"75\" fill=\"black\" r=\"5\"/>\n    <circle cx=\"95\" cy=\"75\" fill=\"black\" r=\"5\"/>\n    <line stroke=\"black\" stroke-linecap=\"round\" stroke-width=\"5\" x1=\"65\" x2=\"95\" y1=\"95\" y2=\"95\"/>\n</svg>"
          },
          "metadata": {
            "tags": []
          }
        }
      ]
    },
    {
      "cell_type": "code",
      "metadata": {
        "id": "8h2vo-3L_zaG",
        "colab_type": "code",
        "colab": {
          "base_uri": "https://localhost:8080/",
          "height": 179
        },
        "outputId": "19e16962-5dff-486e-d424-2599ba2eb140"
      },
      "source": [
        "%%svg\n",
        "\n",
        "<svg width=\"160\" height=\"160\">\n",
        "    <defs>\n",
        "        <style>\n",
        "            @keyframes eye-move {\n",
        "                to {\n",
        "                    transform: translateX(-3px);\n",
        "                }\n",
        "            }\n",
        "\n",
        "            .eye {\n",
        "                animation: eye-move 1s infinite alternate ease-in;\n",
        "            }\n",
        "        </style>\n",
        "    </defs>\n",
        "    <rect x=\"0\" y=\"0\" width=\"160\" height=\"160\" fill=\"skyblue\" />\n",
        "    <circle cx=\"80\" cy=\"80\" r=\"40\" fill=\"gold\" />\n",
        "    <!-- <circle cx=\"65\" cy=\"75\" r=\"5\" fill=\"black\" class=\"eye\"/>\n",
        "    <circle cx=\"95\" cy=\"75\" r=\"5\" fill=\"black\" class=\"eye\"/> -->\n",
        "    <g class=\"eye\">\n",
        "        <circle cx=\"65\" cy=\"75\" r=\"5\" fill=\"black\" />\n",
        "        <circle cx=\"95\" cy=\"75\" r=\"5\" fill=\"black\" />\n",
        "    </g>\n",
        "    <line x1=\"65\" y1=\"95\" x2=\"95\" y2=\"95\" stroke=\"black\" stroke-width=\"5\" stroke-linecap=\"round\" />\n",
        "</svg>"
      ],
      "execution_count": 38,
      "outputs": [
        {
          "output_type": "display_data",
          "data": {
            "text/plain": [
              "<IPython.core.display.SVG object>"
            ],
            "image/svg+xml": "<svg height=\"160\" width=\"160\">\n    <defs>\n        <style>\n            @keyframes eye-move {\n                to {\n                    transform: translateX(-3px);\n                }\n            }\n\n            .eye {\n                animation: eye-move 1s infinite alternate ease-in;\n            }\n        </style>\n    </defs>\n    <rect fill=\"skyblue\" height=\"160\" width=\"160\" x=\"0\" y=\"0\"/>\n    <circle cx=\"80\" cy=\"80\" fill=\"gold\" r=\"40\"/>\n    <!-- <circle cx=\"65\" cy=\"75\" r=\"5\" fill=\"black\" class=\"eye\"/>\n    <circle cx=\"95\" cy=\"75\" r=\"5\" fill=\"black\" class=\"eye\"/> -->\n    <g class=\"eye\">\n        <circle cx=\"65\" cy=\"75\" fill=\"black\" r=\"5\"/>\n        <circle cx=\"95\" cy=\"75\" fill=\"black\" r=\"5\"/>\n    </g>\n    <line stroke=\"black\" stroke-linecap=\"round\" stroke-width=\"5\" x1=\"65\" x2=\"95\" y1=\"95\" y2=\"95\"/>\n</svg>"
          },
          "metadata": {
            "tags": []
          }
        }
      ]
    },
    {
      "cell_type": "markdown",
      "metadata": {
        "id": "IyZd9nf8BMbw",
        "colab_type": "text"
      },
      "source": [
        "`animation` が使える。"
      ]
    },
    {
      "cell_type": "code",
      "metadata": {
        "id": "ShpFuLW0BMIg",
        "colab_type": "code",
        "colab": {
          "base_uri": "https://localhost:8080/",
          "height": 179
        },
        "outputId": "8465751e-afd6-4942-d701-0c3273a277d3"
      },
      "source": [
        "%%svg\n",
        "\n",
        "<svg width=\"160\" height=\"160\">\n",
        "    <defs>\n",
        "        <style>\n",
        "            @keyframes eye-move {\n",
        "                to {\n",
        "                    transform: translateX(-3px);\n",
        "                }\n",
        "            }\n",
        "\n",
        "            .eye {\n",
        "                animation: eye-move 1s infinite alternate ease-in;\n",
        "            }\n",
        "        </style>\n",
        "    </defs>\n",
        "    <rect x=\"0\" y=\"0\" width=\"160\" height=\"160\" fill=\"skyblue\" />\n",
        "    <ellipse cx=\"80\" cy=\"80\" rx=\"50\" ry=\"35\" fill=\"darkslateblue\" />\n",
        "    <g class=\"eye\">\n",
        "        <circle cx=\"65\" cy=\"75\" r=\"5\" fill=\"skyblue\" />\n",
        "        <circle cx=\"95\" cy=\"75\" r=\"5\" fill=\"skyblue\" />\n",
        "    </g>\n",
        "    <polyline points=\"70,35 80,45 90,35\" stroke=\"darkslateblue\" stroke-width=\"5\" fill=\"none\" stroke-linecap=\"round\" />\n",
        "    <polygon points=\"80,80 60,140 100,140\" fill=\"darkslateblue\" />\n",
        "</svg>"
      ],
      "execution_count": 39,
      "outputs": [
        {
          "output_type": "display_data",
          "data": {
            "text/plain": [
              "<IPython.core.display.SVG object>"
            ],
            "image/svg+xml": "<svg height=\"160\" width=\"160\">\n    <defs>\n        <style>\n            @keyframes eye-move {\n                to {\n                    transform: translateX(-3px);\n                }\n            }\n\n            .eye {\n                animation: eye-move 1s infinite alternate ease-in;\n            }\n        </style>\n    </defs>\n    <rect fill=\"skyblue\" height=\"160\" width=\"160\" x=\"0\" y=\"0\"/>\n    <ellipse cx=\"80\" cy=\"80\" fill=\"darkslateblue\" rx=\"50\" ry=\"35\"/>\n    <g class=\"eye\">\n        <circle cx=\"65\" cy=\"75\" fill=\"skyblue\" r=\"5\"/>\n        <circle cx=\"95\" cy=\"75\" fill=\"skyblue\" r=\"5\"/>\n    </g>\n    <polyline fill=\"none\" points=\"70,35 80,45 90,35\" stroke=\"darkslateblue\" stroke-linecap=\"round\" stroke-width=\"5\"/>\n    <polygon fill=\"darkslateblue\" points=\"80,80 60,140 100,140\"/>\n</svg>"
          },
          "metadata": {
            "tags": []
          }
        }
      ]
    },
    {
      "cell_type": "code",
      "metadata": {
        "id": "8EXsfh7CBL8I",
        "colab_type": "code",
        "colab": {
          "base_uri": "https://localhost:8080/",
          "height": 179
        },
        "outputId": "e57fbc08-56c4-4d4f-e123-a950954bf26e"
      },
      "source": [
        "# Pathを使ってみよう\n",
        "%%svg\n",
        "\n",
        "<svg width=\"160\" height=\"160\">\n",
        "    <defs>\n",
        "        <style>\n",
        "            @keyframes eye-move {\n",
        "                to {\n",
        "                    transform: translateX(-3px);\n",
        "                }\n",
        "            }\n",
        "\n",
        "            .eye {\n",
        "                animation: eye-move 1s infinite alternate ease-in;\n",
        "            }\n",
        "        </style>\n",
        "    </defs>\n",
        "    <rect x=\"0\" y=\"0\" width=\"160\" height=\"160\" fill=\"skyblue\" />\n",
        "    <ellipse cx=\"80\" cy=\"80\" rx=\"50\" ry=\"35\" fill=\"darkslateblue\" />\n",
        "    <g class=\"eye\">\n",
        "        <circle cx=\"65\" cy=\"75\" r=\"5\" fill=\"skyblue\" />\n",
        "        <circle cx=\"95\" cy=\"75\" r=\"5\" fill=\"skyblue\" />\n",
        "    </g>\n",
        "    <polyline points=\"70,35 80,45 90,35\" stroke=\"darkslateblue\" stroke-width=\"5\" fill=\"none\" stroke-linecap=\"round\" />\n",
        "    <polygon points=\"80,80 60,140 100,140\" fill=\"darkslateblue\" />\n",
        "    <!-- <path d=\"M 65,92 A 15,10 0 0 0 95,92 Z\" fill=\"none\" stroke=\"black\"/> -->\n",
        "    <path d=\"M 65,92 A 15,10 0 0 0 95,92 Z\" fill=\"skyblue\" />\n",
        "</svg>"
      ],
      "execution_count": 41,
      "outputs": [
        {
          "output_type": "display_data",
          "data": {
            "text/plain": [
              "<IPython.core.display.SVG object>"
            ],
            "image/svg+xml": "<svg height=\"160\" width=\"160\">\n    <defs>\n        <style>\n            @keyframes eye-move {\n                to {\n                    transform: translateX(-3px);\n                }\n            }\n\n            .eye {\n                animation: eye-move 1s infinite alternate ease-in;\n            }\n        </style>\n    </defs>\n    <rect fill=\"skyblue\" height=\"160\" width=\"160\" x=\"0\" y=\"0\"/>\n    <ellipse cx=\"80\" cy=\"80\" fill=\"darkslateblue\" rx=\"50\" ry=\"35\"/>\n    <g class=\"eye\">\n        <circle cx=\"65\" cy=\"75\" fill=\"skyblue\" r=\"5\"/>\n        <circle cx=\"95\" cy=\"75\" fill=\"skyblue\" r=\"5\"/>\n    </g>\n    <polyline fill=\"none\" points=\"70,35 80,45 90,35\" stroke=\"darkslateblue\" stroke-linecap=\"round\" stroke-width=\"5\"/>\n    <polygon fill=\"darkslateblue\" points=\"80,80 60,140 100,140\"/>\n    <!-- <path d=\"M 65,92 A 15,10 0 0 0 95,92 Z\" fill=\"none\" stroke=\"black\"/> -->\n    <path d=\"M 65,92 A 15,10 0 0 0 95,92 Z\" fill=\"skyblue\"/>\n</svg>"
          },
          "metadata": {
            "tags": []
          }
        }
      ]
    },
    {
      "cell_type": "code",
      "metadata": {
        "id": "pnpi7VLvBLuy",
        "colab_type": "code",
        "colab": {
          "base_uri": "https://localhost:8080/",
          "height": 179
        },
        "outputId": "7f2c434d-2a4f-40d0-d3f1-e6a6be55acae"
      },
      "source": [
        "%%svg\n",
        "\n",
        "<svg width=\"160\" height=\"160\">\n",
        "    <defs>\n",
        "        <style>\n",
        "            @keyframes eye-move {\n",
        "                to {\n",
        "                    transform: translateX(-3px);\n",
        "                }\n",
        "            }\n",
        "\n",
        "            .eye {\n",
        "                animation: eye-move 1s infinite alternate ease-in;\n",
        "            }\n",
        "        </style>\n",
        "        <symbol id=\"robot\" viewBox=\"0 0 160 160\">\n",
        "            <rect x=\"0\" y=\"0\" width=\"160\" height=\"160\" fill=\"skyblue\" />\n",
        "            <ellipse cx=\"80\" cy=\"80\" rx=\"50\" ry=\"35\" fill=\"darkslateblue\" />\n",
        "            <g class=\"eye\">\n",
        "                <circle cx=\"65\" cy=\"75\" r=\"5\" fill=\"skyblue\" />\n",
        "                <circle cx=\"95\" cy=\"75\" r=\"5\" fill=\"skyblue\" />\n",
        "            </g>\n",
        "            <polyline points=\"70,35 80,45 90,35\" stroke=\"darkslateblue\" stroke-width=\"5\" fill=\"none\"\n",
        "                stroke-linecap=\"round\" />\n",
        "            <polygon points=\"80,80 60,140 100,140\" fill=\"darkslateblue\" />\n",
        "            <path d=\"M 65,92 A 15,10 0 0 0 95,92 Z\" fill=\"skyblue\" />\n",
        "        </symbol>\n",
        "    </defs>\n",
        "\n",
        "    <use href=\"#robot\" x=\"0\" y=\"0\" width=\"80\" height=\"80\" />\n",
        "    <use href=\"#robot\" x=\"80\" y=\"0\" width=\"80\" height=\"80\" />\n",
        "    <use href=\"#robot\" x=\"0\" y=\"80\" width=\"80\" height=\"80\" />\n",
        "    <use href=\"#robot\" x=\"80\" y=\"80\" width=\"80\" height=\"80\" />\n",
        "</svg>"
      ],
      "execution_count": 45,
      "outputs": [
        {
          "output_type": "display_data",
          "data": {
            "text/plain": [
              "<IPython.core.display.SVG object>"
            ],
            "image/svg+xml": "<svg height=\"160\" width=\"160\">\n    <defs>\n        <style>\n            @keyframes eye-move {\n                to {\n                    transform: translateX(-3px);\n                }\n            }\n\n            .eye {\n                animation: eye-move 1s infinite alternate ease-in;\n            }\n        </style>\n        <symbol id=\"robot\" viewBox=\"0 0 160 160\">\n            <rect fill=\"skyblue\" height=\"160\" width=\"160\" x=\"0\" y=\"0\"/>\n            <ellipse cx=\"80\" cy=\"80\" fill=\"darkslateblue\" rx=\"50\" ry=\"35\"/>\n            <g class=\"eye\">\n                <circle cx=\"65\" cy=\"75\" fill=\"skyblue\" r=\"5\"/>\n                <circle cx=\"95\" cy=\"75\" fill=\"skyblue\" r=\"5\"/>\n            </g>\n            <polyline fill=\"none\" points=\"70,35 80,45 90,35\" stroke=\"darkslateblue\" stroke-linecap=\"round\" stroke-width=\"5\"/>\n            <polygon fill=\"darkslateblue\" points=\"80,80 60,140 100,140\"/>\n            <path d=\"M 65,92 A 15,10 0 0 0 95,92 Z\" fill=\"skyblue\"/>\n        </symbol>\n    </defs>\n\n    <use height=\"80\" href=\"#robot\" width=\"80\" x=\"0\" y=\"0\"/>\n    <use height=\"80\" href=\"#robot\" width=\"80\" x=\"80\" y=\"0\"/>\n    <use height=\"80\" href=\"#robot\" width=\"80\" x=\"0\" y=\"80\"/>\n    <use height=\"80\" href=\"#robot\" width=\"80\" x=\"80\" y=\"80\"/>\n</svg>"
          },
          "metadata": {
            "tags": []
          }
        }
      ]
    },
    {
      "cell_type": "code",
      "metadata": {
        "id": "qPIoerPHEe2Y",
        "colab_type": "code",
        "colab": {
          "base_uri": "https://localhost:8080/",
          "height": 179
        },
        "outputId": "991df1eb-3381-465d-d291-8cc2224c2e2a"
      },
      "source": [
        "%%svg\n",
        "\n",
        "<svg width=\"160\" height=\"160\">\n",
        "    <defs>\n",
        "        <style>\n",
        "            @keyframes eye-move {\n",
        "                to {\n",
        "                    transform: translateX(-3px);\n",
        "                }\n",
        "            }\n",
        "\n",
        "            .eye {\n",
        "                animation: eye-move 1s infinite alternate ease-in;\n",
        "            }\n",
        "        </style>\n",
        "        <symbol id=\"robot\" viewBox=\"0 0 160 160\">\n",
        "            <!-- <rect x=\"0\" y=\"0\" width=\"160\" height=\"160\" fill=\"skyblue\"/> -->\n",
        "            <rect x=\"0\" y=\"0\" width=\"160\" height=\"160\" fill=\"inherit\" />\n",
        "            <ellipse cx=\"80\" cy=\"80\" rx=\"50\" ry=\"35\" fill=\"darkslateblue\" />\n",
        "            <g class=\"eye\">\n",
        "                <!-- <circle cx=\"65\" cy=\"75\" r=\"5\" fill=\"skyblue\"/>\n",
        "          <circle cx=\"95\" cy=\"75\" r=\"5\" fill=\"skyblue\"/> -->\n",
        "                <circle cx=\"65\" cy=\"75\" r=\"8\" fill=\"skyblue\" />\n",
        "                <circle cx=\"95\" cy=\"75\" r=\"8\" fill=\"skyblue\" />\n",
        "            </g>\n",
        "            <polyline points=\"70,35 80,45 90,35\" stroke=\"darkslateblue\" stroke-width=\"5\" fill=\"none\"\n",
        "                stroke-linecap=\"round\" />\n",
        "            <polygon points=\"80,80 60,140 100,140\" fill=\"darkslateblue\" />\n",
        "            <path d=\"M 65,92 A 15,10 0 0 0 95,92 Z\" fill=\"skyblue\" />\n",
        "        </symbol>\n",
        "    </defs>\n",
        "\n",
        "    <!-- <use href=\"#robot\" x=\"0\" y=\"0\" width=\"80\" height=\"80\"/>\n",
        "    <use href=\"#robot\" x=\"80\" y=\"0\" width=\"80\" height=\"80\"/>\n",
        "    <use href=\"#robot\" x=\"0\" y=\"80\" width=\"80\" height=\"80\"/>\n",
        "    <use href=\"#robot\" x=\"80\" y=\"80\" width=\"80\" height=\"80\"/> -->\n",
        "    <use href=\"#robot\" x=\"0\" y=\"0\" width=\"80\" height=\"80\" fill=\"yellow\" />\n",
        "    <use href=\"#robot\" x=\"80\" y=\"0\" width=\"80\" height=\"80\" fill=\"skyblue\" />\n",
        "    <use href=\"#robot\" x=\"0\" y=\"80\" width=\"80\" height=\"80\" fill=\"orange\" />\n",
        "    <use href=\"#robot\" x=\"80\" y=\"80\" width=\"80\" height=\"80\" fill=\"tomato\" />\n",
        "</svg>"
      ],
      "execution_count": 46,
      "outputs": [
        {
          "output_type": "display_data",
          "data": {
            "text/plain": [
              "<IPython.core.display.SVG object>"
            ],
            "image/svg+xml": "<svg height=\"160\" width=\"160\">\n    <defs>\n        <style>\n            @keyframes eye-move {\n                to {\n                    transform: translateX(-3px);\n                }\n            }\n\n            .eye {\n                animation: eye-move 1s infinite alternate ease-in;\n            }\n        </style>\n        <symbol id=\"robot\" viewBox=\"0 0 160 160\">\n            <!-- <rect x=\"0\" y=\"0\" width=\"160\" height=\"160\" fill=\"skyblue\"/> -->\n            <rect fill=\"inherit\" height=\"160\" width=\"160\" x=\"0\" y=\"0\"/>\n            <ellipse cx=\"80\" cy=\"80\" fill=\"darkslateblue\" rx=\"50\" ry=\"35\"/>\n            <g class=\"eye\">\n                <!-- <circle cx=\"65\" cy=\"75\" r=\"5\" fill=\"skyblue\"/>\n          <circle cx=\"95\" cy=\"75\" r=\"5\" fill=\"skyblue\"/> -->\n                <circle cx=\"65\" cy=\"75\" fill=\"skyblue\" r=\"8\"/>\n                <circle cx=\"95\" cy=\"75\" fill=\"skyblue\" r=\"8\"/>\n            </g>\n            <polyline fill=\"none\" points=\"70,35 80,45 90,35\" stroke=\"darkslateblue\" stroke-linecap=\"round\" stroke-width=\"5\"/>\n            <polygon fill=\"darkslateblue\" points=\"80,80 60,140 100,140\"/>\n            <path d=\"M 65,92 A 15,10 0 0 0 95,92 Z\" fill=\"skyblue\"/>\n        </symbol>\n    </defs>\n\n    <!-- <use href=\"#robot\" x=\"0\" y=\"0\" width=\"80\" height=\"80\"/>\n    <use href=\"#robot\" x=\"80\" y=\"0\" width=\"80\" height=\"80\"/>\n    <use href=\"#robot\" x=\"0\" y=\"80\" width=\"80\" height=\"80\"/>\n    <use href=\"#robot\" x=\"80\" y=\"80\" width=\"80\" height=\"80\"/> -->\n    <use fill=\"yellow\" height=\"80\" href=\"#robot\" width=\"80\" x=\"0\" y=\"0\"/>\n    <use fill=\"skyblue\" height=\"80\" href=\"#robot\" width=\"80\" x=\"80\" y=\"0\"/>\n    <use fill=\"orange\" height=\"80\" href=\"#robot\" width=\"80\" x=\"0\" y=\"80\"/>\n    <use fill=\"tomato\" height=\"80\" href=\"#robot\" width=\"80\" x=\"80\" y=\"80\"/>\n</svg>"
          },
          "metadata": {
            "tags": []
          }
        }
      ]
    },
    {
      "cell_type": "code",
      "metadata": {
        "id": "2azowe7iEesm",
        "colab_type": "code",
        "colab": {
          "base_uri": "https://localhost:8080/",
          "height": 179
        },
        "outputId": "fddf70b2-0c21-4401-e8dc-06a82e98bea7"
      },
      "source": [
        "%%svg\n",
        "\n",
        "<svg width=\"160\" height=\"160\">\n",
        "    <defs>\n",
        "        <style>\n",
        "            .my-text {\n",
        "                font-size: 72px;\n",
        "                font-weight: bold;\n",
        "                font-family: Arial;\n",
        "                /*fill: #fff;*/\n",
        "                fill: none;\n",
        "                stroke: #fff;\n",
        "                text-anchor: middle;\n",
        "            }\n",
        "        </style>\n",
        "    </defs>\n",
        "    <rect x=\"0\" y=\"0\" width=\"160\" height=\"160\" fill=\"skyblue\" />\n",
        "    <!-- <text x=\"5\" y=\"150\" class=\"my-text\"> -->\n",
        "    <text x=\"80\" y=\"150\" class=\"my-text\">\n",
        "        Hi\n",
        "    </text>\n",
        "</svg>"
      ],
      "execution_count": 47,
      "outputs": [
        {
          "output_type": "display_data",
          "data": {
            "text/plain": [
              "<IPython.core.display.SVG object>"
            ],
            "image/svg+xml": "<svg height=\"160\" width=\"160\">\n    <defs>\n        <style>\n            .my-text {\n                font-size: 72px;\n                font-weight: bold;\n                font-family: Arial;\n                /*fill: #fff;*/\n                fill: none;\n                stroke: #fff;\n                text-anchor: middle;\n            }\n        </style>\n    </defs>\n    <rect fill=\"skyblue\" height=\"160\" width=\"160\" x=\"0\" y=\"0\"/>\n    <!-- <text x=\"5\" y=\"150\" class=\"my-text\"> -->\n    <text class=\"my-text\" x=\"80\" y=\"150\">\n        Hi\n    </text>\n</svg>"
          },
          "metadata": {
            "tags": []
          }
        }
      ]
    },
    {
      "cell_type": "code",
      "metadata": {
        "id": "qLkNG9AzEegH",
        "colab_type": "code",
        "colab": {
          "base_uri": "https://localhost:8080/",
          "height": 179
        },
        "outputId": "ef8f756e-0035-4610-8a9a-faf791918841"
      },
      "source": [
        "%%svg\n",
        "\n",
        "<svg width=\"160\" height=\"160\">\n",
        "    <defs>\n",
        "        <style>\n",
        "            @keyframes text-move {\n",
        "                0% {\n",
        "                    stroke-dashoffset: 300;\n",
        "                    fill: none;\n",
        "                }\n",
        "\n",
        "                90% {\n",
        "                    fill: skyblue;\n",
        "                }\n",
        "\n",
        "                100% {\n",
        "                    stroke-dashoffset: 0;\n",
        "                    fill: #fff;\n",
        "                }\n",
        "            }\n",
        "\n",
        "            .my-text {\n",
        "                font-size: 72px;\n",
        "                font-weight: bold;\n",
        "                font-family: Arial;\n",
        "                fill: #fff;\n",
        "                stroke: #fff;\n",
        "                animation: text-move 3s ease-out;\n",
        "                stroke-dasharray: 300;\n",
        "            }\n",
        "        </style>\n",
        "    </defs>\n",
        "    <rect x=\"0\" y=\"0\" width=\"160\" height=\"160\" fill=\"skyblue\" />\n",
        "    <text x=\"5\" y=\"150\" class=\"my-text\">\n",
        "        Hi\n",
        "    </text>\n",
        "</svg>"
      ],
      "execution_count": 49,
      "outputs": [
        {
          "output_type": "display_data",
          "data": {
            "text/plain": [
              "<IPython.core.display.SVG object>"
            ],
            "image/svg+xml": "<svg height=\"160\" width=\"160\">\n    <defs>\n        <style>\n            @keyframes text-move {\n                0% {\n                    stroke-dashoffset: 300;\n                    fill: none;\n                }\n\n                90% {\n                    fill: skyblue;\n                }\n\n                100% {\n                    stroke-dashoffset: 0;\n                    fill: #fff;\n                }\n            }\n\n            .my-text {\n                font-size: 72px;\n                font-weight: bold;\n                font-family: Arial;\n                fill: #fff;\n                stroke: #fff;\n                animation: text-move 3s ease-out;\n                stroke-dasharray: 300;\n            }\n        </style>\n    </defs>\n    <rect fill=\"skyblue\" height=\"160\" width=\"160\" x=\"0\" y=\"0\"/>\n    <text class=\"my-text\" x=\"5\" y=\"150\">\n        Hi\n    </text>\n</svg>"
          },
          "metadata": {
            "tags": []
          }
        }
      ]
    },
    {
      "cell_type": "code",
      "metadata": {
        "id": "l8OFolpIFgFG",
        "colab_type": "code",
        "colab": {
          "base_uri": "https://localhost:8080/",
          "height": 179
        },
        "outputId": "b52031a2-187b-44df-a866-2239d6ee4ead"
      },
      "source": [
        "%%html\n",
        "\n",
        "<svg width=\"160\" height=\"160\">\n",
        "    <defs>\n",
        "        <style>\n",
        "            @keyframes text-move {\n",
        "                0% {\n",
        "                    stroke-dashoffset: 300;\n",
        "                    fill: none;\n",
        "                }\n",
        "\n",
        "                90% {\n",
        "                    fill: skyblue;\n",
        "                }\n",
        "\n",
        "                100% {\n",
        "                    stroke-dashoffset: 0;\n",
        "                    fill: #fff;\n",
        "                }\n",
        "            }\n",
        "\n",
        "            .my-text {\n",
        "                font-size: 72px;\n",
        "                font-weight: bold;\n",
        "                font-family: Arial;\n",
        "                fill: #fff;\n",
        "                stroke: #fff;\n",
        "                animation: text-move 3s ease-out;\n",
        "                stroke-dasharray: 300;\n",
        "                transition: .3s ease-out;\n",
        "                cursor: pointer;\n",
        "            }\n",
        "\n",
        "            .my-text.moved {\n",
        "                transform: translateX(160px);\n",
        "            }\n",
        "        </style>\n",
        "    </defs>\n",
        "    <rect x=\"0\" y=\"0\" width=\"160\" height=\"160\" fill=\"skyblue\" />\n",
        "    <text x=\"5\" y=\"150\" id=\"target\" class=\"my-text\">\n",
        "        Hi\n",
        "    </text>\n",
        "</svg>\n",
        "<script>\n",
        "    (function() {\n",
        "      'use strict';\n",
        "\n",
        "      document.getElementById('target').addEventListener('click', function() {\n",
        "        // this.setAttribute('class', 'my-text moved');\n",
        "        this.classList.add('moved');\n",
        "      });\n",
        "    })();\n",
        "</script>"
      ],
      "execution_count": 52,
      "outputs": [
        {
          "output_type": "display_data",
          "data": {
            "text/html": [
              "\n",
              "<svg width=\"160\" height=\"160\">\n",
              "    <defs>\n",
              "        <style>\n",
              "            @keyframes text-move {\n",
              "                0% {\n",
              "                    stroke-dashoffset: 300;\n",
              "                    fill: none;\n",
              "                }\n",
              "\n",
              "                90% {\n",
              "                    fill: skyblue;\n",
              "                }\n",
              "\n",
              "                100% {\n",
              "                    stroke-dashoffset: 0;\n",
              "                    fill: #fff;\n",
              "                }\n",
              "            }\n",
              "\n",
              "            .my-text {\n",
              "                font-size: 72px;\n",
              "                font-weight: bold;\n",
              "                font-family: Arial;\n",
              "                fill: #fff;\n",
              "                stroke: #fff;\n",
              "                animation: text-move 3s ease-out;\n",
              "                stroke-dasharray: 300;\n",
              "                transition: .3s ease-out;\n",
              "                cursor: pointer;\n",
              "            }\n",
              "\n",
              "            .my-text.moved {\n",
              "                transform: translateX(160px);\n",
              "            }\n",
              "        </style>\n",
              "    </defs>\n",
              "    <rect x=\"0\" y=\"0\" width=\"160\" height=\"160\" fill=\"skyblue\" />\n",
              "    <text x=\"5\" y=\"150\" id=\"target\" class=\"my-text\">\n",
              "        Hi\n",
              "    </text>\n",
              "</svg>\n",
              "<script>\n",
              "    (function() {\n",
              "      'use strict';\n",
              "\n",
              "      document.getElementById('target').addEventListener('click', function() {\n",
              "        // this.setAttribute('class', 'my-text moved');\n",
              "        this.classList.add('moved');\n",
              "      });\n",
              "    })();\n",
              "</script>"
            ],
            "text/plain": [
              "<IPython.core.display.HTML object>"
            ]
          },
          "metadata": {
            "tags": []
          }
        }
      ]
    },
    {
      "cell_type": "markdown",
      "metadata": {
        "id": "RE9I5bruFzyI",
        "colab_type": "text"
      },
      "source": [
        "`javascript` を混ぜたので `%%svg` だけではエラーになった。`%%html` にしたら動いた。アニメーションが終わったら、クリックすると右に流れる。"
      ]
    },
    {
      "cell_type": "code",
      "metadata": {
        "id": "7sDq29_DrjWz",
        "colab_type": "code",
        "colab": {
          "base_uri": "https://localhost:8080/",
          "height": 179
        },
        "outputId": "a2fda0f9-0485-4b99-9d89-03624c96f7e5"
      },
      "source": [
        "%%svg\n",
        "\n",
        "<svg width=\"290\" height=\"160\">\n",
        "<!--  ノーマル  -->\n",
        "  <line x1=\"20\" y1=\"20\" x2=\"270\" y2=\"20\" stroke=\"red\" stroke-width=\"10\" stroke-linecap=\"butt\" stroke-opacity=\"0.3\" />\n",
        "<!-- 先端に半円  -->\n",
        "  <line x1=\"20\" y1=\"40\" x2=\"270\" y2=\"40\" stroke=\"green\" stroke-width=\"10\" stroke-linecap=\"round\" stroke-opacity=\"0.7\" />\n",
        "<!--  先端に四角形  -->\n",
        "  <line x1=\"20\" y1=\"60\" x2=\"270\" y2=\"60\" stroke=\"blue\" stroke-width=\"10\" stroke-linecap=\"square\" stroke-opacity=\"1\" />\n",
        "<!--  点線  -->\n",
        "  <line x1=\"20\" y1=\"100\" x2=\"270\" y2=\"100\" stroke=\"pink\" stroke-width=\"6\" stroke-linecap=\"butt\" opacity=\"1\" stroke-dasharray=\"10 5\" />\n",
        "<!--  ドットの破線  -->\n",
        "  <line x1=\"20\" y1=\"120\" x2=\"270\" y2=\"120\" stroke=\"lightgreen\" stroke-width=\"6\" stroke-linecap=\"round\" opacity=\"1\" stroke-dasharray=\"0 10\" stroke-dashoffset=\"40\"/>\n",
        "<!--  ２種類の長さの破線  -->\n",
        "  <line x1=\"20\" y1=\"140\" x2=\"270\" y2=\"140\" stroke=\" skyblue\" stroke-width=\"6\" stroke-linecap=\"round\" opacity=\"1\" stroke-dasharray=\"0 10 30 10\" stroke-dashoffset=\"40\"/>\n",
        "  \n",
        "# </svg>"
      ],
      "execution_count": 28,
      "outputs": [
        {
          "output_type": "display_data",
          "data": {
            "text/plain": [
              "<IPython.core.display.SVG object>"
            ],
            "image/svg+xml": "<svg height=\"160\" width=\"290\">\n<!--  ノーマル  -->\n  <line stroke=\"red\" stroke-linecap=\"butt\" stroke-opacity=\"0.3\" stroke-width=\"10\" x1=\"20\" x2=\"270\" y1=\"20\" y2=\"20\"/>\n<!-- 先端に半円  -->\n  <line stroke=\"green\" stroke-linecap=\"round\" stroke-opacity=\"0.7\" stroke-width=\"10\" x1=\"20\" x2=\"270\" y1=\"40\" y2=\"40\"/>\n<!--  先端に四角形  -->\n  <line stroke=\"blue\" stroke-linecap=\"square\" stroke-opacity=\"1\" stroke-width=\"10\" x1=\"20\" x2=\"270\" y1=\"60\" y2=\"60\"/>\n<!--  点線  -->\n  <line opacity=\"1\" stroke=\"pink\" stroke-dasharray=\"10 5\" stroke-linecap=\"butt\" stroke-width=\"6\" x1=\"20\" x2=\"270\" y1=\"100\" y2=\"100\"/>\n<!--  ドットの破線  -->\n  <line opacity=\"1\" stroke=\"lightgreen\" stroke-dasharray=\"0 10\" stroke-dashoffset=\"40\" stroke-linecap=\"round\" stroke-width=\"6\" x1=\"20\" x2=\"270\" y1=\"120\" y2=\"120\"/>\n<!--  ２種類の長さの破線  -->\n  <line opacity=\"1\" stroke=\" skyblue\" stroke-dasharray=\"0 10 30 10\" stroke-dashoffset=\"40\" stroke-linecap=\"round\" stroke-width=\"6\" x1=\"20\" x2=\"270\" y1=\"140\" y2=\"140\"/>\n  \n# </svg>"
          },
          "metadata": {
            "tags": []
          }
        }
      ]
    },
    {
      "cell_type": "code",
      "metadata": {
        "id": "D04ulxdaxDfE",
        "colab_type": "code",
        "colab": {
          "base_uri": "https://localhost:8080/",
          "height": 261
        },
        "outputId": "f1949da9-dc16-4879-c8c0-d3cb47572404"
      },
      "source": [
        "%%svg\n",
        "\n",
        "<svg xmlns=\"http://www.w3.org/2000/svg\" xmlns:xl=\"http://www.w3.org/1999/xlink\" version=\"1.1\" width=\"320\" height=\"240\">\n",
        " <rect width=\"100%\" height=\"100%\" fill=\"#e33\"></rect>\n",
        " <!-- stoke:線色 storke-width:線幅 -->\n",
        " <rect width=\"50%\" height=\"50%\" fill=\"#3e3\" stroke=\"white\" stroke-width=\"5\"></rect>\n",
        " <!-- 点線 stoke-dasharray=\"実線間隔、空白間隔\" -->\n",
        " <rect width=\"25%\" height=\"25%\" fill=\"green\" stroke=\"#333\" stroke-width=\"10\" stroke-dasharray=\"20, 5\"></rect>\n",
        "</svg>"
      ],
      "execution_count": null,
      "outputs": [
        {
          "output_type": "display_data",
          "data": {
            "text/plain": [
              "<IPython.core.display.SVG object>"
            ],
            "image/svg+xml": "<svg height=\"240\" version=\"1.1\" width=\"320\" xmlns=\"http://www.w3.org/2000/svg\" xmlns:xl=\"http://www.w3.org/1999/xlink\">\n <rect fill=\"#e33\" height=\"100%\" width=\"100%\"/>\n <!-- stoke:線色 storke-width:線幅 -->\n <rect fill=\"#3e3\" height=\"50%\" stroke=\"white\" stroke-width=\"5\" width=\"50%\"/>\n <!-- 点線 stoke-dasharray=\"実線間隔、空白間隔\" -->\n <rect fill=\"green\" height=\"25%\" stroke=\"#333\" stroke-dasharray=\"20, 5\" stroke-width=\"10\" width=\"25%\"/>\n</svg>"
          },
          "metadata": {
            "tags": []
          }
        }
      ]
    },
    {
      "cell_type": "code",
      "metadata": {
        "id": "1v9ZbVfVxDYS",
        "colab_type": "code",
        "colab": {
          "base_uri": "https://localhost:8080/",
          "height": 221
        },
        "outputId": "1890a949-6a56-464b-e240-a31426944be9"
      },
      "source": [
        "%%svg\n",
        "\n",
        " <svg xmlns=\"http://www.w3.org/2000/svg\" xmlns:xl=\"http://www.w3.org/1999/xlink\" version=\"1.1\" width=\"300\" height=\"200\" viewbox=\"0 0 300 200\"> \n",
        "  <rect width=\"300\" height=\"200\" fill=\"#e33\"></rect> \n",
        "  <rect width=\"150\" height=\"100\" fill=\"#3e3\"></rect> \n",
        " </svg>"
      ],
      "execution_count": null,
      "outputs": [
        {
          "output_type": "display_data",
          "data": {
            "text/plain": [
              "<IPython.core.display.SVG object>"
            ],
            "image/svg+xml": "<svg height=\"200\" version=\"1.1\" viewbox=\"0 0 300 200\" width=\"300\" xmlns=\"http://www.w3.org/2000/svg\" xmlns:xl=\"http://www.w3.org/1999/xlink\"> \n  <rect fill=\"#e33\" height=\"200\" width=\"300\"/> \n  <rect fill=\"#3e3\" height=\"100\" width=\"150\"/> \n </svg>"
          },
          "metadata": {
            "tags": []
          }
        }
      ]
    },
    {
      "cell_type": "code",
      "metadata": {
        "id": "oEOD99FzxDPU",
        "colab_type": "code",
        "colab": {}
      },
      "source": [
        ""
      ],
      "execution_count": null,
      "outputs": []
    },
    {
      "cell_type": "code",
      "metadata": {
        "id": "7f1zuLEKxC-w",
        "colab_type": "code",
        "colab": {}
      },
      "source": [
        ""
      ],
      "execution_count": null,
      "outputs": []
    }
  ]
}