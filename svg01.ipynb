{
  "nbformat": 4,
  "nbformat_minor": 0,
  "metadata": {
    "colab": {
      "name": "svg01.ipynb",
      "provenance": [],
      "toc_visible": true,
      "authorship_tag": "ABX9TyPB2cnukgNkK40wNGnyz0XN",
      "include_colab_link": true
    },
    "kernelspec": {
      "name": "python3",
      "display_name": "Python 3"
    }
  },
  "cells": [
    {
      "cell_type": "markdown",
      "metadata": {
        "id": "view-in-github",
        "colab_type": "text"
      },
      "source": [
        "<a href=\"https://colab.research.google.com/github/kalz2q/mycolabnotebooks/blob/master/svg01.ipynb\" target=\"_parent\"><img src=\"https://colab.research.google.com/assets/colab-badge.svg\" alt=\"Open In Colab\"/></a>"
      ]
    },
    {
      "cell_type": "markdown",
      "metadata": {
        "id": "vv-_uiFAzsi0",
        "colab_type": "text"
      },
      "source": [
        "# メモ\n",
        "\n",
        "1. このノートブックはsvg01.ipynbで、ここでsvgの勉強をする。\n",
        "1. マジックコマンドの%%svgとしたあと、そのセルにsvgタグを貼りつけて実行すると、画像が出力される。これを利用してsvgの勉強ができる。\n",
        "1. %%htmlというマジックコマンドで中にsvgを書いても結果は同じでむしろ便利なので、%%htmlを使う。\n",
        "1. %%svgだとsvg画像は1つしか置けないが、%%htmlだといくつも並べられる。\n",
        "1. javascriptと併存できる。\n",
        "1. old_svg01.ipynbではいろいろ実験したが、今回はsvgのtutorialを探してそれに沿って書いていく予定。\n",
        "1. w3scools.com svg tutorial https://www.w3schools.com/graphics/svg_intro.asp\n",
        "1. learn inkscape https://inkscape.org/learn/\n",
        "1. mdn web docs svg tutorial https://developer.mozilla.org/ja/docs/Web/SVG/Tutorial"
      ]
    },
    {
      "cell_type": "markdown",
      "metadata": {
        "id": "QvyBP_bEL3cK",
        "colab_type": "text"
      },
      "source": [
        "# 最初の例"
      ]
    },
    {
      "cell_type": "code",
      "metadata": {
        "id": "3rGwKEUpMZLM",
        "colab_type": "code",
        "colab": {
          "base_uri": "https://localhost:8080/",
          "height": 119
        },
        "outputId": "4e2d25b7-55e6-4cf2-d104-d11d86a13cf9"
      },
      "source": [
        "%%html\n",
        "\n",
        "<svg width=\"100\" height=\"100\" >\n",
        "  <circle cx=\"50\" cy=\"50\" r=\"40\" stroke=\"green\" stroke-width=\"4\" fill=\"yellow\" />\n",
        "</svg>"
      ],
      "execution_count": null,
      "outputs": [
        {
          "output_type": "display_data",
          "data": {
            "text/html": [
              "\n",
              "<svg width=\"100\" height=\"100\" >\n",
              "  <circle cx=\"50\" cy=\"50\" r=\"40\" stroke=\"green\" stroke-width=\"4\" fill=\"yellow\" />\n",
              "</svg>"
            ],
            "text/plain": [
              "<IPython.core.display.HTML object>"
            ]
          },
          "metadata": {
            "tags": []
          }
        }
      ]
    },
    {
      "cell_type": "markdown",
      "metadata": {
        "id": "5ERuAUlOM34d",
        "colab_type": "text"
      },
      "source": [
        "svgには次のようなシェイプがある。\n",
        "\n",
        "* Rectangle (rect) 四角\n",
        "* Circle (circle) 円\n",
        "* Ellipse (ellipse) 楕円\n",
        "* Line (line) 線\n",
        "* Polyline (polyline) 折れ線\n",
        "* Polygon (polygon) 多角形\n",
        "* Path (path) パス"
      ]
    },
    {
      "cell_type": "markdown",
      "metadata": {
        "id": "Loh7TB2qNmRQ",
        "colab_type": "text"
      },
      "source": [
        "## 四角形"
      ]
    },
    {
      "cell_type": "code",
      "metadata": {
        "id": "hLmP7416NpfQ",
        "colab_type": "code",
        "colab": {
          "base_uri": "https://localhost:8080/",
          "height": 130
        },
        "outputId": "55558cc0-4bda-48af-a874-f0b9444158ae"
      },
      "source": [
        "%%html\n",
        "\n",
        "<svg width=\"400\" height=\"110\">\n",
        "  <rect width=\"300\" height=\"100\" style=\"fill:rgb(0,0,255);stroke-width:20;stroke:rgb(0,0,0)\" />\n",
        "</svg>"
      ],
      "execution_count": null,
      "outputs": [
        {
          "output_type": "display_data",
          "data": {
            "text/html": [
              "\n",
              "<svg width=\"400\" height=\"110\">\n",
              "  <rect width=\"300\" height=\"100\" style=\"fill:rgb(0,0,255);stroke-width:20;stroke:rgb(0,0,0)\" />\n",
              "</svg>"
            ],
            "text/plain": [
              "<IPython.core.display.HTML object>"
            ]
          },
          "metadata": {
            "tags": []
          }
        }
      ]
    },
    {
      "cell_type": "markdown",
      "metadata": {
        "id": "ApuPw2cSPN5-",
        "colab_type": "text"
      },
      "source": [
        "stroke-widthの幅を広くすると、上と左が半分欠けるのがよくわかる。避けたいが、まああわてない。\n",
        "\n",
        "属性はバラバラにも書ける。名称も同じ。"
      ]
    },
    {
      "cell_type": "code",
      "metadata": {
        "id": "B9g4gP88PhAS",
        "colab_type": "code",
        "colab": {
          "base_uri": "https://localhost:8080/",
          "height": 130
        },
        "outputId": "800866d0-eaba-4459-8368-a1ae4443bf93"
      },
      "source": [
        "%%html\n",
        "\n",
        "<svg width=\"400\" height=\"110\">\n",
        "  <rect width=\"300\" height=\"100\" fill=\"yellow\" stroke-width=\"20\" stroke=\"blue\"/>\n",
        "</svg>"
      ],
      "execution_count": null,
      "outputs": [
        {
          "output_type": "display_data",
          "data": {
            "text/html": [
              "\n",
              "<svg width=\"400\" height=\"110\">\n",
              "  <rect width=\"300\" height=\"100\" fill=\"yellow\" stroke-width=\"20\" stroke=\"blue\"/>\n",
              "</svg>"
            ],
            "text/plain": [
              "<IPython.core.display.HTML object>"
            ]
          },
          "metadata": {
            "tags": []
          }
        }
      ]
    },
    {
      "cell_type": "code",
      "metadata": {
        "id": "5bfSGo4wQHv-",
        "colab_type": "code",
        "colab": {
          "base_uri": "https://localhost:8080/",
          "height": 199
        },
        "outputId": "2995a7ed-cb50-4df3-d1b6-ed9686da54ac"
      },
      "source": [
        "%%html\n",
        "\n",
        "<svg width=\"400\" height=\"180\">\n",
        "  <rect x=\"50\" y=\"20\" width=\"150\" height=\"150\"\n",
        "  style=\"fill:blue;stroke:pink;stroke-width:20;fill-opacity:0.1;stroke-opacity:0.9\" />\n",
        "</svg>"
      ],
      "execution_count": null,
      "outputs": [
        {
          "output_type": "display_data",
          "data": {
            "text/html": [
              "\n",
              "<svg width=\"400\" height=\"180\">\n",
              "  <rect x=\"50\" y=\"20\" width=\"150\" height=\"150\"\n",
              "  style=\"fill:blue;stroke:pink;stroke-width:20;fill-opacity:0.1;stroke-opacity:0.9\" />\n",
              "</svg>"
            ],
            "text/plain": [
              "<IPython.core.display.HTML object>"
            ]
          },
          "metadata": {
            "tags": []
          }
        }
      ]
    },
    {
      "cell_type": "code",
      "metadata": {
        "colab_type": "code",
        "id": "jHTqq-iAQqd8",
        "colab": {
          "base_uri": "https://localhost:8080/",
          "height": 199
        },
        "outputId": "a2adf126-a147-4055-d96a-74c6f6e2a6c9"
      },
      "source": [
        "%%html\n",
        "<div style=\"text-align:center\">\n",
        "<svg width=\"400\" height=\"180\">\n",
        "  <rect x=\"50\" y=\"20\" width=\"150\" height=\"150\"\n",
        "  style=\"fill:blue;stroke:pink;stroke-width:20;fill-opacity:0.1;stroke-opacity:0.9\" />\n",
        "</svg>\n",
        "</div>"
      ],
      "execution_count": null,
      "outputs": [
        {
          "output_type": "display_data",
          "data": {
            "text/html": [
              "<div style=\"text-align:center\">\n",
              "<svg width=\"400\" height=\"180\">\n",
              "  <rect x=\"50\" y=\"20\" width=\"150\" height=\"150\"\n",
              "  style=\"fill:blue;stroke:pink;stroke-width:20;fill-opacity:0.1;stroke-opacity:0.9\" />\n",
              "</svg>\n",
              "</div>"
            ],
            "text/plain": [
              "<IPython.core.display.HTML object>"
            ]
          },
          "metadata": {
            "tags": []
          }
        }
      ]
    },
    {
      "cell_type": "code",
      "metadata": {
        "id": "_z0CdrzjRPg5",
        "colab_type": "code",
        "colab": {
          "base_uri": "https://localhost:8080/",
          "height": 199
        },
        "outputId": "f6e7ac13-e272-40b8-f2bf-2e1c441f7135"
      },
      "source": [
        "%%html\n",
        "<svg width=\"400\" height=\"180\">\n",
        "  <rect x=\"50\" y=\"20\" width=\"150\" height=\"150\"\n",
        "  style=\"fill:blue;stroke:pink;stroke-width:5;opacity:0.5\" />\n",
        "</svg>"
      ],
      "execution_count": null,
      "outputs": [
        {
          "output_type": "display_data",
          "data": {
            "text/html": [
              "<svg width=\"400\" height=\"180\">\n",
              "  <rect x=\"50\" y=\"20\" width=\"150\" height=\"150\"\n",
              "  style=\"fill:blue;stroke:pink;stroke-width:5;opacity:0.5\" />\n",
              "</svg>"
            ],
            "text/plain": [
              "<IPython.core.display.HTML object>"
            ]
          },
          "metadata": {
            "tags": []
          }
        }
      ]
    },
    {
      "cell_type": "code",
      "metadata": {
        "id": "4PcZpH5IZkLB",
        "colab_type": "code",
        "colab": {
          "base_uri": "https://localhost:8080/",
          "height": 199
        },
        "outputId": "ef8e4f55-6591-4918-99f5-7c898f29476d"
      },
      "source": [
        "%%html\n",
        "\n",
        "<svg width=\"400\" height=\"180\">\n",
        "  <rect x=\"50\" y=\"20\" rx=\"20\" ry=\"20\" width=\"150\" height=\"150\"\n",
        "  style=\"fill:red;stroke:black;stroke-width:5;opacity:0.5\" />\n",
        "</svg>"
      ],
      "execution_count": 45,
      "outputs": [
        {
          "output_type": "display_data",
          "data": {
            "text/html": [
              "\n",
              "<svg width=\"400\" height=\"180\">\n",
              "  <rect x=\"50\" y=\"20\" rx=\"20\" ry=\"20\" width=\"150\" height=\"150\"\n",
              "  style=\"fill:red;stroke:black;stroke-width:5;opacity:0.5\" />\n",
              "</svg>"
            ],
            "text/plain": [
              "<IPython.core.display.HTML object>"
            ]
          },
          "metadata": {
            "tags": []
          }
        }
      ]
    },
    {
      "cell_type": "code",
      "metadata": {
        "id": "_m8qmfoCZ65Z",
        "colab_type": "code",
        "colab": {
          "base_uri": "https://localhost:8080/",
          "height": 199
        },
        "outputId": "67eeef69-162c-48bd-802e-2d7f927acb2b"
      },
      "source": [
        "%%html\n",
        "\n",
        "<svg width=\"400\" height=\"180\">\n",
        "  <rect x=\"50\" y=\"20\" rx=\"50%\" ry=\"50%\" width=\"150\" height=\"150\"\n",
        "  style=\"fill:red;stroke:black;stroke-width:5;opacity:0.5\" />\n",
        "</svg>"
      ],
      "execution_count": 46,
      "outputs": [
        {
          "output_type": "display_data",
          "data": {
            "text/html": [
              "\n",
              "<svg width=\"400\" height=\"180\">\n",
              "  <rect x=\"50\" y=\"20\" rx=\"50%\" ry=\"50%\" width=\"150\" height=\"150\"\n",
              "  style=\"fill:red;stroke:black;stroke-width:5;opacity:0.5\" />\n",
              "</svg>"
            ],
            "text/plain": [
              "<IPython.core.display.HTML object>"
            ]
          },
          "metadata": {
            "tags": []
          }
        }
      ]
    },
    {
      "cell_type": "markdown",
      "metadata": {
        "id": "gb8T99MyaC3s",
        "colab_type": "text"
      },
      "source": [
        "# 円 circle"
      ]
    },
    {
      "cell_type": "code",
      "metadata": {
        "id": "DjdlGuGTaFqx",
        "colab_type": "code",
        "colab": {
          "base_uri": "https://localhost:8080/",
          "height": 119
        },
        "outputId": "79854921-f059-4e72-f757-c8d3c228e3e0"
      },
      "source": [
        "%%html\n",
        "<svg height=\"100\" width=\"100\">\n",
        "  <circle cx=\"50\" cy=\"50\" r=\"40\" stroke=\"black\" stroke-width=\"3\" fill=\"red\" />\n",
        "</svg>"
      ],
      "execution_count": 47,
      "outputs": [
        {
          "output_type": "display_data",
          "data": {
            "text/html": [
              "<svg height=\"100\" width=\"100\">\n",
              "  <circle cx=\"50\" cy=\"50\" r=\"40\" stroke=\"black\" stroke-width=\"3\" fill=\"red\" />\n",
              "</svg>"
            ],
            "text/plain": [
              "<IPython.core.display.HTML object>"
            ]
          },
          "metadata": {
            "tags": []
          }
        }
      ]
    },
    {
      "cell_type": "markdown",
      "metadata": {
        "id": "pyZbAP7LaRTp",
        "colab_type": "text"
      },
      "source": [
        "# 楕円 ellipse"
      ]
    },
    {
      "cell_type": "code",
      "metadata": {
        "id": "l5JumpE5aU8K",
        "colab_type": "code",
        "colab": {
          "base_uri": "https://localhost:8080/",
          "height": 159
        },
        "outputId": "f7b559f5-9651-4dfd-e168-88fb67d47a36"
      },
      "source": [
        "%%html\n",
        "\n",
        "<svg height=\"140\" width=\"500\">\n",
        "  <ellipse cx=\"200\" cy=\"80\" rx=\"100\" ry=\"50\"\n",
        "  style=\"fill:yellow;stroke:purple;stroke-width:2\" />\n",
        "</svg>"
      ],
      "execution_count": 48,
      "outputs": [
        {
          "output_type": "display_data",
          "data": {
            "text/html": [
              "\n",
              "<svg height=\"140\" width=\"500\">\n",
              "  <ellipse cx=\"200\" cy=\"80\" rx=\"100\" ry=\"50\"\n",
              "  style=\"fill:yellow;stroke:purple;stroke-width:2\" />\n",
              "</svg>"
            ],
            "text/plain": [
              "<IPython.core.display.HTML object>"
            ]
          },
          "metadata": {
            "tags": []
          }
        }
      ]
    },
    {
      "cell_type": "code",
      "metadata": {
        "id": "qOK55RLtacSh",
        "colab_type": "code",
        "colab": {
          "base_uri": "https://localhost:8080/",
          "height": 170
        },
        "outputId": "3401a3c3-b95b-4bf9-d2cf-3fc89317358c"
      },
      "source": [
        "%%html\n",
        "\n",
        "<svg height=\"150\" width=\"500\">\n",
        "  <ellipse cx=\"240\" cy=\"100\" rx=\"220\" ry=\"30\" style=\"fill:purple\" />\n",
        "  <ellipse cx=\"220\" cy=\"70\" rx=\"190\" ry=\"20\" style=\"fill:lime\" />\n",
        "  <ellipse cx=\"210\" cy=\"45\" rx=\"170\" ry=\"15\" style=\"fill:yellow\" />\n",
        "</svg>"
      ],
      "execution_count": 49,
      "outputs": [
        {
          "output_type": "display_data",
          "data": {
            "text/html": [
              "\n",
              "<svg height=\"150\" width=\"500\">\n",
              "  <ellipse cx=\"240\" cy=\"100\" rx=\"220\" ry=\"30\" style=\"fill:purple\" />\n",
              "  <ellipse cx=\"220\" cy=\"70\" rx=\"190\" ry=\"20\" style=\"fill:lime\" />\n",
              "  <ellipse cx=\"210\" cy=\"45\" rx=\"170\" ry=\"15\" style=\"fill:yellow\" />\n",
              "</svg>"
            ],
            "text/plain": [
              "<IPython.core.display.HTML object>"
            ]
          },
          "metadata": {
            "tags": []
          }
        }
      ]
    },
    {
      "cell_type": "code",
      "metadata": {
        "id": "HW2m0s22aiYa",
        "colab_type": "code",
        "colab": {
          "base_uri": "https://localhost:8080/",
          "height": 119
        },
        "outputId": "c0b52b9f-77dc-4a6f-a5c9-20f726ea029b"
      },
      "source": [
        "%%html\n",
        "\n",
        "<svg height=\"100\" width=\"500\">\n",
        "  <ellipse cx=\"240\" cy=\"50\" rx=\"220\" ry=\"30\" style=\"fill:yellow\" />\n",
        "  <ellipse cx=\"220\" cy=\"50\" rx=\"190\" ry=\"20\" style=\"fill:white\" />\n",
        "</svg>"
      ],
      "execution_count": 50,
      "outputs": [
        {
          "output_type": "display_data",
          "data": {
            "text/html": [
              "\n",
              "<svg height=\"100\" width=\"500\">\n",
              "  <ellipse cx=\"240\" cy=\"50\" rx=\"220\" ry=\"30\" style=\"fill:yellow\" />\n",
              "  <ellipse cx=\"220\" cy=\"50\" rx=\"190\" ry=\"20\" style=\"fill:white\" />\n",
              "</svg>"
            ],
            "text/plain": [
              "<IPython.core.display.HTML object>"
            ]
          },
          "metadata": {
            "tags": []
          }
        }
      ]
    },
    {
      "cell_type": "markdown",
      "metadata": {
        "id": "AirB6ZR5aq2z",
        "colab_type": "text"
      },
      "source": [
        "# 線 line"
      ]
    },
    {
      "cell_type": "code",
      "metadata": {
        "id": "aM8kMPZuatTV",
        "colab_type": "code",
        "colab": {
          "base_uri": "https://localhost:8080/",
          "height": 230
        },
        "outputId": "9b59cd9c-d564-40c9-ae58-850d937046bd"
      },
      "source": [
        "%%html\n",
        "\n",
        "<svg height=\"210\" width=\"500\">\n",
        "  <line x1=\"0\" y1=\"0\" x2=\"200\" y2=\"200\" style=\"stroke:rgb(255,0,0);stroke-width:2\" />\n",
        "</svg>"
      ],
      "execution_count": 52,
      "outputs": [
        {
          "output_type": "display_data",
          "data": {
            "text/html": [
              "\n",
              "<svg height=\"210\" width=\"500\">\n",
              "  <line x1=\"0\" y1=\"0\" x2=\"200\" y2=\"200\" style=\"stroke:rgb(255,0,0);stroke-width:2\" />\n",
              "</svg>"
            ],
            "text/plain": [
              "<IPython.core.display.HTML object>"
            ]
          },
          "metadata": {
            "tags": []
          }
        }
      ]
    },
    {
      "cell_type": "markdown",
      "metadata": {
        "id": "8TlZhKvua2xt",
        "colab_type": "text"
      },
      "source": [
        "# 多角形 polygon"
      ]
    },
    {
      "cell_type": "code",
      "metadata": {
        "id": "bA5f9Raza7r7",
        "colab_type": "code",
        "colab": {
          "base_uri": "https://localhost:8080/",
          "height": 230
        },
        "outputId": "80cca4b3-73c5-4207-e81c-d1d90f7b6828"
      },
      "source": [
        "%%html\n",
        "\n",
        "<svg height=\"210\" width=\"500\">\n",
        "  <polygon points=\"200,10 250,190 160,210\" style=\"fill:lime;stroke:purple;stroke-width:1\" />\n",
        "</svg>"
      ],
      "execution_count": 53,
      "outputs": [
        {
          "output_type": "display_data",
          "data": {
            "text/html": [
              "\n",
              "<svg height=\"210\" width=\"500\">\n",
              "  <polygon points=\"200,10 250,190 160,210\" style=\"fill:lime;stroke:purple;stroke-width:1\" />\n",
              "</svg>"
            ],
            "text/plain": [
              "<IPython.core.display.HTML object>"
            ]
          },
          "metadata": {
            "tags": []
          }
        }
      ]
    },
    {
      "cell_type": "code",
      "metadata": {
        "id": "rsNbqWIeqtGQ",
        "colab_type": "code",
        "colab": {
          "base_uri": "https://localhost:8080/",
          "height": 270
        },
        "outputId": "a8fedbb8-3509-41cf-e08c-3615c54b9025"
      },
      "source": [
        "%%html\n",
        "<svg height=\"250\" width=\"500\">\n",
        "  <polygon points=\"220,10 300,210 170,250 123,234\" style=\"fill:lime;stroke:purple;stroke-width:1\" />\n",
        "</svg>"
      ],
      "execution_count": 54,
      "outputs": [
        {
          "output_type": "display_data",
          "data": {
            "text/html": [
              "<svg height=\"250\" width=\"500\">\n",
              "  <polygon points=\"220,10 300,210 170,250 123,234\" style=\"fill:lime;stroke:purple;stroke-width:1\" />\n",
              "</svg>"
            ],
            "text/plain": [
              "<IPython.core.display.HTML object>"
            ]
          },
          "metadata": {
            "tags": []
          }
        }
      ]
    },
    {
      "cell_type": "code",
      "metadata": {
        "id": "QOI45UNeqx2x",
        "colab_type": "code",
        "colab": {
          "base_uri": "https://localhost:8080/",
          "height": 230
        },
        "outputId": "6b303b9c-37e0-4754-ec49-7ca320370b3e"
      },
      "source": [
        "%%html\n",
        "<svg height=\"210\" width=\"500\">\n",
        "  <polygon points=\"100,10 40,198 190,78 10,78 160,198\"\n",
        "  style=\"fill:lime;stroke:purple;stroke-width:5;fill-rule:nonzero;\" />\n",
        "</svg>"
      ],
      "execution_count": 55,
      "outputs": [
        {
          "output_type": "display_data",
          "data": {
            "text/html": [
              "<svg height=\"210\" width=\"500\">\n",
              "  <polygon points=\"100,10 40,198 190,78 10,78 160,198\"\n",
              "  style=\"fill:lime;stroke:purple;stroke-width:5;fill-rule:nonzero;\" />\n",
              "</svg>"
            ],
            "text/plain": [
              "<IPython.core.display.HTML object>"
            ]
          },
          "metadata": {
            "tags": []
          }
        }
      ]
    },
    {
      "cell_type": "code",
      "metadata": {
        "id": "GeUTb2zFq28R",
        "colab_type": "code",
        "colab": {
          "base_uri": "https://localhost:8080/",
          "height": 230
        },
        "outputId": "2f2606e9-f849-43d6-e5f3-7b7676b079f6"
      },
      "source": [
        "%%html\n",
        "<svg height=\"210\" width=\"500\">\n",
        "  <polygon points=\"100,10 40,198 190,78 10,78 160,198\"\n",
        "  style=\"fill:lime;stroke:purple;stroke-width:5;fill-rule:evenodd;\" />\n",
        "</svg>"
      ],
      "execution_count": 56,
      "outputs": [
        {
          "output_type": "display_data",
          "data": {
            "text/html": [
              "<svg height=\"210\" width=\"500\">\n",
              "  <polygon points=\"100,10 40,198 190,78 10,78 160,198\"\n",
              "  style=\"fill:lime;stroke:purple;stroke-width:5;fill-rule:evenodd;\" />\n",
              "</svg>"
            ],
            "text/plain": [
              "<IPython.core.display.HTML object>"
            ]
          },
          "metadata": {
            "tags": []
          }
        }
      ]
    },
    {
      "cell_type": "markdown",
      "metadata": {
        "id": "ddCruB-iq93R",
        "colab_type": "text"
      },
      "source": [
        "# 折れ線 polyline"
      ]
    },
    {
      "cell_type": "code",
      "metadata": {
        "id": "qWFEywB4rBhC",
        "colab_type": "code",
        "colab": {
          "base_uri": "https://localhost:8080/",
          "height": 219
        },
        "outputId": "49ed089c-3fa9-4883-b95a-c2518630388a"
      },
      "source": [
        "%%html\n",
        "\n",
        "<svg height=\"200\" width=\"500\">\n",
        "  <polyline points=\"20,20 40,25 60,40 80,120 120,140 200,180\"\n",
        "  style=\"fill:none;stroke:white;stroke-width:3\" />\n",
        "</svg>"
      ],
      "execution_count": 58,
      "outputs": [
        {
          "output_type": "display_data",
          "data": {
            "text/html": [
              "\n",
              "<svg height=\"200\" width=\"500\">\n",
              "  <polyline points=\"20,20 40,25 60,40 80,120 120,140 200,180\"\n",
              "  style=\"fill:none;stroke:white;stroke-width:3\" />\n",
              "</svg>"
            ],
            "text/plain": [
              "<IPython.core.display.HTML object>"
            ]
          },
          "metadata": {
            "tags": []
          }
        }
      ]
    },
    {
      "cell_type": "code",
      "metadata": {
        "id": "0VLlnZ6GrN-b",
        "colab_type": "code",
        "colab": {
          "base_uri": "https://localhost:8080/",
          "height": 199
        },
        "outputId": "751d7595-6abe-4256-c76c-43b12d969367"
      },
      "source": [
        "%%html\n",
        "\n",
        "<svg height=\"180\" width=\"500\">\n",
        "  <polyline points=\"0,40 40,40 40,80 80,80 80,120 120,120 120,160\"\n",
        "  style=\"fill:None;stroke:red;stroke-width:4\" />\n",
        "</svg>"
      ],
      "execution_count": 61,
      "outputs": [
        {
          "output_type": "display_data",
          "data": {
            "text/html": [
              "\n",
              "<svg height=\"180\" width=\"500\">\n",
              "  <polyline points=\"0,40 40,40 40,80 80,80 80,120 120,120 120,160\"\n",
              "  style=\"fill:None;stroke:red;stroke-width:4\" />\n",
              "</svg>"
            ],
            "text/plain": [
              "<IPython.core.display.HTML object>"
            ]
          },
          "metadata": {
            "tags": []
          }
        }
      ]
    },
    {
      "cell_type": "markdown",
      "metadata": {
        "id": "-G00PtonrbfC",
        "colab_type": "text"
      },
      "source": [
        "# パス path\n",
        "\n",
        "パスにはつぎのコマンドがある。\n",
        "\n",
        "* M = moveto \n",
        "* L = lineto \n",
        "* H = horizontal lineto \n",
        "* V = vertical lineto \n",
        "* C = curveto \n",
        "* S = smooth curveto \n",
        "* Q = quadratic Bézier curve \n",
        "* T = smooth quadratic Bézier curveto \n",
        "* A = elliptical Arc \n",
        "* Z = closepath \n",
        "\n",
        "大文字だと絶対座標、小文字だと相対座標。\n"
      ]
    },
    {
      "cell_type": "code",
      "metadata": {
        "id": "qkanqGEQr-d6",
        "colab_type": "code",
        "colab": {
          "base_uri": "https://localhost:8080/",
          "height": 230
        },
        "outputId": "3fcc6acd-c245-40b0-e71c-698456fe1d2c"
      },
      "source": [
        "%%html\n",
        "\n",
        "<svg height=\"210\" width=\"400\">\n",
        "  <path d=\"M150 0 L75 200 L225 200 Z\" style=\"fill:white;\" />\n",
        "</svg>"
      ],
      "execution_count": 63,
      "outputs": [
        {
          "output_type": "display_data",
          "data": {
            "text/html": [
              "\n",
              "<svg height=\"210\" width=\"400\">\n",
              "  <path d=\"M150 0 L75 200 L225 200 Z\" style=\"fill:white;\" />\n",
              "</svg>"
            ],
            "text/plain": [
              "<IPython.core.display.HTML object>"
            ]
          },
          "metadata": {
            "tags": []
          }
        }
      ]
    },
    {
      "cell_type": "markdown",
      "metadata": {
        "id": "O-c3B0NesXcU",
        "colab_type": "text"
      },
      "source": [
        "# ベジェ曲線\n",
        "\n",
        "次の例では、2次ベジェ曲線を作成する。。AとCは開始点と終了点、Bは制御点。"
      ]
    },
    {
      "cell_type": "code",
      "metadata": {
        "id": "0goo8C2QsxBL",
        "colab_type": "code",
        "colab": {
          "base_uri": "https://localhost:8080/",
          "height": 419
        },
        "outputId": "1354a049-386e-4b18-be29-9ca54d55f591"
      },
      "source": [
        "%%html\n",
        "\n",
        "<svg height=\"400\" width=\"450\">\n",
        "  <path id=\"lineAB\" d=\"M 100 350 l 150 -300\" stroke=\"red\"\n",
        "  stroke-width=\"3\" fill=\"none\" />\n",
        "  <path id=\"lineBC\" d=\"M 250 50 l 150 300\" stroke=\"red\"\n",
        "  stroke-width=\"3\" fill=\"none\" />\n",
        "  <path d=\"M 175 200 l 150 0\" stroke=\"green\" stroke-width=\"3\"\n",
        "  fill=\"none\" />\n",
        "  <path d=\"M 100 350 q 150 -300 300 0\" stroke=\"blue\"\n",
        "  stroke-width=\"5\" fill=\"none\" />\n",
        "  <!-- Mark relevant points -->\n",
        "  <g stroke=\"black\" stroke-width=\"3\" fill=\"black\">\n",
        "    <circle id=\"pointA\" cx=\"100\" cy=\"350\" r=\"3\" />\n",
        "    <circle id=\"pointB\" cx=\"250\" cy=\"50\" r=\"3\" />\n",
        "    <circle id=\"pointC\" cx=\"400\" cy=\"350\" r=\"3\" />\n",
        "  </g>\n",
        "  <!-- Label the points -->\n",
        "  <g font-size=\"30\" font-family=\"sans-serif\" fill=\"black\" stroke=\"none\"\n",
        "  text-anchor=\"middle\">\n",
        "    <text x=\"100\" y=\"350\" dx=\"-30\">A</text>\n",
        "    <text x=\"250\" y=\"50\" dy=\"-10\">B</text>\n",
        "    <text x=\"400\" y=\"350\" dx=\"30\">C</text>\n",
        "  </g>\n",
        "</svg>"
      ],
      "execution_count": 64,
      "outputs": [
        {
          "output_type": "display_data",
          "data": {
            "text/html": [
              "\n",
              "<svg height=\"400\" width=\"450\">\n",
              "  <path id=\"lineAB\" d=\"M 100 350 l 150 -300\" stroke=\"red\"\n",
              "  stroke-width=\"3\" fill=\"none\" />\n",
              "  <path id=\"lineBC\" d=\"M 250 50 l 150 300\" stroke=\"red\"\n",
              "  stroke-width=\"3\" fill=\"none\" />\n",
              "  <path d=\"M 175 200 l 150 0\" stroke=\"green\" stroke-width=\"3\"\n",
              "  fill=\"none\" />\n",
              "  <path d=\"M 100 350 q 150 -300 300 0\" stroke=\"blue\"\n",
              "  stroke-width=\"5\" fill=\"none\" />\n",
              "  <!-- Mark relevant points -->\n",
              "  <g stroke=\"black\" stroke-width=\"3\" fill=\"black\">\n",
              "    <circle id=\"pointA\" cx=\"100\" cy=\"350\" r=\"3\" />\n",
              "    <circle id=\"pointB\" cx=\"250\" cy=\"50\" r=\"3\" />\n",
              "    <circle id=\"pointC\" cx=\"400\" cy=\"350\" r=\"3\" />\n",
              "  </g>\n",
              "  <!-- Label the points -->\n",
              "  <g font-size=\"30\" font-family=\"sans-serif\" fill=\"black\" stroke=\"none\"\n",
              "  text-anchor=\"middle\">\n",
              "    <text x=\"100\" y=\"350\" dx=\"-30\">A</text>\n",
              "    <text x=\"250\" y=\"50\" dy=\"-10\">B</text>\n",
              "    <text x=\"400\" y=\"350\" dx=\"30\">C</text>\n",
              "  </g>\n",
              "</svg>"
            ],
            "text/plain": [
              "<IPython.core.display.HTML object>"
            ]
          },
          "metadata": {
            "tags": []
          }
        }
      ]
    },
    {
      "cell_type": "markdown",
      "metadata": {
        "id": "_9zbcVdYtJU6",
        "colab_type": "text"
      },
      "source": [
        "# テキスト"
      ]
    },
    {
      "cell_type": "code",
      "metadata": {
        "id": "7x0vxglvtH8U",
        "colab_type": "code",
        "colab": {
          "base_uri": "https://localhost:8080/",
          "height": 50
        },
        "outputId": "e9e9b4b2-e26b-4a12-de94-b5bb8e0559ba"
      },
      "source": [
        "%%html\n",
        "\n",
        "<svg height=\"30\" width=\"200\">\n",
        "  <text x=\"0\" y=\"15\" fill=\"red\">I love SVG!</text>\n",
        "</svg>"
      ],
      "execution_count": 65,
      "outputs": [
        {
          "output_type": "display_data",
          "data": {
            "text/html": [
              "\n",
              "<svg height=\"30\" width=\"200\">\n",
              "  <text x=\"0\" y=\"15\" fill=\"red\">I love SVG!</text>\n",
              "</svg>"
            ],
            "text/plain": [
              "<IPython.core.display.HTML object>"
            ]
          },
          "metadata": {
            "tags": []
          }
        }
      ]
    },
    {
      "cell_type": "code",
      "metadata": {
        "id": "tDZAReVNtVek",
        "colab_type": "code",
        "colab": {
          "base_uri": "https://localhost:8080/",
          "height": 79
        },
        "outputId": "f5b3be44-7c1f-41f1-d712-9b92cf974732"
      },
      "source": [
        "%%html\n",
        "\n",
        "<svg height=\"60\" width=\"200\">\n",
        "  <text x=\"0\" y=\"15\" fill=\"red\" transform=\"rotate(30 20,40)\">I love SVG</text>\n",
        "</svg>"
      ],
      "execution_count": 66,
      "outputs": [
        {
          "output_type": "display_data",
          "data": {
            "text/html": [
              "\n",
              "<svg height=\"60\" width=\"200\">\n",
              "  <text x=\"0\" y=\"15\" fill=\"red\" transform=\"rotate(30 20,40)\">I love SVG</text>\n",
              "</svg>"
            ],
            "text/plain": [
              "<IPython.core.display.HTML object>"
            ]
          },
          "metadata": {
            "tags": []
          }
        }
      ]
    },
    {
      "cell_type": "code",
      "metadata": {
        "id": "B7JXbKAwtlON",
        "colab_type": "code",
        "colab": {
          "base_uri": "https://localhost:8080/",
          "height": 110
        },
        "outputId": "49a36646-5787-4a9e-a04c-7ec32c990a7b"
      },
      "source": [
        "%%html\n",
        "\n",
        "<svg height=\"90\" width=\"200\">\n",
        "  <text x=\"10\" y=\"20\" style=\"fill:red;\">Several lines:\n",
        "    <tspan x=\"10\" y=\"45\">First line.</tspan>\n",
        "    <tspan x=\"10\" y=\"70\">Second line.</tspan>\n",
        "  </text>\n",
        "</svg>\n"
      ],
      "execution_count": 67,
      "outputs": [
        {
          "output_type": "display_data",
          "data": {
            "text/html": [
              "\n",
              "<svg height=\"90\" width=\"200\">\n",
              "  <text x=\"10\" y=\"20\" style=\"fill:red;\">Several lines:\n",
              "    <tspan x=\"10\" y=\"45\">First line.</tspan>\n",
              "    <tspan x=\"10\" y=\"70\">Second line.</tspan>\n",
              "  </text>\n",
              "</svg>"
            ],
            "text/plain": [
              "<IPython.core.display.HTML object>"
            ]
          },
          "metadata": {
            "tags": []
          }
        }
      ]
    },
    {
      "cell_type": "code",
      "metadata": {
        "id": "TMTQsfmIt0Kv",
        "colab_type": "code",
        "colab": {
          "base_uri": "https://localhost:8080/",
          "height": 50
        },
        "outputId": "d559d7ce-e5c0-4bb5-9ef1-6a4e03e9d445"
      },
      "source": [
        "%%html\n",
        "\n",
        "<svg height=\"30\" width=\"200\" xmlns:xlink=\"http://www.w3.org/1999/xlink\">\n",
        "  <a xlink:href=\"https://www.w3schools.com/graphics/\" target=\"_blank\">\n",
        "    <text x=\"0\" y=\"15\" fill=\"red\">I love SVG!</text>\n",
        "  </a>\n",
        "</svg>"
      ],
      "execution_count": 68,
      "outputs": [
        {
          "output_type": "display_data",
          "data": {
            "text/html": [
              "\n",
              "<svg height=\"30\" width=\"200\" xmlns:xlink=\"http://www.w3.org/1999/xlink\">\n",
              "  <a xlink:href=\"https://www.w3schools.com/graphics/\" target=\"_blank\">\n",
              "    <text x=\"0\" y=\"15\" fill=\"red\">I love SVG!</text>\n",
              "  </a>\n",
              "</svg>"
            ],
            "text/plain": [
              "<IPython.core.display.HTML object>"
            ]
          },
          "metadata": {
            "tags": []
          }
        }
      ]
    }
  ]
}