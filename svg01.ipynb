{
  "nbformat": 4,
  "nbformat_minor": 0,
  "metadata": {
    "colab": {
      "name": "svg01.ipynb",
      "provenance": [],
      "authorship_tag": "ABX9TyOmh2pgPlXmSAc2XxGimbd6",
      "include_colab_link": true
    },
    "kernelspec": {
      "name": "python3",
      "display_name": "Python 3"
    }
  },
  "cells": [
    {
      "cell_type": "markdown",
      "metadata": {
        "id": "view-in-github",
        "colab_type": "text"
      },
      "source": [
        "<a href=\"https://colab.research.google.com/github/kalz2q/mycolabnotebooks/blob/master/svg01.ipynb\" target=\"_parent\"><img src=\"https://colab.research.google.com/assets/colab-badge.svg\" alt=\"Open In Colab\"/></a>"
      ]
    },
    {
      "cell_type": "markdown",
      "metadata": {
        "id": "vv-_uiFAzsi0",
        "colab_type": "text"
      },
      "source": [
        "# メモ\n",
        "\n",
        "1. svgで数直線とか、ただの三角とか描く。matplotlibで描けるかと思ったのだが、matplotlibはそれ向きではなさそう。\n",
        "1. `%%svg` をこれまでのマニュアルから探そう。=> なかった。Render SVG literal だけ。\n",
        "1. SVG 図形描画とかで探してとりあえずやたら貼りつけよう。"
      ]
    },
    {
      "cell_type": "code",
      "metadata": {
        "id": "7sDq29_DrjWz",
        "colab_type": "code",
        "colab": {
          "base_uri": "https://localhost:8080/",
          "height": 181
        },
        "outputId": "da854ff0-4f9f-4e71-cebd-c86c3b8af132"
      },
      "source": [
        "%%svg\n",
        "\n",
        "<svg width=\"290\" height=\"160\">\n",
        "<!--  ノーマル  -->\n",
        "  <line x1=\"20\" y1=\"20\" x2=\"270\" y2=\"20\" stroke=\"red\" stroke-width=\"10\" stroke-linecap=\"butt\" stroke-stroke-opacity=\"1\" />\n",
        "<!-- 先端に半円  -->\n",
        "  <line x1=\"20\" y1=\"40\" x2=\"270\" y2=\"40\" stroke=\"green\" stroke-width=\"10\" stroke-linecap=\"round\" stroke-opacity=\"0.7\" />\n",
        "<!--  先端に四角形  -->\n",
        "  <line x1=\"20\" y1=\"60\" x2=\"270\" y2=\"60\" stroke=\"blue\" stroke-width=\"10\" stroke-linecap=\"square\" stroke-opacity=\"1\" />\n",
        "<!--  点線  -->\n",
        "  <line x1=\"20\" y1=\"100\" x2=\"270\" y2=\"100\" stroke=\"pink\" stroke-width=\"6\" stroke-linecap=\"butt\" opacity=\"1\" stroke-dasharray=\"10 5\" />\n",
        "<!--  ドットの破線  -->\n",
        "  <line x1=\"20\" y1=\"120\" x2=\"270\" y2=\"120\" stroke=\"lightgreen\" stroke-width=\"6\" stroke-linecap=\"round\" opacity=\"1\" stroke-dasharray=\"0 10\" stroke-dashoffset=\"40\"/>\n",
        "<!--  ２種類の長さの破線  -->\n",
        "  <line x1=\"20\" y1=\"140\" x2=\"270\" y2=\"140\" stroke=\" skyblue\" stroke-width=\"6\" stroke-linecap=\"round\" opacity=\"1\" stroke-dasharray=\"0 10 30 10\" stroke-dashoffset=\"40\"/>\n",
        "  \n",
        "# </svg>"
      ],
      "execution_count": 4,
      "outputs": [
        {
          "output_type": "display_data",
          "data": {
            "text/plain": [
              "<IPython.core.display.SVG object>"
            ],
            "image/svg+xml": "<svg height=\"160\" width=\"290\">\n# <!--  ノーマル  -->\n  <line stroke=\"red\" stroke-linecap=\"butt\" stroke-stroke-opacity=\"1\" stroke-width=\"10\" x1=\"20\" x2=\"270\" y1=\"20\" y2=\"20\"/>\n<!-- 先端に半円  -->\n  <line stroke=\"green\" stroke-linecap=\"round\" stroke-opacity=\"0.7\" stroke-width=\"10\" x1=\"20\" x2=\"270\" y1=\"40\" y2=\"40\"/>\n<!--  先端に四角形  -->\n  <line stroke=\"blue\" stroke-linecap=\"square\" stroke-opacity=\"1\" stroke-width=\"10\" x1=\"20\" x2=\"270\" y1=\"60\" y2=\"60\"/>\n<!--  点線  -->\n  <line opacity=\"1\" stroke=\"pink\" stroke-dasharray=\"10 5\" stroke-linecap=\"butt\" stroke-width=\"6\" x1=\"20\" x2=\"270\" y1=\"100\" y2=\"100\"/>\n<!--  ドットの破線  -->\n  <line opacity=\"1\" stroke=\"lightgreen\" stroke-dasharray=\"0 10\" stroke-dashoffset=\"40\" stroke-linecap=\"round\" stroke-width=\"6\" x1=\"20\" x2=\"270\" y1=\"120\" y2=\"120\"/>\n<!--  ２種類の長さの破線  -->\n  <line opacity=\"1\" stroke=\" skyblue\" stroke-dasharray=\"0 10 30 10\" stroke-dashoffset=\"40\" stroke-linecap=\"round\" stroke-width=\"6\" x1=\"20\" x2=\"270\" y1=\"140\" y2=\"140\"/>\n  \n# </svg>"
          },
          "metadata": {
            "tags": []
          }
        }
      ]
    },
    {
      "cell_type": "code",
      "metadata": {
        "id": "D04ulxdaxDfE",
        "colab_type": "code",
        "colab": {
          "base_uri": "https://localhost:8080/",
          "height": 261
        },
        "outputId": "f1949da9-dc16-4879-c8c0-d3cb47572404"
      },
      "source": [
        "%%svg\n",
        "\n",
        "<svg xmlns=\"http://www.w3.org/2000/svg\" xmlns:xl=\"http://www.w3.org/1999/xlink\" version=\"1.1\" width=\"320\" height=\"240\">\n",
        " <rect width=\"100%\" height=\"100%\" fill=\"#e33\"></rect>\n",
        " <!-- stoke:線色 storke-width:線幅 -->\n",
        " <rect width=\"50%\" height=\"50%\" fill=\"#3e3\" stroke=\"white\" stroke-width=\"5\"></rect>\n",
        " <!-- 点線 stoke-dasharray=\"実線間隔、空白間隔\" -->\n",
        " <rect width=\"25%\" height=\"25%\" fill=\"green\" stroke=\"#333\" stroke-width=\"10\" stroke-dasharray=\"20, 5\"></rect>\n",
        "</svg>"
      ],
      "execution_count": 5,
      "outputs": [
        {
          "output_type": "display_data",
          "data": {
            "text/plain": [
              "<IPython.core.display.SVG object>"
            ],
            "image/svg+xml": "<svg height=\"240\" version=\"1.1\" width=\"320\" xmlns=\"http://www.w3.org/2000/svg\" xmlns:xl=\"http://www.w3.org/1999/xlink\">\n <rect fill=\"#e33\" height=\"100%\" width=\"100%\"/>\n <!-- stoke:線色 storke-width:線幅 -->\n <rect fill=\"#3e3\" height=\"50%\" stroke=\"white\" stroke-width=\"5\" width=\"50%\"/>\n <!-- 点線 stoke-dasharray=\"実線間隔、空白間隔\" -->\n <rect fill=\"green\" height=\"25%\" stroke=\"#333\" stroke-dasharray=\"20, 5\" stroke-width=\"10\" width=\"25%\"/>\n</svg>"
          },
          "metadata": {
            "tags": []
          }
        }
      ]
    },
    {
      "cell_type": "code",
      "metadata": {
        "id": "1v9ZbVfVxDYS",
        "colab_type": "code",
        "colab": {
          "base_uri": "https://localhost:8080/",
          "height": 221
        },
        "outputId": "1890a949-6a56-464b-e240-a31426944be9"
      },
      "source": [
        "%%svg\n",
        "\n",
        " <svg xmlns=\"http://www.w3.org/2000/svg\" xmlns:xl=\"http://www.w3.org/1999/xlink\" version=\"1.1\" width=\"300\" height=\"200\" viewbox=\"0 0 300 200\"> \n",
        "  <rect width=\"300\" height=\"200\" fill=\"#e33\"></rect> \n",
        "  <rect width=\"150\" height=\"100\" fill=\"#3e3\"></rect> \n",
        " </svg>"
      ],
      "execution_count": 9,
      "outputs": [
        {
          "output_type": "display_data",
          "data": {
            "text/plain": [
              "<IPython.core.display.SVG object>"
            ],
            "image/svg+xml": "<svg height=\"200\" version=\"1.1\" viewbox=\"0 0 300 200\" width=\"300\" xmlns=\"http://www.w3.org/2000/svg\" xmlns:xl=\"http://www.w3.org/1999/xlink\"> \n  <rect fill=\"#e33\" height=\"200\" width=\"300\"/> \n  <rect fill=\"#3e3\" height=\"100\" width=\"150\"/> \n </svg>"
          },
          "metadata": {
            "tags": []
          }
        }
      ]
    },
    {
      "cell_type": "code",
      "metadata": {
        "id": "oEOD99FzxDPU",
        "colab_type": "code",
        "colab": {}
      },
      "source": [
        ""
      ],
      "execution_count": null,
      "outputs": []
    },
    {
      "cell_type": "code",
      "metadata": {
        "id": "7f1zuLEKxC-w",
        "colab_type": "code",
        "colab": {}
      },
      "source": [
        ""
      ],
      "execution_count": null,
      "outputs": []
    }
  ]
}