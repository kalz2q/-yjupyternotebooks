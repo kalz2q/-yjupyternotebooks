{
  "nbformat": 4,
  "nbformat_minor": 0,
  "metadata": {
    "colab": {
      "name": "svg01.ipynb",
      "provenance": [],
      "authorship_tag": "ABX9TyMwE7CzNXvj4XYsCDhC3dvb",
      "include_colab_link": true
    },
    "kernelspec": {
      "name": "python3",
      "display_name": "Python 3"
    }
  },
  "cells": [
    {
      "cell_type": "markdown",
      "metadata": {
        "id": "view-in-github",
        "colab_type": "text"
      },
      "source": [
        "<a href=\"https://colab.research.google.com/github/kalz2q/mycolabnotebooks/blob/master/svg01.ipynb\" target=\"_parent\"><img src=\"https://colab.research.google.com/assets/colab-badge.svg\" alt=\"Open In Colab\"/></a>"
      ]
    },
    {
      "cell_type": "markdown",
      "metadata": {
        "id": "vv-_uiFAzsi0",
        "colab_type": "text"
      },
      "source": [
        "# メモ\n",
        "\n",
        "1. このノートブックはsvg01.ipynbで、ここでsvgの勉強をする。\n",
        "1. マジックコマンドの%%svgとしたあと、そのセルにsvgタグを貼りつけて実行すると、画像が出力される。これを利用してsvgの勉強ができる。\n",
        "1. %%htmlというマジックコマンドで中にsvgを書いても結果は同じでむしろ便利なので、%%htmlを使う。\n",
        "1. %%svgだとsvg画像は1つしか置けないが、%%htmlだといくつも並べられる。\n",
        "1. javascriptと併存できる。\n",
        "1. old_svg01.ipynbではいろいろ実験したが、今回はsvgのtutorialを探してそれに沿って書いていく予定。\n",
        "1. w3scools.com svg tutorial https://www.w3schools.com/graphics/svg_intro.asp\n",
        "1. learn inkscape https://inkscape.org/learn/\n",
        "1. mdn web docs svg tutorial https://developer.mozilla.org/ja/docs/Web/SVG/Tutorial"
      ]
    },
    {
      "cell_type": "markdown",
      "metadata": {
        "id": "QvyBP_bEL3cK",
        "colab_type": "text"
      },
      "source": [
        "# 最初の例"
      ]
    },
    {
      "cell_type": "code",
      "metadata": {
        "id": "3rGwKEUpMZLM",
        "colab_type": "code",
        "colab": {
          "base_uri": "https://localhost:8080/",
          "height": 119
        },
        "outputId": "4e2d25b7-55e6-4cf2-d104-d11d86a13cf9"
      },
      "source": [
        "%%html\n",
        "\n",
        "<svg width=\"100\" height=\"100\" >\n",
        "  <circle cx=\"50\" cy=\"50\" r=\"40\" stroke=\"green\" stroke-width=\"4\" fill=\"yellow\" />\n",
        "</svg>"
      ],
      "execution_count": 28,
      "outputs": [
        {
          "output_type": "display_data",
          "data": {
            "text/html": [
              "\n",
              "<svg width=\"100\" height=\"100\" >\n",
              "  <circle cx=\"50\" cy=\"50\" r=\"40\" stroke=\"green\" stroke-width=\"4\" fill=\"yellow\" />\n",
              "</svg>"
            ],
            "text/plain": [
              "<IPython.core.display.HTML object>"
            ]
          },
          "metadata": {
            "tags": []
          }
        }
      ]
    },
    {
      "cell_type": "markdown",
      "metadata": {
        "id": "5ERuAUlOM34d",
        "colab_type": "text"
      },
      "source": [
        "svgには次のようなシェイプがある。\n",
        "\n",
        "* Rectangle (rect) 四角\n",
        "* Circle (circle) 円\n",
        "* Ellipse (ellipse) 楕円\n",
        "* Line (line) 線\n",
        "* Polyline (polyline) 折れ線\n",
        "* Polygon (polygon) 多角形\n",
        "* Path (path) パス"
      ]
    },
    {
      "cell_type": "markdown",
      "metadata": {
        "id": "Loh7TB2qNmRQ",
        "colab_type": "text"
      },
      "source": [
        "## 四角形"
      ]
    },
    {
      "cell_type": "code",
      "metadata": {
        "id": "hLmP7416NpfQ",
        "colab_type": "code",
        "colab": {
          "base_uri": "https://localhost:8080/",
          "height": 130
        },
        "outputId": "55558cc0-4bda-48af-a874-f0b9444158ae"
      },
      "source": [
        "%%html\n",
        "\n",
        "<svg width=\"400\" height=\"110\">\n",
        "  <rect width=\"300\" height=\"100\" style=\"fill:rgb(0,0,255);stroke-width:20;stroke:rgb(0,0,0)\" />\n",
        "</svg>"
      ],
      "execution_count": 31,
      "outputs": [
        {
          "output_type": "display_data",
          "data": {
            "text/html": [
              "\n",
              "<svg width=\"400\" height=\"110\">\n",
              "  <rect width=\"300\" height=\"100\" style=\"fill:rgb(0,0,255);stroke-width:20;stroke:rgb(0,0,0)\" />\n",
              "</svg>"
            ],
            "text/plain": [
              "<IPython.core.display.HTML object>"
            ]
          },
          "metadata": {
            "tags": []
          }
        }
      ]
    },
    {
      "cell_type": "markdown",
      "metadata": {
        "id": "ApuPw2cSPN5-",
        "colab_type": "text"
      },
      "source": [
        "stroke-widthの幅を広くすると、上と左が半分欠けるのがよくわかる。避けたいが、まああわてない。\n",
        "\n",
        "属性はバラバラにも書ける。名称も同じ。"
      ]
    },
    {
      "cell_type": "code",
      "metadata": {
        "id": "B9g4gP88PhAS",
        "colab_type": "code",
        "colab": {
          "base_uri": "https://localhost:8080/",
          "height": 130
        },
        "outputId": "800866d0-eaba-4459-8368-a1ae4443bf93"
      },
      "source": [
        "%%html\n",
        "\n",
        "<svg width=\"400\" height=\"110\">\n",
        "  <rect width=\"300\" height=\"100\" fill=\"yellow\" stroke-width=\"20\" stroke=\"blue\"/>\n",
        "</svg>"
      ],
      "execution_count": 36,
      "outputs": [
        {
          "output_type": "display_data",
          "data": {
            "text/html": [
              "\n",
              "<svg width=\"400\" height=\"110\">\n",
              "  <rect width=\"300\" height=\"100\" fill=\"yellow\" stroke-width=\"20\" stroke=\"blue\"/>\n",
              "</svg>"
            ],
            "text/plain": [
              "<IPython.core.display.HTML object>"
            ]
          },
          "metadata": {
            "tags": []
          }
        }
      ]
    },
    {
      "cell_type": "code",
      "metadata": {
        "id": "5bfSGo4wQHv-",
        "colab_type": "code",
        "colab": {
          "base_uri": "https://localhost:8080/",
          "height": 199
        },
        "outputId": "2995a7ed-cb50-4df3-d1b6-ed9686da54ac"
      },
      "source": [
        "%%html\n",
        "\n",
        "<svg width=\"400\" height=\"180\">\n",
        "  <rect x=\"50\" y=\"20\" width=\"150\" height=\"150\"\n",
        "  style=\"fill:blue;stroke:pink;stroke-width:20;fill-opacity:0.1;stroke-opacity:0.9\" />\n",
        "</svg>"
      ],
      "execution_count": 38,
      "outputs": [
        {
          "output_type": "display_data",
          "data": {
            "text/html": [
              "\n",
              "<svg width=\"400\" height=\"180\">\n",
              "  <rect x=\"50\" y=\"20\" width=\"150\" height=\"150\"\n",
              "  style=\"fill:blue;stroke:pink;stroke-width:20;fill-opacity:0.1;stroke-opacity:0.9\" />\n",
              "</svg>"
            ],
            "text/plain": [
              "<IPython.core.display.HTML object>"
            ]
          },
          "metadata": {
            "tags": []
          }
        }
      ]
    },
    {
      "cell_type": "code",
      "metadata": {
        "colab_type": "code",
        "id": "jHTqq-iAQqd8",
        "colab": {
          "base_uri": "https://localhost:8080/",
          "height": 199
        },
        "outputId": "a2adf126-a147-4055-d96a-74c6f6e2a6c9"
      },
      "source": [
        "%%html\n",
        "<div style=\"text-align:center\">\n",
        "<svg width=\"400\" height=\"180\">\n",
        "  <rect x=\"50\" y=\"20\" width=\"150\" height=\"150\"\n",
        "  style=\"fill:blue;stroke:pink;stroke-width:20;fill-opacity:0.1;stroke-opacity:0.9\" />\n",
        "</svg>\n",
        "</div>"
      ],
      "execution_count": 43,
      "outputs": [
        {
          "output_type": "display_data",
          "data": {
            "text/html": [
              "<div style=\"text-align:center\">\n",
              "<svg width=\"400\" height=\"180\">\n",
              "  <rect x=\"50\" y=\"20\" width=\"150\" height=\"150\"\n",
              "  style=\"fill:blue;stroke:pink;stroke-width:20;fill-opacity:0.1;stroke-opacity:0.9\" />\n",
              "</svg>\n",
              "</div>"
            ],
            "text/plain": [
              "<IPython.core.display.HTML object>"
            ]
          },
          "metadata": {
            "tags": []
          }
        }
      ]
    },
    {
      "cell_type": "code",
      "metadata": {
        "id": "_z0CdrzjRPg5",
        "colab_type": "code",
        "colab": {
          "base_uri": "https://localhost:8080/",
          "height": 199
        },
        "outputId": "f6e7ac13-e272-40b8-f2bf-2e1c441f7135"
      },
      "source": [
        "%%html\n",
        "<svg width=\"400\" height=\"180\">\n",
        "  <rect x=\"50\" y=\"20\" width=\"150\" height=\"150\"\n",
        "  style=\"fill:blue;stroke:pink;stroke-width:5;opacity:0.5\" />\n",
        "</svg>"
      ],
      "execution_count": 44,
      "outputs": [
        {
          "output_type": "display_data",
          "data": {
            "text/html": [
              "<svg width=\"400\" height=\"180\">\n",
              "  <rect x=\"50\" y=\"20\" width=\"150\" height=\"150\"\n",
              "  style=\"fill:blue;stroke:pink;stroke-width:5;opacity:0.5\" />\n",
              "</svg>"
            ],
            "text/plain": [
              "<IPython.core.display.HTML object>"
            ]
          },
          "metadata": {
            "tags": []
          }
        }
      ]
    }
  ]
}