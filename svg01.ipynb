{
  "nbformat": 4,
  "nbformat_minor": 0,
  "metadata": {
    "colab": {
      "name": "svg01.ipynb",
      "provenance": [],
      "toc_visible": true,
      "authorship_tag": "ABX9TyOFV21HyKNZB1y5AJXTLo3z",
      "include_colab_link": true
    },
    "kernelspec": {
      "name": "python3",
      "display_name": "Python 3"
    }
  },
  "cells": [
    {
      "cell_type": "markdown",
      "metadata": {
        "id": "view-in-github",
        "colab_type": "text"
      },
      "source": [
        "<a href=\"https://colab.research.google.com/github/kalz2q/mycolabnotebooks/blob/master/svg01.ipynb\" target=\"_parent\"><img src=\"https://colab.research.google.com/assets/colab-badge.svg\" alt=\"Open In Colab\"/></a>"
      ]
    },
    {
      "cell_type": "markdown",
      "metadata": {
        "id": "vv-_uiFAzsi0"
      },
      "source": [
        "# メモ\n",
        "1. svg の勉強をする。\n",
        "1. Colab で読まれることを想定している。\n",
        "1. マジックコマンドは %%html を使う。\n",
        "\n",
        "参考サイト、とか。\n",
        "1. https://boxy-svg.com/tutorials\n",
        "1. w3scools.com svg tutorial https://www.w3schools.com/graphics/svg_intro.asp\n",
        "1. w3schools SVG examples https://www.w3schools.com/graphics/svg_examples.asp\n",
        "1. learn inkscape https://inkscape.org/learn/\n",
        "1. mdn web docs svg tutorial https://developer.mozilla.org/ja/docs/Web/SVG/Tutorial"
      ]
    },
    {
      "cell_type": "markdown",
      "metadata": {
        "id": "mqt35_I3aUr6"
      },
      "source": [
        "# 円 circle"
      ]
    },
    {
      "cell_type": "markdown",
      "metadata": {
        "id": "UcNJo-qbYx03"
      },
      "source": [
        "円は中心と半径を指定すると描ける。"
      ]
    },
    {
      "cell_type": "code",
      "metadata": {
        "colab": {
          "base_uri": "https://localhost:8080/",
          "height": 220
        },
        "id": "0AIO0gf-CDfU",
        "outputId": "36408ac6-ae7a-42fa-d6b7-8a15ba4724ed"
      },
      "source": [
        "%%html\n",
        "<svg width=\"200\" height=\"200\" >\n",
        "  <circle cx=\"100\" cy=\"100\" r=\"80\" stroke=\"green\" stroke-width=\"8\" fill=\"yellow\" />\n",
        "</svg>"
      ],
      "execution_count": null,
      "outputs": [
        {
          "output_type": "display_data",
          "data": {
            "text/html": [
              "<svg width=\"200\" height=\"200\" >\n",
              "  <circle cx=\"100\" cy=\"100\" r=\"80\" stroke=\"green\" stroke-width=\"8\" fill=\"yellow\" />\n",
              "</svg>"
            ],
            "text/plain": [
              "<IPython.core.display.HTML object>"
            ]
          },
          "metadata": {
            "tags": []
          }
        }
      ]
    },
    {
      "cell_type": "code",
      "metadata": {
        "colab": {
          "base_uri": "https://localhost:8080/",
          "height": 119
        },
        "id": "_sXL2TfRAtwN",
        "outputId": "022ab1a9-4460-4e89-a7f7-cdab54a8bf08"
      },
      "source": [
        "# 実験 circle だけで描く顔\n",
        "%%html\n",
        "<svg width=\"100\" height=\"100\" >\n",
        "  <circle cx=\"50\" cy=\"50\" r=\"40\" stroke=\"grey\"\" stroke-width=\"4\" fill=\"lightsalmon\" />\n",
        "  <circle cx=\"30\" cy=\"45\" r=\"10\" stroke=\"white\" stroke-width=\"4\" fill=\"black\" />\n",
        "  <circle cx=\"70\" cy=\"45\" r=\"10\" stroke=\"white\" stroke-width=\"4\" fill=\"black\" />\n",
        "  <circle cx=\"50\" cy=\"70\" r=\"10\" stroke=\"white\" stroke-width=\"1\" fill=\"red\" />\n",
        "</svg>"
      ],
      "execution_count": null,
      "outputs": [
        {
          "output_type": "display_data",
          "data": {
            "text/html": [
              "\n",
              "<svg width=\"100\" height=\"100\" >\n",
              "  <circle cx=\"50\" cy=\"50\" r=\"40\" stroke=\"grey\"\" stroke-width=\"4\" fill=\"lightsalmon\" />\n",
              "  <circle cx=\"30\" cy=\"45\" r=\"10\" stroke=\"white\" stroke-width=\"4\" fill=\"black\" />\n",
              "  <circle cx=\"70\" cy=\"45\" r=\"10\" stroke=\"white\" stroke-width=\"4\" fill=\"black\" />\n",
              "  <circle cx=\"50\" cy=\"70\" r=\"10\" stroke=\"white\" stroke-width=\"1\" fill=\"red\" />\n",
              "</svg>"
            ],
            "text/plain": [
              "<IPython.core.display.HTML object>"
            ]
          },
          "metadata": {
            "tags": []
          }
        }
      ]
    },
    {
      "cell_type": "code",
      "metadata": {
        "id": "Z7fRb7GBDGNx",
        "colab": {
          "base_uri": "https://localhost:8080/",
          "height": 119
        },
        "outputId": "ef073841-5b44-4cda-f6cc-f2b010528a55"
      },
      "source": [
        "# 実験 改行なしだと一見コンパクトに書ける\n",
        "%%html\n",
        "<svg width=\"100\" height=\"100\" ><circle cx=\"50\" cy=\"50\" r=\"40\" stroke=\"blue\" stroke-width=\"4\" fill=\"lightsalmon\" /><circle cx=\"30\" cy=\"45\" r=\"10\" stroke=\"white\" stroke-width=\"4\" fill=\"black\" /><circle cx=\"70\" cy=\"45\" r=\"10\" stroke=\"white\" stroke-width=\"4\" fill=\"black\" /><circle cx=\"50\" cy=\"70\" r=\"10\" stroke=\"white\" stroke-width=\"1\" fill=\"red\" /></svg>"
      ],
      "execution_count": null,
      "outputs": [
        {
          "output_type": "display_data",
          "data": {
            "text/html": [
              "<svg width=\"100\" height=\"100\" ><circle cx=\"50\" cy=\"50\" r=\"40\" stroke=\"blue\" stroke-width=\"4\" fill=\"lightsalmon\" /><circle cx=\"30\" cy=\"45\" r=\"10\" stroke=\"white\" stroke-width=\"4\" fill=\"black\" /><circle cx=\"70\" cy=\"45\" r=\"10\" stroke=\"white\" stroke-width=\"4\" fill=\"black\" /><circle cx=\"50\" cy=\"70\" r=\"10\" stroke=\"white\" stroke-width=\"1\" fill=\"red\" /></svg>"
            ],
            "text/plain": [
              "<IPython.core.display.HTML object>"
            ]
          },
          "metadata": {
            "tags": []
          }
        }
      ]
    },
    {
      "cell_type": "markdown",
      "metadata": {
        "id": "5ERuAUlOM34d"
      },
      "source": [
        "svgには次のようなシェイプがある。\n",
        "\n",
        "* Rectangle (rect) 四角\n",
        "* Circle (circle) 円\n",
        "* Ellipse (ellipse) 楕円\n",
        "* Line (line) 線\n",
        "* Polyline (polyline) 折れ線\n",
        "* Polygon (polygon) 多角形\n",
        "* Path (path) パス"
      ]
    },
    {
      "cell_type": "markdown",
      "metadata": {
        "id": "Loh7TB2qNmRQ"
      },
      "source": [
        "# 四角形 rect"
      ]
    },
    {
      "cell_type": "code",
      "metadata": {
        "id": "hLmP7416NpfQ",
        "colab": {
          "base_uri": "https://localhost:8080/",
          "height": 237
        },
        "outputId": "291424a8-1993-445c-d279-97dea616259c"
      },
      "source": [
        "# どのように場所が取れるか実験\n",
        "%%html\n",
        "<style>\n",
        "    html, body {\n",
        "        background-color: yellow;\n",
        "    }\n",
        "</style>\n",
        "<br>\n",
        "<svg width=\"500\" height=\"200\" style=\"background-color:hotpink;\">\n",
        "  <rect width=\"300\" height=\"100\" style=\"fill:rgb(0,0,255);stroke-width:20;stroke:rgb(0,0,0)\" />\n",
        "</svg>"
      ],
      "execution_count": null,
      "outputs": [
        {
          "output_type": "display_data",
          "data": {
            "text/html": [
              "<style>\n",
              "    html, body {\n",
              "        background-color: yellow;\n",
              "    }\n",
              "</style>\n",
              "<br>\n",
              "<svg width=\"500\" height=\"200\" style=\"background-color:hotpink;\">\n",
              "  <rect width=\"300\" height=\"100\" style=\"fill:rgb(0,0,255);stroke-width:20;stroke:rgb(0,0,0)\" />\n",
              "</svg>"
            ],
            "text/plain": [
              "<IPython.core.display.HTML object>"
            ]
          },
          "metadata": {
            "tags": []
          }
        }
      ]
    },
    {
      "cell_type": "markdown",
      "metadata": {
        "id": "ApuPw2cSPN5-"
      },
      "source": [
        "stroke-widthの幅を広くすると、上と左が半分欠ける。\n",
        "\n",
        "属性はバラバラにも書ける。名称も同じ。"
      ]
    },
    {
      "cell_type": "code",
      "metadata": {
        "id": "B9g4gP88PhAS",
        "colab": {
          "base_uri": "https://localhost:8080/",
          "height": 140
        },
        "outputId": "44ba1e73-c605-43e5-97de-bfc77cb33a81"
      },
      "source": [
        "%%html\n",
        "\n",
        "<svg width=\"320\" height=\"120\">\n",
        "  <rect x=\"10\" y=\"10\" width=\"300\" height=\"100\" fill=\"yellow\" stroke-width=\"20\" stroke=\"blue\">\n",
        "</svg>"
      ],
      "execution_count": null,
      "outputs": [
        {
          "output_type": "display_data",
          "data": {
            "text/html": [
              "\n",
              "<svg width=\"320\" height=\"120\">\n",
              "  <rect x=\"10\" y=\"10\" width=\"300\" height=\"100\" fill=\"yellow\" stroke-width=\"20\" stroke=\"blue\">\n",
              "</svg>"
            ],
            "text/plain": [
              "<IPython.core.display.HTML object>"
            ]
          },
          "metadata": {
            "tags": []
          }
        }
      ]
    },
    {
      "cell_type": "markdown",
      "metadata": {
        "id": "w2AMrY1WOhB0"
      },
      "source": [
        "svg の stroke の太さは画像のサイズ内外に半分ずつ幅を取っていることがわかる。  \n",
        "stroke-width が 20 でも x, y を 10, 10 から描き始めて欠けない"
      ]
    },
    {
      "cell_type": "code",
      "metadata": {
        "id": "TUaIOBGkRBSk",
        "colab": {
          "base_uri": "https://localhost:8080/",
          "height": 170
        },
        "outputId": "cc0b8b66-edf6-47c0-f11a-dadafcfb6104"
      },
      "source": [
        "# colab デフォルトの height を調べよう => svg height=\"150\", shape => 150 - stroke-width\n",
        "%%html\n",
        "<svg>\n",
        "  <rect width=\"250\" height=\"140\"\n",
        "  style=\"fill:green;stroke:red;stroke-width:20;\" >\n",
        "</svg>\n",
        "<svg>\n",
        "  <rect width=\"250\" height=\"150\"\n",
        "  style=\"fill:green;stroke:red;\" >\n",
        "</svg>\n",
        "<svg width=\"250\" height=\"150\">\n",
        "  <rect width=\"230\" height=\"130\" x=\"10\" y = \"10\"\n",
        "  style=\"fill:green;stroke:red;stroke-width:20;\" >\n",
        "</svg>\n"
      ],
      "execution_count": null,
      "outputs": [
        {
          "output_type": "display_data",
          "data": {
            "text/html": [
              "<svg>\n",
              "  <rect width=\"250\" height=\"140\"\n",
              "  style=\"fill:green;stroke:red;stroke-width:20;\" >\n",
              "</svg>\n",
              "<svg>\n",
              "  <rect width=\"250\" height=\"150\"\n",
              "  style=\"fill:green;stroke:red;\" >\n",
              "</svg>\n",
              "<svg width=\"250\" height=\"150\">\n",
              "  <rect width=\"230\" height=\"130\" x=\"10\" y = \"10\"\n",
              "  style=\"fill:green;stroke:red;stroke-width:20;\" >\n",
              "</svg>"
            ],
            "text/plain": [
              "<IPython.core.display.HTML object>"
            ]
          },
          "metadata": {
            "tags": []
          }
        }
      ]
    },
    {
      "cell_type": "code",
      "metadata": {
        "id": "5bfSGo4wQHv-",
        "colab": {
          "base_uri": "https://localhost:8080/",
          "height": 170
        },
        "outputId": "c940dedc-7495-43c2-e5f8-b717fa91dcf3"
      },
      "source": [
        "# 不透明度 opacity\n",
        "%%html\n",
        "<!-- <svg width=\"400\" height=\"180\"> -->\n",
        "<svg>\n",
        "  <rect x=\"10\" y=\"10\" width=\"130\" height=\"130\"\n",
        "  style=\"fill:mediumblue;stroke:pink;stroke-width:20;fill-opacity:0.9;stroke-opacity:0.9\" />\n",
        "</svg>"
      ],
      "execution_count": null,
      "outputs": [
        {
          "output_type": "display_data",
          "data": {
            "text/html": [
              "<!-- <svg width=\"400\" height=\"180\"> -->\n",
              "<svg>\n",
              "  <rect x=\"10\" y=\"10\" width=\"130\" height=\"130\"\n",
              "  style=\"fill:mediumblue;stroke:pink;stroke-width:20;fill-opacity:0.9;stroke-opacity:0.9\" />\n",
              "</svg>"
            ],
            "text/plain": [
              "<IPython.core.display.HTML object>"
            ]
          },
          "metadata": {
            "tags": []
          }
        }
      ]
    },
    {
      "cell_type": "code",
      "metadata": {
        "id": "jHTqq-iAQqd8",
        "colab": {
          "base_uri": "https://localhost:8080/",
          "height": 200
        },
        "outputId": "d21c546a-f74d-407a-acd2-104bb05c3eae"
      },
      "source": [
        "# センタリング\n",
        "%%html\n",
        "<div style=\"text-align:center\">\n",
        "    <svg width=\"400\" height=\"180\">\n",
        "        <rect x=\"50\" y=\"20\" width=\"150\" height=\"150\"\n",
        "            style=\"fill:blue;stroke:pink;stroke-width:20;fill-opacity:0.1;stroke-opacity:0.9\" />\n",
        "    </svg>\n",
        "</div>"
      ],
      "execution_count": null,
      "outputs": [
        {
          "output_type": "display_data",
          "data": {
            "text/html": [
              "<div style=\"text-align:center\">\n",
              "    <svg width=\"400\" height=\"180\">\n",
              "        <rect x=\"50\" y=\"20\" width=\"150\" height=\"150\"\n",
              "            style=\"fill:blue;stroke:pink;stroke-width:20;fill-opacity:0.1;stroke-opacity:0.9\" />\n",
              "    </svg>\n",
              "</div>"
            ],
            "text/plain": [
              "<IPython.core.display.HTML object>"
            ]
          },
          "metadata": {
            "tags": []
          }
        }
      ]
    },
    {
      "cell_type": "code",
      "metadata": {
        "id": "4PcZpH5IZkLB",
        "colab": {
          "base_uri": "https://localhost:8080/",
          "height": 200
        },
        "outputId": "69238889-eaec-41d1-ab8f-5d9ec4aafca5"
      },
      "source": [
        "# 角の丸め\n",
        "%%html\n",
        "\n",
        "<svg width=\"400\" height=\"180\">\n",
        "  <rect x=\"50\" y=\"20\" rx=\"20\" ry=\"20\" width=\"150\" height=\"150\"\n",
        "  style=\"fill:red;stroke:black;stroke-width:5;opacity:0.5\" />\n",
        "</svg>"
      ],
      "execution_count": null,
      "outputs": [
        {
          "output_type": "display_data",
          "data": {
            "text/html": [
              "\n",
              "<svg width=\"400\" height=\"180\">\n",
              "  <rect x=\"50\" y=\"20\" rx=\"20\" ry=\"20\" width=\"150\" height=\"150\"\n",
              "  style=\"fill:red;stroke:black;stroke-width:5;opacity:0.5\" />\n",
              "</svg>"
            ],
            "text/plain": [
              "<IPython.core.display.HTML object>"
            ]
          },
          "metadata": {
            "tags": []
          }
        }
      ]
    },
    {
      "cell_type": "code",
      "metadata": {
        "id": "_m8qmfoCZ65Z",
        "colab": {
          "base_uri": "https://localhost:8080/",
          "height": 199
        },
        "outputId": "67eeef69-162c-48bd-802e-2d7f927acb2b"
      },
      "source": [
        "%%html\n",
        "\n",
        "<svg width=\"400\" height=\"180\">\n",
        "  <rect x=\"50\" y=\"20\" rx=\"50%\" ry=\"50%\" width=\"150\" height=\"150\"\n",
        "  style=\"fill:red;stroke:black;stroke-width:5;opacity:0.5\" />\n",
        "</svg>"
      ],
      "execution_count": null,
      "outputs": [
        {
          "output_type": "display_data",
          "data": {
            "text/html": [
              "\n",
              "<svg width=\"400\" height=\"180\">\n",
              "  <rect x=\"50\" y=\"20\" rx=\"50%\" ry=\"50%\" width=\"150\" height=\"150\"\n",
              "  style=\"fill:red;stroke:black;stroke-width:5;opacity:0.5\" />\n",
              "</svg>"
            ],
            "text/plain": [
              "<IPython.core.display.HTML object>"
            ]
          },
          "metadata": {
            "tags": []
          }
        }
      ]
    },
    {
      "cell_type": "code",
      "metadata": {
        "id": "DjdlGuGTaFqx",
        "colab": {
          "base_uri": "https://localhost:8080/",
          "height": 119
        },
        "outputId": "79854921-f059-4e72-f757-c8d3c228e3e0"
      },
      "source": [
        "%%html\n",
        "<svg height=\"100\" width=\"100\">\n",
        "  <circle cx=\"50\" cy=\"50\" r=\"40\" stroke=\"black\" stroke-width=\"3\" fill=\"red\" />\n",
        "</svg>"
      ],
      "execution_count": null,
      "outputs": [
        {
          "output_type": "display_data",
          "data": {
            "text/html": [
              "<svg height=\"100\" width=\"100\">\n",
              "  <circle cx=\"50\" cy=\"50\" r=\"40\" stroke=\"black\" stroke-width=\"3\" fill=\"red\" />\n",
              "</svg>"
            ],
            "text/plain": [
              "<IPython.core.display.HTML object>"
            ]
          },
          "metadata": {
            "tags": []
          }
        }
      ]
    },
    {
      "cell_type": "markdown",
      "metadata": {
        "id": "pyZbAP7LaRTp"
      },
      "source": [
        "# 楕円 ellipse"
      ]
    },
    {
      "cell_type": "code",
      "metadata": {
        "id": "l5JumpE5aU8K",
        "colab": {
          "base_uri": "https://localhost:8080/",
          "height": 159
        },
        "outputId": "f7b559f5-9651-4dfd-e168-88fb67d47a36"
      },
      "source": [
        "%%html\n",
        "\n",
        "<svg height=\"140\" width=\"500\">\n",
        "  <ellipse cx=\"200\" cy=\"80\" rx=\"100\" ry=\"50\"\n",
        "  style=\"fill:yellow;stroke:purple;stroke-width:2\" />\n",
        "</svg>"
      ],
      "execution_count": null,
      "outputs": [
        {
          "output_type": "display_data",
          "data": {
            "text/html": [
              "\n",
              "<svg height=\"140\" width=\"500\">\n",
              "  <ellipse cx=\"200\" cy=\"80\" rx=\"100\" ry=\"50\"\n",
              "  style=\"fill:yellow;stroke:purple;stroke-width:2\" />\n",
              "</svg>"
            ],
            "text/plain": [
              "<IPython.core.display.HTML object>"
            ]
          },
          "metadata": {
            "tags": []
          }
        }
      ]
    },
    {
      "cell_type": "code",
      "metadata": {
        "id": "qOK55RLtacSh",
        "colab": {
          "base_uri": "https://localhost:8080/",
          "height": 170
        },
        "outputId": "3401a3c3-b95b-4bf9-d2cf-3fc89317358c"
      },
      "source": [
        "%%html\n",
        "\n",
        "<svg height=\"150\" width=\"500\">\n",
        "  <ellipse cx=\"240\" cy=\"100\" rx=\"220\" ry=\"30\" style=\"fill:purple\" />\n",
        "  <ellipse cx=\"220\" cy=\"70\" rx=\"190\" ry=\"20\" style=\"fill:lime\" />\n",
        "  <ellipse cx=\"210\" cy=\"45\" rx=\"170\" ry=\"15\" style=\"fill:yellow\" />\n",
        "</svg>"
      ],
      "execution_count": null,
      "outputs": [
        {
          "output_type": "display_data",
          "data": {
            "text/html": [
              "\n",
              "<svg height=\"150\" width=\"500\">\n",
              "  <ellipse cx=\"240\" cy=\"100\" rx=\"220\" ry=\"30\" style=\"fill:purple\" />\n",
              "  <ellipse cx=\"220\" cy=\"70\" rx=\"190\" ry=\"20\" style=\"fill:lime\" />\n",
              "  <ellipse cx=\"210\" cy=\"45\" rx=\"170\" ry=\"15\" style=\"fill:yellow\" />\n",
              "</svg>"
            ],
            "text/plain": [
              "<IPython.core.display.HTML object>"
            ]
          },
          "metadata": {
            "tags": []
          }
        }
      ]
    },
    {
      "cell_type": "markdown",
      "metadata": {
        "id": "2zsO2pukdN5J"
      },
      "source": [
        "後に描いた図形が上にくる。"
      ]
    },
    {
      "cell_type": "code",
      "metadata": {
        "id": "HW2m0s22aiYa",
        "colab": {
          "base_uri": "https://localhost:8080/",
          "height": 119
        },
        "outputId": "c0b52b9f-77dc-4a6f-a5c9-20f726ea029b"
      },
      "source": [
        "%%html\n",
        "\n",
        "<svg height=\"100\" width=\"500\">\n",
        "  <ellipse cx=\"240\" cy=\"50\" rx=\"220\" ry=\"30\" style=\"fill:yellow\" />\n",
        "  <ellipse cx=\"220\" cy=\"50\" rx=\"190\" ry=\"20\" style=\"fill:white\" />\n",
        "</svg>"
      ],
      "execution_count": null,
      "outputs": [
        {
          "output_type": "display_data",
          "data": {
            "text/html": [
              "\n",
              "<svg height=\"100\" width=\"500\">\n",
              "  <ellipse cx=\"240\" cy=\"50\" rx=\"220\" ry=\"30\" style=\"fill:yellow\" />\n",
              "  <ellipse cx=\"220\" cy=\"50\" rx=\"190\" ry=\"20\" style=\"fill:white\" />\n",
              "</svg>"
            ],
            "text/plain": [
              "<IPython.core.display.HTML object>"
            ]
          },
          "metadata": {
            "tags": []
          }
        }
      ]
    },
    {
      "cell_type": "markdown",
      "metadata": {
        "id": "AirB6ZR5aq2z"
      },
      "source": [
        "# 線 line"
      ]
    },
    {
      "cell_type": "code",
      "metadata": {
        "id": "aM8kMPZuatTV",
        "colab": {
          "base_uri": "https://localhost:8080/",
          "height": 230
        },
        "outputId": "9b59cd9c-d564-40c9-ae58-850d937046bd"
      },
      "source": [
        "%%html\n",
        "\n",
        "<svg height=\"210\" width=\"500\">\n",
        "  <line x1=\"0\" y1=\"0\" x2=\"200\" y2=\"200\" style=\"stroke:rgb(255,0,0);stroke-width:2\" />\n",
        "</svg>"
      ],
      "execution_count": null,
      "outputs": [
        {
          "output_type": "display_data",
          "data": {
            "text/html": [
              "\n",
              "<svg height=\"210\" width=\"500\">\n",
              "  <line x1=\"0\" y1=\"0\" x2=\"200\" y2=\"200\" style=\"stroke:rgb(255,0,0);stroke-width:2\" />\n",
              "</svg>"
            ],
            "text/plain": [
              "<IPython.core.display.HTML object>"
            ]
          },
          "metadata": {
            "tags": []
          }
        }
      ]
    },
    {
      "cell_type": "markdown",
      "metadata": {
        "id": "8TlZhKvua2xt"
      },
      "source": [
        "# 多角形 polygon"
      ]
    },
    {
      "cell_type": "code",
      "metadata": {
        "id": "bA5f9Raza7r7",
        "colab": {
          "base_uri": "https://localhost:8080/",
          "height": 230
        },
        "outputId": "80cca4b3-73c5-4207-e81c-d1d90f7b6828"
      },
      "source": [
        "%%html\n",
        "\n",
        "<svg height=\"210\" width=\"500\">\n",
        "  <polygon points=\"200,10 250,190 160,210\" style=\"fill:lime;stroke:purple;stroke-width:1\" />\n",
        "</svg>"
      ],
      "execution_count": null,
      "outputs": [
        {
          "output_type": "display_data",
          "data": {
            "text/html": [
              "\n",
              "<svg height=\"210\" width=\"500\">\n",
              "  <polygon points=\"200,10 250,190 160,210\" style=\"fill:lime;stroke:purple;stroke-width:1\" />\n",
              "</svg>"
            ],
            "text/plain": [
              "<IPython.core.display.HTML object>"
            ]
          },
          "metadata": {
            "tags": []
          }
        }
      ]
    },
    {
      "cell_type": "code",
      "metadata": {
        "id": "rsNbqWIeqtGQ",
        "colab": {
          "base_uri": "https://localhost:8080/",
          "height": 270
        },
        "outputId": "a8fedbb8-3509-41cf-e08c-3615c54b9025"
      },
      "source": [
        "%%html\n",
        "<svg height=\"250\" width=\"500\">\n",
        "  <polygon points=\"220,10 300,210 170,250 123,234\" style=\"fill:lime;stroke:purple;stroke-width:1\" />\n",
        "</svg>"
      ],
      "execution_count": null,
      "outputs": [
        {
          "output_type": "display_data",
          "data": {
            "text/html": [
              "<svg height=\"250\" width=\"500\">\n",
              "  <polygon points=\"220,10 300,210 170,250 123,234\" style=\"fill:lime;stroke:purple;stroke-width:1\" />\n",
              "</svg>"
            ],
            "text/plain": [
              "<IPython.core.display.HTML object>"
            ]
          },
          "metadata": {
            "tags": []
          }
        }
      ]
    },
    {
      "cell_type": "code",
      "metadata": {
        "id": "QOI45UNeqx2x",
        "colab": {
          "base_uri": "https://localhost:8080/",
          "height": 230
        },
        "outputId": "6b303b9c-37e0-4754-ec49-7ca320370b3e"
      },
      "source": [
        "%%html\n",
        "<svg height=\"210\" width=\"500\">\n",
        "  <polygon points=\"100,10 40,198 190,78 10,78 160,198\"\n",
        "  style=\"fill:lime;stroke:purple;stroke-width:5;fill-rule:nonzero;\" />\n",
        "</svg>"
      ],
      "execution_count": null,
      "outputs": [
        {
          "output_type": "display_data",
          "data": {
            "text/html": [
              "<svg height=\"210\" width=\"500\">\n",
              "  <polygon points=\"100,10 40,198 190,78 10,78 160,198\"\n",
              "  style=\"fill:lime;stroke:purple;stroke-width:5;fill-rule:nonzero;\" />\n",
              "</svg>"
            ],
            "text/plain": [
              "<IPython.core.display.HTML object>"
            ]
          },
          "metadata": {
            "tags": []
          }
        }
      ]
    },
    {
      "cell_type": "code",
      "metadata": {
        "id": "GeUTb2zFq28R",
        "colab": {
          "base_uri": "https://localhost:8080/",
          "height": 230
        },
        "outputId": "2f2606e9-f849-43d6-e5f3-7b7676b079f6"
      },
      "source": [
        "%%html\n",
        "<svg height=\"210\" width=\"500\">\n",
        "  <polygon points=\"100,10 40,198 190,78 10,78 160,198\"\n",
        "  style=\"fill:lime;stroke:purple;stroke-width:5;fill-rule:evenodd;\" />\n",
        "</svg>"
      ],
      "execution_count": null,
      "outputs": [
        {
          "output_type": "display_data",
          "data": {
            "text/html": [
              "<svg height=\"210\" width=\"500\">\n",
              "  <polygon points=\"100,10 40,198 190,78 10,78 160,198\"\n",
              "  style=\"fill:lime;stroke:purple;stroke-width:5;fill-rule:evenodd;\" />\n",
              "</svg>"
            ],
            "text/plain": [
              "<IPython.core.display.HTML object>"
            ]
          },
          "metadata": {
            "tags": []
          }
        }
      ]
    },
    {
      "cell_type": "markdown",
      "metadata": {
        "id": "ddCruB-iq93R"
      },
      "source": [
        "# 折れ線 polyline"
      ]
    },
    {
      "cell_type": "code",
      "metadata": {
        "id": "qWFEywB4rBhC",
        "colab": {
          "base_uri": "https://localhost:8080/",
          "height": 219
        },
        "outputId": "49ed089c-3fa9-4883-b95a-c2518630388a"
      },
      "source": [
        "%%html\n",
        "\n",
        "<svg height=\"200\" width=\"500\">\n",
        "  <polyline points=\"20,20 40,25 60,40 80,120 120,140 200,180\"\n",
        "  style=\"fill:none;stroke:white;stroke-width:3\" />\n",
        "</svg>"
      ],
      "execution_count": null,
      "outputs": [
        {
          "output_type": "display_data",
          "data": {
            "text/html": [
              "\n",
              "<svg height=\"200\" width=\"500\">\n",
              "  <polyline points=\"20,20 40,25 60,40 80,120 120,140 200,180\"\n",
              "  style=\"fill:none;stroke:white;stroke-width:3\" />\n",
              "</svg>"
            ],
            "text/plain": [
              "<IPython.core.display.HTML object>"
            ]
          },
          "metadata": {
            "tags": []
          }
        }
      ]
    },
    {
      "cell_type": "code",
      "metadata": {
        "id": "0VLlnZ6GrN-b",
        "colab": {
          "base_uri": "https://localhost:8080/",
          "height": 199
        },
        "outputId": "751d7595-6abe-4256-c76c-43b12d969367"
      },
      "source": [
        "%%html\n",
        "\n",
        "<svg height=\"180\" width=\"500\">\n",
        "  <polyline points=\"0,40 40,40 40,80 80,80 80,120 120,120 120,160\"\n",
        "  style=\"fill:None;stroke:red;stroke-width:4\" />\n",
        "</svg>"
      ],
      "execution_count": null,
      "outputs": [
        {
          "output_type": "display_data",
          "data": {
            "text/html": [
              "\n",
              "<svg height=\"180\" width=\"500\">\n",
              "  <polyline points=\"0,40 40,40 40,80 80,80 80,120 120,120 120,160\"\n",
              "  style=\"fill:None;stroke:red;stroke-width:4\" />\n",
              "</svg>"
            ],
            "text/plain": [
              "<IPython.core.display.HTML object>"
            ]
          },
          "metadata": {
            "tags": []
          }
        }
      ]
    },
    {
      "cell_type": "markdown",
      "metadata": {
        "id": "-G00PtonrbfC"
      },
      "source": [
        "# パス path\n",
        "\n",
        "パスにはつぎのコマンドがある。\n",
        "\n",
        "* M = moveto \n",
        "* L = lineto \n",
        "* H = horizontal lineto \n",
        "* V = vertical lineto \n",
        "* C = curveto \n",
        "* S = smooth curveto \n",
        "* Q = quadratic Bézier curve \n",
        "* T = smooth quadratic Bézier curveto \n",
        "* A = elliptical Arc \n",
        "* Z = closepath \n",
        "\n",
        "大文字だと絶対座標、小文字だと相対座標。\n"
      ]
    },
    {
      "cell_type": "code",
      "metadata": {
        "id": "qkanqGEQr-d6",
        "colab": {
          "base_uri": "https://localhost:8080/",
          "height": 230
        },
        "outputId": "a7423382-6918-4143-9fcf-c461f3cdc092"
      },
      "source": [
        "%%html\n",
        "\n",
        "<svg height=\"210\" width=\"400\">\n",
        "  <path d=\"M150 0 L75 200 L225 200 Z\" style=\"fill:cyan;\" />\n",
        "</svg>"
      ],
      "execution_count": null,
      "outputs": [
        {
          "output_type": "display_data",
          "data": {
            "text/html": [
              "\n",
              "<svg height=\"210\" width=\"400\">\n",
              "  <path d=\"M150 0 L75 200 L225 200 Z\" style=\"fill:cyan;\" />\n",
              "</svg>"
            ],
            "text/plain": [
              "<IPython.core.display.HTML object>"
            ]
          },
          "metadata": {
            "tags": []
          }
        }
      ]
    },
    {
      "cell_type": "markdown",
      "metadata": {
        "id": "O-c3B0NesXcU"
      },
      "source": [
        "# ベジェ曲線\n",
        "\n",
        "次の例では、2次ベジェ曲線を作成する。。AとCは開始点と終了点、Bは制御点。"
      ]
    },
    {
      "cell_type": "code",
      "metadata": {
        "id": "0goo8C2QsxBL",
        "colab": {
          "base_uri": "https://localhost:8080/",
          "height": 419
        },
        "outputId": "1354a049-386e-4b18-be29-9ca54d55f591"
      },
      "source": [
        "%%html\n",
        "\n",
        "<svg height=\"400\" width=\"450\">\n",
        "  <path id=\"lineAB\" d=\"M 100 350 l 150 -300\" stroke=\"red\"\n",
        "  stroke-width=\"3\" fill=\"none\" />\n",
        "  <path id=\"lineBC\" d=\"M 250 50 l 150 300\" stroke=\"red\"\n",
        "  stroke-width=\"3\" fill=\"none\" />\n",
        "  <path d=\"M 175 200 l 150 0\" stroke=\"green\" stroke-width=\"3\"\n",
        "  fill=\"none\" />\n",
        "  <path d=\"M 100 350 q 150 -300 300 0\" stroke=\"blue\"\n",
        "  stroke-width=\"5\" fill=\"none\" />\n",
        "  <!-- Mark relevant points -->\n",
        "  <g stroke=\"black\" stroke-width=\"3\" fill=\"black\">\n",
        "    <circle id=\"pointA\" cx=\"100\" cy=\"350\" r=\"3\" />\n",
        "    <circle id=\"pointB\" cx=\"250\" cy=\"50\" r=\"3\" />\n",
        "    <circle id=\"pointC\" cx=\"400\" cy=\"350\" r=\"3\" />\n",
        "  </g>\n",
        "  <!-- Label the points -->\n",
        "  <g font-size=\"30\" font-family=\"sans-serif\" fill=\"black\" stroke=\"none\"\n",
        "  text-anchor=\"middle\">\n",
        "    <text x=\"100\" y=\"350\" dx=\"-30\">A</text>\n",
        "    <text x=\"250\" y=\"50\" dy=\"-10\">B</text>\n",
        "    <text x=\"400\" y=\"350\" dx=\"30\">C</text>\n",
        "  </g>\n",
        "</svg>"
      ],
      "execution_count": null,
      "outputs": [
        {
          "output_type": "display_data",
          "data": {
            "text/html": [
              "\n",
              "<svg height=\"400\" width=\"450\">\n",
              "  <path id=\"lineAB\" d=\"M 100 350 l 150 -300\" stroke=\"red\"\n",
              "  stroke-width=\"3\" fill=\"none\" />\n",
              "  <path id=\"lineBC\" d=\"M 250 50 l 150 300\" stroke=\"red\"\n",
              "  stroke-width=\"3\" fill=\"none\" />\n",
              "  <path d=\"M 175 200 l 150 0\" stroke=\"green\" stroke-width=\"3\"\n",
              "  fill=\"none\" />\n",
              "  <path d=\"M 100 350 q 150 -300 300 0\" stroke=\"blue\"\n",
              "  stroke-width=\"5\" fill=\"none\" />\n",
              "  <!-- Mark relevant points -->\n",
              "  <g stroke=\"black\" stroke-width=\"3\" fill=\"black\">\n",
              "    <circle id=\"pointA\" cx=\"100\" cy=\"350\" r=\"3\" />\n",
              "    <circle id=\"pointB\" cx=\"250\" cy=\"50\" r=\"3\" />\n",
              "    <circle id=\"pointC\" cx=\"400\" cy=\"350\" r=\"3\" />\n",
              "  </g>\n",
              "  <!-- Label the points -->\n",
              "  <g font-size=\"30\" font-family=\"sans-serif\" fill=\"black\" stroke=\"none\"\n",
              "  text-anchor=\"middle\">\n",
              "    <text x=\"100\" y=\"350\" dx=\"-30\">A</text>\n",
              "    <text x=\"250\" y=\"50\" dy=\"-10\">B</text>\n",
              "    <text x=\"400\" y=\"350\" dx=\"30\">C</text>\n",
              "  </g>\n",
              "</svg>"
            ],
            "text/plain": [
              "<IPython.core.display.HTML object>"
            ]
          },
          "metadata": {
            "tags": []
          }
        }
      ]
    },
    {
      "cell_type": "markdown",
      "metadata": {
        "id": "_9zbcVdYtJU6"
      },
      "source": [
        "# テキスト"
      ]
    },
    {
      "cell_type": "code",
      "metadata": {
        "id": "7x0vxglvtH8U",
        "colab": {
          "base_uri": "https://localhost:8080/",
          "height": 50
        },
        "outputId": "e9e9b4b2-e26b-4a12-de94-b5bb8e0559ba"
      },
      "source": [
        "%%html\n",
        "\n",
        "<svg height=\"30\" width=\"200\">\n",
        "  <text x=\"0\" y=\"15\" fill=\"red\">I love SVG!</text>\n",
        "</svg>"
      ],
      "execution_count": null,
      "outputs": [
        {
          "output_type": "display_data",
          "data": {
            "text/html": [
              "\n",
              "<svg height=\"30\" width=\"200\">\n",
              "  <text x=\"0\" y=\"15\" fill=\"red\">I love SVG!</text>\n",
              "</svg>"
            ],
            "text/plain": [
              "<IPython.core.display.HTML object>"
            ]
          },
          "metadata": {
            "tags": []
          }
        }
      ]
    },
    {
      "cell_type": "code",
      "metadata": {
        "id": "tDZAReVNtVek",
        "colab": {
          "base_uri": "https://localhost:8080/",
          "height": 79
        },
        "outputId": "f5b3be44-7c1f-41f1-d712-9b92cf974732"
      },
      "source": [
        "%%html\n",
        "\n",
        "<svg height=\"60\" width=\"200\">\n",
        "  <text x=\"0\" y=\"15\" fill=\"red\" transform=\"rotate(30 20,40)\">I love SVG</text>\n",
        "</svg>"
      ],
      "execution_count": null,
      "outputs": [
        {
          "output_type": "display_data",
          "data": {
            "text/html": [
              "\n",
              "<svg height=\"60\" width=\"200\">\n",
              "  <text x=\"0\" y=\"15\" fill=\"red\" transform=\"rotate(30 20,40)\">I love SVG</text>\n",
              "</svg>"
            ],
            "text/plain": [
              "<IPython.core.display.HTML object>"
            ]
          },
          "metadata": {
            "tags": []
          }
        }
      ]
    },
    {
      "cell_type": "code",
      "metadata": {
        "id": "B7JXbKAwtlON",
        "colab": {
          "base_uri": "https://localhost:8080/",
          "height": 110
        },
        "outputId": "49a36646-5787-4a9e-a04c-7ec32c990a7b"
      },
      "source": [
        "%%html\n",
        "\n",
        "<svg height=\"90\" width=\"200\">\n",
        "  <text x=\"10\" y=\"20\" style=\"fill:red;\">Several lines:\n",
        "    <tspan x=\"10\" y=\"45\">First line.</tspan>\n",
        "    <tspan x=\"10\" y=\"70\">Second line.</tspan>\n",
        "  </text>\n",
        "</svg>\n"
      ],
      "execution_count": null,
      "outputs": [
        {
          "output_type": "display_data",
          "data": {
            "text/html": [
              "\n",
              "<svg height=\"90\" width=\"200\">\n",
              "  <text x=\"10\" y=\"20\" style=\"fill:red;\">Several lines:\n",
              "    <tspan x=\"10\" y=\"45\">First line.</tspan>\n",
              "    <tspan x=\"10\" y=\"70\">Second line.</tspan>\n",
              "  </text>\n",
              "</svg>"
            ],
            "text/plain": [
              "<IPython.core.display.HTML object>"
            ]
          },
          "metadata": {
            "tags": []
          }
        }
      ]
    },
    {
      "cell_type": "code",
      "metadata": {
        "id": "TMTQsfmIt0Kv",
        "colab": {
          "base_uri": "https://localhost:8080/",
          "height": 50
        },
        "outputId": "d559d7ce-e5c0-4bb5-9ef1-6a4e03e9d445"
      },
      "source": [
        "%%html\n",
        "\n",
        "<svg height=\"30\" width=\"200\" xmlns:xlink=\"http://www.w3.org/1999/xlink\">\n",
        "  <a xlink:href=\"https://www.w3schools.com/graphics/\" target=\"_blank\">\n",
        "    <text x=\"0\" y=\"15\" fill=\"red\">I love SVG!</text>\n",
        "  </a>\n",
        "</svg>"
      ],
      "execution_count": null,
      "outputs": [
        {
          "output_type": "display_data",
          "data": {
            "text/html": [
              "\n",
              "<svg height=\"30\" width=\"200\" xmlns:xlink=\"http://www.w3.org/1999/xlink\">\n",
              "  <a xlink:href=\"https://www.w3schools.com/graphics/\" target=\"_blank\">\n",
              "    <text x=\"0\" y=\"15\" fill=\"red\">I love SVG!</text>\n",
              "  </a>\n",
              "</svg>"
            ],
            "text/plain": [
              "<IPython.core.display.HTML object>"
            ]
          },
          "metadata": {
            "tags": []
          }
        }
      ]
    },
    {
      "cell_type": "markdown",
      "metadata": {
        "id": "dv26PTN2WZkj"
      },
      "source": [
        "# ストローク\n",
        "\n",
        "* ストロークとは\n",
        "* ストローク幅\n",
        "* ストロークラインキャップ\n",
        "* ストロークダッシュ\n"
      ]
    },
    {
      "cell_type": "code",
      "metadata": {
        "id": "zBKODU3XWZAX",
        "colab": {
          "base_uri": "https://localhost:8080/",
          "height": 99
        },
        "outputId": "a903bcc7-cfe1-4986-df23-7f031cd2069e"
      },
      "source": [
        "%%html\n",
        "\n",
        "<svg height=\"80\" width=\"300\">\n",
        "  <g fill=\"none\">\n",
        "    <path stroke=\"red\" d=\"M5 20 l215 0\" />\n",
        "    <path stroke=\"black\" d=\"M5 40 l215 0\" />\n",
        "    <path stroke=\"blue\" d=\"M5 60 l215 0\" />\n",
        "  </g>\n",
        "</svg>"
      ],
      "execution_count": null,
      "outputs": [
        {
          "output_type": "display_data",
          "data": {
            "text/html": [
              "\n",
              "<svg height=\"80\" width=\"300\">\n",
              "  <g fill=\"none\">\n",
              "    <path stroke=\"red\" d=\"M5 20 l215 0\" />\n",
              "    <path stroke=\"black\" d=\"M5 40 l215 0\" />\n",
              "    <path stroke=\"blue\" d=\"M5 60 l215 0\" />\n",
              "  </g>\n",
              "</svg>"
            ],
            "text/plain": [
              "<IPython.core.display.HTML object>"
            ]
          },
          "metadata": {
            "tags": []
          }
        }
      ]
    },
    {
      "cell_type": "markdown",
      "metadata": {
        "id": "b5bcRydbXpW9"
      },
      "source": [
        "ストロークは線、テキスト、図形など要素のアウトラインのことで、その太さは`stroke-width`で指定する。\n",
        "\n"
      ]
    },
    {
      "cell_type": "code",
      "metadata": {
        "id": "7zCzrh3cf7jw",
        "colab": {
          "base_uri": "https://localhost:8080/",
          "height": 99
        },
        "outputId": "04c5165d-07fa-47da-def0-f44828c0e003"
      },
      "source": [
        "%%html\n",
        "\n",
        "<svg height=\"80\" width=\"300\">\n",
        "  <g fill=\"none\" stroke=\"black\">\n",
        "    <path stroke-width=\"2\" d=\"M5 20 l215 0\" />\n",
        "    <path stroke-width=\"4\" d=\"M5 40 l215 0\" />\n",
        "    <path stroke-width=\"6\" d=\"M5 60 l215 0\" />\n",
        "  </g>\n",
        "</svg>"
      ],
      "execution_count": null,
      "outputs": [
        {
          "output_type": "display_data",
          "data": {
            "text/html": [
              "\n",
              "<svg height=\"80\" width=\"300\">\n",
              "  <g fill=\"none\" stroke=\"black\">\n",
              "    <path stroke-width=\"2\" d=\"M5 20 l215 0\" />\n",
              "    <path stroke-width=\"4\" d=\"M5 40 l215 0\" />\n",
              "    <path stroke-width=\"6\" d=\"M5 60 l215 0\" />\n",
              "  </g>\n",
              "</svg>"
            ],
            "text/plain": [
              "<IPython.core.display.HTML object>"
            ]
          },
          "metadata": {
            "tags": []
          }
        }
      ]
    },
    {
      "cell_type": "markdown",
      "metadata": {
        "id": "pqfqruQ6gHCZ"
      },
      "source": [
        "`stroke-linecap` は線の端のタイプを指定する。\n",
        "\n",
        "(矢印はない)\n"
      ]
    },
    {
      "cell_type": "code",
      "metadata": {
        "id": "3BN1i-0RgTai",
        "colab": {
          "base_uri": "https://localhost:8080/",
          "height": 99
        },
        "outputId": "ed49318d-7299-434f-f46d-836809757eb7"
      },
      "source": [
        "%%html\n",
        "<svg height=\"80\" width=\"300\">\n",
        "  <g fill=\"none\" stroke=\"black\" stroke-width=\"6\">\n",
        "    <path stroke-linecap=\"butt\" d=\"M5 20 l215 0\" />\n",
        "    <path stroke-linecap=\"round\" d=\"M5 40 l215 0\" />\n",
        "    <path stroke-linecap=\"square\" d=\"M5 60 l215 0\" />\n",
        "  </g>\n",
        "</svg>"
      ],
      "execution_count": null,
      "outputs": [
        {
          "output_type": "display_data",
          "data": {
            "text/html": [
              "<svg height=\"80\" width=\"300\">\n",
              "  <g fill=\"none\" stroke=\"black\" stroke-width=\"6\">\n",
              "    <path stroke-linecap=\"butt\" d=\"M5 20 l215 0\" />\n",
              "    <path stroke-linecap=\"round\" d=\"M5 40 l215 0\" />\n",
              "    <path stroke-linecap=\"square\" d=\"M5 60 l215 0\" />\n",
              "  </g>\n",
              "</svg>"
            ],
            "text/plain": [
              "<IPython.core.display.HTML object>"
            ]
          },
          "metadata": {
            "tags": []
          }
        }
      ]
    },
    {
      "cell_type": "markdown",
      "metadata": {
        "id": "qKLtAKwdXmlL"
      },
      "source": [
        "`stroke-dasharray` 点線を作るのに使われる。"
      ]
    },
    {
      "cell_type": "code",
      "metadata": {
        "id": "IitQmwEjgh9p",
        "colab": {
          "base_uri": "https://localhost:8080/",
          "height": 99
        },
        "outputId": "a50e0ea3-4331-4cc2-f679-bbcccdf19dea"
      },
      "source": [
        "%%html\n",
        "\n",
        "<svg height=\"80\" width=\"300\">\n",
        "  <g fill=\"none\" stroke=\"black\" stroke-width=\"4\">\n",
        "    <path stroke-dasharray=\"5,5\" d=\"M5 20 l215 0\" />\n",
        "    <path stroke-dasharray=\"10,10\" d=\"M5 40 l215 0\" />\n",
        "    <path stroke-dasharray=\"20,10,5,5,5,10\" d=\"M5 60 l215 0\" />\n",
        "  </g>\n",
        "</svg>"
      ],
      "execution_count": null,
      "outputs": [
        {
          "output_type": "display_data",
          "data": {
            "text/html": [
              "\n",
              "<svg height=\"80\" width=\"300\">\n",
              "  <g fill=\"none\" stroke=\"black\" stroke-width=\"4\">\n",
              "    <path stroke-dasharray=\"5,5\" d=\"M5 20 l215 0\" />\n",
              "    <path stroke-dasharray=\"10,10\" d=\"M5 40 l215 0\" />\n",
              "    <path stroke-dasharray=\"20,10,5,5,5,10\" d=\"M5 60 l215 0\" />\n",
              "  </g>\n",
              "</svg>"
            ],
            "text/plain": [
              "<IPython.core.display.HTML object>"
            ]
          },
          "metadata": {
            "tags": []
          }
        }
      ]
    },
    {
      "cell_type": "markdown",
      "metadata": {
        "id": "MxJqkP56gohG"
      },
      "source": [
        "# SVG フィルター\n",
        "\n",
        "SVG フィルターは SVG 図形に特殊効果を与える。\n",
        "\n",
        "フィルター要素には次のようなものがある。\n",
        "\n",
        "* (feBlend) - 図形を結合するフィルター\n",
        "* (feColorMatrix) - 色変化のフィルター\n",
        "* (feComponentTransfer)\n",
        "* (feComposite)\n",
        "* (feConvolveMatrix)\n",
        "* (feDiffuseLighting)\n",
        "* (feDisplacementMap)\n",
        "* (feFlood)\n",
        "* (feGaussianBlur) - ガウスぼかし\n",
        "* (feImage)\n",
        "* (feMerge)\n",
        "* (feMorphology)\n",
        "* (feOffset) - ドロップ・シャドーのフィルター\n",
        "* (feSpecularLighting)\n",
        "* (feTile)\n",
        "* (feTurbulence)\n",
        "* (feDistantLight) - 遠い光源のフィルター\n",
        "* (fePointLight) - 点光源のフィルター\n",
        "* (feSpotLight) - スポット光源のフィルター\n",
        "\n",
        "SVG 要素に同時に複数のフィルターが使える!!!!\n",
        "\n",
        "SVGフィルターは `<defs>` 要素内で定義される。\n",
        "`<filter>` 要素は、SVGフィルターを定義するために使用される。 `<filter>` 要素は、フィルターを識別する id 属性を付け、グラフィックでは使用するフィルターを指定する。"
      ]
    },
    {
      "cell_type": "markdown",
      "metadata": {
        "id": "gDYwYWKDjJNE"
      },
      "source": [
        "### ガウスぼかし"
      ]
    },
    {
      "cell_type": "code",
      "metadata": {
        "id": "RiRCNOtKjQHX",
        "colab": {
          "base_uri": "https://localhost:8080/",
          "height": 130
        },
        "outputId": "43fe5cbf-9a31-4d7d-ad29-4189c14a6324"
      },
      "source": [
        "%%html\n",
        "\n",
        "<svg height=\"110\" width=\"110\">\n",
        "  <defs>\n",
        "    <filter id=\"f1\" x=\"0\" y=\"0\">\n",
        "      <feGaussianBlur in=\"SourceGraphic\" stdDeviation=\"15\" />\n",
        "    </filter>\n",
        "  </defs>\n",
        "  <rect width=\"90\" height=\"90\" stroke=\"green\" stroke-width=\"3\"\n",
        "  fill=\"yellow\" filter=\"url(#f1)\" />\n",
        "</svg>"
      ],
      "execution_count": null,
      "outputs": [
        {
          "output_type": "display_data",
          "data": {
            "text/html": [
              "\n",
              "<svg height=\"110\" width=\"110\">\n",
              "  <defs>\n",
              "    <filter id=\"f1\" x=\"0\" y=\"0\">\n",
              "      <feGaussianBlur in=\"SourceGraphic\" stdDeviation=\"15\" />\n",
              "    </filter>\n",
              "  </defs>\n",
              "  <rect width=\"90\" height=\"90\" stroke=\"green\" stroke-width=\"3\"\n",
              "  fill=\"yellow\" filter=\"url(#f1)\" />\n",
              "</svg>"
            ],
            "text/plain": [
              "<IPython.core.display.HTML object>"
            ]
          },
          "metadata": {
            "tags": []
          }
        }
      ]
    },
    {
      "cell_type": "markdown",
      "metadata": {
        "id": "63Sr6n65tWvZ"
      },
      "source": [
        "# ドロップシャドー"
      ]
    },
    {
      "cell_type": "code",
      "metadata": {
        "id": "0eRKgsgvtQPN",
        "colab": {
          "base_uri": "https://localhost:8080/",
          "height": 139
        },
        "outputId": "7bb4a761-931a-402b-943f-c17f95deb2f2"
      },
      "source": [
        "%%html\n",
        "\n",
        "<svg height=\"120\" width=\"120\">\n",
        "  <defs>\n",
        "    <filter id=\"f1\" x=\"0\" y=\"0\" width=\"200%\" height=\"200%\">\n",
        "      <feOffset result=\"offOut\" in=\"SourceGraphic\" dx=\"20\" dy=\"20\" />\n",
        "      <feBlend in=\"SourceGraphic\" in2=\"offOut\" mode=\"normal\" />\n",
        "    </filter>\n",
        "  </defs>\n",
        "  <rect width=\"90\" height=\"90\" stroke=\"green\" stroke-width=\"3\"\n",
        "  fill=\"yellow\" filter=\"url(#f1)\" />\n",
        "</svg>"
      ],
      "execution_count": null,
      "outputs": [
        {
          "output_type": "display_data",
          "data": {
            "text/html": [
              "\n",
              "<svg height=\"120\" width=\"120\">\n",
              "  <defs>\n",
              "    <filter id=\"f1\" x=\"0\" y=\"0\" width=\"200%\" height=\"200%\">\n",
              "      <feOffset result=\"offOut\" in=\"SourceGraphic\" dx=\"20\" dy=\"20\" />\n",
              "      <feBlend in=\"SourceGraphic\" in2=\"offOut\" mode=\"normal\" />\n",
              "    </filter>\n",
              "  </defs>\n",
              "  <rect width=\"90\" height=\"90\" stroke=\"green\" stroke-width=\"3\"\n",
              "  fill=\"yellow\" filter=\"url(#f1)\" />\n",
              "</svg>"
            ],
            "text/plain": [
              "<IPython.core.display.HTML object>"
            ]
          },
          "metadata": {
            "tags": []
          }
        }
      ]
    },
    {
      "cell_type": "code",
      "metadata": {
        "id": "A1y0UDPctt7a",
        "colab": {
          "base_uri": "https://localhost:8080/",
          "height": 159
        },
        "outputId": "17646d1f-54e2-41a3-dca9-f1b3d3925a2f"
      },
      "source": [
        "%%html\n",
        "\n",
        "<svg height=\"140\" width=\"140\">\n",
        "  <defs>\n",
        "    <filter id=\"f2\" x=\"0\" y=\"0\" width=\"200%\" height=\"200%\">\n",
        "      <feOffset result=\"offOut\" in=\"SourceGraphic\" dx=\"20\" dy=\"20\" />\n",
        "      <feGaussianBlur result=\"blurOut\" in=\"offOut\" stdDeviation=\"10\" />\n",
        "      <feBlend in=\"SourceGraphic\" in2=\"blurOut\" mode=\"normal\" />\n",
        "    </filter>\n",
        "  </defs>\n",
        "  <rect width=\"90\" height=\"90\" stroke=\"green\" stroke-width=\"3\"\n",
        "  fill=\"yellow\" filter=\"url(#f2)\" />\n",
        "</svg>"
      ],
      "execution_count": null,
      "outputs": [
        {
          "output_type": "display_data",
          "data": {
            "text/html": [
              "\n",
              "<svg height=\"140\" width=\"140\">\n",
              "  <defs>\n",
              "    <filter id=\"f2\" x=\"0\" y=\"0\" width=\"200%\" height=\"200%\">\n",
              "      <feOffset result=\"offOut\" in=\"SourceGraphic\" dx=\"20\" dy=\"20\" />\n",
              "      <feGaussianBlur result=\"blurOut\" in=\"offOut\" stdDeviation=\"10\" />\n",
              "      <feBlend in=\"SourceGraphic\" in2=\"blurOut\" mode=\"normal\" />\n",
              "    </filter>\n",
              "  </defs>\n",
              "  <rect width=\"90\" height=\"90\" stroke=\"green\" stroke-width=\"3\"\n",
              "  fill=\"yellow\" filter=\"url(#f2)\" />\n",
              "</svg>"
            ],
            "text/plain": [
              "<IPython.core.display.HTML object>"
            ]
          },
          "metadata": {
            "tags": []
          }
        }
      ]
    },
    {
      "cell_type": "code",
      "metadata": {
        "id": "RvyVjTvauA1a",
        "colab": {
          "base_uri": "https://localhost:8080/",
          "height": 159
        },
        "outputId": "2160a82a-b46e-4826-e275-c1f95c6fe626"
      },
      "source": [
        "%%html\n",
        "\n",
        "<svg height=\"140\" width=\"140\">\n",
        "  <defs>\n",
        "    <filter id=\"f3\" x=\"0\" y=\"0\" width=\"200%\" height=\"200%\">\n",
        "      <feOffset result=\"offOut\" in=\"SourceAlpha\" dx=\"20\" dy=\"20\" />\n",
        "      <feGaussianBlur result=\"blurOut\" in=\"offOut\" stdDeviation=\"10\" />\n",
        "      <feBlend in=\"SourceGraphic\" in2=\"blurOut\" mode=\"normal\" />\n",
        "    </filter>\n",
        "  </defs>\n",
        "  <rect width=\"90\" height=\"90\" stroke=\"green\" stroke-width=\"3\"\n",
        "  fill=\"yellow\" filter=\"url(#f3)\" />\n",
        "</svg>"
      ],
      "execution_count": null,
      "outputs": [
        {
          "output_type": "display_data",
          "data": {
            "text/html": [
              "\n",
              "<svg height=\"140\" width=\"140\">\n",
              "  <defs>\n",
              "    <filter id=\"f3\" x=\"0\" y=\"0\" width=\"200%\" height=\"200%\">\n",
              "      <feOffset result=\"offOut\" in=\"SourceAlpha\" dx=\"20\" dy=\"20\" />\n",
              "      <feGaussianBlur result=\"blurOut\" in=\"offOut\" stdDeviation=\"10\" />\n",
              "      <feBlend in=\"SourceGraphic\" in2=\"blurOut\" mode=\"normal\" />\n",
              "    </filter>\n",
              "  </defs>\n",
              "  <rect width=\"90\" height=\"90\" stroke=\"green\" stroke-width=\"3\"\n",
              "  fill=\"yellow\" filter=\"url(#f3)\" />\n",
              "</svg>"
            ],
            "text/plain": [
              "<IPython.core.display.HTML object>"
            ]
          },
          "metadata": {
            "tags": []
          }
        }
      ]
    },
    {
      "cell_type": "code",
      "metadata": {
        "id": "G2dQ8L1NuIRz",
        "colab": {
          "base_uri": "https://localhost:8080/",
          "height": 159
        },
        "outputId": "d48e7268-0d54-454e-fbdf-3d63846505c1"
      },
      "source": [
        "%%html\n",
        "\n",
        "<svg height=\"140\" width=\"140\">\n",
        "  <defs>\n",
        "    <filter id=\"f4\" x=\"0\" y=\"0\" width=\"200%\" height=\"200%\">\n",
        "      <feOffset result=\"offOut\" in=\"SourceGraphic\" dx=\"20\" dy=\"20\" />\n",
        "      <feColorMatrix result=\"matrixOut\" in=\"offOut\" type=\"matrix\"\n",
        "      values=\"0.2 0 0 0 0 0 0.2 0 0 0 0 0 0.2 0 0 0 0 0 1 0\" />\n",
        "      <feGaussianBlur result=\"blurOut\" in=\"matrixOut\" stdDeviation=\"10\" />\n",
        "      <feBlend in=\"SourceGraphic\" in2=\"blurOut\" mode=\"normal\" />\n",
        "    </filter>\n",
        "  </defs>\n",
        "  <rect width=\"90\" height=\"90\" stroke=\"green\" stroke-width=\"3\"\n",
        "  fill=\"yellow\" filter=\"url(#f4)\" />\n",
        "</svg>"
      ],
      "execution_count": null,
      "outputs": [
        {
          "output_type": "display_data",
          "data": {
            "text/html": [
              "\n",
              "<svg height=\"140\" width=\"140\">\n",
              "  <defs>\n",
              "    <filter id=\"f4\" x=\"0\" y=\"0\" width=\"200%\" height=\"200%\">\n",
              "      <feOffset result=\"offOut\" in=\"SourceGraphic\" dx=\"20\" dy=\"20\" />\n",
              "      <feColorMatrix result=\"matrixOut\" in=\"offOut\" type=\"matrix\"\n",
              "      values=\"0.2 0 0 0 0 0 0.2 0 0 0 0 0 0.2 0 0 0 0 0 1 0\" />\n",
              "      <feGaussianBlur result=\"blurOut\" in=\"matrixOut\" stdDeviation=\"10\" />\n",
              "      <feBlend in=\"SourceGraphic\" in2=\"blurOut\" mode=\"normal\" />\n",
              "    </filter>\n",
              "  </defs>\n",
              "  <rect width=\"90\" height=\"90\" stroke=\"green\" stroke-width=\"3\"\n",
              "  fill=\"yellow\" filter=\"url(#f4)\" />\n",
              "</svg>"
            ],
            "text/plain": [
              "<IPython.core.display.HTML object>"
            ]
          },
          "metadata": {
            "tags": []
          }
        }
      ]
    },
    {
      "cell_type": "markdown",
      "metadata": {
        "id": "qeE--FPauRdq"
      },
      "source": [
        "# グラデーション\n",
        "\n",
        "グラデーションは2種類ある。\n",
        "\n",
        "* リニア\n",
        "* ラディアル (放射状)"
      ]
    },
    {
      "cell_type": "code",
      "metadata": {
        "id": "2mlGnW1aulJc",
        "colab": {
          "base_uri": "https://localhost:8080/",
          "height": 170
        },
        "outputId": "a739912b-8a6b-4f0a-ac46-b5a07b534d1e"
      },
      "source": [
        "%%html\n",
        "<svg height=\"150\" width=\"400\">\n",
        "  <defs>\n",
        "    <linearGradient id=\"grad1\" x1=\"0%\" y1=\"0%\" x2=\"100%\" y2=\"0%\">\n",
        "      <stop offset=\"0%\" style=\"stop-color:rgb(255,255,0);stop-opacity:1\" />\n",
        "      <stop offset=\"100%\" style=\"stop-color:rgb(255,0,0);stop-opacity:1\" />\n",
        "    </linearGradient>\n",
        "  </defs>\n",
        "  <ellipse cx=\"200\" cy=\"70\" rx=\"85\" ry=\"55\" fill=\"url(#grad1)\" />\n",
        "</svg>"
      ],
      "execution_count": null,
      "outputs": [
        {
          "output_type": "display_data",
          "data": {
            "text/html": [
              "<svg height=\"150\" width=\"400\">\n",
              "  <defs>\n",
              "    <linearGradient id=\"grad1\" x1=\"0%\" y1=\"0%\" x2=\"100%\" y2=\"0%\">\n",
              "      <stop offset=\"0%\" style=\"stop-color:rgb(255,255,0);stop-opacity:1\" />\n",
              "      <stop offset=\"100%\" style=\"stop-color:rgb(255,0,0);stop-opacity:1\" />\n",
              "    </linearGradient>\n",
              "  </defs>\n",
              "  <ellipse cx=\"200\" cy=\"70\" rx=\"85\" ry=\"55\" fill=\"url(#grad1)\" />\n",
              "</svg>"
            ],
            "text/plain": [
              "<IPython.core.display.HTML object>"
            ]
          },
          "metadata": {
            "tags": []
          }
        }
      ]
    },
    {
      "cell_type": "code",
      "metadata": {
        "id": "y9L8p-lfuupD",
        "colab": {
          "base_uri": "https://localhost:8080/",
          "height": 170
        },
        "outputId": "484c4d3d-845d-49d0-ab86-57cff2464986"
      },
      "source": [
        "%%html\n",
        "\n",
        "<svg height=\"150\" width=\"400\">\n",
        "  <defs>\n",
        "    <linearGradient id=\"grad2\" x1=\"0%\" y1=\"0%\" x2=\"0%\" y2=\"100%\">\n",
        "      <stop offset=\"0%\" style=\"stop-color:rgb(255,0,0);stop-opacity:1\" />\n",
        "      <stop offset=\"100%\" style=\"stop-color:rgb(255,255,0);stop-opacity:1\" />\n",
        "    </linearGradient>\n",
        "  </defs>\n",
        "  <ellipse cx=\"200\" cy=\"70\" rx=\"85\" ry=\"55\" fill=\"url(#grad2)\" />\n",
        "</svg>"
      ],
      "execution_count": null,
      "outputs": [
        {
          "output_type": "display_data",
          "data": {
            "text/html": [
              "\n",
              "<svg height=\"150\" width=\"400\">\n",
              "  <defs>\n",
              "    <linearGradient id=\"grad2\" x1=\"0%\" y1=\"0%\" x2=\"0%\" y2=\"100%\">\n",
              "      <stop offset=\"0%\" style=\"stop-color:rgb(255,0,0);stop-opacity:1\" />\n",
              "      <stop offset=\"100%\" style=\"stop-color:rgb(255,255,0);stop-opacity:1\" />\n",
              "    </linearGradient>\n",
              "  </defs>\n",
              "  <ellipse cx=\"200\" cy=\"70\" rx=\"85\" ry=\"55\" fill=\"url(#grad2)\" />\n",
              "</svg>"
            ],
            "text/plain": [
              "<IPython.core.display.HTML object>"
            ]
          },
          "metadata": {
            "tags": []
          }
        }
      ]
    },
    {
      "cell_type": "code",
      "metadata": {
        "id": "Clc9ELzCuztQ",
        "colab": {
          "base_uri": "https://localhost:8080/",
          "height": 170
        },
        "outputId": "4defa7bb-5c70-4eca-d18b-f713f2fd2341"
      },
      "source": [
        "%%html\n",
        "\n",
        "<svg height=\"150\" width=\"400\">\n",
        "  <defs>\n",
        "    <linearGradient id=\"grad3\" x1=\"0%\" y1=\"0%\" x2=\"100%\" y2=\"0%\">\n",
        "      <stop offset=\"0%\" style=\"stop-color:rgb(255,255,0);stop-opacity:1\" />\n",
        "      <stop offset=\"100%\" style=\"stop-color:rgb(255,0,0);stop-opacity:1\" />\n",
        "    </linearGradient>\n",
        "  </defs>\n",
        "  <ellipse cx=\"200\" cy=\"70\" rx=\"85\" ry=\"55\" fill=\"url(#grad3)\" />\n",
        "  <text fill=\"#ffffff\" font-size=\"45\" font-family=\"Verdana\" x=\"150\" y=\"86\">\n",
        "  SVG</text>\n",
        "</svg>"
      ],
      "execution_count": null,
      "outputs": [
        {
          "output_type": "display_data",
          "data": {
            "text/html": [
              "\n",
              "<svg height=\"150\" width=\"400\">\n",
              "  <defs>\n",
              "    <linearGradient id=\"grad3\" x1=\"0%\" y1=\"0%\" x2=\"100%\" y2=\"0%\">\n",
              "      <stop offset=\"0%\" style=\"stop-color:rgb(255,255,0);stop-opacity:1\" />\n",
              "      <stop offset=\"100%\" style=\"stop-color:rgb(255,0,0);stop-opacity:1\" />\n",
              "    </linearGradient>\n",
              "  </defs>\n",
              "  <ellipse cx=\"200\" cy=\"70\" rx=\"85\" ry=\"55\" fill=\"url(#grad3)\" />\n",
              "  <text fill=\"#ffffff\" font-size=\"45\" font-family=\"Verdana\" x=\"150\" y=\"86\">\n",
              "  SVG</text>\n",
              "</svg>"
            ],
            "text/plain": [
              "<IPython.core.display.HTML object>"
            ]
          },
          "metadata": {
            "tags": []
          }
        }
      ]
    },
    {
      "cell_type": "code",
      "metadata": {
        "id": "JhsGURnsu5UP",
        "colab": {
          "base_uri": "https://localhost:8080/",
          "height": 170
        },
        "outputId": "9643edc6-39b6-4719-d7a7-076759b39fa6"
      },
      "source": [
        "%%html\n",
        "\n",
        "<svg height=\"150\" width=\"500\">\n",
        "  <defs>\n",
        "    <radialGradient id=\"grad1\" cx=\"50%\" cy=\"50%\" r=\"50%\" fx=\"50%\" fy=\"50%\">\n",
        "      <stop offset=\"0%\" style=\"stop-color:rgb(255,255,255);\n",
        "      stop-opacity:0\" />\n",
        "      <stop offset=\"100%\" style=\"stop-color:rgb(0,0,255);stop-opacity:1\" />\n",
        "    </radialGradient>\n",
        "  </defs>\n",
        "  <ellipse cx=\"200\" cy=\"70\" rx=\"85\" ry=\"55\" fill=\"url(#grad1)\" />\n",
        "</svg>"
      ],
      "execution_count": null,
      "outputs": [
        {
          "output_type": "display_data",
          "data": {
            "text/html": [
              "\n",
              "<svg height=\"150\" width=\"500\">\n",
              "  <defs>\n",
              "    <radialGradient id=\"grad1\" cx=\"50%\" cy=\"50%\" r=\"50%\" fx=\"50%\" fy=\"50%\">\n",
              "      <stop offset=\"0%\" style=\"stop-color:rgb(255,255,255);\n",
              "      stop-opacity:0\" />\n",
              "      <stop offset=\"100%\" style=\"stop-color:rgb(0,0,255);stop-opacity:1\" />\n",
              "    </radialGradient>\n",
              "  </defs>\n",
              "  <ellipse cx=\"200\" cy=\"70\" rx=\"85\" ry=\"55\" fill=\"url(#grad1)\" />\n",
              "</svg>"
            ],
            "text/plain": [
              "<IPython.core.display.HTML object>"
            ]
          },
          "metadata": {
            "tags": []
          }
        }
      ]
    },
    {
      "cell_type": "code",
      "metadata": {
        "id": "yK1-xsBTu_f7",
        "colab": {
          "base_uri": "https://localhost:8080/",
          "height": 170
        },
        "outputId": "86e883dd-1d2a-48a2-9926-e39c3368b4ac"
      },
      "source": [
        "%%html\n",
        "\n",
        "<svg height=\"150\" width=\"500\">\n",
        "  <defs>\n",
        "    <radialGradient id=\"grad2\" cx=\"20%\" cy=\"30%\" r=\"30%\" fx=\"50%\" fy=\"50%\">\n",
        "      <stop offset=\"0%\" style=\"stop-color:rgb(255,255,255);\n",
        "      stop-opacity:0\" />\n",
        "      <stop offset=\"100%\" style=\"stop-color:rgb(0,0,255);stop-opacity:1\" />\n",
        "    </radialGradient>\n",
        "  </defs>\n",
        "  <ellipse cx=\"200\" cy=\"70\" rx=\"85\" ry=\"55\" fill=\"url(#grad2)\" />\n",
        "</svg>"
      ],
      "execution_count": null,
      "outputs": [
        {
          "output_type": "display_data",
          "data": {
            "text/html": [
              "\n",
              "<svg height=\"150\" width=\"500\">\n",
              "  <defs>\n",
              "    <radialGradient id=\"grad2\" cx=\"20%\" cy=\"30%\" r=\"30%\" fx=\"50%\" fy=\"50%\">\n",
              "      <stop offset=\"0%\" style=\"stop-color:rgb(255,255,255);\n",
              "      stop-opacity:0\" />\n",
              "      <stop offset=\"100%\" style=\"stop-color:rgb(0,0,255);stop-opacity:1\" />\n",
              "    </radialGradient>\n",
              "  </defs>\n",
              "  <ellipse cx=\"200\" cy=\"70\" rx=\"85\" ry=\"55\" fill=\"url(#grad2)\" />\n",
              "</svg>"
            ],
            "text/plain": [
              "<IPython.core.display.HTML object>"
            ]
          },
          "metadata": {
            "tags": []
          }
        }
      ]
    },
    {
      "cell_type": "markdown",
      "metadata": {
        "id": "x8264VqivXRQ"
      },
      "source": [
        "# w3schools SVG examples\n",
        "\n",
        "https://www.w3schools.com/graphics/svg_examples.asp\n"
      ]
    },
    {
      "cell_type": "markdown",
      "metadata": {
        "id": "tpVGizzz6pow"
      },
      "source": [
        "Rectangle that repeatedly fade away over 5 seconds"
      ]
    },
    {
      "cell_type": "code",
      "metadata": {
        "id": "YO8pQr8H6oq_"
      },
      "source": [
        "%%html\n",
        "\n",
        "<svg width=\"400\" height=\"400\">\n",
        "  <rect x=\"20\" y=\"20\" width=\"250\" height=\"250\" style=\"fill:blue\">\n",
        "    <animate attributeType=\"CSS\" attributeName=\"opacity\" from=\"1\" to=\"0\" dur=\"5s\" repeatCount=\"indefinite\" />\n",
        "  </rect>\n",
        "</svg>\n"
      ],
      "execution_count": null,
      "outputs": []
    },
    {
      "cell_type": "markdown",
      "metadata": {
        "id": "rxkAQPj-7Aqm"
      },
      "source": [
        "A growing rectangle that will change color"
      ]
    },
    {
      "cell_type": "code",
      "metadata": {
        "id": "G1HU3Iht7GNs",
        "colab": {
          "base_uri": "https://localhost:8080/",
          "height": 520
        },
        "outputId": "d44733f8-2b4c-4833-e60e-5b497946b0ed"
      },
      "source": [
        "%%html\n",
        "\n",
        "<svg width=\"500\" height=\"500\">\n",
        "  <rect id=\"rec\" x=\"300\" y=\"100\" width=\"300\" height=\"100\" style=\"fill:lime\"> \n",
        "    <animate attributeName=\"x\" attributeType=\"XML\" begin=\"0s\" dur=\"6s\" fill=\"freeze\" from=\"300\" to=\"0\" /> \n",
        "    <animate attributeName=\"y\" attributeType=\"XML\" begin=\"0s\" dur=\"6s\" fill=\"freeze\" from=\"100\" to=\"0\" /> \n",
        "    <animate attributeName=\"width\" attributeType=\"XML\" begin=\"0s\" dur=\"6s\" fill=\"freeze\" from=\"300\" to=\"800\" /> \n",
        "    <animate attributeName=\"height\" attributeType=\"XML\" begin=\"0s\" dur=\"6s\" fill=\"freeze\" from=\"100\" to=\"300\" /> \n",
        "    <animate attributeName=\"fill\" attributeType=\"CSS\" from=\"lime\" to=\"red\" begin=\"2s\" dur=\"4s\" fill=\"freeze\" />\n",
        "  </rect>\n",
        "  Sorry, your browser does not support inline SVG.\n",
        "</svg>\n"
      ],
      "execution_count": null,
      "outputs": [
        {
          "output_type": "display_data",
          "data": {
            "text/html": [
              "\n",
              "<svg width=\"500\" height=\"500\">\n",
              "  <rect id=\"rec\" x=\"300\" y=\"100\" width=\"300\" height=\"100\" style=\"fill:lime\"> \n",
              "    <animate attributeName=\"x\" attributeType=\"XML\" begin=\"0s\" dur=\"6s\" fill=\"freeze\" from=\"300\" to=\"0\" /> \n",
              "    <animate attributeName=\"y\" attributeType=\"XML\" begin=\"0s\" dur=\"6s\" fill=\"freeze\" from=\"100\" to=\"0\" /> \n",
              "    <animate attributeName=\"width\" attributeType=\"XML\" begin=\"0s\" dur=\"6s\" fill=\"freeze\" from=\"300\" to=\"800\" /> \n",
              "    <animate attributeName=\"height\" attributeType=\"XML\" begin=\"0s\" dur=\"6s\" fill=\"freeze\" from=\"100\" to=\"300\" /> \n",
              "    <animate attributeName=\"fill\" attributeType=\"CSS\" from=\"lime\" to=\"red\" begin=\"2s\" dur=\"4s\" fill=\"freeze\" />\n",
              "  </rect>\n",
              "  Sorry, your browser does not support inline SVG.\n",
              "</svg>"
            ],
            "text/plain": [
              "<IPython.core.display.HTML object>"
            ]
          },
          "metadata": {
            "tags": []
          }
        }
      ]
    },
    {
      "cell_type": "markdown",
      "metadata": {
        "id": "tPB8ttuf7QBK"
      },
      "source": [
        "Three rectangles that will change color"
      ]
    },
    {
      "cell_type": "code",
      "metadata": {
        "id": "TB477_Fz7RHa",
        "colab": {
          "base_uri": "https://localhost:8080/",
          "height": 520
        },
        "outputId": "af951c21-2ecc-44d6-c87b-9b088bb46ad4"
      },
      "source": [
        "%%html\n",
        "\n",
        "<svg width=\"500\" height=\"500\">\n",
        "  <rect x=\"10\" y=\"20\" width=\"90\" height=\"60\">\n",
        "    <animate id=\"a1\" attributeName=\"fill\" from=\"red\" to=\"blue\" dur=\"3s\" fill=\"freeze\" />\n",
        "  </rect>\n",
        "  <rect x=\"10\" y=\"120\" width=\"90\" height=\"60\">\n",
        "    <animate id=\"a2\" attributeName=\"fill\" from=\"blue\" to=\"yellow\" begin=\"a1.end\" dur=\"3s\" fill=\"freeze\" />\n",
        "  </rect>\n",
        "  <rect x=\"10\" y=\"220\" width=\"90\" height=\"60\">\n",
        "    <animate id=\"a3\" attributeName=\"fill\" from=\"yellow\" to=\"green\" begin=\"a2.end\" dur=\"3s\" fill=\"freeze\" />\n",
        "  </rect>\n",
        "  Sorry, your browser does not support inline SVG.  \n",
        "</svg>\n"
      ],
      "execution_count": null,
      "outputs": [
        {
          "output_type": "display_data",
          "data": {
            "text/html": [
              "\n",
              "<svg width=\"500\" height=\"500\">\n",
              "  <rect x=\"10\" y=\"20\" width=\"90\" height=\"60\">\n",
              "    <animate id=\"a1\" attributeName=\"fill\" from=\"red\" to=\"blue\" dur=\"3s\" fill=\"freeze\" />\n",
              "  </rect>\n",
              "  <rect x=\"10\" y=\"120\" width=\"90\" height=\"60\">\n",
              "    <animate id=\"a2\" attributeName=\"fill\" from=\"blue\" to=\"yellow\" begin=\"a1.end\" dur=\"3s\" fill=\"freeze\" />\n",
              "  </rect>\n",
              "  <rect x=\"10\" y=\"220\" width=\"90\" height=\"60\">\n",
              "    <animate id=\"a3\" attributeName=\"fill\" from=\"yellow\" to=\"green\" begin=\"a2.end\" dur=\"3s\" fill=\"freeze\" />\n",
              "  </rect>\n",
              "  Sorry, your browser does not support inline SVG.  \n",
              "</svg>"
            ],
            "text/plain": [
              "<IPython.core.display.HTML object>"
            ]
          },
          "metadata": {
            "tags": []
          }
        }
      ]
    },
    {
      "cell_type": "markdown",
      "metadata": {
        "id": "e-vRmA877YqO"
      },
      "source": [
        ""
      ]
    },
    {
      "cell_type": "markdown",
      "metadata": {
        "id": "yMj90Tz_7cjl"
      },
      "source": [
        "Move text along a motion path"
      ]
    },
    {
      "cell_type": "code",
      "metadata": {
        "id": "YqPIdhWK7diZ",
        "colab": {
          "base_uri": "https://localhost:8080/",
          "height": 520
        },
        "outputId": "bd7e03f8-f1d6-4c7d-de34-f3ee37930976"
      },
      "source": [
        "%%html\n",
        "\n",
        "<svg width=\"500\" height=\"500\">\n",
        "  <g transform=\"translate(100,100)\">\n",
        "    <text id=\"TextElement\" x=\"0\" y=\"0\" style=\"font-family:Verdana;font-size:24\"> It's SVG!\n",
        "      <animateMotion path=\"M 0 0 L 100 100\" dur=\"5s\" fill=\"freeze\" />\n",
        "    </text>\n",
        "  </g>\n",
        "  Sorry, your browser does not support inline SVG.  \n",
        "</svg>\n"
      ],
      "execution_count": null,
      "outputs": [
        {
          "output_type": "display_data",
          "data": {
            "text/html": [
              "\n",
              "<svg width=\"500\" height=\"500\">\n",
              "  <g transform=\"translate(100,100)\">\n",
              "    <text id=\"TextElement\" x=\"0\" y=\"0\" style=\"font-family:Verdana;font-size:24\"> It's SVG!\n",
              "      <animateMotion path=\"M 0 0 L 100 100\" dur=\"5s\" fill=\"freeze\" />\n",
              "    </text>\n",
              "  </g>\n",
              "  Sorry, your browser does not support inline SVG.  \n",
              "</svg>"
            ],
            "text/plain": [
              "<IPython.core.display.HTML object>"
            ]
          },
          "metadata": {
            "tags": []
          }
        }
      ]
    },
    {
      "cell_type": "markdown",
      "metadata": {
        "id": "-fhiap4X7nTY"
      },
      "source": [
        "Move, rotate, and scale text along a motion path"
      ]
    },
    {
      "cell_type": "code",
      "metadata": {
        "id": "-09Ucjn77oMj",
        "colab": {
          "base_uri": "https://localhost:8080/",
          "height": 620
        },
        "outputId": "c6f06fa3-c00b-406b-95c0-703536019738"
      },
      "source": [
        "%%html\n",
        "\n",
        "<svg width=\"600\" height=\"600\">\n",
        "  <g transform=\"translate(100,100)\"> \n",
        "    <text id=\"TextElement\" x=\"0\" y=\"0\" style=\"font-family:Verdana;font-size:24; visibility:hidden\"> It's SVG!\n",
        "      <set attributeName=\"visibility\" attributeType=\"CSS\" to=\"visible\" begin=\"1s\" dur=\"5s\" fill=\"freeze\" />\n",
        "      <animateMotion path=\"M 0 0 L 100 100\" begin=\"1s\" dur=\"5s\" fill=\"freeze\" />\n",
        "      <animateTransform attributeName=\"transform\" attributeType=\"XML\" type=\"rotate\" from=\"-30\" to=\"0\" begin=\"1s\" dur=\"5s\" fill=\"freeze\" /> \n",
        "      <animateTransform attributeName=\"transform\" attributeType=\"XML\" type=\"scale\" from=\"1\" to=\"3\" additive=\"sum\" begin=\"1s\" dur=\"5s\" fill=\"freeze\" /> \n",
        "    </text> \n",
        "  </g> \n",
        "  Sorry, your browser does not support inline SVG.\n",
        "</svg>"
      ],
      "execution_count": null,
      "outputs": [
        {
          "output_type": "display_data",
          "data": {
            "text/html": [
              "\n",
              "<svg width=\"600\" height=\"600\">\n",
              "  <g transform=\"translate(100,100)\"> \n",
              "    <text id=\"TextElement\" x=\"0\" y=\"0\" style=\"font-family:Verdana;font-size:24; visibility:hidden\"> It's SVG!\n",
              "      <set attributeName=\"visibility\" attributeType=\"CSS\" to=\"visible\" begin=\"1s\" dur=\"5s\" fill=\"freeze\" />\n",
              "      <animateMotion path=\"M 0 0 L 100 100\" begin=\"1s\" dur=\"5s\" fill=\"freeze\" />\n",
              "      <animateTransform attributeName=\"transform\" attributeType=\"XML\" type=\"rotate\" from=\"-30\" to=\"0\" begin=\"1s\" dur=\"5s\" fill=\"freeze\" /> \n",
              "      <animateTransform attributeName=\"transform\" attributeType=\"XML\" type=\"scale\" from=\"1\" to=\"3\" additive=\"sum\" begin=\"1s\" dur=\"5s\" fill=\"freeze\" /> \n",
              "    </text> \n",
              "  </g> \n",
              "  Sorry, your browser does not support inline SVG.\n",
              "</svg>"
            ],
            "text/plain": [
              "<IPython.core.display.HTML object>"
            ]
          },
          "metadata": {
            "tags": []
          }
        }
      ]
    },
    {
      "cell_type": "markdown",
      "metadata": {
        "id": "bb-8qVb47yCo"
      },
      "source": [
        "Move, rotate, and scale text along a motion path + a growing rectangle that will change color\n",
        "Rotating ellipses\n",
        "\n"
      ]
    },
    {
      "cell_type": "code",
      "metadata": {
        "id": "7LpvRKmy7zHq",
        "colab": {
          "base_uri": "https://localhost:8080/",
          "height": 620
        },
        "outputId": "4878217e-5759-47d2-af46-38cfc68046df"
      },
      "source": [
        "%%html\n",
        "\n",
        "<svg width=\"600\" height=\"600\">\n",
        "  <rect id=\"rec\" x=\"300\" y=\"100\" width=\"300\" height=\"100\" style=\"fill:lime\"> \n",
        "    <animate attributeName=\"x\" attributeType=\"XML\" begin=\"0s\" dur=\"6s\" fill=\"freeze\" from=\"300\" to=\"0\" /> \n",
        "    <animate attributeName=\"y\" attributeType=\"XML\" begin=\"0s\" dur=\"6s\" fill=\"freeze\" from=\"100\" to=\"0\" /> \n",
        "    <animate attributeName=\"width\" attributeType=\"XML\" begin=\"0s\" dur=\"6s\" fill=\"freeze\" from=\"300\" to=\"800\" /> \n",
        "    <animate attributeName=\"height\" attributeType=\"XML\" begin=\"0s\" dur=\"6s\" fill=\"freeze\" from=\"100\" to=\"300\" /> \n",
        "    <animate attributeName=\"fill\" attributeType=\"CSS\" from=\"lime\" to=\"red\" begin=\"2s\" dur=\"4s\" fill=\"freeze\" />\n",
        "  </rect>\n",
        "  <g transform=\"translate(100,100)\"> \n",
        "    <text id=\"TextElement\" x=\"0\" y=\"0\" style=\"font-family:Verdana;font-size:24; visibility:hidden\"> It's SVG!\n",
        "      <set attributeName=\"visibility\" attributeType=\"CSS\" to=\"visible\" begin=\"1s\" dur=\"5s\" fill=\"freeze\" />\n",
        "      <animateMotion path=\"M 0 0 L 100 100\" begin=\"1s\" dur=\"5s\" fill=\"freeze\" />\n",
        "      <animate attributeName=\"fill\" attributeType=\"CSS\" from=\"red\" to=\"blue\" begin=\"1s\" dur=\"5s\" fill=\"freeze\" /> \n",
        "      <animateTransform attributeName=\"transform\" attributeType=\"XML\" type=\"rotate\" from=\"-30\" to=\"0\" begin=\"1s\" dur=\"5s\" fill=\"freeze\" /> \n",
        "      <animateTransform attributeName=\"transform\" attributeType=\"XML\" type=\"scale\" from=\"1\" to=\"3\" additive=\"sum\" begin=\"1s\" dur=\"5s\" fill=\"freeze\" /> \n",
        "    </text> \n",
        "  </g>\n",
        "</svg>\n"
      ],
      "execution_count": null,
      "outputs": [
        {
          "output_type": "display_data",
          "data": {
            "text/html": [
              "\n",
              "<svg width=\"600\" height=\"600\">\n",
              "  <rect id=\"rec\" x=\"300\" y=\"100\" width=\"300\" height=\"100\" style=\"fill:lime\"> \n",
              "    <animate attributeName=\"x\" attributeType=\"XML\" begin=\"0s\" dur=\"6s\" fill=\"freeze\" from=\"300\" to=\"0\" /> \n",
              "    <animate attributeName=\"y\" attributeType=\"XML\" begin=\"0s\" dur=\"6s\" fill=\"freeze\" from=\"100\" to=\"0\" /> \n",
              "    <animate attributeName=\"width\" attributeType=\"XML\" begin=\"0s\" dur=\"6s\" fill=\"freeze\" from=\"300\" to=\"800\" /> \n",
              "    <animate attributeName=\"height\" attributeType=\"XML\" begin=\"0s\" dur=\"6s\" fill=\"freeze\" from=\"100\" to=\"300\" /> \n",
              "    <animate attributeName=\"fill\" attributeType=\"CSS\" from=\"lime\" to=\"red\" begin=\"2s\" dur=\"4s\" fill=\"freeze\" />\n",
              "  </rect>\n",
              "  <g transform=\"translate(100,100)\"> \n",
              "    <text id=\"TextElement\" x=\"0\" y=\"0\" style=\"font-family:Verdana;font-size:24; visibility:hidden\"> It's SVG!\n",
              "      <set attributeName=\"visibility\" attributeType=\"CSS\" to=\"visible\" begin=\"1s\" dur=\"5s\" fill=\"freeze\" />\n",
              "      <animateMotion path=\"M 0 0 L 100 100\" begin=\"1s\" dur=\"5s\" fill=\"freeze\" />\n",
              "      <animate attributeName=\"fill\" attributeType=\"CSS\" from=\"red\" to=\"blue\" begin=\"1s\" dur=\"5s\" fill=\"freeze\" /> \n",
              "      <animateTransform attributeName=\"transform\" attributeType=\"XML\" type=\"rotate\" from=\"-30\" to=\"0\" begin=\"1s\" dur=\"5s\" fill=\"freeze\" /> \n",
              "      <animateTransform attributeName=\"transform\" attributeType=\"XML\" type=\"scale\" from=\"1\" to=\"3\" additive=\"sum\" begin=\"1s\" dur=\"5s\" fill=\"freeze\" /> \n",
              "    </text> \n",
              "  </g>\n",
              "</svg>"
            ],
            "text/plain": [
              "<IPython.core.display.HTML object>"
            ]
          },
          "metadata": {
            "tags": []
          }
        }
      ]
    },
    {
      "cell_type": "markdown",
      "metadata": {
        "id": "0BAWdO-BfgxF"
      },
      "source": [
        "# background-image\n",
        "で inline で svg を入れるやりかた。\n"
      ]
    },
    {
      "cell_type": "code",
      "metadata": {
        "id": "8OS3OF5HitRY",
        "colab": {
          "base_uri": "https://localhost:8080/",
          "height": 217
        },
        "outputId": "1afde472-51a7-46bd-a457-f9dfc7fc25d6"
      },
      "source": [
        "# urlにsvgコードを組み込む\n",
        "%%html\n",
        "<style>\n",
        "    .box {\n",
        "        width: 600px;\n",
        "        height: 200px;\n",
        "        background-image:\n",
        "            /* url(\"data:image/svg+xml;utf8,<svg xmlns='http://www.w3.org/2000/svg' width='40' height='40'><circle cx='50' cy='50' r='40' stroke='black' stroke-width='3' fill='red'/></svg>\"); */\n",
        "            url(\"data:image/svg+xml;utf8,<svg xmlns='http://www.w3.org/2000/svg' width='40' height='40'><circle cx='50' cy='50' r='40' stroke='black' stroke-width='3' fill='red'/></svg>\");\n",
        "    }\n",
        "</style>\n",
        "<div class=\"container\">\n",
        "    <div class=\"box\">BOX</div>\n",
        "</div>"
      ],
      "execution_count": null,
      "outputs": [
        {
          "output_type": "display_data",
          "data": {
            "text/html": [
              "<style>\n",
              "    .box {\n",
              "        width: 600px;\n",
              "        height: 200px;\n",
              "        background-image:\n",
              "            /* url(\"data:image/svg+xml;utf8,<svg xmlns='http://www.w3.org/2000/svg' width='40' height='40'><circle cx='50' cy='50' r='40' stroke='black' stroke-width='3' fill='red'/></svg>\"); */\n",
              "            url(\"data:image/svg+xml;utf8,<svg width='40' height='40'><circle cx='50' cy='50' r='40' stroke='black' stroke-width='3' fill='red'/></svg>\");\n",
              "    }\n",
              "</style>\n",
              "<div class=\"container\">\n",
              "    <div class=\"box\">BOX</div>\n",
              "</div>"
            ],
            "text/plain": [
              "<IPython.core.display.HTML object>"
            ]
          },
          "metadata": {
            "tags": []
          }
        }
      ]
    },
    {
      "cell_type": "code",
      "metadata": {
        "id": "FNMrORHukt5z",
        "colab": {
          "base_uri": "https://localhost:8080/",
          "height": 217
        },
        "outputId": "9b4608b2-1bc7-42e6-ad05-6a956f381ccd"
      },
      "source": [
        "%%html\n",
        "<style>\n",
        "    .box {\n",
        "        width: 600px;\n",
        "        height: 200px;\n",
        "        background-image:\n",
        "            url(\"data:image/svg+xml;utf8,<svg xmlns='http://www.w3.org/2000/svg' width='20' height='20'> <rect fill='red' x='0' y='0' width='90%' height='90%'/> </svg>\");\n",
        "        }\n",
        "</style>\n",
        "<div class=\"container\">\n",
        "    <div class=\"box\">BOX</div>\n",
        "</div>"
      ],
      "execution_count": null,
      "outputs": [
        {
          "output_type": "display_data",
          "data": {
            "text/html": [
              "<style>\n",
              "    .box {\n",
              "        width: 600px;\n",
              "        height: 200px;\n",
              "        background-image:\n",
              "            url(\"data:image/svg+xml;utf8,<svg xmlns='http://www.w3.org/2000/svg' width='20' height='20'> <rect fill='red' x='0' y='0' width='90%' height='90%'/> </svg>\");\n",
              "        }\n",
              "</style>\n",
              "<div class=\"container\">\n",
              "    <div class=\"box\">BOX</div>\n",
              "</div>"
            ],
            "text/plain": [
              "<IPython.core.display.HTML object>"
            ]
          },
          "metadata": {
            "tags": []
          }
        }
      ]
    },
    {
      "cell_type": "code",
      "metadata": {
        "id": "EAuptu-jl2x4",
        "colab": {
          "base_uri": "https://localhost:8080/",
          "height": 147
        },
        "outputId": "43c392a6-9943-4743-c97c-def40c7f4c75"
      },
      "source": [
        "%%html\n",
        "<svg xmlns=\"http://www.w3.org/2000/svg\" xmlns:xlink=\"http://www.w3.org/1999/xlink\" id=\"inline-monaural-sound-logomark\"\n",
        "    x=\"0px\" y=\"0px\" width=\"155px\" height=\"155px\" viewBox=\"0 0 155 155\" enable-background=\"new 0 0 155 155\">\n",
        "    <polygon id=\"inline-ms-logomark-line\" fill-rule=\"evenodd\" clip-rule=\"evenodd\" fill=\"#0CB9C7\"\n",
        "        points=\"128.25,26 147.19,96.69 95.44,148.44 24.75,129.5 5.81,58.81 57.56,7.06 \" />\n",
        "    <path id=\"inline-ms-logomark-mask\" fill-rule=\"evenodd\" clip-rule=\"evenodd\" fill=\"#FFFFFF\"\n",
        "        d=\"M142.21,78.07l-8.35-31.14c-1.28-1.4-2.49-2.54-3.63-3.42c-2-1.54-4.85-2.33-8.59-2.33c-4.11,0-7.45,1.02-9.99,3.06c-2.57,2.04-3.82,4.69-3.82,7.89c0,2.79,1,5.24,3.02,7.36c2.03,2.16,5.77,4.17,11.22,6.09c5.42,1.92,9.67,3.87,12.69,5.85C137.79,73.44,140.27,75.65,142.21,78.07z M106.08,84.88v4.59c0,11.6,4.86,17.36,14.62,17.36c4.31,0,7.72-1.54,10.27-4.63c2.33-2.85,3.59-6.7,3.77-11.52c-0.32-1.22-0.8-2.44-1.43-3.67c-1.26-2.45-2.83-4.46-4.71-6.03s-5.22-3.2-9.96-4.86c-3.37-1.16-6.22-2.32-8.53-3.48c-0.92-6.58-3.5-12.08-7.76-16.54c-2.15-2.27-4.58-4.08-7.27-5.44c0.29-5.52,2.7-10.3,7.3-14.28c4.91-4.25,10.84-6.38,17.83-6.38c3.14,0,6.31,0.49,9.51,1.48L128.25,26L57.56,7.06L5.81,58.81l3.9,14.55c1.1-5.18,3.47-9.64,7.08-13.38c5.17-5.35,11.79-8.03,19.82-8.03c8.21,0,14.86,2.68,19.93,8.03c0.37,0.39,0.73,0.78,1.08,1.19c0.35-0.41,0.71-0.8,1.09-1.19c5.17-5.35,11.79-8.03,19.82-8.03c8.21,0,14.86,2.68,19.93,8.03c5.1,5.35,7.62,12.31,7.62,20.95V84.88z M100.46,111.97c-4.27-4.48-6.73-10.08-7.42-16.87l-0.2,0.04v-4.12v-6.14v-2.4c0-11.6-4.86-17.36-14.62-17.36c-4.31,0-7.72,1.55-10.27,4.63c-2.52,3.09-3.79,7.34-3.79,12.73V120H50.92V82.48c0-11.6-4.86-17.36-14.62-17.36c-4.31,0-7.72,1.55-10.27,4.63c-2.52,3.09-3.79,7.34-3.79,12.73V120H22.2l2.55,9.5l70.69,18.94l28.64-28.64c-1.19,0.13-2.43,0.2-3.69,0.2C112.18,120,105.53,117.32,100.46,111.97z\" />\n",
        "    <polygon id=\"inline-ms-logomark-stroke\" fill-rule=\"evenodd\" clip-rule=\"evenodd\" fill=\"none\" stroke=\"#7D7D7D\"\n",
        "        stroke-linecap=\"round\" stroke-linejoin=\"round\" stroke-miterlimit=\"10\"\n",
        "        points=\"128.25,26 147.19,96.69 95.44,148.44 24.75,129.5 5.81,58.81 57.56,7.06 \" />\n",
        "</svg>\n",
        "<script>\n",
        "    var svg_img = document.getElementById('inline-monaural-sound-logomark');\n",
        "    svg_img.setAttribute('width', '128');\n",
        "    svg_img.setAttribute('height', '128');\n",
        "    svg_img.onmouseover = changeHoverColor;\n",
        "    svg_img.onmouseout = changeDefaultColor;\n",
        "    function changeHoverColor() {\n",
        "        document.getElementById('inline-ms-logomark-line').setAttribute('fill', '#FFFFFF');\n",
        "        document.getElementById('inline-ms-logomark-mask').setAttribute('fill', '#0CB9C7');\n",
        "        document.getElementById('inline-ms-logomark-stroke').setAttribute('stroke', '#0CB9C7');\n",
        "    }\n",
        "    function changeDefaultColor() {\n",
        "        document.getElementById('inline-ms-logomark-line').setAttribute('fill', '#0CB9C7');\n",
        "        document.getElementById('inline-ms-logomark-mask').setAttribute('fill', '#FFFFFF');\n",
        "        document.getElementById('inline-ms-logomark-stroke').setAttribute('stroke', '#7D7D7D');\n",
        "    }\n",
        "</script>"
      ],
      "execution_count": null,
      "outputs": [
        {
          "output_type": "display_data",
          "data": {
            "text/html": [
              "<svg xmlns=\"http://www.w3.org/2000/svg\" xmlns:xlink=\"http://www.w3.org/1999/xlink\" id=\"inline-monaural-sound-logomark\"\n",
              "    x=\"0px\" y=\"0px\" width=\"155px\" height=\"155px\" viewBox=\"0 0 155 155\" enable-background=\"new 0 0 155 155\">\n",
              "    <polygon id=\"inline-ms-logomark-line\" fill-rule=\"evenodd\" clip-rule=\"evenodd\" fill=\"#0CB9C7\"\n",
              "        points=\"128.25,26 147.19,96.69 95.44,148.44 24.75,129.5 5.81,58.81 57.56,7.06 \" />\n",
              "    <path id=\"inline-ms-logomark-mask\" fill-rule=\"evenodd\" clip-rule=\"evenodd\" fill=\"#FFFFFF\"\n",
              "        d=\"M142.21,78.07l-8.35-31.14c-1.28-1.4-2.49-2.54-3.63-3.42c-2-1.54-4.85-2.33-8.59-2.33c-4.11,0-7.45,1.02-9.99,3.06c-2.57,2.04-3.82,4.69-3.82,7.89c0,2.79,1,5.24,3.02,7.36c2.03,2.16,5.77,4.17,11.22,6.09c5.42,1.92,9.67,3.87,12.69,5.85C137.79,73.44,140.27,75.65,142.21,78.07z M106.08,84.88v4.59c0,11.6,4.86,17.36,14.62,17.36c4.31,0,7.72-1.54,10.27-4.63c2.33-2.85,3.59-6.7,3.77-11.52c-0.32-1.22-0.8-2.44-1.43-3.67c-1.26-2.45-2.83-4.46-4.71-6.03s-5.22-3.2-9.96-4.86c-3.37-1.16-6.22-2.32-8.53-3.48c-0.92-6.58-3.5-12.08-7.76-16.54c-2.15-2.27-4.58-4.08-7.27-5.44c0.29-5.52,2.7-10.3,7.3-14.28c4.91-4.25,10.84-6.38,17.83-6.38c3.14,0,6.31,0.49,9.51,1.48L128.25,26L57.56,7.06L5.81,58.81l3.9,14.55c1.1-5.18,3.47-9.64,7.08-13.38c5.17-5.35,11.79-8.03,19.82-8.03c8.21,0,14.86,2.68,19.93,8.03c0.37,0.39,0.73,0.78,1.08,1.19c0.35-0.41,0.71-0.8,1.09-1.19c5.17-5.35,11.79-8.03,19.82-8.03c8.21,0,14.86,2.68,19.93,8.03c5.1,5.35,7.62,12.31,7.62,20.95V84.88z M100.46,111.97c-4.27-4.48-6.73-10.08-7.42-16.87l-0.2,0.04v-4.12v-6.14v-2.4c0-11.6-4.86-17.36-14.62-17.36c-4.31,0-7.72,1.55-10.27,4.63c-2.52,3.09-3.79,7.34-3.79,12.73V120H50.92V82.48c0-11.6-4.86-17.36-14.62-17.36c-4.31,0-7.72,1.55-10.27,4.63c-2.52,3.09-3.79,7.34-3.79,12.73V120H22.2l2.55,9.5l70.69,18.94l28.64-28.64c-1.19,0.13-2.43,0.2-3.69,0.2C112.18,120,105.53,117.32,100.46,111.97z\" />\n",
              "    <polygon id=\"inline-ms-logomark-stroke\" fill-rule=\"evenodd\" clip-rule=\"evenodd\" fill=\"none\" stroke=\"#7D7D7D\"\n",
              "        stroke-linecap=\"round\" stroke-linejoin=\"round\" stroke-miterlimit=\"10\"\n",
              "        points=\"128.25,26 147.19,96.69 95.44,148.44 24.75,129.5 5.81,58.81 57.56,7.06 \" />\n",
              "</svg>\n",
              "<script>\n",
              "    var svg_img = document.getElementById('inline-monaural-sound-logomark');\n",
              "    svg_img.setAttribute('width', '128');\n",
              "    svg_img.setAttribute('height', '128');\n",
              "    svg_img.onmouseover = changeHoverColor;\n",
              "    svg_img.onmouseout = changeDefaultColor;\n",
              "    function changeHoverColor() {\n",
              "        document.getElementById('inline-ms-logomark-line').setAttribute('fill', '#FFFFFF');\n",
              "        document.getElementById('inline-ms-logomark-mask').setAttribute('fill', '#0CB9C7');\n",
              "        document.getElementById('inline-ms-logomark-stroke').setAttribute('stroke', '#0CB9C7');\n",
              "    }\n",
              "    function changeDefaultColor() {\n",
              "        document.getElementById('inline-ms-logomark-line').setAttribute('fill', '#0CB9C7');\n",
              "        document.getElementById('inline-ms-logomark-mask').setAttribute('fill', '#FFFFFF');\n",
              "        document.getElementById('inline-ms-logomark-stroke').setAttribute('stroke', '#7D7D7D');\n",
              "    }\n",
              "</script>"
            ],
            "text/plain": [
              "<IPython.core.display.HTML object>"
            ]
          },
          "metadata": {
            "tags": []
          }
        }
      ]
    },
    {
      "cell_type": "code",
      "metadata": {
        "id": "Y8iWe-ZFmUAG",
        "colab": {
          "base_uri": "https://localhost:8080/",
          "height": 175
        },
        "outputId": "81999d44-24cd-4b5a-e7e9-2d612d217836"
      },
      "source": [
        "%%html\n",
        "<!-- <svg xmlns=\"http://www.w3.org/2000/svg\" xmlns:xlink=\"http://www.w3.org/1999/xlink\" id=\"inline-monaural-sound-logomark\"\n",
        "    x=\"0px\" y=\"0px\" width=\"155px\" height=\"155px\" viewBox=\"0 0 155 155\" enable-background=\"new 0 0 155 155\">\n",
        "    <polygon id=\"inline-ms-logomark-line\" fill-rule=\"evenodd\" clip-rule=\"evenodd\" fill=\"#0CB9C7\"\n",
        "        points=\"128.25,26 147.19,96.69 95.44,148.44 24.75,129.5 5.81,58.81 57.56,7.06 \" />\n",
        "</svg> -->\n",
        "<svg xmlns=\"http://www.w3.org/2000/svg\" \n",
        "    width=\"155px\" height=\"155px\" viewBox=\"0 0 155 155\" >\n",
        "    <polygon id=\"inline-ms-logomark-line\" fill-rule=\"evenodd\" clip-rule=\"evenodd\" fill=\"#0CB9C7\"\n",
        "        points=\"128.25,26 147.19,96.69 95.44,148.44 24.75,129.5 5.81,58.81 57.56,7.06 \" />\n",
        "</svg>\n",
        "<!-- background-image:\n",
        "            url(\"data:image/svg+xml;utf8, -->\n",
        "<svg xmlns='http://www.w3.org/2000/svg' width='20' height='20'>\n",
        "    <rect fill='red' x='0' y='0' width='90%' height='90%' />\n",
        "</svg>\n",
        "<svg xmlns=\"http://www.w3.org/2000/svg\" \n",
        "    width=\"100px\" height=\"100px\" viewBox=\"0 0 1000 1000\" >\n",
        "    <polygon id=\"inline-ms-logomark-line\" fill-rule=\"evenodd\" clip-rule=\"evenodd\" fill=\"#0CB9C7\"\n",
        "        points=\"128.25,26 147.19,96.69 95.44,148.44 24.75,129.5 5.81,58.81 57.56,7.06 \" /> \n",
        "</svg>"
      ],
      "execution_count": null,
      "outputs": [
        {
          "output_type": "display_data",
          "data": {
            "text/html": [
              "<!-- <svg xmlns=\"http://www.w3.org/2000/svg\" xmlns:xlink=\"http://www.w3.org/1999/xlink\" id=\"inline-monaural-sound-logomark\"\n",
              "    x=\"0px\" y=\"0px\" width=\"155px\" height=\"155px\" viewBox=\"0 0 155 155\" enable-background=\"new 0 0 155 155\">\n",
              "    <polygon id=\"inline-ms-logomark-line\" fill-rule=\"evenodd\" clip-rule=\"evenodd\" fill=\"#0CB9C7\"\n",
              "        points=\"128.25,26 147.19,96.69 95.44,148.44 24.75,129.5 5.81,58.81 57.56,7.06 \" />\n",
              "</svg> -->\n",
              "<svg xmlns=\"http://www.w3.org/2000/svg\" \n",
              "    width=\"155px\" height=\"155px\" viewBox=\"0 0 155 155\" >\n",
              "    <polygon id=\"inline-ms-logomark-line\" fill-rule=\"evenodd\" clip-rule=\"evenodd\" fill=\"#0CB9C7\"\n",
              "        points=\"128.25,26 147.19,96.69 95.44,148.44 24.75,129.5 5.81,58.81 57.56,7.06 \" />\n",
              "</svg>\n",
              "<!-- background-image:\n",
              "            url(\"data:image/svg+xml;utf8, -->\n",
              "<svg xmlns='http://www.w3.org/2000/svg' width='20' height='20'>\n",
              "    <rect fill='red' x='0' y='0' width='90%' height='90%' />\n",
              "</svg>\n",
              "<svg xmlns=\"http://www.w3.org/2000/svg\" \n",
              "    width=\"100px\" height=\"100px\" viewBox=\"0 0 1000 1000\" >\n",
              "    <polygon id=\"inline-ms-logomark-line\" fill-rule=\"evenodd\" clip-rule=\"evenodd\" fill=\"#0CB9C7\"\n",
              "        points=\"128.25,26 147.19,96.69 95.44,148.44 24.75,129.5 5.81,58.81 57.56,7.06 \" /> \n",
              "</svg>"
            ],
            "text/plain": [
              "<IPython.core.display.HTML object>"
            ]
          },
          "metadata": {
            "tags": []
          }
        }
      ]
    },
    {
      "cell_type": "code",
      "metadata": {
        "id": "z4Dy6MzfwrNo",
        "colab": {
          "base_uri": "https://localhost:8080/",
          "height": 217
        },
        "outputId": "9b877871-2d92-4aab-b909-a5003c8b47ff"
      },
      "source": [
        "%%html\n",
        "<style>\n",
        "    .box {\n",
        "        width: 600px;\n",
        "        height: 200px;\n",
        "        background-image:\n",
        "            url(\"data:image/svg+xml;utf8,<svg xmlns='http://www.w3.org/2000/svg' width='50' height='50' viewBox='0 0 200 200'> <polygon id='inline-ms-logomark-line' fill='cornflowerblue' points='128.25,26 147.19,96.69 95.44,148.44 24.75,129.5 5.81,58.81 57.56,7.06' width='90%' height='90%'/> </svg>\");\n",
        "        }\n",
        "</style>\n",
        "<div class=\"container\">\n",
        "    <div class=\"box\">BOX</div>\n",
        "</div>"
      ],
      "execution_count": null,
      "outputs": [
        {
          "output_type": "display_data",
          "data": {
            "text/html": [
              "<style>\n",
              "    .box {\n",
              "        width: 600px;\n",
              "        height: 200px;\n",
              "        background-image:\n",
              "            url(\"data:image/svg+xml;utf8,<svg xmlns='http://www.w3.org/2000/svg' width='50' height='50' viewBox='0 0 200 200'> <polygon id='inline-ms-logomark-line' fill='cornflowerblue' points='128.25,26 147.19,96.69 95.44,148.44 24.75,129.5 5.81,58.81 57.56,7.06' width='90%' height='90%'/> </svg>\");\n",
              "        }\n",
              "</style>\n",
              "<div class=\"container\">\n",
              "    <div class=\"box\">BOX</div>\n",
              "</div>"
            ],
            "text/plain": [
              "<IPython.core.display.HTML object>"
            ]
          },
          "metadata": {
            "tags": []
          }
        }
      ]
    },
    {
      "cell_type": "code",
      "metadata": {
        "id": "rp8d02MMpjjK",
        "colab": {
          "base_uri": "https://localhost:8080/",
          "height": 658
        },
        "outputId": "654293c4-ee48-40d3-cbb1-c4446ab7bf29"
      },
      "source": [
        "%%html\n",
        "<!-- 円 -->\n",
        "<svg width=\"600\" height=\"100\" viewBox=\"0 0 600 100\">\n",
        "    <circle cx=\"100\" cy=\"50\" r=\"50\" fill=\"red\"></circle>\n",
        "    <!-- cx=中心のx座標 cy=中心のy座標 r=半径 -->\n",
        "</svg>\n",
        "<!-- 楕円 -->\n",
        "<svg width=\"600\" height=\"100\" viewBox=\"0 0 600 100\">\n",
        "    <ellipse cx=\"100\" cy=\"50\" rx=\"100\" ry=\"50\" fill=\"blue\"></ellipse>\n",
        "    <!-- cx=中心のx座標 cy=中心のy座標 rx=半径x方向 ry=半径y方向 -->\n",
        "</svg>\n",
        "<!-- 長方形 -->\n",
        "<svg width=\"600\" height=\"100\" viewBox=\"0 0 600 100\">\n",
        "    <rect x=\"50\" y=\"25\" width=\"100\" height=\"50\" rx=\"10\" ry=\"10\" fill=\"green\"></rect>\n",
        "    <!-- x=始点のx座標 y=始点のy座標 rx=角の丸みx方向 ry=角の丸みy方向 -->\n",
        "</svg>\n",
        "<!-- 直線 -->\n",
        "<svg width=\"600\" height=\"150\" viewBox=\"0 0 600 150\">\n",
        "    <line x1=\"50\" y1=\"0\" x2=\"200\" y2=\"150\" stroke=\"#000\"></line>\n",
        "    <!-- x1=始点のx座標 y1=始点のy座標 x2=終点のx座標 y2=終点のy座表 -->\n",
        "</svg>\n",
        "<!-- 折れ線 -->\n",
        "<svg width=\"600\" height=\"150\" viewBox=\"0 0 600 150\">\n",
        "    <polyline points=\"50,25 50,75 100,75 100,125 150,125\" stroke=\"#000\" fill=\"none\"></polyline>\n",
        "    <!-- points=始点のx座標 y座標 次点のx座標 y座標 ～ 終点のx座標 y座標 -->\n",
        "</svg>\n",
        "<!-- 多角形 -->\n",
        "<svg width=\"600\" height=\"180\" viewBox=\"0 0 600 180\">\n",
        "    <polygon points=\"0,50 75,0 150,50 150,150 0,150\" fill=\"yellow\"></polygon>\n",
        "    <!-- polylineと同様。但し、始点と終点がつながる -->\n",
        "</svg>\n",
        "<!-- 複雑な形状 -->\n",
        "<svg width=\"600\" height=\"200\" viewBox=\"0 0 600 200\">\n",
        "    <path d=\"M25,25 L150,150 C200,200 250,50 50,25 Z\"></path>\n",
        "    <!-- M=始点のx座標 y座標 L=直線で次点のx座標 y座標 C=曲線で次点、中間2点のx座標 y座標 Z=閉じる -->\n",
        "</svg>"
      ],
      "execution_count": null,
      "outputs": [
        {
          "output_type": "display_data",
          "data": {
            "text/html": [
              "<!-- 円 -->\n",
              "<svg width=\"600\" height=\"100\" viewBox=\"0 0 600 100\">\n",
              "    <circle cx=\"100\" cy=\"50\" r=\"50\" fill=\"red\"></circle>\n",
              "    <!-- cx=中心のx座標 cy=中心のy座標 r=半径 -->\n",
              "</svg>\n",
              "<!-- 楕円 -->\n",
              "<svg width=\"600\" height=\"100\" viewBox=\"0 0 600 100\">\n",
              "    <ellipse cx=\"100\" cy=\"50\" rx=\"100\" ry=\"50\" fill=\"blue\"></ellipse>\n",
              "    <!-- cx=中心のx座標 cy=中心のy座標 rx=半径x方向 ry=半径y方向 -->\n",
              "</svg>\n",
              "<!-- 長方形 -->\n",
              "<svg width=\"600\" height=\"100\" viewBox=\"0 0 600 100\">\n",
              "    <rect x=\"50\" y=\"25\" width=\"100\" height=\"50\" rx=\"10\" ry=\"10\" fill=\"green\"></rect>\n",
              "    <!-- x=始点のx座標 y=始点のy座標 rx=角の丸みx方向 ry=角の丸みy方向 -->\n",
              "</svg>\n",
              "<!-- 直線 -->\n",
              "<svg width=\"600\" height=\"150\" viewBox=\"0 0 600 150\">\n",
              "    <line x1=\"50\" y1=\"0\" x2=\"200\" y2=\"150\" stroke=\"#000\"></line>\n",
              "    <!-- x1=始点のx座標 y1=始点のy座標 x2=終点のx座標 y2=終点のy座表 -->\n",
              "</svg>\n",
              "<!-- 折れ線 -->\n",
              "<svg width=\"600\" height=\"150\" viewBox=\"0 0 600 150\">\n",
              "    <polyline points=\"50,25 50,75 100,75 100,125 150,125\" stroke=\"#000\" fill=\"none\"></polyline>\n",
              "    <!-- points=始点のx座標 y座標 次点のx座標 y座標 ～ 終点のx座標 y座標 -->\n",
              "</svg>\n",
              "<!-- 多角形 -->\n",
              "<svg width=\"600\" height=\"180\" viewBox=\"0 0 600 180\">\n",
              "    <polygon points=\"0,50 75,0 150,50 150,150 0,150\" fill=\"yellow\"></polygon>\n",
              "    <!-- polylineと同様。但し、始点と終点がつながる -->\n",
              "</svg>\n",
              "<!-- 複雑な形状 -->\n",
              "<svg width=\"600\" height=\"200\" viewBox=\"0 0 600 200\">\n",
              "    <path d=\"M25,25 L150,150 C200,200 250,50 50,25 Z\"></path>\n",
              "    <!-- M=始点のx座標 y座標 L=直線で次点のx座標 y座標 C=曲線で次点、中間2点のx座標 y座標 Z=閉じる -->\n",
              "</svg>"
            ],
            "text/plain": [
              "<IPython.core.display.HTML object>"
            ]
          },
          "metadata": {
            "tags": []
          }
        }
      ]
    },
    {
      "cell_type": "code",
      "metadata": {
        "id": "sB7qkgwdqQg4",
        "colab": {
          "base_uri": "https://localhost:8080/",
          "height": 217
        },
        "outputId": "e1e96788-a107-4c71-8991-86c16ec5be2e"
      },
      "source": [
        "%%html\n",
        "<style>\n",
        "    .container-fluid {\n",
        "        width: 600px;\n",
        "        height: 200px;\n",
        "    }\n",
        "    svg {\n",
        "        position: absolute;\n",
        "        left: 0;\n",
        "        background-color: green;\n",
        "    }\n",
        "</style>\n",
        "<div class=\"container-fluid\">\n",
        "    <svg xmlns=\"http://www.w3.org/2000/svg\" width=\"600\" height=\"200\" viewBox=\"0 0 2000 800\">\n",
        "        <circle cx=\"1000\" cy=\"400\" r=\"100\" style=\"stroke:white;stroke-width:2px;fill:white\" />\n",
        "    </svg>\n",
        "</div>"
      ],
      "execution_count": null,
      "outputs": [
        {
          "output_type": "display_data",
          "data": {
            "text/html": [
              "<style>\n",
              "    .container-fluid {\n",
              "        width: 600px;\n",
              "        height: 200px;\n",
              "    }\n",
              "    svg {\n",
              "        position: absolute;\n",
              "        left: 0;\n",
              "        background-color: green;\n",
              "    }\n",
              "</style>\n",
              "<div class=\"container-fluid\">\n",
              "    <svg xmlns=\"http://www.w3.org/2000/svg\" width=\"600\" height=\"200\" viewBox=\"0 0 2000 800\">\n",
              "        <circle cx=\"1000\" cy=\"400\" r=\"100\" style=\"stroke:white;stroke-width:2px;fill:white\" />\n",
              "    </svg>\n",
              "</div>"
            ],
            "text/plain": [
              "<IPython.core.display.HTML object>"
            ]
          },
          "metadata": {
            "tags": []
          }
        }
      ]
    },
    {
      "cell_type": "code",
      "metadata": {
        "id": "FZClctzaroSb",
        "colab": {
          "base_uri": "https://localhost:8080/",
          "height": 317
        },
        "outputId": "76f7eeb3-4633-4bc8-84a0-bca23acb816c"
      },
      "source": [
        "%%html\n",
        "<style>\n",
        "    .container-fluid {\n",
        "        width: 300px;\n",
        "        height: 300px;\n",
        "    }\n",
        "\n",
        "    object {\n",
        "        position: absolute;\n",
        "        left: 0;\n",
        "        background-color: green;\n",
        "    }\n",
        "</style>\n",
        "<div class=\"container-fluid\">\n",
        "    <object\n",
        "        data=\"data:image/svg+xml;charset=utf-8;base64,PD94bWwgdmVyc2lvbj0iMS4wIiBlbmNvZGluZz0iVVRGLTgiIHN0YW5kYWxvbmU9Im5vIj8+DQo8c3ZnIHhtbG5zPSJodHRwOi8vd3d3LnczLm9yZy8yMDAwL3N2ZyIgdmlld0JveD0iMCAwIDIwMDAgODAwIj4NCjxjaXJjbGUgY3g9IjEwMDAiIGN5PSI0MDAiIHI9IjEwMCIgc3R5bGU9InN0cm9rZTp3aGl0ZTtzdHJva2Utd2lkdGg6MnB4O2ZpbGw6d2hpdGUiIC8+DQo8L3N2Zz4=\"\n",
        "        type=\"image/svg+xml\" width=\"300\" height=\"300\" viewport=\"0 0 600 600\"></object>\n",
        "</div>"
      ],
      "execution_count": null,
      "outputs": [
        {
          "output_type": "display_data",
          "data": {
            "text/html": [
              "<style>\n",
              "    .container-fluid {\n",
              "        width: 300px;\n",
              "        height: 300px;\n",
              "    }\n",
              "\n",
              "    object {\n",
              "        position: absolute;\n",
              "        left: 0;\n",
              "        background-color: green;\n",
              "    }\n",
              "</style>\n",
              "<div class=\"container-fluid\">\n",
              "    <object\n",
              "        data=\"data:image/svg+xml;charset=utf-8;base64,PD94bWwgdmVyc2lvbj0iMS4wIiBlbmNvZGluZz0iVVRGLTgiIHN0YW5kYWxvbmU9Im5vIj8+DQo8c3ZnIHhtbG5zPSJodHRwOi8vd3d3LnczLm9yZy8yMDAwL3N2ZyIgdmlld0JveD0iMCAwIDIwMDAgODAwIj4NCjxjaXJjbGUgY3g9IjEwMDAiIGN5PSI0MDAiIHI9IjEwMCIgc3R5bGU9InN0cm9rZTp3aGl0ZTtzdHJva2Utd2lkdGg6MnB4O2ZpbGw6d2hpdGUiIC8+DQo8L3N2Zz4=\"\n",
              "        type=\"image/svg+xml\" width=\"300\" height=\"300\" viewport=\"0 0 600 600\"></object>\n",
              "</div>"
            ],
            "text/plain": [
              "<IPython.core.display.HTML object>"
            ]
          },
          "metadata": {
            "tags": []
          }
        }
      ]
    },
    {
      "cell_type": "markdown",
      "metadata": {
        "id": "dcQsc2215S05"
      },
      "source": [
        "# BoxySVG を使ってみる"
      ]
    },
    {
      "cell_type": "markdown",
      "metadata": {
        "id": "smy9AntA5j4Q"
      },
      "source": [
        "オンライン SVG エディターに BoxySVG というのがある。  これを使ってみる。 \n",
        "\n",
        "BoxySVG の特徴はエクスポートとかしなくても、描いた画像が同時に SVG として、文字列で見れる。"
      ]
    },
    {
      "cell_type": "markdown",
      "metadata": {
        "id": "YSzpTmau5WiY"
      },
      "source": [
        "上部にメニューバーがある。\n",
        "\n",
        "File, Edit, View, Object, Shape, Tools, Panels, Help\n",
        "\n",
        "左側にツールがアイコンで縦に並んでいる。\n",
        "\n",
        "Transform Tool, Edit Tool, Pan Tool, Quad Bezier Tool, Cubic Bezier Tool, Arc Tool, Freehand Tool, Blob Tool, Text Tool, Text Path Tool, View Tool, Rectangle Tool, Circle Tool, Ellipse Tool, Ring Tool, Pie Tool, Crescent Tool, Triangle Tool, N-gon Tool, Star Tool, Cog Tool, Arrow Tool, Cross Tool, Line Tool, Polyline Tool, Poligon Tool。\n",
        "\n",
        "右側がパネルバーというのかな、縦にパネルを開くボタン(アイコン)がある。 \n",
        "\n",
        "Fill Panel, Stroke Panel, Compositing Panel, Typography Panel, Geometry Panel, Meta Panel, Shape Panel, Arrangement Panel, Objects Panel, Defs Panel, Library Panel, Gnenerators Panel, Export Panel, History Panel, Elements Panel。\n",
        "\n",
        "メニューの Tools と Panels はそれぞれのバーにあるアイコンに対応する。\n",
        "\n",
        "メニューの Files は、New, New from Selected, New from Clipboard, New from URL, Open form Disk, Open form Cloud, Open Recent, Save, Save to Disc as, Save to Cloud as, Import from Disk, Import from URL, Export to Disk, Share, Print, Reload, Close。\n",
        "\n",
        "メニューの Edit は、Undo: Move, Redo, Cut, Copy, Paste, Duplicate, Delete, Select All, Deselect All, Preferences。\n",
        "\n",
        "メニューの Object は、Group, Ungroup, Clip, Unclip, Mask, Unmask, Raise, Lower, Rase to Front, Lower to Back, Rotate +90°, Rotate -90°, Flip X, Flip Y, Remove Transform, Reduce Transform。\n",
        "\n",
        "メニューの Shape は、Grab Paint Color, Reorient, Reverse, Unite, Subtract, Intersect, Exclude, Shape to Path, Stroke to Path, Join Paths, Split Path, Open Path, Close Path, Inset Path, Outset Path, Simplify Path, Complexity Path, Join Nodes, Split Node, Delete Node, Break Node。\n",
        "\n",
        "メニューの Help は、About, Hopepage, Blog, Tutorials, Ideas, Bugs, Questions。\n"
      ]
    },
    {
      "cell_type": "markdown",
      "metadata": {
        "id": "dzeniIWsfQ1U"
      },
      "source": [
        "# いまここ"
      ]
    }
  ]
}