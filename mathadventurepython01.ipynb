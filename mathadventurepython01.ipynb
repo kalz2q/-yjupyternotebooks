{
  "nbformat": 4,
  "nbformat_minor": 0,
  "metadata": {
    "colab": {
      "name": "mathadventurepython01.ipynb",
      "provenance": [],
      "authorship_tag": "ABX9TyPFFPKKvQiwAxtvc+y46fvF",
      "include_colab_link": true
    },
    "kernelspec": {
      "name": "python3",
      "display_name": "Python 3"
    }
  },
  "cells": [
    {
      "cell_type": "markdown",
      "metadata": {
        "id": "view-in-github",
        "colab_type": "text"
      },
      "source": [
        "<a href=\"https://colab.research.google.com/github/kalz2q/mycolabnotebooks/blob/master/mathadventurepython01.ipynb\" target=\"_parent\"><img src=\"https://colab.research.google.com/assets/colab-badge.svg\" alt=\"Open In Colab\"/></a>"
      ]
    },
    {
      "cell_type": "code",
      "metadata": {
        "id": "G-M6Hcp0O80K"
      },
      "source": [
        ""
      ],
      "execution_count": null,
      "outputs": []
    },
    {
      "cell_type": "markdown",
      "metadata": {
        "id": "O9xw3b-wO-c-"
      },
      "source": [
        "# メモ\n",
        "\n",
        "> math adventures with python an illustrated guide ot exploring math with code  \n",
        "> by peter farrel\n",
        "\n",
        "というのを見つけたので、Colab でなぞりながら読んでみる。\n"
      ]
    },
    {
      "cell_type": "markdown",
      "metadata": {
        "id": "8B8HBftZPLyY"
      },
      "source": [
        ""
      ]
    }
  ]
}