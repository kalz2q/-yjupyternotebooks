{
  "nbformat": 4,
  "nbformat_minor": 0,
  "metadata": {
    "colab": {
      "name": "cpp_aribon.ipynb",
      "provenance": [],
      "toc_visible": true,
      "authorship_tag": "ABX9TyOm8CRet2jlpV+QjZeePwSS",
      "include_colab_link": true
    },
    "kernelspec": {
      "name": "python3",
      "display_name": "Python 3"
    },
    "language_info": {
      "name": "python"
    }
  },
  "cells": [
    {
      "cell_type": "markdown",
      "metadata": {
        "id": "view-in-github",
        "colab_type": "text"
      },
      "source": [
        "<a href=\"https://colab.research.google.com/github/kalz2q/mycolabnotebooks/blob/master/cpp_aribon.ipynb\" target=\"_parent\"><img src=\"https://colab.research.google.com/assets/colab-badge.svg\" alt=\"Open In Colab\"/></a>"
      ]
    },
    {
      "cell_type": "markdown",
      "source": [
        "# メモ\n",
        "\n",
        "プログラミングコンテストチャレンジブック 通称 蟻本\n",
        "\n",
        "を読む\n"
      ],
      "metadata": {
        "id": "DnMnMqFHyxIj"
      }
    },
    {
      "cell_type": "code",
      "execution_count": null,
      "metadata": {
        "id": "qpKRzTnXysKV"
      },
      "outputs": [],
      "source": [
        "# どうやって読むか計画\n",
        "# colab で読む\n",
        "# 問題を単純化する"
      ]
    },
    {
      "cell_type": "code",
      "source": [
        "# 問題\n",
        "# p.8 くじびき\n",
        "# 数字が書かれた n 枚の紙切れが袋に入っている\n",
        "# 紙切れを取り出し、数字を見て袋に戻す、を 4 回行い、4 回の紙切れの数字の和が m になっていれば勝ち\n",
        "# 紙切れに書かれている数字が k_1,k_2,...,k_n であった時、和が m になる取り出し方が存在するかを計算し\n",
        "# Yes, No を出力する。\n",
        "# 1 <= n <= 50, 1 <= m <= 10^2, 1 <= k_i <= 10^8\n",
        "# 例1 =>  n, m, k => 3 10 1 3 5 出力 => Yes\n",
        "# 例2 => 3 9 1 3 5 => No"
      ],
      "metadata": {
        "id": "KEF_rwuUzUly"
      },
      "execution_count": null,
      "outputs": []
    },
    {
      "cell_type": "code",
      "source": [
        "# 本の解法例は for ループを 4 回回している。\n",
        "# なぜ 4 回回しているか？ => 4 回の和が m だから\n",
        "# 再帰で解くのが頭の使い方としては簡単ではないか => トライしてみたが考えつかなかった\n",
        "# bit演算で全探索で解くのが頭の使い方としては単純ではないか => トライしてみたがうまく行かなかった\n",
        "# その前に問題の書き方はこれでよいか。あとで読んで分かるか。"
      ],
      "metadata": {
        "id": "xCWQ8spY1gTL"
      },
      "execution_count": null,
      "outputs": []
    },
    {
      "cell_type": "code",
      "source": [
        "# for ループでとりあえず解いてみる 本の解法をなぞった\n",
        "# 問題 p.8 くじびき\n",
        "%%writefile temp.cpp\n",
        "#include <bits/stdc++.h>\n",
        "using namespace std;\n",
        "int main () {\n",
        "    int n, m;\n",
        "    cin >> n >> m;\n",
        "    vector<int> vec(n);\n",
        "    for (int i=0; i < n ; i++) {\n",
        "        cin >> vec.at(i);\n",
        "    }\n",
        "    bool ans = false;\n",
        "    \n",
        "    for (int i=0; i < n ; i++) {\n",
        "        for (int j=0; j < n ; j++) {\n",
        "            for (int k=0; k < n ; k++){\n",
        "                for (int l=0; l < n ; l++){\n",
        "                    if (vec.at(i)+vec.at(j)+vec.at(k)+vec.at(l) == m) ans = true;\n",
        "                }\n",
        "            }\n",
        "        }\n",
        "    }\n",
        "    if (ans) cout << \"Yes\" << endl;\n",
        "    else cout << \"No\" << endl;\n",
        "}"
      ],
      "metadata": {
        "id": "fOw9ygDZ1Wyx",
        "colab": {
          "base_uri": "https://localhost:8080/"
        },
        "outputId": "82d0f3cd-7662-48bd-de2e-2e6872d2e325"
      },
      "execution_count": null,
      "outputs": [
        {
          "output_type": "stream",
          "name": "stdout",
          "text": [
            "Overwriting temp.cpp\n"
          ]
        }
      ]
    },
    {
      "cell_type": "code",
      "source": [
        "!g++ temp.cpp; echo 3 10 1 3 5 |./a.out #=> Yes 1 1 3 5\n",
        "!g++ temp.cpp; echo 3 9 1 3 5 |./a.out #=> No \n",
        "!g++ temp.cpp; echo 3 9 1 3 2 |./a.out #=> Yes 3 3 2 2"
      ],
      "metadata": {
        "colab": {
          "base_uri": "https://localhost:8080/"
        },
        "id": "21oxtk6R3RHF",
        "outputId": "a5b3aa4f-15b2-4167-fb8b-386507596970"
      },
      "execution_count": null,
      "outputs": [
        {
          "output_type": "stream",
          "name": "stdout",
          "text": [
            "Yes\n",
            "No\n",
            "Yes\n"
          ]
        }
      ]
    },
    {
      "cell_type": "code",
      "source": [
        "# 問題 p.21 三角形\n",
        "# n 本の棒がある\n",
        "# そこから 3 本を選んでできるだけ周長の長い三角形を作る\n",
        "# 周長を求める。三角形が作れない場合は 0 を答えとする\n",
        "# 3 <= n <= 100, 1 <= a_i <= 10^6\n",
        "# 入力 5 2 3 4 5 10 => 12 (3,4,5 を選ぶ)\n",
        "# 入力 4 4 5 10 20 => 0"
      ],
      "metadata": {
        "colab": {
          "base_uri": "https://localhost:8080/"
        },
        "id": "PGsHUtRG5zHM",
        "outputId": "8dc9f438-17ed-4556-80e2-a0820a0ddf30"
      },
      "execution_count": null,
      "outputs": [
        {
          "output_type": "stream",
          "name": "stdout",
          "text": [
            "Overwriting temp.cpp\n"
          ]
        }
      ]
    },
    {
      "cell_type": "code",
      "source": [
        "# 問題 p.21 三角形\n",
        "%%writefile temp.cpp\n",
        "#include <bits/stdc++.h>\n",
        "using namespace std;\n",
        "\n",
        "int main () {\n",
        "    int n;\n",
        "    cin >> n;\n",
        "    vector<int> vec(n);\n",
        "    for (int i=0;i < n; i++){\n",
        "        cin >> vec.at(i);\n",
        "    }\n",
        "    int ans = 0; \n",
        "    for (int i=0; i < n; i++){\n",
        "        for (int j=i+1; j < n; j++){\n",
        "            for (int k=j+1; k < n; k++){\n",
        "                int len = vec.at(i) + vec.at(j) + vec.at(k);\n",
        "                int longest = max(vec.at(i), max(vec.at(j), vec.at(k)));\n",
        "                int rest = len - longest;\n",
        "                if (longest < rest) {\n",
        "                    ans = max(ans, len);\n",
        "                }\n",
        "            }\n",
        "        }\n",
        "    } \n",
        "    cout << ans << endl;\n",
        "}"
      ],
      "metadata": {
        "colab": {
          "base_uri": "https://localhost:8080/"
        },
        "id": "Mw_tn12T9m5G",
        "outputId": "ad4716e6-f324-47db-ef21-b64d73ba00eb"
      },
      "execution_count": null,
      "outputs": [
        {
          "output_type": "stream",
          "name": "stdout",
          "text": [
            "Overwriting temp.cpp\n"
          ]
        }
      ]
    },
    {
      "cell_type": "code",
      "source": [
        "!g++ temp.cpp; echo 5 2 3 4 5 10 |./a.out #=> 12 (3,4,5 を選ぶ)\n",
        "!g++ temp.cpp; echo 4 4 5 10 20 |./a.out #=> 0"
      ],
      "metadata": {
        "colab": {
          "base_uri": "https://localhost:8080/"
        },
        "id": "bsv8d2_s9pmF",
        "outputId": "1d7d7ef0-5b9a-4404-cc55-fc7c5faa22b8"
      },
      "execution_count": null,
      "outputs": [
        {
          "output_type": "stream",
          "name": "stdout",
          "text": [
            "12\n",
            "0\n"
          ]
        }
      ]
    },
    {
      "cell_type": "code",
      "source": [
        "# 問題 p.23 Ants POJ No.1852\n",
        "長さ L cm の竿の上をアリが毎秒 1 cm のスピードで歩いている\n",
        "アリが竿の端に到達すると竿の下に落ちる\n",
        "二匹のアリが出会うとそれぞれ反対を向いて戻っていく\n",
        "各アリについて現在の竿の左端からの距離 x は分かるが、どちらの方向を向いているかは分からない\n",
        "すべてのアリが竿から落ちるまでにかかる最小の時間と最大の時間をそれぞれ算出する\n",
        "1 <= L <= 10^6, 1 <= n <= 10^6, 0 <= xi <= L\n",
        "例 L n x => 10 3 2 6 7 => min = 4 (左、右、右) max = 8 (右、右、右)"
      ],
      "metadata": {
        "id": "K5lr6xXCaicr"
      },
      "execution_count": null,
      "outputs": []
    },
    {
      "cell_type": "code",
      "source": [
        "# 問題 p.23 Ants POJ No.1852\n",
        "%%writefile temp.cpp\n",
        "#include <bits/stdc++.h>\n",
        "using namespace std;\n",
        "\n",
        "int main () {\n",
        "    int L, n;\n",
        "    cin >> L >> n;\n",
        "    vector<int> vec(n);\n",
        "    for (int i=0;i < n; i++){\n",
        "        cin >> vec.at(i);\n",
        "    }\n",
        "    \n",
        "    int mintime=0, maxtime=0;\n",
        "    int near, far;\n",
        "\n",
        "    for (int i = 0; i < n; i++){\n",
        "        near = min(vec.at(i), L-vec.at(i));\n",
        "        far = max(vec.at(i), L-vec.at(i));\n",
        "        mintime = max(mintime, near);\n",
        "        maxtime = max(maxtime, far);\n",
        "    }\n",
        "\n",
        "    cout << \"min = \" << mintime << endl;\n",
        "    cout << \"max = \" << maxtime << endl;\n",
        "}"
      ],
      "metadata": {
        "id": "TXA9b0mucBd1",
        "outputId": "42f74b6c-8883-4ef7-ccd0-b623192a1a87",
        "colab": {
          "base_uri": "https://localhost:8080/"
        }
      },
      "execution_count": null,
      "outputs": [
        {
          "output_type": "stream",
          "name": "stdout",
          "text": [
            "Overwriting temp.cpp\n"
          ]
        }
      ]
    },
    {
      "cell_type": "code",
      "source": [
        "!g++ temp.cpp; echo 10 3 2 6 7 |./a.out #=> 4, 8"
      ],
      "metadata": {
        "id": "HOVFioSFepoy",
        "outputId": "3ab39d92-9f67-4b4c-8437-eff2c8ceaa47",
        "colab": {
          "base_uri": "https://localhost:8080/"
        }
      },
      "execution_count": null,
      "outputs": [
        {
          "output_type": "stream",
          "name": "stdout",
          "text": [
            "min = 4\n",
            "max = 8\n"
          ]
        }
      ]
    },
    {
      "cell_type": "markdown",
      "source": [
        "# いまここ"
      ],
      "metadata": {
        "id": "07Tmi0phYCUX"
      }
    },
    {
      "cell_type": "code",
      "source": [
        "# 問題 p.25 ハードルが上がったくじびき\n",
        "# binary search その1\n",
        "%%writefile temp.cpp\n",
        "#include <bits/stdc++.h>\n",
        "using namespace std;\n",
        "\n",
        "bool binary_search (int x, int n, vector<int> vec) {\n",
        "    int l = 0, r = n;\n",
        "    while (r - l >= 1) {\n",
        "        int i = (l + r) / 2;\n",
        "        if (vec.at(i) == x) return true;\n",
        "        else if (vec.at(i) < x) l = i + 1;\n",
        "        else r = i;\n",
        "    }\n",
        "    return false;\n",
        "}\n",
        "\n",
        "int main () {\n",
        "    int n, m;\n",
        "    cin >> n >> m;\n",
        "    vector<int> vec(n);\n",
        "    for (int i=0; i < n ; i++) {\n",
        "        cin >> vec.at(i);\n",
        "    }\n",
        "    sort(vec.begin(), vec.end());\n",
        "\n",
        "    bool ans = false;\n",
        "    \n",
        "    for (int i=0; i < n ; i++) {\n",
        "        for (int j=0; j < n ; j++) {\n",
        "            for (int k=0; k < n ; k++){\n",
        "                if (binary_search(m - vec.at(i) - vec.at(j) - vec.at(k), n, vec)) ans = true;\n",
        "            }\n",
        "        }\n",
        "    }\n",
        "    if (ans) cout << \"Yes\" << endl;\n",
        "    else cout << \"No\" << endl;\n",
        "}"
      ],
      "metadata": {
        "id": "N0StPq_re3Fg",
        "outputId": "1016e316-9733-4e1a-a58d-b3161156b8e1",
        "colab": {
          "base_uri": "https://localhost:8080/"
        }
      },
      "execution_count": 7,
      "outputs": [
        {
          "output_type": "stream",
          "name": "stdout",
          "text": [
            "Overwriting temp.cpp\n"
          ]
        }
      ]
    },
    {
      "cell_type": "code",
      "source": [
        "!g++ temp.cpp; echo 3 10 1 3 5 |./a.out #=> Yes 1 1 3 5\n",
        "!g++ temp.cpp; echo 3 9 1 3 5 |./a.out #=> No \n",
        "!g++ temp.cpp; echo 3 9 1 3 2 |./a.out #=> Yes 3 3 2 2"
      ],
      "metadata": {
        "id": "ZoK8_DGvCfJY",
        "outputId": "44bf674c-9cd2-4824-94f1-a668d3341cc4",
        "colab": {
          "base_uri": "https://localhost:8080/"
        }
      },
      "execution_count": 8,
      "outputs": [
        {
          "output_type": "stream",
          "name": "stdout",
          "text": [
            "Yes\n",
            "No\n",
            "Yes\n"
          ]
        }
      ]
    },
    {
      "cell_type": "code",
      "source": [
        "# 問題 p.25 ハードルが上がったくじびき その 2\n",
        "# binary search その2\n",
        "%%writefile temp.cpp\n",
        "#include <bits/stdc++.h>\n",
        "using namespace std;\n",
        "\n",
        "bool binary_search (int x, int n, vector<int> kk) {\n",
        "    int l = 0, r = n*n;\n",
        "    while (r - l >= 1) {\n",
        "        int i = (l + r) / 2;\n",
        "        if (kk.at(i) == x) return true;\n",
        "        else if (kk.at(i) < x) l = i + 1;\n",
        "        else r = i;\n",
        "    }\n",
        "    return false;\n",
        "}\n",
        "\n",
        "int main () {\n",
        "    int n, m;\n",
        "    cin >> n >> m;\n",
        "    vector<int> vec(n);\n",
        "    for (int i=0; i < n ; i++) {\n",
        "        cin >> vec.at(i);\n",
        "    }\n",
        "    vector<int> kk(n * n);\n",
        "\n",
        "    for (int k = 0; k < n; k++){\n",
        "        for (int l = 0; l < n; l++){\n",
        "            kk.at(k * n + l) = vec.at(k) + vec.at(l);\n",
        "        }\n",
        "    }\n",
        "\n",
        "    sort(kk.begin(), kk.end());\n",
        "\n",
        "    bool ans = false;\n",
        "    \n",
        "    for (int i=0; i < n ; i++) {\n",
        "        for (int j=0; j < n ; j++) {\n",
        "            if (binary_search(m - vec.at(i) - vec.at(j), n, kk)) ans = true;\n",
        "        }\n",
        "    }\n",
        "    if (ans) cout << \"Yes\" << endl;\n",
        "    else cout << \"No\" << endl;\n",
        "}"
      ],
      "metadata": {
        "id": "5qrToL7uDbuH",
        "outputId": "7d86fe55-4c05-4e4e-ba47-61925008adb0",
        "colab": {
          "base_uri": "https://localhost:8080/"
        }
      },
      "execution_count": 15,
      "outputs": [
        {
          "output_type": "stream",
          "name": "stdout",
          "text": [
            "Overwriting temp.cpp\n"
          ]
        }
      ]
    },
    {
      "cell_type": "code",
      "source": [
        "!g++ temp.cpp; echo 3 10 1 3 5 |./a.out #=> Yes 1 1 3 5\n",
        "!g++ temp.cpp; echo 3 9 1 3 5 |./a.out #=> No \n",
        "!g++ temp.cpp; echo 3 9 1 3 2 |./a.out #=> Yes 3 3 2 2"
      ],
      "metadata": {
        "id": "MaL71J3gEEHL",
        "outputId": "5cf4567b-b4ac-40c6-9a43-709748572279",
        "colab": {
          "base_uri": "https://localhost:8080/"
        }
      },
      "execution_count": 16,
      "outputs": [
        {
          "output_type": "stream",
          "name": "stdout",
          "text": [
            "Yes\n",
            "No\n",
            "Yes\n"
          ]
        }
      ]
    },
    {
      "cell_type": "code",
      "source": [
        ""
      ],
      "metadata": {
        "id": "qVeFq2k0GqrH"
      },
      "execution_count": null,
      "outputs": []
    },
    {
      "cell_type": "code",
      "source": [
        ""
      ],
      "metadata": {
        "id": "yh5gJweFGILt"
      },
      "execution_count": null,
      "outputs": []
    }
  ]
}