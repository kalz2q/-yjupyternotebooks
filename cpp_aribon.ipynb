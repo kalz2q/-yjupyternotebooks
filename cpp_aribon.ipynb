{
  "nbformat": 4,
  "nbformat_minor": 0,
  "metadata": {
    "colab": {
      "name": "cpp_aribon.ipynb",
      "provenance": [],
      "authorship_tag": "ABX9TyNrXfo/qzSeHOrBrIYi8sys",
      "include_colab_link": true
    },
    "kernelspec": {
      "name": "python3",
      "display_name": "Python 3"
    },
    "language_info": {
      "name": "python"
    }
  },
  "cells": [
    {
      "cell_type": "markdown",
      "metadata": {
        "id": "view-in-github",
        "colab_type": "text"
      },
      "source": [
        "<a href=\"https://colab.research.google.com/github/kalz2q/mycolabnotebooks/blob/master/cpp_aribon.ipynb\" target=\"_parent\"><img src=\"https://colab.research.google.com/assets/colab-badge.svg\" alt=\"Open In Colab\"/></a>"
      ]
    },
    {
      "cell_type": "markdown",
      "source": [
        "# メモ\n",
        "\n",
        "プログラミングコンテストチャレンジブック 通称 蟻本\n",
        "\n",
        "を読む\n"
      ],
      "metadata": {
        "id": "DnMnMqFHyxIj"
      }
    },
    {
      "cell_type": "code",
      "execution_count": null,
      "metadata": {
        "id": "qpKRzTnXysKV"
      },
      "outputs": [],
      "source": [
        "# どうやって読むか計画\n",
        "# colab で読む\n",
        "# 問題を単純化する"
      ]
    },
    {
      "cell_type": "code",
      "source": [
        "# 問題\n",
        "# p.8 くじびき\n",
        "# 数字が書かれた n 枚の紙切れが袋に入っている\n",
        "# 紙切れを取り出し、数字を見て袋に戻す、を 4 回行い、4 回の紙切れの数字の和が m になっていれば勝ち\n",
        "# 紙切れに書かれている数字が k_1,k_2,...,k_n であった時、和が m になる取り出し方が存在するかを計算し\n",
        "# Yes, No を出力する。\n",
        "# 1 <= n <= 50, 1 <= m <= 10^2, 1 <= k_i <= 10^8\n",
        "# 例1 =>  n, m, k => 3 10 1 3 5 出力 => Yes\n",
        "# 例2 => 3 9 1 3 5 => No"
      ],
      "metadata": {
        "id": "KEF_rwuUzUly"
      },
      "execution_count": null,
      "outputs": []
    },
    {
      "cell_type": "code",
      "source": [
        "# 本の解法例は for ループを 4 回回している。\n",
        "# なぜ 4 回回しているか？ => 4 回の和が m だから\n",
        "# 再帰で解くのが頭の使い方としては簡単ではないか => トライしてみたが考えつかなかった\n",
        "# bit演算で全探索で解くのが頭の使い方としては単純ではないか => トライしてみたがうまく行かなかった\n",
        "# その前に問題の書き方はこれでよいか。あとで読んで分かるか。"
      ],
      "metadata": {
        "id": "xCWQ8spY1gTL"
      },
      "execution_count": null,
      "outputs": []
    },
    {
      "cell_type": "code",
      "source": [
        "# for ループでとりあえず解いてみる 本の解法をなぞった\n",
        "# 問題 p.8 くじびき\n",
        "%%writefile temp.cpp\n",
        "#include <bits/stdc++.h>\n",
        "using namespace std;\n",
        "int main () {\n",
        "    int n, m;\n",
        "    cin >> n >> m;\n",
        "    vector<int> vec(n);\n",
        "    for (int i=0; i < n ; i++) {\n",
        "        cin >> vec.at(i);\n",
        "    }\n",
        "    bool ans = false;\n",
        "    \n",
        "    for (int i=0; i < n ; i++) {\n",
        "        for (int j=0; j < n ; j++) {\n",
        "            for (int k=0; k < n ; k++){\n",
        "                for (int l=0; l < n ; l++){\n",
        "                    if (vec.at(i)+vec.at(j)+vec.at(k)+vec.at(l) == m) ans = true;\n",
        "                }\n",
        "            }\n",
        "        }\n",
        "    }\n",
        "    if (ans) cout << \"Yes\" << endl;\n",
        "    else cout << \"No\" << endl;\n",
        "}"
      ],
      "metadata": {
        "id": "fOw9ygDZ1Wyx",
        "colab": {
          "base_uri": "https://localhost:8080/"
        },
        "outputId": "82d0f3cd-7662-48bd-de2e-2e6872d2e325"
      },
      "execution_count": null,
      "outputs": [
        {
          "output_type": "stream",
          "name": "stdout",
          "text": [
            "Overwriting temp.cpp\n"
          ]
        }
      ]
    },
    {
      "cell_type": "code",
      "source": [
        "!g++ temp.cpp; echo 3 10 1 3 5 |./a.out #=> Yes 1 1 3 5\n",
        "!g++ temp.cpp; echo 3 9 1 3 5 |./a.out #=> No \n",
        "!g++ temp.cpp; echo 3 9 1 3 2 |./a.out #=> Yes 3 3 2 2"
      ],
      "metadata": {
        "colab": {
          "base_uri": "https://localhost:8080/"
        },
        "id": "21oxtk6R3RHF",
        "outputId": "a5b3aa4f-15b2-4167-fb8b-386507596970"
      },
      "execution_count": null,
      "outputs": [
        {
          "output_type": "stream",
          "name": "stdout",
          "text": [
            "Yes\n",
            "No\n",
            "Yes\n"
          ]
        }
      ]
    },
    {
      "cell_type": "code",
      "source": [
        "# 問題 p.21 三角形\n",
        "# n 本の棒がある\n",
        "# そこから 3 本を選んでできるだけ周長の長い三角形を作る\n",
        "# 周長を求める。三角形が作れない場合は 0 を答えとする\n",
        "# 3 <= n <= 100, 1 <= a_i <= 10^6\n",
        "# 入力 5 2 3 4 5 10 => 12 (3,4,5 を選ぶ)\n",
        "# 入力 4 4 5 10 20 => 0"
      ],
      "metadata": {
        "colab": {
          "base_uri": "https://localhost:8080/"
        },
        "id": "PGsHUtRG5zHM",
        "outputId": "8dc9f438-17ed-4556-80e2-a0820a0ddf30"
      },
      "execution_count": null,
      "outputs": [
        {
          "output_type": "stream",
          "name": "stdout",
          "text": [
            "Overwriting temp.cpp\n"
          ]
        }
      ]
    },
    {
      "cell_type": "code",
      "source": [
        "# 問題 p.21 三角形\n",
        "%%writefile temp.cpp\n",
        "#include <bits/stdc++.h>\n",
        "using namespace std;\n",
        "\n",
        "int main () {\n",
        "    int n;\n",
        "    cin >> n;\n",
        "    vector<int> vec(n);\n",
        "    for (int i=0;i < n; i++){\n",
        "        cin >> vec.at(i);\n",
        "    }\n",
        "    int ans = 0; \n",
        "    for (int i=0; i < n; i++){\n",
        "        for (int j=i+1; j < n; j++){\n",
        "            for (int k=j+1; k < n; k++){\n",
        "                int len = vec.at(i) + vec.at(j) + vec.at(k);\n",
        "                int longest = max(vec.at(i), max(vec.at(j), vec.at(k)));\n",
        "                int rest = len - longest;\n",
        "                if (longest < rest) {\n",
        "                    ans = max(ans, len);\n",
        "                }\n",
        "            }\n",
        "        }\n",
        "    } \n",
        "    cout << ans << endl;\n",
        "}"
      ],
      "metadata": {
        "colab": {
          "base_uri": "https://localhost:8080/"
        },
        "id": "Mw_tn12T9m5G",
        "outputId": "ad4716e6-f324-47db-ef21-b64d73ba00eb"
      },
      "execution_count": null,
      "outputs": [
        {
          "output_type": "stream",
          "name": "stdout",
          "text": [
            "Overwriting temp.cpp\n"
          ]
        }
      ]
    },
    {
      "cell_type": "code",
      "source": [
        "!g++ temp.cpp; echo 5 2 3 4 5 10 |./a.out #=> 12 (3,4,5 を選ぶ)\n",
        "!g++ temp.cpp; echo 4 4 5 10 20 |./a.out #=> 0"
      ],
      "metadata": {
        "colab": {
          "base_uri": "https://localhost:8080/"
        },
        "id": "bsv8d2_s9pmF",
        "outputId": "1d7d7ef0-5b9a-4404-cc55-fc7c5faa22b8"
      },
      "execution_count": null,
      "outputs": [
        {
          "output_type": "stream",
          "name": "stdout",
          "text": [
            "12\n",
            "0\n"
          ]
        }
      ]
    },
    {
      "cell_type": "code",
      "source": [
        "# 問題 p.23 Ants POJ No.1852\n",
        "長さ L cm の竿の上をアリが毎秒 1 cm のスピードで歩いている\n",
        "アリが竿の端に到達すると竿の下に落ちる\n",
        "二匹のアリが出会うとそれぞれ反対を向いて戻っていく\n",
        "各アリについて現在の竿の左端からの距離 x は分かるが、どちらの方向を向いているかは分からない\n",
        "すべてのアリが竿から落ちるまでにかかる最小の時間と最大の時間をそれぞれ算出する\n",
        "1 <= L <= 10^6, 1 <= n <= 10^6, 0 <= xi <= L\n",
        "例 L n x => 10 3 2 6 7 => min = 4 (左、右、右) max = 8 (右、右、右)"
      ],
      "metadata": {
        "id": "K5lr6xXCaicr"
      },
      "execution_count": null,
      "outputs": []
    },
    {
      "cell_type": "code",
      "source": [
        "# 問題 p.23 Ants POJ No.1852\n",
        "%%writefile temp.cpp\n",
        "#include <bits/stdc++.h>\n",
        "using namespace std;\n",
        "\n",
        "int main () {\n",
        "    int L, n;\n",
        "    cin >> L >> n;\n",
        "    vector<int> vec(n);\n",
        "    for (int i=0;i < n; i++){\n",
        "        cin >> vec.at(i);\n",
        "    }\n",
        "    \n",
        "    int mintime=0, maxtime=0;\n",
        "    int near, far;\n",
        "\n",
        "    for (int i = 0; i < n; i++){\n",
        "        near = min(vec.at(i), L-vec.at(i));\n",
        "        far = max(vec.at(i), L-vec.at(i));\n",
        "        mintime = max(mintime, near);\n",
        "        maxtime = max(maxtime, far);\n",
        "    }\n",
        "\n",
        "    cout << \"min = \" << mintime << endl;\n",
        "    cout << \"max = \" << maxtime << endl;\n",
        "}"
      ],
      "metadata": {
        "id": "TXA9b0mucBd1",
        "outputId": "42f74b6c-8883-4ef7-ccd0-b623192a1a87",
        "colab": {
          "base_uri": "https://localhost:8080/"
        }
      },
      "execution_count": null,
      "outputs": [
        {
          "output_type": "stream",
          "name": "stdout",
          "text": [
            "Overwriting temp.cpp\n"
          ]
        }
      ]
    },
    {
      "cell_type": "code",
      "source": [
        "!g++ temp.cpp; echo 10 3 2 6 7 |./a.out #=> 4, 8"
      ],
      "metadata": {
        "id": "HOVFioSFepoy",
        "outputId": "3ab39d92-9f67-4b4c-8437-eff2c8ceaa47",
        "colab": {
          "base_uri": "https://localhost:8080/"
        }
      },
      "execution_count": null,
      "outputs": [
        {
          "output_type": "stream",
          "name": "stdout",
          "text": [
            "min = 4\n",
            "max = 8\n"
          ]
        }
      ]
    },
    {
      "cell_type": "code",
      "source": [
        "# 問題 p.25 ハードルが上がったくじびき\n",
        "# binary search その1\n",
        "%%writefile temp.cpp\n",
        "#include <bits/stdc++.h>\n",
        "using namespace std;\n",
        "\n",
        "bool binary_search (int x, int n, vector<int> vec) {\n",
        "    int l = 0, r = n;\n",
        "    while (r - l >= 1) {\n",
        "        int i = (l + r) / 2;\n",
        "        if (vec.at(i) == x) return true;\n",
        "        else if (vec.at(i) < x) l = i + 1;\n",
        "        else r = i;\n",
        "    }\n",
        "    return false;\n",
        "}\n",
        "\n",
        "int main () {\n",
        "    int n, m;\n",
        "    cin >> n >> m;\n",
        "    vector<int> vec(n);\n",
        "    for (int i=0; i < n ; i++) {\n",
        "        cin >> vec.at(i);\n",
        "    }\n",
        "    sort(vec.begin(), vec.end());\n",
        "\n",
        "    bool ans = false;\n",
        "    \n",
        "    for (int i=0; i < n ; i++) {\n",
        "        for (int j=0; j < n ; j++) {\n",
        "            for (int k=0; k < n ; k++){\n",
        "                if (binary_search(m - vec.at(i) - vec.at(j) - vec.at(k), n, vec)) ans = true;\n",
        "            }\n",
        "        }\n",
        "    }\n",
        "    if (ans) cout << \"Yes\" << endl;\n",
        "    else cout << \"No\" << endl;\n",
        "}"
      ],
      "metadata": {
        "id": "N0StPq_re3Fg",
        "outputId": "1016e316-9733-4e1a-a58d-b3161156b8e1",
        "colab": {
          "base_uri": "https://localhost:8080/"
        }
      },
      "execution_count": null,
      "outputs": [
        {
          "output_type": "stream",
          "name": "stdout",
          "text": [
            "Overwriting temp.cpp\n"
          ]
        }
      ]
    },
    {
      "cell_type": "code",
      "source": [
        "!g++ temp.cpp; echo 3 10 1 3 5 |./a.out #=> Yes 1 1 3 5\n",
        "!g++ temp.cpp; echo 3 9 1 3 5 |./a.out #=> No \n",
        "!g++ temp.cpp; echo 3 9 1 3 2 |./a.out #=> Yes 3 3 2 2"
      ],
      "metadata": {
        "id": "ZoK8_DGvCfJY",
        "outputId": "44bf674c-9cd2-4824-94f1-a668d3341cc4",
        "colab": {
          "base_uri": "https://localhost:8080/"
        }
      },
      "execution_count": null,
      "outputs": [
        {
          "output_type": "stream",
          "name": "stdout",
          "text": [
            "Yes\n",
            "No\n",
            "Yes\n"
          ]
        }
      ]
    },
    {
      "cell_type": "code",
      "source": [
        "# 問題 p.25 ハードルが上がったくじびき その 2\n",
        "# binary search その2\n",
        "%%writefile temp.cpp\n",
        "#include <bits/stdc++.h>\n",
        "using namespace std;\n",
        "\n",
        "bool binary_search (int x, int n, vector<int> kk) {\n",
        "    int l = 0, r = n*n;\n",
        "    while (r - l >= 1) {\n",
        "        int i = (l + r) / 2;\n",
        "        if (kk.at(i) == x) return true;\n",
        "        else if (kk.at(i) < x) l = i + 1;\n",
        "        else r = i;\n",
        "    }\n",
        "    return false;\n",
        "}\n",
        "\n",
        "int main () {\n",
        "    int n, m;\n",
        "    cin >> n >> m;\n",
        "    vector<int> vec(n);\n",
        "    for (int i=0; i < n ; i++) {\n",
        "        cin >> vec.at(i);\n",
        "    }\n",
        "    vector<int> kk(n * n);\n",
        "\n",
        "    for (int k = 0; k < n; k++){\n",
        "        for (int l = 0; l < n; l++){\n",
        "            kk.at(k * n + l) = vec.at(k) + vec.at(l);\n",
        "        }\n",
        "    }\n",
        "\n",
        "    sort(kk.begin(), kk.end());\n",
        "\n",
        "    bool ans = false;\n",
        "    \n",
        "    for (int i=0; i < n ; i++) {\n",
        "        for (int j=0; j < n ; j++) {\n",
        "            if (binary_search(m - vec.at(i) - vec.at(j), n, kk)) ans = true;\n",
        "        }\n",
        "    }\n",
        "    if (ans) cout << \"Yes\" << endl;\n",
        "    else cout << \"No\" << endl;\n",
        "}"
      ],
      "metadata": {
        "id": "5qrToL7uDbuH",
        "outputId": "7d86fe55-4c05-4e4e-ba47-61925008adb0",
        "colab": {
          "base_uri": "https://localhost:8080/"
        }
      },
      "execution_count": null,
      "outputs": [
        {
          "output_type": "stream",
          "name": "stdout",
          "text": [
            "Overwriting temp.cpp\n"
          ]
        }
      ]
    },
    {
      "cell_type": "code",
      "source": [
        "!g++ temp.cpp; echo 3 10 1 3 5 |./a.out #=> Yes 1 1 3 5\n",
        "!g++ temp.cpp; echo 3 9 1 3 5 |./a.out #=> No \n",
        "!g++ temp.cpp; echo 3 9 1 3 2 |./a.out #=> Yes 3 3 2 2"
      ],
      "metadata": {
        "id": "MaL71J3gEEHL",
        "outputId": "5cf4567b-b4ac-40c6-9a43-709748572279",
        "colab": {
          "base_uri": "https://localhost:8080/"
        }
      },
      "execution_count": null,
      "outputs": [
        {
          "output_type": "stream",
          "name": "stdout",
          "text": [
            "Yes\n",
            "No\n",
            "Yes\n"
          ]
        }
      ]
    },
    {
      "cell_type": "code",
      "source": [
        "# 再帰 factorial\n",
        "%%writefile temp.cpp\n",
        "#include <bits/stdc++.h>\n",
        "using namespace std;\n",
        "\n",
        "long fact(long n) {\n",
        "    if (n == 0) return 1;\n",
        "    else return n * fact(n - 1);\n",
        "}\n",
        "\n",
        "int main () {\n",
        "    cout << fact(5) << endl;\n",
        "    cout << fact(7) << endl;\n",
        "    cout << fact(42) << endl;\n",
        "}"
      ],
      "metadata": {
        "id": "qVeFq2k0GqrH",
        "colab": {
          "base_uri": "https://localhost:8080/"
        },
        "outputId": "b3dbe845-40ba-447b-86d0-6e9220d7c52c"
      },
      "execution_count": null,
      "outputs": [
        {
          "output_type": "stream",
          "name": "stdout",
          "text": [
            "Overwriting temp.cpp\n"
          ]
        }
      ]
    },
    {
      "cell_type": "code",
      "source": [
        "!g++ temp.cpp; ./a.out"
      ],
      "metadata": {
        "id": "yh5gJweFGILt",
        "colab": {
          "base_uri": "https://localhost:8080/"
        },
        "outputId": "6522145d-4433-48e1-c76c-27eb331a5720"
      },
      "execution_count": null,
      "outputs": [
        {
          "output_type": "stream",
          "name": "stdout",
          "text": [
            "120\n",
            "5040\n",
            "7538058755741581312\n"
          ]
        }
      ]
    },
    {
      "cell_type": "code",
      "source": [
        "# メモ探索 fibonacci\n",
        "%%writefile temp.cpp\n",
        "#include <bits/stdc++.h>\n",
        "using namespace std;\n",
        "\n",
        "vector<int> memo(50);\n",
        "\n",
        "int fib(int n) {\n",
        "    if (n <= 1) return n;\n",
        "    else if (memo.at(n) != 0) return memo.at(n);\n",
        "    else return memo.at(n) = fib(n - 1) + fib(n - 2);\n",
        "}\n",
        "\n",
        "int main () {\n",
        "    cout << fib(3) << endl;\n",
        "    cout << fib(7) << endl;\n",
        "    cout << fib(42) << endl;\n",
        "}"
      ],
      "metadata": {
        "colab": {
          "base_uri": "https://localhost:8080/"
        },
        "id": "Fi1035C3KwXN",
        "outputId": "9e740d1b-07c1-442f-cf27-300f9f64eede"
      },
      "execution_count": null,
      "outputs": [
        {
          "output_type": "stream",
          "name": "stdout",
          "text": [
            "Overwriting temp.cpp\n"
          ]
        }
      ]
    },
    {
      "cell_type": "code",
      "source": [
        "!g++ temp.cpp; ./a.out"
      ],
      "metadata": {
        "colab": {
          "base_uri": "https://localhost:8080/"
        },
        "id": "NAYzTC9NL2mT",
        "outputId": "0ed1a773-ed9c-43e2-e599-ef0e27803e39"
      },
      "execution_count": null,
      "outputs": [
        {
          "output_type": "stream",
          "name": "stdout",
          "text": [
            "2\n",
            "13\n",
            "267914296\n"
          ]
        }
      ]
    },
    {
      "cell_type": "code",
      "source": [
        "# スタック\n",
        "# push/pop/top => top が peek で pop は取り除くだけ\n",
        "# 再帰関数はスタックで実現されている"
      ],
      "metadata": {
        "id": "nW5B6nKGL5Cq"
      },
      "execution_count": null,
      "outputs": []
    },
    {
      "cell_type": "code",
      "source": [
        "# スタックの例\n",
        "%%writefile temp.cpp\n",
        "#include <bits/stdc++.h>\n",
        "using namespace std;\n",
        "\n",
        "int main () {\n",
        "    stack<int> s;\n",
        "    s.push(1);\n",
        "    s.push(2);\n",
        "    s.push(3);\n",
        "    cout << s.top() << endl; // 3\n",
        "    s.pop();\n",
        "    cout << s.top() << endl; // 2\n",
        "    s.pop();\n",
        "    cout << s.top() << endl; // 1\n",
        "    s.pop();\n",
        "}"
      ],
      "metadata": {
        "colab": {
          "base_uri": "https://localhost:8080/"
        },
        "id": "b33wWOWDMrrg",
        "outputId": "b27bd536-f3a5-493f-fcd6-4cdbb51d4603"
      },
      "execution_count": null,
      "outputs": [
        {
          "output_type": "stream",
          "name": "stdout",
          "text": [
            "Overwriting temp.cpp\n"
          ]
        }
      ]
    },
    {
      "cell_type": "code",
      "source": [
        "!g++ temp.cpp;./a.out"
      ],
      "metadata": {
        "colab": {
          "base_uri": "https://localhost:8080/"
        },
        "id": "0l6q1PTiPl04",
        "outputId": "3b57f8c0-c197-4876-ca50-ed05e3ed8ea9"
      },
      "execution_count": null,
      "outputs": [
        {
          "output_type": "stream",
          "name": "stdout",
          "text": [
            "3\n",
            "2\n",
            "1\n"
          ]
        }
      ]
    },
    {
      "cell_type": "code",
      "source": [
        "# キュー queue\n",
        "# first in first out\n",
        "# push/pop/front \n",
        "%%writefile temp.cpp\n",
        "#include <bits/stdc++.h>\n",
        "using namespace std;\n",
        "\n",
        "int main () {\n",
        "    queue<int> que;\n",
        "    que.push(1);\n",
        "    que.push(2);\n",
        "    que.push(3);\n",
        "    cout << que.front() << endl; // 1\n",
        "    que.pop();\n",
        "    cout << que.front() << endl; // 2\n",
        "    que.pop();\n",
        "    cout << que.front() << endl; // 3\n",
        "    que.pop();\n",
        "}"
      ],
      "metadata": {
        "colab": {
          "base_uri": "https://localhost:8080/"
        },
        "id": "kiqRPLhzPpC3",
        "outputId": "1882ba1c-3e26-4534-bff7-33f8ef5a634f"
      },
      "execution_count": null,
      "outputs": [
        {
          "output_type": "stream",
          "name": "stdout",
          "text": [
            "Overwriting temp.cpp\n"
          ]
        }
      ]
    },
    {
      "cell_type": "code",
      "source": [
        "!g++ temp.cpp;./a.out"
      ],
      "metadata": {
        "colab": {
          "base_uri": "https://localhost:8080/"
        },
        "id": "NO16EjWaQn7G",
        "outputId": "9624fd13-7031-4371-f69b-1387276eac7b"
      },
      "execution_count": null,
      "outputs": [
        {
          "output_type": "stream",
          "name": "stdout",
          "text": [
            "1\n",
            "2\n",
            "3\n"
          ]
        }
      ]
    },
    {
      "cell_type": "code",
      "source": [
        "# 深さ優先探索 depth-first search\n",
        "# 深さ優先探索はその性質上再帰関数で簡単に書けることが多い"
      ],
      "metadata": {
        "id": "2y4X4utEQpjc"
      },
      "execution_count": null,
      "outputs": []
    },
    {
      "cell_type": "code",
      "source": [
        "# 部分和問題\n",
        "# 深さ優先探索で解く\n",
        "# 整数 a_1,a_2,...,a_n が与えられます。その中からいくつか選びその和をちょうど k にすることが出来るかを判定する。\n",
        "# 1 <= n <= 20, -10^8 <= a_i <= 10^8, -10^8 <= k <= 10^8\n",
        "# 例 n=4, a={1,2,4,7}, k=13 #=> Yes (13 = 2 + 4 + 7)\n",
        "# 4 1 2 4 7 16 #=> No\n",
        "%%writefile temp.cpp\n",
        "#include <bits/stdc++.h>\n",
        "using namespace std;\n",
        "\n",
        "bool dfs(int i, int sum, int n, vector<int> a, int k) {\n",
        "    if (i == n) return sum ==k;\n",
        "    else if (dfs (i + 1, sum, n, a, k)) return true;\n",
        "    else if (dfs (i + 1, sum + a.at(i), n, a, k)) return true;\n",
        "    else return false;\n",
        "}\n",
        "\n",
        "int main () {\n",
        "    int n, k;\n",
        "    cin >> n;\n",
        "    vector<int> a(n);\n",
        "    for (int i = 0; i < n; i++){\n",
        "        cin >> a.at(i);\n",
        "    }\n",
        "    cin >> k;\n",
        "\n",
        "    if (dfs (0, 0, n, a, k)) cout << \"Yes\" << endl;\n",
        "    else cout << \"No\" << endl;\n",
        "\n",
        "}"
      ],
      "metadata": {
        "colab": {
          "base_uri": "https://localhost:8080/"
        },
        "id": "SU8mZk16RBGA",
        "outputId": "b05cdaee-eea2-427b-f0c0-c7251f0d62cc"
      },
      "execution_count": null,
      "outputs": [
        {
          "output_type": "stream",
          "name": "stdout",
          "text": [
            "Overwriting temp.cpp\n"
          ]
        }
      ]
    },
    {
      "cell_type": "code",
      "source": [
        "!g++ temp.cpp; echo 4 1 2 4 7 13 |./a.out #=> Yes (13 = 2 + 4 + 7)\n",
        "!g++ temp.cpp; echo 4 1 2 4 7 15 |./a.out #=> No"
      ],
      "metadata": {
        "colab": {
          "base_uri": "https://localhost:8080/"
        },
        "id": "v3d4Ih6uRBy9",
        "outputId": "123710d5-0a51-4067-b361-cc2d9962d588"
      },
      "execution_count": null,
      "outputs": [
        {
          "output_type": "stream",
          "name": "stdout",
          "text": [
            "Yes\n",
            "No\n"
          ]
        }
      ]
    },
    {
      "cell_type": "markdown",
      "source": [
        "# いまここ"
      ],
      "metadata": {
        "id": "07Tmi0phYCUX"
      }
    },
    {
      "cell_type": "code",
      "source": [
        "# 問題 p.35 Lake Counting POJ No.2386\n",
        "# 大きさが N x M の庭があります。そこに雨が降り、水溜りができました。\n",
        "# 水溜りは 8 近傍で隣接している場合につながっていると見做します。\n",
        "# 全部でいくつの水溜りがあるでしょうか。\n",
        "# 8 近傍とは次の W に対する * の部分を指す。\n",
        "# ***\n",
        "# *W*\n",
        "# ***\n",
        "# 制約 N, M <= 100\n",
        "# 例 N=10, M=12\n",
        "# W........WW.\n",
        "# .WWW.....WWW\n",
        "# ....WW...WW.\n",
        "# .........WW.\n",
        "# .........W..\n",
        "# ..W......W..\n",
        "# .W.W.....WW.\n",
        "# W.W.W.....W.\n",
        "# .W.W......W.\n",
        "# ..W.......W.\n",
        "#=> 3"
      ],
      "metadata": {
        "id": "B7q5tC7EjsmX"
      },
      "execution_count": null,
      "outputs": []
    },
    {
      "cell_type": "code",
      "source": [
        "%%writefile temp.cpp\n",
        "#include <bits/stdc++.h>\n",
        "using namespace std;\n",
        "\n",
        "const string str =\n",
        "\"W........WW.\"\n",
        "\".WWW.....WWW\"\n",
        "\"....WW...WW.\"\n",
        "\".........WW.\"\n",
        "\".........W..\"\n",
        "\"..W......W..\"\n",
        "\".W.W.....WW.\"\n",
        "\"W.W.W.....W.\"\n",
        "\".W.W......W.\"\n",
        "\"..W.......W.\"\n",
        ";\n",
        "\n",
        "int main(){\n",
        "    const int N=10, M=12;\n",
        "    vector<vector<char>> field(N+1, vector<char>(M+1));\n",
        "    for (int i = 0; i < N; i++) {\n",
        "        for (int j = 0; j < M; j++) {\n",
        "            field.at(i).at(j) = str.\n",
        "        }\n",
        "    }\n",
        "    int res = 0;\n",
        "\n",
        "}"
      ],
      "metadata": {
        "id": "4NdQfBZ4ZJzt"
      },
      "execution_count": null,
      "outputs": []
    }
  ]
}