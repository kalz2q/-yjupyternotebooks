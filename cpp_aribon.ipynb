{
  "nbformat": 4,
  "nbformat_minor": 0,
  "metadata": {
    "colab": {
      "name": "cpp_aribon.ipynb",
      "provenance": [],
      "toc_visible": true,
      "authorship_tag": "ABX9TyPpkyENLVgI0u/YWAr3H45G",
      "include_colab_link": true
    },
    "kernelspec": {
      "name": "python3",
      "display_name": "Python 3"
    },
    "language_info": {
      "name": "python"
    }
  },
  "cells": [
    {
      "cell_type": "markdown",
      "metadata": {
        "id": "view-in-github",
        "colab_type": "text"
      },
      "source": [
        "<a href=\"https://colab.research.google.com/github/kalz2q/mycolabnotebooks/blob/master/cpp_aribon.ipynb\" target=\"_parent\"><img src=\"https://colab.research.google.com/assets/colab-badge.svg\" alt=\"Open In Colab\"/></a>"
      ]
    },
    {
      "cell_type": "markdown",
      "source": [
        "# メモ\n",
        "\n",
        "プログラミングコンテストチャレンジブック 通称 蟻本\n",
        "\n",
        "を読む\n"
      ],
      "metadata": {
        "id": "DnMnMqFHyxIj"
      }
    },
    {
      "cell_type": "code",
      "execution_count": null,
      "metadata": {
        "id": "qpKRzTnXysKV"
      },
      "outputs": [],
      "source": [
        "# どうやって読むか計画\n",
        "# colab で読む\n",
        "# 問題を単純化する"
      ]
    },
    {
      "cell_type": "code",
      "source": [
        "# 問題\n",
        "# p.8 くじびき\n",
        "# 数字が書かれた n 枚の紙切れが袋に入っている\n",
        "# 紙切れを取り出し、数字を見て袋に戻す、を 4 回行い、4 回の紙切れの数字の和が m になっていれば勝ち\n",
        "# 紙切れに書かれている数字が k_1,k_2,...,k_n であった時、和が m になる取り出し方が存在するかを計算し\n",
        "# Yes, No を出力する。\n",
        "# 1 <= n <= 50, 1 <= m <= 10^2, 1 <= k_i <= 10^8\n",
        "# 例1 =>  n, m, k => 3 10 1 3 5 出力 => Yes\n",
        "# 例2 => 3 9 1 3 5 => No"
      ],
      "metadata": {
        "id": "KEF_rwuUzUly"
      },
      "execution_count": null,
      "outputs": []
    },
    {
      "cell_type": "code",
      "source": [
        "# 本の解法例は for ループを 4 回回している。\n",
        "# なぜ 4 回回しているか？ => 4 回の和が m だから\n",
        "# 再帰で解くのが頭の使い方としては簡単ではないか => トライしてみたが考えつかなかった\n",
        "# bit演算で全探索で解くのが頭の使い方としては単純ではないか => トライしてみたがうまく行かなかった\n",
        "# その前に問題の書き方はこれでよいか。あとで読んで分かるか。"
      ],
      "metadata": {
        "id": "xCWQ8spY1gTL"
      },
      "execution_count": null,
      "outputs": []
    },
    {
      "cell_type": "code",
      "source": [
        "# for ループでとりあえず解いてみる 本の解法をなぞった\n",
        "# 問題 p.8 くじびき\n",
        "%%writefile temp.cpp\n",
        "#include <bits/stdc++.h>\n",
        "using namespace std;\n",
        "int main () {\n",
        "    int n, m;\n",
        "    cin >> n >> m;\n",
        "    vector<int> vec(n);\n",
        "    for (int i=0; i < n ; i++) {\n",
        "        cin >> vec.at(i);\n",
        "    }\n",
        "    bool ans = false;\n",
        "    \n",
        "    for (int i=0; i < n ; i++) {\n",
        "        for (int j=0; j < n ; j++) {\n",
        "            for (int k=0; k < n ; k++){\n",
        "                for (int l=0; l < n ; l++){\n",
        "                    if (vec.at(i)+vec.at(j)+vec.at(k)+vec.at(l) == m) ans = true;\n",
        "                }\n",
        "            }\n",
        "        }\n",
        "    }\n",
        "    if (ans) cout << \"Yes\" << endl;\n",
        "    else cout << \"No\" << endl;\n",
        "}"
      ],
      "metadata": {
        "id": "fOw9ygDZ1Wyx",
        "outputId": "82d0f3cd-7662-48bd-de2e-2e6872d2e325",
        "colab": {
          "base_uri": "https://localhost:8080/"
        }
      },
      "execution_count": 42,
      "outputs": [
        {
          "output_type": "stream",
          "name": "stdout",
          "text": [
            "Overwriting temp.cpp\n"
          ]
        }
      ]
    },
    {
      "cell_type": "code",
      "source": [
        "!g++ temp.cpp; echo 3 10 1 3 5 |./a.out #=> Yes 1 1 3 5\n",
        "!g++ temp.cpp; echo 3 9 1 3 5 |./a.out #=> No \n",
        "!g++ temp.cpp; echo 3 9 1 3 2 |./a.out #=> Yes 3 3 2 2"
      ],
      "metadata": {
        "id": "21oxtk6R3RHF",
        "outputId": "a5b3aa4f-15b2-4167-fb8b-386507596970",
        "colab": {
          "base_uri": "https://localhost:8080/"
        }
      },
      "execution_count": 46,
      "outputs": [
        {
          "output_type": "stream",
          "name": "stdout",
          "text": [
            "Yes\n",
            "No\n",
            "Yes\n"
          ]
        }
      ]
    },
    {
      "cell_type": "code",
      "source": [
        "# 問題 p.21 三角形\n",
        "# n 本の棒がある\n",
        "# そこから 3 本を選んでできるだけ周長の長い三角形を作る\n",
        "# 周長を求める。三角形が作れない場合は 0 を答えとする\n",
        "# 3 <= n <= 100, 1 <= a_i <= 10^6\n",
        "# 入力 5 2 3 4 5 10 => 12 (3,4,5 を選ぶ)\n",
        "# 入力 4 4 5 10 20 => 0"
      ],
      "metadata": {
        "id": "PGsHUtRG5zHM",
        "outputId": "8dc9f438-17ed-4556-80e2-a0820a0ddf30",
        "colab": {
          "base_uri": "https://localhost:8080/"
        }
      },
      "execution_count": 39,
      "outputs": [
        {
          "output_type": "stream",
          "name": "stdout",
          "text": [
            "Overwriting temp.cpp\n"
          ]
        }
      ]
    },
    {
      "cell_type": "markdown",
      "source": [
        "# いまここ"
      ],
      "metadata": {
        "id": "07Tmi0phYCUX"
      }
    },
    {
      "cell_type": "code",
      "source": [
        "# 問題 p.21 三角形\n",
        "%%writefile temp.cpp\n",
        "#include <bits/stdc++.h>\n",
        "using namespace std;\n",
        "\n",
        "int main () {\n",
        "    int n;\n",
        "    cin >> n;\n",
        "    vector<int> vec(n);\n",
        "    for (int i=0;i < n; i++){\n",
        "        cin >> vec.at(i);\n",
        "    }\n",
        "    for (int i=0; i < n; i++){\n",
        "        for (int j=0; j < n; j++){\n",
        "            for (int k=0; k < n; k++){\n",
        "                if \n",
        "            }\n",
        "        }\n",
        "    }\n",
        "}"
      ],
      "metadata": {
        "id": "Mw_tn12T9m5G",
        "outputId": "2e24fd3f-6275-4103-c74b-2f841d568ea9",
        "colab": {
          "base_uri": "https://localhost:8080/"
        }
      },
      "execution_count": 40,
      "outputs": [
        {
          "output_type": "stream",
          "name": "stdout",
          "text": [
            "0111\n",
            "1111\n",
            "Yes\n"
          ]
        }
      ]
    },
    {
      "cell_type": "code",
      "source": [
        ""
      ],
      "metadata": {
        "id": "bsv8d2_s9pmF"
      },
      "execution_count": null,
      "outputs": []
    }
  ]
}