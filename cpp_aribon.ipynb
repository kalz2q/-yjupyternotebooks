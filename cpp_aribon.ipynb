{
  "nbformat": 4,
  "nbformat_minor": 0,
  "metadata": {
    "colab": {
      "name": "cpp_aribon.ipynb",
      "provenance": [],
      "toc_visible": true,
      "authorship_tag": "ABX9TyP6BwQFRrYABo64JrWzZ8yn",
      "include_colab_link": true
    },
    "kernelspec": {
      "name": "python3",
      "display_name": "Python 3"
    },
    "language_info": {
      "name": "python"
    }
  },
  "cells": [
    {
      "cell_type": "markdown",
      "metadata": {
        "id": "view-in-github",
        "colab_type": "text"
      },
      "source": [
        "<a href=\"https://colab.research.google.com/github/kalz2q/mycolabnotebooks/blob/master/cpp_aribon.ipynb\" target=\"_parent\"><img src=\"https://colab.research.google.com/assets/colab-badge.svg\" alt=\"Open In Colab\"/></a>"
      ]
    },
    {
      "cell_type": "markdown",
      "source": [
        "# メモ\n",
        "\n",
        "プログラミングコンテストチャレンジブック 通称 蟻本\n",
        "\n",
        "を読む\n"
      ],
      "metadata": {
        "id": "DnMnMqFHyxIj"
      }
    },
    {
      "cell_type": "code",
      "execution_count": null,
      "metadata": {
        "id": "qpKRzTnXysKV"
      },
      "outputs": [],
      "source": [
        "# どうやって読むか計画\n",
        "# colab で読む\n",
        "# 問題を単純化する"
      ]
    },
    {
      "cell_type": "code",
      "source": [
        "# 問題\n",
        "# p.8 くじびき\n",
        "# 数字が書かれた n 枚の紙切れが袋に入っている\n",
        "# 紙切れを取り出し、数字を見て袋に戻す、を 4 回行い、4 回の紙切れの数字の和が m になっていれば勝ち\n",
        "# 紙切れに書かれている数字が k_1,k_2,...,k_n であった時、和が m になる取り出し方が存在するかを計算し\n",
        "# Yes, No を出力する。\n",
        "# 1 <= n <= 50, 1 <= m <= 10^2, 1 <= k_i <= 10^8\n",
        "# 例1 =>  n, m, k => 3 10 1 3 5 出力 => Yes\n",
        "# 例2 => 3 9 1 3 5 => No"
      ],
      "metadata": {
        "id": "KEF_rwuUzUly"
      },
      "execution_count": null,
      "outputs": []
    },
    {
      "cell_type": "code",
      "source": [
        "# 次ページの解法例は for ループを 4 回回している\n",
        "# なぜ 4 回回しているか？ 取り出して戻すが 4 回だからか？\n"
      ],
      "metadata": {
        "id": "xCWQ8spY1gTL"
      },
      "execution_count": null,
      "outputs": []
    },
    {
      "cell_type": "code",
      "source": [
        "%%writefile temp.cpp\n",
        "#include <bits/stdc++.h>\n",
        "using namespace std;\n",
        "int main () {}\n",
        "!g++ temp.cpp; ./a.out\n",
        "!g++ temp.cpp; echo    |./a.out"
      ],
      "metadata": {
        "id": "fOw9ygDZ1Wyx"
      },
      "execution_count": null,
      "outputs": []
    }
  ]
}