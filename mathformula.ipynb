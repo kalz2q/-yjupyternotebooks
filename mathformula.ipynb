{
  "nbformat": 4,
  "nbformat_minor": 0,
  "metadata": {
    "colab": {
      "name": "mathformula.ipynb",
      "provenance": [],
      "toc_visible": true,
      "authorship_tag": "ABX9TyOtGqTCtCMdy4M9uusn1h9i",
      "include_colab_link": true
    },
    "kernelspec": {
      "name": "python3",
      "display_name": "Python 3"
    },
    "language_info": {
      "name": "python"
    }
  },
  "cells": [
    {
      "cell_type": "markdown",
      "metadata": {
        "id": "view-in-github",
        "colab_type": "text"
      },
      "source": [
        "<a href=\"https://colab.research.google.com/github/kalz2q/mycolabnotebooks/blob/master/mathformula.ipynb\" target=\"_parent\"><img src=\"https://colab.research.google.com/assets/colab-badge.svg\" alt=\"Open In Colab\"/></a>"
      ]
    },
    {
      "cell_type": "markdown",
      "metadata": {
        "id": "bS20CzsUITEL"
      },
      "source": [
        "# メモ\n",
        "ウィキペディアの初等数学公式集を colab 化する実験  \n",
        "https://ja.wikibooks.org/wiki/初等数学公式集"
      ]
    },
    {
      "cell_type": "code",
      "source": [
        "# 三平方の定理\n",
        "# 直角三角形の直角をはさむ2辺の長さを a, b、斜辺の長さを c とすると、以下の関係が成り立つ\n",
        "# a^2 + b^2 = c^2\n",
        "# 三角形の三辺の長さ a, b, c が a^2 + b^2 = c^2 を満たすとき、\n",
        "# この三角形は長さ c の辺を斜辺とする直角三角形となる。\n",
        "%%latex\n",
        "a^2 + b^2 = c^2"
      ],
      "metadata": {
        "id": "3KMJO92WH6en",
        "colab": {
          "base_uri": "https://localhost:8080/",
          "height": 39
        },
        "outputId": "e0587977-c06d-42aa-9b06-db67e0e7c39c"
      },
      "execution_count": null,
      "outputs": [
        {
          "output_type": "display_data",
          "data": {
            "text/plain": [
              "<IPython.core.display.Latex object>"
            ],
            "text/latex": "a^2 + b^2 = c^2\n"
          },
          "metadata": {}
        }
      ]
    },
    {
      "cell_type": "code",
      "source": [
        "# 正弦定理\n",
        "# \\bigtriangleup{ABC} において、BC = a, CA = b, AB = c、外接円の半径を Rとすると\n",
        "# \\frac{a}{\\sin A} =\\frac{b}{\\sin B} =\\frac{c}{\\sin C} =2R\n",
        "%%latex \n",
        "\\bigtriangleup{ABC}\\\\[0.8em]\n",
        "BC = a, \\quad CA = b, \\quad AB = c, \\quad \\text{radius} = R\\\\[0.8em]\n",
        "\\displaystyle\n",
        "\\frac{a}{\\sin A} =\\frac{b}{\\sin B} =\\frac{c}{\\sin C} =2R"
      ],
      "metadata": {
        "id": "OdjIax_bIoua",
        "outputId": "c3d16d83-0b95-4f01-8dca-6456734325aa",
        "colab": {
          "base_uri": "https://localhost:8080/",
          "height": 122
        }
      },
      "execution_count": null,
      "outputs": [
        {
          "output_type": "display_data",
          "data": {
            "text/plain": [
              "<IPython.core.display.Latex object>"
            ],
            "text/latex": "\\bigtriangleup{ABC}\\\\[0.8em]\nBC = a, \\quad CA = b, \\quad AB = c, \\quad \\text{radius} = R\\\\[0.8em]\n\\displaystyle\n\\frac{a}{\\sin A} =\\frac{b}{\\sin B} =\\frac{c}{\\sin C} =2R\n"
          },
          "metadata": {}
        }
      ]
    },
    {
      "cell_type": "code",
      "source": [
        "# 余弦定理\n",
        "# \\bigtriangleup{ABC} において、BC = a, CA = b, AB = c, \\alpha = \\angle{CAB}, \\beta = \\angle{ABC}, \\gamma = \\angle{BCA} とすると\n",
        "# 第一余弦定理\n",
        "# a = b \\cos\\gamma + c \\cos\\beta\n",
        "# b = c \\cos\\alpha + a \\cos\\gamma\n",
        "# c = a \\cos\\beta + b \\cos\\alpha\n",
        "# 第二余弦定理\n",
        "# a^2 = b^2 + c^2 - 2bc \\cos\\alpha\n",
        "# b^2 = c^2 + a^2 - 2ca \\cos\\beta\n",
        "# c^2 = a^2 + b^2 - 2ab \\cos\\gamma\n",
        "%%latex\n",
        "\\bigtriangleup{ABC} \\\\\n",
        "BC = a, \\quad CA = b, \\quad AB = c, \\quad \\alpha = \\angle{CAB}, \\quad \\beta = \\angle{ABC}, \\quad \\gamma = \\angle{BCA} \\\\\n",
        "a = b \\cos\\gamma + c \\cos\\beta \\\\\n",
        "b = c \\cos\\alpha + a \\cos\\gamma \\\\\n",
        "c = a \\cos\\beta + b \\cos\\alpha \\\\\n",
        "a^2 = b^2 + c^2 - 2bc \\cos\\alpha \\\\\n",
        "b^2 = c^2 + a^2 - 2ca \\cos\\beta \\\\\n",
        "c^2 = a^2 + b^2 - 2ab \\cos\\gamma \\\\"
      ],
      "metadata": {
        "id": "ew_KJmeeTRai",
        "outputId": "b0895c6c-4d17-44b9-af73-b61dd99bfea8",
        "colab": {
          "base_uri": "https://localhost:8080/",
          "height": 192
        }
      },
      "execution_count": null,
      "outputs": [
        {
          "output_type": "display_data",
          "data": {
            "text/plain": [
              "<IPython.core.display.Latex object>"
            ],
            "text/latex": "\\bigtriangleup{ABC} \\\\\nBC = a, \\quad CA = b, \\quad AB = c, \\quad \\alpha = \\angle{CAB}, \\quad \\beta = \\angle{ABC}, \\quad \\gamma = \\angle{BCA} \\\\\na = b \\cos\\gamma + c \\cos\\beta \\\\\nb = c \\cos\\alpha + a \\cos\\gamma \\\\\nc = a \\cos\\beta + b \\cos\\alpha \\\\\na^2 = b^2 + c^2 - 2bc \\cos\\alpha \\\\\nb^2 = c^2 + a^2 - 2ca \\cos\\beta \\\\\nc^2 = a^2 + b^2 - 2ab \\cos\\gamma \\\\"
          },
          "metadata": {}
        }
      ]
    },
    {
      "cell_type": "code",
      "source": [
        "# 多角形\n",
        "# n 角形の内角の和 \\qquad 180(n-2)^\\circ\n",
        "# n 角形の対角線の本数 \\qquad \\displaystyle \\frac{n(n-3)}{2}\n",
        "%%latex\n",
        "180 (n-2)^\\circ\\\\[0.8em]\n",
        " \\displaystyle \\frac{n(n-3)}{2}"
      ],
      "metadata": {
        "id": "-1YOqHoLbTW0",
        "outputId": "1ecd6721-c05f-4dd7-9823-a5d3e071ce49",
        "colab": {
          "base_uri": "https://localhost:8080/",
          "height": 88
        }
      },
      "execution_count": null,
      "outputs": [
        {
          "output_type": "display_data",
          "data": {
            "text/plain": [
              "<IPython.core.display.Latex object>"
            ],
            "text/latex": "180 (n-2)^\\circ\\\\[0.8em]\n \\displaystyle \\frac{n(n-3)}{2}"
          },
          "metadata": {}
        }
      ]
    },
    {
      "cell_type": "code",
      "source": [
        "# 円\n",
        "# 半径 r の円の円周 l = 2r \\pi \n",
        "# 半径 r、中心角 a（度）の扇形の弧の長さ \\displaystyle l = 2r \\pi \\cdot \\frac{a}{360}\n",
        "# 半径 r の円の中心点 O と弦 AB との距離を a としたときの弦 AB の長さ  AB = 2\\sqrt{r^2 - a^2}\n",
        "%%latex\n",
        "l = 2r \\pi \\\\[0.8em]\n",
        "\\displaystyle\n",
        "l = 2r \\pi \\cdot \\frac{a}{360} \\\\[0.8em]\n",
        "AB = 2\\sqrt{r^2 - a^2}"
      ],
      "metadata": {
        "id": "FyUqoyT0IvPB",
        "outputId": "1152016c-2020-4a99-abd1-ba1fe2df934c",
        "colab": {
          "base_uri": "https://localhost:8080/",
          "height": 121
        }
      },
      "execution_count": null,
      "outputs": [
        {
          "output_type": "display_data",
          "data": {
            "text/plain": [
              "<IPython.core.display.Latex object>"
            ],
            "text/latex": "l = 2r \\pi \\\\[0.8em]\n\\displaystyle\nl = 2r \\pi \\cdot \\frac{a}{360} \\\\[0.8em]\nAB = 2\\sqrt{r^2 - a^2}"
          },
          "metadata": {}
        }
      ]
    },
    {
      "cell_type": "code",
      "source": [
        "# 方べきの定理 (方べき = 方冪)\n",
        "# 点 Pを通る 2 本の直線が円とそれぞれ 2 点 A, B と 2 点 C, D で交わっているとき \n",
        "# PA \\cdot PB = PC \\cdot PD\n",
        "# 円外の点Pを通る2本の直線の一方が点Tで円に接し、他方が 2 点 A,B で交わっているとき\n",
        "# PA \\cdot PB = PT^2\n",
        "%%latex\n",
        "PA \\cdot PB = PC \\cdot PD \\\\\n",
        "PA \\cdot PB = PT^2"
      ],
      "metadata": {
        "id": "odgtgHfHwaHT",
        "outputId": "dd90c9b4-b3bd-49a0-df71-08be14c24c04",
        "colab": {
          "base_uri": "https://localhost:8080/",
          "height": 61
        }
      },
      "execution_count": null,
      "outputs": [
        {
          "output_type": "display_data",
          "data": {
            "text/plain": [
              "<IPython.core.display.Latex object>"
            ],
            "text/latex": "PA \\cdot PB = PC \\cdot PD \\\\\nPA \\cdot PB = PT^2"
          },
          "metadata": {}
        }
      ]
    },
    {
      "cell_type": "code",
      "metadata": {
        "id": "JbQpeWyueAL3",
        "colab": {
          "base_uri": "https://localhost:8080/",
          "height": 186
        },
        "outputId": "3b509762-d605-47cd-ad5d-5c3947e408d0"
      },
      "source": [
        "%%html\n",
        "<svg xmlns=\"http://www.w3.org/2000/svg\" viewBox=\"0 0 363.087 298.192\" width=\"200\" style=\"background-color:white\"> <circle fill=\"#F2F4FF\" stroke=\"#000\" stroke-width=\"2\" cx=\"186.006\" cy=\"152.122\" r=\"145.071\"/><path fill=\"none\" stroke=\"#000\" stroke-width=\"2\" d=\"M.542 234.132L362.545.84M11.542 39.8l329 232.985\"/><g stroke=\"#000\"><circle cx=\"62.458\" cy=\"75.924\" r=\"3.169\"/><circle cx=\"287.802\" cy=\"48.924\" r=\"3.169\"/><circle cx=\"298.718\" cy=\"243.272\" r=\"3.169\"/><circle cx=\"49.726\" cy=\"202.346\" r=\"3.169\"/><circle cx=\"149.83\" cy=\"137.835\" r=\"3.169\"/></g><path d=\"M69.133 63.629h-3.208l-2.52-6.533H54.44l-2.373 6.533h-3.003l8.247-21.475h3.062l8.76 21.475zm-6.591-8.789c-1.758-4.648-2.749-7.288-2.974-7.917s-.474-1.472-.747-2.527h-.073a24.497 24.497 0 01-1.099 4.014l-2.402 6.431h7.295zM324.921 239.346c1.348.41 2.356 1.077 3.024 1.999.67.924 1.004 1.985 1.004 3.187s-.303 2.305-.908 3.311-1.465 1.745-2.578 2.22c-1.113.473-2.622.71-4.526.71h-8.218v-21.475h8.057c2.607 0 4.445.566 5.516 1.699 1.068 1.133 1.604 2.393 1.604 3.779 0 .938-.246 1.804-.74 2.601-.493.794-1.239 1.452-2.235 1.969zm-9.36-1.054h4.658c.957 0 1.76-.054 2.41-.161.648-.107 1.223-.391 1.721-.85s.747-1.172.747-2.139c0-1.016-.251-1.766-.755-2.248a3.252 3.252 0 00-1.801-.887c-.699-.107-1.595-.161-2.688-.161h-4.292v6.446zm0 9.931h5.347c1.914 0 3.242-.327 3.984-.981s1.113-1.558 1.113-2.71c0-1.162-.396-2.067-1.187-2.718-.791-.648-2.217-.974-4.277-.974h-4.98v7.383zM43.667 199.094c-.625 2.412-1.716 4.211-3.274 5.398-1.558 1.186-3.425 1.779-5.603 1.779-3.516 0-6.077-1.102-7.683-3.303-1.606-2.203-2.41-4.852-2.41-7.947 0-3.428.945-6.111 2.834-8.049 1.89-1.939 4.319-2.908 7.288-2.908 2.09 0 3.877.532 5.361 1.597s2.524 2.622 3.12 4.673l-2.783.659c-.469-1.494-1.182-2.617-2.139-3.369s-2.153-1.128-3.589-1.128c-2.344 0-4.121.77-5.332 2.307-1.211 1.539-1.816 3.602-1.816 6.189 0 2.988.637 5.21 1.912 6.665s2.937 2.183 4.988 2.183c1.68 0 3.044-.454 4.094-1.362s1.785-2.275 2.205-4.102l2.827.718zM281.588 19.09H289c1.299 0 2.416.066 3.354.198s1.834.454 2.688.967 1.602 1.218 2.241 2.117 1.143 1.931 1.509 3.098.55 2.581.55 4.241c0 3.164-.752 5.764-2.256 7.8s-4.092 3.054-7.764 3.054h-7.734V19.09zm2.842 18.926h4.6c.938 0 1.774-.059 2.512-.176s1.484-.435 2.241-.952 1.384-1.367 1.882-2.549.748-2.744.748-4.688c0-1.074-.096-2.078-.286-3.01s-.542-1.782-1.055-2.549-1.101-1.328-1.765-1.685-1.312-.574-1.941-.652-1.438-.117-2.424-.117h-4.512v16.378zM144.651 108.585h8.101c1.279 0 2.38.063 3.303.19s1.78.457 2.571.989 1.389 1.255 1.794 2.168.608 1.868.608 2.864c0 1.982-.637 3.572-1.912 4.768s-3.318 1.794-6.13 1.794h-5.493v8.701h-2.842v-21.474zm2.842 10.225h5.522c3.379 0 5.068-1.309 5.068-3.926 0-.859-.22-1.619-.659-2.278s-.979-1.069-1.619-1.23-1.589-.242-2.849-.242h-5.464v7.676z\"/></svg>\n",
        "<svg xmlns=\"http://www.w3.org/2000/svg\" viewBox=\"0 0 363.087 298.192\" width=\"200\" style=\"background-color:white\"><circle fill=\"#F2F4FF\" stroke=\"#000\" stroke-width=\"2\" cx=\"215.006\" cy=\"152.122\" r=\"145.071\"/><circle stroke=\"#000\" cx=\"69.875\" cy=\"153.596\" r=\"3.169\"/><circle stroke=\"#000\" cx=\"348.044\" cy=\"94.427\" r=\"3.169\"/><circle stroke=\"#000\" cx=\"335.875\" cy=\"230.596\" r=\"3.169\"/><circle stroke=\"#000\" cx=\"73.875\" cy=\"180.596\" r=\"3.169\"/><circle stroke=\"#000\" cx=\"10.044\" cy=\"168.427\" r=\"3.169\"/><path d=\"M67.771 149.129h-3.208l-2.52-6.533h-8.965l-2.373 6.533h-3.003l8.247-21.476h3.062l8.76 21.476zm-6.591-8.789c-1.758-4.648-2.749-7.288-2.974-7.917-.226-.629-.474-1.472-.747-2.527h-.073a24.438 24.438 0 01-1.099 4.015l-2.402 6.431 7.295-.002zM332.868 82.8c1.348.41 2.355 1.077 3.023 1.999.67.924 1.004 1.985 1.004 3.187a6.307 6.307 0 01-.908 3.312c-.604 1.006-1.465 1.745-2.577 2.22-1.113.474-2.622.71-4.526.71h-8.218V72.752h8.057c2.607 0 4.445.565 5.516 1.699 1.068 1.133 1.604 2.393 1.604 3.778 0 .938-.246 1.805-.74 2.602-.494.794-1.24 1.452-2.235 1.969zm-9.36-1.054h4.658c.957 0 1.76-.055 2.41-.161.647-.107 1.223-.392 1.721-.851s.747-1.172.747-2.139c0-1.016-.251-1.766-.755-2.248a3.258 3.258 0 00-1.801-.887c-.699-.107-1.596-.161-2.688-.161h-4.292v6.447zm0 9.931h5.347c1.914 0 3.242-.327 3.984-.98.742-.654 1.113-1.559 1.113-2.711 0-1.161-.396-2.066-1.188-2.718-.791-.647-2.217-.974-4.276-.974h-4.98v7.383zM72.667 199.094c-.625 2.412-1.716 4.211-3.273 5.398-1.559 1.186-3.426 1.778-5.604 1.778-3.516 0-6.077-1.102-7.683-3.303-1.606-2.203-2.41-4.852-2.41-7.947 0-3.428.945-6.11 2.834-8.049 1.89-1.938 4.319-2.908 7.288-2.908 2.09 0 3.877.532 5.361 1.598 1.483 1.064 2.523 2.622 3.119 4.673l-2.782.659c-.47-1.494-1.183-2.617-2.14-3.369s-2.152-1.128-3.589-1.128c-2.344 0-4.121.77-5.332 2.307-1.211 1.539-1.815 3.602-1.815 6.189 0 2.987.637 5.21 1.912 6.664 1.274 1.455 2.937 2.184 4.987 2.184 1.681 0 3.044-.454 4.094-1.362 1.051-.908 1.785-2.274 2.205-4.102l2.828.718zM305.324 230.28h7.412c1.299 0 2.416.065 3.354.198a7.101 7.101 0 012.688.967c.854.513 1.603 1.218 2.241 2.117.639.898 1.143 1.931 1.509 3.098s.551 2.581.551 4.241c0 3.164-.753 5.764-2.257 7.8s-4.092 3.054-7.764 3.054h-7.734V230.28zm2.843 18.925h4.6c.938 0 1.774-.059 2.512-.176.738-.117 1.484-.436 2.241-.952s1.384-1.367 1.882-2.549c.498-1.183.748-2.744.748-4.688 0-1.073-.096-2.078-.286-3.01-.189-.932-.542-1.782-1.055-2.549s-1.101-1.328-1.765-1.686c-.664-.356-1.313-.573-1.941-.651s-1.438-.117-2.424-.117h-4.512v16.378zM10.579 139.617h8.101c1.279 0 2.38.063 3.304.189.923.127 1.779.457 2.57.989s1.39 1.255 1.794 2.168a6.99 6.99 0 01.608 2.864c0 1.981-.637 3.572-1.912 4.768-1.275 1.196-3.318 1.794-6.13 1.794h-5.493v8.701h-2.842v-21.473zm2.842 10.225h5.522c3.379 0 5.067-1.309 5.067-3.926 0-.859-.22-1.619-.659-2.278-.438-.659-.979-1.068-1.618-1.229-.641-.161-1.59-.242-2.85-.242H13.42l.001 7.675z\"/><path fill=\"none\" stroke=\"#000\" stroke-width=\"2\" d=\"M-18.956 173.596l395-85M-16.956 162.596l399 77.318\"/></svg>\n",
        "<svg xmlns=\"http://www.w3.org/2000/svg\" viewBox=\"0 0 363.087 298.192\" width=\"200\" style=\"background-color:white\"><circle fill=\"#F2F4FF\" stroke=\"#000\" stroke-width=\"2\" cx=\"215.006\" cy=\"152.122\" r=\"145.071\"/><circle stroke=\"#000\" cx=\"74.875\" cy=\"119.596\" r=\"3.169\"/><circle stroke=\"#000\" cx=\"321.044\" cy=\"251.427\" r=\"3.169\"/><circle stroke=\"#000\" cx=\"133.875\" cy=\"31.596\" r=\"3.169\"/><circle stroke=\"#000\" cx=\"35.875\" cy=\"97.596\" r=\"3.169\"/><path d=\"M70.252 135.596h-3.208l-2.52-6.533h-8.965l-2.373 6.533h-3.003l8.247-21.476h3.062l8.76 21.476zm-6.591-8.789c-1.758-4.648-2.749-7.288-2.974-7.917-.226-.629-.474-1.472-.747-2.527h-.073a24.438 24.438 0 01-1.099 4.015l-2.402 6.431 7.295-.002zM330.016 269.41c1.348.41 2.355 1.077 3.023 1.999.67.924 1.004 1.985 1.004 3.187a6.307 6.307 0 01-.908 3.312c-.604 1.006-1.465 1.745-2.577 2.22-1.113.474-2.622.71-4.526.71h-8.218v-21.475h8.057c2.607 0 4.445.565 5.516 1.699 1.068 1.133 1.604 2.393 1.604 3.778 0 .938-.246 1.805-.74 2.602-.493.794-1.24 1.452-2.235 1.968zm-9.36-1.053h4.658c.957 0 1.76-.055 2.41-.161.647-.107 1.223-.392 1.721-.851s.747-1.172.747-2.139c0-1.016-.251-1.766-.755-2.248a3.258 3.258 0 00-1.801-.887c-.699-.107-1.596-.161-2.688-.161h-4.292v6.447zm0 9.93h5.347c1.914 0 3.242-.327 3.984-.98.742-.654 1.113-1.559 1.113-2.711 0-1.161-.396-2.066-1.188-2.718-.791-.647-2.217-.974-4.276-.974h-4.98v7.383zM32.069 68.417h8.101c1.279 0 2.38.063 3.304.189.923.127 1.779.457 2.57.989s1.39 1.255 1.794 2.168a6.99 6.99 0 01.608 2.864c0 1.981-.637 3.572-1.912 4.768-1.275 1.196-3.318 1.794-6.13 1.794h-5.493v8.701h-2.842V68.417zm2.842 10.225h5.522c3.379 0 5.067-1.309 5.067-3.926 0-.859-.22-1.619-.659-2.278-.438-.659-.979-1.068-1.618-1.229-.641-.161-1.59-.242-2.85-.242H34.91l.001 7.675z\"/><path fill=\"none\" stroke=\"#000\" stroke-width=\"2\" d=\"M-6.956 126.865l194-131.269M-10.956 72.596l367 198\"/><path d=\"M122.979 26.596V7.288h-7.205v-2.59h17.349v2.59h-7.238v19.308h-2.906z\"/></svg>"
      ],
      "execution_count": null,
      "outputs": [
        {
          "output_type": "display_data",
          "data": {
            "text/html": [
              "<svg xmlns=\"http://www.w3.org/2000/svg\" viewBox=\"0 0 363.087 298.192\" width=\"200\" style=\"background-color:white\"> <circle fill=\"#F2F4FF\" stroke=\"#000\" stroke-width=\"2\" cx=\"186.006\" cy=\"152.122\" r=\"145.071\"/><path fill=\"none\" stroke=\"#000\" stroke-width=\"2\" d=\"M.542 234.132L362.545.84M11.542 39.8l329 232.985\"/><g stroke=\"#000\"><circle cx=\"62.458\" cy=\"75.924\" r=\"3.169\"/><circle cx=\"287.802\" cy=\"48.924\" r=\"3.169\"/><circle cx=\"298.718\" cy=\"243.272\" r=\"3.169\"/><circle cx=\"49.726\" cy=\"202.346\" r=\"3.169\"/><circle cx=\"149.83\" cy=\"137.835\" r=\"3.169\"/></g><path d=\"M69.133 63.629h-3.208l-2.52-6.533H54.44l-2.373 6.533h-3.003l8.247-21.475h3.062l8.76 21.475zm-6.591-8.789c-1.758-4.648-2.749-7.288-2.974-7.917s-.474-1.472-.747-2.527h-.073a24.497 24.497 0 01-1.099 4.014l-2.402 6.431h7.295zM324.921 239.346c1.348.41 2.356 1.077 3.024 1.999.67.924 1.004 1.985 1.004 3.187s-.303 2.305-.908 3.311-1.465 1.745-2.578 2.22c-1.113.473-2.622.71-4.526.71h-8.218v-21.475h8.057c2.607 0 4.445.566 5.516 1.699 1.068 1.133 1.604 2.393 1.604 3.779 0 .938-.246 1.804-.74 2.601-.493.794-1.239 1.452-2.235 1.969zm-9.36-1.054h4.658c.957 0 1.76-.054 2.41-.161.648-.107 1.223-.391 1.721-.85s.747-1.172.747-2.139c0-1.016-.251-1.766-.755-2.248a3.252 3.252 0 00-1.801-.887c-.699-.107-1.595-.161-2.688-.161h-4.292v6.446zm0 9.931h5.347c1.914 0 3.242-.327 3.984-.981s1.113-1.558 1.113-2.71c0-1.162-.396-2.067-1.187-2.718-.791-.648-2.217-.974-4.277-.974h-4.98v7.383zM43.667 199.094c-.625 2.412-1.716 4.211-3.274 5.398-1.558 1.186-3.425 1.779-5.603 1.779-3.516 0-6.077-1.102-7.683-3.303-1.606-2.203-2.41-4.852-2.41-7.947 0-3.428.945-6.111 2.834-8.049 1.89-1.939 4.319-2.908 7.288-2.908 2.09 0 3.877.532 5.361 1.597s2.524 2.622 3.12 4.673l-2.783.659c-.469-1.494-1.182-2.617-2.139-3.369s-2.153-1.128-3.589-1.128c-2.344 0-4.121.77-5.332 2.307-1.211 1.539-1.816 3.602-1.816 6.189 0 2.988.637 5.21 1.912 6.665s2.937 2.183 4.988 2.183c1.68 0 3.044-.454 4.094-1.362s1.785-2.275 2.205-4.102l2.827.718zM281.588 19.09H289c1.299 0 2.416.066 3.354.198s1.834.454 2.688.967 1.602 1.218 2.241 2.117 1.143 1.931 1.509 3.098.55 2.581.55 4.241c0 3.164-.752 5.764-2.256 7.8s-4.092 3.054-7.764 3.054h-7.734V19.09zm2.842 18.926h4.6c.938 0 1.774-.059 2.512-.176s1.484-.435 2.241-.952 1.384-1.367 1.882-2.549.748-2.744.748-4.688c0-1.074-.096-2.078-.286-3.01s-.542-1.782-1.055-2.549-1.101-1.328-1.765-1.685-1.312-.574-1.941-.652-1.438-.117-2.424-.117h-4.512v16.378zM144.651 108.585h8.101c1.279 0 2.38.063 3.303.19s1.78.457 2.571.989 1.389 1.255 1.794 2.168.608 1.868.608 2.864c0 1.982-.637 3.572-1.912 4.768s-3.318 1.794-6.13 1.794h-5.493v8.701h-2.842v-21.474zm2.842 10.225h5.522c3.379 0 5.068-1.309 5.068-3.926 0-.859-.22-1.619-.659-2.278s-.979-1.069-1.619-1.23-1.589-.242-2.849-.242h-5.464v7.676z\"/></svg>\n",
              "<svg xmlns=\"http://www.w3.org/2000/svg\" viewBox=\"0 0 363.087 298.192\" width=\"200\" style=\"background-color:white\"><circle fill=\"#F2F4FF\" stroke=\"#000\" stroke-width=\"2\" cx=\"215.006\" cy=\"152.122\" r=\"145.071\"/><circle stroke=\"#000\" cx=\"69.875\" cy=\"153.596\" r=\"3.169\"/><circle stroke=\"#000\" cx=\"348.044\" cy=\"94.427\" r=\"3.169\"/><circle stroke=\"#000\" cx=\"335.875\" cy=\"230.596\" r=\"3.169\"/><circle stroke=\"#000\" cx=\"73.875\" cy=\"180.596\" r=\"3.169\"/><circle stroke=\"#000\" cx=\"10.044\" cy=\"168.427\" r=\"3.169\"/><path d=\"M67.771 149.129h-3.208l-2.52-6.533h-8.965l-2.373 6.533h-3.003l8.247-21.476h3.062l8.76 21.476zm-6.591-8.789c-1.758-4.648-2.749-7.288-2.974-7.917-.226-.629-.474-1.472-.747-2.527h-.073a24.438 24.438 0 01-1.099 4.015l-2.402 6.431 7.295-.002zM332.868 82.8c1.348.41 2.355 1.077 3.023 1.999.67.924 1.004 1.985 1.004 3.187a6.307 6.307 0 01-.908 3.312c-.604 1.006-1.465 1.745-2.577 2.22-1.113.474-2.622.71-4.526.71h-8.218V72.752h8.057c2.607 0 4.445.565 5.516 1.699 1.068 1.133 1.604 2.393 1.604 3.778 0 .938-.246 1.805-.74 2.602-.494.794-1.24 1.452-2.235 1.969zm-9.36-1.054h4.658c.957 0 1.76-.055 2.41-.161.647-.107 1.223-.392 1.721-.851s.747-1.172.747-2.139c0-1.016-.251-1.766-.755-2.248a3.258 3.258 0 00-1.801-.887c-.699-.107-1.596-.161-2.688-.161h-4.292v6.447zm0 9.931h5.347c1.914 0 3.242-.327 3.984-.98.742-.654 1.113-1.559 1.113-2.711 0-1.161-.396-2.066-1.188-2.718-.791-.647-2.217-.974-4.276-.974h-4.98v7.383zM72.667 199.094c-.625 2.412-1.716 4.211-3.273 5.398-1.559 1.186-3.426 1.778-5.604 1.778-3.516 0-6.077-1.102-7.683-3.303-1.606-2.203-2.41-4.852-2.41-7.947 0-3.428.945-6.11 2.834-8.049 1.89-1.938 4.319-2.908 7.288-2.908 2.09 0 3.877.532 5.361 1.598 1.483 1.064 2.523 2.622 3.119 4.673l-2.782.659c-.47-1.494-1.183-2.617-2.14-3.369s-2.152-1.128-3.589-1.128c-2.344 0-4.121.77-5.332 2.307-1.211 1.539-1.815 3.602-1.815 6.189 0 2.987.637 5.21 1.912 6.664 1.274 1.455 2.937 2.184 4.987 2.184 1.681 0 3.044-.454 4.094-1.362 1.051-.908 1.785-2.274 2.205-4.102l2.828.718zM305.324 230.28h7.412c1.299 0 2.416.065 3.354.198a7.101 7.101 0 012.688.967c.854.513 1.603 1.218 2.241 2.117.639.898 1.143 1.931 1.509 3.098s.551 2.581.551 4.241c0 3.164-.753 5.764-2.257 7.8s-4.092 3.054-7.764 3.054h-7.734V230.28zm2.843 18.925h4.6c.938 0 1.774-.059 2.512-.176.738-.117 1.484-.436 2.241-.952s1.384-1.367 1.882-2.549c.498-1.183.748-2.744.748-4.688 0-1.073-.096-2.078-.286-3.01-.189-.932-.542-1.782-1.055-2.549s-1.101-1.328-1.765-1.686c-.664-.356-1.313-.573-1.941-.651s-1.438-.117-2.424-.117h-4.512v16.378zM10.579 139.617h8.101c1.279 0 2.38.063 3.304.189.923.127 1.779.457 2.57.989s1.39 1.255 1.794 2.168a6.99 6.99 0 01.608 2.864c0 1.981-.637 3.572-1.912 4.768-1.275 1.196-3.318 1.794-6.13 1.794h-5.493v8.701h-2.842v-21.473zm2.842 10.225h5.522c3.379 0 5.067-1.309 5.067-3.926 0-.859-.22-1.619-.659-2.278-.438-.659-.979-1.068-1.618-1.229-.641-.161-1.59-.242-2.85-.242H13.42l.001 7.675z\"/><path fill=\"none\" stroke=\"#000\" stroke-width=\"2\" d=\"M-18.956 173.596l395-85M-16.956 162.596l399 77.318\"/></svg>\n",
              "<svg xmlns=\"http://www.w3.org/2000/svg\" viewBox=\"0 0 363.087 298.192\" width=\"200\" style=\"background-color:white\"><circle fill=\"#F2F4FF\" stroke=\"#000\" stroke-width=\"2\" cx=\"215.006\" cy=\"152.122\" r=\"145.071\"/><circle stroke=\"#000\" cx=\"74.875\" cy=\"119.596\" r=\"3.169\"/><circle stroke=\"#000\" cx=\"321.044\" cy=\"251.427\" r=\"3.169\"/><circle stroke=\"#000\" cx=\"133.875\" cy=\"31.596\" r=\"3.169\"/><circle stroke=\"#000\" cx=\"35.875\" cy=\"97.596\" r=\"3.169\"/><path d=\"M70.252 135.596h-3.208l-2.52-6.533h-8.965l-2.373 6.533h-3.003l8.247-21.476h3.062l8.76 21.476zm-6.591-8.789c-1.758-4.648-2.749-7.288-2.974-7.917-.226-.629-.474-1.472-.747-2.527h-.073a24.438 24.438 0 01-1.099 4.015l-2.402 6.431 7.295-.002zM330.016 269.41c1.348.41 2.355 1.077 3.023 1.999.67.924 1.004 1.985 1.004 3.187a6.307 6.307 0 01-.908 3.312c-.604 1.006-1.465 1.745-2.577 2.22-1.113.474-2.622.71-4.526.71h-8.218v-21.475h8.057c2.607 0 4.445.565 5.516 1.699 1.068 1.133 1.604 2.393 1.604 3.778 0 .938-.246 1.805-.74 2.602-.493.794-1.24 1.452-2.235 1.968zm-9.36-1.053h4.658c.957 0 1.76-.055 2.41-.161.647-.107 1.223-.392 1.721-.851s.747-1.172.747-2.139c0-1.016-.251-1.766-.755-2.248a3.258 3.258 0 00-1.801-.887c-.699-.107-1.596-.161-2.688-.161h-4.292v6.447zm0 9.93h5.347c1.914 0 3.242-.327 3.984-.98.742-.654 1.113-1.559 1.113-2.711 0-1.161-.396-2.066-1.188-2.718-.791-.647-2.217-.974-4.276-.974h-4.98v7.383zM32.069 68.417h8.101c1.279 0 2.38.063 3.304.189.923.127 1.779.457 2.57.989s1.39 1.255 1.794 2.168a6.99 6.99 0 01.608 2.864c0 1.981-.637 3.572-1.912 4.768-1.275 1.196-3.318 1.794-6.13 1.794h-5.493v8.701h-2.842V68.417zm2.842 10.225h5.522c3.379 0 5.067-1.309 5.067-3.926 0-.859-.22-1.619-.659-2.278-.438-.659-.979-1.068-1.618-1.229-.641-.161-1.59-.242-2.85-.242H34.91l.001 7.675z\"/><path fill=\"none\" stroke=\"#000\" stroke-width=\"2\" d=\"M-6.956 126.865l194-131.269M-10.956 72.596l367 198\"/><path d=\"M122.979 26.596V7.288h-7.205v-2.59h17.349v2.59h-7.238v19.308h-2.906z\"/></svg>"
            ],
            "text/plain": [
              "<IPython.core.display.HTML object>"
            ]
          },
          "metadata": {
            "tags": []
          }
        }
      ]
    },
    {
      "cell_type": "code",
      "source": [
        "# メネラウスの定理\n",
        "# 任意の直線 l と三角形 ABC において、直線 l と BC, CA, AB の交点をそれぞれ D, E, F とする。この時、次の等式が成立する\n",
        "# {AF \\over FB} \\cdot {BD \\over DC} \\cdot {CE \\over EA} = 1\n",
        "%%latex\n",
        "\\displaystyle\n",
        "{AF \\over FB} \\cdot {BD \\over DC} \\cdot {CE \\over EA} = 1"
      ],
      "metadata": {
        "id": "s7q7x0q0we62",
        "outputId": "20cc9cdb-39c5-4b77-a36d-33effb9de975",
        "colab": {
          "base_uri": "https://localhost:8080/",
          "height": 52
        }
      },
      "execution_count": null,
      "outputs": [
        {
          "output_type": "display_data",
          "data": {
            "text/plain": [
              "<IPython.core.display.Latex object>"
            ],
            "text/latex": "\\displaystyle\n{AF \\over FB} \\cdot {BD \\over DC} \\cdot {CE \\over EA} = 1"
          },
          "metadata": {}
        }
      ]
    },
    {
      "cell_type": "code",
      "metadata": {
        "id": "KFB6vWc7kJc7",
        "colab": {
          "base_uri": "https://localhost:8080/",
          "height": 210
        },
        "outputId": "7dcb3b02-59bd-4f14-d9ec-a31e46544e55"
      },
      "source": [
        "# メネラウスの定理。A→F→B→D→C→E→Aの順で循環する。\n",
        "%%html\n",
        "<svg xmlns=\"http://www.w3.org/2000/svg\" width=\"400\" viewBox=\"5 9 195 92\"  style=\"background-color:white\"><g stroke=\"#000\" fill=\"none\"><path d=\"M10 90h190M10 90l30-70 80 70\"/><path d=\"M15 30l185 70\" stroke=\"#f0f\"/></g><text font-family=\"DejaVu Serif\" font-size=\"10\"><tspan x=\"5\" y=\"100\">A</tspan><tspan x=\"115\">B</tspan><tspan x=\"170\">F</tspan> <tspan x=\"20\" y=\"45\">E</tspan><tspan x=\"37\" y=\"18\">C</tspan><tspan x=\"85\" y=\"55\">D</tspan></text></svg>"
      ],
      "execution_count": null,
      "outputs": [
        {
          "output_type": "display_data",
          "data": {
            "text/html": [
              "<svg xmlns=\"http://www.w3.org/2000/svg\" width=\"400\" viewBox=\"5 9 195 92\"  style=\"background-color:white\"><g stroke=\"#000\" fill=\"none\"><path d=\"M10 90h190M10 90l30-70 80 70\"/><path d=\"M15 30l185 70\" stroke=\"#f0f\"/></g><text font-family=\"DejaVu Serif\" font-size=\"10\"><tspan x=\"5\" y=\"100\">A</tspan><tspan x=\"115\">B</tspan><tspan x=\"170\">F</tspan> <tspan x=\"20\" y=\"45\">E</tspan><tspan x=\"37\" y=\"18\">C</tspan><tspan x=\"85\" y=\"55\">D</tspan></text></svg>"
            ],
            "text/plain": [
              "<IPython.core.display.HTML object>"
            ]
          },
          "metadata": {
            "tags": []
          }
        }
      ]
    },
    {
      "cell_type": "code",
      "source": [
        "# チェバの定理\n",
        "# 三角形 ABC において、任意の点 O をとり、直線 AO と BC、BO と CA、CO と AB の交点を\n",
        "# それぞれ D,E,F とする。\n",
        "# この時、次の等式が成立する。なお、点 O は、三角形の内部にあっても外部にあってもよい。\n",
        "# {AF \\over FB} \\cdot {BD \\over DC} \\cdot {CE \\over EA} = 1\n",
        "%%latex\n",
        "\\displaystyle\n",
        "{AF \\over FB} \\cdot {BD \\over DC} \\cdot {CE \\over EA} = 1"
      ],
      "metadata": {
        "id": "3_Py_ZlQQndb",
        "outputId": "16e96f30-e236-4c07-8d37-b75fa82037ce",
        "colab": {
          "base_uri": "https://localhost:8080/",
          "height": 52
        }
      },
      "execution_count": null,
      "outputs": [
        {
          "output_type": "display_data",
          "data": {
            "text/plain": [
              "<IPython.core.display.Latex object>"
            ],
            "text/latex": "\\displaystyle\n{AF \\over FB} \\cdot {BD \\over DC} \\cdot {CE \\over EA} = 1"
          },
          "metadata": {}
        }
      ]
    },
    {
      "cell_type": "code",
      "metadata": {
        "colab": {
          "base_uri": "https://localhost:8080/",
          "height": 238
        },
        "id": "1NQRjzwWSgk6",
        "outputId": "fb9d77fc-db3f-46ee-8790-88487cfe534c"
      },
      "source": [
        "# ceva's theorem\n",
        "%%html\n",
        "<svg xmlns=\"http://www.w3.org/2000/svg\" version=\"1.0\" viewBox=\"0 0 793 574.52\" width=\"300\" style=\"background-color:white\"><path d=\"M241.843 57.01L41.555 467.945l663.023.142L241.843 57.01z\" fill=\"none\" stroke=\"#000\"/><path d=\"M241.608 57.173L429.3 467.99M42.331 466.91l482.941-157.59M703.783 467.527L135.376 275.059\" fill=\"none\" stroke=\"#af17b9\"/><text x=\"13.328\" y=\"522.557\" style=\"text-align:start;line-height:125%\" font-size=\"58.751\" font-style=\"italic\" font-weight=\"700\" font-family=\"Times New Roman\"><tspan x=\"13.328\" y=\"522.557\">A</tspan></text><text x=\"410.124\" y=\"522.557\" style=\"text-align:start;line-height:125%\" font-size=\"58.751\" font-style=\"italic\" font-weight=\"700\" font-family=\"Times New Roman\"><tspan x=\"410.124\" y=\"522.557\">F</tspan></text><text x=\"692.317\" y=\"522.557\" style=\"text-align:start;line-height:125%\" font-size=\"58.751\" font-style=\"italic\" font-weight=\"700\" font-family=\"Times New Roman\"><tspan x=\"692.317\" y=\"522.557\">B</tspan></text><text x=\"529.655\" y=\"297.05\" style=\"text-align:start;line-height:125%\" font-size=\"58.751\" font-style=\"italic\" font-weight=\"700\" font-family=\"Times New Roman\"><tspan x=\"529.655\" y=\"297.05\">D</tspan></text><text x=\"89.73\" y=\"268.707\" style=\"text-align:start;line-height:125%\" font-size=\"58.751\" font-style=\"italic\" font-weight=\"700\" font-family=\"Times New Roman\"><tspan x=\"89.73\" y=\"268.707\">E</tspan></text><text x=\"199.403\" y=\"51.825\" style=\"text-align:start;line-height:125%\" font-size=\"58.751\" font-style=\"italic\" font-weight=\"700\" font-family=\"Times New Roman\"><tspan x=\"199.403\" y=\"51.825\">C</tspan></text><text x=\"376.852\" y=\"338.947\" style=\"text-align:start;line-height:125%\" font-size=\"58.751\" font-style=\"italic\" font-weight=\"700\" font-family=\"Times New Roman\"><tspan x=\"376.852\" y=\"338.947\">O</tspan></text></svg>\n",
        "<svg xmlns=\"http://www.w3.org/2000/svg\" version=\"1.0\" viewBox=\"0 0 907.04 655.853\" width=\"300\" style=\"background-color:white\"><path d=\"M352.232 137.962L151.944 548.897l663.023.142-462.735-411.077z\" fill=\"none\" stroke=\"#000\"/><path d=\"M351.975 138.147L67.497 566.997M152.22 548.643L259.68 16.669M814.246 548.552l-694.869-172.74\" fill=\"none\" stroke=\"#af17b9\"/><text x=\"123.717\" y=\"600.869\" style=\"text-align:start;line-height:125%\" font-size=\"58.751\" font-style=\"italic\" font-weight=\"700\" font-family=\"Times New Roman\"><tspan x=\"123.717\" y=\"600.869\">A</tspan></text><text x=\"15.176\" y=\"600.869\" style=\"text-align:start;line-height:125%\" font-size=\"58.751\" font-style=\"italic\" font-weight=\"700\" font-family=\"Times New Roman\"><tspan x=\"15.176\" y=\"600.869\">F</tspan></text><text x=\"802.706\" y=\"600.869\" style=\"text-align:start;line-height:125%\" font-size=\"58.751\" font-style=\"italic\" font-weight=\"700\" font-family=\"Times New Roman\"><tspan x=\"802.706\" y=\"600.869\">B</tspan></text><text x=\"276.987\" y=\"46.834\" style=\"text-align:start;line-height:125%\" font-size=\"58.751\" font-style=\"italic\" font-weight=\"700\" font-family=\"Times New Roman\"><tspan x=\"276.987\" y=\"46.834\">D</tspan></text><text x=\"221.151\" y=\"461.38\" style=\"text-align:start;line-height:125%\" font-size=\"58.751\" font-style=\"italic\" font-weight=\"700\" font-family=\"Times New Roman\"><tspan x=\"221.151\" y=\"461.38\">E</tspan></text><text x=\"364.06\" y=\"139.168\" style=\"text-align:start;line-height:125%\" font-size=\"58.751\" font-style=\"italic\" font-weight=\"700\" font-family=\"Times New Roman\"><tspan x=\"364.06\" y=\"139.168\">C</tspan></text><text x=\"136.449\" y=\"370.837\" style=\"text-align:start;line-height:125%\" font-size=\"58.751\" font-style=\"italic\" font-weight=\"700\" font-family=\"Times New Roman\"><tspan x=\"136.449\" y=\"370.837\">O</tspan></text><path d=\"M40.814 548.776l159.7.145M379.063 161.745L217.596 18.304\" fill=\"none\" stroke=\"#000\"/></svg>"
      ],
      "execution_count": null,
      "outputs": [
        {
          "output_type": "display_data",
          "data": {
            "text/html": [
              "<svg xmlns=\"http://www.w3.org/2000/svg\" version=\"1.0\" viewBox=\"0 0 793 574.52\" width=\"300\" style=\"background-color:white\"><path d=\"M241.843 57.01L41.555 467.945l663.023.142L241.843 57.01z\" fill=\"none\" stroke=\"#000\"/><path d=\"M241.608 57.173L429.3 467.99M42.331 466.91l482.941-157.59M703.783 467.527L135.376 275.059\" fill=\"none\" stroke=\"#af17b9\"/><text x=\"13.328\" y=\"522.557\" style=\"text-align:start;line-height:125%\" font-size=\"58.751\" font-style=\"italic\" font-weight=\"700\" font-family=\"Times New Roman\"><tspan x=\"13.328\" y=\"522.557\">A</tspan></text><text x=\"410.124\" y=\"522.557\" style=\"text-align:start;line-height:125%\" font-size=\"58.751\" font-style=\"italic\" font-weight=\"700\" font-family=\"Times New Roman\"><tspan x=\"410.124\" y=\"522.557\">F</tspan></text><text x=\"692.317\" y=\"522.557\" style=\"text-align:start;line-height:125%\" font-size=\"58.751\" font-style=\"italic\" font-weight=\"700\" font-family=\"Times New Roman\"><tspan x=\"692.317\" y=\"522.557\">B</tspan></text><text x=\"529.655\" y=\"297.05\" style=\"text-align:start;line-height:125%\" font-size=\"58.751\" font-style=\"italic\" font-weight=\"700\" font-family=\"Times New Roman\"><tspan x=\"529.655\" y=\"297.05\">D</tspan></text><text x=\"89.73\" y=\"268.707\" style=\"text-align:start;line-height:125%\" font-size=\"58.751\" font-style=\"italic\" font-weight=\"700\" font-family=\"Times New Roman\"><tspan x=\"89.73\" y=\"268.707\">E</tspan></text><text x=\"199.403\" y=\"51.825\" style=\"text-align:start;line-height:125%\" font-size=\"58.751\" font-style=\"italic\" font-weight=\"700\" font-family=\"Times New Roman\"><tspan x=\"199.403\" y=\"51.825\">C</tspan></text><text x=\"376.852\" y=\"338.947\" style=\"text-align:start;line-height:125%\" font-size=\"58.751\" font-style=\"italic\" font-weight=\"700\" font-family=\"Times New Roman\"><tspan x=\"376.852\" y=\"338.947\">O</tspan></text></svg>\n",
              "<svg xmlns=\"http://www.w3.org/2000/svg\" version=\"1.0\" viewBox=\"0 0 907.04 655.853\" width=\"300\" style=\"background-color:white\"><path d=\"M352.232 137.962L151.944 548.897l663.023.142-462.735-411.077z\" fill=\"none\" stroke=\"#000\"/><path d=\"M351.975 138.147L67.497 566.997M152.22 548.643L259.68 16.669M814.246 548.552l-694.869-172.74\" fill=\"none\" stroke=\"#af17b9\"/><text x=\"123.717\" y=\"600.869\" style=\"text-align:start;line-height:125%\" font-size=\"58.751\" font-style=\"italic\" font-weight=\"700\" font-family=\"Times New Roman\"><tspan x=\"123.717\" y=\"600.869\">A</tspan></text><text x=\"15.176\" y=\"600.869\" style=\"text-align:start;line-height:125%\" font-size=\"58.751\" font-style=\"italic\" font-weight=\"700\" font-family=\"Times New Roman\"><tspan x=\"15.176\" y=\"600.869\">F</tspan></text><text x=\"802.706\" y=\"600.869\" style=\"text-align:start;line-height:125%\" font-size=\"58.751\" font-style=\"italic\" font-weight=\"700\" font-family=\"Times New Roman\"><tspan x=\"802.706\" y=\"600.869\">B</tspan></text><text x=\"276.987\" y=\"46.834\" style=\"text-align:start;line-height:125%\" font-size=\"58.751\" font-style=\"italic\" font-weight=\"700\" font-family=\"Times New Roman\"><tspan x=\"276.987\" y=\"46.834\">D</tspan></text><text x=\"221.151\" y=\"461.38\" style=\"text-align:start;line-height:125%\" font-size=\"58.751\" font-style=\"italic\" font-weight=\"700\" font-family=\"Times New Roman\"><tspan x=\"221.151\" y=\"461.38\">E</tspan></text><text x=\"364.06\" y=\"139.168\" style=\"text-align:start;line-height:125%\" font-size=\"58.751\" font-style=\"italic\" font-weight=\"700\" font-family=\"Times New Roman\"><tspan x=\"364.06\" y=\"139.168\">C</tspan></text><text x=\"136.449\" y=\"370.837\" style=\"text-align:start;line-height:125%\" font-size=\"58.751\" font-style=\"italic\" font-weight=\"700\" font-family=\"Times New Roman\"><tspan x=\"136.449\" y=\"370.837\">O</tspan></text><path d=\"M40.814 548.776l159.7.145M379.063 161.745L217.596 18.304\" fill=\"none\" stroke=\"#000\"/></svg>"
            ],
            "text/plain": [
              "<IPython.core.display.HTML object>"
            ]
          },
          "metadata": {
            "tags": []
          }
        }
      ]
    },
    {
      "cell_type": "code",
      "source": [
        "# 立体図形\n",
        "# 縦の長さ a 、横の長さ b 、高さ h  の直方体の対角線  l\n",
        "# l = \\sqrt{a^2 + b^2 + h^2}\n",
        "# 底面の半径を r、母線の長さ  l の円錐の高さ  h\n",
        "# h = \\sqrt{l^2 - r^2}\n",
        "# 凸面体の頂点の数を v 、辺の数を e 、面の数を f とすると以下の関係が成り立つ \n",
        "# (オイラーの多面体定理)\n",
        "# v - e + f = 2\n",
        "%%latex\n",
        "l = \\sqrt{a^2 + b^2 + h^2} \\\\\n",
        "h = \\sqrt{l^2 - r^2} \\\\\n",
        "v - e + f = 2"
      ],
      "metadata": {
        "id": "w5aHlHcGlOil",
        "outputId": "09d0a070-47bb-41e1-860a-96d099279ee1",
        "colab": {
          "base_uri": "https://localhost:8080/",
          "height": 83
        }
      },
      "execution_count": null,
      "outputs": [
        {
          "output_type": "display_data",
          "data": {
            "text/plain": [
              "<IPython.core.display.Latex object>"
            ],
            "text/latex": "l = \\sqrt{a^2 + b^2 + h^2} \\\\\nh = \\sqrt{l^2 - r^2} \\\\\nv - e + f = 2"
          },
          "metadata": {}
        }
      ]
    },
    {
      "cell_type": "code",
      "source": [
        "# 図形と方程式\n",
        "# 中心座標 (a, b)、半径 r の円の方程式（標準形）\n",
        "# (x-a)^2+(y-b)^2 = r^2\n",
        "# 円の方程式の一般形\n",
        "# x^2+y^2+hx+ky+c = 0　\n",
        "# ただし、 h^2+k^2-4c > 0\n",
        "# 円 x^2+y^2 = r^2 上の点P (x_1, y_1) における接線\n",
        "# x_1x+y_1y = r^2\n",
        "# 2点 A (a_1, b_1), B (a_2, b_2) 間の距離\n",
        "# AB = \\sqrt{(a_2 - a_1)^2 + (b_2 - b_1)^2}\n",
        "# 点  P(p, q) と直線 ax + by + c = 0 の距離\n",
        "# \\frac{\\left|ap + bq + c\\right\\vert}{\\sqrt{a^2 + b^2}}   \n",
        "# 原点 O ・点 A(x_a,y_a) ・点 B(x_b,y_b) を結んでできる三角形OABの面積 S\n",
        "# S = \\frac{1}{2} \\left|y_0\\right| \\left| x_a - x_b \\right|=\\frac{1}{2} \\left|x_0\\right| \\left| y_a - y_b \\right|  \n",
        "# ただし x_0,\\;y_0 はそれぞれ直線 AB の x 切片、y 切片  \n",
        "# または (サラスの公式）  S = \\frac {\\left| x_ay_b - x_by_a \\right|}{2} \n",
        "# 2次関数 ( y=ax^2 ) 上の3点 A(x_a,y_a),\\; B(x_b,y_b),\\; C(x_c,y_c) を結んで出来る三角形 ABC の面積 S\n",
        "# x_a - x_b = l, x_b - x_c = m, x_c - x_a = n とすると、\n",
        "# S = \\frac{|almn|}{2} \n",
        "%%latex\n",
        "(x-a)^2+(y-b)^2 = r^2 \\\\\n",
        "x^2+y^2+hx+ky+c = 0 \\\\\n",
        "h^2+k^2-4c > 0 \\\\\n",
        "x^2+y^2 = r^2 \\\\\n",
        "x_1x+y_1y = r^2 \\\\\n",
        "\\displaystyle\n",
        "AB = \\sqrt{(a_2 - a_1)^2 + (b_2 - b_1)^2} \\\\[0.8em]\n",
        " \\frac{\\left|ap + bq + c\\right\\vert}{\\sqrt{a^2 + b^2}} \\\\[0.8em]\n",
        "S = \\frac{1}{2} \\left|y_0\\right| \\left| x_a - x_b \\right|=\\frac{1}{2} \\left|x_0\\right| \\left| y_a - y_b \\right|  \\\\[0.8em]\n",
        "S = \\frac {\\left| x_ay_b - x_by_a \\right|}{2} \\\\[0.8em]\n",
        "x_a - x_b = l, \\quad x_b - x_c = m, \\quad x_c - x_a = n \\\\[0.8em]\n",
        "S = \\frac{|almn|}{2} "
      ],
      "metadata": {
        "id": "dSG9BD0CUM5Z",
        "outputId": "9550a80e-8b10-400c-ae8b-2d101f530860",
        "colab": {
          "base_uri": "https://localhost:8080/",
          "height": 385
        }
      },
      "execution_count": null,
      "outputs": [
        {
          "output_type": "display_data",
          "data": {
            "text/plain": [
              "<IPython.core.display.Latex object>"
            ],
            "text/latex": "(x-a)^2+(y-b)^2 = r^2 \\\\\nx^2+y^2+hx+ky+c = 0 \\\\\nh^2+k^2-4c > 0 \\\\\nx^2+y^2 = r^2 \\\\\nx_1x+y_1y = r^2 \\\\\n\\displaystyle\nAB = \\sqrt{(a_2 - a_1)^2 + (b_2 - b_1)^2} \\\\[0.8em]\n \\frac{\\left|ap + bq + c\\right\\vert}{\\sqrt{a^2 + b^2}} \\\\[0.8em]\nS = \\frac{1}{2} \\left|y_0\\right| \\left| x_a - x_b \\right|=\\frac{1}{2} \\left|x_0\\right| \\left| y_a - y_b \\right|  \\\\[0.8em]\nS = \\frac {\\left| x_ay_b - x_by_a \\right|}{2} \\\\[0.8em]\nx_a - x_b = l, \\quad x_b - x_c = m, \\quad x_c - x_a = n \\\\[0.8em]\nS = \\frac{|almn|}{2} "
          },
          "metadata": {}
        }
      ]
    },
    {
      "cell_type": "code",
      "source": [
        "# 三角形の面積\n",
        "# 底辺の長さ  a 、高さ  h  の三角形の面積  S\n",
        "# S = {1\\over 2}ah  \n",
        "# 二辺の長さが  a,b  でその間の角が \\theta である三角形の面積  S\n",
        "# S = \\frac{1}{2}ab\\sin \\theta  \n",
        "# ある辺の長さが  a  でその両端の角が \\theta,\\; \\delta である三角形の面積  S\n",
        "# S = \\frac{a^2\\sin \\theta\\sin \\delta}{2\\sin (\\theta+\\delta)} \n",
        "# 三辺の長さが  a, b, c  で内接する円の半径が  r である三角形の面積  S\n",
        "# S = \\frac{1}{2}r(a+b+c)  \n",
        "# 三辺の長さが  a, b, c  である三角形の面積  S :（ヘロンの公式）\n",
        "# S = \\sqrt{ \\frac{(a+b+c)(a+b-c)(a-b+c)(-a+b+c)}{16}} \n",
        "# また、 s=\\frac{a + b + c}{2}   とすると、 \n",
        "# S = \\sqrt{s(s - a)(s - b)(s - c)}  \n",
        "# 内接円の半径を  r  とすると、三角形の面積  S = sr = \\sqrt{s(s - a)(s - b)(s - c)}  \n",
        "# 従って、  r = \\sqrt{ \\frac{(s - a)(s - b)(s - c)}{s}}  \n",
        "# 一辺の長さ  a  の正三角形の面積  S\n",
        "# S = {\\sqrt{3}\\over 4}a^2  \n",
        "%%latex\n",
        "\\displaystyle\n",
        "S = {1\\over 2}ah  \\\\[0.8em]\n",
        "S = \\frac{1}{2}ab\\sin \\theta  \\\\[0.8em]\n",
        "S = \\frac{a^2\\sin \\theta\\sin \\delta}{2\\sin (\\theta+\\delta)} \\\\[0.8em]\n",
        "S = \\frac{1}{2}r(a+b+c)  \\\\[0.8em]\n",
        "S = \\sqrt{ \\frac{(a+b+c)(a+b-c)(a-b+c)(-a+b+c)}{16}} \\\\[0.8em]\n",
        "また、 s=\\frac{a + b + c}{2}   \\\\[0.8em]\n",
        "S = \\sqrt{s(s - a)(s - b)(s - c)}  \\\\[0.8em]\n",
        "S = sr = \\sqrt{s(s - a)(s - b)(s - c)}  \\\\[0.8em]\n",
        "r = \\sqrt{ \\frac{(s - a)(s - b)(s - c)}{s}}  \\\\[0.8em]\n",
        "S = {\\sqrt{3}\\over 4}a^2 "
      ],
      "metadata": {
        "id": "fWK4MWAvYRWP",
        "outputId": "c41f6c0c-0c94-407b-b62f-07642eb2724a",
        "colab": {
          "base_uri": "https://localhost:8080/",
          "height": 485
        }
      },
      "execution_count": null,
      "outputs": [
        {
          "output_type": "display_data",
          "data": {
            "text/plain": [
              "<IPython.core.display.Latex object>"
            ],
            "text/latex": "\\displaystyle\nS = {1\\over 2}ah  \\\\[0.8em]\nS = \\frac{1}{2}ab\\sin \\theta  \\\\[0.8em]\nS = \\frac{a^2\\sin \\theta\\sin \\delta}{2\\sin (\\theta+\\delta)} \\\\[0.8em]\nS = \\frac{1}{2}r(a+b+c)  \\\\[0.8em]\nS = \\sqrt{ \\frac{(a+b+c)(a+b-c)(a-b+c)(-a+b+c)}{16}} \\\\[0.8em]\nまた、 s=\\frac{a + b + c}{2}   \\\\[0.8em]\nS = \\sqrt{s(s - a)(s - b)(s - c)}  \\\\[0.8em]\nS = sr = \\sqrt{s(s - a)(s - b)(s - c)}  \\\\[0.8em]\nr = \\sqrt{ \\frac{(s - a)(s - b)(s - c)}{s}}  \\\\[0.8em]\nS = {\\sqrt{3}\\over 4}a^2 "
          },
          "metadata": {}
        }
      ]
    },
    {
      "cell_type": "code",
      "source": [
        "# 四角形の面積\n",
        "# 縦の長さ  a 、横の長さ  b  の長方形の面積  S\n",
        "# S = ab  \n",
        "# 一辺の長さ  a  の正方形の面積  S\n",
        "# S = a^2  \n",
        "# 底辺の長さ  a 、高さ  h  の平行四辺形の面積  S\n",
        "# S = ah  \n",
        "# 上底の長さ  a 、下底の長さ  b 、高さ  h  の台形の面積  S\n",
        "# S = {1\\over 2}(a+b)h  \n",
        "# 対角線の長さ  a 、もう一つの対角線の長さ  b  のひし形の面積  S\n",
        "# S = {1\\over 2}ab  \n",
        "# 四辺の長さが a,b,c,d で円に内接する四角形の面積 S :（ブラーマグプタの公式）\n",
        "# S=\\sqrt{\\frac{(a+b+c-d)(a+b-c+d)(a-b+c+d)(-a+b+c+d)}{16}} \n",
        "# また、 s = \\frac{a + b + c + d}{2}   とすると、 S = \\sqrt{(s - a)(s - b)(s - c)(s - d)}  \n",
        "%%latex\n",
        "S = ab  \\\\\n",
        "S = a^2  \\\\\n",
        "S = ah  \\\\\n",
        "\\displaystyle S = {1\\over 2}(a+b)   \\\\[0.8em]\n",
        "S = {1\\over 2}ab  \\\\[0.8em]\n",
        "S=\\sqrt{\\frac{(a+b+c-d)(a+b-c+d)(a-b+c+d)(-a+b+c+d)}{16}} \\\\[0.8em]\n",
        "s = \\frac{a + b + c + d}{2}   \\\\[0.8em]\n",
        "S = \\sqrt{(s - a)(s - b)(s - c)(s - d)}  \\\\[0.8em]"
      ],
      "metadata": {
        "id": "ZXMJOn-1IqRv",
        "outputId": "3a51032a-d31f-450a-ce5e-8ba003424443",
        "colab": {
          "base_uri": "https://localhost:8080/",
          "height": 318
        }
      },
      "execution_count": null,
      "outputs": [
        {
          "output_type": "display_data",
          "data": {
            "text/plain": [
              "<IPython.core.display.Latex object>"
            ],
            "text/latex": "S = ab  \\\\\nS = a^2  \\\\\nS = ah  \\\\\n\\displaystyle S = {1\\over 2}(a+b)   \\\\[0.8em]\nS = {1\\over 2}ab  \\\\[0.8em]\nS=\\sqrt{\\frac{(a+b+c-d)(a+b-c+d)(a-b+c+d)(-a+b+c+d)}{16}} \\\\[0.8em]\ns = \\frac{a + b + c + d}{2}   \\\\[0.8em]\nS = \\sqrt{(s - a)(s - b)(s - c)(s - d)}  \\\\[0.8em]"
          },
          "metadata": {}
        }
      ]
    },
    {
      "cell_type": "code",
      "source": [
        "# 正多角形の面積\n",
        "# 一辺の長さ  a  の正 n 角形の面積  S\n",
        "# S = \\frac{n a^2}{4 \\tan{\\frac{\\pi}{n}} } \n",
        "%%latex\n",
        "\\displaystyle\n",
        "S = \\frac{n a^2}{4 \\tan{\\frac{\\pi}{n}} } "
      ],
      "metadata": {
        "id": "OKXcrHJafR0L",
        "outputId": "4e45807c-a33e-415f-b01e-5836aef2e2c9",
        "colab": {
          "base_uri": "https://localhost:8080/",
          "height": 60
        }
      },
      "execution_count": null,
      "outputs": [
        {
          "output_type": "display_data",
          "data": {
            "text/plain": [
              "<IPython.core.display.Latex object>"
            ],
            "text/latex": "\\displaystyle\nS = \\frac{n a^2}{4 \\tan{\\frac{\\pi}{n}} } "
          },
          "metadata": {}
        }
      ]
    },
    {
      "cell_type": "code",
      "source": [
        "# 円と扇形の面積\n",
        "# 半径  r の円の面積  S\n",
        "# S = \\pi r^2  \n",
        "# 半径  r 、中心角 a （度）の扇形の面積 S\n",
        "# S = \\frac{a}{360} r^2 \\pi  \n",
        "# 半径  r 、中心角 \\theta (\\mathrm{rad}) の扇形の面積  S\n",
        "# S = \\frac{1}{2} \\theta r^2  \n",
        "# 半径  r 、弧の長さ l の扇形の面積  S\n",
        "# S = \\frac{1}{2} rl  \n",
        "%%latex\n",
        "S = \\pi r^2  \\\\[0.8em]\n",
        "\\displaystyle S = \\frac{a}{360} r^2 \\pi  \\\\[0.8em]\n",
        "S = \\frac{1}{2} \\theta r^2  \\\\[0.8em]\n",
        "S = \\frac{1}{2} rl \\\\[0.8em]"
      ],
      "metadata": {
        "id": "m9pFF52TfgUx",
        "outputId": "64bcefab-3fac-494b-fa02-3af5a7e9a9a8",
        "colab": {
          "base_uri": "https://localhost:8080/",
          "height": 192
        }
      },
      "execution_count": null,
      "outputs": [
        {
          "output_type": "display_data",
          "data": {
            "text/plain": [
              "<IPython.core.display.Latex object>"
            ],
            "text/latex": "S = \\pi r^2  \\\\[0.8em]\n\\displaystyle S = \\frac{a}{360} r^2 \\pi  \\\\[0.8em]\nS = \\frac{1}{2} \\theta r^2  \\\\[0.8em]\nS = \\frac{1}{2} rl \\\\[0.8em]"
          },
          "metadata": {}
        }
      ]
    },
    {
      "cell_type": "code",
      "source": [
        "# 立体図形の面積\n",
        "# 縦の長さ  a 、横の長さ  b 、高さ  h  の直方体の表面積  S\n",
        "# S = 2(ab + bh + ah)  \n",
        "# 底面積 B\n",
        "# B = 2ab  \n",
        "# 側面積 A\n",
        "# A = 2h(a + b)  \n",
        "# 一辺の長さ  a  の立方体の表面積  S\n",
        "# S = 6a^2 \n",
        "# 底面の周の長さ  l 、高さ  h  の柱体の側面積  S\n",
        "# S = lh \n",
        "# 半径 r の球の表面積 S\n",
        "# S = 4 \\pi r^2  \n",
        "%%latex\n",
        "S = 2(ab + bh + ah)  \\\\\n",
        "B = 2ab  \\\\\n",
        "A = 2h(a + b)  \\\\\n",
        "S = 6a^2 \\\\\n",
        "S = lh \\\\\n",
        "S = 4 \\pi r^2"
      ],
      "metadata": {
        "id": "0HvrJrjpHQRl",
        "colab": {
          "base_uri": "https://localhost:8080/",
          "height": 149
        },
        "outputId": "a5d17fe3-4395-454f-b888-75a8d7b34ba3"
      },
      "execution_count": null,
      "outputs": [
        {
          "output_type": "display_data",
          "data": {
            "text/plain": [
              "<IPython.core.display.Latex object>"
            ],
            "text/latex": "S = 2(ab + bh + ah)  \\\\\nB = 2ab  \\\\\nA = 2h(a + b)  \\\\\nS = 6a^2 \\\\\nS = lh \\\\\nS = 4 \\pi r^2"
          },
          "metadata": {}
        }
      ]
    },
    {
      "cell_type": "code",
      "source": [
        "# 体積\n",
        "# 縦の長さ  a 、横の長さ  b 、高さ  h  の直方体の体積  V\n",
        "# V = abh  \n",
        "# 一辺の長さ  a  の立方体の体積  V\n",
        "# V = a^3  \n",
        "# 底面積  S 、高さ  h  の柱体の体積  V\n",
        "# V = Sh  \n",
        "# 底面積  S 、高さ  h  の錐体の体積  V\n",
        "# V = \\frac{1}{3}Sh  \n",
        "# 一辺の長さ  a  の正四面体の体積  V\n",
        "# V = {\\sqrt{2}\\over 12}a^3  \n",
        "# 一辺の長さ  a  の正八面体の体積  V\n",
        "# V = {\\sqrt{2}\\over 3}a^3  \n",
        "# 一辺の長さ  a  の正十二面体の体積  V\n",
        "# V = {15 + 7\\sqrt{5}\\over 4}a^3  \n",
        "# 一辺の長さ  a  の正二十面体の体積  V\n",
        "# V = {5( 3 + \\sqrt{5} )\\over 12}a^3  \n",
        "# *球の体積  V\n",
        "# V = {4\\over 3}\\pi r^3  \n",
        "%%latex\n",
        "V = abh  \\\\[0.8em]\n",
        "V = a^3  \\\\[0.8em]\n",
        "V = Sh  \\\\[0.8em]\n",
        "\\displaystyle V = \\frac{1}{3}Sh  \\\\[0.8em]\n",
        "V = {\\sqrt{2}\\over 12}a^3  \\\\[0.8em]\n",
        "V = {\\sqrt{2}\\over 3}a^3  \\\\[0.8em]\n",
        "V = {15 + 7\\sqrt{5}\\over 4}a^3  \\\\[0.8em]\n",
        "V = {5( 3 + \\sqrt{5} )\\over 12}a^3  \\\\[0.8em]\n",
        "V = {4\\over 3}\\pi r^3  \\\\[0.8em]"
      ],
      "metadata": {
        "id": "WSzSgYksJwZh",
        "colab": {
          "base_uri": "https://localhost:8080/",
          "height": 427
        },
        "outputId": "4b6b55a5-8f4e-4074-d834-4d9ed55f0cf3"
      },
      "execution_count": null,
      "outputs": [
        {
          "output_type": "display_data",
          "data": {
            "text/plain": [
              "<IPython.core.display.Latex object>"
            ],
            "text/latex": "V = abh  \\\\[0.8em]\nV = a^3  \\\\[0.8em]\nV = Sh  \\\\[0.8em]\n\\displaystyle V = \\frac{1}{3}Sh  \\\\[0.8em]\nV = {\\sqrt{2}\\over 12}a^3  \\\\[0.8em]\nV = {\\sqrt{2}\\over 3}a^3  \\\\[0.8em]\nV = {15 + 7\\sqrt{5}\\over 4}a^3  \\\\[0.8em]\nV = {5( 3 + \\sqrt{5} )\\over 12}a^3  \\\\[0.8em]\nV = {4\\over 3}\\pi r^3  \\\\[0.8em]"
          },
          "metadata": {}
        }
      ]
    },
    {
      "cell_type": "code",
      "metadata": {
        "id": "dTCeYcEwMMW5",
        "colab": {
          "base_uri": "https://localhost:8080/",
          "height": 234
        },
        "outputId": "374aa1a7-d3dc-4051-cdb9-d10a6ee11ee5"
      },
      "source": [
        "# cuboid\n",
        "%%html\n",
        "<svg xmlns=\"http://www.w3.org/2000/svg\" xmlns:xlink=\"http://www.w3.org/1999/xlink\" width=\"234.982\" height=\"212.274\"><defs><marker id=\"i\" refX=\"0\" refY=\"0\" orient=\"auto\" overflow=\"visible\"><path d=\"M4 0l2-2-7 2 7 2z\" fill-rule=\"evenodd\" stroke=\"#000\" stroke-width=\".4pt\"/></marker><marker id=\"g\" refX=\"0\" refY=\"0\" orient=\"auto\" overflow=\"visible\"><path d=\"M4 0l2-2-7 2 7 2z\" fill-rule=\"evenodd\" stroke=\"#000\" stroke-width=\".4pt\"/></marker><marker orient=\"auto\" refY=\"0\" refX=\"0\" id=\"e\" overflow=\"visible\"><path d=\"M4 0l2-2-7 2 7 2z\" fill-rule=\"evenodd\" stroke=\"#000\" stroke-width=\".4pt\"/></marker><marker id=\"j\" refX=\"0\" refY=\"0\" orient=\"auto\" overflow=\"visible\"><path d=\"M-4 0l-2 2 7-2-7-2z\" fill-rule=\"evenodd\" stroke=\"#000\" stroke-width=\".4pt\"/></marker><marker id=\"h\" refX=\"0\" refY=\"0\" orient=\"auto\" overflow=\"visible\"><path d=\"M-4 0l-2 2 7-2-7-2z\" fill-rule=\"evenodd\" stroke=\"#000\" stroke-width=\".4pt\"/></marker><marker orient=\"auto\" refY=\"0\" refX=\"0\" id=\"f\" overflow=\"visible\"><path d=\"M-4 0l-2 2 7-2-7-2z\" fill-rule=\"evenodd\" stroke=\"#000\" stroke-width=\".4pt\"/></marker><linearGradient id=\"b\"><stop offset=\"0\" stop-color=\"#6465c2\"/><stop offset=\"1\" stop-color=\"#6b6dfc\" stop-opacity=\".457\"/></linearGradient><linearGradient id=\"a\"><stop offset=\"0\" stop-color=\"#8c8dfd\"/><stop offset=\"1\" stop-color=\"#ccccfe\" stop-opacity=\"0\"/></linearGradient><linearGradient xlink:href=\"#a\" id=\"c\" x1=\"-240.815\" y1=\"334.619\" x2=\"-141.752\" y2=\"274.811\" gradientUnits=\"userSpaceOnUse\" gradientTransform=\"scale(1.3672) rotate(.938 5001.791 3313.81)\"/><linearGradient xlink:href=\"#b\" id=\"d\" x1=\"-124.996\" y1=\"305.277\" x2=\"-180.045\" y2=\"263.655\" gradientUnits=\"userSpaceOnUse\" gradientTransform=\"scale(1.3672) rotate(.938 5001.791 3313.81)\"/></defs><path d=\"M110.397 96.831L108.783 0l103.315 19.442-7.41 102.65z\" fill=\"#b0adfc\" fill-opacity=\".726\" fill-rule=\"evenodd\"/><path d=\"M110.397 96.831l-60.718 51.35 107.336 36.111 47.673-62.2z\" fill=\"#ababfe\" fill-opacity=\".726\" fill-rule=\"evenodd\"/><path d=\"M41.179 37.826L108.783 0l1.614 96.831-60.718 51.35z\" fill=\"#9494ff\" fill-opacity=\".726\" fill-rule=\"evenodd\"/><path d=\"M-260.753 236.816l119.772 28.013-3.936 118.453-107.336-36.111z\" fill=\"url(#c)\" fill-rule=\"evenodd\" transform=\"translate(301.932 -198.99)\"/><path d=\"M108.783 0L41.179 37.826l119.772 28.013 51.147-46.397z\" fill=\"#7f80d3\" fill-opacity=\".785\" fill-rule=\"evenodd\"/><path d=\"M-140.981 264.829l51.147-46.397-7.41 102.65-47.673 62.2z\" fill=\"url(#d)\" fill-rule=\"evenodd\" transform=\"translate(301.932 -198.99)\"/><path d=\"M-260.222 364.045l107.338 36.111\" fill=\"none\" stroke=\"#000\" stroke-width=\"1.367\" marker-start=\"url(#e)\" marker-end=\"url(#f)\" transform=\"translate(301.932 -198.99)\"/><path d=\"M-277.36 237.354l8.5 110.354\" fill=\"none\" stroke=\"#000\" stroke-width=\"1.367\" marker-start=\"url(#g)\" marker-end=\"url(#h)\" transform=\"translate(301.932 -198.99)\"/><path d=\"M-127.714 396.113l47.674-62.199\" fill=\"none\" stroke=\"#000\" stroke-width=\"1.367\" marker-start=\"url(#i)\" marker-end=\"url(#j)\" transform=\"translate(301.932 -198.99)\"/><text style=\"line-height:34.179676px;-inkscape-font-specification:'Comic Sans MS, Italic';font-variant-ligatures:normal;font-variant-caps:normal;font-variant-numeric:normal;font-feature-settings:normal;text-indent:0;text-align:start;text-decoration-line:none;text-decoration-style:solid;text-decoration-color:#000;text-transform:none;white-space:normal;isolation:auto;mix-blend-mode:normal;solid-color:#000;solid-opacity:1\" x=\"-309.165\" y=\"-305.253\" transform=\"rotate(-94.817 59.504 -238.273)\" color=\"#000\" font-style=\"italic\" font-weight=\"400\" font-size=\"24\" font-family=\"Comic Sans MS\" letter-spacing=\"0\" word-spacing=\"0\" overflow=\"visible\" stroke-width=\"1.367\"><tspan x=\"-309.165\" y=\"-305.253\" style=\"-inkscape-font-specification:'Comic Sans MS, Italic';font-variant-ligatures:normal;font-variant-caps:normal;font-variant-numeric:normal;font-feature-settings:normal;text-align:start\">height</tspan></text><text style=\"line-height:34.179676px;-inkscape-font-specification:'Comic Sans MS, Italic';font-variant-ligatures:normal;font-variant-caps:normal;font-variant-numeric:normal;font-feature-settings:normal;text-indent:0;text-align:start;text-decoration-line:none;text-decoration-style:solid;text-decoration-color:#000;text-transform:none;white-space:normal;isolation:auto;mix-blend-mode:normal;solid-color:#000;solid-opacity:1\" x=\"-104.716\" y=\"450.896\" transform=\"rotate(19.527 729.167 777.823)\" color=\"#000\" font-style=\"italic\" font-weight=\"400\" font-size=\"24\" font-family=\"Comic Sans MS\" letter-spacing=\"0\" word-spacing=\"0\" overflow=\"visible\" stroke-width=\"1.367\"><tspan x=\"-104.716\" y=\"450.896\" style=\"-inkscape-font-specification:'Comic Sans MS, Italic';font-variant-ligatures:normal;font-variant-caps:normal;font-variant-numeric:normal;font-feature-settings:normal;text-align:start\">width</tspan></text><text style=\"line-height:34.179676px;-inkscape-font-specification:'Comic Sans MS, Italic';font-variant-ligatures:normal;font-variant-caps:normal;font-variant-numeric:normal;font-feature-settings:normal;text-indent:0;text-align:start;text-decoration-line:none;text-decoration-style:solid;text-decoration-color:#000;text-transform:none;white-space:normal;isolation:auto;mix-blend-mode:normal;solid-color:#000;solid-opacity:1\" x=\"-388.756\" y=\"162.287\" transform=\"rotate(-52.673 -50.024 -404.462)\" color=\"#000\" font-style=\"italic\" font-weight=\"400\" font-size=\"24\" font-family=\"Comic Sans MS\" letter-spacing=\"0\" word-spacing=\"0\" overflow=\"visible\" stroke-width=\"1.367\"><tspan x=\"-388.756\" y=\"162.287\" style=\"-inkscape-font-specification:'Comic Sans MS, Italic';font-variant-ligatures:normal;font-variant-caps:normal;font-variant-numeric:normal;font-feature-settings:normal;text-align:start\">depth</tspan></text></svg>"
      ],
      "execution_count": null,
      "outputs": [
        {
          "output_type": "display_data",
          "data": {
            "text/html": [
              "<svg xmlns=\"http://www.w3.org/2000/svg\" xmlns:xlink=\"http://www.w3.org/1999/xlink\" width=\"234.982\" height=\"212.274\"><defs><marker id=\"i\" refX=\"0\" refY=\"0\" orient=\"auto\" overflow=\"visible\"><path d=\"M4 0l2-2-7 2 7 2z\" fill-rule=\"evenodd\" stroke=\"#000\" stroke-width=\".4pt\"/></marker><marker id=\"g\" refX=\"0\" refY=\"0\" orient=\"auto\" overflow=\"visible\"><path d=\"M4 0l2-2-7 2 7 2z\" fill-rule=\"evenodd\" stroke=\"#000\" stroke-width=\".4pt\"/></marker><marker orient=\"auto\" refY=\"0\" refX=\"0\" id=\"e\" overflow=\"visible\"><path d=\"M4 0l2-2-7 2 7 2z\" fill-rule=\"evenodd\" stroke=\"#000\" stroke-width=\".4pt\"/></marker><marker id=\"j\" refX=\"0\" refY=\"0\" orient=\"auto\" overflow=\"visible\"><path d=\"M-4 0l-2 2 7-2-7-2z\" fill-rule=\"evenodd\" stroke=\"#000\" stroke-width=\".4pt\"/></marker><marker id=\"h\" refX=\"0\" refY=\"0\" orient=\"auto\" overflow=\"visible\"><path d=\"M-4 0l-2 2 7-2-7-2z\" fill-rule=\"evenodd\" stroke=\"#000\" stroke-width=\".4pt\"/></marker><marker orient=\"auto\" refY=\"0\" refX=\"0\" id=\"f\" overflow=\"visible\"><path d=\"M-4 0l-2 2 7-2-7-2z\" fill-rule=\"evenodd\" stroke=\"#000\" stroke-width=\".4pt\"/></marker><linearGradient id=\"b\"><stop offset=\"0\" stop-color=\"#6465c2\"/><stop offset=\"1\" stop-color=\"#6b6dfc\" stop-opacity=\".457\"/></linearGradient><linearGradient id=\"a\"><stop offset=\"0\" stop-color=\"#8c8dfd\"/><stop offset=\"1\" stop-color=\"#ccccfe\" stop-opacity=\"0\"/></linearGradient><linearGradient xlink:href=\"#a\" id=\"c\" x1=\"-240.815\" y1=\"334.619\" x2=\"-141.752\" y2=\"274.811\" gradientUnits=\"userSpaceOnUse\" gradientTransform=\"scale(1.3672) rotate(.938 5001.791 3313.81)\"/><linearGradient xlink:href=\"#b\" id=\"d\" x1=\"-124.996\" y1=\"305.277\" x2=\"-180.045\" y2=\"263.655\" gradientUnits=\"userSpaceOnUse\" gradientTransform=\"scale(1.3672) rotate(.938 5001.791 3313.81)\"/></defs><path d=\"M110.397 96.831L108.783 0l103.315 19.442-7.41 102.65z\" fill=\"#b0adfc\" fill-opacity=\".726\" fill-rule=\"evenodd\"/><path d=\"M110.397 96.831l-60.718 51.35 107.336 36.111 47.673-62.2z\" fill=\"#ababfe\" fill-opacity=\".726\" fill-rule=\"evenodd\"/><path d=\"M41.179 37.826L108.783 0l1.614 96.831-60.718 51.35z\" fill=\"#9494ff\" fill-opacity=\".726\" fill-rule=\"evenodd\"/><path d=\"M-260.753 236.816l119.772 28.013-3.936 118.453-107.336-36.111z\" fill=\"url(#c)\" fill-rule=\"evenodd\" transform=\"translate(301.932 -198.99)\"/><path d=\"M108.783 0L41.179 37.826l119.772 28.013 51.147-46.397z\" fill=\"#7f80d3\" fill-opacity=\".785\" fill-rule=\"evenodd\"/><path d=\"M-140.981 264.829l51.147-46.397-7.41 102.65-47.673 62.2z\" fill=\"url(#d)\" fill-rule=\"evenodd\" transform=\"translate(301.932 -198.99)\"/><path d=\"M-260.222 364.045l107.338 36.111\" fill=\"none\" stroke=\"#000\" stroke-width=\"1.367\" marker-start=\"url(#e)\" marker-end=\"url(#f)\" transform=\"translate(301.932 -198.99)\"/><path d=\"M-277.36 237.354l8.5 110.354\" fill=\"none\" stroke=\"#000\" stroke-width=\"1.367\" marker-start=\"url(#g)\" marker-end=\"url(#h)\" transform=\"translate(301.932 -198.99)\"/><path d=\"M-127.714 396.113l47.674-62.199\" fill=\"none\" stroke=\"#000\" stroke-width=\"1.367\" marker-start=\"url(#i)\" marker-end=\"url(#j)\" transform=\"translate(301.932 -198.99)\"/><text style=\"line-height:34.179676px;-inkscape-font-specification:'Comic Sans MS, Italic';font-variant-ligatures:normal;font-variant-caps:normal;font-variant-numeric:normal;font-feature-settings:normal;text-indent:0;text-align:start;text-decoration-line:none;text-decoration-style:solid;text-decoration-color:#000;text-transform:none;white-space:normal;isolation:auto;mix-blend-mode:normal;solid-color:#000;solid-opacity:1\" x=\"-309.165\" y=\"-305.253\" transform=\"rotate(-94.817 59.504 -238.273)\" color=\"#000\" font-style=\"italic\" font-weight=\"400\" font-size=\"24\" font-family=\"Comic Sans MS\" letter-spacing=\"0\" word-spacing=\"0\" overflow=\"visible\" stroke-width=\"1.367\"><tspan x=\"-309.165\" y=\"-305.253\" style=\"-inkscape-font-specification:'Comic Sans MS, Italic';font-variant-ligatures:normal;font-variant-caps:normal;font-variant-numeric:normal;font-feature-settings:normal;text-align:start\">height</tspan></text><text style=\"line-height:34.179676px;-inkscape-font-specification:'Comic Sans MS, Italic';font-variant-ligatures:normal;font-variant-caps:normal;font-variant-numeric:normal;font-feature-settings:normal;text-indent:0;text-align:start;text-decoration-line:none;text-decoration-style:solid;text-decoration-color:#000;text-transform:none;white-space:normal;isolation:auto;mix-blend-mode:normal;solid-color:#000;solid-opacity:1\" x=\"-104.716\" y=\"450.896\" transform=\"rotate(19.527 729.167 777.823)\" color=\"#000\" font-style=\"italic\" font-weight=\"400\" font-size=\"24\" font-family=\"Comic Sans MS\" letter-spacing=\"0\" word-spacing=\"0\" overflow=\"visible\" stroke-width=\"1.367\"><tspan x=\"-104.716\" y=\"450.896\" style=\"-inkscape-font-specification:'Comic Sans MS, Italic';font-variant-ligatures:normal;font-variant-caps:normal;font-variant-numeric:normal;font-feature-settings:normal;text-align:start\">width</tspan></text><text style=\"line-height:34.179676px;-inkscape-font-specification:'Comic Sans MS, Italic';font-variant-ligatures:normal;font-variant-caps:normal;font-variant-numeric:normal;font-feature-settings:normal;text-indent:0;text-align:start;text-decoration-line:none;text-decoration-style:solid;text-decoration-color:#000;text-transform:none;white-space:normal;isolation:auto;mix-blend-mode:normal;solid-color:#000;solid-opacity:1\" x=\"-388.756\" y=\"162.287\" transform=\"rotate(-52.673 -50.024 -404.462)\" color=\"#000\" font-style=\"italic\" font-weight=\"400\" font-size=\"24\" font-family=\"Comic Sans MS\" letter-spacing=\"0\" word-spacing=\"0\" overflow=\"visible\" stroke-width=\"1.367\"><tspan x=\"-388.756\" y=\"162.287\" style=\"-inkscape-font-specification:'Comic Sans MS, Italic';font-variant-ligatures:normal;font-variant-caps:normal;font-variant-numeric:normal;font-feature-settings:normal;text-align:start\">depth</tspan></text></svg>"
            ],
            "text/plain": [
              "<IPython.core.display.HTML object>"
            ]
          },
          "metadata": {
            "tags": []
          }
        }
      ]
    },
    {
      "cell_type": "code",
      "source": [
        "# ベクトル\n",
        "# 以下に挙げる公式で空間ベクトルで成り立つものは、その  z  成分を 0  とした平面ベクトルでも成り立つ。\n",
        "# \\vec{a}  と  \\vec{b}  の成す角が  \\theta  のとき\n",
        "# \\cos \\theta = \\frac{\\vec{a}\\cdot\\vec{b}}{|\\vec{a}||\\vec{b}|}  \n",
        "# \\vec{a}\\ne\\vec{0} ,  \\vec{b}\\ne\\vec{0} のとき、\n",
        "# \\vec{a}\\perp\\vec{b} \\iff \\vec{a}\\cdot\\vec{b}=0 \n",
        "# \\overrightarrow{OA}=\\vec{a} ,  \\overrightarrow{OB}=\\vec{b} ,  O  は原点とするときの三角形 OAB の面積  S\n",
        "# S=\\frac{1}{2}\\sqrt{|\\vec{a}|^2|\\vec{b}|^2-(\\vec{a}\\cdot\\vec{b})^2}  \n",
        "# とくに、 \\vec{a}=(a_x,a_y) ,  \\vec{b}=(b_x,b_y) とすると、\n",
        "# S=\\frac{1}{2}|a_xb_y-a_yb_x|  \n",
        "# 二つのベクトル  \\vec{x} ,  \\vec{y}  に対し、\n",
        "# (\\vec{x}\\cdot\\vec{y})^2+|\\vec{x}|^2\\left|\\vec{y}-\\frac{\\vec{x}\\cdot\\vec{y}}{|\\vec{x}|^2}\\vec{x}\\right|^2 = |\\vec{x}|^2|\\vec{y}|^2  \n",
        "# よって、\n",
        "# |\\vec{x}\\cdot\\vec{y}| \\leq |\\vec{x}||\\vec{y}|  \n",
        "# 等号成立は、実数 k があって  \\vec{y} = k\\vec{x}  とできるときのみ。\n",
        "%%latex\n",
        "\\displaystyle\n",
        "\\cos \\theta = \\frac{\\vec{a}\\cdot\\vec{b}}{|\\vec{a}||\\vec{b}|}   \\\\[0.8em]\n",
        "\\vec{a}\\perp\\vec{b} \\iff \\vec{a}\\cdot\\vec{b}=0  \\\\[0.8em]\n",
        "S=\\frac{1}{2}\\sqrt{|\\vec{a}|^2|\\vec{b}|^2-(\\vec{a}\\cdot\\vec{b})^2}   \\\\[0.8em]\n",
        "S=\\frac{1}{2}|a_xb_y-a_yb_x|   \\\\[0.8em]\n",
        "(\\vec{x}\\cdot\\vec{y})^2+|\\vec{x}|^2\\left|\\vec{y}-\\frac{\\vec{x}\\cdot\\vec{y}}{|\\vec{x}|^2}\\vec{x}\\right|^2 = |\\vec{x}|^2|\\vec{y}|^2   \\\\[0.8em]\n",
        "|\\vec{x}\\cdot\\vec{y}| \\leq |\\vec{x}||\\vec{y}|   \\\\[0.8em]\n",
        "\\vec{y} = k\\vec{x} \\\\[0.8em]\n",
        "\n",
        "\n"
      ],
      "metadata": {
        "id": "67eIx7nJKEAP",
        "colab": {
          "base_uri": "https://localhost:8080/",
          "height": 336
        },
        "outputId": "dd7cb7e9-8116-4086-acff-dfa3af79d49a"
      },
      "execution_count": null,
      "outputs": [
        {
          "output_type": "display_data",
          "data": {
            "text/plain": [
              "<IPython.core.display.Latex object>"
            ],
            "text/latex": "\\displaystyle\n\\cos \\theta = \\frac{\\vec{a}\\cdot\\vec{b}}{|\\vec{a}||\\vec{b}|}   \\\\[0.8em]\n\\vec{a}\\perp\\vec{b} \\iff \\vec{a}\\cdot\\vec{b}=0  \\\\[0.8em]\nS=\\frac{1}{2}\\sqrt{|\\vec{a}|^2|\\vec{b}|^2-(\\vec{a}\\cdot\\vec{b})^2}   \\\\[0.8em]\nS=\\frac{1}{2}|a_xb_y-a_yb_x|   \\\\[0.8em]\n(\\vec{x}\\cdot\\vec{y})^2+|\\vec{x}|^2\\left|\\vec{y}-\\frac{\\vec{x}\\cdot\\vec{y}}{|\\vec{x}|^2}\\vec{x}\\right|^2 = |\\vec{x}|^2|\\vec{y}|^2   \\\\[0.8em]\n|\\vec{x}\\cdot\\vec{y}| \\leq |\\vec{x}||\\vec{y}|   \\\\[0.8em]\n\\vec{y} = k\\vec{x} \\\\[0.8em]\n\n"
          },
          "metadata": {}
        }
      ]
    },
    {
      "cell_type": "code",
      "source": [
        "# 展開公式\n",
        "# 基本公式\n",
        "# (a+b)(c+d) = ac + ad + bc + bd\n",
        "# (x+a)(x+b) = x^2 + (a+b)x + ab\n",
        "# (ax+b)(cx+d) = acx^2 + (ad+bc)x + bd\n",
        "# 累乗\n",
        "# (a+b)^2 = a^2 + 2ab + b^2\n",
        "# (a-b)^2 = a^2 - 2ab + b^2\n",
        "# (a+b)^3 = a^3 + 3a^2b + 3ab^2 + b^3\n",
        "# (a-b)^3 = a^3 - 3a^2b + 3ab^2 - b^3\n",
        "# (a+b)^4 = a^4 + 4a^3b + 6a^2b^2 + 4ab^3 + b^4\n",
        "# (a-b)^4 = a^4 - 4a^3b + 6a^2b^2 - 4ab^3 + b^4\n",
        "# (a+b)^5 = a^5 + 5a^4b + 10a^3b^2 + 10a^2b^3 + 5ab^4 + b^5\n",
        "# (a+b)^8 = a^8 + 8a^7b + 28a^6b^2 + 56a^5b^3 + 70a^4b^4 + 56a^3b^5 + 28a^2b^6 + 8ab^7 + b^8\n",
        "# (a-b)^8 = a^8 - 8a^7b + 28a^6b^2 - 56a^5b^3 + 70a^4b^4 - 56a^3b^5 + 28a^2b^6 - 8ab^7 + b^8\n",
        "# (a+b)^n = \\sum_{r = 0}^n{}_n{\\rm C}_{r} a^{n-r} b^r\n",
        "# 応用\n",
        "# (a+b)(a-b) = a^2 - b^2\n",
        "# (a+b)(a^2 - ab + b^2) = a^3 + b^3\n",
        "# (a-b)(a^2 + ab + b^2) = a^3 - b^3\n",
        "# (a+b+c)^2 = a^2 + b^2 + c^2 + 2ab + 2bc + 2ca\n",
        "# (a+b+c)^3 = a^3 + b^3 + c^3 + 3ab^2 + 3ac^2 + 3ba^2 + 3ca^2 + 6abc + 3bc^2 + 3cb^2\n",
        "# (a+b+c)^4 = a^4 + b^4 + c^4 + 4ab^3 + 4ac^3 + 4ba^3 + 4ca^3 + 4bc^3 + 4cb^3 + 6a^2b^2 + 6a^2c^2 + 6b^2c^2 + 12a^2bc + 12ab^2c + 12abc^2\n",
        "%%latex\n",
        "(a+b)(c+d) = ac + ad + bc + bd \\\\\n",
        "(x+a)(x+b) = x^2 + (a+b)x + ab \\\\\n",
        "(ax+b)(cx+d) = acx^2 + (ad+bc)x + bd \\\\\n",
        "(a+b)^2 = a^2 + 2ab + b^2 \\\\\n",
        "(a-b)^2 = a^2 - 2ab + b^2 \\\\\n",
        "(a+b)^3 = a^3 + 3a^2b + 3ab^2 + b^3 \\\\\n",
        "(a-b)^3 = a^3 - 3a^2b + 3ab^2 - b^3 \\\\\n",
        "(a+b)^4 = a^4 + 4a^3b + 6a^2b^2 + 4ab^3 + b^4 \\\\\n",
        "(a-b)^4 = a^4 - 4a^3b + 6a^2b^2 - 4ab^3 + b^4 \\\\\n",
        "(a+b)^5 = a^5 + 5a^4b + 10a^3b^2 + 10a^2b^3 + 5ab^4 + b^5 \\\\\n",
        "(a+b)^8 = a^8 + 8a^7b + 28a^6b^2 + 56a^5b^3 + 70a^4b^4 + 56a^3b^5 + 28a^2b^6 + 8ab^7 + b^8 \\\\\n",
        "(a-b)^8 = a^8 - 8a^7b + 28a^6b^2 - 56a^5b^3 + 70a^4b^4 - 56a^3b^5 + 28a^2b^6 - 8ab^7 + b^8 \\\\\n",
        "\\displaystyle (a+b)^n = \\sum_{r = 0}^n{}_n{\\rm C}_{r} a^{n-r} b^r \\\\\n",
        "(a+b)(a-b) = a^2 - b^2 \\\\\n",
        "(a+b)(a^2 - ab + b^2) = a^3 + b^3 \\\\\n",
        "(a-b)(a^2 + ab + b^2) = a^3 - b^3 \\\\\n",
        "(a+b+c)^2 = a^2 + b^2 + c^2 + 2ab + 2bc + 2ca \\\\\n",
        "(a+b+c)^3 = a^3 + b^3 + c^3 + 3ab^2 + 3ac^2 + 3ba^2 + 3ca^2 + 6abc + 3bc^2 + 3cb^2 \\\\\n",
        "(a+b+c)^4 = a^4 + b^4 + c^4 + 4ab^3 + 4ac^3 + 4ba^3 + 4ca^3 + 4bc^3 + 4cb^3 + 6a^2b^2 + 6a^2c^2 + 6b^2c^2 + 12a^2bc + 12ab^2c + 12abc^2 \\\\"
      ],
      "metadata": {
        "id": "DISM-JNVMgzj",
        "colab": {
          "base_uri": "https://localhost:8080/",
          "height": 461
        },
        "outputId": "e6a8927d-a4b6-4d39-8203-84f374848b44"
      },
      "execution_count": null,
      "outputs": [
        {
          "output_type": "display_data",
          "data": {
            "text/plain": [
              "<IPython.core.display.Latex object>"
            ],
            "text/latex": "(a+b)(c+d) = ac + ad + bc + bd \\\\\n(x+a)(x+b) = x^2 + (a+b)x + ab \\\\\n(ax+b)(cx+d) = acx^2 + (ad+bc)x + bd \\\\\n(a+b)^2 = a^2 + 2ab + b^2 \\\\\n(a-b)^2 = a^2 - 2ab + b^2 \\\\\n(a+b)^3 = a^3 + 3a^2b + 3ab^2 + b^3 \\\\\n(a-b)^3 = a^3 - 3a^2b + 3ab^2 - b^3 \\\\\n(a+b)^4 = a^4 + 4a^3b + 6a^2b^2 + 4ab^3 + b^4 \\\\\n(a-b)^4 = a^4 - 4a^3b + 6a^2b^2 - 4ab^3 + b^4 \\\\\n(a+b)^5 = a^5 + 5a^4b + 10a^3b^2 + 10a^2b^3 + 5ab^4 + b^5 \\\\\n(a+b)^8 = a^8 + 8a^7b + 28a^6b^2 + 56a^5b^3 + 70a^4b^4 + 56a^3b^5 + 28a^2b^6 + 8ab^7 + b^8 \\\\\n(a-b)^8 = a^8 - 8a^7b + 28a^6b^2 - 56a^5b^3 + 70a^4b^4 - 56a^3b^5 + 28a^2b^6 - 8ab^7 + b^8 \\\\\n\\displaystyle (a+b)^n = \\sum_{r = 0}^n{}_n{\\rm C}_{r} a^{n-r} b^r \\\\\n(a+b)(a-b) = a^2 - b^2 \\\\\n(a+b)(a^2 - ab + b^2) = a^3 + b^3 \\\\\n(a-b)(a^2 + ab + b^2) = a^3 - b^3 \\\\\n(a+b+c)^2 = a^2 + b^2 + c^2 + 2ab + 2bc + 2ca \\\\\n(a+b+c)^3 = a^3 + b^3 + c^3 + 3ab^2 + 3ac^2 + 3ba^2 + 3ca^2 + 6abc + 3bc^2 + 3cb^2 \\\\\n(a+b+c)^4 = a^4 + b^4 + c^4 + 4ab^3 + 4ac^3 + 4ba^3 + 4ca^3 + 4bc^3 + 4cb^3 + 6a^2b^2 + 6a^2c^2 + 6b^2c^2 + 12a^2bc + 12ab^2c + 12abc^2 \\\\"
          },
          "metadata": {}
        }
      ]
    },
    {
      "cell_type": "code",
      "source": [
        "# 多項定理\n",
        "# (a+b+c)^n の展開式の一般項(多項定理) :  \n",
        "# \\qquad \\displaystyle \\frac{n!}{p! q! r!} a^p b^q c^r   (ただし、n = p + q + r)\n",
        "# (a+b+c+d)^2 = a^2 + b^2 + c^2 + d^2 + 2ab + 2ac + 2ad + 2bc + 2bd + 2cd \n",
        "# (a+b+c+d)^3 = a^3 + b^3 + c^3 + d^3 + 3ab^2 + 3ac^2 + 3ad^2 + 3ba^2+ 3ca^2 + 3da^2 + 6abc + 6abd + 6acd + 3ac^2 + 3cb^2 + 3db^2 + 6bcd + 3cd^2+3dc^2 \n",
        "# (a+b+c)(a^2 + b^2 + c^2 - ab - bc - ca) = {1\\over 2}(a+b+c)((a - b)^2 + (b - c)^2 +(c - a)^2)= a^3 + b^3 + c^3 -3abc\n",
        "# (x+a)(x+b)(x+c) = x^3 + (a+b+c)x^2 + (ab + bc + ca)x +abc \n",
        "# (ab+c)(bc+a)(ca+b) = (cab)^2 + cab^3 + bca^3 + (ab)^2 + abc^3 + (bc)^2 + (ac)^2 + abc \n",
        "# (a-b)(a^{n-1} + a^{n-2}b + a^{n-3}b^2 + \\cdots + b^{n-1}) = a^n - b^n \n",
        "# \\displaystyle \\sum_{r = 0}^n{}_n{\\rm C}_{r} = 2^n \n",
        "%%latex\n",
        "(a+b+c)^n \\\\\n",
        "\\displaystyle \\frac{n!}{p! q! r!} a^p b^q c^r \\quad\\text{where}\\quad n = p + q + r \\\\\n",
        "(a+b+c+d)^2 = a^2 + b^2 + c^2 + d^2 + 2ab + 2ac + 2ad + 2bc + 2bd + 2cd  \\\\\n",
        "(a+b+c+d)^3 = a^3 + b^3 + c^3 + d^3 + 3ab^2 + 3ac^2 + 3ad^2 + 3ba^2+ 3ca^2 + 3da^2 + 6abc + 6abd + 6acd + 3ac^2 + 3cb^2 + 3db^2 + 6bcd + 3cd^2+3dc^2  \\\\\n",
        "(a+b+c)(a^2 + b^2 + c^2 - ab - bc - ca) = {1\\over 2}(a+b+c)((a - b)^2 + (b - c)^2 +(c - a)^2)= a^3 + b^3 + c^3 -3abc \\\\\n",
        "(x+a)(x+b)(x+c) = x^3 + (a+b+c)x^2 + (ab + bc + ca)x +abc  \\\\\n",
        "(ab+c)(bc+a)(ca+b) = (cab)^2 + cab^3 + bca^3 + (ab)^2 + abc^3 + (bc)^2 + (ac)^2 + abc  \\\\\n",
        "(a-b)(a^{n-1} + a^{n-2}b + a^{n-3}b^2 + \\cdots + b^{n-1}) = a^n - b^n  \\\\[0.8em]\n",
        "\\displaystyle \\sum_{r = 0}^n{}_n{\\rm C}_{r} = 2^n  \\\\"
      ],
      "metadata": {
        "id": "b1ImUkLZgEPI",
        "outputId": "6b030769-ec36-47b6-df75-f99f9aac70ba",
        "colab": {
          "base_uri": "https://localhost:8080/",
          "height": 304
        }
      },
      "execution_count": null,
      "outputs": [
        {
          "output_type": "display_data",
          "data": {
            "text/plain": [
              "<IPython.core.display.Latex object>"
            ],
            "text/latex": "(a+b+c)^n \\\\\n\\displaystyle \\frac{n!}{p! q! r!} a^p b^q c^r \\quad\\text{where}\\quad n = p + q + r \\\\\n(a+b+c+d)^2 = a^2 + b^2 + c^2 + d^2 + 2ab + 2ac + 2ad + 2bc + 2bd + 2cd  \\\\\n(a+b+c+d)^3 = a^3 + b^3 + c^3 + d^3 + 3ab^2 + 3ac^2 + 3ad^2 + 3ba^2+ 3ca^2 + 3da^2 + 6abc + 6abd + 6acd + 3ac^2 + 3cb^2 + 3db^2 + 6bcd + 3cd^2+3dc^2  \\\\\n(a+b+c)(a^2 + b^2 + c^2 - ab - bc - ca) = {1\\over 2}(a+b+c)((a - b)^2 + (b - c)^2 +(c - a)^2)= a^3 + b^3 + c^3 -3abc \\\\\n(x+a)(x+b)(x+c) = x^3 + (a+b+c)x^2 + (ab + bc + ca)x +abc  \\\\\n(ab+c)(bc+a)(ca+b) = (cab)^2 + cab^3 + bca^3 + (ab)^2 + abc^3 + (bc)^2 + (ac)^2 + abc  \\\\\n(a-b)(a^{n-1} + a^{n-2}b + a^{n-3}b^2 + \\cdots + b^{n-1}) = a^n - b^n  \\\\[0.8em]\n\\displaystyle \\sum_{r = 0}^n{}_n{\\rm C}_{r} = 2^n  \\\\"
          },
          "metadata": {}
        }
      ]
    },
    {
      "cell_type": "code",
      "source": [
        "# 式の変形\n",
        "# a^2 + b^2 = (a+b)^2 - 2ab \n",
        "# (a-b)^2 = (a+b)^2 - 4ab \n",
        "# (a+b)^2 + (a-b)^2= 2(a^2 + b^2) \n",
        "# a^3+b^3 = (a+b)^3 - 3ab(a+b) \n",
        "# a^3-b^3 = (a-b)^3 + 3ab(a-b) \n",
        "# (a^2+b^2)(c^2+d^2) = (ac+bd)^2+(ad-bc)^2 \n",
        "# x^3 + y^3 + z^3 -3xyz = (x+y+z)(x^2 + y^2 + z^2 - xy - yz - zx) \n",
        "# x^2 + y^2 + z^2 -xy - yz - zx = \\frac{1}{2}\\{ (x-y)^2 + (y-z)^2 + (z-x)^2 \\} \n",
        "%%latex\n",
        "a^2 + b^2 = (a+b)^2 - 2ab \\\\\n",
        "(a-b)^2 = (a+b)^2 - 4ab \\\\\n",
        "(a+b)^2 + (a-b)^2= 2(a^2 + b^2) \\\\\n",
        "a^3+b^3 = (a+b)^3 - 3ab(a+b) \\\\\n",
        "a^3-b^3 = (a-b)^3 + 3ab(a-b) \\\\\n",
        "(a^2+b^2)(c^2+d^2) = (ac+bd)^2+(ad-bc)^2 \\\\\n",
        "x^3 + y^3 + z^3 -3xyz = (x+y+z)(x^2 + y^2 + z^2 - xy - yz - zx) \\\\\n",
        "\\displaystyle\n",
        "x^2 + y^2 + z^2 -xy - yz - zx = \\frac{1}{2}\\{ (x-y)^2 + (y-z)^2 + (z-x)^2 \\} \\\\"
      ],
      "metadata": {
        "id": "TKfflO3lNwPT",
        "outputId": "f3b90cf6-a379-486d-cec6-3f45f660a97e",
        "colab": {
          "base_uri": "https://localhost:8080/",
          "height": 203
        }
      },
      "execution_count": null,
      "outputs": [
        {
          "output_type": "display_data",
          "data": {
            "text/plain": [
              "<IPython.core.display.Latex object>"
            ],
            "text/latex": "a^2 + b^2 = (a+b)^2 - 2ab \\\\\n(a-b)^2 = (a+b)^2 - 4ab \\\\\n(a+b)^2 + (a-b)^2= 2(a^2 + b^2) \\\\\na^3+b^3 = (a+b)^3 - 3ab(a+b) \\\\\na^3-b^3 = (a-b)^3 + 3ab(a-b) \\\\\n(a^2+b^2)(c^2+d^2) = (ac+bd)^2+(ad-bc)^2 \\\\\nx^3 + y^3 + z^3 -3xyz = (x+y+z)(x^2 + y^2 + z^2 - xy - yz - zx) \\\\\n\\displaystyle\nx^2 + y^2 + z^2 -xy - yz - zx = \\frac{1}{2}\\{ (x-y)^2 + (y-z)^2 + (z-x)^2 \\} \\\\"
          },
          "metadata": {}
        }
      ]
    },
    {
      "cell_type": "code",
      "source": [
        "# 絶対不等式 absolute enequality\n",
        "# 正の実数からのみ成る数列  \\{a_n\\}  に対し、\n",
        "# \\frac{a_1+a_2+\\cdots+a_n}{n} \\geq \\sqrt[n]{a_1a_2\\cdots a_n} \n",
        "# 等号成立は  a_1 =  a_2 = &hellip; =  a_n のときのみ。（相加平均と相乗平均の関係式）\n",
        "# 複素数から成る数列  \\{a_n\\}  に対し、\n",
        "# |a_1+a_2+\\cdots+a_n| \\leq |a_1|+|a_2|+\\cdots+|a_n|  \n",
        "# 等号成立はすべての数の偏角が等しいときのみ。（三角不等式）\n",
        "# 二つの数列  \\{a_n\\} ,  \\{b_n\\}  に対し、\n",
        "# |a_1\\bar{b_1}+a_2\\bar{b_2}+\\cdots+a_n\\bar{b_n}|^2 \\leq (a_1\\bar{a_1} + a_2\\bar{a_2} +\\cdots+ a_n\\bar{a_n})(b_1\\bar{b_1} + b_2\\bar{b_2} +\\cdots+ b_n\\bar{b_n}) \n",
        "# 等号成立は、複素数 z で  b_1 = za_1,  b_2 = za_2, ...,  b_n = za_n が全て成り立つようなものが存在するときに限る。（コーシー・シュワルツの不等式）\n",
        "%%latex\n",
        "\\displaystyle\n",
        "\\frac{a_1+a_2+\\cdots+a_n}{n} \\geqq \\sqrt[n]{a_1a_2\\cdots a_n} \n",
        "\\quad\\text{where}\\quad a_n \\in \\mathbf{R}, \\quad a_n > 0 \\\\[0.8em]\n",
        "a_1 =  a_2 = \\cdots =  a_n \\\\\n",
        "|a_1+a_2+\\cdots+a_n| \\leqq |a_1|+|a_2|+\\cdots+|a_n|  \n",
        "\\quad\\text{where}\\quad a_n \\in \\mathbf{C} \\\\\n",
        "% 二つの数列  \\{a_n\\} ,  \\{b_n\\}  に対し、\n",
        "|a_1\\bar{b_1}+a_2\\bar{b_2}+\\cdots+a_n\\bar{b_n}|^2 \\leqq \n",
        "(a_1\\bar{a_1} + a_2\\bar{a_2} +\\cdots+ a_n\\bar{a_n})(b_1\\bar{b_1} + b_2\\bar{b_2} +\\cdots+ b_n\\bar{b_n}) \\\\\n",
        "b_1 = za_1,  b_2 = za_2, ...,  b_n = za_n\n"
      ],
      "metadata": {
        "id": "Lyx_VyZODMxS",
        "outputId": "c673fd7e-c2cb-476f-8569-bc10c7d2c659",
        "colab": {
          "base_uri": "https://localhost:8080/",
          "height": 150
        }
      },
      "execution_count": null,
      "outputs": [
        {
          "output_type": "display_data",
          "data": {
            "text/plain": [
              "<IPython.core.display.Latex object>"
            ],
            "text/latex": "\\displaystyle\n\\frac{a_1+a_2+\\cdots+a_n}{n} \\geqq \\sqrt[n]{a_1a_2\\cdots a_n} \n\\quad\\text{where}\\quad a_n \\in \\mathbf{R}, \\quad a_n > 0 \\\\[0.8em]\na_1 =  a_2 = \\cdots =  a_n \\\\\n|a_1+a_2+\\cdots+a_n| \\leqq |a_1|+|a_2|+\\cdots+|a_n|  \n\\quad\\text{where}\\quad a_n \\in \\mathbf{C} \\\\\n% 二つの数列  \\{a_n\\} ,  \\{b_n\\}  に対し、\n|a_1\\bar{b_1}+a_2\\bar{b_2}+\\cdots+a_n\\bar{b_n}|^2 \\leqq \n(a_1\\bar{a_1} + a_2\\bar{a_2} +\\cdots+ a_n\\bar{a_n})(b_1\\bar{b_1} + b_2\\bar{b_2} +\\cdots+ b_n\\bar{b_n}) \\\\\nb_1 = za_1,  b_2 = za_2, ...,  b_n = za_n"
          },
          "metadata": {}
        }
      ]
    },
    {
      "cell_type": "code",
      "source": [
        "# 方程式\n",
        "# 1次方程式  ax + b =0  の解の公式\n",
        "# x = - \\frac{b}{a} \n",
        "# 2次方程式  ax^2 + bx + c = 0  の解の公式\n",
        "# x = \\frac{-b \\pm \\sqrt{b^2 - 4ac}}{2a} \n",
        "# ax^2 + 2bx + c =0 の場合\n",
        "# x = \\frac{-b \\pm \\sqrt{b^2 - ac}}{a} \n",
        "# x^2 + bx + c = 0 の場合\n",
        "# x = -\\frac{b}{2} \\pm \\sqrt{\\frac{b^2}{4} - c} \n",
        "# 2次方程式  ax^2 + bx + c = 0 の2つの解を \\alpha , \\beta とすると\n",
        "# ax^2 + bx + c = a(x-\\alpha)(x-\\beta) \n",
        "# であり、この \\alpha , \\beta は次の関係式を満たす。（解と係数の関係）\n",
        "# \\alpha + \\beta =-\\frac{b}{a}\n",
        "# \\alpha\\beta =\\frac{c}{a}\n",
        "# x^2 + bx + c = 0 (ax^2 + bx +c = 0  において  a = 1) の2つの解を \\alpha , \\beta とすると\n",
        "# x^2 + bx + c = (x - \\alpha)(x - \\beta) = x^2 - (\\alpha + \\beta)x + \\alpha \\beta \n",
        "# であり、この \\alpha , \\beta は次の関係式を満たす。(解と係数の関係)\n",
        "# \\qquad 零点の和 :  \\alpha + \\beta = -b\n",
        "# \\qquad 零点の積 :  \\alpha \\beta = c\n",
        "# 3 次方程式  \n",
        "# ax^3 + bx^2 + cx + d = 0\n",
        "# の3つの解を \\alpha , \\beta , \\gamma とすると\n",
        "# ax^3 + bx^2 + cx + d = a(x-\\alpha)(x-\\beta)(x-\\gamma) \n",
        "# であり、この \\alpha , \\beta, \\gamma は次の関係式を満たす。（解と係数の関係）\n",
        "# \\alpha + \\beta  + \\gamma =-\\frac{b}{a} \n",
        "# \\alpha\\beta + \\beta\\gamma  + \\gamma\\alpha  =\\frac{c}{a} \n",
        "# \\alpha\\beta\\gamma  =-\\frac{d}{a} \n",
        "%%latex\n",
        "\\displaystyle\n",
        "ax + b = 0 \\quad \\Longrightarrow \\quad x = - \\frac{b}{a} \\\\[0.8em]\n",
        "ax^2 + bx + c = 0 \\quad \\Longrightarrow \\quad x = \\frac{-b \\pm \\sqrt{b^2 - 4ac}}{2a} \\\\[0.8em]\n",
        "ax^2 + 2bx + c = 0 の場合 \\quad \\Longrightarrow \\quad x = \\frac{-b \\pm \\sqrt{b^2 - ac}}{a} \\\\[0.8em]\n",
        "x^2 + bx + c = 0 の場合 \\quad \\Longrightarrow \\quad \\Longrightarrow \\quad x = -\\frac{b}{2} \\pm \\sqrt{\\frac{b^2}{4} - c} \\\\[0.8em]\n",
        "ax^2 + bx + c = a (x - \\alpha) (x - \\beta) \\\\[0.8em] \n",
        "\\quad \\Longrightarrow \\quad\n",
        "\\begin{array}{rcr}  \n",
        "\\alpha + \\beta &=& \\displaystyle -\\frac{b}{a} \\\\[0.8em]\n",
        "\\alpha\\beta &=& \\displaystyle \\frac{c}{a} \\end{array} \\\\[0.8em]\n",
        "x^2 + bx + c = (x - \\alpha)(x - \\beta) = x^2 - (\\alpha + \\beta)x + \\alpha \\beta \\\\[0.8em]\n",
        "\\quad \\Longrightarrow \\quad \n",
        "\\begin{array}{rcr}  \n",
        "\\alpha + \\beta = -b \\\\[0.8em]\n",
        "\\alpha \\beta = c \\end{array} \\\\[0.8em]\n",
        "ax^3 + bx^2 + cx + d = a(x-\\alpha)(x-\\beta)(x-\\gamma) \\\\[0.8em]\n",
        "\\quad \\Longrightarrow \\quad\n",
        "\\begin{array}{rcr}  \n",
        "\\alpha + \\beta  + \\gamma &=& \\displaystyle -\\frac{b}{a} \\\\[0.8em]\n",
        "\\alpha\\beta + \\beta\\gamma  + \\gamma\\alpha  &=& \\displaystyle \\frac{c}{a} \\\\[0.8em]\n",
        "\\alpha\\beta\\gamma  &=& \\displaystyle -\\frac{d}{a} \\\\[0.8em] \\end{array}"
      ],
      "metadata": {
        "id": "g7BzLwX4Djqv",
        "outputId": "e623adb7-4dfe-41eb-d034-5eb78a6b4742",
        "colab": {
          "base_uri": "https://localhost:8080/",
          "height": 610
        }
      },
      "execution_count": null,
      "outputs": [
        {
          "output_type": "display_data",
          "data": {
            "text/plain": [
              "<IPython.core.display.Latex object>"
            ],
            "text/latex": "\\displaystyle\nax + b = 0 \\quad \\Longrightarrow \\quad x = - \\frac{b}{a} \\\\[0.8em]\nax^2 + bx + c = 0 \\quad \\Longrightarrow \\quad x = \\frac{-b \\pm \\sqrt{b^2 - 4ac}}{2a} \\\\[0.8em]\nax^2 + 2bx + c = 0 の場合 \\quad \\Longrightarrow \\quad x = \\frac{-b \\pm \\sqrt{b^2 - ac}}{a} \\\\[0.8em]\nx^2 + bx + c = 0 の場合 \\quad \\Longrightarrow \\quad \\Longrightarrow \\quad x = -\\frac{b}{2} \\pm \\sqrt{\\frac{b^2}{4} - c} \\\\[0.8em]\nax^2 + bx + c = a (x - \\alpha) (x - \\beta) \\\\[0.8em] \n\\quad \\Longrightarrow \\quad\n\\begin{array}{rcr}  \n\\alpha + \\beta &=& \\displaystyle -\\frac{b}{a} \\\\[0.8em]\n\\alpha\\beta &=& \\displaystyle \\frac{c}{a} \\end{array} \\\\[0.8em]\nx^2 + bx + c = (x - \\alpha)(x - \\beta) = x^2 - (\\alpha + \\beta)x + \\alpha \\beta \\\\[0.8em]\n\\quad \\Longrightarrow \\quad \n\\begin{array}{rcr}  \n\\alpha + \\beta = -b \\\\[0.8em]\n\\alpha \\beta = c \\end{array} \\\\[0.8em]\nax^3 + bx^2 + cx + d = a(x-\\alpha)(x-\\beta)(x-\\gamma) \\\\[0.8em]\n\\quad \\Longrightarrow \\quad\n\\begin{array}{rcr}  \n\\alpha + \\beta  + \\gamma &=& \\displaystyle -\\frac{b}{a} \\\\[0.8em]\n\\alpha\\beta + \\beta\\gamma  + \\gamma\\alpha  &=& \\displaystyle \\frac{c}{a} \\\\[0.8em]\n\\alpha\\beta\\gamma  &=& \\displaystyle -\\frac{d}{a} \\\\[0.8em] \\end{array}"
          },
          "metadata": {}
        }
      ]
    },
    {
      "cell_type": "code",
      "source": [
        "# 整数\n",
        "# 自然数 N が相異なる素数 a_1,a_2,a_3,\\cdots,a_k を用いて \n",
        "# N=a_1^{p_1} \\cdot a_2^{p_2} \\cdot a_3^{p_3} \\cdots a_k^{p_k} と素因数分解されるとき、\n",
        "# N の約数の個数は (p_1+1)(p_2+1)(p_3+1)\\cdots(p_k+1) \n",
        "# また、その約数の総和は \n",
        "# (1+a_1+ \\cdots +a_1^{p_1})(1+a_2+ \\cdots +a_2^{p_2}) \\cdots (1+a_k+ \\cdots +a_k^{p_k})  \n",
        "# = \\frac{1 - a_1^{p_1 + 1}}{1 - a_1}  \\frac{1 - a_2^{p_2 + 1}}{1 - a_2} \\cdots \\frac{1 - a_k^{p_k + 1}}{1 - a_k}\n",
        "%%latex\n",
        "\\text{When }N=a_1^{p_1} \\cdot a_2^{p_2} \\cdot a_3^{p_3} \\cdots a_k^{p_k} \n",
        "\\quad\\text{where}\\quad  a_1,a_2,a_3,\\cdots,a_k \\quad \\text{are primes} \\\\\n",
        "\\text{The number of divisors} = (p_1+1)(p_2+1)(p_3+1)\\cdots(p_k+1) \\\\\n",
        "\\text{The sum of divisors} \\\\\n",
        "\\quad = (1+a_1+ \\cdots +a_1^{p_1})(1+a_2+ \\cdots +a_2^{p_2}) \\cdots (1+a_k+ \\cdots +a_k^{p_k})  \\\\[0.8em]\n",
        "\\displaystyle\n",
        "\\quad = \\frac{1 - a_1^{p_1 + 1}}{1 - a_1}  \n",
        "        \\frac{1 - a_2^{p_2 + 1}}{1 - a_2} \n",
        "        \\cdots \\frac{1 - a_k^{p_k + 1}}{1 - a_k} \\\\\n"
      ],
      "metadata": {
        "id": "HGZrC8cEEh1U",
        "outputId": "f78fe206-2c19-446d-f2ca-70b5733f4579",
        "colab": {
          "base_uri": "https://localhost:8080/",
          "height": 157
        }
      },
      "execution_count": null,
      "outputs": [
        {
          "output_type": "display_data",
          "data": {
            "text/plain": [
              "<IPython.core.display.Latex object>"
            ],
            "text/latex": "\\text{When }N=a_1^{p_1} \\cdot a_2^{p_2} \\cdot a_3^{p_3} \\cdots a_k^{p_k} \n\\quad\\text{where}\\quad  a_1,a_2,a_3,\\cdots,a_k \\quad \\text{are primes} \\\\\n\\text{The number of divisors} = (p_1+1)(p_2+1)(p_3+1)\\cdots(p_k+1) \\\\\n\\text{The sum of divisors} \\\\\n\\quad = (1+a_1+ \\cdots +a_1^{p_1})(1+a_2+ \\cdots +a_2^{p_2}) \\cdots (1+a_k+ \\cdots +a_k^{p_k})  \\\\[0.8em]\n\\displaystyle\n\\quad = \\frac{1 - a_1^{p_1 + 1}}{1 - a_1}  \n        \\frac{1 - a_2^{p_2 + 1}}{1 - a_2} \n        \\cdots \\frac{1 - a_k^{p_k + 1}}{1 - a_k} \\\\"
          },
          "metadata": {}
        }
      ]
    },
    {
      "cell_type": "code",
      "source": [
        "# 自然数 Q, N に対し、1 以上 Q以下の N の倍数の個数\n",
        "# \\rfloor Q \\div N \\lfloor\n",
        "# ただし、\\rfloor x \\lfloorは x 以下最大の整数を表す\n",
        "# 自然数 P, Q, N に対し、 P 以上 Q以下の N の倍数の個数\n",
        "# \\lfloor Q \\div N \\rfloor - \\lfloor (P-1) \\div N \\rfloor\n",
        "%%latex\n",
        "\\displaystyle\n",
        "Q, N \\in \\mathbf N, \\quad N \\text{multiples between 1 and Q} \n",
        "= \\left \\lfloor \\frac{Q}{N} \\right \\rfloor \\\\[0.8em]\n",
        "\\lfloor x \\rfloor means the largest integer under x \\\\[0.8em]\n",
        "\n",
        "P, Q, N \\in \\mathbf N, \\quad N \\text{multiples between P and Q} \\\\[0.8em]\n",
        "\\left \\lfloor \\frac{Q}{N} \\right \\rfloor - \\left \\lfloor \\frac{(P-1)}{N} \\right \\rfloor"
      ],
      "metadata": {
        "id": "JFtWoy0M88Zu",
        "outputId": "b336cc13-229c-4447-f17b-e0eb95416a31",
        "colab": {
          "base_uri": "https://localhost:8080/",
          "height": 182
        }
      },
      "execution_count": null,
      "outputs": [
        {
          "output_type": "display_data",
          "data": {
            "text/plain": [
              "<IPython.core.display.Latex object>"
            ],
            "text/latex": "\\displaystyle\nQ, N \\in \\mathbf N, \\quad N \\text{multiples between 1 and Q} \n= \\left \\lfloor \\frac{Q}{N} \\right \\rfloor \\\\[0.8em]\n\\lfloor x \\rfloor means the largest integer under x \\\\[0.8em]\n\nP, Q, N \\in \\mathbf N, \\quad N \\text{multiples between P and Q} \\\\[0.8em]\n\\left \\lfloor \\frac{Q}{N} \\right \\rfloor - \\left \\lfloor \\frac{(P-1)}{N} \\right \\rfloor"
          },
          "metadata": {}
        }
      ]
    },
    {
      "cell_type": "code",
      "source": [
        "# 自然数 a , b について、それらの最大公約数を g、最小公倍数を l とすると、以下の関係が成り立つ。\n",
        "# ab = lg \n",
        "# 奇数の和\n",
        "# 1+3+5+\\cdots+(2n-1)=n^2 \n",
        "# a,b を互いに素な整数とするとき、1 次不定方程式 ax + by = 0 を満たす整数解は\n",
        "# x = bk , y = -ak （kは整数）\n",
        "%%latex\n",
        "ab = lg \\quad \\text{where}\\quad a, b \\in \\mathbf Z,\\quad l = lcm, \\quad g = gcd \\\\\n",
        "1 + 3 + 5 + \\cdots + (2n - 1) = n^2 \\\\\n",
        "\\text{When } a,b \\text{ are coprimes,} \\quad ax + by = 0 \\Longrightarrow\n",
        "x = bk , y = -ak  \\quad \\text{where} \\quad x, y, k \\in \\mathbf Z\n"
      ],
      "metadata": {
        "id": "dlpHhKhO-98D",
        "outputId": "b2f68bbd-73c9-4285-bbb3-2749e4b49104",
        "colab": {
          "base_uri": "https://localhost:8080/",
          "height": 82
        }
      },
      "execution_count": null,
      "outputs": [
        {
          "output_type": "display_data",
          "data": {
            "text/plain": [
              "<IPython.core.display.Latex object>"
            ],
            "text/latex": "ab = lg \\quad \\text{where}\\quad a, b \\in \\mathbf Z,\\quad l = lcm, \\quad g = gcd \\\\\n1 + 3 + 5 + \\cdots + (2n - 1) = n^2 \\\\\n\\text{When } a,b \\text{ are coprimes,} \\quad ax + by = 0 \\Longrightarrow\nx = bk , y = -ak  \\quad \\text{where} \\quad x, y, k \\in \\mathbf Z"
          },
          "metadata": {}
        }
      ]
    },
    {
      "cell_type": "code",
      "source": [
        "# 分数\n",
        "%%latex\n",
        "\\displaystyle \\frac{1}{(x+a)(x+b)} \n",
        "= \\frac{1}{b-a}\\left(\\frac{1}{x+a}-\\frac{1}{x+b}\\right) \\qquad (a\\not=b) \\\\[0.8em]\n",
        "\\displaystyle \\frac{1}{k(k+1)} = \\frac{1}{k}-\\frac{1}{k+1} "
      ],
      "metadata": {
        "id": "lHK7qFTiFFUw",
        "outputId": "484a650c-2ece-4d80-9903-b14b9861c3db",
        "colab": {
          "base_uri": "https://localhost:8080/",
          "height": 109
        }
      },
      "execution_count": null,
      "outputs": [
        {
          "output_type": "display_data",
          "data": {
            "text/plain": [
              "<IPython.core.display.Latex object>"
            ],
            "text/latex": "\\displaystyle \\frac{1}{(x+a)(x+b)} \n= \\frac{1}{b-a}\\left(\\frac{1}{x+a}-\\frac{1}{x+b}\\right) \\qquad (a\\not=b) \\\\[0.8em]\n\\displaystyle \\frac{1}{k(k+1)} = \\frac{1}{k}-\\frac{1}{k+1} \n"
          },
          "metadata": {}
        }
      ]
    },
    {
      "cell_type": "code",
      "source": [
        "# 複素数\n",
        "# オイラーの公式 Euler's formula 指数関数と三角関数の関係式\n",
        "# \\displaystyle e^{i\\theta}=\\cos \\theta + i \\sin \\theta  \n",
        "# オイラーの等式 Euler's identity\n",
        "# \\displaystyle e^{\\pi i} = -1  \n",
        "# 複素数のべき乗 ド・モアブルの定理\n",
        "# (\\cos \\theta + i \\sin \\theta)^n = \\cos ( n \\theta) + i \\sin (n \\theta) \n",
        "%%latex\n",
        "\\displaystyle e^{i\\theta}=\\cos \\theta + i \\sin \\theta  \\\\\n",
        "\\displaystyle e^{\\pi i} = -1  \\\\\n",
        "(\\cos \\theta + i \\sin \\theta)^n = \\cos ( n \\theta) + i \\sin (n \\theta) \\\\"
      ],
      "metadata": {
        "id": "BBJ15STpNlfx",
        "outputId": "775f0f6b-26cf-4410-9342-fcc4d739d76e",
        "colab": {
          "base_uri": "https://localhost:8080/",
          "height": 82
        }
      },
      "execution_count": null,
      "outputs": [
        {
          "output_type": "display_data",
          "data": {
            "text/plain": [
              "<IPython.core.display.Latex object>"
            ],
            "text/latex": "\\displaystyle e^{i\\theta}=\\cos \\theta + i \\sin \\theta  \\\\\n\\displaystyle e^{\\pi i} = -1  \\\\\n(\\cos \\theta + i \\sin \\theta)^n = \\cos ( n \\theta) + i \\sin (n \\theta) \\\\"
          },
          "metadata": {}
        }
      ]
    },
    {
      "cell_type": "code",
      "source": [
        "# 行列\n",
        "# O をすべての元が 0 である行列（零行列）とし E を単位行列とする。\n",
        "# 任意の 2 次正方行列 A に対し次が成り立つ。\n",
        "# A^{-1} = \\frac{1}{ad - bc} \n",
        "# \\begin{pmatrix} d & -b \\\\ c & a \\end{pmatrix} \\\\[0.8em]\n",
        "# ケイリー・ハミルトンの定理\n",
        "# A^2 - (a + d)A + (ad - bc)E = \\mathbf{O}\n",
        "%%latex\n",
        "\\displaystyle\n",
        "O = \\begin{pmatrix} 0 & 0 \\\\ 0 & 0 \\end{pmatrix}, \\quad\n",
        "E = \\begin{pmatrix} 1 & 0 \\\\ 0 & 1 \\end{pmatrix}, \\quad\n",
        "A =\n",
        "\\begin{pmatrix}\n",
        " a & b\\\\\n",
        " c & d\\\\\n",
        "\\end{pmatrix} \\\\[0.8em]\n",
        "A^{-1} = \\frac{1}{ad - bc} \n",
        "\\begin{pmatrix} d & -b \\\\ c & a \\end{pmatrix} \n",
        "\\quad \\text{where}\\quad ad-bc \\neq 0 \\\\[0.8em]\n",
        "A^2 - (a + d)A + (ad - bc)E = \\mathbf{O}"
      ],
      "metadata": {
        "id": "P37NFrBdOdoI",
        "outputId": "205d976f-ff44-436c-aa8a-cfcfae387915",
        "colab": {
          "base_uri": "https://localhost:8080/",
          "height": 147
        }
      },
      "execution_count": null,
      "outputs": [
        {
          "output_type": "display_data",
          "data": {
            "text/plain": [
              "<IPython.core.display.Latex object>"
            ],
            "text/latex": "\\displaystyle\nO = \\begin{pmatrix} 0 & 0 \\\\ 0 & 0 \\end{pmatrix}, \\quad\nE = \\begin{pmatrix} 1 & 0 \\\\ 0 & 1 \\end{pmatrix}, \\quad\nA =\n\\begin{pmatrix}\n a & b\\\\\n c & d\\\\\n\\end{pmatrix} \\\\[0.8em]\nA^{-1} = \\frac{1}{ad - bc} \n\\begin{pmatrix} d & -b \\\\ c & a \\end{pmatrix} \n\\quad \\text{where}\\quad ad-bc \\neq 0 \\\\[0.8em]\nA^2 - (a + d)A + (ad - bc)E = \\mathbf{O}"
          },
          "metadata": {}
        }
      ]
    },
    {
      "cell_type": "code",
      "source": [
        "# 一次変換\n",
        "# 原点を中心とする \\theta 回転\n",
        "# 原点に関する対称移動 (\\theta = \\pi)\n",
        "# 直線 x \\sin \\theta - y cos \\theta = 0 に関する対称移動\n",
        "# x 軸に関する対称移動 (\\theta = 0)\n",
        "# y 軸に関する対称移動 (\\theta = \\frac \\pi 2)\n",
        "# 直線 y = x に関する対称移動 (\\theta = \\frac \\pi 4)\n",
        "# 直線 y = -x に関する対称移動 (\\theta = \\frac {3\\pi} 4)\n",
        "%%latex\n",
        "\\theta \\Longrightarrow\n",
        "\\begin{pmatrix} cos \\theta & -\\sin \\theta \\\\ \\sin \\theta & cos \\theta \\end{pmatrix} \\\\[0.8em]\n",
        "(\\theta = \\pi) \\Longrightarrow\n",
        "\\begin{pmatrix} -1 & 0 \\\\ 0 & -1 \\end{pmatrix} \\\\[0.8em]\n",
        "(x \\sin \\theta - y cos \\theta = 0) \\Longrightarrow\n",
        "\\begin{pmatrix} cos {2\\theta} & \\sin {2\\theta} \\\\ \\sin {2\\theta} & -cos {2\\theta} \\end{pmatrix} \\\\[0.8em]\n",
        "(\\theta = 0) \\Longrightarrow\n",
        "\\begin{pmatrix} 1 & 0 \\\\ 0 & -1 \\end{pmatrix} \\\\[0.8em]\n",
        "\\displaystyle\n",
        "(\\theta = \\frac \\pi 2) \\Longrightarrow\n",
        "\\begin{pmatrix} -1 & 0 \\\\ 0 & 1 \\end{pmatrix} \\\\[0.8em]\n",
        "(\\theta = \\frac \\pi 4) \\Longrightarrow\n",
        "\\begin{pmatrix} 0 & 1 \\\\ 1 & 0 \\end{pmatrix} \\\\[0.8em]\n",
        "(\\theta = \\frac {3\\pi} 4) \\Longrightarrow\n",
        "\\begin{pmatrix} 0 & -1 \\\\ -1 & 0 \\end{pmatrix}"
      ],
      "metadata": {
        "id": "8Sd4OPkselw_",
        "outputId": "eb87aec5-5780-4e73-cb99-18ea87ff2f37",
        "colab": {
          "base_uri": "https://localhost:8080/",
          "height": 383
        }
      },
      "execution_count": null,
      "outputs": [
        {
          "output_type": "display_data",
          "data": {
            "text/plain": [
              "<IPython.core.display.Latex object>"
            ],
            "text/latex": "\\theta \\Longrightarrow\n\\begin{pmatrix} cos \\theta & -\\sin \\theta \\\\ \\sin \\theta & cos \\theta \\end{pmatrix} \\\\[0.8em]\n(\\theta = \\pi) \\Longrightarrow\n\\begin{pmatrix} -1 & 0 \\\\ 0 & -1 \\end{pmatrix} \\\\[0.8em]\n(x \\sin \\theta - y cos \\theta = 0) \\Longrightarrow\n\\begin{pmatrix} cos {2\\theta} & \\sin {2\\theta} \\\\ \\sin {2\\theta} & -cos {2\\theta} \\end{pmatrix} \\\\[0.8em]\n(\\theta = 0) \\Longrightarrow\n\\begin{pmatrix} 1 & 0 \\\\ 0 & -1 \\end{pmatrix} \\\\[0.8em]\n\\displaystyle\n(\\theta = \\frac \\pi 2) \\Longrightarrow\n\\begin{pmatrix} -1 & 0 \\\\ 0 & 1 \\end{pmatrix} \\\\[0.8em]\n(\\theta = \\frac \\pi 4) \\Longrightarrow\n\\begin{pmatrix} 0 & 1 \\\\ 1 & 0 \\end{pmatrix} \\\\[0.8em]\n(\\theta = \\frac {3\\pi} 4) \\Longrightarrow\n\\begin{pmatrix} 0 & -1 \\\\ -1 & 0 \\end{pmatrix}"
          },
          "metadata": {}
        }
      ]
    },
    {
      "cell_type": "code",
      "source": [
        "# 集合\n",
        "# 演算規則\n",
        "# 交換法則 commutative law\n",
        "# 結合法則 associative law\n",
        "# 分配法則 distributive law\n",
        "# ド・モルガンの法則\n",
        "# 集合の要素の個数\n",
        "%%latex\n",
        "A \\cap B=B \\cap A, \\quad A \\cup B=B \\cup A \\\\\n",
        "A \\cap B \\cap C=(A \\cap B) \\cap C=A \\cap (B \\cap C), \\quad A \\cup B \\cup C=(A \\cup B) \\cup C=A \\cup (B \\cup C) \\\\\n",
        "A \\cap (B \\cup C)=(A \\cap B) \\cup (A \\cap C),\\quad A \\cup (B \\cap C)=(A \\cup B) \\cap (A \\cup C) \\\\\n",
        "\\overline{A \\cap B}=\\overline{A} \\cup \\overline{B},\\quad \\overline{A \\cup B}=\\overline{A} \\cap \\overline{B} \\\\\n",
        "n(A \\cup B \\cup C)=n(A) + n(B) + n(C) - n(A \\cap B) - n(B \\cap C) - n(C \\cap A) + n(A \\cap B \\cap C)  \\\\"
      ],
      "metadata": {
        "id": "2J40Za4APWjh",
        "outputId": "caf7b406-612e-4563-f335-9db94cc59683",
        "colab": {
          "base_uri": "https://localhost:8080/",
          "height": 125
        }
      },
      "execution_count": null,
      "outputs": [
        {
          "output_type": "display_data",
          "data": {
            "text/plain": [
              "<IPython.core.display.Latex object>"
            ],
            "text/latex": "A \\cap B=B \\cap A, \\quad A \\cup B=B \\cup A \\\\\nA \\cap B \\cap C=(A \\cap B) \\cap C=A \\cap (B \\cap C), \\quad A \\cup B \\cup C=(A \\cup B) \\cup C=A \\cup (B \\cup C) \\\\\nA \\cap (B \\cup C)=(A \\cap B) \\cup (A \\cap C),\\quad A \\cup (B \\cap C)=(A \\cup B) \\cap (A \\cup C) \\\\\n\\overline{A \\cap B}=\\overline{A} \\cup \\overline{B},\\quad \\overline{A \\cup B}=\\overline{A} \\cap \\overline{B} \\\\\nn(A \\cup B \\cup C)=n(A) + n(B) + n(C) - n(A \\cap B) - n(B \\cap C) - n(C \\cap A) + n(A \\cap B \\cap C)  \\\\"
          },
          "metadata": {}
        }
      ]
    },
    {
      "cell_type": "code",
      "source": [
        "# 初等関数の性質\n",
        "# x を a から b まで変化させたときの関数 f(x) の変化の割合（平均変化率）\n",
        "%%latex\n",
        "\\displaystyle\n",
        "\\frac{f(b)-f(a)}{b-a}  "
      ],
      "metadata": {
        "id": "KcEiTpCQPzfx",
        "outputId": "3a0534ac-4324-44ea-e2f4-406f94eec71a",
        "colab": {
          "base_uri": "https://localhost:8080/",
          "height": 54
        }
      },
      "execution_count": null,
      "outputs": [
        {
          "output_type": "display_data",
          "data": {
            "text/plain": [
              "<IPython.core.display.Latex object>"
            ],
            "text/latex": "\\displaystyle\n\\frac{f(b)-f(a)}{b-a}  "
          },
          "metadata": {}
        }
      ]
    },
    {
      "cell_type": "code",
      "source": [
        "# 一次関数\n",
        "# 2点  (a_1, b_1), (a_2, b_2)  を通る直線の式\n",
        "# 2点  x 切片 (a, 0), y 切片 (0, b) （ただし、ab≠0とする）を通る直線の式\n",
        "# 点  (x_0, y_0)  を通り、傾き  c  の直線の式\n",
        "# 傾き  c  を方向ベクトル (a, b) と捉えると\n",
        "%%latex\n",
        "\\displaystyle\n",
        "y=\\frac{b_2-b_1}{a_2-a_1}(x-a_1)+b_1  \\\\[0.8em]\n",
        "\\frac{x}{a}+\\frac{y}{b}=1 \\quad\\text{where}\\quad ab \\neq 0 \\\\[0.8em]\n",
        "y - y_0 = c (x - x_0)  \\\\[0.8em]\n",
        "\\frac{x - x_0} a = \\frac{y - y_0} b"
      ],
      "metadata": {
        "id": "yMeaoeJDehMB",
        "outputId": "b6c611a7-71ab-41c5-883f-a03225bc8bb6",
        "colab": {
          "base_uri": "https://localhost:8080/",
          "height": 180
        }
      },
      "execution_count": null,
      "outputs": [
        {
          "output_type": "display_data",
          "data": {
            "text/plain": [
              "<IPython.core.display.Latex object>"
            ],
            "text/latex": "\\displaystyle\ny=\\frac{b_2-b_1}{a_2-a_1}(x-a_1)+b_1  \\\\[0.8em]\n\\frac{x}{a}+\\frac{y}{b}=1 \\quad\\text{where}\\quad ab \\not = 0 \\\\[0.8em]\ny - y_0 = c (x - x_0)  \\\\[0.8em]\n\\frac{x - x_0} a = \\frac{y - y_0} b  "
          },
          "metadata": {}
        }
      ]
    },
    {
      "cell_type": "code",
      "source": [
        "# 接線の方程式\n",
        "# 関数 f(x) のグラフ上の点 (x_1, y_1) における接線\n",
        "# 楕円 \\frac{x^{2}}{a^{2}} + \\frac{y^{2}}{b^{2}} = 1 \n",
        "# 上の点 (x_1, y_1) における接線\n",
        "# \\frac{x_{1}x}{a^{2}} + \\frac{y_{1}y}{b^{2}} = 1 \n",
        "# 双曲線 \\frac{x^{2}}{a^{2}} - \\frac{y^{2}}{b^{2}} = 1 \n",
        "# 上の点 (x_1, y_1) における接線\n",
        "# \\frac{x_{1}x}{a^{2}} - \\frac{y_{1}y}{b^{2}} = 1 \n",
        "# 放物線 y^2 = 4px 上の点 (x_1, y_1) における接線\n",
        "# y_1y = 2p(x + x_1) \n",
        "%%latex\n",
        "y - y_1=f^\\prime(x)(x - x_1) \\\\[0.8em]\n",
        "\\displaystyle\n",
        "\\frac{x^{2}}{a^{2}} + \\frac{y^{2}}{b^{2}} = 1 \\\\[0.8em]\n",
        "\\frac{x_{1}x}{a^{2}} + \\frac{y_{1}y}{b^{2}} = 1 \\\\[0.8em]\n",
        "\\frac{x^{2}}{a^{2}} - \\frac{y^{2}}{b^{2}} = 1 \\\\[0.8em]\n",
        "% \\frac{x_{1}x}{a^{2}} - \\frac{y_{1}y}{b^{2}} = 1 \\\\[0.8em]\n",
        "y^2 = 4px \\\\[0.8em]\n",
        "y_1y = 2p(x + x_1) "
      ],
      "metadata": {
        "id": "LUsscIVces_G",
        "outputId": "2ea60f4e-11e3-4e3a-a8d1-5b34439f9e94",
        "colab": {
          "base_uri": "https://localhost:8080/",
          "height": 255
        }
      },
      "execution_count": null,
      "outputs": [
        {
          "output_type": "display_data",
          "data": {
            "text/plain": [
              "<IPython.core.display.Latex object>"
            ],
            "text/latex": "y - y_1=f^\\prime(x)(x - x_1) \\\\[0.8em]\n\\displaystyle\n\\frac{x^{2}}{a^{2}} + \\frac{y^{2}}{b^{2}} = 1 \\\\[0.8em]\n\\frac{x_{1}x}{a^{2}} + \\frac{y_{1}y}{b^{2}} = 1 \\\\[0.8em]\n\\frac{x^{2}}{a^{2}} - \\frac{y^{2}}{b^{2}} = 1 \\\\[0.8em]\n% \\frac{x_{1}x}{a^{2}} - \\frac{y_{1}y}{b^{2}} = 1 \\\\[0.8em]\ny^2 = 4px \\\\[0.8em]\ny_1y = 2p(x + x_1) "
          },
          "metadata": {}
        }
      ]
    },
    {
      "cell_type": "code",
      "source": [
        "# 二次関数\n",
        "# 点  (p, q)  を頂点とし，2次の項の係数が  a  である二次関数の式\n",
        "# 点  (p, q)  を頂点とし，点  (a, b)  を通る二次関数の式\n",
        "# 2点  (a_1, b_1),  (a_2, b_2)  を通り，2 階微分の係数が  c  である二次関数の式\n",
        "# 3 点  (a_1, b_1), (a_2, b_2), (a_3, b_3)  を通る二次関数の式\n",
        "%%latex\n",
        "y=a(x-p)^2+q \\\\[0.8em]\n",
        "\\displaystyle\n",
        "y=\\frac{b-q}{(a-p)^2}(x-p)^2+q \\\\[0.8em]\n",
        "y=c(x-a_1)(x-a_2)+\\frac{b_2-b_1}{a_2-a_1}(x-a_1)+b_1 \\\\[0.8em]\n",
        "y=b_1\\frac{(x-a_2)(x-a_3)}{(a_1-a_2)(a_1-a_3)}\n",
        "+b_2\\frac{(x-a_3)(x-a_1)}{(a_2-a_3)(a_2-a_1)}+b_3\\frac{(x-a_1)(x-a_2)}{(a_3-a_1)(a_3-a_2)} "
      ],
      "metadata": {
        "id": "BoA5DxzPfRkt",
        "outputId": "ba01b687-7137-48e0-ffa3-b6a324518410",
        "colab": {
          "base_uri": "https://localhost:8080/",
          "height": 196
        }
      },
      "execution_count": null,
      "outputs": [
        {
          "output_type": "display_data",
          "data": {
            "text/plain": [
              "<IPython.core.display.Latex object>"
            ],
            "text/latex": "y=a(x-p)^2+q \\\\[0.8em]\n\\displaystyle\ny=\\frac{b-q}{(a-p)^2}(x-p)^2+q \\\\[0.8em]\ny=c(x-a_1)(x-a_2)+\\frac{b_2-b_1}{a_2-a_1}(x-a_1)+b_1 \\\\[0.8em]\ny=b_1\\frac{(x-a_2)(x-a_3)}{(a_1-a_2)(a_1-a_3)}+b_2\\frac{(x-a_3)(x-a_1)}{(a_2-a_3)(a_2-a_1)}+b_3\\frac{(x-a_1)(x-a_2)}{(a_3-a_1)(a_3-a_2)} "
          },
          "metadata": {}
        }
      ]
    },
    {
      "cell_type": "code",
      "source": [
        "# 関数のグラフの移動\n",
        "# 平行移動\n",
        "# y=f(x) の表すグラフを  x 軸方向に a 、 y軸方向に b 移動したときのグラフを表す式\n",
        "#  y-b = f(x-a) \n",
        "# 対称移動\n",
        "# y=f(x) の表すグラフを  x 軸に関して対称移動したときのグラフを表す式\n",
        "#  y = -f(x) \n",
        "# y=f(x) の表すグラフを y軸に関して対称移動したときのグラフを表す式\n",
        "#  y = f(-x) \n",
        "# y=f(x) の表すグラフを原点に関して対称移動したときのグラフを表す式\n",
        "#  y = -f(-x) \n",
        "# y=f(x) の表すグラフを  y= x  に関して対称移動したときのグラフを表す式\n",
        "#  x = f(y) \n",
        "%%latex\n",
        "y-b = f(x-a) \\\\\n",
        "y = -f(x) \\\\\n",
        "y = f(-x) \\\\\n",
        "y = -f(-x) \\\\\n",
        "x = f(y) \\\\"
      ],
      "metadata": {
        "id": "f-hylZKAfx3H",
        "outputId": "a4cb93c7-8e71-4c7a-e130-f4c95727c952",
        "colab": {
          "base_uri": "https://localhost:8080/",
          "height": 125
        }
      },
      "execution_count": null,
      "outputs": [
        {
          "output_type": "display_data",
          "data": {
            "text/plain": [
              "<IPython.core.display.Latex object>"
            ],
            "text/latex": "y-b = f(x-a) \\\\\ny = -f(x) \\\\\ny = f(-x) \\\\\ny = -f(-x) \\\\\nx = f(y) \\\\"
          },
          "metadata": {}
        }
      ]
    },
    {
      "cell_type": "code",
      "source": [
        "# 三角関数 基本公式\n",
        "%%latex\n",
        "\\displaystyle \n",
        "\\sin\\left(\\frac{\\pi}{2} + \\theta\\right) = \\cos\\theta \\\\[0.8em]\n",
        "\\cos\\left(\\frac{\\pi}{2} + \\theta\\right) = -\\sin\\theta \\\\[0.8em]\n",
        "\\tan\\left(\\frac{\\pi}{2} + \\theta\\right) = -\\frac{1}{\\tan\\theta} \\\\[0.8em]\n",
        "\\sin(\\pi+\\theta) = -\\sin\\theta \\\\[0.8em]\n",
        "\\cos(\\pi + \\theta) = -\\cos\\theta \\\\[0.8em]\n",
        "\\tan(\\pi + \\theta) = \\tan\\theta \\\\[0.8em]"
      ],
      "metadata": {
        "id": "mjvfHU-QgaI9",
        "colab": {
          "base_uri": "https://localhost:8080/",
          "height": 260
        },
        "outputId": "279eee0f-7ff9-4f67-e69f-424636393229"
      },
      "execution_count": null,
      "outputs": [
        {
          "output_type": "display_data",
          "data": {
            "text/plain": [
              "<IPython.core.display.Latex object>"
            ],
            "text/latex": "\\displaystyle \n\\sin\\left(\\frac{\\pi}{2} + \\theta\\right) = \\cos\\theta \\\\[0.8em]\n\\cos\\left(\\frac{\\pi}{2} + \\theta\\right) = -\\sin\\theta \\\\[0.8em]\n\\tan\\left(\\frac{\\pi}{2} + \\theta\\right) = -\\frac{1}{\\tan\\theta} \\\\[0.8em]\n\\sin(\\pi+\\theta) = -\\sin\\theta \\\\[0.8em]\n\\cos(\\pi + \\theta) = -\\cos\\theta \\\\[0.8em]\n\\tan(\\pi + \\theta) = \\tan\\theta \\\\[0.8em]"
          },
          "metadata": {}
        }
      ]
    },
    {
      "cell_type": "code",
      "source": [
        "# 三角比の相互関係\n",
        "# ピタゴラスの基本三角公式\n",
        "%%latex\n",
        "\\text{Pythagorean theorem} \\quad\n",
        "\\displaystyle \\sin^2\\theta + \\cos^2\\theta = 1 \\\\[0.8em]\n",
        "\\tan\\theta = \\frac{\\sin\\theta}{\\cos\\theta} \\\\[0.8em]\n",
        "1 + \\tan^2\\theta = \\frac{1}{\\cos^2\\theta} \\\\[0.8em]\n",
        "1 + \\frac{1}{\\tan^2\\theta} = \\frac{1}{\\sin^2\\theta} \\\\[0.8em]"
      ],
      "metadata": {
        "colab": {
          "base_uri": "https://localhost:8080/",
          "height": 197
        },
        "id": "4bbPC_ase5HW",
        "outputId": "d18ee111-8a6a-489a-f667-726367b07bc3"
      },
      "execution_count": null,
      "outputs": [
        {
          "output_type": "display_data",
          "data": {
            "text/plain": [
              "<IPython.core.display.Latex object>"
            ],
            "text/latex": "\\text{Pythagorean theorem} \\quad\n\\displaystyle \\sin^2\\theta + \\cos^2\\theta = 1 \\\\[0.8em]\n\\tan\\theta = \\frac{\\sin\\theta}{\\cos\\theta} \\\\[0.8em]\n1 + \\tan^2\\theta = \\frac{1}{\\cos^2\\theta} \\\\[0.8em]\n1 + \\frac{1}{\\tan^2\\theta} = \\frac{1}{\\sin^2\\theta} \\\\[0.8em]"
          },
          "metadata": {}
        }
      ]
    },
    {
      "cell_type": "code",
      "source": [
        "# 補角の公式 (還元公式)\n",
        "%%latex\n",
        "\\sin(\\pi-\\theta) = \\sin\\theta \\\\\n",
        "\\cos(\\pi - \\theta) = -\\cos\\theta \\\\\n",
        "\\tan(\\pi - \\theta) = -\\tan\\theta \\\\"
      ],
      "metadata": {
        "colab": {
          "base_uri": "https://localhost:8080/",
          "height": 83
        },
        "id": "zNkME-rdfUaa",
        "outputId": "c381dea8-6f1f-4ea4-bdfb-85b4f56f2ce3"
      },
      "execution_count": null,
      "outputs": [
        {
          "output_type": "display_data",
          "data": {
            "text/plain": [
              "<IPython.core.display.Latex object>"
            ],
            "text/latex": "\\sin(\\pi-\\theta) = \\sin\\theta \\\\\n\\cos(\\pi - \\theta) = -\\cos\\theta \\\\\n\\tan(\\pi - \\theta) = -\\tan\\theta \\\\"
          },
          "metadata": {}
        }
      ]
    },
    {
      "cell_type": "code",
      "source": [
        "# 余角の公式(還元公式)\n",
        "%%latex\n",
        "\\displaystyle \\sin\\left(\\frac{\\pi}{2} - \\theta\\right) = \\cos\\theta \\\\[0.8em]\n",
        "\\cos\\left(\\frac{\\pi}{2} - \\theta\\right) = \\sin\\theta \\\\[0.8em]\n",
        "\\tan\\left(\\frac{\\pi}{2} - \\theta\\right) = \\frac{1}{\\tan\\theta} \\\\[0.8em]"
      ],
      "metadata": {
        "colab": {
          "base_uri": "https://localhost:8080/",
          "height": 154
        },
        "id": "y0CLxjklgN2t",
        "outputId": "89ece264-a4af-4dcb-8e86-2a9d4ca1abeb"
      },
      "execution_count": null,
      "outputs": [
        {
          "output_type": "display_data",
          "data": {
            "text/plain": [
              "<IPython.core.display.Latex object>"
            ],
            "text/latex": "\\displaystyle \\sin\\left(\\frac{\\pi}{2} - \\theta\\right) = \\cos\\theta \\\\[0.8em]\n\\cos\\left(\\frac{\\pi}{2} - \\theta\\right) = \\sin\\theta \\\\[0.8em]\n\\tan\\left(\\frac{\\pi}{2} - \\theta\\right) = \\frac{1}{\\tan\\theta} \\\\[0.8em]"
          },
          "metadata": {}
        }
      ]
    },
    {
      "cell_type": "code",
      "source": [
        "# 負角の公式(還元公式)\n",
        "%%latex\n",
        "\\sin(-\\theta) = -\\sin\\theta \\\\\n",
        "\\cos(-\\theta) = \\cos\\theta \\\\\n",
        "\\tan(- \\theta) = -\\tan\\theta \\\\"
      ],
      "metadata": {
        "colab": {
          "base_uri": "https://localhost:8080/",
          "height": 83
        },
        "id": "cXPEDXAige6u",
        "outputId": "7eb8ef3e-fc4f-4924-fbbb-5ccfcba7acef"
      },
      "execution_count": null,
      "outputs": [
        {
          "output_type": "display_data",
          "data": {
            "text/plain": [
              "<IPython.core.display.Latex object>"
            ],
            "text/latex": "\\sin(-\\theta) = -\\sin\\theta \\\\\n\\cos(-\\theta) = \\cos\\theta \\\\\n\\tan(- \\theta) = -\\tan\\theta \\\\"
          },
          "metadata": {}
        }
      ]
    },
    {
      "cell_type": "code",
      "source": [
        "# 加法定理\n",
        "%%latex\n",
        "\\displaystyle \\sin(\\alpha \\pm \\beta) = \\sin\\alpha \\cos\\beta \\pm \\cos\\alpha \\sin\\beta \\\\[0.8em]\n",
        "\\cos(\\alpha \\pm \\beta) = \\cos\\alpha \\cos\\beta \\mp \\sin\\alpha \\sin\\beta \\\\[0.8em]\n",
        "\\displaystyle \\tan(\\alpha \\pm \\beta) =  \\frac{\\tan\\alpha \\pm \\tan\\beta}{1 \\mp \\tan\\alpha \\tan\\beta} \\\\[0.8em]"
      ],
      "metadata": {
        "id": "wxl1V_gOi3AN",
        "colab": {
          "base_uri": "https://localhost:8080/",
          "height": 140
        },
        "outputId": "e83ba674-a9d5-4300-f07e-37387d0bf7da"
      },
      "execution_count": null,
      "outputs": [
        {
          "output_type": "display_data",
          "data": {
            "text/plain": [
              "<IPython.core.display.Latex object>"
            ],
            "text/latex": "\\displaystyle \\sin(\\alpha \\pm \\beta) = \\sin\\alpha \\cos\\beta \\pm \\cos\\alpha \\sin\\beta \\\\[0.8em]\n\\cos(\\alpha \\pm \\beta) = \\cos\\alpha \\cos\\beta \\mp \\sin\\alpha \\sin\\beta \\\\[0.8em]\n\\displaystyle \\tan(\\alpha \\pm \\beta) =  \\frac{\\tan\\alpha \\pm \\tan\\beta}{1 \\mp \\tan\\alpha \\tan\\beta} \\\\[0.8em]"
          },
          "metadata": {}
        }
      ]
    },
    {
      "cell_type": "code",
      "source": [
        "# 二倍角の公式\n",
        "%%latex\n",
        "\\sin 2\\theta = 2\\sin\\theta \\cos\\theta \\\\[0.8em]\n",
        "\\cos 2\\theta = \\cos^2\\theta - \\sin^2\\theta =  2\\cos^2\\theta - 1 = 1 - 2\\sin^2\\theta \\\\[0.8em]\n",
        "\\displaystyle \\tan 2\\theta = \\frac{2\\tan\\theta}{1-\\tan^2\\theta} \\\\[0.8em]"
      ],
      "metadata": {
        "colab": {
          "base_uri": "https://localhost:8080/",
          "height": 138
        },
        "id": "RkBagMJ-hQFP",
        "outputId": "d3832b65-a510-4f14-880c-55ab76208fc7"
      },
      "execution_count": null,
      "outputs": [
        {
          "output_type": "display_data",
          "data": {
            "text/plain": [
              "<IPython.core.display.Latex object>"
            ],
            "text/latex": "\\sin 2\\theta = 2\\sin\\theta \\cos\\theta \\\\[0.8em]\n\\cos 2\\theta = \\cos^2\\theta - \\sin^2\\theta =  2\\cos^2\\theta - 1 = 1 - 2\\sin^2\\theta \\\\[0.8em]\n\\displaystyle \\tan 2\\theta = \\frac{2\\tan\\theta}{1-\\tan^2\\theta} \\\\[0.8em]"
          },
          "metadata": {}
        }
      ]
    },
    {
      "cell_type": "code",
      "source": [
        "# 半角の公式\n",
        "%%latex\n",
        "\\displaystyle\n",
        "\\sin^2\\left(\\frac{\\theta}{2}\\right) = \\frac{1-\\cos\\theta}{2} \\\\[0.8em]\n",
        "\\cos^2\\left(\\frac{\\theta}{2}\\right) = \\frac{1+\\cos\\theta}{2} \\\\[0.8em]\n",
        "\\tan^2\\left(\\frac{\\theta}{2}\\right) =  \\frac{1-\\cos\\theta}{1+\\cos\\theta} \\\\[0.8em]\n",
        "\\tan\\left(\\frac{\\theta}{2}\\right) =  \\frac{\\sin\\theta}{1+\\cos\\theta}=  \\frac{1-\\cos\\theta}{\\sin\\theta} \\\\[0.8em]"
      ],
      "metadata": {
        "colab": {
          "base_uri": "https://localhost:8080/",
          "height": 234
        },
        "id": "V2XdJG1ahhVE",
        "outputId": "76ef0d10-61f3-4e4b-8179-1d224ada33dc"
      },
      "execution_count": null,
      "outputs": [
        {
          "output_type": "display_data",
          "data": {
            "text/plain": [
              "<IPython.core.display.Latex object>"
            ],
            "text/latex": "\\displaystyle\n\\sin^2\\left(\\frac{\\theta}{2}\\right) = \\frac{1-\\cos\\theta}{2} \\\\[0.8em]\n\\cos^2\\left(\\frac{\\theta}{2}\\right) = \\frac{1+\\cos\\theta}{2} \\\\[0.8em]\n\\tan^2\\left(\\frac{\\theta}{2}\\right) =  \\frac{1-\\cos\\theta}{1+\\cos\\theta} \\\\[0.8em]\n\\tan\\left(\\frac{\\theta}{2}\\right) =  \\frac{\\sin\\theta}{1+\\cos\\theta}=  \\frac{1-\\cos\\theta}{\\sin\\theta} \\\\[0.8em]"
          },
          "metadata": {}
        }
      ]
    },
    {
      "cell_type": "code",
      "source": [
        "# 和積の公式\n",
        "%%latex\n",
        "\\displaystyle\n",
        "\\sin \\alpha + \\sin \\beta =2\\sin{\\frac{\\alpha + \\beta}{2}}\\cos{\\frac{\\alpha - \\beta}{2}} \\\\[0.8em]\n",
        "\\sin \\alpha - \\sin \\beta =2\\cos{\\frac{\\alpha + \\beta}{2}}\\sin{\\frac{\\alpha - \\beta}{2}} \\\\[0.8em]\n",
        "\\cos \\alpha + \\cos \\beta =2\\cos{\\frac{\\alpha + \\beta}{2}}\\cos{\\frac{\\alpha - \\beta}{2}} \\\\[0.8em]\n",
        "\\cos \\alpha - \\cos \\beta =-2\\sin{\\frac{\\alpha + \\beta}{2}}\\sin{\\frac{\\alpha - \\beta}{2}} \\\\[0.8em]"
      ],
      "metadata": {
        "id": "HJJoTEmzxlz_",
        "outputId": "f621f4a1-b717-4c90-f37a-061d8941ad65",
        "colab": {
          "base_uri": "https://localhost:8080/",
          "height": 211
        }
      },
      "execution_count": null,
      "outputs": [
        {
          "output_type": "display_data",
          "data": {
            "text/plain": [
              "<IPython.core.display.Latex object>"
            ],
            "text/latex": "\\displaystyle\n\\sin \\alpha + \\sin \\beta =2\\sin{\\frac{\\alpha + \\beta}{2}}\\cos{\\frac{\\alpha - \\beta}{2}} \\\\[0.8em]\n\\sin \\alpha - \\sin \\beta =2\\cos{\\frac{\\alpha + \\beta}{2}}\\sin{\\frac{\\alpha - \\beta}{2}} \\\\[0.8em]\n\\cos \\alpha + \\cos \\beta =2\\cos{\\frac{\\alpha + \\beta}{2}}\\cos{\\frac{\\alpha - \\beta}{2}} \\\\[0.8em]\n\\cos \\alpha - \\cos \\beta =-2\\sin{\\frac{\\alpha + \\beta}{2}}\\sin{\\frac{\\alpha - \\beta}{2}} \\\\[0.8em]"
          },
          "metadata": {}
        }
      ]
    },
    {
      "cell_type": "code",
      "source": [
        "# 積和の公式\n",
        "%%latex\n",
        "\\displaystyle\n",
        "\\sin \\alpha \\cdot \\cos \\beta =\\frac{1}{2}\\left\\{\\sin(\\alpha + \\beta)+\\sin(\\alpha - \\beta)\\right\\} \\\\[0.8em]\n",
        "\\cos \\alpha \\cdot \\sin \\beta =\\frac{1}{2}\\left\\{\\sin(\\alpha + \\beta)-\\sin(\\alpha - \\beta)\\right\\} \\\\[0.8em]\n",
        "\\cos \\alpha \\cdot \\cos \\beta =\\frac{1}{2}\\left\\{\\cos(\\alpha + \\beta)+\\cos(\\alpha - \\beta)\\right\\} \\\\[0.8em]\n",
        "\\sin \\alpha \\cdot \\sin \\beta =-\\frac{1}{2}\\left\\{\\cos(\\alpha + \\beta)-\\cos(\\alpha - \\beta)\\right\\} \\\\[0.8em]"
      ],
      "metadata": {
        "id": "7sL1WuDRxzeM",
        "outputId": "0db35f6d-c40a-4cf0-d52f-335cef52aaa7",
        "colab": {
          "base_uri": "https://localhost:8080/",
          "height": 207
        }
      },
      "execution_count": null,
      "outputs": [
        {
          "output_type": "display_data",
          "data": {
            "text/plain": [
              "<IPython.core.display.Latex object>"
            ],
            "text/latex": "\\displaystyle\n\\sin \\alpha \\cdot \\cos \\beta =\\frac{1}{2}\\left\\{\\sin(\\alpha + \\beta)+\\sin(\\alpha - \\beta)\\right\\} \\\\[0.8em]\n\\cos \\alpha \\cdot \\sin \\beta =\\frac{1}{2}\\left\\{\\sin(\\alpha + \\beta)-\\sin(\\alpha - \\beta)\\right\\} \\\\[0.8em]\n\\cos \\alpha \\cdot \\cos \\beta =\\frac{1}{2}\\left\\{\\cos(\\alpha + \\beta)+\\cos(\\alpha - \\beta)\\right\\} \\\\[0.8em]\n\\sin \\alpha \\cdot \\sin \\beta =-\\frac{1}{2}\\left\\{\\cos(\\alpha + \\beta)-\\cos(\\alpha - \\beta)\\right\\} \\\\[0.8em]"
          },
          "metadata": {}
        }
      ]
    },
    {
      "cell_type": "code",
      "source": [
        "# 三角関数の合成\n",
        "%%latex\n",
        "\\displaystyle\n",
        "a\\sin \\theta + b\\cos \\theta =\\sqrt{a^2 + b^2}\\sin(\\theta + \\alpha) \\\\[0.8em]\n",
        "\\text{where}\\quad \\sin \\alpha = \\frac{b}{\\sqrt{a^2 + b^2}}, \\quad \\cos \\alpha = \\frac{a}{\\sqrt{a^2 + b^2}} \\\\[0.8em]"
      ],
      "metadata": {
        "id": "AIdbcKvHx5P3",
        "outputId": "08f61837-a2ed-4a81-b85e-b25df47c6627",
        "colab": {
          "base_uri": "https://localhost:8080/",
          "height": 108
        }
      },
      "execution_count": null,
      "outputs": [
        {
          "output_type": "display_data",
          "data": {
            "text/plain": [
              "<IPython.core.display.Latex object>"
            ],
            "text/latex": "\\displaystyle\na\\sin \\theta + b\\cos \\theta =\\sqrt{a^2 + b^2}\\sin(\\theta + \\alpha) \\\\[0.8em]\n\\text{where}\\quad \\sin \\alpha = \\frac{b}{\\sqrt{a^2 + b^2}}, \\quad \\cos \\alpha = \\frac{a}{\\sqrt{a^2 + b^2}} \\\\[0.8em]"
          },
          "metadata": {}
        }
      ]
    },
    {
      "cell_type": "code",
      "metadata": {
        "id": "j135KEgOhMCX",
        "colab": {
          "base_uri": "https://localhost:8080/",
          "height": 127
        },
        "outputId": "35f2ed4c-6ab2-4223-85c4-05ddf3b2a206"
      },
      "source": [
        "# 指数関数\n",
        "# 以下、この節内では a,b,c は実数とする\n",
        "%%latex\n",
        "a, b, c \\in \\mathbf{R} \\\\\n",
        "a^b\\times a^c=a^{b+c} \\\\\n",
        "a^b\\div a^c = a^{b-c} \\\\\n",
        "(a^b)^c=a^{bc} \\\\\n",
        "(ab)^c=a^cb^c \\\\"
      ],
      "execution_count": null,
      "outputs": [
        {
          "output_type": "display_data",
          "data": {
            "text/plain": [
              "<IPython.core.display.Latex object>"
            ],
            "text/latex": "a, b, c \\in \\mathbf{R} \\\\\n\\displaystyle\na^b\\times a^c=a^{b+c} \\\\\na^b\\div a^c = a^{b-c} \\\\\n(a^b)^c=a^{bc} \\\\\n(ab)^c=a^cb^c \\\\"
          },
          "metadata": {}
        }
      ]
    },
    {
      "cell_type": "code",
      "source": [
        "# 対数関数\n",
        "# 以下a>0かつa≠1とし、また対数の真数として表れるものはすべて正とする\n",
        "%%latex\n",
        "\\displaystyle\n",
        "\\log_a(bc) = \\log_a b + \\log_a c \\\\[0.8em]\n",
        "\\log_a \\left(\\frac{b}{c}\\right) = \\log_a b - \\log_a c \\\\[0.8em]\n",
        "\\log_a b^c = c\\log_a b \\\\[0.8em]\n",
        "\\log_a b = \\frac{\\log_c b}{\\log_c a} \\\\[0.8em]\n",
        "\\log_a b = \\frac{1}{\\log_b a} ,\\quad \\log_a b \\cdot \\log_b a = 1 \\\\[0.8em]\n",
        "a = b ^{\\log_b a} "
      ],
      "metadata": {
        "id": "-F4Zg-37zCsI",
        "outputId": "65f3b17d-11cc-432a-f037-9a4250111d59",
        "colab": {
          "base_uri": "https://localhost:8080/",
          "height": 268
        }
      },
      "execution_count": null,
      "outputs": [
        {
          "output_type": "display_data",
          "data": {
            "text/plain": [
              "<IPython.core.display.Latex object>"
            ],
            "text/latex": "\\displaystyle\n\\log_a(bc) = \\log_a b + \\log_a c \\\\[0.8em]\n\\log_a \\left(\\frac{b}{c}\\right) = \\log_a b - \\log_a c \\\\[0.8em]\n\\log_a b^c = c\\log_a b \\\\[0.8em]\n\\log_a b = \\frac{\\log_c b}{\\log_c a} \\\\[0.8em]\n\\log_a b = \\frac{1}{\\log_b a} ,\\quad \\log_a b \\cdot \\log_b a = 1 \\\\[0.8em]\na = b ^{\\log_b a} "
          },
          "metadata": {}
        }
      ]
    },
    {
      "cell_type": "code",
      "source": [
        "# 三次元空間\n",
        "# 2点A (a_1, b_1, c_1) , B (a_2, b_2, c_2) 間の距離：\n",
        "%%latex\n",
        "AB = \\sqrt{(a_2 - a_1)^2 + (b_2 - b_1)^2+ (c_2 - c_1)^2} \\quad\\text{where}\\quad\n",
        "A(a_1, b_1, c_1) ,\\quad B (a_2, b_2, c_2)"
      ],
      "metadata": {
        "id": "aqCdxCfHz0mV",
        "outputId": "1693e4e4-f5f4-4c0a-eae3-ad32fb354c3f",
        "colab": {
          "base_uri": "https://localhost:8080/",
          "height": 39
        }
      },
      "execution_count": null,
      "outputs": [
        {
          "output_type": "display_data",
          "data": {
            "text/plain": [
              "<IPython.core.display.Latex object>"
            ],
            "text/latex": "AB = \\sqrt{(a_2 - a_1)^2 + (b_2 - b_1)^2+ (c_2 - c_1)^2} \\quad\\text{where}\\quad\nA(a_1, b_1, c_1) ,\\quad B (a_2, b_2, c_2)"
          },
          "metadata": {}
        }
      ]
    },
    {
      "cell_type": "code",
      "source": [
        "# 直線の式\n",
        "# 点  (x_0, y_0, z_0)  を通り、方向ベクトルが (a, b, c) である直線の式：\n",
        "# \\frac{x-x_0}a=\\frac{y-y_0}b=\\frac{z-z_0}c \n",
        "# 2点  (a_1, b_1, c_1) ,  (a_2, b_2, c_2)  を通る直線の式：\n",
        "# \\frac{x-a_1}{a_2-a_1}=\\frac{y-b_1}{b_2-b_1}=\\frac{z-c_1}{c_2-c_1} \n",
        "%%latex\n",
        "\\displaystyle\n",
        "\\frac{x-x_0}a=\\frac{y-y_0}b=\\frac{z-z_0}c \\\\[0.8em]\n",
        "\\frac{x-a_1}{a_2-a_1}=\\frac{y-b_1}{b_2-b_1}=\\frac{z-c_1}{c_2-c_1} "
      ],
      "metadata": {
        "id": "eHPEAPMA1MTG",
        "outputId": "06f806f1-5c1f-46a4-f0ad-a5d65cad7fe9",
        "colab": {
          "base_uri": "https://localhost:8080/",
          "height": 101
        }
      },
      "execution_count": null,
      "outputs": [
        {
          "output_type": "display_data",
          "data": {
            "text/plain": [
              "<IPython.core.display.Latex object>"
            ],
            "text/latex": "\\displaystyle\n\\frac{x-x_0}a=\\frac{y-y_0}b=\\frac{z-z_0}c \\\\[0.8em]\n\\frac{x-a_1}{a_2-a_1}=\\frac{y-b_1}{b_2-b_1}=\\frac{z-c_1}{c_2-c_1} "
          },
          "metadata": {}
        }
      ]
    },
    {
      "cell_type": "code",
      "source": [
        "# 平面の式\n",
        "# 一般式\n",
        "# ax + by + cz + d = 0 \n",
        "# 点  (x_0, y_0, z_0)  を通り、法線ベクトルが (a, b, c) である平面の式：\n",
        "# a({x-x_0})+b({y-y_0})+c({z-z_0})=0 \n",
        "# 3点  x 切片 (a, 0, 0) ,  y 切片 (0, b, 0) ,  z 切片 (0, 0, c) （ただしabc≠0とする）を通る直線の式：\n",
        "# \\frac{x}{a}+\\frac{y}{b}+\\frac{z}{c}=1 \n",
        "# 点 $P$  (p, q, r) と平面 ax + by + cz + d = 0 の距離\n",
        "# \\frac{\\left|ap + bq + cr + d\\right\\vert}{\\sqrt{a^2 + b^2 + c^2}}\n",
        "%%latex\n",
        "ax + by + cz + d = 0 \\\\[0.8em]\n",
        "a({x-x_0})+b({y-y_0})+c({z-z_0})=0 \\\\[0.8em]\n",
        "\\displaystyle\n",
        "\\frac{x}{a}+\\frac{y}{b}+\\frac{z}{c}=1 \\\\[0.8em]\n",
        "\\frac{\\left|ap + bq + cr + d\\right\\vert}{\\sqrt{a^2 + b^2 + c^2}}"
      ],
      "metadata": {
        "id": "3swoXz9JAS_M",
        "outputId": "4c077d89-db4f-4045-e402-afe812539ebe",
        "colab": {
          "base_uri": "https://localhost:8080/",
          "height": 158
        }
      },
      "execution_count": null,
      "outputs": [
        {
          "output_type": "display_data",
          "data": {
            "text/plain": [
              "<IPython.core.display.Latex object>"
            ],
            "text/latex": "ax + by + cz + d = 0 \\\\\na({x-x_0})+b({y-y_0})+c({z-z_0})=0 \\\\[0.8em]\n\\displaystyle\n\\frac{x}{a}+\\frac{y}{b}+\\frac{z}{c}=1 \\\\[0.8em]\n\\frac{\\left|ap + bq + cr + d\\right\\vert}{\\sqrt{a^2 + b^2 + c^2}}"
          },
          "metadata": {}
        }
      ]
    },
    {
      "cell_type": "code",
      "source": [
        "# 球面の式\n",
        "# 中心座標 \\displaystyle (a, b, c) 、半径 $r$ の球の方程式（標準形）：\n",
        "%%latex\n",
        "\\displaystyle (x-a)^2+(y-b)^2+(z-c)^2 = r^2 "
      ],
      "metadata": {
        "id": "9EcRGzZnBA6y",
        "outputId": "2fdcc479-fdb9-43be-fbb7-6948974852f9",
        "colab": {
          "base_uri": "https://localhost:8080/",
          "height": 39
        }
      },
      "execution_count": null,
      "outputs": [
        {
          "output_type": "display_data",
          "data": {
            "text/plain": [
              "<IPython.core.display.Latex object>"
            ],
            "text/latex": "\\displaystyle (x-a)^2+(y-b)^2+(z-c)^2 = r^2 "
          },
          "metadata": {}
        }
      ]
    },
    {
      "cell_type": "code",
      "source": [
        "# 数列と極限\n",
        "# 等差数列(算術数列)\n",
        "# 初項を   a_1  とし、公差を  d とすれば、 n 番目の項  a_n  は\n",
        "# 等比数列(幾何数列)\n",
        "# *:初項を   a_1  とし、公比を  r とすれば、 n 番目の項  a_n  は\n",
        "%%latex\n",
        "a_{n} = a_{1}+(n-1)d \\\\\n",
        "a_{n} = a_1r^{n-1}"
      ],
      "metadata": {
        "id": "BT5nARfaCHTK",
        "outputId": "6f6a42a4-d808-4d08-c99b-e5990a17ff93",
        "colab": {
          "base_uri": "https://localhost:8080/",
          "height": 60
        }
      },
      "execution_count": null,
      "outputs": [
        {
          "output_type": "display_data",
          "data": {
            "text/plain": [
              "<IPython.core.display.Latex object>"
            ],
            "text/latex": "a_{n} = a_{1}+(n-1)d \\\\\na_{n} = a_1r^{n-1}"
          },
          "metadata": {}
        }
      ]
    },
    {
      "cell_type": "code",
      "source": [
        "# 数列の和\n",
        "# 等差数列の和\n",
        "# 等比数列の和\n",
        "%%latex\n",
        "\\displaystyle\n",
        "\\sum_{k=1}^n 1 = n  \\\\\n",
        "\\sum_{k=1}^n k = {1\\over 2}n(n+1)  \\\\\n",
        "\\sum_{k=1}^n k^2 = {1\\over 6}n(n+1)(2n+1)  \\\\\n",
        "\\sum_{k=1}^n k^3 = \\left\\{ {1\\over 2}n(n+1) \\right\\}^2  \\\\\n",
        "\\sum_{k=1}^n \\left\\{a + d(k-1)\\right\\} = \\frac{n}{2}(2a + d(n-1)) \\\\\n",
        "\\sum_{k=1}^n ar^{k-1}=\\begin{cases} \n",
        "an & (r=1)\\\\\n",
        "  \\cfrac{a(1-r^n)}{1-r}& (r\\not=1)\\end{cases} \\\\"
      ],
      "metadata": {
        "id": "d6ed8rzhCPa9",
        "outputId": "06865488-3907-4dc6-c112-2e0db75f2449",
        "colab": {
          "base_uri": "https://localhost:8080/",
          "height": 332
        }
      },
      "execution_count": null,
      "outputs": [
        {
          "output_type": "display_data",
          "data": {
            "text/plain": [
              "<IPython.core.display.Latex object>"
            ],
            "text/latex": "\\displaystyle\n\\sum_{k=1}^n 1 = n  \\\\\n\\sum_{k=1}^n k = {1\\over 2}n(n+1)  \\\\\n\\sum_{k=1}^n k^2 = {1\\over 6}n(n+1)(2n+1)  \\\\\n\\sum_{k=1}^n k^3 = \\left\\{ {1\\over 2}n(n+1) \\right\\}^2  \\\\\n\\sum_{k=1}^n \\left\\{a + d(k-1)\\right\\} = \\frac{n}{2}(2a + d(n-1)) \\\\\n\\sum_{k=1}^n ar^{k-1}=\\begin{cases} \nan & (r=1)\\\\\n  \\cfrac{a(1-r^n)}{1-r}& (r\\not=1)\\end{cases} \\\\"
          },
          "metadata": {}
        }
      ]
    },
    {
      "cell_type": "code",
      "source": [
        "# 数列の和の性質（線形性）\n",
        "%%latex\n",
        "\\displaystyle\n",
        "\\sum_{i=m}^n \\left(a_i+b_i\\right) = \\left( \\sum_{i=m}^n a_i \\right) + \\left( \\sum_{i=m}^n b_i \\right) \\\\\n",
        "\\sum_{i=m}^n \\lambda a_i = \\lambda \\sum_{i=m}^n a_i "
      ],
      "metadata": {
        "id": "DQgvXmUmDTo7",
        "outputId": "b549b1d9-592e-49c3-c449-9ce5687e2d9f",
        "colab": {
          "base_uri": "https://localhost:8080/",
          "height": 118
        }
      },
      "execution_count": null,
      "outputs": [
        {
          "output_type": "display_data",
          "data": {
            "text/plain": [
              "<IPython.core.display.Latex object>"
            ],
            "text/latex": "\\displaystyle\n\\sum_{i=m}^n \\left(a_i+b_i\\right) = \\left( \\sum_{i=m}^n a_i \\right) + \\left( \\sum_{i=m}^n b_i \\right) \\\\\n\\sum_{i=m}^n \\lambda a_i = \\lambda \\sum_{i=m}^n a_i "
          },
          "metadata": {}
        }
      ]
    },
    {
      "cell_type": "code",
      "source": [
        "# 漸化式と一般項\n",
        "# \\displaystyle a_{n+1}-a_n=k （定数） のとき、\n",
        "# *:一般項は、 a_n=a_1+k(n-1) [等差数列]\n",
        "# \\displaystyle a_{n+1}-a_n=b_n  のとき、\n",
        "# *:一般項は、 a_n=a_1+\\sum_{k=1}^{n-1} b_k [階差数列]\n",
        "# \\displaystyle a_{n+1}=ra_n   のとき、\n",
        "# *:一般項は、 a_n=a_1r^{n-1} [等比数列]\n",
        "%%latex\n",
        "\\displaystyle\n",
        "a_{n+1}-a_n = k \\\\\n",
        "\\Longrightarrow\\quad a_n=a_1+k(n-1) \\\\[0.8em]\n",
        "a_{n+1}-a_n=b_n \\\\\n",
        "\\Longrightarrow\\quad a_n=a_1+\\sum_{k=1}^{n-1} b_k \\\\[0.8em]\n",
        "a_{n+1}=ra_n \\\\\n",
        "\\Longrightarrow\\quad a_n=a_1r^{n-1}"
      ],
      "metadata": {
        "id": "Ch2w-jpOEazJ",
        "outputId": "14c689b6-22d9-4b4c-b4b9-5eb07d69cf1b",
        "colab": {
          "base_uri": "https://localhost:8080/",
          "height": 205
        }
      },
      "execution_count": null,
      "outputs": [
        {
          "output_type": "display_data",
          "data": {
            "text/plain": [
              "<IPython.core.display.Latex object>"
            ],
            "text/latex": "\\displaystyle\na_{n+1}-a_n = k \\\\\n\\Longrightarrow\\quad a_n=a_1+k(n-1) \\\\[0.8em]\na_{n+1}-a_n=b_n \\\\\n\\Longrightarrow\\quad a_n=a_1+\\sum_{k=1}^{n-1} b_k \\\\[0.8em]\na_{n+1}=ra_n \\\\\n\\Longrightarrow\\quad a_n=a_1r^{n-1}"
          },
          "metadata": {}
        }
      ]
    },
    {
      "cell_type": "code",
      "source": [
        "# 等比数列となる漸化式の応用\n",
        "# \\displaystyle a_{n+1}=ra_n+k 　  (r\\not=1)  のとき、\n",
        "# \\displaystyle a_{n+1}=r\\left(a_n-\\frac{k}{1-r}\\right)+\\frac{k}{1-r}   \n",
        "# ここで、\n",
        "# \\displaystyle b_n = a_n-\\frac{k}{1-r} とすると、\n",
        "# 元の漸化式は、\n",
        "# \\displaystyle b_{n+1}=rb_n  となり、これは等比数列なので、一般項は、 b_n=b_1r^{n-1} となる。\n",
        "# \\displaystyle a_n = b_n+\\frac{k}{1-r} かつ、 \\displaystyle b_1 = a_1-\\frac{k}{1-r} なので、\n",
        "# 一般項は、 \\displaystyle a_n =\\left( a_1-\\frac{k}{1-r}\\right)r^{n-1}+\\frac{k}{1-r} となる。\n",
        "%%latex\n",
        "a_{n+1}=ra_n+k \\quad (r\\not=1) \\\\[0.8em]\n",
        "\\displaystyle\n",
        "a_{n+1}=r\\left(a_n-\\frac{k}{1-r}\\right)+\\frac{k}{1-r} \\\\[0.8em]\n",
        "\\text{let} \\quad b_n = a_n-\\frac{k}{1-r} \\\\[0.8em]\n",
        "b_{n+1}=rb_n \\quad \\Longrightarrow \\quad b_n=b_1r^{n-1} \\\\[0.8em]\n",
        "\\because a_n = b_n+\\frac{k}{1-r}  \\quad \\land \\quad \\displaystyle b_1 = a_1-\\frac{k}{1-r} \\\\[0.8em]\n",
        "\\Longrightarrow \\quad a_n =\\left( a_1-\\frac{k}{1-r}\\right)r^{n-1}+\\frac{k}{1-r} "
      ],
      "metadata": {
        "id": "FsP1oRarEyM7",
        "outputId": "fc6be633-b9c1-4cd4-ca52-db64248007b9",
        "colab": {
          "base_uri": "https://localhost:8080/",
          "height": 282
        }
      },
      "execution_count": null,
      "outputs": [
        {
          "output_type": "display_data",
          "data": {
            "text/plain": [
              "<IPython.core.display.Latex object>"
            ],
            "text/latex": "a_{n+1}=ra_n+k \\quad (r\\not=1) \\\\[0.8em]\n\\displaystyle\na_{n+1}=r\\left(a_n-\\frac{k}{1-r}\\right)+\\frac{k}{1-r} \\\\[0.8em]\n\\text{let} \\quad b_n = a_n-\\frac{k}{1-r} \\\\[0.8em]\nb_{n+1}=rb_n \\quad \\Longrightarrow \\quad b_n=b_1r^{n-1} \\\\[0.8em]\n\\because a_n = b_n+\\frac{k}{1-r}  \\quad \\land \\quad \\displaystyle b_1 = a_1-\\frac{k}{1-r} \\\\[0.8em]\n\\Longrightarrow \\quad a_n =\\left( a_1-\\frac{k}{1-r}\\right)r^{n-1}+\\frac{k}{1-r} "
          },
          "metadata": {}
        }
      ]
    },
    {
      "cell_type": "code",
      "source": [
        "# 数列・級数の極限\n",
        "# 数列  \\displaystyle \\{a_n\\}, \\{b_n\\}, \\{c_n\\}  が、 N  が十分大きいとき常に  \\displaystyle a_N \\le b_N \\le c_N  を満たし、 \\lim_{n\\to\\infty}a_n=\\lim_{n\\to\\infty}c_n=\\alpha  となるならば、 \\displaystyle \\{b_n\\}  も収束し、\n",
        "# \\lim_{n\\to\\infty}b_n=\\alpha \n",
        "# （はさみうちの原理）\n",
        "%%latex\n",
        "\\displaystyle\n",
        "\\{a_n\\}, \\{b_n\\}, \\{c_n\\} \\\\\n",
        "a_N \\leqq b_N \\leqq c_N \\\\\n",
        "\\lim_{n\\to\\infty}a_n=\\lim_{n\\to\\infty}c_n=\\alpha \\\\\n",
        "\\Longrightarrow\\quad \\lim_{n\\to\\infty}b_n=\\alpha"
      ],
      "metadata": {
        "id": "0Maniy71GEmr",
        "outputId": "cbb2d8c7-4717-4a85-9bb9-bed22a4387aa",
        "colab": {
          "base_uri": "https://localhost:8080/",
          "height": 115
        }
      },
      "execution_count": null,
      "outputs": [
        {
          "output_type": "display_data",
          "data": {
            "text/plain": [
              "<IPython.core.display.Latex object>"
            ],
            "text/latex": "\\displaystyle\n\\{a_n\\}, \\{b_n\\}, \\{c_n\\} \\\\\na_N \\leqq b_N \\leqq c_N \\\\\n\\lim_{n\\to\\infty}a_n=\\lim_{n\\to\\infty}c_n=\\alpha \\\\\n\\Longrightarrow\\quad \\lim_{n\\to\\infty}b_n=\\alpha"
          },
          "metadata": {}
        }
      ]
    },
    {
      "cell_type": "code",
      "source": [
        "# 数列  \\{a_n\\},\\{b_n\\}  に対して,  \\lim_{n\\to\\infty}a_n=\\alpha ,  \\lim_{n\\to\\infty}b_n=\\beta  ならば、\n",
        "%%latex\n",
        "\\{a_n\\},\\{b_n\\}, \\lim_{n\\to\\infty}a_n=\\alpha ,  \\lim_{n\\to\\infty}b_n=\\beta \\\\\n",
        "\\displaystyle\n",
        "\\lim_{n\\to\\infty}ka_n=k\\alpha \\quad\\text{where}\\quad k \\text{ is a constant} \\\\\n",
        "\\lim_{n\\to\\infty}(a_n\\pm b_n)=\\alpha\\pm \\beta \\\\\n",
        "\\lim_{n\\to\\infty}a_nb_n=\\alpha\\beta \\\\[0.8em]\n",
        "\\lim_{n\\to\\infty}\\frac{a_n}{b_n}=\\frac{\\alpha}{\\beta}  \\quad\\text{where}\\quad \\beta \\ne 0"
      ],
      "metadata": {
        "id": "NZ7SDKVAIB83",
        "outputId": "dd8c87f8-b858-4ee1-baa9-0b9bf575f763",
        "colab": {
          "base_uri": "https://localhost:8080/",
          "height": 167
        }
      },
      "execution_count": null,
      "outputs": [
        {
          "output_type": "display_data",
          "data": {
            "text/plain": [
              "<IPython.core.display.Latex object>"
            ],
            "text/latex": "\\{a_n\\},\\{b_n\\}, \\lim_{n\\to\\infty}a_n=\\alpha ,  \\lim_{n\\to\\infty}b_n=\\beta \\\\\n\\displaystyle\n\\lim_{n\\to\\infty}ka_n=k\\alpha \\quad\\text{where}\\quad k \\text{ is a constant} \\\\\n\\lim_{n\\to\\infty}(a_n\\pm b_n)=\\alpha\\pm \\beta \\\\\n\\lim_{n\\to\\infty}a_nb_n=\\alpha\\beta \\\\[0.8em]\n\\lim_{n\\to\\infty}\\frac{a_n}{b_n}=\\frac{\\alpha}{\\beta}  \\quad\\text{where}\\quad \\beta \\ne 0"
          },
          "metadata": {}
        }
      ]
    },
    {
      "cell_type": "code",
      "source": [
        "# 数列\n",
        "%%latex\n",
        "\\{r^n\\}, \\quad \\displaystyle |r| \\lt 1 \\quad\\Longrightarrow\\quad \\lim_{n\\to\\infty}r^n=0 \\\\\n",
        "r=1  \\quad\\Longrightarrow\\quad  \\lim_{n\\to\\infty}r^n=1 \\\\\n",
        "r > 1  \\quad\\Longrightarrow\\quad  \\lim_{n\\to\\infty}r^n=\\infty \\\\\n",
        "r  \\leqq  -1  \\quad\\Longrightarrow\\quad  \\nexists \\lim_{n\\to\\infty}r^n "
      ],
      "metadata": {
        "id": "B5rgMRkem1n4",
        "outputId": "4a0c1f6e-9503-4470-f9c0-56e79f630143",
        "colab": {
          "base_uri": "https://localhost:8080/",
          "height": 126
        }
      },
      "execution_count": null,
      "outputs": [
        {
          "output_type": "display_data",
          "data": {
            "text/plain": [
              "<IPython.core.display.Latex object>"
            ],
            "text/latex": "\\{r^n\\}, \\quad \\displaystyle |r| \\lt 1 \\quad\\Longrightarrow\\quad \\lim_{n\\to\\infty}r^n=0 \\\\\nr=1  \\quad\\Longrightarrow\\quad  \\lim_{n\\to\\infty}r^n=1 \\\\\nr > 1  \\quad\\Longrightarrow\\quad  \\lim_{n\\to\\infty}r^n=\\infty \\\\\nr  \\leqq  -1  \\quad\\Longrightarrow\\quad  \\nexists \\lim_{n\\to\\infty}r^n "
          },
          "metadata": {}
        }
      ]
    },
    {
      "cell_type": "code",
      "source": [
        "# 級数：  S_n=\\sum_{k=1}^{n-1}r^{k-1}  について、\n",
        "# |r|<1  のとき  \\lim_{n\\to\\infty}S_n=\\frac{1}{1-r} 。\n",
        "# |r|  &ge;  1  のとき  \\lim_{n\\to\\infty}S_n  は発散する\n",
        "%%latex\n",
        "\\displaystyle\n",
        " S_n=\\sum_{k=1}^{n-1}r^{k-1} \\\\[0.8em]\n",
        " |r| \\lt 1  \\quad\\Longrightarrow\\quad  \\lim_{n\\to\\infty}S_n=\\frac{1}{1-r} \\\\[0.8em]\n",
        " |r|  \\geqq  1  \\quad\\Longrightarrow\\quad  \\nexists \\lim_{n\\to\\infty}S_n"
      ],
      "metadata": {
        "id": "k1jOtR3Zo5QF",
        "outputId": "e86b96db-1b9c-450e-cc2d-aaf6491db986",
        "colab": {
          "base_uri": "https://localhost:8080/",
          "height": 159
        }
      },
      "execution_count": null,
      "outputs": [
        {
          "output_type": "display_data",
          "data": {
            "text/plain": [
              "<IPython.core.display.Latex object>"
            ],
            "text/latex": "\\displaystyle\n S_n=\\sum_{k=1}^{n-1}r^{k-1} \\\\[0.8em]\n |r| \\lt 1  \\quad\\Longrightarrow\\quad  \\lim_{n\\to\\infty}S_n=\\frac{1}{1-r} \\\\[0.8em]\n |r|  \\geqq  1  \\quad\\Longrightarrow\\quad  \\nexists \\lim_{n\\to\\infty}S_n"
          },
          "metadata": {}
        }
      ]
    },
    {
      "cell_type": "code",
      "source": [
        "# 関数の極限\n",
        "%%latex\n",
        "\\displaystyle\n",
        "\\lim_{x\\to a}f(x)=\\alpha ,\\quad  \\lim_{x\\to a}g(x)=\\beta \\\\[0.8em]\n",
        "\\lim_{x\\to a}kf(x)=k\\alpha \\quad\\text{where}\\quad k \\text{ is a constant} \\\\[0.8em]\n",
        "\\lim_{x\\to a}\\{f(x)\\pm g(x)\\}=\\alpha\\pm\\beta \\\\[0.8em]\n",
        "\\lim_{x\\to a}f(x)g(x)=\\alpha\\beta \\\\[0.8em]\n",
        "\\lim_{x\\to a}\\frac{f(x)}{g(x)}=\\frac{\\alpha}{\\beta} \\quad\\text{where}\\quad \\displaystyle \\beta \\ne 0"
      ],
      "metadata": {
        "id": "JEPjRHy6qa9G",
        "outputId": "7d98478d-f74d-4f4d-83f2-c7f069213102",
        "colab": {
          "base_uri": "https://localhost:8080/",
          "height": 219
        }
      },
      "execution_count": null,
      "outputs": [
        {
          "output_type": "display_data",
          "data": {
            "text/plain": [
              "<IPython.core.display.Latex object>"
            ],
            "text/latex": "\\displaystyle\n\\lim_{x\\to a}f(x)=\\alpha ,\\quad  \\lim_{x\\to a}g(x)=\\beta \\\\[0.8em]\n\\lim_{x\\to a}kf(x)=k\\alpha \\quad\\text{where}\\quad k \\text{ is a constant} \\\\[0.8em]\n\\lim_{x\\to a}\\{f(x)\\pm g(x)\\}=\\alpha\\pm\\beta \\\\[0.8em]\n\\lim_{x\\to a}f(x)g(x)=\\alpha\\beta \\\\[0.8em]\n\\lim_{x\\to a}\\frac{f(x)}{g(x)}=\\frac{\\alpha}{\\beta} \\quad\\text{where}\\quad \\displaystyle \\beta \\ne 0"
          },
          "metadata": {}
        }
      ]
    },
    {
      "cell_type": "code",
      "source": [
        "# 関数の極限 つづき\n",
        "%%latex\n",
        "\\displaystyle\n",
        "f(x) \\leqq  g(x)  \\leqq  h(x) \\land  \\lim_{x \\to a}f(x) = \\lim_{x \\to a}h(x) = \\alpha \\\\\n",
        "\\Longrightarrow \\quad \\lim_{x\\to a}g(x)=\\alpha \\\\[0.8em]\n",
        "\\lim_{x\\to 0}\\frac{\\sin x}{x}=1 \\\\[0.8em]\n",
        "\\lim_{x\\to 0}\\frac{\\tan x}{x}=1 \\\\[0.8em]\n",
        "\\lim_{h\\to\\infty}\\left(1+\\frac{1}{h}\\right)^h=\\lim_{h\\to0}(1+h)^{\\frac{1}{h}}=e \\\\[0.8em]\n",
        "\\lim_{h\\to\\infty}\\left(1+\\frac{r}{h}\\right)^h=e^r \\\\[0.8em]\n",
        "\\lim_{r\\to\\infty}\\sqrt[r]{a}=1 \\quad\\text{where}\\quad a \\text{ is a positive constant} \\\\[0.8em]\n",
        "\\lim_{r\\to\\infty}\\sqrt[r]{r}=1"
      ],
      "metadata": {
        "id": "LntD34qY09ok",
        "outputId": "6f9c64f0-430f-4a64-90b2-a959d548ba0f",
        "colab": {
          "base_uri": "https://localhost:8080/",
          "height": 356
        }
      },
      "execution_count": null,
      "outputs": [
        {
          "output_type": "display_data",
          "data": {
            "text/plain": [
              "<IPython.core.display.Latex object>"
            ],
            "text/latex": "\\displaystyle\nf(x) \\leqq  g(x)  \\leqq  h(x) \\land  \\lim_{x \\to a}f(x) = \\lim_{x \\to a}h(x) = \\alpha \\\\\n\\Longrightarrow \\quad \\lim_{x\\to a}g(x)=\\alpha \\\\[0.8em]\n\\lim_{x\\to 0}\\frac{\\sin x}{x}=1 \\\\[0.8em]\n\\lim_{x\\to 0}\\frac{\\tan x}{x}=1 \\\\[0.8em]\n\\lim_{h\\to\\infty}\\left(1+\\frac{1}{h}\\right)^h=\\lim_{h\\to0}(1+h)^{\\frac{1}{h}}=e \\\\[0.8em]\n\\lim_{h\\to\\infty}\\left(1+\\frac{r}{h}\\right)^h=e^r \\\\[0.8em]\n\\lim_{r\\to\\infty}\\sqrt[r]{a}=1 \\quad\\text{where}\\quad a \\text{ is a positive constant} \\\\[0.8em]\n\\lim_{r\\to\\infty}\\sqrt[r]{r}=1"
          },
          "metadata": {}
        }
      ]
    },
    {
      "cell_type": "code",
      "source": [
        "# 微積分\n",
        "# 微積分学の基本定理\n",
        "%%latex\n",
        "\\displaystyle\n",
        "{d\\over dx}\\int_a^x f(t)\\,dt = f(x)"
      ],
      "metadata": {
        "id": "N7ZVKsv3jax-",
        "outputId": "27ba9a5b-a841-4afc-a88b-ddea85bfee78",
        "colab": {
          "base_uri": "https://localhost:8080/",
          "height": 56
        }
      },
      "execution_count": null,
      "outputs": [
        {
          "output_type": "display_data",
          "data": {
            "text/plain": [
              "<IPython.core.display.Latex object>"
            ],
            "text/latex": "\\displaystyle\n{d\\over dx}\\int_a^x f(t)\\,dt = f(x)"
          },
          "metadata": {}
        }
      ]
    },
    {
      "cell_type": "code",
      "source": [
        "# 微分\n",
        "# 以下簡略化のために微分記号として \\prime を用いる (Leibniz's notation)\n",
        "# \\prime=\\frac{d}{dx} , 変数  x  の微分可能な関数 f, g に対して\n",
        "# (f+g)^\\prime=f^\\prime+g^\\prime \n",
        "# (fg)^\\prime=f^\\prime g+fg^\\prime 　（ライプニッツ則）\n",
        "# \\left(\\frac{f}{g}\\right)'=\\frac{f'g-fg'}{g^2}\\quad(\\mbox{where } g\\ne 0) \n",
        "# (f\\circ g)'=(f'\\circ g)\\cdot g' \n",
        "#    別の表現で  \\frac{df(g(x))}{dx} = \\frac{df(g)}{dg}\\cdot \\frac{dg(x)}{dx}  　（チェインルール）\n",
        "# \\left(f^{-1}\\right)'=\\frac{1}{f'\\circ f^{-1}} \n",
        "#      y=f\\left( x \\right) とおくと、 x=f^{-1}\\left( y \\right) で    \\frac{dx}{dy} = \\frac{1}{\\frac{dx}{dy}}  とも表せる。\n",
        "# * 媒介変数による微分　  x=x\\left( t \\right),y=y\\left( t \\right)  ならば  \\frac{dy}{dx}=\\frac{dy}{dt}/\\frac{dx}{dt} \n",
        "%%latex\n",
        "\\displaystyle\n",
        "\\prime=\\frac{d}{dx} \\\\[0.8em]\n",
        "(f+g)^\\prime=f^\\prime+g^\\prime \\\\[0.8em]\n",
        "(fg)^\\prime=f^\\prime g+fg^\\prime \\quad (\\text{Leibnitz rule}) \\\\[0.8em]\n",
        "\\left(\\frac{f}{g}\\right)^\\prime =\\frac{f^\\prime g - f g^\\prime}{g^2} \\quad(\\text{where} \\quad g \\ne 0) \\\\[0.8em]\n",
        "(f\\circ g)^\\prime = (f^\\prime \\circ g)\\cdot g^\\prime  \\\\[0.8em]\n",
        "\\frac{df(g(x))}{dx} = \\frac{df(g)}{dg}\\cdot \\frac{dg(x)}{dx} \\quad (\\text{chain rule}) \\\\[0.8em]\n",
        "\\left(f^{-1}\\right)^\\prime = \\frac{1}{f^\\prime \\circ f^{-1}} \\\\[0.8em]\n",
        "y=f\\left( x \\right) \\quad\\Longrightarrow\\quad x=f^{-1}\\left( y \\right) \\quad\\Longrightarrow\\quad \\frac{dx}{dy} = \\frac{1}{\\frac{dx}{dy}}\\\\[0.8em]\n",
        "x=x\\left( t \\right),\\quad y=y\\left( t \\right) \\quad\\Longrightarrow\\quad \\frac{dy}{dx}=\\frac{dy}{dt}/\\frac{dx}{dt} "
      ],
      "metadata": {
        "id": "Pl7wqsFkMzjA",
        "outputId": "a6be9b49-4b6c-40ca-98d5-cd6c7c01c6ce",
        "colab": {
          "base_uri": "https://localhost:8080/",
          "height": 424
        }
      },
      "execution_count": null,
      "outputs": [
        {
          "output_type": "display_data",
          "data": {
            "text/plain": [
              "<IPython.core.display.Latex object>"
            ],
            "text/latex": "\\displaystyle\n\\prime=\\frac{d}{dx} \\\\[0.8em]\n(f+g)^\\prime=f^\\prime+g^\\prime \\\\[0.8em]\n(fg)^\\prime=f^\\prime g+fg^\\prime \\quad (\\text{Leibnitz rule}) \\\\[0.8em]\n\\left(\\frac{f}{g}\\right)^\\prime =\\frac{f^\\prime g - f g^\\prime}{g^2} \\quad(\\text{where} \\quad g \\ne 0) \\\\[0.8em]\n(f\\circ g)^\\prime = (f^\\prime \\circ g)\\cdot g^\\prime  \\\\[0.8em]\n\\frac{df(g(x))}{dx} = \\frac{df(g)}{dg}\\cdot \\frac{dg(x)}{dx} \\quad (\\text{chain rule}) \\\\[0.8em]\n\\left(f^{-1}\\right)^\\prime = \\frac{1}{f^\\prime \\circ f^{-1}} \\\\[0.8em]\ny=f\\left( x \\right) \\quad\\Longrightarrow\\quad x=f^{-1}\\left( y \\right) \\quad\\Longrightarrow\\quad \\frac{dx}{dy} = \\frac{1}{\\frac{dx}{dy}}\\\\[0.8em]\nx=x\\left( t \\right),\\quad y=y\\left( t \\right) \\quad\\Longrightarrow\\quad \\frac{dy}{dx}=\\frac{dy}{dt}/\\frac{dx}{dt} "
          },
          "metadata": {}
        }
      ]
    },
    {
      "cell_type": "code",
      "source": [
        "# 積分\n",
        "# \\left|\\int_a^b f(x)\\,dx\\right| \\leq \\int_a^b |f(x)|dx  \n",
        "# 置換積分\n",
        "# \\int_a^b f(x(t))\\cdot \\frac{dx}{dt}\\,dt = \\int_{\\alpha}^{\\beta} f(x)\\,dx  \n",
        "# ただし、t =  a ,  b  のとき、それぞれ  x  = &alpha;, &beta;。\n",
        "# \\int_a^b f(x)g'(x)\\,dx = [f(x)g(x)]_a^b - \\int_a^b f'(x)g(x)\\,dx  \n",
        "# ただし、 [h(x)]_a^b = h(b) - h(a)  と略記。\n",
        "# 別の表現： \\int_a^b f(x)\\,dg(x) =  [f(x)g(x)]_a^b - \\int_a^b g(x)\\,df(x) \n",
        "# \\left(\\int_a^b f(x)g(x)\\,dx\\right)^2 \\leq \\left(\\int_a^b f(x)^2\\,dx\\right)\\left(\\int_a^b g(x)^2\\,dx\\right)  　（コーシー・シュワルツの不等式）\n",
        "%%latex\n",
        "\\displaystyle\n",
        "\\left|\\int_a^b f(x)\\,dx\\right| \\leq \\int_a^b |f(x)|dx  \\\\[0.8em]\n",
        "\\int_a^b f(x(t))\\cdot \\frac{dx}{dt}\\,dt = \\int_{\\alpha}^{\\beta} f(x)\\,dx  \\\\[0.8em]\n",
        "\\quad\\text{where }\\quad t =  a ,  b  \\quad\\Longrightarrow\\quad  x  = \\alpha, \\beta \\\\[0.8em]\n",
        "\\int_a^b f(x)g^\\prime (x)\\,dx = [f(x)g(x)]_a^b - \\int_a^b f^\\prime (x)g(x)\\,dx  \\\\[0.8em]\n",
        "\\quad\\text{Simplified expression: }\\quad [h(x)]_a^b = h(b) - h(a) \\\\[0.8em]\n",
        "\\quad\\text{Another expression: }\\quad \\int_a^b f(x)\\,dg(x) =  [f(x)g(x)]_a^b - \\int_a^b g(x)\\,df(x) \\\\[0.8em]\n",
        "\\left(\\int_a^b f(x)g(x)\\,dx\\right)^2 \\leq \\left(\\int_a^b f(x)^2\\,dx\\right)\\left(\\int_a^b g(x)^2\\,dx\\right)  \\quad(\\text{Cauchy–Schwarz inequality})\n"
      ],
      "metadata": {
        "id": "_zOsN_aqNDi3",
        "outputId": "1f8f8b6a-c201-4de0-d40f-f615d5d29dd5",
        "colab": {
          "base_uri": "https://localhost:8080/",
          "height": 375
        }
      },
      "execution_count": null,
      "outputs": [
        {
          "output_type": "display_data",
          "data": {
            "text/plain": [
              "<IPython.core.display.Latex object>"
            ],
            "text/latex": "\\displaystyle\n\\left|\\int_a^b f(x)\\,dx\\right| \\leq \\int_a^b |f(x)|dx  \\\\[0.8em]\n\\int_a^b f(x(t))\\cdot \\frac{dx}{dt}\\,dt = \\int_{\\alpha}^{\\beta} f(x)\\,dx  \\\\[0.8em]\n\\quad\\text{where }\\quad t =  a ,  b  \\quad\\Longrightarrow\\quad  x  = \\alpha, \\beta \\\\[0.8em]\n\\int_a^b f(x)g^\\prime (x)\\,dx = [f(x)g(x)]_a^b - \\int_a^b f^\\prime (x)g(x)\\,dx  \\\\[0.8em]\n\\quad\\text{Simplified expression: }\\quad [h(x)]_a^b = h(b) - h(a) \\\\[0.8em]\n\\quad\\text{Another expression: }\\quad \\int_a^b f(x)\\,dg(x) =  [f(x)g(x)]_a^b - \\int_a^b g(x)\\,df(x) \\\\[0.8em]\n\\left(\\int_a^b f(x)g(x)\\,dx\\right)^2 \\leq \\left(\\int_a^b f(x)^2\\,dx\\right)\\left(\\int_a^b g(x)^2\\,dx\\right)  \\quad(\\text{Cauchy–Schwarz inequality})"
          },
          "metadata": {}
        }
      ]
    },
    {
      "cell_type": "code",
      "source": [
        "# 基本的な関数の微分公式・積分公式\n",
        "# 実数  a  に対して\n",
        "%%latex\n",
        "\\displaystyle\n",
        "\\left(x^a\\right)^\\prime =ax^{a-1}  \\quad\\Longleftrightarrow\\quad \\int x^a\\,dx = \\frac{x^{a+1}}{a+1} + C  \\quad \\left({a\\neq{-1}}\\right) \\\\[0.8em]\n",
        "\\left(e^x\\right)^\\prime =e^x  \\quad\\Longleftrightarrow\\quad \\int e^x\\,dx = e^x + C \\\\[0.8em]\n",
        "\\quad\\Longrightarrow\\quad \\left(a^x\\right)^\\prime =a^x \\log a  \\quad\\Longleftrightarrow\\quad \\int a^x\\,dx = \\frac{a^x}{\\log a} + C \\\\[0.8em]\n",
        "(\\log x)^\\prime =\\frac{1}{x}  \\quad\\Longleftrightarrow\\quad \\int \\frac{1}{x}dx = \\log \\left|{x}\\right| + C \\\\[0.8em]\n",
        "(\\log_a x)^\\prime =\\frac{1}{x\\log a}  \\\\[0.8em]\n",
        "(\\log \\left|f(x)\\right|)^\\prime =\\frac{f^\\prime (x)}{f(x)}  \\quad\\Longleftrightarrow\\quad \\int \\frac{f^\\prime (x)}{f(x)}dx = \\log \\left|{f(x)}\\right| + C \\\\[0.8em]\n",
        "\\int \\log xdx = x\\log x - x + C \\\\[0.8em]\n",
        "\\left(\\sin x\\right)^\\prime =\\cos x  \\quad\\Longleftrightarrow\\quad \\int \\cos xdx = \\sin x+ C \\\\[0.8em]\n",
        "\\left(\\cos x\\right)^\\prime =-\\sin x  \\quad\\Longleftrightarrow\\quad \\int \\sin xdx =- \\cos x+ C \\\\[0.8em]\n",
        "\\left(\\tan x\\right)^\\prime =\\frac{1}{\\cos^2 x}  \\\\[0.8em]\n",
        "\\int \\tan xdx =- \\log \\left|\\cos x\\right| + C \\\\[0.8em]\n",
        "\\left( x^x \\right)^\\prime =x^x \\left( 1+\\log x\\right)  \\\\[0.8em]"
      ],
      "metadata": {
        "id": "krkwY4EtJwNJ",
        "outputId": "5ed2c4c1-fd50-4daf-a186-40617089ec5f",
        "colab": {
          "base_uri": "https://localhost:8080/",
          "height": 617
        }
      },
      "execution_count": null,
      "outputs": [
        {
          "output_type": "display_data",
          "data": {
            "text/plain": [
              "<IPython.core.display.Latex object>"
            ],
            "text/latex": "\\displaystyle\n\\left(x^a\\right)^\\prime =ax^{a-1}  \\quad\\Longleftrightarrow\\quad \\int x^a\\,dx = \\frac{x^{a+1}}{a+1} + C  \\quad \\left({a\\neq{-1}}\\right) \\\\[0.8em]\n\\left(e^x\\right)^\\prime =e^x  \\quad\\Longleftrightarrow\\quad \\int e^x\\,dx = e^x + C \\\\[0.8em]\n\\quad\\Longrightarrow\\quad \\left(a^x\\right)^\\prime =a^x \\log a  \\quad\\Longleftrightarrow\\quad \\int a^x\\,dx = \\frac{a^x}{\\log a} + C \\\\[0.8em]\n(\\log x)^\\prime =\\frac{1}{x}  \\quad\\Longleftrightarrow\\quad \\int \\frac{1}{x}dx = \\log \\left|{x}\\right| + C \\\\[0.8em]\n(\\log_a x)^\\prime =\\frac{1}{x\\log a}  \\\\[0.8em]\n(\\log \\left|f(x)\\right|)^\\prime =\\frac{f^\\prime (x)}{f(x)}  \\quad\\Longleftrightarrow\\quad \\int \\frac{f^\\prime (x)}{f(x)}dx = \\log \\left|{f(x)}\\right| + C \\\\[0.8em]\n\\int \\log xdx = x\\log x - x + C \\\\[0.8em]\n\\left(\\sin x\\right)^\\prime =\\cos x  \\quad\\Longleftrightarrow\\quad \\int \\cos xdx = \\sin x+ C \\\\[0.8em]\n\\left(\\cos x\\right)^\\prime =-\\sin x  \\quad\\Longleftrightarrow\\quad \\int \\sin xdx =- \\cos x+ C \\\\[0.8em]\n\\left(\\tan x\\right)^\\prime =\\frac{1}{\\cos^2 x}  \\\\[0.8em]\n\\int \\tan xdx =- \\log \\left|\\cos x\\right| + C \\\\[0.8em]\n\\left( x^x \\right)^\\prime =x^x \\left( 1+\\log x\\right)  \\\\[0.8em]"
          },
          "metadata": {}
        }
      ]
    },
    {
      "cell_type": "code",
      "source": [
        "# 確率・統計\n",
        "# 順列・組合せ\n",
        "# * 異なる n 個から  r  個を取る順列：\n",
        "# {}_n{\\rm P}_r = n(n-1)(n-2)\\cdots(n-r+1) = \\frac{n!}{(n-r)!}  \n",
        "# * 異なる n 個から  r  個を取るとき、重複を許す場合の順列（重複順列）：\n",
        "# \\displaystyle n^r = {}_n{\\rm \\Pi}_r  \n",
        "# * n 個のもののうち、 p^1  個は同じもの、 p^2  個は別の同じもの、 p^3  個はさらに別の同じもの、……であるとき、これら n 個のもの全部で作られる順列\n",
        "#  \\frac{n!}{p_1! p_2! p_3! \\cdots p_k!}  ただし、 n = p^1   +  p^2   +  p^3  + … + p^k  \n",
        "# * 異なる$n$個のものを円形に並べる順列（円順列）\n",
        "# \\displaystyle (n-1)!  \n",
        "# *異なる$n$個のものを（時計・反時計回り関係無く）円形に並べる順列（数珠順列） \n",
        "# \\displaystyle \\frac{(n-1)!}{2}  \n",
        "%%latex\n",
        "\\displaystyle\n",
        "{}_n{\\rm P}_r = n(n-1)(n-2)\\cdots(n-r+1) = \\frac{n!}{(n-r)!}  \\\\[0.8em]\n",
        "    n^r = {}_n{\\rm \\Pi}_r  \\quad(\\text{permutation with duplicates})\\quad\\\\[0.8em]\n",
        "\\frac{n!}{p_1! p_2! p_3! \\cdots p_k!} \\quad\\text{where}\\quad n = p^1   +  p^2   +  p^3  + … + p^k  \\\\[0.8em]\n",
        "(n-1)! \\quad(\\text{circular permutation})\\quad \\\\[0.8em]\n",
        "\\frac{(n-1)!}{2}  \\quad(\\text{necklace permutation})\\quad \\\\[0.8em]\n",
        "% * 異なる$n$個から $r$ 個を取る組合せ：\\\\[0.8em]\n",
        "% {}_n{\\rm C}_{r} = {n\\times (n-1)\\times\\cdots\\times(n-r+1) \\over r\\times(r-1)\\times\\cdots\\times 1} = \\frac{n!}{r!(n-r)!}  \\\\[0.8em]"
      ],
      "metadata": {
        "id": "xT0xXojGoVgy",
        "colab": {
          "base_uri": "https://localhost:8080/",
          "height": 242
        },
        "outputId": "40f326c4-7b5f-4e38-86ff-93f9cda6ac5e"
      },
      "execution_count": null,
      "outputs": [
        {
          "output_type": "display_data",
          "data": {
            "text/plain": [
              "<IPython.core.display.Latex object>"
            ],
            "text/latex": "\\displaystyle\n{}_n{\\rm P}_r = n(n-1)(n-2)\\cdots(n-r+1) = \\frac{n!}{(n-r)!}  \\\\[0.8em]\n    n^r = {}_n{\\rm \\Pi}_r  \\quad(\\text{permutation with duplicates})\\quad\\\\[0.8em]\n\\frac{n!}{p_1! p_2! p_3! \\cdots p_k!} \\quad\\text{where}\\quad n = p^1   +  p^2   +  p^3  + … + p^k  \\\\[0.8em]\n(n-1)! \\quad(\\text{circular permutation})\\quad \\\\[0.8em]\n\\frac{(n-1)!}{2}  \\quad(\\text{necklace permutation})\\quad \\\\[0.8em]\n% * 異なる$n$個から $r$ 個を取る組合せ：\\\\[0.8em]\n% {}_n{\\rm C}_{r} = {n\\times (n-1)\\times\\cdots\\times(n-r+1) \\over r\\times(r-1)\\times\\cdots\\times 1} = \\frac{n!}{r!(n-r)!}  \\\\[0.8em]"
          },
          "metadata": {}
        }
      ]
    },
    {
      "cell_type": "code",
      "source": [
        "# 組合せ combination\n",
        "# 異なる n 個から  r  個を取る組合せ：\n",
        "# {}_n{\\rm C}_{r} = {n\\times (n-1)\\times\\cdots\\times(n-r+1) \\over r\\times(r-1)\\times\\cdots\\times 1} = \\frac{n!}{r!(n-r)!}  \n",
        "# 異なる n 個から  r  個を取るとき、重複を許す場合の組合せ（重複組合せ）：\n",
        "# \\displaystyle {}_{n+r-1}{\\rm C}_{r} = {}_n{\\rm \\Eta}_r  \n",
        "\n",
        "# _nC_r = \\frac{_nP_r}{r!} \n",
        "# _nC_r = _nC_{n-r} \n",
        "# _nC_r = _{n-1}C_r + _{n-1}C_{r-1} \n",
        "# r_nC_r = n_{n-1}C_{r-1} \n",
        "%%latex\n",
        "\\displaystyle\n",
        "{}_n{\\rm C}_{r} = {n\\times (n-1)\\times\\cdots\\times(n-r+1) \\over r\\times(r-1)\\times\\cdots\\times 1} = \\frac{n!}{r!(n-r)!}  \\\\[0.8em]\n",
        "\\displaystyle {}_{n+r-1}{\\rm C}_{r} = {}_n{\\rm \\Eta}_r  \\quad(\\text{combination with cuplicates})\\quad \\\\[0.8em]\n",
        "{}_nC_r = \\frac{_nP_r}{r!} \\\\[0.8em]\n",
        "{}_nC_r = _nC_{n-r} \\\\[0.8em]\n",
        "{}_nC_r = _{n-1}C_r + _{n-1}C_{r-1} \\\\[0.8em]\n",
        "{}r_nC_r = n_{n-1}C_{r-1} \\\\[0.8em]"
      ],
      "metadata": {
        "colab": {
          "base_uri": "https://localhost:8080/",
          "height": 259
        },
        "outputId": "3f2566ba-abb3-4803-862f-971c805e9ced",
        "id": "cOVKyWqSbN15"
      },
      "execution_count": null,
      "outputs": [
        {
          "output_type": "display_data",
          "data": {
            "text/plain": [
              "<IPython.core.display.Latex object>"
            ],
            "text/latex": "\\displaystyle\n{}_n{\\rm C}_{r} = {n\\times (n-1)\\times\\cdots\\times(n-r+1) \\over r\\times(r-1)\\times\\cdots\\times 1} = \\frac{n!}{r!(n-r)!}  \\\\[0.8em]\n\\displaystyle {}_{n+r-1}{\\rm C}_{r} = {}_n{\\rm \\Eta}_r  \\quad(\\text{combination with cuplicates})\\quad \\\\[0.8em]\n{}_nC_r = \\frac{_nP_r}{r!} \\\\[0.8em]\n{}_nC_r = _nC_{n-r} \\\\[0.8em]\n{}_nC_r = _{n-1}C_r + _{n-1}C_{r-1} \\\\[0.8em]\n{}r_nC_r = n_{n-1}C_{r-1} \\\\[0.8em]"
          },
          "metadata": {}
        }
      ]
    },
    {
      "cell_type": "code",
      "source": [
        "# 確率\n",
        "# * Aが起こらない確率（Aの余事象が起きる確率） P( \\bar A ) \n",
        "# P(\\bar{A}) = 1 - P(A)  \n",
        "# * 事象A,Bが同時に起きる（すなわち積事象 A \\cap B の）確率\n",
        "# \\displaystyle P(A \\cap B)=P(A\\mid B) P(B)  \n",
        "# * 特に事象A,Bが独立、すなわち P(A\\mid B)=P(A) のとき\n",
        "# \\displaystyle P(A \\cap B)=P(A)P(B) \n",
        "# * 事象AまたはBが起きる（すなわち和事象 A \\cup Bの）確率\n",
        "# P(A \\cup B) = P(A) + P(B) - P(A \\cap B) \n",
        "# * 特に事象A, Bが排反、すなわち P(A \\cap B)=0のとき\n",
        "# P(A \\cup B) = P(A) + P(B) \n",
        "# * 確率 p で事象Aが起こる試行を独立に n 回行うとき、事象Aがちょうど  r 回起こる確率(反復試行の確率)\n",
        "# \\displaystyle {}_n{\\rm C}_{r}p^r(1-p)^{n-r} \n",
        "%%latex\n",
        "\\displaystyle\n",
        "P( \\bar A ) \\\\[0.8em]\n",
        "P(\\bar{A}) = 1 - P(A)  \\\\[0.8em]\n",
        "P(A \\cap B)=P(A\\mid B) P(B)  \\\\[0.8em]\n",
        "P(A\\mid B)=P(A) \\quad(\\text{independent}) \\\\[0.8em]\n",
        "%  P(A \\cap B)=P(A)P(B) \\\\[0.8em]\n",
        "P(A \\cup B) = P(A) + P(B) - P(A \\cap B) \\\\[0.8em]\n",
        "P(A \\cup B) = P(A) + P(B) \\quad\\text{where}\\quad P(A \\cap B)=0 \\\\[0.8em]\n",
        "% * 確率 p で事象Aが起こる試行を独立に n 回行うとき、事象Aがちょうど  r 回起こる確率(反復試行の確率)\\\\[0.8em]\n",
        "{}_n{\\rm C}_{r}p^r(1-p)^{n-r} \\quad\\text{probability of repeated trials} \\\\[0.8em]"
      ],
      "metadata": {
        "colab": {
          "base_uri": "https://localhost:8080/",
          "height": 265
        },
        "id": "bSyC2VRhEvMT",
        "outputId": "541505bb-f5ef-480e-836a-fe49647d36ff"
      },
      "execution_count": null,
      "outputs": [
        {
          "output_type": "display_data",
          "data": {
            "text/plain": [
              "<IPython.core.display.Latex object>"
            ],
            "text/latex": "\\displaystyle\nP( \\bar A ) \\\\[0.8em]\nP(\\bar{A}) = 1 - P(A)  \\\\[0.8em]\nP(A \\cap B)=P(A\\mid B) P(B)  \\\\[0.8em]\nP(A\\mid B)=P(A) \\quad(\\text{independent}) \\\\[0.8em]\n%  P(A \\cap B)=P(A)P(B) \\\\[0.8em]\nP(A \\cup B) = P(A) + P(B) - P(A \\cap B) \\\\[0.8em]\nP(A \\cup B) = P(A) + P(B) \\quad\\text{where}\\quad P(A \\cap B)=0 \\\\[0.8em]\n% * 確率 p で事象Aが起こる試行を独立に n 回行うとき、事象Aがちょうど  r 回起こる確率(反復試行の確率)\\\\[0.8em]\n{}_n{\\rm C}_{r}p^r(1-p)^{n-r} \\quad\\text{probability of repeated trials} \\\\[0.8em]"
          },
          "metadata": {}
        }
      ]
    },
    {
      "cell_type": "markdown",
      "source": [
        "# いまここ $\\mathrel{\\rlap{\\hskip .5em/}}\\Longrightarrow$"
      ],
      "metadata": {
        "id": "idehjX6MygPk"
      }
    },
    {
      "cell_type": "code",
      "source": [
        "# 平均値・分散・標準偏差\n",
        "# 以下、この節では度数分布表の階級値を x_1 , x_2 , \\cdots , x_nとし、\n",
        "# それに対応する度数を f_1 , f_2 , \\cdots , f_n、総度数を  N  とする。\n",
        "# 度数分布表からの平均値 \\overline{x} \n",
        "# \\overline{x} =\\frac{x_1 f_1 + x_2 f_2 + \\cdots + x_n f_n}{N}\n",
        "# また、このときの分散 s^2と標準偏差 s \n",
        "# s^2 =\\frac{( x_1 - \\overline{x} )^2 f_1 + ( x_2 - \\overline{x} )^2 f_2 + \\cdots + ( x_n - \\overline{x} )^2 f_n}{N}\n",
        "# s = \\sqrt{\\frac{( x_1 - \\overline{x} )^2 f_1 + ( x_2 - \\overline{x} )^2 f_2 + \\cdots + ( x_n - \\overline{x} )^2 f_n} N}\n",
        "\n",
        "# *ある階級値を仮平均  a  とし、階級の幅を  c  、仮平均からの偏差を  c  \n",
        "# で割った数値を u_kとする　(すなわち u_k= \\frac{x_k - a}{c}  (k=1,2,\\cdots,n))ときの平均値 \\overline{x} \n",
        "# \\overline{x}=a +c\\overline{u}　ただし、 \\overline{u}=\\frac{u_1 f_1 + u_2 f_2 + \\cdots + u_n f_n}{N}\n",
        "# * また、このときの標準偏差 s \n",
        "# s = cs_u　ただし、 s_u^2 = \\frac{( u_1 - \\overline{u} )^2 f_1 + ( u_2 - \\overline{u} )^2 f_2 + \\cdots + ( u_n - \\overline{u} )^2 f_n}{N} \n",
        "\n",
        "# * V(X) = E(X^2)-E(X)^2\n",
        "# *確率変数 Xが二項分布 B(n\\ ,\\ p)に従い、 q=1-pとする場合の平均値 E(X), 分散 V(X), 標準偏差 D(X) \n",
        "# \\ E(X) = np\\ \n",
        "# \\ V(X) = npq\\ \n",
        "# \\ D(X) = \\sqrt{npq}\n",
        "%%latex\n",
        "\\displaystyle\n",
        "\\text{classes} = x_1 , x_2 , \\cdots , x_n \\\\[0.8em]\n",
        "\\text{class frequences} = f_1 , f_2 , \\cdots , f_n \\quad\\text{total}=N \\\\[0.8em]\n",
        "\\text{average} \\quad \\overline{x} =\\frac{x_1 f_1 + x_2 f_2 + \\cdots + x_n f_n}{N} \\\\[0.8em]\n",
        "\\text{variance} \\quad s^2, \\quad  \\quad \\text{standard deviation}\\quad s \\\\[0.8em]\n",
        "s^2 =\\frac{( x_1 - \\overline{x} )^2 f_1 + ( x_2 - \\overline{x} )^2 f_2 + \\cdots + ( x_n - \\overline{x} )^2 f_n}{N} \\\\[0.8em]\n",
        "s = \\sqrt{\\frac{( x_1 - \\overline{x} )^2 f_1 + ( x_2 - \\overline{x} )^2 f_2 + \\cdots + ( x_n - \\overline{x} )^2 f_n} N}\\\\[0.8em]\n",
        "\n",
        "\\overline{x}=a +c\\overline{u}　ただし、 \\overline{u}=\\frac{u_1 f_1 + u_2 f_2 + \\cdots + u_n f_n}{N}\n",
        "\n"
      ],
      "metadata": {
        "id": "n1pfX1Hlfic-",
        "outputId": "0d0ac205-964b-47a3-c486-91cd4a3444fb",
        "colab": {
          "base_uri": "https://localhost:8080/",
          "height": 311
        }
      },
      "execution_count": 1,
      "outputs": [
        {
          "output_type": "display_data",
          "data": {
            "text/plain": [
              "<IPython.core.display.Latex object>"
            ],
            "text/latex": "\\displaystyle\n\\text{classes} = x_1 , x_2 , \\cdots , x_n \\\\[0.8em]\n\\text{class frequences} = f_1 , f_2 , \\cdots , f_n \\quad\\text{total}=N \\\\[0.8em]\n\\text{average} \\quad \\overline{x} =\\frac{x_1 f_1 + x_2 f_2 + \\cdots + x_n f_n}{N} \\\\[0.8em]\n\\text{variance} \\quad s^2, \\quad  \\quad \\text{standard deviation}\\quad s \\\\[0.8em]\ns^2 =\\frac{( x_1 - \\overline{x} )^2 f_1 + ( x_2 - \\overline{x} )^2 f_2 + \\cdots + ( x_n - \\overline{x} )^2 f_n}{N} \\\\[0.8em]\ns = \\sqrt{\\frac{( x_1 - \\overline{x} )^2 f_1 + ( x_2 - \\overline{x} )^2 f_2 + \\cdots + ( x_n - \\overline{x} )^2 f_n} N}\\\\[0.8em]\n\n\\overline{x}=a +c\\overline{u}　ただし、 \\overline{u}=\\frac{u_1 f_1 + u_2 f_2 + \\cdots + u_n f_n}{N}\n"
          },
          "metadata": {}
        }
      ]
    },
    {
      "cell_type": "markdown",
      "source": [
        "# EOF"
      ],
      "metadata": {
        "id": "KPya0L2Vuug9"
      }
    }
  ]
}