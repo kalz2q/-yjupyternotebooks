{
  "nbformat": 4,
  "nbformat_minor": 0,
  "metadata": {
    "colab": {
      "name": "chartmathb01vector.ipynb",
      "provenance": [],
      "authorship_tag": "ABX9TyP+yTPPSW8tF1d3F0iqOb8V",
      "include_colab_link": true
    },
    "kernelspec": {
      "name": "python3",
      "display_name": "Python 3"
    }
  },
  "cells": [
    {
      "cell_type": "markdown",
      "metadata": {
        "id": "view-in-github",
        "colab_type": "text"
      },
      "source": [
        "<a href=\"https://colab.research.google.com/github/kalz2q/mycolabnotebooks/blob/master/chartmathb01vector.ipynb\" target=\"_parent\"><img src=\"https://colab.research.google.com/assets/colab-badge.svg\" alt=\"Open In Colab\"/></a>"
      ]
    },
    {
      "cell_type": "code",
      "metadata": {
        "id": "Df-P42nLxlqU"
      },
      "source": [
        "# メモ\r\n",
        "b01平面上のベクトル => chartmathb01vector.ipnyb"
      ],
      "execution_count": null,
      "outputs": []
    }
  ]
}