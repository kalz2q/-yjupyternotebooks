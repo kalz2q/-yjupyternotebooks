{
  "nbformat": 4,
  "nbformat_minor": 0,
  "metadata": {
    "colab": {
      "name": "chartmathb01vector.ipynb",
      "provenance": [],
      "toc_visible": true,
      "authorship_tag": "ABX9TyORbin9l4quka77fRCv8Vv6",
      "include_colab_link": true
    },
    "kernelspec": {
      "name": "python3",
      "display_name": "Python 3"
    }
  },
  "cells": [
    {
      "cell_type": "markdown",
      "metadata": {
        "id": "view-in-github",
        "colab_type": "text"
      },
      "source": [
        "<a href=\"https://colab.research.google.com/github/kalz2q/mycolabnotebooks/blob/master/chartmathb01vector.ipynb\" target=\"_parent\"><img src=\"https://colab.research.google.com/assets/colab-badge.svg\" alt=\"Open In Colab\"/></a>"
      ]
    },
    {
      "cell_type": "markdown",
      "metadata": {
        "id": "Df-P42nLxlqU"
      },
      "source": [
        "# メモ\r\n",
        "\r\n",
        "チャート式数学B\r\n",
        "ベクトル\r\n",
        "\r\n",
        "のところを読む。\r\n"
      ]
    },
    {
      "cell_type": "markdown",
      "metadata": {
        "id": "MGwz53xnymZq"
      },
      "source": [
        "**ベクトルの表示** \r\n",
        "\r\n",
        "有向線分 $\\mathrm{AB}$ を $\\overrightarrow{\\mathrm{AB}}$ で表す。 \r\n",
        "\r\n",
        "ベクトルの大きさを  $|\\overrightarrow{\\mathrm{AB}}|$ と書く。 \r\n",
        "\r\n",
        "$\\vec a , \\mathbf{a} , | \\vec a |$ と書くこともある。 \r\n",
        "   \r\n",
        "大きさが 1 であるベクトルを単位ベクトルという。 "
      ]
    },
    {
      "cell_type": "markdown",
      "metadata": {
        "id": "m05YOR5xdkpL"
      },
      "source": [
        "**同値**  \r\n",
        "\r\n",
        "$\\vec a , \\vec b$ が等しいというのは、向きが同じで大きさが等しいことでこれを $\\vec a = \\vec b$ で表す。"
      ]
    },
    {
      "cell_type": "markdown",
      "metadata": {
        "id": "qSx99Fz3-AMt"
      },
      "source": [
        "$ \\begin{array}{lll}\r\n",
        "加法 & \\overrightarrow{\\mathrm{OA}}+\\overrightarrow{\\mathrm{AB}}&=\\overrightarrow{\\mathrm{OB}} \\\\\r\n",
        "減法 & \\overrightarrow{\\mathrm{OA}}-\\overrightarrow{\\mathrm{OB}}&=\\overrightarrow{\\mathrm{BA}} \\\\\r\n",
        "実数倍 & k \\overrightarrow{a} \\\\\r\n",
        "交換法則 & \\overrightarrow{a}+\\overrightarrow{b}&=\\overrightarrow{b}+\\overrightarrow{a} \\\\\r\n",
        "結合法則 & (\\overrightarrow{a}+\\overrightarrow{b})+\\overrightarrow{c}&=\\overrightarrow{a}+(\\overrightarrow{b}+\\overrightarrow{c})\r\n",
        "\\end{array} \r\n",
        "$\r\n"
      ]
    },
    {
      "cell_type": "markdown",
      "metadata": {
        "id": "iTLGieE3e66R"
      },
      "source": [
        "**平行**  \r\n",
        "\r\n",
        "平行は\\, $\\overrightarrow{a} \\parallel \\overrightarrow{b}$ と書く。  \r\n",
        "日本の平行記号は $/\\!\\!/$というように斜めに書くが、latex では縦の 2本線である。  \r\n"
      ]
    },
    {
      "cell_type": "code",
      "metadata": {
        "id": "u7F9ZWwJGEiY",
        "colab": {
          "base_uri": "https://localhost:8080/",
          "height": 37
        },
        "outputId": "a1493463-ca97-4ea6-f734-f993e9a65836"
      },
      "source": [
        "%%latex\r\n",
        "$/\\!\\!/$"
      ],
      "execution_count": null,
      "outputs": [
        {
          "output_type": "display_data",
          "data": {
            "text/latex": "$/\\!\\!/$",
            "text/plain": [
              "<IPython.core.display.Latex object>"
            ]
          },
          "metadata": {
            "tags": []
          }
        }
      ]
    },
    {
      "cell_type": "markdown",
      "metadata": {
        "id": "_TQV7xXdGCXy"
      },
      "source": [
        "\r\n",
        "**ベクトルの平行条件**  \r\n",
        "\r\n",
        "$\\overrightarrow{a} \\neq 0, \\overrightarrow{b} \\neq 0$ のとき\r\n",
        "$\\overrightarrow{a} \\parallel \\overrightarrow{b} \\Longleftrightarrow  \\overrightarrow{b} = k \\overrightarrow{b}$ となる実数 $k$ がある。  \r\n",
        "\r\n",
        "**分解**   \r\n",
        "\r\n",
        "$\\overrightarrow{a} \\neq 0, \\overrightarrow{b} \\neq 0 \\, \\overrightarrow{a},\r\n",
        "\\neg (\\overrightarrow{a} \\parallel \\overrightarrow{b})$ のとき\r\n",
        "任意のベクトル $\\overrightarrow{p}$ は、次の形にただ1通りに表される。  \r\n",
        "\r\n",
        "$\\overrightarrow{p} = s \\overrightarrow{a} + t \\overrightarrow{b}$ \r\n",
        "\r\n",
        "ただし、$ s,t$ は実数。  \r\n",
        "\r\n",
        "このことから、次の性質が成り立つ。$k,l,m,n$ は実数とする。   \r\n",
        "\r\n",
        "$k\\overrightarrow{a} + l \\overrightarrow{b} = m \\overrightarrow{a} + n\\overrightarrow{b} \\Longleftrightarrow  k=m,\\, l=n$   \r\n",
        "\r\n",
        "特に  \r\n",
        "\r\n",
        "$k\\overrightarrow{a} + l \\overrightarrow{b} = \\overrightarrow{0} \\Longleftrightarrow  k=l=0 $"
      ]
    },
    {
      "cell_type": "markdown",
      "metadata": {
        "id": "FDBt4GHNGy--"
      },
      "source": [
        "# いまここ"
      ]
    },
    {
      "cell_type": "markdown",
      "metadata": {
        "id": "D8abM6nThq0Y"
      },
      "source": [
        "**ベクトルの成分、成分による演算**\r\n",
        "\r\n",
        "1. 基本ベクトル表示  \r\n",
        "座標平面の原点を O とし、ベクトル $\\overrightarrow{a}$ に対して $\\overrightarrow{a}  = \\overrightarrow{\\mathrm{OA}}$ となる点 $\\mathrm{A}$\r\n",
        " をとり、  \r\n",
        "$\\mathrm{A}$ の座標を $(a_1,a_2)$ とするとき、$\\overrightarrow{a}$ は次のように表される。  \r\n",
        "$\\overrightarrow{a}=a_1 \\overrightarrow{e_1} + a_2 \\overrightarrow{e_2}$  \r\n",
        "$\\overrightarrow{e_1}=(1,0),\\overrightarrow{e_2}=(0,1)$ を基本ベクトルという。\r\n",
        "\r\n",
        "2. 相等  \r\n",
        "$(a_1,a_2)=(b_1,b_2) \\Longleftrightarrow a_1=b_1,a_2=b_2$  \r\n",
        "特に  \r\n",
        "$(a_1,a_2)=\\overrightarrow{0} \\Longleftrightarrow a_1=0, a_2=0$\r\n"
      ]
    },
    {
      "cell_type": "markdown",
      "metadata": {
        "id": "aBgyl4SEj7Fb"
      },
      "source": [
        "3. 大きさ   \r\n",
        "$\\overrightarrow{a}=(a_1,a_2)$ のとき、$|\\overrightarrow{a}|=\\sqrt{a_1^2+a_2^2}$\r\n",
        "\r\n",
        "4. 演算  \r\n",
        "$k, l$ を実数とするとき  \r\n",
        "ⓐ $(a_1,a_2)=(b_1,b_2)=(a_1+b_1, a_2+b_2)$  \r\n",
        "ⓑ $k(a_1, a_2)=(ka_1, ka_2)$    \r\n",
        "一般に $k(a_1, a_2) + l(b_1,b_2) = (k a_1+l b_1, k a_2+l b_2)$  \r\n",
        "特に $k=1, l=-1$ のとき $(a_1, a_2) - (b_1,b_2) = (a_1-b_1, a_2-b_2)$\r\n"
      ]
    },
    {
      "cell_type": "markdown",
      "metadata": {
        "id": "s4WfxCfqk7PH"
      },
      "source": [
        "# 点の座標とベクトルの成分"
      ]
    },
    {
      "cell_type": "markdown",
      "metadata": {
        "id": "jcC6M8RXZzyb"
      },
      "source": [
        "**点の座標とベクトルの成分の関係**\r\n",
        "\r\n",
        "\r\n",
        "2点 $\\mathrm{A}(a_1,a_2), \\mathrm{B}(b_1,b_2)$ について、$\\overrightarrow{\\mathrm{AB}} = (b_1-a_1, b_2-a_2)$\r\n",
        "\r\n",
        "ベクトル $\\overrightarrow{\\mathrm{AB}}$ の大きさ $|\\overrightarrow{\\mathrm{AB}}|=\\sqrt{(b_1-a_1)^2 + (b_2-a_2)^2}$"
      ]
    },
    {
      "cell_type": "markdown",
      "metadata": {
        "id": "Ho-SSEgEmD3x"
      },
      "source": [
        "# ベクトルの内積"
      ]
    },
    {
      "cell_type": "markdown",
      "metadata": {
        "id": "DnACROlpaPwR"
      },
      "source": [
        "**ベクトルの内積**\r\n",
        "\r\n",
        "**ベクトルの内積の定義**  \r\n",
        "\r\n",
        "$\\overrightarrow{0}$ でない 2つのベクトル $ \\overrightarrow{a}, \\overrightarrow{b}$ のなす角を $ \\theta$ とする。  \r\n",
        "\r\n",
        "このとき、積 $ |\\overrightarrow{a}||\\overrightarrow{b}| \\cos \\theta$ を$ \\overrightarrow{a}$ と $ \\overrightarrow{b}$ の内積といい、\r\n",
        "$\\overrightarrow{a} \\cdot \\overrightarrow{b}$ で表す。  \r\n",
        "\r\n",
        "すなわち内積 $ \\overrightarrow{a} \\cdot \\overrightarrow{b}$ は  \r\n",
        "\r\n",
        "$\\overrightarrow{a} \\cdot \\overrightarrow{b} =|\\overrightarrow{a}||\\overrightarrow{b}| \\cos \\theta$   \r\n",
        "\r\n",
        "ただし $0^\\circ \\leq \\theta \\leq 180^\\circ$ で定義される実数である。  \r\n",
        "\r\n",
        "$\\overrightarrow{a}=\\overrightarrow{0}$ または$ \\overrightarrow{b}=\\overrightarrow{0}$ のときは $ \\overrightarrow{a} \\cdot \\overrightarrow{b} = 0 $ と定める。"
      ]
    },
    {
      "cell_type": "markdown",
      "metadata": {
        "id": "aAwSU-c3eciU"
      },
      "source": [
        "**ベクトルの内積の成分表示**\r\n",
        "\r\n",
        "**成分表示**\r\n",
        "\r\n",
        "$\\overrightarrow{a} = (a_1,a_2), \\overrightarrow{b} = (b_1,b_2)$ のとき\r\n",
        "\r\n",
        "$\\overrightarrow{a} \\cdot \\overrightarrow{b} = a_1 b_1 + a_2 b_2$"
      ]
    },
    {
      "cell_type": "markdown",
      "metadata": {
        "id": "EJOzYeWyeyAU"
      },
      "source": [
        "内積の性質\r\n",
        "\r\n",
        "$\\overrightarrow{a} \\cdot \\overrightarrow{a} = |\\overrightarrow{a}|^2$\r\n",
        "\r\n",
        "\r\n",
        "$\\overrightarrow{a} \\cdot \\overrightarrow{b} = \\overrightarrow{b} \\cdot \\overrightarrow{a}$\r\n",
        "\r\n",
        "$\\overrightarrow{a} \\cdot (\\overrightarrow{b} + \\overrightarrow{c}) \r\n",
        "= \\overrightarrow{a} \\cdot \\overrightarrow{b} \r\n",
        "+ \\overrightarrow{a} \\cdot \\overrightarrow{c} $\r\n",
        "\r\n",
        "$(\\overrightarrow{a} + \\overrightarrow{b}) \\cdot \\overrightarrow{c} \r\n",
        "= \\overrightarrow{a} \\cdot \\overrightarrow{c} + \\overrightarrow{b} \\cdot \\overrightarrow{c} $\r\n",
        "\r\n",
        "$(k \\overrightarrow{a}) \\cdot \\overrightarrow{b} \r\n",
        "= \\overrightarrow{a}(k \\overrightarrow{b}) \r\n",
        "= k(\\overrightarrow{a} \\cdot \\overrightarrow{b}) $\r\n",
        "\r\n",
        "$k \\overrightarrow{a} \\cdot \\overrightarrow{b}$ とも書く。 $k$ は実数。\r\n",
        "\r\n",
        "一般に、$p,q,r,s$ が実数のとき\r\n",
        "\r\n",
        "$(p\\overrightarrow{a} + q\\overrightarrow{b}) \\cdot (r\\overrightarrow{c} + s\\overrightarrow{d}) \r\n",
        "= pr\\overrightarrow{a} \\cdot \\overrightarrow{c} + ps\\overrightarrow{a} \\cdot \\overrightarrow{d} + qr\\overrightarrow{b} \\cdot \\overrightarrow{c} + qs\\overrightarrow{b} \\cdot \\overrightarrow{d}$\r\n",
        "\r\n",
        "**不等式**  \r\n",
        "$-|\\overrightarrow{a}||\\overrightarrow{b}| \\leq \\overrightarrow{a} \\cdot \\overrightarrow{b} \\leq |\\overrightarrow{a}||\\overrightarrow{b}|\r\n",
        "\\Longleftrightarrow |\\overrightarrow{a} \\cdot \\overrightarrow{b}| \\leq |\\overrightarrow{a}||\\overrightarrow{b}|$\r\n",
        "\r\n",
        "\r\n"
      ]
    },
    {
      "cell_type": "markdown",
      "metadata": {
        "id": "ofv_jJkPgFun"
      },
      "source": [
        "実験\r\n",
        "\r\n",
        "小文字のベクトルを overrightarrow でなく、mathbf で書くという話があるので、colab 上でどっちが見やすいか実験 => そのとき使っているテキスト通りにする。\r\n",
        "\r\n",
        "$(p\\overrightarrow{a} + q\\overrightarrow{b}) \\cdot (r\\overrightarrow{c} + s\\overrightarrow{d}) \r\n",
        "= pr\\overrightarrow{a} \\cdot \\overrightarrow{c} + ps\\overrightarrow{a} \\cdot \\overrightarrow{d} + qr\\overrightarrow{b} \\cdot \\overrightarrow{c} + qs\\overrightarrow{b} \\cdot \\overrightarrow{d}$\r\n",
        "\r\n",
        "$(p\\mathbf{a} + q\\mathbf{b}) \\cdot (r\\mathbf{c} + s\\mathbf{d}) \r\n",
        "= pr\\mathbf{a} \\cdot \\mathbf{c} + ps\\mathbf{a} \\cdot \\mathbf{d} + qr\\mathbf{b} \\cdot \\mathbf{c} + qs\\mathbf{b} \\cdot \\mathbf{d}$"
      ]
    },
    {
      "cell_type": "markdown",
      "metadata": {
        "id": "b5LT5WOZq1Ql"
      },
      "source": [
        "**ベクトルのなす角**\r\n",
        "\r\n",
        "\r\n",
        "ベクトルのなす角 $\\theta \\quad$\r\n",
        "$\\displaystyle \\cos \\theta = \\frac {\\overrightarrow{a} \\cdot \\overrightarrow{b}}{|\\overrightarrow{a}||\\overrightarrow{b}|}\r\n",
        "= \\frac{a_1 b_1 + a_2 b_2}{\\sqrt{a_1^2+a_2^2}\\sqrt{b_1^2+b_2^2}}$\r\n",
        "\r\n",
        "垂直 $\\quad $\r\n",
        "$\\overrightarrow{a} \\perp \\overrightarrow{b}  \\Longleftrightarrow \\overrightarrow{a} \\cdot \\overrightarrow{b} = 0\r\n",
        " \\Longleftrightarrow  a_1 b_1 + a_2 b_2 = 0 $\r\n",
        "\r\n",
        "平行 $\\quad $\r\n",
        "$\\overrightarrow{a} \\parallel \\overrightarrow{b}  \\Longleftrightarrow \r\n",
        "\\overrightarrow{a} \\cdot \\overrightarrow{b} = \\pm |\\overrightarrow{a}||\\overrightarrow{b}|\r\n",
        " \\Longleftrightarrow  a_1 b_2 - a_2 b_1 = 0 $"
      ]
    },
    {
      "cell_type": "code",
      "metadata": {
        "colab": {
          "base_uri": "https://localhost:8080/",
          "height": 125
        },
        "id": "ESPETH4nYIc-",
        "outputId": "b0e23ac8-3e29-430b-8724-8bfe40135aa4"
      },
      "source": [
        "%%latex\r\n",
        "\\displaystyle\r\n",
        "ベクトルのなす角~\\theta \\quad\\cos \\theta = \\frac{\\overrightarrow{a} \\cdot \\overrightarrow{b}}{|\\overrightarrow{a}||\\overrightarrow{b}|}\r\n",
        "= \\frac{a_1 b_1 + a_2 b_2}{\\sqrt{a_1^2+a_2^2}\\sqrt{b_1^2+b_2^2}}\\\\\r\n",
        "\\begin{array}{lll}\r\n",
        "垂直 \\quad \r\n",
        "\\overrightarrow{a} \\perp \\overrightarrow{b} & \\Longleftrightarrow \\overrightarrow{a} \\cdot \\overrightarrow{b} = 0\r\n",
        "& \\Longleftrightarrow  a_1 b_1 + a_2 b_2 = 0 \\\\\r\n",
        "平行 \\quad \r\n",
        "\\overrightarrow{a} \\parallel \\overrightarrow{b} & \\Longleftrightarrow \r\n",
        "\\overrightarrow{a} \\cdot \\overrightarrow{b} = \\pm |\\overrightarrow{a}||\\overrightarrow{b}|\r\n",
        "& \\Longleftrightarrow  a_1 b_2 - a_2 b_1 = 0 \r\n",
        "\\end{array}"
      ],
      "execution_count": null,
      "outputs": [
        {
          "output_type": "display_data",
          "data": {
            "text/latex": "\\displaystyle\nベクトルのなす角~\\theta \\quad\\cos \\theta = \\frac{\\overrightarrow{a} \\cdot \\overrightarrow{b}}{|\\overrightarrow{a}||\\overrightarrow{b}|}\n= \\frac{a_1 b_1 + a_2 b_2}{\\sqrt{a_1^2+a_2^2}\\sqrt{b_1^2+b_2^2}}\\\\\n\\begin{array}{lll}\n垂直 \\quad \n\\overrightarrow{a} \\perp \\overrightarrow{b} & \\Longleftrightarrow \\overrightarrow{a} \\cdot \\overrightarrow{b} = 0\n& \\Longleftrightarrow  a_1 b_1 + a_2 b_2 = 0 \\\\\n平行 \\quad \n\\overrightarrow{a} \\parallel \\overrightarrow{b} & \\Longleftrightarrow \\overrightarrow{a} \\cdot \\overrightarrow{b} = \\pm |\\overrightarrow{a}||\\overrightarrow{b}|\n& \\Longleftrightarrow  a_1 b_2 - a_2 b_1 = 0 \n\\end{array}",
            "text/plain": [
              "<IPython.core.display.Latex object>"
            ]
          },
          "metadata": {
            "tags": []
          }
        }
      ]
    },
    {
      "cell_type": "markdown",
      "metadata": {
        "id": "qCaHQln9pcRY"
      },
      "source": [
        "# 位置ベクトル"
      ]
    },
    {
      "cell_type": "markdown",
      "metadata": {
        "id": "rzuAFwHpeSsL"
      },
      "source": [
        "**位置ベクトル**\r\n",
        "\r\n",
        "\r\n",
        "平面上で、1点 $\\mathrm{O}$ を固定して考えると、任意の点 $\\mathrm{P} $ の位置は、\r\n",
        "ベクトル $\\overrightarrow{p} = \\overrightarrow{\\mathrm{OP}} $ によって定まる。\r\n",
        "\r\n",
        "$\\overrightarrow{p} $ を点 $\\mathrm{O} $ に関する点 $\\mathrm{P} $ の位置ベクトルという。\r\n",
        "\r\n",
        "**表現** \r\n",
        "\r\n",
        "位置ベクトルが $\\overrightarrow{p} $ である点を $\\mathrm{P}(\\overrightarrow{p}) $ と表す。  \r\n",
        "$\\mathrm{A}(\\overrightarrow{a}),\\mathrm{B}(\\overrightarrow{b}) $とすると\r\n",
        "\r\n",
        "$\\overrightarrow{\\mathrm{AB}} = \\overrightarrow{b} - \\overrightarrow{a} \\quad\r\n",
        "\\longleftarrow \\overrightarrow{\\mathrm{AB}} = \\overrightarrow{\\mathrm{OB}} - \\overrightarrow{\\mathrm{OA}}$"
      ]
    },
    {
      "cell_type": "markdown",
      "metadata": {
        "id": "bHb8u0quzetz"
      },
      "source": [
        "# 線分の分点の位置ベクトル"
      ]
    },
    {
      "cell_type": "markdown",
      "metadata": {
        "id": "fPBUCmF1rRgg"
      },
      "source": [
        "**線分 $ \\mathrm{AB} $ について**\r\n",
        "\r\n",
        "**内分点**\r\n",
        "\r\n",
        "$m:n $ の比に内分する点 $ \\mathrm{P}(\\overrightarrow{p}) $ は \r\n",
        "$\\displaystyle \\overrightarrow{p}=\\frac{n\\overrightarrow{a}+m\\overrightarrow{b}}{m+n}$\r\n",
        "\r\n",
        "**外分点** \r\n",
        "\r\n",
        "$ m:n $ の比に外分する点 $ \\mathrm{Q}(\\overrightarrow{q}) $ は \r\n",
        "$\\displaystyle \\overrightarrow{p}=\\frac{-n\\overrightarrow{a}+m\\overrightarrow{b}}{m-n}$\r\n",
        "\r\n",
        "\r\n",
        "特に 中点 $ \\mathrm{M}(\\overrightarrow{m}) $ は \r\n",
        "$\\displaystyle \\overrightarrow{m}=\\frac{\\overrightarrow{a}+\\overrightarrow{b}}{2}$\r\n",
        "\r\n",
        "\r\n",
        "**三角形の重心** \r\n",
        "\r\n",
        "$\\displaystyle \\overrightarrow{g}=\\frac{\\overrightarrow{a}+\\overrightarrow{b}+\\overrightarrow{c}}{3}$\r\n",
        "\r\n",
        "**共点条件**\r\n",
        "\r\n",
        "$\\overrightarrow{\\mathrm{OP}} = \\overrightarrow{\\mathrm{OQ}} = \\overrightarrow{\\mathrm{OR}}\r\n",
        "\\Longleftrightarrow \\mathrm{P,Q,R} $ は一致する。\r\n",
        "\r\n",
        "**三角形の面積**\r\n",
        "\r\n",
        "$\\displaystyle S = \\frac12 \\sqrt{|\\overrightarrow{a}|^2 |\\overrightarrow{b}|^2 - (\\overrightarrow{a} \\cdot \\overrightarrow{b})^2} \\quad\r\n",
        "\\cdots \\cdots \\quad \\frac12 |\\overrightarrow{a}| |\\overrightarrow{b}| \\sin \\theta$"
      ]
    },
    {
      "cell_type": "code",
      "metadata": {
        "colab": {
          "base_uri": "https://localhost:8080/",
          "height": 309
        },
        "id": "W0zQToIBzjyq",
        "outputId": "b435dcbe-cd22-4754-e7c9-34347ca00057"
      },
      "source": [
        "# 線分の分点の位置ベクトル\r\n",
        "%%latex\r\n",
        "\\displaystyle\r\n",
        "線分~\\mathrm{AB}~について\\\\\r\n",
        "内分点 \\quad m:n~の比に内分する点~\\mathrm{P}(\\overrightarrow{p})~は \\quad \r\n",
        "\\overrightarrow{p}=\\frac{n\\overrightarrow{a}+m\\overrightarrow{b}}{m+n}\r\n",
        "\\\\\r\n",
        "外分点 \\quad m:n~の比に外分する点~\\mathrm{Q}(\\overrightarrow{q})~は \\quad \r\n",
        "\\overrightarrow{p}=\\frac{-n\\overrightarrow{a}+m\\overrightarrow{b}}{m-n}\r\n",
        "\\\\\r\n",
        "特に \\quad 中点~\\mathrm{M}(\\overrightarrow{m})~は \\quad\r\n",
        "\\overrightarrow{m}=\\frac{\\overrightarrow{a}+\\overrightarrow{b}}{2}\r\n",
        "\\\\\r\n",
        "三角形の重心 \\quad \r\n",
        "\\overrightarrow{g}=\\frac{\\overrightarrow{a}+\\overrightarrow{b}+\\overrightarrow{c}}{3}\\\\[1em]\r\n",
        "\r\n",
        "共点条件\\quad \\overrightarrow{\\mathrm{OP}} = \\overrightarrow{\\mathrm{OQ}} = \\overrightarrow{\\mathrm{OR}}\r\n",
        "\\quad \\Longleftrightarrow \\quad \\mathrm{P,Q,R}~は一致する。\\\\[0.8em]\r\n",
        "\r\n",
        "三角形の面積 \\quad\r\n",
        "S = \\frac12 \\sqrt{|\\overrightarrow{a}|^2 |\\overrightarrow{b}|^2 - (\\overrightarrow{a} \\cdot \\overrightarrow{b})^2} \\quad\r\n",
        "\\dots \\dots~\\frac12 |\\overrightarrow{a}| |\\overrightarrow{b}| \\sin \\theta\r\n"
      ],
      "execution_count": null,
      "outputs": [
        {
          "output_type": "display_data",
          "data": {
            "text/latex": "\\displaystyle\n線分~\\mathrm{AB}~について\\\\\n内分点 \\quad m:n~の比に内分する点~\\mathrm{P}(\\overrightarrow{p})~は \\quad \n\\overrightarrow{p}=\\frac{n\\overrightarrow{a}+m\\overrightarrow{b}}{m+n}\n\\\\\n外分点 \\quad m:n~の比に外分する点~\\mathrm{Q}(\\overrightarrow{q})~は \\quad \n\\overrightarrow{p}=\\frac{-n\\overrightarrow{a}+m\\overrightarrow{b}}{m-n}\n\\\\\n特に \\quad 中点~\\mathrm{M}(\\overrightarrow{m})~は \\quad\n\\overrightarrow{m}=\\frac{\\overrightarrow{a}+\\overrightarrow{b}}{2}\n\\\\\n三角形の重心 \\quad \n\\overrightarrow{g}=\\frac{\\overrightarrow{a}+\\overrightarrow{b}+\\overrightarrow{c}}{3}\\\\[1em]\n\n共点条件\\quad \\overrightarrow{\\mathrm{OP}} = \\overrightarrow{\\mathrm{OQ}} = \\overrightarrow{\\mathrm{OR}}\n\\quad \\Longleftrightarrow \\quad \\mathrm{P,Q,R}~は一致する。\\\\[0.8em]\n\n三角形の面積 \\quad\nS = \\frac12 \\sqrt{|\\overrightarrow{a}|^2 |\\overrightarrow{b}|^2 - (\\overrightarrow{a} \\cdot \\overrightarrow{b})^2} \\quad\n\\dots \\dots~\\frac12 |\\overrightarrow{a}| |\\overrightarrow{b}| \\sin \\theta",
            "text/plain": [
              "<IPython.core.display.Latex object>"
            ]
          },
          "metadata": {
            "tags": []
          }
        }
      ]
    },
    {
      "cell_type": "markdown",
      "metadata": {
        "id": "iKCoEGsqtp2q"
      },
      "source": [
        "**交点  $ \\mathrm{P}(\\overrightarrow{p}) $  の位置ベクトル**\r\n",
        "\r\n",
        "$\\overrightarrow{p} $ をベクトル $ \\overrightarrow{a}, \\overrightarrow{b} $ で $ 2 $ 通りに表し、次の性質を利用。\r\n",
        "\r\n",
        "1. $ \\overrightarrow{a} \\neq 0, \\overrightarrow{b} \\neq 0, \\neg (\\overrightarrow{a} \\parallel \\overrightarrow{b}) $  のとき\r\n",
        "$\\longleftarrow  \\overrightarrow{a}, \\overrightarrow{b} $ は $ 1 $ 次独立  \r\n",
        "$ s\\overrightarrow{a}+t\\overrightarrow{b}=s'\\overrightarrow{a}+t'\\overrightarrow{b} \r\n",
        "\\Longleftrightarrow s=s', t=t'$\r\n",
        "\r\n",
        "\r\n",
        "2. $ \\overrightarrow{\\mathrm{OP}} = s \\overrightarrow{\\mathrm{OA'}} + t\\overrightarrow{\\mathrm{OB'}}, \\mathrm{P} $ \r\n",
        "が $ \\mathrm{A'B'} $ 上にある条件は $ s+t=1 $"
      ]
    },
    {
      "cell_type": "markdown",
      "metadata": {
        "id": "tfPkWSiJ12tc"
      },
      "source": [
        "# ベクトル方程式"
      ]
    },
    {
      "cell_type": "markdown",
      "metadata": {
        "id": "6q5DJGCy2qLL"
      },
      "source": [
        "**ベクトル方程式**\r\n",
        "\r\n",
        "**直線のベクトル方程式**\r\n",
        "\r\n",
        "$ \\mathrm{P}(\\overrightarrow{p}) $ を直線上の点とする。 $ s, t $  は媒介変数。\r\n",
        "\r\n",
        "1. 点 $ \\mathrm{A}(\\overrightarrow{a}) $ を通り、$ \\overrightarrow{d}   [\\neq \\overrightarrow{0}] $  \r\n",
        "$ \\overrightarrow{p} = \\overrightarrow{a} + t \\overrightarrow{d}\r\n",
        "\\quad \\overrightarrow{d} $ は直線の方向ベクトル\r\n",
        "\r\n",
        "2. 異なる2点 $ \r\n",
        "\\mathrm{A}(\\overrightarrow{a}),\\mathrm{B}(\\overrightarrow{b}) $ を通る直線  \r\n",
        "$ \\overrightarrow{p} = (1-t)\\overrightarrow{a} + t \\overrightarrow{b}\r\n",
        "\\quad \\overrightarrow{p} = s \\overrightarrow{a} + t \\overrightarrow{b},   s+t=1 $\r\n",
        "\r\n",
        "3. 点 $ \\mathrm{A}(\\overrightarrow{a}) $ を通り、\r\n",
        "$ \\overrightarrow{n}  [\\neq \\overrightarrow{0}] $ \r\n",
        "に垂直な直線  \r\n",
        "$ \\overrightarrow{n} \\cdot (\\overrightarrow{p} - \\overrightarrow{a}) = 0\r\n",
        "\\quad \\overrightarrow{n} $ は直線の法線ベクトル"
      ]
    },
    {
      "cell_type": "markdown",
      "metadata": {
        "id": "ZwzrzDM-ENMZ"
      },
      "source": [
        "**円のベクトル方程式**\r\n",
        "\r\n",
        "$ \\mathrm{P}(\\overrightarrow{p}) $ を円上の点とする。\r\n",
        "\r\n",
        "1. 中心 $ \\mathrm{C}(\\overrightarrow{c}) $ 、半径 $ r $ の円 $ \\quad |\\overrightarrow{p}-\\overrightarrow{c}|=r $\r\n",
        "\r\n",
        "2. $ \\mathrm{A}(\\overrightarrow{a}),~\\mathrm{B}(\\overrightarrow{b})$ 、線分 $ \\mathrm{AB} $ を直径とする円  \r\n",
        "$ (\\overrightarrow{p}-\\overrightarrow{a}) \\cdot (\\overrightarrow{p} - \\overrightarrow{b}) = 0 $\r\n"
      ]
    },
    {
      "cell_type": "markdown",
      "metadata": {
        "id": "rSdi194xFlgl"
      },
      "source": [
        "**$ \\overrightarrow{\\mathrm{AP}} = s\\overrightarrow{\\mathrm{AB}} + t\\overrightarrow{\\mathrm{AC}} $ の点 $ \\mathrm{P} $ の存在範囲**\r\n",
        "\r\n",
        "$\\overrightarrow{\\mathrm{AB}} \\neq 0, \\overrightarrow{\\mathrm{AC}} \\neq 0, \\neg (\\overrightarrow{\\mathrm{AB}} \\parallel \\overrightarrow{\\mathrm{AC}})\r\n",
        " $ とする。\r\n",
        "\r\n",
        "1. $s+t=1 \\quad \\Longrightarrow \\quad $ 直線 $ \\mathrm{BC}$ \r\n",
        "\r\n",
        "2. $ s+t=1,s \\geq 0, t \\geq 0 \\quad \\Longrightarrow \\quad $ 線分 $ \\mathrm{BC}$\r\n",
        "\r\n",
        "3. $ s \\geq 0, t \\geq 0, s+t \\leq 1 \\quad \\Longrightarrow \\quad \\triangle \\mathrm{ABC} $ の周と内部"
      ]
    },
    {
      "cell_type": "markdown",
      "metadata": {
        "id": "8HToY9PbyZm6"
      },
      "source": [
        "**ベクトル方程式と座標**\r\n",
        "\r\n",
        "$\\mathrm{O}(0,0), \\overrightarrow{\\mathrm{OP}}=(x,y)$ とすると $ \\mathrm{P}(x,y) $ であり、\r\n",
        "成分と座標が結びつく。 例えば、\r\n",
        "\r\n",
        "1. $ \\overrightarrow{p}=\\overrightarrow{a}+t\\overrightarrow{d} $ から\r\n",
        "$ \\displaystyle \\left\\{ \r\n",
        "\\begin{array}{r}\r\n",
        " x=x_1+ct \\\\\r\n",
        " y=y_1+dt\r\n",
        "\\end{array}\r\n",
        "\\right.\r\n",
        "\\quad \\quad \\overrightarrow{d}=(c,d) $ は方向ベクトル\r\n",
        "\r\n",
        "2. $ \\overrightarrow{n} \\cdot (\\overrightarrow{p}-\\overrightarrow{a})=0 $  から $  a(x-x_1)+b(y-y_1)=0 \\quad \\overrightarrow{n}=(a,b) $  は法線ベクトル\r\n",
        "\r\n",
        "3. $ |\\overrightarrow{p}-\\overrightarrow{c}|^2=r^2 $ から $ \\quad (x-a)^2+(y-b)^2=r^2 $\r\n",
        "\r\n",
        "4. $ (\\overrightarrow{p}-\\overrightarrow{c}) \\cdot (\\overrightarrow{p_0}-\\overrightarrow{c})=r^2 $  [円の接線] から  $ (x-a)(x_1-a)+(y-b)(y_1-b)=r^2$"
      ]
    },
    {
      "cell_type": "markdown",
      "metadata": {
        "id": "psD9WuSiz2Vq"
      },
      "source": [
        "**ベクトルの応用 p.48**\r\n",
        "\r\n",
        "**共線条件**\r\n",
        "\r\n",
        "1. 3点 $ \\mathrm{A,B,C} $ が一直線上にある \r\n",
        "$\\quad \\Longleftrightarrow \\quad \\overrightarrow{\\mathrm{AC}} = k \\overrightarrow{\\mathrm{AB}} $ となる $ k $ がある。\r\n",
        "\r\n",
        "2. 点 $ \\mathrm{P} $ が直線 $ \\mathrm{AB} $ 上にある\r\n",
        "$ \\quad \\Longleftrightarrow \\quad \\overrightarrow{\\mathrm{OP}} = s \\overrightarrow{\\mathrm{OA}} + t\\overrightarrow{\\mathrm{OB}}, s+t=1 $ \r\n",
        "となる実数 $ s,t $ がある"
      ]
    },
    {
      "cell_type": "markdown",
      "metadata": {
        "id": "pvySS9eD0qXp"
      },
      "source": [
        "**図形とベクトルの内積 p.48**\r\n",
        "\r\n",
        "1. 線分の長さの 2乗  \r\n",
        "$ \\quad \\mathrm{AB}^2 = |\\overrightarrow{\\mathrm{AB}}|^2 = \\overrightarrow{\\mathrm{AB}} \\cdot \\overrightarrow{\\mathrm{AB}}$\r\n",
        " というように、線分の長さの 2乗は内積で表される\r\n",
        "\r\n",
        "2. 垂直条件  \r\n",
        "$ \\quad \\mathrm{AB} \\neq 0, \\mathrm{CD} \\neq 0 $ のとき $  \r\n",
        "\\mathrm{AB} \\perp \\mathrm{CD} \\Longleftrightarrow \\overrightarrow{\\mathrm{AB}} \\cdot \\overrightarrow{\\mathrm{CD}} = 0 $\r\n",
        "\r\n",
        "3. $ \\mathrm{AB}, \\mathrm{CD}  $ のなす角  \r\n",
        "$\\quad \\mathrm{AB}, \\mathrm{CD}  $ のなす角  $ \\theta (0^\\circ \\leq \\theta \\leq 180^\\circ)$ から $ \\displaystyle  \\cos \\theta = \\frac{\\overrightarrow{\\mathrm{AB}} \\cdot \\overrightarrow{\\mathrm{CD}}}{|AB||CD|} $  を利用。"
      ]
    },
    {
      "cell_type": "markdown",
      "metadata": {
        "id": "Q50NJB0b1_o7"
      },
      "source": [
        "**メラネウスの定理、チェバの定理 p.48**\r\n",
        "\r\n",
        "1. メネラウスの定理  \r\n",
        "$ \\triangle \\mathrm{ABC} $ の辺 $ \\mathrm{BC, CA, AB} $ またはその延長が、三角形の頂点を通らない 1つの直線とそれぞれ点\r\n",
        "$\\mathrm{P,Q,R} $ で交わるとき  \r\n",
        "$ \\quad \\quad \\quad \\quad \\displaystyle\r\n",
        "\\frac{\\mathrm{BP}}{\\mathrm{PC}} \\cdot \\frac{\\mathrm{CQ}}{\\mathrm{QA}} \\cdot \\frac{\\mathrm{AR}}{\\mathrm{RB}} = 1 $\r\n",
        "\r\n",
        "2. チェバの定理  \r\n",
        "$\\triangle \\mathrm{ABC} $ の 3頂点 $ \\mathrm{A,B,C} $ \r\n",
        "と三角形の辺上にもその延長上にもない点 $O $とを結ぶ直線が、\r\n",
        "対辺 $\\mathrm{BC, CA, AB} $ \r\n",
        "またはその延長と交わるとき、交点をそれぞれ $\\mathrm{P,Q,R} $ とすると  \r\n",
        "$\\quad \\quad \\quad \\quad \\displaystyle \r\n",
        "\\frac{\\mathrm{BP}}{\\mathrm{PC}} \\cdot \\frac{\\mathrm{CQ}}{\\mathrm{QA}} \\cdot \\frac{\\mathrm{AR}}{\\mathrm{RB}} = 1$\r\n"
      ]
    }
  ]
}