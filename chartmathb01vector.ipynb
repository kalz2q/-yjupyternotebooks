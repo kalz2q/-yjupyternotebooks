{
  "nbformat": 4,
  "nbformat_minor": 0,
  "metadata": {
    "colab": {
      "name": "chartmathb01vector.ipynb",
      "provenance": [],
      "authorship_tag": "ABX9TyPzyQWaui7kwua4T53DtHBs",
      "include_colab_link": true
    },
    "kernelspec": {
      "name": "python3",
      "display_name": "Python 3"
    }
  },
  "cells": [
    {
      "cell_type": "markdown",
      "metadata": {
        "id": "view-in-github",
        "colab_type": "text"
      },
      "source": [
        "<a href=\"https://colab.research.google.com/github/kalz2q/mycolabnotebooks/blob/master/chartmathb01vector.ipynb\" target=\"_parent\"><img src=\"https://colab.research.google.com/assets/colab-badge.svg\" alt=\"Open In Colab\"/></a>"
      ]
    },
    {
      "cell_type": "markdown",
      "metadata": {
        "id": "Df-P42nLxlqU"
      },
      "source": [
        "# メモ\r\n",
        "\r\n",
        "チャート式数学B\r\n",
        "ベクトル\r\n",
        "\r\n",
        "のところを読む。\r\n"
      ]
    },
    {
      "cell_type": "markdown",
      "metadata": {
        "id": "MGwz53xnymZq"
      },
      "source": [
        "有向線分 $\\mathrm{AB}$ を \r\n",
        "$\\overrightarrow{\\mathrm{AB}}$ \r\n",
        "で表す。 \r\n",
        "\r\n",
        "ベクトルの大きさを \r\n",
        "$|\\overrightarrow{\\mathrm{AB}}|$ \r\n",
        "と書く。 \r\n",
        "\r\n",
        "$\\vec a , \\vec b , | \\vec a |$ \r\n",
        "と書くこともある。 \r\n",
        "   \r\n",
        "大きさが 1 であるベクトルを単位ベクトルという。 "
      ]
    },
    {
      "cell_type": "code",
      "metadata": {
        "colab": {
          "base_uri": "https://localhost:8080/",
          "height": 208
        },
        "id": "eG4nc47rO_eg",
        "outputId": "82ceafb3-4458-46f8-f7f2-2824d5241dce"
      },
      "source": [
        "%%latex\r\n",
        "有向線分 \\mathrm{AB} を \\\\\r\n",
        "\\overrightarrow{\\mathrm{AB}} \\\\\r\n",
        "で表す。 \\\\\r\n",
        "ベクトルの大きさを \\\\\r\n",
        "|\\overrightarrow{\\mathrm{AB}}| \\\\\r\n",
        "と書く。 \\\\\r\n",
        "\\vec a , \\vec b , | \\vec a | \\\\\r\n",
        "と書くこともある。 \\\\\r\n",
        "   \\\\\r\n",
        "大きさが 1 であるベクトルを単位ベクトルという。 \\\\"
      ],
      "execution_count": null,
      "outputs": [
        {
          "output_type": "display_data",
          "data": {
            "text/latex": "有向線分 \\mathrm{AB} を \\\\\n\\overrightarrow{\\mathrm{AB}} \\\\\nで表す。 \\\\\nベクトルの大きさを \\\\\n|\\overrightarrow{\\mathrm{AB}}| \\\\\nと書く。 \\\\\n\\vec a , \\vec b , | \\vec a | \\\\\nと書くこともある。 \\\\\n   \\\\\n大きさが 1 であるベクトルを単位ベクトルという。 \\\\",
            "text/plain": [
              "<IPython.core.display.Latex object>"
            ]
          },
          "metadata": {
            "tags": []
          }
        }
      ]
    },
    {
      "cell_type": "code",
      "metadata": {
        "colab": {
          "base_uri": "https://localhost:8080/",
          "height": 99
        },
        "id": "wJCdXBKuFHwO",
        "outputId": "4446ad11-632c-42c0-de23-3be8f43efcbc"
      },
      "source": [
        "%%latex\r\n",
        "\\vec a , \\vec b \\\\\r\n",
        "が等しいというのは、向きが同じで大きさが等しいことでこれを \\\\\r\n",
        "\\vec a = \\vec b \\\\\r\n",
        "で表す。\r\n"
      ],
      "execution_count": 41,
      "outputs": [
        {
          "output_type": "display_data",
          "data": {
            "text/latex": "\\vec a , \\vec b \\\\\nが等しいというのは、向きが同じで大きさが等しいことでこれを \\\\\n\\vec a = \\vec b \\\\\nで表す。",
            "text/plain": [
              "<IPython.core.display.Latex object>"
            ]
          },
          "metadata": {
            "tags": []
          }
        }
      ]
    },
    {
      "cell_type": "code",
      "metadata": {
        "id": "JmcKt65Ky4he"
      },
      "source": [
        "# テキストセルにマークダウンに latex をまぜて書くと数式が自然な感じに文章の中に書けるが、\r\n",
        "# latex でどう書いたかは編集に入らないと見ることができない\r\n",
        "\r\n",
        "# コードセルに %%latex で書くと、マークダウンは使えないが、数式のソースが見えて便利なので\r\n",
        "# こちらをメインに使うと思う。\r\n",
        "\r\n",
        "# %%latex コマンドを入れる前までは # がコメントで latex 内では % コメントで # が使えない。"
      ],
      "execution_count": 44,
      "outputs": []
    },
    {
      "cell_type": "code",
      "metadata": {
        "id": "kd9qUf_qQ0fy",
        "outputId": "525a509d-d2f1-432a-86fe-0b69b686c42f",
        "colab": {
          "base_uri": "https://localhost:8080/",
          "height": 141
        }
      },
      "source": [
        "%%latex\r\n",
        "加法 \\quad \\overrightarrow{\\mathrm{OA}}+\\overrightarrow{\\mathrm{AB}}=\\overrightarrow{\\mathrm{OB}}\\\\\r\n",
        "加法 \\quad \\overrightarrow{\\mathrm{OA}}-\\overrightarrow{\\mathrm{OB}}=\\overrightarrow{\\mathrm{BA}}\\\\\r\n",
        "実数倍 \\quad k \\overrightarrow{a}\\\\\r\n",
        "交換法則 \\quad \\overrightarrow{a}+\\overrightarrow{b}=\\overrightarrow{b}+\\overrightarrow{a}\\\\\r\n",
        "結合法則 \\quad (\\overrightarrow{a}+\\overrightarrow{b})+\\overrightarrow{c}=\\overrightarrow{a}+(\\overrightarrow{b}+\\overrightarrow{c})"
      ],
      "execution_count": 57,
      "outputs": [
        {
          "output_type": "display_data",
          "data": {
            "text/latex": "加法 \\quad \\overrightarrow{\\mathrm{OA}}+\\overrightarrow{\\mathrm{AB}}=\\overrightarrow{\\mathrm{OB}}\\\\\n加法 \\quad \\overrightarrow{\\mathrm{OA}}-\\overrightarrow{\\mathrm{OB}}=\\overrightarrow{\\mathrm{BA}}\\\\\n実数倍 \\quad k \\overrightarrow{a}\\\\\n交換法則 \\quad \\overrightarrow{a}+\\overrightarrow{b}=\\overrightarrow{b}+\\overrightarrow{a}\\\\\n結合法則 \\quad (\\overrightarrow{a}+\\overrightarrow{b})+\\overrightarrow{c}=\\overrightarrow{a}+(\\overrightarrow{b}+\\overrightarrow{c})",
            "text/plain": [
              "<IPython.core.display.Latex object>"
            ]
          },
          "metadata": {
            "tags": []
          }
        }
      ]
    },
    {
      "cell_type": "code",
      "metadata": {
        "id": "xAz52PQFUKJI",
        "outputId": "e07cfba1-e465-46ad-e1ee-bdbf6d7e28ae",
        "colab": {
          "base_uri": "https://localhost:8080/",
          "height": 57
        }
      },
      "source": [
        "%%latex\r\n",
        "平行\r\n",
        "\r\n",
        "\\\\\r\n",
        "分解"
      ],
      "execution_count": 58,
      "outputs": [
        {
          "output_type": "display_data",
          "data": {
            "text/latex": "平行\n\n\\\\\n分解",
            "text/plain": [
              "<IPython.core.display.Latex object>"
            ]
          },
          "metadata": {
            "tags": []
          }
        }
      ]
    },
    {
      "cell_type": "code",
      "metadata": {
        "id": "Q3gWUMvSUYQq"
      },
      "source": [
        ""
      ],
      "execution_count": null,
      "outputs": []
    }
  ]
}