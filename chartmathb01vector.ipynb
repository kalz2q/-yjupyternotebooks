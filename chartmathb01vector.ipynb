{
  "nbformat": 4,
  "nbformat_minor": 0,
  "metadata": {
    "colab": {
      "name": "chartmathb01vector.ipynb",
      "provenance": [],
      "toc_visible": true,
      "authorship_tag": "ABX9TyPuNEBnVa0MNGKZ3HDHLRUt",
      "include_colab_link": true
    },
    "kernelspec": {
      "name": "python3",
      "display_name": "Python 3"
    }
  },
  "cells": [
    {
      "cell_type": "markdown",
      "metadata": {
        "id": "view-in-github",
        "colab_type": "text"
      },
      "source": [
        "<a href=\"https://colab.research.google.com/github/kalz2q/mycolabnotebooks/blob/master/chartmathb01vector.ipynb\" target=\"_parent\"><img src=\"https://colab.research.google.com/assets/colab-badge.svg\" alt=\"Open In Colab\"/></a>"
      ]
    },
    {
      "cell_type": "markdown",
      "metadata": {
        "id": "Df-P42nLxlqU"
      },
      "source": [
        "# メモ\r\n",
        "\r\n",
        "チャート式数学B\r\n",
        "ベクトル\r\n",
        "\r\n",
        "のところを読む。\r\n"
      ]
    },
    {
      "cell_type": "markdown",
      "metadata": {
        "id": "MGwz53xnymZq"
      },
      "source": [
        "有向線分 $\\mathrm{AB}$ を \r\n",
        "$\\overrightarrow{\\mathrm{AB}}$ \r\n",
        "で表す。 \r\n",
        "\r\n",
        "ベクトルの大きさを \r\n",
        "$|\\overrightarrow{\\mathrm{AB}}|$ \r\n",
        "と書く。 \r\n",
        "\r\n",
        "$\\vec a , \\vec b , | \\vec a |$ \r\n",
        "と書くこともある。 \r\n",
        "   \r\n",
        "大きさが 1 であるベクトルを単位ベクトルという。 "
      ]
    },
    {
      "cell_type": "code",
      "metadata": {
        "colab": {
          "base_uri": "https://localhost:8080/",
          "height": 208
        },
        "id": "eG4nc47rO_eg",
        "outputId": "82ceafb3-4458-46f8-f7f2-2824d5241dce"
      },
      "source": [
        "%%latex\r\n",
        "有向線分 \\mathrm{AB} を \\\\\r\n",
        "\\overrightarrow{\\mathrm{AB}} \\\\\r\n",
        "で表す。 \\\\\r\n",
        "ベクトルの大きさを \\\\\r\n",
        "|\\overrightarrow{\\mathrm{AB}}| \\\\\r\n",
        "と書く。 \\\\\r\n",
        "\\vec a , \\vec b , | \\vec a | \\\\\r\n",
        "と書くこともある。 \\\\\r\n",
        "   \\\\\r\n",
        "大きさが 1 であるベクトルを単位ベクトルという。 \\\\"
      ],
      "execution_count": null,
      "outputs": [
        {
          "output_type": "display_data",
          "data": {
            "text/latex": "有向線分 \\mathrm{AB} を \\\\\n\\overrightarrow{\\mathrm{AB}} \\\\\nで表す。 \\\\\nベクトルの大きさを \\\\\n|\\overrightarrow{\\mathrm{AB}}| \\\\\nと書く。 \\\\\n\\vec a , \\vec b , | \\vec a | \\\\\nと書くこともある。 \\\\\n   \\\\\n大きさが 1 であるベクトルを単位ベクトルという。 \\\\",
            "text/plain": [
              "<IPython.core.display.Latex object>"
            ]
          },
          "metadata": {
            "tags": []
          }
        }
      ]
    },
    {
      "cell_type": "code",
      "metadata": {
        "colab": {
          "base_uri": "https://localhost:8080/",
          "height": 99
        },
        "id": "wJCdXBKuFHwO",
        "outputId": "4446ad11-632c-42c0-de23-3be8f43efcbc"
      },
      "source": [
        "%%latex\r\n",
        "\\vec a , \\vec b \\\\\r\n",
        "が等しいというのは、向きが同じで大きさが等しいことでこれを \\\\\r\n",
        "\\vec a = \\vec b \\\\\r\n",
        "で表す。\r\n"
      ],
      "execution_count": null,
      "outputs": [
        {
          "output_type": "display_data",
          "data": {
            "text/latex": "\\vec a , \\vec b \\\\\nが等しいというのは、向きが同じで大きさが等しいことでこれを \\\\\n\\vec a = \\vec b \\\\\nで表す。",
            "text/plain": [
              "<IPython.core.display.Latex object>"
            ]
          },
          "metadata": {
            "tags": []
          }
        }
      ]
    },
    {
      "cell_type": "code",
      "metadata": {
        "id": "JmcKt65Ky4he"
      },
      "source": [
        "# テキストセルにマークダウンに latex をまぜて書くと数式が自然な感じに文章の中に書けるが、\r\n",
        "# latex でどう書いたかは編集に入らないと見ることができない\r\n",
        "\r\n",
        "# コードセルに %%latex で書くと、マークダウンは使えないが、数式のソースが見えて便利なので\r\n",
        "# こちらをメインに使うと思う。\r\n",
        "\r\n",
        "# %%latex コマンドを入れる前までは # がコメントで latex 内では % コメントで # が使えない。"
      ],
      "execution_count": null,
      "outputs": []
    },
    {
      "cell_type": "code",
      "metadata": {
        "colab": {
          "base_uri": "https://localhost:8080/",
          "height": 141
        },
        "id": "kd9qUf_qQ0fy",
        "outputId": "525a509d-d2f1-432a-86fe-0b69b686c42f"
      },
      "source": [
        "%%latex\r\n",
        "加法 \\quad \\overrightarrow{\\mathrm{OA}}+\\overrightarrow{\\mathrm{AB}}=\\overrightarrow{\\mathrm{OB}}\\\\\r\n",
        "減法 \\quad \\overrightarrow{\\mathrm{OA}}-\\overrightarrow{\\mathrm{OB}}=\\overrightarrow{\\mathrm{BA}}\\\\\r\n",
        "実数倍 \\quad k \\overrightarrow{a}\\\\\r\n",
        "交換法則 \\quad \\overrightarrow{a}+\\overrightarrow{b}=\\overrightarrow{b}+\\overrightarrow{a}\\\\\r\n",
        "結合法則 \\quad (\\overrightarrow{a}+\\overrightarrow{b})+\\overrightarrow{c}=\\overrightarrow{a}+(\\overrightarrow{b}+\\overrightarrow{c})"
      ],
      "execution_count": null,
      "outputs": [
        {
          "output_type": "display_data",
          "data": {
            "text/latex": "加法 \\quad \\overrightarrow{\\mathrm{OA}}+\\overrightarrow{\\mathrm{AB}}=\\overrightarrow{\\mathrm{OB}}\\\\\n加法 \\quad \\overrightarrow{\\mathrm{OA}}-\\overrightarrow{\\mathrm{OB}}=\\overrightarrow{\\mathrm{BA}}\\\\\n実数倍 \\quad k \\overrightarrow{a}\\\\\n交換法則 \\quad \\overrightarrow{a}+\\overrightarrow{b}=\\overrightarrow{b}+\\overrightarrow{a}\\\\\n結合法則 \\quad (\\overrightarrow{a}+\\overrightarrow{b})+\\overrightarrow{c}=\\overrightarrow{a}+(\\overrightarrow{b}+\\overrightarrow{c})",
            "text/plain": [
              "<IPython.core.display.Latex object>"
            ]
          },
          "metadata": {
            "tags": []
          }
        }
      ]
    },
    {
      "cell_type": "code",
      "metadata": {
        "colab": {
          "base_uri": "https://localhost:8080/",
          "height": 240
        },
        "id": "xAz52PQFUKJI",
        "outputId": "e0007760-bc49-4943-93c4-a364ac600374"
      },
      "source": [
        "%%latex\r\n",
        "平行は\\, \\overrightarrow{a} \\parallel \\overrightarrow{b} \\, と書く。\\\\\r\n",
        "ベクトルの平行条件とは\\, \\overrightarrow{a} \\neq 0, \\overrightarrow{b} \\neq 0 \\,のとき\r\n",
        "\\overrightarrow{a} \\parallel \\overrightarrow{b} \\Leftrightarrow  \\overrightarrow{b} = k \\overrightarrow{b} となる実数\\, k \\,がある。\\\\\r\n",
        " \\\\\r\n",
        "分解 \\\\\r\n",
        "\\overrightarrow{a} \\neq 0, \\overrightarrow{b} \\neq 0 \\, \\overrightarrow{a} と \\overrightarrow{b} が平行でないとき, \\\\\r\n",
        "任意のベクトル\\overrightarrow{p} は、次の形にただ1通りに表される。\\\\\r\n",
        "\\overrightarrow{p} = s \\overrightarrow{a} + t \\overrightarrow{b} \\quad ただし,\\, s,\\, t\\, は実数。\\\\\r\n",
        "このことから、次の性質が成り立つ。k,l,m,n\\, は実数とする。 \\\\\r\n",
        "k\\overrightarrow{a} + l \\overrightarrow{b} \\Leftrightarrow  k=m,\\, l=n \\\\\r\n",
        "特に\\,  k\\overrightarrow{a} + l \\overrightarrow{b} = \\overrightarrow{0} \\Leftrightarrow  k=l=0 "
      ],
      "execution_count": 4,
      "outputs": [
        {
          "output_type": "display_data",
          "data": {
            "text/latex": "平行は\\, \\overrightarrow{a} \\parallel \\overrightarrow{b} \\, と書く。\\\\\nベクトルの平行条件とは\\, \\overrightarrow{a} \\neq 0, \\overrightarrow{b} \\neq 0 \\,のとき\n\\overrightarrow{a} \\parallel \\overrightarrow{b} \\Leftrightarrow  \\overrightarrow{b} = k \\overrightarrow{b} となる実数\\, k \\,がある。\\\\\n \\\\\n分解 \\\\\n\\overrightarrow{a} \\neq 0, \\overrightarrow{b} \\neq 0 \\, \\overrightarrow{a} と \\overrightarrow{b} が平行でないとき, \\\\\n任意のベクトル\\overrightarrow{p} は、次の形にただ1通りに表される。\\\\\n\\overrightarrow{p} = s \\overrightarrow{a} + t \\overrightarrow{b} \\quad ただし,\\, s,\\, t\\, は実数。\\\\\nこのことから、次の性質が成り立つ。k,l,m,n\\, は実数とする。 \\\\\nk\\overrightarrow{a} + l \\overrightarrow{b} \\Leftrightarrow  k=m,\\, l=n \\\\\n特に\\,  k\\overrightarrow{a} + l \\overrightarrow{b} = \\overrightarrow{0} \\Leftrightarrow  k=l=0 ",
            "text/plain": [
              "<IPython.core.display.Latex object>"
            ]
          },
          "metadata": {
            "tags": []
          }
        }
      ]
    },
    {
      "cell_type": "code",
      "metadata": {
        "id": "Q3gWUMvSUYQq"
      },
      "source": [
        "# ベクトルの成分、成分による演算\r\n",
        "# 座標平面の原点を O とし、ベクトル a に対して a = OA となる点 A をとり、\r\n",
        "# A の座標を (a1, a2) とするとき、a は次のように表される。\r\n",
        "# 基本ベクトル表示\r\n"
      ],
      "execution_count": null,
      "outputs": []
    }
  ]
}