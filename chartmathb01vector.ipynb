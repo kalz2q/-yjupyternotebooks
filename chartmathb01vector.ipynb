{
  "nbformat": 4,
  "nbformat_minor": 0,
  "metadata": {
    "colab": {
      "name": "chartmathb01vector.ipynb",
      "provenance": [],
      "toc_visible": true,
      "authorship_tag": "ABX9TyNH2ikwn/+U12CShHzE/rRF",
      "include_colab_link": true
    },
    "kernelspec": {
      "name": "python3",
      "display_name": "Python 3"
    }
  },
  "cells": [
    {
      "cell_type": "markdown",
      "metadata": {
        "id": "view-in-github",
        "colab_type": "text"
      },
      "source": [
        "<a href=\"https://colab.research.google.com/github/kalz2q/mycolabnotebooks/blob/master/chartmathb01vector.ipynb\" target=\"_parent\"><img src=\"https://colab.research.google.com/assets/colab-badge.svg\" alt=\"Open In Colab\"/></a>"
      ]
    },
    {
      "cell_type": "markdown",
      "metadata": {
        "id": "Df-P42nLxlqU"
      },
      "source": [
        "# メモ\r\n",
        "\r\n",
        "チャート式数学B\r\n",
        "ベクトル\r\n",
        "\r\n",
        "のところを読む。\r\n"
      ]
    },
    {
      "cell_type": "markdown",
      "metadata": {
        "id": "MGwz53xnymZq"
      },
      "source": [
        "有向線分 $\\mathrm{AB}$ を \r\n",
        "$\\overrightarrow{\\mathrm{AB}}$ \r\n",
        "で表す。 \r\n",
        "\r\n",
        "ベクトルの大きさを \r\n",
        "$|\\overrightarrow{\\mathrm{AB}}|$ \r\n",
        "と書く。 \r\n",
        "\r\n",
        "$\\vec a , \\vec b , | \\vec a |$ \r\n",
        "と書くこともある。 \r\n",
        "   \r\n",
        "大きさが 1 であるベクトルを単位ベクトルという。 "
      ]
    },
    {
      "cell_type": "code",
      "metadata": {
        "colab": {
          "base_uri": "https://localhost:8080/",
          "height": 208
        },
        "id": "eG4nc47rO_eg",
        "outputId": "82ceafb3-4458-46f8-f7f2-2824d5241dce"
      },
      "source": [
        "%%latex\r\n",
        "有向線分 \\mathrm{AB} を \\\\\r\n",
        "\\overrightarrow{\\mathrm{AB}} \\\\\r\n",
        "で表す。 \\\\\r\n",
        "ベクトルの大きさを \\\\\r\n",
        "|\\overrightarrow{\\mathrm{AB}}| \\\\\r\n",
        "と書く。 \\\\\r\n",
        "\\vec a , \\vec b , | \\vec a | \\\\\r\n",
        "と書くこともある。 \\\\\r\n",
        "   \\\\\r\n",
        "大きさが 1 であるベクトルを単位ベクトルという。 \\\\"
      ],
      "execution_count": null,
      "outputs": [
        {
          "output_type": "display_data",
          "data": {
            "text/latex": "有向線分 \\mathrm{AB} を \\\\\n\\overrightarrow{\\mathrm{AB}} \\\\\nで表す。 \\\\\nベクトルの大きさを \\\\\n|\\overrightarrow{\\mathrm{AB}}| \\\\\nと書く。 \\\\\n\\vec a , \\vec b , | \\vec a | \\\\\nと書くこともある。 \\\\\n   \\\\\n大きさが 1 であるベクトルを単位ベクトルという。 \\\\",
            "text/plain": [
              "<IPython.core.display.Latex object>"
            ]
          },
          "metadata": {
            "tags": []
          }
        }
      ]
    },
    {
      "cell_type": "code",
      "metadata": {
        "colab": {
          "base_uri": "https://localhost:8080/",
          "height": 99
        },
        "id": "wJCdXBKuFHwO",
        "outputId": "4446ad11-632c-42c0-de23-3be8f43efcbc"
      },
      "source": [
        "%%latex\r\n",
        "\\vec a , \\vec b \\\\\r\n",
        "が等しいというのは、向きが同じで大きさが等しいことでこれを \\\\\r\n",
        "\\vec a = \\vec b \\\\\r\n",
        "で表す。\r\n"
      ],
      "execution_count": null,
      "outputs": [
        {
          "output_type": "display_data",
          "data": {
            "text/latex": "\\vec a , \\vec b \\\\\nが等しいというのは、向きが同じで大きさが等しいことでこれを \\\\\n\\vec a = \\vec b \\\\\nで表す。",
            "text/plain": [
              "<IPython.core.display.Latex object>"
            ]
          },
          "metadata": {
            "tags": []
          }
        }
      ]
    },
    {
      "cell_type": "code",
      "metadata": {
        "id": "JmcKt65Ky4he"
      },
      "source": [
        "# テキストセルにマークダウンに latex をまぜて書くと数式が自然な感じに文章の中に書けるが、\r\n",
        "# latex でどう書いたかは編集に入らないと見ることができない\r\n",
        "\r\n",
        "# コードセルに %%latex で書くと、マークダウンは使えないが、数式のソースが見えて便利なので\r\n",
        "# こちらをメインに使うと思う。\r\n",
        "\r\n",
        "# %%latex コマンドを入れる前までは # がコメントで latex 内では % コメントで # が使えない。"
      ],
      "execution_count": null,
      "outputs": []
    },
    {
      "cell_type": "code",
      "metadata": {
        "colab": {
          "base_uri": "https://localhost:8080/",
          "height": 141
        },
        "id": "kd9qUf_qQ0fy",
        "outputId": "525a509d-d2f1-432a-86fe-0b69b686c42f"
      },
      "source": [
        "%%latex\r\n",
        "加法 \\quad \\overrightarrow{\\mathrm{OA}}+\\overrightarrow{\\mathrm{AB}}=\\overrightarrow{\\mathrm{OB}}\\\\\r\n",
        "減法 \\quad \\overrightarrow{\\mathrm{OA}}-\\overrightarrow{\\mathrm{OB}}=\\overrightarrow{\\mathrm{BA}}\\\\\r\n",
        "実数倍 \\quad k \\overrightarrow{a}\\\\\r\n",
        "交換法則 \\quad \\overrightarrow{a}+\\overrightarrow{b}=\\overrightarrow{b}+\\overrightarrow{a}\\\\\r\n",
        "結合法則 \\quad (\\overrightarrow{a}+\\overrightarrow{b})+\\overrightarrow{c}=\\overrightarrow{a}+(\\overrightarrow{b}+\\overrightarrow{c})"
      ],
      "execution_count": null,
      "outputs": [
        {
          "output_type": "display_data",
          "data": {
            "text/latex": "加法 \\quad \\overrightarrow{\\mathrm{OA}}+\\overrightarrow{\\mathrm{AB}}=\\overrightarrow{\\mathrm{OB}}\\\\\n加法 \\quad \\overrightarrow{\\mathrm{OA}}-\\overrightarrow{\\mathrm{OB}}=\\overrightarrow{\\mathrm{BA}}\\\\\n実数倍 \\quad k \\overrightarrow{a}\\\\\n交換法則 \\quad \\overrightarrow{a}+\\overrightarrow{b}=\\overrightarrow{b}+\\overrightarrow{a}\\\\\n結合法則 \\quad (\\overrightarrow{a}+\\overrightarrow{b})+\\overrightarrow{c}=\\overrightarrow{a}+(\\overrightarrow{b}+\\overrightarrow{c})",
            "text/plain": [
              "<IPython.core.display.Latex object>"
            ]
          },
          "metadata": {
            "tags": []
          }
        }
      ]
    },
    {
      "cell_type": "code",
      "metadata": {
        "colab": {
          "base_uri": "https://localhost:8080/",
          "height": 240
        },
        "id": "xAz52PQFUKJI",
        "outputId": "e0007760-bc49-4943-93c4-a364ac600374"
      },
      "source": [
        "%%latex\r\n",
        "平行は\\, \\overrightarrow{a} \\parallel \\overrightarrow{b} \\, と書く。\\\\\r\n",
        "ベクトルの平行条件とは\\, \\overrightarrow{a} \\neq 0, \\overrightarrow{b} \\neq 0 \\,のとき\r\n",
        "\\overrightarrow{a} \\parallel \\overrightarrow{b} \\Leftrightarrow  \\overrightarrow{b} = k \\overrightarrow{b} となる実数\\, k \\,がある。\\\\\r\n",
        " \\\\\r\n",
        "分解 \\\\\r\n",
        "\\overrightarrow{a} \\neq 0, \\overrightarrow{b} \\neq 0 \\, \\overrightarrow{a} と \r\n",
        "\\overrightarrow{b} が平行でないとき, \\\\\r\n",
        "任意のベクトル\\overrightarrow{p} は、次の形にただ1通りに表される。\\\\\r\n",
        "\\overrightarrow{p} = s \\overrightarrow{a} + t \\overrightarrow{b} \\quad ただし,\\, s,\\, t\\, は実数。\\\\\r\n",
        "このことから、次の性質が成り立つ。k,l,m,n\\, は実数とする。 \\\\\r\n",
        "k\\overrightarrow{a} + l \\overrightarrow{b} \\Leftrightarrow  k=m,\\, l=n \\\\\r\n",
        "特に\\,  k\\overrightarrow{a} + l \\overrightarrow{b} = \\overrightarrow{0} \\Leftrightarrow  k=l=0 "
      ],
      "execution_count": null,
      "outputs": [
        {
          "output_type": "display_data",
          "data": {
            "text/latex": "平行は\\, \\overrightarrow{a} \\parallel \\overrightarrow{b} \\, と書く。\\\\\nベクトルの平行条件とは\\, \\overrightarrow{a} \\neq 0, \\overrightarrow{b} \\neq 0 \\,のとき\n\\overrightarrow{a} \\parallel \\overrightarrow{b} \\Leftrightarrow  \\overrightarrow{b} = k \\overrightarrow{b} となる実数\\, k \\,がある。\\\\\n \\\\\n分解 \\\\\n\\overrightarrow{a} \\neq 0, \\overrightarrow{b} \\neq 0 \\, \\overrightarrow{a} と \\overrightarrow{b} が平行でないとき, \\\\\n任意のベクトル\\overrightarrow{p} は、次の形にただ1通りに表される。\\\\\n\\overrightarrow{p} = s \\overrightarrow{a} + t \\overrightarrow{b} \\quad ただし,\\, s,\\, t\\, は実数。\\\\\nこのことから、次の性質が成り立つ。k,l,m,n\\, は実数とする。 \\\\\nk\\overrightarrow{a} + l \\overrightarrow{b} \\Leftrightarrow  k=m,\\, l=n \\\\\n特に\\,  k\\overrightarrow{a} + l \\overrightarrow{b} = \\overrightarrow{0} \\Leftrightarrow  k=l=0 ",
            "text/plain": [
              "<IPython.core.display.Latex object>"
            ]
          },
          "metadata": {
            "tags": []
          }
        }
      ]
    },
    {
      "cell_type": "code",
      "metadata": {
        "id": "Q3gWUMvSUYQq",
        "colab": {
          "base_uri": "https://localhost:8080/",
          "height": 212
        },
        "outputId": "548684b5-0a0b-45dd-be64-8e713cd8cbd1"
      },
      "source": [
        "# ベクトルの成分、成分による演算\r\n",
        "%%latex\r\n",
        "ベクトルの成分、成分による演算 \\\\\r\n",
        "1. 座標平面の原点を O とし、ベクトル \\overrightarrow{a} に対して \\overrightarrow{a}  = \\overrightarrow{\\mathrm{OA}} となる点 \\mathrm{A} をとり、\\\\\r\n",
        "\\quad \\mathrm{A} の座標を(a_1,a_2)とするとき、\\overrightarrow{a} は次のように表される。\\\\\r\n",
        "\\quad 基本ベクトル表示 \\quad \\overrightarrow{a}=a_1 \\overrightarrow{e_1} + a_2 \\overrightarrow{e_2}\\\\\r\n",
        "\\quad \\overrightarrow{e_1}=(1,0),\\overrightarrow{e_2}=(0,1) を基本ベクトルという。\\\\[1em]\r\n",
        "2. 相等 \\quad (a_1,a_2)=(b_1,b_2) \\Leftrightarrow a_1=b_1,a_2=b_2\\\\\r\n",
        "\\quad 特に (a_1,a_2)=\\overrightarrow{0} \\Leftrightarrow a_1=0, a_2=0\\\\[1em]"
      ],
      "execution_count": null,
      "outputs": [
        {
          "output_type": "display_data",
          "data": {
            "text/latex": "ベクトルの成分、成分による演算 \\\\\n1. 座標平面の原点を O とし、ベクトル \\overrightarrow{a} に対して \\overrightarrow{a}  = \\overrightarrow{\\mathrm{OA}} となる点 \\mathrm{A} をとり、\\\\\n\\quad \\mathrm{A} の座標を(a_1,a_2)とするとき、\\overrightarrow{a} は次のように表される。\\\\\n\\quad 基本ベクトル表示 \\quad \\overrightarrow{a}=a_1 \\overrightarrow{e_1} + a_2 \\overrightarrow{e_2}\\\\\n\\quad \\overrightarrow{e_1}=(1,0),\\overrightarrow{e_2}=(0,1) を基本ベクトルという。\\\\[1em]\n2.相等 \\quad (a_1,a_2)=(b_1,b_2) \\Leftrightarrow a_1=b_1,a_2=b_2\\\\\n\\quad 特に (a_1,a_2)=\\overrightarrow{0} \\Leftrightarrow a_1=0, a_2=0\\\\[1em]",
            "text/plain": [
              "<IPython.core.display.Latex object>"
            ]
          },
          "metadata": {
            "tags": []
          }
        }
      ]
    },
    {
      "cell_type": "code",
      "metadata": {
        "colab": {
          "base_uri": "https://localhost:8080/",
          "height": 165
        },
        "id": "sr8GDOHwY3Lg",
        "outputId": "642219fc-dfba-4b0f-d2d9-aee62671f630"
      },
      "source": [
        "%%latex\r\n",
        "3. 大きさ \\quad \\overrightarrow{a}=(a_1,a_2) のとき、|\\overrightarrow{a}|=\\sqrt{a_1^2+a_2^2}\\\\[1em]\r\n",
        "4. 演算 \\quad k, l を実数とするとき\\\\\r\n",
        "\\quad \\bullet \\quad (a_1,a_2)=(b_1,b_2)=(a_1+b_1, a_2+b_2)\\\\\r\n",
        "\\quad \\bullet \\quad k(a_1, a_2)=(ka_1, ka_2)\\\\\r\n",
        "\\quad 一般に k(a_1, a_2) + l(b_1,b_2) = (k a_1+l b_1, k a_2+l b_2)\\\\\r\n",
        "\\quad 特にk=1, l=-1 のとき (a_1, a_2) - (b_1,b_2) = (a_1-b_1, a_2-b_2)\\\\"
      ],
      "execution_count": null,
      "outputs": [
        {
          "output_type": "display_data",
          "data": {
            "text/latex": "3. 大きさ \\quad \\overrightarrow{a}=(a_1,a_2) のとき、|\\overrightarrow{a}|=\\sqrt{a_1^2+a_2^2}\\\\[1em]\n4. 演算 \\quad k, l を実数とするとき\\\\\n\\quad \\bullet \\quad (a_1,a_2)=(b_1,b_2)=(a_1+b_1, a_2+b_2)\\\\\n\\quad \\bullet \\quad k(a_1, a_2)=(ka_1, ka_2)\\\\\n\\quad 一般に k(a_1, a_2) + l(b_1,b_2) = (k a_1+l b_1, k a_2+l b_2)\\\\\n\\quad 特にk=1, l=-1 のとき (a_1, a_2) - (b_1,b_2) = (a_1-b_1, a_2-b_2)\\\\",
            "text/plain": [
              "<IPython.core.display.Latex object>"
            ]
          },
          "metadata": {
            "tags": []
          }
        }
      ]
    },
    {
      "cell_type": "markdown",
      "metadata": {
        "id": "s4WfxCfqk7PH"
      },
      "source": [
        "# 点の座標とベクトルの成分"
      ]
    },
    {
      "cell_type": "code",
      "metadata": {
        "colab": {
          "base_uri": "https://localhost:8080/",
          "height": 70
        },
        "id": "W7PxgE-xk_Ut",
        "outputId": "772c397e-588d-4bf2-b19c-bfbb722d30a1"
      },
      "source": [
        "# 点の座標とベクトルの成分\r\n",
        "%%latex\r\n",
        "2点 \\mathrm{A}(a_1,a_2), \\mathrm{B}(b_1,b_2)について、\\overrightarrow{\\mathrm{AB}} = (b_1-a_1, b_2-a_2)\\\\\r\n",
        "ベクトル\\overrightarrow{\\mathrm{AB}}の大きさ |\\overrightarrow{\\mathrm{AB}}|=\\sqrt{(b_1-a_1)^2 + (b_2-a_2)^2}"
      ],
      "execution_count": null,
      "outputs": [
        {
          "output_type": "display_data",
          "data": {
            "text/latex": "2点 \\mathrm{A}(a_1,a_2), \\mathrm{B}(b_1,b_2)について、\\overrightarrow{\\mathrm{AB}} = (b_1-a_1, b_2-a_2)\\\\\nベクトル\\overrightarrow{\\mathrm{AB}}の大きさ |\\overrightarrow{\\mathrm{AB}}|=\\sqrt{(b_1-a_1)^2 + (b_2-a_2)^2}",
            "text/plain": [
              "<IPython.core.display.Latex object>"
            ]
          },
          "metadata": {
            "tags": []
          }
        }
      ]
    },
    {
      "cell_type": "markdown",
      "metadata": {
        "id": "Ho-SSEgEmD3x"
      },
      "source": [
        "# ベクトルの内積"
      ]
    },
    {
      "cell_type": "code",
      "metadata": {
        "colab": {
          "base_uri": "https://localhost:8080/",
          "height": 224
        },
        "id": "_6bWGJyymGmm",
        "outputId": "a459e8b8-5225-4e96-b517-63f2d42fade2"
      },
      "source": [
        "# ベクトルの内積\r\n",
        "%%latex\r\n",
        "ベクトルの内積の定義\\\\\r\n",
        "\\overrightarrow{0}~でない 2つのベクトル~\\overrightarrow{a}, \\overrightarrow{b}~のなす角を~\\theta~とする。\\\\\r\n",
        "このとき、積~|\\overrightarrow{a}||\\overrightarrow{b}| \\cos \\theta~を~\\overrightarrow{a}~と~\\overrightarrow{b}~の内積といい、\r\n",
        "\\overrightarrow{a} \\cdot \\overrightarrow{b}~で表す。\\\\\r\n",
        "すなわち内積~\\overrightarrow{a} \\cdot \\overrightarrow{b}~は\\\\[1em]\r\n",
        "\\quad \\overrightarrow{a} \\cdot \\overrightarrow{b} =|\\overrightarrow{a}||\\overrightarrow{b}| \\cos \\theta\r\n",
        "\\quad ただし \\quad 0^\\circ \\leq \\theta \\leq 180^\\circ \\\\[1em]\r\n",
        "で定義される実数である。\\\\\r\n",
        "\\overrightarrow{a}=\\overrightarrow{0}~または~\\overrightarrow{b}=\\overrightarrow{0}~のときは~\r\n",
        "\\overrightarrow{a} \\cdot \\overrightarrow{b} = 0 ~と定める。"
      ],
      "execution_count": null,
      "outputs": [
        {
          "output_type": "display_data",
          "data": {
            "text/latex": "ベクトルの内積の定義\\\\\n\\overrightarrow{0}~でない 2つのベクトル~\\overrightarrow{a}, \\overrightarrow{b}~のなす角を~\\theta~とする。\\\\\nこのとき、積~|\\overrightarrow{a}||\\overrightarrow{b}| \\cos \\theta~を~\\overrightarrow{a}~と~\\overrightarrow{b}~の内積といい、\n\\overrightarrow{a} \\cdot \\overrightarrow{b}~で表す。\\\\\nすなわち内積~\\overrightarrow{a} \\cdot \\overrightarrow{b}~は\\\\[1em]\n\\quad \\overrightarrow{a} \\cdot \\overrightarrow{b} =|\\overrightarrow{a}||\\overrightarrow{b}| \\cos \\theta\n\\quad ただし \\quad 0^\\circ \\leq \\theta \\leq 180^\\circ \\\\[1em]\nで定義される実数である。\\\\\n\\overrightarrow{a}=\\overrightarrow{0}~または~\\overrightarrow{b}=\\overrightarrow{0}~のときは~\\overrightarrow{a} \\cdot \\overrightarrow{b} = 0 ~と定める。",
            "text/plain": [
              "<IPython.core.display.Latex object>"
            ]
          },
          "metadata": {
            "tags": []
          }
        }
      ]
    },
    {
      "cell_type": "code",
      "metadata": {
        "id": "oZjcaWOpNisc",
        "colab": {
          "base_uri": "https://localhost:8080/",
          "height": 91
        },
        "outputId": "5aaf8748-c744-4757-bfcb-20f83b53cc1f"
      },
      "source": [
        "# ベクトルの内積の成分表示\r\n",
        "%%latex\r\n",
        "成分表示\\\\\r\n",
        "\\overrightarrow{a} = (a_1,a_2), \\overrightarrow{b} = (b_1,b_2)~のとき\\\\\r\n",
        "\\overrightarrow{a} \\cdot \\overrightarrow{b} = a_1 b_1 + a_2 b_2"
      ],
      "execution_count": null,
      "outputs": [
        {
          "output_type": "display_data",
          "data": {
            "text/latex": "成分表示\\\\\n\\overrightarrow{a} = (a_1,a_2), \\overrightarrow{b} = (b_1,b_2)~のとき\\\\\n\\overrightarrow{a} \\cdot \\overrightarrow{b} = a_1 b_1 + a_2 b_2",
            "text/plain": [
              "<IPython.core.display.Latex object>"
            ]
          },
          "metadata": {
            "tags": []
          }
        }
      ]
    },
    {
      "cell_type": "code",
      "metadata": {
        "colab": {
          "base_uri": "https://localhost:8080/",
          "height": 303
        },
        "id": "7mC9cS91TPOc",
        "outputId": "5adcde7a-175d-46ee-a0aa-456333a706a9"
      },
      "source": [
        "%%latex\r\n",
        "内積の性質\\\\\r\n",
        "\\overrightarrow{a} \\cdot \\overrightarrow{a} = |\\overrightarrow{a}|^2 \\\\\r\n",
        "\\overrightarrow{a} \\cdot \\overrightarrow{b} = \\overrightarrow{b} \\cdot \\overrightarrow{a} \\\\\r\n",
        "\\overrightarrow{a} \\cdot (\\overrightarrow{b} + \\overrightarrow{c}) = \\overrightarrow{a} \\cdot \\overrightarrow{b} + \\overrightarrow{a} \\cdot \\overrightarrow{c} \\\\\r\n",
        "(\\overrightarrow{a} + \\overrightarrow{b}) \\cdot \\overrightarrow{c} = \\overrightarrow{a} \\cdot \\overrightarrow{c} + \\overrightarrow{b} \\cdot \\overrightarrow{c} \\\\\r\n",
        "(k \\overrightarrow{a}) \\cdot \\overrightarrow{b} = \\overrightarrow{a}(k \\overrightarrow{b}) = k(\\overrightarrow{a} \\cdot \\overrightarrow{b}) \\\\\r\n",
        "\\quad \\quad k \\overrightarrow{a} \\cdot \\overrightarrow{b} ~とも書く。 k~は実数。\\\\\r\n",
        "一般に、p,q,r,s~が実数のとき\\\\\r\n",
        "\\quad \\quad \r\n",
        "(p\\overrightarrow{a} + q\\overrightarrow{b}) \\cdot (r\\overrightarrow{c} + s\\overrightarrow{d}) =\r\n",
        "pr\\overrightarrow{a} \\cdot \\overrightarrow{c} + ps\\overrightarrow{a} \\cdot \\overrightarrow{d} + qr\\overrightarrow{b} \\cdot \\overrightarrow{c} + qs\\overrightarrow{b} \\cdot \\overrightarrow{d}\\\\\r\n",
        "\\\\[1em]\r\n",
        "不等式\\quad -|\\overrightarrow{a}||\\overrightarrow{b}| \\leq \\overrightarrow{a} \\cdot \\overrightarrow{b} \\leq |\\overrightarrow{a}||\\overrightarrow{b}| \\\\\r\n",
        "\\quad \\quad \\Longleftrightarrow |\\overrightarrow{a} \\cdot \\overrightarrow{b}| \\leq |\\overrightarrow{a}||\\overrightarrow{b}| \\\\\r\n"
      ],
      "execution_count": null,
      "outputs": [
        {
          "output_type": "display_data",
          "data": {
            "text/latex": "内積の性質\\\\\n\\overrightarrow{a} \\cdot \\overrightarrow{a} = |\\overrightarrow{a}|^2 \\\\\n\\overrightarrow{a} \\cdot \\overrightarrow{b} = \\overrightarrow{b} \\cdot \\overrightarrow{a} \\\\\n\\overrightarrow{a} \\cdot (\\overrightarrow{b} + \\overrightarrow{c}) = \\overrightarrow{a} \\cdot \\overrightarrow{b} + \\overrightarrow{a} \\cdot \\overrightarrow{c} \\\\\n(\\overrightarrow{a} + \\overrightarrow{b}) \\cdot \\overrightarrow{c} = \\overrightarrow{a} \\cdot \\overrightarrow{c} + \\overrightarrow{b} \\cdot \\overrightarrow{c} \\\\\n(k \\overrightarrow{a}) \\cdot \\overrightarrow{b} = \\overrightarrow{a}(k \\overrightarrow{b}) = k(\\overrightarrow{a} \\cdot \\overrightarrow{b}) \\\\\n\\quad \\quad k \\overrightarrow{a} \\cdot \\overrightarrow{b} ~とも書く。 k~は実数。\\\\\n一般に、p,q,r,s~が実数のとき\\\\\n\\quad \\quad \n(p\\overrightarrow{a} + q\\overrightarrow{b}) \\cdot (r\\overrightarrow{c} + s\\overrightarrow{d}) =\npr\\overrightarrow{a} \\cdot \\overrightarrow{c} + ps\\overrightarrow{a} \\cdot \\overrightarrow{d} + qr\\overrightarrow{b} \\cdot \\overrightarrow{c} + qs\\overrightarrow{b} \\cdot \\overrightarrow{d}\\\\\n\\\\[1em]\n不等式\\quad -|\\overrightarrow{a}||\\overrightarrow{b}| \\leq \\overrightarrow{a} \\cdot \\overrightarrow{b} \\leq |\\overrightarrow{a}||\\overrightarrow{b}| \\\\\n\\quad \\quad \\Longleftrightarrow |\\overrightarrow{a} \\cdot \\overrightarrow{b}| \\leq |\\overrightarrow{a}||\\overrightarrow{b}| \\\\",
            "text/plain": [
              "<IPython.core.display.Latex object>"
            ]
          },
          "metadata": {
            "tags": []
          }
        }
      ]
    },
    {
      "cell_type": "code",
      "metadata": {
        "colab": {
          "base_uri": "https://localhost:8080/",
          "height": 125
        },
        "id": "ESPETH4nYIc-",
        "outputId": "b0e23ac8-3e29-430b-8724-8bfe40135aa4"
      },
      "source": [
        "# ベクトルのなす角\r\n",
        "%%latex\r\n",
        "\\displaystyle\r\n",
        "ベクトルのなす角~\\theta \\quad\\cos \\theta = \\frac{\\overrightarrow{a} \\cdot \\overrightarrow{b}}{|\\overrightarrow{a}||\\overrightarrow{b}|}\r\n",
        "= \\frac{a_1 b_1 + a_2 b_2}{\\sqrt{a_1^2+a_2^2}\\sqrt{b_1^2+b_2^2}}\\\\\r\n",
        "\\begin{array}{lll}\r\n",
        "垂直 \\quad \r\n",
        "\\overrightarrow{a} \\perp \\overrightarrow{b} & \\Longleftrightarrow \\overrightarrow{a} \\cdot \\overrightarrow{b} = 0\r\n",
        "& \\Longleftrightarrow  a_1 b_1 + a_2 b_2 = 0 \\\\\r\n",
        "平行 \\quad \r\n",
        "\\overrightarrow{a} \\parallel \\overrightarrow{b} & \\Longleftrightarrow \\overrightarrow{a} \\cdot \\overrightarrow{b} = \\pm |\\overrightarrow{a}||\\overrightarrow{b}|\r\n",
        "& \\Longleftrightarrow  a_1 b_2 - a_2 b_1 = 0 \r\n",
        "\\end{array}"
      ],
      "execution_count": null,
      "outputs": [
        {
          "output_type": "display_data",
          "data": {
            "text/latex": "\\displaystyle\nベクトルのなす角~\\theta \\quad\\cos \\theta = \\frac{\\overrightarrow{a} \\cdot \\overrightarrow{b}}{|\\overrightarrow{a}||\\overrightarrow{b}|}\n= \\frac{a_1 b_1 + a_2 b_2}{\\sqrt{a_1^2+a_2^2}\\sqrt{b_1^2+b_2^2}}\\\\\n\\begin{array}{lll}\n垂直 \\quad \n\\overrightarrow{a} \\perp \\overrightarrow{b} & \\Longleftrightarrow \\overrightarrow{a} \\cdot \\overrightarrow{b} = 0\n& \\Longleftrightarrow  a_1 b_1 + a_2 b_2 = 0 \\\\\n平行 \\quad \n\\overrightarrow{a} \\parallel \\overrightarrow{b} & \\Longleftrightarrow \\overrightarrow{a} \\cdot \\overrightarrow{b} = \\pm |\\overrightarrow{a}||\\overrightarrow{b}|\n& \\Longleftrightarrow  a_1 b_2 - a_2 b_1 = 0 \n\\end{array}",
            "text/plain": [
              "<IPython.core.display.Latex object>"
            ]
          },
          "metadata": {
            "tags": []
          }
        }
      ]
    },
    {
      "cell_type": "markdown",
      "metadata": {
        "id": "qCaHQln9pcRY"
      },
      "source": [
        "# 位置ベクトル"
      ]
    },
    {
      "cell_type": "code",
      "metadata": {
        "colab": {
          "base_uri": "https://localhost:8080/",
          "height": 171
        },
        "id": "ivRqChk0pe2t",
        "outputId": "3ea70c2b-6730-4f6b-81db-1a62a0b01d1e"
      },
      "source": [
        "# 位置ベクトル p.301\r\n",
        "%%latex\r\n",
        "位置ベクトル\\quad 平面上で、1点~\\mathrm{O}~を固定して考えると、任意の点~\\mathrm{P}~の位置は、\\\\\r\n",
        "ベクトル~\\overrightarrow{p} = \\overrightarrow{\\mathrm{OP}}~によって定まる。\\\\\r\n",
        "\\overrightarrow{p}~を~点~\\mathrm{O}~に関する点~\\mathrm{P}~の位置ベクトルという。\\\\[1em]\r\n",
        "表現 \\quad 位置ベクトルが~\\overrightarrow{p}~である点を~\\mathrm{P}(\\overrightarrow{p})~と表す。\\\\\r\n",
        "\\mathrm{A}(\\overrightarrow{a}),\\mathrm{B}(\\overrightarrow{b})~とすると\\\\\r\n",
        "\\quad \\quad \\overrightarrow{\\mathrm{AB}} = \\overrightarrow{b} - \\overrightarrow{b} \\quad\r\n",
        "\\longleftarrow \\overrightarrow{\\mathrm{AB}} = \\overrightarrow{\\mathrm{OB}} - \\overrightarrow{\\mathrm{OA}}\r\n"
      ],
      "execution_count": null,
      "outputs": [
        {
          "output_type": "display_data",
          "data": {
            "text/latex": "位置ベクトル\\quad 平面上で、1点~\\mathrm{O}~を固定して考えると、任意の点~\\mathrm{P}~の位置は、\\\\\nベクトル~\\overrightarrow{p} = \\overrightarrow{\\mathrm{OP}}~によって定まる。\\\\\n\\overrightarrow{p}~を~点~\\mathrm{O}~に関する点~\\mathrm{P}~の位置ベクトルという。\\\\[1em]\n表現 \\quad 位置ベクトルが~\\overrightarrow{p}~である点を~\\mathrm{P}(\\overrightarrow{p})~と表す。\\\\\n\\mathrm{A}(\\overrightarrow{a}),\\mathrm{B}(\\overrightarrow{b})~とすると\\\\\n\\quad \\quad \\overrightarrow{\\mathrm{AB}} = \\overrightarrow{b} - \\overrightarrow{b} \\quad\n\\longleftarrow \\overrightarrow{\\mathrm{AB}} = \\overrightarrow{\\mathrm{OB}} - \\overrightarrow{\\mathrm{OA}}",
            "text/plain": [
              "<IPython.core.display.Latex object>"
            ]
          },
          "metadata": {
            "tags": []
          }
        }
      ]
    },
    {
      "cell_type": "markdown",
      "metadata": {
        "id": "bHb8u0quzetz"
      },
      "source": [
        "# 線分の分点の位置ベクトル"
      ]
    },
    {
      "cell_type": "code",
      "metadata": {
        "colab": {
          "base_uri": "https://localhost:8080/",
          "height": 241
        },
        "id": "W0zQToIBzjyq",
        "outputId": "8f7df5d7-0728-4cb5-c309-b5ee8cfe7288"
      },
      "source": [
        "# 線分の分点の位置ベクトル\r\n",
        "%%latex\r\n",
        "\\displaystyle\r\n",
        "線分~\\mathrm{AB}~について\\\\\r\n",
        "内分点 \\quad m:n~の比に内分する点~\\mathrm{P}(\\overrightarrow{p})~は \\quad \r\n",
        "\\overrightarrow{p}=\\frac{n\\overrightarrow{a}+m\\overrightarrow{b}}{m+n}\r\n",
        "\\\\\r\n",
        "外分点 \\quad m:n~の比に外分する点~\\mathrm{Q}(\\overrightarrow{q})~は \\quad \r\n",
        "\\overrightarrow{p}=\\frac{-n\\overrightarrow{a}+m\\overrightarrow{b}}{m-n}\r\n",
        "\\\\\r\n",
        "特に \\quad 中点~\\mathrm{M}(\\overrightarrow{m})~は \\quad~は \\quad\r\n",
        "\\overrightarrow{m}=\\frac{\\overrightarrow{a}+\\overrightarrow{b}}{2}\r\n",
        "\\\\\r\n",
        "三角形の重心 \\quad \r\n",
        "\\overrightarrow{g}=\\frac{\\overrightarrow{a}+\\overrightarrow{b}+\\overrightarrow{c}}{3}\\\\\r\n",
        "共点条件\\quad \\overrightarrow{\\mathrm{OP}} = \\overrightarrow{\\mathrm{OQ}} = \\overrightarrow{\\mathrm{OR}}\r\n",
        "\\quad \\Longleftrightarrow \\quad \\mathrm{P,Q,R}~は一致する。\r\n"
      ],
      "execution_count": null,
      "outputs": [
        {
          "output_type": "display_data",
          "data": {
            "text/latex": "\\displaystyle\n線分~\\mathrm{AB}~について\\\\\n内分点 \\quad m:n~の比に内分する点~\\mathrm{P}(\\overrightarrow{p})~は \\quad \n\\overrightarrow{p}=\\frac{n\\overrightarrow{a}+m\\overrightarrow{b}}{m+n}\n\\\\\n外分点 \\quad m:n~の比に外分する点~\\mathrm{Q}(\\overrightarrow{q})~は \\quad \n\\overrightarrow{p}=\\frac{-n\\overrightarrow{a}+m\\overrightarrow{b}}{m-n}\n\\\\\n特に \\quad 中点~\\mathrm{M}(\\overrightarrow{m})~は \\quad~は \\quad\n\\overrightarrow{m}=\\frac{\\overrightarrow{a}+\\overrightarrow{b}}{2}\n\\\\\n三角形の重心 \\quad \n\\overrightarrow{g}=\\frac{\\overrightarrow{a}+\\overrightarrow{b}+\\overrightarrow{c}}{3}\\\\\n共点条件\\quad \\overrightarrow{\\mathrm{OP}} = \\overrightarrow{\\mathrm{OQ}} = \\overrightarrow{\\mathrm{OR}}\n\\quad \\Longleftrightarrow \\quad \\mathrm{P,Q,R}~は一致する。",
            "text/plain": [
              "<IPython.core.display.Latex object>"
            ]
          },
          "metadata": {
            "tags": []
          }
        }
      ]
    },
    {
      "cell_type": "markdown",
      "metadata": {
        "id": "tfPkWSiJ12tc"
      },
      "source": [
        "# ベクトル方程式"
      ]
    },
    {
      "cell_type": "code",
      "metadata": {
        "id": "3YItpGqG13RL",
        "colab": {
          "base_uri": "https://localhost:8080/",
          "height": 209
        },
        "outputId": "196a8c51-49be-4a6e-9812-52183b1d5cf4"
      },
      "source": [
        "# ベクトル方程式 p.306\r\n",
        "%%latex\r\n",
        "直線のベクトル方程式\\\\\r\n",
        "\\mathrm{P}(\\overrightarrow{p})~を直線上の点とする。 s, t~ は媒介変数。\\\\\r\n",
        "1.~点~\\mathrm{A}(\\overrightarrow{a})~を通り、\\overrightarrow{d} ~ [\\neq \\overrightarrow{0}]\r\n",
        "に平行な直線\\\\\r\n",
        "\\quad \\quad \\overrightarrow{p} = \\overrightarrow{a} + t \\overrightarrow{d}\r\n",
        "\\quad \\quad \\overrightarrow{d}~は直線の方向ベクトル\\\\\r\n",
        "2.~異なる2点~\r\n",
        "\\mathrm{A}(\\overrightarrow{a}),\\mathrm{B}(\\overrightarrow{b})~を通る直線\\\\\r\n",
        "\\quad \\quad \\overrightarrow{p} = (1-t)\\overrightarrow{a} + t \\overrightarrow{b}\r\n",
        "\\quad \\quad \\overrightarrow{p} = s \\overrightarrow{a} + t \\overrightarrow{b}, ~ s+t=1 \\\\\r\n",
        "3.~点~\\mathrm{A}(\\overrightarrow{a})~を通り、\\overrightarrow{n}~ [\\neq \\overrightarrow{0}]~\r\n",
        "に垂直な直線\\\\\r\n",
        "\\quad \\quad \\overrightarrow{n} \\cdot (\\overrightarrow{p} - \\overrightarrow{a}) = 0\r\n",
        "\\quad \\quad \\overrightarrow{n}~は直線の法線ベクトル"
      ],
      "execution_count": null,
      "outputs": [
        {
          "output_type": "display_data",
          "data": {
            "text/latex": "直線のベクトル方程式\\\\\n\\mathrm{P}(\\overrightarrow{p})~を直線上の点とする。 s, t~ は媒介変数。\\\\\n1.~点~\\mathrm{A}(\\overrightarrow{a})~を通り、\\overrightarrow{d} ~ [\\neq \\overrightarrow{0}]\nに平行な直線\\\\\n\\quad \\quad \\overrightarrow{p} = \\overrightarrow{a} + t \\overrightarrow{d}\n\\quad \\quad \\overrightarrow{d}~は直線の方向ベクトル\\\\\n2.~異なる2点~\n\\mathrm{A}(\\overrightarrow{a}),\\mathrm{B}(\\overrightarrow{b})~を通る直線\\\\\n\\quad \\quad \\overrightarrow{p} = (1-t)\\overrightarrow{a} + t \\overrightarrow{b}\n\\quad \\quad \\overrightarrow{p} = s \\overrightarrow{a} + t \\overrightarrow{b}, ~ s+t=1 \\\\\n3.~点~\\mathrm{A}(\\overrightarrow{a})~を通り、\\overrightarrow{n}~ [\\neq \\overrightarrow{0}]~\nに垂直な直線\\\\\n\\quad \\quad \\overrightarrow{n} \\cdot (\\overrightarrow{p} - \\overrightarrow{a}) = 0\n\\quad \\quad \\overrightarrow{n}~は直線の法線ベクトル",
            "text/plain": [
              "<IPython.core.display.Latex object>"
            ]
          },
          "metadata": {
            "tags": []
          }
        }
      ]
    },
    {
      "cell_type": "code",
      "metadata": {
        "colab": {
          "base_uri": "https://localhost:8080/",
          "height": 131
        },
        "id": "kjluDcENcDcz",
        "outputId": "d7b5aeec-d77f-4b8f-b654-323fd425a38c"
      },
      "source": [
        "# 円のベクトル方程式\r\n",
        "%%latex\r\n",
        "円のベクトル方程式\\\\\r\n",
        "\\mathrm{P}(\\overrightarrow{p})~を円上の点とする。\\\\\r\n",
        "1.~中心~\\mathrm{C}(\\overrightarrow{c})、半径~r~の円~|\\overrightarrow{p}-\\overrightarrow{c}|=r\\\\\r\n",
        "2.~\\mathrm{A}(\\overrightarrow{a}),\\mathrm{B}(\\overrightarrow{b})、線分~\\mathrm{AB}~を直径とする円\\\\\r\n",
        "\\quad \\quad (\\overrightarrow{p}-\\overrightarrow{a}) \\cdot (\\overrightarrow{p} - \\overrightarrow{b}) = 0 \\\\"
      ],
      "execution_count": null,
      "outputs": [
        {
          "output_type": "display_data",
          "data": {
            "text/latex": "円のベクトル方程式\\\\\n\\mathrm{P}(\\overrightarrow{p})~を円上の点とする。\\\\\n1.~中心~\\mathrm{C}(\\overrightarrow{c})、半径~r~の円~|\\overrightarrow{p}-\\overrightarrow{c}|=r\\\\\n2.~\\mathrm{A}(\\overrightarrow{a}),\\mathrm{B}(\\overrightarrow{b})、線分~\\mathrm{AB}~を直径とする円\\\\\n\\quad \\quad (\\overrightarrow{p}-\\overrightarrow{a}) \\cdot (\\overrightarrow{p} - \\overrightarrow{b}) = 0 \\\\",
            "text/plain": [
              "<IPython.core.display.Latex object>"
            ]
          },
          "metadata": {
            "tags": []
          }
        }
      ]
    },
    {
      "cell_type": "code",
      "metadata": {
        "id": "nHiuH6Q21Zrl",
        "colab": {
          "base_uri": "https://localhost:8080/",
          "height": 133
        },
        "outputId": "8918fa10-87c2-4ac8-c2a2-bb745767d182"
      },
      "source": [
        "# AP = sAB + tAC の点 P の存在範囲\r\n",
        "%%latex\r\n",
        "\\overrightarrow{\\mathrm{AP}} = s\\overrightarrow{\\mathrm{AB}} + t\\overrightarrow{\\mathrm{AC}} の点~\\mathrm{P}~の存在範囲\\\\\r\n",
        "\\overrightarrow{\\mathrm{AB}} \\neq 0, \\overrightarrow{\\mathrm{AC}} \\neq 0, \\neg (\\overrightarrow{\\mathrm{AB}} \\parallel \\overrightarrow{\\mathrm{AC}})\r\n",
        "~とする。\\\\\r\n",
        "1.~s+t=1 \\quad \\Longrightarrow~直線~\\mathrm{BC}\\\\\r\n",
        "2.~s+t=1,s \\geq 0, t \\geq 0 \\quad \\Longrightarrow~線分~\\mathrm{BC}\\\\\r\n",
        "3.~s \\geq 0, t \\geq 0, s+t \\leq 1 \\quad \\Longrightarrow \\triangle \\mathrm{ABC}~の周と内部"
      ],
      "execution_count": null,
      "outputs": [
        {
          "output_type": "display_data",
          "data": {
            "text/latex": "\\overrightarrow{\\mathrm{AP}} = s\\overrightarrow{\\mathrm{AB}} + t\\overrightarrow{\\mathrm{AC}} の点~\\mathrm{P}~の存在範囲\\\\\n\\overrightarrow{\\mathrm{AB}} \\neq 0, \\overrightarrow{\\mathrm{AC}} \\neq 0, \\neg (\\overrightarrow{\\mathrm{AB}} \\parallel \\overrightarrow{\\mathrm{AC}})\n~とする。\\\\\n1.~s+t=1 \\quad \\Longrightarrow~直線~\\mathrm{BC}\\\\\n2.~s+t=1,s \\geq 0, t \\geq 0 \\quad \\Longrightarrow~線分~\\mathrm{BC}\\\\\n3.~s \\geq 0, t \\geq 0, s+t \\leq 1 \\quad \\Longrightarrow \\triangle \\mathrm{ABC}~の周と内部",
            "text/plain": [
              "<IPython.core.display.Latex object>"
            ]
          },
          "metadata": {
            "tags": []
          }
        }
      ]
    },
    {
      "cell_type": "markdown",
      "metadata": {
        "id": "PMNzhmv6Wo5n"
      },
      "source": [
        "# いまここ"
      ]
    },
    {
      "cell_type": "code",
      "metadata": {
        "id": "bG-QVoo94J3_",
        "colab": {
          "base_uri": "https://localhost:8080/",
          "height": 105
        },
        "outputId": "e9fc4a00-257e-43e3-d3eb-03240a6cea0d"
      },
      "source": [
        "# ベクトル方程式と座標 p.306\r\n",
        "%%latex\r\n",
        "\\displaystyle\r\n",
        "ベクトル方程式と座標\\\\\r\n",
        "\\mathrm{O}(0,0), \\overrightarrow{\\mathrm{OP}}=(x,y)~とすると~\\mathrm{P}(x,y)~であり、\r\n",
        "成分と座標が結びつく。 例えば、\\\\\r\n",
        "1.~\\overrightarrow{p}=\\overrightarrow{a}+t\\overrightarrow{d}~から\r\n",
        "\\left\\{ \r\n",
        "\\begin{array}{r}\r\n",
        " x=x_1+ct\\\\\r\n",
        " y=y_1+dt\r\n",
        "\\end{array}\r\n",
        "\\right.\r\n",
        "\\quad \\quad \\overrightarrow{d}=(c,d)~は方向ベクトル\\\\\r\n",
        "2.~\r\n",
        "\r\n",
        "\r\n",
        "\r\n"
      ],
      "execution_count": null,
      "outputs": [
        {
          "output_type": "display_data",
          "data": {
            "text/latex": "\\displaystyle\nベクトル方程式と座標\\\\\n\\mathrm{O}(0,0), \\overrightarrow{\\mathrm{OP}}=(x,y)~とすると~\\mathrm{P}(x,y)~であり、\n成分と座標が結びつく。 例えば、\\\\\n1.~\\overrightarrow{p}=\\overrightarrow{a}+t\\overrightarrow{d}~から\n\\left\\{ \n\\begin{array}{r}\n x=x_1+ct\\\\\n y=y_1+dt\n\\end{array}\n\\right.\n\\quad \\quad \\overrightarrow{d}=(c,d)~は方向ベクトル\\\\",
            "text/plain": [
              "<IPython.core.display.Latex object>"
            ]
          },
          "metadata": {
            "tags": []
          }
        }
      ]
    },
    {
      "cell_type": "code",
      "metadata": {
        "id": "ZxaeQ2ScWrkk",
        "outputId": "3cbe712a-be50-42e1-8879-12fdcf132c6c",
        "colab": {
          "base_uri": "https://localhost:8080/",
          "height": 91
        }
      },
      "source": [
        "# ベクトルの応用 p.48\r\n",
        "%%latex\r\n",
        "共線条件\\\\\r\n",
        "1.~3点~\\mathrm{A,B,C}~が一直線上にある\r\n",
        "\\quad \\quad \\Longleftrightarrow \\quad \\overrightarrow{\\mathrm{AC}} = k \\overrightarrow{\\mathrm{AB}}~となる~k~がある。\\\\\r\n",
        "2.~点~\\mathrm{P}~が直線~\\mathrm{AB}~上にある\r\n",
        "\\quad \\quad \\Longleftrightarrow \\quad \\overrightarrow{\\mathrm{OP}} = s \\overrightarrow{\\mathrm{OA}} + t\\overrightarrow{\\mathrm{OB}}, s+t=1~\r\n",
        "となる実数~s,t~がある\r\n"
      ],
      "execution_count": 12,
      "outputs": [
        {
          "output_type": "display_data",
          "data": {
            "text/latex": "共線条件\\\\\n1.~3点~\\mathrm{A,B,C}~が一直線上にある\n\\quad \\quad \\Longleftrightarrow \\quad \\overrightarrow{\\mathrm{AC}} = k \\overrightarrow{\\mathrm{AB}}~となる~k~がある。\\\\\n2.~点~\\mathrm{P}~が直線~\\mathrm{AB}~上にある\n\\quad \\quad \\Longleftrightarrow \\quad \\overrightarrow{\\mathrm{OP}} = s \\overrightarrow{\\mathrm{OA}} + t\\overrightarrow{\\mathrm{OB}}, s+t=1~\nとなる実数~s,t~がある",
            "text/plain": [
              "<IPython.core.display.Latex object>"
            ]
          },
          "metadata": {
            "tags": []
          }
        }
      ]
    },
    {
      "cell_type": "code",
      "metadata": {
        "id": "BksfvRUb8aDR",
        "outputId": "dc68393c-01ba-4934-f1b7-c8818bb109b1",
        "colab": {
          "base_uri": "https://localhost:8080/",
          "height": 195
        }
      },
      "source": [
        "# 図形とベクトルの内積 p.48\r\n",
        "%%latex\r\n",
        "\\displaystyle\r\n",
        "図形とベクトルの内積\\\\\r\n",
        "1.~線分の長さの~2~乗\\\\\r\n",
        "\\quad \\mathrm{AB}^2 = |\\overrightarrow{\\mathrm{AB}}|^2 = \\overrightarrow{\\mathrm{AB}} \\cdot \\overrightarrow{\\mathrm{AB}}\r\n",
        "~というように、線分の長さの~2~乗は内積で表される\\\\\r\n",
        "2.~垂直条件\\\\\r\n",
        "\\quad \\mathrm{AB} \\neq 0, \\mathrm{CD} \\neq 0~のとき~ \r\n",
        "\\mathrm{AB} \\perp \\mathrm{CD} \\Longleftrightarrow \\overrightarrow{\\mathrm{AB}} \\cdot \\overrightarrow{\\mathrm{CD}} = 0 \\\\\r\n",
        "3.~\\mathrm{AB}, \\mathrm{CD} ~のなす角 \\\\\r\n",
        "\\quad \\mathrm{AB}, \\mathrm{CD} ~のなす角 ~\\theta~ (0^\\circ \\leq \\theta \\leq 180^\\circ)\r\n",
        "~から~ \\cos \\theta = \\frac{\\overrightarrow{\\mathrm{AB}} \\cdot \\overrightarrow{\\mathrm{CD}}}{|AB||CD|}~ を利用。\r\n"
      ],
      "execution_count": 28,
      "outputs": [
        {
          "output_type": "display_data",
          "data": {
            "text/latex": "\\displaystyle\n図形とベクトルの内積\\\\\n1.~線分の長さの~2~乗\\\\\n\\quad \\mathrm{AB}^2 = |\\overrightarrow{\\mathrm{AB}}|^2 = \\overrightarrow{\\mathrm{AB}} \\cdot \\overrightarrow{\\mathrm{AB}}\n~というように、線分の長さの~2~乗は内積で表される\\\\\n2.~垂直条件\\\\\n\\quad \\mathrm{AB} \\neq 0, \\mathrm{CD} \\neq 0~のとき~ \n\\mathrm{AB} \\perp \\mathrm{CD} \\Longleftrightarrow \\overrightarrow{\\mathrm{AB}} \\cdot \\overrightarrow{\\mathrm{CD}} = 0 \\\\\n3.~\\mathrm{AB}, \\mathrm{CD} ~のなす角 \\\\\n\\quad \\mathrm{AB}, \\mathrm{CD} ~のなす角 ~\\theta~ (0^\\circ \\leq \\theta \\leq 180^\\circ)\n~から~ \\cos \\theta = \\frac{\\overrightarrow{\\mathrm{AB}} \\cdot \\overrightarrow{\\mathrm{CD}}}{|AB||CD|}~ を利用。",
            "text/plain": [
              "<IPython.core.display.Latex object>"
            ]
          },
          "metadata": {
            "tags": []
          }
        }
      ]
    },
    {
      "cell_type": "code",
      "metadata": {
        "id": "eZXJVKG5BD0w",
        "outputId": "229e7a93-8c9f-41d8-b449-244c2755ae1b",
        "colab": {
          "base_uri": "https://localhost:8080/"
        }
      },
      "source": [
        "# メラネウスの定理、チェバの定理\r\n",
        "%%latex\r\n"
      ],
      "execution_count": 29,
      "outputs": [
        {
          "output_type": "stream",
          "text": [
            "UsageError: %%latex is a cell magic, but the cell body is empty.\n"
          ],
          "name": "stderr"
        }
      ]
    }
  ]
}