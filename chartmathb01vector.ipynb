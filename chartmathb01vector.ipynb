{
  "nbformat": 4,
  "nbformat_minor": 0,
  "metadata": {
    "colab": {
      "name": "chartmathb01vector.ipynb",
      "provenance": [],
      "authorship_tag": "ABX9TyPuDOZftslJa0+bYSF0rdm4",
      "include_colab_link": true
    },
    "kernelspec": {
      "name": "python3",
      "display_name": "Python 3"
    }
  },
  "cells": [
    {
      "cell_type": "markdown",
      "metadata": {
        "id": "view-in-github",
        "colab_type": "text"
      },
      "source": [
        "<a href=\"https://colab.research.google.com/github/kalz2q/mycolabnotebooks/blob/master/chartmathb01vector.ipynb\" target=\"_parent\"><img src=\"https://colab.research.google.com/assets/colab-badge.svg\" alt=\"Open In Colab\"/></a>"
      ]
    },
    {
      "cell_type": "code",
      "metadata": {
        "id": "Df-P42nLxlqU"
      },
      "source": [
        "# メモ\r\n",
        "\r\n",
        "b01平面上のベクトル => chartmathb01vector.ipnyb"
      ],
      "execution_count": null,
      "outputs": []
    },
    {
      "cell_type": "code",
      "metadata": {
        "id": "MGwz53xnymZq",
        "outputId": "56ea66be-d2c3-4483-d2b9-17b40620b938",
        "colab": {
          "base_uri": "https://localhost:8080/",
          "height": 39
        }
      },
      "source": [
        "# 有効成分とベクトル\r\n",
        "\r\n",
        "# 有向線分 \r\n",
        "\r\n",
        "# で表されるベクトルを \r\n",
        "# \\overrightarrow{AB}\r\n",
        "# $で表す\r\n",
        "%%latex\r\n",
        "% 有効成分とベクトル\r\n",
        "AB"
      ],
      "execution_count": 14,
      "outputs": [
        {
          "output_type": "display_data",
          "data": {
            "text/latex": ";有効成分とベクトル\nAB",
            "text/plain": [
              "<IPython.core.display.Latex object>"
            ]
          },
          "metadata": {
            "tags": []
          }
        }
      ]
    },
    {
      "cell_type": "code",
      "metadata": {
        "id": "JmcKt65Ky4he"
      },
      "source": [
        "有効成分とベクトル\r\n",
        "\r\n",
        "有向線分 $AB$ で表されるベクトルを $\\overlongarrow{AB}$, ベクトル"
      ],
      "execution_count": null,
      "outputs": []
    }
  ]
}