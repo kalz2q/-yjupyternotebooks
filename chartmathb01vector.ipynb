{
  "nbformat": 4,
  "nbformat_minor": 0,
  "metadata": {
    "colab": {
      "name": "chartmathb01vector.ipynb",
      "provenance": [],
      "authorship_tag": "ABX9TyMpZjL5EKaVzzEhWKnS2thV",
      "include_colab_link": true
    },
    "kernelspec": {
      "name": "python3",
      "display_name": "Python 3"
    }
  },
  "cells": [
    {
      "cell_type": "markdown",
      "metadata": {
        "id": "view-in-github",
        "colab_type": "text"
      },
      "source": [
        "<a href=\"https://colab.research.google.com/github/kalz2q/mycolabnotebooks/blob/master/chartmathb01vector.ipynb\" target=\"_parent\"><img src=\"https://colab.research.google.com/assets/colab-badge.svg\" alt=\"Open In Colab\"/></a>"
      ]
    },
    {
      "cell_type": "code",
      "metadata": {
        "id": "Df-P42nLxlqU"
      },
      "source": [
        "# メモ\r\n",
        "\r\n",
        "b01平面上のベクトル => chartmathb01vector.ipnyb"
      ],
      "execution_count": null,
      "outputs": []
    },
    {
      "cell_type": "code",
      "metadata": {
        "id": "MGwz53xnymZq",
        "colab": {
          "base_uri": "https://localhost:8080/",
          "height": 208
        },
        "outputId": "82ceafb3-4458-46f8-f7f2-2824d5241dce"
      },
      "source": [
        "%%latex\r\n",
        "有向線分 \\mathrm{AB} を \\\\\r\n",
        "\\overrightarrow{\\mathrm{AB}} \\\\\r\n",
        "で表す。 \\\\\r\n",
        "ベクトルの大きさを \\\\\r\n",
        "|\\overrightarrow{\\mathrm{AB}}| \\\\\r\n",
        "と書く。 \\\\\r\n",
        "\\vec a , \\vec b , | \\vec a | \\\\\r\n",
        "と書くこともある。 \\\\\r\n",
        "   \\\\\r\n",
        "大きさが 1 であるベクトルを単位ベクトルという。 \\\\"
      ],
      "execution_count": 39,
      "outputs": [
        {
          "output_type": "display_data",
          "data": {
            "text/latex": "有向線分 \\mathrm{AB} を \\\\\n\\overrightarrow{\\mathrm{AB}} \\\\\nで表す。 \\\\\nベクトルの大きさを \\\\\n|\\overrightarrow{\\mathrm{AB}}| \\\\\nと書く。 \\\\\n\\vec a , \\vec b , | \\vec a | \\\\\nと書くこともある。 \\\\\n   \\\\\n大きさが 1 であるベクトルを単位ベクトルという。 \\\\",
            "text/plain": [
              "<IPython.core.display.Latex object>"
            ]
          },
          "metadata": {
            "tags": []
          }
        }
      ]
    },
    {
      "cell_type": "code",
      "metadata": {
        "id": "wJCdXBKuFHwO",
        "outputId": "0902770c-0c5f-4439-ab5a-1a2a07aabb29",
        "colab": {
          "base_uri": "https://localhost:8080/",
          "height": 79
        }
      },
      "source": [
        "%%latex\r\n",
        "\\vec a , \\vec b \\\\\r\n",
        "%% が等しいというのは、向きが同じで大きさが等しいことでこれを\r\n",
        "\\vec a = \\vec b \\\\\r\n",
        "で表す。\r\n"
      ],
      "execution_count": 26,
      "outputs": [
        {
          "output_type": "display_data",
          "data": {
            "text/latex": "\\vec a , \\vec b \\\\\n%% が等しいというのは、向きが同じで大きさが等しいことでこれを\n\\vec a = \\vec b \\\\\nで表す。",
            "text/plain": [
              "<IPython.core.display.Latex object>"
            ]
          },
          "metadata": {
            "tags": []
          }
        }
      ]
    },
    {
      "cell_type": "code",
      "metadata": {
        "id": "JmcKt65Ky4he"
      },
      "source": [
        "有効成分とベクトル\r\n",
        "\r\n",
        "有向線分 $AB$ で表されるベクトルを $\\overlongarrow{AB}$, ベクトル"
      ],
      "execution_count": null,
      "outputs": []
    }
  ]
}