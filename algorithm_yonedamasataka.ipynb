{
  "nbformat": 4,
  "nbformat_minor": 0,
  "metadata": {
    "colab": {
      "name": "algorithm_yonedamasataka.ipynb",
      "provenance": [],
      "toc_visible": true,
      "authorship_tag": "ABX9TyN9Or8WsLdhJPJVl5guC26j",
      "include_colab_link": true
    },
    "kernelspec": {
      "name": "python3",
      "display_name": "Python 3"
    },
    "language_info": {
      "name": "python"
    }
  },
  "cells": [
    {
      "cell_type": "markdown",
      "metadata": {
        "id": "view-in-github",
        "colab_type": "text"
      },
      "source": [
        "<a href=\"https://colab.research.google.com/github/kalz2q/mycolabnotebooks/blob/master/algorithm_yonedamasataka.ipynb\" target=\"_parent\"><img src=\"https://colab.research.google.com/assets/colab-badge.svg\" alt=\"Open In Colab\"/></a>"
      ]
    },
    {
      "cell_type": "markdown",
      "source": [
        "# メモ\n",
        "問題解決のためのアルゴリズムx数学が基礎からしっかり身につく本米田優峻\n",
        "を読む  \n",
        "https://github.com/E869120/math-algorithm-book\n"
      ],
      "metadata": {
        "id": "TByssf4R4q9-"
      }
    },
    {
      "cell_type": "code",
      "source": [
        "# 読み方が分からないのでとりあえず節末問題を眺めながら進もう\n",
        "\n",
        "# 問題 2.1.1 以下の数のうち整数をすべて選べ、とか #=> 省略\n",
        "\n",
        "# 問題 2.1.2 省略\n",
        "\n",
        "# 問題 2.1.3 A_1, A_2, A_3 を入力し、A_1 A_2 A_3 を出力するプログラムを作成する。例 2 8 8 => 128\n",
        "%%writefile temp.cpp\n",
        "#include <bits/stdc++.h>\n",
        "using namespace std;\n",
        "int main () {\n",
        "    vector<int> vec(3);\n",
        "    for (int i = 0; i < 3; i++) cin >> vec.at(i);\n",
        "    cout << vec.at(0) * vec.at(1) * vec.at(2) << endl; // 128\n",
        "}"
      ],
      "metadata": {
        "id": "6m7TtL6N-Z8e",
        "outputId": "d72dd4c1-8050-4ef7-90c4-2f420327d64a",
        "colab": {
          "base_uri": "https://localhost:8080/"
        }
      },
      "execution_count": null,
      "outputs": [
        {
          "output_type": "stream",
          "name": "stdout",
          "text": [
            "Writing temp.cpp\n"
          ]
        }
      ]
    },
    {
      "cell_type": "code",
      "source": [
        "!g++ temp.cpp; echo 2 8 8 |./a.out #=> 128"
      ],
      "metadata": {
        "id": "vYyTGeXFA2vb",
        "outputId": "e635ba8b-7a42-4eab-f61f-0f716a409ef0",
        "colab": {
          "base_uri": "https://localhost:8080/"
        }
      },
      "execution_count": null,
      "outputs": [
        {
          "output_type": "stream",
          "name": "stdout",
          "text": [
            "128\n"
          ]
        }
      ]
    },
    {
      "cell_type": "code",
      "execution_count": null,
      "metadata": {
        "id": "2mCyZjpc4qMM",
        "outputId": "0c97438c-537b-457f-c00b-a9bbb6e942ea",
        "colab": {
          "base_uri": "https://localhost:8080/"
        }
      },
      "outputs": [
        {
          "output_type": "stream",
          "name": "stdout",
          "text": [
            "Overwriting temp.cpp\n"
          ]
        }
      ],
      "source": [
        "# 問題 2.1.4.1 手計算で 0b1001 を 10 進法に変換する\n",
        "%%writefile temp.cpp\n",
        "#include <bits/stdc++.h>\n",
        "using namespace std;\n",
        "int main () {\n",
        "    cout << 0b1001 << endl; //=> 9\n",
        "}"
      ]
    },
    {
      "cell_type": "code",
      "source": [
        "!g++ temp.cpp; echo |./a.out "
      ],
      "metadata": {
        "id": "Uc5Lm0v2Dr8e",
        "outputId": "239789b8-1fc2-4c23-c3a6-7e8ddf9e6f0e",
        "colab": {
          "base_uri": "https://localhost:8080/"
        }
      },
      "execution_count": null,
      "outputs": [
        {
          "output_type": "stream",
          "name": "stdout",
          "text": [
            "9\n"
          ]
        }
      ]
    },
    {
      "cell_type": "code",
      "source": [
        "# 問題 2.1.4.2 手計算で 127 を 2 進法、3 進法に変換する\n",
        "%%writefile temp.cpp\n",
        "#include <bits/stdc++.h>\n",
        "using namespace std;\n",
        "\n",
        "string convert10tob(int num, int base) {\n",
        "    if (num == 0) return \"\";\n",
        "    else return convert10tob(num / base, base) + to_string(num % base);\n",
        "}\n",
        "int main () {\n",
        "    int num = 127;\n",
        "    cout << convert10tob(num, 2) << endl; // 1111111\n",
        "    cout << convert10tob(num, 3) << endl; // 11201\n",
        "}"
      ],
      "metadata": {
        "id": "Cnz7-KYsDgZO",
        "outputId": "23105ab4-2278-486d-b734-485d974049a1",
        "colab": {
          "base_uri": "https://localhost:8080/"
        }
      },
      "execution_count": null,
      "outputs": [
        {
          "output_type": "stream",
          "name": "stdout",
          "text": [
            "Overwriting temp.cpp\n"
          ]
        }
      ]
    },
    {
      "cell_type": "code",
      "source": [
        "!g++ temp.cpp; echo |./a.out "
      ],
      "metadata": {
        "id": "Z8zdZChFFQ7-"
      },
      "execution_count": null,
      "outputs": []
    },
    {
      "cell_type": "code",
      "source": [
        "# p.30\n",
        "# 問題 2.2.1 1 万, 1 億、1 兆はそれぞれ 10 の何乗ですか => 4, 8, 12 なのだが\n",
        "# 関連して思いついた問題 アボガドロ定数（6.02×10^23）を日本語で位取りして示せ \n",
        "# 京が 16 乗、垓が 20 乗なので 600 垓"
      ],
      "metadata": {
        "id": "9mUqUeNXFUTQ",
        "outputId": "6ca5bbad-a492-4a08-c707-3b935600507d",
        "colab": {
          "base_uri": "https://localhost:8080/"
        }
      },
      "execution_count": null,
      "outputs": [
        {
          "output_type": "stream",
          "name": "stdout",
          "text": [
            "Overwriting temp.cpp\n"
          ]
        }
      ]
    },
    {
      "cell_type": "code",
      "source": [
        "# 問題 2.2.2.1 sqrt(841) と 29^2 を計算せよ\n",
        "%%writefile temp.cpp\n",
        "#include <bits/stdc++.h>\n",
        "using namespace std;\n",
        "\n",
        "int main () {\n",
        "    cout << pow(841, 0.5) << endl; // 29\n",
        "    cout << pow(29, 2) << endl; // 841\n",
        "}"
      ],
      "metadata": {
        "colab": {
          "base_uri": "https://localhost:8080/"
        },
        "id": "HgRdUGLUMtOm",
        "outputId": "e7b0efa9-d6d8-494d-a916-f78c2598be88"
      },
      "execution_count": null,
      "outputs": [
        {
          "output_type": "stream",
          "name": "stdout",
          "text": [
            "Overwriting temp.cpp\n"
          ]
        }
      ]
    },
    {
      "cell_type": "code",
      "source": [
        "!g++ temp.cpp; echo |./a.out "
      ],
      "metadata": {
        "colab": {
          "base_uri": "https://localhost:8080/"
        },
        "id": "MZuF4za9O04C",
        "outputId": "73698d58-945a-4bf6-bf78-e7a7cbfa0a01"
      },
      "execution_count": null,
      "outputs": [
        {
          "output_type": "stream",
          "name": "stdout",
          "text": [
            "29\n",
            "841\n"
          ]
        }
      ]
    },
    {
      "cell_type": "code",
      "source": [
        "# 問題 2.2.2.2 sqrt{5}{1024} (5 乗根) 、 4^5 を計算する\n",
        "%%writefile temp.cpp\n",
        "#include <bits/stdc++.h>\n",
        "using namespace std;\n",
        "\n",
        "int main () {\n",
        "    cout << pow(1024, 0.2) << endl; // 4\n",
        "    cout << pow(4, 5) << endl; // 1024\n",
        "}"
      ],
      "metadata": {
        "outputId": "92439725-96cd-4801-97e8-27f6f32449c7",
        "colab": {
          "base_uri": "https://localhost:8080/"
        },
        "id": "bxnz9BN8PAEX"
      },
      "execution_count": null,
      "outputs": [
        {
          "output_type": "stream",
          "name": "stdout",
          "text": [
            "Overwriting temp.cpp\n"
          ]
        }
      ]
    },
    {
      "cell_type": "code",
      "source": [
        "!g++ temp.cpp; echo |./a.out "
      ],
      "metadata": {
        "outputId": "c4009cc0-420d-4998-ce58-ce3ee60b40a4",
        "colab": {
          "base_uri": "https://localhost:8080/"
        },
        "id": "0473sj1GPAEZ"
      },
      "execution_count": null,
      "outputs": [
        {
          "output_type": "stream",
          "name": "stdout",
          "text": [
            "4\n",
            "1024\n"
          ]
        }
      ]
    },
    {
      "cell_type": "code",
      "source": [
        "# 問題 2.2.3.1 13 AND 14, 13 OR 14, 13 XOR 14 をそれぞれ計算する\n",
        "%%writefile temp.cpp\n",
        "#include <bits/stdc++.h>\n",
        "using namespace std;\n",
        "\n",
        "int main () {\n",
        "    int a = 13, b = 14;\n",
        "    cout << bitset<8>(a) << \", \" << bitset<8>(b) << endl;\n",
        "    cout << (a & b) << endl; // 12\n",
        "    cout << (a | b) << endl; // 15\n",
        "    cout << (a ^ b) << endl; // 3\n",
        "}"
      ],
      "metadata": {
        "id": "JeWltGHsPrUM",
        "outputId": "959c93d9-1e7e-43e8-ade0-2fa73aa55929",
        "colab": {
          "base_uri": "https://localhost:8080/"
        }
      },
      "execution_count": null,
      "outputs": [
        {
          "output_type": "stream",
          "name": "stdout",
          "text": [
            "Overwriting temp.cpp\n"
          ]
        }
      ]
    },
    {
      "cell_type": "code",
      "source": [
        "!g++ temp.cpp; echo |./a.out "
      ],
      "metadata": {
        "id": "CoMiTpcrPrJE",
        "outputId": "64ae9b11-5d04-4c60-d30f-1f509f3d526f",
        "colab": {
          "base_uri": "https://localhost:8080/"
        }
      },
      "execution_count": null,
      "outputs": [
        {
          "output_type": "stream",
          "name": "stdout",
          "text": [
            "00001101, 00001110\n",
            "12\n",
            "15\n",
            "3\n"
          ]
        }
      ]
    },
    {
      "cell_type": "code",
      "source": [
        "# 問題 2.2.4 n 個の整数の合計を 100 で割った mod を出力する\n",
        "%%writefile temp.cpp\n",
        "#include <bits/stdc++.h>\n",
        "using namespace std;\n",
        "\n",
        "int main() {\n",
        "\tint n = 3;\n",
        "\tvector<int> vec{3, 7, 8};\n",
        "\tint ans = 0;\n",
        "\n",
        "\tans = accumulate (vec.begin(), vec.end(), 0, plus<>());\n",
        "\t\n",
        "\tcout << ans % 100 << endl;\n",
        "}"
      ],
      "metadata": {
        "id": "YB16_tflPrEu",
        "outputId": "77640b66-7b3a-4066-b9ce-692a471b4818",
        "colab": {
          "base_uri": "https://localhost:8080/"
        }
      },
      "execution_count": null,
      "outputs": [
        {
          "output_type": "stream",
          "name": "stdout",
          "text": [
            "Overwriting temp.cpp\n"
          ]
        }
      ]
    },
    {
      "cell_type": "code",
      "source": [
        "!g++ temp.cpp; echo |./a.out "
      ],
      "metadata": {
        "id": "W32g20xOf7JA",
        "outputId": "4fb43420-b7a1-49af-8cd9-a101c7ae23b4",
        "colab": {
          "base_uri": "https://localhost:8080/"
        }
      },
      "execution_count": null,
      "outputs": [
        {
          "output_type": "stream",
          "name": "stdout",
          "text": [
            "18\n"
          ]
        }
      ]
    },
    {
      "cell_type": "code",
      "source": [
        "# p.39\n",
        "# 問題  2.3.1 f(x) = x^3 の時、 f(11), f(5), f(10) を求める\n",
        "%%writefile temp.cpp\n",
        "#include <bits/stdc++.h>\n",
        "using namespace std;\n",
        "\n",
        "int f (int x) {return pow(x, 3);}\n",
        "\n",
        "int main() {\n",
        "\tcout << f (11) << endl;\n",
        "\tcout << f (5) << endl;\n",
        "\tcout << f (10) << endl;\n",
        "}"
      ],
      "metadata": {
        "id": "tQQadCgk-mjL",
        "outputId": "edd05649-4356-47c6-be56-6d169b5e8d73",
        "colab": {
          "base_uri": "https://localhost:8080/"
        }
      },
      "execution_count": null,
      "outputs": [
        {
          "output_type": "stream",
          "name": "stdout",
          "text": [
            "Overwriting temp.cpp\n"
          ]
        }
      ]
    },
    {
      "cell_type": "code",
      "source": [
        "!g++ temp.cpp; echo |./a.out "
      ],
      "metadata": {
        "id": "jnRYAV9n_Q87",
        "outputId": "8dc91049-5746-42be-d549-ed3c5df2a7c2",
        "colab": {
          "base_uri": "https://localhost:8080/"
        }
      },
      "execution_count": null,
      "outputs": [
        {
          "output_type": "stream",
          "name": "stdout",
          "text": [
            "1331\n",
            "125\n",
            "1000\n"
          ]
        }
      ]
    },
    {
      "cell_type": "code",
      "source": [
        "# 問題 2.3.2.1 log_2 {8} を計算する\n",
        "%%writefile temp.cpp\n",
        "#include <bits/stdc++.h>\n",
        "using namespace std;\n",
        "\n",
        "int main() {\n",
        "    cout << log2(8) << endl;\n",
        "}"
      ],
      "metadata": {
        "id": "Ea_ZLMz6AUGh",
        "outputId": "75cdb9d1-2dc0-4023-9009-557d612d08bb",
        "colab": {
          "base_uri": "https://localhost:8080/"
        }
      },
      "execution_count": null,
      "outputs": [
        {
          "output_type": "stream",
          "name": "stdout",
          "text": [
            "Overwriting temp.cpp\n"
          ]
        }
      ]
    },
    {
      "cell_type": "code",
      "source": [
        "!g++ temp.cpp; echo |./a.out "
      ],
      "metadata": {
        "id": "8Q3xxs-MA_s8",
        "outputId": "bf0eea39-d3ba-4e2d-e6a7-f3c65f3f7a89",
        "colab": {
          "base_uri": "https://localhost:8080/"
        }
      },
      "execution_count": null,
      "outputs": [
        {
          "output_type": "stream",
          "name": "stdout",
          "text": [
            "3\n"
          ]
        }
      ]
    },
    {
      "cell_type": "code",
      "source": [
        "# 問題 2.3.2.2 100^1.5 を計算する\n",
        "%%writefile temp.cpp\n",
        "#include <bits/stdc++.h>\n",
        "using namespace std;\n",
        "\n",
        "int main() {\n",
        "    cout << pow(100, 1.5) << endl;\n",
        "}"
      ],
      "metadata": {
        "id": "W5UoxTYyA_pA",
        "outputId": "01318595-d5c3-422c-a498-84aa02167da9",
        "colab": {
          "base_uri": "https://localhost:8080/"
        }
      },
      "execution_count": null,
      "outputs": [
        {
          "output_type": "stream",
          "name": "stdout",
          "text": [
            "Overwriting temp.cpp\n"
          ]
        }
      ]
    },
    {
      "cell_type": "code",
      "source": [
        "!g++ temp.cpp; echo |./a.out "
      ],
      "metadata": {
        "id": "ObTOSANjBrcL",
        "outputId": "470b3277-f6fe-466e-cdb8-64595b4dac05",
        "colab": {
          "base_uri": "https://localhost:8080/"
        }
      },
      "execution_count": null,
      "outputs": [
        {
          "output_type": "stream",
          "name": "stdout",
          "text": [
            "1000\n"
          ]
        }
      ]
    },
    {
      "cell_type": "code",
      "source": [
        "# 問題 2.3.2.3 floor \\left\\lfloor 20.21 \\right\\rfloor, ceil \\left\\lceil 20.21 \\right\\rceil を求める\n",
        "%%latex\n",
        " \\left\\lfloor 20.21 \\right\\rfloor,  \\left\\lceil 20.21 \\right\\rceil"
      ],
      "metadata": {
        "id": "7mOE3oCTBrpJ",
        "outputId": "3eac3060-141e-4939-c138-ebc4da78a6b7",
        "colab": {
          "base_uri": "https://localhost:8080/",
          "height": 37
        }
      },
      "execution_count": null,
      "outputs": [
        {
          "output_type": "display_data",
          "data": {
            "text/plain": [
              "<IPython.core.display.Latex object>"
            ],
            "text/latex": " \\left\\lfloor 20.21 \\right\\rfloor,  \\left\\lceil 20.21 \\right\\rceil"
          },
          "metadata": {}
        }
      ]
    },
    {
      "cell_type": "code",
      "source": [
        "# 問題 2.3.2.3 ⌊20.21⌋, ⌈20.21⌉ を求める\n",
        "%%writefile temp.cpp\n",
        "#include <bits/stdc++.h>\n",
        "using namespace std;\n",
        "\n",
        "int main() {\n",
        "    cout << floor(20.21) << endl;\n",
        "    cout << ceil(20.21) << endl;\n",
        "}"
      ],
      "metadata": {
        "id": "pNdm7R6rDmO2"
      },
      "execution_count": null,
      "outputs": []
    },
    {
      "cell_type": "code",
      "source": [
        "!g++ temp.cpp; echo |./a.out "
      ],
      "metadata": {
        "id": "0V1cyf6dA_lx",
        "outputId": "6f8d7004-f378-4eb5-b2e3-5330cb4ced8c",
        "colab": {
          "base_uri": "https://localhost:8080/"
        }
      },
      "execution_count": null,
      "outputs": [
        {
          "output_type": "stream",
          "name": "stdout",
          "text": [
            "20\n",
            "21\n"
          ]
        }
      ]
    },
    {
      "cell_type": "code",
      "source": [
        "# 問題 2.3.3.1 y = 2 * x + 3 のグラフを描く\n",
        "from sympy.abc import *\n",
        "from sympy import *\n",
        "y = 2 * x + 3\n",
        "p = plot(y);"
      ],
      "metadata": {
        "id": "Cd-GrUhMCrJS",
        "outputId": "c0590e4f-efd4-46e7-fe33-6ef92c74c8b6",
        "colab": {
          "base_uri": "https://localhost:8080/",
          "height": 297
        }
      },
      "execution_count": null,
      "outputs": [
        {
          "output_type": "display_data",
          "data": {
            "text/plain": [
              "<Figure size 432x288 with 1 Axes>"
            ],
            "image/png": "[encoded data removed]"
          },
          "metadata": {
            "needs_background": "light"
          }
        }
      ]
    },
    {
      "cell_type": "code",
      "source": [
        "# 問題 2.3.3.2 y = 10 ^ x のグラフを描く\n",
        "from sympy.abc import *\n",
        "from sympy import *\n",
        "y = 10 ** x\n",
        "p = plot(y,(x,-1,1.2));"
      ],
      "metadata": {
        "id": "wS8vH0-KD6JB",
        "outputId": "4e23c102-8cca-4dee-e181-5b0b7ec5ed43",
        "colab": {
          "base_uri": "https://localhost:8080/",
          "height": 297
        }
      },
      "execution_count": null,
      "outputs": [
        {
          "output_type": "display_data",
          "data": {
            "text/plain": [
              "<Figure size 432x288 with 1 Axes>"
            ],
            "image/png": "[encoded data removed]"
          },
          "metadata": {
            "needs_background": "light"
          }
        }
      ]
    },
    {
      "cell_type": "code",
      "source": [
        "# 問題 2.3.3.3 y = log_4 {x} のグラフを描く\n",
        "from sympy.abc import *\n",
        "from sympy import *\n",
        "y = log(x)/log(4)\n",
        "p = plot(y, (x,0.1,4.2));"
      ],
      "metadata": {
        "id": "xyGSvqpdD6hU",
        "outputId": "49ea60f7-9390-438f-ac26-1d7341cfd4f1",
        "colab": {
          "base_uri": "https://localhost:8080/",
          "height": 297
        }
      },
      "execution_count": null,
      "outputs": [
        {
          "output_type": "display_data",
          "data": {
            "text/plain": [
              "<Figure size 432x288 with 1 Axes>"
            ],
            "image/png": "[encoded data removed]"
          },
          "metadata": {
            "needs_background": "light"
          }
        }
      ]
    },
    {
      "cell_type": "code",
      "source": [
        "# 問題 2.3.3.4 y = log_2 {x} / 2 のグラフを描く\n",
        "from sympy.abc import *\n",
        "from sympy import *\n",
        "y = log(x)/log(2) / 2\n",
        "p = plot(y, (x,0.1,4.2));"
      ],
      "metadata": {
        "id": "w5FOTYdID6tv",
        "outputId": "a608dc32-e3be-400e-e2b8-9f0fd00254eb",
        "colab": {
          "base_uri": "https://localhost:8080/",
          "height": 297
        }
      },
      "execution_count": null,
      "outputs": [
        {
          "output_type": "display_data",
          "data": {
            "text/plain": [
              "<Figure size 432x288 with 1 Axes>"
            ],
            "image/png": "[encoded data removed]"
          },
          "metadata": {
            "needs_background": "light"
          }
        }
      ]
    },
    {
      "cell_type": "code",
      "source": [
        "# 問題 2.3.4.1 f(x) = 2^x とする時、 f(20) の値を計算する\n",
        "%%writefile temp.cpp\n",
        "#include <bits/stdc++.h>\n",
        "using namespace std;\n",
        "\n",
        "double f (double x) {return pow(2, x);}\n",
        "\n",
        "int main() {\n",
        "    cout << f(20) << endl;\n",
        "}"
      ],
      "metadata": {
        "id": "KabCuAX4MiLz",
        "outputId": "d0f30369-b301-4e4b-f961-c21433ac69af",
        "colab": {
          "base_uri": "https://localhost:8080/"
        }
      },
      "execution_count": null,
      "outputs": [
        {
          "output_type": "stream",
          "name": "stdout",
          "text": [
            "Writing temp.cpp\n"
          ]
        }
      ]
    },
    {
      "cell_type": "code",
      "source": [
        "!g++ temp.cpp; echo |./a.out "
      ],
      "metadata": {
        "id": "dHSyb3RdIc7O",
        "outputId": "82f73f7a-83ec-4e44-f161-ddc29c1efaa8",
        "colab": {
          "base_uri": "https://localhost:8080/"
        }
      },
      "execution_count": null,
      "outputs": [
        {
          "output_type": "stream",
          "name": "stdout",
          "text": [
            "1.04858e+06\n"
          ]
        }
      ]
    },
    {
      "cell_type": "code",
      "source": [
        "# 問題 2.3.4.2 2^10 = 1024 は 1000 と近いことから 2^20 の値がおよそ 10^6 であることを確認する\n",
        "# 2^20 => 2^10 * 2^10 => おおよそ 1000 * 1000 => 10^6"
      ],
      "metadata": {
        "id": "Kafvc-nXIzXk"
      },
      "execution_count": null,
      "outputs": []
    },
    {
      "cell_type": "code",
      "source": [
        "# 問題 2.3.5.1 関数 g(x) = log_10{x} とする時、g(1000000) の値を計算する\n",
        "%%writefile temp.cpp\n",
        "#include <bits/stdc++.h>\n",
        "using namespace std;\n",
        "\n",
        "double g (double x) {return (log(x)/log(10));}\n",
        "\n",
        "int main() {\n",
        "    cout << g(1000000) << endl; // 6\n",
        "}"
      ],
      "metadata": {
        "id": "VnQ8ShiPJbU5",
        "colab": {
          "base_uri": "https://localhost:8080/"
        },
        "outputId": "1add2d3f-5f24-4b81-d668-8b5f7b029612"
      },
      "execution_count": 3,
      "outputs": [
        {
          "output_type": "stream",
          "name": "stdout",
          "text": [
            "Overwriting temp.cpp\n"
          ]
        }
      ]
    },
    {
      "cell_type": "code",
      "source": [
        "!g++ temp.cpp; echo |./a.out "
      ],
      "metadata": {
        "id": "XyfCJsVPJbPd",
        "colab": {
          "base_uri": "https://localhost:8080/"
        },
        "outputId": "4eee9b86-b91f-46e7-f053-13adc8f7969f"
      },
      "execution_count": 4,
      "outputs": [
        {
          "output_type": "stream",
          "name": "stdout",
          "text": [
            "6\n"
          ]
        }
      ]
    },
    {
      "cell_type": "code",
      "source": [
        "# 問題 2.3.5.2 対数関係の公式を使って、log_2{16N} - log_2{N} の値を計算する。\n",
        "# ただし、N は正の整数とする\n",
        "# 与式 = log_2{16} + log_2{N} - log_2{N}\n",
        "# = 4"
      ],
      "metadata": {
        "id": "Yb0TW8yPJbHM"
      },
      "execution_count": null,
      "outputs": []
    },
    {
      "cell_type": "code",
      "source": [
        "# 問題 2.3.6 マグニチュードが 1 増えるたびにエネルギーは 32 倍 (正確には sqrt{1000} 倍) になる\n",
        "# ここでは 32 倍ということにする。その時、\n",
        "# マグニチュード 6.0 は 5.0 の何倍か => 32 倍\n",
        "# マグニチュード 7.3 は 5.3 の何倍か => 32*32 => 1024 倍\n",
        "# マグニチュード 9.0 は 7.2 の何倍か => 32^1.8 => 512 倍"
      ],
      "metadata": {
        "id": "WDMQoTuYJa5u"
      },
      "execution_count": null,
      "outputs": []
    },
    {
      "cell_type": "markdown",
      "source": [
        "# いまここ"
      ],
      "metadata": {
        "id": "iA9PT-kyMvic"
      }
    },
    {
      "cell_type": "code",
      "source": [
        "# 問題 2.3.7 正の整数 x を 2 進法で表した時の桁数を y とします。 y を x の式で表せ\n",
        "# 1 桁 => {0, 1}, 2 => {2, 3}, 3 => {4, 5, 6, 7}. 4 => {8, 9, 10, 11, 12, 13, 14, 15}\n",
        "# y = floor(log_2{x}) + 1"
      ],
      "metadata": {
        "id": "LNAVSQbpxq7R"
      },
      "execution_count": null,
      "outputs": []
    },
    {
      "cell_type": "code",
      "source": [
        "# 問題 2.3.7 次の条件を満たす関数 f(x) を 1 つ見つける\n",
        "# * すべての実数 a について、0 < f(a) < 1 である\n",
        "# * f(x) は単調増加な関数である\n",
        "# f(x) = 1 / {1 + 2^{-1}}\n",
        "# シグモイド関数\n",
        "# など"
      ],
      "metadata": {
        "id": "8qlg3zmVxq37"
      },
      "execution_count": null,
      "outputs": []
    },
    {
      "cell_type": "code",
      "source": [
        "# p.53\n",
        "# 問題 2.4.1.1 計算量を O 記法で表す T_1(N) = 2021 N^3 + 1225 N^2\n",
        "# 問題 2.4.1.2 計算量を O 記法で表す T_2(N) = \n",
        "# 問題 2.4.1.3 計算量を O 記法で表す T_3(N) = \n",
        "# 問題 2.4.1.4 計算量を O 記法で表す T_4(N) = "
      ],
      "metadata": {
        "id": "Cjq1GYH2xqzf"
      },
      "execution_count": null,
      "outputs": []
    },
    {
      "cell_type": "markdown",
      "source": [
        "# EOF"
      ],
      "metadata": {
        "id": "goC5wxn0debP"
      }
    }
  ]
}