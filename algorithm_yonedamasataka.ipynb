{
  "nbformat": 4,
  "nbformat_minor": 0,
  "metadata": {
    "colab": {
      "name": "algorithm_yonedamasataka.ipynb",
      "provenance": [],
      "toc_visible": true,
      "authorship_tag": "ABX9TyMnDO9ko4OHnsHZ5sZ0OtTR",
      "include_colab_link": true
    },
    "kernelspec": {
      "name": "python3",
      "display_name": "Python 3"
    },
    "language_info": {
      "name": "python"
    }
  },
  "cells": [
    {
      "cell_type": "markdown",
      "metadata": {
        "id": "view-in-github",
        "colab_type": "text"
      },
      "source": [
        "<a href=\"https://colab.research.google.com/github/kalz2q/mycolabnotebooks/blob/master/algorithm_yonedamasataka.ipynb\" target=\"_parent\"><img src=\"https://colab.research.google.com/assets/colab-badge.svg\" alt=\"Open In Colab\"/></a>"
      ]
    },
    {
      "cell_type": "markdown",
      "source": [
        "# メモ\n",
        "問題解決のためのアルゴリズムx数学が基礎からしっかり身につく本米田優峻\n",
        "を読む  \n",
        "https://github.com/E869120/math-algorithm-book\n"
      ],
      "metadata": {
        "id": "TByssf4R4q9-"
      }
    },
    {
      "cell_type": "code",
      "source": [
        "# 読み方が分からないのでとりあえず節末問題を眺めながら進もう\n",
        "\n",
        "# 問題 2.1.1 以下の数のうち整数をすべて選べ、とか #=> 省略\n",
        "\n",
        "# 問題 2.1.2 省略\n",
        "\n",
        "# 問題 2.1.3 A_1, A_2, A_3 を入力し、A_1 A_2 A_3 を出力するプログラムを作成する。例 2 8 8 => 128\n",
        "%%writefile temp.cpp\n",
        "#include <bits/stdc++.h>\n",
        "using namespace std;\n",
        "int main () {\n",
        "    vector<int> vec(3);\n",
        "    for (int i = 0; i < 3; i++) cin >> vec.at(i);\n",
        "    cout << vec.at(0) * vec.at(1) * vec.at(2) << endl; // 128\n",
        "}"
      ],
      "metadata": {
        "id": "6m7TtL6N-Z8e",
        "outputId": "d72dd4c1-8050-4ef7-90c4-2f420327d64a",
        "colab": {
          "base_uri": "https://localhost:8080/"
        }
      },
      "execution_count": 1,
      "outputs": [
        {
          "output_type": "stream",
          "name": "stdout",
          "text": [
            "Writing temp.cpp\n"
          ]
        }
      ]
    },
    {
      "cell_type": "code",
      "source": [
        "!g++ temp.cpp; echo 2 8 8 |./a.out #=> 128"
      ],
      "metadata": {
        "id": "vYyTGeXFA2vb",
        "outputId": "e635ba8b-7a42-4eab-f61f-0f716a409ef0",
        "colab": {
          "base_uri": "https://localhost:8080/"
        }
      },
      "execution_count": 2,
      "outputs": [
        {
          "output_type": "stream",
          "name": "stdout",
          "text": [
            "128\n"
          ]
        }
      ]
    },
    {
      "cell_type": "code",
      "execution_count": 3,
      "metadata": {
        "id": "2mCyZjpc4qMM",
        "outputId": "0c97438c-537b-457f-c00b-a9bbb6e942ea",
        "colab": {
          "base_uri": "https://localhost:8080/"
        }
      },
      "outputs": [
        {
          "output_type": "stream",
          "name": "stdout",
          "text": [
            "Overwriting temp.cpp\n"
          ]
        }
      ],
      "source": [
        "# 問題 2.1.4.1 手計算で 0b1001 を 10 進法に変換する\n",
        "%%writefile temp.cpp\n",
        "#include <bits/stdc++.h>\n",
        "using namespace std;\n",
        "int main () {\n",
        "    cout << 0b1001 << endl; //=> 9\n",
        "}"
      ]
    },
    {
      "cell_type": "code",
      "source": [
        "!g++ temp.cpp; echo |./a.out "
      ],
      "metadata": {
        "id": "Uc5Lm0v2Dr8e",
        "outputId": "239789b8-1fc2-4c23-c3a6-7e8ddf9e6f0e",
        "colab": {
          "base_uri": "https://localhost:8080/"
        }
      },
      "execution_count": 4,
      "outputs": [
        {
          "output_type": "stream",
          "name": "stdout",
          "text": [
            "9\n"
          ]
        }
      ]
    },
    {
      "cell_type": "code",
      "source": [
        "# 問題 2.1.4.2 手計算で 127 を 2 進法、3 進法に変換する\n",
        "%%writefile temp.cpp\n",
        "#include <bits/stdc++.h>\n",
        "using namespace std;\n",
        "\n",
        "string convert10tob(int num, int base) {\n",
        "    if (num == 0) return \"\";\n",
        "    else return convert10tob(num / base, base) + to_string(num % base);\n",
        "}\n",
        "int main () {\n",
        "    int num = 127;\n",
        "    cout << convert10tob(num, 2) << endl; // 1111111\n",
        "    cout << convert10tob(num, 3) << endl; // 11201\n",
        "}"
      ],
      "metadata": {
        "id": "Cnz7-KYsDgZO",
        "outputId": "23105ab4-2278-486d-b734-485d974049a1",
        "colab": {
          "base_uri": "https://localhost:8080/"
        }
      },
      "execution_count": 11,
      "outputs": [
        {
          "output_type": "stream",
          "name": "stdout",
          "text": [
            "Overwriting temp.cpp\n"
          ]
        }
      ]
    },
    {
      "cell_type": "code",
      "source": [
        "!g++ temp.cpp; echo |./a.out "
      ],
      "metadata": {
        "id": "Z8zdZChFFQ7-"
      },
      "execution_count": null,
      "outputs": []
    },
    {
      "cell_type": "code",
      "source": [
        "# p.30\n",
        "# 問題 2.2.1 1 万, 1 億、1 兆はそれぞれ 10 の何乗ですか => 4, 8, 12 なのだが\n",
        "# 関連して思いついた問題 アボガドロ定数（6.02×10^23）を日本語で位取りして示せ \n",
        "# 京が 16 乗、垓が 20 乗なので 600 垓"
      ],
      "metadata": {
        "id": "9mUqUeNXFUTQ",
        "outputId": "6ca5bbad-a492-4a08-c707-3b935600507d",
        "colab": {
          "base_uri": "https://localhost:8080/"
        }
      },
      "execution_count": 21,
      "outputs": [
        {
          "output_type": "stream",
          "name": "stdout",
          "text": [
            "Overwriting temp.cpp\n"
          ]
        }
      ]
    },
    {
      "cell_type": "code",
      "source": [
        "# 問題 2.2.2.1 sqrt(841) と 29^2 を計算せよ\n",
        "%%writefile temp.cpp\n",
        "#include <bits/stdc++.h>\n",
        "using namespace std;\n",
        "\n",
        "int main () {\n",
        "    cout << pow(841, 0.5) << endl; // 29\n",
        "    cout << pow(29, 2) << endl; // 841\n",
        "}"
      ],
      "metadata": {
        "colab": {
          "base_uri": "https://localhost:8080/"
        },
        "id": "HgRdUGLUMtOm",
        "outputId": "e7b0efa9-d6d8-494d-a916-f78c2598be88"
      },
      "execution_count": 23,
      "outputs": [
        {
          "output_type": "stream",
          "name": "stdout",
          "text": [
            "Overwriting temp.cpp\n"
          ]
        }
      ]
    },
    {
      "cell_type": "code",
      "source": [
        "!g++ temp.cpp; echo |./a.out "
      ],
      "metadata": {
        "colab": {
          "base_uri": "https://localhost:8080/"
        },
        "id": "MZuF4za9O04C",
        "outputId": "73698d58-945a-4bf6-bf78-e7a7cbfa0a01"
      },
      "execution_count": 24,
      "outputs": [
        {
          "output_type": "stream",
          "name": "stdout",
          "text": [
            "29\n",
            "841\n"
          ]
        }
      ]
    },
    {
      "cell_type": "code",
      "source": [
        "# 問題 2.2.2.2 sqrt{5}{1024} (5 乗根) 、 4^5 を計算する\n",
        "%%writefile temp.cpp\n",
        "#include <bits/stdc++.h>\n",
        "using namespace std;\n",
        "\n",
        "int main () {\n",
        "    cout << pow(1024, 0.2) << endl; // 4\n",
        "    cout << pow(4, 5) << endl; // 1024\n",
        "}"
      ],
      "metadata": {
        "outputId": "92439725-96cd-4801-97e8-27f6f32449c7",
        "colab": {
          "base_uri": "https://localhost:8080/"
        },
        "id": "bxnz9BN8PAEX"
      },
      "execution_count": 25,
      "outputs": [
        {
          "output_type": "stream",
          "name": "stdout",
          "text": [
            "Overwriting temp.cpp\n"
          ]
        }
      ]
    },
    {
      "cell_type": "code",
      "source": [
        "!g++ temp.cpp; echo |./a.out "
      ],
      "metadata": {
        "outputId": "c4009cc0-420d-4998-ce58-ce3ee60b40a4",
        "colab": {
          "base_uri": "https://localhost:8080/"
        },
        "id": "0473sj1GPAEZ"
      },
      "execution_count": 26,
      "outputs": [
        {
          "output_type": "stream",
          "name": "stdout",
          "text": [
            "4\n",
            "1024\n"
          ]
        }
      ]
    },
    {
      "cell_type": "code",
      "source": [
        "# 問題 2.2.3.1 13 AND 14, 13 OR 14, 13 XOR 14 をそれぞれ計算する\n",
        "%%writefile temp.cpp\n",
        "#include <bits/stdc++.h>\n",
        "using namespace std;\n",
        "\n",
        "int main () {\n",
        "    int a = 13, b = 14;\n",
        "    cout << bitset<8>(a) << \", \" << bitset<8>(b) << endl;\n",
        "    cout << (a & b) << endl; // 12\n",
        "    cout << (a | b) << endl; // 15\n",
        "    cout << (a ^ b) << endl; // 3\n",
        "}"
      ],
      "metadata": {
        "id": "JeWltGHsPrUM",
        "outputId": "959c93d9-1e7e-43e8-ade0-2fa73aa55929",
        "colab": {
          "base_uri": "https://localhost:8080/"
        }
      },
      "execution_count": 33,
      "outputs": [
        {
          "output_type": "stream",
          "name": "stdout",
          "text": [
            "Overwriting temp.cpp\n"
          ]
        }
      ]
    },
    {
      "cell_type": "code",
      "source": [
        "!g++ temp.cpp; echo |./a.out "
      ],
      "metadata": {
        "id": "CoMiTpcrPrJE",
        "outputId": "64ae9b11-5d04-4c60-d30f-1f509f3d526f",
        "colab": {
          "base_uri": "https://localhost:8080/"
        }
      },
      "execution_count": 34,
      "outputs": [
        {
          "output_type": "stream",
          "name": "stdout",
          "text": [
            "00001101, 00001110\n",
            "12\n",
            "15\n",
            "3\n"
          ]
        }
      ]
    },
    {
      "cell_type": "code",
      "source": [
        "\n",
        "\n",
        "\n",
        "#include <iostream>\n",
        "using namespace std;\n",
        "\n",
        "int N, A[109];\n",
        "int Answer = 0;\n",
        "\n",
        "int main() {\n",
        "\t// 入力\n",
        "\tcin >> N;\n",
        "\tfor (int i = 1; i <= N; i++) {\n",
        "\t\tcin >> A[i];\n",
        "\t}\n",
        "\n",
        "\t// 答えの計算\n",
        "\tfor (int i = 1; i <= N; i++) {\n",
        "\t\tAnswer += A[i];\n",
        "\t}\n",
        "\n",
        "\t// 出力\n",
        "\tcout << Answer % 100 << endl;\n",
        "\treturn 0;\n",
        "}"
      ],
      "metadata": {
        "id": "YB16_tflPrEu"
      },
      "execution_count": null,
      "outputs": []
    }
  ]
}