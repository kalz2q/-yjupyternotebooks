{
  "nbformat": 4,
  "nbformat_minor": 0,
  "metadata": {
    "colab": {
      "name": "algorithm_yonedamasataka.ipynb",
      "provenance": [],
      "authorship_tag": "ABX9TyPqmUqlYzx3Ju3sEhzdqHYE",
      "include_colab_link": true
    },
    "kernelspec": {
      "name": "python3",
      "display_name": "Python 3"
    },
    "language_info": {
      "name": "python"
    }
  },
  "cells": [
    {
      "cell_type": "markdown",
      "metadata": {
        "id": "view-in-github",
        "colab_type": "text"
      },
      "source": [
        "<a href=\"https://colab.research.google.com/github/kalz2q/mycolabnotebooks/blob/master/algorithm_yonedamasataka.ipynb\" target=\"_parent\"><img src=\"https://colab.research.google.com/assets/colab-badge.svg\" alt=\"Open In Colab\"/></a>"
      ]
    },
    {
      "cell_type": "markdown",
      "source": [
        "# メモ\n",
        "問題解決のためのアルゴリズムx数学が基礎からしっかり身につく本米田優峻\n",
        "を読む\n"
      ],
      "metadata": {
        "id": "TByssf4R4q9-"
      }
    },
    {
      "cell_type": "code",
      "execution_count": null,
      "metadata": {
        "id": "2mCyZjpc4qMM"
      },
      "outputs": [],
      "source": [
        ""
      ]
    }
  ]
}