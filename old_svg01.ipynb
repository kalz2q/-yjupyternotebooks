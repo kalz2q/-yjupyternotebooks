{
  "nbformat": 4,
  "nbformat_minor": 0,
  "metadata": {
    "colab": {
      "name": "old_svg01.ipynb",
      "provenance": [],
      "authorship_tag": "ABX9TyPOJWxue4SEAm3k7c+W99oA",
      "include_colab_link": true
    },
    "kernelspec": {
      "name": "python3",
      "display_name": "Python 3"
    }
  },
  "cells": [
    {
      "cell_type": "markdown",
      "metadata": {
        "id": "view-in-github",
        "colab_type": "text"
      },
      "source": [
        "<a href=\"https://colab.research.google.com/github/kalz2q/mycolabnotebooks/blob/master/old_svg01.ipynb\" target=\"_parent\"><img src=\"https://colab.research.google.com/assets/colab-badge.svg\" alt=\"Open In Colab\"/></a>"
      ]
    },
    {
      "cell_type": "markdown",
      "metadata": {
        "id": "vv-_uiFAzsi0",
        "colab_type": "text"
      },
      "source": [
        "# メモ\n",
        "\n",
        "1. svgで数直線とか、ただの三角とか描きたい。matplotlibで描けるかと思ったのだが、matplotlibはそれ向きではなさそう。\n",
        "1. `%%svg` をこれまでのマニュアルから探そう。=> なかった。Render SVG literal だけ。\n",
        "1. SVG 図形描画とかで探してとりあえずやたら貼りつけよう。=> `colab`では図形が出力されているのに、githubに行くと壊れている。大丈夫だろうか。\n",
        "1. svg tutorial みたいのが確かあったよね。それをやりたいね。\n",
        "1. inkscapeかaffinity designerで描いて貼り付けるのもやりたい。"
      ]
    },
    {
      "cell_type": "code",
      "metadata": {
        "id": "78--WNYgy2ah",
        "colab_type": "code",
        "colab": {
          "base_uri": "https://localhost:8080/",
          "height": 179
        },
        "outputId": "114a1b05-7ea6-4c47-9ef6-94d95660ebfe"
      },
      "source": [
        "%%html\n",
        "\n",
        "<svg width=\"160\" height=\"160\">\n",
        "<rect x=\"0\" y=\"0\" width=\"160\" height=\"160\" fill=\"skyblue\"/>\n",
        "<rect x=\"40\" y=\"40\" width=\"80\" height=\"80\" fill=\"tomato\"/>\n",
        "</svg>\n"
      ],
      "execution_count": null,
      "outputs": [
        {
          "output_type": "display_data",
          "data": {
            "text/html": [
              "\n",
              "<svg width=\"160\" height=\"160\">\n",
              "<rect x=\"0\" y=\"0\" width=\"160\" height=\"160\" fill=\"skyblue\"/>\n",
              "<rect x=\"40\" y=\"40\" width=\"80\" height=\"80\" fill=\"tomato\"/>\n",
              "</svg>"
            ],
            "text/plain": [
              "<IPython.core.display.HTML object>"
            ]
          },
          "metadata": {
            "tags": []
          }
        }
      ]
    },
    {
      "cell_type": "markdown",
      "metadata": {
        "id": "WwRmZ-5xzWWn",
        "colab_type": "text"
      },
      "source": [
        "たぶん\n",
        "1. %%svgで初めても`<svg></svg>`タグは必要みたい。\n",
        "1. `<svg width height>`は描画する場所の広さを決めているだけみたい。\n",
        "1. viewboxだっけ、viewportを知る必要がある。\n",
        "\n",
        "これはdotinstallの最初の例。"
      ]
    },
    {
      "cell_type": "code",
      "metadata": {
        "id": "Sumgrfhsy2OT",
        "colab_type": "code",
        "colab": {
          "base_uri": "https://localhost:8080/",
          "height": 179
        },
        "outputId": "900d0855-31de-4928-8e6b-3a91f8f38b8c"
      },
      "source": [
        "%%html\n",
        "\n",
        "<svg width=\"160\" height=\"160\">\n",
        "<rect x=\"0\" y=\"0\" width=\"160\" height=\"160\" fill=\"skyblue\"/>\n",
        "<rect x=\"40\" y=\"40\" width=\"80\" height=\"80\" fill=\"tomato\"/>\n",
        "</svg>\n",
        "<!-- コメント -->"
      ],
      "execution_count": null,
      "outputs": [
        {
          "output_type": "display_data",
          "data": {
            "text/html": [
              "\n",
              "<svg width=\"160\" height=\"160\">\n",
              "<rect x=\"0\" y=\"0\" width=\"160\" height=\"160\" fill=\"skyblue\"/>\n",
              "<rect x=\"40\" y=\"40\" width=\"80\" height=\"80\" fill=\"tomato\"/>\n",
              "</svg>\n",
              "<!-- コメント -->"
            ],
            "text/plain": [
              "<IPython.core.display.HTML object>"
            ]
          },
          "metadata": {
            "tags": []
          }
        }
      ]
    },
    {
      "cell_type": "markdown",
      "metadata": {
        "id": "FLahusGk0udI",
        "colab_type": "text"
      },
      "source": [
        "セルコマンド `%%svg` の中では、\n",
        "1. `<svg></svg>` は2つ持てない。\n",
        "1. `#` でコメントできない。`<!-- -->` を使う"
      ]
    },
    {
      "cell_type": "code",
      "metadata": {
        "id": "-Npcrb0y1lkA",
        "colab_type": "code",
        "colab": {
          "base_uri": "https://localhost:8080/",
          "height": 179
        },
        "outputId": "85c59eb8-26c2-472a-e95a-c467ec2e886c"
      },
      "source": [
        "%%html\n",
        "\n",
        "<!-- <svg width=\"160\" height=\"160\">\n",
        "    <rect x=\"0\" y=\"0\" width=\"160\" height=\"160\" fill=\"skyblue\" />\n",
        "    <rect x=\"40\" y=\"40\" width=\"80\" height=\"80\" fill=\"tomato\" />\n",
        "</svg> -->\n",
        "<svg width=\"160\" height=\"160\" viewBox=\"0 0 320 320\">\n",
        "    <rect x=\"0\" y=\"0\" width=\"160\" height=\"160\" fill=\"skyblue\" />\n",
        "    <rect x=\"40\" y=\"40\" width=\"80\" height=\"80\" fill=\"tomato\" />\n",
        "</svg>\n",
        "<!-- <svg width=\"160\" height=\"160\" viewBox=\"40 40 80 80\">\n",
        "    <rect x=\"0\" y=\"0\" width=\"160\" height=\"160\" fill=\"skyblue\" />\n",
        "    <rect x=\"40\" y=\"40\" width=\"80\" height=\"80\" fill=\"tomato\" />\n",
        "</svg> -->"
      ],
      "execution_count": null,
      "outputs": [
        {
          "output_type": "display_data",
          "data": {
            "text/html": [
              "\n",
              "<!-- <svg width=\"160\" height=\"160\">\n",
              "    <rect x=\"0\" y=\"0\" width=\"160\" height=\"160\" fill=\"skyblue\" />\n",
              "    <rect x=\"40\" y=\"40\" width=\"80\" height=\"80\" fill=\"tomato\" />\n",
              "</svg> -->\n",
              "<svg width=\"160\" height=\"160\" viewBox=\"0 0 320 320\">\n",
              "    <rect x=\"0\" y=\"0\" width=\"160\" height=\"160\" fill=\"skyblue\" />\n",
              "    <rect x=\"40\" y=\"40\" width=\"80\" height=\"80\" fill=\"tomato\" />\n",
              "</svg>\n",
              "<!-- <svg width=\"160\" height=\"160\" viewBox=\"40 40 80 80\">\n",
              "    <rect x=\"0\" y=\"0\" width=\"160\" height=\"160\" fill=\"skyblue\" />\n",
              "    <rect x=\"40\" y=\"40\" width=\"80\" height=\"80\" fill=\"tomato\" />\n",
              "</svg> -->"
            ],
            "text/plain": [
              "<IPython.core.display.HTML object>"
            ]
          },
          "metadata": {
            "tags": []
          }
        }
      ]
    },
    {
      "cell_type": "code",
      "metadata": {
        "id": "C-_Fzsbxy2Jx",
        "colab_type": "code",
        "colab": {
          "base_uri": "https://localhost:8080/",
          "height": 179
        },
        "outputId": "ffaded11-49c8-45d7-9c07-6e5a0dd9b888"
      },
      "source": [
        "%%html\n",
        "<!-- <svg width=\"160\" height=\"160\">\n",
        "    <rect x=\"0\" y=\"0\" width=\"160\" height=\"160\" fill=\"skyblue\" />\n",
        "    <rect x=\"40\" y=\"40\" width=\"80\" height=\"80\" fill=\"tomato\" />\n",
        "</svg> -->\n",
        "<!-- <svg width=\"160\" height=\"160\" viewBox=\"0 0 320 320\">\n",
        "    <rect x=\"0\" y=\"0\" width=\"160\" height=\"160\" fill=\"skyblue\" />\n",
        "    <rect x=\"40\" y=\"40\" width=\"80\" height=\"80\" fill=\"tomato\" />\n",
        "</svg> -->\n",
        "<svg width=\"160\" height=\"160\" viewBox=\"40 40 80 80\">\n",
        "    <rect x=\"0\" y=\"0\" width=\"160\" height=\"160\" fill=\"skyblue\" />\n",
        "    <rect x=\"40\" y=\"40\" width=\"80\" height=\"80\" fill=\"tomato\" />\n",
        "</svg>"
      ],
      "execution_count": null,
      "outputs": [
        {
          "output_type": "display_data",
          "data": {
            "text/html": [
              "<!-- <svg width=\"160\" height=\"160\">\n",
              "    <rect x=\"0\" y=\"0\" width=\"160\" height=\"160\" fill=\"skyblue\" />\n",
              "    <rect x=\"40\" y=\"40\" width=\"80\" height=\"80\" fill=\"tomato\" />\n",
              "</svg> -->\n",
              "<!-- <svg width=\"160\" height=\"160\" viewBox=\"0 0 320 320\">\n",
              "    <rect x=\"0\" y=\"0\" width=\"160\" height=\"160\" fill=\"skyblue\" />\n",
              "    <rect x=\"40\" y=\"40\" width=\"80\" height=\"80\" fill=\"tomato\" />\n",
              "</svg> -->\n",
              "<svg width=\"160\" height=\"160\" viewBox=\"40 40 80 80\">\n",
              "    <rect x=\"0\" y=\"0\" width=\"160\" height=\"160\" fill=\"skyblue\" />\n",
              "    <rect x=\"40\" y=\"40\" width=\"80\" height=\"80\" fill=\"tomato\" />\n",
              "</svg>"
            ],
            "text/plain": [
              "<IPython.core.display.HTML object>"
            ]
          },
          "metadata": {
            "tags": []
          }
        }
      ]
    },
    {
      "cell_type": "markdown",
      "metadata": {
        "id": "Da1cNJgX3gAE",
        "colab_type": "text"
      },
      "source": [
        "1. `svg width height viewbox` で、外から持ってきたsvgのソースコードを自由に貼り付けられる。\n",
        "1. それ以外の部分は最適化、最小化されていてもかまわない。コントロールするためにはわかりやすい方がいいが、それにしてもツールが要るだろう。読むのはたいへん。"
      ]
    },
    {
      "cell_type": "code",
      "metadata": {
        "id": "OLI8BqSZ_OLR",
        "colab_type": "code",
        "colab": {
          "base_uri": "https://localhost:8080/",
          "height": 179
        },
        "outputId": "07d833df-4798-472d-e944-0d6759d2111f"
      },
      "source": [
        "%%html\n",
        "\n",
        "<svg width=\"160\" height=\"160\">\n",
        "    <rect x=\"0\" y=\"0\" width=\"160\" height=\"160\" fill=\"skyblue\" />\n",
        "    <rect x=\"20\" y=\"20\" width=\"30\" height=\"30\" fill=\"#08c\" />\n",
        "    <rect x=\"65\" y=\"20\" width=\"30\" height=\"30\" fill=\"rgba(255, 0, 0, .4)\" />\n",
        "    <rect x=\"110\" y=\"20\" width=\"30\" height=\"30\" fill=\"hsla(120, 40%, 40%, .4)\" />\n",
        "    <rect x=\"20\" y=\"65\" width=\"30\" height=\"30\" fill=\"none\" stroke=\"olive\" stroke-width=\"2\" />\n",
        "    <rect x=\"65\" y=\"65\" width=\"30\" height=\"30\" fill=\"none\" stroke=\"olive\" stroke-width=\"2\" stroke-dasharray=\"10\" />\n",
        "    <rect x=\"110\" y=\"65\" width=\"30\" height=\"30\" fill=\"none\" stroke=\"olive\" stroke-width=\"2\" stroke-dasharray=\"10, 2\" />\n",
        "</svg>"
      ],
      "execution_count": null,
      "outputs": [
        {
          "output_type": "display_data",
          "data": {
            "text/html": [
              "\n",
              "<svg width=\"160\" height=\"160\">\n",
              "    <rect x=\"0\" y=\"0\" width=\"160\" height=\"160\" fill=\"skyblue\" />\n",
              "    <rect x=\"20\" y=\"20\" width=\"30\" height=\"30\" fill=\"#08c\" />\n",
              "    <rect x=\"65\" y=\"20\" width=\"30\" height=\"30\" fill=\"rgba(255, 0, 0, .4)\" />\n",
              "    <rect x=\"110\" y=\"20\" width=\"30\" height=\"30\" fill=\"hsla(120, 40%, 40%, .4)\" />\n",
              "    <rect x=\"20\" y=\"65\" width=\"30\" height=\"30\" fill=\"none\" stroke=\"olive\" stroke-width=\"2\" />\n",
              "    <rect x=\"65\" y=\"65\" width=\"30\" height=\"30\" fill=\"none\" stroke=\"olive\" stroke-width=\"2\" stroke-dasharray=\"10\" />\n",
              "    <rect x=\"110\" y=\"65\" width=\"30\" height=\"30\" fill=\"none\" stroke=\"olive\" stroke-width=\"2\" stroke-dasharray=\"10, 2\" />\n",
              "</svg>"
            ],
            "text/plain": [
              "<IPython.core.display.HTML object>"
            ]
          },
          "metadata": {
            "tags": []
          }
        }
      ]
    },
    {
      "cell_type": "code",
      "metadata": {
        "id": "FNO4DKJf_zlk",
        "colab_type": "code",
        "colab": {
          "base_uri": "https://localhost:8080/",
          "height": 179
        },
        "outputId": "604796a8-8ec9-4239-dbad-f764672af67d"
      },
      "source": [
        "%%html\n",
        "\n",
        "<svg width=\"160\" height=\"160\">\n",
        "    <defs>\n",
        "        <style>\n",
        "            .my-box {\n",
        "                fill: pink;\n",
        "                cursor: pointer;\n",
        "                transition: .3s;\n",
        "            }\n",
        "\n",
        "            .my-box:hover {\n",
        "                width: 60px;\n",
        "                height: 60px;\n",
        "            }\n",
        "        </style>\n",
        "    </defs>\n",
        "    <rect x=\"0\" y=\"0\" width=\"160\" height=\"160\" fill=\"skyblue\" />\n",
        "    <rect x=\"20\" y=\"20\" width=\"30\" height=\"30\" style=\"fill:#08c; stroke:#eee; stroke-width:3;\" />\n",
        "    <rect x=\"65\" y=\"20\" width=\"30\" height=\"30\" class=\"my-box\" />\n",
        "</svg>"
      ],
      "execution_count": null,
      "outputs": [
        {
          "output_type": "display_data",
          "data": {
            "text/html": [
              "\n",
              "<svg width=\"160\" height=\"160\">\n",
              "    <defs>\n",
              "        <style>\n",
              "            .my-box {\n",
              "                fill: pink;\n",
              "                cursor: pointer;\n",
              "                transition: .3s;\n",
              "            }\n",
              "\n",
              "            .my-box:hover {\n",
              "                width: 60px;\n",
              "                height: 60px;\n",
              "            }\n",
              "        </style>\n",
              "    </defs>\n",
              "    <rect x=\"0\" y=\"0\" width=\"160\" height=\"160\" fill=\"skyblue\" />\n",
              "    <rect x=\"20\" y=\"20\" width=\"30\" height=\"30\" style=\"fill:#08c; stroke:#eee; stroke-width:3;\" />\n",
              "    <rect x=\"65\" y=\"20\" width=\"30\" height=\"30\" class=\"my-box\" />\n",
              "</svg>"
            ],
            "text/plain": [
              "<IPython.core.display.HTML object>"
            ]
          },
          "metadata": {
            "tags": []
          }
        }
      ]
    },
    {
      "cell_type": "markdown",
      "metadata": {
        "id": "MUhSdFtcARon",
        "colab_type": "text"
      },
      "source": [
        "1. `<style></style>` が使える。\n",
        "2. `:hover` が使える。"
      ]
    },
    {
      "cell_type": "code",
      "metadata": {
        "id": "V8XxmcxO_zfs",
        "colab_type": "code",
        "colab": {
          "base_uri": "https://localhost:8080/",
          "height": 179
        },
        "outputId": "0a686082-ea2b-402d-c1fd-e0547c82cec6"
      },
      "source": [
        "%%html\n",
        "\n",
        "<svg width=\"160\" height=\"160\">\n",
        "    <rect x=\"0\" y=\"0\" width=\"160\" height=\"160\" fill=\"skyblue\" />\n",
        "    <circle cx=\"80\" cy=\"80\" r=\"40\" fill=\"gold\" />\n",
        "    <circle cx=\"65\" cy=\"75\" r=\"5\" fill=\"black\" />\n",
        "    <circle cx=\"95\" cy=\"75\" r=\"5\" fill=\"black\" />\n",
        "    <line x1=\"65\" y1=\"95\" x2=\"95\" y2=\"95\" stroke=\"black\" stroke-width=\"5\" stroke-linecap=\"round\" />\n",
        "</svg>"
      ],
      "execution_count": null,
      "outputs": [
        {
          "output_type": "display_data",
          "data": {
            "text/html": [
              "\n",
              "<svg width=\"160\" height=\"160\">\n",
              "    <rect x=\"0\" y=\"0\" width=\"160\" height=\"160\" fill=\"skyblue\" />\n",
              "    <circle cx=\"80\" cy=\"80\" r=\"40\" fill=\"gold\" />\n",
              "    <circle cx=\"65\" cy=\"75\" r=\"5\" fill=\"black\" />\n",
              "    <circle cx=\"95\" cy=\"75\" r=\"5\" fill=\"black\" />\n",
              "    <line x1=\"65\" y1=\"95\" x2=\"95\" y2=\"95\" stroke=\"black\" stroke-width=\"5\" stroke-linecap=\"round\" />\n",
              "</svg>"
            ],
            "text/plain": [
              "<IPython.core.display.HTML object>"
            ]
          },
          "metadata": {
            "tags": []
          }
        }
      ]
    },
    {
      "cell_type": "code",
      "metadata": {
        "id": "8h2vo-3L_zaG",
        "colab_type": "code",
        "colab": {
          "base_uri": "https://localhost:8080/",
          "height": 179
        },
        "outputId": "13101282-fbb9-4306-86f9-dfc22c923a12"
      },
      "source": [
        "%%html\n",
        "\n",
        "<svg width=\"160\" height=\"160\">\n",
        "    <defs>\n",
        "        <style>\n",
        "            @keyframes eye-move {\n",
        "                to {\n",
        "                    transform: translateX(-3px);\n",
        "                }\n",
        "            }\n",
        "\n",
        "            .eye {\n",
        "                animation: eye-move 1s infinite alternate ease-in;\n",
        "            }\n",
        "        </style>\n",
        "    </defs>\n",
        "    <rect x=\"0\" y=\"0\" width=\"160\" height=\"160\" fill=\"skyblue\" />\n",
        "    <circle cx=\"80\" cy=\"80\" r=\"40\" fill=\"gold\" />\n",
        "    <!-- <circle cx=\"65\" cy=\"75\" r=\"5\" fill=\"black\" class=\"eye\"/>\n",
        "    <circle cx=\"95\" cy=\"75\" r=\"5\" fill=\"black\" class=\"eye\"/> -->\n",
        "    <g class=\"eye\">\n",
        "        <circle cx=\"65\" cy=\"75\" r=\"5\" fill=\"black\" />\n",
        "        <circle cx=\"95\" cy=\"75\" r=\"5\" fill=\"black\" />\n",
        "    </g>\n",
        "    <line x1=\"65\" y1=\"95\" x2=\"95\" y2=\"95\" stroke=\"black\" stroke-width=\"5\" stroke-linecap=\"round\" />\n",
        "</svg>"
      ],
      "execution_count": null,
      "outputs": [
        {
          "output_type": "display_data",
          "data": {
            "text/html": [
              "\n",
              "<svg width=\"160\" height=\"160\">\n",
              "    <defs>\n",
              "        <style>\n",
              "            @keyframes eye-move {\n",
              "                to {\n",
              "                    transform: translateX(-3px);\n",
              "                }\n",
              "            }\n",
              "\n",
              "            .eye {\n",
              "                animation: eye-move 1s infinite alternate ease-in;\n",
              "            }\n",
              "        </style>\n",
              "    </defs>\n",
              "    <rect x=\"0\" y=\"0\" width=\"160\" height=\"160\" fill=\"skyblue\" />\n",
              "    <circle cx=\"80\" cy=\"80\" r=\"40\" fill=\"gold\" />\n",
              "    <!-- <circle cx=\"65\" cy=\"75\" r=\"5\" fill=\"black\" class=\"eye\"/>\n",
              "    <circle cx=\"95\" cy=\"75\" r=\"5\" fill=\"black\" class=\"eye\"/> -->\n",
              "    <g class=\"eye\">\n",
              "        <circle cx=\"65\" cy=\"75\" r=\"5\" fill=\"black\" />\n",
              "        <circle cx=\"95\" cy=\"75\" r=\"5\" fill=\"black\" />\n",
              "    </g>\n",
              "    <line x1=\"65\" y1=\"95\" x2=\"95\" y2=\"95\" stroke=\"black\" stroke-width=\"5\" stroke-linecap=\"round\" />\n",
              "</svg>"
            ],
            "text/plain": [
              "<IPython.core.display.HTML object>"
            ]
          },
          "metadata": {
            "tags": []
          }
        }
      ]
    },
    {
      "cell_type": "markdown",
      "metadata": {
        "id": "IyZd9nf8BMbw",
        "colab_type": "text"
      },
      "source": [
        "`animation` が使える。"
      ]
    },
    {
      "cell_type": "code",
      "metadata": {
        "id": "ShpFuLW0BMIg",
        "colab_type": "code",
        "colab": {
          "base_uri": "https://localhost:8080/",
          "height": 179
        },
        "outputId": "6a10a8d0-86cc-4bc7-833a-45d6e071607f"
      },
      "source": [
        "%%html\n",
        "\n",
        "<svg width=\"160\" height=\"160\">\n",
        "    <defs>\n",
        "        <style>\n",
        "            @keyframes eye-move {\n",
        "                to {\n",
        "                    transform: translateX(-3px);\n",
        "                }\n",
        "            }\n",
        "\n",
        "            .eye {\n",
        "                animation: eye-move 1s infinite alternate ease-in;\n",
        "            }\n",
        "        </style>\n",
        "    </defs>\n",
        "    <rect x=\"0\" y=\"0\" width=\"160\" height=\"160\" fill=\"skyblue\" />\n",
        "    <ellipse cx=\"80\" cy=\"80\" rx=\"50\" ry=\"35\" fill=\"darkslateblue\" />\n",
        "    <g class=\"eye\">\n",
        "        <circle cx=\"65\" cy=\"75\" r=\"5\" fill=\"skyblue\" />\n",
        "        <circle cx=\"95\" cy=\"75\" r=\"5\" fill=\"skyblue\" />\n",
        "    </g>\n",
        "    <polyline points=\"70,35 80,45 90,35\" stroke=\"darkslateblue\" stroke-width=\"5\" fill=\"none\" stroke-linecap=\"round\" />\n",
        "    <polygon points=\"80,80 60,140 100,140\" fill=\"darkslateblue\" />\n",
        "</svg>"
      ],
      "execution_count": null,
      "outputs": [
        {
          "output_type": "display_data",
          "data": {
            "text/html": [
              "\n",
              "<svg width=\"160\" height=\"160\">\n",
              "    <defs>\n",
              "        <style>\n",
              "            @keyframes eye-move {\n",
              "                to {\n",
              "                    transform: translateX(-3px);\n",
              "                }\n",
              "            }\n",
              "\n",
              "            .eye {\n",
              "                animation: eye-move 1s infinite alternate ease-in;\n",
              "            }\n",
              "        </style>\n",
              "    </defs>\n",
              "    <rect x=\"0\" y=\"0\" width=\"160\" height=\"160\" fill=\"skyblue\" />\n",
              "    <ellipse cx=\"80\" cy=\"80\" rx=\"50\" ry=\"35\" fill=\"darkslateblue\" />\n",
              "    <g class=\"eye\">\n",
              "        <circle cx=\"65\" cy=\"75\" r=\"5\" fill=\"skyblue\" />\n",
              "        <circle cx=\"95\" cy=\"75\" r=\"5\" fill=\"skyblue\" />\n",
              "    </g>\n",
              "    <polyline points=\"70,35 80,45 90,35\" stroke=\"darkslateblue\" stroke-width=\"5\" fill=\"none\" stroke-linecap=\"round\" />\n",
              "    <polygon points=\"80,80 60,140 100,140\" fill=\"darkslateblue\" />\n",
              "</svg>"
            ],
            "text/plain": [
              "<IPython.core.display.HTML object>"
            ]
          },
          "metadata": {
            "tags": []
          }
        }
      ]
    },
    {
      "cell_type": "code",
      "metadata": {
        "id": "8EXsfh7CBL8I",
        "colab_type": "code",
        "colab": {
          "base_uri": "https://localhost:8080/",
          "height": 179
        },
        "outputId": "7f14205e-496c-440b-c8d9-08cd732d95ed"
      },
      "source": [
        "# Pathを使ってみよう\n",
        "%%html\n",
        "\n",
        "<svg width=\"160\" height=\"160\">\n",
        "    <defs>\n",
        "        <style>\n",
        "            @keyframes eye-move {\n",
        "                to {\n",
        "                    transform: translateX(-3px);\n",
        "                }\n",
        "            }\n",
        "\n",
        "            .eye {\n",
        "                animation: eye-move 1s infinite alternate ease-in;\n",
        "            }\n",
        "        </style>\n",
        "    </defs>\n",
        "    <rect x=\"0\" y=\"0\" width=\"160\" height=\"160\" fill=\"skyblue\" />\n",
        "    <ellipse cx=\"80\" cy=\"80\" rx=\"50\" ry=\"35\" fill=\"darkslateblue\" />\n",
        "    <g class=\"eye\">\n",
        "        <circle cx=\"65\" cy=\"75\" r=\"5\" fill=\"skyblue\" />\n",
        "        <circle cx=\"95\" cy=\"75\" r=\"5\" fill=\"skyblue\" />\n",
        "    </g>\n",
        "    <polyline points=\"70,35 80,45 90,35\" stroke=\"darkslateblue\" stroke-width=\"5\" fill=\"none\" stroke-linecap=\"round\" />\n",
        "    <polygon points=\"80,80 60,140 100,140\" fill=\"darkslateblue\" />\n",
        "    <!-- <path d=\"M 65,92 A 15,10 0 0 0 95,92 Z\" fill=\"none\" stroke=\"black\"/> -->\n",
        "    <path d=\"M 65,92 A 15,10 0 0 0 95,92 Z\" fill=\"skyblue\" />\n",
        "</svg>"
      ],
      "execution_count": null,
      "outputs": [
        {
          "output_type": "display_data",
          "data": {
            "text/html": [
              "\n",
              "<svg width=\"160\" height=\"160\">\n",
              "    <defs>\n",
              "        <style>\n",
              "            @keyframes eye-move {\n",
              "                to {\n",
              "                    transform: translateX(-3px);\n",
              "                }\n",
              "            }\n",
              "\n",
              "            .eye {\n",
              "                animation: eye-move 1s infinite alternate ease-in;\n",
              "            }\n",
              "        </style>\n",
              "    </defs>\n",
              "    <rect x=\"0\" y=\"0\" width=\"160\" height=\"160\" fill=\"skyblue\" />\n",
              "    <ellipse cx=\"80\" cy=\"80\" rx=\"50\" ry=\"35\" fill=\"darkslateblue\" />\n",
              "    <g class=\"eye\">\n",
              "        <circle cx=\"65\" cy=\"75\" r=\"5\" fill=\"skyblue\" />\n",
              "        <circle cx=\"95\" cy=\"75\" r=\"5\" fill=\"skyblue\" />\n",
              "    </g>\n",
              "    <polyline points=\"70,35 80,45 90,35\" stroke=\"darkslateblue\" stroke-width=\"5\" fill=\"none\" stroke-linecap=\"round\" />\n",
              "    <polygon points=\"80,80 60,140 100,140\" fill=\"darkslateblue\" />\n",
              "    <!-- <path d=\"M 65,92 A 15,10 0 0 0 95,92 Z\" fill=\"none\" stroke=\"black\"/> -->\n",
              "    <path d=\"M 65,92 A 15,10 0 0 0 95,92 Z\" fill=\"skyblue\" />\n",
              "</svg>"
            ],
            "text/plain": [
              "<IPython.core.display.HTML object>"
            ]
          },
          "metadata": {
            "tags": []
          }
        }
      ]
    },
    {
      "cell_type": "code",
      "metadata": {
        "id": "pnpi7VLvBLuy",
        "colab_type": "code",
        "colab": {
          "base_uri": "https://localhost:8080/",
          "height": 179
        },
        "outputId": "32ef1573-0adb-4ee1-f4fb-b01391fd396e"
      },
      "source": [
        "%%html\n",
        "\n",
        "<svg width=\"160\" height=\"160\">\n",
        "    <defs>\n",
        "        <style>\n",
        "            @keyframes eye-move {\n",
        "                to {\n",
        "                    transform: translateX(-3px);\n",
        "                }\n",
        "            }\n",
        "\n",
        "            .eye {\n",
        "                animation: eye-move 1s infinite alternate ease-in;\n",
        "            }\n",
        "        </style>\n",
        "        <symbol id=\"robot\" viewBox=\"0 0 160 160\">\n",
        "            <rect x=\"0\" y=\"0\" width=\"160\" height=\"160\" fill=\"skyblue\" />\n",
        "            <ellipse cx=\"80\" cy=\"80\" rx=\"50\" ry=\"35\" fill=\"darkslateblue\" />\n",
        "            <g class=\"eye\">\n",
        "                <circle cx=\"65\" cy=\"75\" r=\"5\" fill=\"skyblue\" />\n",
        "                <circle cx=\"95\" cy=\"75\" r=\"5\" fill=\"skyblue\" />\n",
        "            </g>\n",
        "            <polyline points=\"70,35 80,45 90,35\" stroke=\"darkslateblue\" stroke-width=\"5\" fill=\"none\"\n",
        "                stroke-linecap=\"round\" />\n",
        "            <polygon points=\"80,80 60,140 100,140\" fill=\"darkslateblue\" />\n",
        "            <path d=\"M 65,92 A 15,10 0 0 0 95,92 Z\" fill=\"skyblue\" />\n",
        "        </symbol>\n",
        "    </defs>\n",
        "\n",
        "    <use href=\"#robot\" x=\"0\" y=\"0\" width=\"80\" height=\"80\" />\n",
        "    <use href=\"#robot\" x=\"80\" y=\"0\" width=\"80\" height=\"80\" />\n",
        "    <use href=\"#robot\" x=\"0\" y=\"80\" width=\"80\" height=\"80\" />\n",
        "    <use href=\"#robot\" x=\"80\" y=\"80\" width=\"80\" height=\"80\" />\n",
        "</svg>"
      ],
      "execution_count": null,
      "outputs": [
        {
          "output_type": "display_data",
          "data": {
            "text/html": [
              "\n",
              "<svg width=\"160\" height=\"160\">\n",
              "    <defs>\n",
              "        <style>\n",
              "            @keyframes eye-move {\n",
              "                to {\n",
              "                    transform: translateX(-3px);\n",
              "                }\n",
              "            }\n",
              "\n",
              "            .eye {\n",
              "                animation: eye-move 1s infinite alternate ease-in;\n",
              "            }\n",
              "        </style>\n",
              "        <symbol id=\"robot\" viewBox=\"0 0 160 160\">\n",
              "            <rect x=\"0\" y=\"0\" width=\"160\" height=\"160\" fill=\"skyblue\" />\n",
              "            <ellipse cx=\"80\" cy=\"80\" rx=\"50\" ry=\"35\" fill=\"darkslateblue\" />\n",
              "            <g class=\"eye\">\n",
              "                <circle cx=\"65\" cy=\"75\" r=\"5\" fill=\"skyblue\" />\n",
              "                <circle cx=\"95\" cy=\"75\" r=\"5\" fill=\"skyblue\" />\n",
              "            </g>\n",
              "            <polyline points=\"70,35 80,45 90,35\" stroke=\"darkslateblue\" stroke-width=\"5\" fill=\"none\"\n",
              "                stroke-linecap=\"round\" />\n",
              "            <polygon points=\"80,80 60,140 100,140\" fill=\"darkslateblue\" />\n",
              "            <path d=\"M 65,92 A 15,10 0 0 0 95,92 Z\" fill=\"skyblue\" />\n",
              "        </symbol>\n",
              "    </defs>\n",
              "\n",
              "    <use href=\"#robot\" x=\"0\" y=\"0\" width=\"80\" height=\"80\" />\n",
              "    <use href=\"#robot\" x=\"80\" y=\"0\" width=\"80\" height=\"80\" />\n",
              "    <use href=\"#robot\" x=\"0\" y=\"80\" width=\"80\" height=\"80\" />\n",
              "    <use href=\"#robot\" x=\"80\" y=\"80\" width=\"80\" height=\"80\" />\n",
              "</svg>"
            ],
            "text/plain": [
              "<IPython.core.display.HTML object>"
            ]
          },
          "metadata": {
            "tags": []
          }
        }
      ]
    },
    {
      "cell_type": "code",
      "metadata": {
        "id": "qPIoerPHEe2Y",
        "colab_type": "code",
        "colab": {
          "base_uri": "https://localhost:8080/",
          "height": 179
        },
        "outputId": "061d2d47-5beb-4ed8-840c-2db04bda17be"
      },
      "source": [
        "%%html\n",
        "\n",
        "<svg width=\"160\" height=\"160\">\n",
        "    <defs>\n",
        "        <style>\n",
        "            @keyframes eye-move {\n",
        "                to {\n",
        "                    transform: translateX(-3px);\n",
        "                }\n",
        "            }\n",
        "\n",
        "            .eye {\n",
        "                animation: eye-move 1s infinite alternate ease-in;\n",
        "            }\n",
        "        </style>\n",
        "        <symbol id=\"robot\" viewBox=\"0 0 160 160\">\n",
        "            <!-- <rect x=\"0\" y=\"0\" width=\"160\" height=\"160\" fill=\"skyblue\"/> -->\n",
        "            <rect x=\"0\" y=\"0\" width=\"160\" height=\"160\" fill=\"inherit\" />\n",
        "            <ellipse cx=\"80\" cy=\"80\" rx=\"50\" ry=\"35\" fill=\"darkslateblue\" />\n",
        "            <g class=\"eye\">\n",
        "                <!-- <circle cx=\"65\" cy=\"75\" r=\"5\" fill=\"skyblue\"/>\n",
        "          <circle cx=\"95\" cy=\"75\" r=\"5\" fill=\"skyblue\"/> -->\n",
        "                <circle cx=\"65\" cy=\"75\" r=\"8\" fill=\"skyblue\" />\n",
        "                <circle cx=\"95\" cy=\"75\" r=\"8\" fill=\"skyblue\" />\n",
        "            </g>\n",
        "            <polyline points=\"70,35 80,45 90,35\" stroke=\"darkslateblue\" stroke-width=\"5\" fill=\"none\"\n",
        "                stroke-linecap=\"round\" />\n",
        "            <polygon points=\"80,80 60,140 100,140\" fill=\"darkslateblue\" />\n",
        "            <path d=\"M 65,92 A 15,10 0 0 0 95,92 Z\" fill=\"skyblue\" />\n",
        "        </symbol>\n",
        "    </defs>\n",
        "\n",
        "    <!-- <use href=\"#robot\" x=\"0\" y=\"0\" width=\"80\" height=\"80\"/>\n",
        "    <use href=\"#robot\" x=\"80\" y=\"0\" width=\"80\" height=\"80\"/>\n",
        "    <use href=\"#robot\" x=\"0\" y=\"80\" width=\"80\" height=\"80\"/>\n",
        "    <use href=\"#robot\" x=\"80\" y=\"80\" width=\"80\" height=\"80\"/> -->\n",
        "    <use href=\"#robot\" x=\"0\" y=\"0\" width=\"80\" height=\"80\" fill=\"yellow\" />\n",
        "    <use href=\"#robot\" x=\"80\" y=\"0\" width=\"80\" height=\"80\" fill=\"skyblue\" />\n",
        "    <use href=\"#robot\" x=\"0\" y=\"80\" width=\"80\" height=\"80\" fill=\"orange\" />\n",
        "    <use href=\"#robot\" x=\"80\" y=\"80\" width=\"80\" height=\"80\" fill=\"tomato\" />\n",
        "</svg>"
      ],
      "execution_count": null,
      "outputs": [
        {
          "output_type": "display_data",
          "data": {
            "text/html": [
              "\n",
              "<svg width=\"160\" height=\"160\">\n",
              "    <defs>\n",
              "        <style>\n",
              "            @keyframes eye-move {\n",
              "                to {\n",
              "                    transform: translateX(-3px);\n",
              "                }\n",
              "            }\n",
              "\n",
              "            .eye {\n",
              "                animation: eye-move 1s infinite alternate ease-in;\n",
              "            }\n",
              "        </style>\n",
              "        <symbol id=\"robot\" viewBox=\"0 0 160 160\">\n",
              "            <!-- <rect x=\"0\" y=\"0\" width=\"160\" height=\"160\" fill=\"skyblue\"/> -->\n",
              "            <rect x=\"0\" y=\"0\" width=\"160\" height=\"160\" fill=\"inherit\" />\n",
              "            <ellipse cx=\"80\" cy=\"80\" rx=\"50\" ry=\"35\" fill=\"darkslateblue\" />\n",
              "            <g class=\"eye\">\n",
              "                <!-- <circle cx=\"65\" cy=\"75\" r=\"5\" fill=\"skyblue\"/>\n",
              "          <circle cx=\"95\" cy=\"75\" r=\"5\" fill=\"skyblue\"/> -->\n",
              "                <circle cx=\"65\" cy=\"75\" r=\"8\" fill=\"skyblue\" />\n",
              "                <circle cx=\"95\" cy=\"75\" r=\"8\" fill=\"skyblue\" />\n",
              "            </g>\n",
              "            <polyline points=\"70,35 80,45 90,35\" stroke=\"darkslateblue\" stroke-width=\"5\" fill=\"none\"\n",
              "                stroke-linecap=\"round\" />\n",
              "            <polygon points=\"80,80 60,140 100,140\" fill=\"darkslateblue\" />\n",
              "            <path d=\"M 65,92 A 15,10 0 0 0 95,92 Z\" fill=\"skyblue\" />\n",
              "        </symbol>\n",
              "    </defs>\n",
              "\n",
              "    <!-- <use href=\"#robot\" x=\"0\" y=\"0\" width=\"80\" height=\"80\"/>\n",
              "    <use href=\"#robot\" x=\"80\" y=\"0\" width=\"80\" height=\"80\"/>\n",
              "    <use href=\"#robot\" x=\"0\" y=\"80\" width=\"80\" height=\"80\"/>\n",
              "    <use href=\"#robot\" x=\"80\" y=\"80\" width=\"80\" height=\"80\"/> -->\n",
              "    <use href=\"#robot\" x=\"0\" y=\"0\" width=\"80\" height=\"80\" fill=\"yellow\" />\n",
              "    <use href=\"#robot\" x=\"80\" y=\"0\" width=\"80\" height=\"80\" fill=\"skyblue\" />\n",
              "    <use href=\"#robot\" x=\"0\" y=\"80\" width=\"80\" height=\"80\" fill=\"orange\" />\n",
              "    <use href=\"#robot\" x=\"80\" y=\"80\" width=\"80\" height=\"80\" fill=\"tomato\" />\n",
              "</svg>"
            ],
            "text/plain": [
              "<IPython.core.display.HTML object>"
            ]
          },
          "metadata": {
            "tags": []
          }
        }
      ]
    },
    {
      "cell_type": "code",
      "metadata": {
        "id": "2azowe7iEesm",
        "colab_type": "code",
        "colab": {
          "base_uri": "https://localhost:8080/",
          "height": 179
        },
        "outputId": "0dd71fc1-0b8f-4b77-cb6d-88626670b2c3"
      },
      "source": [
        "%%html\n",
        "\n",
        "<svg width=\"160\" height=\"160\">\n",
        "    <defs>\n",
        "        <style>\n",
        "            .my-text {\n",
        "                font-size: 72px;\n",
        "                font-weight: bold;\n",
        "                font-family: Arial;\n",
        "                /*fill: #fff;*/\n",
        "                fill: none;\n",
        "                stroke: #fff;\n",
        "                text-anchor: middle;\n",
        "            }\n",
        "        </style>\n",
        "    </defs>\n",
        "    <rect x=\"0\" y=\"0\" width=\"160\" height=\"160\" fill=\"skyblue\" />\n",
        "    <!-- <text x=\"5\" y=\"150\" class=\"my-text\"> -->\n",
        "    <text x=\"80\" y=\"150\" class=\"my-text\">\n",
        "        Hi\n",
        "    </text>\n",
        "</svg>"
      ],
      "execution_count": null,
      "outputs": [
        {
          "output_type": "display_data",
          "data": {
            "text/html": [
              "\n",
              "<svg width=\"160\" height=\"160\">\n",
              "    <defs>\n",
              "        <style>\n",
              "            .my-text {\n",
              "                font-size: 72px;\n",
              "                font-weight: bold;\n",
              "                font-family: Arial;\n",
              "                /*fill: #fff;*/\n",
              "                fill: none;\n",
              "                stroke: #fff;\n",
              "                text-anchor: middle;\n",
              "            }\n",
              "        </style>\n",
              "    </defs>\n",
              "    <rect x=\"0\" y=\"0\" width=\"160\" height=\"160\" fill=\"skyblue\" />\n",
              "    <!-- <text x=\"5\" y=\"150\" class=\"my-text\"> -->\n",
              "    <text x=\"80\" y=\"150\" class=\"my-text\">\n",
              "        Hi\n",
              "    </text>\n",
              "</svg>"
            ],
            "text/plain": [
              "<IPython.core.display.HTML object>"
            ]
          },
          "metadata": {
            "tags": []
          }
        }
      ]
    },
    {
      "cell_type": "code",
      "metadata": {
        "id": "qLkNG9AzEegH",
        "colab_type": "code",
        "colab": {
          "base_uri": "https://localhost:8080/",
          "height": 179
        },
        "outputId": "e23f19e6-34b0-46dd-de2d-563db4d280c7"
      },
      "source": [
        "%%html\n",
        "\n",
        "<svg width=\"160\" height=\"160\">\n",
        "    <defs>\n",
        "        <style>\n",
        "            @keyframes text-move {\n",
        "                0% {\n",
        "                    stroke-dashoffset: 300;\n",
        "                    fill: none;\n",
        "                }\n",
        "\n",
        "                90% {\n",
        "                    fill: skyblue;\n",
        "                }\n",
        "\n",
        "                100% {\n",
        "                    stroke-dashoffset: 0;\n",
        "                    fill: #fff;\n",
        "                }\n",
        "            }\n",
        "\n",
        "            .my-text {\n",
        "                font-size: 72px;\n",
        "                font-weight: bold;\n",
        "                font-family: Arial;\n",
        "                fill: #fff;\n",
        "                stroke: #fff;\n",
        "                animation: text-move 3s ease-out;\n",
        "                stroke-dasharray: 300;\n",
        "            }\n",
        "        </style>\n",
        "    </defs>\n",
        "    <rect x=\"0\" y=\"0\" width=\"160\" height=\"160\" fill=\"skyblue\" />\n",
        "    <text x=\"5\" y=\"150\" class=\"my-text\">\n",
        "        Hi\n",
        "    </text>\n",
        "</svg>"
      ],
      "execution_count": null,
      "outputs": [
        {
          "output_type": "display_data",
          "data": {
            "text/html": [
              "\n",
              "<svg width=\"160\" height=\"160\">\n",
              "    <defs>\n",
              "        <style>\n",
              "            @keyframes text-move {\n",
              "                0% {\n",
              "                    stroke-dashoffset: 300;\n",
              "                    fill: none;\n",
              "                }\n",
              "\n",
              "                90% {\n",
              "                    fill: skyblue;\n",
              "                }\n",
              "\n",
              "                100% {\n",
              "                    stroke-dashoffset: 0;\n",
              "                    fill: #fff;\n",
              "                }\n",
              "            }\n",
              "\n",
              "            .my-text {\n",
              "                font-size: 72px;\n",
              "                font-weight: bold;\n",
              "                font-family: Arial;\n",
              "                fill: #fff;\n",
              "                stroke: #fff;\n",
              "                animation: text-move 3s ease-out;\n",
              "                stroke-dasharray: 300;\n",
              "            }\n",
              "        </style>\n",
              "    </defs>\n",
              "    <rect x=\"0\" y=\"0\" width=\"160\" height=\"160\" fill=\"skyblue\" />\n",
              "    <text x=\"5\" y=\"150\" class=\"my-text\">\n",
              "        Hi\n",
              "    </text>\n",
              "</svg>"
            ],
            "text/plain": [
              "<IPython.core.display.HTML object>"
            ]
          },
          "metadata": {
            "tags": []
          }
        }
      ]
    },
    {
      "cell_type": "code",
      "metadata": {
        "id": "l8OFolpIFgFG",
        "colab_type": "code",
        "colab": {
          "base_uri": "https://localhost:8080/",
          "height": 179
        },
        "outputId": "ab191388-e188-4ecb-c488-656827a368f2"
      },
      "source": [
        "%%html\n",
        "\n",
        "<svg width=\"160\" height=\"160\">\n",
        "    <defs>\n",
        "        <style>\n",
        "            @keyframes text-move {\n",
        "                0% {\n",
        "                    stroke-dashoffset: 300;\n",
        "                    fill: none;\n",
        "                }\n",
        "\n",
        "                90% {\n",
        "                    fill: skyblue;\n",
        "                }\n",
        "\n",
        "                100% {\n",
        "                    stroke-dashoffset: 0;\n",
        "                    fill: #fff;\n",
        "                }\n",
        "            }\n",
        "\n",
        "            .my-text {\n",
        "                font-size: 72px;\n",
        "                font-weight: bold;\n",
        "                font-family: Arial;\n",
        "                fill: #fff;\n",
        "                stroke: #fff;\n",
        "                animation: text-move 3s ease-out;\n",
        "                stroke-dasharray: 300;\n",
        "                transition: .3s ease-out;\n",
        "                cursor: pointer;\n",
        "            }\n",
        "\n",
        "            .my-text.moved {\n",
        "                transform: translateX(160px);\n",
        "            }\n",
        "        </style>\n",
        "    </defs>\n",
        "    <rect x=\"0\" y=\"0\" width=\"160\" height=\"160\" fill=\"skyblue\" />\n",
        "    <text x=\"5\" y=\"150\" id=\"target\" class=\"my-text\">\n",
        "        Hi\n",
        "    </text>\n",
        "</svg>\n",
        "<script>\n",
        "    (function() {\n",
        "      'use strict';\n",
        "\n",
        "      document.getElementById('target').addEventListener('click', function() {\n",
        "        // this.setAttribute('class', 'my-text moved');\n",
        "        this.classList.add('moved');\n",
        "      });\n",
        "    })();\n",
        "</script>"
      ],
      "execution_count": null,
      "outputs": [
        {
          "output_type": "display_data",
          "data": {
            "text/html": [
              "\n",
              "<svg width=\"160\" height=\"160\">\n",
              "    <defs>\n",
              "        <style>\n",
              "            @keyframes text-move {\n",
              "                0% {\n",
              "                    stroke-dashoffset: 300;\n",
              "                    fill: none;\n",
              "                }\n",
              "\n",
              "                90% {\n",
              "                    fill: skyblue;\n",
              "                }\n",
              "\n",
              "                100% {\n",
              "                    stroke-dashoffset: 0;\n",
              "                    fill: #fff;\n",
              "                }\n",
              "            }\n",
              "\n",
              "            .my-text {\n",
              "                font-size: 72px;\n",
              "                font-weight: bold;\n",
              "                font-family: Arial;\n",
              "                fill: #fff;\n",
              "                stroke: #fff;\n",
              "                animation: text-move 3s ease-out;\n",
              "                stroke-dasharray: 300;\n",
              "                transition: .3s ease-out;\n",
              "                cursor: pointer;\n",
              "            }\n",
              "\n",
              "            .my-text.moved {\n",
              "                transform: translateX(160px);\n",
              "            }\n",
              "        </style>\n",
              "    </defs>\n",
              "    <rect x=\"0\" y=\"0\" width=\"160\" height=\"160\" fill=\"skyblue\" />\n",
              "    <text x=\"5\" y=\"150\" id=\"target\" class=\"my-text\">\n",
              "        Hi\n",
              "    </text>\n",
              "</svg>\n",
              "<script>\n",
              "    (function() {\n",
              "      'use strict';\n",
              "\n",
              "      document.getElementById('target').addEventListener('click', function() {\n",
              "        // this.setAttribute('class', 'my-text moved');\n",
              "        this.classList.add('moved');\n",
              "      });\n",
              "    })();\n",
              "</script>"
            ],
            "text/plain": [
              "<IPython.core.display.HTML object>"
            ]
          },
          "metadata": {
            "tags": []
          }
        }
      ]
    },
    {
      "cell_type": "markdown",
      "metadata": {
        "id": "RE9I5bruFzyI",
        "colab_type": "text"
      },
      "source": [
        "`javascript` を混ぜたので `%%svg` だけではエラーになった。`%%html` にしたら動いた。アニメーションが終わったら、クリックすると右に流れる。"
      ]
    },
    {
      "cell_type": "code",
      "metadata": {
        "id": "7sDq29_DrjWz",
        "colab_type": "code",
        "colab": {
          "base_uri": "https://localhost:8080/",
          "height": 179
        },
        "outputId": "b88a754e-6259-4f50-a8e1-ab5fcbe125b0"
      },
      "source": [
        "%%html\n",
        "\n",
        "<svg width=\"290\" height=\"160\">\n",
        "<!--  ノーマル  -->\n",
        "  <line x1=\"20\" y1=\"20\" x2=\"270\" y2=\"20\" stroke=\"red\" stroke-width=\"10\" stroke-linecap=\"butt\" stroke-opacity=\"0.3\" />\n",
        "<!-- 先端に半円  -->\n",
        "  <line x1=\"20\" y1=\"40\" x2=\"270\" y2=\"40\" stroke=\"green\" stroke-width=\"10\" stroke-linecap=\"round\" stroke-opacity=\"0.7\" />\n",
        "<!--  先端に四角形  -->\n",
        "  <line x1=\"20\" y1=\"60\" x2=\"270\" y2=\"60\" stroke=\"blue\" stroke-width=\"10\" stroke-linecap=\"square\" stroke-opacity=\"1\" />\n",
        "<!--  点線  -->\n",
        "  <line x1=\"20\" y1=\"100\" x2=\"270\" y2=\"100\" stroke=\"pink\" stroke-width=\"6\" stroke-linecap=\"butt\" opacity=\"1\" stroke-dasharray=\"10 5\" />\n",
        "<!--  ドットの破線  -->\n",
        "  <line x1=\"20\" y1=\"120\" x2=\"270\" y2=\"120\" stroke=\"lightgreen\" stroke-width=\"6\" stroke-linecap=\"round\" opacity=\"1\" stroke-dasharray=\"0 10\" stroke-dashoffset=\"40\"/>\n",
        "<!--  ２種類の長さの破線  -->\n",
        "  <line x1=\"20\" y1=\"140\" x2=\"270\" y2=\"140\" stroke=\" skyblue\" stroke-width=\"6\" stroke-linecap=\"round\" opacity=\"1\" stroke-dasharray=\"0 10 30 10\" stroke-dashoffset=\"40\"/>\n",
        "  \n",
        "# </svg>"
      ],
      "execution_count": null,
      "outputs": [
        {
          "output_type": "display_data",
          "data": {
            "text/html": [
              "\n",
              "<svg width=\"290\" height=\"160\">\n",
              "<!--  ノーマル  -->\n",
              "  <line x1=\"20\" y1=\"20\" x2=\"270\" y2=\"20\" stroke=\"red\" stroke-width=\"10\" stroke-linecap=\"butt\" stroke-opacity=\"0.3\" />\n",
              "<!-- 先端に半円  -->\n",
              "  <line x1=\"20\" y1=\"40\" x2=\"270\" y2=\"40\" stroke=\"green\" stroke-width=\"10\" stroke-linecap=\"round\" stroke-opacity=\"0.7\" />\n",
              "<!--  先端に四角形  -->\n",
              "  <line x1=\"20\" y1=\"60\" x2=\"270\" y2=\"60\" stroke=\"blue\" stroke-width=\"10\" stroke-linecap=\"square\" stroke-opacity=\"1\" />\n",
              "<!--  点線  -->\n",
              "  <line x1=\"20\" y1=\"100\" x2=\"270\" y2=\"100\" stroke=\"pink\" stroke-width=\"6\" stroke-linecap=\"butt\" opacity=\"1\" stroke-dasharray=\"10 5\" />\n",
              "<!--  ドットの破線  -->\n",
              "  <line x1=\"20\" y1=\"120\" x2=\"270\" y2=\"120\" stroke=\"lightgreen\" stroke-width=\"6\" stroke-linecap=\"round\" opacity=\"1\" stroke-dasharray=\"0 10\" stroke-dashoffset=\"40\"/>\n",
              "<!--  ２種類の長さの破線  -->\n",
              "  <line x1=\"20\" y1=\"140\" x2=\"270\" y2=\"140\" stroke=\" skyblue\" stroke-width=\"6\" stroke-linecap=\"round\" opacity=\"1\" stroke-dasharray=\"0 10 30 10\" stroke-dashoffset=\"40\"/>\n",
              "  \n",
              "# </svg>"
            ],
            "text/plain": [
              "<IPython.core.display.HTML object>"
            ]
          },
          "metadata": {
            "tags": []
          }
        }
      ]
    },
    {
      "cell_type": "code",
      "metadata": {
        "id": "D04ulxdaxDfE",
        "colab_type": "code",
        "colab": {
          "base_uri": "https://localhost:8080/",
          "height": 259
        },
        "outputId": "fa06c651-5ad9-4bbc-a3b2-bbbcc1a29e2c"
      },
      "source": [
        "%%html\n",
        "\n",
        "<svg xmlns=\"http://www.w3.org/2000/svg\" xmlns:xl=\"http://www.w3.org/1999/xlink\" version=\"1.1\" width=\"320\" height=\"240\">\n",
        " <rect width=\"100%\" height=\"100%\" fill=\"#e33\"></rect>\n",
        " <!-- stoke:線色 storke-width:線幅 -->\n",
        " <rect width=\"50%\" height=\"50%\" fill=\"#3e3\" stroke=\"white\" stroke-width=\"5\"></rect>\n",
        " <!-- 点線 stoke-dasharray=\"実線間隔、空白間隔\" -->\n",
        " <rect width=\"25%\" height=\"25%\" fill=\"green\" stroke=\"#333\" stroke-width=\"10\" stroke-dasharray=\"20, 5\"></rect>\n",
        "</svg>"
      ],
      "execution_count": null,
      "outputs": [
        {
          "output_type": "display_data",
          "data": {
            "text/html": [
              "\n",
              "<svg xmlns=\"http://www.w3.org/2000/svg\" xmlns:xl=\"http://www.w3.org/1999/xlink\" version=\"1.1\" width=\"320\" height=\"240\">\n",
              " <rect width=\"100%\" height=\"100%\" fill=\"#e33\"></rect>\n",
              " <!-- stoke:線色 storke-width:線幅 -->\n",
              " <rect width=\"50%\" height=\"50%\" fill=\"#3e3\" stroke=\"white\" stroke-width=\"5\"></rect>\n",
              " <!-- 点線 stoke-dasharray=\"実線間隔、空白間隔\" -->\n",
              " <rect width=\"25%\" height=\"25%\" fill=\"green\" stroke=\"#333\" stroke-width=\"10\" stroke-dasharray=\"20, 5\"></rect>\n",
              "</svg>"
            ],
            "text/plain": [
              "<IPython.core.display.HTML object>"
            ]
          },
          "metadata": {
            "tags": []
          }
        }
      ]
    },
    {
      "cell_type": "code",
      "metadata": {
        "id": "1v9ZbVfVxDYS",
        "colab_type": "code",
        "colab": {
          "base_uri": "https://localhost:8080/",
          "height": 219
        },
        "outputId": "a7c19b7b-e088-4c89-b6db-c507f0c58d1f"
      },
      "source": [
        "%%html\n",
        "\n",
        " <svg xmlns=\"http://www.w3.org/2000/svg\" xmlns:xl=\"http://www.w3.org/1999/xlink\" version=\"1.1\" width=\"300\" height=\"200\" viewbox=\"0 0 300 200\"> \n",
        "  <rect width=\"300\" height=\"200\" fill=\"#e33\"></rect> \n",
        "  <rect width=\"150\" height=\"100\" fill=\"#3e3\"></rect> \n",
        " </svg>"
      ],
      "execution_count": null,
      "outputs": [
        {
          "output_type": "display_data",
          "data": {
            "text/html": [
              "\n",
              " <svg xmlns=\"http://www.w3.org/2000/svg\" xmlns:xl=\"http://www.w3.org/1999/xlink\" version=\"1.1\" width=\"300\" height=\"200\" viewbox=\"0 0 300 200\"> \n",
              "  <rect width=\"300\" height=\"200\" fill=\"#e33\"></rect> \n",
              "  <rect width=\"150\" height=\"100\" fill=\"#3e3\"></rect> \n",
              " </svg>"
            ],
            "text/plain": [
              "<IPython.core.display.HTML object>"
            ]
          },
          "metadata": {
            "tags": []
          }
        }
      ]
    },
    {
      "cell_type": "code",
      "metadata": {
        "id": "oEOD99FzxDPU",
        "colab_type": "code",
        "colab": {
          "base_uri": "https://localhost:8080/",
          "height": 219
        },
        "outputId": "da3a124d-2c8d-424c-8fee-bbe06fcf512c"
      },
      "source": [
        "%%html\n",
        "\n",
        "<svg\n",
        "   xmlns:dc=\"http://purl.org/dc/elements/1.1/\"\n",
        "   xmlns:cc=\"http://creativecommons.org/ns#\"\n",
        "   xmlns:rdf=\"http://www.w3.org/1999/02/22-rdf-syntax-ns#\"\n",
        "   xmlns:svg=\"http://www.w3.org/2000/svg\"\n",
        "   xmlns=\"http://www.w3.org/2000/svg\"\n",
        "   xmlns:xlink=\"http://www.w3.org/1999/xlink\"\n",
        "   version=\"1.1\"\n",
        "   id=\"svg4200\"\n",
        "   viewBox=\"0 0 1200 200\"\n",
        "   height=\"200\"\n",
        "   width=\"1200\">\n",
        "  <defs\n",
        "     id=\"defs4202\">\n",
        "    <marker\n",
        "       style=\"overflow:visible\"\n",
        "       id=\"Arrow2Mstart\"\n",
        "       refX=\"0\"\n",
        "       refY=\"0\"\n",
        "       orient=\"auto\">\n",
        "      <path\n",
        "         transform=\"scale(0.6,0.6)\"\n",
        "         d=\"M 8.7185878,4.0337352 -2.2072895,0.01601326 8.7185884,-4.0017078 c -1.7454984,2.3720609 -1.7354408,5.6174519 -6e-7,8.035443 z\"\n",
        "         style=\"fill:#000000;fill-opacity:1;fill-rule:evenodd;stroke:#000000;stroke-width:0.625;stroke-linejoin:round;stroke-opacity:1\"\n",
        "         id=\"path9328\" />\n",
        "    </marker>\n",
        "    <marker\n",
        "       style=\"overflow:visible\"\n",
        "       id=\"Arrow2Mend\"\n",
        "       refX=\"0\"\n",
        "       refY=\"0\"\n",
        "       orient=\"auto\">\n",
        "      <path\n",
        "         transform=\"scale(-0.6,-0.6)\"\n",
        "         d=\"M 8.7185878,4.0337352 -2.2072895,0.01601326 8.7185884,-4.0017078 c -1.7454984,2.3720609 -1.7354408,5.6174519 -6e-7,8.035443 z\"\n",
        "         style=\"fill:#000000;fill-opacity:1;fill-rule:evenodd;stroke:#000000;stroke-width:0.625;stroke-linejoin:round;stroke-opacity:1\"\n",
        "         id=\"path4173\" />\n",
        "    </marker>\n",
        "  </defs>\n",
        "  <metadata\n",
        "     id=\"metadata4205\">\n",
        "    <rdf:RDF>\n",
        "      <cc:Work\n",
        "         rdf:about=\"\">\n",
        "        <dc:format>image/svg+xml</dc:format>\n",
        "        <dc:type\n",
        "           rdf:resource=\"http://purl.org/dc/dcmitype/StillImage\" />\n",
        "        <dc:title></dc:title>\n",
        "      </cc:Work>\n",
        "    </rdf:RDF>\n",
        "  </metadata>\n",
        "  <g\n",
        "     transform=\"translate(0,-852.36216)\"\n",
        "     id=\"layer1\">\n",
        "    <path\n",
        "       id=\"path3340\"\n",
        "       d=\"m 100,952.36216 1000,0\"\n",
        "       style=\"fill:none;fill-rule:evenodd;stroke:#000000;stroke-width:5;stroke-linecap:butt;stroke-linejoin:miter;stroke-miterlimit:4;stroke-dasharray:none;stroke-opacity:1;marker-start:url(#Arrow2Mstart);marker-end:url(#Arrow2Mend)\" />\n",
        "    <path\n",
        "       id=\"path4448\"\n",
        "       d=\"m 200,972.36216 0,-40\"\n",
        "       style=\"fill:none;fill-rule:evenodd;stroke:#000000;stroke-width:5;stroke-linecap:butt;stroke-linejoin:miter;stroke-miterlimit:4;stroke-dasharray:none;stroke-opacity:1\" />\n",
        "    <g\n",
        "       id=\"flowRoot4563\"\n",
        "       style=\"font-style:normal;font-weight:normal;font-size:45px;line-height:125%;font-family:sans-serif;letter-spacing:0px;word-spacing:0px;fill:#000000;fill-opacity:1;stroke:none;stroke-width:1px;stroke-linecap:butt;stroke-linejoin:miter;stroke-opacity:1\"\n",
        "       transform=\"translate(566.01015,833.86256)\">\n",
        "      <path\n",
        "         id=\"path4261\"\n",
        "         style=\"\"\n",
        "         d=\"m 34.304199,154.9709 q -3.427734,0 -5.163574,3.38379 -1.713867,3.36182 -1.713867,10.12939 0,6.74561 1.713867,10.1294 1.73584,3.36181 5.163574,3.36181 3.449707,0 5.163574,-3.36181 1.73584,-3.38379 1.73584,-10.1294 0,-6.76757 -1.73584,-10.12939 -1.713867,-3.38379 -5.163574,-3.38379 z m 0,-3.51563 q 5.515137,0 8.415528,4.37256 2.922363,4.35059 2.922363,12.65625 0,8.28369 -2.922363,12.65625 -2.900391,4.35059 -8.415528,4.35059 -5.515137,0 -8.4375,-4.35059 -2.90039,-4.37256 -2.90039,-12.65625 0,-8.30566 2.90039,-12.65625 2.922363,-4.37256 8.4375,-4.37256 z\" />\n",
        "    </g>\n",
        "    <g\n",
        "       id=\"flowRoot4595\"\n",
        "       style=\"font-style:normal;font-weight:normal;font-size:45px;line-height:125%;font-family:sans-serif;letter-spacing:0px;word-spacing:0px;fill:#000000;fill-opacity:1;stroke:none;stroke-width:1px;stroke-linecap:butt;stroke-linejoin:miter;stroke-opacity:1\"\n",
        "       transform=\"translate(669.01015,833.86256)\">\n",
        "      <path\n",
        "         id=\"path4258\"\n",
        "         style=\"\"\n",
        "         d=\"m 25.581055,181.11836 7.250976,0 0,-25.02685 -7.888183,1.58203 0,-4.04297 7.844238,-1.58203 4.438476,0 0,29.06982 7.250977,0 0,3.73535 -18.896484,0 0,-3.73535 z\" />\n",
        "    </g>\n",
        "    <g\n",
        "       id=\"flowRoot4613\"\n",
        "       style=\"font-style:normal;font-weight:normal;font-size:45px;line-height:125%;font-family:sans-serif;letter-spacing:0px;word-spacing:0px;fill:#000000;fill-opacity:1;stroke:none;stroke-width:1px;stroke-linecap:butt;stroke-linejoin:miter;stroke-opacity:1\"\n",
        "       transform=\"translate(766.01015,833.86256)\">\n",
        "      <path\n",
        "         id=\"path4255\"\n",
        "         style=\"\"\n",
        "         d=\"m 28.635254,181.11836 15.490723,0 0,3.73535 -20.830079,0 0,-3.73535 q 2.526856,-2.61475 6.877442,-7.00928 4.372558,-4.4165 5.493164,-5.69091 2.131348,-2.39502 2.966308,-4.04297 0.856934,-1.66993 0.856934,-3.27393 0,-2.61475 -1.845703,-4.26269 -1.823731,-1.64795 -4.768066,-1.64795 -2.087403,0 -4.416504,0.72509 -2.307129,0.7251 -4.943848,2.19727 l 0,-4.48242 q 2.680664,-1.07666 5.009766,-1.62598 2.329101,-0.54932 4.262695,-0.54932 5.097656,0 8.129883,2.54883 3.032226,2.54883 3.032226,6.81153 0,2.02148 -0.769043,3.84521 -0.74707,1.80176 -2.746582,4.2627 -0.549316,0.6372 -3.493652,3.6914 -2.944336,3.03223 -8.305664,8.50342 z\" />\n",
        "    </g>\n",
        "    <g\n",
        "       id=\"flowRoot4621\"\n",
        "       style=\"font-style:normal;font-weight:normal;font-size:45px;line-height:125%;font-family:sans-serif;letter-spacing:0px;word-spacing:0px;fill:#000000;fill-opacity:1;stroke:none;stroke-width:1px;stroke-linecap:butt;stroke-linejoin:miter;stroke-opacity:1\"\n",
        "       transform=\"translate(866.01015,833.86256)\">\n",
        "      <path\n",
        "         id=\"path4252\"\n",
        "         style=\"\"\n",
        "         d=\"m 38.259277,167.16572 q 3.186035,0.68116 4.965821,2.83448 1.801757,2.15332 1.801757,5.31738 0,4.85596 -3.339843,7.51465 -3.339844,2.65869 -9.492188,2.65869 -2.065429,0 -4.262695,-0.41748 -2.175293,-0.39551 -4.504395,-1.2085 l 0,-4.28467 q 1.845703,1.07666 4.042969,1.62598 2.197266,0.54932 4.592285,0.54932 4.174805,0 6.350098,-1.64795 2.197266,-1.64795 2.197266,-4.79004 0,-2.90039 -2.043457,-4.52637 -2.021485,-1.64795 -5.646973,-1.64795 l -3.823242,0 0,-3.64746 3.999023,0 q 3.273926,0 5.009766,-1.29638 1.73584,-1.31836 1.73584,-3.7793 0,-2.52686 -1.801758,-3.86719 -1.779785,-1.3623 -5.119629,-1.3623 -1.823731,0 -3.911133,0.3955 -2.087402,0.39551 -4.592285,1.23047 l 0,-3.95508 q 2.526855,-0.70312 4.724121,-1.05468 2.219238,-0.35157 4.174805,-0.35157 5.053711,0 7.998047,2.30713 2.944335,2.28516 2.944335,6.19629 0,2.72461 -1.560058,4.61426 -1.560059,1.86768 -4.438477,2.59277 z\" />\n",
        "    </g>\n",
        "    <g\n",
        "       id=\"flowRoot4629\"\n",
        "       style=\"font-style:normal;font-weight:normal;font-size:45px;line-height:125%;font-family:sans-serif;letter-spacing:0px;word-spacing:0px;fill:#000000;fill-opacity:1;stroke:none;stroke-width:1px;stroke-linecap:butt;stroke-linejoin:miter;stroke-opacity:1\"\n",
        "       transform=\"translate(966.72443,833.86256)\">\n",
        "      <path\n",
        "         id=\"path4249\"\n",
        "         style=\"\"\n",
        "         d=\"m 37.006836,155.91572 -11.206055,17.51221 11.206055,0 0,-17.51221 z m -1.164551,-3.86718 5.581055,0 0,21.37939 4.680176,0 0,3.69141 -4.680176,0 0,7.73437 -4.416504,0 0,-7.73437 -14.80957,0 0,-4.28467 13.645019,-20.78613 z\" />\n",
        "    </g>\n",
        "    <g\n",
        "       id=\"flowRoot4637\"\n",
        "       style=\"font-style:normal;font-weight:normal;font-size:45px;line-height:125%;font-family:sans-serif;letter-spacing:0px;word-spacing:0px;fill:#000000;fill-opacity:1;stroke:none;stroke-width:1px;stroke-linecap:butt;stroke-linejoin:miter;stroke-opacity:1\"\n",
        "       transform=\"translate(130.58786,833.86256)\">\n",
        "      <path\n",
        "         id=\"path4244\"\n",
        "         style=\"\"\n",
        "         d=\"m 24.768066,168.87959 28.168946,0 0,3.73535 -28.168946,0 0,-3.73535 z\" />\n",
        "      <path\n",
        "         id=\"path4246\"\n",
        "         style=\"\"\n",
        "         d=\"m 74.711914,155.91572 -11.206055,17.51221 11.206055,0 0,-17.51221 z m -1.164551,-3.86718 5.581055,0 0,21.37939 4.680176,0 0,3.69141 -4.680176,0 0,7.73437 -4.416504,0 0,-7.73437 -14.80957,0 0,-4.28467 13.645019,-20.78613 z\" />\n",
        "    </g>\n",
        "    <g\n",
        "       id=\"flowRoot4645\"\n",
        "       style=\"font-style:normal;font-weight:normal;font-size:45px;line-height:125%;font-family:sans-serif;letter-spacing:0px;word-spacing:0px;fill:#000000;fill-opacity:1;stroke:none;stroke-width:1px;stroke-linecap:butt;stroke-linejoin:miter;stroke-opacity:1\"\n",
        "       transform=\"translate(229.15925,833.86256)\">\n",
        "      <path\n",
        "         id=\"path4239\"\n",
        "         style=\"\"\n",
        "         d=\"m 24.768066,168.87959 28.168946,0 0,3.73535 -28.168946,0 0,-3.73535 z\" />\n",
        "      <path\n",
        "         id=\"path4241\"\n",
        "         style=\"\"\n",
        "         d=\"m 75.964355,167.16572 q 3.186036,0.68116 4.965821,2.83448 1.801758,2.15332 1.801758,5.31738 0,4.85596 -3.339844,7.51465 -3.339844,2.65869 -9.492188,2.65869 -2.065429,0 -4.262695,-0.41748 -2.175293,-0.39551 -4.504395,-1.2085 l 0,-4.28467 q 1.845704,1.07666 4.042969,1.62598 2.197266,0.54932 4.592285,0.54932 4.174805,0 6.350098,-1.64795 2.197266,-1.64795 2.197266,-4.79004 0,-2.90039 -2.043457,-4.52637 -2.021485,-1.64795 -5.646973,-1.64795 l -3.823242,0 0,-3.64746 3.999023,0 q 3.273926,0 5.009766,-1.29638 1.73584,-1.31836 1.73584,-3.7793 0,-2.52686 -1.801758,-3.86719 -1.779785,-1.3623 -5.119629,-1.3623 -1.82373,0 -3.911133,0.3955 -2.087402,0.39551 -4.592285,1.23047 l 0,-3.95508 q 2.526855,-0.70312 4.724121,-1.05468 2.219238,-0.35157 4.174805,-0.35157 5.053711,0 7.998047,2.30713 2.944336,2.28516 2.944336,6.19629 0,2.72461 -1.560059,4.61426 -1.560059,1.86768 -4.438477,2.59277 z\" />\n",
        "    </g>\n",
        "    <g\n",
        "       id=\"flowRoot4653\"\n",
        "       style=\"font-style:normal;font-weight:normal;font-size:45px;line-height:125%;font-family:sans-serif;letter-spacing:0px;word-spacing:0px;fill:#000000;fill-opacity:1;stroke:none;stroke-width:1px;stroke-linecap:butt;stroke-linejoin:miter;stroke-opacity:1\"\n",
        "       transform=\"translate(329.15925,833.86256)\">\n",
        "      <path\n",
        "         id=\"path4234\"\n",
        "         style=\"\"\n",
        "         d=\"m 24.768066,168.87959 28.168946,0 0,3.73535 -28.168946,0 0,-3.73535 z\" />\n",
        "      <path\n",
        "         id=\"path4236\"\n",
        "         style=\"\"\n",
        "         d=\"m 66.340332,181.11836 15.490723,0 0,3.73535 -20.830078,0 0,-3.73535 q 2.526855,-2.61475 6.877441,-7.00928 4.372559,-4.4165 5.493164,-5.69091 2.131348,-2.39502 2.966309,-4.04297 0.856933,-1.66993 0.856933,-3.27393 0,-2.61475 -1.845703,-4.26269 -1.82373,-1.64795 -4.768066,-1.64795 -2.087403,0 -4.416504,0.72509 -2.307129,0.7251 -4.943848,2.19727 l 0,-4.48242 q 2.680664,-1.07666 5.009766,-1.62598 2.329101,-0.54932 4.262695,-0.54932 5.097656,0 8.129883,2.54883 3.032226,2.54883 3.032226,6.81153 0,2.02148 -0.769043,3.84521 -0.74707,1.80176 -2.746582,4.2627 -0.549316,0.6372 -3.493652,3.6914 -2.944336,3.03223 -8.305664,8.50342 z\" />\n",
        "    </g>\n",
        "    <g\n",
        "       id=\"flowRoot4661\"\n",
        "       style=\"font-style:normal;font-weight:normal;font-size:45px;line-height:125%;font-family:sans-serif;letter-spacing:0px;word-spacing:0px;fill:#000000;fill-opacity:1;stroke:none;stroke-width:1px;stroke-linecap:butt;stroke-linejoin:miter;stroke-opacity:1\"\n",
        "       transform=\"translate(429.15925,833.86256)\">\n",
        "      <path\n",
        "         id=\"path4229\"\n",
        "         style=\"\"\n",
        "         d=\"m 24.768066,168.87959 28.168946,0 0,3.73535 -28.168946,0 0,-3.73535 z\" />\n",
        "      <path\n",
        "         id=\"path4231\"\n",
        "         style=\"\"\n",
        "         d=\"m 63.286133,181.11836 7.250976,0 0,-25.02685 -7.888183,1.58203 0,-4.04297 7.844238,-1.58203 4.438477,0 0,29.06982 7.250976,0 0,3.73535 -18.896484,0 0,-3.73535 z\" />\n",
        "    </g>\n",
        "    <use\n",
        "       height=\"100%\"\n",
        "       width=\"100%\"\n",
        "       transform=\"translate(100,0)\"\n",
        "       id=\"use6651\"\n",
        "       xlink:href=\"#path4448\"\n",
        "       y=\"0\"\n",
        "       x=\"0\" />\n",
        "    <use\n",
        "       height=\"100%\"\n",
        "       width=\"100%\"\n",
        "       transform=\"translate(200,0)\"\n",
        "       id=\"use6653\"\n",
        "       xlink:href=\"#path4448\"\n",
        "       y=\"0\"\n",
        "       x=\"0\" />\n",
        "    <use\n",
        "       height=\"100%\"\n",
        "       width=\"100%\"\n",
        "       transform=\"translate(300,0)\"\n",
        "       id=\"use6655\"\n",
        "       xlink:href=\"#path4448\"\n",
        "       y=\"0\"\n",
        "       x=\"0\" />\n",
        "    <use\n",
        "       height=\"100%\"\n",
        "       width=\"100%\"\n",
        "       transform=\"translate(400,0)\"\n",
        "       id=\"use6657\"\n",
        "       xlink:href=\"#path4448\"\n",
        "       y=\"0\"\n",
        "       x=\"0\" />\n",
        "    <use\n",
        "       height=\"100%\"\n",
        "       width=\"100%\"\n",
        "       transform=\"translate(500,0)\"\n",
        "       id=\"use6659\"\n",
        "       xlink:href=\"#path4448\"\n",
        "       y=\"0\"\n",
        "       x=\"0\" />\n",
        "    <use\n",
        "       height=\"100%\"\n",
        "       width=\"100%\"\n",
        "       transform=\"translate(600,0)\"\n",
        "       id=\"use6661\"\n",
        "       xlink:href=\"#path4448\"\n",
        "       y=\"0\"\n",
        "       x=\"0\" />\n",
        "    <use\n",
        "       height=\"100%\"\n",
        "       width=\"100%\"\n",
        "       transform=\"translate(700,0)\"\n",
        "       id=\"use6663\"\n",
        "       xlink:href=\"#path4448\"\n",
        "       y=\"0\"\n",
        "       x=\"0\" />\n",
        "    <use\n",
        "       height=\"100%\"\n",
        "       width=\"100%\"\n",
        "       transform=\"translate(800,0)\"\n",
        "       id=\"use6665\"\n",
        "       xlink:href=\"#path4448\"\n",
        "       y=\"0\"\n",
        "       x=\"0\" />\n",
        "  </g>\n",
        "</svg>\n"
      ],
      "execution_count": null,
      "outputs": [
        {
          "output_type": "display_data",
          "data": {
            "text/html": [
              "\n",
              "<svg\n",
              "   xmlns:dc=\"http://purl.org/dc/elements/1.1/\"\n",
              "   xmlns:cc=\"http://creativecommons.org/ns#\"\n",
              "   xmlns:rdf=\"http://www.w3.org/1999/02/22-rdf-syntax-ns#\"\n",
              "   xmlns:svg=\"http://www.w3.org/2000/svg\"\n",
              "   xmlns=\"http://www.w3.org/2000/svg\"\n",
              "   xmlns:xlink=\"http://www.w3.org/1999/xlink\"\n",
              "   version=\"1.1\"\n",
              "   id=\"svg4200\"\n",
              "   viewBox=\"0 0 1200 200\"\n",
              "   height=\"200\"\n",
              "   width=\"1200\">\n",
              "  <defs\n",
              "     id=\"defs4202\">\n",
              "    <marker\n",
              "       style=\"overflow:visible\"\n",
              "       id=\"Arrow2Mstart\"\n",
              "       refX=\"0\"\n",
              "       refY=\"0\"\n",
              "       orient=\"auto\">\n",
              "      <path\n",
              "         transform=\"scale(0.6,0.6)\"\n",
              "         d=\"M 8.7185878,4.0337352 -2.2072895,0.01601326 8.7185884,-4.0017078 c -1.7454984,2.3720609 -1.7354408,5.6174519 -6e-7,8.035443 z\"\n",
              "         style=\"fill:#000000;fill-opacity:1;fill-rule:evenodd;stroke:#000000;stroke-width:0.625;stroke-linejoin:round;stroke-opacity:1\"\n",
              "         id=\"path9328\" />\n",
              "    </marker>\n",
              "    <marker\n",
              "       style=\"overflow:visible\"\n",
              "       id=\"Arrow2Mend\"\n",
              "       refX=\"0\"\n",
              "       refY=\"0\"\n",
              "       orient=\"auto\">\n",
              "      <path\n",
              "         transform=\"scale(-0.6,-0.6)\"\n",
              "         d=\"M 8.7185878,4.0337352 -2.2072895,0.01601326 8.7185884,-4.0017078 c -1.7454984,2.3720609 -1.7354408,5.6174519 -6e-7,8.035443 z\"\n",
              "         style=\"fill:#000000;fill-opacity:1;fill-rule:evenodd;stroke:#000000;stroke-width:0.625;stroke-linejoin:round;stroke-opacity:1\"\n",
              "         id=\"path4173\" />\n",
              "    </marker>\n",
              "  </defs>\n",
              "  <metadata\n",
              "     id=\"metadata4205\">\n",
              "    <rdf:RDF>\n",
              "      <cc:Work\n",
              "         rdf:about=\"\">\n",
              "        <dc:format>image/svg+xml</dc:format>\n",
              "        <dc:type\n",
              "           rdf:resource=\"http://purl.org/dc/dcmitype/StillImage\" />\n",
              "        <dc:title></dc:title>\n",
              "      </cc:Work>\n",
              "    </rdf:RDF>\n",
              "  </metadata>\n",
              "  <g\n",
              "     transform=\"translate(0,-852.36216)\"\n",
              "     id=\"layer1\">\n",
              "    <path\n",
              "       id=\"path3340\"\n",
              "       d=\"m 100,952.36216 1000,0\"\n",
              "       style=\"fill:none;fill-rule:evenodd;stroke:#000000;stroke-width:5;stroke-linecap:butt;stroke-linejoin:miter;stroke-miterlimit:4;stroke-dasharray:none;stroke-opacity:1;marker-start:url(#Arrow2Mstart);marker-end:url(#Arrow2Mend)\" />\n",
              "    <path\n",
              "       id=\"path4448\"\n",
              "       d=\"m 200,972.36216 0,-40\"\n",
              "       style=\"fill:none;fill-rule:evenodd;stroke:#000000;stroke-width:5;stroke-linecap:butt;stroke-linejoin:miter;stroke-miterlimit:4;stroke-dasharray:none;stroke-opacity:1\" />\n",
              "    <g\n",
              "       id=\"flowRoot4563\"\n",
              "       style=\"font-style:normal;font-weight:normal;font-size:45px;line-height:125%;font-family:sans-serif;letter-spacing:0px;word-spacing:0px;fill:#000000;fill-opacity:1;stroke:none;stroke-width:1px;stroke-linecap:butt;stroke-linejoin:miter;stroke-opacity:1\"\n",
              "       transform=\"translate(566.01015,833.86256)\">\n",
              "      <path\n",
              "         id=\"path4261\"\n",
              "         style=\"\"\n",
              "         d=\"m 34.304199,154.9709 q -3.427734,0 -5.163574,3.38379 -1.713867,3.36182 -1.713867,10.12939 0,6.74561 1.713867,10.1294 1.73584,3.36181 5.163574,3.36181 3.449707,0 5.163574,-3.36181 1.73584,-3.38379 1.73584,-10.1294 0,-6.76757 -1.73584,-10.12939 -1.713867,-3.38379 -5.163574,-3.38379 z m 0,-3.51563 q 5.515137,0 8.415528,4.37256 2.922363,4.35059 2.922363,12.65625 0,8.28369 -2.922363,12.65625 -2.900391,4.35059 -8.415528,4.35059 -5.515137,0 -8.4375,-4.35059 -2.90039,-4.37256 -2.90039,-12.65625 0,-8.30566 2.90039,-12.65625 2.922363,-4.37256 8.4375,-4.37256 z\" />\n",
              "    </g>\n",
              "    <g\n",
              "       id=\"flowRoot4595\"\n",
              "       style=\"font-style:normal;font-weight:normal;font-size:45px;line-height:125%;font-family:sans-serif;letter-spacing:0px;word-spacing:0px;fill:#000000;fill-opacity:1;stroke:none;stroke-width:1px;stroke-linecap:butt;stroke-linejoin:miter;stroke-opacity:1\"\n",
              "       transform=\"translate(669.01015,833.86256)\">\n",
              "      <path\n",
              "         id=\"path4258\"\n",
              "         style=\"\"\n",
              "         d=\"m 25.581055,181.11836 7.250976,0 0,-25.02685 -7.888183,1.58203 0,-4.04297 7.844238,-1.58203 4.438476,0 0,29.06982 7.250977,0 0,3.73535 -18.896484,0 0,-3.73535 z\" />\n",
              "    </g>\n",
              "    <g\n",
              "       id=\"flowRoot4613\"\n",
              "       style=\"font-style:normal;font-weight:normal;font-size:45px;line-height:125%;font-family:sans-serif;letter-spacing:0px;word-spacing:0px;fill:#000000;fill-opacity:1;stroke:none;stroke-width:1px;stroke-linecap:butt;stroke-linejoin:miter;stroke-opacity:1\"\n",
              "       transform=\"translate(766.01015,833.86256)\">\n",
              "      <path\n",
              "         id=\"path4255\"\n",
              "         style=\"\"\n",
              "         d=\"m 28.635254,181.11836 15.490723,0 0,3.73535 -20.830079,0 0,-3.73535 q 2.526856,-2.61475 6.877442,-7.00928 4.372558,-4.4165 5.493164,-5.69091 2.131348,-2.39502 2.966308,-4.04297 0.856934,-1.66993 0.856934,-3.27393 0,-2.61475 -1.845703,-4.26269 -1.823731,-1.64795 -4.768066,-1.64795 -2.087403,0 -4.416504,0.72509 -2.307129,0.7251 -4.943848,2.19727 l 0,-4.48242 q 2.680664,-1.07666 5.009766,-1.62598 2.329101,-0.54932 4.262695,-0.54932 5.097656,0 8.129883,2.54883 3.032226,2.54883 3.032226,6.81153 0,2.02148 -0.769043,3.84521 -0.74707,1.80176 -2.746582,4.2627 -0.549316,0.6372 -3.493652,3.6914 -2.944336,3.03223 -8.305664,8.50342 z\" />\n",
              "    </g>\n",
              "    <g\n",
              "       id=\"flowRoot4621\"\n",
              "       style=\"font-style:normal;font-weight:normal;font-size:45px;line-height:125%;font-family:sans-serif;letter-spacing:0px;word-spacing:0px;fill:#000000;fill-opacity:1;stroke:none;stroke-width:1px;stroke-linecap:butt;stroke-linejoin:miter;stroke-opacity:1\"\n",
              "       transform=\"translate(866.01015,833.86256)\">\n",
              "      <path\n",
              "         id=\"path4252\"\n",
              "         style=\"\"\n",
              "         d=\"m 38.259277,167.16572 q 3.186035,0.68116 4.965821,2.83448 1.801757,2.15332 1.801757,5.31738 0,4.85596 -3.339843,7.51465 -3.339844,2.65869 -9.492188,2.65869 -2.065429,0 -4.262695,-0.41748 -2.175293,-0.39551 -4.504395,-1.2085 l 0,-4.28467 q 1.845703,1.07666 4.042969,1.62598 2.197266,0.54932 4.592285,0.54932 4.174805,0 6.350098,-1.64795 2.197266,-1.64795 2.197266,-4.79004 0,-2.90039 -2.043457,-4.52637 -2.021485,-1.64795 -5.646973,-1.64795 l -3.823242,0 0,-3.64746 3.999023,0 q 3.273926,0 5.009766,-1.29638 1.73584,-1.31836 1.73584,-3.7793 0,-2.52686 -1.801758,-3.86719 -1.779785,-1.3623 -5.119629,-1.3623 -1.823731,0 -3.911133,0.3955 -2.087402,0.39551 -4.592285,1.23047 l 0,-3.95508 q 2.526855,-0.70312 4.724121,-1.05468 2.219238,-0.35157 4.174805,-0.35157 5.053711,0 7.998047,2.30713 2.944335,2.28516 2.944335,6.19629 0,2.72461 -1.560058,4.61426 -1.560059,1.86768 -4.438477,2.59277 z\" />\n",
              "    </g>\n",
              "    <g\n",
              "       id=\"flowRoot4629\"\n",
              "       style=\"font-style:normal;font-weight:normal;font-size:45px;line-height:125%;font-family:sans-serif;letter-spacing:0px;word-spacing:0px;fill:#000000;fill-opacity:1;stroke:none;stroke-width:1px;stroke-linecap:butt;stroke-linejoin:miter;stroke-opacity:1\"\n",
              "       transform=\"translate(966.72443,833.86256)\">\n",
              "      <path\n",
              "         id=\"path4249\"\n",
              "         style=\"\"\n",
              "         d=\"m 37.006836,155.91572 -11.206055,17.51221 11.206055,0 0,-17.51221 z m -1.164551,-3.86718 5.581055,0 0,21.37939 4.680176,0 0,3.69141 -4.680176,0 0,7.73437 -4.416504,0 0,-7.73437 -14.80957,0 0,-4.28467 13.645019,-20.78613 z\" />\n",
              "    </g>\n",
              "    <g\n",
              "       id=\"flowRoot4637\"\n",
              "       style=\"font-style:normal;font-weight:normal;font-size:45px;line-height:125%;font-family:sans-serif;letter-spacing:0px;word-spacing:0px;fill:#000000;fill-opacity:1;stroke:none;stroke-width:1px;stroke-linecap:butt;stroke-linejoin:miter;stroke-opacity:1\"\n",
              "       transform=\"translate(130.58786,833.86256)\">\n",
              "      <path\n",
              "         id=\"path4244\"\n",
              "         style=\"\"\n",
              "         d=\"m 24.768066,168.87959 28.168946,0 0,3.73535 -28.168946,0 0,-3.73535 z\" />\n",
              "      <path\n",
              "         id=\"path4246\"\n",
              "         style=\"\"\n",
              "         d=\"m 74.711914,155.91572 -11.206055,17.51221 11.206055,0 0,-17.51221 z m -1.164551,-3.86718 5.581055,0 0,21.37939 4.680176,0 0,3.69141 -4.680176,0 0,7.73437 -4.416504,0 0,-7.73437 -14.80957,0 0,-4.28467 13.645019,-20.78613 z\" />\n",
              "    </g>\n",
              "    <g\n",
              "       id=\"flowRoot4645\"\n",
              "       style=\"font-style:normal;font-weight:normal;font-size:45px;line-height:125%;font-family:sans-serif;letter-spacing:0px;word-spacing:0px;fill:#000000;fill-opacity:1;stroke:none;stroke-width:1px;stroke-linecap:butt;stroke-linejoin:miter;stroke-opacity:1\"\n",
              "       transform=\"translate(229.15925,833.86256)\">\n",
              "      <path\n",
              "         id=\"path4239\"\n",
              "         style=\"\"\n",
              "         d=\"m 24.768066,168.87959 28.168946,0 0,3.73535 -28.168946,0 0,-3.73535 z\" />\n",
              "      <path\n",
              "         id=\"path4241\"\n",
              "         style=\"\"\n",
              "         d=\"m 75.964355,167.16572 q 3.186036,0.68116 4.965821,2.83448 1.801758,2.15332 1.801758,5.31738 0,4.85596 -3.339844,7.51465 -3.339844,2.65869 -9.492188,2.65869 -2.065429,0 -4.262695,-0.41748 -2.175293,-0.39551 -4.504395,-1.2085 l 0,-4.28467 q 1.845704,1.07666 4.042969,1.62598 2.197266,0.54932 4.592285,0.54932 4.174805,0 6.350098,-1.64795 2.197266,-1.64795 2.197266,-4.79004 0,-2.90039 -2.043457,-4.52637 -2.021485,-1.64795 -5.646973,-1.64795 l -3.823242,0 0,-3.64746 3.999023,0 q 3.273926,0 5.009766,-1.29638 1.73584,-1.31836 1.73584,-3.7793 0,-2.52686 -1.801758,-3.86719 -1.779785,-1.3623 -5.119629,-1.3623 -1.82373,0 -3.911133,0.3955 -2.087402,0.39551 -4.592285,1.23047 l 0,-3.95508 q 2.526855,-0.70312 4.724121,-1.05468 2.219238,-0.35157 4.174805,-0.35157 5.053711,0 7.998047,2.30713 2.944336,2.28516 2.944336,6.19629 0,2.72461 -1.560059,4.61426 -1.560059,1.86768 -4.438477,2.59277 z\" />\n",
              "    </g>\n",
              "    <g\n",
              "       id=\"flowRoot4653\"\n",
              "       style=\"font-style:normal;font-weight:normal;font-size:45px;line-height:125%;font-family:sans-serif;letter-spacing:0px;word-spacing:0px;fill:#000000;fill-opacity:1;stroke:none;stroke-width:1px;stroke-linecap:butt;stroke-linejoin:miter;stroke-opacity:1\"\n",
              "       transform=\"translate(329.15925,833.86256)\">\n",
              "      <path\n",
              "         id=\"path4234\"\n",
              "         style=\"\"\n",
              "         d=\"m 24.768066,168.87959 28.168946,0 0,3.73535 -28.168946,0 0,-3.73535 z\" />\n",
              "      <path\n",
              "         id=\"path4236\"\n",
              "         style=\"\"\n",
              "         d=\"m 66.340332,181.11836 15.490723,0 0,3.73535 -20.830078,0 0,-3.73535 q 2.526855,-2.61475 6.877441,-7.00928 4.372559,-4.4165 5.493164,-5.69091 2.131348,-2.39502 2.966309,-4.04297 0.856933,-1.66993 0.856933,-3.27393 0,-2.61475 -1.845703,-4.26269 -1.82373,-1.64795 -4.768066,-1.64795 -2.087403,0 -4.416504,0.72509 -2.307129,0.7251 -4.943848,2.19727 l 0,-4.48242 q 2.680664,-1.07666 5.009766,-1.62598 2.329101,-0.54932 4.262695,-0.54932 5.097656,0 8.129883,2.54883 3.032226,2.54883 3.032226,6.81153 0,2.02148 -0.769043,3.84521 -0.74707,1.80176 -2.746582,4.2627 -0.549316,0.6372 -3.493652,3.6914 -2.944336,3.03223 -8.305664,8.50342 z\" />\n",
              "    </g>\n",
              "    <g\n",
              "       id=\"flowRoot4661\"\n",
              "       style=\"font-style:normal;font-weight:normal;font-size:45px;line-height:125%;font-family:sans-serif;letter-spacing:0px;word-spacing:0px;fill:#000000;fill-opacity:1;stroke:none;stroke-width:1px;stroke-linecap:butt;stroke-linejoin:miter;stroke-opacity:1\"\n",
              "       transform=\"translate(429.15925,833.86256)\">\n",
              "      <path\n",
              "         id=\"path4229\"\n",
              "         style=\"\"\n",
              "         d=\"m 24.768066,168.87959 28.168946,0 0,3.73535 -28.168946,0 0,-3.73535 z\" />\n",
              "      <path\n",
              "         id=\"path4231\"\n",
              "         style=\"\"\n",
              "         d=\"m 63.286133,181.11836 7.250976,0 0,-25.02685 -7.888183,1.58203 0,-4.04297 7.844238,-1.58203 4.438477,0 0,29.06982 7.250976,0 0,3.73535 -18.896484,0 0,-3.73535 z\" />\n",
              "    </g>\n",
              "    <use\n",
              "       height=\"100%\"\n",
              "       width=\"100%\"\n",
              "       transform=\"translate(100,0)\"\n",
              "       id=\"use6651\"\n",
              "       xlink:href=\"#path4448\"\n",
              "       y=\"0\"\n",
              "       x=\"0\" />\n",
              "    <use\n",
              "       height=\"100%\"\n",
              "       width=\"100%\"\n",
              "       transform=\"translate(200,0)\"\n",
              "       id=\"use6653\"\n",
              "       xlink:href=\"#path4448\"\n",
              "       y=\"0\"\n",
              "       x=\"0\" />\n",
              "    <use\n",
              "       height=\"100%\"\n",
              "       width=\"100%\"\n",
              "       transform=\"translate(300,0)\"\n",
              "       id=\"use6655\"\n",
              "       xlink:href=\"#path4448\"\n",
              "       y=\"0\"\n",
              "       x=\"0\" />\n",
              "    <use\n",
              "       height=\"100%\"\n",
              "       width=\"100%\"\n",
              "       transform=\"translate(400,0)\"\n",
              "       id=\"use6657\"\n",
              "       xlink:href=\"#path4448\"\n",
              "       y=\"0\"\n",
              "       x=\"0\" />\n",
              "    <use\n",
              "       height=\"100%\"\n",
              "       width=\"100%\"\n",
              "       transform=\"translate(500,0)\"\n",
              "       id=\"use6659\"\n",
              "       xlink:href=\"#path4448\"\n",
              "       y=\"0\"\n",
              "       x=\"0\" />\n",
              "    <use\n",
              "       height=\"100%\"\n",
              "       width=\"100%\"\n",
              "       transform=\"translate(600,0)\"\n",
              "       id=\"use6661\"\n",
              "       xlink:href=\"#path4448\"\n",
              "       y=\"0\"\n",
              "       x=\"0\" />\n",
              "    <use\n",
              "       height=\"100%\"\n",
              "       width=\"100%\"\n",
              "       transform=\"translate(700,0)\"\n",
              "       id=\"use6663\"\n",
              "       xlink:href=\"#path4448\"\n",
              "       y=\"0\"\n",
              "       x=\"0\" />\n",
              "    <use\n",
              "       height=\"100%\"\n",
              "       width=\"100%\"\n",
              "       transform=\"translate(800,0)\"\n",
              "       id=\"use6665\"\n",
              "       xlink:href=\"#path4448\"\n",
              "       y=\"0\"\n",
              "       x=\"0\" />\n",
              "  </g>\n",
              "</svg>"
            ],
            "text/plain": [
              "<IPython.core.display.HTML object>"
            ]
          },
          "metadata": {
            "tags": []
          }
        }
      ]
    },
    {
      "cell_type": "code",
      "metadata": {
        "id": "7f1zuLEKxC-w",
        "colab_type": "code",
        "colab": {}
      },
      "source": [
        ""
      ],
      "execution_count": null,
      "outputs": []
    }
  ]
}
