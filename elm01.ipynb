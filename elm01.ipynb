{
  "nbformat": 4,
  "nbformat_minor": 0,
  "metadata": {
    "colab": {
      "name": "elm01.ipynb",
      "provenance": [],
      "toc_visible": true,
      "authorship_tag": "ABX9TyPFHY2gmKXwbI0KrZ1cL51n",
      "include_colab_link": true
    },
    "kernelspec": {
      "name": "python3",
      "display_name": "Python 3"
    }
  },
  "cells": [
    {
      "cell_type": "markdown",
      "metadata": {
        "id": "view-in-github",
        "colab_type": "text"
      },
      "source": [
        "<a href=\"https://colab.research.google.com/github/kalz2q/mycolabnotebooks/blob/master/elm01.ipynb\" target=\"_parent\"><img src=\"https://colab.research.google.com/assets/colab-badge.svg\" alt=\"Open In Colab\"/></a>"
      ]
    },
    {
      "cell_type": "markdown",
      "metadata": {
        "id": "JZqM1qwx2bFV"
      },
      "source": [
        "# メモ\n",
        "\n",
        "Colabの環境を利用して elm を勉強する。\n",
        "\n",
        "elm repl で勉強するのが筋だがそれをなんとか colab でできないか、というアイデア。\n",
        "\n",
        "Elm本家 (https://guide.elm-lang.org/)"
      ]
    },
    {
      "cell_type": "code",
      "metadata": {
        "id": "HS2oZVLZ74fv",
        "colab": {
          "base_uri": "https://localhost:8080/"
        },
        "outputId": "01888866-5176-4c15-df45-164d8c1f7211"
      },
      "source": [
        "# elm をインストールする\n",
        "!curl -L -o elm.gz https://github.com/elm/compiler/releases/download/0.19.1/binary-for-linux-64-bit.gz\n",
        "!gunzip elm\n",
        "!chmod +x elm"
      ],
      "execution_count": 1,
      "outputs": [
        {
          "output_type": "stream",
          "text": [
            "  % Total    % Received % Xferd  Average Speed   Time    Time     Time  Current\n",
            "                                 Dload  Upload   Total   Spent    Left  Speed\n",
            "100   630  100   630    0     0   3333      0 --:--:-- --:--:-- --:--:--  3315\n",
            "100 6647k  100 6647k    0     0  5642k      0  0:00:01  0:00:01 --:--:-- 10.7M\n"
          ],
          "name": "stdout"
        }
      ]
    },
    {
      "cell_type": "code",
      "metadata": {
        "id": "DWrnzXKD48sm"
      },
      "source": [
        "!./elm --help"
      ],
      "execution_count": null,
      "outputs": []
    },
    {
      "cell_type": "code",
      "metadata": {
        "id": "tTk4DW0a5njf",
        "colab": {
          "base_uri": "https://localhost:8080/"
        },
        "outputId": "1a39e2ff-e51b-4661-a235-c51489861049"
      },
      "source": [
        "!./elm --version"
      ],
      "execution_count": 6,
      "outputs": [
        {
          "output_type": "stream",
          "text": [
            "0.19.1\n"
          ],
          "name": "stdout"
        }
      ]
    },
    {
      "cell_type": "code",
      "metadata": {
        "id": "VL9JvxWMeLim",
        "colab": {
          "base_uri": "https://localhost:8080/"
        },
        "outputId": "421e527d-9e11-44ca-fa97-b8ee518dcc4e"
      },
      "source": [
        "%%writefile MyProgram.elm\n",
        "module MyProgram exposing (..)\n",
        "print : Int -> Int\n",
        "print num =\n",
        "    Debug.log \"num of destiny\" num\n"
      ],
      "execution_count": 7,
      "outputs": [
        {
          "output_type": "stream",
          "text": [
            "Writing MyProgram.elm\n"
          ],
          "name": "stdout"
        }
      ]
    },
    {
      "cell_type": "code",
      "metadata": {
        "id": "C9ZdIajTgVPY",
        "outputId": "0d83eb14-e162-4fca-f6e2-3e5c7e6c73f0",
        "colab": {
          "base_uri": "https://localhost:8080/"
        }
      },
      "source": [
        "%%writefile Main.elm\n",
        "module Main exposing (..)\n",
        "-- import MyProgram exposing (print)\n",
        "import Platform exposing (worker)\n",
        "\n",
        "print : Int -> Int\n",
        "print num =\n",
        "    Debug.log \"num of destiny\" num\n",
        "\n",
        "nodeProgram : a -> Program () () ()\n",
        "nodeProgram _ =\n",
        "    worker\n",
        "        { init = \\() -> ( (), Cmd.none )\n",
        "        , update = \\() -> \\() -> ( (), Cmd.none )\n",
        "        , subscriptions = \\() -> Sub.none\n",
        "        }\n",
        "\n",
        "main : Program () () ()\n",
        "main = \n",
        "    nodeProgram (print 9)"
      ],
      "execution_count": 59,
      "outputs": [
        {
          "output_type": "stream",
          "text": [
            "Overwriting Main.elm\n"
          ],
          "name": "stdout"
        }
      ]
    },
    {
      "cell_type": "code",
      "metadata": {
        "id": "0Q0dsWSfhSt1",
        "outputId": "977a06e8-5d87-4c65-9443-c4f197a82034",
        "colab": {
          "base_uri": "https://localhost:8080/"
        }
      },
      "source": [
        "!./elm make --output main.js Main.elm"
      ],
      "execution_count": 60,
      "outputs": [
        {
          "output_type": "stream",
          "text": [
            "Compiling ...\rCompiling (1)\rSuccess! Compiled 1 module.\n",
            "\n",
            "    Main ───> main.js\n",
            "\n"
          ],
          "name": "stdout"
        }
      ]
    },
    {
      "cell_type": "code",
      "metadata": {
        "id": "Gr9sby2om4VX",
        "outputId": "bce1e851-abb3-4e95-e8c6-9fe9df00c9e7",
        "colab": {
          "base_uri": "https://localhost:8080/"
        }
      },
      "source": [
        "!node main.js"
      ],
      "execution_count": 62,
      "outputs": [
        {
          "output_type": "stream",
          "text": [
            "Compiled in DEV mode. Follow the advice at https://elm-lang.org/0.19.1/optimize for better performance and smaller assets.\n",
            "num of destiny: 9\n"
          ],
          "name": "stdout"
        }
      ]
    },
    {
      "cell_type": "code",
      "metadata": {
        "id": "2wtxwKrae1ZP",
        "colab": {
          "base_uri": "https://localhost:8080/"
        },
        "outputId": "e4361851-f1f3-4847-eb6c-f2a35debb795"
      },
      "source": [
        "%%writefile temp.elm\n",
        "greet : String -> String\n",
        "greet name =\n",
        "      \"Hello \" ++ name ++ \"!\""
      ],
      "execution_count": 8,
      "outputs": [
        {
          "output_type": "stream",
          "text": [
            "Writing temp.elm\n"
          ],
          "name": "stdout"
        }
      ]
    },
    {
      "cell_type": "code",
      "metadata": {
        "id": "qqk4Zat8fTtT",
        "colab": {
          "base_uri": "https://localhost:8080/"
        },
        "outputId": "ad7605e5-629e-4832-aa55-b44c06112165"
      },
      "source": [
        "!./elm init"
      ],
      "execution_count": null,
      "outputs": [
        {
          "output_type": "stream",
          "text": [
            "Hello! Elm projects always start with an \u001b[92melm.json\u001b[0m file. I can create them!\n",
            "\n",
            "Now you may be wondering, what will be in this file? How do I add Elm files to\n",
            "my project? How do I see it in the browser? How will my code grow? Do I need\n",
            "more directories? What about tests? Etc.\n",
            "\n",
            "Check out \u001b[96m<https://elm-lang.org/0.19.1/init>\u001b[0m for all the answers!\n",
            "\n",
            "Knowing all that, would you like me to create an elm.json file now? [Y/n]: Y\n",
            "Okay, I created it. Now read that link!\n"
          ],
          "name": "stdout"
        }
      ]
    },
    {
      "cell_type": "code",
      "metadata": {
        "id": "R_b2vVUbe9a5",
        "colab": {
          "base_uri": "https://localhost:8080/"
        },
        "outputId": "0a7d9fa0-3cec-4222-d428-521c34018f51"
      },
      "source": [
        "!./elm make temp.elm --output=elm.js"
      ],
      "execution_count": null,
      "outputs": [
        {
          "output_type": "stream",
          "text": [
            "Compiling ...\rCompiling (1)\rSuccess! Compiled 1 module.\n",
            "\u001b[36m-- NO MAIN ---------------------------------------------------------------------\u001b[0m\n",
            "\n",
            "When producing a JS file, I require that the given file has a `main` value. That\n",
            "way Elm.Main.init() is definitely defined in the resulting file!\n",
            "\n",
            "Try adding a `main` value to your file? Or if you just want to verify that this\n",
            "module compiles, switch to --output=/dev/null to skip the code gen phase\n",
            "altogether.\n",
            "\n",
            "\u001b[4mNote\u001b[0m: Adding a `main` value can be as brief as adding something like this:\n",
            "\n",
            "\u001b[96mimport\u001b[0m Html\n",
            "\n",
            "\u001b[92mmain\u001b[0m =\n",
            "  \u001b[96mHtml\u001b[0m.text \u001b[33m\"Hello!\"\u001b[0m\n",
            "\n",
            "Or use https://package.elm-lang.org/packages/elm/core/latest/Platform#worker to\n",
            "make a `main` with no user interface.\n",
            "\n"
          ],
          "name": "stdout"
        }
      ]
    },
    {
      "cell_type": "markdown",
      "metadata": {
        "id": "lGwlosYB_IW4"
      },
      "source": [
        "# はじめに\n",
        "\n",
        "はじめにすこし実験。\n",
        "```\n",
        "> \"hello\"\n",
        "\"hello\" : String\n",
        "> 1 + 1\n",
        "2 : number\n",
        "> \"hello\" ++ \", elm!!!!\"\n",
        "\"hello, elm!!!!\" : String\n",
        "```\n"
      ]
    },
    {
      "cell_type": "code",
      "metadata": {
        "id": "jiP8ovj7UEmf",
        "colab": {
          "base_uri": "https://localhost:8080/",
          "height": 35
        },
        "outputId": "69779a33-63b6-4289-cfe3-c73e08e0ca0b"
      },
      "source": [
        "\"Hello\" + \", Python!!!!\""
      ],
      "execution_count": null,
      "outputs": [
        {
          "output_type": "execute_result",
          "data": {
            "application/vnd.google.colaboratory.intrinsic+json": {
              "type": "string"
            },
            "text/plain": [
              "'Hello, Python!!!!'"
            ]
          },
          "metadata": {
            "tags": []
          },
          "execution_count": 1
        }
      ]
    },
    {
      "cell_type": "markdown",
      "metadata": {
        "id": "iiOF51tpUuWZ"
      },
      "source": [
        "`+`と`++`と違うけどだいたい同じ。\n",
        "\n",
        "```\n",
        "> greet name =\n",
        "|   \"Hello \" ++ name ++ \"!\"\n",
        "|   \n",
        "<function> : String -> String\n",
        "> greet \"Alice\"\n",
        "\"Hello Alice!\" : String\n",
        "```"
      ]
    },
    {
      "cell_type": "code",
      "metadata": {
        "id": "4eVuaqlXVIm_",
        "colab": {
          "base_uri": "https://localhost:8080/",
          "height": 35
        },
        "outputId": "995b924c-9312-428b-e6f6-a3d58f4e347d"
      },
      "source": [
        "def greet (name) :\n",
        "    return \"Hello \" + name + \"!\"\n",
        "\n",
        "greet (\"Alice\")"
      ],
      "execution_count": null,
      "outputs": [
        {
          "output_type": "execute_result",
          "data": {
            "application/vnd.google.colaboratory.intrinsic+json": {
              "type": "string"
            },
            "text/plain": [
              "'Hello Alice!'"
            ]
          },
          "metadata": {
            "tags": []
          },
          "execution_count": 5
        }
      ]
    },
    {
      "cell_type": "markdown",
      "metadata": {
        "id": "_r0LoPGvln2M"
      },
      "source": [
        "変数が2つの時はどうするか。\n",
        "```\n",
        "> madlib animal adjective =\n",
        "|   \"The ostentatious \" ++ animal ++ \" wears \" ++ adjective ++ \" shorts.\"\n",
        "|   \n",
        "<function> : String -> String -> String\n",
        "> madlib \"cat\" \"ergonimic\"\n",
        "\"The ostentatious cat wears ergonimic shorts.\" : String\n",
        "> madlib (\"butter\" ++ \"fly\") \"metalic\"\n",
        "\"The ostentatious butterfly wears metalic shorts.\" : String\n",
        "```"
      ]
    },
    {
      "cell_type": "code",
      "metadata": {
        "id": "0Lff44iamOkk",
        "colab": {
          "base_uri": "https://localhost:8080/",
          "height": 50
        },
        "outputId": "048b6184-a515-4403-8ce9-8c9b886bd1b7"
      },
      "source": [
        "def madlib (animal, adjective) :\n",
        "    return \"The ostentatious \" + animal + \" wears \" + adjective + \" shorts.\"\n",
        "\n",
        "print (madlib (\"cat\", \"ergonomic\"))\n",
        "print (madlib (\"butter\" +  \"fly\", \"metalic\"))"
      ],
      "execution_count": null,
      "outputs": [
        {
          "output_type": "stream",
          "text": [
            "The ostentatious cat wears ergonomic shorts.\n",
            "The ostentatious butterfly wears metalic shorts.\n"
          ],
          "name": "stdout"
        }
      ]
    },
    {
      "cell_type": "markdown",
      "metadata": {
        "id": "7Bpg5kHMmx3V"
      },
      "source": [
        "# いまここ"
      ]
    }
  ]
}