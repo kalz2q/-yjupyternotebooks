{
  "nbformat": 4,
  "nbformat_minor": 0,
  "metadata": {
    "colab": {
      "name": "elm01.ipynb",
      "provenance": [],
      "authorship_tag": "ABX9TyPBv0j2ENjMA5u24MOtb41R",
      "include_colab_link": true
    },
    "kernelspec": {
      "name": "python3",
      "display_name": "Python 3"
    }
  },
  "cells": [
    {
      "cell_type": "markdown",
      "metadata": {
        "id": "view-in-github",
        "colab_type": "text"
      },
      "source": [
        "<a href=\"https://colab.research.google.com/github/kalz2q/mycolabnotebooks/blob/master/elm01.ipynb\" target=\"_parent\"><img src=\"https://colab.research.google.com/assets/colab-badge.svg\" alt=\"Open In Colab\"/></a>"
      ]
    },
    {
      "cell_type": "markdown",
      "metadata": {
        "id": "JZqM1qwx2bFV",
        "colab_type": "text"
      },
      "source": [
        "# メモ\n",
        "\n",
        "1. Colabの環境を利用して`Elm`を勉強する。\n",
        "1. 読者は別途自分の環境に`Elm`をインストールして対話環境`elm repl`を立ち上げていて、このファイルはColabで開いていることを想定する。\n",
        "1. プログラムについて、ElmとPythonの両方で動かすことによって理解を深める。\n",
        "1. Elmのインストール方法(Ubuntu)\n",
        "```\n",
        "sudo apt install nodejs\n",
        "sudo apt install npm\n",
        "mkdir ~/.npm-global\n",
        "npm config set prefix '~/.npm-global'\n",
        "export PATH=~/.npm-global/bin:$PATH\n",
        "npm install -g elm\n",
        "```\n",
        "1. とりあえずはElmの入門書や入門サイトからサンプルプログラムを入力してみる。\n",
        "1. Elm本家 (https://guide.elm-lang.org/)"
      ]
    },
    {
      "cell_type": "markdown",
      "metadata": {
        "id": "lGwlosYB_IW4",
        "colab_type": "text"
      },
      "source": [
        "# はじめに\n",
        "\n",
        "はじめにすこし実験。\n"
      ]
    }
  ]
}