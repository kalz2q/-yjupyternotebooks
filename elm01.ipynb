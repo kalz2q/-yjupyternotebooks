{
  "nbformat": 4,
  "nbformat_minor": 0,
  "metadata": {
    "colab": {
      "name": "elm01.ipynb",
      "provenance": [],
      "authorship_tag": "ABX9TyPPnqBpFiYOIny04bbbuilC",
      "include_colab_link": true
    },
    "kernelspec": {
      "name": "python3",
      "display_name": "Python 3"
    }
  },
  "cells": [
    {
      "cell_type": "markdown",
      "metadata": {
        "id": "view-in-github",
        "colab_type": "text"
      },
      "source": [
        "<a href=\"https://colab.research.google.com/github/kalz2q/mycolabnotebooks/blob/master/elm01.ipynb\" target=\"_parent\"><img src=\"https://colab.research.google.com/assets/colab-badge.svg\" alt=\"Open In Colab\"/></a>"
      ]
    },
    {
      "cell_type": "markdown",
      "metadata": {
        "id": "JZqM1qwx2bFV"
      },
      "source": [
        "# メモ\n",
        "\n",
        "1. Colabの環境を利用して`Elm`を勉強する。\n",
        "1. 読者は別途自分の環境に`Elm`をインストールして対話環境`elm repl`を立ち上げていて、このファイルはColabで開いていることを想定する。\n",
        "1. プログラムについて、ElmとPythonの両方で動かすことによって理解を深める。\n",
        "1. Elmのインストール方法(Ubuntu)\n",
        "```\n",
        "sudo apt install nodejs\n",
        "sudo apt install npm\n",
        "mkdir ~/.npm-global\n",
        "npm config set prefix '~/.npm-global'\n",
        "export PATH=~/.npm-global/bin:$PATH\n",
        "npm install -g elm\n",
        "```\n",
        "1. とりあえずはElmの入門書や入門サイトからサンプルプログラムを入力してみる。\n",
        "1. Elm本家 (https://guide.elm-lang.org/)"
      ]
    },
    {
      "cell_type": "code",
      "metadata": {
        "id": "tTk4DW0a5njf",
        "outputId": "0385b913-01a5-4eb3-a353-36b700ada277",
        "colab": {
          "base_uri": "https://localhost:8080/"
        }
      },
      "source": [
        "!npm install -g elm\n"
      ],
      "execution_count": 4,
      "outputs": [
        {
          "output_type": "stream",
          "text": [
            "\u001b[K\u001b[?25h\u001b[37;40mnpm\u001b[0m \u001b[0m\u001b[30;43mWARN\u001b[0m \u001b[0m\u001b[35mdeprecated\u001b[0m request@2.88.2: request has been deprecated, see https://github.com/request/request/issues/3142\n",
            "\u001b[K\u001b[?25h\u001b[37;40mnpm\u001b[0m \u001b[0m\u001b[30;43mWARN\u001b[0m \u001b[0m\u001b[35mdeprecated\u001b[0m har-validator@5.1.5: this library is no longer supported\n",
            "\u001b[K\u001b[?25h\u001b[37;40mnpm\u001b[0m \u001b[0m\u001b[30;43mWARN\u001b[0m \u001b[0m\u001b[35mdeprecated\u001b[0m uuid@3.4.0: Please upgrade  to version 7 or higher.  Older versions may use Math.random() in certain circumstances, which is known to be problematic.  See https://v8.dev/blog/math-random for details.\n",
            "\u001b[K\u001b[?25h/tools/node/bin/elm -> /tools/node/lib/node_modules/elm/bin/elm\n",
            "\n",
            "> elm@0.19.1-5 install /tools/node/lib/node_modules/elm\n",
            "> node install.js\n",
            "\n",
            "--------------------------------------------------------------------------------\n",
            "\n",
            "Downloading Elm 0.19.1 from GitHub.\n",
            "\n",
            "NOTE: You can avoid npm entirely by downloading directly from:\n",
            "https://github.com/elm/compiler/releases/download/0.19.1/binary-for-linux-64-bit.gz\n",
            "All this package does is download that file and put it somewhere.\n",
            "\n",
            "--------------------------------------------------------------------------------\n",
            "\n",
            "-- ERROR -----------------------------------------------------------------------\n",
            "\n",
            "I had some trouble writing file to disk. It is saying:\n",
            "\n",
            "Error: EACCES: permission denied, open '/tools/node/lib/node_modules/elm/bin/elm'\n",
            "\n",
            "NOTE: You can avoid npm entirely by downloading directly from:\n",
            "https://github.com/elm/compiler/releases/download/0.19.1/binary-for-linux-64-bit.gz\n",
            "All this package does is download that file and put it somewhere.\n",
            "\n",
            "--------------------------------------------------------------------------------\n",
            "\n",
            "\u001b[K\u001b[?25h\u001b[37;40mnpm\u001b[0m \u001b[0m\u001b[31;40mERR!\u001b[0m \u001b[0m\u001b[35mcode\u001b[0m ELIFECYCLE\n",
            "\u001b[0m\u001b[37;40mnpm\u001b[0m \u001b[0m\u001b[31;40mERR!\u001b[0m \u001b[0m\u001b[35merrno\u001b[0m 1\n",
            "\u001b[0m\u001b[37;40mnpm\u001b[0m \u001b[0m\u001b[31;40mERR!\u001b[0m\u001b[35m\u001b[0m elm@0.19.1-5 install: `node install.js`\n",
            "\u001b[0m\u001b[37;40mnpm\u001b[0m \u001b[0m\u001b[31;40mERR!\u001b[0m\u001b[35m\u001b[0m Exit status 1\n",
            "\u001b[0m\u001b[37;40mnpm\u001b[0m \u001b[0m\u001b[31;40mERR!\u001b[0m\u001b[35m\u001b[0m \n",
            "\u001b[0m\u001b[37;40mnpm\u001b[0m \u001b[0m\u001b[31;40mERR!\u001b[0m\u001b[35m\u001b[0m Failed at the elm@0.19.1-5 install script.\n",
            "\u001b[0m\u001b[37;40mnpm\u001b[0m \u001b[0m\u001b[31;40mERR!\u001b[0m\u001b[35m\u001b[0m This is probably not a problem with npm. There is likely additional logging output above.\n",
            "\u001b[0m\n",
            "\u001b[37;40mnpm\u001b[0m \u001b[0m\u001b[31;40mERR!\u001b[0m\u001b[35m\u001b[0m A complete log of this run can be found in:\n",
            "\u001b[0m\u001b[37;40mnpm\u001b[0m \u001b[0m\u001b[31;40mERR!\u001b[0m\u001b[35m\u001b[0m     /root/.npm/_logs/2021-06-12T06_35_28_215Z-debug.log\n",
            "\u001b[0m"
          ],
          "name": "stdout"
        }
      ]
    },
    {
      "cell_type": "code",
      "metadata": {
        "id": "HS2oZVLZ74fv",
        "outputId": "0c656687-e9bd-499a-fc4b-dc34d255457d",
        "colab": {
          "base_uri": "https://localhost:8080/"
        }
      },
      "source": [
        "!curl -L -o elm.gz https://github.com/elm/compiler/releases/download/0.19.1/binary-for-linux-64-bit.gz\n",
        "!gunzip elm\n",
        "!chmod +x elm"
      ],
      "execution_count": 5,
      "outputs": [
        {
          "output_type": "stream",
          "text": [
            "  % Total    % Received % Xferd  Average Speed   Time    Time     Time  Current\n",
            "                                 Dload  Upload   Total   Spent    Left  Speed\n",
            "100   630  100   630    0     0   2226      0 --:--:-- --:--:-- --:--:--  2226\n",
            "100 6647k  100 6647k    0     0  7999k      0 --:--:-- --:--:-- --:--:-- 13.3M\n"
          ],
          "name": "stdout"
        }
      ]
    },
    {
      "cell_type": "code",
      "metadata": {
        "id": "YGwz0LEQ8RJS",
        "outputId": "6d5e9f7b-a664-462a-cc7a-b299ee0b9fde",
        "colab": {
          "base_uri": "https://localhost:8080/"
        }
      },
      "source": [
        "!./elm --help"
      ],
      "execution_count": 10,
      "outputs": [
        {
          "output_type": "stream",
          "text": [
            "Hi, thank you for trying out \u001b[92mElm\u001b[0m \u001b[92m0.19.1\u001b[0m. I hope you like it!\n",
            "\n",
            "\u001b[90m-------------------------------------------------------------------------------\u001b[0m\n",
            "\u001b[90mI highly recommend working through <https://guide.elm-lang.org> to get started.\u001b[0m\n",
            "\u001b[90mIt teaches many important concepts, including how to use `elm` in the terminal.\u001b[0m\n",
            "\u001b[90m-------------------------------------------------------------------------------\u001b[0m\n",
            "\n",
            "The most common commands are:\n",
            "\n",
            "    \u001b[96melm repl\u001b[0m\n",
            "        Open up an interactive programming session. Type in Elm expressions like\n",
            "        (2 + 2) or (String.length \"test\") and see if they equal four!\n",
            "    \n",
            "    \u001b[96melm init\u001b[0m\n",
            "        Start an Elm project. It creates a starter elm.json file and provides a\n",
            "        link explaining what to do from there.\n",
            "    \n",
            "    \u001b[96melm reactor\u001b[0m\n",
            "        Compile code with a click. It opens a file viewer in your browser, and\n",
            "        when you click on an Elm file, it compiles and you see the result.\n",
            "\n",
            "There are a bunch of other commands as well though. Here is a full list:\n",
            "\n",
            "    \u001b[36melm repl    --help\n",
            "    elm init    --help\n",
            "    elm reactor --help\n",
            "    elm make    --help\n",
            "    elm install --help\n",
            "    elm bump    --help\n",
            "    elm diff    --help\n",
            "    elm publish --help\u001b[0m\n",
            "\n",
            "Adding the --help flag gives a bunch of additional details about each one.\n",
            "\n",
            "Be sure to ask on the Elm slack if you run into trouble! Folks are friendly and\n",
            "happy to help out. They hang out there because it is fun, so be kind to get the\n",
            "best results!\n",
            "\n"
          ],
          "name": "stdout"
        }
      ]
    },
    {
      "cell_type": "code",
      "metadata": {
        "id": "RO_XL08H7mLx"
      },
      "source": [
        "NOTE: You can avoid npm entirely by downloading directly from:\n",
        "https://github.com/elm/compiler/releases/download/0.19.1/binary-for-linux-64-bit.gz\n",
        "All this package does is download that file and put it somewhere.\n",
        "\n",
        "\n",
        "curl -L -o elm.gz https://github.com/elm/compiler/releases/download/0.19.1/binary-for-linux-64-bit.gz\n",
        "\n",
        "# There should now be a file named `elm.gz` on your Desktop.\n",
        "#\n",
        "# The downloaded file is compressed to make it faster to download.\n",
        "# This next command decompresses it, replacing `elm.gz` with `elm`.\n",
        "#\n",
        "gunzip elm.gz\n",
        "\n",
        "# There should now be a file named `elm` on your Desktop!\n",
        "#\n",
        "# Every file has \"permissions\" about whether it can be read, written, or executed.\n",
        "# So before we use this file, we need to mark this file as executable:\n",
        "#\n",
        "chmod +x elm\n",
        "\n",
        "# The `elm` file is now executable. That means running `~/Desktop/elm --help`\n",
        "# should work. Saying `./elm --help` works the same.\n",
        "#\n",
        "# But we want to be able to say `elm --help` without specifying the full file\n",
        "# path every time. We can do this by moving the `elm` binary to one of the\n",
        "# directories listed in your `PATH` environment variable:\n",
        "#\n",
        "sudo mv elm /usr/local/bin/\n",
        "\n",
        "# Now it should be possible to run the `elm` binary just by saying its name!\n",
        "#\n",
        "elm --help"
      ],
      "execution_count": null,
      "outputs": []
    },
    {
      "cell_type": "markdown",
      "metadata": {
        "id": "lGwlosYB_IW4"
      },
      "source": [
        "# はじめに\n",
        "\n",
        "はじめにすこし実験。\n",
        "```\n",
        "> \"hello\"\n",
        "\"hello\" : String\n",
        "> 1 + 1\n",
        "2 : number\n",
        "> \"hello\" ++ \", elm!!!!\"\n",
        "\"hello, elm!!!!\" : String\n",
        "```\n"
      ]
    },
    {
      "cell_type": "code",
      "metadata": {
        "id": "jiP8ovj7UEmf",
        "colab": {
          "base_uri": "https://localhost:8080/",
          "height": 35
        },
        "outputId": "69779a33-63b6-4289-cfe3-c73e08e0ca0b"
      },
      "source": [
        "\"Hello\" + \", Python!!!!\""
      ],
      "execution_count": null,
      "outputs": [
        {
          "output_type": "execute_result",
          "data": {
            "application/vnd.google.colaboratory.intrinsic+json": {
              "type": "string"
            },
            "text/plain": [
              "'Hello, Python!!!!'"
            ]
          },
          "metadata": {
            "tags": []
          },
          "execution_count": 1
        }
      ]
    },
    {
      "cell_type": "markdown",
      "metadata": {
        "id": "iiOF51tpUuWZ"
      },
      "source": [
        "`+`と`++`と違うけどだいたい同じ。\n",
        "\n",
        "```\n",
        "> greet name =\n",
        "|   \"Hello \" ++ name ++ \"!\"\n",
        "|   \n",
        "<function> : String -> String\n",
        "> greet \"Alice\"\n",
        "\"Hello Alice!\" : String\n",
        "```"
      ]
    },
    {
      "cell_type": "code",
      "metadata": {
        "id": "4eVuaqlXVIm_",
        "colab": {
          "base_uri": "https://localhost:8080/",
          "height": 35
        },
        "outputId": "995b924c-9312-428b-e6f6-a3d58f4e347d"
      },
      "source": [
        "def greet (name) :\n",
        "    return \"Hello \" + name + \"!\"\n",
        "\n",
        "greet (\"Alice\")"
      ],
      "execution_count": null,
      "outputs": [
        {
          "output_type": "execute_result",
          "data": {
            "application/vnd.google.colaboratory.intrinsic+json": {
              "type": "string"
            },
            "text/plain": [
              "'Hello Alice!'"
            ]
          },
          "metadata": {
            "tags": []
          },
          "execution_count": 5
        }
      ]
    },
    {
      "cell_type": "markdown",
      "metadata": {
        "id": "_r0LoPGvln2M"
      },
      "source": [
        "変数が2つの時はどうするか。\n",
        "```\n",
        "> madlib animal adjective =\n",
        "|   \"The ostentatious \" ++ animal ++ \" wears \" ++ adjective ++ \" shorts.\"\n",
        "|   \n",
        "<function> : String -> String -> String\n",
        "> madlib \"cat\" \"ergonimic\"\n",
        "\"The ostentatious cat wears ergonimic shorts.\" : String\n",
        "> madlib (\"butter\" ++ \"fly\") \"metalic\"\n",
        "\"The ostentatious butterfly wears metalic shorts.\" : String\n",
        "```"
      ]
    },
    {
      "cell_type": "code",
      "metadata": {
        "id": "0Lff44iamOkk",
        "colab": {
          "base_uri": "https://localhost:8080/",
          "height": 50
        },
        "outputId": "048b6184-a515-4403-8ce9-8c9b886bd1b7"
      },
      "source": [
        "def madlib (animal, adjective) :\n",
        "    return \"The ostentatious \" + animal + \" wears \" + adjective + \" shorts.\"\n",
        "\n",
        "print (madlib (\"cat\", \"ergonomic\"))\n",
        "print (madlib (\"butter\" +  \"fly\", \"metalic\"))"
      ],
      "execution_count": null,
      "outputs": [
        {
          "output_type": "stream",
          "text": [
            "The ostentatious cat wears ergonomic shorts.\n",
            "The ostentatious butterfly wears metalic shorts.\n"
          ],
          "name": "stdout"
        }
      ]
    },
    {
      "cell_type": "markdown",
      "metadata": {
        "id": "7Bpg5kHMmx3V"
      },
      "source": [
        "# いまここ"
      ]
    }
  ]
}