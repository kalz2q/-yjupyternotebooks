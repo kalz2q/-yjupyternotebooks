{
  "nbformat": 4,
  "nbformat_minor": 0,
  "metadata": {
    "colab": {
      "name": "elm01.ipynb",
      "provenance": [],
      "authorship_tag": "ABX9TyOFrcovJ90/RL8QF92R6Eul",
      "include_colab_link": true
    },
    "kernelspec": {
      "name": "python3",
      "display_name": "Python 3"
    }
  },
  "cells": [
    {
      "cell_type": "markdown",
      "metadata": {
        "id": "view-in-github",
        "colab_type": "text"
      },
      "source": [
        "<a href=\"https://colab.research.google.com/github/kalz2q/mycolabnotebooks/blob/master/elm01.ipynb\" target=\"_parent\"><img src=\"https://colab.research.google.com/assets/colab-badge.svg\" alt=\"Open In Colab\"/></a>"
      ]
    },
    {
      "cell_type": "markdown",
      "metadata": {
        "id": "JZqM1qwx2bFV",
        "colab_type": "text"
      },
      "source": [
        "# メモ\n",
        "\n",
        "1. Colabの環境を利用して`Elm`を勉強する。\n",
        "1. 読者は別途自分の環境に`Elm`をインストールして対話環境`elm repl`を立ち上げていて、このファイルはColabで開いていることを想定する。\n",
        "1. プログラムについて、ElmとPythonの両方で動かすことによって理解を深める。\n",
        "1. Elmのインストール方法(Ubuntu)\n",
        "```\n",
        "sudo apt install nodejs\n",
        "sudo apt install npm\n",
        "mkdir ~/.npm-global\n",
        "npm config set prefix '~/.npm-global'\n",
        "export PATH=~/.npm-global/bin:$PATH\n",
        "npm install -g elm\n",
        "```\n",
        "1. とりあえずはElmの入門書や入門サイトからサンプルプログラムを入力してみる。\n",
        "1. Elm本家 (https://guide.elm-lang.org/)"
      ]
    },
    {
      "cell_type": "markdown",
      "metadata": {
        "id": "lGwlosYB_IW4",
        "colab_type": "text"
      },
      "source": [
        "# はじめに\n",
        "\n",
        "はじめにすこし実験。\n",
        "```\n",
        "> \"hello\"\n",
        "\"hello\" : String\n",
        "> 1 + 1\n",
        "2 : number\n",
        "> \"hello\" ++ \", elm!!!!\"\n",
        "\"hello, elm!!!!\" : String\n",
        "```\n"
      ]
    },
    {
      "cell_type": "code",
      "metadata": {
        "id": "jiP8ovj7UEmf",
        "colab_type": "code",
        "colab": {
          "base_uri": "https://localhost:8080/",
          "height": 35
        },
        "outputId": "69779a33-63b6-4289-cfe3-c73e08e0ca0b"
      },
      "source": [
        "\"Hello\" + \", Python!!!!\""
      ],
      "execution_count": 1,
      "outputs": [
        {
          "output_type": "execute_result",
          "data": {
            "application/vnd.google.colaboratory.intrinsic+json": {
              "type": "string"
            },
            "text/plain": [
              "'Hello, Python!!!!'"
            ]
          },
          "metadata": {
            "tags": []
          },
          "execution_count": 1
        }
      ]
    },
    {
      "cell_type": "markdown",
      "metadata": {
        "id": "iiOF51tpUuWZ",
        "colab_type": "text"
      },
      "source": [
        "`+`と`++`と違うけどだいたい同じ。\n",
        "\n",
        "```\n",
        "> greet name =\n",
        "|   \"Hello \" ++ name ++ \"!\"\n",
        "|   \n",
        "<function> : String -> String\n",
        "> greet \"Alice\"\n",
        "\"Hello Alice!\" : String\n",
        "```"
      ]
    },
    {
      "cell_type": "code",
      "metadata": {
        "id": "4eVuaqlXVIm_",
        "colab_type": "code",
        "colab": {
          "base_uri": "https://localhost:8080/",
          "height": 35
        },
        "outputId": "995b924c-9312-428b-e6f6-a3d58f4e347d"
      },
      "source": [
        "def greet (name) :\n",
        "    return \"Hello \" + name + \"!\"\n",
        "\n",
        "greet (\"Alice\")"
      ],
      "execution_count": 5,
      "outputs": [
        {
          "output_type": "execute_result",
          "data": {
            "application/vnd.google.colaboratory.intrinsic+json": {
              "type": "string"
            },
            "text/plain": [
              "'Hello Alice!'"
            ]
          },
          "metadata": {
            "tags": []
          },
          "execution_count": 5
        }
      ]
    }
  ]
}