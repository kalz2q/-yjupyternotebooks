{
  "nbformat": 4,
  "nbformat_minor": 0,
  "metadata": {
    "colab": {
      "name": "elm01.ipynb",
      "provenance": [],
      "toc_visible": true,
      "authorship_tag": "ABX9TyNRL3hm1r8NhZ/8JCKUrGIX",
      "include_colab_link": true
    },
    "kernelspec": {
      "name": "python3",
      "display_name": "Python 3"
    }
  },
  "cells": [
    {
      "cell_type": "markdown",
      "metadata": {
        "id": "view-in-github",
        "colab_type": "text"
      },
      "source": [
        "<a href=\"https://colab.research.google.com/github/kalz2q/mycolabnotebooks/blob/master/elm01.ipynb\" target=\"_parent\"><img src=\"https://colab.research.google.com/assets/colab-badge.svg\" alt=\"Open In Colab\"/></a>"
      ]
    },
    {
      "cell_type": "markdown",
      "metadata": {
        "id": "JZqM1qwx2bFV"
      },
      "source": [
        "# メモ\n",
        "\n",
        "Colabの環境を利用して elm を勉強する。\n",
        "\n",
        "elm repl で勉強するのが筋だがそれをなんとか colab でできないか、というアイデア。\n",
        "\n",
        "Elm本家 (https://guide.elm-lang.org/)"
      ]
    },
    {
      "cell_type": "code",
      "metadata": {
        "id": "HS2oZVLZ74fv",
        "colab": {
          "base_uri": "https://localhost:8080/"
        },
        "outputId": "01888866-5176-4c15-df45-164d8c1f7211"
      },
      "source": [
        "# elm をインストールする\n",
        "!curl -L -o elm.gz https://github.com/elm/compiler/releases/download/0.19.1/binary-for-linux-64-bit.gz\n",
        "!gunzip elm\n",
        "!chmod +x elm\n",
        "!sudo mv elm /usr/local/bin"
      ],
      "execution_count": null,
      "outputs": [
        {
          "output_type": "stream",
          "text": [
            "  % Total    % Received % Xferd  Average Speed   Time    Time     Time  Current\n",
            "                                 Dload  Upload   Total   Spent    Left  Speed\n",
            "100   630  100   630    0     0   3333      0 --:--:-- --:--:-- --:--:--  3315\n",
            "100 6647k  100 6647k    0     0  5642k      0  0:00:01  0:00:01 --:--:-- 10.7M\n"
          ],
          "name": "stdout"
        }
      ]
    },
    {
      "cell_type": "code",
      "metadata": {
        "id": "tTk4DW0a5njf",
        "colab": {
          "base_uri": "https://localhost:8080/"
        },
        "outputId": "edc3b625-b698-4582-e28e-6b734631d6fa"
      },
      "source": [
        "!elm --version"
      ],
      "execution_count": 66,
      "outputs": [
        {
          "output_type": "stream",
          "text": [
            "0.19.1\n"
          ],
          "name": "stdout"
        }
      ]
    },
    {
      "cell_type": "code",
      "metadata": {
        "id": "DWrnzXKD48sm",
        "outputId": "5764a0b7-2127-4780-ae2f-c79b8ac53fd9",
        "colab": {
          "base_uri": "https://localhost:8080/"
        }
      },
      "source": [
        "!elm init"
      ],
      "execution_count": 67,
      "outputs": [
        {
          "output_type": "stream",
          "text": [
            "\u001b[36m-- EXISTING PROJECT ------------------------------------------------------------\u001b[0m\n",
            "\n",
            "You already have an elm.json file, so there is nothing for me to initialize!\n",
            "\n",
            "Maybe \u001b[92m<https://elm-lang.org/0.19.1/init>\u001b[0m can help you figure out what to do\n",
            "next?\n",
            "\n"
          ],
          "name": "stdout"
        }
      ]
    },
    {
      "cell_type": "code",
      "metadata": {
        "id": "C9ZdIajTgVPY",
        "colab": {
          "base_uri": "https://localhost:8080/"
        },
        "outputId": "4713c03b-4ef7-43b5-f7be-aa1da3f98ffb"
      },
      "source": [
        "%%writefile Main.elm\n",
        "module Main exposing (..)\n",
        "import Platform exposing (worker)\n",
        "\n",
        "print : Int -> Int\n",
        "print num =\n",
        "    Debug.log \"num of destiny\" num\n",
        "\n",
        "nodeProgram : a -> Program () () ()\n",
        "nodeProgram _ =\n",
        "    worker\n",
        "        { init = \\() -> ( (), Cmd.none )\n",
        "        , update = \\() -> \\() -> ( (), Cmd.none )\n",
        "        , subscriptions = \\() -> Sub.none\n",
        "        }\n",
        "\n",
        "main : Program () () ()\n",
        "main = \n",
        "    nodeProgram (print 9)"
      ],
      "execution_count": 103,
      "outputs": [
        {
          "output_type": "stream",
          "text": [
            "Overwriting Main.elm\n"
          ],
          "name": "stdout"
        }
      ]
    },
    {
      "cell_type": "code",
      "metadata": {
        "id": "0Q0dsWSfhSt1",
        "colab": {
          "base_uri": "https://localhost:8080/"
        },
        "outputId": "0bbe10af-046d-490c-9ff3-593cbd219d60"
      },
      "source": [
        "!elm make --output main.js Main.elm; node main.js"
      ],
      "execution_count": 104,
      "outputs": [
        {
          "output_type": "stream",
          "text": [
            "Compiling ...\rCompiling (1)\rSuccess! Compiled 1 module.\n",
            "\n",
            "    Main ───> main.js\n",
            "\n",
            "Compiled in DEV mode. Follow the advice at https://elm-lang.org/0.19.1/optimize for better performance and smaller assets.\n",
            "num of destiny: 9\n"
          ],
          "name": "stdout"
        }
      ]
    },
    {
      "cell_type": "code",
      "metadata": {
        "id": "TK0Ois2Y-HFV",
        "outputId": "58ef9dd8-d535-45fc-ede2-9f6702b55620",
        "colab": {
          "base_uri": "https://localhost:8080/"
        }
      },
      "source": [
        "%%writefile Main.elm\n",
        "module Main exposing (..)\n",
        "import Platform exposing (worker)\n",
        "\n",
        "-- print : Int -> Int\n",
        "-- print num =\n",
        "--     Debug.log \"num of destiny\" num\n",
        "\n",
        "hello =\n",
        "    Debug.log (\"hello\")\n",
        "\n",
        "nodeProgram : a -> Program () () ()\n",
        "nodeProgram _ =\n",
        "    worker\n",
        "        { init = \\() -> ( (), Cmd.none )\n",
        "        , update = \\() -> \\() -> ( (), Cmd.none )\n",
        "        , subscriptions = \\() -> Sub.none\n",
        "        }\n",
        "\n",
        "main : Program () () ()\n",
        "main = \n",
        "    nodeProgram (hello)"
      ],
      "execution_count": 101,
      "outputs": [
        {
          "output_type": "stream",
          "text": [
            "Overwriting Main.elm\n"
          ],
          "name": "stdout"
        }
      ]
    },
    {
      "cell_type": "code",
      "metadata": {
        "id": "dZoulY3e-GNq",
        "outputId": "0d1b57dd-46b6-478d-d940-6b81d941a538",
        "colab": {
          "base_uri": "https://localhost:8080/"
        }
      },
      "source": [
        "!elm make --output main.js Main.elm; node main.js"
      ],
      "execution_count": 102,
      "outputs": [
        {
          "output_type": "stream",
          "text": [
            "Compiling ...\rCompiling (1)\rSuccess! Compiled 1 module.\n",
            "\n",
            "    Main ───> main.js\n",
            "\n",
            "Compiled in DEV mode. Follow the advice at https://elm-lang.org/0.19.1/optimize for better performance and smaller assets.\n"
          ],
          "name": "stdout"
        }
      ]
    },
    {
      "cell_type": "code",
      "metadata": {
        "id": "l7IJCXy--2dA",
        "outputId": "f2bdef8f-27f5-4cf4-cd7f-e8687134aea7",
        "colab": {
          "base_uri": "https://localhost:8080/"
        }
      },
      "source": [
        "!node main.js"
      ],
      "execution_count": 100,
      "outputs": [
        {
          "output_type": "stream",
          "text": [
            "Compiled in DEV mode. Follow the advice at https://elm-lang.org/0.19.1/optimize for better performance and smaller assets.\n"
          ],
          "name": "stdout"
        }
      ]
    },
    {
      "cell_type": "code",
      "metadata": {
        "id": "2wtxwKrae1ZP",
        "colab": {
          "base_uri": "https://localhost:8080/"
        },
        "outputId": "2bec85cf-e661-4790-eb98-8416cb74d1ec"
      },
      "source": [
        "%%writefile Main.elm\n",
        "module Main exposing (..)\n",
        "import Platform exposing (worker)\n",
        "\n",
        "-- greet : a -> a\n",
        "greet name =\n",
        "      Debug.log (\"Hello \" ++ name ++ \"!\")\n",
        "\n",
        "nodeProgram : a -> Program () () ()\n",
        "nodeProgram _ =\n",
        "    worker\n",
        "        { init = \\() -> ( (), Cmd.none )\n",
        "        , update = \\() -> \\() -> ( (), Cmd.none )\n",
        "        , subscriptions = \\() -> Sub.none\n",
        "        }\n",
        "\n",
        "main : Program () () ()\n",
        "main = \n",
        "    nodeProgram (greet \"Tom\")\n",
        "\n"
      ],
      "execution_count": 93,
      "outputs": [
        {
          "output_type": "stream",
          "text": [
            "Overwriting Main.elm\n"
          ],
          "name": "stdout"
        }
      ]
    },
    {
      "cell_type": "code",
      "metadata": {
        "id": "qqk4Zat8fTtT",
        "colab": {
          "base_uri": "https://localhost:8080/"
        },
        "outputId": "7daa7479-3d42-4851-daac-194febe3267a"
      },
      "source": [
        "!elm make --output main.js Main.elm; node main.js"
      ],
      "execution_count": 94,
      "outputs": [
        {
          "output_type": "stream",
          "text": [
            "Compiling ...\rCompiling (1)\rSuccess! Compiled 1 module.\n",
            "\n",
            "    Main ───> main.js\n",
            "\n",
            "Compiled in DEV mode. Follow the advice at https://elm-lang.org/0.19.1/optimize for better performance and smaller assets.\n"
          ],
          "name": "stdout"
        }
      ]
    },
    {
      "cell_type": "code",
      "metadata": {
        "id": "R_b2vVUbe9a5",
        "colab": {
          "base_uri": "https://localhost:8080/"
        },
        "outputId": "0a7d9fa0-3cec-4222-d428-521c34018f51"
      },
      "source": [
        "!./elm make temp.elm --output=elm.js"
      ],
      "execution_count": null,
      "outputs": [
        {
          "output_type": "stream",
          "text": [
            "Compiling ...\rCompiling (1)\rSuccess! Compiled 1 module.\n",
            "\u001b[36m-- NO MAIN ---------------------------------------------------------------------\u001b[0m\n",
            "\n",
            "When producing a JS file, I require that the given file has a `main` value. That\n",
            "way Elm.Main.init() is definitely defined in the resulting file!\n",
            "\n",
            "Try adding a `main` value to your file? Or if you just want to verify that this\n",
            "module compiles, switch to --output=/dev/null to skip the code gen phase\n",
            "altogether.\n",
            "\n",
            "\u001b[4mNote\u001b[0m: Adding a `main` value can be as brief as adding something like this:\n",
            "\n",
            "\u001b[96mimport\u001b[0m Html\n",
            "\n",
            "\u001b[92mmain\u001b[0m =\n",
            "  \u001b[96mHtml\u001b[0m.text \u001b[33m\"Hello!\"\u001b[0m\n",
            "\n",
            "Or use https://package.elm-lang.org/packages/elm/core/latest/Platform#worker to\n",
            "make a `main` with no user interface.\n",
            "\n"
          ],
          "name": "stdout"
        }
      ]
    },
    {
      "cell_type": "markdown",
      "metadata": {
        "id": "lGwlosYB_IW4"
      },
      "source": [
        "# はじめに\n",
        "\n",
        "はじめにすこし実験。\n",
        "```\n",
        "> \"hello\"\n",
        "\"hello\" : String\n",
        "> 1 + 1\n",
        "2 : number\n",
        "> \"hello\" ++ \", elm!!!!\"\n",
        "\"hello, elm!!!!\" : String\n",
        "```\n"
      ]
    },
    {
      "cell_type": "code",
      "metadata": {
        "id": "jiP8ovj7UEmf",
        "colab": {
          "base_uri": "https://localhost:8080/",
          "height": 35
        },
        "outputId": "69779a33-63b6-4289-cfe3-c73e08e0ca0b"
      },
      "source": [
        "\"Hello\" + \", Python!!!!\""
      ],
      "execution_count": null,
      "outputs": [
        {
          "output_type": "execute_result",
          "data": {
            "application/vnd.google.colaboratory.intrinsic+json": {
              "type": "string"
            },
            "text/plain": [
              "'Hello, Python!!!!'"
            ]
          },
          "metadata": {
            "tags": []
          },
          "execution_count": 1
        }
      ]
    },
    {
      "cell_type": "markdown",
      "metadata": {
        "id": "iiOF51tpUuWZ"
      },
      "source": [
        "`+`と`++`と違うけどだいたい同じ。\n",
        "\n",
        "```\n",
        "> greet name =\n",
        "|   \"Hello \" ++ name ++ \"!\"\n",
        "|   \n",
        "<function> : String -> String\n",
        "> greet \"Alice\"\n",
        "\"Hello Alice!\" : String\n",
        "```"
      ]
    },
    {
      "cell_type": "code",
      "metadata": {
        "id": "4eVuaqlXVIm_",
        "colab": {
          "base_uri": "https://localhost:8080/",
          "height": 35
        },
        "outputId": "995b924c-9312-428b-e6f6-a3d58f4e347d"
      },
      "source": [
        "def greet (name) :\n",
        "    return \"Hello \" + name + \"!\"\n",
        "\n",
        "greet (\"Alice\")"
      ],
      "execution_count": null,
      "outputs": [
        {
          "output_type": "execute_result",
          "data": {
            "application/vnd.google.colaboratory.intrinsic+json": {
              "type": "string"
            },
            "text/plain": [
              "'Hello Alice!'"
            ]
          },
          "metadata": {
            "tags": []
          },
          "execution_count": 5
        }
      ]
    },
    {
      "cell_type": "markdown",
      "metadata": {
        "id": "_r0LoPGvln2M"
      },
      "source": [
        "変数が2つの時はどうするか。\n",
        "```\n",
        "> madlib animal adjective =\n",
        "|   \"The ostentatious \" ++ animal ++ \" wears \" ++ adjective ++ \" shorts.\"\n",
        "|   \n",
        "<function> : String -> String -> String\n",
        "> madlib \"cat\" \"ergonimic\"\n",
        "\"The ostentatious cat wears ergonimic shorts.\" : String\n",
        "> madlib (\"butter\" ++ \"fly\") \"metalic\"\n",
        "\"The ostentatious butterfly wears metalic shorts.\" : String\n",
        "```"
      ]
    },
    {
      "cell_type": "code",
      "metadata": {
        "id": "0Lff44iamOkk",
        "colab": {
          "base_uri": "https://localhost:8080/",
          "height": 50
        },
        "outputId": "048b6184-a515-4403-8ce9-8c9b886bd1b7"
      },
      "source": [
        "def madlib (animal, adjective) :\n",
        "    return \"The ostentatious \" + animal + \" wears \" + adjective + \" shorts.\"\n",
        "\n",
        "print (madlib (\"cat\", \"ergonomic\"))\n",
        "print (madlib (\"butter\" +  \"fly\", \"metalic\"))"
      ],
      "execution_count": null,
      "outputs": [
        {
          "output_type": "stream",
          "text": [
            "The ostentatious cat wears ergonomic shorts.\n",
            "The ostentatious butterfly wears metalic shorts.\n"
          ],
          "name": "stdout"
        }
      ]
    },
    {
      "cell_type": "markdown",
      "metadata": {
        "id": "7Bpg5kHMmx3V"
      },
      "source": [
        "# いまここ"
      ]
    }
  ]
}