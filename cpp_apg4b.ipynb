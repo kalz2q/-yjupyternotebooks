{
  "nbformat": 4,
  "nbformat_minor": 0,
  "metadata": {
    "colab": {
      "name": "cpp_apg4b.ipynb",
      "provenance": [],
      "authorship_tag": "ABX9TyNBDEeqVyPwvp2ruJAmOUOQ",
      "include_colab_link": true
    },
    "kernelspec": {
      "name": "python3",
      "display_name": "Python 3"
    },
    "language_info": {
      "name": "python"
    }
  },
  "cells": [
    {
      "cell_type": "markdown",
      "metadata": {
        "id": "view-in-github",
        "colab_type": "text"
      },
      "source": [
        "<a href=\"https://colab.research.google.com/github/kalz2q/mycolabnotebooks/blob/master/cpp_apg4b.ipynb\" target=\"_parent\"><img src=\"https://colab.research.google.com/assets/colab-badge.svg\" alt=\"Open In Colab\"/></a>"
      ]
    },
    {
      "cell_type": "markdown",
      "source": [
        "# メモ\n",
        "\n",
        "AtCoder Programming Guide for Beginners APG4b を読む\n",
        "\n",
        "https://atcoder.jp/contests/apg4b\n",
        "\n",
        "とても良いテキストだと思う"
      ],
      "metadata": {
        "id": "8kHv-8CgciQc"
      }
    },
    {
      "cell_type": "markdown",
      "source": [
        "\n",
        "---\n",
        "`#include <bits/stdc++.h>` で iostream, string, vector とか省略\n",
        "\n",
        "`std::` と `#include` はとりあえず勉強はしない\n",
        "\n",
        "main 関数の `return 0` は省略\n",
        "\n",
        "計算量の解説はする\n",
        "\n",
        "repマクロ `#define rep(i, n) for (int i = 0; i < (int)(n); i++)` これはさすが要らないと思う。`for (int i=0;i < n;i++)` で十分だろう。\n"
      ],
      "metadata": {
        "id": "uUCd4AI-zp0n"
      }
    },
    {
      "cell_type": "code",
      "source": [
        "# ハローワールド\n",
        "%%writefile temp.cpp\n",
        "#include <bits/stdc++.h>\n",
        "using namespace std;\n",
        "\n",
        "int main() {\n",
        "  cout << \"Hello, world!\" << endl;\n",
        "}"
      ],
      "metadata": {
        "id": "xOjbdzyZ_5Mh"
      },
      "execution_count": null,
      "outputs": []
    },
    {
      "cell_type": "code",
      "source": [
        "!g++ temp.cpp; ./a.out"
      ],
      "metadata": {
        "id": "IIpSvJjqAFaL"
      },
      "execution_count": null,
      "outputs": []
    },
    {
      "cell_type": "code",
      "source": [
        "# 実験\n",
        "# ハローワールドのプログラムで return を入れてみた => return 0 としないとエラーになる\n",
        "# セミコロンも必要、javascript みたいに補ってくれない\n",
        "# int main を void main にしたらエラーになった\n",
        "# int main(void) は通った\n",
        "# 質問 int main(int argc, char *argv[]) はどうか #=> 実験してみよう\n",
        "%%writefile temp.cpp\n",
        "#include <bits/stdc++.h>\n",
        "using namespace std;\n",
        "\n",
        "int main(int argc, char *argv[]) {\n",
        "  cout << argc << endl;\n",
        "  cout << argv[2] << endl;\n",
        "}"
      ],
      "metadata": {
        "id": "N6JoT1wTAeIh",
        "outputId": "23799ca6-41c2-4479-e30b-da44ef7536ad",
        "colab": {
          "base_uri": "https://localhost:8080/"
        }
      },
      "execution_count": null,
      "outputs": [
        {
          "output_type": "stream",
          "name": "stdout",
          "text": [
            "Overwriting temp.cpp\n"
          ]
        }
      ]
    },
    {
      "cell_type": "code",
      "source": [
        "!g++ temp.cpp; ./a.out this is a pen"
      ],
      "metadata": {
        "id": "CjMZ9oCAB6dn",
        "outputId": "42f96bdb-957f-44ea-f017-1debf07005dd",
        "colab": {
          "base_uri": "https://localhost:8080/"
        }
      },
      "execution_count": null,
      "outputs": [
        {
          "output_type": "stream",
          "name": "stdout",
          "text": [
            "5\n",
            "is\n"
          ]
        }
      ]
    },
    {
      "cell_type": "code",
      "source": [
        "# 問題\n",
        "# EX1 - コードテストと出力の練習 \n",
        "# こんにちは AtCoder と出力する\n",
        "# 改行を入れる\n",
        "%%writefile temp.cpp\n",
        "#include <bits/stdc++.h>\n",
        "using namespace std;\n",
        "\n",
        "int main() {\n",
        "  cout << \"こんにちは\" << endl;\n",
        "  cout << \"AtCoder\" << endl;\n",
        "}\n"
      ],
      "metadata": {
        "id": "OHELUdVTDN3L",
        "outputId": "f5648d52-105f-40bc-e88a-2024cba6f17d",
        "colab": {
          "base_uri": "https://localhost:8080/"
        }
      },
      "execution_count": null,
      "outputs": [
        {
          "output_type": "stream",
          "name": "stdout",
          "text": [
            "Overwriting temp.cpp\n"
          ]
        }
      ]
    },
    {
      "cell_type": "code",
      "source": [
        "!g++ temp.cpp; ./a.out"
      ],
      "metadata": {
        "id": "uXOX3kB8Dw3L",
        "outputId": "e38bc09d-cfc1-476f-fed1-94c1ed225df0",
        "colab": {
          "base_uri": "https://localhost:8080/"
        }
      },
      "execution_count": null,
      "outputs": [
        {
          "output_type": "stream",
          "name": "stdout",
          "text": [
            "こんにちは\n",
            "AtCoder\n"
          ]
        }
      ]
    },
    {
      "cell_type": "code",
      "source": [
        "# 問題\n",
        "# EX2 - エラーの修正 \n",
        "# 以下のプログラムは修正後\n",
        "%%writefile temp.cpp\n",
        "#include <bits/stdc++.h>\n",
        "using namespace std;\n",
        "\n",
        "int main() {\n",
        "  cout << \"いつも\" << 2525 << endl;\n",
        "  cout << \"AtCoderくん\" << endl;\n",
        "}\n"
      ],
      "metadata": {
        "id": "kofG4JEGD6nl",
        "outputId": "d6976cac-8c6f-4ae3-e596-f7e6260d843c",
        "colab": {
          "base_uri": "https://localhost:8080/"
        }
      },
      "execution_count": null,
      "outputs": [
        {
          "output_type": "stream",
          "name": "stdout",
          "text": [
            "Overwriting temp.cpp\n"
          ]
        }
      ]
    },
    {
      "cell_type": "code",
      "source": [
        "!g++ temp.cpp; ./a.out"
      ],
      "metadata": {
        "id": "4YT34nh8EjLU",
        "outputId": "b00d94ac-21d2-4b4f-b0f2-880cef4d3cf1",
        "colab": {
          "base_uri": "https://localhost:8080/"
        }
      },
      "execution_count": null,
      "outputs": [
        {
          "output_type": "stream",
          "name": "stdout",
          "text": [
            "いつも2525\n",
            "AtCoderくん\n"
          ]
        }
      ]
    },
    {
      "cell_type": "code",
      "source": [
        "# 問題\n",
        "# EX3 - 計算問題 \n",
        "# 公式を使って1から100までの和を求める\n",
        "%%writefile temp.cpp\n",
        "#include <bits/stdc++.h>\n",
        "using namespace std;\n",
        "int main() {\n",
        "  cout <<  (100 + 1) * 100 / 2 << endl;\n",
        "}\n"
      ],
      "metadata": {
        "id": "_pKMrFEUFw3t",
        "outputId": "ee801310-d0c3-4a24-a47b-d8cec1991e68",
        "colab": {
          "base_uri": "https://localhost:8080/"
        }
      },
      "execution_count": null,
      "outputs": [
        {
          "output_type": "stream",
          "name": "stdout",
          "text": [
            "Overwriting temp.cpp\n"
          ]
        }
      ]
    },
    {
      "cell_type": "code",
      "source": [
        "!g++ temp.cpp; ./a.out"
      ],
      "metadata": {
        "id": "hkwwL69sHAUX",
        "outputId": "2ce7ac4b-783a-4272-d339-0c52cee3f904",
        "colab": {
          "base_uri": "https://localhost:8080/"
        }
      },
      "execution_count": null,
      "outputs": [
        {
          "output_type": "stream",
          "name": "stdout",
          "text": [
            "5050\n"
          ]
        }
      ]
    },
    {
      "cell_type": "code",
      "source": [
        "# 変数\n",
        "%%writefile temp.cpp\n",
        "#include <bits/stdc++.h>\n",
        "using namespace std;\n",
        "\n",
        "int main() {\n",
        "  int name;\n",
        "  name = 10;\n",
        "\n",
        "  cout << name << endl;     // 10\n",
        "  cout << name + 2 << endl; // 10 + 2 → 12\n",
        "  cout << name * 3 << endl; // 10 * 3 → 30\n",
        "}\n"
      ],
      "metadata": {
        "id": "iNdsPMrCHwsx",
        "outputId": "e1de8061-a7e3-4e59-eb02-1a6e682408bd",
        "colab": {
          "base_uri": "https://localhost:8080/"
        }
      },
      "execution_count": null,
      "outputs": [
        {
          "output_type": "stream",
          "name": "stdout",
          "text": [
            "Overwriting temp.cpp\n"
          ]
        }
      ]
    },
    {
      "cell_type": "code",
      "source": [
        "!g++ temp.cpp; ./a.out"
      ],
      "metadata": {
        "id": "XQ_o3ZmQH56c",
        "outputId": "821cc674-a7d9-4b50-bc31-ab93dda704de",
        "colab": {
          "base_uri": "https://localhost:8080/"
        }
      },
      "execution_count": null,
      "outputs": [
        {
          "output_type": "stream",
          "name": "stdout",
          "text": [
            "10\n",
            "12\n",
            "30\n"
          ]
        }
      ]
    },
    {
      "cell_type": "code",
      "source": [
        "# 変数の初期化\n",
        "%%writefile temp.cpp\n",
        "#include <bits/stdc++.h>\n",
        "using namespace std;\n",
        "\n",
        "int main() {\n",
        "  int name = 10;\n",
        "\n",
        "  cout << name << endl;\n",
        "}"
      ],
      "metadata": {
        "id": "qdAaNCZhKbPB",
        "outputId": "3009603b-aa1a-43dc-87de-a9b77342ef3f",
        "colab": {
          "base_uri": "https://localhost:8080/"
        }
      },
      "execution_count": null,
      "outputs": [
        {
          "output_type": "stream",
          "name": "stdout",
          "text": [
            "Overwriting temp.cpp\n"
          ]
        }
      ]
    },
    {
      "cell_type": "code",
      "source": [
        "!g++ temp.cpp; ./a.out"
      ],
      "metadata": {
        "id": "4HIgJJIzKhL9",
        "outputId": "7e44b51c-7022-4638-ca94-53893f510362",
        "colab": {
          "base_uri": "https://localhost:8080/"
        }
      },
      "execution_count": null,
      "outputs": [
        {
          "output_type": "stream",
          "name": "stdout",
          "text": [
            "10\n"
          ]
        }
      ]
    },
    {
      "cell_type": "code",
      "source": [
        "# 変数はコピーされ、元の変数は影響を受けない\n",
        "%%writefile temp.cpp\n",
        "#include <bits/stdc++.h>\n",
        "using namespace std;\n",
        "\n",
        "int main() {\n",
        "\n",
        "  int a = 10;\n",
        "  int b;\n",
        "  b = a; // aの値がコピーされ、bに10が代入される\n",
        "  a = 5; // aの値は5に書き換わるが、bは10のまま\n",
        "\n",
        "  cout << a << endl; // 5\n",
        "  cout << b << endl; // 10\n",
        "}\n"
      ],
      "metadata": {
        "id": "3lOKk4ivKxVC",
        "outputId": "d583ed28-e8e4-4ac7-d54f-0b3df77b9b36",
        "colab": {
          "base_uri": "https://localhost:8080/"
        }
      },
      "execution_count": null,
      "outputs": [
        {
          "output_type": "stream",
          "name": "stdout",
          "text": [
            "Overwriting temp.cpp\n"
          ]
        }
      ]
    },
    {
      "cell_type": "code",
      "source": [
        "!g++ temp.cpp; ./a.out"
      ],
      "metadata": {
        "id": "dv3rlAghK4UK",
        "outputId": "0fac94b5-c799-4dfe-f248-5f0fbdcb9871",
        "colab": {
          "base_uri": "https://localhost:8080/"
        }
      },
      "execution_count": null,
      "outputs": [
        {
          "output_type": "stream",
          "name": "stdout",
          "text": [
            "5\n",
            "10\n"
          ]
        }
      ]
    },
    {
      "cell_type": "code",
      "source": [
        "# 変数を同時に宣言\n",
        "%%writefile temp.cpp\n",
        "#include <bits/stdc++.h>\n",
        "using namespace std;\n",
        "\n",
        "int main() {\n",
        "\n",
        "  int a = 10, b = 5;\n",
        "\n",
        "  cout << a << endl;\n",
        "  cout << b << endl;\n",
        "}\n"
      ],
      "metadata": {
        "id": "QAmgYM1fLAIt",
        "outputId": "a48cc46a-2566-487a-8f81-85b63b365dca",
        "colab": {
          "base_uri": "https://localhost:8080/"
        }
      },
      "execution_count": null,
      "outputs": [
        {
          "output_type": "stream",
          "name": "stdout",
          "text": [
            "Overwriting temp.cpp\n"
          ]
        }
      ]
    },
    {
      "cell_type": "code",
      "source": [
        "!g++ temp.cpp; ./a.out"
      ],
      "metadata": {
        "id": "o-5jJpPbLSr1",
        "outputId": "77f746c8-10a4-43e4-8e4b-03708e1b95c6",
        "colab": {
          "base_uri": "https://localhost:8080/"
        }
      },
      "execution_count": null,
      "outputs": [
        {
          "output_type": "stream",
          "name": "stdout",
          "text": [
            "10\n",
            "5\n"
          ]
        }
      ]
    },
    {
      "cell_type": "code",
      "source": [
        "# メモ\n",
        "# c++ の変数は camelCase と理解していたが、この tutorial では python みたいな anake_case を使う\n",
        "# `_` が使えると言う説明のためかも\n",
        "# 自分の趣味的には snake_case は美しいが this_is_a_pen と長くなるより thisIsAPen と短い方が好き\n",
        "# snake_case で書かれたものを参考にする時、わざわざ snakeCase と書き換えないが、自分で書く時は自然に camelCase になっている"
      ],
      "metadata": {
        "id": "AjCuwk-mL983"
      },
      "execution_count": null,
      "outputs": []
    },
    {
      "cell_type": "code",
      "source": [
        "# メモ\n",
        "# float の事を double と呼ぶ"
      ],
      "metadata": {
        "id": "IU8rnfNmMtle"
      },
      "execution_count": null,
      "outputs": []
    },
    {
      "cell_type": "code",
      "source": [
        "# 型変換\n",
        "%%writefile temp.cpp\n",
        "#include <bits/stdc++.h>\n",
        "using namespace std;\n",
        "\n",
        "int main() {\n",
        "  int i = 30;\n",
        "  double d = 1.5;\n",
        "  string s = \"Hello\";\n",
        "\n",
        "  cout << i + d << endl; // 31.5\n",
        "  cout << i * d << endl; // 45\n",
        "  cout << 45 / 2 << endl; // 22 小数点以下切り捨て\n",
        "  cout << i * d / 2 << endl; // 22.5 小数点以下も残る\n",
        "  /*\n",
        "  以下の処理はコンパイルエラー\n",
        "  cout << s + i << endl; // string型とint型\n",
        "  cout << s * i << endl; // string型とint型\n",
        "  cout << s + d << endl; // string型とdouble型\n",
        "  */\n",
        "}\n"
      ],
      "metadata": {
        "id": "b1DxVz9ONZDI",
        "outputId": "f85a351f-d1a3-4511-9ef5-bd44d2bf4d45",
        "colab": {
          "base_uri": "https://localhost:8080/"
        }
      },
      "execution_count": null,
      "outputs": [
        {
          "output_type": "stream",
          "name": "stdout",
          "text": [
            "Overwriting temp.cpp\n"
          ]
        }
      ]
    },
    {
      "cell_type": "code",
      "source": [
        "!g++ temp.cpp; ./a.out"
      ],
      "metadata": {
        "id": "D_4fvex5NfVz",
        "outputId": "cbbb1285-409e-4910-807e-a4c1ad485d35",
        "colab": {
          "base_uri": "https://localhost:8080/"
        }
      },
      "execution_count": null,
      "outputs": [
        {
          "output_type": "stream",
          "name": "stdout",
          "text": [
            "31.5\n",
            "45\n",
            "22\n",
            "22.5\n"
          ]
        }
      ]
    },
    {
      "cell_type": "code",
      "source": [
        "# 問題\n",
        "# EX4 - ◯年は何秒？ \n",
        "# int 型の変数 seconds は一年の秒数\n",
        "# これを利用して 1年は何秒か,2年は何秒か,5年は何秒か,10年は何秒かを一行ずつ表示する\n",
        "%%writefile temp.cpp\n",
        "#include <bits/stdc++.h>\n",
        "using namespace std;\n",
        "\n",
        "int main() {\n",
        "  // 一年の秒数\n",
        "  int seconds = 365 * 24 * 60 * 60;\n",
        "\n",
        "  cout << seconds  << endl;\n",
        "  cout << seconds * 2 << endl;\n",
        "  cout << seconds * 5 << endl;\n",
        "  cout << seconds * 10  << endl;\n",
        "}\n"
      ],
      "metadata": {
        "id": "6meYa14yODkD",
        "outputId": "cab15a14-3e87-4b9d-c5e5-a11676e27f80",
        "colab": {
          "base_uri": "https://localhost:8080/"
        }
      },
      "execution_count": null,
      "outputs": [
        {
          "output_type": "stream",
          "name": "stdout",
          "text": [
            "Overwriting temp.cpp\n"
          ]
        }
      ]
    },
    {
      "cell_type": "code",
      "source": [
        "!g++ temp.cpp; ./a.out"
      ],
      "metadata": {
        "id": "XYsGzo8OOzDM",
        "outputId": "48acf3b6-2392-4c49-ff5b-1c5cf5b55453",
        "colab": {
          "base_uri": "https://localhost:8080/"
        }
      },
      "execution_count": null,
      "outputs": [
        {
          "output_type": "stream",
          "name": "stdout",
          "text": [
            "31536000\n",
            "63072000\n",
            "157680000\n",
            "315360000\n"
          ]
        }
      ]
    },
    {
      "cell_type": "markdown",
      "source": [
        "# いまここ"
      ],
      "metadata": {
        "id": "jQCwlOGcYBTz"
      }
    },
    {
      "cell_type": "code",
      "source": [
        "# プログラムの実行時にデータの入力を受け取る方法\n",
        "# 入力 Hello 1.5 => Hello, 1.5 と出力\n",
        "%%writefile temp.cpp\n",
        "#include <bits/stdc++.h>\n",
        "using namespace std;\n",
        "\n",
        "int main() {\n",
        "  string text;\n",
        "  double d;\n",
        "  cin >> text;\n",
        "  cin >> d;\n",
        "  cout << text << \", \" << d << endl;\n",
        "}"
      ],
      "metadata": {
        "id": "NtiLJkXEPbsy"
      },
      "execution_count": null,
      "outputs": []
    },
    {
      "cell_type": "code",
      "source": [
        "!g++ temp.cpp; echo Hello 1.5 | ./a.out"
      ],
      "metadata": {
        "id": "5BIxpEUgPvNZ"
      },
      "execution_count": null,
      "outputs": []
    },
    {
      "cell_type": "code",
      "source": [
        "# 問題\n",
        "# EX5 - A足すB問題 \n",
        "# 2つの整数A, Bが与えられます。A+Bの計算結果を出力してください。\n",
        "%%writefile temp.cpp\n",
        "#include <bits/stdc++.h>\n",
        "using namespace std;\n",
        " \n",
        "int main() {\n",
        "  int A, B;\n",
        "  cin >> A >> B;\n",
        "  cout << A+B << endl;\n",
        "}"
      ],
      "metadata": {
        "id": "pHVa1nn4-6OS"
      },
      "execution_count": null,
      "outputs": []
    },
    {
      "cell_type": "code",
      "source": [
        "!g++ temp.cpp; echo 1 2 | ./a.out"
      ],
      "metadata": {
        "id": "FvNljIIN_Q5M"
      },
      "execution_count": null,
      "outputs": []
    },
    {
      "cell_type": "code",
      "source": [
        "# 問題\n",
        "# A - New Year \n",
        "# 12 月 30 日の M 時から次の年になるまでは何時間か、求めてください。\n",
        "%%writefile temp.cpp\n",
        "#include <bits/stdc++.h>\n",
        "using namespace std;\n",
        " \n",
        "int main() {\n",
        "  int M;\n",
        "  cin >> M;\n",
        "  cout << 48 - M << endl;\n",
        "}"
      ],
      "metadata": {
        "id": "Knte-0NU_h1Z"
      },
      "execution_count": null,
      "outputs": []
    },
    {
      "cell_type": "code",
      "source": [
        "!g++ temp.cpp; echo 21 | ./a.out"
      ],
      "metadata": {
        "id": "Npg1lKKg_3EQ"
      },
      "execution_count": null,
      "outputs": []
    },
    {
      "cell_type": "code",
      "source": [
        "# 問題\n",
        "# A - Rating Goal \n",
        "# 現在のレーティングを a とする。\n",
        "# 次のコンテストで, パフォーマンス b を取ったとする。\n",
        "# そのとき, レーティングは a と b の平均まで変化する。\n",
        "# 高橋君は, 現在のレーティングが R で, 次のコンテストでレーティングをちょうど G にした\n",
        "# そのとき, 高橋君が取るべきパフォーマンスを求めなさい。\n",
        "%%writefile temp.cpp\n",
        "#include <bits/stdc++.h>\n",
        "using namespace std;\n",
        " \n",
        "int main() {\n",
        "  int R, G;\n",
        "  cin >> R >> G;\n",
        "  // (R + performance ) / 2 = G より performance = G * 2 - R\n",
        "  cout << G * 2 - R << endl;\n",
        "}"
      ],
      "metadata": {
        "id": "xUkTz452ASP5"
      },
      "execution_count": null,
      "outputs": []
    },
    {
      "cell_type": "code",
      "source": [
        "!g++ temp.cpp; echo 2002 2017 | ./a.out"
      ],
      "metadata": {
        "id": "s-_VjduUBLyU"
      },
      "execution_count": null,
      "outputs": []
    },
    {
      "cell_type": "code",
      "source": [
        "# 問題\n",
        "# A - Bichrome Cells \n",
        "# N×N のマス目があります。\n",
        "# このマス目の各マスを白色または黒色に塗ることにしました\n",
        "# ちょうど A マスを白色に塗るとき、黒色に塗ることになるマスはいくつあるでしょうか。\n",
        "%%writefile temp.cpp\n",
        "#include <bits/stdc++.h>\n",
        "using namespace std;\n",
        " \n",
        "int main() {\n",
        "  int N, A;\n",
        "  cin >> N >> A;\n",
        "  cout << N * N - A << endl;\n",
        "}"
      ],
      "metadata": {
        "id": "Xbsh8SHTCXaX"
      },
      "execution_count": null,
      "outputs": []
    },
    {
      "cell_type": "code",
      "source": [
        "!g++ temp.cpp; echo 3 4 | ./a.out"
      ],
      "metadata": {
        "id": "VoyMrKOrFhxO"
      },
      "execution_count": null,
      "outputs": []
    },
    {
      "cell_type": "code",
      "source": [
        "# 問題\n",
        "# A - Round Up the Mean\n",
        "# 2 つの正整数 a, b が与えられます。 a, b の平均値を x とします。 \n",
        "# x の小数点以下を切り上げて得られる整数を出力してください。\n",
        "# 入力 7 4 => 6\n",
        "%%writefile temp.cpp\n",
        "#include <bits/stdc++.h>\n",
        "using namespace std;\n",
        " \n",
        "int main() {\n",
        "  int a, b;\n",
        "  cin >> a >> b;\n",
        "  cout << (a+b+1)/2 << endl;\n",
        "}"
      ],
      "metadata": {
        "id": "gzghcijvFybT"
      },
      "execution_count": null,
      "outputs": []
    },
    {
      "cell_type": "code",
      "source": [
        "!g++ temp.cpp; echo 7 4 | ./a.out"
      ],
      "metadata": {
        "id": "xtAxQf_-GINc"
      },
      "execution_count": null,
      "outputs": []
    },
    {
      "cell_type": "code",
      "source": [
        "# 問題\n",
        "# A - Placing Marbles \n",
        "# すぬけ君は 1,2,3 の番号がついた 3 つのマスからなるマス目を持っています。 \n",
        "# 各マスには 0 か 1 が書かれています。\n",
        "# すぬけ君は 1 が書かれたマスにビー玉を置きます。 ビー玉が置かれるマスがいくつあるか求めてください。\n",
        "%%writefile temp.cpp\n",
        "#include <bits/stdc++.h>\n",
        "using namespace std;\n",
        " \n",
        "int main() {\n",
        "  int x, s1, s2, s3;\n",
        "  cin >> x ;\n",
        "  s1 = x % 2;\n",
        "  s2 = x / 10 % 2;\n",
        "  s3 = x / 100 % 2;\n",
        "  cout << s1+s2+s3 << endl;\n",
        "}"
      ],
      "metadata": {
        "id": "XN4-zwHkOKsZ"
      },
      "execution_count": null,
      "outputs": []
    },
    {
      "cell_type": "code",
      "source": [
        "!g++ temp.cpp; echo 101 | ./a.out"
      ],
      "metadata": {
        "id": "EuvyQfjqOcJC"
      },
      "execution_count": null,
      "outputs": []
    },
    {
      "cell_type": "code",
      "source": [
        "# G - 1.06.if文・比較演算子・論理演算子 \n",
        "# 問題\n",
        "# EX6 - 電卓をつくろう \n",
        "# 1行の計算式が与えられるので、その結果を出力してください。\n",
        "# + - * / 以外はエラー\n",
        "%%writefile temp.cpp\n",
        "#include <bits/stdc++.h>\n",
        "using namespace std;\n",
        "\n",
        "int main() {\n",
        "  int A, B;\n",
        "  string op;\n",
        "  cin >> A >> op >> B;\n",
        "\n",
        "  if (op == \"+\") cout << A + B << endl;\n",
        "  else if (op == \"-\") cout << A - B << endl;\n",
        "  else if (op == \"*\") cout << A * B << endl;\n",
        "  else if (op == \"/\" && B != 0) cout << A / B << endl;\n",
        "  else cout << \"error\" << endl;\n",
        "\n",
        "}"
      ],
      "metadata": {
        "id": "XfLqiU3LPQLH"
      },
      "execution_count": null,
      "outputs": []
    },
    {
      "cell_type": "code",
      "source": [
        "!g++ temp.cpp; echo 1 + 2 | ./a.out"
      ],
      "metadata": {
        "id": "ml3bUB1Pqg_a"
      },
      "execution_count": null,
      "outputs": []
    },
    {
      "cell_type": "code",
      "source": [
        "# 問題\n",
        "# A - Infinite Coins \n",
        "# E869120 は 1 円硬貨を A 枚と 500 円硬貨を無限枚持っています.\n",
        "# これらの硬貨だけを使うことによって, ちょうど N 円を支払うことができるかを判定しなさい.\n",
        "%%writefile temp.cpp\n",
        "#include <bits/stdc++.h>\n",
        "using namespace std;\n",
        "\n",
        "int main() {\n",
        "  int N, A;\n",
        "  cin >> N >> A;\n",
        "\n",
        "  if (N % 500 <= A) cout << \"Yes\" << endl;\n",
        "  else {\n",
        "      cout << \"No\" << endl;\n",
        "  }\n",
        "}"
      ],
      "metadata": {
        "id": "tlDbZllqjsMF"
      },
      "execution_count": null,
      "outputs": []
    },
    {
      "cell_type": "code",
      "source": [
        "!g++ temp.cpp; echo 2018 218 | ./a.out\n",
        "!g++ temp.cpp; echo 2763 0 | ./a.out\n",
        "!g++ temp.cpp; echo 37 514 | ./a.out"
      ],
      "metadata": {
        "id": "tIzYFgHFkVJM"
      },
      "execution_count": null,
      "outputs": []
    },
    {
      "cell_type": "code",
      "source": [
        "# 問題\n",
        "# A - Product\n",
        "# シカのAtCoDeerくんは二つの正整数 a,b を見つけました。 a と b の積が偶数か奇数か判定してください。 Even Odd\n",
        "%%writefile temp.cpp\n",
        "#include <bits/stdc++.h>\n",
        "using namespace std;\n",
        "\n",
        "int main() {\n",
        "  int a, b;\n",
        "  cin >> a >> b;\n",
        "\n",
        "  if (a * b % 2 == 0) cout << \"Even\" << endl;\n",
        "  else cout << \"Odd\" << endl;\n",
        "}"
      ],
      "metadata": {
        "id": "HLh2-w8SnUGy"
      },
      "execution_count": null,
      "outputs": []
    },
    {
      "cell_type": "code",
      "source": [
        "!g++ temp.cpp; echo 3 4 | ./a.out\n",
        "!g++ temp.cpp; echo 1 21 | ./a.out"
      ],
      "metadata": {
        "id": "sU4iDmWFnUv4"
      },
      "execution_count": null,
      "outputs": []
    },
    {
      "cell_type": "code",
      "source": [
        "# 問題\n",
        "# A - Libra\n",
        "# 高橋君は、上皿天秤の左の皿に重さ A のおもりと重さ B のおもりを、右の皿に重さ C のおもりと重さ D のおもりを置きました。\n",
        "# 上皿天秤が左に傾くなら Left を、釣り合うなら Balanced を、右に傾くなら Right を出力してください。\n",
        "%%writefile temp.cpp\n",
        "#include <bits/stdc++.h>\n",
        "using namespace std;\n",
        "\n",
        "int main() {\n",
        "  int A, B, C, D;\n",
        "  cin >> A >> B >> C >> D;\n",
        "\n",
        "  if (A+B > C+D) cout << \"Left\" << endl;\n",
        "  else if (A+B == C+D) cout << \"Balanced\" << endl;\n",
        "  else cout << \"Right\" << endl;\n",
        "}"
      ],
      "metadata": {
        "id": "4p53SkczRVcS"
      },
      "execution_count": null,
      "outputs": []
    },
    {
      "cell_type": "code",
      "source": [
        "!g++ temp.cpp; echo 3 8 7 1 | ./a.out\n",
        "!g++ temp.cpp; echo 5 3 7 1 | ./a.out\n",
        "!g++ temp.cpp; echo 5 2 7 1 | ./a.out"
      ],
      "metadata": {
        "id": "xpa5BgBTRV6r"
      },
      "execution_count": null,
      "outputs": []
    },
    {
      "cell_type": "code",
      "source": [
        "# 問題\n",
        "# A - Parking  / \n",
        "# 実行時間制\n",
        "# 駐車場があり、以下の二種類のプランのどちらかを選んで駐車できます。\n",
        "# プラン 1 : T 時間駐車した場合、A×T 円が駐車料金となる。\n",
        "# プラン 2 : 駐車した時間に関わらず B 円が駐車料金となる。\n",
        "# N 時間駐車するとき、駐車料金は最小でいくらになるか求めてください。\n",
        "# 入力 N A T => 7 17 120 => 119\n",
        "%%writefile temp.cpp\n",
        "#include <bits/stdc++.h>\n",
        "using namespace std;\n",
        "\n",
        "int main() {\n",
        "  int N, A, B;\n",
        "  cin >> N >> A >> B;\n",
        "\n",
        "  if (N*A < B) cout << N*A << endl;\n",
        "  else cout << B << endl;\n",
        "}"
      ],
      "metadata": {
        "id": "4zorT2vIFXhp",
        "outputId": "6ae3a1f7-b258-4cc6-d59a-9b985e9aa498",
        "colab": {
          "base_uri": "https://localhost:8080/"
        }
      },
      "execution_count": 1,
      "outputs": [
        {
          "output_type": "stream",
          "name": "stdout",
          "text": [
            "Writing temp.cpp\n"
          ]
        }
      ]
    },
    {
      "cell_type": "code",
      "source": [
        "# echo -e を用いて改行を含む複数行入力してみる\n",
        "!g++ temp.cpp; echo -e '7 \\n 17 120' | ./a.out\n",
        "!g++ temp.cpp; echo -e '7 17 120' | ./a.out\n",
        "!g++ temp.cpp; echo 7 17 120 | ./a.out"
      ],
      "metadata": {
        "id": "Ny6NEQIwFXOu",
        "outputId": "78f664e7-a254-4845-a357-d3912a14a3dc",
        "colab": {
          "base_uri": "https://localhost:8080/"
        }
      },
      "execution_count": 8,
      "outputs": [
        {
          "output_type": "stream",
          "name": "stdout",
          "text": [
            "119\n",
            "119\n",
            "119\n"
          ]
        }
      ]
    },
    {
      "cell_type": "code",
      "source": [
        "# 問題\n",
        "# A - Good Integer\n",
        "# 1118 のような、3 つ以上の同じ数字が連続して並んだ 4 桁の整数を 良い整数 とします。\n",
        "# 4 桁の整数 N が与えられるので、N が 良い整数 かどうかを答えてください。\n",
        "# 入力 1118 => \"Yes\"\n",
        "%%writefile temp.cpp\n",
        "#include <bits/stdc++.h>\n",
        "using namespace std;\n",
        "\n",
        "int main() {\n",
        "  int N;\n",
        "  cin >> N;\n",
        "\n",
        "  if ((N%10==N/10%10 && N/10%10==N/100%10 && N%10==N/100%10) || (N/10%10==N/100%10 && N/100%10==N/1000%10 && N/10%10==N/1000%10)) cout << \"Yes\" << endl;\n",
        "  else cout << \"No\" << endl;\n",
        "\n",
        "}"
      ],
      "metadata": {
        "id": "FXaE6-mpGwOh"
      },
      "execution_count": null,
      "outputs": []
    },
    {
      "cell_type": "code",
      "source": [
        "!g++ temp.cpp; echo 1118 | ./a.out\n",
        "!g++ temp.cpp; echo 7777 | ./a.out\n",
        "!g++ temp.cpp; echo 1777 | ./a.out\n",
        "!g++ temp.cpp; echo 1234 | ./a.out"
      ],
      "metadata": {
        "id": "5ELaULTqGwDh"
      },
      "execution_count": null,
      "outputs": []
    },
    {
      "cell_type": "code",
      "source": [
        "# 問題\n",
        "# EX7 - bool値パズル\n",
        "# 次のプログラムで宣言されているbool型の変数a, b, cに対し、trueまたはfalseを代入することで、AtCoderと出力されるようにしてください。\n",
        "# 5,6,7行目における変数a,b,cへの代入以外のプログラムの書き換えは行わないものとします。\n",
        "%%writefile temp.cpp\n",
        "#include <bits/stdc++.h>\n",
        "using namespace std;\n",
        "\n",
        "int main() {\n",
        "  // 変数a,b,cにtrueまたはfalseを代入してAtCoderと出力されるようにする。\n",
        "  bool a = true; // true または false\n",
        "  bool b = false; // true または false\n",
        "  bool c = true; // true または false\n",
        "\n",
        "  // ここから先は変更しないこと\n",
        "\n",
        "  if (a) {\n",
        "    cout << \"At\";\n",
        "  }\n",
        "  else {\n",
        "    cout << \"Yo\";\n",
        "  }\n",
        "\n",
        "  if (!a && b) {\n",
        "    cout << \"Bo\";\n",
        "  }\n",
        "  else if (!b || c) {\n",
        "    cout << \"Co\";\n",
        "  }\n",
        "\n",
        "  if (a && b && c) {\n",
        "    cout << \"foo!\";\n",
        "  }\n",
        "  else if (true && false) {\n",
        "    cout << \"yeah!\";\n",
        "  }\n",
        "  else if (!a || c) {\n",
        "    cout << \"der\";\n",
        "  }\n",
        "\n",
        "  cout << endl;\n",
        "}\n"
      ],
      "metadata": {
        "id": "OQFlJbGyKwY8"
      },
      "execution_count": null,
      "outputs": []
    },
    {
      "cell_type": "code",
      "source": [
        "!g++ temp.cpp; ./a.out"
      ],
      "metadata": {
        "id": "kRVrtmj8KwPu"
      },
      "execution_count": null,
      "outputs": []
    },
    {
      "cell_type": "markdown",
      "source": [
        "---\n",
        "問題 EX8 - たこ焼きセット \n",
        "\n",
        "A君はたこ焼きの情報を処理するプログラムを書いています。  \n",
        "このプログラムは以下の2パターンの入力を処理します。  \n",
        "\n",
        "パターン1  \n",
        "1行目で、パターンを表す整数1が入力されます。  \n",
        "2行目で、たこ焼き1個あたりの値段priceが入力されます。  \n",
        "3行目で、たこ焼き1セットあたりの個数Nが入力されます。  \n",
        "  \n",
        "出力 たこ焼き1セットあたりの値段(=N×price)を出力します。  \n",
        "\n",
        "パターン2  \n",
        "1行目で、パターンを表す整数2が入力されます。  \n",
        "2行目で、たこ焼きセットの説明文textが入力されます。  \n",
        "3行目で、たこ焼き1個あたりの値段priceが入力されます。  \n",
        "4行目で、たこ焼き1セットあたりの個数Nが入力されます。  \n",
        "  \n",
        "出力  \n",
        "1行目で、たこ焼きセットの説明文textの末尾に!をつけて出力します。  \n",
        "2行目で、たこ焼き1セット辺りの値段(=N×price)を出力します。  "
      ],
      "metadata": {
        "id": "hxkEUGgaikEq"
      }
    },
    {
      "cell_type": "code",
      "source": [
        "# エラーを修正し正しいプログラムにする\n",
        "%%writefile temp.cpp\n",
        "#include <bits/stdc++.h>\n",
        "using namespace std;\n",
        "int main() {\n",
        "  int p, price, N;\n",
        "  string text;\n",
        "  cin >> p;\n",
        "\n",
        "  // パターン1\n",
        "  if (p == 1) {\n",
        "    cin >> price >> N;\n",
        "    cout << price * N << endl;\n",
        "  }\n",
        "\n",
        "  // パターン2\n",
        "  if (p == 2) {\n",
        "    cin >> text >> price >> N;\n",
        "    cout << text << \"!\" << endl;\n",
        "    cout << price * N << endl;\n",
        "  }\n",
        "}"
      ],
      "metadata": {
        "id": "stLLCllVhP25"
      },
      "execution_count": null,
      "outputs": []
    },
    {
      "cell_type": "code",
      "source": [
        "!g++ temp.cpp; echo 1 80 5 |./temp\n",
        "!g++ temp.cpp; echo 2 umai 150 3 |./temp\n",
        "!g++ temp.cpp; echo 2 good! 30 8 |./temp"
      ],
      "metadata": {
        "id": "3_Evn1u-gAO_"
      },
      "execution_count": null,
      "outputs": []
    },
    {
      "cell_type": "code",
      "source": [
        "# 問題\n",
        "# EX9 - 複合代入演算子を使おう \n",
        "# 整数x,a,bが入力されます。\n",
        "# 以下の4つの値を計算し、1行ずつ出力してください。\n",
        "# xに1を足した値\n",
        "# (1.で出力した値)に(a+b)を掛けた値\n",
        "# (2.で出力した値)に(2.で出力した値)を掛けた値\n",
        "# (3.で出力した値)から1を引いた値\n",
        "%%writefile temp.cpp\n",
        "#include <bits/stdc++.h>\n",
        "using namespace std;\n",
        "\n",
        "int main() {\n",
        "  int x, a, b;\n",
        "  cin >> x >> a >> b;\n",
        "\n",
        "  // 1.の出力\n",
        "  x++;\n",
        "  cout << x << endl;\n",
        "\n",
        "  // ここにプログラムを追記\n",
        "  // 2\n",
        "  x *= (a+b);\n",
        "  cout << x << endl;\n",
        "  // 3\n",
        "  x *=x ; \n",
        "  cout << x << endl;\n",
        "  // 4\n",
        "  x--;\n",
        "  cout << x << endl;\n",
        "}\n"
      ],
      "metadata": {
        "id": "0SuRIMo4iZyh"
      },
      "execution_count": null,
      "outputs": []
    },
    {
      "cell_type": "code",
      "source": [
        "!g++ temp.cpp; echo 1 2 3 |./temp\n",
        "!g++ temp.cpp; echo 3 2 5 |./temp"
      ],
      "metadata": {
        "id": "WelnJMbbiZop"
      },
      "execution_count": null,
      "outputs": []
    },
    {
      "cell_type": "code",
      "source": [
        "# 問題\n",
        "# EX10 - 棒グラフの出力 \n",
        "# AさんとBさんのテストの点数A,Bが与えられます。\n",
        "# 2人の点数を表す横向きの棒グラフを出力してください。\n",
        "# 棒グラフは1点を一つの]で表します。\n",
        "%%writefile temp.cpp\n",
        "#include <bits/stdc++.h>\n",
        "using namespace std;\n",
        " \n",
        "int main() {\n",
        "  int A, B;\n",
        "  cin >> A >> B;\n",
        " \n",
        "  // ここにプログラムを追記\n",
        "  cout << \"A:\" ;\n",
        "  for (int i = 0; i < A; i++) cout << \"]\";\n",
        "  cout << endl;\n",
        "  cout << \"B:\" ;\n",
        "  for (int i = 0; i < B; i++) cout << \"]\";\n",
        "  cout << endl;\n",
        "}"
      ],
      "metadata": {
        "id": "NaxUwbp_3Hup"
      },
      "execution_count": null,
      "outputs": []
    },
    {
      "cell_type": "code",
      "source": [
        "!g++ temp.cpp; echo 5 9 |./temp\n",
        "!g++ temp.cpp; echo 0 20 |./temp"
      ],
      "metadata": {
        "id": "LZtc9s_n3HmI"
      },
      "execution_count": null,
      "outputs": []
    },
    {
      "cell_type": "code",
      "source": [
        "# 問題\n",
        "# EX11 - 電卓をつくろう2 \n",
        "# 電卓の操作が与えられるので、計算途中の値と計算結果の値を出力してください。\n",
        "# 電卓の操作は次の形式で入力されます。\n",
        "# 入力の形式\n",
        "# 計算の数N\n",
        "# 最初の値A\n",
        "# 演算子op 計算する値B ...\n",
        "# 次の入力は((2+1)×3)÷2を表しています。\n",
        "# 3 2 + 1 * 3 / 2\n",
        "# 出力では「何行目の出力か」と、「計算途中の値」を出力してください。\n",
        "%%writefile temp.cpp\n",
        "#include <bits/stdc++.h>\n",
        "using namespace std;\n",
        "\n",
        "int main() {\n",
        "  int N, A;\n",
        "  cin >> N >> A;\n",
        "  string op;\n",
        "  int  B;\n",
        "\n",
        "  // ここにプログラムを追記\n",
        "  for (int i = 0; i < N; i++) {\n",
        "    cin >> op >> B;\n",
        "    if (op == \"+\") {cout << i + 1 << \":\" << (A += B) << endl; continue;}\n",
        "    else if (op == \"-\") {cout << i + 1 << \":\" << (A -= B) << endl; continue;}\n",
        "    else if (op == \"*\") {cout << i + 1 << \":\" << (A *= B) << endl; continue;}\n",
        "    else if (op == \"/\" && B != 0) {cout << i + 1 << \":\" << (A /= B) << endl; continue;}\n",
        "    else {cout << \"error\" << endl; break;}\n",
        "  }\n",
        "}"
      ],
      "metadata": {
        "id": "4ViGJc7z53Q2"
      },
      "execution_count": null,
      "outputs": []
    },
    {
      "cell_type": "code",
      "source": [
        "!g++ temp.cpp; echo \"3 2 + 1 * 3 / 2\" |./temp\n",
        "!g++ temp.cpp; echo \"2 3 / 2 / 2\" |./temp\n",
        "!g++ temp.cpp; echo \"4 3 + 1 / 0 * 2 - 10\" |./temp\n",
        "!g++ temp.cpp; echo \"7 10 * 10 * 10 * 10 * 10 * 10 * 10 * 10\" |./temp"
      ],
      "metadata": {
        "id": "PMcBu-QO53Ic"
      },
      "execution_count": null,
      "outputs": []
    },
    {
      "cell_type": "code",
      "source": [
        "# 問題\n",
        "# B - Hina Arare\n",
        "# 日本では、3 月 3 日にひなあられという、色のついたお菓子をお供えする習慣があります。\n",
        "# 1 つの袋があり、ひなあられが N 個入っています。\n",
        "# この袋には、桃色、白色、緑色の 3 種類か、桃色、白色、緑色、黄色の 4 種類のひなあられが入っていることが分かっています。\n",
        "# この袋に 3 種類のひなあられが入っていた場合は Three、4 種類のひなあられが入っていた場合は Four と出力してください。\n",
        "%%writefile temp.cpp\n",
        "#include <bits/stdc++.h>\n",
        "using namespace std;\n",
        "\n",
        "int main() {\n",
        "  int N, P, W, G, Y;\n",
        "  string color;\n",
        "  cin >> N;\n",
        "  P = W = G = Y = 0;\n",
        "  for (int i = 0; i < N; i++) {\n",
        "      cin >> color;\n",
        "      if (color == \"P\") P = 1;\n",
        "      if (color == \"W\") W = 1;\n",
        "      if (color == \"G\") G = 1;\n",
        "      if (color == \"Y\") Y = 1;\n",
        "  }\n",
        "\n",
        "  if (P+W+G+Y == 3) cout << \"Three\" << endl;\n",
        "  else if (P+W+G+Y == 4) cout << \"Four\" << endl;\n",
        "  else cout << \"error\" << endl;\n",
        "}"
      ],
      "metadata": {
        "id": "MmB96hl9QBLh"
      },
      "execution_count": null,
      "outputs": []
    },
    {
      "cell_type": "code",
      "source": [
        "!g++ temp.cpp; echo 6 G W Y P Y W |./temp\n",
        "!g++ temp.cpp; echo 9 G W W G P W P G G |./temp\n",
        "!g++ temp.cpp; echo 8 P Y W G Y W Y Y |./temp"
      ],
      "metadata": {
        "id": "Eq6ty-_sjwbR"
      },
      "execution_count": null,
      "outputs": []
    },
    {
      "cell_type": "code",
      "source": [
        "# 問題\n",
        "# B - Theater\n",
        "# joisinoお姉ちゃんは、劇場の受付を担当しています。\n",
        "# この劇場には、席 1 から席 100000 までの、100000 個の席があります。\n",
        "# 彼女のメモ書きによると、今までの間に N 組の団体が来て、i 組目の団体は席 l_i から席 r_i までの連続した席に座っています。\n",
        "# 今、劇場の席には何人座っているか求めてください。\n",
        "%%writefile temp.cpp\n",
        "#include <bits/stdc++.h>\n",
        "using namespace std;\n",
        "\n",
        "int main() {\n",
        "  int N, l, r, sum;\n",
        "  cin >> N;\n",
        "  sum = 0;\n",
        "  for (int i = 0; i < N; i++) {\n",
        "      cin >> l >> r;\n",
        "      sum += r-l+1;\n",
        "  }\n",
        "\n",
        "  cout << sum << endl;\n",
        "}"
      ],
      "metadata": {
        "id": "cK0sM6FDosbu"
      },
      "execution_count": null,
      "outputs": []
    },
    {
      "cell_type": "code",
      "source": [
        "!g++ temp.cpp; echo 1 24 30 |./temp\n",
        "!g++ temp.cpp; echo 2 6 8 3 3 |./temp"
      ],
      "metadata": {
        "id": "HiI1KvyaosRP"
      },
      "execution_count": null,
      "outputs": []
    },
    {
      "cell_type": "code",
      "source": [
        "# 問題\n",
        "# B - Harshad Number\n",
        "# 整数 X を十進法で表したときの各桁の数字の和を f(X) としたとき、X が f(X) で割り切れる場合、X はハーシャッド数です。\n",
        "# 整数 N が与えられるので、ハーシャッド数かどうか判定してください。\n",
        "# N がハージャッド数ならば Yes を、そうでなければ No を出力せよ。\n",
        "%%writefile temp.cpp\n",
        "#include <bits/stdc++.h>\n",
        "using namespace std;\n",
        "\n",
        "int main() {\n",
        "  int N, N2, digit;\n",
        "  cin >> N;\n",
        "  N2 = N;\n",
        "  digit = 0;\n",
        "  for (int i = 0; i < 8 ; i++){\n",
        "      digit += N % 10;\n",
        "      N /= 10;\n",
        "  }\n",
        "  if (N2 % digit == 0) cout << \"Yes\" << endl;\n",
        "  else cout << \"No\" << endl;\n",
        "}"
      ],
      "metadata": {
        "id": "Zo5e3tkzprSu"
      },
      "execution_count": null,
      "outputs": []
    },
    {
      "cell_type": "code",
      "source": [
        "!g++ temp.cpp; echo 12 |./temp\n",
        "!g++ temp.cpp; echo 57 |./temp\n",
        "!g++ temp.cpp; echo 148 |./temp"
      ],
      "metadata": {
        "id": "HfkQkcQSpr5d"
      },
      "execution_count": null,
      "outputs": []
    },
    {
      "cell_type": "code",
      "source": [
        "# 問題\n",
        "# B - Addition and Multiplication\n",
        "# square1001 は、電光掲示板に整数 1 が表示されているのを見ました。\n",
        "# 彼は、電光掲示板に対して、以下の操作 A, 操作 B をすることができます。\n",
        "# 操作 A： 電光掲示板に表示する整数を「今の電光掲示板の整数を 2 倍にしたもの」に変える。\n",
        "# 操作 B： 電光掲示板に表示する整数を「今の電光掲示板の整数に K を足したもの」に変える。\n",
        "# square1001 は、操作 A, 操作 B 合計で N 回 行わなければなりません。 そのとき、N 回の操作後の、電光掲# 示板に書かれている整数として考えられる最小の値を求めなさい。\n",
        "%%writefile temp.cpp\n",
        "#include <bits/stdc++.h>\n",
        "using namespace std;\n",
        "\n",
        "int main() {\n",
        "  int N, K, sum;\n",
        "  cin >> N >> K;\n",
        "  sum = 1;\n",
        "  for (int i = 0; i < N ; i++){\n",
        "      if ((sum*2) < sum+K) sum *= 2;\n",
        "      else sum += K; \n",
        "  }\n",
        "  cout << sum << endl;\n",
        "}"
      ],
      "metadata": {
        "id": "D4Fl9FpF0HpW"
      },
      "execution_count": null,
      "outputs": []
    },
    {
      "cell_type": "code",
      "source": [
        "!g++ temp.cpp; echo 4 3 |./temp\n",
        "!g++ temp.cpp; echo 10 10 |./temp"
      ],
      "metadata": {
        "id": "338Idcwd0IDK"
      },
      "execution_count": null,
      "outputs": []
    },
    {
      "cell_type": "code",
      "source": [
        "# 問題\n",
        "# B - Collecting Balls (Easy Version)\n",
        "# xy 平面上に N 個のボールがあります。このうち i 番目のボールの位置は (x_i,i) です。 \n",
        "# したがって、N 本の直線 y=1, y=2, ..., y=N の上にそれぞれ 1 個ずつボールがあることになります。\n",
        "# すぬけ君は、これらのボールを回収するために、タイプ A, B のロボットを N 台ずつ用意しました。 \n",
        "# さらに、タイプ A のロボットのうち i 台目のものを位置 (0,i) に、タイプ B のロボットのうち i 台目のものを\n",
        "# 位置 (K,i) に設置しました。 したがって、N 本の直線 y=1, y=2, ..., y=N の上に\n",
        "# それぞれ 1 台のタイプ A のロボットと、1 台のタイプ B のロボットが設置されたことになります。\n",
        "# それぞれのタイプのロボットは起動されると以下のように動作します。\n",
        "# タイプ A のロボットは、位置 (0,a) で起動されると、直線 y=a 上にあるボールの位置まで移動し、\n",
        "# ボールを回収してもとの位置 (0,a) に戻って停止する。そのようなボールが存在しない場合は何もせずに停止する。\n",
        "# タイプ B のロボットは、位置 (K,b) で起動されると、直線 y=b 上にあるボールの位置まで移動し、\n",
        "# ボールを回収してもとの位置 (K,b) に戻って停止する。そのようなボールが存在しない場合は何もせずに停止する。\n",
        "# これら 2N 台のロボットのうちいくつかを起動してボールをすべて回収するとき、ロボットの\n",
        "# 移動距離の総和として考えられる値のうち最小のものを求めてください。\n",
        "%%writefile temp.cpp\n",
        "#include <bits/stdc++.h>\n",
        "using namespace std;\n",
        "\n",
        "int main() {\n",
        "  int N, K, sum;\n",
        "  cin >> N >> K;\n",
        "  sum = 0;\n",
        "  for (int i = 0; i < N ; i++){\n",
        "      int x;\n",
        "      cin >> x;\n",
        "      if (x < K-x) sum += x*2;\n",
        "      else sum += (K-x)*2;\n",
        "  }\n",
        "  cout << sum << endl;\n",
        "}\n"
      ],
      "metadata": {
        "id": "YxIVbzf6eEmq"
      },
      "execution_count": null,
      "outputs": []
    },
    {
      "cell_type": "code",
      "source": [
        "!g++ temp.cpp; echo 1 10 2 |./temp\n",
        "!g++ temp.cpp; echo 2 9 3 6 |./temp\n",
        "!g++ temp.cpp; echo 5 20 11 12 9 17 12 |./temp"
      ],
      "metadata": {
        "id": "5z9aCYSVeEaU"
      },
      "execution_count": null,
      "outputs": []
    },
    {
      "cell_type": "code",
      "source": [
        "# 問題\n",
        "# B - Palindromic Numbers\n",
        "# A 以上 B 以下の整数のうち、回文数となるものの個数を求めてください。 \n",
        "# 回文数とは、先頭に 0 をつけない 10 進表記を文字列として見たとき、\n",
        "# 前から読んでも後ろから読んでも同じ文字列となるような正の整数のことを指します。\n",
        "# 11009 11332 => 4\n",
        "# 31415 92653 => 612\n",
        "\n",
        "%%writefile temp.cpp\n",
        "#include <bits/stdc++.h>\n",
        "using namespace std;\n",
        "#define rep(i, n) for (int i = 0; i < (int)(n); i++)\n",
        "\n",
        "bool isPalindrome(int orig) {\n",
        "  int digit, rev, num ;\n",
        "  digit = rev = 0;  \n",
        "  num = orig;\n",
        "  rep(i, 10){\n",
        "    digit = num % 10;\n",
        "    rev = (rev * 10) + digit;\n",
        "    num = num / 10;\n",
        "    if (num == 0 ) break;\n",
        "  }\n",
        "  return (orig == rev);\n",
        "};\n",
        "\n",
        "int main() {\n",
        "  int A, B, count , diff ;\n",
        "  cin >> A >> B ;\n",
        "  count = 0;\n",
        "  diff = B - A;\n",
        "  rep(i, diff + 1) {\n",
        "    if (isPalindrome(A+i)) { count += 1; }\n",
        "  }\n",
        "  cout << count << endl;\n",
        "}"
      ],
      "metadata": {
        "id": "_8r2vg5ojC-y"
      },
      "execution_count": null,
      "outputs": []
    },
    {
      "cell_type": "code",
      "source": [
        "!g++ temp.cpp; echo 11009 11332 | ./a.out\n",
        "!g++ temp.cpp; echo 31415 92653 | ./a.out"
      ],
      "metadata": {
        "id": "QDNOIByfjdaH"
      },
      "execution_count": null,
      "outputs": []
    },
    {
      "cell_type": "code",
      "source": [
        "# 問題\n",
        "# B - Shift only\n",
        "# 黒板に N 個の正の整数 A が書かれています．\n",
        "# すぬけ君は，黒板に書かれている整数がすべて偶数であるとき，次の操作を行うことができます．\n",
        "# 黒板に書かれている整数すべてを，2 で割ったものに置き換える．\n",
        "# すぬけ君は最大で何回操作を行うことができるかを求めてください．\n",
        "# 3 8 12 40 #=> 2\n",
        "# 4 5 6 8 10 #=> 0\n",
        "# 6 382253568 723152896 37802240 379425024 404894720 471526144 #=> 8\n",
        "\n",
        "%%writefile temp.cpp\n",
        "#include <bits/stdc++.h>\n",
        "using namespace std;\n",
        "\n",
        "int mult2(int x){\n",
        "    if(x==0) return 0;\n",
        "    else if(x%2 != 0) return 0;\n",
        "    else return (1 + mult2(x/=2));\n",
        "}\n",
        "\n",
        "int main() {\n",
        "  int N, A, count;\n",
        "  cin >> N;\n",
        "  count = 1000;\n",
        "  for(int i=0;i<N;i++){\n",
        "      cin >> A;\n",
        "      int count2 = 0;\n",
        "      count2 = mult2(A);\n",
        "      if (count2 < count) count = count2;\n",
        "  }\n",
        "  cout << count << endl;\n",
        "}"
      ],
      "metadata": {
        "id": "1FRU3VlaAtKI"
      },
      "execution_count": null,
      "outputs": []
    },
    {
      "cell_type": "code",
      "source": [
        "!g++ temp.cpp; echo 1 8 | ./a.out\n",
        "!g++ temp.cpp; echo 3 8 12 40 | ./a.out\n",
        "!g++ temp.cpp; echo 4 5 6 8 10 | ./a.out\n",
        "!g++ temp.cpp; echo 6 382253568 723152896 37802240 379425024 404894720 471526144 | ./a.out"
      ],
      "metadata": {
        "id": "FAxhL1wMAtBt"
      },
      "execution_count": null,
      "outputs": []
    },
    {
      "cell_type": "markdown",
      "source": [
        "---\n",
        "M - 1.12.文字列と文字 "
      ],
      "metadata": {
        "id": "TvRVfEXpifZ1"
      }
    },
    {
      "cell_type": "code",
      "source": [
        "# 問題\n",
        "# EX12 - 足したり引いたり  \n",
        "# 1と+と-のみからなる式Sが1行で与えられるので、計算結果を出力してください。\n",
        "# 例えば式Sが1+1+1-1であったとき、計算結果は2です。\n",
        "# * 式Sの1文字目は必ず1です。\n",
        "# * その後、「+または−」と1が交互に続きます。\n",
        "# * Sの最後の文字も必ず1です。\n",
        "\n",
        "%%writefile temp.cpp\n",
        "#include <bits/stdc++.h>\n",
        "using namespace std;\n",
        "\n",
        "int main() {\n",
        "  string  S ;\n",
        "  int result ;\n",
        "  cin >> S ;\n",
        "  result = 1;\n",
        "  for(int i=0;i < S.size(); i++) {\n",
        "    if (S.at(i) == '+')  result += 1; \n",
        "    else if (S.at(i) == '-') result -= 1;\n",
        "  }\n",
        "  cout << result << endl;\n",
        "}"
      ],
      "metadata": {
        "id": "GC-B1E-KiPlK"
      },
      "execution_count": null,
      "outputs": []
    },
    {
      "cell_type": "code",
      "source": [
        "!g++ temp.cpp; echo 1+1+1-1 | ./a.out"
      ],
      "metadata": {
        "id": "LvjAI6tKpD1e"
      },
      "execution_count": null,
      "outputs": []
    },
    {
      "cell_type": "code",
      "source": [
        "# 問題\n",
        "# A - 居合を終え、青い絵を覆う\n",
        "# 英小文字 c が与えられるので、c が母音であるか判定してください。ここで、英小文字のうち母音は a、e、i、o、uの 5 つです。\n",
        "# c が母音であるとき、vowel と、そうでないとき consonant と出力せよ。\n",
        "# 入力 a => vowel\n",
        "\n",
        "%%writefile temp.cpp\n",
        "#include <bits/stdc++.h>\n",
        "using namespace std;\n",
        "\n",
        "int main() {\n",
        "  char c;\n",
        "  cin >> c;\n",
        "  bool aiueo = false;\n",
        "  string vowels = \"aeiou\";\n",
        "  for(int i=0; i < vowels.size(); i++){\n",
        "      if(vowels.at(i) == c) aiueo = true;\n",
        "  }\n",
        "  if(aiueo) cout << \"vowel\" << endl;\n",
        "  else cout << \"consonant\" << endl;\n",
        "}\n",
        "\n"
      ],
      "metadata": {
        "id": "V1qooVcYuxnN"
      },
      "execution_count": null,
      "outputs": []
    },
    {
      "cell_type": "code",
      "source": [
        "!g++ temp.cpp; echo a | ./a.out\n",
        "!g++ temp.cpp; echo b | ./a.out"
      ],
      "metadata": {
        "id": "Rrj5MewEwHjZ"
      },
      "execution_count": null,
      "outputs": []
    },
    {
      "cell_type": "code",
      "source": [
        "# 問題\n",
        "# A - AtCoder *** Contest\n",
        "# すぬけ君は、AtCoder s Contest という名前のコンテストを開こうとしています。 \n",
        "# ここで、s は長さ 1 以上の文字列であり、1 文字目は英大文字、2 文字目以降は英小文字です。\n",
        "# すぬけ君は、このコンテストの略称を AxC に決めました。 ここで、x は s の先頭の英大文字です。\n",
        "# コンテストの名前が与えられるので、コンテストの略称を出力してください。\n",
        "# AtCoder Beginner Contest => ABC\n",
        "# AtCoder Snuke Contest => ASC\n",
        "# AtCoder X Contest => AXC\n",
        "\n",
        "%%writefile temp.cpp\n",
        "#include <bits/stdc++.h>\n",
        "using namespace std;\n",
        "\n",
        "int main() {\n",
        "  string str1, str2, str3;\n",
        "  cin >> str1 >> str2 >> str3;\n",
        "  cout << str1.at(0) << str2.at(0) << str3.at(0) << endl;\n",
        "}"
      ],
      "metadata": {
        "id": "yCmoBceXw187"
      },
      "execution_count": null,
      "outputs": []
    },
    {
      "cell_type": "code",
      "source": [
        "!g++ temp.cpp; echo AtCoder Beginner Contest | ./a.out\n",
        "!g++ temp.cpp; echo AtCoder Snuke Contest | ./a.out\n",
        "!g++ temp.cpp; echo AtCoder X Contest | ./a.out"
      ],
      "metadata": {
        "id": "NTU6K8RCw11J"
      },
      "execution_count": null,
      "outputs": []
    },
    {
      "cell_type": "code",
      "source": [
        "# 問題\n",
        "# A - Addition and Subtraction Easy\n",
        "# joisinoお姉ちゃんは、A op B という式の値を計算したいと思っています。 ここで、A,B は整数で、\n",
        "# op は、+ または - の記号です。 \n",
        "# 入力は以下の形式で標準入力から与えられる。A op B\n",
        "# 1 + 2 => 3\n",
        "# 5 - 7 => 2\n",
        "\n",
        "%%writefile temp.cpp\n",
        "#include <bits/stdc++.h>\n",
        "using namespace std;\n",
        "\n",
        "int main() {\n",
        "  char op;\n",
        "  int num1, num2;\n",
        "  cin >> num1 >> op >> num2;\n",
        "  if (op == '+') cout << num1 + num2 << endl;\n",
        "  else if (op == '-') cout << num1 - num2 << endl;\n",
        "}\n"
      ],
      "metadata": {
        "id": "r9vlJFqf0PqE"
      },
      "execution_count": null,
      "outputs": []
    },
    {
      "cell_type": "code",
      "source": [
        "!g++ temp.cpp; echo 1 + 2 | ./a.out\n",
        "!g++ temp.cpp; echo 5 - 7 | ./a.out"
      ],
      "metadata": {
        "id": "DYg-31V20Pin"
      },
      "execution_count": null,
      "outputs": []
    },
    {
      "cell_type": "code",
      "source": [
        "# 問題\n",
        "# A - 添字\n",
        "# 文字列 s と整数 i (1≦i≦∣s∣) が与えられます。 s の i 文字目を出力してください。\n",
        "# なお、∣s∣ は文字列 s の長さを表します。\n",
        "# atcoder 3 => c\n",
        "# beginner 1 => b\n",
        "# contest 7 => t\n",
        "# z 1 => z\n",
        "%%writefile temp.cpp\n",
        "#include <bits/stdc++.h>\n",
        "using namespace std;\n",
        "\n",
        "int main() {\n",
        "  string s;\n",
        "  int i;\n",
        "  cin >> s >> i;\n",
        "  cout << s.at(i-1) << endl;\n",
        "}"
      ],
      "metadata": {
        "id": "iX-OJZOtD3Xp"
      },
      "execution_count": null,
      "outputs": []
    },
    {
      "cell_type": "code",
      "source": [
        "!g++ temp.cpp; echo atcoder 3 | ./a.out\n",
        "!g++ temp.cpp; echo beginner 1 | ./a.out\n",
        "!g++ temp.cpp; echo contest 7 | ./a.out\n",
        "!g++ temp.cpp; echo z 1 | ./a.out"
      ],
      "metadata": {
        "id": "10FVJCPYD3Sz"
      },
      "execution_count": null,
      "outputs": []
    },
    {
      "cell_type": "code",
      "source": [
        "# 問題\n",
        "# A - お茶\n",
        "# 高橋くんはドリンクバーにやってきました。彼は今お茶を飲みたい気分です。\n",
        "# しかし、ドリンクバーの飲み物の表記はすべてローマ字で、高橋くんはそれを読むことができません。\n",
        "# 高橋くんは、ある飲み物について、それがお茶であるかどうか知りたいと思っています。 \n",
        "# ただし、ある飲み物がお茶であることは、そのローマ字表記がTで終わる文字列であることと等しいです。\n",
        "# ICEDT => YES\n",
        "# MUGICHA => NO\n",
        "# OOLONGT => YES\n",
        "# T => YES\n",
        "# TEA => NO\n",
        "\n",
        "%%writefile temp.cpp\n",
        "#include <bits/stdc++.h>\n",
        "using namespace std;\n",
        "\n",
        "int main() {\n",
        "  string S;\n",
        "  cin >> S;\n",
        "  if(S.at(S.size()-1) == 'T') cout << \"YES\" << endl;\n",
        "  else cout << \"NO\" << endl;\n",
        "}"
      ],
      "metadata": {
        "id": "XihD41GOFFt3"
      },
      "execution_count": null,
      "outputs": []
    },
    {
      "cell_type": "code",
      "source": [
        "!g++ temp.cpp; echo ICEDT | ./a.out\n",
        "!g++ temp.cpp; echo MUGICHA | ./a.out\n",
        "!g++ temp.cpp; echo OOLONGT | ./a.out\n",
        "!g++ temp.cpp; echo T | ./a.out\n",
        "!g++ temp.cpp; echo TEA | ./a.out"
      ],
      "metadata": {
        "id": "7q_syGE-FFjm"
      },
      "execution_count": null,
      "outputs": []
    },
    {
      "cell_type": "code",
      "source": [
        "# 問題\n",
        "# A - 複数形 \n",
        "# 英小文字からなる文字列 W が入力されます。\n",
        "# W の末尾に英小文字の s を付け足したものを出力してください。\n",
        "# 1 行目に、英小文字からなる文字列 W (1 ≦ ∣W∣ ≦ 10, ここで ∣W∣ は W の長さを表す) が与えられる。\n",
        "# dog => dogs\n",
        "# chokudai => chokudais\n",
        "%%writefile temp.cpp\n",
        "#include <bits/stdc++.h>\n",
        "using namespace std;\n",
        "\n",
        "int main() {\n",
        "  string W;\n",
        "  cin >> W;\n",
        "  cout << W+'s' << endl;\n",
        "}"
      ],
      "metadata": {
        "id": "PMyNgf49G2qN"
      },
      "execution_count": null,
      "outputs": []
    },
    {
      "cell_type": "code",
      "source": [
        "!g++ temp.cpp; echo dog | ./a.out\n",
        "!g++ temp.cpp; echo chokudai | ./a.out"
      ],
      "metadata": {
        "id": "VrgBd8oyG2lP"
      },
      "execution_count": null,
      "outputs": []
    },
    {
      "cell_type": "code",
      "source": [
        "# 問題\n",
        "# A - 高橋くんの研修\n",
        "# 高橋くんは、ソフトウェア会社に勤めています。 その会社では、\n",
        "# 短い変数名はバグを生む原因だと信じられており、長い変数名を使う習慣があります。\n",
        "# 与えられた 2 つの小文字アルファベットのみからなる文字列のうち、文字数が長い方の文字列を求めてください。\n",
        "# isuruu isleapyear => isleapyear\n",
        "# ttttiiiimmmmeeee time => ttttiiiimmmmeeee\n",
        "%%writefile temp.cpp\n",
        "#include <bits/stdc++.h>\n",
        "using namespace std;\n",
        "\n",
        "int main() {\n",
        "  string A, B;\n",
        "  cin >> A >> B;\n",
        "  if (A.size() >= B.size()) cout << A << endl;\n",
        "  else cout << B << endl;\n",
        "}"
      ],
      "metadata": {
        "id": "ZqbNaMOYHOQZ"
      },
      "execution_count": null,
      "outputs": []
    },
    {
      "cell_type": "code",
      "source": [
        "!g++ temp.cpp; echo isuruu isleapyear | ./a.out\n",
        "!g++ temp.cpp; echo ttttiiiimmmmeeee time | ./a.out"
      ],
      "metadata": {
        "id": "3pZkt5BvHOHw"
      },
      "execution_count": null,
      "outputs": []
    },
    {
      "cell_type": "code",
      "source": [
        "# 問題\n",
        "# A - ハンドルネーム\n",
        "# 高橋君の秘書のなぎさちゃんは、高橋君からハンドルネームを貰いました。\n",
        "# しかし、残念なことに、このハンドルネームは、既に登録しようとしたサービスで使われてしまっていました。\n",
        "# なぎさちゃんが好きなC++に肖って、ハンドルネームの末尾にppを付けることにしました。\n",
        "# 元のハンドルネームが入力されるので、新しいハンドルネームを出力してください。\n",
        "# chokudai => chokudaipp\n",
        "# sanagi => sanagipp\n",
        "%%writefile temp.cpp\n",
        "#include <bits/stdc++.h>\n",
        "using namespace std;\n",
        "\n",
        "int main() {\n",
        "  string S;\n",
        "  cin >> S;\n",
        "  cout << S+\"pp\" << endl;\n",
        "}"
      ],
      "metadata": {
        "id": "lBpxfCSOK29d"
      },
      "execution_count": null,
      "outputs": []
    },
    {
      "cell_type": "code",
      "source": [
        "!g++ temp.cpp; echo chokudai | ./a.out\n",
        "!g++ temp.cpp; echo sanagi | ./a.out"
      ],
      "metadata": {
        "id": "QtshWTDDK21q"
      },
      "execution_count": null,
      "outputs": []
    },
    {
      "cell_type": "code",
      "source": [
        "# 問題\n",
        "# B - Minesweeper\n",
        "# H×W のマス目が与えられます。\n",
        "# 入力において、全てのマスは文字で表されており、.は空きマス、 # は爆弾マスに対応します。\n",
        "# マス目は H 個の文字列 S_1 ... S_H で表されます。\n",
        "# イルカは各空きマスの上下左右および斜めの 8 方向で隣接しているマスに爆弾マスが何個あるか\n",
        "# 気になっています。\n",
        "# そこで、各空きマスに対応する . を、その空きマスの周囲8方向に隣接するマスにおける爆弾マスの\n",
        "# 個数を表す数字で置き換えることにしました。\n",
        "# 以上の規則で置き換えられた後のマス目を出力してください。\n",
        "# 入力\n",
        "# 3 5\n",
        "# .....\n",
        "# .#.#.\n",
        "# .....\n",
        "# =>\n",
        "# 11211\n",
        "# 1#2#1\n",
        "# 11211\n",
        "# 入力\n",
        "# 3 5\n",
        "# #####\n",
        "# #####\n",
        "# #####\n",
        "# =>\n",
        "# #####\n",
        "# #####\n",
        "# #####\n",
        "# 入力例\n",
        "# 6 6\n",
        "# #####.\n",
        "# #.#.##\n",
        "# ####.#\n",
        "# .#..#.\n",
        "# #.##..\n",
        "# #.#...\n",
        "# =>\n",
        "# #####3\n",
        "# #8#7##\n",
        "# ####5#\n",
        "# 4#65#2\n",
        "# #5##21\n",
        "# #4#310"
      ],
      "metadata": {
        "id": "kBY0fMDSOr2z"
      },
      "execution_count": null,
      "outputs": []
    },
    {
      "cell_type": "code",
      "source": [
        "# 問題\n",
        "# B - Minesweeper\n",
        "%%writefile temp.cpp\n",
        "#include <bits/stdc++.h>\n",
        "using namespace std;\n",
        "\n",
        "int main() {\n",
        "  int H, W, sum = 0;\n",
        "  cin >> H >> W;\n",
        "\n",
        "  vector<vector<char>> data(H, vector<char>(W));\n",
        "\n",
        "  // データの読み込み\n",
        "  for (int i = 0; i < H; i++) {\n",
        "    for (int j = 0; j < W; j++) {\n",
        "      cin >> data.at(i).at(j);\n",
        "    }\n",
        "  }\n",
        "\n",
        "  // 処理本体\n",
        "  for (int i = 0; i < H; i++) {\n",
        "    for (int j = 0; j < W; j++) {\n",
        "      if (data.at(i).at(j) == '#') continue;\n",
        "      else if (data.at(i).at(j) == '.') {\n",
        "        if (i - 1 >= 0 && j - 1 >= 0) {\n",
        "          if (data.at(i - 1).at(j - 1) == '#') sum++;\n",
        "        }\n",
        "        if (i - 1 >= 0) {\n",
        "          if (data.at(i - 1).at(j) == '#') sum++;\n",
        "        }\n",
        "        if (i - 1 >= 0 && j + 1 <= W - 1) {\n",
        "          if (data.at(i - 1).at(j + 1) == '#') sum++;\n",
        "        }\n",
        "        if (j - 1 >= 0) {\n",
        "          if (data.at(i).at(j - 1) == '#') sum++;\n",
        "        }\n",
        "        if (j + 1 <= W - 1) {\n",
        "          if (data.at(i).at(j + 1) == '#') sum++;\n",
        "        }\n",
        "        if (i + 1 <= H - 1 && j - 1 >= 0) {\n",
        "          if (data.at(i + 1).at(j - 1) == '#') sum++;\n",
        "        }\n",
        "        if (i + 1 <= H - 1) {\n",
        "          if (data.at(i + 1).at(j) == '#') sum++;\n",
        "        }\n",
        "        if (i + 1 <= H - 1 && j + 1 <= W - 1) {\n",
        "          if (data.at(i + 1).at(j + 1) == '#') sum++;\n",
        "        }\n",
        "\n",
        "        data.at(i).at(j) = '0' + sum;\n",
        "        sum = 0;\n",
        "      }\n",
        "    }\n",
        "  }\n",
        "\n",
        "  for (auto row : data) {\n",
        "    for (auto item : row) {\n",
        "      cout << item;\n",
        "    }\n",
        "    cout << endl;\n",
        "  }\n",
        "}\n"
      ],
      "metadata": {
        "id": "FeyUJMAoOrtJ"
      },
      "execution_count": null,
      "outputs": []
    },
    {
      "cell_type": "code",
      "source": [
        "!g++ temp.cpp; echo \"3 5 ..... .#.#. .....\" | ./a.out\n",
        "!echo\n",
        "!g++ temp.cpp; echo \"3 5 ##### ##### #####\" | ./a.out\n",
        "!echo\n",
        "!g++ temp.cpp; echo \"6 6 #####. #.#.## ####.# .#..#. #.##.. #.#...\" | ./a.out"
      ],
      "metadata": {
        "id": "Wti62c9nuu6x"
      },
      "execution_count": null,
      "outputs": []
    },
    {
      "cell_type": "code",
      "source": [
        "# 実験\n",
        "# 問題の趣旨が行は文字列で取り込め、という風に読めるので書き換えてみる\n",
        "%%writefile temp.cpp\n",
        "#include <bits/stdc++.h>\n",
        "using namespace std;\n",
        "\n",
        "int main() {\n",
        "  int H, W;\n",
        "  int sum = 0;\n",
        "  cin >> H >> W;\n",
        "\n",
        "  vector<string> data(H);\n",
        "\n",
        "  // データの読み込み\n",
        "  for (int i = 0; i < H; i++) {\n",
        "    cin >> data.at(i);\n",
        "  }\n",
        "\n",
        "  for (int i = 0; i < H; i++) {\n",
        "    for (int j = 0; j < W; j++) {\n",
        "      if (data.at(i).at(j) == '.') {\n",
        "        if (i - 1 >= 0 && j - 1 >= 0) {\n",
        "          if (data.at(i - 1).at(j - 1) == '#') sum++;\n",
        "        }\n",
        "        if (i - 1 >= 0) {\n",
        "          if (data.at(i - 1).at(j) == '#') sum++;\n",
        "        }\n",
        "        if (i - 1 >= 0 && j + 1 <= W - 1) {\n",
        "          if (data.at(i - 1).at(j + 1) == '#') sum++;\n",
        "        }\n",
        "        if (j - 1 >= 0) {\n",
        "          if (data.at(i).at(j - 1) == '#') sum++;\n",
        "        }\n",
        "        if (j + 1 <= W - 1) {\n",
        "          if (data.at(i).at(j + 1) == '#') sum++;\n",
        "        }\n",
        "        if (i + 1 <= H - 1 && j - 1 >= 0) {\n",
        "          if (data.at(i + 1).at(j - 1) == '#') sum++;\n",
        "        }\n",
        "        if (i + 1 <= H - 1) {\n",
        "          if (data.at(i + 1).at(j) == '#') sum++;\n",
        "        }\n",
        "        if (i + 1 <= H - 1 && j + 1 <= W - 1) {\n",
        "          if (data.at(i + 1).at(j + 1) == '#') sum++;\n",
        "        }\n",
        "\n",
        "        data.at(i).at(j) = '0' + sum;\n",
        "        sum = 0;\n",
        "      }\n",
        "    }\n",
        "  }\n",
        "  for (int i = 0; i < H; i++) { cout << data.at(i) << endl; }\n",
        "}"
      ],
      "metadata": {
        "id": "LV0tWIMMarro"
      },
      "execution_count": null,
      "outputs": []
    },
    {
      "cell_type": "code",
      "source": [
        "!g++ temp.cpp; echo \"3 5 ..... .#.#. .....\" | ./a.out\n",
        "!echo\n",
        "!g++ temp.cpp; echo \"3 5 ##### ##### #####\" | ./a.out\n",
        "!echo\n",
        "!g++ temp.cpp; echo \"6 6 #####. #.#.## ####.# .#..#. #.##.. #.#...\" | ./a.out"
      ],
      "metadata": {
        "id": "ymmtI5Q5bJoM"
      },
      "execution_count": null,
      "outputs": []
    },
    {
      "cell_type": "markdown",
      "source": [
        "---\n",
        "N - 1.13.配列\n",
        "\n",
        "* vector<型> 配列変数名;で配列変数を宣言できる\n",
        "* 配列変数名 = { 要素1, 要素2, ... };で配列変数に値を代入できる\n",
        "* 配列変数.at(i), 配列変数.size() が使える\n",
        "* vector<型> 配列変数名(要素数)と書くと指定した要素数で配列を初期化できる\n"
      ],
      "metadata": {
        "id": "azH-MFEVvuOx"
      }
    },
    {
      "cell_type": "code",
      "source": [
        "# 数字を逆順にして出力する\n",
        "# 1 2 3 4 5 => 5 4 3 2 1\n",
        "%%writefile temp.cpp\n",
        "#include <bits/stdc++.h>\n",
        "using namespace std;\n",
        "int main() {\n",
        "    int N = 5;\n",
        "    vector<int> vec(N);\n",
        "    for (int i = 0; i < N; i++) {\n",
        "        cin >> vec.at(i);\n",
        "    };\n",
        "    for(int i = 0; i < vec.size(); i++) {\n",
        "        cout << vec.at(vec.size() - i - 1) << ' ' ;\n",
        "    }\n",
        "    cout << endl;\n",
        "}"
      ],
      "metadata": {
        "id": "YHy_H_YqxP5Y"
      },
      "execution_count": null,
      "outputs": []
    },
    {
      "cell_type": "code",
      "source": [
        "!g++ temp.cpp; echo 1 2 3 4 5 | ./a.out"
      ],
      "metadata": {
        "id": "_vXhOYHf14ct"
      },
      "execution_count": null,
      "outputs": []
    },
    {
      "cell_type": "code",
      "source": [
        "# 文字列と配列は似ている\n",
        "%%writefile temp.cpp\n",
        "#include <bits/stdc++.h>\n",
        "using namespace std;\n",
        "\n",
        "int main() {\n",
        "  // 文字列\n",
        "  string str; // 文字列変数を宣言\n",
        "  str = \"abcd\"; // 'a', 'b', 'c', 'd' という文字(char)の列を代入\n",
        "  cout << str.at(0) << endl; // 1つ目である'a'を出力\n",
        "  cout << str.size() << endl; // 文字列の長さである4を出力\n",
        "\n",
        "  // 配列\n",
        "  vector<int> vec; // int型の配列変数vecを宣言\n",
        "  vec = { 25, 100, 64 }; // 25, 100, 64 という整数(int)の列を代入\n",
        "  cout << vec.at(0) << endl; // 1つめである25を出力\n",
        "  cout << vec.size() << endl; // 配列の長さである3を出力\n",
        "}\n"
      ],
      "metadata": {
        "id": "xfM_zDO-DwvY"
      },
      "execution_count": null,
      "outputs": []
    },
    {
      "cell_type": "code",
      "source": [
        "!g++ temp.cpp; echo 1 2 3 4 5 | ./a.out"
      ],
      "metadata": {
        "id": "DMfTnVbVD4-9"
      },
      "execution_count": null,
      "outputs": []
    },
    {
      "cell_type": "code",
      "source": [
        "# 実験 文字列と配列 同じ物ではない\n",
        "%%writefile temp.cpp\n",
        "#include <bits/stdc++.h>\n",
        "using namespace std;\n",
        "#define rep(i, n) for (int i = 0; i < (int)(n); i++)\n",
        "\n",
        "int main() {\n",
        "    string str;\n",
        "    str = \"abcd\";\n",
        "    vector<char> vec;\n",
        "    vec = { 'a','b','c','d' };\n",
        "    cout << str << endl;\n",
        "    //  cout << vec << endl; #=> エラーになる。配列は cout できない\n",
        "    rep(i, vec.size()) {\n",
        "        cout << vec.at(i);\n",
        "    }\n",
        "    cout << endl;\n",
        "    copy(vec.begin(), vec.end(), ostream_iterator<char>(cout));\n",
        "    cout << endl;\n",
        "    for (const auto& item : vec) cout << item;\n",
        "    cout << endl;\n",
        "}"
      ],
      "metadata": {
        "id": "5YoHVgsXZfGc"
      },
      "execution_count": null,
      "outputs": []
    },
    {
      "cell_type": "code",
      "source": [
        "!g++ temp.cpp;  ./temp"
      ],
      "metadata": {
        "id": "VMq6WWaEZ9Ja"
      },
      "execution_count": null,
      "outputs": []
    },
    {
      "cell_type": "code",
      "source": [
        "%%writefile temp.cpp\n",
        "#include <bits/stdc++.h>\n",
        "using namespace std;\n",
        "#define rep(i, n) for (int i = 0; i < (int)(n); i++)\n",
        "\n",
        "int main() {\n",
        "    vector<int> vec(3); // {0, 0, 0} で初期化される str だと {\"\",\"\",\"\"}\n",
        "    cin >> vec.at(0) >> vec.at(1) >> vec.at(2);\n",
        "    cout << vec.at(0) + vec.at(1) + vec.at(2) << endl;\n",
        "}"
      ],
      "metadata": {
        "id": "O2ZpaBRhfU8u"
      },
      "execution_count": null,
      "outputs": []
    },
    {
      "cell_type": "code",
      "source": [
        "!g++ temp.cpp;  echo 1 2 3 | ./a.out"
      ],
      "metadata": {
        "id": "xrtgWU9Qfa6f"
      },
      "execution_count": null,
      "outputs": []
    },
    {
      "cell_type": "code",
      "source": [
        "# for を使って書き直す\n",
        "%%writefile temp.cpp\n",
        "#include <bits/stdc++.h>\n",
        "using namespace std;\n",
        "#define rep(i, n) for (int i = 0; i < (int)(n); i++)\n",
        "\n",
        "int main() {\n",
        "    vector<int> vec(3); \n",
        "    for (auto& item : vec) cin >> item;\n",
        "    for (const auto& item : vec) cout << item;\n",
        "    cout << endl;\n",
        "}"
      ],
      "metadata": {
        "id": "912uUERkgEGY"
      },
      "execution_count": null,
      "outputs": []
    },
    {
      "cell_type": "code",
      "source": [
        "!g++ temp.cpp;  echo 1 2 3 | ./a.out"
      ],
      "metadata": {
        "id": "UQJp6o1JgcsB"
      },
      "execution_count": null,
      "outputs": []
    },
    {
      "cell_type": "markdown",
      "source": [
        "---\n",
        "問題 \n",
        "\n",
        "N人の数学と英語のテストの点数が与えられます。  \n",
        "それぞれの人について、数学と英語の点数の合計点を計算してください。\n",
        "\n",
        "入力例\n",
        "\n",
        "3  \n",
        "20 100 30  \n",
        "100 5 40  \n",
        "\n",
        "出力例\n",
        "\n",
        "120  \n",
        "105  \n",
        "70  "
      ],
      "metadata": {
        "id": "n7tJphi8Y0DP"
      }
    },
    {
      "cell_type": "code",
      "source": [
        "%%writefile temp.cpp\n",
        "#include <bits/stdc++.h>\n",
        "using namespace std;\n",
        "\n",
        "int main() {\n",
        "    int N;\n",
        "    cin >> N;\n",
        "    vector<int> math(3);\n",
        "    vector<int> eng(3);\n",
        "    for (auto& item : math) cin >> item;\n",
        "    for (auto& item : eng) cin >> item;\n",
        "    for (int i = 0; i < N; i++) {\n",
        "        cout << math.at(i) + eng.at(i) << endl;\n",
        "    }\n",
        "}"
      ],
      "metadata": {
        "id": "cHL1A1uV3w7t"
      },
      "execution_count": null,
      "outputs": []
    },
    {
      "cell_type": "code",
      "source": [
        "!g++ temp.cpp;  echo 3 20 100 30 100 5 40 | ./a.out"
      ],
      "metadata": {
        "id": "5jRIuCO646QG"
      },
      "execution_count": null,
      "outputs": []
    },
    {
      "cell_type": "code",
      "source": [
        "%%writefile temp.cpp\n",
        "#include <bits/stdc++.h>\n",
        "using namespace std;\n",
        " \n",
        "int main() {\n",
        "  vector<int> vec = { 1, 2, 3 };\n",
        " \n",
        "  vec.push_back(10); // 末尾に10を追加\n",
        " \n",
        "  // vecの全要素を出力\n",
        "  for (int i = 0; i < vec.size(); i++) {\n",
        "    cout << vec.at(i) << endl;\n",
        "  }\n",
        "}"
      ],
      "metadata": {
        "id": "WSgRZ6OZ3Q5i"
      },
      "execution_count": null,
      "outputs": []
    },
    {
      "cell_type": "code",
      "source": [
        "!g++ temp.cpp;  ./temp"
      ],
      "metadata": {
        "id": "1XZ_BiO35k0p"
      },
      "execution_count": null,
      "outputs": []
    },
    {
      "cell_type": "markdown",
      "source": [
        "配列の範囲外を指定すると `std::out_of_range` という実行時エラーになる。\n",
        "\n",
        "vector 以外の配列  \n",
        "\n",
        "vector<int> data(3); // vectorによる配列 #=> これを使うこと!!!!\n",
        "\n",
        "int data[3]; // Cの配列\n",
        "\n",
        "array<int, 3> data; // arrayによる配列\n",
        "\n",
        "atを使わないi番目の要素へのアクセス\n",
        "\n",
        "配列変数.at(添字)と、配列変数[添字]は同じことが出来るが、at を使った方がエラーメッセージがちゃんと出る。\n",
        "\n",
        "`#define _GLIBCXX_DEBUG`  \n",
        "とコードの最初に書くことで.atと同程度に安全に使うことができるようになるが、APG4b では `.at()` を使う。"
      ],
      "metadata": {
        "id": "4l4q11zh1gHu"
      }
    },
    {
      "cell_type": "code",
      "source": [
        "%%writefile temp.cpp\n",
        "#include <bits/stdc++.h>\n",
        "using namespace std;\n",
        " \n",
        "int main() {\n",
        "  vector<int> vec = { 1, 2, 3 };\n",
        " \n",
        "  cout << vec.at(0) << endl;\n",
        "  cout << vec[0] << endl; // .at(0)と同じ\n",
        "}"
      ],
      "metadata": {
        "id": "RDpvufaQ2rep"
      },
      "execution_count": null,
      "outputs": []
    },
    {
      "cell_type": "code",
      "source": [
        "!g++ temp.cpp;  ./temp"
      ],
      "metadata": {
        "id": "sB7sUhYp25ez"
      },
      "execution_count": null,
      "outputs": []
    },
    {
      "cell_type": "markdown",
      "source": [
        "要素の削除\n",
        "\n",
        "配列変数.pop_back を使えば配列の末尾の要素を削除することが出来る。"
      ],
      "metadata": {
        "id": "7adjum1E4iDd"
      }
    },
    {
      "cell_type": "code",
      "source": [
        "%%writefile temp.cpp\n",
        "#include <bits/stdc++.h>\n",
        "using namespace std;\n",
        "\n",
        "int main() {\n",
        "    vector<int> vec = { 1, 2, 3 };\n",
        "\n",
        "    vec.pop_back(); // 末尾の要素を削除\n",
        "\n",
        "    // vecの全要素を出力\n",
        "    for (int i = 0; i < vec.size(); i++) {\n",
        "        cout << vec.at(i) << endl;\n",
        "    }\n",
        "}"
      ],
      "metadata": {
        "id": "ER8sGpvV4hh_"
      },
      "execution_count": null,
      "outputs": []
    },
    {
      "cell_type": "code",
      "source": [
        "!g++ temp.cpp;  ./temp"
      ],
      "metadata": {
        "id": "GXpAefzK5mOv"
      },
      "execution_count": null,
      "outputs": []
    },
    {
      "cell_type": "code",
      "source": [
        "# 配列同士の比較\n",
        "# 配列変数同士は `==` で比較することが出来る。\n",
        "# vec == { 1, 2, 3 } のようには書けない。\n",
        "\n",
        "%%writefile temp.cpp\n",
        "#include <bits/stdc++.h>\n",
        "using namespace std;\n",
        "\n",
        "int main() {\n",
        "    vector<int> vec1 = { 1, 2, 3 };\n",
        "    vector<int> vec2 = { 1, 2, 3 };\n",
        "\n",
        "    if (vec1 == vec2) {\n",
        "        cout << \"OK\" << endl;\n",
        "    }\n",
        "\n",
        "    /*\n",
        "    ↓これはコンパイルエラーになる\n",
        "    if (vec1 == { 1, 2, 3 }) {\n",
        "      cout << \"NG\" << endl;\n",
        "    }\n",
        "    */\n",
        "}"
      ],
      "metadata": {
        "id": "6_7gQ7e85fiZ"
      },
      "execution_count": null,
      "outputs": []
    },
    {
      "cell_type": "code",
      "source": [
        "!g++ temp.cpp;  ./temp"
      ],
      "metadata": {
        "id": "P-JQOZeh6L6u"
      },
      "execution_count": null,
      "outputs": []
    },
    {
      "cell_type": "code",
      "source": [
        "# 配列の初期化その2\n",
        "# サイズの違う配列で上書き出来る\n",
        "%%writefile temp.cpp\n",
        "#include <bits/stdc++.h>\n",
        "using namespace std;\n",
        " \n",
        "int main() {\n",
        "  vector<int> vec(3, 10); // {10, 10, 10} で初期化\n",
        "  vec = vector<int>(100, 2); // 100要素の配列 {2, 2, ... , 2, 2} で上書き\n",
        "  cout << vec.at(99) << endl;\n",
        "}"
      ],
      "metadata": {
        "id": "_H8pQxLqmR8u"
      },
      "execution_count": null,
      "outputs": []
    },
    {
      "cell_type": "code",
      "source": [
        "!g++ temp.cpp;  ./temp"
      ],
      "metadata": {
        "id": "iG4OXqZJ790m"
      },
      "execution_count": null,
      "outputs": []
    },
    {
      "cell_type": "code",
      "source": [
        "# 実験\n",
        "# サイズの違う配列で上書き\n",
        "%%writefile temp.cpp\n",
        "#include <bits/stdc++.h>\n",
        "using namespace std;\n",
        " \n",
        "int main() {\n",
        "  vector<int> vec(3, 10); // {10, 10, 10} で初期化\n",
        "  vec = {10, 10, 1, 2, 3, 4} ;\n",
        "  cout << vec.at(5) << endl;\n",
        "}"
      ],
      "metadata": {
        "id": "yZG5nOXnnI41"
      },
      "execution_count": null,
      "outputs": []
    },
    {
      "cell_type": "code",
      "source": [
        "!g++ temp.cpp;  ./temp"
      ],
      "metadata": {
        "id": "Dt_BsVcwneHc"
      },
      "execution_count": null,
      "outputs": []
    },
    {
      "cell_type": "code",
      "source": [
        "# 実験 \n",
        "# 質問 サイズの違う配列をアサイン出来るのだったら初めからサイズは要らないのではないか\n",
        "%%writefile temp.cpp\n",
        "#include <bits/stdc++.h>\n",
        "using namespace std;\n",
        " \n",
        "int main() {\n",
        "  vector<int> vec;\n",
        "  vector<int> vec2(100, 2); // 100要素の配列 {2, 2, ... , 2, 2} \n",
        "  vec = vec2;\n",
        "  cout << vec.at(99) << endl;\n",
        "}"
      ],
      "metadata": {
        "id": "wZ4LOb1P7_wv"
      },
      "execution_count": null,
      "outputs": []
    },
    {
      "cell_type": "code",
      "source": [
        "!g++ temp.cpp;  ./temp"
      ],
      "metadata": {
        "id": "mVRJjMsamnIb"
      },
      "execution_count": null,
      "outputs": []
    },
    {
      "cell_type": "code",
      "source": [
        "# 大きすぎる配列\n",
        "# AtCoderの問題の回答として提出してこのエラーが出た場合、`RE` または `MLE` となる\n",
        "%%writefile temp.cpp\n",
        "#include <bits/stdc++.h>\n",
        "using namespace std;\n",
        " \n",
        "int main() {\n",
        "  vector<int> v(1000000000);\n",
        "  cout << v[0] << endl;\n",
        "}"
      ],
      "metadata": {
        "id": "oXSRPVHUoMZJ"
      },
      "execution_count": null,
      "outputs": []
    },
    {
      "cell_type": "code",
      "source": [
        "!g++ temp.cpp;  ./temp"
      ],
      "metadata": {
        "id": "OMqv8BOwokBp"
      },
      "execution_count": null,
      "outputs": []
    },
    {
      "cell_type": "markdown",
      "source": [
        "---\n",
        "問題   \n",
        "\n",
        "EX13 - 平均との差\n",
        "\n",
        "N人のテストの点数が与えられます。  \n",
        "それぞれの人の点数が平均点から何点離れているか計算してください。  \n",
        "切り捨て  \n",
        "\n",
        "入力例  \n",
        "10  \n",
        "53 21 99 83 75 40 33 62 18 100  \n",
        "=>    \n",
        "5  \n",
        "37  \n",
        "41  \n",
        "︙  "
      ],
      "metadata": {
        "id": "ODjCVSjDv-mf"
      }
    },
    {
      "cell_type": "code",
      "source": [
        "%%writefile temp.cpp\n",
        "#include <bits/stdc++.h>\n",
        "using namespace std;\n",
        "\n",
        "int main() {\n",
        "  int N, sum, ave;\n",
        "  cin >> N;\n",
        "  vector<int> vec(N);\n",
        "  sum = 0;\n",
        "  for (int i = 0; i < N; i++) {\n",
        "    cin >> vec.at(i);\n",
        "    sum += vec.at(i);\n",
        "  };\n",
        "  ave = sum / vec.size();\n",
        "  for (int i = 0; i < N; i++) {\n",
        "    if (vec.at(i) >= ave) cout << vec.at(i) - ave << endl;\n",
        "    else cout << ave - vec.at(i) << endl;\n",
        "  }\n",
        "}"
      ],
      "metadata": {
        "id": "fOu-baYTqY8O"
      },
      "execution_count": null,
      "outputs": []
    },
    {
      "cell_type": "code",
      "source": [
        "!g++ temp.cpp; echo 10 53 21 99 83 75 40 33 62 18 100 |./temp"
      ],
      "metadata": {
        "id": "App3e7cu-HtD"
      },
      "execution_count": null,
      "outputs": []
    },
    {
      "cell_type": "markdown",
      "source": [
        "---\n",
        "無名関数"
      ],
      "metadata": {
        "id": "bXHa-xAigP8j"
      }
    },
    {
      "cell_type": "markdown",
      "source": [
        "---\n",
        "質問\n",
        "\n",
        "c++ で ラムダ式、無名関数は使えるか。\n",
        "\n",
        "ラムダ式を呼び出すには、関数と同じように () を使用する、とのこと。\n",
        "```\n",
        "int main(int argc, char *argv[]) {\n",
        "\t[](){}();\n",
        "}\n",
        "```"
      ],
      "metadata": {
        "id": "XCXbjVxub3xo"
      }
    },
    {
      "cell_type": "code",
      "source": [
        "# 実験 関数として使うには戻り値が指定できないと困る #=> 出来た\n",
        "%%writefile temp.cpp\n",
        "#include <bits/stdc++.h>\n",
        "using namespace std;\n",
        "\n",
        "int main(){\n",
        "    int a, b;\n",
        "    a = 3; b = 4;\n",
        "    auto hoge = [](int x, int y){return x * y;};\n",
        "    // auto hoge = [](int x, int y) -> int{return x * y;}; # `=>` を使った書き方もあるが、不要みたい\n",
        "\n",
        "    cout << hoge(a,b) << endl;\n",
        "    cout << [](int x, int y)int{return x * y;}(a,b) << endl;\n",
        "    cout << [](int x, int y) -> int{return x * y;}(a,b) << endl;\n",
        "    cout << [](int x, int y){int temp = x * y; return temp;}(a,b) << endl;\n",
        "}\n"
      ],
      "metadata": {
        "id": "dlzXFDwEinzT"
      },
      "execution_count": null,
      "outputs": []
    },
    {
      "cell_type": "code",
      "source": [
        "!g++ temp.cpp; ./a.out"
      ],
      "metadata": {
        "id": "ROn5HTvyjCBZ"
      },
      "execution_count": null,
      "outputs": []
    },
    {
      "cell_type": "code",
      "source": [
        "# 実験 無名関数の練習\n",
        "%%writefile temp.cpp\n",
        "#include <bits/stdc++.h>\n",
        "using namespace std;\n",
        "\n",
        "int main() {\n",
        "    int a, b;\n",
        "    a = 3;\n",
        "    b = 4;\n",
        "    auto mul = [](int x, int y){return x * y;};\n",
        "    cout << mul(a, b) << endl;\n",
        "}"
      ],
      "metadata": {
        "id": "b-5DOanAcMwk"
      },
      "execution_count": null,
      "outputs": []
    },
    {
      "cell_type": "code",
      "source": [
        "!g++ temp.cpp; ./a.out"
      ],
      "metadata": {
        "id": "sZ1GG5Ayc1K7"
      },
      "execution_count": null,
      "outputs": []
    },
    {
      "cell_type": "code",
      "source": [
        "# 実験 string repeat する\n",
        "# 任意の文字列を任意の回数繰り返した文字列を作る関数を無名関数で作る\n",
        "%%writefile temp.cpp\n",
        "#include <bits/stdc++.h>\n",
        "using namespace std;\n",
        "\n",
        "int main() {\n",
        "  string str;\n",
        "  str = \"abc\";\n",
        "  int n = 3;\n",
        "  auto tempfunc = [](int x, string a){string acc=\"\"; for(int i =0;i < x; i++) acc += a; return acc; };\n",
        "\n",
        "  cout << tempfunc(3,str) << endl;\n",
        "  cout <<  [](int x, string a){string acc=\"\"; for(int i =0;i < x; i++) acc += a; return acc; }(4,\"defg\") << endl;\n",
        "\n",
        "}"
      ],
      "metadata": {
        "id": "4jrCWQufMVHf"
      },
      "execution_count": null,
      "outputs": []
    },
    {
      "cell_type": "code",
      "source": [
        "!g++ temp.cpp; ./a.out"
      ],
      "metadata": {
        "id": "qjIdBAYbMVxc"
      },
      "execution_count": null,
      "outputs": []
    },
    {
      "cell_type": "markdown",
      "source": [
        "---\n",
        "問題  B - Picture Frame\n",
        "\n",
        "縦 H ピクセル、横 W ピクセルの画像があります。 各ピクセルは英小文字で表されます。 上から i 番目、左から j 番目のピクセルは a \n",
        "ij です。\n",
        "\n",
        "この画像の周囲 1 ピクセルを # で囲んだものを出力してください。\n",
        "\n",
        "```\n",
        "2 3\n",
        "abc\n",
        "arc\n",
        "```\n",
        "=>\n",
        "``` text\n",
        " #####\n",
        " #abc#\n",
        " #arc#\n",
        " #####\n",
        "```\n"
      ],
      "metadata": {
        "id": "LXL3FsJC5-Fv"
      }
    },
    {
      "cell_type": "code",
      "source": [
        "%%writefile temp.cpp\n",
        "#include <bits/stdc++.h>\n",
        "using namespace std;\n",
        "\n",
        "int main() {\n",
        "  int H, W;\n",
        "  cin >> H >> W;\n",
        "  for (int i = 0; i < H + 2; i++) {\n",
        "    if ((i == 0) || (i == H + 1)) cout << [](int n, string a) {string acc = \"\"; for (int i = 0;i < n+2; i++) acc += a; return acc; }(W, \"#\") << endl;\n",
        "    else {\n",
        "        string str;\n",
        "        cin >> str;\n",
        "        cout << \"#\" << str << \"#\" << endl;\n",
        "    }\n",
        "\n",
        "  }\n",
        "}"
      ],
      "metadata": {
        "id": "Qd5R-tWKBRsk"
      },
      "execution_count": null,
      "outputs": []
    },
    {
      "cell_type": "code",
      "source": [
        "!g++ temp.cpp; echo 2 3 abc def |./temp"
      ],
      "metadata": {
        "id": "hzXZHV8_LGCL"
      },
      "execution_count": null,
      "outputs": []
    },
    {
      "cell_type": "code",
      "source": [
        "# 問題\n",
        "# B - Counting Roads\n",
        "# N 個の都市があり、M 本の道路があります。\n",
        "# i(1≦i≦M) 番目の道路は、都市 a_i と都市 b_i を双方向に結んでいます。\n",
        "# 同じ 2 つの都市を結ぶ道路は、1 本とは限りません。\n",
        "# 各都市から他の都市に向けて、何本の道路が伸びているか求めてください。\n",
        "# 制約\n",
        "# 2≦N,M≦50\n",
        "# 1≦ a_i,b_i ≦N\n",
        "# a_i !=b_i\n",
        "# 答えを N 行に出力せよ。\n",
        "# i(1≦i≦N) 行目には、都市 i から他の都市に向けて、何本の道路が伸びているかを出力せよ。\n",
        "# 入力例\n",
        "# 4 3\n",
        "# 1 2\n",
        "# 2 3\n",
        "# 1 4\n",
        "# 出力例\n",
        "# 2\n",
        "# 2\n",
        "# 1\n",
        "# 1\n",
        "# 入力例 2 \n",
        "# 2 5\n",
        "# 1 2\n",
        "# 2 1\n",
        "# 1 2\n",
        "# 2 1\n",
        "# 1 2\n",
        "# 出力例 2 \n",
        "# 5\n",
        "# 5\n",
        "# 入力例 3 \n",
        "# 8 8\n",
        "# 1 2\n",
        "# 3 4\n",
        "# 1 5\n",
        "# 2 8\n",
        "# 3 7\n",
        "# 5 2\n",
        "# 4 1\n",
        "# 6 8\n",
        "# 出力例 3 \n",
        "# 3\n",
        "# 3\n",
        "# 2\n",
        "# 2\n",
        "# 2\n",
        "# 1\n",
        "# 1\n",
        "# 2"
      ],
      "metadata": {
        "id": "mxbiLOdKj5q-"
      },
      "execution_count": null,
      "outputs": []
    },
    {
      "cell_type": "code",
      "source": [
        "# 問題\n",
        "# B - Counting Roads\n",
        "%%writefile temp.cpp\n",
        "#include <bits/stdc++.h>\n",
        "using namespace std;\n",
        "\n",
        "int main() {\n",
        "  int N, M;\n",
        "  int sum = 0;\n",
        "  cin >> N >> M;\n",
        "\n",
        "  vector<int> data(N,0);\n",
        "\n",
        "  // データの読み込み\n",
        "  for (int i = 0; i < M; i++) {\n",
        "      int city1, city2;\n",
        "      cin >> city1 >> city2;\n",
        "      data.at(city1-1)++;\n",
        "      data.at(city2-1)++;\n",
        "  }\n",
        "  for (int i = 0; i < N; i++) { cout << data.at(i) << endl; }\n",
        "}"
      ],
      "metadata": {
        "id": "3diXANqPqxl-"
      },
      "execution_count": null,
      "outputs": []
    },
    {
      "cell_type": "code",
      "source": [
        "!g++ temp.cpp; echo 4 3 1 2 2 3 1 4 | ./a.out\n",
        "!echo\n",
        "!g++ temp.cpp; echo 2 5 1 2 2 1 1 2 2 1 1 2 | ./a.out\n",
        "!echo\n",
        "!g++ temp.cpp; echo 8 8 1 2 3 4 1 5 2 8 3 7 5 2 4 1 6 8 | ./a.out"
      ],
      "metadata": {
        "id": "w-ZNee_FqxbW"
      },
      "execution_count": null,
      "outputs": []
    },
    {
      "cell_type": "code",
      "source": [
        "# 問題\n",
        "# B - Trained?\n",
        "# 筋力をつけたい高橋君は、AtCoder 社のトレーニング設備で、トレーニングをすることにしました。\n",
        "# AtCoder 社のトレーニング設備には N 個のボタンがついており、ちょうど \n",
        "# 1 個のボタンが光っています。 ボタンには、1 から N までの番号がついています。 \n",
        "# ボタン i が光っているときにそのボタンを押すと、ボタン i の明かりが消え、その後ボタン a_i が光ります。\n",
        "# i=a_i であることもあります。 光っていないボタンを押しても、何も起こりません。\n",
        "# 最初、ボタン 1 が光っています。高橋君は、ボタン 2 が光っている状態で、トレーニングをやめたいと思っています。\n",
        "# そのようなことは可能かどうか判定し、もし可能なら最低で何回ボタンを押す必要があるかを求めてください。\n",
        "# ボタン 2 を光らせることが不可能な場合、−1 を出力せよ。 そうでない場合、\n",
        "# ボタン 2 を光らせるために必要なボタンを押す回数の最小値を出力せよ。\n",
        "%%writefile temp.cpp\n",
        "#include <bits/stdc++.h>\n",
        "using namespace std;\n",
        "\n",
        "int main() {\n",
        "  int N;\n",
        "  int counter = 0;\n",
        "  cin >> N;\n",
        "\n",
        "  vector<int> data(N, 0);\n",
        "\n",
        "  for (int i = 0; i < N; i++) {\n",
        "    cin >> data.at(i);\n",
        "  }\n",
        "\n",
        "  int i = 0;\n",
        "  while (true) {\n",
        "    if (data.at(i) == 2) {\n",
        "      cout << counter+1 << endl;\n",
        "      break;\n",
        "    }\n",
        "    else if (counter >= N) {\n",
        "      cout << -1 << endl;\n",
        "      break;\n",
        "    }\n",
        "    else {\n",
        "      i = data.at(i) - 1;\n",
        "      counter++;\n",
        "    }\n",
        "  }\n",
        "}"
      ],
      "metadata": {
        "id": "AuBdQD4twwty"
      },
      "execution_count": null,
      "outputs": []
    },
    {
      "cell_type": "code",
      "source": [
        "!g++ temp.cpp; echo 3 3 1 2 | ./a.out\n",
        "!g++ temp.cpp; echo 4 3 4 1 2 | ./a.out\n",
        "!g++ temp.cpp; echo 5 3 3 4 2 4 | ./a.out"
      ],
      "metadata": {
        "id": "gCY2AwI_wxNZ"
      },
      "execution_count": null,
      "outputs": []
    },
    {
      "cell_type": "code",
      "source": [
        "# 問題\n",
        "# B - Two Colors Card Game\n",
        "# 高橋君は青いカードを N 枚，赤いカードを M 枚持っています。 \n",
        "# カードにはそれぞれ文字列が書かれており， i 枚目の青いカードに書かれている文字列は \n",
        "# s_i i ， i 枚目の赤いカードに書かれている文字列は t_i\n",
        "# 高橋君は，文字列を 1 つ言います。 そして，全てのカードを確認し， \n",
        "# その文字列が書かれた青いカードを 1 枚見つけるごとに 1 円貰えます。 \n",
        "# また，その文字列が書かれた赤いカードを 1 枚見つけるごとに 1 円失います。\n",
        "# 高橋君は，最大で差し引き何円貰うことができるでしょうか？\n",
        "# ただし，違うカードに同じ文字列が書かれていることもあることに注意してください。\n",
        "# 出力 高橋君が最大で差し引き X 円貰える時，X を出力せよ。\n",
        "%%writefile temp.cpp\n",
        "#include <bits/stdc++.h>\n",
        "using namespace std;\n",
        "\n",
        "int main() {\n",
        "  int M, N;\n",
        "  int sum = 0;\n",
        "  int max = 0;\n",
        "\n",
        "  cin >> M;\n",
        "  vector<string> s(M);\n",
        "  for (int i = 0; i < M; i++) {\n",
        "    cin >> s.at(i);\n",
        "  }\n",
        "  cin >> N;\n",
        "  vector<string> t(N);\n",
        "  for (int i = 0; i < N; i++) {\n",
        "    cin >> t.at(i);\n",
        "  }\n",
        "\n",
        "  for (int i = 0; i < M; i++) {\n",
        "    sum = 1;\n",
        "    for (int j = i + 1; j < M; j++) {\n",
        "      if (s.at(i) == s.at(j)) sum++;\n",
        "    }\n",
        "    for (int k = 0; k < N; k++) {\n",
        "      if (s.at(i) == t.at(k)) sum--;\n",
        "    }\n",
        "    if (sum > max) max = sum;\n",
        "  }\n",
        "  cout << max << endl;\n",
        "}"
      ],
      "metadata": {
        "id": "Sf4UQPrVK7Yc"
      },
      "execution_count": null,
      "outputs": []
    },
    {
      "cell_type": "code",
      "source": [
        "!g++ temp.cpp; echo 3 apple orange apple 1 grape | ./a.out\n",
        "!g++ temp.cpp; echo 3 apple orange apple 5 apple apple apple apple apple | ./a.out\n",
        "!g++ temp.cpp; echo 1 voldemort 10 voldemort voldemort voldemort voldemort voldemort voldemort voldemort voldemort voldemort voldemort | ./a.out\n",
        "!g++ temp.cpp; echo 6 red red blue yellow yellow red 5 red red yellow green blue | ./a.out"
      ],
      "metadata": {
        "id": "t5r3G-DDT1xg"
      },
      "execution_count": null,
      "outputs": []
    },
    {
      "cell_type": "code",
      "source": [
        "# 問題\n",
        "# B - Kagami Mochi\n",
        "# X 段重ねの鏡餅 (X≥1) とは、X 枚の円形の餅を縦に積み重ねたものであって、\n",
        "# どの餅もその真下の餅より直径が小さい（一番下の餅を除く）もののことです。\n",
        "# 例えば、直径 10、8、6 センチメートルの餅をこの順に下から積み重ねると \n",
        "# 3 段重ねの鏡餅になり、餅を一枚だけ置くと 1 段重ねの鏡餅になります。\n",
        "# ダックスフンドのルンルンは N 枚の円形の餅を持っていて、\n",
        "# そのうち i 枚目の餅の直径は d_i センチメートルです。\n",
        "# これらの餅のうち一部または全部を使って鏡餅を作るとき、\n",
        "# 最大で何段重ねの鏡餅を作ることができるでしょうか。\n",
        "# 作ることのできる鏡餅の最大の段数を出力せよ。\n",
        "%%writefile temp.cpp\n",
        "#include <bits/stdc++.h>\n",
        "using namespace std;\n",
        "\n",
        "int main() {\n",
        "  int N;\n",
        "  cin >> N;\n",
        "  vector<int> mochi(N);\n",
        "  vector<int> mochiset = {};\n",
        "  bool intheset = false;\n",
        "  for (int i = 0; i < N; i++) {\n",
        "    cin >> mochi.at(i);\n",
        "  }\n",
        "  for (int i = 0; i < N; i++) {\n",
        "    if (i == 0) {\n",
        "      mochiset.push_back(mochi.at(i));\n",
        "      continue;\n",
        "    }\n",
        "    for (int j = 0; j < i; j++) {\n",
        "      if (mochi.at(i) == mochi.at(j)) intheset = true;\n",
        "    }\n",
        "    if (intheset == false) {\n",
        "      mochiset.push_back(mochi.at(i));\n",
        "    }\n",
        "    else { intheset = false; }\n",
        "  }\n",
        "  cout << mochiset.size() << endl;\n",
        "}"
      ],
      "metadata": {
        "id": "AUO_1RaFZLnR"
      },
      "execution_count": null,
      "outputs": []
    },
    {
      "cell_type": "code",
      "source": [
        "!g++ temp.cpp; echo 4 10 8 8 6 | ./a.out #=> 3\n",
        "!g++ temp.cpp; echo 3 15 15 15 | ./a.out #=> 1\n",
        "!g++ temp.cpp; echo 7 50 30 50 100 50 80 30 | ./a.out #=> 4"
      ],
      "metadata": {
        "id": "8DfRdTQoZLTY"
      },
      "execution_count": null,
      "outputs": []
    },
    {
      "cell_type": "markdown",
      "source": [
        "---\n",
        "O - 1.14.STLの関数 "
      ],
      "metadata": {
        "id": "JYNzgIiEorrS"
      }
    },
    {
      "cell_type": "code",
      "source": [
        "# 関数の例\n",
        "%%writefile temp.cpp\n",
        "#include <bits/stdc++.h>\n",
        "using namespace std;\n",
        "\n",
        "int my_min(int x, int y) {\n",
        "  if (x < y) {\n",
        "    return x;\n",
        "  }\n",
        "  else {\n",
        "    return y;\n",
        "  }\n",
        "}\n",
        "\n",
        "int main() {\n",
        "  int answer = my_min(10, 5);\n",
        "  cout << answer << endl; // 5\n",
        "}"
      ],
      "metadata": {
        "id": "UQZ2xyJioq4Z"
      },
      "execution_count": null,
      "outputs": []
    },
    {
      "cell_type": "code",
      "source": [
        "!g++ temp.cpp;  ./temp"
      ],
      "metadata": {
        "id": "SNjwIERXdy33"
      },
      "execution_count": null,
      "outputs": []
    },
    {
      "cell_type": "code",
      "source": [
        "# 上の例を無名関数にしてみよう\n",
        "%%writefile temp.cpp\n",
        "#include <bits/stdc++.h>\n",
        "using namespace std;\n",
        "\n",
        "int main() {\n",
        "  cout << [](int x, int y){if(x<y) return x;else return y;}(8,7) << endl; // 7\n",
        "}"
      ],
      "metadata": {
        "id": "ewatF7ccd8J_"
      },
      "execution_count": null,
      "outputs": []
    },
    {
      "cell_type": "code",
      "source": [
        "!g++ temp.cpp; ./a.out"
      ],
      "metadata": {
        "id": "JYe83XcJeaEc"
      },
      "execution_count": null,
      "outputs": []
    },
    {
      "cell_type": "code",
      "source": [
        "# 関数の引数に参照 `&` を使う例\n",
        "# 参照元の値を変更している\n",
        "%%writefile temp.cpp\n",
        "#include <bits/stdc++.h>\n",
        "using namespace std;\n",
        "\n",
        "void change(int& n, vector<int>& vec) {\n",
        "  n = 1;\n",
        "  vec.at(0) = 1;\n",
        "  return;\n",
        "}\n",
        "\n",
        "int main() {\n",
        "  int x = 5;\n",
        "  vector<int> v = { 10, 10, 10 };\n",
        "\n",
        "  change(x, v);\n",
        "\n",
        "  cout << x << endl;\n",
        "  cout << v.at(0) << endl;\n",
        "}"
      ],
      "metadata": {
        "id": "V6PjNpBVgqPj"
      },
      "execution_count": null,
      "outputs": []
    },
    {
      "cell_type": "code",
      "source": [
        "!g++ temp.cpp; ./a.out"
      ],
      "metadata": {
        "id": "bAEFR3VVhnUT"
      },
      "execution_count": null,
      "outputs": []
    },
    {
      "cell_type": "code",
      "source": [
        "# 再帰の例\n",
        "%%writefile temp.cpp\n",
        "#include <bits/stdc++.h>\n",
        "using namespace std;\n",
        " \n",
        "// 0からnまでの和を求める関数 sum\n",
        "int sum(int n) {\n",
        "  if (n == 0) {\n",
        "    return 0;\n",
        "  }\n",
        "  return n + sum(n - 1);\n",
        "}\n",
        " \n",
        "int main() {\n",
        "  cout << sum(3) << endl;\n",
        "} // 6"
      ],
      "metadata": {
        "id": "bUgLKtTCURoC"
      },
      "execution_count": null,
      "outputs": []
    },
    {
      "cell_type": "code",
      "source": [
        "!g++ temp.cpp; ./a.out"
      ],
      "metadata": {
        "id": "tw0AUobCiVSN"
      },
      "execution_count": null,
      "outputs": []
    },
    {
      "cell_type": "code",
      "source": [
        "# 問題\n",
        "# EX14 - 三人兄弟の身長差\n",
        "# 三人兄弟のA君とB君とC君が背くらべをしています。\n",
        "# 三人の身長が与えられるので、最も大きい人と最も小さい人の身長差を出力してください。\n",
        "# 例えば、A君の身長が160、B君の身長が154、C君の身長が152であるとします。\n",
        "# このとき最も大きいのはA君で、最も小さいのはC君なので、出力は8になります。\n",
        "# この問題はSTLの関数を使わなくても解けますが、STLの関数を使うと簡潔にプログラムを記述できます。\n",
        "# 最もが大きい人と最も小さい人の身長差を出力してください。\n",
        "# 160 154 152 #=> 8\n",
        "%%writefile temp.cpp\n",
        "#include <bits/stdc++.h>\n",
        "using namespace std;\n",
        " \n",
        "int main() {\n",
        "  vector<int> v(3);\n",
        "  for(int i=0; i < v.size(); i++) cin >> v.at(i);\n",
        "  sort(v.begin(), v.end());\n",
        "  cout << v.at(v.size()-1) - v.at(0) << endl;\n",
        "}"
      ],
      "metadata": {
        "id": "T0BN-PbZ8sBi"
      },
      "execution_count": null,
      "outputs": []
    },
    {
      "cell_type": "code",
      "source": [
        "!g++ temp.cpp; echo 160 154 152 | ./a.out #=> 8\n",
        "!g++ temp.cpp; echo 200 200 200 |./temp #=> 0\n",
        "!g++ temp.cpp; echo 145 1 170 |./temp #=> 169\n",
        "!g++ temp.cpp; echo 150 190 160 |./temp #=> 40"
      ],
      "metadata": {
        "id": "9AFdye8L8r3j"
      },
      "execution_count": null,
      "outputs": []
    },
    {
      "cell_type": "code",
      "source": [
        "# 問題\n",
        "# B - Card Game for Two\n",
        "# N 枚のカードがあります. i 枚目のカードには, a_i という数が書かれています.\n",
        "# Alice と Bob は, これらのカードを使ってゲームを行います. ゲームでは, \n",
        "# Alice と Bob が交互に 1 枚ずつカードを取っていきます. Alice が先にカードを取ります.\n",
        "# 2 人がすべてのカードを取ったときゲームは終了し, 取ったカードの数の合計がその人の得点になります. \n",
        "# 2 人とも自分の得点を最大化するように最適な戦略を取った時, Alice は Bob より何点多く取るか求めてください.\n",
        "# 両者が最適な戦略を取った時, Alice は Bob より何点多く取るかを出力してください.\n",
        "# 2 3 1 #=> 2\n",
        "%%writefile temp.cpp\n",
        "#include <bits/stdc++.h>\n",
        "using namespace std;\n",
        " \n",
        "int main() {\n",
        "    int N, Alice, Bob;\n",
        "    cin >> N;\n",
        "    Alice = Bob = 0;\n",
        "    vector<int> v(N);\n",
        "    for(int i=0; i < v.size(); i++) cin >> v.at(i);\n",
        "    sort(v.begin(), v.end());\n",
        "    reverse(v.begin(), v.end());\n",
        "    for(int i=0;i<v.size();i++){\n",
        "        if (i%2==0) Alice += v.at(i);\n",
        "        else Bob += v.at(i);\n",
        "    }\n",
        "    cout << Alice - Bob << endl;\n",
        "}"
      ],
      "metadata": {
        "id": "nJQfwse8MPYp"
      },
      "execution_count": null,
      "outputs": []
    },
    {
      "cell_type": "code",
      "source": [
        "!g++ temp.cpp; echo 2 3 1 | ./a.out #=> 2\n",
        "!g++ temp.cpp; echo 3 2 7 4 | ./a.out #=> 5\n",
        "!g++ temp.cpp; echo 4 20 18 2 18 | ./a.out #=> 18"
      ],
      "metadata": {
        "id": "XFEmEa_jMPLB"
      },
      "execution_count": null,
      "outputs": []
    },
    {
      "cell_type": "code",
      "source": [
        "# 問題\n",
        "# B - Kagami Mochi (revisited)\n",
        "# X 段重ねの鏡餅 (X≥1) とは、X 枚の円形の餅を縦に積み重ねたものであって、\n",
        "# どの餅もその真下の餅より直径が小さい（一番下の餅を除く）もののことです。\n",
        "# 例えば、直径 10、8、6 センチメートルの餅をこの順に下から積み重ねると \n",
        "# 3 段重ねの鏡餅になり、餅を一枚だけ置くと 1 段重ねの鏡餅になります。\n",
        "# ダックスフンドのルンルンは N 枚の円形の餅を持っていて、\n",
        "# そのうち i 枚目の餅の直径は d_i センチメートルです。\n",
        "# これらの餅のうち一部または全部を使って鏡餅を作るとき、\n",
        "# 最大で何段重ねの鏡餅を作ることができるでしょうか。\n",
        "# 作ることのできる鏡餅の最大の段数を出力せよ。\n",
        "%%writefile temp.cpp\n",
        "#include <bits/stdc++.h>\n",
        "using namespace std;\n",
        "\n",
        "int main() {\n",
        "  int N, X;\n",
        "  cin >> N;\n",
        "  X = 1;\n",
        "  vector<int> vec(N);\n",
        "  for (int i = 0; i < N; i++) cin >> vec.at(i);\n",
        "  sort(vec.begin(),vec.end());\n",
        "  for(int i=0; i < vec.size()-1; i++){\n",
        "      if (vec.at(i) != vec.at(i+1)) X++;\n",
        "  }\n",
        "  cout << X << endl;\n",
        "}"
      ],
      "metadata": {
        "id": "UtvWaTsfRfzD"
      },
      "execution_count": null,
      "outputs": []
    },
    {
      "cell_type": "code",
      "source": [
        "!g++ temp.cpp; echo 4 10 8 8 6 | ./a.out #=> 3\n",
        "!g++ temp.cpp; echo 3 15 15 15 | ./a.out #=> 1\n",
        "!g++ temp.cpp; echo 7 50 30 50 100 50 80 30 | ./a.out #=> 4"
      ],
      "metadata": {
        "id": "qtD-QTfnRfnj"
      },
      "execution_count": null,
      "outputs": []
    },
    {
      "cell_type": "markdown",
      "source": [
        "---\n",
        "問題 EX15.三人兄弟へのプレゼント\n",
        "\n",
        "問題文\n",
        "三人兄弟のA君とB君とC君は、お父さんに1つのプレゼントを貰うことになりました。\n",
        "貰えるプレゼントの予算は「テストの合計点の積」で決まります。\n",
        "\n",
        "プレゼントの予算 = $(A_1+\\dots+A_n)\\times(B_1)$"
      ],
      "metadata": {
        "id": "4-0O_9lzicIl"
      }
    },
    {
      "cell_type": "code",
      "source": [
        "# 問題 EX15.三人兄弟へのプレゼント\n",
        "# 途中まで書かれたプログラムに沿って完成させること\n",
        "%%writefile temp.cpp\n",
        "#include <bits/stdc++.h>\n",
        "using namespace std;\n",
        "\n",
        "// 1人のテストの点数を表す配列から合計点を計算して返す関数\n",
        "// 返り値: 1人のテストの合計点\n",
        "int sum(vector<int> scores) {\n",
        "  int sum = 0;\n",
        "  for(int i=0; i < scores.size(); i++){sum += scores.at(i);};\n",
        "  return sum;\n",
        "}\n",
        "\n",
        "// 3人の合計点からプレゼントの予算を計算して出力する関数\n",
        "// 返り値: なし\n",
        "void output(int sum_a, int sum_b, int sum_c) {\n",
        "  cout << sum_a*sum_b*sum_c << endl;\n",
        "}\n",
        "\n",
        "// N個の入力を受け取って配列に入れて返す関数\n",
        "// 引数 N: 入力を受け取る個数\n",
        "// 返り値: 受け取ったN個の入力の配列\n",
        "vector<int> input(int N) {\n",
        "  vector<int> vec(N);\n",
        "  for (int i = 0; i < N; i++) {\n",
        "    cin >> vec.at(i);\n",
        "  }\n",
        "  return vec;\n",
        "}\n",
        "\n",
        "int main() {\n",
        "  // 科目の数Nを受け取る\n",
        "  int N;\n",
        "  cin >> N;\n",
        "\n",
        "  // それぞれのテストの点数を受け取る\n",
        "  vector<int> A = input(N);\n",
        "  vector<int> B = input(N);\n",
        "  vector<int> C = input(N);\n",
        "\n",
        "  // それぞれの合計点を計算\n",
        "  int sum_A = sum(A);\n",
        "  int sum_B = sum(B);\n",
        "  int sum_C = sum(C);\n",
        "\n",
        "  // プレゼントの予算を出力\n",
        "  output(sum_A, sum_B, sum_C);\n",
        "}"
      ],
      "metadata": {
        "id": "g9A2t3y9iLwF"
      },
      "execution_count": null,
      "outputs": []
    },
    {
      "cell_type": "code",
      "source": [
        "!g++ temp.cpp; echo 2 5 7 4 10 9 2 |./temp  #=> 1848\n",
        "!g++ temp.cpp; echo 3 100 100 100 100 100 100 100 100 100 |./temp #=> 27000000\n",
        "!g++ temp.cpp; echo 5 95 20 74 81 10 100 50 32 84 31 0 0 0 0 0 |./temp #=> 0\n",
        "!g++ temp.cpp; echo 2 10 0 0 5 1 1 |./temp #=> 100"
      ],
      "metadata": {
        "id": "c60XFlHxkgN2"
      },
      "execution_count": null,
      "outputs": []
    },
    {
      "cell_type": "code",
      "source": [
        "# 範囲for文の構文\n",
        "# for (配列の要素の型 変数名 : 配列変数) {}\n",
        "# 問題 整数 a と 5個の整数を与えられて、a と等しいものの個数を求める\n",
        "# 入力例 入力例 3 1 3 2 5 3 => 2\n",
        "%%writefile temp.cpp\n",
        "#include <bits/stdc++.h>\n",
        "using namespace std;\n",
        "\n",
        "int main() {\n",
        "  int a;\n",
        "  cin >> a;\n",
        "  vector<int> data(5);\n",
        "  for (int i = 0; i < 5; i++) {\n",
        "    cin >> data.at(i);\n",
        "  }\n",
        "  \n",
        "  int count = 0;\n",
        "  for (int item : data) {\n",
        "      if (item == a) count++;\n",
        "  }\n",
        "\n",
        "  cout << count << endl;\n",
        "}\n"
      ],
      "metadata": {
        "id": "I0QRsdz8qEUI"
      },
      "execution_count": null,
      "outputs": []
    },
    {
      "cell_type": "code",
      "source": [
        "!g++ temp.cpp; echo 3 1 3 2 5 3 |./temp"
      ],
      "metadata": {
        "id": "w0ydvnIXtv1N"
      },
      "execution_count": null,
      "outputs": []
    },
    {
      "cell_type": "code",
      "source": [
        "# 範囲for文はvectorだけでなくコンテナと呼ばれるデータ型に対して使うことが出来る\n",
        "# 文字列(string)はコンテナの一種なので、範囲for文を用いることが出来る\n",
        "%%writefile temp.cpp\n",
        "#include <bits/stdc++.h>\n",
        "using namespace std;\n",
        " \n",
        "int main() {\n",
        "  string str = \"hello\";\n",
        "  for (char c : str) {\n",
        "    if (c == 'l') {\n",
        "      c = 'L';\n",
        "    }\n",
        "    cout << c;\n",
        "  }\n",
        "  cout << endl;\n",
        "}"
      ],
      "metadata": {
        "id": "7ubpn-YxrqkF"
      },
      "execution_count": null,
      "outputs": []
    },
    {
      "cell_type": "code",
      "source": [
        "!g++ temp.cpp; ./a.out"
      ],
      "metadata": {
        "id": "UgB5QldN_fE_"
      },
      "execution_count": null,
      "outputs": []
    },
    {
      "cell_type": "code",
      "source": [
        "# 実験\n",
        "# how to c++ sum all elements in multidimensional vector\n",
        "%%writefile temp.cpp\n",
        "#include <bits/stdc++.h>\n",
        "using namespace std;\n",
        "\n",
        "int main() {\n",
        "  int sum;\n",
        "\n",
        "  vector<vector<int>> data = {\n",
        "    {7, 4, 0, 8},\n",
        "    {2, 0, 3, 5},\n",
        "    {6, 1, 7, 0},\n",
        "  };\n",
        "  sum = 0;\n",
        "  for (int i = 0; i < data.size(); i++) {\n",
        "    for (int j = 0; j < data.at(i).size();j++) {\n",
        "      sum += data.at(i).at(j);\n",
        "    }\n",
        "  };\n",
        "  cout << sum << endl;\n",
        "  sum = 0;\n",
        "\n",
        "  // 範囲for文が使えないか\n",
        "  for (vector<int> vec : data) {\n",
        "    for (int item : vec) {\n",
        "      sum += item;\n",
        "    }\n",
        "  }\n",
        "  cout << sum << endl;\n",
        "}"
      ],
      "metadata": {
        "id": "EQl--G-4ZLf-"
      },
      "execution_count": null,
      "outputs": []
    },
    {
      "cell_type": "code",
      "source": [
        "!g++ temp.cpp; ./a.out"
      ],
      "metadata": {
        "id": "moj3bcJiaFso"
      },
      "execution_count": null,
      "outputs": []
    },
    {
      "cell_type": "code",
      "source": [
        "# ループ構文の使い分け\n",
        "# while文が適しているケース\n",
        "# 「整数Nがあるとき、Nが2で最大で何回割り切れるかを求める」という処理を考える\n",
        "%%writefile temp.cpp\n",
        "#include <bits/stdc++.h>\n",
        "using namespace std;\n",
        " \n",
        "int main() {\n",
        "  int N;\n",
        "  cin >> N;\n",
        " \n",
        "  int count = 0;\n",
        "  while (N > 0) {\n",
        "    // 2で割り切れなければループを抜ける\n",
        "    if (N % 2 > 0) {\n",
        "      break;\n",
        "    }\n",
        "    N = N / 2;\n",
        "    count++;\n",
        "  }\n",
        "  cout << count << endl;\n",
        "}"
      ],
      "metadata": {
        "id": "SErFyC1R_aB1"
      },
      "execution_count": null,
      "outputs": []
    },
    {
      "cell_type": "code",
      "source": [
        "!g++ temp.cpp; echo 8 |./temp"
      ],
      "metadata": {
        "id": "CE7R7BNxAZJZ"
      },
      "execution_count": null,
      "outputs": []
    },
    {
      "cell_type": "code",
      "source": [
        "# 問題\n",
        "# 再帰を使って while を使わずに    \n",
        "# 整数Nがあるとき、Nが2で最大で何回割り切れるかを求める\n",
        "%%writefile temp.cpp\n",
        "#include <bits/stdc++.h>\n",
        "using namespace std;\n",
        "\n",
        "int binpower(int n){\n",
        "    if (n == 0) return 0;\n",
        "    else if (n%2 == 1) return 0;\n",
        "    else return (1+ binpower(n/2));\n",
        "}\n",
        " \n",
        "int main() {\n",
        "  int N;\n",
        "  cin >> N;\n",
        " \n",
        "  cout << binpower(N) << endl;\n",
        "}"
      ],
      "metadata": {
        "id": "QwIVcMgtlUFT"
      },
      "execution_count": null,
      "outputs": []
    },
    {
      "cell_type": "code",
      "source": [
        "!g++ temp.cpp; echo 8 |./temp"
      ],
      "metadata": {
        "id": "eeVvSpWxlT91"
      },
      "execution_count": null,
      "outputs": []
    },
    {
      "cell_type": "code",
      "source": [
        "# 問題\n",
        "# EX16.隣り合う同じ値を探す\n",
        "# 5つの要素からなる配列 同じ値の要素が隣り合っているような箇所が存在するかどうかを判定\n",
        "# 存在するなら\"YES\"を、存在しなければ\"NO\"を出力\n",
        "# 5 3 3 1 4 #=> YES\n",
        "%%writefile temp.cpp\n",
        "#include <bits/stdc++.h>\n",
        "using namespace std;\n",
        "\n",
        "int main() {\n",
        "  vector<int> data(5);\n",
        "  for (int i = 0; i < 5; i++) {\n",
        "    cin >> data.at(i);\n",
        "  };\n",
        "\n",
        "  string answer = \"NO\";\n",
        "\n",
        "  for (int i = 0; i < data.size()-1;i++){\n",
        "      if (data.at(i)==data.at(i+1)){\n",
        "          answer = \"YES\";\n",
        "          break;\n",
        "      }\n",
        "  };\n",
        "  cout << answer << endl;\n",
        "}\n"
      ],
      "metadata": {
        "id": "msYGRA1YF3ZR"
      },
      "execution_count": null,
      "outputs": []
    },
    {
      "cell_type": "code",
      "source": [
        "!g++ temp.cpp; echo 5 3 3 1 4 |./temp #=> YES\n",
        "!g++ temp.cpp; echo 1 1 2 3 4 |./temp #=>YES\n",
        "!g++ temp.cpp; echo 1 2 1 2 1 |./temp #=>NO\n",
        "!g++ temp.cpp; echo 100 100 100 100 100 |./temp #=>YES"
      ],
      "metadata": {
        "id": "Nnc-sRsLF2nz"
      },
      "execution_count": null,
      "outputs": []
    },
    {
      "cell_type": "code",
      "source": [
        "# 多重ループ \n",
        "%%writefile temp.cpp\n",
        "#include <bits/stdc++.h>\n",
        "using namespace std;\n",
        " \n",
        "int main() {\n",
        "  for (int i = 0; i < 2; i++) {\n",
        "    for (int j = 0; j < 2; j++) {\n",
        "      for (int k = 0; k < 2; k++) {\n",
        "        cout << \"i:\" << i << \", j:\" << j << \", k:\" << k << endl;\n",
        "      }\n",
        "    }\n",
        "  }\n",
        "}"
      ],
      "metadata": {
        "id": "IYFmSN-5IetI"
      },
      "execution_count": null,
      "outputs": []
    },
    {
      "cell_type": "code",
      "source": [
        "!g++ temp.cpp; ./a.out"
      ],
      "metadata": {
        "id": "QPEkEMZJGfCr"
      },
      "execution_count": null,
      "outputs": []
    },
    {
      "cell_type": "code",
      "source": [
        "# 例題「3要素の2つの配列A, Bに同じ要素が含まれているかどうか判定する」\n",
        "# 入力 1 3 2 4 5 3 => YES\n",
        "%%writefile temp.cpp\n",
        "#include <bits/stdc++.h>\n",
        "using namespace std;\n",
        " \n",
        "int main() {\n",
        "  vector<int> A(3), B(3);\n",
        "  for (int i = 0; i < 3; i++) {\n",
        "    cin >> A.at(i);\n",
        "  }\n",
        "  for (int i = 0; i < 3; i++) {\n",
        "    cin >> B.at(i);\n",
        "  }\n",
        " \n",
        "  // 答えを保持する変数\n",
        "  bool answer = false;\n",
        " \n",
        "  // ここにプログラムを追記\n",
        "  for (int i = 0; i < 3; i++) {\n",
        "    for (int j = 0; j < 3; j++) {\n",
        "      if (A.at(i) == B.at(j)) {\n",
        "        answer = true;\n",
        "      }\n",
        "    }\n",
        "  }\n",
        " \n",
        "  if (answer) {\n",
        "    cout << \"YES\" << endl;\n",
        "  }\n",
        "  else {\n",
        "    cout << \"NO\" << endl;\n",
        "  }\n",
        "}"
      ],
      "metadata": {
        "id": "e1Dt1ENtGWfr"
      },
      "execution_count": null,
      "outputs": []
    },
    {
      "cell_type": "code",
      "source": [
        "!g++ temp.cpp; echo 1 3 2 4 5 3 |./temp"
      ],
      "metadata": {
        "id": "hsdwzl8UHlnE"
      },
      "execution_count": null,
      "outputs": []
    },
    {
      "cell_type": "code",
      "source": [
        "# 問題\n",
        "# EX17.果物屋さんでお買い物\n",
        "# ある果物屋では、リンゴ・パイナップルがそれぞれN個売られてる。\n",
        "# リンゴ・パイナップルをそれぞれ1つずつ選んで購入しようとするとき、合計金額が丁# 度S円になるような買い方が何通りあるか。\n",
        "# 同じ値段の同じ種類の商品でも区別する。\n",
        "%%writefile temp.cpp\n",
        "#include <bits/stdc++.h>\n",
        "using namespace std;\n",
        "\n",
        "int main() {\n",
        "  int N, S;\n",
        "  cin >> N >> S;\n",
        "  vector<int> A(N), P(N);\n",
        "  for (int i = 0; i < N; i++) {\n",
        "    cin >> A.at(i);\n",
        "  }\n",
        "  for (int i = 0; i < N; i++) {\n",
        "    cin >> P.at(i);\n",
        "  }\n",
        "\n",
        "  // リンゴ・パイナップルをそれぞれ1つずつ購入するとき合計S円になるような買い方が何通りあるか\n",
        "  // ここにプログラムを追記\n",
        "  int counter = 0;\n",
        "  for (int i = 0; i < N; i++) {\n",
        "    for (int j = 0; j < N; j++) {\n",
        "      if (A.at(i) + P.at(j) == S) counter++;\n",
        "    }\n",
        "  }\n",
        "  cout << counter << endl;\n",
        "}"
      ],
      "metadata": {
        "id": "CnTE-C_m888j"
      },
      "execution_count": null,
      "outputs": []
    },
    {
      "cell_type": "code",
      "source": [
        "!g++ temp.cpp; echo 3 400 100 100 130 270 300 250  |./temp #=> 3\n",
        "!g++ temp.cpp; echo 10 600 70 110 90 120 90 20 260 150 220 150 170 100 250 350 60 280 450 460 20 220 |./temp  #=> 2\n",
        "!g++ temp.cpp; echo 3 200 100 100 100 100 100 100 |./temp #=> 9\n",
        "!g++ temp.cpp; echo 1 0 100 200 |./temp #=> 0"
      ],
      "metadata": {
        "id": "StKQu4Ia-zjM"
      },
      "execution_count": null,
      "outputs": []
    },
    {
      "cell_type": "markdown",
      "source": [
        "# 多次元配列\n",
        "\n",
        "# 二次元配列\n",
        "\n",
        "vector<vector<要素の型>> 変数名(要素数1, vector<要素の型>(要素数2, 初期値))で宣言\n",
        "\n",
        "もしくは\n",
        "\n",
        "```\n",
        "vector<vector<int>> data = {\n",
        "  {7, 4, 0, 8},\n",
        "  {2, 0, 3, 5},\n",
        "  {6, 1, 7, 0},\n",
        "};\n",
        "```\n",
        "\n",
        "とか\n"
      ],
      "metadata": {
        "id": "yZIxWfVC_tY8"
      }
    },
    {
      "cell_type": "code",
      "source": [
        "# 例題 縦3行、横4列の整数が書かれた表があります。この表に何個の0が含まれているかを求めてください。\n",
        "# 入力 7 4 0 8 2 0 3 5 6 1 7 0 => 3\n",
        "%%writefile temp.cpp\n",
        "#include <bits/stdc++.h>\n",
        "using namespace std;\n",
        "\n",
        "int main() {\n",
        "\n",
        "  // int型の2次元配列(3×4要素の)の宣言\n",
        "  vector<vector<int>> data(3, vector<int>(4));\n",
        "\n",
        "  // 入力 (2重ループを用いる)\n",
        "  for (int i = 0; i < 3; i++) {\n",
        "    for (int j = 0; j < 4; j++) {\n",
        "      cin >> data.at(i).at(j);\n",
        "    }\n",
        "  }\n",
        "\n",
        "  // 0の個数を数える\n",
        "  int count = 0;\n",
        "\n",
        "  for (int i = 0; i < 3; i++) {\n",
        "    for (int j = 0; j < 4; j++) {\n",
        "\n",
        "      // 上からi番目、左からj番目の画素が0かを判定\n",
        "      if (data.at(i).at(j) == 0) {\n",
        "        count++;\n",
        "      }\n",
        "\n",
        "    }\n",
        "  }\n",
        "\n",
        "   cout << count << endl;\n",
        "}\n"
      ],
      "metadata": {
        "id": "GmR-jswS_rcR"
      },
      "execution_count": null,
      "outputs": []
    },
    {
      "cell_type": "code",
      "source": [
        "!g++ temp.cpp; echo 7 4 0 8 2 0 3 5 6 1 7 0 |./temp"
      ],
      "metadata": {
        "id": "FUbVxPMpDXWK"
      },
      "execution_count": null,
      "outputs": []
    },
    {
      "cell_type": "code",
      "source": [
        "# 例題\n",
        "# まるばつゲームの状態がN個与えられます。マルは'o'、バツは'x'、空白は'-'で表されます。\n",
        "# すべての状態の'o'の個数の和を求めてください。\n",
        "%%writefile temp.cpp\n",
        "#include <bits/stdc++.h>\n",
        "using namespace std;\n",
        " \n",
        "int main() {\n",
        "  int N;\n",
        "  cin >> N;\n",
        "  // N × (3 × 3)要素の配列を宣言\n",
        "  vector<vector<vector<char>>> data(N, vector<vector<char>>(3, vector<char>(3)));\n",
        " \n",
        "  // 入力\n",
        "  for (int i = 0; i < N; i++) {\n",
        "    // i番目の状態を読む\n",
        "    for (int j = 0; j < 3; j++) {\n",
        "      for (int k = 0; k < 3; k++) {\n",
        "        cin >> data.at(i).at(j).at(k);\n",
        "      }\n",
        "    }\n",
        "  }\n",
        " \n",
        "  // 'o'の数を数える\n",
        "  int count = 0;\n",
        " \n",
        "  for (int i = 0; i < N; i++) {\n",
        "    for (int j = 0; j < 3; j++) {\n",
        "      for (int k = 0; k < 3; k++) {\n",
        " \n",
        "        // 「i番目の状態」「上からj番目」「左からk番目」の要素が'o'か判定\n",
        "        if (data.at(i).at(j).at(k) == 'o') {\n",
        "          count++;\n",
        "        }\n",
        " \n",
        "      }\n",
        "    }\n",
        "  }\n",
        " \n",
        "   cout << count << endl;\n",
        "}"
      ],
      "metadata": {
        "id": "rrUAmMRs_pOD"
      },
      "execution_count": null,
      "outputs": []
    },
    {
      "cell_type": "code",
      "source": [
        "!g++ temp.cpp; echo 2 - - - - x - - o - x o - - o - x - - |./temp #=> 3"
      ],
      "metadata": {
        "id": "a2WKj4CAFzo4"
      },
      "execution_count": null,
      "outputs": []
    },
    {
      "cell_type": "code",
      "source": [
        "# 変数名.size()では1次元目の要素数が取得できますが、すべての要素の個数が取得できる訳ではない。\n",
        "%%writefile temp.cpp\n",
        "#include <bits/stdc++.h>\n",
        "using namespace std;\n",
        "\n",
        "int main() {\n",
        "  vector<vector<vector<int>>> data = {\n",
        "    {\n",
        "      {1, 2, 3, 4},\n",
        "      {5, 6, 7, 8},\n",
        "      {9, 10, 11, 12},\n",
        "    },\n",
        "    {\n",
        "      {13, 14, 15, 16},\n",
        "      {17, 18, 19, 20},\n",
        "      {21, 22, 23, 24},\n",
        "    },\n",
        "  };\n",
        "\n",
        "  int size1 = data.size();\n",
        "  cout << size1 << endl;  // 2\n",
        "\n",
        "  int size2 = data.at(0).size();\n",
        "  cout << size2 << endl;  // 3\n",
        "\n",
        "  int size3 = data.at(0).at(0).size();\n",
        "  cout << size3 << endl;  // 4\n",
        "}"
      ],
      "metadata": {
        "id": "Xt-IXT7IFuiO"
      },
      "execution_count": null,
      "outputs": []
    },
    {
      "cell_type": "code",
      "source": [
        "!g++ temp.cpp; ./a.out #=> 3"
      ],
      "metadata": {
        "id": "bsaO7FhlG0Jo"
      },
      "execution_count": null,
      "outputs": []
    },
    {
      "cell_type": "code",
      "source": [
        "# 問題\n",
        "# EX18.ゲーム大会\n",
        "# あるゲーム大会にはN人が参加しM試合が行われました。各参加者には1からNの番号が割り当てられています。\n",
        "# 試合に関する情報が与えられるので、M回の試合がすべて終了した時点での試合結果の表を作成し、出力してください。\n",
        "# ただし、同じ参加者のペアについて2回以上試合が行われることはないとします。\n",
        "# 試合に関する情報は以下のような形式で与えられます。\n",
        "# 試合1で勝った人の番号 A_1 試合1で負けた人の番号B_1\n",
        "# 試合1で勝った人の番号 A_2 試合1で負けた人の番号B_2\n",
        "# ...\n",
        "# 試合Mで勝った人の番号A_M 試合Mで負けた人の番号B_M\n",
        "# 同じ参加者のペアについて2回以上試合が行われることはありません。\n",
        "# ​試合結果を表示の仕方。\n",
        "# i番の参加者とj番の参加者が試合をして、\n",
        "# i番の参加者が勝ったなら R_i,j = o\n",
        "# i番の負けたなら R_i,j = x\n",
        "# i番の人とj番の人が試合を行っていない場合 R_i,j = -\n",
        "# M試合が終了した時点での試合結果の表を出力してください。\n",
        "# ただし、各行の行末に空白を含まないことに注意してください。\n",
        "%%writefile temp.cpp\n",
        "#include <bits/stdc++.h>\n",
        "using namespace std;\n",
        "\n",
        "int main() {\n",
        "  int N, M;\n",
        "  cin >> N >> M;\n",
        "  vector<int> A(M), B(M);\n",
        "  for (int i = 0; i < M; i++) {\n",
        "    cin >> A.at(i) >> B.at(i);\n",
        "  }\n",
        "\n",
        "  // N×Nのchar型の2次元配列のすべての要素を'-'で初期化\n",
        "  vector<vector<char>> table(N, vector<char>(N, '-'));\n",
        "\n",
        "  for (int i = 0; i < M; i++) {\n",
        "    // 1〜N → 0〜N-1 に変換\n",
        "    A.at(i)--; B.at(i)--;\n",
        "    table.at(A.at(i)).at(B.at(i)) = 'o';  // AはBに勝った\n",
        "    table.at(B.at(i)).at(A.at(i)) = 'x';  // BはAに負けた\n",
        "  }\n",
        "\n",
        "  for (int i = 0; i < N; i++) {\n",
        "    for (int j = 0; j < N; j++) {\n",
        "      cout << table.at(i).at(j);\n",
        "      if (j == N - 1) {\n",
        "        cout << endl;  // 行末なら改行\n",
        "      }\n",
        "      else {\n",
        "        cout << \" \";  // 行末でないなら空白を出力\n",
        "      }\n",
        "    }\n",
        "  }\n",
        "}"
      ],
      "metadata": {
        "id": "7lMZ3ANeGaRv"
      },
      "execution_count": null,
      "outputs": []
    },
    {
      "cell_type": "code",
      "source": [
        "!g++ temp.cpp; echo 3 2 1 2 3 1 |./temp #=> - o x x - - o - -\n",
        "!echo\n",
        "!g++ temp.cpp; echo 7 12 1 5 5 4 6 2 1 7 2 4 6 3 1 3 6 4 3 7 5 7 4 3 6 1 |./temp #=> - - o - o x o - - - o - x - x - - x - x o - x o - x x - x - - o - - o o o o o - - - x - x - x - -\n",
        "!echo\n",
        "!g++ temp.cpp; echo 1 0|./temp #=> -"
      ],
      "metadata": {
        "id": "lhhvWupys6ZD"
      },
      "execution_count": null,
      "outputs": []
    },
    {
      "cell_type": "code",
      "source": [
        "# 問題\n",
        "# ABC107 B - Grid Compression\n",
        "# 縦 H 行、横 W 列のマス目があります。 上から i 行目、左から j 列目のマスを (i,j) と表します。 \n",
        "# 各マスは白または黒です。 マス目の配色は、H 行 W 列の行列 (a_i,j) によって与えられます。 \n",
        "# a_i,j が `.` ならばマス (i,j) は白であり、a_i,j が `#` ならばマス (i,j) は黒です。\n",
        "# すぬけ君はこのマス目を圧縮しようとしています。 そのために、\n",
        "# 白いマスのみからなる行または列が存在する間、次の操作を繰り返し行います。\n",
        "# 操作: 白いマスのみからなる行または列をひとつ任意に選び、その行または列を取り除いて空白を詰める。\n",
        "# 各操作でどの行または列を選ぶかによらず、最終的なマス目は一意に定まることが示せます。 \n",
        "# 最終的なマス目を求めてください。\n",
        "# マス目全体で少なくともひとつは黒いマスが存在する。\n",
        "%%writefile temp.cpp\n",
        "#include <bits/stdc++.h>\n",
        "using namespace std;\n",
        "int main() {\n",
        "  int h;\n",
        "  cin >> h;\n",
        "  int w;\n",
        "  cin >> w;\n",
        "  vector<string> a(h);\n",
        "  for (int i = 0; i < h; i++) {\n",
        "    cin >> a[i];\n",
        "  }\n",
        "\n",
        "  vector<bool> row(h, false);\n",
        "  vector<bool> col(w, false);\n",
        "  for (int i = 0; i < h; i++) {\n",
        "    for (int j = 0; j < w; j++) {\n",
        "      if (a[i][j] == '#') {\n",
        "        row[i] = true;\n",
        "        col[j] = true;\n",
        "      }\n",
        "    }\n",
        "  }\n",
        "\n",
        "  for (int i = 0; i < h; i++) {\n",
        "    if (row[i]) {\n",
        "      for (int j = 0; j < w; j++) {\n",
        "        if (col[j]) {\n",
        "          cout << a[i][j];\n",
        "        }\n",
        "      }\n",
        "      cout << endl;\n",
        "    }\n",
        "  }\n",
        "}\n"
      ],
      "metadata": {
        "id": "SU-GaBUEHjzv"
      },
      "execution_count": null,
      "outputs": []
    },
    {
      "cell_type": "code",
      "source": [
        "!g++ temp.cpp; echo \"4 4 ##.# .... ##.# .#.#\" |./temp #=> ### ### .##\n",
        "!echo\n",
        "!g++ temp.cpp; echo \"3 3 #.. .#. ..#\" |./temp #=> #.. .#. ..#\n",
        "!echo\n",
        "!g++ temp.cpp; echo \"4 5 ..... ..... ..#.. .....\" |./temp #=> #\n",
        "!echo\n",
        "!g++ temp.cpp; echo \"7 6 ...... ....#. .#.... ..#... ..#... ...... .#..#.\" |./temp #=> ..# #.. .#. .#. #.#\n",
        "!echo"
      ],
      "metadata": {
        "id": "qfaobcUdMVbx"
      },
      "execution_count": null,
      "outputs": []
    },
    {
      "cell_type": "markdown",
      "source": [
        "# U - 2.04.参照 "
      ],
      "metadata": {
        "id": "ZqwOZxwk4MrK"
      }
    },
    {
      "cell_type": "code",
      "source": [
        "# U - 2.04.参照 \n",
        "# 参照先の型 &参照の名前 = 参照先;で参照を宣言\n",
        "# 参照渡しは、無駄なコピーを避けたり複数の結果を返したいときに便利\n",
        "%%writefile temp.cpp\n",
        "#include <bits/stdc++.h>\n",
        "using namespace std;\n",
        " \n",
        "int main() {\n",
        "  int a = 3;\n",
        "  int &b = a;  // bは変数aの参照\n",
        " \n",
        "  cout << \"a: \" << a << endl;  // aの値を出力\n",
        "  cout << \"b: \" << b << endl;  // bの参照先の値を出力(aの値である3が出力される)\n",
        " \n",
        "  b = 4;  // 参照先の値を変更(aが4になる)\n",
        " \n",
        "  cout << \"a: \" << a << endl;  // aの値を出力\n",
        "  cout << \"b: \" << b << endl;  // bの参照先の値を出力(aの値である4が出力される)\n",
        "}"
      ],
      "metadata": {
        "id": "Z5A5MCrT31sh"
      },
      "execution_count": null,
      "outputs": []
    },
    {
      "cell_type": "code",
      "source": [
        "!g++ temp.cpp; ./a.out "
      ],
      "metadata": {
        "id": "2KOCoAMk4tqZ"
      },
      "execution_count": null,
      "outputs": []
    },
    {
      "cell_type": "code",
      "source": [
        "# 引数が参照になっている関数(参照渡し) の例\n",
        "%%writefile temp.cpp\n",
        "#include <bits/stdc++.h>\n",
        "using namespace std;\n",
        " \n",
        "int g(int &x) {\n",
        "  x = x * 2;  // xを2倍 (参照によって\"呼び出す側の変数\"が変更される)\n",
        "  return x;\n",
        "}\n",
        " \n",
        "int main() {\n",
        "  int a = 3;  // 関数を呼び出す側の変数\n",
        "  int b = g(a);  // xの参照先がaになる\n",
        "  cout << \"a: \" << a << endl;\n",
        "  cout << \"b: \" << b << endl;\n",
        "}"
      ],
      "metadata": {
        "id": "pn2rxIG94iu2"
      },
      "execution_count": null,
      "outputs": []
    },
    {
      "cell_type": "code",
      "source": [
        "!g++ temp.cpp; ./a.out "
      ],
      "metadata": {
        "id": "WiZJQAO7RroX"
      },
      "execution_count": null,
      "outputs": []
    },
    {
      "cell_type": "code",
      "source": [
        "# 参照渡しの利点\n",
        "# 参照渡しが便利な例を紹介します。\n",
        "# 関数の結果を複数返したい（普通は配列を使う）\n",
        "%%writefile temp.cpp\n",
        "#include <bits/stdc++.h>\n",
        "using namespace std;\n",
        " \n",
        "// a,b,cの最大値、最小値をそれぞれminimumの参照先、maximumの参照先に代入する\n",
        "void min_and_max(int a, int b, int c, int &minimum, int &maximum) {\n",
        "  minimum = min(a, min(b, c));  // 最小値をminimumの参照先に代入\n",
        "  maximum = max(a, max(b, c));  // 最大値をmaximumの参照先に代入\n",
        "}\n",
        " \n",
        "int main() {\n",
        "  int minimum, maximum;\n",
        "  min_and_max(3, 1, 5, minimum, maximum);  // minimum, maximumを参照渡し\n",
        "  cout << \"minimum: \" <<  minimum << endl;  // 最小値\n",
        "  cout << \"maximum: \" <<  maximum << endl;  // 最大値\n",
        "}"
      ],
      "metadata": {
        "id": "SJUco963Rpra"
      },
      "execution_count": null,
      "outputs": []
    },
    {
      "cell_type": "code",
      "source": [
        "!g++ temp.cpp; ./a.out "
      ],
      "metadata": {
        "id": "aX1H67xvSZHX"
      },
      "execution_count": null,
      "outputs": []
    },
    {
      "cell_type": "code",
      "source": [
        "# 無駄なコピーを減らす\n",
        "%%writefile temp.cpp\n",
        "#include <bits/stdc++.h>\n",
        "using namespace std;\n",
        " \n",
        "// 配列の先頭100要素の値の合計を計算する (参照渡し)\n",
        "int sum100(vector<int> &a) {\n",
        "  int result = 0;\n",
        "  for (int i = 0; i < 100; i++) {\n",
        "    result += a.at(i);\n",
        "  }\n",
        "  return result;\n",
        "}\n",
        " \n",
        "int main() {\n",
        "  vector<int> vec(10000000, 1);  // すべての要素が1の配列\n",
        " \n",
        "  // sum100 を500回呼び出す\n",
        "  for (int i = 0; i < 500; i++) {\n",
        "    cout << sum100(vec) << endl;  // 参照渡しなので配列のコピーは生じない\n",
        "  }\n",
        "}"
      ],
      "metadata": {
        "id": "eO2tXe4ySXjH"
      },
      "execution_count": null,
      "outputs": []
    },
    {
      "cell_type": "code",
      "source": [
        "# !g++ temp.cpp; ./a.out #=> アウトプットが大きいのでコメントアウト"
      ],
      "metadata": {
        "id": "Psu2r5Quxfrn"
      },
      "execution_count": null,
      "outputs": []
    },
    {
      "cell_type": "code",
      "source": [
        "# 範囲for文での参照\n",
        "# 参照は範囲for文でも用いることができ、これによって配列の要素を書き換える処理を簡潔に書くことができます。\n",
        "%%writefile temp.cpp\n",
        "#include <bits/stdc++.h>\n",
        "using namespace std;\n",
        "int main() {\n",
        "  vector<int> a = { 1, 3, 2, 5 };\n",
        "  for (int& x : a) {\n",
        "    x = x * 2;\n",
        "  }\n",
        "  for (int i = 0; i < a.size(); i++) {\n",
        "      if (i != a.size()-1) cout << a.at(i) << \" \";\n",
        "      else cout << a.at(i) << endl;\n",
        "  } \n",
        "}"
      ],
      "metadata": {
        "id": "dh6f9zI6xM1u"
      },
      "execution_count": null,
      "outputs": []
    },
    {
      "cell_type": "code",
      "source": [
        "!g++ temp.cpp; ./a.out #=> 2 6 4 10"
      ],
      "metadata": {
        "id": "A1qMi0CW4unv"
      },
      "execution_count": null,
      "outputs": []
    },
    {
      "cell_type": "code",
      "source": [
        "# 参照による vector 要素の書き換えの\n",
        "# 良くない例\n",
        "%%writefile temp.cpp\n",
        "#include <bits/stdc++.h>\n",
        "using namespace std;\n",
        " \n",
        "int main() {\n",
        "  vector<int> v = {1, 2, 3};\n",
        "  int &e = v.at(1);\n",
        "  cout << \"e: \" << e << endl;  \n",
        "  // 大量のpush_backで要素数を大幅に増やす\n",
        "  for (int i = 0; i < 1000; i++) {\n",
        "    v.push_back(i + 4);\n",
        "  } \n",
        "  cout << \"e: \" << e << endl;  // \"e: 2\"とならないことがある\n",
        "}"
      ],
      "metadata": {
        "id": "gvAxXAGR4doS"
      },
      "execution_count": null,
      "outputs": []
    },
    {
      "cell_type": "code",
      "source": [
        "!g++ temp.cpp; ./a.out "
      ],
      "metadata": {
        "id": "Wq3JHmsUMbad"
      },
      "execution_count": null,
      "outputs": []
    },
    {
      "cell_type": "code",
      "source": [
        "# 参照型の返り値\n",
        "# 次のような関数は未定義動作であり避けなければいけない\n",
        "#=> warning が出た\n",
        "%%writefile temp.cpp\n",
        "#include <bits/stdc++.h>\n",
        "using namespace std;\n",
        " \n",
        "// int型の参照を返す関数f\n",
        "int &f() {\n",
        "  int x = 12345;\n",
        "  return x;  // xを参照として返そうとする\n",
        "}\n",
        " \n",
        "int main() {\n",
        "  int &y = f();\n",
        "  cout << y << endl;  // \"12345\"が出力される？\n",
        "}"
      ],
      "metadata": {
        "id": "_1NyU4prMYDa"
      },
      "execution_count": null,
      "outputs": []
    },
    {
      "cell_type": "code",
      "source": [
        "!g++ temp.cpp; ./a.out "
      ],
      "metadata": {
        "id": "-0mGoFECOBZA"
      },
      "execution_count": null,
      "outputs": []
    },
    {
      "cell_type": "code",
      "source": [
        "# 問題\n",
        "# EX19 - 九九の採点 \n",
        "# 小学校の先生であるあなたはA君に九九の表を埋める宿題を出しました。 \n",
        "# 次の日、A君は宿題をやってきましたが、いくつかのマスは間違っているようです。\n",
        "# A君の宿題を採点するプログラムを作成してください。\n",
        "# A君の回答の表(9×9の二次元配列)を入力として受け取る\n",
        "# 誤った値が書き込まれたマスを正しい値に書き直す\n",
        "# 正しい値が書き込まれたマスの個数を数える\n",
        "# 誤った値が書き込まれたマスの個数を数える\n",
        "# ※参照渡しの練習問題なので、「プログラムの雛形」を書き換える形でプログラムを作成してください。\n",
        "# プログラムの雛形\n",
        "%%writefile temp.cpp\n",
        "#include <bits/stdc++.h>\n",
        "using namespace std;\n",
        " \n",
        "// 参照渡しを用いて、呼び出し側の変数の値を変更する\n",
        "// void saiten(/* 呼び出し側に対応するように引数を書く */) {\n",
        "void saiten(vector<vector<int>> &A, int &correct_count, int &wrong_count) {\n",
        "  // 呼び出し側のAの各マスを正しい値に修正する\n",
        "  // Aのうち、正しい値の書かれたマスの個数を correct_count に入れる\n",
        "  // Aのうち、誤った値の書かれたマスの個数を wrong_count に入れる\n",
        " \n",
        "  // ここにプログラムを追記\n",
        "  for (int i = 0; i < 9; i++) {\n",
        "    for (int j = 0; j < 9; j++) {\n",
        "      if (A.at(i).at(j) == (i+1)*(j+1)) {\n",
        "          correct_count++;\n",
        "      } else {\n",
        "          wrong_count++;\n",
        "          A.at(i).at(j) = (i+1)*(j+1);\n",
        "      }\n",
        "    }\n",
        "  }  \n",
        "\n",
        "}\n",
        " \n",
        " \n",
        "// -------------------\n",
        "// ここから先は変更しない\n",
        "// -------------------\n",
        "int main() {\n",
        "  // A君の回答を受け取る\n",
        "  vector<vector<int>> A(9, vector<int>(9));\n",
        "  for (int i = 0; i < 9; i++) {\n",
        "    for (int j = 0; j < 9; j++) {\n",
        "      cin >> A.at(i).at(j);\n",
        "    }\n",
        "  }\n",
        " \n",
        "  int correct_count = 0; // ここに正しい値のマスの個数を入れる\n",
        "  int wrong_count = 0;   // ここに誤った値のマスの個数を入れる\n",
        " \n",
        "  // A, correct_count, wrong_countを参照渡し\n",
        "  saiten(A, correct_count, wrong_count);\n",
        " \n",
        "  // 正しく修正した表を出力\n",
        "  /*\n",
        "  for (int i = 0; i < 9; i++) {\n",
        "    for (int j = 0; j < 9; j++) {\n",
        "      cout << A.at(i).at(j);\n",
        "      if (j < 8) cout << \" \";\n",
        "      else cout << endl;\n",
        "    }\n",
        "  } */\n",
        "  // 正しいマスの個数を出力\n",
        "  cout << correct_count << endl;\n",
        "  // 誤っているマスの個数を出力\n",
        "  cout << wrong_count << endl;\n",
        "}"
      ],
      "metadata": {
        "id": "_Fz9k0JvN_gP"
      },
      "execution_count": null,
      "outputs": []
    },
    {
      "cell_type": "code",
      "source": [
        "!g++ temp.cpp; echo 1 2 3 4 5 6 7 8 9 2 4 100 8 10 12 14 16 18 3 6 9 12 15 18 21 24 27 4 8 12 16 20 24 28 32 36 5 10 15 20 25 30 35 40 45 6 12 18 24 30 36 42 48 54 7 14 21 28 35 42 49 56 63 8 16 24 32 40 48 56 64 72 9 18 27 36 45 54 63 72 81 | ./a.out \n",
        "#=> 80 1\n",
        "!echo \n",
        "!g++ temp.cpp; echo 1 2 3 4 5 6 7 8 9 2 4 6 8 10 37 14 79 18 3 6 9 12 15 18 21 24 39 4 8 12 16 20 24 28 32 36 5 10 15 20 25 30 35 40 41 6 67 18 24 50 36 42 10 9 7 14 21 28 35 42 49 56 63 8 16 24 32 40 48 56 64 14 9 18 27 36 45 54 63 72 81 |./temp \n",
        "#=> 72 9"
      ],
      "metadata": {
        "id": "_W5gJ-IfRU9q"
      },
      "execution_count": null,
      "outputs": []
    },
    {
      "cell_type": "markdown",
      "source": [
        "# V - 2.05.再帰関数 "
      ],
      "metadata": {
        "id": "z7WajoRnTsLD"
      }
    },
    {
      "cell_type": "code",
      "source": [
        "# V - 2.05.再帰関数 \n",
        "# 例として、「0からnまでの総和を計算する関数」を考えます。\n",
        "%%writefile temp.cpp\n",
        "#include <bits/stdc++.h>\n",
        "using namespace std;\n",
        " \n",
        "int sum(int n) {\n",
        "  if (n == 0) {\n",
        "    return 0;\n",
        "  }\n",
        " \n",
        "  // sum関数の中でsum関数を呼び出している\n",
        "  int s = sum(n - 1);\n",
        "  return s + n;\n",
        "}\n",
        " \n",
        "int main() {\n",
        "  cout << sum(2) << endl;    // 0 + 1 + 2 = 3\n",
        "  cout << sum(3) << endl;    // 0 + 1 + 2 + 3 = 6\n",
        "  cout << sum(10) << endl;   // 0 + 1 + 2 + 3 + 4 + 5 + 6 + 7 + 8 + 9 + 10 = 55\n",
        "}"
      ],
      "metadata": {
        "id": "Nd-Fn1Pe1zXb"
      },
      "execution_count": null,
      "outputs": []
    },
    {
      "cell_type": "code",
      "source": [
        "!g++ temp.cpp; ./a.out "
      ],
      "metadata": {
        "id": "U3keP0ctUZKO"
      },
      "execution_count": null,
      "outputs": []
    },
    {
      "cell_type": "code",
      "source": [
        "# 再帰関数の実装例\n",
        "# AからBまでの総和を求める関数： sum_range\n",
        "%%writefile temp.cpp\n",
        "#include <bits/stdc++.h>\n",
        "using namespace std;\n",
        "\n",
        "// a ~ bの総和を計算する (a ≦ b)という前提\n",
        "int sum_range(int a, int b) {\n",
        "  // ベースケース\n",
        "  if (a == b) {\n",
        "    return a;\n",
        "  }\n",
        "  // 再帰ステップ\n",
        "  return sum_range(a, b - 1) + b;  //「a~bの総和」=「a~(b-1)の総和」+ b\n",
        "}\n",
        "\n",
        "int main() {\n",
        "  cout << sum_range(0, 4) << endl; // 0 + 1 + 2 + 3 + 4 = 10\n",
        "  cout << sum_range(5, 8) << endl; // 5 + 6 + 7 + 8 = 26\n",
        "}"
      ],
      "metadata": {
        "id": "KjfuMn43UXVB"
      },
      "execution_count": null,
      "outputs": []
    },
    {
      "cell_type": "code",
      "source": [
        "!g++ temp.cpp; ./a.out "
      ],
      "metadata": {
        "id": "0sZzxlwCXpYQ"
      },
      "execution_count": null,
      "outputs": []
    },
    {
      "cell_type": "code",
      "source": [
        "# 再帰関数の実装例\n",
        "# 配列の要素の総和： array_sum\n",
        "%%writefile temp.cpp\n",
        "#include <bits/stdc++.h>\n",
        "using namespace std;\n",
        "\n",
        "// (補助関数)\n",
        "// dataのi番目以降の要素の総和を計算する\n",
        "int array_sum_from_i(vector<int> &data, int i) {\n",
        "  // ベースケース\n",
        "  if (i == data.size()) {\n",
        "    return 0;  // 対象の要素がないので総和は0\n",
        "  }\n",
        "  // 再帰ステップ\n",
        "  int s = array_sum_from_i(data, i + 1);  // i+1番目以降の要素の総和\n",
        "  return data.at(i) + s;  // 「i番目以降の要素の総和」=「i番目の要素」+ s\n",
        "}\n",
        "\n",
        "// dataの全ての要素の総和を計算する\n",
        "int array_sum(vector<int> &data) {\n",
        "  return array_sum_from_i(data, 0);\n",
        "}\n",
        "\n",
        "int main() {\n",
        "  vector<int> a = {0, 3, 9, 1, 5};\n",
        "  cout << array_sum(a) << endl;   // 0 + 3 + 9 + 1 + 5 = 18\n",
        "}"
      ],
      "metadata": {
        "id": "EEwVnXdHXiNe"
      },
      "execution_count": null,
      "outputs": []
    },
    {
      "cell_type": "code",
      "source": [
        "!g++ temp.cpp; ./a.out "
      ],
      "metadata": {
        "id": "G6ddllKhYPEp"
      },
      "execution_count": null,
      "outputs": []
    },
    {
      "cell_type": "code",
      "source": [
        "# 再帰関数の実装例\n",
        "# Nが素数であるかを判定する関数 is_prime\n",
        "%%writefile temp.cpp\n",
        "#include <bits/stdc++.h>\n",
        "using namespace std;\n",
        "\n",
        "// i ~ N-1の範囲にNの約数が存在するか\n",
        "bool has_divisor(int N, int i) {\n",
        "  // ベースケース1\n",
        "  if (i == N) {\n",
        "    return false;\n",
        "  }\n",
        "  // ベースケース2\n",
        "  if (N % i == 0) {\n",
        "    // 実際にiはNの約数なので、i ~ N-1の範囲に約数が存在する\n",
        "    return true;\n",
        "  }\n",
        "\n",
        "  // 再帰ステップ\n",
        "  // i+1 ~ N-1の範囲の結果がi ~ N-1の範囲の結果となる\n",
        "  // (ベースケース2によって、iがNの約数の場合は取り除かれているので、あとはi+1 ~ N-1の範囲を調べればよい)\n",
        "  return has_divisor(N, i + 1);\n",
        "}\n",
        "\n",
        "bool is_prime(int N) {\n",
        "  if (N == 1) {\n",
        "    // 1は素数ではない\n",
        "    return false;\n",
        "  }\n",
        "  else if (N == 2) {\n",
        "    // 2は素数\n",
        "    return true;\n",
        "  }\n",
        "  else {\n",
        "    // 2~(N-1)の範囲に約数が無ければ、Nは素数\n",
        "    return !has_divisor(N, 2);\n",
        "  }\n",
        "}\n",
        "\n",
        "int main() {\n",
        "  cout << is_prime(1) << endl;  // 0\n",
        "  cout << is_prime(2) << endl;  // 1\n",
        "  cout << is_prime(12) << endl; // 0\n",
        "  cout << is_prime(13) << endl; // 1\n",
        "  cout << is_prime(57) << endl; // 0\n",
        "}"
      ],
      "metadata": {
        "id": "UzVrE343YI7m"
      },
      "execution_count": null,
      "outputs": []
    },
    {
      "cell_type": "code",
      "source": [
        "!g++ temp.cpp; ./a.out "
      ],
      "metadata": {
        "id": "RywaTwvrY8YU"
      },
      "execution_count": null,
      "outputs": []
    },
    {
      "cell_type": "code",
      "source": [
        "# 再帰関数の実装例\n",
        "# 配列の操作 reverse_array\n",
        "%%writefile temp.cpp\n",
        "#include <bits/stdc++.h>\n",
        "using namespace std;\n",
        "\n",
        "// dataのi番目以降の要素を逆順にした配列を返す\n",
        "vector<int> reverse_array_from_i(vector<int> &data, int i) {\n",
        "  // ベースケース\n",
        "  if (i == data.size()) {\n",
        "    vector<int> empty_array(0);  // 要素数0の配列\n",
        "    return empty_array;\n",
        "  }\n",
        "\n",
        "  // 再帰ステップ\n",
        "  vector<int> tmp = reverse_array_from_i(data, i + 1);  // dataのi+1番目以降の要素を逆順にした配列を得る\n",
        "  tmp.push_back(data.at(i));  // 末尾にdataのi番目の要素を追加\n",
        "  return tmp;\n",
        "}\n",
        "\n",
        "// 配列を逆順にしたものを返す\n",
        "vector<int> reverse_array(vector<int> &data) {\n",
        "  return reverse_array_from_i(data, 0);\n",
        "}\n",
        "\n",
        "int main() {\n",
        "  vector<int> a = {1, 2, 3, 4, 5};\n",
        "  vector<int> b = reverse_array(a);\n",
        "  for (int i = 0; i < b.size(); i++) {\n",
        "    cout << b.at(i) << endl;\n",
        "  }\n",
        "}"
      ],
      "metadata": {
        "id": "Jo8sitvhY6r9"
      },
      "execution_count": null,
      "outputs": []
    },
    {
      "cell_type": "code",
      "source": [
        "!g++ temp.cpp; ./a.out "
      ],
      "metadata": {
        "id": "EkRYz3I9BRFX"
      },
      "execution_count": null,
      "outputs": []
    },
    {
      "cell_type": "code",
      "source": [
        "# 再帰関数の例題\n",
        "# APG4b 2.05.再帰関数 例題 from APG4b\n",
        "# 報告書の伝達時間\n",
        "# あなたはA社を経営する社長です。 A社はN個の組織からなり、\n",
        "# それぞれに0番からN−1番の番号が付いています。 0番の番号が付いた組織はトップの組織です。\n",
        "# 組織間には親子関係があり、0番以外のN−1個の組織には必ず1つの親組織があります。 \n",
        "# 子組織は複数になることがあります。 また、それぞれの組織は直接的または間接的にト\n",
        "# ップの組織と関係があるものとします。\n",
        "# あなたは全ての組織に報告書を提出するように求めました。\n",
        "# 混雑を避けるために、\n",
        "# 「各組織は子組織の報告書がそろったら、自身の報告書を加えて親組織に送る」\n",
        "# ことを繰り返します。 子組織が無いような組織は自身の報告書だけをすぐに親組織に送ります。\n",
        "# ある組織から報告書を送ってから、その親組織が受け取るときにかかる時間を1分とします。\n",
        "# あるタイミングで一斉に報告書の伝達を開始したときに、\n",
        "# トップの組織の元に全ての組織の報告書が揃う時刻（伝達を始めてから何分後か）\n",
        "# を求めてください。 \n",
        "# 入力例 6 0 0 1 1 4 #=> 3\n",
        "# この入力例では、組織は次のような関係になっています。\n",
        "# 1番の組織の親組織は0番\n",
        "# 2番の組織の親組織は0番\n",
        "# 3番の組織の親組織は1番\n",
        "# 4番の組織の親組織は1番\n",
        "# 5番の組織の親組織は4番\n",
        "%%writefile temp.cpp\n",
        "#include <bits/stdc++.h>\n",
        "using namespace std;\n",
        " \n",
        "// x番の組織について、子組織からの報告書が揃った時刻を返す\n",
        "// childrenは組織の関係を表す2次元配列(参照渡し)\n",
        "int complete_time(vector<vector<int>> &children, int x) {\n",
        "  // (ここに追記して再帰関数を実装する)\n",
        "  // ベースケース\n",
        "  if (children.at(x).size() == 0) {\n",
        "    return 0;  // 子組織が無いような組織について、報告書が揃う時刻は0\n",
        "  }\n",
        " \n",
        "  // 再帰ステップ\n",
        "  int max_receive_time = 0;  // 受け取った時刻の最大値\n",
        "  // x番の組織の子組織についてループ\n",
        "  for (int c : children.at(x)) {\n",
        " \n",
        "    // (子組織 c のもとに揃った時刻 + 1) の時刻に c からの報告書を受け取る\n",
        "    int receive_time = complete_time(children, c) + 1;\n",
        " \n",
        "    // 受け取った時刻の最大値 = 揃った時刻 なので最大値を求める\n",
        "    max_receive_time = max(max_receive_time, receive_time);\n",
        "  }\n",
        "  return max_receive_time;\n",
        "}\n",
        " \n",
        "// これ以降の行は変更しなくてよい\n",
        " \n",
        "int main() {\n",
        "  int N;\n",
        "  cin >> N;\n",
        " \n",
        "  vector<int> p(N);  // 各組織の親組織を示す配列\n",
        "  p.at(0) = -1;  // 0番組織の親組織は存在しないので-1を入れておく\n",
        "  for (int i = 1; i < N; i++) {\n",
        "    cin >> p.at(i);\n",
        "  }\n",
        " \n",
        "  // 組織の関係から2次元配列を作る(理解しなくてもよい)\n",
        "  vector<vector<int>> children(N);  // ある組織の子組織の番号一覧  // N×0の二次元配列\n",
        "  for (int i = 1; i < N; i++) {\n",
        "    int parent = p.at(i);  // i番の親組織の番号\n",
        "    children.at(parent).push_back(i);  // parentの子組織一覧にi番を追加\n",
        "  }\n",
        " \n",
        "  // 0番の組織の元に報告書が揃う時刻を求める\n",
        "  cout << complete_time(children, 0) << endl;\n",
        "}"
      ],
      "metadata": {
        "id": "smrmWPr5BKyJ"
      },
      "execution_count": null,
      "outputs": []
    },
    {
      "cell_type": "code",
      "source": [
        "!g++ temp.cpp; echo 6 0 0 1 1 4 |./temp "
      ],
      "metadata": {
        "id": "jgYQjqyayaMx"
      },
      "execution_count": null,
      "outputs": []
    },
    {
      "cell_type": "code",
      "source": [
        "# 例題\n",
        "%%writefile temp.cpp\n",
        "// 0からnまでの総和を計算し、途中結果を出力する\n",
        "#include <bits/stdc++.h>\n",
        "using namespace std;\n",
        " \n",
        "// 0からnまでの総和を計算し、途中結果を出力する\n",
        "int sum(int n) {\n",
        "  // ベースケースが実装されていないので止まらない！ => 直す\n",
        "  if (n == 0) return 0;\n",
        "  // 再帰ステップ\n",
        "  int result = sum(n - 1) + n;\n",
        "  cout << \"sum(\" << n << \") = \" << result << endl;  // 途中結果を出力する\n",
        "  return result;\n",
        "}\n",
        "int main() {\n",
        "  // 無限に再帰呼び出しが起こる\n",
        "  cout << sum(15) << endl;\n",
        "}"
      ],
      "metadata": {
        "id": "9T5A3m0XyWlQ"
      },
      "execution_count": null,
      "outputs": []
    },
    {
      "cell_type": "code",
      "source": [
        "!g++ temp.cpp; ./a.out "
      ],
      "metadata": {
        "id": "dKaC71EE2M19"
      },
      "execution_count": null,
      "outputs": []
    },
    {
      "cell_type": "code",
      "source": [
        "# 相互再帰\n",
        "# 相互再帰では、「その関数の後ろで定義される別の関数」を呼び出すことになるので、\n",
        "# プロトタイプ宣言が必須です。 \n",
        "%%writefile temp.cpp\n",
        "#include <bits/stdc++.h>\n",
        "using namespace std;\n",
        " \n",
        "// プロトタイプ宣言 (1.15.関数「細かい話」を参照)\n",
        "bool is_even(int);\n",
        "bool is_odd(int);\n",
        " \n",
        "// nが偶数かを判定する\n",
        "bool is_even(int n) {\n",
        "  // ベースケース\n",
        "  if (n == 0) {\n",
        "    return true;\n",
        "  }\n",
        "  // 再帰ステップ\n",
        "  return is_odd(n - 1);  // n-1 が奇数なら、nは偶数\n",
        "}\n",
        "// nが奇数かを判定する\n",
        "bool is_odd(int n) {\n",
        "  // ベースケース\n",
        "  if (n == 0) {\n",
        "    return false;\n",
        "  }\n",
        "  // 再帰ステップ\n",
        "  return is_even(n - 1);  // n-1 が偶数なら、nは奇数\n",
        "}\n",
        " \n",
        "int main() {\n",
        "  cout << is_even(4) << endl;  // 1\n",
        "  cout << is_odd(5) << endl;   // 1\n",
        "  cout << is_even(3) << endl;  // 0\n",
        "}"
      ],
      "metadata": {
        "id": "oy5DXOew2AMd"
      },
      "execution_count": null,
      "outputs": []
    },
    {
      "cell_type": "code",
      "source": [
        "!g++ temp.cpp; ./a.out "
      ],
      "metadata": {
        "id": "oAaCSFoE23Vv"
      },
      "execution_count": null,
      "outputs": []
    },
    {
      "cell_type": "code",
      "source": [
        "# 再帰関数\n",
        "# 発展的な例\n",
        "# 途中で出力する例\n",
        "# 次のプログラム再帰関数 `func`は、「引数のnを1減らして再帰呼出しをn=0になるまで行い、\n",
        "# 呼び出し履歴を出力する」関数です。 少し複雑ですが、どのように実行されるかを追ってみてください。\n",
        "%%writefile temp.cpp\n",
        "#include <bits/stdc++.h>\n",
        "using namespace std;\n",
        "\n",
        "// num個分のスペースからなる文字列を返す (字下げに用いる)\n",
        "string space(int num) {\n",
        "  string ret = \"\";\n",
        "  for (int i = 0; i < num; i++) {\n",
        "    ret += \" \";\n",
        "  }\n",
        "  return ret;\n",
        "}\n",
        "\n",
        "// 呼び出しの深さに応じて字下げし、関数の開始時点であるというメッセージを出力\n",
        "void print_in(int n, int depth) {\n",
        "  cout << space(depth * 4) << \"func(\" << n << \", \" << depth << \") in\" << endl;\n",
        "}\n",
        "\n",
        "// 呼び出しの深さに応じて字下げし、関数の終了時点であるというメッセージを出力\n",
        "void print_out(int n, int depth) {\n",
        "  cout << space(depth * 4) << \"func(\" << n << \", \" << depth << \") out\" << endl;\n",
        "}\n",
        "\n",
        "// n: 何回の再帰呼出しを行うか\n",
        "// depth: 呼び出しの深さ(何回目の再帰呼び出しか)\n",
        "void func(int n, int depth) {\n",
        "  // ベースケース\n",
        "  if (n == 0) {\n",
        "    print_in(n, depth);   // 開始\n",
        "    print_out(n, depth);  // 終了\n",
        "    return;\n",
        "  }\n",
        "\n",
        "  // 再帰ステップ\n",
        "  print_in(n, depth);  // 開始\n",
        "  func(n - 1, depth + 1);  // 残り回数を1減らし、呼び出しの深さを1増やす\n",
        "  print_out(n, depth); // 終了\n",
        "}\n",
        "\n",
        "int main() {\n",
        "  func(3, 0);  // 3回の再帰呼び出しを行う, 初めの深さを0とする\n",
        "}"
      ],
      "metadata": {
        "id": "SKj9GAqo217t"
      },
      "execution_count": null,
      "outputs": []
    },
    {
      "cell_type": "code",
      "source": [
        "!g++ temp.cpp; ./a.out "
      ],
      "metadata": {
        "id": "2qagdvX66evS"
      },
      "execution_count": null,
      "outputs": []
    },
    {
      "cell_type": "code",
      "source": [
        "# 再帰関数\n",
        "# 発展的な例\n",
        "# 引数の配列を変化させる例\n",
        "# 例題 グリッド上の迷路の探索 N×Nマスのマス目があります。 \n",
        "# 上からi行目、左からj列目のマスを (i−1,j−1) と表すことにします。 \n",
        "# マス目を迷路に見立ててスタート地点から移動を始め、\n",
        "# ゴールに到達することができるかを判定するプログラムを作成してください。 \n",
        "# スタートは (0,0) でゴールは(N−1,N−1)とします。 マス目には２種類あり、\n",
        "# それぞれのマス目はどちらかの種類です。 \n",
        "# - 壁マス：そのマスに移動することはできない \n",
        "# - 通路マス：そのマスに移動することができる \n",
        "# 初めプレイヤーは(0,0)にいます。(0,0)、(N−1,N−1) は必ず通路マスであるとします。 \n",
        "# プレイヤーは今いるマスの上下左右の4方向に隣合うマスのうち、\n",
        "# 通路マスであるようなマスに移動することができます。 \n",
        "# 斜めに移動したり、壁マスの中に移動したりすることはできません。\n",
        "# また、N×Nマスの範囲外へ移動することもできません。 \n",
        "# 移動を繰り返すことでゴールマスである(N−1,N−1)に到達することができるなら`Yes`を、\n",
        "# そうでないなら`No`を出力するプログラムを作成してください。 \n",
        "# 各マスがどちらの種類であるかは文字列の配列として入力され、`.` は通路マスを表し、\n",
        "# `#`は壁マスを表すとします。 一行目に迷路の大きさNが入力され、2行目以降に迷路のマス目が入力されます。\n",
        "%%writefile temp.cpp\n",
        "#include <bits/stdc++.h>\n",
        "using namespace std;\n",
        "\n",
        "// 正しい移動かを調べる (y, x)が移動先\n",
        "bool is_valid_move(vector<string> &board, vector<vector<bool>> &checked, int x, int y) {\n",
        "  int N = board.size();\n",
        "\n",
        "  // 移動先がマス目の外である場合\n",
        "  if (x <= -1 || x >= N || y <= -1 || y >= N) {\n",
        "    return false;\n",
        "  }\n",
        "  // 移動先が壁マス\n",
        "  if (board.at(y).at(x) == '#') {\n",
        "    return false;\n",
        "  }\n",
        "  // 既に調べているマスへの移動は調べないのでfalseを返す\n",
        "  if (checked.at(y).at(x)) {\n",
        "    return false;\n",
        "  }\n",
        "\n",
        "  // それ以外なら正しい移動\n",
        "  return true;\n",
        "}\n",
        "\n",
        "// (y, x)にいる状態からゴールに到達できるか\n",
        "// board: マス目の種類\n",
        "// checked: そのマスを既に調べたかを持つ二次元配列\n",
        "bool reachable(vector<string> &board, vector<vector<bool>> &checked, int x, int y) {\n",
        "  int N = board.size();\n",
        "\n",
        "  // ベースケース\n",
        "  if (x == N - 1 && y == N - 1) {\n",
        "    // ゴールにいる状態\n",
        "    return true;\n",
        "  }\n",
        "\n",
        "  // 再帰ステップ\n",
        "\n",
        "  checked.at(y).at(x) = true;  // 既に調べているという状態に変えておく\n",
        "\n",
        "  // 「上」「右」「下」「左」のいずれかの移動でゴールに到達できるか？\n",
        "  bool result = false;\n",
        "\n",
        "  // 上へ移動したマスからゴールに到達できるか？\n",
        "  if (is_valid_move(board, checked, x, y - 1) && reachable(board, checked, x, y - 1)) {\n",
        "    result = true;\n",
        "  }\n",
        "  // 右へ移動したマスからゴールに到達できるか？\n",
        "  if (is_valid_move(board, checked, x + 1, y) && reachable(board, checked, x + 1, y)) {\n",
        "    result = true;\n",
        "  }\n",
        "  // 下へ移動したマスからゴールに到達できるか？\n",
        "  if (is_valid_move(board, checked, x, y + 1) && reachable(board, checked, x, y + 1)) {\n",
        "    result = true;\n",
        "  }\n",
        "  // 左へ移動したマスからゴールに到達できるか？\n",
        "  if (is_valid_move(board, checked, x - 1, y) && reachable(board, checked, x - 1, y)) {\n",
        "    result = true;\n",
        "  }\n",
        "\n",
        "  return result;\n",
        "}\n",
        "\n",
        "int main() {\n",
        "  int N;\n",
        "  cin >> N;\n",
        "  // マス目の状態を受け取る\n",
        "  vector<string> board(N);\n",
        "  for (int i = 0; i < N; i++) {\n",
        "    cin >> board.at(i);\n",
        "  }\n",
        "\n",
        "  // 既にそのマスを調べたかを保持する二次元配列\n",
        "  vector<vector<bool>> checked(N, vector<bool>(N, false));  // false(まだ調べていない)で初期化しておく\n",
        "\n",
        "  // (0, 0) からゴールまで到達できるか？\n",
        "  if (reachable(board, checked, 0, 0)) {\n",
        "    cout << \"Yes\" << endl;\n",
        "  }\n",
        "    else {\n",
        "    cout << \"No\" << endl;\n",
        "  }\n",
        "}\n",
        "\n"
      ],
      "metadata": {
        "id": "hBJPJiAM6TSo"
      },
      "execution_count": null,
      "outputs": []
    },
    {
      "cell_type": "code",
      "source": [
        "!g++ temp.cpp; echo \"3 .## ... ##.\"  |./temp #=> Yes\n",
        "!g++ temp.cpp; echo \"4 .### .### .### #...\"  |./temp #=> No\n",
        "!g++ temp.cpp; echo \"3 ... ##. ##.\"  |./temp #=> Yes\n",
        "!g++ temp.cpp; echo \"5 ....# ...#. ..#.. .#... #....\"  |./temp #=> No\n",
        "!g++ temp.cpp; echo \"10 ..#.#..### .###.#.##. .##....#.. .##..#.... ....#.##.. #####..... ##.#.###.# #..#.##..# ...####.## #.#.###...\" |./temp #=> Yes"
      ],
      "metadata": {
        "id": "nw7vHO_86hXc"
      },
      "execution_count": null,
      "outputs": []
    },
    {
      "cell_type": "code",
      "source": [
        "# 問題\n",
        "# EX20.報告書の枚数\n",
        "# あなたはA社を経営する社長です。 \n",
        "# A社はN個の組織からなり、それぞれに0番からN−1番の番号が付いています。 \n",
        "# 0番の番号が付いた組織はトップの組織です。\n",
        "# 組織間には親子関係があり、0番以外のN−1個の組織には必ず1つの親組織があります。 \n",
        "# 子組織は複数になることがあります。 また、それぞれの組織は直接的または間接的に\n",
        "# トップの組織と関係があるものとします。\n",
        "# あなたは全ての組織に報告書を提出するように求めました。 混雑を避けるために、\n",
        "# 「各組織は子組織の報告書がそろったら、自身の報告書を加えて親組織に渡す」ことを繰り返します。 \n",
        "# 子組織が無いような組織はすぐに親組織に報告書を渡します。 \n",
        "# トップの組織は子組織の報告書がそろったら、自身の報告書を加えて社長に提出します。\n",
        "# それぞれの組織が1枚の報告書を提出します。\n",
        "# 各組織について、「その組織が親組織に提出することになる報告書の枚数」\n",
        "# を出力するプログラムを作成してください。 ただしトップの組織については「\n",
        "# 社長に提出する報告書の枚数」を出力してください。\n",
        "%%writefile temp.cpp\n",
        "#include <bits/stdc++.h>\n",
        "using namespace std;\n",
        "\n",
        "// x番の組織が親組織に提出する枚数を返す\n",
        "// childrenは組織の関係を表す2次元配列(参照渡し)\n",
        "int count_report_num(vector<vector<int>> &children, int x) {\n",
        "  // ベースケース\n",
        "  if (children.at(x).size() == 0) {\n",
        "    // 子組織から受け取ることは無いので1枚であることが確定している\n",
        "    return 1;\n",
        "  }\n",
        "\n",
        "  // 再帰ステップ\n",
        "  int sum = 0;\n",
        "  for (int c : children.at(x)) {\n",
        "    sum += count_report_num(children, c);\n",
        "  }\n",
        "  sum += 1;  // x番の組織の報告書の枚数(1枚)を足す\n",
        "  return sum;\n",
        "}\n",
        "\n",
        "// これ以降の行は変更しなくてよい\n",
        "\n",
        "int main() {\n",
        "  int N;\n",
        "  cin >> N;\n",
        "\n",
        "  vector<int> p(N);  // 各組織の親組織を示す配列\n",
        "  p.at(0) = -1;  // 0番組織の親組織は存在しないので-1を入れておく\n",
        "  for (int i = 1; i < N; i++) {\n",
        "    cin >> p.at(i);\n",
        "  }\n",
        "\n",
        "  // 組織の関係から2次元配列を作る\n",
        "  vector<vector<int>> children(N);  // ある組織の子組織の番号一覧\n",
        "  for (int i = 1; i < N; i++) {\n",
        "    int parent = p.at(i);  // i番の親組織の番号\n",
        "    children.at(parent).push_back(i);  // parentの子組織一覧にi番を追加\n",
        "  }\n",
        "\n",
        "  // 各組織について、答えを出力\n",
        "  for (int i = 0; i < N; i++) {\n",
        "    cout << count_report_num(children, i) << endl;\n",
        "  }\n",
        "}\n"
      ],
      "metadata": {
        "id": "_-HnwjYy62LY"
      },
      "execution_count": null,
      "outputs": []
    },
    {
      "cell_type": "code",
      "source": [
        "!g++ temp.cpp; echo 6 0 0 1 1 4 |./temp #=> 6 4 1 1 2 1\n",
        "!echo\n",
        "!g++ temp.cpp; echo 8 0 0 1 2 0 3 6 |./temp #=> 8 4 2 3 1 1 2 1"
      ],
      "metadata": {
        "id": "h51XrbTp76o6"
      },
      "execution_count": null,
      "outputs": []
    },
    {
      "cell_type": "code",
      "source": [
        "# 問題\n",
        "# ARC031 B - 埋め立て\n",
        "# とある所に島国がありました。島国にはいくつかの島があります。このたび、この島国で\n",
        "# 埋め立て計画が立案されたのですが、どこを埋め立てるか決まっていません。\n",
        "# できることなら埋め立てによって島を繋いで、1 つの島にしてしまいたいのですが、\n",
        "# たくさん埋め立てるわけにもいきません。10 マス × 10 マスのこの島国の地図が与えられるので、\n",
        "# 1 マスを埋め立てた時に 1 つの島にできるか判定してください。ただし、\n",
        "# 地図で陸地を表すマスが上下左右につながっている領域のことを島と呼びます。\n",
        "# 島国の地図が 10 行にわたって与えられる。\n",
        "# 各行は 10 文字からなり、o は陸地を、x は海を表す。\n",
        "# 少なくとも 1 マスは陸地があることが保証される。\n",
        "# 少なくとも 1 マスは海があることが保証される。\n",
        "# 海を 1 マスだけ陸地にすることで全体を 1 つの島にできるなら YES 、できないなら NO を出力せよ。\n",
        "# 出力の末尾には改行をつけること。ただし、元から 1 つの島だった場合も YES を出力せよ。\n",
        "%%writefile temp.cpp\n",
        "#include <bits/stdc++.h>\n",
        "using namespace std;\n",
        "\n",
        "// (y, x)から到達できるすべての陸地マスのcheckedをtrueにする\n",
        "void fill_island(vector<vector<char>> &board, vector<vector<bool>> &checked, int y, int x) {\n",
        "  if (y < 0 || x < 0 || y >= 10 || x >= 10) return;\n",
        "  if (board.at(y).at(x) == 'x') return;\n",
        "  if (checked.at(y).at(x)) return;\n",
        "\n",
        "  checked.at(y).at(x) = true;  // 既に調べているという状態に変えておく\n",
        "  fill_island(board, checked, y - 1, x    );  // 上\n",
        "  fill_island(board, checked, y    , x + 1);  // 右\n",
        "  fill_island(board, checked, y + 1, x    );  // 下\n",
        "  fill_island(board, checked, y    , x - 1);  // 左\n",
        "}\n",
        "\n",
        "bool check_connected(vector<vector<char>> &board) {\n",
        "  vector<vector<bool>> checked(10, vector<bool>(10, false));\n",
        "\n",
        "  // 陸地マスを1つ探す\n",
        "  int y, x;\n",
        "  for (int i = 0; i < 10; i++) {\n",
        "    for (int j = 0; j < 10; j++) {\n",
        "      if (board.at(i).at(j) == 'o') {\n",
        "        y = i;\n",
        "        x = j;\n",
        "        break;\n",
        "      }\n",
        "    }\n",
        "  }\n",
        "  /* 引数： 盤面, チェック二次元配列, y座標, x座標*/\n",
        "  fill_island(board, checked, y, x);  // (y, x)から到達できるすべての陸地マスのcheckedをtrueにする\n",
        "\n",
        "  bool ok = true;\n",
        "  for (int i = 0; i < 10; i++) {\n",
        "    for (int j = 0; j < 10; j++) {\n",
        "      if (board.at(i).at(j) == 'o') {\n",
        "        if (!checked.at(i).at(j)) {\n",
        "          // 到達できていない陸地マスがある\n",
        "          ok = false;\n",
        "        }\n",
        "      }\n",
        "    }\n",
        "  }\n",
        "\n",
        "  // ok == true なら全ての陸地マスは繋がっている\n",
        "  return ok;\n",
        "}\n",
        "\n",
        "int main() {\n",
        "  vector<vector<char>> board(10, vector<char>(10));\n",
        "  for (int i = 0; i < 10; i++) {\n",
        "    for (int j = 0; j < 10; j++) {\n",
        "      cin >> board.at(i).at(j);\n",
        "    }\n",
        "  }\n",
        "\n",
        "  for (int y = 0; y < 10; y++) {\n",
        "    for (int x = 0; x < 10; x++) {\n",
        "      if (board.at(y).at(x) == 'o') continue;\n",
        "      // (y, x)は海のマス\n",
        "      // ここを埋め立てたと仮定して、島が1つになるかを判定\n",
        "\n",
        "      board.at(y).at(x) = 'o';  // 埋め立てたと仮定する\n",
        "\n",
        "      if (check_connected(board)) {\n",
        "        cout << \"YES\" << endl;\n",
        "        return 0;\n",
        "      }\n",
        "\n",
        "      board.at(y).at(x) = 'x';  // 戻す\n",
        "    }\n",
        "  }\n",
        "\n",
        "  cout << \"NO\" << endl;\n",
        "}"
      ],
      "metadata": {
        "id": "-qv1pxmF7e6O"
      },
      "execution_count": null,
      "outputs": []
    },
    {
      "cell_type": "code",
      "source": [
        "!g++ temp.cpp; echo xxxxxxxxxx xoooooooxx xxoooooxxx xxxoooxxxx xxxxoxxxxx xxxxxxxxxx xxxxoxxxxx xxxoooxxxx xxoooooxxx xxxxxxxxxx |./temp \n",
        "#=> YES\n",
        "!g++ temp.cpp; echo xxxxxxxxxx xoooooooxx xxoooooxxx xxxoooxxxx xxxxxxxxxx xxxxxxxxxx xxxxxxxxxx xxxoooxxxx xxoooooxxx xxxxxxxxxx |./temp \n",
        "#=> NO\n",
        "!g++ temp.cpp; echo xxxxoxxxxx xxxxoxxxxx xxxxoxxxxx xxxxoxxxxx ooooxooooo xxxxoxxxxx xxxxoxxxxx xxxxoxxxxx xxxxoxxxxx xxxxoxxxxx |./temp \n",
        "#=> YES"
      ],
      "metadata": {
        "id": "22lPNWE49vVT"
      },
      "execution_count": null,
      "outputs": []
    },
    {
      "cell_type": "code",
      "source": [
        "# 問題\n",
        "# ATC001 A - 深さ優先探索\n",
        "# これ以降の問題は例題で扱った問題とは少し異なっています。 \n",
        "# 3.05.ビット演算で説明しているビット全探索を用いることで、再帰関数無しで解くこともできます。\n",
        "# 高橋君の住む街は長方形の形をしており、格子状の区画に区切られています。 \n",
        "# 長方形の各辺は東西及び南北に並行です。 各区画は道または塀のどちらかであり、\n",
        "# 高橋君は道を東西南北に移動できますが斜めには移動できません。 \n",
        "# また、塀の区画は通ることができません。\n",
        "# 高橋君が、塀を壊したりすることなく道を通って魚屋にたどり着けるかどうか判定してください。\n",
        "# %%writefile temp.cpp\n",
        "# 1 行目には、街の南北の長さとして整数 H(1≦H≦500) と東西の長さとして整数 W(1≦W≦500) が\n",
        "# 空白で区切られて与えられる。\n",
        "# 2 行目からの H 行には、格子状の街の各区画における状態 c_i,j\n",
        "# i 行目 j 文字目の文字 c_i,j はそれぞれ s, g, ., # のいずれかで与えられ、\n",
        "# 座標 (j,i) が下記のような状態であることを表す。\n",
        "# s : その区画が家であることを表す。\n",
        "# g : その区画が魚屋であることを表す。\n",
        "# . : その区画が道であることを表す。\n",
        "# # : その区画が塀であることを表す。\n",
        "# 高橋君は家・魚屋・道は通ることができるが、塀は通ることができない。\n",
        "# 塀を 1 回も壊さずに、家から魚屋まで辿り着くことができる場合は Yes、辿りつけない場合は No \n",
        "# を標準出力に 1 行で出力せよ。\n",
        "%%writefile temp.cpp\n",
        "#include <bits/stdc++.h>\n",
        "using namespace std;\n",
        "\n",
        "int h,w;\n",
        "bool ans = false;\n",
        "vector<string> maze(500,\"\");\n",
        "vector<vector<bool>> reached(500,vector<bool>(500));\n",
        "\n",
        "void dfs(int x,int y){\n",
        "\n",
        "    if( ans ) return ;\n",
        "    reached.at(y).at(x) = true;\n",
        "    if( maze.at(y).at(x) == 'g' ) {\n",
        "        ans = true;\n",
        "        return ;\n",
        "    }\n",
        "\n",
        "    if( 0 < y ) if( maze.at(y-1).at(x) != '#' && !reached.at(y-1).at(x) ) dfs(x,y-1);\n",
        "    if( y+1 < h ) if( maze.at(y+1).at(x) != '#' && !reached.at(y+1).at(x) ) dfs(x,y+1);\n",
        "    if( 0 < x ) if( maze.at(y).at(x-1) != '#' && !reached.at(y).at(x-1) ) dfs(x-1,y);\n",
        "    if( x+1 < w ) if( maze.at(y).at(x+1) != '#' && !reached.at(y).at(x+1) ) dfs(x+1,y);\n",
        "}\n",
        "\n",
        "int main() {\n",
        "\n",
        "    int start_x,start_y;\n",
        "\n",
        "    cin >> h >> w;\n",
        "    for(int i=0; i<h; i++) {\n",
        "        cin >> maze.at(i);\n",
        "        for(int j=0; j<w; j++) {\n",
        "\n",
        "            if(maze.at(i).at(j) == 's') {\n",
        "                start_x = j;\n",
        "                start_y = i;\n",
        "            }\n",
        "\n",
        "        }\n",
        "    }\n",
        "\n",
        "    dfs(start_x,start_y);\n",
        "\n",
        "    cout << ( ans ? \"Yes\":\"No\" ) << endl;\n",
        "}"
      ],
      "metadata": {
        "id": "jGIpWJ3x_M0d"
      },
      "execution_count": null,
      "outputs": []
    },
    {
      "cell_type": "code",
      "source": [
        "!g++ temp.cpp; echo \"4 5 s#### ....# ##### #...g\" |./temp \n",
        "#=> No\n",
        "!g++ temp.cpp; echo \"4 4 ...s .... .... .g..\" |./temp \n",
        "#=> Yes\n",
        "!g++ temp.cpp; echo \"10 10 s......... #########. #.......#. #..####.#. ##....#.#. #####.#.#. g.#.#.#.#. #.#.#.#.#. ###.#.#.#. #.....#...\" |./temp \n",
        "#=> No\n",
        "!g++ temp.cpp; echo \"10 10 s......... #########. #.......#. #..####.#. ##....#.#. #####.#.#. g.#.#.#.#. #.#.#.#.#. #.#.#.#.#. #.....#...\"  |./temp \n",
        "#=> Yes\n",
        "!g++ temp.cpp; echo \"1 10 s..####..g\" |./temp\n",
        "#=> No"
      ],
      "metadata": {
        "id": "dLuO0RG3_MsH"
      },
      "execution_count": null,
      "outputs": []
    },
    {
      "cell_type": "code",
      "source": [
        "# 問題\n",
        "# ARC061 C - たくさんの数式 / Many Formulas を再帰で解く\n",
        "# 1 以上 9 以下の数字のみからなる文字列 S が与えられます。 この文字列の中で、\n",
        "# あなたはこれら文字と文字の間のうち、いくつかの場所に + を入れることができます。\n",
        "#  一つも入れなくてもかまいません。 ただし、+ が連続してはいけません。\n",
        "# このようにして出来る全ての文字列を数式とみなし、和を計算することができます。\n",
        "# ありうる全ての数式の値を計算し、その合計を出力してください。\n",
        "# ありうる全ての数式の値の総和を 1 行に出力せよ。\n",
        "%%writefile temp.cpp\n",
        "#include <bits/stdc++.h>\n",
        "using namespace std;\n",
        "#define REP(i,n) for(int i=0; i<(n); i++)\n",
        "\n",
        "long long value(int bit);\n",
        "\n",
        "string s;\n",
        "int n;\n",
        "\n",
        "int main(){\n",
        "    cin>>s;\n",
        "    n=s.size()-1;   // '+'が入るスペースの数\n",
        "    long long sum=0; \n",
        "\n",
        "    for(int bit=0; bit<(1<<n); bit++){\n",
        "        sum+=value(bit);\n",
        "    }\n",
        "\n",
        "    cout<<sum<<endl;\n",
        "}\n",
        "\n",
        "long long value(int bit){\n",
        "    long long v=0;\n",
        "    // 0文字目\n",
        "    string c=s.substr(0,1);\n",
        "\n",
        "    REP(i,n){  \n",
        "        // i番目が'+'なら\n",
        "        if(bit&(1<<i)){\n",
        "            v+=stoll(c);\n",
        "            c.clear();\n",
        "            c=s.substr(i+1,1);\n",
        "        // そうでないなら\n",
        "        }else{\n",
        "            c+=s.substr(i+1,1);\n",
        "        }\n",
        "    }\n",
        "    // 最後に残っている部分を足す\n",
        "    v+=stoll(c);\n",
        "    \n",
        "    return v;\n",
        "}"
      ],
      "metadata": {
        "id": "A0KYyNRIEjIP"
      },
      "execution_count": null,
      "outputs": []
    },
    {
      "cell_type": "code",
      "source": [
        "!g++ temp.cpp; echo 125 |./temp #=> 176\n",
        "!g++ temp.cpp; echo 9999999999 |./temp #=> 12656242944"
      ],
      "metadata": {
        "id": "vX02fVezEjAV"
      },
      "execution_count": null,
      "outputs": []
    },
    {
      "cell_type": "code",
      "source": [
        "# 問題\n",
        "# ABC079 C - Train Ticket\n",
        "# 駅の待合室に座っているjoisinoお姉ちゃんは、切符を眺めています。\n",
        "# 切符には 4 つの 0 以上 9 以下の整数 A,B,C,D が整理番号としてこの順に書かれています。\n",
        "# A op1 B op2 C op3 D = 7 となるように、op1,op2,op3 に + か - を入れて式を作って下さい。\n",
        "# なお、答えが存在しない入力は与えられず、また答えが複数存在する場合はどれを出力してもよいものとします。\n",
        "# 作った式を、=7 の部分を含めて出力せよ。\n",
        "%%writefile temp.cpp\n",
        "#include <bits/stdc++.h>\n",
        "using namespace std;\n",
        "\n",
        "int main() {\n",
        "  int abcd;\n",
        "  cin >> abcd;\n",
        "  vector<int> ticket(4);\n",
        "\n",
        "  for(int i = 3; i > -1; i--){\n",
        "    ticket[i] = (abcd%10); // 1桁取り出していく\n",
        "    abcd /= 10;\n",
        "  }\n",
        "\n",
        "  for(int bit = 0; bit < (1 << 3); bit++){\n",
        "    int ans = ticket[0];\n",
        "\n",
        "    for(int idx = 0; idx < 3; idx++){\n",
        "      if(bit & (1 << idx)) ans += ticket[idx + 1];\n",
        "\n",
        "      else ans -= ticket[idx + 1];\n",
        "    }\n",
        "\n",
        "    if(ans == 7){\n",
        "      cout << ticket[0];\n",
        "\n",
        "      for(int idx = 0; idx < 3; idx++){\n",
        "        if(bit & (1 << idx)) cout << '+';\n",
        "        else cout << '-';\n",
        "\n",
        "        cout << ticket[idx + 1];\n",
        "      }\n",
        "\n",
        "      cout << \"=7\" << endl;\n",
        "      break;\n",
        "    }\n",
        "  }\n",
        "}"
      ],
      "metadata": {
        "id": "XW5cTwa4I69f"
      },
      "execution_count": null,
      "outputs": []
    },
    {
      "cell_type": "code",
      "source": [
        "!g++ temp.cpp; echo 1222 |./temp #=> 1+2+2+2=7\n",
        "!g++ temp.cpp; echo 0290 |./temp #=> 0-2+9+0=7\n",
        "!g++ temp.cpp; echo 3242 |./temp #=> 3+2+4-2=7"
      ],
      "metadata": {
        "id": "Ovb4sLubI62o"
      },
      "execution_count": null,
      "outputs": []
    },
    {
      "cell_type": "code",
      "source": [
        "# 未解決問題 => ネットで見つけたこの解答例ではサンプルが通らない\n",
        "# bit探索での解答例はあるのだが、再帰の解答が見つからない\n",
        "# ABC104 C - All Green\n",
        "# プログラミングコンペティションサイト AtCode は、アルゴリズムの問題集を提供しています。 \n",
        "# それぞれの問題には、難易度に応じて点数が付けられています。 \n",
        "# 現在、1 以上 D 以下のそれぞれの整数 i に対して、100_i 点を付けられた問題が p_i\n",
        "# AtCode のユーザーは 総合スコア と呼ばれる値を持ちます。 ユーザーの総合スコアは、\n",
        "# 以下の 2 つの要素の和です。\n",
        "# 基本スコア: ユーザーが解いた問題すべての配点の合計です。\n",
        "# コンプリートボーナス: 100i 点を付けられた p_i 問の問題すべてを解いたユーザーは、\n",
        "# 基本スコアと別にコンプリートボーナス c_i 点を獲得します (1≤i≤D)。\n",
        "# AtCode の新たなユーザーとなった高橋くんは、まだ問題を 1 問も解いていません。 \n",
        "# 彼の目標は、総合スコアを G 点以上にすることです。 \n",
        "# このためには、少なくとも何問の問題を解く必要があるでしょうか？\n",
        "# 総合スコアを G 点以上にするために解く必要のある最小の問題数を出力せよ。\n",
        "# なお、この目標は必ず達成可能である（制約を参照のこと）。\n",
        "%%writefile temp.cpp\n",
        "#include <bits/stdc++.h>\n",
        "using namespace std;\n",
        "\n",
        "#define ll long long\n",
        "#define Int int\n",
        "#define loop(x, start, end) for(Int x = start; x < end; x++)\n",
        "#define loopdown(x, start, end) for(int x = start; x > end; x--)\n",
        "#define rep(n) for(int x = 0; x < n; x++)\n",
        "#define span(a,x,y) a.begin()+x,a.begin()+y\n",
        "#define span_all(a) a.begin(),a.end()\n",
        "#define len(x) (x.size())\n",
        "#define last(x) (*(x.end()-1))\n",
        "\n",
        "\n",
        "#define MAX_D 11\n",
        "\n",
        "struct Rank {\n",
        "  Int numProblems, score, bonus;\n",
        "\n",
        "  Rank(): numProblems(0), score(0), bonus(0) {}\n",
        "\n",
        "  Rank(Int n, Int s, Int b): numProblems(n), score(s), bonus(b) {\n",
        "  }\n",
        "};\n",
        "\n",
        "Int D, G, c, p;\n",
        "Rank ranks[MAX_D];\n",
        "\n",
        "struct State {\n",
        "  Int index = 0, numTaken = 0, score = 0, partialIndex = 0;\n",
        "\n",
        "  State() {\n",
        "  }\n",
        "\n",
        "  bool success() {\n",
        "    return score >= G;\n",
        "  }\n",
        "\n",
        "  bool end() {\n",
        "    return index >= D;\n",
        "  }\n",
        "\n",
        "  State takePart() {\n",
        "    State copy = *this;\n",
        "    Int need = (G - score) / ranks[index].score;\n",
        "    if (need > ranks[index].numProblems) return copy;\n",
        "    copy.score += ranks[index].score * need;\n",
        "    copy.numTaken += need;\n",
        "    return copy;\n",
        "  }\n",
        "\n",
        "  State take() {\n",
        "    State copy = *this;\n",
        "    copy.score += ranks[index].score * ranks[index].numProblems + ranks[index].bonus;\n",
        "    copy.numTaken += ranks[index].numProblems;\n",
        "    return copy;\n",
        "  }\n",
        "\n",
        "  State inc() {\n",
        "    State copy = *this;\n",
        "    copy.index++;\n",
        "    return copy;\n",
        "  }\n",
        "};\n",
        "\n",
        "void input() {\n",
        "  cin >> D >> G;\n",
        "  loop(d,1,D+1) {\n",
        "    cin >> p >> c;\n",
        "    ranks[d-1] = Rank(p, 100*d, c);\n",
        "  }\n",
        "}\n",
        "\n",
        "State dfs(State state) {\n",
        "  if (state.success() || state.end()) return state;\n",
        "  if (state.takePart().success()) return state.takePart();\n",
        "\n",
        "  State not_take = dfs(state.inc());\n",
        "  State take = dfs(state.take().inc());\n",
        "  if (not_take.success() && take.success())\n",
        "    return (not_take.numTaken < take.numTaken) ? not_take : take;\n",
        "  if (take.success()) return take;\n",
        "  else return not_take;\n",
        "}\n",
        "\n",
        "void solve() {\n",
        "  State init;\n",
        "  State result = dfs(init);\n",
        "  cout << result.numTaken << endl;\n",
        "}\n",
        "\n",
        "int main(void) {\n",
        "  input();\n",
        "  solve();\n",
        "  return 0;\n",
        "}"
      ],
      "metadata": {
        "id": "X_k1O67GMr5U"
      },
      "execution_count": null,
      "outputs": []
    },
    {
      "cell_type": "code",
      "source": [
        "# 未解決問題\n",
        "# 参考\n",
        "%%writefile temp.cpp\n",
        "#include <bits/stdc++.h>\n",
        "using namespace std;\n",
        "\n",
        "class NyaGadgetPositionalNotation\n",
        "{\t// N進数を表現するクラス\n",
        "public:\n",
        "\tNyaGadgetPositionalNotation(int cardinal)\n",
        "\t{\n",
        "\t\tcardinal_ = cardinal;\n",
        "\t\tsymbol_index_collection_.push_back(0);\n",
        "\t}\n",
        "\tvoid Inc()\n",
        "\t{\t// 返り値なしのインクリメント\n",
        "\t\tbool carry = true;\n",
        "\t\tlong index = (long)symbol_index_collection_.size() - 1;\n",
        "\t\twhile (0 <= index && carry)\n",
        "\t\t{\n",
        "\t\t\tif (symbol_index_collection_[index] != cardinal_ - 1)\n",
        "\t\t\t{\n",
        "\t\t\t\tsymbol_index_collection_[index]++;\n",
        "\t\t\t\tcarry = false;\n",
        "\t\t\t}\n",
        "\t\t\telse\n",
        "\t\t\t{\t// 桁上り\n",
        "\t\t\t\tsymbol_index_collection_[index] = 0;\n",
        "\t\t\t\tif (index == 0)\n",
        "\t\t\t\t\tsymbol_index_collection_.push_front(1);\n",
        "\t\t\t\tcarry = true;\n",
        "\t\t\t}\n",
        "\t\t\tindex--;\n",
        "\t\t}\n",
        "\t}\n",
        "\tNyaGadgetPositionalNotation operator ++()\n",
        "\t{\t// 前置インクリメント\n",
        "\t\tInc();\n",
        "\t\treturn *this;\n",
        "\t}\n",
        "\tNyaGadgetPositionalNotation operator ++(int)\n",
        "\t{  // 後置インクリメント\n",
        "\t\tNyaGadgetPositionalNotation pn = *this;\n",
        "\t\tInc();\n",
        "\t\treturn pn;\n",
        "\t}\n",
        "\t/**\n",
        "\t@brief N進数取得関数\n",
        "\t@note\n",
        "\t d桁のN進数として文字列で取得\n",
        "\t---------------------------------------------------------------------------\n",
        "\t[sample]\n",
        "\tint main()\n",
        "\t{\t// 16進数テスト\n",
        "\t\tNyaGadgetPositionalNotation pn(16);\n",
        " \n",
        "\t\tfor (int i = 0; i < 30; i++)\n",
        "\t\t\tpn++;\n",
        " \n",
        "\t\tcout << pn() << endl;\t\t// 30を16進数で表示\n",
        "\t\tcout << pn(5) << endl;\t\t// 5桁表示\n",
        " \n",
        "\t\treturn 0;\n",
        "\t}\n",
        "\t---------------------------------------------------------------------------\n",
        "\t[output]\n",
        "\t1E\n",
        "\t0001E\n",
        "\t**/\n",
        "\tstring operator()(long d = 0)\n",
        "\t{\n",
        "\t\tstd::string positional_nation;\n",
        " \n",
        "\t\tfor (const auto& e : symbol_index_collection_)\n",
        "\t\t\tpositional_nation += symbols_[e];\n",
        " \n",
        "\t\tif (d == 0 || d == positional_nation.size())\n",
        "\t\t\treturn positional_nation;\n",
        " \n",
        "\t\tif (positional_nation.size() < d)\n",
        "\t\t{\t// 表示桁に空きがあるときは0で埋める\n",
        "\t\t\tstd::string zero(d - positional_nation.size(), '0');\n",
        "\t\t\tpositional_nation = zero + positional_nation;\n",
        "\t\t}\n",
        " \n",
        "\t\treturn positional_nation;\n",
        "\t}\n",
        "\t/**\n",
        "\t@brief d桁目を取得する演算子\n",
        "\t@note\n",
        "\t d桁目の数字を文字列で取得する。\n",
        "\t-------------------------------------------------------------------------- -\n",
        "\t[sample]\n",
        "\tint main()\n",
        "\t{\t// 16進数テスト\n",
        "\t\tNyaGadgetPositionalNotation pn(16);\n",
        " \n",
        "\t\tfor (int i = 0; i < 30; i++)\n",
        "\t\t\tpn++;\n",
        " \n",
        "\t\tcout << pn.() << endl;\t\t// 30を16進数で表示\n",
        "\t\tcout << pn[0] << endl;\t\t// １桁目を表示\n",
        "\t\tcout << pn[1] << endl;\t\t// ２桁目を表示\n",
        " \n",
        "\t\treturn 0;\n",
        "\t}\n",
        "\t-------------------------------------------------------------------------- -\n",
        "\t[output]\n",
        "\t1E\n",
        "\tE\n",
        "\t1\n",
        "\t**/\n",
        "\tchar operator[](int d)\n",
        "\t{\t// d桁目の数字を取得する\n",
        "\t\tint index = (int)symbol_index_collection_.size() - 1 - d;\n",
        "\t\tif (index < 0)\n",
        "\t\t\treturn symbols_[0][0];\n",
        "\t\treturn symbols_[symbol_index_collection_[index]][0];\n",
        "\t}\n",
        "private:\n",
        "\tint cardinal_;\t// 基数\n",
        "\tstring symbols_[36] =\n",
        "\t{\t// 36進数まで対応\n",
        "\t\t\"0\", \"1\", \"2\", \"3\", \"4\", \"5\", \"6\", \"7\", \"8\", \"9\",\n",
        "\t\t\"A\", \"B\", \"C\", \"D\", \"E\", \"F\", \"G\", \"H\", \"I\", \"J\",\n",
        "\t\t\"K\", \"L\", \"M\", \"N\", \"O\", \"P\", \"Q\", \"R\", \"S\", \"T\",\n",
        "\t\t\"U\", \"V\", \"W\", \"X\", \"Y\", \"Z\",\n",
        "\t};\n",
        "\t// シンボルそのものでなく、シンボルに対応するindexを格納していく\n",
        "\tdeque<int> symbol_index_collection_;\n",
        "};\n",
        " \n",
        "#define all(collection) (collection).begin(), (collection).end()\n",
        "#define loop(i, times) for(long i = 0; i < times; i++)\n",
        "#define rloop(i, times) for(long i = times - 1; 0 <= i; i--)\n",
        "#define seloop(i, start_index, end_index) for(long i = start_index; i < end_index; i++)\n",
        "#define eqseloop(i, start_index, end_index) for(long i = start_index; i <= end_index; i++)\n",
        " \n",
        "struct Problem\n",
        "{\n",
        "\tlong bonus_;\t//!< ボーナス点\n",
        "\tint level_;\t\t//!< 問題のレベル(100*X点)\n",
        "\tint n_;\t\t\t//!< 問題数\n",
        "\tProblem()\n",
        "\t{\n",
        "\t\tbonus_ = level_ = n_ = 0;\n",
        "\t}\n",
        "};\n",
        " \n",
        "struct Solve\n",
        "{\n",
        "\tlong count_;\t//!< 解答数 \n",
        "\tlong score_;\t//!< スコア\n",
        "\tSolve()\n",
        "\t{\n",
        "\t\tcount_ = score_ = 0;\n",
        "\t}\n",
        "\tbool operator < (const Solve& s) const\n",
        "\t{\n",
        "\t\treturn (count_ < s.count_);\n",
        "\t}\n",
        "};\n",
        " \n",
        "class Abc104C\n",
        "{\n",
        "public:\n",
        "\tvoid Run(void)\n",
        "\t{\n",
        "\t\tint d; cin >> d;\n",
        "\t\tlong g; cin >> g;\n",
        " \n",
        "\t\tproblem_collection_.resize(d);\n",
        "\t\tloop(i, d)\n",
        "\t\t{\t// 問題の入力\n",
        "\t\t\tcin >> problem_collection_[i].n_;\n",
        "\t\t\tcin >> problem_collection_[i].bonus_;\n",
        "\t\t\tproblem_collection_[i].level_ = (i + 1) * 100;\n",
        "\t\t}\n",
        " \n",
        "\t\tsolve_collection_.resize(1LL << d);\n",
        "\t\tNyaGadgetPositionalNotation pn(2);\n",
        "\t\tloop(bit_loop_times, 1L << d)\n",
        "\t\t{\t// bit全探索で問題を解く\n",
        "\t\t\tloop(i, d)\n",
        "\t\t\t{\n",
        "\t\t\t\tif (pn[i] == '1')\n",
        "\t\t\t\t\tSolveAll(problem_collection_[i], solve_collection_[bit_loop_times]);\n",
        "\t\t\t}\n",
        "\t\t\trloop(i, d)\n",
        "\t\t\t{\n",
        "\t\t\t\tif (pn[i] == '0')\n",
        "\t\t\t\t\tSolveX(problem_collection_[i], solve_collection_[bit_loop_times], g);\n",
        "\t\t\t}\n",
        "\t\t\tpn++;\n",
        "\t\t}\n",
        " \n",
        "\t\t// 解いた問題数の昇順にソート\n",
        "\t\tsort(solve_collection_.begin(), solve_collection_.end());\n",
        "\t\tfor (const auto & elm_solve : solve_collection_)\n",
        "\t\t{\t// 解いた問題数の出力\n",
        "\t\t\tif (g <= elm_solve.score_)\n",
        "\t\t\t{\n",
        "\t\t\t\tcout << elm_solve.count_;\n",
        "\t\t\t\treturn;\n",
        "\t\t\t}\n",
        "\t\t}\n",
        "\t}\n",
        "\t/**\n",
        "\t@brief 問題をX個解く関数\n",
        "\t@note\n",
        "\t 問題problemを(problem.n_-1)個だけ解いて、解答solveを更新する。\n",
        "\t ただし、solve.score_がgoalに達したら解くのを中断する。\n",
        "\t**/\n",
        "\tvoid SolveX(const Problem& problem, Solve& solve, const long goal)\n",
        "\t{\n",
        "\t\tloop(i, problem.n_ - 1)\n",
        "\t\t{\n",
        "\t\t\tif (goal <= solve.score_)\n",
        "\t\t\t\treturn;\n",
        "\t\t\tsolve.score_ += problem.level_;\n",
        "\t\t\tsolve.count_++;\n",
        "\t\t}\n",
        "\t}\n",
        "\t/**\n",
        "\t@brief 問題を全て解く関数\n",
        "\t@note\n",
        "\t 問題problemをボーナスを得るまで解いて、解答solveを更新する。\n",
        "\t**/\n",
        "\tvoid SolveAll(const Problem& problem, Solve& solve)\n",
        "\t{\n",
        "\t\tsolve.score_ += problem.level_ * problem.n_ + problem.bonus_;\n",
        "\t\tsolve.count_ += problem.n_;\n",
        "\t}\n",
        " \n",
        "private:\n",
        "\tvector<Problem> problem_collection_;\n",
        "\tvector<Solve> solve_collection_;\n",
        "};\n",
        " \n",
        "int main()\n",
        "{\n",
        "\tAbc104C abc104c;\n",
        "\tabc104c.Run();\n",
        "\treturn 0;\n",
        "}"
      ],
      "metadata": {
        "id": "Qf54pLj9bo_A"
      },
      "execution_count": null,
      "outputs": []
    },
    {
      "cell_type": "code",
      "source": [
        "!g++ temp.cpp; echo 2 700 3 500 5 800 |./temp \n",
        "#=> 3\n",
        "!g++ temp.cpp; echo 2 2000 3 500 5 800 |./temp \n",
        "#=> 7\n",
        "!g++ temp.cpp; echo 2 400 3 500 5 800 |./temp \n",
        "#=> 2\n",
        "!g++ temp.cpp; echo 5 25000 20 1000 40 1000 50 1000 30 1000 1 1000 |./temp \n",
        "#=> 66"
      ],
      "metadata": {
        "id": "WBFI_SpMMq3B"
      },
      "execution_count": null,
      "outputs": []
    },
    {
      "cell_type": "code",
      "source": [
        "# 未解決問題\n",
        "# ARC029 A - 高橋君とお肉\n",
        "# 高橋君は友達とキャンプに行くことになった。\n",
        "# 高橋君と友達は性能が同じである 2 個の肉焼き器を持っており、それぞれの肉焼き器に\n",
        "# お肉を乗せて並行して焼くことができる。一旦肉焼き器にお肉を乗せたら、\n",
        "# お肉が焼きあがるまではその肉焼き器からお肉を取り出したり、その肉焼き器に別のお肉を\n",
        "# 乗せたりはできない。お肉が焼けたらお肉を取り出すことができる。\n",
        "# 2 つの肉焼き器にまたがって 1 つのお肉を置くことはできない。また、お肉は全部で N 個あり、\n",
        "# お肉には 1 から N まで番号が付けられている。お肉 i を焼くのには、どちらの肉焼き器でも\n",
        "# 時間 t_i だけかかる。お肉を肉焼き器に置く動作、取り出す動作には時間がかからない。\n",
        "# 高橋君はお肉を焼く係であり、N 個すべてのお肉を焼くことになった。\n",
        "# みんなお腹が空いているので、すべてのお肉を焼くのにかかる時間を最小化させたい。\n",
        "# すべてのお肉を焼くのにかかる時間の最小値を求めよ。\n",
        "# すべてのお肉を焼くのにかかる時間の最小値を 1 行に出力せよ。出力の末尾にも改行を入れること。\n",
        "%%writefile temp.cpp\n",
        "#include <bits/stdc++.h>\n",
        "using namespace std;\n"
      ],
      "metadata": {
        "id": "17XWuypPggvT"
      },
      "execution_count": null,
      "outputs": []
    },
    {
      "cell_type": "code",
      "source": [
        "!g++ temp.cpp; echo 4 4 6 7 10 |./temp #=> 14\n",
        "!g++ temp.cpp; echo 3 1 2 4 |./temp #=> 4\n",
        "!g++ temp.cpp; echo 1 29 |./temp #=> 29"
      ],
      "metadata": {
        "id": "gLae-W-rggnR"
      },
      "execution_count": null,
      "outputs": []
    },
    {
      "cell_type": "code",
      "source": [
        "# 未解決問題 再帰を使った解答例がみつからない\n",
        "# ABC002 D - 派閥\n",
        "# 神からの財産と、母音を取り戻した高橋くんは、AtCoder国の腐敗した政治を正すため、\n",
        "# 国会議員となろうと決めました。\n",
        "# もともと人心掌握術とスピーチに定評があった高橋くんは、何の苦労をすることもなく当選しました。\n",
        "# しかし、議員になってからが本番です。国を正すためには、首相に任命される必要があります。\n",
        "# AtCoder国には高橋くんを除いて N 人の国会議員と、M 個の人間関係 (x, y) が存在します。\n",
        "# 人間関係 (x, y) とは、議員 x と議員 y が知り合いであることを意味します。\n",
        "# 高橋くんは N 人の議員から何人かを選んで派閥を作ろうと企んでいます。\n",
        "# 派閥に含まれるすべての議員は互いに知り合いでなければなりません。\n",
        "# 高橋くんが作成することができる最大の派閥に属する議員数を求めるプログラムを書いてください。\n",
        "# 1 行目には、高橋くん以外の国会議員の数 N (1≦N≦12) と、人間関係の数 M (0≦M≦N(N−1)/2) \n",
        "# が半角空白区切りで与えられる。\n",
        "# 2 行目から M+1 行目までの M 行で、人間関係が与えられる。\n",
        "# 各議員は 1 から N までの整数で番号がつけられている。\n",
        "# 2 行目を基準とした第 i (1≦i≦M) 行において、議員 x_i と議員 y_i は知り合いであることを意味する。\n",
        "# 高橋くんが作成することができる最大の派閥に属する議員数を 1 行で出力してください。\n",
        "%%writefile temp.cpp\n"
      ],
      "metadata": {
        "id": "JfTuLjLV9lAq"
      },
      "execution_count": null,
      "outputs": []
    },
    {
      "cell_type": "code",
      "source": [
        "!g++ temp.cpp; echo 5 3 1 2 2 3 1 3 |./temp \n",
        "#=> 3\n",
        "!g++ temp.cpp; echo 5 3 1 2 2 3 3 4 |./temp \n",
        "#=> 2\n",
        "!g++ temp.cpp; echo 7 9 1 2 1 3 2 3 4 5 4 6 4 7 5 6 5 7 6 7 |./temp \n",
        "#=> 4\n",
        "!g++ temp.cpp; echo 12 0 |./temp \n",
        "#=> 1"
      ],
      "metadata": {
        "id": "fw0TxQ_V31dm"
      },
      "execution_count": null,
      "outputs": []
    },
    {
      "cell_type": "markdown",
      "source": [
        "# W - 2.06.計算量"
      ],
      "metadata": {
        "id": "olIA8-zwmhwA"
      }
    },
    {
      "cell_type": "code",
      "source": [
        "# W - 2.06.計算量\n",
        "# 時間計算量・空間計算量\n",
        "# 計算量の表記にはオーダー記法を用いる\n",
        "# 計算時間と記憶領域\n",
        "# 単に計算量という場合、時間計算量を指すことが多い\n",
        "# 計算ステップ数とは、四則演算や数値の比較などの回数\n",
        "# 計算量の例\n",
        "# 次のプログラムは1からNまでの総和(1+2+3+⋯+N)を計算するものです。\n",
        "%%writefile temp.cpp\n",
        "#include <bits/stdc++.h>\n",
        "using namespace std; \n",
        "int main() {\n",
        "  int N;\n",
        "  cin >> N;\n",
        "  int sum = 0;\n",
        "  for (int i = 1; i <= N; i++) {\n",
        "    sum += i;\n",
        "  }\n",
        "  cout << sum << endl;\n",
        "}"
      ],
      "metadata": {
        "id": "uzwJqE4LmeuD"
      },
      "execution_count": null,
      "outputs": []
    },
    {
      "cell_type": "code",
      "source": [
        "!g++ temp.cpp; echo 10 |./temp "
      ],
      "metadata": {
        "id": "CFV4N-2Ez_Kh"
      },
      "execution_count": null,
      "outputs": []
    },
    {
      "cell_type": "code",
      "source": [
        "# このプログラムではfor文でN回の繰り返し処理を行っているので、\n",
        "# 計算ステップ数は入力のNに応じて変わります。 N回の繰り返しを行うので、\n",
        "# 計算ステップ数はおおよそN回になります。 \n",
        "# このときの時間計算量はオーダー記法を用いて O(N) と表します。\n",
        "# このプログラムで使用している変数は入力のNに関わらずint Nとint sumとint iの3つです。 \n",
        "# このときの空間計算量はオーダー記法を用いてO(1)と表します。\n",
        "# オーダー記法\n",
        "# 3N^2+7N+4という式はオーダー記法では O(N^2) と表されます。\n",
        "# 以下の手順によってオーダー記法による表記を得ることができます。\n",
        "# ステップ1：係数を省略する。ただし定数については1とする。\n",
        "# ステップ2：Nを大きくしたときに一番影響が大きい項を取り出し、O(項)と書く\n",
        "# 次の式をそれぞれオーダー記法で表してください。\n",
        "\n",
        "# 1. N+100\n",
        "# 2. 10N+N^3\n",
        "# 3. 3+5\n",
        "# 4. 2^N+N^2\n",
        "\n",
        "# 答え\n",
        "# 1. O(N)\n",
        "# 2. O(N^3)\n",
        "# 3. O(1)\n",
        "# 4. O(2^N)\n",
        "\n",
        "# 計算量(オーダー記法)の求め方\n",
        "# 計算量を求めるには計算ステップ数がどうなるかを式で表す必要があります。\n",
        "# 次のプログラムは意味の無いものですが、計算量がどうなるかを考えてみましょう。\n",
        "%%writefile temp.cpp\n",
        "#include <bits/stdc++.h>\n",
        "using namespace std;\n",
        " \n",
        "int main() {\n",
        "  int N;\n",
        "  cin >> N;\n",
        " \n",
        "  int sum = 0;\n",
        " \n",
        "  for (int i = 0; i < N; i++) {\n",
        "    for (int j = 0; j < N; j++) {\n",
        "      sum += i * j;\n",
        "    }\n",
        "  }\n",
        " \n",
        "  for (int i = 0; i < N; i++) {\n",
        "    sum += i;\n",
        "  }\n",
        " \n",
        "  for (int i = 0; i < N; i++) {\n",
        "    sum *= i;\n",
        "  }\n",
        " \n",
        "  cout << sum << endl;\n",
        "}"
      ],
      "metadata": {
        "id": "QpH15Mw6z9L5"
      },
      "execution_count": null,
      "outputs": []
    },
    {
      "cell_type": "code",
      "source": [
        "!g++ temp.cpp; echo 10 |./temp "
      ],
      "metadata": {
        "id": "ge5kNqKs10HL"
      },
      "execution_count": null,
      "outputs": []
    },
    {
      "cell_type": "code",
      "source": [
        "# 1つの2重ループと2つの1重ループがあるので計算ステップ数は N^2+2N くらいになります。 \n",
        "# これをオーダー記法で表すと O(N^2) となります。 \n",
        "# このように、 簡単なアルゴリズムであれば厳密な式を求めなくても 「N回の繰り返し処理があるからO(N)」\n",
        "# や「0からNまで回す2重ループがあるからO(N^2)」 などと見積もることができます。\n",
        "# いくつかの計算量オーダーについて、具体的なプログラムの例を挙げます。\n",
        "# O(1)\n",
        "# 次のプログラムは、1からNまでの総和を公式を使って計算するものです。 このプログラムの計算量はO(1)です。\n",
        "%%writefile temp.cpp\n",
        "#include <bits/stdc++.h>\n",
        "using namespace std;\n",
        " \n",
        "int main() {\n",
        "  int N;\n",
        "  cin >> N;\n",
        "  int sum = N * (N + 1) / 2;\n",
        "  cout << sum << endl;\n",
        "}"
      ],
      "metadata": {
        "id": "xJr9-AwN1OjJ"
      },
      "execution_count": null,
      "outputs": []
    },
    {
      "cell_type": "code",
      "source": [
        "!g++ temp.cpp; echo 10 |./temp "
      ],
      "metadata": {
        "id": "-k73aXbO1wTk"
      },
      "execution_count": null,
      "outputs": []
    },
    {
      "cell_type": "code",
      "source": [
        "# O(N)\n",
        "# 次のプログラムは要素数Nの配列の中に含まれる偶数の個数を数えるものです。 \n",
        "# このプログラムの計算量はO(N)です。\n",
        "%%writefile temp.cpp\n",
        "#include <bits/stdc++.h>\n",
        "using namespace std;\n",
        " \n",
        "int main() {\n",
        "  int N;\n",
        "  cin >> N;\n",
        "  vector<int> a(N);\n",
        "  for (int i = 0; i < N; i++) {\n",
        "    cin >> a.at(i);\n",
        "  }\n",
        " \n",
        "  int cnt = 0;\n",
        "  for (int i = 0; i < N; i++) {\n",
        "    if (a.at(i) % 2 == 0) {\n",
        "      cnt++;\n",
        "    }\n",
        "  }\n",
        "  cout << cnt << endl;\n",
        "}"
      ],
      "metadata": {
        "id": "FaNsF_qt1vGz"
      },
      "execution_count": null,
      "outputs": []
    },
    {
      "cell_type": "code",
      "source": [
        "!g++ temp.cpp; echo 10 0 1 2 3 4 5 6 7 8 9|./temp "
      ],
      "metadata": {
        "id": "rli32Zfj2HJE"
      },
      "execution_count": null,
      "outputs": []
    },
    {
      "cell_type": "code",
      "source": [
        "# O(N^2)\n",
        "# 次のプログラムは九九の要領でN×Nマスを埋めるものです。 \n",
        "# このプログラムの計算量はO(N^2)です。\n",
        "%%writefile temp.cpp\n",
        "#include <bits/stdc++.h>\n",
        "using namespace std;\n",
        " \n",
        "int main() {\n",
        "  int N;\n",
        "  cin >> N;\n",
        " \n",
        "  vector<vector<int>> table(N, vector<int>(N));\n",
        "  for (int i = 0; i < N; i++) {\n",
        "    for (int j = 0; j < N; j++) {\n",
        "      table.at(i).at(j) = (i + 1) * (j + 1);  // N×N回実行される\n",
        "    }\n",
        "  }\n",
        " \n",
        "  // 出力\n",
        "  for (int i = 0; i < N; i++) {\n",
        "    for (int j = 0; j < N; j++) {\n",
        "      cout << table.at(i).at(j);\n",
        "      if (j != N - 1) {\n",
        "        cout << \" \";\n",
        "      }\n",
        "      else {\n",
        "        cout << endl;\n",
        "      }\n",
        "    }\n",
        "  }\n",
        "}"
      ],
      "metadata": {
        "id": "Vz2lOt7f2FkJ"
      },
      "execution_count": null,
      "outputs": []
    },
    {
      "cell_type": "code",
      "source": [
        "!g++ temp.cpp; echo 9 |./temp "
      ],
      "metadata": {
        "id": "0yMWW5f2GiVx"
      },
      "execution_count": null,
      "outputs": []
    },
    {
      "cell_type": "code",
      "source": [
        "# O(logN)\n",
        "# 初めに簡単にlogを説明します。\n",
        "# log_x N という式は「xを何乗したらNになるか」を表します。 \n",
        "# 例えば、2^4=16 なので、log_2 16=4 です。\n",
        "# 長さ8の棒を長さが1になるまで半分に切る(2で割る)ことを繰り返したときに切る回数は log_2 8 回です。\n",
        "# 計算量に出てくる log は「半分にする回数」を表す事が多い。\n",
        "# log N は N に対して非常に小さくなるので、計算量の中に O(logN) が出てきた場合でも実行時間に\n",
        "# そこまで影響しないことが多い。 \n",
        "# また、オーダー記法では log の底は省略して書かれる。この場合は2が省略されている。\n",
        "# 実は log の底の違いは定数倍の違いだけとみなすことができるので、係数を省略するオーダー記法では省略されます。\n",
        "# 次のプログラムは N が 2 で何回割れるかを数えるものです。 \n",
        "# このプログラムの計算量はO(logN)です。\n",
        "%%writefile temp.cpp\n",
        "#include <bits/stdc++.h>\n",
        "using namespace std;\n",
        " \n",
        "int main() {\n",
        "  int N;\n",
        "  cin >> N;\n",
        "  int cnt = 0;\n",
        "  while (N > 0) {\n",
        "    cnt++;\n",
        "    N /= 2;\n",
        "  }\n",
        "  cout << cnt << endl;\n",
        "}"
      ],
      "metadata": {
        "id": "ZA-nbfAs2pzL"
      },
      "execution_count": null,
      "outputs": []
    },
    {
      "cell_type": "code",
      "source": [
        "!g++ temp.cpp; echo 8 |./temp "
      ],
      "metadata": {
        "id": "UNjwI8gEIWn0"
      },
      "execution_count": null,
      "outputs": []
    },
    {
      "cell_type": "code",
      "source": [
        "# 上のプログラムを書き直す\n",
        "# N が 2 で何回割れるか\n",
        "%%writefile temp.cpp\n",
        "#include <bits/stdc++.h>\n",
        "using namespace std;\n",
        "\n",
        "int div2(int n){\n",
        "    if (n == 0 || n == 1 || n%2 == 1) return 0;\n",
        "    return 1 + div2(n/2);\n",
        "}\n",
        " \n",
        "int main() {\n",
        "  int N;\n",
        "  cin >> N;\n",
        "  cout << div2(N) << endl;\n",
        "}"
      ],
      "metadata": {
        "id": "1JDj3iD7OeS6"
      },
      "execution_count": null,
      "outputs": []
    },
    {
      "cell_type": "code",
      "source": [
        "!g++ temp.cpp; echo 8 |./temp \n",
        "!g++ temp.cpp; echo 1 |./temp \n",
        "!g++ temp.cpp; echo 0 |./temp \n",
        "!g++ temp.cpp; echo 100 |./temp "
      ],
      "metadata": {
        "id": "YZPFH5c5PUMh"
      },
      "execution_count": null,
      "outputs": []
    },
    {
      "cell_type": "code",
      "source": [
        "# 計算量のおおまかな大小\n",
        "# 主な計算量の大まかな大小は次のようになります。\n",
        "# O(1) < O(logN) < O(N) < O(NlogN) <O(N^2)< O(2^N)\n",
        "# 時間計算量なら O(1) 側ほど高速に計算可能で、O(2^N) 側ほど時間が掛かります。\n",
        "# 入力 N と実行時間の感覚の対応を次の表に示します。\n",
        "%%html\n",
        "<table border=\"1\">\n",
        "<thead>\n",
        "<tr><th>N </th><th> O(1) </th><th> O(logN) </th><th> O(N) </th><th> O(NlogN) </th><th> O(N^2) </th><th> O(2^N) </th></tr>\n",
        "</thead>\n",
        "<tbody>\n",
        "<tr><td>1 </td><td> 一瞬 </td><td> 一瞬 </td><td> 一瞬 </td><td> 一瞬 </td><td> 一瞬 </td><td> 一瞬 </td></tr>\n",
        "<tr><td>10 </td><td> 一瞬 </td><td> 一瞬 </td><td> 一瞬 </td><td> 一瞬 </td><td> 一瞬 </td><td> 一瞬 </td></tr>\n",
        "<tr><td>1000 </td><td> 一瞬 </td><td> 一瞬 </td><td> 一瞬 </td><td> 一瞬 </td><td> 0.01秒くらい </td><td> 地球爆発 </td></tr>\n",
        "<tr><td>10^6 </td><td> 一瞬 </td><td> 一瞬 </td><td> 0.01秒くらい </td><td> 0.2秒くらい </td><td> 3時間くらい </td><td> 地球爆発 </td></tr>\n",
        "<tr><td>10^8 </td><td> 一瞬 </td><td> 一瞬 </td><td> 1秒くらい </td><td> 30秒くらい </td><td> 3年くらい </td><td> 地球爆発 </td></tr>\n",
        "<tr><td>10^16 </td><td> 一瞬 </td><td> 一瞬 </td><td> 3年くらい </td><td> 170年くらい </td><td> 地球爆発 </td><td> 地球爆発</td></tr>\n",
        "</tbody>\n",
        "</table>\n"
      ],
      "metadata": {
        "id": "xpsTmQSOIS04"
      },
      "execution_count": null,
      "outputs": []
    },
    {
      "cell_type": "code",
      "source": [
        "# 1秒くらいで計算が終わるようなプログラムを作ろうというときは、 入力の大きさの上限を見積\n",
        "# もった上で1秒以内に収まるような計算量のアルゴリズムを選択する必要があります。\n",
        "# 例えば、N=10^6 くらいまでの入力で1秒以内に計算を終えるプログラムを作成するのであれば、 \n",
        "# O(N^2) のアルゴリズムでは間に合わないので、O(N)のアルゴリズムを用いて実装する必要があります。\n",
        "# AtCoderの問題では実行時間制約が2秒くらいであることが多いです。 コンテストに参加する人は、\n",
        "# 1秒あたり10^8 回くらいの計算ができることを覚えておきましょう。\n",
        "\n",
        "# 複数の入力がある場合のオーダー記法\n",
        "\n",
        "# プログラムの入力が複数ある場合もオーダー記法で計算量を表すことができます。 \n",
        "# この場合それぞれの変数を残して書きます。 例えば、2つの入力NとMを受け取る場合は\n",
        "# O(N+M), O(NM), O((N+M)logN) のように書きます。\n",
        "\n",
        "# N^2M+NM+NM^2 という計算ステップ数になった場合は、影響が一番大きくなりうる項のみ残すので\n",
        "# O(N^2M+NM^2)となります。\n",
        "# どの項を残すのかが分からなくても計算量が比較できればよいので問題無いです。\n",
        "# 複数の入力が計算量に影響することがあるということは頭に入れておきましょう。\n",
        "\n",
        "# 細かい話\n",
        "\n",
        "# オーダー記法の落とし穴\n",
        "\n",
        "# 計算量をオーダー記法で表記すると比較しやすくなりますが、\n",
        "# オーダー記法は大まかな比較しかできない点に注意する必要があります。\n",
        "# オーダー記法では影響の一番大きな項のみを残して係数を省略して書きます。 \n",
        "# これによって、例えば計算ステップ数が20Nになるアルゴリズムと2Nになるアルゴリズムを\n",
        "# 比較しようとしたときに、 実際には10倍もの差があるのに、オーダー記法ではどちらも\n",
        "# O(N)となってしまいます。\n",
        "# 同様の理由で、O(N)のアルゴリズムAとO(NlogN)のアルゴリズムBを比較するときに、 \n",
        "# 計算量上はアルゴリズムAの方が高速でも、実際に動かしてみるとアルゴリズム\n",
        "# Bの方が高速だったということも起こり得ます。\n",
        "# 正確に比較する必要がある場合は、実際に時間を計測して比較する必要があります。"
      ],
      "metadata": {
        "id": "L5t3Qhoiv2IG"
      },
      "execution_count": null,
      "outputs": []
    },
    {
      "cell_type": "code",
      "source": [
        "# STLの関数の計算量\n",
        "# 1.14 STLの関数で紹介した関数の計算量は以下のようになります。\n",
        "%%html\n",
        "<table border=\"1\">\n",
        "<thead>\n",
        "<tr><th>STLの関数 </th><th> 計算量(配列の要素数N)</th></tr>\n",
        "</thead>\n",
        "<tbody>\n",
        "<tr><td>sort </td><td> O(NlogN)</td></tr>\n",
        "<tr><td>reverse </td><td> O(N)</td></tr>\n",
        "</tbody>\n",
        "</table>"
      ],
      "metadata": {
        "id": "1tR6_yoBzqeT"
      },
      "execution_count": null,
      "outputs": []
    },
    {
      "cell_type": "code",
      "source": [
        "# 次のプログラムは入力される配列をソートして出力するものです。\n",
        "%%writefile temp.cpp\n",
        "#include <bits/stdc++.h>\n",
        "using namespace std;\n",
        " \n",
        "int main() {\n",
        "  int N;\n",
        "  cin >> N;\n",
        "  vector<int> A(N);\n",
        " \n",
        "  // O(N)\n",
        "  for (int i = 0; i < N; i++) {\n",
        "    cin >> A.at(i);\n",
        "  }\n",
        " \n",
        "  // O(N log N)\n",
        "  sort(A.begin(), A.end());\n",
        " \n",
        "  // O(N)\n",
        "  for (int i = 0; i < N; i++) {\n",
        "    cout << A.at(i) << endl;\n",
        "  }\n",
        "}"
      ],
      "metadata": {
        "id": "i4AqDs33z9j7"
      },
      "execution_count": null,
      "outputs": []
    },
    {
      "cell_type": "code",
      "source": [
        "!g++ temp.cpp; echo 3 3 1 2 |./temp "
      ],
      "metadata": {
        "id": "GWs5zuaR0anN"
      },
      "execution_count": null,
      "outputs": []
    },
    {
      "cell_type": "code",
      "source": [
        "# N回のループが2つあるので全体の計算量がO(N)であるように思えますが、 \n",
        "# sort関数の計算量はO(NlogN)でループ部分のO(N)より大きいので、\n",
        "# このプログラム全体の計算量はO(NlogN)となります。\n",
        "\n",
        "# logの性質\n",
        "# O(log5N)→O(logN) logの中の係数は省略します。\n",
        "# O(logNM)→O(logN+logM) どちらで書いてもよい\n",
        "# O(logN^2)→O(logN)\n",
        "# O(log2^N)→O(N)"
      ],
      "metadata": {
        "id": "mTSr4oPl0XH0"
      },
      "execution_count": null,
      "outputs": []
    },
    {
      "cell_type": "code",
      "source": [
        "# 問題\n",
        "# EX21.計算量の見積もり\n",
        "# 次のプログラムではf0〜f5の6つの関数が定義されており、main関数から呼び出されています。 \n",
        "# それぞれの関数の計算量を見積もって、最も計算時間のかかる関数を呼び出している行をコメントアウトしてください。\n",
        "%%writefile temp.cpp\n",
        "#include <bits/stdc++.h>\n",
        "using namespace std;\n",
        "\n",
        "int f0(int N) {\n",
        "  return 1;\n",
        "}\n",
        "\n",
        "int f1(int N, int M) {\n",
        "  int s = 0;\n",
        "  for (int i = 0; i < N; i++) {\n",
        "    s++;\n",
        "  }\n",
        "  for (int i = 0; i < M; i++) {\n",
        "    s++;\n",
        "  }\n",
        "  return s;\n",
        "}\n",
        "\n",
        "int f2(int N) {\n",
        "  int s = 0;\n",
        "  for (int i = 0; i < N; i++) {\n",
        "      int t = N;\n",
        "      int cnt = 0;\n",
        "      while (t > 0) {\n",
        "        cnt++;\n",
        "        t /= 2;\n",
        "      }\n",
        "      s += cnt;\n",
        "  }\n",
        "  return s;\n",
        "}\n",
        "\n",
        "\n",
        "int f3(int N) {\n",
        "  int s = 0;\n",
        "  for (int i = 0; i < 3; i++) {\n",
        "    for (int j = 0; j < 3; j++) {\n",
        "      s++;\n",
        "    }\n",
        "  }\n",
        "  return s;\n",
        "}\n",
        "\n",
        "int f4(int N) {\n",
        "  int s = 0;\n",
        "  for (int i = 0; i < N; i++) {\n",
        "    for (int j = 0; j < N; j++) {\n",
        "      s += i + j;\n",
        "    }\n",
        "  }\n",
        "  return s;\n",
        "}\n",
        "\n",
        "int f5(int N, int M) {\n",
        "  int s = 0;\n",
        "  for (int i = 0; i < N; i++) {\n",
        "    for (int j = 0; j < M; j++) {\n",
        "      s += i + j;\n",
        "    }\n",
        "  }\n",
        "  return s;\n",
        "}\n",
        "\n",
        "int main() {\n",
        "  int N, M;\n",
        "  cin >> N >> M;\n",
        "\n",
        "  int a0 = -1, a1 = -1, a2 = -1, a3 = -1, a4 = -1, a5 = -1;\n",
        "\n",
        "  // 計算量が最も大きいもの1つだけコメントアウトする\n",
        "  a0 = f0(N);\n",
        "  a1 = f1(N, M);\n",
        "  a2 = f2(N);\n",
        "  a3 = f3(N);\n",
        "  // a4 = f4(N);\n",
        "  a5 = f5(N, M);\n",
        "\n",
        "  cout << \"f0: \" << a0 << endl;\n",
        "  cout << \"f1: \" << a1 << endl;\n",
        "  cout << \"f2: \" << a2 << endl;\n",
        "  cout << \"f3: \" << a3 << endl;\n",
        "  cout << \"f4: \" << a4 << endl;\n",
        "  cout << \"f5: \" << a5 << endl;\n",
        "}\n"
      ],
      "metadata": {
        "id": "V1VydW3wbqRP"
      },
      "execution_count": null,
      "outputs": []
    },
    {
      "cell_type": "code",
      "source": [
        "!g++ temp.cpp; echo 1000000 100 |./temp "
      ],
      "metadata": {
        "id": "xuExOgrkmemg"
      },
      "execution_count": null,
      "outputs": []
    },
    {
      "cell_type": "code",
      "source": [
        "%%html\n",
        "<table border=\"1\">\n",
        "<thead>\n",
        "<tr><th></th><th> 計算量</th></tr>\n",
        "</thead>\n",
        "<tbody>\n",
        "<tr><td>f0 </td><td> O(1)</td></tr>\n",
        "<tr><td>f1 </td><td> O(N+M)</td></tr>\n",
        "<tr><td>f2 </td><td> O(NlogN)</td></tr>\n",
        "<tr><td>f3 </td><td> O(1)</td></tr>\n",
        "<tr><td>f4 </td><td> O(N^2)</td></tr>\n",
        "<tr><td>f5 </td><td> O(NM)</td></tr>\n",
        "</tbody>\n",
        "</table>"
      ],
      "metadata": {
        "id": "tYkLPCTsdzIz"
      },
      "execution_count": null,
      "outputs": []
    },
    {
      "cell_type": "markdown",
      "source": [
        "# Y - 3.01.数値型 "
      ],
      "metadata": {
        "id": "hITRY0NYfa76"
      }
    },
    {
      "cell_type": "code",
      "source": [
        "# 質問 AtCoder は C++ (GCC 9.2.1) で、colab は\n",
        "# gcc (Ubuntu 7.5.0-3ubuntu1~18.04) 7.5.0\n",
        "# どちらも C++ 11 と理解して良いか\n",
        "!gcc --version"
      ],
      "metadata": {
        "id": "y4oZ-iHMYfDC"
      },
      "execution_count": null,
      "outputs": []
    },
    {
      "cell_type": "code",
      "source": [
        "# Y - 3.01.数値型 \n",
        "# double型の値を出力する際に出力する小数点以下の桁数を指定するには以下のようにする\n",
        "# cout << fixed << setprecision(桁数);\n",
        "# (型)値で型変換（キャスト）を行うことができる\n",
        "# 暗黙的にキャストが起こる場合もある\n",
        "\n",
        "# int64_t型\n",
        "# 今まで整数を扱う場合はint型を使ってきましたが、int型が表せる範囲は以下の通りに限られています。\n",
        "\n",
        "# 最小値：-2147483648\n",
        "# 最大値：2147483647\n",
        "# 計算の途中でこの範囲を超えてしまうことをオーバーフローと言います。\n",
        "%%writefile temp.cpp\n",
        "#include <bits/stdc++.h>\n",
        "using namespace std;\n",
        "int main() {\n",
        "  int a = 2000000000;\n",
        "  int b = a * 2;\n",
        "  cout << b << endl;\n",
        " \n",
        "  int c = (a * 10 + 100) / 100;\n",
        "  cout << c << endl;\n",
        "}"
      ],
      "metadata": {
        "id": "92M0Qd_eeMw5"
      },
      "execution_count": null,
      "outputs": []
    },
    {
      "cell_type": "code",
      "source": [
        "!g++ temp.cpp; ./a.out"
      ],
      "metadata": {
        "id": "V3Rr_EY-aEaz"
      },
      "execution_count": null,
      "outputs": []
    },
    {
      "cell_type": "code",
      "source": [
        "# 実行結果 オーバーフロー\n",
        "# -294967296\n",
        "# -14748363\n",
        "\n",
        "# もっと広い範囲の値を扱いたい場合、int64_t型を使うのが一般的です。\n",
        "# int64_t型で扱える値の範囲は以下のとおりです。\n",
        "\n",
        "# 最小値：-9223372036854775808\n",
        "# 最大値：9223372036854775807\n",
        "%%writefile temp.cpp\n",
        "#include <bits/stdc++.h>\n",
        "using namespace std;\n",
        "int main() {\n",
        "  int64_t a = 2000000000;\n",
        "  int64_t b = a * 2;\n",
        "  cout << b << endl;\n",
        "}"
      ],
      "metadata": {
        "id": "bko7j7ugZ3ip"
      },
      "execution_count": null,
      "outputs": []
    },
    {
      "cell_type": "code",
      "source": [
        "!g++ temp.cpp; ./a.out"
      ],
      "metadata": {
        "id": "YXNlIbXfaazm"
      },
      "execution_count": null,
      "outputs": []
    },
    {
      "cell_type": "code",
      "source": [
        "# int型は20億(2 * 10^9)くらいまでと覚えておき、それより大きな値が出てきそうで\n",
        "# あればint64_t型を使うようにしましょう。\n",
        "\n",
        "# プログラム中に直接10のように値を書くと、それはint型の数値として扱われます。\n",
        "# int64_t型として扱ってほしい場合は10LLのように末尾にLLをつけましょう。\n",
        "\n",
        "# また、int型とint64_t型の計算結果はint64_t型になります。\n",
        "%%writefile temp.cpp\n",
        "#include <bits/stdc++.h>\n",
        "using namespace std;\n",
        "int main() {\n",
        "  cout << 2000000000 * 2 << endl;     // int * int         -> int\n",
        "  cout << 2000000000LL * 2LL << endl; // int64_t * int64_t -> int64_t\n",
        "  cout << 2000000000LL * 2 << endl;   // int64_t * int     -> int64_t\n",
        "}"
      ],
      "metadata": {
        "id": "b0j4IjgUaZVZ"
      },
      "execution_count": null,
      "outputs": []
    },
    {
      "cell_type": "code",
      "source": [
        "!g++ temp.cpp; ./a.out"
      ],
      "metadata": {
        "id": "dx_jQa4Qa414"
      },
      "execution_count": null,
      "outputs": []
    },
    {
      "cell_type": "code",
      "source": [
        "# double型の出力\n",
        "# double型を出力する場合、通常通りcoutで出力してしまうと適当な桁で四捨五入されて表示されてしまいます。\n",
        "# 途中の桁まで四捨五入せずに確実に表示したい場合、以下のように書きます。\n",
        "\n",
        "# cout << fixed << setprecision(桁数);\n",
        "%%writefile temp.cpp\n",
        "#include <bits/stdc++.h>\n",
        "using namespace std;\n",
        "int main() {\n",
        "  cout << 3.14159265358979 << endl;\n",
        " \n",
        "  // 小数点以下10桁まで\n",
        "  cout << fixed << setprecision(10);\n",
        " \n",
        "  cout << 3.14159265358979 << endl;\n",
        "\n",
        "// 実験 setprecision と 数値の cout を 1 行に書けるか #=> 書ける\n",
        "  cout << fixed << setprecision(7) << 3.14159265358979 << endl;\n",
        "}"
      ],
      "metadata": {
        "id": "BtvJlQ4Qa2xg"
      },
      "execution_count": null,
      "outputs": []
    },
    {
      "cell_type": "code",
      "source": [
        "!g++ temp.cpp; ./a.out"
      ],
      "metadata": {
        "id": "QE5QDiRzbO9K"
      },
      "execution_count": null,
      "outputs": []
    },
    {
      "cell_type": "code",
      "source": [
        "# 明示的な数値型同士の変換\n",
        "# int型とint64_t型の計算結果がint64_t型であったり、int型とdouble型の\n",
        "# 計算結果がdouble型であったりするように異なる型同士でも計算できることがありました。\n",
        "# 計算せずに、ただ型の変換だけを行うこともできます。型変換のことをキャストと言います。\n",
        "# (型)値\n",
        "# double型をint型にキャストすると小数点以下切り捨てになることは重要なので覚えておきましょう。\n",
        "%%writefile temp.cpp\n",
        "#include <bits/stdc++.h>\n",
        "using namespace std;\n",
        "int main() {\n",
        "  // 小数点以下5桁まで\n",
        "  cout << fixed << setprecision(5);\n",
        " \n",
        "  int a = 5;\n",
        "  cout << (double)a << endl; // int型の値をdouble型に変換\n",
        " \n",
        "  double b = 3.141592;\n",
        "  cout << (int)b << endl; // double型の値をint型に変換\n",
        "}"
      ],
      "metadata": {
        "id": "IgsgpytPbN8q"
      },
      "execution_count": null,
      "outputs": []
    },
    {
      "cell_type": "code",
      "source": [
        "!g++ temp.cpp; ./a.out"
      ],
      "metadata": {
        "id": "OQ24B4_ibtd-"
      },
      "execution_count": null,
      "outputs": []
    },
    {
      "cell_type": "code",
      "source": [
        "# 暗黙的な数値型同士の変換\n",
        "%%html\n",
        "<table border=\"1\">\n",
        "<thead>\n",
        "<tr><th>型の組合せ </th><th> 暗黙的なキャスト </th><th> 計算結果の型</th></tr>\n",
        "</thead>\n",
        "<tbody>\n",
        "<tr><td>int型とdouble型 </td><td> int型→double型 </td><td> double型</td></tr>\n",
        "<tr><td>int型とint64_t型 </td><td> int型→int64_t型 </td><td> int64_t型</td></tr>\n",
        "<tr><td>double型とint64_t型 </td><td> int64_t型→double型 </td><td> double型</td></tr>\n",
        "</tbody>\n",
        "</table>"
      ],
      "metadata": {
        "id": "i_MpZpvdnS6O"
      },
      "execution_count": null,
      "outputs": []
    },
    {
      "cell_type": "code",
      "source": [
        "# また以下のような場合にも自動的にキャストが起こります。\n",
        "# 別の型の変数へ代入しようとした場合\n",
        "# 関数の引数に別の型の値を渡す場合\n",
        "%%writefile temp.cpp\n",
        "#include <bits/stdc++.h>\n",
        "using namespace std;\n",
        " \n",
        "void print_int(int x) {\n",
        "  cout << \"x = \" << x << endl;\n",
        "}\n",
        " \n",
        "int main() {\n",
        "  double a = 1.2345;\n",
        "  int b = 1;\n",
        " \n",
        "  // aがdouble型に変換されてからbとの足し算が行われる\n",
        "  // cout << a + (double)b << endl; と同じ結果\n",
        "  cout << a + b << endl;\n",
        " \n",
        "  int c = 2000000000;\n",
        "  int64_t d = 100;\n",
        "  // 初めにcがint64_t型へ変換されてからdとの掛け算が行われる\n",
        "  // cout << (int64_t)c * d << endl; と同じ結果\n",
        "  cout << c * d << endl;\n",
        " \n",
        "  double e = 3.141592;\n",
        "  int f = e;  // ここでdouble型からint型への変換が起こる(小数点以下が切り捨てられて3になる)\n",
        "  cout << f << endl;\n",
        " \n",
        "  // int型を引数に取る関数にdouble型を渡す\n",
        "  print_int(e);  // int型に変換されてから関数が実行される\n",
        "}"
      ],
      "metadata": {
        "id": "-7sy0SRjoL1V"
      },
      "execution_count": null,
      "outputs": []
    },
    {
      "cell_type": "code",
      "source": [
        "!g++ temp.cpp; ./a.out"
      ],
      "metadata": {
        "id": "NYI8qqG0pV4-"
      },
      "execution_count": null,
      "outputs": []
    },
    {
      "cell_type": "code",
      "source": [
        "# キャストが行えない場合はコンパイルエラーとなります。\n",
        "%%writefile temp.cpp\n",
        "Copy\n",
        "#include <bits/stdc++.h>\n",
        "using namespace std;\n",
        " \n",
        "void print_int(int x) {\n",
        "  cout << \"x = \" << x << endl;\n",
        "}\n",
        " \n",
        "int main() {\n",
        "  string s = \"12345\";\n",
        " \n",
        "  int x = s;     // コンパイルエラー\n",
        "  print_int(s);  // コンパイルエラー\n",
        "}"
      ],
      "metadata": {
        "id": "YxZ2gnrOouBZ"
      },
      "execution_count": null,
      "outputs": []
    },
    {
      "cell_type": "code",
      "source": [
        "# !g++ temp.cpp; ./a.out #=> エラーになるのでとりあえずコメントアウト"
      ],
      "metadata": {
        "id": "uRbF-AqYtZlV"
      },
      "execution_count": null,
      "outputs": []
    },
    {
      "cell_type": "code",
      "source": [
        "# 関数の引数に別の型の値を渡す場合でも、STLのmin関数やmax関数のように\n",
        "# 暗黙的な型変換が行われない関数もあるという点に注意してください。 \n",
        "# 詳しくは4章の「テンプレート」で扱います。\n",
        "\n",
        "# 細かい話\n",
        "\n",
        "# double型の精度と誤差\n",
        "\n",
        "# double型の内部について簡単に説明します。 double型では小数を扱うために\n",
        "# 「数字の並び」と「小数点の位置」を持っています。 そして、「数字の並び」で\n",
        "# 保持できる桁数はint型などと同じように上限があります。 double型では約16桁の並びを保持できます。\n",
        "# 逆に16桁を超える小数を正確に扱うことはできません。\n",
        "# 表現できる桁数に限りがあるので、計算を行ったときに誤差が生じることがあります。\n",
        "# 情報落ちと桁落ちについて説明します。"
      ],
      "metadata": {
        "id": "YlZC100ipd4C"
      },
      "execution_count": null,
      "outputs": []
    },
    {
      "cell_type": "code",
      "source": [
        "# 情報落ち\n",
        "# 差が極端に大きい2つの数を足し算することを考えます。 次のプログラムをみてください。\n",
        "%%writefile temp.cpp\n",
        "#include <bits/stdc++.h>\n",
        "using namespace std;\n",
        "\n",
        "int main() {\n",
        "  double x = 1000000000;\n",
        "  double y = 0.000000001;\n",
        "\n",
        "  // 1000000000.000000001 を表現するには19桁分必要 → 扱えない\n",
        "  double z = x + y;  // yの分が消えてしまう\n",
        "\n",
        "  cout << fixed << setprecision(16);\n",
        "  cout << \"x: \" << x << endl;\n",
        "  cout << \"y: \" << y << endl;\n",
        "  cout << \"z: \" << z << endl;\n",
        "}"
      ],
      "metadata": {
        "id": "VbflWV0ukh8Q"
      },
      "execution_count": null,
      "outputs": []
    },
    {
      "cell_type": "code",
      "source": [
        "!g++ temp.cpp; ./a.out"
      ],
      "metadata": {
        "id": "VsjqyHpEkptg"
      },
      "execution_count": null,
      "outputs": []
    },
    {
      "cell_type": "code",
      "source": [
        "# 桁落ち\n",
        "# 差が極端に小さい2つの数を引き算することを考えます。\n",
        "\n",
        "# x, yは本来無限に桁が続く小数とします。 \n",
        "# これらをコンピュータで扱おうとしたときに6桁までしか表現できず、\n",
        "# それ以降の桁は0になってしまっているとします。\n",
        "\n",
        "# double型を用いた場合は約16桁まで扱えますが、説明のために6桁までしか表現できないとしています。\n",
        "\n",
        "# 実際の値\tコンピュータ上での値\n",
        "# x\t0.1234567890123...\t0.123456\n",
        "# y\t0.1233456789012...\t0.123345\n",
        "# ここで、z = x - yを考えます。\n",
        "\n",
        "# 実際の値\tコンピュータ上での値\n",
        "# z = x - y\t0.0001111111111...\t0.000111\n",
        "# zの真の値は0.0001111111111...ですが、計算した結果は0.000111となっています。\n",
        "# 5桁までの精度の数で計算を行ったにも関わらず、計算結果は3桁（3つの数字の並び）\n",
        "# の精度になってしまっていることが分かります。"
      ],
      "metadata": {
        "id": "CT3QDpfUkdDT"
      },
      "execution_count": null,
      "outputs": []
    },
    {
      "cell_type": "code",
      "source": [
        "# printfでの出力\n",
        "# printfという関数を呼ぶことでも出力することができます。\n",
        "# 精度指定を行う場合やたくさんの値を出力する場合には cout よりも printf 関数を使う方が便利です。\n",
        "%%writefile temp.cpp\n",
        "#include <bits/stdc++.h>\n",
        "using namespace std;\n",
        " \n",
        "int main() {\n",
        "  int x = 12345;\n",
        "  double pi = 3.14159265358979;\n",
        "  printf(\"x = %d, pi = %lf\\n\", x, pi);\n",
        "}"
      ],
      "metadata": {
        "id": "detSWfbnlY12"
      },
      "execution_count": null,
      "outputs": []
    },
    {
      "cell_type": "code",
      "source": [
        "!g++ temp.cpp; ./a.out"
      ],
      "metadata": {
        "id": "xcpLMMZHmv82"
      },
      "execution_count": null,
      "outputs": []
    },
    {
      "cell_type": "code",
      "source": [
        "# printfの使い方は次の通りです。\n",
        "\n",
        "# printf(フォーマット文字列, 埋め込みたい値1, 埋め込みたい値2, ...)\n",
        "# 「フォーマット文字列」の部分は後で説明するフォーマット指定子を含む文字列を自由に指定できます。 \n",
        "# フォーマット指定子を書いた部分に「埋め込みたい値」が順番に埋め込まれます。\n",
        "\n",
        "# 上のサンプルプログラムでは\"x = %d, pi = %lf\\n\"と指定しています。 \n",
        "# %dや%lfの部分がフォーマット指定子です。 1つ目の%dの部分にはxの内容が埋め込まれ、\n",
        "# 2つ目の%lfの部分にはpiの内容が埋め込まれます。 \n",
        "\n",
        "# フォーマット指定子\n",
        "# 埋め込みたい値の型によって対応するフォーマット指定子を使う必要があります、\n",
        "# 代表的なものは次の表のようになっています。\n",
        "%%html\n",
        "<table border=\"1\">\n",
        "<thead>\n",
        "<tr><th>型 </th><th> フォーマット指定子</th></tr>\n",
        "</thead>\n",
        "<tbody>\n",
        "<tr><td>int </td><td> %d</td></tr>\n",
        "<tr><td>int64_t </td><td> %ld（%lld）</td></tr>\n",
        "<tr><td>double </td><td> %lf</td></tr>\n",
        "<tr><td>char </td><td> %c</td></tr>\n",
        "</tbody>\n",
        "</table>"
      ],
      "metadata": {
        "id": "pSVbQ3nIlg9m"
      },
      "execution_count": null,
      "outputs": []
    },
    {
      "cell_type": "code",
      "source": [
        "# 32ビットシステム上でint64_tをprintfで出力する場合、フォーマット指定子は%lldとする必要があります。\n",
        "\n",
        "# なお、string型の文字列を出力する場合、次のように書く必要があります。\n",
        "\n",
        "%%writefile temp.cpp\n",
        "#include <bits/stdc++.h>\n",
        "using namespace std;\n",
        "int main() {\n",
        "  string s = \"hello\";\n",
        "  // フォーマット指定子 %s を用い s.c_str() を渡す\n",
        "  printf(\"%s\\n\", s.c_str());\n",
        "}"
      ],
      "metadata": {
        "id": "-HIeNSXenf5p"
      },
      "execution_count": null,
      "outputs": []
    },
    {
      "cell_type": "code",
      "source": [
        "!g++ temp.cpp; ./a.out"
      ],
      "metadata": {
        "id": "MBTuI1SWnsfe"
      },
      "execution_count": null,
      "outputs": []
    },
    {
      "cell_type": "code",
      "source": [
        "# さらにフォーマット指定子の部分を変更することで出力する小数の桁数などの出力の仕方を\n",
        "# 変更することができます。\n",
        "%%writefile temp.cpp\n",
        "#include <bits/stdc++.h>\n",
        "using namespace std;\n",
        "int main() {\n",
        "  double pi = 3.14159265358979;\n",
        "  // %.桁数f とすると小数点以下「桁数」だけ出力される\n",
        "  printf(\"%.10lf\\n\", pi);\n",
        "\n",
        "  int x = 1;\n",
        "  int y = 99;\n",
        "  int z = 123;\n",
        "  // %0桁数d とすると表示桁数が「桁数」に満たない場合に0埋めされる\n",
        "  printf(\"%03d, %03d, %03d\\n\", x, y, z);\n",
        "}"
      ],
      "metadata": {
        "id": "TkmyaqVmnzc_"
      },
      "execution_count": null,
      "outputs": []
    },
    {
      "cell_type": "code",
      "source": [
        "!g++ temp.cpp; ./a.out"
      ],
      "metadata": {
        "id": "-KMIorWZoE9l"
      },
      "execution_count": null,
      "outputs": []
    },
    {
      "cell_type": "code",
      "source": [
        "# scanfでの入力\n",
        "# scanfという関数で入力を受け取ることもできます。\n",
        "%%writefile temp.cpp\n",
        "#include <bits/stdc++.h>\n",
        "using namespace std;\n",
        " \n",
        "int main() {\n",
        "  int x;\n",
        "  double pi;\n",
        "  // scanfによる入力\n",
        "  scanf(\"x = %d, pi = %lf\", &x, &pi);\n",
        " \n",
        "  printf(\"x = %d, pi = %lf\\n\", x, pi);\n",
        "}"
      ],
      "metadata": {
        "id": "u-UsnO5SoIXu"
      },
      "execution_count": null,
      "outputs": []
    },
    {
      "cell_type": "code",
      "source": [
        "!g++ temp.cpp; echo x = 12345, pi = 3.141593 |./temp"
      ],
      "metadata": {
        "id": "3wUItSCDU0tm"
      },
      "execution_count": null,
      "outputs": []
    },
    {
      "cell_type": "code",
      "source": [
        "# scanf(フォーマット文字列, &変数1, &変数2, &変数3, ...);\n",
        "# 引数に渡す変数の前に&が必要なことに注意してください。\n",
        "# フォーマット文字列は基本的にはprintfのものと同じです。\n",
        "# ただし、string型の文字列を直接入力することはできません。 この場合はcinを使ってください。\n",
        "# 空白文字の扱い\n",
        "# %dなどのフォーマット指定子を指定した場合、直前に連続する空白文字を読み飛ばします。\n",
        "# 空白文字とはスペース()、改行文字(\\n)、タブ文字(\\t)などのことです。\n",
        "# 以下のような呼び出しに対し、123 456という文字列を入力した場合、xは123となり、yは456となります。\n",
        "%%writefile temp.cpp\n",
        "#include <bits/stdc++.h>\n",
        "using namespace std;\n",
        " \n",
        "int main() {\n",
        "  int x, y;\n",
        "  // scanfによる入力\n",
        "  scanf(\"%d%d\", &x, &y);\n",
        "  printf(\"x = %d, y = %d\\n\", x, y);\n",
        "}"
      ],
      "metadata": {
        "id": "Dg4qmyeSUVYJ"
      },
      "execution_count": null,
      "outputs": []
    },
    {
      "cell_type": "code",
      "source": [
        "!g++ temp.cpp; echo 123 456 |./temp"
      ],
      "metadata": {
        "id": "fl4j1FEuWfyP"
      },
      "execution_count": null,
      "outputs": []
    },
    {
      "cell_type": "code",
      "source": [
        "# 文字列との変換\n",
        "# to_string関数\n",
        "# 数値型から文字列に変換するには、to_string関数を用います。\n",
        "# to_string関数は、引数の数値をstring型に変換します。\n",
        "%%writefile temp.cpp\n",
        "#include <bits/stdc++.h>\n",
        "using namespace std;\n",
        " \n",
        "int main() {\n",
        "  int number = 100;\n",
        "  string s = to_string(number);\n",
        "  cout << s + \"yen\" << endl;\n",
        "}"
      ],
      "metadata": {
        "id": "OkLkqu_DWcxf"
      },
      "execution_count": null,
      "outputs": []
    },
    {
      "cell_type": "code",
      "source": [
        "!g++ temp.cpp; echo 123 456 |./temp"
      ],
      "metadata": {
        "id": "BE8rRXHhZdZX"
      },
      "execution_count": null,
      "outputs": []
    },
    {
      "cell_type": "code",
      "source": [
        "# stoi関数\n",
        "# 文字列からint型に変換するには、stoi関数を用います。\n",
        "%%writefile temp.cpp\n",
        "#include <bits/stdc++.h>\n",
        "using namespace std;\n",
        " \n",
        "int main() {\n",
        "  string s = \"100\";\n",
        "  int n = stoi(s);\n",
        "  cout << n << endl;\n",
        "}"
      ],
      "metadata": {
        "id": "Lf54zl5uZaj9"
      },
      "execution_count": null,
      "outputs": []
    },
    {
      "cell_type": "code",
      "source": [
        "!g++ temp.cpp; echo 123 456 |./temp"
      ],
      "metadata": {
        "id": "1Vj-4z0eZrHO"
      },
      "execution_count": null,
      "outputs": []
    },
    {
      "cell_type": "code",
      "source": [
        "# 文字列から他の数値型への変換はそれぞれの型に対応する関数を用います。 対応表を次に示します。\n",
        "# これらの関数の使い方はstoi関数と同じです。\n",
        "# その他の型専用の関数も用意されていますが、基本的にint64_t型かdouble型にしてからキャストすればよいです。\n",
        "%%html\n",
        "<style>\n",
        "    tr td:nth-child(2) {\n",
        "        color: red;\n",
        "        text-align: center;\n",
        "    }\n",
        "</style>\n",
        "<table border=\"1\">\n",
        "<thead>\n",
        "<tr><th>型 </th><th> 文字列からの変換関数</th></tr>\n",
        "</thead>\n",
        "<tbody>\n",
        "<tr><td>int </td><td> stoi</td></tr>\n",
        "<tr><td>int64_t </td><td> stoll</td></tr>\n",
        "<tr><td>double </td><td> stod</td></tr>\n",
        "</tbody>\n",
        "</table>"
      ],
      "metadata": {
        "id": "Jvn-tY6iZoax"
      },
      "execution_count": null,
      "outputs": []
    },
    {
      "cell_type": "code",
      "source": [
        "# 他の数値型\n",
        "# int型やdouble型以外にも様々な数値型が用意されています。 \n",
        "# これらは扱える値の範囲や精度、使用するメモリの量が異なります。\n",
        "\n",
        "# 整数型\n",
        "# 主な符号付き整数型\n",
        "%%html\n",
        "<table border=\"1\">\n",
        "<thead>\n",
        "<tr><th>型 </th><th> 扱える値の範囲 </th><th> 使用するメモリ量</th></tr>\n",
        "</thead>\n",
        "<tbody>\n",
        "<tr><td>signed char </td><td> −2^7 〜2^7 −1 </td><td> 1 byte (8 bit)</td></tr>\n",
        "<tr><td>short </td><td> −2^15 〜2^15 −1 </td><td> 2 byte (16 bit)</td></tr>\n",
        "<tr><td>int </td><td> −2^31 〜2^31 −1 </td><td> 4 byte (32 bit)</td></tr>\n",
        "<tr><td>long long </td><td> −2^63 〜2^63 −1 </td><td> 8 byte (64 bit)</td></tr>\n",
        "<tr><td>int8_t </td><td> −2^7 〜2^7 −1 </td><td> 1 byte (8 bit)</td></tr>\n",
        "<tr><td>int16_t </td><td> −2^15 〜2^15 −1 </td><td> 2 byte (16 bit)</td></tr>\n",
        "<tr><td>int32_t </td><td> −2^31 〜2^31 −1 </td><td> 4 byte (32 bit)</td></tr>\n",
        "<tr><td>int64_t </td><td> −2^63 〜2^63 −1 </td><td> 8 byte (64 bit)</td></tr>\n",
        "</tbody>\n",
        "</table>"
      ],
      "metadata": {
        "id": "aPQBJh2ZZ6pn"
      },
      "execution_count": null,
      "outputs": []
    },
    {
      "cell_type": "code",
      "source": [
        "# 主な符号無し整数型\n",
        "%%html\n",
        "<table border=\"1\">\n",
        "<thead>\n",
        "<tr><th>型 </th><th> 扱える値の範囲 </th><th> 使用するメモリ量</th></tr>\n",
        "</thead>\n",
        "<tbody>\n",
        "<tr><td>unsigned char </td><td> 0〜2^8 −1 </td><td> 1 byte (8 bit)</td></tr>\n",
        "<tr><td>unsigned short </td><td> 0〜2^16 −1 </td><td> 2 byte (16 bit)</td></tr>\n",
        "<tr><td>unsigned int </td><td> 0〜2^32 −1 </td><td> 4 byte (32 bit)</td></tr>\n",
        "<tr><td>unsigned long long </td><td> 0〜2^64 −1 </td><td> 8 byte (64 bit)</td></tr>\n",
        "<tr><td>uint8_t </td><td> 0〜2^8 −1 </td><td> 1 byte (8 bit)</td></tr>\n",
        "<tr><td>uint16_t </td><td> 0〜2^16 −1 </td><td> 2 byte (16 bit)</td></tr>\n",
        "<tr><td>uint32_t </td><td> 0〜2^32 −1 </td><td> 4 byte (32 bit)</td></tr>\n",
        "<tr><td>uint64_t </td><td> 0〜2^64 −1 </td><td> 8 byte (64 bit)</td></tr>\n",
        "</tbody>\n",
        "</table>"
      ],
      "metadata": {
        "id": "GFXBeBurGbGs"
      },
      "execution_count": null,
      "outputs": []
    },
    {
      "cell_type": "code",
      "source": [
        "# 使用するメモリについては、たとえば「long long型は64bitなので、\n",
        "# 変数1つに対してint型変数2つ分のメモリが必要」のように考えてください。\n",
        "# たくさんあってどう使い分けるのか分からなくなるかもしれませんが、 int??_t系やuint??_t系を使うことをおすすめします。 \n",
        "# 極端な話ですが、使用するメモリ量をそこまで気にしないのであれば全てint64_t型かuint64_t型を使ってしまうという手もあります。\n",
        "\n",
        "# 実数型\n",
        "%%html\n",
        "<table border=\"1\">\n",
        "<thead>\n",
        "<tr><th>型 </th><th> 扱える値の範囲(絶対値) </th><th> 扱える精度(10進数) </th><th> 使用するメモリ量</th></tr>\n",
        "</thead>\n",
        "<tbody>\n",
        "<tr><td>float </td><td> 約1.17×10^−38 〜 約3.40×10^38 </td><td> 約8桁 </td><td> 4 byte (32 bit)</td></tr>\n",
        "<tr><td>double </td><td> 約2.22×10^−308 〜 約1.79×10^308 </td><td> 約16桁 </td><td> 8 byte (64 bit)</td></tr>\n",
        "</tbody>\n",
        "</table>"
      ],
      "metadata": {
        "id": "vsqwzkxLG2ap"
      },
      "execution_count": null,
      "outputs": []
    },
    {
      "cell_type": "code",
      "source": [
        "# 環境依存の仕様\n",
        "# 環境によって扱える範囲が変わる整数型としてlongがあります。 longの扱える範囲は次の表のとおりです。\n",
        "%%html\n",
        "<table border=\"1\">\n",
        "<thead>\n",
        "<tr><th></th><th> Windows </th><th> Linux </th><th> mac OS X</th></tr>\n",
        "</thead>\n",
        "<tbody>\n",
        "<tr><td>32ビットシステム </td><td> int32_tと同じ </td><td> int32_tと同じ </td><td> int32_tと同じ</td></tr>\n",
        "<tr><td>64ビットシステム </td><td> int32_tと同じ </td><td> int64_tと同じ </td><td> int64_tと同じ</td></tr>\n",
        "</tbody>\n",
        "</table>"
      ],
      "metadata": {
        "id": "xQ6yi9i3Kfln"
      },
      "execution_count": null,
      "outputs": []
    },
    {
      "cell_type": "code",
      "source": [
        "# AtCoder上で実行した場合は、longが扱える範囲はint64_tと同じになります。\n",
        "\n",
        "# プログラム中に直接書いた数値をlong型として扱うには、10Lのように末尾に1つのLをつけて書きます。\n",
        "\n",
        "# AtCoder上ではint64_tはlong型として扱われるため、厳密にはプログラム中に直接書いた\n",
        "# 数値をint64_tとして扱いたい場合には10Lのようにlong型に合わせて書いた方が正確ですが、\n",
        "# 他のシステム上でも同様に動くようにするために、「int64_t型として扱うためにはLLと書く」と説明しています。\n",
        "\n",
        "# size_t\n",
        "# 配列や文字列のsize()で返ってくる要素数の値はsize_tという符号なしの整数型です。 \n",
        "# C++ (GCC 9.2.1)においてsize_tはunsigned long（単なる別名）として定義されています。\n",
        "\n",
        "# 実行環境によって、for文でfor (int i = 0; i < 配列.size(); i++)と書いたときに警告が出るのは、\n",
        "# int型（符号付き）とsize_t型（符号無し）を比較しているためです。 \n",
        "# しかし、暗黙的にキャストが行われるので動作には影響ありません。\n",
        "\n",
        "# 符号なし整数のオーバーフロー\n",
        "# 符号なし整数は負の数を扱えないため、例えばunsigned char型の0から1を引くと255となってしまいます。\n",
        "\n",
        "# size_t型は符号なしの整数型であるため、次のようなプログラムは意図した挙動になりません。\n",
        "\n",
        "# #include <bits/stdc++.h>\n",
        "# using namespace std;\n",
        " \n",
        "# int main() {\n",
        "#   vector<int> data(0);  // サイズ0\n",
        "#   cout << data.size() - 1 << endl;  // -1ではない\n",
        " \n",
        "#   // 配列のサイズ-1回だけループしたい\n",
        "#   for (int i = 0; i < data.size() - 1; i++) {\n",
        "#     cout << i << endl;\n",
        "#   }\n",
        "# }\n",
        "# 実行結果の例\n",
        "# 18446744073709551615\n",
        "# 0\n",
        "# 1\n",
        "# 2\n",
        "# 3\n",
        "# 4\n",
        "# 5\n",
        "# 6\n",
        "# 7\n",
        "# 8\n",
        "# (省略)\n",
        "\n",
        "# この例では、ループ回数のdata.size() - 1がオーバーフローして18446744073709551615という値になってしまっています。\n",
        "\n",
        "# 配列のサイズ-1回だけループしたい場合は、次のようにsize()の結果を符号付きにキャストする必要があります。\n",
        "\n",
        "# // 配列のサイズ-1回のループ(ただし、空の場合はループ内は実行されない)\n",
        "# for (int i = 0; i < (int)配列.size() - 1; i++) {\n",
        "#   // 適当な処理\n",
        "# }\n"
      ],
      "metadata": {
        "id": "hT5U8tQRLahS"
      },
      "execution_count": null,
      "outputs": []
    },
    {
      "cell_type": "code",
      "source": [
        "# 問題\n",
        "# ABC079 B - Lucas Number\n",
        "# 今、日本は 11 月 18 日ですが、11 と 18 は隣り合うリュカ数です。\n",
        "# 整数 N が与えられるので、N 番目のリュカ数を求めてください。\n",
        "# ただし、リュカ数は i 番目のリュカ数を L_i とすると、\n",
        "# L_0 = 2\n",
        "# L_1 = 1\n",
        "# L_i = L_{i−1} + L_{i−2} (i≧2)\n",
        "# と定義される数とします。\n",
        "# 制約\n",
        "# 1≦N≦86\n",
        "# 答えは 10^18 より小さいことが保証される\n",
        "# N 番目のリュカ数を出力せよ。\n",
        "%%writefile temp.cpp\n",
        "#include <bits/stdc++.h>\n",
        "using namespace std;\n",
        "\n",
        "int lucas (long long  n) {\n",
        "    if(n == 0) return 2;\n",
        "    if(n == 1) return 1;\n",
        "    return (lucas(n-1) +  lucas(n-2));\n",
        "}\n",
        "int main() {\n",
        "  int N;\n",
        "  cin >> N;\n",
        "  cout << lucas(N) << endl;\n",
        "}"
      ],
      "metadata": {
        "id": "gWOfzhD2M1eY"
      },
      "execution_count": null,
      "outputs": []
    },
    {
      "cell_type": "code",
      "source": [
        "!g++ temp.cpp; echo 5 |./temp #=> 11\n",
        "# !g++ temp.cpp; echo 86 |./temp #=> 939587134549734843 #=> 終わらないのでプログラムを変える"
      ],
      "metadata": {
        "id": "u7u9_qdQsmWe"
      },
      "execution_count": null,
      "outputs": []
    },
    {
      "cell_type": "code",
      "source": [
        "# 再帰だと云々なので改良する\n",
        "%%writefile temp.cpp\n",
        "#include <bits/stdc++.h>\n",
        "using namespace std;\n",
        "\n",
        "int main() {\n",
        "  int N, lucas;\n",
        "  cin >> N;\n",
        "  vector<long long> vec = {};\n",
        "  vec.push_back(2);\n",
        "  vec.push_back(1);\n",
        "  for (int i=2; i <= N; i++){\n",
        "      vec.push_back(vec.at(i-1)+vec.at(i-2));\n",
        "  }\n",
        "  cout << vec.at(N) << endl;\n",
        "}"
      ],
      "metadata": {
        "id": "4ls2ANpyslL2"
      },
      "execution_count": null,
      "outputs": []
    },
    {
      "cell_type": "code",
      "source": [
        "!g++ temp.cpp; echo 5 |./temp #=> 11\n",
        "!g++ temp.cpp; echo 86 |./temp #=> 939587134549734843 "
      ],
      "metadata": {
        "id": "eqCMmysQM1Zz"
      },
      "execution_count": null,
      "outputs": []
    },
    {
      "cell_type": "code",
      "source": [
        "# Z - 3.02.pair／tupleとauto\n",
        "# キーポイント\n",
        "# pair\n",
        "# * pair型は2つの値の組を表す\n",
        "# * pair<値1の型, 値2の型> 変数名;で宣言する\n",
        "# * 変数名.firstで1番目の値、変数名.secondで2番目の値にアクセスできる\n",
        "# * make_pair(値1, 値2)でpairを生成することができる\n",
        "# * tie(変数1, 変数2) = pair型の値;でpairを分解することができる\n",
        "# tuple\n",
        "# * tuple型は複数個の値の組を表す\n",
        "# * tuple<値1の型, 値2の型, 値3の型, (...)> 変数名;(必要な分だけ型を書く)で宣言する\n",
        "# * make_tuple(値1, 値2, 値3, (...))でtupleを生成することができる\n",
        "# * tie(変数1, 変数2, 変数3, (...)) = tuple型の値;でtupleを分解することができる\n",
        "# pair/tupleの比較\n",
        "# * 1番目の値から比較され、等しい場合は次の値で比較される\n",
        "# auto\n",
        "# * 変数宣言や範囲for文において、autoを用いることで、型を省略して書くことができる\n",
        "# * autoで参照を作ることもできる"
      ],
      "metadata": {
        "id": "XmB42c6Qv_C2"
      },
      "execution_count": null,
      "outputs": []
    },
    {
      "cell_type": "code",
      "source": [
        "# pair\n",
        "# pairは2つの値の組を表す型です。\n",
        "# サンプルコード\n",
        "%%writefile temp.cpp\n",
        "#include <bits/stdc++.h>\n",
        "using namespace std;\n",
        " \n",
        "int main() {\n",
        "  pair<string, int> p(\"abc\", 3);\n",
        "  cout << p.first << endl;  // abc\n",
        " \n",
        "  p.first = \"hello\";\n",
        "  cout << p.first << endl;  // hello\n",
        "  cout << p.second << endl; // 3\n",
        " \n",
        "  p = make_pair(\"*\", 1);\n",
        " \n",
        "  string s;\n",
        "  int a;\n",
        "  tie(s, a) = p;\n",
        "  cout << s << endl;  // *\n",
        "  cout << a << endl;  // 1\n",
        "}"
      ],
      "metadata": {
        "id": "XKHnI9jT16Oi"
      },
      "execution_count": null,
      "outputs": []
    },
    {
      "cell_type": "code",
      "source": [
        "!g++ temp.cpp; ./a.out "
      ],
      "metadata": {
        "id": "wMdQpDqG2PVO"
      },
      "execution_count": null,
      "outputs": []
    },
    {
      "cell_type": "code",
      "source": [
        "# 宣言・初期化\n",
        "# * pair<型1, 型2> 変数名;\n",
        "# * pair<型1, 型2> 変数名(値1, 値2);\n",
        "# アクセス\n",
        "# * 変数名.first   // 1つ目の値\n",
        "# * 変数名.second  // 2つ目の値\n",
        "# pairの生成\n",
        "# * make_pair(値1, 値2)\n",
        "# make_pairによってpair型の値を得ることができます。\n",
        "\n",
        "# また、次のようにすることでもpairを生成することができます。\n",
        "\n",
        "# * pair<型1, 型2>(値1, 値2)\n",
        "# どちらを使っても構いませんが、make_pairでは型を明示的に書く必要がないのでmake_pairを使うとよいでしょう。\n",
        "\n",
        "# 細かい話で扱う型エイリアスを用いてpairの型に簡単な名前を付ける場合、後者の方が楽に書ける場合もあります。\n",
        "\n",
        "# pairの分解\n",
        "# * 型1 変数1;\n",
        "# * 型2 変数2;\n",
        "# * tie(変数1, 変数2) = pair型の値;\n",
        "# 変数1、変数2にそれぞれpairの1番目の値、2番目の値が代入されます。\n"
      ],
      "metadata": {
        "id": "YDdqVh2d2NWv"
      },
      "execution_count": null,
      "outputs": []
    },
    {
      "cell_type": "code",
      "source": [
        "# tuple\n",
        "# tupleはpairを一般化したもので、「複数個の値の組」を表す型です。\n",
        "\n",
        "# サンプルコード\n",
        "%%writefile temp.cpp\n",
        "#include <bits/stdc++.h>\n",
        "using namespace std;\n",
        " \n",
        "int main() {\n",
        "  tuple<int, string, bool> data(1, \"hello\", true);\n",
        "  get<2>(data) = false;\n",
        "  cout << get<1>(data) << endl;  // hello\n",
        " \n",
        "  data = make_tuple(2, \"WORLD\", true);\n",
        " \n",
        "  int a;\n",
        "  string s;\n",
        "  bool f;\n",
        "  tie(a, s, f) = data;\n",
        "  cout << a << \" \" << s << \" \" << f << endl;  // 2 WORLD 1\n",
        "}"
      ],
      "metadata": {
        "id": "2I_e22At25t8"
      },
      "execution_count": null,
      "outputs": []
    },
    {
      "cell_type": "code",
      "source": [
        "!g++ temp.cpp; ./a.out "
      ],
      "metadata": {
        "id": "jzQodZOpQAme"
      },
      "execution_count": null,
      "outputs": []
    },
    {
      "cell_type": "code",
      "source": [
        "# 宣言・初期化\n",
        "# * tuple<型1, 型2, 型3, ...(必要な分だけ型を書く)> 変数名;\n",
        "# * tuple<型1, 型2, 型3, ...(必要な分だけ型を書く)> 変数名(値1, 値2, 値3, ...); // 初期化\n",
        "# tupleでは0個以上の組を表現することができます。\n",
        "\n",
        "# アクセス\n",
        "# * get<K>(tuple型の変数)  // K(定数)番目にアクセス\n",
        "# Kは定数でなければならないことと、Kは0から始まる数であることに注意してください。\n",
        "\n",
        "# 次のように、Kとして変数を用いることはできません。\n",
        "\n",
        "# int i = 2;\n",
        "# tuple<int, int, int> data(1, 2, 3);\n",
        "# cout << get<i>(data) << endl;  // コンパイルエラー\n"
      ],
      "metadata": {
        "id": "S5ZoTTSlP1Pd"
      },
      "execution_count": null,
      "outputs": []
    },
    {
      "cell_type": "code",
      "source": [
        "# tupleの生成\n",
        "# * make_tuple(値1, 値2, 値3, ...)\n",
        "# 以下のようにして生成することもできます。\n",
        "# * tuple<型1, 型2, 型3, ...(必要な分だけ書く)>(値1, 値2, 値3, ...)\n",
        "\n",
        "# tupleの分解\n",
        "\n",
        "# 型1 変数1;\n",
        "# 型2 変数2;\n",
        "# 型3 変数3;\n",
        "# ︙\n",
        "# tie(変数1, 変数2, 変数3, ...) = tuple型の値;\n"
      ],
      "metadata": {
        "id": "bln6htksQqm0"
      },
      "execution_count": null,
      "outputs": []
    },
    {
      "cell_type": "code",
      "source": [
        "# pair/tupleの比較\n",
        "# 型が同じpairやtuple同士は比較することができます。\n",
        "# 例えばpair<int, int>を比較する場合、1番目の値を基準に比較され、もし1番目の値が\n",
        "# 等しい場合は2番目の値を基準に比較されます。\n",
        "%%writefile temp.cpp\n",
        "#include <bits/stdc++.h>\n",
        "using namespace std;\n",
        " \n",
        "int main() {\n",
        "  pair<int, int> a(3, 1);\n",
        "  pair<int, int> b(2, 10);\n",
        "  // 3 > 2 なので a < b は false\n",
        "  if (a < b) {\n",
        "    cout << \"a < b\" << endl;\n",
        "  }\n",
        "  else {\n",
        "    cout << \"a >= b\" << endl;\n",
        "  }\n",
        " \n",
        "  pair<int, int> c(5, 1);\n",
        "  pair<int, int> d(5, 10);\n",
        "  // 5 == 5 であり 1 < 10 なので c < d は true\n",
        "  if (c < d) {\n",
        "    cout << \"c < d\" << endl;\n",
        "  }\n",
        "  else {\n",
        "    cout << \"c >= d\" << endl;\n",
        "  }\n",
        "}"
      ],
      "metadata": {
        "id": "yjJ6mvqSREKV"
      },
      "execution_count": null,
      "outputs": []
    },
    {
      "cell_type": "code",
      "source": [
        "!g++ temp.cpp; ./a.out "
      ],
      "metadata": {
        "id": "TBH-SuLdRQwD"
      },
      "execution_count": null,
      "outputs": []
    },
    {
      "cell_type": "code",
      "source": [
        "# tupleを比較する場合もpairと同様に「1番目の値が最優先で比較され、等しい場合は2番目の値で比較する。\n",
        "# もし2番目の値も等しい場合は3番目の値を比較する……」と、1番目の値から順に比較されます。\n",
        "\n",
        "# なお、==は全ての値が等しい場合、!=は1つ以上の異なる値が存在する場合にtrueとなります。\n",
        "\n",
        "# pairやtupleの配列をソートする場合も上記の比較順序でソートされます。\n",
        "\n",
        "%%writefile temp.cpp\n",
        "#include <bits/stdc++.h>\n",
        "using namespace std;\n",
        " \n",
        "int main() {\n",
        "  vector<tuple<int, int, int>> a;\n",
        "  a.push_back(make_tuple(3, 1, 1));\n",
        "  a.push_back(make_tuple(1, 2, 100));\n",
        "  a.push_back(make_tuple(3, 5, 1));\n",
        "  a.push_back(make_tuple(1, 2, 3));\n",
        "  sort(a.begin(), a.end());\n",
        " \n",
        "  for (tuple<int, int, int> t : a) {\n",
        "    int x, y, z;\n",
        "    tie(x, y, z) = t;\n",
        "    cout << x << \" \" << y << \" \" << z << endl;\n",
        "  }\n",
        "}"
      ],
      "metadata": {
        "id": "AMn3So-GRONJ"
      },
      "execution_count": null,
      "outputs": []
    },
    {
      "cell_type": "code",
      "source": [
        "!g++ temp.cpp; ./a.out "
      ],
      "metadata": {
        "id": "iy9iwqcKRwzD"
      },
      "execution_count": null,
      "outputs": []
    },
    {
      "cell_type": "code",
      "source": [
        "# auto\n",
        "# 初期化を伴って変数を宣言する場合や範囲for文において、型の部分にautoと書くことによって\n",
        "# 型を省略することができます。\n",
        "\n",
        "%%writefile temp.cpp\n",
        "#include <bits/stdc++.h>\n",
        "using namespace std;\n",
        " \n",
        "string concat(string a, string b) {\n",
        "  return a + b;\n",
        "}\n",
        " \n",
        "int main() {\n",
        "  string a = \"Hello,\";\n",
        "  string b = \"World\";\n",
        "  auto ab = concat(a, b);  // string型\n",
        "  cout << ab << endl;\n",
        " \n",
        "  vector<int> c = {1, 2, 3};\n",
        "  auto d = c;  // vector<int>型\n",
        " \n",
        "  for (auto elem : d) {\n",
        "    // elemはint型\n",
        "    cout << elem << endl;\n",
        "  }\n",
        "}"
      ],
      "metadata": {
        "id": "U_WhV0JhRvhp"
      },
      "execution_count": null,
      "outputs": []
    },
    {
      "cell_type": "code",
      "source": [
        "!g++ temp.cpp; ./a.out "
      ],
      "metadata": {
        "id": "8-3cJrNbSKaM"
      },
      "execution_count": null,
      "outputs": []
    },
    {
      "cell_type": "code",
      "source": [
        "# 変数宣言でのauto\n",
        "# * auto 変数名 = 初期値;\n",
        "\n",
        "# 範囲for文でのauto\n",
        "\n",
        "# for (auto 変数名 : 配列変数) {\n",
        "#   // 変数名 を使う\n",
        "# }\n",
        "\n",
        "# 参照でのauto\n",
        "\n",
        "# int a = 12345;\n",
        "# auto &ref = a;  // aへの参照 `int &ref = a;`と書くのと同じ\n",
        "\n",
        "# vector<int> b = {1, 2, 3};\n",
        "# // 範囲for文でも参照にすることができる\n",
        "# for (auto &elem : b) {\n",
        "#   elem *= 2;\n",
        "# }\n",
        "# cout << b.at(0) << endl;  // 2\n",
        "# cout << b.at(1) << endl;  // 4\n",
        "# cout << b.at(2) << endl;  // 6\n"
      ],
      "metadata": {
        "id": "_ubjVGAFSEsS"
      },
      "execution_count": null,
      "outputs": []
    },
    {
      "cell_type": "code",
      "source": [
        "# ignore\n",
        "# pairやtupleを分解する際に要らない要素を捨てたい場合、ignoreをtieの引数に渡すことで、\n",
        "# 対応する位置の値を捨てることができます。\n",
        "%%writefile temp.cpp\n",
        "#include <bits/stdc++.h>\n",
        "using namespace std;\n",
        " \n",
        "int main() {\n",
        "  pair<int, int> p(3, 5);\n",
        "  int right;\n",
        "  tie(ignore, right) = p;  // 2番目の値だけ取り出す\n",
        "  cout << right << endl; // 5\n",
        " \n",
        "  tuple<int, string, bool> tpl(2, \"hello\", false);\n",
        "  int x;\n",
        "  string s;\n",
        "  tie(x, s, ignore) = tpl;  // 1番目の値、2番目の値だけ取り出す\n",
        "  cout << x << \" \" << s << endl; // 2 hello\n",
        "}"
      ],
      "metadata": {
        "id": "8pmUd_IAUIEv"
      },
      "execution_count": null,
      "outputs": []
    },
    {
      "cell_type": "code",
      "source": [
        "!g++ temp.cpp; ./a.out "
      ],
      "metadata": {
        "id": "DRX37OJYUSnU"
      },
      "execution_count": null,
      "outputs": []
    },
    {
      "cell_type": "code",
      "source": [
        "# 型エイリアス\n",
        "# 型エイリアスを用いると型に別の名前をつけることができます。 \n",
        "# pairやtupleなど型名が長くなってしまう場合に型エイリアスを使うと便利です。\n",
        "%%writefile temp.cpp\n",
        "#include <bits/stdc++.h>\n",
        "using namespace std;\n",
        " \n",
        "int main() {\n",
        "  using pii = pair<int, int>;\n",
        "  // これ以降 pii という型名はpair<int, int> と同じ意味で使える\n",
        " \n",
        "  pii p;\n",
        "  p = make_pair(1, 2);\n",
        "  cout << \"(\" << p.first << \", \" << p.second << \")\" << endl;\n",
        "  p = pii(3, 4);  // 別のpairを作って代入\n",
        "  cout << \"(\" << p.first << \", \" << p.second << \")\" << endl;\n",
        "}"
      ],
      "metadata": {
        "id": "6AjP_2SVUNMM"
      },
      "execution_count": null,
      "outputs": []
    },
    {
      "cell_type": "code",
      "source": [
        "!g++ temp.cpp; ./a.out "
      ],
      "metadata": {
        "id": "71lOe3T-UpMP"
      },
      "execution_count": null,
      "outputs": []
    },
    {
      "cell_type": "code",
      "source": [
        "# 次のようにして型エイリアスを宣言することができます。\n",
        "\n",
        "# 型エイリアスの宣言\n",
        "# * using 新しい型名 = 型名;using 新しい型名 = 型名;\n",
        "# 宣言した型エイリアスは型名として利用できます。\n",
        "\n",
        "# 型エイリアスを用いることで、多次元配列の型を簡単に書くこともできます。\n",
        "\n",
        "\n",
        "# using vi = vector<int>; // intの1次元の型に vi という別名をつける\n",
        "# using vvi = vector<vi>; // intの2次元の型に vvi という別名をつける\n",
        "\n",
        "# int N = 10, M = 20;\n",
        "# vvi data(N, vi(M));  // N * M の2次元配列\n",
        "\n",
        "\n",
        "# これまでプログラムの2行目に書いていたusing namespace std;にもusingという\n",
        "# キーワードが出てきますが、このusingと型エイリアスのusingは違う意味なので注意してください。\n",
        "\n",
        "# なお、C++では同様の機能としてtypedef宣言が用意されていますが、\n",
        "# 基本的にはusingを使うようにしましょう。\n",
        "\n",
        "%%writefile temp.cpp\n",
        "#include <bits/stdc++.h>\n",
        "using namespace std;\n",
        " \n",
        "int main() {\n",
        "  typedef pair<int, int> pii;  // pair<int, int> に pii という別名を付ける\n",
        " \n",
        "  pii p = make_pair(1, 2);\n",
        "  cout << \"(\" << p.first << \", \" << p.second << \")\" << endl;\n",
        "}"
      ],
      "metadata": {
        "id": "p1KlUekNUn5n"
      },
      "execution_count": null,
      "outputs": []
    },
    {
      "cell_type": "code",
      "source": [
        "!g++ temp.cpp; ./a.out "
      ],
      "metadata": {
        "id": "pV34-9FCVmV_"
      },
      "execution_count": null,
      "outputs": []
    },
    {
      "cell_type": "code",
      "source": [
        "# EX22 - 2つ目の値でソート \n",
        "# 整数 a_i, b_i のペア(a_i, b_i) が N 個与えられます(1≤i≤N)。\n",
        "# b_i が小さい順にペアを並べ替えてください。\n",
        "# ペアを並べ替えた順に1行毎に出力してください。 \n",
        "# 各ペアは a_i, b_i をスペース区切りで出力してください。\n",
        "%%writefile temp.cpp\n",
        "#include <bits/stdc++.h>\n",
        "using namespace std;\n",
        " \n",
        "int main() {\n",
        "    int N; \n",
        "    cin >> N;\n",
        "    vector<pair<int, int>> vec(N);\n",
        "    for (int i = 0; i < N; i++) {\n",
        "        int a, b;\n",
        "        cin >> a >> b;\n",
        "        vec.at(i) = make_pair(b, a);  // b, a の順でペアにする\n",
        "    }\n",
        "    sort(vec.begin(), vec.end());\n",
        "\n",
        "    for (int i = 0; i < N; i++) {\n",
        "        cout << vec.at(i).second << \" \" << vec.at(i).first << endl;\n",
        "    }\n",
        "}"
      ],
      "metadata": {
        "id": "H5_Y4KKSXKw-"
      },
      "execution_count": null,
      "outputs": []
    },
    {
      "cell_type": "code",
      "source": [
        "!g++ temp.cpp; echo 3 5 2 2 7 4 1 |./temp #=> 4 1 5 2 2 7\n",
        "!echo\n",
        "!g++ temp.cpp; echo 5 1 2 3 4 5 6 7 8 9 10 |./temp #=> 1 2 3 4 5 6 7 8 9 10"
      ],
      "metadata": {
        "id": "m3ATvVylbO5F"
      },
      "execution_count": null,
      "outputs": []
    },
    {
      "cell_type": "code",
      "source": [
        "# 問題\n",
        "# ABC128 B - Guidebook\n",
        "# あなたは美味しいレストランを紹介する本を書くことにしました。 \n",
        "# あなたは N 個のレストラン、レストラン 1、レストラン 2、…、レストラン N \n",
        "# を紹介しようとしています。レストラン i は S_i 市にあり、\n",
        "# あなたは 100 点満点中 P_i 点と評価しています。 \n",
        "# 異なる 2 個のレストランに同じ点数がついていることはありません。\n",
        "# この本では、次のような順でレストランを紹介しようとしています。\n",
        "# 市名が辞書順で早いものから紹介していく。\n",
        "# 同じ市に複数レストランがある場合は、点数が高いものから紹介していく。\n",
        "# この本で紹介される順にレストランの番号を出力してください。\n",
        "# N 行出力せよ。i 行目 (1≤i≤N) には、i 番目に紹介されるレストランの番号を出力せよ。\n",
        "%%writefile temp.cpp\n",
        "#include <bits/stdc++.h>\n",
        "using namespace std;\n",
        " \n",
        "int main() {\n",
        "    int N; \n",
        "    cin >> N;\n",
        "    vector<tuple<string, int, int>> vec(N);\n",
        "    for (int i = 0; i < N; i++) {\n",
        "        string s;\n",
        "        int a;\n",
        "        cin >> s >> a;\n",
        "        vec.at(i) = make_tuple(s, -a, i); \n",
        "    }\n",
        "    sort(vec.begin(), vec.end());\n",
        "\n",
        "    //cout << get<1>(vec.at(1)) << endl;\n",
        "\n",
        "    for (int i = 0; i < N; i++) {\n",
        "        cout << get<2>(vec.at(i))+1 << endl;\n",
        "    }\n",
        "}"
      ],
      "metadata": {
        "id": "CRNTbPkXViH3"
      },
      "execution_count": null,
      "outputs": []
    },
    {
      "cell_type": "code",
      "source": [
        "!g++ temp.cpp; echo 6 khabarovsk 20 moscow 10 kazan 50 kazan 35 moscow 60 khabarovsk 40 |./temp \n",
        "#=> 3 4 6 1 5 2\n",
        "!echo\n",
        "!g++ temp.cpp; echo 10 yakutsk 10 yakutsk 20 yakutsk 30 yakutsk 40 yakutsk 50 yakutsk 60 yakutsk 70 yakutsk 80 yakutsk 90 yakutsk 100 |./temp \n",
        "#=> 10 9 8 7 6 5 4 3 2 1"
      ],
      "metadata": {
        "id": "iQbpEBl8ytzH"
      },
      "execution_count": null,
      "outputs": []
    },
    {
      "cell_type": "markdown",
      "source": [
        "# AA - 3.03.STLのコンテナ"
      ],
      "metadata": {
        "id": "lg9gYhHrnmwX"
      }
    },
    {
      "cell_type": "code",
      "source": [
        "# AA - 3.03.STLのコンテナ \n",
        "# キーポイント\n",
        "# map\n",
        "# 連想配列や辞書と呼ばれるデータ構造\n",
        "# mapを用いると「特定の値に、ある値が紐付いている」ようなデータを扱うことができる\n",
        "\n",
        "# mapの宣言\n",
        "# map<Keyの型, Valueの型> 変数名;\n",
        "\n",
        "# mapの操作\n",
        "%%html\n",
        "<table border=\"1\">\n",
        "<thead>\n",
        "<tr><th>操作</th><th>記法</th><th>計算量</th></tr>\n",
        "</thead>\n",
        "<tbody>\n",
        "<tr><td>値の追加</td><td>変数[key] = value;</td><td>O(logN)</td></tr>\n",
        "<tr><td>値の削除</td><td>変数.erase(key);</td><td>O(logN)</td></tr>\n",
        "<tr><td>値へのアクセス</td><td>変数.at(key)</td><td>O(logN)</td></tr>\n",
        "<tr><td>所属判定</td><td>変数.count(key)</td><td>O(logN)</td></tr>\n",
        "<tr><td>要素数の取得</td><td>変数.size()</td><td>O(1)</td></tr>\n",
        "</tbody>\n",
        "</table>"
      ],
      "metadata": {
        "id": "GoBlXdfhnc2u"
      },
      "execution_count": null,
      "outputs": []
    },
    {
      "cell_type": "code",
      "source": [
        "# queue\n",
        "# キューや待ち行列と呼ばれるデータ構造\n",
        "# queueを用いると「値を1つずつ追加していき、追加した順で値を取り出す」ような処理を行うことができる\n",
        "\n",
        "# queueの宣言\n",
        "# queue<型> 変数名;\n",
        "\n",
        "# queueの操作\n",
        "%%html\n",
        "<table border=\"1\">\n",
        "<thead>\n",
        "<tr><th>操作</th><th>記法</th><th>計算量</th></tr>\n",
        "</thead>\n",
        "<tbody>\n",
        "<tr><td>要素の追加</td><td>変数.push(値);</td><td>O(1)</td></tr>\n",
        "<tr><td>先頭の要素へのアクセス</td><td>変数.front()</td><td>O(1)</td></tr>\n",
        "<tr><td>先頭の要素を削除</td><td>変数.pop();</td><td>O(1)</td></tr>\n",
        "<tr><td>要素数の取得</td><td>変数.size()</td><td>O(1)</td></tr>\n",
        "</tbody>\n",
        "</table>"
      ],
      "metadata": {
        "id": "PbKDF3Vq2KMb"
      },
      "execution_count": null,
      "outputs": []
    },
    {
      "cell_type": "code",
      "source": [
        "# priority_queue\n",
        "# 優先度付きキューと呼ばれるデータ構造\n",
        "# priority_queueを用いると「それまでに追加した要素のうち、\n",
        "# 最も大きいものを取り出す」という処理を行うことができる\n",
        "\n",
        "# priority_queueの宣言\n",
        "# priority_queue<型> 変数名;\n",
        "\n",
        "# 値が小さい順に取り出されるpriority_queueの宣言\n",
        "# priority_queue<型, vector<型>, greater<型>> 変数名;\n",
        "\n",
        "# priority_queueの操作\n",
        "%%html\n",
        "<table border=\"1\">\n",
        "<thead>\n",
        "<tr><th>操作</th><th>記法</th><th>計算量</th></tr>\n",
        "</thead>\n",
        "<tbody>\n",
        "<tr><td>要素の追加</td><td>変数.push(値)</td><td>O(logN)</td></tr>\n",
        "<tr><td>最大の要素の取得</td><td>変数.top()</td><td>O(1)</td></tr>\n",
        "<tr><td>最大の要素を削除</td><td>変数.pop();</td><td>O(logN)</td></tr>\n",
        "<tr><td>要素数の取得</td><td>変数.size()</td><td>O(1)</td></tr>\n",
        "</tbody>\n",
        "</table>"
      ],
      "metadata": {
        "id": "nWuaRT9D3FuQ"
      },
      "execution_count": null,
      "outputs": []
    },
    {
      "cell_type": "code",
      "source": [
        "# STLのコンテナ\n",
        "# 1.14.STLの関数でも触れましたが、 STLには便利な関数やデータ型が含まれています。 \n",
        "# 今回はこの中からいくつかのコンテナ型を紹介します。\n",
        "\n",
        "# map\n",
        "# mapは連想配列や辞書と呼ばれるデータ型です。\n",
        "\n",
        "# mapを用いると「特定の値に、ある値が紐付いている」ようなデータを簡単に扱うことができます。\n",
        "\n",
        "# 例えば、氏名(string型の値)に成績(int型の値)が紐付いた次の表のようなデータを扱うとします。\n",
        "%%html\n",
        "<table border=\"1\">\n",
        "<thead>\n",
        "<tr><th>氏名</th><th>成績</th></tr>\n",
        "</thead>\n",
        "<tbody>\n",
        "<tr><td>\"Alice\"</td><td>100</td></tr>\n",
        "<tr><td>\"Bob\"</td><td>89</td></tr>\n",
        "<tr><td>\"Charlie\"</td><td>95</td></tr>\n",
        "</tbody>\n",
        "</table>"
      ],
      "metadata": {
        "id": "jOc7hA3t3Ysi"
      },
      "execution_count": null,
      "outputs": []
    },
    {
      "cell_type": "code",
      "source": [
        "# これらのデータをmapを用いて表すと、次のようになります。\n",
        "%%writefile temp.cpp\n",
        "#include <bits/stdc++.h>\n",
        "using namespace std;\n",
        " \n",
        "int main() {\n",
        "  map<string, int> score;  // 名前→成績\n",
        "  score[\"Alice\"] = 100;\n",
        "  score[\"Bob\"] = 89;\n",
        "  score[\"Charlie\"] = 95;\n",
        " \n",
        "  cout << score.at(\"Alice\") << endl;   // Aliceの成績\n",
        "  cout << score.at(\"Bob\") << endl;     // Bobの成績\n",
        "  cout << score.at(\"Charlie\") << endl; // Daveの成績\n",
        "}"
      ],
      "metadata": {
        "id": "Ke7xpCpq75l0"
      },
      "execution_count": null,
      "outputs": []
    },
    {
      "cell_type": "code",
      "source": [
        "!g++ temp.cpp; ./a.out "
      ],
      "metadata": {
        "id": "VYfMwQUqOezT"
      },
      "execution_count": null,
      "outputs": []
    },
    {
      "cell_type": "code",
      "source": [
        "# 以下説明のために、mapで扱うデータのうち、上の表でいう「氏名」の方をKey、\n",
        "# 「成績」の方をValueと呼ぶことにします。\n",
        "\n",
        "# 宣言\n",
        "# mapは以下のように宣言します。\n",
        "\n",
        "# map<Keyの型, Valueの型> 変数名;\n",
        "\n",
        "# 操作\n",
        "# 以下の各操作の説明において、次の表のようなデータがscoreという変数に入っているとします。\n",
        "%%html\n",
        "<table border=\"1\">\n",
        "<thead>\n",
        "<tr><th>氏名</th><th>成績</th></tr>\n",
        "</thead>\n",
        "<tbody>\n",
        "<tr><td>\"Alice\"</td><td>100</td></tr>\n",
        "<tr><td>\"Bob\"</td><td>89</td></tr>\n",
        "<tr><td>\"Charlie\"</td><td>95</td></tr>\n",
        "</tbody>\n",
        "</table>"
      ],
      "metadata": {
        "id": "YTa2NQr4OdVs"
      },
      "execution_count": null,
      "outputs": []
    },
    {
      "cell_type": "code",
      "source": [
        "%%writefile temp.cpp\n",
        "#include <bits/stdc++.h>\n",
        "using namespace std;\n",
        "\n",
        "int main() {\n",
        "  // 初期状態\n",
        "  map<string, int> score;\n",
        "  score[\"Alice\"] = 100;\n",
        "  score[\"Dave\"] = 95;\n",
        "  score[\"Bob\"] = 89;\n",
        "\n",
        "  // (scoreに対する処理)\n",
        "}"
      ],
      "metadata": {
        "id": "9TQ0EBu0OzPL"
      },
      "execution_count": null,
      "outputs": []
    },
    {
      "cell_type": "code",
      "source": [
        "!g++ temp.cpp; ./a.out "
      ],
      "metadata": {
        "id": "RqNRdnw1O9fx"
      },
      "execution_count": null,
      "outputs": []
    },
    {
      "cell_type": "code",
      "source": [
        "# 値の追加\n",
        "# 変数[key] = value;\n",
        "\n",
        "# 例\n",
        "# scoreに新しい成績のデータ「Charlie→70」を追加する例です。\n",
        "\n",
        "# score[\"Charlie\"] = 70;\n",
        "\n",
        "# 「Charlie→70」を追加した直後のscoreの中身は次の表のようになっています。\n",
        "\n",
        "# 操作後\n",
        "%%html\n",
        "<table border=\"1\">\n",
        "<thead>\n",
        "<tr><th>氏名</th><th>成績</th></tr>\n",
        "</thead>\n",
        "<tbody>\n",
        "<tr><td>\"Alice\"</td><td>100</td></tr>\n",
        "<tr><td>\"Bob\"</td><td>89</td></tr>\n",
        "<tr><td>\"Charlie\"</td><td>70</td></tr>\n",
        "<tr><td>\"Dave\"</td><td>95</td></tr>\n",
        "</tbody>\n",
        "</table>"
      ],
      "metadata": {
        "id": "DR3xilQKO68L"
      },
      "execution_count": null,
      "outputs": []
    },
    {
      "cell_type": "code",
      "source": [
        "# 値の削除\n",
        "# 変数.erase(key);\n",
        "# keyに対応している関係を削除します。\n",
        "\n",
        "# 例\n",
        "# scoreから「Bob→89」を削除するには次のようにします。\n",
        "\n",
        "# score.erase(\"Bob\");score.erase(\"Bob\");\n",
        "# 「Bob→89」を削除した直後のscoreの中身は次の表のようになっています。\n",
        "\n",
        "# 操作後\n",
        "%%html\n",
        "<table border=\"1\">\n",
        "<thead>\n",
        "<tr><th>氏名</th><th>成績</th></tr>\n",
        "</thead>\n",
        "<tbody>\n",
        "<tr><td>\"Alice\"</td><td>100</td></tr>\n",
        "<tr><td>\"Dave\"</td><td>95</td></tr>\n",
        "</tbody>\n",
        "</table>"
      ],
      "metadata": {
        "id": "D0D-gDKbPhKt"
      },
      "execution_count": null,
      "outputs": []
    },
    {
      "cell_type": "code",
      "source": [
        "# アクセス\n",
        "# 変数.at(key)  // keyに対応するvalueが存在しない場合はエラーになる\n",
        "# 変数[key]     // keyに対応するvalueが存在しない場合はValueの型の初期値が追加される\n",
        "# アクセスしただけで新しいデータが追加されてしまうのはバグの元になりうるので、\n",
        "# 基本的には.atを使うことをおすすめしますが、 \n",
        "# []を用いてアクセスすることでプログラムを短く書けることがあります。\n",
        "\n",
        "# 例\n",
        "# .atを使ってアクセスする例です。\n",
        "\n",
        "# cout << score.at(\"Alice\") << endl;  // 100\n",
        "# cout << score.at(\"Taro\") << endl;   // \"Taro\"に対応する値が存在しないためエラー\n",
        "\n",
        "# []を使ってアクセスする例です。\n",
        "\n",
        "# Copy\n",
        "# score[\"Bob\"] = 90;  // \"Bob\"の成績を90点に変更\n",
        "# cout << score[\"Alice\"] << endl;  // 100\n",
        "# cout << score[\"Taro\"] << endl;   // 0 (scoreに\"Taro\"というkeyは存在しないため、0で初期化される)\n",
        "\n",
        "# []で存在しないkey\"Taro\"をアクセスした結果、「Taro→0」というデータが追加されます。 \n",
        "# また、Bobの成績が変更され、Taroの項目が追加されています。\n",
        "\n",
        "# 操作後\n",
        "%%html\n",
        "<table border=\"1\">\n",
        "<thead>\n",
        "<tr><th>氏名</th><th>成績</th></tr>\n",
        "</thead>\n",
        "<tbody>\n",
        "<tr><td>\"Alice\"</td><td>100</td></tr>\n",
        "<tr><td>\"Bob\"</td><td>90</td></tr>\n",
        "<tr><td>\"Dave\"</td><td>95</td></tr>\n",
        "<tr><td>\"Taro\"</td><td>0</td></tr>\n",
        "</tbody>\n",
        "</table>"
      ],
      "metadata": {
        "id": "dTKo1mqZgFFP"
      },
      "execution_count": null,
      "outputs": []
    },
    {
      "cell_type": "code",
      "source": [
        "# 所属判定\n",
        "# Keyに対応するValueが存在するか判定するには次のようにします。\n",
        "\n",
        "# if (変数.count(key)) {\n",
        "#   // keyに対応する関係が存在する\n",
        "# }\n",
        "# else {\n",
        "#   // keyに対応する関係が存在しない\n",
        "# }\n",
        "# 例\n",
        "# if (score.count(\"Alice\")) {\n",
        "#   cout << \"Alice: \" << score.at(\"Alice\") << endl;\n",
        "# }\n",
        "# if (score.count(\"Jiro\")) {\n",
        "#   cout << \"Jiro: \" << score.at(\"Jiro\") << endl;\n",
        "# }\n",
        "# 出力\n",
        "# Alice: 100\n",
        "# scoreのKeyには、\"Alice\"は存在し、\"Jiro\"は存在しないので、Alice: 100だけ出力されます。\n",
        "\n",
        "# この操作ではscoreの内容は変化しません。\n",
        "\n",
        "# 要素数の取得\n",
        "# 変数.size()\n",
        "# いくつの対応関係が存在しているかを返します。\n",
        "\n",
        "# 例\n",
        "# cout << score.size() << endl;  // 3\n",
        "# scoreには次の表のように3つのデータがあるので、score.size()は3を返します。\n",
        "\n",
        "# この操作ではscoreの内容は変化しません。"
      ],
      "metadata": {
        "id": "EZzJcEtjgjUy"
      },
      "execution_count": null,
      "outputs": []
    },
    {
      "cell_type": "code",
      "source": [
        "# ループ\n",
        "# // Keyの値が小さい順にループ\n",
        "# for (pair<Keyの型, Valueの型> p : 変数名) {\n",
        "#   Keyの型 key = p.first;\n",
        "#   Valueの型 value = p.second;\n",
        "#   // key, valueを使う\n",
        "# }// Keyの値が小さい順にループ\n",
        "\n",
        "# autoを用いると簡潔に書くことができます。\n",
        "\n",
        "# // Keyの値が小さい順にループ\n",
        "# for (auto p : 変数名) {\n",
        "#   auto key = p.first;\n",
        "#   auto value = p.second;\n",
        "#   // key, valueを使う\n",
        "# }\n",
        "\n",
        "# ループではKeyの値が小さい順(pairの比較順)で取り出されます。\n",
        "# 対応関係を追加した順ではないことに注意してください。\n",
        "\n",
        "# scoreの内容をすべて出力する例です。\n",
        "\n",
        "# for (auto p : score) {\n",
        "#   auto k = p.first;\n",
        "#   auto v = p.second;\n",
        "#   cout << k << \" => \" << v << endl;\n",
        "# }\n",
        "\n",
        "# 出力\n",
        "# \"Alice\" => 100\n",
        "# \"Bob\" => 89\n",
        "# \"Dave\" => 95"
      ],
      "metadata": {
        "id": "KoEaVEAfg_k-"
      },
      "execution_count": null,
      "outputs": []
    },
    {
      "cell_type": "code",
      "source": [
        "# 計算量\n",
        "# 要素数をNとしたときの各操作の計算量は以下の通りです。\n",
        "%%html\n",
        "<table border=\"1\">\n",
        "<thead>\n",
        "<tr><th>操作</th><th>計算量</th></tr>\n",
        "</thead>\n",
        "<tbody>\n",
        "<tr><td>値の追加 []</td><td>O(logN)</td></tr>\n",
        "<tr><td>値の削除 erase(key)</td><td>O(logN)</td></tr>\n",
        "<tr><td>値へのアクセス at</td><td>O(logN)</td></tr>\n",
        "<tr><td>所属判定 count</td><td>O(logN)</td></tr>\n",
        "<tr><td>要素数の取得 size</td><td>O(1)</td></tr>\n",
        "</tbody>\n",
        "</table>"
      ],
      "metadata": {
        "id": "1EJgMuiAhe5d"
      },
      "execution_count": null,
      "outputs": []
    },
    {
      "cell_type": "code",
      "source": [
        "# queue\n",
        "# 「値を1つずつ追加していき、追加した順で値を取り出す」ような処理を行うデータ構造を\n",
        "# キューや待ち行列といいます。 C++では、STLに用意されているqueueを用いることができます。\n",
        "\n",
        "# キューは幅優先探索などのよく用いられるアルゴリズムに利用します。\n",
        "\n",
        "# キューの動作のイメージを次のスライドに示します。\n",
        "\n",
        "%%writefile temp.cpp\n",
        "#include <bits/stdc++.h>\n",
        "using namespace std;\n",
        " \n",
        "int main() {\n",
        "  queue<int> q;\n",
        "  q.push(10);\n",
        "  q.push(3);\n",
        "  q.push(6);\n",
        "  q.push(1);\n",
        " \n",
        "  // 空でない間繰り返す\n",
        "  while (!q.empty()) {\n",
        "    cout << q.front() << endl;  // 先頭の値を出力\n",
        "    q.pop();  // 先頭の値を削除\n",
        "  }\n",
        "}"
      ],
      "metadata": {
        "id": "Yf6A0YZ-htu3"
      },
      "execution_count": null,
      "outputs": []
    },
    {
      "cell_type": "code",
      "source": [
        "!g++ temp.cpp; ./a.out "
      ],
      "metadata": {
        "id": "zkojesE_Slr5"
      },
      "execution_count": null,
      "outputs": []
    },
    {
      "cell_type": "code",
      "source": [
        "# 宣言\n",
        "# 次のようにして空のキューを宣言できます。\n",
        "\n",
        "# queue<型> 変数名;\n",
        "\n",
        "# 操作\n",
        "# 要素を追加\n",
        "\n",
        "# 変数.push(値);\n",
        "\n",
        "# 先頭の要素へのアクセス\n",
        "\n",
        "# 変数.front()\n",
        "\n",
        "# 先頭の要素を削除\n",
        "\n",
        "# 変数.pop();  // 先頭の要素が削除される変数\n",
        "\n",
        "# 要素数の取得\n",
        "\n",
        "# 変数.size()変数.size()\n",
        "\n",
        "# キューが空であるかを調べる場合には、以下のように.empty()を用いることもできます。\n",
        "\n",
        "# 変数.empty()  // キューが空ならtrueを返す\n",
        "\n",
        "# 計算量\n",
        "# 各操作の計算量は以下の通りです。\n",
        "%%html\n",
        "<table border=\"1\">\n",
        "<thead>\n",
        "<tr><th>操作</th><th>計算量</th></tr>\n",
        "</thead>\n",
        "<tbody>\n",
        "<tr><td>要素の追加 push</td><td>O(1)</td></tr>\n",
        "<tr><td>先頭の要素へのアクセス front</td><td>O(1)</td></tr>\n",
        "<tr><td>先頭の要素を削除 pop</td><td>O(1)</td></tr>\n",
        "<tr><td>要素数の取得 size</td><td>O(1)</td></tr>\n",
        "</tbody>\n",
        "</table>"
      ],
      "metadata": {
        "id": "dazACAkJSkGd"
      },
      "execution_count": null,
      "outputs": []
    },
    {
      "cell_type": "code",
      "source": [
        "# priority_queue\n",
        "# 「それまでに追加した要素のうち、最も大きいものを取り出す」という処理を行うときには、\n",
        "# 優先度付きキューというデータ構造を用います。 C++ではSTLのpriority_queueを用いることができます。\n",
        "\n",
        "# 優先度付きキューはダイクストラ法などで用いられます。 \n",
        "# 他にも優先度付きキューをうまく用いることで、計算量を減らすことが出来るケースがよくあります。\n",
        "\n",
        "# 使用例\n",
        "%%writefile temp.cpp\n",
        "#include <bits/stdc++.h>\n",
        "using namespace std;\n",
        " \n",
        "int main() {\n",
        "  priority_queue<int> pq;\n",
        "  pq.push(10);\n",
        "  pq.push(3);\n",
        "  pq.push(6);\n",
        "  pq.push(1);\n",
        " \n",
        "  // 空でない間繰り返す\n",
        "  while (!pq.empty()) {\n",
        "    cout << pq.top() << endl;  // 最大の値を出力\n",
        "    pq.pop();  // 最大の値を削除\n",
        "  }\n",
        "}"
      ],
      "metadata": {
        "id": "CkVksRAnTg2D"
      },
      "execution_count": null,
      "outputs": []
    },
    {
      "cell_type": "code",
      "source": [
        "!g++ temp.cpp; ./a.out "
      ],
      "metadata": {
        "id": "l-pmFdAuTzJE"
      },
      "execution_count": null,
      "outputs": []
    },
    {
      "cell_type": "code",
      "source": [
        "# 宣言\n",
        "# 次のようにして空のpriority_queueを宣言できます。\n",
        "\n",
        "# priority_queue<型> 変数;\n",
        "\n",
        "# 操作\n",
        "# 要素を追加\n",
        "\n",
        "# 変数.push(値);\n",
        "\n",
        "# 最大の要素の取得\n",
        "\n",
        "# 変数.top()\n",
        "\n",
        "# queueとは異なり、.front()では無いことに注意してください。 \n",
        "# また、書き換えることは出来ないという点に注意してください。\n",
        "\n",
        "# 最大の要素を削除\n",
        "\n",
        "# 変数.pop()\n",
        "\n",
        "# 要素数の取得\n",
        "\n",
        "# 変数.size()\n",
        "\n",
        "# 空であるかを調べる場合には、以下のように.empty()を用いることもできます。\n",
        "\n",
        "# 変数.empty()  // 空ならtrueを返す\n",
        "\n",
        "# 計算量\n",
        "# priorty_queueの要素数をNとすると、各操作の計算量は以下の通りです。\n",
        "\n",
        "%%html\n",
        "<table border=\"1\">\n",
        "<thead>\n",
        "<tr><th>操作</th><th>計算量</th></tr>\n",
        "</thead>\n",
        "<tbody>\n",
        "<tr><td>要素の追加 push</td><td>O(logN)</td></tr>\n",
        "<tr><td>最大の要素の取得 top</td><td>O(1)</td></tr>\n",
        "<tr><td>最大の要素を削除 pop</td><td>O(logN)</td></tr>\n",
        "<tr><td>要素数の取得 size</td><td>O(1)</td></tr>\n",
        "</tbody>\n",
        "</table>"
      ],
      "metadata": {
        "id": "49bWqTy2TwKq"
      },
      "execution_count": null,
      "outputs": []
    },
    {
      "cell_type": "code",
      "source": [
        "# 最小の要素を取り出す\n",
        "# 次のようにしてpriority_queueを宣言すると、値が小さい順に取り出されるようになります。\n",
        "\n",
        "# priority_queue<型, vector<型>, greater<型>> 変数;\n",
        "\n",
        "# 使用例\n",
        "%%writefile temp.cpp\n",
        "#include <bits/stdc++.h>\n",
        "using namespace std;\n",
        " \n",
        "int main() {\n",
        "  // 小さい順に取り出される優先度付きキュー\n",
        "  priority_queue<int, vector<int>, greater<int>> pq;\n",
        "  pq.push(10);\n",
        "  pq.push(3);\n",
        "  pq.push(6);\n",
        "  pq.push(1);\n",
        " \n",
        "  // 空でない間繰り返す\n",
        "  while (!pq.empty()) {\n",
        "    cout << pq.top() << endl;  // 最小の値を出力\n",
        "    pq.pop();  // 最小の値を削除\n",
        "  }\n",
        "}"
      ],
      "metadata": {
        "id": "2gK9wBkZUZ6R"
      },
      "execution_count": null,
      "outputs": []
    },
    {
      "cell_type": "code",
      "source": [
        "!g++ temp.cpp; ./a.out "
      ],
      "metadata": {
        "id": "nbIjS7opUrq5"
      },
      "execution_count": null,
      "outputs": []
    },
    {
      "cell_type": "code",
      "source": [
        "# コピーや比較の計算量\n",
        "# vector, string, map, queue, priority_queueといったコンテナをコピーするときや、\n",
        "# vectorやstringを比較するときにかかる計算量はO(N)です。\n",
        "\n",
        "# 要素のたくさんあるコンテナを頻繁にコピーするようなコードは計算量が大きくなってしまうこと\n",
        "# があるため、注意が必要です。"
      ],
      "metadata": {
        "id": "YHxeuvKcUoDH"
      },
      "execution_count": null,
      "outputs": []
    },
    {
      "cell_type": "code",
      "source": [
        "# set\n",
        "# setは重複の無いデータのまとまりを扱うためのデータ型です。 「Keyだけのmap」のようなイメージです。\n",
        "# 実際にmapで代用することもできます。\n",
        "\n",
        "# setは以下のような処理を行う場合などに有用です。\n",
        "\n",
        "# * 配列の中に出現する値の種類数（重複の無い集合の要素数）\n",
        "# * 集合の中にある値が含まれるかを高速に計算する\n",
        "# * 集合の中に含まれる最小値（最大値）を求める\n",
        "# 以下はsetの使い方の例です。\n",
        "\n",
        "%%writefile temp.cpp\n",
        "#include <bits/stdc++.h>\n",
        "using namespace std;\n",
        " \n",
        "int main() {\n",
        "  set<int> S;\n",
        " \n",
        "  S.insert(3);\n",
        "  S.insert(7);\n",
        "  S.insert(8);\n",
        "  S.insert(10);\n",
        "  // 既に3は含まれているのでこの操作は無視される\n",
        "  S.insert(3);\n",
        " \n",
        "  // 集合の要素数を出力\n",
        "  cout << \"size: \" << S.size() << endl;\n",
        " \n",
        "  // 7が含まれるか判定\n",
        "  if (S.count(7)) {\n",
        "    cout << \"found 7\" << endl;\n",
        "  }\n",
        "  // 5が含まれるか判定\n",
        "  if (S.count(5)) {\n",
        "    cout << \"found 5\" << endl;\n",
        "  }\n",
        "}"
      ],
      "metadata": {
        "id": "b1sTM-KmU5qG"
      },
      "execution_count": null,
      "outputs": []
    },
    {
      "cell_type": "code",
      "source": [
        "!g++ temp.cpp; ./a.out "
      ],
      "metadata": {
        "id": "ZkfGD4ZTVSx2"
      },
      "execution_count": null,
      "outputs": []
    },
    {
      "cell_type": "code",
      "source": [
        "# 宣言 \n",
        "\n",
        "# set<値の型> 変数名;\n",
        "\n",
        "# 操作\n",
        "# 値の追加\n",
        "# 変数.insert(値);\n",
        "\n",
        "# 既に同じ値が存在する場合は追加されません。\n",
        "\n",
        "# 値の削除\n",
        "# 変数.erase(値);\n",
        "\n",
        "# 所属判定\n",
        "# if (変数.count(値)) {\n",
        "#   //「値」が含まれる\n",
        "# }\n",
        "# else {\n",
        "#   //「値」は含まれない\n",
        "# }\n",
        "\n",
        "# 要素数の取得\n",
        "# 変数.size()\n",
        "# 空であるかを調べる場合には、以下のように.empty()を用いることもできます。\n",
        "\n",
        "# 変数.empty()  // 空ならtrueを返す\n",
        "\n",
        "# 最小値の取得\n",
        "# *begin(変数)\n",
        "# 先頭に*を付ける必要があります。この記法については4章の「イテレータ」で扱います。\n",
        "\n",
        "# 空のsetに対してこの操作を行ってはいけません。 実行時エラーにならないことがあるので注意してください。\n",
        "\n",
        "# 最大値の取得\n",
        "# *rbegin(変数)\n",
        "# 先頭に*を付ける必要があります。この記法については4章の「イテレータ」で扱います。\n",
        "\n",
        "# 空のsetに対してこの操作を行ってはいけません。 実行時エラーにならないことがあるので注意してください。\n",
        "\n",
        "# ループ\n",
        "\n",
        "# for (auto value : 変数名) {\n",
        "#   // valueを使う\n",
        "# }\n",
        "\n",
        "# ループでは値が小さいものから順に取り出されます。値を追加した順ではないことに注意してください。\n",
        "\n",
        "# 計算量\n",
        "# 要素数をNとしたときの各操作の計算量は以下の通りです。\n",
        "\n",
        "%%html\n",
        "<table border=\"1\">\n",
        "<thead>\n",
        "<tr><th>操作</th><th>計算量</th></tr>\n",
        "</thead>\n",
        "<tbody>\n",
        "<tr><td>値の追加</td><td>O(logN)</td></tr>\n",
        "<tr><td>値の削除</td><td>O(logN)</td></tr>\n",
        "<tr><td>所属判定</td><td>O(logN)</td></tr>\n",
        "<tr><td>要素数の取得</td><td>O(1)</td></tr>\n",
        "<tr><td>最小値の取得</td><td>O(1)</td></tr>\n",
        "<tr><td>最大値の取得</td><td>O(1)</td></tr>\n",
        "</tbody>\n",
        "</table>"
      ],
      "metadata": {
        "id": "KzmhCvlMVLk8"
      },
      "execution_count": null,
      "outputs": []
    },
    {
      "cell_type": "code",
      "source": [
        "# stack\n",
        "# 「新しく追加したものほど先に取り出される」ような処理を行うデータ構造をスタックといいます。 \n",
        "# C++では、STLのstackを用いることができます。\n",
        "\n",
        "# 上の図の数字はpushした順番を表しています。\n",
        "\n",
        "# 使用例\n",
        "%%writefile temp.cpp\n",
        "#include <bits/stdc++.h>\n",
        "using namespace std;\n",
        " \n",
        "int main() {\n",
        "  stack<int> s;\n",
        "  s.push(10);\n",
        "  s.push(1);\n",
        "  s.push(3);\n",
        " \n",
        "  cout << s.top() << endl;  // 3 (最後に追加した値)\n",
        "  s.pop();\n",
        "  cout << s.top() << endl;  // 1 (その前に追加した値)\n",
        "}"
      ],
      "metadata": {
        "id": "Bzpki3AMV6-0"
      },
      "execution_count": null,
      "outputs": []
    },
    {
      "cell_type": "code",
      "source": [
        "!g++ temp.cpp; ./a.out "
      ],
      "metadata": {
        "id": "QiChMe-WWSaI"
      },
      "execution_count": null,
      "outputs": []
    },
    {
      "cell_type": "code",
      "source": [
        "# 宣言\n",
        "\n",
        "# stack<値の型> 変数名;stack<値の型> 変数名;\n",
        "\n",
        "# 操作\n",
        "# 値の追加\n",
        "\n",
        "# 変数.push(値);\n",
        "\n",
        "# 次の値へのアクセス\n",
        "\n",
        "# 変数.top()\n",
        "# 値の削除\n",
        "\n",
        "# 変数.pop();\n",
        "\n",
        "# 要素数の取得\n",
        "\n",
        "# 変数.size()\n",
        "\n",
        "# 空であるかを調べる場合には、以下のように.empty()を用いることもできます。\n",
        "\n",
        "# 変数.empty()  // 空ならtrueを返す\n",
        "\n",
        "# 計算量\n",
        "# 要素数をNとしたときの各操作の計算量は以下の通りです。\n",
        "%%html\n",
        "<table border=\"1\">\n",
        "<thead>\n",
        "<tr><th>操作</th><th>計算量</th></tr>\n",
        "</thead>\n",
        "<tbody>\n",
        "<tr><td>値の追加</td><td>O(1)</td></tr>\n",
        "<tr><td>次の値へのアクセス</td><td>O(1)</td></tr>\n",
        "<tr><td>値の削除</td><td>O(1)</td></tr>\n",
        "<tr><td>要素数の取得</td><td>O(1)</td></tr>\n",
        "</tbody>\n",
        "</table>"
      ],
      "metadata": {
        "id": "COx_r3_GWQMU"
      },
      "execution_count": null,
      "outputs": []
    },
    {
      "cell_type": "code",
      "source": [
        "# deque\n",
        "# 「最初に追加したものを取り出す」というキューの操作と \n",
        "# 「最後に追加した要素を取り出す」というスタックの操作を同時に行えるデータ構造を\n",
        "# 両端キューといいます。 C++では、STLのdequeを用いることができます。（「デック」と読みます。）\n",
        "\n",
        "# 先頭と末尾に対して追加・削除が行える配列のようなイメージです。 \n",
        "# 「i番目の値にアクセスする」こともできます。\n",
        "\n",
        "%%writefile temp.cpp\n",
        "#include <bits/stdc++.h>\n",
        "using namespace std;\n",
        " \n",
        "int main() {\n",
        "  deque<int> d;\n",
        "  d.push_back(10);\n",
        "  d.push_back(1);\n",
        "  d.push_back(3);\n",
        " \n",
        "  // この時点で d の内容は { 10, 1, 3 } となっている\n",
        " \n",
        "  cout << d.front() << endl; // 10 (先頭の要素)\n",
        "  d.pop_front();  // 先頭を削除\n",
        " \n",
        "  // この時点で d の内容は { 1, 3 } となっている\n",
        " \n",
        "  cout << d.back() << endl;  // 3 (末尾の要素)\n",
        "  d.pop_back();  // 末尾を削除\n",
        " \n",
        "  // この時点で d の内容は { 1 } となっている\n",
        " \n",
        "  d.push_front(5);\n",
        "  d.push_back(2);\n",
        " \n",
        "  // この時点で d の内容は { 5, 1, 2 } となっている\n",
        " \n",
        "  cout << d.at(1) << endl; // 1\n",
        "}"
      ],
      "metadata": {
        "id": "G5do09ckixI1"
      },
      "execution_count": null,
      "outputs": []
    },
    {
      "cell_type": "code",
      "source": [
        "!g++ temp.cpp; ./a.out "
      ],
      "metadata": {
        "id": "JprQwNFwjMEw"
      },
      "execution_count": null,
      "outputs": []
    },
    {
      "cell_type": "code",
      "source": [
        "# 宣言\n",
        "\n",
        "# deque<値の型> 変数名;\n",
        "\n",
        "# 操作\n",
        "# 値の追加\n",
        "\n",
        "# 変数.push_back(値);   // 末尾への値の追加\n",
        "# 変数.push_front(値);  // 先頭への値の追加\n",
        "\n",
        "# 値のアクセス\n",
        "\n",
        "# 変数.front()  // 先頭の値へのアクセス\n",
        "# 変数.back()   // 末尾の値へのアクセス\n",
        "# 変数.at(i)  // i番目へのアクセス\n",
        "\n",
        "# 存在しない要素へのアクセスは実行時エラーとなります。\n",
        "\n",
        "# 空のdequeに対して.front()や.back()を呼んだ際の動作は未定義です。 \n",
        "# 実行時エラーにならないことがあるので注意してください。\n",
        "\n",
        "# 値の削除\n",
        "\n",
        "# 変数.pop_front();  // 先頭の要素の削除\n",
        "# 変数.pop_back();   // 末尾の要素の削除\n",
        "\n",
        "# 要素数の取得\n",
        "\n",
        "# 変数.size()\n",
        "\n",
        "# 空であるかを調べる場合には、以下のように.empty()を用いることもできます。\n",
        "\n",
        "# 変数.empty()  // 空ならtrueを返す\n",
        "\n",
        "# 計算量\n",
        "# 要素数をNとしたときの各操作の計算量は以下の通りです。\n",
        "%%html\n",
        "<table border=\"1\">\n",
        "<thead>\n",
        "<tr><th>操作</th><th>計算量</th></tr>\n",
        "</thead>\n",
        "<tbody>\n",
        "<tr><td>値の追加</td><td>O(1)</td></tr>\n",
        "<tr><td>値のアクセス</td><td>O(1)</td></tr>\n",
        "<tr><td>値の削除</td><td>O(1)</td></tr>\n",
        "<tr><td>要素数の取得</td><td>O(1)</td></tr>\n",
        "</tbody>\n",
        "</table>"
      ],
      "metadata": {
        "id": "dMufD_m3jBKU"
      },
      "execution_count": null,
      "outputs": []
    },
    {
      "cell_type": "code",
      "source": [
        "# unordered_map\n",
        "# C++のSTLのunordered_mapは、基本的な機能はmapと同じですがアクセスや検索を\n",
        "# 高速に行うことができるデータ構造です。 ただし、Keyとしてpairを直接用いることができないなどの制約もあります。\n",
        "\n",
        "# 制約\n",
        "# * pairやtupleなどのハッシュ関数が定義されていない型をKeyとして用いることができない\n",
        "# * ループで取り出すときに、どのような順番で取り出されるかが分からない\n",
        "# * APG4bでこれまでに紹介した型のうち、pair/tuple以外の型であればKeyとして使用可能です。\n",
        "\n",
        "# ハッシュ関数についてはここでは説明しませんが、詳しく知りたい人は調べてみてください。\n",
        "\n",
        "# 計算量\n",
        "# 要素数をNとしたときの各操作の計算量は以下の通りです。\n",
        "# オーダー記法の上ではすべて平均で定数時間となっていますが、\n",
        "# 定数倍の関係で実際の速度がmapより速いとは限らないということに注意してください。\n",
        "\n",
        "%%html\n",
        "<table border=\"1\">\n",
        "<thead>\n",
        "<tr><th>操作</th><th>計算量</th></tr>\n",
        "</thead>\n",
        "<tbody>\n",
        "<tr><td>値の追加 []</td><td>平均O(1)</td></tr>\n",
        "<tr><td>値の削除 erase</td><td>平均O(1)</td></tr>\n",
        "<tr><td>値へのアクセス at</td><td>平均O(1)</td></tr>\n",
        "<tr><td>所属判定 count</td><td>平均O(1)</td></tr>\n",
        "<tr><td>要素数の取得 size</td><td>O(1)</td></tr>\n",
        "</tbody>\n",
        "</table>"
      ],
      "metadata": {
        "id": "BPamZVbJj_Hc"
      },
      "execution_count": null,
      "outputs": []
    },
    {
      "cell_type": "code",
      "source": [
        "# unordered_set\n",
        "# C++のSTLのunordered_setは、unordered_mapと同様に、制約がある代わりに高速なsetです。\n",
        "\n",
        "# 制約\n",
        "# * pairやtupleなどのハッシュ関数が定義されていない型をKeyとして用いることができない\n",
        "# * ループで取り出すときに、どのような順番で取り出されるかが分からない\n",
        "# * 最大値や最小値を取り出すことができない\n",
        "\n",
        "# 計算量\n",
        "# 要素数をNとしたときの各操作の計算量は以下の通りです。\n",
        "# オーダー記法の上ではすべて平均で定数時間となっていますが、\n",
        "# 定数倍の関係で実際の速度がsetより速いとは限らないということに注意してください。\n",
        "\n",
        "%%html\n",
        "<table border=\"1\">\n",
        "<thead>\n",
        "<tr><th>操作</th><th>計算量</th></tr>\n",
        "</thead>\n",
        "<tbody>\n",
        "<tr><td>値の追加 insert</td><td>平均O(1)</td></tr>\n",
        "<tr><td>値の削除 erase</td><td>平均O(1)</td></tr>\n",
        "<tr><td>値へのアクセス at</td><td>平均O(1)</td></tr>\n",
        "<tr><td>所属判定 count</td><td>平均O(1)</td></tr>\n",
        "<tr><td>要素数の取得 size</td><td>O(1)</td></tr>\n",
        "</tbody>\n",
        "</table>"
      ],
      "metadata": {
        "id": "v66TQbYvkg3Y"
      },
      "execution_count": null,
      "outputs": []
    },
    {
      "cell_type": "code",
      "source": [
        "# lower_bound / upper_bound (STLの関数)\n",
        "# 昇順にソートされた配列において、「x以上の最小の要素」を求める場合には\n",
        "# STLのlower_boundを使うことができます。同様に、「xを超える最小の要素」を求めるとき\n",
        "# にはupper_boundを使うことができます。\n",
        "\n",
        "# 計算量は、配列の要素数をNとするとどちらもO(logN)です。\n",
        "\n",
        "# 使用例\n",
        "%%writefile temp.cpp\n",
        "#include <bits/stdc++.h>\n",
        "using namespace std;\n",
        " \n",
        "int main() {\n",
        "  vector<int> a = {0, 10, 13, 14, 20};\n",
        "  // aにおいて、12 以上最小の要素は 13\n",
        "  cout << *lower_bound(a.begin(), a.end(), 12) << endl; // 13\n",
        " \n",
        "  // 14 以上最小の要素は 14\n",
        "  cout << *lower_bound(a.begin(), a.end(), 14) << endl; // 14\n",
        " \n",
        "  // 10 を超える最小の要素は 13\n",
        "  cout << *upper_bound(a.begin(), a.end(), 10) << endl; // 13\n",
        "}"
      ],
      "metadata": {
        "id": "LwXzG7lTk8Lj"
      },
      "execution_count": null,
      "outputs": []
    },
    {
      "cell_type": "code",
      "source": [
        "!g++ temp.cpp; ./a.out "
      ],
      "metadata": {
        "id": "2WY4eJeNlekf"
      },
      "execution_count": null,
      "outputs": []
    },
    {
      "cell_type": "code",
      "source": [
        "# 使い方\n",
        "\n",
        "# *lower_bound(配列.begin(), 配列.end(), 値)  // 「値」以上の最小の値\n",
        "# *upper_bound(配列.begin(), 配列.end(), 値)  // 「値」を超えるの最小の値\n",
        "\n",
        "# 先頭に*を付ける必要があります。この記法については4章の「イテレータ」で扱います。\n",
        "\n",
        "# 空のコンテナに対する操作\n",
        "# 空のqueueに対して.front()を呼び出したり、空のsetに対する*変数.begin()のような操作を\n",
        "# 行った場合の動作は未定義で、実行時エラーになるとは限らないということを説明しました。\n",
        "\n",
        "# 1.13.配列でも紹介したように、#define _GLIBCXX_DEBUG（Clang環境では\n",
        "# #define _LIBCPP_DEBUG 0）をプログラムの1行目に書くことによって、\n",
        "# このような操作を行ってしまった際に実行時エラーにすることができます。\n",
        "\n",
        "# #define _GLIBCXX_DEBUG\n",
        "# #include <bits/stdc++.h>\n",
        "# using namespace std;\n",
        " \n",
        "# int main() {\n",
        "#   // ...\n",
        "# }"
      ],
      "metadata": {
        "id": "VnHRmLdRlK7g"
      },
      "execution_count": null,
      "outputs": []
    },
    {
      "cell_type": "code",
      "source": [
        "# 問題\n",
        "# EX23.最頻値\n",
        "# N要素の配列 A_1,A_2,…,A_N が与えられます。 この配列の中の値のうち、出現回数が最も多い値とその出現回数を求めてください。\n",
        "# ただし、出現回数が最大になる値は複数存在しないものとします。\n",
        "# 制約が大きいため計算量に注意してプログラムを作成してください。\n",
        "# 出現回数が最大になるような値は複数存在しない。\n",
        "# 出現回数が最も多い値と、その出現回数をスペース区切りで出力してください。\n",
        "# ジャッジのテストケースには大きい入力が含まれているのでTLEにならないように注意してください。\n",
        "\n",
        "# ヒント\n",
        "# 「値→出現回数」の関係をmapで管理しましょう。\n",
        "# mapへの値の追加、アクセスの計算量はO(logN)です。\n",
        "# この問題では N^2 は 10^10 なので、O(N^2) の計算量ではTLEとなります。\n",
        "# NlogN は 約1.6∗10^6 なので、O(NlogN) の計算量であれば間に合います。\n",
        "%%writefile temp.cpp\n",
        "#include <bits/stdc++.h>\n",
        "using namespace std;\n",
        "\n",
        "int main() {\n",
        "  int N;\n",
        "  cin >> N;\n",
        "  vector<int> A(N);\n",
        "  for (int i = 0; i < N; i++) {\n",
        "    cin >> A.at(i);\n",
        "  }\n",
        "\n",
        "  map<int, int> cnt;\n",
        "  for (int x : A) {\n",
        "    if (cnt.count(x)) {\n",
        "      // 既に含まれているならインクリメント\n",
        "      cnt.at(x)++;\n",
        "    } else {\n",
        "      // 含まれていないなら、1を追加\n",
        "      cnt[x] = 1;\n",
        "    }\n",
        "  }\n",
        "\n",
        "  int max_cnt = 0;  // 出現回数の最大値を保持\n",
        "  int ans = -1;     // 出現回数が最大になる値を保持\n",
        "  for (int x : A) {\n",
        "    // 今見ているxの出現回数が、その時点の最大よりも大きければ更新\n",
        "    if (max_cnt < cnt.at(x)) {\n",
        "      max_cnt = cnt.at(x);\n",
        "      ans = x;\n",
        "    }\n",
        "  }\n",
        "\n",
        "  cout << ans << \" \" << max_cnt << endl;\n",
        "}"
      ],
      "metadata": {
        "id": "RCL1E2CxmQcg"
      },
      "execution_count": null,
      "outputs": []
    },
    {
      "cell_type": "code",
      "source": [
        "!g++ temp.cpp; echo 5 1 4 4 2 3 |./temp #=> 4 2\n",
        "!g++ temp.cpp; echo 6 3 2 3 1 3 2 |./temp #=> 3 3\n",
        "!g++ temp.cpp; echo 1 1000000000 |./temp #=> 1000000000 1"
      ],
      "metadata": {
        "id": "gZsHr858F9tk"
      },
      "execution_count": null,
      "outputs": []
    },
    {
      "cell_type": "markdown",
      "source": [
        "# AB - 3.04.構造体 "
      ],
      "metadata": {
        "id": "vyE_PlUzIlL_"
      }
    },
    {
      "cell_type": "code",
      "source": [
        "# AB - 3.04.構造体 \n",
        "# キーポイント\n",
        "# 構造体によって、「複数の型をまとめた新しい型」を作ることが出来る\n",
        "\n",
        "# 構造体の定義\n",
        "# struct 構造体名 {\n",
        "#   型1 メンバ変数名1\n",
        "#   型2 メンバ変数名2\n",
        "#   型3 メンバ変数名3\n",
        "#   ...(必要な分だけ書く)\n",
        "# };  // ← セミコロンが必要\n",
        "\n",
        "# 構造体の変数の宣言\n",
        "# 構造体名 変数名;\n",
        "# 構造体型の値のことをオブジェクトという\n",
        "\n",
        "# 宣言と同時に初期化\n",
        "# 構造体名 オブジェクト名 = {メンバ変数1の値, メンバ変数2の値, メンバ変数3の値, ...(必要な分だけ書く)};\n",
        "# メンバ変数・メンバ関数はそれぞれオブジェクトに紐付いた変数・関数として使うことができる\n",
        "\n",
        "# メンバ変数へのアクセス\n",
        "# オブジェクト.メンバ変数\n",
        "\n",
        "# メンバ関数の定義\n",
        "# struct 構造体名 {\n",
        "#   返り値の型 メンバ関数名(引数の型1 引数名1, 引数の型2 引数名2, ...) {\n",
        "#     // 関数の内容\n",
        "#     //   (ここではメンバ変数に直接アクセスすることができる)\n",
        "#   }\n",
        "# };\n",
        "\n",
        "# メンバ関数の呼び出し\n",
        "# オブジェクト.メンバ関数(引数1, 引数2, ...)"
      ],
      "metadata": {
        "id": "v17iJam-ncvq"
      },
      "execution_count": null,
      "outputs": []
    },
    {
      "cell_type": "code",
      "source": [
        "# 構造体\n",
        "# 「3.02.pair/tupleとauto」で複数のデータをまとめる方法としてSTLのpair/tupleを紹介しました。 \n",
        "# 別の方法として構造体を利用することもできます。 実はSTLのpair/tupleも構造体を使って実装されています。\n",
        "\n",
        "# 構造体関連の機能はたくさんあるので、このページでは主要なものを簡単に説明します。\n",
        "\n",
        "# 構造体を用いることで、「複数の型をまとめた新しい型」を定義することができます。\n",
        "\n",
        "# 次のプログラムを見てください。\n",
        "%%writefile temp.cpp\n",
        "#include <bits/stdc++.h>\n",
        "using namespace std;\n",
        " \n",
        "struct MyPair {\n",
        "  int x;     // 1つ目のデータはint型であり、xという名前でアクセスできる\n",
        "  string y;  // 2つ目のデータはstring型であり、yという名前でアクセスできる\n",
        "};\n",
        " \n",
        "int main() {\n",
        "  MyPair p = {12345, \"hello\"};  // MyPair型の値を宣言\n",
        "  cout << \"p.x = \" << p.x << endl;\n",
        "  cout << \"p.y = \" << p.y << endl;\n",
        "}"
      ],
      "metadata": {
        "id": "44fKNw2MHsFD"
      },
      "execution_count": null,
      "outputs": []
    },
    {
      "cell_type": "code",
      "source": [
        "!g++ temp.cpp; ./a.out "
      ],
      "metadata": {
        "id": "QlcTjf51H9hJ"
      },
      "execution_count": null,
      "outputs": []
    },
    {
      "cell_type": "code",
      "source": [
        "# MyPairという構造体を定義しています。 この構造体はint型とstring型をまとめたもので、\n",
        "# それぞれx, yという名前がついています。 これら1つ1つのデータをメンバ変数といいます。\n",
        "\n",
        "# 構造体の定義\n",
        "# 次の形式で構造体を定義します。\n",
        "\n",
        "# struct 構造体名 {\n",
        "#   型1 メンバ変数名1\n",
        "#   型2 メンバ変数名2\n",
        "#   型3 メンバ変数名3\n",
        "#   ...(必要な分だけ書く)\n",
        "# };  // ← セミコロンが必要\n",
        "\n",
        "# 構造体の定義は関数の外側、内側のどちらにも書くことができます。\n",
        "\n",
        "# 構造体を定義することによって新しい型が使えるようになります。 \n",
        "# 例えば、上の例ではMyPairという構造体を定義したので、それ以降MyPairという型が使えるようになります。\n",
        "\n",
        "# 宣言・初期化\n",
        "# 構造体の変数を宣言するには、通常の変数の宣言と同じように次のように書きます。\n",
        "\n",
        "# 構造体名 変数名;\n",
        "# また、次のように構造体名を用いて構造体の値を生成することもできます。\n",
        "\n",
        "# auto 変数名 = 構造体名();\n",
        "# 構造体名を使う方法は一時変数を作りたい場合に便利です。\n",
        "\n",
        "# なお、構造体型の値のことをオブジェクトといいます。\n",
        "\n",
        "# 例えば、はじめのサンプルプログラムのpはMyPair型のオブジェクトです。\n",
        "\n",
        "# 宣言と同時に、メンバ変数の初期化を行う場合は次のようにします。\n",
        "\n",
        "# 構造体名 オブジェクト名 = {メンバ変数1の値, メンバ変数2の値, メンバ変数3の値, ...(必要な分だけ書く)};\n",
        "\n",
        "# メンバ変数\n",
        "# 構造体が持っている変数をメンバ変数といいます。\n",
        "\n",
        "# メンバ変数へのアクセスは次のようにします。\n",
        "\n",
        "# オブジェクト.メンバ変数\n",
        "\n",
        "# メンバ変数は、通常の変数と同じように使うことができます。\n",
        "\n",
        "# なお通常の変数と同様に、オブジェクトを宣言しただけではメンバ変数の値は未定である点に注意してください。\n",
        "\n",
        "# メンバ関数\n",
        "# 構造体には、オブジェクトに関連した処理を行う関数を定義することができ、この関数をメンバ関数といいます。\n",
        "\n",
        "# メンバ関数は次のように定義します。\n",
        "\n",
        "# struct 構造体名 {\n",
        "#   返り値の型 メンバ関数名(引数の型1 引数名1, 引数の型2 引数名2, ...) {\n",
        "#     // 関数の内容\n",
        "#     //   (ここではメンバ変数に直接アクセスすることができる)\n",
        "#   }\n",
        "# };\n",
        "\n",
        "# メンバ関数を呼び出すには次のようにします。\n",
        "\n",
        "# オブジェクト.メンバ関数(引数1, 引数2, ...)\n",
        "# メンバ関数の特徴は「メンバ関数が紐付いているオブジェクトのメンバ変数」に\n",
        "# 関数内からアクセスする場合に、オブジェクトの指定なしに直接アクセスできることです。 \n",
        "# この点を除けば、通常の関数と同じように使うことができます。\n",
        "\n",
        "# メンバアクセスの機能を使う場合には、メンバ関数と通常の関数では違いがありますが、 \n",
        "# APG4bで扱う範囲内では基本的に通常の関数と同様に使うことができます。\n",
        "\n",
        "# 次のサンプルプログラムで確認してください。\n",
        "\n",
        "# サンプルプログラム\n",
        "%%writefile temp.cpp\n",
        "#include <bits/stdc++.h>\n",
        "using namespace std;\n",
        " \n",
        "struct MyPair {\n",
        "  int x;\n",
        "  string y;\n",
        "  // メンバ関数\n",
        "  void print() {\n",
        "    // 直接x, yにアクセスできる\n",
        "    cout << \"x = \" << x << endl;\n",
        "    cout << \"y = \" << y << endl;\n",
        "  }\n",
        "};\n",
        " \n",
        "int main() {\n",
        "  MyPair p = { 12345, \"Hello\" };\n",
        "  p.print();  // オブジェクト`p`の`print`を呼び出す\n",
        " \n",
        "  MyPair q = { 67890, \"APG4b\" };\n",
        "  q.print();  // オブジェクト`q`の`print`を呼び出す\n",
        "}"
      ],
      "metadata": {
        "id": "0IsYeWwmH5f3"
      },
      "execution_count": null,
      "outputs": []
    },
    {
      "cell_type": "code",
      "source": [
        "!g++ temp.cpp; ./a.out "
      ],
      "metadata": {
        "id": "OWNGkAPXI-sq"
      },
      "execution_count": null,
      "outputs": []
    },
    {
      "cell_type": "code",
      "source": [
        "# コンストラクタ\n",
        "# オブジェクトが作られるときに、独自の初期化処理などを行いたい場合にコンストラクタを使うことができます。\n",
        "\n",
        "# コンストラクタは次のように定義します。\n",
        "\n",
        "# struct 構造体名 {\n",
        "#   // コンストラクタ\n",
        "#   構造体名() {\n",
        "#     // コンストラクタの内容\n",
        "#   }\n",
        "# };\n",
        "\n",
        "# サンプルプログラム\n",
        "%%writefile temp.cpp\n",
        "#include <bits/stdc++.h>\n",
        "using namespace std;\n",
        " \n",
        "struct MyPair {\n",
        "  int x;\n",
        "  string y;\n",
        "  // コンストラクタ\n",
        "  MyPair() {\n",
        "    cout << \"constructor called\" << endl;\n",
        "  }\n",
        "};\n",
        " \n",
        "int main() {\n",
        "  MyPair p;  // ここでコンストラクタが呼ばれる\n",
        "  p.x = 12345;\n",
        "  p.y = \"hello\";\n",
        "  cout << \"p.x = \" << p.x << endl;\n",
        "  cout << \"p.y = \" << p.y << endl;\n",
        "}"
      ],
      "metadata": {
        "id": "XWe4nD5fI6Hl"
      },
      "execution_count": null,
      "outputs": []
    },
    {
      "cell_type": "code",
      "source": [
        "!g++ temp.cpp; ./a.out "
      ],
      "metadata": {
        "id": "qJFVdrQuJQOt"
      },
      "execution_count": null,
      "outputs": []
    },
    {
      "cell_type": "code",
      "source": [
        "# コンストラクタはメンバ関数と同様に引数を取ることができます。\n",
        "\n",
        "# Copy\n",
        "# struct 構造体名 {\n",
        "#   // コンストラクタ\n",
        "#   構造体名(引数1の型 引数1の名前, 引数2の型 引数2の名前, ...) {\n",
        "#     // コンストラクタの内容\n",
        "#   }\n",
        "# };\n",
        "\n",
        "# コンストラクタが引数を取る場合、次のように\n",
        "# オブジェクトの宣言時にコンストラクタの引数に対応する値を渡す必要があります。\n",
        "\n",
        "# 構造体名 オブジェクト名(引数1, 引数2, 引数3, ...);\n",
        "\n",
        "# サンプルプログラム\n",
        "%%writefile temp.cpp\n",
        "#include <bits/stdc++.h>\n",
        "using namespace std;\n",
        " \n",
        "struct NumString {\n",
        "  int length;\n",
        "  string s;\n",
        "  // コンストラクタ\n",
        "  NumString(int num) {\n",
        "    cout << \"constructor called\" << endl;\n",
        " \n",
        "    // 引数のnumを文字列化したものをsに代入し、sの文字数をlengthに代入する\n",
        "    s = to_string(num);  // (STLの関数)\n",
        "    length = s.size();\n",
        "  }\n",
        "};\n",
        " \n",
        "int main() {\n",
        "  NumString num(12345);  // コンストラクタに 12345 が渡される\n",
        "  cout << \"num.s = \" << num.s << endl;\n",
        "  cout << \"num.length = \" << num.length << endl;\n",
        "}"
      ],
      "metadata": {
        "id": "LsSRrxQcJNFl"
      },
      "execution_count": null,
      "outputs": []
    },
    {
      "cell_type": "code",
      "source": [
        "!g++ temp.cpp; ./a.out "
      ],
      "metadata": {
        "id": "5eDMgf4lRBPb"
      },
      "execution_count": null,
      "outputs": []
    },
    {
      "cell_type": "code",
      "source": [
        "# コンストラクタは複数定義することができ、与える引数の型や引数の個数によって\n",
        "# 自動的に呼び分けることができます。\n",
        "\n",
        "%%writefile temp.cpp\n",
        "#include <bits/stdc++.h>\n",
        "using namespace std;\n",
        " \n",
        "struct MyPair {\n",
        "  int x;\n",
        "  string y;\n",
        "  // コンストラクタ1\n",
        "  MyPair() {\n",
        "    cout << \"初期化無し\" << endl;\n",
        "  }\n",
        "  // コンストラクタ2\n",
        "  MyPair(int x_) {\n",
        "    cout << \"xのみ初期化\" << endl;\n",
        "    x = x_;\n",
        "  }\n",
        "  // コンストラクタ3\n",
        "  MyPair(int x_, string y_) {\n",
        "    cout << \"x, y両方初期化\" << endl;\n",
        "    x = x_;\n",
        "    y = y_;\n",
        "  }\n",
        "};\n",
        " \n",
        "int main() {\n",
        "  MyPair p;  // コンストラクタ1が呼ばれる\n",
        "  cout << \"p.x = \" << p.x << endl;\n",
        "  cout << \"p.y = \" << p.y << endl;\n",
        " \n",
        "  MyPair q(6789);  // コンストラクタ2が呼ばれる\n",
        "  cout << \"q.x = \" << q.x << endl;\n",
        "  cout << \"q.y = \" << q.y << endl;\n",
        " \n",
        "  MyPair r(11111, \"good bye\");  // コンストラクタ3が呼ばれる\n",
        "  cout << \"r.x = \" << r.x << endl;\n",
        "  cout << \"r.y = \" << r.y << endl;\n",
        "}"
      ],
      "metadata": {
        "id": "_wGYhra5Jq6G"
      },
      "execution_count": null,
      "outputs": []
    },
    {
      "cell_type": "code",
      "source": [
        "!g++ temp.cpp; ./a.out "
      ],
      "metadata": {
        "id": "wQBwyV1vRPM0"
      },
      "execution_count": null,
      "outputs": []
    },
    {
      "cell_type": "code",
      "source": [
        "# なお、{}を使ったオブジェクトの初期化を行う場合、コンストラクタの引数に対応する\n",
        "# ものを{}で囲む必要があります。\n",
        "\n",
        "# 構造体名 オブジェクト名 = {引数1, 引数2, 引数3, ...};\n",
        "# メンバ変数ではなく、コンストラクタの引数を{}で囲むことに注意してください。\n",
        "\n",
        "# コピーコンストラクタ\n",
        "# コンストラクタはオブジェクトが作られる際に呼ばれますが、 関数の引数として\n",
        "# オブジェクトを渡す場合などの条件を満たした場合には、\n",
        "# コピーコンストラクタという特殊なコンストラクタが呼ばれます。\n",
        "\n",
        "# 次のような場合にコピーコンストラクタが呼ばれます。\n",
        "\n",
        "# 関数の引数としてオブジェクトを渡した場合\n",
        "# オブジェクトを宣言する際にMyStruct new_obj = old_obj;で初期化する場合\n",
        "# オブジェクトを宣言する際にMyStruct new_obj(old_obj);の形で初期化する場合\n",
        "# など\n",
        "# コピーコンストラクタについては込み入った話が多くなるので、基本的なことのみ紹介します。\n",
        "\n",
        "# コピーコンストラクタは次のように定義します。\n",
        "\n",
        "# struct 構造体名 {\n",
        "#   // コピーコンストラクタ\n",
        "#   構造体名(const 構造体名 &old) {\n",
        "#     // コンストラクタの内容\n",
        "#     // (oldの内容を使って初期化などを行う)\n",
        "#   }\n",
        "# };\n",
        "\n",
        "# constは変数の内容を書き換えられなくなる機能です。この例では、oldのメンバ変数を\n",
        "# 書き換えることができなくなっています。 詳しくは3.07で扱います。\n",
        "\n",
        "# 引数名をoldとしましたが、自由に名前をつけて良いです。\n",
        "\n",
        "# なお、コピーコンストラクタを定義しなかった場合には、 「全てのメンバ変数をそのまま\n",
        "# コピーして新しいオブジェクトを作る」 という動作をするコピーコンストラクタが自動的に\n",
        "# 作られるので、 ただコピーしたいだけならコピーコンストラクタを自分で書く必要はありません。\n",
        "\n",
        "# コピーコンストラクタの呼び出しはコンパイラの最適化によって省略される場合があるので注意が必要です。\n",
        "\n",
        "# サンプルプログラム\n",
        "\n",
        "%%writefile temp.cpp\n",
        "#include <bits/stdc++.h>\n",
        "using namespace std;\n",
        " \n",
        "struct MyPair {\n",
        "  int x;\n",
        "  string y;\n",
        "  // コンストラクタ\n",
        "  MyPair() {\n",
        "    cout << \"normal constructor called\" << endl;\n",
        "  }\n",
        "  // コピーコンストラクタ\n",
        "  MyPair(const MyPair &old) {\n",
        "    cout << \"copy constructor called\" << endl;\n",
        "    x = old.x + 1;\n",
        "    y = old.y + \" new\";\n",
        "  }\n",
        "};\n",
        " \n",
        "int main() {\n",
        "  MyPair p;  // ここでコンストラクタが呼ばれる\n",
        "  p.x = 12345;\n",
        "  p.y = \"hello\";\n",
        "  cout << \"p.x = \" << p.x << endl;\n",
        "  cout << \"p.y = \" << p.y << endl;\n",
        " \n",
        "  MyPair q(p);  // コピーコンストラクタが呼ばれる\n",
        "  cout << \"q.x = \" << q.x << endl;\n",
        "  cout << \"q.y = \" << q.y << endl;\n",
        " \n",
        "  MyPair r = q;  // コピーコンストラクタが呼ばれる\n",
        "  cout << \"r.x = \" << r.x << endl;\n",
        "  cout << \"r.y = \" << r.y << endl;\n",
        "}"
      ],
      "metadata": {
        "id": "ee7PdAgHRM09"
      },
      "execution_count": null,
      "outputs": []
    },
    {
      "cell_type": "code",
      "source": [
        "!g++ temp.cpp; ./a.out "
      ],
      "metadata": {
        "id": "PXvsBnZwR411"
      },
      "execution_count": null,
      "outputs": []
    },
    {
      "cell_type": "code",
      "source": [
        "# このサンプルプログラムのように、通常のコンストラクタとコピーコンストラクタを\n",
        "# 同時に定義することもできます。\n",
        "\n",
        "# 演算子オーバーロード\n",
        "# 新たに定義した構造体型のオブジェクトに対してC++の演算子を使えるようにすることができ、\n",
        "# この機能を演算子オーバーロードといいます。\n",
        "\n",
        "# 演算子オーバーロードを行える演算子は限られてはいますが、殆どの演算子を\n",
        "# オーバーロードすることができます。\n",
        "\n",
        "# 演算子オーバーロードの使用はプログラムがシンプルになる一方で、意味がわかりにくくなる\n",
        "# こともあるので注意しましょう。\n",
        "\n",
        "# 極端な例では、+という演算子に引き算をさせるようなこともできてしまいますが、\n",
        "# このような非自明な挙動はなるべく避けるべきです。\n",
        "\n",
        "# +演算子のオーバーロード\n",
        "# サンプルプログラム\n",
        "%%writefile temp.cpp\n",
        "#include <bits/stdc++.h>\n",
        "using namespace std;\n",
        " \n",
        "struct MyPair {\n",
        "  int x;\n",
        "  string y;\n",
        "  // 別のMyPair型のオブジェクトをとって、x, yにそれぞれ+したものを返す\n",
        "  // +演算子をオーバーロード\n",
        "  MyPair operator+(const MyPair &other) {\n",
        "    MyPair ret;\n",
        "    ret.x = x + other.x;  // ここではint型の+演算子が呼ばれる\n",
        "    ret.y = y + other.y;  // ここではstring型の+演算子が呼ばれる\n",
        "    return ret;\n",
        "  }\n",
        "};\n",
        " \n",
        "int main() {\n",
        "  MyPair a = {123, \"hello\"};\n",
        "  MyPair b = {456, \"world\"};\n",
        " \n",
        "  // MyPair型の+演算子が呼ばれる\n",
        "  MyPair c = a + b;\n",
        " \n",
        "  cout << \"c.x = \" << c.x << endl;\n",
        "  cout << \"c.y = \" << c.y << endl;\n",
        "}"
      ],
      "metadata": {
        "id": "xfmjmUuTR2tR"
      },
      "execution_count": null,
      "outputs": []
    },
    {
      "cell_type": "code",
      "source": [
        "!g++ temp.cpp; ./a.out "
      ],
      "metadata": {
        "id": "njo_h0MlSOjS"
      },
      "execution_count": null,
      "outputs": []
    },
    {
      "cell_type": "code",
      "source": [
        "# 演算子オーバーロードをメンバ関数として定義しています。\n",
        "\n",
        "# +演算子をオーバーロードする場合は次のように定義します。\n",
        "\n",
        "# struct 構造体名 {\n",
        "#   返り値の型 operator+(引数の型 引数) {\n",
        "#     // 処理内容\n",
        "#   }\n",
        "# };\n",
        "\n",
        "# 返り値や引数の型は自由に決めることができます。ただし、引数の個数は1つです。\n",
        "\n",
        "# +演算子のオーバーロードは構造体の外側で定義することもできます。 \n",
        "# 下の「外側で定義する場合」で説明します。\n",
        "\n",
        "# 代入演算子のオーバーロード\n",
        "# =演算子(代入演算子)も他の演算子と同様にオーバーロードによって動作をカスタマイズすることができます。\n",
        "\n",
        "# オーバーロードを行わなかった場合、代入演算子は自動的に定義されます。 自動的に定義される\n",
        "# 代入演算子では、「全てのメンバ変数をそのまま代入していく」というような処理が行われます。\n",
        "\n",
        "# サンプルプログラム\n",
        "%%writefile temp.cpp\n",
        "#include <bits/stdc++.h>\n",
        "using namespace std;\n",
        " \n",
        "struct MyPair {\n",
        "  int x;\n",
        "  string y;\n",
        "  // 代入演算子をオーバーロード\n",
        "  void operator=(const MyPair &other) {\n",
        "    cout << \"= operator called\" << endl;\n",
        "    x = other.x;\n",
        "    y = other.y;\n",
        "  }\n",
        "};\n",
        " \n",
        "int main() {\n",
        "  MyPair a = {123, \"hello\"};\n",
        " \n",
        "  MyPair b;\n",
        "  b = a;  // 代入演算子が呼ばれる\n",
        " \n",
        "  cout << \"b.x = \" << b.x << endl;\n",
        "  cout << \"b.y = \" << b.y << endl;\n",
        "}"
      ],
      "metadata": {
        "id": "PZq8pQkQSJKl"
      },
      "execution_count": null,
      "outputs": []
    },
    {
      "cell_type": "code",
      "source": [
        "!g++ temp.cpp; ./a.out "
      ],
      "metadata": {
        "id": "sqyrN1MmSmWE"
      },
      "execution_count": null,
      "outputs": []
    },
    {
      "cell_type": "code",
      "source": [
        "# 代入演算子のオーバーロードは次のように定義します。\n",
        "\n",
        "#   void operator=(const 構造体名 &other) {\n",
        "#     // 処理内容\n",
        "#   } \n",
        "\n",
        "# その他の演算子のオーバーロード\n",
        "# 他の演算子も同様にオーバーロードすることができます。 メンバ関数として演算子オーバーロードを\n",
        "# 定義する場合、次のようにします。\n",
        "\n",
        "# struct 構造体の型 {\n",
        "#   返り値の型 operator演算子(引数の型 引数) {\n",
        "#     // 処理内容\n",
        "#   }\n",
        "# };\n",
        "\n",
        "# 「演算子」の部分には、+, -, *, /, %, <, >, ==, !=, &&, ||などを書きます。\n",
        "\n",
        "# 外側で定義する場合\n",
        "# 構造体の外側で演算子オーバーロードを行うと、 自分が定義していない構造体\n",
        "# (例えばSTLのpairなど)に対しても演算子をオーバーロードすることができます。\n",
        "\n",
        "# 構造体の外側で演算子オーバーロードを定義する場合は、次のようにします。\n",
        "\n",
        "# 返り値の型 operator演算子(引数の型1 引数1, 引数の型2 引数2) {\n",
        "#   // 処理内容\n",
        "# }\n",
        "# 以下はpair<int, int>に対する演算子オーバーロードのサンプルプログラムです。\n",
        "\n",
        "# pairに対して+演算子をオーバーロードする例\n",
        "%%writefile temp.cpp\n",
        "#include <bits/stdc++.h>\n",
        "using namespace std;\n",
        " \n",
        "pair<int, int> operator+(pair<int, int> a, pair<int, int> b) {\n",
        "  pair<int, int> ret;\n",
        "  ret.first = a.first + b.first;\n",
        "  ret.second = a.second + b.second;\n",
        "  return ret;\n",
        "}\n",
        " \n",
        "int main() {\n",
        "  pair<int, int> a = {1, 2};\n",
        "  pair<int, int> b = {3, 4};\n",
        "  auto c = a + b;\n",
        "  cout << c.first << \", \" << c.second << endl;  // 4, 6\n",
        "}"
      ],
      "metadata": {
        "id": "kJkCobCoSjju"
      },
      "execution_count": null,
      "outputs": []
    },
    {
      "cell_type": "code",
      "source": [
        "!g++ temp.cpp; ./a.out "
      ],
      "metadata": {
        "id": "Bj5AEQyFVJgi"
      },
      "execution_count": null,
      "outputs": []
    },
    {
      "cell_type": "code",
      "source": [
        "# pairの<演算子をオーバーロードして.secondを優先して比較するように変更する例\n",
        "%%writefile temp.cpp\n",
        "#include <bits/stdc++.h>\n",
        "using namespace std;\n",
        " \n",
        "// .second → .first の順に比較\n",
        "bool operator<(pair<int, int> l, pair<int, int> r) {\n",
        "  if (l.second != r.second) {\n",
        "    return l.second < r.second;\n",
        "  } else {\n",
        "    return l.first < r.first;\n",
        "  }\n",
        "}\n",
        "// <演算子 を用いて定義\n",
        "bool operator> (pair<int, int> l, pair<int, int> r) { return r < l; }\n",
        "bool operator<=(pair<int, int> l, pair<int, int> r) { return !(r < l); }\n",
        "bool operator>=(pair<int, int> l, pair<int, int> r) { return !(l < r); }\n",
        " \n",
        "int main() {\n",
        "  pair<int, int> a = {1, 5};\n",
        "  pair<int, int> b = {3, 2};\n",
        "  cout << (a < b) << endl;  // 0\n",
        "  cout << (a > b) << endl;  // 1\n",
        "}"
      ],
      "metadata": {
        "id": "GYb83FxLVGqo"
      },
      "execution_count": null,
      "outputs": []
    },
    {
      "cell_type": "code",
      "source": [
        "!g++ temp.cpp; ./a.out "
      ],
      "metadata": {
        "id": "cL-70JG3VUDx"
      },
      "execution_count": null,
      "outputs": []
    },
    {
      "cell_type": "code",
      "source": [
        "# なお、複合代入演算子(+=, -=, *=, /=, %=など)は構造体の外側で定義することはできない\n",
        "# ことに注意してください。\n",
        "\n",
        "# STLのコンテナの要素として使う場合の注意\n",
        "# STLのコンテナや関数は、特定の演算子を要求することがあります。\n",
        "\n",
        "# 次のような場合には比較演算子<をオーバーロードする必要があります。\n",
        "\n",
        "# mapのKeyとして構造体を使う場合\n",
        "# priority_queueの要素の型として構造体を使う場合\n",
        "# 構造体の配列に対してsort関数を使う場合\n",
        "# 比較演算子<は次のように定義します。\n",
        "\n",
        "# bool operator<(const 構造体名 &left, const 構造体名 &right) {\n",
        "#   // left < right の場合に true を返すように実装する\n",
        "# }\n",
        "\n",
        "# メンバ初期化子リスト\n",
        "# メンバ変数を初期化する方法として、メンバ初期化子リストを使う方法があります。\n",
        "\n",
        "# 基本的にはコンストラクタ内で代入するのと変わりませんが、 例えばメンバ変数が参照型\n",
        "# である場合のように、コンストラクタ内で初期化することができない場合には、 \n",
        "# メンバ初期化子リストで初期化する必要があります。\n",
        "\n",
        "# サンプルプログラム\n",
        "%%writefile temp.cpp\n",
        "#include <bits/stdc++.h>\n",
        "using namespace std;\n",
        " \n",
        "struct MyPair {\n",
        "  int x;\n",
        "  string y;\n",
        "  // 初期化子リストを用いた初期化\n",
        "  MyPair() : x(123), y(\"hello\") {\n",
        "  }\n",
        "};\n",
        " \n",
        "int main() {\n",
        "  MyPair p;  // コンストラクタにより初期化される\n",
        "  cout << \"p.x = \" << p.x << endl;\n",
        "  cout << \"p.y = \" << p.y << endl;\n",
        "}"
      ],
      "metadata": {
        "id": "KkVR3981VSvv"
      },
      "execution_count": null,
      "outputs": []
    },
    {
      "cell_type": "code",
      "source": [
        "!g++ temp.cpp; ./a.out "
      ],
      "metadata": {
        "id": "R-H9zd44Vsrs"
      },
      "execution_count": null,
      "outputs": []
    },
    {
      "cell_type": "code",
      "source": [
        "# メンバ初期化子リストは次のようにコンストラクタに:を続けて書きます。\n",
        "\n",
        "# struct 構造体名 {\n",
        "#   型1 メンバ変数1;\n",
        "#   型2 メンバ変数2;\n",
        "#   ...(必要な分だけ書く)\n",
        "\n",
        "#   構造体名() : メンバ変数名1(初期化内容), メンバ変数名2(初期化内容), ...(必要な分だけ書く)\n",
        "#   {\n",
        "#   }\n",
        "# };\n",
        "\n",
        "# 初期化の部分には、メンバ変数名{初期化内容1, 初期化内容2, ...}のように書くこともできます。\n",
        "\n",
        "# クラス\n",
        "# C++には構造体とほとんど同じ機能であるクラスがあります。\n",
        "\n",
        "# クラスと構造体の違いはメンバアクセスのデフォルトの挙動です。 メンバアクセスについては\n",
        "# APG4bでは扱いませんが、メンバ変数やメンバ関数を使用できる範囲を制限する機能です。 \n",
        "# 「メンバ関数の中からしか扱えないメンバ変数」や「メンバ関数の中でしか呼べないメンバ関数」\n",
        "# などを実現できます。\n",
        "\n",
        "# デフォルトのメンバアクセスが、クラスはプライベートメンバアクセス（private:を指定したときの挙動）で、\n",
        "# 構造体はパブリックメンバアクセス（public:を指定したときの挙動）です。\n",
        "\n",
        "# クラス(構造体)には継承という機能もあり、 オブジェクト指向プログラミングを行う際に便利な\n",
        "# さまざまな機能が用意されています。 興味のある人は調べてみてください。\n",
        "\n",
        "# 扱わなかった構造体関連の機能のリスト\n",
        "# このページで紹介しきれなかった機能のリストを次に示します。 より詳しく勉強したい人は調べてみてください。\n",
        "\n",
        "# デストラクタ\n",
        "# メンバアクセス\n",
        "# 継承\n",
        "# 静的メンバ変数/関数\n",
        "# friend宣言\n",
        "# union\n",
        "# ビットフィールド\n",
        "# など"
      ],
      "metadata": {
        "id": "Up-NaWCMVq5h"
      },
      "execution_count": null,
      "outputs": []
    },
    {
      "cell_type": "code",
      "source": [
        "# EX24 - 時計の実装 \n",
        "# 構造体の練習として、24時間表記の時計を表す構造体を実装してみましょう。\n",
        "# 以下のプログラムの雛形のコメントに従って構造体を実装してください。\n",
        "\n",
        "%%writefile temp.cpp\n",
        "#include <bits/stdc++.h>\n",
        "using namespace std;\n",
        "\n",
        "// 以下に、24時間表記の時計構造体 Clock を定義する\n",
        "struct Clock {\n",
        "  // メンバ変数の宣言\n",
        "  int hour;    // 時間を表す (0~23の値をとる)\n",
        "  int minute;  // 分を表す   (0~59の値をとる)\n",
        "  int second;  // 秒を表す   (0~59の値をとる)\n",
        "\n",
        "  // メンバ関数 set の定義\n",
        "  void set(int h, int m, int s) {\n",
        "    hour   = h;\n",
        "    minute = m;\n",
        "    second = s;\n",
        "  }\n",
        "\n",
        "  // メンバ関数 to_str の定義\n",
        "  string to_str() {\n",
        "    string ret;\n",
        "\n",
        "    // 必要ではないが、書いておくと誤りがある場合に気づきやすくなる\n",
        "    if (!(0 <= hour && hour <= 23 &&\n",
        "          0 <= minute && minute <= 59 &&\n",
        "          0 <= second && second <= 59)) {\n",
        "      return \"error\";\n",
        "    }\n",
        "\n",
        "    if (hour < 10) ret += \"0\";\n",
        "    ret += to_string(hour);\n",
        "\n",
        "    ret += \":\";\n",
        "\n",
        "    if (minute < 10) ret += \"0\";\n",
        "    ret += to_string(minute);\n",
        "\n",
        "    ret += \":\";\n",
        "\n",
        "    if (second < 10) ret += \"0\";\n",
        "    ret += to_string(second);\n",
        "\n",
        "    return ret;\n",
        "  }\n",
        "\n",
        "  // メンバ関数 shift の定義\n",
        "  void shift(int diff_second) {\n",
        "    int diff_hour = diff_second / 3600;\n",
        "    diff_second %= 3600;\n",
        "    int diff_minute = diff_second / 60;\n",
        "    diff_second %= 60;\n",
        "\n",
        "    second += diff_second;\n",
        "    if (second >= 60) {\n",
        "      // 分へ繰り上げ\n",
        "      minute += 1;\n",
        "      second -= 60;\n",
        "    } else if (second < 0) {\n",
        "      // 分から繰り下げ\n",
        "      minute -= 1;\n",
        "      second += 60;\n",
        "    }\n",
        "\n",
        "    minute += diff_minute;\n",
        "    if (minute >= 60) {\n",
        "      // 時へ繰り上げ\n",
        "      hour += 1;\n",
        "      minute -= 60;\n",
        "    } else if (minute < 0) {\n",
        "      // 時から繰り下げ\n",
        "      hour -= 1;\n",
        "      minute += 60;\n",
        "    }\n",
        "\n",
        "    hour += diff_hour;\n",
        "    if (hour >= 24) {\n",
        "      hour -= 24;\n",
        "    } else if (hour < 0) {\n",
        "      hour += 24;\n",
        "    }\n",
        "  }\n",
        "};\n",
        "\n",
        "// -------------------\n",
        "// ここから先は変更しない\n",
        "// -------------------\n",
        "\n",
        "int main() {\n",
        "  // 入力を受け取る\n",
        "  int hour, minute, second;\n",
        "  cin >> hour >> minute >> second;\n",
        "  int diff_second;\n",
        "  cin >> diff_second;\n",
        "\n",
        "  // Clock構造体のオブジェクトを宣言\n",
        "  Clock clock;\n",
        "\n",
        "  // set関数を呼び出して時刻を設定する\n",
        "  clock.set(hour, minute, second);\n",
        "\n",
        "  // 時刻を出力\n",
        "  cout << clock.to_str() << endl;\n",
        "\n",
        "  // 時計を進める(戻す)\n",
        "  clock.shift(diff_second);\n",
        "\n",
        "  // 変更後の時刻を出力\n",
        "  cout << clock.to_str() << endl;\n",
        "}\n"
      ],
      "metadata": {
        "id": "e1eKkYIOWAZy"
      },
      "execution_count": null,
      "outputs": []
    },
    {
      "cell_type": "code",
      "source": [
        "!g++ temp.cpp; echo 0 0 0 90 |./temp  #=> 00:00:00 00:01:30\n",
        "!g++ temp.cpp; echo 0 0 0 -5 |./temp #=> 00:00:00 23:59:55\n",
        "!g++ temp.cpp; echo 23 59 30 30 |./temp #=> 23:59:30 00:00:00\n",
        "!g++ temp.cpp; echo 6 57 9 -4195 |./temp #=> 06:57:09 05:47:14"
      ],
      "metadata": {
        "id": "Ccdbu9I5uc-T"
      },
      "execution_count": null,
      "outputs": []
    },
    {
      "cell_type": "markdown",
      "source": [
        "# AC - 3.05.ビット演算"
      ],
      "metadata": {
        "id": "wSNvYtT8vj1X"
      }
    },
    {
      "cell_type": "code",
      "source": [
        "# AC - 3.05.ビット演算 \n",
        "# キーポイント\n",
        "# 「0」か「1」の2通りの状態を表現することができるデータの単位をビットといい、ビットを複数並べたものをビット列という\n",
        "# 次の表のようなビット列に関する演算をビット演算という"
      ],
      "metadata": {
        "id": "ozB4UYCduan-"
      },
      "execution_count": null,
      "outputs": []
    },
    {
      "cell_type": "code",
      "source": [
        "%%html\n",
        "<style>\n",
        "    tr td:nth-child(2) {\n",
        "        color: red;\n",
        "        text-align: center;\n",
        "    }\n",
        "</style>\n",
        "<table border=\"1\">\n",
        "<thead>\n",
        "<tr><th>ビット演算</th><th>演算子</th><th>意味</th></tr>\n",
        "</thead>\n",
        "<tbody>\n",
        "<tr><td>ビット毎のAND演算</td><td>&</td><td>各ビットについて「両方のビットが1ならば1」という操作を適用する。</td></tr>\n",
        "<tr><td>ビット毎のOR演算</td><td>|</td><td>各ビットについて「少なくとも一方のビットが1ならば1」という操作を適用する。</td></tr>\n",
        "<tr><td>ビット毎のXOR演算</td><td>^</td><td>各ビットについて「どちらか一方だけが1ならば1」という操作を適用する。</td></tr>\n",
        "<tr><td>ビット毎のNOT演算</td><td>~</td><td>各ビットについて「ビットを反転する」という操作を適用する。</td></tr>\n",
        "<tr><td>左シフト演算</td><td><<</td><td>指定したビット数だけビット列を左にずらす。範囲外のビットは切り捨てられ、足りないビットは0で埋められる。</td></tr>\n",
        "<tr><td>右シフト演算</td><td>>></td><td>指定したビット数だけビット列を右にずらす。範囲外のビットは切り捨てられ、足りないビットは0で埋められる。</td></tr>\n",
        "</tbody>\n",
        "</table>"
      ],
      "metadata": {
        "id": "FLAJF_JYbr7D"
      },
      "execution_count": null,
      "outputs": []
    },
    {
      "cell_type": "code",
      "source": [
        "# ビット演算を用いると集合を便利に扱えることがある\n",
        "# C++でビット列を扱うときは bitset を用いる\n",
        "\n",
        "# bitset<ビット数> 変数名;  // すべてのビットが0の状態で初期化される\n",
        "# bitset<ビット数> 変数名(\"ビット列(長さはビット数に合わせる)\");  // 指定したビット列で初期化される\n",
        "\n",
        "# 変数.set(位置, 値);  // ビットの値を変更\n",
        "# 変数.test(位置);  // ビットの値を調べる\n",
        "\n",
        "# C++の整数型を用いることで(通常)64ビットまでのビット列を扱うことができる\n",
        "# ビット演算の演算子は優先順位を間違えやすいため、明示的に()でくくるようにする\n",
        "\n",
        "# ビット演算\n",
        "# 初めにビット演算の概念について説明し、その後にC++でビット演算を行う方法を紹介します\n",
        "\n",
        "# ビット\n",
        "# 「0」か「1」の2通りの状態を表現することができるデータの単位をビットといいます。\n",
        "\n",
        "# ビットをいくつか並べたものをビット列といいます。 例えば「0011」は4ビットのビット列で、「10101010」は8ビットのビット列です。\n",
        "\n",
        "# ビット演算\n",
        "# ビット列に関する演算をビット演算といいます。\n",
        "\n",
        "# 以下の6つのビット演算を紹介します。\n",
        "\n",
        "# * AND演算\n",
        "# * OR演算\n",
        "# * XOR演算\n",
        "# * NOT演算\n",
        "# * 左シフト演算\n",
        "# * 右シフト演算\n",
        "\n",
        "# AND演算\n",
        "# 下の表で定義される演算をAND演算（または論理積）といいます。 \n",
        "# このAND演算をビット毎に適用する演算をビット毎のAND演算（bitwise AND）といいます。\n",
        "# AND演算ではx, yのビットが共に1の場合のみ結果が1になります。\n",
        "%%html\n",
        "<style>\n",
        "    tr td:nth-child(3) {\n",
        "        color: red;\n",
        "        text-align: center;\n",
        "    }\n",
        "</style>\n",
        "<table border=\"1\">\n",
        "<thead>\n",
        "<tr><th>x</th><th>y</th><th>x AND y</th></tr>\n",
        "</thead>\n",
        "<tbody>\n",
        "<tr><td>0</td><td>0</td><td>0</td></tr>\n",
        "<tr><td>0</td><td>1</td><td>0</td></tr>\n",
        "<tr><td>1</td><td>0</td><td>0</td></tr>\n",
        "<tr><td>1</td><td>1</td><td>1</td></tr>\n",
        "</tbody>\n",
        "</table>"
      ],
      "metadata": {
        "id": "8HTnB0rpbp_6"
      },
      "execution_count": null,
      "outputs": []
    },
    {
      "cell_type": "code",
      "source": [
        "# 具体例\n",
        "# 0111 AND 0100 = 0100\n",
        "# 縦に並べると次のようになります。\n",
        "\n",
        "#     0111\n",
        "# AND 0100\n",
        "# --------\n",
        "#   = 0100\n",
        "\n",
        "# OR演算\n",
        "# 下の表で定義される演算をOR演算（または論理和）といいます。 \n",
        "# ビット毎にOR演算を適用する演算をビット毎のOR演算（bitwise OR）といいます。\n",
        "# OR演算ではx, yのビットの少なくとも一方が1の場合に結果が1となります。 \n",
        "# 逆に言うと、共に0の場合のみ結果が0となります。\n",
        "%%html\n",
        "<style>\n",
        "    tr td:nth-child(3) {\n",
        "        color: red;\n",
        "        text-align: center;\n",
        "    }\n",
        "</style>\n",
        "<table border=\"1\">\n",
        "<thead>\n",
        "<tr><th>x</th><th>y</th><th>x OR y</th></tr>\n",
        "</thead>\n",
        "<tbody>\n",
        "<tr><td>0</td><td>0</td><td>0</td></tr>\n",
        "<tr><td>0</td><td>1</td><td>1</td></tr>\n",
        "<tr><td>1</td><td>0</td><td>1</td></tr>\n",
        "<tr><td>1</td><td>1</td><td>1</td></tr>\n",
        "</tbody>\n",
        "</table>\n",
        "\n"
      ],
      "metadata": {
        "id": "K_41AIQWqgow"
      },
      "execution_count": null,
      "outputs": []
    },
    {
      "cell_type": "code",
      "source": [
        "# 具体例\n",
        "# 0111 OR 0100 = 0111\n",
        "# 縦に並べると次のようになります。\n",
        "\n",
        "#     0111\n",
        "#  OR 0100\n",
        "# --------\n",
        "#   = 0111\n",
        "\n",
        "# XOR演算\n",
        "# 下の表で定義される演算をXOR演算（または排他的論理和）といいます。 \n",
        "# ビット毎にXOR演算を適用する演算をビット毎のXOR演算（bitwise XOR）といいます。\n",
        "# XOR演算ではx, yのビットの一方が1の場合に限り結果が1となります。 \n",
        "# x, yのビットが等しい場合に0になると見ることもできます。\n",
        "%%html\n",
        "<style>\n",
        "    tr td:nth-child(3) {\n",
        "        color: red;\n",
        "        text-align: center;\n",
        "    }\n",
        "</style>\n",
        "<table border=\"1\">\n",
        "<thead>\n",
        "<tr><th>x</th><th>y</th><th>x XOR y</th></tr>\n",
        "</thead>\n",
        "<tbody>\n",
        "<tr><td>0</td><td>0</td><td>0</td></tr>\n",
        "<tr><td>0</td><td>1</td><td>1</td></tr>\n",
        "<tr><td>1</td><td>0</td><td>1</td></tr>\n",
        "<tr><td>1</td><td>1</td><td>0</td></tr>\n",
        "</tbody>\n",
        "</table>"
      ],
      "metadata": {
        "id": "ccQhb_UgvzTr"
      },
      "execution_count": null,
      "outputs": []
    },
    {
      "cell_type": "code",
      "source": [
        "# 具体例\n",
        "# 0111 XOR 0100 = 0011\n",
        "# 縦に並べると次のようになります。\n",
        "\n",
        "#     0111\n",
        "# XOR 0100\n",
        "# --------\n",
        "#   = 0011\n",
        "\n",
        "# NOT演算\n",
        "# 下の表で定義される演算をNOT演算といいます。 \n",
        "# ビット毎にNOT演算を適用する演算をビット毎のNOT演算（bitwise NOT）といいます。\n",
        "# NOT演算は単にビットを反転する演算で、0のビットは1に、1のビットは0になります。\n",
        "%%html\n",
        "<style>\n",
        "    tr td:nth-child(2) {\n",
        "        color: red;\n",
        "        text-align: center;\n",
        "    }\n",
        "</style>\n",
        "<table border=\"1\">\n",
        "<thead>\n",
        "<tr><th>x</th><th>NOT x</th></tr>\n",
        "</thead>\n",
        "<tbody>\n",
        "<tr><td>0</td><td>1</td></tr>\n",
        "<tr><td>1</td><td>0</td></tr>\n",
        "</tbody>\n",
        "</table>"
      ],
      "metadata": {
        "id": "HsjXTCYnwUbi"
      },
      "execution_count": null,
      "outputs": []
    },
    {
      "cell_type": "code",
      "source": [
        "# 具体例\n",
        "# NOT 0111 = 1000\n",
        "# 縦に並べると次のようになります。\n",
        "\n",
        "# NOT 0111\n",
        "# --------\n",
        "#   = 1000\n",
        "\n",
        "# 左シフト演算\n",
        "# ビット列を左向きにずらす操作を論理左シフト演算や単に左シフトといいます。\n",
        "# 論理左シフト演算ではずらした後にはみ出た部分のビットは捨てられ、\n",
        "# 足りない部分のビットは0で埋められます。\n",
        "\n",
        "# 具体例\n",
        "# 0111 を2ビット左シフトすると 1100\n",
        "# 縦に並べると次のようになります。\n",
        "\n",
        "# 2ビット左シフト\n",
        "#     |0111|\n",
        "#   01|11  |\n",
        "# ----------\n",
        "#   = |1100|\n",
        "# はみ出た「01」の部分は切り捨てられ、右端の2ビット分は0で埋められます。\n",
        "\n",
        "# 右シフト演算\n",
        "# ビット列を右向きにずらす演算を論理右シフト演算や単に右シフトといいます。\n",
        "# 論理左シフト演算と同様に、ずらした後にはみ出た部分のビットは捨てられ、\n",
        "# 足りない部分のビットは0で埋められます。\n",
        "\n",
        "# 具体例\n",
        "# 0111 を2ビット右シフトすると 0001\n",
        "# 縦に並べると次のようになります。\n",
        "\n",
        "# 2ビット右シフト\n",
        "#     |0111|\n",
        "#     |  01|11\n",
        "# ----------\n",
        "#   = |0001|\n",
        "# はみ出た「11」の部分は切り捨てられ、左端の2ビット分は0で埋められます。"
      ],
      "metadata": {
        "id": "jEvrgoG9wnhw"
      },
      "execution_count": null,
      "outputs": []
    },
    {
      "cell_type": "code",
      "source": [
        "# ビット演算の使い道\n",
        "# ビット演算は集合の演算を行ったり、高速な演算が必要な場合に用いられます。\n",
        "\n",
        "# 集合の操作\n",
        "# ビット列を用いると物の集まり(以下、集合と呼びます)を表現することができます。 \n",
        "# ある要素を含むなら対応するビットを1にし、\n",
        "# 含まないなら対応するビットを0にすることで表現することができます。\n",
        "\n",
        "# 具体例\n",
        "# 例えば、1〜10の数が書かれたカードのうち、いくつかを手札として持っているとき、\n",
        "# この手札を10ビットのビット列を用いて表現できます。 ここでは「カードに書かれた数に\n",
        "# 対応する位置のビットを1にする」というルールで手札をビット列に対応付けることにします。 \n",
        "# 例えば{2, 3, 7}という手札は「0110001000」というビット列に対応します。 \n",
        "# 2が書かれたカードは含まれるので、(左から)2ビット目が1になっています。 \n",
        "# 5が書かれたカードは含まれないので、5ビット目は0になっています。\n",
        "\n",
        "# このようにビット列で表現しておくと、 例えば「2人の手札に共通して含まれるカードを求めたい」\n",
        "# ときに、 2人の手札のビット列に対してビット毎のAND演算を行うことで \n",
        "# 「2人の手札に共通して含まれるカードの集合」に対応するビット列を一度に得ることができます。\n",
        "\n",
        "# 集合の操作とビット演算の対応の例\n",
        "%%html\n",
        "<table border=\"1\">\n",
        "<thead>\n",
        "<tr><th>操作</th><th>対応するビット演算</th></tr>\n",
        "</thead>\n",
        "<tbody>\n",
        "<tr><td>2つの集合に共通している要素を取り出す</td><td>ビット毎のAND演算</td></tr>\n",
        "<tr><td>2つの集合のうち少なくとも一方に存在する要素を取り出す</td><td>ビット毎のOR演算</td></tr>\n",
        "<tr><td>ある集合に含まれない要素取り出す</td><td>ビット毎のNOT演算</td></tr>\n",
        "</tbody>\n",
        "</table>"
      ],
      "metadata": {
        "id": "iXd-7XfmwypK"
      },
      "execution_count": null,
      "outputs": []
    },
    {
      "cell_type": "code",
      "source": [
        "# もちろん、配列を用いて同様の集合演算を行うことは出来ます。 \n",
        "# しかし、上の表に挙げたような単純な集合の操作であれば、 ビット演算を用いることで\n",
        "# プログラムがシンプルになったり高速になったりするメリットがあります。\n",
        "\n",
        "# 2つの集合から共通する要素を取り出す例\n",
        "# A=1,2,3,5,7とB=1,3,5,7,9という2つの集合に共通する要素は1,3,5,7です。 \n",
        "# Aに対応するビット列は「1110101000」で、Bに対応するビット列は「1010101010」です。 \n",
        "# これらにビット毎のAND演算を適用すると、「1010101000」となり、\n",
        "# これは集合1,3,5,7を意味しており、共通する要素を取り出せていることが分かります。\n",
        "\n",
        "# 高速化\n",
        "# ビット演算では複数のビットについての計算をまとめて行えるので、 この性質を\n",
        "# うまく活かすとプログラムを高速化できることがあります。\n",
        "\n",
        "# STLのbitset\n",
        "# C++でビット列を扱うにはbitsetを用います。\n",
        "\n",
        "# 宣言・初期化\n",
        "\n",
        "# bitset<ビット数> 変数名;  // すべてのビットが0の状態で初期化される\n",
        "# bitset<ビット数> 変数名(\"ビット列(長さはビット数に合わせる)\");  // 指定したビット列で初期化される\n",
        "\n",
        "# 「ビット数」の部分は定数でなければならず、変数を使うことはできないことに注意してください。\n",
        "\n",
        "# 例\n",
        "\n",
        "# bitset<4> b(\"1010\");\n",
        "\n",
        "# ビット演算\n",
        "# bitsetに対するビット演算はC++の演算子として定義されています。\n",
        "\n",
        "# 対応は次の表の通りです。\n",
        "%%html\n",
        "<style>\n",
        "    tr td:nth-child(2) {\n",
        "        color: red;\n",
        "        text-align: center;\n",
        "    }\n",
        "</style>\n",
        "<table border=\"1\">\n",
        "<thead>\n",
        "<tr><th>ビット演算</th><th>bitsetの演算子</th><th>使い方</th></tr>\n",
        "</thead>\n",
        "<tbody>\n",
        "<tr><td>ビット毎のAND演算</td><td>&</td><td>変数1 & 変数2</td></tr>\n",
        "<tr><td>ビット毎のOR演算</td><td>|</td><td>変数1 | 変数2</td></tr>\n",
        "<tr><td>ビット毎のXOR演算</td><td>^</td><td>変数1 ^ 変数2</td></tr>\n",
        "<tr><td>ビット毎のNOT演算</td><td>~</td><td>~変数</td></tr>\n",
        "<tr><td>論理左シフト演算</td><td><<</td><td>変数 << シフトするビット数</td></tr>\n",
        "<tr><td>論理右シフト演算</td><td>>></td><td>変数 >> シフトするビット数</td></tr>\n",
        "</tbody>\n",
        "</table>"
      ],
      "metadata": {
        "id": "wbgZUxl8Jq77"
      },
      "execution_count": null,
      "outputs": []
    },
    {
      "cell_type": "code",
      "source": [
        "# これらのビット演算の末尾に=を付けることで複合代入演算子として用いることができます。\n",
        "\n",
        "# サンプルプログラム\n",
        "%%writefile temp.cpp\n",
        "#include <bits/stdc++.h>\n",
        "using namespace std;\n",
        " \n",
        "int main() {\n",
        "  bitset<8> a(\"00011011\");\n",
        "  bitset<8> b(\"00110101\");\n",
        " \n",
        "  auto c = a & b;\n",
        "  cout << \"1: \" << c << endl;         // 1: 00010001\n",
        "  cout << \"2: \" << (c << 1) << endl;  // 2: 00100010\n",
        "  cout << \"3: \" << (c << 2) << endl;  // 3: 01000100\n",
        "  cout << \"4: \" << (c << 3) << endl;  // 4: 10001000\n",
        "  cout << \"5: \" << (c << 4) << endl;  // 5: 00010000\n",
        " \n",
        "  c <<= 4;\n",
        "  c ^= bitset<8>(\"11010000\"); // XOR演算の複合代入演算子\n",
        "  cout << \"6: \" << c << endl; // 6: 11000000\n",
        "}"
      ],
      "metadata": {
        "id": "2K8AAcEfKfHT"
      },
      "execution_count": null,
      "outputs": []
    },
    {
      "cell_type": "code",
      "source": [
        "!g++ temp.cpp; ./a.out "
      ],
      "metadata": {
        "id": "lSsI6p0QK_2I"
      },
      "execution_count": null,
      "outputs": []
    },
    {
      "cell_type": "code",
      "source": [
        "# bitsetの操作\n",
        "# bitsetにはビット列を扱うときに便利な関数が用意されています。 以下に主要なものを挙げます。\n",
        "%%html\n",
        "<table border=\"1\" style=\"width:80%\">\n",
        "<thead>\n",
        "<tr><th>操作</th><th>書き方</th><th style=\"width: 50%\">備考</th></tr>\n",
        "</thead>\n",
        "<tbody>\n",
        "<tr><td>特定のビットの値を変更する</td><td>変数.set(位置, 値);</td><td>変更するビットの位置を0始まりのインデックスで指定します。値は0か1を指定します。</td></tr>\n",
        "<tr><td>特定のビットが1になっているかを調べる</td><td>変数.test(調べる位置);</td><td>調べるビットの位置を0始まりのインデックスで指定します。ビットが1ならtrueを、ビットが0ならfalseを返します。</td></tr>\n",
        "</tbody>\n",
        "</table>"
      ],
      "metadata": {
        "id": "LCbhhtUiKuJS"
      },
      "execution_count": null,
      "outputs": []
    },
    {
      "cell_type": "code",
      "source": [
        "# 位置の指定についてですが、ビット列の右から左にかけて0, 1, 2, ...と対応します。 \n",
        "# 配列の位置の指定とは逆になっていることに注意してください。\n",
        "\n",
        "# サンプルプログラム\n",
        "%%writefile temp.cpp\n",
        "#include <bits/stdc++.h>\n",
        "using namespace std;\n",
        "int main() {\n",
        "  bitset<4> S;\n",
        "  S.set(0, 1);  // 0番目のビットを1にする\n",
        "  cout << S << endl;\n",
        " \n",
        "  if (S.test(3)) {\n",
        "    cout << \"4th bit is 1\" << endl;\n",
        "  } else {\n",
        "    cout << \"4th bit is 0\" << endl;\n",
        "  }\n",
        "}"
      ],
      "metadata": {
        "id": "PS6m2vFALaxy"
      },
      "execution_count": null,
      "outputs": []
    },
    {
      "cell_type": "code",
      "source": [
        "!g++ temp.cpp; ./a.out "
      ],
      "metadata": {
        "id": "aZAChAQEMgWf"
      },
      "execution_count": null,
      "outputs": []
    },
    {
      "cell_type": "code",
      "source": [
        "# 整数とビット列の対応\n",
        "# 実はこれまで扱ってきたintやint64_tなどの整数型は、 \n",
        "# コンピュータの内部ではビット列で表現されています。\n",
        "\n",
        "# さらに言えば、通常のコンピュータで扱えるものは全てビット列です。\n",
        "\n",
        "# コンピュータはビット列の01のパターンに対して数値を割り当てることで数値を扱っています。 \n",
        "# 例えば「00000111」は7に、「00100100」は36に対応しています。\n",
        "\n",
        "# このようなビット列と数値の対応は、二進法というルールに基づいています。\n",
        "\n",
        "# 以下、簡単のために符号なし整数を表現する場合について説明します。\n",
        "\n",
        "# 多くのコンピュータでは負の数を2の補数表現という形式で表現します。 \n",
        "# ビット演算の話から少しそれるので扱いませんが、興味のある人は調べてみてください。\n",
        "\n",
        "# 二進法\n",
        "# 二進法は整数を「1, 2, 4, 8, 16, 32, 64, ... (2の累乗)」の和で表す表し方で、\n",
        "# 足すか足さないかを0, 1に対応させます。\n",
        "\n",
        "# また、二進法で表記することを二進数表記といいます。 これに対して普段私達が\n",
        "# 使っている0〜9の数字の並びで表現したものを十進数といいます。\n",
        "\n",
        "# 例えば、十進数の「7」は、7 = 4 + 2 + 1 なので、二進数表記は「111」となります。\n",
        "# 先頭に続く0は省略することが多いです。\n",
        "\n",
        "# 以下にいくつか例を挙げます。ビット列の右端から順に 1, 2, 4, 8, ... と\n",
        "# 対応していることに注意してください。\n",
        "%%html\n",
        "<table border=\"1\">\n",
        "<thead>\n",
        "<tr><th>十進数</th><th>二進数</th><th></th></tr>\n",
        "</thead>\n",
        "<tbody>\n",
        "<tr><td>4</td><td>100</td><td>4=2^2</td></tr>\n",
        "<tr><td>5</td><td>101</td><td>5=4+1=2^2+2^0</td></tr>\n",
        "<tr><td>36</td><td>100100</td><td>36=32+4=2^5+2^2</td></tr>\n",
        "<tr><td>100</td><td>1100100</td><td>100=64+32+4=2^6+2^5+2^2</td></tr>\n",
        "</tbody>\n",
        "</table>"
      ],
      "metadata": {
        "id": "bpFwvtqiMc59"
      },
      "execution_count": null,
      "outputs": []
    },
    {
      "cell_type": "code",
      "source": [
        "# 0〜15の二進数表記は以下の通りです。二進数に不慣れな人は確認してみてください。\n",
        "%%html\n",
        "<table border=\"1\">\n",
        "<thead>\n",
        "<tr><th>十進数</th><th>0</th><th>1</th><th>2</th><th>3</th><th>4</th><th>5</th><th>6</th><th>7</th><th>8</th><th>9</th><th>10</th><th>11</th><th>12</th><th>13</th><th>14</th><th>15</th></tr>\n",
        "</thead>\n",
        "<tbody>\n",
        "<tr><td>二進数</td><td>0000</td><td>0001</td><td>0010</td><td>0011</td><td>0100</td><td>0101</td><td>0110</td><td>0111</td><td>1000</td><td>1001</td><td>1010</td><td>1011</td><td>1100</td><td>1101</td><td>1110</td><td>1111</td></tr>\n",
        "</tbody>\n",
        "</table>"
      ],
      "metadata": {
        "id": "FMOxmed-iicW"
      },
      "execution_count": null,
      "outputs": []
    },
    {
      "cell_type": "code",
      "source": [
        "# 整数でのビット演算\n",
        "# C++には、整数をビット列として扱うための演算子が用意されています。 \n",
        "# 整数でのビット演算の演算子はbitsetのものと同じです。\n",
        "\n",
        "# ただし、整数型に応じてビット列の長さが固定されているので、bitsetほど柔軟には使えません。 \n",
        "# 例えば、uint32_tは32ビットのビット列として扱うことができ、\n",
        "# uint8_tは8ビットのビット列として扱うことができます。 さらに、C++の標準で扱える\n",
        "# 最大の整数型はuint64_tであり、これは64ビットのビット列なので、 \n",
        "# 整数をビット列として扱えるのは64ビット以下の場合に限定されることになります。\n",
        "\n",
        "# また、coutで出力しようとした場合に10進数の整数として出力されてしまうため\n",
        "# 分かりにくいという欠点があります。\n",
        "\n",
        "# 基本的にはbitsetを使うのが便利ですが、 「ありうる集合すべてを列挙する」\n",
        "# ような処理を行う場合には整数をビット列として扱う方が簡潔に書けることがあります。 \n",
        "# 詳しくは「細かい話」の「ビット全探索」で説明します。\n",
        "\n",
        "# 注意点\n",
        "# 演算子の優先順位\n",
        "# ビット演算に用いる演算子は優先順位が低いものが多いので、\n",
        "# 明示的に()でくくる必要がある場合があります。\n",
        "\n",
        "# サンプルプログラム\n",
        "%%writefile temp.cpp\n",
        "#include <bits/stdc++.h>\n",
        "using namespace std;\n",
        " \n",
        "int main() {\n",
        "  int x = 5;  // 0101\n",
        "  int y = 10; // 1010\n",
        "  // if (x & y > 0) { // &演算子よりも>演算子の優先度の方が高いので x & (y > 0) と解釈される\n",
        "  if ((x & y) > 0) {\n",
        "    cout << \"yes\" << endl;\n",
        "  } else {\n",
        "    cout << \"no\" << endl;\n",
        "  }\n",
        "}"
      ],
      "metadata": {
        "id": "wEUMEe69i5at"
      },
      "execution_count": null,
      "outputs": []
    },
    {
      "cell_type": "code",
      "source": [
        "!g++ temp.cpp; ./a.out "
      ],
      "metadata": {
        "id": "hAggQIyQjVeZ"
      },
      "execution_count": null,
      "outputs": []
    },
    {
      "cell_type": "code",
      "source": [
        "# 主要な演算子の優先順位を以下に示します。上ほど優先度が高いです。\n",
        "\n",
        "# 優先順位を全て暗記するのは大変なので、ミスを防ぐためにもビット演算を行う際には\n",
        "# 常に()でくくるようにしましょう。\n",
        "%%html\n",
        "<style>\n",
        "    tr td:nth-child(1) {\n",
        "        color: red;\n",
        "    }\n",
        "</style>\n",
        "<table border=\"1\">\n",
        "<thead>\n",
        "<tr><th style=\"width:35%\">演算子</th><th>説明</th></tr>\n",
        "</thead>\n",
        "<tbody>\n",
        "<tr><td>a++, a--, .</td><td>インクリメント、デクリメント、メンバアクセス</td></tr>\n",
        "<tr><td>!, ~</td><td>論理否定、ビット毎のNOT演算</td></tr>\n",
        "<tr><td>a*b, a/b, a%b</td><td>乗算、除算、剰余</td></tr>\n",
        "<tr><td>a+b, a-b</td><td>加算、減算</td></tr>\n",
        "<tr><td><<, >></td><td>左シフト演算、右シフト演算</td></tr>\n",
        "<tr><td><, <=, >, >=</td><td>比較演算</td></tr>\n",
        "<tr><td>==, !=</td><td>関係演算子</td></tr>\n",
        "<tr><td>&</td><td>ビット毎のAND演算</td></tr>\n",
        "<tr><td>^</td><td>ビット毎のXOR演算</td></tr>\n",
        "<tr><td>|</td><td>ビット毎のOR演算</td></tr>\n",
        "<tr><td>&&</td><td>論理演算（かつ）</td></tr>\n",
        "<tr><td>||</td><td>論理演算（または）</td></tr>\n",
        "<tr><td>=, ◯=</td><td>代入演算、複合代入演算</td></tr>\n",
        "</tbody>\n",
        "</table>"
      ],
      "metadata": {
        "id": "pvYQgQTGjRl-"
      },
      "execution_count": null,
      "outputs": []
    },
    {
      "cell_type": "code",
      "source": [
        "# bitsetの関数\n",
        "# 以下の表にbitsetのビット列に対する操作をまとめます。\n",
        "%%html\n",
        "<table border=\"1\" style=\"width: 90%\">\n",
        "<thead>\n",
        "<tr><th>操作</th><th>書き方</th><th style=\"width: 50%\">備考</th></tr>\n",
        "</thead>\n",
        "<tbody>\n",
        "<tr><td>全てのビットを1にする</td><td>変数.set();</td><td></td></tr>\n",
        "<tr><td>特定のビットを1にする</td><td>変数.set(1にする位置);</td><td>1にするビットの位置を0始まりのインデックスで指定します。</td></tr>\n",
        "<tr><td>特定のビットの値を変更する</td><td>変数.set(位置, 値);</td><td>変更するビットの位置を0始まりのインデックスで指定します。値は0か1を指定します。</td></tr>\n",
        "<tr><td>全てのビットを0にする</td><td>変数.reset();</td><td></td></tr>\n",
        "<tr><td>特定のビットを0にする</td><td>変数.reset(0にする位置);</td><td>0にするビットの位置を0始まりのインデックスで指定します。</td></tr>\n",
        "<tr><td>全てのビットを反転する</td><td>変数.flip();</td><td></td></tr>\n",
        "<tr><td>特定のビットを反転する</td><td>変数.flip(反転する位置);</td><td>反転するビットの位置を0始まりのインデックスで指定します。</td></tr>\n",
        "<tr><td>特定のビットが1になっているかを調べる</td><td>変数.test(調べる位置);</td><td>調べるビットの位置を0始まりのインデックスで指定します。ビットが1ならtrueを、ビットが0ならfalseを返します。</td></tr>\n",
        "<tr><td>全てのビットが1になっているかを判定する</td><td>変数.all()</td><td>全てのビットが1ならtrueを、そうでなければfalseを返します。</td></tr>\n",
        "<tr><td>いずれかのビットが1になっているかを判定する</td><td>変数.any()</td><td>1のビットが存在するならtrueを、そうでなければfalseを返します。</td></tr>\n",
        "<tr><td>1のビットの個数を数える</td><td>変数.count()</td><td></td></tr>\n",
        "<tr><td>ビット列を出力する</td><td>cout << 変数;</td><td></td></tr>\n",
        "<tr><td>ビット列を文字列化する</td><td>変数.to_string()</td><td></td></tr>\n",
        "<tr><td>ビットに対するアクセス</td><td>変数[位置]</td><td>基本的にはtest、set/resetと同等ですが、範囲外の位置を指定した場合にエラーにならないことに注意する必要があります。</td></tr>\n",
        "</tbody>\n",
        "</table>"
      ],
      "metadata": {
        "id": "mn2sFwd8kBYz"
      },
      "execution_count": null,
      "outputs": []
    },
    {
      "cell_type": "code",
      "source": [
        "# 実験 to_string \n",
        "%%writefile temp.cpp\n",
        "#include <bits/stdc++.h>\n",
        "using namespace std;\n",
        " \n",
        "int main() {\n",
        "  bitset<4> x(\"1010\");\n",
        "  cout << x.to_string() << endl;\n",
        "  cout << x << endl;\n",
        "  cout << x.to_ullong() << endl;\n",
        "}"
      ],
      "metadata": {
        "id": "Yx0WeXNhEzOW"
      },
      "execution_count": null,
      "outputs": []
    },
    {
      "cell_type": "code",
      "source": [
        "!g++ temp.cpp; ./a.out"
      ],
      "metadata": {
        "id": "3dDYV0FlFOdP"
      },
      "execution_count": null,
      "outputs": []
    },
    {
      "cell_type": "code",
      "source": [
        "# ビット全探索\n",
        "# 「ビット全探索」と呼ばれるテクニックを紹介します。\n",
        "\n",
        "# ビット全探索によって、組合せの全列挙をシンプルに実装することができます。\n",
        "# ビット全探索とは「すべてのビット列の組合せ」に対して何らかの処理を行うことをいいます。\n",
        "# 例えば、長さ2のビット列ならば、すべてのビット列の組合せは「00」「01」「10」「11」の4通りです。\n",
        "# 各ビットについて0か1の2通りなので長さ N のビット列は 2^N 通り存在します。\n",
        "# 次のサンプルプログラムでは、すべての「長さ3のビット列」を列挙しています。\n",
        "\n",
        "# サンプルプログラム\n",
        "%%writefile temp.cpp\n",
        "#include <bits/stdc++.h>\n",
        "using namespace std;\n",
        " \n",
        "int main() {\n",
        "  // 3ビットのビット列をすべて列挙する\n",
        "  for (int tmp = 0; tmp < (1 << 3); tmp++) {\n",
        "    bitset<3> s(tmp);\n",
        "    cout << s << endl;\n",
        "  }\n",
        "}"
      ],
      "metadata": {
        "id": "5xpXXrjzk6p2"
      },
      "execution_count": null,
      "outputs": []
    },
    {
      "cell_type": "code",
      "source": [
        "!g++ temp.cpp; ./a.out "
      ],
      "metadata": {
        "id": "IsmmEXL2RJHt"
      },
      "execution_count": null,
      "outputs": []
    },
    {
      "cell_type": "code",
      "source": [
        "# 6行目はtmpという変数を0から始めて8になるまでのfor文です。 \n",
        "# 1 << 3は、2の3乗を得るための式です。 \n",
        "# 1を3ビット左シフトすると、ビット列は「1000」となり、\n",
        "# これを2進数として解釈すると2の3乗=8になります。\n",
        "\n",
        "# 2のk乗の値を得るために、1 << kという書き方をすることがよくあります。\n",
        "# シンプルな形なので覚えておきましょう。\n",
        "\n",
        "# 7行目では、tmpをビット列として解釈してbitset<3>型のsを初期化しています。\n",
        "\n",
        "# 9行目ではsのビット列を出力しています。\n",
        "\n",
        "# 0から7のビット列は次のようになっています。\n",
        "%%html\n",
        "<table border=\"1\">\n",
        "<tbody>\n",
        "<tr><td>十進数</td><td>0</td><td>1</td><td>2</td><td>3</td><td>4</td><td>5</td><td>6</td><td>7</td></tr>\n",
        "<tr><td>二進数</td><td>000</td><td>001</td><td>010</td><td>011</td><td>100</td><td>101</td><td>110</td><td>111</td></tr>\n",
        "</tbody>\n",
        "</table>"
      ],
      "metadata": {
        "id": "OVysB-ZaRDo5"
      },
      "execution_count": null,
      "outputs": []
    },
    {
      "cell_type": "code",
      "source": [
        "# これらの中に長さ3のビット列が全て現れているということが分かります。\n",
        "\n",
        "# より一般には、0から2^N−1の範囲でループすることで、 \n",
        "# 長さNのビット列をすべて列挙することができます。\n",
        "\n",
        "# ビット全探索の雛形\n",
        "# 次の形でビット全探索を行うことができます。\n",
        "\n",
        "# for (int tmp = 0; tmp < (1 << ビット数); tmp++) {\n",
        "#   bitset<ビット数> s(tmp);\n",
        "#   // (ビット列sに対する処理)\n",
        "# }\n",
        "\n",
        "# bitsetの長さの指定に変数は使えないことに注意してください。\n",
        "\n",
        "# また、このアルゴリズムはビット列の長さを N として、少なくとも 2^N 回以上の\n",
        "# ループになるので計算量に注意しましょう。\n",
        "\n",
        "# 例題\n",
        "# A^1,A^2,⋯,A^N のN個の整数が与えられます。 これらの整数からいくつかを選んで、\n",
        "# その総和がKとなるような選び方が存在するかを求めてください。\n",
        "# 総和がKとなるような整数の組合せが存在するなら1行に YES を、そうでなければ NO を出力してください。\n"
      ],
      "metadata": {
        "id": "kbUp7ArWRiFF"
      },
      "execution_count": null,
      "outputs": []
    },
    {
      "cell_type": "code",
      "source": [
        "# 解答例\n",
        "%%writefile temp.cpp\n",
        "#include <bits/stdc++.h>\n",
        "using namespace std;\n",
        " \n",
        "int main () {\n",
        "  int N, K;\n",
        "  cin >> N >> K;\n",
        "  vector<int> A(N);\n",
        "  for (int i = 0; i < N; i++) {\n",
        "    cin >> A.at(i);\n",
        "  }\n",
        " \n",
        "  bool ans = false;\n",
        " \n",
        "  // すべての選び方を試して、総和がKになるものがあるかを調べる\n",
        "  for (int tmp = 0; tmp < (1 << 20); tmp++) {\n",
        "    bitset<20> s(tmp);  // 最大20個なので20ビットのビット列として扱う, 変数 N は使えない\n",
        " \n",
        "    // ビット列の1のビットに対応する整数を選んだとみなして総和を求める\n",
        "    int sum = 0;\n",
        "    for (int i = 0; i < N; i++) {\n",
        "      if (s.test(i)) {\n",
        "        sum += A.at(i);\n",
        "      }\n",
        "    }\n",
        "    if (sum == K) {\n",
        "      ans = true;\n",
        "    }\n",
        "  }\n",
        " \n",
        "  if (ans) {\n",
        "    cout << \"YES\" << endl;\n",
        "  } else {\n",
        "    cout << \"NO\" << endl;\n",
        "  }\n",
        "}"
      ],
      "metadata": {
        "id": "lbNl2ylvS_VI"
      },
      "execution_count": null,
      "outputs": []
    },
    {
      "cell_type": "code",
      "source": [
        "!g++ temp.cpp; echo 5 11 2 8 4 2 9 |./temp #=> YES\n",
        "!g++ temp.cpp; echo 5 3 2 8 4 2 9 |./temp #=> NO\n",
        "!g++ temp.cpp; echo 5 25 2 8 4 2 9 |./temp #=> YES"
      ],
      "metadata": {
        "id": "iVbbLUSxSfS1"
      },
      "execution_count": null,
      "outputs": []
    },
    {
      "cell_type": "code",
      "source": [
        "# bitsetと整数の相互変換\n",
        "# 整数からbitsetへの変換\n",
        "# bitsetのコンストラクタに整数を渡すことで整数をビット列としてみなしてbitsetに変換することができます。\n",
        "\n",
        "# bitset<ビット数> 変数名(整数);\n",
        "\n",
        "# bitsetから整数への変換\n",
        "# mapのKeyとして使う場合や四則演算を行う場合に、bitsetを整数に変換したいことがあります。\n",
        "# このような場合には、bitsetのto_ullong関数を用います。\n",
        "\n",
        "# bitsetの変数.to_ullong()\n",
        "# bitsetのビット数が64ビットを超えている場合は、整数に変換できずに実行時エラーになります。\n",
        "\n",
        "# 2進数リテラル\n",
        "# 2進数リテラルを用いることで、2進数表記で整数を書くことができます。\n",
        "\n",
        "# 2進数リテラルは0b0101や0b11111111のように、0bに続けて01のビット列を書きます。\n",
        "\n",
        "%%writefile temp.cpp\n",
        "#include <bits/stdc++.h>\n",
        "using namespace std;\n",
        " \n",
        "int main() {\n",
        "  uint32_t x = 0b100;\n",
        "  cout << x << endl;  // 4\n",
        " \n",
        "  cout << (x | 0b010) << endl;  // 計算結果は 0b110 = 6\n",
        "}"
      ],
      "metadata": {
        "id": "dbTlJoKGTFUK"
      },
      "execution_count": null,
      "outputs": []
    },
    {
      "cell_type": "code",
      "source": [
        "!g++ temp.cpp; ./a.out"
      ],
      "metadata": {
        "id": "pj-P7ZlATj3e"
      },
      "execution_count": null,
      "outputs": []
    },
    {
      "cell_type": "code",
      "source": [
        "# ビット演算の計算量\n",
        "# 整数をビット列として用いる場合\n",
        "# 全てO(1)です。\n",
        "\n",
        "# bitsetを用いる場合\n",
        "# 基本的にはbitsetの操作の計算量はビット数をNとしてO(N)です。\n",
        "\n",
        "# しかし、内部的には整数のビット演算を用いて複数のビットをまとめて処理するように\n",
        "# 実装されていることが多いため、 64ビット以内であれば基本的にO(1)になります。 \n",
        "# 64ビットを超える場合でも、計算量から見積もられる実行時間より高速に動作することが多いです。\n",
        "\n",
        "# 負の整数の右シフト\n",
        "# 論理右シフトでは、空いたビットは0で埋められるということを説明しましたが、 \n",
        "# 負の数を右シフトした場合には、空いたビットは基本的に1で埋められます。 \n",
        "# この動作を算術右シフトといいます。\n"
      ],
      "metadata": {
        "id": "sUN-L4dBTYTR"
      },
      "execution_count": null,
      "outputs": []
    },
    {
      "cell_type": "code",
      "source": [
        "# EX25 - 集合の操作 \n",
        "# 0から49までの整数からなる集合A, Bがあります。\n",
        "# プログラムの雛形をもとに、集合A,Bに対して操作を行う関数を実装してください。\n",
        "# 実装する操作は以下の通りです。\n",
        "%%html\n",
        "<style>\n",
        "    tr td:nth-child(1) {\n",
        "        color: red;\n",
        "    }\n",
        "</style>\n",
        "<table border=\"1\" style=\"width: 90%\">\n",
        "<thead>\n",
        "<tr><th>操作</th><th style=\"width: 50%\">説明</th><th>例</th></tr>\n",
        "</thead>\n",
        "<tbody>\n",
        "<tr><td>intersection</td><td>AとBに共通して含まれる要素からなる集合を返す。\n",
        "    </td><td>A: {1,2,3}, B:{2,3,4} 結果:{2,3}</td></tr>\n",
        "<tr><td>union_set</td><td>AとBのうち少なくとも一方に含まれる要素からなる集合を返す。\n",
        "    </td><td>A: {1,2,3}, B:{2,3,4} 結果:{1,2,3,4}</td></tr>\n",
        "<tr><td>symmetric_diff</td><td>AとBのうちどちらか一方にだけ含まれる要素からなる集合を返す。\n",
        "    </td><td>A: {1,2,3}, B:{2,3,4} 結果:{1,4}</td></tr>\n",
        "<tr><td>subtract x</td><td>集合Aから値xを削除する。xは存在することが保証される。\n",
        "    </td><td>A: {1,2,3}, x: 2 結果:{1,3}</td></tr>\n",
        "<tr><td>increment</td><td>集合Aに含まれる要素すべてに1を加える。ただし、\n",
        "    <strong>操作前の集合に含まれる49は操作後は0になるものとする</strong>。\n",
        "    </td><td>A: {1,2,49} 結果:{2,3,0}</td></tr>\n",
        "<tr><td>decrement</td><td>集合Aに含まれる要素すべてから1を引く。ただし、\n",
        "    <strong>操作前の集合に含まれる0は操作後は49になるものとする</strong>。<\n",
        "        /td><td>A: {0,1,2} 結果:{49,0,1}</td></tr>\n",
        "</tbody>"
      ],
      "metadata": {
        "id": "KL6Opnx8gS9C"
      },
      "execution_count": null,
      "outputs": []
    },
    {
      "cell_type": "code",
      "source": [
        "# ヒント\n",
        "# * intersectionはビット毎のAND演算を用いて実装できます。\n",
        "# * union_setはビット毎のOR演算を用いて実装できます。\n",
        "# * symmetric_diffはビット毎のXOR演算を用いて実装できます。\n",
        "# * subtract xはSを表すビット列のxビット目を0にすればよいです。\n",
        "# * increment, decrementは全ての要素が1ずつ増える（減る）ので論理シフト演算が利用できます。"
      ],
      "metadata": {
        "id": "H_pTZ-mY4XPI"
      },
      "execution_count": null,
      "outputs": []
    },
    {
      "cell_type": "code",
      "source": [
        "# 解答例\n",
        "%%writefile temp.cpp\n",
        "#include <bits/stdc++.h>\n",
        "using namespace std;\n",
        "\n",
        "// 各操作を行う関数を実装する\n",
        "\n",
        "// AとBに共通して含まれる要素からなる集合を返す\n",
        "bitset<50> intersection(bitset<50> A, bitset<50> B) {\n",
        "  return A & B;\n",
        "}\n",
        "// AとBのうち少なくとも一方に含まれる要素からなる集合を返す\n",
        "bitset<50> union_set(bitset<50> A, bitset<50> B) {\n",
        "  return A | B;\n",
        "}\n",
        "// AとBのうちどちらか一方にだけ含まれる要素からなる集合を返す\n",
        "bitset<50> symmetric_diff(bitset<50> A, bitset<50> B) {\n",
        "  return A ^ B;\n",
        "}\n",
        "// Aから値xを除く\n",
        "bitset<50> subtract(bitset<50> A, int x) {\n",
        "  A.set(x, 0);\n",
        "  return A;\n",
        "}\n",
        "// Aに含まれる要素に1を加える(ただし、要素49が含まれる場合は0になるものとする)\n",
        "bitset<50> increment(bitset<50> A) {\n",
        "  bitset<50> ret = A << 1;  // 左シフトでまとめて+1する\n",
        "  if (A.test(49)) {\n",
        "    ret.set(0, 1);\n",
        "  }\n",
        "  return ret;\n",
        "}\n",
        "// Aに含まれる要素から1を引く(ただし、要素0が含まれる場合は49になるものとする)\n",
        "bitset<50> decrement(bitset<50> A) {\n",
        "  bitset<50> ret = A >> 1;  // 右シフトでまとめて-1する\n",
        "  if (A.test(0)) {\n",
        "    ret.set(49, 1);\n",
        "  }\n",
        "  return ret;\n",
        "}\n",
        "\n",
        "// Sに値xを加える\n",
        "bitset<50> add(bitset<50> S, int x) {\n",
        "  S.set(x, 1);  // xビット目を1にする\n",
        "  return S;\n",
        "}\n",
        "\n",
        "// 集合Sの内容を昇順で出力する(スペース区切りで各要素の値を出力する)\n",
        "void print_set(bitset<50> S) {\n",
        "  vector<int> cont;\n",
        "  for (int i = 0; i < 50; i++) {\n",
        "    if (S.test(i)) {\n",
        "      cont.push_back(i);\n",
        "    }\n",
        "  }\n",
        "  for (int i = 0; i < cont.size(); i++) {\n",
        "    if (i > 0) cout << \" \";\n",
        "    cout << cont.at(i);\n",
        "  }\n",
        "  cout << endl;\n",
        "}\n",
        "\n",
        "// これより下は書き換えない\n",
        "\n",
        "int main() {\n",
        "  bitset<50> A, B;\n",
        "  int N;\n",
        "  cin >> N;\n",
        "  for (int i = 0; i < N; i++) {\n",
        "    int x;\n",
        "    cin >> x;\n",
        "    A = add(A, x);\n",
        "  }\n",
        "  int M;\n",
        "  cin >> M;\n",
        "  for (int i = 0; i < M; i++) {\n",
        "    int x;\n",
        "    cin >> x;\n",
        "    B = add(B, x);\n",
        "  }\n",
        "\n",
        "  // 操作\n",
        "  string com;\n",
        "  cin >> com;\n",
        "\n",
        "  if (com == \"intersection\") {\n",
        "    print_set(intersection(A, B));\n",
        "  } else if (com == \"union_set\") {\n",
        "    print_set(union_set(A, B));\n",
        "  } else if (com == \"symmetric_diff\") {\n",
        "    print_set(symmetric_diff(A, B));\n",
        "  } else if (com == \"subtract\") {\n",
        "    int x;\n",
        "    cin >> x;\n",
        "    print_set(subtract(A, x));\n",
        "  } else if (com == \"increment\") {\n",
        "    print_set(increment(A));\n",
        "  } else if (com == \"decrement\") {\n",
        "    print_set(decrement(A));\n",
        "  }\n",
        "}"
      ],
      "metadata": {
        "id": "iOigh2Yt5qkg"
      },
      "execution_count": null,
      "outputs": []
    },
    {
      "cell_type": "code",
      "source": [
        "!g++ temp.cpp; echo 3 0 1 2 3 1 2 3 intersection |./temp #=> 1 2\n",
        "!g++ temp.cpp; echo 3 0 1 2 3 1 2 3 union_set |./temp #=> 0 1 2 3\n",
        "!g++ temp.cpp; echo 3 0 1 2 3 1 2 3 symmetric_diff |./temp #=> 0 3\n",
        "!g++ temp.cpp; echo 3 0 1 2 3 1 2 3 subtract 2 |./temp #=> 0 1\n",
        "!g++ temp.cpp; echo 3 0 1 49 3 1 2 3 increment |./temp #=> 0 1 2\n",
        "!g++ temp.cpp; echo 3 0 1 49 3 1 2 3 decrement |./temp #=> 0 48 49"
      ],
      "metadata": {
        "id": "mc0OHP7Vg4Vo"
      },
      "execution_count": null,
      "outputs": []
    },
    {
      "cell_type": "code",
      "source": [
        "# 理解のための実験\n",
        "%%writefile temp.cpp\n",
        "#include <bits/stdc++.h>\n",
        "using namespace std;\n",
        "\n",
        "const int n = 50;\n",
        "\n",
        "// 集合 bitset S に値 x を加える\n",
        "bitset<n> add(bitset<n> S, int x) {\n",
        "  S.set(x, 1);  // xビット目を1にする\n",
        "  return S;\n",
        "}\n",
        "\n",
        "// 集合 bitset S の内容を数字の文字列にする\n",
        "string print_set(bitset<n> S) {\n",
        "  string str = \"\";\n",
        "  str += \"{\";\n",
        "  bool isFirst = true;\n",
        "  for (int i = 0; i < n; i++) {\n",
        "    if (S.test(i)) {\n",
        "      if (!isFirst) str += \", \";\n",
        "      str += to_string(i);\n",
        "      isFirst = false;\n",
        "    }\n",
        "  }\n",
        "  str += \"}\";\n",
        "  return str;\n",
        "}\n",
        "\n",
        "int main() {\n",
        "  bitset<n> A;\n",
        "  int N;\n",
        "  cin >> N;\n",
        "  for (int i = 0; i < N; i++) {\n",
        "    int x;\n",
        "    cin >> x;\n",
        "    A = add(A, x);\n",
        "  }\n",
        "  cout << print_set(A) << endl;\n",
        "  cout << A << endl;\n",
        "}"
      ],
      "metadata": {
        "id": "_3UxwZkrpJee"
      },
      "execution_count": null,
      "outputs": []
    },
    {
      "cell_type": "code",
      "source": [
        "!g++ temp.cpp; echo 4 8 2 0 5 |./temp"
      ],
      "metadata": {
        "id": "kOUZxV4hpOZ2"
      },
      "execution_count": null,
      "outputs": []
    },
    {
      "cell_type": "code",
      "source": [
        "# ARC061 C - たくさんの数式 / Many Formulas をビット演算で解く\n",
        "# 1 以上 9 以下の数字のみからなる文字列 S が与えられます。 この文字列の中で、\n",
        "# あなたはこれら文字と文字の間のうち、いくつかの場所に + を入れることができます。\n",
        "#  一つも入れなくてもかまいません。 ただし、+ が連続してはいけません。\n",
        "# このようにして出来る全ての文字列を数式とみなし、和を計算することができます。\n",
        "# ありうる全ての数式の値を計算し、その合計を出力してください。\n",
        "# ありうる全ての数式の値の総和を 1 行に出力せよ。\n",
        "%%writefile temp.cpp\n",
        "#include <bits/stdc++.h>\n",
        "using namespace std;\n",
        "#define REP(i,n) for(int i=0; i<(n); i++)\n",
        "\n",
        "long long value(int bit);\n",
        "\n",
        "string s;\n",
        "int n;\n",
        "\n",
        "int main(){\n",
        "    cin>>s;\n",
        "    n=s.size()-1;   // '+'が入るスペースの数\n",
        "    long long sum=0; \n",
        "\n",
        "    for(int bit=0; bit<(1<<n); bit++){\n",
        "        sum+=value(bit);\n",
        "    }\n",
        "\n",
        "    cout<<sum<<endl;\n",
        "}\n",
        "\n",
        "long long value(int bit){\n",
        "    long long v=0;\n",
        "    // 0文字目\n",
        "    string c=s.substr(0,1);\n",
        "\n",
        "    REP(i,n){  \n",
        "        // i番目が'+'なら\n",
        "        if(bit&(1<<i)){\n",
        "            v+=stoll(c);\n",
        "            c.clear();\n",
        "            c=s.substr(i+1,1);\n",
        "        // そうでないなら\n",
        "        }else{\n",
        "            c+=s.substr(i+1,1);\n",
        "        }\n",
        "    }\n",
        "    // 最後に残っている部分を足す\n",
        "    v+=stoll(c);\n",
        "    \n",
        "    return v;\n",
        "}"
      ],
      "metadata": {
        "id": "I87Vrd8PgQAe"
      },
      "execution_count": null,
      "outputs": []
    },
    {
      "cell_type": "code",
      "source": [
        "!g++ temp.cpp; echo 125 |./temp #=> 176\n",
        "!g++ temp.cpp; echo 9999999999 |./temp #=> 12656242944"
      ],
      "metadata": {
        "id": "hUQAGRjl7Xqg"
      },
      "execution_count": null,
      "outputs": []
    },
    {
      "cell_type": "code",
      "source": [
        "# ARC061 C - たくさんの数式 / Many Formulas をビット演算で解く\n",
        "# bitset を使って解く\n",
        "%%writefile temp.cpp\n",
        "#include <bits/stdc++.h>\n",
        "using namespace std;\n",
        "\n",
        "long long value(string str, bitset<50> s){\n",
        "    long long result = 0;\n",
        "    string tempString = \"\";\n",
        "    if (str == \"\") return result;\n",
        "    for (int i=0; i<s.size(); i++){\n",
        "        if (i < str.size()) tempString += str.at(i);\n",
        "        if (s.test(i)) {\n",
        "            result += stoi(tempString);\n",
        "            tempString = \"\";\n",
        "        }\n",
        "    }\n",
        "    result += stoll(tempString);\n",
        "    return result;\n",
        "}\n",
        "\n",
        "string expression(string str, bitset<50> s){\n",
        "    string result = \"\";\n",
        "    if (str == \"\") return result;\n",
        "    for (int i=0; i<s.size(); i++){\n",
        "            if (i < str.size())result += str.at(i);\n",
        "            if (s.test(i)) result += \"+\";\n",
        "    }\n",
        "    return result;\n",
        "}\n",
        "\n",
        "int main(){\n",
        "    string str;\n",
        "    cin >> str;\n",
        "    long long sum = 0;\n",
        "    for (int tmp = 0; tmp < (1 << (str.size()-1)); tmp++) {\n",
        "        bitset<50> s(tmp);\n",
        "        // cout << expression(str, s) << endl;\n",
        "        sum += value(str, s);\n",
        "    }\n",
        "    cout << sum << endl;\n",
        "}"
      ],
      "metadata": {
        "id": "Jei-R63JCBiQ"
      },
      "execution_count": null,
      "outputs": []
    },
    {
      "cell_type": "code",
      "source": [
        "!g++ temp.cpp; echo 125 |./temp #=> 176\n",
        "!echo\n",
        "!g++ temp.cpp; echo 9999999999 |./temp #=> 12656242944"
      ],
      "metadata": {
        "id": "NCOH9288COne"
      },
      "execution_count": null,
      "outputs": []
    },
    {
      "cell_type": "markdown",
      "source": [
        "# いまここ"
      ],
      "metadata": {
        "id": "hVUSVfAoJgGS"
      }
    },
    {
      "cell_type": "code",
      "source": [
        "# ABC079 C - Train Ticket をビット演算で解く\n",
        "# 問題\n",
        "# 駅の待合室に座っているjoisinoお姉ちゃんは、切符を眺めています。\n",
        "# 切符には 4 つの 0 以上 9 以下の整数 A,B,C,D が整理番号としてこの順に書かれています。\n",
        "# A op1 B op2 C op3 D = 7 となるように、op1,op2,op3 に + か - を入れて式を作って下さい。\n",
        "# なお、答えが存在しない入力は与えられず、また答えが複数存在する場合はどれを出力してもよいものとします。\n",
        "# 作った式を、=7 の部分を含めて出力せよ。\n",
        "\n",
        "%%writefile temp.cpp\n",
        "#include <bits/stdc++.h>\n",
        "using namespace std;\n",
        "\n",
        "int main() {\n",
        "  int abcd;\n",
        "  cin >> abcd;\n",
        "  vector<int> ticket(4);\n",
        "\n",
        "  for(int i = 3; i > -1; i--){\n",
        "    ticket[i] = (abcd%10); // 1桁取り出していく\n",
        "    abcd /= 10;\n",
        "  }\n",
        "\n",
        "  for(int bit = 0; bit < (1 << 3); bit++){\n",
        "    int ans = ticket[0];\n",
        "\n",
        "    for(int idx = 0; idx < 3; idx++){\n",
        "      if(bit & (1 << idx)) ans += ticket[idx + 1];\n",
        "\n",
        "      else ans -= ticket[idx + 1];\n",
        "    }\n",
        "\n",
        "    if(ans == 7){\n",
        "      cout << ticket[0];\n",
        "\n",
        "      for(int idx = 0; idx < 3; idx++){\n",
        "        if(bit & (1 << idx)) cout << '+';\n",
        "        else cout << '-';\n",
        "\n",
        "        cout << ticket[idx + 1];\n",
        "      }\n",
        "\n",
        "      cout << \"=7\" << endl;\n",
        "      break;\n",
        "    }\n",
        "  }\n",
        "}"
      ],
      "metadata": {
        "id": "P_hOEcnK6dbP"
      },
      "execution_count": null,
      "outputs": []
    },
    {
      "cell_type": "code",
      "source": [
        "!g++ temp.cpp; echo 1222 |./temp #=> 1+2+2+2=7\n",
        "!g++ temp.cpp; echo 0290 |./temp #=> 0-2+9+0=7\n",
        "!g++ temp.cpp; echo 3242 |./temp #=> 3+2+4-2=7"
      ],
      "metadata": {
        "id": "oGWFP_SNeYB2"
      },
      "execution_count": null,
      "outputs": []
    },
    {
      "cell_type": "code",
      "source": [
        "# ABC104 C - All Green をビット演算で解く\n",
        "# ARC029 A - 高橋君とお肉 をビット演算で解く\n",
        "# ABC002 D - 派閥 をビット演算で解く"
      ],
      "metadata": {
        "id": "Fg6qTn1KeXbo"
      },
      "execution_count": null,
      "outputs": []
    },
    {
      "cell_type": "code",
      "source": [
        ""
      ],
      "metadata": {
        "id": "Wj3qvUdZ6MdU"
      },
      "execution_count": null,
      "outputs": []
    }
  ]
}