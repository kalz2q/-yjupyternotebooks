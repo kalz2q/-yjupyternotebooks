{
  "nbformat": 4,
  "nbformat_minor": 0,
  "metadata": {
    "colab": {
      "name": "cpp_apg4b.ipynb",
      "provenance": [],
      "toc_visible": true,
      "authorship_tag": "ABX9TyO2Lw4VsPYG1SgyWttJj2fX",
      "include_colab_link": true
    },
    "kernelspec": {
      "name": "python3",
      "display_name": "Python 3"
    },
    "language_info": {
      "name": "python"
    }
  },
  "cells": [
    {
      "cell_type": "markdown",
      "metadata": {
        "id": "view-in-github",
        "colab_type": "text"
      },
      "source": [
        "<a href=\"https://colab.research.google.com/github/kalz2q/mycolabnotebooks/blob/master/cpp_apg4b.ipynb\" target=\"_parent\"><img src=\"https://colab.research.google.com/assets/colab-badge.svg\" alt=\"Open In Colab\"/></a>"
      ]
    },
    {
      "cell_type": "markdown",
      "source": [
        "# メモ\n",
        "\n",
        "AtCoder Programming Guide for Beginners APG4b\n",
        "\n",
        "の練習問題をやる。\n",
        "\n",
        "https://atcoder.jp/contests/apg4b"
      ],
      "metadata": {
        "id": "8kHv-8CgciQc"
      }
    },
    {
      "cell_type": "markdown",
      "source": [
        "# 目次  \n",
        "\n",
        "1.00.はじめに  \n",
        "1.01.出力とコメント | EX1  \n",
        "1.02.プログラムの書き方とエラー | EX2  \n",
        "1.03.四則演算と優先順位 | EX3  \n",
        "1.04.変数と型 | EX4  \n",
        "1.05.プログラムの実行順序と入力 | EX5  \n",
        "1.06.if文・比較演算子・論理演算子 | EX6  \n",
        "1.07.条件式の結果とbool型 | EX7  \n",
        "1.08.変数のスコープ | EX8  \n",
        "1.09.複合代入演算子 | EX9  \n",
        "1.10.while文 | EX10  \n",
        "1.11.for文・break・continue | EX11  \n",
        "1.12.文字列と文字 | EX12 <= このあたりから普通の言語と違う  \n",
        "1.13.配列 | EX13  <= vector を使っている\n",
        "1.14.STLの関数 | EX14  \n",
        "1.15.関数 | EX15  \n",
        "  \n",
        "2.00.第2章について  \n",
        "2.01.ループの書き方と範囲for文 | EX16  \n",
        "2.02.多重ループ | EX17  \n",
        "2.03.多次元配列 | EX18  \n",
        "2.04.参照 | EX19  \n",
        "2.05.再帰関数 | EX20  \n",
        "2.06.計算量 | EX21  \n",
        "  \n",
        "3.00.第3章について  \n",
        "3.01.数値型  \n",
        "3.02.pair/tupleとauto | EX22  \n",
        "3.03.STLのコンテナ | EX23  \n",
        "3.04.構造体 | EX24  \n",
        "3.05.ビット演算 | EX25  \n",
        "3.06.その他の機能 | EX26  \n",
        "  \n",
        "4.00.第4章について  \n",
        "4.01.includeディレクティブ  \n",
        "4.02.名前空間  \n",
        "4.03.テンプレート  \n",
        "4.04.イテレータ  \n",
        "4.05.ポインタ  \n",
        "  \n",
        "付録1.コードテストの使い方  \n",
        "付録2.提出結果の見方  \n",
        "付録3.コンパイルエラー集  \n",
        "付録4.ループの裏技repマクロ  "
      ],
      "metadata": {
        "id": "5sm38Af7dBS3"
      }
    },
    {
      "cell_type": "markdown",
      "source": [
        "bits/stdc++.h の利用\n",
        "\n",
        "`#include <bits/stdc++.h>` で iostream, string, vector とか云々。\n",
        "\n",
        "`std::` と `#include` の勉強はしないでよい。とりあえず。\n",
        "\n",
        "main関数の `return 0` の省略\n",
        "\n",
        "計算量の解説\n",
        "\n",
        "repマクロの紹介\n",
        "\n",
        "`#define rep(i, n) for (int i = 0; i < (int)(n); i++)`\n"
      ],
      "metadata": {
        "id": "uUCd4AI-zp0n"
      }
    },
    {
      "cell_type": "markdown",
      "source": [
        "---\n",
        "### 未解決問題  1.11.for文・break・continue | EX11 配下\n",
        "\n",
        "B - Palindromic Numbers  \n",
        "A 以上 B 以下の整数のうち、回文数となるものの個数を求めてください。 ただし、回文数とは、先頭に 0 をつけない 10 進表記を文字列として見たとき、前から読んでも後ろから読んでも同じ文字列となるような正の整数のことを指します。\n",
        "\n",
        "11009 11332\n",
        "\n",
        "=> 4"
      ],
      "metadata": {
        "id": "LNfeQNE3i1Hq"
      }
    },
    {
      "cell_type": "code",
      "source": [
        "# Palindromic Numbers が通らない。 入力例は通るのに云々\n",
        "%%writefile temp.cpp\n",
        "#include <bits/stdc++.h>\n",
        "using namespace std;\n",
        "#define rep(i, n) for (int i = 0; i < (int)(n); i++)\n",
        "\n",
        "bool isPalindrome(int orig) {\n",
        "  int digit, rev, num ;\n",
        "  digit = rev = 0;  \n",
        "  num = orig;\n",
        "  rep(i, 10){\n",
        "    digit = num % 10;\n",
        "    rev = (rev * 10) + digit;\n",
        "    num = num / 10;\n",
        "    if (num == 0 ) break;\n",
        "  }\n",
        "  return (orig == rev);\n",
        "};\n",
        "\n",
        "int main() {\n",
        "  int A, B, count , diff ;\n",
        "  cin >> A >> B ;\n",
        "  count = 0;\n",
        "  diff = B - A;\n",
        "  rep(i, diff) {\n",
        "    if (isPalindrome(A+i)) { count += 1; }\n",
        "  }\n",
        "  cout << count << endl;\n",
        "}"
      ],
      "metadata": {
        "id": "_8r2vg5ojC-y",
        "outputId": "8e7c52e0-bad2-4446-c610-f53406c3b529",
        "colab": {
          "base_uri": "https://localhost:8080/"
        }
      },
      "execution_count": null,
      "outputs": [
        {
          "output_type": "stream",
          "name": "stdout",
          "text": [
            "Writing temp.cpp\n"
          ]
        }
      ]
    },
    {
      "cell_type": "code",
      "source": [
        "!g++ temp.cpp -o temp; echo 11009 11332 | ./temp"
      ],
      "metadata": {
        "id": "QDNOIByfjdaH",
        "outputId": "82ad454e-6248-472a-d687-1e14338dc72b",
        "colab": {
          "base_uri": "https://localhost:8080/"
        }
      },
      "execution_count": null,
      "outputs": [
        {
          "output_type": "stream",
          "name": "stdout",
          "text": [
            "4\n"
          ]
        }
      ]
    },
    {
      "cell_type": "markdown",
      "source": [
        "---\n",
        "問題\n",
        "\n",
        "EX12 - 足したり引いたり  \n",
        "\n",
        "1と+と-のみからなる式Sが1行で与えられるので、計算結果を出力してください。\n",
        "\n",
        "例えば式Sが1+1+1-1であったとき、計算結果は2です。\n",
        "\n",
        "具体的な式Sの形式は以下の通りです。\n",
        "\n",
        "* 式Sの1文字目は必ず1です。\n",
        "* その後、「+または−」と1が交互に続きます。\n",
        "* Sの最後の文字も必ず1です。\n",
        "\n",
        "入力例  \n",
        "1+1+1-1  \n",
        "=> 2\n",
        "\n"
      ],
      "metadata": {
        "id": "F4cGyjO2cE2W"
      }
    },
    {
      "cell_type": "code",
      "source": [
        "%%writefile temp.cpp\n",
        "#include <bits/stdc++.h>\n",
        "using namespace std;\n",
        "#define rep(i, n) for (int i = 0; i < (int)(n); i++)\n",
        "\n",
        "int main() {\n",
        "  string  S ;\n",
        "  int result ;\n",
        "  cin >> S ;\n",
        "  result = 1;\n",
        "  rep(i, S.size()) {\n",
        "    if (S.at(i) == '+')  result += 1; \n",
        "    else if (S.at(i) == '-') result -= 1;\n",
        "  }\n",
        "  cout << result << endl;\n",
        "}"
      ],
      "metadata": {
        "id": "GC-B1E-KiPlK",
        "outputId": "b433e2ab-ec70-4618-9fd9-5930e93bcc78",
        "colab": {
          "base_uri": "https://localhost:8080/"
        }
      },
      "execution_count": null,
      "outputs": [
        {
          "output_type": "stream",
          "name": "stdout",
          "text": [
            "Overwriting temp.cpp\n"
          ]
        }
      ]
    },
    {
      "cell_type": "code",
      "source": [
        "!g++ temp.cpp -o temp; echo 1+1+1-1 | ./temp"
      ],
      "metadata": {
        "id": "LvjAI6tKpD1e",
        "outputId": "396bdafd-78aa-4426-ff41-5fe63a3acb46",
        "colab": {
          "base_uri": "https://localhost:8080/"
        }
      },
      "execution_count": null,
      "outputs": [
        {
          "output_type": "stream",
          "name": "stdout",
          "text": [
            "2\n"
          ]
        }
      ]
    },
    {
      "cell_type": "markdown",
      "source": [
        "# N - 1.13.配列\n",
        "\n",
        "* vector<型> 配列変数名;で配列変数を宣言できる\n",
        "* 配列変数名 = { 要素1, 要素2, ... };で配列変数に値を代入できる\n",
        "* 配列変数.at(i), 配列変数.size() が使える\n",
        "* vector<型> 配列変数名(要素数)と書くと指定した要素数で配列を初期化できる\n"
      ],
      "metadata": {
        "id": "azH-MFEVvuOx"
      }
    },
    {
      "cell_type": "code",
      "source": [
        "%%writefile temp.cpp\n",
        "#include <bits/stdc++.h>\n",
        "using namespace std;\n",
        "#define rep(i, n) for (int i = 0; i < (int)(n); i++)\n",
        "\n",
        "int main() {\n",
        "    int N = 5;\n",
        "    vector<int> vec(N);\n",
        "    for (int i = 0; i < N; i++) {\n",
        "        cin >> vec.at(i);\n",
        "    };\n",
        "    rep (i, vec.size()) {\n",
        "        cout << vec.at(vec.size() - i - 1) << ' ' ;\n",
        "    }\n",
        "    cout << endl;\n",
        "}"
      ],
      "metadata": {
        "id": "YHy_H_YqxP5Y",
        "outputId": "f0101be1-3118-4c5d-bbd5-d52a49de7451",
        "colab": {
          "base_uri": "https://localhost:8080/"
        }
      },
      "execution_count": null,
      "outputs": [
        {
          "output_type": "stream",
          "name": "stdout",
          "text": [
            "Overwriting temp.cpp\n"
          ]
        }
      ]
    },
    {
      "cell_type": "code",
      "source": [
        "!g++ temp.cpp -o temp; echo 1 2 3 4 5 | ./temp"
      ],
      "metadata": {
        "id": "_vXhOYHf14ct",
        "outputId": "365a9364-6677-462e-bea2-255b9b9a9589",
        "colab": {
          "base_uri": "https://localhost:8080/"
        }
      },
      "execution_count": null,
      "outputs": [
        {
          "output_type": "stream",
          "name": "stdout",
          "text": [
            "5 4 3 2 1 \n"
          ]
        }
      ]
    },
    {
      "cell_type": "code",
      "source": [
        "%%writefile temp.cpp\n",
        "#include <bits/stdc++.h>\n",
        "using namespace std;\n",
        "\n",
        "int main() {\n",
        "  // 文字列\n",
        "  string str; // 文字列変数を宣言\n",
        "  str = \"abcd\"; // 'a', 'b', 'c', 'd' という文字(char)の列を代入\n",
        "  cout << str.at(0) << endl; // 1つ目である'a'を出力\n",
        "  cout << str.size() << endl; // 文字列の長さである4を出力\n",
        "\n",
        "  // 配列\n",
        "  vector<int> vec; // int型の配列変数vecを宣言\n",
        "  vec = { 25, 100, 64 }; // 25, 100, 64 という整数(int)の列を代入\n",
        "  cout << vec.at(0) << endl; // 1つめである25を出力\n",
        "  cout << vec.size() << endl; // 配列の長さである3を出力\n",
        "}\n"
      ],
      "metadata": {
        "id": "xfM_zDO-DwvY",
        "outputId": "31dd9b53-9555-4176-90c4-ce60c147d0cd",
        "colab": {
          "base_uri": "https://localhost:8080/"
        }
      },
      "execution_count": null,
      "outputs": [
        {
          "output_type": "stream",
          "name": "stdout",
          "text": [
            "Overwriting temp.cpp\n"
          ]
        }
      ]
    },
    {
      "cell_type": "code",
      "source": [
        "!g++ temp.cpp -o temp; echo 1 2 3 4 5 | ./temp"
      ],
      "metadata": {
        "id": "DMfTnVbVD4-9",
        "outputId": "e7c050ea-79a0-465c-c445-2bc1678b5186",
        "colab": {
          "base_uri": "https://localhost:8080/"
        }
      },
      "execution_count": null,
      "outputs": [
        {
          "output_type": "stream",
          "name": "stdout",
          "text": [
            "a\n",
            "4\n",
            "25\n",
            "3\n"
          ]
        }
      ]
    },
    {
      "cell_type": "code",
      "source": [
        "# 実験 文字列と配列 同じ物ではない\n",
        "%%writefile temp.cpp\n",
        "#include <bits/stdc++.h>\n",
        "using namespace std;\n",
        "#define rep(i, n) for (int i = 0; i < (int)(n); i++)\n",
        "\n",
        "int main() {\n",
        "    string str;\n",
        "    str = \"abcd\";\n",
        "    vector<char> vec;\n",
        "    vec = { 'a','b','c','d' };\n",
        "    cout << str << endl;\n",
        "    //  cout << vec << endl; #=> エラーになる\n",
        "    rep(i, vec.size()) {\n",
        "        cout << vec.at(i);\n",
        "    }\n",
        "    cout << endl;\n",
        "    copy(vec.begin(), vec.end(), ostream_iterator<char>(cout));\n",
        "    cout << endl;\n",
        "    for (const auto& item : vec) cout << item;\n",
        "    cout << endl;\n",
        "}"
      ],
      "metadata": {
        "id": "5YoHVgsXZfGc",
        "outputId": "822a1408-d499-42b8-9251-1c2d35d69df8",
        "colab": {
          "base_uri": "https://localhost:8080/"
        }
      },
      "execution_count": null,
      "outputs": [
        {
          "output_type": "stream",
          "name": "stdout",
          "text": [
            "Overwriting temp.cpp\n"
          ]
        }
      ]
    },
    {
      "cell_type": "code",
      "source": [
        "!g++ temp.cpp -o temp;  ./temp"
      ],
      "metadata": {
        "id": "VMq6WWaEZ9Ja"
      },
      "execution_count": null,
      "outputs": []
    },
    {
      "cell_type": "code",
      "source": [
        "%%writefile temp.cpp\n",
        "#include <bits/stdc++.h>\n",
        "using namespace std;\n",
        "#define rep(i, n) for (int i = 0; i < (int)(n); i++)\n",
        "\n",
        "int main() {\n",
        "    vector<int> vec(3); // {0, 0, 0} で初期化される str だと {\"\",\"\",\"\"}\n",
        "    cin >> vec.at(0) >> vec.at(1) >> vec.at(2);\n",
        "    cout << vec.at(0) + vec.at(1) + vec.at(2) << endl;\n",
        "}"
      ],
      "metadata": {
        "id": "O2ZpaBRhfU8u",
        "outputId": "7eed0747-954b-4c9d-d9d6-310e56de023f",
        "colab": {
          "base_uri": "https://localhost:8080/"
        }
      },
      "execution_count": null,
      "outputs": [
        {
          "output_type": "stream",
          "name": "stdout",
          "text": [
            "Overwriting temp.cpp\n"
          ]
        }
      ]
    },
    {
      "cell_type": "code",
      "source": [
        "!g++ temp.cpp -o temp;  echo 1 2 3 | ./temp"
      ],
      "metadata": {
        "id": "xrtgWU9Qfa6f",
        "outputId": "edc8061a-1438-4f99-ad54-5b7642f32af3",
        "colab": {
          "base_uri": "https://localhost:8080/"
        }
      },
      "execution_count": null,
      "outputs": [
        {
          "output_type": "stream",
          "name": "stdout",
          "text": [
            "6\n"
          ]
        }
      ]
    },
    {
      "cell_type": "code",
      "source": [
        "# for を使って書き直す\n",
        "%%writefile temp.cpp\n",
        "#include <bits/stdc++.h>\n",
        "using namespace std;\n",
        "#define rep(i, n) for (int i = 0; i < (int)(n); i++)\n",
        "\n",
        "int main() {\n",
        "    vector<int> vec(3); \n",
        "    for (auto& item : vec) cin >> item;\n",
        "    for (const auto& item : vec) cout << item;\n",
        "    cout << endl;\n",
        "}"
      ],
      "metadata": {
        "id": "912uUERkgEGY",
        "outputId": "bca5ccba-0ad6-429f-de91-dc3a6f56628b",
        "colab": {
          "base_uri": "https://localhost:8080/"
        }
      },
      "execution_count": null,
      "outputs": [
        {
          "output_type": "stream",
          "name": "stdout",
          "text": [
            "Overwriting temp.cpp\n"
          ]
        }
      ]
    },
    {
      "cell_type": "code",
      "source": [
        "!g++ temp.cpp -o temp;  echo 1 2 3 | ./temp"
      ],
      "metadata": {
        "id": "UQJp6o1JgcsB",
        "outputId": "95e88131-43a0-4029-9381-31571624a577",
        "colab": {
          "base_uri": "https://localhost:8080/"
        }
      },
      "execution_count": null,
      "outputs": [
        {
          "output_type": "stream",
          "name": "stdout",
          "text": [
            "123\n"
          ]
        }
      ]
    },
    {
      "cell_type": "markdown",
      "source": [
        "---\n",
        "問題 \n",
        "\n",
        "N人の数学と英語のテストの点数が与えられます。  \n",
        "それぞれの人について、数学と英語の点数の合計点を計算してください。\n",
        "\n",
        "入力例\n",
        "\n",
        "3  \n",
        "20 100 30  \n",
        "100 5 40  \n",
        "\n",
        "出力例\n",
        "\n",
        "120  \n",
        "105  \n",
        "70  "
      ],
      "metadata": {
        "id": "n7tJphi8Y0DP"
      }
    },
    {
      "cell_type": "code",
      "source": [
        "%%writefile temp.cpp\n",
        "#include <bits/stdc++.h>\n",
        "using namespace std;\n",
        "\n",
        "int main() {\n",
        "    int N;\n",
        "    cin >> N;\n",
        "    vector<int> math(3);\n",
        "    vector<int> eng(3);\n",
        "    for (auto& item : math) cin >> item;\n",
        "    for (auto& item : eng) cin >> item;\n",
        "    for (int i = 0; i < N; i++) {\n",
        "        cout << math.at(i) + eng.at(i) << endl;\n",
        "    }\n",
        "}"
      ],
      "metadata": {
        "id": "cHL1A1uV3w7t",
        "outputId": "3dd779e4-8963-4c5b-a6e3-176d888c39b5",
        "colab": {
          "base_uri": "https://localhost:8080/"
        }
      },
      "execution_count": null,
      "outputs": [
        {
          "output_type": "stream",
          "name": "stdout",
          "text": [
            "Overwriting temp.cpp\n"
          ]
        }
      ]
    },
    {
      "cell_type": "code",
      "source": [
        "!g++ temp.cpp -o temp;  echo 3 20 100 30 100 5 40 | ./temp"
      ],
      "metadata": {
        "id": "5jRIuCO646QG",
        "outputId": "95da85ad-4cfa-440c-c336-c0d6db82b695",
        "colab": {
          "base_uri": "https://localhost:8080/"
        }
      },
      "execution_count": null,
      "outputs": [
        {
          "output_type": "stream",
          "name": "stdout",
          "text": [
            "120\n",
            "105\n",
            "70\n"
          ]
        }
      ]
    },
    {
      "cell_type": "code",
      "source": [
        "%%writefile temp.cpp\n",
        "#include <bits/stdc++.h>\n",
        "using namespace std;\n",
        " \n",
        "int main() {\n",
        "  vector<int> vec = { 1, 2, 3 };\n",
        " \n",
        "  vec.push_back(10); // 末尾に10を追加\n",
        " \n",
        "  // vecの全要素を出力\n",
        "  for (int i = 0; i < vec.size(); i++) {\n",
        "    cout << vec.at(i) << endl;\n",
        "  }\n",
        "}"
      ],
      "metadata": {
        "id": "WSgRZ6OZ3Q5i",
        "outputId": "957d9672-a317-42e2-b109-e501765f6dd9",
        "colab": {
          "base_uri": "https://localhost:8080/"
        }
      },
      "execution_count": null,
      "outputs": [
        {
          "output_type": "stream",
          "name": "stdout",
          "text": [
            "Overwriting temp.cpp\n"
          ]
        }
      ]
    },
    {
      "cell_type": "code",
      "source": [
        "!g++ temp.cpp -o temp;  ./temp"
      ],
      "metadata": {
        "id": "1XZ_BiO35k0p",
        "outputId": "f9a8c1bd-1f08-4669-d576-0925a1fc36a0",
        "colab": {
          "base_uri": "https://localhost:8080/"
        }
      },
      "execution_count": null,
      "outputs": [
        {
          "output_type": "stream",
          "name": "stdout",
          "text": [
            "1\n",
            "2\n",
            "3\n",
            "10\n"
          ]
        }
      ]
    },
    {
      "cell_type": "markdown",
      "source": [
        "配列の範囲外を指定すると `std::out_of_range` という実行時エラーになる。\n",
        "\n",
        "vector 以外の配列  \n",
        "\n",
        "vector<int> data(3); // vectorによる配列 #=> これを使うこと!!!!\n",
        "\n",
        "int data[3]; // Cの配列\n",
        "\n",
        "array<int, 3> data; // arrayによる配列\n",
        "\n",
        "atを使わないi番目の要素へのアクセス\n",
        "\n",
        "配列変数.at(添字)と、配列変数[添字]は同じことが出来るが、at を使った方がエラーメッセージがちゃんと出る。\n",
        "\n",
        "`#define _GLIBCXX_DEBUG`  \n",
        "とコードの最初に書くことで.atと同程度に安全に使うことができるようになるが、APG4b では `.at()` を使う。"
      ],
      "metadata": {
        "id": "4l4q11zh1gHu"
      }
    },
    {
      "cell_type": "code",
      "source": [
        "%%writefile temp.cpp\n",
        "#include <bits/stdc++.h>\n",
        "using namespace std;\n",
        " \n",
        "int main() {\n",
        "  vector<int> vec = { 1, 2, 3 };\n",
        " \n",
        "  cout << vec.at(0) << endl;\n",
        "  cout << vec[0] << endl; // .at(0)と同じ\n",
        "}"
      ],
      "metadata": {
        "id": "RDpvufaQ2rep",
        "outputId": "b159a00d-c732-4d3e-fd7f-58dc35d3d391",
        "colab": {
          "base_uri": "https://localhost:8080/"
        }
      },
      "execution_count": 8,
      "outputs": [
        {
          "output_type": "stream",
          "name": "stdout",
          "text": [
            "Overwriting temp.cpp\n"
          ]
        }
      ]
    },
    {
      "cell_type": "code",
      "source": [
        "!g++ temp.cpp -o temp;  ./temp"
      ],
      "metadata": {
        "id": "sB7sUhYp25ez"
      },
      "execution_count": null,
      "outputs": []
    },
    {
      "cell_type": "markdown",
      "source": [
        "要素の削除\n",
        "\n",
        "配列変数.pop_back を使えば配列の末尾の要素を削除することが出来る。"
      ],
      "metadata": {
        "id": "7adjum1E4iDd"
      }
    },
    {
      "cell_type": "code",
      "source": [
        "%%writefile temp.cpp\n",
        "#include <bits/stdc++.h>\n",
        "using namespace std;\n",
        "\n",
        "int main() {\n",
        "    vector<int> vec = { 1, 2, 3 };\n",
        "\n",
        "    vec.pop_back(); // 末尾の要素を削除\n",
        "\n",
        "    // vecの全要素を出力\n",
        "    for (int i = 0; i < vec.size(); i++) {\n",
        "        cout << vec.at(i) << endl;\n",
        "    }\n",
        "}"
      ],
      "metadata": {
        "id": "ER8sGpvV4hh_",
        "outputId": "cbc52628-713d-4d59-8343-88fbb152b8da",
        "colab": {
          "base_uri": "https://localhost:8080/"
        }
      },
      "execution_count": 9,
      "outputs": [
        {
          "output_type": "stream",
          "name": "stdout",
          "text": [
            "Overwriting temp.cpp\n"
          ]
        }
      ]
    },
    {
      "cell_type": "code",
      "source": [
        "!g++ temp.cpp -o temp;  ./temp"
      ],
      "metadata": {
        "id": "GXpAefzK5mOv",
        "outputId": "674575bc-543e-427e-afb1-9b05d46d1676",
        "colab": {
          "base_uri": "https://localhost:8080/"
        }
      },
      "execution_count": 10,
      "outputs": [
        {
          "output_type": "stream",
          "name": "stdout",
          "text": [
            "1\n",
            "2\n"
          ]
        }
      ]
    },
    {
      "cell_type": "code",
      "source": [
        "# 配列同士の比較\n",
        "# 配列変数同士は `==` で比較することが出来る。\n",
        "# vec == { 1, 2, 3 } のようには書けない。\n",
        "\n",
        "%%writefile temp.cpp\n",
        "#include <bits/stdc++.h>\n",
        "using namespace std;\n",
        "\n",
        "int main() {\n",
        "    vector<int> vec1 = { 1, 2, 3 };\n",
        "    vector<int> vec2 = { 1, 2, 3 };\n",
        "\n",
        "    if (vec1 == vec2) {\n",
        "        cout << \"OK\" << endl;\n",
        "    }\n",
        "\n",
        "    /*\n",
        "    ↓これはコンパイルエラーになる\n",
        "    if (vec1 == { 1, 2, 3 }) {\n",
        "      cout << \"NG\" << endl;\n",
        "    }\n",
        "    */\n",
        "}"
      ],
      "metadata": {
        "id": "6_7gQ7e85fiZ",
        "outputId": "481fc00f-1d66-47ae-cd88-0d724efb8b42",
        "colab": {
          "base_uri": "https://localhost:8080/"
        }
      },
      "execution_count": 11,
      "outputs": [
        {
          "output_type": "stream",
          "name": "stdout",
          "text": [
            "Overwriting temp.cpp\n"
          ]
        }
      ]
    },
    {
      "cell_type": "code",
      "source": [
        "!g++ temp.cpp -o temp;  ./temp"
      ],
      "metadata": {
        "id": "P-JQOZeh6L6u",
        "outputId": "6a7fad95-62e0-47e6-c729-4b473a0e2b16",
        "colab": {
          "base_uri": "https://localhost:8080/"
        }
      },
      "execution_count": 12,
      "outputs": [
        {
          "output_type": "stream",
          "name": "stdout",
          "text": [
            "OK\n"
          ]
        }
      ]
    },
    {
      "cell_type": "markdown",
      "source": [
        "# いまここ"
      ],
      "metadata": {
        "id": "J0wE35Lq1xhR"
      }
    },
    {
      "cell_type": "code",
      "source": [
        "配列の初期化その2\n",
        "\n",
        "配列の初期化は次のように書くこともできます。\n",
        "\n",
        "Copy\n",
        "vector<型> 配列変数 = vector<型>(要素数, 初期値);\n",
        "\n",
        "この書き方はすでに宣言してある配列変数を上書きするときにも使えます。 次の例では{10, 10, 10}で初期化してあ\n",
        "る変数を100要素の配列{2, 2, ... , 2, 2}で上書きしています。\n",
        "\n",
        "Copy\n",
        "#include <bits/stdc++.h>\n",
        "using namespace std;\n",
        " \n",
        "int main() {\n",
        "  vector<int> vec(3, 10); // {10, 10, 10} で初期化\n",
        "  vec = vector<int>(100, 2); // 100要素の配列 {2, 2, ... , 2, 2} で上書き\n",
        "  cout << vec.at(99) << endl;\n",
        "}\n",
        "\n",
        "#include <bits/stdc++.h>\n",
        "using namespace std;\n",
        "\n",
        "int main() {\n",
        "  vector<int> vec(3, 10); // {10, 10, 10} で初期化\n",
        "  vec = vector<int>(100, 2); // 100要素の配列 {2, 2, ... , 2, 2} で上書き\n",
        "  cout << vec.at(99) << endl;\n",
        "}\n",
        "実行結果\n",
        "2\n",
        "\n",
        "大きすぎる配列\n",
        "配列の要素数が多すぎると、実行時エラーになることがあります。\n",
        "次の例は要素数が10億の配列を確保しようとして実行時エラーが発生しています。\n",
        "\n",
        "Copy\n",
        "#include <bits/stdc++.h>\n",
        "using namespace std;\n",
        " \n",
        "int main() {\n",
        "  vector<int> v(1000000000);\n",
        "  cout << v[0] << endl;\n",
        "}\n",
        "\n",
        "終了コード\n",
        "134\n",
        "どの程度までの大きさの配列が確保できるかは実行環境によります。\n",
        "\n",
        "AtCoderの問題の回答として提出してこのエラーが出た場合、`RE` または `MLE` と表示されます。\n",
        "\n",
        "問題\n",
        "リンク先の問題を解いてください。\n",
        "\n",
        "EX13.平均点との差\n",
        "ABCの問題\n",
        "ここまでの知識だけで解ける問題をAtCoder Beginner Contestから再び紹介します。練習問題だけでは物足りない人は解いてみてください。\n",
        "「易しめ」と書いてあるものも今までのABCの問題よりも難易度が高いことに注意してください。\n",
        "解けない場合、2.01.ループの書き方や2.02.多重ループを読んでから再挑戦してみてください。\n",
        "\n",
        "易しめ\n",
        "B - Picture Frame\n",
        "B - Counting Roads\n",
        "B - Trained?\n",
        "難しめ\n",
        "B - Two Colors Card Game\n",
        "B - Card Game for Two\n",
        "B - Kagami Mochi\n",
        "配列とループ構文がわかっていれば、AtCoderのコンテストに参加するのに最低限の知識を持っていると言えます。\n",
        "ぜひリアルタイムでコンテストに挑戦してみてください。\n"
      ],
      "metadata": {
        "id": "LXL3FsJC5-Fv"
      },
      "execution_count": null,
      "outputs": []
    },
    {
      "cell_type": "markdown",
      "source": [
        "---\n",
        "問題   \n",
        "\n",
        "EX13 - 平均との差\n",
        "\n"
      ],
      "metadata": {
        "id": "ODjCVSjDv-mf"
      }
    },
    {
      "cell_type": "code",
      "source": [
        "#include <bits/stdc++.h>\n",
        "using namespace std;\n",
        "#define rep(i, n) for (int i = 0; i < (int)(n); i++)\n",
        " \n",
        "int main() {\n",
        "  string S1, S2;\n",
        "  cin >> S1 >> S2;\n",
        "  if (S1.size() > S2.size()) cout << S1 << endl;\n",
        "  else cout << S2 << endl;\n",
        "}"
      ],
      "metadata": {
        "id": "fOu-baYTqY8O"
      },
      "execution_count": null,
      "outputs": []
    }
  ]
}