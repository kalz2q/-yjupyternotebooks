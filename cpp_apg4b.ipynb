{
  "nbformat": 4,
  "nbformat_minor": 0,
  "metadata": {
    "colab": {
      "name": "cpp_apg4b.ipynb",
      "provenance": [],
      "authorship_tag": "ABX9TyMlPl5vsThHJpHb5ug0jZYf",
      "include_colab_link": true
    },
    "kernelspec": {
      "name": "python3",
      "display_name": "Python 3"
    },
    "language_info": {
      "name": "python"
    }
  },
  "cells": [
    {
      "cell_type": "markdown",
      "metadata": {
        "id": "view-in-github",
        "colab_type": "text"
      },
      "source": [
        "<a href=\"https://colab.research.google.com/github/kalz2q/mycolabnotebooks/blob/master/cpp_apg4b.ipynb\" target=\"_parent\"><img src=\"https://colab.research.google.com/assets/colab-badge.svg\" alt=\"Open In Colab\"/></a>"
      ]
    },
    {
      "cell_type": "markdown",
      "source": [
        "# メモ\n",
        "\n",
        "AtCoder Programming Guide for Beginners APG4b\n",
        "\n",
        "の練習問題をやる。\n",
        "\n",
        "https://atcoder.jp/contests/apg4b"
      ],
      "metadata": {
        "id": "8kHv-8CgciQc"
      }
    },
    {
      "cell_type": "markdown",
      "source": [
        "# 目次\n",
        "\n",
        "具体的な目次は以下のとおりです。\n",
        "\n",
        "1.00.はじめに\n",
        "1.01.出力とコメント | EX1\n",
        "1.02.プログラムの書き方とエラー | EX2\n",
        "1.03.四則演算と優先順位 | EX3\n",
        "1.04.変数と型 | EX4\n",
        "1.05.プログラムの実行順序と入力 | EX5\n",
        "1.06.if文・比較演算子・論理演算子 | EX6\n",
        "1.07.条件式の結果とbool型 | EX7\n",
        "1.08.変数のスコープ | EX8\n",
        "1.09.複合代入演算子 | EX9\n",
        "1.10.while文 | EX10\n",
        "1.11.for文・break・continue | EX11\n",
        "1.12.文字列と文字 | EX12\n",
        "1.13.配列 | EX13\n",
        "1.14.STLの関数 | EX14\n",
        "1.15.関数 | EX15\n",
        "\n",
        "2.00.第2章について\n",
        "2.01.ループの書き方と範囲for文 | EX16\n",
        "2.02.多重ループ | EX17\n",
        "2.03.多次元配列 | EX18\n",
        "2.04.参照 | EX19\n",
        "2.05.再帰関数 | EX20\n",
        "2.06.計算量 | EX21\n",
        "\n",
        "3.00.第3章について\n",
        "3.01.数値型\n",
        "3.02.pair/tupleとauto | EX22\n",
        "3.03.STLのコンテナ | EX23\n",
        "3.04.構造体 | EX24\n",
        "3.05.ビット演算 | EX25\n",
        "3.06.その他の機能 | EX26\n",
        "\n",
        "4.00.第4章について\n",
        "4.01.includeディレクティブ\n",
        "4.02.名前空間\n",
        "4.03.テンプレート\n",
        "4.04.イテレータ\n",
        "4.05.ポインタ\n",
        "\n",
        "付録1.コードテストの使い方\n",
        "付録2.提出結果の見方\n",
        "付録3.コンパイルエラー集\n",
        "付録4.ループの裏技repマクロ"
      ],
      "metadata": {
        "id": "5sm38Af7dBS3"
      }
    },
    {
      "cell_type": "code",
      "execution_count": null,
      "metadata": {
        "id": "F4cGyjO2cE2W"
      },
      "outputs": [],
      "source": [
        ""
      ]
    }
  ]
}