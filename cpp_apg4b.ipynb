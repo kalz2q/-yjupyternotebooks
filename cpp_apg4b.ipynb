{
  "nbformat": 4,
  "nbformat_minor": 0,
  "metadata": {
    "colab": {
      "name": "cpp_apg4b.ipynb",
      "provenance": [],
      "toc_visible": true,
      "authorship_tag": "ABX9TyPpmlHyw6Ihob2vpgzgrzDc",
      "include_colab_link": true
    },
    "kernelspec": {
      "name": "python3",
      "display_name": "Python 3"
    },
    "language_info": {
      "name": "python"
    }
  },
  "cells": [
    {
      "cell_type": "markdown",
      "metadata": {
        "id": "view-in-github",
        "colab_type": "text"
      },
      "source": [
        "<a href=\"https://colab.research.google.com/github/kalz2q/mycolabnotebooks/blob/master/cpp_apg4b.ipynb\" target=\"_parent\"><img src=\"https://colab.research.google.com/assets/colab-badge.svg\" alt=\"Open In Colab\"/></a>"
      ]
    },
    {
      "cell_type": "markdown",
      "source": [
        "# メモ\n",
        "\n",
        "AtCoder Programming Guide for Beginners APG4b\n",
        "\n",
        "の練習問題をやる。\n",
        "\n",
        "https://atcoder.jp/contests/apg4b"
      ],
      "metadata": {
        "id": "8kHv-8CgciQc"
      }
    },
    {
      "cell_type": "markdown",
      "source": [
        "# 目次  \n",
        "\n",
        "1.00.はじめに  \n",
        "1.01.出力とコメント | EX1  \n",
        "1.02.プログラムの書き方とエラー | EX2  \n",
        "1.03.四則演算と優先順位 | EX3  \n",
        "1.04.変数と型 | EX4  \n",
        "1.05.プログラムの実行順序と入力 | EX5  \n",
        "1.06.if文・比較演算子・論理演算子 | EX6  \n",
        "1.07.条件式の結果とbool型 | EX7  \n",
        "1.08.変数のスコープ | EX8  \n",
        "1.09.複合代入演算子 | EX9  \n",
        "1.10.while文 | EX10  \n",
        "1.11.for文・break・continue | EX11  \n",
        "1.12.文字列と文字 | EX12 <= このあたりから普通の言語と違う  \n",
        "1.13.配列 | EX13  <= vector を使っている\n",
        "1.14.STLの関数 | EX14  \n",
        "1.15.関数 | EX15  \n",
        "  \n",
        "2.00.第2章について  \n",
        "2.01.ループの書き方と範囲for文 | EX16  \n",
        "2.02.多重ループ | EX17  \n",
        "2.03.多次元配列 | EX18  \n",
        "2.04.参照 | EX19  \n",
        "2.05.再帰関数 | EX20  \n",
        "2.06.計算量 | EX21  \n",
        "  \n",
        "3.00.第3章について  \n",
        "3.01.数値型  \n",
        "3.02.pair/tupleとauto | EX22  \n",
        "3.03.STLのコンテナ | EX23  \n",
        "3.04.構造体 | EX24  \n",
        "3.05.ビット演算 | EX25  \n",
        "3.06.その他の機能 | EX26  \n",
        "  \n",
        "4.00.第4章について  \n",
        "4.01.includeディレクティブ  \n",
        "4.02.名前空間  \n",
        "4.03.テンプレート  \n",
        "4.04.イテレータ  \n",
        "4.05.ポインタ  \n",
        "  \n",
        "付録1.コードテストの使い方  \n",
        "付録2.提出結果の見方  \n",
        "付録3.コンパイルエラー集  \n",
        "付録4.ループの裏技repマクロ  "
      ],
      "metadata": {
        "id": "5sm38Af7dBS3"
      }
    },
    {
      "cell_type": "markdown",
      "source": [
        "bits/stdc++.h の利用\n",
        "\n",
        "`#include <bits/stdc++.h>` で iostream, string, vector とか云々。\n",
        "\n",
        "`std::` と `#include` の勉強はしないでよい。とりあえず。\n",
        "\n",
        "main関数の `return 0` の省略\n",
        "\n",
        "計算量の解説\n",
        "\n",
        "repマクロの紹介\n",
        "\n",
        "`#define rep(i, n) for (int i = 0; i < (int)(n); i++)`\n"
      ],
      "metadata": {
        "id": "uUCd4AI-zp0n"
      }
    },
    {
      "cell_type": "markdown",
      "source": [
        "---\n",
        "### 未解決問題  1.11.for文・break・continue | EX11 配下\n",
        "\n",
        "B - Palindromic Numbers  \n",
        "A 以上 B 以下の整数のうち、回文数となるものの個数を求めてください。 ただし、回文数とは、先頭に 0 をつけない 10 進表記を文字列として見たとき、前から読んでも後ろから読んでも同じ文字列となるような正の整数のことを指します。\n",
        "\n",
        "11009 11332\n",
        "\n",
        "=> 4"
      ],
      "metadata": {
        "id": "LNfeQNE3i1Hq"
      }
    },
    {
      "cell_type": "code",
      "source": [
        "# Palindromic Numbers が通らない。 入力例は通るのに云々\n",
        "%%writefile temp.cpp\n",
        "#include <bits/stdc++.h>\n",
        "using namespace std;\n",
        "#define rep(i, n) for (int i = 0; i < (int)(n); i++)\n",
        "\n",
        "bool isPalindrome(int orig) {\n",
        "  int digit, rev, num ;\n",
        "  digit = rev = 0;  \n",
        "  num = orig;\n",
        "  rep(i, 10){\n",
        "    digit = num % 10;\n",
        "    rev = (rev * 10) + digit;\n",
        "    num = num / 10;\n",
        "    if (num == 0 ) break;\n",
        "  }\n",
        "  return (orig == rev);\n",
        "};\n",
        "\n",
        "int main() {\n",
        "  int A, B, count , diff ;\n",
        "  cin >> A >> B ;\n",
        "  count = 0;\n",
        "  diff = B - A;\n",
        "  rep(i, diff) {\n",
        "    if (isPalindrome(A+i)) { count += 1; }\n",
        "  }\n",
        "  cout << count << endl;\n",
        "}"
      ],
      "metadata": {
        "id": "_8r2vg5ojC-y",
        "outputId": "8e7c52e0-bad2-4446-c610-f53406c3b529",
        "colab": {
          "base_uri": "https://localhost:8080/"
        }
      },
      "execution_count": null,
      "outputs": [
        {
          "output_type": "stream",
          "name": "stdout",
          "text": [
            "Writing temp.cpp\n"
          ]
        }
      ]
    },
    {
      "cell_type": "code",
      "source": [
        "!g++ temp.cpp -o temp; echo 11009 11332 | ./temp"
      ],
      "metadata": {
        "id": "QDNOIByfjdaH",
        "outputId": "82ad454e-6248-472a-d687-1e14338dc72b",
        "colab": {
          "base_uri": "https://localhost:8080/"
        }
      },
      "execution_count": null,
      "outputs": [
        {
          "output_type": "stream",
          "name": "stdout",
          "text": [
            "4\n"
          ]
        }
      ]
    },
    {
      "cell_type": "markdown",
      "source": [
        "---\n",
        "問題\n",
        "\n",
        "EX12 - 足したり引いたり  \n",
        "\n",
        "1と+と-のみからなる式Sが1行で与えられるので、計算結果を出力してください。\n",
        "\n",
        "例えば式Sが1+1+1-1であったとき、計算結果は2です。\n",
        "\n",
        "具体的な式Sの形式は以下の通りです。\n",
        "\n",
        "* 式Sの1文字目は必ず1です。\n",
        "* その後、「+または−」と1が交互に続きます。\n",
        "* Sの最後の文字も必ず1です。\n",
        "\n",
        "入力例  \n",
        "1+1+1-1  \n",
        "=> 2\n",
        "\n"
      ],
      "metadata": {
        "id": "F4cGyjO2cE2W"
      }
    },
    {
      "cell_type": "code",
      "source": [
        "%%writefile temp.cpp\n",
        "#include <bits/stdc++.h>\n",
        "using namespace std;\n",
        "#define rep(i, n) for (int i = 0; i < (int)(n); i++)\n",
        "\n",
        "int main() {\n",
        "  string  S ;\n",
        "  int result ;\n",
        "  cin >> S ;\n",
        "  result = 1;\n",
        "  rep(i, S.size()) {\n",
        "    if (S.at(i) == '+')  result += 1; \n",
        "    else if (S.at(i) == '-') result -= 1;\n",
        "  }\n",
        "  cout << result << endl;\n",
        "}"
      ],
      "metadata": {
        "id": "GC-B1E-KiPlK",
        "outputId": "b433e2ab-ec70-4618-9fd9-5930e93bcc78",
        "colab": {
          "base_uri": "https://localhost:8080/"
        }
      },
      "execution_count": null,
      "outputs": [
        {
          "output_type": "stream",
          "name": "stdout",
          "text": [
            "Overwriting temp.cpp\n"
          ]
        }
      ]
    },
    {
      "cell_type": "code",
      "source": [
        "!g++ temp.cpp -o temp; echo 1+1+1-1 | ./temp"
      ],
      "metadata": {
        "id": "LvjAI6tKpD1e",
        "outputId": "396bdafd-78aa-4426-ff41-5fe63a3acb46",
        "colab": {
          "base_uri": "https://localhost:8080/"
        }
      },
      "execution_count": null,
      "outputs": [
        {
          "output_type": "stream",
          "name": "stdout",
          "text": [
            "2\n"
          ]
        }
      ]
    },
    {
      "cell_type": "markdown",
      "source": [
        "# N - 1.13.配列\n",
        "\n",
        "* vector<型> 配列変数名;で配列変数を宣言できる\n",
        "* 配列変数名 = { 要素1, 要素2, ... };で配列変数に値を代入できる\n",
        "* 配列変数.at(i), 配列変数.size() が使える\n",
        "* vector<型> 配列変数名(要素数)と書くと指定した要素数で配列を初期化できる\n"
      ],
      "metadata": {
        "id": "azH-MFEVvuOx"
      }
    },
    {
      "cell_type": "code",
      "source": [
        "%%writefile temp.cpp\n",
        "#include <bits/stdc++.h>\n",
        "using namespace std;\n",
        "#define rep(i, n) for (int i = 0; i < (int)(n); i++)\n",
        "\n",
        "int main() {\n",
        "    int N = 5;\n",
        "    vector<int> vec(N);\n",
        "    for (int i = 0; i < N; i++) {\n",
        "        cin >> vec.at(i);\n",
        "    };\n",
        "    rep (i, vec.size()) {\n",
        "        cout << vec.at(vec.size() - i - 1) << ' ' ;\n",
        "    }\n",
        "    cout << endl;\n",
        "}"
      ],
      "metadata": {
        "id": "YHy_H_YqxP5Y",
        "outputId": "a0a7c5b6-853b-42af-ea57-0f0eb74937f2",
        "colab": {
          "base_uri": "https://localhost:8080/"
        }
      },
      "execution_count": null,
      "outputs": [
        {
          "output_type": "stream",
          "name": "stdout",
          "text": [
            "Writing temp.cpp\n"
          ]
        }
      ]
    },
    {
      "cell_type": "code",
      "source": [
        "!g++ temp.cpp -o temp; echo 1 2 3 4 5 | ./temp"
      ],
      "metadata": {
        "id": "_vXhOYHf14ct",
        "outputId": "d1b59517-5fc6-46a7-b7e6-295bae10f81e",
        "colab": {
          "base_uri": "https://localhost:8080/"
        }
      },
      "execution_count": null,
      "outputs": [
        {
          "output_type": "stream",
          "name": "stdout",
          "text": [
            "5 4 3 2 1 \n"
          ]
        }
      ]
    },
    {
      "cell_type": "code",
      "source": [
        "%%writefile temp.cpp\n",
        "#include <bits/stdc++.h>\n",
        "using namespace std;\n",
        "\n",
        "int main() {\n",
        "  // 文字列\n",
        "  string str; // 文字列変数を宣言\n",
        "  str = \"abcd\"; // 'a', 'b', 'c', 'd' という文字(char)の列を代入\n",
        "  cout << str.at(0) << endl; // 1つ目である'a'を出力\n",
        "  cout << str.size() << endl; // 文字列の長さである4を出力\n",
        "\n",
        "  // 配列\n",
        "  vector<int> vec; // int型の配列変数vecを宣言\n",
        "  vec = { 25, 100, 64 }; // 25, 100, 64 という整数(int)の列を代入\n",
        "  cout << vec.at(0) << endl; // 1つめである25を出力\n",
        "  cout << vec.size() << endl; // 配列の長さである3を出力\n",
        "}\n"
      ],
      "metadata": {
        "id": "xfM_zDO-DwvY",
        "outputId": "31dd9b53-9555-4176-90c4-ce60c147d0cd",
        "colab": {
          "base_uri": "https://localhost:8080/"
        }
      },
      "execution_count": null,
      "outputs": [
        {
          "output_type": "stream",
          "name": "stdout",
          "text": [
            "Overwriting temp.cpp\n"
          ]
        }
      ]
    },
    {
      "cell_type": "code",
      "source": [
        "!g++ temp.cpp -o temp; echo 1 2 3 4 5 | ./temp"
      ],
      "metadata": {
        "id": "DMfTnVbVD4-9",
        "outputId": "e7c050ea-79a0-465c-c445-2bc1678b5186",
        "colab": {
          "base_uri": "https://localhost:8080/"
        }
      },
      "execution_count": null,
      "outputs": [
        {
          "output_type": "stream",
          "name": "stdout",
          "text": [
            "a\n",
            "4\n",
            "25\n",
            "3\n"
          ]
        }
      ]
    },
    {
      "cell_type": "code",
      "source": [
        "# 実験 文字列と配列 同じ物ではない\n",
        "%%writefile temp.cpp\n",
        "#include <bits/stdc++.h>\n",
        "using namespace std;\n",
        "#define rep(i, n) for (int i = 0; i < (int)(n); i++)\n",
        "\n",
        "int main() {\n",
        "    string str;\n",
        "    str = \"abcd\";\n",
        "    vector<char> vec;\n",
        "    vec = { 'a','b','c','d' };\n",
        "    cout << str << endl;\n",
        "    //  cout << vec << endl; #=> エラーになる\n",
        "    rep(i, vec.size()) {\n",
        "        cout << vec.at(i);\n",
        "    }\n",
        "    cout << endl;\n",
        "    copy(vec.begin(), vec.end(), ostream_iterator<char>(cout));\n",
        "    cout << endl;\n",
        "    for (const auto& item : vec) cout << item;\n",
        "    cout << endl;\n",
        "}"
      ],
      "metadata": {
        "id": "5YoHVgsXZfGc",
        "outputId": "822a1408-d499-42b8-9251-1c2d35d69df8",
        "colab": {
          "base_uri": "https://localhost:8080/"
        }
      },
      "execution_count": null,
      "outputs": [
        {
          "output_type": "stream",
          "name": "stdout",
          "text": [
            "Overwriting temp.cpp\n"
          ]
        }
      ]
    },
    {
      "cell_type": "code",
      "source": [
        "!g++ temp.cpp -o temp;  ./temp"
      ],
      "metadata": {
        "id": "VMq6WWaEZ9Ja"
      },
      "execution_count": null,
      "outputs": []
    },
    {
      "cell_type": "code",
      "source": [
        "%%writefile temp.cpp\n",
        "#include <bits/stdc++.h>\n",
        "using namespace std;\n",
        "#define rep(i, n) for (int i = 0; i < (int)(n); i++)\n",
        "\n",
        "int main() {\n",
        "    vector<int> vec(3); // {0, 0, 0} で初期化される str だと {\"\",\"\",\"\"}\n",
        "    cin >> vec.at(0) >> vec.at(1) >> vec.at(2);\n",
        "    cout << vec.at(0) + vec.at(1) + vec.at(2) << endl;\n",
        "}"
      ],
      "metadata": {
        "id": "O2ZpaBRhfU8u",
        "outputId": "7eed0747-954b-4c9d-d9d6-310e56de023f",
        "colab": {
          "base_uri": "https://localhost:8080/"
        }
      },
      "execution_count": null,
      "outputs": [
        {
          "output_type": "stream",
          "name": "stdout",
          "text": [
            "Overwriting temp.cpp\n"
          ]
        }
      ]
    },
    {
      "cell_type": "code",
      "source": [
        "!g++ temp.cpp -o temp;  echo 1 2 3 | ./temp"
      ],
      "metadata": {
        "id": "xrtgWU9Qfa6f",
        "outputId": "edc8061a-1438-4f99-ad54-5b7642f32af3",
        "colab": {
          "base_uri": "https://localhost:8080/"
        }
      },
      "execution_count": null,
      "outputs": [
        {
          "output_type": "stream",
          "name": "stdout",
          "text": [
            "6\n"
          ]
        }
      ]
    },
    {
      "cell_type": "code",
      "source": [
        "# for を使って書き直す\n",
        "%%writefile temp.cpp\n",
        "#include <bits/stdc++.h>\n",
        "using namespace std;\n",
        "#define rep(i, n) for (int i = 0; i < (int)(n); i++)\n",
        "\n",
        "int main() {\n",
        "    vector<int> vec(3); \n",
        "    for (auto& item : vec) cin >> item;\n",
        "    for (const auto& item : vec) cout << item;\n",
        "    cout << endl;\n",
        "}"
      ],
      "metadata": {
        "id": "912uUERkgEGY",
        "outputId": "bca5ccba-0ad6-429f-de91-dc3a6f56628b",
        "colab": {
          "base_uri": "https://localhost:8080/"
        }
      },
      "execution_count": null,
      "outputs": [
        {
          "output_type": "stream",
          "name": "stdout",
          "text": [
            "Overwriting temp.cpp\n"
          ]
        }
      ]
    },
    {
      "cell_type": "code",
      "source": [
        "!g++ temp.cpp -o temp;  echo 1 2 3 | ./temp"
      ],
      "metadata": {
        "id": "UQJp6o1JgcsB",
        "outputId": "95e88131-43a0-4029-9381-31571624a577",
        "colab": {
          "base_uri": "https://localhost:8080/"
        }
      },
      "execution_count": null,
      "outputs": [
        {
          "output_type": "stream",
          "name": "stdout",
          "text": [
            "123\n"
          ]
        }
      ]
    },
    {
      "cell_type": "markdown",
      "source": [
        "---\n",
        "問題 \n",
        "\n",
        "N人の数学と英語のテストの点数が与えられます。  \n",
        "それぞれの人について、数学と英語の点数の合計点を計算してください。\n",
        "\n",
        "入力例\n",
        "\n",
        "3  \n",
        "20 100 30  \n",
        "100 5 40  \n",
        "\n",
        "出力例\n",
        "\n",
        "120  \n",
        "105  \n",
        "70  "
      ],
      "metadata": {
        "id": "n7tJphi8Y0DP"
      }
    },
    {
      "cell_type": "code",
      "source": [
        "%%writefile temp.cpp\n",
        "#include <bits/stdc++.h>\n",
        "using namespace std;\n",
        "\n",
        "int main() {\n",
        "    int N;\n",
        "    cin >> N;\n",
        "    vector<int> math(3);\n",
        "    vector<int> eng(3);\n",
        "    for (auto& item : math) cin >> item;\n",
        "    for (auto& item : eng) cin >> item;\n",
        "    for (int i = 0; i < N; i++) {\n",
        "        cout << math.at(i) + eng.at(i) << endl;\n",
        "    }\n",
        "}"
      ],
      "metadata": {
        "id": "cHL1A1uV3w7t",
        "outputId": "3dd779e4-8963-4c5b-a6e3-176d888c39b5",
        "colab": {
          "base_uri": "https://localhost:8080/"
        }
      },
      "execution_count": null,
      "outputs": [
        {
          "output_type": "stream",
          "name": "stdout",
          "text": [
            "Overwriting temp.cpp\n"
          ]
        }
      ]
    },
    {
      "cell_type": "code",
      "source": [
        "!g++ temp.cpp -o temp;  echo 3 20 100 30 100 5 40 | ./temp"
      ],
      "metadata": {
        "id": "5jRIuCO646QG",
        "outputId": "95da85ad-4cfa-440c-c336-c0d6db82b695",
        "colab": {
          "base_uri": "https://localhost:8080/"
        }
      },
      "execution_count": null,
      "outputs": [
        {
          "output_type": "stream",
          "name": "stdout",
          "text": [
            "120\n",
            "105\n",
            "70\n"
          ]
        }
      ]
    },
    {
      "cell_type": "code",
      "source": [
        "%%writefile temp.cpp\n",
        "#include <bits/stdc++.h>\n",
        "using namespace std;\n",
        " \n",
        "int main() {\n",
        "  vector<int> vec = { 1, 2, 3 };\n",
        " \n",
        "  vec.push_back(10); // 末尾に10を追加\n",
        " \n",
        "  // vecの全要素を出力\n",
        "  for (int i = 0; i < vec.size(); i++) {\n",
        "    cout << vec.at(i) << endl;\n",
        "  }\n",
        "}"
      ],
      "metadata": {
        "id": "WSgRZ6OZ3Q5i",
        "outputId": "957d9672-a317-42e2-b109-e501765f6dd9",
        "colab": {
          "base_uri": "https://localhost:8080/"
        }
      },
      "execution_count": null,
      "outputs": [
        {
          "output_type": "stream",
          "name": "stdout",
          "text": [
            "Overwriting temp.cpp\n"
          ]
        }
      ]
    },
    {
      "cell_type": "code",
      "source": [
        "!g++ temp.cpp -o temp;  ./temp"
      ],
      "metadata": {
        "id": "1XZ_BiO35k0p",
        "outputId": "f9a8c1bd-1f08-4669-d576-0925a1fc36a0",
        "colab": {
          "base_uri": "https://localhost:8080/"
        }
      },
      "execution_count": null,
      "outputs": [
        {
          "output_type": "stream",
          "name": "stdout",
          "text": [
            "1\n",
            "2\n",
            "3\n",
            "10\n"
          ]
        }
      ]
    },
    {
      "cell_type": "markdown",
      "source": [
        "配列の範囲外を指定すると `std::out_of_range` という実行時エラーになる。\n",
        "\n",
        "vector 以外の配列  \n",
        "\n",
        "vector<int> data(3); // vectorによる配列 #=> これを使うこと!!!!\n",
        "\n",
        "int data[3]; // Cの配列\n",
        "\n",
        "array<int, 3> data; // arrayによる配列\n",
        "\n",
        "atを使わないi番目の要素へのアクセス\n",
        "\n",
        "配列変数.at(添字)と、配列変数[添字]は同じことが出来るが、at を使った方がエラーメッセージがちゃんと出る。\n",
        "\n",
        "`#define _GLIBCXX_DEBUG`  \n",
        "とコードの最初に書くことで.atと同程度に安全に使うことができるようになるが、APG4b では `.at()` を使う。"
      ],
      "metadata": {
        "id": "4l4q11zh1gHu"
      }
    },
    {
      "cell_type": "code",
      "source": [
        "%%writefile temp.cpp\n",
        "#include <bits/stdc++.h>\n",
        "using namespace std;\n",
        " \n",
        "int main() {\n",
        "  vector<int> vec = { 1, 2, 3 };\n",
        " \n",
        "  cout << vec.at(0) << endl;\n",
        "  cout << vec[0] << endl; // .at(0)と同じ\n",
        "}"
      ],
      "metadata": {
        "id": "RDpvufaQ2rep",
        "outputId": "b159a00d-c732-4d3e-fd7f-58dc35d3d391",
        "colab": {
          "base_uri": "https://localhost:8080/"
        }
      },
      "execution_count": null,
      "outputs": [
        {
          "output_type": "stream",
          "name": "stdout",
          "text": [
            "Overwriting temp.cpp\n"
          ]
        }
      ]
    },
    {
      "cell_type": "code",
      "source": [
        "!g++ temp.cpp -o temp;  ./temp"
      ],
      "metadata": {
        "id": "sB7sUhYp25ez"
      },
      "execution_count": null,
      "outputs": []
    },
    {
      "cell_type": "markdown",
      "source": [
        "要素の削除\n",
        "\n",
        "配列変数.pop_back を使えば配列の末尾の要素を削除することが出来る。"
      ],
      "metadata": {
        "id": "7adjum1E4iDd"
      }
    },
    {
      "cell_type": "code",
      "source": [
        "%%writefile temp.cpp\n",
        "#include <bits/stdc++.h>\n",
        "using namespace std;\n",
        "\n",
        "int main() {\n",
        "    vector<int> vec = { 1, 2, 3 };\n",
        "\n",
        "    vec.pop_back(); // 末尾の要素を削除\n",
        "\n",
        "    // vecの全要素を出力\n",
        "    for (int i = 0; i < vec.size(); i++) {\n",
        "        cout << vec.at(i) << endl;\n",
        "    }\n",
        "}"
      ],
      "metadata": {
        "id": "ER8sGpvV4hh_",
        "outputId": "cbc52628-713d-4d59-8343-88fbb152b8da",
        "colab": {
          "base_uri": "https://localhost:8080/"
        }
      },
      "execution_count": null,
      "outputs": [
        {
          "output_type": "stream",
          "name": "stdout",
          "text": [
            "Overwriting temp.cpp\n"
          ]
        }
      ]
    },
    {
      "cell_type": "code",
      "source": [
        "!g++ temp.cpp -o temp;  ./temp"
      ],
      "metadata": {
        "id": "GXpAefzK5mOv",
        "outputId": "674575bc-543e-427e-afb1-9b05d46d1676",
        "colab": {
          "base_uri": "https://localhost:8080/"
        }
      },
      "execution_count": null,
      "outputs": [
        {
          "output_type": "stream",
          "name": "stdout",
          "text": [
            "1\n",
            "2\n"
          ]
        }
      ]
    },
    {
      "cell_type": "code",
      "source": [
        "# 配列同士の比較\n",
        "# 配列変数同士は `==` で比較することが出来る。\n",
        "# vec == { 1, 2, 3 } のようには書けない。\n",
        "\n",
        "%%writefile temp.cpp\n",
        "#include <bits/stdc++.h>\n",
        "using namespace std;\n",
        "\n",
        "int main() {\n",
        "    vector<int> vec1 = { 1, 2, 3 };\n",
        "    vector<int> vec2 = { 1, 2, 3 };\n",
        "\n",
        "    if (vec1 == vec2) {\n",
        "        cout << \"OK\" << endl;\n",
        "    }\n",
        "\n",
        "    /*\n",
        "    ↓これはコンパイルエラーになる\n",
        "    if (vec1 == { 1, 2, 3 }) {\n",
        "      cout << \"NG\" << endl;\n",
        "    }\n",
        "    */\n",
        "}"
      ],
      "metadata": {
        "id": "6_7gQ7e85fiZ",
        "outputId": "481fc00f-1d66-47ae-cd88-0d724efb8b42",
        "colab": {
          "base_uri": "https://localhost:8080/"
        }
      },
      "execution_count": null,
      "outputs": [
        {
          "output_type": "stream",
          "name": "stdout",
          "text": [
            "Overwriting temp.cpp\n"
          ]
        }
      ]
    },
    {
      "cell_type": "code",
      "source": [
        "!g++ temp.cpp -o temp;  ./temp"
      ],
      "metadata": {
        "id": "P-JQOZeh6L6u",
        "outputId": "6a7fad95-62e0-47e6-c729-4b473a0e2b16",
        "colab": {
          "base_uri": "https://localhost:8080/"
        }
      },
      "execution_count": null,
      "outputs": [
        {
          "output_type": "stream",
          "name": "stdout",
          "text": [
            "OK\n"
          ]
        }
      ]
    },
    {
      "cell_type": "code",
      "source": [
        "# 配列の初期化その2\n",
        "# サイズの違う配列で上書き出来る\n",
        "%%writefile temp.cpp\n",
        "#include <bits/stdc++.h>\n",
        "using namespace std;\n",
        " \n",
        "int main() {\n",
        "  vector<int> vec(3, 10); // {10, 10, 10} で初期化\n",
        "  vec = vector<int>(100, 2); // 100要素の配列 {2, 2, ... , 2, 2} で上書き\n",
        "  cout << vec.at(99) << endl;\n",
        "}"
      ],
      "metadata": {
        "id": "_H8pQxLqmR8u",
        "outputId": "a1b71f4e-d2c3-446a-e84c-02e03a922dd4",
        "colab": {
          "base_uri": "https://localhost:8080/"
        }
      },
      "execution_count": null,
      "outputs": [
        {
          "output_type": "stream",
          "name": "stdout",
          "text": [
            "Writing temp.cpp\n"
          ]
        }
      ]
    },
    {
      "cell_type": "code",
      "source": [
        "!g++ temp.cpp -o temp;  ./temp"
      ],
      "metadata": {
        "id": "mVRJjMsamnIb",
        "outputId": "8afe5660-6580-41d6-ace3-559ec9e70a8a",
        "colab": {
          "base_uri": "https://localhost:8080/"
        }
      },
      "execution_count": null,
      "outputs": [
        {
          "output_type": "stream",
          "name": "stdout",
          "text": [
            "2\n"
          ]
        }
      ]
    },
    {
      "cell_type": "code",
      "source": [
        "# 実験\n",
        "# サイズの違う配列で上書き\n",
        "%%writefile temp.cpp\n",
        "#include <bits/stdc++.h>\n",
        "using namespace std;\n",
        " \n",
        "int main() {\n",
        "  vector<int> vec(3, 10); // {10, 10, 10} で初期化\n",
        "  vec = {10, 10, 1, 2, 3, 4} ;\n",
        "  cout << vec.at(5) << endl;\n",
        "}"
      ],
      "metadata": {
        "id": "yZG5nOXnnI41",
        "outputId": "d827affc-1ba8-48a7-ff8d-a790cdf575c4",
        "colab": {
          "base_uri": "https://localhost:8080/"
        }
      },
      "execution_count": null,
      "outputs": [
        {
          "output_type": "stream",
          "name": "stdout",
          "text": [
            "Overwriting temp.cpp\n"
          ]
        }
      ]
    },
    {
      "cell_type": "code",
      "source": [
        "!g++ temp.cpp -o temp;  ./temp"
      ],
      "metadata": {
        "id": "Dt_BsVcwneHc",
        "outputId": "c743ae6a-7438-49e6-b527-8716be1150f1",
        "colab": {
          "base_uri": "https://localhost:8080/"
        }
      },
      "execution_count": null,
      "outputs": [
        {
          "output_type": "stream",
          "name": "stdout",
          "text": [
            "4\n"
          ]
        }
      ]
    },
    {
      "cell_type": "code",
      "source": [
        "# 大きすぎる配列\n",
        "# AtCoderの問題の回答として提出してこのエラーが出た場合、`RE` または `MLE` となる\n",
        "%%writefile temp.cpp\n",
        "#include <bits/stdc++.h>\n",
        "using namespace std;\n",
        " \n",
        "int main() {\n",
        "  vector<int> v(1000000000);\n",
        "  cout << v[0] << endl;\n",
        "}"
      ],
      "metadata": {
        "id": "oXSRPVHUoMZJ",
        "outputId": "d69c7c32-ba6b-42ae-9ca4-ca2f4b18f958",
        "colab": {
          "base_uri": "https://localhost:8080/"
        }
      },
      "execution_count": null,
      "outputs": [
        {
          "output_type": "stream",
          "name": "stdout",
          "text": [
            "Overwriting temp.cpp\n"
          ]
        }
      ]
    },
    {
      "cell_type": "code",
      "source": [
        "!g++ temp.cpp -o temp;  ./temp"
      ],
      "metadata": {
        "id": "OMqv8BOwokBp",
        "outputId": "7926bd30-047d-407a-bc73-6eb6dce090c1",
        "colab": {
          "base_uri": "https://localhost:8080/"
        }
      },
      "execution_count": null,
      "outputs": [
        {
          "output_type": "stream",
          "name": "stdout",
          "text": [
            "tcmalloc: large alloc 4000006144 bytes == 0x563e3d5d8000 @  0x7fe7c4ae4887 0x563e3c78714a 0x563e3c787091 0x563e3c786fea 0x563e3c786edf 0x563e3c786d83 0x563e3c786c7a 0x563e3c786b13 0x7fe7c413ec87 0x563e3c7869fa\n",
            "0\n"
          ]
        }
      ]
    },
    {
      "cell_type": "markdown",
      "source": [
        "---\n",
        "問題   \n",
        "\n",
        "EX13 - 平均との差\n",
        "\n",
        "N人のテストの点数が与えられます。  \n",
        "それぞれの人の点数が平均点から何点離れているか計算してください。  \n",
        "切り捨て  \n",
        "\n",
        "入力例  \n",
        "10  \n",
        "53 21 99 83 75 40 33 62 18 100  \n",
        "=>    \n",
        "5  \n",
        "37  \n",
        "41  \n",
        "︙  "
      ],
      "metadata": {
        "id": "ODjCVSjDv-mf"
      }
    },
    {
      "cell_type": "code",
      "source": [
        "%%writefile temp.cpp\n",
        "#include <bits/stdc++.h>\n",
        "using namespace std;\n",
        "\n",
        "int main() {\n",
        "  int N, sum, ave;\n",
        "  cin >> N;\n",
        "  vector<int> vec(N);\n",
        "  sum = 0;\n",
        "  for (int i = 0; i < N; i++) {\n",
        "    cin >> vec.at(i);\n",
        "    sum += vec.at(i);\n",
        "  };\n",
        "  ave = sum / vec.size();\n",
        "  for (int i = 0; i < N; i++) {\n",
        "    if (vec.at(i) >= ave) cout << vec.at(i) - ave << endl;\n",
        "    else cout << ave - vec.at(i) << endl;\n",
        "  }\n",
        "}"
      ],
      "metadata": {
        "id": "fOu-baYTqY8O",
        "colab": {
          "base_uri": "https://localhost:8080/"
        },
        "outputId": "51ed70ca-18c2-4d76-f359-ce3e3d085edb"
      },
      "execution_count": null,
      "outputs": [
        {
          "output_type": "stream",
          "name": "stdout",
          "text": [
            "Overwriting temp.cpp\n"
          ]
        }
      ]
    },
    {
      "cell_type": "code",
      "source": [
        "!g++ temp.cpp -o temp; echo 10 53 21 99 83 75 40 33 62 18 100 |./temp"
      ],
      "metadata": {
        "id": "App3e7cu-HtD"
      },
      "execution_count": null,
      "outputs": []
    },
    {
      "cell_type": "markdown",
      "source": [
        "# 実験 無名関数"
      ],
      "metadata": {
        "id": "bXHa-xAigP8j"
      }
    },
    {
      "cell_type": "markdown",
      "source": [
        "---\n",
        "質問\n",
        "\n",
        "c++ で ラムダ式、無名関数は使えるか。\n",
        "\n",
        "ラムダ式を呼び出すには、関数と同じように () を使用する、とのこと。\n",
        "```\n",
        "int main(int argc, char *argv[]) {\n",
        "\t[](){}();\n",
        "}\n",
        "```"
      ],
      "metadata": {
        "id": "XCXbjVxub3xo"
      }
    },
    {
      "cell_type": "code",
      "source": [
        "# 実験 関数として使うには戻り値が指定できないと困る #=> 出来た\n",
        "%%writefile temp.cpp\n",
        "#include <bits/stdc++.h>\n",
        "using namespace std;\n",
        "\n",
        "int main(){\n",
        "    int a, b;\n",
        "    a = 3; b = 4;\n",
        "    auto hoge = [](int x, int y){return x * y;};\n",
        "    // auto hoge = [](int x, int y) -> int{return x * y;}; # `=>` を使った書き方もあるが、不要みたい\n",
        "\n",
        "    cout << hoge(a,b) << endl;\n",
        "    cout << [](int x, int y)int{return x * y;}(a,b) << endl;\n",
        "    cout << [](int x, int y) -> int{return x * y;}(a,b) << endl;\n",
        "    cout << [](int x, int y){int temp = x * y; return temp;}(a,b) << endl;\n",
        "}\n"
      ],
      "metadata": {
        "colab": {
          "base_uri": "https://localhost:8080/"
        },
        "id": "dlzXFDwEinzT",
        "outputId": "9f5e88a0-b0ef-4481-d633-09ffc3c840ec"
      },
      "execution_count": null,
      "outputs": [
        {
          "output_type": "stream",
          "name": "stdout",
          "text": [
            "Overwriting temp.cpp\n"
          ]
        }
      ]
    },
    {
      "cell_type": "code",
      "source": [
        "!g++ temp.cpp -o temp; ./temp"
      ],
      "metadata": {
        "colab": {
          "base_uri": "https://localhost:8080/"
        },
        "id": "ROn5HTvyjCBZ",
        "outputId": "7528ad5f-030e-4922-813b-76d87f53ed53"
      },
      "execution_count": null,
      "outputs": [
        {
          "output_type": "stream",
          "name": "stdout",
          "text": [
            "12\n",
            "12\n",
            "12\n",
            "12\n"
          ]
        }
      ]
    },
    {
      "cell_type": "code",
      "source": [
        "# 実験 無名関数の練習\n",
        "%%writefile temp.cpp\n",
        "#include <bits/stdc++.h>\n",
        "using namespace std;\n",
        "\n",
        "int main() {\n",
        "    int a, b;\n",
        "    a = 3;\n",
        "    b = 4;\n",
        "    auto mul = [](int x, int y){return x * y;};\n",
        "    cout << mul(a, b) << endl;\n",
        "}"
      ],
      "metadata": {
        "colab": {
          "base_uri": "https://localhost:8080/"
        },
        "id": "b-5DOanAcMwk",
        "outputId": "bd18a3ab-5ff9-424e-e718-c74eab7df00c"
      },
      "execution_count": null,
      "outputs": [
        {
          "output_type": "stream",
          "name": "stdout",
          "text": [
            "Overwriting temp.cpp\n"
          ]
        }
      ]
    },
    {
      "cell_type": "code",
      "source": [
        "!g++ temp.cpp -o temp; ./temp"
      ],
      "metadata": {
        "colab": {
          "base_uri": "https://localhost:8080/"
        },
        "id": "sZ1GG5Ayc1K7",
        "outputId": "851241d7-6238-4088-cd5b-c0c6887adf0e"
      },
      "execution_count": null,
      "outputs": [
        {
          "output_type": "stream",
          "name": "stdout",
          "text": [
            "12\n"
          ]
        }
      ]
    },
    {
      "cell_type": "code",
      "source": [
        "# 実験 string repeat する\n",
        "# 任意の文字列を任意の回数繰り返した文字列を作る関数を無名関数で作る\n",
        "%%writefile temp.cpp\n",
        "#include <bits/stdc++.h>\n",
        "using namespace std;\n",
        "\n",
        "int main() {\n",
        "  string str;\n",
        "  str = \"abc\";\n",
        "  int n = 3;\n",
        "  auto tempfunc = [](int x, string a){string acc=\"\"; for(int i =0;i < x; i++) acc += a; return acc; };\n",
        "\n",
        "  cout << tempfunc(3,str) << endl;\n",
        "  cout <<  [](int x, string a){string acc=\"\"; for(int i =0;i < x; i++) acc += a; return acc; }(4,\"defg\") << endl;\n",
        "\n",
        "}"
      ],
      "metadata": {
        "colab": {
          "base_uri": "https://localhost:8080/"
        },
        "id": "4jrCWQufMVHf",
        "outputId": "a21b442e-3b80-4df9-f57f-7d9c1ed15468"
      },
      "execution_count": null,
      "outputs": [
        {
          "output_type": "stream",
          "name": "stdout",
          "text": [
            "Overwriting temp.cpp\n"
          ]
        }
      ]
    },
    {
      "cell_type": "code",
      "source": [
        "!g++ temp.cpp -o temp; ./temp"
      ],
      "metadata": {
        "colab": {
          "base_uri": "https://localhost:8080/"
        },
        "id": "qjIdBAYbMVxc",
        "outputId": "6518d05d-61d2-47a7-8046-cdaed268ba75"
      },
      "execution_count": null,
      "outputs": [
        {
          "output_type": "stream",
          "name": "stdout",
          "text": [
            "abcabcabc\n",
            "defgdefgdefgdefg\n"
          ]
        }
      ]
    },
    {
      "cell_type": "markdown",
      "source": [
        "---\n",
        "問題  B - Picture Frame\n",
        "\n",
        "縦 H ピクセル、横 W ピクセルの画像があります。 各ピクセルは英小文字で表されます。 上から i 番目、左から j 番目のピクセルは a \n",
        "ij です。\n",
        "\n",
        "この画像の周囲 1 ピクセルを # で囲んだものを出力してください。\n",
        "\n",
        "```\n",
        "2 3\n",
        "abc\n",
        "arc\n",
        "```\n",
        "=>\n",
        "``` text\n",
        " #####\n",
        " #abc#\n",
        " #arc#\n",
        " #####\n",
        "```\n"
      ],
      "metadata": {
        "id": "LXL3FsJC5-Fv"
      }
    },
    {
      "cell_type": "code",
      "source": [
        "%%writefile temp.cpp\n",
        "#include <bits/stdc++.h>\n",
        "using namespace std;\n",
        "\n",
        "int main() {\n",
        "  int H, W;\n",
        "  cin >> H >> W;\n",
        "  for (int i = 0; i < H + 2; i++) {\n",
        "    if ((i == 0) || (i == H + 1)) cout << [](int n, string a) {string acc = \"\"; for (int i = 0;i < n+2; i++) acc += a; return acc; }(W, \"#\") << endl;\n",
        "    else {\n",
        "        string str;\n",
        "        cin >> str;\n",
        "        cout << \"#\" << str << \"#\" << endl;\n",
        "    }\n",
        "\n",
        "  }\n",
        "}"
      ],
      "metadata": {
        "id": "Qd5R-tWKBRsk",
        "colab": {
          "base_uri": "https://localhost:8080/"
        },
        "outputId": "7edd8678-61f2-49cf-cc54-ea18814af205"
      },
      "execution_count": null,
      "outputs": [
        {
          "output_type": "stream",
          "name": "stdout",
          "text": [
            "Overwriting temp.cpp\n"
          ]
        }
      ]
    },
    {
      "cell_type": "code",
      "source": [
        "!g++ temp.cpp -o temp; echo 2 3 abc def |./temp"
      ],
      "metadata": {
        "colab": {
          "base_uri": "https://localhost:8080/"
        },
        "id": "hzXZHV8_LGCL",
        "outputId": "dd6384bb-942d-4f52-9076-ed3b173d5ae1"
      },
      "execution_count": null,
      "outputs": [
        {
          "output_type": "stream",
          "name": "stdout",
          "text": [
            "#####\n",
            "#abc#\n",
            "#def#\n",
            "#####\n"
          ]
        }
      ]
    },
    {
      "cell_type": "markdown",
      "source": [
        "# 未解決というか後回しにして先に進もう"
      ],
      "metadata": {
        "id": "miSbqN_Koc9c"
      }
    },
    {
      "cell_type": "code",
      "source": [
        "\n",
        "B - Counting Roads\n",
        "B - Trained?\n",
        "難しめ\n",
        "B - Two Colors Card Game\n",
        "B - Card Game for Two\n",
        "B - Kagami Mochi\n",
        "\n"
      ],
      "metadata": {
        "id": "g1z-0yPh-aWk"
      },
      "execution_count": null,
      "outputs": []
    },
    {
      "cell_type": "markdown",
      "source": [
        "# いまここ"
      ],
      "metadata": {
        "id": "xqusElZeBjjo"
      }
    },
    {
      "cell_type": "markdown",
      "source": [
        "# 関数"
      ],
      "metadata": {
        "id": "JYNzgIiEorrS"
      }
    },
    {
      "cell_type": "code",
      "source": [
        "\n",
        "#include <bits/stdc++.h>\n",
        "using namespace std;\n",
        " \n",
        "// 関数定義\n",
        "int my_min(int x, int y) {\n",
        " \n",
        "  if (x < y) {\n",
        "    return x;\n",
        "  }\n",
        "  else {\n",
        "    return y;\n",
        "  }\n",
        " \n",
        "}\n",
        " \n",
        "int main() {\n",
        "  int answer = my_min(10, 5);\n",
        "  cout << answer << endl; // 5\n",
        "}\n",
        "\n",
        "\n"
      ],
      "metadata": {
        "id": "UQZ2xyJioq4Z"
      },
      "execution_count": null,
      "outputs": []
    },
    {
      "cell_type": "code",
      "source": [
        "\n",
        "実行結果\n",
        "5\n",
        "関数の動作\n",
        "次のスライドは上のプログラム全体の動作を説明したものです。\n",
        "\n",
        "\n",
        "my_min関数の動作説明 from APG4b\n",
        "関数の定義\n",
        "関数の定義はmain関数より前で行います。\n",
        "\n",
        "関数定義の記法は次のとおりです。\n",
        "\n",
        "Copy\n",
        "返り値の型 関数名(引数1の型 引数1の名前, 引数2の型 引数2の名前, ...) {\n",
        "  処理\n",
        "}返り値の型 関数名(引数1の型 引数1の名前, 引数2の型 引数2の名前, ...) {\n",
        "  処理\n",
        "}\n",
        "前の節で見たとおり、引数は「関数に渡す値」、返り値は「関数の結果の値」のことです。\n",
        "my_min関数はint型の引数を2つ受け取り、計算結果としてint型の値を返すので、定義は次のようになります。\n",
        "\n",
        "Copy\n",
        "int my_min(int x, int y) {\n",
        "}int my_min(int x, int y) {\n",
        "}\n",
        "呼び出し方はSTLの関数と同様です。\n",
        "次のように呼び出した場合、引数xに10が代入され、引数yに5が代入されます。\n",
        "\n",
        "Copy\n",
        "my_min(10, 5);my_min(10, 5);\n",
        "返り値の指定\n",
        "関数の返り値は、return文で指定します。\n",
        "\n",
        "Copy\n",
        "return 返り値;return 返り値;\n",
        "my_min関数では2つの引数x,yのうち小さい方を返すので、次のように書きます。\n",
        "\n",
        "Copy\n",
        "if (x < y) {\n",
        "  return x;\n",
        "}\n",
        "else {\n",
        "  return y;\n",
        "}if (x < y) {\n",
        "  return x;\n",
        "}\n",
        "else {\n",
        "  return y;\n",
        "}\n",
        "返り値が無い関数\n",
        "関数の返り値は無いこともあります。その場合は返り値の型にvoidを指定します。\n",
        "\n",
        "次のプログラムのhello関数は、引数の文字列の始めに\"Hello, \"をつけて出力します。\n",
        "返り値は必要ないのでvoid型を指定しています。\n",
        "\n",
        "Copy\n",
        "#include <bits/stdc++.h>\n",
        "using namespace std;\n",
        " \n",
        "// 返り値が無いのでvoidを指定\n",
        "void hello(string text) {\n",
        "  cout << \"Hello, \" << text << endl;\n",
        "  return;\n",
        "}\n",
        " \n",
        "int main() {\n",
        "  hello(\"Tom\");\n",
        "  hello(\"C++\");\n",
        "}\n",
        "#include <bits/stdc++.h>\n",
        "using namespace std;\n",
        "\n",
        "// 返り値が無いのでvoidを指定\n",
        "void hello(string text) {\n",
        "  cout << \"Hello, \" << text << endl;\n",
        "  return;\n",
        "}\n",
        "\n",
        "int main() {\n",
        "  hello(\"Tom\");\n",
        "  hello(\"C++\");\n",
        "}\n",
        "実行結果\n",
        "Hello, Tom\n",
        "Hello, C++\n",
        "返り値がvoid型である関数のreturn文は次のように書きます。\n",
        "\n",
        "Copy\n",
        "return;return;\n",
        "引数が無い関数\n",
        "関数の引数が不要な場合は、定義と呼び出しでは()だけを書きます。\n",
        "\n",
        "Copy\n",
        "#include <bits/stdc++.h>\n",
        "using namespace std;\n",
        " \n",
        "// 整数の入力を受け取って返す関数\n",
        "// 引数なし\n",
        "int input() {\n",
        "  int x;\n",
        "  cin >> x;\n",
        "  return x;\n",
        "}\n",
        " \n",
        "int main() {\n",
        "  int num = input(); // 引数なし\n",
        "  cout << num + 5 << endl;\n",
        "}\n",
        "#include <bits/stdc++.h>\n",
        "using namespace std;\n",
        "\n",
        "// 整数の入力を受け取って返す関数\n",
        "// 引数なし\n",
        "int input() {\n",
        "  int x;\n",
        "  cin >> x;\n",
        "  return x;\n",
        "}\n",
        "\n",
        "int main() {\n",
        "  int num = input(); // 引数なし\n",
        "  cout << num + 5 << endl;\n",
        "}\n",
        "入力\n",
        "10\n",
        "実行結果\n",
        "15\n",
        "関数を自分で定義する理由\n",
        "関数を自分で定義する理由はいくつかありますが、その中から3つを紹介します。\n",
        "\n",
        "プログラムの重複が避けられる\n",
        "処理のかたまりに名前をつけられる\n",
        "再帰関数が書ける\n",
        "大規模なプログラムを書く際は1.と2.による恩恵が大きいです。\n",
        "APG4bでは主に3.のために関数の紹介をしています。詳しくは「2.04.再帰」で説明します。\n",
        "\n",
        "注意点\n",
        "return文の動作\n",
        "処理がreturn文の行に到達した時点で関数の処理は終了します。\n",
        "\n",
        "一つの関数の中にreturn文が複数あっても問題ありませんが、return文より後に書いた処理は実行されないことに注意しましょう。\n",
        "\n",
        "次のプログラムでは、\"Hello, \"を出力した次の行でreturn;と書いているため、その後の処理は実行されません。\n",
        "\n",
        "Copy\n",
        "#include <bits/stdc++.h>\n",
        "using namespace std;\n",
        " \n",
        "void hello() {\n",
        "  cout << \"Hello, \";\n",
        "  return; // この行までしか実行されない\n",
        " \n",
        "  cout << \"world!\" << endl;\n",
        "  return;\n",
        "}\n",
        " \n",
        "int main() {\n",
        "  hello();\n",
        "}\n",
        "#include <bits/stdc++.h>\n",
        "using namespace std;\n",
        "\n",
        "void hello() {\n",
        "  cout << \"Hello, \";\n",
        "  return; // この行までしか実行されない\n",
        "\n",
        "  cout << \"world!\" << endl;\n",
        "  return;\n",
        "}\n",
        "\n",
        "int main() {\n",
        "  hello();\n",
        "}\n",
        "実行結果\n",
        "Hello, \n",
        "返り値の指定忘れ\n",
        "返り値がある関数でreturn文を忘れると、どんな値が返ってくるかは決まっていません。\n",
        "\n",
        "次のプログラムのmy_min関数は、if文の中が実行されない場合に返り値を指定していないので、0が返ってきています。\n",
        "\n",
        "Copy\n",
        "#include <bits/stdc++.h>\n",
        "using namespace std;\n",
        " \n",
        "int my_min(int x, int y) {\n",
        " \n",
        "  if (x < y) {\n",
        "    return x;\n",
        "  }\n",
        " \n",
        "  // x >= y のときのreturn忘れ\n",
        "}\n",
        " \n",
        "int main() {\n",
        "  int answer = my_min(10, 5);\n",
        "  cout << answer << endl;\n",
        "}\n",
        "#include <bits/stdc++.h>\n",
        "using namespace std;\n",
        "\n",
        "int my_min(int x, int y) {\n",
        "\n",
        "  if (x < y) {\n",
        "    return x;\n",
        "  }\n",
        "\n",
        "  // x >= y のときのreturn忘れ\n",
        "}\n",
        "\n",
        "int main() {\n",
        "  int answer = my_min(10, 5);\n",
        "  cout << answer << endl;\n",
        "}\n",
        "実行結果\n",
        "0\n",
        "このプログラムでは0が返ってきますが、0でない値が返ってくることもあります。\n",
        "\n",
        "返り値がある関数では、どのような引数のパターンでも必ずreturnするように注意しましょう。\n",
        "\n",
        "引数はコピーされる\n",
        "他の変数に値を代入したとき同様に、基本的に引数に渡した値はコピーされます。\n",
        "\n",
        "次のプログラムのadd5関数は関数内で引数に5を足していますが、呼び出し元の変数numの値は変化しません。\n",
        "\n",
        "Copy\n",
        "#include <bits/stdc++.h>\n",
        "using namespace std;\n",
        " \n",
        "// 引数の値に5を足して出力する関数\n",
        "void add5(int x) {\n",
        "  x += 5;\n",
        "  cout << x << endl;\n",
        "  return;\n",
        "}\n",
        " \n",
        "int main() {\n",
        "  int num = 10;\n",
        "  add5(num); // numの値は引数xにコピーされる\n",
        " \n",
        "  cout << num << endl; // numは10のまま\n",
        "}\n",
        " \n",
        "#include <bits/stdc++.h>\n",
        "using namespace std;\n",
        "\n",
        "// 引数の値に5を足して出力する関数\n",
        "void add5(int x) {\n",
        "  x += 5;\n",
        "  cout << x << endl;\n",
        "  return;\n",
        "}\n",
        "\n",
        "int main() {\n",
        "  int num = 10;\n",
        "  add5(num); // numの値は引数xにコピーされる\n",
        "\n",
        "  cout << num << endl; // numは10のまま\n",
        "}\n",
        "\n",
        "実行結果\n",
        "15\n",
        "10\n",
        "関数add5を呼び出す処理は次のプログラムと同じだと考えれば良いです。よくわからない人は1.04.変数と型の「変数はコピーされる」を読んでください。\n",
        "\n",
        "Copy\n",
        "int x = num; // xにnumの値10をコピー\n",
        "x += 5; // xとnumは別の変数なのでnumの値は変わらない\n",
        "cout << x << endl;int x = num; // xにnumの値10をコピー\n",
        "x += 5; // xとnumは別の変数なのでnumの値は変わらない\n",
        "cout << x << endl;\n",
        "なお、vectorやstringを引数にした場合も同様にコピーされます。\n",
        "\n",
        "関数が呼び出せる範囲\n",
        "関数は宣言した行より後でしか呼び出せません。\n",
        "\n",
        "次のプログラムでは、hello関数を定義した行より前でhello関数を呼び出しているため、コンパイルエラーが発生しています。\n",
        "\n",
        "Copy\n",
        "#include <bits/stdc++.h>\n",
        "using namespace std;\n",
        " \n",
        "int main() {\n",
        "  hello();\n",
        "}\n",
        " \n",
        "void hello() {\n",
        "  cout << \"hello!\" << endl;\n",
        "  return;\n",
        "}\n",
        "#include <bits/stdc++.h>\n",
        "using namespace std;\n",
        "\n",
        "int main() {\n",
        "  hello();\n",
        "}\n",
        "\n",
        "void hello() {\n",
        "  cout << \"hello!\" << endl;\n",
        "  return;\n",
        "}\n",
        "コンパイルエラー\n",
        "./Main.cpp: In function ‘int main()’:\n",
        "./Main.cpp:5:9: error: ‘hello’ was not declared in this scope\n",
        "   hello();\n",
        "         ^\n",
        "「5:11: error: ‘hello’ was not declared in this scope（5行11文字目 エラー: 'hello'はこのスコープでは宣言されていません）」というエラー文が表示されています。\n",
        "このエラーが発生した場合、コンパイルエラーが起きない順番に関数の定義を並び替えるか、後述する「プロトタイプ宣言」を利用しましょう。\n",
        "\n",
        "細かい話\n",
        "細かい話なので、飛ばして問題を解いても良いです。\n",
        "\n",
        "プロトタイプ宣言\n",
        "プロトタイプ宣言をすれば関数を定義する前に呼び出すことができます。\n",
        "プロトタイプ宣言とは、「関数の名前」と「引数と返り値の型」だけを先に宣言することです。\n",
        "\n",
        "Copy\n",
        "#include <bits/stdc++.h>\n",
        "using namespace std;\n",
        " \n",
        "// プロトタイプ宣言\n",
        "void hello();\n",
        " \n",
        "int main() {\n",
        "  // プロトタイプ宣言をしたので呼び出せる\n",
        "  hello();\n",
        "}\n",
        " \n",
        "void hello() {\n",
        "  cout << \"hello!\" << endl;\n",
        "  return;\n",
        "}\n",
        "#include <bits/stdc++.h>\n",
        "using namespace std;\n",
        "\n",
        "// プロトタイプ宣言\n",
        "void hello();\n",
        "\n",
        "int main() {\n",
        "  // プロトタイプ宣言をしたので呼び出せる\n",
        "  hello();\n",
        "}\n",
        "\n",
        "void hello() {\n",
        "  cout << \"hello!\" << endl;\n",
        "  return;\n",
        "}\n",
        "実行結果\n",
        "hello!\n",
        "プロトタイプ宣言の記法は次のようになります。\n",
        "\n",
        "Copy\n",
        "返り値の型 関数名(引数1の型 引数1の名前, 引数2の型 引数2の名前, ...);返り値の型 関数名(引数1の型 引数1の名前, 引数2の型 引数2の名前, ...);\n",
        "引数名の省略\n",
        "引数の名前は省略することもできます。\n",
        "例えば、my_min関数のプロトタイプ宣言は次のように書くこともできます。\n",
        "\n",
        "Copy\n",
        "int my_min(int, int);int my_min(int, int);\n",
        "returnの省略\n",
        "返り値がない場合、関数の末尾ではreturnを省略できます。\n",
        "\n",
        "Copy\n",
        "void hello(string text) {\n",
        "  cout << \"Hello, \" << text << \"!\" << endl;\n",
        "}void hello(string text) {\n",
        "  cout << \"Hello, \" << text << \"!\" << endl;\n",
        "}\n",
        "main関数\n",
        "はじめのプログラムから出てきていたmain関数も関数の一つです。\n",
        "ただし、main関数は特別扱いされていて、returnを省略した場合は必ず0が返るようになっています。\n",
        "\n",
        "Copy\n",
        "#include <bits/stdc++.h>\n",
        "using namespace std;\n",
        " \n",
        "int main() {\n",
        "  cout << \"Hello, world!\" << endl;\n",
        "  // return 0; と書くのと同じ\n",
        "}\n",
        "#include <bits/stdc++.h>\n",
        "using namespace std;\n",
        "\n",
        "int main() {\n",
        "  cout << \"Hello, world!\" << endl;\n",
        "  // return 0; と書くのと同じ\n",
        "}\n",
        "実行結果\n",
        "Hello, world!\n",
        "関数のオーバーロード\n",
        "「引数の型」または「引数の数」が異なる場合は、同じ名前の関数を定義することができます。これを関数のオーバーロードと言います。\n",
        "次のプログラムでは「2つの引数を取るmy_min関数」と「3つの引数を取るmy_min関数」を定義しています。\n",
        "\n",
        "Copy\n",
        "#include <bits/stdc++.h>\n",
        "using namespace std;\n",
        " \n",
        "// 2つの引数のうち最も小さい値を返す\n",
        "int my_min(int x, int y) {\n",
        "  if (x < y) {\n",
        "    return x;\n",
        "  }\n",
        "  else {\n",
        "    return y;\n",
        "  }\n",
        "}\n",
        " \n",
        "// 3つの引数のうち最も小さい値を返す\n",
        "int my_min(int x, int y, int z) {\n",
        "  if (x < y && x < z) {\n",
        "    return x;\n",
        "  }\n",
        "  else if (y < x && y < z) {\n",
        "    return y;\n",
        "  }\n",
        "  else {\n",
        "    return z;\n",
        "  }\n",
        "}\n",
        " \n",
        "int main() {\n",
        "  int answer = my_min(10, 5); // 2つの引数\n",
        "  cout << answer << endl; // 5\n",
        " \n",
        "  answer = my_min(3, 2, 5); // 3つの引数\n",
        "  cout << answer << endl; // 2\n",
        "}\n",
        "#include <bits/stdc++.h>\n",
        "using namespace std;\n",
        "\n",
        "// 2つの引数のうち最も小さい値を返す\n",
        "int my_min(int x, int y) {\n",
        "  if (x < y) {\n",
        "    return x;\n",
        "  }\n",
        "  else {\n",
        "    return y;\n",
        "  }\n",
        "}\n",
        "\n",
        "// 3つの引数のうち最も小さい値を返す\n",
        "int my_min(int x, int y, int z) {\n",
        "  if (x < y && x < z) {\n",
        "    return x;\n",
        "  }\n",
        "  else if (y < x && y < z) {\n",
        "    return y;\n",
        "  }\n",
        "  else {\n",
        "    return z;\n",
        "  }\n",
        "}\n",
        "\n",
        "int main() {\n",
        "  int answer = my_min(10, 5); // 2つの引数\n",
        "  cout << answer << endl; // 5\n",
        "\n",
        "  answer = my_min(3, 2, 5); // 3つの引数\n",
        "  cout << answer << endl; // 2\n",
        "}\n",
        "ただし、返り値の方が異なるだけではオーバーロードできないことに注意してください。\n",
        "\n",
        "複雑な引数の条件の指定\n",
        "STLのmin関数は、引数としてint型でもdouble型でも指定できます。\n",
        "これと似た挙動は関数のオーバーロードでも再現できますが、STLのmin関数は関数のオーバーロードではなく後の章で説明するテンプレートという機能を使って実装されています。\n",
        "テンプレートを用いると、引数の条件として「大小比較ができる型なら何でも良い」などの複雑なものを指定できます。\n",
        "\n",
        "変数のスコープ\n",
        "関数内の変数のスコープは、呼び出し元とは完全に分けられています。\n",
        "\n",
        "次のプログラムでは、test関数とmain関数の両方でnumという名前の変数を定義していますが、その2つは完全に別の変数として扱われます。\n",
        "\n",
        "Copy\n",
        "#include <bits/stdc++.h>\n",
        "using namespace std;\n",
        " \n",
        "void test() {\n",
        " \n",
        "  // test関数のスコープで変数numを宣言\n",
        "  int num = 5;\n",
        "  cout << num << endl; // 5\n",
        " \n",
        "  return;\n",
        "}\n",
        " \n",
        "int main() {\n",
        "  // main関数のスコープで変数numを宣言\n",
        "  int num = 10; \n",
        "  test();\n",
        "  cout << num << endl; // 10\n",
        "}\n",
        "#include <bits/stdc++.h>\n",
        "using namespace std;\n",
        "\n",
        "void test() {\n",
        "\n",
        "  // test関数のスコープで変数numを宣言\n",
        "  int num = 5;\n",
        "  cout << num << endl; // 5\n",
        "\n",
        "  return;\n",
        "}\n",
        "\n",
        "int main() {\n",
        "  // main関数のスコープで変数numを宣言\n",
        "  int num = 10; \n",
        "  test();\n",
        "  cout << num << endl; // 10\n",
        "}\n",
        "実行結果\n",
        "5\n",
        "10\n",
        "2章の内容の紹介\n",
        "2章で扱う内容で、関数と関わりが深いものについて2つだけ簡単に紹介します。\n",
        "\n",
        "飛ばして問題を解いても良いです。読む場合も、今はしっかりと理解する必要はありません。\n",
        "\n",
        "参照\n",
        "引数の値をコピーさせないようにすることもできます。\n",
        "その場合は参照という機能を引数で利用します。これについては2.04.参照で詳しく説明します。\n",
        "\n",
        "Copy\n",
        "#include <bits/stdc++.h>\n",
        "using namespace std;\n",
        " \n",
        "// 型に&をつけると参照になる\n",
        "void change(int &n, vector<int> &vec) {\n",
        "  n = 1;\n",
        "  vec.at(0) = 1;\n",
        "  return;\n",
        "}\n",
        " \n",
        "int main() {\n",
        "  int x = 5;\n",
        "  vector<int> v = {10, 10, 10};\n",
        " \n",
        "  change(x, v);\n",
        " \n",
        "  cout << x << endl;\n",
        "  cout << v.at(0) << endl;\n",
        "}\n",
        "#include <bits/stdc++.h>\n",
        "using namespace std;\n",
        "\n",
        "// 型に&をつけると参照になる\n",
        "void change(int &n, vector<int> &vec) {\n",
        "  n = 1;\n",
        "  vec.at(0) = 1;\n",
        "  return;\n",
        "}\n",
        "\n",
        "int main() {\n",
        "  int x = 5;\n",
        "  vector<int> v = {10, 10, 10};\n",
        "\n",
        "  change(x, v);\n",
        "\n",
        "  cout << x << endl;\n",
        "  cout << v.at(0) << endl;\n",
        "}\n",
        "実行結果\n",
        "1\n",
        "1\n",
        "再帰関数\n",
        "関数の中で同じ関数を呼び出すこともできます。\n",
        "このような関数を再帰関数と言います。これについては2.05.再帰で詳しく説明します。\n",
        "\n",
        "Copy\n",
        "#include <bits/stdc++.h>\n",
        "using namespace std;\n",
        " \n",
        "// 0からnまでの和を求める関数sum\n",
        "int sum(int n) {\n",
        "  if (n == 0) {\n",
        "    return 0;\n",
        "  }\n",
        "  return n + sum(n - 1);\n",
        "}\n",
        " \n",
        "int main() {\n",
        "  cout << sum(3) << endl;\n",
        "}\n",
        "#include <bits/stdc++.h>\n",
        "using namespace std;\n",
        "\n",
        "// 0からnまでの和を求める関数sum\n",
        "int sum(int n) {\n",
        "  if (n == 0) {\n",
        "    return 0;\n",
        "  }\n",
        "  return n + sum(n - 1);\n",
        "}\n",
        "\n",
        "int main() {\n",
        "  cout << sum(3) << endl;\n",
        "}\n",
        "実行結果\n",
        "6\n",
        "問題\n",
        "リンク先の問題を解いてください。\n",
        "\n",
        "EX15.三人兄弟へのプレゼント\n",
        "前のページ | 次のページ\n",
        "\n",
        "FacebookTwitterHatena共有\n",
        "ルール 用語集\n",
        "利用規約 プライバシーポリシー 個人情報保護方針 企業情報 よくある質問 お問い合わせ 資料請求\n",
        "Copyright Since 2012 ©AtCoder Inc. All rights reserved."
      ],
      "metadata": {
        "id": "bUgLKtTCURoC"
      },
      "execution_count": null,
      "outputs": []
    }
  ]
}