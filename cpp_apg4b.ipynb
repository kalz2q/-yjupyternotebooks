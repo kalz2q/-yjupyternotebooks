{
  "nbformat": 4,
  "nbformat_minor": 0,
  "metadata": {
    "colab": {
      "name": "cpp_apg4b.ipynb",
      "provenance": [],
      "toc_visible": true,
      "authorship_tag": "ABX9TyNfEByfKXIBiZYcobjXacqI",
      "include_colab_link": true
    },
    "kernelspec": {
      "name": "python3",
      "display_name": "Python 3"
    },
    "language_info": {
      "name": "python"
    }
  },
  "cells": [
    {
      "cell_type": "markdown",
      "metadata": {
        "id": "view-in-github",
        "colab_type": "text"
      },
      "source": [
        "<a href=\"https://colab.research.google.com/github/kalz2q/mycolabnotebooks/blob/master/cpp_apg4b.ipynb\" target=\"_parent\"><img src=\"https://colab.research.google.com/assets/colab-badge.svg\" alt=\"Open In Colab\"/></a>"
      ]
    },
    {
      "cell_type": "markdown",
      "source": [
        "# メモ\n",
        "\n",
        "AtCoder Programming Guide for Beginners APG4b\n",
        "\n",
        "の練習問題をやる。\n",
        "\n",
        "https://atcoder.jp/contests/apg4b"
      ],
      "metadata": {
        "id": "8kHv-8CgciQc"
      }
    },
    {
      "cell_type": "markdown",
      "source": [
        "# 目次  \n",
        "\n",
        "1.00.はじめに  \n",
        "1.01.出力とコメント | EX1  \n",
        "1.02.プログラムの書き方とエラー | EX2  \n",
        "1.03.四則演算と優先順位 | EX3  \n",
        "1.04.変数と型 | EX4  \n",
        "1.05.プログラムの実行順序と入力 | EX5  \n",
        "1.06.if文・比較演算子・論理演算子 | EX6  \n",
        "1.07.条件式の結果とbool型 | EX7  \n",
        "1.08.変数のスコープ | EX8  \n",
        "1.09.複合代入演算子 | EX9  \n",
        "1.10.while文 | EX10  \n",
        "1.11.for文・break・continue | EX11  \n",
        "1.12.文字列と文字 | EX12 <= このあたりから普通の言語と違う  \n",
        "1.13.配列 | EX13  <= vector を使っている\n",
        "1.14.STLの関数 | EX14  \n",
        "1.15.関数 | EX15  \n",
        "  \n",
        "2.00.第2章について  \n",
        "2.01.ループの書き方と範囲for文 | EX16  \n",
        "2.02.多重ループ | EX17  \n",
        "2.03.多次元配列 | EX18  \n",
        "2.04.参照 | EX19  \n",
        "2.05.再帰関数 | EX20  \n",
        "2.06.計算量 | EX21  \n",
        "  \n",
        "3.00.第3章について  \n",
        "3.01.数値型  \n",
        "3.02.pair/tupleとauto | EX22  \n",
        "3.03.STLのコンテナ | EX23  \n",
        "3.04.構造体 | EX24  \n",
        "3.05.ビット演算 | EX25  \n",
        "3.06.その他の機能 | EX26  \n",
        "  \n",
        "4.00.第4章について  \n",
        "4.01.includeディレクティブ  \n",
        "4.02.名前空間  \n",
        "4.03.テンプレート  \n",
        "4.04.イテレータ  \n",
        "4.05.ポインタ  \n",
        "  \n",
        "付録1.コードテストの使い方  \n",
        "付録2.提出結果の見方  \n",
        "付録3.コンパイルエラー集  \n",
        "付録4.ループの裏技repマクロ  "
      ],
      "metadata": {
        "id": "5sm38Af7dBS3"
      }
    },
    {
      "cell_type": "markdown",
      "source": [
        "bits/stdc++.h の利用\n",
        "\n",
        "`#include <bits/stdc++.h>` で iostream, string, vector とか云々。\n",
        "\n",
        "`std::` と `#include` の勉強はしないでよい。とりあえず。\n",
        "\n",
        "main関数の `return 0` の省略\n",
        "\n",
        "計算量の解説\n",
        "\n",
        "repマクロの紹介\n",
        "\n",
        "`#define rep(i, n) for (int i = 0; i < (int)(n); i++)`\n"
      ],
      "metadata": {
        "id": "uUCd4AI-zp0n"
      }
    },
    {
      "cell_type": "markdown",
      "source": [
        "---\n",
        "例題 ハローワールド"
      ],
      "metadata": {
        "id": "jHYDOMmr_WMq"
      }
    },
    {
      "cell_type": "code",
      "source": [
        "%%writefile temp.cpp\n",
        "#include <bits/stdc++.h>\n",
        "using namespace std;\n",
        "\n",
        "int main() {\n",
        "  cout << \"Hello, world!\" << endl;\n",
        "}"
      ],
      "metadata": {
        "id": "xOjbdzyZ_5Mh",
        "outputId": "351760ed-8eb9-454c-bacf-d6eab4b268be",
        "colab": {
          "base_uri": "https://localhost:8080/"
        }
      },
      "execution_count": null,
      "outputs": [
        {
          "output_type": "stream",
          "name": "stdout",
          "text": [
            "Overwriting temp.cpp\n"
          ]
        }
      ]
    },
    {
      "cell_type": "code",
      "source": [
        "!g++ temp.cpp -o temp; ./temp"
      ],
      "metadata": {
        "id": "IIpSvJjqAFaL",
        "outputId": "4aa6606b-b4d0-475a-fb23-f74f353ae718",
        "colab": {
          "base_uri": "https://localhost:8080/"
        }
      },
      "execution_count": null,
      "outputs": [
        {
          "output_type": "stream",
          "name": "stdout",
          "text": [
            "Hello, world!\n"
          ]
        }
      ]
    },
    {
      "cell_type": "code",
      "source": [
        "# ハローワールドのプログラムで return を入れてみた\n",
        "# return 0 としないとエラーになる\n",
        "# セミコロンも必要、javascript みたいに補ってくれない\n",
        "# int main を void main にしたらエラーになった\n",
        "# int main(void) は通った\n",
        "# 質問 int main(int argc, char *argv[]) はどうか #=> 実験してみよう\n",
        "%%writefile temp.cpp\n",
        "#include <bits/stdc++.h>\n",
        "using namespace std;\n",
        "\n",
        "int main(int argc, char *argv[]) {\n",
        "  cout << argc << endl;\n",
        "  cout << argv[2] << endl;\n",
        "}\n",
        "\n"
      ],
      "metadata": {
        "id": "N6JoT1wTAeIh",
        "outputId": "35e9be22-b3d7-4851-e247-19da42d3fde2",
        "colab": {
          "base_uri": "https://localhost:8080/"
        }
      },
      "execution_count": null,
      "outputs": [
        {
          "output_type": "stream",
          "name": "stdout",
          "text": [
            "Overwriting temp.cpp\n"
          ]
        }
      ]
    },
    {
      "cell_type": "code",
      "source": [
        "!g++ temp.cpp -o temp; ./temp this is a pen"
      ],
      "metadata": {
        "id": "CjMZ9oCAB6dn",
        "outputId": "347d12e9-2f90-4112-84c2-7a93d96eb931",
        "colab": {
          "base_uri": "https://localhost:8080/"
        }
      },
      "execution_count": null,
      "outputs": [
        {
          "output_type": "stream",
          "name": "stdout",
          "text": [
            "5\n",
            "is\n"
          ]
        }
      ]
    },
    {
      "cell_type": "code",
      "source": [
        "# 問題\n",
        "# EX1 - コードテストと出力の練習 \n",
        "# こんにちは AtCoder と出力する\n",
        "# 改行を入れる\n",
        "%%writefile temp.cpp\n",
        "#include <bits/stdc++.h>\n",
        "using namespace std;\n",
        "\n",
        "int main() {\n",
        "  cout << \"こんにちは\" << endl;\n",
        "  cout << \"AtCoder\" << endl;\n",
        "}\n"
      ],
      "metadata": {
        "id": "OHELUdVTDN3L",
        "outputId": "6dad88c7-a84d-4466-ff1e-4566f91cfebc",
        "colab": {
          "base_uri": "https://localhost:8080/"
        }
      },
      "execution_count": null,
      "outputs": [
        {
          "output_type": "stream",
          "name": "stdout",
          "text": [
            "Overwriting temp.cpp\n"
          ]
        }
      ]
    },
    {
      "cell_type": "code",
      "source": [
        "!g++ temp.cpp -o temp; ./temp"
      ],
      "metadata": {
        "id": "uXOX3kB8Dw3L",
        "outputId": "e0b9e957-4a1d-4a9c-8861-5f5853790fa4",
        "colab": {
          "base_uri": "https://localhost:8080/"
        }
      },
      "execution_count": null,
      "outputs": [
        {
          "output_type": "stream",
          "name": "stdout",
          "text": [
            "こんにちは\n",
            "AtCoder\n"
          ]
        }
      ]
    },
    {
      "cell_type": "code",
      "source": [
        "# 問題\n",
        "# EX2 - エラーの修正 \n",
        "# 以下のプログラムは修正後\n",
        "%%writefile temp.cpp\n",
        "#include <bits/stdc++.h>\n",
        "using namespace std;\n",
        "\n",
        "int main() {\n",
        "  cout << \"いつも\" << 2525 << endl;\n",
        "  cout << \"AtCoderくん\" << endl;\n",
        "}\n"
      ],
      "metadata": {
        "id": "kofG4JEGD6nl",
        "outputId": "077ba3cf-4904-4d5c-fcb4-4419e2c30a1d",
        "colab": {
          "base_uri": "https://localhost:8080/"
        }
      },
      "execution_count": null,
      "outputs": [
        {
          "output_type": "stream",
          "name": "stdout",
          "text": [
            "Writing temp.cpp\n"
          ]
        }
      ]
    },
    {
      "cell_type": "code",
      "source": [
        "!g++ temp.cpp -o temp; ./temp"
      ],
      "metadata": {
        "id": "4YT34nh8EjLU",
        "outputId": "3c0b083c-0a95-430b-a5c2-1aa83ad882d0",
        "colab": {
          "base_uri": "https://localhost:8080/"
        }
      },
      "execution_count": null,
      "outputs": [
        {
          "output_type": "stream",
          "name": "stdout",
          "text": [
            "いつも2525\n",
            "AtCoderくん\n"
          ]
        }
      ]
    },
    {
      "cell_type": "code",
      "source": [
        "# 問題\n",
        "# EX3 - 計算問題 \n",
        "# 公式を使って1から100までの和を求める\n",
        "%%writefile temp.cpp\n",
        "#include <bits/stdc++.h>\n",
        "using namespace std;\n",
        "int main() {\n",
        "  cout <<  (100 + 1) * 100 / 2 << endl;\n",
        "}\n"
      ],
      "metadata": {
        "id": "_pKMrFEUFw3t",
        "outputId": "40e88645-016f-4477-8a56-4cdeefbe59fd",
        "colab": {
          "base_uri": "https://localhost:8080/"
        }
      },
      "execution_count": null,
      "outputs": [
        {
          "output_type": "stream",
          "name": "stdout",
          "text": [
            "Overwriting temp.cpp\n"
          ]
        }
      ]
    },
    {
      "cell_type": "code",
      "source": [
        "!g++ temp.cpp -o temp; ./temp"
      ],
      "metadata": {
        "id": "hkwwL69sHAUX",
        "outputId": "e565a3a8-1daa-4deb-9734-fcc77c822ced",
        "colab": {
          "base_uri": "https://localhost:8080/"
        }
      },
      "execution_count": null,
      "outputs": [
        {
          "output_type": "stream",
          "name": "stdout",
          "text": [
            "5050\n"
          ]
        }
      ]
    },
    {
      "cell_type": "code",
      "source": [
        "# 変数\n",
        "# 例題\n",
        "%%writefile temp.cpp\n",
        "#include <bits/stdc++.h>\n",
        "using namespace std;\n",
        "\n",
        "int main() {\n",
        "\n",
        "  int name;\n",
        "\n",
        "  name = 10;\n",
        "\n",
        "  cout << name << endl;     // 10\n",
        "  cout << name + 2 << endl; // 10 + 2 → 12\n",
        "  cout << name * 3 << endl; // 10 * 3 → 30\n",
        "}\n"
      ],
      "metadata": {
        "id": "iNdsPMrCHwsx",
        "outputId": "4257848b-c12c-4fa1-ddaf-c6dd702de8db",
        "colab": {
          "base_uri": "https://localhost:8080/"
        }
      },
      "execution_count": null,
      "outputs": [
        {
          "output_type": "stream",
          "name": "stdout",
          "text": [
            "Overwriting temp.cpp\n"
          ]
        }
      ]
    },
    {
      "cell_type": "code",
      "source": [
        "!g++ temp.cpp -o temp; ./temp"
      ],
      "metadata": {
        "id": "XQ_o3ZmQH56c",
        "outputId": "2fa48f38-0046-4fed-899c-d57b3e3a0f38",
        "colab": {
          "base_uri": "https://localhost:8080/"
        }
      },
      "execution_count": null,
      "outputs": [
        {
          "output_type": "stream",
          "name": "stdout",
          "text": [
            "10\n",
            "12\n",
            "30\n"
          ]
        }
      ]
    },
    {
      "cell_type": "code",
      "source": [
        "# 変数の初期化\n",
        "%%writefile temp.cpp\n",
        "#include <bits/stdc++.h>\n",
        "using namespace std;\n",
        "\n",
        "int main() {\n",
        "\n",
        "  int name = 10;\n",
        "\n",
        "  cout << name << endl;\n",
        "}\n"
      ],
      "metadata": {
        "id": "qdAaNCZhKbPB",
        "outputId": "8d428ed3-df50-4577-910b-5720b27ad4b1",
        "colab": {
          "base_uri": "https://localhost:8080/"
        }
      },
      "execution_count": null,
      "outputs": [
        {
          "output_type": "stream",
          "name": "stdout",
          "text": [
            "Overwriting temp.cpp\n"
          ]
        }
      ]
    },
    {
      "cell_type": "code",
      "source": [
        "!g++ temp.cpp -o temp; ./temp"
      ],
      "metadata": {
        "id": "4HIgJJIzKhL9",
        "outputId": "05366d9c-3188-4363-c5e6-98d7c3746a1e",
        "colab": {
          "base_uri": "https://localhost:8080/"
        }
      },
      "execution_count": null,
      "outputs": [
        {
          "output_type": "stream",
          "name": "stdout",
          "text": [
            "10\n"
          ]
        }
      ]
    },
    {
      "cell_type": "code",
      "source": [
        "# 変数はコピーされ、元の変数は影響を受けない\n",
        "%%writefile temp.cpp\n",
        "#include <bits/stdc++.h>\n",
        "using namespace std;\n",
        "\n",
        "int main() {\n",
        "\n",
        "  int a = 10;\n",
        "  int b;\n",
        "  b = a; // aの値がコピーされ、bに10が代入される\n",
        "  a = 5; // aの値は5に書き換わるが、bは10のまま\n",
        "\n",
        "  cout << a << endl; // 5\n",
        "  cout << b << endl; // 10\n",
        "}\n"
      ],
      "metadata": {
        "id": "3lOKk4ivKxVC",
        "outputId": "dc03153f-b7f8-4e8c-e379-8549eeca5f5b",
        "colab": {
          "base_uri": "https://localhost:8080/"
        }
      },
      "execution_count": null,
      "outputs": [
        {
          "output_type": "stream",
          "name": "stdout",
          "text": [
            "Overwriting temp.cpp\n"
          ]
        }
      ]
    },
    {
      "cell_type": "code",
      "source": [
        "!g++ temp.cpp -o temp; ./temp"
      ],
      "metadata": {
        "id": "dv3rlAghK4UK",
        "outputId": "a9be084d-e2a5-4555-b23c-a9be9dba3752",
        "colab": {
          "base_uri": "https://localhost:8080/"
        }
      },
      "execution_count": null,
      "outputs": [
        {
          "output_type": "stream",
          "name": "stdout",
          "text": [
            "5\n",
            "10\n"
          ]
        }
      ]
    },
    {
      "cell_type": "code",
      "source": [
        "# 変数を同時に宣言\n",
        "%%writefile temp.cpp\n",
        "#include <bits/stdc++.h>\n",
        "using namespace std;\n",
        "\n",
        "int main() {\n",
        "\n",
        "  int a = 10, b = 5;\n",
        "\n",
        "  cout << a << endl;\n",
        "  cout << b << endl;\n",
        "}\n"
      ],
      "metadata": {
        "id": "QAmgYM1fLAIt",
        "outputId": "b45dcb75-62df-4daa-85dd-ba39c0d4f28f",
        "colab": {
          "base_uri": "https://localhost:8080/"
        }
      },
      "execution_count": null,
      "outputs": [
        {
          "output_type": "stream",
          "name": "stdout",
          "text": [
            "Overwriting temp.cpp\n"
          ]
        }
      ]
    },
    {
      "cell_type": "code",
      "source": [
        "!g++ temp.cpp -o temp; ./temp"
      ],
      "metadata": {
        "id": "o-5jJpPbLSr1",
        "outputId": "0b4485bf-89e4-4b32-d95e-eaf137709f22",
        "colab": {
          "base_uri": "https://localhost:8080/"
        }
      },
      "execution_count": null,
      "outputs": [
        {
          "output_type": "stream",
          "name": "stdout",
          "text": [
            "10\n",
            "5\n"
          ]
        }
      ]
    },
    {
      "cell_type": "code",
      "source": [
        "# メモ\n",
        "# c++ の変数は camelCase と理解していたが、この tutorial では python みたいな anake_case が出てきた\n",
        "# `_` が使えると言う説明のためかも"
      ],
      "metadata": {
        "id": "AjCuwk-mL983"
      },
      "execution_count": null,
      "outputs": []
    },
    {
      "cell_type": "code",
      "source": [
        "# メモ\n",
        "# int , double, string と呼ぶ、float とは言わないらしい\n"
      ],
      "metadata": {
        "id": "IU8rnfNmMtle"
      },
      "execution_count": null,
      "outputs": []
    },
    {
      "cell_type": "code",
      "source": [
        "# 型変換\n",
        "%%writefile temp.cpp\n",
        "#include <bits/stdc++.h>\n",
        "using namespace std;\n",
        "\n",
        "int main() {\n",
        "  int i = 30;\n",
        "  double d = 1.5;\n",
        "  string s = \"Hello\";\n",
        "\n",
        "  cout << i + d << endl; // 31.5\n",
        "  cout << i * d << endl; // 45\n",
        "  cout << 45 / 2 << endl; // 22 小数点以下切り捨て\n",
        "  cout << i * d / 2 << endl; // 22.5 小数点以下も残る\n",
        "  /*\n",
        "  以下の処理はコンパイルエラー\n",
        "  cout << s + i << endl; // string型とint型\n",
        "  cout << s * i << endl; // string型とint型\n",
        "  cout << s + d << endl; // string型とdouble型\n",
        "  */\n",
        "}\n"
      ],
      "metadata": {
        "id": "b1DxVz9ONZDI",
        "outputId": "49e0b352-46c9-418a-caeb-3ec9ba3b6c82",
        "colab": {
          "base_uri": "https://localhost:8080/"
        }
      },
      "execution_count": null,
      "outputs": [
        {
          "output_type": "stream",
          "name": "stdout",
          "text": [
            "Overwriting temp.cpp\n"
          ]
        }
      ]
    },
    {
      "cell_type": "code",
      "source": [
        "!g++ temp.cpp -o temp; ./temp"
      ],
      "metadata": {
        "id": "D_4fvex5NfVz",
        "outputId": "1d4df89b-e554-42f6-d26b-a792c5adf39f",
        "colab": {
          "base_uri": "https://localhost:8080/"
        }
      },
      "execution_count": null,
      "outputs": [
        {
          "output_type": "stream",
          "name": "stdout",
          "text": [
            "31.5\n",
            "45\n",
            "22\n",
            "22.5\n"
          ]
        }
      ]
    },
    {
      "cell_type": "code",
      "source": [
        "# 問題\n",
        "# EX4 - ◯年は何秒？ \n",
        "# int型の変数secondsは一年の秒数\n",
        "# これを利用して 1年は何秒か,2年は何秒か,5年は何秒か,10年は何秒かを一行ずつ表示する\n",
        "%%writefile temp.cpp\n",
        "#include <bits/stdc++.h>\n",
        "using namespace std;\n",
        "\n",
        "int main() {\n",
        "  // 一年の秒数\n",
        "  int seconds = 365 * 24 * 60 * 60;\n",
        "\n",
        "  cout << seconds  << endl;\n",
        "  cout << seconds * 2 << endl;\n",
        "  cout << seconds * 5 << endl;\n",
        "  cout << seconds * 10  << endl;\n",
        "}\n"
      ],
      "metadata": {
        "id": "6meYa14yODkD",
        "outputId": "869fe0aa-010e-449e-9f9c-4eb5140325ad",
        "colab": {
          "base_uri": "https://localhost:8080/"
        }
      },
      "execution_count": null,
      "outputs": [
        {
          "output_type": "stream",
          "name": "stdout",
          "text": [
            "Overwriting temp.cpp\n"
          ]
        }
      ]
    },
    {
      "cell_type": "code",
      "source": [
        "!g++ temp.cpp -o temp; ./temp"
      ],
      "metadata": {
        "id": "XYsGzo8OOzDM",
        "outputId": "9d85ab44-4a53-419f-9c38-c1870dbb9d0b",
        "colab": {
          "base_uri": "https://localhost:8080/"
        }
      },
      "execution_count": null,
      "outputs": [
        {
          "output_type": "stream",
          "name": "stdout",
          "text": [
            "31536000\n",
            "63072000\n",
            "157680000\n",
            "315360000\n"
          ]
        }
      ]
    },
    {
      "cell_type": "code",
      "source": [
        "# プログラムの実行時にデータの入力を受け取る方法\n",
        "# 入力 Hello 1.5 => Hello, 1.5 と出力\n",
        "%%writefile temp.cpp\n",
        "#include <bits/stdc++.h>\n",
        "using namespace std;\n",
        "\n",
        "int main() {\n",
        "  string text;\n",
        "  double d;\n",
        "  cin >> text;\n",
        "  cin >> d;\n",
        "  cout << text << \", \" << d << endl;\n",
        "}\n"
      ],
      "metadata": {
        "id": "NtiLJkXEPbsy",
        "outputId": "208b2424-38d5-4fce-f87c-22bbf2539ead",
        "colab": {
          "base_uri": "https://localhost:8080/"
        }
      },
      "execution_count": null,
      "outputs": [
        {
          "output_type": "stream",
          "name": "stdout",
          "text": [
            "Overwriting temp.cpp\n"
          ]
        }
      ]
    },
    {
      "cell_type": "code",
      "source": [
        "!g++ temp.cpp -o temp; echo Hello 1.5 | ./temp"
      ],
      "metadata": {
        "id": "5BIxpEUgPvNZ",
        "outputId": "d97eff3a-2850-4362-a227-95eb23025485",
        "colab": {
          "base_uri": "https://localhost:8080/"
        }
      },
      "execution_count": null,
      "outputs": [
        {
          "output_type": "stream",
          "name": "stdout",
          "text": [
            "Hello, 1.5\n"
          ]
        }
      ]
    },
    {
      "cell_type": "code",
      "source": [
        "# 問題\n",
        "# EX5 - A足すB問題 \n",
        "# 2つの整数A, Bが与えられます。A+Bの計算結果を出力してください。\n",
        "%%writefile temp.cpp\n",
        "#include <bits/stdc++.h>\n",
        "using namespace std;\n",
        " \n",
        "int main() {\n",
        "  int A, B;\n",
        "  cin >> A >> B;\n",
        "  cout << A+B << endl;\n",
        "}"
      ],
      "metadata": {
        "id": "pHVa1nn4-6OS",
        "outputId": "5cbed93e-b84f-4dd4-b377-940d330c9416",
        "colab": {
          "base_uri": "https://localhost:8080/"
        }
      },
      "execution_count": 1,
      "outputs": [
        {
          "output_type": "stream",
          "name": "stdout",
          "text": [
            "Writing temp.cpp\n"
          ]
        }
      ]
    },
    {
      "cell_type": "code",
      "source": [
        "!g++ temp.cpp -o temp; echo 1 2 | ./temp"
      ],
      "metadata": {
        "id": "FvNljIIN_Q5M"
      },
      "execution_count": null,
      "outputs": []
    },
    {
      "cell_type": "code",
      "source": [
        "# 問題\n",
        "# A - New Year \n",
        "# 12 月 30 日の M 時から次の年になるまでは何時間か、求めてください。\n",
        "%%writefile temp.cpp\n",
        "#include <bits/stdc++.h>\n",
        "using namespace std;\n",
        " \n",
        "int main() {\n",
        "  int M;\n",
        "  cin >> M;\n",
        "  cout << 48 - M << endl;\n",
        "}"
      ],
      "metadata": {
        "id": "Knte-0NU_h1Z",
        "outputId": "9aff3576-1016-40f2-d799-29476d27797c",
        "colab": {
          "base_uri": "https://localhost:8080/"
        }
      },
      "execution_count": 3,
      "outputs": [
        {
          "output_type": "stream",
          "name": "stdout",
          "text": [
            "Overwriting temp.cpp\n"
          ]
        }
      ]
    },
    {
      "cell_type": "code",
      "source": [
        "!g++ temp.cpp -o temp; echo 21 | ./temp"
      ],
      "metadata": {
        "id": "Npg1lKKg_3EQ",
        "outputId": "cdcb43f3-113e-4c20-ca22-a54201ffe845",
        "colab": {
          "base_uri": "https://localhost:8080/"
        }
      },
      "execution_count": 4,
      "outputs": [
        {
          "output_type": "stream",
          "name": "stdout",
          "text": [
            "27\n"
          ]
        }
      ]
    },
    {
      "cell_type": "code",
      "source": [
        "# 問題\n",
        "# A - Rating Goal \n",
        "# 現在のレーティングを a とする。\n",
        "# 次のコンテストで, パフォーマンス b を取ったとする。\n",
        "# そのとき, レーティングは a と b の平均まで変化する。\n",
        "# 高橋君は, 現在のレーティングが R で, 次のコンテストでレーティングをちょうど G にした\n",
        "# そのとき, 高橋君が取るべきパフォーマンスを求めなさい。\n",
        "%%writefile temp.cpp\n",
        "#include <bits/stdc++.h>\n",
        "using namespace std;\n",
        " \n",
        "int main() {\n",
        "  int R, G;\n",
        "  cin >> R >> G;\n",
        "  // (R + performance ) / 2 = G より performance = G * 2 - R\n",
        "  cout << G * 2 - R << endl;\n",
        "}"
      ],
      "metadata": {
        "id": "xUkTz452ASP5",
        "outputId": "98a81f41-5410-42be-8a46-280583800dd8",
        "colab": {
          "base_uri": "https://localhost:8080/"
        }
      },
      "execution_count": 9,
      "outputs": [
        {
          "output_type": "stream",
          "name": "stdout",
          "text": [
            "Overwriting temp.cpp\n"
          ]
        }
      ]
    },
    {
      "cell_type": "code",
      "source": [
        "!g++ temp.cpp -o temp; echo 2002 2017 | ./temp"
      ],
      "metadata": {
        "id": "s-_VjduUBLyU",
        "outputId": "bd950668-b01b-44d0-9c4e-6748901b12fd",
        "colab": {
          "base_uri": "https://localhost:8080/"
        }
      },
      "execution_count": 10,
      "outputs": [
        {
          "output_type": "stream",
          "name": "stdout",
          "text": [
            "2032\n"
          ]
        }
      ]
    },
    {
      "cell_type": "code",
      "source": [
        "# 問題\n",
        "# A - Bichrome Cells \n",
        "# N×N のマス目があります。\n",
        "# このマス目の各マスを白色または黒色に塗ることにしました\n",
        "# ちょうど A マスを白色に塗るとき、黒色に塗ることになるマスはいくつあるでしょうか。\n",
        "%%writefile temp.cpp\n",
        "#include <bits/stdc++.h>\n",
        "using namespace std;\n",
        " \n",
        "int main() {\n",
        "  int N, A;\n",
        "  cin >> N >> A;\n",
        "  cout << N * N - A << endl;\n",
        "}"
      ],
      "metadata": {
        "id": "Xbsh8SHTCXaX",
        "outputId": "4392ee30-fb9a-4657-cf40-3bfb22c58a41",
        "colab": {
          "base_uri": "https://localhost:8080/"
        }
      },
      "execution_count": 11,
      "outputs": [
        {
          "output_type": "stream",
          "name": "stdout",
          "text": [
            "Overwriting temp.cpp\n"
          ]
        }
      ]
    },
    {
      "cell_type": "code",
      "source": [
        "!g++ temp.cpp -o temp; echo 3 4 | ./temp"
      ],
      "metadata": {
        "id": "VoyMrKOrFhxO",
        "outputId": "a3f7f9e9-64ae-49e1-9b8d-e12731bd075a",
        "colab": {
          "base_uri": "https://localhost:8080/"
        }
      },
      "execution_count": 12,
      "outputs": [
        {
          "output_type": "stream",
          "name": "stdout",
          "text": [
            "5\n"
          ]
        }
      ]
    },
    {
      "cell_type": "code",
      "source": [
        "# 問題\n",
        "# A - Round Up the Mean\n",
        "# 2 つの正整数 a, b が与えられます。 a, b の平均値を x とします。 \n",
        "# x の小数点以下を切り上げて得られる整数を出力してください。\n",
        "# 入力 7 4 => 6\n",
        "%%writefile temp.cpp\n",
        "#include <bits/stdc++.h>\n",
        "using namespace std;\n",
        " \n",
        "int main() {\n",
        "  int a, b;\n",
        "  cin >> a >> b;\n",
        "  cout << (a+b+1)/2 << endl;\n",
        "}"
      ],
      "metadata": {
        "id": "gzghcijvFybT",
        "outputId": "17697fae-38c1-4eb6-c1d8-9d2a3727fa8c",
        "colab": {
          "base_uri": "https://localhost:8080/"
        }
      },
      "execution_count": 16,
      "outputs": [
        {
          "output_type": "stream",
          "name": "stdout",
          "text": [
            "Overwriting temp.cpp\n"
          ]
        }
      ]
    },
    {
      "cell_type": "code",
      "source": [
        "!g++ temp.cpp -o temp; echo 7 4 | ./temp"
      ],
      "metadata": {
        "id": "xtAxQf_-GINc",
        "outputId": "4176d55c-9366-4f06-fb34-429e7ff8f6d4",
        "colab": {
          "base_uri": "https://localhost:8080/"
        }
      },
      "execution_count": 17,
      "outputs": [
        {
          "output_type": "stream",
          "name": "stdout",
          "text": [
            "6\n"
          ]
        }
      ]
    },
    {
      "cell_type": "code",
      "source": [
        "# 問題\n",
        "# A - Placing Marbles \n",
        "# すぬけ君は 1,2,3 の番号がついた 3 つのマスからなるマス目を持っています。 \n",
        "# 各マスには 0 か 1 が書かれています。\n",
        "# すぬけ君は 1 が書かれたマスにビー玉を置きます。 ビー玉が置かれるマスがいくつあるか求めてください。\n",
        "%%writefile temp.cpp\n",
        "#include <bits/stdc++.h>\n",
        "using namespace std;\n",
        " \n",
        "int main() {\n",
        "  int x, s1, s2, s3;\n",
        "  cin >> x ;\n",
        "  s1 = x % 2;\n",
        "  s2 = x / 10 % 2;\n",
        "  s3 = x / 100 % 2;\n",
        "  cout << s1+s2+s3 << endl;\n",
        "}"
      ],
      "metadata": {
        "id": "XN4-zwHkOKsZ",
        "outputId": "2399fb99-b1c6-43d0-cbf4-3ffcd871bcba",
        "colab": {
          "base_uri": "https://localhost:8080/"
        }
      },
      "execution_count": 18,
      "outputs": [
        {
          "output_type": "stream",
          "name": "stdout",
          "text": [
            "Overwriting temp.cpp\n"
          ]
        }
      ]
    },
    {
      "cell_type": "code",
      "source": [
        "!g++ temp.cpp -o temp; echo 101 | ./temp"
      ],
      "metadata": {
        "id": "EuvyQfjqOcJC",
        "outputId": "9aac51cf-aa36-47e2-92bc-c203ef083917",
        "colab": {
          "base_uri": "https://localhost:8080/"
        }
      },
      "execution_count": 21,
      "outputs": [
        {
          "output_type": "stream",
          "name": "stdout",
          "text": [
            "0\n"
          ]
        }
      ]
    },
    {
      "cell_type": "code",
      "source": [
        "# G - 1.06.if文・比較演算子・論理演算子 "
      ],
      "metadata": {
        "id": "XfLqiU3LPQLH"
      },
      "execution_count": null,
      "outputs": []
    },
    {
      "cell_type": "markdown",
      "source": [
        "# いまここ"
      ],
      "metadata": {
        "id": "s7HmJtOVH8mr"
      }
    },
    {
      "cell_type": "markdown",
      "source": [
        "---\n",
        "### 未解決問題  1.11.for文・break・continue | EX11 配下\n",
        "\n",
        "B - Palindromic Numbers  \n",
        "A 以上 B 以下の整数のうち、回文数となるものの個数を求めてください。 ただし、回文数とは、先頭に 0 をつけない 10 進表記を文字列として見たとき、前から読んでも後ろから読んでも同じ文字列となるような正の整数のことを指します。\n",
        "\n",
        "11009 11332\n",
        "\n",
        "=> 4"
      ],
      "metadata": {
        "id": "LNfeQNE3i1Hq"
      }
    },
    {
      "cell_type": "code",
      "source": [
        "# Palindromic Numbers が通らない。 入力例は通るのに云々\n",
        "%%writefile temp.cpp\n",
        "#include <bits/stdc++.h>\n",
        "using namespace std;\n",
        "#define rep(i, n) for (int i = 0; i < (int)(n); i++)\n",
        "\n",
        "bool isPalindrome(int orig) {\n",
        "  int digit, rev, num ;\n",
        "  digit = rev = 0;  \n",
        "  num = orig;\n",
        "  rep(i, 10){\n",
        "    digit = num % 10;\n",
        "    rev = (rev * 10) + digit;\n",
        "    num = num / 10;\n",
        "    if (num == 0 ) break;\n",
        "  }\n",
        "  return (orig == rev);\n",
        "};\n",
        "\n",
        "int main() {\n",
        "  int A, B, count , diff ;\n",
        "  cin >> A >> B ;\n",
        "  count = 0;\n",
        "  diff = B - A;\n",
        "  rep(i, diff) {\n",
        "    if (isPalindrome(A+i)) { count += 1; }\n",
        "  }\n",
        "  cout << count << endl;\n",
        "}"
      ],
      "metadata": {
        "id": "_8r2vg5ojC-y",
        "outputId": "8e7c52e0-bad2-4446-c610-f53406c3b529",
        "colab": {
          "base_uri": "https://localhost:8080/"
        }
      },
      "execution_count": null,
      "outputs": [
        {
          "output_type": "stream",
          "name": "stdout",
          "text": [
            "Writing temp.cpp\n"
          ]
        }
      ]
    },
    {
      "cell_type": "code",
      "source": [
        "!g++ temp.cpp -o temp; echo 11009 11332 | ./temp"
      ],
      "metadata": {
        "id": "QDNOIByfjdaH",
        "outputId": "82ad454e-6248-472a-d687-1e14338dc72b",
        "colab": {
          "base_uri": "https://localhost:8080/"
        }
      },
      "execution_count": null,
      "outputs": [
        {
          "output_type": "stream",
          "name": "stdout",
          "text": [
            "4\n"
          ]
        }
      ]
    },
    {
      "cell_type": "markdown",
      "source": [
        "---\n",
        "問題\n",
        "\n",
        "EX12 - 足したり引いたり  \n",
        "\n",
        "1と+と-のみからなる式Sが1行で与えられるので、計算結果を出力してください。\n",
        "\n",
        "例えば式Sが1+1+1-1であったとき、計算結果は2です。\n",
        "\n",
        "具体的な式Sの形式は以下の通りです。\n",
        "\n",
        "* 式Sの1文字目は必ず1です。\n",
        "* その後、「+または−」と1が交互に続きます。\n",
        "* Sの最後の文字も必ず1です。\n",
        "\n",
        "入力例  \n",
        "1+1+1-1  \n",
        "=> 2\n",
        "\n"
      ],
      "metadata": {
        "id": "F4cGyjO2cE2W"
      }
    },
    {
      "cell_type": "code",
      "source": [
        "%%writefile temp.cpp\n",
        "#include <bits/stdc++.h>\n",
        "using namespace std;\n",
        "#define rep(i, n) for (int i = 0; i < (int)(n); i++)\n",
        "\n",
        "int main() {\n",
        "  string  S ;\n",
        "  int result ;\n",
        "  cin >> S ;\n",
        "  result = 1;\n",
        "  rep(i, S.size()) {\n",
        "    if (S.at(i) == '+')  result += 1; \n",
        "    else if (S.at(i) == '-') result -= 1;\n",
        "  }\n",
        "  cout << result << endl;\n",
        "}"
      ],
      "metadata": {
        "id": "GC-B1E-KiPlK",
        "outputId": "b433e2ab-ec70-4618-9fd9-5930e93bcc78",
        "colab": {
          "base_uri": "https://localhost:8080/"
        }
      },
      "execution_count": null,
      "outputs": [
        {
          "output_type": "stream",
          "name": "stdout",
          "text": [
            "Overwriting temp.cpp\n"
          ]
        }
      ]
    },
    {
      "cell_type": "code",
      "source": [
        "!g++ temp.cpp -o temp; echo 1+1+1-1 | ./temp"
      ],
      "metadata": {
        "id": "LvjAI6tKpD1e",
        "outputId": "396bdafd-78aa-4426-ff41-5fe63a3acb46",
        "colab": {
          "base_uri": "https://localhost:8080/"
        }
      },
      "execution_count": null,
      "outputs": [
        {
          "output_type": "stream",
          "name": "stdout",
          "text": [
            "2\n"
          ]
        }
      ]
    },
    {
      "cell_type": "markdown",
      "source": [
        "# N - 1.13.配列\n",
        "\n",
        "* vector<型> 配列変数名;で配列変数を宣言できる\n",
        "* 配列変数名 = { 要素1, 要素2, ... };で配列変数に値を代入できる\n",
        "* 配列変数.at(i), 配列変数.size() が使える\n",
        "* vector<型> 配列変数名(要素数)と書くと指定した要素数で配列を初期化できる\n"
      ],
      "metadata": {
        "id": "azH-MFEVvuOx"
      }
    },
    {
      "cell_type": "code",
      "source": [
        "%%writefile temp.cpp\n",
        "#include <bits/stdc++.h>\n",
        "using namespace std;\n",
        "#define rep(i, n) for (int i = 0; i < (int)(n); i++)\n",
        "\n",
        "int main() {\n",
        "    int N = 5;\n",
        "    vector<int> vec(N);\n",
        "    for (int i = 0; i < N; i++) {\n",
        "        cin >> vec.at(i);\n",
        "    };\n",
        "    rep (i, vec.size()) {\n",
        "        cout << vec.at(vec.size() - i - 1) << ' ' ;\n",
        "    }\n",
        "    cout << endl;\n",
        "}"
      ],
      "metadata": {
        "id": "YHy_H_YqxP5Y",
        "outputId": "a0a7c5b6-853b-42af-ea57-0f0eb74937f2",
        "colab": {
          "base_uri": "https://localhost:8080/"
        }
      },
      "execution_count": null,
      "outputs": [
        {
          "output_type": "stream",
          "name": "stdout",
          "text": [
            "Writing temp.cpp\n"
          ]
        }
      ]
    },
    {
      "cell_type": "code",
      "source": [
        "!g++ temp.cpp -o temp; echo 1 2 3 4 5 | ./temp"
      ],
      "metadata": {
        "id": "_vXhOYHf14ct",
        "outputId": "d1b59517-5fc6-46a7-b7e6-295bae10f81e",
        "colab": {
          "base_uri": "https://localhost:8080/"
        }
      },
      "execution_count": null,
      "outputs": [
        {
          "output_type": "stream",
          "name": "stdout",
          "text": [
            "5 4 3 2 1 \n"
          ]
        }
      ]
    },
    {
      "cell_type": "code",
      "source": [
        "%%writefile temp.cpp\n",
        "#include <bits/stdc++.h>\n",
        "using namespace std;\n",
        "\n",
        "int main() {\n",
        "  // 文字列\n",
        "  string str; // 文字列変数を宣言\n",
        "  str = \"abcd\"; // 'a', 'b', 'c', 'd' という文字(char)の列を代入\n",
        "  cout << str.at(0) << endl; // 1つ目である'a'を出力\n",
        "  cout << str.size() << endl; // 文字列の長さである4を出力\n",
        "\n",
        "  // 配列\n",
        "  vector<int> vec; // int型の配列変数vecを宣言\n",
        "  vec = { 25, 100, 64 }; // 25, 100, 64 という整数(int)の列を代入\n",
        "  cout << vec.at(0) << endl; // 1つめである25を出力\n",
        "  cout << vec.size() << endl; // 配列の長さである3を出力\n",
        "}\n"
      ],
      "metadata": {
        "id": "xfM_zDO-DwvY",
        "outputId": "31dd9b53-9555-4176-90c4-ce60c147d0cd",
        "colab": {
          "base_uri": "https://localhost:8080/"
        }
      },
      "execution_count": null,
      "outputs": [
        {
          "output_type": "stream",
          "name": "stdout",
          "text": [
            "Overwriting temp.cpp\n"
          ]
        }
      ]
    },
    {
      "cell_type": "code",
      "source": [
        "!g++ temp.cpp -o temp; echo 1 2 3 4 5 | ./temp"
      ],
      "metadata": {
        "id": "DMfTnVbVD4-9",
        "outputId": "e7c050ea-79a0-465c-c445-2bc1678b5186",
        "colab": {
          "base_uri": "https://localhost:8080/"
        }
      },
      "execution_count": null,
      "outputs": [
        {
          "output_type": "stream",
          "name": "stdout",
          "text": [
            "a\n",
            "4\n",
            "25\n",
            "3\n"
          ]
        }
      ]
    },
    {
      "cell_type": "code",
      "source": [
        "# 実験 文字列と配列 同じ物ではない\n",
        "%%writefile temp.cpp\n",
        "#include <bits/stdc++.h>\n",
        "using namespace std;\n",
        "#define rep(i, n) for (int i = 0; i < (int)(n); i++)\n",
        "\n",
        "int main() {\n",
        "    string str;\n",
        "    str = \"abcd\";\n",
        "    vector<char> vec;\n",
        "    vec = { 'a','b','c','d' };\n",
        "    cout << str << endl;\n",
        "    //  cout << vec << endl; #=> エラーになる\n",
        "    rep(i, vec.size()) {\n",
        "        cout << vec.at(i);\n",
        "    }\n",
        "    cout << endl;\n",
        "    copy(vec.begin(), vec.end(), ostream_iterator<char>(cout));\n",
        "    cout << endl;\n",
        "    for (const auto& item : vec) cout << item;\n",
        "    cout << endl;\n",
        "}"
      ],
      "metadata": {
        "id": "5YoHVgsXZfGc",
        "outputId": "822a1408-d499-42b8-9251-1c2d35d69df8",
        "colab": {
          "base_uri": "https://localhost:8080/"
        }
      },
      "execution_count": null,
      "outputs": [
        {
          "output_type": "stream",
          "name": "stdout",
          "text": [
            "Overwriting temp.cpp\n"
          ]
        }
      ]
    },
    {
      "cell_type": "code",
      "source": [
        "!g++ temp.cpp -o temp;  ./temp"
      ],
      "metadata": {
        "id": "VMq6WWaEZ9Ja"
      },
      "execution_count": null,
      "outputs": []
    },
    {
      "cell_type": "code",
      "source": [
        "%%writefile temp.cpp\n",
        "#include <bits/stdc++.h>\n",
        "using namespace std;\n",
        "#define rep(i, n) for (int i = 0; i < (int)(n); i++)\n",
        "\n",
        "int main() {\n",
        "    vector<int> vec(3); // {0, 0, 0} で初期化される str だと {\"\",\"\",\"\"}\n",
        "    cin >> vec.at(0) >> vec.at(1) >> vec.at(2);\n",
        "    cout << vec.at(0) + vec.at(1) + vec.at(2) << endl;\n",
        "}"
      ],
      "metadata": {
        "id": "O2ZpaBRhfU8u",
        "outputId": "7eed0747-954b-4c9d-d9d6-310e56de023f",
        "colab": {
          "base_uri": "https://localhost:8080/"
        }
      },
      "execution_count": null,
      "outputs": [
        {
          "output_type": "stream",
          "name": "stdout",
          "text": [
            "Overwriting temp.cpp\n"
          ]
        }
      ]
    },
    {
      "cell_type": "code",
      "source": [
        "!g++ temp.cpp -o temp;  echo 1 2 3 | ./temp"
      ],
      "metadata": {
        "id": "xrtgWU9Qfa6f",
        "outputId": "edc8061a-1438-4f99-ad54-5b7642f32af3",
        "colab": {
          "base_uri": "https://localhost:8080/"
        }
      },
      "execution_count": null,
      "outputs": [
        {
          "output_type": "stream",
          "name": "stdout",
          "text": [
            "6\n"
          ]
        }
      ]
    },
    {
      "cell_type": "code",
      "source": [
        "# for を使って書き直す\n",
        "%%writefile temp.cpp\n",
        "#include <bits/stdc++.h>\n",
        "using namespace std;\n",
        "#define rep(i, n) for (int i = 0; i < (int)(n); i++)\n",
        "\n",
        "int main() {\n",
        "    vector<int> vec(3); \n",
        "    for (auto& item : vec) cin >> item;\n",
        "    for (const auto& item : vec) cout << item;\n",
        "    cout << endl;\n",
        "}"
      ],
      "metadata": {
        "id": "912uUERkgEGY",
        "outputId": "bca5ccba-0ad6-429f-de91-dc3a6f56628b",
        "colab": {
          "base_uri": "https://localhost:8080/"
        }
      },
      "execution_count": null,
      "outputs": [
        {
          "output_type": "stream",
          "name": "stdout",
          "text": [
            "Overwriting temp.cpp\n"
          ]
        }
      ]
    },
    {
      "cell_type": "code",
      "source": [
        "!g++ temp.cpp -o temp;  echo 1 2 3 | ./temp"
      ],
      "metadata": {
        "id": "UQJp6o1JgcsB",
        "outputId": "95e88131-43a0-4029-9381-31571624a577",
        "colab": {
          "base_uri": "https://localhost:8080/"
        }
      },
      "execution_count": null,
      "outputs": [
        {
          "output_type": "stream",
          "name": "stdout",
          "text": [
            "123\n"
          ]
        }
      ]
    },
    {
      "cell_type": "markdown",
      "source": [
        "---\n",
        "問題 \n",
        "\n",
        "N人の数学と英語のテストの点数が与えられます。  \n",
        "それぞれの人について、数学と英語の点数の合計点を計算してください。\n",
        "\n",
        "入力例\n",
        "\n",
        "3  \n",
        "20 100 30  \n",
        "100 5 40  \n",
        "\n",
        "出力例\n",
        "\n",
        "120  \n",
        "105  \n",
        "70  "
      ],
      "metadata": {
        "id": "n7tJphi8Y0DP"
      }
    },
    {
      "cell_type": "code",
      "source": [
        "%%writefile temp.cpp\n",
        "#include <bits/stdc++.h>\n",
        "using namespace std;\n",
        "\n",
        "int main() {\n",
        "    int N;\n",
        "    cin >> N;\n",
        "    vector<int> math(3);\n",
        "    vector<int> eng(3);\n",
        "    for (auto& item : math) cin >> item;\n",
        "    for (auto& item : eng) cin >> item;\n",
        "    for (int i = 0; i < N; i++) {\n",
        "        cout << math.at(i) + eng.at(i) << endl;\n",
        "    }\n",
        "}"
      ],
      "metadata": {
        "id": "cHL1A1uV3w7t",
        "outputId": "3dd779e4-8963-4c5b-a6e3-176d888c39b5",
        "colab": {
          "base_uri": "https://localhost:8080/"
        }
      },
      "execution_count": null,
      "outputs": [
        {
          "output_type": "stream",
          "name": "stdout",
          "text": [
            "Overwriting temp.cpp\n"
          ]
        }
      ]
    },
    {
      "cell_type": "code",
      "source": [
        "!g++ temp.cpp -o temp;  echo 3 20 100 30 100 5 40 | ./temp"
      ],
      "metadata": {
        "id": "5jRIuCO646QG",
        "outputId": "95da85ad-4cfa-440c-c336-c0d6db82b695",
        "colab": {
          "base_uri": "https://localhost:8080/"
        }
      },
      "execution_count": null,
      "outputs": [
        {
          "output_type": "stream",
          "name": "stdout",
          "text": [
            "120\n",
            "105\n",
            "70\n"
          ]
        }
      ]
    },
    {
      "cell_type": "code",
      "source": [
        "%%writefile temp.cpp\n",
        "#include <bits/stdc++.h>\n",
        "using namespace std;\n",
        " \n",
        "int main() {\n",
        "  vector<int> vec = { 1, 2, 3 };\n",
        " \n",
        "  vec.push_back(10); // 末尾に10を追加\n",
        " \n",
        "  // vecの全要素を出力\n",
        "  for (int i = 0; i < vec.size(); i++) {\n",
        "    cout << vec.at(i) << endl;\n",
        "  }\n",
        "}"
      ],
      "metadata": {
        "id": "WSgRZ6OZ3Q5i",
        "outputId": "957d9672-a317-42e2-b109-e501765f6dd9",
        "colab": {
          "base_uri": "https://localhost:8080/"
        }
      },
      "execution_count": null,
      "outputs": [
        {
          "output_type": "stream",
          "name": "stdout",
          "text": [
            "Overwriting temp.cpp\n"
          ]
        }
      ]
    },
    {
      "cell_type": "code",
      "source": [
        "!g++ temp.cpp -o temp;  ./temp"
      ],
      "metadata": {
        "id": "1XZ_BiO35k0p",
        "outputId": "f9a8c1bd-1f08-4669-d576-0925a1fc36a0",
        "colab": {
          "base_uri": "https://localhost:8080/"
        }
      },
      "execution_count": null,
      "outputs": [
        {
          "output_type": "stream",
          "name": "stdout",
          "text": [
            "1\n",
            "2\n",
            "3\n",
            "10\n"
          ]
        }
      ]
    },
    {
      "cell_type": "markdown",
      "source": [
        "配列の範囲外を指定すると `std::out_of_range` という実行時エラーになる。\n",
        "\n",
        "vector 以外の配列  \n",
        "\n",
        "vector<int> data(3); // vectorによる配列 #=> これを使うこと!!!!\n",
        "\n",
        "int data[3]; // Cの配列\n",
        "\n",
        "array<int, 3> data; // arrayによる配列\n",
        "\n",
        "atを使わないi番目の要素へのアクセス\n",
        "\n",
        "配列変数.at(添字)と、配列変数[添字]は同じことが出来るが、at を使った方がエラーメッセージがちゃんと出る。\n",
        "\n",
        "`#define _GLIBCXX_DEBUG`  \n",
        "とコードの最初に書くことで.atと同程度に安全に使うことができるようになるが、APG4b では `.at()` を使う。"
      ],
      "metadata": {
        "id": "4l4q11zh1gHu"
      }
    },
    {
      "cell_type": "code",
      "source": [
        "%%writefile temp.cpp\n",
        "#include <bits/stdc++.h>\n",
        "using namespace std;\n",
        " \n",
        "int main() {\n",
        "  vector<int> vec = { 1, 2, 3 };\n",
        " \n",
        "  cout << vec.at(0) << endl;\n",
        "  cout << vec[0] << endl; // .at(0)と同じ\n",
        "}"
      ],
      "metadata": {
        "id": "RDpvufaQ2rep",
        "outputId": "b159a00d-c732-4d3e-fd7f-58dc35d3d391",
        "colab": {
          "base_uri": "https://localhost:8080/"
        }
      },
      "execution_count": null,
      "outputs": [
        {
          "output_type": "stream",
          "name": "stdout",
          "text": [
            "Overwriting temp.cpp\n"
          ]
        }
      ]
    },
    {
      "cell_type": "code",
      "source": [
        "!g++ temp.cpp -o temp;  ./temp"
      ],
      "metadata": {
        "id": "sB7sUhYp25ez"
      },
      "execution_count": null,
      "outputs": []
    },
    {
      "cell_type": "markdown",
      "source": [
        "要素の削除\n",
        "\n",
        "配列変数.pop_back を使えば配列の末尾の要素を削除することが出来る。"
      ],
      "metadata": {
        "id": "7adjum1E4iDd"
      }
    },
    {
      "cell_type": "code",
      "source": [
        "%%writefile temp.cpp\n",
        "#include <bits/stdc++.h>\n",
        "using namespace std;\n",
        "\n",
        "int main() {\n",
        "    vector<int> vec = { 1, 2, 3 };\n",
        "\n",
        "    vec.pop_back(); // 末尾の要素を削除\n",
        "\n",
        "    // vecの全要素を出力\n",
        "    for (int i = 0; i < vec.size(); i++) {\n",
        "        cout << vec.at(i) << endl;\n",
        "    }\n",
        "}"
      ],
      "metadata": {
        "id": "ER8sGpvV4hh_",
        "outputId": "cbc52628-713d-4d59-8343-88fbb152b8da",
        "colab": {
          "base_uri": "https://localhost:8080/"
        }
      },
      "execution_count": null,
      "outputs": [
        {
          "output_type": "stream",
          "name": "stdout",
          "text": [
            "Overwriting temp.cpp\n"
          ]
        }
      ]
    },
    {
      "cell_type": "code",
      "source": [
        "!g++ temp.cpp -o temp;  ./temp"
      ],
      "metadata": {
        "id": "GXpAefzK5mOv",
        "outputId": "674575bc-543e-427e-afb1-9b05d46d1676",
        "colab": {
          "base_uri": "https://localhost:8080/"
        }
      },
      "execution_count": null,
      "outputs": [
        {
          "output_type": "stream",
          "name": "stdout",
          "text": [
            "1\n",
            "2\n"
          ]
        }
      ]
    },
    {
      "cell_type": "code",
      "source": [
        "# 配列同士の比較\n",
        "# 配列変数同士は `==` で比較することが出来る。\n",
        "# vec == { 1, 2, 3 } のようには書けない。\n",
        "\n",
        "%%writefile temp.cpp\n",
        "#include <bits/stdc++.h>\n",
        "using namespace std;\n",
        "\n",
        "int main() {\n",
        "    vector<int> vec1 = { 1, 2, 3 };\n",
        "    vector<int> vec2 = { 1, 2, 3 };\n",
        "\n",
        "    if (vec1 == vec2) {\n",
        "        cout << \"OK\" << endl;\n",
        "    }\n",
        "\n",
        "    /*\n",
        "    ↓これはコンパイルエラーになる\n",
        "    if (vec1 == { 1, 2, 3 }) {\n",
        "      cout << \"NG\" << endl;\n",
        "    }\n",
        "    */\n",
        "}"
      ],
      "metadata": {
        "id": "6_7gQ7e85fiZ",
        "outputId": "481fc00f-1d66-47ae-cd88-0d724efb8b42",
        "colab": {
          "base_uri": "https://localhost:8080/"
        }
      },
      "execution_count": null,
      "outputs": [
        {
          "output_type": "stream",
          "name": "stdout",
          "text": [
            "Overwriting temp.cpp\n"
          ]
        }
      ]
    },
    {
      "cell_type": "code",
      "source": [
        "!g++ temp.cpp -o temp;  ./temp"
      ],
      "metadata": {
        "id": "P-JQOZeh6L6u",
        "outputId": "6a7fad95-62e0-47e6-c729-4b473a0e2b16",
        "colab": {
          "base_uri": "https://localhost:8080/"
        }
      },
      "execution_count": null,
      "outputs": [
        {
          "output_type": "stream",
          "name": "stdout",
          "text": [
            "OK\n"
          ]
        }
      ]
    },
    {
      "cell_type": "code",
      "source": [
        "# 配列の初期化その2\n",
        "# サイズの違う配列で上書き出来る\n",
        "%%writefile temp.cpp\n",
        "#include <bits/stdc++.h>\n",
        "using namespace std;\n",
        " \n",
        "int main() {\n",
        "  vector<int> vec(3, 10); // {10, 10, 10} で初期化\n",
        "  vec = vector<int>(100, 2); // 100要素の配列 {2, 2, ... , 2, 2} で上書き\n",
        "  cout << vec.at(99) << endl;\n",
        "}"
      ],
      "metadata": {
        "id": "_H8pQxLqmR8u",
        "outputId": "a1b71f4e-d2c3-446a-e84c-02e03a922dd4",
        "colab": {
          "base_uri": "https://localhost:8080/"
        }
      },
      "execution_count": null,
      "outputs": [
        {
          "output_type": "stream",
          "name": "stdout",
          "text": [
            "Writing temp.cpp\n"
          ]
        }
      ]
    },
    {
      "cell_type": "code",
      "source": [
        "!g++ temp.cpp -o temp;  ./temp"
      ],
      "metadata": {
        "id": "iG4OXqZJ790m"
      },
      "execution_count": null,
      "outputs": []
    },
    {
      "cell_type": "code",
      "source": [
        "# 実験\n",
        "# サイズの違う配列で上書き\n",
        "%%writefile temp.cpp\n",
        "#include <bits/stdc++.h>\n",
        "using namespace std;\n",
        " \n",
        "int main() {\n",
        "  vector<int> vec(3, 10); // {10, 10, 10} で初期化\n",
        "  vec = {10, 10, 1, 2, 3, 4} ;\n",
        "  cout << vec.at(5) << endl;\n",
        "}"
      ],
      "metadata": {
        "id": "yZG5nOXnnI41",
        "outputId": "d827affc-1ba8-48a7-ff8d-a790cdf575c4",
        "colab": {
          "base_uri": "https://localhost:8080/"
        }
      },
      "execution_count": null,
      "outputs": [
        {
          "output_type": "stream",
          "name": "stdout",
          "text": [
            "Overwriting temp.cpp\n"
          ]
        }
      ]
    },
    {
      "cell_type": "code",
      "source": [
        "!g++ temp.cpp -o temp;  ./temp"
      ],
      "metadata": {
        "id": "Dt_BsVcwneHc",
        "outputId": "c743ae6a-7438-49e6-b527-8716be1150f1",
        "colab": {
          "base_uri": "https://localhost:8080/"
        }
      },
      "execution_count": null,
      "outputs": [
        {
          "output_type": "stream",
          "name": "stdout",
          "text": [
            "4\n"
          ]
        }
      ]
    },
    {
      "cell_type": "code",
      "source": [
        "# 実験 \n",
        "# 質問 サイズの違う配列をアサイン出来るのだったら初めからサイズは要らないのではないか\n",
        "%%writefile temp.cpp\n",
        "#include <bits/stdc++.h>\n",
        "using namespace std;\n",
        " \n",
        "int main() {\n",
        "  vector<int> vec;\n",
        "  vector<int> vec2(100, 2); // 100要素の配列 {2, 2, ... , 2, 2} \n",
        "  vec = vec2;\n",
        "  cout << vec.at(99) << endl;\n",
        "}"
      ],
      "metadata": {
        "colab": {
          "base_uri": "https://localhost:8080/"
        },
        "id": "wZ4LOb1P7_wv",
        "outputId": "2b1cc308-e0c6-44ec-f50f-f1cadd82f034"
      },
      "execution_count": null,
      "outputs": [
        {
          "output_type": "stream",
          "name": "stdout",
          "text": [
            "Overwriting temp.cpp\n"
          ]
        }
      ]
    },
    {
      "cell_type": "code",
      "source": [
        "!g++ temp.cpp -o temp;  ./temp"
      ],
      "metadata": {
        "id": "mVRJjMsamnIb",
        "outputId": "c950728e-0d30-4a00-9ca9-c91e3264216e",
        "colab": {
          "base_uri": "https://localhost:8080/"
        }
      },
      "execution_count": null,
      "outputs": [
        {
          "output_type": "stream",
          "name": "stdout",
          "text": [
            "2\n"
          ]
        }
      ]
    },
    {
      "cell_type": "code",
      "source": [
        "# 大きすぎる配列\n",
        "# AtCoderの問題の回答として提出してこのエラーが出た場合、`RE` または `MLE` となる\n",
        "%%writefile temp.cpp\n",
        "#include <bits/stdc++.h>\n",
        "using namespace std;\n",
        " \n",
        "int main() {\n",
        "  vector<int> v(1000000000);\n",
        "  cout << v[0] << endl;\n",
        "}"
      ],
      "metadata": {
        "id": "oXSRPVHUoMZJ",
        "outputId": "d69c7c32-ba6b-42ae-9ca4-ca2f4b18f958",
        "colab": {
          "base_uri": "https://localhost:8080/"
        }
      },
      "execution_count": null,
      "outputs": [
        {
          "output_type": "stream",
          "name": "stdout",
          "text": [
            "Overwriting temp.cpp\n"
          ]
        }
      ]
    },
    {
      "cell_type": "code",
      "source": [
        "!g++ temp.cpp -o temp;  ./temp"
      ],
      "metadata": {
        "id": "OMqv8BOwokBp",
        "outputId": "7926bd30-047d-407a-bc73-6eb6dce090c1",
        "colab": {
          "base_uri": "https://localhost:8080/"
        }
      },
      "execution_count": null,
      "outputs": [
        {
          "output_type": "stream",
          "name": "stdout",
          "text": [
            "tcmalloc: large alloc 4000006144 bytes == 0x563e3d5d8000 @  0x7fe7c4ae4887 0x563e3c78714a 0x563e3c787091 0x563e3c786fea 0x563e3c786edf 0x563e3c786d83 0x563e3c786c7a 0x563e3c786b13 0x7fe7c413ec87 0x563e3c7869fa\n",
            "0\n"
          ]
        }
      ]
    },
    {
      "cell_type": "markdown",
      "source": [
        "---\n",
        "問題   \n",
        "\n",
        "EX13 - 平均との差\n",
        "\n",
        "N人のテストの点数が与えられます。  \n",
        "それぞれの人の点数が平均点から何点離れているか計算してください。  \n",
        "切り捨て  \n",
        "\n",
        "入力例  \n",
        "10  \n",
        "53 21 99 83 75 40 33 62 18 100  \n",
        "=>    \n",
        "5  \n",
        "37  \n",
        "41  \n",
        "︙  "
      ],
      "metadata": {
        "id": "ODjCVSjDv-mf"
      }
    },
    {
      "cell_type": "code",
      "source": [
        "%%writefile temp.cpp\n",
        "#include <bits/stdc++.h>\n",
        "using namespace std;\n",
        "\n",
        "int main() {\n",
        "  int N, sum, ave;\n",
        "  cin >> N;\n",
        "  vector<int> vec(N);\n",
        "  sum = 0;\n",
        "  for (int i = 0; i < N; i++) {\n",
        "    cin >> vec.at(i);\n",
        "    sum += vec.at(i);\n",
        "  };\n",
        "  ave = sum / vec.size();\n",
        "  for (int i = 0; i < N; i++) {\n",
        "    if (vec.at(i) >= ave) cout << vec.at(i) - ave << endl;\n",
        "    else cout << ave - vec.at(i) << endl;\n",
        "  }\n",
        "}"
      ],
      "metadata": {
        "id": "fOu-baYTqY8O",
        "colab": {
          "base_uri": "https://localhost:8080/"
        },
        "outputId": "51ed70ca-18c2-4d76-f359-ce3e3d085edb"
      },
      "execution_count": null,
      "outputs": [
        {
          "output_type": "stream",
          "name": "stdout",
          "text": [
            "Overwriting temp.cpp\n"
          ]
        }
      ]
    },
    {
      "cell_type": "code",
      "source": [
        "!g++ temp.cpp -o temp; echo 10 53 21 99 83 75 40 33 62 18 100 |./temp"
      ],
      "metadata": {
        "id": "App3e7cu-HtD"
      },
      "execution_count": null,
      "outputs": []
    },
    {
      "cell_type": "markdown",
      "source": [
        "# 実験 無名関数"
      ],
      "metadata": {
        "id": "bXHa-xAigP8j"
      }
    },
    {
      "cell_type": "markdown",
      "source": [
        "---\n",
        "質問\n",
        "\n",
        "c++ で ラムダ式、無名関数は使えるか。\n",
        "\n",
        "ラムダ式を呼び出すには、関数と同じように () を使用する、とのこと。\n",
        "```\n",
        "int main(int argc, char *argv[]) {\n",
        "\t[](){}();\n",
        "}\n",
        "```"
      ],
      "metadata": {
        "id": "XCXbjVxub3xo"
      }
    },
    {
      "cell_type": "code",
      "source": [
        "# 実験 関数として使うには戻り値が指定できないと困る #=> 出来た\n",
        "%%writefile temp.cpp\n",
        "#include <bits/stdc++.h>\n",
        "using namespace std;\n",
        "\n",
        "int main(){\n",
        "    int a, b;\n",
        "    a = 3; b = 4;\n",
        "    auto hoge = [](int x, int y){return x * y;};\n",
        "    // auto hoge = [](int x, int y) -> int{return x * y;}; # `=>` を使った書き方もあるが、不要みたい\n",
        "\n",
        "    cout << hoge(a,b) << endl;\n",
        "    cout << [](int x, int y)int{return x * y;}(a,b) << endl;\n",
        "    cout << [](int x, int y) -> int{return x * y;}(a,b) << endl;\n",
        "    cout << [](int x, int y){int temp = x * y; return temp;}(a,b) << endl;\n",
        "}\n"
      ],
      "metadata": {
        "colab": {
          "base_uri": "https://localhost:8080/"
        },
        "id": "dlzXFDwEinzT",
        "outputId": "9f5e88a0-b0ef-4481-d633-09ffc3c840ec"
      },
      "execution_count": null,
      "outputs": [
        {
          "output_type": "stream",
          "name": "stdout",
          "text": [
            "Overwriting temp.cpp\n"
          ]
        }
      ]
    },
    {
      "cell_type": "code",
      "source": [
        "!g++ temp.cpp -o temp; ./temp"
      ],
      "metadata": {
        "colab": {
          "base_uri": "https://localhost:8080/"
        },
        "id": "ROn5HTvyjCBZ",
        "outputId": "7528ad5f-030e-4922-813b-76d87f53ed53"
      },
      "execution_count": null,
      "outputs": [
        {
          "output_type": "stream",
          "name": "stdout",
          "text": [
            "12\n",
            "12\n",
            "12\n",
            "12\n"
          ]
        }
      ]
    },
    {
      "cell_type": "code",
      "source": [
        "# 実験 無名関数の練習\n",
        "%%writefile temp.cpp\n",
        "#include <bits/stdc++.h>\n",
        "using namespace std;\n",
        "\n",
        "int main() {\n",
        "    int a, b;\n",
        "    a = 3;\n",
        "    b = 4;\n",
        "    auto mul = [](int x, int y){return x * y;};\n",
        "    cout << mul(a, b) << endl;\n",
        "}"
      ],
      "metadata": {
        "colab": {
          "base_uri": "https://localhost:8080/"
        },
        "id": "b-5DOanAcMwk",
        "outputId": "bd18a3ab-5ff9-424e-e718-c74eab7df00c"
      },
      "execution_count": null,
      "outputs": [
        {
          "output_type": "stream",
          "name": "stdout",
          "text": [
            "Overwriting temp.cpp\n"
          ]
        }
      ]
    },
    {
      "cell_type": "code",
      "source": [
        "!g++ temp.cpp -o temp; ./temp"
      ],
      "metadata": {
        "colab": {
          "base_uri": "https://localhost:8080/"
        },
        "id": "sZ1GG5Ayc1K7",
        "outputId": "851241d7-6238-4088-cd5b-c0c6887adf0e"
      },
      "execution_count": null,
      "outputs": [
        {
          "output_type": "stream",
          "name": "stdout",
          "text": [
            "12\n"
          ]
        }
      ]
    },
    {
      "cell_type": "code",
      "source": [
        "# 実験 string repeat する\n",
        "# 任意の文字列を任意の回数繰り返した文字列を作る関数を無名関数で作る\n",
        "%%writefile temp.cpp\n",
        "#include <bits/stdc++.h>\n",
        "using namespace std;\n",
        "\n",
        "int main() {\n",
        "  string str;\n",
        "  str = \"abc\";\n",
        "  int n = 3;\n",
        "  auto tempfunc = [](int x, string a){string acc=\"\"; for(int i =0;i < x; i++) acc += a; return acc; };\n",
        "\n",
        "  cout << tempfunc(3,str) << endl;\n",
        "  cout <<  [](int x, string a){string acc=\"\"; for(int i =0;i < x; i++) acc += a; return acc; }(4,\"defg\") << endl;\n",
        "\n",
        "}"
      ],
      "metadata": {
        "colab": {
          "base_uri": "https://localhost:8080/"
        },
        "id": "4jrCWQufMVHf",
        "outputId": "a21b442e-3b80-4df9-f57f-7d9c1ed15468"
      },
      "execution_count": null,
      "outputs": [
        {
          "output_type": "stream",
          "name": "stdout",
          "text": [
            "Overwriting temp.cpp\n"
          ]
        }
      ]
    },
    {
      "cell_type": "code",
      "source": [
        "!g++ temp.cpp -o temp; ./temp"
      ],
      "metadata": {
        "colab": {
          "base_uri": "https://localhost:8080/"
        },
        "id": "qjIdBAYbMVxc",
        "outputId": "6518d05d-61d2-47a7-8046-cdaed268ba75"
      },
      "execution_count": null,
      "outputs": [
        {
          "output_type": "stream",
          "name": "stdout",
          "text": [
            "abcabcabc\n",
            "defgdefgdefgdefg\n"
          ]
        }
      ]
    },
    {
      "cell_type": "markdown",
      "source": [
        "---\n",
        "問題  B - Picture Frame\n",
        "\n",
        "縦 H ピクセル、横 W ピクセルの画像があります。 各ピクセルは英小文字で表されます。 上から i 番目、左から j 番目のピクセルは a \n",
        "ij です。\n",
        "\n",
        "この画像の周囲 1 ピクセルを # で囲んだものを出力してください。\n",
        "\n",
        "```\n",
        "2 3\n",
        "abc\n",
        "arc\n",
        "```\n",
        "=>\n",
        "``` text\n",
        " #####\n",
        " #abc#\n",
        " #arc#\n",
        " #####\n",
        "```\n"
      ],
      "metadata": {
        "id": "LXL3FsJC5-Fv"
      }
    },
    {
      "cell_type": "code",
      "source": [
        "%%writefile temp.cpp\n",
        "#include <bits/stdc++.h>\n",
        "using namespace std;\n",
        "\n",
        "int main() {\n",
        "  int H, W;\n",
        "  cin >> H >> W;\n",
        "  for (int i = 0; i < H + 2; i++) {\n",
        "    if ((i == 0) || (i == H + 1)) cout << [](int n, string a) {string acc = \"\"; for (int i = 0;i < n+2; i++) acc += a; return acc; }(W, \"#\") << endl;\n",
        "    else {\n",
        "        string str;\n",
        "        cin >> str;\n",
        "        cout << \"#\" << str << \"#\" << endl;\n",
        "    }\n",
        "\n",
        "  }\n",
        "}"
      ],
      "metadata": {
        "id": "Qd5R-tWKBRsk",
        "colab": {
          "base_uri": "https://localhost:8080/"
        },
        "outputId": "7edd8678-61f2-49cf-cc54-ea18814af205"
      },
      "execution_count": null,
      "outputs": [
        {
          "output_type": "stream",
          "name": "stdout",
          "text": [
            "Overwriting temp.cpp\n"
          ]
        }
      ]
    },
    {
      "cell_type": "code",
      "source": [
        "!g++ temp.cpp -o temp; echo 2 3 abc def |./temp"
      ],
      "metadata": {
        "colab": {
          "base_uri": "https://localhost:8080/"
        },
        "id": "hzXZHV8_LGCL",
        "outputId": "dd6384bb-942d-4f52-9076-ed3b173d5ae1"
      },
      "execution_count": null,
      "outputs": [
        {
          "output_type": "stream",
          "name": "stdout",
          "text": [
            "#####\n",
            "#abc#\n",
            "#def#\n",
            "#####\n"
          ]
        }
      ]
    },
    {
      "cell_type": "markdown",
      "source": [
        "# 未解決というか後回しにして先に進もう"
      ],
      "metadata": {
        "id": "miSbqN_Koc9c"
      }
    },
    {
      "cell_type": "code",
      "source": [
        "\n",
        "B - Counting Roads\n",
        "B - Trained?\n",
        "難しめ\n",
        "B - Two Colors Card Game\n",
        "B - Card Game for Two\n",
        "B - Kagami Mochi\n",
        "\n"
      ],
      "metadata": {
        "id": "g1z-0yPh-aWk"
      },
      "execution_count": null,
      "outputs": []
    },
    {
      "cell_type": "markdown",
      "source": [
        "# 関数"
      ],
      "metadata": {
        "id": "JYNzgIiEorrS"
      }
    },
    {
      "cell_type": "code",
      "source": [
        "# 関数の例\n",
        "%%writefile temp.cpp\n",
        "#include <bits/stdc++.h>\n",
        "using namespace std;\n",
        "\n",
        "int my_min(int x, int y) {\n",
        "  if (x < y) {\n",
        "    return x;\n",
        "  }\n",
        "  else {\n",
        "    return y;\n",
        "  }\n",
        "}\n",
        "\n",
        "int main() {\n",
        "  int answer = my_min(10, 5);\n",
        "  cout << answer << endl; // 5\n",
        "}"
      ],
      "metadata": {
        "id": "UQZ2xyJioq4Z",
        "colab": {
          "base_uri": "https://localhost:8080/"
        },
        "outputId": "c182a582-989f-42f2-dde1-14298094998a"
      },
      "execution_count": null,
      "outputs": [
        {
          "output_type": "stream",
          "name": "stdout",
          "text": [
            "Overwriting temp.cpp\n"
          ]
        }
      ]
    },
    {
      "cell_type": "code",
      "source": [
        "!g++ temp.cpp -o temp;  ./temp"
      ],
      "metadata": {
        "colab": {
          "base_uri": "https://localhost:8080/"
        },
        "id": "SNjwIERXdy33",
        "outputId": "0fee9f7e-8dc7-42aa-95bc-403d0918b2e4"
      },
      "execution_count": null,
      "outputs": [
        {
          "output_type": "stream",
          "name": "stdout",
          "text": [
            "5\n"
          ]
        }
      ]
    },
    {
      "cell_type": "code",
      "source": [
        "# 上の例を無名関数にしてみよう\n",
        "%%writefile temp.cpp\n",
        "#include <bits/stdc++.h>\n",
        "using namespace std;\n",
        "\n",
        "int main() {\n",
        "  cout << [](int x, int y){if(x<y) return x;else return y;}(8,7) << endl; // 7\n",
        "}"
      ],
      "metadata": {
        "colab": {
          "base_uri": "https://localhost:8080/"
        },
        "id": "ewatF7ccd8J_",
        "outputId": "151c972f-9fab-49fd-c2da-6534601a8567"
      },
      "execution_count": null,
      "outputs": [
        {
          "output_type": "stream",
          "name": "stdout",
          "text": [
            "Overwriting temp.cpp\n"
          ]
        }
      ]
    },
    {
      "cell_type": "code",
      "source": [
        "!g++ temp.cpp -o temp; ./temp"
      ],
      "metadata": {
        "colab": {
          "base_uri": "https://localhost:8080/"
        },
        "id": "JYe83XcJeaEc",
        "outputId": "6d89c6ad-53a5-4b0e-c476-433f1cc8c9d3"
      },
      "execution_count": null,
      "outputs": [
        {
          "output_type": "stream",
          "name": "stdout",
          "text": [
            "7\n"
          ]
        }
      ]
    },
    {
      "cell_type": "code",
      "source": [
        "# 関数の引数に参照 `&` を使う例\n",
        "# 参照元の値を変更している\n",
        "%%writefile temp.cpp\n",
        "#include <bits/stdc++.h>\n",
        "using namespace std;\n",
        "\n",
        "void change(int& n, vector<int>& vec) {\n",
        "  n = 1;\n",
        "  vec.at(0) = 1;\n",
        "  return;\n",
        "}\n",
        "\n",
        "int main() {\n",
        "  int x = 5;\n",
        "  vector<int> v = { 10, 10, 10 };\n",
        "\n",
        "  change(x, v);\n",
        "\n",
        "  cout << x << endl;\n",
        "  cout << v.at(0) << endl;\n",
        "}"
      ],
      "metadata": {
        "colab": {
          "base_uri": "https://localhost:8080/"
        },
        "id": "V6PjNpBVgqPj",
        "outputId": "11f4bc00-acf2-43c7-b4c4-0d9cc6f6ba10"
      },
      "execution_count": null,
      "outputs": [
        {
          "output_type": "stream",
          "name": "stdout",
          "text": [
            "Overwriting temp.cpp\n"
          ]
        }
      ]
    },
    {
      "cell_type": "code",
      "source": [
        "!g++ temp.cpp -o temp; ./temp"
      ],
      "metadata": {
        "colab": {
          "base_uri": "https://localhost:8080/"
        },
        "id": "bAEFR3VVhnUT",
        "outputId": "87e59d03-5d38-4c76-fe5d-efba75fba162"
      },
      "execution_count": null,
      "outputs": [
        {
          "output_type": "stream",
          "name": "stdout",
          "text": [
            "1\n",
            "1\n"
          ]
        }
      ]
    },
    {
      "cell_type": "code",
      "source": [
        "# 再帰の例\n",
        "%%writefile temp.cpp\n",
        "#include <bits/stdc++.h>\n",
        "using namespace std;\n",
        " \n",
        "// 0からnまでの和を求める関数 sum\n",
        "int sum(int n) {\n",
        "  if (n == 0) {\n",
        "    return 0;\n",
        "  }\n",
        "  return n + sum(n - 1);\n",
        "}\n",
        " \n",
        "int main() {\n",
        "  cout << sum(3) << endl;\n",
        "} // 6"
      ],
      "metadata": {
        "id": "bUgLKtTCURoC",
        "colab": {
          "base_uri": "https://localhost:8080/"
        },
        "outputId": "d6994917-6239-48e5-9888-f89207a6f50b"
      },
      "execution_count": null,
      "outputs": [
        {
          "output_type": "stream",
          "name": "stdout",
          "text": [
            "Overwriting temp.cpp\n"
          ]
        }
      ]
    },
    {
      "cell_type": "code",
      "source": [
        "!g++ temp.cpp -o temp; ./temp"
      ],
      "metadata": {
        "colab": {
          "base_uri": "https://localhost:8080/"
        },
        "id": "tw0AUobCiVSN",
        "outputId": "23767fb9-4e67-49cc-d127-5fdfcd7c73cf"
      },
      "execution_count": null,
      "outputs": [
        {
          "output_type": "stream",
          "name": "stdout",
          "text": [
            "6\n"
          ]
        }
      ]
    },
    {
      "cell_type": "markdown",
      "source": [
        "---\n",
        "問題 EX15.三人兄弟へのプレゼント\n",
        "\n",
        "問題文\n",
        "三人兄弟のA君とB君とC君は、お父さんに1つのプレゼントを貰うことになりました。\n",
        "貰えるプレゼントの予算は「テストの合計点の積」で決まります。\n",
        "\n",
        "プレゼントの予算 = $(A_1+\\dots+A_n)\\times(B_1)$\n",
        "\n",
        "入力例  \n",
        "2  \n",
        "5 7  \n",
        "4 10  \n",
        "9 2  \n",
        "=>  \n",
        "1848"
      ],
      "metadata": {
        "id": "4-0O_9lzicIl"
      }
    },
    {
      "cell_type": "code",
      "source": [
        "# 問題 EX15.三人兄弟へのプレゼント\n",
        "# 途中まで書かれたプログラムに沿って完成させること\n",
        "%%writefile temp.cpp\n",
        "#include <bits/stdc++.h>\n",
        "using namespace std;\n",
        "\n",
        "// 1人のテストの点数を表す配列から合計点を計算して返す関数\n",
        "// 返り値: 1人のテストの合計点\n",
        "int sum(vector<int> scores) {\n",
        "  int sum = 0;\n",
        "  for(int i=0; i < scores.size(); i++){sum += scores.at(i);};\n",
        "  return sum;\n",
        "}\n",
        "\n",
        "// 3人の合計点からプレゼントの予算を計算して出力する関数\n",
        "// 返り値: なし\n",
        "void output(int sum_a, int sum_b, int sum_c) {\n",
        "  cout << sum_a*sum_b*sum_c << endl;\n",
        "}\n",
        "\n",
        "// N個の入力を受け取って配列に入れて返す関数\n",
        "// 引数 N: 入力を受け取る個数\n",
        "// 返り値: 受け取ったN個の入力の配列\n",
        "vector<int> input(int N) {\n",
        "  vector<int> vec(N);\n",
        "  for (int i = 0; i < N; i++) {\n",
        "    cin >> vec.at(i);\n",
        "  }\n",
        "  return vec;\n",
        "}\n",
        "\n",
        "int main() {\n",
        "  // 科目の数Nを受け取る\n",
        "  int N;\n",
        "  cin >> N;\n",
        "\n",
        "  // それぞれのテストの点数を受け取る\n",
        "  vector<int> A = input(N);\n",
        "  vector<int> B = input(N);\n",
        "  vector<int> C = input(N);\n",
        "\n",
        "  // それぞれの合計点を計算\n",
        "  int sum_A = sum(A);\n",
        "  int sum_B = sum(B);\n",
        "  int sum_C = sum(C);\n",
        "\n",
        "  // プレゼントの予算を出力\n",
        "  output(sum_A, sum_B, sum_C);\n",
        "}"
      ],
      "metadata": {
        "colab": {
          "base_uri": "https://localhost:8080/"
        },
        "id": "g9A2t3y9iLwF",
        "outputId": "44327d52-63f5-44a0-a862-a3718f62b0ff"
      },
      "execution_count": null,
      "outputs": [
        {
          "output_type": "stream",
          "name": "stdout",
          "text": [
            "Overwriting temp.cpp\n"
          ]
        }
      ]
    },
    {
      "cell_type": "code",
      "source": [
        "!g++ temp.cpp -o temp; echo 2 5 7 4 10 9 2 |./temp"
      ],
      "metadata": {
        "colab": {
          "base_uri": "https://localhost:8080/"
        },
        "id": "c60XFlHxkgN2",
        "outputId": "14b2ee52-bee5-4b10-fec5-676215ae495b"
      },
      "execution_count": null,
      "outputs": [
        {
          "output_type": "stream",
          "name": "stdout",
          "text": [
            "1848\n"
          ]
        }
      ]
    },
    {
      "cell_type": "code",
      "source": [
        "# 範囲for文の構文\n",
        "# for (配列の要素の型 変数名 : 配列変数) {}\n",
        "# 問題 整数 a と 5個の整数を与えられて、a と等しいものの個数を求める\n",
        "# 入力例 入力例 3 1 3 2 5 3 => 2\n",
        "%%writefile temp.cpp\n",
        "#include <bits/stdc++.h>\n",
        "using namespace std;\n",
        "\n",
        "int main() {\n",
        "  int a;\n",
        "  cin >> a;\n",
        "  vector<int> data(5);\n",
        "  for (int i = 0; i < 5; i++) {\n",
        "    cin >> data.at(i);\n",
        "  }\n",
        "  \n",
        "  int count = 0;\n",
        "  for (int item : data) {\n",
        "      if (item == a) count++;\n",
        "  }\n",
        "\n",
        "  cout << count << endl;\n",
        "}\n"
      ],
      "metadata": {
        "id": "I0QRsdz8qEUI",
        "outputId": "303eee5d-e083-4194-92fe-d1b64322f1dd",
        "colab": {
          "base_uri": "https://localhost:8080/"
        }
      },
      "execution_count": null,
      "outputs": [
        {
          "output_type": "stream",
          "name": "stdout",
          "text": [
            "Overwriting temp.cpp\n"
          ]
        }
      ]
    },
    {
      "cell_type": "code",
      "source": [
        "!g++ temp.cpp -o temp; echo 3 1 3 2 5 3 |./temp"
      ],
      "metadata": {
        "id": "w0ydvnIXtv1N",
        "outputId": "2353031b-e850-4ebb-fe3d-06bac097841c",
        "colab": {
          "base_uri": "https://localhost:8080/"
        }
      },
      "execution_count": null,
      "outputs": [
        {
          "output_type": "stream",
          "name": "stdout",
          "text": [
            "2\n"
          ]
        }
      ]
    },
    {
      "cell_type": "code",
      "source": [
        "# 範囲for文はvectorだけでなくコンテナと呼ばれるデータ型に対して使うことが出来る\n",
        "# 文字列(string)はコンテナの一種なので、範囲for文を用いることが出来る\n",
        "%%writefile temp.cpp\n",
        "#include <bits/stdc++.h>\n",
        "using namespace std;\n",
        " \n",
        "int main() {\n",
        "  string str = \"hello\";\n",
        "  for (char c : str) {\n",
        "    if (c == 'l') {\n",
        "      c = 'L';\n",
        "    }\n",
        "    cout << c;\n",
        "  }\n",
        "  cout << endl;\n",
        "}"
      ],
      "metadata": {
        "id": "7ubpn-YxrqkF",
        "colab": {
          "base_uri": "https://localhost:8080/"
        },
        "outputId": "f43a26b5-9de4-413d-999b-e55a42218879"
      },
      "execution_count": null,
      "outputs": [
        {
          "output_type": "stream",
          "name": "stdout",
          "text": [
            "Overwriting temp.cpp\n"
          ]
        }
      ]
    },
    {
      "cell_type": "code",
      "source": [
        "!g++ temp.cpp -o temp; ./temp"
      ],
      "metadata": {
        "colab": {
          "base_uri": "https://localhost:8080/"
        },
        "id": "UgB5QldN_fE_",
        "outputId": "c3c4e06b-cfe1-4685-fb35-6382457eb5a3"
      },
      "execution_count": null,
      "outputs": [
        {
          "output_type": "stream",
          "name": "stdout",
          "text": [
            "heLLo\n"
          ]
        }
      ]
    },
    {
      "cell_type": "code",
      "source": [
        "# ループ構文の使い分け\n",
        "# while文が適しているケース\n",
        "# 「整数Nがあるとき、Nが2で最大で何回割り切れるかを求める」という処理を考える\n",
        "%%writefile temp.cpp\n",
        "#include <bits/stdc++.h>\n",
        "using namespace std;\n",
        " \n",
        "int main() {\n",
        "  int N;\n",
        "  cin >> N;\n",
        " \n",
        "  int count = 0;\n",
        "  while (N > 0) {\n",
        "    // 2で割り切れなければループを抜ける\n",
        "    if (N % 2 > 0) {\n",
        "      break;\n",
        "    }\n",
        "    N = N / 2;\n",
        "    count++;\n",
        "  }\n",
        "  cout << count << endl;\n",
        "}"
      ],
      "metadata": {
        "colab": {
          "base_uri": "https://localhost:8080/"
        },
        "id": "SErFyC1R_aB1",
        "outputId": "bad4bed3-cf67-44ed-c45f-1a0f2c8fa377"
      },
      "execution_count": null,
      "outputs": [
        {
          "output_type": "stream",
          "name": "stdout",
          "text": [
            "Overwriting temp.cpp\n"
          ]
        }
      ]
    },
    {
      "cell_type": "code",
      "source": [
        "!g++ temp.cpp -o temp; echo 8 |./temp"
      ],
      "metadata": {
        "colab": {
          "base_uri": "https://localhost:8080/"
        },
        "id": "CE7R7BNxAZJZ",
        "outputId": "92052b4b-27ae-44a6-cd51-6c3e5382acd5"
      },
      "execution_count": null,
      "outputs": [
        {
          "output_type": "stream",
          "name": "stdout",
          "text": [
            "3\n"
          ]
        }
      ]
    },
    {
      "cell_type": "markdown",
      "source": [
        "---\n",
        "未解決問題  \n",
        "\n",
        "再帰を使ってwhileを使わずに    \n",
        "「整数Nがあるとき、Nが2で最大で何回割り切れるかを求める」"
      ],
      "metadata": {
        "id": "ApmB4-JxAup8"
      }
    },
    {
      "cell_type": "markdown",
      "source": [
        "---\n",
        "EX16.隣り合う同じ値を探す\n",
        "\n",
        "5つの要素からなる配列 \n",
        "同じ値の要素が隣り合っているような箇所が存在するかどうかを判定  \n",
        "存在するなら\"YES\"を、存在しなければ\"NO\"を出力\n",
        "\n",
        "入力例  \n",
        "5 3 3 1 4"
      ],
      "metadata": {
        "id": "ZhjL_AvrANrY"
      }
    },
    {
      "cell_type": "code",
      "source": [
        "%%writefile temp.cpp\n",
        "#include <bits/stdc++.h>\n",
        "using namespace std;\n",
        "\n",
        "int main() {\n",
        "  vector<int> data(5);\n",
        "  for (int i = 0; i < 5; i++) {\n",
        "    cin >> data.at(i);\n",
        "  };\n",
        "\n",
        "  string answer = \"NO\";\n",
        "\n",
        "  for (int i = 0; i < data.size()-1;i++){\n",
        "      if (data.at(i)==data.at(i+1)){\n",
        "          answer = \"YES\";\n",
        "          break;\n",
        "      }\n",
        "  };\n",
        "  cout << answer << endl;\n",
        "}\n"
      ],
      "metadata": {
        "colab": {
          "base_uri": "https://localhost:8080/"
        },
        "id": "msYGRA1YF3ZR",
        "outputId": "194abcd3-3c7f-4345-aeff-8b72a8f7e822"
      },
      "execution_count": null,
      "outputs": [
        {
          "output_type": "stream",
          "name": "stdout",
          "text": [
            "Overwriting temp.cpp\n"
          ]
        }
      ]
    },
    {
      "cell_type": "code",
      "source": [
        "!g++ temp.cpp -o temp; echo 5 3 3 1 4 |./temp"
      ],
      "metadata": {
        "colab": {
          "base_uri": "https://localhost:8080/"
        },
        "id": "Nnc-sRsLF2nz",
        "outputId": "67abee70-2b39-481b-fe54-da66d25d690d"
      },
      "execution_count": null,
      "outputs": [
        {
          "output_type": "stream",
          "name": "stdout",
          "text": [
            "YES\n"
          ]
        }
      ]
    },
    {
      "cell_type": "code",
      "source": [
        "# 多重ループ \n",
        "%%writefile temp.cpp\n",
        "#include <bits/stdc++.h>\n",
        "using namespace std;\n",
        " \n",
        "int main() {\n",
        "  for (int i = 0; i < 2; i++) {\n",
        "    for (int j = 0; j < 2; j++) {\n",
        "      for (int k = 0; k < 2; k++) {\n",
        "        cout << \"i:\" << i << \", j:\" << j << \", k:\" << k << endl;\n",
        "      }\n",
        "    }\n",
        "  }\n",
        "}"
      ],
      "metadata": {
        "id": "IYFmSN-5IetI",
        "outputId": "25d99d83-244a-4661-ae73-906abd34e318",
        "colab": {
          "base_uri": "https://localhost:8080/"
        }
      },
      "execution_count": null,
      "outputs": [
        {
          "output_type": "stream",
          "name": "stdout",
          "text": [
            "Overwriting temp.cpp\n"
          ]
        }
      ]
    },
    {
      "cell_type": "code",
      "source": [
        "!g++ temp.cpp -o temp; ./temp"
      ],
      "metadata": {
        "id": "QPEkEMZJGfCr",
        "outputId": "23c36a16-2d01-4c81-b182-8af67d683d85",
        "colab": {
          "base_uri": "https://localhost:8080/"
        }
      },
      "execution_count": null,
      "outputs": [
        {
          "output_type": "stream",
          "name": "stdout",
          "text": [
            "i:0, j:0, k:0\n",
            "i:0, j:0, k:1\n",
            "i:0, j:1, k:0\n",
            "i:0, j:1, k:1\n",
            "i:1, j:0, k:0\n",
            "i:1, j:0, k:1\n",
            "i:1, j:1, k:0\n",
            "i:1, j:1, k:1\n"
          ]
        }
      ]
    },
    {
      "cell_type": "code",
      "source": [
        "# 例題「3要素の2つの配列A, Bに同じ要素が含まれているかどうか判定する」\n",
        "# 入力 1 3 2 4 5 3 => YES\n",
        "%%writefile temp.cpp\n",
        "#include <bits/stdc++.h>\n",
        "using namespace std;\n",
        " \n",
        "int main() {\n",
        "  vector<int> A(3), B(3);\n",
        "  for (int i = 0; i < 3; i++) {\n",
        "    cin >> A.at(i);\n",
        "  }\n",
        "  for (int i = 0; i < 3; i++) {\n",
        "    cin >> B.at(i);\n",
        "  }\n",
        " \n",
        "  // 答えを保持する変数\n",
        "  bool answer = false;\n",
        " \n",
        "  // ここにプログラムを追記\n",
        "  for (int i = 0; i < 3; i++) {\n",
        "    for (int j = 0; j < 3; j++) {\n",
        "      if (A.at(i) == B.at(j)) {\n",
        "        answer = true;\n",
        "      }\n",
        "    }\n",
        "  }\n",
        " \n",
        "  if (answer) {\n",
        "    cout << \"YES\" << endl;\n",
        "  }\n",
        "  else {\n",
        "    cout << \"NO\" << endl;\n",
        "  }\n",
        "}"
      ],
      "metadata": {
        "id": "e1Dt1ENtGWfr",
        "outputId": "ef52f63e-badb-403a-95a2-5700aec54464",
        "colab": {
          "base_uri": "https://localhost:8080/"
        }
      },
      "execution_count": null,
      "outputs": [
        {
          "output_type": "stream",
          "name": "stdout",
          "text": [
            "Overwriting temp.cpp\n"
          ]
        }
      ]
    },
    {
      "cell_type": "code",
      "source": [
        "!g++ temp.cpp -o temp; echo 1 3 2 4 5 3 |./temp"
      ],
      "metadata": {
        "id": "hsdwzl8UHlnE",
        "outputId": "c7a4cdbc-f41f-45aa-fb43-787c5f847ee5",
        "colab": {
          "base_uri": "https://localhost:8080/"
        }
      },
      "execution_count": null,
      "outputs": [
        {
          "output_type": "stream",
          "name": "stdout",
          "text": [
            "YES\n"
          ]
        }
      ]
    },
    {
      "cell_type": "markdown",
      "source": [
        "---\n",
        "問題 EX17.果物屋さんでお買い物\n",
        "\n",
        "ある果物屋では、リンゴ・パイナップルがそれぞれN個売られてる。\n",
        "\n",
        "リンゴ・パイナップルをそれぞれ1つずつ選んで購入しようとするとき、合計金額が丁度S円になるような買い方が何通りあるか。\n",
        "\n",
        "同じ値段の同じ種類の商品でも区別する。\n",
        "\n",
        "入力  \n",
        "3 400  \n",
        "100 100 130  \n",
        "270 300 250  \n",
        "=>  \n",
        "3\n"
      ],
      "metadata": {
        "id": "27aPvg1UG4LZ"
      }
    },
    {
      "cell_type": "code",
      "source": [
        "# EX17.果物屋さんでお買い物\n",
        "%%writefile temp.cpp\n",
        "#include <bits/stdc++.h>\n",
        "using namespace std;\n",
        "\n",
        "int main() {\n",
        "  int N, S;\n",
        "  cin >> N >> S;\n",
        "  vector<int> A(N), P(N);\n",
        "  for (int i = 0; i < N; i++) {\n",
        "    cin >> A.at(i);\n",
        "  }\n",
        "  for (int i = 0; i < N; i++) {\n",
        "    cin >> P.at(i);\n",
        "  }\n",
        "\n",
        "  // リンゴ・パイナップルをそれぞれ1つずつ購入するとき合計S円になるような買い方が何通りあるか\n",
        "  // ここにプログラムを追記\n",
        "  int counter = 0;\n",
        "  for (int i = 0; i < N; i++) {\n",
        "    for (int j = 0; j < N; j++) {\n",
        "      if (A.at(i) + P.at(j) == S) counter++;\n",
        "    }\n",
        "  }\n",
        "  cout << counter << endl;\n",
        "}\n"
      ],
      "metadata": {
        "colab": {
          "base_uri": "https://localhost:8080/"
        },
        "id": "CnTE-C_m888j",
        "outputId": "deea04b3-f992-41ac-b751-9b410c0518a7"
      },
      "execution_count": null,
      "outputs": [
        {
          "output_type": "stream",
          "name": "stdout",
          "text": [
            "Overwriting temp.cpp\n"
          ]
        }
      ]
    },
    {
      "cell_type": "code",
      "source": [
        "!g++ temp.cpp -o temp; echo 3 400 100 100 130 270 300 250   |./temp"
      ],
      "metadata": {
        "colab": {
          "base_uri": "https://localhost:8080/"
        },
        "id": "StKQu4Ia-zjM",
        "outputId": "e90b7388-7d9f-458c-8d7c-5c45742bbd83"
      },
      "execution_count": null,
      "outputs": [
        {
          "output_type": "stream",
          "name": "stdout",
          "text": [
            "3\n"
          ]
        }
      ]
    },
    {
      "cell_type": "markdown",
      "source": [
        "# 多次元配列\n",
        "# 二次元配列\n",
        "\n",
        "vector<vector<要素の型>> 変数名(要素数1, vector<要素の型>(要素数2, 初期値))で宣言\n",
        "\n",
        "もしくは\n",
        "\n",
        "```\n",
        "vector<vector<int>> data = {\n",
        "  {7, 4, 0, 8},\n",
        "  {2, 0, 3, 5},\n",
        "  {6, 1, 7, 0},\n",
        "};\n",
        "```\n",
        "\n",
        "とか\n"
      ],
      "metadata": {
        "id": "yZIxWfVC_tY8"
      }
    },
    {
      "cell_type": "code",
      "source": [
        "# 例題 縦3行、横4列の整数が書かれた表があります。この表に何個の0が含まれているかを求めてください。\n",
        "# 入力 7 4 0 8 2 0 3 5 6 1 7 0 => 3\n",
        "%%writefile temp.cpp\n",
        "#include <bits/stdc++.h>\n",
        "using namespace std;\n",
        "\n",
        "int main() {\n",
        "\n",
        "  // int型の2次元配列(3×4要素の)の宣言\n",
        "  vector<vector<int>> data(3, vector<int>(4));\n",
        "\n",
        "  // 入力 (2重ループを用いる)\n",
        "  for (int i = 0; i < 3; i++) {\n",
        "    for (int j = 0; j < 4; j++) {\n",
        "      cin >> data.at(i).at(j);\n",
        "    }\n",
        "  }\n",
        "\n",
        "  // 0の個数を数える\n",
        "  int count = 0;\n",
        "\n",
        "  for (int i = 0; i < 3; i++) {\n",
        "    for (int j = 0; j < 4; j++) {\n",
        "\n",
        "      // 上からi番目、左からj番目の画素が0かを判定\n",
        "      if (data.at(i).at(j) == 0) {\n",
        "        count++;\n",
        "      }\n",
        "\n",
        "    }\n",
        "  }\n",
        "\n",
        "   cout << count << endl;\n",
        "}\n"
      ],
      "metadata": {
        "colab": {
          "base_uri": "https://localhost:8080/"
        },
        "id": "GmR-jswS_rcR",
        "outputId": "620f57a2-29ee-4c1c-d0a5-a21ca65101d9"
      },
      "execution_count": null,
      "outputs": [
        {
          "output_type": "stream",
          "name": "stdout",
          "text": [
            "Overwriting temp.cpp\n"
          ]
        }
      ]
    },
    {
      "cell_type": "code",
      "source": [
        "!g++ temp.cpp -o temp; echo 7 4 0 8 2 0 3 5 6 1 7 0 |./temp"
      ],
      "metadata": {
        "id": "FUbVxPMpDXWK",
        "outputId": "67a2b0d7-88ca-4d21-d8ac-48b5ea3f0991",
        "colab": {
          "base_uri": "https://localhost:8080/"
        }
      },
      "execution_count": null,
      "outputs": [
        {
          "output_type": "stream",
          "name": "stdout",
          "text": [
            "3\n"
          ]
        }
      ]
    },
    {
      "cell_type": "markdown",
      "source": [
        "# いまここ"
      ],
      "metadata": {
        "id": "tSlW3WM5jCuR"
      }
    },
    {
      "cell_type": "code",
      "source": [
        "宣言\n",
        "2次元配列の宣言は次の形式になります。\n",
        "\n",
        "Copy\n",
        "vector<vector<要素の型>> 変数名(要素数1, vector<要素の型>(要素数2, 初期値));\n",
        "vector<vector<要素の型>> 変数名(要素数1, vector<要素の型>(要素数2));  \n",
        "// 初期値を省略\n",
        "vector<vector<要素の型>> 変数名(要素数1, vector<要素の型>(要素数2, 初期値));\n",
        "vector<vector<要素の型>> 変数名(要素数1, vector<要素の型>(要素数2));  // 初期値を省略\n",
        "\n",
        "初期値は省略することができます。省略した場合は「要素の型」に対応するゼロ値で初期化されます。\n",
        "例えば要素の型がintなら、初期値は0で、stringなら空文字列(\"\")です。\n",
        "\n",
        "表のようなデータを扱う場合、一般的には次のようにします。\n",
        "\n",
        "Copy\n",
        "vector<vector<要素の型>> 変数名(縦の要素数, vector<要素の型>(横の要素数));\n",
        "vector<vector<要素の型>> 変数名(縦の要素数, vector<要素の型>(横の要素数));\n",
        "例題で扱ったデータは、\n",
        "\n",
        "要素が整数\n",
        "縦に3行\n",
        "横に4列\n",
        "の表であるため、次のように宣言しています。\n",
        "\n",
        "Copy\n",
        "vector<vector<int>> data(3, vector<int>(4));\n",
        "vector<vector<int>> data(3, vector<int>(4));\n",
        "アクセス\n",
        "2次元配列の要素にアクセスする場合は次のように書きます。\n",
        "\n",
        "Copy\n",
        "変数名.at(添字1).at(添字2)\n",
        "変数名.at(添字1).at(添字2)\n",
        "\n",
        "宣言時にvector<vector<要素の型>> 変数名(縦の要素数, vector<型>(横の要素数))としている場合、より具体的には次のようになります。\n",
        "\n",
        "Copy\n",
        "変数名.at(上から何番目か).at(左から何番目か)\n",
        "変数名.at(上から何番目か).at(左から何番目か)\n",
        "例題では、入力の部分で「上からi番目、左からj番目」の要素に入力するため、\n",
        "\n",
        "Copy\n",
        "cin >> data.at(i).at(j)\n",
        "cin >> data.at(i).at(j)\n",
        "と書いています。\n",
        "また、上からi番目、左からj番目のマスが0かどうかを判定するため、\n",
        "\n",
        "Copy\n",
        "if (data.at(i).at(j) == 0)\n",
        "if (data.at(i).at(j) == 0)\n",
        "と書いています。\n",
        "\n",
        "大きさの取得\n",
        "Copy\n",
        "vector<vector<int>> data(3, vector<int>(4));\n",
        "\n",
        "data.size();  // 3 (縦の要素数) (12ではないことに注意!)\n",
        "data.at(0).size();  // 4 (横の要素数)vector<vector<int>> data(3, vector<int>(4));\n",
        "\n",
        "data.size();  // 3 (縦の要素数) (12ではないことに注意!)\n",
        "data.at(0).size();  // 4 (横の要素数)\n",
        "縦の要素数を取得するには変数名.size()として、横の要素数を取得するには変数名.at(0).size()とします。\n",
        "\n",
        "変数名.size()とした時に、すべての要素の個数ではなく縦の要素数が返ってくることに注意してください。\n",
        "すべての要素数が必要なときは縦の要素数 * 横の要素数で求める必要があります。\n",
        "\n",
        "2次元配列の考え方\n",
        "説明のために、これまで扱ってきた通常の配列を\"1次元配列\"と呼ぶことにします。\n",
        "\n",
        "ここで、1次元配列の復習をします。\"要素数\"個の\"初期値\"からなる配列は次のように宣言しました。(1.13 配列の細かい話を参照)\n",
        "Copy\n",
        "vector<要素の型> 変数名(要素数, 初期値);vector<要素の型> 変数名(要素数, 初期値);\n",
        "2次元配列は「\"1次元配列\"の配列」と考えると分かりやすいと思います。\n",
        "\n",
        "\n",
        "2次元配列の宣言の考え方\n",
        "\n",
        "\n",
        "1次元配列を表す型はvector<要素の型>でした。\n",
        "2次元配列を表す型は、「\"1次元配列\"の配列」なのでvector<vector<要素の型>>となります。(\"外側の配列の要素の型\"が1次元配列を表す型になっています。)\n",
        "また、2次元配列の\"初期値\"は\"1次元配列\"なのでvector<vector<要素の型>> 変数名(要素数1, 初期値)の\"初期値\"の部分にはvector<要素の型>(要素数2))を指定します。(\"要素数2\"個の要素から成る1次元配列です。)\n",
        "\n",
        "\n",
        "\n",
        "要素へのアクセスは次のように考えられます。\n",
        "\n",
        "Copy\n",
        "変数名.at(i)  // i番目の1次元配列\n",
        "変数名.at(i).at(j)  // i番目の1次元配列 のj番目の要素変数名.at(i)  // i番目の1次元配列\n",
        "変数名.at(i).at(j)  // i番目の1次元配列 のj番目の要素\n",
        "\n",
        "\n",
        "2次元配列の添字を「上から何番目か」と「左から何番目か」で表すことが直感的に感じられない人もいると思いますが、慣れましょう。たて×よこ と覚えると良いです。\n",
        "例題の入力と配列の添字は次の表のように対応しています\n",
        "\n",
        "i＼j\t0\t1\t2\t3\n",
        "0\t7\t4\t0\t8\n",
        "1\t2\t0\t3\t5\n",
        "2\t6\t1\t7\t0\n",
        "このデータが入力されたとき、以下の要素が何になっているかを考えてみてください。\n",
        "\n",
        "data.at(0).at(1)\n",
        "data.at(1).at(3)\n",
        "data.at(2).at(2)\n",
        "答え\n",
        "\n",
        "data.at(0).at(1) → 4 (0番目の1次元配列 の1番目の要素)\n",
        "0番目の1次元配列は {7, 4, 0, 8} です。\n",
        "\n",
        "data.at(1).at(3) → 5 (1番目の1次元配列 の3番目の要素)\n",
        "1番目の1次元配列は {2, 0, 3, 5} です。\n",
        "\n",
        "data.at(2).at(2) → 7 (2番目の1次元配列 の2番目の要素)\n",
        "2番目の1次元配列は {6, 1, 7, 0} です。\n",
        "\n",
        "N×0の二次元配列\n",
        "後から配列に要素を追加して使う場合などに、N×0の配列を宣言することがあります。\n",
        "\n",
        "以下のように書くと、N×0の二次元配列になります。\n",
        "\n",
        "Copy\n",
        "vector<vector<型>> 変数名(N);  // 「要素数0の配列」の配列vector<vector<型>> 変数名(N);  // 「要素数0の配列」の配列\n",
        "外側のvectorの初期値を省略することで、N個の配列の要素数はそれぞれ0になります。\n",
        "\n",
        "長方形にならない二次元配列(ジャグ配列)\n",
        "N×0の二次元配列に後から要素を追加していく場合などに「行毎に要素数の違う二次元配列」ができることがあります。\n",
        "このような配列はジャグ配列と呼ばれることがあります。\n",
        "\n",
        "具体例\n",
        "以下のdataはジャグ配列の例です。\n",
        "\n",
        "Copy\n",
        "vector<vector<int>> data(3);  // 3×0の配列\n",
        "\n",
        "data.at(0).push_back(1);\n",
        "data.at(0).push_back(2);\n",
        "data.at(0).push_back(3);\n",
        "// data.at(0)は3要素の配列\n",
        "\n",
        "data.at(1).push_back(4);\n",
        "data.at(1).push_back(5);\n",
        "data.at(1).push_back(6);\n",
        "data.at(1).push_back(7);\n",
        "// data.at(1)は4要素の配列\n",
        "\n",
        "data.at(2).push_back(8);\n",
        "data.at(2).push_back(9);\n",
        "// data.at(2)は2要素の配列vector<vector<int>> data(3);  // 3×0の配列\n",
        "\n",
        "data.at(0).push_back(1);\n",
        "data.at(0).push_back(2);\n",
        "data.at(0).push_back(3);\n",
        "// data.at(0)は3要素の配列\n",
        "\n",
        "data.at(1).push_back(4);\n",
        "data.at(1).push_back(5);\n",
        "data.at(1).push_back(6);\n",
        "data.at(1).push_back(7);\n",
        "// data.at(1)は4要素の配列\n",
        "\n",
        "data.at(2).push_back(8);\n",
        "data.at(2).push_back(9);\n",
        "// data.at(2)は2要素の配列\n",
        "dataのイメージを以下に示します。\n",
        "\n",
        "\n",
        "多次元配列\n",
        "2次元配列をさらに拡張して、3次元配列や4次元配列といったより高次元の配列を作ることもできます。\n",
        "1次元より次元の大きい配列をまとめて多次元配列と呼びます。\n",
        "\n",
        "3次元配列を使った例を見てみましょう。\n",
        "\n",
        "例題\n",
        "まるばつゲームの状態がN個与えられます。マルは'o'、バツは'x'、空白は'-'で表されます。すべての状態の'o'の個数の和を求めてください。\n",
        "\n",
        "1つ目の状態\n",
        "\n",
        "-\t-\t-\n",
        "-\tx\t-\n",
        "-\to\t-\n",
        "2つ目の状態\n",
        "\n",
        "x\to\t-\n",
        "-\to\t-\n",
        "x\t-\t-\n",
        "入力\n",
        "2\n",
        "- - -\n",
        "- x -\n",
        "- o -\n",
        "\n",
        "x o -\n",
        "- o -\n",
        "x - -\n",
        "実行結果\n",
        "3\n",
        "Copy\n",
        "#include <bits/stdc++.h>\n",
        "using namespace std;\n",
        " \n",
        "int main() {\n",
        "  int N;\n",
        "  cin >> N;\n",
        "  // N × (3 × 3)要素の配列を宣言\n",
        "  vector<vector<vector<char>>> data(N, vector<vector<char>>(3, vector<char>(3)));\n",
        " \n",
        "  // 入力\n",
        "  for (int i = 0; i < N; i++) {\n",
        "    // i番目の状態を読む\n",
        "    for (int j = 0; j < 3; j++) {\n",
        "      for (int k = 0; k < 3; k++) {\n",
        "        cin >> data.at(i).at(j).at(k);\n",
        "      }\n",
        "    }\n",
        "  }\n",
        " \n",
        "  // 'o'の数を数える\n",
        "  int count = 0;\n",
        " \n",
        "  for (int i = 0; i < N; i++) {\n",
        "    for (int j = 0; j < 3; j++) {\n",
        "      for (int k = 0; k < 3; k++) {\n",
        " \n",
        "        // 「i番目の状態」「上からj番目」「左からk番目」の要素が'o'か判定\n",
        "        if (data.at(i).at(j).at(k) == 'o') {\n",
        "          count++;\n",
        "        }\n",
        " \n",
        "      }\n",
        "    }\n",
        "  }\n",
        " \n",
        "   cout << count << endl;\n",
        "}\n",
        "#include <bits/stdc++.h>\n",
        "using namespace std;\n",
        "\n",
        "int main() {\n",
        "  int N;\n",
        "  cin >> N;\n",
        "  // N × (3 × 3)要素の配列を宣言\n",
        "  vector<vector<vector<char>>> data(N, vector<vector<char>>(3, vector<char>(3)));\n",
        "\n",
        "  // 入力\n",
        "  for (int i = 0; i < N; i++) {\n",
        "    // i番目の状態を読む\n",
        "    for (int j = 0; j < 3; j++) {\n",
        "      for (int k = 0; k < 3; k++) {\n",
        "        cin >> data.at(i).at(j).at(k);\n",
        "      }\n",
        "    }\n",
        "  }\n",
        "\n",
        "  // 'o'の数を数える\n",
        "  int count = 0;\n",
        "\n",
        "  for (int i = 0; i < N; i++) {\n",
        "    for (int j = 0; j < 3; j++) {\n",
        "      for (int k = 0; k < 3; k++) {\n",
        "\n",
        "        // 「i番目の状態」「上からj番目」「左からk番目」の要素が'o'か判定\n",
        "        if (data.at(i).at(j).at(k) == 'o') {\n",
        "          count++;\n",
        "        }\n",
        "\n",
        "      }\n",
        "    }\n",
        "  }\n",
        "\n",
        "   cout << count << endl;\n",
        "}\n",
        "3次元以上の配列も2次元配列とほとんど変わりません。\n",
        "\n",
        "宣言\n",
        "3次元配列の場合の宣言方法を次に示します。\n",
        "\n",
        "Copy\n",
        "vector<vector<vector<要素の型>>> 変数名(要素数1, vector<vector<要素の型>>(要素数2, vector<要素の型>(要素数3, 初期値)));\n",
        "vector<vector<vector<要素の型>>> 変数名(要素数1, vector<vector<要素の型>>(要素数2, vector<要素の型>(要素数3)));  // 初期値を省略vector<vector<vector<要素の型>>> 変数名(要素数1, vector<vector<要素の型>>(要素数2, vector<要素の型>(要素数3, 初期値)));\n",
        "vector<vector<vector<要素の型>>> 変数名(要素数1, vector<vector<要素の型>>(要素数2, vector<要素の型>(要素数3)));  // 初期値を省略\n",
        "ギョッとしてしまうかもしれませんが、基本的な考え方は2次元配列のときと同じです。\n",
        "3次元配列を「\"2次元配列\"の配列」つまり「\"1次元配列の配列\"の配列」と考えます。分かりやすくするために改行を入れてみます。\n",
        "\n",
        "Copy\n",
        "vector<\n",
        "  vector<vector<要素の型>> /* 2次元配列の型 */\n",
        "> 変数名(要素数1,\n",
        "  vector<vector<要素の型>>(要素数2, vector<要素の型>(要素数3, 初期値)) /* 2次元配列の値 */\n",
        ");vector<\n",
        "  vector<vector<要素の型>> /* 2次元配列の型 */\n",
        "> 変数名(要素数1,\n",
        "  vector<vector<要素の型>>(要素数2, vector<要素の型>(要素数3, 初期値)) /* 2次元配列の値 */\n",
        ");\n",
        "\n",
        "\n",
        "4次元以上の場合も同様に宣言します。N次元配列を「\"N-1次元配列\"の配列」と考えましょう。\n",
        "\n",
        "アクセス\n",
        "N次元配列の要素にアクセスするには次のように書きます。\n",
        "\n",
        "変数名.at(添字1).at(添字2).at(添字3) ... .at(添字N)\n",
        ".at(添字)をN回繰り返します。\n",
        "\n",
        "\n",
        "\n",
        "注意点\n",
        "多次元配列を扱う際の基本的な注意点は1次元配列と同様です。\n",
        "\n",
        "多次元配列ではさらに、添字の順番に注意しましょう。\n",
        "また、変数名.size()では1次元目の要素数が取得できますが、すべての要素の個数が取得できる訳ではないという点に注意しましょう。\n",
        "\n",
        "Copy\n",
        "vector<vector<vector<int>>> data = {\n",
        "  {\n",
        "    {1, 2, 3, 4},\n",
        "    {5, 6, 7, 8},\n",
        "    {9, 10, 11, 12},\n",
        "  },\n",
        "  {\n",
        "    {13, 14, 15, 16},\n",
        "    {17, 18, 19, 20},\n",
        "    {21, 22, 23, 24},\n",
        "  },\n",
        "};\n",
        "\n",
        "int size1 = data.size();\n",
        "cout << size1 << endl;  // 2\n",
        "\n",
        "int size2 = data.at(0).size();\n",
        "cout << size2 << endl;  // 3\n",
        "\n",
        "int size3 = data.at(0).at(0).size();\n",
        "cout << size3 << endl;  // 4\n",
        "\n",
        "cout << size1 * size2 * size3 << endl;  // 24vector<vector<vector<int>>> data = {\n",
        "  {\n",
        "    {1, 2, 3, 4},\n",
        "    {5, 6, 7, 8},\n",
        "    {9, 10, 11, 12},\n",
        "  },\n",
        "  {\n",
        "    {13, 14, 15, 16},\n",
        "    {17, 18, 19, 20},\n",
        "    {21, 22, 23, 24},\n",
        "  },\n",
        "};\n",
        "\n",
        "int size1 = data.size();\n",
        "cout << size1 << endl;  // 2\n",
        "\n",
        "int size2 = data.at(0).size();\n",
        "cout << size2 << endl;  // 3\n",
        "\n",
        "int size3 = data.at(0).at(0).size();\n",
        "cout << size3 << endl;  // 4\n",
        "\n",
        "cout << size1 * size2 * size3 << endl;  // 24\n",
        "細かい話\n",
        "要素を指定して初期化する\n",
        "Copy\n",
        "// 2次元配列の初期化\n",
        "vector<vector<int>> data1 = {\n",
        "  {7, 4, 0, 8},\n",
        "  {2, 0, 3, 5},\n",
        "  {6, 1, 7, 0}\n",
        "};\n",
        "\n",
        "// 3次元配列の初期化\n",
        "vector<vector<vector<char>>> data2 = {\n",
        "  {\n",
        "    {'-', '-', '-'},\n",
        "    {'-', 'x', '-'},\n",
        "    {'-', 'o', '-'}\n",
        "  },\n",
        "  {\n",
        "    {'x', 'o', '-'},\n",
        "    {'-', 'o', '-'},\n",
        "    {'x', '-', '-'}\n",
        "  }\n",
        "};// 2次元配列の初期化\n",
        "vector<vector<int>> data1 = {\n",
        "  {7, 4, 0, 8},\n",
        "  {2, 0, 3, 5},\n",
        "  {6, 1, 7, 0}\n",
        "};\n",
        "\n",
        "// 3次元配列の初期化\n",
        "vector<vector<vector<char>>> data2 = {\n",
        "  {\n",
        "    {'-', '-', '-'},\n",
        "    {'-', 'x', '-'},\n",
        "    {'-', 'o', '-'}\n",
        "  },\n",
        "  {\n",
        "    {'x', 'o', '-'},\n",
        "    {'-', 'o', '-'},\n",
        "    {'x', '-', '-'}\n",
        "  }\n",
        "};\n",
        "あらかじめ要素の値とサイズが決まっている場合に、要素を指定して初期化することができます。\n",
        "\n",
        "1次元の配列を多次元配列として使う\n",
        "「データの表」を扱いたいときは多次元配列が適していることを紹介しました。しかし「データの表」は一列に\"ならす\"ことで「データの列」として見ることができるので、1次元の配列で扱うこともできます。\n",
        "\n",
        "2次元の表を1次元に変換する方法はいろいろ考えられますが、表を行ごとに分割して「1列目のデータ→2列目のデータ→3列目のデータ→...」という1次元の列に変換するのがシンプルです。\n",
        "例えば縦H行、横W列の表を扱いたい時、データの個数はH×W個なので、vector<型> 変数名(H * W);と表現することができます。この場合、上からy個目、左からx個目の要素にアクセスするときは変数名.at(y * W + x)とします。\n",
        "\n",
        "y * Wの部分は、目的要素のある行の先頭の位置を表しています。一行のデータは並んでいるので、x列目のデータを得るには、行の先頭からxだけ進んだ位置にあるというわけです。\n",
        "\n",
        "(0, 0)\t(0, 1)\t(0, 2)\n",
        "(1, 0)\t(1, 1)\t(1, 2)\n",
        "(2, 0)\t(2, 1)\t(2, 2)\n",
        "vector以外を用いた多次元配列\n",
        "「1.13配列」の細かい話でも紹介しましたが、C++にはvector以外にも配列を表現する方法があります。\n",
        "\n",
        "Copy\n",
        "vector<int> data(3); // vectorによる要素数3の配列\n",
        "int data[3]; // Cの要素数3の配列\n",
        "array<int, 3> data; // arrayによる要素数3の配列vector<int> data(3); // vectorによる要素数3の配列\n",
        "int data[3]; // Cの要素数3の配列\n",
        "array<int, 3> data; // arrayによる要素数3の配列\n",
        "このページではvectorを使った多次元配列を紹介しましたが、vector以外の配列で多次元配列を表現することもできます。\n",
        "\n",
        "Copy\n",
        "// vector を用いた2次元配列\n",
        "vector<vector<int>> data(3, vector<int>(4));  // 縦3 x 横4 の2次元配列\n",
        "data.at(1).at(2)  // 上から2番目、左から3番目の要素へのアクセス　(1番目から数えていることに注意)\n",
        "\n",
        "// array を用いた2次元配列\n",
        "array<array<int, 4>, 3> data = {};  // 縦3 × 横4 の2次元配列\n",
        "data.at(1).at(2)  // 上から2番目、左から3番目の要素へのアクセス\n",
        "\n",
        "// Cの配列を用いた2次元配列\n",
        "int data[3][4] = {};  // 縦3 × 横4 の2次元配列\n",
        "data[1][2]  // 上から2番目、左から3番目の要素へのアクセス// vector を用いた2次元配列\n",
        "vector<vector<int>> data(3, vector<int>(4));  // 縦3 x 横4 の2次元配列\n",
        "data.at(1).at(2)  // 上から2番目、左から3番目の要素へのアクセス　(1番目から数えていることに注意)\n",
        "\n",
        "// array を用いた2次元配列\n",
        "array<array<int, 4>, 3> data = {};  // 縦3 × 横4 の2次元配列\n",
        "data.at(1).at(2)  // 上から2番目、左から3番目の要素へのアクセス\n",
        "\n",
        "// Cの配列を用いた2次元配列\n",
        "int data[3][4] = {};  // 縦3 × 横4 の2次元配列\n",
        "data[1][2]  // 上から2番目、左から3番目の要素へのアクセス\n",
        "arrayやCの配列は要素数に変数を用いることができなかったり、Cの配列では範囲外アクセスをしてもエラーにならずにバグを埋め込んでしまうという点に注意する必要があります。慣れるまではvectorの多次元配列を使うようにしましょう。\n",
        "\n",
        "問題\n",
        "リンク先の問題を解いてください。\n",
        "\n",
        "EX18.ゲーム大会\n",
        "ABCの問題\n",
        "ここまでの知識で解ける問題をAtCoder Beginner Contestの過去問題から紹介します。練習問題だけでは物足りない人は挑戦してみてください。\n",
        "\n",
        "ABC107 B - Grid Compression\n",
        "前のページ | 次のページ\n",
        "\n",
        "FacebookTwitterHatena共有\n",
        "ルール 用語集\n",
        "利用規約 プライバシーポリシー 個人情報保護方針 企業情報 よくある質問 お問い合わせ 資料請求\n",
        "Copyright Since 2012 ©AtCoder Inc. All rights reserved."
      ],
      "metadata": {
        "id": "rrUAmMRs_pOD"
      },
      "execution_count": null,
      "outputs": []
    }
  ]
}