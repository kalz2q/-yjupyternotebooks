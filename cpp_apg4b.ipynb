{
  "nbformat": 4,
  "nbformat_minor": 0,
  "metadata": {
    "colab": {
      "name": "cpp_apg4b.ipynb",
      "provenance": [],
      "toc_visible": true,
      "authorship_tag": "ABX9TyMIp3qn9SamLkn3wK2imzGW",
      "include_colab_link": true
    },
    "kernelspec": {
      "name": "python3",
      "display_name": "Python 3"
    },
    "language_info": {
      "name": "python"
    }
  },
  "cells": [
    {
      "cell_type": "markdown",
      "metadata": {
        "id": "view-in-github",
        "colab_type": "text"
      },
      "source": [
        "<a href=\"https://colab.research.google.com/github/kalz2q/mycolabnotebooks/blob/master/cpp_apg4b.ipynb\" target=\"_parent\"><img src=\"https://colab.research.google.com/assets/colab-badge.svg\" alt=\"Open In Colab\"/></a>"
      ]
    },
    {
      "cell_type": "markdown",
      "source": [
        "# メモ\n",
        "\n",
        "AtCoder Programming Guide for Beginners APG4b\n",
        "\n",
        "の練習問題をやる。\n",
        "\n",
        "https://atcoder.jp/contests/apg4b"
      ],
      "metadata": {
        "id": "8kHv-8CgciQc"
      }
    },
    {
      "cell_type": "markdown",
      "source": [
        "# 目次  \n",
        "\n",
        "1.00.はじめに  \n",
        "1.01.出力とコメント | EX1  \n",
        "1.02.プログラムの書き方とエラー | EX2  \n",
        "1.03.四則演算と優先順位 | EX3  \n",
        "1.04.変数と型 | EX4  \n",
        "1.05.プログラムの実行順序と入力 | EX5  \n",
        "1.06.if文・比較演算子・論理演算子 | EX6  \n",
        "1.07.条件式の結果とbool型 | EX7  \n",
        "1.08.変数のスコープ | EX8  \n",
        "1.09.複合代入演算子 | EX9  \n",
        "1.10.while文 | EX10  \n",
        "1.11.for文・break・continue | EX11  \n",
        "1.12.文字列と文字 | EX12 <= このあたりから普通の言語と違う  \n",
        "1.13.配列 | EX13  <= vector を使っている\n",
        "1.14.STLの関数 | EX14  \n",
        "1.15.関数 | EX15  \n",
        "  \n",
        "2.00.第2章について  \n",
        "2.01.ループの書き方と範囲for文 | EX16  \n",
        "2.02.多重ループ | EX17  \n",
        "2.03.多次元配列 | EX18  \n",
        "2.04.参照 | EX19  \n",
        "2.05.再帰関数 | EX20  \n",
        "2.06.計算量 | EX21  \n",
        "  \n",
        "3.00.第3章について  \n",
        "3.01.数値型  \n",
        "3.02.pair/tupleとauto | EX22  \n",
        "3.03.STLのコンテナ | EX23  \n",
        "3.04.構造体 | EX24  \n",
        "3.05.ビット演算 | EX25  \n",
        "3.06.その他の機能 | EX26  \n",
        "  \n",
        "4.00.第4章について  \n",
        "4.01.includeディレクティブ  \n",
        "4.02.名前空間  \n",
        "4.03.テンプレート  \n",
        "4.04.イテレータ  \n",
        "4.05.ポインタ  \n",
        "  \n",
        "付録1.コードテストの使い方  \n",
        "付録2.提出結果の見方  \n",
        "付録3.コンパイルエラー集  \n",
        "付録4.ループの裏技repマクロ  "
      ],
      "metadata": {
        "id": "5sm38Af7dBS3"
      }
    },
    {
      "cell_type": "markdown",
      "source": [
        "bits/stdc++.h の利用\n",
        "\n",
        "`#include <bits/stdc++.h>` で iostream, string, vector とか云々。\n",
        "\n",
        "`std::` と `#include` の勉強はしないでよい。とりあえず。\n",
        "\n",
        "main関数の `return 0` の省略\n",
        "\n",
        "計算量の解説\n",
        "\n",
        "repマクロの紹介\n",
        "\n",
        "`#define rep(i, n) for (int i = 0; i < (int)(n); i++)`\n"
      ],
      "metadata": {
        "id": "uUCd4AI-zp0n"
      }
    },
    {
      "cell_type": "markdown",
      "source": [
        "---\n",
        "例題 ハローワールド"
      ],
      "metadata": {
        "id": "jHYDOMmr_WMq"
      }
    },
    {
      "cell_type": "code",
      "source": [
        "%%writefile temp.cpp\n",
        "#include <bits/stdc++.h>\n",
        "using namespace std;\n",
        "\n",
        "int main() {\n",
        "  cout << \"Hello, world!\" << endl;\n",
        "}"
      ],
      "metadata": {
        "id": "xOjbdzyZ_5Mh",
        "outputId": "351760ed-8eb9-454c-bacf-d6eab4b268be",
        "colab": {
          "base_uri": "https://localhost:8080/"
        }
      },
      "execution_count": null,
      "outputs": [
        {
          "output_type": "stream",
          "name": "stdout",
          "text": [
            "Overwriting temp.cpp\n"
          ]
        }
      ]
    },
    {
      "cell_type": "code",
      "source": [
        "!g++ temp.cpp -o temp; ./temp"
      ],
      "metadata": {
        "id": "IIpSvJjqAFaL",
        "outputId": "4aa6606b-b4d0-475a-fb23-f74f353ae718",
        "colab": {
          "base_uri": "https://localhost:8080/"
        }
      },
      "execution_count": null,
      "outputs": [
        {
          "output_type": "stream",
          "name": "stdout",
          "text": [
            "Hello, world!\n"
          ]
        }
      ]
    },
    {
      "cell_type": "code",
      "source": [
        "# ハローワールドのプログラムで return を入れてみた\n",
        "# return 0 としないとエラーになる\n",
        "# セミコロンも必要、javascript みたいに補ってくれない\n",
        "# int main を void main にしたらエラーになった\n",
        "# int main(void) は通った\n",
        "# 質問 int main(int argc, char *argv[]) はどうか #=> 実験してみよう\n",
        "%%writefile temp.cpp\n",
        "#include <bits/stdc++.h>\n",
        "using namespace std;\n",
        "\n",
        "int main(int argc, char *argv[]) {\n",
        "  cout << argc << endl;\n",
        "  cout << argv[2] << endl;\n",
        "}\n",
        "\n"
      ],
      "metadata": {
        "id": "N6JoT1wTAeIh",
        "outputId": "35e9be22-b3d7-4851-e247-19da42d3fde2",
        "colab": {
          "base_uri": "https://localhost:8080/"
        }
      },
      "execution_count": null,
      "outputs": [
        {
          "output_type": "stream",
          "name": "stdout",
          "text": [
            "Overwriting temp.cpp\n"
          ]
        }
      ]
    },
    {
      "cell_type": "code",
      "source": [
        "!g++ temp.cpp -o temp; ./temp this is a pen"
      ],
      "metadata": {
        "id": "CjMZ9oCAB6dn",
        "outputId": "347d12e9-2f90-4112-84c2-7a93d96eb931",
        "colab": {
          "base_uri": "https://localhost:8080/"
        }
      },
      "execution_count": null,
      "outputs": [
        {
          "output_type": "stream",
          "name": "stdout",
          "text": [
            "5\n",
            "is\n"
          ]
        }
      ]
    },
    {
      "cell_type": "code",
      "source": [
        "# 問題\n",
        "# EX1 - コードテストと出力の練習 \n",
        "# こんにちは AtCoder と出力する\n",
        "# 改行を入れる\n",
        "%%writefile temp.cpp\n",
        "#include <bits/stdc++.h>\n",
        "using namespace std;\n",
        "\n",
        "int main() {\n",
        "  cout << \"こんにちは\" << endl;\n",
        "  cout << \"AtCoder\" << endl;\n",
        "}\n"
      ],
      "metadata": {
        "id": "OHELUdVTDN3L",
        "outputId": "6dad88c7-a84d-4466-ff1e-4566f91cfebc",
        "colab": {
          "base_uri": "https://localhost:8080/"
        }
      },
      "execution_count": null,
      "outputs": [
        {
          "output_type": "stream",
          "name": "stdout",
          "text": [
            "Overwriting temp.cpp\n"
          ]
        }
      ]
    },
    {
      "cell_type": "code",
      "source": [
        "!g++ temp.cpp -o temp; ./temp"
      ],
      "metadata": {
        "id": "uXOX3kB8Dw3L",
        "outputId": "e0b9e957-4a1d-4a9c-8861-5f5853790fa4",
        "colab": {
          "base_uri": "https://localhost:8080/"
        }
      },
      "execution_count": null,
      "outputs": [
        {
          "output_type": "stream",
          "name": "stdout",
          "text": [
            "こんにちは\n",
            "AtCoder\n"
          ]
        }
      ]
    },
    {
      "cell_type": "code",
      "source": [
        "# 問題\n",
        "# EX2 - エラーの修正 \n",
        "# 以下のプログラムは修正後\n",
        "%%writefile temp.cpp\n",
        "#include <bits/stdc++.h>\n",
        "using namespace std;\n",
        "\n",
        "int main() {\n",
        "  cout << \"いつも\" << 2525 << endl;\n",
        "  cout << \"AtCoderくん\" << endl;\n",
        "}\n"
      ],
      "metadata": {
        "id": "kofG4JEGD6nl",
        "outputId": "077ba3cf-4904-4d5c-fcb4-4419e2c30a1d",
        "colab": {
          "base_uri": "https://localhost:8080/"
        }
      },
      "execution_count": null,
      "outputs": [
        {
          "output_type": "stream",
          "name": "stdout",
          "text": [
            "Writing temp.cpp\n"
          ]
        }
      ]
    },
    {
      "cell_type": "code",
      "source": [
        "!g++ temp.cpp -o temp; ./temp"
      ],
      "metadata": {
        "id": "4YT34nh8EjLU",
        "outputId": "3c0b083c-0a95-430b-a5c2-1aa83ad882d0",
        "colab": {
          "base_uri": "https://localhost:8080/"
        }
      },
      "execution_count": null,
      "outputs": [
        {
          "output_type": "stream",
          "name": "stdout",
          "text": [
            "いつも2525\n",
            "AtCoderくん\n"
          ]
        }
      ]
    },
    {
      "cell_type": "code",
      "source": [
        "# 問題\n",
        "# EX3 - 計算問題 \n",
        "# 公式を使って1から100までの和を求める\n",
        "%%writefile temp.cpp\n",
        "#include <bits/stdc++.h>\n",
        "using namespace std;\n",
        "int main() {\n",
        "  cout <<  (100 + 1) * 100 / 2 << endl;\n",
        "}\n"
      ],
      "metadata": {
        "id": "_pKMrFEUFw3t",
        "outputId": "40e88645-016f-4477-8a56-4cdeefbe59fd",
        "colab": {
          "base_uri": "https://localhost:8080/"
        }
      },
      "execution_count": null,
      "outputs": [
        {
          "output_type": "stream",
          "name": "stdout",
          "text": [
            "Overwriting temp.cpp\n"
          ]
        }
      ]
    },
    {
      "cell_type": "code",
      "source": [
        "!g++ temp.cpp -o temp; ./temp"
      ],
      "metadata": {
        "id": "hkwwL69sHAUX",
        "outputId": "e565a3a8-1daa-4deb-9734-fcc77c822ced",
        "colab": {
          "base_uri": "https://localhost:8080/"
        }
      },
      "execution_count": null,
      "outputs": [
        {
          "output_type": "stream",
          "name": "stdout",
          "text": [
            "5050\n"
          ]
        }
      ]
    },
    {
      "cell_type": "code",
      "source": [
        "# 変数\n",
        "# 例題\n",
        "%%writefile temp.cpp\n",
        "#include <bits/stdc++.h>\n",
        "using namespace std;\n",
        "\n",
        "int main() {\n",
        "\n",
        "  int name;\n",
        "\n",
        "  name = 10;\n",
        "\n",
        "  cout << name << endl;     // 10\n",
        "  cout << name + 2 << endl; // 10 + 2 → 12\n",
        "  cout << name * 3 << endl; // 10 * 3 → 30\n",
        "}\n"
      ],
      "metadata": {
        "id": "iNdsPMrCHwsx",
        "outputId": "4257848b-c12c-4fa1-ddaf-c6dd702de8db",
        "colab": {
          "base_uri": "https://localhost:8080/"
        }
      },
      "execution_count": null,
      "outputs": [
        {
          "output_type": "stream",
          "name": "stdout",
          "text": [
            "Overwriting temp.cpp\n"
          ]
        }
      ]
    },
    {
      "cell_type": "code",
      "source": [
        "!g++ temp.cpp -o temp; ./temp"
      ],
      "metadata": {
        "id": "XQ_o3ZmQH56c",
        "outputId": "2fa48f38-0046-4fed-899c-d57b3e3a0f38",
        "colab": {
          "base_uri": "https://localhost:8080/"
        }
      },
      "execution_count": null,
      "outputs": [
        {
          "output_type": "stream",
          "name": "stdout",
          "text": [
            "10\n",
            "12\n",
            "30\n"
          ]
        }
      ]
    },
    {
      "cell_type": "code",
      "source": [
        "# 変数の初期化\n",
        "%%writefile temp.cpp\n",
        "#include <bits/stdc++.h>\n",
        "using namespace std;\n",
        "\n",
        "int main() {\n",
        "\n",
        "  int name = 10;\n",
        "\n",
        "  cout << name << endl;\n",
        "}\n"
      ],
      "metadata": {
        "id": "qdAaNCZhKbPB",
        "outputId": "8d428ed3-df50-4577-910b-5720b27ad4b1",
        "colab": {
          "base_uri": "https://localhost:8080/"
        }
      },
      "execution_count": null,
      "outputs": [
        {
          "output_type": "stream",
          "name": "stdout",
          "text": [
            "Overwriting temp.cpp\n"
          ]
        }
      ]
    },
    {
      "cell_type": "code",
      "source": [
        "!g++ temp.cpp -o temp; ./temp"
      ],
      "metadata": {
        "id": "4HIgJJIzKhL9",
        "outputId": "05366d9c-3188-4363-c5e6-98d7c3746a1e",
        "colab": {
          "base_uri": "https://localhost:8080/"
        }
      },
      "execution_count": null,
      "outputs": [
        {
          "output_type": "stream",
          "name": "stdout",
          "text": [
            "10\n"
          ]
        }
      ]
    },
    {
      "cell_type": "code",
      "source": [
        "# 変数はコピーされ、元の変数は影響を受けない\n",
        "%%writefile temp.cpp\n",
        "#include <bits/stdc++.h>\n",
        "using namespace std;\n",
        "\n",
        "int main() {\n",
        "\n",
        "  int a = 10;\n",
        "  int b;\n",
        "  b = a; // aの値がコピーされ、bに10が代入される\n",
        "  a = 5; // aの値は5に書き換わるが、bは10のまま\n",
        "\n",
        "  cout << a << endl; // 5\n",
        "  cout << b << endl; // 10\n",
        "}\n"
      ],
      "metadata": {
        "id": "3lOKk4ivKxVC",
        "outputId": "dc03153f-b7f8-4e8c-e379-8549eeca5f5b",
        "colab": {
          "base_uri": "https://localhost:8080/"
        }
      },
      "execution_count": null,
      "outputs": [
        {
          "output_type": "stream",
          "name": "stdout",
          "text": [
            "Overwriting temp.cpp\n"
          ]
        }
      ]
    },
    {
      "cell_type": "code",
      "source": [
        "!g++ temp.cpp -o temp; ./temp"
      ],
      "metadata": {
        "id": "dv3rlAghK4UK",
        "outputId": "a9be084d-e2a5-4555-b23c-a9be9dba3752",
        "colab": {
          "base_uri": "https://localhost:8080/"
        }
      },
      "execution_count": null,
      "outputs": [
        {
          "output_type": "stream",
          "name": "stdout",
          "text": [
            "5\n",
            "10\n"
          ]
        }
      ]
    },
    {
      "cell_type": "code",
      "source": [
        "# 変数を同時に宣言\n",
        "%%writefile temp.cpp\n",
        "#include <bits/stdc++.h>\n",
        "using namespace std;\n",
        "\n",
        "int main() {\n",
        "\n",
        "  int a = 10, b = 5;\n",
        "\n",
        "  cout << a << endl;\n",
        "  cout << b << endl;\n",
        "}\n"
      ],
      "metadata": {
        "id": "QAmgYM1fLAIt",
        "outputId": "b45dcb75-62df-4daa-85dd-ba39c0d4f28f",
        "colab": {
          "base_uri": "https://localhost:8080/"
        }
      },
      "execution_count": null,
      "outputs": [
        {
          "output_type": "stream",
          "name": "stdout",
          "text": [
            "Overwriting temp.cpp\n"
          ]
        }
      ]
    },
    {
      "cell_type": "code",
      "source": [
        "!g++ temp.cpp -o temp; ./temp"
      ],
      "metadata": {
        "id": "o-5jJpPbLSr1",
        "outputId": "0b4485bf-89e4-4b32-d95e-eaf137709f22",
        "colab": {
          "base_uri": "https://localhost:8080/"
        }
      },
      "execution_count": null,
      "outputs": [
        {
          "output_type": "stream",
          "name": "stdout",
          "text": [
            "10\n",
            "5\n"
          ]
        }
      ]
    },
    {
      "cell_type": "code",
      "source": [
        "# メモ\n",
        "# c++ の変数は camelCase と理解していたが、この tutorial では python みたいな anake_case が出てきた\n",
        "# `_` が使えると言う説明のためかも"
      ],
      "metadata": {
        "id": "AjCuwk-mL983"
      },
      "execution_count": null,
      "outputs": []
    },
    {
      "cell_type": "code",
      "source": [
        "# メモ\n",
        "# int , double, string と呼ぶ、float とは言わないらしい\n"
      ],
      "metadata": {
        "id": "IU8rnfNmMtle"
      },
      "execution_count": null,
      "outputs": []
    },
    {
      "cell_type": "code",
      "source": [
        "# 型変換\n",
        "%%writefile temp.cpp\n",
        "#include <bits/stdc++.h>\n",
        "using namespace std;\n",
        "\n",
        "int main() {\n",
        "  int i = 30;\n",
        "  double d = 1.5;\n",
        "  string s = \"Hello\";\n",
        "\n",
        "  cout << i + d << endl; // 31.5\n",
        "  cout << i * d << endl; // 45\n",
        "  cout << 45 / 2 << endl; // 22 小数点以下切り捨て\n",
        "  cout << i * d / 2 << endl; // 22.5 小数点以下も残る\n",
        "  /*\n",
        "  以下の処理はコンパイルエラー\n",
        "  cout << s + i << endl; // string型とint型\n",
        "  cout << s * i << endl; // string型とint型\n",
        "  cout << s + d << endl; // string型とdouble型\n",
        "  */\n",
        "}\n"
      ],
      "metadata": {
        "id": "b1DxVz9ONZDI",
        "outputId": "49e0b352-46c9-418a-caeb-3ec9ba3b6c82",
        "colab": {
          "base_uri": "https://localhost:8080/"
        }
      },
      "execution_count": null,
      "outputs": [
        {
          "output_type": "stream",
          "name": "stdout",
          "text": [
            "Overwriting temp.cpp\n"
          ]
        }
      ]
    },
    {
      "cell_type": "code",
      "source": [
        "!g++ temp.cpp -o temp; ./temp"
      ],
      "metadata": {
        "id": "D_4fvex5NfVz",
        "outputId": "1d4df89b-e554-42f6-d26b-a792c5adf39f",
        "colab": {
          "base_uri": "https://localhost:8080/"
        }
      },
      "execution_count": null,
      "outputs": [
        {
          "output_type": "stream",
          "name": "stdout",
          "text": [
            "31.5\n",
            "45\n",
            "22\n",
            "22.5\n"
          ]
        }
      ]
    },
    {
      "cell_type": "code",
      "source": [
        "# 問題\n",
        "# EX4 - ◯年は何秒？ \n",
        "# int型の変数secondsは一年の秒数\n",
        "# これを利用して 1年は何秒か,2年は何秒か,5年は何秒か,10年は何秒かを一行ずつ表示する\n",
        "%%writefile temp.cpp\n",
        "#include <bits/stdc++.h>\n",
        "using namespace std;\n",
        "\n",
        "int main() {\n",
        "  // 一年の秒数\n",
        "  int seconds = 365 * 24 * 60 * 60;\n",
        "\n",
        "  cout << seconds  << endl;\n",
        "  cout << seconds * 2 << endl;\n",
        "  cout << seconds * 5 << endl;\n",
        "  cout << seconds * 10  << endl;\n",
        "}\n"
      ],
      "metadata": {
        "id": "6meYa14yODkD",
        "outputId": "869fe0aa-010e-449e-9f9c-4eb5140325ad",
        "colab": {
          "base_uri": "https://localhost:8080/"
        }
      },
      "execution_count": null,
      "outputs": [
        {
          "output_type": "stream",
          "name": "stdout",
          "text": [
            "Overwriting temp.cpp\n"
          ]
        }
      ]
    },
    {
      "cell_type": "code",
      "source": [
        "!g++ temp.cpp -o temp; ./temp"
      ],
      "metadata": {
        "id": "XYsGzo8OOzDM",
        "outputId": "9d85ab44-4a53-419f-9c38-c1870dbb9d0b",
        "colab": {
          "base_uri": "https://localhost:8080/"
        }
      },
      "execution_count": null,
      "outputs": [
        {
          "output_type": "stream",
          "name": "stdout",
          "text": [
            "31536000\n",
            "63072000\n",
            "157680000\n",
            "315360000\n"
          ]
        }
      ]
    },
    {
      "cell_type": "code",
      "source": [
        "# プログラムの実行時にデータの入力を受け取る方法\n",
        "# 入力 Hello 1.5 => Hello, 1.5 と出力\n",
        "%%writefile temp.cpp\n",
        "#include <bits/stdc++.h>\n",
        "using namespace std;\n",
        "\n",
        "int main() {\n",
        "  string text;\n",
        "  double d;\n",
        "  cin >> text;\n",
        "  cin >> d;\n",
        "  cout << text << \", \" << d << endl;\n",
        "}\n"
      ],
      "metadata": {
        "id": "NtiLJkXEPbsy",
        "outputId": "208b2424-38d5-4fce-f87c-22bbf2539ead",
        "colab": {
          "base_uri": "https://localhost:8080/"
        }
      },
      "execution_count": null,
      "outputs": [
        {
          "output_type": "stream",
          "name": "stdout",
          "text": [
            "Overwriting temp.cpp\n"
          ]
        }
      ]
    },
    {
      "cell_type": "code",
      "source": [
        "!g++ temp.cpp -o temp; echo Hello 1.5 | ./temp"
      ],
      "metadata": {
        "id": "5BIxpEUgPvNZ",
        "outputId": "d97eff3a-2850-4362-a227-95eb23025485",
        "colab": {
          "base_uri": "https://localhost:8080/"
        }
      },
      "execution_count": null,
      "outputs": [
        {
          "output_type": "stream",
          "name": "stdout",
          "text": [
            "Hello, 1.5\n"
          ]
        }
      ]
    },
    {
      "cell_type": "code",
      "source": [
        "# 問題\n",
        "# EX5 - A足すB問題 \n",
        "# 2つの整数A, Bが与えられます。A+Bの計算結果を出力してください。\n",
        "%%writefile temp.cpp\n",
        "#include <bits/stdc++.h>\n",
        "using namespace std;\n",
        " \n",
        "int main() {\n",
        "  int A, B;\n",
        "  cin >> A >> B;\n",
        "  cout << A+B << endl;\n",
        "}"
      ],
      "metadata": {
        "id": "pHVa1nn4-6OS",
        "outputId": "5cbed93e-b84f-4dd4-b377-940d330c9416",
        "colab": {
          "base_uri": "https://localhost:8080/"
        }
      },
      "execution_count": null,
      "outputs": [
        {
          "output_type": "stream",
          "name": "stdout",
          "text": [
            "Writing temp.cpp\n"
          ]
        }
      ]
    },
    {
      "cell_type": "code",
      "source": [
        "!g++ temp.cpp -o temp; echo 1 2 | ./temp"
      ],
      "metadata": {
        "id": "FvNljIIN_Q5M"
      },
      "execution_count": null,
      "outputs": []
    },
    {
      "cell_type": "code",
      "source": [
        "# 問題\n",
        "# A - New Year \n",
        "# 12 月 30 日の M 時から次の年になるまでは何時間か、求めてください。\n",
        "%%writefile temp.cpp\n",
        "#include <bits/stdc++.h>\n",
        "using namespace std;\n",
        " \n",
        "int main() {\n",
        "  int M;\n",
        "  cin >> M;\n",
        "  cout << 48 - M << endl;\n",
        "}"
      ],
      "metadata": {
        "id": "Knte-0NU_h1Z",
        "outputId": "9aff3576-1016-40f2-d799-29476d27797c",
        "colab": {
          "base_uri": "https://localhost:8080/"
        }
      },
      "execution_count": null,
      "outputs": [
        {
          "output_type": "stream",
          "name": "stdout",
          "text": [
            "Overwriting temp.cpp\n"
          ]
        }
      ]
    },
    {
      "cell_type": "code",
      "source": [
        "!g++ temp.cpp -o temp; echo 21 | ./temp"
      ],
      "metadata": {
        "id": "Npg1lKKg_3EQ",
        "outputId": "cdcb43f3-113e-4c20-ca22-a54201ffe845",
        "colab": {
          "base_uri": "https://localhost:8080/"
        }
      },
      "execution_count": null,
      "outputs": [
        {
          "output_type": "stream",
          "name": "stdout",
          "text": [
            "27\n"
          ]
        }
      ]
    },
    {
      "cell_type": "code",
      "source": [
        "# 問題\n",
        "# A - Rating Goal \n",
        "# 現在のレーティングを a とする。\n",
        "# 次のコンテストで, パフォーマンス b を取ったとする。\n",
        "# そのとき, レーティングは a と b の平均まで変化する。\n",
        "# 高橋君は, 現在のレーティングが R で, 次のコンテストでレーティングをちょうど G にした\n",
        "# そのとき, 高橋君が取るべきパフォーマンスを求めなさい。\n",
        "%%writefile temp.cpp\n",
        "#include <bits/stdc++.h>\n",
        "using namespace std;\n",
        " \n",
        "int main() {\n",
        "  int R, G;\n",
        "  cin >> R >> G;\n",
        "  // (R + performance ) / 2 = G より performance = G * 2 - R\n",
        "  cout << G * 2 - R << endl;\n",
        "}"
      ],
      "metadata": {
        "id": "xUkTz452ASP5",
        "outputId": "98a81f41-5410-42be-8a46-280583800dd8",
        "colab": {
          "base_uri": "https://localhost:8080/"
        }
      },
      "execution_count": null,
      "outputs": [
        {
          "output_type": "stream",
          "name": "stdout",
          "text": [
            "Overwriting temp.cpp\n"
          ]
        }
      ]
    },
    {
      "cell_type": "code",
      "source": [
        "!g++ temp.cpp -o temp; echo 2002 2017 | ./temp"
      ],
      "metadata": {
        "id": "s-_VjduUBLyU",
        "outputId": "bd950668-b01b-44d0-9c4e-6748901b12fd",
        "colab": {
          "base_uri": "https://localhost:8080/"
        }
      },
      "execution_count": null,
      "outputs": [
        {
          "output_type": "stream",
          "name": "stdout",
          "text": [
            "2032\n"
          ]
        }
      ]
    },
    {
      "cell_type": "code",
      "source": [
        "# 問題\n",
        "# A - Bichrome Cells \n",
        "# N×N のマス目があります。\n",
        "# このマス目の各マスを白色または黒色に塗ることにしました\n",
        "# ちょうど A マスを白色に塗るとき、黒色に塗ることになるマスはいくつあるでしょうか。\n",
        "%%writefile temp.cpp\n",
        "#include <bits/stdc++.h>\n",
        "using namespace std;\n",
        " \n",
        "int main() {\n",
        "  int N, A;\n",
        "  cin >> N >> A;\n",
        "  cout << N * N - A << endl;\n",
        "}"
      ],
      "metadata": {
        "id": "Xbsh8SHTCXaX",
        "outputId": "4392ee30-fb9a-4657-cf40-3bfb22c58a41",
        "colab": {
          "base_uri": "https://localhost:8080/"
        }
      },
      "execution_count": null,
      "outputs": [
        {
          "output_type": "stream",
          "name": "stdout",
          "text": [
            "Overwriting temp.cpp\n"
          ]
        }
      ]
    },
    {
      "cell_type": "code",
      "source": [
        "!g++ temp.cpp -o temp; echo 3 4 | ./temp"
      ],
      "metadata": {
        "id": "VoyMrKOrFhxO",
        "outputId": "a3f7f9e9-64ae-49e1-9b8d-e12731bd075a",
        "colab": {
          "base_uri": "https://localhost:8080/"
        }
      },
      "execution_count": null,
      "outputs": [
        {
          "output_type": "stream",
          "name": "stdout",
          "text": [
            "5\n"
          ]
        }
      ]
    },
    {
      "cell_type": "code",
      "source": [
        "# 問題\n",
        "# A - Round Up the Mean\n",
        "# 2 つの正整数 a, b が与えられます。 a, b の平均値を x とします。 \n",
        "# x の小数点以下を切り上げて得られる整数を出力してください。\n",
        "# 入力 7 4 => 6\n",
        "%%writefile temp.cpp\n",
        "#include <bits/stdc++.h>\n",
        "using namespace std;\n",
        " \n",
        "int main() {\n",
        "  int a, b;\n",
        "  cin >> a >> b;\n",
        "  cout << (a+b+1)/2 << endl;\n",
        "}"
      ],
      "metadata": {
        "id": "gzghcijvFybT",
        "outputId": "17697fae-38c1-4eb6-c1d8-9d2a3727fa8c",
        "colab": {
          "base_uri": "https://localhost:8080/"
        }
      },
      "execution_count": null,
      "outputs": [
        {
          "output_type": "stream",
          "name": "stdout",
          "text": [
            "Overwriting temp.cpp\n"
          ]
        }
      ]
    },
    {
      "cell_type": "code",
      "source": [
        "!g++ temp.cpp -o temp; echo 7 4 | ./temp"
      ],
      "metadata": {
        "id": "xtAxQf_-GINc",
        "outputId": "4176d55c-9366-4f06-fb34-429e7ff8f6d4",
        "colab": {
          "base_uri": "https://localhost:8080/"
        }
      },
      "execution_count": null,
      "outputs": [
        {
          "output_type": "stream",
          "name": "stdout",
          "text": [
            "6\n"
          ]
        }
      ]
    },
    {
      "cell_type": "code",
      "source": [
        "# 問題\n",
        "# A - Placing Marbles \n",
        "# すぬけ君は 1,2,3 の番号がついた 3 つのマスからなるマス目を持っています。 \n",
        "# 各マスには 0 か 1 が書かれています。\n",
        "# すぬけ君は 1 が書かれたマスにビー玉を置きます。 ビー玉が置かれるマスがいくつあるか求めてください。\n",
        "%%writefile temp.cpp\n",
        "#include <bits/stdc++.h>\n",
        "using namespace std;\n",
        " \n",
        "int main() {\n",
        "  int x, s1, s2, s3;\n",
        "  cin >> x ;\n",
        "  s1 = x % 2;\n",
        "  s2 = x / 10 % 2;\n",
        "  s3 = x / 100 % 2;\n",
        "  cout << s1+s2+s3 << endl;\n",
        "}"
      ],
      "metadata": {
        "id": "XN4-zwHkOKsZ",
        "outputId": "2399fb99-b1c6-43d0-cbf4-3ffcd871bcba",
        "colab": {
          "base_uri": "https://localhost:8080/"
        }
      },
      "execution_count": null,
      "outputs": [
        {
          "output_type": "stream",
          "name": "stdout",
          "text": [
            "Overwriting temp.cpp\n"
          ]
        }
      ]
    },
    {
      "cell_type": "code",
      "source": [
        "!g++ temp.cpp -o temp; echo 101 | ./temp"
      ],
      "metadata": {
        "id": "EuvyQfjqOcJC",
        "outputId": "9aac51cf-aa36-47e2-92bc-c203ef083917",
        "colab": {
          "base_uri": "https://localhost:8080/"
        }
      },
      "execution_count": null,
      "outputs": [
        {
          "output_type": "stream",
          "name": "stdout",
          "text": [
            "0\n"
          ]
        }
      ]
    },
    {
      "cell_type": "code",
      "source": [
        "# G - 1.06.if文・比較演算子・論理演算子 \n",
        "# 問題\n",
        "# EX6 - 電卓をつくろう \n",
        "# 1行の計算式が与えられるので、その結果を出力してください。\n",
        "# + - * / 以外はエラー\n",
        "%%writefile temp.cpp\n",
        "#include <bits/stdc++.h>\n",
        "using namespace std;\n",
        "\n",
        "int main() {\n",
        "  int A, B;\n",
        "  string op;\n",
        "  cin >> A >> op >> B;\n",
        "\n",
        "  if (op == \"+\") cout << A + B << endl;\n",
        "  else if (op == \"-\") cout << A - B << endl;\n",
        "  else if (op == \"*\") cout << A * B << endl;\n",
        "  else if (op == \"/\" && B != 0) cout << A / B << endl;\n",
        "  else cout << \"error\" << endl;\n",
        "\n",
        "}"
      ],
      "metadata": {
        "id": "XfLqiU3LPQLH",
        "outputId": "d8f23bb0-ad72-42f0-d0e3-20168e3fe880",
        "colab": {
          "base_uri": "https://localhost:8080/"
        }
      },
      "execution_count": null,
      "outputs": [
        {
          "output_type": "stream",
          "name": "stdout",
          "text": [
            "Overwriting temp.cpp\n"
          ]
        }
      ]
    },
    {
      "cell_type": "code",
      "source": [
        "!g++ temp.cpp -o temp; echo 1 + 2 | ./temp"
      ],
      "metadata": {
        "id": "ml3bUB1Pqg_a",
        "outputId": "a64ac977-2957-4dc9-9619-d5b3dbb23b1e",
        "colab": {
          "base_uri": "https://localhost:8080/"
        }
      },
      "execution_count": null,
      "outputs": [
        {
          "output_type": "stream",
          "name": "stdout",
          "text": [
            "3\n"
          ]
        }
      ]
    },
    {
      "cell_type": "code",
      "source": [
        "# 問題\n",
        "# A - Infinite Coins \n",
        "# E869120 は 1 円硬貨を A 枚と 500 円硬貨を無限枚持っています.\n",
        "# これらの硬貨だけを使うことによって, ちょうど N 円を支払うことができるかを判定しなさい.\n",
        "%%writefile temp.cpp\n",
        "#include <bits/stdc++.h>\n",
        "using namespace std;\n",
        "\n",
        "int main() {\n",
        "  int N, A;\n",
        "  cin >> N >> A;\n",
        "\n",
        "  if (N % 500 <= A) cout << \"Yes\" << endl;\n",
        "  else {\n",
        "      cout << \"No\" << endl;\n",
        "  }\n",
        "}"
      ],
      "metadata": {
        "id": "tlDbZllqjsMF",
        "outputId": "c94485be-7305-4a54-d2ad-072e6474d43c",
        "colab": {
          "base_uri": "https://localhost:8080/"
        }
      },
      "execution_count": null,
      "outputs": [
        {
          "output_type": "stream",
          "name": "stdout",
          "text": [
            "Overwriting temp.cpp\n"
          ]
        }
      ]
    },
    {
      "cell_type": "code",
      "source": [
        "!g++ temp.cpp -o temp; echo 2018 218 | ./temp\n",
        "!g++ temp.cpp -o temp; echo 2763 0 | ./temp\n",
        "!g++ temp.cpp -o temp; echo 37 514 | ./temp"
      ],
      "metadata": {
        "id": "tIzYFgHFkVJM",
        "outputId": "9193db7f-af1d-41d4-9d6c-f0aa6990e02b",
        "colab": {
          "base_uri": "https://localhost:8080/"
        }
      },
      "execution_count": null,
      "outputs": [
        {
          "output_type": "stream",
          "name": "stdout",
          "text": [
            "Yes\n",
            "No\n",
            "Yes\n"
          ]
        }
      ]
    },
    {
      "cell_type": "code",
      "source": [
        "# 問題\n",
        "# A - Product\n",
        "# シカのAtCoDeerくんは二つの正整数 a,b を見つけました。 a と b の積が偶数か奇数か判定してください。 Even Odd\n",
        "%%writefile temp.cpp\n",
        "#include <bits/stdc++.h>\n",
        "using namespace std;\n",
        "\n",
        "int main() {\n",
        "  int a, b;\n",
        "  cin >> a >> b;\n",
        "\n",
        "  if (a * b % 2 == 0) cout << \"Even\" << endl;\n",
        "  else cout << \"Odd\" << endl;\n",
        "}"
      ],
      "metadata": {
        "id": "HLh2-w8SnUGy",
        "outputId": "9d33cc61-c3eb-44a3-a4b1-2af056ca97f3",
        "colab": {
          "base_uri": "https://localhost:8080/"
        }
      },
      "execution_count": null,
      "outputs": [
        {
          "output_type": "stream",
          "name": "stdout",
          "text": [
            "Overwriting temp.cpp\n"
          ]
        }
      ]
    },
    {
      "cell_type": "code",
      "source": [
        "!g++ temp.cpp -o temp; echo 3 4 | ./temp\n",
        "!g++ temp.cpp -o temp; echo 1 21 | ./temp"
      ],
      "metadata": {
        "id": "sU4iDmWFnUv4",
        "outputId": "5e30f652-585c-4dc2-d7b0-09518aaed904",
        "colab": {
          "base_uri": "https://localhost:8080/"
        }
      },
      "execution_count": null,
      "outputs": [
        {
          "output_type": "stream",
          "name": "stdout",
          "text": [
            "Even\n",
            "Odd\n"
          ]
        }
      ]
    },
    {
      "cell_type": "code",
      "source": [
        "# 問題\n",
        "# A - Libra\n",
        "# 高橋君は、上皿天秤の左の皿に重さ A のおもりと重さ B のおもりを、右の皿に重さ C のおもりと重さ D のおもりを置きました。\n",
        "# 上皿天秤が左に傾くなら Left を、釣り合うなら Balanced を、右に傾くなら Right を出力してください。\n",
        "%%writefile temp.cpp\n",
        "#include <bits/stdc++.h>\n",
        "using namespace std;\n",
        "\n",
        "int main() {\n",
        "  int A, B, C, D;\n",
        "  cin >> A >> B >> C >> D;\n",
        "\n",
        "  if (A+B > C+D) cout << \"Left\" << endl;\n",
        "  else if (A+B == C+D) cout << \"Balanced\" << endl;\n",
        "  else cout << \"Right\" << endl;\n",
        "}"
      ],
      "metadata": {
        "id": "4p53SkczRVcS"
      },
      "execution_count": null,
      "outputs": []
    },
    {
      "cell_type": "code",
      "source": [
        "!g++ temp.cpp -o temp; echo 3 8 7 1 | ./temp\n",
        "!g++ temp.cpp -o temp; echo 5 3 7 1 | ./temp\n",
        "!g++ temp.cpp -o temp; echo 5 2 7 1 | ./temp"
      ],
      "metadata": {
        "id": "xpa5BgBTRV6r"
      },
      "execution_count": null,
      "outputs": []
    },
    {
      "cell_type": "code",
      "source": [
        "# 問題\n",
        "# A - Parking  / \n",
        "# 実行時間制\n",
        "# 駐車場があり、以下の二種類のプランのどちらかを選んで駐車できます。\n",
        "# プラン 1 : T 時間駐車した場合、A×T 円が駐車料金となる。\n",
        "# プラン 2 : 駐車した時間に関わらず B 円が駐車料金となる。\n",
        "# N 時間駐車するとき、駐車料金は最小でいくらになるか求めてください。\n",
        "# 入力 N A T => 7 17 120 => 119\n",
        "%%writefile temp.cpp\n",
        "#include <bits/stdc++.h>\n",
        "using namespace std;\n",
        "\n",
        "int main() {\n",
        "  int N, A, B;\n",
        "  cin >> N >> A >> B;\n",
        "\n",
        "  if (N*A < B) cout << N*A << endl;\n",
        "  else cout << B << endl;\n",
        "}"
      ],
      "metadata": {
        "id": "4zorT2vIFXhp",
        "outputId": "3f9dc9af-2d0e-4712-b32c-5d844f471594",
        "colab": {
          "base_uri": "https://localhost:8080/"
        }
      },
      "execution_count": null,
      "outputs": [
        {
          "output_type": "stream",
          "name": "stdout",
          "text": [
            "Overwriting temp.cpp\n"
          ]
        }
      ]
    },
    {
      "cell_type": "code",
      "source": [
        "!g++ temp.cpp -o temp; echo 7 17 120 | ./temp"
      ],
      "metadata": {
        "id": "Ny6NEQIwFXOu",
        "outputId": "3bae26dd-b21f-43ad-f4e8-8b9686afd007",
        "colab": {
          "base_uri": "https://localhost:8080/"
        }
      },
      "execution_count": null,
      "outputs": [
        {
          "output_type": "stream",
          "name": "stdout",
          "text": [
            "119\n"
          ]
        }
      ]
    },
    {
      "cell_type": "code",
      "source": [
        "# 問題\n",
        "# A - Good Integer\n",
        "# 1118 のような、3 つ以上の同じ数字が連続して並んだ 4 桁の整数を 良い整数 とします。\n",
        "# 4 桁の整数 N が与えられるので、N が 良い整数 かどうかを答えてください。\n",
        "# 入力 1118 => \"Yes\"\n",
        "%%writefile temp.cpp\n",
        "#include <bits/stdc++.h>\n",
        "using namespace std;\n",
        "\n",
        "int main() {\n",
        "  int N;\n",
        "  cin >> N;\n",
        "\n",
        "  if ((N%10==N/10%10 && N/10%10==N/100%10 && N%10==N/100%10) || (N/10%10==N/100%10 && N/100%10==N/1000%10 && N/10%10==N/1000%10)) cout << \"Yes\" << endl;\n",
        "  else cout << \"No\" << endl;\n",
        "\n",
        "}"
      ],
      "metadata": {
        "id": "FXaE6-mpGwOh",
        "outputId": "fd855231-df3a-409e-e86a-9a9f3e730c8c",
        "colab": {
          "base_uri": "https://localhost:8080/"
        }
      },
      "execution_count": null,
      "outputs": [
        {
          "output_type": "stream",
          "name": "stdout",
          "text": [
            "Overwriting temp.cpp\n"
          ]
        }
      ]
    },
    {
      "cell_type": "code",
      "source": [
        "!g++ temp.cpp -o temp; echo 1118 | ./temp\n",
        "!g++ temp.cpp -o temp; echo 7777 | ./temp\n",
        "!g++ temp.cpp -o temp; echo 1777 | ./temp\n",
        "!g++ temp.cpp -o temp; echo 1234 | ./temp"
      ],
      "metadata": {
        "id": "5ELaULTqGwDh",
        "outputId": "3f7c5545-f275-4e08-cfd8-4347c471d557",
        "colab": {
          "base_uri": "https://localhost:8080/"
        }
      },
      "execution_count": null,
      "outputs": [
        {
          "output_type": "stream",
          "name": "stdout",
          "text": [
            "Yes\n",
            "Yes\n",
            "Yes\n",
            "No\n"
          ]
        }
      ]
    },
    {
      "cell_type": "code",
      "source": [
        "# 問題\n",
        "# EX7 - bool値パズル\n",
        "# 次のプログラムで宣言されているbool型の変数a, b, cに対し、trueまたはfalseを代入することで、AtCoderと出力されるようにしてください。\n",
        "# 5,6,7行目における変数a,b,cへの代入以外のプログラムの書き換えは行わないものとします。\n",
        "%%writefile temp.cpp\n",
        "#include <bits/stdc++.h>\n",
        "using namespace std;\n",
        "\n",
        "int main() {\n",
        "  // 変数a,b,cにtrueまたはfalseを代入してAtCoderと出力されるようにする。\n",
        "  bool a = true; // true または false\n",
        "  bool b = false; // true または false\n",
        "  bool c = true; // true または false\n",
        "\n",
        "  // ここから先は変更しないこと\n",
        "\n",
        "  if (a) {\n",
        "    cout << \"At\";\n",
        "  }\n",
        "  else {\n",
        "    cout << \"Yo\";\n",
        "  }\n",
        "\n",
        "  if (!a && b) {\n",
        "    cout << \"Bo\";\n",
        "  }\n",
        "  else if (!b || c) {\n",
        "    cout << \"Co\";\n",
        "  }\n",
        "\n",
        "  if (a && b && c) {\n",
        "    cout << \"foo!\";\n",
        "  }\n",
        "  else if (true && false) {\n",
        "    cout << \"yeah!\";\n",
        "  }\n",
        "  else if (!a || c) {\n",
        "    cout << \"der\";\n",
        "  }\n",
        "\n",
        "  cout << endl;\n",
        "}\n"
      ],
      "metadata": {
        "id": "OQFlJbGyKwY8",
        "outputId": "339d9415-3ce5-4f85-a3b2-3bce76889eb4",
        "colab": {
          "base_uri": "https://localhost:8080/"
        }
      },
      "execution_count": null,
      "outputs": [
        {
          "output_type": "stream",
          "name": "stdout",
          "text": [
            "Overwriting temp.cpp\n"
          ]
        }
      ]
    },
    {
      "cell_type": "code",
      "source": [
        "!g++ temp.cpp -o temp; ./temp"
      ],
      "metadata": {
        "id": "kRVrtmj8KwPu",
        "outputId": "d02c9685-50a1-4e3c-dad3-1a8e9564757f",
        "colab": {
          "base_uri": "https://localhost:8080/"
        }
      },
      "execution_count": null,
      "outputs": [
        {
          "output_type": "stream",
          "name": "stdout",
          "text": [
            "AtCoder\n"
          ]
        }
      ]
    },
    {
      "cell_type": "markdown",
      "source": [
        "---\n",
        "問題 EX8 - たこ焼きセット \n",
        "\n",
        "A君はたこ焼きの情報を処理するプログラムを書いています。  \n",
        "このプログラムは以下の2パターンの入力を処理します。  \n",
        "\n",
        "パターン1  \n",
        "1行目で、パターンを表す整数1が入力されます。  \n",
        "2行目で、たこ焼き1個あたりの値段priceが入力されます。  \n",
        "3行目で、たこ焼き1セットあたりの個数Nが入力されます。  \n",
        "  \n",
        "出力 たこ焼き1セットあたりの値段(=N×price)を出力します。  \n",
        "\n",
        "パターン2  \n",
        "1行目で、パターンを表す整数2が入力されます。  \n",
        "2行目で、たこ焼きセットの説明文textが入力されます。  \n",
        "3行目で、たこ焼き1個あたりの値段priceが入力されます。  \n",
        "4行目で、たこ焼き1セットあたりの個数Nが入力されます。  \n",
        "  \n",
        "出力  \n",
        "1行目で、たこ焼きセットの説明文textの末尾に!をつけて出力します。  \n",
        "2行目で、たこ焼き1セット辺りの値段(=N×price)を出力します。  "
      ],
      "metadata": {
        "id": "hxkEUGgaikEq"
      }
    },
    {
      "cell_type": "code",
      "source": [
        "# エラーを修正し正しいプログラムにする\n",
        "%%writefile temp.cpp\n",
        "#include <bits/stdc++.h>\n",
        "using namespace std;\n",
        "int main() {\n",
        "  int p, price, N;\n",
        "  string text;\n",
        "  cin >> p;\n",
        "\n",
        "  // パターン1\n",
        "  if (p == 1) {\n",
        "    cin >> price >> N;\n",
        "    cout << price * N << endl;\n",
        "  }\n",
        "\n",
        "  // パターン2\n",
        "  if (p == 2) {\n",
        "    cin >> text >> price >> N;\n",
        "    cout << text << \"!\" << endl;\n",
        "    cout << price * N << endl;\n",
        "  }\n",
        "}"
      ],
      "metadata": {
        "id": "stLLCllVhP25",
        "outputId": "17f641e8-d3e2-432a-82ed-6efa2cd608c8",
        "colab": {
          "base_uri": "https://localhost:8080/"
        }
      },
      "execution_count": null,
      "outputs": [
        {
          "output_type": "stream",
          "name": "stdout",
          "text": [
            "Overwriting temp.cpp\n"
          ]
        }
      ]
    },
    {
      "cell_type": "code",
      "source": [
        "!g++ temp.cpp -o temp; echo 1 80 5 |./temp\n",
        "!g++ temp.cpp -o temp; echo 2 umai 150 3 |./temp\n",
        "!g++ temp.cpp -o temp; echo 2 good! 30 8 |./temp"
      ],
      "metadata": {
        "id": "3_Evn1u-gAO_",
        "outputId": "0e35d88d-0184-46d9-9d6e-e6bc97eaa38f",
        "colab": {
          "base_uri": "https://localhost:8080/"
        }
      },
      "execution_count": null,
      "outputs": [
        {
          "output_type": "stream",
          "name": "stdout",
          "text": [
            "400\n",
            "umai!\n",
            "450\n",
            "good!!\n",
            "240\n"
          ]
        }
      ]
    },
    {
      "cell_type": "code",
      "source": [
        "# 問題\n",
        "# EX9 - 複合代入演算子を使おう \n",
        "# 整数x,a,bが入力されます。\n",
        "# 以下の4つの値を計算し、1行ずつ出力してください。\n",
        "# xに1を足した値\n",
        "# (1.で出力した値)に(a+b)を掛けた値\n",
        "# (2.で出力した値)に(2.で出力した値)を掛けた値\n",
        "# (3.で出力した値)から1を引いた値\n",
        "%%writefile temp.cpp\n",
        "#include <bits/stdc++.h>\n",
        "using namespace std;\n",
        "\n",
        "int main() {\n",
        "  int x, a, b;\n",
        "  cin >> x >> a >> b;\n",
        "\n",
        "  // 1.の出力\n",
        "  x++;\n",
        "  cout << x << endl;\n",
        "\n",
        "  // ここにプログラムを追記\n",
        "  // 2\n",
        "  x *= (a+b);\n",
        "  cout << x << endl;\n",
        "  // 3\n",
        "  x *=x ; \n",
        "  cout << x << endl;\n",
        "  // 4\n",
        "  x--;\n",
        "  cout << x << endl;\n",
        "}\n"
      ],
      "metadata": {
        "id": "0SuRIMo4iZyh",
        "outputId": "da767863-3298-41fb-d08b-749178e0c6ac",
        "colab": {
          "base_uri": "https://localhost:8080/"
        }
      },
      "execution_count": null,
      "outputs": [
        {
          "output_type": "stream",
          "name": "stdout",
          "text": [
            "Overwriting temp.cpp\n"
          ]
        }
      ]
    },
    {
      "cell_type": "code",
      "source": [
        "!g++ temp.cpp -o temp; echo 1 2 3 |./temp\n",
        "!g++ temp.cpp -o temp; echo 3 2 5 |./temp"
      ],
      "metadata": {
        "id": "WelnJMbbiZop"
      },
      "execution_count": null,
      "outputs": []
    },
    {
      "cell_type": "code",
      "source": [
        "# 問題\n",
        "# EX10 - 棒グラフの出力 \n",
        "# AさんとBさんのテストの点数A,Bが与えられます。\n",
        "# 2人の点数を表す横向きの棒グラフを出力してください。\n",
        "# 棒グラフは1点を一つの]で表します。\n",
        "%%writefile temp.cpp\n",
        "#include <bits/stdc++.h>\n",
        "using namespace std;\n",
        " \n",
        "int main() {\n",
        "  int A, B;\n",
        "  cin >> A >> B;\n",
        " \n",
        "  // ここにプログラムを追記\n",
        "  cout << \"A:\" ;\n",
        "  for (int i = 0; i < A; i++) cout << \"]\";\n",
        "  cout << endl;\n",
        "  cout << \"B:\" ;\n",
        "  for (int i = 0; i < B; i++) cout << \"]\";\n",
        "  cout << endl;\n",
        "}"
      ],
      "metadata": {
        "id": "NaxUwbp_3Hup",
        "outputId": "7c9b9101-cfc8-4fc6-bedd-494a84126939",
        "colab": {
          "base_uri": "https://localhost:8080/"
        }
      },
      "execution_count": null,
      "outputs": [
        {
          "output_type": "stream",
          "name": "stdout",
          "text": [
            "Overwriting temp.cpp\n"
          ]
        }
      ]
    },
    {
      "cell_type": "code",
      "source": [
        "!g++ temp.cpp -o temp; echo 5 9 |./temp\n",
        "!g++ temp.cpp -o temp; echo 0 20 |./temp"
      ],
      "metadata": {
        "id": "LZtc9s_n3HmI",
        "outputId": "cac74ba9-5d87-4971-9179-7a5539e6479f",
        "colab": {
          "base_uri": "https://localhost:8080/"
        }
      },
      "execution_count": null,
      "outputs": [
        {
          "output_type": "stream",
          "name": "stdout",
          "text": [
            "A:]]]]]\n",
            "B:]]]]]]]]]\n",
            "A:\n",
            "B:]]]]]]]]]]]]]]]]]]]]\n"
          ]
        }
      ]
    },
    {
      "cell_type": "code",
      "source": [
        "# 問題\n",
        "# EX11 - 電卓をつくろう2 \n",
        "# 電卓の操作が与えられるので、計算途中の値と計算結果の値を出力してください。\n",
        "# 電卓の操作は次の形式で入力されます。\n",
        "# 入力の形式\n",
        "# 計算の数N\n",
        "# 最初の値A\n",
        "# 演算子op 計算する値B ...\n",
        "# 次の入力は((2+1)×3)÷2を表しています。\n",
        "# 3 2 + 1 * 3 / 2\n",
        "# 出力では「何行目の出力か」と、「計算途中の値」を出力してください。\n",
        "%%writefile temp.cpp\n",
        "#include <bits/stdc++.h>\n",
        "using namespace std;\n",
        "\n",
        "int main() {\n",
        "  int N, A;\n",
        "  cin >> N >> A;\n",
        "  string op;\n",
        "  int  B;\n",
        "\n",
        "  // ここにプログラムを追記\n",
        "  for (int i = 0; i < N; i++) {\n",
        "    cin >> op >> B;\n",
        "    if (op == \"+\") {cout << i + 1 << \":\" << (A += B) << endl; continue;}\n",
        "    else if (op == \"-\") {cout << i + 1 << \":\" << (A -= B) << endl; continue;}\n",
        "    else if (op == \"*\") {cout << i + 1 << \":\" << (A *= B) << endl; continue;}\n",
        "    else if (op == \"/\" && B != 0) {cout << i + 1 << \":\" << (A /= B) << endl; continue;}\n",
        "    else {cout << \"error\" << endl; break;}\n",
        "  }\n",
        "}"
      ],
      "metadata": {
        "id": "4ViGJc7z53Q2",
        "colab": {
          "base_uri": "https://localhost:8080/"
        },
        "outputId": "34893391-7dbd-45d7-e7c8-9fe2bc041877"
      },
      "execution_count": null,
      "outputs": [
        {
          "output_type": "stream",
          "name": "stdout",
          "text": [
            "Overwriting temp.cpp\n"
          ]
        }
      ]
    },
    {
      "cell_type": "code",
      "source": [
        "!g++ temp.cpp -o temp; echo \"3 2 + 1 * 3 / 2\" |./temp\n",
        "!g++ temp.cpp -o temp; echo \"2 3 / 2 / 2\" |./temp\n",
        "!g++ temp.cpp -o temp; echo \"4 3 + 1 / 0 * 2 - 10\" |./temp\n",
        "!g++ temp.cpp -o temp; echo \"7 10 * 10 * 10 * 10 * 10 * 10 * 10 * 10\" |./temp"
      ],
      "metadata": {
        "id": "PMcBu-QO53Ic",
        "colab": {
          "base_uri": "https://localhost:8080/"
        },
        "outputId": "4d0830fb-6b28-4484-de6b-38cc1804ce93"
      },
      "execution_count": null,
      "outputs": [
        {
          "output_type": "stream",
          "name": "stdout",
          "text": [
            "1:3\n",
            "2:9\n",
            "3:4\n",
            "1:1\n",
            "2:0\n",
            "1:4\n",
            "error\n",
            "1:100\n",
            "2:1000\n",
            "3:10000\n",
            "4:100000\n",
            "5:1000000\n",
            "6:10000000\n",
            "7:100000000\n"
          ]
        }
      ]
    },
    {
      "cell_type": "code",
      "source": [
        "# 問題\n",
        "# B - Hina Arare\n",
        "# 日本では、3 月 3 日にひなあられという、色のついたお菓子をお供えする習慣があります。\n",
        "# 1 つの袋があり、ひなあられが N 個入っています。\n",
        "# この袋には、桃色、白色、緑色の 3 種類か、桃色、白色、緑色、黄色の 4 種類のひなあられが入っていることが分かっています。\n",
        "# この袋に 3 種類のひなあられが入っていた場合は Three、4 種類のひなあられが入っていた場合は Four と出力してください。\n",
        "%%writefile temp.cpp\n",
        "#include <bits/stdc++.h>\n",
        "using namespace std;\n",
        "\n",
        "int main() {\n",
        "  int N, P, W, G, Y;\n",
        "  string color;\n",
        "  cin >> N;\n",
        "  P = W = G = Y = 0;\n",
        "  for (int i = 0; i < N; i++) {\n",
        "      cin >> color;\n",
        "      if (color == \"P\") P = 1;\n",
        "      if (color == \"W\") W = 1;\n",
        "      if (color == \"G\") G = 1;\n",
        "      if (color == \"Y\") Y = 1;\n",
        "  }\n",
        "\n",
        "  if (P+W+G+Y == 3) cout << \"Three\" << endl;\n",
        "  else if (P+W+G+Y == 4) cout << \"Four\" << endl;\n",
        "  else cout << \"error\" << endl;\n",
        "}"
      ],
      "metadata": {
        "colab": {
          "base_uri": "https://localhost:8080/"
        },
        "id": "MmB96hl9QBLh",
        "outputId": "5e66ecde-b545-4447-91ac-4eb9a6d47fb4"
      },
      "execution_count": null,
      "outputs": [
        {
          "output_type": "stream",
          "name": "stdout",
          "text": [
            "Overwriting temp.cpp\n"
          ]
        }
      ]
    },
    {
      "cell_type": "code",
      "source": [
        "!g++ temp.cpp -o temp; echo 6 G W Y P Y W |./temp\n",
        "!g++ temp.cpp -o temp; echo 9 G W W G P W P G G |./temp\n",
        "!g++ temp.cpp -o temp; echo 8 P Y W G Y W Y Y |./temp"
      ],
      "metadata": {
        "colab": {
          "base_uri": "https://localhost:8080/"
        },
        "id": "Eq6ty-_sjwbR",
        "outputId": "955e04e2-0601-4a49-cd81-e2e150d99f5e"
      },
      "execution_count": null,
      "outputs": [
        {
          "output_type": "stream",
          "name": "stdout",
          "text": [
            "4:Four\n",
            "3:Three\n",
            "4:Four\n"
          ]
        }
      ]
    },
    {
      "cell_type": "code",
      "source": [
        "# 問題\n",
        "# B - Theater\n",
        "# joisinoお姉ちゃんは、劇場の受付を担当しています。\n",
        "# この劇場には、席 1 から席 100000 までの、100000 個の席があります。\n",
        "# 彼女のメモ書きによると、今までの間に N 組の団体が来て、i 組目の団体は席 l_i から席 r_i までの連続した席に座っています。\n",
        "# 今、劇場の席には何人座っているか求めてください。\n",
        "%%writefile temp.cpp\n",
        "#include <bits/stdc++.h>\n",
        "using namespace std;\n",
        "\n",
        "int main() {\n",
        "  int N, l, r, sum;\n",
        "  cin >> N;\n",
        "  sum = 0;\n",
        "  for (int i = 0; i < N; i++) {\n",
        "      cin >> l >> r;\n",
        "      sum += r-l+1;\n",
        "  }\n",
        "\n",
        "  cout << sum << endl;\n",
        "}"
      ],
      "metadata": {
        "colab": {
          "base_uri": "https://localhost:8080/"
        },
        "id": "cK0sM6FDosbu",
        "outputId": "e61feabe-1a93-469a-f9b7-4f239f974f3f"
      },
      "execution_count": null,
      "outputs": [
        {
          "output_type": "stream",
          "name": "stdout",
          "text": [
            "Overwriting temp.cpp\n"
          ]
        }
      ]
    },
    {
      "cell_type": "code",
      "source": [
        "!g++ temp.cpp -o temp; echo 1 24 30 |./temp\n",
        "!g++ temp.cpp -o temp; echo 2 6 8 3 3 |./temp"
      ],
      "metadata": {
        "colab": {
          "base_uri": "https://localhost:8080/"
        },
        "id": "HiI1KvyaosRP",
        "outputId": "3635e027-de7c-4ef7-be51-20e0ab4733b7"
      },
      "execution_count": null,
      "outputs": [
        {
          "output_type": "stream",
          "name": "stdout",
          "text": [
            "7\n",
            "4\n"
          ]
        }
      ]
    },
    {
      "cell_type": "code",
      "source": [
        "# 問題\n",
        "# B - Harshad Number\n",
        "# 整数 X を十進法で表したときの各桁の数字の和を f(X) としたとき、X が f(X) で割り切れる場合、X はハーシャッド数です。\n",
        "# 整数 N が与えられるので、ハーシャッド数かどうか判定してください。\n",
        "# N がハージャッド数ならば Yes を、そうでなければ No を出力せよ。\n",
        "%%writefile temp.cpp\n",
        "#include <bits/stdc++.h>\n",
        "using namespace std;\n",
        "\n",
        "int main() {\n",
        "  int N, N2, digit;\n",
        "  cin >> N;\n",
        "  N2 = N;\n",
        "  digit = 0;\n",
        "  for (int i = 0; i < 8 ; i++){\n",
        "      digit += N % 10;\n",
        "      N /= 10;\n",
        "  }\n",
        "  if (N2 % digit == 0) cout << \"Yes\" << endl;\n",
        "  else cout << \"No\" << endl;\n",
        "}"
      ],
      "metadata": {
        "colab": {
          "base_uri": "https://localhost:8080/"
        },
        "id": "Zo5e3tkzprSu",
        "outputId": "15ee642d-11a5-4327-ec35-5409fe85908f"
      },
      "execution_count": null,
      "outputs": [
        {
          "output_type": "stream",
          "name": "stdout",
          "text": [
            "Overwriting temp.cpp\n"
          ]
        }
      ]
    },
    {
      "cell_type": "code",
      "source": [
        "!g++ temp.cpp -o temp; echo 12 |./temp\n",
        "!g++ temp.cpp -o temp; echo 57 |./temp\n",
        "!g++ temp.cpp -o temp; echo 148 |./temp"
      ],
      "metadata": {
        "colab": {
          "base_uri": "https://localhost:8080/"
        },
        "id": "HfkQkcQSpr5d",
        "outputId": "044c41c0-1908-4180-af49-2957c0ec2e0d"
      },
      "execution_count": null,
      "outputs": [
        {
          "output_type": "stream",
          "name": "stdout",
          "text": [
            "Yes\n",
            "No\n",
            "No\n"
          ]
        }
      ]
    },
    {
      "cell_type": "code",
      "source": [
        "# 問題\n",
        "# B - Addition and Multiplication\n",
        "# square1001 は、電光掲示板に整数 1 が表示されているのを見ました。\n",
        "# 彼は、電光掲示板に対して、以下の操作 A, 操作 B をすることができます。\n",
        "# 操作 A： 電光掲示板に表示する整数を「今の電光掲示板の整数を 2 倍にしたもの」に変える。\n",
        "# 操作 B： 電光掲示板に表示する整数を「今の電光掲示板の整数に K を足したもの」に変える。\n",
        "# square1001 は、操作 A, 操作 B 合計で N 回 行わなければなりません。 そのとき、N 回の操作後の、電光掲# 示板に書かれている整数として考えられる最小の値を求めなさい。\n",
        "%%writefile temp.cpp\n",
        "#include <bits/stdc++.h>\n",
        "using namespace std;\n",
        "\n",
        "int main() {\n",
        "  int N, K, sum;\n",
        "  cin >> N >> K;\n",
        "  sum = 1;\n",
        "  for (int i = 0; i < N ; i++){\n",
        "      if ((sum*2) < sum+K) sum *= 2;\n",
        "      else sum += K; \n",
        "  }\n",
        "  cout << sum << endl;\n",
        "}"
      ],
      "metadata": {
        "colab": {
          "base_uri": "https://localhost:8080/"
        },
        "id": "D4Fl9FpF0HpW",
        "outputId": "7d068395-0e55-456a-9713-9895f9147115"
      },
      "execution_count": null,
      "outputs": [
        {
          "output_type": "stream",
          "name": "stdout",
          "text": [
            "Overwriting temp.cpp\n"
          ]
        }
      ]
    },
    {
      "cell_type": "code",
      "source": [
        "!g++ temp.cpp -o temp; echo 4 3 |./temp\n",
        "!g++ temp.cpp -o temp; echo 10 10 |./temp"
      ],
      "metadata": {
        "colab": {
          "base_uri": "https://localhost:8080/"
        },
        "id": "338Idcwd0IDK",
        "outputId": "c0827b08-03c2-49dc-a412-70cf9d9606c4"
      },
      "execution_count": null,
      "outputs": [
        {
          "output_type": "stream",
          "name": "stdout",
          "text": [
            "10\n",
            "76\n"
          ]
        }
      ]
    },
    {
      "cell_type": "code",
      "source": [
        "# 問題\n",
        "# B - Collecting Balls (Easy Version)\n",
        "# xy 平面上に N 個のボールがあります。このうち i 番目のボールの位置は (x_i,i) です。 \n",
        "# したがって、N 本の直線 y=1, y=2, ..., y=N の上にそれぞれ 1 個ずつボールがあることになります。\n",
        "# すぬけ君は、これらのボールを回収するために、タイプ A, B のロボットを N 台ずつ用意しました。 \n",
        "# さらに、タイプ A のロボットのうち i 台目のものを位置 (0,i) に、タイプ B のロボットのうち i 台目のものを\n",
        "# 位置 (K,i) に設置しました。 したがって、N 本の直線 y=1, y=2, ..., y=N の上に\n",
        "# それぞれ 1 台のタイプ A のロボットと、1 台のタイプ B のロボットが設置されたことになります。\n",
        "# それぞれのタイプのロボットは起動されると以下のように動作します。\n",
        "# タイプ A のロボットは、位置 (0,a) で起動されると、直線 y=a 上にあるボールの位置まで移動し、\n",
        "# ボールを回収してもとの位置 (0,a) に戻って停止する。そのようなボールが存在しない場合は何もせずに停止する。\n",
        "# タイプ B のロボットは、位置 (K,b) で起動されると、直線 y=b 上にあるボールの位置まで移動し、\n",
        "# ボールを回収してもとの位置 (K,b) に戻って停止する。そのようなボールが存在しない場合は何もせずに停止する。\n",
        "# これら 2N 台のロボットのうちいくつかを起動してボールをすべて回収するとき、ロボットの\n",
        "# 移動距離の総和として考えられる値のうち最小のものを求めてください。\n",
        "%%writefile temp.cpp\n",
        "#include <bits/stdc++.h>\n",
        "using namespace std;\n",
        "\n",
        "int main() {\n",
        "  int N, K, sum;\n",
        "  cin >> N >> K;\n",
        "  sum = 0;\n",
        "  for (int i = 0; i < N ; i++){\n",
        "      int x;\n",
        "      cin >> x;\n",
        "      if (x < K-x) sum += x*2;\n",
        "      else sum += (K-x)*2;\n",
        "  }\n",
        "  cout << sum << endl;\n",
        "}\n"
      ],
      "metadata": {
        "id": "YxIVbzf6eEmq",
        "colab": {
          "base_uri": "https://localhost:8080/"
        },
        "outputId": "d73178d9-389a-4602-9926-49cc8dc0fe2c"
      },
      "execution_count": null,
      "outputs": [
        {
          "output_type": "stream",
          "name": "stdout",
          "text": [
            "Overwriting temp.cpp\n"
          ]
        }
      ]
    },
    {
      "cell_type": "code",
      "source": [
        "!g++ temp.cpp -o temp; echo 1 10 2 |./temp\n",
        "!g++ temp.cpp -o temp; echo 2 9 3 6 |./temp\n",
        "!g++ temp.cpp -o temp; echo 5 20 11 12 9 17 12 |./temp"
      ],
      "metadata": {
        "id": "5z9aCYSVeEaU",
        "colab": {
          "base_uri": "https://localhost:8080/"
        },
        "outputId": "f069c519-fd0d-4295-c4a8-15a42ee5d233"
      },
      "execution_count": null,
      "outputs": [
        {
          "output_type": "stream",
          "name": "stdout",
          "text": [
            "4\n",
            "12\n",
            "74\n"
          ]
        }
      ]
    },
    {
      "cell_type": "code",
      "source": [
        "# 問題\n",
        "# B - Palindromic Numbers\n",
        "# A 以上 B 以下の整数のうち、回文数となるものの個数を求めてください。 \n",
        "# 回文数とは、先頭に 0 をつけない 10 進表記を文字列として見たとき、\n",
        "# 前から読んでも後ろから読んでも同じ文字列となるような正の整数のことを指します。\n",
        "# 11009 11332 => 4\n",
        "# 31415 92653 => 612\n",
        "\n",
        "%%writefile temp.cpp\n",
        "#include <bits/stdc++.h>\n",
        "using namespace std;\n",
        "#define rep(i, n) for (int i = 0; i < (int)(n); i++)\n",
        "\n",
        "bool isPalindrome(int orig) {\n",
        "  int digit, rev, num ;\n",
        "  digit = rev = 0;  \n",
        "  num = orig;\n",
        "  rep(i, 10){\n",
        "    digit = num % 10;\n",
        "    rev = (rev * 10) + digit;\n",
        "    num = num / 10;\n",
        "    if (num == 0 ) break;\n",
        "  }\n",
        "  return (orig == rev);\n",
        "};\n",
        "\n",
        "int main() {\n",
        "  int A, B, count , diff ;\n",
        "  cin >> A >> B ;\n",
        "  count = 0;\n",
        "  diff = B - A;\n",
        "  rep(i, diff + 1) {\n",
        "    if (isPalindrome(A+i)) { count += 1; }\n",
        "  }\n",
        "  cout << count << endl;\n",
        "}"
      ],
      "metadata": {
        "id": "_8r2vg5ojC-y",
        "outputId": "d5cdacf4-ca0c-4201-8224-4b7fe48ee336",
        "colab": {
          "base_uri": "https://localhost:8080/"
        }
      },
      "execution_count": null,
      "outputs": [
        {
          "output_type": "stream",
          "name": "stdout",
          "text": [
            "Overwriting temp.cpp\n"
          ]
        }
      ]
    },
    {
      "cell_type": "code",
      "source": [
        "!g++ temp.cpp -o temp; echo 11009 11332 | ./temp\n",
        "!g++ temp.cpp -o temp; echo 31415 92653 | ./temp"
      ],
      "metadata": {
        "id": "QDNOIByfjdaH",
        "outputId": "ec3d7822-8e06-47ff-9a81-fa1fe9307ca6",
        "colab": {
          "base_uri": "https://localhost:8080/"
        }
      },
      "execution_count": null,
      "outputs": [
        {
          "output_type": "stream",
          "name": "stdout",
          "text": [
            "4\n",
            "612\n"
          ]
        }
      ]
    },
    {
      "cell_type": "code",
      "source": [
        "# 問題\n",
        "# B - Shift only\n",
        "# 黒板に N 個の正の整数 A が書かれています．\n",
        "# すぬけ君は，黒板に書かれている整数がすべて偶数であるとき，次の操作を行うことができます．\n",
        "# 黒板に書かれている整数すべてを，2 で割ったものに置き換える．\n",
        "# すぬけ君は最大で何回操作を行うことができるかを求めてください．\n",
        "# 3 8 12 40 #=> 2\n",
        "# 4 5 6 8 10 #=> 0\n",
        "# 6 382253568 723152896 37802240 379425024 404894720 471526144 #=> 8\n",
        "\n",
        "%%writefile temp.cpp\n",
        "#include <bits/stdc++.h>\n",
        "using namespace std;\n",
        "\n",
        "int mult2(int x){\n",
        "    if(x==0) return 0;\n",
        "    else if(x%2 != 0) return 0;\n",
        "    else return (1 + mult2(x/=2));\n",
        "}\n",
        "\n",
        "int main() {\n",
        "  int N, A, count;\n",
        "  cin >> N;\n",
        "  count = 1000;\n",
        "  for(int i=0;i<N;i++){\n",
        "      cin >> A;\n",
        "      int count2 = 0;\n",
        "      count2 = mult2(A);\n",
        "      if (count2 < count) count = count2;\n",
        "  }\n",
        "  cout << count << endl;\n",
        "}"
      ],
      "metadata": {
        "colab": {
          "base_uri": "https://localhost:8080/"
        },
        "id": "1FRU3VlaAtKI",
        "outputId": "339ab94b-1889-4dec-df28-ad0740854858"
      },
      "execution_count": null,
      "outputs": [
        {
          "output_type": "stream",
          "name": "stdout",
          "text": [
            "Overwriting temp.cpp\n"
          ]
        }
      ]
    },
    {
      "cell_type": "code",
      "source": [
        "!g++ temp.cpp -o temp; echo 1 8 | ./temp\n",
        "!g++ temp.cpp -o temp; echo 3 8 12 40 | ./temp\n",
        "!g++ temp.cpp -o temp; echo 4 5 6 8 10 | ./temp\n",
        "!g++ temp.cpp -o temp; echo 6 382253568 723152896 37802240 379425024 404894720 471526144 | ./temp"
      ],
      "metadata": {
        "colab": {
          "base_uri": "https://localhost:8080/"
        },
        "id": "FAxhL1wMAtBt",
        "outputId": "d612d3b5-7a31-4c6d-dae9-9133c40ecd0f"
      },
      "execution_count": null,
      "outputs": [
        {
          "output_type": "stream",
          "name": "stdout",
          "text": [
            "3\n",
            "2\n",
            "0\n",
            "8\n"
          ]
        }
      ]
    },
    {
      "cell_type": "markdown",
      "source": [
        "# M - 1.12.文字列と文字 "
      ],
      "metadata": {
        "id": "TvRVfEXpifZ1"
      }
    },
    {
      "cell_type": "code",
      "source": [
        "# 問題\n",
        "# EX12 - 足したり引いたり  \n",
        "# 1と+と-のみからなる式Sが1行で与えられるので、計算結果を出力してください。\n",
        "# 例えば式Sが1+1+1-1であったとき、計算結果は2です。\n",
        "# * 式Sの1文字目は必ず1です。\n",
        "# * その後、「+または−」と1が交互に続きます。\n",
        "# * Sの最後の文字も必ず1です。\n",
        "\n",
        "%%writefile temp.cpp\n",
        "#include <bits/stdc++.h>\n",
        "using namespace std;\n",
        "\n",
        "int main() {\n",
        "  string  S ;\n",
        "  int result ;\n",
        "  cin >> S ;\n",
        "  result = 1;\n",
        "  for(int i=0;i < S.size(); i++) {\n",
        "    if (S.at(i) == '+')  result += 1; \n",
        "    else if (S.at(i) == '-') result -= 1;\n",
        "  }\n",
        "  cout << result << endl;\n",
        "}"
      ],
      "metadata": {
        "id": "GC-B1E-KiPlK",
        "outputId": "b39c96c0-03c2-4a5b-c52c-28c4e8dcabc4",
        "colab": {
          "base_uri": "https://localhost:8080/"
        }
      },
      "execution_count": null,
      "outputs": [
        {
          "output_type": "stream",
          "name": "stdout",
          "text": [
            "Overwriting temp.cpp\n"
          ]
        }
      ]
    },
    {
      "cell_type": "code",
      "source": [
        "!g++ temp.cpp -o temp; echo 1+1+1-1 | ./temp"
      ],
      "metadata": {
        "id": "LvjAI6tKpD1e",
        "outputId": "8c468e64-6278-4921-d9d2-51ac9f1c5deb",
        "colab": {
          "base_uri": "https://localhost:8080/"
        }
      },
      "execution_count": null,
      "outputs": [
        {
          "output_type": "stream",
          "name": "stdout",
          "text": [
            "2\n"
          ]
        }
      ]
    },
    {
      "cell_type": "code",
      "source": [
        "# 問題\n",
        "# A - 居合を終え、青い絵を覆う\n",
        "# 英小文字 c が与えられるので、c が母音であるか判定してください。ここで、英小文字のうち母音は a、e、i、o、uの 5 つです。\n",
        "# c が母音であるとき、vowel と、そうでないとき consonant と出力せよ。\n",
        "# 入力 a => vowel\n",
        "\n",
        "%%writefile temp.cpp\n",
        "#include <bits/stdc++.h>\n",
        "using namespace std;\n",
        "\n",
        "int main() {\n",
        "  char c;\n",
        "  cin >> c;\n",
        "  bool aiueo = false;\n",
        "  string vowels = \"aeiou\";\n",
        "  for(int i=0; i < vowels.size(); i++){\n",
        "      if(vowels.at(i) == c) aiueo = true;\n",
        "  }\n",
        "  if(aiueo) cout << \"vowel\" << endl;\n",
        "  else cout << \"consonant\" << endl;\n",
        "}\n",
        "\n"
      ],
      "metadata": {
        "id": "V1qooVcYuxnN",
        "outputId": "26b785fc-8182-4c74-c016-0f7cf22247b8",
        "colab": {
          "base_uri": "https://localhost:8080/"
        }
      },
      "execution_count": null,
      "outputs": [
        {
          "output_type": "stream",
          "name": "stdout",
          "text": [
            "Overwriting temp.cpp\n"
          ]
        }
      ]
    },
    {
      "cell_type": "code",
      "source": [
        "!g++ temp.cpp -o temp; echo a | ./temp\n",
        "!g++ temp.cpp -o temp; echo b | ./temp"
      ],
      "metadata": {
        "id": "Rrj5MewEwHjZ",
        "outputId": "0257580d-216f-4ba6-d3e3-c9e560f810c8",
        "colab": {
          "base_uri": "https://localhost:8080/"
        }
      },
      "execution_count": null,
      "outputs": [
        {
          "output_type": "stream",
          "name": "stdout",
          "text": [
            "vowel\n",
            "consonant\n"
          ]
        }
      ]
    },
    {
      "cell_type": "code",
      "source": [
        "# 問題\n",
        "# A - AtCoder *** Contest\n",
        "# すぬけ君は、AtCoder s Contest という名前のコンテストを開こうとしています。 \n",
        "# ここで、s は長さ 1 以上の文字列であり、1 文字目は英大文字、2 文字目以降は英小文字です。\n",
        "# すぬけ君は、このコンテストの略称を AxC に決めました。 ここで、x は s の先頭の英大文字です。\n",
        "# コンテストの名前が与えられるので、コンテストの略称を出力してください。\n",
        "# AtCoder Beginner Contest => ABC\n",
        "# AtCoder Snuke Contest => ASC\n",
        "# AtCoder X Contest => AXC\n",
        "\n",
        "%%writefile temp.cpp\n",
        "#include <bits/stdc++.h>\n",
        "using namespace std;\n",
        "\n",
        "int main() {\n",
        "  string str1, str2, str3;\n",
        "  cin >> str1 >> str2 >> str3;\n",
        "  cout << str1.at(0) << str2.at(0) << str3.at(0) << endl;\n",
        "}"
      ],
      "metadata": {
        "id": "yCmoBceXw187",
        "outputId": "e26b8867-ae4d-430f-9d67-5e9aaec8f9ad",
        "colab": {
          "base_uri": "https://localhost:8080/"
        }
      },
      "execution_count": null,
      "outputs": [
        {
          "output_type": "stream",
          "name": "stdout",
          "text": [
            "Overwriting temp.cpp\n"
          ]
        }
      ]
    },
    {
      "cell_type": "code",
      "source": [
        "!g++ temp.cpp -o temp; echo AtCoder Beginner Contest | ./temp\n",
        "!g++ temp.cpp -o temp; echo AtCoder Snuke Contest | ./temp\n",
        "!g++ temp.cpp -o temp; echo AtCoder X Contest | ./temp"
      ],
      "metadata": {
        "id": "NTU6K8RCw11J",
        "outputId": "59fd6347-13e5-4fbb-ae15-b21bd3f2ba86",
        "colab": {
          "base_uri": "https://localhost:8080/"
        }
      },
      "execution_count": null,
      "outputs": [
        {
          "output_type": "stream",
          "name": "stdout",
          "text": [
            "ABC\n",
            "ASC\n",
            "AXC\n"
          ]
        }
      ]
    },
    {
      "cell_type": "code",
      "source": [
        "# 問題\n",
        "# A - Addition and Subtraction Easy\n",
        "# joisinoお姉ちゃんは、A op B という式の値を計算したいと思っています。 ここで、A,B は整数で、\n",
        "# op は、+ または - の記号です。 \n",
        "# 入力は以下の形式で標準入力から与えられる。A op B\n",
        "# 1 + 2 => 3\n",
        "# 5 - 7 => 2\n",
        "\n",
        "%%writefile temp.cpp\n",
        "#include <bits/stdc++.h>\n",
        "using namespace std;\n",
        "\n",
        "int main() {\n",
        "  char op;\n",
        "  int num1, num2;\n",
        "  cin >> num1 >> op >> num2;\n",
        "  if (op == '+') cout << num1 + num2 << endl;\n",
        "  else if (op == '-') cout << num1 - num2 << endl;\n",
        "}\n"
      ],
      "metadata": {
        "id": "r9vlJFqf0PqE",
        "outputId": "7db0e3c4-03e1-447a-d383-74396a2c629d",
        "colab": {
          "base_uri": "https://localhost:8080/"
        }
      },
      "execution_count": null,
      "outputs": [
        {
          "output_type": "stream",
          "name": "stdout",
          "text": [
            "Overwriting temp.cpp\n"
          ]
        }
      ]
    },
    {
      "cell_type": "code",
      "source": [
        "!g++ temp.cpp -o temp; echo 1 + 2 | ./temp\n",
        "!g++ temp.cpp -o temp; echo 5 - 7 | ./temp"
      ],
      "metadata": {
        "id": "DYg-31V20Pin",
        "outputId": "48657827-d796-4a99-acf2-b3e0a8d8aaec",
        "colab": {
          "base_uri": "https://localhost:8080/"
        }
      },
      "execution_count": null,
      "outputs": [
        {
          "output_type": "stream",
          "name": "stdout",
          "text": [
            "3\n",
            "-2\n"
          ]
        }
      ]
    },
    {
      "cell_type": "code",
      "source": [
        "# 問題\n",
        "# A - 添字\n",
        "# 文字列 s と整数 i (1≦i≦∣s∣) が与えられます。 s の i 文字目を出力してください。\n",
        "# なお、∣s∣ は文字列 s の長さを表します。\n",
        "# atcoder 3 => c\n",
        "# beginner 1 => b\n",
        "# contest 7 => t\n",
        "# z 1 => z\n",
        "%%writefile temp.cpp\n",
        "#include <bits/stdc++.h>\n",
        "using namespace std;\n",
        "\n",
        "int main() {\n",
        "  string s;\n",
        "  int i;\n",
        "  cin >> s >> i;\n",
        "  cout << s.at(i-1) << endl;\n",
        "}"
      ],
      "metadata": {
        "id": "iX-OJZOtD3Xp",
        "outputId": "c01bd490-633f-47f6-e6db-51b261d53ff2",
        "colab": {
          "base_uri": "https://localhost:8080/"
        }
      },
      "execution_count": null,
      "outputs": [
        {
          "output_type": "stream",
          "name": "stdout",
          "text": [
            "Overwriting temp.cpp\n"
          ]
        }
      ]
    },
    {
      "cell_type": "code",
      "source": [
        "!g++ temp.cpp -o temp; echo atcoder 3 | ./temp\n",
        "!g++ temp.cpp -o temp; echo beginner 1 | ./temp\n",
        "!g++ temp.cpp -o temp; echo contest 7 | ./temp\n",
        "!g++ temp.cpp -o temp; echo z 1 | ./temp"
      ],
      "metadata": {
        "id": "10FVJCPYD3Sz",
        "outputId": "26dee9c8-d0db-439c-fd42-e69e7c32b45b",
        "colab": {
          "base_uri": "https://localhost:8080/"
        }
      },
      "execution_count": null,
      "outputs": [
        {
          "output_type": "stream",
          "name": "stdout",
          "text": [
            "c\n",
            "b\n",
            "t\n",
            "z\n"
          ]
        }
      ]
    },
    {
      "cell_type": "code",
      "source": [
        "# 問題\n",
        "# A - お茶\n",
        "# 高橋くんはドリンクバーにやってきました。彼は今お茶を飲みたい気分です。\n",
        "# しかし、ドリンクバーの飲み物の表記はすべてローマ字で、高橋くんはそれを読むことができません。\n",
        "# 高橋くんは、ある飲み物について、それがお茶であるかどうか知りたいと思っています。 \n",
        "# ただし、ある飲み物がお茶であることは、そのローマ字表記がTで終わる文字列であることと等しいです。\n",
        "# ICEDT => YES\n",
        "# MUGICHA => NO\n",
        "# OOLONGT => YES\n",
        "# T => YES\n",
        "# TEA => NO\n",
        "\n",
        "%%writefile temp.cpp\n",
        "#include <bits/stdc++.h>\n",
        "using namespace std;\n",
        "\n",
        "int main() {\n",
        "  string S;\n",
        "  cin >> S;\n",
        "  if(S.at(S.size()-1) == 'T') cout << \"YES\" << endl;\n",
        "  else cout << \"NO\" << endl;\n",
        "}"
      ],
      "metadata": {
        "id": "XihD41GOFFt3",
        "outputId": "d082b144-9e5f-4002-f0df-c8709db903cd",
        "colab": {
          "base_uri": "https://localhost:8080/"
        }
      },
      "execution_count": null,
      "outputs": [
        {
          "output_type": "stream",
          "name": "stdout",
          "text": [
            "Overwriting temp.cpp\n"
          ]
        }
      ]
    },
    {
      "cell_type": "code",
      "source": [
        "!g++ temp.cpp -o temp; echo ICEDT | ./temp\n",
        "!g++ temp.cpp -o temp; echo MUGICHA | ./temp\n",
        "!g++ temp.cpp -o temp; echo OOLONGT | ./temp\n",
        "!g++ temp.cpp -o temp; echo T | ./temp\n",
        "!g++ temp.cpp -o temp; echo TEA | ./temp"
      ],
      "metadata": {
        "id": "7q_syGE-FFjm",
        "outputId": "5dde5277-3019-4e1e-ff32-86e54853ac66",
        "colab": {
          "base_uri": "https://localhost:8080/"
        }
      },
      "execution_count": null,
      "outputs": [
        {
          "output_type": "stream",
          "name": "stdout",
          "text": [
            "YES\n",
            "NO\n",
            "YES\n",
            "YES\n",
            "NO\n"
          ]
        }
      ]
    },
    {
      "cell_type": "code",
      "source": [
        "# 問題\n",
        "# A - 複数形 \n",
        "# 英小文字からなる文字列 W が入力されます。\n",
        "# W の末尾に英小文字の s を付け足したものを出力してください。\n",
        "# 1 行目に、英小文字からなる文字列 W (1 ≦ ∣W∣ ≦ 10, ここで ∣W∣ は W の長さを表す) が与えられる。\n",
        "# dog => dogs\n",
        "# chokudai => chokudais\n",
        "%%writefile temp.cpp\n",
        "#include <bits/stdc++.h>\n",
        "using namespace std;\n",
        "\n",
        "int main() {\n",
        "  string W;\n",
        "  cin >> W;\n",
        "  cout << W+'s' << endl;\n",
        "}"
      ],
      "metadata": {
        "id": "PMyNgf49G2qN",
        "outputId": "132f5d92-4689-4c71-e16f-578cdc054532",
        "colab": {
          "base_uri": "https://localhost:8080/"
        }
      },
      "execution_count": null,
      "outputs": [
        {
          "output_type": "stream",
          "name": "stdout",
          "text": [
            "Overwriting temp.cpp\n"
          ]
        }
      ]
    },
    {
      "cell_type": "code",
      "source": [
        "!g++ temp.cpp -o temp; echo dog | ./temp\n",
        "!g++ temp.cpp -o temp; echo chokudai | ./temp"
      ],
      "metadata": {
        "id": "VrgBd8oyG2lP",
        "outputId": "34218be9-819c-4045-ddc6-6a8fa0bbc9ae",
        "colab": {
          "base_uri": "https://localhost:8080/"
        }
      },
      "execution_count": null,
      "outputs": [
        {
          "output_type": "stream",
          "name": "stdout",
          "text": [
            "dogs\n",
            "chokudais\n"
          ]
        }
      ]
    },
    {
      "cell_type": "code",
      "source": [
        "# 問題\n",
        "# A - 高橋くんの研修\n",
        "# 高橋くんは、ソフトウェア会社に勤めています。 その会社では、\n",
        "# 短い変数名はバグを生む原因だと信じられており、長い変数名を使う習慣があります。\n",
        "# 与えられた 2 つの小文字アルファベットのみからなる文字列のうち、文字数が長い方の文字列を求めてください。\n",
        "# isuruu isleapyear => isleapyear\n",
        "# ttttiiiimmmmeeee time => ttttiiiimmmmeeee\n",
        "%%writefile temp.cpp\n",
        "#include <bits/stdc++.h>\n",
        "using namespace std;\n",
        "\n",
        "int main() {\n",
        "  string A, B;\n",
        "  cin >> A >> B;\n",
        "  if (A.size() >= B.size()) cout << A << endl;\n",
        "  else cout << B << endl;\n",
        "}"
      ],
      "metadata": {
        "id": "ZqbNaMOYHOQZ",
        "outputId": "18fa56b9-076f-4a75-b7ec-5eea24500435",
        "colab": {
          "base_uri": "https://localhost:8080/"
        }
      },
      "execution_count": null,
      "outputs": [
        {
          "output_type": "stream",
          "name": "stdout",
          "text": [
            "Overwriting temp.cpp\n"
          ]
        }
      ]
    },
    {
      "cell_type": "code",
      "source": [
        "!g++ temp.cpp -o temp; echo isuruu isleapyear | ./temp\n",
        "!g++ temp.cpp -o temp; echo ttttiiiimmmmeeee time | ./temp"
      ],
      "metadata": {
        "id": "3pZkt5BvHOHw",
        "outputId": "b27f663e-f833-4f09-fc33-2b543d7f8873",
        "colab": {
          "base_uri": "https://localhost:8080/"
        }
      },
      "execution_count": null,
      "outputs": [
        {
          "output_type": "stream",
          "name": "stdout",
          "text": [
            "isleapyea\n",
            "ttttiiiimmmmeeee\n"
          ]
        }
      ]
    },
    {
      "cell_type": "code",
      "source": [
        "# 問題\n",
        "# A - ハンドルネーム\n",
        "# 高橋君の秘書のなぎさちゃんは、高橋君からハンドルネームを貰いました。\n",
        "# しかし、残念なことに、このハンドルネームは、既に登録しようとしたサービスで使われてしまっていました。\n",
        "# なぎさちゃんが好きなC++に肖って、ハンドルネームの末尾にppを付けることにしました。\n",
        "# 元のハンドルネームが入力されるので、新しいハンドルネームを出力してください。\n",
        "# chokudai => chokudaipp\n",
        "# sanagi => sanagipp\n",
        "%%writefile temp.cpp\n",
        "#include <bits/stdc++.h>\n",
        "using namespace std;\n",
        "\n",
        "int main() {\n",
        "  string S;\n",
        "  cin >> S;\n",
        "  cout << S+\"pp\" << endl;\n",
        "}"
      ],
      "metadata": {
        "id": "lBpxfCSOK29d",
        "outputId": "12ed093b-ba33-4214-9e4c-3865d9467f6d",
        "colab": {
          "base_uri": "https://localhost:8080/"
        }
      },
      "execution_count": null,
      "outputs": [
        {
          "output_type": "stream",
          "name": "stdout",
          "text": [
            "Overwriting temp.cpp\n"
          ]
        }
      ]
    },
    {
      "cell_type": "code",
      "source": [
        "!g++ temp.cpp -o temp; echo chokudai | ./temp\n",
        "!g++ temp.cpp -o temp; echo sanagi | ./temp"
      ],
      "metadata": {
        "id": "QtshWTDDK21q",
        "outputId": "7abaf8ef-b569-44c7-8dc9-e34e3cf38f31",
        "colab": {
          "base_uri": "https://localhost:8080/"
        }
      },
      "execution_count": null,
      "outputs": [
        {
          "output_type": "stream",
          "name": "stdout",
          "text": [
            "chokudaipp\n",
            "sanagipp\n"
          ]
        }
      ]
    },
    {
      "cell_type": "code",
      "source": [
        "# 問題\n",
        "# B - Minesweeper\n",
        "# H×W のマス目が与えられます。\n",
        "# 入力において、全てのマスは文字で表されており、.は空きマス、 # は爆弾マスに対応します。\n",
        "# マス目は H 個の文字列 S_1 ... S_H で表されます。\n",
        "# イルカは各空きマスの上下左右および斜めの 8 方向で隣接しているマスに爆弾マスが何個あるか\n",
        "# 気になっています。\n",
        "# そこで、各空きマスに対応する . を、その空きマスの周囲8方向に隣接するマスにおける爆弾マスの\n",
        "# 個数を表す数字で置き換えることにしました。\n",
        "# 以上の規則で置き換えられた後のマス目を出力してください。\n",
        "# 入力\n",
        "# 3 5\n",
        "# .....\n",
        "# .#.#.\n",
        "# .....\n",
        "# =>\n",
        "# 11211\n",
        "# 1#2#1\n",
        "# 11211\n",
        "# 入力\n",
        "# 3 5\n",
        "# #####\n",
        "# #####\n",
        "# #####\n",
        "# =>\n",
        "# #####\n",
        "# #####\n",
        "# #####\n",
        "# 入力例\n",
        "# 6 6\n",
        "# #####.\n",
        "# #.#.##\n",
        "# ####.#\n",
        "# .#..#.\n",
        "# #.##..\n",
        "# #.#...\n",
        "# =>\n",
        "# #####3\n",
        "# #8#7##\n",
        "# ####5#\n",
        "# 4#65#2\n",
        "# #5##21\n",
        "# #4#310"
      ],
      "metadata": {
        "id": "kBY0fMDSOr2z"
      },
      "execution_count": null,
      "outputs": []
    },
    {
      "cell_type": "code",
      "source": [
        "# 問題\n",
        "# B - Minesweeper\n",
        "%%writefile temp.cpp\n",
        "#include <bits/stdc++.h>\n",
        "using namespace std;\n",
        "\n",
        "int main() {\n",
        "  int H, W, sum = 0;\n",
        "  cin >> H >> W;\n",
        "\n",
        "  vector<vector<char>> data(H, vector<char>(W));\n",
        "\n",
        "  // データの読み込み\n",
        "  for (int i = 0; i < H; i++) {\n",
        "    for (int j = 0; j < W; j++) {\n",
        "      cin >> data.at(i).at(j);\n",
        "    }\n",
        "  }\n",
        "\n",
        "  // 処理本体\n",
        "  for (int i = 0; i < H; i++) {\n",
        "    for (int j = 0; j < W; j++) {\n",
        "      if (data.at(i).at(j) == '#') continue;\n",
        "      else if (data.at(i).at(j) == '.') {\n",
        "        if (i - 1 >= 0 && j - 1 >= 0) {\n",
        "          if (data.at(i - 1).at(j - 1) == '#') sum++;\n",
        "        }\n",
        "        if (i - 1 >= 0) {\n",
        "          if (data.at(i - 1).at(j) == '#') sum++;\n",
        "        }\n",
        "        if (i - 1 >= 0 && j + 1 <= W - 1) {\n",
        "          if (data.at(i - 1).at(j + 1) == '#') sum++;\n",
        "        }\n",
        "        if (j - 1 >= 0) {\n",
        "          if (data.at(i).at(j - 1) == '#') sum++;\n",
        "        }\n",
        "        if (j + 1 <= W - 1) {\n",
        "          if (data.at(i).at(j + 1) == '#') sum++;\n",
        "        }\n",
        "        if (i + 1 <= H - 1 && j - 1 >= 0) {\n",
        "          if (data.at(i + 1).at(j - 1) == '#') sum++;\n",
        "        }\n",
        "        if (i + 1 <= H - 1) {\n",
        "          if (data.at(i + 1).at(j) == '#') sum++;\n",
        "        }\n",
        "        if (i + 1 <= H - 1 && j + 1 <= W - 1) {\n",
        "          if (data.at(i + 1).at(j + 1) == '#') sum++;\n",
        "        }\n",
        "\n",
        "        data.at(i).at(j) = '0' + sum;\n",
        "        sum = 0;\n",
        "      }\n",
        "    }\n",
        "  }\n",
        "\n",
        "  for (auto row : data) {\n",
        "    for (auto item : row) {\n",
        "      cout << item;\n",
        "    }\n",
        "    cout << endl;\n",
        "  }\n",
        "}\n"
      ],
      "metadata": {
        "id": "FeyUJMAoOrtJ",
        "colab": {
          "base_uri": "https://localhost:8080/"
        },
        "outputId": "9c4d73c6-1d0a-4330-a950-d6f1e1c46e7f"
      },
      "execution_count": null,
      "outputs": [
        {
          "output_type": "stream",
          "name": "stdout",
          "text": [
            "Overwriting temp.cpp\n"
          ]
        }
      ]
    },
    {
      "cell_type": "code",
      "source": [
        "!g++ temp.cpp -o temp; echo \"3 5 ..... .#.#. .....\" | ./temp\n",
        "!echo\n",
        "!g++ temp.cpp -o temp; echo \"3 5 ##### ##### #####\" | ./temp\n",
        "!echo\n",
        "!g++ temp.cpp -o temp; echo \"6 6 #####. #.#.## ####.# .#..#. #.##.. #.#...\" | ./temp"
      ],
      "metadata": {
        "colab": {
          "base_uri": "https://localhost:8080/"
        },
        "id": "Wti62c9nuu6x",
        "outputId": "3266866b-4116-4b0a-8879-2924bcc8fcac"
      },
      "execution_count": null,
      "outputs": [
        {
          "output_type": "stream",
          "name": "stdout",
          "text": [
            "11211\n",
            "1#2#1\n",
            "11211\n",
            "\n",
            "#####\n",
            "#####\n",
            "#####\n",
            "\n",
            "#####3\n",
            "#8#7##\n",
            "####5#\n",
            "4#65#2\n",
            "#5##21\n",
            "#4#310\n"
          ]
        }
      ]
    },
    {
      "cell_type": "code",
      "source": [
        "# 実験\n",
        "# 問題の趣旨が行は文字列で取り込め、という風に読めるので書き換えてみる\n",
        "%%writefile temp.cpp\n",
        "#include <bits/stdc++.h>\n",
        "using namespace std;\n",
        "\n",
        "int main() {\n",
        "  int H, W;\n",
        "  int sum = 0;\n",
        "  cin >> H >> W;\n",
        "\n",
        "  vector<string> data(H);\n",
        "\n",
        "  // データの読み込み\n",
        "  for (int i = 0; i < H; i++) {\n",
        "    cin >> data.at(i);\n",
        "  }\n",
        "\n",
        "  for (int i = 0; i < H; i++) {\n",
        "    for (int j = 0; j < W; j++) {\n",
        "      if (data.at(i).at(j) == '.') {\n",
        "        if (i - 1 >= 0 && j - 1 >= 0) {\n",
        "          if (data.at(i - 1).at(j - 1) == '#') sum++;\n",
        "        }\n",
        "        if (i - 1 >= 0) {\n",
        "          if (data.at(i - 1).at(j) == '#') sum++;\n",
        "        }\n",
        "        if (i - 1 >= 0 && j + 1 <= W - 1) {\n",
        "          if (data.at(i - 1).at(j + 1) == '#') sum++;\n",
        "        }\n",
        "        if (j - 1 >= 0) {\n",
        "          if (data.at(i).at(j - 1) == '#') sum++;\n",
        "        }\n",
        "        if (j + 1 <= W - 1) {\n",
        "          if (data.at(i).at(j + 1) == '#') sum++;\n",
        "        }\n",
        "        if (i + 1 <= H - 1 && j - 1 >= 0) {\n",
        "          if (data.at(i + 1).at(j - 1) == '#') sum++;\n",
        "        }\n",
        "        if (i + 1 <= H - 1) {\n",
        "          if (data.at(i + 1).at(j) == '#') sum++;\n",
        "        }\n",
        "        if (i + 1 <= H - 1 && j + 1 <= W - 1) {\n",
        "          if (data.at(i + 1).at(j + 1) == '#') sum++;\n",
        "        }\n",
        "\n",
        "        data.at(i).at(j) = '0' + sum;\n",
        "        sum = 0;\n",
        "      }\n",
        "    }\n",
        "  }\n",
        "  for (int i = 0; i < H; i++) { cout << data.at(i) << endl; }\n",
        "}"
      ],
      "metadata": {
        "colab": {
          "base_uri": "https://localhost:8080/"
        },
        "id": "LV0tWIMMarro",
        "outputId": "d279f3f7-e38f-4904-dbbf-85d28b9c60e7"
      },
      "execution_count": null,
      "outputs": [
        {
          "output_type": "stream",
          "name": "stdout",
          "text": [
            "Overwriting temp.cpp\n"
          ]
        }
      ]
    },
    {
      "cell_type": "code",
      "source": [
        "!g++ temp.cpp -o temp; echo \"3 5 ..... .#.#. .....\" | ./temp\n",
        "!echo\n",
        "!g++ temp.cpp -o temp; echo \"3 5 ##### ##### #####\" | ./temp\n",
        "!echo\n",
        "!g++ temp.cpp -o temp; echo \"6 6 #####. #.#.## ####.# .#..#. #.##.. #.#...\" | ./temp"
      ],
      "metadata": {
        "colab": {
          "base_uri": "https://localhost:8080/"
        },
        "id": "ymmtI5Q5bJoM",
        "outputId": "058427b1-b8df-4e62-c60c-f9ea6c1f05c3"
      },
      "execution_count": null,
      "outputs": [
        {
          "output_type": "stream",
          "name": "stdout",
          "text": [
            "11211\n",
            "1#2#1\n",
            "11211\n",
            "\n",
            "#####\n",
            "#####\n",
            "#####\n",
            "\n",
            "#####3\n",
            "#8#7##\n",
            "####5#\n",
            "4#65#2\n",
            "#5##21\n",
            "#4#310\n"
          ]
        }
      ]
    },
    {
      "cell_type": "markdown",
      "source": [
        "# N - 1.13.配列\n",
        "\n",
        "* vector<型> 配列変数名;で配列変数を宣言できる\n",
        "* 配列変数名 = { 要素1, 要素2, ... };で配列変数に値を代入できる\n",
        "* 配列変数.at(i), 配列変数.size() が使える\n",
        "* vector<型> 配列変数名(要素数)と書くと指定した要素数で配列を初期化できる\n"
      ],
      "metadata": {
        "id": "azH-MFEVvuOx"
      }
    },
    {
      "cell_type": "code",
      "source": [
        "# 数字を逆順にして出力する\n",
        "# 1 2 3 4 5 => 5 4 3 2 1\n",
        "%%writefile temp.cpp\n",
        "#include <bits/stdc++.h>\n",
        "using namespace std;\n",
        "int main() {\n",
        "    int N = 5;\n",
        "    vector<int> vec(N);\n",
        "    for (int i = 0; i < N; i++) {\n",
        "        cin >> vec.at(i);\n",
        "    };\n",
        "    for(int i = 0; i < vec.size(); i++) {\n",
        "        cout << vec.at(vec.size() - i - 1) << ' ' ;\n",
        "    }\n",
        "    cout << endl;\n",
        "}"
      ],
      "metadata": {
        "id": "YHy_H_YqxP5Y",
        "outputId": "91bd6714-ee56-4b92-dabc-bc0108a3aee7",
        "colab": {
          "base_uri": "https://localhost:8080/"
        }
      },
      "execution_count": null,
      "outputs": [
        {
          "output_type": "stream",
          "name": "stdout",
          "text": [
            "Overwriting temp.cpp\n"
          ]
        }
      ]
    },
    {
      "cell_type": "code",
      "source": [
        "!g++ temp.cpp -o temp; echo 1 2 3 4 5 | ./temp"
      ],
      "metadata": {
        "id": "_vXhOYHf14ct",
        "outputId": "7b93a9ce-d367-4316-c90e-dcc3ef2717c6",
        "colab": {
          "base_uri": "https://localhost:8080/"
        }
      },
      "execution_count": null,
      "outputs": [
        {
          "output_type": "stream",
          "name": "stdout",
          "text": [
            "5 4 3 2 1 \n"
          ]
        }
      ]
    },
    {
      "cell_type": "code",
      "source": [
        "# 文字列と配列は似ている\n",
        "%%writefile temp.cpp\n",
        "#include <bits/stdc++.h>\n",
        "using namespace std;\n",
        "\n",
        "int main() {\n",
        "  // 文字列\n",
        "  string str; // 文字列変数を宣言\n",
        "  str = \"abcd\"; // 'a', 'b', 'c', 'd' という文字(char)の列を代入\n",
        "  cout << str.at(0) << endl; // 1つ目である'a'を出力\n",
        "  cout << str.size() << endl; // 文字列の長さである4を出力\n",
        "\n",
        "  // 配列\n",
        "  vector<int> vec; // int型の配列変数vecを宣言\n",
        "  vec = { 25, 100, 64 }; // 25, 100, 64 という整数(int)の列を代入\n",
        "  cout << vec.at(0) << endl; // 1つめである25を出力\n",
        "  cout << vec.size() << endl; // 配列の長さである3を出力\n",
        "}\n"
      ],
      "metadata": {
        "id": "xfM_zDO-DwvY",
        "outputId": "8f279a36-032f-4284-f77f-10718ae55ada",
        "colab": {
          "base_uri": "https://localhost:8080/"
        }
      },
      "execution_count": null,
      "outputs": [
        {
          "output_type": "stream",
          "name": "stdout",
          "text": [
            "Overwriting temp.cpp\n"
          ]
        }
      ]
    },
    {
      "cell_type": "code",
      "source": [
        "!g++ temp.cpp -o temp; echo 1 2 3 4 5 | ./temp"
      ],
      "metadata": {
        "id": "DMfTnVbVD4-9",
        "outputId": "fe5e4a56-9bbf-418c-ccf2-13bbd5a24705",
        "colab": {
          "base_uri": "https://localhost:8080/"
        }
      },
      "execution_count": null,
      "outputs": [
        {
          "output_type": "stream",
          "name": "stdout",
          "text": [
            "a\n",
            "4\n",
            "25\n",
            "3\n"
          ]
        }
      ]
    },
    {
      "cell_type": "code",
      "source": [
        "# 実験 文字列と配列 同じ物ではない\n",
        "%%writefile temp.cpp\n",
        "#include <bits/stdc++.h>\n",
        "using namespace std;\n",
        "#define rep(i, n) for (int i = 0; i < (int)(n); i++)\n",
        "\n",
        "int main() {\n",
        "    string str;\n",
        "    str = \"abcd\";\n",
        "    vector<char> vec;\n",
        "    vec = { 'a','b','c','d' };\n",
        "    cout << str << endl;\n",
        "    //  cout << vec << endl; #=> エラーになる。配列は cout できない\n",
        "    rep(i, vec.size()) {\n",
        "        cout << vec.at(i);\n",
        "    }\n",
        "    cout << endl;\n",
        "    copy(vec.begin(), vec.end(), ostream_iterator<char>(cout));\n",
        "    cout << endl;\n",
        "    for (const auto& item : vec) cout << item;\n",
        "    cout << endl;\n",
        "}"
      ],
      "metadata": {
        "id": "5YoHVgsXZfGc",
        "outputId": "51317066-a924-4b77-de35-6a3206aa4cb0",
        "colab": {
          "base_uri": "https://localhost:8080/"
        }
      },
      "execution_count": null,
      "outputs": [
        {
          "output_type": "stream",
          "name": "stdout",
          "text": [
            "Overwriting temp.cpp\n"
          ]
        }
      ]
    },
    {
      "cell_type": "code",
      "source": [
        "!g++ temp.cpp -o temp;  ./temp"
      ],
      "metadata": {
        "id": "VMq6WWaEZ9Ja",
        "colab": {
          "base_uri": "https://localhost:8080/"
        },
        "outputId": "cbbcea43-adac-4aec-a343-3782f771bde5"
      },
      "execution_count": null,
      "outputs": [
        {
          "output_type": "stream",
          "name": "stdout",
          "text": [
            "abcd\n",
            "abcd\n",
            "abcd\n",
            "abcd\n"
          ]
        }
      ]
    },
    {
      "cell_type": "code",
      "source": [
        "%%writefile temp.cpp\n",
        "#include <bits/stdc++.h>\n",
        "using namespace std;\n",
        "#define rep(i, n) for (int i = 0; i < (int)(n); i++)\n",
        "\n",
        "int main() {\n",
        "    vector<int> vec(3); // {0, 0, 0} で初期化される str だと {\"\",\"\",\"\"}\n",
        "    cin >> vec.at(0) >> vec.at(1) >> vec.at(2);\n",
        "    cout << vec.at(0) + vec.at(1) + vec.at(2) << endl;\n",
        "}"
      ],
      "metadata": {
        "id": "O2ZpaBRhfU8u",
        "outputId": "7eed0747-954b-4c9d-d9d6-310e56de023f",
        "colab": {
          "base_uri": "https://localhost:8080/"
        }
      },
      "execution_count": null,
      "outputs": [
        {
          "output_type": "stream",
          "name": "stdout",
          "text": [
            "Overwriting temp.cpp\n"
          ]
        }
      ]
    },
    {
      "cell_type": "code",
      "source": [
        "!g++ temp.cpp -o temp;  echo 1 2 3 | ./temp"
      ],
      "metadata": {
        "id": "xrtgWU9Qfa6f",
        "outputId": "edc8061a-1438-4f99-ad54-5b7642f32af3",
        "colab": {
          "base_uri": "https://localhost:8080/"
        }
      },
      "execution_count": null,
      "outputs": [
        {
          "output_type": "stream",
          "name": "stdout",
          "text": [
            "6\n"
          ]
        }
      ]
    },
    {
      "cell_type": "code",
      "source": [
        "# for を使って書き直す\n",
        "%%writefile temp.cpp\n",
        "#include <bits/stdc++.h>\n",
        "using namespace std;\n",
        "#define rep(i, n) for (int i = 0; i < (int)(n); i++)\n",
        "\n",
        "int main() {\n",
        "    vector<int> vec(3); \n",
        "    for (auto& item : vec) cin >> item;\n",
        "    for (const auto& item : vec) cout << item;\n",
        "    cout << endl;\n",
        "}"
      ],
      "metadata": {
        "id": "912uUERkgEGY",
        "outputId": "bca5ccba-0ad6-429f-de91-dc3a6f56628b",
        "colab": {
          "base_uri": "https://localhost:8080/"
        }
      },
      "execution_count": null,
      "outputs": [
        {
          "output_type": "stream",
          "name": "stdout",
          "text": [
            "Overwriting temp.cpp\n"
          ]
        }
      ]
    },
    {
      "cell_type": "code",
      "source": [
        "!g++ temp.cpp -o temp;  echo 1 2 3 | ./temp"
      ],
      "metadata": {
        "id": "UQJp6o1JgcsB",
        "outputId": "95e88131-43a0-4029-9381-31571624a577",
        "colab": {
          "base_uri": "https://localhost:8080/"
        }
      },
      "execution_count": null,
      "outputs": [
        {
          "output_type": "stream",
          "name": "stdout",
          "text": [
            "123\n"
          ]
        }
      ]
    },
    {
      "cell_type": "markdown",
      "source": [
        "---\n",
        "問題 \n",
        "\n",
        "N人の数学と英語のテストの点数が与えられます。  \n",
        "それぞれの人について、数学と英語の点数の合計点を計算してください。\n",
        "\n",
        "入力例\n",
        "\n",
        "3  \n",
        "20 100 30  \n",
        "100 5 40  \n",
        "\n",
        "出力例\n",
        "\n",
        "120  \n",
        "105  \n",
        "70  "
      ],
      "metadata": {
        "id": "n7tJphi8Y0DP"
      }
    },
    {
      "cell_type": "code",
      "source": [
        "%%writefile temp.cpp\n",
        "#include <bits/stdc++.h>\n",
        "using namespace std;\n",
        "\n",
        "int main() {\n",
        "    int N;\n",
        "    cin >> N;\n",
        "    vector<int> math(3);\n",
        "    vector<int> eng(3);\n",
        "    for (auto& item : math) cin >> item;\n",
        "    for (auto& item : eng) cin >> item;\n",
        "    for (int i = 0; i < N; i++) {\n",
        "        cout << math.at(i) + eng.at(i) << endl;\n",
        "    }\n",
        "}"
      ],
      "metadata": {
        "id": "cHL1A1uV3w7t",
        "outputId": "3dd779e4-8963-4c5b-a6e3-176d888c39b5",
        "colab": {
          "base_uri": "https://localhost:8080/"
        }
      },
      "execution_count": null,
      "outputs": [
        {
          "output_type": "stream",
          "name": "stdout",
          "text": [
            "Overwriting temp.cpp\n"
          ]
        }
      ]
    },
    {
      "cell_type": "code",
      "source": [
        "!g++ temp.cpp -o temp;  echo 3 20 100 30 100 5 40 | ./temp"
      ],
      "metadata": {
        "id": "5jRIuCO646QG",
        "outputId": "95da85ad-4cfa-440c-c336-c0d6db82b695",
        "colab": {
          "base_uri": "https://localhost:8080/"
        }
      },
      "execution_count": null,
      "outputs": [
        {
          "output_type": "stream",
          "name": "stdout",
          "text": [
            "120\n",
            "105\n",
            "70\n"
          ]
        }
      ]
    },
    {
      "cell_type": "code",
      "source": [
        "%%writefile temp.cpp\n",
        "#include <bits/stdc++.h>\n",
        "using namespace std;\n",
        " \n",
        "int main() {\n",
        "  vector<int> vec = { 1, 2, 3 };\n",
        " \n",
        "  vec.push_back(10); // 末尾に10を追加\n",
        " \n",
        "  // vecの全要素を出力\n",
        "  for (int i = 0; i < vec.size(); i++) {\n",
        "    cout << vec.at(i) << endl;\n",
        "  }\n",
        "}"
      ],
      "metadata": {
        "id": "WSgRZ6OZ3Q5i",
        "outputId": "957d9672-a317-42e2-b109-e501765f6dd9",
        "colab": {
          "base_uri": "https://localhost:8080/"
        }
      },
      "execution_count": null,
      "outputs": [
        {
          "output_type": "stream",
          "name": "stdout",
          "text": [
            "Overwriting temp.cpp\n"
          ]
        }
      ]
    },
    {
      "cell_type": "code",
      "source": [
        "!g++ temp.cpp -o temp;  ./temp"
      ],
      "metadata": {
        "id": "1XZ_BiO35k0p",
        "outputId": "f9a8c1bd-1f08-4669-d576-0925a1fc36a0",
        "colab": {
          "base_uri": "https://localhost:8080/"
        }
      },
      "execution_count": null,
      "outputs": [
        {
          "output_type": "stream",
          "name": "stdout",
          "text": [
            "1\n",
            "2\n",
            "3\n",
            "10\n"
          ]
        }
      ]
    },
    {
      "cell_type": "markdown",
      "source": [
        "配列の範囲外を指定すると `std::out_of_range` という実行時エラーになる。\n",
        "\n",
        "vector 以外の配列  \n",
        "\n",
        "vector<int> data(3); // vectorによる配列 #=> これを使うこと!!!!\n",
        "\n",
        "int data[3]; // Cの配列\n",
        "\n",
        "array<int, 3> data; // arrayによる配列\n",
        "\n",
        "atを使わないi番目の要素へのアクセス\n",
        "\n",
        "配列変数.at(添字)と、配列変数[添字]は同じことが出来るが、at を使った方がエラーメッセージがちゃんと出る。\n",
        "\n",
        "`#define _GLIBCXX_DEBUG`  \n",
        "とコードの最初に書くことで.atと同程度に安全に使うことができるようになるが、APG4b では `.at()` を使う。"
      ],
      "metadata": {
        "id": "4l4q11zh1gHu"
      }
    },
    {
      "cell_type": "code",
      "source": [
        "%%writefile temp.cpp\n",
        "#include <bits/stdc++.h>\n",
        "using namespace std;\n",
        " \n",
        "int main() {\n",
        "  vector<int> vec = { 1, 2, 3 };\n",
        " \n",
        "  cout << vec.at(0) << endl;\n",
        "  cout << vec[0] << endl; // .at(0)と同じ\n",
        "}"
      ],
      "metadata": {
        "id": "RDpvufaQ2rep",
        "outputId": "b159a00d-c732-4d3e-fd7f-58dc35d3d391",
        "colab": {
          "base_uri": "https://localhost:8080/"
        }
      },
      "execution_count": null,
      "outputs": [
        {
          "output_type": "stream",
          "name": "stdout",
          "text": [
            "Overwriting temp.cpp\n"
          ]
        }
      ]
    },
    {
      "cell_type": "code",
      "source": [
        "!g++ temp.cpp -o temp;  ./temp"
      ],
      "metadata": {
        "id": "sB7sUhYp25ez"
      },
      "execution_count": null,
      "outputs": []
    },
    {
      "cell_type": "markdown",
      "source": [
        "要素の削除\n",
        "\n",
        "配列変数.pop_back を使えば配列の末尾の要素を削除することが出来る。"
      ],
      "metadata": {
        "id": "7adjum1E4iDd"
      }
    },
    {
      "cell_type": "code",
      "source": [
        "%%writefile temp.cpp\n",
        "#include <bits/stdc++.h>\n",
        "using namespace std;\n",
        "\n",
        "int main() {\n",
        "    vector<int> vec = { 1, 2, 3 };\n",
        "\n",
        "    vec.pop_back(); // 末尾の要素を削除\n",
        "\n",
        "    // vecの全要素を出力\n",
        "    for (int i = 0; i < vec.size(); i++) {\n",
        "        cout << vec.at(i) << endl;\n",
        "    }\n",
        "}"
      ],
      "metadata": {
        "id": "ER8sGpvV4hh_",
        "outputId": "cbc52628-713d-4d59-8343-88fbb152b8da",
        "colab": {
          "base_uri": "https://localhost:8080/"
        }
      },
      "execution_count": null,
      "outputs": [
        {
          "output_type": "stream",
          "name": "stdout",
          "text": [
            "Overwriting temp.cpp\n"
          ]
        }
      ]
    },
    {
      "cell_type": "code",
      "source": [
        "!g++ temp.cpp -o temp;  ./temp"
      ],
      "metadata": {
        "id": "GXpAefzK5mOv",
        "outputId": "674575bc-543e-427e-afb1-9b05d46d1676",
        "colab": {
          "base_uri": "https://localhost:8080/"
        }
      },
      "execution_count": null,
      "outputs": [
        {
          "output_type": "stream",
          "name": "stdout",
          "text": [
            "1\n",
            "2\n"
          ]
        }
      ]
    },
    {
      "cell_type": "code",
      "source": [
        "# 配列同士の比較\n",
        "# 配列変数同士は `==` で比較することが出来る。\n",
        "# vec == { 1, 2, 3 } のようには書けない。\n",
        "\n",
        "%%writefile temp.cpp\n",
        "#include <bits/stdc++.h>\n",
        "using namespace std;\n",
        "\n",
        "int main() {\n",
        "    vector<int> vec1 = { 1, 2, 3 };\n",
        "    vector<int> vec2 = { 1, 2, 3 };\n",
        "\n",
        "    if (vec1 == vec2) {\n",
        "        cout << \"OK\" << endl;\n",
        "    }\n",
        "\n",
        "    /*\n",
        "    ↓これはコンパイルエラーになる\n",
        "    if (vec1 == { 1, 2, 3 }) {\n",
        "      cout << \"NG\" << endl;\n",
        "    }\n",
        "    */\n",
        "}"
      ],
      "metadata": {
        "id": "6_7gQ7e85fiZ",
        "outputId": "481fc00f-1d66-47ae-cd88-0d724efb8b42",
        "colab": {
          "base_uri": "https://localhost:8080/"
        }
      },
      "execution_count": null,
      "outputs": [
        {
          "output_type": "stream",
          "name": "stdout",
          "text": [
            "Overwriting temp.cpp\n"
          ]
        }
      ]
    },
    {
      "cell_type": "code",
      "source": [
        "!g++ temp.cpp -o temp;  ./temp"
      ],
      "metadata": {
        "id": "P-JQOZeh6L6u",
        "outputId": "6a7fad95-62e0-47e6-c729-4b473a0e2b16",
        "colab": {
          "base_uri": "https://localhost:8080/"
        }
      },
      "execution_count": null,
      "outputs": [
        {
          "output_type": "stream",
          "name": "stdout",
          "text": [
            "OK\n"
          ]
        }
      ]
    },
    {
      "cell_type": "code",
      "source": [
        "# 配列の初期化その2\n",
        "# サイズの違う配列で上書き出来る\n",
        "%%writefile temp.cpp\n",
        "#include <bits/stdc++.h>\n",
        "using namespace std;\n",
        " \n",
        "int main() {\n",
        "  vector<int> vec(3, 10); // {10, 10, 10} で初期化\n",
        "  vec = vector<int>(100, 2); // 100要素の配列 {2, 2, ... , 2, 2} で上書き\n",
        "  cout << vec.at(99) << endl;\n",
        "}"
      ],
      "metadata": {
        "id": "_H8pQxLqmR8u",
        "outputId": "a1b71f4e-d2c3-446a-e84c-02e03a922dd4",
        "colab": {
          "base_uri": "https://localhost:8080/"
        }
      },
      "execution_count": null,
      "outputs": [
        {
          "output_type": "stream",
          "name": "stdout",
          "text": [
            "Writing temp.cpp\n"
          ]
        }
      ]
    },
    {
      "cell_type": "code",
      "source": [
        "!g++ temp.cpp -o temp;  ./temp"
      ],
      "metadata": {
        "id": "iG4OXqZJ790m"
      },
      "execution_count": null,
      "outputs": []
    },
    {
      "cell_type": "code",
      "source": [
        "# 実験\n",
        "# サイズの違う配列で上書き\n",
        "%%writefile temp.cpp\n",
        "#include <bits/stdc++.h>\n",
        "using namespace std;\n",
        " \n",
        "int main() {\n",
        "  vector<int> vec(3, 10); // {10, 10, 10} で初期化\n",
        "  vec = {10, 10, 1, 2, 3, 4} ;\n",
        "  cout << vec.at(5) << endl;\n",
        "}"
      ],
      "metadata": {
        "id": "yZG5nOXnnI41",
        "outputId": "d827affc-1ba8-48a7-ff8d-a790cdf575c4",
        "colab": {
          "base_uri": "https://localhost:8080/"
        }
      },
      "execution_count": null,
      "outputs": [
        {
          "output_type": "stream",
          "name": "stdout",
          "text": [
            "Overwriting temp.cpp\n"
          ]
        }
      ]
    },
    {
      "cell_type": "code",
      "source": [
        "!g++ temp.cpp -o temp;  ./temp"
      ],
      "metadata": {
        "id": "Dt_BsVcwneHc",
        "outputId": "c743ae6a-7438-49e6-b527-8716be1150f1",
        "colab": {
          "base_uri": "https://localhost:8080/"
        }
      },
      "execution_count": null,
      "outputs": [
        {
          "output_type": "stream",
          "name": "stdout",
          "text": [
            "4\n"
          ]
        }
      ]
    },
    {
      "cell_type": "code",
      "source": [
        "# 実験 \n",
        "# 質問 サイズの違う配列をアサイン出来るのだったら初めからサイズは要らないのではないか\n",
        "%%writefile temp.cpp\n",
        "#include <bits/stdc++.h>\n",
        "using namespace std;\n",
        " \n",
        "int main() {\n",
        "  vector<int> vec;\n",
        "  vector<int> vec2(100, 2); // 100要素の配列 {2, 2, ... , 2, 2} \n",
        "  vec = vec2;\n",
        "  cout << vec.at(99) << endl;\n",
        "}"
      ],
      "metadata": {
        "colab": {
          "base_uri": "https://localhost:8080/"
        },
        "id": "wZ4LOb1P7_wv",
        "outputId": "2b1cc308-e0c6-44ec-f50f-f1cadd82f034"
      },
      "execution_count": null,
      "outputs": [
        {
          "output_type": "stream",
          "name": "stdout",
          "text": [
            "Overwriting temp.cpp\n"
          ]
        }
      ]
    },
    {
      "cell_type": "code",
      "source": [
        "!g++ temp.cpp -o temp;  ./temp"
      ],
      "metadata": {
        "id": "mVRJjMsamnIb",
        "outputId": "c950728e-0d30-4a00-9ca9-c91e3264216e",
        "colab": {
          "base_uri": "https://localhost:8080/"
        }
      },
      "execution_count": null,
      "outputs": [
        {
          "output_type": "stream",
          "name": "stdout",
          "text": [
            "2\n"
          ]
        }
      ]
    },
    {
      "cell_type": "code",
      "source": [
        "# 大きすぎる配列\n",
        "# AtCoderの問題の回答として提出してこのエラーが出た場合、`RE` または `MLE` となる\n",
        "%%writefile temp.cpp\n",
        "#include <bits/stdc++.h>\n",
        "using namespace std;\n",
        " \n",
        "int main() {\n",
        "  vector<int> v(1000000000);\n",
        "  cout << v[0] << endl;\n",
        "}"
      ],
      "metadata": {
        "id": "oXSRPVHUoMZJ",
        "outputId": "d69c7c32-ba6b-42ae-9ca4-ca2f4b18f958",
        "colab": {
          "base_uri": "https://localhost:8080/"
        }
      },
      "execution_count": null,
      "outputs": [
        {
          "output_type": "stream",
          "name": "stdout",
          "text": [
            "Overwriting temp.cpp\n"
          ]
        }
      ]
    },
    {
      "cell_type": "code",
      "source": [
        "!g++ temp.cpp -o temp;  ./temp"
      ],
      "metadata": {
        "id": "OMqv8BOwokBp",
        "outputId": "7926bd30-047d-407a-bc73-6eb6dce090c1",
        "colab": {
          "base_uri": "https://localhost:8080/"
        }
      },
      "execution_count": null,
      "outputs": [
        {
          "output_type": "stream",
          "name": "stdout",
          "text": [
            "tcmalloc: large alloc 4000006144 bytes == 0x563e3d5d8000 @  0x7fe7c4ae4887 0x563e3c78714a 0x563e3c787091 0x563e3c786fea 0x563e3c786edf 0x563e3c786d83 0x563e3c786c7a 0x563e3c786b13 0x7fe7c413ec87 0x563e3c7869fa\n",
            "0\n"
          ]
        }
      ]
    },
    {
      "cell_type": "markdown",
      "source": [
        "---\n",
        "問題   \n",
        "\n",
        "EX13 - 平均との差\n",
        "\n",
        "N人のテストの点数が与えられます。  \n",
        "それぞれの人の点数が平均点から何点離れているか計算してください。  \n",
        "切り捨て  \n",
        "\n",
        "入力例  \n",
        "10  \n",
        "53 21 99 83 75 40 33 62 18 100  \n",
        "=>    \n",
        "5  \n",
        "37  \n",
        "41  \n",
        "︙  "
      ],
      "metadata": {
        "id": "ODjCVSjDv-mf"
      }
    },
    {
      "cell_type": "code",
      "source": [
        "%%writefile temp.cpp\n",
        "#include <bits/stdc++.h>\n",
        "using namespace std;\n",
        "\n",
        "int main() {\n",
        "  int N, sum, ave;\n",
        "  cin >> N;\n",
        "  vector<int> vec(N);\n",
        "  sum = 0;\n",
        "  for (int i = 0; i < N; i++) {\n",
        "    cin >> vec.at(i);\n",
        "    sum += vec.at(i);\n",
        "  };\n",
        "  ave = sum / vec.size();\n",
        "  for (int i = 0; i < N; i++) {\n",
        "    if (vec.at(i) >= ave) cout << vec.at(i) - ave << endl;\n",
        "    else cout << ave - vec.at(i) << endl;\n",
        "  }\n",
        "}"
      ],
      "metadata": {
        "id": "fOu-baYTqY8O",
        "colab": {
          "base_uri": "https://localhost:8080/"
        },
        "outputId": "51ed70ca-18c2-4d76-f359-ce3e3d085edb"
      },
      "execution_count": null,
      "outputs": [
        {
          "output_type": "stream",
          "name": "stdout",
          "text": [
            "Overwriting temp.cpp\n"
          ]
        }
      ]
    },
    {
      "cell_type": "code",
      "source": [
        "!g++ temp.cpp -o temp; echo 10 53 21 99 83 75 40 33 62 18 100 |./temp"
      ],
      "metadata": {
        "id": "App3e7cu-HtD"
      },
      "execution_count": null,
      "outputs": []
    },
    {
      "cell_type": "markdown",
      "source": [
        "# 実験 無名関数"
      ],
      "metadata": {
        "id": "bXHa-xAigP8j"
      }
    },
    {
      "cell_type": "markdown",
      "source": [
        "---\n",
        "質問\n",
        "\n",
        "c++ で ラムダ式、無名関数は使えるか。\n",
        "\n",
        "ラムダ式を呼び出すには、関数と同じように () を使用する、とのこと。\n",
        "```\n",
        "int main(int argc, char *argv[]) {\n",
        "\t[](){}();\n",
        "}\n",
        "```"
      ],
      "metadata": {
        "id": "XCXbjVxub3xo"
      }
    },
    {
      "cell_type": "code",
      "source": [
        "# 実験 関数として使うには戻り値が指定できないと困る #=> 出来た\n",
        "%%writefile temp.cpp\n",
        "#include <bits/stdc++.h>\n",
        "using namespace std;\n",
        "\n",
        "int main(){\n",
        "    int a, b;\n",
        "    a = 3; b = 4;\n",
        "    auto hoge = [](int x, int y){return x * y;};\n",
        "    // auto hoge = [](int x, int y) -> int{return x * y;}; # `=>` を使った書き方もあるが、不要みたい\n",
        "\n",
        "    cout << hoge(a,b) << endl;\n",
        "    cout << [](int x, int y)int{return x * y;}(a,b) << endl;\n",
        "    cout << [](int x, int y) -> int{return x * y;}(a,b) << endl;\n",
        "    cout << [](int x, int y){int temp = x * y; return temp;}(a,b) << endl;\n",
        "}\n"
      ],
      "metadata": {
        "colab": {
          "base_uri": "https://localhost:8080/"
        },
        "id": "dlzXFDwEinzT",
        "outputId": "9f5e88a0-b0ef-4481-d633-09ffc3c840ec"
      },
      "execution_count": null,
      "outputs": [
        {
          "output_type": "stream",
          "name": "stdout",
          "text": [
            "Overwriting temp.cpp\n"
          ]
        }
      ]
    },
    {
      "cell_type": "code",
      "source": [
        "!g++ temp.cpp -o temp; ./temp"
      ],
      "metadata": {
        "colab": {
          "base_uri": "https://localhost:8080/"
        },
        "id": "ROn5HTvyjCBZ",
        "outputId": "7528ad5f-030e-4922-813b-76d87f53ed53"
      },
      "execution_count": null,
      "outputs": [
        {
          "output_type": "stream",
          "name": "stdout",
          "text": [
            "12\n",
            "12\n",
            "12\n",
            "12\n"
          ]
        }
      ]
    },
    {
      "cell_type": "code",
      "source": [
        "# 実験 無名関数の練習\n",
        "%%writefile temp.cpp\n",
        "#include <bits/stdc++.h>\n",
        "using namespace std;\n",
        "\n",
        "int main() {\n",
        "    int a, b;\n",
        "    a = 3;\n",
        "    b = 4;\n",
        "    auto mul = [](int x, int y){return x * y;};\n",
        "    cout << mul(a, b) << endl;\n",
        "}"
      ],
      "metadata": {
        "colab": {
          "base_uri": "https://localhost:8080/"
        },
        "id": "b-5DOanAcMwk",
        "outputId": "bd18a3ab-5ff9-424e-e718-c74eab7df00c"
      },
      "execution_count": null,
      "outputs": [
        {
          "output_type": "stream",
          "name": "stdout",
          "text": [
            "Overwriting temp.cpp\n"
          ]
        }
      ]
    },
    {
      "cell_type": "code",
      "source": [
        "!g++ temp.cpp -o temp; ./temp"
      ],
      "metadata": {
        "colab": {
          "base_uri": "https://localhost:8080/"
        },
        "id": "sZ1GG5Ayc1K7",
        "outputId": "851241d7-6238-4088-cd5b-c0c6887adf0e"
      },
      "execution_count": null,
      "outputs": [
        {
          "output_type": "stream",
          "name": "stdout",
          "text": [
            "12\n"
          ]
        }
      ]
    },
    {
      "cell_type": "code",
      "source": [
        "# 実験 string repeat する\n",
        "# 任意の文字列を任意の回数繰り返した文字列を作る関数を無名関数で作る\n",
        "%%writefile temp.cpp\n",
        "#include <bits/stdc++.h>\n",
        "using namespace std;\n",
        "\n",
        "int main() {\n",
        "  string str;\n",
        "  str = \"abc\";\n",
        "  int n = 3;\n",
        "  auto tempfunc = [](int x, string a){string acc=\"\"; for(int i =0;i < x; i++) acc += a; return acc; };\n",
        "\n",
        "  cout << tempfunc(3,str) << endl;\n",
        "  cout <<  [](int x, string a){string acc=\"\"; for(int i =0;i < x; i++) acc += a; return acc; }(4,\"defg\") << endl;\n",
        "\n",
        "}"
      ],
      "metadata": {
        "colab": {
          "base_uri": "https://localhost:8080/"
        },
        "id": "4jrCWQufMVHf",
        "outputId": "a21b442e-3b80-4df9-f57f-7d9c1ed15468"
      },
      "execution_count": null,
      "outputs": [
        {
          "output_type": "stream",
          "name": "stdout",
          "text": [
            "Overwriting temp.cpp\n"
          ]
        }
      ]
    },
    {
      "cell_type": "code",
      "source": [
        "!g++ temp.cpp -o temp; ./temp"
      ],
      "metadata": {
        "colab": {
          "base_uri": "https://localhost:8080/"
        },
        "id": "qjIdBAYbMVxc",
        "outputId": "6518d05d-61d2-47a7-8046-cdaed268ba75"
      },
      "execution_count": null,
      "outputs": [
        {
          "output_type": "stream",
          "name": "stdout",
          "text": [
            "abcabcabc\n",
            "defgdefgdefgdefg\n"
          ]
        }
      ]
    },
    {
      "cell_type": "markdown",
      "source": [
        "---\n",
        "問題  B - Picture Frame\n",
        "\n",
        "縦 H ピクセル、横 W ピクセルの画像があります。 各ピクセルは英小文字で表されます。 上から i 番目、左から j 番目のピクセルは a \n",
        "ij です。\n",
        "\n",
        "この画像の周囲 1 ピクセルを # で囲んだものを出力してください。\n",
        "\n",
        "```\n",
        "2 3\n",
        "abc\n",
        "arc\n",
        "```\n",
        "=>\n",
        "``` text\n",
        " #####\n",
        " #abc#\n",
        " #arc#\n",
        " #####\n",
        "```\n"
      ],
      "metadata": {
        "id": "LXL3FsJC5-Fv"
      }
    },
    {
      "cell_type": "code",
      "source": [
        "%%writefile temp.cpp\n",
        "#include <bits/stdc++.h>\n",
        "using namespace std;\n",
        "\n",
        "int main() {\n",
        "  int H, W;\n",
        "  cin >> H >> W;\n",
        "  for (int i = 0; i < H + 2; i++) {\n",
        "    if ((i == 0) || (i == H + 1)) cout << [](int n, string a) {string acc = \"\"; for (int i = 0;i < n+2; i++) acc += a; return acc; }(W, \"#\") << endl;\n",
        "    else {\n",
        "        string str;\n",
        "        cin >> str;\n",
        "        cout << \"#\" << str << \"#\" << endl;\n",
        "    }\n",
        "\n",
        "  }\n",
        "}"
      ],
      "metadata": {
        "id": "Qd5R-tWKBRsk",
        "colab": {
          "base_uri": "https://localhost:8080/"
        },
        "outputId": "7edd8678-61f2-49cf-cc54-ea18814af205"
      },
      "execution_count": null,
      "outputs": [
        {
          "output_type": "stream",
          "name": "stdout",
          "text": [
            "Overwriting temp.cpp\n"
          ]
        }
      ]
    },
    {
      "cell_type": "code",
      "source": [
        "!g++ temp.cpp -o temp; echo 2 3 abc def |./temp"
      ],
      "metadata": {
        "colab": {
          "base_uri": "https://localhost:8080/"
        },
        "id": "hzXZHV8_LGCL",
        "outputId": "dd6384bb-942d-4f52-9076-ed3b173d5ae1"
      },
      "execution_count": null,
      "outputs": [
        {
          "output_type": "stream",
          "name": "stdout",
          "text": [
            "#####\n",
            "#abc#\n",
            "#def#\n",
            "#####\n"
          ]
        }
      ]
    },
    {
      "cell_type": "code",
      "source": [
        "# 問題\n",
        "# B - Counting Roads\n",
        "# N 個の都市があり、M 本の道路があります。\n",
        "# i(1≦i≦M) 番目の道路は、都市 a_i と都市 b_i を双方向に結んでいます。\n",
        "# 同じ 2 つの都市を結ぶ道路は、1 本とは限りません。\n",
        "# 各都市から他の都市に向けて、何本の道路が伸びているか求めてください。\n",
        "# 制約\n",
        "# 2≦N,M≦50\n",
        "# 1≦ a_i,b_i ≦N\n",
        "# a_i !=b_i\n",
        "# 答えを N 行に出力せよ。\n",
        "# i(1≦i≦N) 行目には、都市 i から他の都市に向けて、何本の道路が伸びているかを出力せよ。\n",
        "# 入力例\n",
        "# 4 3\n",
        "# 1 2\n",
        "# 2 3\n",
        "# 1 4\n",
        "# 出力例\n",
        "# 2\n",
        "# 2\n",
        "# 1\n",
        "# 1\n",
        "# 入力例 2 \n",
        "# 2 5\n",
        "# 1 2\n",
        "# 2 1\n",
        "# 1 2\n",
        "# 2 1\n",
        "# 1 2\n",
        "# 出力例 2 \n",
        "# 5\n",
        "# 5\n",
        "# 入力例 3 \n",
        "# 8 8\n",
        "# 1 2\n",
        "# 3 4\n",
        "# 1 5\n",
        "# 2 8\n",
        "# 3 7\n",
        "# 5 2\n",
        "# 4 1\n",
        "# 6 8\n",
        "# 出力例 3 \n",
        "# 3\n",
        "# 3\n",
        "# 2\n",
        "# 2\n",
        "# 2\n",
        "# 1\n",
        "# 1\n",
        "# 2"
      ],
      "metadata": {
        "id": "mxbiLOdKj5q-"
      },
      "execution_count": null,
      "outputs": []
    },
    {
      "cell_type": "code",
      "source": [
        "# 問題\n",
        "# B - Counting Roads\n",
        "%%writefile temp.cpp\n",
        "#include <bits/stdc++.h>\n",
        "using namespace std;\n",
        "\n",
        "int main() {\n",
        "  int N, M;\n",
        "  int sum = 0;\n",
        "  cin >> N >> M;\n",
        "\n",
        "  vector<int> data(N,0);\n",
        "\n",
        "  // データの読み込み\n",
        "  for (int i = 0; i < M; i++) {\n",
        "      int city1, city2;\n",
        "      cin >> city1 >> city2;\n",
        "      data.at(city1-1)++;\n",
        "      data.at(city2-1)++;\n",
        "  }\n",
        "  for (int i = 0; i < N; i++) { cout << data.at(i) << endl; }\n",
        "}"
      ],
      "metadata": {
        "id": "3diXANqPqxl-",
        "outputId": "cf9e96e4-7b3e-447a-9bba-22a872ffbf0f",
        "colab": {
          "base_uri": "https://localhost:8080/"
        }
      },
      "execution_count": null,
      "outputs": [
        {
          "output_type": "stream",
          "name": "stdout",
          "text": [
            "Overwriting temp.cpp\n"
          ]
        }
      ]
    },
    {
      "cell_type": "code",
      "source": [
        "!g++ temp.cpp -o temp; echo 4 3 1 2 2 3 1 4 | ./temp\n",
        "!echo\n",
        "!g++ temp.cpp -o temp; echo 2 5 1 2 2 1 1 2 2 1 1 2 | ./temp\n",
        "!echo\n",
        "!g++ temp.cpp -o temp; echo 8 8 1 2 3 4 1 5 2 8 3 7 5 2 4 1 6 8 | ./temp"
      ],
      "metadata": {
        "id": "w-ZNee_FqxbW",
        "outputId": "8336cedc-a5c9-4b6f-b658-f56452359454",
        "colab": {
          "base_uri": "https://localhost:8080/"
        }
      },
      "execution_count": null,
      "outputs": [
        {
          "output_type": "stream",
          "name": "stdout",
          "text": [
            "2\n",
            "2\n",
            "1\n",
            "1\n",
            "\n",
            "5\n",
            "5\n",
            "\n",
            "3\n",
            "3\n",
            "2\n",
            "2\n",
            "2\n",
            "1\n",
            "1\n",
            "2\n"
          ]
        }
      ]
    },
    {
      "cell_type": "code",
      "source": [
        "# 問題\n",
        "# B - Trained?\n",
        "# 筋力をつけたい高橋君は、AtCoder 社のトレーニング設備で、トレーニングをすることにしました。\n",
        "# AtCoder 社のトレーニング設備には N 個のボタンがついており、ちょうど \n",
        "# 1 個のボタンが光っています。 ボタンには、1 から N までの番号がついています。 \n",
        "# ボタン i が光っているときにそのボタンを押すと、ボタン i の明かりが消え、その後ボタン a_i が光ります。\n",
        "# i=a_i であることもあります。 光っていないボタンを押しても、何も起こりません。\n",
        "# 最初、ボタン 1 が光っています。高橋君は、ボタン 2 が光っている状態で、トレーニングをやめたいと思っています。\n",
        "# そのようなことは可能かどうか判定し、もし可能なら最低で何回ボタンを押す必要があるかを求めてください。\n",
        "# ボタン 2 を光らせることが不可能な場合、−1 を出力せよ。 そうでない場合、\n",
        "# ボタン 2 を光らせるために必要なボタンを押す回数の最小値を出力せよ。\n",
        "%%writefile temp.cpp\n",
        "#include <bits/stdc++.h>\n",
        "using namespace std;\n",
        "\n",
        "int main() {\n",
        "  int N;\n",
        "  int counter = 0;\n",
        "  cin >> N;\n",
        "\n",
        "  vector<int> data(N, 0);\n",
        "\n",
        "  for (int i = 0; i < N; i++) {\n",
        "    cin >> data.at(i);\n",
        "  }\n",
        "\n",
        "  int i = 0;\n",
        "  while (true) {\n",
        "    if (data.at(i) == 2) {\n",
        "      cout << counter+1 << endl;\n",
        "      break;\n",
        "    }\n",
        "    else if (counter >= N) {\n",
        "      cout << -1 << endl;\n",
        "      break;\n",
        "    }\n",
        "    else {\n",
        "      i = data.at(i) - 1;\n",
        "      counter++;\n",
        "    }\n",
        "  }\n",
        "}"
      ],
      "metadata": {
        "id": "AuBdQD4twwty",
        "outputId": "4bb1f9bf-c2c7-4a30-99ce-a403106b7f5a",
        "colab": {
          "base_uri": "https://localhost:8080/"
        }
      },
      "execution_count": null,
      "outputs": [
        {
          "output_type": "stream",
          "name": "stdout",
          "text": [
            "Overwriting temp.cpp\n"
          ]
        }
      ]
    },
    {
      "cell_type": "code",
      "source": [
        "!g++ temp.cpp -o temp; echo 3 3 1 2 | ./temp\n",
        "!g++ temp.cpp -o temp; echo 4 3 4 1 2 | ./temp\n",
        "!g++ temp.cpp -o temp; echo 5 3 3 4 2 4 | ./temp"
      ],
      "metadata": {
        "id": "gCY2AwI_wxNZ",
        "outputId": "744d29e6-d269-4973-eae0-1177fba33c7a",
        "colab": {
          "base_uri": "https://localhost:8080/"
        }
      },
      "execution_count": null,
      "outputs": [
        {
          "output_type": "stream",
          "name": "stdout",
          "text": [
            "2\n",
            "-1\n",
            "3\n"
          ]
        }
      ]
    },
    {
      "cell_type": "code",
      "source": [
        "# 問題\n",
        "# B - Two Colors Card Game\n",
        "# 高橋君は青いカードを N 枚，赤いカードを M 枚持っています。 \n",
        "# カードにはそれぞれ文字列が書かれており， i 枚目の青いカードに書かれている文字列は \n",
        "# s_i i ， i 枚目の赤いカードに書かれている文字列は t_i\n",
        "# 高橋君は，文字列を 1 つ言います。 そして，全てのカードを確認し， \n",
        "# その文字列が書かれた青いカードを 1 枚見つけるごとに 1 円貰えます。 \n",
        "# また，その文字列が書かれた赤いカードを 1 枚見つけるごとに 1 円失います。\n",
        "# 高橋君は，最大で差し引き何円貰うことができるでしょうか？\n",
        "# ただし，違うカードに同じ文字列が書かれていることもあることに注意してください。\n",
        "# 出力 高橋君が最大で差し引き X 円貰える時，X を出力せよ。\n",
        "%%writefile temp.cpp\n",
        "#include <bits/stdc++.h>\n",
        "using namespace std;\n",
        "\n",
        "int main() {\n",
        "  int M, N;\n",
        "  int sum = 0;\n",
        "  int max = 0;\n",
        "\n",
        "  cin >> M;\n",
        "  vector<string> s(M);\n",
        "  for (int i = 0; i < M; i++) {\n",
        "    cin >> s.at(i);\n",
        "  }\n",
        "  cin >> N;\n",
        "  vector<string> t(N);\n",
        "  for (int i = 0; i < N; i++) {\n",
        "    cin >> t.at(i);\n",
        "  }\n",
        "\n",
        "  for (int i = 0; i < M; i++) {\n",
        "    sum = 1;\n",
        "    for (int j = i + 1; j < M; j++) {\n",
        "      if (s.at(i) == s.at(j)) sum++;\n",
        "    }\n",
        "    for (int k = 0; k < N; k++) {\n",
        "      if (s.at(i) == t.at(k)) sum--;\n",
        "    }\n",
        "    if (sum > max) max = sum;\n",
        "  }\n",
        "  cout << max << endl;\n",
        "}"
      ],
      "metadata": {
        "id": "Sf4UQPrVK7Yc",
        "outputId": "ac0330b1-4806-4200-d191-2b835b36a657",
        "colab": {
          "base_uri": "https://localhost:8080/"
        }
      },
      "execution_count": null,
      "outputs": [
        {
          "output_type": "stream",
          "name": "stdout",
          "text": [
            "Overwriting temp.cpp\n"
          ]
        }
      ]
    },
    {
      "cell_type": "code",
      "source": [
        "!g++ temp.cpp -o temp; echo 3 apple orange apple 1 grape | ./temp\n",
        "!g++ temp.cpp -o temp; echo 3 apple orange apple 5 apple apple apple apple apple | ./temp\n",
        "!g++ temp.cpp -o temp; echo 1 voldemort 10 voldemort voldemort voldemort voldemort voldemort voldemort voldemort voldemort voldemort voldemort | ./temp\n",
        "!g++ temp.cpp -o temp; echo 6 red red blue yellow yellow red 5 red red yellow green blue | ./temp"
      ],
      "metadata": {
        "id": "t5r3G-DDT1xg",
        "outputId": "c1bebb77-9cd4-42fb-aeff-b727472840e0",
        "colab": {
          "base_uri": "https://localhost:8080/"
        }
      },
      "execution_count": null,
      "outputs": [
        {
          "output_type": "stream",
          "name": "stdout",
          "text": [
            "2\n",
            "1\n",
            "0\n",
            "1\n"
          ]
        }
      ]
    },
    {
      "cell_type": "code",
      "source": [
        "# 問題\n",
        "# B - Kagami Mochi\n",
        "# X 段重ねの鏡餅 (X≥1) とは、X 枚の円形の餅を縦に積み重ねたものであって、\n",
        "# どの餅もその真下の餅より直径が小さい（一番下の餅を除く）もののことです。\n",
        "# 例えば、直径 10、8、6 センチメートルの餅をこの順に下から積み重ねると \n",
        "# 3 段重ねの鏡餅になり、餅を一枚だけ置くと 1 段重ねの鏡餅になります。\n",
        "# ダックスフンドのルンルンは N 枚の円形の餅を持っていて、\n",
        "# そのうち i 枚目の餅の直径は d_i センチメートルです。\n",
        "# これらの餅のうち一部または全部を使って鏡餅を作るとき、\n",
        "# 最大で何段重ねの鏡餅を作ることができるでしょうか。\n",
        "# 作ることのできる鏡餅の最大の段数を出力せよ。\n",
        "%%writefile temp.cpp\n",
        "#include <bits/stdc++.h>\n",
        "using namespace std;\n",
        "\n",
        "int main() {\n",
        "  int N;\n",
        "  cin >> N;\n",
        "  vector<int> mochi(N);\n",
        "  vector<int> mochiset = {};\n",
        "  bool intheset = false;\n",
        "  for (int i = 0; i < N; i++) {\n",
        "    cin >> mochi.at(i);\n",
        "  }\n",
        "  for (int i = 0; i < N; i++) {\n",
        "    if (i == 0) {\n",
        "      mochiset.push_back(mochi.at(i));\n",
        "      continue;\n",
        "    }\n",
        "    for (int j = 0; j < i; j++) {\n",
        "      if (mochi.at(i) == mochi.at(j)) intheset = true;\n",
        "    }\n",
        "    if (intheset == false) {\n",
        "      mochiset.push_back(mochi.at(i));\n",
        "    }\n",
        "    else { intheset = false; }\n",
        "  }\n",
        "  cout << mochiset.size() << endl;\n",
        "}"
      ],
      "metadata": {
        "id": "AUO_1RaFZLnR",
        "colab": {
          "base_uri": "https://localhost:8080/"
        },
        "outputId": "06240d9b-bee8-4a20-efee-8c1c831a5023"
      },
      "execution_count": null,
      "outputs": [
        {
          "output_type": "stream",
          "name": "stdout",
          "text": [
            "Overwriting temp.cpp\n"
          ]
        }
      ]
    },
    {
      "cell_type": "code",
      "source": [
        "!g++ temp.cpp -o temp; echo 4 10 8 8 6 | ./temp #=> 3\n",
        "!g++ temp.cpp -o temp; echo 3 15 15 15 | ./temp #=> 1\n",
        "!g++ temp.cpp -o temp; echo 7 50 30 50 100 50 80 30 | ./temp #=> 4"
      ],
      "metadata": {
        "id": "8DfRdTQoZLTY",
        "colab": {
          "base_uri": "https://localhost:8080/"
        },
        "outputId": "1991a9f5-92cd-46b4-a986-f00f55f59af5"
      },
      "execution_count": null,
      "outputs": [
        {
          "output_type": "stream",
          "name": "stdout",
          "text": [
            "3\n",
            "1\n",
            "4\n"
          ]
        }
      ]
    },
    {
      "cell_type": "markdown",
      "source": [
        "# O - 1.14.STLの関数 "
      ],
      "metadata": {
        "id": "JYNzgIiEorrS"
      }
    },
    {
      "cell_type": "code",
      "source": [
        "# 関数の例\n",
        "%%writefile temp.cpp\n",
        "#include <bits/stdc++.h>\n",
        "using namespace std;\n",
        "\n",
        "int my_min(int x, int y) {\n",
        "  if (x < y) {\n",
        "    return x;\n",
        "  }\n",
        "  else {\n",
        "    return y;\n",
        "  }\n",
        "}\n",
        "\n",
        "int main() {\n",
        "  int answer = my_min(10, 5);\n",
        "  cout << answer << endl; // 5\n",
        "}"
      ],
      "metadata": {
        "id": "UQZ2xyJioq4Z",
        "colab": {
          "base_uri": "https://localhost:8080/"
        },
        "outputId": "c182a582-989f-42f2-dde1-14298094998a"
      },
      "execution_count": null,
      "outputs": [
        {
          "output_type": "stream",
          "name": "stdout",
          "text": [
            "Overwriting temp.cpp\n"
          ]
        }
      ]
    },
    {
      "cell_type": "code",
      "source": [
        "!g++ temp.cpp -o temp;  ./temp"
      ],
      "metadata": {
        "colab": {
          "base_uri": "https://localhost:8080/"
        },
        "id": "SNjwIERXdy33",
        "outputId": "0fee9f7e-8dc7-42aa-95bc-403d0918b2e4"
      },
      "execution_count": null,
      "outputs": [
        {
          "output_type": "stream",
          "name": "stdout",
          "text": [
            "5\n"
          ]
        }
      ]
    },
    {
      "cell_type": "code",
      "source": [
        "# 上の例を無名関数にしてみよう\n",
        "%%writefile temp.cpp\n",
        "#include <bits/stdc++.h>\n",
        "using namespace std;\n",
        "\n",
        "int main() {\n",
        "  cout << [](int x, int y){if(x<y) return x;else return y;}(8,7) << endl; // 7\n",
        "}"
      ],
      "metadata": {
        "colab": {
          "base_uri": "https://localhost:8080/"
        },
        "id": "ewatF7ccd8J_",
        "outputId": "151c972f-9fab-49fd-c2da-6534601a8567"
      },
      "execution_count": null,
      "outputs": [
        {
          "output_type": "stream",
          "name": "stdout",
          "text": [
            "Overwriting temp.cpp\n"
          ]
        }
      ]
    },
    {
      "cell_type": "code",
      "source": [
        "!g++ temp.cpp -o temp; ./temp"
      ],
      "metadata": {
        "colab": {
          "base_uri": "https://localhost:8080/"
        },
        "id": "JYe83XcJeaEc",
        "outputId": "6d89c6ad-53a5-4b0e-c476-433f1cc8c9d3"
      },
      "execution_count": null,
      "outputs": [
        {
          "output_type": "stream",
          "name": "stdout",
          "text": [
            "7\n"
          ]
        }
      ]
    },
    {
      "cell_type": "code",
      "source": [
        "# 関数の引数に参照 `&` を使う例\n",
        "# 参照元の値を変更している\n",
        "%%writefile temp.cpp\n",
        "#include <bits/stdc++.h>\n",
        "using namespace std;\n",
        "\n",
        "void change(int& n, vector<int>& vec) {\n",
        "  n = 1;\n",
        "  vec.at(0) = 1;\n",
        "  return;\n",
        "}\n",
        "\n",
        "int main() {\n",
        "  int x = 5;\n",
        "  vector<int> v = { 10, 10, 10 };\n",
        "\n",
        "  change(x, v);\n",
        "\n",
        "  cout << x << endl;\n",
        "  cout << v.at(0) << endl;\n",
        "}"
      ],
      "metadata": {
        "colab": {
          "base_uri": "https://localhost:8080/"
        },
        "id": "V6PjNpBVgqPj",
        "outputId": "11f4bc00-acf2-43c7-b4c4-0d9cc6f6ba10"
      },
      "execution_count": null,
      "outputs": [
        {
          "output_type": "stream",
          "name": "stdout",
          "text": [
            "Overwriting temp.cpp\n"
          ]
        }
      ]
    },
    {
      "cell_type": "code",
      "source": [
        "!g++ temp.cpp -o temp; ./temp"
      ],
      "metadata": {
        "colab": {
          "base_uri": "https://localhost:8080/"
        },
        "id": "bAEFR3VVhnUT",
        "outputId": "87e59d03-5d38-4c76-fe5d-efba75fba162"
      },
      "execution_count": null,
      "outputs": [
        {
          "output_type": "stream",
          "name": "stdout",
          "text": [
            "1\n",
            "1\n"
          ]
        }
      ]
    },
    {
      "cell_type": "code",
      "source": [
        "# 再帰の例\n",
        "%%writefile temp.cpp\n",
        "#include <bits/stdc++.h>\n",
        "using namespace std;\n",
        " \n",
        "// 0からnまでの和を求める関数 sum\n",
        "int sum(int n) {\n",
        "  if (n == 0) {\n",
        "    return 0;\n",
        "  }\n",
        "  return n + sum(n - 1);\n",
        "}\n",
        " \n",
        "int main() {\n",
        "  cout << sum(3) << endl;\n",
        "} // 6"
      ],
      "metadata": {
        "id": "bUgLKtTCURoC",
        "colab": {
          "base_uri": "https://localhost:8080/"
        },
        "outputId": "d6994917-6239-48e5-9888-f89207a6f50b"
      },
      "execution_count": null,
      "outputs": [
        {
          "output_type": "stream",
          "name": "stdout",
          "text": [
            "Overwriting temp.cpp\n"
          ]
        }
      ]
    },
    {
      "cell_type": "code",
      "source": [
        "!g++ temp.cpp -o temp; ./temp"
      ],
      "metadata": {
        "colab": {
          "base_uri": "https://localhost:8080/"
        },
        "id": "tw0AUobCiVSN",
        "outputId": "23767fb9-4e67-49cc-d127-5fdfcd7c73cf"
      },
      "execution_count": null,
      "outputs": [
        {
          "output_type": "stream",
          "name": "stdout",
          "text": [
            "6\n"
          ]
        }
      ]
    },
    {
      "cell_type": "code",
      "source": [
        "# 問題\n",
        "# EX14 - 三人兄弟の身長差\n",
        "# 三人兄弟のA君とB君とC君が背くらべをしています。\n",
        "# 三人の身長が与えられるので、最も大きい人と最も小さい人の身長差を出力してください。\n",
        "# 例えば、A君の身長が160、B君の身長が154、C君の身長が152であるとします。\n",
        "# このとき最も大きいのはA君で、最も小さいのはC君なので、出力は8になります。\n",
        "# この問題はSTLの関数を使わなくても解けますが、STLの関数を使うと簡潔にプログラムを記述できます。\n",
        "# 最もが大きい人と最も小さい人の身長差を出力してください。\n",
        "# 160 154 152 #=> 8\n",
        "%%writefile temp.cpp\n",
        "#include <bits/stdc++.h>\n",
        "using namespace std;\n",
        " \n",
        "int main() {\n",
        "  vector<int> v(3);\n",
        "  for(int i=0; i < v.size(); i++) cin >> v.at(i);\n",
        "  sort(v.begin(), v.end());\n",
        "  cout << v.at(v.size()-1) - v.at(0) << endl;\n",
        "}"
      ],
      "metadata": {
        "id": "T0BN-PbZ8sBi",
        "outputId": "e0ef40ba-1f87-48aa-f268-0ba5d9f633c7",
        "colab": {
          "base_uri": "https://localhost:8080/"
        }
      },
      "execution_count": null,
      "outputs": [
        {
          "output_type": "stream",
          "name": "stdout",
          "text": [
            "Overwriting temp.cpp\n"
          ]
        }
      ]
    },
    {
      "cell_type": "code",
      "source": [
        "!g++ temp.cpp -o temp; echo 160 154 152 | ./temp #=> 8\n",
        "!g++ temp.cpp -o temp; echo 200 200 200 |./temp #=> 0\n",
        "!g++ temp.cpp -o temp; echo 145 1 170 |./temp #=> 169\n",
        "!g++ temp.cpp -o temp; echo 150 190 160 |./temp #=> 40"
      ],
      "metadata": {
        "id": "9AFdye8L8r3j",
        "outputId": "07714b03-173b-4c43-da2a-fd702904f156",
        "colab": {
          "base_uri": "https://localhost:8080/"
        }
      },
      "execution_count": null,
      "outputs": [
        {
          "output_type": "stream",
          "name": "stdout",
          "text": [
            "8\n",
            "0\n",
            "169\n",
            "40\n"
          ]
        }
      ]
    },
    {
      "cell_type": "code",
      "source": [
        ""
      ],
      "metadata": {
        "id": "KUpcrK_TOwaw"
      },
      "execution_count": null,
      "outputs": []
    },
    {
      "cell_type": "code",
      "source": [
        ""
      ],
      "metadata": {
        "id": "k6aTR4GAOwSI"
      },
      "execution_count": null,
      "outputs": []
    },
    {
      "cell_type": "code",
      "source": [
        "# 問題\n",
        "# B - Card Game for Two\n",
        "# N 枚のカードがあります. i 枚目のカードには, a_i という数が書かれています.\n",
        "# Alice と Bob は, これらのカードを使ってゲームを行います. ゲームでは, \n",
        "# Alice と Bob が交互に 1 枚ずつカードを取っていきます. Alice が先にカードを取ります.\n",
        "# 2 人がすべてのカードを取ったときゲームは終了し, 取ったカードの数の合計がその人の得点になります. \n",
        "# 2 人とも自分の得点を最大化するように最適な戦略を取った時, Alice は Bob より何点多く取るか求めてください.\n",
        "# 両者が最適な戦略を取った時, Alice は Bob より何点多く取るかを出力してください.\n",
        "# 2 3 1 #=> 2\n",
        "%%writefile temp.cpp\n",
        "#include <bits/stdc++.h>\n",
        "using namespace std;\n",
        " \n",
        "int main() {\n",
        "    int N, Alice, Bob;\n",
        "    cin >> N;\n",
        "    Alice = Bob = 0;\n",
        "    vector<int> v(N);\n",
        "    for(int i=0; i < v.size(); i++) cin >> v.at(i);\n",
        "    sort(v.begin(), v.end());\n",
        "    reverse(v.begin(), v.end());\n",
        "    for(int i=0;i<v.size();i++){\n",
        "        if (i%2==0) Alice += v.at(i);\n",
        "        else Bob += v.at(i);\n",
        "    }\n",
        "    cout << Alice - Bob << endl;\n",
        "}"
      ],
      "metadata": {
        "id": "nJQfwse8MPYp",
        "outputId": "cfe3e9ff-70fb-4248-b79d-a3ee2b223d65",
        "colab": {
          "base_uri": "https://localhost:8080/"
        }
      },
      "execution_count": null,
      "outputs": [
        {
          "output_type": "stream",
          "name": "stdout",
          "text": [
            "Overwriting temp.cpp\n"
          ]
        }
      ]
    },
    {
      "cell_type": "code",
      "source": [
        "!g++ temp.cpp -o temp; echo 2 3 1 | ./temp #=> 2\n",
        "!g++ temp.cpp -o temp; echo 3 2 7 4 | ./temp #=> 5\n",
        "!g++ temp.cpp -o temp; echo 4 20 18 2 18 | ./temp #=> 18"
      ],
      "metadata": {
        "id": "XFEmEa_jMPLB",
        "outputId": "a8cfec3c-3909-4704-d0a1-87ad3618eb06",
        "colab": {
          "base_uri": "https://localhost:8080/"
        }
      },
      "execution_count": null,
      "outputs": [
        {
          "output_type": "stream",
          "name": "stdout",
          "text": [
            "2\n",
            "5\n",
            "18\n"
          ]
        }
      ]
    },
    {
      "cell_type": "code",
      "source": [
        "# 問題\n",
        "# B - Kagami Mochi (revisited)\n",
        "# X 段重ねの鏡餅 (X≥1) とは、X 枚の円形の餅を縦に積み重ねたものであって、\n",
        "# どの餅もその真下の餅より直径が小さい（一番下の餅を除く）もののことです。\n",
        "# 例えば、直径 10、8、6 センチメートルの餅をこの順に下から積み重ねると \n",
        "# 3 段重ねの鏡餅になり、餅を一枚だけ置くと 1 段重ねの鏡餅になります。\n",
        "# ダックスフンドのルンルンは N 枚の円形の餅を持っていて、\n",
        "# そのうち i 枚目の餅の直径は d_i センチメートルです。\n",
        "# これらの餅のうち一部または全部を使って鏡餅を作るとき、\n",
        "# 最大で何段重ねの鏡餅を作ることができるでしょうか。\n",
        "# 作ることのできる鏡餅の最大の段数を出力せよ。\n",
        "%%writefile temp.cpp\n",
        "#include <bits/stdc++.h>\n",
        "using namespace std;\n",
        "\n",
        "int main() {\n",
        "  int N, X;\n",
        "  cin >> N;\n",
        "  X = 1;\n",
        "  vector<int> vec(N);\n",
        "  for (int i = 0; i < N; i++) cin >> vec.at(i);\n",
        "  sort(vec.begin(),vec.end());\n",
        "  for(int i=0; i < vec.size()-1; i++){\n",
        "      if (vec.at(i) != vec.at(i+1)) X++;\n",
        "  }\n",
        "  cout << X << endl;\n",
        "}"
      ],
      "metadata": {
        "id": "UtvWaTsfRfzD",
        "outputId": "5212ba1e-3b98-4eba-8acb-f38217d4ab27",
        "colab": {
          "base_uri": "https://localhost:8080/"
        }
      },
      "execution_count": null,
      "outputs": [
        {
          "output_type": "stream",
          "name": "stdout",
          "text": [
            "Overwriting temp.cpp\n"
          ]
        }
      ]
    },
    {
      "cell_type": "code",
      "source": [
        "!g++ temp.cpp -o temp; echo 4 10 8 8 6 | ./temp #=> 3\n",
        "!g++ temp.cpp -o temp; echo 3 15 15 15 | ./temp #=> 1\n",
        "!g++ temp.cpp -o temp; echo 7 50 30 50 100 50 80 30 | ./temp #=> 4"
      ],
      "metadata": {
        "id": "qtD-QTfnRfnj",
        "outputId": "4533a46b-4d32-4103-f25e-66feee53b025",
        "colab": {
          "base_uri": "https://localhost:8080/"
        }
      },
      "execution_count": null,
      "outputs": [
        {
          "output_type": "stream",
          "name": "stdout",
          "text": [
            "3\n",
            "1\n",
            "4\n"
          ]
        }
      ]
    },
    {
      "cell_type": "markdown",
      "source": [
        "---\n",
        "問題 EX15.三人兄弟へのプレゼント\n",
        "\n",
        "問題文\n",
        "三人兄弟のA君とB君とC君は、お父さんに1つのプレゼントを貰うことになりました。\n",
        "貰えるプレゼントの予算は「テストの合計点の積」で決まります。\n",
        "\n",
        "プレゼントの予算 = $(A_1+\\dots+A_n)\\times(B_1)$"
      ],
      "metadata": {
        "id": "4-0O_9lzicIl"
      }
    },
    {
      "cell_type": "code",
      "source": [
        "# 問題 EX15.三人兄弟へのプレゼント\n",
        "# 途中まで書かれたプログラムに沿って完成させること\n",
        "%%writefile temp.cpp\n",
        "#include <bits/stdc++.h>\n",
        "using namespace std;\n",
        "\n",
        "// 1人のテストの点数を表す配列から合計点を計算して返す関数\n",
        "// 返り値: 1人のテストの合計点\n",
        "int sum(vector<int> scores) {\n",
        "  int sum = 0;\n",
        "  for(int i=0; i < scores.size(); i++){sum += scores.at(i);};\n",
        "  return sum;\n",
        "}\n",
        "\n",
        "// 3人の合計点からプレゼントの予算を計算して出力する関数\n",
        "// 返り値: なし\n",
        "void output(int sum_a, int sum_b, int sum_c) {\n",
        "  cout << sum_a*sum_b*sum_c << endl;\n",
        "}\n",
        "\n",
        "// N個の入力を受け取って配列に入れて返す関数\n",
        "// 引数 N: 入力を受け取る個数\n",
        "// 返り値: 受け取ったN個の入力の配列\n",
        "vector<int> input(int N) {\n",
        "  vector<int> vec(N);\n",
        "  for (int i = 0; i < N; i++) {\n",
        "    cin >> vec.at(i);\n",
        "  }\n",
        "  return vec;\n",
        "}\n",
        "\n",
        "int main() {\n",
        "  // 科目の数Nを受け取る\n",
        "  int N;\n",
        "  cin >> N;\n",
        "\n",
        "  // それぞれのテストの点数を受け取る\n",
        "  vector<int> A = input(N);\n",
        "  vector<int> B = input(N);\n",
        "  vector<int> C = input(N);\n",
        "\n",
        "  // それぞれの合計点を計算\n",
        "  int sum_A = sum(A);\n",
        "  int sum_B = sum(B);\n",
        "  int sum_C = sum(C);\n",
        "\n",
        "  // プレゼントの予算を出力\n",
        "  output(sum_A, sum_B, sum_C);\n",
        "}"
      ],
      "metadata": {
        "colab": {
          "base_uri": "https://localhost:8080/"
        },
        "id": "g9A2t3y9iLwF",
        "outputId": "0a5893a2-4cb9-41b9-adaf-ae9e9c587d36"
      },
      "execution_count": null,
      "outputs": [
        {
          "output_type": "stream",
          "name": "stdout",
          "text": [
            "Writing temp.cpp\n"
          ]
        }
      ]
    },
    {
      "cell_type": "code",
      "source": [
        "!g++ temp.cpp -o temp; echo 2 5 7 4 10 9 2 |./temp  #=> 1848\n",
        "!g++ temp.cpp -o temp; echo 3 100 100 100 100 100 100 100 100 100 |./temp #=> 27000000\n",
        "!g++ temp.cpp -o temp; echo 5 95 20 74 81 10 100 50 32 84 31 0 0 0 0 0 |./temp #=> 0\n",
        "!g++ temp.cpp -o temp; echo 2 10 0 0 5 1 1 |./temp #=> 100"
      ],
      "metadata": {
        "colab": {
          "base_uri": "https://localhost:8080/"
        },
        "id": "c60XFlHxkgN2",
        "outputId": "b52f52e9-a908-419c-d5aa-120e591163f8"
      },
      "execution_count": null,
      "outputs": [
        {
          "output_type": "stream",
          "name": "stdout",
          "text": [
            "1848\n",
            "27000000\n",
            "0\n",
            "100\n"
          ]
        }
      ]
    },
    {
      "cell_type": "code",
      "source": [
        "# 範囲for文の構文\n",
        "# for (配列の要素の型 変数名 : 配列変数) {}\n",
        "# 問題 整数 a と 5個の整数を与えられて、a と等しいものの個数を求める\n",
        "# 入力例 入力例 3 1 3 2 5 3 => 2\n",
        "%%writefile temp.cpp\n",
        "#include <bits/stdc++.h>\n",
        "using namespace std;\n",
        "\n",
        "int main() {\n",
        "  int a;\n",
        "  cin >> a;\n",
        "  vector<int> data(5);\n",
        "  for (int i = 0; i < 5; i++) {\n",
        "    cin >> data.at(i);\n",
        "  }\n",
        "  \n",
        "  int count = 0;\n",
        "  for (int item : data) {\n",
        "      if (item == a) count++;\n",
        "  }\n",
        "\n",
        "  cout << count << endl;\n",
        "}\n"
      ],
      "metadata": {
        "id": "I0QRsdz8qEUI",
        "outputId": "303eee5d-e083-4194-92fe-d1b64322f1dd",
        "colab": {
          "base_uri": "https://localhost:8080/"
        }
      },
      "execution_count": null,
      "outputs": [
        {
          "output_type": "stream",
          "name": "stdout",
          "text": [
            "Overwriting temp.cpp\n"
          ]
        }
      ]
    },
    {
      "cell_type": "code",
      "source": [
        "!g++ temp.cpp -o temp; echo 3 1 3 2 5 3 |./temp"
      ],
      "metadata": {
        "id": "w0ydvnIXtv1N",
        "outputId": "2353031b-e850-4ebb-fe3d-06bac097841c",
        "colab": {
          "base_uri": "https://localhost:8080/"
        }
      },
      "execution_count": null,
      "outputs": [
        {
          "output_type": "stream",
          "name": "stdout",
          "text": [
            "2\n"
          ]
        }
      ]
    },
    {
      "cell_type": "code",
      "source": [
        "# 範囲for文はvectorだけでなくコンテナと呼ばれるデータ型に対して使うことが出来る\n",
        "# 文字列(string)はコンテナの一種なので、範囲for文を用いることが出来る\n",
        "%%writefile temp.cpp\n",
        "#include <bits/stdc++.h>\n",
        "using namespace std;\n",
        " \n",
        "int main() {\n",
        "  string str = \"hello\";\n",
        "  for (char c : str) {\n",
        "    if (c == 'l') {\n",
        "      c = 'L';\n",
        "    }\n",
        "    cout << c;\n",
        "  }\n",
        "  cout << endl;\n",
        "}"
      ],
      "metadata": {
        "id": "7ubpn-YxrqkF",
        "colab": {
          "base_uri": "https://localhost:8080/"
        },
        "outputId": "f43a26b5-9de4-413d-999b-e55a42218879"
      },
      "execution_count": null,
      "outputs": [
        {
          "output_type": "stream",
          "name": "stdout",
          "text": [
            "Overwriting temp.cpp\n"
          ]
        }
      ]
    },
    {
      "cell_type": "code",
      "source": [
        "!g++ temp.cpp -o temp; ./temp"
      ],
      "metadata": {
        "colab": {
          "base_uri": "https://localhost:8080/"
        },
        "id": "UgB5QldN_fE_",
        "outputId": "c3c4e06b-cfe1-4685-fb35-6382457eb5a3"
      },
      "execution_count": null,
      "outputs": [
        {
          "output_type": "stream",
          "name": "stdout",
          "text": [
            "heLLo\n"
          ]
        }
      ]
    },
    {
      "cell_type": "code",
      "source": [
        "# 実験\n",
        "# how to c++ sum all elements in multidimensional vector\n",
        "%%writefile temp.cpp\n",
        "#include <bits/stdc++.h>\n",
        "using namespace std;\n",
        "\n",
        "int main() {\n",
        "  int sum;\n",
        "\n",
        "  vector<vector<int>> data = {\n",
        "    {7, 4, 0, 8},\n",
        "    {2, 0, 3, 5},\n",
        "    {6, 1, 7, 0},\n",
        "  };\n",
        "  sum = 0;\n",
        "  for (int i = 0; i < data.size(); i++) {\n",
        "    for (int j = 0; j < data.at(i).size();j++) {\n",
        "      sum += data.at(i).at(j);\n",
        "    }\n",
        "  };\n",
        "  cout << sum << endl;\n",
        "  sum = 0;\n",
        "\n",
        "  // 範囲for文が使えないか\n",
        "  for (vector<int> vec : data) {\n",
        "    for (int item : vec) {\n",
        "      sum += item;\n",
        "    }\n",
        "  }\n",
        "  cout << sum << endl;\n",
        "}"
      ],
      "metadata": {
        "id": "EQl--G-4ZLf-",
        "outputId": "52b60a6d-7dec-4477-f458-6c5e4e5ecaa3",
        "colab": {
          "base_uri": "https://localhost:8080/"
        }
      },
      "execution_count": null,
      "outputs": [
        {
          "output_type": "stream",
          "name": "stdout",
          "text": [
            "Overwriting temp.cpp\n"
          ]
        }
      ]
    },
    {
      "cell_type": "code",
      "source": [
        "!g++ temp.cpp -o temp; ./temp"
      ],
      "metadata": {
        "id": "moj3bcJiaFso",
        "outputId": "a833c830-13d2-4b73-99f9-351ef97a7eae",
        "colab": {
          "base_uri": "https://localhost:8080/"
        }
      },
      "execution_count": null,
      "outputs": [
        {
          "output_type": "stream",
          "name": "stdout",
          "text": [
            "43\n",
            "43\n"
          ]
        }
      ]
    },
    {
      "cell_type": "code",
      "source": [
        "# ループ構文の使い分け\n",
        "# while文が適しているケース\n",
        "# 「整数Nがあるとき、Nが2で最大で何回割り切れるかを求める」という処理を考える\n",
        "%%writefile temp.cpp\n",
        "#include <bits/stdc++.h>\n",
        "using namespace std;\n",
        " \n",
        "int main() {\n",
        "  int N;\n",
        "  cin >> N;\n",
        " \n",
        "  int count = 0;\n",
        "  while (N > 0) {\n",
        "    // 2で割り切れなければループを抜ける\n",
        "    if (N % 2 > 0) {\n",
        "      break;\n",
        "    }\n",
        "    N = N / 2;\n",
        "    count++;\n",
        "  }\n",
        "  cout << count << endl;\n",
        "}"
      ],
      "metadata": {
        "colab": {
          "base_uri": "https://localhost:8080/"
        },
        "id": "SErFyC1R_aB1",
        "outputId": "bad4bed3-cf67-44ed-c45f-1a0f2c8fa377"
      },
      "execution_count": null,
      "outputs": [
        {
          "output_type": "stream",
          "name": "stdout",
          "text": [
            "Overwriting temp.cpp\n"
          ]
        }
      ]
    },
    {
      "cell_type": "code",
      "source": [
        "!g++ temp.cpp -o temp; echo 8 |./temp"
      ],
      "metadata": {
        "colab": {
          "base_uri": "https://localhost:8080/"
        },
        "id": "CE7R7BNxAZJZ",
        "outputId": "92052b4b-27ae-44a6-cd51-6c3e5382acd5"
      },
      "execution_count": null,
      "outputs": [
        {
          "output_type": "stream",
          "name": "stdout",
          "text": [
            "3\n"
          ]
        }
      ]
    },
    {
      "cell_type": "markdown",
      "source": [
        "---\n",
        "未解決問題  \n",
        "\n"
      ],
      "metadata": {
        "id": "ApmB4-JxAup8"
      }
    },
    {
      "cell_type": "code",
      "source": [
        "# 問題\n",
        "# 再帰を使って while を使わずに    \n",
        "# 整数Nがあるとき、Nが2で最大で何回割り切れるかを求める\n",
        "%%writefile temp.cpp\n",
        "#include <bits/stdc++.h>\n",
        "using namespace std;\n",
        "\n",
        "int binpower(int n){\n",
        "    if (n == 0) return 0;\n",
        "    else if (n%2 == 1) return 0;\n",
        "    else return (1+ binpower(n/2));\n",
        "}\n",
        " \n",
        "int main() {\n",
        "  int N;\n",
        "  cin >> N;\n",
        " \n",
        "  cout << binpower(N) << endl;\n",
        "}"
      ],
      "metadata": {
        "id": "QwIVcMgtlUFT",
        "outputId": "2c3b858d-c62e-4003-b3d8-ad794e84e44f",
        "colab": {
          "base_uri": "https://localhost:8080/"
        }
      },
      "execution_count": null,
      "outputs": [
        {
          "output_type": "stream",
          "name": "stdout",
          "text": [
            "Overwriting temp.cpp\n"
          ]
        }
      ]
    },
    {
      "cell_type": "code",
      "source": [
        "!g++ temp.cpp -o temp; echo 8 |./temp"
      ],
      "metadata": {
        "id": "eeVvSpWxlT91",
        "outputId": "dd2c1f10-082b-45f6-c1fc-e44008f010e5",
        "colab": {
          "base_uri": "https://localhost:8080/"
        }
      },
      "execution_count": null,
      "outputs": [
        {
          "output_type": "stream",
          "name": "stdout",
          "text": [
            "3\n"
          ]
        }
      ]
    },
    {
      "cell_type": "code",
      "source": [
        "# 問題\n",
        "# EX16.隣り合う同じ値を探す\n",
        "# 5つの要素からなる配列 同じ値の要素が隣り合っているような箇所が存在するかどうかを判定\n",
        "# 存在するなら\"YES\"を、存在しなければ\"NO\"を出力\n",
        "# 5 3 3 1 4 #=> YES\n",
        "%%writefile temp.cpp\n",
        "#include <bits/stdc++.h>\n",
        "using namespace std;\n",
        "\n",
        "int main() {\n",
        "  vector<int> data(5);\n",
        "  for (int i = 0; i < 5; i++) {\n",
        "    cin >> data.at(i);\n",
        "  };\n",
        "\n",
        "  string answer = \"NO\";\n",
        "\n",
        "  for (int i = 0; i < data.size()-1;i++){\n",
        "      if (data.at(i)==data.at(i+1)){\n",
        "          answer = \"YES\";\n",
        "          break;\n",
        "      }\n",
        "  };\n",
        "  cout << answer << endl;\n",
        "}\n"
      ],
      "metadata": {
        "colab": {
          "base_uri": "https://localhost:8080/"
        },
        "id": "msYGRA1YF3ZR",
        "outputId": "579279e6-20d0-4c5e-8348-953a8488a95a"
      },
      "execution_count": null,
      "outputs": [
        {
          "output_type": "stream",
          "name": "stdout",
          "text": [
            "Overwriting temp.cpp\n"
          ]
        }
      ]
    },
    {
      "cell_type": "code",
      "source": [
        "!g++ temp.cpp -o temp; echo 5 3 3 1 4 |./temp #=> YES\n",
        "!g++ temp.cpp -o temp; echo 1 1 2 3 4 |./temp #=>YES\n",
        "!g++ temp.cpp -o temp; echo 1 2 1 2 1 |./temp #=>NO\n",
        "!g++ temp.cpp -o temp; echo 100 100 100 100 100 |./temp #=>YES"
      ],
      "metadata": {
        "colab": {
          "base_uri": "https://localhost:8080/"
        },
        "id": "Nnc-sRsLF2nz",
        "outputId": "fead5df9-615d-4091-fa3f-011fc7148a39"
      },
      "execution_count": null,
      "outputs": [
        {
          "output_type": "stream",
          "name": "stdout",
          "text": [
            "YES\n",
            "YES\n",
            "NO\n",
            "YES\n"
          ]
        }
      ]
    },
    {
      "cell_type": "code",
      "source": [
        "# 多重ループ \n",
        "%%writefile temp.cpp\n",
        "#include <bits/stdc++.h>\n",
        "using namespace std;\n",
        " \n",
        "int main() {\n",
        "  for (int i = 0; i < 2; i++) {\n",
        "    for (int j = 0; j < 2; j++) {\n",
        "      for (int k = 0; k < 2; k++) {\n",
        "        cout << \"i:\" << i << \", j:\" << j << \", k:\" << k << endl;\n",
        "      }\n",
        "    }\n",
        "  }\n",
        "}"
      ],
      "metadata": {
        "id": "IYFmSN-5IetI",
        "outputId": "25d99d83-244a-4661-ae73-906abd34e318",
        "colab": {
          "base_uri": "https://localhost:8080/"
        }
      },
      "execution_count": null,
      "outputs": [
        {
          "output_type": "stream",
          "name": "stdout",
          "text": [
            "Overwriting temp.cpp\n"
          ]
        }
      ]
    },
    {
      "cell_type": "code",
      "source": [
        "!g++ temp.cpp -o temp; ./temp"
      ],
      "metadata": {
        "id": "QPEkEMZJGfCr",
        "outputId": "23c36a16-2d01-4c81-b182-8af67d683d85",
        "colab": {
          "base_uri": "https://localhost:8080/"
        }
      },
      "execution_count": null,
      "outputs": [
        {
          "output_type": "stream",
          "name": "stdout",
          "text": [
            "i:0, j:0, k:0\n",
            "i:0, j:0, k:1\n",
            "i:0, j:1, k:0\n",
            "i:0, j:1, k:1\n",
            "i:1, j:0, k:0\n",
            "i:1, j:0, k:1\n",
            "i:1, j:1, k:0\n",
            "i:1, j:1, k:1\n"
          ]
        }
      ]
    },
    {
      "cell_type": "code",
      "source": [
        "# 例題「3要素の2つの配列A, Bに同じ要素が含まれているかどうか判定する」\n",
        "# 入力 1 3 2 4 5 3 => YES\n",
        "%%writefile temp.cpp\n",
        "#include <bits/stdc++.h>\n",
        "using namespace std;\n",
        " \n",
        "int main() {\n",
        "  vector<int> A(3), B(3);\n",
        "  for (int i = 0; i < 3; i++) {\n",
        "    cin >> A.at(i);\n",
        "  }\n",
        "  for (int i = 0; i < 3; i++) {\n",
        "    cin >> B.at(i);\n",
        "  }\n",
        " \n",
        "  // 答えを保持する変数\n",
        "  bool answer = false;\n",
        " \n",
        "  // ここにプログラムを追記\n",
        "  for (int i = 0; i < 3; i++) {\n",
        "    for (int j = 0; j < 3; j++) {\n",
        "      if (A.at(i) == B.at(j)) {\n",
        "        answer = true;\n",
        "      }\n",
        "    }\n",
        "  }\n",
        " \n",
        "  if (answer) {\n",
        "    cout << \"YES\" << endl;\n",
        "  }\n",
        "  else {\n",
        "    cout << \"NO\" << endl;\n",
        "  }\n",
        "}"
      ],
      "metadata": {
        "id": "e1Dt1ENtGWfr",
        "outputId": "ef52f63e-badb-403a-95a2-5700aec54464",
        "colab": {
          "base_uri": "https://localhost:8080/"
        }
      },
      "execution_count": null,
      "outputs": [
        {
          "output_type": "stream",
          "name": "stdout",
          "text": [
            "Overwriting temp.cpp\n"
          ]
        }
      ]
    },
    {
      "cell_type": "code",
      "source": [
        "!g++ temp.cpp -o temp; echo 1 3 2 4 5 3 |./temp"
      ],
      "metadata": {
        "id": "hsdwzl8UHlnE",
        "outputId": "c7a4cdbc-f41f-45aa-fb43-787c5f847ee5",
        "colab": {
          "base_uri": "https://localhost:8080/"
        }
      },
      "execution_count": null,
      "outputs": [
        {
          "output_type": "stream",
          "name": "stdout",
          "text": [
            "YES\n"
          ]
        }
      ]
    },
    {
      "cell_type": "code",
      "source": [
        "# 問題\n",
        "# EX17.果物屋さんでお買い物\n",
        "# ある果物屋では、リンゴ・パイナップルがそれぞれN個売られてる。\n",
        "# リンゴ・パイナップルをそれぞれ1つずつ選んで購入しようとするとき、合計金額が丁# 度S円になるような買い方が何通りあるか。\n",
        "# 同じ値段の同じ種類の商品でも区別する。\n",
        "%%writefile temp.cpp\n",
        "#include <bits/stdc++.h>\n",
        "using namespace std;\n",
        "\n",
        "int main() {\n",
        "  int N, S;\n",
        "  cin >> N >> S;\n",
        "  vector<int> A(N), P(N);\n",
        "  for (int i = 0; i < N; i++) {\n",
        "    cin >> A.at(i);\n",
        "  }\n",
        "  for (int i = 0; i < N; i++) {\n",
        "    cin >> P.at(i);\n",
        "  }\n",
        "\n",
        "  // リンゴ・パイナップルをそれぞれ1つずつ購入するとき合計S円になるような買い方が何通りあるか\n",
        "  // ここにプログラムを追記\n",
        "  int counter = 0;\n",
        "  for (int i = 0; i < N; i++) {\n",
        "    for (int j = 0; j < N; j++) {\n",
        "      if (A.at(i) + P.at(j) == S) counter++;\n",
        "    }\n",
        "  }\n",
        "  cout << counter << endl;\n",
        "}"
      ],
      "metadata": {
        "id": "CnTE-C_m888j",
        "outputId": "fd74f2f1-eb49-48e6-a6b3-c19a1256e7cf",
        "colab": {
          "base_uri": "https://localhost:8080/"
        }
      },
      "execution_count": null,
      "outputs": [
        {
          "output_type": "stream",
          "name": "stdout",
          "text": [
            "Writing temp.cpp\n"
          ]
        }
      ]
    },
    {
      "cell_type": "code",
      "source": [
        "!g++ temp.cpp -o temp; echo 3 400 100 100 130 270 300 250  |./temp #=> 3\n",
        "!g++ temp.cpp -o temp; echo 10 600 70 110 90 120 90 20 260 150 220 150 170 100 250 350 60 280 450 460 20 220 |./temp  #=> 2\n",
        "!g++ temp.cpp -o temp; echo 3 200 100 100 100 100 100 100 |./temp #=> 9\n",
        "!g++ temp.cpp -o temp; echo 1 0 100 200 |./temp #=> 0"
      ],
      "metadata": {
        "colab": {
          "base_uri": "https://localhost:8080/"
        },
        "id": "StKQu4Ia-zjM",
        "outputId": "773d7378-0d07-43c4-b8d2-055f8eb3dcab"
      },
      "execution_count": null,
      "outputs": [
        {
          "output_type": "stream",
          "name": "stdout",
          "text": [
            "3\n",
            "2\n",
            "9\n",
            "0\n"
          ]
        }
      ]
    },
    {
      "cell_type": "markdown",
      "source": [
        "# 多次元配列\n",
        "\n",
        "# 二次元配列\n",
        "\n",
        "vector<vector<要素の型>> 変数名(要素数1, vector<要素の型>(要素数2, 初期値))で宣言\n",
        "\n",
        "もしくは\n",
        "\n",
        "```\n",
        "vector<vector<int>> data = {\n",
        "  {7, 4, 0, 8},\n",
        "  {2, 0, 3, 5},\n",
        "  {6, 1, 7, 0},\n",
        "};\n",
        "```\n",
        "\n",
        "とか\n"
      ],
      "metadata": {
        "id": "yZIxWfVC_tY8"
      }
    },
    {
      "cell_type": "code",
      "source": [
        "# 例題 縦3行、横4列の整数が書かれた表があります。この表に何個の0が含まれているかを求めてください。\n",
        "# 入力 7 4 0 8 2 0 3 5 6 1 7 0 => 3\n",
        "%%writefile temp.cpp\n",
        "#include <bits/stdc++.h>\n",
        "using namespace std;\n",
        "\n",
        "int main() {\n",
        "\n",
        "  // int型の2次元配列(3×4要素の)の宣言\n",
        "  vector<vector<int>> data(3, vector<int>(4));\n",
        "\n",
        "  // 入力 (2重ループを用いる)\n",
        "  for (int i = 0; i < 3; i++) {\n",
        "    for (int j = 0; j < 4; j++) {\n",
        "      cin >> data.at(i).at(j);\n",
        "    }\n",
        "  }\n",
        "\n",
        "  // 0の個数を数える\n",
        "  int count = 0;\n",
        "\n",
        "  for (int i = 0; i < 3; i++) {\n",
        "    for (int j = 0; j < 4; j++) {\n",
        "\n",
        "      // 上からi番目、左からj番目の画素が0かを判定\n",
        "      if (data.at(i).at(j) == 0) {\n",
        "        count++;\n",
        "      }\n",
        "\n",
        "    }\n",
        "  }\n",
        "\n",
        "   cout << count << endl;\n",
        "}\n"
      ],
      "metadata": {
        "colab": {
          "base_uri": "https://localhost:8080/"
        },
        "id": "GmR-jswS_rcR",
        "outputId": "620f57a2-29ee-4c1c-d0a5-a21ca65101d9"
      },
      "execution_count": null,
      "outputs": [
        {
          "output_type": "stream",
          "name": "stdout",
          "text": [
            "Overwriting temp.cpp\n"
          ]
        }
      ]
    },
    {
      "cell_type": "code",
      "source": [
        "!g++ temp.cpp -o temp; echo 7 4 0 8 2 0 3 5 6 1 7 0 |./temp"
      ],
      "metadata": {
        "id": "FUbVxPMpDXWK",
        "outputId": "67a2b0d7-88ca-4d21-d8ac-48b5ea3f0991",
        "colab": {
          "base_uri": "https://localhost:8080/"
        }
      },
      "execution_count": null,
      "outputs": [
        {
          "output_type": "stream",
          "name": "stdout",
          "text": [
            "3\n"
          ]
        }
      ]
    },
    {
      "cell_type": "code",
      "source": [
        "# 例題\n",
        "# まるばつゲームの状態がN個与えられます。マルは'o'、バツは'x'、空白は'-'で表されます。\n",
        "# すべての状態の'o'の個数の和を求めてください。\n",
        "%%writefile temp.cpp\n",
        "#include <bits/stdc++.h>\n",
        "using namespace std;\n",
        " \n",
        "int main() {\n",
        "  int N;\n",
        "  cin >> N;\n",
        "  // N × (3 × 3)要素の配列を宣言\n",
        "  vector<vector<vector<char>>> data(N, vector<vector<char>>(3, vector<char>(3)));\n",
        " \n",
        "  // 入力\n",
        "  for (int i = 0; i < N; i++) {\n",
        "    // i番目の状態を読む\n",
        "    for (int j = 0; j < 3; j++) {\n",
        "      for (int k = 0; k < 3; k++) {\n",
        "        cin >> data.at(i).at(j).at(k);\n",
        "      }\n",
        "    }\n",
        "  }\n",
        " \n",
        "  // 'o'の数を数える\n",
        "  int count = 0;\n",
        " \n",
        "  for (int i = 0; i < N; i++) {\n",
        "    for (int j = 0; j < 3; j++) {\n",
        "      for (int k = 0; k < 3; k++) {\n",
        " \n",
        "        // 「i番目の状態」「上からj番目」「左からk番目」の要素が'o'か判定\n",
        "        if (data.at(i).at(j).at(k) == 'o') {\n",
        "          count++;\n",
        "        }\n",
        " \n",
        "      }\n",
        "    }\n",
        "  }\n",
        " \n",
        "   cout << count << endl;\n",
        "}"
      ],
      "metadata": {
        "id": "rrUAmMRs_pOD",
        "outputId": "91640dc3-6a0c-4238-cd09-d9ec52e114ad",
        "colab": {
          "base_uri": "https://localhost:8080/"
        }
      },
      "execution_count": null,
      "outputs": [
        {
          "output_type": "stream",
          "name": "stdout",
          "text": [
            "Writing temp.cpp\n"
          ]
        }
      ]
    },
    {
      "cell_type": "code",
      "source": [
        "!g++ temp.cpp -o temp; echo 2 - - - - x - - o - x o - - o - x - - |./temp #=> 3"
      ],
      "metadata": {
        "id": "a2WKj4CAFzo4",
        "outputId": "e6281f55-57db-42de-b392-713a408e73d6",
        "colab": {
          "base_uri": "https://localhost:8080/"
        }
      },
      "execution_count": null,
      "outputs": [
        {
          "output_type": "stream",
          "name": "stdout",
          "text": [
            "3\n"
          ]
        }
      ]
    },
    {
      "cell_type": "code",
      "source": [
        "# 変数名.size()では1次元目の要素数が取得できますが、すべての要素の個数が取得できる訳ではない。\n",
        "%%writefile temp.cpp\n",
        "#include <bits/stdc++.h>\n",
        "using namespace std;\n",
        "\n",
        "int main() {\n",
        "  vector<vector<vector<int>>> data = {\n",
        "    {\n",
        "      {1, 2, 3, 4},\n",
        "      {5, 6, 7, 8},\n",
        "      {9, 10, 11, 12},\n",
        "    },\n",
        "    {\n",
        "      {13, 14, 15, 16},\n",
        "      {17, 18, 19, 20},\n",
        "      {21, 22, 23, 24},\n",
        "    },\n",
        "  };\n",
        "\n",
        "  int size1 = data.size();\n",
        "  cout << size1 << endl;  // 2\n",
        "\n",
        "  int size2 = data.at(0).size();\n",
        "  cout << size2 << endl;  // 3\n",
        "\n",
        "  int size3 = data.at(0).at(0).size();\n",
        "  cout << size3 << endl;  // 4\n",
        "}"
      ],
      "metadata": {
        "id": "Xt-IXT7IFuiO",
        "outputId": "b04a568b-ec46-4c4a-dcf1-29b09f32e2d4",
        "colab": {
          "base_uri": "https://localhost:8080/"
        }
      },
      "execution_count": null,
      "outputs": [
        {
          "output_type": "stream",
          "name": "stdout",
          "text": [
            "Overwriting temp.cpp\n"
          ]
        }
      ]
    },
    {
      "cell_type": "code",
      "source": [
        "!g++ temp.cpp -o temp; ./temp #=> 3"
      ],
      "metadata": {
        "id": "bsaO7FhlG0Jo",
        "outputId": "737b0447-d793-4e0d-c5b4-ac7071309e5b",
        "colab": {
          "base_uri": "https://localhost:8080/"
        }
      },
      "execution_count": null,
      "outputs": [
        {
          "output_type": "stream",
          "name": "stdout",
          "text": [
            "2\n",
            "3\n",
            "4\n"
          ]
        }
      ]
    },
    {
      "cell_type": "code",
      "source": [
        "# 問題\n",
        "# EX18.ゲーム大会\n",
        "# あるゲーム大会にはN人が参加しM試合が行われました。各参加者には1からNの番号が割り当てられています。\n",
        "# 試合に関する情報が与えられるので、M回の試合がすべて終了した時点での試合結果の表を作成し、出力してください。\n",
        "# ただし、同じ参加者のペアについて2回以上試合が行われることはないとします。\n",
        "# 試合に関する情報は以下のような形式で与えられます。\n",
        "# 試合1で勝った人の番号 A_1 試合1で負けた人の番号B_1\n",
        "# 試合1で勝った人の番号 A_2 試合1で負けた人の番号B_2\n",
        "# ...\n",
        "# 試合Mで勝った人の番号A_M 試合Mで負けた人の番号B_M\n",
        "# 同じ参加者のペアについて2回以上試合が行われることはありません。\n",
        "# ​試合結果を表示の仕方。\n",
        "# i番の参加者とj番の参加者が試合をして、\n",
        "# i番の参加者が勝ったなら R_i,j = o\n",
        "# i番の負けたなら R_i,j = x\n",
        "# i番の人とj番の人が試合を行っていない場合 R_i,j = -\n",
        "# M試合が終了した時点での試合結果の表を出力してください。\n",
        "# ただし、各行の行末に空白を含まないことに注意してください。\n",
        "%%writefile temp.cpp\n",
        "#include <bits/stdc++.h>\n",
        "using namespace std;\n",
        "\n",
        "int main() {\n",
        "  int N, M;\n",
        "  cin >> N >> M;\n",
        "  vector<int> A(M), B(M);\n",
        "  for (int i = 0; i < M; i++) {\n",
        "    cin >> A.at(i) >> B.at(i);\n",
        "  }\n",
        "\n",
        "  // N×Nのchar型の2次元配列のすべての要素を'-'で初期化\n",
        "  vector<vector<char>> table(N, vector<char>(N, '-'));\n",
        "\n",
        "  for (int i = 0; i < M; i++) {\n",
        "    // 1〜N → 0〜N-1 に変換\n",
        "    A.at(i)--; B.at(i)--;\n",
        "    table.at(A.at(i)).at(B.at(i)) = 'o';  // AはBに勝った\n",
        "    table.at(B.at(i)).at(A.at(i)) = 'x';  // BはAに負けた\n",
        "  }\n",
        "\n",
        "  for (int i = 0; i < N; i++) {\n",
        "    for (int j = 0; j < N; j++) {\n",
        "      cout << table.at(i).at(j);\n",
        "      if (j == N - 1) {\n",
        "        cout << endl;  // 行末なら改行\n",
        "      }\n",
        "      else {\n",
        "        cout << \" \";  // 行末でないなら空白を出力\n",
        "      }\n",
        "    }\n",
        "  }\n",
        "}"
      ],
      "metadata": {
        "id": "7lMZ3ANeGaRv",
        "outputId": "8b1f08bd-166f-4e98-bcb1-8ec564b54306",
        "colab": {
          "base_uri": "https://localhost:8080/"
        }
      },
      "execution_count": null,
      "outputs": [
        {
          "output_type": "stream",
          "name": "stdout",
          "text": [
            "Overwriting temp.cpp\n"
          ]
        }
      ]
    },
    {
      "cell_type": "code",
      "source": [
        "!g++ temp.cpp -o temp; echo 3 2 1 2 3 1 |./temp #=> - o x x - - o - -\n",
        "!echo\n",
        "!g++ temp.cpp -o temp; echo 7 12 1 5 5 4 6 2 1 7 2 4 6 3 1 3 6 4 3 7 5 7 4 3 6 1 |./temp #=> - - o - o x o - - - o - x - x - - x - x o - x o - x x - x - - o - - o o o o o - - - x - x - x - -\n",
        "!echo\n",
        "!g++ temp.cpp -o temp; echo 1 0|./temp #=> -"
      ],
      "metadata": {
        "id": "lhhvWupys6ZD",
        "outputId": "7dbfbfdc-ee40-4e5d-c30c-cf5b53cd6508",
        "colab": {
          "base_uri": "https://localhost:8080/"
        }
      },
      "execution_count": null,
      "outputs": [
        {
          "output_type": "stream",
          "name": "stdout",
          "text": [
            "- o x\n",
            "x - -\n",
            "o - -\n",
            "\n",
            "- - o - o x o\n",
            "- - - o - x -\n",
            "x - - x - x o\n",
            "- x o - x x -\n",
            "x - - o - - o\n",
            "o o o o - - -\n",
            "x - x - x - -\n",
            "\n",
            "-\n"
          ]
        }
      ]
    },
    {
      "cell_type": "code",
      "source": [
        "# 問題\n",
        "# ABC107 B - Grid Compression\n",
        "# 縦 H 行、横 W 列のマス目があります。 上から i 行目、左から j 列目のマスを (i,j) と表します。 \n",
        "# 各マスは白または黒です。 マス目の配色は、H 行 W 列の行列 (a_i,j) によって与えられます。 \n",
        "# a_i,j が `.` ならばマス (i,j) は白であり、a_i,j が `#` ならばマス (i,j) は黒です。\n",
        "# すぬけ君はこのマス目を圧縮しようとしています。 そのために、\n",
        "# 白いマスのみからなる行または列が存在する間、次の操作を繰り返し行います。\n",
        "# 操作: 白いマスのみからなる行または列をひとつ任意に選び、その行または列を取り除いて空白を詰める。\n",
        "# 各操作でどの行または列を選ぶかによらず、最終的なマス目は一意に定まることが示せます。 \n",
        "# 最終的なマス目を求めてください。\n",
        "# マス目全体で少なくともひとつは黒いマスが存在する。\n",
        "%%writefile temp.cpp\n",
        "#include <bits/stdc++.h>\n",
        "using namespace std;\n",
        "int main() {\n",
        "  int h;\n",
        "  cin >> h;\n",
        "  int w;\n",
        "  cin >> w;\n",
        "  vector<string> a(h);\n",
        "  for (int i = 0; i < h; i++) {\n",
        "    cin >> a[i];\n",
        "  }\n",
        "\n",
        "  vector<bool> row(h, false);\n",
        "  vector<bool> col(w, false);\n",
        "  for (int i = 0; i < h; i++) {\n",
        "    for (int j = 0; j < w; j++) {\n",
        "      if (a[i][j] == '#') {\n",
        "        row[i] = true;\n",
        "        col[j] = true;\n",
        "      }\n",
        "    }\n",
        "  }\n",
        "\n",
        "  for (int i = 0; i < h; i++) {\n",
        "    if (row[i]) {\n",
        "      for (int j = 0; j < w; j++) {\n",
        "        if (col[j]) {\n",
        "          cout << a[i][j];\n",
        "        }\n",
        "      }\n",
        "      cout << endl;\n",
        "    }\n",
        "  }\n",
        "}\n"
      ],
      "metadata": {
        "id": "SU-GaBUEHjzv",
        "outputId": "b8915096-a3b9-42ca-e7c4-1f22bce7c762",
        "colab": {
          "base_uri": "https://localhost:8080/"
        }
      },
      "execution_count": null,
      "outputs": [
        {
          "output_type": "stream",
          "name": "stdout",
          "text": [
            "Writing temp.cpp\n"
          ]
        }
      ]
    },
    {
      "cell_type": "code",
      "source": [
        "!g++ temp.cpp -o temp; echo \"4 4 ##.# .... ##.# .#.#\" |./temp #=> ### ### .##\n",
        "!echo\n",
        "!g++ temp.cpp -o temp; echo \"3 3 #.. .#. ..#\" |./temp #=> #.. .#. ..#\n",
        "!echo\n",
        "!g++ temp.cpp -o temp; echo \"4 5 ..... ..... ..#.. .....\" |./temp #=> #\n",
        "!echo\n",
        "!g++ temp.cpp -o temp; echo \"7 6 ...... ....#. .#.... ..#... ..#... ...... .#..#.\" |./temp #=> ..# #.. .#. .#. #.#\n",
        "!echo"
      ],
      "metadata": {
        "id": "qfaobcUdMVbx",
        "outputId": "1b4fb172-6e33-4ab0-a73b-0de5efdf7409",
        "colab": {
          "base_uri": "https://localhost:8080/"
        }
      },
      "execution_count": null,
      "outputs": [
        {
          "output_type": "stream",
          "name": "stdout",
          "text": [
            "###\n",
            "###\n",
            ".##\n",
            "\n",
            "#..\n",
            ".#.\n",
            "..#\n",
            "\n",
            "#\n",
            "\n",
            "..#\n",
            "#..\n",
            ".#.\n",
            ".#.\n",
            "#.#\n",
            "\n"
          ]
        }
      ]
    },
    {
      "cell_type": "markdown",
      "source": [
        "# U - 2.04.参照 "
      ],
      "metadata": {
        "id": "ZqwOZxwk4MrK"
      }
    },
    {
      "cell_type": "code",
      "source": [
        "# U - 2.04.参照 \n",
        "# 参照先の型 &参照の名前 = 参照先;で参照を宣言\n",
        "# 参照渡しは、無駄なコピーを避けたり複数の結果を返したいときに便利\n",
        "%%writefile temp.cpp\n",
        "#include <bits/stdc++.h>\n",
        "using namespace std;\n",
        " \n",
        "int main() {\n",
        "  int a = 3;\n",
        "  int &b = a;  // bは変数aの参照\n",
        " \n",
        "  cout << \"a: \" << a << endl;  // aの値を出力\n",
        "  cout << \"b: \" << b << endl;  // bの参照先の値を出力(aの値である3が出力される)\n",
        " \n",
        "  b = 4;  // 参照先の値を変更(aが4になる)\n",
        " \n",
        "  cout << \"a: \" << a << endl;  // aの値を出力\n",
        "  cout << \"b: \" << b << endl;  // bの参照先の値を出力(aの値である4が出力される)\n",
        "}"
      ],
      "metadata": {
        "colab": {
          "base_uri": "https://localhost:8080/"
        },
        "id": "Z5A5MCrT31sh",
        "outputId": "419ab970-09d1-4630-ebf1-7bdc28da7358"
      },
      "execution_count": null,
      "outputs": [
        {
          "output_type": "stream",
          "name": "stdout",
          "text": [
            "Writing temp.cpp\n"
          ]
        }
      ]
    },
    {
      "cell_type": "code",
      "source": [
        "!g++ temp.cpp -o temp; ./temp "
      ],
      "metadata": {
        "colab": {
          "base_uri": "https://localhost:8080/"
        },
        "id": "2KOCoAMk4tqZ",
        "outputId": "33616e3e-c945-4488-864a-e1ad360cfded"
      },
      "execution_count": null,
      "outputs": [
        {
          "output_type": "stream",
          "name": "stdout",
          "text": [
            "a: 3\n",
            "b: 3\n",
            "a: 4\n",
            "b: 4\n"
          ]
        }
      ]
    },
    {
      "cell_type": "code",
      "source": [
        "# 引数が参照になっている関数(参照渡し) の例\n",
        "%%writefile temp.cpp\n",
        "#include <bits/stdc++.h>\n",
        "using namespace std;\n",
        " \n",
        "int g(int &x) {\n",
        "  x = x * 2;  // xを2倍 (参照によって\"呼び出す側の変数\"が変更される)\n",
        "  return x;\n",
        "}\n",
        " \n",
        "int main() {\n",
        "  int a = 3;  // 関数を呼び出す側の変数\n",
        "  int b = g(a);  // xの参照先がaになる\n",
        "  cout << \"a: \" << a << endl;\n",
        "  cout << \"b: \" << b << endl;\n",
        "}"
      ],
      "metadata": {
        "colab": {
          "base_uri": "https://localhost:8080/"
        },
        "id": "pn2rxIG94iu2",
        "outputId": "352f8e89-5641-4e69-ef4c-f52586578479"
      },
      "execution_count": null,
      "outputs": [
        {
          "output_type": "stream",
          "name": "stdout",
          "text": [
            "Overwriting temp.cpp\n"
          ]
        }
      ]
    },
    {
      "cell_type": "code",
      "source": [
        "!g++ temp.cpp -o temp; ./temp "
      ],
      "metadata": {
        "colab": {
          "base_uri": "https://localhost:8080/"
        },
        "id": "WiZJQAO7RroX",
        "outputId": "0b405b48-8a84-491b-f817-3782735bc90b"
      },
      "execution_count": null,
      "outputs": [
        {
          "output_type": "stream",
          "name": "stdout",
          "text": [
            "a: 6\n",
            "b: 6\n"
          ]
        }
      ]
    },
    {
      "cell_type": "code",
      "source": [
        "# 参照渡しの利点\n",
        "# 参照渡しが便利な例を紹介します。\n",
        "# 関数の結果を複数返したい（普通は配列を使う）\n",
        "%%writefile temp.cpp\n",
        "#include <bits/stdc++.h>\n",
        "using namespace std;\n",
        " \n",
        "// a,b,cの最大値、最小値をそれぞれminimumの参照先、maximumの参照先に代入する\n",
        "void min_and_max(int a, int b, int c, int &minimum, int &maximum) {\n",
        "  minimum = min(a, min(b, c));  // 最小値をminimumの参照先に代入\n",
        "  maximum = max(a, max(b, c));  // 最大値をmaximumの参照先に代入\n",
        "}\n",
        " \n",
        "int main() {\n",
        "  int minimum, maximum;\n",
        "  min_and_max(3, 1, 5, minimum, maximum);  // minimum, maximumを参照渡し\n",
        "  cout << \"minimum: \" <<  minimum << endl;  // 最小値\n",
        "  cout << \"maximum: \" <<  maximum << endl;  // 最大値\n",
        "}"
      ],
      "metadata": {
        "colab": {
          "base_uri": "https://localhost:8080/"
        },
        "id": "SJUco963Rpra",
        "outputId": "a60c44c8-23f6-4838-fbc8-348f99aa072f"
      },
      "execution_count": null,
      "outputs": [
        {
          "output_type": "stream",
          "name": "stdout",
          "text": [
            "Overwriting temp.cpp\n"
          ]
        }
      ]
    },
    {
      "cell_type": "code",
      "source": [
        "!g++ temp.cpp -o temp; ./temp "
      ],
      "metadata": {
        "colab": {
          "base_uri": "https://localhost:8080/"
        },
        "id": "aX1H67xvSZHX",
        "outputId": "0730c3ba-7a2a-4ec7-a0d0-bdf8f3159eb8"
      },
      "execution_count": null,
      "outputs": [
        {
          "output_type": "stream",
          "name": "stdout",
          "text": [
            "minimum: 1\n",
            "maximum: 5\n"
          ]
        }
      ]
    },
    {
      "cell_type": "code",
      "source": [
        "# 無駄なコピーを減らす\n",
        "%%writefile temp.cpp\n",
        "#include <bits/stdc++.h>\n",
        "using namespace std;\n",
        " \n",
        "// 配列の先頭100要素の値の合計を計算する (参照渡し)\n",
        "int sum100(vector<int> &a) {\n",
        "  int result = 0;\n",
        "  for (int i = 0; i < 100; i++) {\n",
        "    result += a.at(i);\n",
        "  }\n",
        "  return result;\n",
        "}\n",
        " \n",
        "int main() {\n",
        "  vector<int> vec(10000000, 1);  // すべての要素が1の配列\n",
        " \n",
        "  // sum100 を500回呼び出す\n",
        "  for (int i = 0; i < 500; i++) {\n",
        "    cout << sum100(vec) << endl;  // 参照渡しなので配列のコピーは生じない\n",
        "  }\n",
        "}"
      ],
      "metadata": {
        "colab": {
          "base_uri": "https://localhost:8080/"
        },
        "id": "eO2tXe4ySXjH",
        "outputId": "7253fff7-2e62-4ef6-b9b0-b610913fd6cc"
      },
      "execution_count": null,
      "outputs": [
        {
          "output_type": "stream",
          "name": "stdout",
          "text": [
            "Overwriting temp.cpp\n"
          ]
        }
      ]
    },
    {
      "cell_type": "code",
      "source": [
        "# !g++ temp.cpp -o temp; ./temp #=> アウトプットが大きいのでコメントアウト"
      ],
      "metadata": {
        "id": "Psu2r5Quxfrn"
      },
      "execution_count": null,
      "outputs": []
    },
    {
      "cell_type": "code",
      "source": [
        "# 範囲for文での参照\n",
        "# 参照は範囲for文でも用いることができ、これによって配列の要素を書き換える処理を簡潔に書くことができます。\n",
        "%%writefile temp.cpp\n",
        "#include <bits/stdc++.h>\n",
        "using namespace std;\n",
        "int main() {\n",
        "  vector<int> a = { 1, 3, 2, 5 };\n",
        "  for (int& x : a) {\n",
        "    x = x * 2;\n",
        "  }\n",
        "  for (int i = 0; i < a.size(); i++) {\n",
        "      if (i != a.size()-1) cout << a.at(i) << \" \";\n",
        "      else cout << a.at(i) << endl;\n",
        "  } \n",
        "}"
      ],
      "metadata": {
        "id": "dh6f9zI6xM1u",
        "outputId": "b9a34487-96fd-4e5a-d802-00ec00b01196",
        "colab": {
          "base_uri": "https://localhost:8080/"
        }
      },
      "execution_count": null,
      "outputs": [
        {
          "output_type": "stream",
          "name": "stdout",
          "text": [
            "Overwriting temp.cpp\n"
          ]
        }
      ]
    },
    {
      "cell_type": "code",
      "source": [
        "!g++ temp.cpp -o temp; ./temp #=> 2 6 4 10"
      ],
      "metadata": {
        "id": "A1qMi0CW4unv",
        "outputId": "2175a583-4570-4df2-a8a8-6130a8cc74bf",
        "colab": {
          "base_uri": "https://localhost:8080/"
        }
      },
      "execution_count": null,
      "outputs": [
        {
          "output_type": "stream",
          "name": "stdout",
          "text": [
            "2 6 4 10\n"
          ]
        }
      ]
    },
    {
      "cell_type": "code",
      "source": [
        "# 参照による vector 要素の書き換えの\n",
        "# 良くない例\n",
        "%%writefile temp.cpp\n",
        "#include <bits/stdc++.h>\n",
        "using namespace std;\n",
        " \n",
        "int main() {\n",
        "  vector<int> v = {1, 2, 3};\n",
        "  int &e = v.at(1);\n",
        "  cout << \"e: \" << e << endl;  \n",
        "  // 大量のpush_backで要素数を大幅に増やす\n",
        "  for (int i = 0; i < 1000; i++) {\n",
        "    v.push_back(i + 4);\n",
        "  } \n",
        "  cout << \"e: \" << e << endl;  // \"e: 2\"とならないことがある\n",
        "}"
      ],
      "metadata": {
        "id": "gvAxXAGR4doS",
        "outputId": "257d64e0-122b-4bb9-dd50-72cac3facb38",
        "colab": {
          "base_uri": "https://localhost:8080/"
        }
      },
      "execution_count": null,
      "outputs": [
        {
          "output_type": "stream",
          "name": "stdout",
          "text": [
            "Overwriting temp.cpp\n"
          ]
        }
      ]
    },
    {
      "cell_type": "code",
      "source": [
        "!g++ temp.cpp -o temp; ./temp "
      ],
      "metadata": {
        "id": "Wq3JHmsUMbad",
        "outputId": "2a51a641-533f-47fd-e417-7d8c803b97d6",
        "colab": {
          "base_uri": "https://localhost:8080/"
        }
      },
      "execution_count": null,
      "outputs": [
        {
          "output_type": "stream",
          "name": "stdout",
          "text": [
            "e: 2\n",
            "e: 21864\n"
          ]
        }
      ]
    },
    {
      "cell_type": "code",
      "source": [
        "# 参照型の返り値\n",
        "# 次のような関数は未定義動作であり避けなければいけない\n",
        "#=> warning が出た\n",
        "%%writefile temp.cpp\n",
        "#include <bits/stdc++.h>\n",
        "using namespace std;\n",
        " \n",
        "// int型の参照を返す関数f\n",
        "int &f() {\n",
        "  int x = 12345;\n",
        "  return x;  // xを参照として返そうとする\n",
        "}\n",
        " \n",
        "int main() {\n",
        "  int &y = f();\n",
        "  cout << y << endl;  // \"12345\"が出力される？\n",
        "}"
      ],
      "metadata": {
        "id": "_1NyU4prMYDa",
        "outputId": "22fce0c7-b342-4eec-f8e0-1a7e744bf9f4",
        "colab": {
          "base_uri": "https://localhost:8080/"
        }
      },
      "execution_count": null,
      "outputs": [
        {
          "output_type": "stream",
          "name": "stdout",
          "text": [
            "Overwriting temp.cpp\n"
          ]
        }
      ]
    },
    {
      "cell_type": "code",
      "source": [
        "!g++ temp.cpp -o temp; ./temp "
      ],
      "metadata": {
        "id": "-0mGoFECOBZA"
      },
      "execution_count": null,
      "outputs": []
    },
    {
      "cell_type": "code",
      "source": [
        "# 問題\n",
        "# EX19 - 九九の採点 \n",
        "# 小学校の先生であるあなたはA君に九九の表を埋める宿題を出しました。 \n",
        "# 次の日、A君は宿題をやってきましたが、いくつかのマスは間違っているようです。\n",
        "# A君の宿題を採点するプログラムを作成してください。\n",
        "# A君の回答の表(9×9の二次元配列)を入力として受け取る\n",
        "# 誤った値が書き込まれたマスを正しい値に書き直す\n",
        "# 正しい値が書き込まれたマスの個数を数える\n",
        "# 誤った値が書き込まれたマスの個数を数える\n",
        "# ※参照渡しの練習問題なので、「プログラムの雛形」を書き換える形でプログラムを作成してください。\n",
        "# プログラムの雛形\n",
        "%%writefile temp.cpp\n",
        "#include <bits/stdc++.h>\n",
        "using namespace std;\n",
        " \n",
        "// 参照渡しを用いて、呼び出し側の変数の値を変更する\n",
        "// void saiten(/* 呼び出し側に対応するように引数を書く */) {\n",
        "void saiten(vector<vector<int>> &A, int &correct_count, int &wrong_count) {\n",
        "  // 呼び出し側のAの各マスを正しい値に修正する\n",
        "  // Aのうち、正しい値の書かれたマスの個数を correct_count に入れる\n",
        "  // Aのうち、誤った値の書かれたマスの個数を wrong_count に入れる\n",
        " \n",
        "  // ここにプログラムを追記\n",
        "  for (int i = 0; i < 9; i++) {\n",
        "    for (int j = 0; j < 9; j++) {\n",
        "      if (A.at(i).at(j) == (i+1)*(j+1)) {\n",
        "          correct_count++;\n",
        "      } else {\n",
        "          wrong_count++;\n",
        "          A.at(i).at(j) = (i+1)*(j+1);\n",
        "      }\n",
        "    }\n",
        "  }  \n",
        "\n",
        "}\n",
        " \n",
        " \n",
        "// -------------------\n",
        "// ここから先は変更しない\n",
        "// -------------------\n",
        "int main() {\n",
        "  // A君の回答を受け取る\n",
        "  vector<vector<int>> A(9, vector<int>(9));\n",
        "  for (int i = 0; i < 9; i++) {\n",
        "    for (int j = 0; j < 9; j++) {\n",
        "      cin >> A.at(i).at(j);\n",
        "    }\n",
        "  }\n",
        " \n",
        "  int correct_count = 0; // ここに正しい値のマスの個数を入れる\n",
        "  int wrong_count = 0;   // ここに誤った値のマスの個数を入れる\n",
        " \n",
        "  // A, correct_count, wrong_countを参照渡し\n",
        "  saiten(A, correct_count, wrong_count);\n",
        " \n",
        "  // 正しく修正した表を出力\n",
        "  /*\n",
        "  for (int i = 0; i < 9; i++) {\n",
        "    for (int j = 0; j < 9; j++) {\n",
        "      cout << A.at(i).at(j);\n",
        "      if (j < 8) cout << \" \";\n",
        "      else cout << endl;\n",
        "    }\n",
        "  } */\n",
        "  // 正しいマスの個数を出力\n",
        "  cout << correct_count << endl;\n",
        "  // 誤っているマスの個数を出力\n",
        "  cout << wrong_count << endl;\n",
        "}"
      ],
      "metadata": {
        "id": "_Fz9k0JvN_gP",
        "outputId": "1e11f3d1-b3bb-4a1e-d868-ae0b67eaadc6",
        "colab": {
          "base_uri": "https://localhost:8080/"
        }
      },
      "execution_count": null,
      "outputs": [
        {
          "output_type": "stream",
          "name": "stdout",
          "text": [
            "Overwriting temp.cpp\n"
          ]
        }
      ]
    },
    {
      "cell_type": "code",
      "source": [
        "!g++ temp.cpp -o temp; echo 1 2 3 4 5 6 7 8 9 2 4 100 8 10 12 14 16 18 3 6 9 12 15 18 21 24 27 4 8 12 16 20 24 28 32 36 5 10 15 20 25 30 35 40 45 6 12 18 24 30 36 42 48 54 7 14 21 28 35 42 49 56 63 8 16 24 32 40 48 56 64 72 9 18 27 36 45 54 63 72 81 | ./temp \n",
        "#=> 80 1\n",
        "!echo \n",
        "!g++ temp.cpp -o temp; echo 1 2 3 4 5 6 7 8 9 2 4 6 8 10 37 14 79 18 3 6 9 12 15 18 21 24 39 4 8 12 16 20 24 28 32 36 5 10 15 20 25 30 35 40 41 6 67 18 24 50 36 42 10 9 7 14 21 28 35 42 49 56 63 8 16 24 32 40 48 56 64 14 9 18 27 36 45 54 63 72 81 |./temp \n",
        "#=> 72 9"
      ],
      "metadata": {
        "id": "_W5gJ-IfRU9q",
        "outputId": "eb6ca2cf-d871-4c34-97f0-032f0f0ae069",
        "colab": {
          "base_uri": "https://localhost:8080/"
        }
      },
      "execution_count": null,
      "outputs": [
        {
          "output_type": "stream",
          "name": "stdout",
          "text": [
            "80\n",
            "1\n",
            "\n",
            "72\n",
            "9\n"
          ]
        }
      ]
    },
    {
      "cell_type": "markdown",
      "source": [
        "# V - 2.05.再帰関数 "
      ],
      "metadata": {
        "id": "z7WajoRnTsLD"
      }
    },
    {
      "cell_type": "code",
      "source": [
        "# V - 2.05.再帰関数 \n",
        "# 例として、「0からnまでの総和を計算する関数」を考えます。\n",
        "%%writefile temp.cpp\n",
        "#include <bits/stdc++.h>\n",
        "using namespace std;\n",
        " \n",
        "int sum(int n) {\n",
        "  if (n == 0) {\n",
        "    return 0;\n",
        "  }\n",
        " \n",
        "  // sum関数の中でsum関数を呼び出している\n",
        "  int s = sum(n - 1);\n",
        "  return s + n;\n",
        "}\n",
        " \n",
        "int main() {\n",
        "  cout << sum(2) << endl;    // 0 + 1 + 2 = 3\n",
        "  cout << sum(3) << endl;    // 0 + 1 + 2 + 3 = 6\n",
        "  cout << sum(10) << endl;   // 0 + 1 + 2 + 3 + 4 + 5 + 6 + 7 + 8 + 9 + 10 = 55\n",
        "}"
      ],
      "metadata": {
        "id": "Nd-Fn1Pe1zXb",
        "outputId": "751fc271-9a50-4630-fed3-bc9b6ac407b7",
        "colab": {
          "base_uri": "https://localhost:8080/"
        }
      },
      "execution_count": null,
      "outputs": [
        {
          "output_type": "stream",
          "name": "stdout",
          "text": [
            "Overwriting temp.cpp\n"
          ]
        }
      ]
    },
    {
      "cell_type": "code",
      "source": [
        "!g++ temp.cpp -o temp; ./temp "
      ],
      "metadata": {
        "id": "U3keP0ctUZKO",
        "outputId": "f6282739-fc3c-4139-8777-0afa035aedd4",
        "colab": {
          "base_uri": "https://localhost:8080/"
        }
      },
      "execution_count": null,
      "outputs": [
        {
          "output_type": "stream",
          "name": "stdout",
          "text": [
            "3\n",
            "6\n",
            "55\n"
          ]
        }
      ]
    },
    {
      "cell_type": "code",
      "source": [
        "# 再帰関数の実装例\n",
        "# AからBまでの総和を求める関数： sum_range\n",
        "%%writefile temp.cpp\n",
        "#include <bits/stdc++.h>\n",
        "using namespace std;\n",
        "\n",
        "// a ~ bの総和を計算する (a ≦ b)という前提\n",
        "int sum_range(int a, int b) {\n",
        "  // ベースケース\n",
        "  if (a == b) {\n",
        "    return a;\n",
        "  }\n",
        "  // 再帰ステップ\n",
        "  return sum_range(a, b - 1) + b;  //「a~bの総和」=「a~(b-1)の総和」+ b\n",
        "}\n",
        "\n",
        "int main() {\n",
        "  cout << sum_range(0, 4) << endl; // 0 + 1 + 2 + 3 + 4 = 10\n",
        "  cout << sum_range(5, 8) << endl; // 5 + 6 + 7 + 8 = 26\n",
        "}"
      ],
      "metadata": {
        "id": "KjfuMn43UXVB",
        "colab": {
          "base_uri": "https://localhost:8080/"
        },
        "outputId": "5686e8de-e14a-495b-ed8b-7efec78d941f"
      },
      "execution_count": 2,
      "outputs": [
        {
          "output_type": "stream",
          "name": "stdout",
          "text": [
            "Writing temp.cpp\n"
          ]
        }
      ]
    },
    {
      "cell_type": "code",
      "source": [
        "!g++ temp.cpp -o temp; ./temp "
      ],
      "metadata": {
        "colab": {
          "base_uri": "https://localhost:8080/"
        },
        "id": "0sZzxlwCXpYQ",
        "outputId": "e9892ae4-001a-4e44-a67f-0d03cad6baa7"
      },
      "execution_count": 3,
      "outputs": [
        {
          "output_type": "stream",
          "name": "stdout",
          "text": [
            "10\n",
            "26\n"
          ]
        }
      ]
    },
    {
      "cell_type": "code",
      "source": [
        "# 再帰関数の実装例\n",
        "# 配列の要素の総和： array_sum\n",
        "%%writefile temp.cpp\n",
        "#include <bits/stdc++.h>\n",
        "using namespace std;\n",
        "\n",
        "// (補助関数)\n",
        "// dataのi番目以降の要素の総和を計算する\n",
        "int array_sum_from_i(vector<int> &data, int i) {\n",
        "  // ベースケース\n",
        "  if (i == data.size()) {\n",
        "    return 0;  // 対象の要素がないので総和は0\n",
        "  }\n",
        "  // 再帰ステップ\n",
        "  int s = array_sum_from_i(data, i + 1);  // i+1番目以降の要素の総和\n",
        "  return data.at(i) + s;  // 「i番目以降の要素の総和」=「i番目の要素」+ s\n",
        "}\n",
        "\n",
        "// dataの全ての要素の総和を計算する\n",
        "int array_sum(vector<int> &data) {\n",
        "  return array_sum_from_i(data, 0);\n",
        "}\n",
        "\n",
        "int main() {\n",
        "  vector<int> a = {0, 3, 9, 1, 5};\n",
        "  cout << array_sum(a) << endl;   // 0 + 3 + 9 + 1 + 5 = 18\n",
        "}"
      ],
      "metadata": {
        "colab": {
          "base_uri": "https://localhost:8080/"
        },
        "id": "EEwVnXdHXiNe",
        "outputId": "5368a466-6beb-467a-f350-47343b6d20bf"
      },
      "execution_count": 4,
      "outputs": [
        {
          "output_type": "stream",
          "name": "stdout",
          "text": [
            "Overwriting temp.cpp\n"
          ]
        }
      ]
    },
    {
      "cell_type": "code",
      "source": [
        "!g++ temp.cpp -o temp; ./temp "
      ],
      "metadata": {
        "colab": {
          "base_uri": "https://localhost:8080/"
        },
        "id": "G6ddllKhYPEp",
        "outputId": "a9686419-4fc5-43db-c95c-2db91bed477a"
      },
      "execution_count": 5,
      "outputs": [
        {
          "output_type": "stream",
          "name": "stdout",
          "text": [
            "18\n"
          ]
        }
      ]
    },
    {
      "cell_type": "code",
      "source": [
        "# 再帰関数の実装例\n",
        "# Nが素数であるかを判定する関数 is_prime\n",
        "%%writefile temp.cpp\n",
        "#include <bits/stdc++.h>\n",
        "using namespace std;\n",
        "\n",
        "// i ~ N-1の範囲にNの約数が存在するか\n",
        "bool has_divisor(int N, int i) {\n",
        "  // ベースケース1\n",
        "  if (i == N) {\n",
        "    return false;\n",
        "  }\n",
        "  // ベースケース2\n",
        "  if (N % i == 0) {\n",
        "    // 実際にiはNの約数なので、i ~ N-1の範囲に約数が存在する\n",
        "    return true;\n",
        "  }\n",
        "\n",
        "  // 再帰ステップ\n",
        "  // i+1 ~ N-1の範囲の結果がi ~ N-1の範囲の結果となる\n",
        "  // (ベースケース2によって、iがNの約数の場合は取り除かれているので、あとはi+1 ~ N-1の範囲を調べればよい)\n",
        "  return has_divisor(N, i + 1);\n",
        "}\n",
        "\n",
        "bool is_prime(int N) {\n",
        "  if (N == 1) {\n",
        "    // 1は素数ではない\n",
        "    return false;\n",
        "  }\n",
        "  else if (N == 2) {\n",
        "    // 2は素数\n",
        "    return true;\n",
        "  }\n",
        "  else {\n",
        "    // 2~(N-1)の範囲に約数が無ければ、Nは素数\n",
        "    return !has_divisor(N, 2);\n",
        "  }\n",
        "}\n",
        "\n",
        "int main() {\n",
        "  cout << is_prime(1) << endl;  // 0\n",
        "  cout << is_prime(2) << endl;  // 1\n",
        "  cout << is_prime(12) << endl; // 0\n",
        "  cout << is_prime(13) << endl; // 1\n",
        "  cout << is_prime(57) << endl; // 0\n",
        "}"
      ],
      "metadata": {
        "colab": {
          "base_uri": "https://localhost:8080/"
        },
        "id": "UzVrE343YI7m",
        "outputId": "f2a94f7f-1cca-4459-a942-bbaf3539baec"
      },
      "execution_count": 1,
      "outputs": [
        {
          "output_type": "stream",
          "name": "stdout",
          "text": [
            "Writing temp.cpp\n"
          ]
        }
      ]
    },
    {
      "cell_type": "code",
      "source": [
        "!g++ temp.cpp -o temp; ./temp "
      ],
      "metadata": {
        "colab": {
          "base_uri": "https://localhost:8080/"
        },
        "id": "RywaTwvrY8YU",
        "outputId": "cff6e297-719e-4c88-c0b1-dff736fe260d"
      },
      "execution_count": 2,
      "outputs": [
        {
          "output_type": "stream",
          "name": "stdout",
          "text": [
            "0\n",
            "1\n",
            "0\n",
            "1\n",
            "0\n"
          ]
        }
      ]
    },
    {
      "cell_type": "code",
      "source": [
        "# 再帰関数の実装例\n",
        "# 配列の操作 reverse_array\n",
        "%%writefile temp.cpp\n",
        "#include <bits/stdc++.h>\n",
        "using namespace std;\n",
        "\n",
        "// dataのi番目以降の要素を逆順にした配列を返す\n",
        "vector<int> reverse_array_from_i(vector<int> &data, int i) {\n",
        "  // ベースケース\n",
        "  if (i == data.size()) {\n",
        "    vector<int> empty_array(0);  // 要素数0の配列\n",
        "    return empty_array;\n",
        "  }\n",
        "\n",
        "  // 再帰ステップ\n",
        "  vector<int> tmp = reverse_array_from_i(data, i + 1);  // dataのi+1番目以降の要素を逆順にした配列を得る\n",
        "  tmp.push_back(data.at(i));  // 末尾にdataのi番目の要素を追加\n",
        "  return tmp;\n",
        "}\n",
        "\n",
        "// 配列を逆順にしたものを返す\n",
        "vector<int> reverse_array(vector<int> &data) {\n",
        "  return reverse_array_from_i(data, 0);\n",
        "}\n",
        "\n",
        "int main() {\n",
        "  vector<int> a = {1, 2, 3, 4, 5};\n",
        "  vector<int> b = reverse_array(a);\n",
        "  for (int i = 0; i < b.size(); i++) {\n",
        "    cout << b.at(i) << endl;\n",
        "  }\n",
        "}"
      ],
      "metadata": {
        "colab": {
          "base_uri": "https://localhost:8080/"
        },
        "id": "Jo8sitvhY6r9",
        "outputId": "d49407eb-3322-4082-bc0e-5c505e73222a"
      },
      "execution_count": 4,
      "outputs": [
        {
          "output_type": "stream",
          "name": "stdout",
          "text": [
            "Overwriting temp.cpp\n"
          ]
        }
      ]
    },
    {
      "cell_type": "code",
      "source": [
        "!g++ temp.cpp -o temp; ./temp "
      ],
      "metadata": {
        "colab": {
          "base_uri": "https://localhost:8080/"
        },
        "id": "EkRYz3I9BRFX",
        "outputId": "b54fd177-c8b1-41c1-d620-b8bda10c27de"
      },
      "execution_count": 5,
      "outputs": [
        {
          "output_type": "stream",
          "name": "stdout",
          "text": [
            "5\n",
            "4\n",
            "3\n",
            "2\n",
            "1\n"
          ]
        }
      ]
    },
    {
      "cell_type": "code",
      "source": [
        "# 再帰関数の例題\n",
        "# APG4b 2.05.再帰関数 例題 from APG4b\n",
        "# 報告書の伝達時間\n",
        "# あなたはA社を経営する社長です。 A社はN個の組織からなり、\n",
        "# それぞれに0番からN−1番の番号が付いています。 0番の番号が付いた組織はトップの組織です。\n",
        "# 組織間には親子関係があり、0番以外のN−1個の組織には必ず1つの親組織があります。 \n",
        "# 子組織は複数になることがあります。 また、それぞれの組織は直接的または間接的にト\n",
        "# ップの組織と関係があるものとします。\n",
        "# あなたは全ての組織に報告書を提出するように求めました。\n",
        "# 混雑を避けるために、\n",
        "# 「各組織は子組織の報告書がそろったら、自身の報告書を加えて親組織に送る」\n",
        "# ことを繰り返します。 子組織が無いような組織は自身の報告書だけをすぐに親組織に送ります。\n",
        "# ある組織から報告書を送ってから、その親組織が受け取るときにかかる時間を1分とします。\n",
        "# あるタイミングで一斉に報告書の伝達を開始したときに、\n",
        "# トップの組織の元に全ての組織の報告書が揃う時刻（伝達を始めてから何分後か）\n",
        "# を求めてください。 \n",
        "# 入力例 6 0 0 1 1 4 #=> 3\n",
        "# この入力例では、組織は次のような関係になっています。\n",
        "# 1番の組織の親組織は0番\n",
        "# 2番の組織の親組織は0番\n",
        "# 3番の組織の親組織は1番\n",
        "# 4番の組織の親組織は1番\n",
        "# 5番の組織の親組織は4番\n",
        "%%writefile temp.cpp\n",
        "#include <bits/stdc++.h>\n",
        "using namespace std;\n",
        " \n",
        "// x番の組織について、子組織からの報告書が揃った時刻を返す\n",
        "// childrenは組織の関係を表す2次元配列(参照渡し)\n",
        "int complete_time(vector<vector<int>> &children, int x) {\n",
        "  // (ここに追記して再帰関数を実装する)\n",
        "  // ベースケース\n",
        "  if (children.at(x).size() == 0) {\n",
        "    return 0;  // 子組織が無いような組織について、報告書が揃う時刻は0\n",
        "  }\n",
        " \n",
        "  // 再帰ステップ\n",
        "  int max_receive_time = 0;  // 受け取った時刻の最大値\n",
        "  // x番の組織の子組織についてループ\n",
        "  for (int c : children.at(x)) {\n",
        " \n",
        "    // (子組織 c のもとに揃った時刻 + 1) の時刻に c からの報告書を受け取る\n",
        "    int receive_time = complete_time(children, c) + 1;\n",
        " \n",
        "    // 受け取った時刻の最大値 = 揃った時刻 なので最大値を求める\n",
        "    max_receive_time = max(max_receive_time, receive_time);\n",
        "  }\n",
        "  return max_receive_time;\n",
        "}\n",
        " \n",
        "// これ以降の行は変更しなくてよい\n",
        " \n",
        "int main() {\n",
        "  int N;\n",
        "  cin >> N;\n",
        " \n",
        "  vector<int> p(N);  // 各組織の親組織を示す配列\n",
        "  p.at(0) = -1;  // 0番組織の親組織は存在しないので-1を入れておく\n",
        "  for (int i = 1; i < N; i++) {\n",
        "    cin >> p.at(i);\n",
        "  }\n",
        " \n",
        "  // 組織の関係から2次元配列を作る(理解しなくてもよい)\n",
        "  vector<vector<int>> children(N);  // ある組織の子組織の番号一覧  // N×0の二次元配列\n",
        "  for (int i = 1; i < N; i++) {\n",
        "    int parent = p.at(i);  // i番の親組織の番号\n",
        "    children.at(parent).push_back(i);  // parentの子組織一覧にi番を追加\n",
        "  }\n",
        " \n",
        "  // 0番の組織の元に報告書が揃う時刻を求める\n",
        "  cout << complete_time(children, 0) << endl;\n",
        "}"
      ],
      "metadata": {
        "colab": {
          "base_uri": "https://localhost:8080/"
        },
        "id": "smrmWPr5BKyJ",
        "outputId": "5424fa64-d8f6-451c-951b-1cc7696f0452"
      },
      "execution_count": 1,
      "outputs": [
        {
          "output_type": "stream",
          "name": "stdout",
          "text": [
            "Writing temp.cpp\n"
          ]
        }
      ]
    },
    {
      "cell_type": "code",
      "source": [
        "!g++ temp.cpp -o temp; echo 6 0 0 1 1 4 |./temp "
      ],
      "metadata": {
        "id": "jgYQjqyayaMx",
        "outputId": "b5398202-1acd-4f27-a971-c5e7d50a6249",
        "colab": {
          "base_uri": "https://localhost:8080/"
        }
      },
      "execution_count": 2,
      "outputs": [
        {
          "output_type": "stream",
          "name": "stdout",
          "text": [
            "3\n"
          ]
        }
      ]
    },
    {
      "cell_type": "code",
      "source": [
        "# 例題\n",
        "%%writefile temp.cpp\n",
        "// 0からnまでの総和を計算し、途中結果を出力する\n",
        "#include <bits/stdc++.h>\n",
        "using namespace std;\n",
        " \n",
        "// 0からnまでの総和を計算し、途中結果を出力する\n",
        "int sum(int n) {\n",
        "  // ベースケースが実装されていないので止まらない！ => 直す\n",
        "  if (n == 0) return 0;\n",
        "  // 再帰ステップ\n",
        "  int result = sum(n - 1) + n;\n",
        "  cout << \"sum(\" << n << \") = \" << result << endl;  // 途中結果を出力する\n",
        "  return result;\n",
        "}\n",
        "int main() {\n",
        "  // 無限に再帰呼び出しが起こる\n",
        "  cout << sum(15) << endl;\n",
        "}"
      ],
      "metadata": {
        "id": "9T5A3m0XyWlQ",
        "outputId": "049596eb-5bb8-46de-b9b7-b4db12a8f730",
        "colab": {
          "base_uri": "https://localhost:8080/"
        }
      },
      "execution_count": 5,
      "outputs": [
        {
          "output_type": "stream",
          "name": "stdout",
          "text": [
            "Overwriting temp.cpp\n"
          ]
        }
      ]
    },
    {
      "cell_type": "code",
      "source": [
        "!g++ temp.cpp -o temp; ./temp "
      ],
      "metadata": {
        "id": "dKaC71EE2M19"
      },
      "execution_count": null,
      "outputs": []
    },
    {
      "cell_type": "markdown",
      "source": [
        "# いまここ"
      ],
      "metadata": {
        "id": "tSlW3WM5jCuR"
      }
    },
    {
      "cell_type": "code",
      "source": [
        "# 相互再帰\n",
        "# 相互再帰では、「その関数の後ろで定義される別の関数」を呼び出すことになるので、\n",
        "# プロトタイプ宣言が必須です。 \n",
        "%%writefile temp.cpp\n",
        "#include <bits/stdc++.h>\n",
        "using namespace std;\n",
        " \n",
        "// プロトタイプ宣言 (1.15.関数「細かい話」を参照)\n",
        "bool is_even(int);\n",
        "bool is_odd(int);\n",
        " \n",
        "// nが偶数かを判定する\n",
        "bool is_even(int n) {\n",
        "  // ベースケース\n",
        "  if (n == 0) {\n",
        "    return true;\n",
        "  }\n",
        "  // 再帰ステップ\n",
        "  return is_odd(n - 1);  // n-1 が奇数なら、nは偶数\n",
        "}\n",
        "// nが奇数かを判定する\n",
        "bool is_odd(int n) {\n",
        "  // ベースケース\n",
        "  if (n == 0) {\n",
        "    return false;\n",
        "  }\n",
        "  // 再帰ステップ\n",
        "  return is_even(n - 1);  // n-1 が偶数なら、nは奇数\n",
        "}\n",
        " \n",
        "int main() {\n",
        "  cout << is_even(4) << endl;  // 1\n",
        "  cout << is_odd(5) << endl;   // 1\n",
        "  cout << is_even(3) << endl;  // 0\n",
        "}"
      ],
      "metadata": {
        "id": "oy5DXOew2AMd",
        "outputId": "71d6ef44-eb0d-43de-e981-4755fc516ec9",
        "colab": {
          "base_uri": "https://localhost:8080/"
        }
      },
      "execution_count": 9,
      "outputs": [
        {
          "output_type": "stream",
          "name": "stdout",
          "text": [
            "Overwriting temp.cpp\n"
          ]
        }
      ]
    },
    {
      "cell_type": "code",
      "source": [
        "!g++ temp.cpp -o temp; ./temp "
      ],
      "metadata": {
        "id": "oAaCSFoE23Vv",
        "outputId": "ecc33835-73a3-48b7-fa4a-7e1357dfa267",
        "colab": {
          "base_uri": "https://localhost:8080/"
        }
      },
      "execution_count": 10,
      "outputs": [
        {
          "output_type": "stream",
          "name": "stdout",
          "text": [
            "1\n",
            "1\n",
            "0\n"
          ]
        }
      ]
    },
    {
      "cell_type": "code",
      "source": [
        "# 再帰関数\n",
        "# 発展的な例\n",
        "# 途中で出力する例\n",
        "\n",
        "\n",
        "\n",
        "途中で出力する例\n",
        "クリックで開く\n",
        "引数の配列を変化させる例\n",
        "クリックで開く\n",
        "演習問題\n",
        "リンク先の問題を解いてください。\n",
        "\n",
        "EX20.報告書の枚数\n",
        "ABC/ARCの問題\n",
        "ここまでの知識で解ける問題をAtCoder Beginner Contest / AtCoder Regular Contestの過去問題から紹介します。 \n",
        "練習問題だけでは物足りない人は是非挑戦してみてください。\n",
        "\n",
        "ヒントと解答例を用意しました。参考にしてください。\n",
        "\n",
        "ARC031 B - 埋め立て\n",
        "クリックでヒントを開く\n",
        "クリックで解答例を開く\n",
        "「グリッド上の迷路の探索」とほとんど同じ問題です。\n",
        "\n",
        "ATC001 A - 深さ優先探索\n",
        "これ以降の問題は例題で扱った問題とは少し異なっています。 \n",
        "3.05.ビット演算で説明しているビット全探索を用いることで、再帰関数無しで解くこともできます。\n",
        "\n",
        "ARC061 C - たくさんの数式 / Many Formulas\n",
        "ABC079 C - Train Ticket\n",
        "ABC104 C - All Green\n",
        "ARC029 A - 高橋君とお肉\n",
        "ABC002 D - 派閥"
      ],
      "metadata": {
        "id": "SKj9GAqo217t"
      },
      "execution_count": null,
      "outputs": []
    },
    {
      "cell_type": "code",
      "source": [
        ""
      ],
      "metadata": {
        "id": "fw0TxQ_V31dm"
      },
      "execution_count": null,
      "outputs": []
    }
  ]
}