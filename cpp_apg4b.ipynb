{
  "nbformat": 4,
  "nbformat_minor": 0,
  "metadata": {
    "colab": {
      "name": "cpp_apg4b.ipynb",
      "provenance": [],
      "toc_visible": true,
      "authorship_tag": "ABX9TyP57e/trPH4BVuwEfqadmig",
      "include_colab_link": true
    },
    "kernelspec": {
      "name": "python3",
      "display_name": "Python 3"
    },
    "language_info": {
      "name": "python"
    }
  },
  "cells": [
    {
      "cell_type": "markdown",
      "metadata": {
        "id": "view-in-github",
        "colab_type": "text"
      },
      "source": [
        "<a href=\"https://colab.research.google.com/github/kalz2q/mycolabnotebooks/blob/master/cpp_apg4b.ipynb\" target=\"_parent\"><img src=\"https://colab.research.google.com/assets/colab-badge.svg\" alt=\"Open In Colab\"/></a>"
      ]
    },
    {
      "cell_type": "markdown",
      "source": [
        "# メモ\n",
        "\n",
        "AtCoder Programming Guide for Beginners APG4b\n",
        "\n",
        "の練習問題をやる。\n",
        "\n",
        "https://atcoder.jp/contests/apg4b"
      ],
      "metadata": {
        "id": "8kHv-8CgciQc"
      }
    },
    {
      "cell_type": "markdown",
      "source": [
        "# 目次  \n",
        "\n",
        "1.00.はじめに  \n",
        "1.01.出力とコメント | EX1  \n",
        "1.02.プログラムの書き方とエラー | EX2  \n",
        "1.03.四則演算と優先順位 | EX3  \n",
        "1.04.変数と型 | EX4  \n",
        "1.05.プログラムの実行順序と入力 | EX5  \n",
        "1.06.if文・比較演算子・論理演算子 | EX6  \n",
        "1.07.条件式の結果とbool型 | EX7  \n",
        "1.08.変数のスコープ | EX8  \n",
        "1.09.複合代入演算子 | EX9  \n",
        "1.10.while文 | EX10  \n",
        "1.11.for文・break・continue | EX11  \n",
        "1.12.文字列と文字 | EX12  \n",
        "1.13.配列 | EX13  \n",
        "1.14.STLの関数 | EX14  \n",
        "1.15.関数 | EX15  \n",
        "  \n",
        "2.00.第2章について  \n",
        "2.01.ループの書き方と範囲for文 | EX16  \n",
        "2.02.多重ループ | EX17  \n",
        "2.03.多次元配列 | EX18  \n",
        "2.04.参照 | EX19  \n",
        "2.05.再帰関数 | EX20  \n",
        "2.06.計算量 | EX21  \n",
        "  \n",
        "3.00.第3章について  \n",
        "3.01.数値型  \n",
        "3.02.pair/tupleとauto | EX22  \n",
        "3.03.STLのコンテナ | EX23  \n",
        "3.04.構造体 | EX24  \n",
        "3.05.ビット演算 | EX25  \n",
        "3.06.その他の機能 | EX26  \n",
        "  \n",
        "4.00.第4章について  \n",
        "4.01.includeディレクティブ  \n",
        "4.02.名前空間  \n",
        "4.03.テンプレート  \n",
        "4.04.イテレータ  \n",
        "4.05.ポインタ  \n",
        "  \n",
        "付録1.コードテストの使い方  \n",
        "付録2.提出結果の見方  \n",
        "付録3.コンパイルエラー集  \n",
        "付録4.ループの裏技repマクロ  "
      ],
      "metadata": {
        "id": "5sm38Af7dBS3"
      }
    },
    {
      "cell_type": "markdown",
      "source": [
        "# いまここ"
      ],
      "metadata": {
        "id": "8IIQF-SmfUQ8"
      }
    },
    {
      "cell_type": "markdown",
      "source": [
        "---\n",
        "### 未解決問題  1.11.for文・break・continue | EX11 配下\n",
        "\n",
        "B - Palindromic Numbers  \n",
        "A 以上 B 以下の整数のうち、回文数となるものの個数を求めてください。 ただし、回文数とは、先頭に 0 をつけない 10 進表記を文字列として見たとき、前から読んでも後ろから読んでも同じ文字列となるような正の整数のことを指します。\n",
        "\n",
        "11009 11332\n",
        "\n",
        "=> 4"
      ],
      "metadata": {
        "id": "LNfeQNE3i1Hq"
      }
    },
    {
      "cell_type": "code",
      "source": [
        "# Palindromic Numbers が通らない。 入力例は通るのに云々\n",
        "%%writefile temp.cpp\n",
        "#include <bits/stdc++.h>\n",
        "using namespace std;\n",
        "#define rep(i, n) for (int i = 0; i < (int)(n); i++)\n",
        "\n",
        "bool isPalindrome(int orig) {\n",
        "  int digit, rev, num ;\n",
        "  digit = rev = 0;  \n",
        "  num = orig;\n",
        "  rep(i, 10){\n",
        "    digit = num % 10;\n",
        "    rev = (rev * 10) + digit;\n",
        "    num = num / 10;\n",
        "    if (num == 0 ) break;\n",
        "  }\n",
        "  return (orig == rev);\n",
        "};\n",
        "\n",
        "int main() {\n",
        "  int A, B, count , diff ;\n",
        "  cin >> A >> B ;\n",
        "  count = 0;\n",
        "  diff = B - A;\n",
        "  rep(i, diff) {\n",
        "    if (isPalindrome(A+i)) { count += 1; }\n",
        "  }\n",
        "  cout << count << endl;\n",
        "}"
      ],
      "metadata": {
        "id": "_8r2vg5ojC-y",
        "outputId": "8e7c52e0-bad2-4446-c610-f53406c3b529",
        "colab": {
          "base_uri": "https://localhost:8080/"
        }
      },
      "execution_count": null,
      "outputs": [
        {
          "output_type": "stream",
          "name": "stdout",
          "text": [
            "Writing temp.cpp\n"
          ]
        }
      ]
    },
    {
      "cell_type": "code",
      "source": [
        "!g++ temp.cpp -o temp; echo 11009 11332 | ./temp"
      ],
      "metadata": {
        "id": "QDNOIByfjdaH",
        "outputId": "82ad454e-6248-472a-d687-1e14338dc72b",
        "colab": {
          "base_uri": "https://localhost:8080/"
        }
      },
      "execution_count": null,
      "outputs": [
        {
          "output_type": "stream",
          "name": "stdout",
          "text": [
            "4\n"
          ]
        }
      ]
    },
    {
      "cell_type": "markdown",
      "source": [
        "---\n",
        "問題\n",
        "\n",
        "EX12 - 足したり引いたり  \n",
        "\n",
        "1と+と-のみからなる式Sが1行で与えられるので、計算結果を出力してください。\n",
        "\n",
        "例えば式Sが1+1+1-1であったとき、計算結果は2です。\n",
        "\n",
        "具体的な式Sの形式は以下の通りです。\n",
        "\n",
        "* 式Sの1文字目は必ず1です。\n",
        "* その後、「+または−」と1が交互に続きます。\n",
        "* Sの最後の文字も必ず1です。\n",
        "\n",
        "入力例  \n",
        "1+1+1-1  \n",
        "=> 2\n",
        "\n"
      ],
      "metadata": {
        "id": "F4cGyjO2cE2W"
      }
    },
    {
      "cell_type": "code",
      "source": [
        "%%writefile temp.cpp\n",
        "#include <bits/stdc++.h>\n",
        "using namespace std;\n",
        "#define rep(i, n) for (int i = 0; i < (int)(n); i++)\n",
        "\n",
        "int main() {\n",
        "  string  S ;\n",
        "  int result ;\n",
        "  cin >> S ;\n",
        "  result = 1;\n",
        "  rep(i, S.size()) {\n",
        "    if (S.at(i) == '+')  result += 1; \n",
        "    else if (S.at(i) == '-') result -= 1;\n",
        "  }\n",
        "  cout << result << endl;\n",
        "}"
      ],
      "metadata": {
        "id": "GC-B1E-KiPlK",
        "outputId": "b433e2ab-ec70-4618-9fd9-5930e93bcc78",
        "colab": {
          "base_uri": "https://localhost:8080/"
        }
      },
      "execution_count": 6,
      "outputs": [
        {
          "output_type": "stream",
          "name": "stdout",
          "text": [
            "Overwriting temp.cpp\n"
          ]
        }
      ]
    },
    {
      "cell_type": "code",
      "source": [
        "!g++ temp.cpp -o temp; echo 1+1+1-1 | ./temp"
      ],
      "metadata": {
        "id": "LvjAI6tKpD1e",
        "outputId": "396bdafd-78aa-4426-ff41-5fe63a3acb46",
        "colab": {
          "base_uri": "https://localhost:8080/"
        }
      },
      "execution_count": 7,
      "outputs": [
        {
          "output_type": "stream",
          "name": "stdout",
          "text": [
            "2\n"
          ]
        }
      ]
    },
    {
      "cell_type": "markdown",
      "source": [
        "# N - 1.13.配列\n",
        "\n",
        "* vector<型> 配列変数名;で配列変数を宣言できる\n",
        "* 配列変数名 = { 要素1, 要素2, ... };で配列変数に値を代入できる\n",
        "* 配列変数.at(i), 配列変数.size() が使える\n",
        "* vector<型> 配列変数名(要素数)と書くと指定した要素数で配列を初期化できる\n"
      ],
      "metadata": {
        "id": "azH-MFEVvuOx"
      }
    },
    {
      "cell_type": "code",
      "source": [
        "%%writefile temp.cpp\n",
        "#include <bits/stdc++.h>\n",
        "using namespace std;\n",
        "#define rep(i, n) for (int i = 0; i < (int)(n); i++)\n",
        "vector<int> vec(N);\n",
        "for (int i = 0; i < N; i++) {\n",
        "  cin >> vec.at(i);\n",
        "}vector<int> vec(N);\n",
        "for (int i = 0; i < N; i++) {\n",
        "  cin >> vec.at(i);\n",
        "}"
      ],
      "metadata": {
        "id": "YHy_H_YqxP5Y"
      },
      "execution_count": null,
      "outputs": []
    },
    {
      "cell_type": "code",
      "source": [
        "\n",
        "vector<int> vec(N);\n",
        "for (int i = 0; i < N; i++) {\n",
        "  cin >> vec.at(i);\n",
        "}vector<int> vec(N);\n",
        "for (int i = 0; i < N; i++) {\n",
        "  cin >> vec.at(i);\n",
        "}\n",
        "配列とfor文を組み合わせると、大量のデータを扱うプログラムを簡潔に書ける\n",
        "配列の添字のルールは文字列と同じ"
      ],
      "metadata": {
        "id": "-CwRotpxwULt"
      },
      "execution_count": null,
      "outputs": []
    },
    {
      "cell_type": "markdown",
      "source": [
        "---\n",
        "問題   \n",
        "\n",
        "EX13 - 平均との差\n",
        "\n"
      ],
      "metadata": {
        "id": "ODjCVSjDv-mf"
      }
    },
    {
      "cell_type": "code",
      "source": [
        "#include <bits/stdc++.h>\n",
        "using namespace std;\n",
        "#define rep(i, n) for (int i = 0; i < (int)(n); i++)\n",
        " \n",
        "int main() {\n",
        "  string S1, S2;\n",
        "  cin >> S1 >> S2;\n",
        "  if (S1.size() > S2.size()) cout << S1 << endl;\n",
        "  else cout << S2 << endl;\n",
        "}"
      ],
      "metadata": {
        "id": "fOu-baYTqY8O"
      },
      "execution_count": null,
      "outputs": []
    }
  ]
}