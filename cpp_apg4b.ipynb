{
  "nbformat": 4,
  "nbformat_minor": 0,
  "metadata": {
    "colab": {
      "name": "cpp_apg4b.ipynb",
      "provenance": [],
      "toc_visible": true,
      "authorship_tag": "ABX9TyPXrMmHd14w9O//b7OkjeeO",
      "include_colab_link": true
    },
    "kernelspec": {
      "name": "python3",
      "display_name": "Python 3"
    },
    "language_info": {
      "name": "python"
    }
  },
  "cells": [
    {
      "cell_type": "markdown",
      "metadata": {
        "id": "view-in-github",
        "colab_type": "text"
      },
      "source": [
        "<a href=\"https://colab.research.google.com/github/kalz2q/mycolabnotebooks/blob/master/cpp_apg4b.ipynb\" target=\"_parent\"><img src=\"https://colab.research.google.com/assets/colab-badge.svg\" alt=\"Open In Colab\"/></a>"
      ]
    },
    {
      "cell_type": "markdown",
      "source": [
        "# メモ\n",
        "\n",
        "AtCoder Programming Guide for Beginners APG4b\n",
        "\n",
        "の練習問題をやる。\n",
        "\n",
        "https://atcoder.jp/contests/apg4b"
      ],
      "metadata": {
        "id": "8kHv-8CgciQc"
      }
    },
    {
      "cell_type": "markdown",
      "source": [
        "# 目次  \n",
        "\n",
        "1.00.はじめに  \n",
        "1.01.出力とコメント | EX1  \n",
        "1.02.プログラムの書き方とエラー | EX2  \n",
        "1.03.四則演算と優先順位 | EX3  \n",
        "1.04.変数と型 | EX4  \n",
        "1.05.プログラムの実行順序と入力 | EX5  \n",
        "1.06.if文・比較演算子・論理演算子 | EX6  \n",
        "1.07.条件式の結果とbool型 | EX7  \n",
        "1.08.変数のスコープ | EX8  \n",
        "1.09.複合代入演算子 | EX9  \n",
        "1.10.while文 | EX10  \n",
        "1.11.for文・break・continue | EX11  \n",
        "1.12.文字列と文字 | EX12 <= このあたりから普通の言語と違う  \n",
        "1.13.配列 | EX13  <= vector を使っている\n",
        "1.14.STLの関数 | EX14  \n",
        "1.15.関数 | EX15  \n",
        "  \n",
        "2.00.第2章について  \n",
        "2.01.ループの書き方と範囲for文 | EX16  \n",
        "2.02.多重ループ | EX17  \n",
        "2.03.多次元配列 | EX18  \n",
        "2.04.参照 | EX19  \n",
        "2.05.再帰関数 | EX20  \n",
        "2.06.計算量 | EX21  \n",
        "  \n",
        "3.00.第3章について  \n",
        "3.01.数値型  \n",
        "3.02.pair/tupleとauto | EX22  \n",
        "3.03.STLのコンテナ | EX23  \n",
        "3.04.構造体 | EX24  \n",
        "3.05.ビット演算 | EX25  \n",
        "3.06.その他の機能 | EX26  \n",
        "  \n",
        "4.00.第4章について  \n",
        "4.01.includeディレクティブ  \n",
        "4.02.名前空間  \n",
        "4.03.テンプレート  \n",
        "4.04.イテレータ  \n",
        "4.05.ポインタ  \n",
        "  \n",
        "付録1.コードテストの使い方  \n",
        "付録2.提出結果の見方  \n",
        "付録3.コンパイルエラー集  \n",
        "付録4.ループの裏技repマクロ  "
      ],
      "metadata": {
        "id": "5sm38Af7dBS3"
      }
    },
    {
      "cell_type": "markdown",
      "source": [
        "bits/stdc++.h の利用\n",
        "\n",
        "`#include <bits/stdc++.h>` で iostream, string, vector とか云々。\n",
        "\n",
        "`std::` と `#include` の勉強はしないでよい。とりあえず。\n",
        "\n",
        "main関数の `return 0` の省略\n",
        "\n",
        "計算量の解説\n",
        "\n",
        "repマクロの紹介\n",
        "\n",
        "`#define rep(i, n) for (int i = 0; i < (int)(n); i++)`\n"
      ],
      "metadata": {
        "id": "uUCd4AI-zp0n"
      }
    },
    {
      "cell_type": "markdown",
      "source": [
        "---\n",
        "### 未解決問題  1.11.for文・break・continue | EX11 配下\n",
        "\n",
        "B - Palindromic Numbers  \n",
        "A 以上 B 以下の整数のうち、回文数となるものの個数を求めてください。 ただし、回文数とは、先頭に 0 をつけない 10 進表記を文字列として見たとき、前から読んでも後ろから読んでも同じ文字列となるような正の整数のことを指します。\n",
        "\n",
        "11009 11332\n",
        "\n",
        "=> 4"
      ],
      "metadata": {
        "id": "LNfeQNE3i1Hq"
      }
    },
    {
      "cell_type": "code",
      "source": [
        "# Palindromic Numbers が通らない。 入力例は通るのに云々\n",
        "%%writefile temp.cpp\n",
        "#include <bits/stdc++.h>\n",
        "using namespace std;\n",
        "#define rep(i, n) for (int i = 0; i < (int)(n); i++)\n",
        "\n",
        "bool isPalindrome(int orig) {\n",
        "  int digit, rev, num ;\n",
        "  digit = rev = 0;  \n",
        "  num = orig;\n",
        "  rep(i, 10){\n",
        "    digit = num % 10;\n",
        "    rev = (rev * 10) + digit;\n",
        "    num = num / 10;\n",
        "    if (num == 0 ) break;\n",
        "  }\n",
        "  return (orig == rev);\n",
        "};\n",
        "\n",
        "int main() {\n",
        "  int A, B, count , diff ;\n",
        "  cin >> A >> B ;\n",
        "  count = 0;\n",
        "  diff = B - A;\n",
        "  rep(i, diff) {\n",
        "    if (isPalindrome(A+i)) { count += 1; }\n",
        "  }\n",
        "  cout << count << endl;\n",
        "}"
      ],
      "metadata": {
        "id": "_8r2vg5ojC-y",
        "outputId": "8e7c52e0-bad2-4446-c610-f53406c3b529",
        "colab": {
          "base_uri": "https://localhost:8080/"
        }
      },
      "execution_count": null,
      "outputs": [
        {
          "output_type": "stream",
          "name": "stdout",
          "text": [
            "Writing temp.cpp\n"
          ]
        }
      ]
    },
    {
      "cell_type": "code",
      "source": [
        "!g++ temp.cpp -o temp; echo 11009 11332 | ./temp"
      ],
      "metadata": {
        "id": "QDNOIByfjdaH",
        "outputId": "82ad454e-6248-472a-d687-1e14338dc72b",
        "colab": {
          "base_uri": "https://localhost:8080/"
        }
      },
      "execution_count": null,
      "outputs": [
        {
          "output_type": "stream",
          "name": "stdout",
          "text": [
            "4\n"
          ]
        }
      ]
    },
    {
      "cell_type": "markdown",
      "source": [
        "---\n",
        "問題\n",
        "\n",
        "EX12 - 足したり引いたり  \n",
        "\n",
        "1と+と-のみからなる式Sが1行で与えられるので、計算結果を出力してください。\n",
        "\n",
        "例えば式Sが1+1+1-1であったとき、計算結果は2です。\n",
        "\n",
        "具体的な式Sの形式は以下の通りです。\n",
        "\n",
        "* 式Sの1文字目は必ず1です。\n",
        "* その後、「+または−」と1が交互に続きます。\n",
        "* Sの最後の文字も必ず1です。\n",
        "\n",
        "入力例  \n",
        "1+1+1-1  \n",
        "=> 2\n",
        "\n"
      ],
      "metadata": {
        "id": "F4cGyjO2cE2W"
      }
    },
    {
      "cell_type": "code",
      "source": [
        "%%writefile temp.cpp\n",
        "#include <bits/stdc++.h>\n",
        "using namespace std;\n",
        "#define rep(i, n) for (int i = 0; i < (int)(n); i++)\n",
        "\n",
        "int main() {\n",
        "  string  S ;\n",
        "  int result ;\n",
        "  cin >> S ;\n",
        "  result = 1;\n",
        "  rep(i, S.size()) {\n",
        "    if (S.at(i) == '+')  result += 1; \n",
        "    else if (S.at(i) == '-') result -= 1;\n",
        "  }\n",
        "  cout << result << endl;\n",
        "}"
      ],
      "metadata": {
        "id": "GC-B1E-KiPlK",
        "outputId": "b433e2ab-ec70-4618-9fd9-5930e93bcc78",
        "colab": {
          "base_uri": "https://localhost:8080/"
        }
      },
      "execution_count": null,
      "outputs": [
        {
          "output_type": "stream",
          "name": "stdout",
          "text": [
            "Overwriting temp.cpp\n"
          ]
        }
      ]
    },
    {
      "cell_type": "code",
      "source": [
        "!g++ temp.cpp -o temp; echo 1+1+1-1 | ./temp"
      ],
      "metadata": {
        "id": "LvjAI6tKpD1e",
        "outputId": "396bdafd-78aa-4426-ff41-5fe63a3acb46",
        "colab": {
          "base_uri": "https://localhost:8080/"
        }
      },
      "execution_count": null,
      "outputs": [
        {
          "output_type": "stream",
          "name": "stdout",
          "text": [
            "2\n"
          ]
        }
      ]
    },
    {
      "cell_type": "markdown",
      "source": [
        "# N - 1.13.配列\n",
        "\n",
        "* vector<型> 配列変数名;で配列変数を宣言できる\n",
        "* 配列変数名 = { 要素1, 要素2, ... };で配列変数に値を代入できる\n",
        "* 配列変数.at(i), 配列変数.size() が使える\n",
        "* vector<型> 配列変数名(要素数)と書くと指定した要素数で配列を初期化できる\n"
      ],
      "metadata": {
        "id": "azH-MFEVvuOx"
      }
    },
    {
      "cell_type": "code",
      "source": [
        "%%writefile temp.cpp\n",
        "#include <bits/stdc++.h>\n",
        "using namespace std;\n",
        "#define rep(i, n) for (int i = 0; i < (int)(n); i++)\n",
        "\n",
        "int main() {\n",
        "    int N = 5;\n",
        "    vector<int> vec(N);\n",
        "    for (int i = 0; i < N; i++) {\n",
        "        cin >> vec.at(i);\n",
        "    };\n",
        "    rep (i, vec.size()) {\n",
        "        cout << vec.at(vec.size() - i - 1) << ' ' ;\n",
        "    }\n",
        "    cout << endl;\n",
        "}"
      ],
      "metadata": {
        "id": "YHy_H_YqxP5Y",
        "outputId": "a0a7c5b6-853b-42af-ea57-0f0eb74937f2",
        "colab": {
          "base_uri": "https://localhost:8080/"
        }
      },
      "execution_count": null,
      "outputs": [
        {
          "output_type": "stream",
          "name": "stdout",
          "text": [
            "Writing temp.cpp\n"
          ]
        }
      ]
    },
    {
      "cell_type": "code",
      "source": [
        "!g++ temp.cpp -o temp; echo 1 2 3 4 5 | ./temp"
      ],
      "metadata": {
        "id": "_vXhOYHf14ct",
        "outputId": "d1b59517-5fc6-46a7-b7e6-295bae10f81e",
        "colab": {
          "base_uri": "https://localhost:8080/"
        }
      },
      "execution_count": null,
      "outputs": [
        {
          "output_type": "stream",
          "name": "stdout",
          "text": [
            "5 4 3 2 1 \n"
          ]
        }
      ]
    },
    {
      "cell_type": "code",
      "source": [
        "%%writefile temp.cpp\n",
        "#include <bits/stdc++.h>\n",
        "using namespace std;\n",
        "\n",
        "int main() {\n",
        "  // 文字列\n",
        "  string str; // 文字列変数を宣言\n",
        "  str = \"abcd\"; // 'a', 'b', 'c', 'd' という文字(char)の列を代入\n",
        "  cout << str.at(0) << endl; // 1つ目である'a'を出力\n",
        "  cout << str.size() << endl; // 文字列の長さである4を出力\n",
        "\n",
        "  // 配列\n",
        "  vector<int> vec; // int型の配列変数vecを宣言\n",
        "  vec = { 25, 100, 64 }; // 25, 100, 64 という整数(int)の列を代入\n",
        "  cout << vec.at(0) << endl; // 1つめである25を出力\n",
        "  cout << vec.size() << endl; // 配列の長さである3を出力\n",
        "}\n"
      ],
      "metadata": {
        "id": "xfM_zDO-DwvY",
        "outputId": "31dd9b53-9555-4176-90c4-ce60c147d0cd",
        "colab": {
          "base_uri": "https://localhost:8080/"
        }
      },
      "execution_count": null,
      "outputs": [
        {
          "output_type": "stream",
          "name": "stdout",
          "text": [
            "Overwriting temp.cpp\n"
          ]
        }
      ]
    },
    {
      "cell_type": "code",
      "source": [
        "!g++ temp.cpp -o temp; echo 1 2 3 4 5 | ./temp"
      ],
      "metadata": {
        "id": "DMfTnVbVD4-9",
        "outputId": "e7c050ea-79a0-465c-c445-2bc1678b5186",
        "colab": {
          "base_uri": "https://localhost:8080/"
        }
      },
      "execution_count": null,
      "outputs": [
        {
          "output_type": "stream",
          "name": "stdout",
          "text": [
            "a\n",
            "4\n",
            "25\n",
            "3\n"
          ]
        }
      ]
    },
    {
      "cell_type": "code",
      "source": [
        "# 実験 文字列と配列 同じ物ではない\n",
        "%%writefile temp.cpp\n",
        "#include <bits/stdc++.h>\n",
        "using namespace std;\n",
        "#define rep(i, n) for (int i = 0; i < (int)(n); i++)\n",
        "\n",
        "int main() {\n",
        "    string str;\n",
        "    str = \"abcd\";\n",
        "    vector<char> vec;\n",
        "    vec = { 'a','b','c','d' };\n",
        "    cout << str << endl;\n",
        "    //  cout << vec << endl; #=> エラーになる\n",
        "    rep(i, vec.size()) {\n",
        "        cout << vec.at(i);\n",
        "    }\n",
        "    cout << endl;\n",
        "    copy(vec.begin(), vec.end(), ostream_iterator<char>(cout));\n",
        "    cout << endl;\n",
        "    for (const auto& item : vec) cout << item;\n",
        "    cout << endl;\n",
        "}"
      ],
      "metadata": {
        "id": "5YoHVgsXZfGc",
        "outputId": "822a1408-d499-42b8-9251-1c2d35d69df8",
        "colab": {
          "base_uri": "https://localhost:8080/"
        }
      },
      "execution_count": null,
      "outputs": [
        {
          "output_type": "stream",
          "name": "stdout",
          "text": [
            "Overwriting temp.cpp\n"
          ]
        }
      ]
    },
    {
      "cell_type": "code",
      "source": [
        "!g++ temp.cpp -o temp;  ./temp"
      ],
      "metadata": {
        "id": "VMq6WWaEZ9Ja"
      },
      "execution_count": null,
      "outputs": []
    },
    {
      "cell_type": "code",
      "source": [
        "%%writefile temp.cpp\n",
        "#include <bits/stdc++.h>\n",
        "using namespace std;\n",
        "#define rep(i, n) for (int i = 0; i < (int)(n); i++)\n",
        "\n",
        "int main() {\n",
        "    vector<int> vec(3); // {0, 0, 0} で初期化される str だと {\"\",\"\",\"\"}\n",
        "    cin >> vec.at(0) >> vec.at(1) >> vec.at(2);\n",
        "    cout << vec.at(0) + vec.at(1) + vec.at(2) << endl;\n",
        "}"
      ],
      "metadata": {
        "id": "O2ZpaBRhfU8u",
        "outputId": "7eed0747-954b-4c9d-d9d6-310e56de023f",
        "colab": {
          "base_uri": "https://localhost:8080/"
        }
      },
      "execution_count": null,
      "outputs": [
        {
          "output_type": "stream",
          "name": "stdout",
          "text": [
            "Overwriting temp.cpp\n"
          ]
        }
      ]
    },
    {
      "cell_type": "code",
      "source": [
        "!g++ temp.cpp -o temp;  echo 1 2 3 | ./temp"
      ],
      "metadata": {
        "id": "xrtgWU9Qfa6f",
        "outputId": "edc8061a-1438-4f99-ad54-5b7642f32af3",
        "colab": {
          "base_uri": "https://localhost:8080/"
        }
      },
      "execution_count": null,
      "outputs": [
        {
          "output_type": "stream",
          "name": "stdout",
          "text": [
            "6\n"
          ]
        }
      ]
    },
    {
      "cell_type": "code",
      "source": [
        "# for を使って書き直す\n",
        "%%writefile temp.cpp\n",
        "#include <bits/stdc++.h>\n",
        "using namespace std;\n",
        "#define rep(i, n) for (int i = 0; i < (int)(n); i++)\n",
        "\n",
        "int main() {\n",
        "    vector<int> vec(3); \n",
        "    for (auto& item : vec) cin >> item;\n",
        "    for (const auto& item : vec) cout << item;\n",
        "    cout << endl;\n",
        "}"
      ],
      "metadata": {
        "id": "912uUERkgEGY",
        "outputId": "bca5ccba-0ad6-429f-de91-dc3a6f56628b",
        "colab": {
          "base_uri": "https://localhost:8080/"
        }
      },
      "execution_count": null,
      "outputs": [
        {
          "output_type": "stream",
          "name": "stdout",
          "text": [
            "Overwriting temp.cpp\n"
          ]
        }
      ]
    },
    {
      "cell_type": "code",
      "source": [
        "!g++ temp.cpp -o temp;  echo 1 2 3 | ./temp"
      ],
      "metadata": {
        "id": "UQJp6o1JgcsB",
        "outputId": "95e88131-43a0-4029-9381-31571624a577",
        "colab": {
          "base_uri": "https://localhost:8080/"
        }
      },
      "execution_count": null,
      "outputs": [
        {
          "output_type": "stream",
          "name": "stdout",
          "text": [
            "123\n"
          ]
        }
      ]
    },
    {
      "cell_type": "markdown",
      "source": [
        "---\n",
        "問題 \n",
        "\n",
        "N人の数学と英語のテストの点数が与えられます。  \n",
        "それぞれの人について、数学と英語の点数の合計点を計算してください。\n",
        "\n",
        "入力例\n",
        "\n",
        "3  \n",
        "20 100 30  \n",
        "100 5 40  \n",
        "\n",
        "出力例\n",
        "\n",
        "120  \n",
        "105  \n",
        "70  "
      ],
      "metadata": {
        "id": "n7tJphi8Y0DP"
      }
    },
    {
      "cell_type": "code",
      "source": [
        "%%writefile temp.cpp\n",
        "#include <bits/stdc++.h>\n",
        "using namespace std;\n",
        "\n",
        "int main() {\n",
        "    int N;\n",
        "    cin >> N;\n",
        "    vector<int> math(3);\n",
        "    vector<int> eng(3);\n",
        "    for (auto& item : math) cin >> item;\n",
        "    for (auto& item : eng) cin >> item;\n",
        "    for (int i = 0; i < N; i++) {\n",
        "        cout << math.at(i) + eng.at(i) << endl;\n",
        "    }\n",
        "}"
      ],
      "metadata": {
        "id": "cHL1A1uV3w7t",
        "outputId": "3dd779e4-8963-4c5b-a6e3-176d888c39b5",
        "colab": {
          "base_uri": "https://localhost:8080/"
        }
      },
      "execution_count": null,
      "outputs": [
        {
          "output_type": "stream",
          "name": "stdout",
          "text": [
            "Overwriting temp.cpp\n"
          ]
        }
      ]
    },
    {
      "cell_type": "code",
      "source": [
        "!g++ temp.cpp -o temp;  echo 3 20 100 30 100 5 40 | ./temp"
      ],
      "metadata": {
        "id": "5jRIuCO646QG",
        "outputId": "95da85ad-4cfa-440c-c336-c0d6db82b695",
        "colab": {
          "base_uri": "https://localhost:8080/"
        }
      },
      "execution_count": null,
      "outputs": [
        {
          "output_type": "stream",
          "name": "stdout",
          "text": [
            "120\n",
            "105\n",
            "70\n"
          ]
        }
      ]
    },
    {
      "cell_type": "code",
      "source": [
        "%%writefile temp.cpp\n",
        "#include <bits/stdc++.h>\n",
        "using namespace std;\n",
        " \n",
        "int main() {\n",
        "  vector<int> vec = { 1, 2, 3 };\n",
        " \n",
        "  vec.push_back(10); // 末尾に10を追加\n",
        " \n",
        "  // vecの全要素を出力\n",
        "  for (int i = 0; i < vec.size(); i++) {\n",
        "    cout << vec.at(i) << endl;\n",
        "  }\n",
        "}"
      ],
      "metadata": {
        "id": "WSgRZ6OZ3Q5i",
        "outputId": "957d9672-a317-42e2-b109-e501765f6dd9",
        "colab": {
          "base_uri": "https://localhost:8080/"
        }
      },
      "execution_count": null,
      "outputs": [
        {
          "output_type": "stream",
          "name": "stdout",
          "text": [
            "Overwriting temp.cpp\n"
          ]
        }
      ]
    },
    {
      "cell_type": "code",
      "source": [
        "!g++ temp.cpp -o temp;  ./temp"
      ],
      "metadata": {
        "id": "1XZ_BiO35k0p",
        "outputId": "f9a8c1bd-1f08-4669-d576-0925a1fc36a0",
        "colab": {
          "base_uri": "https://localhost:8080/"
        }
      },
      "execution_count": null,
      "outputs": [
        {
          "output_type": "stream",
          "name": "stdout",
          "text": [
            "1\n",
            "2\n",
            "3\n",
            "10\n"
          ]
        }
      ]
    },
    {
      "cell_type": "markdown",
      "source": [
        "配列の範囲外を指定すると `std::out_of_range` という実行時エラーになる。\n",
        "\n",
        "vector 以外の配列  \n",
        "\n",
        "vector<int> data(3); // vectorによる配列 #=> これを使うこと!!!!\n",
        "\n",
        "int data[3]; // Cの配列\n",
        "\n",
        "array<int, 3> data; // arrayによる配列\n",
        "\n",
        "atを使わないi番目の要素へのアクセス\n",
        "\n",
        "配列変数.at(添字)と、配列変数[添字]は同じことが出来るが、at を使った方がエラーメッセージがちゃんと出る。\n",
        "\n",
        "`#define _GLIBCXX_DEBUG`  \n",
        "とコードの最初に書くことで.atと同程度に安全に使うことができるようになるが、APG4b では `.at()` を使う。"
      ],
      "metadata": {
        "id": "4l4q11zh1gHu"
      }
    },
    {
      "cell_type": "code",
      "source": [
        "%%writefile temp.cpp\n",
        "#include <bits/stdc++.h>\n",
        "using namespace std;\n",
        " \n",
        "int main() {\n",
        "  vector<int> vec = { 1, 2, 3 };\n",
        " \n",
        "  cout << vec.at(0) << endl;\n",
        "  cout << vec[0] << endl; // .at(0)と同じ\n",
        "}"
      ],
      "metadata": {
        "id": "RDpvufaQ2rep",
        "outputId": "b159a00d-c732-4d3e-fd7f-58dc35d3d391",
        "colab": {
          "base_uri": "https://localhost:8080/"
        }
      },
      "execution_count": null,
      "outputs": [
        {
          "output_type": "stream",
          "name": "stdout",
          "text": [
            "Overwriting temp.cpp\n"
          ]
        }
      ]
    },
    {
      "cell_type": "code",
      "source": [
        "!g++ temp.cpp -o temp;  ./temp"
      ],
      "metadata": {
        "id": "sB7sUhYp25ez"
      },
      "execution_count": null,
      "outputs": []
    },
    {
      "cell_type": "markdown",
      "source": [
        "要素の削除\n",
        "\n",
        "配列変数.pop_back を使えば配列の末尾の要素を削除することが出来る。"
      ],
      "metadata": {
        "id": "7adjum1E4iDd"
      }
    },
    {
      "cell_type": "code",
      "source": [
        "%%writefile temp.cpp\n",
        "#include <bits/stdc++.h>\n",
        "using namespace std;\n",
        "\n",
        "int main() {\n",
        "    vector<int> vec = { 1, 2, 3 };\n",
        "\n",
        "    vec.pop_back(); // 末尾の要素を削除\n",
        "\n",
        "    // vecの全要素を出力\n",
        "    for (int i = 0; i < vec.size(); i++) {\n",
        "        cout << vec.at(i) << endl;\n",
        "    }\n",
        "}"
      ],
      "metadata": {
        "id": "ER8sGpvV4hh_",
        "outputId": "cbc52628-713d-4d59-8343-88fbb152b8da",
        "colab": {
          "base_uri": "https://localhost:8080/"
        }
      },
      "execution_count": null,
      "outputs": [
        {
          "output_type": "stream",
          "name": "stdout",
          "text": [
            "Overwriting temp.cpp\n"
          ]
        }
      ]
    },
    {
      "cell_type": "code",
      "source": [
        "!g++ temp.cpp -o temp;  ./temp"
      ],
      "metadata": {
        "id": "GXpAefzK5mOv",
        "outputId": "674575bc-543e-427e-afb1-9b05d46d1676",
        "colab": {
          "base_uri": "https://localhost:8080/"
        }
      },
      "execution_count": null,
      "outputs": [
        {
          "output_type": "stream",
          "name": "stdout",
          "text": [
            "1\n",
            "2\n"
          ]
        }
      ]
    },
    {
      "cell_type": "code",
      "source": [
        "# 配列同士の比較\n",
        "# 配列変数同士は `==` で比較することが出来る。\n",
        "# vec == { 1, 2, 3 } のようには書けない。\n",
        "\n",
        "%%writefile temp.cpp\n",
        "#include <bits/stdc++.h>\n",
        "using namespace std;\n",
        "\n",
        "int main() {\n",
        "    vector<int> vec1 = { 1, 2, 3 };\n",
        "    vector<int> vec2 = { 1, 2, 3 };\n",
        "\n",
        "    if (vec1 == vec2) {\n",
        "        cout << \"OK\" << endl;\n",
        "    }\n",
        "\n",
        "    /*\n",
        "    ↓これはコンパイルエラーになる\n",
        "    if (vec1 == { 1, 2, 3 }) {\n",
        "      cout << \"NG\" << endl;\n",
        "    }\n",
        "    */\n",
        "}"
      ],
      "metadata": {
        "id": "6_7gQ7e85fiZ",
        "outputId": "481fc00f-1d66-47ae-cd88-0d724efb8b42",
        "colab": {
          "base_uri": "https://localhost:8080/"
        }
      },
      "execution_count": null,
      "outputs": [
        {
          "output_type": "stream",
          "name": "stdout",
          "text": [
            "Overwriting temp.cpp\n"
          ]
        }
      ]
    },
    {
      "cell_type": "code",
      "source": [
        "!g++ temp.cpp -o temp;  ./temp"
      ],
      "metadata": {
        "id": "P-JQOZeh6L6u",
        "outputId": "6a7fad95-62e0-47e6-c729-4b473a0e2b16",
        "colab": {
          "base_uri": "https://localhost:8080/"
        }
      },
      "execution_count": null,
      "outputs": [
        {
          "output_type": "stream",
          "name": "stdout",
          "text": [
            "OK\n"
          ]
        }
      ]
    },
    {
      "cell_type": "code",
      "source": [
        "# 配列の初期化その2\n",
        "# サイズの違う配列で上書き出来る\n",
        "%%writefile temp.cpp\n",
        "#include <bits/stdc++.h>\n",
        "using namespace std;\n",
        " \n",
        "int main() {\n",
        "  vector<int> vec(3, 10); // {10, 10, 10} で初期化\n",
        "  vec = vector<int>(100, 2); // 100要素の配列 {2, 2, ... , 2, 2} で上書き\n",
        "  cout << vec.at(99) << endl;\n",
        "}"
      ],
      "metadata": {
        "id": "_H8pQxLqmR8u",
        "outputId": "a1b71f4e-d2c3-446a-e84c-02e03a922dd4",
        "colab": {
          "base_uri": "https://localhost:8080/"
        }
      },
      "execution_count": null,
      "outputs": [
        {
          "output_type": "stream",
          "name": "stdout",
          "text": [
            "Writing temp.cpp\n"
          ]
        }
      ]
    },
    {
      "cell_type": "code",
      "source": [
        "!g++ temp.cpp -o temp;  ./temp"
      ],
      "metadata": {
        "id": "mVRJjMsamnIb",
        "outputId": "8afe5660-6580-41d6-ace3-559ec9e70a8a",
        "colab": {
          "base_uri": "https://localhost:8080/"
        }
      },
      "execution_count": null,
      "outputs": [
        {
          "output_type": "stream",
          "name": "stdout",
          "text": [
            "2\n"
          ]
        }
      ]
    },
    {
      "cell_type": "code",
      "source": [
        "# 実験\n",
        "# サイズの違う配列で上書き\n",
        "%%writefile temp.cpp\n",
        "#include <bits/stdc++.h>\n",
        "using namespace std;\n",
        " \n",
        "int main() {\n",
        "  vector<int> vec(3, 10); // {10, 10, 10} で初期化\n",
        "  vec = {10, 10, 1, 2, 3, 4} ;\n",
        "  cout << vec.at(5) << endl;\n",
        "}"
      ],
      "metadata": {
        "id": "yZG5nOXnnI41",
        "outputId": "d827affc-1ba8-48a7-ff8d-a790cdf575c4",
        "colab": {
          "base_uri": "https://localhost:8080/"
        }
      },
      "execution_count": null,
      "outputs": [
        {
          "output_type": "stream",
          "name": "stdout",
          "text": [
            "Overwriting temp.cpp\n"
          ]
        }
      ]
    },
    {
      "cell_type": "code",
      "source": [
        "!g++ temp.cpp -o temp;  ./temp"
      ],
      "metadata": {
        "id": "Dt_BsVcwneHc",
        "outputId": "c743ae6a-7438-49e6-b527-8716be1150f1",
        "colab": {
          "base_uri": "https://localhost:8080/"
        }
      },
      "execution_count": null,
      "outputs": [
        {
          "output_type": "stream",
          "name": "stdout",
          "text": [
            "4\n"
          ]
        }
      ]
    },
    {
      "cell_type": "code",
      "source": [
        "# 大きすぎる配列\n",
        "# AtCoderの問題の回答として提出してこのエラーが出た場合、`RE` または `MLE` となる\n",
        "%%writefile temp.cpp\n",
        "#include <bits/stdc++.h>\n",
        "using namespace std;\n",
        " \n",
        "int main() {\n",
        "  vector<int> v(1000000000);\n",
        "  cout << v[0] << endl;\n",
        "}"
      ],
      "metadata": {
        "id": "oXSRPVHUoMZJ",
        "outputId": "d69c7c32-ba6b-42ae-9ca4-ca2f4b18f958",
        "colab": {
          "base_uri": "https://localhost:8080/"
        }
      },
      "execution_count": null,
      "outputs": [
        {
          "output_type": "stream",
          "name": "stdout",
          "text": [
            "Overwriting temp.cpp\n"
          ]
        }
      ]
    },
    {
      "cell_type": "code",
      "source": [
        "!g++ temp.cpp -o temp;  ./temp"
      ],
      "metadata": {
        "id": "OMqv8BOwokBp",
        "outputId": "7926bd30-047d-407a-bc73-6eb6dce090c1",
        "colab": {
          "base_uri": "https://localhost:8080/"
        }
      },
      "execution_count": null,
      "outputs": [
        {
          "output_type": "stream",
          "name": "stdout",
          "text": [
            "tcmalloc: large alloc 4000006144 bytes == 0x563e3d5d8000 @  0x7fe7c4ae4887 0x563e3c78714a 0x563e3c787091 0x563e3c786fea 0x563e3c786edf 0x563e3c786d83 0x563e3c786c7a 0x563e3c786b13 0x7fe7c413ec87 0x563e3c7869fa\n",
            "0\n"
          ]
        }
      ]
    },
    {
      "cell_type": "markdown",
      "source": [
        "---\n",
        "問題   \n",
        "\n",
        "EX13 - 平均との差\n",
        "\n",
        "N人のテストの点数が与えられます。  \n",
        "それぞれの人の点数が平均点から何点離れているか計算してください。  \n",
        "切り捨て  \n",
        "\n",
        "入力例  \n",
        "10  \n",
        "53 21 99 83 75 40 33 62 18 100  \n",
        "=>    \n",
        "5  \n",
        "37  \n",
        "41  \n",
        "︙  "
      ],
      "metadata": {
        "id": "ODjCVSjDv-mf"
      }
    },
    {
      "cell_type": "code",
      "source": [
        "%%writefile temp.cpp\n",
        "#include <bits/stdc++.h>\n",
        "using namespace std;\n",
        "\n",
        "int main() {\n",
        "  int N, sum, ave;\n",
        "  cin >> N;\n",
        "  vector<int> vec(N);\n",
        "  sum = 0;\n",
        "  for (int i = 0; i < N; i++) {\n",
        "    cin >> vec.at(i);\n",
        "    sum += vec.at(i);\n",
        "  };\n",
        "  ave = sum / vec.size();\n",
        "  for (int i = 0; i < N; i++) {\n",
        "    if (vec.at(i) >= ave) cout << vec.at(i) - ave << endl;\n",
        "    else cout << ave - vec.at(i) << endl;\n",
        "  }\n",
        "}"
      ],
      "metadata": {
        "id": "fOu-baYTqY8O",
        "colab": {
          "base_uri": "https://localhost:8080/"
        },
        "outputId": "51ed70ca-18c2-4d76-f359-ce3e3d085edb"
      },
      "execution_count": null,
      "outputs": [
        {
          "output_type": "stream",
          "name": "stdout",
          "text": [
            "Overwriting temp.cpp\n"
          ]
        }
      ]
    },
    {
      "cell_type": "code",
      "source": [
        "!g++ temp.cpp -o temp; echo 10 53 21 99 83 75 40 33 62 18 100 |./temp"
      ],
      "metadata": {
        "id": "App3e7cu-HtD"
      },
      "execution_count": null,
      "outputs": []
    },
    {
      "cell_type": "markdown",
      "source": [
        "# 実験 無名関数"
      ],
      "metadata": {
        "id": "bXHa-xAigP8j"
      }
    },
    {
      "cell_type": "markdown",
      "source": [
        "---\n",
        "質問\n",
        "\n",
        "c++ で ラムダ式、無名関数は使えるか。\n",
        "\n",
        "ラムダ式を呼び出すには、関数と同じように () を使用する、とのこと。\n",
        "```\n",
        "int main(int argc, char *argv[]) {\n",
        "\t[](){}();\n",
        "}\n",
        "```"
      ],
      "metadata": {
        "id": "XCXbjVxub3xo"
      }
    },
    {
      "cell_type": "code",
      "source": [
        "# 実験 関数として使うには戻り値が指定できないと困る #=> 出来た\n",
        "%%writefile temp.cpp\n",
        "#include <bits/stdc++.h>\n",
        "using namespace std;\n",
        "\n",
        "int main(){\n",
        "    int a, b;\n",
        "    a = 3; b = 4;\n",
        "    auto hoge = [](int x, int y){return x * y;};\n",
        "    // auto hoge = [](int x, int y) -> int{return x * y;}; # `=>` を使った書き方もあるが、不要みたい\n",
        "\n",
        "    cout << hoge(a,b) << endl;\n",
        "    cout << [](int x, int y)int{return x * y;}(a,b) << endl;\n",
        "    cout << [](int x, int y) -> int{return x * y;}(a,b) << endl;\n",
        "    cout << [](int x, int y){int temp = x * y; return temp;}(a,b) << endl;\n",
        "}\n"
      ],
      "metadata": {
        "colab": {
          "base_uri": "https://localhost:8080/"
        },
        "id": "dlzXFDwEinzT",
        "outputId": "9f5e88a0-b0ef-4481-d633-09ffc3c840ec"
      },
      "execution_count": null,
      "outputs": [
        {
          "output_type": "stream",
          "name": "stdout",
          "text": [
            "Overwriting temp.cpp\n"
          ]
        }
      ]
    },
    {
      "cell_type": "code",
      "source": [
        "!g++ temp.cpp -o temp; ./temp"
      ],
      "metadata": {
        "colab": {
          "base_uri": "https://localhost:8080/"
        },
        "id": "ROn5HTvyjCBZ",
        "outputId": "7528ad5f-030e-4922-813b-76d87f53ed53"
      },
      "execution_count": null,
      "outputs": [
        {
          "output_type": "stream",
          "name": "stdout",
          "text": [
            "12\n",
            "12\n",
            "12\n",
            "12\n"
          ]
        }
      ]
    },
    {
      "cell_type": "code",
      "source": [
        "# 実験 無名関数の練習\n",
        "%%writefile temp.cpp\n",
        "#include <bits/stdc++.h>\n",
        "using namespace std;\n",
        "\n",
        "int main() {\n",
        "    int a, b;\n",
        "    a = 3;\n",
        "    b = 4;\n",
        "    auto mul = [](int x, int y){return x * y;};\n",
        "    cout << mul(a, b) << endl;\n",
        "}"
      ],
      "metadata": {
        "colab": {
          "base_uri": "https://localhost:8080/"
        },
        "id": "b-5DOanAcMwk",
        "outputId": "bd18a3ab-5ff9-424e-e718-c74eab7df00c"
      },
      "execution_count": null,
      "outputs": [
        {
          "output_type": "stream",
          "name": "stdout",
          "text": [
            "Overwriting temp.cpp\n"
          ]
        }
      ]
    },
    {
      "cell_type": "code",
      "source": [
        "!g++ temp.cpp -o temp; ./temp"
      ],
      "metadata": {
        "colab": {
          "base_uri": "https://localhost:8080/"
        },
        "id": "sZ1GG5Ayc1K7",
        "outputId": "851241d7-6238-4088-cd5b-c0c6887adf0e"
      },
      "execution_count": null,
      "outputs": [
        {
          "output_type": "stream",
          "name": "stdout",
          "text": [
            "12\n"
          ]
        }
      ]
    },
    {
      "cell_type": "code",
      "source": [
        "# 実験 string repeat する\n",
        "# 任意の文字列を任意の回数繰り返した文字列を作る関数を無名関数で作る\n",
        "%%writefile temp.cpp\n",
        "#include <bits/stdc++.h>\n",
        "using namespace std;\n",
        "\n",
        "int main() {\n",
        "  string str;\n",
        "  str = \"abc\";\n",
        "  int n = 3;\n",
        "  auto tempfunc = [](int x, string a){string acc=\"\"; for(int i =0;i < x; i++) acc += a; return acc; };\n",
        "\n",
        "  cout << tempfunc(3,str) << endl;\n",
        "  cout <<  [](int x, string a){string acc=\"\"; for(int i =0;i < x; i++) acc += a; return acc; }(4,\"defg\") << endl;\n",
        "\n",
        "}"
      ],
      "metadata": {
        "colab": {
          "base_uri": "https://localhost:8080/"
        },
        "id": "4jrCWQufMVHf",
        "outputId": "a21b442e-3b80-4df9-f57f-7d9c1ed15468"
      },
      "execution_count": null,
      "outputs": [
        {
          "output_type": "stream",
          "name": "stdout",
          "text": [
            "Overwriting temp.cpp\n"
          ]
        }
      ]
    },
    {
      "cell_type": "code",
      "source": [
        "!g++ temp.cpp -o temp; ./temp"
      ],
      "metadata": {
        "colab": {
          "base_uri": "https://localhost:8080/"
        },
        "id": "qjIdBAYbMVxc",
        "outputId": "6518d05d-61d2-47a7-8046-cdaed268ba75"
      },
      "execution_count": null,
      "outputs": [
        {
          "output_type": "stream",
          "name": "stdout",
          "text": [
            "abcabcabc\n",
            "defgdefgdefgdefg\n"
          ]
        }
      ]
    },
    {
      "cell_type": "markdown",
      "source": [
        "---\n",
        "問題  B - Picture Frame\n",
        "\n",
        "縦 H ピクセル、横 W ピクセルの画像があります。 各ピクセルは英小文字で表されます。 上から i 番目、左から j 番目のピクセルは a \n",
        "ij です。\n",
        "\n",
        "この画像の周囲 1 ピクセルを # で囲んだものを出力してください。\n",
        "\n",
        "```\n",
        "2 3\n",
        "abc\n",
        "arc\n",
        "```\n",
        "=>\n",
        "``` text\n",
        " #####\n",
        " #abc#\n",
        " #arc#\n",
        " #####\n",
        "```\n"
      ],
      "metadata": {
        "id": "LXL3FsJC5-Fv"
      }
    },
    {
      "cell_type": "code",
      "source": [
        "%%writefile temp.cpp\n",
        "#include <bits/stdc++.h>\n",
        "using namespace std;\n",
        "\n",
        "int main() {\n",
        "  int H, W;\n",
        "  cin >> H >> W;\n",
        "  for (int i = 0; i < H + 2; i++) {\n",
        "    if ((i == 0) || (i == H + 1)) cout << [](int n, string a) {string acc = \"\"; for (int i = 0;i < n+2; i++) acc += a; return acc; }(W, \"#\") << endl;\n",
        "    else {\n",
        "        string str;\n",
        "        cin >> str;\n",
        "        cout << \"#\" << str << \"#\" << endl;\n",
        "    }\n",
        "\n",
        "  }\n",
        "}"
      ],
      "metadata": {
        "id": "Qd5R-tWKBRsk",
        "colab": {
          "base_uri": "https://localhost:8080/"
        },
        "outputId": "7edd8678-61f2-49cf-cc54-ea18814af205"
      },
      "execution_count": null,
      "outputs": [
        {
          "output_type": "stream",
          "name": "stdout",
          "text": [
            "Overwriting temp.cpp\n"
          ]
        }
      ]
    },
    {
      "cell_type": "code",
      "source": [
        "!g++ temp.cpp -o temp; echo 2 3 abc def |./temp"
      ],
      "metadata": {
        "colab": {
          "base_uri": "https://localhost:8080/"
        },
        "id": "hzXZHV8_LGCL",
        "outputId": "dd6384bb-942d-4f52-9076-ed3b173d5ae1"
      },
      "execution_count": null,
      "outputs": [
        {
          "output_type": "stream",
          "name": "stdout",
          "text": [
            "#####\n",
            "#abc#\n",
            "#def#\n",
            "#####\n"
          ]
        }
      ]
    },
    {
      "cell_type": "markdown",
      "source": [
        "# 未解決というか後回しにして先に進もう"
      ],
      "metadata": {
        "id": "miSbqN_Koc9c"
      }
    },
    {
      "cell_type": "code",
      "source": [
        "\n",
        "B - Counting Roads\n",
        "B - Trained?\n",
        "難しめ\n",
        "B - Two Colors Card Game\n",
        "B - Card Game for Two\n",
        "B - Kagami Mochi\n",
        "\n"
      ],
      "metadata": {
        "id": "g1z-0yPh-aWk"
      },
      "execution_count": null,
      "outputs": []
    },
    {
      "cell_type": "markdown",
      "source": [
        "# 関数"
      ],
      "metadata": {
        "id": "JYNzgIiEorrS"
      }
    },
    {
      "cell_type": "code",
      "source": [
        "# 関数の例\n",
        "%%writefile temp.cpp\n",
        "#include <bits/stdc++.h>\n",
        "using namespace std;\n",
        "\n",
        "int my_min(int x, int y) {\n",
        "  if (x < y) {\n",
        "    return x;\n",
        "  }\n",
        "  else {\n",
        "    return y;\n",
        "  }\n",
        "}\n",
        "\n",
        "int main() {\n",
        "  int answer = my_min(10, 5);\n",
        "  cout << answer << endl; // 5\n",
        "}"
      ],
      "metadata": {
        "id": "UQZ2xyJioq4Z",
        "colab": {
          "base_uri": "https://localhost:8080/"
        },
        "outputId": "c182a582-989f-42f2-dde1-14298094998a"
      },
      "execution_count": 16,
      "outputs": [
        {
          "output_type": "stream",
          "name": "stdout",
          "text": [
            "Overwriting temp.cpp\n"
          ]
        }
      ]
    },
    {
      "cell_type": "code",
      "source": [
        "!g++ temp.cpp -o temp;  ./temp"
      ],
      "metadata": {
        "colab": {
          "base_uri": "https://localhost:8080/"
        },
        "id": "SNjwIERXdy33",
        "outputId": "0fee9f7e-8dc7-42aa-95bc-403d0918b2e4"
      },
      "execution_count": 17,
      "outputs": [
        {
          "output_type": "stream",
          "name": "stdout",
          "text": [
            "5\n"
          ]
        }
      ]
    },
    {
      "cell_type": "code",
      "source": [
        "# 上の例を無名関数にしてみよう\n",
        "%%writefile temp.cpp\n",
        "#include <bits/stdc++.h>\n",
        "using namespace std;\n",
        "\n",
        "int main() {\n",
        "  cout << [](int x, int y){if(x<y) return x;else return y;}(8,7) << endl; // 7\n",
        "}"
      ],
      "metadata": {
        "colab": {
          "base_uri": "https://localhost:8080/"
        },
        "id": "ewatF7ccd8J_",
        "outputId": "151c972f-9fab-49fd-c2da-6534601a8567"
      },
      "execution_count": 13,
      "outputs": [
        {
          "output_type": "stream",
          "name": "stdout",
          "text": [
            "Overwriting temp.cpp\n"
          ]
        }
      ]
    },
    {
      "cell_type": "code",
      "source": [
        "!g++ temp.cpp -o temp; ./temp"
      ],
      "metadata": {
        "colab": {
          "base_uri": "https://localhost:8080/"
        },
        "id": "JYe83XcJeaEc",
        "outputId": "6d89c6ad-53a5-4b0e-c476-433f1cc8c9d3"
      },
      "execution_count": 15,
      "outputs": [
        {
          "output_type": "stream",
          "name": "stdout",
          "text": [
            "7\n"
          ]
        }
      ]
    },
    {
      "cell_type": "code",
      "source": [
        "# 関数の引数に参照 `&` を使う例\n",
        "# 参照元の値を変更している\n",
        "%%writefile temp.cpp\n",
        "#include <bits/stdc++.h>\n",
        "using namespace std;\n",
        "\n",
        "void change(int& n, vector<int>& vec) {\n",
        "  n = 1;\n",
        "  vec.at(0) = 1;\n",
        "  return;\n",
        "}\n",
        "\n",
        "int main() {\n",
        "  int x = 5;\n",
        "  vector<int> v = { 10, 10, 10 };\n",
        "\n",
        "  change(x, v);\n",
        "\n",
        "  cout << x << endl;\n",
        "  cout << v.at(0) << endl;\n",
        "}"
      ],
      "metadata": {
        "colab": {
          "base_uri": "https://localhost:8080/"
        },
        "id": "V6PjNpBVgqPj",
        "outputId": "11f4bc00-acf2-43c7-b4c4-0d9cc6f6ba10"
      },
      "execution_count": 18,
      "outputs": [
        {
          "output_type": "stream",
          "name": "stdout",
          "text": [
            "Overwriting temp.cpp\n"
          ]
        }
      ]
    },
    {
      "cell_type": "code",
      "source": [
        "!g++ temp.cpp -o temp; ./temp"
      ],
      "metadata": {
        "colab": {
          "base_uri": "https://localhost:8080/"
        },
        "id": "bAEFR3VVhnUT",
        "outputId": "87e59d03-5d38-4c76-fe5d-efba75fba162"
      },
      "execution_count": 19,
      "outputs": [
        {
          "output_type": "stream",
          "name": "stdout",
          "text": [
            "1\n",
            "1\n"
          ]
        }
      ]
    },
    {
      "cell_type": "code",
      "source": [
        "# 再帰の例\n",
        "%%writefile temp.cpp\n",
        "#include <bits/stdc++.h>\n",
        "using namespace std;\n",
        " \n",
        "// 0からnまでの和を求める関数 sum\n",
        "int sum(int n) {\n",
        "  if (n == 0) {\n",
        "    return 0;\n",
        "  }\n",
        "  return n + sum(n - 1);\n",
        "}\n",
        " \n",
        "int main() {\n",
        "  cout << sum(3) << endl;\n",
        "} // 6"
      ],
      "metadata": {
        "id": "bUgLKtTCURoC",
        "colab": {
          "base_uri": "https://localhost:8080/"
        },
        "outputId": "d6994917-6239-48e5-9888-f89207a6f50b"
      },
      "execution_count": 20,
      "outputs": [
        {
          "output_type": "stream",
          "name": "stdout",
          "text": [
            "Overwriting temp.cpp\n"
          ]
        }
      ]
    },
    {
      "cell_type": "code",
      "source": [
        "!g++ temp.cpp -o temp; ./temp"
      ],
      "metadata": {
        "colab": {
          "base_uri": "https://localhost:8080/"
        },
        "id": "tw0AUobCiVSN",
        "outputId": "23767fb9-4e67-49cc-d127-5fdfcd7c73cf"
      },
      "execution_count": 21,
      "outputs": [
        {
          "output_type": "stream",
          "name": "stdout",
          "text": [
            "6\n"
          ]
        }
      ]
    },
    {
      "cell_type": "markdown",
      "source": [
        "---\n",
        "問題 EX15.三人兄弟へのプレゼント\n",
        "\n",
        "問題文\n",
        "三人兄弟のA君とB君とC君は、お父さんに1つのプレゼントを貰うことになりました。\n",
        "貰えるプレゼントの予算は「テストの合計点の積」で決まります。\n",
        "\n",
        "プレゼントの予算 = $(A_1+\\dots+A_n)\\times(B_1)$\n",
        "\n",
        "入力例  \n",
        "2  \n",
        "5 7  \n",
        "4 10  \n",
        "9 2  \n",
        "=>  \n",
        "1848"
      ],
      "metadata": {
        "id": "4-0O_9lzicIl"
      }
    },
    {
      "cell_type": "code",
      "source": [
        "# 問題 EX15.三人兄弟へのプレゼント\n",
        "# 途中まで書かれたプログラムに沿って完成させること\n",
        "%%writefile temp.cpp\n",
        "#include <bits/stdc++.h>\n",
        "using namespace std;\n",
        "\n",
        "// 1人のテストの点数を表す配列から合計点を計算して返す関数\n",
        "// 返り値: 1人のテストの合計点\n",
        "int sum(vector<int> scores) {\n",
        "  int sum = 0;\n",
        "  for(int i=0; i < scores.size(); i++){sum += scores.at(i);};\n",
        "  return sum;\n",
        "}\n",
        "\n",
        "// 3人の合計点からプレゼントの予算を計算して出力する関数\n",
        "// 返り値: なし\n",
        "void output(int sum_a, int sum_b, int sum_c) {\n",
        "  cout << sum_a*sum_b*sum_c << endl;\n",
        "}\n",
        "\n",
        "// N個の入力を受け取って配列に入れて返す関数\n",
        "// 引数 N: 入力を受け取る個数\n",
        "// 返り値: 受け取ったN個の入力の配列\n",
        "vector<int> input(int N) {\n",
        "  vector<int> vec(N);\n",
        "  for (int i = 0; i < N; i++) {\n",
        "    cin >> vec.at(i);\n",
        "  }\n",
        "  return vec;\n",
        "}\n",
        "\n",
        "int main() {\n",
        "  // 科目の数Nを受け取る\n",
        "  int N;\n",
        "  cin >> N;\n",
        "\n",
        "  // それぞれのテストの点数を受け取る\n",
        "  vector<int> A = input(N);\n",
        "  vector<int> B = input(N);\n",
        "  vector<int> C = input(N);\n",
        "\n",
        "  // それぞれの合計点を計算\n",
        "  int sum_A = sum(A);\n",
        "  int sum_B = sum(B);\n",
        "  int sum_C = sum(C);\n",
        "\n",
        "  // プレゼントの予算を出力\n",
        "  output(sum_A, sum_B, sum_C);\n",
        "}"
      ],
      "metadata": {
        "colab": {
          "base_uri": "https://localhost:8080/"
        },
        "id": "g9A2t3y9iLwF",
        "outputId": "44327d52-63f5-44a0-a862-a3718f62b0ff"
      },
      "execution_count": 26,
      "outputs": [
        {
          "output_type": "stream",
          "name": "stdout",
          "text": [
            "Overwriting temp.cpp\n"
          ]
        }
      ]
    },
    {
      "cell_type": "code",
      "source": [
        "!g++ temp.cpp -o temp; echo 2 5 7 4 10 9 2 |./temp"
      ],
      "metadata": {
        "colab": {
          "base_uri": "https://localhost:8080/"
        },
        "id": "c60XFlHxkgN2",
        "outputId": "14b2ee52-bee5-4b10-fec5-676215ae495b"
      },
      "execution_count": 27,
      "outputs": [
        {
          "output_type": "stream",
          "name": "stdout",
          "text": [
            "1848\n"
          ]
        }
      ]
    },
    {
      "cell_type": "markdown",
      "source": [
        "# いまここ"
      ],
      "metadata": {
        "id": "tSlW3WM5jCuR"
      }
    },
    {
      "cell_type": "code",
      "source": [
        "# 範囲for文の構文\n",
        "# for (配列の要素の型 変数名 : 配列変数) {}\n",
        "# 問題 整数 a と 5個の整数を与えられて、a と等しいものの個数を求める\n",
        "# 入力例 入力例 3 1 3 2 5 3 => 2\n",
        "%%writefile temp.cpp\n",
        "#include <bits/stdc++.h>\n",
        "using namespace std;\n",
        "\n",
        "int main() {\n",
        "  int a;\n",
        "  cin >> a;\n",
        "  vector<int> data(5);\n",
        "  for (int i = 0; i < 5; i++) {\n",
        "    cin >> data.at(i);\n",
        "  }\n",
        "  \n",
        "  int count = 0;\n",
        "  for (int item : data) {\n",
        "      if (item == a) count++;\n",
        "  }\n",
        "\n",
        "  cout << count << endl;\n",
        "}\n"
      ],
      "metadata": {
        "id": "I0QRsdz8qEUI",
        "outputId": "303eee5d-e083-4194-92fe-d1b64322f1dd",
        "colab": {
          "base_uri": "https://localhost:8080/"
        }
      },
      "execution_count": 29,
      "outputs": [
        {
          "output_type": "stream",
          "name": "stdout",
          "text": [
            "Overwriting temp.cpp\n"
          ]
        }
      ]
    },
    {
      "cell_type": "code",
      "source": [
        "!g++ temp.cpp -o temp; echo 3 1 3 2 5 3 |./temp"
      ],
      "metadata": {
        "id": "w0ydvnIXtv1N",
        "outputId": "2353031b-e850-4ebb-fe3d-06bac097841c",
        "colab": {
          "base_uri": "https://localhost:8080/"
        }
      },
      "execution_count": 30,
      "outputs": [
        {
          "output_type": "stream",
          "name": "stdout",
          "text": [
            "2\n"
          ]
        }
      ]
    },
    {
      "cell_type": "code",
      "source": [
        "範囲for文はコンテナと呼ばれるデータ型に対して使うことができます。\n",
        "配列はコンテナの一種です。 その他にも文字列型(string型)はコンテナの一種なので、範囲for文を用いることができます。\n",
        "string型の変数に対して、1文字ずつ処理したい場合に便利です。\n",
        "\n",
        "Copy\n",
        "#include <bits/stdc++.h>\n",
        "using namespace std;\n",
        " \n",
        "int main() {\n",
        "  string str = \"hello\";\n",
        "  for (char c : str) {\n",
        "    if (c == 'l') {\n",
        "      c = 'L';\n",
        "    }\n",
        "    cout << c;\n",
        "  }\n",
        "  cout << endl;\n",
        "}\n",
        "#include <bits/stdc++.h>\n",
        "using namespace std;\n",
        "\n",
        "int main() {\n",
        "  string str = \"hello\";\n",
        "  for (char c : str) {\n",
        "    if (c == 'l') {\n",
        "      c = 'L';\n",
        "    }\n",
        "    cout << c;\n",
        "  }\n",
        "  cout << endl;\n",
        "}\n",
        "実行結果\n",
        "heLLo\n",
        "細かい話\n",
        "ループ構文の使い分け\n",
        "ループ構文には1.10で扱ったwhile文、1.11で扱ったfor文、今回紹介した範囲for文がありますが、どのように使い分ければ良いのでしょうか。\n",
        "\n",
        "for文は1.11で見たように「N回処理する」というようなパターンをwhile文より短く書くための構文でした。 今回紹介した範囲for文は配列に対する処理をfor文よりも簡潔に書くための構文でした。 よって、以下のように使い分けると良いでしょう。\n",
        "\n",
        "配列の全ての要素に対する処理を行なう場合 → 範囲for文\n",
        "それ以外で一定回数繰り返し処理する場合 → for文\n",
        "それ以外の場合 → while文\n",
        "ただし、例えば配列の要素に対する処理でも、範囲for文を用いるよりもfor文やwhile文を用いた方が簡潔に書ける場合もあるので、 必ずしも上のように使い分ける必要はありません。\n",
        "\n",
        "while文が適しているケース\n",
        "「整数Nがあるとき、Nが2で最大で何回割り切れるかを求める」という処理を考えます。 この処理は配列の要素に対する処理ではありませんし、具体的に何回処理を繰り返せば良いのかということも分かりません。 この処理にはwhile文が適しているでしょう。\n",
        "\n",
        "次のサンプルプログラムは、入力で与えられた整数Nが2で割り切れる回数を出力するプログラムです。\n",
        "\n",
        "Copy\n",
        "#include <bits/stdc++.h>\n",
        "using namespace std;\n",
        " \n",
        "int main() {\n",
        "  int N;\n",
        "  cin >> N;\n",
        " \n",
        "  int count = 0;\n",
        "  while (N > 0) {\n",
        "    // 2で割り切れなければループを抜ける\n",
        "    if (N % 2 > 0) {\n",
        "      break;\n",
        "    }\n",
        "    N = N / 2;\n",
        "    count++;\n",
        "  }\n",
        "  cout << count << endl;\n",
        "}\n",
        "#include <bits/stdc++.h>\n",
        "using namespace std;\n",
        "\n",
        "int main() {\n",
        "  int N;\n",
        "  cin >> N;\n",
        "\n",
        "  int count = 0;\n",
        "  while (N > 0) {\n",
        "    // 2で割り切れなければループを抜ける\n",
        "    if (N % 2 > 0) {\n",
        "      break;\n",
        "    }\n",
        "    N = N / 2;\n",
        "    count++;\n",
        "  }\n",
        "  cout << count << endl;\n",
        "}\n",
        "入力1\n",
        "8\n",
        "実行結果1\n",
        "3\n",
        "入力2\n",
        "5\n",
        "実行結果1\n",
        "0\n",
        "問題\n",
        "リンク先の問題を解いてください。\n",
        "\n",
        "EX16.隣り合う同じ値を探す\n",
        "前のページ | 次のページ\n",
        "\n",
        "FacebookTwitterHatena共有\n",
        "ルール 用語集\n",
        "利用規約 プライバシーポリシー 個人情報保護方針 企業情報 よくある質問 お問い合わせ 資料請求\n",
        "Copyright Since 2012 ©AtCoder Inc. All rights reserved.\n",
        " ページトップ"
      ],
      "metadata": {
        "id": "7ubpn-YxrqkF"
      },
      "execution_count": null,
      "outputs": []
    }
  ]
}