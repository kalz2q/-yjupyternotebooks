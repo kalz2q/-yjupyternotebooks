{
  "nbformat": 4,
  "nbformat_minor": 0,
  "metadata": {
    "colab": {
      "name": "cpp_apg4b.ipynb",
      "provenance": [],
      "toc_visible": true,
      "authorship_tag": "ABX9TyPVuhcproh1ixMRM6MiwsFE",
      "include_colab_link": true
    },
    "kernelspec": {
      "name": "python3",
      "display_name": "Python 3"
    },
    "language_info": {
      "name": "python"
    }
  },
  "cells": [
    {
      "cell_type": "markdown",
      "metadata": {
        "id": "view-in-github",
        "colab_type": "text"
      },
      "source": [
        "<a href=\"https://colab.research.google.com/github/kalz2q/mycolabnotebooks/blob/master/cpp_apg4b.ipynb\" target=\"_parent\"><img src=\"https://colab.research.google.com/assets/colab-badge.svg\" alt=\"Open In Colab\"/></a>"
      ]
    },
    {
      "cell_type": "markdown",
      "source": [
        "# メモ\n",
        "\n",
        "AtCoder Programming Guide for Beginners APG4b\n",
        "\n",
        "の練習問題をやる。\n",
        "\n",
        "https://atcoder.jp/contests/apg4b"
      ],
      "metadata": {
        "id": "8kHv-8CgciQc"
      }
    },
    {
      "cell_type": "markdown",
      "source": [
        "# 目次  \n",
        "\n",
        "1.00.はじめに  \n",
        "1.01.出力とコメント | EX1  \n",
        "1.02.プログラムの書き方とエラー | EX2  \n",
        "1.03.四則演算と優先順位 | EX3  \n",
        "1.04.変数と型 | EX4  \n",
        "1.05.プログラムの実行順序と入力 | EX5  \n",
        "1.06.if文・比較演算子・論理演算子 | EX6  \n",
        "1.07.条件式の結果とbool型 | EX7  \n",
        "1.08.変数のスコープ | EX8  \n",
        "1.09.複合代入演算子 | EX9  \n",
        "1.10.while文 | EX10  \n",
        "1.11.for文・break・continue | EX11  \n",
        "1.12.文字列と文字 | EX12 <= このあたりから普通の言語と違う  \n",
        "1.13.配列 | EX13  <= vector を使っている\n",
        "1.14.STLの関数 | EX14  \n",
        "1.15.関数 | EX15  \n",
        "  \n",
        "2.00.第2章について  \n",
        "2.01.ループの書き方と範囲for文 | EX16  \n",
        "2.02.多重ループ | EX17  \n",
        "2.03.多次元配列 | EX18  \n",
        "2.04.参照 | EX19  \n",
        "2.05.再帰関数 | EX20  \n",
        "2.06.計算量 | EX21  \n",
        "  \n",
        "3.00.第3章について  \n",
        "3.01.数値型  \n",
        "3.02.pair/tupleとauto | EX22  \n",
        "3.03.STLのコンテナ | EX23  \n",
        "3.04.構造体 | EX24  \n",
        "3.05.ビット演算 | EX25  \n",
        "3.06.その他の機能 | EX26  \n",
        "  \n",
        "4.00.第4章について  \n",
        "4.01.includeディレクティブ  \n",
        "4.02.名前空間  \n",
        "4.03.テンプレート  \n",
        "4.04.イテレータ  \n",
        "4.05.ポインタ  \n",
        "  \n",
        "付録1.コードテストの使い方  \n",
        "付録2.提出結果の見方  \n",
        "付録3.コンパイルエラー集  \n",
        "付録4.ループの裏技repマクロ  "
      ],
      "metadata": {
        "id": "5sm38Af7dBS3"
      }
    },
    {
      "cell_type": "markdown",
      "source": [
        "bits/stdc++.h の利用\n",
        "\n",
        "`#include <bits/stdc++.h>` で iostream, string, vector とか云々。\n",
        "\n",
        "`std::` と `#include` の勉強はしないでよい。とりあえず。\n",
        "\n",
        "main関数の `return 0` の省略\n",
        "\n",
        "計算量の解説\n",
        "\n",
        "repマクロの紹介\n",
        "\n",
        "`#define rep(i, n) for (int i = 0; i < (int)(n); i++)`\n"
      ],
      "metadata": {
        "id": "uUCd4AI-zp0n"
      }
    },
    {
      "cell_type": "markdown",
      "source": [
        "---\n",
        "例題 ハローワールド"
      ],
      "metadata": {
        "id": "jHYDOMmr_WMq"
      }
    },
    {
      "cell_type": "code",
      "source": [
        "%%writefile temp.cpp\n",
        "#include <bits/stdc++.h>\n",
        "using namespace std;\n",
        "\n",
        "int main() {\n",
        "  cout << \"Hello, world!\" << endl;\n",
        "}"
      ],
      "metadata": {
        "id": "xOjbdzyZ_5Mh",
        "outputId": "351760ed-8eb9-454c-bacf-d6eab4b268be",
        "colab": {
          "base_uri": "https://localhost:8080/"
        }
      },
      "execution_count": null,
      "outputs": [
        {
          "output_type": "stream",
          "name": "stdout",
          "text": [
            "Overwriting temp.cpp\n"
          ]
        }
      ]
    },
    {
      "cell_type": "code",
      "source": [
        "!g++ temp.cpp -o temp; ./temp"
      ],
      "metadata": {
        "id": "IIpSvJjqAFaL",
        "outputId": "4aa6606b-b4d0-475a-fb23-f74f353ae718",
        "colab": {
          "base_uri": "https://localhost:8080/"
        }
      },
      "execution_count": null,
      "outputs": [
        {
          "output_type": "stream",
          "name": "stdout",
          "text": [
            "Hello, world!\n"
          ]
        }
      ]
    },
    {
      "cell_type": "code",
      "source": [
        "# ハローワールドのプログラムで return を入れてみた\n",
        "# return 0 としないとエラーになる\n",
        "# セミコロンも必要、javascript みたいに補ってくれない\n",
        "# int main を void main にしたらエラーになった\n",
        "# int main(void) は通った\n",
        "# 質問 int main(int argc, char *argv[]) はどうか #=> 実験してみよう\n",
        "%%writefile temp.cpp\n",
        "#include <bits/stdc++.h>\n",
        "using namespace std;\n",
        "\n",
        "int main(int argc, char *argv[]) {\n",
        "  cout << argc << endl;\n",
        "  cout << argv[2] << endl;\n",
        "}\n",
        "\n"
      ],
      "metadata": {
        "id": "N6JoT1wTAeIh",
        "outputId": "35e9be22-b3d7-4851-e247-19da42d3fde2",
        "colab": {
          "base_uri": "https://localhost:8080/"
        }
      },
      "execution_count": null,
      "outputs": [
        {
          "output_type": "stream",
          "name": "stdout",
          "text": [
            "Overwriting temp.cpp\n"
          ]
        }
      ]
    },
    {
      "cell_type": "code",
      "source": [
        "!g++ temp.cpp -o temp; ./temp this is a pen"
      ],
      "metadata": {
        "id": "CjMZ9oCAB6dn",
        "outputId": "347d12e9-2f90-4112-84c2-7a93d96eb931",
        "colab": {
          "base_uri": "https://localhost:8080/"
        }
      },
      "execution_count": null,
      "outputs": [
        {
          "output_type": "stream",
          "name": "stdout",
          "text": [
            "5\n",
            "is\n"
          ]
        }
      ]
    },
    {
      "cell_type": "code",
      "source": [
        "# 問題\n",
        "# EX1 - コードテストと出力の練習 \n",
        "# こんにちは AtCoder と出力する\n",
        "# 改行を入れる\n",
        "%%writefile temp.cpp\n",
        "#include <bits/stdc++.h>\n",
        "using namespace std;\n",
        "\n",
        "int main() {\n",
        "  cout << \"こんにちは\" << endl;\n",
        "  cout << \"AtCoder\" << endl;\n",
        "}\n"
      ],
      "metadata": {
        "id": "OHELUdVTDN3L",
        "outputId": "6dad88c7-a84d-4466-ff1e-4566f91cfebc",
        "colab": {
          "base_uri": "https://localhost:8080/"
        }
      },
      "execution_count": null,
      "outputs": [
        {
          "output_type": "stream",
          "name": "stdout",
          "text": [
            "Overwriting temp.cpp\n"
          ]
        }
      ]
    },
    {
      "cell_type": "code",
      "source": [
        "!g++ temp.cpp -o temp; ./temp"
      ],
      "metadata": {
        "id": "uXOX3kB8Dw3L",
        "outputId": "e0b9e957-4a1d-4a9c-8861-5f5853790fa4",
        "colab": {
          "base_uri": "https://localhost:8080/"
        }
      },
      "execution_count": null,
      "outputs": [
        {
          "output_type": "stream",
          "name": "stdout",
          "text": [
            "こんにちは\n",
            "AtCoder\n"
          ]
        }
      ]
    },
    {
      "cell_type": "code",
      "source": [
        "# 問題\n",
        "# EX2 - エラーの修正 \n",
        "# 以下のプログラムは修正後\n",
        "%%writefile temp.cpp\n",
        "#include <bits/stdc++.h>\n",
        "using namespace std;\n",
        "\n",
        "int main() {\n",
        "  cout << \"いつも\" << 2525 << endl;\n",
        "  cout << \"AtCoderくん\" << endl;\n",
        "}\n"
      ],
      "metadata": {
        "id": "kofG4JEGD6nl",
        "outputId": "077ba3cf-4904-4d5c-fcb4-4419e2c30a1d",
        "colab": {
          "base_uri": "https://localhost:8080/"
        }
      },
      "execution_count": null,
      "outputs": [
        {
          "output_type": "stream",
          "name": "stdout",
          "text": [
            "Writing temp.cpp\n"
          ]
        }
      ]
    },
    {
      "cell_type": "code",
      "source": [
        "!g++ temp.cpp -o temp; ./temp"
      ],
      "metadata": {
        "id": "4YT34nh8EjLU",
        "outputId": "3c0b083c-0a95-430b-a5c2-1aa83ad882d0",
        "colab": {
          "base_uri": "https://localhost:8080/"
        }
      },
      "execution_count": null,
      "outputs": [
        {
          "output_type": "stream",
          "name": "stdout",
          "text": [
            "いつも2525\n",
            "AtCoderくん\n"
          ]
        }
      ]
    },
    {
      "cell_type": "code",
      "source": [
        "# 問題\n",
        "# EX3 - 計算問題 \n",
        "# 公式を使って1から100までの和を求める\n",
        "%%writefile temp.cpp\n",
        "#include <bits/stdc++.h>\n",
        "using namespace std;\n",
        "int main() {\n",
        "  cout <<  (100 + 1) * 100 / 2 << endl;\n",
        "}\n"
      ],
      "metadata": {
        "id": "_pKMrFEUFw3t",
        "outputId": "40e88645-016f-4477-8a56-4cdeefbe59fd",
        "colab": {
          "base_uri": "https://localhost:8080/"
        }
      },
      "execution_count": null,
      "outputs": [
        {
          "output_type": "stream",
          "name": "stdout",
          "text": [
            "Overwriting temp.cpp\n"
          ]
        }
      ]
    },
    {
      "cell_type": "code",
      "source": [
        "!g++ temp.cpp -o temp; ./temp"
      ],
      "metadata": {
        "id": "hkwwL69sHAUX",
        "outputId": "e565a3a8-1daa-4deb-9734-fcc77c822ced",
        "colab": {
          "base_uri": "https://localhost:8080/"
        }
      },
      "execution_count": null,
      "outputs": [
        {
          "output_type": "stream",
          "name": "stdout",
          "text": [
            "5050\n"
          ]
        }
      ]
    },
    {
      "cell_type": "code",
      "source": [
        "# 変数\n",
        "# 例題\n",
        "%%writefile temp.cpp\n",
        "#include <bits/stdc++.h>\n",
        "using namespace std;\n",
        "\n",
        "int main() {\n",
        "\n",
        "  int name;\n",
        "\n",
        "  name = 10;\n",
        "\n",
        "  cout << name << endl;     // 10\n",
        "  cout << name + 2 << endl; // 10 + 2 → 12\n",
        "  cout << name * 3 << endl; // 10 * 3 → 30\n",
        "}\n"
      ],
      "metadata": {
        "id": "iNdsPMrCHwsx",
        "outputId": "4257848b-c12c-4fa1-ddaf-c6dd702de8db",
        "colab": {
          "base_uri": "https://localhost:8080/"
        }
      },
      "execution_count": null,
      "outputs": [
        {
          "output_type": "stream",
          "name": "stdout",
          "text": [
            "Overwriting temp.cpp\n"
          ]
        }
      ]
    },
    {
      "cell_type": "code",
      "source": [
        "!g++ temp.cpp -o temp; ./temp"
      ],
      "metadata": {
        "id": "XQ_o3ZmQH56c",
        "outputId": "2fa48f38-0046-4fed-899c-d57b3e3a0f38",
        "colab": {
          "base_uri": "https://localhost:8080/"
        }
      },
      "execution_count": null,
      "outputs": [
        {
          "output_type": "stream",
          "name": "stdout",
          "text": [
            "10\n",
            "12\n",
            "30\n"
          ]
        }
      ]
    },
    {
      "cell_type": "code",
      "source": [
        "# 変数の初期化\n",
        "%%writefile temp.cpp\n",
        "#include <bits/stdc++.h>\n",
        "using namespace std;\n",
        "\n",
        "int main() {\n",
        "\n",
        "  int name = 10;\n",
        "\n",
        "  cout << name << endl;\n",
        "}\n"
      ],
      "metadata": {
        "id": "qdAaNCZhKbPB",
        "outputId": "8d428ed3-df50-4577-910b-5720b27ad4b1",
        "colab": {
          "base_uri": "https://localhost:8080/"
        }
      },
      "execution_count": null,
      "outputs": [
        {
          "output_type": "stream",
          "name": "stdout",
          "text": [
            "Overwriting temp.cpp\n"
          ]
        }
      ]
    },
    {
      "cell_type": "code",
      "source": [
        "!g++ temp.cpp -o temp; ./temp"
      ],
      "metadata": {
        "id": "4HIgJJIzKhL9",
        "outputId": "05366d9c-3188-4363-c5e6-98d7c3746a1e",
        "colab": {
          "base_uri": "https://localhost:8080/"
        }
      },
      "execution_count": null,
      "outputs": [
        {
          "output_type": "stream",
          "name": "stdout",
          "text": [
            "10\n"
          ]
        }
      ]
    },
    {
      "cell_type": "code",
      "source": [
        "# 変数はコピーされ、元の変数は影響を受けない\n",
        "%%writefile temp.cpp\n",
        "#include <bits/stdc++.h>\n",
        "using namespace std;\n",
        "\n",
        "int main() {\n",
        "\n",
        "  int a = 10;\n",
        "  int b;\n",
        "  b = a; // aの値がコピーされ、bに10が代入される\n",
        "  a = 5; // aの値は5に書き換わるが、bは10のまま\n",
        "\n",
        "  cout << a << endl; // 5\n",
        "  cout << b << endl; // 10\n",
        "}\n"
      ],
      "metadata": {
        "id": "3lOKk4ivKxVC",
        "outputId": "dc03153f-b7f8-4e8c-e379-8549eeca5f5b",
        "colab": {
          "base_uri": "https://localhost:8080/"
        }
      },
      "execution_count": null,
      "outputs": [
        {
          "output_type": "stream",
          "name": "stdout",
          "text": [
            "Overwriting temp.cpp\n"
          ]
        }
      ]
    },
    {
      "cell_type": "code",
      "source": [
        "!g++ temp.cpp -o temp; ./temp"
      ],
      "metadata": {
        "id": "dv3rlAghK4UK",
        "outputId": "a9be084d-e2a5-4555-b23c-a9be9dba3752",
        "colab": {
          "base_uri": "https://localhost:8080/"
        }
      },
      "execution_count": null,
      "outputs": [
        {
          "output_type": "stream",
          "name": "stdout",
          "text": [
            "5\n",
            "10\n"
          ]
        }
      ]
    },
    {
      "cell_type": "code",
      "source": [
        "# 変数を同時に宣言\n",
        "%%writefile temp.cpp\n",
        "#include <bits/stdc++.h>\n",
        "using namespace std;\n",
        "\n",
        "int main() {\n",
        "\n",
        "  int a = 10, b = 5;\n",
        "\n",
        "  cout << a << endl;\n",
        "  cout << b << endl;\n",
        "}\n"
      ],
      "metadata": {
        "id": "QAmgYM1fLAIt",
        "outputId": "b45dcb75-62df-4daa-85dd-ba39c0d4f28f",
        "colab": {
          "base_uri": "https://localhost:8080/"
        }
      },
      "execution_count": null,
      "outputs": [
        {
          "output_type": "stream",
          "name": "stdout",
          "text": [
            "Overwriting temp.cpp\n"
          ]
        }
      ]
    },
    {
      "cell_type": "code",
      "source": [
        "!g++ temp.cpp -o temp; ./temp"
      ],
      "metadata": {
        "id": "o-5jJpPbLSr1",
        "outputId": "0b4485bf-89e4-4b32-d95e-eaf137709f22",
        "colab": {
          "base_uri": "https://localhost:8080/"
        }
      },
      "execution_count": null,
      "outputs": [
        {
          "output_type": "stream",
          "name": "stdout",
          "text": [
            "10\n",
            "5\n"
          ]
        }
      ]
    },
    {
      "cell_type": "code",
      "source": [
        "# メモ\n",
        "# c++ の変数は camelCase と理解していたが、この tutorial では python みたいな anake_case が出てきた\n",
        "# `_` が使えると言う説明のためかも"
      ],
      "metadata": {
        "id": "AjCuwk-mL983"
      },
      "execution_count": null,
      "outputs": []
    },
    {
      "cell_type": "code",
      "source": [
        "# メモ\n",
        "# int , double, string と呼ぶ、float とは言わないらしい\n"
      ],
      "metadata": {
        "id": "IU8rnfNmMtle"
      },
      "execution_count": null,
      "outputs": []
    },
    {
      "cell_type": "code",
      "source": [
        "# 型変換\n",
        "%%writefile temp.cpp\n",
        "#include <bits/stdc++.h>\n",
        "using namespace std;\n",
        "\n",
        "int main() {\n",
        "  int i = 30;\n",
        "  double d = 1.5;\n",
        "  string s = \"Hello\";\n",
        "\n",
        "  cout << i + d << endl; // 31.5\n",
        "  cout << i * d << endl; // 45\n",
        "  cout << 45 / 2 << endl; // 22 小数点以下切り捨て\n",
        "  cout << i * d / 2 << endl; // 22.5 小数点以下も残る\n",
        "  /*\n",
        "  以下の処理はコンパイルエラー\n",
        "  cout << s + i << endl; // string型とint型\n",
        "  cout << s * i << endl; // string型とint型\n",
        "  cout << s + d << endl; // string型とdouble型\n",
        "  */\n",
        "}\n"
      ],
      "metadata": {
        "id": "b1DxVz9ONZDI",
        "outputId": "49e0b352-46c9-418a-caeb-3ec9ba3b6c82",
        "colab": {
          "base_uri": "https://localhost:8080/"
        }
      },
      "execution_count": null,
      "outputs": [
        {
          "output_type": "stream",
          "name": "stdout",
          "text": [
            "Overwriting temp.cpp\n"
          ]
        }
      ]
    },
    {
      "cell_type": "code",
      "source": [
        "!g++ temp.cpp -o temp; ./temp"
      ],
      "metadata": {
        "id": "D_4fvex5NfVz",
        "outputId": "1d4df89b-e554-42f6-d26b-a792c5adf39f",
        "colab": {
          "base_uri": "https://localhost:8080/"
        }
      },
      "execution_count": null,
      "outputs": [
        {
          "output_type": "stream",
          "name": "stdout",
          "text": [
            "31.5\n",
            "45\n",
            "22\n",
            "22.5\n"
          ]
        }
      ]
    },
    {
      "cell_type": "code",
      "source": [
        "# 問題\n",
        "# EX4 - ◯年は何秒？ \n",
        "# int型の変数secondsは一年の秒数\n",
        "# これを利用して 1年は何秒か,2年は何秒か,5年は何秒か,10年は何秒かを一行ずつ表示する\n",
        "%%writefile temp.cpp\n",
        "#include <bits/stdc++.h>\n",
        "using namespace std;\n",
        "\n",
        "int main() {\n",
        "  // 一年の秒数\n",
        "  int seconds = 365 * 24 * 60 * 60;\n",
        "\n",
        "  cout << seconds  << endl;\n",
        "  cout << seconds * 2 << endl;\n",
        "  cout << seconds * 5 << endl;\n",
        "  cout << seconds * 10  << endl;\n",
        "}\n"
      ],
      "metadata": {
        "id": "6meYa14yODkD",
        "outputId": "869fe0aa-010e-449e-9f9c-4eb5140325ad",
        "colab": {
          "base_uri": "https://localhost:8080/"
        }
      },
      "execution_count": null,
      "outputs": [
        {
          "output_type": "stream",
          "name": "stdout",
          "text": [
            "Overwriting temp.cpp\n"
          ]
        }
      ]
    },
    {
      "cell_type": "code",
      "source": [
        "!g++ temp.cpp -o temp; ./temp"
      ],
      "metadata": {
        "id": "XYsGzo8OOzDM",
        "outputId": "9d85ab44-4a53-419f-9c38-c1870dbb9d0b",
        "colab": {
          "base_uri": "https://localhost:8080/"
        }
      },
      "execution_count": null,
      "outputs": [
        {
          "output_type": "stream",
          "name": "stdout",
          "text": [
            "31536000\n",
            "63072000\n",
            "157680000\n",
            "315360000\n"
          ]
        }
      ]
    },
    {
      "cell_type": "code",
      "source": [
        "# プログラムの実行時にデータの入力を受け取る方法\n",
        "# 入力 Hello 1.5 => Hello, 1.5 と出力\n",
        "%%writefile temp.cpp\n",
        "#include <bits/stdc++.h>\n",
        "using namespace std;\n",
        "\n",
        "int main() {\n",
        "  string text;\n",
        "  double d;\n",
        "  cin >> text;\n",
        "  cin >> d;\n",
        "  cout << text << \", \" << d << endl;\n",
        "}\n"
      ],
      "metadata": {
        "id": "NtiLJkXEPbsy",
        "outputId": "208b2424-38d5-4fce-f87c-22bbf2539ead",
        "colab": {
          "base_uri": "https://localhost:8080/"
        }
      },
      "execution_count": null,
      "outputs": [
        {
          "output_type": "stream",
          "name": "stdout",
          "text": [
            "Overwriting temp.cpp\n"
          ]
        }
      ]
    },
    {
      "cell_type": "code",
      "source": [
        "!g++ temp.cpp -o temp; echo Hello 1.5 | ./temp"
      ],
      "metadata": {
        "id": "5BIxpEUgPvNZ",
        "outputId": "d97eff3a-2850-4362-a227-95eb23025485",
        "colab": {
          "base_uri": "https://localhost:8080/"
        }
      },
      "execution_count": null,
      "outputs": [
        {
          "output_type": "stream",
          "name": "stdout",
          "text": [
            "Hello, 1.5\n"
          ]
        }
      ]
    },
    {
      "cell_type": "code",
      "source": [
        "# 問題\n",
        "# EX5 - A足すB問題 \n",
        "# 2つの整数A, Bが与えられます。A+Bの計算結果を出力してください。\n",
        "%%writefile temp.cpp\n",
        "#include <bits/stdc++.h>\n",
        "using namespace std;\n",
        " \n",
        "int main() {\n",
        "  int A, B;\n",
        "  cin >> A >> B;\n",
        "  cout << A+B << endl;\n",
        "}"
      ],
      "metadata": {
        "id": "pHVa1nn4-6OS",
        "outputId": "5cbed93e-b84f-4dd4-b377-940d330c9416",
        "colab": {
          "base_uri": "https://localhost:8080/"
        }
      },
      "execution_count": null,
      "outputs": [
        {
          "output_type": "stream",
          "name": "stdout",
          "text": [
            "Writing temp.cpp\n"
          ]
        }
      ]
    },
    {
      "cell_type": "code",
      "source": [
        "!g++ temp.cpp -o temp; echo 1 2 | ./temp"
      ],
      "metadata": {
        "id": "FvNljIIN_Q5M"
      },
      "execution_count": null,
      "outputs": []
    },
    {
      "cell_type": "code",
      "source": [
        "# 問題\n",
        "# A - New Year \n",
        "# 12 月 30 日の M 時から次の年になるまでは何時間か、求めてください。\n",
        "%%writefile temp.cpp\n",
        "#include <bits/stdc++.h>\n",
        "using namespace std;\n",
        " \n",
        "int main() {\n",
        "  int M;\n",
        "  cin >> M;\n",
        "  cout << 48 - M << endl;\n",
        "}"
      ],
      "metadata": {
        "id": "Knte-0NU_h1Z",
        "outputId": "9aff3576-1016-40f2-d799-29476d27797c",
        "colab": {
          "base_uri": "https://localhost:8080/"
        }
      },
      "execution_count": null,
      "outputs": [
        {
          "output_type": "stream",
          "name": "stdout",
          "text": [
            "Overwriting temp.cpp\n"
          ]
        }
      ]
    },
    {
      "cell_type": "code",
      "source": [
        "!g++ temp.cpp -o temp; echo 21 | ./temp"
      ],
      "metadata": {
        "id": "Npg1lKKg_3EQ",
        "outputId": "cdcb43f3-113e-4c20-ca22-a54201ffe845",
        "colab": {
          "base_uri": "https://localhost:8080/"
        }
      },
      "execution_count": null,
      "outputs": [
        {
          "output_type": "stream",
          "name": "stdout",
          "text": [
            "27\n"
          ]
        }
      ]
    },
    {
      "cell_type": "code",
      "source": [
        "# 問題\n",
        "# A - Rating Goal \n",
        "# 現在のレーティングを a とする。\n",
        "# 次のコンテストで, パフォーマンス b を取ったとする。\n",
        "# そのとき, レーティングは a と b の平均まで変化する。\n",
        "# 高橋君は, 現在のレーティングが R で, 次のコンテストでレーティングをちょうど G にした\n",
        "# そのとき, 高橋君が取るべきパフォーマンスを求めなさい。\n",
        "%%writefile temp.cpp\n",
        "#include <bits/stdc++.h>\n",
        "using namespace std;\n",
        " \n",
        "int main() {\n",
        "  int R, G;\n",
        "  cin >> R >> G;\n",
        "  // (R + performance ) / 2 = G より performance = G * 2 - R\n",
        "  cout << G * 2 - R << endl;\n",
        "}"
      ],
      "metadata": {
        "id": "xUkTz452ASP5",
        "outputId": "98a81f41-5410-42be-8a46-280583800dd8",
        "colab": {
          "base_uri": "https://localhost:8080/"
        }
      },
      "execution_count": null,
      "outputs": [
        {
          "output_type": "stream",
          "name": "stdout",
          "text": [
            "Overwriting temp.cpp\n"
          ]
        }
      ]
    },
    {
      "cell_type": "code",
      "source": [
        "!g++ temp.cpp -o temp; echo 2002 2017 | ./temp"
      ],
      "metadata": {
        "id": "s-_VjduUBLyU",
        "outputId": "bd950668-b01b-44d0-9c4e-6748901b12fd",
        "colab": {
          "base_uri": "https://localhost:8080/"
        }
      },
      "execution_count": null,
      "outputs": [
        {
          "output_type": "stream",
          "name": "stdout",
          "text": [
            "2032\n"
          ]
        }
      ]
    },
    {
      "cell_type": "code",
      "source": [
        "# 問題\n",
        "# A - Bichrome Cells \n",
        "# N×N のマス目があります。\n",
        "# このマス目の各マスを白色または黒色に塗ることにしました\n",
        "# ちょうど A マスを白色に塗るとき、黒色に塗ることになるマスはいくつあるでしょうか。\n",
        "%%writefile temp.cpp\n",
        "#include <bits/stdc++.h>\n",
        "using namespace std;\n",
        " \n",
        "int main() {\n",
        "  int N, A;\n",
        "  cin >> N >> A;\n",
        "  cout << N * N - A << endl;\n",
        "}"
      ],
      "metadata": {
        "id": "Xbsh8SHTCXaX",
        "outputId": "4392ee30-fb9a-4657-cf40-3bfb22c58a41",
        "colab": {
          "base_uri": "https://localhost:8080/"
        }
      },
      "execution_count": null,
      "outputs": [
        {
          "output_type": "stream",
          "name": "stdout",
          "text": [
            "Overwriting temp.cpp\n"
          ]
        }
      ]
    },
    {
      "cell_type": "code",
      "source": [
        "!g++ temp.cpp -o temp; echo 3 4 | ./temp"
      ],
      "metadata": {
        "id": "VoyMrKOrFhxO",
        "outputId": "a3f7f9e9-64ae-49e1-9b8d-e12731bd075a",
        "colab": {
          "base_uri": "https://localhost:8080/"
        }
      },
      "execution_count": null,
      "outputs": [
        {
          "output_type": "stream",
          "name": "stdout",
          "text": [
            "5\n"
          ]
        }
      ]
    },
    {
      "cell_type": "code",
      "source": [
        "# 問題\n",
        "# A - Round Up the Mean\n",
        "# 2 つの正整数 a, b が与えられます。 a, b の平均値を x とします。 \n",
        "# x の小数点以下を切り上げて得られる整数を出力してください。\n",
        "# 入力 7 4 => 6\n",
        "%%writefile temp.cpp\n",
        "#include <bits/stdc++.h>\n",
        "using namespace std;\n",
        " \n",
        "int main() {\n",
        "  int a, b;\n",
        "  cin >> a >> b;\n",
        "  cout << (a+b+1)/2 << endl;\n",
        "}"
      ],
      "metadata": {
        "id": "gzghcijvFybT",
        "outputId": "17697fae-38c1-4eb6-c1d8-9d2a3727fa8c",
        "colab": {
          "base_uri": "https://localhost:8080/"
        }
      },
      "execution_count": null,
      "outputs": [
        {
          "output_type": "stream",
          "name": "stdout",
          "text": [
            "Overwriting temp.cpp\n"
          ]
        }
      ]
    },
    {
      "cell_type": "code",
      "source": [
        "!g++ temp.cpp -o temp; echo 7 4 | ./temp"
      ],
      "metadata": {
        "id": "xtAxQf_-GINc",
        "outputId": "4176d55c-9366-4f06-fb34-429e7ff8f6d4",
        "colab": {
          "base_uri": "https://localhost:8080/"
        }
      },
      "execution_count": null,
      "outputs": [
        {
          "output_type": "stream",
          "name": "stdout",
          "text": [
            "6\n"
          ]
        }
      ]
    },
    {
      "cell_type": "code",
      "source": [
        "# 問題\n",
        "# A - Placing Marbles \n",
        "# すぬけ君は 1,2,3 の番号がついた 3 つのマスからなるマス目を持っています。 \n",
        "# 各マスには 0 か 1 が書かれています。\n",
        "# すぬけ君は 1 が書かれたマスにビー玉を置きます。 ビー玉が置かれるマスがいくつあるか求めてください。\n",
        "%%writefile temp.cpp\n",
        "#include <bits/stdc++.h>\n",
        "using namespace std;\n",
        " \n",
        "int main() {\n",
        "  int x, s1, s2, s3;\n",
        "  cin >> x ;\n",
        "  s1 = x % 2;\n",
        "  s2 = x / 10 % 2;\n",
        "  s3 = x / 100 % 2;\n",
        "  cout << s1+s2+s3 << endl;\n",
        "}"
      ],
      "metadata": {
        "id": "XN4-zwHkOKsZ",
        "outputId": "2399fb99-b1c6-43d0-cbf4-3ffcd871bcba",
        "colab": {
          "base_uri": "https://localhost:8080/"
        }
      },
      "execution_count": null,
      "outputs": [
        {
          "output_type": "stream",
          "name": "stdout",
          "text": [
            "Overwriting temp.cpp\n"
          ]
        }
      ]
    },
    {
      "cell_type": "code",
      "source": [
        "!g++ temp.cpp -o temp; echo 101 | ./temp"
      ],
      "metadata": {
        "id": "EuvyQfjqOcJC",
        "outputId": "9aac51cf-aa36-47e2-92bc-c203ef083917",
        "colab": {
          "base_uri": "https://localhost:8080/"
        }
      },
      "execution_count": null,
      "outputs": [
        {
          "output_type": "stream",
          "name": "stdout",
          "text": [
            "0\n"
          ]
        }
      ]
    },
    {
      "cell_type": "code",
      "source": [
        "# G - 1.06.if文・比較演算子・論理演算子 \n",
        "# 問題\n",
        "# EX6 - 電卓をつくろう \n",
        "# 1行の計算式が与えられるので、その結果を出力してください。\n",
        "# + - * / 以外はエラー\n",
        "%%writefile temp.cpp\n",
        "#include <bits/stdc++.h>\n",
        "using namespace std;\n",
        "\n",
        "int main() {\n",
        "  int A, B;\n",
        "  string op;\n",
        "  cin >> A >> op >> B;\n",
        "\n",
        "  if (op == \"+\") cout << A + B << endl;\n",
        "  else if (op == \"-\") cout << A - B << endl;\n",
        "  else if (op == \"*\") cout << A * B << endl;\n",
        "  else if (op == \"/\" && B != 0) cout << A / B << endl;\n",
        "  else cout << \"error\" << endl;\n",
        "\n",
        "}"
      ],
      "metadata": {
        "id": "XfLqiU3LPQLH",
        "outputId": "d8f23bb0-ad72-42f0-d0e3-20168e3fe880",
        "colab": {
          "base_uri": "https://localhost:8080/"
        }
      },
      "execution_count": null,
      "outputs": [
        {
          "output_type": "stream",
          "name": "stdout",
          "text": [
            "Overwriting temp.cpp\n"
          ]
        }
      ]
    },
    {
      "cell_type": "code",
      "source": [
        "!g++ temp.cpp -o temp; echo 1 + 2 | ./temp"
      ],
      "metadata": {
        "id": "ml3bUB1Pqg_a",
        "outputId": "a64ac977-2957-4dc9-9619-d5b3dbb23b1e",
        "colab": {
          "base_uri": "https://localhost:8080/"
        }
      },
      "execution_count": null,
      "outputs": [
        {
          "output_type": "stream",
          "name": "stdout",
          "text": [
            "3\n"
          ]
        }
      ]
    },
    {
      "cell_type": "code",
      "source": [
        "# 問題\n",
        "# A - Infinite Coins \n",
        "# E869120 は 1 円硬貨を A 枚と 500 円硬貨を無限枚持っています.\n",
        "# これらの硬貨だけを使うことによって, ちょうど N 円を支払うことができるかを判定しなさい.\n",
        "%%writefile temp.cpp\n",
        "#include <bits/stdc++.h>\n",
        "using namespace std;\n",
        "\n",
        "int main() {\n",
        "  int N, A;\n",
        "  cin >> N >> A;\n",
        "\n",
        "  if (N % 500 <= A) cout << \"Yes\" << endl;\n",
        "  else {\n",
        "      cout << \"No\" << endl;\n",
        "  }\n",
        "}"
      ],
      "metadata": {
        "id": "tlDbZllqjsMF",
        "outputId": "c94485be-7305-4a54-d2ad-072e6474d43c",
        "colab": {
          "base_uri": "https://localhost:8080/"
        }
      },
      "execution_count": null,
      "outputs": [
        {
          "output_type": "stream",
          "name": "stdout",
          "text": [
            "Overwriting temp.cpp\n"
          ]
        }
      ]
    },
    {
      "cell_type": "code",
      "source": [
        "!g++ temp.cpp -o temp; echo 2018 218 | ./temp\n",
        "!g++ temp.cpp -o temp; echo 2763 0 | ./temp\n",
        "!g++ temp.cpp -o temp; echo 37 514 | ./temp"
      ],
      "metadata": {
        "id": "tIzYFgHFkVJM",
        "outputId": "9193db7f-af1d-41d4-9d6c-f0aa6990e02b",
        "colab": {
          "base_uri": "https://localhost:8080/"
        }
      },
      "execution_count": null,
      "outputs": [
        {
          "output_type": "stream",
          "name": "stdout",
          "text": [
            "Yes\n",
            "No\n",
            "Yes\n"
          ]
        }
      ]
    },
    {
      "cell_type": "code",
      "source": [
        "# 問題\n",
        "# A - Product\n",
        "# シカのAtCoDeerくんは二つの正整数 a,b を見つけました。 a と b の積が偶数か奇数か判定してください。 Even Odd\n",
        "%%writefile temp.cpp\n",
        "#include <bits/stdc++.h>\n",
        "using namespace std;\n",
        "\n",
        "int main() {\n",
        "  int a, b;\n",
        "  cin >> a >> b;\n",
        "\n",
        "  if (a * b % 2 == 0) cout << \"Even\" << endl;\n",
        "  else cout << \"Odd\" << endl;\n",
        "}"
      ],
      "metadata": {
        "id": "HLh2-w8SnUGy",
        "outputId": "9d33cc61-c3eb-44a3-a4b1-2af056ca97f3",
        "colab": {
          "base_uri": "https://localhost:8080/"
        }
      },
      "execution_count": null,
      "outputs": [
        {
          "output_type": "stream",
          "name": "stdout",
          "text": [
            "Overwriting temp.cpp\n"
          ]
        }
      ]
    },
    {
      "cell_type": "code",
      "source": [
        "!g++ temp.cpp -o temp; echo 3 4 | ./temp\n",
        "!g++ temp.cpp -o temp; echo 1 21 | ./temp"
      ],
      "metadata": {
        "id": "sU4iDmWFnUv4",
        "outputId": "5e30f652-585c-4dc2-d7b0-09518aaed904",
        "colab": {
          "base_uri": "https://localhost:8080/"
        }
      },
      "execution_count": null,
      "outputs": [
        {
          "output_type": "stream",
          "name": "stdout",
          "text": [
            "Even\n",
            "Odd\n"
          ]
        }
      ]
    },
    {
      "cell_type": "code",
      "source": [
        "# 問題\n",
        "# A - Libra\n",
        "# 高橋君は、上皿天秤の左の皿に重さ A のおもりと重さ B のおもりを、右の皿に重さ C のおもりと重さ D のおもりを置きました。\n",
        "# 上皿天秤が左に傾くなら Left を、釣り合うなら Balanced を、右に傾くなら Right を出力してください。\n",
        "%%writefile temp.cpp\n",
        "#include <bits/stdc++.h>\n",
        "using namespace std;\n",
        "\n",
        "int main() {\n",
        "  int A, B, C, D;\n",
        "  cin >> A >> B >> C >> D;\n",
        "\n",
        "  if (A+B > C+D) cout << \"Left\" << endl;\n",
        "  else if (A+B == C+D) cout << \"Balanced\" << endl;\n",
        "  else cout << \"Right\" << endl;\n",
        "}"
      ],
      "metadata": {
        "id": "4p53SkczRVcS"
      },
      "execution_count": null,
      "outputs": []
    },
    {
      "cell_type": "code",
      "source": [
        "!g++ temp.cpp -o temp; echo 3 8 7 1 | ./temp\n",
        "!g++ temp.cpp -o temp; echo 5 3 7 1 | ./temp\n",
        "!g++ temp.cpp -o temp; echo 5 2 7 1 | ./temp"
      ],
      "metadata": {
        "id": "xpa5BgBTRV6r"
      },
      "execution_count": null,
      "outputs": []
    },
    {
      "cell_type": "code",
      "source": [
        "# 問題\n",
        "# A - Parking  / \n",
        "# 実行時間制\n",
        "# 駐車場があり、以下の二種類のプランのどちらかを選んで駐車できます。\n",
        "# プラン 1 : T 時間駐車した場合、A×T 円が駐車料金となる。\n",
        "# プラン 2 : 駐車した時間に関わらず B 円が駐車料金となる。\n",
        "# N 時間駐車するとき、駐車料金は最小でいくらになるか求めてください。\n",
        "# 入力 N A T => 7 17 120 => 119\n",
        "%%writefile temp.cpp\n",
        "#include <bits/stdc++.h>\n",
        "using namespace std;\n",
        "\n",
        "int main() {\n",
        "  int N, A, B;\n",
        "  cin >> N >> A >> B;\n",
        "\n",
        "  if (N*A < B) cout << N*A << endl;\n",
        "  else cout << B << endl;\n",
        "}"
      ],
      "metadata": {
        "id": "4zorT2vIFXhp",
        "outputId": "3f9dc9af-2d0e-4712-b32c-5d844f471594",
        "colab": {
          "base_uri": "https://localhost:8080/"
        }
      },
      "execution_count": null,
      "outputs": [
        {
          "output_type": "stream",
          "name": "stdout",
          "text": [
            "Overwriting temp.cpp\n"
          ]
        }
      ]
    },
    {
      "cell_type": "code",
      "source": [
        "!g++ temp.cpp -o temp; echo 7 17 120 | ./temp"
      ],
      "metadata": {
        "id": "Ny6NEQIwFXOu",
        "outputId": "3bae26dd-b21f-43ad-f4e8-8b9686afd007",
        "colab": {
          "base_uri": "https://localhost:8080/"
        }
      },
      "execution_count": null,
      "outputs": [
        {
          "output_type": "stream",
          "name": "stdout",
          "text": [
            "119\n"
          ]
        }
      ]
    },
    {
      "cell_type": "code",
      "source": [
        "# 問題\n",
        "# A - Good Integer\n",
        "# 1118 のような、3 つ以上の同じ数字が連続して並んだ 4 桁の整数を 良い整数 とします。\n",
        "# 4 桁の整数 N が与えられるので、N が 良い整数 かどうかを答えてください。\n",
        "# 入力 1118 => \"Yes\"\n",
        "%%writefile temp.cpp\n",
        "#include <bits/stdc++.h>\n",
        "using namespace std;\n",
        "\n",
        "int main() {\n",
        "  int N;\n",
        "  cin >> N;\n",
        "\n",
        "  if ((N%10==N/10%10 && N/10%10==N/100%10 && N%10==N/100%10) || (N/10%10==N/100%10 && N/100%10==N/1000%10 && N/10%10==N/1000%10)) cout << \"Yes\" << endl;\n",
        "  else cout << \"No\" << endl;\n",
        "\n",
        "}"
      ],
      "metadata": {
        "id": "FXaE6-mpGwOh",
        "outputId": "fd855231-df3a-409e-e86a-9a9f3e730c8c",
        "colab": {
          "base_uri": "https://localhost:8080/"
        }
      },
      "execution_count": null,
      "outputs": [
        {
          "output_type": "stream",
          "name": "stdout",
          "text": [
            "Overwriting temp.cpp\n"
          ]
        }
      ]
    },
    {
      "cell_type": "code",
      "source": [
        "!g++ temp.cpp -o temp; echo 1118 | ./temp\n",
        "!g++ temp.cpp -o temp; echo 7777 | ./temp\n",
        "!g++ temp.cpp -o temp; echo 1777 | ./temp\n",
        "!g++ temp.cpp -o temp; echo 1234 | ./temp"
      ],
      "metadata": {
        "id": "5ELaULTqGwDh",
        "outputId": "3f7c5545-f275-4e08-cfd8-4347c471d557",
        "colab": {
          "base_uri": "https://localhost:8080/"
        }
      },
      "execution_count": null,
      "outputs": [
        {
          "output_type": "stream",
          "name": "stdout",
          "text": [
            "Yes\n",
            "Yes\n",
            "Yes\n",
            "No\n"
          ]
        }
      ]
    },
    {
      "cell_type": "code",
      "source": [
        "# 問題\n",
        "# EX7 - bool値パズル\n",
        "# 次のプログラムで宣言されているbool型の変数a, b, cに対し、trueまたはfalseを代入することで、AtCoderと出力されるようにしてください。\n",
        "# 5,6,7行目における変数a,b,cへの代入以外のプログラムの書き換えは行わないものとします。\n",
        "%%writefile temp.cpp\n",
        "#include <bits/stdc++.h>\n",
        "using namespace std;\n",
        "\n",
        "int main() {\n",
        "  // 変数a,b,cにtrueまたはfalseを代入してAtCoderと出力されるようにする。\n",
        "  bool a = true; // true または false\n",
        "  bool b = false; // true または false\n",
        "  bool c = true; // true または false\n",
        "\n",
        "  // ここから先は変更しないこと\n",
        "\n",
        "  if (a) {\n",
        "    cout << \"At\";\n",
        "  }\n",
        "  else {\n",
        "    cout << \"Yo\";\n",
        "  }\n",
        "\n",
        "  if (!a && b) {\n",
        "    cout << \"Bo\";\n",
        "  }\n",
        "  else if (!b || c) {\n",
        "    cout << \"Co\";\n",
        "  }\n",
        "\n",
        "  if (a && b && c) {\n",
        "    cout << \"foo!\";\n",
        "  }\n",
        "  else if (true && false) {\n",
        "    cout << \"yeah!\";\n",
        "  }\n",
        "  else if (!a || c) {\n",
        "    cout << \"der\";\n",
        "  }\n",
        "\n",
        "  cout << endl;\n",
        "}\n"
      ],
      "metadata": {
        "id": "OQFlJbGyKwY8",
        "outputId": "339d9415-3ce5-4f85-a3b2-3bce76889eb4",
        "colab": {
          "base_uri": "https://localhost:8080/"
        }
      },
      "execution_count": null,
      "outputs": [
        {
          "output_type": "stream",
          "name": "stdout",
          "text": [
            "Overwriting temp.cpp\n"
          ]
        }
      ]
    },
    {
      "cell_type": "code",
      "source": [
        "!g++ temp.cpp -o temp; ./temp"
      ],
      "metadata": {
        "id": "kRVrtmj8KwPu",
        "outputId": "d02c9685-50a1-4e3c-dad3-1a8e9564757f",
        "colab": {
          "base_uri": "https://localhost:8080/"
        }
      },
      "execution_count": null,
      "outputs": [
        {
          "output_type": "stream",
          "name": "stdout",
          "text": [
            "AtCoder\n"
          ]
        }
      ]
    },
    {
      "cell_type": "markdown",
      "source": [
        "---\n",
        "問題 EX8 - たこ焼きセット \n",
        "\n",
        "A君はたこ焼きの情報を処理するプログラムを書いています。  \n",
        "このプログラムは以下の2パターンの入力を処理します。  \n",
        "\n",
        "パターン1  \n",
        "1行目で、パターンを表す整数1が入力されます。  \n",
        "2行目で、たこ焼き1個あたりの値段priceが入力されます。  \n",
        "3行目で、たこ焼き1セットあたりの個数Nが入力されます。  \n",
        "  \n",
        "出力 たこ焼き1セットあたりの値段(=N×price)を出力します。  \n",
        "\n",
        "パターン2  \n",
        "1行目で、パターンを表す整数2が入力されます。  \n",
        "2行目で、たこ焼きセットの説明文textが入力されます。  \n",
        "3行目で、たこ焼き1個あたりの値段priceが入力されます。  \n",
        "4行目で、たこ焼き1セットあたりの個数Nが入力されます。  \n",
        "  \n",
        "出力  \n",
        "1行目で、たこ焼きセットの説明文textの末尾に!をつけて出力します。  \n",
        "2行目で、たこ焼き1セット辺りの値段(=N×price)を出力します。  "
      ],
      "metadata": {
        "id": "hxkEUGgaikEq"
      }
    },
    {
      "cell_type": "code",
      "source": [
        "# エラーを修正し正しいプログラムにする\n",
        "%%writefile temp.cpp\n",
        "#include <bits/stdc++.h>\n",
        "using namespace std;\n",
        "int main() {\n",
        "  int p, price, N;\n",
        "  string text;\n",
        "  cin >> p;\n",
        "\n",
        "  // パターン1\n",
        "  if (p == 1) {\n",
        "    cin >> price >> N;\n",
        "    cout << price * N << endl;\n",
        "  }\n",
        "\n",
        "  // パターン2\n",
        "  if (p == 2) {\n",
        "    cin >> text >> price >> N;\n",
        "    cout << text << \"!\" << endl;\n",
        "    cout << price * N << endl;\n",
        "  }\n",
        "}"
      ],
      "metadata": {
        "id": "stLLCllVhP25",
        "outputId": "17f641e8-d3e2-432a-82ed-6efa2cd608c8",
        "colab": {
          "base_uri": "https://localhost:8080/"
        }
      },
      "execution_count": null,
      "outputs": [
        {
          "output_type": "stream",
          "name": "stdout",
          "text": [
            "Overwriting temp.cpp\n"
          ]
        }
      ]
    },
    {
      "cell_type": "code",
      "source": [
        "!g++ temp.cpp -o temp; echo 1 80 5 |./temp\n",
        "!g++ temp.cpp -o temp; echo 2 umai 150 3 |./temp\n",
        "!g++ temp.cpp -o temp; echo 2 good! 30 8 |./temp"
      ],
      "metadata": {
        "id": "3_Evn1u-gAO_",
        "outputId": "0e35d88d-0184-46d9-9d6e-e6bc97eaa38f",
        "colab": {
          "base_uri": "https://localhost:8080/"
        }
      },
      "execution_count": null,
      "outputs": [
        {
          "output_type": "stream",
          "name": "stdout",
          "text": [
            "400\n",
            "umai!\n",
            "450\n",
            "good!!\n",
            "240\n"
          ]
        }
      ]
    },
    {
      "cell_type": "code",
      "source": [
        "# 問題\n",
        "# EX9 - 複合代入演算子を使おう \n",
        "# 整数x,a,bが入力されます。\n",
        "# 以下の4つの値を計算し、1行ずつ出力してください。\n",
        "# xに1を足した値\n",
        "# (1.で出力した値)に(a+b)を掛けた値\n",
        "# (2.で出力した値)に(2.で出力した値)を掛けた値\n",
        "# (3.で出力した値)から1を引いた値\n",
        "%%writefile temp.cpp\n",
        "#include <bits/stdc++.h>\n",
        "using namespace std;\n",
        "\n",
        "int main() {\n",
        "  int x, a, b;\n",
        "  cin >> x >> a >> b;\n",
        "\n",
        "  // 1.の出力\n",
        "  x++;\n",
        "  cout << x << endl;\n",
        "\n",
        "  // ここにプログラムを追記\n",
        "  // 2\n",
        "  x *= (a+b);\n",
        "  cout << x << endl;\n",
        "  // 3\n",
        "  x *=x ; \n",
        "  cout << x << endl;\n",
        "  // 4\n",
        "  x--;\n",
        "  cout << x << endl;\n",
        "}\n"
      ],
      "metadata": {
        "id": "0SuRIMo4iZyh",
        "outputId": "da767863-3298-41fb-d08b-749178e0c6ac",
        "colab": {
          "base_uri": "https://localhost:8080/"
        }
      },
      "execution_count": null,
      "outputs": [
        {
          "output_type": "stream",
          "name": "stdout",
          "text": [
            "Overwriting temp.cpp\n"
          ]
        }
      ]
    },
    {
      "cell_type": "code",
      "source": [
        "!g++ temp.cpp -o temp; echo 1 2 3 |./temp\n",
        "!g++ temp.cpp -o temp; echo 3 2 5 |./temp"
      ],
      "metadata": {
        "id": "WelnJMbbiZop"
      },
      "execution_count": null,
      "outputs": []
    },
    {
      "cell_type": "code",
      "source": [
        "# 問題\n",
        "# EX10 - 棒グラフの出力 \n",
        "# AさんとBさんのテストの点数A,Bが与えられます。\n",
        "# 2人の点数を表す横向きの棒グラフを出力してください。\n",
        "# 棒グラフは1点を一つの]で表します。\n",
        "%%writefile temp.cpp\n",
        "#include <bits/stdc++.h>\n",
        "using namespace std;\n",
        " \n",
        "int main() {\n",
        "  int A, B;\n",
        "  cin >> A >> B;\n",
        " \n",
        "  // ここにプログラムを追記\n",
        "  cout << \"A:\" ;\n",
        "  for (int i = 0; i < A; i++) cout << \"]\";\n",
        "  cout << endl;\n",
        "  cout << \"B:\" ;\n",
        "  for (int i = 0; i < B; i++) cout << \"]\";\n",
        "  cout << endl;\n",
        "}"
      ],
      "metadata": {
        "id": "NaxUwbp_3Hup",
        "outputId": "7c9b9101-cfc8-4fc6-bedd-494a84126939",
        "colab": {
          "base_uri": "https://localhost:8080/"
        }
      },
      "execution_count": null,
      "outputs": [
        {
          "output_type": "stream",
          "name": "stdout",
          "text": [
            "Overwriting temp.cpp\n"
          ]
        }
      ]
    },
    {
      "cell_type": "code",
      "source": [
        "!g++ temp.cpp -o temp; echo 5 9 |./temp\n",
        "!g++ temp.cpp -o temp; echo 0 20 |./temp"
      ],
      "metadata": {
        "id": "LZtc9s_n3HmI",
        "outputId": "cac74ba9-5d87-4971-9179-7a5539e6479f",
        "colab": {
          "base_uri": "https://localhost:8080/"
        }
      },
      "execution_count": null,
      "outputs": [
        {
          "output_type": "stream",
          "name": "stdout",
          "text": [
            "A:]]]]]\n",
            "B:]]]]]]]]]\n",
            "A:\n",
            "B:]]]]]]]]]]]]]]]]]]]]\n"
          ]
        }
      ]
    },
    {
      "cell_type": "code",
      "source": [
        "# 問題\n",
        "# EX11 - 電卓をつくろう2 \n",
        "# 電卓の操作が与えられるので、計算途中の値と計算結果の値を出力してください。\n",
        "# 電卓の操作は次の形式で入力されます。\n",
        "# 入力の形式\n",
        "# 計算の数N\n",
        "# 最初の値A\n",
        "# 演算子op 計算する値B ...\n",
        "# 次の入力は((2+1)×3)÷2を表しています。\n",
        "# 3 2 + 1 * 3 / 2\n",
        "# 出力では「何行目の出力か」と、「計算途中の値」を出力してください。\n",
        "%%writefile temp.cpp\n",
        "#include <bits/stdc++.h>\n",
        "using namespace std;\n",
        "\n",
        "int main() {\n",
        "  int N, A;\n",
        "  cin >> N >> A;\n",
        "  string op;\n",
        "  int  B;\n",
        "\n",
        "  // ここにプログラムを追記\n",
        "  for (int i = 0; i < N; i++) {\n",
        "    cin >> op >> B;\n",
        "    if (op == \"+\") {cout << i + 1 << \":\" << (A += B) << endl; continue;}\n",
        "    else if (op == \"-\") {cout << i + 1 << \":\" << (A -= B) << endl; continue;}\n",
        "    else if (op == \"*\") {cout << i + 1 << \":\" << (A *= B) << endl; continue;}\n",
        "    else if (op == \"/\" && B != 0) {cout << i + 1 << \":\" << (A /= B) << endl; continue;}\n",
        "    else {cout << \"error\" << endl; break;}\n",
        "  }\n",
        "}"
      ],
      "metadata": {
        "id": "4ViGJc7z53Q2",
        "colab": {
          "base_uri": "https://localhost:8080/"
        },
        "outputId": "34893391-7dbd-45d7-e7c8-9fe2bc041877"
      },
      "execution_count": null,
      "outputs": [
        {
          "output_type": "stream",
          "name": "stdout",
          "text": [
            "Overwriting temp.cpp\n"
          ]
        }
      ]
    },
    {
      "cell_type": "code",
      "source": [
        "!g++ temp.cpp -o temp; echo \"3 2 + 1 * 3 / 2\" |./temp\n",
        "!g++ temp.cpp -o temp; echo \"2 3 / 2 / 2\" |./temp\n",
        "!g++ temp.cpp -o temp; echo \"4 3 + 1 / 0 * 2 - 10\" |./temp\n",
        "!g++ temp.cpp -o temp; echo \"7 10 * 10 * 10 * 10 * 10 * 10 * 10 * 10\" |./temp"
      ],
      "metadata": {
        "id": "PMcBu-QO53Ic",
        "colab": {
          "base_uri": "https://localhost:8080/"
        },
        "outputId": "4d0830fb-6b28-4484-de6b-38cc1804ce93"
      },
      "execution_count": null,
      "outputs": [
        {
          "output_type": "stream",
          "name": "stdout",
          "text": [
            "1:3\n",
            "2:9\n",
            "3:4\n",
            "1:1\n",
            "2:0\n",
            "1:4\n",
            "error\n",
            "1:100\n",
            "2:1000\n",
            "3:10000\n",
            "4:100000\n",
            "5:1000000\n",
            "6:10000000\n",
            "7:100000000\n"
          ]
        }
      ]
    },
    {
      "cell_type": "code",
      "source": [
        "# 問題\n",
        "# B - Hina Arare\n",
        "# 日本では、3 月 3 日にひなあられという、色のついたお菓子をお供えする習慣があります。\n",
        "# 1 つの袋があり、ひなあられが N 個入っています。\n",
        "# この袋には、桃色、白色、緑色の 3 種類か、桃色、白色、緑色、黄色の 4 種類のひなあられが入っていることが分かっています。\n",
        "# この袋に 3 種類のひなあられが入っていた場合は Three、4 種類のひなあられが入っていた場合は Four と出力してください。\n",
        "%%writefile temp.cpp\n",
        "#include <bits/stdc++.h>\n",
        "using namespace std;\n",
        "\n",
        "int main() {\n",
        "  int N, P, W, G, Y;\n",
        "  string color;\n",
        "  cin >> N;\n",
        "  P = W = G = Y = 0;\n",
        "  for (int i = 0; i < N; i++) {\n",
        "      cin >> color;\n",
        "      if (color == \"P\") P = 1;\n",
        "      if (color == \"W\") W = 1;\n",
        "      if (color == \"G\") G = 1;\n",
        "      if (color == \"Y\") Y = 1;\n",
        "  }\n",
        "\n",
        "  if (P+W+G+Y == 3) cout << \"Three\" << endl;\n",
        "  else if (P+W+G+Y == 4) cout << \"Four\" << endl;\n",
        "  else cout << \"error\" << endl;\n",
        "}"
      ],
      "metadata": {
        "colab": {
          "base_uri": "https://localhost:8080/"
        },
        "id": "MmB96hl9QBLh",
        "outputId": "5e66ecde-b545-4447-91ac-4eb9a6d47fb4"
      },
      "execution_count": null,
      "outputs": [
        {
          "output_type": "stream",
          "name": "stdout",
          "text": [
            "Overwriting temp.cpp\n"
          ]
        }
      ]
    },
    {
      "cell_type": "code",
      "source": [
        "!g++ temp.cpp -o temp; echo 6 G W Y P Y W |./temp\n",
        "!g++ temp.cpp -o temp; echo 9 G W W G P W P G G |./temp\n",
        "!g++ temp.cpp -o temp; echo 8 P Y W G Y W Y Y |./temp"
      ],
      "metadata": {
        "colab": {
          "base_uri": "https://localhost:8080/"
        },
        "id": "Eq6ty-_sjwbR",
        "outputId": "955e04e2-0601-4a49-cd81-e2e150d99f5e"
      },
      "execution_count": null,
      "outputs": [
        {
          "output_type": "stream",
          "name": "stdout",
          "text": [
            "4:Four\n",
            "3:Three\n",
            "4:Four\n"
          ]
        }
      ]
    },
    {
      "cell_type": "code",
      "source": [
        "# 問題\n",
        "# B - Theater\n",
        "# joisinoお姉ちゃんは、劇場の受付を担当しています。\n",
        "# この劇場には、席 1 から席 100000 までの、100000 個の席があります。\n",
        "# 彼女のメモ書きによると、今までの間に N 組の団体が来て、i 組目の団体は席 l_i から席 r_i までの連続した席に座っています。\n",
        "# 今、劇場の席には何人座っているか求めてください。\n",
        "%%writefile temp.cpp\n",
        "#include <bits/stdc++.h>\n",
        "using namespace std;\n",
        "\n",
        "int main() {\n",
        "  int N, l, r, sum;\n",
        "  cin >> N;\n",
        "  sum = 0;\n",
        "  for (int i = 0; i < N; i++) {\n",
        "      cin >> l >> r;\n",
        "      sum += r-l+1;\n",
        "  }\n",
        "\n",
        "  cout << sum << endl;\n",
        "}"
      ],
      "metadata": {
        "colab": {
          "base_uri": "https://localhost:8080/"
        },
        "id": "cK0sM6FDosbu",
        "outputId": "e61feabe-1a93-469a-f9b7-4f239f974f3f"
      },
      "execution_count": null,
      "outputs": [
        {
          "output_type": "stream",
          "name": "stdout",
          "text": [
            "Overwriting temp.cpp\n"
          ]
        }
      ]
    },
    {
      "cell_type": "code",
      "source": [
        "!g++ temp.cpp -o temp; echo 1 24 30 |./temp\n",
        "!g++ temp.cpp -o temp; echo 2 6 8 3 3 |./temp"
      ],
      "metadata": {
        "colab": {
          "base_uri": "https://localhost:8080/"
        },
        "id": "HiI1KvyaosRP",
        "outputId": "3635e027-de7c-4ef7-be51-20e0ab4733b7"
      },
      "execution_count": null,
      "outputs": [
        {
          "output_type": "stream",
          "name": "stdout",
          "text": [
            "7\n",
            "4\n"
          ]
        }
      ]
    },
    {
      "cell_type": "code",
      "source": [
        "# 問題\n",
        "# B - Harshad Number\n",
        "# 整数 X を十進法で表したときの各桁の数字の和を f(X) としたとき、X が f(X) で割り切れる場合、X はハーシャッド数です。\n",
        "# 整数 N が与えられるので、ハーシャッド数かどうか判定してください。\n",
        "# N がハージャッド数ならば Yes を、そうでなければ No を出力せよ。\n",
        "%%writefile temp.cpp\n",
        "#include <bits/stdc++.h>\n",
        "using namespace std;\n",
        "\n",
        "int main() {\n",
        "  int N, N2, digit;\n",
        "  cin >> N;\n",
        "  N2 = N;\n",
        "  digit = 0;\n",
        "  for (int i = 0; i < 8 ; i++){\n",
        "      digit += N % 10;\n",
        "      N /= 10;\n",
        "  }\n",
        "  if (N2 % digit == 0) cout << \"Yes\" << endl;\n",
        "  else cout << \"No\" << endl;\n",
        "}"
      ],
      "metadata": {
        "colab": {
          "base_uri": "https://localhost:8080/"
        },
        "id": "Zo5e3tkzprSu",
        "outputId": "15ee642d-11a5-4327-ec35-5409fe85908f"
      },
      "execution_count": null,
      "outputs": [
        {
          "output_type": "stream",
          "name": "stdout",
          "text": [
            "Overwriting temp.cpp\n"
          ]
        }
      ]
    },
    {
      "cell_type": "code",
      "source": [
        "!g++ temp.cpp -o temp; echo 12 |./temp\n",
        "!g++ temp.cpp -o temp; echo 57 |./temp\n",
        "!g++ temp.cpp -o temp; echo 148 |./temp"
      ],
      "metadata": {
        "colab": {
          "base_uri": "https://localhost:8080/"
        },
        "id": "HfkQkcQSpr5d",
        "outputId": "044c41c0-1908-4180-af49-2957c0ec2e0d"
      },
      "execution_count": null,
      "outputs": [
        {
          "output_type": "stream",
          "name": "stdout",
          "text": [
            "Yes\n",
            "No\n",
            "No\n"
          ]
        }
      ]
    },
    {
      "cell_type": "code",
      "source": [
        "# 問題\n",
        "# B - Addition and Multiplication\n",
        "# square1001 は、電光掲示板に整数 1 が表示されているのを見ました。\n",
        "# 彼は、電光掲示板に対して、以下の操作 A, 操作 B をすることができます。\n",
        "# 操作 A： 電光掲示板に表示する整数を「今の電光掲示板の整数を 2 倍にしたもの」に変える。\n",
        "# 操作 B： 電光掲示板に表示する整数を「今の電光掲示板の整数に K を足したもの」に変える。\n",
        "# square1001 は、操作 A, 操作 B 合計で N 回 行わなければなりません。 そのとき、N 回の操作後の、電光掲# 示板に書かれている整数として考えられる最小の値を求めなさい。\n",
        "%%writefile temp.cpp\n",
        "#include <bits/stdc++.h>\n",
        "using namespace std;\n",
        "\n",
        "int main() {\n",
        "  int N, K, sum;\n",
        "  cin >> N >> K;\n",
        "  sum = 1;\n",
        "  for (int i = 0; i < N ; i++){\n",
        "      if ((sum*2) < sum+K) sum *= 2;\n",
        "      else sum += K; \n",
        "  }\n",
        "  cout << sum << endl;\n",
        "}"
      ],
      "metadata": {
        "colab": {
          "base_uri": "https://localhost:8080/"
        },
        "id": "D4Fl9FpF0HpW",
        "outputId": "7d068395-0e55-456a-9713-9895f9147115"
      },
      "execution_count": null,
      "outputs": [
        {
          "output_type": "stream",
          "name": "stdout",
          "text": [
            "Overwriting temp.cpp\n"
          ]
        }
      ]
    },
    {
      "cell_type": "code",
      "source": [
        "!g++ temp.cpp -o temp; echo 4 3 |./temp\n",
        "!g++ temp.cpp -o temp; echo 10 10 |./temp"
      ],
      "metadata": {
        "colab": {
          "base_uri": "https://localhost:8080/"
        },
        "id": "338Idcwd0IDK",
        "outputId": "c0827b08-03c2-49dc-a412-70cf9d9606c4"
      },
      "execution_count": null,
      "outputs": [
        {
          "output_type": "stream",
          "name": "stdout",
          "text": [
            "10\n",
            "76\n"
          ]
        }
      ]
    },
    {
      "cell_type": "code",
      "source": [
        "# 問題\n",
        "# B - Collecting Balls (Easy Version)\n",
        "# xy 平面上に N 個のボールがあります。このうち i 番目のボールの位置は (x_i,i) です。 \n",
        "# したがって、N 本の直線 y=1, y=2, ..., y=N の上にそれぞれ 1 個ずつボールがあることになります。\n",
        "# すぬけ君は、これらのボールを回収するために、タイプ A, B のロボットを N 台ずつ用意しました。 \n",
        "# さらに、タイプ A のロボットのうち i 台目のものを位置 (0,i) に、タイプ B のロボットのうち i 台目のものを\n",
        "# 位置 (K,i) に設置しました。 したがって、N 本の直線 y=1, y=2, ..., y=N の上に\n",
        "# それぞれ 1 台のタイプ A のロボットと、1 台のタイプ B のロボットが設置されたことになります。\n",
        "# それぞれのタイプのロボットは起動されると以下のように動作します。\n",
        "# タイプ A のロボットは、位置 (0,a) で起動されると、直線 y=a 上にあるボールの位置まで移動し、\n",
        "# ボールを回収してもとの位置 (0,a) に戻って停止する。そのようなボールが存在しない場合は何もせずに停止する。\n",
        "# タイプ B のロボットは、位置 (K,b) で起動されると、直線 y=b 上にあるボールの位置まで移動し、\n",
        "# ボールを回収してもとの位置 (K,b) に戻って停止する。そのようなボールが存在しない場合は何もせずに停止する。\n",
        "# これら 2N 台のロボットのうちいくつかを起動してボールをすべて回収するとき、ロボットの\n",
        "# 移動距離の総和として考えられる値のうち最小のものを求めてください。\n",
        "%%writefile temp.cpp\n",
        "#include <bits/stdc++.h>\n",
        "using namespace std;\n",
        "\n",
        "int main() {\n",
        "  int N, K, sum;\n",
        "  cin >> N >> K;\n",
        "  sum = 0;\n",
        "  for (int i = 0; i < N ; i++){\n",
        "      int x;\n",
        "      cin >> x;\n",
        "      if (x < K-x) sum += x*2;\n",
        "      else sum += (K-x)*2;\n",
        "  }\n",
        "  cout << sum << endl;\n",
        "}\n"
      ],
      "metadata": {
        "id": "YxIVbzf6eEmq",
        "colab": {
          "base_uri": "https://localhost:8080/"
        },
        "outputId": "d73178d9-389a-4602-9926-49cc8dc0fe2c"
      },
      "execution_count": null,
      "outputs": [
        {
          "output_type": "stream",
          "name": "stdout",
          "text": [
            "Overwriting temp.cpp\n"
          ]
        }
      ]
    },
    {
      "cell_type": "code",
      "source": [
        "!g++ temp.cpp -o temp; echo 1 10 2 |./temp\n",
        "!g++ temp.cpp -o temp; echo 2 9 3 6 |./temp\n",
        "!g++ temp.cpp -o temp; echo 5 20 11 12 9 17 12 |./temp"
      ],
      "metadata": {
        "id": "5z9aCYSVeEaU",
        "colab": {
          "base_uri": "https://localhost:8080/"
        },
        "outputId": "f069c519-fd0d-4295-c4a8-15a42ee5d233"
      },
      "execution_count": null,
      "outputs": [
        {
          "output_type": "stream",
          "name": "stdout",
          "text": [
            "4\n",
            "12\n",
            "74\n"
          ]
        }
      ]
    },
    {
      "cell_type": "code",
      "source": [
        "# 問題\n",
        "# B - Palindromic Numbers\n",
        "# A 以上 B 以下の整数のうち、回文数となるものの個数を求めてください。 \n",
        "# 回文数とは、先頭に 0 をつけない 10 進表記を文字列として見たとき、\n",
        "# 前から読んでも後ろから読んでも同じ文字列となるような正の整数のことを指します。\n",
        "# 11009 11332 => 4\n",
        "# 31415 92653 => 612\n",
        "\n",
        "%%writefile temp.cpp\n",
        "#include <bits/stdc++.h>\n",
        "using namespace std;\n",
        "#define rep(i, n) for (int i = 0; i < (int)(n); i++)\n",
        "\n",
        "bool isPalindrome(int orig) {\n",
        "  int digit, rev, num ;\n",
        "  digit = rev = 0;  \n",
        "  num = orig;\n",
        "  rep(i, 10){\n",
        "    digit = num % 10;\n",
        "    rev = (rev * 10) + digit;\n",
        "    num = num / 10;\n",
        "    if (num == 0 ) break;\n",
        "  }\n",
        "  return (orig == rev);\n",
        "};\n",
        "\n",
        "int main() {\n",
        "  int A, B, count , diff ;\n",
        "  cin >> A >> B ;\n",
        "  count = 0;\n",
        "  diff = B - A;\n",
        "  rep(i, diff + 1) {\n",
        "    if (isPalindrome(A+i)) { count += 1; }\n",
        "  }\n",
        "  cout << count << endl;\n",
        "}"
      ],
      "metadata": {
        "id": "_8r2vg5ojC-y",
        "outputId": "d5cdacf4-ca0c-4201-8224-4b7fe48ee336",
        "colab": {
          "base_uri": "https://localhost:8080/"
        }
      },
      "execution_count": null,
      "outputs": [
        {
          "output_type": "stream",
          "name": "stdout",
          "text": [
            "Overwriting temp.cpp\n"
          ]
        }
      ]
    },
    {
      "cell_type": "code",
      "source": [
        "!g++ temp.cpp -o temp; echo 11009 11332 | ./temp\n",
        "!g++ temp.cpp -o temp; echo 31415 92653 | ./temp"
      ],
      "metadata": {
        "id": "QDNOIByfjdaH",
        "outputId": "ec3d7822-8e06-47ff-9a81-fa1fe9307ca6",
        "colab": {
          "base_uri": "https://localhost:8080/"
        }
      },
      "execution_count": null,
      "outputs": [
        {
          "output_type": "stream",
          "name": "stdout",
          "text": [
            "4\n",
            "612\n"
          ]
        }
      ]
    },
    {
      "cell_type": "code",
      "source": [
        "# 問題\n",
        "# B - Shift only\n",
        "# 黒板に N 個の正の整数 A が書かれています．\n",
        "# すぬけ君は，黒板に書かれている整数がすべて偶数であるとき，次の操作を行うことができます．\n",
        "# 黒板に書かれている整数すべてを，2 で割ったものに置き換える．\n",
        "# すぬけ君は最大で何回操作を行うことができるかを求めてください．\n",
        "# 3 8 12 40 #=> 2\n",
        "# 4 5 6 8 10 #=> 0\n",
        "# 6 382253568 723152896 37802240 379425024 404894720 471526144 #=> 8\n",
        "\n",
        "%%writefile temp.cpp\n",
        "#include <bits/stdc++.h>\n",
        "using namespace std;\n",
        "\n",
        "int mult2(int x){\n",
        "    if(x==0) return 0;\n",
        "    else if(x%2 != 0) return 0;\n",
        "    else return (1 + mult2(x/=2));\n",
        "}\n",
        "\n",
        "int main() {\n",
        "  int N, A, count;\n",
        "  cin >> N;\n",
        "  count = 1000;\n",
        "  for(int i=0;i<N;i++){\n",
        "      cin >> A;\n",
        "      int count2 = 0;\n",
        "      count2 = mult2(A);\n",
        "      if (count2 < count) count = count2;\n",
        "  }\n",
        "  cout << count << endl;\n",
        "}"
      ],
      "metadata": {
        "colab": {
          "base_uri": "https://localhost:8080/"
        },
        "id": "1FRU3VlaAtKI",
        "outputId": "339ab94b-1889-4dec-df28-ad0740854858"
      },
      "execution_count": null,
      "outputs": [
        {
          "output_type": "stream",
          "name": "stdout",
          "text": [
            "Overwriting temp.cpp\n"
          ]
        }
      ]
    },
    {
      "cell_type": "code",
      "source": [
        "!g++ temp.cpp -o temp; echo 1 8 | ./temp\n",
        "!g++ temp.cpp -o temp; echo 3 8 12 40 | ./temp\n",
        "!g++ temp.cpp -o temp; echo 4 5 6 8 10 | ./temp\n",
        "!g++ temp.cpp -o temp; echo 6 382253568 723152896 37802240 379425024 404894720 471526144 | ./temp"
      ],
      "metadata": {
        "colab": {
          "base_uri": "https://localhost:8080/"
        },
        "id": "FAxhL1wMAtBt",
        "outputId": "d612d3b5-7a31-4c6d-dae9-9133c40ecd0f"
      },
      "execution_count": null,
      "outputs": [
        {
          "output_type": "stream",
          "name": "stdout",
          "text": [
            "3\n",
            "2\n",
            "0\n",
            "8\n"
          ]
        }
      ]
    },
    {
      "cell_type": "markdown",
      "source": [
        "# M - 1.12.文字列と文字 "
      ],
      "metadata": {
        "id": "TvRVfEXpifZ1"
      }
    },
    {
      "cell_type": "code",
      "source": [
        "# 問題\n",
        "# EX12 - 足したり引いたり  \n",
        "# 1と+と-のみからなる式Sが1行で与えられるので、計算結果を出力してください。\n",
        "# 例えば式Sが1+1+1-1であったとき、計算結果は2です。\n",
        "# * 式Sの1文字目は必ず1です。\n",
        "# * その後、「+または−」と1が交互に続きます。\n",
        "# * Sの最後の文字も必ず1です。\n",
        "\n",
        "%%writefile temp.cpp\n",
        "#include <bits/stdc++.h>\n",
        "using namespace std;\n",
        "\n",
        "int main() {\n",
        "  string  S ;\n",
        "  int result ;\n",
        "  cin >> S ;\n",
        "  result = 1;\n",
        "  for(int i=0;i < S.size(); i++) {\n",
        "    if (S.at(i) == '+')  result += 1; \n",
        "    else if (S.at(i) == '-') result -= 1;\n",
        "  }\n",
        "  cout << result << endl;\n",
        "}"
      ],
      "metadata": {
        "id": "GC-B1E-KiPlK",
        "outputId": "b39c96c0-03c2-4a5b-c52c-28c4e8dcabc4",
        "colab": {
          "base_uri": "https://localhost:8080/"
        }
      },
      "execution_count": null,
      "outputs": [
        {
          "output_type": "stream",
          "name": "stdout",
          "text": [
            "Overwriting temp.cpp\n"
          ]
        }
      ]
    },
    {
      "cell_type": "code",
      "source": [
        "!g++ temp.cpp -o temp; echo 1+1+1-1 | ./temp"
      ],
      "metadata": {
        "id": "LvjAI6tKpD1e",
        "outputId": "8c468e64-6278-4921-d9d2-51ac9f1c5deb",
        "colab": {
          "base_uri": "https://localhost:8080/"
        }
      },
      "execution_count": null,
      "outputs": [
        {
          "output_type": "stream",
          "name": "stdout",
          "text": [
            "2\n"
          ]
        }
      ]
    },
    {
      "cell_type": "code",
      "source": [
        "# 問題\n",
        "# A - 居合を終え、青い絵を覆う\n",
        "# 英小文字 c が与えられるので、c が母音であるか判定してください。ここで、英小文字のうち母音は a、e、i、o、uの 5 つです。\n",
        "# c が母音であるとき、vowel と、そうでないとき consonant と出力せよ。\n",
        "# 入力 a => vowel\n",
        "\n",
        "%%writefile temp.cpp\n",
        "#include <bits/stdc++.h>\n",
        "using namespace std;\n",
        "\n",
        "int main() {\n",
        "  char c;\n",
        "  cin >> c;\n",
        "  bool aiueo = false;\n",
        "  string vowels = \"aeiou\";\n",
        "  for(int i=0; i < vowels.size(); i++){\n",
        "      if(vowels.at(i) == c) aiueo = true;\n",
        "  }\n",
        "  if(aiueo) cout << \"vowel\" << endl;\n",
        "  else cout << \"consonant\" << endl;\n",
        "}\n",
        "\n"
      ],
      "metadata": {
        "id": "V1qooVcYuxnN",
        "outputId": "26b785fc-8182-4c74-c016-0f7cf22247b8",
        "colab": {
          "base_uri": "https://localhost:8080/"
        }
      },
      "execution_count": null,
      "outputs": [
        {
          "output_type": "stream",
          "name": "stdout",
          "text": [
            "Overwriting temp.cpp\n"
          ]
        }
      ]
    },
    {
      "cell_type": "code",
      "source": [
        "!g++ temp.cpp -o temp; echo a | ./temp\n",
        "!g++ temp.cpp -o temp; echo b | ./temp"
      ],
      "metadata": {
        "id": "Rrj5MewEwHjZ",
        "outputId": "0257580d-216f-4ba6-d3e3-c9e560f810c8",
        "colab": {
          "base_uri": "https://localhost:8080/"
        }
      },
      "execution_count": null,
      "outputs": [
        {
          "output_type": "stream",
          "name": "stdout",
          "text": [
            "vowel\n",
            "consonant\n"
          ]
        }
      ]
    },
    {
      "cell_type": "code",
      "source": [
        "# 問題\n",
        "# A - AtCoder *** Contest\n",
        "# すぬけ君は、AtCoder s Contest という名前のコンテストを開こうとしています。 \n",
        "# ここで、s は長さ 1 以上の文字列であり、1 文字目は英大文字、2 文字目以降は英小文字です。\n",
        "# すぬけ君は、このコンテストの略称を AxC に決めました。 ここで、x は s の先頭の英大文字です。\n",
        "# コンテストの名前が与えられるので、コンテストの略称を出力してください。\n",
        "# AtCoder Beginner Contest => ABC\n",
        "# AtCoder Snuke Contest => ASC\n",
        "# AtCoder X Contest => AXC\n",
        "\n",
        "%%writefile temp.cpp\n",
        "#include <bits/stdc++.h>\n",
        "using namespace std;\n",
        "\n",
        "int main() {\n",
        "  string str1, str2, str3;\n",
        "  cin >> str1 >> str2 >> str3;\n",
        "  cout << str1.at(0) << str2.at(0) << str3.at(0) << endl;\n",
        "}"
      ],
      "metadata": {
        "id": "yCmoBceXw187",
        "outputId": "e26b8867-ae4d-430f-9d67-5e9aaec8f9ad",
        "colab": {
          "base_uri": "https://localhost:8080/"
        }
      },
      "execution_count": null,
      "outputs": [
        {
          "output_type": "stream",
          "name": "stdout",
          "text": [
            "Overwriting temp.cpp\n"
          ]
        }
      ]
    },
    {
      "cell_type": "code",
      "source": [
        "!g++ temp.cpp -o temp; echo AtCoder Beginner Contest | ./temp\n",
        "!g++ temp.cpp -o temp; echo AtCoder Snuke Contest | ./temp\n",
        "!g++ temp.cpp -o temp; echo AtCoder X Contest | ./temp"
      ],
      "metadata": {
        "id": "NTU6K8RCw11J",
        "outputId": "59fd6347-13e5-4fbb-ae15-b21bd3f2ba86",
        "colab": {
          "base_uri": "https://localhost:8080/"
        }
      },
      "execution_count": null,
      "outputs": [
        {
          "output_type": "stream",
          "name": "stdout",
          "text": [
            "ABC\n",
            "ASC\n",
            "AXC\n"
          ]
        }
      ]
    },
    {
      "cell_type": "code",
      "source": [
        "# 問題\n",
        "# A - Addition and Subtraction Easy\n",
        "# joisinoお姉ちゃんは、A op B という式の値を計算したいと思っています。 ここで、A,B は整数で、\n",
        "# op は、+ または - の記号です。 \n",
        "# 入力は以下の形式で標準入力から与えられる。A op B\n",
        "# 1 + 2 => 3\n",
        "# 5 - 7 => 2\n",
        "\n",
        "%%writefile temp.cpp\n",
        "#include <bits/stdc++.h>\n",
        "using namespace std;\n",
        "\n",
        "int main() {\n",
        "  char op;\n",
        "  int num1, num2;\n",
        "  cin >> num1 >> op >> num2;\n",
        "  if (op == '+') cout << num1 + num2 << endl;\n",
        "  else if (op == '-') cout << num1 - num2 << endl;\n",
        "}\n"
      ],
      "metadata": {
        "id": "r9vlJFqf0PqE",
        "outputId": "7db0e3c4-03e1-447a-d383-74396a2c629d",
        "colab": {
          "base_uri": "https://localhost:8080/"
        }
      },
      "execution_count": null,
      "outputs": [
        {
          "output_type": "stream",
          "name": "stdout",
          "text": [
            "Overwriting temp.cpp\n"
          ]
        }
      ]
    },
    {
      "cell_type": "code",
      "source": [
        "!g++ temp.cpp -o temp; echo 1 + 2 | ./temp\n",
        "!g++ temp.cpp -o temp; echo 5 - 7 | ./temp"
      ],
      "metadata": {
        "id": "DYg-31V20Pin",
        "outputId": "48657827-d796-4a99-acf2-b3e0a8d8aaec",
        "colab": {
          "base_uri": "https://localhost:8080/"
        }
      },
      "execution_count": null,
      "outputs": [
        {
          "output_type": "stream",
          "name": "stdout",
          "text": [
            "3\n",
            "-2\n"
          ]
        }
      ]
    },
    {
      "cell_type": "code",
      "source": [
        "# 問題\n",
        "# A - 添字\n",
        "# 文字列 s と整数 i (1≦i≦∣s∣) が与えられます。 s の i 文字目を出力してください。\n",
        "# なお、∣s∣ は文字列 s の長さを表します。\n",
        "# atcoder 3 => c\n",
        "# beginner 1 => b\n",
        "# contest 7 => t\n",
        "# z 1 => z\n",
        "%%writefile temp.cpp\n",
        "#include <bits/stdc++.h>\n",
        "using namespace std;\n",
        "\n",
        "int main() {\n",
        "  string s;\n",
        "  int i;\n",
        "  cin >> s >> i;\n",
        "  cout << s.at(i-1) << endl;\n",
        "}"
      ],
      "metadata": {
        "id": "iX-OJZOtD3Xp",
        "outputId": "c01bd490-633f-47f6-e6db-51b261d53ff2",
        "colab": {
          "base_uri": "https://localhost:8080/"
        }
      },
      "execution_count": null,
      "outputs": [
        {
          "output_type": "stream",
          "name": "stdout",
          "text": [
            "Overwriting temp.cpp\n"
          ]
        }
      ]
    },
    {
      "cell_type": "code",
      "source": [
        "!g++ temp.cpp -o temp; echo atcoder 3 | ./temp\n",
        "!g++ temp.cpp -o temp; echo beginner 1 | ./temp\n",
        "!g++ temp.cpp -o temp; echo contest 7 | ./temp\n",
        "!g++ temp.cpp -o temp; echo z 1 | ./temp"
      ],
      "metadata": {
        "id": "10FVJCPYD3Sz",
        "outputId": "26dee9c8-d0db-439c-fd42-e69e7c32b45b",
        "colab": {
          "base_uri": "https://localhost:8080/"
        }
      },
      "execution_count": null,
      "outputs": [
        {
          "output_type": "stream",
          "name": "stdout",
          "text": [
            "c\n",
            "b\n",
            "t\n",
            "z\n"
          ]
        }
      ]
    },
    {
      "cell_type": "code",
      "source": [
        "# 問題\n",
        "# A - お茶\n",
        "# 高橋くんはドリンクバーにやってきました。彼は今お茶を飲みたい気分です。\n",
        "# しかし、ドリンクバーの飲み物の表記はすべてローマ字で、高橋くんはそれを読むことができません。\n",
        "# 高橋くんは、ある飲み物について、それがお茶であるかどうか知りたいと思っています。 \n",
        "# ただし、ある飲み物がお茶であることは、そのローマ字表記がTで終わる文字列であることと等しいです。\n",
        "# ICEDT => YES\n",
        "# MUGICHA => NO\n",
        "# OOLONGT => YES\n",
        "# T => YES\n",
        "# TEA => NO\n",
        "\n",
        "%%writefile temp.cpp\n",
        "#include <bits/stdc++.h>\n",
        "using namespace std;\n",
        "\n",
        "int main() {\n",
        "  string S;\n",
        "  cin >> S;\n",
        "  if(S.at(S.size()-1) == 'T') cout << \"YES\" << endl;\n",
        "  else cout << \"NO\" << endl;\n",
        "}"
      ],
      "metadata": {
        "id": "XihD41GOFFt3",
        "outputId": "d082b144-9e5f-4002-f0df-c8709db903cd",
        "colab": {
          "base_uri": "https://localhost:8080/"
        }
      },
      "execution_count": null,
      "outputs": [
        {
          "output_type": "stream",
          "name": "stdout",
          "text": [
            "Overwriting temp.cpp\n"
          ]
        }
      ]
    },
    {
      "cell_type": "code",
      "source": [
        "!g++ temp.cpp -o temp; echo ICEDT | ./temp\n",
        "!g++ temp.cpp -o temp; echo MUGICHA | ./temp\n",
        "!g++ temp.cpp -o temp; echo OOLONGT | ./temp\n",
        "!g++ temp.cpp -o temp; echo T | ./temp\n",
        "!g++ temp.cpp -o temp; echo TEA | ./temp"
      ],
      "metadata": {
        "id": "7q_syGE-FFjm",
        "outputId": "5dde5277-3019-4e1e-ff32-86e54853ac66",
        "colab": {
          "base_uri": "https://localhost:8080/"
        }
      },
      "execution_count": null,
      "outputs": [
        {
          "output_type": "stream",
          "name": "stdout",
          "text": [
            "YES\n",
            "NO\n",
            "YES\n",
            "YES\n",
            "NO\n"
          ]
        }
      ]
    },
    {
      "cell_type": "code",
      "source": [
        "# 問題\n",
        "# A - 複数形 \n",
        "# 英小文字からなる文字列 W が入力されます。\n",
        "# W の末尾に英小文字の s を付け足したものを出力してください。\n",
        "# 1 行目に、英小文字からなる文字列 W (1 ≦ ∣W∣ ≦ 10, ここで ∣W∣ は W の長さを表す) が与えられる。\n",
        "# dog => dogs\n",
        "# chokudai => chokudais\n",
        "%%writefile temp.cpp\n",
        "#include <bits/stdc++.h>\n",
        "using namespace std;\n",
        "\n",
        "int main() {\n",
        "  string W;\n",
        "  cin >> W;\n",
        "  cout << W+'s' << endl;\n",
        "}"
      ],
      "metadata": {
        "id": "PMyNgf49G2qN",
        "outputId": "132f5d92-4689-4c71-e16f-578cdc054532",
        "colab": {
          "base_uri": "https://localhost:8080/"
        }
      },
      "execution_count": null,
      "outputs": [
        {
          "output_type": "stream",
          "name": "stdout",
          "text": [
            "Overwriting temp.cpp\n"
          ]
        }
      ]
    },
    {
      "cell_type": "code",
      "source": [
        "!g++ temp.cpp -o temp; echo dog | ./temp\n",
        "!g++ temp.cpp -o temp; echo chokudai | ./temp"
      ],
      "metadata": {
        "id": "VrgBd8oyG2lP",
        "outputId": "34218be9-819c-4045-ddc6-6a8fa0bbc9ae",
        "colab": {
          "base_uri": "https://localhost:8080/"
        }
      },
      "execution_count": null,
      "outputs": [
        {
          "output_type": "stream",
          "name": "stdout",
          "text": [
            "dogs\n",
            "chokudais\n"
          ]
        }
      ]
    },
    {
      "cell_type": "code",
      "source": [
        "# 問題\n",
        "# A - 高橋くんの研修\n",
        "# 高橋くんは、ソフトウェア会社に勤めています。 その会社では、\n",
        "# 短い変数名はバグを生む原因だと信じられており、長い変数名を使う習慣があります。\n",
        "# 与えられた 2 つの小文字アルファベットのみからなる文字列のうち、文字数が長い方の文字列を求めてください。\n",
        "# isuruu isleapyear => isleapyear\n",
        "# ttttiiiimmmmeeee time => ttttiiiimmmmeeee\n",
        "%%writefile temp.cpp\n",
        "#include <bits/stdc++.h>\n",
        "using namespace std;\n",
        "\n",
        "int main() {\n",
        "  string A, B;\n",
        "  cin >> A >> B;\n",
        "  if (A.size() >= B.size()) cout << A << endl;\n",
        "  else cout << B << endl;\n",
        "}"
      ],
      "metadata": {
        "id": "ZqbNaMOYHOQZ",
        "outputId": "18fa56b9-076f-4a75-b7ec-5eea24500435",
        "colab": {
          "base_uri": "https://localhost:8080/"
        }
      },
      "execution_count": null,
      "outputs": [
        {
          "output_type": "stream",
          "name": "stdout",
          "text": [
            "Overwriting temp.cpp\n"
          ]
        }
      ]
    },
    {
      "cell_type": "code",
      "source": [
        "!g++ temp.cpp -o temp; echo isuruu isleapyear | ./temp\n",
        "!g++ temp.cpp -o temp; echo ttttiiiimmmmeeee time | ./temp"
      ],
      "metadata": {
        "id": "3pZkt5BvHOHw",
        "outputId": "b27f663e-f833-4f09-fc33-2b543d7f8873",
        "colab": {
          "base_uri": "https://localhost:8080/"
        }
      },
      "execution_count": null,
      "outputs": [
        {
          "output_type": "stream",
          "name": "stdout",
          "text": [
            "isleapyea\n",
            "ttttiiiimmmmeeee\n"
          ]
        }
      ]
    },
    {
      "cell_type": "code",
      "source": [
        "# 問題\n",
        "# A - ハンドルネーム\n",
        "# 高橋君の秘書のなぎさちゃんは、高橋君からハンドルネームを貰いました。\n",
        "# しかし、残念なことに、このハンドルネームは、既に登録しようとしたサービスで使われてしまっていました。\n",
        "# なぎさちゃんが好きなC++に肖って、ハンドルネームの末尾にppを付けることにしました。\n",
        "# 元のハンドルネームが入力されるので、新しいハンドルネームを出力してください。\n",
        "# chokudai => chokudaipp\n",
        "# sanagi => sanagipp\n",
        "%%writefile temp.cpp\n",
        "#include <bits/stdc++.h>\n",
        "using namespace std;\n",
        "\n",
        "int main() {\n",
        "  string S;\n",
        "  cin >> S;\n",
        "  cout << S+\"pp\" << endl;\n",
        "}"
      ],
      "metadata": {
        "id": "lBpxfCSOK29d",
        "outputId": "12ed093b-ba33-4214-9e4c-3865d9467f6d",
        "colab": {
          "base_uri": "https://localhost:8080/"
        }
      },
      "execution_count": null,
      "outputs": [
        {
          "output_type": "stream",
          "name": "stdout",
          "text": [
            "Overwriting temp.cpp\n"
          ]
        }
      ]
    },
    {
      "cell_type": "code",
      "source": [
        "!g++ temp.cpp -o temp; echo chokudai | ./temp\n",
        "!g++ temp.cpp -o temp; echo sanagi | ./temp"
      ],
      "metadata": {
        "id": "QtshWTDDK21q",
        "outputId": "7abaf8ef-b569-44c7-8dc9-e34e3cf38f31",
        "colab": {
          "base_uri": "https://localhost:8080/"
        }
      },
      "execution_count": null,
      "outputs": [
        {
          "output_type": "stream",
          "name": "stdout",
          "text": [
            "chokudaipp\n",
            "sanagipp\n"
          ]
        }
      ]
    },
    {
      "cell_type": "code",
      "source": [
        "# 問題\n",
        "# B - Minesweeper\n",
        "# H×W のマス目が与えられます。\n",
        "# 入力において、全てのマスは文字で表されており、.は空きマス、 # は爆弾マスに対応します。\n",
        "# マス目は H 個の文字列 S_1 ... S_H で表されます。\n",
        "# イルカは各空きマスの上下左右および斜めの 8 方向で隣接しているマスに爆弾マスが何個あるか\n",
        "# 気になっています。\n",
        "# そこで、各空きマスに対応する . を、その空きマスの周囲8方向に隣接するマスにおける爆弾マスの\n",
        "# 個数を表す数字で置き換えることにしました。\n",
        "# 以上の規則で置き換えられた後のマス目を出力してください。\n",
        "# 入力\n",
        "# 3 5\n",
        "# .....\n",
        "# .#.#.\n",
        "# .....\n",
        "# =>\n",
        "# 11211\n",
        "# 1#2#1\n",
        "# 11211\n",
        "# 入力\n",
        "# 3 5\n",
        "# #####\n",
        "# #####\n",
        "# #####\n",
        "# =>\n",
        "# #####\n",
        "# #####\n",
        "# #####\n",
        "# 入力例\n",
        "# 6 6\n",
        "# #####.\n",
        "# #.#.##\n",
        "# ####.#\n",
        "# .#..#.\n",
        "# #.##..\n",
        "# #.#...\n",
        "# =>\n",
        "# #####3\n",
        "# #8#7##\n",
        "# ####5#\n",
        "# 4#65#2\n",
        "# #5##21\n",
        "# #4#310"
      ],
      "metadata": {
        "id": "kBY0fMDSOr2z"
      },
      "execution_count": null,
      "outputs": []
    },
    {
      "cell_type": "code",
      "source": [
        "# 問題\n",
        "# B - Minesweeper\n",
        "%%writefile temp.cpp\n",
        "#include <bits/stdc++.h>\n",
        "using namespace std;\n",
        "\n",
        "int main() {\n",
        "  int H, W, sum = 0;\n",
        "  cin >> H >> W;\n",
        "\n",
        "  vector<vector<char>> data(H, vector<char>(W));\n",
        "\n",
        "  // データの読み込み\n",
        "  for (int i = 0; i < H; i++) {\n",
        "    for (int j = 0; j < W; j++) {\n",
        "      cin >> data.at(i).at(j);\n",
        "    }\n",
        "  }\n",
        "\n",
        "  // 処理本体\n",
        "  for (int i = 0; i < H; i++) {\n",
        "    for (int j = 0; j < W; j++) {\n",
        "      if (data.at(i).at(j) == '#') continue;\n",
        "      else if (data.at(i).at(j) == '.') {\n",
        "        if (i - 1 >= 0 && j - 1 >= 0) {\n",
        "          if (data.at(i - 1).at(j - 1) == '#') sum++;\n",
        "        }\n",
        "        if (i - 1 >= 0) {\n",
        "          if (data.at(i - 1).at(j) == '#') sum++;\n",
        "        }\n",
        "        if (i - 1 >= 0 && j + 1 <= W - 1) {\n",
        "          if (data.at(i - 1).at(j + 1) == '#') sum++;\n",
        "        }\n",
        "        if (j - 1 >= 0) {\n",
        "          if (data.at(i).at(j - 1) == '#') sum++;\n",
        "        }\n",
        "        if (j + 1 <= W - 1) {\n",
        "          if (data.at(i).at(j + 1) == '#') sum++;\n",
        "        }\n",
        "        if (i + 1 <= H - 1 && j - 1 >= 0) {\n",
        "          if (data.at(i + 1).at(j - 1) == '#') sum++;\n",
        "        }\n",
        "        if (i + 1 <= H - 1) {\n",
        "          if (data.at(i + 1).at(j) == '#') sum++;\n",
        "        }\n",
        "        if (i + 1 <= H - 1 && j + 1 <= W - 1) {\n",
        "          if (data.at(i + 1).at(j + 1) == '#') sum++;\n",
        "        }\n",
        "\n",
        "        data.at(i).at(j) = '0' + sum;\n",
        "        sum = 0;\n",
        "      }\n",
        "    }\n",
        "  }\n",
        "\n",
        "  for (auto row : data) {\n",
        "    for (auto item : row) {\n",
        "      cout << item;\n",
        "    }\n",
        "    cout << endl;\n",
        "  }\n",
        "}\n"
      ],
      "metadata": {
        "id": "FeyUJMAoOrtJ",
        "colab": {
          "base_uri": "https://localhost:8080/"
        },
        "outputId": "9c4d73c6-1d0a-4330-a950-d6f1e1c46e7f"
      },
      "execution_count": null,
      "outputs": [
        {
          "output_type": "stream",
          "name": "stdout",
          "text": [
            "Overwriting temp.cpp\n"
          ]
        }
      ]
    },
    {
      "cell_type": "code",
      "source": [
        "!g++ temp.cpp -o temp; echo \"3 5 ..... .#.#. .....\" | ./temp\n",
        "!echo\n",
        "!g++ temp.cpp -o temp; echo \"3 5 ##### ##### #####\" | ./temp\n",
        "!echo\n",
        "!g++ temp.cpp -o temp; echo \"6 6 #####. #.#.## ####.# .#..#. #.##.. #.#...\" | ./temp"
      ],
      "metadata": {
        "colab": {
          "base_uri": "https://localhost:8080/"
        },
        "id": "Wti62c9nuu6x",
        "outputId": "3266866b-4116-4b0a-8879-2924bcc8fcac"
      },
      "execution_count": null,
      "outputs": [
        {
          "output_type": "stream",
          "name": "stdout",
          "text": [
            "11211\n",
            "1#2#1\n",
            "11211\n",
            "\n",
            "#####\n",
            "#####\n",
            "#####\n",
            "\n",
            "#####3\n",
            "#8#7##\n",
            "####5#\n",
            "4#65#2\n",
            "#5##21\n",
            "#4#310\n"
          ]
        }
      ]
    },
    {
      "cell_type": "code",
      "source": [
        "# 実験\n",
        "# 問題の趣旨が行は文字列で取り込め、という風に読めるので書き換えてみる\n",
        "%%writefile temp.cpp\n",
        "#include <bits/stdc++.h>\n",
        "using namespace std;\n",
        "\n",
        "int main() {\n",
        "  int H, W;\n",
        "  int sum = 0;\n",
        "  cin >> H >> W;\n",
        "\n",
        "  vector<string> data(H);\n",
        "\n",
        "  // データの読み込み\n",
        "  for (int i = 0; i < H; i++) {\n",
        "    cin >> data.at(i);\n",
        "  }\n",
        "\n",
        "  for (int i = 0; i < H; i++) {\n",
        "    for (int j = 0; j < W; j++) {\n",
        "      if (data.at(i).at(j) == '.') {\n",
        "        if (i - 1 >= 0 && j - 1 >= 0) {\n",
        "          if (data.at(i - 1).at(j - 1) == '#') sum++;\n",
        "        }\n",
        "        if (i - 1 >= 0) {\n",
        "          if (data.at(i - 1).at(j) == '#') sum++;\n",
        "        }\n",
        "        if (i - 1 >= 0 && j + 1 <= W - 1) {\n",
        "          if (data.at(i - 1).at(j + 1) == '#') sum++;\n",
        "        }\n",
        "        if (j - 1 >= 0) {\n",
        "          if (data.at(i).at(j - 1) == '#') sum++;\n",
        "        }\n",
        "        if (j + 1 <= W - 1) {\n",
        "          if (data.at(i).at(j + 1) == '#') sum++;\n",
        "        }\n",
        "        if (i + 1 <= H - 1 && j - 1 >= 0) {\n",
        "          if (data.at(i + 1).at(j - 1) == '#') sum++;\n",
        "        }\n",
        "        if (i + 1 <= H - 1) {\n",
        "          if (data.at(i + 1).at(j) == '#') sum++;\n",
        "        }\n",
        "        if (i + 1 <= H - 1 && j + 1 <= W - 1) {\n",
        "          if (data.at(i + 1).at(j + 1) == '#') sum++;\n",
        "        }\n",
        "\n",
        "        data.at(i).at(j) = '0' + sum;\n",
        "        sum = 0;\n",
        "      }\n",
        "    }\n",
        "  }\n",
        "  for (int i = 0; i < H; i++) { cout << data.at(i) << endl; }\n",
        "}"
      ],
      "metadata": {
        "colab": {
          "base_uri": "https://localhost:8080/"
        },
        "id": "LV0tWIMMarro",
        "outputId": "d279f3f7-e38f-4904-dbbf-85d28b9c60e7"
      },
      "execution_count": null,
      "outputs": [
        {
          "output_type": "stream",
          "name": "stdout",
          "text": [
            "Overwriting temp.cpp\n"
          ]
        }
      ]
    },
    {
      "cell_type": "code",
      "source": [
        "!g++ temp.cpp -o temp; echo \"3 5 ..... .#.#. .....\" | ./temp\n",
        "!echo\n",
        "!g++ temp.cpp -o temp; echo \"3 5 ##### ##### #####\" | ./temp\n",
        "!echo\n",
        "!g++ temp.cpp -o temp; echo \"6 6 #####. #.#.## ####.# .#..#. #.##.. #.#...\" | ./temp"
      ],
      "metadata": {
        "colab": {
          "base_uri": "https://localhost:8080/"
        },
        "id": "ymmtI5Q5bJoM",
        "outputId": "058427b1-b8df-4e62-c60c-f9ea6c1f05c3"
      },
      "execution_count": null,
      "outputs": [
        {
          "output_type": "stream",
          "name": "stdout",
          "text": [
            "11211\n",
            "1#2#1\n",
            "11211\n",
            "\n",
            "#####\n",
            "#####\n",
            "#####\n",
            "\n",
            "#####3\n",
            "#8#7##\n",
            "####5#\n",
            "4#65#2\n",
            "#5##21\n",
            "#4#310\n"
          ]
        }
      ]
    },
    {
      "cell_type": "markdown",
      "source": [
        "# N - 1.13.配列\n",
        "\n",
        "* vector<型> 配列変数名;で配列変数を宣言できる\n",
        "* 配列変数名 = { 要素1, 要素2, ... };で配列変数に値を代入できる\n",
        "* 配列変数.at(i), 配列変数.size() が使える\n",
        "* vector<型> 配列変数名(要素数)と書くと指定した要素数で配列を初期化できる\n"
      ],
      "metadata": {
        "id": "azH-MFEVvuOx"
      }
    },
    {
      "cell_type": "code",
      "source": [
        "# 数字を逆順にして出力する\n",
        "# 1 2 3 4 5 => 5 4 3 2 1\n",
        "%%writefile temp.cpp\n",
        "#include <bits/stdc++.h>\n",
        "using namespace std;\n",
        "int main() {\n",
        "    int N = 5;\n",
        "    vector<int> vec(N);\n",
        "    for (int i = 0; i < N; i++) {\n",
        "        cin >> vec.at(i);\n",
        "    };\n",
        "    for(int i = 0; i < vec.size(); i++) {\n",
        "        cout << vec.at(vec.size() - i - 1) << ' ' ;\n",
        "    }\n",
        "    cout << endl;\n",
        "}"
      ],
      "metadata": {
        "id": "YHy_H_YqxP5Y",
        "outputId": "91bd6714-ee56-4b92-dabc-bc0108a3aee7",
        "colab": {
          "base_uri": "https://localhost:8080/"
        }
      },
      "execution_count": null,
      "outputs": [
        {
          "output_type": "stream",
          "name": "stdout",
          "text": [
            "Overwriting temp.cpp\n"
          ]
        }
      ]
    },
    {
      "cell_type": "code",
      "source": [
        "!g++ temp.cpp -o temp; echo 1 2 3 4 5 | ./temp"
      ],
      "metadata": {
        "id": "_vXhOYHf14ct",
        "outputId": "7b93a9ce-d367-4316-c90e-dcc3ef2717c6",
        "colab": {
          "base_uri": "https://localhost:8080/"
        }
      },
      "execution_count": null,
      "outputs": [
        {
          "output_type": "stream",
          "name": "stdout",
          "text": [
            "5 4 3 2 1 \n"
          ]
        }
      ]
    },
    {
      "cell_type": "code",
      "source": [
        "# 文字列と配列は似ている\n",
        "%%writefile temp.cpp\n",
        "#include <bits/stdc++.h>\n",
        "using namespace std;\n",
        "\n",
        "int main() {\n",
        "  // 文字列\n",
        "  string str; // 文字列変数を宣言\n",
        "  str = \"abcd\"; // 'a', 'b', 'c', 'd' という文字(char)の列を代入\n",
        "  cout << str.at(0) << endl; // 1つ目である'a'を出力\n",
        "  cout << str.size() << endl; // 文字列の長さである4を出力\n",
        "\n",
        "  // 配列\n",
        "  vector<int> vec; // int型の配列変数vecを宣言\n",
        "  vec = { 25, 100, 64 }; // 25, 100, 64 という整数(int)の列を代入\n",
        "  cout << vec.at(0) << endl; // 1つめである25を出力\n",
        "  cout << vec.size() << endl; // 配列の長さである3を出力\n",
        "}\n"
      ],
      "metadata": {
        "id": "xfM_zDO-DwvY",
        "outputId": "8f279a36-032f-4284-f77f-10718ae55ada",
        "colab": {
          "base_uri": "https://localhost:8080/"
        }
      },
      "execution_count": null,
      "outputs": [
        {
          "output_type": "stream",
          "name": "stdout",
          "text": [
            "Overwriting temp.cpp\n"
          ]
        }
      ]
    },
    {
      "cell_type": "code",
      "source": [
        "!g++ temp.cpp -o temp; echo 1 2 3 4 5 | ./temp"
      ],
      "metadata": {
        "id": "DMfTnVbVD4-9",
        "outputId": "fe5e4a56-9bbf-418c-ccf2-13bbd5a24705",
        "colab": {
          "base_uri": "https://localhost:8080/"
        }
      },
      "execution_count": null,
      "outputs": [
        {
          "output_type": "stream",
          "name": "stdout",
          "text": [
            "a\n",
            "4\n",
            "25\n",
            "3\n"
          ]
        }
      ]
    },
    {
      "cell_type": "code",
      "source": [
        "# 実験 文字列と配列 同じ物ではない\n",
        "%%writefile temp.cpp\n",
        "#include <bits/stdc++.h>\n",
        "using namespace std;\n",
        "#define rep(i, n) for (int i = 0; i < (int)(n); i++)\n",
        "\n",
        "int main() {\n",
        "    string str;\n",
        "    str = \"abcd\";\n",
        "    vector<char> vec;\n",
        "    vec = { 'a','b','c','d' };\n",
        "    cout << str << endl;\n",
        "    //  cout << vec << endl; #=> エラーになる。配列は cout できない\n",
        "    rep(i, vec.size()) {\n",
        "        cout << vec.at(i);\n",
        "    }\n",
        "    cout << endl;\n",
        "    copy(vec.begin(), vec.end(), ostream_iterator<char>(cout));\n",
        "    cout << endl;\n",
        "    for (const auto& item : vec) cout << item;\n",
        "    cout << endl;\n",
        "}"
      ],
      "metadata": {
        "id": "5YoHVgsXZfGc",
        "outputId": "51317066-a924-4b77-de35-6a3206aa4cb0",
        "colab": {
          "base_uri": "https://localhost:8080/"
        }
      },
      "execution_count": null,
      "outputs": [
        {
          "output_type": "stream",
          "name": "stdout",
          "text": [
            "Overwriting temp.cpp\n"
          ]
        }
      ]
    },
    {
      "cell_type": "code",
      "source": [
        "!g++ temp.cpp -o temp;  ./temp"
      ],
      "metadata": {
        "id": "VMq6WWaEZ9Ja",
        "colab": {
          "base_uri": "https://localhost:8080/"
        },
        "outputId": "cbbcea43-adac-4aec-a343-3782f771bde5"
      },
      "execution_count": null,
      "outputs": [
        {
          "output_type": "stream",
          "name": "stdout",
          "text": [
            "abcd\n",
            "abcd\n",
            "abcd\n",
            "abcd\n"
          ]
        }
      ]
    },
    {
      "cell_type": "code",
      "source": [
        "%%writefile temp.cpp\n",
        "#include <bits/stdc++.h>\n",
        "using namespace std;\n",
        "#define rep(i, n) for (int i = 0; i < (int)(n); i++)\n",
        "\n",
        "int main() {\n",
        "    vector<int> vec(3); // {0, 0, 0} で初期化される str だと {\"\",\"\",\"\"}\n",
        "    cin >> vec.at(0) >> vec.at(1) >> vec.at(2);\n",
        "    cout << vec.at(0) + vec.at(1) + vec.at(2) << endl;\n",
        "}"
      ],
      "metadata": {
        "id": "O2ZpaBRhfU8u",
        "outputId": "7eed0747-954b-4c9d-d9d6-310e56de023f",
        "colab": {
          "base_uri": "https://localhost:8080/"
        }
      },
      "execution_count": null,
      "outputs": [
        {
          "output_type": "stream",
          "name": "stdout",
          "text": [
            "Overwriting temp.cpp\n"
          ]
        }
      ]
    },
    {
      "cell_type": "code",
      "source": [
        "!g++ temp.cpp -o temp;  echo 1 2 3 | ./temp"
      ],
      "metadata": {
        "id": "xrtgWU9Qfa6f",
        "outputId": "edc8061a-1438-4f99-ad54-5b7642f32af3",
        "colab": {
          "base_uri": "https://localhost:8080/"
        }
      },
      "execution_count": null,
      "outputs": [
        {
          "output_type": "stream",
          "name": "stdout",
          "text": [
            "6\n"
          ]
        }
      ]
    },
    {
      "cell_type": "code",
      "source": [
        "# for を使って書き直す\n",
        "%%writefile temp.cpp\n",
        "#include <bits/stdc++.h>\n",
        "using namespace std;\n",
        "#define rep(i, n) for (int i = 0; i < (int)(n); i++)\n",
        "\n",
        "int main() {\n",
        "    vector<int> vec(3); \n",
        "    for (auto& item : vec) cin >> item;\n",
        "    for (const auto& item : vec) cout << item;\n",
        "    cout << endl;\n",
        "}"
      ],
      "metadata": {
        "id": "912uUERkgEGY",
        "outputId": "bca5ccba-0ad6-429f-de91-dc3a6f56628b",
        "colab": {
          "base_uri": "https://localhost:8080/"
        }
      },
      "execution_count": null,
      "outputs": [
        {
          "output_type": "stream",
          "name": "stdout",
          "text": [
            "Overwriting temp.cpp\n"
          ]
        }
      ]
    },
    {
      "cell_type": "code",
      "source": [
        "!g++ temp.cpp -o temp;  echo 1 2 3 | ./temp"
      ],
      "metadata": {
        "id": "UQJp6o1JgcsB",
        "outputId": "95e88131-43a0-4029-9381-31571624a577",
        "colab": {
          "base_uri": "https://localhost:8080/"
        }
      },
      "execution_count": null,
      "outputs": [
        {
          "output_type": "stream",
          "name": "stdout",
          "text": [
            "123\n"
          ]
        }
      ]
    },
    {
      "cell_type": "markdown",
      "source": [
        "---\n",
        "問題 \n",
        "\n",
        "N人の数学と英語のテストの点数が与えられます。  \n",
        "それぞれの人について、数学と英語の点数の合計点を計算してください。\n",
        "\n",
        "入力例\n",
        "\n",
        "3  \n",
        "20 100 30  \n",
        "100 5 40  \n",
        "\n",
        "出力例\n",
        "\n",
        "120  \n",
        "105  \n",
        "70  "
      ],
      "metadata": {
        "id": "n7tJphi8Y0DP"
      }
    },
    {
      "cell_type": "code",
      "source": [
        "%%writefile temp.cpp\n",
        "#include <bits/stdc++.h>\n",
        "using namespace std;\n",
        "\n",
        "int main() {\n",
        "    int N;\n",
        "    cin >> N;\n",
        "    vector<int> math(3);\n",
        "    vector<int> eng(3);\n",
        "    for (auto& item : math) cin >> item;\n",
        "    for (auto& item : eng) cin >> item;\n",
        "    for (int i = 0; i < N; i++) {\n",
        "        cout << math.at(i) + eng.at(i) << endl;\n",
        "    }\n",
        "}"
      ],
      "metadata": {
        "id": "cHL1A1uV3w7t",
        "outputId": "3dd779e4-8963-4c5b-a6e3-176d888c39b5",
        "colab": {
          "base_uri": "https://localhost:8080/"
        }
      },
      "execution_count": null,
      "outputs": [
        {
          "output_type": "stream",
          "name": "stdout",
          "text": [
            "Overwriting temp.cpp\n"
          ]
        }
      ]
    },
    {
      "cell_type": "code",
      "source": [
        "!g++ temp.cpp -o temp;  echo 3 20 100 30 100 5 40 | ./temp"
      ],
      "metadata": {
        "id": "5jRIuCO646QG",
        "outputId": "95da85ad-4cfa-440c-c336-c0d6db82b695",
        "colab": {
          "base_uri": "https://localhost:8080/"
        }
      },
      "execution_count": null,
      "outputs": [
        {
          "output_type": "stream",
          "name": "stdout",
          "text": [
            "120\n",
            "105\n",
            "70\n"
          ]
        }
      ]
    },
    {
      "cell_type": "code",
      "source": [
        "%%writefile temp.cpp\n",
        "#include <bits/stdc++.h>\n",
        "using namespace std;\n",
        " \n",
        "int main() {\n",
        "  vector<int> vec = { 1, 2, 3 };\n",
        " \n",
        "  vec.push_back(10); // 末尾に10を追加\n",
        " \n",
        "  // vecの全要素を出力\n",
        "  for (int i = 0; i < vec.size(); i++) {\n",
        "    cout << vec.at(i) << endl;\n",
        "  }\n",
        "}"
      ],
      "metadata": {
        "id": "WSgRZ6OZ3Q5i",
        "outputId": "957d9672-a317-42e2-b109-e501765f6dd9",
        "colab": {
          "base_uri": "https://localhost:8080/"
        }
      },
      "execution_count": null,
      "outputs": [
        {
          "output_type": "stream",
          "name": "stdout",
          "text": [
            "Overwriting temp.cpp\n"
          ]
        }
      ]
    },
    {
      "cell_type": "code",
      "source": [
        "!g++ temp.cpp -o temp;  ./temp"
      ],
      "metadata": {
        "id": "1XZ_BiO35k0p",
        "outputId": "f9a8c1bd-1f08-4669-d576-0925a1fc36a0",
        "colab": {
          "base_uri": "https://localhost:8080/"
        }
      },
      "execution_count": null,
      "outputs": [
        {
          "output_type": "stream",
          "name": "stdout",
          "text": [
            "1\n",
            "2\n",
            "3\n",
            "10\n"
          ]
        }
      ]
    },
    {
      "cell_type": "markdown",
      "source": [
        "配列の範囲外を指定すると `std::out_of_range` という実行時エラーになる。\n",
        "\n",
        "vector 以外の配列  \n",
        "\n",
        "vector<int> data(3); // vectorによる配列 #=> これを使うこと!!!!\n",
        "\n",
        "int data[3]; // Cの配列\n",
        "\n",
        "array<int, 3> data; // arrayによる配列\n",
        "\n",
        "atを使わないi番目の要素へのアクセス\n",
        "\n",
        "配列変数.at(添字)と、配列変数[添字]は同じことが出来るが、at を使った方がエラーメッセージがちゃんと出る。\n",
        "\n",
        "`#define _GLIBCXX_DEBUG`  \n",
        "とコードの最初に書くことで.atと同程度に安全に使うことができるようになるが、APG4b では `.at()` を使う。"
      ],
      "metadata": {
        "id": "4l4q11zh1gHu"
      }
    },
    {
      "cell_type": "code",
      "source": [
        "%%writefile temp.cpp\n",
        "#include <bits/stdc++.h>\n",
        "using namespace std;\n",
        " \n",
        "int main() {\n",
        "  vector<int> vec = { 1, 2, 3 };\n",
        " \n",
        "  cout << vec.at(0) << endl;\n",
        "  cout << vec[0] << endl; // .at(0)と同じ\n",
        "}"
      ],
      "metadata": {
        "id": "RDpvufaQ2rep",
        "outputId": "b159a00d-c732-4d3e-fd7f-58dc35d3d391",
        "colab": {
          "base_uri": "https://localhost:8080/"
        }
      },
      "execution_count": null,
      "outputs": [
        {
          "output_type": "stream",
          "name": "stdout",
          "text": [
            "Overwriting temp.cpp\n"
          ]
        }
      ]
    },
    {
      "cell_type": "code",
      "source": [
        "!g++ temp.cpp -o temp;  ./temp"
      ],
      "metadata": {
        "id": "sB7sUhYp25ez"
      },
      "execution_count": null,
      "outputs": []
    },
    {
      "cell_type": "markdown",
      "source": [
        "要素の削除\n",
        "\n",
        "配列変数.pop_back を使えば配列の末尾の要素を削除することが出来る。"
      ],
      "metadata": {
        "id": "7adjum1E4iDd"
      }
    },
    {
      "cell_type": "code",
      "source": [
        "%%writefile temp.cpp\n",
        "#include <bits/stdc++.h>\n",
        "using namespace std;\n",
        "\n",
        "int main() {\n",
        "    vector<int> vec = { 1, 2, 3 };\n",
        "\n",
        "    vec.pop_back(); // 末尾の要素を削除\n",
        "\n",
        "    // vecの全要素を出力\n",
        "    for (int i = 0; i < vec.size(); i++) {\n",
        "        cout << vec.at(i) << endl;\n",
        "    }\n",
        "}"
      ],
      "metadata": {
        "id": "ER8sGpvV4hh_",
        "outputId": "cbc52628-713d-4d59-8343-88fbb152b8da",
        "colab": {
          "base_uri": "https://localhost:8080/"
        }
      },
      "execution_count": null,
      "outputs": [
        {
          "output_type": "stream",
          "name": "stdout",
          "text": [
            "Overwriting temp.cpp\n"
          ]
        }
      ]
    },
    {
      "cell_type": "code",
      "source": [
        "!g++ temp.cpp -o temp;  ./temp"
      ],
      "metadata": {
        "id": "GXpAefzK5mOv",
        "outputId": "674575bc-543e-427e-afb1-9b05d46d1676",
        "colab": {
          "base_uri": "https://localhost:8080/"
        }
      },
      "execution_count": null,
      "outputs": [
        {
          "output_type": "stream",
          "name": "stdout",
          "text": [
            "1\n",
            "2\n"
          ]
        }
      ]
    },
    {
      "cell_type": "code",
      "source": [
        "# 配列同士の比較\n",
        "# 配列変数同士は `==` で比較することが出来る。\n",
        "# vec == { 1, 2, 3 } のようには書けない。\n",
        "\n",
        "%%writefile temp.cpp\n",
        "#include <bits/stdc++.h>\n",
        "using namespace std;\n",
        "\n",
        "int main() {\n",
        "    vector<int> vec1 = { 1, 2, 3 };\n",
        "    vector<int> vec2 = { 1, 2, 3 };\n",
        "\n",
        "    if (vec1 == vec2) {\n",
        "        cout << \"OK\" << endl;\n",
        "    }\n",
        "\n",
        "    /*\n",
        "    ↓これはコンパイルエラーになる\n",
        "    if (vec1 == { 1, 2, 3 }) {\n",
        "      cout << \"NG\" << endl;\n",
        "    }\n",
        "    */\n",
        "}"
      ],
      "metadata": {
        "id": "6_7gQ7e85fiZ",
        "outputId": "481fc00f-1d66-47ae-cd88-0d724efb8b42",
        "colab": {
          "base_uri": "https://localhost:8080/"
        }
      },
      "execution_count": null,
      "outputs": [
        {
          "output_type": "stream",
          "name": "stdout",
          "text": [
            "Overwriting temp.cpp\n"
          ]
        }
      ]
    },
    {
      "cell_type": "code",
      "source": [
        "!g++ temp.cpp -o temp;  ./temp"
      ],
      "metadata": {
        "id": "P-JQOZeh6L6u",
        "outputId": "6a7fad95-62e0-47e6-c729-4b473a0e2b16",
        "colab": {
          "base_uri": "https://localhost:8080/"
        }
      },
      "execution_count": null,
      "outputs": [
        {
          "output_type": "stream",
          "name": "stdout",
          "text": [
            "OK\n"
          ]
        }
      ]
    },
    {
      "cell_type": "code",
      "source": [
        "# 配列の初期化その2\n",
        "# サイズの違う配列で上書き出来る\n",
        "%%writefile temp.cpp\n",
        "#include <bits/stdc++.h>\n",
        "using namespace std;\n",
        " \n",
        "int main() {\n",
        "  vector<int> vec(3, 10); // {10, 10, 10} で初期化\n",
        "  vec = vector<int>(100, 2); // 100要素の配列 {2, 2, ... , 2, 2} で上書き\n",
        "  cout << vec.at(99) << endl;\n",
        "}"
      ],
      "metadata": {
        "id": "_H8pQxLqmR8u",
        "outputId": "a1b71f4e-d2c3-446a-e84c-02e03a922dd4",
        "colab": {
          "base_uri": "https://localhost:8080/"
        }
      },
      "execution_count": null,
      "outputs": [
        {
          "output_type": "stream",
          "name": "stdout",
          "text": [
            "Writing temp.cpp\n"
          ]
        }
      ]
    },
    {
      "cell_type": "code",
      "source": [
        "!g++ temp.cpp -o temp;  ./temp"
      ],
      "metadata": {
        "id": "iG4OXqZJ790m"
      },
      "execution_count": null,
      "outputs": []
    },
    {
      "cell_type": "code",
      "source": [
        "# 実験\n",
        "# サイズの違う配列で上書き\n",
        "%%writefile temp.cpp\n",
        "#include <bits/stdc++.h>\n",
        "using namespace std;\n",
        " \n",
        "int main() {\n",
        "  vector<int> vec(3, 10); // {10, 10, 10} で初期化\n",
        "  vec = {10, 10, 1, 2, 3, 4} ;\n",
        "  cout << vec.at(5) << endl;\n",
        "}"
      ],
      "metadata": {
        "id": "yZG5nOXnnI41",
        "outputId": "d827affc-1ba8-48a7-ff8d-a790cdf575c4",
        "colab": {
          "base_uri": "https://localhost:8080/"
        }
      },
      "execution_count": null,
      "outputs": [
        {
          "output_type": "stream",
          "name": "stdout",
          "text": [
            "Overwriting temp.cpp\n"
          ]
        }
      ]
    },
    {
      "cell_type": "code",
      "source": [
        "!g++ temp.cpp -o temp;  ./temp"
      ],
      "metadata": {
        "id": "Dt_BsVcwneHc",
        "outputId": "c743ae6a-7438-49e6-b527-8716be1150f1",
        "colab": {
          "base_uri": "https://localhost:8080/"
        }
      },
      "execution_count": null,
      "outputs": [
        {
          "output_type": "stream",
          "name": "stdout",
          "text": [
            "4\n"
          ]
        }
      ]
    },
    {
      "cell_type": "code",
      "source": [
        "# 実験 \n",
        "# 質問 サイズの違う配列をアサイン出来るのだったら初めからサイズは要らないのではないか\n",
        "%%writefile temp.cpp\n",
        "#include <bits/stdc++.h>\n",
        "using namespace std;\n",
        " \n",
        "int main() {\n",
        "  vector<int> vec;\n",
        "  vector<int> vec2(100, 2); // 100要素の配列 {2, 2, ... , 2, 2} \n",
        "  vec = vec2;\n",
        "  cout << vec.at(99) << endl;\n",
        "}"
      ],
      "metadata": {
        "colab": {
          "base_uri": "https://localhost:8080/"
        },
        "id": "wZ4LOb1P7_wv",
        "outputId": "2b1cc308-e0c6-44ec-f50f-f1cadd82f034"
      },
      "execution_count": null,
      "outputs": [
        {
          "output_type": "stream",
          "name": "stdout",
          "text": [
            "Overwriting temp.cpp\n"
          ]
        }
      ]
    },
    {
      "cell_type": "code",
      "source": [
        "!g++ temp.cpp -o temp;  ./temp"
      ],
      "metadata": {
        "id": "mVRJjMsamnIb",
        "outputId": "c950728e-0d30-4a00-9ca9-c91e3264216e",
        "colab": {
          "base_uri": "https://localhost:8080/"
        }
      },
      "execution_count": null,
      "outputs": [
        {
          "output_type": "stream",
          "name": "stdout",
          "text": [
            "2\n"
          ]
        }
      ]
    },
    {
      "cell_type": "code",
      "source": [
        "# 大きすぎる配列\n",
        "# AtCoderの問題の回答として提出してこのエラーが出た場合、`RE` または `MLE` となる\n",
        "%%writefile temp.cpp\n",
        "#include <bits/stdc++.h>\n",
        "using namespace std;\n",
        " \n",
        "int main() {\n",
        "  vector<int> v(1000000000);\n",
        "  cout << v[0] << endl;\n",
        "}"
      ],
      "metadata": {
        "id": "oXSRPVHUoMZJ",
        "outputId": "d69c7c32-ba6b-42ae-9ca4-ca2f4b18f958",
        "colab": {
          "base_uri": "https://localhost:8080/"
        }
      },
      "execution_count": null,
      "outputs": [
        {
          "output_type": "stream",
          "name": "stdout",
          "text": [
            "Overwriting temp.cpp\n"
          ]
        }
      ]
    },
    {
      "cell_type": "code",
      "source": [
        "!g++ temp.cpp -o temp;  ./temp"
      ],
      "metadata": {
        "id": "OMqv8BOwokBp",
        "outputId": "7926bd30-047d-407a-bc73-6eb6dce090c1",
        "colab": {
          "base_uri": "https://localhost:8080/"
        }
      },
      "execution_count": null,
      "outputs": [
        {
          "output_type": "stream",
          "name": "stdout",
          "text": [
            "tcmalloc: large alloc 4000006144 bytes == 0x563e3d5d8000 @  0x7fe7c4ae4887 0x563e3c78714a 0x563e3c787091 0x563e3c786fea 0x563e3c786edf 0x563e3c786d83 0x563e3c786c7a 0x563e3c786b13 0x7fe7c413ec87 0x563e3c7869fa\n",
            "0\n"
          ]
        }
      ]
    },
    {
      "cell_type": "markdown",
      "source": [
        "---\n",
        "問題   \n",
        "\n",
        "EX13 - 平均との差\n",
        "\n",
        "N人のテストの点数が与えられます。  \n",
        "それぞれの人の点数が平均点から何点離れているか計算してください。  \n",
        "切り捨て  \n",
        "\n",
        "入力例  \n",
        "10  \n",
        "53 21 99 83 75 40 33 62 18 100  \n",
        "=>    \n",
        "5  \n",
        "37  \n",
        "41  \n",
        "︙  "
      ],
      "metadata": {
        "id": "ODjCVSjDv-mf"
      }
    },
    {
      "cell_type": "code",
      "source": [
        "%%writefile temp.cpp\n",
        "#include <bits/stdc++.h>\n",
        "using namespace std;\n",
        "\n",
        "int main() {\n",
        "  int N, sum, ave;\n",
        "  cin >> N;\n",
        "  vector<int> vec(N);\n",
        "  sum = 0;\n",
        "  for (int i = 0; i < N; i++) {\n",
        "    cin >> vec.at(i);\n",
        "    sum += vec.at(i);\n",
        "  };\n",
        "  ave = sum / vec.size();\n",
        "  for (int i = 0; i < N; i++) {\n",
        "    if (vec.at(i) >= ave) cout << vec.at(i) - ave << endl;\n",
        "    else cout << ave - vec.at(i) << endl;\n",
        "  }\n",
        "}"
      ],
      "metadata": {
        "id": "fOu-baYTqY8O",
        "colab": {
          "base_uri": "https://localhost:8080/"
        },
        "outputId": "51ed70ca-18c2-4d76-f359-ce3e3d085edb"
      },
      "execution_count": null,
      "outputs": [
        {
          "output_type": "stream",
          "name": "stdout",
          "text": [
            "Overwriting temp.cpp\n"
          ]
        }
      ]
    },
    {
      "cell_type": "code",
      "source": [
        "!g++ temp.cpp -o temp; echo 10 53 21 99 83 75 40 33 62 18 100 |./temp"
      ],
      "metadata": {
        "id": "App3e7cu-HtD"
      },
      "execution_count": null,
      "outputs": []
    },
    {
      "cell_type": "markdown",
      "source": [
        "# 実験 無名関数"
      ],
      "metadata": {
        "id": "bXHa-xAigP8j"
      }
    },
    {
      "cell_type": "markdown",
      "source": [
        "---\n",
        "質問\n",
        "\n",
        "c++ で ラムダ式、無名関数は使えるか。\n",
        "\n",
        "ラムダ式を呼び出すには、関数と同じように () を使用する、とのこと。\n",
        "```\n",
        "int main(int argc, char *argv[]) {\n",
        "\t[](){}();\n",
        "}\n",
        "```"
      ],
      "metadata": {
        "id": "XCXbjVxub3xo"
      }
    },
    {
      "cell_type": "code",
      "source": [
        "# 実験 関数として使うには戻り値が指定できないと困る #=> 出来た\n",
        "%%writefile temp.cpp\n",
        "#include <bits/stdc++.h>\n",
        "using namespace std;\n",
        "\n",
        "int main(){\n",
        "    int a, b;\n",
        "    a = 3; b = 4;\n",
        "    auto hoge = [](int x, int y){return x * y;};\n",
        "    // auto hoge = [](int x, int y) -> int{return x * y;}; # `=>` を使った書き方もあるが、不要みたい\n",
        "\n",
        "    cout << hoge(a,b) << endl;\n",
        "    cout << [](int x, int y)int{return x * y;}(a,b) << endl;\n",
        "    cout << [](int x, int y) -> int{return x * y;}(a,b) << endl;\n",
        "    cout << [](int x, int y){int temp = x * y; return temp;}(a,b) << endl;\n",
        "}\n"
      ],
      "metadata": {
        "colab": {
          "base_uri": "https://localhost:8080/"
        },
        "id": "dlzXFDwEinzT",
        "outputId": "9f5e88a0-b0ef-4481-d633-09ffc3c840ec"
      },
      "execution_count": null,
      "outputs": [
        {
          "output_type": "stream",
          "name": "stdout",
          "text": [
            "Overwriting temp.cpp\n"
          ]
        }
      ]
    },
    {
      "cell_type": "code",
      "source": [
        "!g++ temp.cpp -o temp; ./temp"
      ],
      "metadata": {
        "colab": {
          "base_uri": "https://localhost:8080/"
        },
        "id": "ROn5HTvyjCBZ",
        "outputId": "7528ad5f-030e-4922-813b-76d87f53ed53"
      },
      "execution_count": null,
      "outputs": [
        {
          "output_type": "stream",
          "name": "stdout",
          "text": [
            "12\n",
            "12\n",
            "12\n",
            "12\n"
          ]
        }
      ]
    },
    {
      "cell_type": "code",
      "source": [
        "# 実験 無名関数の練習\n",
        "%%writefile temp.cpp\n",
        "#include <bits/stdc++.h>\n",
        "using namespace std;\n",
        "\n",
        "int main() {\n",
        "    int a, b;\n",
        "    a = 3;\n",
        "    b = 4;\n",
        "    auto mul = [](int x, int y){return x * y;};\n",
        "    cout << mul(a, b) << endl;\n",
        "}"
      ],
      "metadata": {
        "colab": {
          "base_uri": "https://localhost:8080/"
        },
        "id": "b-5DOanAcMwk",
        "outputId": "bd18a3ab-5ff9-424e-e718-c74eab7df00c"
      },
      "execution_count": null,
      "outputs": [
        {
          "output_type": "stream",
          "name": "stdout",
          "text": [
            "Overwriting temp.cpp\n"
          ]
        }
      ]
    },
    {
      "cell_type": "code",
      "source": [
        "!g++ temp.cpp -o temp; ./temp"
      ],
      "metadata": {
        "colab": {
          "base_uri": "https://localhost:8080/"
        },
        "id": "sZ1GG5Ayc1K7",
        "outputId": "851241d7-6238-4088-cd5b-c0c6887adf0e"
      },
      "execution_count": null,
      "outputs": [
        {
          "output_type": "stream",
          "name": "stdout",
          "text": [
            "12\n"
          ]
        }
      ]
    },
    {
      "cell_type": "code",
      "source": [
        "# 実験 string repeat する\n",
        "# 任意の文字列を任意の回数繰り返した文字列を作る関数を無名関数で作る\n",
        "%%writefile temp.cpp\n",
        "#include <bits/stdc++.h>\n",
        "using namespace std;\n",
        "\n",
        "int main() {\n",
        "  string str;\n",
        "  str = \"abc\";\n",
        "  int n = 3;\n",
        "  auto tempfunc = [](int x, string a){string acc=\"\"; for(int i =0;i < x; i++) acc += a; return acc; };\n",
        "\n",
        "  cout << tempfunc(3,str) << endl;\n",
        "  cout <<  [](int x, string a){string acc=\"\"; for(int i =0;i < x; i++) acc += a; return acc; }(4,\"defg\") << endl;\n",
        "\n",
        "}"
      ],
      "metadata": {
        "colab": {
          "base_uri": "https://localhost:8080/"
        },
        "id": "4jrCWQufMVHf",
        "outputId": "a21b442e-3b80-4df9-f57f-7d9c1ed15468"
      },
      "execution_count": null,
      "outputs": [
        {
          "output_type": "stream",
          "name": "stdout",
          "text": [
            "Overwriting temp.cpp\n"
          ]
        }
      ]
    },
    {
      "cell_type": "code",
      "source": [
        "!g++ temp.cpp -o temp; ./temp"
      ],
      "metadata": {
        "colab": {
          "base_uri": "https://localhost:8080/"
        },
        "id": "qjIdBAYbMVxc",
        "outputId": "6518d05d-61d2-47a7-8046-cdaed268ba75"
      },
      "execution_count": null,
      "outputs": [
        {
          "output_type": "stream",
          "name": "stdout",
          "text": [
            "abcabcabc\n",
            "defgdefgdefgdefg\n"
          ]
        }
      ]
    },
    {
      "cell_type": "markdown",
      "source": [
        "---\n",
        "問題  B - Picture Frame\n",
        "\n",
        "縦 H ピクセル、横 W ピクセルの画像があります。 各ピクセルは英小文字で表されます。 上から i 番目、左から j 番目のピクセルは a \n",
        "ij です。\n",
        "\n",
        "この画像の周囲 1 ピクセルを # で囲んだものを出力してください。\n",
        "\n",
        "```\n",
        "2 3\n",
        "abc\n",
        "arc\n",
        "```\n",
        "=>\n",
        "``` text\n",
        " #####\n",
        " #abc#\n",
        " #arc#\n",
        " #####\n",
        "```\n"
      ],
      "metadata": {
        "id": "LXL3FsJC5-Fv"
      }
    },
    {
      "cell_type": "code",
      "source": [
        "%%writefile temp.cpp\n",
        "#include <bits/stdc++.h>\n",
        "using namespace std;\n",
        "\n",
        "int main() {\n",
        "  int H, W;\n",
        "  cin >> H >> W;\n",
        "  for (int i = 0; i < H + 2; i++) {\n",
        "    if ((i == 0) || (i == H + 1)) cout << [](int n, string a) {string acc = \"\"; for (int i = 0;i < n+2; i++) acc += a; return acc; }(W, \"#\") << endl;\n",
        "    else {\n",
        "        string str;\n",
        "        cin >> str;\n",
        "        cout << \"#\" << str << \"#\" << endl;\n",
        "    }\n",
        "\n",
        "  }\n",
        "}"
      ],
      "metadata": {
        "id": "Qd5R-tWKBRsk",
        "colab": {
          "base_uri": "https://localhost:8080/"
        },
        "outputId": "7edd8678-61f2-49cf-cc54-ea18814af205"
      },
      "execution_count": null,
      "outputs": [
        {
          "output_type": "stream",
          "name": "stdout",
          "text": [
            "Overwriting temp.cpp\n"
          ]
        }
      ]
    },
    {
      "cell_type": "code",
      "source": [
        "!g++ temp.cpp -o temp; echo 2 3 abc def |./temp"
      ],
      "metadata": {
        "colab": {
          "base_uri": "https://localhost:8080/"
        },
        "id": "hzXZHV8_LGCL",
        "outputId": "dd6384bb-942d-4f52-9076-ed3b173d5ae1"
      },
      "execution_count": null,
      "outputs": [
        {
          "output_type": "stream",
          "name": "stdout",
          "text": [
            "#####\n",
            "#abc#\n",
            "#def#\n",
            "#####\n"
          ]
        }
      ]
    },
    {
      "cell_type": "code",
      "source": [
        "# 問題\n",
        "# B - Counting Roads\n",
        "# N 個の都市があり、M 本の道路があります。\n",
        "# i(1≦i≦M) 番目の道路は、都市 a_i と都市 b_i を双方向に結んでいます。\n",
        "# 同じ 2 つの都市を結ぶ道路は、1 本とは限りません。\n",
        "# 各都市から他の都市に向けて、何本の道路が伸びているか求めてください。\n",
        "# 制約\n",
        "# 2≦N,M≦50\n",
        "# 1≦ a_i,b_i ≦N\n",
        "# a_i !=b_i\n",
        "# 答えを N 行に出力せよ。\n",
        "# i(1≦i≦N) 行目には、都市 i から他の都市に向けて、何本の道路が伸びているかを出力せよ。\n",
        "# 入力例\n",
        "# 4 3\n",
        "# 1 2\n",
        "# 2 3\n",
        "# 1 4\n",
        "# 出力例\n",
        "# 2\n",
        "# 2\n",
        "# 1\n",
        "# 1\n",
        "# 入力例 2 \n",
        "# 2 5\n",
        "# 1 2\n",
        "# 2 1\n",
        "# 1 2\n",
        "# 2 1\n",
        "# 1 2\n",
        "# 出力例 2 \n",
        "# 5\n",
        "# 5\n",
        "# 入力例 3 \n",
        "# 8 8\n",
        "# 1 2\n",
        "# 3 4\n",
        "# 1 5\n",
        "# 2 8\n",
        "# 3 7\n",
        "# 5 2\n",
        "# 4 1\n",
        "# 6 8\n",
        "# 出力例 3 \n",
        "# 3\n",
        "# 3\n",
        "# 2\n",
        "# 2\n",
        "# 2\n",
        "# 1\n",
        "# 1\n",
        "# 2"
      ],
      "metadata": {
        "id": "mxbiLOdKj5q-"
      },
      "execution_count": null,
      "outputs": []
    },
    {
      "cell_type": "code",
      "source": [
        "# 問題\n",
        "# B - Counting Roads\n",
        "%%writefile temp.cpp\n",
        "#include <bits/stdc++.h>\n",
        "using namespace std;\n",
        "\n",
        "int main() {\n",
        "  int N, M;\n",
        "  int sum = 0;\n",
        "  cin >> N >> M;\n",
        "\n",
        "  vector<int> data(N,0);\n",
        "\n",
        "  // データの読み込み\n",
        "  for (int i = 0; i < M; i++) {\n",
        "      int city1, city2;\n",
        "      cin >> city1 >> city2;\n",
        "      data.at(city1-1)++;\n",
        "      data.at(city2-1)++;\n",
        "  }\n",
        "  for (int i = 0; i < N; i++) { cout << data.at(i) << endl; }\n",
        "}"
      ],
      "metadata": {
        "id": "3diXANqPqxl-",
        "outputId": "cf9e96e4-7b3e-447a-9bba-22a872ffbf0f",
        "colab": {
          "base_uri": "https://localhost:8080/"
        }
      },
      "execution_count": null,
      "outputs": [
        {
          "output_type": "stream",
          "name": "stdout",
          "text": [
            "Overwriting temp.cpp\n"
          ]
        }
      ]
    },
    {
      "cell_type": "code",
      "source": [
        "!g++ temp.cpp -o temp; echo 4 3 1 2 2 3 1 4 | ./temp\n",
        "!echo\n",
        "!g++ temp.cpp -o temp; echo 2 5 1 2 2 1 1 2 2 1 1 2 | ./temp\n",
        "!echo\n",
        "!g++ temp.cpp -o temp; echo 8 8 1 2 3 4 1 5 2 8 3 7 5 2 4 1 6 8 | ./temp"
      ],
      "metadata": {
        "id": "w-ZNee_FqxbW",
        "outputId": "8336cedc-a5c9-4b6f-b658-f56452359454",
        "colab": {
          "base_uri": "https://localhost:8080/"
        }
      },
      "execution_count": null,
      "outputs": [
        {
          "output_type": "stream",
          "name": "stdout",
          "text": [
            "2\n",
            "2\n",
            "1\n",
            "1\n",
            "\n",
            "5\n",
            "5\n",
            "\n",
            "3\n",
            "3\n",
            "2\n",
            "2\n",
            "2\n",
            "1\n",
            "1\n",
            "2\n"
          ]
        }
      ]
    },
    {
      "cell_type": "code",
      "source": [
        "# 問題\n",
        "# B - Trained?\n",
        "# 筋力をつけたい高橋君は、AtCoder 社のトレーニング設備で、トレーニングをすることにしました。\n",
        "# AtCoder 社のトレーニング設備には N 個のボタンがついており、ちょうど \n",
        "# 1 個のボタンが光っています。 ボタンには、1 から N までの番号がついています。 \n",
        "# ボタン i が光っているときにそのボタンを押すと、ボタン i の明かりが消え、その後ボタン a_i が光ります。\n",
        "# i=a_i であることもあります。 光っていないボタンを押しても、何も起こりません。\n",
        "# 最初、ボタン 1 が光っています。高橋君は、ボタン 2 が光っている状態で、トレーニングをやめたいと思っています。\n",
        "# そのようなことは可能かどうか判定し、もし可能なら最低で何回ボタンを押す必要があるかを求めてください。\n",
        "# ボタン 2 を光らせることが不可能な場合、−1 を出力せよ。 そうでない場合、\n",
        "# ボタン 2 を光らせるために必要なボタンを押す回数の最小値を出力せよ。\n",
        "%%writefile temp.cpp\n",
        "#include <bits/stdc++.h>\n",
        "using namespace std;\n",
        "\n",
        "int main() {\n",
        "  int N;\n",
        "  int counter = 0;\n",
        "  cin >> N;\n",
        "\n",
        "  vector<int> data(N, 0);\n",
        "\n",
        "  for (int i = 0; i < N; i++) {\n",
        "    cin >> data.at(i);\n",
        "  }\n",
        "\n",
        "  int i = 0;\n",
        "  while (true) {\n",
        "    if (data.at(i) == 2) {\n",
        "      cout << counter+1 << endl;\n",
        "      break;\n",
        "    }\n",
        "    else if (counter >= N) {\n",
        "      cout << -1 << endl;\n",
        "      break;\n",
        "    }\n",
        "    else {\n",
        "      i = data.at(i) - 1;\n",
        "      counter++;\n",
        "    }\n",
        "  }\n",
        "}"
      ],
      "metadata": {
        "id": "AuBdQD4twwty",
        "outputId": "4bb1f9bf-c2c7-4a30-99ce-a403106b7f5a",
        "colab": {
          "base_uri": "https://localhost:8080/"
        }
      },
      "execution_count": null,
      "outputs": [
        {
          "output_type": "stream",
          "name": "stdout",
          "text": [
            "Overwriting temp.cpp\n"
          ]
        }
      ]
    },
    {
      "cell_type": "code",
      "source": [
        "!g++ temp.cpp -o temp; echo 3 3 1 2 | ./temp\n",
        "!g++ temp.cpp -o temp; echo 4 3 4 1 2 | ./temp\n",
        "!g++ temp.cpp -o temp; echo 5 3 3 4 2 4 | ./temp"
      ],
      "metadata": {
        "id": "gCY2AwI_wxNZ",
        "outputId": "744d29e6-d269-4973-eae0-1177fba33c7a",
        "colab": {
          "base_uri": "https://localhost:8080/"
        }
      },
      "execution_count": null,
      "outputs": [
        {
          "output_type": "stream",
          "name": "stdout",
          "text": [
            "2\n",
            "-1\n",
            "3\n"
          ]
        }
      ]
    },
    {
      "cell_type": "code",
      "source": [
        "# 問題\n",
        "# B - Two Colors Card Game\n",
        "# 高橋君は青いカードを N 枚，赤いカードを M 枚持っています。 \n",
        "# カードにはそれぞれ文字列が書かれており， i 枚目の青いカードに書かれている文字列は \n",
        "# s_i i ， i 枚目の赤いカードに書かれている文字列は t_i\n",
        "# 高橋君は，文字列を 1 つ言います。 そして，全てのカードを確認し， \n",
        "# その文字列が書かれた青いカードを 1 枚見つけるごとに 1 円貰えます。 \n",
        "# また，その文字列が書かれた赤いカードを 1 枚見つけるごとに 1 円失います。\n",
        "# 高橋君は，最大で差し引き何円貰うことができるでしょうか？\n",
        "# ただし，違うカードに同じ文字列が書かれていることもあることに注意してください。\n",
        "# 出力 高橋君が最大で差し引き X 円貰える時，X を出力せよ。\n",
        "%%writefile temp.cpp\n",
        "#include <bits/stdc++.h>\n",
        "using namespace std;\n",
        "\n",
        "int main() {\n",
        "  int M, N;\n",
        "  int sum = 0;\n",
        "  int max = 0;\n",
        "\n",
        "  cin >> M;\n",
        "  vector<string> s(M);\n",
        "  for (int i = 0; i < M; i++) {\n",
        "    cin >> s.at(i);\n",
        "  }\n",
        "  cin >> N;\n",
        "  vector<string> t(N);\n",
        "  for (int i = 0; i < N; i++) {\n",
        "    cin >> t.at(i);\n",
        "  }\n",
        "\n",
        "  for (int i = 0; i < M; i++) {\n",
        "    sum = 1;\n",
        "    for (int j = i + 1; j < M; j++) {\n",
        "      if (s.at(i) == s.at(j)) sum++;\n",
        "    }\n",
        "    for (int k = 0; k < N; k++) {\n",
        "      if (s.at(i) == t.at(k)) sum--;\n",
        "    }\n",
        "    if (sum > max) max = sum;\n",
        "  }\n",
        "  cout << max << endl;\n",
        "}"
      ],
      "metadata": {
        "id": "Sf4UQPrVK7Yc",
        "outputId": "ac0330b1-4806-4200-d191-2b835b36a657",
        "colab": {
          "base_uri": "https://localhost:8080/"
        }
      },
      "execution_count": null,
      "outputs": [
        {
          "output_type": "stream",
          "name": "stdout",
          "text": [
            "Overwriting temp.cpp\n"
          ]
        }
      ]
    },
    {
      "cell_type": "code",
      "source": [
        "!g++ temp.cpp -o temp; echo 3 apple orange apple 1 grape | ./temp\n",
        "!g++ temp.cpp -o temp; echo 3 apple orange apple 5 apple apple apple apple apple | ./temp\n",
        "!g++ temp.cpp -o temp; echo 1 voldemort 10 voldemort voldemort voldemort voldemort voldemort voldemort voldemort voldemort voldemort voldemort | ./temp\n",
        "!g++ temp.cpp -o temp; echo 6 red red blue yellow yellow red 5 red red yellow green blue | ./temp"
      ],
      "metadata": {
        "id": "t5r3G-DDT1xg",
        "outputId": "c1bebb77-9cd4-42fb-aeff-b727472840e0",
        "colab": {
          "base_uri": "https://localhost:8080/"
        }
      },
      "execution_count": null,
      "outputs": [
        {
          "output_type": "stream",
          "name": "stdout",
          "text": [
            "2\n",
            "1\n",
            "0\n",
            "1\n"
          ]
        }
      ]
    },
    {
      "cell_type": "code",
      "source": [
        "# 問題\n",
        "# B - Kagami Mochi\n",
        "# X 段重ねの鏡餅 (X≥1) とは、X 枚の円形の餅を縦に積み重ねたものであって、\n",
        "# どの餅もその真下の餅より直径が小さい（一番下の餅を除く）もののことです。\n",
        "# 例えば、直径 10、8、6 センチメートルの餅をこの順に下から積み重ねると \n",
        "# 3 段重ねの鏡餅になり、餅を一枚だけ置くと 1 段重ねの鏡餅になります。\n",
        "# ダックスフンドのルンルンは N 枚の円形の餅を持っていて、\n",
        "# そのうち i 枚目の餅の直径は d_i センチメートルです。\n",
        "# これらの餅のうち一部または全部を使って鏡餅を作るとき、\n",
        "# 最大で何段重ねの鏡餅を作ることができるでしょうか。\n",
        "# 作ることのできる鏡餅の最大の段数を出力せよ。\n",
        "%%writefile temp.cpp\n",
        "#include <bits/stdc++.h>\n",
        "using namespace std;\n",
        "\n",
        "int main() {\n",
        "  int N;\n",
        "  cin >> N;\n",
        "  vector<int> mochi(N);\n",
        "  vector<int> mochiset = {};\n",
        "  bool intheset = false;\n",
        "  for (int i = 0; i < N; i++) {\n",
        "    cin >> mochi.at(i);\n",
        "  }\n",
        "  for (int i = 0; i < N; i++) {\n",
        "    if (i == 0) {\n",
        "      mochiset.push_back(mochi.at(i));\n",
        "      continue;\n",
        "    }\n",
        "    for (int j = 0; j < i; j++) {\n",
        "      if (mochi.at(i) == mochi.at(j)) intheset = true;\n",
        "    }\n",
        "    if (intheset == false) {\n",
        "      mochiset.push_back(mochi.at(i));\n",
        "    }\n",
        "    else { intheset = false; }\n",
        "  }\n",
        "  cout << mochiset.size() << endl;\n",
        "}"
      ],
      "metadata": {
        "id": "AUO_1RaFZLnR",
        "colab": {
          "base_uri": "https://localhost:8080/"
        },
        "outputId": "06240d9b-bee8-4a20-efee-8c1c831a5023"
      },
      "execution_count": null,
      "outputs": [
        {
          "output_type": "stream",
          "name": "stdout",
          "text": [
            "Overwriting temp.cpp\n"
          ]
        }
      ]
    },
    {
      "cell_type": "code",
      "source": [
        "!g++ temp.cpp -o temp; echo 4 10 8 8 6 | ./temp #=> 3\n",
        "!g++ temp.cpp -o temp; echo 3 15 15 15 | ./temp #=> 1\n",
        "!g++ temp.cpp -o temp; echo 7 50 30 50 100 50 80 30 | ./temp #=> 4"
      ],
      "metadata": {
        "id": "8DfRdTQoZLTY",
        "colab": {
          "base_uri": "https://localhost:8080/"
        },
        "outputId": "1991a9f5-92cd-46b4-a986-f00f55f59af5"
      },
      "execution_count": null,
      "outputs": [
        {
          "output_type": "stream",
          "name": "stdout",
          "text": [
            "3\n",
            "1\n",
            "4\n"
          ]
        }
      ]
    },
    {
      "cell_type": "markdown",
      "source": [
        "# O - 1.14.STLの関数 "
      ],
      "metadata": {
        "id": "JYNzgIiEorrS"
      }
    },
    {
      "cell_type": "code",
      "source": [
        "# 関数の例\n",
        "%%writefile temp.cpp\n",
        "#include <bits/stdc++.h>\n",
        "using namespace std;\n",
        "\n",
        "int my_min(int x, int y) {\n",
        "  if (x < y) {\n",
        "    return x;\n",
        "  }\n",
        "  else {\n",
        "    return y;\n",
        "  }\n",
        "}\n",
        "\n",
        "int main() {\n",
        "  int answer = my_min(10, 5);\n",
        "  cout << answer << endl; // 5\n",
        "}"
      ],
      "metadata": {
        "id": "UQZ2xyJioq4Z",
        "colab": {
          "base_uri": "https://localhost:8080/"
        },
        "outputId": "c182a582-989f-42f2-dde1-14298094998a"
      },
      "execution_count": null,
      "outputs": [
        {
          "output_type": "stream",
          "name": "stdout",
          "text": [
            "Overwriting temp.cpp\n"
          ]
        }
      ]
    },
    {
      "cell_type": "code",
      "source": [
        "!g++ temp.cpp -o temp;  ./temp"
      ],
      "metadata": {
        "colab": {
          "base_uri": "https://localhost:8080/"
        },
        "id": "SNjwIERXdy33",
        "outputId": "0fee9f7e-8dc7-42aa-95bc-403d0918b2e4"
      },
      "execution_count": null,
      "outputs": [
        {
          "output_type": "stream",
          "name": "stdout",
          "text": [
            "5\n"
          ]
        }
      ]
    },
    {
      "cell_type": "code",
      "source": [
        "# 上の例を無名関数にしてみよう\n",
        "%%writefile temp.cpp\n",
        "#include <bits/stdc++.h>\n",
        "using namespace std;\n",
        "\n",
        "int main() {\n",
        "  cout << [](int x, int y){if(x<y) return x;else return y;}(8,7) << endl; // 7\n",
        "}"
      ],
      "metadata": {
        "colab": {
          "base_uri": "https://localhost:8080/"
        },
        "id": "ewatF7ccd8J_",
        "outputId": "151c972f-9fab-49fd-c2da-6534601a8567"
      },
      "execution_count": null,
      "outputs": [
        {
          "output_type": "stream",
          "name": "stdout",
          "text": [
            "Overwriting temp.cpp\n"
          ]
        }
      ]
    },
    {
      "cell_type": "code",
      "source": [
        "!g++ temp.cpp -o temp; ./temp"
      ],
      "metadata": {
        "colab": {
          "base_uri": "https://localhost:8080/"
        },
        "id": "JYe83XcJeaEc",
        "outputId": "6d89c6ad-53a5-4b0e-c476-433f1cc8c9d3"
      },
      "execution_count": null,
      "outputs": [
        {
          "output_type": "stream",
          "name": "stdout",
          "text": [
            "7\n"
          ]
        }
      ]
    },
    {
      "cell_type": "code",
      "source": [
        "# 関数の引数に参照 `&` を使う例\n",
        "# 参照元の値を変更している\n",
        "%%writefile temp.cpp\n",
        "#include <bits/stdc++.h>\n",
        "using namespace std;\n",
        "\n",
        "void change(int& n, vector<int>& vec) {\n",
        "  n = 1;\n",
        "  vec.at(0) = 1;\n",
        "  return;\n",
        "}\n",
        "\n",
        "int main() {\n",
        "  int x = 5;\n",
        "  vector<int> v = { 10, 10, 10 };\n",
        "\n",
        "  change(x, v);\n",
        "\n",
        "  cout << x << endl;\n",
        "  cout << v.at(0) << endl;\n",
        "}"
      ],
      "metadata": {
        "colab": {
          "base_uri": "https://localhost:8080/"
        },
        "id": "V6PjNpBVgqPj",
        "outputId": "11f4bc00-acf2-43c7-b4c4-0d9cc6f6ba10"
      },
      "execution_count": null,
      "outputs": [
        {
          "output_type": "stream",
          "name": "stdout",
          "text": [
            "Overwriting temp.cpp\n"
          ]
        }
      ]
    },
    {
      "cell_type": "code",
      "source": [
        "!g++ temp.cpp -o temp; ./temp"
      ],
      "metadata": {
        "colab": {
          "base_uri": "https://localhost:8080/"
        },
        "id": "bAEFR3VVhnUT",
        "outputId": "87e59d03-5d38-4c76-fe5d-efba75fba162"
      },
      "execution_count": null,
      "outputs": [
        {
          "output_type": "stream",
          "name": "stdout",
          "text": [
            "1\n",
            "1\n"
          ]
        }
      ]
    },
    {
      "cell_type": "code",
      "source": [
        "# 再帰の例\n",
        "%%writefile temp.cpp\n",
        "#include <bits/stdc++.h>\n",
        "using namespace std;\n",
        " \n",
        "// 0からnまでの和を求める関数 sum\n",
        "int sum(int n) {\n",
        "  if (n == 0) {\n",
        "    return 0;\n",
        "  }\n",
        "  return n + sum(n - 1);\n",
        "}\n",
        " \n",
        "int main() {\n",
        "  cout << sum(3) << endl;\n",
        "} // 6"
      ],
      "metadata": {
        "id": "bUgLKtTCURoC",
        "colab": {
          "base_uri": "https://localhost:8080/"
        },
        "outputId": "d6994917-6239-48e5-9888-f89207a6f50b"
      },
      "execution_count": null,
      "outputs": [
        {
          "output_type": "stream",
          "name": "stdout",
          "text": [
            "Overwriting temp.cpp\n"
          ]
        }
      ]
    },
    {
      "cell_type": "code",
      "source": [
        "!g++ temp.cpp -o temp; ./temp"
      ],
      "metadata": {
        "colab": {
          "base_uri": "https://localhost:8080/"
        },
        "id": "tw0AUobCiVSN",
        "outputId": "23767fb9-4e67-49cc-d127-5fdfcd7c73cf"
      },
      "execution_count": null,
      "outputs": [
        {
          "output_type": "stream",
          "name": "stdout",
          "text": [
            "6\n"
          ]
        }
      ]
    },
    {
      "cell_type": "code",
      "source": [
        "# 問題\n",
        "# EX14 - 三人兄弟の身長差\n",
        "# 三人兄弟のA君とB君とC君が背くらべをしています。\n",
        "# 三人の身長が与えられるので、最も大きい人と最も小さい人の身長差を出力してください。\n",
        "# 例えば、A君の身長が160、B君の身長が154、C君の身長が152であるとします。\n",
        "# このとき最も大きいのはA君で、最も小さいのはC君なので、出力は8になります。\n",
        "# この問題はSTLの関数を使わなくても解けますが、STLの関数を使うと簡潔にプログラムを記述できます。\n",
        "# 最もが大きい人と最も小さい人の身長差を出力してください。\n",
        "# 160 154 152 #=> 8\n",
        "%%writefile temp.cpp\n",
        "#include <bits/stdc++.h>\n",
        "using namespace std;\n",
        " \n",
        "int main() {\n",
        "  vector<int> v(3);\n",
        "  for(int i=0; i < v.size(); i++) cin >> v.at(i);\n",
        "  sort(v.begin(), v.end());\n",
        "  cout << v.at(v.size()-1) - v.at(0) << endl;\n",
        "}"
      ],
      "metadata": {
        "id": "T0BN-PbZ8sBi",
        "outputId": "e0ef40ba-1f87-48aa-f268-0ba5d9f633c7",
        "colab": {
          "base_uri": "https://localhost:8080/"
        }
      },
      "execution_count": null,
      "outputs": [
        {
          "output_type": "stream",
          "name": "stdout",
          "text": [
            "Overwriting temp.cpp\n"
          ]
        }
      ]
    },
    {
      "cell_type": "code",
      "source": [
        "!g++ temp.cpp -o temp; echo 160 154 152 | ./temp #=> 8\n",
        "!g++ temp.cpp -o temp; echo 200 200 200 |./temp #=> 0\n",
        "!g++ temp.cpp -o temp; echo 145 1 170 |./temp #=> 169\n",
        "!g++ temp.cpp -o temp; echo 150 190 160 |./temp #=> 40"
      ],
      "metadata": {
        "id": "9AFdye8L8r3j",
        "outputId": "07714b03-173b-4c43-da2a-fd702904f156",
        "colab": {
          "base_uri": "https://localhost:8080/"
        }
      },
      "execution_count": null,
      "outputs": [
        {
          "output_type": "stream",
          "name": "stdout",
          "text": [
            "8\n",
            "0\n",
            "169\n",
            "40\n"
          ]
        }
      ]
    },
    {
      "cell_type": "code",
      "source": [
        ""
      ],
      "metadata": {
        "id": "KUpcrK_TOwaw"
      },
      "execution_count": null,
      "outputs": []
    },
    {
      "cell_type": "code",
      "source": [
        ""
      ],
      "metadata": {
        "id": "k6aTR4GAOwSI"
      },
      "execution_count": null,
      "outputs": []
    },
    {
      "cell_type": "code",
      "source": [
        "# 問題\n",
        "# B - Card Game for Two\n",
        "# N 枚のカードがあります. i 枚目のカードには, a_i という数が書かれています.\n",
        "# Alice と Bob は, これらのカードを使ってゲームを行います. ゲームでは, \n",
        "# Alice と Bob が交互に 1 枚ずつカードを取っていきます. Alice が先にカードを取ります.\n",
        "# 2 人がすべてのカードを取ったときゲームは終了し, 取ったカードの数の合計がその人の得点になります. \n",
        "# 2 人とも自分の得点を最大化するように最適な戦略を取った時, Alice は Bob より何点多く取るか求めてください.\n",
        "# 両者が最適な戦略を取った時, Alice は Bob より何点多く取るかを出力してください.\n",
        "# 2 3 1 #=> 2\n",
        "%%writefile temp.cpp\n",
        "#include <bits/stdc++.h>\n",
        "using namespace std;\n",
        " \n",
        "int main() {\n",
        "    int N, Alice, Bob;\n",
        "    cin >> N;\n",
        "    Alice = Bob = 0;\n",
        "    vector<int> v(N);\n",
        "    for(int i=0; i < v.size(); i++) cin >> v.at(i);\n",
        "    sort(v.begin(), v.end());\n",
        "    reverse(v.begin(), v.end());\n",
        "    for(int i=0;i<v.size();i++){\n",
        "        if (i%2==0) Alice += v.at(i);\n",
        "        else Bob += v.at(i);\n",
        "    }\n",
        "    cout << Alice - Bob << endl;\n",
        "}"
      ],
      "metadata": {
        "id": "nJQfwse8MPYp",
        "outputId": "cfe3e9ff-70fb-4248-b79d-a3ee2b223d65",
        "colab": {
          "base_uri": "https://localhost:8080/"
        }
      },
      "execution_count": null,
      "outputs": [
        {
          "output_type": "stream",
          "name": "stdout",
          "text": [
            "Overwriting temp.cpp\n"
          ]
        }
      ]
    },
    {
      "cell_type": "code",
      "source": [
        "!g++ temp.cpp -o temp; echo 2 3 1 | ./temp #=> 2\n",
        "!g++ temp.cpp -o temp; echo 3 2 7 4 | ./temp #=> 5\n",
        "!g++ temp.cpp -o temp; echo 4 20 18 2 18 | ./temp #=> 18"
      ],
      "metadata": {
        "id": "XFEmEa_jMPLB",
        "outputId": "a8cfec3c-3909-4704-d0a1-87ad3618eb06",
        "colab": {
          "base_uri": "https://localhost:8080/"
        }
      },
      "execution_count": null,
      "outputs": [
        {
          "output_type": "stream",
          "name": "stdout",
          "text": [
            "2\n",
            "5\n",
            "18\n"
          ]
        }
      ]
    },
    {
      "cell_type": "code",
      "source": [
        "# 問題\n",
        "# B - Kagami Mochi (revisited)\n",
        "# X 段重ねの鏡餅 (X≥1) とは、X 枚の円形の餅を縦に積み重ねたものであって、\n",
        "# どの餅もその真下の餅より直径が小さい（一番下の餅を除く）もののことです。\n",
        "# 例えば、直径 10、8、6 センチメートルの餅をこの順に下から積み重ねると \n",
        "# 3 段重ねの鏡餅になり、餅を一枚だけ置くと 1 段重ねの鏡餅になります。\n",
        "# ダックスフンドのルンルンは N 枚の円形の餅を持っていて、\n",
        "# そのうち i 枚目の餅の直径は d_i センチメートルです。\n",
        "# これらの餅のうち一部または全部を使って鏡餅を作るとき、\n",
        "# 最大で何段重ねの鏡餅を作ることができるでしょうか。\n",
        "# 作ることのできる鏡餅の最大の段数を出力せよ。\n",
        "%%writefile temp.cpp\n",
        "#include <bits/stdc++.h>\n",
        "using namespace std;\n",
        "\n",
        "int main() {\n",
        "  int N, X;\n",
        "  cin >> N;\n",
        "  X = 1;\n",
        "  vector<int> vec(N);\n",
        "  for (int i = 0; i < N; i++) cin >> vec.at(i);\n",
        "  sort(vec.begin(),vec.end());\n",
        "  for(int i=0; i < vec.size()-1; i++){\n",
        "      if (vec.at(i) != vec.at(i+1)) X++;\n",
        "  }\n",
        "  cout << X << endl;\n",
        "}"
      ],
      "metadata": {
        "id": "UtvWaTsfRfzD",
        "outputId": "5212ba1e-3b98-4eba-8acb-f38217d4ab27",
        "colab": {
          "base_uri": "https://localhost:8080/"
        }
      },
      "execution_count": null,
      "outputs": [
        {
          "output_type": "stream",
          "name": "stdout",
          "text": [
            "Overwriting temp.cpp\n"
          ]
        }
      ]
    },
    {
      "cell_type": "code",
      "source": [
        "!g++ temp.cpp -o temp; echo 4 10 8 8 6 | ./temp #=> 3\n",
        "!g++ temp.cpp -o temp; echo 3 15 15 15 | ./temp #=> 1\n",
        "!g++ temp.cpp -o temp; echo 7 50 30 50 100 50 80 30 | ./temp #=> 4"
      ],
      "metadata": {
        "id": "qtD-QTfnRfnj",
        "outputId": "4533a46b-4d32-4103-f25e-66feee53b025",
        "colab": {
          "base_uri": "https://localhost:8080/"
        }
      },
      "execution_count": null,
      "outputs": [
        {
          "output_type": "stream",
          "name": "stdout",
          "text": [
            "3\n",
            "1\n",
            "4\n"
          ]
        }
      ]
    },
    {
      "cell_type": "markdown",
      "source": [
        "---\n",
        "問題 EX15.三人兄弟へのプレゼント\n",
        "\n",
        "問題文\n",
        "三人兄弟のA君とB君とC君は、お父さんに1つのプレゼントを貰うことになりました。\n",
        "貰えるプレゼントの予算は「テストの合計点の積」で決まります。\n",
        "\n",
        "プレゼントの予算 = $(A_1+\\dots+A_n)\\times(B_1)$"
      ],
      "metadata": {
        "id": "4-0O_9lzicIl"
      }
    },
    {
      "cell_type": "code",
      "source": [
        "# 問題 EX15.三人兄弟へのプレゼント\n",
        "# 途中まで書かれたプログラムに沿って完成させること\n",
        "%%writefile temp.cpp\n",
        "#include <bits/stdc++.h>\n",
        "using namespace std;\n",
        "\n",
        "// 1人のテストの点数を表す配列から合計点を計算して返す関数\n",
        "// 返り値: 1人のテストの合計点\n",
        "int sum(vector<int> scores) {\n",
        "  int sum = 0;\n",
        "  for(int i=0; i < scores.size(); i++){sum += scores.at(i);};\n",
        "  return sum;\n",
        "}\n",
        "\n",
        "// 3人の合計点からプレゼントの予算を計算して出力する関数\n",
        "// 返り値: なし\n",
        "void output(int sum_a, int sum_b, int sum_c) {\n",
        "  cout << sum_a*sum_b*sum_c << endl;\n",
        "}\n",
        "\n",
        "// N個の入力を受け取って配列に入れて返す関数\n",
        "// 引数 N: 入力を受け取る個数\n",
        "// 返り値: 受け取ったN個の入力の配列\n",
        "vector<int> input(int N) {\n",
        "  vector<int> vec(N);\n",
        "  for (int i = 0; i < N; i++) {\n",
        "    cin >> vec.at(i);\n",
        "  }\n",
        "  return vec;\n",
        "}\n",
        "\n",
        "int main() {\n",
        "  // 科目の数Nを受け取る\n",
        "  int N;\n",
        "  cin >> N;\n",
        "\n",
        "  // それぞれのテストの点数を受け取る\n",
        "  vector<int> A = input(N);\n",
        "  vector<int> B = input(N);\n",
        "  vector<int> C = input(N);\n",
        "\n",
        "  // それぞれの合計点を計算\n",
        "  int sum_A = sum(A);\n",
        "  int sum_B = sum(B);\n",
        "  int sum_C = sum(C);\n",
        "\n",
        "  // プレゼントの予算を出力\n",
        "  output(sum_A, sum_B, sum_C);\n",
        "}"
      ],
      "metadata": {
        "colab": {
          "base_uri": "https://localhost:8080/"
        },
        "id": "g9A2t3y9iLwF",
        "outputId": "0a5893a2-4cb9-41b9-adaf-ae9e9c587d36"
      },
      "execution_count": null,
      "outputs": [
        {
          "output_type": "stream",
          "name": "stdout",
          "text": [
            "Writing temp.cpp\n"
          ]
        }
      ]
    },
    {
      "cell_type": "code",
      "source": [
        "!g++ temp.cpp -o temp; echo 2 5 7 4 10 9 2 |./temp  #=> 1848\n",
        "!g++ temp.cpp -o temp; echo 3 100 100 100 100 100 100 100 100 100 |./temp #=> 27000000\n",
        "!g++ temp.cpp -o temp; echo 5 95 20 74 81 10 100 50 32 84 31 0 0 0 0 0 |./temp #=> 0\n",
        "!g++ temp.cpp -o temp; echo 2 10 0 0 5 1 1 |./temp #=> 100"
      ],
      "metadata": {
        "colab": {
          "base_uri": "https://localhost:8080/"
        },
        "id": "c60XFlHxkgN2",
        "outputId": "b52f52e9-a908-419c-d5aa-120e591163f8"
      },
      "execution_count": null,
      "outputs": [
        {
          "output_type": "stream",
          "name": "stdout",
          "text": [
            "1848\n",
            "27000000\n",
            "0\n",
            "100\n"
          ]
        }
      ]
    },
    {
      "cell_type": "code",
      "source": [
        "# 範囲for文の構文\n",
        "# for (配列の要素の型 変数名 : 配列変数) {}\n",
        "# 問題 整数 a と 5個の整数を与えられて、a と等しいものの個数を求める\n",
        "# 入力例 入力例 3 1 3 2 5 3 => 2\n",
        "%%writefile temp.cpp\n",
        "#include <bits/stdc++.h>\n",
        "using namespace std;\n",
        "\n",
        "int main() {\n",
        "  int a;\n",
        "  cin >> a;\n",
        "  vector<int> data(5);\n",
        "  for (int i = 0; i < 5; i++) {\n",
        "    cin >> data.at(i);\n",
        "  }\n",
        "  \n",
        "  int count = 0;\n",
        "  for (int item : data) {\n",
        "      if (item == a) count++;\n",
        "  }\n",
        "\n",
        "  cout << count << endl;\n",
        "}\n"
      ],
      "metadata": {
        "id": "I0QRsdz8qEUI",
        "outputId": "303eee5d-e083-4194-92fe-d1b64322f1dd",
        "colab": {
          "base_uri": "https://localhost:8080/"
        }
      },
      "execution_count": null,
      "outputs": [
        {
          "output_type": "stream",
          "name": "stdout",
          "text": [
            "Overwriting temp.cpp\n"
          ]
        }
      ]
    },
    {
      "cell_type": "code",
      "source": [
        "!g++ temp.cpp -o temp; echo 3 1 3 2 5 3 |./temp"
      ],
      "metadata": {
        "id": "w0ydvnIXtv1N",
        "outputId": "2353031b-e850-4ebb-fe3d-06bac097841c",
        "colab": {
          "base_uri": "https://localhost:8080/"
        }
      },
      "execution_count": null,
      "outputs": [
        {
          "output_type": "stream",
          "name": "stdout",
          "text": [
            "2\n"
          ]
        }
      ]
    },
    {
      "cell_type": "code",
      "source": [
        "# 範囲for文はvectorだけでなくコンテナと呼ばれるデータ型に対して使うことが出来る\n",
        "# 文字列(string)はコンテナの一種なので、範囲for文を用いることが出来る\n",
        "%%writefile temp.cpp\n",
        "#include <bits/stdc++.h>\n",
        "using namespace std;\n",
        " \n",
        "int main() {\n",
        "  string str = \"hello\";\n",
        "  for (char c : str) {\n",
        "    if (c == 'l') {\n",
        "      c = 'L';\n",
        "    }\n",
        "    cout << c;\n",
        "  }\n",
        "  cout << endl;\n",
        "}"
      ],
      "metadata": {
        "id": "7ubpn-YxrqkF",
        "colab": {
          "base_uri": "https://localhost:8080/"
        },
        "outputId": "f43a26b5-9de4-413d-999b-e55a42218879"
      },
      "execution_count": null,
      "outputs": [
        {
          "output_type": "stream",
          "name": "stdout",
          "text": [
            "Overwriting temp.cpp\n"
          ]
        }
      ]
    },
    {
      "cell_type": "code",
      "source": [
        "!g++ temp.cpp -o temp; ./temp"
      ],
      "metadata": {
        "colab": {
          "base_uri": "https://localhost:8080/"
        },
        "id": "UgB5QldN_fE_",
        "outputId": "c3c4e06b-cfe1-4685-fb35-6382457eb5a3"
      },
      "execution_count": null,
      "outputs": [
        {
          "output_type": "stream",
          "name": "stdout",
          "text": [
            "heLLo\n"
          ]
        }
      ]
    },
    {
      "cell_type": "code",
      "source": [
        "# 実験\n",
        "# how to c++ sum all elements in multidimensional vector\n",
        "%%writefile temp.cpp\n",
        "#include <bits/stdc++.h>\n",
        "using namespace std;\n",
        "\n",
        "int main() {\n",
        "  int sum;\n",
        "\n",
        "  vector<vector<int>> data = {\n",
        "    {7, 4, 0, 8},\n",
        "    {2, 0, 3, 5},\n",
        "    {6, 1, 7, 0},\n",
        "  };\n",
        "  sum = 0;\n",
        "  for (int i = 0; i < data.size(); i++) {\n",
        "    for (int j = 0; j < data.at(i).size();j++) {\n",
        "      sum += data.at(i).at(j);\n",
        "    }\n",
        "  };\n",
        "  cout << sum << endl;\n",
        "  sum = 0;\n",
        "\n",
        "  // 範囲for文が使えないか\n",
        "  for (vector<int> vec : data) {\n",
        "    for (int item : vec) {\n",
        "      sum += item;\n",
        "    }\n",
        "  }\n",
        "  cout << sum << endl;\n",
        "}"
      ],
      "metadata": {
        "id": "EQl--G-4ZLf-",
        "outputId": "52b60a6d-7dec-4477-f458-6c5e4e5ecaa3",
        "colab": {
          "base_uri": "https://localhost:8080/"
        }
      },
      "execution_count": null,
      "outputs": [
        {
          "output_type": "stream",
          "name": "stdout",
          "text": [
            "Overwriting temp.cpp\n"
          ]
        }
      ]
    },
    {
      "cell_type": "code",
      "source": [
        "!g++ temp.cpp -o temp; ./temp"
      ],
      "metadata": {
        "id": "moj3bcJiaFso",
        "outputId": "a833c830-13d2-4b73-99f9-351ef97a7eae",
        "colab": {
          "base_uri": "https://localhost:8080/"
        }
      },
      "execution_count": null,
      "outputs": [
        {
          "output_type": "stream",
          "name": "stdout",
          "text": [
            "43\n",
            "43\n"
          ]
        }
      ]
    },
    {
      "cell_type": "code",
      "source": [
        "# ループ構文の使い分け\n",
        "# while文が適しているケース\n",
        "# 「整数Nがあるとき、Nが2で最大で何回割り切れるかを求める」という処理を考える\n",
        "%%writefile temp.cpp\n",
        "#include <bits/stdc++.h>\n",
        "using namespace std;\n",
        " \n",
        "int main() {\n",
        "  int N;\n",
        "  cin >> N;\n",
        " \n",
        "  int count = 0;\n",
        "  while (N > 0) {\n",
        "    // 2で割り切れなければループを抜ける\n",
        "    if (N % 2 > 0) {\n",
        "      break;\n",
        "    }\n",
        "    N = N / 2;\n",
        "    count++;\n",
        "  }\n",
        "  cout << count << endl;\n",
        "}"
      ],
      "metadata": {
        "colab": {
          "base_uri": "https://localhost:8080/"
        },
        "id": "SErFyC1R_aB1",
        "outputId": "bad4bed3-cf67-44ed-c45f-1a0f2c8fa377"
      },
      "execution_count": null,
      "outputs": [
        {
          "output_type": "stream",
          "name": "stdout",
          "text": [
            "Overwriting temp.cpp\n"
          ]
        }
      ]
    },
    {
      "cell_type": "code",
      "source": [
        "!g++ temp.cpp -o temp; echo 8 |./temp"
      ],
      "metadata": {
        "colab": {
          "base_uri": "https://localhost:8080/"
        },
        "id": "CE7R7BNxAZJZ",
        "outputId": "92052b4b-27ae-44a6-cd51-6c3e5382acd5"
      },
      "execution_count": null,
      "outputs": [
        {
          "output_type": "stream",
          "name": "stdout",
          "text": [
            "3\n"
          ]
        }
      ]
    },
    {
      "cell_type": "code",
      "source": [
        "# 問題\n",
        "# 再帰を使って while を使わずに    \n",
        "# 整数Nがあるとき、Nが2で最大で何回割り切れるかを求める\n",
        "%%writefile temp.cpp\n",
        "#include <bits/stdc++.h>\n",
        "using namespace std;\n",
        "\n",
        "int binpower(int n){\n",
        "    if (n == 0) return 0;\n",
        "    else if (n%2 == 1) return 0;\n",
        "    else return (1+ binpower(n/2));\n",
        "}\n",
        " \n",
        "int main() {\n",
        "  int N;\n",
        "  cin >> N;\n",
        " \n",
        "  cout << binpower(N) << endl;\n",
        "}"
      ],
      "metadata": {
        "id": "QwIVcMgtlUFT",
        "outputId": "2c3b858d-c62e-4003-b3d8-ad794e84e44f",
        "colab": {
          "base_uri": "https://localhost:8080/"
        }
      },
      "execution_count": null,
      "outputs": [
        {
          "output_type": "stream",
          "name": "stdout",
          "text": [
            "Overwriting temp.cpp\n"
          ]
        }
      ]
    },
    {
      "cell_type": "code",
      "source": [
        "!g++ temp.cpp -o temp; echo 8 |./temp"
      ],
      "metadata": {
        "id": "eeVvSpWxlT91",
        "outputId": "dd2c1f10-082b-45f6-c1fc-e44008f010e5",
        "colab": {
          "base_uri": "https://localhost:8080/"
        }
      },
      "execution_count": null,
      "outputs": [
        {
          "output_type": "stream",
          "name": "stdout",
          "text": [
            "3\n"
          ]
        }
      ]
    },
    {
      "cell_type": "code",
      "source": [
        "# 問題\n",
        "# EX16.隣り合う同じ値を探す\n",
        "# 5つの要素からなる配列 同じ値の要素が隣り合っているような箇所が存在するかどうかを判定\n",
        "# 存在するなら\"YES\"を、存在しなければ\"NO\"を出力\n",
        "# 5 3 3 1 4 #=> YES\n",
        "%%writefile temp.cpp\n",
        "#include <bits/stdc++.h>\n",
        "using namespace std;\n",
        "\n",
        "int main() {\n",
        "  vector<int> data(5);\n",
        "  for (int i = 0; i < 5; i++) {\n",
        "    cin >> data.at(i);\n",
        "  };\n",
        "\n",
        "  string answer = \"NO\";\n",
        "\n",
        "  for (int i = 0; i < data.size()-1;i++){\n",
        "      if (data.at(i)==data.at(i+1)){\n",
        "          answer = \"YES\";\n",
        "          break;\n",
        "      }\n",
        "  };\n",
        "  cout << answer << endl;\n",
        "}\n"
      ],
      "metadata": {
        "colab": {
          "base_uri": "https://localhost:8080/"
        },
        "id": "msYGRA1YF3ZR",
        "outputId": "579279e6-20d0-4c5e-8348-953a8488a95a"
      },
      "execution_count": null,
      "outputs": [
        {
          "output_type": "stream",
          "name": "stdout",
          "text": [
            "Overwriting temp.cpp\n"
          ]
        }
      ]
    },
    {
      "cell_type": "code",
      "source": [
        "!g++ temp.cpp -o temp; echo 5 3 3 1 4 |./temp #=> YES\n",
        "!g++ temp.cpp -o temp; echo 1 1 2 3 4 |./temp #=>YES\n",
        "!g++ temp.cpp -o temp; echo 1 2 1 2 1 |./temp #=>NO\n",
        "!g++ temp.cpp -o temp; echo 100 100 100 100 100 |./temp #=>YES"
      ],
      "metadata": {
        "colab": {
          "base_uri": "https://localhost:8080/"
        },
        "id": "Nnc-sRsLF2nz",
        "outputId": "fead5df9-615d-4091-fa3f-011fc7148a39"
      },
      "execution_count": null,
      "outputs": [
        {
          "output_type": "stream",
          "name": "stdout",
          "text": [
            "YES\n",
            "YES\n",
            "NO\n",
            "YES\n"
          ]
        }
      ]
    },
    {
      "cell_type": "code",
      "source": [
        "# 多重ループ \n",
        "%%writefile temp.cpp\n",
        "#include <bits/stdc++.h>\n",
        "using namespace std;\n",
        " \n",
        "int main() {\n",
        "  for (int i = 0; i < 2; i++) {\n",
        "    for (int j = 0; j < 2; j++) {\n",
        "      for (int k = 0; k < 2; k++) {\n",
        "        cout << \"i:\" << i << \", j:\" << j << \", k:\" << k << endl;\n",
        "      }\n",
        "    }\n",
        "  }\n",
        "}"
      ],
      "metadata": {
        "id": "IYFmSN-5IetI",
        "outputId": "25d99d83-244a-4661-ae73-906abd34e318",
        "colab": {
          "base_uri": "https://localhost:8080/"
        }
      },
      "execution_count": null,
      "outputs": [
        {
          "output_type": "stream",
          "name": "stdout",
          "text": [
            "Overwriting temp.cpp\n"
          ]
        }
      ]
    },
    {
      "cell_type": "code",
      "source": [
        "!g++ temp.cpp -o temp; ./temp"
      ],
      "metadata": {
        "id": "QPEkEMZJGfCr",
        "outputId": "23c36a16-2d01-4c81-b182-8af67d683d85",
        "colab": {
          "base_uri": "https://localhost:8080/"
        }
      },
      "execution_count": null,
      "outputs": [
        {
          "output_type": "stream",
          "name": "stdout",
          "text": [
            "i:0, j:0, k:0\n",
            "i:0, j:0, k:1\n",
            "i:0, j:1, k:0\n",
            "i:0, j:1, k:1\n",
            "i:1, j:0, k:0\n",
            "i:1, j:0, k:1\n",
            "i:1, j:1, k:0\n",
            "i:1, j:1, k:1\n"
          ]
        }
      ]
    },
    {
      "cell_type": "code",
      "source": [
        "# 例題「3要素の2つの配列A, Bに同じ要素が含まれているかどうか判定する」\n",
        "# 入力 1 3 2 4 5 3 => YES\n",
        "%%writefile temp.cpp\n",
        "#include <bits/stdc++.h>\n",
        "using namespace std;\n",
        " \n",
        "int main() {\n",
        "  vector<int> A(3), B(3);\n",
        "  for (int i = 0; i < 3; i++) {\n",
        "    cin >> A.at(i);\n",
        "  }\n",
        "  for (int i = 0; i < 3; i++) {\n",
        "    cin >> B.at(i);\n",
        "  }\n",
        " \n",
        "  // 答えを保持する変数\n",
        "  bool answer = false;\n",
        " \n",
        "  // ここにプログラムを追記\n",
        "  for (int i = 0; i < 3; i++) {\n",
        "    for (int j = 0; j < 3; j++) {\n",
        "      if (A.at(i) == B.at(j)) {\n",
        "        answer = true;\n",
        "      }\n",
        "    }\n",
        "  }\n",
        " \n",
        "  if (answer) {\n",
        "    cout << \"YES\" << endl;\n",
        "  }\n",
        "  else {\n",
        "    cout << \"NO\" << endl;\n",
        "  }\n",
        "}"
      ],
      "metadata": {
        "id": "e1Dt1ENtGWfr",
        "outputId": "ef52f63e-badb-403a-95a2-5700aec54464",
        "colab": {
          "base_uri": "https://localhost:8080/"
        }
      },
      "execution_count": null,
      "outputs": [
        {
          "output_type": "stream",
          "name": "stdout",
          "text": [
            "Overwriting temp.cpp\n"
          ]
        }
      ]
    },
    {
      "cell_type": "code",
      "source": [
        "!g++ temp.cpp -o temp; echo 1 3 2 4 5 3 |./temp"
      ],
      "metadata": {
        "id": "hsdwzl8UHlnE",
        "outputId": "c7a4cdbc-f41f-45aa-fb43-787c5f847ee5",
        "colab": {
          "base_uri": "https://localhost:8080/"
        }
      },
      "execution_count": null,
      "outputs": [
        {
          "output_type": "stream",
          "name": "stdout",
          "text": [
            "YES\n"
          ]
        }
      ]
    },
    {
      "cell_type": "code",
      "source": [
        "# 問題\n",
        "# EX17.果物屋さんでお買い物\n",
        "# ある果物屋では、リンゴ・パイナップルがそれぞれN個売られてる。\n",
        "# リンゴ・パイナップルをそれぞれ1つずつ選んで購入しようとするとき、合計金額が丁# 度S円になるような買い方が何通りあるか。\n",
        "# 同じ値段の同じ種類の商品でも区別する。\n",
        "%%writefile temp.cpp\n",
        "#include <bits/stdc++.h>\n",
        "using namespace std;\n",
        "\n",
        "int main() {\n",
        "  int N, S;\n",
        "  cin >> N >> S;\n",
        "  vector<int> A(N), P(N);\n",
        "  for (int i = 0; i < N; i++) {\n",
        "    cin >> A.at(i);\n",
        "  }\n",
        "  for (int i = 0; i < N; i++) {\n",
        "    cin >> P.at(i);\n",
        "  }\n",
        "\n",
        "  // リンゴ・パイナップルをそれぞれ1つずつ購入するとき合計S円になるような買い方が何通りあるか\n",
        "  // ここにプログラムを追記\n",
        "  int counter = 0;\n",
        "  for (int i = 0; i < N; i++) {\n",
        "    for (int j = 0; j < N; j++) {\n",
        "      if (A.at(i) + P.at(j) == S) counter++;\n",
        "    }\n",
        "  }\n",
        "  cout << counter << endl;\n",
        "}"
      ],
      "metadata": {
        "id": "CnTE-C_m888j",
        "outputId": "fd74f2f1-eb49-48e6-a6b3-c19a1256e7cf",
        "colab": {
          "base_uri": "https://localhost:8080/"
        }
      },
      "execution_count": null,
      "outputs": [
        {
          "output_type": "stream",
          "name": "stdout",
          "text": [
            "Writing temp.cpp\n"
          ]
        }
      ]
    },
    {
      "cell_type": "code",
      "source": [
        "!g++ temp.cpp -o temp; echo 3 400 100 100 130 270 300 250  |./temp #=> 3\n",
        "!g++ temp.cpp -o temp; echo 10 600 70 110 90 120 90 20 260 150 220 150 170 100 250 350 60 280 450 460 20 220 |./temp  #=> 2\n",
        "!g++ temp.cpp -o temp; echo 3 200 100 100 100 100 100 100 |./temp #=> 9\n",
        "!g++ temp.cpp -o temp; echo 1 0 100 200 |./temp #=> 0"
      ],
      "metadata": {
        "colab": {
          "base_uri": "https://localhost:8080/"
        },
        "id": "StKQu4Ia-zjM",
        "outputId": "773d7378-0d07-43c4-b8d2-055f8eb3dcab"
      },
      "execution_count": null,
      "outputs": [
        {
          "output_type": "stream",
          "name": "stdout",
          "text": [
            "3\n",
            "2\n",
            "9\n",
            "0\n"
          ]
        }
      ]
    },
    {
      "cell_type": "markdown",
      "source": [
        "# 多次元配列\n",
        "\n",
        "# 二次元配列\n",
        "\n",
        "vector<vector<要素の型>> 変数名(要素数1, vector<要素の型>(要素数2, 初期値))で宣言\n",
        "\n",
        "もしくは\n",
        "\n",
        "```\n",
        "vector<vector<int>> data = {\n",
        "  {7, 4, 0, 8},\n",
        "  {2, 0, 3, 5},\n",
        "  {6, 1, 7, 0},\n",
        "};\n",
        "```\n",
        "\n",
        "とか\n"
      ],
      "metadata": {
        "id": "yZIxWfVC_tY8"
      }
    },
    {
      "cell_type": "code",
      "source": [
        "# 例題 縦3行、横4列の整数が書かれた表があります。この表に何個の0が含まれているかを求めてください。\n",
        "# 入力 7 4 0 8 2 0 3 5 6 1 7 0 => 3\n",
        "%%writefile temp.cpp\n",
        "#include <bits/stdc++.h>\n",
        "using namespace std;\n",
        "\n",
        "int main() {\n",
        "\n",
        "  // int型の2次元配列(3×4要素の)の宣言\n",
        "  vector<vector<int>> data(3, vector<int>(4));\n",
        "\n",
        "  // 入力 (2重ループを用いる)\n",
        "  for (int i = 0; i < 3; i++) {\n",
        "    for (int j = 0; j < 4; j++) {\n",
        "      cin >> data.at(i).at(j);\n",
        "    }\n",
        "  }\n",
        "\n",
        "  // 0の個数を数える\n",
        "  int count = 0;\n",
        "\n",
        "  for (int i = 0; i < 3; i++) {\n",
        "    for (int j = 0; j < 4; j++) {\n",
        "\n",
        "      // 上からi番目、左からj番目の画素が0かを判定\n",
        "      if (data.at(i).at(j) == 0) {\n",
        "        count++;\n",
        "      }\n",
        "\n",
        "    }\n",
        "  }\n",
        "\n",
        "   cout << count << endl;\n",
        "}\n"
      ],
      "metadata": {
        "colab": {
          "base_uri": "https://localhost:8080/"
        },
        "id": "GmR-jswS_rcR",
        "outputId": "620f57a2-29ee-4c1c-d0a5-a21ca65101d9"
      },
      "execution_count": null,
      "outputs": [
        {
          "output_type": "stream",
          "name": "stdout",
          "text": [
            "Overwriting temp.cpp\n"
          ]
        }
      ]
    },
    {
      "cell_type": "code",
      "source": [
        "!g++ temp.cpp -o temp; echo 7 4 0 8 2 0 3 5 6 1 7 0 |./temp"
      ],
      "metadata": {
        "id": "FUbVxPMpDXWK",
        "outputId": "67a2b0d7-88ca-4d21-d8ac-48b5ea3f0991",
        "colab": {
          "base_uri": "https://localhost:8080/"
        }
      },
      "execution_count": null,
      "outputs": [
        {
          "output_type": "stream",
          "name": "stdout",
          "text": [
            "3\n"
          ]
        }
      ]
    },
    {
      "cell_type": "code",
      "source": [
        "# 例題\n",
        "# まるばつゲームの状態がN個与えられます。マルは'o'、バツは'x'、空白は'-'で表されます。\n",
        "# すべての状態の'o'の個数の和を求めてください。\n",
        "%%writefile temp.cpp\n",
        "#include <bits/stdc++.h>\n",
        "using namespace std;\n",
        " \n",
        "int main() {\n",
        "  int N;\n",
        "  cin >> N;\n",
        "  // N × (3 × 3)要素の配列を宣言\n",
        "  vector<vector<vector<char>>> data(N, vector<vector<char>>(3, vector<char>(3)));\n",
        " \n",
        "  // 入力\n",
        "  for (int i = 0; i < N; i++) {\n",
        "    // i番目の状態を読む\n",
        "    for (int j = 0; j < 3; j++) {\n",
        "      for (int k = 0; k < 3; k++) {\n",
        "        cin >> data.at(i).at(j).at(k);\n",
        "      }\n",
        "    }\n",
        "  }\n",
        " \n",
        "  // 'o'の数を数える\n",
        "  int count = 0;\n",
        " \n",
        "  for (int i = 0; i < N; i++) {\n",
        "    for (int j = 0; j < 3; j++) {\n",
        "      for (int k = 0; k < 3; k++) {\n",
        " \n",
        "        // 「i番目の状態」「上からj番目」「左からk番目」の要素が'o'か判定\n",
        "        if (data.at(i).at(j).at(k) == 'o') {\n",
        "          count++;\n",
        "        }\n",
        " \n",
        "      }\n",
        "    }\n",
        "  }\n",
        " \n",
        "   cout << count << endl;\n",
        "}"
      ],
      "metadata": {
        "id": "rrUAmMRs_pOD",
        "outputId": "91640dc3-6a0c-4238-cd09-d9ec52e114ad",
        "colab": {
          "base_uri": "https://localhost:8080/"
        }
      },
      "execution_count": null,
      "outputs": [
        {
          "output_type": "stream",
          "name": "stdout",
          "text": [
            "Writing temp.cpp\n"
          ]
        }
      ]
    },
    {
      "cell_type": "code",
      "source": [
        "!g++ temp.cpp -o temp; echo 2 - - - - x - - o - x o - - o - x - - |./temp #=> 3"
      ],
      "metadata": {
        "id": "a2WKj4CAFzo4",
        "outputId": "e6281f55-57db-42de-b392-713a408e73d6",
        "colab": {
          "base_uri": "https://localhost:8080/"
        }
      },
      "execution_count": null,
      "outputs": [
        {
          "output_type": "stream",
          "name": "stdout",
          "text": [
            "3\n"
          ]
        }
      ]
    },
    {
      "cell_type": "code",
      "source": [
        "# 変数名.size()では1次元目の要素数が取得できますが、すべての要素の個数が取得できる訳ではない。\n",
        "%%writefile temp.cpp\n",
        "#include <bits/stdc++.h>\n",
        "using namespace std;\n",
        "\n",
        "int main() {\n",
        "  vector<vector<vector<int>>> data = {\n",
        "    {\n",
        "      {1, 2, 3, 4},\n",
        "      {5, 6, 7, 8},\n",
        "      {9, 10, 11, 12},\n",
        "    },\n",
        "    {\n",
        "      {13, 14, 15, 16},\n",
        "      {17, 18, 19, 20},\n",
        "      {21, 22, 23, 24},\n",
        "    },\n",
        "  };\n",
        "\n",
        "  int size1 = data.size();\n",
        "  cout << size1 << endl;  // 2\n",
        "\n",
        "  int size2 = data.at(0).size();\n",
        "  cout << size2 << endl;  // 3\n",
        "\n",
        "  int size3 = data.at(0).at(0).size();\n",
        "  cout << size3 << endl;  // 4\n",
        "}"
      ],
      "metadata": {
        "id": "Xt-IXT7IFuiO",
        "outputId": "b04a568b-ec46-4c4a-dcf1-29b09f32e2d4",
        "colab": {
          "base_uri": "https://localhost:8080/"
        }
      },
      "execution_count": null,
      "outputs": [
        {
          "output_type": "stream",
          "name": "stdout",
          "text": [
            "Overwriting temp.cpp\n"
          ]
        }
      ]
    },
    {
      "cell_type": "code",
      "source": [
        "!g++ temp.cpp -o temp; ./temp #=> 3"
      ],
      "metadata": {
        "id": "bsaO7FhlG0Jo",
        "outputId": "737b0447-d793-4e0d-c5b4-ac7071309e5b",
        "colab": {
          "base_uri": "https://localhost:8080/"
        }
      },
      "execution_count": null,
      "outputs": [
        {
          "output_type": "stream",
          "name": "stdout",
          "text": [
            "2\n",
            "3\n",
            "4\n"
          ]
        }
      ]
    },
    {
      "cell_type": "code",
      "source": [
        "# 問題\n",
        "# EX18.ゲーム大会\n",
        "# あるゲーム大会にはN人が参加しM試合が行われました。各参加者には1からNの番号が割り当てられています。\n",
        "# 試合に関する情報が与えられるので、M回の試合がすべて終了した時点での試合結果の表を作成し、出力してください。\n",
        "# ただし、同じ参加者のペアについて2回以上試合が行われることはないとします。\n",
        "# 試合に関する情報は以下のような形式で与えられます。\n",
        "# 試合1で勝った人の番号 A_1 試合1で負けた人の番号B_1\n",
        "# 試合1で勝った人の番号 A_2 試合1で負けた人の番号B_2\n",
        "# ...\n",
        "# 試合Mで勝った人の番号A_M 試合Mで負けた人の番号B_M\n",
        "# 同じ参加者のペアについて2回以上試合が行われることはありません。\n",
        "# ​試合結果を表示の仕方。\n",
        "# i番の参加者とj番の参加者が試合をして、\n",
        "# i番の参加者が勝ったなら R_i,j = o\n",
        "# i番の負けたなら R_i,j = x\n",
        "# i番の人とj番の人が試合を行っていない場合 R_i,j = -\n",
        "# M試合が終了した時点での試合結果の表を出力してください。\n",
        "# ただし、各行の行末に空白を含まないことに注意してください。\n",
        "%%writefile temp.cpp\n",
        "#include <bits/stdc++.h>\n",
        "using namespace std;\n",
        "\n",
        "int main() {\n",
        "  int N, M;\n",
        "  cin >> N >> M;\n",
        "  vector<int> A(M), B(M);\n",
        "  for (int i = 0; i < M; i++) {\n",
        "    cin >> A.at(i) >> B.at(i);\n",
        "  }\n",
        "\n",
        "  // N×Nのchar型の2次元配列のすべての要素を'-'で初期化\n",
        "  vector<vector<char>> table(N, vector<char>(N, '-'));\n",
        "\n",
        "  for (int i = 0; i < M; i++) {\n",
        "    // 1〜N → 0〜N-1 に変換\n",
        "    A.at(i)--; B.at(i)--;\n",
        "    table.at(A.at(i)).at(B.at(i)) = 'o';  // AはBに勝った\n",
        "    table.at(B.at(i)).at(A.at(i)) = 'x';  // BはAに負けた\n",
        "  }\n",
        "\n",
        "  for (int i = 0; i < N; i++) {\n",
        "    for (int j = 0; j < N; j++) {\n",
        "      cout << table.at(i).at(j);\n",
        "      if (j == N - 1) {\n",
        "        cout << endl;  // 行末なら改行\n",
        "      }\n",
        "      else {\n",
        "        cout << \" \";  // 行末でないなら空白を出力\n",
        "      }\n",
        "    }\n",
        "  }\n",
        "}"
      ],
      "metadata": {
        "id": "7lMZ3ANeGaRv",
        "outputId": "8b1f08bd-166f-4e98-bcb1-8ec564b54306",
        "colab": {
          "base_uri": "https://localhost:8080/"
        }
      },
      "execution_count": null,
      "outputs": [
        {
          "output_type": "stream",
          "name": "stdout",
          "text": [
            "Overwriting temp.cpp\n"
          ]
        }
      ]
    },
    {
      "cell_type": "code",
      "source": [
        "!g++ temp.cpp -o temp; echo 3 2 1 2 3 1 |./temp #=> - o x x - - o - -\n",
        "!echo\n",
        "!g++ temp.cpp -o temp; echo 7 12 1 5 5 4 6 2 1 7 2 4 6 3 1 3 6 4 3 7 5 7 4 3 6 1 |./temp #=> - - o - o x o - - - o - x - x - - x - x o - x o - x x - x - - o - - o o o o o - - - x - x - x - -\n",
        "!echo\n",
        "!g++ temp.cpp -o temp; echo 1 0|./temp #=> -"
      ],
      "metadata": {
        "id": "lhhvWupys6ZD",
        "outputId": "7dbfbfdc-ee40-4e5d-c30c-cf5b53cd6508",
        "colab": {
          "base_uri": "https://localhost:8080/"
        }
      },
      "execution_count": null,
      "outputs": [
        {
          "output_type": "stream",
          "name": "stdout",
          "text": [
            "- o x\n",
            "x - -\n",
            "o - -\n",
            "\n",
            "- - o - o x o\n",
            "- - - o - x -\n",
            "x - - x - x o\n",
            "- x o - x x -\n",
            "x - - o - - o\n",
            "o o o o - - -\n",
            "x - x - x - -\n",
            "\n",
            "-\n"
          ]
        }
      ]
    },
    {
      "cell_type": "code",
      "source": [
        "# 問題\n",
        "# ABC107 B - Grid Compression\n",
        "# 縦 H 行、横 W 列のマス目があります。 上から i 行目、左から j 列目のマスを (i,j) と表します。 \n",
        "# 各マスは白または黒です。 マス目の配色は、H 行 W 列の行列 (a_i,j) によって与えられます。 \n",
        "# a_i,j が `.` ならばマス (i,j) は白であり、a_i,j が `#` ならばマス (i,j) は黒です。\n",
        "# すぬけ君はこのマス目を圧縮しようとしています。 そのために、\n",
        "# 白いマスのみからなる行または列が存在する間、次の操作を繰り返し行います。\n",
        "# 操作: 白いマスのみからなる行または列をひとつ任意に選び、その行または列を取り除いて空白を詰める。\n",
        "# 各操作でどの行または列を選ぶかによらず、最終的なマス目は一意に定まることが示せます。 \n",
        "# 最終的なマス目を求めてください。\n",
        "# マス目全体で少なくともひとつは黒いマスが存在する。\n",
        "%%writefile temp.cpp\n",
        "#include <bits/stdc++.h>\n",
        "using namespace std;\n",
        "int main() {\n",
        "  int h;\n",
        "  cin >> h;\n",
        "  int w;\n",
        "  cin >> w;\n",
        "  vector<string> a(h);\n",
        "  for (int i = 0; i < h; i++) {\n",
        "    cin >> a[i];\n",
        "  }\n",
        "\n",
        "  vector<bool> row(h, false);\n",
        "  vector<bool> col(w, false);\n",
        "  for (int i = 0; i < h; i++) {\n",
        "    for (int j = 0; j < w; j++) {\n",
        "      if (a[i][j] == '#') {\n",
        "        row[i] = true;\n",
        "        col[j] = true;\n",
        "      }\n",
        "    }\n",
        "  }\n",
        "\n",
        "  for (int i = 0; i < h; i++) {\n",
        "    if (row[i]) {\n",
        "      for (int j = 0; j < w; j++) {\n",
        "        if (col[j]) {\n",
        "          cout << a[i][j];\n",
        "        }\n",
        "      }\n",
        "      cout << endl;\n",
        "    }\n",
        "  }\n",
        "}\n"
      ],
      "metadata": {
        "id": "SU-GaBUEHjzv",
        "outputId": "b8915096-a3b9-42ca-e7c4-1f22bce7c762",
        "colab": {
          "base_uri": "https://localhost:8080/"
        }
      },
      "execution_count": null,
      "outputs": [
        {
          "output_type": "stream",
          "name": "stdout",
          "text": [
            "Writing temp.cpp\n"
          ]
        }
      ]
    },
    {
      "cell_type": "code",
      "source": [
        "!g++ temp.cpp -o temp; echo \"4 4 ##.# .... ##.# .#.#\" |./temp #=> ### ### .##\n",
        "!echo\n",
        "!g++ temp.cpp -o temp; echo \"3 3 #.. .#. ..#\" |./temp #=> #.. .#. ..#\n",
        "!echo\n",
        "!g++ temp.cpp -o temp; echo \"4 5 ..... ..... ..#.. .....\" |./temp #=> #\n",
        "!echo\n",
        "!g++ temp.cpp -o temp; echo \"7 6 ...... ....#. .#.... ..#... ..#... ...... .#..#.\" |./temp #=> ..# #.. .#. .#. #.#\n",
        "!echo"
      ],
      "metadata": {
        "id": "qfaobcUdMVbx",
        "outputId": "1b4fb172-6e33-4ab0-a73b-0de5efdf7409",
        "colab": {
          "base_uri": "https://localhost:8080/"
        }
      },
      "execution_count": null,
      "outputs": [
        {
          "output_type": "stream",
          "name": "stdout",
          "text": [
            "###\n",
            "###\n",
            ".##\n",
            "\n",
            "#..\n",
            ".#.\n",
            "..#\n",
            "\n",
            "#\n",
            "\n",
            "..#\n",
            "#..\n",
            ".#.\n",
            ".#.\n",
            "#.#\n",
            "\n"
          ]
        }
      ]
    },
    {
      "cell_type": "markdown",
      "source": [
        "# U - 2.04.参照 "
      ],
      "metadata": {
        "id": "ZqwOZxwk4MrK"
      }
    },
    {
      "cell_type": "code",
      "source": [
        "# U - 2.04.参照 \n",
        "# 参照先の型 &参照の名前 = 参照先;で参照を宣言\n",
        "# 参照渡しは、無駄なコピーを避けたり複数の結果を返したいときに便利\n",
        "%%writefile temp.cpp\n",
        "#include <bits/stdc++.h>\n",
        "using namespace std;\n",
        " \n",
        "int main() {\n",
        "  int a = 3;\n",
        "  int &b = a;  // bは変数aの参照\n",
        " \n",
        "  cout << \"a: \" << a << endl;  // aの値を出力\n",
        "  cout << \"b: \" << b << endl;  // bの参照先の値を出力(aの値である3が出力される)\n",
        " \n",
        "  b = 4;  // 参照先の値を変更(aが4になる)\n",
        " \n",
        "  cout << \"a: \" << a << endl;  // aの値を出力\n",
        "  cout << \"b: \" << b << endl;  // bの参照先の値を出力(aの値である4が出力される)\n",
        "}"
      ],
      "metadata": {
        "colab": {
          "base_uri": "https://localhost:8080/"
        },
        "id": "Z5A5MCrT31sh",
        "outputId": "419ab970-09d1-4630-ebf1-7bdc28da7358"
      },
      "execution_count": null,
      "outputs": [
        {
          "output_type": "stream",
          "name": "stdout",
          "text": [
            "Writing temp.cpp\n"
          ]
        }
      ]
    },
    {
      "cell_type": "code",
      "source": [
        "!g++ temp.cpp -o temp; ./temp "
      ],
      "metadata": {
        "colab": {
          "base_uri": "https://localhost:8080/"
        },
        "id": "2KOCoAMk4tqZ",
        "outputId": "33616e3e-c945-4488-864a-e1ad360cfded"
      },
      "execution_count": null,
      "outputs": [
        {
          "output_type": "stream",
          "name": "stdout",
          "text": [
            "a: 3\n",
            "b: 3\n",
            "a: 4\n",
            "b: 4\n"
          ]
        }
      ]
    },
    {
      "cell_type": "code",
      "source": [
        "# 引数が参照になっている関数(参照渡し) の例\n",
        "%%writefile temp.cpp\n",
        "#include <bits/stdc++.h>\n",
        "using namespace std;\n",
        " \n",
        "int g(int &x) {\n",
        "  x = x * 2;  // xを2倍 (参照によって\"呼び出す側の変数\"が変更される)\n",
        "  return x;\n",
        "}\n",
        " \n",
        "int main() {\n",
        "  int a = 3;  // 関数を呼び出す側の変数\n",
        "  int b = g(a);  // xの参照先がaになる\n",
        "  cout << \"a: \" << a << endl;\n",
        "  cout << \"b: \" << b << endl;\n",
        "}"
      ],
      "metadata": {
        "colab": {
          "base_uri": "https://localhost:8080/"
        },
        "id": "pn2rxIG94iu2",
        "outputId": "352f8e89-5641-4e69-ef4c-f52586578479"
      },
      "execution_count": null,
      "outputs": [
        {
          "output_type": "stream",
          "name": "stdout",
          "text": [
            "Overwriting temp.cpp\n"
          ]
        }
      ]
    },
    {
      "cell_type": "code",
      "source": [
        "!g++ temp.cpp -o temp; ./temp "
      ],
      "metadata": {
        "colab": {
          "base_uri": "https://localhost:8080/"
        },
        "id": "WiZJQAO7RroX",
        "outputId": "0b405b48-8a84-491b-f817-3782735bc90b"
      },
      "execution_count": null,
      "outputs": [
        {
          "output_type": "stream",
          "name": "stdout",
          "text": [
            "a: 6\n",
            "b: 6\n"
          ]
        }
      ]
    },
    {
      "cell_type": "code",
      "source": [
        "# 参照渡しの利点\n",
        "# 参照渡しが便利な例を紹介します。\n",
        "# 関数の結果を複数返したい（普通は配列を使う）\n",
        "%%writefile temp.cpp\n",
        "#include <bits/stdc++.h>\n",
        "using namespace std;\n",
        " \n",
        "// a,b,cの最大値、最小値をそれぞれminimumの参照先、maximumの参照先に代入する\n",
        "void min_and_max(int a, int b, int c, int &minimum, int &maximum) {\n",
        "  minimum = min(a, min(b, c));  // 最小値をminimumの参照先に代入\n",
        "  maximum = max(a, max(b, c));  // 最大値をmaximumの参照先に代入\n",
        "}\n",
        " \n",
        "int main() {\n",
        "  int minimum, maximum;\n",
        "  min_and_max(3, 1, 5, minimum, maximum);  // minimum, maximumを参照渡し\n",
        "  cout << \"minimum: \" <<  minimum << endl;  // 最小値\n",
        "  cout << \"maximum: \" <<  maximum << endl;  // 最大値\n",
        "}"
      ],
      "metadata": {
        "colab": {
          "base_uri": "https://localhost:8080/"
        },
        "id": "SJUco963Rpra",
        "outputId": "a60c44c8-23f6-4838-fbc8-348f99aa072f"
      },
      "execution_count": null,
      "outputs": [
        {
          "output_type": "stream",
          "name": "stdout",
          "text": [
            "Overwriting temp.cpp\n"
          ]
        }
      ]
    },
    {
      "cell_type": "code",
      "source": [
        "!g++ temp.cpp -o temp; ./temp "
      ],
      "metadata": {
        "colab": {
          "base_uri": "https://localhost:8080/"
        },
        "id": "aX1H67xvSZHX",
        "outputId": "0730c3ba-7a2a-4ec7-a0d0-bdf8f3159eb8"
      },
      "execution_count": null,
      "outputs": [
        {
          "output_type": "stream",
          "name": "stdout",
          "text": [
            "minimum: 1\n",
            "maximum: 5\n"
          ]
        }
      ]
    },
    {
      "cell_type": "code",
      "source": [
        "# 無駄なコピーを減らす\n",
        "%%writefile temp.cpp\n",
        "#include <bits/stdc++.h>\n",
        "using namespace std;\n",
        " \n",
        "// 配列の先頭100要素の値の合計を計算する (参照渡し)\n",
        "int sum100(vector<int> &a) {\n",
        "  int result = 0;\n",
        "  for (int i = 0; i < 100; i++) {\n",
        "    result += a.at(i);\n",
        "  }\n",
        "  return result;\n",
        "}\n",
        " \n",
        "int main() {\n",
        "  vector<int> vec(10000000, 1);  // すべての要素が1の配列\n",
        " \n",
        "  // sum100 を500回呼び出す\n",
        "  for (int i = 0; i < 500; i++) {\n",
        "    cout << sum100(vec) << endl;  // 参照渡しなので配列のコピーは生じない\n",
        "  }\n",
        "}"
      ],
      "metadata": {
        "colab": {
          "base_uri": "https://localhost:8080/"
        },
        "id": "eO2tXe4ySXjH",
        "outputId": "7253fff7-2e62-4ef6-b9b0-b610913fd6cc"
      },
      "execution_count": null,
      "outputs": [
        {
          "output_type": "stream",
          "name": "stdout",
          "text": [
            "Overwriting temp.cpp\n"
          ]
        }
      ]
    },
    {
      "cell_type": "code",
      "source": [
        "# !g++ temp.cpp -o temp; ./temp #=> アウトプットが大きいのでコメントアウト"
      ],
      "metadata": {
        "id": "Psu2r5Quxfrn"
      },
      "execution_count": null,
      "outputs": []
    },
    {
      "cell_type": "code",
      "source": [
        "# 範囲for文での参照\n",
        "# 参照は範囲for文でも用いることができ、これによって配列の要素を書き換える処理を簡潔に書くことができます。\n",
        "%%writefile temp.cpp\n",
        "#include <bits/stdc++.h>\n",
        "using namespace std;\n",
        "int main() {\n",
        "  vector<int> a = { 1, 3, 2, 5 };\n",
        "  for (int& x : a) {\n",
        "    x = x * 2;\n",
        "  }\n",
        "  for (int i = 0; i < a.size(); i++) {\n",
        "      if (i != a.size()-1) cout << a.at(i) << \" \";\n",
        "      else cout << a.at(i) << endl;\n",
        "  } \n",
        "}"
      ],
      "metadata": {
        "id": "dh6f9zI6xM1u",
        "outputId": "b9a34487-96fd-4e5a-d802-00ec00b01196",
        "colab": {
          "base_uri": "https://localhost:8080/"
        }
      },
      "execution_count": null,
      "outputs": [
        {
          "output_type": "stream",
          "name": "stdout",
          "text": [
            "Overwriting temp.cpp\n"
          ]
        }
      ]
    },
    {
      "cell_type": "code",
      "source": [
        "!g++ temp.cpp -o temp; ./temp #=> 2 6 4 10"
      ],
      "metadata": {
        "id": "A1qMi0CW4unv",
        "outputId": "2175a583-4570-4df2-a8a8-6130a8cc74bf",
        "colab": {
          "base_uri": "https://localhost:8080/"
        }
      },
      "execution_count": null,
      "outputs": [
        {
          "output_type": "stream",
          "name": "stdout",
          "text": [
            "2 6 4 10\n"
          ]
        }
      ]
    },
    {
      "cell_type": "code",
      "source": [
        "# 参照による vector 要素の書き換えの\n",
        "# 良くない例\n",
        "%%writefile temp.cpp\n",
        "#include <bits/stdc++.h>\n",
        "using namespace std;\n",
        " \n",
        "int main() {\n",
        "  vector<int> v = {1, 2, 3};\n",
        "  int &e = v.at(1);\n",
        "  cout << \"e: \" << e << endl;  \n",
        "  // 大量のpush_backで要素数を大幅に増やす\n",
        "  for (int i = 0; i < 1000; i++) {\n",
        "    v.push_back(i + 4);\n",
        "  } \n",
        "  cout << \"e: \" << e << endl;  // \"e: 2\"とならないことがある\n",
        "}"
      ],
      "metadata": {
        "id": "gvAxXAGR4doS",
        "outputId": "257d64e0-122b-4bb9-dd50-72cac3facb38",
        "colab": {
          "base_uri": "https://localhost:8080/"
        }
      },
      "execution_count": null,
      "outputs": [
        {
          "output_type": "stream",
          "name": "stdout",
          "text": [
            "Overwriting temp.cpp\n"
          ]
        }
      ]
    },
    {
      "cell_type": "code",
      "source": [
        "!g++ temp.cpp -o temp; ./temp "
      ],
      "metadata": {
        "id": "Wq3JHmsUMbad",
        "outputId": "2a51a641-533f-47fd-e417-7d8c803b97d6",
        "colab": {
          "base_uri": "https://localhost:8080/"
        }
      },
      "execution_count": null,
      "outputs": [
        {
          "output_type": "stream",
          "name": "stdout",
          "text": [
            "e: 2\n",
            "e: 21864\n"
          ]
        }
      ]
    },
    {
      "cell_type": "code",
      "source": [
        "# 参照型の返り値\n",
        "# 次のような関数は未定義動作であり避けなければいけない\n",
        "#=> warning が出た\n",
        "%%writefile temp.cpp\n",
        "#include <bits/stdc++.h>\n",
        "using namespace std;\n",
        " \n",
        "// int型の参照を返す関数f\n",
        "int &f() {\n",
        "  int x = 12345;\n",
        "  return x;  // xを参照として返そうとする\n",
        "}\n",
        " \n",
        "int main() {\n",
        "  int &y = f();\n",
        "  cout << y << endl;  // \"12345\"が出力される？\n",
        "}"
      ],
      "metadata": {
        "id": "_1NyU4prMYDa",
        "outputId": "22fce0c7-b342-4eec-f8e0-1a7e744bf9f4",
        "colab": {
          "base_uri": "https://localhost:8080/"
        }
      },
      "execution_count": null,
      "outputs": [
        {
          "output_type": "stream",
          "name": "stdout",
          "text": [
            "Overwriting temp.cpp\n"
          ]
        }
      ]
    },
    {
      "cell_type": "code",
      "source": [
        "!g++ temp.cpp -o temp; ./temp "
      ],
      "metadata": {
        "id": "-0mGoFECOBZA"
      },
      "execution_count": null,
      "outputs": []
    },
    {
      "cell_type": "code",
      "source": [
        "# 問題\n",
        "# EX19 - 九九の採点 \n",
        "# 小学校の先生であるあなたはA君に九九の表を埋める宿題を出しました。 \n",
        "# 次の日、A君は宿題をやってきましたが、いくつかのマスは間違っているようです。\n",
        "# A君の宿題を採点するプログラムを作成してください。\n",
        "# A君の回答の表(9×9の二次元配列)を入力として受け取る\n",
        "# 誤った値が書き込まれたマスを正しい値に書き直す\n",
        "# 正しい値が書き込まれたマスの個数を数える\n",
        "# 誤った値が書き込まれたマスの個数を数える\n",
        "# ※参照渡しの練習問題なので、「プログラムの雛形」を書き換える形でプログラムを作成してください。\n",
        "# プログラムの雛形\n",
        "%%writefile temp.cpp\n",
        "#include <bits/stdc++.h>\n",
        "using namespace std;\n",
        " \n",
        "// 参照渡しを用いて、呼び出し側の変数の値を変更する\n",
        "// void saiten(/* 呼び出し側に対応するように引数を書く */) {\n",
        "void saiten(vector<vector<int>> &A, int &correct_count, int &wrong_count) {\n",
        "  // 呼び出し側のAの各マスを正しい値に修正する\n",
        "  // Aのうち、正しい値の書かれたマスの個数を correct_count に入れる\n",
        "  // Aのうち、誤った値の書かれたマスの個数を wrong_count に入れる\n",
        " \n",
        "  // ここにプログラムを追記\n",
        "  for (int i = 0; i < 9; i++) {\n",
        "    for (int j = 0; j < 9; j++) {\n",
        "      if (A.at(i).at(j) == (i+1)*(j+1)) {\n",
        "          correct_count++;\n",
        "      } else {\n",
        "          wrong_count++;\n",
        "          A.at(i).at(j) = (i+1)*(j+1);\n",
        "      }\n",
        "    }\n",
        "  }  \n",
        "\n",
        "}\n",
        " \n",
        " \n",
        "// -------------------\n",
        "// ここから先は変更しない\n",
        "// -------------------\n",
        "int main() {\n",
        "  // A君の回答を受け取る\n",
        "  vector<vector<int>> A(9, vector<int>(9));\n",
        "  for (int i = 0; i < 9; i++) {\n",
        "    for (int j = 0; j < 9; j++) {\n",
        "      cin >> A.at(i).at(j);\n",
        "    }\n",
        "  }\n",
        " \n",
        "  int correct_count = 0; // ここに正しい値のマスの個数を入れる\n",
        "  int wrong_count = 0;   // ここに誤った値のマスの個数を入れる\n",
        " \n",
        "  // A, correct_count, wrong_countを参照渡し\n",
        "  saiten(A, correct_count, wrong_count);\n",
        " \n",
        "  // 正しく修正した表を出力\n",
        "  /*\n",
        "  for (int i = 0; i < 9; i++) {\n",
        "    for (int j = 0; j < 9; j++) {\n",
        "      cout << A.at(i).at(j);\n",
        "      if (j < 8) cout << \" \";\n",
        "      else cout << endl;\n",
        "    }\n",
        "  } */\n",
        "  // 正しいマスの個数を出力\n",
        "  cout << correct_count << endl;\n",
        "  // 誤っているマスの個数を出力\n",
        "  cout << wrong_count << endl;\n",
        "}"
      ],
      "metadata": {
        "id": "_Fz9k0JvN_gP",
        "outputId": "1e11f3d1-b3bb-4a1e-d868-ae0b67eaadc6",
        "colab": {
          "base_uri": "https://localhost:8080/"
        }
      },
      "execution_count": null,
      "outputs": [
        {
          "output_type": "stream",
          "name": "stdout",
          "text": [
            "Overwriting temp.cpp\n"
          ]
        }
      ]
    },
    {
      "cell_type": "code",
      "source": [
        "!g++ temp.cpp -o temp; echo 1 2 3 4 5 6 7 8 9 2 4 100 8 10 12 14 16 18 3 6 9 12 15 18 21 24 27 4 8 12 16 20 24 28 32 36 5 10 15 20 25 30 35 40 45 6 12 18 24 30 36 42 48 54 7 14 21 28 35 42 49 56 63 8 16 24 32 40 48 56 64 72 9 18 27 36 45 54 63 72 81 | ./temp \n",
        "#=> 80 1\n",
        "!echo \n",
        "!g++ temp.cpp -o temp; echo 1 2 3 4 5 6 7 8 9 2 4 6 8 10 37 14 79 18 3 6 9 12 15 18 21 24 39 4 8 12 16 20 24 28 32 36 5 10 15 20 25 30 35 40 41 6 67 18 24 50 36 42 10 9 7 14 21 28 35 42 49 56 63 8 16 24 32 40 48 56 64 14 9 18 27 36 45 54 63 72 81 |./temp \n",
        "#=> 72 9"
      ],
      "metadata": {
        "id": "_W5gJ-IfRU9q",
        "outputId": "eb6ca2cf-d871-4c34-97f0-032f0f0ae069",
        "colab": {
          "base_uri": "https://localhost:8080/"
        }
      },
      "execution_count": null,
      "outputs": [
        {
          "output_type": "stream",
          "name": "stdout",
          "text": [
            "80\n",
            "1\n",
            "\n",
            "72\n",
            "9\n"
          ]
        }
      ]
    },
    {
      "cell_type": "markdown",
      "source": [
        "# V - 2.05.再帰関数 "
      ],
      "metadata": {
        "id": "z7WajoRnTsLD"
      }
    },
    {
      "cell_type": "code",
      "source": [
        "# V - 2.05.再帰関数 \n",
        "# 例として、「0からnまでの総和を計算する関数」を考えます。\n",
        "%%writefile temp.cpp\n",
        "#include <bits/stdc++.h>\n",
        "using namespace std;\n",
        " \n",
        "int sum(int n) {\n",
        "  if (n == 0) {\n",
        "    return 0;\n",
        "  }\n",
        " \n",
        "  // sum関数の中でsum関数を呼び出している\n",
        "  int s = sum(n - 1);\n",
        "  return s + n;\n",
        "}\n",
        " \n",
        "int main() {\n",
        "  cout << sum(2) << endl;    // 0 + 1 + 2 = 3\n",
        "  cout << sum(3) << endl;    // 0 + 1 + 2 + 3 = 6\n",
        "  cout << sum(10) << endl;   // 0 + 1 + 2 + 3 + 4 + 5 + 6 + 7 + 8 + 9 + 10 = 55\n",
        "}"
      ],
      "metadata": {
        "id": "Nd-Fn1Pe1zXb",
        "outputId": "751fc271-9a50-4630-fed3-bc9b6ac407b7",
        "colab": {
          "base_uri": "https://localhost:8080/"
        }
      },
      "execution_count": null,
      "outputs": [
        {
          "output_type": "stream",
          "name": "stdout",
          "text": [
            "Overwriting temp.cpp\n"
          ]
        }
      ]
    },
    {
      "cell_type": "code",
      "source": [
        "!g++ temp.cpp -o temp; ./temp "
      ],
      "metadata": {
        "id": "U3keP0ctUZKO",
        "outputId": "f6282739-fc3c-4139-8777-0afa035aedd4",
        "colab": {
          "base_uri": "https://localhost:8080/"
        }
      },
      "execution_count": null,
      "outputs": [
        {
          "output_type": "stream",
          "name": "stdout",
          "text": [
            "3\n",
            "6\n",
            "55\n"
          ]
        }
      ]
    },
    {
      "cell_type": "code",
      "source": [
        "# 再帰関数の実装例\n",
        "# AからBまでの総和を求める関数： sum_range\n",
        "%%writefile temp.cpp\n",
        "#include <bits/stdc++.h>\n",
        "using namespace std;\n",
        "\n",
        "// a ~ bの総和を計算する (a ≦ b)という前提\n",
        "int sum_range(int a, int b) {\n",
        "  // ベースケース\n",
        "  if (a == b) {\n",
        "    return a;\n",
        "  }\n",
        "  // 再帰ステップ\n",
        "  return sum_range(a, b - 1) + b;  //「a~bの総和」=「a~(b-1)の総和」+ b\n",
        "}\n",
        "\n",
        "int main() {\n",
        "  cout << sum_range(0, 4) << endl; // 0 + 1 + 2 + 3 + 4 = 10\n",
        "  cout << sum_range(5, 8) << endl; // 5 + 6 + 7 + 8 = 26\n",
        "}"
      ],
      "metadata": {
        "id": "KjfuMn43UXVB",
        "colab": {
          "base_uri": "https://localhost:8080/"
        },
        "outputId": "5686e8de-e14a-495b-ed8b-7efec78d941f"
      },
      "execution_count": null,
      "outputs": [
        {
          "output_type": "stream",
          "name": "stdout",
          "text": [
            "Writing temp.cpp\n"
          ]
        }
      ]
    },
    {
      "cell_type": "code",
      "source": [
        "!g++ temp.cpp -o temp; ./temp "
      ],
      "metadata": {
        "colab": {
          "base_uri": "https://localhost:8080/"
        },
        "id": "0sZzxlwCXpYQ",
        "outputId": "e9892ae4-001a-4e44-a67f-0d03cad6baa7"
      },
      "execution_count": null,
      "outputs": [
        {
          "output_type": "stream",
          "name": "stdout",
          "text": [
            "10\n",
            "26\n"
          ]
        }
      ]
    },
    {
      "cell_type": "code",
      "source": [
        "# 再帰関数の実装例\n",
        "# 配列の要素の総和： array_sum\n",
        "%%writefile temp.cpp\n",
        "#include <bits/stdc++.h>\n",
        "using namespace std;\n",
        "\n",
        "// (補助関数)\n",
        "// dataのi番目以降の要素の総和を計算する\n",
        "int array_sum_from_i(vector<int> &data, int i) {\n",
        "  // ベースケース\n",
        "  if (i == data.size()) {\n",
        "    return 0;  // 対象の要素がないので総和は0\n",
        "  }\n",
        "  // 再帰ステップ\n",
        "  int s = array_sum_from_i(data, i + 1);  // i+1番目以降の要素の総和\n",
        "  return data.at(i) + s;  // 「i番目以降の要素の総和」=「i番目の要素」+ s\n",
        "}\n",
        "\n",
        "// dataの全ての要素の総和を計算する\n",
        "int array_sum(vector<int> &data) {\n",
        "  return array_sum_from_i(data, 0);\n",
        "}\n",
        "\n",
        "int main() {\n",
        "  vector<int> a = {0, 3, 9, 1, 5};\n",
        "  cout << array_sum(a) << endl;   // 0 + 3 + 9 + 1 + 5 = 18\n",
        "}"
      ],
      "metadata": {
        "colab": {
          "base_uri": "https://localhost:8080/"
        },
        "id": "EEwVnXdHXiNe",
        "outputId": "5368a466-6beb-467a-f350-47343b6d20bf"
      },
      "execution_count": null,
      "outputs": [
        {
          "output_type": "stream",
          "name": "stdout",
          "text": [
            "Overwriting temp.cpp\n"
          ]
        }
      ]
    },
    {
      "cell_type": "code",
      "source": [
        "!g++ temp.cpp -o temp; ./temp "
      ],
      "metadata": {
        "colab": {
          "base_uri": "https://localhost:8080/"
        },
        "id": "G6ddllKhYPEp",
        "outputId": "a9686419-4fc5-43db-c95c-2db91bed477a"
      },
      "execution_count": null,
      "outputs": [
        {
          "output_type": "stream",
          "name": "stdout",
          "text": [
            "18\n"
          ]
        }
      ]
    },
    {
      "cell_type": "code",
      "source": [
        "# 再帰関数の実装例\n",
        "# Nが素数であるかを判定する関数 is_prime\n",
        "%%writefile temp.cpp\n",
        "#include <bits/stdc++.h>\n",
        "using namespace std;\n",
        "\n",
        "// i ~ N-1の範囲にNの約数が存在するか\n",
        "bool has_divisor(int N, int i) {\n",
        "  // ベースケース1\n",
        "  if (i == N) {\n",
        "    return false;\n",
        "  }\n",
        "  // ベースケース2\n",
        "  if (N % i == 0) {\n",
        "    // 実際にiはNの約数なので、i ~ N-1の範囲に約数が存在する\n",
        "    return true;\n",
        "  }\n",
        "\n",
        "  // 再帰ステップ\n",
        "  // i+1 ~ N-1の範囲の結果がi ~ N-1の範囲の結果となる\n",
        "  // (ベースケース2によって、iがNの約数の場合は取り除かれているので、あとはi+1 ~ N-1の範囲を調べればよい)\n",
        "  return has_divisor(N, i + 1);\n",
        "}\n",
        "\n",
        "bool is_prime(int N) {\n",
        "  if (N == 1) {\n",
        "    // 1は素数ではない\n",
        "    return false;\n",
        "  }\n",
        "  else if (N == 2) {\n",
        "    // 2は素数\n",
        "    return true;\n",
        "  }\n",
        "  else {\n",
        "    // 2~(N-1)の範囲に約数が無ければ、Nは素数\n",
        "    return !has_divisor(N, 2);\n",
        "  }\n",
        "}\n",
        "\n",
        "int main() {\n",
        "  cout << is_prime(1) << endl;  // 0\n",
        "  cout << is_prime(2) << endl;  // 1\n",
        "  cout << is_prime(12) << endl; // 0\n",
        "  cout << is_prime(13) << endl; // 1\n",
        "  cout << is_prime(57) << endl; // 0\n",
        "}"
      ],
      "metadata": {
        "colab": {
          "base_uri": "https://localhost:8080/"
        },
        "id": "UzVrE343YI7m",
        "outputId": "f2a94f7f-1cca-4459-a942-bbaf3539baec"
      },
      "execution_count": null,
      "outputs": [
        {
          "output_type": "stream",
          "name": "stdout",
          "text": [
            "Writing temp.cpp\n"
          ]
        }
      ]
    },
    {
      "cell_type": "code",
      "source": [
        "!g++ temp.cpp -o temp; ./temp "
      ],
      "metadata": {
        "colab": {
          "base_uri": "https://localhost:8080/"
        },
        "id": "RywaTwvrY8YU",
        "outputId": "cff6e297-719e-4c88-c0b1-dff736fe260d"
      },
      "execution_count": null,
      "outputs": [
        {
          "output_type": "stream",
          "name": "stdout",
          "text": [
            "0\n",
            "1\n",
            "0\n",
            "1\n",
            "0\n"
          ]
        }
      ]
    },
    {
      "cell_type": "code",
      "source": [
        "# 再帰関数の実装例\n",
        "# 配列の操作 reverse_array\n",
        "%%writefile temp.cpp\n",
        "#include <bits/stdc++.h>\n",
        "using namespace std;\n",
        "\n",
        "// dataのi番目以降の要素を逆順にした配列を返す\n",
        "vector<int> reverse_array_from_i(vector<int> &data, int i) {\n",
        "  // ベースケース\n",
        "  if (i == data.size()) {\n",
        "    vector<int> empty_array(0);  // 要素数0の配列\n",
        "    return empty_array;\n",
        "  }\n",
        "\n",
        "  // 再帰ステップ\n",
        "  vector<int> tmp = reverse_array_from_i(data, i + 1);  // dataのi+1番目以降の要素を逆順にした配列を得る\n",
        "  tmp.push_back(data.at(i));  // 末尾にdataのi番目の要素を追加\n",
        "  return tmp;\n",
        "}\n",
        "\n",
        "// 配列を逆順にしたものを返す\n",
        "vector<int> reverse_array(vector<int> &data) {\n",
        "  return reverse_array_from_i(data, 0);\n",
        "}\n",
        "\n",
        "int main() {\n",
        "  vector<int> a = {1, 2, 3, 4, 5};\n",
        "  vector<int> b = reverse_array(a);\n",
        "  for (int i = 0; i < b.size(); i++) {\n",
        "    cout << b.at(i) << endl;\n",
        "  }\n",
        "}"
      ],
      "metadata": {
        "colab": {
          "base_uri": "https://localhost:8080/"
        },
        "id": "Jo8sitvhY6r9",
        "outputId": "d49407eb-3322-4082-bc0e-5c505e73222a"
      },
      "execution_count": null,
      "outputs": [
        {
          "output_type": "stream",
          "name": "stdout",
          "text": [
            "Overwriting temp.cpp\n"
          ]
        }
      ]
    },
    {
      "cell_type": "code",
      "source": [
        "!g++ temp.cpp -o temp; ./temp "
      ],
      "metadata": {
        "colab": {
          "base_uri": "https://localhost:8080/"
        },
        "id": "EkRYz3I9BRFX",
        "outputId": "b54fd177-c8b1-41c1-d620-b8bda10c27de"
      },
      "execution_count": null,
      "outputs": [
        {
          "output_type": "stream",
          "name": "stdout",
          "text": [
            "5\n",
            "4\n",
            "3\n",
            "2\n",
            "1\n"
          ]
        }
      ]
    },
    {
      "cell_type": "code",
      "source": [
        "# 再帰関数の例題\n",
        "# APG4b 2.05.再帰関数 例題 from APG4b\n",
        "# 報告書の伝達時間\n",
        "# あなたはA社を経営する社長です。 A社はN個の組織からなり、\n",
        "# それぞれに0番からN−1番の番号が付いています。 0番の番号が付いた組織はトップの組織です。\n",
        "# 組織間には親子関係があり、0番以外のN−1個の組織には必ず1つの親組織があります。 \n",
        "# 子組織は複数になることがあります。 また、それぞれの組織は直接的または間接的にト\n",
        "# ップの組織と関係があるものとします。\n",
        "# あなたは全ての組織に報告書を提出するように求めました。\n",
        "# 混雑を避けるために、\n",
        "# 「各組織は子組織の報告書がそろったら、自身の報告書を加えて親組織に送る」\n",
        "# ことを繰り返します。 子組織が無いような組織は自身の報告書だけをすぐに親組織に送ります。\n",
        "# ある組織から報告書を送ってから、その親組織が受け取るときにかかる時間を1分とします。\n",
        "# あるタイミングで一斉に報告書の伝達を開始したときに、\n",
        "# トップの組織の元に全ての組織の報告書が揃う時刻（伝達を始めてから何分後か）\n",
        "# を求めてください。 \n",
        "# 入力例 6 0 0 1 1 4 #=> 3\n",
        "# この入力例では、組織は次のような関係になっています。\n",
        "# 1番の組織の親組織は0番\n",
        "# 2番の組織の親組織は0番\n",
        "# 3番の組織の親組織は1番\n",
        "# 4番の組織の親組織は1番\n",
        "# 5番の組織の親組織は4番\n",
        "%%writefile temp.cpp\n",
        "#include <bits/stdc++.h>\n",
        "using namespace std;\n",
        " \n",
        "// x番の組織について、子組織からの報告書が揃った時刻を返す\n",
        "// childrenは組織の関係を表す2次元配列(参照渡し)\n",
        "int complete_time(vector<vector<int>> &children, int x) {\n",
        "  // (ここに追記して再帰関数を実装する)\n",
        "  // ベースケース\n",
        "  if (children.at(x).size() == 0) {\n",
        "    return 0;  // 子組織が無いような組織について、報告書が揃う時刻は0\n",
        "  }\n",
        " \n",
        "  // 再帰ステップ\n",
        "  int max_receive_time = 0;  // 受け取った時刻の最大値\n",
        "  // x番の組織の子組織についてループ\n",
        "  for (int c : children.at(x)) {\n",
        " \n",
        "    // (子組織 c のもとに揃った時刻 + 1) の時刻に c からの報告書を受け取る\n",
        "    int receive_time = complete_time(children, c) + 1;\n",
        " \n",
        "    // 受け取った時刻の最大値 = 揃った時刻 なので最大値を求める\n",
        "    max_receive_time = max(max_receive_time, receive_time);\n",
        "  }\n",
        "  return max_receive_time;\n",
        "}\n",
        " \n",
        "// これ以降の行は変更しなくてよい\n",
        " \n",
        "int main() {\n",
        "  int N;\n",
        "  cin >> N;\n",
        " \n",
        "  vector<int> p(N);  // 各組織の親組織を示す配列\n",
        "  p.at(0) = -1;  // 0番組織の親組織は存在しないので-1を入れておく\n",
        "  for (int i = 1; i < N; i++) {\n",
        "    cin >> p.at(i);\n",
        "  }\n",
        " \n",
        "  // 組織の関係から2次元配列を作る(理解しなくてもよい)\n",
        "  vector<vector<int>> children(N);  // ある組織の子組織の番号一覧  // N×0の二次元配列\n",
        "  for (int i = 1; i < N; i++) {\n",
        "    int parent = p.at(i);  // i番の親組織の番号\n",
        "    children.at(parent).push_back(i);  // parentの子組織一覧にi番を追加\n",
        "  }\n",
        " \n",
        "  // 0番の組織の元に報告書が揃う時刻を求める\n",
        "  cout << complete_time(children, 0) << endl;\n",
        "}"
      ],
      "metadata": {
        "colab": {
          "base_uri": "https://localhost:8080/"
        },
        "id": "smrmWPr5BKyJ",
        "outputId": "5424fa64-d8f6-451c-951b-1cc7696f0452"
      },
      "execution_count": null,
      "outputs": [
        {
          "output_type": "stream",
          "name": "stdout",
          "text": [
            "Writing temp.cpp\n"
          ]
        }
      ]
    },
    {
      "cell_type": "code",
      "source": [
        "!g++ temp.cpp -o temp; echo 6 0 0 1 1 4 |./temp "
      ],
      "metadata": {
        "colab": {
          "base_uri": "https://localhost:8080/"
        },
        "id": "jgYQjqyayaMx",
        "outputId": "b5398202-1acd-4f27-a971-c5e7d50a6249"
      },
      "execution_count": null,
      "outputs": [
        {
          "output_type": "stream",
          "name": "stdout",
          "text": [
            "3\n"
          ]
        }
      ]
    },
    {
      "cell_type": "code",
      "source": [
        "# 例題\n",
        "%%writefile temp.cpp\n",
        "// 0からnまでの総和を計算し、途中結果を出力する\n",
        "#include <bits/stdc++.h>\n",
        "using namespace std;\n",
        " \n",
        "// 0からnまでの総和を計算し、途中結果を出力する\n",
        "int sum(int n) {\n",
        "  // ベースケースが実装されていないので止まらない！ => 直す\n",
        "  if (n == 0) return 0;\n",
        "  // 再帰ステップ\n",
        "  int result = sum(n - 1) + n;\n",
        "  cout << \"sum(\" << n << \") = \" << result << endl;  // 途中結果を出力する\n",
        "  return result;\n",
        "}\n",
        "int main() {\n",
        "  // 無限に再帰呼び出しが起こる\n",
        "  cout << sum(15) << endl;\n",
        "}"
      ],
      "metadata": {
        "colab": {
          "base_uri": "https://localhost:8080/"
        },
        "id": "9T5A3m0XyWlQ",
        "outputId": "049596eb-5bb8-46de-b9b7-b4db12a8f730"
      },
      "execution_count": null,
      "outputs": [
        {
          "output_type": "stream",
          "name": "stdout",
          "text": [
            "Overwriting temp.cpp\n"
          ]
        }
      ]
    },
    {
      "cell_type": "code",
      "source": [
        "!g++ temp.cpp -o temp; ./temp "
      ],
      "metadata": {
        "id": "dKaC71EE2M19"
      },
      "execution_count": null,
      "outputs": []
    },
    {
      "cell_type": "code",
      "source": [
        "# 相互再帰\n",
        "# 相互再帰では、「その関数の後ろで定義される別の関数」を呼び出すことになるので、\n",
        "# プロトタイプ宣言が必須です。 \n",
        "%%writefile temp.cpp\n",
        "#include <bits/stdc++.h>\n",
        "using namespace std;\n",
        " \n",
        "// プロトタイプ宣言 (1.15.関数「細かい話」を参照)\n",
        "bool is_even(int);\n",
        "bool is_odd(int);\n",
        " \n",
        "// nが偶数かを判定する\n",
        "bool is_even(int n) {\n",
        "  // ベースケース\n",
        "  if (n == 0) {\n",
        "    return true;\n",
        "  }\n",
        "  // 再帰ステップ\n",
        "  return is_odd(n - 1);  // n-1 が奇数なら、nは偶数\n",
        "}\n",
        "// nが奇数かを判定する\n",
        "bool is_odd(int n) {\n",
        "  // ベースケース\n",
        "  if (n == 0) {\n",
        "    return false;\n",
        "  }\n",
        "  // 再帰ステップ\n",
        "  return is_even(n - 1);  // n-1 が偶数なら、nは奇数\n",
        "}\n",
        " \n",
        "int main() {\n",
        "  cout << is_even(4) << endl;  // 1\n",
        "  cout << is_odd(5) << endl;   // 1\n",
        "  cout << is_even(3) << endl;  // 0\n",
        "}"
      ],
      "metadata": {
        "colab": {
          "base_uri": "https://localhost:8080/"
        },
        "id": "oy5DXOew2AMd",
        "outputId": "71d6ef44-eb0d-43de-e981-4755fc516ec9"
      },
      "execution_count": null,
      "outputs": [
        {
          "output_type": "stream",
          "name": "stdout",
          "text": [
            "Overwriting temp.cpp\n"
          ]
        }
      ]
    },
    {
      "cell_type": "code",
      "source": [
        "!g++ temp.cpp -o temp; ./temp "
      ],
      "metadata": {
        "colab": {
          "base_uri": "https://localhost:8080/"
        },
        "id": "oAaCSFoE23Vv",
        "outputId": "ecc33835-73a3-48b7-fa4a-7e1357dfa267"
      },
      "execution_count": null,
      "outputs": [
        {
          "output_type": "stream",
          "name": "stdout",
          "text": [
            "1\n",
            "1\n",
            "0\n"
          ]
        }
      ]
    },
    {
      "cell_type": "code",
      "source": [
        "# 再帰関数\n",
        "# 発展的な例\n",
        "# 途中で出力する例\n",
        "# 次のプログラム再帰関数 `func`は、「引数のnを1減らして再帰呼出しをn=0になるまで行い、\n",
        "# 呼び出し履歴を出力する」関数です。 少し複雑ですが、どのように実行されるかを追ってみてください。\n",
        "%%writefile temp.cpp\n",
        "#include <bits/stdc++.h>\n",
        "using namespace std;\n",
        "\n",
        "// num個分のスペースからなる文字列を返す (字下げに用いる)\n",
        "string space(int num) {\n",
        "  string ret = \"\";\n",
        "  for (int i = 0; i < num; i++) {\n",
        "    ret += \" \";\n",
        "  }\n",
        "  return ret;\n",
        "}\n",
        "\n",
        "// 呼び出しの深さに応じて字下げし、関数の開始時点であるというメッセージを出力\n",
        "void print_in(int n, int depth) {\n",
        "  cout << space(depth * 4) << \"func(\" << n << \", \" << depth << \") in\" << endl;\n",
        "}\n",
        "\n",
        "// 呼び出しの深さに応じて字下げし、関数の終了時点であるというメッセージを出力\n",
        "void print_out(int n, int depth) {\n",
        "  cout << space(depth * 4) << \"func(\" << n << \", \" << depth << \") out\" << endl;\n",
        "}\n",
        "\n",
        "// n: 何回の再帰呼出しを行うか\n",
        "// depth: 呼び出しの深さ(何回目の再帰呼び出しか)\n",
        "void func(int n, int depth) {\n",
        "  // ベースケース\n",
        "  if (n == 0) {\n",
        "    print_in(n, depth);   // 開始\n",
        "    print_out(n, depth);  // 終了\n",
        "    return;\n",
        "  }\n",
        "\n",
        "  // 再帰ステップ\n",
        "  print_in(n, depth);  // 開始\n",
        "  func(n - 1, depth + 1);  // 残り回数を1減らし、呼び出しの深さを1増やす\n",
        "  print_out(n, depth); // 終了\n",
        "}\n",
        "\n",
        "int main() {\n",
        "  func(3, 0);  // 3回の再帰呼び出しを行う, 初めの深さを0とする\n",
        "}"
      ],
      "metadata": {
        "colab": {
          "base_uri": "https://localhost:8080/"
        },
        "id": "SKj9GAqo217t",
        "outputId": "735bbaf0-d965-4895-a1dd-c57930356eef"
      },
      "execution_count": null,
      "outputs": [
        {
          "output_type": "stream",
          "name": "stdout",
          "text": [
            "Overwriting temp.cpp\n"
          ]
        }
      ]
    },
    {
      "cell_type": "code",
      "source": [
        "!g++ temp.cpp -o temp; ./temp "
      ],
      "metadata": {
        "id": "2qagdvX66evS",
        "outputId": "9cd0bfc7-87f3-4d55-fa9c-b2d1555b4230",
        "colab": {
          "base_uri": "https://localhost:8080/"
        }
      },
      "execution_count": null,
      "outputs": [
        {
          "output_type": "stream",
          "name": "stdout",
          "text": [
            "func(3, 0) in\n",
            "    func(2, 1) in\n",
            "        func(1, 2) in\n",
            "            func(0, 3) in\n",
            "            func(0, 3) out\n",
            "        func(1, 2) out\n",
            "    func(2, 1) out\n",
            "func(3, 0) out\n"
          ]
        }
      ]
    },
    {
      "cell_type": "code",
      "source": [
        "# 再帰関数\n",
        "# 発展的な例\n",
        "# 引数の配列を変化させる例\n",
        "# 例題 グリッド上の迷路の探索 N×Nマスのマス目があります。 \n",
        "# 上からi行目、左からj列目のマスを (i−1,j−1) と表すことにします。 \n",
        "# マス目を迷路に見立ててスタート地点から移動を始め、\n",
        "# ゴールに到達することができるかを判定するプログラムを作成してください。 \n",
        "# スタートは (0,0) でゴールは(N−1,N−1)とします。 マス目には２種類あり、\n",
        "# それぞれのマス目はどちらかの種類です。 \n",
        "# - 壁マス：そのマスに移動することはできない \n",
        "# - 通路マス：そのマスに移動することができる \n",
        "# 初めプレイヤーは(0,0)にいます。(0,0)、(N−1,N−1) は必ず通路マスであるとします。 \n",
        "# プレイヤーは今いるマスの上下左右の4方向に隣合うマスのうち、\n",
        "# 通路マスであるようなマスに移動することができます。 \n",
        "# 斜めに移動したり、壁マスの中に移動したりすることはできません。\n",
        "# また、N×Nマスの範囲外へ移動することもできません。 \n",
        "# 移動を繰り返すことでゴールマスである(N−1,N−1)に到達することができるなら`Yes`を、\n",
        "# そうでないなら`No`を出力するプログラムを作成してください。 \n",
        "# 各マスがどちらの種類であるかは文字列の配列として入力され、`.` は通路マスを表し、\n",
        "# `#`は壁マスを表すとします。 一行目に迷路の大きさNが入力され、2行目以降に迷路のマス目が入力されます。\n",
        "%%writefile temp.cpp\n",
        "#include <bits/stdc++.h>\n",
        "using namespace std;\n",
        "\n",
        "// 正しい移動かを調べる (y, x)が移動先\n",
        "bool is_valid_move(vector<string> &board, vector<vector<bool>> &checked, int x, int y) {\n",
        "  int N = board.size();\n",
        "\n",
        "  // 移動先がマス目の外である場合\n",
        "  if (x <= -1 || x >= N || y <= -1 || y >= N) {\n",
        "    return false;\n",
        "  }\n",
        "  // 移動先が壁マス\n",
        "  if (board.at(y).at(x) == '#') {\n",
        "    return false;\n",
        "  }\n",
        "  // 既に調べているマスへの移動は調べないのでfalseを返す\n",
        "  if (checked.at(y).at(x)) {\n",
        "    return false;\n",
        "  }\n",
        "\n",
        "  // それ以外なら正しい移動\n",
        "  return true;\n",
        "}\n",
        "\n",
        "// (y, x)にいる状態からゴールに到達できるか\n",
        "// board: マス目の種類\n",
        "// checked: そのマスを既に調べたかを持つ二次元配列\n",
        "bool reachable(vector<string> &board, vector<vector<bool>> &checked, int x, int y) {\n",
        "  int N = board.size();\n",
        "\n",
        "  // ベースケース\n",
        "  if (x == N - 1 && y == N - 1) {\n",
        "    // ゴールにいる状態\n",
        "    return true;\n",
        "  }\n",
        "\n",
        "  // 再帰ステップ\n",
        "\n",
        "  checked.at(y).at(x) = true;  // 既に調べているという状態に変えておく\n",
        "\n",
        "  // 「上」「右」「下」「左」のいずれかの移動でゴールに到達できるか？\n",
        "  bool result = false;\n",
        "\n",
        "  // 上へ移動したマスからゴールに到達できるか？\n",
        "  if (is_valid_move(board, checked, x, y - 1) && reachable(board, checked, x, y - 1)) {\n",
        "    result = true;\n",
        "  }\n",
        "  // 右へ移動したマスからゴールに到達できるか？\n",
        "  if (is_valid_move(board, checked, x + 1, y) && reachable(board, checked, x + 1, y)) {\n",
        "    result = true;\n",
        "  }\n",
        "  // 下へ移動したマスからゴールに到達できるか？\n",
        "  if (is_valid_move(board, checked, x, y + 1) && reachable(board, checked, x, y + 1)) {\n",
        "    result = true;\n",
        "  }\n",
        "  // 左へ移動したマスからゴールに到達できるか？\n",
        "  if (is_valid_move(board, checked, x - 1, y) && reachable(board, checked, x - 1, y)) {\n",
        "    result = true;\n",
        "  }\n",
        "\n",
        "  return result;\n",
        "}\n",
        "\n",
        "int main() {\n",
        "  int N;\n",
        "  cin >> N;\n",
        "  // マス目の状態を受け取る\n",
        "  vector<string> board(N);\n",
        "  for (int i = 0; i < N; i++) {\n",
        "    cin >> board.at(i);\n",
        "  }\n",
        "\n",
        "  // 既にそのマスを調べたかを保持する二次元配列\n",
        "  vector<vector<bool>> checked(N, vector<bool>(N, false));  // false(まだ調べていない)で初期化しておく\n",
        "\n",
        "  // (0, 0) からゴールまで到達できるか？\n",
        "  if (reachable(board, checked, 0, 0)) {\n",
        "    cout << \"Yes\" << endl;\n",
        "  }\n",
        "    else {\n",
        "    cout << \"No\" << endl;\n",
        "  }\n",
        "}\n",
        "\n"
      ],
      "metadata": {
        "id": "hBJPJiAM6TSo",
        "outputId": "8a8c4c03-2b31-4dfa-fe9d-3d098c3d05ae",
        "colab": {
          "base_uri": "https://localhost:8080/"
        }
      },
      "execution_count": null,
      "outputs": [
        {
          "output_type": "stream",
          "name": "stdout",
          "text": [
            "Overwriting temp.cpp\n"
          ]
        }
      ]
    },
    {
      "cell_type": "code",
      "source": [
        "!g++ temp.cpp -o temp; echo \"3 .## ... ##.\"  |./temp #=> Yes\n",
        "!g++ temp.cpp -o temp; echo \"4 .### .### .### #...\"  |./temp #=> No\n",
        "!g++ temp.cpp -o temp; echo \"3 ... ##. ##.\"  |./temp #=> Yes\n",
        "!g++ temp.cpp -o temp; echo \"5 ....# ...#. ..#.. .#... #....\"  |./temp #=> No\n",
        "!g++ temp.cpp -o temp; echo \"10 ..#.#..### .###.#.##. .##....#.. .##..#.... ....#.##.. #####..... ##.#.###.# #..#.##..# ...####.## #.#.###...\" |./temp #=> Yes"
      ],
      "metadata": {
        "id": "nw7vHO_86hXc",
        "outputId": "67a2d863-3ca8-4d62-ca26-c87e0b12ac25",
        "colab": {
          "base_uri": "https://localhost:8080/"
        }
      },
      "execution_count": null,
      "outputs": [
        {
          "output_type": "stream",
          "name": "stdout",
          "text": [
            "Yes\n",
            "No\n",
            "Yes\n",
            "No\n",
            "Yes\n"
          ]
        }
      ]
    },
    {
      "cell_type": "code",
      "source": [
        "# 問題\n",
        "# EX20.報告書の枚数\n",
        "# あなたはA社を経営する社長です。 \n",
        "# A社はN個の組織からなり、それぞれに0番からN−1番の番号が付いています。 \n",
        "# 0番の番号が付いた組織はトップの組織です。\n",
        "# 組織間には親子関係があり、0番以外のN−1個の組織には必ず1つの親組織があります。 \n",
        "# 子組織は複数になることがあります。 また、それぞれの組織は直接的または間接的に\n",
        "# トップの組織と関係があるものとします。\n",
        "# あなたは全ての組織に報告書を提出するように求めました。 混雑を避けるために、\n",
        "# 「各組織は子組織の報告書がそろったら、自身の報告書を加えて親組織に渡す」ことを繰り返します。 \n",
        "# 子組織が無いような組織はすぐに親組織に報告書を渡します。 \n",
        "# トップの組織は子組織の報告書がそろったら、自身の報告書を加えて社長に提出します。\n",
        "# それぞれの組織が1枚の報告書を提出します。\n",
        "# 各組織について、「その組織が親組織に提出することになる報告書の枚数」\n",
        "# を出力するプログラムを作成してください。 ただしトップの組織については「\n",
        "# 社長に提出する報告書の枚数」を出力してください。\n",
        "%%writefile temp.cpp\n",
        "#include <bits/stdc++.h>\n",
        "using namespace std;\n",
        "\n",
        "// x番の組織が親組織に提出する枚数を返す\n",
        "// childrenは組織の関係を表す2次元配列(参照渡し)\n",
        "int count_report_num(vector<vector<int>> &children, int x) {\n",
        "  // ベースケース\n",
        "  if (children.at(x).size() == 0) {\n",
        "    // 子組織から受け取ることは無いので1枚であることが確定している\n",
        "    return 1;\n",
        "  }\n",
        "\n",
        "  // 再帰ステップ\n",
        "  int sum = 0;\n",
        "  for (int c : children.at(x)) {\n",
        "    sum += count_report_num(children, c);\n",
        "  }\n",
        "  sum += 1;  // x番の組織の報告書の枚数(1枚)を足す\n",
        "  return sum;\n",
        "}\n",
        "\n",
        "// これ以降の行は変更しなくてよい\n",
        "\n",
        "int main() {\n",
        "  int N;\n",
        "  cin >> N;\n",
        "\n",
        "  vector<int> p(N);  // 各組織の親組織を示す配列\n",
        "  p.at(0) = -1;  // 0番組織の親組織は存在しないので-1を入れておく\n",
        "  for (int i = 1; i < N; i++) {\n",
        "    cin >> p.at(i);\n",
        "  }\n",
        "\n",
        "  // 組織の関係から2次元配列を作る\n",
        "  vector<vector<int>> children(N);  // ある組織の子組織の番号一覧\n",
        "  for (int i = 1; i < N; i++) {\n",
        "    int parent = p.at(i);  // i番の親組織の番号\n",
        "    children.at(parent).push_back(i);  // parentの子組織一覧にi番を追加\n",
        "  }\n",
        "\n",
        "  // 各組織について、答えを出力\n",
        "  for (int i = 0; i < N; i++) {\n",
        "    cout << count_report_num(children, i) << endl;\n",
        "  }\n",
        "}\n"
      ],
      "metadata": {
        "id": "_-HnwjYy62LY",
        "colab": {
          "base_uri": "https://localhost:8080/"
        },
        "outputId": "24b6da3b-4552-4884-b55a-702d4aef9b4c"
      },
      "execution_count": null,
      "outputs": [
        {
          "output_type": "stream",
          "name": "stdout",
          "text": [
            "Writing temp.cpp\n"
          ]
        }
      ]
    },
    {
      "cell_type": "code",
      "source": [
        "!g++ temp.cpp -o temp; echo 6 0 0 1 1 4 |./temp #=> 6 4 1 1 2 1\n",
        "!echo\n",
        "!g++ temp.cpp -o temp; echo 8 0 0 1 2 0 3 6 |./temp #=> 8 4 2 3 1 1 2 1"
      ],
      "metadata": {
        "id": "h51XrbTp76o6"
      },
      "execution_count": null,
      "outputs": []
    },
    {
      "cell_type": "code",
      "source": [
        "# 問題\n",
        "# ARC031 B - 埋め立て\n",
        "# とある所に島国がありました。島国にはいくつかの島があります。このたび、この島国で\n",
        "# 埋め立て計画が立案されたのですが、どこを埋め立てるか決まっていません。\n",
        "# できることなら埋め立てによって島を繋いで、1 つの島にしてしまいたいのですが、\n",
        "# たくさん埋め立てるわけにもいきません。10 マス × 10 マスのこの島国の地図が与えられるので、\n",
        "# 1 マスを埋め立てた時に 1 つの島にできるか判定してください。ただし、\n",
        "# 地図で陸地を表すマスが上下左右につながっている領域のことを島と呼びます。\n",
        "# 島国の地図が 10 行にわたって与えられる。\n",
        "# 各行は 10 文字からなり、o は陸地を、x は海を表す。\n",
        "# 少なくとも 1 マスは陸地があることが保証される。\n",
        "# 少なくとも 1 マスは海があることが保証される。\n",
        "# 海を 1 マスだけ陸地にすることで全体を 1 つの島にできるなら YES 、できないなら NO を出力せよ。\n",
        "# 出力の末尾には改行をつけること。ただし、元から 1 つの島だった場合も YES を出力せよ。\n",
        "%%writefile temp.cpp\n",
        "#include <bits/stdc++.h>\n",
        "using namespace std;\n",
        "\n",
        "// (y, x)から到達できるすべての陸地マスのcheckedをtrueにする\n",
        "void fill_island(vector<vector<char>> &board, vector<vector<bool>> &checked, int y, int x) {\n",
        "  if (y < 0 || x < 0 || y >= 10 || x >= 10) return;\n",
        "  if (board.at(y).at(x) == 'x') return;\n",
        "  if (checked.at(y).at(x)) return;\n",
        "\n",
        "  checked.at(y).at(x) = true;  // 既に調べているという状態に変えておく\n",
        "  fill_island(board, checked, y - 1, x    );  // 上\n",
        "  fill_island(board, checked, y    , x + 1);  // 右\n",
        "  fill_island(board, checked, y + 1, x    );  // 下\n",
        "  fill_island(board, checked, y    , x - 1);  // 左\n",
        "}\n",
        "\n",
        "bool check_connected(vector<vector<char>> &board) {\n",
        "  vector<vector<bool>> checked(10, vector<bool>(10, false));\n",
        "\n",
        "  // 陸地マスを1つ探す\n",
        "  int y, x;\n",
        "  for (int i = 0; i < 10; i++) {\n",
        "    for (int j = 0; j < 10; j++) {\n",
        "      if (board.at(i).at(j) == 'o') {\n",
        "        y = i;\n",
        "        x = j;\n",
        "        break;\n",
        "      }\n",
        "    }\n",
        "  }\n",
        "  /* 引数： 盤面, チェック二次元配列, y座標, x座標*/\n",
        "  fill_island(board, checked, y, x);  // (y, x)から到達できるすべての陸地マスのcheckedをtrueにする\n",
        "\n",
        "  bool ok = true;\n",
        "  for (int i = 0; i < 10; i++) {\n",
        "    for (int j = 0; j < 10; j++) {\n",
        "      if (board.at(i).at(j) == 'o') {\n",
        "        if (!checked.at(i).at(j)) {\n",
        "          // 到達できていない陸地マスがある\n",
        "          ok = false;\n",
        "        }\n",
        "      }\n",
        "    }\n",
        "  }\n",
        "\n",
        "  // ok == true なら全ての陸地マスは繋がっている\n",
        "  return ok;\n",
        "}\n",
        "\n",
        "int main() {\n",
        "  vector<vector<char>> board(10, vector<char>(10));\n",
        "  for (int i = 0; i < 10; i++) {\n",
        "    for (int j = 0; j < 10; j++) {\n",
        "      cin >> board.at(i).at(j);\n",
        "    }\n",
        "  }\n",
        "\n",
        "  for (int y = 0; y < 10; y++) {\n",
        "    for (int x = 0; x < 10; x++) {\n",
        "      if (board.at(y).at(x) == 'o') continue;\n",
        "      // (y, x)は海のマス\n",
        "      // ここを埋め立てたと仮定して、島が1つになるかを判定\n",
        "\n",
        "      board.at(y).at(x) = 'o';  // 埋め立てたと仮定する\n",
        "\n",
        "      if (check_connected(board)) {\n",
        "        cout << \"YES\" << endl;\n",
        "        return 0;\n",
        "      }\n",
        "\n",
        "      board.at(y).at(x) = 'x';  // 戻す\n",
        "    }\n",
        "  }\n",
        "\n",
        "  cout << \"NO\" << endl;\n",
        "}"
      ],
      "metadata": {
        "colab": {
          "base_uri": "https://localhost:8080/"
        },
        "id": "-qv1pxmF7e6O",
        "outputId": "24719e76-dc79-4727-8e3d-fa115cc730e8"
      },
      "execution_count": null,
      "outputs": [
        {
          "output_type": "stream",
          "name": "stdout",
          "text": [
            "Overwriting temp.cpp\n"
          ]
        }
      ]
    },
    {
      "cell_type": "code",
      "source": [
        "!g++ temp.cpp -o temp; echo xxxxxxxxxx xoooooooxx xxoooooxxx xxxoooxxxx xxxxoxxxxx xxxxxxxxxx xxxxoxxxxx xxxoooxxxx xxoooooxxx xxxxxxxxxx |./temp \n",
        "#=> YES\n",
        "!g++ temp.cpp -o temp; echo xxxxxxxxxx xoooooooxx xxoooooxxx xxxoooxxxx xxxxxxxxxx xxxxxxxxxx xxxxxxxxxx xxxoooxxxx xxoooooxxx xxxxxxxxxx |./temp \n",
        "#=> NO\n",
        "!g++ temp.cpp -o temp; echo xxxxoxxxxx xxxxoxxxxx xxxxoxxxxx xxxxoxxxxx ooooxooooo xxxxoxxxxx xxxxoxxxxx xxxxoxxxxx xxxxoxxxxx xxxxoxxxxx |./temp \n",
        "#=> YES"
      ],
      "metadata": {
        "colab": {
          "base_uri": "https://localhost:8080/"
        },
        "id": "22lPNWE49vVT",
        "outputId": "0280d20e-a25c-4b50-aa72-42aeb0150654"
      },
      "execution_count": null,
      "outputs": [
        {
          "output_type": "stream",
          "name": "stdout",
          "text": [
            "YES\n",
            "NO\n",
            "YES\n"
          ]
        }
      ]
    },
    {
      "cell_type": "code",
      "source": [
        "# 問題\n",
        "# ATC001 A - 深さ優先探索\n",
        "# これ以降の問題は例題で扱った問題とは少し異なっています。 \n",
        "# 3.05.ビット演算で説明しているビット全探索を用いることで、再帰関数無しで解くこともできます。\n",
        "# 高橋君の住む街は長方形の形をしており、格子状の区画に区切られています。 \n",
        "# 長方形の各辺は東西及び南北に並行です。 各区画は道または塀のどちらかであり、\n",
        "# 高橋君は道を東西南北に移動できますが斜めには移動できません。 \n",
        "# また、塀の区画は通ることができません。\n",
        "# 高橋君が、塀を壊したりすることなく道を通って魚屋にたどり着けるかどうか判定してください。\n",
        "# %%writefile temp.cpp\n",
        "# 1 行目には、街の南北の長さとして整数 H(1≦H≦500) と東西の長さとして整数 W(1≦W≦500) が\n",
        "# 空白で区切られて与えられる。\n",
        "# 2 行目からの H 行には、格子状の街の各区画における状態 c_i,j\n",
        "# i 行目 j 文字目の文字 c_i,j はそれぞれ s, g, ., # のいずれかで与えられ、\n",
        "# 座標 (j,i) が下記のような状態であることを表す。\n",
        "# s : その区画が家であることを表す。\n",
        "# g : その区画が魚屋であることを表す。\n",
        "# . : その区画が道であることを表す。\n",
        "# # : その区画が塀であることを表す。\n",
        "# 高橋君は家・魚屋・道は通ることができるが、塀は通ることができない。\n",
        "# 塀を 1 回も壊さずに、家から魚屋まで辿り着くことができる場合は Yes、辿りつけない場合は No \n",
        "# を標準出力に 1 行で出力せよ。\n",
        "%%writefile temp.cpp\n",
        "#include <bits/stdc++.h>\n",
        "using namespace std;\n",
        "\n",
        "int h,w;\n",
        "bool ans = false;\n",
        "vector<string> maze(500,\"\");\n",
        "vector<vector<bool>> reached(500,vector<bool>(500));\n",
        "\n",
        "void dfs(int x,int y){\n",
        "\n",
        "    if( ans ) return ;\n",
        "    reached.at(y).at(x) = true;\n",
        "    if( maze.at(y).at(x) == 'g' ) {\n",
        "        ans = true;\n",
        "        return ;\n",
        "    }\n",
        "\n",
        "    if( 0 < y ) if( maze.at(y-1).at(x) != '#' && !reached.at(y-1).at(x) ) dfs(x,y-1);\n",
        "    if( y+1 < h ) if( maze.at(y+1).at(x) != '#' && !reached.at(y+1).at(x) ) dfs(x,y+1);\n",
        "    if( 0 < x ) if( maze.at(y).at(x-1) != '#' && !reached.at(y).at(x-1) ) dfs(x-1,y);\n",
        "    if( x+1 < w ) if( maze.at(y).at(x+1) != '#' && !reached.at(y).at(x+1) ) dfs(x+1,y);\n",
        "}\n",
        "\n",
        "int main() {\n",
        "\n",
        "    int start_x,start_y;\n",
        "\n",
        "    cin >> h >> w;\n",
        "    for(int i=0; i<h; i++) {\n",
        "        cin >> maze.at(i);\n",
        "        for(int j=0; j<w; j++) {\n",
        "\n",
        "            if(maze.at(i).at(j) == 's') {\n",
        "                start_x = j;\n",
        "                start_y = i;\n",
        "            }\n",
        "\n",
        "        }\n",
        "    }\n",
        "\n",
        "    dfs(start_x,start_y);\n",
        "\n",
        "    cout << ( ans ? \"Yes\":\"No\" ) << endl;\n",
        "}"
      ],
      "metadata": {
        "colab": {
          "base_uri": "https://localhost:8080/"
        },
        "id": "jGIpWJ3x_M0d",
        "outputId": "66ad7be8-b1f3-4871-8d7d-b1f2f10643ca"
      },
      "execution_count": null,
      "outputs": [
        {
          "output_type": "stream",
          "name": "stdout",
          "text": [
            "Overwriting temp.cpp\n"
          ]
        }
      ]
    },
    {
      "cell_type": "code",
      "source": [
        "!g++ temp.cpp -o temp; echo \"4 5 s#### ....# ##### #...g\" |./temp \n",
        "#=> No\n",
        "!g++ temp.cpp -o temp; echo \"4 4 ...s .... .... .g..\" |./temp \n",
        "#=> Yes\n",
        "!g++ temp.cpp -o temp; echo \"10 10 s......... #########. #.......#. #..####.#. ##....#.#. #####.#.#. g.#.#.#.#. #.#.#.#.#. ###.#.#.#. #.....#...\" |./temp \n",
        "#=> No\n",
        "!g++ temp.cpp -o temp; echo \"10 10 s......... #########. #.......#. #..####.#. ##....#.#. #####.#.#. g.#.#.#.#. #.#.#.#.#. #.#.#.#.#. #.....#...\"  |./temp \n",
        "#=> Yes\n",
        "!g++ temp.cpp -o temp; echo \"1 10 s..####..g\" |./temp\n",
        "#=> No"
      ],
      "metadata": {
        "colab": {
          "base_uri": "https://localhost:8080/"
        },
        "id": "dLuO0RG3_MsH",
        "outputId": "cdd70c94-6491-406a-a9b1-3b501d0fb050"
      },
      "execution_count": null,
      "outputs": [
        {
          "output_type": "stream",
          "name": "stdout",
          "text": [
            "No\n",
            "Yes\n",
            "No\n",
            "Yes\n",
            "No\n"
          ]
        }
      ]
    },
    {
      "cell_type": "code",
      "source": [
        "# 問題\n",
        "# ARC061 C - たくさんの数式 / Many Formulas\n",
        "# 1 以上 9 以下の数字のみからなる文字列 S が与えられます。 この文字列の中で、\n",
        "# あなたはこれら文字と文字の間のうち、いくつかの場所に + を入れることができます。\n",
        "#  一つも入れなくてもかまいません。 ただし、+ が連続してはいけません。\n",
        "# このようにして出来る全ての文字列を数式とみなし、和を計算することができます。\n",
        "# ありうる全ての数式の値を計算し、その合計を出力してください。\n",
        "# ありうる全ての数式の値の総和を 1 行に出力せよ。\n",
        "%%writefile temp.cpp\n",
        "#include <bits/stdc++.h>\n",
        "using namespace std;\n",
        "#define REP(i,n) for(int i=0; i<(n); i++)\n",
        "\n",
        "long long value(int bit);\n",
        "\n",
        "string s;\n",
        "int n;\n",
        "\n",
        "int main(){\n",
        "    cin>>s;\n",
        "    n=s.size()-1;   // '+'が入るスペースの数\n",
        "    long long sum=0; \n",
        "\n",
        "    for(int bit=0; bit<(1<<n); bit++){\n",
        "        sum+=value(bit);\n",
        "    }\n",
        "\n",
        "    cout<<sum<<endl;\n",
        "}\n",
        "\n",
        "long long value(int bit){\n",
        "    long long v=0;\n",
        "    // 0文字目\n",
        "    string c=s.substr(0,1);\n",
        "\n",
        "    REP(i,n){  \n",
        "        // i番目が'+'なら\n",
        "        if(bit&(1<<i)){\n",
        "            v+=stoll(c);\n",
        "            c.clear();\n",
        "            c=s.substr(i+1,1);\n",
        "        // そうでないなら\n",
        "        }else{\n",
        "            c+=s.substr(i+1,1);\n",
        "        }\n",
        "    }\n",
        "    // 最後に残っている部分を足す\n",
        "    v+=stoll(c);\n",
        "    \n",
        "    return v;\n",
        "}"
      ],
      "metadata": {
        "colab": {
          "base_uri": "https://localhost:8080/"
        },
        "id": "A0KYyNRIEjIP",
        "outputId": "9cf313ec-00c0-4642-b3b4-3ad9c130468a"
      },
      "execution_count": null,
      "outputs": [
        {
          "output_type": "stream",
          "name": "stdout",
          "text": [
            "Overwriting temp.cpp\n"
          ]
        }
      ]
    },
    {
      "cell_type": "code",
      "source": [
        "!g++ temp.cpp -o temp; echo 125 |./temp #=> 176\n",
        "!g++ temp.cpp -o temp; echo 9999999999 |./temp #=> 12656242944"
      ],
      "metadata": {
        "colab": {
          "base_uri": "https://localhost:8080/"
        },
        "id": "vX02fVezEjAV",
        "outputId": "cab60f68-96ed-4da3-d858-049557313f5d"
      },
      "execution_count": null,
      "outputs": [
        {
          "output_type": "stream",
          "name": "stdout",
          "text": [
            "176\n",
            "12656242944\n"
          ]
        }
      ]
    },
    {
      "cell_type": "code",
      "source": [
        "# 問題\n",
        "# ABC079 C - Train Ticket\n",
        "# 駅の待合室に座っているjoisinoお姉ちゃんは、切符を眺めています。\n",
        "# 切符には 4 つの 0 以上 9 以下の整数 A,B,C,D が整理番号としてこの順に書かれています。\n",
        "# A op1 B op2 C op3 D = 7 となるように、op1,op2,op3 に + か - を入れて式を作って下さい。\n",
        "# なお、答えが存在しない入力は与えられず、また答えが複数存在する場合はどれを出力してもよいものとします。\n",
        "# 作った式を、=7 の部分を含めて出力せよ。\n",
        "%%writefile temp.cpp\n",
        "#include <bits/stdc++.h>\n",
        "using namespace std;\n",
        "\n",
        "int main() {\n",
        "  int abcd;\n",
        "  cin >> abcd;\n",
        "  vector<int> ticket(4);\n",
        "\n",
        "  for(int i = 3; i > -1; i--){\n",
        "    ticket[i] = (abcd%10); // 1桁取り出していく\n",
        "    abcd /= 10;\n",
        "  }\n",
        "\n",
        "  for(int bit = 0; bit < (1 << 3); bit++){\n",
        "    int ans = ticket[0];\n",
        "\n",
        "    for(int idx = 0; idx < 3; idx++){\n",
        "      if(bit & (1 << idx)) ans += ticket[idx + 1];\n",
        "\n",
        "      else ans -= ticket[idx + 1];\n",
        "    }\n",
        "\n",
        "    if(ans == 7){\n",
        "      cout << ticket[0];\n",
        "\n",
        "      for(int idx = 0; idx < 3; idx++){\n",
        "        if(bit & (1 << idx)) cout << '+';\n",
        "        else cout << '-';\n",
        "\n",
        "        cout << ticket[idx + 1];\n",
        "      }\n",
        "\n",
        "      cout << \"=7\" << endl;\n",
        "      break;\n",
        "    }\n",
        "  }\n",
        "}"
      ],
      "metadata": {
        "colab": {
          "base_uri": "https://localhost:8080/"
        },
        "id": "XW5cTwa4I69f",
        "outputId": "8bb3681e-22fb-4404-9add-cd5add6a0d32"
      },
      "execution_count": null,
      "outputs": [
        {
          "output_type": "stream",
          "name": "stdout",
          "text": [
            "Overwriting temp.cpp\n"
          ]
        }
      ]
    },
    {
      "cell_type": "code",
      "source": [
        "!g++ temp.cpp -o temp; echo 1222 |./temp #=> 1+2+2+2=7\n",
        "!g++ temp.cpp -o temp; echo 0290 |./temp #=> 0-2+9+0=7\n",
        "!g++ temp.cpp -o temp; echo 3242 |./temp #=> 3+2+4-2=7"
      ],
      "metadata": {
        "colab": {
          "base_uri": "https://localhost:8080/"
        },
        "id": "Ovb4sLubI62o",
        "outputId": "593af8d9-080c-4e59-e89c-070ae3df495f"
      },
      "execution_count": null,
      "outputs": [
        {
          "output_type": "stream",
          "name": "stdout",
          "text": [
            "1+2+2+2=7\n",
            "0-2+9-0=7\n",
            "3+2+4-2=7\n"
          ]
        }
      ]
    },
    {
      "cell_type": "code",
      "source": [
        "# 未解決問題 => ネットで見つけたこの解答例ではサンプルが通らない\n",
        "# bit探索での解答例はあるのだが、再帰の解答が見つからない\n",
        "# ABC104 C - All Green\n",
        "# プログラミングコンペティションサイト AtCode は、アルゴリズムの問題集を提供しています。 \n",
        "# それぞれの問題には、難易度に応じて点数が付けられています。 \n",
        "# 現在、1 以上 D 以下のそれぞれの整数 i に対して、100_i 点を付けられた問題が p_i\n",
        "# AtCode のユーザーは 総合スコア と呼ばれる値を持ちます。 ユーザーの総合スコアは、\n",
        "# 以下の 2 つの要素の和です。\n",
        "# 基本スコア: ユーザーが解いた問題すべての配点の合計です。\n",
        "# コンプリートボーナス: 100i 点を付けられた p_i 問の問題すべてを解いたユーザーは、\n",
        "# 基本スコアと別にコンプリートボーナス c_i 点を獲得します (1≤i≤D)。\n",
        "# AtCode の新たなユーザーとなった高橋くんは、まだ問題を 1 問も解いていません。 \n",
        "# 彼の目標は、総合スコアを G 点以上にすることです。 \n",
        "# このためには、少なくとも何問の問題を解く必要があるでしょうか？\n",
        "# 総合スコアを G 点以上にするために解く必要のある最小の問題数を出力せよ。\n",
        "# なお、この目標は必ず達成可能である（制約を参照のこと）。\n",
        "%%writefile temp.cpp\n",
        "#include <bits/stdc++.h>\n",
        "using namespace std;\n",
        "\n",
        "#define ll long long\n",
        "#define Int int\n",
        "#define loop(x, start, end) for(Int x = start; x < end; x++)\n",
        "#define loopdown(x, start, end) for(int x = start; x > end; x--)\n",
        "#define rep(n) for(int x = 0; x < n; x++)\n",
        "#define span(a,x,y) a.begin()+x,a.begin()+y\n",
        "#define span_all(a) a.begin(),a.end()\n",
        "#define len(x) (x.size())\n",
        "#define last(x) (*(x.end()-1))\n",
        "\n",
        "\n",
        "#define MAX_D 11\n",
        "\n",
        "struct Rank {\n",
        "  Int numProblems, score, bonus;\n",
        "\n",
        "  Rank(): numProblems(0), score(0), bonus(0) {}\n",
        "\n",
        "  Rank(Int n, Int s, Int b): numProblems(n), score(s), bonus(b) {\n",
        "  }\n",
        "};\n",
        "\n",
        "Int D, G, c, p;\n",
        "Rank ranks[MAX_D];\n",
        "\n",
        "struct State {\n",
        "  Int index = 0, numTaken = 0, score = 0, partialIndex = 0;\n",
        "\n",
        "  State() {\n",
        "  }\n",
        "\n",
        "  bool success() {\n",
        "    return score >= G;\n",
        "  }\n",
        "\n",
        "  bool end() {\n",
        "    return index >= D;\n",
        "  }\n",
        "\n",
        "  State takePart() {\n",
        "    State copy = *this;\n",
        "    Int need = (G - score) / ranks[index].score;\n",
        "    if (need > ranks[index].numProblems) return copy;\n",
        "    copy.score += ranks[index].score * need;\n",
        "    copy.numTaken += need;\n",
        "    return copy;\n",
        "  }\n",
        "\n",
        "  State take() {\n",
        "    State copy = *this;\n",
        "    copy.score += ranks[index].score * ranks[index].numProblems + ranks[index].bonus;\n",
        "    copy.numTaken += ranks[index].numProblems;\n",
        "    return copy;\n",
        "  }\n",
        "\n",
        "  State inc() {\n",
        "    State copy = *this;\n",
        "    copy.index++;\n",
        "    return copy;\n",
        "  }\n",
        "};\n",
        "\n",
        "void input() {\n",
        "  cin >> D >> G;\n",
        "  loop(d,1,D+1) {\n",
        "    cin >> p >> c;\n",
        "    ranks[d-1] = Rank(p, 100*d, c);\n",
        "  }\n",
        "}\n",
        "\n",
        "State dfs(State state) {\n",
        "  if (state.success() || state.end()) return state;\n",
        "  if (state.takePart().success()) return state.takePart();\n",
        "\n",
        "  State not_take = dfs(state.inc());\n",
        "  State take = dfs(state.take().inc());\n",
        "  if (not_take.success() && take.success())\n",
        "    return (not_take.numTaken < take.numTaken) ? not_take : take;\n",
        "  if (take.success()) return take;\n",
        "  else return not_take;\n",
        "}\n",
        "\n",
        "void solve() {\n",
        "  State init;\n",
        "  State result = dfs(init);\n",
        "  cout << result.numTaken << endl;\n",
        "}\n",
        "\n",
        "int main(void) {\n",
        "  input();\n",
        "  solve();\n",
        "  return 0;\n",
        "}"
      ],
      "metadata": {
        "colab": {
          "base_uri": "https://localhost:8080/"
        },
        "id": "X_k1O67GMr5U",
        "outputId": "91dcfcb7-07de-4c38-a7b9-594aa1437bee"
      },
      "execution_count": null,
      "outputs": [
        {
          "output_type": "stream",
          "name": "stdout",
          "text": [
            "Overwriting temp.cpp\n"
          ]
        }
      ]
    },
    {
      "cell_type": "code",
      "source": [
        "# 未解決問題\n",
        "# 参考\n",
        "%%writefile temp.cpp\n",
        "#include <bits/stdc++.h>\n",
        "using namespace std;\n",
        "\n",
        "class NyaGadgetPositionalNotation\n",
        "{\t// N進数を表現するクラス\n",
        "public:\n",
        "\tNyaGadgetPositionalNotation(int cardinal)\n",
        "\t{\n",
        "\t\tcardinal_ = cardinal;\n",
        "\t\tsymbol_index_collection_.push_back(0);\n",
        "\t}\n",
        "\tvoid Inc()\n",
        "\t{\t// 返り値なしのインクリメント\n",
        "\t\tbool carry = true;\n",
        "\t\tlong index = (long)symbol_index_collection_.size() - 1;\n",
        "\t\twhile (0 <= index && carry)\n",
        "\t\t{\n",
        "\t\t\tif (symbol_index_collection_[index] != cardinal_ - 1)\n",
        "\t\t\t{\n",
        "\t\t\t\tsymbol_index_collection_[index]++;\n",
        "\t\t\t\tcarry = false;\n",
        "\t\t\t}\n",
        "\t\t\telse\n",
        "\t\t\t{\t// 桁上り\n",
        "\t\t\t\tsymbol_index_collection_[index] = 0;\n",
        "\t\t\t\tif (index == 0)\n",
        "\t\t\t\t\tsymbol_index_collection_.push_front(1);\n",
        "\t\t\t\tcarry = true;\n",
        "\t\t\t}\n",
        "\t\t\tindex--;\n",
        "\t\t}\n",
        "\t}\n",
        "\tNyaGadgetPositionalNotation operator ++()\n",
        "\t{\t// 前置インクリメント\n",
        "\t\tInc();\n",
        "\t\treturn *this;\n",
        "\t}\n",
        "\tNyaGadgetPositionalNotation operator ++(int)\n",
        "\t{  // 後置インクリメント\n",
        "\t\tNyaGadgetPositionalNotation pn = *this;\n",
        "\t\tInc();\n",
        "\t\treturn pn;\n",
        "\t}\n",
        "\t/**\n",
        "\t@brief N進数取得関数\n",
        "\t@note\n",
        "\t d桁のN進数として文字列で取得\n",
        "\t---------------------------------------------------------------------------\n",
        "\t[sample]\n",
        "\tint main()\n",
        "\t{\t// 16進数テスト\n",
        "\t\tNyaGadgetPositionalNotation pn(16);\n",
        " \n",
        "\t\tfor (int i = 0; i < 30; i++)\n",
        "\t\t\tpn++;\n",
        " \n",
        "\t\tcout << pn() << endl;\t\t// 30を16進数で表示\n",
        "\t\tcout << pn(5) << endl;\t\t// 5桁表示\n",
        " \n",
        "\t\treturn 0;\n",
        "\t}\n",
        "\t---------------------------------------------------------------------------\n",
        "\t[output]\n",
        "\t1E\n",
        "\t0001E\n",
        "\t**/\n",
        "\tstring operator()(long d = 0)\n",
        "\t{\n",
        "\t\tstd::string positional_nation;\n",
        " \n",
        "\t\tfor (const auto& e : symbol_index_collection_)\n",
        "\t\t\tpositional_nation += symbols_[e];\n",
        " \n",
        "\t\tif (d == 0 || d == positional_nation.size())\n",
        "\t\t\treturn positional_nation;\n",
        " \n",
        "\t\tif (positional_nation.size() < d)\n",
        "\t\t{\t// 表示桁に空きがあるときは0で埋める\n",
        "\t\t\tstd::string zero(d - positional_nation.size(), '0');\n",
        "\t\t\tpositional_nation = zero + positional_nation;\n",
        "\t\t}\n",
        " \n",
        "\t\treturn positional_nation;\n",
        "\t}\n",
        "\t/**\n",
        "\t@brief d桁目を取得する演算子\n",
        "\t@note\n",
        "\t d桁目の数字を文字列で取得する。\n",
        "\t-------------------------------------------------------------------------- -\n",
        "\t[sample]\n",
        "\tint main()\n",
        "\t{\t// 16進数テスト\n",
        "\t\tNyaGadgetPositionalNotation pn(16);\n",
        " \n",
        "\t\tfor (int i = 0; i < 30; i++)\n",
        "\t\t\tpn++;\n",
        " \n",
        "\t\tcout << pn.() << endl;\t\t// 30を16進数で表示\n",
        "\t\tcout << pn[0] << endl;\t\t// １桁目を表示\n",
        "\t\tcout << pn[1] << endl;\t\t// ２桁目を表示\n",
        " \n",
        "\t\treturn 0;\n",
        "\t}\n",
        "\t-------------------------------------------------------------------------- -\n",
        "\t[output]\n",
        "\t1E\n",
        "\tE\n",
        "\t1\n",
        "\t**/\n",
        "\tchar operator[](int d)\n",
        "\t{\t// d桁目の数字を取得する\n",
        "\t\tint index = (int)symbol_index_collection_.size() - 1 - d;\n",
        "\t\tif (index < 0)\n",
        "\t\t\treturn symbols_[0][0];\n",
        "\t\treturn symbols_[symbol_index_collection_[index]][0];\n",
        "\t}\n",
        "private:\n",
        "\tint cardinal_;\t// 基数\n",
        "\tstring symbols_[36] =\n",
        "\t{\t// 36進数まで対応\n",
        "\t\t\"0\", \"1\", \"2\", \"3\", \"4\", \"5\", \"6\", \"7\", \"8\", \"9\",\n",
        "\t\t\"A\", \"B\", \"C\", \"D\", \"E\", \"F\", \"G\", \"H\", \"I\", \"J\",\n",
        "\t\t\"K\", \"L\", \"M\", \"N\", \"O\", \"P\", \"Q\", \"R\", \"S\", \"T\",\n",
        "\t\t\"U\", \"V\", \"W\", \"X\", \"Y\", \"Z\",\n",
        "\t};\n",
        "\t// シンボルそのものでなく、シンボルに対応するindexを格納していく\n",
        "\tdeque<int> symbol_index_collection_;\n",
        "};\n",
        " \n",
        "#define all(collection) (collection).begin(), (collection).end()\n",
        "#define loop(i, times) for(long i = 0; i < times; i++)\n",
        "#define rloop(i, times) for(long i = times - 1; 0 <= i; i--)\n",
        "#define seloop(i, start_index, end_index) for(long i = start_index; i < end_index; i++)\n",
        "#define eqseloop(i, start_index, end_index) for(long i = start_index; i <= end_index; i++)\n",
        " \n",
        "struct Problem\n",
        "{\n",
        "\tlong bonus_;\t//!< ボーナス点\n",
        "\tint level_;\t\t//!< 問題のレベル(100*X点)\n",
        "\tint n_;\t\t\t//!< 問題数\n",
        "\tProblem()\n",
        "\t{\n",
        "\t\tbonus_ = level_ = n_ = 0;\n",
        "\t}\n",
        "};\n",
        " \n",
        "struct Solve\n",
        "{\n",
        "\tlong count_;\t//!< 解答数 \n",
        "\tlong score_;\t//!< スコア\n",
        "\tSolve()\n",
        "\t{\n",
        "\t\tcount_ = score_ = 0;\n",
        "\t}\n",
        "\tbool operator < (const Solve& s) const\n",
        "\t{\n",
        "\t\treturn (count_ < s.count_);\n",
        "\t}\n",
        "};\n",
        " \n",
        "class Abc104C\n",
        "{\n",
        "public:\n",
        "\tvoid Run(void)\n",
        "\t{\n",
        "\t\tint d; cin >> d;\n",
        "\t\tlong g; cin >> g;\n",
        " \n",
        "\t\tproblem_collection_.resize(d);\n",
        "\t\tloop(i, d)\n",
        "\t\t{\t// 問題の入力\n",
        "\t\t\tcin >> problem_collection_[i].n_;\n",
        "\t\t\tcin >> problem_collection_[i].bonus_;\n",
        "\t\t\tproblem_collection_[i].level_ = (i + 1) * 100;\n",
        "\t\t}\n",
        " \n",
        "\t\tsolve_collection_.resize(1LL << d);\n",
        "\t\tNyaGadgetPositionalNotation pn(2);\n",
        "\t\tloop(bit_loop_times, 1L << d)\n",
        "\t\t{\t// bit全探索で問題を解く\n",
        "\t\t\tloop(i, d)\n",
        "\t\t\t{\n",
        "\t\t\t\tif (pn[i] == '1')\n",
        "\t\t\t\t\tSolveAll(problem_collection_[i], solve_collection_[bit_loop_times]);\n",
        "\t\t\t}\n",
        "\t\t\trloop(i, d)\n",
        "\t\t\t{\n",
        "\t\t\t\tif (pn[i] == '0')\n",
        "\t\t\t\t\tSolveX(problem_collection_[i], solve_collection_[bit_loop_times], g);\n",
        "\t\t\t}\n",
        "\t\t\tpn++;\n",
        "\t\t}\n",
        " \n",
        "\t\t// 解いた問題数の昇順にソート\n",
        "\t\tsort(solve_collection_.begin(), solve_collection_.end());\n",
        "\t\tfor (const auto & elm_solve : solve_collection_)\n",
        "\t\t{\t// 解いた問題数の出力\n",
        "\t\t\tif (g <= elm_solve.score_)\n",
        "\t\t\t{\n",
        "\t\t\t\tcout << elm_solve.count_;\n",
        "\t\t\t\treturn;\n",
        "\t\t\t}\n",
        "\t\t}\n",
        "\t}\n",
        "\t/**\n",
        "\t@brief 問題をX個解く関数\n",
        "\t@note\n",
        "\t 問題problemを(problem.n_-1)個だけ解いて、解答solveを更新する。\n",
        "\t ただし、solve.score_がgoalに達したら解くのを中断する。\n",
        "\t**/\n",
        "\tvoid SolveX(const Problem& problem, Solve& solve, const long goal)\n",
        "\t{\n",
        "\t\tloop(i, problem.n_ - 1)\n",
        "\t\t{\n",
        "\t\t\tif (goal <= solve.score_)\n",
        "\t\t\t\treturn;\n",
        "\t\t\tsolve.score_ += problem.level_;\n",
        "\t\t\tsolve.count_++;\n",
        "\t\t}\n",
        "\t}\n",
        "\t/**\n",
        "\t@brief 問題を全て解く関数\n",
        "\t@note\n",
        "\t 問題problemをボーナスを得るまで解いて、解答solveを更新する。\n",
        "\t**/\n",
        "\tvoid SolveAll(const Problem& problem, Solve& solve)\n",
        "\t{\n",
        "\t\tsolve.score_ += problem.level_ * problem.n_ + problem.bonus_;\n",
        "\t\tsolve.count_ += problem.n_;\n",
        "\t}\n",
        " \n",
        "private:\n",
        "\tvector<Problem> problem_collection_;\n",
        "\tvector<Solve> solve_collection_;\n",
        "};\n",
        " \n",
        "int main()\n",
        "{\n",
        "\tAbc104C abc104c;\n",
        "\tabc104c.Run();\n",
        "\treturn 0;\n",
        "}"
      ],
      "metadata": {
        "colab": {
          "base_uri": "https://localhost:8080/"
        },
        "id": "Qf54pLj9bo_A",
        "outputId": "c9d2852f-e586-4761-db49-06489d81319a"
      },
      "execution_count": null,
      "outputs": [
        {
          "output_type": "stream",
          "name": "stdout",
          "text": [
            "Overwriting temp.cpp\n"
          ]
        }
      ]
    },
    {
      "cell_type": "code",
      "source": [
        "!g++ temp.cpp -o temp; echo 2 700 3 500 5 800 |./temp \n",
        "#=> 3\n",
        "!g++ temp.cpp -o temp; echo 2 2000 3 500 5 800 |./temp \n",
        "#=> 7\n",
        "!g++ temp.cpp -o temp; echo 2 400 3 500 5 800 |./temp \n",
        "#=> 2\n",
        "!g++ temp.cpp -o temp; echo 5 25000 20 1000 40 1000 50 1000 30 1000 1 1000 |./temp \n",
        "#=> 66"
      ],
      "metadata": {
        "colab": {
          "base_uri": "https://localhost:8080/"
        },
        "id": "WBFI_SpMMq3B",
        "outputId": "5e8edfc0-4456-47cb-cfeb-d931395d6aff"
      },
      "execution_count": null,
      "outputs": [
        {
          "output_type": "stream",
          "name": "stdout",
          "text": [
            "37266"
          ]
        }
      ]
    },
    {
      "cell_type": "code",
      "source": [
        "# 未解決問題\n",
        "# ARC029 A - 高橋君とお肉\n",
        "# 高橋君は友達とキャンプに行くことになった。\n",
        "# 高橋君と友達は性能が同じである 2 個の肉焼き器を持っており、それぞれの肉焼き器に\n",
        "# お肉を乗せて並行して焼くことができる。一旦肉焼き器にお肉を乗せたら、\n",
        "# お肉が焼きあがるまではその肉焼き器からお肉を取り出したり、その肉焼き器に別のお肉を\n",
        "# 乗せたりはできない。お肉が焼けたらお肉を取り出すことができる。\n",
        "# 2 つの肉焼き器にまたがって 1 つのお肉を置くことはできない。また、お肉は全部で N 個あり、\n",
        "# お肉には 1 から N まで番号が付けられている。お肉 i を焼くのには、どちらの肉焼き器でも\n",
        "# 時間 t_i だけかかる。お肉を肉焼き器に置く動作、取り出す動作には時間がかからない。\n",
        "# 高橋君はお肉を焼く係であり、N 個すべてのお肉を焼くことになった。\n",
        "# みんなお腹が空いているので、すべてのお肉を焼くのにかかる時間を最小化させたい。\n",
        "# すべてのお肉を焼くのにかかる時間の最小値を求めよ。\n",
        "# すべてのお肉を焼くのにかかる時間の最小値を 1 行に出力せよ。出力の末尾にも改行を入れること。\n",
        "%%writefile temp.cpp\n",
        "#include <bits/stdc++.h>\n",
        "using namespace std;\n"
      ],
      "metadata": {
        "id": "17XWuypPggvT"
      },
      "execution_count": null,
      "outputs": []
    },
    {
      "cell_type": "code",
      "source": [
        "!g++ temp.cpp -o temp; echo 4 4 6 7 10 |./temp #=> 14\n",
        "!g++ temp.cpp -o temp; echo 3 1 2 4 |./temp #=> 4\n",
        "!g++ temp.cpp -o temp; echo 1 29 |./temp #=> 29"
      ],
      "metadata": {
        "id": "gLae-W-rggnR"
      },
      "execution_count": null,
      "outputs": []
    },
    {
      "cell_type": "code",
      "source": [
        "# 未解決問題 再帰を使った解答例がみつからない\n",
        "# ABC002 D - 派閥\n",
        "# 神からの財産と、母音を取り戻した高橋くんは、AtCoder国の腐敗した政治を正すため、\n",
        "# 国会議員となろうと決めました。\n",
        "# もともと人心掌握術とスピーチに定評があった高橋くんは、何の苦労をすることもなく当選しました。\n",
        "# しかし、議員になってからが本番です。国を正すためには、首相に任命される必要があります。\n",
        "# AtCoder国には高橋くんを除いて N 人の国会議員と、M 個の人間関係 (x, y) が存在します。\n",
        "# 人間関係 (x, y) とは、議員 x と議員 y が知り合いであることを意味します。\n",
        "# 高橋くんは N 人の議員から何人かを選んで派閥を作ろうと企んでいます。\n",
        "# 派閥に含まれるすべての議員は互いに知り合いでなければなりません。\n",
        "# 高橋くんが作成することができる最大の派閥に属する議員数を求めるプログラムを書いてください。\n",
        "# 1 行目には、高橋くん以外の国会議員の数 N (1≦N≦12) と、人間関係の数 M (0≦M≦N(N−1)/2) \n",
        "# が半角空白区切りで与えられる。\n",
        "# 2 行目から M+1 行目までの M 行で、人間関係が与えられる。\n",
        "# 各議員は 1 から N までの整数で番号がつけられている。\n",
        "# 2 行目を基準とした第 i (1≦i≦M) 行において、議員 x_i と議員 y_i は知り合いであることを意味する。\n",
        "# 高橋くんが作成することができる最大の派閥に属する議員数を 1 行で出力してください。\n",
        "%%writefile temp.cpp\n"
      ],
      "metadata": {
        "id": "JfTuLjLV9lAq"
      },
      "execution_count": null,
      "outputs": []
    },
    {
      "cell_type": "code",
      "source": [
        "!g++ temp.cpp -o temp; echo 5 3 1 2 2 3 1 3 |./temp \n",
        "#=> 3\n",
        "!g++ temp.cpp -o temp; echo 5 3 1 2 2 3 3 4 |./temp \n",
        "#=> 2\n",
        "!g++ temp.cpp -o temp; echo 7 9 1 2 1 3 2 3 4 5 4 6 4 7 5 6 5 7 6 7 |./temp \n",
        "#=> 4\n",
        "!g++ temp.cpp -o temp; echo 12 0 |./temp \n",
        "#=> 1"
      ],
      "metadata": {
        "id": "fw0TxQ_V31dm"
      },
      "execution_count": null,
      "outputs": []
    },
    {
      "cell_type": "markdown",
      "source": [
        "# W - 2.06.計算量"
      ],
      "metadata": {
        "id": "olIA8-zwmhwA"
      }
    },
    {
      "cell_type": "code",
      "source": [
        "# W - 2.06.計算量\n",
        "# 時間計算量・空間計算量\n",
        "# 計算量の表記にはオーダー記法を用いる\n",
        "# 計算時間と記憶領域\n",
        "# 単に計算量という場合、時間計算量を指すことが多い\n",
        "# 計算ステップ数とは、四則演算や数値の比較などの回数\n",
        "# 計算量の例\n",
        "# 次のプログラムは1からNまでの総和(1+2+3+⋯+N)を計算するものです。\n",
        "%%writefile temp.cpp\n",
        "#include <bits/stdc++.h>\n",
        "using namespace std; \n",
        "int main() {\n",
        "  int N;\n",
        "  cin >> N;\n",
        "  int sum = 0;\n",
        "  for (int i = 1; i <= N; i++) {\n",
        "    sum += i;\n",
        "  }\n",
        "  cout << sum << endl;\n",
        "}"
      ],
      "metadata": {
        "colab": {
          "base_uri": "https://localhost:8080/"
        },
        "id": "uzwJqE4LmeuD",
        "outputId": "b56429e7-2ee4-42c8-fcc2-f106cd9091c8"
      },
      "execution_count": null,
      "outputs": [
        {
          "output_type": "stream",
          "name": "stdout",
          "text": [
            "Overwriting temp.cpp\n"
          ]
        }
      ]
    },
    {
      "cell_type": "code",
      "source": [
        "!g++ temp.cpp -o temp; echo 10 |./temp "
      ],
      "metadata": {
        "id": "CFV4N-2Ez_Kh",
        "outputId": "c9306334-261d-471e-f449-e12c95f50c71",
        "colab": {
          "base_uri": "https://localhost:8080/"
        }
      },
      "execution_count": null,
      "outputs": [
        {
          "output_type": "stream",
          "name": "stdout",
          "text": [
            "55\n"
          ]
        }
      ]
    },
    {
      "cell_type": "code",
      "source": [
        "# このプログラムではfor文でN回の繰り返し処理を行っているので、\n",
        "# 計算ステップ数は入力のNに応じて変わります。 N回の繰り返しを行うので、\n",
        "# 計算ステップ数はおおよそN回になります。 \n",
        "# このときの時間計算量はオーダー記法を用いて O(N) と表します。\n",
        "# このプログラムで使用している変数は入力のNに関わらずint Nとint sumとint iの3つです。 \n",
        "# このときの空間計算量はオーダー記法を用いてO(1)と表します。\n",
        "# オーダー記法\n",
        "# 3N^2+7N+4という式はオーダー記法では O(N^2) と表されます。\n",
        "# 以下の手順によってオーダー記法による表記を得ることができます。\n",
        "# ステップ1：係数を省略する。ただし定数については1とする。\n",
        "# ステップ2：Nを大きくしたときに一番影響が大きい項を取り出し、O(項)と書く\n",
        "# 次の式をそれぞれオーダー記法で表してください。\n",
        "\n",
        "# 1. N+100\n",
        "# 2. 10N+N^3\n",
        "# 3. 3+5\n",
        "# 4. 2^N+N^2\n",
        "\n",
        "# 答え\n",
        "# 1. O(N)\n",
        "# 2. O(N^3)\n",
        "# 3. O(1)\n",
        "# 4. O(2^N)\n",
        "\n",
        "# 計算量(オーダー記法)の求め方\n",
        "# 計算量を求めるには計算ステップ数がどうなるかを式で表す必要があります。\n",
        "# 次のプログラムは意味の無いものですが、計算量がどうなるかを考えてみましょう。\n",
        "%%writefile temp.cpp\n",
        "#include <bits/stdc++.h>\n",
        "using namespace std;\n",
        " \n",
        "int main() {\n",
        "  int N;\n",
        "  cin >> N;\n",
        " \n",
        "  int sum = 0;\n",
        " \n",
        "  for (int i = 0; i < N; i++) {\n",
        "    for (int j = 0; j < N; j++) {\n",
        "      sum += i * j;\n",
        "    }\n",
        "  }\n",
        " \n",
        "  for (int i = 0; i < N; i++) {\n",
        "    sum += i;\n",
        "  }\n",
        " \n",
        "  for (int i = 0; i < N; i++) {\n",
        "    sum *= i;\n",
        "  }\n",
        " \n",
        "  cout << sum << endl;\n",
        "}"
      ],
      "metadata": {
        "id": "QpH15Mw6z9L5",
        "outputId": "70247d2b-343f-4b18-db1e-4692470b5860",
        "colab": {
          "base_uri": "https://localhost:8080/"
        }
      },
      "execution_count": null,
      "outputs": [
        {
          "output_type": "stream",
          "name": "stdout",
          "text": [
            "Overwriting temp.cpp\n"
          ]
        }
      ]
    },
    {
      "cell_type": "code",
      "source": [
        "!g++ temp.cpp -o temp; echo 10 |./temp "
      ],
      "metadata": {
        "id": "ge5kNqKs10HL",
        "outputId": "5daf8976-9d75-465b-958e-59dc2344585c",
        "colab": {
          "base_uri": "https://localhost:8080/"
        }
      },
      "execution_count": null,
      "outputs": [
        {
          "output_type": "stream",
          "name": "stdout",
          "text": [
            "0\n"
          ]
        }
      ]
    },
    {
      "cell_type": "code",
      "source": [
        "# 1つの2重ループと2つの1重ループがあるので計算ステップ数は N^2+2N くらいになります。 \n",
        "# これをオーダー記法で表すと O(N^2) となります。 \n",
        "# このように、 簡単なアルゴリズムであれば厳密な式を求めなくても 「N回の繰り返し処理があるからO(N)」\n",
        "# や「0からNまで回す2重ループがあるからO(N^2)」 などと見積もることができます。\n",
        "# いくつかの計算量オーダーについて、具体的なプログラムの例を挙げます。\n",
        "# O(1)\n",
        "# 次のプログラムは、1からNまでの総和を公式を使って計算するものです。 このプログラムの計算量はO(1)です。\n",
        "%%writefile temp.cpp\n",
        "#include <bits/stdc++.h>\n",
        "using namespace std;\n",
        " \n",
        "int main() {\n",
        "  int N;\n",
        "  cin >> N;\n",
        "  int sum = N * (N + 1) / 2;\n",
        "  cout << sum << endl;\n",
        "}"
      ],
      "metadata": {
        "id": "xJr9-AwN1OjJ",
        "outputId": "b98221e4-99e3-434b-9fed-0d58860a790a",
        "colab": {
          "base_uri": "https://localhost:8080/"
        }
      },
      "execution_count": null,
      "outputs": [
        {
          "output_type": "stream",
          "name": "stdout",
          "text": [
            "Overwriting temp.cpp\n"
          ]
        }
      ]
    },
    {
      "cell_type": "code",
      "source": [
        "!g++ temp.cpp -o temp; echo 10 |./temp "
      ],
      "metadata": {
        "id": "-k73aXbO1wTk",
        "outputId": "d3305fa9-ec41-4b02-9013-9ddd5dccdc9f",
        "colab": {
          "base_uri": "https://localhost:8080/"
        }
      },
      "execution_count": null,
      "outputs": [
        {
          "output_type": "stream",
          "name": "stdout",
          "text": [
            "55\n"
          ]
        }
      ]
    },
    {
      "cell_type": "code",
      "source": [
        "# O(N)\n",
        "# 次のプログラムは要素数Nの配列の中に含まれる偶数の個数を数えるものです。 \n",
        "# このプログラムの計算量はO(N)です。\n",
        "%%writefile temp.cpp\n",
        "#include <bits/stdc++.h>\n",
        "using namespace std;\n",
        " \n",
        "int main() {\n",
        "  int N;\n",
        "  cin >> N;\n",
        "  vector<int> a(N);\n",
        "  for (int i = 0; i < N; i++) {\n",
        "    cin >> a.at(i);\n",
        "  }\n",
        " \n",
        "  int cnt = 0;\n",
        "  for (int i = 0; i < N; i++) {\n",
        "    if (a.at(i) % 2 == 0) {\n",
        "      cnt++;\n",
        "    }\n",
        "  }\n",
        "  cout << cnt << endl;\n",
        "}"
      ],
      "metadata": {
        "id": "FaNsF_qt1vGz",
        "outputId": "47d4b6de-1f31-4639-cb1a-08e85d38c2b1",
        "colab": {
          "base_uri": "https://localhost:8080/"
        }
      },
      "execution_count": null,
      "outputs": [
        {
          "output_type": "stream",
          "name": "stdout",
          "text": [
            "Overwriting temp.cpp\n"
          ]
        }
      ]
    },
    {
      "cell_type": "code",
      "source": [
        "!g++ temp.cpp -o temp; echo 10 0 1 2 3 4 5 6 7 8 9|./temp "
      ],
      "metadata": {
        "id": "rli32Zfj2HJE",
        "outputId": "0cce6ca6-7fe0-4c82-f5f4-d17ec4237891",
        "colab": {
          "base_uri": "https://localhost:8080/"
        }
      },
      "execution_count": null,
      "outputs": [
        {
          "output_type": "stream",
          "name": "stdout",
          "text": [
            "5\n"
          ]
        }
      ]
    },
    {
      "cell_type": "code",
      "source": [
        "# O(N^2)\n",
        "# 次のプログラムは九九の要領でN×Nマスを埋めるものです。 \n",
        "# このプログラムの計算量はO(N^2)です。\n",
        "%%writefile temp.cpp\n",
        "#include <bits/stdc++.h>\n",
        "using namespace std;\n",
        " \n",
        "int main() {\n",
        "  int N;\n",
        "  cin >> N;\n",
        " \n",
        "  vector<vector<int>> table(N, vector<int>(N));\n",
        "  for (int i = 0; i < N; i++) {\n",
        "    for (int j = 0; j < N; j++) {\n",
        "      table.at(i).at(j) = (i + 1) * (j + 1);  // N×N回実行される\n",
        "    }\n",
        "  }\n",
        " \n",
        "  // 出力\n",
        "  for (int i = 0; i < N; i++) {\n",
        "    for (int j = 0; j < N; j++) {\n",
        "      cout << table.at(i).at(j);\n",
        "      if (j != N - 1) {\n",
        "        cout << \" \";\n",
        "      }\n",
        "      else {\n",
        "        cout << endl;\n",
        "      }\n",
        "    }\n",
        "  }\n",
        "}"
      ],
      "metadata": {
        "id": "Vz2lOt7f2FkJ",
        "outputId": "92dcd15c-cc91-402d-fc01-1b5e573f2556",
        "colab": {
          "base_uri": "https://localhost:8080/"
        }
      },
      "execution_count": null,
      "outputs": [
        {
          "output_type": "stream",
          "name": "stdout",
          "text": [
            "Writing temp.cpp\n"
          ]
        }
      ]
    },
    {
      "cell_type": "code",
      "source": [
        "!g++ temp.cpp -o temp; echo 9 |./temp "
      ],
      "metadata": {
        "id": "0yMWW5f2GiVx",
        "outputId": "423e9f86-0840-449d-b385-447522b7f35c",
        "colab": {
          "base_uri": "https://localhost:8080/"
        }
      },
      "execution_count": null,
      "outputs": [
        {
          "output_type": "stream",
          "name": "stdout",
          "text": [
            "1 2 3 4 5 6 7 8 9\n",
            "2 4 6 8 10 12 14 16 18\n",
            "3 6 9 12 15 18 21 24 27\n",
            "4 8 12 16 20 24 28 32 36\n",
            "5 10 15 20 25 30 35 40 45\n",
            "6 12 18 24 30 36 42 48 54\n",
            "7 14 21 28 35 42 49 56 63\n",
            "8 16 24 32 40 48 56 64 72\n",
            "9 18 27 36 45 54 63 72 81\n"
          ]
        }
      ]
    },
    {
      "cell_type": "code",
      "source": [
        "# O(logN)\n",
        "# 初めに簡単にlogを説明します。\n",
        "# log_x N という式は「xを何乗したらNになるか」を表します。 \n",
        "# 例えば、2^4=16 なので、log_2 16=4 です。\n",
        "# 長さ8の棒を長さが1になるまで半分に切る(2で割る)ことを繰り返したときに切る回数は log_2 8 回です。\n",
        "# 計算量に出てくる log は「半分にする回数」を表す事が多い。\n",
        "# log N は N に対して非常に小さくなるので、計算量の中に O(logN) が出てきた場合でも実行時間に\n",
        "# そこまで影響しないことが多い。 \n",
        "# また、オーダー記法では log の底は省略して書かれる。この場合は2が省略されている。\n",
        "# 実は log の底の違いは定数倍の違いだけとみなすことができるので、係数を省略するオーダー記法では省略されます。\n",
        "# 次のプログラムは N が 2 で何回割れるかを数えるものです。 \n",
        "# このプログラムの計算量はO(logN)です。\n",
        "%%writefile temp.cpp\n",
        "#include <bits/stdc++.h>\n",
        "using namespace std;\n",
        " \n",
        "int main() {\n",
        "  int N;\n",
        "  cin >> N;\n",
        "  int cnt = 0;\n",
        "  while (N > 0) {\n",
        "    cnt++;\n",
        "    N /= 2;\n",
        "  }\n",
        "  cout << cnt << endl;\n",
        "}"
      ],
      "metadata": {
        "id": "ZA-nbfAs2pzL"
      },
      "execution_count": null,
      "outputs": []
    },
    {
      "cell_type": "code",
      "source": [
        "!g++ temp.cpp -o temp; echo 8 |./temp "
      ],
      "metadata": {
        "id": "UNjwI8gEIWn0",
        "outputId": "cbcf6880-b0d4-4656-acd9-f5a7b75cb0c9",
        "colab": {
          "base_uri": "https://localhost:8080/"
        }
      },
      "execution_count": null,
      "outputs": [
        {
          "output_type": "stream",
          "name": "stdout",
          "text": [
            "4\n"
          ]
        }
      ]
    },
    {
      "cell_type": "code",
      "source": [
        "# 上のプログラムを書き直す\n",
        "# N が 2 で何回割れるか\n",
        "%%writefile temp.cpp\n",
        "#include <bits/stdc++.h>\n",
        "using namespace std;\n",
        "\n",
        "int div2(int n){\n",
        "    if (n == 0 || n == 1 || n%2 == 1) return 0;\n",
        "    return 1 + div2(n/2);\n",
        "}\n",
        " \n",
        "int main() {\n",
        "  int N;\n",
        "  cin >> N;\n",
        "  cout << div2(N) << endl;\n",
        "}"
      ],
      "metadata": {
        "id": "1JDj3iD7OeS6",
        "outputId": "ef62673e-f704-42ba-e87c-7e3f5b692aea",
        "colab": {
          "base_uri": "https://localhost:8080/"
        }
      },
      "execution_count": null,
      "outputs": [
        {
          "output_type": "stream",
          "name": "stdout",
          "text": [
            "Overwriting temp.cpp\n"
          ]
        }
      ]
    },
    {
      "cell_type": "code",
      "source": [
        "!g++ temp.cpp -o temp; echo 8 |./temp \n",
        "!g++ temp.cpp -o temp; echo 1 |./temp \n",
        "!g++ temp.cpp -o temp; echo 0 |./temp \n",
        "!g++ temp.cpp -o temp; echo 100 |./temp "
      ],
      "metadata": {
        "id": "YZPFH5c5PUMh",
        "outputId": "8bbefc7b-975d-4159-8f41-25d38aa75c74",
        "colab": {
          "base_uri": "https://localhost:8080/"
        }
      },
      "execution_count": null,
      "outputs": [
        {
          "output_type": "stream",
          "name": "stdout",
          "text": [
            "3\n",
            "0\n",
            "0\n",
            "2\n"
          ]
        }
      ]
    },
    {
      "cell_type": "code",
      "source": [
        "# 計算量のおおまかな大小\n",
        "# 主な計算量の大まかな大小は次のようになります。\n",
        "# O(1) < O(logN) < O(N) < O(NlogN) <O(N^2)< O(2^N)\n",
        "# 時間計算量なら O(1) 側ほど高速に計算可能で、O(2^N) 側ほど時間が掛かります。\n",
        "# 入力 N と実行時間の感覚の対応を次の表に示します。\n",
        "%%html\n",
        "<table border=\"1\">\n",
        "<thead>\n",
        "<tr><th>N </th><th> O(1) </th><th> O(logN) </th><th> O(N) </th><th> O(NlogN) </th><th> O(N^2) </th><th> O(2^N) </th></tr>\n",
        "</thead>\n",
        "<tbody>\n",
        "<tr><td>1 </td><td> 一瞬 </td><td> 一瞬 </td><td> 一瞬 </td><td> 一瞬 </td><td> 一瞬 </td><td> 一瞬 </td></tr>\n",
        "<tr><td>10 </td><td> 一瞬 </td><td> 一瞬 </td><td> 一瞬 </td><td> 一瞬 </td><td> 一瞬 </td><td> 一瞬 </td></tr>\n",
        "<tr><td>1000 </td><td> 一瞬 </td><td> 一瞬 </td><td> 一瞬 </td><td> 一瞬 </td><td> 0.01秒くらい </td><td> 地球爆発 </td></tr>\n",
        "<tr><td>10^6 </td><td> 一瞬 </td><td> 一瞬 </td><td> 0.01秒くらい </td><td> 0.2秒くらい </td><td> 3時間くらい </td><td> 地球爆発 </td></tr>\n",
        "<tr><td>10^8 </td><td> 一瞬 </td><td> 一瞬 </td><td> 1秒くらい </td><td> 30秒くらい </td><td> 3年くらい </td><td> 地球爆発 </td></tr>\n",
        "<tr><td>10^16 </td><td> 一瞬 </td><td> 一瞬 </td><td> 3年くらい </td><td> 170年くらい </td><td> 地球爆発 </td><td> 地球爆発</td></tr>\n",
        "</tbody>\n",
        "</table>\n"
      ],
      "metadata": {
        "id": "xpsTmQSOIS04",
        "outputId": "2b7717e3-1638-4876-a599-29a4041e5baa",
        "colab": {
          "base_uri": "https://localhost:8080/",
          "height": 185
        }
      },
      "execution_count": null,
      "outputs": [
        {
          "output_type": "display_data",
          "data": {
            "text/plain": [
              "<IPython.core.display.HTML object>"
            ],
            "text/html": [
              "<table border=\"1\">\n",
              "<thead>\n",
              "<tr><th>N </th><th> O(1) </th><th> O(logN) </th><th> O(N) </th><th> O(NlogN) </th><th> O(N^2) </th><th> O(2^N) </th></tr>\n",
              "</thead>\n",
              "<tbody>\n",
              "<tr><td>1 </td><td> 一瞬 </td><td> 一瞬 </td><td> 一瞬 </td><td> 一瞬 </td><td> 一瞬 </td><td> 一瞬 </td></tr>\n",
              "<tr><td>10 </td><td> 一瞬 </td><td> 一瞬 </td><td> 一瞬 </td><td> 一瞬 </td><td> 一瞬 </td><td> 一瞬 </td></tr>\n",
              "<tr><td>1000 </td><td> 一瞬 </td><td> 一瞬 </td><td> 一瞬 </td><td> 一瞬 </td><td> 0.01秒くらい </td><td> 地球爆発 </td></tr>\n",
              "<tr><td>10^6 </td><td> 一瞬 </td><td> 一瞬 </td><td> 0.01秒くらい </td><td> 0.2秒くらい </td><td> 3時間くらい </td><td> 地球爆発 </td></tr>\n",
              "<tr><td>10^8 </td><td> 一瞬 </td><td> 一瞬 </td><td> 1秒くらい </td><td> 30秒くらい </td><td> 3年くらい </td><td> 地球爆発 </td></tr>\n",
              "<tr><td>10^16 </td><td> 一瞬 </td><td> 一瞬 </td><td> 3年くらい </td><td> 170年くらい </td><td> 地球爆発 </td><td> 地球爆発</td></tr>\n",
              "</tbody>\n",
              "</table>"
            ]
          },
          "metadata": {}
        }
      ]
    },
    {
      "cell_type": "code",
      "source": [
        "# 1秒くらいで計算が終わるようなプログラムを作ろうというときは、 入力の大きさの上限を見積\n",
        "# もった上で1秒以内に収まるような計算量のアルゴリズムを選択する必要があります。\n",
        "# 例えば、N=10^6 くらいまでの入力で1秒以内に計算を終えるプログラムを作成するのであれば、 \n",
        "# O(N^2) のアルゴリズムでは間に合わないので、O(N)のアルゴリズムを用いて実装する必要があります。\n",
        "# AtCoderの問題では実行時間制約が2秒くらいであることが多いです。 コンテストに参加する人は、\n",
        "# 1秒あたり10^8 回くらいの計算ができることを覚えておきましょう。\n",
        "\n",
        "# 複数の入力がある場合のオーダー記法\n",
        "\n",
        "# プログラムの入力が複数ある場合もオーダー記法で計算量を表すことができます。 \n",
        "# この場合それぞれの変数を残して書きます。 例えば、2つの入力NとMを受け取る場合は\n",
        "# O(N+M), O(NM), O((N+M)logN) のように書きます。\n",
        "\n",
        "# N^2M+NM+NM^2 という計算ステップ数になった場合は、影響が一番大きくなりうる項のみ残すので\n",
        "# O(N^2M+NM^2)となります。\n",
        "# どの項を残すのかが分からなくても計算量が比較できればよいので問題無いです。\n",
        "# 複数の入力が計算量に影響することがあるということは頭に入れておきましょう。\n",
        "\n",
        "# 細かい話\n",
        "\n",
        "# オーダー記法の落とし穴\n",
        "\n",
        "# 計算量をオーダー記法で表記すると比較しやすくなりますが、\n",
        "# オーダー記法は大まかな比較しかできない点に注意する必要があります。\n",
        "# オーダー記法では影響の一番大きな項のみを残して係数を省略して書きます。 \n",
        "# これによって、例えば計算ステップ数が20Nになるアルゴリズムと2Nになるアルゴリズムを\n",
        "# 比較しようとしたときに、 実際には10倍もの差があるのに、オーダー記法ではどちらも\n",
        "# O(N)となってしまいます。\n",
        "# 同様の理由で、O(N)のアルゴリズムAとO(NlogN)のアルゴリズムBを比較するときに、 \n",
        "# 計算量上はアルゴリズムAの方が高速でも、実際に動かしてみるとアルゴリズム\n",
        "# Bの方が高速だったということも起こり得ます。\n",
        "# 正確に比較する必要がある場合は、実際に時間を計測して比較する必要があります。"
      ],
      "metadata": {
        "id": "L5t3Qhoiv2IG"
      },
      "execution_count": null,
      "outputs": []
    },
    {
      "cell_type": "code",
      "source": [
        "# STLの関数の計算量\n",
        "# 1.14 STLの関数で紹介した関数の計算量は以下のようになります。\n",
        "%%html\n",
        "<table border=\"1\">\n",
        "<thead>\n",
        "<tr><th>STLの関数 </th><th> 計算量(配列の要素数N)</th></tr>\n",
        "</thead>\n",
        "<tbody>\n",
        "<tr><td>sort </td><td> O(NlogN)</td></tr>\n",
        "<tr><td>reverse </td><td> O(N)</td></tr>\n",
        "</tbody>\n",
        "</table>"
      ],
      "metadata": {
        "id": "1tR6_yoBzqeT",
        "outputId": "caf3dd65-b2e6-4bd0-f8c0-2d3a56ffc2be",
        "colab": {
          "base_uri": "https://localhost:8080/",
          "height": 91
        }
      },
      "execution_count": null,
      "outputs": [
        {
          "output_type": "display_data",
          "data": {
            "text/plain": [
              "<IPython.core.display.HTML object>"
            ],
            "text/html": [
              "<table border=\"1\">\n",
              "<thead>\n",
              "<tr><th>STLの関数 </th><th> 計算量(配列の要素数N)</th></tr>\n",
              "</thead>\n",
              "<tbody>\n",
              "<tr><td>sort </td><td> O(NlogN)</td></tr>\n",
              "<tr><td>reverse </td><td> O(N)</td></tr>\n",
              "</tbody>\n",
              "</table>"
            ]
          },
          "metadata": {}
        }
      ]
    },
    {
      "cell_type": "code",
      "source": [
        "# 次のプログラムは入力される配列をソートして出力するものです。\n",
        "%%writefile temp.cpp\n",
        "#include <bits/stdc++.h>\n",
        "using namespace std;\n",
        " \n",
        "int main() {\n",
        "  int N;\n",
        "  cin >> N;\n",
        "  vector<int> A(N);\n",
        " \n",
        "  // O(N)\n",
        "  for (int i = 0; i < N; i++) {\n",
        "    cin >> A.at(i);\n",
        "  }\n",
        " \n",
        "  // O(N log N)\n",
        "  sort(A.begin(), A.end());\n",
        " \n",
        "  // O(N)\n",
        "  for (int i = 0; i < N; i++) {\n",
        "    cout << A.at(i) << endl;\n",
        "  }\n",
        "}"
      ],
      "metadata": {
        "id": "i4AqDs33z9j7",
        "outputId": "bc25117e-7d45-4647-f575-da556a1fc063",
        "colab": {
          "base_uri": "https://localhost:8080/"
        }
      },
      "execution_count": null,
      "outputs": [
        {
          "output_type": "stream",
          "name": "stdout",
          "text": [
            "Writing temp.cpp\n"
          ]
        }
      ]
    },
    {
      "cell_type": "code",
      "source": [
        "!g++ temp.cpp -o temp; echo 3 3 1 2 |./temp "
      ],
      "metadata": {
        "id": "GWs5zuaR0anN",
        "outputId": "ecf2eee0-1f6e-4f64-ebff-53eb0a027ab0",
        "colab": {
          "base_uri": "https://localhost:8080/"
        }
      },
      "execution_count": null,
      "outputs": [
        {
          "output_type": "stream",
          "name": "stdout",
          "text": [
            "1\n",
            "2\n",
            "3\n"
          ]
        }
      ]
    },
    {
      "cell_type": "code",
      "source": [
        "# N回のループが2つあるので全体の計算量がO(N)であるように思えますが、 \n",
        "# sort関数の計算量はO(NlogN)でループ部分のO(N)より大きいので、\n",
        "# このプログラム全体の計算量はO(NlogN)となります。\n",
        "\n",
        "# logの性質\n",
        "# O(log5N)→O(logN) logの中の係数は省略します。\n",
        "# O(logNM)→O(logN+logM) どちらで書いてもよい\n",
        "# O(logN^2)→O(logN)\n",
        "# O(log2^N)→O(N)"
      ],
      "metadata": {
        "id": "mTSr4oPl0XH0"
      },
      "execution_count": null,
      "outputs": []
    },
    {
      "cell_type": "code",
      "source": [
        "# 問題\n",
        "# EX21.計算量の見積もり\n",
        "# 次のプログラムではf0〜f5の6つの関数が定義されており、main関数から呼び出されています。 \n",
        "# それぞれの関数の計算量を見積もって、最も計算時間のかかる関数を呼び出している行をコメントアウトしてください。\n",
        "%%writefile temp.cpp\n",
        "#include <bits/stdc++.h>\n",
        "using namespace std;\n",
        "\n",
        "int f0(int N) {\n",
        "  return 1;\n",
        "}\n",
        "\n",
        "int f1(int N, int M) {\n",
        "  int s = 0;\n",
        "  for (int i = 0; i < N; i++) {\n",
        "    s++;\n",
        "  }\n",
        "  for (int i = 0; i < M; i++) {\n",
        "    s++;\n",
        "  }\n",
        "  return s;\n",
        "}\n",
        "\n",
        "int f2(int N) {\n",
        "  int s = 0;\n",
        "  for (int i = 0; i < N; i++) {\n",
        "      int t = N;\n",
        "      int cnt = 0;\n",
        "      while (t > 0) {\n",
        "        cnt++;\n",
        "        t /= 2;\n",
        "      }\n",
        "      s += cnt;\n",
        "  }\n",
        "  return s;\n",
        "}\n",
        "\n",
        "\n",
        "int f3(int N) {\n",
        "  int s = 0;\n",
        "  for (int i = 0; i < 3; i++) {\n",
        "    for (int j = 0; j < 3; j++) {\n",
        "      s++;\n",
        "    }\n",
        "  }\n",
        "  return s;\n",
        "}\n",
        "\n",
        "int f4(int N) {\n",
        "  int s = 0;\n",
        "  for (int i = 0; i < N; i++) {\n",
        "    for (int j = 0; j < N; j++) {\n",
        "      s += i + j;\n",
        "    }\n",
        "  }\n",
        "  return s;\n",
        "}\n",
        "\n",
        "int f5(int N, int M) {\n",
        "  int s = 0;\n",
        "  for (int i = 0; i < N; i++) {\n",
        "    for (int j = 0; j < M; j++) {\n",
        "      s += i + j;\n",
        "    }\n",
        "  }\n",
        "  return s;\n",
        "}\n",
        "\n",
        "int main() {\n",
        "  int N, M;\n",
        "  cin >> N >> M;\n",
        "\n",
        "  int a0 = -1, a1 = -1, a2 = -1, a3 = -1, a4 = -1, a5 = -1;\n",
        "\n",
        "  // 計算量が最も大きいもの1つだけコメントアウトする\n",
        "  a0 = f0(N);\n",
        "  a1 = f1(N, M);\n",
        "  a2 = f2(N);\n",
        "  a3 = f3(N);\n",
        "  // a4 = f4(N);\n",
        "  a5 = f5(N, M);\n",
        "\n",
        "  cout << \"f0: \" << a0 << endl;\n",
        "  cout << \"f1: \" << a1 << endl;\n",
        "  cout << \"f2: \" << a2 << endl;\n",
        "  cout << \"f3: \" << a3 << endl;\n",
        "  cout << \"f4: \" << a4 << endl;\n",
        "  cout << \"f5: \" << a5 << endl;\n",
        "}\n"
      ],
      "metadata": {
        "id": "V1VydW3wbqRP",
        "outputId": "5a383a59-94b7-4530-ba62-9610215771dc",
        "colab": {
          "base_uri": "https://localhost:8080/"
        }
      },
      "execution_count": null,
      "outputs": [
        {
          "output_type": "stream",
          "name": "stdout",
          "text": [
            "Overwriting temp.cpp\n"
          ]
        }
      ]
    },
    {
      "cell_type": "code",
      "source": [
        "!g++ temp.cpp -o temp; echo 1000000 100 |./temp "
      ],
      "metadata": {
        "id": "xuExOgrkmemg",
        "colab": {
          "base_uri": "https://localhost:8080/"
        },
        "outputId": "3d482fa9-9e77-4599-e4d0-79ded890bbad"
      },
      "execution_count": null,
      "outputs": [
        {
          "output_type": "stream",
          "name": "stdout",
          "text": [
            "f0: 1\n",
            "f1: 1000100\n",
            "f2: 20000000\n",
            "f3: 9\n",
            "f4: -1\n",
            "f5: -1404227328\n"
          ]
        }
      ]
    },
    {
      "cell_type": "code",
      "source": [
        "%%html\n",
        "<table border=\"1\">\n",
        "<thead>\n",
        "<tr><th></th><th> 計算量</th></tr>\n",
        "</thead>\n",
        "<tbody>\n",
        "<tr><td>f0 </td><td> O(1)</td></tr>\n",
        "<tr><td>f1 </td><td> O(N+M)</td></tr>\n",
        "<tr><td>f2 </td><td> O(NlogN)</td></tr>\n",
        "<tr><td>f3 </td><td> O(1)</td></tr>\n",
        "<tr><td>f4 </td><td> O(N^2)</td></tr>\n",
        "<tr><td>f5 </td><td> O(NM)</td></tr>\n",
        "</tbody>\n",
        "</table>"
      ],
      "metadata": {
        "id": "tYkLPCTsdzIz",
        "outputId": "37dba036-9f05-400f-b2b1-587d50d7c4d7",
        "colab": {
          "base_uri": "https://localhost:8080/",
          "height": 185
        }
      },
      "execution_count": null,
      "outputs": [
        {
          "output_type": "display_data",
          "data": {
            "text/plain": [
              "<IPython.core.display.HTML object>"
            ],
            "text/html": [
              "<table border=\"1\">\n",
              "<thead>\n",
              "<tr><th></th><th> 計算量</th></tr>\n",
              "</thead>\n",
              "<tbody>\n",
              "<tr><td>f0 </td><td> O(1)</td></tr>\n",
              "<tr><td>f1 </td><td> O(N+M)</td></tr>\n",
              "<tr><td>f2 </td><td> O(NlogN)</td></tr>\n",
              "<tr><td>f3 </td><td> O(1)</td></tr>\n",
              "<tr><td>f4 </td><td> O(N^2)</td></tr>\n",
              "<tr><td>f5 </td><td> O(NM)</td></tr>\n",
              "</tbody>\n",
              "</table>"
            ]
          },
          "metadata": {}
        }
      ]
    },
    {
      "cell_type": "markdown",
      "source": [
        "# Y - 3.01.数値型 "
      ],
      "metadata": {
        "id": "hITRY0NYfa76"
      }
    },
    {
      "cell_type": "code",
      "source": [
        "# 質問 AtCoder は C++ (GCC 9.2.1) で、colab は\n",
        "# gcc (Ubuntu 7.5.0-3ubuntu1~18.04) 7.5.0\n",
        "# どちらも C++ 11 と理解して良いか\n",
        "!gcc --version"
      ],
      "metadata": {
        "colab": {
          "base_uri": "https://localhost:8080/"
        },
        "id": "y4oZ-iHMYfDC",
        "outputId": "65e4d42d-dafa-4696-9063-bbc2c84b9768"
      },
      "execution_count": 1,
      "outputs": [
        {
          "output_type": "stream",
          "name": "stdout",
          "text": [
            "gcc (Ubuntu 7.5.0-3ubuntu1~18.04) 7.5.0\n",
            "Copyright (C) 2017 Free Software Foundation, Inc.\n",
            "This is free software; see the source for copying conditions.  There is NO\n",
            "warranty; not even for MERCHANTABILITY or FITNESS FOR A PARTICULAR PURPOSE.\n",
            "\n"
          ]
        }
      ]
    },
    {
      "cell_type": "code",
      "source": [
        "# Y - 3.01.数値型 \n",
        "# double型の値を出力する際に出力する小数点以下の桁数を指定するには以下のようにする\n",
        "# cout << fixed << setprecision(桁数);\n",
        "# (型)値で型変換（キャスト）を行うことができる\n",
        "# 暗黙的にキャストが起こる場合もある\n",
        "\n",
        "# int64_t型\n",
        "# 今まで整数を扱う場合はint型を使ってきましたが、int型が表せる範囲は以下の通りに限られています。\n",
        "\n",
        "# 最小値：-2147483648\n",
        "# 最大値：2147483647\n",
        "# 計算の途中でこの範囲を超えてしまうことをオーバーフローと言います。\n",
        "%%writefile temp.cpp\n",
        "#include <bits/stdc++.h>\n",
        "using namespace std;\n",
        "int main() {\n",
        "  int a = 2000000000;\n",
        "  int b = a * 2;\n",
        "  cout << b << endl;\n",
        " \n",
        "  int c = (a * 10 + 100) / 100;\n",
        "  cout << c << endl;\n",
        "}"
      ],
      "metadata": {
        "id": "92M0Qd_eeMw5",
        "colab": {
          "base_uri": "https://localhost:8080/"
        },
        "outputId": "54f21857-3497-4970-e534-c4c8b91cd762"
      },
      "execution_count": 3,
      "outputs": [
        {
          "output_type": "stream",
          "name": "stdout",
          "text": [
            "Writing temp.cpp\n"
          ]
        }
      ]
    },
    {
      "cell_type": "code",
      "source": [
        "!g++ temp.cpp -o temp; ./temp"
      ],
      "metadata": {
        "colab": {
          "base_uri": "https://localhost:8080/"
        },
        "id": "V3Rr_EY-aEaz",
        "outputId": "11bb646d-4ac6-422b-80ca-27ad2f3d7ac3"
      },
      "execution_count": 4,
      "outputs": [
        {
          "output_type": "stream",
          "name": "stdout",
          "text": [
            "-294967296\n",
            "-14748363\n"
          ]
        }
      ]
    },
    {
      "cell_type": "code",
      "source": [
        "# 実行結果 オーバーフロー\n",
        "# -294967296\n",
        "# -14748363\n",
        "\n",
        "# もっと広い範囲の値を扱いたい場合、int64_t型を使うのが一般的です。\n",
        "# int64_t型で扱える値の範囲は以下のとおりです。\n",
        "\n",
        "# 最小値：-9223372036854775808\n",
        "# 最大値：9223372036854775807\n",
        "%%writefile temp.cpp\n",
        "#include <bits/stdc++.h>\n",
        "using namespace std;\n",
        "int main() {\n",
        "  int64_t a = 2000000000;\n",
        "  int64_t b = a * 2;\n",
        "  cout << b << endl;\n",
        "}"
      ],
      "metadata": {
        "colab": {
          "base_uri": "https://localhost:8080/"
        },
        "id": "bko7j7ugZ3ip",
        "outputId": "e3da5c7a-1928-4006-e4ed-30942d7a33bd"
      },
      "execution_count": 5,
      "outputs": [
        {
          "output_type": "stream",
          "name": "stdout",
          "text": [
            "Overwriting temp.cpp\n"
          ]
        }
      ]
    },
    {
      "cell_type": "code",
      "source": [
        "!g++ temp.cpp -o temp; ./temp"
      ],
      "metadata": {
        "colab": {
          "base_uri": "https://localhost:8080/"
        },
        "id": "YXNlIbXfaazm",
        "outputId": "1dfbaffe-11ac-4167-ff06-b169f0919560"
      },
      "execution_count": 6,
      "outputs": [
        {
          "output_type": "stream",
          "name": "stdout",
          "text": [
            "4000000000\n"
          ]
        }
      ]
    },
    {
      "cell_type": "code",
      "source": [
        "# int型は20億(2 * 10^9)くらいまでと覚えておき、それより大きな値が出てきそうで\n",
        "# あればint64_t型を使うようにしましょう。\n",
        "\n",
        "# プログラム中に直接10のように値を書くと、それはint型の数値として扱われます。\n",
        "# int64_t型として扱ってほしい場合は10LLのように末尾にLLをつけましょう。\n",
        "\n",
        "# また、int型とint64_t型の計算結果はint64_t型になります。\n",
        "%%writefile temp.cpp\n",
        "#include <bits/stdc++.h>\n",
        "using namespace std;\n",
        "int main() {\n",
        "  cout << 2000000000 * 2 << endl;     // int * int         -> int\n",
        "  cout << 2000000000LL * 2LL << endl; // int64_t * int64_t -> int64_t\n",
        "  cout << 2000000000LL * 2 << endl;   // int64_t * int     -> int64_t\n",
        "}"
      ],
      "metadata": {
        "colab": {
          "base_uri": "https://localhost:8080/"
        },
        "id": "b0j4IjgUaZVZ",
        "outputId": "83f27b4e-9d42-4042-a1be-27c656dfd93e"
      },
      "execution_count": 7,
      "outputs": [
        {
          "output_type": "stream",
          "name": "stdout",
          "text": [
            "Overwriting temp.cpp\n"
          ]
        }
      ]
    },
    {
      "cell_type": "code",
      "source": [
        "!g++ temp.cpp -o temp; ./temp"
      ],
      "metadata": {
        "id": "dx_jQa4Qa414"
      },
      "execution_count": null,
      "outputs": []
    },
    {
      "cell_type": "code",
      "source": [
        "# double型の出力\n",
        "# double型を出力する場合、通常通りcoutで出力してしまうと適当な桁で四捨五入されて表示されてしまいます。\n",
        "# 途中の桁まで四捨五入せずに確実に表示したい場合、以下のように書きます。\n",
        "\n",
        "# cout << fixed << setprecision(桁数);\n",
        "%%writefile temp.cpp\n",
        "#include <bits/stdc++.h>\n",
        "using namespace std;\n",
        "int main() {\n",
        "  cout << 3.14159265358979 << endl;\n",
        " \n",
        "  // 小数点以下10桁まで\n",
        "  cout << fixed << setprecision(10);\n",
        " \n",
        "  cout << 3.14159265358979 << endl;\n",
        "\n",
        "// 実験 setprecision と 数値の cout を 1 行に書けるか #=> 書ける\n",
        "  cout << fixed << setprecision(7) << 3.14159265358979 << endl;\n",
        "}"
      ],
      "metadata": {
        "colab": {
          "base_uri": "https://localhost:8080/"
        },
        "id": "BtvJlQ4Qa2xg",
        "outputId": "4454b36c-3845-4cd6-fffe-fcde2a3594ff"
      },
      "execution_count": 11,
      "outputs": [
        {
          "output_type": "stream",
          "name": "stdout",
          "text": [
            "Overwriting temp.cpp\n"
          ]
        }
      ]
    },
    {
      "cell_type": "code",
      "source": [
        "!g++ temp.cpp -o temp; ./temp"
      ],
      "metadata": {
        "colab": {
          "base_uri": "https://localhost:8080/"
        },
        "id": "QE5QDiRzbO9K",
        "outputId": "3d940243-9407-49f1-dbf5-dabb6e32246c"
      },
      "execution_count": 12,
      "outputs": [
        {
          "output_type": "stream",
          "name": "stdout",
          "text": [
            "3.14159\n",
            "3.1415926536\n",
            "3.1415927\n"
          ]
        }
      ]
    },
    {
      "cell_type": "code",
      "source": [
        "# 明示的な数値型同士の変換\n",
        "# int型とint64_t型の計算結果がint64_t型であったり、int型とdouble型の\n",
        "# 計算結果がdouble型であったりするように異なる型同士でも計算できることがありました。\n",
        "# 計算せずに、ただ型の変換だけを行うこともできます。型変換のことをキャストと言います。\n",
        "# (型)値\n",
        "# double型をint型にキャストすると小数点以下切り捨てになることは重要なので覚えておきましょう。\n",
        "%%writefile temp.cpp\n",
        "#include <bits/stdc++.h>\n",
        "using namespace std;\n",
        "int main() {\n",
        "  // 小数点以下5桁まで\n",
        "  cout << fixed << setprecision(5);\n",
        " \n",
        "  int a = 5;\n",
        "  cout << (double)a << endl; // int型の値をdouble型に変換\n",
        " \n",
        "  double b = 3.141592;\n",
        "  cout << (int)b << endl; // double型の値をint型に変換\n",
        "}"
      ],
      "metadata": {
        "colab": {
          "base_uri": "https://localhost:8080/"
        },
        "id": "IgsgpytPbN8q",
        "outputId": "230832c0-4c76-4837-f591-31bf75214193"
      },
      "execution_count": 13,
      "outputs": [
        {
          "output_type": "stream",
          "name": "stdout",
          "text": [
            "Overwriting temp.cpp\n"
          ]
        }
      ]
    },
    {
      "cell_type": "markdown",
      "source": [
        "# いまここ"
      ],
      "metadata": {
        "id": "sNTwUUjH2TLk"
      }
    },
    {
      "cell_type": "code",
      "source": [
        "!g++ temp.cpp -o temp; ./temp"
      ],
      "metadata": {
        "colab": {
          "base_uri": "https://localhost:8080/"
        },
        "id": "OQ24B4_ibtd-",
        "outputId": "d6e8d3c3-5254-4c26-c857-e3c83e943a94"
      },
      "execution_count": 14,
      "outputs": [
        {
          "output_type": "stream",
          "name": "stdout",
          "text": [
            "5.00000\n",
            "3\n"
          ]
        }
      ]
    },
    {
      "cell_type": "code",
      "source": [
        "# 暗黙的な数値型同士の変換\n",
        "%%html\n",
        "<table border=\"1\">\n",
        "<thead>\n",
        "<tr><th>型の組合せ </th><th> 暗黙的なキャスト </th><th> 計算結果の型</th></tr>\n",
        "</thead>\n",
        "<tbody>\n",
        "<tr><td>int型とdouble型 </td><td> int型→double型 </td><td> double型</td></tr>\n",
        "<tr><td>int型とint64_t型 </td><td> int型→int64_t型 </td><td> int64_t型</td></tr>\n",
        "<tr><td>double型とint64_t型 </td><td> int64_t型→double型 </td><td> double型</td></tr>\n",
        "</tbody>\n",
        "</table>"
      ],
      "metadata": {
        "colab": {
          "base_uri": "https://localhost:8080/",
          "height": 115
        },
        "id": "i_MpZpvdnS6O",
        "outputId": "1ca5877b-92e0-47af-ea33-9281530042a2"
      },
      "execution_count": 15,
      "outputs": [
        {
          "output_type": "display_data",
          "data": {
            "text/plain": [
              "<IPython.core.display.HTML object>"
            ],
            "text/html": [
              "<table border=\"1\">\n",
              "<thead>\n",
              "<tr><th>型の組合せ </th><th> 暗黙的なキャスト </th><th> 計算結果の型</th></tr>\n",
              "</thead>\n",
              "<tbody>\n",
              "<tr><td>int型とdouble型 </td><td> int型→double型 </td><td> double型</td></tr>\n",
              "<tr><td>int型とint64_t型 </td><td> int型→int64_t型 </td><td> int64_t型</td></tr>\n",
              "<tr><td>double型とint64_t型 </td><td> int64_t型→double型 </td><td> double型</td></tr>\n",
              "</tbody>\n",
              "</table>"
            ]
          },
          "metadata": {}
        }
      ]
    },
    {
      "cell_type": "code",
      "source": [
        "# また以下のような場合にも自動的にキャストが起こります。\n",
        "# 別の型の変数へ代入しようとした場合\n",
        "# 関数の引数に別の型の値を渡す場合\n",
        "%%writefile temp.cpp\n",
        "#include <bits/stdc++.h>\n",
        "using namespace std;\n",
        " \n",
        "void print_int(int x) {\n",
        "  cout << \"x = \" << x << endl;\n",
        "}\n",
        " \n",
        "int main() {\n",
        "  double a = 1.2345;\n",
        "  int b = 1;\n",
        " \n",
        "  // aがdouble型に変換されてからbとの足し算が行われる\n",
        "  // cout << a + (double)b << endl; と同じ結果\n",
        "  cout << a + b << endl;\n",
        " \n",
        "  int c = 2000000000;\n",
        "  int64_t d = 100;\n",
        "  // 初めにcがint64_t型へ変換されてからdとの掛け算が行われる\n",
        "  // cout << (int64_t)c * d << endl; と同じ結果\n",
        "  cout << c * d << endl;\n",
        " \n",
        "  double e = 3.141592;\n",
        "  int f = e;  // ここでdouble型からint型への変換が起こる(小数点以下が切り捨てられて3になる)\n",
        "  cout << f << endl;\n",
        " \n",
        "  // int型を引数に取る関数にdouble型を渡す\n",
        "  print_int(e);  // int型に変換されてから関数が実行される\n",
        "}"
      ],
      "metadata": {
        "colab": {
          "base_uri": "https://localhost:8080/"
        },
        "id": "-7sy0SRjoL1V",
        "outputId": "623246ea-3459-487b-8816-84251231daf3"
      },
      "execution_count": 16,
      "outputs": [
        {
          "output_type": "stream",
          "name": "stdout",
          "text": [
            "Overwriting temp.cpp\n"
          ]
        }
      ]
    },
    {
      "cell_type": "code",
      "source": [
        "!g++ temp.cpp -o temp; ./temp"
      ],
      "metadata": {
        "colab": {
          "base_uri": "https://localhost:8080/"
        },
        "id": "NYI8qqG0pV4-",
        "outputId": "3a97e588-6ae4-4f8e-cd0f-ffe927571949"
      },
      "execution_count": 17,
      "outputs": [
        {
          "output_type": "stream",
          "name": "stdout",
          "text": [
            "2.2345\n",
            "200000000000\n",
            "3\n",
            "x = 3\n"
          ]
        }
      ]
    },
    {
      "cell_type": "code",
      "source": [
        "# キャストが行えない場合はコンパイルエラーとなります。\n",
        "%%writefile temp.cpp\n",
        "Copy\n",
        "#include <bits/stdc++.h>\n",
        "using namespace std;\n",
        " \n",
        "void print_int(int x) {\n",
        "  cout << \"x = \" << x << endl;\n",
        "}\n",
        " \n",
        "int main() {\n",
        "  string s = \"12345\";\n",
        " \n",
        "  int x = s;     // コンパイルエラー\n",
        "  print_int(s);  // コンパイルエラー\n",
        "}"
      ],
      "metadata": {
        "colab": {
          "base_uri": "https://localhost:8080/"
        },
        "id": "YxZ2gnrOouBZ",
        "outputId": "6505b9b8-cecd-499d-ea83-05afd008a641"
      },
      "execution_count": 18,
      "outputs": [
        {
          "output_type": "stream",
          "name": "stdout",
          "text": [
            "Overwriting temp.cpp\n"
          ]
        }
      ]
    },
    {
      "cell_type": "code",
      "source": [
        "# !g++ temp.cpp -o temp; ./temp #=> エラーになるのでとりあえずコメントアウト"
      ],
      "metadata": {
        "id": "uRbF-AqYtZlV"
      },
      "execution_count": null,
      "outputs": []
    },
    {
      "cell_type": "code",
      "source": [
        "関数の引数に別の型の値を渡す場合でも、STLのmin関数やmax関数のように\n",
        "暗黙的な型変換が行われない関数もあるという点に注意してください。 \n",
        "詳しくは4章の「テンプレート」で扱います。\n",
        "\n",
        "細かい話\n",
        "double型の精度と誤差\n",
        "double型の内部について簡単に説明します。 double型では小数を扱うために\n",
        "「数字の並び」と「小数点の位置」を持っています。 そして、「数字の並び」で\n",
        "保持できる桁数はint型などと同じように上限があります。 double型では約16桁の並びを保持できます。\n",
        "逆に16桁を超える小数を正確に扱うことはできません。\n",
        "\n",
        "表現できる桁数に限りがあるので、計算を行ったときに誤差が生じることがあります。\n",
        "\n",
        "情報落ちと桁落ちについて説明します。\n",
        "\n",
        "情報落ち\n",
        "差が極端に大きい2つの数を足し算することを考えます。 次のプログラムをみてください。\n",
        "\n",
        "Copy\n",
        "#include <bits/stdc++.h>\n",
        "using namespace std;\n",
        "\n",
        "int main() {\n",
        "  double x = 1000000000;\n",
        "  double y = 0.000000001;\n",
        "\n",
        "  // 1000000000.000000001 を表現するには19桁分必要 → 扱えない\n",
        "  double z = x + y;  // yの分が消えてしまう\n",
        "\n",
        "  cout << fixed << setprecision(16);\n",
        "  cout << \"x: \" << x << endl;\n",
        "  cout << \"y: \" << y << endl;\n",
        "  cout << \"z: \" << z << endl;\n",
        "}#include <bits/stdc++.h>\n",
        "using namespace std;\n",
        "\n",
        "int main() {\n",
        "  double x = 1000000000;\n",
        "  double y = 0.000000001;\n",
        "\n",
        "  // 1000000000.000000001 を表現するには19桁分必要 → 扱えない\n",
        "  double z = x + y;  // yの分が消えてしまう\n",
        "\n",
        "  cout << fixed << setprecision(16);\n",
        "  cout << \"x: \" << x << endl;\n",
        "  cout << \"y: \" << y << endl;\n",
        "  cout << \"z: \" << z << endl;\n",
        "}\n",
        "実行結果\n",
        "x: 1000000000.0000000000000000\n",
        "y: 0.0000000010000000\n",
        "z: 1000000000.0000000000000000\n",
        "足す数それぞれがdoubleの精度で扱うことができても、それを足した後の値が表現できないことがあり、 そのような場合には桁が消えてしまいます。 このような現象を情報落ちといいます。\n",
        "\n",
        "なるべく小さい数から順に足し算を行うことで、情報落ちの影響を減らすことができます。\n",
        "\n",
        "桁落ち\n",
        "差が極端に小さい2つの数を引き算することを考えます。\n",
        "\n",
        "x, yは本来無限に桁が続く小数とします。 これらをコンピュータで扱おうとしたときに6桁までしか表現できず、それ以降の桁は0になってしまっているとします。\n",
        "\n",
        "double型を用いた場合は約16桁まで扱えますが、説明のために6桁までしか表現できないとしています。\n",
        "\n",
        "実際の値\tコンピュータ上での値\n",
        "x\t0.1234567890123...\t0.123456\n",
        "y\t0.1233456789012...\t0.123345\n",
        "ここで、z = x - yを考えます。\n",
        "\n",
        "実際の値\tコンピュータ上での値\n",
        "z = x - y\t0.0001111111111...\t0.000111\n",
        "zの真の値は0.0001111111111...ですが、計算した結果は0.000111となっています。 5桁までの精度の数で計算を行ったにも関わらず、計算結果は3桁（3つの数字の並び）の精度になってしまっていることが分かります。\n",
        "\n",
        "このように差が極体に小さい数同士の引き算を行うことによって値の精度が落ちてしまうことを桁落ちといいます。\n",
        "\n",
        "桁落ちによって精度が落ちたまま計算を続けてしまうと最終的な計算結果の誤差が大きくなってしまうことがあります。\n",
        "\n",
        "引き算を行う際にはなるべく差が大きくなるように計算順序を工夫したり、そもそも引き算をなるべく行わないように工夫する必要があります。\n",
        "\n",
        "printfでの出力\n",
        "printfという関数を呼ぶことでも出力することができます。\n",
        "\n",
        "精度指定を行う場合やたくさんの値を出力する場合にはcoutよりもprintf関数を使う方が便利です。\n",
        "\n",
        "Copy\n",
        "#include <bits/stdc++.h>\n",
        "using namespace std;\n",
        " \n",
        "int main() {\n",
        "  int x = 12345;\n",
        "  double pi = 3.14159265358979;\n",
        "  printf(\"x = %d, pi = %lf\\n\", x, pi);\n",
        "}\n",
        "#include <bits/stdc++.h>\n",
        "using namespace std;\n",
        "\n",
        "int main() {\n",
        "  int x = 12345;\n",
        "  double pi = 3.14159265358979;\n",
        "  printf(\"x = %d, pi = %lf\\n\", x, pi);\n",
        "}\n",
        "実行結果\n",
        "x = 12345, pi = 3.141593\n",
        "printfの使い方は次の通りです。\n",
        "\n",
        "printf(フォーマット文字列, 埋め込みたい値1, 埋め込みたい値2, ...)\n",
        "「フォーマット文字列」の部分は後で説明するフォーマット指定子を含む文字列を自由に指定できます。 フォーマット指定子を書いた部分に「埋め込みたい値」が順番に埋め込まれます。\n",
        "\n",
        "上のサンプルプログラムでは\"x = %d, pi = %lf\\n\"と指定しています。 %dや%lfの部分がフォーマット指定子です。 1つ目の%dの部分にはxの内容が埋め込まれ、2つ目の%lfの部分にはpiの内容が埋め込まれます。 なお、\\nは改行を意味します。\n",
        "\n",
        "フォーマット指定子\n",
        "埋め込みたい値の型によって対応するフォーマット指定子を使う必要があります、代表的なものは次の表のようになっています。\n",
        "\n",
        "型\tフォーマット指定子\n",
        "int\t%d\n",
        "int64_t\t%ld（%lld）\n",
        "double\t%lf\n",
        "char\t%c\n",
        "32ビットシステム上でint64_tをprintfで出力する場合、フォーマット指定子は%lldとする必要があります。\n",
        "\n",
        "なお、string型の文字列を出力する場合、次のように書く必要があります。\n",
        "\n",
        "Copy\n",
        "#include <bits/stdc++.h>\n",
        "using namespace std;\n",
        "int main() {\n",
        "  string s = \"hello\";\n",
        "  // フォーマット指定子 %s を用い s.c_str() を渡す\n",
        "  printf(\"%s\\n\", s.c_str());\n",
        "}#include <bits/stdc++.h>\n",
        "using namespace std;\n",
        "int main() {\n",
        "  string s = \"hello\";\n",
        "  // フォーマット指定子 %s を用い s.c_str() を渡す\n",
        "  printf(\"%s\\n\", s.c_str());\n",
        "}\n",
        "実行結果\n",
        "hello\n",
        "さらにフォーマット指定子の部分を変更することで出力する小数の桁数などの出力の仕方を変更することができます。\n",
        "\n",
        "Copy\n",
        "#include <bits/stdc++.h>\n",
        "using namespace std;\n",
        "int main() {\n",
        "  double pi = 3.14159265358979;\n",
        "  // %.桁数f とすると小数点以下「桁数」だけ出力される\n",
        "  printf(\"%.10lf\\n\", pi);\n",
        "\n",
        "  int x = 1;\n",
        "  int y = 99;\n",
        "  int z = 123;\n",
        "  // %0桁数d とすると表示桁数が「桁数」に満たない場合に0埋めされる\n",
        "  printf(\"%03d, %03d, %03d\\n\", x, y, z);\n",
        "}#include <bits/stdc++.h>\n",
        "using namespace std;\n",
        "int main() {\n",
        "  double pi = 3.14159265358979;\n",
        "  // %.桁数f とすると小数点以下「桁数」だけ出力される\n",
        "  printf(\"%.10lf\\n\", pi);\n",
        "\n",
        "  int x = 1;\n",
        "  int y = 99;\n",
        "  int z = 123;\n",
        "  // %0桁数d とすると表示桁数が「桁数」に満たない場合に0埋めされる\n",
        "  printf(\"%03d, %03d, %03d\\n\", x, y, z);\n",
        "}\n",
        "実行結果\n",
        "3.1415926536\n",
        "001, 099, 123\n",
        "printfにはここで紹介していない機能がたくさんあります。詳しく知りたい人は調べてみてください。\n",
        "\n",
        "scanfでの入力\n",
        "scanfという関数で入力を受け取ることもできます。\n",
        "\n",
        "Copy\n",
        "#include <bits/stdc++.h>\n",
        "using namespace std;\n",
        " \n",
        "int main() {\n",
        "  int x;\n",
        "  double pi;\n",
        "  // scanfによる入力\n",
        "  scanf(\"x = %d, pi = %lf\", &x, &pi);\n",
        " \n",
        "  printf(\"x = %d, pi = %lf\\n\", x, pi);\n",
        "}\n",
        "#include <bits/stdc++.h>\n",
        "using namespace std;\n",
        "\n",
        "int main() {\n",
        "  int x;\n",
        "  double pi;\n",
        "  // scanfによる入力\n",
        "  scanf(\"x = %d, pi = %lf\", &x, &pi);\n",
        "\n",
        "  printf(\"x = %d, pi = %lf\\n\", x, pi);\n",
        "}\n",
        "入力\n",
        "x = 12345, pi = 3.141593\n",
        "実行結果\n",
        "x = 12345, pi = 3.141593\n",
        "scanfの使い方は次のとおりです。\n",
        "\n",
        "Copy\n",
        "scanf(フォーマット文字列, &変数1, &変数2, &変数3, ...);scanf(フォーマット文字列, &変数1, &変数2, &変数3, ...);\n",
        "引数に渡す変数の前に&が必要なことに注意してください。\n",
        "\n",
        "この記号の意味については「4.05.ポインタ」で扱います。\n",
        "\n",
        "フォーマット文字列は基本的にはprintfのものと同じです。\n",
        "\n",
        "ただし、string型の文字列を直接入力することはできません。 この場合はcinを使ってください。\n",
        "\n",
        "空白文字の扱い\n",
        "%dなどのフォーマット指定子を指定した場合、直前に連続する空白文字を読み飛ばします。空白文字とはスペース()、改行文字(\\n)、タブ文字(\\t)などのことです。\n",
        "\n",
        "以下のような呼び出しに対し、123 456という文字列を入力した場合、xは123となり、yは456となります。\n",
        "\n",
        "Copy\n",
        "scanf(\"%d%d\", &x, &y);scanf(\"%d%d\", &x, &y);\n",
        "文字列との変換\n",
        "to_string関数\n",
        "数値型から文字列に変換するには、to_string関数を用います。\n",
        "\n",
        "to_string関数は、引数の数値をstring型に変換します。\n",
        "\n",
        "Copy\n",
        "#include <bits/stdc++.h>\n",
        "using namespace std;\n",
        " \n",
        "int main() {\n",
        "  int number = 100;\n",
        "  string s = to_string(number);\n",
        "  cout << s + \"yen\" << endl;\n",
        "}\n",
        "#include <bits/stdc++.h>\n",
        "using namespace std;\n",
        "\n",
        "int main() {\n",
        "  int number = 100;\n",
        "  string s = to_string(number);\n",
        "  cout << s + \"yen\" << endl;\n",
        "}\n",
        "実行結果\n",
        "100yen\n",
        "stoi関数\n",
        "文字列からint型に変換するには、stoi関数を用います。\n",
        "\n",
        "Copy\n",
        "#include <bits/stdc++.h>\n",
        "using namespace std;\n",
        " \n",
        "int main() {\n",
        "  string s = \"100\";\n",
        "  int n = stoi(s);\n",
        "  cout << n << endl;\n",
        "}\n",
        "#include <bits/stdc++.h>\n",
        "using namespace std;\n",
        "\n",
        "int main() {\n",
        "  string s = \"100\";\n",
        "  int n = stoi(s);\n",
        "  cout << n << endl;\n",
        "}\n",
        "実行結果\n",
        "100\n",
        "文字列から他の数値型への変換はそれぞれの型に対応する関数を用います。 対応表を次に示します。\n",
        "\n",
        "型\t文字列からの変換関数\n",
        "int\tstoi\n",
        "int64_t\tstoll\n",
        "double\tstod\n",
        "これらの関数の使い方はstoi関数と同じです。\n",
        "\n",
        "その他の型専用の関数も用意されていますが、基本的にint64_t型かdouble型にしてからキャストすればよいです。\n",
        "\n",
        "他の数値型\n",
        "int型やdouble型以外にも様々な数値型が用意されています。 これらは扱える値の範囲や精度、使用するメモリの量が異なります。\n",
        "\n",
        "整数型\n",
        "主な符号付き整数型\n",
        "\n",
        "型\t扱える値の範囲\t使用するメモリ量\n",
        "signed char\t−2 \n",
        "7\n",
        " 〜2 \n",
        "7\n",
        " −1\t1 byte (8 bit)\n",
        "short\t−2 \n",
        "15\n",
        " 〜2 \n",
        "15\n",
        " −1\t2 byte (16 bit)\n",
        "int\t−2 \n",
        "31\n",
        " 〜2 \n",
        "31\n",
        " −1\t4 byte (32 bit)\n",
        "long long\t−2 \n",
        "63\n",
        " 〜2 \n",
        "63\n",
        " −1\t8 byte (64 bit)\n",
        "int8_t\t−2 \n",
        "7\n",
        " 〜2 \n",
        "7\n",
        " −1\t1 byte (8 bit)\n",
        "int16_t\t−2 \n",
        "15\n",
        " 〜2 \n",
        "15\n",
        " −1\t2 byte (16 bit)\n",
        "int32_t\t−2 \n",
        "31\n",
        " 〜2 \n",
        "31\n",
        " −1\t4 byte (32 bit)\n",
        "int64_t\t−2 \n",
        "63\n",
        " 〜2 \n",
        "63\n",
        " −1\t8 byte (64 bit)\n",
        "主な符号無し整数型\n",
        "\n",
        "型\t扱える値の範囲\t使用するメモリ量\n",
        "unsigned char\t0〜2 \n",
        "8\n",
        " −1\t1 byte (8 bit)\n",
        "unsigned short\t0〜2 \n",
        "16\n",
        " −1\t2 byte (16 bit)\n",
        "unsigned int\t0〜2 \n",
        "32\n",
        " −1\t4 byte (32 bit)\n",
        "unsigned long long\t0〜2 \n",
        "64\n",
        " −1\t8 byte (64 bit)\n",
        "uint8_t\t0〜2 \n",
        "8\n",
        " −1\t1 byte (8 bit)\n",
        "uint16_t\t0〜2 \n",
        "16\n",
        " −1\t2 byte (16 bit)\n",
        "uint32_t\t0〜2 \n",
        "32\n",
        " −1\t4 byte (32 bit)\n",
        "uint64_t\t0〜2 \n",
        "64\n",
        " −1\t8 byte (64 bit)\n",
        "int??_t系やuint??_t系以外については、環境によっては上の表と異なることがあります。\n",
        "\n",
        "使用するメモリについては、たとえば「long long型は64bitなので、変数1つに対してint型変数2つ分のメモリが必要」のように考えてください。\n",
        "\n",
        "たくさんあってどう使い分けるのか分からなくなるかもしれませんが、 int??_t系やuint??_t系を使うことをおすすめします。 極端な話ですが、使用するメモリ量をそこまで気にしないのであれば全てint64_t型かuint64_t型を使ってしまうという手もあります。\n",
        "\n",
        "実数型\n",
        "型\t扱える値の範囲(絶対値)\t扱える精度(10進数)\t使用するメモリ量\n",
        "float\t約1.17×10 \n",
        "−38\n",
        "  〜 約3.40×10 \n",
        "38\n",
        " \t約8桁\t4 byte (32 bit)\n",
        "double\t約2.22×10 \n",
        "−308\n",
        "  〜 約1.79×10 \n",
        "308\n",
        " \t約16桁\t8 byte (64 bit)\n",
        "環境依存の仕様\n",
        "環境によって扱える範囲が変わる整数型としてlongがあります。 longの扱える範囲は次の表のとおりです。\n",
        "\n",
        "Windows\tLinux\tmac OS X\n",
        "32ビットシステム\tint32_tと同じ\tint32_tと同じ\tint32_tと同じ\n",
        "64ビットシステム\tint32_tと同じ\tint64_tと同じ\tint64_tと同じ\n",
        "AtCoder上で実行した場合は、longが扱える範囲はint64_tと同じになります。\n",
        "\n",
        "プログラム中に直接書いた数値をlong型として扱うには、10Lのように末尾に1つのLをつけて書きます。\n",
        "\n",
        "AtCoder上ではint64_tはlong型として扱われるため、厳密にはプログラム中に直接書いた数値をint64_tとして扱いたい場合には10Lのようにlong型に合わせて書いた方が正確ですが、他のシステム上でも同様に動くようにするために、「int64_t型として扱うためにはLLと書く」と説明しています。\n",
        "\n",
        "size_t\n",
        "配列や文字列のsize()で返ってくる要素数の値はsize_tという符号なしの整数型です。 C++ (GCC 9.2.1)においてsize_tはunsigned long（単なる別名）として定義されています。\n",
        "\n",
        "実行環境によって、for文でfor (int i = 0; i < 配列.size(); i++)と書いたときに警告が出るのは、int型（符号付き）とsize_t型（符号無し）を比較しているためです。 しかし、暗黙的にキャストが行われるので動作には影響ありません。\n",
        "\n",
        "符号なし整数のオーバーフロー\n",
        "符号なし整数は負の数を扱えないため、例えばunsigned char型の0から1を引くと255となってしまいます。\n",
        "\n",
        "size_t型は符号なしの整数型であるため、次のようなプログラムは意図した挙動になりません。\n",
        "\n",
        "Copy\n",
        "#include <bits/stdc++.h>\n",
        "using namespace std;\n",
        " \n",
        "int main() {\n",
        "  vector<int> data(0);  // サイズ0\n",
        "  cout << data.size() - 1 << endl;  // -1ではない\n",
        " \n",
        "  // 配列のサイズ-1回だけループしたい\n",
        "  for (int i = 0; i < data.size() - 1; i++) {\n",
        "    cout << i << endl;\n",
        "  }\n",
        "}\n",
        "#include <bits/stdc++.h>\n",
        "using namespace std;\n",
        "\n",
        "int main() {\n",
        "  vector<int> data(0);  // サイズ0\n",
        "  cout << data.size() - 1 << endl;  // -1ではない\n",
        "\n",
        "  // 配列のサイズ-1回だけループしたい\n",
        "  for (int i = 0; i < data.size() - 1; i++) {\n",
        "    cout << i << endl;\n",
        "  }\n",
        "}\n",
        "実行結果の例\n",
        "18446744073709551615\n",
        "0\n",
        "1\n",
        "2\n",
        "3\n",
        "4\n",
        "5\n",
        "6\n",
        "7\n",
        "8\n",
        "(省略)\n",
        "この例では、ループ回数のdata.size() - 1がオーバーフローして18446744073709551615という値になってしまっています。\n",
        "\n",
        "配列のサイズ-1回だけループしたい場合は、次のようにsize()の結果を符号付きにキャストする必要があります。\n",
        "\n",
        "Copy\n",
        "// 配列のサイズ-1回のループ(ただし、空の場合はループ内は実行されない)\n",
        "for (int i = 0; i < (int)配列.size() - 1; i++) {\n",
        "  // 適当な処理\n",
        "}// 配列のサイズ-1回のループ(ただし、空の場合はループ内は実行されない)\n",
        "for (int i = 0; i < (int)配列.size() - 1; i++) {\n",
        "  // 適当な処理\n",
        "}\n",
        "演習問題\n",
        "今回は演習問題はありません。\n",
        "\n",
        "次のAtCoder Beginner Contestの問題を解いてみてください。\n",
        "\n",
        "ABC079 B - Lucas Number\n",
        "前のページ | 次のページ\n",
        "\n",
        "FacebookTwitterHatena共有\n",
        "ルール 用語集\n",
        "利用規約 プライバシーポリシー 個人情報保護方針 企業情報 よくある質問 お問い合わせ 資料請求\n",
        "Copyright Since 2012 ©AtCoder Inc. All rights reserved."
      ],
      "metadata": {
        "id": "YlZC100ipd4C"
      },
      "execution_count": null,
      "outputs": []
    },
    {
      "cell_type": "code",
      "source": [
        ""
      ],
      "metadata": {
        "id": "9A2FQRKfeMoP"
      },
      "execution_count": null,
      "outputs": []
    }
  ]
}