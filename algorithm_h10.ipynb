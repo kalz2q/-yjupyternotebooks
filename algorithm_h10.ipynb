{
  "nbformat": 4,
  "nbformat_minor": 0,
  "metadata": {
    "colab": {
      "name": "algorithm_h10.ipynb",
      "provenance": [],
      "toc_visible": true,
      "authorship_tag": "ABX9TyMNCo+XkaIzaUVdyXysoLut",
      "include_colab_link": true
    },
    "kernelspec": {
      "name": "python3",
      "display_name": "Python 3"
    },
    "language_info": {
      "name": "python"
    }
  },
  "cells": [
    {
      "cell_type": "markdown",
      "metadata": {
        "id": "view-in-github",
        "colab_type": "text"
      },
      "source": [
        "<a href=\"https://colab.research.google.com/github/kalz2q/mycolabnotebooks/blob/master/algorithm_h10.ipynb\" target=\"_parent\"><img src=\"https://colab.research.google.com/assets/colab-badge.svg\" alt=\"Open In Colab\"/></a>"
      ]
    },
    {
      "cell_type": "markdown",
      "metadata": {
        "id": "WIpcq2cNAjcE"
      },
      "source": [
        "# メモ\n",
        "\n",
        "あのアルゴリズムはどこ？　Pythonを使用してAtCoderの緑色や水色を目指す方に、30以上のアルゴリズムスニペットと100問以上の問題（ACコード付き）を紹介！\n",
        "\n",
        "H10\n",
        "\n",
        "https://qiita.com/H20/items/1a066e242815961cd043\n",
        "\n",
        "を読む。\n",
        "\n",
        "基本的になに言っているかわからないけど、python ベースなので colab に乘るのではないか、なにか勉強になるかもくらいの感じ。\n"
      ]
    },
    {
      "cell_type": "markdown",
      "metadata": {
        "id": "HzMu7RjMCMoa"
      },
      "source": [
        "---\n",
        "# 切り捨て切り上げ"
      ]
    },
    {
      "cell_type": "code",
      "metadata": {
        "id": "qNhdEGC8BHoG"
      },
      "source": [
        "%%script false\n",
        "# 整数A,BについてA/Bの切り捨てを求める書き方\n",
        "F = A // B\n",
        "# 整数A,BについてA/Bの切り上げを求める書き方\n",
        "C = -(-A // B)"
      ],
      "execution_count": 2,
      "outputs": []
    },
    {
      "cell_type": "markdown",
      "metadata": {
        "id": "x5ClHB9FBa_k"
      },
      "source": [
        "まずこの書き方がわからない。 内容以前に、頭に # がついているから python のコードなのか?\n",
        "\n",
        "それでは F = A // B \n",
        "\n",
        "というように変数を使うことはできないと思う。\n"
      ]
    },
    {
      "cell_type": "code",
      "metadata": {
        "colab": {
          "base_uri": "https://localhost:8080/"
        },
        "id": "BxI8IdaVBtXw",
        "outputId": "5b6a9e57-0524-4ee0-9b01-cabe79a05ed6"
      },
      "source": [
        "-(-7 // 2)"
      ],
      "execution_count": 4,
      "outputs": [
        {
          "output_type": "execute_result",
          "data": {
            "text/plain": [
              "4"
            ]
          },
          "metadata": {
            "tags": []
          },
          "execution_count": 4
        }
      ]
    },
    {
      "cell_type": "markdown",
      "metadata": {
        "id": "He5jEtGOB7hp"
      },
      "source": [
        "言っていることはわかる。 python の `//` が floor なので math.floor と python の floor で python の floor の方が速くて便利という話。"
      ]
    },
    {
      "cell_type": "code",
      "metadata": {
        "colab": {
          "base_uri": "https://localhost:8080/"
        },
        "id": "5QfFd41ABvtp",
        "outputId": "3f4e23ff-0192-4834-8d8c-5a3b81856c0a"
      },
      "source": [
        "N,X,T = map(int, input().split())\n",
        "print(-(-N//X)*T)"
      ],
      "execution_count": 5,
      "outputs": [
        {
          "output_type": "stream",
          "text": [
            "3 8 5\n",
            "5\n"
          ],
          "name": "stdout"
        }
      ]
    }
  ]
}