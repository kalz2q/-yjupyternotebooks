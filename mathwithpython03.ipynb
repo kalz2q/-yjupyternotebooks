{
  "nbformat": 4,
  "nbformat_minor": 0,
  "metadata": {
    "kernelspec": {
      "display_name": "Python 3",
      "language": "python",
      "name": "python3"
    },
    "language_info": {
      "codemirror_mode": {
        "name": "ipython",
        "version": 3
      },
      "file_extension": ".py",
      "mimetype": "text/x-python",
      "name": "python",
      "nbconvert_exporter": "python",
      "pygments_lexer": "ipython3",
      "version": "3.6.6"
    },
    "toc": {
      "base_numbering": 1,
      "nav_menu": {},
      "number_sections": true,
      "sideBar": true,
      "skip_h1_title": false,
      "title_cell": "Table of Contents",
      "title_sidebar": "Contents",
      "toc_cell": false,
      "toc_position": {},
      "toc_section_display": true,
      "toc_window_display": true
    },
    "colab": {
      "name": "mathwithpython03.ipynb",
      "provenance": [],
      "include_colab_link": true
    }
  },
  "cells": [
    {
      "cell_type": "markdown",
      "metadata": {
        "id": "view-in-github",
        "colab_type": "text"
      },
      "source": [
        "<a href=\"https://colab.research.google.com/github/kalz2q/mycolabnotebooks/blob/master/mathwithpython03.ipynb\" target=\"_parent\"><img src=\"https://colab.research.google.com/assets/colab-badge.svg\" alt=\"Open In Colab\"/></a>"
      ]
    },
    {
      "cell_type": "markdown",
      "metadata": {
        "id": "4e-avcyIsDbQ",
        "colab_type": "text"
      },
      "source": [
        "###### mathwithpython03\n",
        "という名前だが、まだpython tutorialを読んでいる。  \n",
        "sympy tutorialを終わって、  \n",
        "いまgotchas and pitfallsのところ"
      ]
    },
    {
      "cell_type": "code",
      "metadata": {
        "id": "bYjnXrAUsDbU",
        "colab_type": "code",
        "colab": {}
      },
      "source": [
        "from sympy import *\n",
        "from sympy.abc import *\n",
        "init_printing()\n",
        "\n",
        "x - y"
      ],
      "execution_count": null,
      "outputs": []
    },
    {
      "cell_type": "code",
      "metadata": {
        "id": "vLQ5h9oGsDba",
        "colab_type": "code",
        "colab": {}
      },
      "source": [
        "a = x - y\n",
        "a"
      ],
      "execution_count": null,
      "outputs": []
    },
    {
      "cell_type": "code",
      "metadata": {
        "id": "rWG82ifmsDbf",
        "colab_type": "code",
        "colab": {}
      },
      "source": [
        "simplify ((x+1)**2 -(x**2 + 2*x + 1))"
      ],
      "execution_count": null,
      "outputs": []
    },
    {
      "cell_type": "code",
      "metadata": {
        "id": "KkKOrsDbsDbk",
        "colab_type": "code",
        "colab": {}
      },
      "source": [
        "eq = sin(2*x) - 2*sin(x)*cos(x)\n",
        "simplify(eq)"
      ],
      "execution_count": null,
      "outputs": []
    },
    {
      "cell_type": "code",
      "metadata": {
        "id": "RFZwx961sDbp",
        "colab_type": "code",
        "colab": {}
      },
      "source": [
        "expand(eq, trig=True)"
      ],
      "execution_count": null,
      "outputs": []
    },
    {
      "cell_type": "code",
      "metadata": {
        "id": "vJxr9XG8sDbu",
        "colab_type": "code",
        "colab": {}
      },
      "source": [
        "trigsimp(eq)"
      ],
      "execution_count": null,
      "outputs": []
    },
    {
      "cell_type": "code",
      "metadata": {
        "id": "WIakzYkHsDbz",
        "colab_type": "code",
        "colab": {}
      },
      "source": [
        "from sympy import Symbol\n",
        "a = Symbol('a')\n",
        "\n",
        "b = a + 1\n",
        "b"
      ],
      "execution_count": null,
      "outputs": []
    },
    {
      "cell_type": "code",
      "metadata": {
        "id": "sucTpNY9sDb5",
        "colab_type": "code",
        "colab": {}
      },
      "source": [
        "a = 4\n",
        "b"
      ],
      "execution_count": null,
      "outputs": []
    },
    {
      "cell_type": "code",
      "metadata": {
        "id": "wXktn90usDb9",
        "colab_type": "code",
        "colab": {}
      },
      "source": [
        "a + 1"
      ],
      "execution_count": null,
      "outputs": []
    },
    {
      "cell_type": "code",
      "metadata": {
        "id": "-Wtix470sDcC",
        "colab_type": "code",
        "colab": {}
      },
      "source": [
        "import sympy\n",
        "sympy.var('z') # This is the easiest way to define z as a standard symbol\n",
        "z**2"
      ],
      "execution_count": null,
      "outputs": []
    },
    {
      "cell_type": "markdown",
      "metadata": {
        "id": "Lqid2fRXsDcG",
        "colab_type": "text"
      },
      "source": [
        "### isympy\n",
        "\n",
        "```\n",
        "~$ isympy\n",
        "IPython console for SymPy 1.1.1 (Python 3.6.3-64-bit) (ground types: gmpy)\n",
        "\n",
        "These commands were executed:\n",
        ">>> from __future__ import division\n",
        ">>> from sympy import *\n",
        ">>> x, y, z, t = symbols('x y z t')\n",
        ">>> k, m, n = symbols('k m n', integer=True)\n",
        ">>> f, g, h = symbols('f g h', cls=Function)\n",
        ">>> init_printing()\n",
        "\n",
        "Documentation can be found at http://docs.sympy.org/1.1.1/\n",
        "```\n"
      ]
    },
    {
      "cell_type": "code",
      "metadata": {
        "scrolled": false,
        "id": "e26IHQAJsDcH",
        "colab_type": "code",
        "colab": {}
      },
      "source": [
        "import sympy.abc\n",
        "dir(sympy.abc)"
      ],
      "execution_count": null,
      "outputs": []
    },
    {
      "cell_type": "markdown",
      "metadata": {
        "id": "NW0NlX_xsDcM",
        "colab_type": "text"
      },
      "source": [
        "###### OSINEQ\n",
        "Lastly, it is recommended that you not use $I, E, S, N, C, O,$ or $Q$ for variable or symbol names, as those are used for the imaginary unit ($i$), the base of the natural logarithm ($e$), the sympify() function (see Symbolic Expressions below), numeric evaluation (N() is equivalent to evalf() ), the big O order symbol (as in $O(nlogn)$), and the assumptions object that holds a list of supported ask keys (such as Q.real), respectively. You can use the mnemonic OSINEQ to remember what Symbols are defined by default in SymPy. \n",
        "###### C is deprecated"
      ]
    },
    {
      "cell_type": "code",
      "metadata": {
        "id": "iIi7U5q_sDcO",
        "colab_type": "code",
        "colab": {}
      },
      "source": [
        "from sympy import *\n",
        "cos(pi)"
      ],
      "execution_count": null,
      "outputs": []
    },
    {
      "cell_type": "code",
      "metadata": {
        "id": "a8zLjqfqsDcT",
        "colab_type": "code",
        "colab": {}
      },
      "source": [
        "pi = 3\n",
        "from sympy import pi\n",
        "cos(pi)"
      ],
      "execution_count": null,
      "outputs": []
    },
    {
      "cell_type": "code",
      "metadata": {
        "id": "voWhIn4bsDcZ",
        "colab_type": "code",
        "colab": {}
      },
      "source": [
        "import sympy\n",
        "# dir(sympy)\n",
        "# vars(), dir(__builtins__)"
      ],
      "execution_count": null,
      "outputs": []
    },
    {
      "cell_type": "markdown",
      "metadata": {
        "id": "Ql512WqxsDcf",
        "colab_type": "text"
      },
      "source": [
        "###### numbers\n",
        "But you have to be careful. If you type an expression that just has numbers in it, it will default to a Python expression. Use the sympify() function, or just S(), to ensure that something is a SymPy expression."
      ]
    },
    {
      "cell_type": "code",
      "metadata": {
        "id": "wjiomDU-sDcg",
        "colab_type": "code",
        "colab": {}
      },
      "source": [
        "type(6.2)"
      ],
      "execution_count": null,
      "outputs": []
    },
    {
      "cell_type": "code",
      "metadata": {
        "id": "MuHI18jpsDcl",
        "colab_type": "code",
        "colab": {}
      },
      "source": [
        "type(S(6.2))"
      ],
      "execution_count": null,
      "outputs": []
    },
    {
      "cell_type": "code",
      "metadata": {
        "id": "C7Rxuy1EsDct",
        "colab_type": "code",
        "colab": {}
      },
      "source": [
        "x = symbols('x')\n",
        "x**(1/2)"
      ],
      "execution_count": null,
      "outputs": []
    },
    {
      "cell_type": "code",
      "metadata": {
        "id": "XSRd7vnMsDcy",
        "colab_type": "code",
        "colab": {}
      },
      "source": [
        "x**(S(1)/2)"
      ],
      "execution_count": null,
      "outputs": []
    },
    {
      "cell_type": "code",
      "metadata": {
        "id": "2ZYj3VrusDc1",
        "colab_type": "code",
        "colab": {}
      },
      "source": [
        "x**Rational(1,2)"
      ],
      "execution_count": null,
      "outputs": []
    },
    {
      "cell_type": "code",
      "metadata": {
        "id": "-RfEvxifsDc5",
        "colab_type": "code",
        "colab": {}
      },
      "source": [
        "Rational(0.5)"
      ],
      "execution_count": null,
      "outputs": []
    },
    {
      "cell_type": "code",
      "metadata": {
        "id": "-gLC6xp0sDc9",
        "colab_type": "code",
        "colab": {}
      },
      "source": [
        "sqrt(x) == x**Rational(1,2)"
      ],
      "execution_count": null,
      "outputs": []
    },
    {
      "cell_type": "code",
      "metadata": {
        "id": "YCvzgfYtsDdA",
        "colab_type": "code",
        "colab": {}
      },
      "source": [
        "x**(2*x/3)"
      ],
      "execution_count": null,
      "outputs": []
    },
    {
      "cell_type": "code",
      "metadata": {
        "id": "rfQuQbe6sDdE",
        "colab_type": "code",
        "colab": {}
      },
      "source": [
        "x = symbols('x')\n",
        "solve(7*x - 22 , x)"
      ],
      "execution_count": null,
      "outputs": []
    },
    {
      "cell_type": "code",
      "metadata": {
        "id": "hVSZog-NsDdH",
        "colab_type": "code",
        "colab": {}
      },
      "source": [
        "22/7"
      ],
      "execution_count": null,
      "outputs": []
    },
    {
      "cell_type": "code",
      "metadata": {
        "id": "FGInrhD6sDdM",
        "colab_type": "code",
        "colab": {}
      },
      "source": [
        "a = solve(7*x - 22 , x)[0]\n",
        "a"
      ],
      "execution_count": null,
      "outputs": []
    },
    {
      "cell_type": "code",
      "metadata": {
        "id": "ctacLXSysDdQ",
        "colab_type": "code",
        "colab": {}
      },
      "source": [
        "22/S(7)"
      ],
      "execution_count": null,
      "outputs": []
    },
    {
      "cell_type": "code",
      "metadata": {
        "id": "LuSLjvlMsDdT",
        "colab_type": "code",
        "colab": {}
      },
      "source": [
        "S(\"22/7\") # sympify it"
      ],
      "execution_count": null,
      "outputs": []
    },
    {
      "cell_type": "code",
      "metadata": {
        "id": "_NVAyiCrsDdX",
        "colab_type": "code",
        "colab": {}
      },
      "source": [
        "from __future__ import division\n",
        "1/2 # integer division -> float division "
      ],
      "execution_count": null,
      "outputs": []
    },
    {
      "cell_type": "code",
      "metadata": {
        "id": "wi479b1CsDdb",
        "colab_type": "code",
        "colab": {}
      },
      "source": [
        "from sympy import var\n",
        "r, t , d = var('rate time short_life')\n",
        "d = r*t\n",
        "d"
      ],
      "execution_count": null,
      "outputs": []
    },
    {
      "cell_type": "code",
      "metadata": {
        "id": "ku75NB1KsDde",
        "colab_type": "code",
        "colab": {}
      },
      "source": [
        "r = 80\n",
        "t = 2\n",
        "d # rate*time"
      ],
      "execution_count": null,
      "outputs": []
    },
    {
      "cell_type": "code",
      "metadata": {
        "id": "P6M6WbU-sDdi",
        "colab_type": "code",
        "colab": {}
      },
      "source": [
        "d = r *  t\n",
        "d # 160"
      ],
      "execution_count": null,
      "outputs": []
    },
    {
      "cell_type": "code",
      "metadata": {
        "id": "1hHBrjalsDdl",
        "colab_type": "code",
        "colab": {}
      },
      "source": [
        "c,d = var('c d')\n",
        "def ctimesd():\n",
        "    return c*d\n",
        "ctimesd() # c*D"
      ],
      "execution_count": null,
      "outputs": []
    },
    {
      "cell_type": "code",
      "metadata": {
        "id": "Y5Z4F_tksDdo",
        "colab_type": "code",
        "colab": {}
      },
      "source": [
        "c=2\n",
        "d=8\n",
        "ctimesd() # 16"
      ],
      "execution_count": null,
      "outputs": []
    },
    {
      "cell_type": "code",
      "metadata": {
        "id": "NC-FdabMsDds",
        "colab_type": "code",
        "colab": {}
      },
      "source": [
        "from sympy import *\n",
        "init_printing()\n",
        "x,y,z = symbols('x y z')\n",
        "# Rational(2, x) -> error!!!\n",
        "2/x"
      ],
      "execution_count": null,
      "outputs": []
    },
    {
      "cell_type": "markdown",
      "metadata": {
        "id": "BxkMWhessDdv",
        "colab_type": "text"
      },
      "source": [
        "######  mathematical operators"
      ]
    },
    {
      "cell_type": "code",
      "metadata": {
        "id": "AHkjD0eBsDdw",
        "colab_type": "code",
        "colab": {}
      },
      "source": [
        "3 - x**(2*x)/(x + 1)"
      ],
      "execution_count": null,
      "outputs": []
    },
    {
      "cell_type": "markdown",
      "metadata": {
        "id": "ODOzn6cusDdz",
        "colab_type": "text"
      },
      "source": [
        "###### inverse trig functions\n",
        "use asin(), acos() insted of arcsin and arccos"
      ]
    },
    {
      "cell_type": "markdown",
      "metadata": {
        "id": "2Sl9qZXpsDd0",
        "colab_type": "text"
      },
      "source": [
        "###### lists are mutable"
      ]
    },
    {
      "cell_type": "code",
      "metadata": {
        "id": "q0q3CDJysDd1",
        "colab_type": "code",
        "colab": {}
      },
      "source": [
        "a = [x, 1]\n",
        "a"
      ],
      "execution_count": null,
      "outputs": []
    },
    {
      "cell_type": "code",
      "metadata": {
        "id": "GAEkU4rvsDd4",
        "colab_type": "code",
        "colab": {}
      },
      "source": [
        "a[0] = 2\n",
        "a"
      ],
      "execution_count": null,
      "outputs": []
    },
    {
      "cell_type": "code",
      "metadata": {
        "id": "_EsbliBwsDd8",
        "colab_type": "code",
        "colab": {}
      },
      "source": [
        "solve(x**2 +2*x -1, x)"
      ],
      "execution_count": null,
      "outputs": []
    },
    {
      "cell_type": "markdown",
      "metadata": {
        "id": "VN8l3vWtsDeB",
        "colab_type": "text"
      },
      "source": [
        "###### dictionaries, dict, {}\n"
      ]
    },
    {
      "cell_type": "code",
      "metadata": {
        "id": "S2-fJ7-msDeC",
        "colab_type": "code",
        "colab": {}
      },
      "source": [
        "d = {'a': 1, 'b': 2}  # A dictionary.\n",
        "d"
      ],
      "execution_count": null,
      "outputs": []
    },
    {
      "cell_type": "code",
      "metadata": {
        "id": "vwMRrnKVsDeG",
        "colab_type": "code",
        "colab": {}
      },
      "source": [
        "from sympy import *\n",
        "init_printing()\n",
        "x = symbols('x')\n",
        "roots((x - 1)**2*(x - 2), x)  # Some functions return dicts"
      ],
      "execution_count": null,
      "outputs": []
    },
    {
      "cell_type": "code",
      "metadata": {
        "id": "OE01AoDHsDeK",
        "colab_type": "code",
        "colab": {}
      },
      "source": [
        "solve((x - 1)**2*(x - 2), x)"
      ],
      "execution_count": null,
      "outputs": []
    },
    {
      "cell_type": "code",
      "metadata": {
        "id": "QsRhnkXjsDeO",
        "colab_type": "code",
        "colab": {}
      },
      "source": [
        "(x - 1)**2*(x - 2)"
      ],
      "execution_count": null,
      "outputs": []
    },
    {
      "cell_type": "code",
      "metadata": {
        "id": "WTWUkiWnsDeX",
        "colab_type": "code",
        "colab": {}
      },
      "source": [
        "roots((x - 5)**2*(x + 3), x)"
      ],
      "execution_count": null,
      "outputs": []
    },
    {
      "cell_type": "markdown",
      "metadata": {
        "id": "5cfiwSWBsDee",
        "colab_type": "text"
      },
      "source": [
        "###### tuples\n",
        "A tuple is identical to a list, except that it is not mutable.   \n",
        "In general, you will not need tuples in SymPy."
      ]
    },
    {
      "cell_type": "code",
      "metadata": {
        "id": "qJAvp7IqsDef",
        "colab_type": "code",
        "colab": {}
      },
      "source": [
        "t = (1, 2, x)\n",
        "t"
      ],
      "execution_count": null,
      "outputs": []
    },
    {
      "cell_type": "code",
      "metadata": {
        "id": "leh-_FhksDei",
        "colab_type": "code",
        "colab": {}
      },
      "source": [
        "(x,)"
      ],
      "execution_count": null,
      "outputs": []
    },
    {
      "cell_type": "code",
      "metadata": {
        "id": "boy_Xh8VsDel",
        "colab_type": "code",
        "colab": {}
      },
      "source": [
        "(x)"
      ],
      "execution_count": null,
      "outputs": []
    },
    {
      "cell_type": "code",
      "metadata": {
        "id": "itLGZPtXsDeo",
        "colab_type": "code",
        "colab": {}
      },
      "source": [
        "integrate(x**2, (x, 0, 1))"
      ],
      "execution_count": null,
      "outputs": []
    },
    {
      "cell_type": "code",
      "metadata": {
        "id": "GipcvYN3sDer",
        "colab_type": "code",
        "colab": {}
      },
      "source": [
        "Integral(x**2, [x, 0, 1])"
      ],
      "execution_count": null,
      "outputs": []
    },
    {
      "cell_type": "markdown",
      "metadata": {
        "id": "rie3yeWOsDev",
        "colab_type": "text"
      },
      "source": [
        "###### keyword argumebnts"
      ]
    },
    {
      "cell_type": "code",
      "metadata": {
        "id": "s0s4Z-otsDev",
        "colab_type": "code",
        "colab": {}
      },
      "source": [
        "sqrt(x**2)"
      ],
      "execution_count": null,
      "outputs": []
    },
    {
      "cell_type": "code",
      "metadata": {
        "id": "maaA7hsosDey",
        "colab_type": "code",
        "colab": {}
      },
      "source": [
        "x = symbols('x', positive=True)\n",
        "sqrt(x**2)"
      ],
      "execution_count": null,
      "outputs": []
    },
    {
      "cell_type": "code",
      "metadata": {
        "id": "KD0Mp_ogsDe5",
        "colab_type": "code",
        "colab": {}
      },
      "source": [
        "x, y, z, m, n = symbols('x y z m n')\n",
        "x**n*x**m*y**n*y**m"
      ],
      "execution_count": null,
      "outputs": []
    },
    {
      "cell_type": "code",
      "metadata": {
        "id": "jKgZiQMqsDe9",
        "colab_type": "code",
        "colab": {}
      },
      "source": [
        "powsimp(x**n*x**m*y**n*y**m)"
      ],
      "execution_count": null,
      "outputs": []
    },
    {
      "cell_type": "code",
      "metadata": {
        "id": "aXqFn-SNsDfE",
        "colab_type": "code",
        "colab": {}
      },
      "source": [
        "simplify(x**n*x**m*y**n*y**m)"
      ],
      "execution_count": null,
      "outputs": []
    },
    {
      "cell_type": "code",
      "metadata": {
        "id": "RlO4UJwgsDfH",
        "colab_type": "code",
        "colab": {}
      },
      "source": [
        "powsimp(x**n*x**m*y**n*y**m, combine='all', force=True)"
      ],
      "execution_count": null,
      "outputs": []
    },
    {
      "cell_type": "code",
      "metadata": {
        "id": "tjWYWGjWsDfN",
        "colab_type": "code",
        "colab": {}
      },
      "source": [
        "powsimp(x**n*x**m*y**n*y**m, combine='exp')"
      ],
      "execution_count": null,
      "outputs": []
    },
    {
      "cell_type": "code",
      "metadata": {
        "id": "_jPFYlN_sDfR",
        "colab_type": "code",
        "colab": {}
      },
      "source": [
        "powsimp(x**n*x**m*y**n*y**m, combine='base', force=True)"
      ],
      "execution_count": null,
      "outputs": []
    },
    {
      "cell_type": "markdown",
      "metadata": {
        "id": "4j1hJKRcsDfU",
        "colab_type": "text"
      },
      "source": [
        "###### powsimp?\n",
        "getting help on functions \n",
        "\n",
        "also have powsimp??\n",
        "\n",
        "to get source code of function"
      ]
    },
    {
      "cell_type": "code",
      "metadata": {
        "id": "veX6vdjwsDfV",
        "colab_type": "code",
        "colab": {}
      },
      "source": [
        "powsimp(x**y*x**z*y**z, combine='all')"
      ],
      "execution_count": null,
      "outputs": []
    },
    {
      "cell_type": "markdown",
      "metadata": {
        "id": "NQyQ5II4sDfa",
        "colab_type": "text"
      },
      "source": [
        "######  next\n",
        "ここまででsympy documentationのtutorialとgotchas and pitfallsを読み終わった。\n",
        "\n",
        "nextボタンを押したらsympy user's guideになった。  \n",
        "これはこれで面白そうというか勉強になるのだろうが、計画としてはmath with pythonに戻る予定である。  \n",
        "math with pythonがすばらしい本というわけではない。  \n",
        "jupyterでsympyをやりたいのだから、むしろネットでいろりろ検索してなでた方がいいと思う。  \n",
        "\n",
        "というわけですこし寄り道をします。\n",
        "\n",
        "あと、jupyterの本を買ったのだが、bokehの本なので、とりあえずsympyではない。\n"
      ]
    },
    {
      "cell_type": "markdown",
      "metadata": {
        "id": "b7PcTYLpsDfb",
        "colab_type": "text"
      },
      "source": [
        "#### networkxを触ってみる\n",
        "\n",
        "NetworkXでQiitaのタグ関係図を描く  \n",
        "というのを追いかけたのだが、バージョンが合わないみたいでしっぱいしました。  \n",
        "とりあえず、消そう。\n",
        "\n",
        "NetworkX 2.0の基礎的な使い方まとめ  \n",
        "というのを写経してみよう。"
      ]
    },
    {
      "cell_type": "code",
      "metadata": {
        "id": "JXEhx_izsDfc",
        "colab_type": "code",
        "colab": {}
      },
      "source": [
        "import networkx as nx\n",
        "\n",
        "G = nx.DiGraph()  # 有向グラフ (Directed Graph)\n",
        "\n",
        "# 頂点の追加\n",
        "G.add_node(1)                \n",
        "G.add_nodes_from([3, 4, 5])\n",
        "\n",
        "# 辺の追加 (頂点も必要に応じて追加されます)\n",
        "G.add_edge(1, 2)                                    \n",
        "G.add_edges_from([(1, 3), (2, 5), (3, 4), (4, 5)])\n",
        "\n",
        "# 辺の削除\n",
        "G.remove_edge(3, 4)                    \n",
        "G.remove_edges_from([(1, 3), (2, 5)])\n",
        "\n",
        "# 頂点の削除 (削除された頂点に接続されている辺も削除されます)\n",
        "G.remove_node(5)\n",
        "G.remove_nodes_from([3, 4])\n",
        "\n",
        "# 指定したパス上の頂点と辺を追加\n",
        "G.add_path([1, 2, 3, 4, 5])  # 1 → 2 → 3 → 4 → 5\n",
        "\n",
        "# 指定した閉路上の頂点と辺を追加\n",
        "G.add_cycle([1, 2, 3, 4, 5])  # 1 → 2 → 3 → 4 → 5 → 1\n",
        "\n",
        "# 放射状に頂点と辺を追加\n",
        "G.add_star([1, 2, 3, 4, 5])  # 1 → 2, 1 → 3, 1 → 4, 1 → 5"
      ],
      "execution_count": null,
      "outputs": []
    },
    {
      "cell_type": "code",
      "metadata": {
        "id": "Szy7vjhWsDff",
        "colab_type": "code",
        "colab": {}
      },
      "source": [
        "import matplotlib.pyplot as plt\n",
        "import networkx as nx\n",
        "\n",
        "G = nx.DiGraph()\n",
        "G.add_path([3, 5, 4, 1, 0, 2, 7, 8, 9, 6])\n",
        "G.add_path([3, 0, 6, 4, 2, 7, 1, 9, 8, 5])\n",
        "\n",
        "nx.draw_networkx(G)\n",
        "plt.show()\n"
      ],
      "execution_count": null,
      "outputs": []
    },
    {
      "cell_type": "code",
      "metadata": {
        "id": "1tGaw_yysDfi",
        "colab_type": "code",
        "colab": {}
      },
      "source": [
        "import networkx as nx\n",
        "import matplotlib.pyplot as plt\n",
        "%matplotlib inline\n",
        "\n",
        "G = nx.DiGraph()\n",
        "G.add_path([3, 5, 4, 1, 0, 2, 7, 8, 9, 6])\n",
        "G.add_path([3, 0, 6, 4, 2, 7, 1, 9, 8, 5])\n",
        "\n",
        "\n",
        "nx.nx_agraph.view_pygraphviz(G, prog='fdp')  # pygraphvizが必要"
      ],
      "execution_count": null,
      "outputs": []
    },
    {
      "cell_type": "code",
      "metadata": {
        "scrolled": true,
        "id": "mcSHPrR1sDfl",
        "colab_type": "code",
        "colab": {}
      },
      "source": [
        "%lsmagic"
      ],
      "execution_count": null,
      "outputs": []
    },
    {
      "cell_type": "code",
      "metadata": {
        "scrolled": true,
        "id": "Fs85kShUsDfo",
        "colab_type": "code",
        "colab": {}
      },
      "source": [
        "%time print (\"do ou have time?\")"
      ],
      "execution_count": null,
      "outputs": []
    },
    {
      "cell_type": "code",
      "metadata": {
        "id": "vUuOFTrvsDfr",
        "colab_type": "code",
        "colab": {}
      },
      "source": [
        "import pygraphviz as pgv\n",
        "from IPython.display import Image\n",
        "\n",
        "def draw(dot):\n",
        "    return Image(pgv.AGraph(dot).draw(format='png', prog='dot'))\n",
        "\n",
        "g1 = \"\"\"digraph top {\n",
        "   a -> b -> c;\n",
        "}\"\"\"\n",
        "draw(g1)"
      ],
      "execution_count": null,
      "outputs": []
    },
    {
      "cell_type": "code",
      "metadata": {
        "id": "fzfflz_VsDft",
        "colab_type": "code",
        "colab": {}
      },
      "source": [
        "class Thing():\n",
        "    def _repr_html_(self):\n",
        "        return \"\"\"<h3 style=\"color:blue; text-align:center\">Ok. Hi , there!!!</h3>\"\"\"\n",
        "\n",
        "thing = Thing()\n",
        "thing"
      ],
      "execution_count": null,
      "outputs": []
    },
    {
      "cell_type": "code",
      "metadata": {
        "id": "Pt2_16aysDfw",
        "colab_type": "code",
        "colab": {}
      },
      "source": [
        "%matplotlib inline"
      ],
      "execution_count": null,
      "outputs": []
    },
    {
      "cell_type": "code",
      "metadata": {
        "id": "p3OwOGHpsDfz",
        "colab_type": "code",
        "colab": {}
      },
      "source": [
        "import seaborn as sns\n",
        "sns.set()\n",
        "\n",
        "df = sns.load_dataset(\"iris\")\n",
        "sns.pairplot(df,hue=\"species\")"
      ],
      "execution_count": null,
      "outputs": []
    },
    {
      "cell_type": "code",
      "metadata": {
        "id": "c8WXT20AsDf1",
        "colab_type": "code",
        "colab": {}
      },
      "source": [
        "import matplotlib.pyplot as plt\n",
        "import networkx as nx\n",
        "\n",
        "'''\n",
        "digraph G {\n",
        "    rankdir = LR;\n",
        "    hello -> world;\n",
        "    goodby -> cruel -> world;\n",
        "    world -> of -> warcraft;\n",
        "}\n",
        "'''\n",
        "import graphviz\n",
        "G.edge('hello', 'world')\n",
        "G.edge('goodby','cruel','world')\n",
        "G.edge('cruel','world')\n",
        "\n",
        "G"
      ],
      "execution_count": null,
      "outputs": []
    },
    {
      "cell_type": "code",
      "metadata": {
        "id": "HfLIbKxmsDf3",
        "colab_type": "code",
        "colab": {}
      },
      "source": [
        "'''from ipywidgets import interact\n",
        "\n",
        "@interact\n",
        "def echo(input=\"Hello, world!\", times=[1,5,10]):\n",
        "    return (input + \" \")*times'''"
      ],
      "execution_count": null,
      "outputs": []
    },
    {
      "cell_type": "code",
      "metadata": {
        "id": "54puI_74sDf9",
        "colab_type": "code",
        "colab": {}
      },
      "source": [
        "'''import matplotlib.pyplot as plt\n",
        "\n",
        "@interact\n",
        "def polynomial(split=[0,100]):\n",
        "    plt.pie([split/100.0, 1.0-split/100.0], labels=[\"Mont\"])\n",
        "    plt.show()\n",
        "   '''                                                 "
      ],
      "execution_count": null,
      "outputs": []
    },
    {
      "cell_type": "code",
      "metadata": {
        "id": "1FteTO4usDgB",
        "colab_type": "code",
        "colab": {}
      },
      "source": [
        "name = input(\"nter  \")\n",
        "print (name)"
      ],
      "execution_count": null,
      "outputs": []
    },
    {
      "cell_type": "code",
      "metadata": {
        "id": "3QrSB3WZsDgF",
        "colab_type": "code",
        "colab": {}
      },
      "source": [
        "print(\"hai\")"
      ],
      "execution_count": null,
      "outputs": []
    },
    {
      "cell_type": "code",
      "metadata": {
        "id": "FZFCAehMsDgI",
        "colab_type": "code",
        "colab": {}
      },
      "source": [
        "# reading 実践入門 p.39 文字化けするグラフ\n",
        "import numpy as np\n",
        "from matplotlib import pyplot as plt\n",
        "np.random.seed(0)\n",
        "x = range(5)\n",
        "y = 10 + 5 * np.random.randn(5)\n",
        "fig = plt.figure()\n",
        "ax = fig.add_subplot(111)\n",
        "ax.set_title('日本語を指定したタイトル')\n",
        "ax.bar(x,y)\n",
        "plt.show()"
      ],
      "execution_count": null,
      "outputs": []
    },
    {
      "cell_type": "code",
      "metadata": {
        "id": "ArV2VEk7sDgM",
        "colab_type": "code",
        "colab": {}
      },
      "source": [
        "your_name = 'Jupyter'\n",
        "def hello(name):\n",
        "    print('hello {0} !!'.format(name))\n",
        "hello(your_name)"
      ],
      "execution_count": null,
      "outputs": []
    },
    {
      "cell_type": "code",
      "metadata": {
        "id": "fUH2-hYVsDgQ",
        "colab_type": "code",
        "colab": {}
      },
      "source": [
        "hello('Notebook')"
      ],
      "execution_count": null,
      "outputs": []
    },
    {
      "cell_type": "code",
      "metadata": {
        "id": "AZvdMZoOsDgT",
        "colab_type": "code",
        "colab": {}
      },
      "source": [
        "from math import *\n",
        "type(sqrt(4))"
      ],
      "execution_count": null,
      "outputs": []
    },
    {
      "cell_type": "code",
      "metadata": {
        "id": "MtpCW1qwsDgW",
        "colab_type": "code",
        "colab": {}
      },
      "source": [
        "from sympy import *\n",
        "type(sqrt(4))"
      ],
      "execution_count": null,
      "outputs": []
    },
    {
      "cell_type": "code",
      "metadata": {
        "id": "YThYdtr1sDgZ",
        "colab_type": "code",
        "colab": {}
      },
      "source": [
        "# help('FORMATTING')"
      ],
      "execution_count": null,
      "outputs": []
    },
    {
      "cell_type": "code",
      "metadata": {
        "id": "raCsbt1IsDgb",
        "colab_type": "code",
        "colab": {}
      },
      "source": [
        "'''\n",
        "import time\n",
        "\n",
        "for i in range(10):\n",
        "    print(i)\n",
        "    time.sleep(5)\n",
        "'''    "
      ],
      "execution_count": null,
      "outputs": []
    },
    {
      "cell_type": "markdown",
      "metadata": {
        "id": "a8tKjUilsDgf",
        "colab_type": "text"
      },
      "source": [
        "###### p.70 markdown latex mathjax\n",
        "\n",
        "$$\n",
        "\\sqrt{2x-1} + (3+x)^3\n",
        "$$\n",
        "\n",
        "\\begin{align}\n",
        "E=mc^2\n",
        "\\end{align}\n",
        "\n",
        "インラインは$\\sqrt{a^2 + b^2}$記述できます。"
      ]
    },
    {
      "cell_type": "code",
      "metadata": {
        "id": "u1Szy8smsDgf",
        "colab_type": "code",
        "colab": {},
        "outputId": "fe02a4fa-5c6e-420e-9b56-478300e3764a"
      },
      "source": [
        "# sinカーブ\n",
        "%matplotlib inline\n",
        "import numpy as np\n",
        "import matplotlib.pyplot as plt\n",
        "x = np.arange(0,10,0.2)\n",
        "y = np.sin(x)\n",
        "fig = plt.figure()\n",
        "ax = fig.add_subplot(111)\n",
        "ax.plot(x,y)\n",
        "plt.show\n"
      ],
      "execution_count": null,
      "outputs": [
        {
          "output_type": "execute_result",
          "data": {
            "text/plain": [
              "<function matplotlib.pyplot.show>"
            ]
          },
          "metadata": {
            "tags": []
          },
          "execution_count": 19
        },
        {
          "output_type": "display_data",
          "data": {
            "image/png": "[encoded data removed]",
            "text/plain": [
              "<Figure size 432x288 with 1 Axes>"
            ]
          },
          "metadata": {
            "tags": []
          }
        }
      ]
    },
    {
      "cell_type": "code",
      "metadata": {
        "id": "L46Mgia1sDgj",
        "colab_type": "code",
        "colab": {}
      },
      "source": [
        "# sinカーブ # need kernel restart\n",
        "%matplotlib notebook \n",
        "import numpy as np\n",
        "import matplotlib.pyplot as plt\n",
        "x = np.arange(0,10,0.2)\n",
        "y = np.sin(x)\n",
        "fig = plt.figure()\n",
        "ax = fig.add_subplot(111)\n",
        "ax.plot(x,y)\n",
        "plt.show"
      ],
      "execution_count": null,
      "outputs": []
    },
    {
      "cell_type": "markdown",
      "metadata": {
        "id": "DD3H1Ux_sDgq",
        "colab_type": "text"
      },
      "source": [
        "###### nbviewer.jupyter.org\n",
        "githubでは表示されないグラフが表示される  \n",
        "とか  \n",
        "bokehはjavascriptに依存していて、githubはjavascriptは動作しない。  \n",
        "なるほど"
      ]
    },
    {
      "cell_type": "markdown",
      "metadata": {
        "id": "itYBUi17sDgr",
        "colab_type": "text"
      },
      "source": [
        "######  pandas\n",
        "git clone https://github.com/practical-jupyter/sample-data.git"
      ]
    },
    {
      "cell_type": "code",
      "metadata": {
        "id": "kwwYhCMEsDgs",
        "colab_type": "code",
        "colab": {},
        "outputId": "7c070389-f691-4131-b8f0-0424232b60f8"
      },
      "source": [
        "import os\n",
        "base_url = 'https://raw.githubusercontent.com/practical-jupyter/sample-data/master/anime/'\n",
        "anime_csv = os.path.join(base_url, 'anime.csv')\n",
        "anime_csv"
      ],
      "execution_count": null,
      "outputs": [
        {
          "output_type": "execute_result",
          "data": {
            "text/plain": [
              "'https://raw.githubusercontent.com/practical-jupyter/sample-data/master/anime/anime.csv'"
            ]
          },
          "metadata": {
            "tags": []
          },
          "execution_count": 6
        }
      ]
    },
    {
      "cell_type": "code",
      "metadata": {
        "id": "dxNejNttsDgu",
        "colab_type": "code",
        "colab": {},
        "outputId": "a9eaffe2-c0b2-4ef6-bba1-e8b843143b0c"
      },
      "source": [
        "import pandas as pd\n",
        "anime_csv = os.path.join(base_url, 'anime.csv')\n",
        "pd.read_csv(anime_csv).head()\n"
      ],
      "execution_count": null,
      "outputs": [
        {
          "output_type": "execute_result",
          "data": {
            "text/html": [
              "<div>\n",
              "<style scoped>\n",
              "    .dataframe tbody tr th:only-of-type {\n",
              "        vertical-align: middle;\n",
              "    }\n",
              "\n",
              "    .dataframe tbody tr th {\n",
              "        vertical-align: top;\n",
              "    }\n",
              "\n",
              "    .dataframe thead th {\n",
              "        text-align: right;\n",
              "    }\n",
              "</style>\n",
              "<table border=\"1\" class=\"dataframe\">\n",
              "  <thead>\n",
              "    <tr style=\"text-align: right;\">\n",
              "      <th></th>\n",
              "      <th>anime_id</th>\n",
              "      <th>name</th>\n",
              "      <th>genre</th>\n",
              "      <th>type</th>\n",
              "      <th>episodes</th>\n",
              "      <th>rating</th>\n",
              "      <th>members</th>\n",
              "    </tr>\n",
              "  </thead>\n",
              "  <tbody>\n",
              "    <tr>\n",
              "      <th>0</th>\n",
              "      <td>32281</td>\n",
              "      <td>Kimi no Na wa.</td>\n",
              "      <td>Drama, Romance, School, Supernatural</td>\n",
              "      <td>Movie</td>\n",
              "      <td>1</td>\n",
              "      <td>9.37</td>\n",
              "      <td>200630</td>\n",
              "    </tr>\n",
              "    <tr>\n",
              "      <th>1</th>\n",
              "      <td>5114</td>\n",
              "      <td>Fullmetal Alchemist: Brotherhood</td>\n",
              "      <td>Action, Adventure, Drama, Fantasy, Magic, Mili...</td>\n",
              "      <td>TV</td>\n",
              "      <td>64</td>\n",
              "      <td>9.26</td>\n",
              "      <td>793665</td>\n",
              "    </tr>\n",
              "    <tr>\n",
              "      <th>2</th>\n",
              "      <td>28977</td>\n",
              "      <td>Gintama°</td>\n",
              "      <td>Action, Comedy, Historical, Parody, Samurai, S...</td>\n",
              "      <td>TV</td>\n",
              "      <td>51</td>\n",
              "      <td>9.25</td>\n",
              "      <td>114262</td>\n",
              "    </tr>\n",
              "    <tr>\n",
              "      <th>3</th>\n",
              "      <td>9253</td>\n",
              "      <td>Steins;Gate</td>\n",
              "      <td>Sci-Fi, Thriller</td>\n",
              "      <td>TV</td>\n",
              "      <td>24</td>\n",
              "      <td>9.17</td>\n",
              "      <td>673572</td>\n",
              "    </tr>\n",
              "    <tr>\n",
              "      <th>4</th>\n",
              "      <td>9969</td>\n",
              "      <td>Gintama&amp;#039;</td>\n",
              "      <td>Action, Comedy, Historical, Parody, Samurai, S...</td>\n",
              "      <td>TV</td>\n",
              "      <td>51</td>\n",
              "      <td>9.16</td>\n",
              "      <td>151266</td>\n",
              "    </tr>\n",
              "  </tbody>\n",
              "</table>\n",
              "</div>"
            ],
            "text/plain": [
              "   anime_id                              name  \\\n",
              "0     32281                    Kimi no Na wa.   \n",
              "1      5114  Fullmetal Alchemist: Brotherhood   \n",
              "2     28977                          Gintama°   \n",
              "3      9253                       Steins;Gate   \n",
              "4      9969                     Gintama&#039;   \n",
              "\n",
              "                                               genre   type episodes  rating  \\\n",
              "0               Drama, Romance, School, Supernatural  Movie        1    9.37   \n",
              "1  Action, Adventure, Drama, Fantasy, Magic, Mili...     TV       64    9.26   \n",
              "2  Action, Comedy, Historical, Parody, Samurai, S...     TV       51    9.25   \n",
              "3                                   Sci-Fi, Thriller     TV       24    9.17   \n",
              "4  Action, Comedy, Historical, Parody, Samurai, S...     TV       51    9.16   \n",
              "\n",
              "   members  \n",
              "0   200630  \n",
              "1   793665  \n",
              "2   114262  \n",
              "3   673572  \n",
              "4   151266  "
            ]
          },
          "metadata": {
            "tags": []
          },
          "execution_count": 7
        }
      ]
    },
    {
      "cell_type": "code",
      "metadata": {
        "id": "5Mdvxw0WsDgw",
        "colab_type": "code",
        "colab": {},
        "outputId": "bee0bf51-26b2-4fac-c765-b508c498d4e3"
      },
      "source": [
        "# 前処理の結果\n",
        "anime_master_csv = os.path.join(base_url, 'anime_master.csv')\n",
        "pd.read_csv(anime_master_csv).head()"
      ],
      "execution_count": null,
      "outputs": [
        {
          "output_type": "execute_result",
          "data": {
            "text/html": [
              "<div>\n",
              "<style scoped>\n",
              "    .dataframe tbody tr th:only-of-type {\n",
              "        vertical-align: middle;\n",
              "    }\n",
              "\n",
              "    .dataframe tbody tr th {\n",
              "        vertical-align: top;\n",
              "    }\n",
              "\n",
              "    .dataframe thead th {\n",
              "        text-align: right;\n",
              "    }\n",
              "</style>\n",
              "<table border=\"1\" class=\"dataframe\">\n",
              "  <thead>\n",
              "    <tr style=\"text-align: right;\">\n",
              "      <th></th>\n",
              "      <th>anime_id</th>\n",
              "      <th>name</th>\n",
              "      <th>genre</th>\n",
              "      <th>type</th>\n",
              "      <th>episodes</th>\n",
              "      <th>rating</th>\n",
              "      <th>members</th>\n",
              "    </tr>\n",
              "  </thead>\n",
              "  <tbody>\n",
              "    <tr>\n",
              "      <th>0</th>\n",
              "      <td>32281</td>\n",
              "      <td>Kimi no Na wa.</td>\n",
              "      <td>Drama, Romance, School, Supernatural</td>\n",
              "      <td>Movie</td>\n",
              "      <td>1</td>\n",
              "      <td>9.37</td>\n",
              "      <td>200630</td>\n",
              "    </tr>\n",
              "    <tr>\n",
              "      <th>1</th>\n",
              "      <td>5114</td>\n",
              "      <td>Fullmetal Alchemist: Brotherhood</td>\n",
              "      <td>Action, Adventure, Drama, Fantasy, Magic, Mili...</td>\n",
              "      <td>TV</td>\n",
              "      <td>64</td>\n",
              "      <td>9.26</td>\n",
              "      <td>793665</td>\n",
              "    </tr>\n",
              "    <tr>\n",
              "      <th>2</th>\n",
              "      <td>28977</td>\n",
              "      <td>Gintama°</td>\n",
              "      <td>Action, Comedy, Historical, Parody, Samurai, S...</td>\n",
              "      <td>TV</td>\n",
              "      <td>51</td>\n",
              "      <td>9.25</td>\n",
              "      <td>114262</td>\n",
              "    </tr>\n",
              "    <tr>\n",
              "      <th>3</th>\n",
              "      <td>9253</td>\n",
              "      <td>Steins;Gate</td>\n",
              "      <td>Sci-Fi, Thriller</td>\n",
              "      <td>TV</td>\n",
              "      <td>24</td>\n",
              "      <td>9.17</td>\n",
              "      <td>673572</td>\n",
              "    </tr>\n",
              "    <tr>\n",
              "      <th>4</th>\n",
              "      <td>9969</td>\n",
              "      <td>Gintama'</td>\n",
              "      <td>Action, Comedy, Historical, Parody, Samurai, S...</td>\n",
              "      <td>TV</td>\n",
              "      <td>51</td>\n",
              "      <td>9.16</td>\n",
              "      <td>151266</td>\n",
              "    </tr>\n",
              "  </tbody>\n",
              "</table>\n",
              "</div>"
            ],
            "text/plain": [
              "   anime_id                              name  \\\n",
              "0     32281                    Kimi no Na wa.   \n",
              "1      5114  Fullmetal Alchemist: Brotherhood   \n",
              "2     28977                          Gintama°   \n",
              "3      9253                       Steins;Gate   \n",
              "4      9969                          Gintama'   \n",
              "\n",
              "                                               genre   type  episodes  rating  \\\n",
              "0               Drama, Romance, School, Supernatural  Movie         1    9.37   \n",
              "1  Action, Adventure, Drama, Fantasy, Magic, Mili...     TV        64    9.26   \n",
              "2  Action, Comedy, Historical, Parody, Samurai, S...     TV        51    9.25   \n",
              "3                                   Sci-Fi, Thriller     TV        24    9.17   \n",
              "4  Action, Comedy, Historical, Parody, Samurai, S...     TV        51    9.16   \n",
              "\n",
              "   members  \n",
              "0   200630  \n",
              "1   793665  \n",
              "2   114262  \n",
              "3   673572  \n",
              "4   151266  "
            ]
          },
          "metadata": {
            "tags": []
          },
          "execution_count": 8
        }
      ]
    },
    {
      "cell_type": "code",
      "metadata": {
        "id": "DSAMugr1sDgz",
        "colab_type": "code",
        "colab": {},
        "outputId": "3eb10387-e223-471f-dd22-48b4aed66c64"
      },
      "source": [
        "# ジャンル別に加工\n",
        "anime_split_genre_csv = os.path.join(base_url, 'anime_split_genre.csv')\n",
        "pd.read_csv(anime_split_genre_csv).head()"
      ],
      "execution_count": null,
      "outputs": [
        {
          "output_type": "execute_result",
          "data": {
            "text/html": [
              "<div>\n",
              "<style scoped>\n",
              "    .dataframe tbody tr th:only-of-type {\n",
              "        vertical-align: middle;\n",
              "    }\n",
              "\n",
              "    .dataframe tbody tr th {\n",
              "        vertical-align: top;\n",
              "    }\n",
              "\n",
              "    .dataframe thead th {\n",
              "        text-align: right;\n",
              "    }\n",
              "</style>\n",
              "<table border=\"1\" class=\"dataframe\">\n",
              "  <thead>\n",
              "    <tr style=\"text-align: right;\">\n",
              "      <th></th>\n",
              "      <th>anime_id</th>\n",
              "      <th>name</th>\n",
              "      <th>genre</th>\n",
              "      <th>type</th>\n",
              "      <th>episodes</th>\n",
              "      <th>rating</th>\n",
              "      <th>members</th>\n",
              "    </tr>\n",
              "  </thead>\n",
              "  <tbody>\n",
              "    <tr>\n",
              "      <th>0</th>\n",
              "      <td>20707</td>\n",
              "      <td>\"0\"</td>\n",
              "      <td>Music</td>\n",
              "      <td>Music</td>\n",
              "      <td>1</td>\n",
              "      <td>5.06</td>\n",
              "      <td>1170</td>\n",
              "    </tr>\n",
              "    <tr>\n",
              "      <th>1</th>\n",
              "      <td>25627</td>\n",
              "      <td>\"Aesop\" no Ohanashi yori: Ushi to Kaeru, Yokub...</td>\n",
              "      <td>Kids</td>\n",
              "      <td>Movie</td>\n",
              "      <td>1</td>\n",
              "      <td>5.00</td>\n",
              "      <td>113</td>\n",
              "    </tr>\n",
              "    <tr>\n",
              "      <th>2</th>\n",
              "      <td>7669</td>\n",
              "      <td>\"Bungaku Shoujo\" Kyou no Oyatsu: Hatsukoi</td>\n",
              "      <td>Comedy</td>\n",
              "      <td>OVA</td>\n",
              "      <td>1</td>\n",
              "      <td>7.06</td>\n",
              "      <td>14351</td>\n",
              "    </tr>\n",
              "    <tr>\n",
              "      <th>3</th>\n",
              "      <td>7669</td>\n",
              "      <td>\"Bungaku Shoujo\" Kyou no Oyatsu: Hatsukoi</td>\n",
              "      <td>School</td>\n",
              "      <td>OVA</td>\n",
              "      <td>1</td>\n",
              "      <td>7.06</td>\n",
              "      <td>14351</td>\n",
              "    </tr>\n",
              "    <tr>\n",
              "      <th>4</th>\n",
              "      <td>7669</td>\n",
              "      <td>\"Bungaku Shoujo\" Kyou no Oyatsu: Hatsukoi</td>\n",
              "      <td>Fantasy</td>\n",
              "      <td>OVA</td>\n",
              "      <td>1</td>\n",
              "      <td>7.06</td>\n",
              "      <td>14351</td>\n",
              "    </tr>\n",
              "  </tbody>\n",
              "</table>\n",
              "</div>"
            ],
            "text/plain": [
              "   anime_id                                               name    genre  \\\n",
              "0     20707                                                \"0\"    Music   \n",
              "1     25627  \"Aesop\" no Ohanashi yori: Ushi to Kaeru, Yokub...     Kids   \n",
              "2      7669          \"Bungaku Shoujo\" Kyou no Oyatsu: Hatsukoi   Comedy   \n",
              "3      7669          \"Bungaku Shoujo\" Kyou no Oyatsu: Hatsukoi   School   \n",
              "4      7669          \"Bungaku Shoujo\" Kyou no Oyatsu: Hatsukoi  Fantasy   \n",
              "\n",
              "    type  episodes  rating  members  \n",
              "0  Music         1    5.06     1170  \n",
              "1  Movie         1    5.00      113  \n",
              "2    OVA         1    7.06    14351  \n",
              "3    OVA         1    7.06    14351  \n",
              "4    OVA         1    7.06    14351  "
            ]
          },
          "metadata": {
            "tags": []
          },
          "execution_count": 10
        }
      ]
    },
    {
      "cell_type": "code",
      "metadata": {
        "id": "zmmMFIzbsDg1",
        "colab_type": "code",
        "colab": {},
        "outputId": "5c111a5d-8353-4de3-c13b-92e3c4b235eb"
      },
      "source": [
        "# メンバ数上位10\n",
        "anime_genre_top10_csv = os.path.join(base_url, 'anime_genre_top10.csv')\n",
        "pd.read_csv(anime_genre_top10_csv).head()"
      ],
      "execution_count": null,
      "outputs": [
        {
          "output_type": "execute_result",
          "data": {
            "text/html": [
              "<div>\n",
              "<style scoped>\n",
              "    .dataframe tbody tr th:only-of-type {\n",
              "        vertical-align: middle;\n",
              "    }\n",
              "\n",
              "    .dataframe tbody tr th {\n",
              "        vertical-align: top;\n",
              "    }\n",
              "\n",
              "    .dataframe thead th {\n",
              "        text-align: right;\n",
              "    }\n",
              "</style>\n",
              "<table border=\"1\" class=\"dataframe\">\n",
              "  <thead>\n",
              "    <tr style=\"text-align: right;\">\n",
              "      <th></th>\n",
              "      <th>anime_id</th>\n",
              "      <th>name</th>\n",
              "      <th>genre</th>\n",
              "      <th>type</th>\n",
              "      <th>episodes</th>\n",
              "      <th>rating</th>\n",
              "      <th>members</th>\n",
              "    </tr>\n",
              "  </thead>\n",
              "  <tbody>\n",
              "    <tr>\n",
              "      <th>0</th>\n",
              "      <td>7669</td>\n",
              "      <td>\"Bungaku Shoujo\" Kyou no Oyatsu: Hatsukoi</td>\n",
              "      <td>Comedy</td>\n",
              "      <td>OVA</td>\n",
              "      <td>1</td>\n",
              "      <td>7.06</td>\n",
              "      <td>14351</td>\n",
              "    </tr>\n",
              "    <tr>\n",
              "      <th>1</th>\n",
              "      <td>7669</td>\n",
              "      <td>\"Bungaku Shoujo\" Kyou no Oyatsu: Hatsukoi</td>\n",
              "      <td>School</td>\n",
              "      <td>OVA</td>\n",
              "      <td>1</td>\n",
              "      <td>7.06</td>\n",
              "      <td>14351</td>\n",
              "    </tr>\n",
              "    <tr>\n",
              "      <th>2</th>\n",
              "      <td>7669</td>\n",
              "      <td>\"Bungaku Shoujo\" Kyou no Oyatsu: Hatsukoi</td>\n",
              "      <td>Fantasy</td>\n",
              "      <td>OVA</td>\n",
              "      <td>1</td>\n",
              "      <td>7.06</td>\n",
              "      <td>14351</td>\n",
              "    </tr>\n",
              "    <tr>\n",
              "      <th>3</th>\n",
              "      <td>8481</td>\n",
              "      <td>\"Bungaku Shoujo\" Memoire</td>\n",
              "      <td>School</td>\n",
              "      <td>OVA</td>\n",
              "      <td>3</td>\n",
              "      <td>7.54</td>\n",
              "      <td>18013</td>\n",
              "    </tr>\n",
              "    <tr>\n",
              "      <th>4</th>\n",
              "      <td>8481</td>\n",
              "      <td>\"Bungaku Shoujo\" Memoire</td>\n",
              "      <td>Drama</td>\n",
              "      <td>OVA</td>\n",
              "      <td>3</td>\n",
              "      <td>7.54</td>\n",
              "      <td>18013</td>\n",
              "    </tr>\n",
              "  </tbody>\n",
              "</table>\n",
              "</div>"
            ],
            "text/plain": [
              "   anime_id                                       name    genre type  \\\n",
              "0      7669  \"Bungaku Shoujo\" Kyou no Oyatsu: Hatsukoi   Comedy  OVA   \n",
              "1      7669  \"Bungaku Shoujo\" Kyou no Oyatsu: Hatsukoi   School  OVA   \n",
              "2      7669  \"Bungaku Shoujo\" Kyou no Oyatsu: Hatsukoi  Fantasy  OVA   \n",
              "3      8481                   \"Bungaku Shoujo\" Memoire   School  OVA   \n",
              "4      8481                   \"Bungaku Shoujo\" Memoire    Drama  OVA   \n",
              "\n",
              "   episodes  rating  members  \n",
              "0         1    7.06    14351  \n",
              "1         1    7.06    14351  \n",
              "2         1    7.06    14351  \n",
              "3         3    7.54    18013  \n",
              "4         3    7.54    18013  "
            ]
          },
          "metadata": {
            "tags": []
          },
          "execution_count": 11
        }
      ]
    },
    {
      "cell_type": "code",
      "metadata": {
        "id": "54A5FfMysDg3",
        "colab_type": "code",
        "colab": {},
        "outputId": "d45d934e-fc7a-40ce-8f01-65c29fa901f3"
      },
      "source": [
        "# クロス集計\n",
        "anime_genre_top10_pivoted_csv = os.path.join(base_url, 'anime_genre_top10_pivoted.csv')\n",
        "pd.read_csv(anime_genre_top10_pivoted_csv).head()\n"
      ],
      "execution_count": null,
      "outputs": [
        {
          "output_type": "execute_result",
          "data": {
            "text/html": [
              "<div>\n",
              "<style scoped>\n",
              "    .dataframe tbody tr th:only-of-type {\n",
              "        vertical-align: middle;\n",
              "    }\n",
              "\n",
              "    .dataframe tbody tr th {\n",
              "        vertical-align: top;\n",
              "    }\n",
              "\n",
              "    .dataframe thead th {\n",
              "        text-align: right;\n",
              "    }\n",
              "</style>\n",
              "<table border=\"1\" class=\"dataframe\">\n",
              "  <thead>\n",
              "    <tr style=\"text-align: right;\">\n",
              "      <th></th>\n",
              "      <th>genre</th>\n",
              "      <th>Movie</th>\n",
              "      <th>Music</th>\n",
              "      <th>ONA</th>\n",
              "      <th>OVA</th>\n",
              "      <th>Special</th>\n",
              "      <th>TV</th>\n",
              "    </tr>\n",
              "  </thead>\n",
              "  <tbody>\n",
              "    <tr>\n",
              "      <th>0</th>\n",
              "      <td>Comedy</td>\n",
              "      <td>7293127.0</td>\n",
              "      <td>20860.0</td>\n",
              "      <td>1477266.0</td>\n",
              "      <td>5614758.0</td>\n",
              "      <td>6659293.0</td>\n",
              "      <td>65420862.0</td>\n",
              "    </tr>\n",
              "    <tr>\n",
              "      <th>1</th>\n",
              "      <td>Action</td>\n",
              "      <td>10224960.0</td>\n",
              "      <td>77054.0</td>\n",
              "      <td>524907.0</td>\n",
              "      <td>5793680.0</td>\n",
              "      <td>3412689.0</td>\n",
              "      <td>63364032.0</td>\n",
              "    </tr>\n",
              "    <tr>\n",
              "      <th>2</th>\n",
              "      <td>Drama</td>\n",
              "      <td>9034099.0</td>\n",
              "      <td>100734.0</td>\n",
              "      <td>188427.0</td>\n",
              "      <td>3043374.0</td>\n",
              "      <td>1915578.0</td>\n",
              "      <td>41011557.0</td>\n",
              "    </tr>\n",
              "    <tr>\n",
              "      <th>3</th>\n",
              "      <td>Romance</td>\n",
              "      <td>5245386.0</td>\n",
              "      <td>42811.0</td>\n",
              "      <td>411331.0</td>\n",
              "      <td>3143167.0</td>\n",
              "      <td>2015820.0</td>\n",
              "      <td>40703388.0</td>\n",
              "    </tr>\n",
              "    <tr>\n",
              "      <th>4</th>\n",
              "      <td>Supernatural</td>\n",
              "      <td>5452779.0</td>\n",
              "      <td>9189.0</td>\n",
              "      <td>192989.0</td>\n",
              "      <td>2696715.0</td>\n",
              "      <td>2336723.0</td>\n",
              "      <td>38956520.0</td>\n",
              "    </tr>\n",
              "  </tbody>\n",
              "</table>\n",
              "</div>"
            ],
            "text/plain": [
              "          genre       Movie     Music        ONA        OVA    Special  \\\n",
              "0        Comedy   7293127.0   20860.0  1477266.0  5614758.0  6659293.0   \n",
              "1        Action  10224960.0   77054.0   524907.0  5793680.0  3412689.0   \n",
              "2         Drama   9034099.0  100734.0   188427.0  3043374.0  1915578.0   \n",
              "3       Romance   5245386.0   42811.0   411331.0  3143167.0  2015820.0   \n",
              "4  Supernatural   5452779.0    9189.0   192989.0  2696715.0  2336723.0   \n",
              "\n",
              "           TV  \n",
              "0  65420862.0  \n",
              "1  63364032.0  \n",
              "2  41011557.0  \n",
              "3  40703388.0  \n",
              "4  38956520.0  "
            ]
          },
          "metadata": {
            "tags": []
          },
          "execution_count": 12
        }
      ]
    },
    {
      "cell_type": "code",
      "metadata": {
        "id": "HaPBp0hysDg6",
        "colab_type": "code",
        "colab": {},
        "outputId": "4933aa58-80ab-4bf9-b74b-f57ce6560fc0"
      },
      "source": [
        "# 株価データ\n",
        "anime_stock_price_csv = os.path.join(base_url, 'anime_stock_price.csv')\n",
        "pd.read_csv(anime_stock_price_csv, index_col=0, parse_dates=['Date']).head()"
      ],
      "execution_count": null,
      "outputs": [
        {
          "output_type": "execute_result",
          "data": {
            "text/html": [
              "<div>\n",
              "<style scoped>\n",
              "    .dataframe tbody tr th:only-of-type {\n",
              "        vertical-align: middle;\n",
              "    }\n",
              "\n",
              "    .dataframe tbody tr th {\n",
              "        vertical-align: top;\n",
              "    }\n",
              "\n",
              "    .dataframe thead th {\n",
              "        text-align: right;\n",
              "    }\n",
              "</style>\n",
              "<table border=\"1\" class=\"dataframe\">\n",
              "  <thead>\n",
              "    <tr style=\"text-align: right;\">\n",
              "      <th></th>\n",
              "      <th>TOEI ANIMATION</th>\n",
              "      <th>IG Port</th>\n",
              "    </tr>\n",
              "    <tr>\n",
              "      <th>Date</th>\n",
              "      <th></th>\n",
              "      <th></th>\n",
              "    </tr>\n",
              "  </thead>\n",
              "  <tbody>\n",
              "    <tr>\n",
              "      <th>2015-01-01</th>\n",
              "      <td>3356.86</td>\n",
              "      <td>1201.51</td>\n",
              "    </tr>\n",
              "    <tr>\n",
              "      <th>2015-01-02</th>\n",
              "      <td>3356.86</td>\n",
              "      <td>1201.51</td>\n",
              "    </tr>\n",
              "    <tr>\n",
              "      <th>2015-01-05</th>\n",
              "      <td>3396.12</td>\n",
              "      <td>1218.44</td>\n",
              "    </tr>\n",
              "    <tr>\n",
              "      <th>2015-01-06</th>\n",
              "      <td>3361.77</td>\n",
              "      <td>1201.51</td>\n",
              "    </tr>\n",
              "    <tr>\n",
              "      <th>2015-01-07</th>\n",
              "      <td>3297.97</td>\n",
              "      <td>1202.51</td>\n",
              "    </tr>\n",
              "  </tbody>\n",
              "</table>\n",
              "</div>"
            ],
            "text/plain": [
              "            TOEI ANIMATION  IG Port\n",
              "Date                               \n",
              "2015-01-01         3356.86  1201.51\n",
              "2015-01-02         3356.86  1201.51\n",
              "2015-01-05         3396.12  1218.44\n",
              "2015-01-06         3361.77  1201.51\n",
              "2015-01-07         3297.97  1202.51"
            ]
          },
          "metadata": {
            "tags": []
          },
          "execution_count": 15
        }
      ]
    },
    {
      "cell_type": "code",
      "metadata": {
        "id": "23owIL5jsDg8",
        "colab_type": "code",
        "colab": {},
        "outputId": "cc0b9e0f-2c29-4785-aa2a-b5f4c91542d9"
      },
      "source": [
        "# 騰落率\n",
        "anime_stock_returns_csv = os.path.join(base_url, 'anime_stock_returns.csv')\n",
        "pd.read_csv(anime_stock_returns_csv, index_col=0, parse_dates=['Date']).head()"
      ],
      "execution_count": null,
      "outputs": [
        {
          "output_type": "execute_result",
          "data": {
            "text/html": [
              "<div>\n",
              "<style scoped>\n",
              "    .dataframe tbody tr th:only-of-type {\n",
              "        vertical-align: middle;\n",
              "    }\n",
              "\n",
              "    .dataframe tbody tr th {\n",
              "        vertical-align: top;\n",
              "    }\n",
              "\n",
              "    .dataframe thead th {\n",
              "        text-align: right;\n",
              "    }\n",
              "</style>\n",
              "<table border=\"1\" class=\"dataframe\">\n",
              "  <thead>\n",
              "    <tr style=\"text-align: right;\">\n",
              "      <th></th>\n",
              "      <th>TOEI ANIMATION</th>\n",
              "      <th>IG Port</th>\n",
              "    </tr>\n",
              "    <tr>\n",
              "      <th>Date</th>\n",
              "      <th></th>\n",
              "      <th></th>\n",
              "    </tr>\n",
              "  </thead>\n",
              "  <tbody>\n",
              "    <tr>\n",
              "      <th>2015-01-01</th>\n",
              "      <td>1.000000</td>\n",
              "      <td>1.000000</td>\n",
              "    </tr>\n",
              "    <tr>\n",
              "      <th>2015-01-02</th>\n",
              "      <td>1.000000</td>\n",
              "      <td>1.000000</td>\n",
              "    </tr>\n",
              "    <tr>\n",
              "      <th>2015-01-05</th>\n",
              "      <td>1.011695</td>\n",
              "      <td>1.014082</td>\n",
              "    </tr>\n",
              "    <tr>\n",
              "      <th>2015-01-06</th>\n",
              "      <td>1.001463</td>\n",
              "      <td>1.000000</td>\n",
              "    </tr>\n",
              "    <tr>\n",
              "      <th>2015-01-07</th>\n",
              "      <td>0.982457</td>\n",
              "      <td>1.000824</td>\n",
              "    </tr>\n",
              "  </tbody>\n",
              "</table>\n",
              "</div>"
            ],
            "text/plain": [
              "            TOEI ANIMATION   IG Port\n",
              "Date                                \n",
              "2015-01-01        1.000000  1.000000\n",
              "2015-01-02        1.000000  1.000000\n",
              "2015-01-05        1.011695  1.014082\n",
              "2015-01-06        1.001463  1.000000\n",
              "2015-01-07        0.982457  1.000824"
            ]
          },
          "metadata": {
            "tags": []
          },
          "execution_count": 16
        }
      ]
    },
    {
      "cell_type": "code",
      "metadata": {
        "id": "S_1-wk6fsDg_",
        "colab_type": "code",
        "colab": {},
        "outputId": "05a4c57a-638d-411a-ad78-baf8de2fe0d9"
      },
      "source": [
        "# 4本値\n",
        "t4816_csv = os.path.join(base_url, '4816.csv')\n",
        "pd.read_csv(t4816_csv, index_col=0, parse_dates=['Date']).head()"
      ],
      "execution_count": null,
      "outputs": [
        {
          "output_type": "execute_result",
          "data": {
            "text/html": [
              "<div>\n",
              "<style scoped>\n",
              "    .dataframe tbody tr th:only-of-type {\n",
              "        vertical-align: middle;\n",
              "    }\n",
              "\n",
              "    .dataframe tbody tr th {\n",
              "        vertical-align: top;\n",
              "    }\n",
              "\n",
              "    .dataframe thead th {\n",
              "        text-align: right;\n",
              "    }\n",
              "</style>\n",
              "<table border=\"1\" class=\"dataframe\">\n",
              "  <thead>\n",
              "    <tr style=\"text-align: right;\">\n",
              "      <th></th>\n",
              "      <th>Open</th>\n",
              "      <th>High</th>\n",
              "      <th>Low</th>\n",
              "      <th>Close</th>\n",
              "      <th>Volume</th>\n",
              "    </tr>\n",
              "    <tr>\n",
              "      <th>Date</th>\n",
              "      <th></th>\n",
              "      <th></th>\n",
              "      <th></th>\n",
              "      <th></th>\n",
              "      <th></th>\n",
              "    </tr>\n",
              "  </thead>\n",
              "  <tbody>\n",
              "    <tr>\n",
              "      <th>2010-01-04</th>\n",
              "      <td>1600.0</td>\n",
              "      <td>1600.0</td>\n",
              "      <td>1580.0</td>\n",
              "      <td>1597.0</td>\n",
              "      <td>5600.0</td>\n",
              "    </tr>\n",
              "    <tr>\n",
              "      <th>2010-01-05</th>\n",
              "      <td>1597.0</td>\n",
              "      <td>1605.0</td>\n",
              "      <td>1590.0</td>\n",
              "      <td>1600.0</td>\n",
              "      <td>14800.0</td>\n",
              "    </tr>\n",
              "    <tr>\n",
              "      <th>2010-01-06</th>\n",
              "      <td>1600.0</td>\n",
              "      <td>1602.0</td>\n",
              "      <td>1579.0</td>\n",
              "      <td>1601.0</td>\n",
              "      <td>8300.0</td>\n",
              "    </tr>\n",
              "    <tr>\n",
              "      <th>2010-01-07</th>\n",
              "      <td>1600.0</td>\n",
              "      <td>1600.0</td>\n",
              "      <td>1590.0</td>\n",
              "      <td>1595.0</td>\n",
              "      <td>3700.0</td>\n",
              "    </tr>\n",
              "    <tr>\n",
              "      <th>2010-01-08</th>\n",
              "      <td>1599.0</td>\n",
              "      <td>1601.0</td>\n",
              "      <td>1595.0</td>\n",
              "      <td>1600.0</td>\n",
              "      <td>32300.0</td>\n",
              "    </tr>\n",
              "  </tbody>\n",
              "</table>\n",
              "</div>"
            ],
            "text/plain": [
              "              Open    High     Low   Close   Volume\n",
              "Date                                               \n",
              "2010-01-04  1600.0  1600.0  1580.0  1597.0   5600.0\n",
              "2010-01-05  1597.0  1605.0  1590.0  1600.0  14800.0\n",
              "2010-01-06  1600.0  1602.0  1579.0  1601.0   8300.0\n",
              "2010-01-07  1600.0  1600.0  1590.0  1595.0   3700.0\n",
              "2010-01-08  1599.0  1601.0  1595.0  1600.0  32300.0"
            ]
          },
          "metadata": {
            "tags": []
          },
          "execution_count": 19
        }
      ]
    },
    {
      "cell_type": "markdown",
      "metadata": {
        "id": "OOvC6TsMsDhB",
        "colab_type": "text"
      },
      "source": [
        "    ###### series"
      ]
    },
    {
      "cell_type": "code",
      "metadata": {
        "id": "D0bpX5u3sDhB",
        "colab_type": "code",
        "colab": {},
        "outputId": "7ff17ad4-3aa4-497a-afd7-fc1d19ac4b1e"
      },
      "source": [
        "x = symbols('x')\n",
        "a = x**3\n",
        "a"
      ],
      "execution_count": null,
      "outputs": [
        {
          "output_type": "execute_result",
          "data": {
            "text/plain": [
              "x**3"
            ]
          },
          "metadata": {
            "tags": []
          },
          "execution_count": 24
        }
      ]
    },
    {
      "cell_type": "code",
      "metadata": {
        "id": "0UFH09bdsDhE",
        "colab_type": "code",
        "colab": {},
        "outputId": "4fdfd1cb-3813-4767-a28b-3818510df947"
      },
      "source": [
        "from sympy import *\n",
        "degree(a,x)"
      ],
      "execution_count": null,
      "outputs": [
        {
          "output_type": "execute_result",
          "data": {
            "text/plain": [
              "3"
            ]
          },
          "metadata": {
            "tags": []
          },
          "execution_count": 25
        }
      ]
    },
    {
      "cell_type": "code",
      "metadata": {
        "id": "tuDa3qwpsDhG",
        "colab_type": "code",
        "colab": {}
      },
      "source": [
        ""
      ],
      "execution_count": null,
      "outputs": []
    },
    {
      "cell_type": "code",
      "metadata": {
        "id": "Iml4B3WrsDhI",
        "colab_type": "code",
        "colab": {}
      },
      "source": [
        ""
      ],
      "execution_count": null,
      "outputs": []
    },
    {
      "cell_type": "code",
      "metadata": {
        "id": "aiWn5Z4DsDhK",
        "colab_type": "code",
        "colab": {}
      },
      "source": [
        ""
      ],
      "execution_count": null,
      "outputs": []
    },
    {
      "cell_type": "code",
      "metadata": {
        "id": "lXKSEcEfsDhO",
        "colab_type": "code",
        "colab": {}
      },
      "source": [
        ""
      ],
      "execution_count": null,
      "outputs": []
    },
    {
      "cell_type": "code",
      "metadata": {
        "id": "BkRj5288sDhS",
        "colab_type": "code",
        "colab": {}
      },
      "source": [
        ""
      ],
      "execution_count": null,
      "outputs": []
    }
  ]
}