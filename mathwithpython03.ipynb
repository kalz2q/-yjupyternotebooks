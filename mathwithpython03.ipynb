{
  "nbformat": 4,
  "nbformat_minor": 0,
  "metadata": {
    "kernelspec": {
      "display_name": "Python 3",
      "language": "python",
      "name": "python3"
    },
    "language_info": {
      "codemirror_mode": {
        "name": "ipython",
        "version": 3
      },
      "file_extension": ".py",
      "mimetype": "text/x-python",
      "name": "python",
      "nbconvert_exporter": "python",
      "pygments_lexer": "ipython3",
      "version": "3.6.6"
    },
    "toc": {
      "base_numbering": 1,
      "nav_menu": {},
      "number_sections": true,
      "sideBar": true,
      "skip_h1_title": false,
      "title_cell": "Table of Contents",
      "title_sidebar": "Contents",
      "toc_cell": false,
      "toc_position": {},
      "toc_section_display": true,
      "toc_window_display": true
    },
    "colab": {
      "name": "mathwithpython03.ipynb",
      "provenance": [],
      "toc_visible": true,
      "include_colab_link": true
    }
  },
  "cells": [
    {
      "cell_type": "markdown",
      "metadata": {
        "id": "view-in-github",
        "colab_type": "text"
      },
      "source": [
        "<a href=\"https://colab.research.google.com/github/kalz2q/mycolabnotebooks/blob/master/mathwithpython03.ipynb\" target=\"_parent\"><img src=\"https://colab.research.google.com/assets/colab-badge.svg\" alt=\"Open In Colab\"/></a>"
      ]
    },
    {
      "cell_type": "markdown",
      "metadata": {
        "id": "4e-avcyIsDbQ",
        "colab_type": "text"
      },
      "source": [
        "# メモ\n",
        "\n",
        "* mathwithpython01\n",
        "* mathwithpython02\n",
        "* mathwithpython03\n",
        "\n",
        "は `SymPy Tutorial` をトレースしているが、いまの `SymPy Tutorial`  では最後にはない、`gotchas and pitfalls` が最後になっている。"
      ]
    },
    {
      "cell_type": "code",
      "metadata": {
        "id": "bYjnXrAUsDbU",
        "colab_type": "code",
        "colab": {
          "base_uri": "https://localhost:8080/",
          "height": 38
        },
        "outputId": "decfee23-de71-4dca-cd61-4aa334bedc52"
      },
      "source": [
        "from sympy import *\n",
        "from sympy.abc import *\n",
        "init_printing()\n",
        "\n",
        "x - y"
      ],
      "execution_count": null,
      "outputs": [
        {
          "output_type": "execute_result",
          "data": {
            "image/png": "[encoded data removed]",
            "text/latex": "$$x - y$$",
            "text/plain": [
              "x - y"
            ]
          },
          "metadata": {
            "tags": []
          },
          "execution_count": 2
        }
      ]
    },
    {
      "cell_type": "code",
      "metadata": {
        "id": "vLQ5h9oGsDba",
        "colab_type": "code",
        "colab": {
          "base_uri": "https://localhost:8080/",
          "height": 39
        },
        "outputId": "6e48fd26-0613-4dfe-ef57-49391f397de6"
      },
      "source": [
        "a = x - y\n",
        "a"
      ],
      "execution_count": null,
      "outputs": [
        {
          "output_type": "execute_result",
          "data": {
            "image/png": "[encoded data removed]",
            "text/latex": "$$x - y$$",
            "text/plain": [
              "x - y"
            ]
          },
          "metadata": {
            "tags": []
          },
          "execution_count": 3
        }
      ]
    },
    {
      "cell_type": "code",
      "metadata": {
        "id": "zBLP2b1sPhoo",
        "colab_type": "code",
        "colab": {
          "base_uri": "https://localhost:8080/",
          "height": 39
        },
        "outputId": "9da00ae3-155b-4a84-bbb6-fbab1814f0a2"
      },
      "source": [
        "(x+1)**2 -(x**2 + 2*x + 1)"
      ],
      "execution_count": null,
      "outputs": [
        {
          "output_type": "execute_result",
          "data": {
            "image/png": "[encoded data removed]",
            "text/latex": "$$- x^{2} - 2 x + \\left(x + 1\\right)^{2} - 1$$",
            "text/plain": [
              "   2                2    \n",
              "- x  - 2⋅x + (x + 1)  - 1"
            ]
          },
          "metadata": {
            "tags": []
          },
          "execution_count": 4
        }
      ]
    },
    {
      "cell_type": "code",
      "metadata": {
        "id": "rWG82ifmsDbf",
        "colab_type": "code",
        "colab": {
          "base_uri": "https://localhost:8080/",
          "height": 37
        },
        "outputId": "b363886d-ef95-467e-ad76-81215ca76e40"
      },
      "source": [
        "simplify ((x+1)**2 -(x**2 + 2*x + 1))"
      ],
      "execution_count": null,
      "outputs": [
        {
          "output_type": "execute_result",
          "data": {
            "image/png": "[encoded data removed]",
            "text/latex": "$$0$$",
            "text/plain": [
              "0"
            ]
          },
          "metadata": {
            "tags": []
          },
          "execution_count": 5
        }
      ]
    },
    {
      "cell_type": "code",
      "metadata": {
        "id": "KkKOrsDbsDbk",
        "colab_type": "code",
        "colab": {
          "base_uri": "https://localhost:8080/",
          "height": 58
        },
        "outputId": "184fc7f9-4c38-4762-ad38-3d2a8b1a4322"
      },
      "source": [
        "eq = sin(2*x) - 2*sin(x)*cos(x)\n",
        "display (eq)\n",
        "display(simplify(eq))"
      ],
      "execution_count": null,
      "outputs": [
        {
          "output_type": "display_data",
          "data": {
            "image/png": "[encoded data removed]",
            "text/latex": "$$- 2 \\sin{\\left (x \\right )} \\cos{\\left (x \\right )} + \\sin{\\left (2 x \\right )}$$",
            "text/plain": [
              "-2⋅sin(x)⋅cos(x) + sin(2⋅x)"
            ]
          },
          "metadata": {
            "tags": []
          }
        },
        {
          "output_type": "display_data",
          "data": {
            "image/png": "[encoded data removed]",
            "text/latex": "$$0$$",
            "text/plain": [
              "0"
            ]
          },
          "metadata": {
            "tags": []
          }
        }
      ]
    },
    {
      "cell_type": "code",
      "metadata": {
        "id": "RFZwx961sDbp",
        "colab_type": "code",
        "colab": {
          "base_uri": "https://localhost:8080/",
          "height": 37
        },
        "outputId": "0ca08fef-e919-40d3-f01c-83d17f765280"
      },
      "source": [
        "expand(eq, trig=True)"
      ],
      "execution_count": null,
      "outputs": [
        {
          "output_type": "execute_result",
          "data": {
            "image/png": "[encoded data removed]",
            "text/latex": "$$0$$",
            "text/plain": [
              "0"
            ]
          },
          "metadata": {
            "tags": []
          },
          "execution_count": 7
        }
      ]
    },
    {
      "cell_type": "code",
      "metadata": {
        "id": "vJxr9XG8sDbu",
        "colab_type": "code",
        "colab": {
          "base_uri": "https://localhost:8080/",
          "height": 37
        },
        "outputId": "259ebb43-e7b2-4355-e8da-352b0800a12d"
      },
      "source": [
        "trigsimp(eq)"
      ],
      "execution_count": null,
      "outputs": [
        {
          "output_type": "execute_result",
          "data": {
            "image/png": "[encoded data removed]",
            "text/latex": "$$0$$",
            "text/plain": [
              "0"
            ]
          },
          "metadata": {
            "tags": []
          },
          "execution_count": 8
        }
      ]
    },
    {
      "cell_type": "code",
      "metadata": {
        "id": "WIakzYkHsDbz",
        "colab_type": "code",
        "colab": {
          "base_uri": "https://localhost:8080/",
          "height": 38
        },
        "outputId": "a478d2e5-f178-41ab-d79f-9fb702b650f0"
      },
      "source": [
        "from sympy import Symbol\n",
        "a = Symbol('a')\n",
        "\n",
        "b = a + 1\n",
        "b"
      ],
      "execution_count": null,
      "outputs": [
        {
          "output_type": "execute_result",
          "data": {
            "image/png": "[encoded data removed]",
            "text/latex": "$$a + 1$$",
            "text/plain": [
              "a + 1"
            ]
          },
          "metadata": {
            "tags": []
          },
          "execution_count": 9
        }
      ]
    },
    {
      "cell_type": "code",
      "metadata": {
        "id": "sucTpNY9sDb5",
        "colab_type": "code",
        "colab": {
          "base_uri": "https://localhost:8080/",
          "height": 38
        },
        "outputId": "b2765267-3c6b-4aec-e144-fe00205814fe"
      },
      "source": [
        "a = 4\n",
        "b"
      ],
      "execution_count": null,
      "outputs": [
        {
          "output_type": "execute_result",
          "data": {
            "image/png": "[encoded data removed]",
            "text/latex": "$$a + 1$$",
            "text/plain": [
              "a + 1"
            ]
          },
          "metadata": {
            "tags": []
          },
          "execution_count": 10
        }
      ]
    },
    {
      "cell_type": "code",
      "metadata": {
        "id": "wXktn90usDb9",
        "colab_type": "code",
        "colab": {
          "base_uri": "https://localhost:8080/",
          "height": 37
        },
        "outputId": "1fe2ae8a-3c4e-4723-f70a-bcb720b8b121"
      },
      "source": [
        "a + 1"
      ],
      "execution_count": null,
      "outputs": [
        {
          "output_type": "execute_result",
          "data": {
            "image/png": "[encoded data removed]",
            "text/latex": "$$5$$",
            "text/plain": [
              "5"
            ]
          },
          "metadata": {
            "tags": []
          },
          "execution_count": 11
        }
      ]
    },
    {
      "cell_type": "code",
      "metadata": {
        "id": "-Wtix470sDcC",
        "colab_type": "code",
        "colab": {
          "base_uri": "https://localhost:8080/",
          "height": 38
        },
        "outputId": "0ed9485a-bf22-4ed9-f510-6f484bde128b"
      },
      "source": [
        "import sympy\n",
        "sympy.var('z') # This is the easiest way to define z as a standard symbol\n",
        "z**2"
      ],
      "execution_count": null,
      "outputs": [
        {
          "output_type": "execute_result",
          "data": {
            "image/png": "[encoded data removed]",
            "text/latex": "$$z^{2}$$",
            "text/plain": [
              " 2\n",
              "z "
            ]
          },
          "metadata": {
            "tags": []
          },
          "execution_count": 12
        }
      ]
    },
    {
      "cell_type": "markdown",
      "metadata": {
        "id": "Lqid2fRXsDcG",
        "colab_type": "text"
      },
      "source": [
        "# sympyの対話型環境 isympy\n",
        "\n",
        "ターミナルで `isympy` と打つと `sympy` の対話型環境が立ち上がる。Colabでは動かない。必要もない。\n",
        "\n",
        "```\n",
        "~$ isympy\n",
        "IPython console for SymPy 1.1.1 (Python 3.6.3-64-bit) (ground types: gmpy)\n",
        "\n",
        "These commands were executed:\n",
        ">>> from __future__ import division\n",
        ">>> from sympy import *\n",
        ">>> x, y, z, t = symbols('x y z t')\n",
        ">>> k, m, n = symbols('k m n', integer=True)\n",
        ">>> f, g, h = symbols('f g h', cls=Function)\n",
        ">>> init_printing()\n",
        "\n",
        "Documentation can be found at http://docs.sympy.org/1.1.1/\n",
        "```\n"
      ]
    },
    {
      "cell_type": "code",
      "metadata": {
        "scrolled": false,
        "id": "e26IHQAJsDcH",
        "colab_type": "code",
        "colab": {
          "base_uri": "https://localhost:8080/",
          "height": 1000
        },
        "outputId": "fa1df33d-4d5a-429f-85c5-12ca15e60cec"
      },
      "source": [
        "import sympy.abc\n",
        "dir(sympy.abc)"
      ],
      "execution_count": null,
      "outputs": [
        {
          "output_type": "execute_result",
          "data": {
            "text/plain": [
              "['A',\n",
              " 'B',\n",
              " 'C',\n",
              " 'D',\n",
              " 'E',\n",
              " 'F',\n",
              " 'G',\n",
              " 'H',\n",
              " 'I',\n",
              " 'J',\n",
              " 'K',\n",
              " 'L',\n",
              " 'M',\n",
              " 'N',\n",
              " 'O',\n",
              " 'P',\n",
              " 'Q',\n",
              " 'R',\n",
              " 'S',\n",
              " 'T',\n",
              " 'U',\n",
              " 'V',\n",
              " 'W',\n",
              " 'X',\n",
              " 'Y',\n",
              " 'Z',\n",
              " '__builtins__',\n",
              " '__cached__',\n",
              " '__doc__',\n",
              " '__file__',\n",
              " '__loader__',\n",
              " '__name__',\n",
              " '__package__',\n",
              " '__spec__',\n",
              " '_clash',\n",
              " '_clash1',\n",
              " '_clash2',\n",
              " 'a',\n",
              " 'alpha',\n",
              " 'b',\n",
              " 'beta',\n",
              " 'c',\n",
              " 'chi',\n",
              " 'd',\n",
              " 'delta',\n",
              " 'division',\n",
              " 'e',\n",
              " 'epsilon',\n",
              " 'eta',\n",
              " 'exec_',\n",
              " 'f',\n",
              " 'g',\n",
              " 'gamma',\n",
              " 'greeks',\n",
              " 'h',\n",
              " 'i',\n",
              " 'iota',\n",
              " 'j',\n",
              " 'k',\n",
              " 'kappa',\n",
              " 'l',\n",
              " 'lamda',\n",
              " 'm',\n",
              " 'mu',\n",
              " 'n',\n",
              " 'nu',\n",
              " 'o',\n",
              " 'omega',\n",
              " 'omicron',\n",
              " 'p',\n",
              " 'phi',\n",
              " 'pi',\n",
              " 'print_function',\n",
              " 'psi',\n",
              " 'q',\n",
              " 'r',\n",
              " 'rho',\n",
              " 's',\n",
              " 'sigma',\n",
              " 'string',\n",
              " 'symbols',\n",
              " 't',\n",
              " 'tau',\n",
              " 'theta',\n",
              " 'u',\n",
              " 'upsilon',\n",
              " 'v',\n",
              " 'w',\n",
              " 'x',\n",
              " 'xi',\n",
              " 'y',\n",
              " 'z',\n",
              " 'zeta']"
            ]
          },
          "metadata": {
            "tags": []
          },
          "execution_count": 13
        }
      ]
    },
    {
      "cell_type": "markdown",
      "metadata": {
        "id": "NW0NlX_xsDcM",
        "colab_type": "text"
      },
      "source": [
        "# OSINEQ\n",
        "\n",
        "ユーザーが使う変数やシンボルで、$I, E, S, N, O, Q$ は使わない。なぜなら、これらは複素数 ($i$)、自然対数 ($e$)、簡素化関数 ($S$)、数値評価関数 ($N$)、ビッグオーオーダーシンボル ($O(nlogn)$)、キーをサポートするオブジェクト (Q.real など)に使われているから。`OSINEQ`と覚える。\n",
        "\n",
        "Lastly, it is recommended that you not use $I, E, S, N, C, O,$ or $Q$ for variable or symbol names, as those are used for the imaginary unit ($i$), the base of the natural logarithm ($e$), the sympify() function (see Symbolic Expressions below), numeric evaluation (N() is equivalent to evalf() ), the big O order symbol (as in $O(nlogn)$), and the assumptions object that holds a list of supported ask keys (such as Q.real), respectively. You can use the mnemonic OSINEQ to remember what Symbols are defined by default in SymPy. \n",
        "###### C is deprecated"
      ]
    },
    {
      "cell_type": "code",
      "metadata": {
        "id": "iIi7U5q_sDcO",
        "colab_type": "code",
        "colab": {
          "base_uri": "https://localhost:8080/",
          "height": 37
        },
        "outputId": "0d8eba61-eb99-4c12-fab8-0ad072aa59ad"
      },
      "source": [
        "from sympy import *\n",
        "cos(pi)"
      ],
      "execution_count": null,
      "outputs": [
        {
          "output_type": "execute_result",
          "data": {
            "image/png": "[encoded data removed]",
            "text/latex": "$$-1$$",
            "text/plain": [
              "-1"
            ]
          },
          "metadata": {
            "tags": []
          },
          "execution_count": 14
        }
      ]
    },
    {
      "cell_type": "code",
      "metadata": {
        "id": "a8zLjqfqsDcT",
        "colab_type": "code",
        "colab": {
          "base_uri": "https://localhost:8080/",
          "height": 37
        },
        "outputId": "2424990e-1ab5-4949-fd9a-151aaf59f54d"
      },
      "source": [
        "pi = 3\n",
        "from sympy import pi\n",
        "cos(pi)"
      ],
      "execution_count": null,
      "outputs": [
        {
          "output_type": "execute_result",
          "data": {
            "image/png": "[encoded data removed]",
            "text/latex": "$$-1$$",
            "text/plain": [
              "-1"
            ]
          },
          "metadata": {
            "tags": []
          },
          "execution_count": 61
        }
      ]
    },
    {
      "cell_type": "code",
      "metadata": {
        "id": "voWhIn4bsDcZ",
        "colab_type": "code",
        "colab": {}
      },
      "source": [
        "import sympy\n",
        "# dir(sympy)\n",
        "# dir(__builtins__)\n",
        "# vars()"
      ],
      "execution_count": null,
      "outputs": []
    },
    {
      "cell_type": "markdown",
      "metadata": {
        "id": "Ql512WqxsDcf",
        "colab_type": "text"
      },
      "source": [
        "# 数値 numbers\n",
        "\n",
        "数値を含む式は自動的にPythonの式にになってしまう。`SymPy`の式であることを確実にするためには、`symplify()`、もしくは `S()` とする必要がある。\n"
      ]
    },
    {
      "cell_type": "code",
      "metadata": {
        "id": "wjiomDU-sDcg",
        "colab_type": "code",
        "colab": {
          "base_uri": "https://localhost:8080/",
          "height": 34
        },
        "outputId": "648fefa3-0fd7-4ca3-9351-896d61bfa7be"
      },
      "source": [
        "type(6.2)"
      ],
      "execution_count": null,
      "outputs": [
        {
          "output_type": "execute_result",
          "data": {
            "text/plain": [
              "float"
            ]
          },
          "metadata": {
            "tags": []
          },
          "execution_count": 17
        }
      ]
    },
    {
      "cell_type": "code",
      "metadata": {
        "id": "MuHI18jpsDcl",
        "colab_type": "code",
        "colab": {
          "base_uri": "https://localhost:8080/",
          "height": 34
        },
        "outputId": "603aa904-d57b-4c3e-d09b-8f6ed143e60a"
      },
      "source": [
        "type(S(6.2))"
      ],
      "execution_count": null,
      "outputs": [
        {
          "output_type": "execute_result",
          "data": {
            "text/plain": [
              "sympy.core.numbers.Float"
            ]
          },
          "metadata": {
            "tags": []
          },
          "execution_count": 18
        }
      ]
    },
    {
      "cell_type": "code",
      "metadata": {
        "id": "C7Rxuy1EsDct",
        "colab_type": "code",
        "colab": {
          "base_uri": "https://localhost:8080/",
          "height": 38
        },
        "outputId": "a314f3b5-b0cf-4d7a-f5b0-f6ab8d02e844"
      },
      "source": [
        "x = symbols('x')\n",
        "x**(1/2)"
      ],
      "execution_count": null,
      "outputs": [
        {
          "output_type": "execute_result",
          "data": {
            "image/png": "[encoded data removed]",
            "text/latex": "$$x^{0.5}$$",
            "text/plain": [
              " 0.5\n",
              "x   "
            ]
          },
          "metadata": {
            "tags": []
          },
          "execution_count": 19
        }
      ]
    },
    {
      "cell_type": "code",
      "metadata": {
        "id": "XSRd7vnMsDcy",
        "colab_type": "code",
        "colab": {
          "base_uri": "https://localhost:8080/",
          "height": 37
        },
        "outputId": "04513f23-9460-4ac1-8305-d185a918e6a2"
      },
      "source": [
        "x**(S(1)/2)"
      ],
      "execution_count": null,
      "outputs": [
        {
          "output_type": "execute_result",
          "data": {
            "image/png": "[encoded data removed]",
            "text/latex": "$$\\sqrt{x}$$",
            "text/plain": [
              "√x"
            ]
          },
          "metadata": {
            "tags": []
          },
          "execution_count": 20
        }
      ]
    },
    {
      "cell_type": "code",
      "metadata": {
        "id": "2ZYj3VrusDc1",
        "colab_type": "code",
        "colab": {
          "base_uri": "https://localhost:8080/",
          "height": 37
        },
        "outputId": "bdfaf2ff-de78-4a28-fd1b-ca7addcc280c"
      },
      "source": [
        "x**Rational(1,2)"
      ],
      "execution_count": null,
      "outputs": [
        {
          "output_type": "execute_result",
          "data": {
            "image/png": "[encoded data removed]",
            "text/latex": "$$\\sqrt{x}$$",
            "text/plain": [
              "√x"
            ]
          },
          "metadata": {
            "tags": []
          },
          "execution_count": 21
        }
      ]
    },
    {
      "cell_type": "code",
      "metadata": {
        "id": "-RfEvxifsDc5",
        "colab_type": "code",
        "colab": {
          "base_uri": "https://localhost:8080/",
          "height": 38
        },
        "outputId": "76e60f57-5886-46af-c683-0adf619d6744"
      },
      "source": [
        "Rational(0.5)"
      ],
      "execution_count": null,
      "outputs": [
        {
          "output_type": "execute_result",
          "data": {
            "image/png": "[encoded data removed]",
            "text/latex": "$$\\frac{1}{2}$$",
            "text/plain": [
              "1/2"
            ]
          },
          "metadata": {
            "tags": []
          },
          "execution_count": 22
        }
      ]
    },
    {
      "cell_type": "code",
      "metadata": {
        "id": "-gLC6xp0sDc9",
        "colab_type": "code",
        "colab": {
          "base_uri": "https://localhost:8080/",
          "height": 34
        },
        "outputId": "55d26169-1858-4b2a-de1c-cddbf3df0766"
      },
      "source": [
        "sqrt(x) == x**Rational(1,2)"
      ],
      "execution_count": null,
      "outputs": [
        {
          "output_type": "execute_result",
          "data": {
            "text/plain": [
              "True"
            ]
          },
          "metadata": {
            "tags": []
          },
          "execution_count": 23
        }
      ]
    },
    {
      "cell_type": "code",
      "metadata": {
        "id": "YCvzgfYtsDdA",
        "colab_type": "code",
        "colab": {
          "base_uri": "https://localhost:8080/",
          "height": 39
        },
        "outputId": "e27fd07b-d4c5-4781-f2ef-f23b98df3b10"
      },
      "source": [
        "x**(2*x/3)"
      ],
      "execution_count": null,
      "outputs": [
        {
          "output_type": "execute_result",
          "data": {
            "image/png": "[encoded data removed]",
            "text/latex": "$$x^{\\frac{2 x}{3}}$$",
            "text/plain": [
              " 2⋅x\n",
              " ───\n",
              "  3 \n",
              "x   "
            ]
          },
          "metadata": {
            "tags": []
          },
          "execution_count": 24
        }
      ]
    },
    {
      "cell_type": "code",
      "metadata": {
        "id": "rfQuQbe6sDdE",
        "colab_type": "code",
        "colab": {
          "base_uri": "https://localhost:8080/",
          "height": 38
        },
        "outputId": "3f3f59ad-f39f-4253-be98-753557ba8560"
      },
      "source": [
        "x = symbols('x')\n",
        "solve(7*x - 22 , x)"
      ],
      "execution_count": null,
      "outputs": [
        {
          "output_type": "execute_result",
          "data": {
            "image/png": "[encoded data removed]",
            "text/latex": "$$\\left [ \\frac{22}{7}\\right ]$$",
            "text/plain": [
              "[22/7]"
            ]
          },
          "metadata": {
            "tags": []
          },
          "execution_count": 25
        }
      ]
    },
    {
      "cell_type": "code",
      "metadata": {
        "id": "hVSZog-NsDdH",
        "colab_type": "code",
        "colab": {
          "base_uri": "https://localhost:8080/",
          "height": 37
        },
        "outputId": "2d0a5660-eb9e-4a45-cc0b-2b1ebfb131d4"
      },
      "source": [
        "22/7"
      ],
      "execution_count": null,
      "outputs": [
        {
          "output_type": "execute_result",
          "data": {
            "image/png": "[encoded data removed]",
            "text/latex": "$$3.142857142857143$$",
            "text/plain": [
              "3.142857142857143"
            ]
          },
          "metadata": {
            "tags": []
          },
          "execution_count": 65
        }
      ]
    },
    {
      "cell_type": "code",
      "metadata": {
        "id": "T-OsFUkk0xfs",
        "colab_type": "code",
        "colab": {
          "base_uri": "https://localhost:8080/",
          "height": 37
        },
        "outputId": "860c7421-7304-4da4-8319-e30754d54c94"
      },
      "source": [
        "N(pi)"
      ],
      "execution_count": null,
      "outputs": [
        {
          "output_type": "execute_result",
          "data": {
            "image/png": "[encoded data removed]",
            "text/latex": "$$3.14159265358979$$",
            "text/plain": [
              "3.14159265358979"
            ]
          },
          "metadata": {
            "tags": []
          },
          "execution_count": 67
        }
      ]
    },
    {
      "cell_type": "code",
      "metadata": {
        "id": "FGInrhD6sDdM",
        "colab_type": "code",
        "colab": {
          "base_uri": "https://localhost:8080/",
          "height": 38
        },
        "outputId": "7045c826-2b6b-46f3-b604-b4ed1d5124df"
      },
      "source": [
        "a = solve(7*x - 22 , x)[0]\n",
        "a"
      ],
      "execution_count": null,
      "outputs": [
        {
          "output_type": "execute_result",
          "data": {
            "image/png": "[encoded data removed]",
            "text/latex": "$$\\frac{22}{7}$$",
            "text/plain": [
              "22/7"
            ]
          },
          "metadata": {
            "tags": []
          },
          "execution_count": 27
        }
      ]
    },
    {
      "cell_type": "code",
      "metadata": {
        "id": "ctacLXSysDdQ",
        "colab_type": "code",
        "colab": {
          "base_uri": "https://localhost:8080/",
          "height": 38
        },
        "outputId": "6be64aa3-612a-4d38-aa8b-407fda282baa"
      },
      "source": [
        "22/S(7)"
      ],
      "execution_count": null,
      "outputs": [
        {
          "output_type": "execute_result",
          "data": {
            "image/png": "[encoded data removed]",
            "text/latex": "$$\\frac{22}{7}$$",
            "text/plain": [
              "22/7"
            ]
          },
          "metadata": {
            "tags": []
          },
          "execution_count": 28
        }
      ]
    },
    {
      "cell_type": "code",
      "metadata": {
        "id": "LuSLjvlMsDdT",
        "colab_type": "code",
        "colab": {
          "base_uri": "https://localhost:8080/",
          "height": 38
        },
        "outputId": "59581b9c-b14e-45a7-87cb-35fad457879f"
      },
      "source": [
        "S(\"22/7\") # sympify it"
      ],
      "execution_count": null,
      "outputs": [
        {
          "output_type": "execute_result",
          "data": {
            "image/png": "[encoded data removed]",
            "text/latex": "$$\\frac{22}{7}$$",
            "text/plain": [
              "22/7"
            ]
          },
          "metadata": {
            "tags": []
          },
          "execution_count": 29
        }
      ]
    },
    {
      "cell_type": "code",
      "metadata": {
        "id": "_NVAyiCrsDdX",
        "colab_type": "code",
        "colab": {
          "base_uri": "https://localhost:8080/",
          "height": 37
        },
        "outputId": "7df3dc45-9749-4b66-e907-f560c5afae4d"
      },
      "source": [
        "from __future__ import division\n",
        "1/2 # integer division -> float division "
      ],
      "execution_count": null,
      "outputs": [
        {
          "output_type": "execute_result",
          "data": {
            "image/png": "[encoded data removed]",
            "text/latex": "$$0.5$$",
            "text/plain": [
              "0.5"
            ]
          },
          "metadata": {
            "tags": []
          },
          "execution_count": 30
        }
      ]
    },
    {
      "cell_type": "code",
      "metadata": {
        "id": "wi479b1CsDdb",
        "colab_type": "code",
        "colab": {
          "base_uri": "https://localhost:8080/",
          "height": 38
        },
        "outputId": "513d410c-6cb3-44cc-c9e5-90fcd55d314d"
      },
      "source": [
        "from sympy import var\n",
        "r, t , d = var('rate time short_life')\n",
        "d = r*t\n",
        "d"
      ],
      "execution_count": null,
      "outputs": [
        {
          "output_type": "execute_result",
          "data": {
            "image/png": "[encoded data removed]",
            "text/latex": "$$rate time$$",
            "text/plain": [
              "rate⋅time"
            ]
          },
          "metadata": {
            "tags": []
          },
          "execution_count": 31
        }
      ]
    },
    {
      "cell_type": "code",
      "metadata": {
        "id": "ku75NB1KsDde",
        "colab_type": "code",
        "colab": {
          "base_uri": "https://localhost:8080/",
          "height": 38
        },
        "outputId": "510900ad-1d21-4c0f-c3fa-72826de22372"
      },
      "source": [
        "r = 80\n",
        "t = 2\n",
        "d # rate*time"
      ],
      "execution_count": null,
      "outputs": [
        {
          "output_type": "execute_result",
          "data": {
            "image/png": "[encoded data removed]",
            "text/latex": "$$rate time$$",
            "text/plain": [
              "rate⋅time"
            ]
          },
          "metadata": {
            "tags": []
          },
          "execution_count": 32
        }
      ]
    },
    {
      "cell_type": "code",
      "metadata": {
        "id": "P6M6WbU-sDdi",
        "colab_type": "code",
        "colab": {
          "base_uri": "https://localhost:8080/",
          "height": 37
        },
        "outputId": "ec5016e1-2258-4871-93c1-fe7760edc7b0"
      },
      "source": [
        "d = r *  t\n",
        "d # 160"
      ],
      "execution_count": null,
      "outputs": [
        {
          "output_type": "execute_result",
          "data": {
            "image/png": "[encoded data removed]",
            "text/latex": "$$160$$",
            "text/plain": [
              "160"
            ]
          },
          "metadata": {
            "tags": []
          },
          "execution_count": 33
        }
      ]
    },
    {
      "cell_type": "markdown",
      "metadata": {
        "id": "wq0yWJTq1K0H",
        "colab_type": "text"
      },
      "source": [
        "# いまここ\n"
      ]
    },
    {
      "cell_type": "code",
      "metadata": {
        "id": "1hHBrjalsDdl",
        "colab_type": "code",
        "colab": {
          "base_uri": "https://localhost:8080/",
          "height": 38
        },
        "outputId": "9d0fa370-c436-43a9-9524-0436c27ce4d4"
      },
      "source": [
        "c,d = var('c d')\n",
        "def ctimesd():\n",
        "    return c*d\n",
        "ctimesd() # c*D"
      ],
      "execution_count": 68,
      "outputs": [
        {
          "output_type": "execute_result",
          "data": {
            "image/png": "[encoded data removed]",
            "text/latex": "$$c d$$",
            "text/plain": [
              "c⋅d"
            ]
          },
          "metadata": {
            "tags": []
          },
          "execution_count": 68
        }
      ]
    },
    {
      "cell_type": "code",
      "metadata": {
        "id": "Y5Z4F_tksDdo",
        "colab_type": "code",
        "colab": {
          "base_uri": "https://localhost:8080/",
          "height": 37
        },
        "outputId": "0494eccb-e92a-414d-e68f-49d71f044f8c"
      },
      "source": [
        "c=2\n",
        "d=8\n",
        "ctimesd() # 16"
      ],
      "execution_count": 69,
      "outputs": [
        {
          "output_type": "execute_result",
          "data": {
            "image/png": "[encoded data removed]",
            "text/latex": "$$16$$",
            "text/plain": [
              "16"
            ]
          },
          "metadata": {
            "tags": []
          },
          "execution_count": 69
        }
      ]
    },
    {
      "cell_type": "code",
      "metadata": {
        "id": "NC-FdabMsDds",
        "colab_type": "code",
        "colab": {
          "base_uri": "https://localhost:8080/",
          "height": 38
        },
        "outputId": "999bb5c8-4b72-4465-cf8e-150d8e2d4bf2"
      },
      "source": [
        "from sympy import *\n",
        "init_printing()\n",
        "x,y,z = symbols('x y z')\n",
        "# Rational(2, x) -> error!!!\n",
        "2/x"
      ],
      "execution_count": 70,
      "outputs": [
        {
          "output_type": "execute_result",
          "data": {
            "image/png": "[encoded data removed]",
            "text/latex": "$$\\frac{2}{x}$$",
            "text/plain": [
              "2\n",
              "─\n",
              "x"
            ]
          },
          "metadata": {
            "tags": []
          },
          "execution_count": 70
        }
      ]
    },
    {
      "cell_type": "markdown",
      "metadata": {
        "id": "BxkMWhessDdv",
        "colab_type": "text"
      },
      "source": [
        "#  数学演算子 mathematical operators"
      ]
    },
    {
      "cell_type": "code",
      "metadata": {
        "id": "AHkjD0eBsDdw",
        "colab_type": "code",
        "colab": {
          "base_uri": "https://localhost:8080/",
          "height": 42
        },
        "outputId": "ff041698-37b4-4363-fc5d-19b5d1111e42"
      },
      "source": [
        "3 - x**(2*x)/(x + 1)"
      ],
      "execution_count": 71,
      "outputs": [
        {
          "output_type": "execute_result",
          "data": {
            "image/png": "[encoded data removed]",
            "text/latex": "$$- \\frac{x^{2 x}}{x + 1} + 3$$",
            "text/plain": [
              "    2⋅x    \n",
              "   x       \n",
              "- ───── + 3\n",
              "  x + 1    "
            ]
          },
          "metadata": {
            "tags": []
          },
          "execution_count": 71
        }
      ]
    },
    {
      "cell_type": "markdown",
      "metadata": {
        "id": "ODOzn6cusDdz",
        "colab_type": "text"
      },
      "source": [
        "# 逆三角関数 nverse trig functions\n",
        "\n",
        "`arcsin` 、 `arccos` ではなく、 `asin()`, `acos()` を使う。\n",
        "\n"
      ]
    },
    {
      "cell_type": "markdown",
      "metadata": {
        "id": "2Sl9qZXpsDd0",
        "colab_type": "text"
      },
      "source": [
        "# リストはイミュータブルではない\n",
        "\n",
        "lists are mutable"
      ]
    },
    {
      "cell_type": "code",
      "metadata": {
        "id": "q0q3CDJysDd1",
        "colab_type": "code",
        "colab": {
          "base_uri": "https://localhost:8080/",
          "height": 38
        },
        "outputId": "72432fb3-76ce-4c2a-8b43-e14b20512952"
      },
      "source": [
        "a = [x, 1]\n",
        "a"
      ],
      "execution_count": null,
      "outputs": [
        {
          "output_type": "execute_result",
          "data": {
            "image/png": "[encoded data removed]",
            "text/latex": "$$\\left [ x, \\quad 1\\right ]$$",
            "text/plain": [
              "[x, 1]"
            ]
          },
          "metadata": {
            "tags": []
          },
          "execution_count": 38
        }
      ]
    },
    {
      "cell_type": "code",
      "metadata": {
        "id": "GAEkU4rvsDd4",
        "colab_type": "code",
        "colab": {
          "base_uri": "https://localhost:8080/",
          "height": 37
        },
        "outputId": "e2b2f775-c747-4834-d258-14066aa01b63"
      },
      "source": [
        "a[0] = 2\n",
        "a"
      ],
      "execution_count": null,
      "outputs": [
        {
          "output_type": "execute_result",
          "data": {
            "image/png": "[encoded data removed]",
            "text/latex": "$$\\left [ 2, \\quad 1\\right ]$$",
            "text/plain": [
              "[2, 1]"
            ]
          },
          "metadata": {
            "tags": []
          },
          "execution_count": 39
        }
      ]
    },
    {
      "cell_type": "code",
      "metadata": {
        "id": "_EsbliBwsDd8",
        "colab_type": "code",
        "colab": {
          "base_uri": "https://localhost:8080/",
          "height": 41
        },
        "outputId": "7de6372f-c835-47ec-8bf0-29c57a2c6c62"
      },
      "source": [
        "solve(x**2 +2*x -1, x)"
      ],
      "execution_count": null,
      "outputs": [
        {
          "output_type": "execute_result",
          "data": {
            "image/png": "[encoded data removed]",
            "text/latex": "$$\\left [ -1 + \\sqrt{2}, \\quad - \\sqrt{2} - 1\\right ]$$",
            "text/plain": [
              "[-1 + √2, -√2 - 1]"
            ]
          },
          "metadata": {
            "tags": []
          },
          "execution_count": 40
        }
      ]
    },
    {
      "cell_type": "markdown",
      "metadata": {
        "id": "VN8l3vWtsDeB",
        "colab_type": "text"
      },
      "source": [
        "# 辞書 dictionaries, dict, {}\n"
      ]
    },
    {
      "cell_type": "code",
      "metadata": {
        "id": "S2-fJ7-msDeC",
        "colab_type": "code",
        "colab": {
          "base_uri": "https://localhost:8080/",
          "height": 34
        },
        "outputId": "60d53a42-b1cd-42de-b69f-84d3bf89a6fc"
      },
      "source": [
        "d = {'a': 1, 'b': 2}  # A dictionary.\n",
        "d"
      ],
      "execution_count": null,
      "outputs": [
        {
          "output_type": "execute_result",
          "data": {
            "text/plain": [
              "{'a': 1, 'b': 2}"
            ]
          },
          "metadata": {
            "tags": []
          },
          "execution_count": 41
        }
      ]
    },
    {
      "cell_type": "code",
      "metadata": {
        "id": "vwMRrnKVsDeG",
        "colab_type": "code",
        "colab": {
          "base_uri": "https://localhost:8080/",
          "height": 37
        },
        "outputId": "fd0e5150-ac08-473b-e395-3678179c5ff1"
      },
      "source": [
        "from sympy import *\n",
        "init_printing()\n",
        "x = symbols('x')\n",
        "roots((x - 1)**2*(x - 2), x)  # Some functions return dicts"
      ],
      "execution_count": null,
      "outputs": [
        {
          "output_type": "execute_result",
          "data": {
            "image/png": "[encoded data removed]",
            "text/latex": "$$\\left \\{ 1 : 2, \\quad 2 : 1\\right \\}$$",
            "text/plain": [
              "{1: 2, 2: 1}"
            ]
          },
          "metadata": {
            "tags": []
          },
          "execution_count": 42
        }
      ]
    },
    {
      "cell_type": "code",
      "metadata": {
        "id": "OE01AoDHsDeK",
        "colab_type": "code",
        "colab": {
          "base_uri": "https://localhost:8080/",
          "height": 37
        },
        "outputId": "1457df17-92d7-489b-bf77-3c4a0b75abc8"
      },
      "source": [
        "solve((x - 1)**2*(x - 2), x)"
      ],
      "execution_count": 72,
      "outputs": [
        {
          "output_type": "execute_result",
          "data": {
            "image/png": "[encoded data removed]",
            "text/latex": "$$\\left [ 1, \\quad 2\\right ]$$",
            "text/plain": [
              "[1, 2]"
            ]
          },
          "metadata": {
            "tags": []
          },
          "execution_count": 72
        }
      ]
    },
    {
      "cell_type": "code",
      "metadata": {
        "id": "QsRhnkXjsDeO",
        "colab_type": "code",
        "colab": {
          "base_uri": "https://localhost:8080/",
          "height": 39
        },
        "outputId": "32acc1f4-edb6-4602-809c-a7d124893aa2"
      },
      "source": [
        "(x - 1)**2*(x - 2)"
      ],
      "execution_count": 73,
      "outputs": [
        {
          "output_type": "execute_result",
          "data": {
            "image/png": "[encoded data removed]",
            "text/latex": "$$\\left(x - 2\\right) \\left(x - 1\\right)^{2}$$",
            "text/plain": [
              "               2\n",
              "(x - 2)⋅(x - 1) "
            ]
          },
          "metadata": {
            "tags": []
          },
          "execution_count": 73
        }
      ]
    },
    {
      "cell_type": "code",
      "metadata": {
        "id": "t2eRwsBuFH5u",
        "colab_type": "code",
        "colab": {
          "base_uri": "https://localhost:8080/",
          "height": 37
        },
        "outputId": "47599ee0-c44c-48e7-a909-3916edc579ef"
      },
      "source": [
        "roots((x - 1)**2*(x - 2))"
      ],
      "execution_count": 74,
      "outputs": [
        {
          "output_type": "execute_result",
          "data": {
            "image/png": "[encoded data removed]",
            "text/latex": "$$\\left \\{ 1 : 2, \\quad 2 : 1\\right \\}$$",
            "text/plain": [
              "{1: 2, 2: 1}"
            ]
          },
          "metadata": {
            "tags": []
          },
          "execution_count": 74
        }
      ]
    },
    {
      "cell_type": "code",
      "metadata": {
        "id": "WTWUkiWnsDeX",
        "colab_type": "code",
        "colab": {
          "base_uri": "https://localhost:8080/",
          "height": 37
        },
        "outputId": "77e7f2b1-6b0e-4181-d2b9-e763ce74130e"
      },
      "source": [
        "roots((x - 5)**2*(x + 3), x)"
      ],
      "execution_count": null,
      "outputs": [
        {
          "output_type": "execute_result",
          "data": {
            "image/png": "[encoded data removed]",
            "text/latex": "$$\\left \\{ -3 : 1, \\quad 5 : 2\\right \\}$$",
            "text/plain": [
              "{-3: 1, 5: 2}"
            ]
          },
          "metadata": {
            "tags": []
          },
          "execution_count": 45
        }
      ]
    },
    {
      "cell_type": "markdown",
      "metadata": {
        "id": "5cfiwSWBsDee",
        "colab_type": "text"
      },
      "source": [
        "# タプル\n",
        "\n",
        "タプルはイミュータブルである。\n",
        "\n",
        "`SymPy` では基本的にタプルは使わない。\n"
      ]
    },
    {
      "cell_type": "code",
      "metadata": {
        "id": "qJAvp7IqsDef",
        "colab_type": "code",
        "colab": {
          "base_uri": "https://localhost:8080/",
          "height": 38
        },
        "outputId": "02c12cbf-9174-4137-c17a-c816f7918107"
      },
      "source": [
        "t = (1, 2, x)\n",
        "t"
      ],
      "execution_count": null,
      "outputs": [
        {
          "output_type": "execute_result",
          "data": {
            "image/png": "[encoded data removed]",
            "text/latex": "$$\\left ( 1, \\quad 2, \\quad x\\right )$$",
            "text/plain": [
              "(1, 2, x)"
            ]
          },
          "metadata": {
            "tags": []
          },
          "execution_count": 46
        }
      ]
    },
    {
      "cell_type": "code",
      "metadata": {
        "id": "leh-_FhksDei",
        "colab_type": "code",
        "colab": {
          "base_uri": "https://localhost:8080/",
          "height": 38
        },
        "outputId": "a6fedefc-2daa-4e12-ea95-0269126b55be"
      },
      "source": [
        "(x,)"
      ],
      "execution_count": null,
      "outputs": [
        {
          "output_type": "execute_result",
          "data": {
            "image/png": "[encoded data removed]",
            "text/latex": "$$\\left ( x\\right )$$",
            "text/plain": [
              "(x,)"
            ]
          },
          "metadata": {
            "tags": []
          },
          "execution_count": 47
        }
      ]
    },
    {
      "cell_type": "code",
      "metadata": {
        "id": "_WNqwSTVFdZw",
        "colab_type": "code",
        "colab": {
          "base_uri": "https://localhost:8080/",
          "height": 34
        },
        "outputId": "4483475b-4418-4974-87a6-78782cba7eb6"
      },
      "source": [
        "type ((x,))"
      ],
      "execution_count": 75,
      "outputs": [
        {
          "output_type": "execute_result",
          "data": {
            "text/plain": [
              "tuple"
            ]
          },
          "metadata": {
            "tags": []
          },
          "execution_count": 75
        }
      ]
    },
    {
      "cell_type": "code",
      "metadata": {
        "id": "boy_Xh8VsDel",
        "colab_type": "code",
        "colab": {
          "base_uri": "https://localhost:8080/",
          "height": 38
        },
        "outputId": "a728eac2-f7ca-4834-af30-4e2d358b28a1"
      },
      "source": [
        "(x)"
      ],
      "execution_count": null,
      "outputs": [
        {
          "output_type": "execute_result",
          "data": {
            "image/png": "[encoded data removed]",
            "text/latex": "$$x$$",
            "text/plain": [
              "x"
            ]
          },
          "metadata": {
            "tags": []
          },
          "execution_count": 48
        }
      ]
    },
    {
      "cell_type": "code",
      "metadata": {
        "id": "itLGZPtXsDeo",
        "colab_type": "code",
        "colab": {
          "base_uri": "https://localhost:8080/",
          "height": 38
        },
        "outputId": "4d17ff57-492b-4cef-ad60-14626f2c3e98"
      },
      "source": [
        "integrate(x**2, (x, 0, 1))"
      ],
      "execution_count": null,
      "outputs": [
        {
          "output_type": "execute_result",
          "data": {
            "image/png": "[encoded data removed]",
            "text/latex": "$$\\frac{1}{3}$$",
            "text/plain": [
              "1/3"
            ]
          },
          "metadata": {
            "tags": []
          },
          "execution_count": 49
        }
      ]
    },
    {
      "cell_type": "code",
      "metadata": {
        "id": "-OgKG-qlFrHq",
        "colab_type": "code",
        "colab": {}
      },
      "source": [
        "integrate?"
      ],
      "execution_count": 76,
      "outputs": []
    },
    {
      "cell_type": "code",
      "metadata": {
        "id": "GipcvYN3sDer",
        "colab_type": "code",
        "colab": {
          "base_uri": "https://localhost:8080/",
          "height": 41
        },
        "outputId": "2dd9f337-46a7-4d6c-b3dd-36da293ea22e"
      },
      "source": [
        "Integral(x**2, [x, 0, 1])"
      ],
      "execution_count": null,
      "outputs": [
        {
          "output_type": "execute_result",
          "data": {
            "image/png": "[encoded data removed]",
            "text/latex": "$$\\int_{0}^{1} x^{2}\\, dx$$",
            "text/plain": [
              "1      \n",
              "⌠      \n",
              "⎮  2   \n",
              "⎮ x  dx\n",
              "⌡      \n",
              "0      "
            ]
          },
          "metadata": {
            "tags": []
          },
          "execution_count": 50
        }
      ]
    },
    {
      "cell_type": "markdown",
      "metadata": {
        "id": "rie3yeWOsDev",
        "colab_type": "text"
      },
      "source": [
        "# キーワード引数 keyword argumebnts"
      ]
    },
    {
      "cell_type": "code",
      "metadata": {
        "id": "s0s4Z-otsDev",
        "colab_type": "code",
        "colab": {
          "base_uri": "https://localhost:8080/",
          "height": 38
        },
        "outputId": "95e339d4-b640-4639-8296-b3f6af229cad"
      },
      "source": [
        "sqrt(x**2)"
      ],
      "execution_count": null,
      "outputs": [
        {
          "output_type": "execute_result",
          "data": {
            "image/png": "[encoded data removed]",
            "text/latex": "$$\\sqrt{x^{2}}$$",
            "text/plain": [
              "   ____\n",
              "  ╱  2 \n",
              "╲╱  x  "
            ]
          },
          "metadata": {
            "tags": []
          },
          "execution_count": 51
        }
      ]
    },
    {
      "cell_type": "code",
      "metadata": {
        "id": "maaA7hsosDey",
        "colab_type": "code",
        "colab": {
          "base_uri": "https://localhost:8080/",
          "height": 38
        },
        "outputId": "c7706e89-b79d-4e0d-a875-e15bf58054b0"
      },
      "source": [
        "x = symbols('x', positive=True)\n",
        "sqrt(x**2)"
      ],
      "execution_count": null,
      "outputs": [
        {
          "output_type": "execute_result",
          "data": {
            "image/png": "[encoded data removed]",
            "text/latex": "$$x$$",
            "text/plain": [
              "x"
            ]
          },
          "metadata": {
            "tags": []
          },
          "execution_count": 52
        }
      ]
    },
    {
      "cell_type": "code",
      "metadata": {
        "id": "KD0Mp_ogsDe5",
        "colab_type": "code",
        "colab": {
          "base_uri": "https://localhost:8080/",
          "height": 38
        },
        "outputId": "7347e80f-5e30-46b8-c2e6-0545ea520823"
      },
      "source": [
        "x, y, z, m, n = symbols('x y z m n')\n",
        "x**n*x**m*y**n*y**m"
      ],
      "execution_count": null,
      "outputs": [
        {
          "output_type": "execute_result",
          "data": {
            "image/png": "[encoded data removed]",
            "text/latex": "$$x^{m} x^{n} y^{m} y^{n}$$",
            "text/plain": [
              " m  n  m  n\n",
              "x ⋅x ⋅y ⋅y "
            ]
          },
          "metadata": {
            "tags": []
          },
          "execution_count": 53
        }
      ]
    },
    {
      "cell_type": "code",
      "metadata": {
        "id": "jKgZiQMqsDe9",
        "colab_type": "code",
        "colab": {
          "base_uri": "https://localhost:8080/",
          "height": 38
        },
        "outputId": "8ea29495-1027-476c-aea2-4fad1d608436"
      },
      "source": [
        "powsimp(x**n*x**m*y**n*y**m)"
      ],
      "execution_count": null,
      "outputs": [
        {
          "output_type": "execute_result",
          "data": {
            "image/png": "[encoded data removed]",
            "text/latex": "$$x^{m + n} y^{m + n}$$",
            "text/plain": [
              " m + n  m + n\n",
              "x     ⋅y     "
            ]
          },
          "metadata": {
            "tags": []
          },
          "execution_count": 54
        }
      ]
    },
    {
      "cell_type": "code",
      "metadata": {
        "id": "aXqFn-SNsDfE",
        "colab_type": "code",
        "colab": {
          "base_uri": "https://localhost:8080/",
          "height": 38
        },
        "outputId": "fd79d2f6-2fcf-4d96-8bf2-6924e36b0e05"
      },
      "source": [
        "simplify(x**n*x**m*y**n*y**m)"
      ],
      "execution_count": null,
      "outputs": [
        {
          "output_type": "execute_result",
          "data": {
            "image/png": "[encoded data removed]",
            "text/latex": "$$x^{m + n} y^{m + n}$$",
            "text/plain": [
              " m + n  m + n\n",
              "x     ⋅y     "
            ]
          },
          "metadata": {
            "tags": []
          },
          "execution_count": 55
        }
      ]
    },
    {
      "cell_type": "code",
      "metadata": {
        "id": "RlO4UJwgsDfH",
        "colab_type": "code",
        "colab": {
          "base_uri": "https://localhost:8080/",
          "height": 39
        },
        "outputId": "de10395c-9d89-48e5-ca02-bb6b4616fbcb"
      },
      "source": [
        "powsimp(x**n*x**m*y**n*y**m, combine='all', force=True)"
      ],
      "execution_count": null,
      "outputs": [
        {
          "output_type": "execute_result",
          "data": {
            "image/png": "[encoded data removed]",
            "text/latex": "$$\\left(x y\\right)^{m + n}$$",
            "text/plain": [
              "     m + n\n",
              "(x⋅y)     "
            ]
          },
          "metadata": {
            "tags": []
          },
          "execution_count": 56
        }
      ]
    },
    {
      "cell_type": "code",
      "metadata": {
        "id": "tjWYWGjWsDfN",
        "colab_type": "code",
        "colab": {
          "base_uri": "https://localhost:8080/",
          "height": 38
        },
        "outputId": "6df18c5d-33ee-4bdd-9b83-278abd0469ce"
      },
      "source": [
        "powsimp(x**n*x**m*y**n*y**m, combine='exp')"
      ],
      "execution_count": null,
      "outputs": [
        {
          "output_type": "execute_result",
          "data": {
            "image/png": "[encoded data removed]",
            "text/latex": "$$x^{m + n} y^{m + n}$$",
            "text/plain": [
              " m + n  m + n\n",
              "x     ⋅y     "
            ]
          },
          "metadata": {
            "tags": []
          },
          "execution_count": 57
        }
      ]
    },
    {
      "cell_type": "code",
      "metadata": {
        "id": "_jPFYlN_sDfR",
        "colab_type": "code",
        "colab": {
          "base_uri": "https://localhost:8080/",
          "height": 38
        },
        "outputId": "8daced24-6226-46cf-e6c0-5ed1d370268e"
      },
      "source": [
        "powsimp(x**n*x**m*y**n*y**m, combine='base', force=True)"
      ],
      "execution_count": null,
      "outputs": [
        {
          "output_type": "execute_result",
          "data": {
            "image/png": "[encoded data removed]",
            "text/latex": "$$\\left(x y\\right)^{m} \\left(x y\\right)^{n}$$",
            "text/plain": [
              "     m      n\n",
              "(x⋅y) ⋅(x⋅y) "
            ]
          },
          "metadata": {
            "tags": []
          },
          "execution_count": 58
        }
      ]
    },
    {
      "cell_type": "markdown",
      "metadata": {
        "id": "4j1hJKRcsDfU",
        "colab_type": "text"
      },
      "source": [
        "# 指数の簡素化 powsimp\n",
        "\n",
        "powsimp?\n",
        "\n",
        "powsimp??\n",
        "\n",
        "を読む。"
      ]
    },
    {
      "cell_type": "code",
      "metadata": {
        "id": "veX6vdjwsDfV",
        "colab_type": "code",
        "colab": {
          "base_uri": "https://localhost:8080/",
          "height": 38
        },
        "outputId": "1e48d0c7-35b6-421c-ed74-d944c8c54cfd"
      },
      "source": [
        "powsimp(x**y*x**z*y**z, combine='all')"
      ],
      "execution_count": null,
      "outputs": [
        {
          "output_type": "execute_result",
          "data": {
            "image/png": "[encoded data removed]",
            "text/latex": "$$x^{y + z} y^{z}$$",
            "text/plain": [
              " y + z  z\n",
              "x     ⋅y "
            ]
          },
          "metadata": {
            "tags": []
          },
          "execution_count": 59
        }
      ]
    },
    {
      "cell_type": "code",
      "metadata": {
        "id": "I5XIDfc-GjSk",
        "colab_type": "code",
        "colab": {}
      },
      "source": [
        "powsimp?"
      ],
      "execution_count": 79,
      "outputs": []
    },
    {
      "cell_type": "markdown",
      "metadata": {
        "id": "NQyQ5II4sDfa",
        "colab_type": "text"
      },
      "source": [
        "######  next\n",
        "ここまででsympy documentationのtutorialとgotchas and pitfallsを読み終わった。\n",
        "\n",
        "nextボタンを押したらsympy user's guideになった。  \n",
        "これはこれで面白そうというか勉強になるのだろうが、計画としてはmath with pythonに戻る予定である。  \n",
        "math with pythonがすばらしい本というわけではない。  \n",
        "jupyterでsympyをやりたいのだから、むしろネットでいろりろ検索してなでた方がいいと思う。  \n",
        "\n",
        "というわけですこし寄り道をします。\n",
        "\n",
        "あと、jupyterの本を買ったのだが、bokehの本なので、とりあえずsympyではない。\n"
      ]
    },
    {
      "cell_type": "markdown",
      "metadata": {
        "id": "b7PcTYLpsDfb",
        "colab_type": "text"
      },
      "source": [
        "#### networkxを触ってみる\n",
        "\n",
        "NetworkXでQiitaのタグ関係図を描く  \n",
        "というのを追いかけたのだが、バージョンが合わないみたいでしっぱいしました。  \n",
        "とりあえず、消そう。\n",
        "\n",
        "NetworkX 2.0の基礎的な使い方まとめ  \n",
        "というのを写経してみよう。"
      ]
    },
    {
      "cell_type": "code",
      "metadata": {
        "id": "JXEhx_izsDfc",
        "colab_type": "code",
        "colab": {}
      },
      "source": [
        "import networkx as nx\n",
        "\n",
        "G = nx.DiGraph()  # 有向グラフ (Directed Graph)\n",
        "\n",
        "# 頂点の追加\n",
        "G.add_node(1)                \n",
        "G.add_nodes_from([3, 4, 5])\n",
        "\n",
        "# 辺の追加 (頂点も必要に応じて追加されます)\n",
        "G.add_edge(1, 2)                                    \n",
        "G.add_edges_from([(1, 3), (2, 5), (3, 4), (4, 5)])\n",
        "\n",
        "# 辺の削除\n",
        "G.remove_edge(3, 4)                    \n",
        "G.remove_edges_from([(1, 3), (2, 5)])\n",
        "\n",
        "# 頂点の削除 (削除された頂点に接続されている辺も削除されます)\n",
        "G.remove_node(5)\n",
        "G.remove_nodes_from([3, 4])\n",
        "\n",
        "# 指定したパス上の頂点と辺を追加\n",
        "G.add_path([1, 2, 3, 4, 5])  # 1 → 2 → 3 → 4 → 5\n",
        "\n",
        "# 指定した閉路上の頂点と辺を追加\n",
        "G.add_cycle([1, 2, 3, 4, 5])  # 1 → 2 → 3 → 4 → 5 → 1\n",
        "\n",
        "# 放射状に頂点と辺を追加\n",
        "G.add_star([1, 2, 3, 4, 5])  # 1 → 2, 1 → 3, 1 → 4, 1 → 5"
      ],
      "execution_count": null,
      "outputs": []
    },
    {
      "cell_type": "code",
      "metadata": {
        "id": "Szy7vjhWsDff",
        "colab_type": "code",
        "colab": {}
      },
      "source": [
        "import matplotlib.pyplot as plt\n",
        "import networkx as nx\n",
        "\n",
        "G = nx.DiGraph()\n",
        "G.add_path([3, 5, 4, 1, 0, 2, 7, 8, 9, 6])\n",
        "G.add_path([3, 0, 6, 4, 2, 7, 1, 9, 8, 5])\n",
        "\n",
        "nx.draw_networkx(G)\n",
        "plt.show()\n"
      ],
      "execution_count": null,
      "outputs": []
    },
    {
      "cell_type": "code",
      "metadata": {
        "id": "1tGaw_yysDfi",
        "colab_type": "code",
        "colab": {}
      },
      "source": [
        "import networkx as nx\n",
        "import matplotlib.pyplot as plt\n",
        "%matplotlib inline\n",
        "\n",
        "G = nx.DiGraph()\n",
        "G.add_path([3, 5, 4, 1, 0, 2, 7, 8, 9, 6])\n",
        "G.add_path([3, 0, 6, 4, 2, 7, 1, 9, 8, 5])\n",
        "\n",
        "\n",
        "nx.nx_agraph.view_pygraphviz(G, prog='fdp')  # pygraphvizが必要"
      ],
      "execution_count": null,
      "outputs": []
    },
    {
      "cell_type": "code",
      "metadata": {
        "scrolled": true,
        "id": "mcSHPrR1sDfl",
        "colab_type": "code",
        "colab": {}
      },
      "source": [
        "%lsmagic"
      ],
      "execution_count": null,
      "outputs": []
    },
    {
      "cell_type": "code",
      "metadata": {
        "scrolled": true,
        "id": "Fs85kShUsDfo",
        "colab_type": "code",
        "colab": {}
      },
      "source": [
        "%time print (\"do ou have time?\")"
      ],
      "execution_count": null,
      "outputs": []
    },
    {
      "cell_type": "code",
      "metadata": {
        "id": "vUuOFTrvsDfr",
        "colab_type": "code",
        "colab": {}
      },
      "source": [
        "import pygraphviz as pgv\n",
        "from IPython.display import Image\n",
        "\n",
        "def draw(dot):\n",
        "    return Image(pgv.AGraph(dot).draw(format='png', prog='dot'))\n",
        "\n",
        "g1 = \"\"\"digraph top {\n",
        "   a -> b -> c;\n",
        "}\"\"\"\n",
        "draw(g1)"
      ],
      "execution_count": null,
      "outputs": []
    },
    {
      "cell_type": "code",
      "metadata": {
        "id": "fzfflz_VsDft",
        "colab_type": "code",
        "colab": {}
      },
      "source": [
        "class Thing():\n",
        "    def _repr_html_(self):\n",
        "        return \"\"\"<h3 style=\"color:blue; text-align:center\">Ok. Hi , there!!!</h3>\"\"\"\n",
        "\n",
        "thing = Thing()\n",
        "thing"
      ],
      "execution_count": null,
      "outputs": []
    },
    {
      "cell_type": "code",
      "metadata": {
        "id": "Pt2_16aysDfw",
        "colab_type": "code",
        "colab": {}
      },
      "source": [
        "%matplotlib inline"
      ],
      "execution_count": null,
      "outputs": []
    },
    {
      "cell_type": "code",
      "metadata": {
        "id": "p3OwOGHpsDfz",
        "colab_type": "code",
        "colab": {}
      },
      "source": [
        "import seaborn as sns\n",
        "sns.set()\n",
        "\n",
        "df = sns.load_dataset(\"iris\")\n",
        "sns.pairplot(df,hue=\"species\")"
      ],
      "execution_count": null,
      "outputs": []
    },
    {
      "cell_type": "code",
      "metadata": {
        "id": "c8WXT20AsDf1",
        "colab_type": "code",
        "colab": {}
      },
      "source": [
        "import matplotlib.pyplot as plt\n",
        "import networkx as nx\n",
        "\n",
        "'''\n",
        "digraph G {\n",
        "    rankdir = LR;\n",
        "    hello -> world;\n",
        "    goodby -> cruel -> world;\n",
        "    world -> of -> warcraft;\n",
        "}\n",
        "'''\n",
        "import graphviz\n",
        "G.edge('hello', 'world')\n",
        "G.edge('goodby','cruel','world')\n",
        "G.edge('cruel','world')\n",
        "\n",
        "G"
      ],
      "execution_count": null,
      "outputs": []
    },
    {
      "cell_type": "code",
      "metadata": {
        "id": "HfLIbKxmsDf3",
        "colab_type": "code",
        "colab": {}
      },
      "source": [
        "'''from ipywidgets import interact\n",
        "\n",
        "@interact\n",
        "def echo(input=\"Hello, world!\", times=[1,5,10]):\n",
        "    return (input + \" \")*times'''"
      ],
      "execution_count": null,
      "outputs": []
    },
    {
      "cell_type": "code",
      "metadata": {
        "id": "54puI_74sDf9",
        "colab_type": "code",
        "colab": {}
      },
      "source": [
        "'''import matplotlib.pyplot as plt\n",
        "\n",
        "@interact\n",
        "def polynomial(split=[0,100]):\n",
        "    plt.pie([split/100.0, 1.0-split/100.0], labels=[\"Mont\"])\n",
        "    plt.show()\n",
        "   '''                                                 "
      ],
      "execution_count": null,
      "outputs": []
    },
    {
      "cell_type": "code",
      "metadata": {
        "id": "1FteTO4usDgB",
        "colab_type": "code",
        "colab": {}
      },
      "source": [
        "name = input(\"nter  \")\n",
        "print (name)"
      ],
      "execution_count": null,
      "outputs": []
    },
    {
      "cell_type": "code",
      "metadata": {
        "id": "3QrSB3WZsDgF",
        "colab_type": "code",
        "colab": {}
      },
      "source": [
        "print(\"hai\")"
      ],
      "execution_count": null,
      "outputs": []
    },
    {
      "cell_type": "code",
      "metadata": {
        "id": "FZFCAehMsDgI",
        "colab_type": "code",
        "colab": {}
      },
      "source": [
        "# reading 実践入門 p.39 文字化けするグラフ\n",
        "import numpy as np\n",
        "from matplotlib import pyplot as plt\n",
        "np.random.seed(0)\n",
        "x = range(5)\n",
        "y = 10 + 5 * np.random.randn(5)\n",
        "fig = plt.figure()\n",
        "ax = fig.add_subplot(111)\n",
        "ax.set_title('日本語を指定したタイトル')\n",
        "ax.bar(x,y)\n",
        "plt.show()"
      ],
      "execution_count": null,
      "outputs": []
    },
    {
      "cell_type": "code",
      "metadata": {
        "id": "ArV2VEk7sDgM",
        "colab_type": "code",
        "colab": {}
      },
      "source": [
        "your_name = 'Jupyter'\n",
        "def hello(name):\n",
        "    print('hello {0} !!'.format(name))\n",
        "hello(your_name)"
      ],
      "execution_count": null,
      "outputs": []
    },
    {
      "cell_type": "code",
      "metadata": {
        "id": "fUH2-hYVsDgQ",
        "colab_type": "code",
        "colab": {}
      },
      "source": [
        "hello('Notebook')"
      ],
      "execution_count": null,
      "outputs": []
    },
    {
      "cell_type": "code",
      "metadata": {
        "id": "AZvdMZoOsDgT",
        "colab_type": "code",
        "colab": {}
      },
      "source": [
        "from math import *\n",
        "type(sqrt(4))"
      ],
      "execution_count": null,
      "outputs": []
    },
    {
      "cell_type": "code",
      "metadata": {
        "id": "MtpCW1qwsDgW",
        "colab_type": "code",
        "colab": {}
      },
      "source": [
        "from sympy import *\n",
        "type(sqrt(4))"
      ],
      "execution_count": null,
      "outputs": []
    },
    {
      "cell_type": "code",
      "metadata": {
        "id": "YThYdtr1sDgZ",
        "colab_type": "code",
        "colab": {}
      },
      "source": [
        "# help('FORMATTING')"
      ],
      "execution_count": null,
      "outputs": []
    },
    {
      "cell_type": "code",
      "metadata": {
        "id": "raCsbt1IsDgb",
        "colab_type": "code",
        "colab": {}
      },
      "source": [
        "'''\n",
        "import time\n",
        "\n",
        "for i in range(10):\n",
        "    print(i)\n",
        "    time.sleep(5)\n",
        "'''    "
      ],
      "execution_count": null,
      "outputs": []
    },
    {
      "cell_type": "markdown",
      "metadata": {
        "id": "a8tKjUilsDgf",
        "colab_type": "text"
      },
      "source": [
        "###### p.70 markdown latex mathjax\n",
        "\n",
        "$$\n",
        "\\sqrt{2x-1} + (3+x)^3\n",
        "$$\n",
        "\n",
        "\\begin{align}\n",
        "E=mc^2\n",
        "\\end{align}\n",
        "\n",
        "インラインは$\\sqrt{a^2 + b^2}$記述できます。"
      ]
    },
    {
      "cell_type": "code",
      "metadata": {
        "id": "u1Szy8smsDgf",
        "colab_type": "code",
        "colab": {}
      },
      "source": [
        "# sinカーブ\n",
        "%matplotlib inline\n",
        "import numpy as np\n",
        "import matplotlib.pyplot as plt\n",
        "x = np.arange(0,10,0.2)\n",
        "y = np.sin(x)\n",
        "fig = plt.figure()\n",
        "ax = fig.add_subplot(111)\n",
        "ax.plot(x,y)\n",
        "plt.show\n"
      ],
      "execution_count": null,
      "outputs": []
    },
    {
      "cell_type": "code",
      "metadata": {
        "id": "L46Mgia1sDgj",
        "colab_type": "code",
        "colab": {}
      },
      "source": [
        "# sinカーブ # need kernel restart\n",
        "%matplotlib notebook \n",
        "import numpy as np\n",
        "import matplotlib.pyplot as plt\n",
        "x = np.arange(0,10,0.2)\n",
        "y = np.sin(x)\n",
        "fig = plt.figure()\n",
        "ax = fig.add_subplot(111)\n",
        "ax.plot(x,y)\n",
        "plt.show"
      ],
      "execution_count": null,
      "outputs": []
    },
    {
      "cell_type": "markdown",
      "metadata": {
        "id": "DD3H1Ux_sDgq",
        "colab_type": "text"
      },
      "source": [
        "###### nbviewer.jupyter.org\n",
        "githubでは表示されないグラフが表示される  \n",
        "とか  \n",
        "bokehはjavascriptに依存していて、githubはjavascriptは動作しない。  \n",
        "なるほど"
      ]
    },
    {
      "cell_type": "markdown",
      "metadata": {
        "id": "itYBUi17sDgr",
        "colab_type": "text"
      },
      "source": [
        "######  pandas\n",
        "git clone https://github.com/practical-jupyter/sample-data.git"
      ]
    },
    {
      "cell_type": "code",
      "metadata": {
        "id": "kwwYhCMEsDgs",
        "colab_type": "code",
        "colab": {}
      },
      "source": [
        "import os\n",
        "base_url = 'https://raw.githubusercontent.com/practical-jupyter/sample-data/master/anime/'\n",
        "anime_csv = os.path.join(base_url, 'anime.csv')\n",
        "anime_csv"
      ],
      "execution_count": null,
      "outputs": []
    },
    {
      "cell_type": "code",
      "metadata": {
        "id": "dxNejNttsDgu",
        "colab_type": "code",
        "colab": {}
      },
      "source": [
        "import pandas as pd\n",
        "anime_csv = os.path.join(base_url, 'anime.csv')\n",
        "pd.read_csv(anime_csv).head()\n"
      ],
      "execution_count": null,
      "outputs": []
    },
    {
      "cell_type": "code",
      "metadata": {
        "id": "5Mdvxw0WsDgw",
        "colab_type": "code",
        "colab": {}
      },
      "source": [
        "# 前処理の結果\n",
        "anime_master_csv = os.path.join(base_url, 'anime_master.csv')\n",
        "pd.read_csv(anime_master_csv).head()"
      ],
      "execution_count": null,
      "outputs": []
    },
    {
      "cell_type": "code",
      "metadata": {
        "id": "DSAMugr1sDgz",
        "colab_type": "code",
        "colab": {}
      },
      "source": [
        "# ジャンル別に加工\n",
        "anime_split_genre_csv = os.path.join(base_url, 'anime_split_genre.csv')\n",
        "pd.read_csv(anime_split_genre_csv).head()"
      ],
      "execution_count": null,
      "outputs": []
    },
    {
      "cell_type": "code",
      "metadata": {
        "id": "zmmMFIzbsDg1",
        "colab_type": "code",
        "colab": {}
      },
      "source": [
        "# メンバ数上位10\n",
        "anime_genre_top10_csv = os.path.join(base_url, 'anime_genre_top10.csv')\n",
        "pd.read_csv(anime_genre_top10_csv).head()"
      ],
      "execution_count": null,
      "outputs": []
    },
    {
      "cell_type": "code",
      "metadata": {
        "id": "54A5FfMysDg3",
        "colab_type": "code",
        "colab": {}
      },
      "source": [
        "# クロス集計\n",
        "anime_genre_top10_pivoted_csv = os.path.join(base_url, 'anime_genre_top10_pivoted.csv')\n",
        "pd.read_csv(anime_genre_top10_pivoted_csv).head()\n"
      ],
      "execution_count": null,
      "outputs": []
    },
    {
      "cell_type": "code",
      "metadata": {
        "id": "HaPBp0hysDg6",
        "colab_type": "code",
        "colab": {}
      },
      "source": [
        "# 株価データ\n",
        "anime_stock_price_csv = os.path.join(base_url, 'anime_stock_price.csv')\n",
        "pd.read_csv(anime_stock_price_csv, index_col=0, parse_dates=['Date']).head()"
      ],
      "execution_count": null,
      "outputs": []
    },
    {
      "cell_type": "code",
      "metadata": {
        "id": "23owIL5jsDg8",
        "colab_type": "code",
        "colab": {}
      },
      "source": [
        "# 騰落率\n",
        "anime_stock_returns_csv = os.path.join(base_url, 'anime_stock_returns.csv')\n",
        "pd.read_csv(anime_stock_returns_csv, index_col=0, parse_dates=['Date']).head()"
      ],
      "execution_count": null,
      "outputs": []
    },
    {
      "cell_type": "code",
      "metadata": {
        "id": "S_1-wk6fsDg_",
        "colab_type": "code",
        "colab": {}
      },
      "source": [
        "# 4本値\n",
        "t4816_csv = os.path.join(base_url, '4816.csv')\n",
        "pd.read_csv(t4816_csv, index_col=0, parse_dates=['Date']).head()"
      ],
      "execution_count": null,
      "outputs": []
    },
    {
      "cell_type": "markdown",
      "metadata": {
        "id": "OOvC6TsMsDhB",
        "colab_type": "text"
      },
      "source": [
        "    ###### series"
      ]
    },
    {
      "cell_type": "code",
      "metadata": {
        "id": "D0bpX5u3sDhB",
        "colab_type": "code",
        "colab": {}
      },
      "source": [
        "x = symbols('x')\n",
        "a = x**3\n",
        "a"
      ],
      "execution_count": null,
      "outputs": []
    },
    {
      "cell_type": "code",
      "metadata": {
        "id": "0UFH09bdsDhE",
        "colab_type": "code",
        "colab": {}
      },
      "source": [
        "from sympy import *\n",
        "degree(a,x)"
      ],
      "execution_count": null,
      "outputs": []
    },
    {
      "cell_type": "code",
      "metadata": {
        "id": "tuDa3qwpsDhG",
        "colab_type": "code",
        "colab": {}
      },
      "source": [
        ""
      ],
      "execution_count": null,
      "outputs": []
    },
    {
      "cell_type": "code",
      "metadata": {
        "id": "Iml4B3WrsDhI",
        "colab_type": "code",
        "colab": {}
      },
      "source": [
        ""
      ],
      "execution_count": null,
      "outputs": []
    },
    {
      "cell_type": "code",
      "metadata": {
        "id": "aiWn5Z4DsDhK",
        "colab_type": "code",
        "colab": {}
      },
      "source": [
        ""
      ],
      "execution_count": null,
      "outputs": []
    },
    {
      "cell_type": "code",
      "metadata": {
        "id": "lXKSEcEfsDhO",
        "colab_type": "code",
        "colab": {}
      },
      "source": [
        ""
      ],
      "execution_count": null,
      "outputs": []
    },
    {
      "cell_type": "code",
      "metadata": {
        "id": "BkRj5288sDhS",
        "colab_type": "code",
        "colab": {}
      },
      "source": [
        ""
      ],
      "execution_count": null,
      "outputs": []
    }
  ]
}