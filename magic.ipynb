{
  "nbformat": 4,
  "nbformat_minor": 0,
  "metadata": {
    "colab": {
      "name": "magic.ipynb",
      "provenance": [],
      "toc_visible": true,
      "authorship_tag": "ABX9TyNhkzVsrtRyxFxMVX0jXhq1",
      "include_colab_link": true
    },
    "kernelspec": {
      "name": "python3",
      "display_name": "Python 3"
    }
  },
  "cells": [
    {
      "cell_type": "markdown",
      "metadata": {
        "id": "view-in-github",
        "colab_type": "text"
      },
      "source": [
        "<a href=\"https://colab.research.google.com/github/kalz2q/mycolabnotebooks/blob/master/magic.ipynb\" target=\"_parent\"><img src=\"https://colab.research.google.com/assets/colab-badge.svg\" alt=\"Open In Colab\"/></a>"
      ]
    },
    {
      "cell_type": "markdown",
      "metadata": {
        "id": "64r9ixsrxicI",
        "colab_type": "text"
      },
      "source": [
        "# magic.ipynb"
      ]
    },
    {
      "cell_type": "markdown",
      "metadata": {
        "id": "QXen3SNeLmll",
        "colab_type": "text"
      },
      "source": [
        "# はじめに\n",
        "\n",
        "失敗作なので消していいけれど、云々。\n",
        "\n",
        "セルマジックについてはいまのところ材料は2つあって、ひとつは\n",
        "\n",
        "The cell magics in IPython\n",
        "https://nbviewer.jupyter.org/github/ipython/ipython/blob/1.x/examples/notebooks/Cell%20Magics.ipynb\n",
        "\n",
        "もう1つは Overview of Colaboratory Features\n",
        "https://colab.research.google.com/notebooks/basic_features_overview.ipynb#scrollTo=qM4myQGfQboQ\n",
        "\n",
        "で、このファイルは020magic.ipynbで\n",
        "\n",
        "%lsmagic\n",
        "\n",
        "と\n",
        "\n",
        "%(magicname)?\n",
        "\n",
        "で作っているみたいだが、数多くのmagicについて、どうやってdocstringを得たのだろう。\n",
        "\n",
        "自分でもわからない。\n",
        "\n",
        "あとの方に`%time`を使った例というか実験が載っているが、これはどこかから持ってきたのだろう。\n",
        "\n",
        "それより、'%javascript`や`%html`をもっと知りたい。\n",
        "\n",
        "多分、The cell magics in IPythonがよいだろう。 なので、別ファイルで云々。\n",
        "名前を考えよう。\n",
        "とりあえずcellmagic.ipynbでいいか。\n"
      ]
    },
    {
      "cell_type": "markdown",
      "metadata": {
        "id": "u2MyJU2b8VVS",
        "colab_type": "text"
      },
      "source": [
        "# %lsmagicと%lsmagic?\n",
        "`%lsmagic`でまずどんなコマンドがあるか確認"
      ]
    },
    {
      "cell_type": "code",
      "metadata": {
        "id": "Y4LwCIzSV_O5",
        "colab_type": "code",
        "cellView": "code",
        "colab": {
          "base_uri": "https://localhost:8080/",
          "height": 156
        },
        "outputId": "f234fcbf-2144-4a39-89b7-c6ea604d65f7"
      },
      "source": [
        "# まずどんなコマンドがあるか確認\n",
        "%lsmagic"
      ],
      "execution_count": null,
      "outputs": [
        {
          "output_type": "execute_result",
          "data": {
            "application/json": {
              "cell": {
                "prun": "ExecutionMagics",
                "file": "Other",
                "!": "OSMagics",
                "capture": "ExecutionMagics",
                "timeit": "ExecutionMagics",
                "script": "ScriptMagics",
                "pypy": "Other",
                "system": "OSMagics",
                "perl": "Other",
                "html": "DisplayMagics",
                "bash": "Other",
                "shell": "Other",
                "HTML": "Other",
                "python": "Other",
                "SVG": "Other",
                "javascript": "DisplayMagics",
                "bigquery": "Other",
                "js": "DisplayMagics",
                "writefile": "OSMagics",
                "ruby": "Other",
                "python3": "Other",
                "python2": "Other",
                "latex": "DisplayMagics",
                "sx": "OSMagics",
                "svg": "DisplayMagics",
                "sh": "Other",
                "time": "ExecutionMagics",
                "debug": "ExecutionMagics"
              },
              "line": {
                "psource": "NamespaceMagics",
                "logstart": "LoggingMagics",
                "popd": "OSMagics",
                "tensorflow_version": "Other",
                "loadpy": "CodeMagics",
                "colors": "BasicMagics",
                "who_ls": "NamespaceMagics",
                "lf": "Other",
                "ll": "Other",
                "pprint": "BasicMagics",
                "lk": "Other",
                "ls": "Other",
                "save": "CodeMagics",
                "tb": "ExecutionMagics",
                "lx": "Other",
                "pylab": "PylabMagics",
                "killbgscripts": "ScriptMagics",
                "quickref": "BasicMagics",
                "magic": "BasicMagics",
                "dhist": "OSMagics",
                "edit": "KernelMagics",
                "logstop": "LoggingMagics",
                "gui": "BasicMagics",
                "prun": "ExecutionMagics",
                "debug": "ExecutionMagics",
                "page": "BasicMagics",
                "logstate": "LoggingMagics",
                "ed": "Other",
                "pushd": "OSMagics",
                "timeit": "ExecutionMagics",
                "set_env": "OSMagics",
                "rehashx": "OSMagics",
                "hist": "Other",
                "qtconsole": "KernelMagics",
                "rm": "Other",
                "dirs": "OSMagics",
                "run": "ExecutionMagics",
                "reset_selective": "NamespaceMagics",
                "pinfo2": "NamespaceMagics",
                "matplotlib": "PylabMagics",
                "unload_ext": "ExtensionMagics",
                "doctest_mode": "BasicMagics",
                "logoff": "LoggingMagics",
                "reload_ext": "ExtensionMagics",
                "pdb": "ExecutionMagics",
                "load": "CodeMagics",
                "lsmagic": "BasicMagics",
                "autosave": "KernelMagics",
                "cd": "OSMagics",
                "pastebin": "CodeMagics",
                "alias_magic": "BasicMagics",
                "cp": "Other",
                "autocall": "AutoMagics",
                "ldir": "Other",
                "bookmark": "OSMagics",
                "connect_info": "KernelMagics",
                "mkdir": "Other",
                "system": "OSMagics",
                "whos": "NamespaceMagics",
                "rmdir": "Other",
                "automagic": "AutoMagics",
                "store": "StoreMagics",
                "more": "KernelMagics",
                "shell": "Other",
                "pdef": "NamespaceMagics",
                "precision": "BasicMagics",
                "pinfo": "NamespaceMagics",
                "pwd": "OSMagics",
                "psearch": "NamespaceMagics",
                "reset": "NamespaceMagics",
                "recall": "HistoryMagics",
                "xdel": "NamespaceMagics",
                "xmode": "BasicMagics",
                "cat": "Other",
                "mv": "Other",
                "rerun": "HistoryMagics",
                "logon": "LoggingMagics",
                "history": "HistoryMagics",
                "pycat": "OSMagics",
                "pip": "Other",
                "unalias": "OSMagics",
                "env": "OSMagics",
                "load_ext": "ExtensionMagics",
                "config": "ConfigMagics",
                "profile": "BasicMagics",
                "pfile": "NamespaceMagics",
                "less": "KernelMagics",
                "who": "NamespaceMagics",
                "notebook": "BasicMagics",
                "man": "KernelMagics",
                "sx": "OSMagics",
                "macro": "ExecutionMagics",
                "clear": "KernelMagics",
                "alias": "OSMagics",
                "time": "ExecutionMagics",
                "sc": "OSMagics",
                "rep": "Other",
                "pdoc": "NamespaceMagics"
              }
            },
            "text/plain": [
              "Available line magics:\n",
              "%alias  %alias_magic  %autocall  %automagic  %autosave  %bookmark  %cat  %cd  %clear  %colors  %config  %connect_info  %cp  %debug  %dhist  %dirs  %doctest_mode  %ed  %edit  %env  %gui  %hist  %history  %killbgscripts  %ldir  %less  %lf  %lk  %ll  %load  %load_ext  %loadpy  %logoff  %logon  %logstart  %logstate  %logstop  %ls  %lsmagic  %lx  %macro  %magic  %man  %matplotlib  %mkdir  %more  %mv  %notebook  %page  %pastebin  %pdb  %pdef  %pdoc  %pfile  %pinfo  %pinfo2  %pip  %popd  %pprint  %precision  %profile  %prun  %psearch  %psource  %pushd  %pwd  %pycat  %pylab  %qtconsole  %quickref  %recall  %rehashx  %reload_ext  %rep  %rerun  %reset  %reset_selective  %rm  %rmdir  %run  %save  %sc  %set_env  %shell  %store  %sx  %system  %tb  %tensorflow_version  %time  %timeit  %unalias  %unload_ext  %who  %who_ls  %whos  %xdel  %xmode\n",
              "\n",
              "Available cell magics:\n",
              "%%!  %%HTML  %%SVG  %%bash  %%bigquery  %%capture  %%debug  %%file  %%html  %%javascript  %%js  %%latex  %%perl  %%prun  %%pypy  %%python  %%python2  %%python3  %%ruby  %%script  %%sh  %%shell  %%svg  %%sx  %%system  %%time  %%timeit  %%writefile\n",
              "\n",
              "Automagic is ON, % prefix IS NOT needed for line magics."
            ]
          },
          "metadata": {
            "tags": []
          },
          "execution_count": 3
        }
      ]
    },
    {
      "cell_type": "markdown",
      "metadata": {
        "id": "oD3OsZS6YLmq",
        "colab_type": "text"
      },
      "source": [
        "アウトプットを見てみよう。\n",
        "\n",
        "ラインマジックは以下のとおり。`lsmagic`もラインマジックである。\n",
        "\n",
        "%alias  %alias_magic  %autocall  %automagic  %autosave  %bookmark  %cat  %cd  %clear  %colors  %config  %connect_info  %cp  %debug  %dhist  %dirs  %doctest_mode  %ed  %edit  %env  %gui  %hist  %history  %killbgscripts  %ldir  %less  %lf  %lk  %ll  %load  %load_ext  %loadpy  %logoff  %logon  %logstart  %logstate  %logstop  %ls  %lsmagic  %lx  %macro  %magic  %man  %matplotlib  %mkdir  %more  %mv  %notebook  %page  %pastebin  %pdb  %pdef  %pdoc  %pfile  %pinfo  %pinfo2  %pip  %popd  %pprint  %precision  %profile  %prun  %psearch  %psource  %pushd  %pwd  %pycat  %pylab  %qtconsole  %quickref  %recall  %rehashx  %reload_ext  %rep  %rerun  %reset  %reset_selective  %rm  %rmdir  %run  %save  %sc  %set_env  %shell  %store  %sx  %system  %tb  %tensorflow_version  %time  %timeit  %unalias  %unload_ext  %who  %who_ls  %whos  %xdel  %xmode\n",
        "\n",
        "セルマジックは以下のとおり。\n",
        "\n",
        "%%!  %%HTML  %%SVG  %%bash  %%bigquery  %%capture  %%debug  %%file  %%html  %%javascript  %%js  %%latex  %%perl  %%prun  %%pypy  %%python  %%python2  %%python3  %%ruby  %%script  %%sh  %%shell  %%svg  %%sx  %%system  %%time  %%timeit  %%writefile\n",
        "\n",
        "`automagic`がオンのときは、ラインマジックに`%`は必要ないとのこと。まあ、どっちでもよい。=> `%automagic`コマンド自体がトグルスイッチ。明示的にオンとかオフとかにするときには、`on`、`off`、`1`、`0`、`True`、 `False`を引数として与える。\n"
      ]
    },
    {
      "cell_type": "markdown",
      "metadata": {
        "id": "SYLifCmsV2Qq",
        "colab_type": "text"
      },
      "source": [
        "## ヘルプコマンド\n",
        "マジックコマンドに`?`とか`??`をつけることで簡単な説明が得られる。仮にヘルプコマンドと呼ぼう。\n"
      ]
    },
    {
      "cell_type": "code",
      "metadata": {
        "id": "Qfq-lh8ED0x0",
        "colab_type": "code",
        "colab": {}
      },
      "source": [
        "# %lsmagic? とか %lsmagic?? とかやってみる\n",
        "# %lsmagic?"
      ],
      "execution_count": null,
      "outputs": []
    },
    {
      "cell_type": "markdown",
      "metadata": {
        "id": "bTKvxhAGVSxZ",
        "colab_type": "text"
      },
      "source": [
        "### magicコマンドのdocstring\n",
        "以下に各コマンドの`docstring`を示す。よくわからないので、英語のまま。\n",
        "\n",
        "セルコマンドには`%%javascript`とか`ruby`とかもあり、利用できそう。\n",
        "\n",
        "```\n",
        "%alias? Define an alias for a system command.\n",
        "%alias_magic? Create an alias for an existing line or cell magic.\n",
        "%autocall? Make functions callable without having to type parentheses.\n",
        "%automagic? Make magic functions callable without having to type the initial %.\n",
        "%autosave? Set the autosave interval in the notebook (in seconds).\n",
        "%bookmark? Manage IPython's bookmark system.\n",
        "%cat? Repr: <alias cat for 'cat'>\n",
        "%cd? Change the current working directory.\n",
        "%clear? Clear the terminal.\n",
        "%colors? Switch color scheme for prompts, info system and exception handlers.\n",
        "%config? configure IPython\n",
        "%connect_info? Print information for connecting other clients to this kernel\n",
        "%cp? Repr: <alias cp for 'cp'>\n",
        "%debug? Activate the interactive debugger.\n",
        "%dhist? Print your history of visited directories.\n",
        "%dirs? Return the current directory stack.\n",
        "%doctest_mode? Toggle doctest mode on and off.\n",
        "%ed? Alias for `%edit`.\n",
        "%edit? Bring up an editor and execute the resulting code.\n",
        "%env? Get, set, or list environment variables.\n",
        "%gui? Enable or disable IPython GUI event loop integration.\n",
        "%hist? Alias for `%history`.\n",
        "%history? Print input history (_i<n> variables), with most recent last.\n",
        "%killbgscripts? ill all BG processes started by %%script and its family.\n",
        "%ldir? Repr: <alias ldir for 'ls -F -o --color %l | grep /$'>\n",
        "%less? Show a file through the pager.\n",
        "%lf? Repr: <alias lf for 'ls -F -o --color %l | grep ^-'>\n",
        "%lk? Repr: <alias lk for 'ls -F -o --color %l | grep ^l'>\n",
        "%ll? Repr: <alias ll for 'ls -F -o --color'>\n",
        "%load? Load code into the current frontend.\n",
        "%load_ext? Load an IPython extension by its module name.\n",
        "%loadpy? Alias of `%load`\n",
        "%logoff? Temporarily stop logging.\n",
        "%logon? Restart logging.\n",
        "%logstart? Start logging anywhere in a session.\n",
        "%logstate? Print the status of the logging system.\n",
        "%logstop? Fully stop logging and close log file.\n",
        "%ls? Repr: <alias ls for 'ls -F --color'>\n",
        "%lsmagic? List currently available magic functions.\n",
        "%lx? Repr: <alias lx for 'ls -F -o --color %l | grep ^-..x'>\n",
        "%macro? Define a macro for future re-execution. It accepts ranges of history, filenames or string objects.\n",
        "%magic? Print information about the magic function system.\n",
        "%man? Find the man page for the given command and display in pager.\n",
        "%matplotlib? Set up matplotlib to work interactively.\n",
        "%mkdir? Repr: <alias mkdir for 'mkdir'>\n",
        "%more? Show a file through the pager.\n",
        "%mv? Repr: <alias mv for 'mv'>\n",
        "%notebook? Export and convert IPython notebooks.\n",
        "%page? Pretty print the object and display it through a pager.\n",
        "%pastebin? Upload code to Github's Gist paste bin, returning the URL.\n",
        "%pdb? Control the automatic calling of the pdb interactive debugger.\n",
        "%pdef? Print the call signature for any callable object.\n",
        "%pdoc? Print the docstring for an object.\n",
        "%pfile? Print (or run through pager) the file where an object is defined.\n",
        "%pinfo? Provide detailed information about an object.\n",
        "%pinfo2? Provide extra detailed information about an object.\n",
        "%pip? Install a package in the current kernel using pip.\n",
        "%popd? Change to directory popped off the top of the stack.\n",
        "%pprint? Toggle pretty printing on/off.\n",
        "%precision? Set floating point precision for pretty printing.\n",
        "%prun? Run a statement through the python code profiler.\n",
        "%psearch? Search for object in namespaces by wildcard.\n",
        "%psource? Print (or run through pager) the source code for an object.\n",
        "%pushd? lace the current dir on stack and change directory.\n",
        "%pwd? Return the current working directory path.\n",
        "%pycat? Show a syntax-highlighted file through a pag\n",
        "%pylab? Load numpy and matplotlib to work interactively.\n",
        "%qtconsole? Open a qtconsole connected to this kernel.\n",
        "%quickref? Show a quick reference sheet \n",
        "%recall? Repeat a command, or get command to input line for editing.\n",
        "%rehashx? Update the alias table with all executable files in $PATH.\n",
        "%reload_ext? Reload an IPython extension by its module name.\n",
        "%rep? Docstring: Alias for `%recall`.\n",
        "%rerun? Re-run previous input\n",
        "%reset? Resets the namespace by removing all names defined by the user, if called without arguments\n",
        "%reset_selective? Resets the namespace by removing names defined by the user.\n",
        "%rm? Repr: <alias rm for 'rm'>\n",
        "%rmdir? Repr: <alias rmdir for 'rmdir'>\n",
        "%run? Run the named file inside IPython as a program.\n",
        "%save? Save a set of lines or a macro to a given filename.\n",
        "%sc? Shell capture - run shell command and capture output (DEPRECATED use !).\n",
        "%set_env? Set environment variables. \n",
        "%shell? Runs a shell command, allowing input to be provided.\n",
        "%store? Lightweight persistence for python variables.\n",
        "%sx? Shell execute - run shell command and capture output (!! is short-hand).\n",
        "%system? Shell execute - run shell command and capture output (!! is short-hand).\n",
        "%tb? Print the last traceback with the currently active exception mode.\n",
        "%tensorflow_version? Implements the tensorflow_version line magic.\n",
        "%time? Time execution of a Python statement or expression.\n",
        "%timeit? Time execution of a Python statement or expression\n",
        "%unalias? Remove an alias\n",
        "%unload_ext? Unload an IPython extension by its module name.\n",
        "%who? Print all interactive variables, with some minimal formatting.\n",
        "%who_ls? Return a sorted list of all interactive variables.\n",
        "%whos? Like %who, but gives some extra information about each variable.\n",
        "%xdel? Delete a variable, trying to clear it from anywhere that IPython's machinery has references to it. \n",
        "%xmode? Switch modes for the exception handlers.\n",
        "\n",
        "%%HTML? Alias for `%%html`.\n",
        "%%SVG? Alias for `%%svg`.\n",
        "%%bash? %%bash script magic\n",
        "%%bigquery? Underlying function for bigquery cell magic\n",
        "%%capture? run the cell, capturing stdout, stderr, and IPython's rich display() calls.\n",
        "%%debug? Activate the interactive debugger.\n",
        "%%file? Alias for `%%writefile`.\n",
        "%%html? ender the cell as a block of HTML\n",
        "%%javascript? Run the cell block of Javascript code\n",
        "%%js? Alias of `%%javascript`\n",
        "%%latex? Render the cell as a block of latex\n",
        "%%perl? %%perl script magic\n",
        "%%prun? Run a statement through the python code profiler.\n",
        "%%pypy? %%pypy script magic\n",
        "%%python?  Run cells with python in a subprocess.\n",
        "%%python2? Run cells with python2 in a subprocess.\n",
        "%%python3? Run cells with python3 in a subprocess.\n",
        "%%ruby? Run cells with ruby in a subprocess.\n",
        "%%script? Run a cell via a shell command\n",
        "%%sh? Run cells with sh in a subprocess.\n",
        "%%shell? Run the cell via a shell command, allowing input to be provided.\n",
        "%%svg? Render the cell as an SVG literal\n",
        "%%sx? Shell execute - run shell command and capture output (!! is short-hand).\n",
        "%%system? Shell execute - run shell command and capture output (!! is short-hand).\n",
        "%%time? Time execution of a Python statement or expression.\n",
        "%%timeit? Time execution of a Python statement or expression\n",
        "%%writefile? Write the contents of the cell to a file.\n",
        "\n",
        "\n",
        "\n",
        "```"
      ]
    },
    {
      "cell_type": "markdown",
      "metadata": {
        "id": "uBl0EpCikwaO",
        "colab_type": "text"
      },
      "source": [
        "### %time を使ってみる。"
      ]
    },
    {
      "cell_type": "code",
      "metadata": {
        "id": "f0GbxFhPq4kE",
        "colab_type": "code",
        "colab": {
          "base_uri": "https://localhost:8080/",
          "height": 67
        },
        "outputId": "b3da1d32-a439-4f14-c0d9-fd851089cffe"
      },
      "source": [
        " %time sum(range(10000))"
      ],
      "execution_count": null,
      "outputs": [
        {
          "output_type": "stream",
          "text": [
            "CPU times: user 177 µs, sys: 41 µs, total: 218 µs\n",
            "Wall time: 220 µs\n"
          ],
          "name": "stdout"
        },
        {
          "output_type": "execute_result",
          "data": {
            "text/plain": [
              "49995000"
            ]
          },
          "metadata": {
            "tags": []
          },
          "execution_count": 181
        }
      ]
    },
    {
      "cell_type": "code",
      "metadata": {
        "id": "bboNa1ecrAqH",
        "colab_type": "code",
        "colab": {
          "base_uri": "https://localhost:8080/",
          "height": 34
        },
        "outputId": "7848100f-b29d-4fc3-ee85-1862e057dabe"
      },
      "source": [
        " %timeit sum(range(10000))"
      ],
      "execution_count": null,
      "outputs": [
        {
          "output_type": "stream",
          "text": [
            "10000 loops, best of 3: 177 µs per loop\n"
          ],
          "name": "stdout"
        }
      ]
    },
    {
      "cell_type": "code",
      "metadata": {
        "id": "Ec1GAztyrQkC",
        "colab_type": "code",
        "colab": {
          "base_uri": "https://localhost:8080/",
          "height": 34
        },
        "outputId": "48d7fee4-0ba6-4999-b29d-18edfdd4420d"
      },
      "source": [
        "%%timeit -n 1000 -r 3\n",
        "\n",
        "for i in range(1000):\n",
        "    i * 2"
      ],
      "execution_count": null,
      "outputs": [
        {
          "output_type": "stream",
          "text": [
            "10000 loops, best of 3: 48.8 µs per loop\n"
          ],
          "name": "stdout"
        }
      ]
    },
    {
      "cell_type": "markdown",
      "metadata": {
        "id": "x2KdKQF7rkX3",
        "colab_type": "text"
      },
      "source": [
        "### $matplotlib を使ってみる"
      ]
    },
    {
      "cell_type": "code",
      "metadata": {
        "id": "hiZjY5wKrpRI",
        "colab_type": "code",
        "colab": {
          "base_uri": "https://localhost:8080/",
          "height": 265
        },
        "outputId": "fa2028e2-21cc-43fd-d2cb-6a1756be3389"
      },
      "source": [
        "%matplotlib inline\n",
        "\n",
        "import numpy as np\n",
        "import matplotlib.pyplot as plt\n",
        "\n",
        "x = np. arange(0, 10, 0.2)\n",
        "y = np.sin(x)\n",
        "\n",
        "fig = plt.figure()\n",
        "ax = fig.add_subplot(111)\n",
        "\n",
        "ax.plot(x, y)\n",
        "plt.show()"
      ],
      "execution_count": null,
      "outputs": [
        {
          "output_type": "display_data",
          "data": {
            "image/png": "[encoded data removed]",
            "text/plain": [
              "<Figure size 432x288 with 1 Axes>"
            ]
          },
          "metadata": {
            "tags": [],
            "needs_background": "light"
          }
        }
      ]
    },
    {
      "cell_type": "markdown",
      "metadata": {
        "id": "u0WkZghzsjug",
        "colab_type": "text"
      },
      "source": [
        "# いまここ"
      ]
    }
  ]
}
