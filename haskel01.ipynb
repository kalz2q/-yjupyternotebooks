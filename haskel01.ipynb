{
  "nbformat": 4,
  "nbformat_minor": 0,
  "metadata": {
    "colab": {
      "name": "haskel01.ipynb",
      "provenance": [],
      "authorship_tag": "ABX9TyPaQ4c5wm0IGR/nCl91trEp",
      "include_colab_link": true
    },
    "kernelspec": {
      "name": "python3",
      "display_name": "Python 3"
    }
  },
  "cells": [
    {
      "cell_type": "markdown",
      "metadata": {
        "id": "view-in-github",
        "colab_type": "text"
      },
      "source": [
        "<a href=\"https://colab.research.google.com/github/kalz2q/mycolabnotebooks/blob/master/haskel01.ipynb\" target=\"_parent\"><img src=\"https://colab.research.google.com/assets/colab-badge.svg\" alt=\"Open In Colab\"/></a>"
      ]
    },
    {
      "cell_type": "markdown",
      "metadata": {
        "id": "JZqM1qwx2bFV",
        "colab_type": "text"
      },
      "source": [
        "# メモ\n",
        "\n",
        "1. Colabの環境を利用して`Haskell`を勉強する。\n",
        "1. 読者は別途自分の環境に`Haskell`をインストールして対話環境`ghci`を立ち上げていて、このファイルはColabで開いていることを想定する。\n",
        "1. プログラムについて、HaskellとPythonの両方で動かすことによって理解を深める。\n",
        "1. とりあえずはHaskellの入門書や入門サイトからサンプルプログラムを入力してみる。\n",
        "1. https://wiki.haskell.org/Haskell入門_5ステップ\n"
      ]
    },
    {
      "cell_type": "markdown",
      "metadata": {
        "id": "lGwlosYB_IW4",
        "colab_type": "text"
      },
      "source": [
        "# はじめに\n",
        "\n",
        "はじめにすこし実験。\n",
        "\n",
        "```\n",
        "Prelude> \"Hello, World!\"\n",
        "\"Hello, World!\"\n",
        "```"
      ]
    },
    {
      "cell_type": "code",
      "metadata": {
        "id": "wQLaoIt5_fdD",
        "colab_type": "code",
        "colab": {
          "base_uri": "https://localhost:8080/",
          "height": 35
        },
        "outputId": "dd814f34-6b50-4f90-e49c-876daa265379"
      },
      "source": [
        "\"Hello, World\""
      ],
      "execution_count": 1,
      "outputs": [
        {
          "output_type": "execute_result",
          "data": {
            "application/vnd.google.colaboratory.intrinsic+json": {
              "type": "string"
            },
            "text/plain": [
              "'Hello, World'"
            ]
          },
          "metadata": {
            "tags": []
          },
          "execution_count": 1
        }
      ]
    },
    {
      "cell_type": "markdown",
      "metadata": {
        "id": "ZBaOsWtP_nC7",
        "colab_type": "text"
      },
      "source": [
        "この辺は動きは同じみたい。\n",
        "\n",
        "Haskellの対話型環境のプロンプトは`Prelude>`で、Pythonは`>>>`だけど気にしない。\n",
        "\n",
        "```\n",
        "Prelude> putStrLn \"Hello World\"\n",
        "Hello World\n",
        "```"
      ]
    },
    {
      "cell_type": "code",
      "metadata": {
        "id": "gV6ihn64AFnp",
        "colab_type": "code",
        "colab": {
          "base_uri": "https://localhost:8080/",
          "height": 34
        },
        "outputId": "b7750231-819e-4dd5-cb53-1af96ce332ab"
      },
      "source": [
        "print (\"Hello\")"
      ],
      "execution_count": 2,
      "outputs": [
        {
          "output_type": "stream",
          "text": [
            "Hello\n"
          ],
          "name": "stdout"
        }
      ]
    },
    {
      "cell_type": "markdown",
      "metadata": {
        "id": "ViF69Gd1AQy_",
        "colab_type": "text"
      },
      "source": [
        "えっと、HaskellはputStrLnで、Pythonがなぜprintかというと、Haskellは文字列と改行を入れていることを明示したいと考えて、Pythonは改行を入れていることを隠したいと考えていて、どちらがいいかとは言えないけれど、ポリシーの違い。print関係はごく初歩の導入時から使うのでこの辺がPythonのうまいところというかいいところかもしれない。初心者にやさしい。\n",
        "\n",
        "カッコのあるなしは、ポリシーの違いというより、全体の設計なので、これはどっちでもいいけどそれぞれの言語で統一されていればいい。Pythonが関数全部にカッコが要るようになったのはPython 3以降なので威張れたものではない。\n",
        "\n",
        "```\n",
        "Prelude> let fac n = if n == 0 then 1 else n * fac (n-1)\n",
        "```\n",
        "うむ。階乗を計算する関数を作っている。ちょっと実験以上かもしれない。\n",
        "\n",
        "しかし、やってみよう。"
      ]
    },
    {
      "cell_type": "code",
      "metadata": {
        "id": "ZB9pZ3HRB17P",
        "colab_type": "code",
        "colab": {
          "base_uri": "https://localhost:8080/",
          "height": 34
        },
        "outputId": "72489f06-b351-434c-af4b-c08ceb709124"
      },
      "source": [
        "def fac (n) :\n",
        "    if n == 0 :\n",
        "        return 1\n",
        "    else :\n",
        "        return n * fac (n - 1)\n",
        "\n",
        "fac (5)"
      ],
      "execution_count": 10,
      "outputs": [
        {
          "output_type": "execute_result",
          "data": {
            "text/plain": [
              "120"
            ]
          },
          "metadata": {
            "tags": []
          },
          "execution_count": 10
        }
      ]
    },
    {
      "cell_type": "markdown",
      "metadata": {
        "id": "w5wAydKX2cYY",
        "colab_type": "text"
      },
      "source": [
        "ま、とりあえずできたということで。\n",
        "\n",
        "Pythonに確か一行で書く書き方があったと思う。"
      ]
    },
    {
      "cell_type": "code",
      "metadata": {
        "id": "hF8Ft7ExEOsn",
        "colab_type": "code",
        "colab": {
          "base_uri": "https://localhost:8080/",
          "height": 34
        },
        "outputId": "7feeb042-c7fc-4614-d781-d46bbfa0b76a"
      },
      "source": [
        "def fac (n) :\n",
        "    return 1 if n == 0 else n * fac(n - 1)\n",
        "\n",
        "fac(5)"
      ],
      "execution_count": 6,
      "outputs": [
        {
          "output_type": "execute_result",
          "data": {
            "text/plain": [
              "120"
            ]
          },
          "metadata": {
            "tags": []
          },
          "execution_count": 6
        }
      ]
    },
    {
      "cell_type": "markdown",
      "metadata": {
        "id": "rEZTqC08FVKf",
        "colab_type": "text"
      },
      "source": [
        "`ternary operator` 三項演算子と言うらしい。\n",
        "\n",
        "`n`を大きくすると、Haskellは大丈夫だけどPythonは落ちる。エラーになる。比較の階層が深すぎるって。この辺は素のままでは最適化されていないみたい。\n",
        "\n",
        "Haskellではパターンマッチングを使って次のように書く方が普通かもしれない。\n",
        "```\n",
        "fac 0 = 1\n",
        "fac n = n * fac (n-1)\n",
        "\n",
        "main = print (fac 42)\n",
        "```"
      ]
    },
    {
      "cell_type": "markdown",
      "metadata": {
        "id": "Eh0YyntvF0O-",
        "colab_type": "text"
      },
      "source": [
        "# 四則演算"
      ]
    },
    {
      "cell_type": "markdown",
      "metadata": {
        "id": "xrXWasfNF4tO",
        "colab_type": "text"
      },
      "source": [
        ""
      ]
    }
  ]
}