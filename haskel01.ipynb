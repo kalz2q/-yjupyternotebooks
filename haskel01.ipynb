{
  "nbformat": 4,
  "nbformat_minor": 0,
  "metadata": {
    "colab": {
      "name": "haskel01.ipynb",
      "provenance": [],
      "authorship_tag": "ABX9TyPEBH/gjUPRb97Pb0vkdEcO",
      "include_colab_link": true
    },
    "kernelspec": {
      "name": "python3",
      "display_name": "Python 3"
    }
  },
  "cells": [
    {
      "cell_type": "markdown",
      "metadata": {
        "id": "view-in-github",
        "colab_type": "text"
      },
      "source": [
        "<a href=\"https://colab.research.google.com/github/kalz2q/mycolabnotebooks/blob/master/haskel01.ipynb\" target=\"_parent\"><img src=\"https://colab.research.google.com/assets/colab-badge.svg\" alt=\"Open In Colab\"/></a>"
      ]
    },
    {
      "cell_type": "markdown",
      "metadata": {
        "id": "JZqM1qwx2bFV",
        "colab_type": "text"
      },
      "source": [
        "# メモ\n",
        "\n",
        "1. Colabの環境を利用して`Haskell`を勉強する。\n",
        "1. 読者は別途自分の環境に`Haskell`をインストールして対話環境`ghci`を立ち上げていて、このファイルはColabで開いていることを想定する。\n",
        "1. プログラムについて、HaskellとPythonの両方で動かすことによって理解を深める。\n",
        "1. とりあえずはHaskellの入門書や入門サイトからサンプルプログラムを入力してみる。\n",
        "1. https://wiki.haskell.org/Haskell入門_5ステップ\n",
        "1. 10分で学ぶHaskell (https://wiki.haskell.org/10分で学ぶHaskell)\n",
        "1. Learn You A Haskell For Great Good! (http://learnyouahaskell.com/)\n",
        "1. A Gentle Introduction to Haskell (https://www.haskell.org/tutorial/)\n",
        "1. Yet Another Haskell Tutorial (http://users.umiacs.umd.edu/~hal/docs/daume02yaht.pdf)"
      ]
    },
    {
      "cell_type": "markdown",
      "metadata": {
        "id": "lGwlosYB_IW4",
        "colab_type": "text"
      },
      "source": [
        "# はじめに\n",
        "\n",
        "はじめにすこし実験。\n",
        "\n",
        "```\n",
        "Prelude> \"Hello, World!\"\n",
        "\"Hello, World!\"\n",
        "```"
      ]
    },
    {
      "cell_type": "code",
      "metadata": {
        "id": "wQLaoIt5_fdD",
        "colab_type": "code",
        "colab": {
          "base_uri": "https://localhost:8080/",
          "height": 35
        },
        "outputId": "dd814f34-6b50-4f90-e49c-876daa265379"
      },
      "source": [
        "\"Hello, World\""
      ],
      "execution_count": null,
      "outputs": [
        {
          "output_type": "execute_result",
          "data": {
            "application/vnd.google.colaboratory.intrinsic+json": {
              "type": "string"
            },
            "text/plain": [
              "'Hello, World'"
            ]
          },
          "metadata": {
            "tags": []
          },
          "execution_count": 1
        }
      ]
    },
    {
      "cell_type": "markdown",
      "metadata": {
        "id": "ZBaOsWtP_nC7",
        "colab_type": "text"
      },
      "source": [
        "この辺は動きは同じみたい。\n",
        "\n",
        "Haskellの対話型環境のプロンプトは`Prelude>`で、Pythonは`>>>`。\n",
        "\n",
        "```\n",
        "Prelude> putStrLn \"Hello World\"\n",
        "Hello World\n",
        "```"
      ]
    },
    {
      "cell_type": "code",
      "metadata": {
        "id": "gV6ihn64AFnp",
        "colab_type": "code",
        "colab": {
          "base_uri": "https://localhost:8080/",
          "height": 34
        },
        "outputId": "b7750231-819e-4dd5-cb53-1af96ce332ab"
      },
      "source": [
        "print (\"Hello\")"
      ],
      "execution_count": null,
      "outputs": [
        {
          "output_type": "stream",
          "text": [
            "Hello\n"
          ],
          "name": "stdout"
        }
      ]
    },
    {
      "cell_type": "markdown",
      "metadata": {
        "id": "ViF69Gd1AQy_",
        "colab_type": "text"
      },
      "source": [
        "えっと、HaskellはputStrLnで、Pythonがなぜprintかというと、Haskellは文字列と改行を入れていることを明示したいと考えて、Pythonは改行を入れていることを隠したいと考えていて、どちらがいいかとは言えないけれど、ポリシーの違い。print関係はごく初歩の導入時から使うのでこの辺がPythonのうまいところというかいいところかもしれない。初心者にやさしい。\n",
        "\n",
        "カッコのあるなしは、ポリシーの違いというより、全体の設計なので、これはどっちでもいいけどそれぞれの言語で統一されていればいい。Pythonが関数全部にカッコが要るようになったのはPython 3以降なので威張れたものではない。\n",
        "\n",
        "```\n",
        "Prelude> let fac n = if n == 0 then 1 else n * fac (n-1)\n",
        "```\n",
        "うむ。階乗を計算する関数を作っている。ちょっと実験以上かもしれない。\n",
        "\n",
        "しかし、やってみよう。"
      ]
    },
    {
      "cell_type": "code",
      "metadata": {
        "id": "ZB9pZ3HRB17P",
        "colab_type": "code",
        "colab": {
          "base_uri": "https://localhost:8080/",
          "height": 34
        },
        "outputId": "72489f06-b351-434c-af4b-c08ceb709124"
      },
      "source": [
        "def fac (n) :\n",
        "    if n == 0 :\n",
        "        return 1\n",
        "    else :\n",
        "        return n * fac (n - 1)\n",
        "\n",
        "fac (5)"
      ],
      "execution_count": null,
      "outputs": [
        {
          "output_type": "execute_result",
          "data": {
            "text/plain": [
              "120"
            ]
          },
          "metadata": {
            "tags": []
          },
          "execution_count": 10
        }
      ]
    },
    {
      "cell_type": "markdown",
      "metadata": {
        "id": "w5wAydKX2cYY",
        "colab_type": "text"
      },
      "source": [
        "ま、とりあえずできたということで。\n",
        "\n",
        "Pythonに確か一行で書く書き方があったと思う。"
      ]
    },
    {
      "cell_type": "code",
      "metadata": {
        "id": "hF8Ft7ExEOsn",
        "colab_type": "code",
        "colab": {
          "base_uri": "https://localhost:8080/",
          "height": 34
        },
        "outputId": "7feeb042-c7fc-4614-d781-d46bbfa0b76a"
      },
      "source": [
        "def fac (n) :\n",
        "    return 1 if n == 0 else n * fac(n - 1)\n",
        "\n",
        "fac(5)"
      ],
      "execution_count": null,
      "outputs": [
        {
          "output_type": "execute_result",
          "data": {
            "text/plain": [
              "120"
            ]
          },
          "metadata": {
            "tags": []
          },
          "execution_count": 6
        }
      ]
    },
    {
      "cell_type": "markdown",
      "metadata": {
        "id": "rEZTqC08FVKf",
        "colab_type": "text"
      },
      "source": [
        "`ternary operator` 三項演算子と言うらしい。\n",
        "\n",
        "`n`を大きくすると、Haskellは大丈夫だけどPythonは落ちる。エラーになる。比較の階層が深すぎるって。この辺は素のままでは最適化されていないみたい。\n",
        "\n",
        "Haskellではパターンマッチングを使って次のように書く方が普通かもしれない。\n",
        "```\n",
        "fac 0 = 1\n",
        "fac n = n * fac (n-1)\n",
        "\n",
        "main = print (fac 42)\n",
        "```"
      ]
    },
    {
      "cell_type": "markdown",
      "metadata": {
        "id": "gbJVKth8h6c4",
        "colab_type": "text"
      },
      "source": [
        "さすがこれはPythonにはないか。\n",
        "\n",
        "並列化プログラミングとかもとばし。"
      ]
    },
    {
      "cell_type": "markdown",
      "metadata": {
        "id": "Eh0YyntvF0O-",
        "colab_type": "text"
      },
      "source": [
        "# 四則演算"
      ]
    },
    {
      "cell_type": "markdown",
      "metadata": {
        "id": "xrXWasfNF4tO",
        "colab_type": "text"
      },
      "source": [
        "```\n",
        "Prelude> 3 * 5\n",
        "15\n",
        "Prelude> 4 ^ 2 - 1\n",
        "15\n",
        "Prelude> (1 - 5)^(3 * 2 - 4)\n",
        "16\n",
        "```"
      ]
    },
    {
      "cell_type": "code",
      "metadata": {
        "id": "p-t3ybJWj1ol",
        "colab_type": "code",
        "colab": {
          "base_uri": "https://localhost:8080/",
          "height": 67
        },
        "outputId": "54e2b19a-f167-4fec-8d62-31c8fd226e0c"
      },
      "source": [
        "print (3 * 5)\n",
        "print (4 ** 2 - 1)\n",
        "print ((1 - 5) ** (3 * 2 - 4))"
      ],
      "execution_count": 11,
      "outputs": [
        {
          "output_type": "stream",
          "text": [
            "15\n",
            "15\n",
            "16\n"
          ],
          "name": "stdout"
        }
      ]
    },
    {
      "cell_type": "markdown",
      "metadata": {
        "id": "RmNmUAP-k2Oc",
        "colab_type": "text"
      },
      "source": [
        "Pythonで`^`は`exclusiv bit-wise`で普通の冪乗の意味には使えなくて`**`を使う。\n",
        "\n",
        "```\n",
        "Prelude> \"Hello\"\n",
        "\"Hello\"\n",
        "Prelude> \"Hello\" ++ \", Haskell\"\n",
        "\"Hello, Haskell\"\n",
        "```"
      ]
    },
    {
      "cell_type": "code",
      "metadata": {
        "id": "9-20faExlrz9",
        "colab_type": "code",
        "colab": {
          "base_uri": "https://localhost:8080/",
          "height": 35
        },
        "outputId": "7bface3e-3819-4002-a46d-d86482725793"
      },
      "source": [
        "\"Hello\" + \", Python!!!!\""
      ],
      "execution_count": 13,
      "outputs": [
        {
          "output_type": "execute_result",
          "data": {
            "application/vnd.google.colaboratory.intrinsic+json": {
              "type": "string"
            },
            "text/plain": [
              "'Hello, Python!!!!'"
            ]
          },
          "metadata": {
            "tags": []
          },
          "execution_count": 13
        }
      ]
    },
    {
      "cell_type": "markdown",
      "metadata": {
        "id": "3Awt28XplzFA",
        "colab_type": "text"
      },
      "source": [
        "```\n",
        "Prelude> succ 5\n",
        "6\n",
        "Prelude> truncate 6.59\n",
        "6\n",
        "Prelude> round 6.59\n",
        "7\n",
        "Prelude> sqrt 2\n",
        "1.4142135623730951\n",
        "Prelude> not (5 < 3)\n",
        "True\n",
        "Prelude> gcd 21 14\n",
        "7\n",
        "```"
      ]
    },
    {
      "cell_type": "code",
      "metadata": {
        "id": "5a9cEfnAl8aD",
        "colab_type": "code",
        "colab": {}
      },
      "source": [
        ""
      ],
      "execution_count": null,
      "outputs": []
    }
  ]
}