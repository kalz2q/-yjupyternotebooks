{
  "nbformat": 4,
  "nbformat_minor": 0,
  "metadata": {
    "colab": {
      "name": "haskel01.ipynb",
      "provenance": [],
      "authorship_tag": "ABX9TyNDtIt6VYxsEoqlZVaw3esf",
      "include_colab_link": true
    },
    "kernelspec": {
      "name": "python3",
      "display_name": "Python 3"
    }
  },
  "cells": [
    {
      "cell_type": "markdown",
      "metadata": {
        "id": "view-in-github",
        "colab_type": "text"
      },
      "source": [
        "<a href=\"https://colab.research.google.com/github/kalz2q/mycolabnotebooks/blob/master/haskel01.ipynb\" target=\"_parent\"><img src=\"https://colab.research.google.com/assets/colab-badge.svg\" alt=\"Open In Colab\"/></a>"
      ]
    },
    {
      "cell_type": "markdown",
      "metadata": {
        "id": "JZqM1qwx2bFV",
        "colab_type": "text"
      },
      "source": [
        "# メモ\n",
        "\n",
        "1. Colabの環境を利用して`Haskell`を勉強する。\n",
        "1. 読者は別途自分の環境に`Haskell`をインストールして対話環境`ghci`を立ち上げていて、このファイルはColabで開いていることを想定する。\n",
        "1. プログラムについて、HaskellとPythonの両方で動かすことによって理解を深める。\n",
        "1. とりあえずはHaskellの入門書や入門サイトからサンプルプログラムを入力してみる。\n"
      ]
    },
    {
      "cell_type": "markdown",
      "metadata": {
        "id": "lGwlosYB_IW4",
        "colab_type": "text"
      },
      "source": [
        "# はじめに\n",
        "\n",
        "はじめにすこし実験。\n",
        "\n",
        "```\n",
        "Prelude> \"Hello, World!\"\n",
        "\"Hello, World!\"\n",
        "```"
      ]
    },
    {
      "cell_type": "code",
      "metadata": {
        "id": "wQLaoIt5_fdD",
        "colab_type": "code",
        "colab": {
          "base_uri": "https://localhost:8080/",
          "height": 35
        },
        "outputId": "dd814f34-6b50-4f90-e49c-876daa265379"
      },
      "source": [
        "\"Hello, World\""
      ],
      "execution_count": 1,
      "outputs": [
        {
          "output_type": "execute_result",
          "data": {
            "application/vnd.google.colaboratory.intrinsic+json": {
              "type": "string"
            },
            "text/plain": [
              "'Hello, World'"
            ]
          },
          "metadata": {
            "tags": []
          },
          "execution_count": 1
        }
      ]
    },
    {
      "cell_type": "markdown",
      "metadata": {
        "id": "ZBaOsWtP_nC7",
        "colab_type": "text"
      },
      "source": [
        "この辺は動きは同じみたい。\n",
        "\n",
        "Haskellの対話型環境のプロンプトは`Prelude>`で、Pythonは`>>>`だけど気にしない。\n",
        "\n",
        "```\n",
        "Prelude> putStrLn \"Hello World\"\n",
        "Hello World\n",
        "```"
      ]
    },
    {
      "cell_type": "code",
      "metadata": {
        "id": "gV6ihn64AFnp",
        "colab_type": "code",
        "colab": {
          "base_uri": "https://localhost:8080/",
          "height": 34
        },
        "outputId": "b7750231-819e-4dd5-cb53-1af96ce332ab"
      },
      "source": [
        "print (\"Hello\")"
      ],
      "execution_count": 2,
      "outputs": [
        {
          "output_type": "stream",
          "text": [
            "Hello\n"
          ],
          "name": "stdout"
        }
      ]
    },
    {
      "cell_type": "markdown",
      "metadata": {
        "id": "ViF69Gd1AQy_",
        "colab_type": "text"
      },
      "source": [
        "えっと、HaskellはputStrLnで、Pythonがなぜprintかというと、Haskellは文字列と改行を入れていることを明示したいと考えて、Pythonは改行を入れていることを隠したいと考えていて、どちらがいいかとは言えないけれど、ポリシーの違い。print関係はごく初歩の導入時から使うのでこの辺がPythonのうまいところというかいいところかもしれない。初心者にやさしい。\n",
        "\n",
        "カッコのあるなしは、ポリシーの違いというより、全体の設計なので、これはどっちでもいいけどそれぞれの言語で統一されていればいい。Pythonが関数全部にカッコが要るようになったのはPython 3以降なので威張れたものではない。\n",
        "\n",
        "```\n",
        "Prelude> let fac n = if n == 0 then 1 else n * fac (n-1)\n",
        "```\n"
      ]
    },
    {
      "cell_type": "code",
      "metadata": {
        "id": "ZB9pZ3HRB17P",
        "colab_type": "code",
        "colab": {}
      },
      "source": [
        ""
      ],
      "execution_count": null,
      "outputs": []
    },
    {
      "cell_type": "markdown",
      "metadata": {
        "id": "w5wAydKX2cYY",
        "colab_type": "text"
      },
      "source": [
        ""
      ]
    }
  ]
}