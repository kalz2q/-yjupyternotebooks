{
  "nbformat": 4,
  "nbformat_minor": 0,
  "metadata": {
    "colab": {
      "name": "haskel01.ipynb",
      "provenance": [],
      "authorship_tag": "ABX9TyM81u1E0YQebLnKXE9vLo0b",
      "include_colab_link": true
    },
    "kernelspec": {
      "name": "python3",
      "display_name": "Python 3"
    }
  },
  "cells": [
    {
      "cell_type": "markdown",
      "metadata": {
        "id": "view-in-github",
        "colab_type": "text"
      },
      "source": [
        "<a href=\"https://colab.research.google.com/github/kalz2q/mycolabnotebooks/blob/master/haskel01.ipynb\" target=\"_parent\"><img src=\"https://colab.research.google.com/assets/colab-badge.svg\" alt=\"Open In Colab\"/></a>"
      ]
    },
    {
      "cell_type": "markdown",
      "metadata": {
        "id": "JZqM1qwx2bFV",
        "colab_type": "text"
      },
      "source": [
        "# メモ\n",
        "\n",
        "1. Colabの環境を利用して`Haskell`を勉強する。\n",
        "1. 読者は別途自分の環境に`Haskell`をインストールして対話環境`ghci`を立ち上げていて、このファイルはColabで開いていることを想定する。\n",
        "1. それぞれのプログラムについて、HaskellとPythonの両方で動かすことによって理解を深める。\n"
      ]
    },
    {
      "cell_type": "markdown",
      "metadata": {
        "id": "w5wAydKX2cYY",
        "colab_type": "text"
      },
      "source": [
        ""
      ]
    }
  ]
}