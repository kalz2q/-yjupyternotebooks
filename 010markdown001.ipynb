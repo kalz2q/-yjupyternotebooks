{
  "nbformat": 4,
  "nbformat_minor": 0,
  "metadata": {
    "colab": {
      "name": "markdown001.ipynb",
      "provenance": [],
      "toc_visible": true,
      "authorship_tag": "ABX9TyOPQ2cJbhZPh7M83ZHlwX4A",
      "include_colab_link": true
    },
    "kernelspec": {
      "name": "python3",
      "display_name": "Python 3"
    }
  },
  "cells": [
    {
      "cell_type": "markdown",
      "metadata": {
        "id": "view-in-github",
        "colab_type": "text"
      },
      "source": [
        "<a href=\"https://colab.research.google.com/github/kalz2q/myjupyternotebooks/blob/master/010markdown001.ipynb\" target=\"_parent\"><img src=\"https://colab.research.google.com/assets/colab-badge.svg\" alt=\"Open In Colab\"/></a>"
      ]
    },
    {
      "cell_type": "markdown",
      "metadata": {
        "id": "5LUZ9LWe8RQ2",
        "colab_type": "text"
      },
      "source": [
        "# Colabのマークダウン"
      ]
    },
    {
      "cell_type": "markdown",
      "metadata": {
        "id": "7FC6zQYR8YUl",
        "colab_type": "text"
      },
      "source": [
        "### メモ\n",
        "1. ColabのマークダウンはGitHubのマークダウンと基本は同じだが違う。\n",
        "2. 最大の違いは`html`を貼り付けられないこと。\n",
        "3. 細かい違いも、Colabだけを使用していると気にならないが、マークダウンにして他のサイトに貼り付けると表示がおかしい。\n",
        "4. 基本的には機能のほとんどないシンプルなマークダウンである。\n",
        "5. このファイルの読者はColabで開き、実験しながら進むことを想定する。セルをクリックしてセルの編集ボタンを押すか、セルをダブルクリックして編集に入り、上下もしくは左右に編集結果を並べながらテキストセルを編集することになる。編集から抜けるには`Esc`か、編集から抜ける(マークダウンエディタを閉じる)ボタンを押す。"
      ]
    },
    {
      "cell_type": "markdown",
      "metadata": {
        "id": "oKF3pSNx2czH",
        "colab_type": "text"
      },
      "source": [
        "# はじめに\n",
        "マークダウンとは、ウェブページを作るのに特化した簡易記法のこと。\n",
        "\n",
        "例えば大見出しを`<h1>見出し</h1>`、中見出しを`<h2>中見出し</h2>`とする代わりに`# 大見出し`、`## 中見出し`とすることなどによって、書きやすく、見やすく、覚えやすい。できること、表現に制限が生じるがそれは我慢するという考え。\n",
        "\n",
        "Colabはマークダウンで書くテキストセルと別に実行できるコードセルがありコードセルの機能が豊富なので、マークダウンの不便さを補っている。\n",
        "\n",
        "このノートブックはテキストセルで使えるマークダウンをColab上のエディターで実験しながら学んでいくためのものであり、読者はColabで開き、実験しながら進むことを想定する。セルをクリックしてセルの編集ボタンを押すか、セルをダブルクリックして編集に入り、上下もしくは左右に編集結果を並べながらテキストセルを編集することになる。編集から抜けるにはEscか、編集から抜ける(マークダウンエディタを閉じる)ボタンを押す。"
      ]
    },
    {
      "cell_type": "markdown",
      "metadata": {
        "id": "FVS3coKw2sCk",
        "colab_type": "text"
      },
      "source": [
        "# 基本的な書き方"
      ]
    },
    {
      "cell_type": "markdown",
      "metadata": {
        "id": "x1iPUwX7U98b",
        "colab_type": "text"
      },
      "source": [
        "### 見出し\n",
        "見出しを作成するには、1 つから 6 つの `#` シンボルを見出しのテキストの前に追加する。 使用する `#` の数によって、見出しのサイズが決まる。"
      ]
    },
    {
      "cell_type": "markdown",
      "metadata": {
        "id": "yuVzN6l22maK",
        "colab_type": "text"
      },
      "source": [
        "```\n",
        "# 最大の見出し\n",
        "## 2番目に大きな見出し\n",
        "###### 最も小さい見出し\n",
        "```    "
      ]
    },
    {
      "cell_type": "markdown",
      "metadata": {
        "id": "3BXnFNSv6rCJ",
        "colab_type": "text"
      },
      "source": [
        "Colabでは`#`の数と位置によって自動で目次が作られ、目次からジャンプできるので、```### [見出し](#midashi)```とわざわざ書く必要はない。\n",
        "\n",
        "行の下に`===`と`---`と書くと、`#`と`##`の代わりになる。"
      ]
    },
    {
      "cell_type": "markdown",
      "metadata": {
        "id": "ypYRp-hOUnxe",
        "colab_type": "text"
      },
      "source": [
        "### テキスト\n",
        "マークダウンの改行1個は無視される。複数の文で1つの段落になり、改行を2回続けると段落ができて、改行される。\n",
        "\n",
        "**太字**、*斜体*、~~取り消し線~~で強調を示すことができる。\n",
        "```\n",
        "**太字**、*斜体*、~~取り消し線~~で強調を示すことができる。\n",
        "```\n",
        "***太字かつ斜体はこうする。***\n",
        "```\n",
        "    ***太字かつ斜体はこうする。***\n",
        "```\n",
        "**太字の中に _斜体_ はこうする。**\n",
        "```\n",
        "**太字の中に _斜体_ はこうする。**\n",
        "```\n",
        "一般に`*`の代わりに`_`を使うことができる。`_`は __スペースが必要__ かも。\n",
        "\n",
        "趣味の問題でもあるが、**太字**や*斜体*を多用すると画面がうるさくなると思う。\n",
        "\n",
        "あと関連して、アルファベット alphabet や数字 3 の前後にスペースを入れるのは読みやすくはなるが、統一的にそうするのは自己管理がむずかしいので必須とはしたくない。コードの中置演算子の前後にスペースを置くことほどにも頑張らない。"
      ]
    },
    {
      "cell_type": "markdown",
      "metadata": {
        "id": "mmUDT2ZcVq14",
        "colab_type": "text"
      },
      "source": [
        "### 引用\n",
        "\n",
        "テキストは`>>`で引用できる。\n",
        "\n",
        "アブラハムリンカーンの言葉：:\n",
        ">>\n",
        "フランス語で失礼する\n",
        "\n",
        "だがしかし!!!!\n",
        "\n",
        "サイトによっては`>`1つで引用のマークダウンがあって、`>>`とすると1つ余って表示されてしまう。\n",
        "\n",
        "Colabではコードが別途コードセルに書くことになるで、引用はバッククォート3つのコード表示でとりあえず代用したい。スペース4個でも可だが、バッククォート3つの方が確実だろう。スペースも表示される。\n",
        "```\n",
        "    フランス語で失礼する\n",
        "```\n",
        "\n",
        "\n",
        "\n",
        "\n",
        "\n",
        "\n",
        "\n"
      ]
    },
    {
      "cell_type": "markdown",
      "metadata": {
        "id": "htvCoCVaYVru",
        "colab_type": "text"
      },
      "source": [
        "### コードの引用\n",
        "\n",
        "単一のバッククォートで文章内のコードやコマンドを引用できる。 バッククォート内のテキストはフォーマットされない。\n",
        "\n",
        "独立したブロック内にコードあるいはテキストをフォーマットするには、3 重のバッククォートを使用する。\n"
      ]
    },
    {
      "cell_type": "markdown",
      "metadata": {
        "id": "7FSr7B8AR0Yx",
        "colab_type": "text"
      },
      "source": [
        "### リンク\n",
        "リンクのテキストをブラケット `[ ]` で囲み、URL をカッコ `( )` で囲めば、インラインのリンクを作成できる。 \n",
        "\n",
        "だがしかし!!!!\n",
        "\n",
        "このやりかただとURLが見えなくなる。一方、URLが書かれているだけで自動的にリンクは生じるので、明示的にリンクを示したいときは、リンクを2回書けばよい。\n",
        "```\n",
        "[Colab](https://colab.research.google.com)(https://colab.research.google.com)\n",
        "```\n",
        "結果\n",
        "\n",
        "[Colab](https://colab.research.google.com)(https://colab.research.google.com)\n"
      ]
    },
    {
      "cell_type": "markdown",
      "metadata": {
        "id": "4baEfCx3UOsL",
        "colab_type": "text"
      },
      "source": [
        "### リスト\n",
        "\n",
        "1 つ以上の行の前に `-` または `*` を置くことで、順序なしリストを作成できる。\n",
        "```\n",
        "- George Washington\n",
        "- John Adams\n",
        "- Thomas Jefferson\n",
        "```    \n",
        "- George Washington\n",
        "- John Adams\n",
        "- Thomas Jefferson\n",
        "\n",
        "リストを順序付けするには、各行の前に数字を置く。書いた数字に関係なく最初に書いた数字からの連番になる。常に1を書くのが簡単かもしれない。\n",
        "```\n",
        "5. James Madison\n",
        "2. James Monroe\n",
        "1. John Quincy Adams\n",
        "```    \n",
        "5. James Madison\n",
        "2. James Monroe\n",
        "1. John Quincy Adams"
      ]
    },
    {
      "cell_type": "markdown",
      "metadata": {
        "id": "lXbvfHub4Jlk",
        "colab_type": "text"
      },
      "source": [
        "#### 入れ子になったリスト\n",
        "\n",
        "1 つ以上のリストアイテムを他のアイテムの下にインデントすることで、入れ子になったリストを作成できる。\n",
        "\n",
        "GitHub上の Web のエディタあるいは [Atom](https://atom.io/) のようなモノスペースフォントを使うテキストエディタを使って入れ子になったリストを作成するには、リストが揃って見えるように編集する。 入れ子になったリストアイテムの前に空白を、リストマーカーの文字 (`-` または `*`) が直接上位のアイテム内のテキストの一文字目の下に来るように入力してください。\n",
        "\n",
        "    1. 最初のリストアイテム\n",
        "       - 最初の入れ子になったリストアイテム\n",
        "         - 2 番目の入れ子になったリストアイテム\n",
        "    \n",
        "\n",
        "![並びがハイライトされた入れ子になったリスト](chrome-extension://cjedbglnccaioiolemnfhjncicchinao/assets/images/help/writing/nested-list-alignment.png)\n",
        "\n",
        "![2 レベルの入れ子になったアイテムを持つリスト](chrome-extension://cjedbglnccaioiolemnfhjncicchinao/assets/images/help/writing/nested-list-example-1.png)\n",
        "\n",
        "モノスペースフォントを使っていない GitHubのコメントエディタで入れ子になったリストを作成するには、入れ子になったリストのすぐ上にあるリストアイテムを見て、そのアイテムの内容の前にある文字数を数えます。 そして、その数だけ空白を入れ子になったリストアイテムの前に入力する。\n",
        "\n",
        "この例では、入れ子になったリストアイテムをリストアイテム `100. 最初のリストアイテム` の下に、最低 5 つの空白で入れ子になったリストアイテムをインデントさせることで追加できる。これは、`最初のリストアイテム`の前に 5 文字 (`100.` ) があるからです。\n",
        "\n",
        "    100. 最初のリストアイテム\n",
        "         - 最初の入れ子になったリストアイテム\n",
        "    \n",
        "\n",
        "![入れ子になったリストアイテムを持つリスト](chrome-extension://cjedbglnccaioiolemnfhjncicchinao/assets/images/help/writing/nested-list-example-3.png)\n",
        "\n",
        "同じ方法で、複数レベルの入れ子になったリストを作成できる。 たとえば、最初の入れ子になったリストアイテムは内容である`最初の入れ子になったリストアイテム`の前に 7 つの空白 (`␣␣␣␣␣-␣`) があるため、2 番目の入れ子になったリストアイテムは 7 つの空白でインデントしなければならないでしょう。\n",
        "\n",
        "    100. 最初のリストアイテム\n",
        "         - 最初の入れ子になったリストアイテム\n",
        "           - 2 番目の入れ子になったリストアイテム\n",
        "    \n",
        "\n",
        "![2 レベルの入れ子になったアイテムを持つリスト](chrome-extension://cjedbglnccaioiolemnfhjncicchinao/assets/images/help/writing/nested-list-example-2.png)\n",
        "\n",
        "[GitHub Flavored Markdown の仕様](https://github.github.com/gfm/#example-265)には、もっと多くのサンプルがあります。\n"
      ]
    },
    {
      "cell_type": "markdown",
      "metadata": {
        "id": "hrgmZ5WoVywv",
        "colab_type": "text"
      },
      "source": [
        "# いまここ"
      ]
    },
    {
      "cell_type": "markdown",
      "metadata": {
        "id": "1ucBl1FYVwih",
        "colab_type": "text"
      },
      "source": [
        "\n",
        "### タスクリスト\n",
        "タスクリストを作成するには、リストアイテムの前に空白を置き、その後に`[ ]`を続けてください。 タスクを完了したとマークするには`[x]`を使ってください。\n",
        "\n",
        "    - [x] Finish my changes\n",
        "    - [ ] Push my commits to GitHub\n",
        "    - [ ] Open a pull request\n",
        "    \n",
        "\n",
        "![表示されたタスクリスト](chrome-extension://cjedbglnccaioiolemnfhjncicchinao/assets/images/help/writing/task-list-rendered.png)\n",
        "\n",
        "タスクリストアイテムの説明が括弧で始まる場合、その括弧を \"\\\\\" でエスケープする必要があります。\n",
        "\n",
        "`- [ ] \\(オプション) フォローアップの Issue のオープン`\n",
        "\n",
        "詳しい情報については[タスクリストについて](chrome-extension://cjedbglnccaioiolemnfhjncicchinao/ja/articles/about-task-lists)を参照してください。\n",
        "\n",
        "### 人や Team のメンション\n",
        "GitHub上の人あるいは [Team](chrome-extension://cjedbglnccaioiolemnfhjncicchinao/ja/articles/setting-up-teams) は、`@` に加えてユーザ名もしくは Team 名を入力することでメンションできる。 これによって通知が発生し、会話に注意してもらうことができる。 コメントを編集してユーザ名や Team 名をメンションすれば、人々に通知を受信してもらえます。 通知の詳細は、「[通知について](chrome-extension://cjedbglnccaioiolemnfhjncicchinao/ja/github/managing-subscriptions-and-notifications-on-github/about-notifications)」を参照してください。\n",
        "\n",
        "`@github/support これらのアップデートについてどう思いますか？`\n",
        "\n",
        "![表示された @メンション](chrome-extension://cjedbglnccaioiolemnfhjncicchinao/assets/images/help/writing/mention-rendered.png)\n",
        "\n",
        "親チームにメンションすると、その子チームのメンバーも通知を受けることになり、複数のグループの人々とのコミュニケーションがシンプルになります。 詳しい情報については[Team について](chrome-extension://cjedbglnccaioiolemnfhjncicchinao/ja/articles/about-teams)を参照してください。\n",
        "\n",
        "`@` シンボルを入力すると、プロジェクト上の人々あるいは Team のリストが現れます。 このリストは入力していくにつれて絞り込まれていくので、探している人あるいは Team の名前が見つかり次第、矢印キーを使ってその名前を選択し、Tab キーまたは Enter キーを押して名前の入力を完了できる。 Team については、@organization/team-name と入力すればそのチームの全メンバーにその会話をサブスクライブしてもらえます。\n",
        "\n",
        "オートコンプリートの結果は、リポジトリのコラボレータとそのスレッドのその他の参加者に限定される。\n"
      ]
    },
    {
      "cell_type": "markdown",
      "metadata": {
        "id": "le2-sepD4YTY",
        "colab_type": "text"
      },
      "source": [
        "\n",
        "### Issue およびプルリクエストの参照\n",
        "`#` を入力して、リポジトリ内のサジェストされた Issue およびプルリクエストのリストを表示させることができる。 Issue あるいはプルリクエストの番号あるいはタイトルを入力してリストをフィルタリングし、Tab キーまたは Enter キーを押して、ハイライトされた結果の入力を完了してください。\n",
        "\n",
        "詳しい情報については[自動リンクされた参照と URL](chrome-extension://cjedbglnccaioiolemnfhjncicchinao/ja/articles/autolinked-references-and-urls) を参照してください。\n",
        "\n",
        "### 外部リソースの参照\\n\n",
        "カスタムの自動リンク参照がリポジトリに設定されているなら、JIRAのIssueやZendeskのチケットのような外部リソースへの参照は、短縮リンクに変換される。 リポジトリで利用できる自動リンクを知るには、リポジトリの管理権限を持つ人に連絡してください。 詳しい情報については「[外部リソースを参照する自動リンクの設定](chrome-extension://cjedbglnccaioiolemnfhjncicchinao/ja/articles/configuring-autolinks-to-reference-external-resources)」を参照してください。\n"
      ]
    },
    {
      "cell_type": "markdown",
      "metadata": {
        "id": "ZQeDiUa8DoIy",
        "colab_type": "text"
      },
      "source": [
        "\n",
        "### コンテンツの添付\n",
        "GitHub App には、登録されたドメインにリンクする URL に対する情報を GitHub 内で提供するものがあります。 GitHub は、アプリケーションが提供した情報を Issue あるいはプルリクエストのボディもしくはコメント中の URL の下に表示する。\n",
        "\n",
        "![コンテンツの添付](chrome-extension://cjedbglnccaioiolemnfhjncicchinao/assets/images/help/writing/content-attachment.png)\n",
        "\n",
        "コンテンツの添付を見るには、リポジトリにインストールされた Content Attachments API を使う GitHub App が必要です。詳細は「[個人アカウントでアプリケーションをインストールする](chrome-extension://cjedbglnccaioiolemnfhjncicchinao/ja/articles/installing-an-app-in-your-personal-account)」および「[Organization でアプリケーションをインストールする](chrome-extension://cjedbglnccaioiolemnfhjncicchinao/ja/articles/installing-an-app-in-your-organization)」を参照してください。\n",
        "\n",
        "コンテンツの添付は、Markdown のリンクの一部になっている URL には表示されない。\n",
        "\n",
        "For more information about building a GitHub App that uses content attachments, see \"[Using Content Attachments](chrome-extension://cjedbglnccaioiolemnfhjncicchinao/ja/apps/using-content-attachments).\"\n",
        "\n",
        "### 絵文字の利用\n",
        "`:EMOJICODE:` を入力して、書き込みに絵文字を追加できる。\n",
        "\n",
        "`@octocat :+1: このPRは素晴らしいです - マージできるね！ :shipit:`\n",
        "\n",
        "![表示された絵文字](chrome-extension://cjedbglnccaioiolemnfhjncicchinao/assets/images/help/writing/emoji-rendered.png)\n",
        "\n",
        "`:` を入力すると、絵文字のサジェストリストが表示される。 このリストは、入力を進めるにつれて絞り込まれていくので、探している絵文字が見つかったら、**Tab** または **Enter** を押すと、ハイライトされているものが入力される。\n",
        "\n",
        "利用可能な絵文字とコードの完全なリストについては、[emoji-cheat-sheet.com](http://emoji-cheat-sheet.com/)を参照してください。\n"
      ]
    },
    {
      "cell_type": "markdown",
      "metadata": {
        "id": "gH5TGFrn_Gso",
        "colab_type": "text"
      },
      "source": [
        "\n",
        "### パラグラフ\\n\n",
        "テキスト行の間に空白行を残すことで、新しいパラグラフを作成できる。\n",
        "\n",
        "### Markdown のフォーマットの無視\n",
        "GitHubに対し、Markdown のキャラクタの前に \"\\\\\" を使うことで、Markdown のフォーマットを無視 (エスケープ) させることができる\n",
        "\n",
        "`\\*新しいプロジェクト\\* を \\*古いプロジェクト\\* にリネームしましょう`\n",
        "\n",
        "![表示されたエスケープキャラクタ](chrome-extension://cjedbglnccaioiolemnfhjncicchinao/assets/images/help/writing/escaped-character-rendered.png)\n",
        "\n",
        "詳しい情報については Daring Fireball の [Markdown Syntax](https://daringfireball.net/projects/markdown/syntax#backslash) を参照してください。\n"
      ]
    },
    {
      "cell_type": "markdown",
      "metadata": {
        "id": "Gy9xJyhGAfKM",
        "colab_type": "text"
      },
      "source": [
        "# 参考"
      ]
    },
    {
      "cell_type": "markdown",
      "metadata": {
        "id": "w4In1UCM_EEw",
        "colab_type": "text"
      },
      "source": [
        "\n",
        "### 参考リンク\n",
        "*   [GitHub Flavored Markdown の仕様](https://github.github.com/gfm/)(https://github.github.com/gfm/)\n",
        "*   [GitHub 上での書き込みと書式設定について](chrome-extension://cjedbglnccaioiolemnfhjncicchinao/ja/articles/about-writing-and-formatting-on-github)(chrome-extension://cjedbglnccaioiolemnfhjncicchinao/ja/articles/about-writing-and-formatting-on-github)\n",
        "*   [高度なフォーマットを使用して作業する](chrome-extension://cjedbglnccaioiolemnfhjncicchinao/ja/articles/working-with-advanced-formatting)(chrome-extension://cjedbglnccaioiolemnfhjncicchinao/ja/articles/working-with-advanced-formatting)\n",
        "*   [Markdown をマスターする](https://guides.github.com/features/mastering-markdown/)(https://guides.github.com/features/mastering-markdown/)\n",
        "\n",
        "\n",
        "Formatting text in Colaboratory: A guide to Colaboratory markdown\n",
        "https://colab.research.google.com/notebooks/markdown_guide.ipynb\n",
        "\n",
        "https://docs.github.com/ja/github/writing-on-github/basic-writing-and-formatting-syntax\n",
        "\n"
      ]
    }
  ]
}