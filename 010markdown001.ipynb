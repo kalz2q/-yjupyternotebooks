{
  "nbformat": 4,
  "nbformat_minor": 0,
  "metadata": {
    "colab": {
      "name": "markdown001.ipynb",
      "provenance": [],
      "toc_visible": true,
      "authorship_tag": "ABX9TyOCvvBTzmyAEOU2rpntuqwu",
      "include_colab_link": true
    },
    "kernelspec": {
      "name": "python3",
      "display_name": "Python 3"
    }
  },
  "cells": [
    {
      "cell_type": "markdown",
      "metadata": {
        "id": "view-in-github",
        "colab_type": "text"
      },
      "source": [
        "<a href=\"https://colab.research.google.com/github/kalz2q/myjupyternotebooks/blob/master/010markdown001.ipynb\" target=\"_parent\"><img src=\"https://colab.research.google.com/assets/colab-badge.svg\" alt=\"Open In Colab\"/></a>"
      ]
    },
    {
      "cell_type": "markdown",
      "metadata": {
        "id": "5LUZ9LWe8RQ2",
        "colab_type": "text"
      },
      "source": [
        "# Colabのマークダウン"
      ]
    },
    {
      "cell_type": "markdown",
      "metadata": {
        "id": "7FC6zQYR8YUl",
        "colab_type": "text"
      },
      "source": [
        "### メモ\n",
        "1. ColabのマークダウンはGitHubのマークダウンと基本は同じだが違う。\n",
        "2. 最大の違いは`html`を貼り付けられないこと。\n",
        "3. 細かい違いも、Colabだけを使用していると気にならないが、マークダウンにして他のサイトに貼り付けると表示がおかしい。\n",
        "4. 基本的には機能のほとんどないシンプルなマークダウンである。\n",
        "5. このファイルの読者はColabで開き、実験しながら進むことを想定する。セルをクリックしてセルの編集ボタンを押すか、セルをダブルクリックして編集に入り、上下もしくは左右に編集結果を並べながらテキストセルを編集することになる。編集から抜けるには`Esc`か、編集から抜ける(マークダウンエディタを閉じる)ボタンを押す。"
      ]
    },
    {
      "cell_type": "markdown",
      "metadata": {
        "id": "oKF3pSNx2czH",
        "colab_type": "text"
      },
      "source": [
        "# はじめに\n",
        "マークダウンとは、ウェブページを作るのに特化した簡易記法のこと。\n",
        "\n",
        "例えば大見出しを`<h1>見出し</h1>`、中見出しを`<h2>中見出し</h2>`とする代わりに`# 大見出し`、`## 中見出し`とすることなどによって、書きやすく、見やすく、覚えやすい。できること、表現に制限が生じるがそれは我慢するという考え。\n",
        "\n",
        "Colabはマークダウンで書くテキストセルと別に実行できるコードセルがありコードセルの機能が豊富なので、マークダウンの不便さを補っている。\n",
        "\n",
        "このノートブックはテキストセルで使えるマークダウンをColab上のエディターで実験しながら学んでいくためのものであり、読者はColabで開き、実験しながら進むことを想定する。セルをクリックしてセルの編集ボタンを押すか、セルをダブルクリックして編集に入り、上下もしくは左右に編集結果を並べながらテキストセルを編集することになる。編集から抜けるにはEscか、編集から抜ける(マークダウンエディタを閉じる)ボタンを押す。"
      ]
    },
    {
      "cell_type": "markdown",
      "metadata": {
        "id": "FVS3coKw2sCk",
        "colab_type": "text"
      },
      "source": [
        "# 基本的な書き方"
      ]
    },
    {
      "cell_type": "markdown",
      "metadata": {
        "id": "x1iPUwX7U98b",
        "colab_type": "text"
      },
      "source": [
        "### 見出し\n",
        "見出しを作成するには、1 つから 6 つの `#` シンボルを見出しのテキストの前に追加する。 使用する `#` の数によって、見出しのサイズが決まる。"
      ]
    },
    {
      "cell_type": "markdown",
      "metadata": {
        "id": "yuVzN6l22maK",
        "colab_type": "text"
      },
      "source": [
        "```\n",
        "# 最大の見出し\n",
        "## 2番目に大きな見出し\n",
        "###### 最も小さい見出し\n",
        "```    "
      ]
    },
    {
      "cell_type": "markdown",
      "metadata": {
        "id": "3BXnFNSv6rCJ",
        "colab_type": "text"
      },
      "source": [
        "Colabでは`#`の数と位置によって自動で目次が作られ、目次からジャンプできるので、```### [見出し](#midashi)```とわざわざ書く必要はない。\n",
        "\n",
        "行の下に`===`と`---`と書くと、`#`と`##`の代わりになる。"
      ]
    },
    {
      "cell_type": "markdown",
      "metadata": {
        "id": "ypYRp-hOUnxe",
        "colab_type": "text"
      },
      "source": [
        "### テキスト\n",
        "マークダウンの改行1個は無視される。複数の文で1つの段落になり、改行を2回続けると段落ができて、改行される。\n",
        "\n",
        "**太字**、*斜体*、~~取り消し線~~で強調を示すことができる。\n",
        "```\n",
        "**太字**、*斜体*、~~取り消し線~~で強調を示すことができる。\n",
        "```\n",
        "***太字かつ斜体はこうする。***\n",
        "```\n",
        "***太字かつ斜体はこうする。***\n",
        "```\n",
        "**太字の中に _斜体_ はこうする。**\n",
        "```\n",
        "**太字の中に _斜体_ はこうする。**\n",
        "```\n",
        "一般に`*`の代わりに`_`を使うことができる。`_`は __スペースが必要__ かも。\n",
        "\n",
        "趣味の問題でもあるが、**太字**や*斜体*を多用すると画面がうるさくなると思う。\n",
        "\n",
        "関連して、アルファベット alphabet や数字 3 の前後にスペースを入れるのは読みやすくはなるが、統一的にそうするのは自己管理がむずかしいので必須とはしたくない。コードの中置演算子の前後にスペースを置くことほどにも頑張らない。"
      ]
    },
    {
      "cell_type": "markdown",
      "metadata": {
        "id": "mmUDT2ZcVq14",
        "colab_type": "text"
      },
      "source": [
        "### 引用\n",
        "\n",
        "テキストは`>>`で引用できる。\n",
        "\n",
        "アブラハムリンカーンの言葉：:\n",
        ">>\n",
        "フランス語で   失礼する\n",
        "\n",
        "だがしかし!!!!\n",
        "\n",
        "サイトによっては`>`1つで引用のマークダウンがあって、`>>`とすると1つ余って表示されてしまう。\n",
        "\n",
        "Colabではコードが別途コードセルに書くことになるで、引用はバッククォート3つのコード表示でとりあえず代用したい。スペース4個でも可だが、バッククォート3つの方が確実だろう。スペースもフォーマットされずちゃんと表示される。\n",
        "```\n",
        "    フランス語で   失礼する\n",
        "```\n",
        "\n",
        "単一のバッククォートで文章内のコードやコマンドを`ハイライト`できる。 \n",
        "\n",
        "独立したブロック内にコードあるいはテキストをフォーマットするには、3 重のバッククォートを使用する。バッククォート内のテキストはフォーマットされない。\n",
        "\n",
        "\n",
        "\n",
        "\n",
        "\n"
      ]
    },
    {
      "cell_type": "markdown",
      "metadata": {
        "id": "7FSr7B8AR0Yx",
        "colab_type": "text"
      },
      "source": [
        "### リンク\n",
        "リンクのテキストをブラケット `[ ]` で囲み、URL をカッコ `( )` で囲めば、インラインのリンクを作成できる。 \n",
        "\n",
        "だがしかし!!!!\n",
        "\n",
        "このやりかただとURLが見えなくなる。一方、URLが書かれているだけで自動的にリンクは生じるので、明示的にリンクを示したいときは、リンクを2回書けばよい。\n",
        "```\n",
        "[Colab](https://colab.research.google.com) (https://colab.research.google.com)\n",
        "```\n",
        "結果\n",
        "\n",
        "[Colab](https://colab.research.google.com) (https://colab.research.google.com)\n"
      ]
    },
    {
      "cell_type": "markdown",
      "metadata": {
        "id": "4baEfCx3UOsL",
        "colab_type": "text"
      },
      "source": [
        "### リスト\n",
        "\n",
        "1 つ以上の行の前に `-` または `*` を置くことで、順序なしリストを作成できる。\n",
        "```\n",
        "- 織田信長\n",
        "- 豊臣秀吉\n",
        "- 徳川家康\n",
        "```    \n",
        "- 織田信長\n",
        "- 豊臣秀吉\n",
        "- 徳川家康\n",
        "\n",
        "リストを順序付けするには、各行の前に数字を置く。書いた数字に関係なく最初に書いた数字からの連番になる。常に1を書くのが簡単かもしれない。\n",
        "```\n",
        "5. 秀忠\n",
        "2. 家光\n",
        "1. 家綱\n",
        "```    \n",
        "5. 秀忠\n",
        "2. 家光\n",
        "1. 家綱"
      ]
    },
    {
      "cell_type": "markdown",
      "metadata": {
        "id": "lXbvfHub4Jlk",
        "colab_type": "text"
      },
      "source": [
        "### 入れ子になったリスト\n",
        "\n",
        "1つ以上のリストアイテムを他のアイテムの下にインデントすることで、入れ子になったリストを作成できる。\n",
        "```\n",
        "1. 最初のアイテム\n",
        "    1. 次のアイテム\n",
        "        1. これはどうだ\n",
        "    1. もとにもどしてみる\n",
        "1. 最後のアイテム\n",
        "```\n",
        "1. 最初のアイテム\n",
        "    1. 次のアイテム\n",
        "        1. これはどうだ\n",
        "    1. もとにもどしてみる\n",
        "1. 最後のアイテム\n",
        "\n"
      ]
    },
    {
      "cell_type": "markdown",
      "metadata": {
        "id": "1ucBl1FYVwih",
        "colab_type": "text"
      },
      "source": [
        "\n",
        "### タスクリスト(チェックボックス)\n",
        "\n",
        "タスクリスト(チェックボックス)\n",
        "タスクリストを作成するには、リストアイテムの前に空白を置き、その後に`[ ]`を続ける。 タスクを完了したとマークするには`[x]`を使う。\n",
        "```\n",
        "- [x] Finish my changes\n",
        "- [ ] Push my commits to GitHub\n",
        "- [ ] Open a pull request\n",
        "```\n",
        " * [x] Finish my changes\n",
        " * [ ] Push my commits to GitHub\n",
        " * [ ] Open a pull request\n",
        "\n",
        "\n"
      ]
    },
    {
      "cell_type": "markdown",
      "metadata": {
        "id": "gH5TGFrn_Gso",
        "colab_type": "text"
      },
      "source": [
        "### エスケープ\n",
        "マークダウンのキャラクター(`*`とか`_`とか)の前に`\\` を使うことで、マークダウンのフォーマットを無視 (エスケープ) することができる 。\n",
        "```\n",
        "`\\*新しいプロジェクト\\* を \\*古いプロジェクト\\* にリネームしましょう`\n",
        "\n",
        "**とか**です。\n",
        "```\n",
        "\n",
        "\\*新しいプロジェクト\\* を \\*古いプロジェクト\\* にリネームしましょう\n",
        "\n",
        "**とか**です。\n",
        "\n"
      ]
    },
    {
      "cell_type": "markdown",
      "metadata": {
        "id": "Gy9xJyhGAfKM",
        "colab_type": "text"
      },
      "source": [
        "# 参考"
      ]
    },
    {
      "cell_type": "markdown",
      "metadata": {
        "id": "w4In1UCM_EEw",
        "colab_type": "text"
      },
      "source": [
        "\n",
        "### 参考リンク\n",
        "*   [GitHub Flavored Markdown の仕様](https://github.github.com/gfm/) (https://github.github.com/gfm/)\n",
        "*   [GitHub 上での書き込みと書式設定について](chrome-extension://cjedbglnccaioiolemnfhjncicchinao/ja/articles/about-writing-and-formatting-on-github)(chrome-extension://cjedbglnccaioiolemnfhjncicchinao/ja/articles/about-writing-and-formatting-on-github)\n",
        "*   [高度なフォーマットを使用して作業する](chrome-extension://cjedbglnccaioiolemnfhjncicchinao/ja/articles/working-with-advanced-formatting)(chrome-extension://cjedbglnccaioiolemnfhjncicchinao/ja/articles/working-with-advanced-formatting)\n",
        "*   [Markdown をマスターする](https://guides.github.com/features/mastering-markdown/)(https://guides.github.com/features/mastering-markdown/)\n",
        "\n",
        "\n",
        "* Formatting text in Colaboratory: A guide to Colaboratory markdown\n",
        "https://colab.research.google.com/notebooks/markdown_guide.ipynb\n",
        "\n",
        "* https://docs.github.com/ja/github/writing-on-github/basic-writing-and-formatting-syntax\n",
        "\n"
      ]
    }
  ]
}