{
  "nbformat": 4,
  "nbformat_minor": 0,
  "metadata": {
    "colab": {
      "name": "math_discrete_moriyaetsuro.ipynb",
      "provenance": [],
      "toc_visible": true,
      "authorship_tag": "ABX9TyP0nCisx0yrCLoONMBsJIHc",
      "include_colab_link": true
    },
    "kernelspec": {
      "name": "python3",
      "display_name": "Python 3"
    },
    "language_info": {
      "name": "python"
    }
  },
  "cells": [
    {
      "cell_type": "markdown",
      "metadata": {
        "id": "view-in-github",
        "colab_type": "text"
      },
      "source": [
        "<a href=\"https://colab.research.google.com/github/kalz2q/mycolabnotebooks/blob/master/math_discrete_moriyaetsuro.ipynb\" target=\"_parent\"><img src=\"https://colab.research.google.com/assets/colab-badge.svg\" alt=\"Open In Colab\"/></a>"
      ]
    },
    {
      "cell_type": "markdown",
      "metadata": {
        "id": "DwsPMfBd7TII"
      },
      "source": [
        "# メモ\n",
        "\n",
        " 離散数学入門 情報系のための数学 守屋悦朗\n",
        "\n",
        " を読む。"
      ]
    },
    {
      "cell_type": "markdown",
      "metadata": {
        "id": "XxA_cWbW8cu8"
      },
      "source": [
        "http://www.f.waseda.jp/moriya/books/DM/"
      ]
    },
    {
      "cell_type": "markdown",
      "metadata": {
        "id": "5JSJYXdY9jAL"
      },
      "source": [
        "# 集合"
      ]
    },
    {
      "cell_type": "markdown",
      "metadata": {
        "id": "WYF7e4CAoTF-"
      },
      "source": [
        "$x$ が集合 $X$ の元であることを\n",
        "\n",
        "$\\quad \\quad x \\in X \\quad$ とか $\\quad X \\owns x$\n",
        "\n",
        "で表す。 \n",
        "\n",
        "$x$ は $X$ に属す、含まれる、含む、とか言う。\n",
        "\n",
        "$x$ が $X$ の元でないことは\n",
        "\n",
        "$\\quad \\quad x \\not \\in X \\quad$ とか $\\quad X \\not \\owns x$\n",
        "\n",
        "で表す。 \n",
        "\n",
        "集合 $X$ が条件 $P(x)$ を満たす $x$ の集まりであるとき、\n",
        "\n",
        "$\\quad \\quad X ＝ \\{x \\ |\\ P(x) \\}$\n",
        "\n",
        "で表す。 \n",
        "\n",
        "$x$ を集合 $Y$ の元に限定するときは\n",
        "\n",
        "$\\quad \\quad X ＝ \\{x \\in Y \\ |\\ P(x) \\}$\n",
        "\n",
        "と書くこともある。\n",
        "\n",
        "元を列挙できるとき\n",
        "\n",
        "$\\quad \\quad X ＝ \\{a,b,\\cdots,c \\}$\n",
        "\n",
        "と書く。\n",
        "\n",
        "空集合は記号 $\\quad \\phi \\quad \\emptyset \\quad \\varnothing$ などで表す。\n",
        "\n",
        "メモ `\\phi, \\emptyset, \\varnothing`\n"
      ]
    },
    {
      "cell_type": "markdown",
      "metadata": {
        "id": "qdTFvDXxrojz"
      },
      "source": [
        "p.2\n",
        "\n",
        "自然数 $\\quad \\mathbf N$ $\\quad$ #=> $\\quad$0 を含むかどうか。\n",
        "\n",
        "すべての整数 $\\quad \\mathbf Z$\n",
        "\n",
        "実数 $\\quad \\mathbf R$\n",
        "\n",
        "有理数 $\\quad \\mathbf Q$ $\\quad$ #=> $\\quad$ $\\frac p q $ で表せる数\n",
        "\n",
        "メモ $\\quad$ これらは `\\mathbf` で書く。\n"
      ]
    },
    {
      "cell_type": "markdown",
      "metadata": {
        "id": "qcmOS5BJlBRz"
      },
      "source": [
        "集合の表し方\n",
        "\n",
        "1. $\\{x,y\\}=\\{y,x\\}\\quad$ 集合は順序は関係ない。同じ元は普通は含まない。\n",
        "1. $\\{x\\ |\\ x \\in \\mathbf N, x^2 < 10\\} = \\{0,1,2,3 \\}$  $\\quad$ #=> 自然数で、2乗しても10以下の数の集合\n",
        "1. $\\{x \\in \\mathbf R \\ |\\ x^2 < 10\\} = \\emptyset$\n"
      ]
    },
    {
      "cell_type": "markdown",
      "metadata": {
        "id": "hkugUkWH0o9J"
      },
      "source": [
        "集合の表し方\n",
        "\n",
        "1. $\\mathbf N = \\{0,1,2,\\cdots\\}$ であり、偶数の全体は $E=\\{\\pm2n \\ | \\ n \\in \\mathbf N\\}$ である。\n",
        "1. $\\mathbf Z =\\{ n \\ | \\ n \\in \\mathbf N \\ または -n \\in \\mathbf N\\}$\n",
        "1. $\\mathbf Q = \\displaystyle \\left \\{\\frac q p \\ | \\ p \\in \\mathbf Z,\\ p \\neq 0,\\ q \\in \\mathbf Z \\right \\}$"
      ]
    },
    {
      "cell_type": "markdown",
      "metadata": {
        "id": "GGlNVntq2Cd4"
      },
      "source": [
        "区間の表示\n",
        "\n",
        "1. $(a,b)=\\{x \\in \\mathbf R \\ | \\ a \\lt x \\lt b \\}$\n",
        "1. $(a,b]=\\{x \\in \\mathbf R \\ | \\ a \\lt x \\leq b \\}$\n",
        "1. $[a,b)=\\{x \\in \\mathbf R \\ | \\ a \\leq x \\lt b \\}$\n",
        "1. $[a,b]=\\{x \\in \\mathbf R \\ | \\ a \\leq x \\leq b \\}$\n",
        "1. $(-\\infty,b)=\\{x \\in \\mathbf R \\ | \\ x \\lt b \\}$\n",
        "1. $[a,\\infty)=\\{x \\in \\mathbf R \\ | \\ a \\leq x \\}$\n"
      ]
    },
    {
      "cell_type": "markdown",
      "metadata": {
        "id": "jYhlD4QVbiHs"
      },
      "source": [
        "集合が等しいとは $\\quad$ 2つの集合 $X$ と $Y$ が等しいとは、$X$ と $Y$ が全く同じ元を含んでいること。 すなわち、$X$ の元はすべて $Y$ の元であり、また $Y$ の元もすべて $X$ の元であることである。\n",
        "\n",
        "このことを記号で書く。\n",
        "\n",
        "$\\quad\\quad x \\in X \\Longrightarrow x \\in Y \\quad $ かつ $\\quad  x \\in  Y \\Longrightarrow x \\in X$\n",
        "\n",
        "このとき $X = Y$ と書く。 \n",
        "\n",
        "記号 $\\Longrightarrow$ は、ならば、を表す。\n",
        "\n",
        "この場合の $x$ は任意の元を考えているので、そのことを強調して、\n",
        "\n",
        "$\\quad \\quad \\forall x [(x \\in X \n",
        "\\Longrightarrow x \\in Y ) \\land (x \\in  Y \\Longrightarrow x \\in X)]$\n",
        "\n",
        "と書くこともある。\n",
        "\n",
        "$\\forall$ を全称記号と言う。\n",
        "\n",
        "$\\quad \\quad \\forall x P(x)$\n",
        "\n",
        "は、任意のすべての $X$ に対して、$P(x)$ が成り立つ、ことを表す。\n",
        "\n",
        "記号 $\\land$ は、かつ、を表す。\n",
        "\n",
        "記号 $\\lor$ は、または、を表す。\n",
        "\n",
        "記号 $\\lnot$ は、～でない、を表す。\n",
        "\n",
        "一般に $P \\implies Q$ であるとき\n",
        "\n",
        "$P$ は $Q$ の十分条件であると言う。\n",
        "\n",
        "$Q$ は $P$ の必要条件と言う。\n",
        "\n",
        "$\\exists$ は存在記号と言う。\n",
        "\n",
        "$\\quad \\quad \\exists x P(x)$\n",
        "\n",
        "は $P(x)$ を成り立たせる $x$ が存在する、ことを表す。\n",
        "\n",
        "$\\exists x \\geq 0$ は、負でない数 $x$ が存在して、と言うふうに読む。\n",
        "\n",
        "$P \\iff Q$ は $\\iff$\n",
        "\n",
        "$\\quad \\not \\! \\! \\! \\Longleftrightarrow$\n",
        "\n",
        "\n"
      ]
    },
    {
      "cell_type": "markdown",
      "metadata": {
        "id": "bmUXtSFiwrtG"
      },
      "source": [
        "# 論理記号一覧"
      ]
    },
    {
      "cell_type": "markdown",
      "metadata": {
        "id": "jrq0COXNko9Q"
      },
      "source": [
        "# いまここ"
      ]
    },
    {
      "cell_type": "markdown",
      "metadata": {
        "id": "T2u-K4X2dKfD"
      },
      "source": [
        "# 集合の濃度\n",
        "\n",
        "集合 $X$ から集合 $Y$ への全単射 $\\varphi：X→Y$ が存在するとき $X$ と $Y$ は濃度が等しいといい， $X∼Y$ と書く．\n",
        "\n",
        "&nbsp;\n",
        "\n",
        "任意の集合 $X, Y, Z$ に対して次の基本的性質が成り立つ．\n",
        "\n",
        "**濃度の等しさに関する性質**\n",
        "\n",
        "1. $X∼X$ (反射律)\n",
        "1. $X∼Y⇒Y∼X$ (対称律)\n",
        "1. $X∼Y∧Y∼Z⇒X∼Z$ (推移律)\n",
        "1. $X×Y∼Y×X$\n",
        "1. $X×(Y×Z)∼(X×Y)×Z$\n",
        "1. $X∼Y∧Z∼W⇒X×Z∼Y×W$"
      ]
    },
    {
      "cell_type": "markdown",
      "metadata": {
        "id": "OGAWBzpANUGZ"
      },
      "source": [
        "# 関係\n"
      ]
    },
    {
      "cell_type": "markdown",
      "metadata": {
        "id": "Y7ftxw3xNZg2"
      },
      "source": [
        "集合 $A$ の元 $a$ と $B$ の元 $b$ とが、ある条件 $\\rho$ (ロー) を満たすとき、\n",
        "これらは $\\rho$ の関係にある、と言い、$a \\,\\rho\\, b$ と書く。\n",
        "\n",
        "$\\rho$ の関係にある弦の対、$(a,b)$ の全体は $A \\times B$ の部分集合 $\\rho = \\{(a,b) | a \\,\\rho\\, b\\}$ と同一視してよい。\n",
        "\n",
        "例えば、実数の間の大小関係 $\\leq$ は、集合 $\\{(x,y) \\in \\mathrm R \\times \\mathrm R \\ |\\  x \\leq y    \\}$ のことである。\n",
        "\n",
        "\n"
      ]
    },
    {
      "cell_type": "markdown",
      "metadata": {
        "id": "LNzZXeDqXMHJ"
      },
      "source": [
        "例えば、好き、という関係 Love は\n",
        "\n",
        "$\\quad \\quad (a,b) \\in Love \\overset{\\text{def kjhjk l;j;}}{\\Longleftrightarrow}$"
      ]
    },
    {
      "cell_type": "markdown",
      "metadata": {
        "id": "2HyeOw8d9_hQ"
      },
      "source": [
        "# いまここ"
      ]
    },
    {
      "cell_type": "markdown",
      "metadata": {
        "id": "W02JZ2tb9o6w"
      },
      "source": [
        "# 最後"
      ]
    }
  ]
}