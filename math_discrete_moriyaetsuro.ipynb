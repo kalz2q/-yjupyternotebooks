{
  "nbformat": 4,
  "nbformat_minor": 0,
  "metadata": {
    "colab": {
      "name": "math_discrete_moriyaetsuro.ipynb",
      "provenance": [],
      "toc_visible": true,
      "authorship_tag": "ABX9TyNLKl3ngjiXjr9TSBjC8tJP",
      "include_colab_link": true
    },
    "kernelspec": {
      "name": "python3",
      "display_name": "Python 3"
    },
    "language_info": {
      "name": "python"
    }
  },
  "cells": [
    {
      "cell_type": "markdown",
      "metadata": {
        "id": "view-in-github",
        "colab_type": "text"
      },
      "source": [
        "<a href=\"https://colab.research.google.com/github/kalz2q/mycolabnotebooks/blob/master/math_discrete_moriyaetsuro.ipynb\" target=\"_parent\"><img src=\"https://colab.research.google.com/assets/colab-badge.svg\" alt=\"Open In Colab\"/></a>"
      ]
    },
    {
      "cell_type": "markdown",
      "metadata": {
        "id": "DwsPMfBd7TII"
      },
      "source": [
        "# メモ\n",
        "\n",
        " 離散数学入門 情報系のための数学 守屋悦朗\n",
        "\n",
        " を読む。"
      ]
    },
    {
      "cell_type": "markdown",
      "metadata": {
        "id": "XxA_cWbW8cu8"
      },
      "source": [
        "http://www.f.waseda.jp/moriya/books/DM/"
      ]
    },
    {
      "cell_type": "markdown",
      "metadata": {
        "id": "5JSJYXdY9jAL"
      },
      "source": [
        "# 集合"
      ]
    },
    {
      "cell_type": "markdown",
      "metadata": {
        "id": "WYF7e4CAoTF-"
      },
      "source": [
        "$x$ が集合 $X$ の元であることを\n",
        "\n",
        "$\\quad \\quad x \\in X \\quad$ とか $\\quad X \\owns x$\n",
        "\n",
        "で表す。 \n",
        "\n",
        "$x$ は $X$ に属す、含まれる、含む、とか言う。\n",
        "\n",
        "$x$ が $X$ の元でないことは\n",
        "\n",
        "$\\quad \\quad x \\not \\in X \\quad$ とか $\\quad X \\not \\owns x$\n",
        "\n",
        "で表す。 \n",
        "\n",
        "集合 $X$ が条件 $P(x)$ を満たす $x$ の集まりであるとき、\n",
        "\n",
        "$\\quad \\quad X ＝ \\{x \\ |\\ P(x) \\}$\n",
        "\n",
        "で表す。 \n",
        "\n",
        "$x$ を集合 $Y$ の元に限定するときは\n",
        "\n",
        "$\\quad \\quad X ＝ \\{x \\in Y \\ |\\ P(x) \\}$\n",
        "\n",
        "と書くこともある。\n",
        "\n",
        "元を列挙できるとき\n",
        "\n",
        "$\\quad \\quad X ＝ \\{a,b,\\cdots,c \\}$\n",
        "\n",
        "と書く。\n",
        "\n",
        "空集合は記号 $\\quad \\phi \\quad \\emptyset \\quad \\varnothing$ などで表す。\n",
        "\n",
        "メモ `\\phi, \\emptyset, \\varnothing`\n",
        "\n",
        "&nbsp;\n"
      ]
    },
    {
      "cell_type": "markdown",
      "metadata": {
        "id": "qdTFvDXxrojz"
      },
      "source": [
        "自然数 $\\quad \\mathbf N$ $\\quad$ #=> $\\quad$0 を含むかどうか。\n",
        "\n",
        "すべての整数 $\\quad \\mathbf Z$\n",
        "\n",
        "実数 $\\quad \\mathbf R$\n",
        "\n",
        "有理数 $\\quad \\mathbf Q$ $\\quad$ #=> $\\quad$ $\\frac p q $ で表せる数\n",
        "\n",
        "メモ $\\quad$ これらは `\\mathbf` で書く。\n",
        "\n",
        "&nbsp;"
      ]
    },
    {
      "cell_type": "markdown",
      "metadata": {
        "id": "qcmOS5BJlBRz"
      },
      "source": [
        "集合の表し方\n",
        "\n",
        "1. $\\{x,y\\}=\\{y,x\\}\\quad$ 集合は順序は関係ない。同じ元は普通は含まない。\n",
        "1. $\\{x \\ |\\ x \\in \\mathbf N,\\  x^2 < 10\\} = \\{0,1,2,3 \\}$  $\\quad$ #=> 自然数で、2乗しても10以下の数の集合\n",
        "1. $\\{x \\in \\mathbf R \\ |\\ x^2 < 10\\} = \\emptyset$\n"
      ]
    },
    {
      "cell_type": "markdown",
      "metadata": {
        "id": "hkugUkWH0o9J"
      },
      "source": [
        "集合の表し方\n",
        "\n",
        "1. $\\mathbf N = \\{0,1,2,\\cdots\\}$ であり、偶数の全体は $E=\\{\\pm2n \\ | \\ n \\in \\mathbf N\\}$ である。\n",
        "1. $\\mathbf Z =\\{ n \\ | \\ n \\in \\mathbf N \\ または -n \\in \\mathbf N\\}$\n",
        "1. $\\mathbf Q = \\displaystyle \\left \\{\\frac q p \\ | \\ p \\in \\mathbf Z,\\ p \\neq 0,\\ q \\in \\mathbf Z \\right \\}$"
      ]
    },
    {
      "cell_type": "markdown",
      "metadata": {
        "id": "GGlNVntq2Cd4"
      },
      "source": [
        "区間の表示\n",
        "\n",
        "1. $(a,b)=\\{x \\in \\mathbf R \\ | \\ a \\lt x \\lt b \\}$\n",
        "1. $(a,b]=\\{x \\in \\mathbf R \\ | \\ a \\lt x \\leq b \\}$\n",
        "1. $[a,b)=\\{x \\in \\mathbf R \\ | \\ a \\leq x \\lt b \\}$\n",
        "1. $[a,b]=\\{x \\in \\mathbf R \\ | \\ a \\leq x \\leq b \\}$\n",
        "1. $(-\\infty,b)=\\{x \\in \\mathbf R \\ | \\ x \\lt b \\}$\n",
        "1. $[a,\\infty)=\\{x \\in \\mathbf R \\ | \\ a \\leq x \\}$\n"
      ]
    },
    {
      "cell_type": "markdown",
      "metadata": {
        "id": "jYhlD4QVbiHs"
      },
      "source": [
        "集合が等しいとは $\\quad$ 2つの集合 $X$ と $Y$ が等しいとは、$X$ と $Y$ が全く同じ元を含んでいること。 すなわち、$X$ の元はすべて $Y$ の元であり、また $Y$ の元もすべて $X$ の元であることである。\n",
        "\n",
        "このことを記号で書く。\n",
        "\n",
        "$\\quad\\quad x \\in X \\Longrightarrow x \\in Y \\quad $ かつ $\\quad  x \\in  Y \\Longrightarrow x \\in X$\n",
        "\n",
        "このとき $X = Y$ と書く。 \n",
        "\n",
        "記号 $\\implies$ は、ならば、を表す。\n",
        "\n",
        "この場合の $x$ は任意の元を考えているので、そのことを強調して、\n",
        "\n",
        "$\\quad \\quad \\forall x [(x \\in X \n",
        "\\Longrightarrow x \\in Y ) \\land (x \\in  Y \\Longrightarrow x \\in X)]$\n",
        "\n",
        "と書くこともある。\n",
        "\n",
        "$\\forall$ を全称記号と言う。\n",
        "\n",
        "$\\quad \\quad \\forall x P(x)$\n",
        "\n",
        "は、任意のすべての $X$ に対して、$P(x)$ が成り立つ、ことを表す。\n",
        "\n",
        "記号 $\\land$ は、かつ、を表す。\n",
        "\n",
        "記号 $\\lor$ は、または、を表す。\n",
        "\n",
        "記号 $\\lnot$ は、～でない、を表す。否定。\n",
        "\n",
        "一般に $P \\implies Q$ であるとき\n",
        "\n",
        "$P$ は $Q$ の十分条件であると言う。\n",
        "\n",
        "$Q$ は $P$ の必要条件と言う。\n",
        "\n",
        "$\\exists$ は存在記号と言う。\n",
        "\n",
        "$\\quad \\quad \\exists x P(x)$\n",
        "\n",
        "は $P(x)$ を成り立たせる $x$ が存在する、ことを表す。\n",
        "\n",
        "$\\exists x \\geq 0$ は、負でない数 $x$ が存在して、と言うふうに読む。\n",
        "\n",
        "$P \\iff Q$ は $(P \\implies ) \\land (Q \\implies P)$ の意。 $P$ が成り立つための必要十分条件は $Q$ が成り立つことである。 $P$ と $Q$ は同値、とか $P$ と $Q$ は等価とも言う。\n",
        "\n",
        "&nbsp;\n",
        "\n",
        "\n",
        "\n"
      ]
    },
    {
      "cell_type": "markdown",
      "metadata": {
        "id": "bmUXtSFiwrtG"
      },
      "source": [
        "# 論理記号一覧\n",
        "\n",
        "記号 | latex | 備考\n",
        "--- | :-: | ---\n",
        "$\\in$ | \\in | 属する、元である、含まれる\n",
        "$\\owns$ | \\owns | 含む\n",
        "$\\implies$ | \\implies | ならば\n",
        "$\\Longrightarrow$ | \\Longrightarrow | ならば\n",
        "$\\not \\in$ | \\not \\in | 属すの否定\n",
        "$\\not \\owns$ | \\not \\owns | 含むの否定\n",
        "$\\phi$ | \\phi | 空集合\n",
        "$\\emptyset$ | \\emptyset | 空集合\n",
        "$\\varnothing$ | \\varnothing | 空集合\n",
        "$\\forall$ | \\forall | 全称記号、任意のすべての\n",
        "$\\exists$ | \\exists | 存在記号\n",
        "$\\land$ | \\land | かつ\n",
        "$\\lor$ | \\lor | または\n",
        "$\\lnot$ | \\lnot | でない\n",
        "$\\neg$ | \\neg | でない\n",
        "$\\iff$ | \\iff | 必要十分条件、同値、等価\n",
        "$\\Longleftrightarrow$ | \\Longleftrightarrow | 必要十分条件、同値、等価\n",
        "$\\Longleftarrow$ | \\Longleftarrow | 逆向きのならば\n",
        "$\\overset{\\text{def}}{\\iff}$ | \\overset{\\text{def}}{\\iff} | 定義\n",
        "\n",
        "\n"
      ]
    },
    {
      "cell_type": "markdown",
      "metadata": {
        "id": "iKeTYyOX51Wj"
      },
      "source": [
        "例 1.2 $\\quad \\forall x,\\ \\exists x,\\implies$ などの使用法。\n",
        "\n",
        "1. 空集合 $\\emptyset$ に対しては、$\\forall x [x \\not \\in \\emptyset]$ どんな $x$ も空集合の元ではない、や $\\neg \\exists x [x \\in \\emptyset]$ 空集合に属する $x$ が存在することはない、が成り立つ。 また、存在しない、に記号 $\\not \\exists$ を使って、 $\\not \\exists x [x \\in \\emptyset]$ と書いてもよい。\n",
        "\n",
        "1. $\\forall x [x \\in \\mathbf N \\implies x \\geq 0]$ $x$ が自然数なら $x \\gec 0$ である。これは $\\forall x \\in \\mathbf N [x \\geq 0]$ と書いてもよい。\n",
        "\n",
        "1. $\\forall x \\in \\mathbf R \\ \\forall y \\in \\mathbf R [x+y \\gt 0 \\land xy \\gt 0 \\implies x \\gt0 \\land y \\gt 0]$ は記号の適用順 (式の評価順) についてのルールに従って可能な限り括弧を省略している。\n",
        "\n",
        "    括弧をつけた場合の同じ式:\n",
        "\n",
        "    $\\forall x \\in \\mathbf R \\ \\forall y \\in \\mathbf R [((x+y \\gt 0) \\land (xy \\gt 0)) \\implies ((x \\gt0) \\land (y \\gt 0))]$ \n",
        "\n",
        "    和も積も正である 2つの実数は、共に性である、ことを表す。この式の逆:\n",
        "\n",
        "    $\\forall x \\in \\mathbf R \\ \\forall y \\in \\mathbf R [x \\gt0 \\land y \\gt 0 \\implies x+y \\gt 0 \\land xy \\gt 0]$\n",
        "\n",
        "    すなわち、正の 2実数の和と積は共に正である、も成り立つので\n",
        "\n",
        "    $\\forall x \\in \\mathbf R \\ \\forall y \\in \\mathbf R [x \\gt0 \\land y \\gt 0 \\Longleftrightarrow x+y \\gt 0 \\land xy \\gt 0]$\n",
        "\n",
        "    すなわち、2つの実数が共に正であるための必要十分条件は和も積も正である、である。 換言すると、任意の実数 $x,y$ について、$x \\gt0 \\land y \\gt 0$ と $x+y \\gt 0 \\land xy \\gt 0$ は同値である。\n",
        "\n",
        "4. どんな実数 $x$ に対しても、 $x+y=0$ となる実数 $y$ が存在する、ことは\n",
        "\n",
        "    $\\quad\\quad \\forall x \\in \\mathbf R [x+y=0 となる y\\ \\in \\mathrm R が存在する]$\n",
        "\n",
        "    と表せるから、`[ ]`  内を存在記号を使って表すと\n",
        "\n",
        "    $\\quad\\quad \\forall x \\in \\mathbf R [\\exists y\\ \\in \\mathrm R \\ |\\ [x+y=0]]$\n",
        "\n",
        "    となる。このような場合、 `[ ]`  が重なるのを避けて、\n",
        "\n",
        "    $\\quad\\quad \\forall x \\in \\mathbf R \\ \\exists y\\ \\in \\mathrm R [x+y=0]$\n",
        "\n",
        "    の用に書く。従って、\n",
        "\n",
        "    $\\quad\\quad \\exists y\\ \\in \\mathrm R \\ \\forall x \\in \\mathbf R[x+y=0]$\n",
        "\n",
        "    は $\\exists y\\ \\in \\mathrm R \\ [\\forall x \\in \\mathbf R[x+y=0]]$の省略形であり、ある実数 $y$が存在して、どんな実数 $x$ に対しても $x+y=0$ となる、と言う命題であり、そんなことは成り立たないので、意味が違う。\n",
        "\n",
        "&nbsp;\n",
        "\n",
        "\n",
        "\n"
      ]
    },
    {
      "cell_type": "markdown",
      "metadata": {
        "id": "B7bV2KNwhh-5"
      },
      "source": [
        "**定義を表す記法**\n",
        "\n",
        "$\\overset{\\text{def}}{\\iff}$ を用いる。\n",
        "\n",
        "特に、集合や要素や関数をを定義する際は、$:=$ を用いることもある。\n",
        "\n",
        "$P \\overset{\\text{def}}{\\iff} Q\\quad$ $P$ であることを記述 $Q$ によって定義する。\n",
        "\n",
        "$X := \\mathcal Y \\quad$ 集合や要素や関数 $X$ を $\\mathcal Y$ として定義する。\n",
        "\n",
        "&nbsp;\n"
      ]
    },
    {
      "cell_type": "markdown",
      "metadata": {
        "id": "JntA6M8G6SHh"
      },
      "source": [
        "# いまここ"
      ]
    },
    {
      "cell_type": "markdown",
      "metadata": {
        "id": "5akkt_xpjSVB"
      },
      "source": [
        "例 1.3 定義の書き方\n",
        "\n",
        "偶数の集合 $E$ は次のいずれの方法でも定義できる。\n",
        "1. $E := \\{n \\in \\mathbf Z \\ |\\ n は 2で割り切れる\\}$\n",
        "1. $n \\in E \\overset{\\text{def}}{\\iff} n \\in \\mathbf Z \\land 2 | n$\n",
        "\n",
        "ここで $x|n$ は、$x$ は $y$ を割り切る、ことを表す。\n",
        "\n",
        "$x,y \\in \\mathbf Z$ のとき、$z$ が $x$ と $y$ の最大公約数であること ($z=\\gcd (x,y)$) は次のように定義することができる:\n",
        "\n",
        "$\\quad\\quad z=\\gcd(x,y) \\overset{\\text{def}}{\\iff} z | x \\land z | y \\land \\not \\exists w \\in \\mathbf z [w |x \\land w|y \\land z < w]$\n",
        "\n",
        "&nbsp;\n"
      ]
    },
    {
      "cell_type": "markdown",
      "metadata": {
        "id": "ydVLlvnPsYn3"
      },
      "source": [
        "理解度確認問題 1.1 p.6 次の集合の元をすべて示す\n",
        "\n",
        "(1) $\\{n\\in \\mathbf N \\ |\\ n = n^2\\}$ #=> {0,1}\n",
        "\n",
        "(2) $\\{n\\in \\mathbf Z \\ |\\ n^3 + 1 = 0\\}$ #=> {-1}\n",
        "\n",
        "(3) $\\{2n+1 \\ |\\ n は 10 以下の素数\\}$ #=> {5,7,11,15}\n",
        "\n",
        "(4) $\\{n\\in \\mathbf N \\ |\\ 10 \\leq n^2 \\leq 100\\}$ #=> {4,5,6,7,8,9,10}\n",
        "\n",
        "(5) $\\{x \\in \\mathbf Q \\ |\\ 0 \\lt x \\lt 1 \\land 10x \\in \\mathbf N\\}$ #=> {0.1,0.2,$\\cdots$,0.9}\n",
        "\n",
        "(6) $\\{\\gcd (x, x+1)\\ |\\ x \\in \\mathbf N\\}$ #=> {1}\n",
        "\n",
        "(7) $\\{x \\in \\mathbf Z \\ |\\ x \\in (-1,0) \\lor x \\in [0,1)\\}$ #=> {0{\n",
        "\n",
        "(8) $\\{x \\in \\mathbf R \\ |\\ \\forall y \\in \\mathbf R[x \\geq y]\\}$ #=> $\\emptyset$\n",
        "\n",
        "(9) $\\{x \\in \\{0,2,4,6,8\\}\\ |\\ \\exists y \\in \\mathbf N[x=4y\\}$ #=> {0,4,8}\n",
        "\n",
        "&nbsp;\n"
      ]
    },
    {
      "cell_type": "markdown",
      "metadata": {
        "id": "cDDE0YEq6iSh"
      },
      "source": [
        "理解度確認問題 1.2 p.6 次の式の意味を言う\n",
        "\n",
        "(1) $2\\ |\\ x \\land 3\\ |\\ x \\implies 6\\ |\\ x$ #=> x が 2で割り切れ、かつ 3で割り切れるならば、x は 6 で割り切れる\n",
        "\n",
        "(2) $x$ が素数 $\\implies \\not \\exists y \\in \\mathbf Z[x=4y]$ x が素数ならば x は 4 の倍数ではない\n",
        "\n",
        "(3)"
      ]
    },
    {
      "cell_type": "markdown",
      "metadata": {
        "id": "jrq0COXNko9Q"
      },
      "source": [
        "# メモ $\\quad$ いまここ"
      ]
    },
    {
      "cell_type": "markdown",
      "metadata": {
        "id": "T2u-K4X2dKfD"
      },
      "source": [
        "# 集合の濃度\n",
        "\n",
        "集合 $X$ から集合 $Y$ への全単射 $\\varphi：X→Y$ が存在するとき $X$ と $Y$ は濃度が等しいといい， $X∼Y$ と書く．\n",
        "\n",
        "&nbsp;\n",
        "\n",
        "任意の集合 $X, Y, Z$ に対して次の基本的性質が成り立つ．\n",
        "\n",
        "**濃度の等しさに関する性質**\n",
        "\n",
        "1. $X∼X$ (反射律)\n",
        "1. $X∼Y⇒Y∼X$ (対称律)\n",
        "1. $X∼Y∧Y∼Z⇒X∼Z$ (推移律)\n",
        "1. $X×Y∼Y×X$\n",
        "1. $X×(Y×Z)∼(X×Y)×Z$\n",
        "1. $X∼Y∧Z∼W⇒X×Z∼Y×W$"
      ]
    },
    {
      "cell_type": "markdown",
      "metadata": {
        "id": "OGAWBzpANUGZ"
      },
      "source": [
        "# 関係\n"
      ]
    },
    {
      "cell_type": "markdown",
      "metadata": {
        "id": "Y7ftxw3xNZg2"
      },
      "source": [
        "集合 $A$ の元 $a$ と $B$ の元 $b$ とが、ある条件 $\\rho$ (ロー) を満たすとき、\n",
        "これらは $\\rho$ の関係にある、と言い、$a \\,\\rho\\, b$ と書く。\n",
        "\n",
        "$\\rho$ の関係にある弦の対、$(a,b)$ の全体は $A \\times B$ の部分集合 $\\rho = \\{(a,b) | a \\,\\rho\\, b\\}$ と同一視してよい。\n",
        "\n",
        "例えば、実数の間の大小関係 $\\leq$ は、集合 $\\{(x,y) \\in \\mathrm R \\times \\mathrm R \\ |\\  x \\leq y    \\}$ のことである。\n",
        "\n",
        "\n"
      ]
    },
    {
      "cell_type": "markdown",
      "metadata": {
        "id": "LNzZXeDqXMHJ"
      },
      "source": [
        "例えば、好き、という関係 Love は\n",
        "\n",
        "$\\quad \\quad (a,b) \\in Love \\overset{\\text{def kjhjk l;j;}}{\\Longleftrightarrow}$"
      ]
    }
  ]
}