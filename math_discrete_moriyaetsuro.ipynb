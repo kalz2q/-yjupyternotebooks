{
  "nbformat": 4,
  "nbformat_minor": 0,
  "metadata": {
    "colab": {
      "name": "math_discrete_moriyaetsuro.ipynb",
      "provenance": [],
      "toc_visible": true,
      "authorship_tag": "ABX9TyP5MOqysfmhQ3IxD58WvGQM",
      "include_colab_link": true
    },
    "kernelspec": {
      "name": "python3",
      "display_name": "Python 3"
    },
    "language_info": {
      "name": "python"
    }
  },
  "cells": [
    {
      "cell_type": "markdown",
      "metadata": {
        "id": "view-in-github",
        "colab_type": "text"
      },
      "source": [
        "<a href=\"https://colab.research.google.com/github/kalz2q/mycolabnotebooks/blob/master/math_discrete_moriyaetsuro.ipynb\" target=\"_parent\"><img src=\"https://colab.research.google.com/assets/colab-badge.svg\" alt=\"Open In Colab\"/></a>"
      ]
    },
    {
      "cell_type": "code",
      "metadata": {
        "id": "1v6m8WaK7K0Z"
      },
      "source": [
        ""
      ],
      "execution_count": null,
      "outputs": []
    },
    {
      "cell_type": "markdown",
      "metadata": {
        "id": "DwsPMfBd7TII"
      },
      "source": [
        "# メモ\n",
        "\n",
        " 離散数学入門 情報系のための数学 守屋悦朗\n",
        "\n",
        " を読む。"
      ]
    },
    {
      "cell_type": "markdown",
      "metadata": {
        "id": "XxA_cWbW8cu8"
      },
      "source": [
        "http://www.f.waseda.jp/moriya/books/DM/"
      ]
    },
    {
      "cell_type": "markdown",
      "metadata": {
        "id": "5JSJYXdY9jAL"
      },
      "source": [
        "# 集合"
      ]
    },
    {
      "cell_type": "markdown",
      "metadata": {
        "id": "T2u-K4X2dKfD"
      },
      "source": [
        "# 集合の濃度\n",
        "\n",
        "集合 $X$ から集合 $Y$ への全単射 $\\varphi：X→Y$ が存在するとき $X$ と $Y$ は濃度が等しいといい， $X∼Y$ と書く．\n",
        "\n",
        "&nbsp;\n",
        "\n",
        "任意の集合 $X, Y, Z$ に対して次の基本的性質が成り立つ．\n",
        "\n",
        "**濃度の等しさに関する性質**\n",
        "\n",
        "1. $X∼X$ (反射律)\n",
        "1. $X∼Y⇒Y∼X$ (対称律)\n",
        "1. $X∼Y∧Y∼Z⇒X∼Z$ (推移律)\n",
        "1. $X×Y∼Y×X$\n",
        "1. $X×(Y×Z)∼(X×Y)×Z$\n",
        "1. $X∼Y∧Z∼W⇒X×Z∼Y×W$"
      ]
    },
    {
      "cell_type": "markdown",
      "metadata": {
        "id": "OGAWBzpANUGZ"
      },
      "source": [
        "# 関係\n"
      ]
    },
    {
      "cell_type": "markdown",
      "metadata": {
        "id": "Y7ftxw3xNZg2"
      },
      "source": [
        "集合 $A$ の元 $a$ と $B$ の元 $b$ とが、ある条件 $\\rho$ (ロー) を満たすとき、\n",
        "これらは $\\rho$ の関係にある、と言い、$a \\,\\rho\\, b$ と書く。\n"
      ]
    },
    {
      "cell_type": "markdown",
      "metadata": {
        "id": "2HyeOw8d9_hQ"
      },
      "source": [
        "# いまここ"
      ]
    },
    {
      "cell_type": "markdown",
      "metadata": {
        "id": "W02JZ2tb9o6w"
      },
      "source": [
        "# 最後"
      ]
    }
  ]
}