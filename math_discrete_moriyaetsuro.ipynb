{
  "nbformat": 4,
  "nbformat_minor": 0,
  "metadata": {
    "colab": {
      "name": "math_discrete_moriyaetsuro.ipynb",
      "provenance": [],
      "authorship_tag": "ABX9TyPc8GtYDJ6dq5BMoVgdkB3v",
      "include_colab_link": true
    },
    "kernelspec": {
      "name": "python3",
      "display_name": "Python 3"
    },
    "language_info": {
      "name": "python"
    }
  },
  "cells": [
    {
      "cell_type": "markdown",
      "metadata": {
        "id": "view-in-github",
        "colab_type": "text"
      },
      "source": [
        "<a href=\"https://colab.research.google.com/github/kalz2q/mycolabnotebooks/blob/master/math_discrete_moriyaetsuro.ipynb\" target=\"_parent\"><img src=\"https://colab.research.google.com/assets/colab-badge.svg\" alt=\"Open In Colab\"/></a>"
      ]
    },
    {
      "cell_type": "code",
      "metadata": {
        "id": "1v6m8WaK7K0Z"
      },
      "source": [
        ""
      ],
      "execution_count": null,
      "outputs": []
    },
    {
      "cell_type": "markdown",
      "metadata": {
        "id": "DwsPMfBd7TII"
      },
      "source": [
        "# メモ\n",
        "\n",
        " 離散数学入門情報系のための数学１守屋悦朗\n",
        "\n",
        " を読む。"
      ]
    },
    {
      "cell_type": "markdown",
      "metadata": {
        "id": "XxA_cWbW8cu8"
      },
      "source": [
        "http://www.f.waseda.jp/moriya/books/DM/"
      ]
    },
    {
      "cell_type": "markdown",
      "metadata": {
        "id": "5JSJYXdY9jAL"
      },
      "source": [
        "# 集合"
      ]
    },
    {
      "cell_type": "markdown",
      "metadata": {
        "id": "1rc1jjC79reM"
      },
      "source": [
        "# グラフ p.101"
      ]
    },
    {
      "cell_type": "markdown",
      "metadata": {
        "id": "2HyeOw8d9_hQ"
      },
      "source": [
        "# いまここ"
      ]
    },
    {
      "cell_type": "markdown",
      "metadata": {
        "id": "W02JZ2tb9o6w"
      },
      "source": [
        "# 最後"
      ]
    }
  ]
}