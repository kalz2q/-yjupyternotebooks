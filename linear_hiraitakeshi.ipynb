{
  "nbformat": 4,
  "nbformat_minor": 0,
  "metadata": {
    "colab": {
      "name": "linear_hiraitakeshi.ipynb",
      "provenance": [],
      "toc_visible": true,
      "authorship_tag": "ABX9TyMU1LdXaP+T0N+tGLUqkqHQ",
      "include_colab_link": true
    },
    "kernelspec": {
      "name": "python3",
      "display_name": "Python 3"
    },
    "language_info": {
      "name": "python"
    }
  },
  "cells": [
    {
      "cell_type": "markdown",
      "metadata": {
        "id": "view-in-github",
        "colab_type": "text"
      },
      "source": [
        "<a href=\"https://colab.research.google.com/github/kalz2q/mycolabnotebooks/blob/master/linear_hiraitakeshi.ipynb\" target=\"_parent\"><img src=\"https://colab.research.google.com/assets/colab-badge.svg\" alt=\"Open In Colab\"/></a>"
      ]
    },
    {
      "cell_type": "markdown",
      "metadata": {
        "id": "NC9Zkc-PZPto"
      },
      "source": [
        "# メモ\n",
        "\n",
        "線形代数と群の表現 \n",
        "平井武\n",
        "\n",
        "を読む。\n",
        "\n",
        "朝倉書店"
      ]
    },
    {
      "cell_type": "markdown",
      "metadata": {
        "id": "KSLt9bPHZcCm"
      },
      "source": [
        "1. 必要なときに無駄なく、線形代数、の知識を習得しながら\n",
        "1. アーベル、ガロアから始まったとされる、群の理論、を学び\n",
        "1. 群の本質は、それがある対象に、作用する、ことであることを、種々の具体例から会得して\n",
        "1. 群の、作用、の数学的純化としての、群の表現、の理論を、現代の物理学など自然科学への応用例を具体い的に計算することを通して実感的に体得する。\n",
        "\n",
        "そして、これを通しての本書の最終目的は、現代数学における群やリー環の、表現論、をできるだけ身近に感じるように理解していただきたい。\n",
        "\n"
      ]
    },
    {
      "cell_type": "markdown",
      "metadata": {
        "id": "we3OKmhcZgBS"
      },
      "source": [
        "# 群とその表現、および線形代数"
      ]
    },
    {
      "cell_type": "markdown",
      "metadata": {
        "id": "KxNianMMZkca"
      },
      "source": [
        "1. 群とはなにか?\n",
        "1. 二面体群、多面体群\n",
        "1. 置換群、および群の置換表現\n",
        "1. 多面体群の置換表現と行列表現\n",
        "1. 線形代数入門"
      ]
    },
    {
      "cell_type": "markdown",
      "metadata": {
        "id": "Is4vqdb0Z5h7"
      },
      "source": [
        "メモ\n",
        "\n",
        "てっきり線形代数の初歩から説明がはいるのかと思っていたのだが、群とはなにかからですね!!!!"
      ]
    },
    {
      "cell_type": "markdown",
      "metadata": {
        "id": "SvxA4u1maEgS"
      },
      "source": [
        "アーベル、と、ガロア、が作った。\n",
        "\n",
        "群 (group)"
      ]
    },
    {
      "cell_type": "markdown",
      "metadata": {
        "id": "6qr9_n9lesMc"
      },
      "source": [
        "# 群の定義\n",
        "\n",
        "集合 $G$ の 2項演算とは、 $G$ の 2つの元 $a,b$ に対して、 $G$ のある元\n",
        " $c$ を与える算法である。 元 $c$ を $ab$ と書き、 $ab$ の積、と言う。\n",
        "\n",
        "空でない集合 $G$ に 2項演算があって次の公理を満たすとき、 $G$ を群(group)と言う。\n",
        "\n",
        "公理(i) 積 $ab$ は結合律を満たす:  $G$ の元 $a,b,c$ に対して\n",
        "\n",
        "$\\quad\\quad (ab)c = a(bc)$\n",
        "\n",
        "公理(ii)  $G$ の任意の元 $a,b$ に対して $ax=b$ および $ya=b$ となる $G$ の元 $x,y$ が存在して一意的である。\n",
        "\n",
        "この公理 (ii) は標語的に言えば、 $G$ の中では、右からの割り算および左からの割り算が自由にできる、ということである。\n"
      ]
    },
    {
      "cell_type": "markdown",
      "metadata": {
        "id": "G20fPuVUgfcF"
      },
      "source": [
        "定理 1.1\n",
        "\n",
        "公理(i)の下で、公理(ii)は次の 2つの公理をあわせたものに同値である。\n",
        "\n",
        "公理(ii-1) (単位元の存在)  $G$ の中に\n",
        "\n"
      ]
    }
  ]
}