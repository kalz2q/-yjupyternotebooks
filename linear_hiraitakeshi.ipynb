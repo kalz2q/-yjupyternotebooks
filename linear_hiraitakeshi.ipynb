{
  "nbformat": 4,
  "nbformat_minor": 0,
  "metadata": {
    "colab": {
      "name": "linear_hiraitakeshi.ipynb",
      "provenance": [],
      "authorship_tag": "ABX9TyOTKsNKim6i5GACoRrjhZbP",
      "include_colab_link": true
    },
    "kernelspec": {
      "name": "python3",
      "display_name": "Python 3"
    },
    "language_info": {
      "name": "python"
    }
  },
  "cells": [
    {
      "cell_type": "markdown",
      "metadata": {
        "id": "view-in-github",
        "colab_type": "text"
      },
      "source": [
        "<a href=\"https://colab.research.google.com/github/kalz2q/mycolabnotebooks/blob/master/linear_hiraitakeshi.ipynb\" target=\"_parent\"><img src=\"https://colab.research.google.com/assets/colab-badge.svg\" alt=\"Open In Colab\"/></a>"
      ]
    },
    {
      "cell_type": "code",
      "metadata": {
        "colab": {
          "base_uri": "https://localhost:8080/",
          "height": 136
        },
        "id": "NC9Zkc-PZPto",
        "outputId": "9066254d-a6d2-4fdd-82a5-3f78957e4e9d"
      },
      "source": [
        "# メモ\n",
        "\n",
        "線形代数と群の表現 \n",
        "平井武\n",
        "を読む。"
      ],
      "execution_count": 1,
      "outputs": [
        {
          "output_type": "error",
          "ename": "SyntaxError",
          "evalue": "ignored",
          "traceback": [
            "\u001b[0;36m  File \u001b[0;32m\"<ipython-input-1-9da708771e51>\"\u001b[0;36m, line \u001b[0;32m5\u001b[0m\n\u001b[0;31m    を読む。\u001b[0m\n\u001b[0m       ^\u001b[0m\n\u001b[0;31mSyntaxError\u001b[0m\u001b[0;31m:\u001b[0m invalid character in identifier\n"
          ]
        }
      ]
    },
    {
      "cell_type": "code",
      "metadata": {
        "id": "KSLt9bPHZcCm"
      },
      "source": [
        "1. 必要なときに無駄なく線形代数の知識を習得しながら\n",
        "1. アーベル、ガロアから始まったとされる、群の理論、を学び\n",
        "1. 群の本質は、それがある対象に、作用する、ことであることを、種々の"
      ],
      "execution_count": null,
      "outputs": []
    }
  ]
}