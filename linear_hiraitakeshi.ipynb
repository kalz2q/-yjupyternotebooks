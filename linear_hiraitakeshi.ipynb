{
  "nbformat": 4,
  "nbformat_minor": 0,
  "metadata": {
    "colab": {
      "name": "linear_hiraitakeshi.ipynb",
      "provenance": [],
      "toc_visible": true,
      "authorship_tag": "ABX9TyOciwJVcCrQHSL0shZNBfob",
      "include_colab_link": true
    },
    "kernelspec": {
      "name": "python3",
      "display_name": "Python 3"
    },
    "language_info": {
      "name": "python"
    }
  },
  "cells": [
    {
      "cell_type": "markdown",
      "metadata": {
        "id": "view-in-github",
        "colab_type": "text"
      },
      "source": [
        "<a href=\"https://colab.research.google.com/github/kalz2q/mycolabnotebooks/blob/master/linear_hiraitakeshi.ipynb\" target=\"_parent\"><img src=\"https://colab.research.google.com/assets/colab-badge.svg\" alt=\"Open In Colab\"/></a>"
      ]
    },
    {
      "cell_type": "markdown",
      "metadata": {
        "id": "NC9Zkc-PZPto"
      },
      "source": [
        "# メモ\n",
        "\n",
        "線形代数と群の表現 \n",
        "平井武\n",
        "\n",
        "を読む。\n",
        "\n",
        "朝倉書店"
      ]
    },
    {
      "cell_type": "markdown",
      "metadata": {
        "id": "KSLt9bPHZcCm"
      },
      "source": [
        "1. 必要なときに無駄なく、線形代数、の知識を習得しながら\n",
        "1. アーベル、ガロアから始まったとされる、群の理論、を学び\n",
        "1. 群の本質は、それがある対象に、作用する、ことであることを、種々の具体例から会得して\n",
        "1. 群の、作用、の数学的純化としての、群の表現、の理論を、現代の物理学など自然科学への応用例を具体い的に計算することを通して実感的に体得する。\n",
        "\n",
        "そして、これを通しての本書の最終目的は、現代数学における群やリー環の、表現論、をできるだけ身近に感じるように理解していただきたい。\n",
        "\n",
        "とのこと。\n",
        "\n"
      ]
    },
    {
      "cell_type": "markdown",
      "metadata": {
        "id": "we3OKmhcZgBS"
      },
      "source": [
        "# 群とその表現、および線形代数"
      ]
    },
    {
      "cell_type": "markdown",
      "metadata": {
        "id": "KxNianMMZkca"
      },
      "source": [
        "1. 群とはなにか?\n",
        "1. 二面体群、多面体群\n",
        "1. 置換群、および群の置換表現\n",
        "1. 多面体群の置換表現と行列表現\n",
        "1. 線形代数入門"
      ]
    },
    {
      "cell_type": "markdown",
      "metadata": {
        "id": "Is4vqdb0Z5h7"
      },
      "source": [
        "メモ $\\quad$ てっきり線形代数の初歩から説明がはいるのかと思っていたのだが、群とはなにかからですね!!!!"
      ]
    },
    {
      "cell_type": "markdown",
      "metadata": {
        "id": "SvxA4u1maEgS"
      },
      "source": [
        "群 (group)\n",
        "\n",
        "メモ $\\quad$ 集合、群、環、圏とか似たような概念がいろいろあるがさすが違うのだろうなぁ。\n",
        "\n",
        "&nbsp;\n",
        "\n",
        "群はアーベル、と、ガロア、が作った。"
      ]
    },
    {
      "cell_type": "markdown",
      "metadata": {
        "id": "6qr9_n9lesMc"
      },
      "source": [
        "# 群の定義\n",
        "\n",
        "集合 $G$ の 2項演算とは、 $G$ の 2つの元 $a,b$ に対して、 $G$ のある元\n",
        " $c$ を与える算法である。 元 $c$ を $ab$ と書き、 $ab$ の積、と言う。\n",
        "\n",
        "空でない集合 $G$ に 2項演算があって次の公理を満たすとき、 $G$ を群 (group) と言う。  \n",
        "&nbsp;  \n",
        "\n",
        "公理 (i) 積 $ab$ は**結合律**を満たす:  $G$ の元 $a,b,c$ に対して\n",
        "\n",
        "$\\quad\\quad (ab)c = a(bc)$\n",
        "\n",
        "&nbsp;  \n",
        "\n",
        "公理 (ii)  $G$ の任意の元 $a,b$ に対して $ax=b$ および $ya=b$ となる $G$ の元 $x,y$ が存在して一意的である。\n",
        "\n",
        "&nbsp;  \n",
        "\n",
        "この公理 (ii) は標語的に言えば、 $G$ の中では、右からの割り算および左からの割り算が自由にできる、ということである。\n",
        "\n",
        "&nbsp; \n",
        "\n",
        "メモ $\\quad$ とりあえず何言っているかわからない。 "
      ]
    },
    {
      "cell_type": "markdown",
      "metadata": {
        "id": "UFUFxCLMm5V2"
      },
      "source": [
        "メモ $\\quad$ とりあえず結合律はよいとしよう。\n",
        "\n",
        "$ax=b$ および $ya=b$ と言っているが、例えばこの演算(積) を掛け算と考えると、掛け算ならば左から掛けても右から掛けても同じだから $x=y$ だよね。 という理解で合っているか。 というより、同じでない場合もあるけれど、左から掛ける場合と右から掛ける場合があるよ、それは自由だよ、というのが標語的に言えば、で言っていることか。\n",
        "\n",
        "今の理解。 群とは、とある演算について、結合律が成り立ち、要素同士について、右から掛けて演算が成立する $x$ と 左から掛けて演算が成立する $y$ があってそれもその群の中の元であるような演算がつくる集合。\n",
        "\n",
        "\n",
        "\n",
        " "
      ]
    },
    {
      "cell_type": "markdown",
      "metadata": {
        "id": "G20fPuVUgfcF"
      },
      "source": [
        "定理 1.1\n",
        "\n",
        "公理(i)の下で、公理(ii)は次の 2つの公理をあわせたものに同値である。\n",
        "\n",
        "公理(ii-1) (単位元の存在)  $G$ の中に、ある元 $e$ (単位元と呼ぶ) が存在して、 $G$ の任意の元 $a$ に対して、$ae = ea = a$ が成立する。\n",
        "\n",
        "公理(ii-2) (逆元の存在) $G$ の任意の元 $a$ に対して、$ax=xa=e$ となる $x$ が存在する。 $x$ を $a$ の逆元と呼び、$a^{-1}$ で表す。\n",
        "\n",
        "&nbsp;\n"
      ]
    },
    {
      "cell_type": "markdown",
      "metadata": {
        "id": "ZauXnyWz-1L1"
      },
      "source": [
        "メモ $\\quad$ 群の定義よりこの定理の方がわかりやすい。 同値ならばこちらを定義だと思った方がいいような気がする。\n",
        "\n",
        "復習すると、群の定義は、結合律と、左右掛け算が群の要素の中で成立すること。\n",
        "\n",
        "これから証明しようとする定理は、単位元と存在と逆元の存在。どちらも左右から掛けられる。\n",
        "\n",
        "&nbsp;\n"
      ]
    },
    {
      "cell_type": "markdown",
      "metadata": {
        "id": "d0BUr_cj9MhY"
      },
      "source": [
        "証明\n",
        "\n",
        "まず、公理(i),(ii)から、公理 (ii-1) 単位元の存在、を出す。\n",
        "\n",
        "そのために言葉を準備する。 勝手な $a \\in G$ に対し、常に $ax=a$ となる元 $x$ があれば、それを $G$ の右単位元と呼ぶ。 左単位元も同様に定義される。\n",
        "\n",
        "さて、右単位元が 1つは存在することを見よう。 1つの元 $a \\in G$ をとると、公理(ii) により、 $ax=a$ となる元 $x$ がある。 これを $e_a$ と書く。  \n",
        "\n",
        "次に勝手な $b \\in G$ をとると、(ii) により $ya=b$ となる $y \\in G$ がある。この $y$ を等式 $ae_x=a$ の両辺に左から掛けると、 $y(ae_x)=ya$。この右辺は $ya=b$、左辺は、公理(i) を使って、\n",
        "\n",
        "$\\quad \\quad y(ae_a)=(ya)e_a=be_a $\n",
        "\n",
        "ゆえに、 $be_a=b （b \\in G)$ となり、 $e_a$ は右単位元 (の 1つ) であることがわかる。 右単位元の存在が証明された。\n",
        "\n",
        "同様に、左単位元の存在もわかる。 \n",
        "\n",
        "右単位元と左単位元を掛け合わせると、右単位元 = 左単位元になり証明終わり。\n",
        "\n",
        "&nbsp;"
      ]
    },
    {
      "cell_type": "markdown",
      "metadata": {
        "id": "ibiLZDIiCFW6"
      },
      "source": [
        "証明 $\\quad$ 逆元の存在\n",
        "\n",
        "群の定義により、任意の $a$ について、 $ax=e$ となる $x$ が存在する。\n",
        "\n",
        "同様に $ya = e$ となる $y$ が存在する。\n",
        "\n",
        "$ax=e$ の両辺に $y$ を掛けると、$yax = ye \\implies ex = y \\implies x = y$\n",
        "\n",
        "証明終わり。\n",
        "\n",
        "&nbsp;"
      ]
    },
    {
      "cell_type": "markdown",
      "metadata": {
        "id": "qol2wJ-KtX2n"
      },
      "source": [
        "# いまここ"
      ]
    },
    {
      "cell_type": "markdown",
      "metadata": {
        "id": "onZxG3oOG1y2"
      },
      "source": [
        "証明 $\\quad$ 単位元と逆元の存在から定義を証明する。\n",
        "\n",
        "$b$ に"
      ]
    }
  ]
}