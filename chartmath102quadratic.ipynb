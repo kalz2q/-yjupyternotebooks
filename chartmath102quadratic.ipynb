{
  "nbformat": 4,
  "nbformat_minor": 0,
  "metadata": {
    "colab": {
      "name": "chartmath102quadratic.ipynb",
      "provenance": [],
      "toc_visible": true,
      "authorship_tag": "ABX9TyPFWWkZDZwO0RnZifEyU6mK",
      "include_colab_link": true
    },
    "kernelspec": {
      "name": "python3",
      "display_name": "Python 3"
    }
  },
  "cells": [
    {
      "cell_type": "markdown",
      "metadata": {
        "id": "view-in-github",
        "colab_type": "text"
      },
      "source": [
        "<a href=\"https://colab.research.google.com/github/kalz2q/mycolabnotebooks/blob/master/chartmath102quadratic.ipynb\" target=\"_parent\"><img src=\"https://colab.research.google.com/assets/colab-badge.svg\" alt=\"Open In Colab\"/></a>"
      ]
    },
    {
      "cell_type": "markdown",
      "metadata": {
        "id": "5j88vMWUDCAp"
      },
      "source": [
        "# メモ\r\n",
        "\r\n",
        "チャート式基礎からの数学 Ⅰ の二次関数 quadratic function \r\n",
        "を読む。"
      ]
    },
    {
      "cell_type": "markdown",
      "metadata": {
        "id": "VZHHmtW4DVo5"
      },
      "source": [
        "# 関数とグラフ"
      ]
    },
    {
      "cell_type": "markdown",
      "metadata": {
        "id": "tclrsyleDbnZ"
      },
      "source": [
        "**関数**\r\n",
        "\r\n",
        "2つの変数 $x,y$ があって、$x$ の値が定まるとそれに対応して $y$ の値がただ 1つ定まるとき、$y$ は $x$ の関数である、という。$y=f(x)$ と表す。\r\n",
        "\r\n",
        "**定義域・閾値**\r\n",
        "\r\n",
        "関数 $y=f(x)$ において、変数 $x$ のとりうる値の範囲、$x$ の変域を、この関数の定義域という。 また、$x$ が定義域全体を動くとき、$f(x)$ のとりうる値の範囲、すなわち $y$ の変域を、この関数の値域という。"
      ]
    },
    {
      "cell_type": "markdown",
      "metadata": {
        "id": "ylJkfhqNE88e"
      },
      "source": [
        "**$y = ax +b$ のグラフ**\r\n",
        "\r\n",
        "$a \\neq 0$ のとき 1次関数 $y=ax+b$ のグラフ。  \r\n",
        "傾きが $a$、$y$ 軸上の切片 ($y$ 切片) が $b$ の直線。  \r\n",
        "$a > 0$ なら右上がり $\\quad a < 0$ なら右下がり\r\n",
        "\r\n",
        "$a = 0$ のとき $y = b$ のグラフ。  \r\n",
        "傾きが 0、$y$ 切片が $b$ の $y$ 軸に垂直な直線。\r\n",
        "\r\n",
        "**象限**\r\n",
        "\r\n",
        "座標平面の右上を第1象限といい、反時計回りに第2象限、第3象限、第4象限という。\r\n",
        "\r\n"
      ]
    },
    {
      "cell_type": "markdown",
      "metadata": {
        "id": "2EOgb6U-SBXj"
      },
      "source": [
        "問題\r\n",
        "\r\n",
        "点 $(2x-3, -3x+5)$ が第2象限にあるように $x$ の値の範囲を定める。\r\n",
        "\r\n",
        "また、$x$ がどのような値であってもこの点が存在しない象限はどこか。\r\n",
        "\r\n",
        "解答\r\n",
        "\r\n",
        "{ 象限の定義より } \r\n",
        "1. \r\n",
        "2*x - 3 < 0  \r\n",
        "2 * x < 3  \r\n",
        "x < 3 / 2  \r\n",
        "\r\n",
        "2. \r\n",
        "-3 * x + 5 > 0  \r\n",
        "-3 * x > -5  \r\n",
        "3 * x < 5  \r\n",
        "x < 5 / 3\r\n",
        "\r\n",
        "\r\n",
        "\r\n",
        "\r\n"
      ]
    },
    {
      "cell_type": "code",
      "metadata": {
        "id": "HGwnsAX-SZNO",
        "outputId": "9f9d4633-fa43-4798-df63-82ff936c1696",
        "colab": {
          "base_uri": "https://localhost:8080/",
          "height": 58
        }
      },
      "source": [
        "from sympy import *\r\n",
        "init_printing()\r\n",
        "x = symbols('x')\r\n",
        "solve(Eq(2*x-3, 0))\r\n"
      ],
      "execution_count": 1,
      "outputs": [
        {
          "output_type": "execute_result",
          "data": {
            "image/png": "[encoded data removed]",
            "text/latex": "$\\displaystyle \\left[ \\frac{3}{2}\\right]$",
            "text/plain": [
              "[3/2]"
            ]
          },
          "metadata": {
            "tags": []
          },
          "execution_count": 1
        }
      ]
    }
  ]
}