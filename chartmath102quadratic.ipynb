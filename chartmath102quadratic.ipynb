{
  "nbformat": 4,
  "nbformat_minor": 0,
  "metadata": {
    "colab": {
      "name": "chartmath102quadratic.ipynb",
      "provenance": [],
      "authorship_tag": "ABX9TyOrmAfdgP/uAHYreXieehgY",
      "include_colab_link": true
    },
    "kernelspec": {
      "name": "python3",
      "display_name": "Python 3"
    }
  },
  "cells": [
    {
      "cell_type": "markdown",
      "metadata": {
        "id": "view-in-github",
        "colab_type": "text"
      },
      "source": [
        "<a href=\"https://colab.research.google.com/github/kalz2q/mycolabnotebooks/blob/master/chartmath102quadratic.ipynb\" target=\"_parent\"><img src=\"https://colab.research.google.com/assets/colab-badge.svg\" alt=\"Open In Colab\"/></a>"
      ]
    },
    {
      "cell_type": "markdown",
      "metadata": {
        "id": "5j88vMWUDCAp"
      },
      "source": [
        "# メモ\r\n",
        "\r\n",
        "チャート式基礎からの数学 Ⅰ の二次関数 quadratic function \r\n",
        "を読む。"
      ]
    },
    {
      "cell_type": "markdown",
      "metadata": {
        "id": "VZHHmtW4DVo5"
      },
      "source": [
        "# 関数とグラフ"
      ]
    },
    {
      "cell_type": "markdown",
      "metadata": {
        "id": "tclrsyleDbnZ"
      },
      "source": [
        "**関数**\r\n",
        "\r\n",
        "2つの変数 $x,y$ があって、$x$ の値が定まるとそれに対応して $y$ の値がただ 1つ定まるとき、$y$ は $x$ の関数である、という。$y=f(x)$ と表す。\r\n",
        "\r\n",
        "**定義域・閾値**\r\n",
        "\r\n",
        "関数 $y=f(x)$ において、変数 $x$ のとりうる値の範囲、$x$ の変域を、この関数の定義域という。 また、$x$ が定義域全体を動くとき、$f(x)$ のとりうる値の範囲、すなわち $y$ の変域を、この関数の値域という。"
      ]
    },
    {
      "cell_type": "markdown",
      "metadata": {
        "id": "ylJkfhqNE88e"
      },
      "source": [
        "**$y = ax +b$ のグラフ**\r\n",
        "\r\n"
      ]
    }
  ]
}