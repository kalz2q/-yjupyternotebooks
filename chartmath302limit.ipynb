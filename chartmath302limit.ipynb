{
  "nbformat": 4,
  "nbformat_minor": 0,
  "metadata": {
    "colab": {
      "name": "chartmath302limit.ipynb",
      "provenance": [],
      "toc_visible": true,
      "authorship_tag": "ABX9TyMiXTmlepGDkXh8J3lXEM83",
      "include_colab_link": true
    },
    "kernelspec": {
      "name": "python3",
      "display_name": "Python 3"
    },
    "language_info": {
      "name": "python"
    }
  },
  "cells": [
    {
      "cell_type": "markdown",
      "metadata": {
        "id": "view-in-github",
        "colab_type": "text"
      },
      "source": [
        "<a href=\"https://colab.research.google.com/github/kalz2q/mycolabnotebooks/blob/master/chartmath302limit.ipynb\" target=\"_parent\"><img src=\"https://colab.research.google.com/assets/colab-badge.svg\" alt=\"Open In Colab\"/></a>"
      ]
    },
    {
      "cell_type": "markdown",
      "metadata": {
        "id": "eY230ycAw_EP"
      },
      "source": [
        "# メモ\n",
        "\n",
        "チャート式数学III , 極限のところを読む。\n",
        "\n",
        "興味の対象は無限級数\n"
      ]
    },
    {
      "cell_type": "code",
      "metadata": {
        "id": "vVpYmCrfxffB"
      },
      "source": [
        ""
      ],
      "execution_count": null,
      "outputs": []
    },
    {
      "cell_type": "markdown",
      "metadata": {
        "id": "TJtUk9KHxhTk"
      },
      "source": [
        "# 極限 p.28"
      ]
    },
    {
      "cell_type": "markdown",
      "metadata": {
        "id": "sf5Fjgyyxt9N"
      },
      "source": [
        "**数列の極限**\n",
        "\n",
        "数列 $\\quad \\{a_n\\} \\quad (n=1, 2, \\cdots \\cdots)$ は無限数列とする\n",
        "\n",
        "収束 $\\quad  \\displaystyle \\lim_{n \\rightarrow \\infty} a_n = \\alpha$ (極限値)\n",
        "\n",
        "発散 $\\quad  \\displaystyle \\lim_{n \\rightarrow \\infty} a_n = \\infty$ 極限がある\n",
        "\n",
        "発散 $\\quad  \\displaystyle \\lim_{n \\rightarrow \\infty} a_n = - \\infty$ 極限がある\n",
        "\n",
        "発散 $\\quad$ 数列は振動する $\\quad$ 極限がある\n",
        "\n",
        "$\\pm \\infty$ は極限値とは言わない\n",
        "\n"
      ]
    },
    {
      "cell_type": "markdown",
      "metadata": {
        "id": "ruM_3NLUzsZf"
      },
      "source": [
        "**数列の極限の性質**\n",
        "\n",
        "$\\{a_n\\}, \\{b_n\\}$ が収束して $\\displaystyle \\lim_{n \\rightarrow \\infty} a_n = \\alpha, \\lim_{n \\rightarrow \\infty} b_n = \\beta$ のとき\n",
        "\n",
        "定数倍 $\\quad \\displaystyle \\lim_{n \\rightarrow \\infty} ka_n = k \\alpha \\quad$ ただし $k$ は定数\n",
        "\n",
        "和  $\\quad \\displaystyle \\lim_{n \\rightarrow \\infty} (a_n+b_n) = \\alpha + \\beta$ \n",
        "\n",
        "差  $\\quad \\displaystyle \\lim_{n \\rightarrow \\infty} (a_n-b_n) = \\alpha - \\beta$ \n",
        "\n",
        "$\\displaystyle \\lim_{n \\rightarrow \\infty} (ka_n+lb_n) = k \\alpha+l\\beta$ ただし $k,l$ は定数\n",
        "\n",
        "積  $\\quad \\displaystyle \\lim_{n \\rightarrow \\infty} a_n b_n = \\alpha  \\beta$ \n",
        "\n",
        "商  $\\quad \\displaystyle \\lim_{n \\rightarrow \\infty} \\frac{a_n}{b_n} = \\frac{\\alpha}{\\beta} \\quad$  ただし $\\beta \\neq 0$\n",
        "\n",
        "$a_n \\leq b_n \\quad (n=1,2,3,\\cdots \\cdots)$ で $\\displaystyle \\lim_{n \\rightarrow \\infty} a_n = \\infty$ ならば  $\\displaystyle \\lim_{n \\rightarrow \\infty} b_n = \\infty$ である\n"
      ]
    },
    {
      "cell_type": "code",
      "metadata": {
        "colab": {
          "base_uri": "https://localhost:8080/"
        },
        "id": "d2YDQhux2m9F",
        "outputId": "8521304a-1c40-46c9-95a6-39eb2f5d8c28"
      },
      "source": [
        "# 基本例題 14 p.30\n",
        "# (1)\n",
        "from fractions import Fraction\n",
        "[ Fraction (1)/(n+1)**2 for n in range(5)]\n"
      ],
      "execution_count": 46,
      "outputs": [
        {
          "output_type": "execute_result",
          "data": {
            "text/plain": [
              "[Fraction(1, 1),\n",
              " Fraction(1, 4),\n",
              " Fraction(1, 9),\n",
              " Fraction(1, 16),\n",
              " Fraction(1, 25)]"
            ]
          },
          "metadata": {
            "tags": []
          },
          "execution_count": 46
        }
      ]
    },
    {
      "cell_type": "code",
      "metadata": {
        "colab": {
          "base_uri": "https://localhost:8080/",
          "height": 35
        },
        "id": "CEoxZcBp7-eE",
        "outputId": "2aece77d-835e-49c9-d526-c6cd207ed429"
      },
      "source": [
        "from sympy import *\n",
        "display([1/Rational(n+1)**2 for n in range(5)])"
      ],
      "execution_count": 45,
      "outputs": [
        {
          "output_type": "display_data",
          "data": {
            "text/plain": [
              "[1, 1/4, 1/9, 1/16, 1/25]"
            ]
          },
          "metadata": {
            "tags": []
          }
        }
      ]
    },
    {
      "cell_type": "code",
      "metadata": {
        "id": "mPvP7INhSV7r",
        "outputId": "24cfbb42-31ca-4c6c-a0c4-117d134ad7a4",
        "colab": {
          "base_uri": "https://localhost:8080/",
          "height": 37
        }
      },
      "source": [
        "from sympy.abc import *\n",
        "limit(1/x**2, x, oo) #=> 0 よって 0 に収束"
      ],
      "execution_count": 113,
      "outputs": [
        {
          "output_type": "execute_result",
          "data": {
            "text/latex": "$\\displaystyle 0$",
            "text/plain": [
              "0"
            ]
          },
          "metadata": {
            "tags": []
          },
          "execution_count": 113
        }
      ]
    },
    {
      "cell_type": "markdown",
      "metadata": {
        "id": "N4rn13-V_dOv"
      },
      "source": [
        "メモ\n",
        "\n",
        "`[]` の中に expression for i in interator [optional if] を書くのが python の内包表記 list comprehension。\n",
        "\n",
        "分数は fractions.Fraction を使うか、sympy.Rational を使う。\n",
        "\n",
        "`/` が割り算を float にしようとするのでそれを阻止しなければならないので変なところに Fraction や Rational を入れる必要がある。\n"
      ]
    },
    {
      "cell_type": "code",
      "metadata": {
        "id": "Y4F4pCyAAUg2",
        "outputId": "1dff1a2d-3b96-4734-bee3-da7b2826f3a2",
        "colab": {
          "base_uri": "https://localhost:8080/",
          "height": 54
        }
      },
      "source": [
        "# 基本例題 14 p.30\n",
        "# (2), (3)\n",
        "from sympy import *\n",
        "display([200-n*5 for n in range(5)]) #=> -oo に発散\n",
        "display([3**(n%2) for n in range(5)]) #=> 振動"
      ],
      "execution_count": 49,
      "outputs": [
        {
          "output_type": "display_data",
          "data": {
            "text/plain": [
              "[200, 195, 190, 185, 180]"
            ]
          },
          "metadata": {
            "tags": []
          }
        },
        {
          "output_type": "display_data",
          "data": {
            "text/plain": [
              "[1, 3, 1, 3, 1]"
            ]
          },
          "metadata": {
            "tags": []
          }
        }
      ]
    },
    {
      "cell_type": "code",
      "metadata": {
        "id": "PmM6bI1nA7-t",
        "outputId": "e49a3296-8c00-4cba-9bbe-ef718adfec65",
        "colab": {
          "base_uri": "https://localhost:8080/",
          "height": 55
        }
      },
      "source": [
        "# 基本例題 14 p.30\n",
        "# (4)\n",
        "from sympy import *\n",
        "display([(7+3*n)/Rational(n+1)**2 for n in range(5)])\n",
        "limit((7*3*n)/(n+1)**2, n, oo) #=> 0 に収束"
      ],
      "execution_count": 116,
      "outputs": [
        {
          "output_type": "display_data",
          "data": {
            "text/plain": [
              "[7, 5/2, 13/9, 1, 19/25]"
            ]
          },
          "metadata": {
            "tags": []
          }
        },
        {
          "output_type": "execute_result",
          "data": {
            "text/latex": "$\\displaystyle 0$",
            "text/plain": [
              "0"
            ]
          },
          "metadata": {
            "tags": []
          },
          "execution_count": 116
        }
      ]
    },
    {
      "cell_type": "code",
      "metadata": {
        "id": "oYjUs-y2BUr4",
        "outputId": "317eaea4-179b-4b22-bf67-369e3e8f4e01",
        "colab": {
          "base_uri": "https://localhost:8080/",
          "height": 75
        }
      },
      "source": [
        "# (5)\n",
        "from sympy import *\n",
        "display([(4*n+3)/(Rational(n+1)*2) for n in range(5)])\n",
        "display([sqrt((4*n+3)/(Rational(n+1)*2)) for n in range(5)])\n",
        "limit(sqrt((4*n+3)/((n+1)*2)), n, oo) #=> sqrt(2) に収束"
      ],
      "execution_count": 118,
      "outputs": [
        {
          "output_type": "display_data",
          "data": {
            "text/plain": [
              "[3/2, 7/4, 11/6, 15/8, 19/10]"
            ]
          },
          "metadata": {
            "tags": []
          }
        },
        {
          "output_type": "display_data",
          "data": {
            "text/plain": [
              "[sqrt(6)/2, sqrt(7)/2, sqrt(66)/6, sqrt(30)/4, sqrt(190)/10]"
            ]
          },
          "metadata": {
            "tags": []
          }
        },
        {
          "output_type": "execute_result",
          "data": {
            "text/latex": "$\\displaystyle \\sqrt{2}$",
            "text/plain": [
              "sqrt(2)"
            ]
          },
          "metadata": {
            "tags": []
          },
          "execution_count": 118
        }
      ]
    },
    {
      "cell_type": "code",
      "metadata": {
        "id": "9KS1l3NYHC_v"
      },
      "source": [
        "# メモ\n",
        "# 上のセルで 分数の sqrt をうまく表示できなかった"
      ],
      "execution_count": null,
      "outputs": []
    },
    {
      "cell_type": "markdown",
      "metadata": {
        "id": "HLzBdtMUTL_Z"
      },
      "source": [
        "# いまここ"
      ]
    },
    {
      "cell_type": "code",
      "metadata": {
        "id": "FgsJRtmLMJOi",
        "outputId": "ffda2c3d-04b4-410d-ddec-253299f65646",
        "colab": {
          "base_uri": "https://localhost:8080/",
          "height": 74
        }
      },
      "source": [
        "# 練習 p.30\n",
        "# (1)\n",
        "from sympy import *\n",
        "display([n*2+1 for n in range(5)])\n",
        "display([sqrt(n*2+1) for n in range(5)])\n",
        "limit(sqrt(n*2+1), n, oo) #=> oo に発散"
      ],
      "execution_count": 120,
      "outputs": [
        {
          "output_type": "display_data",
          "data": {
            "text/plain": [
              "[1, 3, 5, 7, 9]"
            ]
          },
          "metadata": {
            "tags": []
          }
        },
        {
          "output_type": "display_data",
          "data": {
            "text/plain": [
              "[1, sqrt(3), sqrt(5), sqrt(7), 3]"
            ]
          },
          "metadata": {
            "tags": []
          }
        },
        {
          "output_type": "execute_result",
          "data": {
            "text/latex": "$\\displaystyle \\infty$",
            "text/plain": [
              "oo"
            ]
          },
          "metadata": {
            "tags": []
          },
          "execution_count": 120
        }
      ]
    },
    {
      "cell_type": "code",
      "metadata": {
        "id": "jSHUOR_RRTv9",
        "outputId": "cb356394-5baf-40a7-b7c8-5a23842193ca",
        "colab": {
          "base_uri": "https://localhost:8080/",
          "height": 72
        }
      },
      "source": [
        "# 練習 p.30\n",
        "# (2)\n",
        "from sympy import *\n",
        "display([n+1 for n in range(5)])\n",
        "display([n+2 for n in range(5)])\n",
        "display([sqrt((n+1)/Rational(n+2))for n in range(5)])"
      ],
      "execution_count": 111,
      "outputs": [
        {
          "output_type": "display_data",
          "data": {
            "text/plain": [
              "[1, 2, 3, 4, 5]"
            ]
          },
          "metadata": {
            "tags": []
          }
        },
        {
          "output_type": "display_data",
          "data": {
            "text/plain": [
              "[2, 3, 4, 5, 6]"
            ]
          },
          "metadata": {
            "tags": []
          }
        },
        {
          "output_type": "display_data",
          "data": {
            "text/plain": [
              "[sqrt(2)/2, sqrt(6)/3, sqrt(3)/2, 2*sqrt(5)/5, sqrt(30)/6]"
            ]
          },
          "metadata": {
            "tags": []
          }
        }
      ]
    },
    {
      "cell_type": "code",
      "metadata": {
        "id": "GAm_HQ8dSHV_"
      },
      "source": [
        "# 練習 p.30\n",
        "# (2)\n",
        "from sympy import *\n",
        "display([n+1 for n in range(5)])\n",
        "display([n+2 for n in range(5)])\n",
        "display([sqrt((n+1)/Rational(n+2))for n in range(5)])"
      ],
      "execution_count": null,
      "outputs": []
    }
  ]
}