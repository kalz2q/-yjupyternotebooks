{
  "nbformat": 4,
  "nbformat_minor": 0,
  "metadata": {
    "colab": {
      "name": "chartmath302limit.ipynb",
      "provenance": [],
      "toc_visible": true,
      "authorship_tag": "ABX9TyMqB8H8oAWeilnlOBXONMXn",
      "include_colab_link": true
    },
    "kernelspec": {
      "name": "python3",
      "display_name": "Python 3"
    },
    "language_info": {
      "name": "python"
    }
  },
  "cells": [
    {
      "cell_type": "markdown",
      "metadata": {
        "id": "view-in-github",
        "colab_type": "text"
      },
      "source": [
        "<a href=\"https://colab.research.google.com/github/kalz2q/mycolabnotebooks/blob/master/chartmath302limit.ipynb\" target=\"_parent\"><img src=\"https://colab.research.google.com/assets/colab-badge.svg\" alt=\"Open In Colab\"/></a>"
      ]
    },
    {
      "cell_type": "markdown",
      "metadata": {
        "id": "eY230ycAw_EP"
      },
      "source": [
        "# メモ\n",
        "\n",
        "チャート式数学III , 極限のところを読む。\n",
        "\n",
        "興味の対象は無限級数\n"
      ]
    },
    {
      "cell_type": "code",
      "metadata": {
        "id": "vVpYmCrfxffB"
      },
      "source": [
        ""
      ],
      "execution_count": null,
      "outputs": []
    },
    {
      "cell_type": "markdown",
      "metadata": {
        "id": "TJtUk9KHxhTk"
      },
      "source": [
        "# 極限 p.28"
      ]
    },
    {
      "cell_type": "markdown",
      "metadata": {
        "id": "sf5Fjgyyxt9N"
      },
      "source": [
        "**数列の極限**\n",
        "\n",
        "数列 $\\quad \\{a_n\\} \\quad (n=1, 2, \\cdots \\cdots)$ は無限数列とする\n",
        "\n",
        "収束 $\\quad  \\displaystyle \\lim_{n \\rightarrow \\infty} a_n = \\alpha$ (極限値)\n",
        "\n",
        "発散 $\\quad  \\displaystyle \\lim_{n \\rightarrow \\infty} a_n = \\infty$ 極限がある\n",
        "\n",
        "発散 $\\quad  \\displaystyle \\lim_{n \\rightarrow \\infty} a_n = - \\infty$ 極限がある\n",
        "\n",
        "発散 $\\quad$ 数列は振動する $\\quad$ 極限がある\n",
        "\n",
        "$\\pm \\infty$ は極限値とは言わない\n",
        "\n"
      ]
    },
    {
      "cell_type": "markdown",
      "metadata": {
        "id": "ruM_3NLUzsZf"
      },
      "source": [
        "**数列の極限の性質**\n",
        "\n",
        "$\\{a_n\\}, \\{b_n\\}$ が収束して $\\displaystyle \\lim_{n \\rightarrow \\infty} a_n = \\alpha, \\lim_{n \\rightarrow \\infty} b_n = \\beta$ のとき\n",
        "\n",
        "定数倍 $\\quad \\displaystyle \\lim_{n \\rightarrow \\infty} ka_n = k \\alpha \\quad$ ただし $k$ は定数\n",
        "\n",
        "和  $\\quad \\displaystyle \\lim_{n \\rightarrow \\infty} (a_n+b_n) = \\alpha + \\beta$ \n",
        "\n",
        "差  $\\quad \\displaystyle \\lim_{n \\rightarrow \\infty} (a_n-b_n) = \\alpha - \\beta$ \n",
        "\n",
        "$\\displaystyle \\lim_{n \\rightarrow \\infty} (ka_n+lb_n) = k \\alpha+l\\beta$ ただし $k,l$ は定数\n",
        "\n",
        "積  $\\quad \\displaystyle \\lim_{n \\rightarrow \\infty} a_n b_n = \\alpha  \\beta$ \n",
        "\n",
        "商  $\\quad \\displaystyle \\lim_{n \\rightarrow \\infty} \\frac{a_n}{b_n} = \\frac{\\alpha}{\\beta} \\quad$  ただし $\\beta \\neq 0$\n",
        "\n",
        "$a_n \\leq b_n \\quad (n=1,2,3,\\cdots \\cdots)$ で $\\displaystyle \\lim_{n \\rightarrow \\infty} a_n = \\infty$ ならば  $\\displaystyle \\lim_{n \\rightarrow \\infty} b_n = \\infty$ である\n"
      ]
    },
    {
      "cell_type": "code",
      "metadata": {
        "id": "d2YDQhux2m9F"
      },
      "source": [
        "# 基本例題 14 p.30\n",
        "\n",
        "\n"
      ],
      "execution_count": null,
      "outputs": []
    }
  ]
}