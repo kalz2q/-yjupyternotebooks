{
  "nbformat": 4,
  "nbformat_minor": 0,
  "metadata": {
    "colab": {
      "name": "chartmath302limit.ipynb",
      "provenance": [],
      "toc_visible": true,
      "authorship_tag": "ABX9TyOfLyOKm/G4EY9v5oPfmfdS",
      "include_colab_link": true
    },
    "kernelspec": {
      "name": "python3",
      "display_name": "Python 3"
    },
    "language_info": {
      "name": "python"
    }
  },
  "cells": [
    {
      "cell_type": "markdown",
      "metadata": {
        "id": "view-in-github",
        "colab_type": "text"
      },
      "source": [
        "<a href=\"https://colab.research.google.com/github/kalz2q/mycolabnotebooks/blob/master/chartmath302limit.ipynb\" target=\"_parent\"><img src=\"https://colab.research.google.com/assets/colab-badge.svg\" alt=\"Open In Colab\"/></a>"
      ]
    },
    {
      "cell_type": "markdown",
      "metadata": {
        "id": "eY230ycAw_EP"
      },
      "source": [
        "# メモ\n",
        "\n",
        "チャート式数学III , 極限のところを読む。\n",
        "\n",
        "興味の対象は無限級数\n"
      ]
    },
    {
      "cell_type": "markdown",
      "metadata": {
        "id": "TJtUk9KHxhTk"
      },
      "source": [
        "# 極限 p.28"
      ]
    },
    {
      "cell_type": "markdown",
      "metadata": {
        "id": "sf5Fjgyyxt9N"
      },
      "source": [
        "**数列の極限**\n",
        "\n",
        "数列 $\\quad \\{a_n\\} \\quad (n=1, 2, \\cdots \\cdots)$ は無限数列とする\n",
        "\n",
        "収束 $\\quad  \\displaystyle \\lim_{n \\rightarrow \\infty} a_n = \\alpha$ (極限値)\n",
        "\n",
        "発散 $\\quad  \\displaystyle \\lim_{n \\rightarrow \\infty} a_n = \\infty$ 極限がある\n",
        "\n",
        "発散 $\\quad  \\displaystyle \\lim_{n \\rightarrow \\infty} a_n = - \\infty$ 極限がある\n",
        "\n",
        "発散 $\\quad$ 数列は振動する $\\quad$ 極限がある\n",
        "\n",
        "$\\pm \\infty$ は極限値とは言わない\n",
        "\n"
      ]
    },
    {
      "cell_type": "markdown",
      "metadata": {
        "id": "ruM_3NLUzsZf"
      },
      "source": [
        "**数列の極限の性質**\n",
        "\n",
        "$\\{a_n\\}, \\{b_n\\}$ が収束して $\\displaystyle \\lim_{n \\rightarrow \\infty} a_n = \\alpha, \\lim_{n \\rightarrow \\infty} b_n = \\beta$ のとき\n",
        "\n",
        "定数倍 $\\quad \\displaystyle \\lim_{n \\rightarrow \\infty} ka_n = k \\alpha \\quad$ ただし $k$ は定数\n",
        "\n",
        "和  $\\quad \\displaystyle \\lim_{n \\rightarrow \\infty} (a_n+b_n) = \\alpha + \\beta$ \n",
        "\n",
        "差  $\\quad \\displaystyle \\lim_{n \\rightarrow \\infty} (a_n-b_n) = \\alpha - \\beta$ \n",
        "\n",
        "$\\displaystyle \\lim_{n \\rightarrow \\infty} (ka_n+lb_n) = k \\alpha+l\\beta$ ただし $k,l$ は定数\n",
        "\n",
        "積  $\\quad \\displaystyle \\lim_{n \\rightarrow \\infty} a_n b_n = \\alpha  \\beta$ \n",
        "\n",
        "商  $\\quad \\displaystyle \\lim_{n \\rightarrow \\infty} \\frac{a_n}{b_n} = \\frac{\\alpha}{\\beta} \\quad$  ただし $\\beta \\neq 0$\n",
        "\n",
        "$a_n \\leq b_n \\quad (n=1,2,3,\\cdots \\cdots)$ で $\\displaystyle \\lim_{n \\rightarrow \\infty} a_n = \\infty$ ならば  $\\displaystyle \\lim_{n \\rightarrow \\infty} b_n = \\infty$ である\n"
      ]
    },
    {
      "cell_type": "code",
      "metadata": {
        "colab": {
          "base_uri": "https://localhost:8080/",
          "height": 58
        },
        "id": "CEoxZcBp7-eE",
        "outputId": "44627666-afff-4c03-b64a-e70f258135f4"
      },
      "source": [
        "# 基本例題 14 p.30\n",
        "# (1)\n",
        "from sympy.abc import *\n",
        "from sympy import*\n",
        "init_printing()\n",
        "display([1/Rational(n+1)**2 for n in range(5)])"
      ],
      "execution_count": 3,
      "outputs": [
        {
          "output_type": "display_data",
          "data": {
            "image/png": "[encoded data removed]",
            "text/latex": "$\\displaystyle \\left[ 1, \\  \\frac{1}{4}, \\  \\frac{1}{9}, \\  \\frac{1}{16}, \\  \\frac{1}{25}\\right]$",
            "text/plain": [
              "[1, 1/4, 1/9, 1/16, 1/25]"
            ]
          },
          "metadata": {
            "tags": []
          }
        }
      ]
    },
    {
      "cell_type": "code",
      "metadata": {
        "id": "CuYuI2oiX5St",
        "outputId": "264a6cca-fb58-470a-d0a6-3bf81055f4a2",
        "colab": {
          "base_uri": "https://localhost:8080/",
          "height": 105
        }
      },
      "source": [
        "# 基本例題 14 p.30\n",
        "# (1)\n",
        "from sympy.abc import *\n",
        "from sympy import*\n",
        "from fractions import Fraction\n",
        "init_printing()\n",
        "display([1/Fraction(n+1)**2 for n in range(5)])"
      ],
      "execution_count": 4,
      "outputs": [
        {
          "output_type": "display_data",
          "data": {
            "text/plain": [
              "[Fraction(1, 1),\n",
              " Fraction(1, 4),\n",
              " Fraction(1, 9),\n",
              " Fraction(1, 16),\n",
              " Fraction(1, 25)]"
            ]
          },
          "metadata": {
            "tags": []
          }
        }
      ]
    },
    {
      "cell_type": "code",
      "metadata": {
        "colab": {
          "base_uri": "https://localhost:8080/",
          "height": 37
        },
        "id": "mPvP7INhSV7r",
        "outputId": "24cfbb42-31ca-4c6c-a0c4-117d134ad7a4"
      },
      "source": [
        "from sympy.abc import *\n",
        "limit(1/x**2, x, oo) #=> 0 よって 0 に収束"
      ],
      "execution_count": null,
      "outputs": [
        {
          "output_type": "execute_result",
          "data": {
            "text/latex": "$\\displaystyle 0$",
            "text/plain": [
              "0"
            ]
          },
          "metadata": {
            "tags": []
          },
          "execution_count": 113
        }
      ]
    },
    {
      "cell_type": "markdown",
      "metadata": {
        "id": "N4rn13-V_dOv"
      },
      "source": [
        "メモ\n",
        "\n",
        "`[]` の中に expression for i in interator [optional if] を書くのが python の内包表記 list comprehension。\n",
        "\n",
        "分数は fractions.Fraction を使うか、sympy.Rational を使う。\n",
        "\n",
        "`/` が割り算を float にしようとするのでそれを阻止しなければならないので変なところに Fraction や Rational を入れる必要がある。\n"
      ]
    },
    {
      "cell_type": "code",
      "metadata": {
        "colab": {
          "base_uri": "https://localhost:8080/",
          "height": 54
        },
        "id": "Y4F4pCyAAUg2",
        "outputId": "1dff1a2d-3b96-4734-bee3-da7b2826f3a2"
      },
      "source": [
        "# 基本例題 14 p.30\n",
        "# (2), (3)\n",
        "from sympy import *\n",
        "display([200-n*5 for n in range(5)]) #=> -oo に発散\n",
        "display([3**(n%2) for n in range(5)]) #=> 振動"
      ],
      "execution_count": null,
      "outputs": [
        {
          "output_type": "display_data",
          "data": {
            "text/plain": [
              "[200, 195, 190, 185, 180]"
            ]
          },
          "metadata": {
            "tags": []
          }
        },
        {
          "output_type": "display_data",
          "data": {
            "text/plain": [
              "[1, 3, 1, 3, 1]"
            ]
          },
          "metadata": {
            "tags": []
          }
        }
      ]
    },
    {
      "cell_type": "code",
      "metadata": {
        "colab": {
          "base_uri": "https://localhost:8080/",
          "height": 55
        },
        "id": "PmM6bI1nA7-t",
        "outputId": "e49a3296-8c00-4cba-9bbe-ef718adfec65"
      },
      "source": [
        "# 基本例題 14 p.30\n",
        "# (4)\n",
        "from sympy import *\n",
        "display([(7+3*n)/Rational(n+1)**2 for n in range(5)])\n",
        "limit((7*3*n)/(n+1)**2, n, oo) #=> 0 に収束"
      ],
      "execution_count": null,
      "outputs": [
        {
          "output_type": "display_data",
          "data": {
            "text/plain": [
              "[7, 5/2, 13/9, 1, 19/25]"
            ]
          },
          "metadata": {
            "tags": []
          }
        },
        {
          "output_type": "execute_result",
          "data": {
            "text/latex": "$\\displaystyle 0$",
            "text/plain": [
              "0"
            ]
          },
          "metadata": {
            "tags": []
          },
          "execution_count": 116
        }
      ]
    },
    {
      "cell_type": "code",
      "metadata": {
        "colab": {
          "base_uri": "https://localhost:8080/",
          "height": 75
        },
        "id": "oYjUs-y2BUr4",
        "outputId": "317eaea4-179b-4b22-bf67-369e3e8f4e01"
      },
      "source": [
        "# (5)\n",
        "from sympy import *\n",
        "display([(4*n+3)/(Rational(n+1)*2) for n in range(5)])\n",
        "display([sqrt((4*n+3)/(Rational(n+1)*2)) for n in range(5)])\n",
        "limit(sqrt((4*n+3)/((n+1)*2)), n, oo) #=> sqrt(2) に収束"
      ],
      "execution_count": null,
      "outputs": [
        {
          "output_type": "display_data",
          "data": {
            "text/plain": [
              "[3/2, 7/4, 11/6, 15/8, 19/10]"
            ]
          },
          "metadata": {
            "tags": []
          }
        },
        {
          "output_type": "display_data",
          "data": {
            "text/plain": [
              "[sqrt(6)/2, sqrt(7)/2, sqrt(66)/6, sqrt(30)/4, sqrt(190)/10]"
            ]
          },
          "metadata": {
            "tags": []
          }
        },
        {
          "output_type": "execute_result",
          "data": {
            "text/latex": "$\\displaystyle \\sqrt{2}$",
            "text/plain": [
              "sqrt(2)"
            ]
          },
          "metadata": {
            "tags": []
          },
          "execution_count": 118
        }
      ]
    },
    {
      "cell_type": "code",
      "metadata": {
        "id": "9KS1l3NYHC_v"
      },
      "source": [
        "# メモ\n",
        "# 上のセルで 分数の sqrt をうまく表示できなかった"
      ],
      "execution_count": null,
      "outputs": []
    },
    {
      "cell_type": "code",
      "metadata": {
        "colab": {
          "base_uri": "https://localhost:8080/",
          "height": 74
        },
        "id": "FgsJRtmLMJOi",
        "outputId": "ffda2c3d-04b4-410d-ddec-253299f65646"
      },
      "source": [
        "# 練習 p.30\n",
        "# (1)\n",
        "from sympy import *\n",
        "display([n*2+1 for n in range(5)])\n",
        "display([sqrt(n*2+1) for n in range(5)])\n",
        "limit(sqrt(n*2+1), n, oo) #=> oo に発散"
      ],
      "execution_count": null,
      "outputs": [
        {
          "output_type": "display_data",
          "data": {
            "text/plain": [
              "[1, 3, 5, 7, 9]"
            ]
          },
          "metadata": {
            "tags": []
          }
        },
        {
          "output_type": "display_data",
          "data": {
            "text/plain": [
              "[1, sqrt(3), sqrt(5), sqrt(7), 3]"
            ]
          },
          "metadata": {
            "tags": []
          }
        },
        {
          "output_type": "execute_result",
          "data": {
            "text/latex": "$\\displaystyle \\infty$",
            "text/plain": [
              "oo"
            ]
          },
          "metadata": {
            "tags": []
          },
          "execution_count": 120
        }
      ]
    },
    {
      "cell_type": "code",
      "metadata": {
        "colab": {
          "base_uri": "https://localhost:8080/",
          "height": 92
        },
        "id": "jSHUOR_RRTv9",
        "outputId": "2a905094-18ec-41cd-afb4-bdf38953d791"
      },
      "source": [
        "# 練習 p.30\n",
        "# (2)\n",
        "from sympy import *\n",
        "display([n+1 for n in range(5)])\n",
        "display([n+2 for n in range(5)])\n",
        "display([sqrt((n+1)/Rational(n+2))for n in range(5)])\n",
        "limit(sqrt((n+1)/(n+2)),n,oo) #=> 1 に収束"
      ],
      "execution_count": null,
      "outputs": [
        {
          "output_type": "display_data",
          "data": {
            "text/plain": [
              "[1, 2, 3, 4, 5]"
            ]
          },
          "metadata": {
            "tags": []
          }
        },
        {
          "output_type": "display_data",
          "data": {
            "text/plain": [
              "[2, 3, 4, 5, 6]"
            ]
          },
          "metadata": {
            "tags": []
          }
        },
        {
          "output_type": "display_data",
          "data": {
            "text/plain": [
              "[sqrt(2)/2, sqrt(6)/3, sqrt(3)/2, 2*sqrt(5)/5, sqrt(30)/6]"
            ]
          },
          "metadata": {
            "tags": []
          }
        },
        {
          "output_type": "execute_result",
          "data": {
            "text/latex": "$\\displaystyle 1$",
            "text/plain": [
              "1"
            ]
          },
          "metadata": {
            "tags": []
          },
          "execution_count": 122
        }
      ]
    },
    {
      "cell_type": "code",
      "metadata": {
        "colab": {
          "base_uri": "https://localhost:8080/",
          "height": 72
        },
        "id": "GAm_HQ8dSHV_",
        "outputId": "0923ba0d-52b2-4944-8817-93e354179c95"
      },
      "source": [
        "# 練習 p.30\n",
        "# (3)\n",
        "from sympy import *\n",
        "display([n*2+1 for n in range(5)])\n",
        "display([(-1)**n for n in range(5)])\n",
        "display([(n*2+1)*(-1)**n for n in range(5)]) #=> 発散、振動"
      ],
      "execution_count": null,
      "outputs": [
        {
          "output_type": "display_data",
          "data": {
            "text/plain": [
              "[1, 3, 5, 7, 9]"
            ]
          },
          "metadata": {
            "tags": []
          }
        },
        {
          "output_type": "display_data",
          "data": {
            "text/plain": [
              "[1, -1, 1, -1, 1]"
            ]
          },
          "metadata": {
            "tags": []
          }
        },
        {
          "output_type": "display_data",
          "data": {
            "text/plain": [
              "[1, -3, 5, -7, 9]"
            ]
          },
          "metadata": {
            "tags": []
          }
        }
      ]
    },
    {
      "cell_type": "code",
      "metadata": {
        "id": "5vDUX9bqXhmL",
        "colab": {
          "base_uri": "https://localhost:8080/",
          "height": 72
        },
        "outputId": "3e524e76-e5a5-426d-c35b-1c9274fb7f44"
      },
      "source": [
        "# 練習 p.30\n",
        "# (4)\n",
        "from sympy import *\n",
        "display([(n+1)**3 for n in range(5)])\n",
        "display([(-1)**n for n in range(5)])\n",
        "display([((n+1)**3)*(-1)**n for n in range(5)]) #=> 発散、振動"
      ],
      "execution_count": null,
      "outputs": [
        {
          "output_type": "display_data",
          "data": {
            "text/plain": [
              "[1, 8, 27, 64, 125]"
            ]
          },
          "metadata": {
            "tags": []
          }
        },
        {
          "output_type": "display_data",
          "data": {
            "text/plain": [
              "[1, -1, 1, -1, 1]"
            ]
          },
          "metadata": {
            "tags": []
          }
        },
        {
          "output_type": "display_data",
          "data": {
            "text/plain": [
              "[1, -8, 27, -64, 125]"
            ]
          },
          "metadata": {
            "tags": []
          }
        }
      ]
    },
    {
      "cell_type": "code",
      "metadata": {
        "id": "XHPyE006X678",
        "colab": {
          "base_uri": "https://localhost:8080/",
          "height": 132
        },
        "outputId": "e6fb133b-f2f3-479f-bd11-432a834d651a"
      },
      "source": [
        "# 練習 p.30\n",
        "# (5)\n",
        "# [2/3, -1/2, -8/9, -13/12]\n",
        "# [2/3, -3/6, -8/9, -13/12]\n",
        "from sympy.abc import *\n",
        "from sympy import*\n",
        "init_printing()\n",
        "display([2-n*5 for n in range(5)])\n",
        "display([n*3+3 for n in range(5)])\n",
        "display([(2-n*5)/Rational(n*3+3 ) for n in range(5)]) \n",
        "limit((2-n*5)/(n*3+3),n,oo) #=> -5/3に収束"
      ],
      "execution_count": 2,
      "outputs": [
        {
          "output_type": "display_data",
          "data": {
            "image/png": "[encoded data removed]",
            "text/latex": "$\\displaystyle \\left[ 2, \\  -3, \\  -8, \\  -13, \\  -18\\right]$",
            "text/plain": [
              "[2, -3, -8, -13, -18]"
            ]
          },
          "metadata": {
            "tags": []
          }
        },
        {
          "output_type": "display_data",
          "data": {
            "image/png": "[encoded data removed]",
            "text/latex": "$\\displaystyle \\left[ 3, \\  6, \\  9, \\  12, \\  15\\right]$",
            "text/plain": [
              "[3, 6, 9, 12, 15]"
            ]
          },
          "metadata": {
            "tags": []
          }
        },
        {
          "output_type": "display_data",
          "data": {
            "image/png": "[encoded data removed]",
            "text/latex": "$\\displaystyle \\left[ \\frac{2}{3}, \\  - \\frac{1}{2}, \\  - \\frac{8}{9}, \\  - \\frac{13}{12}, \\  - \\frac{6}{5}\\right]$",
            "text/plain": [
              "⎡                 -13       ⎤\n",
              "⎢2/3, -1/2, -8/9, ────, -6/5⎥\n",
              "⎣                  12       ⎦"
            ]
          },
          "metadata": {
            "tags": []
          }
        },
        {
          "output_type": "execute_result",
          "data": {
            "image/png": "[encoded data removed]",
            "text/latex": "$\\displaystyle - \\frac{5}{3}$",
            "text/plain": [
              "-5/3"
            ]
          },
          "metadata": {
            "tags": []
          },
          "execution_count": 2
        }
      ]
    },
    {
      "cell_type": "markdown",
      "metadata": {
        "id": "HLzBdtMUTL_Z"
      },
      "source": [
        "# いまここ"
      ]
    },
    {
      "cell_type": "code",
      "metadata": {
        "id": "Yx5XcHQDd2vK",
        "colab": {
          "base_uri": "https://localhost:8080/",
          "height": 57
        },
        "outputId": "aca9cf0b-04dd-4c88-ecca-dbef26bb6aa7"
      },
      "source": [
        "# 基本例題 15 p.31\n",
        "# (1)\n",
        "display(limit(3*n-n**3,n,oo)) #=> -oo\n",
        "# (2)\n",
        "display(limit((2*n**2-3)/(n**2+1),n,oo)) #=> 2 に収束\n",
        "# (3)"
      ],
      "execution_count": null,
      "outputs": [
        {
          "output_type": "display_data",
          "data": {
            "text/latex": "$\\displaystyle -\\infty$",
            "text/plain": [
              "-oo"
            ]
          },
          "metadata": {
            "tags": []
          }
        },
        {
          "output_type": "display_data",
          "data": {
            "text/latex": "$\\displaystyle 2$",
            "text/plain": [
              "2"
            ]
          },
          "metadata": {
            "tags": []
          }
        }
      ]
    },
    {
      "cell_type": "markdown",
      "metadata": {
        "id": "mQk5jlozd2gY"
      },
      "source": [
        ""
      ]
    }
  ]
}