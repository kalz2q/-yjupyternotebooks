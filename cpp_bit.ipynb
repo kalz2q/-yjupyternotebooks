{
  "nbformat": 4,
  "nbformat_minor": 0,
  "metadata": {
    "colab": {
      "name": "cpp_bit.ipynb",
      "provenance": [],
      "toc_visible": true,
      "authorship_tag": "ABX9TyO358E1m6C9b2P4aKn7bzJ2",
      "include_colab_link": true
    },
    "kernelspec": {
      "name": "python3",
      "display_name": "Python 3"
    },
    "language_info": {
      "name": "python"
    }
  },
  "cells": [
    {
      "cell_type": "markdown",
      "metadata": {
        "id": "view-in-github",
        "colab_type": "text"
      },
      "source": [
        "<a href=\"https://colab.research.google.com/github/kalz2q/mycolabnotebooks/blob/master/cpp_bit.ipynb\" target=\"_parent\"><img src=\"https://colab.research.google.com/assets/colab-badge.svg\" alt=\"Open In Colab\"/></a>"
      ]
    },
    {
      "cell_type": "markdown",
      "source": [
        "# メモ\n",
        "\n",
        "qita \n",
        "ビット演算 (bit 演算) の使い方を総特集！ 〜 マスクビットから bit DP まで 〜 by 大槻 (通称、けんちょん) \n",
        "\n",
        "https://qiita.com/drken/items/7c6ff2aa4d8fce1c9361\n",
        "\n",
        "全探索について  \n",
        "https://drken1215.hatenablog.com/entry/2019/12/14/171657\n",
        "\n",
        "問題集  \n",
        "https://algo-method.com/courses/3\n"
      ],
      "metadata": {
        "id": "uRUG0WU88C6h"
      }
    },
    {
      "cell_type": "code",
      "source": [
        "# 問題 整数を bitset で表せ\n",
        "# bitset は桁数指定が必要 bitset<8> とか\n",
        "%%writefile temp.cpp\n",
        "#include <bits/stdc++.h>\n",
        "using namespace std;\n",
        "\n",
        "int main() {\n",
        "    int a = 45; // 実際上は 0b101101、あるいは 0x2d と書く\n",
        "    cout << (bitset<6>) a << endl; //=> 001011101\n",
        "    cout << (bitset<6>) 45 << endl; //=> 001011101\n",
        "    cout << (bitset<6>) 0x2d << endl; //=> 001011101\n",
        "}"
      ],
      "metadata": {
        "id": "QQm089xF8L3E",
        "outputId": "2b19c885-c746-4ecb-f35e-bcdff2aaf419",
        "colab": {
          "base_uri": "https://localhost:8080/"
        }
      },
      "execution_count": null,
      "outputs": [
        {
          "output_type": "stream",
          "name": "stdout",
          "text": [
            "Overwriting temp.cpp\n"
          ]
        }
      ]
    },
    {
      "cell_type": "code",
      "source": [
        "!g++ temp.cpp; ./a.out"
      ],
      "metadata": {
        "id": "AP6GqvrZ8cyx",
        "outputId": "db219f6b-d21b-421c-f3cf-c5eb4db33e61",
        "colab": {
          "base_uri": "https://localhost:8080/"
        }
      },
      "execution_count": null,
      "outputs": [
        {
          "output_type": "stream",
          "name": "stdout",
          "text": [
            "101101\n",
            "101101\n",
            "101101\n"
          ]
        }
      ]
    },
    {
      "cell_type": "code",
      "execution_count": null,
      "metadata": {
        "id": "nqUI4aRF7_jw",
        "colab": {
          "base_uri": "https://localhost:8080/"
        },
        "outputId": "dd2d3118-5fad-4401-b34a-4e0d411d8535"
      },
      "outputs": [
        {
          "output_type": "stream",
          "name": "stdout",
          "text": [
            "Overwriting temp.cpp\n"
          ]
        }
      ],
      "source": [
        "# 整数の bitset 演算\n",
        "%%writefile temp.cpp\n",
        "#include <bits/stdc++.h>\n",
        "using namespace std;\n",
        "\n",
        "int main() {\n",
        "    int a = 45;\n",
        "    int b = 25;\n",
        "    cout << a << \" AND \" << b << \" = \" << (a&b) << endl; // & 1つだと bit 演算になる\n",
        "    bitset<8> c(45);\n",
        "    bitset<8> d(25);\n",
        "    cout << c << \" AND \" << d << \" = \" << (c&d) << endl;\n",
        "    cout << (bitset<8>)a <<  \" AND \" << (bitset<8>)b << \" = \" <<  (bitset<8>)(a&b) << endl;\n",
        "}"
      ]
    },
    {
      "cell_type": "code",
      "source": [
        "!g++ temp.cpp; ./a.out"
      ],
      "metadata": {
        "colab": {
          "base_uri": "https://localhost:8080/"
        },
        "id": "glg2AnO496JC",
        "outputId": "fb3a4642-0325-4f68-e337-bb7193501b11"
      },
      "execution_count": null,
      "outputs": [
        {
          "output_type": "stream",
          "name": "stdout",
          "text": [
            "45 AND 25 = 9\n",
            "00101101 AND 00011001 = 00001001\n",
            "00101101 AND 00011001 = 00001001\n"
          ]
        }
      ]
    },
    {
      "cell_type": "code",
      "source": [
        "# bitset を整数に変換するには bitset の to_ullong 関数を使う\n",
        "%%writefile temp.cpp\n",
        "#include <bits/stdc++.h>\n",
        "using namespace std;\n",
        "\n",
        "int main () {\n",
        "    cout << 0b101101 << endl;\n",
        "    bitset<8> a = 45;\n",
        "    bitset<8> b(26);\n",
        "    cout << a.to_ullong() << \", \" << b.to_ullong() << endl;\n",
        "\n",
        "    // to_string は使えるか => 使えない\n",
        "    cout << to_string(0b101101) << endl; // 45\n",
        "    // cout << to_string(a) << endl; // エラー\n",
        "}"
      ],
      "metadata": {
        "id": "dhmqwcBX9zY7",
        "outputId": "9ed4bc06-42d4-4abf-8dc0-6b3cbca3e13c",
        "colab": {
          "base_uri": "https://localhost:8080/"
        }
      },
      "execution_count": null,
      "outputs": [
        {
          "output_type": "stream",
          "name": "stdout",
          "text": [
            "Overwriting temp.cpp\n"
          ]
        }
      ]
    },
    {
      "cell_type": "code",
      "source": [
        "!g++ temp.cpp; ./a.out"
      ],
      "metadata": {
        "id": "jGJAhKoG-CkT",
        "outputId": "0b0381f3-a4b5-4acb-a40e-c60cf696e6c6",
        "colab": {
          "base_uri": "https://localhost:8080/"
        }
      },
      "execution_count": null,
      "outputs": [
        {
          "output_type": "stream",
          "name": "stdout",
          "text": [
            "45\n",
            "45, 26\n",
            "45\n"
          ]
        }
      ]
    },
    {
      "cell_type": "code",
      "source": [
        "# 45 OR 25 = 61\n",
        "# bit 演算の `|` の例\n",
        "%%writefile temp.cpp\n",
        "#include <bits/stdc++.h>\n",
        "using namespace std;\n",
        "int main() {\n",
        "    int a = 45; \n",
        "    int b = 25;\n",
        "    cout << a << \" OR \" << b << \" = \" << (a|b) << endl;\n",
        "    cout << (bitset<8>)a << \" OR \" << (bitset<8>)b << \" = \" << (bitset<8>)(a|b) << endl;\n",
        "}"
      ],
      "metadata": {
        "colab": {
          "base_uri": "https://localhost:8080/"
        },
        "id": "veEyBbNe9yE8",
        "outputId": "73bfc991-4659-4c60-85ac-24ad66d45e32"
      },
      "execution_count": null,
      "outputs": [
        {
          "output_type": "stream",
          "name": "stdout",
          "text": [
            "Overwriting temp.cpp\n"
          ]
        }
      ]
    },
    {
      "cell_type": "code",
      "source": [
        "!g++ temp.cpp; ./a.out"
      ],
      "metadata": {
        "id": "scM1haKBc1mB",
        "outputId": "03aa8052-15a3-4680-e740-36e72210eb96",
        "colab": {
          "base_uri": "https://localhost:8080/"
        }
      },
      "execution_count": null,
      "outputs": [
        {
          "output_type": "stream",
          "name": "stdout",
          "text": [
            "45 OR 25 = 61\n",
            "00101101 OR 00011001 = 00111101\n"
          ]
        }
      ]
    },
    {
      "cell_type": "code",
      "source": [
        "%%html\n",
        "<style>\n",
        "    tr td:nth-child(2) {\n",
        "        color: red;\n",
        "        text-align: center;\n",
        "    }\n",
        "</style>\n",
        "<table border=\"1\">\n",
        "<thead>\n",
        "<tr><th>ビット演算</th><th>演算子</th><th>意味</th></tr>\n",
        "</thead>\n",
        "<tbody>\n",
        "<tr><td>ビット毎のAND演算</td><td>&</td><td>各ビットについて「両方のビットが1ならば1」という操作を適用する。</td></tr>\n",
        "<tr><td>ビット毎のOR演算</td><td>|</td><td>各ビットについて「少なくとも一方のビットが1ならば1」という操作を適用する。</td></tr>\n",
        "<tr><td>ビット毎のXOR演算</td><td>^</td><td>各ビットについて「どちらか一方だけが1ならば1」という操作を適用する。</td></tr>\n",
        "<tr><td>ビット毎のNOT演算</td><td>~</td><td>各ビットについて「ビットを反転する」という操作を適用する。</td></tr>\n",
        "<tr><td>左シフト演算</td><td><<</td><td>指定したビット数だけビット列を左にずらす。範囲外のビットは切り捨てられ、足りないビットは0で埋められる。</td></tr>\n",
        "<tr><td>右シフト演算</td><td>>></td><td>指定したビット数だけビット列を右にずらす。範囲外のビットは切り捨てられ、足りないビットは0で埋められる。</td></tr>\n",
        "</tbody>\n",
        "</table>"
      ],
      "metadata": {
        "colab": {
          "base_uri": "https://localhost:8080/",
          "height": 181
        },
        "id": "JsacjKHZoM5S",
        "outputId": "93fb610c-b9d0-432b-8b57-fa1f54a1334d"
      },
      "execution_count": null,
      "outputs": [
        {
          "output_type": "display_data",
          "data": {
            "text/plain": [
              "<IPython.core.display.HTML object>"
            ],
            "text/html": [
              "<style>\n",
              "    tr td:nth-child(2) {\n",
              "        color: red;\n",
              "        text-align: center;\n",
              "    }\n",
              "</style>\n",
              "<table border=\"1\">\n",
              "<thead>\n",
              "<tr><th>ビット演算</th><th>演算子</th><th>意味</th></tr>\n",
              "</thead>\n",
              "<tbody>\n",
              "<tr><td>ビット毎のAND演算</td><td>&</td><td>各ビットについて「両方のビットが1ならば1」という操作を適用する。</td></tr>\n",
              "<tr><td>ビット毎のOR演算</td><td>|</td><td>各ビットについて「少なくとも一方のビットが1ならば1」という操作を適用する。</td></tr>\n",
              "<tr><td>ビット毎のXOR演算</td><td>^</td><td>各ビットについて「どちらか一方だけが1ならば1」という操作を適用する。</td></tr>\n",
              "<tr><td>ビット毎のNOT演算</td><td>~</td><td>各ビットについて「ビットを反転する」という操作を適用する。</td></tr>\n",
              "<tr><td>左シフト演算</td><td><<</td><td>指定したビット数だけビット列を左にずらす。範囲外のビットは切り捨てられ、足りないビットは0で埋められる。</td></tr>\n",
              "<tr><td>右シフト演算</td><td>>></td><td>指定したビット数だけビット列を右にずらす。範囲外のビットは切り捨てられ、足りないビットは0で埋められる。</td></tr>\n",
              "</tbody>\n",
              "</table>"
            ]
          },
          "metadata": {}
        }
      ]
    },
    {
      "cell_type": "code",
      "source": [
        "# ビット毎のNOT演算\t~\t各ビットについて「ビットを反転する」という操作を適用する。\n",
        "# をやってみる\n",
        "%%writefile temp.cpp\n",
        "#include <bits/stdc++.h>\n",
        "using namespace std;\n",
        "int main() {\n",
        "    int a = 45;\n",
        "    bitset<8> b(a);\n",
        "    cout << a << \" : \" << b << endl;\n",
        "    cout <<  \"NOT \" << b << \" = \"<<  ~b << endl;\n",
        "    cout << ~b << \" = \" << (~b).to_ullong() << endl; // 2+16+64+128 = 210\n",
        "}"
      ],
      "metadata": {
        "colab": {
          "base_uri": "https://localhost:8080/"
        },
        "id": "0Q9bUwKroSZc",
        "outputId": "38504b2d-2264-46dd-961c-1a5bf21bee1b"
      },
      "execution_count": null,
      "outputs": [
        {
          "output_type": "stream",
          "name": "stdout",
          "text": [
            "Writing temp.cpp\n"
          ]
        }
      ]
    },
    {
      "cell_type": "code",
      "source": [
        "!g++ temp.cpp; ./a.out"
      ],
      "metadata": {
        "colab": {
          "base_uri": "https://localhost:8080/"
        },
        "id": "kopEt2-JpF_G",
        "outputId": "28dfe4c0-ff77-46db-a59b-6b58271bb914"
      },
      "execution_count": null,
      "outputs": [
        {
          "output_type": "stream",
          "name": "stdout",
          "text": [
            "45 : 00101101\n",
            "NOT 00101101 = 11010010\n",
            "11010010 = 210\n"
          ]
        }
      ]
    },
    {
      "cell_type": "code",
      "source": [
        "# 3. ビット演算を用いたフラグ管理\n",
        "# ここからビットシフト演算子が登場します！\n",
        "# a 番目のフラグが立っている状態は (1<<a) と表せます。\n",
        "#さらに、a 番目と b 番目と c 番目のフラグが立っている状態は (1<<a) | (1<<b) | (1<<c) と表せます。\n",
        "# これを用いて以下のようなフラグ管理ができます！\n",
        "%%html\n",
        "<table border=\"1\" style=\"width: 90%\">\n",
        "<thead>\n",
        "  <tr>\n",
        "    <th>やりたいこと</th>\n",
        "    <th>実装</th>\n",
        "  </tr>\n",
        "</thead>\n",
        "<tbody>\n",
        "  <tr>\n",
        "    <td>ビット bit に i 番目のフラグが立っているかどうか</td>\n",
        "    <td>if (bit &amp; (1&lt;&lt;i))</td>\n",
        "  </tr>\n",
        "  <tr>\n",
        "    <td>ビット bit に i 番目のフラグが消えているかどうか</td>\n",
        "    <td>if (!(bit &amp; (1&lt;&lt;i)))</td>\n",
        "  </tr>\n",
        "  <tr>\n",
        "    <td>ビット bit に i 番目のフラグを立てる</td>\n",
        "    <td>bit｜= (1&lt;&lt;i)</td>\n",
        "  </tr>\n",
        "  <tr>\n",
        "    <td>ビット bit に i 番目のフラグを消す</td>\n",
        "    <td>bit &amp;= ~(1&lt;&lt;i)</td>\n",
        "  </tr>\n",
        "  <tr>\n",
        "    <td>ビット bit に何個のフラグが立っているか</td>\n",
        "    <td>__builtin_popcount(bit)</td>\n",
        "  </tr>\n",
        "  <tr>\n",
        "    <td>ビット bit に i 番目のフラグを立てたもの</td>\n",
        "    <td>bit｜(1&lt;&lt;i)</td>\n",
        "  </tr>\n",
        "  <tr>\n",
        "    <td>ビット bit に i 番目のフラグを消したもの</td>\n",
        "    <td>bit &amp; ~(1&lt;&lt;i)</td>\n",
        "  </tr>\n",
        "</tbody>\n",
        "</table>"
      ],
      "metadata": {
        "id": "jxoIkc7UcsNf",
        "outputId": "5b6593a3-8de1-4182-e559-10f7fb55fd77",
        "colab": {
          "base_uri": "https://localhost:8080/",
          "height": 208
        }
      },
      "execution_count": null,
      "outputs": [
        {
          "output_type": "display_data",
          "data": {
            "text/plain": [
              "<IPython.core.display.HTML object>"
            ],
            "text/html": [
              "<table border=\"1\" style=\"width: 90%\">\n",
              "<thead>\n",
              "  <tr>\n",
              "    <th>やりたいこと</th>\n",
              "    <th>実装</th>\n",
              "  </tr>\n",
              "</thead>\n",
              "<tbody>\n",
              "  <tr>\n",
              "    <td>ビット bit に i 番目のフラグが立っているかどうか</td>\n",
              "    <td>if (bit &amp; (1&lt;&lt;i))</td>\n",
              "  </tr>\n",
              "  <tr>\n",
              "    <td>ビット bit に i 番目のフラグが消えているかどうか</td>\n",
              "    <td>if (!(bit &amp; (1&lt;&lt;i)))</td>\n",
              "  </tr>\n",
              "  <tr>\n",
              "    <td>ビット bit に i 番目のフラグを立てる</td>\n",
              "    <td>bit｜= (1&lt;&lt;i)</td>\n",
              "  </tr>\n",
              "  <tr>\n",
              "    <td>ビット bit に i 番目のフラグを消す</td>\n",
              "    <td>bit &amp;= ~(1&lt;&lt;i)</td>\n",
              "  </tr>\n",
              "  <tr>\n",
              "    <td>ビット bit に何個のフラグが立っているか</td>\n",
              "    <td>__builtin_popcount(bit)</td>\n",
              "  </tr>\n",
              "  <tr>\n",
              "    <td>ビット bit に i 番目のフラグを立てたもの</td>\n",
              "    <td>bit｜(1&lt;&lt;i)</td>\n",
              "  </tr>\n",
              "  <tr>\n",
              "    <td>ビット bit に i 番目のフラグを消したもの</td>\n",
              "    <td>bit &amp; ~(1&lt;&lt;i)</td>\n",
              "  </tr>\n",
              "</tbody>\n",
              "</table>"
            ]
          },
          "metadata": {}
        }
      ]
    },
    {
      "cell_type": "code",
      "source": [
        "# 例えばビット bit に i 番目のフラグが立っているかどうかは if ((bit>>i) & 1) と書くこともできます。\n",
        "# また、bit｜(1<<i) といった書き方をしましたが、\n",
        "# (1<<i) のようなものは予め define してしまうことも多いです \n",
        "# define BIT_FLAG_0 (1<<0) // 0000 0000 0000 0001\n",
        "# (const unsigned int を使えという意見もあります)\n",
        "# __builtin_popcount() については GCC のビルトイン関数ですので、GCC で用いる必要があります。\n",
        "\n",
        "# 以下にフラグ管理の具体的な動作確認を示します (ビットは const unsigned int で表しています):\n",
        "\n",
        "%%writefile temp.cpp\n",
        "#include <bits/stdc++.h>\n",
        "using namespace std;\n",
        "\n",
        "const unsigned int BIT_FLAG_0 = (1 << 0); // 0000 0000 0000 0001\n",
        "const unsigned int BIT_FLAG_1 = (1 << 1); // 0000 0000 0000 0010\n",
        "const unsigned int BIT_FLAG_2 = (1 << 2); // 0000 0000 0000 0100\n",
        "const unsigned int BIT_FLAG_3 = (1 << 3); // 0000 0000 0000 1000\n",
        "const unsigned int BIT_FLAG_4 = (1 << 4); // 0000 0000 0001 0000\n",
        "const unsigned int BIT_FLAG_5 = (1 << 5); // 0000 0000 0010 0000\n",
        "const unsigned int BIT_FLAG_6 = (1 << 6); // 0000 0000 0100 0000\n",
        "const unsigned int BIT_FLAG_7 = (1 << 7); // 0000 0000 1000 0000\n",
        "\n",
        "int main() {\n",
        "    // {1, 3, 5} にフラグの立ったビット\n",
        "    unsigned int bit = BIT_FLAG_1 | BIT_FLAG_3 | BIT_FLAG_5;\n",
        "    cout << \"{1, 3, 5} = \" << bitset<8>(bit) << endl;\n",
        "\n",
        "    // ビット {1, 3, 5} について、3 番目のフラグが立っていること\n",
        "    if (bit & BIT_FLAG_3) {\n",
        "        cout << \"3 is in     \" << bitset<8>(bit) << endl;\n",
        "    }\n",
        "\n",
        "    // ビット {1, 3, 5} について、0 番目のフラグが立っていないこと\n",
        "    if (!(bit & BIT_FLAG_0)) {\n",
        "        cout << \"0 is not in \" << bitset<8>(bit) << endl;\n",
        "    }\n",
        "\n",
        "    // 新たなビット\n",
        "    unsigned int bit2 = BIT_FLAG_0 | BIT_FLAG_3 | BIT_FLAG_4; // {0, 3, 4}\n",
        "    cout << bitset<8>(bit) << \" AND \" << bitset<8>(bit2) << \" = \" << bitset<8>(bit & bit2) << endl; // {1, 3, 5} AND {0, 3, 4} = {3}\n",
        "    cout << bitset<8>(bit) << \" OR  \" << bitset<8>(bit2) << \" = \" << bitset<8>(bit | bit2) << endl; // {1, 3, 5} OR {0, 3, 4} = {0, 1, 3, 4, 5}\n",
        "\n",
        "    // bit に 6 番目のフラグを立てる\n",
        "    cout << \"before: \" << bitset<8>(bit) << endl;\n",
        "    bit |= BIT_FLAG_6;\n",
        "    cout << \"after : \" << bitset<8>(bit) << \" (6 included)\" << endl;\n",
        "\n",
        "    // bit2 から 3 番目のフラグを消す\n",
        "    cout << \"before: \" << bitset<8>(bit2) << endl;\n",
        "    bit2 &= ~BIT_FLAG_3;\n",
        "    cout << \"after : \" << bitset<8>(bit2) << \" (3 excluded)\" << endl;\n",
        "\n",
        "    return 0;\n",
        "}"
      ],
      "metadata": {
        "id": "l69fxWcP0fQq",
        "outputId": "d18a8517-3599-4f8d-a639-007b2e9315e1",
        "colab": {
          "base_uri": "https://localhost:8080/"
        }
      },
      "execution_count": null,
      "outputs": [
        {
          "output_type": "stream",
          "name": "stdout",
          "text": [
            "Overwriting temp.cpp\n"
          ]
        }
      ]
    },
    {
      "cell_type": "code",
      "source": [
        "!g++ temp.cpp; ./a.out"
      ],
      "metadata": {
        "id": "INGHppjN1t6F",
        "outputId": "5c3053fb-a247-496f-a8ae-92e0a77af87f",
        "colab": {
          "base_uri": "https://localhost:8080/"
        }
      },
      "execution_count": null,
      "outputs": [
        {
          "output_type": "stream",
          "name": "stdout",
          "text": [
            "{1, 3, 5} = 00101010\n",
            "3 is in     00101010\n",
            "0 is not in 00101010\n",
            "00101010 AND 00011001 = 00001000\n",
            "00101010 OR  00011001 = 00111011\n",
            "before: 00101010\n",
            "after : 01101010 (6 included)\n",
            "before: 00011001\n",
            "after : 00010001 (3 excluded)\n"
          ]
        }
      ]
    },
    {
      "cell_type": "code",
      "source": [
        "# bitset 関数\n",
        "%%html\n",
        "<table border=\"1\" style=\"width: 90%\">\n",
        "<thead>\n",
        "<tr><th>操作</th><th>書き方</th><th style=\"width: 50%\">備考</th></tr>\n",
        "</thead>\n",
        "<tbody>\n",
        "<tr><td>全てのビットを1にする</td><td>変数.set();</td><td></td></tr>\n",
        "<tr><td>特定のビットを1にする</td><td>変数.set(1にする位置);</td><td>1にするビットの位置を0始まりのインデックスで指定します。</td></tr>\n",
        "<tr><td>特定のビットの値を変更する</td><td>変数.set(位置, 値);</td><td>変更するビットの位置を0始まりのインデックスで指定します。値は0か1を指定します。</td></tr>\n",
        "<tr><td>全てのビットを0にする</td><td>変数.reset();</td><td></td></tr>\n",
        "<tr><td>特定のビットを0にする</td><td>変数.reset(0にする位置);</td><td>0にするビットの位置を0始まりのインデックスで指定します。</td></tr>\n",
        "<tr><td>全てのビットを反転する</td><td>変数.flip();</td><td></td></tr>\n",
        "<tr><td>特定のビットを反転する</td><td>変数.flip(反転する位置);</td><td>反転するビットの位置を0始まりのインデックスで指定します。</td></tr>\n",
        "<tr><td>特定のビットが1になっているかを調べる</td><td>変数.test(調べる位置);</td><td>調べるビットの位置を0始まりのインデックスで指定します。ビットが1ならtrueを、ビットが0ならfalseを返します。</td></tr>\n",
        "<tr><td>全てのビットが1になっているかを判定する</td><td>変数.all()</td><td>全てのビットが1ならtrueを、そうでなければfalseを返します。</td></tr>\n",
        "<tr><td>いずれかのビットが1になっているかを判定する</td><td>変数.any()</td><td>1のビットが存在するならtrueを、そうでなければfalseを返します。</td></tr>\n",
        "<tr><td>1のビットの個数を数える</td><td>変数.count()</td><td></td></tr>\n",
        "<tr><td>ビット列を出力する</td><td>cout << 変数;</td><td></td></tr>\n",
        "<tr><td>ビット列を文字列化する</td><td>変数.to_string()</td><td></td></tr>\n",
        "<tr><td>ビットに対するアクセス</td><td>変数[位置]</td><td>基本的にはtest、set/resetと同等ですが、範囲外の位置を指定した場合にエラーにならないことに注意する必要があります。</td></tr>\n",
        "</tbody>\n",
        "</table>"
      ],
      "metadata": {
        "id": "sNJtOUVf1z6Q",
        "outputId": "cde58061-b014-421b-a804-7b7dbaa4e75b",
        "colab": {
          "base_uri": "https://localhost:8080/",
          "height": 545
        }
      },
      "execution_count": null,
      "outputs": [
        {
          "output_type": "display_data",
          "data": {
            "text/plain": [
              "<IPython.core.display.HTML object>"
            ],
            "text/html": [
              "<table border=\"1\" style=\"width: 90%\">\n",
              "<thead>\n",
              "<tr><th>操作</th><th>書き方</th><th style=\"width: 50%\">備考</th></tr>\n",
              "</thead>\n",
              "<tbody>\n",
              "<tr><td>全てのビットを1にする</td><td>変数.set();</td><td></td></tr>\n",
              "<tr><td>特定のビットを1にする</td><td>変数.set(1にする位置);</td><td>1にするビットの位置を0始まりのインデックスで指定します。</td></tr>\n",
              "<tr><td>特定のビットの値を変更する</td><td>変数.set(位置, 値);</td><td>変更するビットの位置を0始まりのインデックスで指定します。値は0か1を指定します。</td></tr>\n",
              "<tr><td>全てのビットを0にする</td><td>変数.reset();</td><td></td></tr>\n",
              "<tr><td>特定のビットを0にする</td><td>変数.reset(0にする位置);</td><td>0にするビットの位置を0始まりのインデックスで指定します。</td></tr>\n",
              "<tr><td>全てのビットを反転する</td><td>変数.flip();</td><td></td></tr>\n",
              "<tr><td>特定のビットを反転する</td><td>変数.flip(反転する位置);</td><td>反転するビットの位置を0始まりのインデックスで指定します。</td></tr>\n",
              "<tr><td>特定のビットが1になっているかを調べる</td><td>変数.test(調べる位置);</td><td>調べるビットの位置を0始まりのインデックスで指定します。ビットが1ならtrueを、ビットが0ならfalseを返します。</td></tr>\n",
              "<tr><td>全てのビットが1になっているかを判定する</td><td>変数.all()</td><td>全てのビットが1ならtrueを、そうでなければfalseを返します。</td></tr>\n",
              "<tr><td>いずれかのビットが1になっているかを判定する</td><td>変数.any()</td><td>1のビットが存在するならtrueを、そうでなければfalseを返します。</td></tr>\n",
              "<tr><td>1のビットの個数を数える</td><td>変数.count()</td><td></td></tr>\n",
              "<tr><td>ビット列を出力する</td><td>cout << 変数;</td><td></td></tr>\n",
              "<tr><td>ビット列を文字列化する</td><td>変数.to_string()</td><td></td></tr>\n",
              "<tr><td>ビットに対するアクセス</td><td>変数[位置]</td><td>基本的にはtest、set/resetと同等ですが、範囲外の位置を指定した場合にエラーにならないことに注意する必要があります。</td></tr>\n",
              "</tbody>\n",
              "</table>"
            ]
          },
          "metadata": {}
        }
      ]
    },
    {
      "cell_type": "code",
      "source": [
        "# bitset 関数を使って書き直す\n",
        "%%writefile temp.cpp\n",
        "#include <bits/stdc++.h>\n",
        "using namespace std;\n",
        "\n",
        "int main() {\n",
        "    bitset<8> bit;\n",
        "    // {1, 3, 5} にフラグの立ったビット\n",
        "    // bit.set(1);bit.set(3);bit.set(5);\n",
        "    bit.set(1).set(3).set(5);\n",
        "    cout << \"{1, 3, 5} = \" << bit << endl;\n",
        "\n",
        "    // ビット {1, 3, 5} について、3 番目のフラグが立っていること\n",
        "    if (bit.test(3)) {\n",
        "        cout << \"3 is in     \" << bitset<8>(bit) << endl;\n",
        "    }\n",
        "\n",
        "    // ビット {1, 3, 5} について、0 番目のフラグが立っていないこと\n",
        "    if (!(bit.test(0))) {\n",
        "        cout << \"0 is not in \" << bitset<8>(bit) << endl;\n",
        "    }\n",
        "\n",
        "    // 新たなビット\n",
        "    // unsigned int bit2 = BIT_FLAG_0 | BIT_FLAG_3 | BIT_FLAG_4; // {0, 3, 4}\n",
        "    bitset<8> bit2;\n",
        "    bit2.set(0).set(3).set(4); // {0, 3, 4}\n",
        "    cout << (bit) << \" AND \" << (bit2) << \" = \" << (bit & bit2) << endl; // {1, 3, 5} AND {0, 3, 4} = {3}\n",
        "    cout << (bit) << \" OR  \" << (bit2) << \" = \" << (bit | bit2) << endl; // {1, 3, 5} OR {0, 3, 4} = {0, 1, 3, 4, 5}\n",
        "\n",
        "    // bit に 6 番目のフラグを立てる\n",
        "    cout << \"before: \" << (bit) << endl;\n",
        "    bit.set(6);\n",
        "    cout << \"after : \" << (bit) << \" (6 included)\" << endl;\n",
        "\n",
        "    // bit2 から 3 番目のフラグを消す\n",
        "    cout << \"before: \" << (bit2) << endl;\n",
        "    bit2.reset(3);\n",
        "    cout << \"after : \" << (bit2) << \" (3 excluded)\" << endl;\n",
        "}"
      ],
      "metadata": {
        "id": "fC1Uv63m2AjB",
        "outputId": "c495e40f-1eaa-49cd-93e5-b5aac464310b",
        "colab": {
          "base_uri": "https://localhost:8080/"
        }
      },
      "execution_count": null,
      "outputs": [
        {
          "output_type": "stream",
          "name": "stdout",
          "text": [
            "Overwriting temp.cpp\n"
          ]
        }
      ]
    },
    {
      "cell_type": "code",
      "source": [
        "!g++ temp.cpp; ./a.out"
      ],
      "metadata": {
        "id": "XpYKzrAN2CQl",
        "outputId": "520d7dc3-6e47-4179-fc4b-f845ce663e00",
        "colab": {
          "base_uri": "https://localhost:8080/"
        }
      },
      "execution_count": null,
      "outputs": [
        {
          "output_type": "stream",
          "name": "stdout",
          "text": [
            "{1, 3, 5} = 00101010\n",
            "3 is in     00101010\n",
            "0 is not in 00101010\n",
            "00101010 AND 00011001 = 00001000\n",
            "00101010 OR  00011001 = 00111011\n",
            "before: 00101010\n",
            "after : 01101010 (6 included)\n",
            "before: 00011001\n",
            "after : 00010001 (3 excluded)\n"
          ]
        }
      ]
    },
    {
      "cell_type": "code",
      "source": [
        "# マスクビット\n",
        "# ビットの使い方として最も多いものの 1 つがマスクビットです。\n",
        "# なじみの深いもので言えば、IP アドレスのマスクビットや割り込み制御のマスクビットなどが挙げられます。\n",
        "# 多種多様な場面で使用されるマスクビットですが、基本的なアイディアは共通で、\n",
        "# \n",
        "# 複数のフラグをまとめて立てる\n",
        "# 複数のフラグをまとめて消す\n",
        "# 必要な情報だけを取り出すために、マスクした部分の情報のみを取り出す\n",
        "# といったものを効率良く実現するものです。現在のフラグ状態を表すビットを bit として、\n",
        "# マスクビットを mask としたとき\n",
        "%%html\n",
        "<table border=\"1\">\n",
        "<thead>\n",
        "<tr><th>やりたいこと</th><th>実装</th></tr>\n",
        "</thead>\n",
        "<tbody>\n",
        "<tr><td>mask で表された部分のフラグをまとめて立てる</td><td>bit ｜= mask</td></tr>\n",
        "<tr><td>mask で表された部分のフラグをまとめて消す</td><td>bit &= ~mask</td></tr>\n",
        "<tr><td>mask で表された部分の情報のみを取り出したもの</td><td>bit & mask</td></tr>\n",
        "<tr><td>mask で表された部分のどれかのフラグが立っているかどうか</td><td>if (bit & mask)</td></tr>\n",
        "<tr><td>mask で表された部分のすべてのフラグが立っているかどうか</td><td>if ((bit & mask) == mask)</td></tr>\n",
        "</tbody>\n",
        "</table>"
      ],
      "metadata": {
        "id": "H7o7SSXf1ohx",
        "colab": {
          "base_uri": "https://localhost:8080/",
          "height": 158
        },
        "outputId": "b864f635-929d-4457-d84c-df631b537122"
      },
      "execution_count": null,
      "outputs": [
        {
          "output_type": "display_data",
          "data": {
            "text/plain": [
              "<IPython.core.display.HTML object>"
            ],
            "text/html": [
              "<table border=\"1\">\n",
              "<thead>\n",
              "<tr><th>やりたいこと</th><th>実装</th></tr>\n",
              "</thead>\n",
              "<tbody>\n",
              "<tr><td>mask で表された部分のフラグをまとめて立てる</td><td>bit ｜= mask</td></tr>\n",
              "<tr><td>mask で表された部分のフラグをまとめて消す</td><td>bit &= ~mask</td></tr>\n",
              "<tr><td>mask で表された部分の情報のみを取り出したもの</td><td>bit & mask</td></tr>\n",
              "<tr><td>mask で表された部分のどれかのフラグが立っているかどうか</td><td>if (bit & mask)</td></tr>\n",
              "<tr><td>mask で表された部分のすべてのフラグが立っているかどうか</td><td>if ((bit & mask) == mask)</td></tr>\n",
              "</tbody>\n",
              "</table>"
            ]
          },
          "metadata": {}
        }
      ]
    },
    {
      "cell_type": "code",
      "source": [
        "# 簡単な例を以下に示します。「毒」「麻痺」状態を「回復の薬」で回復させたりしてみます。\n",
        "%%writefile temp.cpp\n",
        "#include <bits/stdc++.h>\n",
        "using namespace std;\n",
        "\n",
        "const unsigned int BIT_FLAG_DAMAGE = (1 << 0); // HP が満タンでないか\n",
        "const unsigned int BIT_FLAG_DOKU = (1 << 1); // 毒状態になっているか\n",
        "const unsigned int BIT_FLAG_MAHI = (1 << 2); // 麻痺状態になっているか\n",
        "const unsigned int BIT_FLAG_SENTOFUNO = (1 << 3); // 戦闘不能状態になっているか\n",
        "\n",
        "// atack して、単にダメージを受ける\n",
        "const unsigned int MASK_ATTACK = BIT_FLAG_DAMAGE;\n",
        "\n",
        "// punch して、ダメージも受けて、麻痺もする\n",
        "const unsigned int MASK_PUNCH = BIT_FLAG_DAMAGE | BIT_FLAG_MAHI;\n",
        "\n",
        "// defeat して、相手の HP を 0 にする\n",
        "const unsigned int MASK_DEFEAT = BIT_FLAG_DAMAGE | BIT_FLAG_SENTOFUNO;\n",
        "\n",
        "// 「毒」と「麻痺」を回復させる: ~MASK_DOKU_MAHI をかけることで回復\n",
        "const unsigned int MASK_DOKU_MAHI = BIT_FLAG_DOKU | BIT_FLAG_MAHI;\n",
        "\n",
        "int main() {\n",
        "    // start: 0000, 初期状態\n",
        "    unsigned int status = 0;\n",
        "    cout << \"start: \" << bitset<4>(status) << endl;\n",
        "\n",
        "    // attacked: 0001 になる\n",
        "    status |= MASK_ATTACK;\n",
        "    cout << \"attacked: \" << bitset<4>(status) << endl;\n",
        "\n",
        "    // punched: 0101 になる, HPはすでに満タンでないので、BIT_FLAG_DAMAGE の部分は変化なし\n",
        "    status |= MASK_PUNCH;\n",
        "    cout << \"punched: \" << bitset<4>(status) << endl;\n",
        "\n",
        "    // 「毒」または「麻痺」かどうかを判定する\n",
        "    if (status & MASK_DOKU_MAHI) {\n",
        "        cout << \"You are doku or mahi.\" << endl;\n",
        "    }\n",
        "\n",
        "    // kaihuku: 0001 にする, HPは回復しない、麻痺は回復する\n",
        "    status &= ~MASK_DOKU_MAHI;\n",
        "    cout << \"kaihuku: \" << bitset<4>(status) << endl;\n",
        "\n",
        "    // defeat: 1001 にする, 戦闘不能にする\n",
        "    status |= MASK_DEFEAT;\n",
        "    cout << \"sentofuno: \" << bitset<4>(status) << endl;\n",
        "\n",
        "    // kaihuku: 1001 のまま、戦闘不能状態は回復しない\n",
        "    status &= ~MASK_DOKU_MAHI;\n",
        "    cout << \"sentofuno no mama: \" << bitset<4>(status) << endl;\n",
        "\n",
        "    return 0;\n",
        "}"
      ],
      "metadata": {
        "colab": {
          "base_uri": "https://localhost:8080/"
        },
        "id": "fa3VezTiLD-m",
        "outputId": "64357a21-d895-4a25-fba3-3394eefb22eb"
      },
      "execution_count": null,
      "outputs": [
        {
          "output_type": "stream",
          "name": "stdout",
          "text": [
            "Overwriting temp.cpp\n"
          ]
        }
      ]
    },
    {
      "cell_type": "code",
      "source": [
        "!g++ temp.cpp; ./a.out"
      ],
      "metadata": {
        "colab": {
          "base_uri": "https://localhost:8080/"
        },
        "id": "cUZkTAvDSkRa",
        "outputId": "ab66ec4b-36cf-4881-e3d6-67cc90871957"
      },
      "execution_count": null,
      "outputs": [
        {
          "output_type": "stream",
          "name": "stdout",
          "text": [
            "start: 0000\n",
            "attacked: 0001\n",
            "punched: 0101\n",
            "You are doku or mahi.\n",
            "kaihuku: 0001\n",
            "sentofuno: 1001\n",
            "sentofuno no mama: 1001\n"
          ]
        }
      ]
    },
    {
      "cell_type": "code",
      "source": [
        "# ちょっと実験\n",
        "%%writefile temp.cpp\n",
        "#include <bits/stdc++.h>\n",
        "using namespace std;\n",
        "int main(){\n",
        "    cout << bitset<4>(1 << 3) << endl;\n",
        "    bitset<4> x(\"0010\");\n",
        "    cout << x << endl;\n",
        "    cout << x.reset().set(3) << endl;\n",
        "    x ^= bitset<4>(\"1111\");\n",
        "    cout << x << endl;\n",
        "}"
      ],
      "metadata": {
        "id": "BWAJYpDkXfz0"
      },
      "execution_count": null,
      "outputs": []
    },
    {
      "cell_type": "code",
      "source": [
        "!g++ temp.cpp; ./a.out"
      ],
      "metadata": {
        "colab": {
          "base_uri": "https://localhost:8080/"
        },
        "id": "2kck9CdeXwSb",
        "outputId": "54bf024d-6ecc-4be9-906a-e590aab6f8b2"
      },
      "execution_count": null,
      "outputs": [
        {
          "output_type": "stream",
          "name": "stdout",
          "text": [
            "1000\n",
            "0010\n",
            "1000\n",
            "0111\n"
          ]
        }
      ]
    },
    {
      "cell_type": "code",
      "source": [
        "# bitset を使って書き直してみよう\n",
        "%%writefile temp.cpp\n",
        "#include <bits/stdc++.h>\n",
        "using namespace std;\n",
        "\n",
        "const bitset<4> BIT_FLAG_DAMAGE(\"0001\"); // HP が満タンでないか\n",
        "const bitset<4> BIT_FLAG_DOKU(\"0010\"); // 毒状態になっているか\n",
        "const bitset<4> BIT_FLAG_MAHI(\"0100\"); // 麻痺状態になっているか\n",
        "const bitset<4> BIT_FLAG_SENTOFUNO(\"1000\"); // 戦闘不能状態になっているか\n",
        "\n",
        "// atack して、単にダメージを受ける\n",
        "bitset<4> MASK_ATTACK = BIT_FLAG_DAMAGE;\n",
        "\n",
        "// punch して、ダメージも受けて、麻痺もする\n",
        "bitset<4> MASK_PUNCH = BIT_FLAG_DAMAGE | BIT_FLAG_MAHI;\n",
        "\n",
        "// defeat して、相手の HP を 0 にする\n",
        "bitset<4> MASK_DEFEAT = BIT_FLAG_DAMAGE | BIT_FLAG_SENTOFUNO;\n",
        "\n",
        "// 「毒」と「麻痺」を回復させる: ~MASK_DOKU_MAHI をかけることで回復\n",
        "bitset<4> MASK_DOKU_MAHI = BIT_FLAG_DOKU | BIT_FLAG_MAHI;\n",
        "\n",
        "int main() {\n",
        "    // start: 0000, 初期状態\n",
        "    bitset<4> status(\"0000\");\n",
        "    cout << \"start: \" << status << endl;\n",
        "\n",
        "    // attacked: 0001 になる\n",
        "    status |= MASK_ATTACK;\n",
        "    cout << \"attacked: \" << status << endl;\n",
        "\n",
        "    // punched: 0101 になる, HPはすでに満タンでないので、BIT_FLAG_DAMAGE の部分は変化なし\n",
        "    status |= MASK_PUNCH;\n",
        "    cout << \"punched: \" << status << endl;\n",
        "\n",
        "    // 「毒」または「麻痺」かどうかを判定する\n",
        "    if ((status & MASK_DOKU_MAHI).any()) {\n",
        "        cout << \"You are doku or mahi.\" << endl;\n",
        "    }\n",
        "\n",
        "    // kaihuku: 0001 にする, HPは回復しない、麻痺は回復する\n",
        "    status &= ~MASK_DOKU_MAHI;\n",
        "    cout << \"kaihuku: \" << status << endl;\n",
        "\n",
        "    // defeat: 1001 にする, 戦闘不能にする\n",
        "    status |= MASK_DEFEAT;\n",
        "    cout << \"sentofuno: \" << status << endl;\n",
        "\n",
        "    // kaihuku: 1001 のまま、戦闘不能状態は回復しない\n",
        "    status &= ~MASK_DOKU_MAHI;\n",
        "    cout << \"sentofuno no mama: \" << status << endl;\n",
        "}"
      ],
      "metadata": {
        "colab": {
          "base_uri": "https://localhost:8080/"
        },
        "id": "deAKc0ifTRdS",
        "outputId": "e71bfe09-6e9d-408c-f3f4-a27fbf4dd6c7"
      },
      "execution_count": null,
      "outputs": [
        {
          "output_type": "stream",
          "name": "stdout",
          "text": [
            "Overwriting temp.cpp\n"
          ]
        }
      ]
    },
    {
      "cell_type": "code",
      "source": [
        "!g++ temp.cpp; ./a.out"
      ],
      "metadata": {
        "colab": {
          "base_uri": "https://localhost:8080/"
        },
        "id": "5catUl6MTRVN",
        "outputId": "a1aaa761-0fd0-401f-cf4d-11f97781d3a8"
      },
      "execution_count": null,
      "outputs": [
        {
          "output_type": "stream",
          "name": "stdout",
          "text": [
            "start: 0000\n",
            "attacked: 0001\n",
            "punched: 0101\n",
            "You are doku or mahi.\n",
            "kaihuku: 0001\n",
            "sentofuno: 1001\n",
            "sentofuno no mama: 1001\n"
          ]
        }
      ]
    },
    {
      "cell_type": "code",
      "source": [
        "# メモ\n",
        "# any の使い方\n",
        "# // 「毒」または「麻痺」かどうかを判定する\n",
        "# if ((status & MASK_DOKU_MAHI).any()) {\n",
        "    # cout << \"You are doku or mahi.\" << endl;\n",
        "# }"
      ],
      "metadata": {
        "id": "EuykYcxsShqw"
      },
      "execution_count": null,
      "outputs": []
    },
    {
      "cell_type": "code",
      "source": [
        "# 5. ビット演算は集合演算\n",
        "# 数学の人向けです。ここからは内容が少しずつ難しくなっていきます。\n",
        "# ビット演算によるフラグ管理の表を集合の言葉で記述してみます:\n",
        "%%html\n",
        "<table border=\"1\">\n",
        "<thead>\n",
        "  <tr>\n",
        "    <th>やりたいこと</th>\n",
        "    <th>実装</th>\n",
        "    <th>集合で言うと</th>\n",
        "  </tr>\n",
        "</thead>\n",
        "<tbody>\n",
        "  <tr>\n",
        "    <td>ビット S に i 番目のフラグが立っているかどうか</td>\n",
        "    <td>if (S &amp; (1&lt;&lt;i))</td>\n",
        "    <td>i∈S かどうか</td>\n",
        "  </tr>\n",
        "  <tr>\n",
        "    <td>ビット S に i 番目のフラグが消えているかどうか</td>\n",
        "    <td>if (!(S &amp; (1&lt;&lt;i)))</td>\n",
        "    <td>i∉S かどうか</td>\n",
        "  </tr>\n",
        "  <tr>\n",
        "    <td>ビット S に i 番目のフラグを立てる</td>\n",
        "    <td>S｜= (1&lt;&lt;i)</td>\n",
        "    <td>S = S∪ {i}</td>\n",
        "  </tr>\n",
        "  <tr>\n",
        "    <td>ビット S に i 番目のフラグを消す</td>\n",
        "    <td>S &amp;= ~(1&lt;&lt;i)</td>\n",
        "    <td>S = S- {i}</td>\n",
        "  </tr>\n",
        "  <tr>\n",
        "    <td>ビット S に何個のフラグが立っているか</td>\n",
        "    <td>__builtin_popcount(S)</td>\n",
        "    <td>S の要素数</td>\n",
        "  </tr>\n",
        "  <tr>\n",
        "    <td>すべてのフラグが消えている状態</td>\n",
        "    <td>0</td>\n",
        "    <td>空集合 ∅</td>\n",
        "  </tr>\n",
        "  <tr>\n",
        "    <td>すべてのフラグが立っている状態</td>\n",
        "    <td>(1&lt;&lt;n) - 1</td>\n",
        "    <td>{0,1,…,n} - 1</td>\n",
        "  </tr>\n",
        "  <tr>\n",
        "    <td>ビット S に i 番目のフラグを立てたもの</td>\n",
        "    <td>S｜(1&lt;&lt;i)</td>\n",
        "    <td>S ∪ {i}</td>\n",
        "  </tr>\n",
        "  <tr>\n",
        "    <td>ビット S に i 番目のフラグを消したもの</td>\n",
        "    <td>S &amp; ~(1&lt;&lt;i)</td>\n",
        "    <td>S - {i}</td>\n",
        "  </tr>\n",
        "  <tr>\n",
        "    <td></td>\n",
        "    <td>S &amp; T</td>\n",
        "    <td>S∩T</td>\n",
        "  </tr>\n",
        "  <tr>\n",
        "    <td></td>\n",
        "    <td>S｜T</td>\n",
        "    <td>S∪T</td>\n",
        "  </tr>\n",
        "  <tr>\n",
        "    <td></td>\n",
        "    <td>if (S &amp; T)</td>\n",
        "    <td>S∩T≠∅ かどうか</td>\n",
        "  </tr>\n",
        "  <tr>\n",
        "    <td></td>\n",
        "    <td>if (!(S &amp; T))</td>\n",
        "    <td>S∩T=∅ かどうか</td>\n",
        "  </tr>\n",
        "</tbody>\n",
        "</table>"
      ],
      "metadata": {
        "id": "M3VFE3PQd_2u",
        "outputId": "e0254611-4b91-42d0-f92b-056fe793de09",
        "colab": {
          "base_uri": "https://localhost:8080/",
          "height": 342
        }
      },
      "execution_count": null,
      "outputs": [
        {
          "output_type": "display_data",
          "data": {
            "text/plain": [
              "<IPython.core.display.HTML object>"
            ],
            "text/html": [
              "<table border=\"1\">\n",
              "<thead>\n",
              "  <tr>\n",
              "    <th>やりたいこと</th>\n",
              "    <th>実装</th>\n",
              "    <th>集合で言うと</th>\n",
              "  </tr>\n",
              "</thead>\n",
              "<tbody>\n",
              "  <tr>\n",
              "    <td>ビット S に i 番目のフラグが立っているかどうか</td>\n",
              "    <td>if (S &amp; (1&lt;&lt;i))</td>\n",
              "    <td>i∈S かどうか</td>\n",
              "  </tr>\n",
              "  <tr>\n",
              "    <td>ビット S に i 番目のフラグが消えているかどうか</td>\n",
              "    <td>if (!(S &amp; (1&lt;&lt;i)))</td>\n",
              "    <td>i∉S かどうか</td>\n",
              "  </tr>\n",
              "  <tr>\n",
              "    <td>ビット S に i 番目のフラグを立てる</td>\n",
              "    <td>S｜= (1&lt;&lt;i)</td>\n",
              "    <td>S = S∪ {i}</td>\n",
              "  </tr>\n",
              "  <tr>\n",
              "    <td>ビット S に i 番目のフラグを消す</td>\n",
              "    <td>S &amp;= ~(1&lt;&lt;i)</td>\n",
              "    <td>S = SS- {i}</td>\n",
              "  </tr>\n",
              "  <tr>\n",
              "    <td>ビット S に何個のフラグが立っているか</td>\n",
              "    <td>__builtin_popcount(S)</td>\n",
              "    <td>S の要素数</td>\n",
              "  </tr>\n",
              "  <tr>\n",
              "    <td>すべてのフラグが消えている状態</td>\n",
              "    <td>0</td>\n",
              "    <td>空集合 ∅</td>\n",
              "  </tr>\n",
              "  <tr>\n",
              "    <td>すべてのフラグが立っている状態</td>\n",
              "    <td>(1&lt;&lt;n) - 1</td>\n",
              "    <td>{0,1,…,n} - 1</td>\n",
              "  </tr>\n",
              "  <tr>\n",
              "    <td>ビット S に i 番目のフラグを立てたもの</td>\n",
              "    <td>S｜(1&lt;&lt;i)</td>\n",
              "    <td>S ∪ {i}</td>\n",
              "  </tr>\n",
              "  <tr>\n",
              "    <td>ビット S に i 番目のフラグを消したもの</td>\n",
              "    <td>S &amp; ~(1&lt;&lt;i)</td>\n",
              "    <td>S - {i}</td>\n",
              "  </tr>\n",
              "  <tr>\n",
              "    <td></td>\n",
              "    <td>S &amp; T</td>\n",
              "    <td>S∩T</td>\n",
              "  </tr>\n",
              "  <tr>\n",
              "    <td></td>\n",
              "    <td>S｜T</td>\n",
              "    <td>S∪T</td>\n",
              "  </tr>\n",
              "  <tr>\n",
              "    <td></td>\n",
              "    <td>if (S &amp; T)</td>\n",
              "    <td>S∩T≠∅ かどうか</td>\n",
              "  </tr>\n",
              "  <tr>\n",
              "    <td></td>\n",
              "    <td>if (!(S &amp; T))</td>\n",
              "    <td>S∩T=∅ かどうか</td>\n",
              "  </tr>\n",
              "</tbody>\n",
              "</table>"
            ]
          },
          "metadata": {}
        }
      ]
    },
    {
      "cell_type": "code",
      "source": [
        "# bitset を使って bitset 関数を使った方が便利\n",
        "# set, reset, test, flip, all, any, count が使える"
      ],
      "metadata": {
        "id": "xoCRxbPZtoP-"
      },
      "execution_count": null,
      "outputs": []
    },
    {
      "cell_type": "code",
      "source": [
        "# bit 全探索\n",
        "# bit 全探索とは、n 個の要素からなる集合 {0,1,…,n−10,1,…,n−1} の部分集合をすべて調べ上げる手法のことです\n",
        "# 全探索アルゴリズムの一種であり、必ずしも効率が良いわけではなく、\n",
        "# また全探索アルゴリズムを bit 全探索アルゴリズムに書き直せるわけでもない\n",
        "%%writefile temp.cpp\n",
        "#include <bits/stdc++.h>\n",
        "using namespace std;\n",
        " \n",
        "int main() {\n",
        "    int n = 3;\n",
        "    // これと\n",
        "    for (int bit = 0; bit < (1<<n); ++bit){\n",
        "        cout << bit << endl;\n",
        "    }\n",
        "\n",
        "    // これが本質的には同じことをやっている => 全探索とは数え上げること\n",
        "    for (int tmp = 0; tmp < (1 << 3); tmp++) {\n",
        "        bitset<3> s(tmp);\n",
        "        cout << s << endl;\n",
        "    }\n",
        "}"
      ],
      "metadata": {
        "colab": {
          "base_uri": "https://localhost:8080/"
        },
        "id": "zeg9eW8qxf3X",
        "outputId": "0d93d4eb-e5a4-4180-cd7b-0fb1a21919f1"
      },
      "execution_count": 33,
      "outputs": [
        {
          "output_type": "stream",
          "name": "stdout",
          "text": [
            "Overwriting temp.cpp\n"
          ]
        }
      ]
    },
    {
      "cell_type": "code",
      "source": [
        "!g++ temp.cpp; ./a.out"
      ],
      "metadata": {
        "id": "koxJIhdIxums",
        "colab": {
          "base_uri": "https://localhost:8080/"
        },
        "outputId": "d0409053-e673-4217-9eb3-3a7c23268b64"
      },
      "execution_count": 34,
      "outputs": [
        {
          "output_type": "stream",
          "name": "stdout",
          "text": [
            "0\n",
            "1\n",
            "2\n",
            "3\n",
            "4\n",
            "5\n",
            "6\n",
            "7\n",
            "000\n",
            "001\n",
            "010\n",
            "011\n",
            "100\n",
            "101\n",
            "110\n",
            "111\n"
          ]
        }
      ]
    },
    {
      "cell_type": "code",
      "source": [
        "# 問題 bitset を数字で表せ\n",
        "%%writefile temp.cpp\n",
        "#include <bits/stdc++.h>\n",
        "using namespace std;\n",
        " \n",
        "int main() {\n",
        "    for (int tmp = 0; tmp < (1 << 3); tmp++) {\n",
        "        bitset<3> s(tmp);\n",
        "        cout << s.to_ullong();\n",
        "    }\n",
        "    cout  << endl;\n",
        "}"
      ],
      "metadata": {
        "id": "s7wMQy91y5RC",
        "colab": {
          "base_uri": "https://localhost:8080/"
        },
        "outputId": "cb2646ac-e6d9-4d0b-d5d6-c55fa1b4d2d7"
      },
      "execution_count": null,
      "outputs": [
        {
          "output_type": "stream",
          "name": "stdout",
          "text": [
            "Overwriting temp.cpp\n"
          ]
        }
      ]
    },
    {
      "cell_type": "code",
      "source": [
        "!g++ temp.cpp; ./a.out"
      ],
      "metadata": {
        "colab": {
          "base_uri": "https://localhost:8080/"
        },
        "id": "GQ30Tkz9zLM0",
        "outputId": "1856e43f-7d77-4e32-b8b7-4d5e031c95f7"
      },
      "execution_count": null,
      "outputs": [
        {
          "output_type": "stream",
          "name": "stdout",
          "text": [
            "01234567\n"
          ]
        }
      ]
    },
    {
      "cell_type": "code",
      "source": [
        "# 問題 bitset を数字で表せ その2\n",
        "%%writefile temp.cpp\n",
        "#include <bits/stdc++.h>\n",
        "using namespace std;\n",
        "\n",
        "vector<int> toNumVec(bitset<3> bs) {\n",
        "    vector<int> vec;\n",
        "    for (int i = 0; i < bs.size(); i++){\n",
        "        if(bs.test(i)) vec.push_back(i);\n",
        "    }\n",
        "    return vec;\n",
        "}\n",
        "\n",
        "void vecout(vector<int> vec){\n",
        "    cout << \"{\";\n",
        "    bool isFirst = true;\n",
        "    for (auto item : vec){\n",
        "        if(!isFirst) cout << \", \";\n",
        "        cout << item;\n",
        "        isFirst = false;\n",
        "    };\n",
        "    cout << \"}\" << endl;\n",
        "}\n",
        "\n",
        "int main() {\n",
        "    for (int tmp = 0; tmp < (1 << 3); tmp++) {\n",
        "        bitset<3> s(tmp);\n",
        "        vecout(toNumVec(s));\n",
        "    }\n",
        "}"
      ],
      "metadata": {
        "colab": {
          "base_uri": "https://localhost:8080/"
        },
        "id": "VGY4lRwezPIY",
        "outputId": "59264d5a-7091-4da4-b5c5-cf71abfb414e"
      },
      "execution_count": null,
      "outputs": [
        {
          "output_type": "stream",
          "name": "stdout",
          "text": [
            "Overwriting temp.cpp\n"
          ]
        }
      ]
    },
    {
      "cell_type": "code",
      "source": [
        "!g++ temp.cpp; ./a.out"
      ],
      "metadata": {
        "colab": {
          "base_uri": "https://localhost:8080/"
        },
        "id": "pkRu7yRK03Py",
        "outputId": "85ac0f53-1378-4ffe-8e79-6c5e87158ce3"
      },
      "execution_count": null,
      "outputs": [
        {
          "output_type": "stream",
          "name": "stdout",
          "text": [
            "{}\n",
            "{0}\n",
            "{1}\n",
            "{0, 1}\n",
            "{2}\n",
            "{0, 2}\n",
            "{1, 2}\n",
            "{0, 1, 2}\n"
          ]
        }
      ]
    },
    {
      "cell_type": "code",
      "source": [
        "# コーヒーフレーバーの全組み合わせ\n",
        "# 部分集合全探索\n",
        "%%writefile temp.cpp\n",
        "#include <bits/stdc++.h>\n",
        "using namespace std;\n",
        "\n",
        "vector<string> toStrVec(bitset<4> bs) {\n",
        "    vector<string> flavor ={\"ミルク\",\"砂糖\",\"シナモン\",\"ウィスキー\"};\n",
        "    vector<string> vec;\n",
        "    for (int i = 0; i < bs.size(); i++){\n",
        "        if(bs.test(i)) {\n",
        "            vec.push_back(flavor.at(i));\n",
        "        }\n",
        "    }\n",
        "    return vec;\n",
        "}\n",
        "\n",
        "string formatVecStr2Str(vector<string> vec){\n",
        "    string str = \"\";\n",
        "    str +=\"{\";\n",
        "    bool isFirst = true;\n",
        "    for (auto item : vec){\n",
        "        if(!isFirst) str += \", \";\n",
        "        str += item;\n",
        "        isFirst = false;\n",
        "    };\n",
        "    str += \"}\";\n",
        "    return str;\n",
        "}\n",
        "\n",
        "int main() {\n",
        "    const int n = 4;\n",
        "    for (int tmp = 0; tmp < (1 << n); tmp++) {\n",
        "        bitset<n> s(tmp);\n",
        "        cout << tmp << \": \" << formatVecStr2Str(toStrVec(s)) << endl;\n",
        "    }\n",
        "}"
      ],
      "metadata": {
        "id": "eZpQBeYKXWby",
        "outputId": "24f17e43-c3fe-4740-b5be-bcea9a7ff3d4",
        "colab": {
          "base_uri": "https://localhost:8080/"
        }
      },
      "execution_count": null,
      "outputs": [
        {
          "output_type": "stream",
          "name": "stdout",
          "text": [
            "Overwriting temp.cpp\n"
          ]
        }
      ]
    },
    {
      "cell_type": "code",
      "source": [
        "!g++ temp.cpp; ./a.out"
      ],
      "metadata": {
        "id": "2GBSCDgSYJQe",
        "outputId": "c5310f4e-1758-4061-efe0-cf0c5ae21a38",
        "colab": {
          "base_uri": "https://localhost:8080/"
        }
      },
      "execution_count": null,
      "outputs": [
        {
          "output_type": "stream",
          "name": "stdout",
          "text": [
            "0: {}\n",
            "1: {ミルク}\n",
            "2: {砂糖}\n",
            "3: {ミルク, 砂糖}\n",
            "4: {シナモン}\n",
            "5: {ミルク, シナモン}\n",
            "6: {砂糖, シナモン}\n",
            "7: {ミルク, 砂糖, シナモン}\n",
            "8: {ウィスキー}\n",
            "9: {ミルク, ウィスキー}\n",
            "10: {砂糖, ウィスキー}\n",
            "11: {ミルク, 砂糖, ウィスキー}\n",
            "12: {シナモン, ウィスキー}\n",
            "13: {ミルク, シナモン, ウィスキー}\n",
            "14: {砂糖, シナモン, ウィスキー}\n",
            "15: {ミルク, 砂糖, シナモン, ウィスキー}\n"
          ]
        }
      ]
    },
    {
      "cell_type": "code",
      "source": [
        "# 部分和問題\n",
        "# n 個の整数 a[0],a[1],…,a[n−1] が与えられる。\n",
        "# これらの整数から何個かの整数を選んで総和を K とすることができるかどうかを判定せよ。\n",
        "# 例 n=3 a=(7,2,9) K=11 => Yes\n",
        "# 例2 n=2 a=(5,7) K=11 => No\n",
        "%%writefile temp.cpp\n",
        "#include <bits/stdc++.h>\n",
        "using namespace std;\n",
        "\n",
        "int main() {\n",
        "    int n;\n",
        "    int a[25]; // 余裕をもってサイズ 25 に\n",
        "    int K;\n",
        "    cin >> n;\n",
        "    for (int i = 0; i < n; ++i) cin >> a[i];\n",
        "    cin >> K;\n",
        "    bool exist = false;\n",
        "    for (int bit = 0; bit < (1<<n); ++bit) {\n",
        "        int sum = 0; // 部分集合の和\n",
        "        for (int i = 0; i < n; ++i) {\n",
        "            if (bit & (1<<i)) { \n",
        "                sum += a[i];\n",
        "            }\n",
        "        }\n",
        "        if (sum == K) exist = true;\n",
        "    }\n",
        "    if (exist) cout << \"Yes\" << endl;\n",
        "    else cout << \"No\" << endl;\n",
        "}"
      ],
      "metadata": {
        "id": "73umDOlHfLrb",
        "outputId": "cdad3805-7200-4f94-ea67-3b686fc761c4",
        "colab": {
          "base_uri": "https://localhost:8080/"
        }
      },
      "execution_count": null,
      "outputs": [
        {
          "output_type": "stream",
          "name": "stdout",
          "text": [
            "Overwriting temp.cpp\n"
          ]
        }
      ]
    },
    {
      "cell_type": "code",
      "source": [
        "!g++ temp.cpp; echo 3 7 2 9 11 |./a.out #=> Yes\n",
        "!g++ temp.cpp; echo 2 5 7 11 |./a.out #=> No"
      ],
      "metadata": {
        "id": "D0uLaKSKj8vG",
        "outputId": "9713b64b-4d03-4f0d-d4ba-c24c32025a2b",
        "colab": {
          "base_uri": "https://localhost:8080/"
        }
      },
      "execution_count": null,
      "outputs": [
        {
          "output_type": "stream",
          "name": "stdout",
          "text": [
            "Yes\n",
            "No\n"
          ]
        }
      ]
    },
    {
      "cell_type": "code",
      "source": [
        "# bitset で書き直す\n",
        "# 理解のために少し単純化する\n",
        "%%writefile temp.cpp\n",
        "#include <bits/stdc++.h>\n",
        "using namespace std;\n",
        "\n",
        "int main() {\n",
        "    int n = 3; // 要素数 or bit 数\n",
        "    int K = 11;  // トータル\n",
        "    vector<int> a {7,2,9};\n",
        "    bool exist = false;\n",
        "\n",
        "    for (int tmp = 0; tmp < (1 << n); tmp++) {\n",
        "        bitset<3> s(tmp);\n",
        "        int sum = 0;\n",
        "        for (int i = 0; i < n; i++){\n",
        "            if (s.test(i)) sum += a.at(i); // {7,2,9} の全部分集合について和を取る\n",
        "        }\n",
        "        if (sum == K) exist = true;\n",
        "    }\n",
        "\n",
        "    if (exist) cout << \"Yes\" << endl;\n",
        "    else cout << \"No\" << endl;\n",
        "}"
      ],
      "metadata": {
        "id": "u74dYjB0lvRW",
        "outputId": "ab475825-21f4-48aa-c9f6-da3ae4f225d5",
        "colab": {
          "base_uri": "https://localhost:8080/"
        }
      },
      "execution_count": 37,
      "outputs": [
        {
          "output_type": "stream",
          "name": "stdout",
          "text": [
            "Overwriting temp.cpp\n"
          ]
        }
      ]
    },
    {
      "cell_type": "code",
      "source": [
        "!g++ temp.cpp; ./a.out #=> Yes"
      ],
      "metadata": {
        "id": "DxFpqNCjl2Gg",
        "outputId": "9a64ff75-4d5e-436e-c7df-92765575d0aa",
        "colab": {
          "base_uri": "https://localhost:8080/"
        }
      },
      "execution_count": 38,
      "outputs": [
        {
          "output_type": "stream",
          "name": "stdout",
          "text": [
            "Yes\n"
          ]
        }
      ]
    },
    {
      "cell_type": "markdown",
      "source": [
        "# いまここ\n"
      ],
      "metadata": {
        "id": "OHsm_k1MdqWM"
      }
    },
    {
      "cell_type": "code",
      "source": [
        "# さて、この解法では例えば n=100 となると計算時間的に破綻してしまいます。\n",
        "# for 文のループ回数が 2n 回あるのですが、\n",
        "# 2^100 = 1,267,650,600,228,229,401,496,703,205,376\n",
        "# であり、1秒間で処理できる回数は最大でも 1,000,000,0001,000,000,000 回程度なので到底無理です。\n",
        "\n",
        "# しかしなんと、この問題は n=100 程度でも解くことのできる解法があります！！！ \n",
        "# (しかしこれでもまだ効率よく解けると認められる解法ではないです)。\n",
        "# 興味のある方は擬多項式時間アルゴリズムについて調べるとともに、以下の記事を読んでいただけたらと思います:\n",
        "\n",
        "# 典型的な DP (動的計画法) のパターンを整理 Part1 ～ ナップサック DP 編 ～\n",
        "\n",
        "# 7. 与えられた部分集合の部分集合を列挙\n",
        "# bit 全探索は {0,1,…,n−1} の部分集合を列挙するアルゴリズムでした。\n",
        "# 今度は、例えば n=10 として、{2,3,5,72,3,5,7} のように必ずしも 0,1,…,9 の\n",
        "# すべてが揃っているわけではない集合が与えられて、その部分集合を列挙する方法を考えます。\n",
        "\n",
        "# これは次のように実現できます:\n",
        "\n",
        "# int main() {\n",
        "#     int n = 10;\n",
        "#     int A = (1<<2) | (1<<3) | (1<<5) | (1<<7); // {A = {2, 3, 5, 7}\n",
        "\n",
        "#     for(int bit = A; ; bit = (bit-1) & A) {\n",
        "#         /* ここに処理を書く */\n",
        "\n",
        "\n",
        "#         // 最後の 0 で break\n",
        "#         if (!bit) break;\n",
        "#     }\n",
        "# }"
      ],
      "metadata": {
        "id": "xV2m4l7Pj7Ja"
      },
      "execution_count": null,
      "outputs": []
    },
    {
      "cell_type": "code",
      "source": [
        "# 確かめてみましょう。\n",
        "# {2,3,5,7} の部分集合を列挙する\n",
        "%%writefile temp.cpp\n",
        "#include <bits/stdc++.h>\n",
        "using namespace std;\n",
        "\n",
        "int main() {\n",
        "    int n = 10;\n",
        "    int A = (1<<2) | (1<<3) | (1<<5) | (1<<7); // {A = {2, 3, 5, 7}\n",
        "\n",
        "    for(int bit = A; ; bit = (bit-1) & A) {\n",
        "        /* ここに処理を書く */\n",
        "\n",
        "\n",
        "        /* きちんとできていることを確認してみる */\n",
        "        // bit の表す集合を求める\n",
        "        vector<int> S;\n",
        "        for (int i = 0; i < n; ++i) {\n",
        "            if (bit & (1<<i)) { // i が bit に入るかどうか\n",
        "                S.push_back(i);\n",
        "            }\n",
        "        }\n",
        "\n",
        "        // bit の表す集合の出力\n",
        "        cout << bit << \": {\";\n",
        "        for (int i = 0; i < (int)S.size(); ++i) {\n",
        "            cout << S[i] << \" \";\n",
        "        }\n",
        "        cout << \"}\" << endl;\n",
        "\n",
        "        // 最後の 0 で break\n",
        "        if (!bit) break;\n",
        "    }\n",
        "}"
      ],
      "metadata": {
        "id": "M6JzIeUooi78",
        "outputId": "e5da6754-40c0-444e-eb53-993e99cdbba8",
        "colab": {
          "base_uri": "https://localhost:8080/"
        }
      },
      "execution_count": null,
      "outputs": [
        {
          "output_type": "stream",
          "name": "stdout",
          "text": [
            "Overwriting temp.cpp\n"
          ]
        }
      ]
    },
    {
      "cell_type": "code",
      "source": [
        "%%time\n",
        "!g++ temp.cpp; ./a.out"
      ],
      "metadata": {
        "id": "4ezuLVGLsVKr",
        "outputId": "f6e2462d-6f80-4735-eec8-7dea8e052245",
        "colab": {
          "base_uri": "https://localhost:8080/"
        }
      },
      "execution_count": null,
      "outputs": [
        {
          "output_type": "stream",
          "name": "stdout",
          "text": [
            "172: {2 3 5 7 }\n",
            "168: {3 5 7 }\n",
            "164: {2 5 7 }\n",
            "160: {5 7 }\n",
            "140: {2 3 7 }\n",
            "136: {3 7 }\n",
            "132: {2 7 }\n",
            "128: {7 }\n",
            "44: {2 3 5 }\n",
            "40: {3 5 }\n",
            "36: {2 5 }\n",
            "32: {5 }\n",
            "12: {2 3 }\n",
            "8: {3 }\n",
            "4: {2 }\n",
            "0: {}\n",
            "CPU times: user 22.9 ms, sys: 15.3 ms, total: 38.1 ms\n",
            "Wall time: 1.53 s\n"
          ]
        }
      ]
    },
    {
      "cell_type": "code",
      "source": [
        "# 実験 理解用\n",
        "%%writefile temp.cpp\n",
        "#include <bits/stdc++.h>\n",
        "using namespace std;\n",
        " \n",
        "int main() {\n",
        "    const int n = 10;\n",
        "    int A = (1<<2) | (1<<3) | (1<<5) | (1<<7); // {A = {2, 3, 5, 7}\n",
        "    bitset<n> s(A);\n",
        "    cout << A << endl;\n",
        "    cout << s << endl; //=> 0010101100 : 4+8+32+128 => 172\n",
        "    cout << endl;\n",
        "    int count = 0;\n",
        "    for(int bit = A; ; bit = (bit-1) & A) { // の意味は 2項目を省略すると while true と同じになる\n",
        "        cout << (bitset<10>)bit << endl ;\n",
        "        count++;\n",
        "        if (count == 4) break;\n",
        "    }\n",
        "}"
      ],
      "metadata": {
        "colab": {
          "base_uri": "https://localhost:8080/"
        },
        "id": "jwurXuJQvftU",
        "outputId": "97298c16-c0a1-49dd-85c9-f81e871fd989"
      },
      "execution_count": null,
      "outputs": [
        {
          "output_type": "stream",
          "name": "stdout",
          "text": [
            "Overwriting temp.cpp\n"
          ]
        }
      ]
    },
    {
      "cell_type": "code",
      "source": [
        "!g++ temp.cpp; ./a.out"
      ],
      "metadata": {
        "colab": {
          "base_uri": "https://localhost:8080/"
        },
        "id": "-SikOPOFvse3",
        "outputId": "db3f3ba7-4c43-4d0f-f14b-216543f0a173"
      },
      "execution_count": null,
      "outputs": [
        {
          "output_type": "stream",
          "name": "stdout",
          "text": [
            "172\n",
            "0010101100\n",
            "\n",
            "0010101100\n",
            "0010101000\n",
            "0010100100\n",
            "0010100000\n"
          ]
        }
      ]
    },
    {
      "cell_type": "code",
      "source": [
        "# bitset で書き直す\n",
        "# {2,3,5,7} の部分集合を列挙する\n",
        "# 4桁の全探索にする \n",
        "%%writefile temp.cpp\n",
        "#include <bits/stdc++.h>\n",
        "using namespace std;\n",
        "\n",
        "vector<int> toIntVec(bitset<4> bs) {\n",
        "    vector<int> s = {2,3,5,7};\n",
        "    vector<int> vec;\n",
        "    for (int i = 0; i < bs.size(); i++){\n",
        "        if(bs.test(i)) {\n",
        "            vec.push_back(s.at(i));\n",
        "        }\n",
        "    }\n",
        "    return vec;\n",
        "}\n",
        "\n",
        "string formatVecInt2Str(vector<int> vec){\n",
        "    string str = \"\";\n",
        "    str +=\"{\";\n",
        "    bool isFirst = true;\n",
        "    for (auto item : vec){\n",
        "        if(!isFirst) str += \", \";\n",
        "        str += to_string(item);\n",
        "        isFirst = false;\n",
        "    };\n",
        "    str += \"}\";\n",
        "    return str;\n",
        "}\n",
        "\n",
        "int toNum(bitset<4> bs){\n",
        "    vector<int> s = {2,3,5,7};\n",
        "    int num = 0;\n",
        "    for (int i = 0; i < bs.size(); i++){\n",
        "        if(bs.test(i)) {\n",
        "            num+=pow(2, s.at(i));\n",
        "        }\n",
        "    }\n",
        "    return num;\n",
        "}\n",
        "\n",
        "int main() {\n",
        "    const int n = 4;\n",
        "    // for (int tmp = 0; tmp < (1 << n); tmp++) {\n",
        "    for (int tmp = (1 << n)-1; tmp >= 0; tmp--) {\n",
        "        bitset<n> s(tmp);\n",
        "        cout << toNum(s) << \": \" << formatVecInt2Str(toIntVec(s)) << endl;\n",
        "    }\n",
        "}"
      ],
      "metadata": {
        "id": "1hC8blSstBw9",
        "colab": {
          "base_uri": "https://localhost:8080/"
        },
        "outputId": "d4626feb-a999-4d43-c29b-c46ab8cfcd4e"
      },
      "execution_count": null,
      "outputs": [
        {
          "output_type": "stream",
          "name": "stdout",
          "text": [
            "Overwriting temp.cpp\n"
          ]
        }
      ]
    },
    {
      "cell_type": "code",
      "source": [
        "%%time \n",
        "!g++ temp.cpp; ./a.out"
      ],
      "metadata": {
        "id": "cFFE5-OWtEHN",
        "colab": {
          "base_uri": "https://localhost:8080/"
        },
        "outputId": "c5696dc7-7c3e-4616-a5e0-c209bafba718"
      },
      "execution_count": null,
      "outputs": [
        {
          "output_type": "stream",
          "name": "stdout",
          "text": [
            "172: {2, 3, 5, 7}\n",
            "168: {3, 5, 7}\n",
            "164: {2, 5, 7}\n",
            "160: {5, 7}\n",
            "140: {2, 3, 7}\n",
            "136: {3, 7}\n",
            "132: {2, 7}\n",
            "128: {7}\n",
            "44: {2, 3, 5}\n",
            "40: {3, 5}\n",
            "36: {2, 5}\n",
            "32: {5}\n",
            "12: {2, 3}\n",
            "8: {3}\n",
            "4: {2}\n",
            "0: {}\n",
            "CPU times: user 24.2 ms, sys: 13.1 ms, total: 37.3 ms\n",
            "Wall time: 1.53 s\n"
          ]
        }
      ]
    },
    {
      "cell_type": "code",
      "source": [
        "# 確かにできていますね。こんなものがどこで必要になるのかと疑問に思うかもしれませんが、\n",
        "# 例えば O(3n) な bit DP を実装するときにこのようなことをしたくなります。\n",
        "# \n",
        "# 8. next_combination\n",
        "# 今度は n 個の要素の集合 {0,1,…,n−1} の部分集合のうち、\n",
        "# 要素数が K のもののみを列挙する方法を考えます。これは以下のように実現できます \n",
        "# (ただし、以下のコードは K=0 のときには動作しないので、その場合は例外処理する必要があります):\n",
        "\n",
        "%%writefile temp.cpp\n",
        "#include <bits/stdc++.h>\n",
        "using namespace std;\n",
        "\n",
        "/* next combination */\n",
        "int next_combination(int sub) {\n",
        "    int x = sub & -sub, y = sub + x;\n",
        "    return (((sub & ~y) / x) >> 1) | y;\n",
        "}\n",
        "\n",
        "int main() {\n",
        "    int n = 5;  // {0, 1, 2, 3, 4} の部分集合を考える\n",
        "    int k = 3;\n",
        "\n",
        "    int bit = (1<<k)-1;  // bit = {0, 1, 2}\n",
        "    for (;bit < (1<<n); bit = next_combination(bit)) {\n",
        "        /* ここに処理を書く */\n",
        "\n",
        "\n",
        "        /* きちんとできていることを確認してみる */\n",
        "        // bit の表す集合を求める\n",
        "        vector<int> S;\n",
        "        for (int i = 0; i < n; ++i) {\n",
        "            if (bit & (1<<i)) { // i が bit に入るかどうか\n",
        "                S.push_back(i);\n",
        "            }\n",
        "        }\n",
        "\n",
        "        // bit の表す集合の出力\n",
        "        cout << bit << \": {\";\n",
        "        for (int i = 0; i < (int)S.size(); ++i) {\n",
        "            cout << S[i] << \" \";\n",
        "        }\n",
        "        cout << \"}\" << endl;\n",
        "    }\n",
        "}"
      ],
      "metadata": {
        "id": "rUdcgUbZsT3L",
        "colab": {
          "base_uri": "https://localhost:8080/"
        },
        "outputId": "0eebd60e-4ecb-4030-d2e1-c909fd80bfff"
      },
      "execution_count": null,
      "outputs": [
        {
          "output_type": "stream",
          "name": "stdout",
          "text": [
            "Overwriting temp.cpp\n"
          ]
        }
      ]
    },
    {
      "cell_type": "code",
      "source": [
        "!g++ temp.cpp; ./a.out"
      ],
      "metadata": {
        "id": "5USkHyV0Ao8I",
        "outputId": "5992120a-bc72-429b-d74a-65c579c37aa8",
        "colab": {
          "base_uri": "https://localhost:8080/"
        }
      },
      "execution_count": null,
      "outputs": [
        {
          "output_type": "stream",
          "name": "stdout",
          "text": [
            "7: {0 1 2 }\n",
            "11: {0 1 3 }\n",
            "13: {0 2 3 }\n",
            "14: {1 2 3 }\n",
            "19: {0 1 4 }\n",
            "21: {0 2 4 }\n",
            "22: {1 2 4 }\n",
            "25: {0 3 4 }\n",
            "26: {1 3 4 }\n",
            "28: {2 3 4 }\n"
          ]
        }
      ]
    },
    {
      "cell_type": "code",
      "source": [
        "# bitset で書き直す\n",
        "# 要素数が K のもののみを列挙する\n",
        "%%writefile temp.cpp\n",
        "#include <bits/stdc++.h>\n",
        "using namespace std;\n",
        "\n",
        "vector<int> toIntVec(bitset<5> bs) {\n",
        "    vector<int> s =  {0, 1, 2, 3, 4};\n",
        "    vector<int> vec;\n",
        "    for (int i = 0; i < bs.size(); i++){\n",
        "        if(bs.test(i)) {\n",
        "            vec.push_back(s.at(i));\n",
        "        }\n",
        "    }\n",
        "    return vec;\n",
        "}\n",
        "\n",
        "string formatVecInt2Str(vector<int> vec){\n",
        "    string str = \"\";\n",
        "    str +=\"{\";\n",
        "    bool isFirst = true;\n",
        "    for (auto item : vec){\n",
        "        if(!isFirst) str += \", \";\n",
        "        str += to_string(item);\n",
        "        isFirst = false;\n",
        "    };\n",
        "    str += \"}\";\n",
        "    return str;\n",
        "}\n",
        "\n",
        "int toNum(bitset<5> bs){\n",
        "    vector<int> s =  {0, 1, 2, 3, 4};\n",
        "    int num = 0;\n",
        "    for (int i = 0; i < bs.size(); i++){\n",
        "        if(bs.test(i)) {\n",
        "            num+=pow(2, s.at(i));\n",
        "        }\n",
        "    }\n",
        "    return num;\n",
        "}\n",
        " \n",
        "int main() {\n",
        "    const int n = 5;  // {0, 1, 2, 3, 4} の部分集合を考える\n",
        "    int k = 3;\n",
        "\n",
        "    for (int tmp = 0; tmp < (1 << n); tmp++) {\n",
        "        bitset<n> s(tmp);\n",
        "        vector<int> vec;\n",
        "        vec = toIntVec(s);\n",
        "        if (vec.size() == k) {\n",
        "            cout << toNum(s) << \": \" << formatVecInt2Str(toIntVec(s)) << endl;\n",
        "        }\n",
        "    }\n",
        "}"
      ],
      "metadata": {
        "id": "pGsBz4QBBEGX",
        "outputId": "02872d35-c876-481e-c4aa-12aab35ed5a3",
        "colab": {
          "base_uri": "https://localhost:8080/"
        }
      },
      "execution_count": null,
      "outputs": [
        {
          "output_type": "stream",
          "name": "stdout",
          "text": [
            "Overwriting temp.cpp\n"
          ]
        }
      ]
    },
    {
      "cell_type": "code",
      "source": [
        "!g++ temp.cpp; ./a.out"
      ],
      "metadata": {
        "id": "6uhvPDLxBD9o",
        "outputId": "3a53cff3-4c27-43f8-886a-66e054857f97",
        "colab": {
          "base_uri": "https://localhost:8080/"
        }
      },
      "execution_count": null,
      "outputs": [
        {
          "output_type": "stream",
          "name": "stdout",
          "text": [
            "7: {0, 1, 2}\n",
            "11: {0, 1, 3}\n",
            "13: {0, 2, 3}\n",
            "14: {1, 2, 3}\n",
            "19: {0, 1, 4}\n",
            "21: {0, 2, 4}\n",
            "22: {1, 2, 4}\n",
            "25: {0, 3, 4}\n",
            "26: {1, 3, 4}\n",
            "28: {2, 3, 4}\n"
          ]
        }
      ]
    },
    {
      "cell_type": "code",
      "source": [
        "# 確かにできていますね！ここまで来ると大分マニアックですが、bit 演算は想像以上に色んなことができます。\n",
        "# これが使えそうな問題として以下があります (使わなくてもできます):\n",
        "\n",
        "# ABC 018 D バレンタインデー\n",
        "\n",
        "# 9. Xorshift\n",
        "# ビットを用いたシンプルな乱数生成方法です。乱数の質が高い割に超高速です！\n",
        "# C 言語の rand() よりずっと速いです。乱数の質も、メルセンヌツイスターには及ばないものの、\n",
        "# 2^128−1 の周期を持っていて値の偏りが小さく、実用上十分なことがほとんどです。\n",
        "# 高速な乱数生成を行いたい際には是非とも使用していきたいところです。\n",
        "\n",
        "# 参考: Xorshift の論文\n",
        "\n",
        "# George Marsaglia, 2003: Xorshift RNGs\n",
        "\n",
        "# 実装もとてつもなくシンプルです。以下に示すようにメイン部分はたった 4 行で書けます！\n",
        "\n",
        "%%writefile temp.cpp\n",
        "#include <bits/stdc++.h>\n",
        "using namespace std;\n",
        "\n",
        "unsigned int randInt() {\n",
        "    static unsigned int tx = 123456789, ty=362436069, tz=521288629, tw=88675123;\n",
        "    unsigned int tt = (tx^(tx<<11));\n",
        "    tx = ty; ty = tz; tz = tw;\n",
        "    return ( tw=(tw^(tw>>19))^(tt^(tt>>8)) );\n",
        "}\n",
        "\n",
        "int main() {\n",
        "    // サイコロを 100 回振ってみる\n",
        "    for (int i = 1; i <= 100; ++i) {\n",
        "        cout << randInt() % 6 + 1 << \", \";\n",
        "        if (i % 10 == 0) cout << endl; // 10 回ごとに改行\n",
        "    }\n",
        "    return 0;\n",
        "}"
      ],
      "metadata": {
        "id": "B6tRUhodAjYC",
        "outputId": "723b3ffc-17ec-4878-8f10-5c3cc974908e",
        "colab": {
          "base_uri": "https://localhost:8080/"
        }
      },
      "execution_count": null,
      "outputs": [
        {
          "output_type": "stream",
          "name": "stdout",
          "text": [
            "Overwriting temp.cpp\n"
          ]
        }
      ]
    },
    {
      "cell_type": "code",
      "source": [
        "!g++ temp.cpp; ./a.out"
      ],
      "metadata": {
        "id": "6k3ygAgRIDVP",
        "outputId": "42c88d8e-09a8-4da7-9416-45a077d6af40",
        "colab": {
          "base_uri": "https://localhost:8080/"
        }
      },
      "execution_count": null,
      "outputs": [
        {
          "output_type": "stream",
          "name": "stdout",
          "text": [
            "3, 1, 1, 3, 1, 5, 4, 3, 1, 2, \n",
            "3, 4, 5, 6, 5, 2, 5, 5, 5, 5, \n",
            "3, 1, 1, 5, 6, 4, 4, 5, 1, 2, \n",
            "2, 1, 5, 3, 4, 2, 3, 1, 4, 6, \n",
            "3, 5, 1, 2, 2, 1, 2, 3, 1, 6, \n",
            "1, 2, 6, 3, 1, 1, 4, 1, 5, 1, \n",
            "3, 6, 1, 5, 2, 1, 1, 3, 6, 1, \n",
            "5, 3, 4, 5, 1, 3, 5, 1, 5, 4, \n",
            "6, 1, 6, 5, 5, 6, 3, 4, 2, 3, \n",
            "2, 1, 3, 6, 1, 6, 1, 2, 1, 6, \n"
          ]
        }
      ]
    },
    {
      "cell_type": "code",
      "source": [
        "# get_rand と言うのがあるらしい\n",
        "%%writefile temp.cpp\n",
        "#include <bits/stdc++.h>\n",
        "using namespace std;\n",
        "int get_rand() {\n",
        "    return rand();\n",
        "};\n",
        "int main() {\n",
        "    srand(time(0));\n",
        "    for (int i = 1; i <= 100; ++i) {\n",
        "        cout << get_rand() % 6 + 1 << \", \";\n",
        "        if (i % 10 == 0) cout << endl; // 10 回ごとに改行\n",
        "    }\n",
        "}"
      ],
      "metadata": {
        "id": "jFM8nuoXQBua",
        "outputId": "fdede42f-da49-4138-f8eb-8c86f8057148",
        "colab": {
          "base_uri": "https://localhost:8080/"
        }
      },
      "execution_count": null,
      "outputs": [
        {
          "output_type": "stream",
          "name": "stdout",
          "text": [
            "Overwriting temp.cpp\n"
          ]
        }
      ]
    },
    {
      "cell_type": "code",
      "source": [
        "!g++ temp.cpp; ./a.out"
      ],
      "metadata": {
        "id": "0gjzEmqVQLTt"
      },
      "execution_count": null,
      "outputs": []
    },
    {
      "cell_type": "code",
      "source": [
        "# 100,000 回サイコロを振ってそれぞれの回数を数えてみます。\n",
        "\n",
        "%%writefile temp.cpp\n",
        "#include <bits/stdc++.h>\n",
        "using namespace std;\n",
        "\n",
        "unsigned int randInt() {\n",
        "    static unsigned int tx = 123456789, ty=362436069, tz=521288629, tw=88675123;\n",
        "    unsigned int tt = (tx^(tx<<11));\n",
        "    tx = ty; ty = tz; tz = tw;\n",
        "    return ( tw=(tw^(tw>>19))^(tt^(tt>>8)) );\n",
        "}\n",
        "\n",
        "int main() {\n",
        "    int count[6] = {0};\n",
        "\n",
        "    for (int i = 0; i < 100000; ++i) {\n",
        "        int rng = randInt() % 6;\n",
        "        count[rng]++;\n",
        "    }\n",
        "\n",
        "    for (int i = 0; i < 6; ++i) {\n",
        "        cout << i+1 << \": \" << count[i] << \" 回\" << endl;\n",
        "    }\n",
        "}"
      ],
      "metadata": {
        "id": "E7IbXw1ZH752",
        "outputId": "7dea6d35-e7f6-4253-a7e9-b56dea26c7da",
        "colab": {
          "base_uri": "https://localhost:8080/"
        }
      },
      "execution_count": null,
      "outputs": [
        {
          "output_type": "stream",
          "name": "stdout",
          "text": [
            "Writing temp.cpp\n"
          ]
        }
      ]
    },
    {
      "cell_type": "code",
      "source": [
        "!g++ temp.cpp; ./a.out"
      ],
      "metadata": {
        "id": "tEvnIQBj5V2c",
        "outputId": "e473c61c-ebef-4fd7-82e0-0ac222796aef",
        "colab": {
          "base_uri": "https://localhost:8080/"
        }
      },
      "execution_count": null,
      "outputs": [
        {
          "output_type": "stream",
          "name": "stdout",
          "text": [
            "1: 16602 回\n",
            "2: 16512 回\n",
            "3: 16556 回\n",
            "4: 16689 回\n",
            "5: 16939 回\n",
            "6: 16702 回\n"
          ]
        }
      ]
    },
    {
      "cell_type": "code",
      "source": [
        "# 同じことを get_rand と vector でやってみる\n",
        "%%writefile temp.cpp\n",
        "#include <bits/stdc++.h>\n",
        "using namespace std;\n",
        "\n",
        "int get_rand() {\n",
        "    return rand();\n",
        "};\n",
        "\n",
        "int main() {\n",
        "    vector<int> cnt(6);\n",
        "    srand(time(0));\n",
        "    for (int i = 1; i <= 100000; ++i) {\n",
        "        int rng = get_rand()%6;\n",
        "        cnt.at(rng)++;\n",
        "    };\n",
        "\n",
        "    for (int tmp=0;tmp < cnt.size(); ++tmp){\n",
        "        cout << tmp+1 << \": \" << cnt.at(tmp) << \" 回\" << endl;\n",
        "    }\n",
        "}"
      ],
      "metadata": {
        "id": "izmM9ctY5pw2",
        "outputId": "94c1a398-1053-430c-d2f3-bc6f12a693d8",
        "colab": {
          "base_uri": "https://localhost:8080/"
        }
      },
      "execution_count": null,
      "outputs": [
        {
          "output_type": "stream",
          "name": "stdout",
          "text": [
            "Overwriting temp.cpp\n"
          ]
        }
      ]
    },
    {
      "cell_type": "code",
      "source": [
        "!g++ temp.cpp; ./a.out"
      ],
      "metadata": {
        "id": "mvzM3fd552J2",
        "outputId": "7d90efbe-fa54-4498-8718-975375bd6075",
        "colab": {
          "base_uri": "https://localhost:8080/"
        }
      },
      "execution_count": null,
      "outputs": [
        {
          "output_type": "stream",
          "name": "stdout",
          "text": [
            "1: 16812 回\n",
            "2: 16512 回\n",
            "3: 16733 回\n",
            "4: 16741 回\n",
            "5: 16527 回\n",
            "6: 16675 回\n"
          ]
        }
      ]
    },
    {
      "cell_type": "code",
      "source": [
        "# かなり均等な結果となっていますね！\n",
        "\n",
        "# 10. Binary Indexed Tree (BIT)\n",
        "# ビットを鮮やかに使いこなすデータ構造 BIT です。名前が凄まじくまぎらわしい！！！！！\n",
        "# BIT は区間に対する処理を高速に実現できるようになるデータ構造です。\n",
        "# 以下のようなクエリが大量に飛んでくる状況を考えてみましょう (a や b や v の値はクエリ毎に変わる想定です):\n",
        "\n",
        "# 配列の a 番目から b 番目までに v を加算する\n",
        "# 配列の a 番目から b 番目までの総和を求める\n",
        "\n",
        "# 普通にやるとこれらはそれぞれ b - a + 1 箇所にアクセスすることになります。\n",
        "# もし配列が巨大な場合、このようなクエリが大量に飛んで来られると途方もない時間がかかることになります。\n",
        "# ビックデータという言葉が至るところに飛び交う昨今、このような大規模データを扱う大量のクエリを\n",
        "# 高速に実施していくタイプの要求はひたすらに高まっています。\n",
        "\n",
        "# そしてなんと、BIT を用いると、上のクエリをともに超高速に実現することができます！！！\n",
        "# 具体的には配列サイズを NN とすると、普通にやったら O(N)O(N) かかるクエリを、O(logN)O(log⁡N) \n",
        "# で実施することができます。ここでは詳しい解説は省略して、以下の資料を参照していただけたらと思います:\n",
        "\n",
        "# Binary Indexed Tree のはなし (非常によくまとまっています)\n",
        "\n",
        "# Peter M. Fenwick, 1994: A New Data Structure for Cumulative Frequency Tables (元論文です)\n",
        "\n",
        "# 11. bit DP\n",
        "# 最後にここまでに登場したビット演算技法を用いて bit DP な処理をサッと書いてみましょう。\n",
        "# bit DP は、n個の要素の順列 (n! 通りあります) としてありうるものの中から最適なものを\n",
        "# 求めたい場面でしばしば使えるテクニックです。bit DP は以下のような動的計画法フレームワークです:\n",
        "\n",
        "# dp[S] := 全体集合 {0,1,…,n−1} の部分集合 S について、\n",
        "\n",
        "# その中で順序を最適化したときの、S の中での最小コスト\n",
        "\n",
        "# bit DP フレームワークでは、以下のような漸化式が成立することが多いです:\n",
        "\n",
        "# dp[S] = min_{i∈S} (dp[S - {i}] + cost(S \\ {i}, i))\n",
        "\n",
        "# この式の意味を簡単に解説します。\n",
        "\n",
        "# S についてその中で順序を最適化したときのコスト dp[S] を計算したいのですが、\n",
        "# その順序の最後の要素がなんだったかで場合分けします:\n",
        "\n",
        "# S の最後が i だったとき、S の最後の i を除いた部分集合についての最適解は \n",
        "# dp[S - {i}] になります。S - {i} に i を加えて増えるコストを cost(S \\ {i}, i) とすると、\n",
        "# 結局最小コストは dp[S - {i}] + cost(S - {i}, i) になります。\n",
        "\n",
        "# あとは i を i∈S の範囲で全部試してあげて、総合的に一番コストが小さかったものを採用します。\n",
        "# 以上をまとめると bit DP フレームワークは以下のように表せます:\n",
        "\n",
        "# ＜bit DP 遷移式＞\n",
        "\n",
        "# dp[S] = min_{i∈S} (dp[S - {i}] + cost(S - {i}, i))\n",
        "\n",
        "# ＜初期値＞\n",
        "\n",
        "# dp[0] = 0 (何もない初期状態)\n",
        "\n",
        "# ＜最終的な最小コスト＞\n",
        "\n",
        "# dp[(1<<n) - 1]\n",
        "# 　\n",
        "\n",
        "# bit DP フレームワークを適用できる具体的な問題として、これまた組合せ最適化の分野では\n",
        "# 非常に有名な問題である巡回セールスマン問題を考えてみます。\n",
        "# この問題もまた、効率よく解けるアルゴリズムは存在しないと広く信じられている NP 困難問題であり、\n",
        "# 万が一効率よく解けるアルゴリズムを開発できたらノーベル賞級です。\n",
        "\n",
        "# 巡回セールスマン問題\n",
        "\n",
        "# n 個の都市を、好きな都市から出発してちょうど一度ずつすべての都市を訪れたい。\n",
        "# 一度訪れた都市にはもう一度行くことはできない。所要時間を最短になるようにせよ。\n",
        "# なお、街 i から街 j へと移動するのにかかる時間 dist[i][j] が与えられる。\n",
        "\n",
        "# 【制約】\n",
        "# ・1≤n≤20\n",
        "# ・0≤dist[i][j]≤1000\n",
        "# ・dist[i][i]=0\n",
        "# ・dist[i][j]=dist[j][i]\n",
        "\n",
        "# 【数値例】\n",
        "# 1)\n",
        "# 　n=3\n",
        "# 　dist=\n",
        "# 0 5 2\n",
        "# 5 0 4\n",
        "# 2 4 0\n",
        "# 　答え: 6 (0 -> 2 -> 1 の順にたどると 6 秒で行けます)\n",
        "\n",
        "# 2)\n",
        "# 　n=4\n",
        "# 　dist=\n",
        "# 0 8 7 3\n",
        "# 8 0 9 1\n",
        "# 7 9 0 4\n",
        "# 3 1 4 0\n",
        "# 　答え: 11 (1 -> 3 -> 0 -> 2 の順にたどると 11 秒で行けます)\n"
      ],
      "metadata": {
        "id": "Kfs8I8bz5MbO"
      },
      "execution_count": null,
      "outputs": []
    },
    {
      "cell_type": "code",
      "source": [
        "# まさに、n 個の都市を巡る順序 (n! 通りあります) を最適化する問題ですね。bit DP フレームワークに乗せて\n",
        "\n",
        "# dp[S] := 全体集合 {0,1,…,n−1} の部分集合 S について、その中で順序を最適化したときの、S の中での最小コスト\n",
        "# としたくなるのですが、今回は少しだけ工夫が必要です。bit DP の漸化式を見ると\n",
        "\n",
        "# dp[S] = min_{i∈S} (dp[S - {i}] + cost(S - {i}, i))\n",
        "\n",
        "# となっており、cost(S - {i}, i) を計算できる必要があります。しかしこれは、S - {i} のうち、\n",
        "# どの都市が最後だったかに依存 (最後の都市が u なら dist[u][i] です) してしまうため、\n",
        "# このままでは一つに決まりません。そこで次のように DP テーブルを修正します:\n",
        "\n",
        "# dp[S][v] := 全体集合 {0,1,…,n−1} の部分集合 S について、\n",
        "# 最後が v であるという制約の下で順序を最適化したときの、S の中での最小コスト\n",
        "# DP 漸化式の方も少々の修正で実現できます:\n",
        "\n",
        "# dp[S][v] = min_{u∈(S−{v})} (dp[S - {v}][u] + dist[u][v])\n",
        "\n",
        "# 今度は S の最後は v だとわかっているため、S - {v} の最後が何かで場合分けしています。\n",
        "# また初期値と最終的な値は次のようになります:\n",
        "\n",
        "# ＜初期値＞\n",
        "\n",
        "# dp[1<<v][v]=0 (v からスタート)\n",
        "\n",
        "# ＜最終的な最小コスト＞\n",
        "\n",
        "# min_v dp[(1<<n) - 1][v]\n",
        "\n",
        "# 以上を実装すると以下のようになります。今回はメモ化再帰の形式で実装してみます。\n",
        "\n",
        "%%writefile temp.cpp\n",
        "#include <bits/stdc++.h>\n",
        "using namespace std;\n",
        "\n",
        "const int INF = 100000000; // 十分大きな値\n",
        "\n",
        "/* 入力 */\n",
        "int N;\n",
        "int dist[21][21];\n",
        "\n",
        "/* メモ再帰 */\n",
        "int dp[(1<<20) + 1][21]; // dpテーブルは余裕をもったサイズにする\n",
        "int rec(int bit, int v)\n",
        "{\n",
        "    // すでに探索済みだったらリターン\n",
        "    if (dp[bit][v] != -1) return dp[bit][v];\n",
        "\n",
        "    // 初期値\n",
        "    if (bit == (1<<v)) {\n",
        "        return dp[bit][v] = 0;\n",
        "    }\n",
        "\n",
        "    // 答えを格納する変数\n",
        "    int res = INF;\n",
        "\n",
        "    // bit の v を除いたもの\n",
        "    int prev_bit = bit & ~(1<<v);\n",
        "\n",
        "    // v の手前のノードとして u を全探索\n",
        "    for (int u = 0; u < N; ++u) {\n",
        "        if (!(prev_bit & (1<<u))) continue; // u が prev_bit になかったらダメ\n",
        "\n",
        "        // 再帰的に探索\n",
        "        if (res > rec(prev_bit, u) + dist[u][v]) {\n",
        "            res = rec(prev_bit, u) + dist[u][v];\n",
        "        }\n",
        "    }\n",
        "\n",
        "    return dp[bit][v] = res; // メモしながらリターン\n",
        "}\n",
        "\n",
        "int main()\n",
        "{\n",
        "    // 入力\n",
        "    cin >> N;\n",
        "    for (int i = 0; i < N; ++i) {\n",
        "        for (int j = 0; j < N; ++j) {\n",
        "            cin >> dist[i][j];\n",
        "        }\n",
        "    }\n",
        "\n",
        "    // テーブルを全部 -1 にしておく (-1 でなかったところは探索済)\n",
        "    for (int bit = 0; bit < (1<<N); ++bit) for (int v = 0; v < N; ++v) dp[bit][v] = -1;\n",
        "\n",
        "    // 探索\n",
        "    int res = INF;\n",
        "    for (int v = 0; v < N; ++v) {\n",
        "        if (res > rec((1<<N)-1, v)) {\n",
        "            res = rec((1<<N)-1, v);\n",
        "        }\n",
        "    }\n",
        "    cout << res << endl;\n",
        "}"
      ],
      "metadata": {
        "id": "MY82EfkLdnmP",
        "outputId": "1ad2d56e-4cdc-4918-95bd-1bd277e25141",
        "colab": {
          "base_uri": "https://localhost:8080/"
        }
      },
      "execution_count": null,
      "outputs": [
        {
          "output_type": "stream",
          "name": "stdout",
          "text": [
            "Overwriting temp.cpp\n"
          ]
        }
      ]
    },
    {
      "cell_type": "code",
      "source": [
        "!g++ temp.cpp; echo 3 0 5 2 5 0 4 2 4 0 |./a.out #=> 6\n",
        "!g++ temp.cpp; echo 4 0 8 7 3 8 0 9 1 7 9 0 4 3 1 4 0 |./a.out #=> 11"
      ],
      "metadata": {
        "id": "L8-Ok9pff3VU",
        "outputId": "c484306c-61eb-450c-db8c-16d4f752e7b9",
        "colab": {
          "base_uri": "https://localhost:8080/"
        }
      },
      "execution_count": null,
      "outputs": [
        {
          "output_type": "stream",
          "name": "stdout",
          "text": [
            "6\n",
            "11\n"
          ]
        }
      ]
    },
    {
      "cell_type": "code",
      "source": [
        "# bit DP による計算時間の改善効果\n",
        "\n",
        "# bit DP は、n 個の要素の順列としてありうるものの中から最適なものを求めたい場面で使える\n",
        "# フレームワークでした。計算時間の改善は、O(n!)O から O(n2^n) になります\n",
        "#  (巡回セールスマン問題の場合は O(n^2 2^n))。\n",
        "\n",
        "# 計算時間を改善しても結局指数時間なので、あまり有効でない雰囲気も漂わせていますが、O(n!) な\n",
        "# 全探索だと n≤10 程度までしか実施できない探索が、n≤20 程度までできるようになります。\n",
        "%%html\n",
        "<table border=\"1\">\n",
        "<thead>\n",
        "<tr><th>計算量</th><th>n=1</th><th>n=5</th><th>n=10</th><th>n=15</th><th>n=20</th><th>n=25</th><th>n=30</th></tr>\n",
        "</thead>\n",
        "<tbody>\n",
        "<tr><td>O(n2)</td><td>1　 　</td><td>25</td><td>100</td><td>225</td><td>400</td><td>625</td><td>900</td></tr>\n",
        "<tr><td>O(n2n)</td><td>2 　　</td><td>160</td><td>10,240</td><td>491,520</td><td>20,971,520</td><td>838,860,800</td><td>32,212,254,720</td></tr>\n",
        "<tr><td>O(n!)</td><td>1 　　</td><td>120</td><td>3,628,800</td><td>1,307,674,368,000</td><td>-</td><td>-</td><td>-</td></tr>\n",
        "</tbody>\n",
        "</table>\n"
      ],
      "metadata": {
        "id": "UqAw0OtTfuLP",
        "outputId": "6c0f6f78-f525-4f87-ba46-c828435c6a42",
        "colab": {
          "base_uri": "https://localhost:8080/",
          "height": 113
        }
      },
      "execution_count": null,
      "outputs": [
        {
          "output_type": "display_data",
          "data": {
            "text/plain": [
              "<IPython.core.display.HTML object>"
            ],
            "text/html": [
              "<table border=\"1\">\n",
              "<thead>\n",
              "<tr><th>計算量</th><th>n=1</th><th>n=5</th><th>n=10</th><th>n=15</th><th>n=20</th><th>n=25</th><th>n=30</th></tr>\n",
              "</thead>\n",
              "<tbody>\n",
              "<tr><td>O(n2)</td><td>1　 　</td><td>25</td><td>100</td><td>225</td><td>400</td><td>625</td><td>900</td></tr>\n",
              "<tr><td>O(n2n)</td><td>2 　　</td><td>160</td><td>10,240</td><td>491,520</td><td>20,971,520</td><td>838,860,800</td><td>32,212,254,720</td></tr>\n",
              "<tr><td>O(n!)</td><td>1 　　</td><td>120</td><td>3,628,800</td><td>1,307,674,368,000</td><td>-</td><td>-</td><td>-</td></tr>\n",
              "</tbody>\n",
              "</table>"
            ]
          },
          "metadata": {}
        }
      ]
    },
    {
      "cell_type": "code",
      "source": [
        "この延命のような n の伸びがクリティカルに効いてくる場面も少なくありません。\n",
        "私自身も実務案件で bitDP が有効に利用できた場面が過去二度ほどありました。\n",
        "\n",
        "付録: next_combination の成立理由\n",
        "\n",
        "今まで出て来た例のうち、next_combination はなぜあのような実装で実現できるのかがあまり\n",
        "自明ではありません。詳しく知りたい方はプログラミングコンテストチャレンジブックの \n",
        "P.143〜145 のコラムを読んでいただければと思います。\n",
        "\n",
        "おおまかに以下のような性質を利用しています:\n",
        "\n",
        "bit の最も右の 1 のみを抽出する: nbit = bit & -bit　(BIT でもおなじみの処理です)\n",
        "bit の最も右の 1 を 0 にする: nbit = bit & (bit - 1)\n",
        "\n",
        "-1. おわりに\n",
        "ビットが活用できる場面について、典型的なものから高度なアルゴリズムまで幅広く特集してみました。\n",
        "本特集がどこかでなんらかの課題の解決に寄与できたならば、とても嬉しく思います。\n",
        "\n",
        "drken\n",
        "けんちょん (Otsuki)\n"
      ],
      "metadata": {
        "id": "p67xuGy7hEKt"
      },
      "execution_count": null,
      "outputs": []
    },
    {
      "cell_type": "markdown",
      "source": [
        "# いまここ"
      ],
      "metadata": {
        "id": "mfMdeygyM-iv"
      }
    }
  ]
}