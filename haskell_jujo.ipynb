{
  "nbformat": 4,
  "nbformat_minor": 0,
  "metadata": {
    "colab": {
      "name": "haskell_jujo.ipynb",
      "provenance": [],
      "authorship_tag": "ABX9TyPz80oghKbyvZgYPJUeCgNd",
      "include_colab_link": true
    },
    "kernelspec": {
      "name": "python3",
      "display_name": "Python 3"
    }
  },
  "cells": [
    {
      "cell_type": "markdown",
      "metadata": {
        "id": "view-in-github",
        "colab_type": "text"
      },
      "source": [
        "<a href=\"https://colab.research.google.com/github/kalz2q/mycolabnotebooks/blob/master/haskell_jujo.ipynb\" target=\"_parent\"><img src=\"https://colab.research.google.com/assets/colab-badge.svg\" alt=\"Open In Colab\"/></a>"
      ]
    },
    {
      "cell_type": "markdown",
      "metadata": {
        "id": "yTrlrZjmnvSq"
      },
      "source": [
        "# メモ\r\n",
        "\r\n",
        "Haskell 教養としての関数型プログラミング  \r\n",
        "重城良国 じゅうじょうよしくに  \r\n",
        "秀和システム\r\n"
      ]
    },
    {
      "cell_type": "code",
      "metadata": {
        "id": "maNXzP2ZnpNo"
      },
      "source": [
        "%%capture\r\n",
        "!apt install haskell-platform"
      ],
      "execution_count": null,
      "outputs": []
    },
    {
      "cell_type": "markdown",
      "metadata": {
        "id": "WRzJz0d2pHuo"
      },
      "source": [
        "# いまここ\r\n",
        "p.46"
      ]
    }
  ]
}