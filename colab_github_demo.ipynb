{
  "nbformat": 4,
  "nbformat_minor": 0,
  "metadata": {
    "colab": {
      "name": "colab_github_demo.ipynb",
      "provenance": [],
      "collapsed_sections": [],
      "toc_visible": true,
      "include_colab_link": true
    },
    "kernelspec": {
      "display_name": "Python 3",
      "name": "python3"
    }
  },
  "cells": [
    {
      "cell_type": "markdown",
      "metadata": {
        "id": "view-in-github",
        "colab_type": "text"
      },
      "source": [
        "<a href=\"https://colab.research.google.com/github/kalz2q/myjupyternotebooks/blob/master/colab_github_demo.ipynb\" target=\"_parent\"><img src=\"https://colab.research.google.com/assets/colab-badge.svg\" alt=\"Open In Colab\"/></a>"
      ]
    },
    {
      "cell_type": "markdown",
      "metadata": {
        "colab_type": "text",
        "id": "-pVhOfzLx9us"
      },
      "source": [
        "# ColabをGitHubで使う\n",
        "Colabではgithubからロードしたり、セーブしたりできます。"
      ]
    },
    {
      "cell_type": "markdown",
      "metadata": {
        "colab_type": "text",
        "id": "K-NVg7RjyeTk"
      },
      "source": [
        "## 公開されているノートブックを直接開く\n",
        "公開されているノートブックは承認ステップなしに開くことができます。\n",
        "\n",
        "たとえば、ノートブックのアドレスがgithub.com/なんちゃら.ipynbとすると、colabで開く時のリンクはcolab.research.google.com/なんちゃら.ipynbです。\n",
        "\n",
        "linkを自動化するには、Open in Colabというchrome拡張機能を使うか、ノートブック自体にOpen in Colabというボタンを貼り付けておけば便利です。\n"
      ]
    },
    {
      "cell_type": "markdown",
      "metadata": {
        "colab_type": "text",
        "id": "WzIRIt9d2huC"
      },
      "source": [
        "## GitHubレポジトリーをColabから検索する\n",
        "\n",
        "以下のURLで直接ColabからGitHubを検索することができます。  \n",
        "探すものが決まっている場合でないと、あまり役に立たないと思う。\n",
        "\n",
        "- http://colab.research.google.com/github \n",
        "- http://colab.research.google.com/github/googlecolab/\n",
        "- http://colab.research.google.com/github/googlecolab/colabtools/ \n",
        "- http://colab.research.google.com/github/googlecolab/colabtools/blob/master \n"
      ]
    },
    {
      "cell_type": "markdown",
      "metadata": {
        "colab_type": "text",
        "id": "Rmai0dD30XzL"
      },
      "source": [
        "## 非公開(private)のノートブックを開く\n",
        "非公開(private)のノートブックを開くこともできますが、次の手順が必要です:\n",
        "\n",
        "1. http://colab.research.google.com/github へ行く。\n",
        "2. \"Include Private Repos\" checkbox をクリックする。\n",
        "3. ポップアップウィンドウでGithubアカウントでサインインして、非公開ファイルを読む権限を得る。\n",
        "4. 非公開レポジトリーとノートブックがナビゲーションペインに現れて、読めるようになっている。"
      ]
    },
    {
      "cell_type": "markdown",
      "metadata": {
        "colab_type": "text",
        "id": "8J3NBxtZpPcK"
      },
      "source": [
        "## ノートブックをGitHubやドライブに保存する\n",
        "GitHubにホストされているノートブックをColabで開くと、開かれるのは新たに編集可能なノートブックです。変更しても元のファイルに上書きされません。\n",
        "\n",
        "Colabから変更を保存するには、ファイルメニューで\n",
        "If you would like to save your changes from within Colab, you can use the File menu to save the modified notebook either to Google Drive or back to GitHub. Choose\n",
        "- **File→Save a copy in Drive**   \n",
        "\n",
        "か\n",
        "- **File→Save a copy to GitHub**   \n",
        "\n",
        "を選択し、その後の指示に従ってください。 ColabノートブックをGitHubに保存するにはColabにcommitをpushする権限がひつ用です。"
      ]
    },
    {
      "cell_type": "markdown",
      "metadata": {
        "colab_type": "text",
        "id": "8QAWNjizy_3O"
      },
      "source": [
        "## Open In Colab バッジ\n",
        "GitHubにホストされているノートブックを開きやすくするために[shields.io](http://shields.io/)スタイルのバッジ(ボタン)を作りました。\n",
        "\n",
        "[![Open In Colab](https://colab.research.google.com/assets/colab-badge.svg)](https://colab.research.google.com/github/googlecolab/colabtools/blob/master/notebooks/colab-github-demo.ipynb)\n",
        "\n",
        "このバッジ(ボタン)のmarkdownは次のようなものです:\n",
        "\n",
        "```markdown\n",
        "[![Open In Colab](https://colab.research.google.com/assets/colab-badge.svg)](https://colab.research.google.com/github/googlecolab/colabtools/blob/master/notebooks/colab-github-demo.ipynb)\n",
        "```\n",
        "\n",
        "これをHTMLで書くと次のようになります:\n",
        "\n",
        "```HTML\n",
        "<a href=\"https://colab.research.google.com/github/googlecolab/colabtools/blob/master/notebooks/colab-github-demo.ipynb\">\n",
        "  <img src=\"https://colab.research.google.com/assets/colab-badge.svg\" alt=\"Open In Colab\"/>\n",
        "</a>\n",
        "```\n",
        "\n",
        "当然ですが、URLの部分は変わります。"
      ]
    }
  ]
}