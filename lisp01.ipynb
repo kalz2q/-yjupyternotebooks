{
  "nbformat": 4,
  "nbformat_minor": 0,
  "metadata": {
    "colab": {
      "name": "lisp01.ipynb",
      "provenance": [],
      "toc_visible": true,
      "authorship_tag": "ABX9TyM5akDHJ2c289c5Y6K7QaRL",
      "include_colab_link": true
    },
    "kernelspec": {
      "name": "python3",
      "display_name": "Python 3"
    }
  },
  "cells": [
    {
      "cell_type": "markdown",
      "metadata": {
        "id": "view-in-github",
        "colab_type": "text"
      },
      "source": [
        "<a href=\"https://colab.research.google.com/github/kalz2q/mycolabnotebooks/blob/master/lisp01.ipynb\" target=\"_parent\"><img src=\"https://colab.research.google.com/assets/colab-badge.svg\" alt=\"Open In Colab\"/></a>"
      ]
    },
    {
      "cell_type": "markdown",
      "metadata": {
        "id": "kHww7tr6pYro"
      },
      "source": [
        "# メモ\n",
        "\n",
        "Colab でLisp/Scheme を学んでみよう、というアイデア。\n",
        "\n",
        "テキスト:   \n",
        "Practical Common Lisp http://www.gigamonkeys.com/book/"
      ]
    },
    {
      "cell_type": "markdown",
      "metadata": {
        "id": "ukvf7ZxNps7o"
      },
      "source": [
        "# Lisp のインストール"
      ]
    },
    {
      "cell_type": "markdown",
      "metadata": {
        "id": "C6tYDKwL6TjH"
      },
      "source": [
        "Colab の環境でインストールして使える処理系として sbcl と clisp を確認した。\n",
        "\n",
        "ここでは sbcl にしようと思う。\n",
        "\n",
        "インストールしたものはは消えてしまうので、毎回インストールする。\n",
        "\n",
        "消えているかどうかは、`sbcl --version` で確認できるが、消えていなければインストールがすぐ終わるので、毎回インストールでかまわない。"
      ]
    },
    {
      "cell_type": "code",
      "metadata": {
        "id": "C6uHlvChpxGs"
      },
      "source": [
        "%%capture\n",
        "!apt install sbcl"
      ],
      "execution_count": 38,
      "outputs": []
    },
    {
      "cell_type": "markdown",
      "metadata": {
        "id": "4GArhfBVvdbl"
      },
      "source": [
        "%%capture はアウトプット、出力を抑制して、画面に出さなくするもの。"
      ]
    },
    {
      "cell_type": "code",
      "metadata": {
        "colab": {
          "base_uri": "https://localhost:8080/"
        },
        "id": "mwJgXRokm1Wd",
        "outputId": "c25b254e-f42e-488b-c28f-b3e0f9c40ef3"
      },
      "source": [
        "%%script sbcl\n",
        "(+ 2 3)\n",
        "'(hello)"
      ],
      "execution_count": 45,
      "outputs": [
        {
          "output_type": "stream",
          "text": [
            "This is SBCL 1.4.5.debian, an implementation of ANSI Common Lisp.\n",
            "More information about SBCL is available at <http://www.sbcl.org/>.\n",
            "\n",
            "SBCL is free software, provided as is, with absolutely no warranty.\n",
            "It is mostly in the public domain; some portions are provided under\n",
            "BSD-style licenses.  See the CREDITS and COPYING files in the\n",
            "distribution for more information.\n",
            "* \n",
            "5\n",
            "* \n",
            "(HELLO)\n",
            "* "
          ],
          "name": "stdout"
        }
      ]
    },
    {
      "cell_type": "markdown",
      "metadata": {
        "id": "0RI8GEZYsPpZ"
      },
      "source": [
        "うむむ、毎回 repl が立ち上がって終了するのはやっかいだが、とりあえず進もう。\n",
        "\n",
        "sbcl に --noinform というオプションをつけると起動時のメッセージが抑制されるので便利。 これでいいね。"
      ]
    },
    {
      "cell_type": "code",
      "metadata": {
        "colab": {
          "base_uri": "https://localhost:8080/"
        },
        "id": "wFK3swsXnBq-",
        "outputId": "3a1e2c14-b256-4166-e1c9-9abe650d575a"
      },
      "source": [
        "%%script sbcl\n",
        "(- 100 10 1)"
      ],
      "execution_count": 46,
      "outputs": [
        {
          "output_type": "stream",
          "text": [
            "This is SBCL 1.4.5.debian, an implementation of ANSI Common Lisp.\n",
            "More information about SBCL is available at <http://www.sbcl.org/>.\n",
            "\n",
            "SBCL is free software, provided as is, with absolutely no warranty.\n",
            "It is mostly in the public domain; some portions are provided under\n",
            "BSD-style licenses.  See the CREDITS and COPYING files in the\n",
            "distribution for more information.\n",
            "* \n",
            "89\n",
            "* "
          ],
          "name": "stdout"
        }
      ]
    },
    {
      "cell_type": "markdown",
      "metadata": {
        "id": "jZeyJ7OLVG-a"
      },
      "source": [
        "プログラムをファイルにして読み込んで実行する実験。"
      ]
    },
    {
      "cell_type": "code",
      "metadata": {
        "colab": {
          "base_uri": "https://localhost:8080/"
        },
        "id": "0egHkuX8shrv",
        "outputId": "de646dee-793c-47ad-a326-d1603c872194"
      },
      "source": [
        "%%writefile fact01.lisp\n",
        "(defun fact (n) (if (<= n 1) 1 (* n (fact (- n 1)))))"
      ],
      "execution_count": null,
      "outputs": [
        {
          "output_type": "stream",
          "text": [
            "Writing fact01.lisp\n"
          ],
          "name": "stdout"
        }
      ]
    },
    {
      "cell_type": "code",
      "metadata": {
        "colab": {
          "base_uri": "https://localhost:8080/"
        },
        "id": "uNC3CZjRs5Oo",
        "outputId": "9eb3e4be-fd2e-46fd-c668-e4783565f45b"
      },
      "source": [
        "%%script sbcl --noinform\n",
        "(load \"fact01\")\n",
        "(fact 10)"
      ],
      "execution_count": 42,
      "outputs": [
        {
          "output_type": "stream",
          "text": [
            "* \n",
            "T\n",
            "* \n",
            "3628800\n",
            "* "
          ],
          "name": "stdout"
        }
      ]
    },
    {
      "cell_type": "code",
      "metadata": {
        "colab": {
          "base_uri": "https://localhost:8080/"
        },
        "id": "J78qD7MBzrWg",
        "outputId": "26a60cc4-0fb4-4297-a41f-440689f4df46"
      },
      "source": [
        "%%script sbcl --noinform\n",
        "(+ 1 2 3 4 5)"
      ],
      "execution_count": 43,
      "outputs": [
        {
          "output_type": "stream",
          "text": [
            "* \n",
            "15\n",
            "* "
          ],
          "name": "stdout"
        }
      ]
    },
    {
      "cell_type": "code",
      "metadata": {
        "id": "ik0aNWwh26tu"
      },
      "source": [
        "%%script false\n",
        "(defun fact  # 関数定義 関数名\n",
        "    (n) # 引数名 型は宣言しない\n",
        "    (if # 条件分岐\n",
        "        (<= n 1) 1 # n が 1 以下ならば 1\n",
        "        (* n \n",
        "            (fact \n",
        "                (- n 1))))) # そうでなければ n と fact(n - 1) の再帰呼び出し"
      ],
      "execution_count": null,
      "outputs": []
    },
    {
      "cell_type": "markdown",
      "metadata": {
        "id": "H3nFxg8C3pet"
      },
      "source": [
        "S式とはシンボル式 = Symbolic Expression 、 アトムかリスト。\n",
        "\n",
        "Lisp ではデータもプログラムもS式。\n"
      ]
    },
    {
      "cell_type": "code",
      "metadata": {
        "id": "u6uboH4DzIKK",
        "colab": {
          "base_uri": "https://localhost:8080/"
        },
        "outputId": "1a9020fc-7da4-4335-87e7-01b3901a8879"
      },
      "source": [
        "%%script sbcl --noinform\n",
        "(/ 7 2)\n",
        "(/ 7.0 2.0)\n",
        "(/ 7 2.0)\n",
        "(mod 7 2)\n",
        "(mod -7 2)"
      ],
      "execution_count": 44,
      "outputs": [
        {
          "output_type": "stream",
          "text": [
            "* \n",
            "7/2\n",
            "* \n",
            "3.5\n",
            "* \n",
            "3.5\n",
            "* \n",
            "1\n",
            "* \n",
            "1\n",
            "* "
          ],
          "name": "stdout"
        }
      ]
    },
    {
      "cell_type": "markdown",
      "metadata": {
        "id": "wpms7DUXBiiy"
      },
      "source": [
        "# いまここ"
      ]
    }
  ]
}