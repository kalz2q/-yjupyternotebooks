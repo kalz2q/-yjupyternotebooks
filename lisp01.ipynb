{
  "nbformat": 4,
  "nbformat_minor": 0,
  "metadata": {
    "colab": {
      "name": "lisp01.ipynb",
      "provenance": [],
      "toc_visible": true,
      "authorship_tag": "ABX9TyMXrgoFjXNfvfSeZn4qrINF",
      "include_colab_link": true
    },
    "kernelspec": {
      "name": "python3",
      "display_name": "Python 3"
    }
  },
  "cells": [
    {
      "cell_type": "markdown",
      "metadata": {
        "id": "view-in-github",
        "colab_type": "text"
      },
      "source": [
        "<a href=\"https://colab.research.google.com/github/kalz2q/mycolabnotebooks/blob/master/lisp01.ipynb\" target=\"_parent\"><img src=\"https://colab.research.google.com/assets/colab-badge.svg\" alt=\"Open In Colab\"/></a>"
      ]
    },
    {
      "cell_type": "markdown",
      "metadata": {
        "id": "kHww7tr6pYro"
      },
      "source": [
        "# メモ\n",
        "\n",
        "Colab でLisp/Scheme を学んでみよう、というアイデア。\n"
      ]
    },
    {
      "cell_type": "markdown",
      "metadata": {
        "id": "ukvf7ZxNps7o"
      },
      "source": [
        "# clisp のインストール"
      ]
    },
    {
      "cell_type": "code",
      "metadata": {
        "id": "C6uHlvChpxGs"
      },
      "source": [
        "%%capture\n",
        "!apt install clisp"
      ],
      "execution_count": 16,
      "outputs": []
    },
    {
      "cell_type": "code",
      "metadata": {
        "colab": {
          "base_uri": "https://localhost:8080/"
        },
        "id": "mwJgXRokm1Wd",
        "outputId": "f5da29b0-d369-4062-8099-7ef39303a94d"
      },
      "source": [
        "%%script clisp\n",
        "(+ 2 3)\n",
        "'(hello)"
      ],
      "execution_count": 19,
      "outputs": [
        {
          "output_type": "stream",
          "text": [
            "        i\n",
            ". i i i I i i i i     ooooo    o        ooooooo   ooooo   ooooo\n",
            "I I I I I I I I I    8     8   8           8     8     o  8    8\n",
            "I I  \\ `+' /  I I    8         8           8     8        8    8\n",
            "I  \\  `-+-'  /  I    8         8           8      ooooo   8oooo\n",
            " \\  `-__|__-'  /     8         8           8           8  8\n",
            "  `--___|___--'      8     o   8           8     o     8  8\n",
            "        |             ooooo    8oooooo  ooo8ooo   ooooo   8\n",
            "--------+--------\n",
            "\n",
            "Welcome to GNU CLISP 2.49.60+ (2017-06-25) <http://clisp.org/>\n",
            "\n",
            "Copyright (c) Bruno Haible, Michael Stoll 1992, 1993\n",
            "Copyright (c) Bruno Haible, Marcus Daniels 1994-1997\n",
            "Copyright (c) Bruno Haible, Pierpaolo Bernardi, Sam Steingold 1998\n",
            "Copyright (c) Bruno Haible, Sam Steingold 1999-2000\n",
            "Copyright (c) Sam Steingold, Bruno Haible 2001-2010\n",
            "\n",
            "Type :h and hit Enter for context help.\n",
            "\n",
            "[1]> \n",
            "5\n",
            "[2]> \n",
            "(HELLO)\n",
            "Bye.\n"
          ],
          "name": "stdout"
        }
      ]
    },
    {
      "cell_type": "code",
      "metadata": {
        "colab": {
          "base_uri": "https://localhost:8080/"
        },
        "id": "wFK3swsXnBq-",
        "outputId": "4c418c1b-3040-48ee-c93d-9a079d1086b5"
      },
      "source": [
        "%%script clisp\n",
        "(- 100 10)"
      ],
      "execution_count": 20,
      "outputs": [
        {
          "output_type": "stream",
          "text": [
            "        i\n",
            ". i i i I i i i i     ooooo    o        ooooooo   ooooo   ooooo\n",
            "I I I I I I I I I    8     8   8           8     8     o  8    8\n",
            "I I  \\ `+' /  I I    8         8           8     8        8    8\n",
            "I  \\  `-+-'  /  I    8         8           8      ooooo   8oooo\n",
            " \\  `-__|__-'  /     8         8           8           8  8\n",
            "  `--___|___--'      8     o   8           8     o     8  8\n",
            "        |             ooooo    8oooooo  ooo8ooo   ooooo   8\n",
            "--------+--------\n",
            "\n",
            "Welcome to GNU CLISP 2.49.60+ (2017-06-25) <http://clisp.org/>\n",
            "\n",
            "Copyright (c) Bruno Haible, Michael Stoll 1992, 1993\n",
            "Copyright (c) Bruno Haible, Marcus Daniels 1994-1997\n",
            "Copyright (c) Bruno Haible, Pierpaolo Bernardi, Sam Steingold 1998\n",
            "Copyright (c) Bruno Haible, Sam Steingold 1999-2000\n",
            "Copyright (c) Sam Steingold, Bruno Haible 2001-2010\n",
            "\n",
            "Type :h and hit Enter for context help.\n",
            "\n",
            "[1]> \n",
            "90\n",
            "Bye.\n"
          ],
          "name": "stdout"
        }
      ]
    },
    {
      "cell_type": "code",
      "metadata": {
        "colab": {
          "base_uri": "https://localhost:8080/"
        },
        "id": "wrCe1jADr6sX",
        "outputId": "6370bb23-fbf5-4494-f89f-163579e03cae"
      },
      "source": [
        "%%script clisp\n",
        ":h"
      ],
      "execution_count": 21,
      "outputs": [
        {
          "output_type": "stream",
          "text": [
            "        i\n",
            ". i i i I i i i i     ooooo    o        ooooooo   ooooo   ooooo\n",
            "I I I I I I I I I    8     8   8           8     8     o  8    8\n",
            "I I  \\ `+' /  I I    8         8           8     8        8    8\n",
            "I  \\  `-+-'  /  I    8         8           8      ooooo   8oooo\n",
            " \\  `-__|__-'  /     8         8           8           8  8\n",
            "  `--___|___--'      8     o   8           8     o     8  8\n",
            "        |             ooooo    8oooooo  ooo8ooo   ooooo   8\n",
            "--------+--------\n",
            "\n",
            "Welcome to GNU CLISP 2.49.60+ (2017-06-25) <http://clisp.org/>\n",
            "\n",
            "Copyright (c) Bruno Haible, Michael Stoll 1992, 1993\n",
            "Copyright (c) Bruno Haible, Marcus Daniels 1994-1997\n",
            "Copyright (c) Bruno Haible, Pierpaolo Bernardi, Sam Steingold 1998\n",
            "Copyright (c) Bruno Haible, Sam Steingold 1999-2000\n",
            "Copyright (c) Sam Steingold, Bruno Haible 2001-2010\n",
            "\n",
            "Type :h and hit Enter for context help.\n",
            "\n",
            "[1]> You are in the top-level Read-Eval-Print loop.\n",
            "Help (abbreviated :h) = this list\n",
            "Use the usual editing capabilities.\n",
            "(quit) or (exit) leaves CLISP.\n",
            "Bye.\n"
          ],
          "name": "stdout"
        }
      ]
    },
    {
      "cell_type": "markdown",
      "metadata": {
        "id": "0RI8GEZYsPpZ"
      },
      "source": [
        "うむむ、毎回 repl が立ち上がって終了するのはやっかいだな。 ま、とりあえず進もう。"
      ]
    },
    {
      "cell_type": "code",
      "metadata": {
        "colab": {
          "base_uri": "https://localhost:8080/"
        },
        "id": "0egHkuX8shrv",
        "outputId": "5e542a20-0543-45d5-b157-86bfaf8a8a2f"
      },
      "source": [
        "%%writefile fact01.lisp\n",
        "(defun fact (n) (if (<= n 1) 1 (* n (fact (- n 1)))))"
      ],
      "execution_count": 29,
      "outputs": [
        {
          "output_type": "stream",
          "text": [
            "Overwriting fact01.lisp\n"
          ],
          "name": "stdout"
        }
      ]
    },
    {
      "cell_type": "code",
      "metadata": {
        "colab": {
          "base_uri": "https://localhost:8080/"
        },
        "id": "uNC3CZjRs5Oo",
        "outputId": "6024dfd3-0748-4d6c-f0fd-873810a76b2d"
      },
      "source": [
        "%%script clisp\n",
        "(load \"fact01\")\n",
        "(fact 10)"
      ],
      "execution_count": 30,
      "outputs": [
        {
          "output_type": "stream",
          "text": [
            "        i\n",
            ". i i i I i i i i     ooooo    o        ooooooo   ooooo   ooooo\n",
            "I I I I I I I I I    8     8   8           8     8     o  8    8\n",
            "I I  \\ `+' /  I I    8         8           8     8        8    8\n",
            "I  \\  `-+-'  /  I    8         8           8      ooooo   8oooo\n",
            " \\  `-__|__-'  /     8         8           8           8  8\n",
            "  `--___|___--'      8     o   8           8     o     8  8\n",
            "        |             ooooo    8oooooo  ooo8ooo   ooooo   8\n",
            "--------+--------\n",
            "\n",
            "Welcome to GNU CLISP 2.49.60+ (2017-06-25) <http://clisp.org/>\n",
            "\n",
            "Copyright (c) Bruno Haible, Michael Stoll 1992, 1993\n",
            "Copyright (c) Bruno Haible, Marcus Daniels 1994-1997\n",
            "Copyright (c) Bruno Haible, Pierpaolo Bernardi, Sam Steingold 1998\n",
            "Copyright (c) Bruno Haible, Sam Steingold 1999-2000\n",
            "Copyright (c) Sam Steingold, Bruno Haible 2001-2010\n",
            "\n",
            "Type :h and hit Enter for context help.\n",
            "\n",
            "[1]> \n",
            ";; Loading file /content/fact01.lisp ...\n",
            ";; Loaded file /content/fact01.lisp\n",
            "#P\"/content/fact01.lisp\"\n",
            "[2]> \n",
            "3628800\n",
            "Bye.\n"
          ],
          "name": "stdout"
        }
      ]
    }
  ]
}