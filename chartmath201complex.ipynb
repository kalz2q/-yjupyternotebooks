{
  "nbformat": 4,
  "nbformat_minor": 0,
  "metadata": {
    "colab": {
      "name": "chartmath201complex.ipynb",
      "provenance": [],
      "toc_visible": true,
      "authorship_tag": "ABX9TyP8F5sBmPh0lHMKcOg/vWH3",
      "include_colab_link": true
    },
    "kernelspec": {
      "name": "python3",
      "display_name": "Python 3"
    }
  },
  "cells": [
    {
      "cell_type": "markdown",
      "metadata": {
        "id": "view-in-github",
        "colab_type": "text"
      },
      "source": [
        "<a href=\"https://colab.research.google.com/github/kalz2q/mycolabnotebooks/blob/master/chartmath201complex.ipynb\" target=\"_parent\"><img src=\"https://colab.research.google.com/assets/colab-badge.svg\" alt=\"Open In Colab\"/></a>"
      ]
    },
    {
      "cell_type": "markdown",
      "metadata": {
        "id": "kYAohq8HEk2h"
      },
      "source": [
        "# メモ\n",
        "\n",
        "数学を Colab で学ぶ、というチャレンジ。\n",
        "\n",
        "\n",
        "\n"
      ]
    },
    {
      "cell_type": "markdown",
      "metadata": {
        "id": "Lp6YsK1tHRr4"
      },
      "source": [
        "# 複素数と方程式"
      ]
    },
    {
      "cell_type": "markdown",
      "metadata": {
        "id": "a6XEjJs3GAJA"
      },
      "source": [
        "2次方程式 $ax^2+bx+c=0$ の解については、数学Ⅰにおいて、2次関数 $y=ax^2+bx+c$ のグラフと $x$ 軸との共有点(交点・接点) の $x$ 座標として扱った。したがって、$b^2-4ac<0$ のとき (判別式が負のとき) は共有点がないことから、「解はない」とした。\n",
        "\n",
        "この章では、この場合も解があるように、新しい数 $i$ を考え、数の範囲を複素数 (実数・虚数) にまで広げる。そして、3次以上の方程式(高次方程式)についても考える。\n",
        "\n",
        "キーワード: 複素数、2次方程式の解、解と係数の関係、因数定理、高次方程式。"
      ]
    },
    {
      "cell_type": "markdown",
      "metadata": {
        "id": "vpZT4iaEq-q1"
      },
      "source": [
        "# 複素数"
      ]
    },
    {
      "cell_type": "markdown",
      "metadata": {
        "id": "wHAt56R4K3od"
      },
      "source": [
        "$a, b, c, d$ は実数、$\\alpha, \\beta$は複素数とする。\n",
        "\n",
        "1. 虚数単位 $i$ は $i^2= -1$ を満たす 1つの数。 $a > 0$ のとき、$\\sqrt{-a}=\\sqrt{a} i$ 特に $\\sqrt{-1} = i$.\n",
        "\n",
        "1. 複素数 $a+bi$ において、$a$ を実部、$b$ を虚部と言う。複素数のうち、$b=0$ のものを実数、$b \\neq 0$ のものを虚数、特に $a=0, b \\neq 0$ のものを純虚数と言う。\n"
      ]
    },
    {
      "cell_type": "markdown",
      "metadata": {
        "id": "68PWhvAPdsVy"
      },
      "source": [
        "**複素数の性質**\n",
        "\n",
        "1. 相等 $a+bi=c+di \\Longleftrightarrow a＝c，b＝d$ 特に  $a+bi=0 \\Longleftrightarrow a＝0，b＝0$\n",
        "1. 計算法則 文字 $i$ の式と考え、実数の場合と同じように計算し、$i^2$ は $-1$ で置き換える。\n",
        "1. 2つの複素数 $\\alpha, \\beta$ について、$\\alpha \\beta \\Longrightarrow \\alpha =0 または \\beta = 0$\n",
        "\n",
        "### 1.1.3 共役(きょうやく)な複素数\n",
        "\n",
        "複素数 $\\alpha = a+bi$ の共役な複素数を $\\overline \\alpha$ で表すと、 $\\overline \\alpha = a - bi$ 、また $\\overline{(\\overline \\alpha)} = \\alpha$\n",
        "\n",
        "1. $\\overline{\\alpha + \\beta} = \\overline \\alpha + \\overline \\beta ,\\quad \\overline{\\alpha - \\beta} = \\overline \\alpha - \\overline \\beta,\\quad \\overline{\\alpha  \\beta} = \\overline \\alpha  \\overline \\beta,\\quad \\overline{(\\frac{\\alpha}{\\beta})} = \\frac{\\overline \\alpha}{\\overline \\beta}$\n",
        "1. 共役な複素数の和・積はともに実数である。\n",
        "\n",
        "\n"
      ]
    },
    {
      "cell_type": "code",
      "metadata": {
        "id": "azyJ8AHqp2QL",
        "colab": {
          "base_uri": "https://localhost:8080/",
          "height": 77
        },
        "outputId": "425c67b1-c6ff-4f82-bcf1-7f8981ce0a5f"
      },
      "source": [
        "%%latex\n",
        "\\displaystyle\n",
        "\n",
        "a+bi=c+di \\Longleftrightarrow a＝c，b＝d\n",
        "\\\\\n",
        "\\overline{\\alpha + \\beta} = \\overline \\alpha + \\overline \\beta ,\\quad \\overline{\\alpha - \\beta} = \\overline \\alpha - \\overline \\beta,\\quad \\overline{\\alpha  \\beta} = \\overline \\alpha  \\overline \\beta,\\quad \\overline{(\\frac{\\alpha}{\\beta})} = \\frac{\\overline \\alpha}{\\overline \\beta}\n"
      ],
      "execution_count": null,
      "outputs": [
        {
          "output_type": "display_data",
          "data": {
            "text/latex": "\\displaystyle\n\na+bi=c+di \\Longleftrightarrow a＝c，b＝d\n\\\\\n\\overline{\\alpha + \\beta} = \\overline \\alpha + \\overline \\beta ,\\quad \\overline{\\alpha - \\beta} = \\overline \\alpha - \\overline \\beta,\\quad \\overline{\\alpha  \\beta} = \\overline \\alpha  \\overline \\beta,\\quad \\overline{(\\frac{\\alpha}{\\beta})} = \\frac{\\overline \\alpha}{\\overline \\beta}",
            "text/plain": [
              "<IPython.core.display.Latex object>"
            ]
          },
          "metadata": {
            "tags": []
          }
        }
      ]
    },
    {
      "cell_type": "markdown",
      "metadata": {
        "id": "PywnftPprC5q"
      },
      "source": [
        "## 1.2 2次方程式の解"
      ]
    },
    {
      "cell_type": "markdown",
      "metadata": {
        "id": "u8onSU7srJSS"
      },
      "source": [
        "### 1.2.4 2次方程式 $ax^2+bx+c=0$ の解法\n",
        "\n",
        "1. 因数分解 \n",
        "\n",
        "1. 解の公式\n",
        "\n"
      ]
    },
    {
      "cell_type": "markdown",
      "metadata": {
        "id": "Ge-gA3klsS-M"
      },
      "source": [
        "### 1.2.5 2次方程式の解の判別\n",
        "\n"
      ]
    }
  ]
}