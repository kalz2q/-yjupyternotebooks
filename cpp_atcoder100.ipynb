{
  "nbformat": 4,
  "nbformat_minor": 0,
  "metadata": {
    "colab": {
      "name": "cpp_atcoder100.ipynb",
      "provenance": [],
      "toc_visible": true,
      "authorship_tag": "ABX9TyMgPNkdeikCJcUJGMp2Clj6",
      "include_colab_link": true
    },
    "kernelspec": {
      "name": "python3",
      "display_name": "Python 3"
    },
    "language_info": {
      "name": "python"
    }
  },
  "cells": [
    {
      "cell_type": "markdown",
      "metadata": {
        "id": "view-in-github",
        "colab_type": "text"
      },
      "source": [
        "<a href=\"https://colab.research.google.com/github/kalz2q/mycolabnotebooks/blob/master/cpp_atcoder100.ipynb\" target=\"_parent\"><img src=\"https://colab.research.google.com/assets/colab-badge.svg\" alt=\"Open In Colab\"/></a>"
      ]
    },
    {
      "cell_type": "markdown",
      "source": [
        "# メモ\n",
        "\n",
        "厳選！C++ アルゴリズム実装に使える 25 の STL 機能【前編】\n",
        "\n",
        "厳選！C++ アルゴリズム実装に使える 25 の STL 機能【後編】\n",
        "\n",
        "たのしい探索アルゴリズムの世界【前編：全探索、bit全探索から半分全列挙まで】 \n",
        "\n",
        "たのしい探索アルゴリズムの世界【前編：全探索、bit全探索から半分全列挙まで】 の 3 章\n",
        "\n",
        "アルゴリズムを勉強するなら二分探索から始めよう！ 『なっとく！アルゴリズム』より\n",
        "\n",
        "二分探索アルゴリズムを一般化 〜 めぐる式二分探索法のススメ 〜\n",
        "\n",
        "二分法とは？ アルゴリズム・収束・例題\n",
        "\n",
        "DFS (深さ優先探索) 超入門！ 〜 グラフ・アルゴリズムの世界への入口 〜【前編】\n",
        "\n",
        "DFS (深さ優先探索) 超入門！ 〜 グラフ・アルゴリズムの世界への入口 〜【後編】\n",
        "\n",
        "BFS (幅優先探索) 超入門！ 〜 キューを鮮やかに使いこなす 〜\n",
        "\n",
        "典型的な DP (動的計画法) のパターンを整理 Part 1 ～ ナップサック DP 編 ～\n",
        "\n",
        "区間 DP を勉強してみた - Kutimoti の競プロメモ\n",
        "\n",
        "ビット演算 (bit 演算) の使い方を総特集！ 〜 マスクビットから bit DP まで 〜\n",
        "\n",
        "Educational DP Contest | AtCoder\n",
        "\n",
        "最短経路問題総特集！！！～BFSから拡張ダイクストラまで～ by @ageprocpp\n",
        "\n",
        "最短経路問題総特集！！！～BFSから拡張ダイクストラまで～\n",
        "\n",
        "最小全域木問題 (クラスカル法とプリム法)\n",
        "\n",
        "Kruskal法をココロから納得する | けんちょんの競プロ精進記録\n",
        "\n",
        "「1000000007 で割ったあまり」の求め方を総特集！ 〜 逆元から離散対数まで 〜\n",
        "\n",
        "累積和を何も考えずに書けるようにする！\n",
        "\n",
        "いもす法\n",
        "\n",
        "グラフ理論の基礎 by @maskot1977\n",
        "\n",
        "木構造｜木とは/木の表現/2分探索木\n",
        "\n",
        "Union-Find木の解説と例題 by @ofutonfuton\n",
        "\n",
        "分野別 初中級者が解くべき過去問精選 100 問\n",
        "\n",
        "AIZU ONLINE JUDGE - Introduction to Algorithms and Data Structure (ALDS)\n",
        "\n",
        "非情報系学生のための C/C++ 入門\n",
        "\n",
        "AIZU ONLINE JUDGE - Introduction To Programming I\n",
        "\n",
        "アルゴリズムとは何か！？ ～ 文系理系問わず楽しめる精選 6 問 ～ by @drken\n",
        "\n",
        "「AtCoder Beginners Selection」\n",
        "\n",
        "AtCoder に登録したら次にやること ～ これだけ解けば十分闘える！過去問精選 10 問 ～ by @drken\n",
        "\n",
        "計算量オーダーの求め方を総整理！ 〜 どこから log が出て来るか 〜\n",
        "\n",
        "ビット演算 (bit 演算) の使い方を総特集！ 〜 マスクビットから bit DP まで 〜\n",
        "\n",
        "レッドコーダーが教える、競プロ・AtCoder上達のガイドライン【初級編：競プロを始めよう】\n",
        "\n",
        "レッドコーダーが教える、競プロ・AtCoder上達のガイドライン【中級編：目指せ水色コーダー！】\n",
        "\n",
        "レッドコーダーが教える、競プロ・AtCoder上達のガイドライン【上級編：目指せレッドコーダー！】"
      ],
      "metadata": {
        "id": "qHX8nfTRmqJq"
      }
    },
    {
      "cell_type": "code",
      "source": [
        "# colab でプログラムを作って実行する => %%writefile temp.cpp => !g++ temp.cpp; echo |./a.out\n",
        "%%writefile temp.cpp\n",
        "# include <bits/stdc++.h>\n",
        "using namespace std;\n",
        "int main() {\n",
        "  cout << \"Hello World!\" << endl;\n",
        "}"
      ],
      "metadata": {
        "id": "JFJZUouD5YM5",
        "outputId": "52ec0dee-74bb-49fe-9b3e-d3acbfc62bb7",
        "colab": {
          "base_uri": "https://localhost:8080/"
        }
      },
      "execution_count": null,
      "outputs": [
        {
          "output_type": "stream",
          "name": "stdout",
          "text": [
            "Overwriting temp.cpp\n"
          ]
        }
      ]
    },
    {
      "cell_type": "code",
      "source": [
        "!g++ temp.cpp; echo |./a.out"
      ],
      "metadata": {
        "id": "0smnD4hN5vNd",
        "outputId": "2e21a9aa-244d-4b0c-d1b1-de6a1cc6f331",
        "colab": {
          "base_uri": "https://localhost:8080/"
        }
      },
      "execution_count": null,
      "outputs": [
        {
          "output_type": "stream",
          "name": "stdout",
          "text": [
            "Hello World!\n"
          ]
        }
      ]
    },
    {
      "cell_type": "code",
      "execution_count": null,
      "metadata": {
        "id": "GSdoW040mnR6",
        "outputId": "f581cabf-d95e-466b-e709-1d448c14330c",
        "colab": {
          "base_uri": "https://localhost:8080/",
          "height": 229
        }
      },
      "outputs": [
        {
          "output_type": "display_data",
          "data": {
            "text/plain": [
              "<IPython.core.display.HTML object>"
            ],
            "text/html": [
              "<style>\n",
              "    tr td:nth-child(2) {\n",
              "        color: red;\n",
              "        text-align: center;\n",
              "    }\n",
              "</style>\n",
              "<table border=\"1\">\n",
              "<thead>\n",
              "<tr><th>レーティング</th><th style=\"width:10%\" align=\"center\">色</th><th>相対的な位置</th><th>絶対的な位置</th></tr>\n",
              "</thead>\n",
              "<tbody>\n",
              "<tr><td>2800+</td><td>赤</td><td>上位 0.2%</td><td></td></tr>\n",
              "<tr><td>2400-2799</td><td>橙</td><td>上位 0.6%</td><td></td></tr>\n",
              "<tr><td>2000-2399</td><td>黄</td><td>上位 2%</td><td>アルゴリズムの研究職・研究開発で重宝されるレベル</td></tr>\n",
              "<tr><td>1600-1999</td><td>青</td><td>上位 5%</td><td>ほとんどのIT企業でアルゴリズム能力がカンストする</td></tr>\n",
              "<tr><td>1200-1599</td><td>水</td><td>上位 10%</td><td>半数以上のIT企業でアルゴリズム能力がカンストする</td></tr>\n",
              "<tr><td>800-1199</td><td>緑</td><td>上位 20%</td><td>エンジニアとしてかなり優秀</td></tr>\n",
              "<tr><td>400-799</td><td>茶</td><td>上位 35%</td><td>学生なら優秀</td></tr>\n",
              "<tr><td>1-399</td><td>灰</td><td>上位 100%</td><td>学生なら優秀</td></tr>\n",
              "</tbody>\n",
              "</table>"
            ]
          },
          "metadata": {}
        }
      ],
      "source": [
        "# AtCoder のレーティング\n",
        "%%html\n",
        "<style>\n",
        "    tr td:nth-child(2) {\n",
        "        color: red;\n",
        "        text-align: center;\n",
        "    }\n",
        "</style>\n",
        "<table border=\"1\">\n",
        "<thead>\n",
        "<tr><th>レーティング</th><th style=\"width:10%\" align=\"center\">色</th><th>相対的な位置</th><th>絶対的な位置</th></tr>\n",
        "</thead>\n",
        "<tbody>\n",
        "<tr><td>2800+</td><td>赤</td><td>上位 0.2%</td><td></td></tr>\n",
        "<tr><td>2400-2799</td><td>橙</td><td>上位 0.6%</td><td></td></tr>\n",
        "<tr><td>2000-2399</td><td>黄</td><td>上位 2%</td><td>アルゴリズムの研究職・研究開発で重宝されるレベル</td></tr>\n",
        "<tr><td>1600-1999</td><td>青</td><td>上位 5%</td><td>ほとんどのIT企業でアルゴリズム能力がカンストする</td></tr>\n",
        "<tr><td>1200-1599</td><td>水</td><td>上位 10%</td><td>半数以上のIT企業でアルゴリズム能力がカンストする</td></tr>\n",
        "<tr><td>800-1199</td><td>緑</td><td>上位 20%</td><td>エンジニアとしてかなり優秀</td></tr>\n",
        "<tr><td>400-799</td><td>茶</td><td>上位 35%</td><td>学生なら優秀</td></tr>\n",
        "<tr><td>1-399</td><td>灰</td><td>上位 100%</td><td>学生なら優秀</td></tr>\n",
        "</tbody>\n",
        "</table>"
      ]
    },
    {
      "cell_type": "code",
      "source": [
        "# AtCoder の過去問を解ける便利なサイト => AtCoder Problems\n",
        "# 競プロにおける C++ のすすめ\n",
        "# AtCoder ユーザーの半数以上が C++ を使っている\n",
        "# AtCoder 公式解説のソースコード、解説記事のソースコードの大半が C++ である。\n",
        "# プログラミングコンテストチャレンジブック（蟻本）、\n",
        "# プログラミングコンテスト攻略のためのアルゴリズムとデータ構造\n",
        "# 実行速度が他の言語に比べて高速であるため、競プロに有利である"
      ],
      "metadata": {
        "id": "zHsdRgYWmpmR"
      },
      "execution_count": null,
      "outputs": []
    },
    {
      "cell_type": "code",
      "source": [
        "# 問題\n",
        "# 整数 A と B が与えられます。\n",
        "# そのとき、縦 A センチ、横 B センチの長方形の周の長さを整数で出力してください。\n",
        "# 1≤ A, B ≤ 100\n",
        "# 例 4 5 => 18\n",
        "# 1 9 => 20\n",
        "# 6 7 => 26\n",
        "# 31 27 => 116\n",
        "# 100 100 => 400\n",
        "%%writefile temp.cpp\n",
        "#include <bits/stdc++.h>\n",
        "using namespace std;\n",
        "\n",
        "int main() {\n",
        "    int a, b; cin >> a >> b;\n",
        "    cout << (a + b) * 2 << endl;\n",
        "}"
      ],
      "metadata": {
        "colab": {
          "base_uri": "https://localhost:8080/"
        },
        "id": "-9AOHulZQ2Jb",
        "outputId": "6f8a67cc-6db7-4aea-f15f-cdcb0c265237"
      },
      "execution_count": null,
      "outputs": [
        {
          "output_type": "stream",
          "name": "stdout",
          "text": [
            "Writing temp.cpp\n"
          ]
        }
      ]
    },
    {
      "cell_type": "code",
      "source": [
        "!g++ temp.cpp; echo 4 5 |./a.out #=> 18\n",
        "!g++ temp.cpp; echo 1 9 |./a.out #=> 20\n",
        "!g++ temp.cpp; echo 6 7 |./a.out #=> 26\n",
        "!g++ temp.cpp; echo 31 27 |./a.out #=> 116\n",
        "!g++ temp.cpp; echo 100 100 |./a.out #=> 400"
      ],
      "metadata": {
        "colab": {
          "base_uri": "https://localhost:8080/"
        },
        "id": "hytwwWFfR0Mg",
        "outputId": "a2f6ad3d-ffaf-4b1c-dd8f-f101f0d64405"
      },
      "execution_count": null,
      "outputs": [
        {
          "output_type": "stream",
          "name": "stdout",
          "text": [
            "18\n",
            "20\n",
            "26\n",
            "116\n",
            "400\n"
          ]
        }
      ]
    },
    {
      "cell_type": "code",
      "source": [
        "# 全てに正解になる必要がある\n",
        "# 効率を考える必要がある"
      ],
      "metadata": {
        "id": "yvzdnj6iSa8g"
      },
      "execution_count": null,
      "outputs": []
    },
    {
      "cell_type": "code",
      "source": [
        "# 問題\n",
        "# N 枚のカードが一列に並べられています。\n",
        "# 左から i 番目のカードには、整数 A_i が書かれています。\n",
        "# あなたは N 枚のカードの中から 2 枚同時に選び、取ることができます。\n",
        "# 取った 2 枚に書かれた整数の合計がちょうど 101 となるような、カードの選び方の通り数を求めてください。\n",
        "# 1≤ N ≤ 10^6, 1≤ Ai ≤10^9\n",
        "# 一番最初に考えられる解法は、以下のように「何枚目と何枚目を選ぶか全探索する」\n",
        "# という方法だと思います。つまり、1 ≤ i < j ≤ N を満たすすべての (i,j) の組を全探索し、\n",
        "# A_i + A_ j=101 となる通り数を数え上げるという方法です。\n",
        "# しかし、その解法の場合、N^2 回程度のループを回す必要があります。 N ≤ 10^6 なので、\n",
        "# 最大 10^12 回程度のループを回す必要があります。しかし、競技プログラミングにおいて、\n",
        "# およそ 10^8 ～ 10^9 回を超える回数のループをした場合、実行時間超過 (TLE) となり、\n",
        "# 1 ケースでも TLE を起こすと不正解となってしまいます。\n",
        "\n",
        "# そのため、より効率的なアルゴリズムを実装することが求められます。\n",
        "# 例えば、本問題であれば、以下のような解法を使うと、\n",
        "# 高々 N 回程度のループでプログラムの実行が終わります。\n",
        "\n",
        "# Ai≥101 のカードはすべて無視する。\n",
        "# A_i = 1, A_i = 2, ..., A_i = 100 のカードの枚数を数える。\n",
        "# それぞれ c_1, c_2, ..., c_100 とする。\n",
        "# そのとき、\n",
        "# (c1×c100)+(c2×c99)+(c3×c98)+...+(c50×c51)\n",
        "# が答えである。\n",
        "\n",
        "# C++ での実装例 <= 分からないが動かすことは出来た。先へ進む。\n",
        "%%writefile temp.cpp\n",
        "#include <bits/stdc++.h>\n",
        "using namespace std;\n",
        "int main() {\n",
        "    int N; cin >> N;\n",
        "    vector<int> A(1000009);\n",
        "    vector<int> cnt(109);\n",
        "    for (int i = 0; i < N; i++) {\n",
        "        cin >> A.at(i);\n",
        "        if (A.at(i) <= 100) cnt.at(A.at(i))++;\n",
        "    }\n",
        "    int Answer = 0;\n",
        "    for (int i = 0; i < 50; i++) Answer += cnt.at(i) * cnt.at(101 - i);\n",
        "    cout << Answer << endl;\n",
        "}"
      ],
      "metadata": {
        "colab": {
          "base_uri": "https://localhost:8080/"
        },
        "id": "NVFR7V6JRzAf",
        "outputId": "8e52051b-5636-4ed9-df39-a4f67dc60cb2"
      },
      "execution_count": null,
      "outputs": [
        {
          "output_type": "stream",
          "name": "stdout",
          "text": [
            "Overwriting temp.cpp\n"
          ]
        }
      ]
    },
    {
      "cell_type": "code",
      "source": [
        "!g++ temp.cpp; echo 2 1 1 |./a.out #=> 0\n",
        "!g++ temp.cpp; echo 2 1 100 |./a.out #=> 1\n",
        "!g++ temp.cpp; echo 5 1 2 3 6 95 |./a.out #=> 1\n",
        "!g++ temp.cpp; echo 5 1 100 2 3 95 |./a.out #=> 1\n",
        "!g++ temp.cpp; echo 5 1 2 3 4 95 |./a.out #=> 0"
      ],
      "metadata": {
        "colab": {
          "base_uri": "https://localhost:8080/"
        },
        "id": "rJiHwZ6riuMG",
        "outputId": "8745eda6-4f96-49a1-9beb-24941766304b"
      },
      "execution_count": null,
      "outputs": [
        {
          "output_type": "stream",
          "name": "stdout",
          "text": [
            "0\n",
            "1\n",
            "1\n",
            "1\n",
            "0\n"
          ]
        }
      ]
    },
    {
      "cell_type": "code",
      "source": [
        "# 問題 AtCoder Beginner Contest 145 A - Circle\n",
        "# 整数 r が与えられます。\n",
        "# 半径 r の円の面積は半径 1 の円の面積の何倍か、整数で出力してください。\n",
        "# つまり r×r を出力してください。\n",
        "%%writefile temp.cpp\n",
        "#include <bits/stdc++.h>\n",
        "using namespace std;\n",
        "int main() {\n",
        "    int r; cin >> r;\n",
        "    cout << r * r << endl;\n",
        "}"
      ],
      "metadata": {
        "id": "Shz5YLcQVekF"
      },
      "execution_count": null,
      "outputs": []
    },
    {
      "cell_type": "code",
      "source": [
        "# 「どのようにしてコードを書けば良いか」分からない人も多いです。\n",
        "# そこで、一つの例として、C++ を学習できる便利なサイトを紹介します。\n",
        "# 非情報系学生のための C/C++ 入門\n",
        "%%html\n",
        "<style>\n",
        "    tr td:nth-child(1) {\n",
        "        color: red;\n",
        "        text-align: center;\n",
        "    }\n",
        "</style>\n",
        "<table border=\"1\">\n",
        "<thead>\n",
        "<tr><th>提出結果</th><th>意味</th></tr>\n",
        "</thead>\n",
        "<tbody>\n",
        "<tr><td>AC</td><td>正解です。やったね！</td></tr>\n",
        "<tr><td>WA</td><td>出力が間違っているようなテストケースがあります。</td></tr>\n",
        "<tr><td>TLE</td><td>実行時間制限以内にプログラムの実行が終わらなかったテストケースがあります。</td></tr>\n",
        "<tr><td>RE</td><td>プログラムがランタイムエラー（実行時エラー）を起こしたテストケースがあります。</td></tr>\n",
        "<tr><td>WJ</td><td>現在採点が行われております。しばらくお待ちください。</td></tr>\n",
        "</tbody>\n",
        "</table>"
      ],
      "metadata": {
        "colab": {
          "base_uri": "https://localhost:8080/",
          "height": 158
        },
        "id": "X2wkQ9EVtDGr",
        "outputId": "8f4c1ea5-3b65-4309-809f-31aab31a9d57"
      },
      "execution_count": null,
      "outputs": [
        {
          "output_type": "display_data",
          "data": {
            "text/plain": [
              "<IPython.core.display.HTML object>"
            ],
            "text/html": [
              "<style>\n",
              "    tr td:nth-child(1) {\n",
              "        color: red;\n",
              "        text-align: center;\n",
              "    }\n",
              "</style>\n",
              "<table border=\"1\">\n",
              "<thead>\n",
              "<tr><th>提出結果</th><th>意味</th></tr>\n",
              "</thead>\n",
              "<tbody>\n",
              "<tr><td>AC</td><td>正解です。やったね！</td></tr>\n",
              "<tr><td>WA</td><td>出力が間違っているようなテストケースがあります。</td></tr>\n",
              "<tr><td>TLE</td><td>実行時間制限以内にプログラムの実行が終わらなかったテストケースがあります。</td></tr>\n",
              "<tr><td>RE</td><td>プログラムがランタイムエラー（実行時エラー）を起こしたテストケースがあります。</td></tr>\n",
              "<tr><td>WJ</td><td>現在採点が行われております。しばらくお待ちください。</td></tr>\n",
              "</tbody>\n",
              "</table>"
            ]
          },
          "metadata": {}
        }
      ]
    },
    {
      "cell_type": "code",
      "source": [
        "# 全探索に慣れる！\n",
        "# 問題 くじびき\n",
        "# 数字が書かれている N 枚の紙切れが袋に入っています。あなたはこの袋から紙切れを取り出し、\n",
        "# 数字を見て袋に戻すということを 4 回行い、4 回の数字の和が M になっていれば、あなたの勝ちです。\n",
        "# 紙切れに書かれている数字が {K_1, K_2, ..., K_N} である場合、あなたが勝つような可能性はありますか。\n",
        "# 制約：N ≤ 50, M ≤ 10^8, Ki ≤10^8\n",
        "# これは、1 回目に K_a、2 回目に K_b、3 回目に K_c、4 回目に K_d を取り出すとして、\n",
        "# (a,b,c,d) のあり得る組を全通り調べる（四重ループをする）と解けます。N^4 回程度の計算が必要ですが、\n",
        "# N ≤ 50  なので、およそ 50^4 ≒ 6.25×10^6 回のループしか回す必要がなく、実行時間制限には余裕をもって間に合います。\n",
        "%%writefile temp.cpp\n",
        "#include <bits/stdc++.h>\n",
        "using namespace std;\n",
        "int main () {\n",
        "    int n, m; cin >> n >> m;\n",
        "    vector<int> vec(n);\n",
        "    for (int i=0; i < n ; i++) {\n",
        "        cin >> vec.at(i);\n",
        "    }\n",
        "    bool ans = false;\n",
        "    \n",
        "    for (int i=0; i < n ; i++) {\n",
        "        for (int j=0; j < n ; j++) {\n",
        "            for (int k=0; k < n ; k++){\n",
        "                for (int l=0; l < n ; l++){\n",
        "                    if (vec.at(i)+vec.at(j)+vec.at(k)+vec.at(l) == m) ans = true;\n",
        "                }\n",
        "            }\n",
        "        }\n",
        "    }\n",
        "    if (ans) cout << \"Yes\" << endl;\n",
        "    else cout << \"No\" << endl;\n",
        "}"
      ],
      "metadata": {
        "colab": {
          "base_uri": "https://localhost:8080/"
        },
        "id": "y9rBsbf5ttWZ",
        "outputId": "96a5d6db-18f0-4e8e-f0cb-589a24163e3e"
      },
      "execution_count": null,
      "outputs": [
        {
          "output_type": "stream",
          "name": "stdout",
          "text": [
            "Overwriting temp.cpp\n"
          ]
        }
      ]
    },
    {
      "cell_type": "code",
      "source": [
        "!g++ temp.cpp; echo 3 10 1 3 5 |./a.out #=> Yes 1 1 3 5\n",
        "!g++ temp.cpp; echo 3 9 1 3 5 |./a.out #=> No \n",
        "!g++ temp.cpp; echo 3 9 1 3 2 |./a.out #=> Yes 3 3 2 2"
      ],
      "metadata": {
        "id": "ZJt4fBzW5UBU",
        "outputId": "eb46c5f5-58de-4f65-f611-bbffd35e5ab0",
        "colab": {
          "base_uri": "https://localhost:8080/"
        }
      },
      "execution_count": null,
      "outputs": [
        {
          "output_type": "stream",
          "name": "stdout",
          "text": [
            "Yes\n",
            "No\n",
            "Yes\n"
          ]
        }
      ]
    },
    {
      "cell_type": "code",
      "source": [
        "# これを bitset にできないか => 重複を許すので bitset にはそぐわないのか\n",
        "%%writefile temp.cpp\n",
        "#include <bits/stdc++.h>\n",
        "using namespace std;\n",
        "int main () {\n",
        "    int n, m; cin >> n >> m;\n",
        "    vector<int> vec(n);\n",
        "    for (int i=0; i < n ; i++) {\n",
        "        cin >> vec.at(i);\n",
        "    }\n",
        "    bool ans = false;\n",
        "\n",
        "    for (int temp = 0; temp < (1 << n); temp++){ // このやり方だと同じカードを拾うのが出来ていない\n",
        "        bitset<50> bs(temp);\n",
        "        int sum = 0;\n",
        "        for (int i = 0; i < bs.size(); i++){\n",
        "            if (bs.test(i)) sum += vec.at(i);\n",
        "        }\n",
        "        if (sum == m) ans = true;\n",
        "        sum = 0;\n",
        "    }\n",
        "\n",
        "    if (ans) cout << \"Yes\" << endl;\n",
        "    else cout << \"No\" << endl;\n",
        "}"
      ],
      "metadata": {
        "id": "lWo-jO1t5ebs",
        "outputId": "4243487b-ea03-4d54-a217-c885a7610c14",
        "colab": {
          "base_uri": "https://localhost:8080/"
        }
      },
      "execution_count": null,
      "outputs": [
        {
          "output_type": "stream",
          "name": "stdout",
          "text": [
            "Overwriting temp.cpp\n"
          ]
        }
      ]
    },
    {
      "cell_type": "code",
      "source": [
        "!g++ temp.cpp; echo 3 10 1 3 5 |./a.out #=> Yes 1 1 3 5\n",
        "!g++ temp.cpp; echo 3 9 1 3 5 |./a.out #=> No \n",
        "!g++ temp.cpp; echo 3 9 1 3 2 |./a.out #=> Yes 3 3 2 2"
      ],
      "metadata": {
        "id": "sN53f9MH5eH4",
        "outputId": "c89cb3a4-49bc-48dd-c721-dc3ba925773f",
        "colab": {
          "base_uri": "https://localhost:8080/"
        }
      },
      "execution_count": null,
      "outputs": [
        {
          "output_type": "stream",
          "name": "stdout",
          "text": [
            "No\n",
            "Yes\n",
            "No\n"
          ]
        }
      ]
    },
    {
      "cell_type": "code",
      "source": [
        "# 実験 重複あり全探索 => ネットにあった例\n",
        "%%writefile temp.cpp\n",
        "#include <bits/stdc++.h>\n",
        "using namespace std;\n",
        "\n",
        "vector<int> buf;\n",
        "\n",
        "void dfs(int i, const int size, const int range_start, const int range_end)\n",
        "{\n",
        "    if (i == size) {\n",
        "        // ここで所望の作業を行う\n",
        "        for(int i = 0; i < buf.size(); ++i){\n",
        "            cout << buf[i] << \" \";\n",
        "        }\n",
        "        cout << endl;\n",
        "    }\n",
        "    else{\n",
        "        for(int j = range_start; j <= range_end; ++j){\n",
        "            buf[i] = j;\n",
        "            dfs(i + 1, size, range_start, range_end);\n",
        "        }\n",
        "    }\n",
        "}\n",
        "\n",
        "int main(void)\n",
        "{\n",
        "    int size = 3;\n",
        "    int range_start = 1;\n",
        "    int range_end = 5;\n",
        "    \n",
        "    buf.resize(size);\n",
        "    dfs(0, size, range_start, range_end);\n",
        "}"
      ],
      "metadata": {
        "id": "aH1iIKYXoISi",
        "colab": {
          "base_uri": "https://localhost:8080/"
        },
        "outputId": "98ca5ecc-a86f-4ac3-9dde-2e589976b01f"
      },
      "execution_count": null,
      "outputs": [
        {
          "output_type": "stream",
          "name": "stdout",
          "text": [
            "Writing temp.cpp\n"
          ]
        }
      ]
    },
    {
      "cell_type": "code",
      "source": [
        "!g++ temp.cpp; ./a.out"
      ],
      "metadata": {
        "id": "Bozo7GJy0qb-"
      },
      "execution_count": null,
      "outputs": []
    },
    {
      "cell_type": "code",
      "source": [
        "# 上のプログラムを理解のために書き直す\n",
        "# cout はせずに vector<int> を返す関数にしたい => とりあえず失敗!!!!\n",
        "# 先へ進む\n",
        "%%script false\n",
        "\n",
        "%%writefile temp.cpp\n",
        "#include <bits/stdc++.h>\n",
        "using namespace std;\n",
        "\n",
        "vector<vector<int>> dfs(int i, int j, const int row, const int column, const int range_start) {\n",
        "    vector<vector<int>> result_vec(row, vector<int>(column));\n",
        "    if ((i == row) && (j == column)) return result_vec;\n",
        "    else if (i == row) {\n",
        "        j++;\n",
        "        i = 0;\n",
        "    } else {\n",
        "        for(int k = range_start; k <= range_start + column; k++){\n",
        "            result_vec.at(i).at(j) = k;\n",
        "            result_vec += dfs(i + 1, j, row, column, range_start);\n",
        "        }\n",
        "    }\n",
        "}\n",
        "\n",
        "string formatVecInt(vector<int> vec){\n",
        "    string str = \"\";\n",
        "    str +=\"{\";\n",
        "    bool isFirst = true;\n",
        "    for (auto item : vec){\n",
        "        if(!isFirst) str += \", \";\n",
        "        str += to_string(item);\n",
        "        isFirst = false;\n",
        "    };\n",
        "    str += \"}\";\n",
        "    return str;\n",
        "}\n",
        "\n",
        "string formatVecStr(vector<string> vec){\n",
        "    if (vec.empty()) return \"\";\n",
        "    string str = \"\";\n",
        "    str +=\"{\";\n",
        "    bool isFirst = true;\n",
        "    for (auto item : vec){\n",
        "        if(!isFirst) str += \", \";\n",
        "        // str = str + '\"' + item + '\"';\n",
        "        str = str + item;\n",
        "        isFirst = false;\n",
        "    };\n",
        "    str += \"}\";\n",
        "    return str;\n",
        "}\n",
        "\n",
        "int main(void) {\n",
        "    int row = 2;\n",
        "    int column = 3;\n",
        "    int range_start = 1;\n",
        "\n",
        "\n",
        "    vector<vector<int>> vec(row, vector<int> (column));\n",
        "    vec = dfs(0, 0, row, column, range_start);\n",
        "\n",
        "    vector<string> vecstr(vec.size());\n",
        "    transform(vec.begin(), vec.end(), vecstr.begin(), formatVecInt);\n",
        "    cout << formatVecStr(vecstr) << endl;\n",
        "}"
      ],
      "metadata": {
        "id": "yeZH2gN03c8m",
        "colab": {
          "base_uri": "https://localhost:8080/"
        },
        "outputId": "9311e21e-0d46-43eb-a132-01b109b8a7e2"
      },
      "execution_count": null,
      "outputs": [
        {
          "output_type": "stream",
          "name": "stdout",
          "text": [
            "Overwriting temp.cpp\n"
          ]
        }
      ]
    },
    {
      "cell_type": "code",
      "source": [
        "!g++ -g temp.cpp; ./a.out"
      ],
      "metadata": {
        "id": "tHcSa5ARz4cA"
      },
      "execution_count": null,
      "outputs": []
    },
    {
      "cell_type": "code",
      "source": [
        "# 4 種類の全探索\n",
        "# 本当に全通り調べ上げる「全探索」大体の場合、多重ループで解けます。\n",
        "# 工夫して探索の通り数を減らす「全探索」\n",
        "# ビット全探索 多重ループではうまくいかない全探索の 1 つです。詳しくは、こちらの記事を参照してください。\n",
        "# 順列全探索 多重ループではうまくいかない全探索の 1 つです。詳しくは、こちらの記事を参照してください。\n",
        "\n",
        "# 全探索の問題\n",
        "# AtCoder Beginner Contest 144 B - 81 基礎の基礎です。\n",
        "# AtCoder Beginner Contest 150 B - Count ABC 全探索というか、「全通り調べ上げます」。\n",
        "# AtCoder Beginner Contest 122 B - ATCoder これも基本です。\n",
        "# AtCoder Beginner Contest 136 B - Uneven Numbers これも基本です。\n",
        "# AtCoder Beginner Contest 106 B - 105 これも基本です。\n",
        "# AtCoder Beginner Contest 120 B - K-th Common Divisors 単純な考察が必要ですが、基本です。\n",
        "# AtCoder Beginner Contest 057 C - Digits in Multiplication 探索通り数を頑張って減らします。\n",
        "# AtCoder Beginner Contest 095 C - Half and Half 探索通り数を頑張って減らします。\n",
        "# 三井住友信託銀行プログラミングコンテスト2019 D - Lucky PIN 探索通り数を頑張って減らします。\n",
        "# AtCoder Beginner Contest 128 C - Switches ビット全探索の基本です。\n",
        "# AtCoder Beginner Contest 147 C - HonestOrUnkind2 ビット全探索の基本です。\n",
        "# AtCoder Beginner Contest 145 C - Average Length 順列全探索の基本です。\n",
        "# AtCoder Beginner Contest 150 C - Count Order 順列全探索で解けます。\n",
        "# AtCoder Beginner Contest 054 C - One-stroke Path 順列全探索で解けます。\n",
        "\n",
        "# 最後に、最も重要なことを書きます。これは、コンテストに出場することです。\n",
        "\n",
        "# モチベ管理こそが重要"
      ],
      "metadata": {
        "id": "ioYv8f4h5Sox"
      },
      "execution_count": null,
      "outputs": []
    },
    {
      "cell_type": "code",
      "source": [
        "# C++ の場合、使えてほしい STL は以下の 25 個。\n",
        "%%html\n",
        "<table border=\"1\">\n",
        "<tbody>\n",
        "<tr><td>abs</td><td>sin/cos/tan</td><td>string</td><td>min/max</td><td>swap</td></tr>\n",
        "<tr><td>__gcd</td><td>rand</td><td>clock</td><td>reverse</td><td>sort</td></tr>\n",
        "<tr><td>vector</td><td>stack</td><td>queue</td><td>priority_queue</td><td>map</td></tr>\n",
        "<tr><td>lower_bound</td><td>set</td><td>pair</td><td>tuple</td><td>assert</td></tr>\n",
        "<tr><td>count</td><td>find</td><td>next_permutation</td><td>__builtin_popcount</td><td>bitset</td></tr>\n",
        "</tbody>\n",
        "</table>"
      ],
      "metadata": {
        "id": "5Go0KlCcldpc",
        "outputId": "634cd5ac-44b5-4b92-a0e0-05f7cdbad006",
        "colab": {
          "base_uri": "https://localhost:8080/",
          "height": 135
        }
      },
      "execution_count": null,
      "outputs": [
        {
          "output_type": "display_data",
          "data": {
            "text/plain": [
              "<IPython.core.display.HTML object>"
            ],
            "text/html": [
              "<table border=\"1\">\n",
              "<tbody>\n",
              "<tr><td>abs</td><td>sin/cos/tan</td><td>string</td><td>min/max</td><td>swap</td></tr>\n",
              "<tr><td>__gcd</td><td>rand</td><td>clock</td><td>reverse</td><td>sort</td></tr>\n",
              "<tr><td>vector</td><td>stack</td><td>queue</td><td>priority_queue</td><td>map</td></tr>\n",
              "<tr><td>lower_bound</td><td>set</td><td>pair</td><td>tuple</td><td>assert</td></tr>\n",
              "<tr><td>count</td><td>find</td><td>next_permutation</td><td>__builtin_popcount</td><td>bitset</td></tr>\n",
              "</tbody>\n",
              "</table>"
            ]
          },
          "metadata": {}
        }
      ]
    },
    {
      "cell_type": "code",
      "source": [
        "# 以下に書かれている、基本的なアルゴリズムとデータ構造を全て理解する。\n",
        "\n",
        "# アルゴリズム（12 個）\n",
        "\n",
        "# 全探索（bit 全探索、順列全探索を含む）\n",
        "# 二分探索\n",
        "# 深さ優先探索（DFS）\n",
        "# 幅優先探索（BFS）\n",
        "# 動的計画法（bitDP などを含む）\n",
        "# ダイクストラ法（最短経路問題）\n",
        "# ワーシャルフロイド法（最短経路問題）\n",
        "# クラスカル法（最小全域木問題）\n",
        "# 高速な素数判定法\n",
        "# べき乗を高速に計算するアルゴリズム\n",
        "# 逆元を計算するアルゴリズム\n",
        "# 累積和\n",
        "\n",
        "# データ構造（3 個）\n",
        "\n",
        "# グラフ（グラフ理論）\n",
        "# 木\n",
        "# Union-Find"
      ],
      "metadata": {
        "id": "4lmCOryMl3Jx"
      },
      "execution_count": null,
      "outputs": []
    },
    {
      "cell_type": "code",
      "source": [
        "# 絶対値 abs\n",
        "%%writefile temp.cpp\n",
        "#include <bits/stdc++.h>\n",
        "using namespace std;\n",
        "\n",
        "int main() {\n",
        "    // 例 1: 2 つの小数 a と b を入力し、a-b の絶対値を小数で出力します。\n",
        "    double a, b;\n",
        "    cin >> a >> b;\n",
        "    printf(\"%.12lf\\n\", abs(a - b));\n",
        "}"
      ],
      "metadata": {
        "id": "aE93c93UooF7",
        "outputId": "023e5b2e-8e9c-4840-ae17-807f6ac1cdbf",
        "colab": {
          "base_uri": "https://localhost:8080/"
        }
      },
      "execution_count": null,
      "outputs": [
        {
          "output_type": "stream",
          "name": "stdout",
          "text": [
            "Writing temp.cpp\n"
          ]
        }
      ]
    },
    {
      "cell_type": "code",
      "source": [
        "!g++ temp.cpp; echo 2.81 -1.2 |./a.out"
      ],
      "metadata": {
        "id": "WbAzAKxPs3LZ",
        "outputId": "16b1f3d6-c904-4997-fb7a-94ece3b30b82",
        "colab": {
          "base_uri": "https://localhost:8080/"
        }
      },
      "execution_count": null,
      "outputs": [
        {
          "output_type": "stream",
          "name": "stdout",
          "text": [
            "4.010000000000\n"
          ]
        }
      ]
    },
    {
      "cell_type": "code",
      "source": [
        "# 上のプログラムの cout バージョン\n",
        "# fixed と setprecision を同時に使う事によって小数点以下の桁数を決められる\n",
        "# 絶対値 abs\n",
        "%%writefile temp.cpp\n",
        "#include <bits/stdc++.h>\n",
        "using namespace std;\n",
        "\n",
        "int main() {\n",
        "    // 例 1: 2 つの小数 a と b を入力し、a-b の絶対値を小数で出力します。\n",
        "    double a, b;\n",
        "    cin >> a >> b;\n",
        "    cout << fixed << setprecision(3) << abs(a - b) << endl;\n",
        "    printf(\"%.3lf\\n\", abs(a - b));\n",
        "}"
      ],
      "metadata": {
        "id": "jbqn_yfAtMMi",
        "outputId": "04e1a940-ec3c-480d-a7af-a131f9171bec",
        "colab": {
          "base_uri": "https://localhost:8080/"
        }
      },
      "execution_count": null,
      "outputs": [
        {
          "output_type": "stream",
          "name": "stdout",
          "text": [
            "Overwriting temp.cpp\n"
          ]
        }
      ]
    },
    {
      "cell_type": "code",
      "source": [
        "!g++ temp.cpp; echo 2.81 -1.2 |./a.out"
      ],
      "metadata": {
        "id": "S4SS69dmGNJ_",
        "outputId": "b9341bc5-c7f3-4311-975a-30ed2dc4663c",
        "colab": {
          "base_uri": "https://localhost:8080/"
        }
      },
      "execution_count": null,
      "outputs": [
        {
          "output_type": "stream",
          "name": "stdout",
          "text": [
            "4.010\n",
            "4.010\n"
          ]
        }
      ]
    },
    {
      "cell_type": "code",
      "source": [
        "# 三角関数 sin/cos/tan\n",
        "# 弧度法を使う\n",
        "# sin(x) の値を double 型で返す => sin(π/6) = 0.5。\n",
        "# cos(x) の値を double 型で返す => cos(π/6) = 0.866025... \n",
        "# tan(x) の値を double 型で返す => tan(π/6) = 0.577350... \n",
        "%%writefile temp.cpp\n",
        "#include <bits/stdc++.h>\n",
        "using namespace std;\n",
        "\n",
        "int main() {\n",
        "    // 度数法で角度を入力し、計算する\n",
        "    double pi = M_PI;\n",
        "    double x;\n",
        "    cin >> x;\n",
        "    double y = x / 180.0 * pi;\n",
        "    cout << y << endl;\n",
        "    printf(\"%.12lf\\n\", sin(x / 180.0 * pi));\n",
        "    printf(\"%.12lf\\n\", cos(x / 180.0 * pi));\n",
        "    printf(\"%.12lf\\n\", tan(x / 180.0 * pi));\n",
        "    cout << fixed << setprecision(12);\n",
        "    cout << sin(y) << endl;\n",
        "    cout << cos(y) << endl;\n",
        "    cout << tan(y) << endl;\n",
        "}"
      ],
      "metadata": {
        "id": "jwAYCNZbs0us",
        "outputId": "eb5a3e9f-52b7-48da-bc29-23e4ebcebe6b",
        "colab": {
          "base_uri": "https://localhost:8080/"
        }
      },
      "execution_count": null,
      "outputs": [
        {
          "output_type": "stream",
          "name": "stdout",
          "text": [
            "Overwriting temp.cpp\n"
          ]
        }
      ]
    },
    {
      "cell_type": "code",
      "source": [
        "!g++ temp.cpp; echo 30 |./a.out"
      ],
      "metadata": {
        "id": "t6DLTEJHIuLm",
        "outputId": "43406357-3b75-4c0f-f1f8-6eaf5313bade",
        "colab": {
          "base_uri": "https://localhost:8080/"
        }
      },
      "execution_count": null,
      "outputs": [
        {
          "output_type": "stream",
          "name": "stdout",
          "text": [
            "0.523599\n",
            "0.500000000000\n",
            "0.866025403784\n",
            "0.577350269190\n",
            "0.500000000000\n",
            "0.866025403784\n",
            "0.577350269190\n"
          ]
        }
      ]
    },
    {
      "cell_type": "code",
      "source": [
        "# 実験 setprecision にデフォルトはあるか => ない\n",
        "%%writefile temp.cpp\n",
        "#include <bits/stdc++.h>\n",
        "using namespace std;\n",
        "\n",
        "int main() {\n",
        "    cout << M_PI << endl;\n",
        "    cout << setprecision(16) << M_PI << endl;\n",
        "    cout << setprecision(16) << M_PI*1000 << endl;\n",
        "    cout << setprecision(16) << M_PI/1000 << endl;\n",
        "    double x = Mi_PI;\n",
        "    cout << fixed << setprecision(12);\n",
        "    cout << sin(M_PI/6) << endl;\n",
        "    cout << cos(M_PI/6) << endl;\n",
        "    cout << tan(M_PI/6) << endl;\n",
        "}"
      ],
      "metadata": {
        "id": "jBO0KugQJlZy",
        "outputId": "e9ae7014-493a-427a-8526-f94bb8c5f137",
        "colab": {
          "base_uri": "https://localhost:8080/"
        }
      },
      "execution_count": null,
      "outputs": [
        {
          "output_type": "stream",
          "name": "stdout",
          "text": [
            "Overwriting temp.cpp\n"
          ]
        }
      ]
    },
    {
      "cell_type": "code",
      "source": [
        "!g++ temp.cpp; echo  |./a.out"
      ],
      "metadata": {
        "id": "yEiTFgzFKiQJ",
        "outputId": "00f70d85-e623-4f9c-c793-de6337ebf64d",
        "colab": {
          "base_uri": "https://localhost:8080/"
        }
      },
      "execution_count": null,
      "outputs": [
        {
          "output_type": "stream",
          "name": "stdout",
          "text": [
            "3.14159\n",
            "3.141592653589793\n",
            "3141.592653589793\n",
            "0.003141592653589793\n",
            "0.500000000000\n",
            "0.866025403784\n",
            "0.577350269190\n"
          ]
        }
      ]
    },
    {
      "cell_type": "code",
      "source": [
        "# 実験 to_string の桁数\n",
        "%%writefile temp.cpp\n",
        "#include <bits/stdc++.h>\n",
        "using namespace std;\n",
        "\n",
        "template <typename T>\n",
        "std::string to_string_with_precision(const T a_value, const int n = 6)\n",
        "{\n",
        "    std::ostringstream out;\n",
        "    out.precision(n);\n",
        "    out << std::fixed << a_value;\n",
        "    return out.str();\n",
        "}\n",
        "\n",
        "int main() {\n",
        "    cout << M_PI << endl; // 有効桁数 6 桁 => 3.14159\n",
        "    cout << M_PI/1000 << endl; // 有効桁数 6 桁 => 0.00314159\n",
        "    cout << to_string(M_PI) << endl; // 小数点以下 6 桁で固定  => 3.141593\n",
        "    cout << to_string(M_PI/1000) << endl; // 小数点以下 6 桁で固定 => 0.003142\n",
        "    cout << to_string_with_precision(M_PI, 12) << endl; // 小数点以下 12 桁を指定 => 3.141592653590\n",
        "    cout << to_string_with_precision(M_PI/1000, 12) << endl; // 小数点以下 12 桁を指定 => 0.003141592654\n",
        "}"
      ],
      "metadata": {
        "id": "GLIIVI0LMCcj",
        "outputId": "abf41fad-2537-4562-bd06-180998413a70",
        "colab": {
          "base_uri": "https://localhost:8080/"
        }
      },
      "execution_count": null,
      "outputs": [
        {
          "output_type": "stream",
          "name": "stdout",
          "text": [
            "Overwriting temp.cpp\n"
          ]
        }
      ]
    },
    {
      "cell_type": "code",
      "source": [
        "!g++ temp.cpp; echo  |./a.out"
      ],
      "metadata": {
        "id": "S03EQpMKMCQa",
        "outputId": "4f7310c9-2ef2-41c9-bc7b-2e0b0a9056d9",
        "colab": {
          "base_uri": "https://localhost:8080/"
        }
      },
      "execution_count": null,
      "outputs": [
        {
          "output_type": "stream",
          "name": "stdout",
          "text": [
            "3.14159\n",
            "0.00314159\n",
            "3.141593\n",
            "0.003142\n",
            "3.141592653590\n",
            "0.003141592654\n"
          ]
        }
      ]
    },
    {
      "cell_type": "code",
      "source": [
        "# string\n",
        "%%writefile temp.cpp\n",
        "#include <bits/stdc++.h>\n",
        "using namespace std;\n",
        "\n",
        "int main() {\n",
        "    // 例 1: 入力した 2 つの文字列を連結して、最初の 10 文字を出力します。\n",
        "    string a, b;\n",
        "    cin >> a >> b;\n",
        "    string c = a + b;\n",
        "    if (c.size() <= 10) cout << c << endl;\n",
        "    else cout << c.substr(0, 10) << endl;\n",
        "\n",
        "    // 例 2: 入力した文字列 s の偶数文字目を 'z' に変えて出力します。\n",
        "    string s;\n",
        "    cin >> s;\n",
        "    for (int i = 0; i < s.size(); i += 2) s.at(i) = 'z';\n",
        "    cout << s << endl;\n",
        "    return 0;\n",
        "}"
      ],
      "metadata": {
        "id": "J-cUDKKFiSdc",
        "outputId": "ce6c1e23-9e34-49c5-d9d5-4e8508a0b2c3",
        "colab": {
          "base_uri": "https://localhost:8080/"
        }
      },
      "execution_count": 82,
      "outputs": [
        {
          "output_type": "stream",
          "name": "stdout",
          "text": [
            "Overwriting temp.cpp\n"
          ]
        }
      ]
    },
    {
      "cell_type": "code",
      "source": [
        "!g++ temp.cpp; echo \"try\" \"012345\" \"012345\"|./a.out"
      ],
      "metadata": {
        "id": "NSfYWPfmiSXj",
        "outputId": "2155bc61-9996-4a36-ceaf-860e87bf60c1",
        "colab": {
          "base_uri": "https://localhost:8080/"
        }
      },
      "execution_count": 83,
      "outputs": [
        {
          "output_type": "stream",
          "name": "stdout",
          "text": [
            "try012345\n",
            "z1z3z5\n"
          ]
        }
      ]
    },
    {
      "cell_type": "markdown",
      "source": [
        "# いまここ"
      ],
      "metadata": {
        "id": "JGHWrEGFhiKX"
      }
    },
    {
      "cell_type": "code",
      "source": [
        "# 上のプログラムを日本語対応にしてみる\n",
        "%%writefile temp.cpp\n",
        "#include <bits/stdc++.h>\n",
        "using namespace std;\n",
        "\n",
        "int count_byte(char c){\n",
        "    if ((c & 0x80) == 0) return 1;\n",
        "    else if ((c & 0xe0) == 0xc0) return 2;\n",
        "    else if ((c & 0xf0) == 0xe0) return 3;\n",
        "    else return 4;\n",
        "}\n",
        "\n",
        "vector<string> str2vec(string &str){\n",
        "    vector<string> vec;\n",
        "    for (int i = 0 ; i < str.size(); i += count_byte(str.at(i))){\n",
        "        vec.push_back(str.substr(i,count_byte(str.at(i))));\n",
        "    }    \n",
        "    return vec;\n",
        "}\n",
        "\n",
        "int main() {\n",
        "    string str;\n",
        "    getline(cin, str);\n",
        "    vector<string> vec;\n",
        "    vec = str2vec(str);\n",
        "    for (auto& item : vec) {\n",
        "        cout << item;\n",
        "    };\n",
        "    cout << endl;\n",
        "    cout << \"文字列の長さは \" << vec.size() << \" です。\" << endl;\n",
        "}\n",
        "/*\n",
        "int main() {\n",
        "    // 例 1: 入力した 2 つの文字列を連結して、最初の 10 文字を出力します。\n",
        "    string a, b;\n",
        "    cin >> a >> b;\n",
        "    string c = a + b;\n",
        "    if (c.size() <= 10) cout << c << endl;\n",
        "    else cout << c.substr(0, 10) << endl;\n",
        "\n",
        "    // 例 2: 入力した文字列 s の偶数文字目を 'z' に変えて出力します。\n",
        "    string s;\n",
        "    cin >> s;\n",
        "    for (int i = 0; i < s.size(); i += 2) s.at(i) = 'z';\n",
        "    cout << s << endl;\n",
        "    return 0;\n",
        "}\n",
        "*/"
      ],
      "metadata": {
        "id": "ZQWFUWz_j4Vf",
        "outputId": "8712fe5b-b2bf-4803-a573-96964b9ee836",
        "colab": {
          "base_uri": "https://localhost:8080/"
        }
      },
      "execution_count": 84,
      "outputs": [
        {
          "output_type": "stream",
          "name": "stdout",
          "text": [
            "Overwriting temp.cpp\n"
          ]
        }
      ]
    },
    {
      "cell_type": "code",
      "source": [
        "!g++ temp.cpp; echo \"施行\" \"錯誤してみる\" \"難しいね!!!!\"|./a.out"
      ],
      "metadata": {
        "id": "XD4IVJMUj4QG",
        "outputId": "42ad7c65-a358-4036-cacd-0e26f43fc90b",
        "colab": {
          "base_uri": "https://localhost:8080/"
        }
      },
      "execution_count": 85,
      "outputs": [
        {
          "output_type": "stream",
          "name": "stdout",
          "text": [
            "施行 錯誤してみる 難しいね!!!!\n",
            "文字列の長さは 18 です。\n"
          ]
        }
      ]
    },
    {
      "cell_type": "code",
      "source": [
        "\n",
        "3-3. 文字列 string\n",
        "文字列を扱う型です。int も double も型ですが、string も型の一種です。\n",
        "\n",
        "概要\n",
        "ここでは、S, T を string 型の変数、c を char 型の変数とします。以下のような処理ができます。\n",
        "\n",
        "プログラム\t説明\n",
        "string S;\tstring 型の変数 S を定義します。\n",
        "cin >> S;\t文字列 S を入力します。\n",
        "cout << S;\t文字列 S を出力します。\n",
        "S[i]\tS の i 文字目です。char 型配列と同じようなものだと思ってください。例えば、S[i] = 'z' という処理を行うと i 文字目が 'z' に変わります。\n",
        "S += T;\t文字列 S に文字列 T を連結します。例えば、S = \"a\", T = \"bc\" の場合、S が \"abc\" に変わります。S = S + T も同様です。\n",
        "S += c;\t文字列 S に char 型の文字 c を連結します。例えば、S = \"qiit\", c = 'a' の場合、S が \"qiita\" に変わります。S = S + c も同様です。\n",
        "S.size()\t文字列 S の長さを整数型で返す関数です。\n",
        "S.substr(l)\t文字列 S の l 文字目から最後の文字までの部分文字列を返す関数です。\n",
        "S.substr(l, r)\t文字列 S の l 文字目から l+r-1 文字目までの部分文字列を返す関数です。\n",
        "なお、文字列は 0 文字目から始まることにご注意ください。文字列の大小比較は辞書式順序で決められます。string をインクルードすることで使えます。\n",
        "\n",
        "サンプルコード\n",
        "#include <iostream>\n",
        "#include <string>\n",
        "using namespace std;\n",
        "\n",
        "int main() {\n",
        "    // 例 1: 入力した 2 つの文字列を連結して、最初の 10 文字を出力します。\n",
        "    string a, b;\n",
        "    cin >> a >> b;\n",
        "    string c = a + b;\n",
        "    if (c.size() <= 10) cout << c << endl;\n",
        "    else cout << c.substr(0, 10) << endl;\n",
        "\n",
        "    // 例 2: 入力した文字列 s の偶数文字目を 'z' に変えて出力します。\n",
        "    string s;\n",
        "    cin >> s;\n",
        "    for (int i = 0; i < s.size(); i += 2) s[i] = 'z';\n",
        "    cout << s << endl;\n",
        "    return 0;\n",
        "}\n",
        "3-4. 最小値・最大値 min/max\n",
        "複数の値の、最小値・最大値を返す関数です。\n",
        "\n",
        "概要\n",
        "C++ で使える、最小値・最大値を取る関数は、以下の表のようになります。ここでは、c を適当な型の配列とします。\n",
        "\n",
        "プログラム\t説明\n",
        "min(a, b)\t2 つの値 a, b のうち小さい方を返します。\n",
        "max(a, b)\t2 つの値 a, b のうち大きい方を返します。\n",
        "min({a1, a2, ..., an})\t{a1, a2, ..., an} の中で最小のものを返します。\n",
        "max({a1, a2, ..., an})\t{a1, a2, ..., an} の中で最大のものを返します。\n",
        "*min_element(c + l, c + r)\t{c[l], c[l+1], ..., c[r-1]} の中で最小のものを返します。\n",
        "*max_element(c + l, c + r)\t{c[l], c[l+1], ..., c[r-1]} の中で最大のものを返します。\n",
        "なお、min_element 関数と max_element 関数はイテレーターを返すため、最初に * を付ける必要があります。algorithm をインクルードすることで使えます。\n",
        "\n",
        "サンプルコード\n",
        "#include <iostream>\n",
        "#include <algorithm>\n",
        "using namespace std;\n",
        "\n",
        "int main() {\n",
        "    // 例 1: 103, 168, 103 の中で最も大きい値を出力する : 168 が出力される\n",
        "    cout << max({103, 168, 103}) << endl;\n",
        "\n",
        "    // 例 2: {c[1], c[2], ..., c[N]} の最小値を出力する方法 1 つ目\n",
        "    int N, c[100009], minx = 2147483647;\n",
        "    cin >> N;\n",
        "    for (int i = 1; i <= N; i++) cin >> c[i];\n",
        "    for (int i = 1; i <= N; i++) minx = min(minx, c[i]);\n",
        "    cout << minx << endl;\n",
        "\n",
        "    // 例 3: {c[1], c[2], ..., c[N]} の最小値を出力する方法 2 つ目\n",
        "    cout << *min_element(c + 1, c + N + 1) << endl;\n",
        "    return 0;\n",
        "}\n",
        "3-5. 値の交換 swap\n",
        "2 つの変数を交換する関数です。\n",
        "\n",
        "概要\n",
        "swap(a, b) で、変数 a と b の値を入れ替えることができます。例えば、a = 229, b = 108 の状態から swap(a, b) が呼び出されると、a = 108, b = 229 となります。追加のインクルードファイル呼び出しは必要ありません。\n",
        "\n",
        "サンプルコード\n",
        "バブルソートについて知らない人は、この記事をお読みください。\n",
        "\n",
        "#include <iostream>\n",
        "using namespace std;\n",
        "\n",
        "int main() {\n",
        "    // 例 1: 2 つの変数 a, b を入れ替え、出力する\n",
        "    int a, b;\n",
        "    cin >> a >> b;\n",
        "    swap(a, b);\n",
        "    cout << a << \" \" << b << endl;\n",
        "\n",
        "    // 例 2: バブルソートによって、{c[1], c[2], ..., c[N]} を小さい順に並び替え、出力する\n",
        "    int N, c[1009];\n",
        "    cin >> N;\n",
        "    for (int i = 1; i <= N; i++) cin >> c[i];\n",
        "    for (int i = 1; i <= N; i++) {\n",
        "        for (int j = 1; j <= N - i; j++) {\n",
        "            if (c[j] > c[j + 1]) swap(c[j], c[j + 1]);\n",
        "        }\n",
        "    }\n",
        "    for (int i = 1; i <= N; i++) cout << c[i] << endl;\n",
        "    return 0;\n",
        "}\n",
        "3-6. 最大公約数 __gcd\n",
        "2 つの整数 a, b の最大公約数を返す関数です。\n",
        "この関数は gcc で利用可能ですが、Visual Studio 2019 などでは使えません。\n",
        "\n",
        "概要\n",
        "__gcd(a, b) = (a と b の最大公約数) となります。例えば、\n",
        "\n",
        "__gcd(8, 16) = 8\n",
        "__gcd(234, 217) = 1\n",
        "となります。計算量は O(loga)O(log⁡a) なので、とても高速です。algorithm をインクルードすることで使えます。\n",
        "\n",
        "最小公倍数を返す標準ライブラリの関数はありませんが、a と b の最小公倍数は a / __gcd(a, b) * b で計算することができます。\n",
        "\n",
        "この書き方は、a * b / __gcd(a, b) よりオーバーフローを起こしにくいです。\n",
        "\n",
        "追記\n",
        "@yumetodo さんによるコメント：C++17 以降では gcd/lcm が使えます。\n",
        "ただし、AtCoder では C++14 までしか使えません。(yukicoder などでは使えます)\n",
        "\n",
        "サンプルコード\n",
        "#include <iostream>\n",
        "#include <algorithm>\n",
        "using namespace std;\n",
        "\n",
        "int main() {\n",
        "    // 例 1: 2 つの整数 a, b を入力し、a と b の最大公約数と最小公倍数を出力する\n",
        "    int a, b;\n",
        "    cin >> a >> b;\n",
        "    cout << __gcd(a, b) << endl;\n",
        "    cout << a / __gcd(a, b) * b << endl;\n",
        "    return 0;\n",
        "}\n",
        "3-7. 乱数 rand\n",
        "乱数を生成する関数です。\n",
        "\n",
        "概要\n",
        "基本的に、以下の 2 つをセットで覚えておくと良いと思います。\n",
        "\n",
        "プログラム\t説明\n",
        "rand()\t00 以上 231−1231−1 以下のランダムな整数を返す関数です。\n",
        "srand((unsigned)time(NULL));\tおまじないです。main 関数の冒頭にこれを付けると、実行ごとに乱数生成結果が変わります。\n",
        "gcc の場合 231−1231−1 までの乱数が生成されますが、Visual Studio 2019 の場合 215−1215−1 までの乱数しか生成されないのでご注意ください。ctime をインクルードすることで使えます。\n",
        "なお、乱数の質が完全とはいえないので、より良質な乱数を生成したい場合は random をインクルードして、メルセンヌ・ツイスタ (C++ では std::mt19937) などを使いましょう。\n",
        "\n",
        "サンプルコード\n",
        "#include <iostream>\n",
        "#include <ctime>\n",
        "using namespace std;\n",
        "\n",
        "int main() {\n",
        "    srand((unsigned)time(NULL));\n",
        "\n",
        "    // 例 1: 1 以上 6 以下のランダムな整数を出力する\n",
        "    cout << rand() % 6 + 1 << endl;\n",
        "\n",
        "    // 例 2: 90% の確率で \"Yay!\"、10% の確率で \":(\" と出力する\n",
        "    if (rand() % 10 <= 8) cout << \"Yay!\" << endl;\n",
        "    else cout << \":(\" << endl;\n",
        "    return 0;\n",
        "}\n",
        "3-8. 時間計測 clock\n",
        "時間を計測する関数です。\n",
        "\n",
        "概要\n",
        "基本的に、以下の 2 つをセットで覚えておくと良いと思います。\n",
        "\n",
        "プログラム\t説明\n",
        "clock()\tプログラム実行開始から何単位時間経過したかを整数で返す関数です。\n",
        "CLOCKS_PER_SEC\t定数です。環境によって1 秒が何単位時間か異なるので、秒数を知りたいときに使えます。\n",
        "つまり、実行開始からの秒数は clock()/CLOCKS_PER_SEC で表されます。ちなみに、CLOCKS_PER_SEC の値は\n",
        "\n",
        "gcc の場合 1000000\n",
        "Visual Studio 2019 の場合 1000\n",
        "となります。ctime をインクルードすると使えます。\n",
        "\n",
        "サンプルコード\n",
        "#include <iostream>\n",
        "#include <ctime>\n",
        "using namespace std;\n",
        "\n",
        "int main() {\n",
        "    // 例 1: 実行にかかる時間を計測する\n",
        "    int ti = clock();\n",
        "    for (int i = 1; i <= 100000; i++) cout << i << endl;\n",
        "    printf(\"Execution Time: %.4lf sec\\n\", 1.0 * (clock() - ti) / CLOCKS_PER_SEC);\n",
        "    return 0;\n",
        "}\n",
        "3-9. 配列を逆順に並び替え reverse\n",
        "配列のある区間を逆順に並び替える関数です。\n",
        "\n",
        "概要\n",
        "逆順に並び替える関数は、基本的に以下の表のようになります。ここでは、a を適当な型の配列とします。\n",
        "\n",
        "プログラム\t説明\n",
        "reverse(a, a + N)\ta[0], a[1], ..., a[N-1] を逆順に並び替えます。\n",
        "例えば、a = {2, 1, 4, 3, ...} のときに reverse(a, a + 3) という操作を行うと、a = {4, 1, 2, 3, ...} となります。\n",
        "reverse(a + l, a + r)\ta[l], a[l+1], ..., a[r-1] を逆順に並び替えます。\n",
        "計算量は O(N)O(N) です。文字列 str を逆順にしたい場合は、reverse(str.begin(), str.end()) のように書いてください。 algorithm をインクルードすることで使えます。\n",
        "\n",
        "サンプルコード\n",
        "#include <iostream>\n",
        "#include <algorithm>\n",
        "using namespace std;\n",
        "\n",
        "int main() {\n",
        "    // 例 1: 配列 a の 2～6 番目の要素を逆順にします。{8, 3, 2, 6, 4, 1, 7, 5} に変化します。\n",
        "    int a[8] = {8, 3, 7, 1, 4, 6, 2, 5};\n",
        "    reverse(a + 2, a + 7);\n",
        "    for (int i = 0; i < 8; i++) cout << a[i] << endl;\n",
        "\n",
        "    // 例 2: {b[0], b[1], ..., b[N-1]} を入力し、逆順にしたうえで出力します。\n",
        "    int N, b[1009];\n",
        "    cin >> N;\n",
        "    for (int i = 0; i < N; i++) cin >> b[i];\n",
        "    reverse(b, b + N);\n",
        "    for (int i = 0; i < N; i++) cout << b[i] << endl;\n",
        "    return 0;\n",
        "}\n",
        "3-10. ソート sort\n",
        "配列のある区間を小さい順などに並び替える関数です。\n",
        "\n",
        "概要\n",
        "以下の 3 つの書き方を覚えておくと、大体の競プロの問題において使えます。\n",
        "\n",
        "プログラム\t説明\n",
        "sort(a, a + N);\ta[0], a[1], ..., a[N-1] を小さい順に並び替えます。\n",
        "sort(a + l, a + r);\ta[l], a[l+1], ..., a[r-1] を小さい順に並び替えます。\n",
        "sort(a, a + N, greater< int >());\ta[0], a[1], ..., a[N-1] を大きい順に並び替えます。\n",
        "int 型の要素をソートする場合は greater< int >() を付けます。\n",
        "double 型の要素をソートする場合は greater< double >() を付けます。\n",
        "計算量は O(NlogN)O(Nlog⁡N) です。なお、string 型のソートでは、辞書式順序で早い方が小さいとみなされます。algorithm をインクルードすることで使えます。greater< int >() を使う場合は functional もインクルードする必要があります。\n",
        "\n",
        "サンプルコード\n",
        "#include <iostream>\n",
        "#include <algorithm>\n",
        "#include <functional>\n",
        "using namespace std;\n",
        "\n",
        "int main() {\n",
        "    // 例 1: 配列 a の 1～4 番目を大きい順に並び替えます。{8, 7, 4, 3, 1, 6, 2, 5} に変化。\n",
        "    int a[8] = {8, 3, 7, 1, 4, 6, 2, 5};\n",
        "    sort(a + 1, a + 5, greater<int>());\n",
        "    for (int i = 0; i < 8; i++) cout << a[i] << endl;\n",
        "\n",
        "    // 例 2: {b[0], b[1], ..., b[N-1]} を入力し、小さい順に並び替えて出力します。\n",
        "    int N, b[100009];\n",
        "    cin >> N;\n",
        "    for (int i = 0; i < N; i++) cin >> b[i];\n",
        "    sort(b, b + N);\n",
        "    for (int i = 0; i < N; i++) cout << b[i] << endl;\n",
        "    return 0;\n",
        "}\n",
        "3-11. vector\n",
        "vector は動的な配列を表す型です。\n",
        "\n",
        "概要\n",
        "ここでは、a を vector 型の変数、x を適当な変数または値とします。vector というデータ構造では、以下の処理ができます。\n",
        "\n",
        "プログラム\t説明\n",
        "vector< int > a;\tvector 型の変数 a を定義します。\n",
        "vector< int > の場合、vector には int 型の要素を入れます。\n",
        "vector< double > の場合、vector の要素には double 型の要素を入れます。\n",
        "a.push_back(x);\ta の末尾に x を追加します。\n",
        "例えば a = {3, 1, 4} の状態で a.push_back(1); という処理が行われると、a = {3, 1, 4, 1} となります。\n",
        "a.pop_back();\ta の末尾の要素が取り除かれます。\n",
        "例えば a = {3, 1, 4} の状態で a.pop_back(); という処理が行われると、 a = {3, 1} となります。\n",
        "a[i]\ta の先頭から数えて i 番目の要素にアクセスできます。基本的には配列と同じで、演算や書き換えもできます。0 番目から始まることに注意してください。\n",
        "a.size()\ta に現在いくつ要素が入っているか、整数型で返します。\n",
        "計算量は、push_back、pop_back 両方 O(1)O(1) と高速です。また、メモリ使用量も効率的で、入っている要素全部のバイト数合計と同じオーダーとなります。一つ注意点があって、vector で sort をする場合、sort(a, a + N) ではなく、\n",
        "\n",
        "最初から最後までソートする場合：sort(a.begin(), a.end())\n",
        "l 番目から r 番目までソートする場合：sort(a.begin() + l, a.begin() + r)\n",
        "のように書く必要があります。reverse の場合も同様です。vector をインクルードすることで使えます。\n",
        "\n",
        "サンプルコード\n",
        "#include <iostream>\n",
        "#include <vector>\n",
        "using namespace std;\n",
        "\n",
        "int main() {\n",
        "    // 例 1: a に色々な操作を行う（x1 = 105, x2 = 2, x3 = 146 となります）\n",
        "    vector<int> a; // その時点で a は空\n",
        "    a.push_back(121); // その時点で a = {121}\n",
        "    a.push_back(105); // その時点で a = {121, 105}\n",
        "    a.push_back(193); // その時点で a = {121, 105, 193}\n",
        "    int x1 = a[1];\n",
        "    a.pop_back(); // その時点で a = {121, 105}\n",
        "    int x2 = a.size();\n",
        "    a.push_back(146); // その時点で a = {121, 105, 146}\n",
        "    int x3 = a[2];\n",
        "    cout << x1 << \" \" << x2 << \" \" << x3 << endl;\n",
        "    return 0;\n",
        "}\n",
        "3-12. stack\n",
        "スタックというデータ構造を管理できる型です。もの（値）を積み上げたり、一番上のものを取ったりできるデータ構造です。イメージをつかむために、下の GIF 画像を見ると良いと思います。\n",
        "draft1.gif\n",
        "\n",
        "概要\n",
        "ここでは、a を stack 型の変数、x を適当な型の変数または値とします。stack というデータ構造では、以下の処理ができます。\n",
        "\n",
        "プログラム\t説明\n",
        "stack< int > a;\tstack 型の変数 a を定義します。\n",
        "stack< int > の場合、スタックに int 型の要素を積みます。\n",
        "stack< double > の場合、スタックに double 型の要素を積みます。\n",
        "a.push(x)\tスタック a の一番上に要素 x を積みます。\n",
        "a.pop()\tスタック a の一番上の要素を取り除きます。\n",
        "a.top()\tスタック a の一番上の要素を返す関数です。\n",
        "例えば、下から順に {3, 1, 4} と積み上げられている場合、a.top() の値は 4 です。\n",
        "a.size()\tスタック a の要素数を整数で返す関数です。\n",
        "a.empty()\tスタック a の要素数が 0 である場合 true、1 以上である場合 false を返す関数です。\n",
        "push、pop、top などの計算量はすべて O(1)O(1) です。実質的には vector の下位互換ですが、アルゴリズムなどの参考書で stack が利用されることが多いので、本記事でも紹介しておきました。stack をインクルードすることで使えます。\n",
        "\n",
        "サンプルコード\n",
        "#include <iostream>\n",
        "#include <stack>\n",
        "using namespace std;\n",
        "\n",
        "int main() {\n",
        "    // 例 1: a に色々な操作を行う（x1 = 156, x2 = 202, x3 = 117, x4 = 3, x5 = 0 となります）\n",
        "    stack<int> a;\n",
        "    a.push(179); // その時点で下から順に {179}\n",
        "    a.push(173); // その時点で下から順に {179, 173}\n",
        "    a.push(156); // その時点で下から順に {179, 173, 156}\n",
        "    int x1 = a.top();\n",
        "    a.pop(); // その時点で下から順に {179, 173}\n",
        "    a.push(117); // その時点で下から順に {179, 173, 117}\n",
        "    a.push(202); // その時点で下から順に {179, 173, 117, 202}\n",
        "    int x2 = a.top();\n",
        "    a.pop(); // その時点で下から順に {179, 173, 117}\n",
        "    int x3 = a.top();\n",
        "    int x4 = a.size();\n",
        "    int x5 = 0; if (a.empty()) x5 = 10000;\n",
        "\n",
        "    cout << x1 << \" \" << x2 << \" \"<< x3 << \" \" << x4 << \" \" << x5 << endl;\n",
        "    return 0;\n",
        "}\n",
        "3-13. queue\n",
        "待ち行列のようなデータ構造を管理できる型です。イメージをつかむために、下の GIF 画像を見ると良いと思います。\n",
        "draft2.gif\n",
        "\n",
        "概要\n",
        "ここでは、a を queue 型の変数、x を適当な型の変数または値とします。queue というデータ構造では、以下の処理ができます。\n",
        "\n",
        "プログラム\t説明\n",
        "queue< int > a;\tqueue 型の変数 a を定義します。\n",
        "queue< int > の場合、キューに int 型の要素を入れます。\n",
        "queue< double > の場合、キューに double 型の要素を積みます。\n",
        "a.push(x)\tキュー a の最後尾に要素 x を入れます。\n",
        "a.pop()\tキュー a の一番前の要素を取り除きます。\n",
        "a.front()\tキュー a の一番前の要素を返す関数です。\n",
        "例えば、前から順に a = {3, 1, 4} である場合、3 を返します。\n",
        "a.size()\tキュー a の要素数を返す関数です。\n",
        "a.empty()\tキュー a の要素数が 0 である場合 true、1 以上である場合 false を返す関数です。\n",
        "push、pop、front などの計算量はすべて O(1)O(1) です。詳しくは後編で述べますが、幅優先探索や最短経路問題などでこのデータ構造が利用できます。queue をインクルードすることで使えます。\n",
        "\n",
        "サンプルコード\n",
        "#include <iostream>\n",
        "#include <queue>\n",
        "using namespace std;\n",
        "\n",
        "int main() {\n",
        "    // 例 1: a に色々な操作を行う（x1 = 179, x2 = 173, x3 = 156, x4 = 3, x5 = 0 となります）\n",
        "    queue<int> a;\n",
        "    a.push(179); // その時点で前から順に {179}\n",
        "    a.push(173); // その時点で前から順に {179, 173}\n",
        "    a.push(156); // その時点で前から順に {179, 173, 156}\n",
        "    int x1 = a.front();\n",
        "    a.pop(); // その時点で前から順に {173, 156}\n",
        "    a.push(117); // その時点で前から順に {173, 156, 117}\n",
        "    a.push(202); // その時点で前から順に {173, 156, 117, 202}\n",
        "    int x2 = a.front();\n",
        "    a.pop(); // その時点で前から順に {156, 117, 202}\n",
        "    int x3 = a.front();\n",
        "    int x4 = a.size();\n",
        "    int x5 = 0; if (a.empty()) x5 = 10000;\n",
        "\n",
        "    cout << x1 << \" \" << x2 << \" \"<< x3 << \" \" << x4 << \" \" << x5 << endl;\n",
        "    return 0;\n",
        "}\n",
        "3-14. priority_queue\n",
        "優先度付きキューというデータ構造を管理できる型です。イメージをつかむために、下の GIF 画像を見ると良いと思います。\n",
        "draft3.gif\n",
        "\n",
        "概要\n",
        "ここでは、a を priority_queue 型の変数、x を適当な型の変数または値とします。priority_queue というデータ構造では、以下の処理ができます。\n",
        "\n",
        "プログラム\t説明\n",
        "a.push(x)\t優先度付きキュー a に要素 x を追加します。\n",
        "a.pop()\ta の中の最も小さい要素（設定によっては、最も大きい要素）を取り除きます。\n",
        "a.top()\ta の中の最も小さい要素（設定によっては、最も大きい要素）の値を返す関数です。\n",
        "a.size()\ta の要素数を返す関数です。\n",
        "a.empty()\ta の要素数が 0 の場合 true、1 以上である場合 false を返す関数です。\n",
        "NN を優先度付きキューに入っている要素数とするとき、push、pop、top の計算量は O(logN)O(log⁡N) です。queue、vector、functional をインクルードすることで使えます。\n",
        "\n",
        "変数の定義\n",
        "変数の定義方法がやや特殊なので、書いておきます。以下のように、最も小さい値を取り出したい場合は greater、最も大きい値を取り出したい場合は less を使います。\n",
        "\n",
        "// int 型の要素を持ち、最も小さい値を取り出す形の priority_queue を定義する場合\n",
        "priority_queue<int, vector<int>, greater<int>> Q1;\n",
        "\n",
        "// double 型の要素を持ち、最も小さい値を取り出す形の priority_queue を定義する場合\n",
        "priority_queue<double, vector<double>, greater<double>> Q2;\n",
        "\n",
        "// int 型の要素を持ち、最も大きい値を取り出す形の priority_queue を定義する場合\n",
        "priority_queue<int, vector<int>, less<int>> Q3;\n",
        "サンプルコード\n",
        "#include <iostream>\n",
        "#include <queue>\n",
        "#include <vector>\n",
        "#include <functional>\n",
        "using namespace std;\n",
        "\n",
        "int main() {\n",
        "    // 例 1: Q に色々な操作を行う（x1 = 116, x2 = 110, x3 = 122, x4 = 2 となります）\n",
        "    priority_queue<int, vector<int>, greater<int>> Q;\n",
        "    Q.push(116); // この時点で、小さい順に {116}\n",
        "    Q.push(145); // この時点で、小さい順に {116, 145}\n",
        "    Q.push(122); // この時点で、小さい順に {116, 122, 145}\n",
        "    int x1 = Q.top();\n",
        "    Q.push(110); // この時点で、小さい順に {110, 116, 122, 145}\n",
        "    int x2 = Q.top();\n",
        "    Q.pop(); // この時点で、小さい順に {116, 122, 145}\n",
        "    Q.pop(); // この時点で、小さい順に {122, 145}\n",
        "    int x3 = Q.top();\n",
        "    int x4 = Q.size();\n",
        "\n",
        "    cout << x1 << \" \" << x2 << \" \" << x3 << \" \" << x4 << endl;\n",
        "    return 0;\n",
        "}\n",
        "3-15. map\n",
        "どんな「番地」にも書き込める、無限配列のようなデータ構造です。\n",
        "\n",
        "例えば、int A[100000] という配列を定義すれば、0 ～ 99999 番地までにしか書き込むことができません。一方で、map を使えば、配列の番地として int 型だけではなく、string 型や後述する pair 型まで使えます。イメージをつかむために、以下の画像を見ると良いと思います。\n",
        "スライド1.JPG\n",
        "\n",
        "概要\n",
        "a を map 型の変数、x を適当な型の変数とします。map というデータ構造は、以下の処理ができます。\n",
        "\n",
        "プログラム\t説明\n",
        "a[x]\tマップの x という番地にアクセスする感じだと思ってよいです。配列と同じように、代入・演算ができます。x は整数型でなくても、文字列型でも vector 型でも何でもありです。\n",
        "a.clear()\tマップ a を初期化します。\n",
        "なお、最初は値がすべて 0（文字列の場合は空文字列）で初期化されています。\n",
        "NN を今まで map 型変数にアクセスした数とするとき、マップのある特定の番地へのアクセスにかかる計算量は O(logN)O(log⁡N) 程度です。map をインクルードすることで使えます。\n",
        "\n",
        "変数の定義\n",
        "変数の定義方法がやや特殊なので、書いておきます。基本的に、map< 番地の型, 記録する型 > となります。\n",
        "\n",
        "// int 型の番地に int 型の変数を記録する場合（2^31 要素の int 型配列と同じような感じ）\n",
        "map<int, int> M1;\n",
        "\n",
        "// int 型の番地に string 型の変数を記録する場合（2^31 要素の string 型配列と同じような感じ）\n",
        "map<int, string> M2;\n",
        "\n",
        "// string 型の番地に double 型の変数を記録する場合\n",
        "map<string, double> M3;\n",
        "サンプルコード\n",
        "#include <iostream>\n",
        "#include <string>\n",
        "#include <map>\n",
        "using namespace std;\n",
        "\n",
        "int main() {\n",
        "    map<string, int> Map;\n",
        "    Map[\"qiita\"] = 777;\n",
        "    Map[\"algorithm\"] = 1111;\n",
        "    Map[\"competitive_programming\"] = 1073741824;\n",
        "\n",
        "    cout << Map[\"algorithm\"] << endl; // 1111 と出力される\n",
        "    cout << Map[\"tourist\"] << endl; // まだ何も書き込まれていないので、0 と出力される\n",
        "    return 0;\n",
        "}\n",
        "3-16. lower_bound\n",
        "二分探索 をすることができる関数です。\n",
        "\n",
        "概要\n",
        "配列 a があったとして、a の l 番目から r-1 番目までの要素が小さい順にソートされていたとしましょう。\n",
        "\n",
        "そのとき、lower_bound(a+l, a+r, x) - a というプログラムは、\n",
        "\n",
        "a[l] から a[r-1] までの中で初めて x 以上となるようなインデックスを返します。\n",
        "つまり、l≤i≤r−1l≤i≤r−1 の中で、x≤aix≤ai となるような最小の ii の値を返します。\n",
        "例えば、a = {2, 3, 4, 6, 9, ...} の場合、lower_bound(a, a + 5, 7) - a = 4 となります。\n",
        "計算量は O(log N)O(log⁡ N) です。algorithm をインクルードすることで使えます。\n",
        "\n",
        "サンプルコード\n",
        "#include <iostream>\n",
        "#include <algorithm>\n",
        "using namespace std;\n",
        "\n",
        "int main() {\n",
        "    // 例 1: a[i] < x となるような i が何個あるのかを O(log N) で計算する\n",
        "    int N, a[100009];\n",
        "    cin >> N;\n",
        "    for (int i = 0; i < N; i++) cin >> a[i];\n",
        "    sort(a, a + N);\n",
        "\n",
        "    int x;\n",
        "    cin >> x;\n",
        "    cout << lower_bound(a, a + N, x) - a << endl;\n",
        "    return 0;\n",
        "}\n",
        "3-17. set\n",
        "集合を管理することができるデータ構造です。集合に要素を追加したり、削除したり、二分探索したりできます。このようなデータ構造には、set と multiset の 2 種類があります。\n",
        "\n",
        "概要\n",
        "set 型の変数 a と、適当な型の変数または値 x があったとして、以下の処理ができます。（ここでは、y は set 内の要素を指すイテレーターとします。）\n",
        "\n",
        "プログラム\t説明\n",
        "a.insert(x)\t集合 a に要素 x を追加する。但し、既に x が集合 a にある場合は追加しない。\n",
        "（multiset の場合、既に要素が 1 個以上あっても追加する。）\n",
        "a.erase(x)\t集合 a から要素 x を削除する。（multiset の場合、要素 x をすべて削除する。）\n",
        "a.erase(y)\t集合 a からイテレーター y の要素を削除する。\n",
        "（この場合、multiset の場合でも 1 個だけ消すことができる。）\n",
        "a.lower_bound(x)\t集合 a の中で x 以上である最小の要素を指すイテレーターを返す。\n",
        "a.clear()\t集合 a を空にする。\n",
        "NN 個の要素を持つ set に対する操作の計算量は、大体の操作で O(log N)O(log N) です。（multiset も同様。）\n",
        "\n",
        "なお、set 内では小さい順に要素が並んでいます。そのため、イテレーター itr に対し\n",
        "\n",
        "itr++ とすると、set 内の一つ大きい要素を指すようになります\n",
        "例えば a = {2,3,4,6,8} で元々 (*itr) = 6 の場合、itr++ をすると itr は 8 を指すようになる\n",
        "itr-- とすると set 内の一つ小さい要素を指すようになります\n",
        "例えば a = {2,3,4,6,8} で元々 (*itr) = 6 の場合、itr-- をすると itr は 4 を指すようになる\n",
        "また、a.begin() は set 内の先頭のイテレーター、a.end() は set 内の末尾のイテレーターを指します。少し難しいので、もしわからなければこちらを読むと良いと思います。set をインクルードすることで使えます。\n",
        "\n",
        "サンプルコード\n",
        "#include <iostream>\n",
        "#include <set>\n",
        "using namespace std;\n",
        "\n",
        "int main() {\n",
        "    // 例 1: set に対して色々な操作を行う（1 個目は \"End\"、2 個目は \"46\" と出力される）\n",
        "    set<int> Set;\n",
        "    Set.insert(37); // その時点での Set の要素は {37}\n",
        "    Set.insert(15); // その時点での Set の要素は {15, 37}\n",
        "    Set.insert(37); // その時点での Set の要素は {15, 37}\n",
        "    auto itr1 = Set.lower_bound(40);\n",
        "    if (itr1 == Set.end()) cout << \"End\" << endl;\n",
        "    else cout << (*itr1) << endl;\n",
        "    Set.erase(37); // その時点での Set の要素は {15}\n",
        "    Set.insert(46); // その時点での Set の要素は {15, 46}\n",
        "    auto itr2 = Set.lower_bound(20);\n",
        "    if (itr2 == Set.end()) cout << \"End\" << endl;\n",
        "    else cout << (*itr2) << endl;\n",
        "\n",
        "    // 例 2: a[1],a[2],...,a[N] を小さい順に出力する（同じ要素が複数ある場合 1 回だけ出力する）\n",
        "    set<int> b; int N, a[100009];\n",
        "    cin >> N;\n",
        "    for (int i = 1; i <= N; i++) cin >> a[i];\n",
        "    for (int i = 1; i <= N; i++) b.insert(a[i]);\n",
        "    auto itr = b.begin();\n",
        "    while (itr != b.end()) {\n",
        "        cout << (*itr) << endl;\n",
        "        itr++;\n",
        "    }\n",
        "    return 0;\n",
        "}\n",
        "3-18. pair\n",
        "pair は 2 つの異なる型を一つの変数で持つことができる「組」を表現できる型です。\n",
        "\n",
        "概要\n",
        "pair は 2 つの要素を持てる型です。a を pair 型の変数とするとき、\n",
        "\n",
        "1 つ目の要素は a1.first\n",
        "2 つ目の要素は a1.second\n",
        "で表されます。また、1 つ目の要素の型を v1, 2 つ目の要素の型を v2 とするとき、pair< v1, v2 > a; という感じで変数を定義できます。例えば、両方 int 型にしたい場合は pair< int, int > a; という感じで変数を定義できます。\n",
        "\n",
        "2 つの pair 型要素の大小比較は、以下のように決められます。\n",
        "\n",
        "1 つ目の要素が小さい方を小さいとみなす。\n",
        "1 つ目の要素が同じである場合、2 つ目の要素が小さい方を小さいとみなす。\n",
        "なお、pair 型は追加のインクルードファイル無しで使えます。（本来は utility ファイル内の型ですが、実際にはインクルードしなくても使えたりします。）\n",
        "\n",
        "サンプルコード\n",
        "#include <iostream>\n",
        "#include <algorithm>\n",
        "#include <string>\n",
        "#include <functional>\n",
        "using namespace std;\n",
        "\n",
        "int N;\n",
        "pair<int, string> a[100009];\n",
        "\n",
        "int main() {\n",
        "    // 例 1: N 人の成績と名前を入力して、成績の大きい順にソートする\n",
        "    cin >> N;\n",
        "    for (int i = 0; i < N; i++) {\n",
        "        cin >> a[i].second; // 名前を入力する\n",
        "        cin >> a[i].first; // 成績を入力する\n",
        "    }\n",
        "    sort(a, a + N, greater<pair<int, string>>());\n",
        "    for (int i = 0; i < N; i++) {\n",
        "        cout << \"Name = \" << a[i].second << \", Score = \" << a[i].first << endl;\n",
        "    }\n",
        "    return 0;\n",
        "}\n",
        "3-19. tuple\n",
        "3 つ以上の要素から成る「組」を持つことができる型です。pair 型は 2 つですが、tuple 型は何個でも要素を持てます。\n",
        "\n",
        "概要\n",
        "tuple 型は、3 つ以上の要素を持てる型です。（※ 1 つとか 2 つでもできます。）\n",
        "以下の 3 つの構文を覚えておくと、競技プログラミングなどにおいて困ることはほぼ無いと思います。\n",
        "\n",
        "型 v1, 型 v2, ..., 型 vn を持つ tuple 型変数を定義したい場合、tuple< v1,v2,...,vn > a; という感じのコードを書くと良いです。例えば、int 型, int 型, string 型から成る tuple 型変数を定義したい場合、tuple< int,int,string > a; などと書きます。\n",
        "tuple 型変数 a の i 個目の要素にアクセスしたい場合、get< i >(a) と書けば良いです。0 個目の要素から始まることに注意してください。\n",
        "make_tuple(a1,a2,...,an) で引数のコピーから tuple を生成することができます。（サンプルコードの最後から 6 行目を参照。）\n",
        "なお、2 つの tuple 型要素の大小比較は、以下のようにして決まります。\n",
        "\n",
        "0 個目の要素が小さい方を小さいとみなす。\n",
        "0 個目の要素が同じである場合、1 個目の要素が小さい方を小さいとみなす。\n",
        "1 個目の要素も同じである場合、2 個目の要素が小さい方を小さいとみなす。（以下続く）\n",
        "tuple をインクルードすることで使えます。\n",
        "\n",
        "サンプルコード\n",
        "#include <iostream>\n",
        "#include <tuple>\n",
        "#include <vector>\n",
        "#include <algorithm>\n",
        "using namespace std;\n",
        "\n",
        "int main() {\n",
        "    // 例 1: tuple の基本\n",
        "    tuple<int, int, int> A;\n",
        "    cin >> get<0>(A) >> get<1>(A) >> get<2>(A);\n",
        "    cout << get<0>(A) + get<1>(A) + get<2>(A) << endl;\n",
        "\n",
        "    // 例 2: vector にも tuple を入れられます、この例はソートするプログラムです\n",
        "    vector<tuple<double, int, int>> B; int N;\n",
        "    cin >> N;\n",
        "    for (int i = 1; i <= N; i++) {\n",
        "        double p1; int p2, p3;\n",
        "        cin >> p1 >> p2 >> p3;\n",
        "        B.push_back(make_tuple(p1, p2, p3));\n",
        "    }\n",
        "    sort(B.begin(), B.end());\n",
        "    for (int i = 0; i < N; i++) printf(\"%.5lf %d %d\\n\", get<0>(B[i]), get<1>(B[i]), get<2>(B[i]));\n",
        "    return 0;\n",
        "}\n",
        "3-20. assert\n",
        "条件を決めて、それを満たさない場合ランタイムエラーを起こす関数です。後編でも述べますが、デバッグなどに使えます。\n",
        "\n",
        "概要\n",
        "assert(条件) と書くことで、条件を満たさない場合にランタイムエラーを起こす関数になります。例えば、N≤20N≤20 の場合のみ実行して、それ以外の場合ランタイムエラーを起こすようにしたい場合、assert(N <= 20) と書けばできます。cassert をインクルードすることで使えます。\n",
        "\n",
        "サンプルコード\n",
        "Tips: 競プロでは実行時間制限がおよそ 2 ～ 3 秒のことが多いです。\n",
        "\n",
        "#include <iostream>\n",
        "#include <cassert>\n",
        "using namespace std;\n",
        "\n",
        "int N, X, cnt, a[10009];\n",
        "\n",
        "int main() {\n",
        "    // 例 1: a[i] + a[j] = X を満たす (i, j) [i < j] の個数を列挙する\n",
        "    // N > 10000 の場合実行時間が間に合わない（TLE する）のでランタイムエラーを起こすようにする\n",
        "\n",
        "    cin >> N >> X;\n",
        "    for (int i = 1; i <= N; i++) cin >> a[i];\n",
        "    assert(N <= 10000);\n",
        "\n",
        "    for (int i = 1; i <= N; i++) {\n",
        "        for (int j = i + 1; j <= N; j++) {\n",
        "            if (a[i] + a[j] == X) cnt++;\n",
        "        }\n",
        "    }\n",
        "    cout << cnt << endl;\n",
        "    return 0;\n",
        "}\n",
        "3-21. count\n",
        "配列や vector のある区間の要素の中で、x がいくつ含まれるかを返す関数です。\n",
        "\n",
        "概要\n",
        "ここでは、a を配列とします。そのとき、count(a + l, a + r, x) は a[l], a[l+1], ..., a[r-1] の中で、x となるようなものの個数を整数型で返します。vector の場合、count(v.begin(), v.end(), x) のように書けばよいです。\n",
        "計算量は O(r−l)O(r−l) です。algorithm をインクルードすることで使えます。\n",
        "\n",
        "サンプルコード\n",
        "#include <iostream>\n",
        "#include <algorithm>\n",
        "using namespace std;\n",
        "\n",
        "int main() {\n",
        "    // 例 1: 配列 a に含まれる 1 の個数、2 の個数を出力する（それぞれ　4, 3 と出力されます）\n",
        "    int a[10] = {1, 2, 3, 4, 1, 2, 3, 1, 2, 1};\n",
        "    cout << count(a, a + 10, 1) << endl;\n",
        "    cout << count(a, a + 10, 2) << endl;\n",
        "\n",
        "    // 例 2: b[1], b[2], ..., b[N] を受け取り、その後 Q 個の質問を受け取る。\n",
        "    // 各質問に対し、b[l], b[l+1], ..., b[r] の中で x が何個あるかを出力する。\n",
        "    int b[1009], N, Q;\n",
        "    cin >> N;\n",
        "    for (int i = 1; i <= N; i++) cin >> b[i];\n",
        "    cin >> Q;\n",
        "    for (int i = 1; i <= Q; i++) {\n",
        "        int l, r, x;\n",
        "        cin >> l >> r >> x;\n",
        "        cout << count(b + l, b + r + 1, x) << endl;\n",
        "    }\n",
        "    return 0;\n",
        "}\n",
        "3-22. find\n",
        "配列や vector のある区間の要素の中に x が含まれるか、含まれる場合はどこにあるかを返す関数です。\n",
        "\n",
        "概要\n",
        "a を配列とします。そのとき、find(a + l, a + r, x) は、以下のイテレーターを返します。\n",
        "\n",
        "a[l], a[l+1], ..., a[r-1] の中に x が含まれない場合は a + r のイテレーター。\n",
        "そうでない場合は、a[l] から順に見ていったときに初めて a[i] = x となるような a[i] のイテレーター。\n",
        "a が vector の場合にも使えます。find(a.begin(), a.end(), x) とすると、関数は以下のイテレーターを返します。\n",
        "\n",
        "a[0], a[1], ..., a[a.size() - 1] の中に x が含まれない場合　a.end()。\n",
        "そうでない場合、初めて a[i] = x となるような a[i] のイテレーター。\n",
        "なお、find 関数はイテレーターを返しますが、初めて現れる位置を知りたい場合は、find(a + l, a + r, x) - a のように書くと、「初めて x が現れるのは配列の何番目の要素か」を返します。計算量は O(r−l)O(r−l) です。algorithm をインクルードすることで使えます。\n",
        "\n",
        "サンプルコード\n",
        "#include <iostream>\n",
        "#include <algorithm>\n",
        "using namespace std;\n",
        "\n",
        "int main() {\n",
        "    // 例 1: a[1], a[2], ..., a[N] を受け取る。その後、Q 個の質問を受け取る。\n",
        "    // 各質問は (l, r, x) の組から成り、a[l], a[l+1], ..., a[r] の中で x が存在しない場合 -1\n",
        "    // そうでない場合、存在する位置（ポインタではない）を出力する。\n",
        "    int N, Q, a[1009];\n",
        "    cin >> N;\n",
        "    for (int i = 1; i <= N; i++) cin >> a[i];\n",
        "    cin >> Q;\n",
        "    for (int i = 1; i <= Q; i++) {\n",
        "        int l, r, x;\n",
        "        cin >> l >> r >> x;\n",
        "        int f = find(a + l, a + r + 1, x) - a;\n",
        "        if (f == r + 1) cout << \"-1\" << endl; // 存在しない場合\n",
        "        else cout << f << endl; // 存在する場合\n",
        "    }\n",
        "    return 0;\n",
        "}\n",
        "3-23. next_permutation\n",
        "次の順列を生成する関数です。\n",
        "\n",
        "概要\n",
        "next_permutation(a, a + n) を使って、while ループを回す感じでやります。\n",
        "下のコードを見た方がわかりやすいと思います。\n",
        "\n",
        "// 配列の場合\n",
        "int n, a[109]; cin >> n;\n",
        "for (int i = 0; i < n; i++) cin >> a[i];\n",
        "do {\n",
        "    for (int i = 0; i < n; i++) {\n",
        "        if (i) cout << \",\";\n",
        "        cout << a[i];\n",
        "    }\n",
        "    cout << endl;\n",
        "} while(next_permutation(a, a + n));\n",
        "while 文は、次の順列が存在しないとき（それより辞書順で大きいような順列が存在しないとき）に抜けます。例えば、n = 3, a = {2, 3, 1} で実行した場合の出力結果は以下のようになります。\n",
        "\n",
        "2,3,1\n",
        "3,1,2\n",
        "3,2,1\n",
        "すべての順列を回したい場合は、a = {1, 2, 3, ..., n} など、小さい順に並んでいる状態にしてください。 また、vector で next_permutation を使いたい場合は、next_permutation(a.begin(), a.end()) のようにしてください。\n",
        "\n",
        "順列の長さを NN とするとき、次の順列を生成するのに計算量最大 O(N)O(N) かかります。\n",
        "また、{1,2,3,...,N1,2,3,...,N} とソートされている場合は、N!N! 回 while 文の中をループします。\n",
        "algorithm をインクルードすると使えます。\n",
        "\n",
        "サンプルコード\n",
        "#include <iostream>\n",
        "#include <algorithm>\n",
        "using namespace std;\n",
        "\n",
        "int N, A[12][12], B[12], perm[12], ans = 2000000000;\n",
        "\n",
        "int main() {\n",
        "    // N 個の都市があり、都市 i から j まで移動するのにかかる時間は A[i][j] 分\n",
        "    // 全ての都市を訪れるのに何分かかるか？　ただし、どの都市から出発、どの都市に到着してもよい。\n",
        "    // A[i][j] = A[j][i], A[i][i] = 0\n",
        "    cin >> N;\n",
        "    for (int i = 1; i <= N; i++) {\n",
        "        for (int j = 1; j <= N; j++) cin >> A[i][j];\n",
        "    }\n",
        "    for (int i = 0; i < N; i++) B[i] = i + 1;\n",
        "\n",
        "    do {\n",
        "        int sum = 0;\n",
        "        for (int i = 0; i < N - 1; i++) {\n",
        "            sum += A[B[i]][B[i + 1]];\n",
        "        }\n",
        "        ans = min(ans, sum);\n",
        "    } while(next_permutation(B, B + N));\n",
        "\n",
        "    cout << ans << endl;\n",
        "    return 0;\n",
        "}\n",
        "3-24. __builtin_popcount\n",
        "整数 x を二進数で表したとき、1 であるようなビットの個数を返す関数です。\n",
        "この関数は gcc で利用可能ですが、Visual Studio 2019 などでは使えません。\n",
        "\n",
        "概要\n",
        "__builtin_popcount(x) は、x の 1 であるようなビットの個数を返す関数です。例えば、x = 42 の場合、42 を 2 進数で表すと 101010 であり、3 個の 1 を含むので、3 を返します。\n",
        "\n",
        "また、__builtin_popcountll(x) という関数もあって、それは long long 型に対応しています。両方、追加のインクルードファイル無しで使えます。\n",
        "\n",
        "注記1\n",
        "Visual Studio 2019 など C++17 が対応されている環境では、popcnt(x), popcnt64(x) といった関数が使えます。ただし、intrin.h をインクルードする必要があります。 (コメント を頂きました。)\n",
        "\n",
        "注記2\n",
        "bitset でも __builtin_popcount(x) と同じようなことができます。詳しくは 3-25. 節をご覧ください。（コメント を頂きました。）\n",
        "\n",
        "サンプルコード\n",
        "#include <iostream>\n",
        "using namespace std;\n",
        "\n",
        "int main() {\n",
        "    // 例 1: x を 2 進数表記したときに、1 であるビットの個数を出力する。\n",
        "    long long x;\n",
        "    cin >> x;\n",
        "    cout << __builtin_popcountll(x) << endl;\n",
        "    return 0;\n",
        "}\n",
        "3-25. bitset\n",
        "ビット集合を表す型（クラス）です。N 桁の 2 進数だと思うこともできます。\n",
        "ビット演算を高速に行いたいときなどに使えます。\n",
        "\n",
        "概要\n",
        "まず、変数の定義は以下のように行います。\n",
        "\n",
        "// 例 1: 長さ 250000 の bitset（250000 桁の 2 進数だと思ってよい）を定義する。\n",
        "bitset<250000> bs1;\n",
        "\n",
        "// 例 2: 長さ 8 の bitset を定義する。整数から初期化を行う。\n",
        "bitset<8> bs2(131); // 7 ビット目から 0 ビット目への順番で、10000011 となる。\n",
        "\n",
        "// 例 3: 長さ 8 の bitset を定義する。2 進数から初期化を行う。\n",
        "bitset<8> bs3(\"10000011\"); // 7 ビット目から 0 ビット目への順番で、10000011 となる。\n",
        "\n",
        "// 例 4: 例 3 とやってることは変わらない。ただ bitset の長さが増えただけ。\n",
        "bitset<2000> bs4(\"10000011\"); // 1999 ビット目から 0 ビット目の順番で、0...010000011 となる。\n",
        "また、bitset では以下のような処理ができます。（ここでは、a, b を bitset 型の変数とします。）\n",
        "\n",
        "プログラム\t説明\n",
        "a = (a ^ b) など\tint 型などと同じように、ビット演算（and, or, xor）をすることができます。\n",
        "a.set(x)\ta の xx 桁目（2x2x の位）を 1 に変更します。\n",
        "a.reset(x)\ta の xx 桁目（2x2x の位）を 0 に変更します。\n",
        "a[i]\t配列と同様、a の ii 桁目（2i2i の位）にアクセスすることができます。a[i] は必ず 0 か 1 です。\n",
        "a.count()\ta の全ての桁のうち、1 となっている桁の個数を返します。__builtin_popcount(x) と似ています。\n",
        "NN ビットの bitset に対して、and, or, xor などのビット演算を行うのにかかる計算量は N32N32 回程度と高速です。bitset をインクルードすると使えます。\n",
        "\n",
        "サンプルコード\n",
        "#include <iostream>\n",
        "#include <bitset>\n",
        "#include <string>\n",
        "using namespace std;\n",
        "\n",
        "int main() {\n",
        "    // 例 1: A or B を計算します。なお、A と B は string 型で 2 進数で与えられます。\n",
        "    string A; cin >> A;\n",
        "    string B; cin >> B;\n",
        "\n",
        "    bitset<2000> A1(A);\n",
        "    bitset<2000> B1(B);\n",
        "    bitset<2000> ans = (A1 | B1);\n",
        "\n",
        "    bool flag = false;\n",
        "    for (int i = 1999; i >= 0; i--) {\n",
        "        if (ans[i] == 1) flag = true;\n",
        "        if (flag == true) cout << ans[i];\n",
        "    }\n",
        "    cout << endl;\n",
        "    return 0;\n",
        "}\n",
        "\n",
        "\n",
        "4. 皆さんの疑問「標準ライブラリ、結局どんな場面で使うのか？」\n",
        "皆さんの中には、この記事を読んでそう思った方も多いと思います。\n",
        "\n",
        "今回の 25 個の標準ライブラリはわかったけど、どういう問題やどういうアルゴリズムの実装で活用できるのか？？？\n",
        "\n",
        "そう思った皆さん。\n",
        "\n",
        "後編を読みましょう。\n",
        "厳選！C++ アルゴリズム実装に使える 25 の STL 機能【後編】\n",
        "後編では、今回説明した標準ライブラリ（STL）を活用できるアルゴリズム、活用できるケースを 11 例紹介します。よろしければ、是非お読みください。\n",
        "\n",
        "つづく\n",
        "後編 につづきます。\n",
        "\n",
        "便宜上、提出数のデータを示しておりますが、各プログラミング言語毎の参加者数で数えても、C++ は半分程度です。 ↩\n",
        "\n",
        "残り 10% は、list・malloc などです。競技プログラミングではそれほど使われない（あるいは同等の実装量で代用できる）と思っているので、本記事には載せませんでした。 ↩\n",
        "\n",
        "詳しくは、こちらの記事をご覧ください。 ↩\n",
        "\n",
        "厳密には、__gcd, __builtin_popcount の 2 つは標準ライブラリに含まれません。しかし、競プロやアルゴリズム実装において比較的重要なので、含めておきました。 ↩\n",
        "\n",
        "\n",
        "\n",
        "e869120\n",
        "E869120\n",
        "@e869120\n",
        "東京大学 1 年の米田（E869120）です。 AtCoder・CodeForces でレッドコーダーです。国際情報オリンピックにも出場しています。競技プログラミング関連のことを記事にしていきます。よろしくお願い致します。 著書『「アルゴリズム×数学」が基礎からしっかり身につく本』 https://amazon.co.jp/dp/4297125218/\n",
        "フォロー中\n",
        "\n",
        "\n",
        "関連記事 Recommended by \n",
        "\n",
        "標準ライブラリ\n",
        "by bestfitat\n",
        "\n",
        "\n",
        "C++のつまずきポイント解説 その1\n",
        "by _EnumHack\n",
        "\n",
        "C++Siv3D入門講座 Vol.06 イテレータ・vector要素の削除\n",
        "by yagiri000\n",
        "\n",
        "厳選！Ruby アルゴリズム実装に使える 25 の 標準ライブラリ【前編】\n",
        "by superrino130\n",
        "\n",
        "Kaggleで得たスキルを業務で活かす。Kaggleを楽しみながら活用するためのポイント\n",
        "PR 日立\n",
        "\n",
        "サントリー「脚の老化対策」4860円OFF！1世帯様1回限り\n",
        "PR サントリー\n",
        "\n",
        "この記事は以下の記事からリンクされています\n",
        "akidon0000\n",
        "[競技プログラミング] C++ チートシート 灰〜茶まで\n",
        "からリンク\n",
        "1 year ago\n",
        "e869120\n",
        "AtCoder での実力アップを目指そう！　～競プロ典型 90 問～\n",
        "からリンク\n",
        "1 year ago\n",
        "e869120\n",
        "情報オリンピックへのいざない　～日本一の競技プログラマーを決める戦い～\n",
        "からリンク\n",
        "1 year ago\n",
        "e869120\n",
        "実装力で戦える！　～競プロにおける実装テクニック14選～\n",
        "からリンク\n",
        "1 year ago\n",
        "e869120\n",
        "たのしい探索アルゴリズムの世界【後編：探索手法で実社会の様々な問題を斬る！】\n",
        "からリンク\n",
        "1 year ago\n",
        "過去の16件を表示する\n",
        "コメント\n"
      ],
      "metadata": {
        "id": "WAlbq5W-Ictk"
      },
      "execution_count": null,
      "outputs": []
    },
    {
      "cell_type": "code",
      "source": [
        ""
      ],
      "metadata": {
        "id": "eAF_gSGgrXzl"
      },
      "execution_count": null,
      "outputs": []
    }
  ]
}