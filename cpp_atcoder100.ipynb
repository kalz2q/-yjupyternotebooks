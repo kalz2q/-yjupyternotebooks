{
  "nbformat": 4,
  "nbformat_minor": 0,
  "metadata": {
    "colab": {
      "name": "cpp_atcoder100.ipynb",
      "provenance": [],
      "toc_visible": true,
      "authorship_tag": "ABX9TyM3uxSOlgXCKTmW0EIvX2W6",
      "include_colab_link": true
    },
    "kernelspec": {
      "name": "python3",
      "display_name": "Python 3"
    },
    "language_info": {
      "name": "python"
    }
  },
  "cells": [
    {
      "cell_type": "markdown",
      "metadata": {
        "id": "view-in-github",
        "colab_type": "text"
      },
      "source": [
        "<a href=\"https://colab.research.google.com/github/kalz2q/mycolabnotebooks/blob/master/cpp_atcoder100.ipynb\" target=\"_parent\"><img src=\"https://colab.research.google.com/assets/colab-badge.svg\" alt=\"Open In Colab\"/></a>"
      ]
    },
    {
      "cell_type": "markdown",
      "source": [
        "# メモ\n",
        "\n",
        "レッドコーダーが教える、競プロ・AtCoder上達のガイドライン【初級編：競プロを始めよう】\n",
        "\n",
        "非情報系学生のための C/C++ 入門\n",
        "\n",
        "AIZU ONLINE JUDGE - Introduction To Programming I\n",
        "\n",
        "アルゴリズムとは何か！？ ～ 文系理系問わず楽しめる精選 6 問 ～ by @drken\n",
        "\n",
        "「AtCoder Beginners Selection」\n",
        "\n",
        "AtCoder に登録したら次にやること ～ これだけ解けば十分闘える！過去問精選 10 問 ～ by @drken\n",
        "\n"
      ],
      "metadata": {
        "id": "qHX8nfTRmqJq"
      }
    },
    {
      "cell_type": "code",
      "source": [
        "# colab でプログラムを作って実行する => %%writefile temp.cpp => !g++ temp.cpp; echo |./a.out\n",
        "%%writefile temp.cpp\n",
        "# include <bits/stdc++.h>\n",
        "using namespace std;\n",
        "int main() {\n",
        "  cout << \"Hello World!\" << endl;\n",
        "}"
      ],
      "metadata": {
        "id": "JFJZUouD5YM5",
        "outputId": "52ec0dee-74bb-49fe-9b3e-d3acbfc62bb7",
        "colab": {
          "base_uri": "https://localhost:8080/"
        }
      },
      "execution_count": null,
      "outputs": [
        {
          "output_type": "stream",
          "name": "stdout",
          "text": [
            "Overwriting temp.cpp\n"
          ]
        }
      ]
    },
    {
      "cell_type": "code",
      "source": [
        "!g++ temp.cpp; echo |./a.out"
      ],
      "metadata": {
        "id": "0smnD4hN5vNd",
        "outputId": "2e21a9aa-244d-4b0c-d1b1-de6a1cc6f331",
        "colab": {
          "base_uri": "https://localhost:8080/"
        }
      },
      "execution_count": null,
      "outputs": [
        {
          "output_type": "stream",
          "name": "stdout",
          "text": [
            "Hello World!\n"
          ]
        }
      ]
    },
    {
      "cell_type": "code",
      "execution_count": null,
      "metadata": {
        "id": "GSdoW040mnR6",
        "outputId": "f581cabf-d95e-466b-e709-1d448c14330c",
        "colab": {
          "base_uri": "https://localhost:8080/",
          "height": 229
        }
      },
      "outputs": [
        {
          "output_type": "display_data",
          "data": {
            "text/plain": [
              "<IPython.core.display.HTML object>"
            ],
            "text/html": [
              "<style>\n",
              "    tr td:nth-child(2) {\n",
              "        color: red;\n",
              "        text-align: center;\n",
              "    }\n",
              "</style>\n",
              "<table border=\"1\">\n",
              "<thead>\n",
              "<tr><th>レーティング</th><th style=\"width:10%\" align=\"center\">色</th><th>相対的な位置</th><th>絶対的な位置</th></tr>\n",
              "</thead>\n",
              "<tbody>\n",
              "<tr><td>2800+</td><td>赤</td><td>上位 0.2%</td><td></td></tr>\n",
              "<tr><td>2400-2799</td><td>橙</td><td>上位 0.6%</td><td></td></tr>\n",
              "<tr><td>2000-2399</td><td>黄</td><td>上位 2%</td><td>アルゴリズムの研究職・研究開発で重宝されるレベル</td></tr>\n",
              "<tr><td>1600-1999</td><td>青</td><td>上位 5%</td><td>ほとんどのIT企業でアルゴリズム能力がカンストする</td></tr>\n",
              "<tr><td>1200-1599</td><td>水</td><td>上位 10%</td><td>半数以上のIT企業でアルゴリズム能力がカンストする</td></tr>\n",
              "<tr><td>800-1199</td><td>緑</td><td>上位 20%</td><td>エンジニアとしてかなり優秀</td></tr>\n",
              "<tr><td>400-799</td><td>茶</td><td>上位 35%</td><td>学生なら優秀</td></tr>\n",
              "<tr><td>1-399</td><td>灰</td><td>上位 100%</td><td>学生なら優秀</td></tr>\n",
              "</tbody>\n",
              "</table>"
            ]
          },
          "metadata": {}
        }
      ],
      "source": [
        "# AtCoder のレーティング\n",
        "%%html\n",
        "<style>\n",
        "    tr td:nth-child(2) {\n",
        "        color: red;\n",
        "        text-align: center;\n",
        "    }\n",
        "</style>\n",
        "<table border=\"1\">\n",
        "<thead>\n",
        "<tr><th>レーティング</th><th style=\"width:10%\" align=\"center\">色</th><th>相対的な位置</th><th>絶対的な位置</th></tr>\n",
        "</thead>\n",
        "<tbody>\n",
        "<tr><td>2800+</td><td>赤</td><td>上位 0.2%</td><td></td></tr>\n",
        "<tr><td>2400-2799</td><td>橙</td><td>上位 0.6%</td><td></td></tr>\n",
        "<tr><td>2000-2399</td><td>黄</td><td>上位 2%</td><td>アルゴリズムの研究職・研究開発で重宝されるレベル</td></tr>\n",
        "<tr><td>1600-1999</td><td>青</td><td>上位 5%</td><td>ほとんどのIT企業でアルゴリズム能力がカンストする</td></tr>\n",
        "<tr><td>1200-1599</td><td>水</td><td>上位 10%</td><td>半数以上のIT企業でアルゴリズム能力がカンストする</td></tr>\n",
        "<tr><td>800-1199</td><td>緑</td><td>上位 20%</td><td>エンジニアとしてかなり優秀</td></tr>\n",
        "<tr><td>400-799</td><td>茶</td><td>上位 35%</td><td>学生なら優秀</td></tr>\n",
        "<tr><td>1-399</td><td>灰</td><td>上位 100%</td><td>学生なら優秀</td></tr>\n",
        "</tbody>\n",
        "</table>"
      ]
    },
    {
      "cell_type": "code",
      "source": [
        "# AtCoder の過去問を解ける便利なサイト => AtCoder Problems\n",
        "# 競プロにおける C++ のすすめ\n",
        "# AtCoder ユーザーの半数以上が C++ を使っている\n",
        "# AtCoder 公式解説のソースコード、解説記事のソースコードの大半が C++ である。\n",
        "# プログラミングコンテストチャレンジブック（蟻本）、\n",
        "# プログラミングコンテスト攻略のためのアルゴリズムとデータ構造\n",
        "# 実行速度が他の言語に比べて高速であるため、競プロに有利である"
      ],
      "metadata": {
        "id": "zHsdRgYWmpmR"
      },
      "execution_count": null,
      "outputs": []
    },
    {
      "cell_type": "code",
      "source": [
        "# 問題\n",
        "# 整数 A と B が与えられます。\n",
        "# そのとき、縦 A センチ、横 B センチの長方形の周の長さを整数で出力してください。\n",
        "# 1≤ A, B ≤ 100\n",
        "# 例 4 5 => 18\n",
        "# 1 9 => 20\n",
        "# 6 7 => 26\n",
        "# 31 27 => 116\n",
        "# 100 100 => 400\n",
        "%%writefile temp.cpp\n",
        "#include <bits/stdc++.h>\n",
        "using namespace std;\n",
        "\n",
        "int main() {\n",
        "    int a, b; cin >> a >> b;\n",
        "    cout << (a + b) * 2 << endl;\n",
        "}"
      ],
      "metadata": {
        "colab": {
          "base_uri": "https://localhost:8080/"
        },
        "id": "-9AOHulZQ2Jb",
        "outputId": "6f8a67cc-6db7-4aea-f15f-cdcb0c265237"
      },
      "execution_count": null,
      "outputs": [
        {
          "output_type": "stream",
          "name": "stdout",
          "text": [
            "Writing temp.cpp\n"
          ]
        }
      ]
    },
    {
      "cell_type": "code",
      "source": [
        "!g++ temp.cpp; echo 4 5 |./a.out #=> 18\n",
        "!g++ temp.cpp; echo 1 9 |./a.out #=> 20\n",
        "!g++ temp.cpp; echo 6 7 |./a.out #=> 26\n",
        "!g++ temp.cpp; echo 31 27 |./a.out #=> 116\n",
        "!g++ temp.cpp; echo 100 100 |./a.out #=> 400"
      ],
      "metadata": {
        "colab": {
          "base_uri": "https://localhost:8080/"
        },
        "id": "hytwwWFfR0Mg",
        "outputId": "a2f6ad3d-ffaf-4b1c-dd8f-f101f0d64405"
      },
      "execution_count": null,
      "outputs": [
        {
          "output_type": "stream",
          "name": "stdout",
          "text": [
            "18\n",
            "20\n",
            "26\n",
            "116\n",
            "400\n"
          ]
        }
      ]
    },
    {
      "cell_type": "code",
      "source": [
        "# 全てに正解になる必要がある\n",
        "# 効率を考える必要がある"
      ],
      "metadata": {
        "id": "yvzdnj6iSa8g"
      },
      "execution_count": null,
      "outputs": []
    },
    {
      "cell_type": "code",
      "source": [
        "# 問題\n",
        "# N 枚のカードが一列に並べられています。\n",
        "# 左から i 番目のカードには、整数 A_i が書かれています。\n",
        "# あなたは N 枚のカードの中から 2 枚同時に選び、取ることができます。\n",
        "# 取った 2 枚に書かれた整数の合計がちょうど 101 となるような、カードの選び方の通り数を求めてください。\n",
        "# 1≤ N ≤ 10^6, 1≤ Ai ≤10^9\n",
        "# 一番最初に考えられる解法は、以下のように「何枚目と何枚目を選ぶか全探索する」\n",
        "# という方法だと思います。つまり、1 ≤ i < j ≤ N を満たすすべての (i,j) の組を全探索し、\n",
        "# A_i + A_ j=101 となる通り数を数え上げるという方法です。\n",
        "# しかし、その解法の場合、N^2 回程度のループを回す必要があります。 N ≤ 10^6 なので、\n",
        "# 最大 10^12 回程度のループを回す必要があります。しかし、競技プログラミングにおいて、\n",
        "# およそ 10^8 ～ 10^9 回を超える回数のループをした場合、実行時間超過 (TLE) となり、\n",
        "# 1 ケースでも TLE を起こすと不正解となってしまいます。\n",
        "\n",
        "# そのため、より効率的なアルゴリズムを実装することが求められます。\n",
        "# 例えば、本問題であれば、以下のような解法を使うと、\n",
        "# 高々 N 回程度のループでプログラムの実行が終わります。\n",
        "\n",
        "# Ai≥101 のカードはすべて無視する。\n",
        "# A_i = 1, A_i = 2, ..., A_i = 100 のカードの枚数を数える。\n",
        "# それぞれ c_1, c_2, ..., c_100 とする。\n",
        "# そのとき、\n",
        "# (c1×c100)+(c2×c99)+(c3×c98)+...+(c50×c51)\n",
        "# が答えである。\n",
        "\n",
        "# C++ での実装例 <= 分からないが動かすことは出来た。先へ進む。\n",
        "%%writefile temp.cpp\n",
        "#include <bits/stdc++.h>\n",
        "using namespace std;\n",
        "int main() {\n",
        "    int N; cin >> N;\n",
        "    vector<int> A(1000009);\n",
        "    vector<int> cnt(109);\n",
        "    for (int i = 0; i < N; i++) {\n",
        "        cin >> A.at(i);\n",
        "        if (A.at(i) <= 100) cnt.at(A.at(i))++;\n",
        "    }\n",
        "    int Answer = 0;\n",
        "    for (int i = 0; i < 50; i++) Answer += cnt.at(i) * cnt.at(101 - i);\n",
        "    cout << Answer << endl;\n",
        "}"
      ],
      "metadata": {
        "colab": {
          "base_uri": "https://localhost:8080/"
        },
        "id": "NVFR7V6JRzAf",
        "outputId": "8e52051b-5636-4ed9-df39-a4f67dc60cb2"
      },
      "execution_count": null,
      "outputs": [
        {
          "output_type": "stream",
          "name": "stdout",
          "text": [
            "Overwriting temp.cpp\n"
          ]
        }
      ]
    },
    {
      "cell_type": "code",
      "source": [
        "!g++ temp.cpp; echo 2 1 1 |./a.out #=> 0\n",
        "!g++ temp.cpp; echo 2 1 100 |./a.out #=> 1\n",
        "!g++ temp.cpp; echo 5 1 2 3 6 95 |./a.out #=> 1\n",
        "!g++ temp.cpp; echo 5 1 100 2 3 95 |./a.out #=> 1\n",
        "!g++ temp.cpp; echo 5 1 2 3 4 95 |./a.out #=> 0"
      ],
      "metadata": {
        "colab": {
          "base_uri": "https://localhost:8080/"
        },
        "id": "rJiHwZ6riuMG",
        "outputId": "8745eda6-4f96-49a1-9beb-24941766304b"
      },
      "execution_count": null,
      "outputs": [
        {
          "output_type": "stream",
          "name": "stdout",
          "text": [
            "0\n",
            "1\n",
            "1\n",
            "1\n",
            "0\n"
          ]
        }
      ]
    },
    {
      "cell_type": "code",
      "source": [
        "# 問題 AtCoder Beginner Contest 145 A - Circle\n",
        "# 整数 r が与えられます。\n",
        "# 半径 r の円の面積は半径 1 の円の面積の何倍か、整数で出力してください。\n",
        "# つまり r×r を出力してください。\n",
        "%%writefile temp.cpp\n",
        "#include <bits/stdc++.h>\n",
        "using namespace std;\n",
        "int main() {\n",
        "    int r; cin >> r;\n",
        "    cout << r * r << endl;\n",
        "}"
      ],
      "metadata": {
        "id": "Shz5YLcQVekF"
      },
      "execution_count": null,
      "outputs": []
    },
    {
      "cell_type": "code",
      "source": [
        "# 「どのようにしてコードを書けば良いか」分からない人も多いです。\n",
        "# そこで、一つの例として、C++ を学習できる便利なサイトを紹介します。\n",
        "# 非情報系学生のための C/C++ 入門\n",
        "%%html\n",
        "<style>\n",
        "    tr td:nth-child(1) {\n",
        "        color: red;\n",
        "        text-align: center;\n",
        "    }\n",
        "</style>\n",
        "<table border=\"1\">\n",
        "<thead>\n",
        "<tr><th>提出結果</th><th>意味</th></tr>\n",
        "</thead>\n",
        "<tbody>\n",
        "<tr><td>AC</td><td>正解です。やったね！</td></tr>\n",
        "<tr><td>WA</td><td>出力が間違っているようなテストケースがあります。</td></tr>\n",
        "<tr><td>TLE</td><td>実行時間制限以内にプログラムの実行が終わらなかったテストケースがあります。</td></tr>\n",
        "<tr><td>RE</td><td>プログラムがランタイムエラー（実行時エラー）を起こしたテストケースがあります。</td></tr>\n",
        "<tr><td>WJ</td><td>現在採点が行われております。しばらくお待ちください。</td></tr>\n",
        "</tbody>\n",
        "</table>"
      ],
      "metadata": {
        "colab": {
          "base_uri": "https://localhost:8080/",
          "height": 158
        },
        "id": "X2wkQ9EVtDGr",
        "outputId": "8f4c1ea5-3b65-4309-809f-31aab31a9d57"
      },
      "execution_count": null,
      "outputs": [
        {
          "output_type": "display_data",
          "data": {
            "text/plain": [
              "<IPython.core.display.HTML object>"
            ],
            "text/html": [
              "<style>\n",
              "    tr td:nth-child(1) {\n",
              "        color: red;\n",
              "        text-align: center;\n",
              "    }\n",
              "</style>\n",
              "<table border=\"1\">\n",
              "<thead>\n",
              "<tr><th>提出結果</th><th>意味</th></tr>\n",
              "</thead>\n",
              "<tbody>\n",
              "<tr><td>AC</td><td>正解です。やったね！</td></tr>\n",
              "<tr><td>WA</td><td>出力が間違っているようなテストケースがあります。</td></tr>\n",
              "<tr><td>TLE</td><td>実行時間制限以内にプログラムの実行が終わらなかったテストケースがあります。</td></tr>\n",
              "<tr><td>RE</td><td>プログラムがランタイムエラー（実行時エラー）を起こしたテストケースがあります。</td></tr>\n",
              "<tr><td>WJ</td><td>現在採点が行われております。しばらくお待ちください。</td></tr>\n",
              "</tbody>\n",
              "</table>"
            ]
          },
          "metadata": {}
        }
      ]
    },
    {
      "cell_type": "markdown",
      "source": [
        "# いまここ"
      ],
      "metadata": {
        "id": "QyfmNrjEs1yY"
      }
    },
    {
      "cell_type": "code",
      "source": [
        "# 全探索に慣れる！\n",
        "# 問題 くじびき\n",
        "# 数字が書かれている N 枚の紙切れが袋に入っています。あなたはこの袋から紙切れを取り出し、\n",
        "# 数字を見て袋に戻すということを 4 回行い、4 回の数字の和が M になっていれば、あなたの勝ちです。\n",
        "# 紙切れに書かれている数字が {K_1, K_2, ..., K_N} である場合、あなたが勝つような可能性はありますか。\n",
        "# 制約：N ≤ 50, M ≤ 10^8, Ki ≤10^8\n",
        "# これは、1 回目に K_a、2 回目に K_b、3 回目に K_c、4 回目に K_d を取り出すとして、\n",
        "# (a,b,c,d) のあり得る組を全通り調べる（四重ループをする）と解けます。N^4 回程度の計算が必要ですが、\n",
        "# N ≤ 50  なので、およそ 50^4 ≒ 6.25×10^6 回のループしか回す必要がなく、実行時間制限には余裕をもって間に合います。\n",
        "%%writefile temp.cpp\n",
        "#include <bits/stdc++.h>\n",
        "using namespace std;\n",
        "int main () {\n",
        "    int n, m; cin >> n >> m;\n",
        "    vector<int> vec(n);\n",
        "    for (int i=0; i < n ; i++) {\n",
        "        cin >> vec.at(i);\n",
        "    }\n",
        "    bool ans = false;\n",
        "    \n",
        "    for (int i=0; i < n ; i++) {\n",
        "        for (int j=0; j < n ; j++) {\n",
        "            for (int k=0; k < n ; k++){\n",
        "                for (int l=0; l < n ; l++){\n",
        "                    if (vec.at(i)+vec.at(j)+vec.at(k)+vec.at(l) == m) ans = true;\n",
        "                }\n",
        "            }\n",
        "        }\n",
        "    }\n",
        "    if (ans) cout << \"Yes\" << endl;\n",
        "    else cout << \"No\" << endl;\n",
        "}"
      ],
      "metadata": {
        "colab": {
          "base_uri": "https://localhost:8080/"
        },
        "id": "y9rBsbf5ttWZ",
        "outputId": "96a5d6db-18f0-4e8e-f0cb-589a24163e3e"
      },
      "execution_count": null,
      "outputs": [
        {
          "output_type": "stream",
          "name": "stdout",
          "text": [
            "Overwriting temp.cpp\n"
          ]
        }
      ]
    },
    {
      "cell_type": "code",
      "source": [
        "!g++ temp.cpp; echo 3 10 1 3 5 |./a.out #=> Yes 1 1 3 5\n",
        "!g++ temp.cpp; echo 3 9 1 3 5 |./a.out #=> No \n",
        "!g++ temp.cpp; echo 3 9 1 3 2 |./a.out #=> Yes 3 3 2 2"
      ],
      "metadata": {
        "id": "ZJt4fBzW5UBU",
        "outputId": "eb46c5f5-58de-4f65-f611-bbffd35e5ab0",
        "colab": {
          "base_uri": "https://localhost:8080/"
        }
      },
      "execution_count": null,
      "outputs": [
        {
          "output_type": "stream",
          "name": "stdout",
          "text": [
            "Yes\n",
            "No\n",
            "Yes\n"
          ]
        }
      ]
    },
    {
      "cell_type": "code",
      "source": [
        "# これを bitset にできないか => 重複を許すので bitset にはそぐわないのか\n",
        "%%writefile temp.cpp\n",
        "#include <bits/stdc++.h>\n",
        "using namespace std;\n",
        "int main () {\n",
        "    int n, m; cin >> n >> m;\n",
        "    vector<int> vec(n);\n",
        "    for (int i=0; i < n ; i++) {\n",
        "        cin >> vec.at(i);\n",
        "    }\n",
        "    bool ans = false;\n",
        "\n",
        "    for (int temp = 0; temp < (1 << n); temp++){ // このやり方だと同じカードを拾うのが出来ていない\n",
        "        bitset<50> bs(temp);\n",
        "        int sum = 0;\n",
        "        for (int i = 0; i < bs.size(); i++){\n",
        "            if (bs.test(i)) sum += vec.at(i);\n",
        "        }\n",
        "        if (sum == m) ans = true;\n",
        "        sum = 0;\n",
        "    }\n",
        "\n",
        "    if (ans) cout << \"Yes\" << endl;\n",
        "    else cout << \"No\" << endl;\n",
        "}"
      ],
      "metadata": {
        "id": "lWo-jO1t5ebs",
        "outputId": "4243487b-ea03-4d54-a217-c885a7610c14",
        "colab": {
          "base_uri": "https://localhost:8080/"
        }
      },
      "execution_count": null,
      "outputs": [
        {
          "output_type": "stream",
          "name": "stdout",
          "text": [
            "Overwriting temp.cpp\n"
          ]
        }
      ]
    },
    {
      "cell_type": "code",
      "source": [
        "!g++ temp.cpp; echo 3 10 1 3 5 |./a.out #=> Yes 1 1 3 5\n",
        "!g++ temp.cpp; echo 3 9 1 3 5 |./a.out #=> No \n",
        "!g++ temp.cpp; echo 3 9 1 3 2 |./a.out #=> Yes 3 3 2 2"
      ],
      "metadata": {
        "id": "sN53f9MH5eH4",
        "outputId": "c89cb3a4-49bc-48dd-c721-dc3ba925773f",
        "colab": {
          "base_uri": "https://localhost:8080/"
        }
      },
      "execution_count": null,
      "outputs": [
        {
          "output_type": "stream",
          "name": "stdout",
          "text": [
            "No\n",
            "Yes\n",
            "No\n"
          ]
        }
      ]
    },
    {
      "cell_type": "code",
      "source": [
        "# 実験 重複あり全探索 => ネットにあった例\n",
        "%%writefile temp.cpp\n",
        "#include <bits/stdc++.h>\n",
        "using namespace std;\n",
        "\n",
        "vector<int> buf;\n",
        "\n",
        "void dfs(int i, const int size, const int range_start, const int range_end)\n",
        "{\n",
        "    if (i == size) {\n",
        "        // ここで所望の作業を行う\n",
        "        for(int i = 0; i < buf.size(); ++i){\n",
        "            cout << buf[i] << \" \";\n",
        "        }\n",
        "        cout << endl;\n",
        "    }\n",
        "    else{\n",
        "        for(int j = range_start; j <= range_end; ++j){\n",
        "            buf[i] = j;\n",
        "            dfs(i + 1, size, range_start, range_end);\n",
        "        }\n",
        "    }\n",
        "}\n",
        "\n",
        "int main(void)\n",
        "{\n",
        "    int size = 3;\n",
        "    int range_start = 1;\n",
        "    int range_end = 5;\n",
        "    \n",
        "    buf.resize(size);\n",
        "    dfs(0, size, range_start, range_end);\n",
        "}"
      ],
      "metadata": {
        "id": "aH1iIKYXoISi",
        "colab": {
          "base_uri": "https://localhost:8080/"
        },
        "outputId": "98ca5ecc-a86f-4ac3-9dde-2e589976b01f"
      },
      "execution_count": null,
      "outputs": [
        {
          "output_type": "stream",
          "name": "stdout",
          "text": [
            "Writing temp.cpp\n"
          ]
        }
      ]
    },
    {
      "cell_type": "code",
      "source": [
        "!g++ temp.cpp; ./a.out"
      ],
      "metadata": {
        "id": "Bozo7GJy0qb-"
      },
      "execution_count": null,
      "outputs": []
    },
    {
      "cell_type": "code",
      "source": [
        "# 上のプログラムを理解のために書き直す\n",
        "# cout はせずに vector<int> を返す関数にしたい => とりあえず失敗!!!!\n",
        "# 先へ進む\n",
        "%%script false\n",
        "\n",
        "%%writefile temp.cpp\n",
        "#include <bits/stdc++.h>\n",
        "using namespace std;\n",
        "\n",
        "vector<vector<int>> dfs(int i, int j, const int row, const int column, const int range_start) {\n",
        "    vector<vector<int>> result_vec(row, vector<int>(column));\n",
        "    if ((i == row) && (j == column)) return result_vec;\n",
        "    else if (i == row) {\n",
        "        j++;\n",
        "        i = 0;\n",
        "    } else {\n",
        "        for(int k = range_start; k <= range_start + column; k++){\n",
        "            result_vec.at(i).at(j) = k;\n",
        "            result_vec += dfs(i + 1, j, row, column, range_start);\n",
        "        }\n",
        "    }\n",
        "}\n",
        "\n",
        "string formatVecInt(vector<int> vec){\n",
        "    string str = \"\";\n",
        "    str +=\"{\";\n",
        "    bool isFirst = true;\n",
        "    for (auto item : vec){\n",
        "        if(!isFirst) str += \", \";\n",
        "        str += to_string(item);\n",
        "        isFirst = false;\n",
        "    };\n",
        "    str += \"}\";\n",
        "    return str;\n",
        "}\n",
        "\n",
        "string formatVecStr(vector<string> vec){\n",
        "    if (vec.empty()) return \"\";\n",
        "    string str = \"\";\n",
        "    str +=\"{\";\n",
        "    bool isFirst = true;\n",
        "    for (auto item : vec){\n",
        "        if(!isFirst) str += \", \";\n",
        "        // str = str + '\"' + item + '\"';\n",
        "        str = str + item;\n",
        "        isFirst = false;\n",
        "    };\n",
        "    str += \"}\";\n",
        "    return str;\n",
        "}\n",
        "\n",
        "int main(void) {\n",
        "    int row = 2;\n",
        "    int column = 3;\n",
        "    int range_start = 1;\n",
        "\n",
        "\n",
        "    vector<vector<int>> vec(row, vector<int> (column));\n",
        "    vec = dfs(0, 0, row, column, range_start);\n",
        "\n",
        "    vector<string> vecstr(vec.size());\n",
        "    transform(vec.begin(), vec.end(), vecstr.begin(), formatVecInt);\n",
        "    cout << formatVecStr(vecstr) << endl;\n",
        "}"
      ],
      "metadata": {
        "id": "yeZH2gN03c8m",
        "colab": {
          "base_uri": "https://localhost:8080/"
        },
        "outputId": "9311e21e-0d46-43eb-a132-01b109b8a7e2"
      },
      "execution_count": 34,
      "outputs": [
        {
          "output_type": "stream",
          "name": "stdout",
          "text": [
            "Overwriting temp.cpp\n"
          ]
        }
      ]
    },
    {
      "cell_type": "markdown",
      "source": [
        "# いまここ"
      ],
      "metadata": {
        "id": "JGHWrEGFhiKX"
      }
    },
    {
      "cell_type": "code",
      "source": [
        "!g++ -g temp.cpp; ./a.out"
      ],
      "metadata": {
        "id": "tHcSa5ARz4cA"
      },
      "execution_count": null,
      "outputs": []
    },
    {
      "cell_type": "code",
      "source": [
        "4 種類の全探索\n",
        "実は、全探索は 4 つの種類があります。\n",
        "\n",
        "本当に全通り調べ上げる「全探索」\n",
        "前述の問題の、計算回数 N4N4 回のアルゴリズムがそれです。\n",
        "大体の場合、多重ループで解けます。\n",
        "工夫して探索の通り数を減らす「全探索」\n",
        "例えば、前述の問題であれば、(a,b,c)(a,b,c) の組を全通り調べ上げるとします。(a,b,c)(a,b,c) の組が決まったら、後は Ad=M−Ka−Kb−KcAd=M−Ka−Kb−Kc であるような dd が存在するか調べれば良いです。予め長さ 108108 の bool 型配列を定義し、11 以上 108108 以下の各整数が存在するかどうかを最初に記録しておけば、高速に調べられます。\n",
        "大体の場合、多重ループで上手くいきます。\n",
        "\n",
        "ビット全探索\n",
        "多重ループではうまくいかない全探索の 1 つです。\n",
        "詳しくは、こちらの記事を参照してください。\n",
        "順列全探索\n",
        "多重ループではうまくいかない全探索の 1 つです。\n",
        "詳しくは、こちらの記事を参照してください。\n",
        "全探索の問題\n",
        "AtCoder Beginner Contest 144 B - 81　基礎の基礎です。\n",
        "AtCoder Beginner Contest 150 B - Count ABC　全探索というか、「全通り調べ上げます」。\n",
        "AtCoder Beginner Contest 122 B - ATCoder　これも基本です。\n",
        "AtCoder Beginner Contest 136 B - Uneven Numbers　これも基本です。\n",
        "AtCoder Beginner Contest 106 B - 105　これも基本です。\n",
        "AtCoder Beginner Contest 120 B - K-th Common Divisors　単純な考察が必要ですが、基本です。\n",
        "AtCoder Beginner Contest 057 C - Digits in Multiplication　探索通り数を頑張って減らします。\n",
        "AtCoder Beginner Contest 095 C - Half and Half　探索通り数を頑張って減らします。\n",
        "三井住友信託銀行プログラミングコンテスト2019 D - Lucky PIN　探索通り数を頑張って減らします。\n",
        "AtCoder Beginner Contest 128 C - Switches　ビット全探索の基本です。\n",
        "AtCoder Beginner Contest 147 C - HonestOrUnkind2　ビット全探索の基本です。\n",
        "AtCoder Beginner Contest 145 C - Average Length　順列全探索の基本です。\n",
        "AtCoder Beginner Contest 150 C - Count Order　順列全探索で解けます。\n",
        "AtCoder Beginner Contest 054 C - One-stroke Path　順列全探索で解けます。\n",
        "1-6-5. コンテストに出まくる！\n",
        "\n",
        "最後に、最も重要なことを書きます。これは、コンテストに出場することです。\n",
        "\n",
        "AtCoder では、最初のレーティングが 0 であるため、コンテストに出場しなければレーティングが上がりません。\n",
        "仮に、あなたの実力が茶色コーダーの条件であるレーティング 400 より少し上だとしても、およそ 10回程度コンテストに出場しなければ茶色になれません。そのため、毎週コンテストに出続けることが重要です。\n",
        "\n",
        "また、コンテストに出場することで、AtCoder の問題に慣れたり、問題の感覚がつかめたりするので、結果的に実力向上に繋がります。\n",
        "\n",
        "つまり、コンテスト出場は AtCoder 実力向上の最大の近道です。\n",
        "\n",
        "実際に、以下の表のように、コンテストに多く参加したほうがレーティングの中央値は圧倒的に高いです。（伸びるタイミングは人によって違うので、実際に何回か参加してみて中央値行かなくても全然気にしないでください。）\n",
        "\n",
        "参加回数\tレーティングの中央値\n",
        "1 回\t15\n",
        "2 回\t62\n",
        "5 回\t241\n",
        "10 回\t521\n",
        "20 回\t884\n",
        "100 回以上 (参考)\t1657\n",
        "※ 2020/2/17 時点でのデータ。\n",
        "\n",
        "コンテストの種類 / 初心者出るべきコンテスト\n",
        "基本的に、AtCoder には 4 種類のコンテストがあります。\n",
        "(2020/08/03 AGC のレート変動範囲を修正 (更新) しました)\n",
        "\n",
        "コンテスト\t問題数\t時間\tレート変動対象\n",
        "AtCoder Beginner Contest (ABC)\t6 問\t100 分\t0 ～ 1999\n",
        "AtCoder Regular Contest (ARC)\t6 問\t120 分程度\t0 ～ 2799\n",
        "AtCoder Grand Contest (AGC)\t6 問\t150 分程度\t1200 以上（参加できるのは全員）6\n",
        "\n",
        "そのうち、初心者には「AtCoder Beginner Contest」に出場することがお勧めです。\n",
        "その他のコンテストにも出場して良いですが、1 問しか解けなかったりしてモチベ管理が大変になる場合があります。\n",
        "\n",
        "ちなみに、キーエンスプログラミングコンテストや、\n",
        "ドワンゴからの挑戦状などの企業名が付いたコンテストがありますが、\n",
        "基本的には ABC クラスか ARC クラスのいずれかです。「コンテスト一覧」で青丸が付いていれば ABC クラス、\n",
        "橙丸が付いていれば ARC クラス、赤丸が付いていれば AGC クラスです。黒丸は非公式コンテストなど、レーティングが更新されないコンテストです。\n",
        "36.PNG\n",
        "\n",
        "モチベ管理こそが重要\n",
        "競プロのコンテストでは、成功するときと失敗するときがあります。例えば、\n",
        "\n",
        "コンテストで失敗してレーティングを 50 下げてしまった。\n",
        "最初の AtCoder Beginner Contest で 1 問しか正解できなかった。\n",
        "などで、競プロをやめる人がとても多いのが現状です。実際に、AtCoder コンテストに参加\n",
        "したことがある人の約 6 割が参加回数 4 回以下です。でも、前述のとおり、コンテスト参加回数が多い\n",
        "ほどレーティング中央値が上がります。人それぞれ、実力が伸びるタイミングは違いますが、モチベーショ\n",
        "ンを維持して、楽しく競プロをやっていくことが大切です。\n",
        "\n",
        "\n",
        "1-7. Tips: AtCoder の過去問を解ける便利なサイト\n",
        "皆さんの中には、\n",
        "\n",
        "コンテストに出るだけでは問題数が足りない！\n",
        "もっと練習して実力を上げたい！\n",
        "\n",
        "と思う人もいるのではないでしょうか。そこで、便利なサイトを紹介します。これは、\n",
        "\n",
        "AtCoder Problems\n",
        "\n",
        "です！　AtCoder で解ける過去問が表形式でまとまっているだけでなく、\n",
        "自分のユーザー名を入れると、自分が各問題を既に正解しているかどうかが表示されます。\n",
        "過去問の検索だけでなく、コンテストに向けた練習の管理にも役立ちます。皆さん積極的に使っていきましょう。\n",
        "20.png\n",
        "\n",
        "\n",
        "1-8. おまけ：競プロにおける C++ のすすめ\n",
        "AtCoder では、様々なプログラミング言語で競技を行うことができます。実際に、\n",
        "\n",
        "C++14\n",
        "Java\n",
        "Python\n",
        "C#\n",
        "Ruby\n",
        "などを含む、50種類以上のプログラミング言語で提出をすることができます。もちろん多様性はあってよいのですが、最もやりやすいのは C++ だと思います。\n",
        "\n",
        "C++ をすすめる理由\n",
        "私が競プロに C++ をすすめる理由は、主に 3 つあります。\n",
        "\n",
        "AtCoder ユーザーの半数以上が C++ を使っている。7\n",
        "AtCoder 公式解説のソースコード、解説記事のソースコードの大半が C++ である。\n",
        "プログラミングコンテストチャレンジブック（蟻本）、プログラミングコンテスト攻略のためのアルゴリズムとデータ構造などの競プロ関連の本のほとんどで、サンプルソースコードとして C++ が使われている。\n",
        "実行速度が他の言語に比べて高速であるため、競プロに有利である。実際に、Python のプログラムより C++ のプログラムの方が 4 倍以上多くのループを回せる。\n",
        "C++ 以外をやってはいけないのか\n",
        "プログラミング言語には多様性があるので、別に C++ 以外で競技をしても全く構いません。当然、最も書きやすい言語でコンテストに参加するのは良いことです。8\n",
        "\n",
        "ただ、解説記事や競プロ関連本の多くは C++ で書かれているので、競プロをやる機会に C++ を学習して、少なくとも C++ のソースコードが読めるようにした方が、やりやすいと思います。\n",
        "\n",
        "\n",
        "1-9. 本記事を終えた次は？\n",
        "本記事の内容をマスターできれば、茶色コーダーになれると思います。茶色コーダーといったら、AtCoder の上位 35% ですので、十分立派だと思います。\n",
        "\n",
        "しかし、緑コーダーや水色コーダーになってみたい！　という夢を持つのはいいことです。初級編より高いレベルもフォローしてありますので、是非中級編・上級編もお読みください。\n",
        "\n",
        "（初心者の方でも、競プロ中級者・上級者にはどんなアルゴリズム・知識・練習方法が求められるのか知る機会になるので、興味があれば是非お読みください。）\n",
        "\n",
        "中級編\n",
        "レッドコーダーが教える、競プロ・AtCoder上達のガイドライン【中級編：目指せ水色コーダー！】\n",
        "上級編\n",
        "レッドコーダーが教える、競プロ・AtCoder上達のガイドライン【上級編：目指せレッドコーダー！】\n",
        "-1. つづく\n",
        "次は、中級編に続きます。\n",
        "\n",
        "AtCoder 株式会社は、高橋 直大（@chokudai）さんによって 2012 年 6 月 20 日に設立された会社です。2016 年から国際化し、2019 年には電通から 3 億円の出資を受けた、近年発達中の企業です。 ↩\n",
        "\n",
        "一般的に、パソコンの処理性能は、一般的に 1 秒あたり 5000 万回 〜 5 億回のループを回すことができる程度です。競技プログラミングでは、およそ 2 秒程度で実行が終わらなければ不正解となるため、1 億回 〜 10 億回のループが回せるということになります。 ↩\n",
        "\n",
        "例えば、AtCoder World Tour Finals E - e という問題が挙げられます。問題名が一文字ながら、AtCoder 史上最も難しい問題の一つです。 ↩\n",
        "\n",
        "2020 年 8 月 3 日時点です。今後さらに増える可能性があります。 ↩\n",
        "\n",
        "私はまだ高校 2 年生であるため Twitter は鍵アカウントであり、それゆえ多くの方々の質問に答えることはできません。ですが、私が初級者・中級者だった時期には大変多くの方々を頼ってきました。競プロコミュニティーで優しい人はたくさんいます。でも、もし私に頼りたい人がいれば、私が大学生になるまでお待ちください。(2/20 02:40 AM. 追記) ↩\n",
        "\n",
        "2020 年 8 月 3 日時点です。今後変更される可能性があります。（元々は全員レート変動するコンテストだったのですが、コンテストの難化などの理由により、2020 年 5 月頃にレート変動範囲が変わりました。） ↩\n",
        "\n",
        "例えば、AtCoder Beginner Contest 152 において、22230提出 / 42967提出が C++ または C++14 です。 ↩\n",
        "\n",
        "例えば、AtCoder 社長の @chokudai さんは C# でコーディングすることが多いです。 ↩\n",
        "\n",
        "\n",
        "\n",
        "e869120\n",
        "E869120\n",
        "@e869120\n",
        "東京大学 1 年の米田（E869120）です。 AtCoder・CodeForces でレッドコーダーです。国際情報オリンピックにも出場しています。競技プログラミング関連のことを記事にしていきます。よろしくお願い致します。 著書『「アルゴリズム×数学」が基礎からしっかり身につく本』 https://amazon.co.jp/dp/4297125218/\n",
        "フォロー\n"
      ],
      "metadata": {
        "id": "ioYv8f4h5Sox"
      },
      "execution_count": null,
      "outputs": []
    }
  ]
}