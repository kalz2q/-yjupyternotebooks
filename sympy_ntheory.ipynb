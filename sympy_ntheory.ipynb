{
  "nbformat": 4,
  "nbformat_minor": 0,
  "metadata": {
    "colab": {
      "name": "sympy_ntheory.ipynb",
      "provenance": [],
      "authorship_tag": "ABX9TyMoPxUiTt0VMQo/GccxMHXK",
      "include_colab_link": true
    },
    "kernelspec": {
      "name": "python3",
      "display_name": "Python 3"
    },
    "language_info": {
      "name": "python"
    }
  },
  "cells": [
    {
      "cell_type": "markdown",
      "metadata": {
        "id": "view-in-github",
        "colab_type": "text"
      },
      "source": [
        "<a href=\"https://colab.research.google.com/github/kalz2q/mycolabnotebooks/blob/master/sympy_ntheory.ipynb\" target=\"_parent\"><img src=\"https://colab.research.google.com/assets/colab-badge.svg\" alt=\"Open In Colab\"/></a>"
      ]
    },
    {
      "cell_type": "code",
      "metadata": {
        "id": "2tu8Eau-v3p5"
      },
      "source": [
        ""
      ],
      "execution_count": null,
      "outputs": []
    },
    {
      "cell_type": "markdown",
      "metadata": {
        "id": "RxfJfZDyv652"
      },
      "source": [
        ""
      ]
    },
    {
      "cell_type": "markdown",
      "metadata": {
        "id": "G0BQJuPX9U1P"
      },
      "source": [
        "# sympy.ntheory に脇道\n",
        "\n",
        "\n",
        "https://docs.sympy.org/latest/modules/ntheory.html#module-sympy.ntheory.modular"
      ]
    },
    {
      "cell_type": "code",
      "metadata": {
        "colab": {
          "base_uri": "https://localhost:8080/",
          "height": 175
        },
        "id": "EXkio-TdCoXB",
        "outputId": "a142ac95-168e-44b7-fccc-a0507908abe6"
      },
      "source": [
        "# エラトステネスの篩\n",
        "from sympy import sieve\n",
        "sieve._reset()\n",
        "display(25 in sieve) # 25 は素数表 sieve にあるか => False\n",
        "display(sieve) # 単純な素数表ではないのだ!!!!\n",
        "display(type(sieve))\n",
        "display(type(sieve._list))\n",
        "display(sieve._list)\n",
        "display(sieve[3])\n",
        "display([i for i in sieve._list])"
      ],
      "execution_count": null,
      "outputs": [
        {
          "output_type": "display_data",
          "data": {
            "text/plain": [
              "False"
            ]
          },
          "metadata": {
            "tags": []
          }
        },
        {
          "output_type": "display_data",
          "data": {
            "text/plain": [
              "<prime sieve (9): 2, 3, 5, ... 19, 23\n",
              "totient sieve (6): 0, 1, 1, ... 2, 4\n",
              "mobius sieve (6): 0, 1, -1, ... 0, -1>"
            ]
          },
          "metadata": {
            "tags": []
          }
        },
        {
          "output_type": "display_data",
          "data": {
            "text/plain": [
              "sympy.ntheory.generate.Sieve"
            ]
          },
          "metadata": {
            "tags": []
          }
        },
        {
          "output_type": "display_data",
          "data": {
            "text/plain": [
              "array.array"
            ]
          },
          "metadata": {
            "tags": []
          }
        },
        {
          "output_type": "display_data",
          "data": {
            "text/plain": [
              "array('l', [2, 3, 5, 7, 11, 13, 17, 19, 23])"
            ]
          },
          "metadata": {
            "tags": []
          }
        },
        {
          "output_type": "display_data",
          "data": {
            "text/plain": [
              "5"
            ]
          },
          "metadata": {
            "tags": []
          }
        },
        {
          "output_type": "display_data",
          "data": {
            "text/plain": [
              "[2, 3, 5, 7, 11, 13, 17, 19, 23]"
            ]
          },
          "metadata": {
            "tags": []
          }
        }
      ]
    },
    {
      "cell_type": "code",
      "metadata": {
        "colab": {
          "base_uri": "https://localhost:8080/",
          "height": 52
        },
        "id": "TyTkzv6SDjyg",
        "outputId": "a5d747d0-381f-45bb-ae23-a0da9eb3a36e"
      },
      "source": [
        "# same as 30 in sieve without return\n",
        "from sympy import sieve\n",
        "sieve._reset()\n",
        "sieve.extend(30)\n",
        "display(sieve[3]==5)\n",
        "display(sieve._list)"
      ],
      "execution_count": null,
      "outputs": [
        {
          "output_type": "display_data",
          "data": {
            "text/plain": [
              "True"
            ]
          },
          "metadata": {
            "tags": []
          }
        },
        {
          "output_type": "display_data",
          "data": {
            "text/plain": [
              "array('l', [2, 3, 5, 7, 11, 13, 17, 19, 23, 29])"
            ]
          },
          "metadata": {
            "tags": []
          }
        }
      ]
    },
    {
      "cell_type": "code",
      "metadata": {
        "colab": {
          "base_uri": "https://localhost:8080/",
          "height": 70
        },
        "id": "ra1D2OA0L-ax",
        "outputId": "d050bdd3-306d-433c-c787-d618c59b4312"
      },
      "source": [
        "# nth prime\n",
        "from sympy import sieve, prime\n",
        "sieve._reset()\n",
        "n=20\n",
        "sieve.extend_to_no(n)\n",
        "display(sieve[n])\n",
        "display(prime(n))\n",
        "display(sieve._list)"
      ],
      "execution_count": null,
      "outputs": [
        {
          "output_type": "display_data",
          "data": {
            "text/plain": [
              "71"
            ]
          },
          "metadata": {
            "tags": []
          }
        },
        {
          "output_type": "display_data",
          "data": {
            "text/plain": [
              "71"
            ]
          },
          "metadata": {
            "tags": []
          }
        },
        {
          "output_type": "display_data",
          "data": {
            "text/plain": [
              "array('l', [2, 3, 5, 7, 11, 13, 17, 19, 23, 29, 31, 37, 41, 43, 47, 53, 59, 61, 67, 71, 73, 79, 83, 89])"
            ]
          },
          "metadata": {
            "tags": []
          }
        }
      ]
    },
    {
      "cell_type": "code",
      "metadata": {
        "colab": {
          "base_uri": "https://localhost:8080/",
          "height": 87
        },
        "id": "iltBWPukNRkh",
        "outputId": "bc7f1276-c373-4426-f74b-9ed9b09548cd"
      },
      "source": [
        "# isprime\n",
        "from sympy import sieve,prime,isprime\n",
        "sieve._reset()\n",
        "display(isprime(1299709))\n",
        "display(sieve._list)\n",
        "display(sieve[10])\n",
        "display(sieve._list)"
      ],
      "execution_count": null,
      "outputs": [
        {
          "output_type": "display_data",
          "data": {
            "text/plain": [
              "True"
            ]
          },
          "metadata": {
            "tags": []
          }
        },
        {
          "output_type": "display_data",
          "data": {
            "text/plain": [
              "array('l', [2, 3, 5, 7, 11, 13])"
            ]
          },
          "metadata": {
            "tags": []
          }
        },
        {
          "output_type": "display_data",
          "data": {
            "text/plain": [
              "29"
            ]
          },
          "metadata": {
            "tags": []
          }
        },
        {
          "output_type": "display_data",
          "data": {
            "text/plain": [
              "array('l', [2, 3, 5, 7, 11, 13, 17, 19, 23, 29, 31])"
            ]
          },
          "metadata": {
            "tags": []
          }
        }
      ]
    },
    {
      "cell_type": "code",
      "metadata": {
        "id": "hvFFfya9ODp5",
        "colab": {
          "base_uri": "https://localhost:8080/"
        },
        "outputId": "2b6b6b39-18d7-41e3-a37f-cef98947bc86"
      },
      "source": [
        "# mobiusrange(a,b) # b is outside of range\n",
        "# 下の例では 7,8,9,10,11,12,13,14,15,16,17 についてメビウス関数の値を示す\n",
        "# メビウス関数は素因数分解して中に平方を含んでいれば 0 => 8,9,12,16\n",
        "# 因子が奇数個の場合は -1 => 7,11,13,17\n",
        "# 因子が偶数個の場合は 1 => 10,14,15\n",
        "# 従って素数とは関係ない\n",
        "from sympy import sieve\n",
        "print([i for i in sieve.mobiusrange(7, 18)])\n"
      ],
      "execution_count": null,
      "outputs": [
        {
          "output_type": "stream",
          "text": [
            "[-1, 0, 0, 1, -1, 0, -1, 1, 1, 0, -1]\n"
          ],
          "name": "stdout"
        }
      ]
    },
    {
      "cell_type": "code",
      "metadata": {
        "id": "SwYeDn1vCaZ3",
        "colab": {
          "base_uri": "https://localhost:8080/"
        },
        "outputId": "e0b4d937-a52c-4bda-dab2-81a319d9ce7a"
      },
      "source": [
        "# primerange\n",
        "from sympy import sieve\n",
        "print([i for i in sieve.primerange(7, 18)])"
      ],
      "execution_count": null,
      "outputs": [
        {
          "output_type": "stream",
          "text": [
            "[7, 11, 13, 17]\n"
          ],
          "name": "stdout"
        }
      ]
    },
    {
      "cell_type": "code",
      "metadata": {
        "colab": {
          "base_uri": "https://localhost:8080/",
          "height": 34
        },
        "id": "Tg6BMBnyDF44",
        "outputId": "f08aa3f6-33fd-440b-d36c-e2bd6ec9ab26"
      },
      "source": [
        "# primerange と同じものを書いてみる\n",
        "from sympy import sieve\n",
        "n=30\n",
        "sieve.extend_to_no(n)\n",
        "display([i for i in sieve._list if (i >= 7) & (i < 18)])"
      ],
      "execution_count": null,
      "outputs": [
        {
          "output_type": "display_data",
          "data": {
            "text/plain": [
              "[7, 11, 13, 17]"
            ]
          },
          "metadata": {
            "tags": []
          }
        }
      ]
    },
    {
      "cell_type": "code",
      "metadata": {
        "colab": {
          "base_uri": "https://localhost:8080/",
          "height": 70
        },
        "id": "GPKADkdgGzLw",
        "outputId": "ca5f237d-055f-42e9-da1f-abd982d646f1"
      },
      "source": [
        "# search 与えられた値の上下の素数を tuple で返す\n",
        "from sympy import sieve\n",
        "n = 8\n",
        "display(sieve.search(n))\n",
        "a, b = sieve.search(n)\n",
        "display(sieve[a], sieve[b])"
      ],
      "execution_count": null,
      "outputs": [
        {
          "output_type": "display_data",
          "data": {
            "text/plain": [
              "(4, 5)"
            ]
          },
          "metadata": {
            "tags": []
          }
        },
        {
          "output_type": "display_data",
          "data": {
            "text/plain": [
              "7"
            ]
          },
          "metadata": {
            "tags": []
          }
        },
        {
          "output_type": "display_data",
          "data": {
            "text/plain": [
              "11"
            ]
          },
          "metadata": {
            "tags": []
          }
        }
      ]
    },
    {
      "cell_type": "markdown",
      "metadata": {
        "id": "X4Y7dYMOIAGQ"
      },
      "source": [
        "totient\n",
        "\n",
        "オイラーのトーシェント関数とは、正の整数 $n$ に対して、 $n$ と互いに素である 1 以上 $n$ 以下の自然数の個数 $\\varphi (n)$ を与える数論的関数 $\\varphi$ である\n"
      ]
    },
    {
      "cell_type": "code",
      "metadata": {
        "colab": {
          "base_uri": "https://localhost:8080/"
        },
        "id": "eXYkm4qRfMD3",
        "outputId": "5bd2910b-9867-4813-8b54-a31275654f9c"
      },
      "source": [
        "# totientrange range について totient 数を返す\n",
        "# 素数の場合 n-1 個になる\n",
        "from sympy import sieve\n",
        "print([i for i in sieve.totientrange(7, 18)])"
      ],
      "execution_count": null,
      "outputs": [
        {
          "output_type": "stream",
          "text": [
            "[6, 4, 6, 4, 10, 4, 12, 6, 8, 8, 16]\n"
          ],
          "name": "stdout"
        }
      ]
    },
    {
      "cell_type": "code",
      "metadata": {
        "colab": {
          "base_uri": "https://localhost:8080/",
          "height": 70
        },
        "id": "mLT-68shgiMq",
        "outputId": "f6c13a77-9ed6-496e-a600-7c791fa70f26"
      },
      "source": [
        "# nth prime n番目の素数\n",
        "from sympy import prime\n",
        "display(prime(10))\n",
        "display(prime(1))\n",
        "display(prime(100000))\n"
      ],
      "execution_count": null,
      "outputs": [
        {
          "output_type": "display_data",
          "data": {
            "text/plain": [
              "29"
            ]
          },
          "metadata": {
            "tags": []
          }
        },
        {
          "output_type": "display_data",
          "data": {
            "text/plain": [
              "31"
            ]
          },
          "metadata": {
            "tags": []
          }
        },
        {
          "output_type": "display_data",
          "data": {
            "text/plain": [
              "1299709"
            ]
          },
          "metadata": {
            "tags": []
          }
        }
      ]
    },
    {
      "cell_type": "code",
      "metadata": {
        "id": "wTN69IROhdB0",
        "colab": {
          "base_uri": "https://localhost:8080/",
          "height": 37
        },
        "outputId": "3ede2fa6-8326-43e6-d217-59cf0cc749bd"
      },
      "source": [
        "#primepi n を含み n より小さい素数の数 primepi(10) => 2,3,5,7 => 4 個\n",
        "from sympy import *\n",
        "n = 10\n",
        "primepi(n)"
      ],
      "execution_count": null,
      "outputs": [
        {
          "output_type": "execute_result",
          "data": {
            "text/latex": "$\\displaystyle 4$",
            "text/plain": [
              "4"
            ]
          },
          "metadata": {
            "tags": []
          },
          "execution_count": 25
        }
      ]
    },
    {
      "cell_type": "code",
      "metadata": {
        "colab": {
          "base_uri": "https://localhost:8080/",
          "height": 54
        },
        "id": "vuJW8kFXif3N",
        "outputId": "c6e7f575-1f71-4e3e-9fbd-538eb501a05d"
      },
      "source": [
        "# 対数積分 logarithmic integral function オイラーの対数積分\n",
        "from sympy import *\n",
        "n = 10\n",
        "print(li(n))\n",
        "li(n).evalf()"
      ],
      "execution_count": null,
      "outputs": [
        {
          "output_type": "stream",
          "text": [
            "li(10)\n"
          ],
          "name": "stdout"
        },
        {
          "output_type": "execute_result",
          "data": {
            "text/latex": "$\\displaystyle 6.1655995047873$",
            "text/plain": [
              "6.16559950478730"
            ]
          },
          "metadata": {
            "tags": []
          },
          "execution_count": 27
        }
      ]
    },
    {
      "cell_type": "code",
      "metadata": {
        "colab": {
          "base_uri": "https://localhost:8080/"
        },
        "id": "XNrNgXrSnCWA",
        "outputId": "95cf87f3-73ba-443f-c54b-6e4bc7f5ad23"
      },
      "source": [
        "# nextprime\n",
        "from sympy import nextprime\n",
        "[(i,nextprime(i)) for i in range (10,15)]"
      ],
      "execution_count": null,
      "outputs": [
        {
          "output_type": "execute_result",
          "data": {
            "text/plain": [
              "[(10, 11), (11, 13), (12, 13), (13, 17), (14, 17)]"
            ]
          },
          "metadata": {
            "tags": []
          },
          "execution_count": 28
        }
      ]
    },
    {
      "cell_type": "code",
      "metadata": {
        "colab": {
          "base_uri": "https://localhost:8080/"
        },
        "id": "4nYPcrIn6ikF",
        "outputId": "f6ed580c-8a48-4d98-c223-f1f233488823"
      },
      "source": [
        "# prevprime\n",
        "from sympy import prevprime\n",
        "[(i,prevprime(i)) for i in range (10,15)]"
      ],
      "execution_count": null,
      "outputs": [
        {
          "output_type": "execute_result",
          "data": {
            "text/plain": [
              "[(10, 7), (11, 7), (12, 11), (13, 11), (14, 13)]"
            ]
          },
          "metadata": {
            "tags": []
          },
          "execution_count": 29
        }
      ]
    },
    {
      "cell_type": "code",
      "metadata": {
        "colab": {
          "base_uri": "https://localhost:8080/"
        },
        "id": "bx1vhGm765qp",
        "outputId": "fcd4dd52-fbfe-4e58-f2e5-bf148f91c6e5"
      },
      "source": [
        "# primerange, sieve\n",
        "from sympy import primerange, sieve\n",
        "print([i for i in primerange(1,30)])\n",
        "print([i for i in sieve.primerange(1,30)])\n",
        "print(list(sieve.primerange(1,30)))\n"
      ],
      "execution_count": null,
      "outputs": [
        {
          "output_type": "stream",
          "text": [
            "[2, 3, 5, 7, 11, 13, 17, 19, 23, 29]\n",
            "[2, 3, 5, 7, 11, 13, 17, 19, 23, 29]\n",
            "[2, 3, 5, 7, 11, 13, 17, 19, 23, 29]\n"
          ],
          "name": "stdout"
        }
      ]
    },
    {
      "cell_type": "code",
      "metadata": {
        "colab": {
          "base_uri": "https://localhost:8080/"
        },
        "id": "AH-r7BSY7Zeg",
        "outputId": "7b6987d0-093b-4662-9cd2-1c8be8bba146"
      },
      "source": [
        "# randprime, isprime\n",
        "from sympy import randprime, isprime\n",
        "print(randprime(1,30))\n",
        "print(isprime(randprime(1,30)))"
      ],
      "execution_count": null,
      "outputs": [
        {
          "output_type": "stream",
          "text": [
            "17\n",
            "True\n"
          ],
          "name": "stdout"
        }
      ]
    },
    {
      "cell_type": "code",
      "metadata": {
        "id": "V5IrYvbmJVfL",
        "colab": {
          "base_uri": "https://localhost:8080/"
        },
        "outputId": "c3fe860b-bf85-40c9-bb5e-16b8c47ece44"
      },
      "source": [
        "from sympy.ntheory.generate import primorial, primerange\n",
        "from sympy import factorint, Mul, primefactors, sqrt\n",
        "print(primorial(4)) # the first 4 primes are 2, 3, 5, 7\n",
        "print(primorial(4, nth=False)) # primes <= 4 are 2 and 3\n",
        "print(primorial(1))\n",
        "print(primorial(1, nth=False))\n",
        "print(sqrt(101).evalf())\n",
        "print(primorial(sqrt(101), nth=False))\n",
        "print(factorint(primorial(4) + 1))\n",
        "print(factorint(210))\n",
        "print(factorint(primorial(4) - 1))\n",
        "p = list(primerange(10, 20)) # generate all primes in a given range\n",
        "print(p)\n",
        "print(sorted(set(primefactors(Mul(*p) + 1)).difference(set(p))))\n"
      ],
      "execution_count": null,
      "outputs": [
        {
          "output_type": "stream",
          "text": [
            "210\n",
            "6\n",
            "2\n",
            "1\n",
            "10.0498756211209\n",
            "210\n",
            "{211: 1}\n",
            "{2: 1, 3: 1, 5: 1, 7: 1}\n",
            "{11: 1, 19: 1}\n",
            "[11, 13, 17, 19]\n",
            "[2, 5, 31, 149]\n"
          ],
          "name": "stdout"
        }
      ]
    },
    {
      "cell_type": "code",
      "metadata": {
        "id": "MHifYvBKKrLQ",
        "colab": {
          "base_uri": "https://localhost:8080/"
        },
        "outputId": "b2b265dc-c45d-4639-de78-2c4759f47c76"
      },
      "source": [
        "from sympy.ntheory.generate import cycle_length\n",
        "func = lambda i: (i**2 + 1) % 51\n",
        "print(next(cycle_length(func, 4)))\n",
        "n = cycle_length(func, 4, values=True)\n",
        "print(list(ni for ni in n))\n",
        "print(next(cycle_length(func,4,nmax=4)))\n",
        "print([ni for ni in cycle_length(func,4,nmax=4,values=True)])"
      ],
      "execution_count": null,
      "outputs": [
        {
          "output_type": "stream",
          "text": [
            "(6, 2)\n",
            "[17, 35, 2, 5, 26, 14, 44, 50, 2, 5, 26, 14]\n",
            "(4, None)\n",
            "[17, 35, 2, 5]\n"
          ],
          "name": "stdout"
        }
      ]
    },
    {
      "cell_type": "code",
      "metadata": {
        "id": "N-Hj1BrMdzR5",
        "colab": {
          "base_uri": "https://localhost:8080/"
        },
        "outputId": "40e8d70d-af0f-4786-cba5-3f9d50f3a556"
      },
      "source": [
        "from sympy import composite\n",
        "print(composite(36))\n",
        "print(composite(1))\n",
        "print(composite(17737))\n"
      ],
      "execution_count": null,
      "outputs": [
        {
          "output_type": "stream",
          "text": [
            "52\n",
            "4\n",
            "20000\n"
          ],
          "name": "stdout"
        }
      ]
    },
    {
      "cell_type": "code",
      "metadata": {
        "id": "8TdLP8DWeKTS",
        "colab": {
          "base_uri": "https://localhost:8080/"
        },
        "outputId": "c6643aee-29bc-4683-a661-28fe9a024f34"
      },
      "source": [
        "from sympy import compositepi\n",
        "print(compositepi(25))\n",
        "print(compositepi(1))\n",
        "print(compositepi(1000))"
      ],
      "execution_count": null,
      "outputs": [
        {
          "output_type": "stream",
          "text": [
            "15\n",
            "0\n",
            "831\n"
          ],
          "name": "stdout"
        }
      ]
    },
    {
      "cell_type": "code",
      "metadata": {
        "id": "jtXACJOeeX2K",
        "colab": {
          "base_uri": "https://localhost:8080/"
        },
        "outputId": "6f229c92-3ffa-4590-b254-86b40d0abba5"
      },
      "source": [
        "from sympy.ntheory.factor_  import smoothness\n",
        "print(smoothness(2**7*3**2))\n",
        "print(smoothness(2**4*13))\n",
        "print(smoothness(2))"
      ],
      "execution_count": null,
      "outputs": [
        {
          "output_type": "stream",
          "text": [
            "(3, 128)\n",
            "(13, 16)\n",
            "(2, 2)\n"
          ],
          "name": "stdout"
        }
      ]
    },
    {
      "cell_type": "code",
      "metadata": {
        "id": "NDulIWn1evsN",
        "colab": {
          "base_uri": "https://localhost:8080/"
        },
        "outputId": "00424193-632f-4d5e-81b9-d4c7506cc6a7"
      },
      "source": [
        "from sympy.ntheory.factor_  import smoothness_p\n",
        "print(smoothness_p(10431, m=1))\n",
        "print(smoothness_p(10431))\n",
        "print(smoothness_p(10431,power=1))\n",
        "print(smoothness_p(21477639576571, visual=1))"
      ],
      "execution_count": null,
      "outputs": [
        {
          "output_type": "stream",
          "text": [
            "(1, [(3, (2, 2, 4)), (19, (1, 5, 5)), (61, (1, 31, 31))])\n",
            "(-1, [(3, (2, 2, 2)), (19, (1, 3, 9)), (61, (1, 5, 5))])\n",
            "(-1, [(3, (2, 2, 2)), (61, (1, 5, 5)), (19, (1, 3, 9))])\n",
            "p**i=4410317**1 has p-1 B=1787, B-pow=1787\n",
            "p**i=4869863**1 has p-1 B=2434931, B-pow=2434931\n"
          ],
          "name": "stdout"
        }
      ]
    },
    {
      "cell_type": "code",
      "metadata": {
        "id": "Iuumk69FfTKm",
        "colab": {
          "base_uri": "https://localhost:8080/"
        },
        "outputId": "c02c571a-305e-43e1-f56a-214a90114427"
      },
      "source": [
        "print(factorint(17*9))\n",
        "print(smoothness_p(factorint(17*9)))\n",
        "print(smoothness_p(smoothness_p(factorint(17*9))))"
      ],
      "execution_count": null,
      "outputs": [
        {
          "output_type": "stream",
          "text": [
            "{3: 2, 17: 1}\n",
            "p**i=3**2 has p-1 B=2, B-pow=2\n",
            "p**i=17**1 has p-1 B=2, B-pow=16\n",
            "{3: 2, 17: 1}\n"
          ],
          "name": "stdout"
        }
      ]
    },
    {
      "cell_type": "code",
      "metadata": {
        "id": "HSW4cwNWf8Cg",
        "colab": {
          "base_uri": "https://localhost:8080/"
        },
        "outputId": "03d44edb-a9dd-4561-907b-f08dabb2e6ce"
      },
      "source": [
        "from sympy import trailing\n",
        "print(trailing(128))\n",
        "print(trailing(63))\n"
      ],
      "execution_count": null,
      "outputs": [
        {
          "output_type": "stream",
          "text": [
            "7\n",
            "0\n"
          ],
          "name": "stdout"
        }
      ]
    },
    {
      "cell_type": "code",
      "metadata": {
        "id": "WZtbBX9WgFVk",
        "colab": {
          "base_uri": "https://localhost:8080/"
        },
        "outputId": "b5d744e7-9c0d-44ac-e569-583195c34d44"
      },
      "source": [
        "from sympy.ntheory import multiplicity\n",
        "from sympy.core.numbers import Rational as R\n",
        "print([multiplicity(5, n) for n in [8, 5, 25, 125, 250]])\n",
        "print(multiplicity(3, R(1, 9)))\n"
      ],
      "execution_count": null,
      "outputs": [
        {
          "output_type": "stream",
          "text": [
            "[0, 1, 2, 3, 3]\n",
            "-2\n"
          ],
          "name": "stdout"
        }
      ]
    },
    {
      "cell_type": "markdown",
      "metadata": {
        "id": "LSfNUhC3NBAL"
      },
      "source": [
        "https://docs.sympy.org/latest/modules/ntheory.html#module-sympy.ntheory.modular"
      ]
    }
  ]
}