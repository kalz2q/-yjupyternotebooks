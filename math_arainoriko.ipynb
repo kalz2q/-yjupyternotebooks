{
  "nbformat": 4,
  "nbformat_minor": 0,
  "metadata": {
    "colab": {
      "name": "math_arainoriko.ipynb",
      "provenance": [],
      "toc_visible": true,
      "authorship_tag": "ABX9TyMOxWXLgwknahrm2NunWl6K",
      "include_colab_link": true
    },
    "kernelspec": {
      "name": "python3",
      "display_name": "Python 3"
    },
    "language_info": {
      "name": "python"
    }
  },
  "cells": [
    {
      "cell_type": "markdown",
      "metadata": {
        "id": "view-in-github",
        "colab_type": "text"
      },
      "source": [
        "<a href=\"https://colab.research.google.com/github/kalz2q/mycolabnotebooks/blob/master/math_arainoriko.ipynb\" target=\"_parent\"><img src=\"https://colab.research.google.com/assets/colab-badge.svg\" alt=\"Open In Colab\"/></a>"
      ]
    },
    {
      "cell_type": "markdown",
      "metadata": {
        "id": "VoF4b0UG5cHf"
      },
      "source": [
        "メモ\n",
        "\n",
        "数学は言葉\n",
        "\n",
        "新井紀子\n",
        "\n",
        "を読む。"
      ]
    },
    {
      "cell_type": "markdown",
      "metadata": {
        "id": "VvULwOU85rNV"
      },
      "source": [
        "# 論理\n",
        "\n",
        "p. 2\n",
        "\n",
        "* 0 より大きい数を正の数と言う。\n",
        "* 分数の形で表される数を有理数と言う。\n",
        "* $x$ を 3 と置く。\n",
        "* 2 つの正の数では絶対値の大きい方が大きい。\n",
        "* 同位角または錯角が等しければ、2 直線は平行である。\n",
        "* 三角形の内角の和は 180度である。\n",
        "\n",
        "定義 definition\n",
        "\n",
        "原論 紀元前300年頃にユークリッドがまとめた数学書。\n",
        "\n",
        "1. 点とは部分を持たないものである。\n",
        "2. 線とは幅のない長さである。\n",
        "\n",
        "$\\qquad\\cdots$\n",
        "5. 面とは長さと幅のみを持つものである。\n",
        "\n",
        "古代エジプトのリンド・パピルスは定義なしの問題と解答のセット。\n",
        "\n",
        "p.11\n",
        "\n",
        "p.15\n",
        "ユークリッド原論\n",
        "* 線の端は点である。\n",
        "* 面の端は線である。\n",
        "\n",
        "円の定義\n",
        "\n",
        "平面上で点 $A$ から一定距離 $d$ (ただし、$0 \\lt d$) にある点全体がなす図形のことを、点 $A$ を中心とした半径 $d$ の円、と言う。\n",
        "\n",
        "p.20\n",
        "\n",
        "内分点の位置ベクトル\n",
        "\n",
        "2 点 $A (\\vec a), B (\\vec b)$ を結ぶ線分 $AB$ を $m:n$ に内分する点 $P$ の位置ベクトル $\\vec p$ は\n",
        "$$ \\vec p = \\frac {n \\vec a + m \\vec b}{m+n} $$\n",
        "特に、線分 $AB$ の中点の位置ベクトルは $\\displaystyle \\frac {\\vec a + \\vec b}{2}$\n",
        "\n",
        "言語の加速器としての定義と記号 p.26\n",
        "\n",
        "ベクトルの内積\n",
        "\n",
        "ベクトル $\\vec a, \\vec b$ の内積とはベクトル $\\vec a, \\vec b$ のなす角を $\\theta$ とすると、$|\\vec a|\\cdot |\\vec b|\\cdot \\cos \\theta$ で定義される。"
      ]
    },
    {
      "cell_type": "markdown",
      "metadata": {
        "id": "K8hrtEyMDBEo"
      },
      "source": [
        "---\n",
        "例題 1.3.1 p.29\n",
        "次の数学用語を論理的に短く説明せよ。\n",
        "\n",
        "**傾き・切片**\n",
        "\n",
        "1 次関数 $y=ax+b \\;\\; (a \\neq 0)$ の傾きを $a$、切片を $b$ で定義する。\n",
        "\n",
        "1 次関数 $f(x)$ において、$x$ が 1 単位増えた時の $y$ の増分を、この関数の傾きと言う。 また、$f(x)$ が $y$ 軸と交わる点の $y$ の値をこの関数の切片と言う。\n",
        "\n",
        "**四角形**\n",
        "\n",
        "4 つの直線によって囲まれた図形。\n",
        "\n",
        "凹みのない四角形に限る場合は、\n",
        "内部のどの点を結んでも、その間の点はみなその図形の内部に含まれていること、とする。\n",
        "\n",
        "**平行**\n",
        "\n",
        "平面上の 2 直線が互いに交わらない時、この 2 直線は平行である、と言う。\n",
        "\n",
        "**数列**\n",
        "\n",
        "数列とは、自然数 $1,2,3,\\cdots$ それぞれに対応して、数 $a_1,a_2,a_3,\\cdots$ が対応していることを指す。\n",
        "\n",
        "ウィキペディアの定義は、自然数 $\\boldsymbol N$  からへの関数 $a$ を数列（sequence）と呼ぶ。\n",
        "\n",
        "\n",
        "\n"
      ]
    },
    {
      "cell_type": "markdown",
      "metadata": {
        "id": "36ZfmMz3aPKa"
      },
      "source": [
        "# 命題\n",
        "p.38\n",
        "\n",
        "命題 proposition のうち、証明されたものを定理 theorem と呼ぶ。\n",
        "\n",
        "メモ $\\quad$ この本のあとの方で論理式のことを数文と呼び、日本語で意味を述べることを数文和訳、日本語の文を論理式にすることを和文数訳と言っていて、それがちょっとイヤ。 \n",
        "\n",
        "いまの考え。 論理式 (formula) と日常言語は違う。 言語による表現を論理式にすることで得られるものは大きく、逆も真なので、併記するのがよい。 key, item のセットで考える。 仮に formula, meaning と置こう。\n",
        "\n",
        "json では次のような感じ\n",
        "\n",
        "```\n",
        "[\n",
        "{\"formula\": \"formula\",\n",
        "\"meaning\": \"意味\"},\n",
        "{\"formula2\": \"formula2\",\n",
        "\"meaning2\": \"意味2\"}\n",
        "]\n",
        "```\n",
        "\n",
        "簡易表現 併記する。 これで行こう。\n",
        "\n",
        "* 1+2=3\n",
        "* 1 足す 2 は 3 である\n",
        "\n",
        "* $(x \\gt 0 \\rightarrow x = 2) \\land (x \\lt 0 \\rightarrow x = -5) $\n",
        "* x が正の時、x = 2 であり、x が負の時、x=-5 である\n",
        "\n",
        "* ｋｌｊｋ\n",
        "* lj;jk\n",
        "\n",
        "ｋｌｊｋ  \n",
        "lj;jk  \n",
        "\n",
        "\n"
      ]
    },
    {
      "cell_type": "markdown",
      "metadata": {
        "id": "37szXuFkm7H4"
      },
      "source": [
        "this  \n",
        "is"
      ]
    },
    {
      "cell_type": "markdown",
      "metadata": {
        "id": "iSsbgytKbpJg"
      },
      "source": [
        ""
      ]
    }
  ]
}