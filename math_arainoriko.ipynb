{
  "nbformat": 4,
  "nbformat_minor": 0,
  "metadata": {
    "colab": {
      "name": "math_arainoriko.ipynb",
      "provenance": [],
      "authorship_tag": "ABX9TyMShkTYYu3yXwXNxC6b3DWQ",
      "include_colab_link": true
    },
    "kernelspec": {
      "name": "python3",
      "display_name": "Python 3"
    },
    "language_info": {
      "name": "python"
    }
  },
  "cells": [
    {
      "cell_type": "markdown",
      "metadata": {
        "id": "view-in-github",
        "colab_type": "text"
      },
      "source": [
        "<a href=\"https://colab.research.google.com/github/kalz2q/mycolabnotebooks/blob/master/math_arainoriko.ipynb\" target=\"_parent\"><img src=\"https://colab.research.google.com/assets/colab-badge.svg\" alt=\"Open In Colab\"/></a>"
      ]
    },
    {
      "cell_type": "markdown",
      "metadata": {
        "id": "VoF4b0UG5cHf"
      },
      "source": [
        "メモ\n",
        "\n",
        "---\n",
        "\n",
        "\n",
        "\n",
        "数学は言葉\n",
        "\n",
        "新井紀子\n",
        "\n",
        "を読む。"
      ]
    },
    {
      "cell_type": "markdown",
      "metadata": {
        "id": "VvULwOU85rNV"
      },
      "source": [
        "# 論理\n",
        "\n",
        "p. 2\n",
        "\n",
        "* 0 より大きい数を正の数と言う。\n",
        "* 分数の形で表される数を有理数と言う。\n",
        "* $x$ を 3 と置く。\n",
        "* 2 つの正の数では絶対値の大きい方が大きい。\n",
        "* 同位角または錯角が等しければ、2 直線は平行である。\n",
        "* 三角形の内角の和は 180度である。\n",
        "\n",
        "定義 definition\n",
        "\n",
        "原論 紀元前300年頃にユークリッドがまとめた数学書。\n",
        "\n",
        "1. 点とは部分を持たないものである。\n",
        "2. 線とは幅のない長さである。\n",
        "\n",
        "$\\qquad\\cdots$\n",
        "5. 面とは長さと幅のみを持つものである。\n",
        "\n",
        "古代エジプトのリンド・パピルスは定義なしの問題と解答のセット。\n",
        "\n",
        "p.11\n",
        "\n",
        "p.15\n",
        "ユークリッド原論\n",
        "* 線の端は点である。\n",
        "* 面の端は線である。\n",
        "\n",
        "円の定義\n",
        "\n",
        "平面上で点 $A$ から一定距離 $d$ (ただし、$0 \\lt d$) にある点全体がなす図形のことを、点 $A$ を中心とした半径 $d$ の円、と言う。\n",
        "\n",
        "p.20\n",
        "\n",
        "内分点の位置ベクトル\n",
        "\n",
        "2 点 $A (\\vec a), B (\\vec b)$ を結ぶ線分 $AB$ を $m:n$ に内分する点 $P$ の位置ベクトル $\\vec p$ は\n",
        "$$ \\vec p = \\frac {n \\vec a + m \\vec b}{m+n} $$\n",
        "特に、線分 $AB$ の中点の位置ベクトルは $\\displaystyle \\frac {\\vec a + \\vec b}{2}$\n",
        "\n",
        "言語の加速器としての定義と記号 p.26\n",
        "\n",
        "ベクトルの内積\n",
        "\n",
        "ベクトル $\\vec a, \\vec b$ の内積とはベクトル $\\vec a, \\vec b$ のなす角を $\\theta$ とすると、$|\\vec a|\\cdot |\\vec b|\\cdot \\cos \\theta$ で定義される。"
      ]
    },
    {
      "cell_type": "markdown",
      "metadata": {
        "id": "K8hrtEyMDBEo"
      },
      "source": [
        "---\n",
        "例題 1.3.1 p.29\n",
        "次の数学用語を論理的に短く説明せよ。\n",
        "\n",
        "**傾き・切片**\n",
        "\n",
        "1 次関数 $y=ax+b \\;\\; (a \\neq 0)$ の傾きを $a$、切片を $b$ で定義する。\n",
        "\n",
        "1 次関数 $f(x)$ において、$x$ が 1 単位増えた時の $y$ の増分を、この関数の傾きと言う。 また、$f(x)$ が $y$ 軸と交わる点の $y$ の値をこの関数の切片と言う。\n",
        "\n",
        "**四角形**\n",
        "\n",
        "4 つの直線によって囲まれた図形。\n",
        "\n",
        "凹みのない四角形に限る場合は、\n",
        "内部のどの点を結んでも、その間の点はみなその図形の内部に含まれていること、とする。\n",
        "\n",
        "**平行**\n",
        "\n",
        "平面上の 2 直線が互いに交わらない時、この 2 直線は平行である、と言う。\n",
        "\n",
        "**数列**\n",
        "\n",
        "数列とは、自然数 $1,2,3,\\cdots$ それぞれに対応して、数 $a_1,a_2,a_3,\\cdots$ が対応していることを指す。\n",
        "\n",
        "ウィキペディアの定義は、自然数 $\\boldsymbol N$  からへの関数 $a$ を数列（sequence）と呼ぶ。\n",
        "\n",
        "\n",
        "\n"
      ]
    },
    {
      "cell_type": "markdown",
      "metadata": {
        "id": "36ZfmMz3aPKa"
      },
      "source": [
        "# 命題\n",
        "p.38\n",
        "\n",
        "命題 proposition のうち、証明されたものを定理 theorem と呼ぶ。\n",
        "\n"
      ]
    },
    {
      "cell_type": "markdown",
      "metadata": {
        "id": "pNAFeH1xr02_"
      },
      "source": [
        "---\n",
        "メモ $\\quad$ この本のあとの方で論理式のことを数文と呼び、日本語で意味を述べることを数文和訳、日本語の文を論理式にすることを和文数訳と言っていて、それがちょっとイヤ。 \n",
        "\n",
        "いまの考え。 論理式 (formula) と日常言語は違う。 言語による表現を論理式にすることで得られるものは大きく、逆も真なので、併記するのがよい。 key, item のセットで考える。 仮に formula, meaning と置こう。\n",
        "\n",
        "json では次のような感じ\n",
        "\n",
        "```\n",
        "[\n",
        "{\"formula\": \"formula\",\n",
        "\"meaning\": \"意味\"},\n",
        "{\"formula2\": \"formula2\",\n",
        "\"meaning2\": \"意味2\"}\n",
        "]\n",
        "```\n",
        "\n",
        "簡易表現 => 併記する。 とりあえず、これで行こう。\n",
        "\n",
        "1+2=3  \n",
        "1 足す 2 は 3 である\n",
        "\n",
        "$(x \\gt 0 \\rightarrow x = 2) \\land (x \\lt 0 \\rightarrow x = -5) $  \n",
        "x が正の時、x = 2 であり、x が負の時、x=-5 である\n",
        "\n",
        "気づき $\\quad$ この本は $\\implies$ を使わず $\\rightarrow$ ですね!!!!\n",
        "\n",
        "$\\overset{\\text{def}}{\\Longleftrightarrow}$ は使っている。\n",
        "\n",
        "\n"
      ]
    },
    {
      "cell_type": "markdown",
      "metadata": {
        "id": "37szXuFkm7H4"
      },
      "source": [
        "数文 (論理式)\n",
        "\n",
        "p.49 で初めて数文という言葉が出てくる。\n",
        "\n",
        "$$\n",
        "(x=4 \\land x=6) \\rightarrow (3x+2y=24 \\land x+y = 10)\n",
        "$$\n",
        "このように純粋な数学の記号だけで表現した文を、この本では数文とよぶことにします。\n",
        "\n",
        "とのことだが、わたしのとりあえずのことばで書くと、\n",
        "\n",
        "このように論理記号だけで書いた文 論理記号文 を論理式 well-fromed formula と呼ぶ。 式の意味は\n",
        "\n",
        "$x=4$ かつ $y=6$ の時、方程式 $3x+2y=24$ と $x+y = 10$ が成り立つ。\n",
        "\n",
        "論理式の方も普通の書き方だと\n",
        "\n",
        "$$\n",
        "x=4 \\land x=6 \\implies [3x+2y=24] \\land [x+y = 10]\n",
        "$$\n",
        "\n",
        "になると思う。\n",
        "\n",
        "p.38からp.49にジャンプしてしまったので途中を埋める。\n",
        "\n",
        "1,2,3 は自然数である  \n",
        "$1 \\lor 2 \\lor 3 \\in \\boldsymbol N$\n",
        "\n",
        "でいいか?\n",
        "\n",
        "$ x \\in \\{1,2,3\\} \\rightarrow x \\in \\boldsymbol N$\n",
        "\n",
        "かな。\n",
        "\n",
        "&nbsp;\n",
        "\n",
        "\n",
        "円周率 $\\pi$ は 3.14 である  \n",
        "$\\pi = 3.14$\n",
        "\n",
        "約 3.14 とか 小数点 3 位で四捨五入するととかはどうするか。\n",
        "\n",
        "&nbsp;\n",
        "\n",
        "父または母の姉を伯母と言う。\n",
        "$x \\in sister(father \\lor mother) \\implies x \\in aunt$\n",
        "\n",
        "なんとなくよさげですね!!!!\n",
        "\n",
        "あと、やはり $\\rightarrow$ より $\\implies$ の方がよい。\n",
        "\n",
        "メモ $\\quad$ $x=3$ とおく、というのと $x=3$ である、というのの区別は、いまの考えでは書かれている文脈に依存する。 論理式としては同じなのではないか。 文の前半に \\implies の前に置かれれば、とおく時、という意味だし、単独ならば x が決まれば真偽がはっきりする命題だろう。\n",
        "\n",
        "$x$ は三角形である  \n",
        "$x \\in triangle$\n",
        "\n",
        "$n \\lt m \\implies [n+1 \\lt m+1]$\n",
        "\n",
        "$n = m \\land m = k \\implies [n = k]$\n",
        "\n",
        "$ 3 + 5 = 18$\n",
        "\n",
        "$n$ と $m$ のどちらも偶数ならば $n+m$ も偶数である。  \n",
        "$n \\mod 2 = 0 \\land m \\mod 2 = 0 \\implies [ (n+m) \\mod 2 = 0]$\n",
        "\n",
        "$l$ を線とする。この時 $l$ の端は点である。\n",
        "\n",
        "$A,B$ を異なる点とする。 この時、$A,B$ を結ぶ直線 $l$ が存在する。  \n",
        "$A\\in point \\land B \\in point \\land A \\neq B \\implies \\exists l [l = AB]$\n",
        "\n",
        "ふむ。苦しいね!!!!\n",
        "\n",
        "\n",
        "数式も命題である。\n",
        "\n",
        "\n",
        "\n",
        "\n",
        "\n",
        "\n"
      ]
    },
    {
      "cell_type": "markdown",
      "metadata": {
        "id": "iSsbgytKbpJg"
      },
      "source": [
        "p.44\n",
        "\n",
        "10 の 2 乗は 100 である。  \n",
        "$10^2 = 100$\n",
        "\n",
        "10 は偶数である。  \n",
        "$10\\mod 2 = 0$\n",
        "\n",
        "10 は自然数である。  \n",
        "$10 \\in \\mathbb N$\n",
        "\n",
        "非負の偶数全体の集合  \n",
        "$\\{x \\;|\\; x \\in \\mathbb N\\} \\cap \\{x \\;|\\; x \\mod 2 = 0 \\}$  \n",
        "$\\{x \\;|\\; x \\in \\mathbb N \\;\\;\\land x \\mod 2 = 0 \\}$  \n",
        "\n",
        "ちょっと落ち着かないね。\n",
        "\n",
        "偶数全体の集合、ただし要素は自然数  \n",
        "$\\{x \\;|\\; x \\mod 2 = 0 ,\\;\\; x \\in \\mathbb N\\}$   \n",
        "\n",
        "この方がしっくりくるが、意味は同じか。\n",
        "\n",
        "\n",
        "\n",
        "\n",
        "\n",
        "\n",
        "\n"
      ]
    },
    {
      "cell_type": "markdown",
      "metadata": {
        "id": "GJYLNfJ2eONP"
      },
      "source": [
        "p.50\n",
        "\n",
        "2 に 3 を足したものは 5 に等しい。  \n",
        "$2+3=5$\n",
        "\n",
        "$AB$ の長さと $BC$ の長さが等しいので、$\\triangle ABC$ は二等辺三角形である。  \n",
        "$|AB| = |BC| \\implies \\triangle ABC \\in Isoscelese$\n",
        "\n",
        "$x$ が正の時、$x=2$ であり、負の時 $x=-5$ である。\n",
        "$(x \\gt 0 \\implies x = 2) \\land (x \\lt 0 \\implies x = -5)$\n",
        "\n",
        "$a,b$ がともに非負で、しかも $a$ より $b$ が大きいならば、$a$ の 2 乗より $b$ の 2 乗の方が大きい。  \n",
        "$\\neg(a \\lt 0) \\land \\neg (b \\lt 0) \\land a \\lt b \\implies a^2 \\lt b^2$"
      ]
    },
    {
      "cell_type": "markdown",
      "metadata": {
        "id": "GvTyUKvzqt9o"
      },
      "source": [
        "p.54\n",
        "\n",
        "$n$ が 2 で割り切れる時、$n$ を偶数と呼ぶ。 $n$ が偶数のとき $\\mathrm{Even}(n)$ と表す。  \n",
        "$n \\mod 2 = 0 \\iff \\mathrm{Even}(n)$\n",
        "\n",
        "4 の平方根は -2, 2 です。  \n",
        "$x^2=4 \\implies x=-2 \\lor x=2$\n",
        "\n",
        "自然数 $m,n$ が存在して $\\displaystyle \\sqrt 2 = \\frac m n$ と表すことができる。  \n",
        "$\\displaystyle \\exists m \\in \\mathbb N \\ \\ \\exists n \\in \\mathbb N \\ \\  (\\sqrt 2 = \\frac m n)\\$\n",
        "\n",
        "どんな自然数 $m$ も 1 以上である。  \n",
        "$\\forall m \\in \\mathbb N \\ \\ (m \\geq 1)$\n"
      ]
    },
    {
      "cell_type": "markdown",
      "metadata": {
        "id": "b-JaX2IhVDaw"
      },
      "source": [
        "$\\forall$ と $\\exists$ を量化子と言う。"
      ]
    },
    {
      "cell_type": "markdown",
      "metadata": {
        "id": "S_ZQMaJXVnUr"
      },
      "source": [
        "---\n",
        "例題 3.1.2  \n",
        "p.63\n",
        "\n",
        "$m,n$ の片方が偶数、他方が奇数の時、$n+m$ は奇数になる。  \n",
        "$(\\mathrm{Even}(m) \\land \\neg\\; \\mathrm{Even}(n)) \\lor (\\neg\\;\\mathrm{Even}(m) \\land \\mathrm{Even}(n)) \\implies \\neg \\;\\mathrm{Even}(n)$"
      ]
    },
    {
      "cell_type": "markdown",
      "metadata": {
        "id": "_vlKm9deleEU"
      },
      "source": [
        "例題 3.1.3\n",
        "\n",
        "p.66\n",
        "\n",
        "どんな $x$ についても、6 で割り切れるなら、2 でも 3 でも割り切れる。  \n",
        "$\\forall x \\;\\; (x \\mod 6 = 0 \\implies (x \\mod 2 = 0 \\land x \\mod 3 = 0))$\n",
        "\n",
        "例題 3.1.4\n",
        "\n",
        "どんな $n$ に対しても、それより大きな $m$ が存在する。  \n",
        "$\\forall n \\;\\; \\exists m\\;\\; (n \\lt m)$\n",
        "\n"
      ]
    },
    {
      "cell_type": "markdown",
      "metadata": {
        "id": "9pPQywWZn3x0"
      },
      "source": [
        "---\n",
        "メモ $\\quad$ $\\exists m \\;\\; \\forall m\\;\\; (n \\lt m)$ を解釈する。  \n",
        "\n",
        "ある $m$ が存在し、どんな $n$ についても $n \\lt m$ つまり最大値が存在する、という意味と説明しているが、ドメインが自然数 (無限集合) ならば最大値はないので、命題が偽になることに言及していないのが変。\n",
        "\n",
        "ここまでの説明でドメインを明示して来なかったので突然入れるわけにもいかないのだろう。 例を変えたらどうか。\n",
        "\n"
      ]
    },
    {
      "cell_type": "markdown",
      "metadata": {
        "id": "DUJrNCZqobZd"
      },
      "source": [
        "---\n",
        "例題 3.2.1\n",
        "\n",
        "p.73\n",
        "\n",
        "$x$ は 1 から 5 までの自然数である。  \n",
        "$x=1 \\lor x=2 \\lor x=3 \\lor x=4 \\lor x=5$\n",
        "\n",
        "$x=2$ と $x=-3$ は $x^3+x^2-6x=0$ の解である。  \n",
        "$x=2 \\lor x=-3 \\implies x^3+x^2-6x=0$\n",
        "\n",
        "$x=2$ と $x=-3$ 「が」 $x^3+x^2-6x=0$ の解である。  \n",
        "$x=2 \\lor x=-3 \\iff x^3+x^2-6x=0$\n"
      ]
    },
    {
      "cell_type": "markdown",
      "metadata": {
        "id": "Tf-PDm1etImf"
      },
      "source": [
        "例題 3.2.4\n",
        "\n",
        "p.75\n",
        "\n",
        "$x \\lt y, x=y, x \\gt y$ のどれか**ひとつだけ**が必ず成り立つ。  \n",
        "$(x \\lt y \\lor x=y \\lor x \\gt y) \\land \\neg (x \\lt y \\land x=y) \\land \\neg (x=y \\land x \\gt y) \\land \\neg (x \\gt y \\land x \\gt y)$"
      ]
    }
  ]
}