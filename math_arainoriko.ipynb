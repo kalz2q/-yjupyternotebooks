{
  "nbformat": 4,
  "nbformat_minor": 0,
  "metadata": {
    "colab": {
      "name": "math_arainoriko.ipynb",
      "provenance": [],
      "authorship_tag": "ABX9TyPjQsUT+rjaYeGVR0kN4Jnr",
      "include_colab_link": true
    },
    "kernelspec": {
      "name": "python3",
      "display_name": "Python 3"
    },
    "language_info": {
      "name": "python"
    }
  },
  "cells": [
    {
      "cell_type": "markdown",
      "metadata": {
        "id": "view-in-github",
        "colab_type": "text"
      },
      "source": [
        "<a href=\"https://colab.research.google.com/github/kalz2q/mycolabnotebooks/blob/master/math_arainoriko.ipynb\" target=\"_parent\"><img src=\"https://colab.research.google.com/assets/colab-badge.svg\" alt=\"Open In Colab\"/></a>"
      ]
    },
    {
      "cell_type": "markdown",
      "metadata": {
        "id": "VoF4b0UG5cHf"
      },
      "source": [
        "メモ\n",
        "\n",
        "数学は言葉\n",
        "\n",
        "新井紀子\n",
        "\n",
        "を読む。"
      ]
    },
    {
      "cell_type": "markdown",
      "metadata": {
        "id": "VvULwOU85rNV"
      },
      "source": [
        "# 論理\n",
        "\n",
        "p. 2\n",
        "\n",
        "* 0 より大きい数を正の数と言う。\n",
        "* 分数の形で表される数を有理数と言う。\n",
        "* $x$ を 3 と置く。\n",
        "* 2 つの正の数では絶対値の大きい方が大きい。\n",
        "* 同位角または錯角が等しければ、2 直線は平行である。\n",
        "* 三角形の内角の和は 180度である。\n",
        "\n",
        "定義 definition\n",
        "\n",
        "原論 紀元前300年頃にユークリッドがまとめた数学書。\n",
        "\n",
        "1. 点とは部分を持たないものである。\n",
        "2. 線とは幅のない長さである。\n",
        "\n",
        "$\\qquad\\cdots$\n",
        "5. 面とは長さと幅のみを持つものである。\n",
        "\n",
        "古代エジプトのリンド・パピルスは定義なしの問題と解答のセット。\n",
        "\n",
        "p.11\n",
        "\n",
        "p.15\n",
        "ユークリッド原論\n",
        "* 線の端は点である。\n",
        "* 面の端は線である。\n",
        "\n",
        "円の定義\n",
        "\n"
      ]
    }
  ]
}