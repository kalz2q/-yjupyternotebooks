{
  "nbformat": 4,
  "nbformat_minor": 0,
  "metadata": {
    "colab": {
      "name": "numpyexercises.ipynb",
      "provenance": [],
      "toc_visible": true,
      "include_colab_link": true
    },
    "kernelspec": {
      "name": "python3",
      "display_name": "Python 3"
    }
  },
  "cells": [
    {
      "cell_type": "markdown",
      "metadata": {
        "id": "view-in-github",
        "colab_type": "text"
      },
      "source": [
        "<a href=\"https://colab.research.google.com/github/kalz2q/mycolabnotebooks/blob/master/numpyexercises.ipynb\" target=\"_parent\"><img src=\"https://colab.research.google.com/assets/colab-badge.svg\" alt=\"Open In Colab\"/></a>"
      ]
    },
    {
      "cell_type": "markdown",
      "metadata": {
        "id": "0kO2jr_xMHJX"
      },
      "source": [
        "# 100 numpy exercises\n",
        "\n",
        " <https://github.com/rougier/numpy-100>\n",
        "\n",
        "にあったもののコピー。\n",
        "\n",
        "とりあえず使い方がわからない。まあいいか。やってみよう。\n",
        "\n"
      ]
    },
    {
      "cell_type": "markdown",
      "metadata": {
        "id": "CkFOfQhYMHJf"
      },
      "source": [
        "#### (1) numpyをインポートする。\n"
      ]
    },
    {
      "cell_type": "code",
      "metadata": {
        "id": "Adb404QvMHJg"
      },
      "source": [
        "import numpy as np\n"
      ],
      "execution_count": null,
      "outputs": []
    },
    {
      "cell_type": "markdown",
      "metadata": {
        "id": "MCkMSR-1MHJk"
      },
      "source": [
        "#### (2) numpy のバージョンと configuration を print する。\n"
      ]
    },
    {
      "cell_type": "code",
      "metadata": {
        "id": "b9sXBzzVMHJl"
      },
      "source": [
        "print (np.__version__)\n",
        "np.show_config()"
      ],
      "execution_count": null,
      "outputs": []
    },
    {
      "cell_type": "code",
      "metadata": {
        "id": "5-mqoRswWL_K"
      },
      "source": [
        "# 実験: numpy がどんな関数やメソッドを持っているかは dir(np) とすればわかる。version も、show_config もある。\n",
        "dir(np)\n"
      ],
      "execution_count": null,
      "outputs": []
    },
    {
      "cell_type": "markdown",
      "metadata": {
        "id": "tahZbK3bMHJo"
      },
      "source": [
        "#### (3) サイズ $10$ の null ベクトルを作る。"
      ]
    },
    {
      "cell_type": "code",
      "metadata": {
        "id": "AsG60LYQMHJp",
        "outputId": "d7f637b3-9fd1-4041-e340-a67a22fa765a",
        "colab": {
          "base_uri": "https://localhost:8080/",
          "height": 35
        }
      },
      "source": [
        "import numpy as np\n",
        "Z = np.zeros(10)\n",
        "print(Z)"
      ],
      "execution_count": null,
      "outputs": [
        {
          "output_type": "stream",
          "text": [
            "[0. 0. 0. 0. 0. 0. 0. 0. 0. 0.]\n"
          ],
          "name": "stdout"
        }
      ]
    },
    {
      "cell_type": "code",
      "metadata": {
        "id": "jWypMn00T3kq",
        "outputId": "2544bc44-340f-40e1-8289-d8dae712ad07",
        "colab": {
          "base_uri": "https://localhost:8080/",
          "height": 138
        }
      },
      "source": [
        "# 実験\n",
        "print (type(Z))\n",
        "print(Z == [0,0,0,0,0,0,0,0,0,0])\n",
        "print(len(Z))\n",
        "print(len([0,0,0,0,0,0,0,0,0,0]))\n",
        "print(list(Z) == [0,0,0,0,0,0,0,0,0,0])\n",
        "print(np.array([1,2,3]) == np.array([1,2,3]))\n",
        "print(np.array((1,2,3)))"
      ],
      "execution_count": null,
      "outputs": [
        {
          "output_type": "stream",
          "text": [
            "<class 'numpy.ndarray'>\n",
            "[ True  True  True  True  True  True  True  True  True  True]\n",
            "10\n",
            "10\n",
            "True\n",
            "[ True  True  True]\n",
            "[1 2 3]\n"
          ],
          "name": "stdout"
        }
      ]
    },
    {
      "cell_type": "markdown",
      "metadata": {
        "id": "PnVJF210MHJs"
      },
      "source": [
        "#### (4) 配列 array のメモリーサイズを調べる方法。\n"
      ]
    },
    {
      "cell_type": "code",
      "metadata": {
        "id": "Wh6DdDVeMHJt",
        "outputId": "c7887022-b596-4ee8-8ab0-9f40ea5e3b28",
        "colab": {
          "base_uri": "https://localhost:8080/",
          "height": 35
        }
      },
      "source": [
        "Z = np.zeros((10,10))\n",
        "print(\"%d bytes\" % (Z.size * Z.itemsize))"
      ],
      "execution_count": null,
      "outputs": [
        {
          "output_type": "stream",
          "text": [
            "800 bytes\n"
          ],
          "name": "stdout"
        }
      ]
    },
    {
      "cell_type": "code",
      "metadata": {
        "id": "UATIGHvBXveV",
        "outputId": "d21c089d-6df8-4b79-8ef1-9da0eee7e7b1",
        "colab": {
          "base_uri": "https://localhost:8080/",
          "height": 52
        }
      },
      "source": [
        "# 実験\n",
        "print (Z.size)\n",
        "print(Z.itemsize)"
      ],
      "execution_count": null,
      "outputs": [
        {
          "output_type": "stream",
          "text": [
            "100\n",
            "8\n"
          ],
          "name": "stdout"
        }
      ]
    },
    {
      "cell_type": "markdown",
      "metadata": {
        "id": "XdUtPqZGcCDw"
      },
      "source": [
        "#### (5) numpy の add 関数のドキュメントを得る。\n",
        "\n",
        "次のコメントアウトした %run `python  \"import numpy; numpy.info(numpy.add)\"` は使えなかった。\n",
        "\n",
        "help(np.add)\n",
        "\n",
        "でいいと思う。\n"
      ]
    },
    {
      "cell_type": "code",
      "metadata": {
        "id": "jaTzbl-AMHJx"
      },
      "source": [
        "# %run `python  \"import numpy; numpy.info(numpy.add)\"`\n",
        "\n",
        "# 実験\n",
        "\n",
        "# np.info(np.add)\n",
        "help(np.add)"
      ],
      "execution_count": null,
      "outputs": []
    },
    {
      "cell_type": "markdown",
      "metadata": {
        "id": "f6_IHT_CMHJ2"
      },
      "source": [
        "#### (6) 5番目のアイテムの値を 1 にする。\n"
      ]
    },
    {
      "cell_type": "code",
      "metadata": {
        "id": "vdDjuYD9MHJ3",
        "outputId": "afcdceed-184d-4b88-ad8b-3e7ac56fd5c1",
        "colab": {
          "base_uri": "https://localhost:8080/",
          "height": 35
        }
      },
      "source": [
        "Z[4] = 1\n",
        "print(Z)"
      ],
      "execution_count": null,
      "outputs": [
        {
          "output_type": "stream",
          "text": [
            "[0. 0. 0. 0. 1. 0. 0. 0. 0. 0.]\n"
          ],
          "name": "stdout"
        }
      ]
    },
    {
      "cell_type": "markdown",
      "metadata": {
        "id": "PZWhMZ-0MHJ7"
      },
      "source": [
        "#### (7) 値が10から49のベクトルを作る。\n"
      ]
    },
    {
      "cell_type": "code",
      "metadata": {
        "id": "Q0AvApnpMHJ8",
        "outputId": "3cfba9ec-9c21-4767-fd50-d9f2776be2f8",
        "colab": {
          "base_uri": "https://localhost:8080/",
          "height": 52
        }
      },
      "source": [
        "Z = np.arange(10,50)\n",
        "print(Z)"
      ],
      "execution_count": null,
      "outputs": [
        {
          "output_type": "stream",
          "text": [
            "[10 11 12 13 14 15 16 17 18 19 20 21 22 23 24 25 26 27 28 29 30 31 32 33\n",
            " 34 35 36 37 38 39 40 41 42 43 44 45 46 47 48 49]\n"
          ],
          "name": "stdout"
        }
      ]
    },
    {
      "cell_type": "code",
      "metadata": {
        "id": "KDhJsbQpe2n0",
        "outputId": "ef16bc22-66d1-44c9-d86e-96c6ed36c40e",
        "colab": {
          "base_uri": "https://localhost:8080/",
          "height": 104
        }
      },
      "source": [
        "# 実験\n",
        "\n",
        "print(range(10,50))\n",
        "print(list(range(10,50)))\n",
        "# print(np.ndarray(list(range(10,50))))\n",
        "print(np.array(list(range(10,50))))\n",
        "print(type(np.array(list(range(10,50)))))\n",
        "\n"
      ],
      "execution_count": null,
      "outputs": [
        {
          "output_type": "stream",
          "text": [
            "range(10, 50)\n",
            "[10, 11, 12, 13, 14, 15, 16, 17, 18, 19, 20, 21, 22, 23, 24, 25, 26, 27, 28, 29, 30, 31, 32, 33, 34, 35, 36, 37, 38, 39, 40, 41, 42, 43, 44, 45, 46, 47, 48, 49]\n",
            "[10 11 12 13 14 15 16 17 18 19 20 21 22 23 24 25 26 27 28 29 30 31 32 33\n",
            " 34 35 36 37 38 39 40 41 42 43 44 45 46 47 48 49]\n",
            "<class 'numpy.ndarray'>\n"
          ],
          "name": "stdout"
        }
      ]
    },
    {
      "cell_type": "markdown",
      "metadata": {
        "id": "grxaLboUMHJ_"
      },
      "source": [
        "#### (8) ベクトルを逆順にする。"
      ]
    },
    {
      "cell_type": "code",
      "metadata": {
        "id": "xwEuIyFwMHKA",
        "outputId": "361c4b7c-0490-4d86-f4fb-5e15ab0b9887",
        "colab": {
          "base_uri": "https://localhost:8080/",
          "height": 35
        }
      },
      "source": [
        "Z = np.arange(10)\n",
        "Z = Z[::-1]\n",
        "print(Z)"
      ],
      "execution_count": null,
      "outputs": [
        {
          "output_type": "stream",
          "text": [
            "[9 8 7 6 5 4 3 2 1 0]\n"
          ],
          "name": "stdout"
        }
      ]
    },
    {
      "cell_type": "code",
      "metadata": {
        "id": "5ongQk3vk06D",
        "outputId": "02452fb4-bbc2-4c6b-a8de-f76c5e757507",
        "colab": {
          "base_uri": "https://localhost:8080/",
          "height": 69
        }
      },
      "source": [
        "# 実験\n",
        "\n",
        "Z = list(range(10))\n",
        "Z.reverse()\n",
        "print(Z)\n",
        "\n",
        "Y = np.array([3,2,1,0,1,1,5])\n",
        "print(Y)\n",
        "Y = Y[::-1]\n",
        "print(Y)"
      ],
      "execution_count": null,
      "outputs": [
        {
          "output_type": "stream",
          "text": [
            "[9, 8, 7, 6, 5, 4, 3, 2, 1, 0]\n",
            "[3 2 1 0 1 1 5]\n",
            "[5 1 1 0 1 2 3]\n"
          ],
          "name": "stdout"
        }
      ]
    },
    {
      "cell_type": "markdown",
      "metadata": {
        "id": "aAf1CnOtMHKD"
      },
      "source": [
        "#### (9) 3x3 の行列を作る。"
      ]
    },
    {
      "cell_type": "code",
      "metadata": {
        "id": "n4mD-NqlMHKD",
        "outputId": "a54fd7a2-946f-4028-d1b6-93fb1fcb87f2",
        "colab": {
          "base_uri": "https://localhost:8080/",
          "height": 67
        }
      },
      "source": [
        "import numpy as np\n",
        "Z = np.arange(9).reshape(3, 3)\n",
        "Z"
      ],
      "execution_count": null,
      "outputs": [
        {
          "output_type": "execute_result",
          "data": {
            "text/plain": [
              "array([[0, 1, 2],\n",
              "       [3, 4, 5],\n",
              "       [6, 7, 8]])"
            ]
          },
          "metadata": {
            "tags": []
          },
          "execution_count": 8
        }
      ]
    },
    {
      "cell_type": "code",
      "metadata": {
        "id": "4JnXLy8XXXGp",
        "outputId": "968ba8ac-c86d-4386-ff1c-490188c96d30",
        "colab": {
          "base_uri": "https://localhost:8080/",
          "height": 67
        }
      },
      "source": [
        "np.array([0,1,2,3,4,5,6,7,8]).reshape(3,3)"
      ],
      "execution_count": null,
      "outputs": [
        {
          "output_type": "execute_result",
          "data": {
            "text/plain": [
              "array([[0, 1, 2],\n",
              "       [3, 4, 5],\n",
              "       [6, 7, 8]])"
            ]
          },
          "metadata": {
            "tags": []
          },
          "execution_count": 7
        }
      ]
    },
    {
      "cell_type": "code",
      "metadata": {
        "id": "I4vfcEvtmJRU",
        "outputId": "8a5ca45a-643d-40dc-cf2e-77cbfa1add65",
        "colab": {
          "base_uri": "https://localhost:8080/",
          "height": 138
        }
      },
      "source": [
        "# 実験\n",
        "\n",
        "arr = np.array([[0, 1, 2], [3, 4, 5], [6, 7, 8]])\n",
        "print(arr)\n",
        "mat = np.matrix([[0, 1, 2], [3, 4, 5], [6, 7, 8]])\n",
        "print(mat)\n",
        "print(type(mat))"
      ],
      "execution_count": null,
      "outputs": [
        {
          "output_type": "stream",
          "text": [
            "[[0 1 2]\n",
            " [3 4 5]\n",
            " [6 7 8]]\n",
            "[[0 1 2]\n",
            " [3 4 5]\n",
            " [6 7 8]]\n",
            "<class 'numpy.matrix'>\n"
          ],
          "name": "stdout"
        }
      ]
    },
    {
      "cell_type": "markdown",
      "metadata": {
        "id": "vZ5kiXBsMHKH"
      },
      "source": [
        "#### (10) ゼロでない要素のインデクスを見つける。 [1,2,0,0,4,0] "
      ]
    },
    {
      "cell_type": "code",
      "metadata": {
        "id": "MT6hJzhLRvVn",
        "outputId": "81665314-3c67-4b55-dc9c-0ae2f10377a5",
        "colab": {
          "base_uri": "https://localhost:8080/",
          "height": 33
        }
      },
      "source": [
        "import numpy as np\n",
        "nz = np.nonzero([1,2,0,0,4,0])\n",
        "print(nz)"
      ],
      "execution_count": null,
      "outputs": [
        {
          "output_type": "stream",
          "text": [
            "(array([0, 1, 4]),)\n"
          ],
          "name": "stdout"
        }
      ]
    },
    {
      "cell_type": "code",
      "metadata": {
        "id": "bVgN4rTcMHKH",
        "outputId": "787fda30-1b8e-4eaf-ad35-79cfe89ea552",
        "colab": {
          "base_uri": "https://localhost:8080/",
          "height": 66
        }
      },
      "source": [
        "# 実験\n",
        "\n",
        "print(list(enumerate([1,2,0,0,4,0])))\n",
        "print([x for (x,y) in list(enumerate([1,2,0,0,4,0])) if y>0])\n",
        "print([x for (x,y) in list(enumerate([1,2,0,0,-4,0])) if y!=0])\n"
      ],
      "execution_count": null,
      "outputs": [
        {
          "output_type": "stream",
          "text": [
            "[(0, 1), (1, 2), (2, 0), (3, 0), (4, 4), (5, 0)]\n",
            "[0, 1, 4]\n",
            "[0, 1, 4]\n"
          ],
          "name": "stdout"
        }
      ]
    },
    {
      "cell_type": "markdown",
      "metadata": {
        "id": "iEN85lf_MHKL"
      },
      "source": [
        "#### (11) 3x3 の単位行列を作る。"
      ]
    },
    {
      "cell_type": "code",
      "metadata": {
        "id": "xAk0D-64MHKM",
        "outputId": "5f553827-4250-4365-8062-00b9dd1de6c0",
        "colab": {
          "base_uri": "https://localhost:8080/",
          "height": 66
        }
      },
      "source": [
        "Z = np.eye(3)\n",
        "print(Z)"
      ],
      "execution_count": null,
      "outputs": [
        {
          "output_type": "stream",
          "text": [
            "[[1. 0. 0.]\n",
            " [0. 1. 0.]\n",
            " [0. 0. 1.]]\n"
          ],
          "name": "stdout"
        }
      ]
    },
    {
      "cell_type": "code",
      "metadata": {
        "id": "HIi2BdrSURQb",
        "outputId": "e750a02f-d466-4dcb-b1c1-154e68ae5f2f",
        "colab": {
          "base_uri": "https://localhost:8080/",
          "height": 66
        }
      },
      "source": [
        "# 実験\n",
        "print(np.identity(3))"
      ],
      "execution_count": null,
      "outputs": [
        {
          "output_type": "stream",
          "text": [
            "[[1. 0. 0.]\n",
            " [0. 1. 0.]\n",
            " [0. 0. 1.]]\n"
          ],
          "name": "stdout"
        }
      ]
    },
    {
      "cell_type": "markdown",
      "metadata": {
        "id": "PhiquTxDMHKP"
      },
      "source": [
        "#### (12) 要素がランダムな 3x3x3 の行列を作る。"
      ]
    },
    {
      "cell_type": "code",
      "metadata": {
        "id": "irMwPF8pUzPp",
        "outputId": "21b14ec5-00ba-49de-b762-11ed204016d2",
        "colab": {
          "base_uri": "https://localhost:8080/",
          "height": 200
        }
      },
      "source": [
        "Z = np.random.random((3,3,3))\n",
        "print(Z)"
      ],
      "execution_count": null,
      "outputs": [
        {
          "output_type": "stream",
          "text": [
            "[[[0.70475562 0.16931186 0.11302815]\n",
            "  [0.76650745 0.61695271 0.24426345]\n",
            "  [0.66540496 0.65231431 0.23069435]]\n",
            "\n",
            " [[0.90192415 0.31135113 0.54050943]\n",
            "  [0.92253171 0.07737907 0.53403547]\n",
            "  [0.69530047 0.27033305 0.52656294]]\n",
            "\n",
            " [[0.4657594  0.75486442 0.21891217]\n",
            "  [0.77564833 0.78952857 0.69569762]\n",
            "  [0.87536282 0.03434753 0.92873771]]]\n"
          ],
          "name": "stdout"
        }
      ]
    },
    {
      "cell_type": "code",
      "metadata": {
        "id": "Hn7__SiZVHxk",
        "outputId": "8b8af1d2-15c6-4d79-a279-9b322d029a52",
        "colab": {
          "base_uri": "https://localhost:8080/",
          "height": 150
        }
      },
      "source": [
        "# 実験\n",
        "help(np.random.random)"
      ],
      "execution_count": null,
      "outputs": [
        {
          "output_type": "stream",
          "text": [
            "Help on built-in function random:\n",
            "\n",
            "random(...) method of numpy.random.mtrand.RandomState instance\n",
            "    random(size=None)\n",
            "    \n",
            "    Return random floats in the half-open interval [0.0, 1.0). Alias for\n",
            "    `random_sample` to ease forward-porting to the new random API.\n",
            "\n"
          ],
          "name": "stdout"
        }
      ]
    },
    {
      "cell_type": "code",
      "metadata": {
        "id": "7IxT7X7pYg3M",
        "outputId": "41a4219d-b636-43d1-9783-0e19348a306f",
        "colab": {
          "base_uri": "https://localhost:8080/",
          "height": 84
        }
      },
      "source": [
        "# 実験\n",
        "\n",
        "print([int(x*10) for x in np.random.random(9)])\n",
        "np.array([int(x*10) for x in np.random.random(9)]).reshape(3,3)"
      ],
      "execution_count": null,
      "outputs": [
        {
          "output_type": "stream",
          "text": [
            "[3, 1, 4, 0, 5, 5, 4, 3, 6]\n"
          ],
          "name": "stdout"
        },
        {
          "output_type": "execute_result",
          "data": {
            "text/plain": [
              "array([[0, 5, 7],\n",
              "       [9, 8, 5],\n",
              "       [2, 1, 7]])"
            ]
          },
          "metadata": {
            "tags": []
          },
          "execution_count": 12
        }
      ]
    },
    {
      "cell_type": "markdown",
      "metadata": {
        "id": "nf5y5vDjMHKT"
      },
      "source": [
        "#### (13) 10x10 のランダムな値の配列を作って、その最大値と最小値を調べる。"
      ]
    },
    {
      "cell_type": "code",
      "metadata": {
        "id": "Rm8IgEigMHKP",
        "outputId": "3f2171d6-631c-47af-e028-0e84b0d46bc3",
        "colab": {
          "base_uri": "https://localhost:8080/",
          "height": 33
        }
      },
      "source": [
        "Z = np.random.random((10,10))\n",
        "Zmin, Zmax = Z.min(), Z.max()\n",
        "print(Zmin, Zmax)"
      ],
      "execution_count": null,
      "outputs": [
        {
          "output_type": "stream",
          "text": [
            "0.003167866425746624 0.9948839136867698\n"
          ],
          "name": "stdout"
        }
      ]
    },
    {
      "cell_type": "markdown",
      "metadata": {
        "id": "64rFnwdAMHKW"
      },
      "source": [
        "#### (14) ランダムな値のサイズ 30 のベクトルを作って平均を調べる。\n"
      ]
    },
    {
      "cell_type": "code",
      "metadata": {
        "id": "MCi0rWk-MHKX",
        "outputId": "8881cae1-c24e-403e-a8f8-4a86230fd41e",
        "colab": {
          "base_uri": "https://localhost:8080/",
          "height": 34
        }
      },
      "source": [
        "Z = np.random.random(30)\n",
        "m = Z.mean()\n",
        "print(m)"
      ],
      "execution_count": null,
      "outputs": [
        {
          "output_type": "stream",
          "text": [
            "0.500987713489689\n"
          ],
          "name": "stdout"
        }
      ]
    },
    {
      "cell_type": "code",
      "metadata": {
        "id": "tSDCeYJ9ZsTe",
        "outputId": "72ec82cf-eabd-4313-8287-c8fec119fe34",
        "colab": {
          "base_uri": "https://localhost:8080/",
          "height": 34
        }
      },
      "source": [
        "# 実験\n",
        "\n",
        "sum(list(Z)) / 30"
      ],
      "execution_count": null,
      "outputs": [
        {
          "output_type": "execute_result",
          "data": {
            "text/plain": [
              "0.500987713489689"
            ]
          },
          "metadata": {
            "tags": []
          },
          "execution_count": 16
        }
      ]
    },
    {
      "cell_type": "code",
      "metadata": {
        "id": "hmFsH6QC8hlE",
        "outputId": "6990c105-0215-4c8f-f511-3a1d31dd83d5",
        "colab": {
          "base_uri": "https://localhost:8080/",
          "height": 34
        }
      },
      "source": [
        "# 実験\n",
        "\n",
        "import numpy as np\n",
        "print(type(np.random.random()))"
      ],
      "execution_count": null,
      "outputs": [
        {
          "output_type": "stream",
          "text": [
            "<class 'float'>\n"
          ],
          "name": "stdout"
        }
      ]
    },
    {
      "cell_type": "code",
      "metadata": {
        "id": "rmx7TM7h8x6B",
        "outputId": "4904326a-a3f9-4357-a046-cc18e2506048",
        "colab": {
          "base_uri": "https://localhost:8080/",
          "height": 151
        }
      },
      "source": [
        "help(np.random.random)"
      ],
      "execution_count": null,
      "outputs": [
        {
          "output_type": "stream",
          "text": [
            "Help on built-in function random:\n",
            "\n",
            "random(...) method of numpy.random.mtrand.RandomState instance\n",
            "    random(size=None)\n",
            "    \n",
            "    Return random floats in the half-open interval [0.0, 1.0). Alias for\n",
            "    `random_sample` to ease forward-porting to the new random API.\n",
            "\n"
          ],
          "name": "stdout"
        }
      ]
    },
    {
      "cell_type": "markdown",
      "metadata": {
        "id": "eqDFt56MMHKa"
      },
      "source": [
        "#### (15) 上下左右の端が 1 で、中が 0 の配列を作る。"
      ]
    },
    {
      "cell_type": "code",
      "metadata": {
        "id": "d3b-I-5wMHKb",
        "outputId": "78866ce9-3181-4fed-e10a-cfe4892fdf1c",
        "colab": {
          "base_uri": "https://localhost:8080/",
          "height": 185
        }
      },
      "source": [
        "Z = np.ones((10,10))\n",
        "Z[1:-1,1:-1] = 0\n",
        "print(Z)"
      ],
      "execution_count": null,
      "outputs": [
        {
          "output_type": "stream",
          "text": [
            "[[1. 1. 1. 1. 1. 1. 1. 1. 1. 1.]\n",
            " [1. 0. 0. 0. 0. 0. 0. 0. 0. 1.]\n",
            " [1. 0. 0. 0. 0. 0. 0. 0. 0. 1.]\n",
            " [1. 0. 0. 0. 0. 0. 0. 0. 0. 1.]\n",
            " [1. 0. 0. 0. 0. 0. 0. 0. 0. 1.]\n",
            " [1. 0. 0. 0. 0. 0. 0. 0. 0. 1.]\n",
            " [1. 0. 0. 0. 0. 0. 0. 0. 0. 1.]\n",
            " [1. 0. 0. 0. 0. 0. 0. 0. 0. 1.]\n",
            " [1. 0. 0. 0. 0. 0. 0. 0. 0. 1.]\n",
            " [1. 1. 1. 1. 1. 1. 1. 1. 1. 1.]]\n"
          ],
          "name": "stdout"
        }
      ]
    },
    {
      "cell_type": "code",
      "metadata": {
        "id": "QLs3KwXo-LCt",
        "outputId": "5fede0ec-d1df-41a6-cd09-29b72e3aecff",
        "colab": {
          "base_uri": "https://localhost:8080/",
          "height": 185
        }
      },
      "source": [
        "# 実験\n",
        "\n",
        "z = np.array([1 for x in range(100)]).reshape(10,10)\n",
        "z.reshape(10,10)\n",
        "z[1:-1,1:-1] = 0\n",
        "print(z)"
      ],
      "execution_count": null,
      "outputs": [
        {
          "output_type": "stream",
          "text": [
            "[[1 1 1 1 1 1 1 1 1 1]\n",
            " [1 0 0 0 0 0 0 0 0 1]\n",
            " [1 0 0 0 0 0 0 0 0 1]\n",
            " [1 0 0 0 0 0 0 0 0 1]\n",
            " [1 0 0 0 0 0 0 0 0 1]\n",
            " [1 0 0 0 0 0 0 0 0 1]\n",
            " [1 0 0 0 0 0 0 0 0 1]\n",
            " [1 0 0 0 0 0 0 0 0 1]\n",
            " [1 0 0 0 0 0 0 0 0 1]\n",
            " [1 1 1 1 1 1 1 1 1 1]]\n"
          ],
          "name": "stdout"
        }
      ]
    },
    {
      "cell_type": "markdown",
      "metadata": {
        "id": "xuXOaNYIMHKe"
      },
      "source": [
        "#### (16) すでにある配列に 0 で縁をつける。"
      ]
    },
    {
      "cell_type": "code",
      "metadata": {
        "id": "3qwI6BjQMHKf",
        "outputId": "ba539a4a-e385-4156-a0a8-eea484d5bac0",
        "colab": {
          "base_uri": "https://localhost:8080/",
          "height": 134
        }
      },
      "source": [
        "Z = np.ones((5,5))\n",
        "Z = np.pad(Z, pad_width=1, mode='constant', constant_values=0)\n",
        "print(Z)\n",
        "\n",
        "# # Using fancy indexing\n",
        "# Z = np.ones((5,5))\n",
        "# Z[:, [0, -1]] = 0\n",
        "# Z[[0, -1], :] = 0\n",
        "# print(Z)"
      ],
      "execution_count": null,
      "outputs": [
        {
          "output_type": "stream",
          "text": [
            "[[0. 0. 0. 0. 0. 0. 0.]\n",
            " [0. 1. 1. 1. 1. 1. 0.]\n",
            " [0. 1. 1. 1. 1. 1. 0.]\n",
            " [0. 1. 1. 1. 1. 1. 0.]\n",
            " [0. 1. 1. 1. 1. 1. 0.]\n",
            " [0. 1. 1. 1. 1. 1. 0.]\n",
            " [0. 0. 0. 0. 0. 0. 0.]]\n"
          ],
          "name": "stdout"
        }
      ]
    },
    {
      "cell_type": "code",
      "metadata": {
        "id": "pMrL-3LkELcS",
        "outputId": "8ea1c127-1eba-43ba-b8f3-17e40755dd6a",
        "colab": {
          "base_uri": "https://localhost:8080/",
          "height": 134
        }
      },
      "source": [
        "# 実験\n",
        "\n",
        "Z = np.ones((5,5))\n",
        "Z=[[0]+list(l)+[0] for l in Z]\n",
        "Z= [[0]*len(Z[0])]+Z+[[0]*len(Z[0])]\n",
        "Z"
      ],
      "execution_count": null,
      "outputs": [
        {
          "output_type": "execute_result",
          "data": {
            "text/plain": [
              "[[0, 0, 0, 0, 0, 0, 0],\n",
              " [0, 1.0, 1.0, 1.0, 1.0, 1.0, 0],\n",
              " [0, 1.0, 1.0, 1.0, 1.0, 1.0, 0],\n",
              " [0, 1.0, 1.0, 1.0, 1.0, 1.0, 0],\n",
              " [0, 1.0, 1.0, 1.0, 1.0, 1.0, 0],\n",
              " [0, 1.0, 1.0, 1.0, 1.0, 1.0, 0],\n",
              " [0, 0, 0, 0, 0, 0, 0]]"
            ]
          },
          "metadata": {
            "tags": []
          },
          "execution_count": 57
        }
      ]
    },
    {
      "cell_type": "markdown",
      "metadata": {
        "id": "6TyZHyL_MHKj"
      },
      "source": [
        "#### (17) np.nan について調べる。\n",
        "\n",
        "np.nan は値を持たない float。  \n",
        "欠損値。\n",
        "NaN = Not a Number\n",
        "\n",
        "  \n"
      ]
    },
    {
      "cell_type": "code",
      "metadata": {
        "id": "NsOg9co7lRz0"
      },
      "source": [
        "import numpy as np\n",
        "\n",
        "print(0*np.nan) #=> nan \n",
        "print(np.nan==np.nan) #=> False\n",
        "print(np.inf > np.nan) #=> False\n",
        "print(np.nan - np.nan) #=> nan\n",
        "print(np.nan in set([np.nan])) #=> True\n",
        "print(0.3 == 3 * 0.1) #=> False\n"
      ],
      "execution_count": null,
      "outputs": []
    },
    {
      "cell_type": "code",
      "metadata": {
        "id": "ZijpoRHJMHKj",
        "outputId": "9540a864-7245-47aa-afee-2f59c214dc08",
        "colab": {
          "base_uri": "https://localhost:8080/",
          "height": 168
        }
      },
      "source": [
        "# 実験\n",
        "\n",
        "print()\n",
        "print(np.nan) #=> nan\n",
        "print(type(np.nan)) #=> <class 'float'>\n",
        "print(True if np.nan else False) #=> True\n",
        "print(None) #=> None\n",
        "print(type(None)) #=> <class 'NoneType'>\n",
        "print(True if None else False) #=> False\n",
        "print()\n",
        "print(np.isnan((np.nan)))"
      ],
      "execution_count": null,
      "outputs": [
        {
          "output_type": "stream",
          "text": [
            "\n",
            "nan\n",
            "<class 'float'>\n",
            "True\n",
            "None\n",
            "<class 'NoneType'>\n",
            "False\n",
            "\n",
            "True\n"
          ],
          "name": "stdout"
        }
      ]
    },
    {
      "cell_type": "code",
      "metadata": {
        "id": "KdtVEDQfnlTY",
        "outputId": "1077f3f0-7da9-4bab-c985-e25835f691e6",
        "colab": {
          "base_uri": "https://localhost:8080/",
          "height": 34
        }
      },
      "source": [
        "%%writefile height.csv\n",
        "name,height\n",
        "Ahmad,175.2\n",
        "Eli,\n",
        "Kobe,180.8"
      ],
      "execution_count": null,
      "outputs": [
        {
          "output_type": "stream",
          "text": [
            "Writing height.csv\n"
          ],
          "name": "stdout"
        }
      ]
    },
    {
      "cell_type": "code",
      "metadata": {
        "id": "6V9OOZgSn95F",
        "outputId": "ad10b634-2578-42dd-df7a-52494b37fd94",
        "colab": {
          "base_uri": "https://localhost:8080/",
          "height": 34
        }
      },
      "source": [
        "%ls"
      ],
      "execution_count": null,
      "outputs": [
        {
          "output_type": "stream",
          "text": [
            "\"'height.csv'\"   height.csv   \u001b[0m\u001b[01;34msample_data\u001b[0m/\n"
          ],
          "name": "stdout"
        }
      ]
    },
    {
      "cell_type": "code",
      "metadata": {
        "id": "kmTGfcjmlanb",
        "outputId": "39f3a7aa-2077-4cbe-ac52-8f82fe644d1e",
        "colab": {
          "base_uri": "https://localhost:8080/",
          "height": 151
        }
      },
      "source": [
        "# 実験\n",
        "\n",
        "import pandas as pd\n",
        "import numpy as np\n",
        "\n",
        "\n",
        "df = pd.read_csv('height.csv')\n",
        "print(df)\n",
        "print()\n",
        "for idx in df.index:\n",
        "  print(np.isnan(df.loc[idx, 'height']))\n"
      ],
      "execution_count": null,
      "outputs": [
        {
          "output_type": "stream",
          "text": [
            "    name  height\n",
            "0  Ahmad   175.2\n",
            "1    Eli     NaN\n",
            "2   Kobe   180.8\n",
            "\n",
            "False\n",
            "True\n",
            "False\n"
          ],
          "name": "stdout"
        }
      ]
    },
    {
      "cell_type": "markdown",
      "metadata": {
        "id": "IweJpzOBMHKm"
      },
      "source": [
        "#### (18) 5x5 の行列で、対角線の1つ下に 1,2,3,4 の値を入れる。"
      ]
    },
    {
      "cell_type": "code",
      "metadata": {
        "id": "TOdr4pIxMHKn",
        "outputId": "87215bf6-a614-41eb-e2c1-0b2b3ea58726",
        "colab": {
          "base_uri": "https://localhost:8080/",
          "height": 101
        }
      },
      "source": [
        "Z = np.diag(1+np.arange(4),k=-1)\n",
        "print(Z)"
      ],
      "execution_count": null,
      "outputs": [
        {
          "output_type": "stream",
          "text": [
            "[[0 0 0 0 0]\n",
            " [1 0 0 0 0]\n",
            " [0 2 0 0 0]\n",
            " [0 0 3 0 0]\n",
            " [0 0 0 4 0]]\n"
          ],
          "name": "stdout"
        }
      ]
    },
    {
      "cell_type": "code",
      "metadata": {
        "id": "5tZPXmztUlAd",
        "outputId": "0e300048-9093-419d-9350-d239f11b2338",
        "colab": {
          "base_uri": "https://localhost:8080/",
          "height": 151
        }
      },
      "source": [
        "# 実験\n",
        "\n",
        "print(np.diag(np.array([1,2,3,4]), k=-1))\n",
        "\n",
        "print(np.arange(4))\n",
        "print(1+np.arange(4))\n",
        "print(np.array([1+x for x in range(4)]))"
      ],
      "execution_count": null,
      "outputs": [
        {
          "output_type": "stream",
          "text": [
            "[[0 0 0 0 0]\n",
            " [1 0 0 0 0]\n",
            " [0 2 0 0 0]\n",
            " [0 0 3 0 0]\n",
            " [0 0 0 4 0]]\n",
            "[0 1 2 3]\n",
            "[1 2 3 4]\n",
            "[1 2 3 4]\n"
          ],
          "name": "stdout"
        }
      ]
    },
    {
      "cell_type": "markdown",
      "metadata": {
        "id": "LcZSSjb6MHKq"
      },
      "source": [
        "#### (19) 8x8 のチェッカーボードパターンの行列を作る。"
      ]
    },
    {
      "cell_type": "code",
      "metadata": {
        "id": "w7TJYl0lMHKq",
        "outputId": "d04f372b-f74f-4525-c040-c286c3e783c2",
        "colab": {
          "base_uri": "https://localhost:8080/",
          "height": 151
        }
      },
      "source": [
        "Z = np.zeros((8,8),dtype=int)\n",
        "Z[1::2,::2] = 1\n",
        "Z[::2,1::2] = 1\n",
        "print(Z)"
      ],
      "execution_count": null,
      "outputs": [
        {
          "output_type": "stream",
          "text": [
            "[[0 1 0 1 0 1 0 1]\n",
            " [1 0 1 0 1 0 1 0]\n",
            " [0 1 0 1 0 1 0 1]\n",
            " [1 0 1 0 1 0 1 0]\n",
            " [0 1 0 1 0 1 0 1]\n",
            " [1 0 1 0 1 0 1 0]\n",
            " [0 1 0 1 0 1 0 1]\n",
            " [1 0 1 0 1 0 1 0]]\n"
          ],
          "name": "stdout"
        }
      ]
    },
    {
      "cell_type": "code",
      "metadata": {
        "id": "HH6pcAXfV4Op",
        "outputId": "2ce33008-ec3c-432c-816c-445bc6d4035f",
        "colab": {
          "base_uri": "https://localhost:8080/",
          "height": 151
        }
      },
      "source": [
        "# 実験\n",
        "\n",
        "Z = np.zeros((8,8),dtype=int)\n",
        "Z[1::2,0::3] = 1\n",
        "print(Z)"
      ],
      "execution_count": null,
      "outputs": [
        {
          "output_type": "stream",
          "text": [
            "[[0 0 0 0 0 0 0 0]\n",
            " [1 0 0 1 0 0 1 0]\n",
            " [0 0 0 0 0 0 0 0]\n",
            " [1 0 0 1 0 0 1 0]\n",
            " [0 0 0 0 0 0 0 0]\n",
            " [1 0 0 1 0 0 1 0]\n",
            " [0 0 0 0 0 0 0 0]\n",
            " [1 0 0 1 0 0 1 0]]\n"
          ],
          "name": "stdout"
        }
      ]
    },
    {
      "cell_type": "markdown",
      "metadata": {
        "id": "ujL3zV6mMHKt"
      },
      "source": [
        "#### (20) 6x7x8 の形の配列の 100 番目の座標 x,y,z を求める。\n"
      ]
    },
    {
      "cell_type": "code",
      "metadata": {
        "id": "m8EfEAK3MHKu",
        "outputId": "69ebfcd7-2115-4d83-9785-09bb34903d64",
        "colab": {
          "base_uri": "https://localhost:8080/",
          "height": 35
        }
      },
      "source": [
        "print(np.unravel_index(99,(6,7,8)))"
      ],
      "execution_count": null,
      "outputs": [
        {
          "output_type": "stream",
          "text": [
            "(1, 5, 3)\n"
          ],
          "name": "stdout"
        }
      ]
    },
    {
      "cell_type": "code",
      "metadata": {
        "id": "bJYyFdnCzPaf",
        "outputId": "4d819d30-ea1c-42a7-921e-ec14f38ce006",
        "colab": {
          "base_uri": "https://localhost:8080/",
          "height": 69
        }
      },
      "source": [
        "# 実験\n",
        "\n",
        "print(type(np.unravel_index(99,(6,7,8))))\n",
        "\n",
        "print(np.where(np.array(range(6*7*8)).reshape(6,7,8) == 99))\n",
        "\n",
        "tuple([int(x) for x in np.where(np.array(range(6*7*8)).reshape(6,7,8) == 99)])"
      ],
      "execution_count": null,
      "outputs": [
        {
          "output_type": "stream",
          "text": [
            "<class 'tuple'>\n",
            "(array([1]), array([5]), array([3]))\n"
          ],
          "name": "stdout"
        },
        {
          "output_type": "execute_result",
          "data": {
            "text/plain": [
              "(1, 5, 3)"
            ]
          },
          "metadata": {
            "tags": []
          },
          "execution_count": 137
        }
      ]
    },
    {
      "cell_type": "markdown",
      "metadata": {
        "id": "I7hwVU_fMHKy"
      },
      "source": [
        "#### (21) tile 関数を使って 8x8 の行列を作る。"
      ]
    },
    {
      "cell_type": "code",
      "metadata": {
        "id": "jiB7lRaUMHKy",
        "outputId": "ad07c277-fad7-4370-f7f2-45144095487d",
        "colab": {
          "base_uri": "https://localhost:8080/",
          "height": 155
        }
      },
      "source": [
        "Z = np.tile( np.array([[0,1],[1,0]]), (4,4))\n",
        "print(Z)"
      ],
      "execution_count": null,
      "outputs": [
        {
          "output_type": "stream",
          "text": [
            "[[0 1 0 1 0 1 0 1]\n",
            " [1 0 1 0 1 0 1 0]\n",
            " [0 1 0 1 0 1 0 1]\n",
            " [1 0 1 0 1 0 1 0]\n",
            " [0 1 0 1 0 1 0 1]\n",
            " [1 0 1 0 1 0 1 0]\n",
            " [0 1 0 1 0 1 0 1]\n",
            " [1 0 1 0 1 0 1 0]]\n"
          ],
          "name": "stdout"
        }
      ]
    },
    {
      "cell_type": "code",
      "metadata": {
        "id": "Sy3C6ohNDEl4",
        "outputId": "c0875e71-a0f1-4bc5-d0d9-364cec7bf8d4",
        "colab": {
          "base_uri": "https://localhost:8080/",
          "height": 173
        }
      },
      "source": [
        "# 実験\n",
        "\n",
        "Z = np.tile( np.array([[0,8],[8,8,8]]), (2,4))\n",
        "print(Z)\n",
        "\n",
        "print()\n",
        "\n",
        "Z = np.tile( np.array([[0,8],[8,8]]), (2,4))\n",
        "print(Z)\n"
      ],
      "execution_count": null,
      "outputs": [
        {
          "output_type": "stream",
          "text": [
            "[[list([0, 8]) list([8, 8, 8]) list([0, 8]) list([8, 8, 8]) list([0, 8])\n",
            "  list([8, 8, 8]) list([0, 8]) list([8, 8, 8])]\n",
            " [list([0, 8]) list([8, 8, 8]) list([0, 8]) list([8, 8, 8]) list([0, 8])\n",
            "  list([8, 8, 8]) list([0, 8]) list([8, 8, 8])]]\n",
            "\n",
            "[[0 8 0 8 0 8 0 8]\n",
            " [8 8 8 8 8 8 8 8]\n",
            " [0 8 0 8 0 8 0 8]\n",
            " [8 8 8 8 8 8 8 8]]\n"
          ],
          "name": "stdout"
        }
      ]
    },
    {
      "cell_type": "markdown",
      "metadata": {
        "id": "Hnax8L2_MHK1"
      },
      "source": [
        "#### (22) 5x5 のランダムな値の行列を正規化 normalize する。"
      ]
    },
    {
      "cell_type": "code",
      "metadata": {
        "id": "ZoQVfYWZMHK2",
        "outputId": "ff91d74f-7a7a-4ae1-87e4-c148647c05f0",
        "colab": {
          "base_uri": "https://localhost:8080/",
          "height": 104
        }
      },
      "source": [
        "Z = np.random.random((5,5))\n",
        "Z = (Z - np.mean (Z)) / (np.std (Z))\n",
        "print(Z)"
      ],
      "execution_count": null,
      "outputs": [
        {
          "output_type": "stream",
          "text": [
            "[[-1.49495325  1.0648661   0.42466927  0.62741848  0.96765864]\n",
            " [-0.39294451 -1.30953926 -0.09166495  0.15148677  0.66923636]\n",
            " [ 1.26848903  0.17681553 -1.71764193  0.17125861  1.41327039]\n",
            " [-0.66521063  0.83701578 -1.3898193  -1.6860331   1.06132781]\n",
            " [ 0.66091197  0.9388932   0.35563399 -0.48055263 -1.56059238]]\n"
          ],
          "name": "stdout"
        }
      ]
    },
    {
      "cell_type": "code",
      "metadata": {
        "id": "XWDlAk2iESA6",
        "outputId": "2351e33d-6e3a-41a1-9867-21b8d7b0786f",
        "colab": {
          "base_uri": "https://localhost:8080/",
          "height": 207
        }
      },
      "source": [
        "# 実験\n",
        "\n",
        "Z = np.random.randint(10, size=(5,5))\n",
        "print(Z)\n",
        "print()\n",
        "Z = (Z - np.mean (Z))\n",
        "print(Z)"
      ],
      "execution_count": null,
      "outputs": [
        {
          "output_type": "stream",
          "text": [
            "[[6 5 1 3 7]\n",
            " [4 6 8 0 2]\n",
            " [1 1 9 4 9]\n",
            " [3 6 6 1 5]\n",
            " [1 6 7 5 8]]\n",
            "\n",
            "[[ 1.44  0.44 -3.56 -1.56  2.44]\n",
            " [-0.56  1.44  3.44 -4.56 -2.56]\n",
            " [-3.56 -3.56  4.44 -0.56  4.44]\n",
            " [-1.56  1.44  1.44 -3.56  0.44]\n",
            " [-3.56  1.44  2.44  0.44  3.44]]\n"
          ],
          "name": "stdout"
        }
      ]
    },
    {
      "cell_type": "markdown",
      "metadata": {
        "id": "Zmaa2W40MHK4"
      },
      "source": [
        "#### (23) カスタム dtype を作り、4つの unsigned bytes (RGBA) で色を表現する。"
      ]
    },
    {
      "cell_type": "code",
      "metadata": {
        "id": "acTk6JloMHK5",
        "outputId": "765214ee-a182-400d-f115-3c26a8db4c2f",
        "colab": {
          "base_uri": "https://localhost:8080/",
          "height": 35
        }
      },
      "source": [
        "# color = np.dtype([(\"r\", np.ubyte, 1),\n",
        "#                   (\"g\", np.ubyte, 1),\n",
        "#                   (\"b\", np.ubyte, 1),\n",
        "#                   (\"a\", np.ubyte, 1)])\n",
        "\n",
        "color = np.dtype([(\"r\", np.ubyte),\n",
        "                (\"g\", np.ubyte),\n",
        "                (\"b\", np.ubyte),\n",
        "                (\"a\", np.ubyte)])\n",
        "\n",
        "print(color)"
      ],
      "execution_count": null,
      "outputs": [
        {
          "output_type": "stream",
          "text": [
            "[('r', 'u1'), ('g', 'u1'), ('b', 'u1'), ('a', 'u1')]\n"
          ],
          "name": "stdout"
        }
      ]
    },
    {
      "cell_type": "code",
      "metadata": {
        "id": "-ZU5FFq6ToV-",
        "outputId": "51f1e2fb-5e43-4adb-c837-edce25015c99",
        "colab": {
          "base_uri": "https://localhost:8080/",
          "height": 173
        }
      },
      "source": [
        "# 実験\n",
        "\n",
        "a = np.array([1,2,3])\n",
        "print(a)\n",
        "print(a.dtype)\n",
        "a = np.array([1,2.0,3.5])\n",
        "print(a.dtype)\n",
        "a = np.array([1,2,3], dtype='int32')\n",
        "print(a.dtype)\n",
        "a = np.array([1,2,3], dtype='float')\n",
        "print(a)\n",
        "print(a.dtype)\n",
        "a = np.array([1,2.0,3.5], dtype='int')\n",
        "print(a)\n",
        "print(a.dtype)\n",
        "f = np.array([0, 3, 0, -1], dtype = 'bool')\n",
        "print(f)"
      ],
      "execution_count": null,
      "outputs": [
        {
          "output_type": "stream",
          "text": [
            "[1 2 3]\n",
            "int64\n",
            "float64\n",
            "int32\n",
            "[1. 2. 3.]\n",
            "float64\n",
            "[1 2 3]\n",
            "int64\n",
            "[False  True False  True]\n"
          ],
          "name": "stdout"
        }
      ]
    },
    {
      "cell_type": "markdown",
      "metadata": {
        "id": "7mZeGELNMHK8"
      },
      "source": [
        "#### (24) 5x3 の行列と 3x2 の行列の積を求める。\n"
      ]
    },
    {
      "cell_type": "code",
      "metadata": {
        "id": "ykt2WSHEMHK8",
        "outputId": "91570acf-9d05-4b22-971e-812d76b27574",
        "colab": {
          "base_uri": "https://localhost:8080/",
          "height": 104
        }
      },
      "source": [
        "Z = np.dot(np.ones((5,3)), np.ones((3,2)))\n",
        "print(Z)"
      ],
      "execution_count": null,
      "outputs": [
        {
          "output_type": "stream",
          "text": [
            "[[3. 3.]\n",
            " [3. 3.]\n",
            " [3. 3.]\n",
            " [3. 3.]\n",
            " [3. 3.]]\n"
          ],
          "name": "stdout"
        }
      ]
    },
    {
      "cell_type": "code",
      "metadata": {
        "id": "ni7Ol00_W4wJ",
        "outputId": "99e0a5b6-6900-4856-a49e-42258b331b2e",
        "colab": {
          "base_uri": "https://localhost:8080/",
          "height": 104
        }
      },
      "source": [
        "# Alternative solution, in Python 3.5 and above\n",
        "Z = np.ones((5,3)) @ np.ones((3,2))\n",
        "print(Z)"
      ],
      "execution_count": null,
      "outputs": [
        {
          "output_type": "stream",
          "text": [
            "[[3. 3.]\n",
            " [3. 3.]\n",
            " [3. 3.]\n",
            " [3. 3.]\n",
            " [3. 3.]]\n"
          ],
          "name": "stdout"
        }
      ]
    },
    {
      "cell_type": "markdown",
      "metadata": {
        "id": "EjX8oWhpMHK_"
      },
      "source": [
        "#### (25) 1次元の配列で、3 と 8 の間の値の要素をマイナスにする。"
      ]
    },
    {
      "cell_type": "code",
      "metadata": {
        "id": "NX3roT_SMHLA",
        "outputId": "3f5c131a-b09c-442d-d493-ca97d6193368",
        "colab": {
          "base_uri": "https://localhost:8080/",
          "height": 35
        }
      },
      "source": [
        "Z = np.arange(11)\n",
        "Z[(3 < Z) & (Z < 8)] *= -1\n",
        "print(Z)"
      ],
      "execution_count": null,
      "outputs": [
        {
          "output_type": "stream",
          "text": [
            "[ 0  1  2  3 -4 -5 -6 -7  8  9 10]\n"
          ],
          "name": "stdout"
        }
      ]
    },
    {
      "cell_type": "code",
      "metadata": {
        "id": "RnrtGpzrXbr8",
        "outputId": "6d24b8e2-abc5-4e06-fc3b-17f30f0f0310",
        "colab": {
          "base_uri": "https://localhost:8080/",
          "height": 35
        }
      },
      "source": [
        "# 実験\n",
        "\n",
        "[(-x if (x>3)&(x<8) else x) for x in range(11)]"
      ],
      "execution_count": null,
      "outputs": [
        {
          "output_type": "execute_result",
          "data": {
            "text/plain": [
              "[0, 1, 2, 3, -4, -5, -6, -7, 8, 9, 10]"
            ]
          },
          "metadata": {
            "tags": []
          },
          "execution_count": 201
        }
      ]
    },
    {
      "cell_type": "markdown",
      "metadata": {
        "id": "pfr2oNjaMHLC"
      },
      "source": [
        "#### (26) 次のプログラムを実行して考察する。\n",
        "\n",
        "```python\n",
        "# Author: Jake VanderPlas\n",
        "\n",
        "print(sum(range(5),-1)) #=> 9\n",
        "from numpy import *\n",
        "print(sum(range(5),-1)) #=> 10\n",
        "```"
      ]
    },
    {
      "cell_type": "code",
      "metadata": {
        "id": "T1ucyVY2MHLD",
        "outputId": "d48a0fbb-d818-401c-cdb7-60dd67148b80",
        "colab": {
          "base_uri": "https://localhost:8080/",
          "height": 52
        }
      },
      "source": [
        "# 実験\n",
        "\n",
        "print(sum(range(5),-1))\n",
        "import numpy as np\n",
        "print(np.sum(range(5),-1))"
      ],
      "execution_count": null,
      "outputs": [
        {
          "output_type": "stream",
          "text": [
            "9\n",
            "10\n"
          ],
          "name": "stdout"
        }
      ]
    },
    {
      "cell_type": "code",
      "metadata": {
        "id": "6GP_rvgDal4d",
        "outputId": "8611ebc2-51c9-4c51-a851-73753c8890be",
        "colab": {
          "base_uri": "https://localhost:8080/",
          "height": 121
        }
      },
      "source": [
        "arr = np.array([[0, 1, 2], [3, 4, 5], [6, 7, 8]])\n",
        "print(arr)\n",
        "print(np.sum(arr))\n",
        "print(np.sum(arr, -1))\n",
        "print(np.sum(arr, -2))"
      ],
      "execution_count": null,
      "outputs": [
        {
          "output_type": "stream",
          "text": [
            "[[0 1 2]\n",
            " [3 4 5]\n",
            " [6 7 8]]\n",
            "36\n",
            "[ 3 12 21]\n",
            "[ 9 12 15]\n"
          ],
          "name": "stdout"
        }
      ]
    },
    {
      "cell_type": "markdown",
      "metadata": {
        "id": "Ik-yaZHxMHLF"
      },
      "source": [
        "#### (27) 整数のベクトル Z について、次の演算は文法的に可能かどうか。\n",
        "```python\n",
        "Z**Z #=> [1 4 27]\n",
        "2 << Z >> 2 #=> [1 2 4]\n",
        "Z <- Z #=> [False False Fale]\n",
        "1j*Z #=> [0.+1.j 0.+2.j 0.+3.j]\n",
        "Z/1/1 #=> [1. 2. 3.]\n",
        "Z<Z>Z #=> Error\n",
        "```"
      ]
    },
    {
      "cell_type": "code",
      "metadata": {
        "id": "9EyhmKTVMHLG",
        "outputId": "9d9db4cb-5e89-47d5-c127-4878317ccca1",
        "colab": {
          "base_uri": "https://localhost:8080/",
          "height": 121
        }
      },
      "source": [
        "import numpy as np\n",
        "\n",
        "Z = np.array([1,2,3])\n",
        "\n",
        "print(Z)\n",
        "print(Z**Z)\n",
        "print(2 << Z >> 2)\n",
        "print(Z <- Z)\n",
        "print(1j*Z)\n",
        "print(Z/1/1)\n",
        "# Z<Z>Z #=> Error"
      ],
      "execution_count": null,
      "outputs": [
        {
          "output_type": "stream",
          "text": [
            "[1 2 3]\n",
            "[ 1  4 27]\n",
            "[1 2 4]\n",
            "[False False False]\n",
            "[0.+1.j 0.+2.j 0.+3.j]\n",
            "[1. 2. 3.]\n"
          ],
          "name": "stdout"
        }
      ]
    },
    {
      "cell_type": "code",
      "metadata": {
        "id": "Avu_Fp8IoLb9",
        "outputId": "3640820b-c4cf-4aad-cc17-db6f4f1d7408",
        "colab": {
          "base_uri": "https://localhost:8080/",
          "height": 121
        }
      },
      "source": [
        "# 実験\n",
        "\n",
        "print(2 << 3) #=> 16\n",
        "print(16 >> 2) #=> 4\n",
        "print(3 < 3) #=> False\n",
        "print(3 <- 3) #=> False\n",
        "print(1/1) #=> 1.1\n",
        "print(all(Z<(Z + 1))) #=> True\n"
      ],
      "execution_count": null,
      "outputs": [
        {
          "output_type": "stream",
          "text": [
            "16\n",
            "4\n",
            "False\n",
            "False\n",
            "1.0\n",
            "True\n"
          ],
          "name": "stdout"
        }
      ]
    },
    {
      "cell_type": "markdown",
      "metadata": {
        "id": "RJNskloYMHLK"
      },
      "source": [
        "#### (28) 次の式を実行して考察する。\n",
        "\n",
        "```python\n",
        "np.array(0) / np.array(0) #=> Error\n",
        "np.array(0) // np.array(0) #=> Error\n",
        "np.array([np.nan]).astype(int).astype(float) #=> [-9.22337204e+18]\n",
        "```"
      ]
    },
    {
      "cell_type": "code",
      "metadata": {
        "id": "gae1mghFMHLK",
        "outputId": "55fbcec1-2147-4db7-e54a-302f670cd6eb",
        "colab": {
          "base_uri": "https://localhost:8080/",
          "height": 104
        }
      },
      "source": [
        "# np.array(0) / np.array(0) #=> Error\n",
        "# np.array(0) // np.array(0) #=> Error\n",
        "\n",
        "print(np.array([np.nan]).astype(int).astype(float))\n",
        "\n",
        "print(np.array([np.nan]).astype(int))\n",
        "\n",
        "print(np.array([np.nan]))\n",
        "\n",
        "print(np.array([1,2,3]).astype(int).astype(float))\n",
        "\n",
        "print(type(np.array([np.nan])))"
      ],
      "execution_count": null,
      "outputs": [
        {
          "output_type": "stream",
          "text": [
            "[-9.22337204e+18]\n",
            "[-9223372036854775808]\n",
            "[nan]\n",
            "[1. 2. 3.]\n",
            "<class 'numpy.ndarray'>\n"
          ],
          "name": "stdout"
        }
      ]
    },
    {
      "cell_type": "markdown",
      "metadata": {
        "id": "Uby02cTuMHLN"
      },
      "source": [
        "#### (29) float の配列を絶対値で切り上げる方法 (ゼロから遠くする)\n",
        "\n"
      ]
    },
    {
      "cell_type": "code",
      "metadata": {
        "id": "IgXmvADFMHLO",
        "outputId": "482af26f-830a-4907-ad65-40d622bb4c78",
        "colab": {
          "base_uri": "https://localhost:8080/",
          "height": 54
        }
      },
      "source": [
        "# Author: Charles R Harris\n",
        "import numpy as np\n",
        "\n",
        "Z = np.random.uniform(-10,+10,10)\n",
        "print(np.copysign(np.ceil(np.abs(Z)), Z))\n",
        "\n",
        "# More readable but less efficient\n",
        "print(np.where(Z>0, np.ceil(Z), np.floor(Z)))"
      ],
      "execution_count": null,
      "outputs": [
        {
          "output_type": "stream",
          "text": [
            "[ 5.  7.  8. -2.  9. -9.  3. -5.  6. -6.]\n",
            "[ 5.  7.  8. -2.  9. -9.  3. -5.  6. -6.]\n"
          ],
          "name": "stdout"
        }
      ]
    },
    {
      "cell_type": "code",
      "metadata": {
        "id": "W8nV7brtEF85",
        "outputId": "7f0901eb-7410-40dc-9bb4-6f20de1bf47f",
        "colab": {
          "base_uri": "https://localhost:8080/",
          "height": 35
        }
      },
      "source": [
        "# 実験\n",
        "\n",
        "print(np.array([np.ceil(x) if x > 0 else np.floor(x) for x in Z]))"
      ],
      "execution_count": null,
      "outputs": [
        {
          "output_type": "stream",
          "text": [
            "[ 5.  7.  8. -2.  9. -9.  3. -5.  6. -6.]\n"
          ],
          "name": "stdout"
        }
      ]
    },
    {
      "cell_type": "code",
      "metadata": {
        "id": "zlqn0v4GuGZV",
        "outputId": "688a3a42-8f0a-4e13-f1b6-4c09529237b8",
        "colab": {
          "base_uri": "https://localhost:8080/",
          "height": 90
        }
      },
      "source": [
        "# 実験\n",
        "print(Z)\n",
        "Z= np.random.random(10)*20-10\n",
        "print(Z)"
      ],
      "execution_count": null,
      "outputs": [
        {
          "output_type": "stream",
          "text": [
            "[ 4.88597751  6.05830513  7.04646978 -1.76036022  8.77801189 -8.78713674\n",
            "  2.33034816 -4.33013143  5.03650278 -5.69082844]\n",
            "[-9.13031432  0.18524706  4.28522352  7.08978126 -4.25137405  1.55836716\n",
            "  9.72748826 -4.02299386 -8.31716985  8.96060807]\n"
          ],
          "name": "stdout"
        }
      ]
    },
    {
      "cell_type": "markdown",
      "metadata": {
        "id": "jwOJ7D2NMHLR"
      },
      "source": [
        "#### (30) 2つの入れるの共通の値をみつける。\n",
        "How to find common values between two arrays? (★☆☆)"
      ]
    },
    {
      "cell_type": "code",
      "metadata": {
        "id": "l3OA2W8nMHLS",
        "outputId": "66d56623-9901-4222-ce26-ea13c4742a2c",
        "colab": {
          "base_uri": "https://localhost:8080/",
          "height": 35
        }
      },
      "source": [
        "Z1 = np.random.randint(0,10,10)\n",
        "Z2 = np.random.randint(0,10,10)\n",
        "print(np.intersect1d(Z1,Z2))"
      ],
      "execution_count": null,
      "outputs": [
        {
          "output_type": "stream",
          "text": [
            "[1 4 5 7 9]\n"
          ],
          "name": "stdout"
        }
      ]
    },
    {
      "cell_type": "code",
      "metadata": {
        "id": "sC02Gx7eH51X",
        "outputId": "72702af0-2bf6-4b05-b4dd-b4f6eb806386",
        "colab": {
          "base_uri": "https://localhost:8080/",
          "height": 126
        }
      },
      "source": [
        "# 実験\n",
        "print(np.unique([1,2,3,2,3]))\n",
        "s1 = np.array([1,2,3,2,3,4])\n",
        "s2 = np.array([2,3,4,5,6,7,])\n",
        "print(np.union1d(s1,s2))\n",
        "print(np.in1d([3,7], s1))\n",
        "print(np.intersect1d(s1,s2))\n",
        "print(np.setdiff1d(s2,s1))\n",
        "print(np.setxor1d(s1,s2))"
      ],
      "execution_count": null,
      "outputs": [
        {
          "output_type": "stream",
          "text": [
            "[1 2 3]\n",
            "[1 2 3 4 5 6 7]\n",
            "[ True False]\n",
            "[2 3 4]\n",
            "[5 6 7]\n",
            "[1 5 6 7]\n"
          ],
          "name": "stdout"
        }
      ]
    },
    {
      "cell_type": "markdown",
      "metadata": {
        "id": "BpYTi4O2MHLV"
      },
      "source": [
        "#### (31) numpy の警告を無視する方法。\n",
        "How to ignore all numpy warnings (not recommended)? (★☆☆)"
      ]
    },
    {
      "cell_type": "code",
      "metadata": {
        "id": "MPZabZyWMHLV"
      },
      "source": [
        "# Suicide mode on\n",
        "defaults = np.seterr(all=\"ignore\")\n",
        "Z = np.ones(1) / 0\n",
        "\n",
        "# Back to sanity\n",
        "_ = np.seterr(**defaults)\n",
        "\n",
        "# Equivalently with a context manager\n",
        "with np.errstate(all=\"ignore\"):\n",
        "    np.arange(3) / 0"
      ],
      "execution_count": null,
      "outputs": []
    },
    {
      "cell_type": "code",
      "metadata": {
        "id": "efuyQImLj17s",
        "outputId": "c8aca2ba-7397-4ec8-a4e8-900df5744a29",
        "colab": {
          "base_uri": "https://localhost:8080/",
          "height": 118
        }
      },
      "source": [
        "# 実験\n",
        "print(np.ones((3,3)))\n",
        "print(np.arange((9)).reshape(3,3))"
      ],
      "execution_count": null,
      "outputs": [
        {
          "output_type": "stream",
          "text": [
            "[[1. 1. 1.]\n",
            " [1. 1. 1.]\n",
            " [1. 1. 1.]]\n",
            "[[0 1 2]\n",
            " [3 4 5]\n",
            " [6 7 8]]\n"
          ],
          "name": "stdout"
        }
      ]
    },
    {
      "cell_type": "markdown",
      "metadata": {
        "id": "op_P_dMGMHLY"
      },
      "source": [
        "#### (32) 次の式の真偽を試して考察する。\n",
        "Is the following expressions true? (★☆☆)\n",
        "```python\n",
        "np.sqrt(-1) == np.emath.sqrt(-1) #=> False なぜなら np.sqrt(-1) は 複素数を表さないが、np.emath.sqrt(-1) は複素数だから。\n",
        "```"
      ]
    },
    {
      "cell_type": "code",
      "metadata": {
        "id": "HjGyAaNDMHLY",
        "outputId": "be8371ad-14a4-4178-8e48-db9e42990736",
        "colab": {
          "base_uri": "https://localhost:8080/",
          "height": 118
        }
      },
      "source": [
        "# 実験\n",
        "\n",
        "print(np.emath.sqrt(-1) == 0+1j)\n",
        "print(np.emath.sqrt(-1) == 1j)\n",
        "print((1j)**2)\n",
        "print(np.sqrt(-1))"
      ],
      "execution_count": null,
      "outputs": [
        {
          "output_type": "stream",
          "text": [
            "True\n",
            "True\n",
            "(-1+0j)\n",
            "nan\n"
          ],
          "name": "stdout"
        },
        {
          "output_type": "stream",
          "text": [
            "/usr/local/lib/python3.6/dist-packages/ipykernel_launcher.py:6: RuntimeWarning: invalid value encountered in sqrt\n",
            "  \n"
          ],
          "name": "stderr"
        }
      ]
    },
    {
      "cell_type": "markdown",
      "metadata": {
        "id": "2Yh5MzJVMHLb"
      },
      "source": [
        "#### (33) 昨日、今日、明日の日付を表示する。"
      ]
    },
    {
      "cell_type": "code",
      "metadata": {
        "id": "LlNiMhIgMHLc",
        "outputId": "58f28395-feab-40b7-e449-3402eab93076",
        "colab": {
          "base_uri": "https://localhost:8080/",
          "height": 67
        }
      },
      "source": [
        "yesterday = np.datetime64('today') - np.timedelta64(1)\n",
        "today     = np.datetime64('today')\n",
        "tomorrow  = np.datetime64('today') + np.timedelta64(1)\n",
        "\n",
        "print(yesterday)\n",
        "print(today)\n",
        "print(tomorrow)"
      ],
      "execution_count": null,
      "outputs": [
        {
          "output_type": "stream",
          "text": [
            "2020-10-18\n",
            "2020-10-19\n",
            "2020-10-20\n"
          ],
          "name": "stdout"
        }
      ]
    },
    {
      "cell_type": "markdown",
      "metadata": {
        "id": "kyYnwBIhMHLg"
      },
      "source": [
        "#### (34) 2016年7月の日付をすべて列挙する。"
      ]
    },
    {
      "cell_type": "code",
      "metadata": {
        "id": "EKMvcVWiMHLg",
        "outputId": "3f3fb72c-c611-4ef8-88a7-892c04b82132",
        "colab": {
          "base_uri": "https://localhost:8080/",
          "height": 134
        }
      },
      "source": [
        "Z = np.arange('2016-07', '2016-08', dtype='datetime64[D]')\n",
        "print(Z)"
      ],
      "execution_count": null,
      "outputs": [
        {
          "output_type": "stream",
          "text": [
            "['2016-07-01' '2016-07-02' '2016-07-03' '2016-07-04' '2016-07-05'\n",
            " '2016-07-06' '2016-07-07' '2016-07-08' '2016-07-09' '2016-07-10'\n",
            " '2016-07-11' '2016-07-12' '2016-07-13' '2016-07-14' '2016-07-15'\n",
            " '2016-07-16' '2016-07-17' '2016-07-18' '2016-07-19' '2016-07-20'\n",
            " '2016-07-21' '2016-07-22' '2016-07-23' '2016-07-24' '2016-07-25'\n",
            " '2016-07-26' '2016-07-27' '2016-07-28' '2016-07-29' '2016-07-30'\n",
            " '2016-07-31']\n"
          ],
          "name": "stdout"
        }
      ]
    },
    {
      "cell_type": "markdown",
      "metadata": {
        "id": "39pZ4SJ_MHLj"
      },
      "source": [
        "#### (35) 行列演算 ((A+B)*(-A/2)) を in place で実行する。in place とはコピーを作らずに計算すること。"
      ]
    },
    {
      "cell_type": "code",
      "metadata": {
        "id": "ocn7BYMqMHLk",
        "outputId": "37282615-c28f-48f0-addf-81020dd8d827",
        "colab": {
          "base_uri": "https://localhost:8080/",
          "height": 84
        }
      },
      "source": [
        "A = np.ones(3)*1\n",
        "B = np.ones(3)*2\n",
        "C = np.ones(3)*3\n",
        "print(np.add(A,B,out=B))\n",
        "print(np.divide(A,2,out=A))\n",
        "print(np.negative(A,out=A))\n",
        "print(np.multiply(A,B,out=A))"
      ],
      "execution_count": null,
      "outputs": [
        {
          "output_type": "stream",
          "text": [
            "[3. 3. 3.]\n",
            "[0.5 0.5 0.5]\n",
            "[-0.5 -0.5 -0.5]\n",
            "[-1.5 -1.5 -1.5]\n"
          ],
          "name": "stdout"
        }
      ]
    },
    {
      "cell_type": "code",
      "metadata": {
        "id": "UwlgLfdDBxOo",
        "outputId": "d9a0f34f-1891-4b37-91b2-be8177da7991",
        "colab": {
          "base_uri": "https://localhost:8080/",
          "height": 34
        }
      },
      "source": [
        "# 実験\n",
        "A = np.ones(3)*1\n",
        "B = np.ones(3)*2\n",
        "C = np.ones(3)*3\n",
        "print((A+B)*(-A/2))"
      ],
      "execution_count": null,
      "outputs": [
        {
          "output_type": "stream",
          "text": [
            "[-1.5 -1.5 -1.5]\n"
          ],
          "name": "stdout"
        }
      ]
    },
    {
      "cell_type": "markdown",
      "metadata": {
        "id": "Qpr9YbW1MHLo"
      },
      "source": [
        "#### (36) ランダムな正の数の配列から、整数部分をだけにする方法を4通り示す。\n"
      ]
    },
    {
      "cell_type": "code",
      "metadata": {
        "id": "JDfrZYpRMHLo",
        "outputId": "13204240-e597-412a-8563-ce978380ff6d",
        "colab": {
          "base_uri": "https://localhost:8080/",
          "height": 101
        }
      },
      "source": [
        "Z = np.random.uniform(0,10,10)\n",
        "\n",
        "print(Z - Z%1)\n",
        "print(Z // 1)\n",
        "print(np.floor(Z))\n",
        "print(Z.astype(int))\n",
        "print(np.trunc(Z))"
      ],
      "execution_count": null,
      "outputs": [
        {
          "output_type": "stream",
          "text": [
            "[2. 3. 2. 0. 9. 6. 7. 2. 4. 7.]\n",
            "[2. 3. 2. 0. 9. 6. 7. 2. 4. 7.]\n",
            "[2. 3. 2. 0. 9. 6. 7. 2. 4. 7.]\n",
            "[2 3 2 0 9 6 7 2 4 7]\n",
            "[2. 3. 2. 0. 9. 6. 7. 2. 4. 7.]\n"
          ],
          "name": "stdout"
        }
      ]
    },
    {
      "cell_type": "markdown",
      "metadata": {
        "id": "bryoAYPYMHLs"
      },
      "source": [
        "#### (37) 5x5 でそれぞれの行が 0 1 2 3 4 である行列を作る。\n"
      ]
    },
    {
      "cell_type": "code",
      "metadata": {
        "id": "k0ki69cqMHLs",
        "outputId": "584a6088-0914-42a2-90f6-04a00c9d3fee",
        "colab": {
          "base_uri": "https://localhost:8080/",
          "height": 101
        }
      },
      "source": [
        "Z = np.zeros((5,5))\n",
        "Z += np.arange(5)\n",
        "print(Z)"
      ],
      "execution_count": null,
      "outputs": [
        {
          "output_type": "stream",
          "text": [
            "[[0. 1. 2. 3. 4.]\n",
            " [0. 1. 2. 3. 4.]\n",
            " [0. 1. 2. 3. 4.]\n",
            " [0. 1. 2. 3. 4.]\n",
            " [0. 1. 2. 3. 4.]]\n"
          ],
          "name": "stdout"
        }
      ]
    },
    {
      "cell_type": "code",
      "metadata": {
        "id": "q6mPfEYsQcQ8",
        "outputId": "bf6e949e-7498-4f6d-90cc-b172dd4f5c2d",
        "colab": {
          "base_uri": "https://localhost:8080/",
          "height": 185
        }
      },
      "source": [
        "# 実験\n",
        "import numpy as np\n",
        "Z = np.zeros((5,5))\n",
        "Z += range(5,10)\n",
        "print(Z)\n",
        "print(np.transpose(Z))"
      ],
      "execution_count": null,
      "outputs": [
        {
          "output_type": "stream",
          "text": [
            "[[5. 6. 7. 8. 9.]\n",
            " [5. 6. 7. 8. 9.]\n",
            " [5. 6. 7. 8. 9.]\n",
            " [5. 6. 7. 8. 9.]\n",
            " [5. 6. 7. 8. 9.]]\n",
            "[[5. 5. 5. 5. 5.]\n",
            " [6. 6. 6. 6. 6.]\n",
            " [7. 7. 7. 7. 7.]\n",
            " [8. 8. 8. 8. 8.]\n",
            " [9. 9. 9. 9. 9.]]\n"
          ],
          "name": "stdout"
        }
      ]
    },
    {
      "cell_type": "markdown",
      "metadata": {
        "id": "kWZh95W-MHLv"
      },
      "source": [
        "#### (38) 10個の整数を作る generator 関数を作り、配列を作るのに使ってみる。\n"
      ]
    },
    {
      "cell_type": "code",
      "metadata": {
        "id": "NJO47LnkMHLv",
        "outputId": "cb4c853f-6d5a-4198-ab93-f2f45ae7b46f",
        "colab": {
          "base_uri": "https://localhost:8080/",
          "height": 34
        }
      },
      "source": [
        "def generate():\n",
        "    for x in range(10):\n",
        "        yield x\n",
        "Z = np.fromiter(generate(),dtype=float,count=-1)\n",
        "print(Z)"
      ],
      "execution_count": null,
      "outputs": [
        {
          "output_type": "stream",
          "text": [
            "[0. 1. 2. 3. 4. 5. 6. 7. 8. 9.]\n"
          ],
          "name": "stdout"
        }
      ]
    },
    {
      "cell_type": "code",
      "metadata": {
        "id": "9YxMHTYGPsQ1",
        "outputId": "34377e1c-3547-41c0-d031-8f5ee3787ede",
        "colab": {
          "base_uri": "https://localhost:8080/",
          "height": 34
        }
      },
      "source": [
        "# 実験\n",
        "\n",
        "def generate():\n",
        "    for x in range(20):\n",
        "        yield x*x\n",
        "\n",
        "Z = np.fromiter(generate(),dtype=int,count=5)\n",
        "\n",
        "print(Z)\n",
        "\n"
      ],
      "execution_count": null,
      "outputs": [
        {
          "output_type": "stream",
          "text": [
            "[ 0  1  4  9 16]\n"
          ],
          "name": "stdout"
        }
      ]
    },
    {
      "cell_type": "markdown",
      "metadata": {
        "id": "uOmmJ7PkMHLx"
      },
      "source": [
        "#### (39) 0 から 1 の値のサイズ 10 のベクトルを作る。0 と 1 は含まれないものとする。"
      ]
    },
    {
      "cell_type": "code",
      "metadata": {
        "id": "tw8ZlKhKMHLy",
        "outputId": "cbd4f8e3-d750-49e8-cc7f-ed82f8b17338",
        "colab": {
          "base_uri": "https://localhost:8080/",
          "height": 50
        }
      },
      "source": [
        "Z = np.linspace(0,1,11,endpoint=False)[1:]\n",
        "print(Z)"
      ],
      "execution_count": null,
      "outputs": [
        {
          "output_type": "stream",
          "text": [
            "[0.09090909 0.18181818 0.27272727 0.36363636 0.45454545 0.54545455\n",
            " 0.63636364 0.72727273 0.81818182 0.90909091]\n"
          ],
          "name": "stdout"
        }
      ]
    },
    {
      "cell_type": "code",
      "metadata": {
        "id": "q-RY4Dt1UUew",
        "outputId": "fbad34e1-8e77-40c6-e4a3-b82313fd9a5d",
        "colab": {
          "base_uri": "https://localhost:8080/",
          "height": 84
        }
      },
      "source": [
        "# 実験\n",
        "\n",
        "Z = np.linspace(0,1,11)\n",
        "print(Z)\n",
        "Z = np.linspace(0,1,11)[1:-1]\n",
        "print(Z)\n",
        "Z = np.linspace(0,1,12)[1:-1]\n",
        "print(Z)"
      ],
      "execution_count": null,
      "outputs": [
        {
          "output_type": "stream",
          "text": [
            "[0.  0.1 0.2 0.3 0.4 0.5 0.6 0.7 0.8 0.9 1. ]\n",
            "[0.1 0.2 0.3 0.4 0.5 0.6 0.7 0.8 0.9]\n",
            "[0.09090909 0.18181818 0.27272727 0.36363636 0.45454545 0.54545455\n",
            " 0.63636364 0.72727273 0.81818182 0.90909091]\n"
          ],
          "name": "stdout"
        }
      ]
    },
    {
      "cell_type": "markdown",
      "metadata": {
        "id": "Ymla6bxJMHL2"
      },
      "source": [
        "#### (40) ランダムな値のサイズ 10 のベクトルを作り、ソートする。"
      ]
    },
    {
      "cell_type": "code",
      "metadata": {
        "id": "SoDaHSWiMHL2",
        "outputId": "9da6c933-eb26-471e-c6a2-ebfe0688f689",
        "colab": {
          "base_uri": "https://localhost:8080/",
          "height": 50
        }
      },
      "source": [
        "import numpy as np\n",
        "Z = np.random.random(10)\n",
        "Z.sort()\n",
        "print(Z)"
      ],
      "execution_count": null,
      "outputs": [
        {
          "output_type": "stream",
          "text": [
            "[0.18283796 0.31519496 0.52620308 0.53793099 0.54153066 0.73683126\n",
            " 0.7389809  0.81460737 0.81915994 0.90923844]\n"
          ],
          "name": "stdout"
        }
      ]
    },
    {
      "cell_type": "markdown",
      "metadata": {
        "id": "d2Gja5l6MHL6"
      },
      "source": [
        "#### (41) 小さな配列について、np.sum より速い方法。\n"
      ]
    },
    {
      "cell_type": "code",
      "metadata": {
        "id": "0mNtBBVvMHL6",
        "outputId": "70883524-1470-4997-c9c2-358f16da89d1",
        "colab": {
          "base_uri": "https://localhost:8080/",
          "height": 34
        }
      },
      "source": [
        "# Author: Evgeni Burovski\n",
        "\n",
        "Z = np.arange(10)\n",
        "np.add.reduce(Z)"
      ],
      "execution_count": null,
      "outputs": [
        {
          "output_type": "execute_result",
          "data": {
            "text/plain": [
              "45"
            ]
          },
          "metadata": {
            "tags": []
          },
          "execution_count": 21
        }
      ]
    },
    {
      "cell_type": "code",
      "metadata": {
        "id": "rIiYl6Z-qR32",
        "outputId": "0b4be093-fc95-47c1-9de6-379acb73b6e2",
        "colab": {
          "base_uri": "https://localhost:8080/",
          "height": 50
        }
      },
      "source": [
        "# 実験\n",
        "\n",
        "import numpy as np\n",
        "from functools import reduce\n",
        "\n",
        "Z = np.arange(10)\n",
        "print(reduce(np.add, Z))\n",
        "print(reduce(lambda a, b: a+b, Z))"
      ],
      "execution_count": null,
      "outputs": [
        {
          "output_type": "stream",
          "text": [
            "45\n",
            "45\n"
          ],
          "name": "stdout"
        }
      ]
    },
    {
      "cell_type": "markdown",
      "metadata": {
        "id": "MLRqlfItMHL9"
      },
      "source": [
        "#### (42) A と B の2つの配列が同等 equal かどうかを判別する。"
      ]
    },
    {
      "cell_type": "code",
      "metadata": {
        "id": "lI7dFJYhMHL9",
        "outputId": "3938e4e2-9b71-48db-f1c2-ce45296d528e",
        "colab": {
          "base_uri": "https://localhost:8080/",
          "height": 50
        }
      },
      "source": [
        "import numpy as np\n",
        "\n",
        "A = np.random.randint(0,2,5)\n",
        "B = np.random.randint(0,2,5)\n",
        "\n",
        "# Assuming identical shape of the arrays and a tolerance for the comparison of values\n",
        "equal = np.allclose(A,B)\n",
        "print(equal)\n",
        "\n",
        "# Checking both the shape and the element values, no tolerance (values have to be exactly equal)\n",
        "equal = np.array_equal(A,B)\n",
        "print(equal)"
      ],
      "execution_count": null,
      "outputs": [
        {
          "output_type": "stream",
          "text": [
            "False\n",
            "False\n"
          ],
          "name": "stdout"
        }
      ]
    },
    {
      "cell_type": "code",
      "metadata": {
        "id": "6hjWGlK8u6Tl",
        "outputId": "feba9924-2cea-4876-b179-c2c1153ea616",
        "colab": {
          "base_uri": "https://localhost:8080/",
          "height": 50
        }
      },
      "source": [
        "# 実験\n",
        "\n",
        "C = np.array([0,0,0,1,1])\n",
        "D = np.array([0,0,0,1,1.000000001])\n",
        "equal = np.allclose(C, D)\n",
        "print(equal)\n",
        "equal = np.array_equal(C, D)\n",
        "print(equal)"
      ],
      "execution_count": null,
      "outputs": [
        {
          "output_type": "stream",
          "text": [
            "True\n",
            "False\n"
          ],
          "name": "stdout"
        }
      ]
    },
    {
      "cell_type": "markdown",
      "metadata": {
        "id": "mkH_6xTJMHL_"
      },
      "source": [
        "#### (43) 配列をイミュータブル(変更不可)にする。"
      ]
    },
    {
      "cell_type": "code",
      "metadata": {
        "id": "iVwLEUh-MHMA",
        "outputId": "9467dfd3-8cbf-45bb-8bad-64a7c1545c8e",
        "colab": {
          "base_uri": "https://localhost:8080/",
          "height": 34
        }
      },
      "source": [
        "Z = np.zeros(10)\n",
        "Z.flags.writeable = False\n",
        "# Z[0] = 1 #=> ValueError: assignment destination is read-only\n",
        "print(Z)"
      ],
      "execution_count": null,
      "outputs": [
        {
          "output_type": "stream",
          "text": [
            "[0. 0. 0. 0. 0. 0. 0. 0. 0. 0.]\n"
          ],
          "name": "stdout"
        }
      ]
    },
    {
      "cell_type": "markdown",
      "metadata": {
        "id": "aOc9Qqr6MHMD"
      },
      "source": [
        "#### (44) デカルト座標を表す 10x2 の行列を極座標に変換する。"
      ]
    },
    {
      "cell_type": "code",
      "metadata": {
        "id": "JtALOU0jMHMD",
        "outputId": "80a2b56c-e3b2-4b18-b78f-23a7f2cb229f",
        "colab": {
          "base_uri": "https://localhost:8080/",
          "height": 252
        }
      },
      "source": [
        "Z = np.random.random((10,2))\n",
        "print(Z)\n",
        "X,Y = Z[:,0], Z[:,1]\n",
        "R = np.sqrt(X**2+Y**2)\n",
        "T = np.arctan2(Y,X)\n",
        "print(R)\n",
        "print(T)"
      ],
      "execution_count": null,
      "outputs": [
        {
          "output_type": "stream",
          "text": [
            "[[0.80563434 0.54555969]\n",
            " [0.38012124 0.77809648]\n",
            " [0.15068009 0.50577072]\n",
            " [0.89573388 0.93464381]\n",
            " [0.54892515 0.75238178]\n",
            " [0.50620142 0.81753883]\n",
            " [0.72207041 0.80243756]\n",
            " [0.2113041  0.59353329]\n",
            " [0.73127421 0.79798341]\n",
            " [0.73328143 0.04384606]]\n",
            "[0.97297588 0.86598284 0.52773906 1.29456488 0.93134159 0.96156623\n",
            " 1.07948678 0.63002476 1.08237678 0.73459114]\n",
            "[0.59524598 1.11636907 1.28124729 0.80665283 0.94049049 1.01639515\n",
            " 0.83806619 1.22877699 0.82899248 0.0597232 ]\n"
          ],
          "name": "stdout"
        }
      ]
    },
    {
      "cell_type": "code",
      "metadata": {
        "id": "4UzN_dzPxVHC",
        "outputId": "5a241222-7c88-4d86-e828-a73744821f5e",
        "colab": {
          "base_uri": "https://localhost:8080/",
          "height": 235
        }
      },
      "source": [
        "# 実験\n",
        "\n",
        "print(np.rad2deg(np.arctan2(1, 1)))\n",
        "print(np.rad2deg(np.arctan(1)))\n",
        "\n",
        "print(np.array(list (map (np.array, list(zip(R, T))))))"
      ],
      "execution_count": null,
      "outputs": [
        {
          "output_type": "stream",
          "text": [
            "45.0\n",
            "45.0\n",
            "<class 'numpy.ndarray'>\n",
            "[[0.97297588 0.59524598]\n",
            " [0.86598284 1.11636907]\n",
            " [0.52773906 1.28124729]\n",
            " [1.29456488 0.80665283]\n",
            " [0.93134159 0.94049049]\n",
            " [0.96156623 1.01639515]\n",
            " [1.07948678 0.83806619]\n",
            " [0.63002476 1.22877699]\n",
            " [1.08237678 0.82899248]\n",
            " [0.73459114 0.0597232 ]]\n"
          ],
          "name": "stdout"
        }
      ]
    },
    {
      "cell_type": "markdown",
      "metadata": {
        "id": "3hlyNEGrMHMI"
      },
      "source": [
        "#### (45) ランダムなサイズ 10 のベクトルを作り、最大値を 0 に置き換える。"
      ]
    },
    {
      "cell_type": "code",
      "metadata": {
        "id": "ZgrPl093MHMI",
        "outputId": "8d34ac74-c4e2-41c1-9906-f742c74a83ff",
        "colab": {
          "base_uri": "https://localhost:8080/",
          "height": 50
        }
      },
      "source": [
        "import numpy as np\n",
        "Z = np.random.random(10)\n",
        "Z[Z.argmax()] = 0\n",
        "print(Z)"
      ],
      "execution_count": null,
      "outputs": [
        {
          "output_type": "stream",
          "text": [
            "[0.71505259 0.59912095 0.72317423 0.46835586 0.71231707 0.\n",
            " 0.69987136 0.06009291 0.07449681 0.10041037]\n"
          ],
          "name": "stdout"
        }
      ]
    },
    {
      "cell_type": "code",
      "metadata": {
        "id": "pO8oiMW2lOMd",
        "outputId": "d7a96325-c899-4084-bf4d-7f615bad29ed",
        "colab": {
          "base_uri": "https://localhost:8080/",
          "height": 118
        }
      },
      "source": [
        "# 実験\n",
        "z = np.array([3, 2, 1, 1, 3])\n",
        "print(z)\n",
        "print(z.argmax())\n",
        "print(z.argmin())\n",
        "y=[3, 2, 1, 1, 3]\n",
        "print(y)\n",
        "print(y.index(max(y)))\n",
        "y[y.index(max(y))] = 0\n",
        "print(y)"
      ],
      "execution_count": null,
      "outputs": [
        {
          "output_type": "stream",
          "text": [
            "[3 2 1 1 3]\n",
            "0\n",
            "2\n",
            "[3, 2, 1, 1, 3]\n",
            "0\n",
            "[0, 2, 1, 1, 3]\n"
          ],
          "name": "stdout"
        }
      ]
    },
    {
      "cell_type": "markdown",
      "metadata": {
        "id": "y1sAJclgMHML"
      },
      "source": [
        "#### (46) x 座標と y 座標を持つ構造化配列 structured array を作り、[0,1]x[0,1] の範囲をカバーする。"
      ]
    },
    {
      "cell_type": "code",
      "metadata": {
        "id": "sFniNG85MHML",
        "outputId": "26d7467d-99f1-4137-ea79-5f740b4e752c",
        "colab": {
          "base_uri": "https://localhost:8080/",
          "height": 104
        }
      },
      "source": [
        "import numpy as np\n",
        "Z = np.zeros((5,5), [('x',float),('y',float)])\n",
        "Z['x'], Z['y'] = np.meshgrid(np.linspace(0,1,5),\n",
        "                             np.linspace(0,1,5))\n",
        "print(Z)"
      ],
      "execution_count": null,
      "outputs": [
        {
          "output_type": "stream",
          "text": [
            "[[(0.  , 0.  ) (0.25, 0.  ) (0.5 , 0.  ) (0.75, 0.  ) (1.  , 0.  )]\n",
            " [(0.  , 0.25) (0.25, 0.25) (0.5 , 0.25) (0.75, 0.25) (1.  , 0.25)]\n",
            " [(0.  , 0.5 ) (0.25, 0.5 ) (0.5 , 0.5 ) (0.75, 0.5 ) (1.  , 0.5 )]\n",
            " [(0.  , 0.75) (0.25, 0.75) (0.5 , 0.75) (0.75, 0.75) (1.  , 0.75)]\n",
            " [(0.  , 1.  ) (0.25, 1.  ) (0.5 , 1.  ) (0.75, 1.  ) (1.  , 1.  )]]\n"
          ],
          "name": "stdout"
        }
      ]
    },
    {
      "cell_type": "code",
      "metadata": {
        "id": "fMIjPHjVQokh",
        "outputId": "714418d9-cee9-406f-d44f-968e39e96272",
        "colab": {
          "base_uri": "https://localhost:8080/",
          "height": 35
        }
      },
      "source": [
        "np.linspace(0,1,5)"
      ],
      "execution_count": null,
      "outputs": [
        {
          "output_type": "execute_result",
          "data": {
            "text/plain": [
              "array([0.  , 0.25, 0.5 , 0.75, 1.  ])"
            ]
          },
          "metadata": {
            "tags": []
          },
          "execution_count": 21
        }
      ]
    },
    {
      "cell_type": "code",
      "metadata": {
        "id": "Kj71IA5fnUiB",
        "outputId": "67b3d768-ca92-4c79-8acc-652ff5381254",
        "colab": {
          "base_uri": "https://localhost:8080/",
          "height": 104
        }
      },
      "source": [
        "# 実験\n",
        "\n",
        "dtype = [('x',float),('y',float)]\n",
        "Y = np.zeros((5,5), dtype=dtype)\n",
        "Y['x'] = np.linspace(0,1,5)\n",
        "np.transpose(Y)['y'] = np.linspace(0,1,5)\n",
        "print(Y)"
      ],
      "execution_count": null,
      "outputs": [
        {
          "output_type": "stream",
          "text": [
            "[[(0.  , 0.  ) (0.25, 0.  ) (0.5 , 0.  ) (0.75, 0.  ) (1.  , 0.  )]\n",
            " [(0.  , 0.25) (0.25, 0.25) (0.5 , 0.25) (0.75, 0.25) (1.  , 0.25)]\n",
            " [(0.  , 0.5 ) (0.25, 0.5 ) (0.5 , 0.5 ) (0.75, 0.5 ) (1.  , 0.5 )]\n",
            " [(0.  , 0.75) (0.25, 0.75) (0.5 , 0.75) (0.75, 0.75) (1.  , 0.75)]\n",
            " [(0.  , 1.  ) (0.25, 1.  ) (0.5 , 1.  ) (0.75, 1.  ) (1.  , 1.  )]]\n"
          ],
          "name": "stdout"
        }
      ]
    },
    {
      "cell_type": "markdown",
      "metadata": {
        "id": "G4aB2RBtMHMN"
      },
      "source": [
        "#### (47) 行列 X と Y からコーシー Cauchy 行列 C (Cij =1/(xi - yj)) を作る。\n"
      ]
    },
    {
      "cell_type": "code",
      "metadata": {
        "id": "3tN45pH4MHMO",
        "outputId": "41bb1ad6-26e2-4a2c-c93d-037246f20c89",
        "colab": {
          "base_uri": "https://localhost:8080/",
          "height": 34
        }
      },
      "source": [
        "# Author: Evgeni Burovski\n",
        "\n",
        "import numpy as np\n",
        "\n",
        "X = np.arange(8)\n",
        "Y = X + 0.5\n",
        "C = 1.0 / np.subtract.outer(X, Y)\n",
        "print(np.linalg.det(C))"
      ],
      "execution_count": null,
      "outputs": [
        {
          "output_type": "stream",
          "text": [
            "3638.163637117973\n"
          ],
          "name": "stdout"
        }
      ]
    },
    {
      "cell_type": "code",
      "metadata": {
        "id": "3oYkky1tUKZI",
        "outputId": "1572625d-a260-4f47-a8c7-8b70f66109fc",
        "colab": {
          "base_uri": "https://localhost:8080/",
          "height": 134
        }
      },
      "source": [
        "# 実験\n",
        "\n",
        "X = np.arange(3)\n",
        "Y = X + 0.5\n",
        "print(X)\n",
        "print(Y)\n",
        "C = 1.0 / np.subtract.outer(X, Y)\n",
        "print(C.size)\n",
        "print(C)\n",
        "print(np.linalg.det(C))"
      ],
      "execution_count": null,
      "outputs": [
        {
          "output_type": "stream",
          "text": [
            "[0 1 2]\n",
            "[0.5 1.5 2.5]\n",
            "9\n",
            "[[-2.         -0.66666667 -0.4       ]\n",
            " [ 2.         -2.         -0.66666667]\n",
            " [ 0.66666667  2.         -2.        ]]\n",
            "-15.17037037037037\n"
          ],
          "name": "stdout"
        }
      ]
    },
    {
      "cell_type": "markdown",
      "metadata": {
        "id": "BVj0CJ0GMHMQ"
      },
      "source": [
        "#### (48) numpy のすべてのスカラー型について、最大値、最小値を表示する。\n"
      ]
    },
    {
      "cell_type": "code",
      "metadata": {
        "id": "3shMf9IIMHMQ",
        "outputId": "d850cbad-26f9-4cd9-b59b-a769f072f5d5",
        "colab": {
          "base_uri": "https://localhost:8080/",
          "height": 225
        }
      },
      "source": [
        "for dtype in [np.int8, np.int32, np.int64]:\n",
        "   print(np.iinfo(dtype).min)\n",
        "   print(np.iinfo(dtype).max)\n",
        "for dtype in [np.float32, np.float64]:\n",
        "   print(np.finfo(dtype).min)\n",
        "   print(np.finfo(dtype).max)\n",
        "   print(np.finfo(dtype).eps) # machine epsilon?"
      ],
      "execution_count": null,
      "outputs": [
        {
          "output_type": "stream",
          "text": [
            "-128\n",
            "127\n",
            "-2147483648\n",
            "2147483647\n",
            "-9223372036854775808\n",
            "9223372036854775807\n",
            "-3.4028235e+38\n",
            "3.4028235e+38\n",
            "1.1920929e-07\n",
            "-1.7976931348623157e+308\n",
            "1.7976931348623157e+308\n",
            "2.220446049250313e-16\n"
          ],
          "name": "stdout"
        }
      ]
    },
    {
      "cell_type": "code",
      "metadata": {
        "id": "pWHNKV0gz7ih",
        "outputId": "b5c02d5c-95fe-496d-9143-76b8fe637b23",
        "colab": {
          "base_uri": "https://localhost:8080/",
          "height": 294
        }
      },
      "source": [
        "# 実験\n",
        "\n",
        "print(np.iinfo(np.int8))\n",
        "print(np.finfo(np.float32))\n"
      ],
      "execution_count": null,
      "outputs": [
        {
          "output_type": "stream",
          "text": [
            "Machine parameters for int8\n",
            "---------------------------------------------------------------\n",
            "min = -128\n",
            "max = 127\n",
            "---------------------------------------------------------------\n",
            "\n",
            "Machine parameters for float32\n",
            "---------------------------------------------------------------\n",
            "precision =   6   resolution = 1.0000000e-06\n",
            "machep =    -23   eps =        1.1920929e-07\n",
            "negep =     -24   epsneg =     5.9604645e-08\n",
            "minexp =   -126   tiny =       1.1754944e-38\n",
            "maxexp =    128   max =        3.4028235e+38\n",
            "nexp =        8   min =        -max\n",
            "---------------------------------------------------------------\n",
            "\n"
          ],
          "name": "stdout"
        }
      ]
    },
    {
      "cell_type": "markdown",
      "metadata": {
        "id": "xbZgHNeSMHMS"
      },
      "source": [
        "#### (49) 配列のすべての値を表示する。\n"
      ]
    },
    {
      "cell_type": "code",
      "metadata": {
        "id": "s7-H68XFMHMT",
        "outputId": "8fab2f79-9750-4959-de42-dc7e5e73f042",
        "colab": {
          "base_uri": "https://localhost:8080/",
          "height": 294
        }
      },
      "source": [
        "import numpy as np\n",
        "np.set_printoptions(threshold=float(\"inf\"))\n",
        "Z = np.zeros((16,16))\n",
        "print(Z)"
      ],
      "execution_count": null,
      "outputs": [
        {
          "output_type": "stream",
          "text": [
            "[[0. 0. 0. 0. 0. 0. 0. 0. 0. 0. 0. 0. 0. 0. 0. 0.]\n",
            " [0. 0. 0. 0. 0. 0. 0. 0. 0. 0. 0. 0. 0. 0. 0. 0.]\n",
            " [0. 0. 0. 0. 0. 0. 0. 0. 0. 0. 0. 0. 0. 0. 0. 0.]\n",
            " [0. 0. 0. 0. 0. 0. 0. 0. 0. 0. 0. 0. 0. 0. 0. 0.]\n",
            " [0. 0. 0. 0. 0. 0. 0. 0. 0. 0. 0. 0. 0. 0. 0. 0.]\n",
            " [0. 0. 0. 0. 0. 0. 0. 0. 0. 0. 0. 0. 0. 0. 0. 0.]\n",
            " [0. 0. 0. 0. 0. 0. 0. 0. 0. 0. 0. 0. 0. 0. 0. 0.]\n",
            " [0. 0. 0. 0. 0. 0. 0. 0. 0. 0. 0. 0. 0. 0. 0. 0.]\n",
            " [0. 0. 0. 0. 0. 0. 0. 0. 0. 0. 0. 0. 0. 0. 0. 0.]\n",
            " [0. 0. 0. 0. 0. 0. 0. 0. 0. 0. 0. 0. 0. 0. 0. 0.]\n",
            " [0. 0. 0. 0. 0. 0. 0. 0. 0. 0. 0. 0. 0. 0. 0. 0.]\n",
            " [0. 0. 0. 0. 0. 0. 0. 0. 0. 0. 0. 0. 0. 0. 0. 0.]\n",
            " [0. 0. 0. 0. 0. 0. 0. 0. 0. 0. 0. 0. 0. 0. 0. 0.]\n",
            " [0. 0. 0. 0. 0. 0. 0. 0. 0. 0. 0. 0. 0. 0. 0. 0.]\n",
            " [0. 0. 0. 0. 0. 0. 0. 0. 0. 0. 0. 0. 0. 0. 0. 0.]\n",
            " [0. 0. 0. 0. 0. 0. 0. 0. 0. 0. 0. 0. 0. 0. 0. 0.]]\n"
          ],
          "name": "stdout"
        }
      ]
    },
    {
      "cell_type": "code",
      "metadata": {
        "id": "yy71XdpUNKQc",
        "outputId": "aab1dbd3-7c52-491d-d1ee-b4e8694e3dc2",
        "colab": {
          "base_uri": "https://localhost:8080/",
          "height": 138
        }
      },
      "source": [
        "# 実験\n",
        "\n",
        "import numpy as np\n",
        "np.set_printoptions(threshold=float(\"10\"))\n",
        "Z = np.zeros((16,16))\n",
        "print(Z)"
      ],
      "execution_count": null,
      "outputs": [
        {
          "output_type": "stream",
          "text": [
            "[[0. 0. 0. ... 0. 0. 0.]\n",
            " [0. 0. 0. ... 0. 0. 0.]\n",
            " [0. 0. 0. ... 0. 0. 0.]\n",
            " ...\n",
            " [0. 0. 0. ... 0. 0. 0.]\n",
            " [0. 0. 0. ... 0. 0. 0.]\n",
            " [0. 0. 0. ... 0. 0. 0.]]\n"
          ],
          "name": "stdout"
        }
      ]
    },
    {
      "cell_type": "markdown",
      "metadata": {
        "id": "8HFhfZNtMHMV"
      },
      "source": [
        "#### (50) 与えられた値に一番近い値をベクトルの中で探して表示する。\n",
        "How to find the closest value (to a given scalar) in a vector? (★★☆)"
      ]
    },
    {
      "cell_type": "code",
      "metadata": {
        "id": "NM1SODSyMHMV",
        "outputId": "a2e2d920-3c89-4a56-aa71-3e8074010dd4",
        "colab": {
          "base_uri": "https://localhost:8080/",
          "height": 35
        }
      },
      "source": [
        "Z = np.arange(100)\n",
        "v = np.random.uniform(0,100)\n",
        "index = (np.abs(Z-v)).argmin()\n",
        "print(Z[index])"
      ],
      "execution_count": null,
      "outputs": [
        {
          "output_type": "stream",
          "text": [
            "34\n"
          ],
          "name": "stdout"
        }
      ]
    },
    {
      "cell_type": "code",
      "metadata": {
        "id": "wHxb1O1cOiah",
        "outputId": "9f9d944d-8409-4820-af88-066dcfdf71b7",
        "colab": {
          "base_uri": "https://localhost:8080/",
          "height": 69
        }
      },
      "source": [
        "# 実験\n",
        "\n",
        "print(Z)\n",
        "print(v)\n",
        "print(index)"
      ],
      "execution_count": null,
      "outputs": [
        {
          "output_type": "stream",
          "text": [
            "[ 0  1  2 ... 97 98 99]\n",
            "34.19152174463609\n",
            "34\n"
          ],
          "name": "stdout"
        }
      ]
    },
    {
      "cell_type": "markdown",
      "metadata": {
        "id": "0JQLwi0eMHMX"
      },
      "source": [
        "#### (51) 構造化配列で、場所 position (x,y) と色 color (r,g,b) を表現する。\n"
      ]
    },
    {
      "cell_type": "code",
      "metadata": {
        "id": "ItVs-fIrMHMX",
        "outputId": "8680e4dc-54af-4594-c28b-9ad1dedacf1b",
        "colab": {
          "base_uri": "https://localhost:8080/",
          "height": 104
        }
      },
      "source": [
        "Z = np.zeros(10, [ ('position', [ ('x', float),\n",
        "                                  ('y', float)]),\n",
        "                   ('color',    [ ('r', float),\n",
        "                                  ('g', float),\n",
        "                                  ('b', float)])])\n",
        "print(Z)"
      ],
      "execution_count": null,
      "outputs": [
        {
          "output_type": "stream",
          "text": [
            "[((0., 0.), (0., 0., 0.)) ((0., 0.), (0., 0., 0.))\n",
            " ((0., 0.), (0., 0., 0.)) ((0., 0.), (0., 0., 0.))\n",
            " ((0., 0.), (0., 0., 0.)) ((0., 0.), (0., 0., 0.))\n",
            " ((0., 0.), (0., 0., 0.)) ((0., 0.), (0., 0., 0.))\n",
            " ((0., 0.), (0., 0., 0.)) ((0., 0.), (0., 0., 0.))]\n"
          ],
          "name": "stdout"
        }
      ]
    },
    {
      "cell_type": "markdown",
      "metadata": {
        "id": "lDs_S3h1MHMb"
      },
      "source": [
        "#### (52) 座標を表すランダムな (10,2) の形のベクトルを考え、点と点の間の距離を計算する。"
      ]
    },
    {
      "cell_type": "code",
      "metadata": {
        "id": "gw5BXTFdMHMc",
        "outputId": "19cb6e6d-4055-418b-fbc9-fbe3fc309a39",
        "colab": {
          "base_uri": "https://localhost:8080/",
          "height": 708
        }
      },
      "source": [
        "Z = np.random.random((10,2))\n",
        "X,Y = np.atleast_2d(Z[:,0], Z[:,1])\n",
        "D = np.sqrt( (X-X.T)**2 + (Y-Y.T)**2)\n",
        "print(D)\n",
        "\n",
        "# Much faster with scipy\n",
        "import scipy\n",
        "# Thanks Gavin Heverly-Coulson (#issue 1)\n",
        "import scipy.spatial\n",
        "\n",
        "# Z = np.random.random((10,2))\n",
        "D = scipy.spatial.distance.cdist(Z,Z)\n",
        "print(D)"
      ],
      "execution_count": null,
      "outputs": [
        {
          "output_type": "stream",
          "text": [
            "[[0.         0.23104717 0.97527392 1.02648833 0.24762863 0.6971671\n",
            "  0.39262917 0.37440383 0.64855867 0.07407684]\n",
            " [0.23104717 0.         1.12415111 1.1349728  0.43739094 0.75218015\n",
            "  0.38267266 0.36564901 0.83497296 0.28998686]\n",
            " [0.97527392 1.12415111 0.         0.22650353 0.73006036 0.51427096\n",
            "  0.81468534 0.82225764 0.37320584 0.90305227]\n",
            " [1.02648833 1.1349728  0.22650353 0.         0.79751244 0.42025634\n",
            "  0.78102862 0.79300969 0.52381435 0.95987255]\n",
            " [0.24762863 0.43739094 0.73006036 0.79751244 0.         0.52233566\n",
            "  0.35116188 0.33944075 0.40319291 0.17402629]\n",
            " [0.6971671  0.75218015 0.51427096 0.42025634 0.52233566 0.\n",
            "  0.37620584 0.3909427  0.50003104 0.64475438]\n",
            " [0.39262917 0.38267266 0.81468534 0.78102862 0.35116188 0.37620584\n",
            "  0.         0.01860976 0.61841589 0.37020297]\n",
            " [0.37440383 0.36564901 0.82225764 0.79300969 0.33944075 0.3909427\n",
            "  0.01860976 0.         0.61790735 0.35301886]\n",
            " [0.64855867 0.83497296 0.37320584 0.52381435 0.40319291 0.50003104\n",
            "  0.61841589 0.61790735 0.         0.57448749]\n",
            " [0.07407684 0.28998686 0.90305227 0.95987255 0.17402629 0.64475438\n",
            "  0.37020297 0.35301886 0.57448749 0.        ]]\n",
            "[[0.         0.23104717 0.97527392 1.02648833 0.24762863 0.6971671\n",
            "  0.39262917 0.37440383 0.64855867 0.07407684]\n",
            " [0.23104717 0.         1.12415111 1.1349728  0.43739094 0.75218015\n",
            "  0.38267266 0.36564901 0.83497296 0.28998686]\n",
            " [0.97527392 1.12415111 0.         0.22650353 0.73006036 0.51427096\n",
            "  0.81468534 0.82225764 0.37320584 0.90305227]\n",
            " [1.02648833 1.1349728  0.22650353 0.         0.79751244 0.42025634\n",
            "  0.78102862 0.79300969 0.52381435 0.95987255]\n",
            " [0.24762863 0.43739094 0.73006036 0.79751244 0.         0.52233566\n",
            "  0.35116188 0.33944075 0.40319291 0.17402629]\n",
            " [0.6971671  0.75218015 0.51427096 0.42025634 0.52233566 0.\n",
            "  0.37620584 0.3909427  0.50003104 0.64475438]\n",
            " [0.39262917 0.38267266 0.81468534 0.78102862 0.35116188 0.37620584\n",
            "  0.         0.01860976 0.61841589 0.37020297]\n",
            " [0.37440383 0.36564901 0.82225764 0.79300969 0.33944075 0.3909427\n",
            "  0.01860976 0.         0.61790735 0.35301886]\n",
            " [0.64855867 0.83497296 0.37320584 0.52381435 0.40319291 0.50003104\n",
            "  0.61841589 0.61790735 0.         0.57448749]\n",
            " [0.07407684 0.28998686 0.90305227 0.95987255 0.17402629 0.64475438\n",
            "  0.37020297 0.35301886 0.57448749 0.        ]]\n"
          ],
          "name": "stdout"
        }
      ]
    },
    {
      "cell_type": "code",
      "metadata": {
        "id": "Pa0HoiTbX0Bb",
        "outputId": "3634601e-c7d8-4ad0-c0a3-6ad735ea9d8a",
        "colab": {
          "base_uri": "https://localhost:8080/",
          "height": 363
        }
      },
      "source": [
        "# 実験\n",
        "\n",
        "# Z = np.random.random((10,2))\n",
        "X,Y = np.atleast_2d(Z[:,0], Z[:,1])\n",
        "X = np.array([Z[:,0]])\n",
        "Y = np.array([Z[:,1]])\n",
        "D = np.sqrt( (X-X.T)**2 + (Y-Y.T)**2)\n",
        "print(D)"
      ],
      "execution_count": null,
      "outputs": [
        {
          "output_type": "stream",
          "text": [
            "[[0.         0.23104717 0.97527392 1.02648833 0.24762863 0.6971671\n",
            "  0.39262917 0.37440383 0.64855867 0.07407684]\n",
            " [0.23104717 0.         1.12415111 1.1349728  0.43739094 0.75218015\n",
            "  0.38267266 0.36564901 0.83497296 0.28998686]\n",
            " [0.97527392 1.12415111 0.         0.22650353 0.73006036 0.51427096\n",
            "  0.81468534 0.82225764 0.37320584 0.90305227]\n",
            " [1.02648833 1.1349728  0.22650353 0.         0.79751244 0.42025634\n",
            "  0.78102862 0.79300969 0.52381435 0.95987255]\n",
            " [0.24762863 0.43739094 0.73006036 0.79751244 0.         0.52233566\n",
            "  0.35116188 0.33944075 0.40319291 0.17402629]\n",
            " [0.6971671  0.75218015 0.51427096 0.42025634 0.52233566 0.\n",
            "  0.37620584 0.3909427  0.50003104 0.64475438]\n",
            " [0.39262917 0.38267266 0.81468534 0.78102862 0.35116188 0.37620584\n",
            "  0.         0.01860976 0.61841589 0.37020297]\n",
            " [0.37440383 0.36564901 0.82225764 0.79300969 0.33944075 0.3909427\n",
            "  0.01860976 0.         0.61790735 0.35301886]\n",
            " [0.64855867 0.83497296 0.37320584 0.52381435 0.40319291 0.50003104\n",
            "  0.61841589 0.61790735 0.         0.57448749]\n",
            " [0.07407684 0.28998686 0.90305227 0.95987255 0.17402629 0.64475438\n",
            "  0.37020297 0.35301886 0.57448749 0.        ]]\n"
          ],
          "name": "stdout"
        }
      ]
    },
    {
      "cell_type": "markdown",
      "metadata": {
        "id": "ZBourSAYMHMe"
      },
      "source": [
        "#### (53) 32 ビット float を 32 ビット integer に in place で変換する。\n"
      ]
    },
    {
      "cell_type": "code",
      "metadata": {
        "id": "ZOFwGYY8MHMe",
        "outputId": "2c3ef2a6-1627-466b-f292-cf95031494e0",
        "colab": {
          "base_uri": "https://localhost:8080/",
          "height": 35
        }
      },
      "source": [
        "# Thanks Vikas (https://stackoverflow.com/a/10622758/5989906)\n",
        "# & unutbu (https://stackoverflow.com/a/4396247/5989906)\n",
        "Z = (np.random.rand(10)*100).astype(np.float32)\n",
        "Y = Z.view(np.int32)\n",
        "Y[:] = Z\n",
        "print(Y)\n"
      ],
      "execution_count": null,
      "outputs": [
        {
          "output_type": "stream",
          "text": [
            "[54 20 82 45 85 24 81 75 84 98]\n"
          ],
          "name": "stdout"
        }
      ]
    },
    {
      "cell_type": "code",
      "metadata": {
        "id": "j0raLVExc1cF",
        "outputId": "f6b52767-ea4e-4203-c73b-a95baacf52d7",
        "colab": {
          "base_uri": "https://localhost:8080/",
          "height": 86
        }
      },
      "source": [
        "# 実験\n",
        "\n",
        "Z=(np.random.rand(10)*100).astype(np.float32)\n",
        "print(Z)\n",
        "# Y=Z.view(np.int32)\n",
        "Y=np.zeros(10).astype(np.int32)\n",
        "print(Y)\n",
        "Y[:] = Z\n",
        "print(Y)\n"
      ],
      "execution_count": null,
      "outputs": [
        {
          "output_type": "stream",
          "text": [
            "[51.097336 35.886295 87.03442  67.26488  89.768814 43.188942 57.54399\n",
            " 73.01383  49.521496 73.42183 ]\n",
            "[0 0 0 0 0 0 0 0 0 0]\n",
            "[51 35 87 67 89 43 57 73 49 73]\n"
          ],
          "name": "stdout"
        }
      ]
    },
    {
      "cell_type": "markdown",
      "metadata": {
        "id": "e9LNECKdMHMh"
      },
      "source": [
        "#### (54) 次のようなファイルをどう読み込むか。\n",
        "```\n",
        "1, 2, 3, 4, 5\n",
        "6,  ,  , 7, 8\n",
        " ,  , 9,10,11\n",
        "```"
      ]
    },
    {
      "cell_type": "code",
      "metadata": {
        "id": "nea7NnraMHMh",
        "outputId": "1c3989d1-e6f9-46a3-a82a-411366c6a76d",
        "colab": {
          "base_uri": "https://localhost:8080/",
          "height": 69
        }
      },
      "source": [
        "from io import StringIO\n",
        "\n",
        "# Fake file\n",
        "s = StringIO('''1, 2, 3, 4, 5\n",
        "                6,  ,  , 7, 8\n",
        "                 ,  , 9,10,11\n",
        "''')\n",
        "Z = np.genfromtxt(s, delimiter=\",\", dtype=np.int)\n",
        "print(Z)"
      ],
      "execution_count": null,
      "outputs": [
        {
          "output_type": "stream",
          "text": [
            "[[ 1  2  3  4  5]\n",
            " [ 6 -1 -1  7  8]\n",
            " [-1 -1  9 10 11]]\n"
          ],
          "name": "stdout"
        }
      ]
    },
    {
      "cell_type": "code",
      "metadata": {
        "id": "vc5Uiij_edpe",
        "outputId": "b2b45df0-8203-469c-929d-e08072a50227",
        "colab": {
          "base_uri": "https://localhost:8080/",
          "height": 34
        }
      },
      "source": [
        "# 実験\n",
        "import numpy as np\n",
        "import re\n",
        "\n",
        "def read_data(data):\n",
        "    lines = []\n",
        "    for line in data.split('\\n'):\n",
        "        items = []\n",
        "        for item in re.split(',| ,\\s',line):\n",
        "            if item == '' or item == ' ':\n",
        "                item = -1\n",
        "            items.append(item)\n",
        "            line=items\n",
        "        lines.append(line)\n",
        "    \n",
        "    return lines\n",
        "\n",
        "data = '''1, 2, 3, 4, 5\n",
        "6,  ,  , 7, 8\n",
        " ,  , 9,10,11'''\n",
        "\n",
        "print(read_data(data))"
      ],
      "execution_count": null,
      "outputs": [
        {
          "output_type": "stream",
          "text": [
            "[['1', ' 2', ' 3', ' 4', ' 5'], ['6', -1, -1, '7', ' 8'], [-1, -1, '9', '10', '11']]\n"
          ],
          "name": "stdout"
        }
      ]
    },
    {
      "cell_type": "markdown",
      "metadata": {
        "id": "oLA1i39YMHMj"
      },
      "source": [
        "#### (55) numpy の配列で python の enumerate に相当するものは何か。\n"
      ]
    },
    {
      "cell_type": "code",
      "metadata": {
        "id": "MttI3UNRMHMk",
        "outputId": "07dea23b-10d8-49f5-f932-f506ce190df8",
        "colab": {
          "base_uri": "https://localhost:8080/",
          "height": 319
        }
      },
      "source": [
        "Z = np.arange(9).reshape(3,3)\n",
        "for index, value in np.ndenumerate(Z):\n",
        "    print(index, value)\n",
        "for index in np.ndindex(Z.shape):\n",
        "    print(index, Z[index])"
      ],
      "execution_count": null,
      "outputs": [
        {
          "output_type": "stream",
          "text": [
            "(0, 0) 0\n",
            "(0, 1) 1\n",
            "(0, 2) 2\n",
            "(1, 0) 3\n",
            "(1, 1) 4\n",
            "(1, 2) 5\n",
            "(2, 0) 6\n",
            "(2, 1) 7\n",
            "(2, 2) 8\n",
            "(0, 0) 0\n",
            "(0, 1) 1\n",
            "(0, 2) 2\n",
            "(1, 0) 3\n",
            "(1, 1) 4\n",
            "(1, 2) 5\n",
            "(2, 0) 6\n",
            "(2, 1) 7\n",
            "(2, 2) 8\n"
          ],
          "name": "stdout"
        }
      ]
    },
    {
      "cell_type": "code",
      "metadata": {
        "id": "xFCtilR286Zi",
        "outputId": "01ea8ff5-67d3-41b8-edea-878dd09d10e8",
        "colab": {
          "base_uri": "https://localhost:8080/",
          "height": 269
        }
      },
      "source": [
        "# 実験\n",
        "\n",
        "print(Z)\n",
        "print(list((np.ndenumerate(Z))))\n",
        "print(np.array(list((np.ndenumerate(Z)))).reshape(3,3,2))\n"
      ],
      "execution_count": null,
      "outputs": [
        {
          "output_type": "stream",
          "text": [
            "[[0 1 2]\n",
            " [3 4 5]\n",
            " [6 7 8]]\n",
            "[((0, 0), 0), ((0, 1), 1), ((0, 2), 2), ((1, 0), 3), ((1, 1), 4), ((1, 2), 5), ((2, 0), 6), ((2, 1), 7), ((2, 2), 8)]\n",
            "[[[(0, 0) 0]\n",
            "  [(0, 1) 1]\n",
            "  [(0, 2) 2]]\n",
            "\n",
            " [[(1, 0) 3]\n",
            "  [(1, 1) 4]\n",
            "  [(1, 2) 5]]\n",
            "\n",
            " [[(2, 0) 6]\n",
            "  [(2, 1) 7]\n",
            "  [(2, 2) 8]]]\n"
          ],
          "name": "stdout"
        }
      ]
    },
    {
      "cell_type": "markdown",
      "metadata": {
        "id": "Tx6LlHMbMHMl"
      },
      "source": [
        "#### (56) 一般的な2Dガウス配列を作る。\n"
      ]
    },
    {
      "cell_type": "code",
      "metadata": {
        "id": "XlQu_wolMHMm"
      },
      "source": [
        "import numpy as np\n",
        "X, Y = np.meshgrid(np.linspace(-1,1,10), np.linspace(-1,1,10))\n",
        "D = np.sqrt(X*X+Y*Y)\n",
        "sigma, mu = 1.0, 0.0\n",
        "G = np.exp(-( (D-mu)**2 / ( 2.0 * sigma**2 ) ) )\n",
        "print(G)\n"
      ],
      "execution_count": null,
      "outputs": []
    },
    {
      "cell_type": "markdown",
      "metadata": {
        "id": "DTpQu9cppjuI"
      },
      "source": [
        "上の解答の意味がわからない。 問題のガウス配列 Gaussian array というのは正規分布のことで、2D というので普通の正規分布のグラフのことを言っているのかと思うのだが、解答 meshgrid を使っているので 3D グラフを描こうとしているのではないか。\n",
        "\n",
        "ガウス関数は  \n",
        "\n",
        "$$\n",
        "f(x) = \\frac{1}{\\sqrt{2\\pi\\sigma}}\\mathrm{exp} \\left(- \\frac{(x - \\mu)^2}{2 \\sigma^2}\\right)\\quad (x \\in \\mathbb{R})\n",
        "$$  \n",
        "\n",
        "特に $\\mu=0,\\, \\sigma^2 = 1$ のとき標準正規分布と呼び、 \n",
        "\n",
        "$$\n",
        "f(x) = \\frac{1}{\\sqrt{2\\pi\\sigma}}\\mathrm{exp} \\left(- \\frac{x^2}{2}\\right)\\quad (x \\in \\mathbb{R})\n",
        "$$\n",
        "\n",
        "とのこと。\n",
        "\n",
        "この通りに作ればいいだけだよね。"
      ]
    },
    {
      "cell_type": "code",
      "metadata": {
        "id": "hqtEP7EgXhwN",
        "outputId": "104c0bc4-d90e-460b-86a5-c69a7fe51eed",
        "colab": {
          "base_uri": "https://localhost:8080/",
          "height": 248
        }
      },
      "source": [
        "# 実験\n",
        "\n",
        "import numpy as np\n",
        "X, Y = np.meshgrid(np.linspace(-1,1,100), np.linspace(-1,1,100))\n",
        "D = np.sqrt(X*X+Y*Y)\n",
        "sigma, mu = 1.0, 0.0\n",
        "G = np.exp(- 10 * ( (D-mu)**2 / ( 2.0 * sigma**2 ) ) ) \n",
        "# print(G)\n",
        "\n",
        "import matplotlib.pyplot as plt\n",
        "from matplotlib import cm\n",
        "fig = plt.figure()\n",
        "ax = fig.add_subplot(111, projection='3d')\n",
        "ax.plot_surface(X,Y,G, cmap=cm.jet)\n",
        "plt.show()"
      ],
      "execution_count": null,
      "outputs": [
        {
          "output_type": "display_data",
          "data": {
            "image/png": "[encoded data removed]",
            "text/plain": [
              "<Figure size 432x288 with 1 Axes>"
            ]
          },
          "metadata": {
            "tags": [],
            "needs_background": "light"
          }
        }
      ]
    },
    {
      "cell_type": "code",
      "metadata": {
        "id": "nZTnA0ahgacG",
        "outputId": "616cdff5-2f1a-4512-d02d-83eb944dac1d",
        "colab": {
          "base_uri": "https://localhost:8080/",
          "height": 265
        }
      },
      "source": [
        "# 実験\n",
        "import matplotlib.pyplot as plt\n",
        "import numpy as np\n",
        "import math\n",
        "\n",
        "def f(x):\n",
        "    return (math.exp(-x**2/2)) / math.sqrt(2*math.pi)\n",
        "\n",
        "\n",
        "n = np.linspace(-5.0, 5.0, 50)\n",
        "\n",
        "p = []\n",
        "for i in range(len(n)):\n",
        "    p.append(f(n[i]))\n",
        "\n",
        "# グラフに表示\n",
        "plt.plot(n, p)\n",
        "plt.show()\n"
      ],
      "execution_count": null,
      "outputs": [
        {
          "output_type": "display_data",
          "data": {
            "image/png": "[encoded data removed]",
            "text/plain": [
              "<Figure size 432x288 with 1 Axes>"
            ]
          },
          "metadata": {
            "tags": [],
            "needs_background": "light"
          }
        }
      ]
    },
    {
      "cell_type": "markdown",
      "metadata": {
        "id": "iZFpYJAaMHMn"
      },
      "source": [
        "#### (57) 2次元の配列で、p 個の要素をランダムに置く。\n"
      ]
    },
    {
      "cell_type": "code",
      "metadata": {
        "id": "3LfNIudhMHMo",
        "outputId": "fd79edda-179d-4184-9be8-4c4bcb79eaca",
        "colab": {
          "base_uri": "https://localhost:8080/",
          "height": 190
        }
      },
      "source": [
        "# Author: Divakar\n",
        "\n",
        "n = 10\n",
        "p = 3\n",
        "Z = np.zeros((n,n))\n",
        "np.put(Z, np.random.choice(range(n*n), p, replace=False),1)\n",
        "print(Z)"
      ],
      "execution_count": null,
      "outputs": [
        {
          "output_type": "stream",
          "text": [
            "[[0. 0. 0. 0. 0. 0. 0. 1. 0. 0.]\n",
            " [0. 0. 0. 0. 0. 0. 0. 0. 0. 0.]\n",
            " [0. 0. 0. 0. 0. 0. 0. 0. 0. 0.]\n",
            " [0. 0. 0. 0. 0. 0. 0. 0. 0. 0.]\n",
            " [0. 0. 0. 0. 0. 0. 0. 0. 0. 0.]\n",
            " [0. 0. 0. 0. 0. 0. 0. 0. 0. 0.]\n",
            " [0. 0. 0. 0. 0. 0. 0. 0. 0. 0.]\n",
            " [0. 1. 0. 0. 0. 0. 0. 1. 0. 0.]\n",
            " [0. 0. 0. 0. 0. 0. 0. 0. 0. 0.]\n",
            " [0. 0. 0. 0. 0. 0. 0. 0. 0. 0.]]\n"
          ],
          "name": "stdout"
        }
      ]
    },
    {
      "cell_type": "code",
      "metadata": {
        "id": "N0JK1wQFgdkT",
        "outputId": "a6d17060-4313-4052-f447-b30ab9ee798d",
        "colab": {
          "base_uri": "https://localhost:8080/",
          "height": 269
        }
      },
      "source": [
        "# 実験\n",
        "\n",
        "n = 5\n",
        "p = 5\n",
        "Z = np.full((n,n),'□')\n",
        "\n",
        "# np.put(Z, np.random.choice(range(n*n), p, replace=False),1)\n",
        "np.put(Z, np.random.choice(25, p, replace=False),'■')\n",
        "print(Z)\n",
        "np.put(Z, np.random.choice(25, p, replace=False),'■')\n",
        "print(Z)\n",
        "np.put(Z, np.random.choice(25, p, replace=False),'■')\n",
        "np.put(Z, np.random.choice(25, p, replace=False),'■')\n",
        "np.put(Z, np.random.choice(25, p, replace=False),'■')\n",
        "print(Z)"
      ],
      "execution_count": null,
      "outputs": [
        {
          "output_type": "stream",
          "text": [
            "[['□' '□' '□' '□' '■']\n",
            " ['□' '□' '□' '□' '□']\n",
            " ['□' '□' '■' '□' '□']\n",
            " ['□' '□' '■' '■' '□']\n",
            " ['□' '□' '□' '■' '□']]\n",
            "[['□' '■' '□' '□' '■']\n",
            " ['□' '□' '■' '□' '■']\n",
            " ['□' '□' '■' '□' '□']\n",
            " ['□' '□' '■' '■' '□']\n",
            " ['□' '■' '□' '■' '□']]\n",
            "[['■' '■' '■' '■' '■']\n",
            " ['□' '□' '■' '■' '■']\n",
            " ['□' '■' '■' '■' '■']\n",
            " ['□' '■' '■' '■' '□']\n",
            " ['■' '■' '□' '■' '□']]\n"
          ],
          "name": "stdout"
        }
      ]
    },
    {
      "cell_type": "markdown",
      "metadata": {
        "id": "yaGjf1vpMHMq"
      },
      "source": [
        "#### (58) 行列の各行の平均を引く。"
      ]
    },
    {
      "cell_type": "code",
      "metadata": {
        "id": "qD02XOw5MHMq",
        "outputId": "a4e33207-ebf4-4632-d111-311179b9dda9",
        "colab": {
          "base_uri": "https://localhost:8080/",
          "height": 185
        }
      },
      "source": [
        "# Author: Warren Weckesser\n",
        "\n",
        "X = np.random.rand(5, 10)\n",
        "\n",
        "# Recent versions of numpy\n",
        "Y = X - X.mean(axis=1, keepdims=True)\n",
        "\n",
        "# Older versions of numpy\n",
        "# Y = X - X.mean(axis=1).reshape(-1, 1)\n",
        "\n",
        "print(Y)"
      ],
      "execution_count": null,
      "outputs": [
        {
          "output_type": "stream",
          "text": [
            "[[-0.11678518  0.51765215 -0.34999878  0.36739479  0.29598929 -0.2964877\n",
            "  -0.08622726  0.06119525 -0.06603247 -0.32670011]\n",
            " [-0.26101581 -0.53835402  0.39582541 -0.32773725  0.16864203  0.32823626\n",
            "   0.16916864  0.22464136  0.15804744 -0.31745407]\n",
            " [ 0.08490212  0.32721657 -0.223123   -0.35726322  0.19072441  0.20193496\n",
            "  -0.04578915  0.22079323 -0.05519335 -0.34420257]\n",
            " [ 0.52134881 -0.00566323 -0.1021407   0.2520705  -0.32129092 -0.43714478\n",
            "  -0.02289521 -0.3220021  -0.01053968  0.44825733]\n",
            " [ 0.4207338   0.18896757  0.45924584 -0.3329864  -0.31557166  0.51318952\n",
            "  -0.41478078 -0.29784139 -0.20798237 -0.01297413]]\n"
          ],
          "name": "stdout"
        }
      ]
    },
    {
      "cell_type": "code",
      "metadata": {
        "id": "NLu1_g9LyEwh",
        "outputId": "b20a4706-b141-4f0a-cf43-1b580bcab3a4",
        "colab": {
          "base_uri": "https://localhost:8080/",
          "height": 185
        }
      },
      "source": [
        "# 実験\n",
        "print(X[0] - np.array([np.mean(row) for row in X])[0])\n",
        "\n",
        "Y = X - X.mean(axis=1, keepdims=True)\n",
        "print(Y[0])\n",
        "\n",
        "print([[X[n] - np.array([np.mean(row) for row in X])[n]] for n in range(5)])"
      ],
      "execution_count": null,
      "outputs": [
        {
          "output_type": "stream",
          "text": [
            "[-0.11678518  0.51765215 -0.34999878  0.36739479  0.29598929 -0.2964877\n",
            " -0.08622726  0.06119525 -0.06603247 -0.32670011]\n",
            "[-0.11678518  0.51765215 -0.34999878  0.36739479  0.29598929 -0.2964877\n",
            " -0.08622726  0.06119525 -0.06603247 -0.32670011]\n",
            "[[array([-0.11678518,  0.51765215, -0.34999878,  0.36739479,  0.29598929,\n",
            "       -0.2964877 , -0.08622726,  0.06119525, -0.06603247, -0.32670011])], [array([-0.26101581, -0.53835402,  0.39582541, -0.32773725,  0.16864203,\n",
            "        0.32823626,  0.16916864,  0.22464136,  0.15804744, -0.31745407])], [array([ 0.08490212,  0.32721657, -0.223123  , -0.35726322,  0.19072441,\n",
            "        0.20193496, -0.04578915,  0.22079323, -0.05519335, -0.34420257])], [array([ 0.52134881, -0.00566323, -0.1021407 ,  0.2520705 , -0.32129092,\n",
            "       -0.43714478, -0.02289521, -0.3220021 , -0.01053968,  0.44825733])], [array([ 0.4207338 ,  0.18896757,  0.45924584, -0.3329864 , -0.31557166,\n",
            "        0.51318952, -0.41478078, -0.29784139, -0.20798237, -0.01297413])]]\n"
          ],
          "name": "stdout"
        }
      ]
    },
    {
      "cell_type": "markdown",
      "metadata": {
        "id": "CCvmGVcrMHMs"
      },
      "source": [
        "#### (59) n 番目の列で配列をソートする。"
      ]
    },
    {
      "cell_type": "code",
      "metadata": {
        "id": "Y-_Ef8_cMHMt",
        "outputId": "fbfd6cdf-af96-4ede-dc50-eedfa1a1d78e",
        "colab": {
          "base_uri": "https://localhost:8080/",
          "height": 118
        }
      },
      "source": [
        "# Author: Steve Tjoa\n",
        "\n",
        "Z = np.random.randint(0,10,(3,3))\n",
        "print(Z)\n",
        "print(Z[Z[:,1].argsort()])"
      ],
      "execution_count": null,
      "outputs": [
        {
          "output_type": "stream",
          "text": [
            "[[5 6 2]\n",
            " [3 4 1]\n",
            " [6 3 0]]\n",
            "[[6 3 0]\n",
            " [3 4 1]\n",
            " [5 6 2]]\n"
          ],
          "name": "stdout"
        }
      ]
    },
    {
      "cell_type": "code",
      "metadata": {
        "id": "5yp7Ik0x_zTe",
        "outputId": "64bab513-0e4d-43cc-d65f-ed4af4b76f63",
        "colab": {
          "base_uri": "https://localhost:8080/",
          "height": 134
        }
      },
      "source": [
        "# 実験\n",
        "print(Z)\n",
        "a=Z[:,2].argsort()\n",
        "print(a)\n",
        "print(Z[a])"
      ],
      "execution_count": null,
      "outputs": [
        {
          "output_type": "stream",
          "text": [
            "[[5 6 2]\n",
            " [3 4 1]\n",
            " [6 3 0]]\n",
            "[2 1 0]\n",
            "[[6 3 0]\n",
            " [3 4 1]\n",
            " [5 6 2]]\n"
          ],
          "name": "stdout"
        }
      ]
    },
    {
      "cell_type": "markdown",
      "metadata": {
        "id": "qBW8asyXMHMx"
      },
      "source": [
        "#### (60) 2次元配列について、null 列があるかどうかを判定する。"
      ]
    },
    {
      "cell_type": "code",
      "metadata": {
        "id": "7THUkIfpMHMx",
        "outputId": "d1216966-a7b9-4b3b-ff84-5cc8ad4398b5",
        "colab": {
          "base_uri": "https://localhost:8080/",
          "height": 34
        }
      },
      "source": [
        "# Author: Warren Weckesser\n",
        "\n",
        "Z = np.random.randint(0,3,(3,10))\n",
        "print((~Z.any(axis=0)).any())"
      ],
      "execution_count": null,
      "outputs": [
        {
          "output_type": "stream",
          "text": [
            "True\n"
          ],
          "name": "stdout"
        }
      ]
    },
    {
      "cell_type": "code",
      "metadata": {
        "id": "UFhmf-3JBiJe",
        "outputId": "4e6dea07-4d26-4583-e210-700c673a1098",
        "colab": {
          "base_uri": "https://localhost:8080/",
          "height": 151
        }
      },
      "source": [
        "# 実験\n",
        "\n",
        "Z=np.array([0,0,1,0]).reshape(2,2)\n",
        "print(Z)\n",
        "print(Z.any(axis=0))\n",
        "print(~Z.any(axis=0))\n",
        "print(~np.array([True, False]))\n",
        "print(np.array(list(map (lambda x: not(x),  Z.any(axis=0)))))\n",
        "print(~np.array(list(map (lambda x: not(x),  Z.any(axis=0)))))\n",
        "\n",
        "print(np.array(list(map (lambda x: not(x),  Z.any(axis=0)))).any())"
      ],
      "execution_count": null,
      "outputs": [
        {
          "output_type": "stream",
          "text": [
            "[[0 0]\n",
            " [1 0]]\n",
            "[ True False]\n",
            "[False  True]\n",
            "[False  True]\n",
            "[False  True]\n",
            "[ True False]\n",
            "True\n"
          ],
          "name": "stdout"
        }
      ]
    },
    {
      "cell_type": "markdown",
      "metadata": {
        "id": "ZB0pheJQMHMz"
      },
      "source": [
        "#### (61) 与えられた値に最も近い値を配列の中からみつける。\n",
        "\n",
        "Find the nearest value from a given value in an array (★★☆)"
      ]
    },
    {
      "cell_type": "code",
      "metadata": {
        "id": "gJ7Rj_gTMHMz",
        "outputId": "5c85f32e-83a7-4a90-c9d4-cc7f8b441e0e",
        "colab": {
          "base_uri": "https://localhost:8080/",
          "height": 67
        }
      },
      "source": [
        "Z = np.random.uniform(0,1,10)\n",
        "z = 0.5\n",
        "m = Z.flat[np.abs(Z - z).argmin()]\n",
        "print(m)"
      ],
      "execution_count": null,
      "outputs": [
        {
          "output_type": "stream",
          "text": [
            "[0.48042455 0.76932141 0.86975789 0.41948353 0.33800055 0.33615347\n",
            " 0.84511172 0.17634795 0.01823961 0.43288691]\n",
            "0.4804245525789622\n"
          ],
          "name": "stdout"
        }
      ]
    },
    {
      "cell_type": "code",
      "metadata": {
        "id": "kPXOscitZlj2",
        "outputId": "ea444e5b-aec6-46ae-e95d-4c77825e5191",
        "colab": {
          "base_uri": "https://localhost:8080/",
          "height": 101
        }
      },
      "source": [
        "# 実験\n",
        "Z = np.random.uniform(0,1,9).reshape(3,3)\n",
        "z = 0.5\n",
        "m = Z.flat[np.abs(Z - z).argmin()]\n",
        "print(Z)\n",
        "print(np.abs(Z - z).argmin())\n",
        "print(m)\n"
      ],
      "execution_count": null,
      "outputs": [
        {
          "output_type": "stream",
          "text": [
            "[[0.8001402  0.36638633 0.28594892]\n",
            " [0.75793336 0.97985669 0.29755677]\n",
            " [0.16896387 0.44614731 0.93313895]]\n",
            "7\n",
            "0.44614730828695914\n"
          ],
          "name": "stdout"
        }
      ]
    },
    {
      "cell_type": "markdown",
      "metadata": {
        "id": "CfihhzszMHM1"
      },
      "source": [
        "#### (62) 配列のシェープが (1,3) のものと (3,1) のものがあるとして、iterator を使って合計を計算する。\n"
      ]
    },
    {
      "cell_type": "code",
      "metadata": {
        "id": "0CxVzYsgMHM1",
        "outputId": "e72ed88f-f437-42fd-dbfc-faaff1969e62",
        "colab": {
          "base_uri": "https://localhost:8080/",
          "height": 67
        }
      },
      "source": [
        "import numpy as np\n",
        "\n",
        "A = np.arange(3).reshape(3,1)\n",
        "B = np.arange(3).reshape(1,3)\n",
        "it = np.nditer([A,B,None])\n",
        "for x,y,z in it: z[...] = x + y\n",
        "print(it.operands[2])"
      ],
      "execution_count": null,
      "outputs": [
        {
          "output_type": "stream",
          "text": [
            "[[0 1 2]\n",
            " [1 2 3]\n",
            " [2 3 4]]\n"
          ],
          "name": "stdout"
        }
      ]
    },
    {
      "cell_type": "code",
      "metadata": {
        "id": "mayx3oTMLicv",
        "outputId": "b8d63d4e-40ce-459f-d42d-3a96e4c967b9",
        "colab": {
          "base_uri": "https://localhost:8080/",
          "height": 67
        }
      },
      "source": [
        "# 実験\n",
        "\n",
        "a = [0,1,2]\n",
        "b = [0,1,2]\n",
        "np.array([x+y for x in a for y in b]).reshape(3,3)"
      ],
      "execution_count": null,
      "outputs": [
        {
          "output_type": "execute_result",
          "data": {
            "text/plain": [
              "array([[0, 1, 2],\n",
              "       [1, 2, 3],\n",
              "       [2, 3, 4]])"
            ]
          },
          "metadata": {
            "tags": []
          },
          "execution_count": 6
        }
      ]
    },
    {
      "cell_type": "markdown",
      "metadata": {
        "id": "EhK0EaknjRlf"
      },
      "source": [
        "# いまここ"
      ]
    },
    {
      "cell_type": "markdown",
      "metadata": {
        "id": "O13rTr0nMHM5"
      },
      "source": [
        "#### (63) name 属性を持つ配列クラスを作る。\n",
        "\n",
        "Create an array class that has a name attribute (★★☆)"
      ]
    },
    {
      "cell_type": "code",
      "metadata": {
        "id": "sxkUPIuaMHM6",
        "outputId": "7143bb23-81d8-4f6b-aa84-cad6f3f0493b",
        "colab": {
          "base_uri": "https://localhost:8080/",
          "height": 34
        }
      },
      "source": [
        "class NamedArray(np.ndarray):\n",
        "    def __new__(cls, array, name=\"no name\"):\n",
        "        obj = np.asarray(array).view(cls)\n",
        "        obj.name = name\n",
        "        return obj\n",
        "    def __array_finalize__(self, obj):\n",
        "        if obj is None: return\n",
        "        self.info = getattr(obj, 'name', \"no name\")\n",
        "\n",
        "Z = NamedArray(np.arange(10), \"range_10\")\n",
        "print (Z.name)"
      ],
      "execution_count": null,
      "outputs": [
        {
          "output_type": "stream",
          "text": [
            "range_10\n"
          ],
          "name": "stdout"
        }
      ]
    },
    {
      "cell_type": "code",
      "metadata": {
        "id": "7QytioYnc6J6"
      },
      "source": [
        ""
      ],
      "execution_count": null,
      "outputs": []
    },
    {
      "cell_type": "markdown",
      "metadata": {
        "id": "RJu738jiMHM8"
      },
      "source": [
        "#### (64) Consider a given vector, how to add 1 to each element indexed by a second vector (be careful with repeated indices)? (★★★)"
      ]
    },
    {
      "cell_type": "code",
      "metadata": {
        "id": "xhgAPT7RMHM8"
      },
      "source": [
        "# Author: Brett Olsen\n",
        "\n",
        "Z = np.ones(10)\n",
        "I = np.random.randint(0,len(Z),20)\n",
        "Z += np.bincount(I, minlength=len(Z))\n",
        "print(Z)\n",
        "\n",
        "# Another solution\n",
        "# Author: Bartosz Telenczuk\n",
        "np.add.at(Z, I, 1)\n",
        "print(Z)"
      ],
      "execution_count": null,
      "outputs": []
    },
    {
      "cell_type": "markdown",
      "metadata": {
        "id": "rg9WMLIUMHM-"
      },
      "source": [
        "#### (65) How to accumulate elements of a vector (X) to an array (F) based on an index list (I)? (★★★)"
      ]
    },
    {
      "cell_type": "code",
      "metadata": {
        "id": "Os8q_TJdMHM_"
      },
      "source": [
        "# Author: Alan G Isaac\n",
        "\n",
        "X = [1,2,3,4,5,6]\n",
        "I = [1,3,9,3,4,1]\n",
        "F = np.bincount(I,X)\n",
        "print(F)"
      ],
      "execution_count": null,
      "outputs": []
    },
    {
      "cell_type": "markdown",
      "metadata": {
        "id": "kRCw64uqMHNB"
      },
      "source": [
        "#### (66) Considering a (w,h,3) image of (dtype=ubyte), compute the number of unique colors (★★★)"
      ]
    },
    {
      "cell_type": "code",
      "metadata": {
        "id": "bw3KufzXMHNB"
      },
      "source": [
        "# Author: Nadav Horesh\n",
        "\n",
        "w,h = 16,16\n",
        "I = np.random.randint(0,2,(h,w,3)).astype(np.ubyte)\n",
        "F = I[...,0]*256*256 + I[...,1]*256 +I[...,2]\n",
        "n = len(np.unique(F))\n",
        "print(np.unique(I))"
      ],
      "execution_count": null,
      "outputs": []
    },
    {
      "cell_type": "markdown",
      "metadata": {
        "id": "-Ufp3Ff7MHND"
      },
      "source": [
        "#### (67) Considering a four dimensions array, how to get sum over the last two axis at once? (★★★)"
      ]
    },
    {
      "cell_type": "code",
      "metadata": {
        "id": "IhN8Z7lQMHND"
      },
      "source": [
        "A = np.random.randint(0,10,(3,4,3,4))\n",
        "# solution by passing a tuple of axes (introduced in numpy 1.7.0)\n",
        "sum = A.sum(axis=(-2,-1))\n",
        "print(sum)\n",
        "# solution by flattening the last two dimensions into one\n",
        "# (useful for functions that don't accept tuples for axis argument)\n",
        "sum = A.reshape(A.shape[:-2] + (-1,)).sum(axis=-1)\n",
        "print(sum)"
      ],
      "execution_count": null,
      "outputs": []
    },
    {
      "cell_type": "markdown",
      "metadata": {
        "id": "bnnj6J9TMHNF"
      },
      "source": [
        "#### (68) Considering a one-dimensional vector D, how to compute means of subsets of D using a vector S of same size describing subset  indices? (★★★)"
      ]
    },
    {
      "cell_type": "code",
      "metadata": {
        "id": "-PTdegb3MHNH"
      },
      "source": [
        "# Author: Jaime Fernández del Río\n",
        "\n",
        "D = np.random.uniform(0,1,100)\n",
        "S = np.random.randint(0,10,100)\n",
        "D_sums = np.bincount(S, weights=D)\n",
        "D_counts = np.bincount(S)\n",
        "D_means = D_sums / D_counts\n",
        "print(D_means)\n",
        "\n",
        "# Pandas solution as a reference due to more intuitive code\n",
        "import pandas as pd\n",
        "print(pd.Series(D).groupby(S).mean())"
      ],
      "execution_count": null,
      "outputs": []
    },
    {
      "cell_type": "markdown",
      "metadata": {
        "id": "8psGHt9eMHNK"
      },
      "source": [
        "#### (69) How to get the diagonal of a dot product? (★★★)"
      ]
    },
    {
      "cell_type": "code",
      "metadata": {
        "id": "Cbwz92BGMHNK"
      },
      "source": [
        "# Author: Mathieu Blondel\n",
        "\n",
        "A = np.random.uniform(0,1,(5,5))\n",
        "B = np.random.uniform(0,1,(5,5))\n",
        "\n",
        "# Slow version\n",
        "np.diag(np.dot(A, B))\n",
        "\n",
        "# Fast version\n",
        "np.sum(A * B.T, axis=1)\n",
        "\n",
        "# Faster version\n",
        "np.einsum(\"ij,ji->i\", A, B)"
      ],
      "execution_count": null,
      "outputs": []
    },
    {
      "cell_type": "markdown",
      "metadata": {
        "id": "bzjESmMpMHNM"
      },
      "source": [
        "#### (70) Consider the vector [1, 2, 3, 4, 5], how to build a new vector with 3 consecutive zeros interleaved between each value? (★★★)"
      ]
    },
    {
      "cell_type": "code",
      "metadata": {
        "id": "z_IVJq2mMHNN"
      },
      "source": [
        "# Author: Warren Weckesser\n",
        "\n",
        "Z = np.array([1,2,3,4,5])\n",
        "nz = 3\n",
        "Z0 = np.zeros(len(Z) + (len(Z)-1)*(nz))\n",
        "Z0[::nz+1] = Z\n",
        "print(Z0)"
      ],
      "execution_count": null,
      "outputs": []
    },
    {
      "cell_type": "markdown",
      "metadata": {
        "id": "vuQ58WIHMHNP"
      },
      "source": [
        "#### (71) Consider an array of dimension (5,5,3), how to mulitply it by an array with dimensions (5,5)? (★★★)"
      ]
    },
    {
      "cell_type": "code",
      "metadata": {
        "id": "HhV6-ppTMHNP"
      },
      "source": [
        "A = np.ones((5,5,3))\n",
        "B = 2*np.ones((5,5))\n",
        "print(A * B[:,:,None])"
      ],
      "execution_count": null,
      "outputs": []
    },
    {
      "cell_type": "markdown",
      "metadata": {
        "id": "Xu-eU9kRMHNR"
      },
      "source": [
        "#### (72) How to swap two rows of an array? (★★★)"
      ]
    },
    {
      "cell_type": "code",
      "metadata": {
        "id": "4jwUjkeSMHNS"
      },
      "source": [
        "# Author: Eelco Hoogendoorn\n",
        "\n",
        "A = np.arange(25).reshape(5,5)\n",
        "A[[0,1]] = A[[1,0]]\n",
        "print(A)"
      ],
      "execution_count": null,
      "outputs": []
    },
    {
      "cell_type": "markdown",
      "metadata": {
        "id": "qIDR_76FMHNT"
      },
      "source": [
        "#### (73) Consider a set of 10 triplets describing 10 triangles (with shared vertices), find the set of unique line segments composing all the  triangles (★★★)"
      ]
    },
    {
      "cell_type": "code",
      "metadata": {
        "id": "ZS3xqqAQMHNU"
      },
      "source": [
        "# Author: Nicolas P. Rougier\n",
        "\n",
        "faces = np.random.randint(0,100,(10,3))\n",
        "F = np.roll(faces.repeat(2,axis=1),-1,axis=1)\n",
        "F = F.reshape(len(F)*3,2)\n",
        "F = np.sort(F,axis=1)\n",
        "G = F.view( dtype=[('p0',F.dtype),('p1',F.dtype)] )\n",
        "G = np.unique(G)\n",
        "print(G)"
      ],
      "execution_count": null,
      "outputs": []
    },
    {
      "cell_type": "markdown",
      "metadata": {
        "id": "l6d4isNvMHNW"
      },
      "source": [
        "#### (74) Given an array C that is a bincount, how to produce an array A such that np.bincount(A) == C? (★★★)"
      ]
    },
    {
      "cell_type": "code",
      "metadata": {
        "id": "dz8RyEMXMHNW"
      },
      "source": [
        "# Author: Jaime Fernández del Río\n",
        "\n",
        "C = np.bincount([1,1,2,3,4,4,6])\n",
        "A = np.repeat(np.arange(len(C)), C)\n",
        "print(A)"
      ],
      "execution_count": null,
      "outputs": []
    },
    {
      "cell_type": "markdown",
      "metadata": {
        "id": "aW-Vt9h-MHNY"
      },
      "source": [
        "#### (75) How to compute averages using a sliding window over an array? (★★★)"
      ]
    },
    {
      "cell_type": "code",
      "metadata": {
        "id": "w2_FkBxMMHNY"
      },
      "source": [
        "# Author: Jaime Fernández del Río\n",
        "\n",
        "def moving_average(a, n=3) :\n",
        "    ret = np.cumsum(a, dtype=float)\n",
        "    ret[n:] = ret[n:] - ret[:-n]\n",
        "    return ret[n - 1:] / n\n",
        "Z = np.arange(20)\n",
        "print(moving_average(Z, n=3))"
      ],
      "execution_count": null,
      "outputs": []
    },
    {
      "cell_type": "markdown",
      "metadata": {
        "id": "-jvEs43dMHNZ"
      },
      "source": [
        "#### (76) Consider a one-dimensional array Z, build a two-dimensional array whose first row is (Z[0],Z[1],Z[2]) and each subsequent row is  shifted by 1 (last row should be (Z[-3],Z[-2],Z[-1]) (★★★)"
      ]
    },
    {
      "cell_type": "code",
      "metadata": {
        "id": "535xEtsxMHNa"
      },
      "source": [
        "# Author: Joe Kington / Erik Rigtorp\n",
        "from numpy.lib import stride_tricks\n",
        "\n",
        "def rolling(a, window):\n",
        "    shape = (a.size - window + 1, window)\n",
        "    strides = (a.itemsize, a.itemsize)\n",
        "    return stride_tricks.as_strided(a, shape=shape, strides=strides)\n",
        "Z = rolling(np.arange(10), 3)\n",
        "print(Z)"
      ],
      "execution_count": null,
      "outputs": []
    },
    {
      "cell_type": "markdown",
      "metadata": {
        "id": "v0FSMACcMHNb"
      },
      "source": [
        "#### (77) How to negate a boolean, or to change the sign of a float inplace? (★★★)"
      ]
    },
    {
      "cell_type": "code",
      "metadata": {
        "id": "bILuhjNmMHNc"
      },
      "source": [
        "# Author: Nathaniel J. Smith\n",
        "\n",
        "Z = np.random.randint(0,2,100)\n",
        "np.logical_not(Z, out=Z)\n",
        "\n",
        "Z = np.random.uniform(-1.0,1.0,100)\n",
        "np.negative(Z, out=Z)"
      ],
      "execution_count": null,
      "outputs": []
    },
    {
      "cell_type": "markdown",
      "metadata": {
        "id": "Dkwr1ORWMHNf"
      },
      "source": [
        "#### (78) Consider 2 sets of points P0,P1 describing lines (2d) and a point p, how to compute distance from p to each line i (P0[i],P1[i])? (★★★)"
      ]
    },
    {
      "cell_type": "code",
      "metadata": {
        "id": "CPGVa7YlMHNg"
      },
      "source": [
        "def distance(P0, P1, p):\n",
        "    T = P1 - P0\n",
        "    L = (T**2).sum(axis=1)\n",
        "    U = -((P0[:,0]-p[...,0])*T[:,0] + (P0[:,1]-p[...,1])*T[:,1]) / L\n",
        "    U = U.reshape(len(U),1)\n",
        "    D = P0 + U*T - p\n",
        "    return np.sqrt((D**2).sum(axis=1))\n",
        "\n",
        "P0 = np.random.uniform(-10,10,(10,2))\n",
        "P1 = np.random.uniform(-10,10,(10,2))\n",
        "p  = np.random.uniform(-10,10,( 1,2))\n",
        "print(distance(P0, P1, p))"
      ],
      "execution_count": null,
      "outputs": []
    },
    {
      "cell_type": "markdown",
      "metadata": {
        "id": "N4JOHgASMHNh"
      },
      "source": [
        "#### (79) Consider 2 sets of points P0,P1 describing lines (2d) and a set of points P, how to compute distance from each point j (P[j]) to each line i (P0[i],P1[i])? (★★★)"
      ]
    },
    {
      "cell_type": "code",
      "metadata": {
        "id": "tAzkmjj0MHNh"
      },
      "source": [
        "# Author: Italmassov Kuanysh\n",
        "\n",
        "# based on distance function from previous question\n",
        "P0 = np.random.uniform(-10, 10, (10,2))\n",
        "P1 = np.random.uniform(-10,10,(10,2))\n",
        "p = np.random.uniform(-10, 10, (10,2))\n",
        "print(np.array([distance(P0,P1,p_i) for p_i in p]))"
      ],
      "execution_count": null,
      "outputs": []
    },
    {
      "cell_type": "markdown",
      "metadata": {
        "id": "GnYX3WXjMHNj"
      },
      "source": [
        "#### (80) Consider an arbitrary array, write a function that extract a subpart with a fixed shape and centered on a given element (pad with a `fill` value when necessary) (★★★)"
      ]
    },
    {
      "cell_type": "code",
      "metadata": {
        "id": "oUr_3gZaMHNl"
      },
      "source": [
        "# Author: Nicolas Rougier\n",
        "\n",
        "Z = np.random.randint(0,10,(10,10))\n",
        "shape = (5,5)\n",
        "fill  = 0\n",
        "position = (1,1)\n",
        "\n",
        "R = np.ones(shape, dtype=Z.dtype)*fill\n",
        "P  = np.array(list(position)).astype(int)\n",
        "Rs = np.array(list(R.shape)).astype(int)\n",
        "Zs = np.array(list(Z.shape)).astype(int)\n",
        "\n",
        "R_start = np.zeros((len(shape),)).astype(int)\n",
        "R_stop  = np.array(list(shape)).astype(int)\n",
        "Z_start = (P-Rs//2)\n",
        "Z_stop  = (P+Rs//2)+Rs%2\n",
        "\n",
        "R_start = (R_start - np.minimum(Z_start,0)).tolist()\n",
        "Z_start = (np.maximum(Z_start,0)).tolist()\n",
        "R_stop = np.maximum(R_start, (R_stop - np.maximum(Z_stop-Zs,0))).tolist()\n",
        "Z_stop = (np.minimum(Z_stop,Zs)).tolist()\n",
        "\n",
        "r = [slice(start,stop) for start,stop in zip(R_start,R_stop)]\n",
        "z = [slice(start,stop) for start,stop in zip(Z_start,Z_stop)]\n",
        "R[r] = Z[z]\n",
        "print(Z)\n",
        "print(R)"
      ],
      "execution_count": null,
      "outputs": []
    },
    {
      "cell_type": "markdown",
      "metadata": {
        "id": "ZBrXAl99MHNn"
      },
      "source": [
        "#### (81) Consider an array Z = [1,2,3,4,5,6,7,8,9,10,11,12,13,14], how to generate an array R = [[1,2,3,4], [2,3,4,5], [3,4,5,6], ..., [11,12,13,14]]? (★★★)"
      ]
    },
    {
      "cell_type": "code",
      "metadata": {
        "id": "dVQZt0WyMHNn"
      },
      "source": [
        "# Author: Stefan van der Walt\n",
        "\n",
        "Z = np.arange(1,15,dtype=np.uint32)\n",
        "R = stride_tricks.as_strided(Z,(11,4),(4,4))\n",
        "print(R)"
      ],
      "execution_count": null,
      "outputs": []
    },
    {
      "cell_type": "markdown",
      "metadata": {
        "id": "_KT18K-ZMHNq"
      },
      "source": [
        "#### (82) Compute a matrix rank (★★★)"
      ]
    },
    {
      "cell_type": "code",
      "metadata": {
        "id": "rOrBlSA-MHNq"
      },
      "source": [
        "# Author: Stefan van der Walt\n",
        "\n",
        "Z = np.random.uniform(0,1,(10,10))\n",
        "U, S, V = np.linalg.svd(Z) # Singular Value Decomposition\n",
        "rank = np.sum(S > 1e-10)\n",
        "print(rank)"
      ],
      "execution_count": null,
      "outputs": []
    },
    {
      "cell_type": "markdown",
      "metadata": {
        "id": "vVZAHtb0MHNr"
      },
      "source": [
        "#### (83) How to find the most frequent value in an array?"
      ]
    },
    {
      "cell_type": "code",
      "metadata": {
        "id": "E7sSmEIEMHNs"
      },
      "source": [
        "Z = np.random.randint(0,10,50)\n",
        "print(np.bincount(Z).argmax())"
      ],
      "execution_count": null,
      "outputs": []
    },
    {
      "cell_type": "markdown",
      "metadata": {
        "id": "wlUZqAfUMHNu"
      },
      "source": [
        "#### (84) Extract all the contiguous 3x3 blocks from a random 10x10 matrix (★★★)"
      ]
    },
    {
      "cell_type": "code",
      "metadata": {
        "id": "3tK6IJ-MMHNu"
      },
      "source": [
        "# Author: Chris Barker\n",
        "\n",
        "Z = np.random.randint(0,5,(10,10))\n",
        "n = 3\n",
        "i = 1 + (Z.shape[0]-3)\n",
        "j = 1 + (Z.shape[1]-3)\n",
        "C = stride_tricks.as_strided(Z, shape=(i, j, n, n), strides=Z.strides + Z.strides)\n",
        "print(C)"
      ],
      "execution_count": null,
      "outputs": []
    },
    {
      "cell_type": "markdown",
      "metadata": {
        "id": "IqAOWQvLMHNw"
      },
      "source": [
        "#### (85) Create a 2D array subclass such that Z[i,j] == Z[j,i] (★★★)"
      ]
    },
    {
      "cell_type": "code",
      "metadata": {
        "id": "KuMOxk2XMHNw"
      },
      "source": [
        "# Author: Eric O. Lebigot\n",
        "# Note: only works for 2d array and value setting using indices\n",
        "\n",
        "class Symetric(np.ndarray):\n",
        "    def __setitem__(self, index, value):\n",
        "        i,j = index\n",
        "        super(Symetric, self).__setitem__((i,j), value)\n",
        "        super(Symetric, self).__setitem__((j,i), value)\n",
        "\n",
        "def symetric(Z):\n",
        "    return np.asarray(Z + Z.T - np.diag(Z.diagonal())).view(Symetric)\n",
        "\n",
        "S = symetric(np.random.randint(0,10,(5,5)))\n",
        "S[2,3] = 42\n",
        "print(S)"
      ],
      "execution_count": null,
      "outputs": []
    },
    {
      "cell_type": "markdown",
      "metadata": {
        "id": "sCl2K49KMHNx"
      },
      "source": [
        "#### (86) Consider a set of p matrices wich shape (n,n) and a set of p vectors with shape (n,1). How to compute the sum of of the p matrix products at once? (result has shape (n,1)) (★★★)"
      ]
    },
    {
      "cell_type": "code",
      "metadata": {
        "id": "fzTyFQPlMHNy"
      },
      "source": [
        "# Author: Stefan van der Walt\n",
        "\n",
        "p, n = 10, 20\n",
        "M = np.ones((p,n,n))\n",
        "V = np.ones((p,n,1))\n",
        "S = np.tensordot(M, V, axes=[[0, 2], [0, 1]])\n",
        "print(S)\n",
        "\n",
        "# It works, because:\n",
        "# M is (p,n,n)\n",
        "# V is (p,n,1)\n",
        "# Thus, summing over the paired axes 0 and 0 (of M"
      ],
      "execution_count": null,
      "outputs": []
    },
    {
      "cell_type": "markdown",
      "metadata": {
        "id": "5mKPg1XtMHNz"
      },
      "source": [
        "#### (87) Consider a 16x16 array, how to get the block-sum (block size is 4x4)? (★★★)"
      ]
    },
    {
      "cell_type": "code",
      "metadata": {
        "id": "q8cLsNXxMHNz"
      },
      "source": [
        "# Author: Robert Kern\n",
        "\n",
        "Z = np.ones((16,16))\n",
        "k = 4\n",
        "S = np.add.reduceat(np.add.reduceat(Z, np.arange(0, Z.shape[0], k), axis=0),\n",
        "                                       np.arange(0, Z.shape[1], k), axis=1)\n",
        "print(S)"
      ],
      "execution_count": null,
      "outputs": []
    },
    {
      "cell_type": "markdown",
      "metadata": {
        "id": "8KP7NdABMHN1"
      },
      "source": [
        "#### (88) How to implement the Game of Life using numpy arrays? (★★★)"
      ]
    },
    {
      "cell_type": "code",
      "metadata": {
        "id": "_2-EYsWmMHN1"
      },
      "source": [
        "# Author: Nicolas Rougier\n",
        "\n",
        "def iterate(Z):\n",
        "    # Count neighbours\n",
        "    N = (Z[0:-2,0:-2] + Z[0:-2,1:-1] + Z[0:-2,2:] +\n",
        "         Z[1:-1,0:-2]                + Z[1:-1,2:] +\n",
        "         Z[2:  ,0:-2] + Z[2:  ,1:-1] + Z[2:  ,2:])\n",
        "\n",
        "    # Apply rules\n",
        "    birth = (N==3) & (Z[1:-1,1:-1]==0)\n",
        "    survive = ((N==2) | (N==3)) & (Z[1:-1,1:-1]==1)\n",
        "    Z[...] = 0\n",
        "    Z[1:-1,1:-1][birth | survive] = 1\n",
        "    return Z\n",
        "\n",
        "Z = np.random.randint(0,2,(50,50))\n",
        "for i in range(100): Z = iterate(Z)\n",
        "print(Z)"
      ],
      "execution_count": null,
      "outputs": []
    },
    {
      "cell_type": "markdown",
      "metadata": {
        "id": "Okq86XNgMHN3"
      },
      "source": [
        "#### (89) How to get the n largest values of an array (★★★)"
      ]
    },
    {
      "cell_type": "code",
      "metadata": {
        "id": "KlQIHupZMHN3"
      },
      "source": [
        "Z = np.arange(10000)\n",
        "np.random.shuffle(Z)\n",
        "n = 5\n",
        "\n",
        "# Slow\n",
        "print (Z[np.argsort(Z)[-n:]])\n",
        "\n",
        "# Fast\n",
        "print (Z[np.argpartition(-Z,n)[:n]])"
      ],
      "execution_count": null,
      "outputs": []
    },
    {
      "cell_type": "markdown",
      "metadata": {
        "id": "Q2QevP-lMHN5"
      },
      "source": [
        "#### (90) Given an arbitrary number of vectors, build the cartesian product (every combinations of every item) (★★★)"
      ]
    },
    {
      "cell_type": "code",
      "metadata": {
        "id": "OX4ag1rlMHN5"
      },
      "source": [
        "# Author: Stefan Van der Walt\n",
        "\n",
        "def cartesian(arrays):\n",
        "    arrays = [np.asarray(a) for a in arrays]\n",
        "    shape = (len(x) for x in arrays)\n",
        "\n",
        "    ix = np.indices(shape, dtype=int)\n",
        "    ix = ix.reshape(len(arrays), -1).T\n",
        "\n",
        "    for n, arr in enumerate(arrays):\n",
        "        ix[:, n] = arrays[n][ix[:, n]]\n",
        "\n",
        "    return ix\n",
        "\n",
        "print (cartesian(([1, 2, 3], [4, 5], [6, 7])))"
      ],
      "execution_count": null,
      "outputs": []
    },
    {
      "cell_type": "markdown",
      "metadata": {
        "id": "gNhkGTXLMHN6"
      },
      "source": [
        "#### (91) How to create a record array from a regular array? (★★★)"
      ]
    },
    {
      "cell_type": "code",
      "metadata": {
        "id": "XbEamcnsMHN7"
      },
      "source": [
        "Z = np.array([(\"Hello\", 2.5, 3),\n",
        "              (\"World\", 3.6, 2)])\n",
        "R = np.core.records.fromarrays(Z.T,\n",
        "                               names='col1, col2, col3',\n",
        "                               formats = 'S8, f8, i8')\n",
        "print(R)"
      ],
      "execution_count": null,
      "outputs": []
    },
    {
      "cell_type": "markdown",
      "metadata": {
        "id": "fj_-ILhXMHN-"
      },
      "source": [
        "#### (92) Consider a large vector Z, compute Z to the power of 3 using 3 different methods (★★★)"
      ]
    },
    {
      "cell_type": "code",
      "metadata": {
        "id": "7gEjiRBpMHN-"
      },
      "source": [
        "# Author: Ryan G.\n",
        "\n",
        "x = np.random.rand(int(5e7))\n",
        "\n",
        "%timeit np.power(x,3)\n",
        "%timeit x*x*x\n",
        "%timeit np.einsum('i,i,i->i',x,x,x)"
      ],
      "execution_count": null,
      "outputs": []
    },
    {
      "cell_type": "markdown",
      "metadata": {
        "id": "aiHIBYPMMHOB"
      },
      "source": [
        "#### (93) Consider two arrays A and B of shape (8,3) and (2,2). How to find rows of A that contain elements of each row of B regardless of the order of the elements in B? (★★★)"
      ]
    },
    {
      "cell_type": "code",
      "metadata": {
        "id": "18WuUrgoMHOC"
      },
      "source": [
        "# Author: Gabe Schwartz\n",
        "\n",
        "A = np.random.randint(0,5,(8,3))\n",
        "B = np.random.randint(0,5,(2,2))\n",
        "\n",
        "C = (A[..., np.newaxis, np.newaxis] == B)\n",
        "rows = np.where(C.any((3,1)).all(1))[0]\n",
        "print(rows)"
      ],
      "execution_count": null,
      "outputs": []
    },
    {
      "cell_type": "markdown",
      "metadata": {
        "id": "OrXvWRXeMHOF"
      },
      "source": [
        "#### (94) Considering a 10x3 matrix, extract rows with unequal values (e.g. [2,2,3]) (★★★)"
      ]
    },
    {
      "cell_type": "code",
      "metadata": {
        "id": "3WbPzcUGMHOG"
      },
      "source": [
        "# Author: Robert Kern\n",
        "\n",
        "Z = np.random.randint(0,5,(10,3))\n",
        "print(Z)\n",
        "# solution for arrays of all dtypes (including string arrays and record arrays)\n",
        "E = np.all(Z[:,1:] == Z[:,:-1], axis=1)\n",
        "U = Z[~E]\n",
        "print(U)\n",
        "# soluiton for numerical arrays only, will work for any number of columns in Z\n",
        "U = Z[Z.max(axis=1) != Z.min(axis=1),:]\n",
        "print(U)"
      ],
      "execution_count": null,
      "outputs": []
    },
    {
      "cell_type": "markdown",
      "metadata": {
        "id": "gV0WsHlJMHOH"
      },
      "source": [
        "#### (95) Convert a vector of ints into a matrix binary representation (★★★)"
      ]
    },
    {
      "cell_type": "code",
      "metadata": {
        "id": "SHnfdyd5MHOH"
      },
      "source": [
        "# Author: Warren Weckesser\n",
        "\n",
        "I = np.array([0, 1, 2, 3, 15, 16, 32, 64, 128])\n",
        "B = ((I.reshape(-1,1) & (2**np.arange(8))) != 0).astype(int)\n",
        "print(B[:,::-1])\n",
        "\n",
        "# Author: Daniel T. McDonald\n",
        "\n",
        "I = np.array([0, 1, 2, 3, 15, 16, 32, 64, 128], dtype=np.uint8)\n",
        "print(np.unpackbits(I[:, np.newaxis], axis=1))"
      ],
      "execution_count": null,
      "outputs": []
    },
    {
      "cell_type": "markdown",
      "metadata": {
        "id": "C7mb_k74MHOJ"
      },
      "source": [
        "#### (96) Given a two dimensional array, how to extract unique rows? (★★★)"
      ]
    },
    {
      "cell_type": "code",
      "metadata": {
        "id": "3Fe0sz7YMHOJ"
      },
      "source": [
        "# Author: Jaime Fernández del Río\n",
        "\n",
        "Z = np.random.randint(0,2,(6,3))\n",
        "T = np.ascontiguousarray(Z).view(np.dtype((np.void, Z.dtype.itemsize * Z.shape[1])))\n",
        "_, idx = np.unique(T, return_index=True)\n",
        "uZ = Z[idx]\n",
        "print(uZ)\n",
        "\n",
        "# Author: Andreas Kouzelis\n",
        "# NumPy >= 1.13\n",
        "uZ = np.unique(Z, axis=0)\n",
        "print(uZ)"
      ],
      "execution_count": null,
      "outputs": []
    },
    {
      "cell_type": "markdown",
      "metadata": {
        "id": "DOSd2JvnMHOL"
      },
      "source": [
        "#### (97) Considering 2 vectors A & B, write the einsum equivalent of inner, outer, sum, and mul function (★★★)"
      ]
    },
    {
      "cell_type": "code",
      "metadata": {
        "id": "QZItLJqFMHOL"
      },
      "source": [
        "# Author: Alex Riley\n",
        "# Make sure to read: http://ajcr.net/Basic-guide-to-einsum/\n",
        "\n",
        "A = np.random.uniform(0,1,10)\n",
        "B = np.random.uniform(0,1,10)\n",
        "\n",
        "np.einsum('i->', A)       # np.sum(A)\n",
        "np.einsum('i,i->i', A, B) # A * B\n",
        "np.einsum('i,i', A, B)    # np.inner(A, B)\n",
        "np.einsum('i,j->ij', A, B)    # np.outer(A, B)"
      ],
      "execution_count": null,
      "outputs": []
    },
    {
      "cell_type": "markdown",
      "metadata": {
        "id": "jfUtnBQ-MHOM"
      },
      "source": [
        "#### (98) Considering a path described by two vectors (X,Y), how to sample it using equidistant samples (★★★)?"
      ]
    },
    {
      "cell_type": "code",
      "metadata": {
        "id": "KOqvD0vvMHON"
      },
      "source": [
        "# Author: Bas Swinckels\n",
        "\n",
        "phi = np.arange(0, 10*np.pi, 0.1)\n",
        "a = 1\n",
        "x = a*phi*np.cos(phi)\n",
        "y = a*phi*np.sin(phi)\n",
        "\n",
        "dr = (np.diff(x)**2 + np.diff(y)**2)**.5 # segment lengths\n",
        "r = np.zeros_like(x)\n",
        "r[1:] = np.cumsum(dr)                # integrate path\n",
        "r_int = np.linspace(0, r.max(), 200) # regular spaced path\n",
        "x_int = np.interp(r_int, r, x)       # integrate path\n",
        "y_int = np.interp(r_int, r, y)"
      ],
      "execution_count": null,
      "outputs": []
    },
    {
      "cell_type": "markdown",
      "metadata": {
        "id": "_zXvelMpMHOO"
      },
      "source": [
        "#### (99) Given an integer n and a 2D array X, select from X the rows which can be interpreted as draws from a multinomial distribution with n degrees, i.e., the rows which only contain integers and which sum to n. (★★★)"
      ]
    },
    {
      "cell_type": "code",
      "metadata": {
        "id": "TY_EJl9kMHOO"
      },
      "source": [
        "# Author: Evgeni Burovski\n",
        "\n",
        "X = np.asarray([[1.0, 0.0, 3.0, 8.0],\n",
        "                [2.0, 0.0, 1.0, 1.0],\n",
        "                [1.5, 2.5, 1.0, 0.0]])\n",
        "n = 4\n",
        "M = np.logical_and.reduce(np.mod(X, 1) == 0, axis=-1)\n",
        "M &= (X.sum(axis=-1) == n)\n",
        "print(X[M])"
      ],
      "execution_count": null,
      "outputs": []
    },
    {
      "cell_type": "markdown",
      "metadata": {
        "id": "2cJ9I5qJMHOQ"
      },
      "source": [
        "#### (100) Compute bootstrapped 95% confidence intervals for the mean of a 1D array X (i.e., resample the elements of an array with replacement N times, compute the mean of each sample, and then compute percentiles over the means). (★★★)"
      ]
    },
    {
      "cell_type": "code",
      "metadata": {
        "id": "54s_ptd5MHOQ"
      },
      "source": [
        "# Author: Jessica B. Hamrick\n",
        "\n",
        "X = np.random.randn(100) # random 1D array\n",
        "N = 1000 # number of bootstrap samples\n",
        "idx = np.random.randint(0, X.size, (N, X.size))\n",
        "means = X[idx].mean(axis=1)\n",
        "confint = np.percentile(means, [2.5, 97.5])\n",
        "print(confint)"
      ],
      "execution_count": null,
      "outputs": []
    },
    {
      "cell_type": "markdown",
      "metadata": {
        "id": "DJLSfBRBNG-M"
      },
      "source": [
        "https://github.com/rougier/numpy-100"
      ]
    }
  ]
}