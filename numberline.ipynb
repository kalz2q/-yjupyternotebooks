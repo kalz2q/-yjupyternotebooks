{
  "nbformat": 4,
  "nbformat_minor": 0,
  "metadata": {
    "colab": {
      "name": "numberline.ipynb",
      "provenance": [],
      "authorship_tag": "ABX9TyPFFDg0I752DNHxHRILaYXs",
      "include_colab_link": true
    },
    "kernelspec": {
      "name": "python3",
      "display_name": "Python 3"
    }
  },
  "cells": [
    {
      "cell_type": "markdown",
      "metadata": {
        "id": "view-in-github",
        "colab_type": "text"
      },
      "source": [
        "<a href=\"https://colab.research.google.com/github/kalz2q/mycolabnotebooks/blob/master/numberline.ipynb\" target=\"_parent\"><img src=\"https://colab.research.google.com/assets/colab-badge.svg\" alt=\"Open In Colab\"/></a>"
      ]
    },
    {
      "cell_type": "markdown",
      "metadata": {
        "id": "8Ki-mDLUyiUR",
        "colab_type": "text"
      },
      "source": [
        "# メモ\n",
        "\n",
        "1. `colab`で`matplotlib`で、数字線`number line`を作る。\n",
        "1. ノートブック`ipynb`をマークダウン`md`に変換して、はてななどに貼り付ける。\n",
        "1. 画像の処理はどうするか。どうなるか。\n",
        "\n"
      ]
    },
    {
      "cell_type": "code",
      "metadata": {
        "colab_type": "code",
        "id": "wu80GNDuFlk1",
        "colab": {
          "base_uri": "https://localhost:8080/",
          "height": 378
        },
        "outputId": "f4e06b50-1799-415a-eab3-671d076d2b76"
      },
      "source": [
        "import matplotlib.pyplot as plt\n",
        "import numpy as np\n",
        "\n",
        "ax=plt.figure(figsize=(12,6)).add_subplot(xlim=(-4,4), ylim=(0, 1.0))\n",
        "\n",
        "plt.arrow(-3.5, 0.5, 7, 0, head_width=0.05, head_length=0.15, linewidth=4, color='b', length_includes_head=True)\n",
        "plt.arrow(3.5, 0.5, -7, 0, head_width=0.05, head_length=0.15, linewidth=4, color='b', length_includes_head=True)\n",
        "\n",
        "x = [-3, -2, -1, 0, 1, 2, 3]\n",
        "y = [0.5, 0.5, 0.5, 0.5, 0.5, 0.5, 0.5]\n",
        "data_name = [\"-3\", \"-2\", \"-1\", \"0\", \"1\", \"2\", \"3\"]\n",
        "plt.plot(x, y, 'r|', ms=\"40\")\n",
        "\n",
        "for (i, j, name) in zip (x, y, data_name) :\n",
        "    plt.text(i, j, name, fontsize=15, position=(i-0.05, j-0.2))\n",
        "\n",
        "plt.show()"
      ],
      "execution_count": 19,
      "outputs": [
        {
          "output_type": "display_data",
          "data": {
            "image/png": "[encoded data removed]",
            "text/plain": [
              "<Figure size 864x432 with 1 Axes>"
            ]
          },
          "metadata": {
            "tags": [],
            "needs_background": "light"
          }
        }
      ]
    }
  ]
}