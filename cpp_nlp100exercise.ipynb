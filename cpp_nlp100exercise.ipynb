{
  "nbformat": 4,
  "nbformat_minor": 0,
  "metadata": {
    "colab": {
      "name": "cpp_nlp100exercise.ipynb",
      "provenance": [],
      "toc_visible": true,
      "authorship_tag": "ABX9TyOy7dFLo/lHqEr2tZ1sVvU/",
      "include_colab_link": true
    },
    "kernelspec": {
      "name": "python3",
      "display_name": "Python 3"
    },
    "language_info": {
      "name": "python"
    }
  },
  "cells": [
    {
      "cell_type": "markdown",
      "metadata": {
        "id": "view-in-github",
        "colab_type": "text"
      },
      "source": [
        "<a href=\"https://colab.research.google.com/github/kalz2q/mycolabnotebooks/blob/master/cpp_nlp100exercise.ipynb\" target=\"_parent\"><img src=\"https://colab.research.google.com/assets/colab-badge.svg\" alt=\"Open In Colab\"/></a>"
      ]
    },
    {
      "cell_type": "markdown",
      "source": [
        "# メモ\n",
        "c++ で colab 上で言語処理100本ノック\n",
        "https://nlp100.github.io/ja/\n",
        "を解く\n"
      ],
      "metadata": {
        "id": "aCy-3QjbcyfG"
      }
    },
    {
      "cell_type": "code",
      "source": [
        "# C++ で普通日本語処理をどうやるのか知らないので、変な解法になっているかもしれないが、\n",
        "# ご容赦願いたい。"
      ],
      "metadata": {
        "id": "BgJa7PHaxgYB"
      },
      "execution_count": null,
      "outputs": []
    },
    {
      "cell_type": "code",
      "source": [
        "# 問題\n",
        "# 文字列”stressed”の文字を逆に（末尾から先頭に向かって）並べた文字列を得よ\n",
        "%%writefile temp.cpp\n",
        "#include <bits/stdc++.h>\n",
        "using namespace std;\n",
        "int main () {\n",
        "    string str = \"stressed\";\n",
        "    reverse(str.begin(), str.end());\n",
        "    cout << str << endl;\n",
        "}"
      ],
      "metadata": {
        "id": "r-gKwSeVdvE3",
        "outputId": "01fec26a-5f1c-4cbc-a376-f9708500236e",
        "colab": {
          "base_uri": "https://localhost:8080/"
        }
      },
      "execution_count": 3,
      "outputs": [
        {
          "output_type": "stream",
          "name": "stdout",
          "text": [
            "Overwriting temp.cpp\n"
          ]
        }
      ]
    },
    {
      "cell_type": "code",
      "source": [
        "!g++ temp.cpp; ./a.out"
      ],
      "metadata": {
        "id": "xIv_vb61yBVH",
        "outputId": "7f85c620-59dc-4925-8521-1afc8f001b30",
        "colab": {
          "base_uri": "https://localhost:8080/"
        }
      },
      "execution_count": 4,
      "outputs": [
        {
          "output_type": "stream",
          "name": "stdout",
          "text": [
            "desserts\n"
          ]
        }
      ]
    },
    {
      "cell_type": "code",
      "execution_count": 15,
      "metadata": {
        "id": "ODg1wM5Wcqy_",
        "outputId": "bd54f810-1233-4368-c507-7957d92e1f6a",
        "colab": {
          "base_uri": "https://localhost:8080/"
        }
      },
      "outputs": [
        {
          "output_type": "stream",
          "name": "stdout",
          "text": [
            "Overwriting temp.cpp\n"
          ]
        }
      ],
      "source": [
        "# 01. 「パタトクカシーー」\n",
        "# 「パタトクカシーー」という文字列の1,3,5,7文字目を取り出して連結した文字列を得よ\n",
        "%%writefile temp.cpp\n",
        "#include <bits/stdc++.h>\n",
        "using namespace std;\n",
        "int count_byte(char c){\n",
        "    if ((c & 0x80) == 0) return 1;\n",
        "    else if ((c & 0xe0) == 0xc0) return 2;\n",
        "    else if ((c & 0xf0) == 0xe0) return 3;\n",
        "    else return 4;\n",
        "}\n",
        "vector<string> str2vec(string &str){\n",
        "    vector<string> vec;\n",
        "    for (int i = 0 ; i < str.size(); i += count_byte(str.at(i))){\n",
        "        vec.push_back(str.substr(i,count_byte(str.at(i))));\n",
        "    }    \n",
        "    return vec;\n",
        "}\n",
        "using namespace std;\n",
        "int main () {\n",
        "    string str = \"パタトクカシーー\";\n",
        "    vector<string> vec;\n",
        "    vec = str2vec(str);\n",
        "    for (auto& item : vec) {\n",
        "        cout << item;\n",
        "    };\n",
        "    cout << endl;\n",
        "    cout << vec.at(0) <<  vec.at(2) << vec.at(4) << vec.at(6) << endl;\n",
        "}"
      ]
    },
    {
      "cell_type": "code",
      "source": [
        "!g++ temp.cpp; ./a.out"
      ],
      "metadata": {
        "id": "xJGOoAVq0eRI",
        "outputId": "25ab9e0a-6ec2-449e-f0c6-133db8ddfb51",
        "colab": {
          "base_uri": "https://localhost:8080/"
        }
      },
      "execution_count": 16,
      "outputs": [
        {
          "output_type": "stream",
          "name": "stdout",
          "text": [
            "パタトクカシーー\n",
            "パトカー\n"
          ]
        }
      ]
    },
    {
      "cell_type": "code",
      "source": [
        "# 02. 「パトカー」＋「タクシー」＝「パタトクカシーー」\n",
        "# 「パトカー」＋「タクシー」の文字を先頭から交互に連結して文字列「パタトクカシーー」を得よ\n",
        "%%writefile temp.cpp\n",
        "#include <bits/stdc++.h>\n",
        "using namespace std;\n",
        "\n",
        "int count_byte(char c){\n",
        "    if ((c & 0x80) == 0) return 1;\n",
        "    else if ((c & 0xe0) == 0xc0) return 2;\n",
        "    else if ((c & 0xf0) == 0xe0) return 3;\n",
        "    else return 4;\n",
        "}\n",
        "vector<string> str2vec(string &str){\n",
        "    vector<string> vec;\n",
        "    for (int i = 0 ; i < str.size(); i += count_byte(str.at(i))){\n",
        "        vec.push_back(str.substr(i,count_byte(str.at(i))));\n",
        "    }    \n",
        "    return vec;\n",
        "}\n",
        "\n",
        "int main () {\n",
        "    string str1 = \"パトカー\";\n",
        "    string str2 = \"タクシー\";\n",
        "    vector<string> vec1;\n",
        "    vec1 = str2vec(str1);\n",
        "    vector<string> vec2;\n",
        "    vec2 = str2vec(str2);\n",
        "    vector<string> ansvec;\n",
        "    for (int i=0; i < vec1.size(); i++) {\n",
        "        ansvec.push_back(vec1.at(i));\n",
        "        ansvec.push_back(vec2.at(i));\n",
        "    }\n",
        "    for (auto& item : ansvec) {\n",
        "        cout << item;\n",
        "    }\n",
        "    cout << endl;\n",
        "}"
      ],
      "metadata": {
        "id": "QrwEn4XezBP1",
        "outputId": "3de48448-1d61-40bb-cb92-bc6828e8e576",
        "colab": {
          "base_uri": "https://localhost:8080/"
        }
      },
      "execution_count": 45,
      "outputs": [
        {
          "output_type": "stream",
          "name": "stdout",
          "text": [
            "Overwriting temp.cpp\n"
          ]
        }
      ]
    },
    {
      "cell_type": "code",
      "source": [
        "!g++ temp.cpp; ./a.out"
      ],
      "metadata": {
        "id": "QAJgLWhx3B4S",
        "outputId": "475f73c9-6bf4-4794-b5f1-83d44f40e704",
        "colab": {
          "base_uri": "https://localhost:8080/"
        }
      },
      "execution_count": 46,
      "outputs": [
        {
          "output_type": "stream",
          "name": "stdout",
          "text": [
            "パタトクカシーー\n"
          ]
        }
      ]
    },
    {
      "cell_type": "markdown",
      "source": [
        "# いまここ"
      ],
      "metadata": {
        "id": "GC-SbHgV5Pxy"
      }
    },
    {
      "cell_type": "code",
      "source": [
        "\n",
        "03. 円周率\n",
        "“Now I need a drink, alcoholic of course, after the heavy lectures involving quantum mechanics.”という文を単語に分解し，各単語の（アルファベットの）文字数を先頭から出現順に並べたリストを作成せよ．\n",
        "\n",
        "int main()\n",
        "{\n",
        "  string a = \"Now I need a drink, alcoholic of course, after the heavy lectures involving quantum mechanics.\";\n",
        "\n",
        "  int count = 0;\n",
        "  for (int i = 0; i < a.size(); i++)\n",
        "  {\n",
        "    if (a[i] == ' ' || a[i] == ',' || a[i] == '.')\n",
        "    {\n",
        "      if (count != 0)\n",
        "        cout << count;\n",
        "      count = 0;\n",
        "    }\n",
        "    else\n",
        "    {\n",
        "      count += 1;\n",
        "    }\n",
        "  }\n",
        "}\n",
        "04. 元素記号\n",
        "“Hi He Lied Because Boron Could Not Oxidize Fluorine. New Nations Might Also Sign Peace Security Clause. Arthur King Can.”という文を単語に分解し，1, 5, 6, 7, 8, 9, 15, 16, 19番目の単語は先頭の1文字，それ以外の単語は先頭に2文字を取り出し，取り出した文字列から単語の位置（先頭から何番目の単語か）への連想配列（辞書型もしくはマップ型）を作成せよ．\n",
        "\n",
        "int count_;\n",
        "int single_[] = {1, 5, 6, 7, 8, 9, 15, 16, 19};\n",
        "\n",
        "// マグネシウムの元素記号Mg？\n",
        "\n",
        "bool isSingle()\n",
        "{\n",
        "  for (int j = 0; j < sizeof(single_) / sizeof(single_[0]); j++)\n",
        "  {\n",
        "    if (single_[j] == count_)\n",
        "      return true;\n",
        "  }\n",
        "  return false;\n",
        "}\n",
        "\n",
        "int main()\n",
        "{\n",
        "  string a = \"Hi He Lied Because Boron Could Not Oxidize Fluorine. New Nations Might Also Sign Peace Security Clause. Arthur King Can.\";\n",
        "  string tmp;\n",
        "  map<string, int> mp;\n",
        "  count_ = 0;\n",
        "  for (int i = 0; i < a.size(); i++)\n",
        "  {\n",
        "    count_ += 1;\n",
        "    tmp = a[i];\n",
        "\n",
        "    if (!isSingle()) //1文字指定でなければ\n",
        "    {\n",
        "      tmp += a[i + 1];\n",
        "    }\n",
        "\n",
        "    mp[tmp] = count_;\n",
        "    cout << tmp << endl;\n",
        "    while (a[i] != ' ' && i < a.size())\n",
        "    {\n",
        "      i += 1;\n",
        "    }\n",
        "  }\n",
        "}\n",
        "05. n-gramPermalink\n",
        "与えられたシーケンス（文字列やリストなど）からn-gramを作る関数を作成せよ．この関数を用い，”I am an NLPer”という文から単語bi-gram，文字bi-gramを得よ．\n",
        "\n",
        "// What is n-gran?\n",
        "// https://qiita.com/kazmaw/items/4df328cba6429ec210fb\n",
        "\n",
        "int moji()\n",
        "{\n",
        "  string a = \"I am an NLPer\";\n",
        "  string tmp;\n",
        "  vector<string> ans;\n",
        "  int count_ = 0;\n",
        "  for (int i = 0; i < a.size() - 1; i++)\n",
        "  {\n",
        "    tmp = a[i];\n",
        "    tmp += a[i + 1];\n",
        "    ans.push_back(tmp);\n",
        "  }\n",
        "  for (int i = 0; i < ans.size(); i++)\n",
        "  {\n",
        "    cout << ans[i] << endl;\n",
        "  }\n",
        "  return 0;\n",
        "}\n",
        "\n",
        "int tango()\n",
        "{\n",
        "  string a = \"I am an NLPer\";\n",
        "  string tmp = \"\";\n",
        "  vector<string> tango;\n",
        "  vector<string> ans;\n",
        "  int count_ = 0;\n",
        "  for (int i = 0; i < a.size(); i++)\n",
        "  {\n",
        "    if (a[i] != ' ')\n",
        "    {\n",
        "      tmp += a[i];\n",
        "    }\n",
        "    else\n",
        "    {\n",
        "      tango.push_back(tmp);\n",
        "      tmp = \"\";\n",
        "    }\n",
        "  }\n",
        "  tango.push_back(tmp);\n",
        "  for (int i = 0; i < tango.size() - 1; i++)\n",
        "  {\n",
        "    cout << tango[i] + \" \" + tango[i + 1] << endl;\n",
        "  }\n",
        "  return 0;\n",
        "}\n",
        "\n",
        "int main()\n",
        "{\n",
        "  moji();\n",
        "  tango();\n",
        "}\n",
        "06. 集合\n",
        "“paraparaparadise”と”paragraph”に含まれる文字bi-gramの集合を，それぞれ, XとYとして求め，XとYの和集合，積集合，差集合を求めよ．さらに，’se’というbi-gramがXおよびYに含まれるかどうかを調べよ．\n",
        "\n",
        "int main()\n",
        "{\n",
        "  string a = \"paraparaparadise\";\n",
        "  string b = \"paragraph\";\n",
        "  string tmp;\n",
        "  vector<string> x;\n",
        "  vector<string> y;\n",
        "  int count_ = 0;\n",
        "  for (int i = 0; i < a.size() - 1; i++)\n",
        "  {\n",
        "    tmp = a[i];\n",
        "    tmp += a[i + 1];\n",
        "    auto itr = find(x.begin(), x.end(), tmp); //xのなかにも重複があるのでこれを除く\n",
        "    if (itr == x.end())\n",
        "      x.push_back(tmp);\n",
        "  }\n",
        "  for (int i = 0; i < b.size() - 1; i++)\n",
        "  {\n",
        "    tmp = b[i];\n",
        "    tmp += b[i + 1];\n",
        "    auto itr = find(y.begin(), y.end(), tmp); //yのなかにも重複があるのでこれを除く\n",
        "    if (itr == y.end())\n",
        "      y.push_back(tmp);\n",
        "  }\n",
        "\n",
        "  //和\n",
        "  vector<string> wa;\n",
        "  wa = x;\n",
        "  for (int i = 0; i < y.size(); i++)\n",
        "  {\n",
        "    auto itr = find(x.begin(), x.end(), y[i]);\n",
        "    if (itr == x.end())\n",
        "    {\n",
        "      wa.push_back(y[i]);\n",
        "    }\n",
        "  }\n",
        "  cout << \"***wa***\" << endl;\n",
        "  for (int i = 0; i < wa.size(); i++)\n",
        "  {\n",
        "    cout << wa[i] << endl;\n",
        "  }\n",
        "  //積\n",
        "  vector<string> seki;\n",
        "  for (int i = 0; i < y.size(); i++)\n",
        "  {\n",
        "    auto itr = find(x.begin(), x.end(), y[i]);\n",
        "    if (itr != x.end())\n",
        "    {\n",
        "      seki.push_back(y[i]);\n",
        "    }\n",
        "  }\n",
        "  cout << \"***seki***\" << endl;\n",
        "  for (int i = 0; i < seki.size(); i++)\n",
        "  {\n",
        "    cout << seki[i] << endl;\n",
        "  }\n",
        "  //差\n",
        "  vector<string> sa;\n",
        "  for (int i = 0; i < x.size(); i++)\n",
        "  {\n",
        "    auto itr = find(y.begin(), y.end(), x[i]);\n",
        "    if (itr == y.end())\n",
        "    {\n",
        "      sa.push_back(x[i]);\n",
        "    }\n",
        "  }\n",
        "  cout << \"***sa***\" << endl;\n",
        "  for (int i = 0; i < sa.size(); i++)\n",
        "  {\n",
        "    cout << sa[i] << endl;\n",
        "  }\n",
        "\n",
        "  cout << \"***\\\"se\\\" in X and Y***\" << endl;\n",
        "  if (find(x.begin(), x.end(), \"se\") != x.end() && find(y.begin(), y.end(), \"se\") != y.end())\n",
        "    cout << \"True\" << endl;\n",
        "  else\n",
        "    cout << \"False\" << endl;\n",
        "}\n",
        "07. テンプレートによる文生成\n",
        "引数x, y, zを受け取り「x時のyはz」という文字列を返す関数を実装せよ．さらに，x=12, y=”気温”, z=22.4として，実行結果を確認せよ．\n",
        "\n",
        "int main()\n",
        "{\n",
        "  string x, y, z;\n",
        "  cin >> x >> y >> z;\n",
        "  cout << x << \" ji no \" << y << \" ha \" << z << endl;\n",
        "}\n",
        "08. 暗号文Permalink\n",
        "与えられた文字列の各文字を，以下の仕様で変換する関数cipherを実装せよ．\n",
        "英小文字ならば(219 - 文字コード)の文字に置換\n",
        "その他の文字はそのまま出力\n",
        "この関数を用い，英語のメッセージを暗号化・復号化せよ\n",
        "\n",
        "//わかりません。\n",
        "09. TypoglycemiaPermalink\n",
        "スペースで区切られた単語列に対して，各単語の先頭と末尾の文字は残し，それ以外の文字の順序をランダムに並び替えるプログラムを作成せよ．ただし，長さが４以下の単語は並び替えないこととする．適当な英語の文（例えば”I couldn’t believe that I could actually understand what I was reading : the phenomenal power of the human mind .”）を与え，その実行結果を確認せよ．\n",
        "\n",
        "int main()\n",
        "{\n",
        "  string x = \"I couldn\\'t believe that I could actually understand what I was reading : the phenomenal power of the human mind .\";\n",
        "\n",
        "  vector<string> v;\n",
        "  string tmp;\n",
        "  int count = 0;\n",
        "  for (int i = 0; i < x.size(); i++)\n",
        "  {\n",
        "    if (x[i] != ' ')\n",
        "    {\n",
        "      tmp += x[i];\n",
        "    }\n",
        "    else\n",
        "    {\n",
        "      v.push_back(tmp);\n",
        "      tmp = \"\";\n",
        "      count += 1;\n",
        "    }\n",
        "  }\n",
        "  v.push_back(tmp);\n",
        "\n",
        "  for (int i = 0; i < v.size(); i++)\n",
        "  {\n",
        "    if (v[i].size() > 4)\n",
        "    {\n",
        "      // シャッフル\n",
        "      std::random_device seed_gen;\n",
        "      std::mt19937 engine(seed_gen());\n",
        "      std::shuffle(v[i].begin() + 1, v[i].end() - 1, engine);\n",
        "    }\n",
        "  }\n",
        "  for (int i = 0; i < v.size(); i++)\n",
        "  {\n",
        "    cout << v[i] << \" \";\n",
        "  }\n",
        "}\n",
        "とりてん (id:s51517765) 1年前\n",
        "\n",
        "\n",
        "kanriyou_h004\n",
        "kanriyou_h004\n",
        "kanriyou_h004\n",
        "kanriyou_h004\n",
        "upura\n",
        "karaage\n",
        " \n",
        "\n",
        "関連記事\n",
        "XY座標上で四角形を構成する頂点が右回りか左回りか？\n",
        "2021-10-04\n",
        "XY座標上で四角形を構成する頂点が右回りか左回りか？\n",
        "4頂点を左回りに並べ替える C#で台形補正を以前作ったのですが…\n",
        "C#で画像の台形補正をする\n",
        "2021-08-09\n",
        "C#で画像の台形補正をする\n",
        "射影変換と言うらしいです デジカメやスマホで、ブログ用の写真…\n",
        "2020-02-25\n",
        "C#で画像処理アプリを作った\n",
        "ブログ用の簡単な画像処理ができるアプリを作りました。C# で画…\n",
        "Arduinoで振り子の周期を測定する\n",
        "2020-02-17\n",
        "Arduinoで振り子の周期を測定する\n",
        "こちらの記事に質問をいただきました。 s51517765.hatenadiary.…\n",
        "競技プログラミングの基本入出力(C++)\n",
        "2019-12-02\n",
        "競技プログラミングの基本入出力(C++)\n",
        "以前、Python3で書きました。 s51517765.hatenadiary.jp今回はC…\n",
        "コメントを書く\n",
        "« Amazonで2000円の壁を超えるツールをつく…\n",
        "エアコンをSlackでスマートリモコン化の効… »\n",
        "プロフィール\n",
        "id:s51517765\n",
        "とりてん (id:s51517765)\n",
        "技術屋の末端。プログラミングは専門外。 電気回路も専門外です。 コードに間違いなど見つけられたら、気軽にコメントください。\n",
        "\n",
        "\n",
        "このブログについて\n",
        "検索\n",
        "記事を検索\n",
        "最新記事\n",
        "会社を休む理由の捏造について考える\n",
        "Raspberry Pi入門のためのセットアップ方法\n",
        "Arduinoの電源電圧はいくら必要か？\n",
        "あれ？ESP32のPWMって何bitだっけ？\n",
        "オペアンプを使った定電流回路を作ってみる\n",
        "2CHのオシロスコープを買ったのでArduinoでローパスフィルタ実験をしてみた\n",
        "電子工作・プログラミングの趣味にいくら使っているか計算してみた\n",
        "ESP32でGoogle Spreadsheetを使う\n",
        "ESP32でwebサーバーを作る\n",
        "読解力と聴解力\n",
        "月別アーカイブ\n",
        "▶ 2022 (14)\n",
        "▶ 2021 (44)\n",
        "▼ 2020 (43)\n",
        "2020 / 12 (4)\n",
        "2020 / 11 (2)\n",
        "2020 / 10 (3)\n",
        "2020 / 9 (4)\n",
        "2020 / 8 (5)\n",
        "2020 / 7 (4)\n",
        "2020 / 6 (5)\n",
        "2020 / 5 (4)\n",
        "2020 / 4 (3)\n",
        "2020 / 3 (4)\n",
        "2020 / 2 (3)\n",
        "2020 / 1 (2)\n",
        "▶ 2019 (40)\n",
        "▶ 2018 (42)\n",
        "▶ 2017 (44)\n",
        "▶ 2016 (29)\n",
        "▶ 2015 (14)\n",
        "カテゴリー\n",
        "ポエム (19)\n",
        "RaspberryPi (40)\n",
        "電子工作 (59)"
      ],
      "metadata": {
        "id": "aWAeO5or1fLi"
      },
      "execution_count": null,
      "outputs": []
    }
  ]
}