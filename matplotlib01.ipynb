{
  "nbformat": 4,
  "nbformat_minor": 0,
  "metadata": {
    "colab": {
      "name": "matplotlib01.ipynb",
      "provenance": [],
      "toc_visible": true,
      "authorship_tag": "ABX9TyPGusRhQkWeBg1KJVbQ5PNY",
      "include_colab_link": true
    },
    "kernelspec": {
      "name": "python3",
      "display_name": "Python 3"
    }
  },
  "cells": [
    {
      "cell_type": "markdown",
      "metadata": {
        "id": "view-in-github",
        "colab_type": "text"
      },
      "source": [
        "<a href=\"https://colab.research.google.com/github/kalz2q/mycolabnotebooks/blob/master/matplotlib01.ipynb\" target=\"_parent\"><img src=\"https://colab.research.google.com/assets/colab-badge.svg\" alt=\"Open In Colab\"/></a>"
      ]
    },
    {
      "cell_type": "markdown",
      "metadata": {
        "id": "vv-_uiFAzsi0"
      },
      "source": [
        "# メモ\n",
        "\n",
        "matplotlib を勉強する。 何度かチャレンジして失敗しているので、アイデアが必要。\n",
        "\n",
        "本家のチュートリアルが読めない。 あれは読むようには書かれていないのではないか!!!!\n",
        "\n",
        "サンプルから学ぶ方法もうまく行っていない。 matplotlib でかかれた図はディープラーニング、AIのが多くてひょっとしたらおもしろいのかもしれないのだが、どうもしっくりこない。 たぶん複雑すぎるのだと思う。\n",
        "\n",
        "&nbsp;\n",
        "\n"
      ]
    },
    {
      "cell_type": "markdown",
      "metadata": {
        "id": "84tzfq9TTiPR"
      },
      "source": [
        "アイデア\n",
        "- 若干試行錯誤が入ってめんどうなノートになってしまうと思うが実験学習とする。\n",
        "- ひとのサイトを読みながら学習する。   \n",
        "- 日本語で考える。 数式で考える。文字を足す。  \n",
        "- 数直線とか、ただの三角とかをできるだけ簡単に描く方法を考える。\n",
        "- メニュー -> ランタイム -> すべてのセルを実行して出力から学習する\n",
        "\n",
        "参考サイト: \n",
        "1. 本家サイト https://matplotlib.org/   \n",
        "1. https://matplotlib.org/tutorials/introductory/usage.html#sphx-glr-tutorials-introductory-usage-py\n",
        "1. https://qiita.com/yohm/items/1daa5aabbdb1e8edbf26\n",
        "1. https://www.python.ambitious-engineer.com/archives/2673\n",
        "1. https://tutorials.chainer.org/ja/12_Introduction_to_Matplotlib.html\n",
        "1. https://aiacademy.jp/media/?p=154\n",
        "\n",
        "&nbsp;\n"
      ]
    },
    {
      "cell_type": "markdown",
      "metadata": {
        "id": "1_H9jYQWc2e6"
      },
      "source": [
        "# 日本語が使えるようにする"
      ]
    },
    {
      "cell_type": "code",
      "metadata": {
        "id": "S8Ew2wgTc9F3"
      },
      "source": [
        "# 現在20210325 import japanize_matplotlib のために、下記が必要\n",
        "%%capture\n",
        "!pip install japanize_matplotlib"
      ],
      "execution_count": null,
      "outputs": []
    },
    {
      "cell_type": "code",
      "metadata": {
        "id": "J-VPMVq_dYUb",
        "colab": {
          "base_uri": "https://localhost:8080/",
          "height": 268
        },
        "outputId": "5775a8e5-2e75-4d82-ef14-ffdfdd1ce01c"
      },
      "source": [
        "import matplotlib.pyplot as plt\n",
        "import japanize_matplotlib\n",
        "plt.text(0.5, 0.5, 'matplotlibで\\n日本語が\\n使える!!!!'\n",
        "    , fontsize=40\n",
        "    , horizontalalignment='center'\n",
        "    , verticalalignment='center')\n",
        "plt.show()"
      ],
      "execution_count": null,
      "outputs": [
        {
          "output_type": "display_data",
          "data": {
            "image/png": "[encoded data removed]",
            "text/plain": [
              "<Figure size 432x288 with 1 Axes>"
            ]
          },
          "metadata": {
            "tags": [],
            "needs_background": "light"
          }
        }
      ]
    },
    {
      "cell_type": "markdown",
      "metadata": {
        "id": "VGE9WHBZ0Mgo"
      },
      "source": [
        "上のように import japanize_matplotlib とすれば matplotlib で日本語が使えるようになる。\n",
        "\n",
        "Colab のいろんな機能はすべて日本語が使えるが、matplotlib だけエラーになる。 理由があるのだろうが、いずれ直るのかもしれないが、とりあえず、日本語は使わないか、もしくは japanize_matplotlib を install, import する。\n",
        "\n",
        "今の考え: 日本語は使わない。\n",
        "\n",
        "&nbsp;"
      ]
    },
    {
      "cell_type": "markdown",
      "metadata": {
        "id": "F42yBzlQC8IM"
      },
      "source": [
        "# 点を打つ scatter\n",
        "\n",
        "\n"
      ]
    },
    {
      "cell_type": "markdown",
      "metadata": {
        "id": "Pwikd3MrFN-W"
      },
      "source": [
        "plot というコマンドがあって、点を打つにも折れ線グラフにも使える。\n",
        "\n",
        "scatter は点を打つ方に特化したコマンドである。\n",
        "\n",
        "普通、plot は折れ線グラフ、scatter は散布図に使われる。\n",
        "\n",
        "&nbsp;\n"
      ]
    },
    {
      "cell_type": "code",
      "metadata": {
        "colab": {
          "base_uri": "https://localhost:8080/",
          "height": 248
        },
        "id": "S6Tj8Pep4BZR",
        "outputId": "64be6a42-e5e0-4431-cc9c-a9b209f34a5a"
      },
      "source": [
        "# 下の図はヘルプ plt.scatter? を見ながら描いた\n",
        "# s は点のサイズ、c は色\n",
        "# 課題: 座標軸を消す set_axis_off()\n",
        "# 課題: 座標のスケールを指定する set_xlim set_ylim\n",
        "# 課題: random.randn を使って点を打つ\n",
        "import matplotlib.pyplot as plt\n",
        "fig, ax = plt.subplots()\n",
        "ax.scatter([0,5,10,6],[6,8,7,7],s=[500,300,80,1000],c=['y','b','r','pink'])\n",
        "ax.set_ylim(5,8)\n",
        "ax.set_axis_off()\n",
        "plt.show()"
      ],
      "execution_count": null,
      "outputs": [
        {
          "output_type": "display_data",
          "data": {
            "image/png": "[encoded data removed]",
            "text/plain": [
              "<Figure size 288x288 with 1 Axes>"
            ]
          },
          "metadata": {
            "tags": [],
            "needs_background": "light"
          }
        }
      ]
    },
    {
      "cell_type": "code",
      "metadata": {
        "id": "3IsEdywEZ305",
        "colab": {
          "base_uri": "https://localhost:8080/",
          "height": 264
        },
        "outputId": "a7bd2658-9251-45dd-80d3-bfc771f3b46a"
      },
      "source": [
        "# plot を使ってみる\n",
        "import matplotlib.pyplot as plt\n",
        "fig, ax = plt.subplots()\n",
        "ax.plot([10, 2, 3], [1, 2, 3], 'go-', label='line 1', linewidth=20)\n",
        "ax.plot(8,2,marker='*',color='orange',markersize='50')\n",
        "plt.show()"
      ],
      "execution_count": null,
      "outputs": [
        {
          "output_type": "display_data",
          "data": {
            "image/png": "[encoded data removed]",
            "text/plain": [
              "<Figure size 288x288 with 1 Axes>"
            ]
          },
          "metadata": {
            "tags": [],
            "needs_background": "light"
          }
        }
      ]
    },
    {
      "cell_type": "markdown",
      "metadata": {
        "id": "F8GWNJGtzlSB"
      },
      "source": [
        "アイデア $\\quad$ もっと日本語を増やす。\n",
        "\n",
        "テキストセルを増やす。\n",
        "\n",
        "なぜなら、コードセルで実験するのもよいが、その意味を言葉で考えることで、コードの意味が何倍にもなる。\n",
        "\n",
        "&nbsp;\n"
      ]
    },
    {
      "cell_type": "code",
      "metadata": {
        "id": "_WERn8CJFN_A",
        "colab": {
          "base_uri": "https://localhost:8080/",
          "height": 248
        },
        "outputId": "17e8def7-18de-4a16-8f18-09de1abd047d"
      },
      "source": [
        "# 乱数 random と組合せてみる\n",
        "import matplotlib.pyplot as plt\n",
        "import numpy as np\n",
        "fig, ax = plt.subplots() \n",
        "\n",
        "data = {'a': np.arange(50),\n",
        "        # 'c': np.random.randint(0, 50, 50),\n",
        "        'c': [np.random.random(3) for i in range(50)],\n",
        "        'd': np.random.randn(50)+1}\n",
        "data['b'] = data['a'] + 10 * np.random.randn(50)\n",
        "data['d'] = np.abs(data['d']) * 100\n",
        "\n",
        "ax.scatter('a', 'b', c='c', s='d', data=data)\n",
        "ax.set_axis_off()\n",
        "plt.show()"
      ],
      "execution_count": null,
      "outputs": [
        {
          "output_type": "display_data",
          "data": {
            "image/png": "[encoded data removed]",
            "text/plain": [
              "<Figure size 432x288 with 1 Axes>"
            ]
          },
          "metadata": {
            "tags": [],
            "needs_background": "light"
          }
        }
      ]
    },
    {
      "cell_type": "code",
      "metadata": {
        "id": "HDp_xwqQIirU",
        "colab": {
          "base_uri": "https://localhost:8080/"
        },
        "outputId": "91521df6-19fa-446d-c15f-730e2e193a88"
      },
      "source": [
        "import matplotlib.pyplot as plt\n",
        "import numpy as np\n",
        "np.random.randint(45,50,3)"
      ],
      "execution_count": null,
      "outputs": [
        {
          "output_type": "execute_result",
          "data": {
            "text/plain": [
              "array([49, 49, 48])"
            ]
          },
          "metadata": {
            "tags": []
          },
          "execution_count": 1
        }
      ]
    },
    {
      "cell_type": "code",
      "metadata": {
        "id": "EsczLBS5GBnC",
        "colab": {
          "base_uri": "https://localhost:8080/",
          "height": 248
        },
        "outputId": "33cb958e-85c6-42df-de47-0c2a9bc0dd53"
      },
      "source": [
        "# color がわからない\n",
        "import matplotlib.pyplot as plt\n",
        "import numpy as np\n",
        "fig, ax = plt.subplots() \n",
        "\n",
        "data = {'a': np.random.randn(50),\n",
        "        'b': np.random.randn(50),\n",
        "        'c': [np.random.random(3) for i in range(50)],\n",
        "# [random.randrange(1, 50, 1) for i in range(7)]\n",
        "        # 'c': [np.random.random(3),np.random.random(3),np.random.random(3),np.random.random(3),np.random.random(3)],\n",
        "        # 'c': [[0.0, 0.0, 0.5, 1.0],[0.5, 0.5, 0.5, 1.0],[0.0, 0.9, 0.5, 1.0],[1.0, 0.0, 0.5, 1.0],[0.0, 0.0, 0.5, 1.0]],\n",
        "        # 'c': np.random.randint(0,50,5),\n",
        "        # 'c': ['r','b','k','y','g'],\n",
        "        'd': np.abs(np.random.randn(50)*500)}\n",
        "\n",
        "        # 'c': np.random.randint(45,50,50),\n",
        "ax.scatter('a', 'b', c='c', s='d', data=data)\n",
        "ax.set_axis_off()\n",
        "plt.show()"
      ],
      "execution_count": null,
      "outputs": [
        {
          "output_type": "display_data",
          "data": {
            "image/png": "[encoded data removed]",
            "text/plain": [
              "<Figure size 432x288 with 1 Axes>"
            ]
          },
          "metadata": {
            "tags": [],
            "needs_background": "light"
          }
        }
      ]
    },
    {
      "cell_type": "code",
      "metadata": {
        "id": "BgMIctsjX3cn",
        "colab": {
          "base_uri": "https://localhost:8080/"
        },
        "outputId": "3ffedd0a-bfb6-4ece-e9e6-cb46ffa1a045"
      },
      "source": [
        "import matplotlib.pyplot as plt\n",
        "import numpy as np\n",
        "np.random.random(50)"
      ],
      "execution_count": null,
      "outputs": [
        {
          "output_type": "execute_result",
          "data": {
            "text/plain": [
              "array([0.89987083, 0.09021133, 0.44401825, 0.82802678, 0.11405989,\n",
              "       0.9073675 , 0.54284947, 0.10613434, 0.36188362, 0.72612249,\n",
              "       0.95776608, 0.74558036, 0.95677002, 0.4827585 , 0.15188497,\n",
              "       0.5976021 , 0.12035158, 0.94824508, 0.32441584, 0.64687022,\n",
              "       0.56074689, 0.68740291, 0.37354257, 0.93868433, 0.14437441,\n",
              "       0.82057471, 0.78575671, 0.56165376, 0.39319129, 0.2501131 ,\n",
              "       0.47232091, 0.67533993, 0.53714957, 0.66630889, 0.69666573,\n",
              "       0.25077177, 0.86775063, 0.27611125, 0.10150716, 0.05325688,\n",
              "       0.64586448, 0.5177337 , 0.21691794, 0.22172285, 0.7370456 ,\n",
              "       0.79683418, 0.41156377, 0.18704322, 0.14839555, 0.55797882])"
            ]
          },
          "metadata": {
            "tags": []
          },
          "execution_count": 7
        }
      ]
    },
    {
      "cell_type": "markdown",
      "metadata": {
        "id": "-Yrm83ISQKxc"
      },
      "source": [
        "# color について\n",
        "\n",
        "https://qiita.com/HidKamiya/items/524d77e3b53a13849f1a"
      ]
    },
    {
      "cell_type": "code",
      "metadata": {
        "id": "gF5RDm5mQNZ0",
        "colab": {
          "base_uri": "https://localhost:8080/"
        },
        "outputId": "5431bacc-f7dd-4a3c-f78e-857dfb5688ca"
      },
      "source": [
        "import numpy as np\n",
        "import matplotlib.pyplot as plt\n",
        "\n",
        "cm_name = 'hsv' # B->G->R cf.'hsv'\n",
        "# cm_name = 'jet' # B->G->R cf.'hsv'\n",
        "cm = plt.get_cmap(cm_name)\n",
        "print(type(cm)) # matplotlib.colors.LinearSegmentedColormap"
      ],
      "execution_count": null,
      "outputs": [
        {
          "output_type": "stream",
          "text": [
            "<class 'matplotlib.colors.LinearSegmentedColormap'>\n"
          ],
          "name": "stdout"
        }
      ]
    },
    {
      "cell_type": "code",
      "metadata": {
        "id": "jhMF3dOVXI2k"
      },
      "source": [
        "import matplotlib.pyplot as plt\n",
        "cm=plt.get_cmap()"
      ],
      "execution_count": null,
      "outputs": []
    },
    {
      "cell_type": "code",
      "metadata": {
        "id": "7qY_OJyxQp0q",
        "colab": {
          "base_uri": "https://localhost:8080/"
        },
        "outputId": "ba67cd9d-ae2b-432a-8311-dbeaa629a0da"
      },
      "source": [
        "print(cm.N) # 256\n",
        "cm(0) # (R,G,B,alpha) = (0.0, 0.0, 0.5, 1.0)"
      ],
      "execution_count": null,
      "outputs": [
        {
          "output_type": "stream",
          "text": [
            "256\n"
          ],
          "name": "stdout"
        },
        {
          "output_type": "execute_result",
          "data": {
            "text/plain": [
              "(0.267004, 0.004874, 0.329415, 1.0)"
            ]
          },
          "metadata": {
            "tags": []
          },
          "execution_count": 4
        }
      ]
    },
    {
      "cell_type": "code",
      "metadata": {
        "id": "esmooMeqQtC7"
      },
      "source": [
        "Rs = []\n",
        "Gs = []\n",
        "Bs = []\n",
        "As = []\n",
        "\n",
        "for n in range(cm.N):\n",
        "    Rs.append(cm(n)[0])\n",
        "    Gs.append(cm(n)[1])\n",
        "    Bs.append(cm(n)[2])\n",
        "    As.append(cm(n)[3])"
      ],
      "execution_count": null,
      "outputs": []
    },
    {
      "cell_type": "code",
      "metadata": {
        "id": "Z97u7ld2Q5aG"
      },
      "source": [
        "# 1d array\n",
        "gradient = np.linspace(0, 1, cm.N)\n",
        "# 2d array (for imshow)\n",
        "gradient_array = np.vstack((gradient, gradient))"
      ],
      "execution_count": null,
      "outputs": []
    },
    {
      "cell_type": "code",
      "metadata": {
        "id": "GFjRx4tfQ82S",
        "colab": {
          "base_uri": "https://localhost:8080/",
          "height": 276
        },
        "outputId": "7c6d20dd-72aa-478f-913f-59463aae0a49"
      },
      "source": [
        "fig = plt.figure()\n",
        "ax  = fig.add_axes((0.1,0.3,0.8,0.6))\n",
        "ax.plot(As,'k',label='A')\n",
        "ax.plot(Rs,'r',label='R')\n",
        "ax.plot(Gs,'g',label='G')\n",
        "ax.plot(Bs,'b',label='B')\n",
        "ax.set_xlabel('step')\n",
        "ax.set_xlim(0,cm.N)\n",
        "ax.set_title(cm_name)\n",
        "ax.legend()\n",
        "\n",
        "ax2 = fig.add_axes((0.1,0.1,0.8,0.05))\n",
        "ax2.imshow(gradient_array, aspect='auto', cmap=cm)\n",
        "ax2.set_axis_off()"
      ],
      "execution_count": null,
      "outputs": [
        {
          "output_type": "display_data",
          "data": {
            "image/png": "[encoded data removed]",
            "text/plain": [
              "<Figure size 288x288 with 2 Axes>"
            ]
          },
          "metadata": {
            "tags": [],
            "needs_background": "light"
          }
        }
      ]
    },
    {
      "cell_type": "code",
      "metadata": {
        "id": "vSapfCqRRAX6",
        "colab": {
          "base_uri": "https://localhost:8080/"
        },
        "outputId": "add43ce3-b156-4777-e991-3971cb677c40"
      },
      "source": [
        "cm10 = plt.get_cmap(cm_name,10)\n",
        "print(cm10.N) # 10"
      ],
      "execution_count": null,
      "outputs": [
        {
          "output_type": "stream",
          "text": [
            "10\n"
          ],
          "name": "stdout"
        }
      ]
    },
    {
      "cell_type": "code",
      "metadata": {
        "id": "DVjIz1dFRHaC",
        "colab": {
          "base_uri": "https://localhost:8080/",
          "height": 276
        },
        "outputId": "014a213b-b3a8-41ef-f1d2-c15a0dc5a651"
      },
      "source": [
        "R10s = []\n",
        "G10s = []\n",
        "B10s = []\n",
        "A10s = []\n",
        "\n",
        "for n in range(cm10.N):\n",
        "    R10s.append(cm10(n)[0])\n",
        "    G10s.append(cm10(n)[1])\n",
        "    B10s.append(cm10(n)[2])\n",
        "    A10s.append(cm10(n)[3])\n",
        "\n",
        "gradient10 = np.linspace(0, 1, cm10.N)\n",
        "gradient10_array = np.vstack((gradient10, gradient10))\n",
        "\n",
        "fig = plt.figure()\n",
        "ax  = fig.add_axes((0.1,0.3,0.8,0.6))\n",
        "ax.plot(A10s,'k',label='A')\n",
        "ax.plot(R10s,'r',label='R')\n",
        "ax.plot(G10s,'g',label='G')\n",
        "ax.plot(B10s,'b',label='B')\n",
        "ax.set_xlabel('step')\n",
        "ax.set_xlim(0,cm10.N)\n",
        "ax.set_title(cm_name)\n",
        "ax.legend()\n",
        "\n",
        "ax2 = fig.add_axes((0.1,0.1,0.8,0.05))\n",
        "ax2.imshow(gradient10_array, aspect='auto', cmap=cm10)\n",
        "ax2.set_axis_off()"
      ],
      "execution_count": null,
      "outputs": [
        {
          "output_type": "display_data",
          "data": {
            "image/png": "[encoded data removed]",
            "text/plain": [
              "<Figure size 288x288 with 2 Axes>"
            ]
          },
          "metadata": {
            "tags": [],
            "needs_background": "light"
          }
        }
      ]
    },
    {
      "cell_type": "code",
      "metadata": {
        "id": "NzSmknXpRLQi",
        "colab": {
          "base_uri": "https://localhost:8080/",
          "height": 297
        },
        "outputId": "2efc9fcb-cce6-4770-90b0-34d008f0bf94"
      },
      "source": [
        "fig = plt.figure()\n",
        "ax  = fig.add_subplot(111)\n",
        "for n in range(10):\n",
        "    ax.plot([0,1],[n,n], label=n, c=cm10(n))\n",
        "ax.legend(bbox_to_anchor=(1.05, 1), loc='upper left')\n",
        "fig.tight_layout()"
      ],
      "execution_count": null,
      "outputs": [
        {
          "output_type": "display_data",
          "data": {
            "image/png": "[encoded data removed]",
            "text/plain": [
              "<Figure size 288x288 with 1 Axes>"
            ]
          },
          "metadata": {
            "tags": [],
            "needs_background": "light"
          }
        }
      ]
    },
    {
      "cell_type": "code",
      "metadata": {
        "id": "pAKX7SZ8RPKy",
        "colab": {
          "base_uri": "https://localhost:8080/",
          "height": 459
        },
        "outputId": "9c45f4da-ddd4-4213-d7e9-b87ffad165f2"
      },
      "source": [
        "from matplotlib.colors import LinearSegmentedColormap\n",
        "\n",
        "list_cid = ['#FFFFFF', '#43C3D0', \n",
        "            '#9BB9DE', '#BAE5F5',\n",
        "            '#EDF5ED', '#D2EDC1',\n",
        "            '#DAF161', '#E5F302',\n",
        "            '#F2E703', '#EA0406']\n",
        "list_label = [  '0-0.1', '0.1-0.2',\n",
        "              '0.2-0.3', '0.3-0.4',\n",
        "              '0.4-0.5', '0.5-0.6',\n",
        "              '0.6-0.7', '0.7-0.8',\n",
        "              '0.8-0.9', '0.9-1.0']\n",
        "list_ticks = [0.05, 0.15,\n",
        "              0.25, 0.35,\n",
        "              0.45, 0.55,\n",
        "              0.65, 0.75,\n",
        "              0.85, 0.95]\n",
        "vmin,vmax = 0, 1\n",
        "\n",
        "cm = LinearSegmentedColormap.from_list('custom_cmap', list_cid, N=len(list_cid))\n",
        "plt.imshow(np.linspace(0, 1, 25).reshape(5,5), cmap=cm, interpolation='nearest', vmin=vmin, vmax=vmax)\n",
        "cbar = plt.colorbar(orientation='horizontal', extend='neither', ticks=list_ticks)\n",
        "cbar.ax.set_xticklabels(list_label, rotation=45, fontsize = 14)"
      ],
      "execution_count": null,
      "outputs": [
        {
          "output_type": "execute_result",
          "data": {
            "text/plain": [
              "[Text(0, 0, '0-0.1'),\n",
              " Text(0, 0, '0.1-0.2'),\n",
              " Text(0, 0, '0.2-0.3'),\n",
              " Text(0, 0, '0.3-0.4'),\n",
              " Text(0, 0, '0.4-0.5'),\n",
              " Text(0, 0, '0.5-0.6'),\n",
              " Text(0, 0, '0.6-0.7'),\n",
              " Text(0, 0, '0.7-0.8'),\n",
              " Text(0, 0, '0.8-0.9'),\n",
              " Text(0, 0, '0.9-1.0')]"
            ]
          },
          "metadata": {
            "tags": []
          },
          "execution_count": 219
        },
        {
          "output_type": "display_data",
          "data": {
            "image/png": "[encoded data removed]",
            "text/plain": [
              "<Figure size 288x288 with 2 Axes>"
            ]
          },
          "metadata": {
            "tags": [],
            "needs_background": "light"
          }
        }
      ]
    },
    {
      "cell_type": "code",
      "metadata": {
        "id": "LPAVr0ivRUGS"
      },
      "source": [
        "c1 = np.array([ 65,129,239]) / 256\n",
        "c2 = np.array([ 51,163, 83]) / 256\n",
        "c3 = np.array([244,184,  6]) / 256\n",
        "c4 = np.array([228, 64, 52]) / 256\n",
        "\n",
        "cm = LinearSegmentedColormap.from_list(name='google', colors=[c1, c2, c3, c4])"
      ],
      "execution_count": null,
      "outputs": []
    },
    {
      "cell_type": "code",
      "metadata": {
        "id": "-4AYZi7dRXd6"
      },
      "source": [
        "from matplotlib.colors import BoundaryNorm\n",
        "values = [0, 0.05, 0.10, 0.20, 0.50, 0.80, 0.90, 0.95, 1.00]\n",
        "norm = BoundaryNorm(values, ncolors=cm.N)"
      ],
      "execution_count": null,
      "outputs": []
    },
    {
      "cell_type": "code",
      "metadata": {
        "id": "1HR_YMRjRdQw",
        "colab": {
          "base_uri": "https://localhost:8080/"
        },
        "outputId": "1f0ec21b-3a41-47fb-8a3d-ad836c59bbf4"
      },
      "source": [
        "print(norm.N) # 9\n",
        "print(norm.boundaries) # array([0., 0.05, 0.1,...,1.])\n",
        "print(norm(0))    #   0\n",
        "print(norm(1))    # 255\n",
        "print(norm(0.48)) # 109\n",
        "print(norm(0.49)) # 109\n",
        "print(norm(0.50)) # 145\n",
        "print(norm(0.51)) # 145"
      ],
      "execution_count": null,
      "outputs": [
        {
          "output_type": "stream",
          "text": [
            "9\n",
            "[0.   0.05 0.1  0.2  0.5  0.8  0.9  0.95 1.  ]\n",
            "0\n",
            "256\n",
            "109\n",
            "109\n",
            "145\n",
            "145\n"
          ],
          "name": "stdout"
        }
      ]
    },
    {
      "cell_type": "code",
      "metadata": {
        "id": "5t1TxXcMRhJq",
        "colab": {
          "base_uri": "https://localhost:8080/",
          "height": 276
        },
        "outputId": "0e04f06e-5b3a-43d0-aa13-c8d633943960"
      },
      "source": [
        "cm_const = plt.get_cmap(cm_name,len(values)-1)\n",
        "\n",
        "fig = plt.figure()\n",
        "\n",
        "# real value (0-1) vs norm value (0-255)\n",
        "ax  = fig.add_axes((0.1,0.5,0.8,0.4))\n",
        "ax.plot(gradient, norm(gradient),'b')\n",
        "ax.set_xlabel('step value (0-1)')\n",
        "ax.set_xlim(0,1)\n",
        "ax.set_title('jet')\n",
        "\n",
        "# Colormap with norm\n",
        "ax2  = fig.add_axes((0.1,0.3,0.8,0.05))\n",
        "ax2.imshow(gradient_array, aspect='auto', cmap=cm, norm=norm)\n",
        "ax2.set_axis_off()\n",
        "\n",
        "# Linear step colormap \n",
        "ax3 = fig.add_axes((0.1,0.2,0.8,0.05))\n",
        "ax3.imshow(gradient_array, aspect='auto', cmap=cm_const)\n",
        "ax3.set_axis_off()\n",
        "\n",
        "# Default (256 step) colormap\n",
        "ax4 = fig.add_axes((0.1,0.1,0.8,0.05))\n",
        "ax4.imshow(gradient_array, aspect='auto', cmap=cm)\n",
        "ax4.set_axis_off()"
      ],
      "execution_count": null,
      "outputs": [
        {
          "output_type": "display_data",
          "data": {
            "image/png": "[encoded data removed]",
            "text/plain": [
              "<Figure size 288x288 with 4 Axes>"
            ]
          },
          "metadata": {
            "tags": [],
            "needs_background": "light"
          }
        }
      ]
    },
    {
      "cell_type": "code",
      "metadata": {
        "id": "Bsd-NBRgRj-f",
        "colab": {
          "base_uri": "https://localhost:8080/"
        },
        "outputId": "f0a94021-2abe-4ad6-d8d4-80aa90ba15f3"
      },
      "source": [
        "from copy import copy\n",
        "\n",
        "print(norm(0))       #   0\n",
        "print(norm(1)),'\\n'  # 255\n",
        "# clip=False\n",
        "normF = copy(norm)\n",
        "normF.clip = False\n",
        "print(normF(-1))     #  -1\n",
        "print(normF(2)),'\\n' # 256\n",
        "# clip=True\n",
        "normT = copy(norm)\n",
        "normT.clip=True\n",
        "print(normT(-1))     #   0\n",
        "print(normT(2))      # 255"
      ],
      "execution_count": null,
      "outputs": [
        {
          "output_type": "stream",
          "text": [
            "0\n",
            "256\n",
            "-1\n",
            "256\n",
            "0\n",
            "255\n"
          ],
          "name": "stdout"
        }
      ]
    },
    {
      "cell_type": "code",
      "metadata": {
        "id": "CQtdhCcLRnYi"
      },
      "source": [
        "cm.set_over('purple')\n",
        "cm.set_under('gray')"
      ],
      "execution_count": null,
      "outputs": []
    },
    {
      "cell_type": "code",
      "metadata": {
        "id": "o_91HGRzRqAi",
        "colab": {
          "base_uri": "https://localhost:8080/",
          "height": 310
        },
        "outputId": "8b9617c0-a11b-4265-f918-6276dd7f9451"
      },
      "source": [
        "# new gradient including out-of-range values\n",
        "new_gradient = np.linspace(-0.2, 1.2, 300)\n",
        "new_gradient_array = np.vstack((new_gradient, new_gradient))\n",
        "\n",
        "fig = plt.figure()\n",
        "# upper-side outputs of normF & normT\n",
        "ax  = fig.add_axes((0.1,0.7,0.8,0.2))\n",
        "ax.plot(new_gradient, normF(new_gradient),'b',label='clip=F')\n",
        "ax.plot(new_gradient, normT(new_gradient),'r',label='clip=T')\n",
        "ax.set_ylim(254,257)\n",
        "ax.set_title(cm_name)\n",
        "ax.legend()\n",
        "\n",
        "# lower-side outputs of normF & normT\n",
        "ax1  = fig.add_axes((0.1,0.5,0.8,0.2))\n",
        "ax1.plot(new_gradient, normF(new_gradient),'b',label='clip=F')\n",
        "ax1.plot(new_gradient, normT(new_gradient),'r',label='clip=T')\n",
        "ax1.set_ylim(-2,1)\n",
        "ax1.set_xlabel('gradient (0-1)')\n",
        "ax1.set_xlim(-0.2,1.2)\n",
        "\n",
        "# colormap with normF\n",
        "ax2  = fig.add_axes((0.1,0.3,0.8,0.05))\n",
        "im = ax2.imshow(new_gradient_array, aspect='auto', cmap=cm, norm=normF)\n",
        "ax2.set_axis_off()\n",
        "\n",
        "# colormap with normT\n",
        "ax3 = fig.add_axes((0.1,0.2,0.8,0.05))\n",
        "ax3.imshow(new_gradient_array, aspect='auto', cmap=cm, norm=normT)\n",
        "ax3.set_axis_off()\n",
        "\n",
        "# colorbar (extended)\n",
        "cax = fig.add_axes((0.1,0.1,0.8,0.05))\n",
        "fig.colorbar(im,cax=cax, orientation='horizontal', extend='both')"
      ],
      "execution_count": null,
      "outputs": [
        {
          "output_type": "execute_result",
          "data": {
            "text/plain": [
              "<matplotlib.colorbar.Colorbar at 0x7fbdaaba99d0>"
            ]
          },
          "metadata": {
            "tags": []
          },
          "execution_count": 227
        },
        {
          "output_type": "display_data",
          "data": {
            "image/png": "[encoded data removed]",
            "text/plain": [
              "<Figure size 288x288 with 5 Axes>"
            ]
          },
          "metadata": {
            "tags": [],
            "needs_background": "light"
          }
        }
      ]
    },
    {
      "cell_type": "markdown",
      "metadata": {
        "id": "xh6QE28ARyTy"
      },
      "source": [
        "描画に用いる値→（norm）→色段階→（colormap）→RGB値\n",
        "カラーマップは，デフォルトで256段階のRGB情報をもつ\n",
        "256段階はそれより小さい数にも大きい数にも変更可能（Nを指定）\n",
        "normの作成にはBoundaryNorm()などを用いる（他には対数用のLogNormなど）\n",
        "外れ値の色を扱うためには，cm.set_under()とcm.set_over()．\n",
        "このときカラーバーはextend='both'とする"
      ]
    },
    {
      "cell_type": "code",
      "metadata": {
        "id": "4HJkneyERtXa",
        "colab": {
          "base_uri": "https://localhost:8080/",
          "height": 357
        },
        "outputId": "4365c3fb-b0ac-4324-e63f-21522acc359b"
      },
      "source": [
        "# positive log norm ( 1e-5 to  1e+3)\n",
        "plogs = np.power(10,np.linspace(-5,3,1000))\n",
        "# negative log norm (-1e+3 to -1e-5)\n",
        "nlogs = -plogs[::-1]\n",
        "# concatenate norms\n",
        "logs = np.append(nlogs,[0])\n",
        "logs = np.append(logs,plogs)\n",
        "\n",
        "# apply for BoundaryNorm()\n",
        "cm = plt.get_cmap('jet')\n",
        "lnorm = BoundaryNorm(logs, ncolors=cm.N)\n",
        "\n",
        "### drawing\n",
        "# 2-d array\n",
        "ar  = np.linspace(-1e3,1e3,100).reshape(10,10)\n",
        "\n",
        "fig = plt.figure(figsize=(10,5))\n",
        "# left: linear norm\n",
        "ax1  = fig.add_axes((0.1,0.2,0.35,0.7))\n",
        "im1 = ax1.imshow(ar, cmap=cm, vmin=-1e3, vmax=1e3)\n",
        "cax1 = fig.add_axes((0.1,0.1,0.35,0.05))\n",
        "cbar1 = fig.colorbar(im1,cax1,orientation='horizontal')\n",
        "\n",
        "# right: new norm\n",
        "ax2  = fig.add_axes((0.6,0.2,0.35,0.7))\n",
        "im2 = ax2.imshow(ar, cmap=cm, norm = lnorm)\n",
        "cax2 = fig.add_axes((0.6,0.1,0.35,0.05))\n",
        "cbar2 = fig.colorbar(im2,cax2,orientation='horizontal',\n",
        "            ticks=[-1e3,-1e1,-1e-1,-1e-3,0,1e-3,1e-1,1e1,1e3], format=\"%.0e\")\n",
        "cbar2.ax.tick_params(rotation=45)"
      ],
      "execution_count": null,
      "outputs": [
        {
          "output_type": "display_data",
          "data": {
            "image/png": "[encoded data removed]",
            "text/plain": [
              "<Figure size 720x360 with 4 Axes>"
            ]
          },
          "metadata": {
            "tags": [],
            "needs_background": "light"
          }
        }
      ]
    },
    {
      "cell_type": "markdown",
      "metadata": {
        "id": "aeIhaFlHd-4X"
      },
      "source": [
        "# svg で出力し、svg を表示してみる"
      ]
    },
    {
      "cell_type": "code",
      "metadata": {
        "id": "ZmE4_sVtjVly",
        "colab": {
          "base_uri": "https://localhost:8080/",
          "height": 264
        },
        "outputId": "a2096f86-c0c0-4770-e3b9-43a4cd3f4ce5"
      },
      "source": [
        "import matplotlib.pyplot as plt\n",
        "import numpy as np\n",
        "data = np.random.randn(20)\n",
        "plt.plot(data)\n",
        "plt.savefig(\"line.svg\", format=\"svg\")"
      ],
      "execution_count": null,
      "outputs": [
        {
          "output_type": "display_data",
          "data": {
            "image/png": "[encoded data removed]",
            "text/plain": [
              "<Figure size 432x288 with 1 Axes>"
            ]
          },
          "metadata": {
            "tags": [],
            "needs_background": "light"
          }
        }
      ]
    },
    {
      "cell_type": "code",
      "metadata": {
        "id": "93m3x91KjliE"
      },
      "source": [
        "%%capture\n",
        "myfile=open('line.svg')\n",
        "lines=myfile.read()\n",
        "print(lines)\n"
      ],
      "execution_count": null,
      "outputs": []
    },
    {
      "cell_type": "code",
      "metadata": {
        "id": "38d4_4kUsJ1j",
        "colab": {
          "base_uri": "https://localhost:8080/",
          "height": 405
        },
        "cellView": "form",
        "outputId": "d394f58e-2c97-4a3e-a7c9-e5c37428ae99"
      },
      "source": [
        "#@title\n",
        "%%html\n",
        "<?xml version=\"1.0\" encoding=\"utf-8\" standalone=\"no\"?>\n",
        "<!DOCTYPE svg PUBLIC \"-//W3C//DTD SVG 1.1//EN\"\n",
        "  \"http://www.w3.org/Graphics/SVG/1.1/DTD/svg11.dtd\">\n",
        "<!-- Created with matplotlib (https://matplotlib.org/) -->\n",
        "<svg height=\"288pt\" version=\"1.1\" viewBox=\"0 0 432 288\" width=\"432pt\" xmlns=\"http://www.w3.org/2000/svg\" xmlns:xlink=\"http://www.w3.org/1999/xlink\">\n",
        " <defs>\n",
        "  <style type=\"text/css\">\n",
        "*{stroke-linecap:butt;stroke-linejoin:round;}\n",
        "  </style>\n",
        " </defs>\n",
        " <g id=\"figure_1\">\n",
        "  <g id=\"patch_1\">\n",
        "   <path d=\"M 0 288 \n",
        "L 432 288 \n",
        "L 432 0 \n",
        "L 0 0 \n",
        "z\n",
        "\" style=\"fill:#ffffff;\"/>\n",
        "  </g>\n",
        "  <g id=\"axes_1\">\n",
        "   <g id=\"patch_2\">\n",
        "    <path d=\"M 54 252 \n",
        "L 388.8 252 \n",
        "L 388.8 34.56 \n",
        "L 54 34.56 \n",
        "z\n",
        "\" style=\"fill:#ffffff;\"/>\n",
        "   </g>\n",
        "   <g id=\"matplotlib.axis_1\">\n",
        "    <g id=\"xtick_1\">\n",
        "     <g id=\"line2d_1\">\n",
        "      <defs>\n",
        "       <path d=\"M 0 0 \n",
        "L 0 3.5 \n",
        "\" id=\"m56396d2082\" style=\"stroke:#000000;stroke-width:0.8;\"/>\n",
        "      </defs>\n",
        "      <g>\n",
        "       <use style=\"stroke:#000000;stroke-width:0.8;\" x=\"69.218182\" xlink:href=\"#m56396d2082\" y=\"252\"/>\n",
        "      </g>\n",
        "     </g>\n",
        "     <g id=\"text_1\">\n",
        "      <!-- 0.0 -->\n",
        "      <defs>\n",
        "       <path d=\"M 31.78125 66.40625 \n",
        "Q 24.171875 66.40625 20.328125 58.90625 \n",
        "Q 16.5 51.421875 16.5 36.375 \n",
        "Q 16.5 21.390625 20.328125 13.890625 \n",
        "Q 24.171875 6.390625 31.78125 6.390625 \n",
        "Q 39.453125 6.390625 43.28125 13.890625 \n",
        "Q 47.125 21.390625 47.125 36.375 \n",
        "Q 47.125 51.421875 43.28125 58.90625 \n",
        "Q 39.453125 66.40625 31.78125 66.40625 \n",
        "z\n",
        "M 31.78125 74.21875 \n",
        "Q 44.046875 74.21875 50.515625 64.515625 \n",
        "Q 56.984375 54.828125 56.984375 36.375 \n",
        "Q 56.984375 17.96875 50.515625 8.265625 \n",
        "Q 44.046875 -1.421875 31.78125 -1.421875 \n",
        "Q 19.53125 -1.421875 13.0625 8.265625 \n",
        "Q 6.59375 17.96875 6.59375 36.375 \n",
        "Q 6.59375 54.828125 13.0625 64.515625 \n",
        "Q 19.53125 74.21875 31.78125 74.21875 \n",
        "z\n",
        "\" id=\"DejaVuSans-48\"/>\n",
        "       <path d=\"M 10.6875 12.40625 \n",
        "L 21 12.40625 \n",
        "L 21 0 \n",
        "L 10.6875 0 \n",
        "z\n",
        "\" id=\"DejaVuSans-46\"/>\n",
        "      </defs>\n",
        "      <g transform=\"translate(61.266619 266.598437)scale(0.1 -0.1)\">\n",
        "       <use xlink:href=\"#DejaVuSans-48\"/>\n",
        "       <use x=\"63.623047\" xlink:href=\"#DejaVuSans-46\"/>\n",
        "       <use x=\"95.410156\" xlink:href=\"#DejaVuSans-48\"/>\n",
        "      </g>\n",
        "     </g>\n",
        "    </g>\n",
        "    <g id=\"xtick_2\">\n",
        "     <g id=\"line2d_2\">\n",
        "      <g>\n",
        "       <use style=\"stroke:#000000;stroke-width:0.8;\" x=\"109.266029\" xlink:href=\"#m56396d2082\" y=\"252\"/>\n",
        "      </g>\n",
        "     </g>\n",
        "     <g id=\"text_2\">\n",
        "      <!-- 2.5 -->\n",
        "      <defs>\n",
        "       <path d=\"M 19.1875 8.296875 \n",
        "L 53.609375 8.296875 \n",
        "L 53.609375 0 \n",
        "L 7.328125 0 \n",
        "L 7.328125 8.296875 \n",
        "Q 12.9375 14.109375 22.625 23.890625 \n",
        "Q 32.328125 33.6875 34.8125 36.53125 \n",
        "Q 39.546875 41.84375 41.421875 45.53125 \n",
        "Q 43.3125 49.21875 43.3125 52.78125 \n",
        "Q 43.3125 58.59375 39.234375 62.25 \n",
        "Q 35.15625 65.921875 28.609375 65.921875 \n",
        "Q 23.96875 65.921875 18.8125 64.3125 \n",
        "Q 13.671875 62.703125 7.8125 59.421875 \n",
        "L 7.8125 69.390625 \n",
        "Q 13.765625 71.78125 18.9375 73 \n",
        "Q 24.125 74.21875 28.421875 74.21875 \n",
        "Q 39.75 74.21875 46.484375 68.546875 \n",
        "Q 53.21875 62.890625 53.21875 53.421875 \n",
        "Q 53.21875 48.921875 51.53125 44.890625 \n",
        "Q 49.859375 40.875 45.40625 35.40625 \n",
        "Q 44.1875 33.984375 37.640625 27.21875 \n",
        "Q 31.109375 20.453125 19.1875 8.296875 \n",
        "z\n",
        "\" id=\"DejaVuSans-50\"/>\n",
        "       <path d=\"M 10.796875 72.90625 \n",
        "L 49.515625 72.90625 \n",
        "L 49.515625 64.59375 \n",
        "L 19.828125 64.59375 \n",
        "L 19.828125 46.734375 \n",
        "Q 21.96875 47.46875 24.109375 47.828125 \n",
        "Q 26.265625 48.1875 28.421875 48.1875 \n",
        "Q 40.625 48.1875 47.75 41.5 \n",
        "Q 54.890625 34.8125 54.890625 23.390625 \n",
        "Q 54.890625 11.625 47.5625 5.09375 \n",
        "Q 40.234375 -1.421875 26.90625 -1.421875 \n",
        "Q 22.3125 -1.421875 17.546875 -0.640625 \n",
        "Q 12.796875 0.140625 7.71875 1.703125 \n",
        "L 7.71875 11.625 \n",
        "Q 12.109375 9.234375 16.796875 8.0625 \n",
        "Q 21.484375 6.890625 26.703125 6.890625 \n",
        "Q 35.15625 6.890625 40.078125 11.328125 \n",
        "Q 45.015625 15.765625 45.015625 23.390625 \n",
        "Q 45.015625 31 40.078125 35.4375 \n",
        "Q 35.15625 39.890625 26.703125 39.890625 \n",
        "Q 22.75 39.890625 18.8125 39.015625 \n",
        "Q 14.890625 38.140625 10.796875 36.28125 \n",
        "z\n",
        "\" id=\"DejaVuSans-53\"/>\n",
        "      </defs>\n",
        "      <g transform=\"translate(101.314466 266.598437)scale(0.1 -0.1)\">\n",
        "       <use xlink:href=\"#DejaVuSans-50\"/>\n",
        "       <use x=\"63.623047\" xlink:href=\"#DejaVuSans-46\"/>\n",
        "       <use x=\"95.410156\" xlink:href=\"#DejaVuSans-53\"/>\n",
        "      </g>\n",
        "     </g>\n",
        "    </g>\n",
        "    <g id=\"xtick_3\">\n",
        "     <g id=\"line2d_3\">\n",
        "      <g>\n",
        "       <use style=\"stroke:#000000;stroke-width:0.8;\" x=\"149.313876\" xlink:href=\"#m56396d2082\" y=\"252\"/>\n",
        "      </g>\n",
        "     </g>\n",
        "     <g id=\"text_3\">\n",
        "      <!-- 5.0 -->\n",
        "      <g transform=\"translate(141.362313 266.598437)scale(0.1 -0.1)\">\n",
        "       <use xlink:href=\"#DejaVuSans-53\"/>\n",
        "       <use x=\"63.623047\" xlink:href=\"#DejaVuSans-46\"/>\n",
        "       <use x=\"95.410156\" xlink:href=\"#DejaVuSans-48\"/>\n",
        "      </g>\n",
        "     </g>\n",
        "    </g>\n",
        "    <g id=\"xtick_4\">\n",
        "     <g id=\"line2d_4\">\n",
        "      <g>\n",
        "       <use style=\"stroke:#000000;stroke-width:0.8;\" x=\"189.361722\" xlink:href=\"#m56396d2082\" y=\"252\"/>\n",
        "      </g>\n",
        "     </g>\n",
        "     <g id=\"text_4\">\n",
        "      <!-- 7.5 -->\n",
        "      <defs>\n",
        "       <path d=\"M 8.203125 72.90625 \n",
        "L 55.078125 72.90625 \n",
        "L 55.078125 68.703125 \n",
        "L 28.609375 0 \n",
        "L 18.3125 0 \n",
        "L 43.21875 64.59375 \n",
        "L 8.203125 64.59375 \n",
        "z\n",
        "\" id=\"DejaVuSans-55\"/>\n",
        "      </defs>\n",
        "      <g transform=\"translate(181.41016 266.598437)scale(0.1 -0.1)\">\n",
        "       <use xlink:href=\"#DejaVuSans-55\"/>\n",
        "       <use x=\"63.623047\" xlink:href=\"#DejaVuSans-46\"/>\n",
        "       <use x=\"95.410156\" xlink:href=\"#DejaVuSans-53\"/>\n",
        "      </g>\n",
        "     </g>\n",
        "    </g>\n",
        "    <g id=\"xtick_5\">\n",
        "     <g id=\"line2d_5\">\n",
        "      <g>\n",
        "       <use style=\"stroke:#000000;stroke-width:0.8;\" x=\"229.409569\" xlink:href=\"#m56396d2082\" y=\"252\"/>\n",
        "      </g>\n",
        "     </g>\n",
        "     <g id=\"text_5\">\n",
        "      <!-- 10.0 -->\n",
        "      <defs>\n",
        "       <path d=\"M 12.40625 8.296875 \n",
        "L 28.515625 8.296875 \n",
        "L 28.515625 63.921875 \n",
        "L 10.984375 60.40625 \n",
        "L 10.984375 69.390625 \n",
        "L 28.421875 72.90625 \n",
        "L 38.28125 72.90625 \n",
        "L 38.28125 8.296875 \n",
        "L 54.390625 8.296875 \n",
        "L 54.390625 0 \n",
        "L 12.40625 0 \n",
        "z\n",
        "\" id=\"DejaVuSans-49\"/>\n",
        "      </defs>\n",
        "      <g transform=\"translate(218.276757 266.598437)scale(0.1 -0.1)\">\n",
        "       <use xlink:href=\"#DejaVuSans-49\"/>\n",
        "       <use x=\"63.623047\" xlink:href=\"#DejaVuSans-48\"/>\n",
        "       <use x=\"127.246094\" xlink:href=\"#DejaVuSans-46\"/>\n",
        "       <use x=\"159.033203\" xlink:href=\"#DejaVuSans-48\"/>\n",
        "      </g>\n",
        "     </g>\n",
        "    </g>\n",
        "    <g id=\"xtick_6\">\n",
        "     <g id=\"line2d_6\">\n",
        "      <g>\n",
        "       <use style=\"stroke:#000000;stroke-width:0.8;\" x=\"269.457416\" xlink:href=\"#m56396d2082\" y=\"252\"/>\n",
        "      </g>\n",
        "     </g>\n",
        "     <g id=\"text_6\">\n",
        "      <!-- 12.5 -->\n",
        "      <g transform=\"translate(258.324604 266.598437)scale(0.1 -0.1)\">\n",
        "       <use xlink:href=\"#DejaVuSans-49\"/>\n",
        "       <use x=\"63.623047\" xlink:href=\"#DejaVuSans-50\"/>\n",
        "       <use x=\"127.246094\" xlink:href=\"#DejaVuSans-46\"/>\n",
        "       <use x=\"159.033203\" xlink:href=\"#DejaVuSans-53\"/>\n",
        "      </g>\n",
        "     </g>\n",
        "    </g>\n",
        "    <g id=\"xtick_7\">\n",
        "     <g id=\"line2d_7\">\n",
        "      <g>\n",
        "       <use style=\"stroke:#000000;stroke-width:0.8;\" x=\"309.505263\" xlink:href=\"#m56396d2082\" y=\"252\"/>\n",
        "      </g>\n",
        "     </g>\n",
        "     <g id=\"text_7\">\n",
        "      <!-- 15.0 -->\n",
        "      <g transform=\"translate(298.372451 266.598437)scale(0.1 -0.1)\">\n",
        "       <use xlink:href=\"#DejaVuSans-49\"/>\n",
        "       <use x=\"63.623047\" xlink:href=\"#DejaVuSans-53\"/>\n",
        "       <use x=\"127.246094\" xlink:href=\"#DejaVuSans-46\"/>\n",
        "       <use x=\"159.033203\" xlink:href=\"#DejaVuSans-48\"/>\n",
        "      </g>\n",
        "     </g>\n",
        "    </g>\n",
        "    <g id=\"xtick_8\">\n",
        "     <g id=\"line2d_8\">\n",
        "      <g>\n",
        "       <use style=\"stroke:#000000;stroke-width:0.8;\" x=\"349.55311\" xlink:href=\"#m56396d2082\" y=\"252\"/>\n",
        "      </g>\n",
        "     </g>\n",
        "     <g id=\"text_8\">\n",
        "      <!-- 17.5 -->\n",
        "      <g transform=\"translate(338.420298 266.598437)scale(0.1 -0.1)\">\n",
        "       <use xlink:href=\"#DejaVuSans-49\"/>\n",
        "       <use x=\"63.623047\" xlink:href=\"#DejaVuSans-55\"/>\n",
        "       <use x=\"127.246094\" xlink:href=\"#DejaVuSans-46\"/>\n",
        "       <use x=\"159.033203\" xlink:href=\"#DejaVuSans-53\"/>\n",
        "      </g>\n",
        "     </g>\n",
        "    </g>\n",
        "   </g>\n",
        "   <g id=\"matplotlib.axis_2\">\n",
        "    <g id=\"ytick_1\">\n",
        "     <g id=\"line2d_9\">\n",
        "      <defs>\n",
        "       <path d=\"M 0 0 \n",
        "L -3.5 0 \n",
        "\" id=\"me14d497426\" style=\"stroke:#000000;stroke-width:0.8;\"/>\n",
        "      </defs>\n",
        "      <g>\n",
        "       <use style=\"stroke:#000000;stroke-width:0.8;\" x=\"54\" xlink:href=\"#me14d497426\" y=\"232.676816\"/>\n",
        "      </g>\n",
        "     </g>\n",
        "     <g id=\"text_9\">\n",
        "      <!-- −1.0 -->\n",
        "      <defs>\n",
        "       <path d=\"M 10.59375 35.5 \n",
        "L 73.1875 35.5 \n",
        "L 73.1875 27.203125 \n",
        "L 10.59375 27.203125 \n",
        "z\n",
        "\" id=\"DejaVuSans-8722\"/>\n",
        "      </defs>\n",
        "      <g transform=\"translate(22.717187 236.476034)scale(0.1 -0.1)\">\n",
        "       <use xlink:href=\"#DejaVuSans-8722\"/>\n",
        "       <use x=\"83.789062\" xlink:href=\"#DejaVuSans-49\"/>\n",
        "       <use x=\"147.412109\" xlink:href=\"#DejaVuSans-46\"/>\n",
        "       <use x=\"179.199219\" xlink:href=\"#DejaVuSans-48\"/>\n",
        "      </g>\n",
        "     </g>\n",
        "    </g>\n",
        "    <g id=\"ytick_2\">\n",
        "     <g id=\"line2d_10\">\n",
        "      <g>\n",
        "       <use style=\"stroke:#000000;stroke-width:0.8;\" x=\"54\" xlink:href=\"#me14d497426\" y=\"199.024793\"/>\n",
        "      </g>\n",
        "     </g>\n",
        "     <g id=\"text_10\">\n",
        "      <!-- −0.5 -->\n",
        "      <g transform=\"translate(22.717187 202.824011)scale(0.1 -0.1)\">\n",
        "       <use xlink:href=\"#DejaVuSans-8722\"/>\n",
        "       <use x=\"83.789062\" xlink:href=\"#DejaVuSans-48\"/>\n",
        "       <use x=\"147.412109\" xlink:href=\"#DejaVuSans-46\"/>\n",
        "       <use x=\"179.199219\" xlink:href=\"#DejaVuSans-53\"/>\n",
        "      </g>\n",
        "     </g>\n",
        "    </g>\n",
        "    <g id=\"ytick_3\">\n",
        "     <g id=\"line2d_11\">\n",
        "      <g>\n",
        "       <use style=\"stroke:#000000;stroke-width:0.8;\" x=\"54\" xlink:href=\"#me14d497426\" y=\"165.37277\"/>\n",
        "      </g>\n",
        "     </g>\n",
        "     <g id=\"text_11\">\n",
        "      <!-- 0.0 -->\n",
        "      <g transform=\"translate(31.096875 169.171988)scale(0.1 -0.1)\">\n",
        "       <use xlink:href=\"#DejaVuSans-48\"/>\n",
        "       <use x=\"63.623047\" xlink:href=\"#DejaVuSans-46\"/>\n",
        "       <use x=\"95.410156\" xlink:href=\"#DejaVuSans-48\"/>\n",
        "      </g>\n",
        "     </g>\n",
        "    </g>\n",
        "    <g id=\"ytick_4\">\n",
        "     <g id=\"line2d_12\">\n",
        "      <g>\n",
        "       <use style=\"stroke:#000000;stroke-width:0.8;\" x=\"54\" xlink:href=\"#me14d497426\" y=\"131.720747\"/>\n",
        "      </g>\n",
        "     </g>\n",
        "     <g id=\"text_12\">\n",
        "      <!-- 0.5 -->\n",
        "      <g transform=\"translate(31.096875 135.519965)scale(0.1 -0.1)\">\n",
        "       <use xlink:href=\"#DejaVuSans-48\"/>\n",
        "       <use x=\"63.623047\" xlink:href=\"#DejaVuSans-46\"/>\n",
        "       <use x=\"95.410156\" xlink:href=\"#DejaVuSans-53\"/>\n",
        "      </g>\n",
        "     </g>\n",
        "    </g>\n",
        "    <g id=\"ytick_5\">\n",
        "     <g id=\"line2d_13\">\n",
        "      <g>\n",
        "       <use style=\"stroke:#000000;stroke-width:0.8;\" x=\"54\" xlink:href=\"#me14d497426\" y=\"98.068724\"/>\n",
        "      </g>\n",
        "     </g>\n",
        "     <g id=\"text_13\">\n",
        "      <!-- 1.0 -->\n",
        "      <g transform=\"translate(31.096875 101.867943)scale(0.1 -0.1)\">\n",
        "       <use xlink:href=\"#DejaVuSans-49\"/>\n",
        "       <use x=\"63.623047\" xlink:href=\"#DejaVuSans-46\"/>\n",
        "       <use x=\"95.410156\" xlink:href=\"#DejaVuSans-48\"/>\n",
        "      </g>\n",
        "     </g>\n",
        "    </g>\n",
        "    <g id=\"ytick_6\">\n",
        "     <g id=\"line2d_14\">\n",
        "      <g>\n",
        "       <use style=\"stroke:#000000;stroke-width:0.8;\" x=\"54\" xlink:href=\"#me14d497426\" y=\"64.416701\"/>\n",
        "      </g>\n",
        "     </g>\n",
        "     <g id=\"text_14\">\n",
        "      <!-- 1.5 -->\n",
        "      <g transform=\"translate(31.096875 68.21592)scale(0.1 -0.1)\">\n",
        "       <use xlink:href=\"#DejaVuSans-49\"/>\n",
        "       <use x=\"63.623047\" xlink:href=\"#DejaVuSans-46\"/>\n",
        "       <use x=\"95.410156\" xlink:href=\"#DejaVuSans-53\"/>\n",
        "      </g>\n",
        "     </g>\n",
        "    </g>\n",
        "   </g>\n",
        "   <g id=\"line2d_15\">\n",
        "    <path clip-path=\"url(#p4ff7bdd386)\" d=\"M 69.218182 242.116364 \n",
        "L 85.237321 177.67587 \n",
        "L 101.256459 104.896053 \n",
        "L 117.275598 201.862161 \n",
        "L 133.294737 151.50098 \n",
        "L 149.313876 44.443636 \n",
        "L 165.333014 151.675871 \n",
        "L 181.352153 162.384194 \n",
        "L 197.371292 121.071665 \n",
        "L 213.390431 211.597791 \n",
        "L 229.409569 44.730738 \n",
        "L 245.428708 213.081111 \n",
        "L 261.447847 156.336359 \n",
        "L 277.466986 216.897733 \n",
        "L 293.486124 155.843186 \n",
        "L 309.505263 230.971469 \n",
        "L 325.524402 212.410814 \n",
        "L 341.543541 78.886708 \n",
        "L 357.562679 155.970796 \n",
        "L 373.581818 91.505867 \n",
        "\" style=\"fill:none;stroke:#1f77b4;stroke-linecap:square;stroke-width:1.5;\"/>\n",
        "   </g>\n",
        "   <g id=\"patch_3\">\n",
        "    <path d=\"M 54 252 \n",
        "L 54 34.56 \n",
        "\" style=\"fill:none;stroke:#000000;stroke-linecap:square;stroke-linejoin:miter;stroke-width:0.8;\"/>\n",
        "   </g>\n",
        "   <g id=\"patch_4\">\n",
        "    <path d=\"M 388.8 252 \n",
        "L 388.8 34.56 \n",
        "\" style=\"fill:none;stroke:#000000;stroke-linecap:square;stroke-linejoin:miter;stroke-width:0.8;\"/>\n",
        "   </g>\n",
        "   <g id=\"patch_5\">\n",
        "    <path d=\"M 54 252 \n",
        "L 388.8 252 \n",
        "\" style=\"fill:none;stroke:#000000;stroke-linecap:square;stroke-linejoin:miter;stroke-width:0.8;\"/>\n",
        "   </g>\n",
        "   <g id=\"patch_6\">\n",
        "    <path d=\"M 54 34.56 \n",
        "L 388.8 34.56 \n",
        "\" style=\"fill:none;stroke:#000000;stroke-linecap:square;stroke-linejoin:miter;stroke-width:0.8;\"/>\n",
        "   </g>\n",
        "  </g>\n",
        " </g>\n",
        " <defs>\n",
        "  <clipPath id=\"p4ff7bdd386\">\n",
        "   <rect height=\"217.44\" width=\"334.8\" x=\"54\" y=\"34.56\"/>\n",
        "  </clipPath>\n",
        " </defs>\n",
        "</svg>\n"
      ],
      "execution_count": null,
      "outputs": [
        {
          "output_type": "display_data",
          "data": {
            "text/html": [
              "<?xml version=\"1.0\" encoding=\"utf-8\" standalone=\"no\"?>\n",
              "<!DOCTYPE svg PUBLIC \"-//W3C//DTD SVG 1.1//EN\"\n",
              "  \"http://www.w3.org/Graphics/SVG/1.1/DTD/svg11.dtd\">\n",
              "<!-- Created with matplotlib (https://matplotlib.org/) -->\n",
              "<svg height=\"288pt\" version=\"1.1\" viewBox=\"0 0 432 288\" width=\"432pt\" xmlns=\"http://www.w3.org/2000/svg\" xmlns:xlink=\"http://www.w3.org/1999/xlink\">\n",
              " <defs>\n",
              "  <style type=\"text/css\">\n",
              "*{stroke-linecap:butt;stroke-linejoin:round;}\n",
              "  </style>\n",
              " </defs>\n",
              " <g id=\"figure_1\">\n",
              "  <g id=\"patch_1\">\n",
              "   <path d=\"M 0 288 \n",
              "L 432 288 \n",
              "L 432 0 \n",
              "L 0 0 \n",
              "z\n",
              "\" style=\"fill:#ffffff;\"/>\n",
              "  </g>\n",
              "  <g id=\"axes_1\">\n",
              "   <g id=\"patch_2\">\n",
              "    <path d=\"M 54 252 \n",
              "L 388.8 252 \n",
              "L 388.8 34.56 \n",
              "L 54 34.56 \n",
              "z\n",
              "\" style=\"fill:#ffffff;\"/>\n",
              "   </g>\n",
              "   <g id=\"matplotlib.axis_1\">\n",
              "    <g id=\"xtick_1\">\n",
              "     <g id=\"line2d_1\">\n",
              "      <defs>\n",
              "       <path d=\"M 0 0 \n",
              "L 0 3.5 \n",
              "\" id=\"m56396d2082\" style=\"stroke:#000000;stroke-width:0.8;\"/>\n",
              "      </defs>\n",
              "      <g>\n",
              "       <use style=\"stroke:#000000;stroke-width:0.8;\" x=\"69.218182\" xlink:href=\"#m56396d2082\" y=\"252\"/>\n",
              "      </g>\n",
              "     </g>\n",
              "     <g id=\"text_1\">\n",
              "      <!-- 0.0 -->\n",
              "      <defs>\n",
              "       <path d=\"M 31.78125 66.40625 \n",
              "Q 24.171875 66.40625 20.328125 58.90625 \n",
              "Q 16.5 51.421875 16.5 36.375 \n",
              "Q 16.5 21.390625 20.328125 13.890625 \n",
              "Q 24.171875 6.390625 31.78125 6.390625 \n",
              "Q 39.453125 6.390625 43.28125 13.890625 \n",
              "Q 47.125 21.390625 47.125 36.375 \n",
              "Q 47.125 51.421875 43.28125 58.90625 \n",
              "Q 39.453125 66.40625 31.78125 66.40625 \n",
              "z\n",
              "M 31.78125 74.21875 \n",
              "Q 44.046875 74.21875 50.515625 64.515625 \n",
              "Q 56.984375 54.828125 56.984375 36.375 \n",
              "Q 56.984375 17.96875 50.515625 8.265625 \n",
              "Q 44.046875 -1.421875 31.78125 -1.421875 \n",
              "Q 19.53125 -1.421875 13.0625 8.265625 \n",
              "Q 6.59375 17.96875 6.59375 36.375 \n",
              "Q 6.59375 54.828125 13.0625 64.515625 \n",
              "Q 19.53125 74.21875 31.78125 74.21875 \n",
              "z\n",
              "\" id=\"DejaVuSans-48\"/>\n",
              "       <path d=\"M 10.6875 12.40625 \n",
              "L 21 12.40625 \n",
              "L 21 0 \n",
              "L 10.6875 0 \n",
              "z\n",
              "\" id=\"DejaVuSans-46\"/>\n",
              "      </defs>\n",
              "      <g transform=\"translate(61.266619 266.598437)scale(0.1 -0.1)\">\n",
              "       <use xlink:href=\"#DejaVuSans-48\"/>\n",
              "       <use x=\"63.623047\" xlink:href=\"#DejaVuSans-46\"/>\n",
              "       <use x=\"95.410156\" xlink:href=\"#DejaVuSans-48\"/>\n",
              "      </g>\n",
              "     </g>\n",
              "    </g>\n",
              "    <g id=\"xtick_2\">\n",
              "     <g id=\"line2d_2\">\n",
              "      <g>\n",
              "       <use style=\"stroke:#000000;stroke-width:0.8;\" x=\"109.266029\" xlink:href=\"#m56396d2082\" y=\"252\"/>\n",
              "      </g>\n",
              "     </g>\n",
              "     <g id=\"text_2\">\n",
              "      <!-- 2.5 -->\n",
              "      <defs>\n",
              "       <path d=\"M 19.1875 8.296875 \n",
              "L 53.609375 8.296875 \n",
              "L 53.609375 0 \n",
              "L 7.328125 0 \n",
              "L 7.328125 8.296875 \n",
              "Q 12.9375 14.109375 22.625 23.890625 \n",
              "Q 32.328125 33.6875 34.8125 36.53125 \n",
              "Q 39.546875 41.84375 41.421875 45.53125 \n",
              "Q 43.3125 49.21875 43.3125 52.78125 \n",
              "Q 43.3125 58.59375 39.234375 62.25 \n",
              "Q 35.15625 65.921875 28.609375 65.921875 \n",
              "Q 23.96875 65.921875 18.8125 64.3125 \n",
              "Q 13.671875 62.703125 7.8125 59.421875 \n",
              "L 7.8125 69.390625 \n",
              "Q 13.765625 71.78125 18.9375 73 \n",
              "Q 24.125 74.21875 28.421875 74.21875 \n",
              "Q 39.75 74.21875 46.484375 68.546875 \n",
              "Q 53.21875 62.890625 53.21875 53.421875 \n",
              "Q 53.21875 48.921875 51.53125 44.890625 \n",
              "Q 49.859375 40.875 45.40625 35.40625 \n",
              "Q 44.1875 33.984375 37.640625 27.21875 \n",
              "Q 31.109375 20.453125 19.1875 8.296875 \n",
              "z\n",
              "\" id=\"DejaVuSans-50\"/>\n",
              "       <path d=\"M 10.796875 72.90625 \n",
              "L 49.515625 72.90625 \n",
              "L 49.515625 64.59375 \n",
              "L 19.828125 64.59375 \n",
              "L 19.828125 46.734375 \n",
              "Q 21.96875 47.46875 24.109375 47.828125 \n",
              "Q 26.265625 48.1875 28.421875 48.1875 \n",
              "Q 40.625 48.1875 47.75 41.5 \n",
              "Q 54.890625 34.8125 54.890625 23.390625 \n",
              "Q 54.890625 11.625 47.5625 5.09375 \n",
              "Q 40.234375 -1.421875 26.90625 -1.421875 \n",
              "Q 22.3125 -1.421875 17.546875 -0.640625 \n",
              "Q 12.796875 0.140625 7.71875 1.703125 \n",
              "L 7.71875 11.625 \n",
              "Q 12.109375 9.234375 16.796875 8.0625 \n",
              "Q 21.484375 6.890625 26.703125 6.890625 \n",
              "Q 35.15625 6.890625 40.078125 11.328125 \n",
              "Q 45.015625 15.765625 45.015625 23.390625 \n",
              "Q 45.015625 31 40.078125 35.4375 \n",
              "Q 35.15625 39.890625 26.703125 39.890625 \n",
              "Q 22.75 39.890625 18.8125 39.015625 \n",
              "Q 14.890625 38.140625 10.796875 36.28125 \n",
              "z\n",
              "\" id=\"DejaVuSans-53\"/>\n",
              "      </defs>\n",
              "      <g transform=\"translate(101.314466 266.598437)scale(0.1 -0.1)\">\n",
              "       <use xlink:href=\"#DejaVuSans-50\"/>\n",
              "       <use x=\"63.623047\" xlink:href=\"#DejaVuSans-46\"/>\n",
              "       <use x=\"95.410156\" xlink:href=\"#DejaVuSans-53\"/>\n",
              "      </g>\n",
              "     </g>\n",
              "    </g>\n",
              "    <g id=\"xtick_3\">\n",
              "     <g id=\"line2d_3\">\n",
              "      <g>\n",
              "       <use style=\"stroke:#000000;stroke-width:0.8;\" x=\"149.313876\" xlink:href=\"#m56396d2082\" y=\"252\"/>\n",
              "      </g>\n",
              "     </g>\n",
              "     <g id=\"text_3\">\n",
              "      <!-- 5.0 -->\n",
              "      <g transform=\"translate(141.362313 266.598437)scale(0.1 -0.1)\">\n",
              "       <use xlink:href=\"#DejaVuSans-53\"/>\n",
              "       <use x=\"63.623047\" xlink:href=\"#DejaVuSans-46\"/>\n",
              "       <use x=\"95.410156\" xlink:href=\"#DejaVuSans-48\"/>\n",
              "      </g>\n",
              "     </g>\n",
              "    </g>\n",
              "    <g id=\"xtick_4\">\n",
              "     <g id=\"line2d_4\">\n",
              "      <g>\n",
              "       <use style=\"stroke:#000000;stroke-width:0.8;\" x=\"189.361722\" xlink:href=\"#m56396d2082\" y=\"252\"/>\n",
              "      </g>\n",
              "     </g>\n",
              "     <g id=\"text_4\">\n",
              "      <!-- 7.5 -->\n",
              "      <defs>\n",
              "       <path d=\"M 8.203125 72.90625 \n",
              "L 55.078125 72.90625 \n",
              "L 55.078125 68.703125 \n",
              "L 28.609375 0 \n",
              "L 18.3125 0 \n",
              "L 43.21875 64.59375 \n",
              "L 8.203125 64.59375 \n",
              "z\n",
              "\" id=\"DejaVuSans-55\"/>\n",
              "      </defs>\n",
              "      <g transform=\"translate(181.41016 266.598437)scale(0.1 -0.1)\">\n",
              "       <use xlink:href=\"#DejaVuSans-55\"/>\n",
              "       <use x=\"63.623047\" xlink:href=\"#DejaVuSans-46\"/>\n",
              "       <use x=\"95.410156\" xlink:href=\"#DejaVuSans-53\"/>\n",
              "      </g>\n",
              "     </g>\n",
              "    </g>\n",
              "    <g id=\"xtick_5\">\n",
              "     <g id=\"line2d_5\">\n",
              "      <g>\n",
              "       <use style=\"stroke:#000000;stroke-width:0.8;\" x=\"229.409569\" xlink:href=\"#m56396d2082\" y=\"252\"/>\n",
              "      </g>\n",
              "     </g>\n",
              "     <g id=\"text_5\">\n",
              "      <!-- 10.0 -->\n",
              "      <defs>\n",
              "       <path d=\"M 12.40625 8.296875 \n",
              "L 28.515625 8.296875 \n",
              "L 28.515625 63.921875 \n",
              "L 10.984375 60.40625 \n",
              "L 10.984375 69.390625 \n",
              "L 28.421875 72.90625 \n",
              "L 38.28125 72.90625 \n",
              "L 38.28125 8.296875 \n",
              "L 54.390625 8.296875 \n",
              "L 54.390625 0 \n",
              "L 12.40625 0 \n",
              "z\n",
              "\" id=\"DejaVuSans-49\"/>\n",
              "      </defs>\n",
              "      <g transform=\"translate(218.276757 266.598437)scale(0.1 -0.1)\">\n",
              "       <use xlink:href=\"#DejaVuSans-49\"/>\n",
              "       <use x=\"63.623047\" xlink:href=\"#DejaVuSans-48\"/>\n",
              "       <use x=\"127.246094\" xlink:href=\"#DejaVuSans-46\"/>\n",
              "       <use x=\"159.033203\" xlink:href=\"#DejaVuSans-48\"/>\n",
              "      </g>\n",
              "     </g>\n",
              "    </g>\n",
              "    <g id=\"xtick_6\">\n",
              "     <g id=\"line2d_6\">\n",
              "      <g>\n",
              "       <use style=\"stroke:#000000;stroke-width:0.8;\" x=\"269.457416\" xlink:href=\"#m56396d2082\" y=\"252\"/>\n",
              "      </g>\n",
              "     </g>\n",
              "     <g id=\"text_6\">\n",
              "      <!-- 12.5 -->\n",
              "      <g transform=\"translate(258.324604 266.598437)scale(0.1 -0.1)\">\n",
              "       <use xlink:href=\"#DejaVuSans-49\"/>\n",
              "       <use x=\"63.623047\" xlink:href=\"#DejaVuSans-50\"/>\n",
              "       <use x=\"127.246094\" xlink:href=\"#DejaVuSans-46\"/>\n",
              "       <use x=\"159.033203\" xlink:href=\"#DejaVuSans-53\"/>\n",
              "      </g>\n",
              "     </g>\n",
              "    </g>\n",
              "    <g id=\"xtick_7\">\n",
              "     <g id=\"line2d_7\">\n",
              "      <g>\n",
              "       <use style=\"stroke:#000000;stroke-width:0.8;\" x=\"309.505263\" xlink:href=\"#m56396d2082\" y=\"252\"/>\n",
              "      </g>\n",
              "     </g>\n",
              "     <g id=\"text_7\">\n",
              "      <!-- 15.0 -->\n",
              "      <g transform=\"translate(298.372451 266.598437)scale(0.1 -0.1)\">\n",
              "       <use xlink:href=\"#DejaVuSans-49\"/>\n",
              "       <use x=\"63.623047\" xlink:href=\"#DejaVuSans-53\"/>\n",
              "       <use x=\"127.246094\" xlink:href=\"#DejaVuSans-46\"/>\n",
              "       <use x=\"159.033203\" xlink:href=\"#DejaVuSans-48\"/>\n",
              "      </g>\n",
              "     </g>\n",
              "    </g>\n",
              "    <g id=\"xtick_8\">\n",
              "     <g id=\"line2d_8\">\n",
              "      <g>\n",
              "       <use style=\"stroke:#000000;stroke-width:0.8;\" x=\"349.55311\" xlink:href=\"#m56396d2082\" y=\"252\"/>\n",
              "      </g>\n",
              "     </g>\n",
              "     <g id=\"text_8\">\n",
              "      <!-- 17.5 -->\n",
              "      <g transform=\"translate(338.420298 266.598437)scale(0.1 -0.1)\">\n",
              "       <use xlink:href=\"#DejaVuSans-49\"/>\n",
              "       <use x=\"63.623047\" xlink:href=\"#DejaVuSans-55\"/>\n",
              "       <use x=\"127.246094\" xlink:href=\"#DejaVuSans-46\"/>\n",
              "       <use x=\"159.033203\" xlink:href=\"#DejaVuSans-53\"/>\n",
              "      </g>\n",
              "     </g>\n",
              "    </g>\n",
              "   </g>\n",
              "   <g id=\"matplotlib.axis_2\">\n",
              "    <g id=\"ytick_1\">\n",
              "     <g id=\"line2d_9\">\n",
              "      <defs>\n",
              "       <path d=\"M 0 0 \n",
              "L -3.5 0 \n",
              "\" id=\"me14d497426\" style=\"stroke:#000000;stroke-width:0.8;\"/>\n",
              "      </defs>\n",
              "      <g>\n",
              "       <use style=\"stroke:#000000;stroke-width:0.8;\" x=\"54\" xlink:href=\"#me14d497426\" y=\"232.676816\"/>\n",
              "      </g>\n",
              "     </g>\n",
              "     <g id=\"text_9\">\n",
              "      <!-- −1.0 -->\n",
              "      <defs>\n",
              "       <path d=\"M 10.59375 35.5 \n",
              "L 73.1875 35.5 \n",
              "L 73.1875 27.203125 \n",
              "L 10.59375 27.203125 \n",
              "z\n",
              "\" id=\"DejaVuSans-8722\"/>\n",
              "      </defs>\n",
              "      <g transform=\"translate(22.717187 236.476034)scale(0.1 -0.1)\">\n",
              "       <use xlink:href=\"#DejaVuSans-8722\"/>\n",
              "       <use x=\"83.789062\" xlink:href=\"#DejaVuSans-49\"/>\n",
              "       <use x=\"147.412109\" xlink:href=\"#DejaVuSans-46\"/>\n",
              "       <use x=\"179.199219\" xlink:href=\"#DejaVuSans-48\"/>\n",
              "      </g>\n",
              "     </g>\n",
              "    </g>\n",
              "    <g id=\"ytick_2\">\n",
              "     <g id=\"line2d_10\">\n",
              "      <g>\n",
              "       <use style=\"stroke:#000000;stroke-width:0.8;\" x=\"54\" xlink:href=\"#me14d497426\" y=\"199.024793\"/>\n",
              "      </g>\n",
              "     </g>\n",
              "     <g id=\"text_10\">\n",
              "      <!-- −0.5 -->\n",
              "      <g transform=\"translate(22.717187 202.824011)scale(0.1 -0.1)\">\n",
              "       <use xlink:href=\"#DejaVuSans-8722\"/>\n",
              "       <use x=\"83.789062\" xlink:href=\"#DejaVuSans-48\"/>\n",
              "       <use x=\"147.412109\" xlink:href=\"#DejaVuSans-46\"/>\n",
              "       <use x=\"179.199219\" xlink:href=\"#DejaVuSans-53\"/>\n",
              "      </g>\n",
              "     </g>\n",
              "    </g>\n",
              "    <g id=\"ytick_3\">\n",
              "     <g id=\"line2d_11\">\n",
              "      <g>\n",
              "       <use style=\"stroke:#000000;stroke-width:0.8;\" x=\"54\" xlink:href=\"#me14d497426\" y=\"165.37277\"/>\n",
              "      </g>\n",
              "     </g>\n",
              "     <g id=\"text_11\">\n",
              "      <!-- 0.0 -->\n",
              "      <g transform=\"translate(31.096875 169.171988)scale(0.1 -0.1)\">\n",
              "       <use xlink:href=\"#DejaVuSans-48\"/>\n",
              "       <use x=\"63.623047\" xlink:href=\"#DejaVuSans-46\"/>\n",
              "       <use x=\"95.410156\" xlink:href=\"#DejaVuSans-48\"/>\n",
              "      </g>\n",
              "     </g>\n",
              "    </g>\n",
              "    <g id=\"ytick_4\">\n",
              "     <g id=\"line2d_12\">\n",
              "      <g>\n",
              "       <use style=\"stroke:#000000;stroke-width:0.8;\" x=\"54\" xlink:href=\"#me14d497426\" y=\"131.720747\"/>\n",
              "      </g>\n",
              "     </g>\n",
              "     <g id=\"text_12\">\n",
              "      <!-- 0.5 -->\n",
              "      <g transform=\"translate(31.096875 135.519965)scale(0.1 -0.1)\">\n",
              "       <use xlink:href=\"#DejaVuSans-48\"/>\n",
              "       <use x=\"63.623047\" xlink:href=\"#DejaVuSans-46\"/>\n",
              "       <use x=\"95.410156\" xlink:href=\"#DejaVuSans-53\"/>\n",
              "      </g>\n",
              "     </g>\n",
              "    </g>\n",
              "    <g id=\"ytick_5\">\n",
              "     <g id=\"line2d_13\">\n",
              "      <g>\n",
              "       <use style=\"stroke:#000000;stroke-width:0.8;\" x=\"54\" xlink:href=\"#me14d497426\" y=\"98.068724\"/>\n",
              "      </g>\n",
              "     </g>\n",
              "     <g id=\"text_13\">\n",
              "      <!-- 1.0 -->\n",
              "      <g transform=\"translate(31.096875 101.867943)scale(0.1 -0.1)\">\n",
              "       <use xlink:href=\"#DejaVuSans-49\"/>\n",
              "       <use x=\"63.623047\" xlink:href=\"#DejaVuSans-46\"/>\n",
              "       <use x=\"95.410156\" xlink:href=\"#DejaVuSans-48\"/>\n",
              "      </g>\n",
              "     </g>\n",
              "    </g>\n",
              "    <g id=\"ytick_6\">\n",
              "     <g id=\"line2d_14\">\n",
              "      <g>\n",
              "       <use style=\"stroke:#000000;stroke-width:0.8;\" x=\"54\" xlink:href=\"#me14d497426\" y=\"64.416701\"/>\n",
              "      </g>\n",
              "     </g>\n",
              "     <g id=\"text_14\">\n",
              "      <!-- 1.5 -->\n",
              "      <g transform=\"translate(31.096875 68.21592)scale(0.1 -0.1)\">\n",
              "       <use xlink:href=\"#DejaVuSans-49\"/>\n",
              "       <use x=\"63.623047\" xlink:href=\"#DejaVuSans-46\"/>\n",
              "       <use x=\"95.410156\" xlink:href=\"#DejaVuSans-53\"/>\n",
              "      </g>\n",
              "     </g>\n",
              "    </g>\n",
              "   </g>\n",
              "   <g id=\"line2d_15\">\n",
              "    <path clip-path=\"url(#p4ff7bdd386)\" d=\"M 69.218182 242.116364 \n",
              "L 85.237321 177.67587 \n",
              "L 101.256459 104.896053 \n",
              "L 117.275598 201.862161 \n",
              "L 133.294737 151.50098 \n",
              "L 149.313876 44.443636 \n",
              "L 165.333014 151.675871 \n",
              "L 181.352153 162.384194 \n",
              "L 197.371292 121.071665 \n",
              "L 213.390431 211.597791 \n",
              "L 229.409569 44.730738 \n",
              "L 245.428708 213.081111 \n",
              "L 261.447847 156.336359 \n",
              "L 277.466986 216.897733 \n",
              "L 293.486124 155.843186 \n",
              "L 309.505263 230.971469 \n",
              "L 325.524402 212.410814 \n",
              "L 341.543541 78.886708 \n",
              "L 357.562679 155.970796 \n",
              "L 373.581818 91.505867 \n",
              "\" style=\"fill:none;stroke:#1f77b4;stroke-linecap:square;stroke-width:1.5;\"/>\n",
              "   </g>\n",
              "   <g id=\"patch_3\">\n",
              "    <path d=\"M 54 252 \n",
              "L 54 34.56 \n",
              "\" style=\"fill:none;stroke:#000000;stroke-linecap:square;stroke-linejoin:miter;stroke-width:0.8;\"/>\n",
              "   </g>\n",
              "   <g id=\"patch_4\">\n",
              "    <path d=\"M 388.8 252 \n",
              "L 388.8 34.56 \n",
              "\" style=\"fill:none;stroke:#000000;stroke-linecap:square;stroke-linejoin:miter;stroke-width:0.8;\"/>\n",
              "   </g>\n",
              "   <g id=\"patch_5\">\n",
              "    <path d=\"M 54 252 \n",
              "L 388.8 252 \n",
              "\" style=\"fill:none;stroke:#000000;stroke-linecap:square;stroke-linejoin:miter;stroke-width:0.8;\"/>\n",
              "   </g>\n",
              "   <g id=\"patch_6\">\n",
              "    <path d=\"M 54 34.56 \n",
              "L 388.8 34.56 \n",
              "\" style=\"fill:none;stroke:#000000;stroke-linecap:square;stroke-linejoin:miter;stroke-width:0.8;\"/>\n",
              "   </g>\n",
              "  </g>\n",
              " </g>\n",
              " <defs>\n",
              "  <clipPath id=\"p4ff7bdd386\">\n",
              "   <rect height=\"217.44\" width=\"334.8\" x=\"54\" y=\"34.56\"/>\n",
              "  </clipPath>\n",
              " </defs>\n",
              "</svg>"
            ],
            "text/plain": [
              "<IPython.core.display.HTML object>"
            ]
          },
          "metadata": {
            "tags": []
          }
        }
      ]
    },
    {
      "cell_type": "markdown",
      "metadata": {
        "id": "Cj0NtkqNC_cQ"
      },
      "source": [
        "# ランダムに点を打つ"
      ]
    },
    {
      "cell_type": "code",
      "metadata": {
        "id": "Yy_NXuIWlYWj",
        "colab": {
          "base_uri": "https://localhost:8080/",
          "height": 264
        },
        "outputId": "f5c21d2b-0142-4717-b512-c7ceef708028"
      },
      "source": [
        "# ランダムに点を打つ\n",
        "# np.random.randn() は標準偏差 1 の正規分布の乱数を発生する\n",
        "import numpy as np\n",
        "import matplotlib.pyplot as plt\n",
        "data = np.random.randn(20)\n",
        "plt.plot(data)\n",
        "plt.show()"
      ],
      "execution_count": null,
      "outputs": [
        {
          "output_type": "display_data",
          "data": {
            "image/png": "[encoded data removed]",
            "text/plain": [
              "<Figure size 432x288 with 1 Axes>"
            ]
          },
          "metadata": {
            "tags": [],
            "needs_background": "light"
          }
        }
      ]
    },
    {
      "cell_type": "markdown",
      "metadata": {
        "id": "gOxv35lfkd7G"
      },
      "source": [
        "x 軸も y 軸も乱数にしてみる"
      ]
    },
    {
      "cell_type": "code",
      "metadata": {
        "id": "UUqPJhGZl-2_",
        "colab": {
          "base_uri": "https://localhost:8080/",
          "height": 264
        },
        "outputId": "4f438c03-5620-4f8b-f926-d60a78aacff5"
      },
      "source": [
        "# ランダムに点を打つ => 動画にしたいがいまはまだ\n",
        "import numpy as np\n",
        "import matplotlib.pyplot as plt\n",
        "x = np.random.randn(10)\n",
        "y = np.random.randn(10)\n",
        "plt.plot(x,y)\n",
        "plt.show()"
      ],
      "execution_count": null,
      "outputs": [
        {
          "output_type": "display_data",
          "data": {
            "image/png": "[encoded data removed]",
            "text/plain": [
              "<Figure size 432x288 with 1 Axes>"
            ]
          },
          "metadata": {
            "tags": [],
            "needs_background": "light"
          }
        }
      ]
    },
    {
      "cell_type": "markdown",
      "metadata": {
        "id": "bSCuG_s2kuSB"
      },
      "source": [
        "$y = ax +b$ の直線の周辺に乱数で点を打つ"
      ]
    },
    {
      "cell_type": "code",
      "metadata": {
        "colab": {
          "base_uri": "https://localhost:8080/",
          "height": 264
        },
        "id": "CI3mmXjrjIfY",
        "outputId": "88ff35dc-1788-431b-db72-191d8ccc132c"
      },
      "source": [
        "import matplotlib.pyplot as plt\n",
        "import numpy as np\n",
        "# x = np.linspace(1,10,100)\n",
        "x = np.array(list(map(lambda x: x*100, np.random.randn(100))))\n",
        "y = 2*x+100\n",
        "y = y + np.random.randn(100)*100\n",
        "plt.scatter(x, y, c='red', s=10)\n",
        "plt.grid()\n",
        "plt.show()"
      ],
      "execution_count": null,
      "outputs": [
        {
          "output_type": "display_data",
          "data": {
            "image/png": "[encoded data removed]",
            "text/plain": [
              "<Figure size 432x288 with 1 Axes>"
            ]
          },
          "metadata": {
            "tags": [],
            "needs_background": "light"
          }
        }
      ]
    },
    {
      "cell_type": "markdown",
      "metadata": {
        "id": "tYpSC7m6k7OG"
      },
      "source": [
        "scatter は plot より細かな設定が可能だが、折れ線グラフは plot 。"
      ]
    },
    {
      "cell_type": "code",
      "metadata": {
        "colab": {
          "base_uri": "https://localhost:8080/",
          "height": 265
        },
        "id": "2nAJIeE45AT4",
        "outputId": "d719ffca-a459-4030-c327-d7190348c191"
      },
      "source": [
        "import numpy as np\n",
        "import matplotlib.pyplot as plt\n",
        "\n",
        "x = np.random.randn(10) # 正規分布の乱数生成\n",
        "y = np.random.rand(10) # 0-1の間の乱数を生成\n",
        "\n",
        "plt.scatter(x, y, s=300, c=\"red\", alpha=0.5,edgecolors=\"blue\", marker=\"^\")\n",
        "plt.show()"
      ],
      "execution_count": null,
      "outputs": [
        {
          "output_type": "display_data",
          "data": {
            "image/png": "[encoded data removed]",
            "text/plain": [
              "<Figure size 432x288 with 1 Axes>"
            ]
          },
          "metadata": {
            "tags": [],
            "needs_background": "light"
          }
        }
      ]
    },
    {
      "cell_type": "markdown",
      "metadata": {
        "id": "YpxommtJlKFF"
      },
      "source": [
        "# fig の描画エリアを指定する"
      ]
    },
    {
      "cell_type": "code",
      "metadata": {
        "id": "1KuZqKsR0P3D",
        "colab": {
          "base_uri": "https://localhost:8080/",
          "height": 264
        },
        "outputId": "f6c009ab-9102-4108-b9e7-da10ac7d12f1"
      },
      "source": [
        "import matplotlib.pyplot as plt\n",
        "# はじめに描画エリアを定義して変数に代入する\n",
        "fig = plt.figure (figsize=(6,4)) # 単位はインチ\n",
        "# plt.rcParams['figure.figsize'] =8,6 という書き方もある\n",
        "# fig, ax = plt.subplots () # こうすると、fig と ax が一度につくれるので、おまかせでそうしている例が多い\n",
        "# ここでは add_subplot を使って変数に代入する\n",
        "ax = fig.add_subplot(xlim=(-1,3), ylim=(-1,4)) # グラフのそれぞれは ax と呼ばれる。複数は axes\n",
        "ax.axis([-5,5,-5,5]) # ax を作ってから、こうして座標 axisを変えることができる。\n",
        "ax.plot([0],[3],'ro') # 座標の外に点を打つと表示されない。座標が定義されていないとシステムが適当な座標を作る\n",
        "plt.show()"
      ],
      "execution_count": null,
      "outputs": [
        {
          "output_type": "display_data",
          "data": {
            "image/png": "[encoded data removed]",
            "text/plain": [
              "<Figure size 432x288 with 1 Axes>"
            ]
          },
          "metadata": {
            "tags": [],
            "needs_background": "light"
          }
        }
      ]
    },
    {
      "cell_type": "code",
      "metadata": {
        "id": "XaJg12OxIs8k",
        "colab": {
          "base_uri": "https://localhost:8080/",
          "height": 268
        },
        "outputId": "c8f267d5-99f2-4d85-d586-7487f2f2cede"
      },
      "source": [
        "import matplotlib.pyplot as plt\n",
        "fig = plt.figure(num=3,figsize=(12,4)) # 描画エリアを横12インチ縦4インチで取る。描画エリアの番号を 3 とする\n",
        "ax = fig.subplots(2, 3) # その描画エリアに 2 x 3 の グラフを配置する\n",
        "ax[1][1].plot(2,3,'ro') # ゼロベースで数えて 1行 1列のグラフに、座標 (2,3) に赤い丸を打つ\n",
        "plt.show()"
      ],
      "execution_count": null,
      "outputs": [
        {
          "output_type": "display_data",
          "data": {
            "image/png": "[encoded data removed]",
            "text/plain": [
              "<Figure size 864x288 with 6 Axes>"
            ]
          },
          "metadata": {
            "tags": [],
            "needs_background": "light"
          }
        }
      ]
    },
    {
      "cell_type": "code",
      "metadata": {
        "id": "U-62mp65hSYf",
        "colab": {
          "base_uri": "https://localhost:8080/"
        },
        "outputId": "ad99d769-5039-4ec7-ace5-9c1057d01b7b"
      },
      "source": [
        "fig.number"
      ],
      "execution_count": null,
      "outputs": [
        {
          "output_type": "execute_result",
          "data": {
            "text/plain": [
              "3"
            ]
          },
          "metadata": {
            "tags": []
          },
          "execution_count": 75
        }
      ]
    },
    {
      "cell_type": "code",
      "metadata": {
        "id": "t3h8sus56UBv",
        "colab": {
          "base_uri": "https://localhost:8080/",
          "height": 264
        },
        "outputId": "8417da26-952a-41b8-c6a0-63cbadaccff9"
      },
      "source": [
        "# 描画エリアにグラフを配置する\n",
        "import matplotlib.pyplot as plt\n",
        "\n",
        "fig = plt.figure (figsize=(6,4), facecolor='y') # figsizeは前回のが使われてしまうので毎回指定した方がよい\n",
        "ax1 = fig.add_subplot(222) # 2 x 2 の 2番目のグラフ (1ベース)\n",
        "ax2 = fig.add_subplot(331)\n",
        "ax3 = fig.add_subplot(232)\n",
        "ax4 = fig.add_subplot(224)\n",
        "\n",
        "ax1.plot(3,5,'go') # 2 x 2 の 2番目のグラフに緑の点を打つ\n",
        "ax2.plot(3,5,'ro') # 3 x 3 の 1番目のグラフに赤の点を打つ\n",
        "ax3.plot(3,5,'bo') # 2 x 3 の 2番目のグラフに青の点を打つ\n",
        "ax4.plot(3,5,'r*') # 2 x 2 の 4番目のグラフに赤のアスタリスクを打つ\n",
        "\n",
        "plt.show()"
      ],
      "execution_count": null,
      "outputs": [
        {
          "output_type": "display_data",
          "data": {
            "image/png": "[encoded data removed]",
            "text/plain": [
              "<Figure size 432x288 with 4 Axes>"
            ]
          },
          "metadata": {
            "tags": []
          }
        }
      ]
    },
    {
      "cell_type": "markdown",
      "metadata": {
        "id": "ra_lJG5gIJnS"
      },
      "source": [
        "次の例は plt.subplots の help にある example "
      ]
    },
    {
      "cell_type": "code",
      "metadata": {
        "id": "ypVVJsWwEVU1",
        "colab": {
          "base_uri": "https://localhost:8080/",
          "height": 279
        },
        "outputId": "13cd4aca-5efc-4406-962d-69d8f5ec73dd"
      },
      "source": [
        "import matplotlib.pyplot as plt\n",
        "import numpy as np\n",
        "\n",
        "# First create some toy data:\n",
        "x = np.linspace(0, 2*np.pi, 400) \n",
        "y = np.sin(x**2)\n",
        "# x, y は numpy.ndarray <= print(type(x)) でわかる。n-dimensional array\n",
        "# ちなみに python は普通 list を使う。遅いらしい\n",
        "# numpy では ndarray で逆に list は使わないが、ほとんど同じ。list, np.array で相互変換\n",
        "\n",
        "# Create just a figure and only one subplot\n",
        "fig, ax = plt.subplots() \n",
        "ax.plot(x, y) \n",
        "ax.set_title('Simple plot')\n",
        "plt.show() # plt.show() しなくても図は描けているが、コードセル最後の式の返り値も表示されてしまう\n"
      ],
      "execution_count": null,
      "outputs": [
        {
          "output_type": "display_data",
          "data": {
            "image/png": "[encoded data removed]",
            "text/plain": [
              "<Figure size 432x288 with 1 Axes>"
            ]
          },
          "metadata": {
            "tags": [],
            "needs_background": "light"
          }
        }
      ]
    },
    {
      "cell_type": "code",
      "metadata": {
        "id": "Bz_OKvr4h5MY",
        "colab": {
          "base_uri": "https://localhost:8080/",
          "height": 279
        },
        "outputId": "8db0d22e-8b12-4d82-884b-15e3ed6f1893"
      },
      "source": [
        "# subplots の使い方\n",
        "import matplotlib.pyplot as plt\n",
        "import numpy as np\n",
        "# First create some toy data:\n",
        "x = np.linspace(0, 2*np.pi, 400)\n",
        "y = np.sin(x**2)\n",
        "# Create two subplots and unpack the output array immediately\n",
        "f, ([[ax1,ax2],[ax3,ax4]]) = plt.subplots(2,2, sharey=True) \n",
        "# f, (ax1, ax2) = plt.subplots(1, 2, sharey=True) # share y-axis\n",
        "ax1.plot(x, y)\n",
        "ax1.set_title('Sharing Y axis')\n",
        "ax2.scatter(x, y)\n",
        "plt.show()"
      ],
      "execution_count": null,
      "outputs": [
        {
          "output_type": "display_data",
          "data": {
            "image/png": "[encoded data removed]",
            "text/plain": [
              "<Figure size 432x288 with 4 Axes>"
            ]
          },
          "metadata": {
            "tags": [],
            "needs_background": "light"
          }
        }
      ]
    },
    {
      "cell_type": "code",
      "metadata": {
        "id": "VWZ_76AOiNz-",
        "colab": {
          "base_uri": "https://localhost:8080/",
          "height": 285
        },
        "outputId": "5d175c11-c5e3-4fab-c31b-071dbfdc06dd"
      },
      "source": [
        "# subplots の使い方 円グラフ\n",
        "import matplotlib.pyplot as plt\n",
        "import numpy as np\n",
        "# First create some toy data:\n",
        "x = np.linspace(0, 2*np.pi, 400)\n",
        "y = np.sin(x**2)\n",
        "\n",
        "# Create four polar axes and access them through the returned array\n",
        "fig, axs = plt.subplots(2, 2, subplot_kw=dict(polar=True))\n",
        "# fig, axs = plt.subplots(2, 2)\n",
        "axs[0, 0].plot(x, y)\n",
        "axs[1, 1].scatter(x, y)\n",
        "plt.show()"
      ],
      "execution_count": null,
      "outputs": [
        {
          "output_type": "display_data",
          "data": {
            "image/png": "[encoded data removed]",
            "text/plain": [
              "<Figure size 432x288 with 4 Axes>"
            ]
          },
          "metadata": {
            "tags": [],
            "needs_background": "light"
          }
        }
      ]
    },
    {
      "cell_type": "code",
      "metadata": {
        "id": "gCodV9xQwmNv",
        "colab": {
          "base_uri": "https://localhost:8080/",
          "height": 1000
        },
        "outputId": "7dea1fc6-d8a9-4a40-f74b-35423c528ef8"
      },
      "source": [
        "# 座標メモリの共有\n",
        "import matplotlib.pyplot as plt\n",
        "\n",
        "# Share a X axis with each column of subplots\n",
        "plt.subplots(2, 2, sharex='col')\n",
        "\n",
        "# Share a Y axis with each row of subplots\n",
        "plt.subplots(2, 2, sharey='row')\n",
        "\n",
        "# Share both X and Y axes with all subplots\n",
        "plt.subplots(2, 2, sharex='all', sharey='all')\n",
        "\n",
        "# Note that this is the same as\n",
        "plt.subplots(2, 2, sharex=True, sharey=True)\n"
      ],
      "execution_count": null,
      "outputs": [
        {
          "output_type": "execute_result",
          "data": {
            "text/plain": [
              "(<Figure size 432x288 with 4 Axes>,\n",
              " array([[<matplotlib.axes._subplots.AxesSubplot object at 0x7fbdadd75090>,\n",
              "         <matplotlib.axes._subplots.AxesSubplot object at 0x7fbdae5f9f10>],\n",
              "        [<matplotlib.axes._subplots.AxesSubplot object at 0x7fbdb1cff9d0>,\n",
              "         <matplotlib.axes._subplots.AxesSubplot object at 0x7fbdba262d50>]],\n",
              "       dtype=object))"
            ]
          },
          "metadata": {
            "tags": []
          },
          "execution_count": 80
        },
        {
          "output_type": "display_data",
          "data": {
            "image/png": "[encoded data removed]",
            "text/plain": [
              "<Figure size 432x288 with 4 Axes>"
            ]
          },
          "metadata": {
            "tags": [],
            "needs_background": "light"
          }
        },
        {
          "output_type": "display_data",
          "data": {
            "image/png": "[encoded data removed]",
            "text/plain": [
              "<Figure size 432x288 with 4 Axes>"
            ]
          },
          "metadata": {
            "tags": [],
            "needs_background": "light"
          }
        },
        {
          "output_type": "display_data",
          "data": {
            "image/png": "[encoded data removed]",
            "text/plain": [
              "<Figure size 432x288 with 4 Axes>"
            ]
          },
          "metadata": {
            "tags": [],
            "needs_background": "light"
          }
        },
        {
          "output_type": "display_data",
          "data": {
            "image/png": "[encoded data removed]",
            "text/plain": [
              "<Figure size 432x288 with 4 Axes>"
            ]
          },
          "metadata": {
            "tags": [],
            "needs_background": "light"
          }
        }
      ]
    },
    {
      "cell_type": "code",
      "metadata": {
        "id": "f0z8WxfZx5Ho",
        "colab": {
          "base_uri": "https://localhost:8080/",
          "height": 268
        },
        "outputId": "5cae7f8d-5f29-4292-e26d-b089afdea05d"
      },
      "source": [
        "import matplotlib.pyplot as plt\n",
        "# Create figure number 10 with a single subplot\n",
        "# and clears it if it already exists.\n",
        "fig, ax = plt.subplots(num=10, clear=True)"
      ],
      "execution_count": null,
      "outputs": [
        {
          "output_type": "display_data",
          "data": {
            "image/png": "[encoded data removed]",
            "text/plain": [
              "<Figure size 432x288 with 1 Axes>"
            ]
          },
          "metadata": {
            "tags": [],
            "needs_background": "light"
          }
        }
      ]
    },
    {
      "cell_type": "code",
      "metadata": {
        "id": "BPaB3aNhlI09",
        "colab": {
          "base_uri": "https://localhost:8080/"
        },
        "outputId": "48bed6ec-ecb9-4a79-f274-295b67bdbb4e"
      },
      "source": [
        "fig.number"
      ],
      "execution_count": null,
      "outputs": [
        {
          "output_type": "execute_result",
          "data": {
            "text/plain": [
              "10"
            ]
          },
          "metadata": {
            "tags": []
          },
          "execution_count": 82
        }
      ]
    },
    {
      "cell_type": "code",
      "metadata": {
        "id": "oFfa8OyF17oP",
        "colab": {
          "base_uri": "https://localhost:8080/"
        },
        "outputId": "bdc65f25-f6f4-4bba-f636-4d59f5434bf7"
      },
      "source": [
        "import numpy as np\n",
        "arr = [[1, 2], [3, 4]] # 入れ子のリスト\n",
        "a = np.array(arr) # ndarray に変換 n dimensional array\n",
        "print (type (arr)) # class list\n",
        "print (type (a)) # class ndarray\n",
        "print (a)\n",
        "print (a.ndim) # 次元数\n",
        "print (a.shape) # m * n\n",
        "print (a.size) # 要素数\n",
        "print (a.dtype) # データ型 int とか float とか\n",
        "print (a.data)"
      ],
      "execution_count": null,
      "outputs": [
        {
          "output_type": "stream",
          "text": [
            "<class 'list'>\n",
            "<class 'numpy.ndarray'>\n",
            "[[1 2]\n",
            " [3 4]]\n",
            "2\n",
            "(2, 2)\n",
            "4\n",
            "int64\n",
            "<memory at 0x7fbdadbbead0>\n"
          ],
          "name": "stdout"
        }
      ]
    },
    {
      "cell_type": "markdown",
      "metadata": {
        "id": "07Q622p3wiZw"
      },
      "source": [
        "# 三角形を描く\n",
        "\n",
        "1. 三角形を描く。\n",
        "2. 座標を消す。\n",
        "3. A, B, C という頂点を振る。"
      ]
    },
    {
      "cell_type": "code",
      "metadata": {
        "id": "tdv7vl7ZuScp",
        "colab": {
          "base_uri": "https://localhost:8080/",
          "height": 248
        },
        "outputId": "5c47383f-e36b-4ddd-e61b-06d3627b4888"
      },
      "source": [
        "# 三角形を描く\n",
        "import matplotlib.pyplot as plt\n",
        "import numpy as np\n",
        "# fig, ax = plt.subplots () \n",
        "fig = plt.figure (figsize=(8,4), facecolor='w')\n",
        "ax = fig.add_subplot(xlim=(-0.5,4), ylim=(-0.5,4), )\n",
        "\n",
        "\n",
        "x = [0, 2, 3, 0]\n",
        "y = [0, 3, 0, 0]\n",
        "ax.plot(x, y,'r-')\n",
        "\n",
        "ax.text(-0.3,0.0,'A',color='red',fontsize=20)\n",
        "ax.text(2.0,3.2,'B',color='red',fontsize=20)\n",
        "ax.text(3.2,0.0,'C',color='red',fontsize=20)\n",
        "\n",
        "ax.set_axis_off()\n",
        "plt.show()"
      ],
      "execution_count": null,
      "outputs": [
        {
          "output_type": "display_data",
          "data": {
            "image/png": "[encoded data removed]",
            "text/plain": [
              "<Figure size 576x288 with 1 Axes>"
            ]
          },
          "metadata": {
            "tags": []
          }
        }
      ]
    },
    {
      "cell_type": "markdown",
      "metadata": {
        "id": "cePaWmBwhQzc"
      },
      "source": [
        "polygon を使って描く。"
      ]
    },
    {
      "cell_type": "code",
      "metadata": {
        "colab": {
          "base_uri": "https://localhost:8080/",
          "height": 229
        },
        "id": "N5zhTxebgY6y",
        "outputId": "45a8580f-741a-4229-cfcc-8f2d39fac7f4"
      },
      "source": [
        "import matplotlib.pyplot as plt\n",
        "fig, ax = plt.subplots()\n",
        "\n",
        "# 頂点の座標のリストを引数とする\n",
        "points = [[0,0],[1.5,1.3],[2.2,0]]\n",
        "polygon = plt.Polygon(points,fc='slategrey')\n",
        "ax.add_patch(polygon)\n",
        "\n",
        "ax.axis('scaled')\n",
        "ax.set_axis_off()\n",
        "plt.show()"
      ],
      "execution_count": 20,
      "outputs": [
        {
          "output_type": "display_data",
          "data": {
            "image/png": "[encoded data removed]",
            "text/plain": [
              "<Figure size 432x288 with 1 Axes>"
            ]
          },
          "metadata": {
            "tags": [],
            "needs_background": "light"
          }
        }
      ]
    },
    {
      "cell_type": "markdown",
      "metadata": {
        "id": "p6BCxZFrIjh3"
      },
      "source": [
        "とりあえず描けた"
      ]
    },
    {
      "cell_type": "code",
      "metadata": {
        "colab": {
          "base_uri": "https://localhost:8080/",
          "height": 561
        },
        "id": "R5oibnc1aXG0",
        "outputId": "ac95c9af-a191-4f46-958f-ebfa33a9612c"
      },
      "source": [
        "# plt.plot は plt.rcParamsとfig=plt.figureの両方があった場合どちらに描くか\n",
        "# どちらかしかなければそこに描く。両方ある場合は fig=lt.figureのに描かれる\n",
        "# sympyの plot は fig, ax では使えない。\n",
        "# 以下実験\n",
        "from sympy import *\n",
        "import matplotlib.pyplot as plt\n",
        "# fig = plt.figure(figsize=(12,4)) # これをコメントアウトすると、このエリアに描かれる\n",
        "plt.rcParams['figure.figsize']=(4,4)\n",
        "plt.plot (4,2,'ro')\n",
        "plt.plot (3,1,'ko')\n",
        "x = symbols('x')\n",
        "plot(x**2,(x,-0.5,0.5)) # rcParams['figure.figsize'] で表示エリアが再度作成されて表示される"
      ],
      "execution_count": null,
      "outputs": [
        {
          "output_type": "display_data",
          "data": {
            "image/png": "[encoded data removed]",
            "text/plain": [
              "<Figure size 288x288 with 1 Axes>"
            ]
          },
          "metadata": {
            "tags": [],
            "needs_background": "light"
          }
        },
        {
          "output_type": "display_data",
          "data": {
            "image/png": "[encoded data removed]",
            "text/plain": [
              "<Figure size 288x288 with 1 Axes>"
            ]
          },
          "metadata": {
            "tags": [],
            "needs_background": "light"
          }
        },
        {
          "output_type": "execute_result",
          "data": {
            "text/plain": [
              "<sympy.plotting.plot.Plot at 0x7fbdabdce510>"
            ]
          },
          "metadata": {
            "tags": []
          },
          "execution_count": 85
        }
      ]
    },
    {
      "cell_type": "code",
      "metadata": {
        "colab": {
          "base_uri": "https://localhost:8080/",
          "height": 248
        },
        "id": "ZTRBh815Hl-9",
        "outputId": "1bfbda6b-5138-4707-990f-90be815088bb"
      },
      "source": [
        "import numpy as np\n",
        "import matplotlib.pyplot as plt\n",
        "from matplotlib.patches import Polygon, Circle, Rectangle\n",
        "\n",
        "# red, blue, yellow, green = '#ff0000', '#0000ff', '#ffff00', '#00ff00' # 'red' とかすればよいのでこの行は不要\n",
        "# square = Rectangle((0.7, 0.1), 0.25, 0.25, facecolor='red')\n",
        "circle = Circle((0.8, 0.8), 0.15, facecolor='blue')\n",
        "# triangle = Polygon(((0.05,0.1), (0.396,0.1), (0.223, 0.38)), fc=yellow)\n",
        "triangle = Polygon(((0.05,0.1), (0.396,0.1), (0.223, 0.38)), fc='black') # fc=\"k\"\n",
        "# rhombus = Polygon(((0.5,0.2), (0.7,0.525), (0.5,0.85), (0.3,0.525)),  fc=green)\n",
        "\n",
        "fig = plt.figure(figsize=(6,4))\n",
        "# ax = fig.add_subplot(aspect='equal')\n",
        "ax = fig.add_subplot() # aspect='equal' とするか figsize=(a,a)としないと縦横比が崩れる\n",
        "# for shape in (square, circle, triangle, rhombus):\n",
        "#     ax.add_artist(shape)\n",
        "ax.add_artist(circle)\n",
        "ax.add_artist(triangle)\n",
        "# ax.xaxis.set_visible(False)\n",
        "# ax.yaxis.set_visible(False)\n",
        "ax.set_axis_off()\n",
        "plt.show()"
      ],
      "execution_count": null,
      "outputs": [
        {
          "output_type": "display_data",
          "data": {
            "image/png": "[encoded data removed]",
            "text/plain": [
              "<Figure size 432x288 with 1 Axes>"
            ]
          },
          "metadata": {
            "tags": [],
            "needs_background": "light"
          }
        }
      ]
    },
    {
      "cell_type": "markdown",
      "metadata": {
        "id": "cyYxjCT_X1JJ"
      },
      "source": [
        "メモ\n",
        "\n",
        "figsize を知る方法\n",
        "\n",
        "print(fig.get_size_inches())"
      ]
    },
    {
      "cell_type": "markdown",
      "metadata": {
        "id": "zuRKYFJU7WGG"
      },
      "source": [
        "# add_patch で図形を描く\n",
        "\n",
        "https://nickcharlton.net/posts/drawing-animating-shapes-matplotlib.html"
      ]
    },
    {
      "cell_type": "code",
      "metadata": {
        "colab": {
          "base_uri": "https://localhost:8080/",
          "height": 134
        },
        "id": "A-Foz-1P7vxc",
        "outputId": "623bd8fa-7b33-4e1e-f811-543cabb636fb"
      },
      "source": [
        "# 実験\n",
        "# import matplotlib.patches as patches とする流儀もあるがそれをしなくて済むならその方が簡単\n",
        "# 縦横比をあわせる as.axis('scaled') aspect比を 1 にする。真円にする。ax.set_aspect('equal') との違い\n",
        "# \n",
        "import matplotlib.pyplot as plt\n",
        "# fig, ax = plt.subplots()\n",
        "fig = plt.figure(figsize=(6,4))\n",
        "ax = fig.add_subplot()\n",
        "\n",
        "circle = plt.Circle((0, 0), radius=0.75, fc='r')\n",
        "ax.add_patch(circle)\n",
        "\n",
        "# ax.axis('scaled') # 真円にして、かつ画面を画像に合わせてサイジングする\n",
        "ax.set_aspect('equal') # 真円にするが、画面は変わらないので切れる\n",
        "ax.set_xlim(-2,2)\n",
        "# ax.set_axis_off() # 座標を消すのは\n",
        "plt.show()"
      ],
      "execution_count": null,
      "outputs": [
        {
          "output_type": "display_data",
          "data": {
            "image/png": "[encoded data removed]",
            "text/plain": [
              "<Figure size 432x288 with 1 Axes>"
            ]
          },
          "metadata": {
            "tags": [],
            "needs_background": "light"
          }
        }
      ]
    },
    {
      "cell_type": "code",
      "metadata": {
        "id": "MVV9Diqpi7en",
        "colab": {
          "base_uri": "https://localhost:8080/",
          "height": 264
        },
        "outputId": "43eb69c3-e4ec-448d-c745-829cbe2b5257"
      },
      "source": [
        "import matplotlib.pyplot as plt\n",
        "fig, ax = plt.subplots()\n",
        "\n",
        "rectangle = plt.Rectangle((10, 10), 100, 100, fc='r')\n",
        "ax.add_patch(rectangle)\n",
        "\n",
        "ax.axis('scaled')\n",
        "plt.show()"
      ],
      "execution_count": null,
      "outputs": [
        {
          "output_type": "display_data",
          "data": {
            "image/png": "[encoded data removed]",
            "text/plain": [
              "<Figure size 288x288 with 1 Axes>"
            ]
          },
          "metadata": {
            "tags": [],
            "needs_background": "light"
          }
        }
      ]
    },
    {
      "cell_type": "code",
      "metadata": {
        "id": "Pxp6uAv1jems",
        "colab": {
          "base_uri": "https://localhost:8080/",
          "height": 70
        },
        "outputId": "11879b77-7412-4018-c7d2-f22b543f8737"
      },
      "source": [
        "import matplotlib.pyplot as plt\n",
        "fig, ax = plt.subplots()\n",
        "\n",
        "# Line2D は add_patch ではなく、add_line であることに注意\n",
        "# 最初のタプルが x 座標で、次のタプルが y 座標\n",
        "line = plt.Line2D((2, 8), (6, 6), lw=2.5)\n",
        "ax.add_line(line)\n",
        "\n",
        "ax.axis('scaled')\n",
        "plt.show()\n"
      ],
      "execution_count": null,
      "outputs": [
        {
          "output_type": "display_data",
          "data": {
            "image/png": "[encoded data removed]",
            "text/plain": [
              "<Figure size 288x288 with 1 Axes>"
            ]
          },
          "metadata": {
            "tags": [],
            "needs_background": "light"
          }
        }
      ]
    },
    {
      "cell_type": "code",
      "metadata": {
        "id": "ixD0oPxmkiRe",
        "colab": {
          "base_uri": "https://localhost:8080/",
          "height": 65
        },
        "outputId": "a9e7011f-bf4d-4fd2-a5e8-be1bdbba1a7a"
      },
      "source": [
        "import matplotlib.pyplot as plt\n",
        "fig, ax = plt.subplots()\n",
        "\n",
        "# ls が線のスタイルで、marker は start, end\n",
        "dotted_line = plt.Line2D((2, 8), (4, 4), lw=5., \n",
        "                         ls='-.', marker='.', \n",
        "                         markersize=50, \n",
        "                         markerfacecolor='r', \n",
        "                         markeredgecolor='k', \n",
        "                         alpha=0.5)\n",
        "plt.gca().add_line(dotted_line)\n",
        "\n",
        "ax.axis('scaled')\n",
        "plt.show()\n"
      ],
      "execution_count": null,
      "outputs": [
        {
          "output_type": "display_data",
          "data": {
            "image/png": "[encoded data removed]",
            "text/plain": [
              "<Figure size 288x288 with 1 Axes>"
            ]
          },
          "metadata": {
            "tags": [],
            "needs_background": "light"
          }
        }
      ]
    },
    {
      "cell_type": "markdown",
      "metadata": {
        "id": "vWsejH-Slr8U"
      },
      "source": [
        "# 多角形 polygon"
      ]
    },
    {
      "cell_type": "code",
      "metadata": {
        "id": "if7KIdCulu_9",
        "colab": {
          "base_uri": "https://localhost:8080/",
          "height": 215
        },
        "outputId": "46ba56c7-b035-4a8f-c062-1ff709475809"
      },
      "source": [
        "import matplotlib.pyplot as plt\n",
        "fig, ax = plt.subplots()\n",
        "\n",
        "# 頂点の座標のリストを引数とする\n",
        "points = [[8, 1],[8, 4],[7,3],[2, 1],[5,4],[4,2],[3,4]]\n",
        "polygon = plt.Polygon(points)\n",
        "ax.add_patch(polygon)\n",
        "\n",
        "ax.axis('scaled')\n",
        "plt.show()\n",
        "\n",
        "\n",
        "\n"
      ],
      "execution_count": 8,
      "outputs": [
        {
          "output_type": "display_data",
          "data": {
            "image/png": "[encoded data removed]",
            "text/plain": [
              "<Figure size 432x288 with 1 Axes>"
            ]
          },
          "metadata": {
            "tags": [],
            "needs_background": "light"
          }
        }
      ]
    },
    {
      "cell_type": "markdown",
      "metadata": {
        "id": "nPuRI3VImjRu"
      },
      "source": [
        "# いまここ"
      ]
    },
    {
      "cell_type": "code",
      "metadata": {
        "colab": {
          "base_uri": "https://localhost:8080/",
          "height": 177
        },
        "id": "u37ywz3gTIgD",
        "outputId": "02744fdd-d2c1-4ede-a5b9-8185322e1f50"
      },
      "source": [
        "import matplotlib.pyplot as plt\n",
        "import matplotlib.patches as patch\n",
        "import matplotlib as mpl\n",
        " \n",
        "# fig, ax = plt.subplots()\n",
        "fig = plt.figure(figsize=(12,2))\n",
        "ax = fig.add_subplot()\n",
        " \n",
        "circ = patch.Circle(xy=(3, 3), radius=2, ec='b', fc='gray')\n",
        "elli = patch.Ellipse(xy=(2, 1), width=2, height=1, ec='g', fill=False, angle=10)\n",
        "rect = patch.Rectangle(xy=(1, 2), width=3, height=2, ec='b', fc='w', angle=30)\n",
        " \n",
        "ax.add_patch(circ)\n",
        "ax.add_patch(elli)\n",
        "ax.add_patch(rect)\n",
        " \n",
        "ax.set_xlim(0, 6)\n",
        "ax.set_ylim(0, 6)\n",
        "ax.set_aspect('equal')\n",
        "# size = fig.get_size_inches()*fig.dpi # size in pixels\n",
        "size = fig.get_size_inches()\n",
        "print(size)\n",
        "plt.show()"
      ],
      "execution_count": null,
      "outputs": [
        {
          "output_type": "stream",
          "text": [
            "[12.  2.]\n"
          ],
          "name": "stdout"
        },
        {
          "output_type": "display_data",
          "data": {
            "image/png": "[encoded data removed]",
            "text/plain": [
              "<Figure size 864x144 with 1 Axes>"
            ]
          },
          "metadata": {
            "tags": [],
            "needs_background": "light"
          }
        }
      ]
    },
    {
      "cell_type": "code",
      "metadata": {
        "id": "mRFdoYoChgPI",
        "colab": {
          "base_uri": "https://localhost:8080/",
          "height": 264
        },
        "outputId": "6565b8a4-0759-42a7-d7dd-cc944d4ec2e3"
      },
      "source": [
        "import matplotlib.pyplot as plt\n",
        "import matplotlib.patches as patches\n",
        "\n",
        "fig = plt.figure()\n",
        "ax = plt.axes()\n",
        "\n",
        "# fc = face color, ec = edge color\n",
        "c = patches.Circle(xy=(0, 0), radius=0.5, fc='g', ec='r')\n",
        "e = patches.Ellipse(xy=(-0.25, 0), width=0.5, height=0.25, fc='b', ec='y')\n",
        "r = patches.Rectangle(xy=(0, 0), width=0.25, height=0.5, ec='#000000', fill=False)\n",
        "ax.add_patch(c)\n",
        "ax.add_patch(e)\n",
        "ax.add_patch(r)\n",
        "\n",
        "plt.axis('scaled')\n",
        "ax.set_aspect('equal')\n",
        "\n",
        "# plt.savefig('data/dst/matplotlib_patches.png')"
      ],
      "execution_count": null,
      "outputs": [
        {
          "output_type": "display_data",
          "data": {
            "image/png": "[encoded data removed]",
            "text/plain": [
              "<Figure size 288x288 with 1 Axes>"
            ]
          },
          "metadata": {
            "tags": [],
            "needs_background": "light"
          }
        }
      ]
    },
    {
      "cell_type": "code",
      "metadata": {
        "id": "B1OWWMBa7pgB"
      },
      "source": [
        ""
      ],
      "execution_count": null,
      "outputs": []
    },
    {
      "cell_type": "markdown",
      "metadata": {
        "id": "fAK4dxqLHRA8"
      },
      "source": [
        "# 座標軸を消す ax.set_axis_off() を発見!!!!\n",
        "\n",
        "どうやって発見したかを書いておこう。 dir(ax) で subplot で作られた描画領域にどんなメソッドがあるか見れる。その中に set_axis_off というのがあったので使ってみて見つけた。\n",
        "\n",
        "使ってみて、それからhelpでdocstringを読んで、それで完璧。\n",
        "\n",
        "matplotlibはpythonのモジュールなので、pythonのhelpやdirが使えるので、マニュアルがなくても、マニュアルに細かいことが書いてなくても、やりたいことが言語化できれば探せる。\n",
        "\n",
        "ax.axis(\"off\") でも消えるって。 => 消えたけど、plt.show()したら消えてなかった。ax.set_axis_off()の方がいいね。\n",
        "\n",
        "もう一つ、pylab.box(False) というのを使っている人がいた。これも import するモジュールが１つ増えるのでボツ。\n"
      ]
    },
    {
      "cell_type": "markdown",
      "metadata": {
        "id": "lCnyll5xVyCH"
      },
      "source": [
        "# Colabにようこそ、の例\n"
      ]
    },
    {
      "cell_type": "code",
      "metadata": {
        "id": "wbcBZkoTV5Zu",
        "colab": {
          "base_uri": "https://localhost:8080/",
          "height": 279
        },
        "outputId": "01b11ec2-f8f2-4793-c188-7f49333a96fb"
      },
      "source": [
        "from matplotlib import pyplot as plt\n",
        "import numpy as np\n",
        "\n",
        "ys = 200 + np.random.randn(100)\n",
        "x = [x for x in range(len(ys))]\n",
        "\n",
        "plt.plot(x, ys, '-')\n",
        "plt.fill_between(x, ys, 195, where=(ys > 195), facecolor='g', alpha=0.6)\n",
        "\n",
        "plt.title(\"Sample Visualization\")\n",
        "plt.show()"
      ],
      "execution_count": null,
      "outputs": [
        {
          "output_type": "display_data",
          "data": {
            "image/png": "[encoded data removed]",
            "text/plain": [
              "<Figure size 288x288 with 1 Axes>"
            ]
          },
          "metadata": {
            "tags": [],
            "needs_background": "light"
          }
        }
      ]
    },
    {
      "cell_type": "markdown",
      "metadata": {
        "id": "KFF-0lpgjpeJ"
      },
      "source": [
        "# 数直線\n"
      ]
    },
    {
      "cell_type": "code",
      "metadata": {
        "id": "FfjeTKyvjz_x",
        "colab": {
          "base_uri": "https://localhost:8080/",
          "height": 140
        },
        "outputId": "38844b72-7b5a-46c0-ab25-75615859686f"
      },
      "source": [
        "import matplotlib.pyplot as plt\n",
        "import numpy as np\n",
        "\n",
        "fig = plt.figure(figsize=(12,2))\n",
        "ax = fig.add_subplot(xlim=(-4,4), ylim=(0, 1.0))\n",
        "\n",
        "# blue arrow\n",
        "ax.arrow(-3.5, 0.5, 7, 0.0, head_width=0.1, head_length=0.15, linewidth=4, color='b', length_includes_head=True)\n",
        "ax.arrow(3.5, 0.5, -7, 0, head_width=0.1, head_length=0.15, linewidth=4, color='b', length_includes_head=True)\n",
        "\n",
        "x = [-3, -2, -1, 0, 1, 2, 3]\n",
        "y = [0.5, 0.5, 0.5, 0.5, 0.5, 0.5, 0.5]\n",
        "data_name = [\"-3\", \"-2\", \"-1\", \"0\", \"1\", \"2\", \"3\"]\n",
        "ax.plot(x, y, 'r|', ms=\"40\")\n",
        "\n",
        "xy = zip (x, y)\n",
        "xy_name = zip (xy, data_name)\n",
        "for (i, name) in zip (xy, data_name) :\n",
        "    ax.annotate(name,i, xycoords='data', xytext=(-7,-40), textcoords='offset points', fontsize=20)\n",
        "# for (i, j, name) in zip (x, y, data_name) :\n",
        "#     plt.text(i, j, name, fontsize=15, position=(i-0.05, j-0.2))\n",
        "\n",
        "ax.set_axis_off()\n",
        "plt.show()"
      ],
      "execution_count": null,
      "outputs": [
        {
          "output_type": "display_data",
          "data": {
            "image/png": "[encoded data removed]",
            "text/plain": [
              "<Figure size 864x144 with 1 Axes>"
            ]
          },
          "metadata": {
            "tags": [],
            "needs_background": "light"
          }
        }
      ]
    },
    {
      "cell_type": "code",
      "metadata": {
        "id": "3N7-cka5rGt8",
        "colab": {
          "base_uri": "https://localhost:8080/",
          "height": 62
        },
        "outputId": "af792c28-f305-4f6b-d2d2-661e86e94b42"
      },
      "source": [
        "import matplotlib.pyplot as plt\n",
        "import numpy as np\n",
        "\n",
        "# 配列を生成\n",
        "rand_size = 7 # 配列のサイズ\n",
        "rand = np.random.random_sample(rand_size) # 0-1の間のrandomをrand_size個生成\n",
        "rand = sorted(rand) #ソート\n",
        "y = [0]*rand_size # random_size個の 0 の配列\n",
        "\n",
        "#数直線\n",
        "fig,ax=plt.subplots(figsize=(10,1)) #画像サイズ\n",
        "# fig.set_figheight(1) #高さ調整\n",
        "# ax.tick_params(labelbottom=True, bottom=False) #x軸設定\n",
        "# ax.tick_params(labelleft=False, left=False) #y軸設定\n",
        "\n",
        "xmin, xmax= 0,1 #数直線の最小値・最大値\n",
        "plt.tight_layout() #グラフの自動調整\n",
        "plt.scatter(rand,y,c='r') #散布図\n",
        "plt.hlines(y=0,xmin=xmin,xmax=xmax) #横軸\n",
        "plt.vlines(x=[i for i in range(xmin,xmax+1,1)],ymin=-0.04,ymax=0.04) #目盛り線（大）\n",
        "plt.vlines(x=[i/10 for i in range(xmin*10,xmax*10+1,1)],ymin=-0.02,ymax=0.02) #目盛り線（小）\n",
        "line_width=0.1#目盛り数値の刻み幅\n",
        "plt.xticks(np.arange(xmin,xmax+line_width,line_width)) #目盛り数値\n",
        "# pylab.box(False) #枠を消す\n",
        "# plt.gca().spines['right'].set_visible(False)\n",
        "# plt.gca().spines['left'].set_visible(False)\n",
        "# ax.gca().set_visible(False)\n",
        "# ax.spines().set_visble(False)\n",
        "# ax.spines().set_visible()\n",
        "ax.set_axis_off()\n",
        "plt.show()"
      ],
      "execution_count": null,
      "outputs": [
        {
          "output_type": "display_data",
          "data": {
            "image/png": "[encoded data removed]",
            "text/plain": [
              "<Figure size 720x72 with 1 Axes>"
            ]
          },
          "metadata": {
            "tags": [],
            "needs_background": "light"
          }
        }
      ]
    },
    {
      "cell_type": "code",
      "metadata": {
        "id": "Aj81GYZmrMWk",
        "colab": {
          "base_uri": "https://localhost:8080/",
          "height": 148
        },
        "outputId": "02c68790-785e-4500-d6ee-04754a675eb0"
      },
      "source": [
        "import matplotlib.pyplot as plt\n",
        "import numpy as np\n",
        "\n",
        "rand_size = 7 \n",
        "rand = np.random.random_sample(rand_size) # 0-1の間のrandomをrand_size個生成\n",
        "rand = sorted(rand) \n",
        "y = [0]*rand_size # y=0 をrand_size個生成\n",
        "\n",
        "#数直線\n",
        "fig,ax=plt.subplots(figsize=(10,10)) #画像サイズ\n",
        "fig.set_figheight(1) #高さ調整\n",
        "ax.tick_params(labelbottom=True, bottom=False) #x軸設定\n",
        "ax.tick_params(labelleft=False, left=False) #y軸設定\n",
        "\n",
        "#数直線上の数値を表示\n",
        "for i in range(int(rand_size/2)+1):\n",
        "    ax.annotate('{0:.3f}'.format(rand[2*i]),\n",
        "                 xy=(rand[2*i],y[2*i]),\n",
        "                 xytext=(10, 20),\n",
        "                 textcoords='offset points',\n",
        "                 arrowprops=dict(arrowstyle=\"->\",connectionstyle=\"arc3,rad=.3\")\n",
        "                )\n",
        "\n",
        "for i in range(int(rand_size/2)):\n",
        "    ax.annotate('{0:.3f}'.format(rand[2*i+1]),\n",
        "                 xy=(rand[2*i+1],y[2*i+1]),\n",
        "                 xytext=(10, -50),\n",
        "                 textcoords='offset points',\n",
        "                 arrowprops=dict(arrowstyle=\"->\",connectionstyle=\"arc3,rad=-.3\")\n",
        "                )\n",
        "\n",
        "xmin, xmax= 0,1 #数直線の最小値・最大値\n",
        "plt.tight_layout() #グラフの自動調整\n",
        "plt.scatter(rand,y,c='r') #散布図\n",
        "plt.hlines(y=0,xmin=xmin,xmax=xmax) #横軸\n",
        "plt.vlines(x=[i for i in range(xmin,xmax+1,1)],ymin=-0.04,ymax=0.04) #目盛り線（大）\n",
        "plt.vlines(x=[i/10 for i in range(xmin*10,xmax*10+1,1)],ymin=-0.02,ymax=0.02) #目盛り線（小）\n",
        "line_width=0.1#目盛り数値の刻み幅\n",
        "plt.xticks(np.arange(xmin,xmax+line_width,line_width)) #目盛り数値\n",
        "# ax.set_axis_off()\n",
        "plt.show()"
      ],
      "execution_count": null,
      "outputs": [
        {
          "output_type": "stream",
          "text": [
            "/usr/local/lib/python3.7/dist-packages/ipykernel_launcher.py:33: UserWarning: Tight layout not applied. The bottom and top margins cannot be made large enough to accommodate all axes decorations. \n"
          ],
          "name": "stderr"
        },
        {
          "output_type": "display_data",
          "data": {
            "image/png": "[encoded data removed]",
            "text/plain": [
              "<Figure size 720x72 with 1 Axes>"
            ]
          },
          "metadata": {
            "tags": [],
            "needs_background": "light"
          }
        }
      ]
    },
    {
      "cell_type": "code",
      "metadata": {
        "id": "APDhTXBeNaf0",
        "colab": {
          "base_uri": "https://localhost:8080/",
          "height": 377
        },
        "outputId": "1879f812-aa61-42a1-e346-92a106988f86"
      },
      "source": [
        "\n",
        "import matplotlib.pyplot as plt\n",
        "import numpy as np\n",
        "\n",
        "ax=plt.figure(figsize=(12,6)).add_subplot(xlim=(-4,4), ylim=(0, 1.0))\n",
        "\n",
        "plt.arrow(-3.5, 0.5, 7, 0, head_width=0.05, head_length=0.15, linewidth=4, color='b', length_includes_head=True)\n",
        "plt.arrow(3.5, 0.5, -7, 0, head_width=0.05, head_length=0.15, linewidth=4, color='b', length_includes_head=True)\n",
        "\n",
        "x = [-3, -2, -1, 0, 1, 2, 3]\n",
        "y = [0.5, 0.5, 0.5, 0.5, 0.5, 0.5, 0.5]\n",
        "data_name = [\"-3\", \"-2\", \"-1\", \"0\", \"1\", \"2\", \"3\"]\n",
        "plt.plot(x, y, 'r|', ms=\"40\")\n",
        "\n",
        "for (i, j, name) in zip (x, y, data_name) :\n",
        "    plt.text(i, j, name, fontsize=15, position=(i-0.05, j-0.2))\n",
        "\n",
        "# plt.savefig(\"numberline.svg\")\n",
        "plt.show()"
      ],
      "execution_count": null,
      "outputs": [
        {
          "output_type": "display_data",
          "data": {
            "image/png": "[encoded data removed]",
            "text/plain": [
              "<Figure size 864x432 with 1 Axes>"
            ]
          },
          "metadata": {
            "tags": [],
            "needs_background": "light"
          }
        }
      ]
    },
    {
      "cell_type": "code",
      "metadata": {
        "id": "0aAaQX81NBS0",
        "colab": {
          "base_uri": "https://localhost:8080/",
          "height": 264
        },
        "outputId": "1869f602-e926-40ad-bdf1-a5a98fc4f520"
      },
      "source": [
        "import numpy as np\n",
        "import matplotlib.pyplot as plt\n",
        "\n",
        "x = np.linspace (-1, 1)\n",
        "y = np.tan(x)\n",
        "\n",
        "plt.plot(x, y)\n",
        "plt.show()"
      ],
      "execution_count": null,
      "outputs": [
        {
          "output_type": "display_data",
          "data": {
            "image/png": "[encoded data removed]",
            "text/plain": [
              "<Figure size 288x288 with 1 Axes>"
            ]
          },
          "metadata": {
            "tags": [],
            "needs_background": "light"
          }
        }
      ]
    },
    {
      "cell_type": "code",
      "metadata": {
        "id": "Fsu--6n6Lhba",
        "colab": {
          "base_uri": "https://localhost:8080/",
          "height": 282
        },
        "outputId": "538edad3-2750-40a4-f15e-ebc4003c0cc9"
      },
      "source": [
        "import numpy as np\n",
        "import matplotlib.pyplot as plt\n",
        "\n",
        "plt.plot(2,3, \"r^\")"
      ],
      "execution_count": null,
      "outputs": [
        {
          "output_type": "execute_result",
          "data": {
            "text/plain": [
              "[<matplotlib.lines.Line2D at 0x7fbdaba0d1d0>]"
            ]
          },
          "metadata": {
            "tags": []
          },
          "execution_count": 100
        },
        {
          "output_type": "display_data",
          "data": {
            "image/png": "[encoded data removed]",
            "text/plain": [
              "<Figure size 288x288 with 1 Axes>"
            ]
          },
          "metadata": {
            "tags": [],
            "needs_background": "light"
          }
        }
      ]
    },
    {
      "cell_type": "markdown",
      "metadata": {
        "id": "Vv_31nKenhg8"
      },
      "source": [
        "# 点をプロットする"
      ]
    },
    {
      "cell_type": "code",
      "metadata": {
        "id": "QQWxXTjonahF",
        "colab": {
          "base_uri": "https://localhost:8080/",
          "height": 292
        },
        "outputId": "4d0a66ab-3684-4e0c-a459-c53575121d57"
      },
      "source": [
        "import numpy as np\n",
        "import matplotlib.pyplot as plt\n",
        "\n",
        "x = [1,2,3,4]\n",
        "y = [5,6,7,8]\n",
        "plt.plot(x, y, 'o-', label=\"test data\") \n",
        "plt.xlabel(\"x-axis\")   \n",
        "plt.ylabel(\"y-axis\")    \n",
        "# plt.legend(loc='best')  \n",
        "plt.legend()\n",
        "plt.title(\"title\")\n",
        "plt.show()"
      ],
      "execution_count": null,
      "outputs": [
        {
          "output_type": "display_data",
          "data": {
            "image/png": "[encoded data removed]",
            "text/plain": [
              "<Figure size 288x288 with 1 Axes>"
            ]
          },
          "metadata": {
            "tags": [],
            "needs_background": "light"
          }
        }
      ]
    },
    {
      "cell_type": "code",
      "metadata": {
        "id": "k9eaLx7vpyo3",
        "colab": {
          "base_uri": "https://localhost:8080/",
          "height": 264
        },
        "outputId": "f4c97d3a-993c-4ca3-9ace-04672fab61b4"
      },
      "source": [
        "import numpy as np\n",
        "import matplotlib.pyplot as plt\n",
        "\n",
        "x = [1,2,3,4]\n",
        "y1 = [5,6,7,8]\n",
        "y2 = [4,2,8,6]\n",
        "\n",
        "plt.plot(x, y1, 'o-', label='y1')  \n",
        "plt.plot(x, y2, 'o-', label='y2')  \n",
        "plt.legend(loc='best')             \n",
        "plt.show()"
      ],
      "execution_count": null,
      "outputs": [
        {
          "output_type": "display_data",
          "data": {
            "image/png": "[encoded data removed]",
            "text/plain": [
              "<Figure size 288x288 with 1 Axes>"
            ]
          },
          "metadata": {
            "tags": [],
            "needs_background": "light"
          }
        }
      ]
    },
    {
      "cell_type": "markdown",
      "metadata": {
        "id": "X3x5ysFVHrnS"
      },
      "source": [
        "# 関数\n",
        "\n",
        "`x = np.arange()` で範囲を決め、`y` を関数の値にしてプロットする。"
      ]
    },
    {
      "cell_type": "code",
      "metadata": {
        "id": "PBqAey1LHUHf",
        "colab": {
          "base_uri": "https://localhost:8080/",
          "height": 264
        },
        "outputId": "47d6859d-30b9-448a-a5de-0c9b6d7551ae"
      },
      "source": [
        "import numpy as np\n",
        "import matplotlib.pyplot as plt\n",
        "\n",
        "x = np.arange(-3.0, 3.0, 0.1)\n",
        "y = np.sin(x) * np.exp( -x)\n",
        "plt.plot(x, y, '-')\n",
        "plt.show()"
      ],
      "execution_count": null,
      "outputs": [
        {
          "output_type": "display_data",
          "data": {
            "image/png": "[encoded data removed]",
            "text/plain": [
              "<Figure size 288x288 with 1 Axes>"
            ]
          },
          "metadata": {
            "tags": [],
            "needs_background": "light"
          }
        }
      ]
    },
    {
      "cell_type": "markdown",
      "metadata": {
        "id": "4vmdCN8HIKsa"
      },
      "source": [
        "# ログスケールにする\n",
        "\n",
        "`plt.yscale('log')` で `y`軸がログスケールになる。"
      ]
    },
    {
      "cell_type": "code",
      "metadata": {
        "id": "-0amfVE9IAve",
        "colab": {
          "base_uri": "https://localhost:8080/",
          "height": 138
        },
        "outputId": "a731475a-4938-40da-9a6e-05418baeefdc"
      },
      "source": [
        "import numpy as np\n",
        "import matplotlib.pyplot ast pl\n",
        "\n",
        "x = np.arange( -3.0, 3.0, 0.01 )\n",
        "y = np.exp(-x) * np.cos(x)*np.cos(x)\n",
        "plt.plot(x, y, '-')\n",
        "plt.yscale('log')\n",
        "plt.show()"
      ],
      "execution_count": null,
      "outputs": [
        {
          "output_type": "error",
          "ename": "SyntaxError",
          "evalue": "ignored",
          "traceback": [
            "\u001b[0;36m  File \u001b[0;32m\"<ipython-input-105-ac3c336c82ea>\"\u001b[0;36m, line \u001b[0;32m2\u001b[0m\n\u001b[0;31m    import matplotlib.pyplot ast pl\u001b[0m\n\u001b[0m                               ^\u001b[0m\n\u001b[0;31mSyntaxError\u001b[0m\u001b[0;31m:\u001b[0m invalid syntax\n"
          ]
        }
      ]
    },
    {
      "cell_type": "code",
      "metadata": {
        "id": "oDuNKsNeJtmJ"
      },
      "source": [
        "%%writefile test.dat\n",
        "1 2 4\n",
        "3 4 9\n",
        "5 6 2\n",
        "7 8 4"
      ],
      "execution_count": null,
      "outputs": []
    },
    {
      "cell_type": "code",
      "metadata": {
        "id": "k3EKyYAyIslK"
      },
      "source": [
        "import numpy as np\n",
        "import matplotlib.pyplot as plt\n",
        "\n",
        "plt.plotfile('test.dat', cols=(0,1), names=('x','y'), delimiter=' ', marker='o', linestyle='--')\n",
        "\n",
        "plt.show()"
      ],
      "execution_count": null,
      "outputs": []
    },
    {
      "cell_type": "code",
      "metadata": {
        "id": "wPGtiKcmPtre"
      },
      "source": [
        "import numpy as np\n",
        "import matplotlib.pyplot as plt\n",
        "\n",
        "dat = np.loadtxt(\"test.dat\", comments='#', delimiter=' ')\n",
        "plt.plot( dat[:,0]/1000, dat[:,1], 'o-' )"
      ],
      "execution_count": null,
      "outputs": []
    },
    {
      "cell_type": "code",
      "metadata": {
        "id": "uMFDVZCeQN8z"
      },
      "source": [
        "import numpy as np\n",
        "import matplotlib.pyplot as plt\n",
        "\n",
        "names = ('x','y1','y2')\n",
        "plt.plotfile('test.dat', cols=(0,1), names=names, delimiter=' ', label=\"y1\")\n",
        "plt.plotfile('test.dat', cols=(0,2), names=names, delimiter=' ', label=\"y2\", newfig=False)\n",
        "plt.legend(loc='best')\n",
        "plt.show()"
      ],
      "execution_count": null,
      "outputs": []
    },
    {
      "cell_type": "code",
      "metadata": {
        "id": "KHVeXu0TQjHC"
      },
      "source": [
        "plt.figure()     # bufferのクリア\n",
        "x = [1,2,3,4]\n",
        "y = [5,6,7,8]\n",
        "plt.plot(x, y, 'o-', label=\"my data\")\n",
        "plt.xlabel(\"X\")\n",
        "plt.ylabel(\"Y\")\n",
        "plt.legend(loc='best')\n",
        "plt.savefig('plot.png')"
      ],
      "execution_count": null,
      "outputs": []
    },
    {
      "cell_type": "code",
      "metadata": {
        "id": "lgaFJQuxQrEc"
      },
      "source": [
        "!ls\n"
      ],
      "execution_count": null,
      "outputs": []
    },
    {
      "cell_type": "markdown",
      "metadata": {
        "id": "kvTDkr7cSUqL"
      },
      "source": [
        "# サインカーブ"
      ]
    },
    {
      "cell_type": "code",
      "metadata": {
        "id": "TgwMf-zRSWUZ"
      },
      "source": [
        "import matplotlib.pyplot as plt\n",
        "import numpy as np\n",
        "import math\n",
        "\n",
        "pi = math.pi   #mathモジュールのπを利用\n",
        "\n",
        "x = np.linspace(0, 2*pi, 100)  #0から2πまでの範囲を100分割したnumpy配列\n",
        "y = np.sin(x)\n",
        "\n",
        "plt.plot(x, y)\n",
        "plt.show()\n"
      ],
      "execution_count": null,
      "outputs": []
    },
    {
      "cell_type": "code",
      "metadata": {
        "id": "FwCoWIVCTAk1"
      },
      "source": [
        "import matplotlib.pyplot as plt\n",
        "import numpy as np\n",
        "import math\n",
        "\n",
        "pi = math.pi   #mathモジュールのπを利用\n",
        "\n",
        "x = np.linspace(0, 2*pi, 100)  #0から2πまでの範囲を100分割したnumpy配列\n",
        "y = np.sin(x)\n",
        "\n",
        "plt.plot(x, y, label='sin')\n",
        "plt.title('Sin Graph')\n",
        "plt.xlabel('X-Axis')\n",
        "plt.ylabel('Y-Axis')\n",
        "plt.legend()\n",
        "\n",
        "plt.show()\n"
      ],
      "execution_count": null,
      "outputs": []
    },
    {
      "cell_type": "code",
      "metadata": {
        "id": "Ro2FosCRTnrI"
      },
      "source": [
        "import matplotlib.pyplot as plt\n",
        "import numpy as np\n",
        "import math\n",
        "\n",
        "pi = math.pi   #mathモジュールのπを利用\n",
        "\n",
        "x = np.linspace(0, 2*pi, 100)  #0から2πまでの範囲を100分割したnumpy配列\n",
        "y = np.sin(x)\n",
        "cos_y = np.cos(x)\n",
        "\n",
        "plt.plot(x, y, label='sin')\n",
        "plt.plot(x, cos_y, label='cos')\n",
        "\n",
        "plt.title('Sin Graph')\n",
        "plt.xlabel('X-Axis')\n",
        "plt.ylabel('Y-Axis')\n",
        "plt.legend()\n",
        "\n",
        "plt.show()"
      ],
      "execution_count": null,
      "outputs": []
    },
    {
      "cell_type": "markdown",
      "metadata": {
        "id": "s7zIxJAqwAz9"
      },
      "source": [
        "# Usage Guide"
      ]
    },
    {
      "cell_type": "code",
      "metadata": {
        "id": "k8Zf0LTUwDk7"
      },
      "source": [
        "import matplotlib.pyplot as plt\n",
        "import numpy as np\n",
        "\n",
        "fig, ax = plt.subplots () # Create a figure containing a single axes.\n",
        "ax.plot([1, 2, 3, 4], [1, 4, 2, 3])  # Plot some data on the axes."
      ],
      "execution_count": null,
      "outputs": []
    },
    {
      "cell_type": "markdown",
      "metadata": {
        "id": "QV9nxNAT9BsH"
      },
      "source": [
        "### Parts of a Figure\n",
        "\n",
        "Title, Legend, Grid, Line (line plot), Major tick, Minor tick, Major tick label, Y axis label, Markers (scatter plot), Figure, Axes, Spines, X axis label, Minor tick label, canvas"
      ]
    },
    {
      "cell_type": "code",
      "metadata": {
        "id": "9cVQUvV69gpI"
      },
      "source": [
        "import matplotlib.pyplot as plt\n",
        "import numpy as np\n",
        "\n",
        "fig = plt.figure()  # an empty figure with no Axes\n",
        "fig, ax = plt.subplots()  # a figure with a single Axes\n",
        "# ax.set_axis_off()\n",
        "fig, axs = plt.subplots(2, 2)  # a figure with a 2x2 grid of Axes"
      ],
      "execution_count": null,
      "outputs": []
    },
    {
      "cell_type": "code",
      "metadata": {
        "id": "-4Ss9REHnmNF"
      },
      "source": [
        "dir(ax)"
      ],
      "execution_count": null,
      "outputs": []
    },
    {
      "cell_type": "code",
      "metadata": {
        "id": "Ym6IXR6n_YHm"
      },
      "source": [
        "# convert a pandas.DataFrame\n",
        "\n",
        "# a = pandas.DataFrame(np.random.rand(4, 5), columns = list('abcde'))\n",
        "# a_asarray = a.values"
      ],
      "execution_count": null,
      "outputs": []
    },
    {
      "cell_type": "code",
      "metadata": {
        "id": "tghefKCD_fY2"
      },
      "source": [
        "# convert a numpy.matrix\n",
        "\n",
        "# b = np.matrix([[1, 2], [3, 4]])\n",
        "# b_asarray = np.asarray(b)"
      ],
      "execution_count": null,
      "outputs": []
    },
    {
      "cell_type": "markdown",
      "metadata": {
        "id": "cYi_1umN_wdY"
      },
      "source": [
        "### OO-style vs. pyplot (matlib) style\n"
      ]
    },
    {
      "cell_type": "code",
      "metadata": {
        "id": "QLldzbbbc_9m"
      },
      "source": [
        "import matplotlib.pyplot as plt\n",
        "import numpy as np\n",
        "\n",
        "x = np.linspace(0, 2, 100)\n",
        "\n",
        "# Note that even in the OO-style, we use `.pyplot.figure` to create the figure.\n",
        "fig, ax = plt.subplots()  # Create a figure and an axes.\n",
        "ax.plot(x, x, label='linear')  # Plot some data on the axes.\n",
        "ax.plot(x, x**2, label='quadratic')  # Plot more data on the axes...\n",
        "ax.plot(x, x**3, label='cubic')  # ... and some more.\n",
        "ax.set_xlabel('x label')  # Add an x-label to the axes.\n",
        "ax.set_ylabel('y label')  # Add a y-label to the axes.\n",
        "ax.set_title(\"Simple Plot\")  # Add a title to the axes.\n",
        "ax.legend()  # Add a legend.\n",
        "ax.set_axis_off()\n",
        "# plt.show()"
      ],
      "execution_count": null,
      "outputs": []
    },
    {
      "cell_type": "code",
      "metadata": {
        "id": "DuKcc0yzdSJ3"
      },
      "source": [
        "print(np.linspace(0,49, 50))"
      ],
      "execution_count": null,
      "outputs": []
    },
    {
      "cell_type": "code",
      "metadata": {
        "id": "VlLqBLtwBKVW"
      },
      "source": [
        "import matplotlib.pyplot as plt\n",
        "import numpy as np\n",
        "\n",
        "def my_plotter(ax, data1, data2, param_dict):\n",
        "    \"\"\"\n",
        "    A helper function to make a graph\n",
        "\n",
        "    Parameters\n",
        "    ----------\n",
        "    ax : Axes\n",
        "        The axes to draw to\n",
        "\n",
        "    data1 : array\n",
        "       The x data\n",
        "\n",
        "    data2 : array\n",
        "       The y data\n",
        "\n",
        "    param_dict : dict\n",
        "       Dictionary of kwargs to pass to ax.plot\n",
        "\n",
        "    Returns\n",
        "    -------\n",
        "    out : list\n",
        "        list of artists added\n",
        "    \"\"\"\n",
        "    out = ax.plot(data1, data2, **param_dict)\n",
        "    return out"
      ],
      "execution_count": null,
      "outputs": []
    },
    {
      "cell_type": "code",
      "metadata": {
        "id": "Nc1OyKBrBckg"
      },
      "source": [
        "data1, data2, data3, data4 = np.random.randn(4, 10)\n",
        "fig, ax = plt.subplots(1, 1)\n",
        "my_plotter(ax, data1, data2, {'marker': 'x'})\n",
        "ax.set_axis_off()\n",
        "# ax.axis(\"off\")"
      ],
      "execution_count": null,
      "outputs": []
    },
    {
      "cell_type": "code",
      "metadata": {
        "id": "jlBmi4yGBh3n"
      },
      "source": [
        "fig, (ax1, ax2) = plt.subplots(1, 2)\n",
        "my_plotter(ax1, data1, data2, {'marker': 'x'})\n",
        "my_plotter(ax2, data3, data4, {'marker': ''})\n",
        "ax1.set_axis_off()\n",
        "ax2.set_axis_off()\n",
        "# ax.axis(\"off\")\n",
        "plt.show()"
      ],
      "execution_count": null,
      "outputs": []
    },
    {
      "cell_type": "markdown",
      "metadata": {
        "id": "Cnl4D0c_eiZH"
      },
      "source": [
        "\n",
        "Backends\n",
        "https://matplotlib.org/tutorials/introductory/usage.html#backends"
      ]
    },
    {
      "cell_type": "code",
      "metadata": {
        "id": "G27S1lwoE4pU"
      },
      "source": [
        "import matplotlib.pyplot as plt\n",
        "# plt.ion()\n",
        "plt.ioff()\n",
        "plt.plot([1.6, 2.7])"
      ],
      "execution_count": null,
      "outputs": []
    },
    {
      "cell_type": "code",
      "metadata": {
        "id": "dPUFKDXpFY-Z"
      },
      "source": [
        "\n",
        "plt.title(\"interactive test\")\n",
        "plt.xlabel(\"index\")"
      ],
      "execution_count": null,
      "outputs": []
    },
    {
      "cell_type": "code",
      "metadata": {
        "id": "uYtkPQhgFUHM"
      },
      "source": [
        "ax = plt.gca()\n",
        "ax.plot([3.1, 2.2])\n",
        "plt.draw()"
      ],
      "execution_count": null,
      "outputs": []
    },
    {
      "cell_type": "code",
      "metadata": {
        "id": "aonI40j1wKMo"
      },
      "source": [
        "import numpy as np\n",
        "import matplotlib.pyplot as plt\n",
        "\n",
        "for i in range(3):\n",
        "    plt.plot(np.random.rand(10))\n",
        "    plt.show()"
      ],
      "execution_count": null,
      "outputs": []
    },
    {
      "cell_type": "code",
      "metadata": {
        "id": "UU-YeUSI9-18"
      },
      "source": [
        "# from wikipedia\n",
        "import matplotlib.pyplot as plt\n",
        "import numpy as np\n",
        "fig, ax = plt.subplots() \n",
        "\n",
        "a = np.linspace(0,10,100)\n",
        "b = np.exp(-a)\n",
        "ax.plot(a,b)\n",
        "plt.show()"
      ],
      "execution_count": null,
      "outputs": []
    },
    {
      "cell_type": "code",
      "metadata": {
        "id": "t6NmU6oT-wBW"
      },
      "source": [
        "# from wikipedia\n",
        "import matplotlib.pyplot as plt\n",
        "from numpy.random import normal,rand\n",
        "fig, ax = plt.subplots() \n",
        "\n",
        "x = normal(size=200)\n",
        "ax.hist(x,bins=30)\n",
        "plt.show()"
      ],
      "execution_count": null,
      "outputs": []
    },
    {
      "cell_type": "code",
      "metadata": {
        "id": "2L3ojciV_LMH"
      },
      "source": [
        "# from wikipedia\n",
        "import matplotlib.pyplot as plt\n",
        "from numpy.random import rand\n",
        "fig, ax = plt.subplots() \n",
        "\n",
        "a = rand(100)\n",
        "b = rand(100)\n",
        "ax.scatter(a,b)\n",
        "plt.show()"
      ],
      "execution_count": null,
      "outputs": []
    },
    {
      "cell_type": "code",
      "metadata": {
        "id": "Tu8b9UKW_drQ"
      },
      "source": [
        "# from wikipedia\n",
        "\n",
        "from matplotlib import cm\n",
        "from mpl_toolkits.mplot3d import Axes3D\n",
        "import matplotlib.pyplot as plt\n",
        "import numpy as np\n",
        "fig = plt.figure()\n",
        "\n",
        "ax = fig.gca(projection='3d')\n",
        "X = np.arange(-5, 5, 0.25)\n",
        "Y = np.arange(-5, 5, 0.25)\n",
        "X, Y = np.meshgrid(X, Y)\n",
        "R = np.sqrt(X**2 + Y**2)\n",
        "Z = np.sin(R)\n",
        "surf = ax.plot_surface(X, Y, Z, rstride=1, cstride=1, cmap=cm.coolwarm)\n",
        "plt.show()"
      ],
      "execution_count": null,
      "outputs": []
    },
    {
      "cell_type": "markdown",
      "metadata": {
        "id": "E9L6dIT89FSY"
      },
      "source": [
        "# Pyplot tutorial\n",
        "\n",
        "ここから\n",
        "https://matplotlib.org/tutorials/introductory/pyplot.html#sphx-glr-tutorials-introductory-pyplot-py"
      ]
    },
    {
      "cell_type": "code",
      "metadata": {
        "id": "dR-OC67u9OLr"
      },
      "source": [
        "import matplotlib.pyplot as plt\n",
        "fig, ax = plt.subplots() \n",
        "\n",
        "ax.plot([1, 2, 3, 4])\n",
        "ax.set_ylabel('some numbers')\n",
        "plt.show()"
      ],
      "execution_count": null,
      "outputs": []
    },
    {
      "cell_type": "code",
      "metadata": {
        "id": "u92lyselZTQq"
      },
      "source": [
        "import matplotlib.pyplot as plt\n",
        "fig, ax = plt.subplots() \n",
        "ax.plot([1, 2, 3, 4], [1, 4, 9, 16])\n",
        "plt.show()"
      ],
      "execution_count": null,
      "outputs": []
    },
    {
      "cell_type": "code",
      "metadata": {
        "id": "CyZWdgvGZwb-"
      },
      "source": [
        "import matplotlib.pyplot as plt\n",
        "fig, ax = plt.subplots() \n",
        "\n",
        "ax.plot([1, 2, 3, 4], [1, 4, 9, 16], 'ro')\n",
        "ax.axis([0, 6, 0, 20])\n",
        "plt.show()"
      ],
      "execution_count": null,
      "outputs": []
    },
    {
      "cell_type": "code",
      "metadata": {
        "id": "3I867SDKfdWK"
      },
      "source": [
        "import matplotlib.pyplot as plt\n",
        "import numpy as np\n",
        "fig, ax = plt.subplots() \n",
        "\n",
        "# evenly sampled time at 200ms intervals\n",
        "t = np.arange(0., 5., 0.2)\n",
        "\n",
        "# red dashes, blue squares and green triangles\n",
        "ax.plot(t, t, 'r--', t, t**2, 'bs', t, t**3, 'g^')\n",
        "plt.show()"
      ],
      "execution_count": null,
      "outputs": []
    },
    {
      "cell_type": "code",
      "metadata": {
        "id": "zwaTKospiMRZ"
      },
      "source": [
        "import matplotlib.pyplot as plt\n",
        "import numpy as np\n",
        "fig, ax = plt.subplots() \n",
        "\n",
        "data = {'a': np.arange(50),\n",
        "        'c': np.random.randint(0, 50, 50),\n",
        "        'd': np.random.randn(50)}\n",
        "data['b'] = data['a'] + 10 * np.random.randn(50)\n",
        "data['d'] = np.abs(data['d']) * 100\n",
        "\n",
        "ax.scatter('a', 'b', c='c', s='d', data=data)\n",
        "ax.set_xlabel('entry a')\n",
        "ax.set_ylabel('entry b')\n",
        "plt.show()"
      ],
      "execution_count": null,
      "outputs": []
    },
    {
      "cell_type": "markdown",
      "metadata": {
        "id": "SSnDhxS47H6y"
      },
      "source": [
        "https://minus9d.hatenablog.com/entry/2015/01/26/225731\n",
        "matplotlibをオブジェクト指向スタイルで使う その1\n",
        "\n",
        "\n",
        "https://qiita.com/NTeTN/items/5a16389a1cbfad532a8f\n",
        "ゼロからはじめるmatplotlib〜4.オブジェクト指向スタイル〜"
      ]
    },
    {
      "cell_type": "code",
      "metadata": {
        "id": "OBqgPuDT7Am-"
      },
      "source": [
        "\n",
        "t = np.arange(0.0, 1.0, 0.01)\n",
        "\n",
        "####################\n",
        "#1つ目のウィンドウ\n",
        "####################\n",
        "fig1 = plt.figure(1)\n",
        "\n",
        "################################\n",
        "#1つ目のウィンドウ 1つ目のグラフ\n",
        "################################\n",
        "ax1 = fig1.add_subplot(211)\n",
        "ax1.plot(t, np.sin(2*np.pi*t))\n",
        "ax1.grid(True)\n",
        "ax1.set_ylim( (-2,2) )\n",
        "ax1.set_xlabel('t')\n",
        "ax1.set_ylabel('f(t)')\n",
        "ax1.set_title('sin function')\n",
        "\n",
        "################################\n",
        "#1つ目のウィンドウ 2つ目のグラフ\n",
        "################################\n",
        "ax2 = fig1.add_subplot(212)\n",
        "ax2.plot(t, np.cos(2*np.pi*t))\n",
        "ax2.grid(True)\n",
        "ax2.set_ylim( (-2,2) )\n",
        "ax2.set_xlabel('t')\n",
        "ax2.set_ylabel('f(t)')\n",
        "ax2.set_title('cos function')\n",
        "\n",
        "\n",
        "\n",
        "####################\n",
        "# 2つ目のウィンドウ\n",
        "####################\n",
        "fig2 = plt.figure(2)\n",
        "\n",
        "################################\n",
        "# 2つ目のウィンドウ 1つ目のグラフ\n",
        "################################\n",
        "# 等高線\n",
        "ax1 = fig2.add_subplot(211)\n",
        "n = 256\n",
        "x = np.linspace(-3, 3, n)\n",
        "y = np.linspace(-3, 3, n)\n",
        "X,Y = np.meshgrid(x, y)\n",
        "\n",
        "ax1.contourf(X, Y, f(X, Y), 8, alpha=.75, cmap=plt.cm.hot)\n",
        "C = ax1.contour(X, Y, f(X, Y), 8, colors='black', linewidth=.5)\n",
        "ax1.clabel(C, inline=1, fontsize=10)\n",
        "ax1.set_title('contour')\n",
        "\n",
        "################################\n",
        "# 2つ目のウィンドウ 2つ目のグラフ\n",
        "################################\n",
        "ax2 = fig2.add_subplot(212)\n",
        "ax2.plot([1, 4, 3, 6, 5, 9])\n",
        "ax2.grid(True)\n",
        "ax2.set_ylabel('values')\n",
        "ax2.set_title('points')\n",
        "\n",
        "\n",
        "\n",
        "################################\n",
        "# 2つのウィンドウを表示\n",
        "################################\n",
        "fig1.tight_layout()  # グラフの文字がかぶらないようにする\n",
        "fig2.tight_layout()  # グラフの文字がかぶらないようにする\n",
        "plt.show()\n",
        "\n"
      ],
      "execution_count": null,
      "outputs": []
    },
    {
      "cell_type": "code",
      "metadata": {
        "id": "BKb3Q6Dn8MAI"
      },
      "source": [
        "import matplotlib.pyplot as plt\n",
        "import numpy as np\n",
        "\n",
        "\n",
        "names = ['group_a', 'group_b', 'group_c']\n",
        "values = [1, 10, 100]\n",
        "\n",
        "plt.figure(figsize=(9, 3))\n",
        "\n",
        "plt.subplot(131)\n",
        "plt.bar(names, values)\n",
        "plt.subplot(132)\n",
        "plt.scatter(names, values)\n",
        "plt.subplot(133)\n",
        "plt.plot(names, values)\n",
        "plt.suptitle('Categorical Plotting')\n",
        "plt.show()"
      ],
      "execution_count": null,
      "outputs": []
    },
    {
      "cell_type": "code",
      "metadata": {
        "id": "5bDRueW9gftn"
      },
      "source": [
        "x = np.arange(0,2*np.pi,0.01)\n",
        "fig, ax = plt.subplots(1,2)\n",
        "\n",
        "# 左のグラフ\n",
        "ax[0].plot(x, np.sin(x))\n",
        "ax[0].set_title(\"sinx\")\n",
        "\n",
        "\n",
        "# 右のグラフ\n",
        "ax[1].plot(x, np.cos(x))\n",
        "ax[1].set_title(\"cosx\");"
      ],
      "execution_count": null,
      "outputs": []
    },
    {
      "cell_type": "code",
      "metadata": {
        "id": "HuMsFAzmgmbQ"
      },
      "source": [
        "x = np.arange(0,2*np.pi,0.01)\n",
        "\n",
        "# facecolorで外側をskyblueにしてみた。\n",
        "fig, ax = plt.subplots(1,2, facecolor='skyblue')\n",
        "\n",
        "# 左のグラフ\n",
        "ax[0].plot(x, np.sin(x))\n",
        "ax[0].set_title(\"sinx\")\n",
        "\n",
        "# 右のグラフ\n",
        "ax[1].plot(x, np.cos(x))\n",
        "ax[1].set_title(\"cosx\");\n",
        "\n",
        "# グラフの配置が自動調整されます。\n",
        "fig.tight_layout()"
      ],
      "execution_count": null,
      "outputs": []
    },
    {
      "cell_type": "code",
      "metadata": {
        "id": "EvyGZDWcgzdp"
      },
      "source": [
        "theta = np.arange(0,2*np.pi,0.01)\n",
        "\n",
        "# 全体のサイズ調節\n",
        "fig, ax = plt.subplots(2, 3, facecolor='skyblue')\n",
        "\n",
        "# 右上[0,0]\n",
        "ax[0,0].plot(theta, np.sin(theta))\n",
        "ax[0,0].set_title(\"sin\")\n",
        "ax[0,0].grid()\n",
        "\n",
        "# 中上[0,1]\n",
        "ax[0,1].plot(theta, np.cos(theta))\n",
        "ax[0,1].set_title(\"cos\")\n",
        "ax[0,1].grid()\n",
        "\n",
        "# 右上[0,2]\n",
        "ax[0,2].plot(theta-np.sin(theta), 1-np.cos(theta))\n",
        "ax[0,2].set_title(\"cycloid\")\n",
        "ax[0,2].grid()\n",
        "\n",
        "# 左下[1,0]\n",
        "ax[1,0].plot(np.power(np.cos(theta),3), np.power(np.sin(theta),3))\n",
        "ax[1,0].set_title(\"asteroid\")\n",
        "ax[1,0].grid()\n",
        "\n",
        "# 中下[1,1]\n",
        "ax[1,1].plot((1+np.cos(theta))*np.cos(theta), (1+np.cos(theta))*np.sin(theta))\n",
        "ax[1,1].set_title(\"cardioid\")\n",
        "ax[1,1].grid()\n",
        "\n",
        "# 右下[1,2]\n",
        "theta2 = np.arange(0,10*np.pi,0.01) # インボリュート曲線用\n",
        "ax[1,2].plot(np.cos(theta2)+theta2*np.sin(theta2), np.sin(theta2)-theta2*np.cos(theta2))\n",
        "ax[1,2].set_title(\"involute of circle\")\n",
        "ax[1,2].grid()\n",
        "\n",
        "# グラフ位置の自動調整\n",
        "fig.tight_layout()"
      ],
      "execution_count": null,
      "outputs": []
    },
    {
      "cell_type": "markdown",
      "metadata": {
        "id": "sd8ltuvmleEj"
      },
      "source": [
        "# text example"
      ]
    },
    {
      "cell_type": "markdown",
      "metadata": {
        "id": "-NHS7B14zS_j"
      },
      "source": [
        "# デカルト平面\n",
        "\n",
        "https://stackoverflow.com/questions/13430231/how-i-can-get-cartesian-coordinate-system-in-matplotlib\n",
        "\n",
        "How I can get cartesian coordinate system in matplotlib?"
      ]
    },
    {
      "cell_type": "code",
      "metadata": {
        "id": "zYrN8mbNldEz"
      },
      "source": [
        "import matplotlib\n",
        "import matplotlib.pyplot as plt\n",
        "\n",
        "fig = plt.figure()\n",
        "ax = fig.add_subplot(111)\n",
        "fig.subplots_adjust(top=0.85)\n",
        "\n",
        "# Set titles for the figure and the subplot respectively\n",
        "fig.suptitle('bold figure suptitle', fontsize=14, fontweight='bold')\n",
        "ax.set_title('axes title')\n",
        "\n",
        "ax.set_xlabel('xlabel')\n",
        "ax.set_ylabel('ylabel')\n",
        "\n",
        "# Set both x- and y-axis limits to [0, 10] instead of default [0, 1]\n",
        "ax.axis([0, 10, 0, 10])\n",
        "\n",
        "ax.text(3, 8, 'boxed italics text in data coords', style='italic',\n",
        "        bbox={'facecolor': 'red', 'alpha': 0.5, 'pad': 10})\n",
        "\n",
        "ax.text(2, 6, r'an equation: $E=mc^2$', fontsize=15)\n",
        "\n",
        "ax.text(3, 2, 'unicode: Institut für Festkörperphysik')\n",
        "\n",
        "ax.text(0.95, 0.01, 'colored text in axes coords',\n",
        "        verticalalignment='bottom', horizontalalignment='right',\n",
        "        transform=ax.transAxes,\n",
        "        color='green', fontsize=15)\n",
        "\n",
        "ax.text(0.99, 0.99, 'right top corner',\n",
        "        verticalalignment='top', horizontalalignment='right',\n",
        "        transform=ax.transAxes,\n",
        "        color='blue', fontsize=15)\n",
        "\n",
        "ax.text(1.5,1.0,'A',color='red',fontsize=20)\n",
        "\n",
        "ax.plot([2], [1], 'o')\n",
        "\n",
        "ax.annotate('annotate', xy=(2, 1), xytext=(3, 4),\n",
        "            arrowprops=dict(facecolor='black', shrink=0.05))\n",
        "\n",
        "plt.show()"
      ],
      "execution_count": null,
      "outputs": []
    },
    {
      "cell_type": "code",
      "metadata": {
        "id": "IlhO4gCa24IF"
      },
      "source": [
        "import matplotlib.pyplot as plt\n",
        "import numpy as np\n",
        "\n",
        "fig = plt.figure(figsize=(6,6))\n",
        "ax = fig.add_subplot(xlim=(-4,4), ylim=(-4, 4))\n",
        "\n",
        "# arrows\n",
        "ax.arrow(-3.5, 0.0, 7, 0.0, head_width=0.1, head_length=0.15, linewidth=4, color='b', length_includes_head=True)\n",
        "ax.arrow(3.5, 0.0, -7, 0, head_width=0.1, head_length=0.15, linewidth=4, color='b', length_includes_head=True)\n",
        "ax.arrow(0.0, -3.5, 0.0, 7.0, head_width=0.1, head_length=0.15, linewidth=4, color='b', length_includes_head=True)\n",
        "ax.arrow(0.0, 3.5, 0.0, -7.0, head_width=0.1, head_length=0.15, linewidth=4, color='b', length_includes_head=True)\n",
        "\n",
        "x1 = [-3, -2, -1, 1, 2, 3]\n",
        "y1 = [0.0, 0.0, 0.0, 0.0, 0.0, 0.0]\n",
        "data_name = [\"-3\", \"-2\", \"-1\", \"1\", \"2\", \"3\"]\n",
        "ax.plot(x1, y1, 'r|', ms=\"20\")\n",
        "\n",
        "x2 = [0,0,0,0,0,0]\n",
        "y2 = [-3,-2,-1,1,2,3]\n",
        "ax.plot(x2, y2, 'r_', ms=\"20\")\n",
        "ax.plot(2,2,\"ro\")\n",
        "ax.plot(0,0,\"ro\")\n",
        "\n",
        "for (i, j, name) in zip (x1, y1, data_name) :\n",
        "    ax.text(i, j, name, fontsize=15, position=(i-0.1, j-0.6))\n",
        "for (i, j, name) in zip (x2, y2, data_name) :\n",
        "    ax.text(i, j, name, fontsize=15, position=(i-0.5, j - 0.1))\n",
        "ax.annotate(\"Origin\",xy=(-0.2,0.2), xytext=(-2,2), ha='center', fontsize=15, arrowprops={'arrowstyle':'->'})\n",
        "ax.annotate(\"\",xy=(2,0), xytext=(2,2), arrowprops={'arrowstyle':'<-'})\n",
        "ax.annotate(\"\",xy=(0,2), xytext=(2,2), arrowprops={'arrowstyle':'<-'})\n",
        "ax.text(3.8,-0.2,\"$x$\",fontsize=15)\n",
        "ax.text(0.3,3.5,\"$y$\",fontsize=15)\n",
        "ax.text(2.2,2.0,\"$A (x, y)$\", fontsize=15)\n",
        "ax.set_axis_off()\n",
        "plt.show()\n"
      ],
      "execution_count": null,
      "outputs": []
    },
    {
      "cell_type": "code",
      "metadata": {
        "id": "x0ziBIDOz0Pf"
      },
      "source": [
        "from pylab import *\n",
        "import matplotlib.pyplot as plt\n",
        "\n",
        "x = [0,2,-3,-1.5]\n",
        "y = [0,3,1,-2.5]\n",
        "color=['m','g','r','b']\n",
        "\n",
        "fig = plt.figure()\n",
        "ax = fig.add_subplot(111)\n",
        "\n",
        "scatter(x,y, s=100 ,marker='o', c=color)\n",
        "\n",
        "[ plot( [dot_x,dot_x] ,[0,dot_y], '-', linewidth = 3 ) for dot_x,dot_y in zip(x,y) ] \n",
        "[ plot( [0,dot_x] ,[dot_y,dot_y], '-', linewidth = 3 ) for dot_x,dot_y in zip(x,y) ]\n",
        "\n",
        "left,right = ax.get_xlim()\n",
        "low,high = ax.get_ylim()\n",
        "arrow( left, 0, right -left, 0, length_includes_head = True, head_width = 0.15 )\n",
        "arrow( 0, low, 0, high-low, length_includes_head = True, head_width = 0.15 ) \n",
        "\n",
        "grid()\n",
        "\n",
        "show()"
      ],
      "execution_count": null,
      "outputs": []
    },
    {
      "cell_type": "code",
      "metadata": {
        "id": "s4j6-PP80E2J"
      },
      "source": [
        "ax = plt.gca()\n",
        "ax.spines['top'].set_color('none')\n",
        "ax.spines['bottom'].set_position('zero')\n",
        "ax.spines['left'].set_position('zero')\n",
        "ax.spines['right'].set_color('none')"
      ],
      "execution_count": null,
      "outputs": []
    },
    {
      "cell_type": "code",
      "metadata": {
        "id": "9_rsrPCf0NFI"
      },
      "source": [
        "import matplotlib.pyplot as plt\n",
        "import numpy as np\n",
        "\n",
        "fig, ax = plt.subplots(figsize=(10, 10))\n",
        "\n",
        "# Enter x,y coordinates and colors of points\n",
        "x = [0, 2, -3, -1.5]\n",
        "y = [0, 3, 1, -2.5]\n",
        "color = ['m', 'g', 'r', 'b']\n",
        "\n",
        "# Select length of axes and the space between tick labels\n",
        "xmin, xmax, ymin, ymax = -5, 5, -5, 5\n",
        "ticks_frequency = 1\n",
        "\n",
        "# Plot points\n",
        "ax.scatter(x, y, c=color)\n",
        "\n",
        "# Draw lines connecting points to axes\n",
        "[ax.plot([dot_x, dot_x], [0, dot_y], c=c, ls='--', lw=1.5, alpha=0.5) for dot_x, dot_y, c in zip(x, y, color)] \n",
        "[ax.plot([0, dot_x], [dot_y, dot_y], c=c, ls='--', lw=1.5, alpha=0.5) for dot_x, dot_y, c in zip(x, y, color)]\n",
        "\n",
        "# Set identical scales for both axes\n",
        "ax.set(xlim=(xmin-1, xmax+1), ylim=(ymin-1, ymax+1), aspect='equal')\n",
        "\n",
        "# Set bottom and left spines as x and y axes of coordinate system\n",
        "ax.spines['bottom'].set_position('zero')\n",
        "ax.spines['left'].set_position('zero')\n",
        "\n",
        "# Remove top and right spines\n",
        "ax.spines['top'].set_visible(False)\n",
        "ax.spines['right'].set_visible(False)\n",
        "\n",
        "# Create 'x' and 'y' labels placed at the end of the axes\n",
        "ax.set_xlabel('x', size=14, labelpad=15)"
      ],
      "execution_count": null,
      "outputs": []
    },
    {
      "cell_type": "code",
      "metadata": {
        "id": "NgU9y92N0Vpb"
      },
      "source": [
        "import matplotlib.pyplot as plt\n",
        "\n",
        "\n",
        "def build_cartesian_plane(max_quadrant_range):\n",
        "    \"\"\" The quadrant range controls the range of the quadrants\"\"\"\n",
        "    l = []\n",
        "    zeros = []\n",
        "    plt.grid(True, color='b', zorder=0,)\n",
        "    ax = plt.axes()\n",
        "    head_width = float(0.05) * max_quadrant_range\n",
        "    head_length = float(0.1) * max_quadrant_range\n",
        "    ax.arrow(0, 0, max_quadrant_range, 0, head_width=head_width, head_length=head_length, fc='k', ec='k',zorder=100)\n",
        "    ax.arrow(0, 0, -max_quadrant_range, 0, head_width=head_width, head_length=head_length, fc='k', ec='k', zorder=100)\n",
        "    ax.arrow(0, 0, 0, max_quadrant_range, head_width=head_width, head_length=head_length, fc='k', ec='k', zorder=100)\n",
        "    ax.arrow(0, 0, 0, -max_quadrant_range, head_width=head_width, head_length=head_length, fc='k', ec='k', zorder=100)\n",
        "    counter_dash_width = max_quadrant_range * 0.02\n",
        "    dividers = [0,.1,.2,.3,.4, .5, .6, .7, .8, .9, 1]\n",
        "    for i in dividers:\n",
        "        plt.plot([-counter_dash_width, counter_dash_width], [i*max_quadrant_range, i*max_quadrant_range], color='k')\n",
        "        plt.plot([i * max_quadrant_range, i*max_quadrant_range], [-counter_dash_width, counter_dash_width], color='k')\n",
        "        plt.plot([-counter_dash_width, counter_dash_width], [-i * max_quadrant_range, -i * max_quadrant_range], color='k')\n",
        "        plt.plot([-i * max_quadrant_range, -i * max_quadrant_range], [-counter_dash_width, counter_dash_width], color='k')\n",
        "        l.append(i * max_quadrant_range)\n",
        "        l.append(-i * max_quadrant_range)\n",
        "        zeros.append(0)\n",
        "        zeros.append(0)\n",
        "\n",
        "\n",
        "build_cartesian_plane(10)\n",
        "plt.show()"
      ],
      "execution_count": null,
      "outputs": []
    },
    {
      "cell_type": "markdown",
      "metadata": {
        "id": "b7de7UpcQSR2"
      },
      "source": [
        "# arrow style"
      ]
    },
    {
      "cell_type": "code",
      "metadata": {
        "id": "nTGy5kXCQU21"
      },
      "source": [
        "import numpy as np\n",
        "import matplotlib.pyplot as plt\n",
        "\n",
        "fig, ax = plt.subplots()\n",
        "x = np.linspace(0,1)\n",
        "ax.plot(x, x, 'o')\n",
        "\n",
        "ax.annotate('default line', xy=(0.15,0.1), xytext=(0.6,0.1),\n",
        "            arrowprops={'arrowstyle': '-'}, va='center')\n",
        "ax.annotate('dashed line', xy=(0.25,0.2), xytext=(0.6,0.2),\n",
        "            arrowprops={'arrowstyle': '-', 'ls': 'dashed'}, va='center')\n",
        "ax.annotate('default arrow', xy=(0.35,0.3), xytext=(0.6,0.3),\n",
        "            arrowprops={'arrowstyle': '->'}, va='center')\n",
        "ax.annotate('thick blue arrow', xy=(0.45,0.4), xytext=(0.6,0.4),\n",
        "            arrowprops={'arrowstyle': '->', 'lw': 4, 'color': 'blue'},\n",
        "            va='center')\n",
        "ax.annotate('double-headed arrow', xy=(0.45,0.5), xytext=(0.01,0.5),\n",
        "            arrowprops={'arrowstyle': '<->'}, va='center')\n",
        "ax.annotate('arrow with closed head', xy=(0.55,0.6), xytext=(0.1,0.6),\n",
        "            arrowprops={'arrowstyle': '-|>'}, va='center')\n",
        "ax.annotate('a really thick red arrow\\nwith not much space', xy=(0.65,0.7),\n",
        "            xytext=(0.1,0.7), va='center', multialignment='right',\n",
        "            arrowprops={'arrowstyle': '-|>', 'lw': 8, 'ec': 'r'})\n",
        "ax.annotate('a really thick red arrow\\nwith space between\\nthe tail and the'\n",
        "            'label', xy=(0.85,0.9), xytext=(0.1,0.9), va='center',\n",
        "            multialignment='right',\n",
        "            arrowprops={'arrowstyle': '-|>', 'lw': 8, 'ec': 'r', 'shrinkA': 10})\n",
        "\n",
        "plt.show()"
      ],
      "execution_count": null,
      "outputs": []
    }
  ]
}