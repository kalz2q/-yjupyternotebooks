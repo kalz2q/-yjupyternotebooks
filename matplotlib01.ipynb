{
  "nbformat": 4,
  "nbformat_minor": 0,
  "metadata": {
    "colab": {
      "name": "matplotlib01.ipynb",
      "provenance": [],
      "toc_visible": true,
      "authorship_tag": "ABX9TyPJbFToQrsKHVDVnwGmvCPy",
      "include_colab_link": true
    },
    "kernelspec": {
      "name": "python3",
      "display_name": "Python 3"
    }
  },
  "cells": [
    {
      "cell_type": "markdown",
      "metadata": {
        "id": "view-in-github",
        "colab_type": "text"
      },
      "source": [
        "<a href=\"https://colab.research.google.com/github/kalz2q/mycolabnotebooks/blob/master/matplotlib01.ipynb\" target=\"_parent\"><img src=\"https://colab.research.google.com/assets/colab-badge.svg\" alt=\"Open In Colab\"/></a>"
      ]
    },
    {
      "cell_type": "markdown",
      "metadata": {
        "id": "vv-_uiFAzsi0",
        "colab_type": "text"
      },
      "source": [
        "# メモ\n",
        "\n",
        "1. matplotlibで数直線とか、ただの三角とか描きたい。\n",
        "1. 本家サイト https://matplotlib.org/\n",
        "1. いろいろできあがりとか使い方のサイトはあるのだが基本からわからりたい。まああがいてみるか。"
      ]
    },
    {
      "cell_type": "code",
      "metadata": {
        "id": "1KuZqKsR0P3D",
        "colab_type": "code",
        "colab": {}
      },
      "source": [
        "import matplotlib.pyplot as plt\n",
        "import numpy as np"
      ],
      "execution_count": 1,
      "outputs": []
    },
    {
      "cell_type": "markdown",
      "metadata": {
        "id": "DTo14M910dtW",
        "colab_type": "text"
      },
      "source": [
        "まず気づくこと。1. インポートが `pyplot` なのですね。で `plt` これも変わった省略の仕方だ。2. `sympy` とかではなくて `numpy`をインポートする。\n",
        "\n",
        "`numpy` ってあまり Python の入門コースには出てこないけど。別途学ぶ必要があるかもしれない。\n",
        "\n",
        "おお、そう言えば `ndarray` って `numpy` かもしれない。"
      ]
    },
    {
      "cell_type": "markdown",
      "metadata": {
        "id": "-aRFdkQI1pFq",
        "colab_type": "text"
      },
      "source": [
        "ndarray は N-dimensional array だって。numpy の n ではなかった。\n",
        "\n",
        "あと、そもそも、python はリストとタプルなので、array という型はないみたい。"
      ]
    },
    {
      "cell_type": "code",
      "metadata": {
        "id": "oFfa8OyF17oP",
        "colab_type": "code",
        "colab": {
          "base_uri": "https://localhost:8080/",
          "height": 168
        },
        "outputId": "2bffe929-c369-410b-b65f-8d9093c78b93"
      },
      "source": [
        "import numpy as np\n",
        "arr = [[1, 2], [3, \"this\"]]\n",
        "# ndarray を作る\n",
        "a = np.array(arr)\n",
        "print (type (arr))\n",
        "print (type (a))\n",
        "print (a)\n",
        "print (a.ndim) # 次元吸う\n",
        "print (a.shape) # m * n\n",
        "print (a.size) # 要素数\n",
        "print (a.dtype) # データ型 int とか float とか\n",
        "print (a.data)"
      ],
      "execution_count": 19,
      "outputs": [
        {
          "output_type": "stream",
          "text": [
            "<class 'list'>\n",
            "<class 'numpy.ndarray'>\n",
            "[['1' '2']\n",
            " ['3' 'this']]\n",
            "2\n",
            "(2, 2)\n",
            "4\n",
            "<U21\n",
            "<memory at 0x7fe9cce8dea0>\n"
          ],
          "name": "stdout"
        }
      ]
    },
    {
      "cell_type": "code",
      "metadata": {
        "id": "CyJ3KxoP4PS2",
        "colab_type": "code",
        "colab": {
          "base_uri": "https://localhost:8080/",
          "height": 67
        },
        "outputId": "2d5c1dd8-8d24-4603-94ea-653f72820e64"
      },
      "source": [
        "np.zeros([3,3], dtype=int)"
      ],
      "execution_count": 24,
      "outputs": [
        {
          "output_type": "execute_result",
          "data": {
            "text/plain": [
              "array([[0, 0, 0],\n",
              "       [0, 0, 0],\n",
              "       [0, 0, 0]])"
            ]
          },
          "metadata": {
            "tags": []
          },
          "execution_count": 24
        }
      ]
    },
    {
      "cell_type": "code",
      "metadata": {
        "id": "kNVtcqpT4TiD",
        "colab_type": "code",
        "colab": {
          "base_uri": "https://localhost:8080/",
          "height": 67
        },
        "outputId": "f4f7534b-4624-4050-fefe-2f5b9a7f440f"
      },
      "source": [
        "np.ones([3,3], dtype=int)"
      ],
      "execution_count": 25,
      "outputs": [
        {
          "output_type": "execute_result",
          "data": {
            "text/plain": [
              "array([[1, 1, 1],\n",
              "       [1, 1, 1],\n",
              "       [1, 1, 1]])"
            ]
          },
          "metadata": {
            "tags": []
          },
          "execution_count": 25
        }
      ]
    }
  ]
}