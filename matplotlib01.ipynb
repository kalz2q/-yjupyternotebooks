{
  "nbformat": 4,
  "nbformat_minor": 0,
  "metadata": {
    "colab": {
      "name": "matplotlib01.ipynb",
      "provenance": [],
      "authorship_tag": "ABX9TyM6NHRcZh0+reQZnsp42WMF",
      "include_colab_link": true
    },
    "kernelspec": {
      "name": "python3",
      "display_name": "Python 3"
    }
  },
  "cells": [
    {
      "cell_type": "markdown",
      "metadata": {
        "id": "view-in-github",
        "colab_type": "text"
      },
      "source": [
        "<a href=\"https://colab.research.google.com/github/kalz2q/mycolabnotebooks/blob/master/matplotlib01.ipynb\" target=\"_parent\"><img src=\"https://colab.research.google.com/assets/colab-badge.svg\" alt=\"Open In Colab\"/></a>"
      ]
    },
    {
      "cell_type": "markdown",
      "metadata": {
        "id": "vv-_uiFAzsi0",
        "colab_type": "text"
      },
      "source": [
        "# メモ\n",
        "\n",
        "1. matplotlibで数直線とか、ただの三角とか描きたい。\n",
        "1. 本家サイト https://matplotlib.org/\n",
        "1. いろいろできあがりとか使い方のサイトはあるのだが基本からわからりたい。まああがいてみるか。\n",
        "1. どうやらmatplotlibは数直線とかただの三角形を描くには向いていないみたいだが、SVGで描くのもめんどうかもしれない。考えよう。"
      ]
    },
    {
      "cell_type": "markdown",
      "metadata": {
        "id": "X0efcC-yVrUw",
        "colab_type": "text"
      },
      "source": [
        "# 導入"
      ]
    },
    {
      "cell_type": "code",
      "metadata": {
        "id": "1KuZqKsR0P3D",
        "colab_type": "code",
        "colab": {}
      },
      "source": [
        "import matplotlib.pyplot as plt\n",
        "import numpy as np"
      ],
      "execution_count": null,
      "outputs": []
    },
    {
      "cell_type": "markdown",
      "metadata": {
        "id": "DTo14M910dtW",
        "colab_type": "text"
      },
      "source": [
        "まず気づくこと\n",
        "1. インポートが `pyplot` なのですね。で `plt` これも変わった省略の仕方だ。`plot`->`plt`か。\n",
        "2. `sympy` とかではなくて `numpy`をインポートする。\n",
        "\n",
        "`numpy` ってあまり Python の入門コースには出てこないけど。別途学ぶ必要があるかもしれない。\n",
        "\n",
        "おお、そう言えば `ndarray` って `numpy` かもしれない。"
      ]
    },
    {
      "cell_type": "markdown",
      "metadata": {
        "id": "-aRFdkQI1pFq",
        "colab_type": "text"
      },
      "source": [
        "ndarray は N-dimensional array だって。numpy の n ではなかった。\n",
        "\n",
        "あと、そもそも、python はリストとタプルなので、array という型はないみたい。"
      ]
    },
    {
      "cell_type": "code",
      "metadata": {
        "id": "oFfa8OyF17oP",
        "colab_type": "code",
        "colab": {
          "base_uri": "https://localhost:8080/",
          "height": 168
        },
        "outputId": "c24d4a90-9b35-48a6-fc34-63085ea1bf6c"
      },
      "source": [
        "import numpy as np\n",
        "arr = [[1, 2], [3, 4]]\n",
        "# ndarray を作る\n",
        "a = np.array(arr)\n",
        "print (type (arr))\n",
        "print (type (a))\n",
        "print (a)\n",
        "print (a.ndim) # 次元吸う\n",
        "print (a.shape) # m * n\n",
        "print (a.size) # 要素数\n",
        "print (a.dtype) # データ型 int とか float とか\n",
        "print (a.data)"
      ],
      "execution_count": null,
      "outputs": [
        {
          "output_type": "stream",
          "text": [
            "<class 'list'>\n",
            "<class 'numpy.ndarray'>\n",
            "[[1 2]\n",
            " [3 4]]\n",
            "2\n",
            "(2, 2)\n",
            "4\n",
            "int64\n",
            "<memory at 0x7f91354bc1f8>\n"
          ],
          "name": "stdout"
        }
      ]
    },
    {
      "cell_type": "code",
      "metadata": {
        "id": "chxMsMKC8p7I",
        "colab_type": "code",
        "colab": {}
      },
      "source": [
        "np.ndarray?"
      ],
      "execution_count": null,
      "outputs": []
    },
    {
      "cell_type": "markdown",
      "metadata": {
        "id": "lCnyll5xVyCH",
        "colab_type": "text"
      },
      "source": [
        "### Colabにようこそ、の例\n"
      ]
    },
    {
      "cell_type": "code",
      "metadata": {
        "id": "wbcBZkoTV5Zu",
        "colab_type": "code",
        "colab": {
          "base_uri": "https://localhost:8080/",
          "height": 281
        },
        "outputId": "9a9b9f36-a25e-4408-efd5-b047d02626c3"
      },
      "source": [
        "import numpy as np\n",
        "from matplotlib import pyplot as plt\n",
        "\n",
        "ys = 200 + np.random.randn(100)\n",
        "x = [x for x in range(len(ys))]\n",
        "\n",
        "plt.plot(x, ys, '-')\n",
        "plt.fill_between(x, ys, 195, where=(ys > 195), facecolor='g', alpha=0.6)\n",
        "\n",
        "plt.title(\"Sample Visualization\")\n",
        "plt.show()"
      ],
      "execution_count": null,
      "outputs": [
        {
          "output_type": "display_data",
          "data": {
            "image/png": "[encoded data removed]",
            "text/plain": [
              "<Figure size 432x288 with 1 Axes>"
            ]
          },
          "metadata": {
            "tags": [],
            "needs_background": "light"
          }
        }
      ]
    },
    {
      "cell_type": "markdown",
      "metadata": {
        "id": "n7gj8ShMWDqM",
        "colab_type": "text"
      },
      "source": [
        "さて、\n",
        "\n",
        "> ys = 200 + np.random.randn(100)  \n",
        "> x = [x for x in range(len(ys))]\n",
        "\n",
        "は何をしているのか。"
      ]
    },
    {
      "cell_type": "code",
      "metadata": {
        "id": "-ENQlFgsWWVo",
        "colab_type": "code",
        "colab": {}
      },
      "source": [
        "np.random.randn?"
      ],
      "execution_count": null,
      "outputs": []
    },
    {
      "cell_type": "code",
      "metadata": {
        "id": "Cb0SaGw0WpCN",
        "colab_type": "code",
        "colab": {
          "base_uri": "https://localhost:8080/",
          "height": 35
        },
        "outputId": "8032ae6f-2be5-49be-ef59-ed68a047fda0"
      },
      "source": [
        "np.random.randn(2)"
      ],
      "execution_count": null,
      "outputs": [
        {
          "output_type": "execute_result",
          "data": {
            "text/plain": [
              "array([ 0.22753914, -1.5864957 ])"
            ]
          },
          "metadata": {
            "tags": []
          },
          "execution_count": 8
        }
      ]
    },
    {
      "cell_type": "markdown",
      "metadata": {
        "id": "h2bzaX33XFhk",
        "colab_type": "text"
      },
      "source": [
        "ということは200は何でもよくて、100も適当か。すこしいじってみよう。"
      ]
    },
    {
      "cell_type": "code",
      "metadata": {
        "id": "dwPzOKHpXPHe",
        "colab_type": "code",
        "colab": {
          "base_uri": "https://localhost:8080/",
          "height": 281
        },
        "outputId": "6f2b72b6-d73b-4190-f9fe-1410e853dcc3"
      },
      "source": [
        "import numpy as np\n",
        "from matplotlib import pyplot as plt\n",
        "\n",
        "ys = 10 + np.random.randn(10)\n",
        "x = [x for x in range(len(ys))]\n",
        "\n",
        "plt.plot(x, ys, 'b')\n",
        "plt.fill_between(x, ys, where=(ys > 10), facecolor='r', alpha=0.3)\n",
        "\n",
        "plt.title(\"Sample Visualization\")\n",
        "plt.show()"
      ],
      "execution_count": null,
      "outputs": [
        {
          "output_type": "display_data",
          "data": {
            "image/png": "[encoded data removed]",
            "text/plain": [
              "<Figure size 432x288 with 1 Axes>"
            ]
          },
          "metadata": {
            "tags": [],
            "needs_background": "light"
          }
        }
      ]
    },
    {
      "cell_type": "markdown",
      "metadata": {
        "id": "JodWBOJcadJ3",
        "colab_type": "text"
      },
      "source": [
        "`np.random.randn()` は引数の数の数列を作っている。  \n",
        "最小値、最大値はなんだろう。  \n",
        "見てみよう。"
      ]
    },
    {
      "cell_type": "code",
      "metadata": {
        "id": "qwJC9NOOaF4_",
        "colab_type": "code",
        "colab": {
          "base_uri": "https://localhost:8080/",
          "height": 52
        },
        "outputId": "dcc4e777-a55d-446e-8c2f-057542e311ac"
      },
      "source": [
        "print (max(np.random.randn(100)))\n",
        "print (min (np.random.randn(100)))"
      ],
      "execution_count": null,
      "outputs": [
        {
          "output_type": "stream",
          "text": [
            "1.5675539192839099\n",
            "-3.0653519334865305\n"
          ],
          "name": "stdout"
        }
      ]
    },
    {
      "cell_type": "markdown",
      "metadata": {
        "id": "Fzbtn57Wby2u",
        "colab_type": "text"
      },
      "source": [
        "ゼロを挟んで正規曲線なのですね。だいたい $\\pm2.5$ くらいだけど、まれに 3 以上のこともある。"
      ]
    },
    {
      "cell_type": "markdown",
      "metadata": {
        "id": "eQ9gCwlpddQm",
        "colab_type": "text"
      },
      "source": [
        "さて、次はプロットの部分だが。\n",
        "\n",
        "> plt.plot(x, ys, '-')  \n",
        "> plt.fill_between(x, ys, 195, where=(ys > 195), facecolor='g', alpha=0.6)\n",
        "\n",
        "さっきついでにいじくったのでわかったことがある。\n",
        "\n",
        "`plt.plot()` で線を引いている。`plt.fll_between()` は色を塗っている。 x軸、y軸を引いたり、範囲を決めたりするコードはない。別途グラフにタイトルはつけているが、軸上にある数値も自動でついている。"
      ]
    },
    {
      "cell_type": "code",
      "metadata": {
        "id": "Av7MKFaoe50k",
        "colab_type": "code",
        "colab": {
          "base_uri": "https://localhost:8080/",
          "height": 265
        },
        "outputId": "0bd71ae1-daf3-410b-ce67-35b868d7abf6"
      },
      "source": [
        "import numpy as np\n",
        "from matplotlib import pyplot as plt\n",
        "\n",
        "x = [-4, -3, 0, 1, 2, 3]\n",
        "y = [0, 0, 0, 0, 0, 0]\n",
        "\n",
        "plt.plot(x, y, '*')\n",
        "\n",
        "plt.show()"
      ],
      "execution_count": null,
      "outputs": [
        {
          "output_type": "display_data",
          "data": {
            "image/png": "[encoded data removed]",
            "text/plain": [
              "<Figure size 432x288 with 1 Axes>"
            ]
          },
          "metadata": {
            "tags": [],
            "needs_background": "light"
          }
        }
      ]
    },
    {
      "cell_type": "markdown",
      "metadata": {
        "id": "IXdDPRCTgYyz",
        "colab_type": "text"
      },
      "source": [
        "えっととりあえずの目的はグラフを描くことではなく、数直線や図形なのでその辺を選んでドキュメントや作例を見ていこう。"
      ]
    },
    {
      "cell_type": "markdown",
      "metadata": {
        "id": "KFF-0lpgjpeJ",
        "colab_type": "text"
      },
      "source": [
        "# 数直線\n",
        "\n",
        "horizontal line matplotlib\n",
        "\n",
        "arrow line matplotlib"
      ]
    },
    {
      "cell_type": "code",
      "metadata": {
        "id": "FfjeTKyvjz_x",
        "colab_type": "code",
        "colab": {
          "base_uri": "https://localhost:8080/",
          "height": 378
        },
        "outputId": "61a30bd0-3fc1-425b-8952-b0f13b0f24bf"
      },
      "source": [
        "import matplotlib.pyplot as plt\n",
        "\n",
        "plt.figure(figsize=(12,6))\n",
        "\n",
        "# red arrow\n",
        "plt.arrow(0.15, 0.5, 0.75, 0, head_width=0.05, head_length=0.03, linewidth=4, color='r', length_includes_head=True)\n",
        "\n",
        "# green arrow\n",
        "plt.arrow(0.85, 0.5, -0.70, 0, head_width=0.05, head_length=0.03, linewidth=4, color='g', length_includes_head=True)\n",
        "\n",
        "plt.show()"
      ],
      "execution_count": 10,
      "outputs": [
        {
          "output_type": "display_data",
          "data": {
            "image/png": "[encoded data removed]",
            "text/plain": [
              "<Figure size 864x432 with 1 Axes>"
            ]
          },
          "metadata": {
            "tags": [],
            "needs_background": "light"
          }
        }
      ]
    },
    {
      "cell_type": "code",
      "metadata": {
        "id": "P1eiALWqmzX0",
        "colab_type": "code",
        "colab": {}
      },
      "source": [
        "plt.arrow?"
      ],
      "execution_count": null,
      "outputs": []
    },
    {
      "cell_type": "markdown",
      "metadata": {
        "id": "5AgQkYF9q-Pv",
        "colab_type": "text"
      },
      "source": [
        "matplotlib  arrow 数直線\n",
        "で検索"
      ]
    },
    {
      "cell_type": "markdown",
      "metadata": {
        "id": "W5wT4XpdrAy9",
        "colab_type": "text"
      },
      "source": [
        ""
      ]
    },
    {
      "cell_type": "code",
      "metadata": {
        "id": "3N7-cka5rGt8",
        "colab_type": "code",
        "colab": {
          "base_uri": "https://localhost:8080/",
          "height": 114
        },
        "outputId": "fd08a72b-f9aa-44df-bab3-58c7ecdfbd11"
      },
      "source": [
        "import numpy as np\n",
        "import matplotlib.pyplot as plt\n",
        "import pylab\n",
        "%matplotlib inline\n",
        "\n",
        "#テキトーな配列を生成\n",
        "rand_size = 7 #配列のサイズ\n",
        "rand = np.random.random_sample(rand_size) #テキトーな配列を生成\n",
        "print(rand)\n",
        "rand = sorted(rand) #ソート\n",
        "y = [0]*rand_size #y=0\n",
        "\n",
        "#数直線\n",
        "fig,ax=plt.subplots(figsize=(10,10)) #画像サイズ\n",
        "fig.set_figheight(1) #高さ調整\n",
        "ax.tick_params(labelbottom=True, bottom=False) #x軸設定\n",
        "ax.tick_params(labelleft=False, left=False) #y軸設定\n",
        "\n",
        "xmin, xmax= 0,1 #数直線の最小値・最大値\n",
        "plt.tight_layout() #グラフの自動調整\n",
        "plt.scatter(rand,y,c='r') #散布図\n",
        "plt.hlines(y=0,xmin=xmin,xmax=xmax) #横軸\n",
        "plt.vlines(x=[i for i in range(xmin,xmax+1,1)],ymin=-0.04,ymax=0.04) #目盛り線（大）\n",
        "plt.vlines(x=[i/10 for i in range(xmin*10,xmax*10+1,1)],ymin=-0.02,ymax=0.02) #目盛り線（小）\n",
        "line_width=0.1#目盛り数値の刻み幅\n",
        "plt.xticks(np.arange(xmin,xmax+line_width,line_width)) #目盛り数値\n",
        "pylab.box(False) #枠を消す"
      ],
      "execution_count": 4,
      "outputs": [
        {
          "output_type": "stream",
          "text": [
            "[0.29298683 0.17855297 0.63544128 0.25550461 0.99171352 0.58464842\n",
            " 0.68744983]\n"
          ],
          "name": "stdout"
        },
        {
          "output_type": "display_data",
          "data": {
            "image/png": "[encoded data removed]",
            "text/plain": [
              "<Figure size 720x72 with 1 Axes>"
            ]
          },
          "metadata": {
            "tags": [],
            "needs_background": "light"
          }
        }
      ]
    },
    {
      "cell_type": "code",
      "metadata": {
        "id": "Aj81GYZmrMWk",
        "colab_type": "code",
        "colab": {
          "base_uri": "https://localhost:8080/",
          "height": 182
        },
        "outputId": "92ca5a0b-0528-44a2-84b0-8160883287a3"
      },
      "source": [
        "import numpy as np\n",
        "import matplotlib.pyplot as plt\n",
        "import pylab\n",
        "%matplotlib inline\n",
        "\n",
        "#テキトーな配列を生成\n",
        "rand_size = 7 #配列のサイズ\n",
        "rand = np.random.random_sample(rand_size) #テキトーな配列を生成\n",
        "print(rand)\n",
        "rand = sorted(rand) #ソート\n",
        "y = [0]*rand_size #y=0\n",
        "\n",
        "#数直線\n",
        "fig,ax=plt.subplots(figsize=(10,10)) #画像サイズ\n",
        "fig.set_figheight(1) #高さ調整\n",
        "ax.tick_params(labelbottom=True, bottom=False) #x軸設定\n",
        "ax.tick_params(labelleft=False, left=False) #y軸設定\n",
        "\n",
        "#数直線上の数値を表示\n",
        "for i in range(int(rand_size/2)+1):\n",
        "    ax.annotate('{0:.3f}'.format(rand[2*i]),\n",
        "                 xy=(rand[2*i],y[2*i]),\n",
        "                 xytext=(10, 20),\n",
        "                 textcoords='offset points',\n",
        "                 arrowprops=dict(arrowstyle=\"->\",connectionstyle=\"arc3,rad=.3\")\n",
        "                )\n",
        "\n",
        "for i in range(int(rand_size/2)):\n",
        "    ax.annotate('{0:.3f}'.format(rand[2*i+1]),\n",
        "                 xy=(rand[2*i+1],y[2*i+1]),\n",
        "                 xytext=(10, -50),\n",
        "                 textcoords='offset points',\n",
        "                 arrowprops=dict(arrowstyle=\"->\",connectionstyle=\"arc3,rad=-.3\")\n",
        "                )\n",
        "\n",
        "xmin, xmax= 0,1 #数直線の最小値・最大値\n",
        "plt.tight_layout() #グラフの自動調整\n",
        "plt.scatter(rand,y,c='r') #散布図\n",
        "plt.hlines(y=0,xmin=xmin,xmax=xmax) #横軸\n",
        "plt.vlines(x=[i for i in range(xmin,xmax+1,1)],ymin=-0.04,ymax=0.04) #目盛り線（大）\n",
        "plt.vlines(x=[i/10 for i in range(xmin*10,xmax*10+1,1)],ymin=-0.02,ymax=0.02) #目盛り線（小）\n",
        "line_width=0.1#目盛り数値の刻み幅\n",
        "plt.xticks(np.arange(xmin,xmax+line_width,line_width)) #目盛り数値\n",
        "pylab.box(False) #枠を消す"
      ],
      "execution_count": 6,
      "outputs": [
        {
          "output_type": "stream",
          "text": [
            "[0.0160644  0.15360279 0.61577728 0.76449449 0.14012963 0.80292844\n",
            " 0.08119071]\n"
          ],
          "name": "stdout"
        },
        {
          "output_type": "stream",
          "text": [
            "/usr/local/lib/python3.6/dist-packages/ipykernel_launcher.py:37: UserWarning: Tight layout not applied. The bottom and top margins cannot be made large enough to accommodate all axes decorations. \n"
          ],
          "name": "stderr"
        },
        {
          "output_type": "display_data",
          "data": {
            "image/png": "[encoded data removed]",
            "text/plain": [
              "<Figure size 720x72 with 1 Axes>"
            ]
          },
          "metadata": {
            "tags": [],
            "needs_background": "light"
          }
        }
      ]
    }
  ]
}