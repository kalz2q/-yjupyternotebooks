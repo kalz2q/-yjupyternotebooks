{
  "nbformat": 4,
  "nbformat_minor": 0,
  "metadata": {
    "colab": {
      "name": "matplotlib01.ipynb",
      "provenance": [],
      "toc_visible": true,
      "authorship_tag": "ABX9TyPfkLWG6HqTxUr3oeaRchnT",
      "include_colab_link": true
    },
    "kernelspec": {
      "name": "python3",
      "display_name": "Python 3"
    }
  },
  "cells": [
    {
      "cell_type": "markdown",
      "metadata": {
        "id": "view-in-github",
        "colab_type": "text"
      },
      "source": [
        "<a href=\"https://colab.research.google.com/github/kalz2q/mycolabnotebooks/blob/master/matplotlib01.ipynb\" target=\"_parent\"><img src=\"https://colab.research.google.com/assets/colab-badge.svg\" alt=\"Open In Colab\"/></a>"
      ]
    },
    {
      "cell_type": "markdown",
      "metadata": {
        "id": "vv-_uiFAzsi0",
        "colab_type": "text"
      },
      "source": [
        "# メモ\n",
        "\n",
        "1. matplotlibで数直線とか、ただの三角とか描きたい。\n",
        "1. 本家サイト https://matplotlib.org/\n",
        "1. いろいろできあがりとか使い方のサイトはあるのだが基本からわからりたい。まああがいてみるか。"
      ]
    },
    {
      "cell_type": "code",
      "metadata": {
        "id": "1KuZqKsR0P3D",
        "colab_type": "code",
        "colab": {}
      },
      "source": [
        "import matplotlib.pyplot as plt\n",
        "import numpy as np"
      ],
      "execution_count": null,
      "outputs": []
    },
    {
      "cell_type": "markdown",
      "metadata": {
        "id": "DTo14M910dtW",
        "colab_type": "text"
      },
      "source": [
        "まず気づくこと。1. インポートが `pyplot` なのですね。で `plt` これも変わった省略の仕方だ。2. `sympy` とかではなくて `numpy`をインポートする。\n",
        "\n",
        "`numpy` ってあまり Python の入門コースには出てこないけど。別途学ぶ必要があるかもしれない。\n",
        "\n",
        "おお、そう言えば `ndarray` って `numpy` かもしれない。"
      ]
    },
    {
      "cell_type": "markdown",
      "metadata": {
        "id": "-aRFdkQI1pFq",
        "colab_type": "text"
      },
      "source": [
        "ndarray は N-dimensional array だって。numpy の n ではなかった。\n",
        "\n",
        "あと、そもそも、python はリストとタプルなので、array という型はないみたい。"
      ]
    },
    {
      "cell_type": "code",
      "metadata": {
        "id": "oFfa8OyF17oP",
        "colab_type": "code",
        "colab": {
          "base_uri": "https://localhost:8080/",
          "height": 168
        },
        "outputId": "c24d4a90-9b35-48a6-fc34-63085ea1bf6c"
      },
      "source": [
        "import numpy as np\n",
        "arr = [[1, 2], [3, 4]]\n",
        "# ndarray を作る\n",
        "a = np.array(arr)\n",
        "print (type (arr))\n",
        "print (type (a))\n",
        "print (a)\n",
        "print (a.ndim) # 次元吸う\n",
        "print (a.shape) # m * n\n",
        "print (a.size) # 要素数\n",
        "print (a.dtype) # データ型 int とか float とか\n",
        "print (a.data)"
      ],
      "execution_count": 4,
      "outputs": [
        {
          "output_type": "stream",
          "text": [
            "<class 'list'>\n",
            "<class 'numpy.ndarray'>\n",
            "[[1 2]\n",
            " [3 4]]\n",
            "2\n",
            "(2, 2)\n",
            "4\n",
            "int64\n",
            "<memory at 0x7f91354bc1f8>\n"
          ],
          "name": "stdout"
        }
      ]
    },
    {
      "cell_type": "code",
      "metadata": {
        "id": "chxMsMKC8p7I",
        "colab_type": "code",
        "colab": {}
      },
      "source": [
        "np.ndarray?"
      ],
      "execution_count": 3,
      "outputs": []
    }
  ]
}