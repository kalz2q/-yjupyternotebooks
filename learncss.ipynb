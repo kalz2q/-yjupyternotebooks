{
  "nbformat": 4,
  "nbformat_minor": 0,
  "metadata": {
    "colab": {
      "name": "learncss.ipynb",
      "provenance": [],
      "toc_visible": true,
      "authorship_tag": "ABX9TyOjWw1SEv23TD96OCFFfbfY",
      "include_colab_link": true
    },
    "kernelspec": {
      "name": "python3",
      "display_name": "Python 3"
    }
  },
  "cells": [
    {
      "cell_type": "markdown",
      "metadata": {
        "id": "view-in-github",
        "colab_type": "text"
      },
      "source": [
        "<a href=\"https://colab.research.google.com/github/kalz2q/mycolabnotebooks/blob/master/learncss.ipynb\" target=\"_parent\"><img src=\"https://colab.research.google.com/assets/colab-badge.svg\" alt=\"Open In Colab\"/></a>"
      ]
    },
    {
      "cell_type": "markdown",
      "metadata": {
        "id": "hGm2x-JRqV46"
      },
      "source": [
        "# メモ\n",
        "1. Colab で CSS を勉強する。%%html を使う。\n",
        "1. コマンドセルの中では ```<link rel=\"stylesheet\" href=\"styles.css\">``` でスタイルシートを読み込めないみたいなので、セルの中に記述することになる。つまり `<style></style>` で書く。\n",
        "1. 参考サイト  \n",
        "https://developer.mozilla.org/ja/docs/Learn/CSS/First_steps/Getting_started\n",
        "  \n",
        "  https://www.w3schools.com/css/"
      ]
    },
    {
      "cell_type": "markdown",
      "metadata": {
        "id": "-4ZXCrA0sl76"
      },
      "source": [
        "# はじめに少し実験"
      ]
    },
    {
      "cell_type": "code",
      "metadata": {
        "id": "TKWgq8sXq7tD",
        "colab": {
          "base_uri": "https://localhost:8080/",
          "height": 100
        },
        "outputId": "0cd5c0c1-d19b-4157-8685-5818d9c09d61"
      },
      "source": [
        "# こんな感じになる style と本体だけ\n",
        "%%html\n",
        "<style>\n",
        "h1 {\n",
        "  color: blue; \n",
        "  color: rgb(0, 255, 0);\n",
        "  color: #00ff00;\n",
        "  color: #0f0;\n",
        "}\n",
        "body {\n",
        "  color: #377;\n",
        "  font-family: Verdana, sams-serif;\n",
        "}\n",
        "</style>\n",
        "\n",
        "<h1>大見出し</h1>\n",
        "<p>中身の文章つらつら</p>\n"
      ],
      "execution_count": null,
      "outputs": [
        {
          "output_type": "display_data",
          "data": {
            "text/html": [
              "<style>\n",
              "h1 {\n",
              "  color: blue; \n",
              "  color: rgb(0, 255, 0);\n",
              "  color: #00ff00;\n",
              "  color: #0f0;\n",
              "}\n",
              "body {\n",
              "  color: #377;\n",
              "  font-family: Verdana, sams-serif;\n",
              "}\n",
              "</style>\n",
              "\n",
              "<h1>大見出し</h1>\n",
              "<p>中身の文章つらつら</p>"
            ],
            "text/plain": [
              "<IPython.core.display.HTML object>"
            ]
          },
          "metadata": {
            "tags": []
          }
        }
      ]
    },
    {
      "cell_type": "code",
      "metadata": {
        "id": "p-7gvKWturur",
        "colab": {
          "base_uri": "https://localhost:8080/",
          "height": 181
        },
        "outputId": "328e5b8d-5909-4708-a509-321e39159c51"
      },
      "source": [
        "%%html\n",
        "<style>\n",
        "    body {\n",
        "        color: blue;\n",
        "    }\n",
        "    h1 {\n",
        "  color: red;\n",
        "}\n",
        "</style>\n",
        "</style>\n",
        "<h1>見出し１です</h1>\n",
        "\n",
        "<p>これは第一段落の文です。この文には <span>span 要素</span>\n",
        "    と<a href=\"http://example.com\">リンク</a>が含まれます。</p>\n",
        "\n",
        "<p>これは第二段落の文です。この文には <em>em 要素</em>が含まれます。</p>\n",
        "\n",
        "<ul>\n",
        "    <li>一つ目の項目</li>\n",
        "    <li>二つ目の項目</li>\n",
        "    <li><strong>三つ目</strong>の項目</li>\n",
        "</ul>"
      ],
      "execution_count": null,
      "outputs": [
        {
          "output_type": "display_data",
          "data": {
            "text/html": [
              "<style>\n",
              "    body {\n",
              "        color: blue;\n",
              "    }\n",
              "    h1 {\n",
              "  color: red;\n",
              "}\n",
              "</style>\n",
              "</style>\n",
              "<h1>見出し１です</h1>\n",
              "\n",
              "<p>これは第一段落の文です。この文には <span>span 要素</span>\n",
              "    と<a href=\"http://example.com\">リンク</a>が含まれます。</p>\n",
              "\n",
              "<p>これは第二段落の文です。この文には <em>em 要素</em>が含まれます。</p>\n",
              "\n",
              "<ul>\n",
              "    <li>一つ目の項目</li>\n",
              "    <li>二つ目の項目</li>\n",
              "    <li><strong>三つ目</strong>の項目</li>\n",
              "</ul>"
            ],
            "text/plain": [
              "<IPython.core.display.HTML object>"
            ]
          },
          "metadata": {
            "tags": []
          }
        }
      ]
    },
    {
      "cell_type": "code",
      "metadata": {
        "id": "9kzKWxAlTmrR",
        "colab": {
          "base_uri": "https://localhost:8080/",
          "height": 181
        },
        "outputId": "e1621e6e-0c65-4842-c174-0e04ab2067d9"
      },
      "source": [
        "%%html\n",
        "<style> /* コメントも書けるがこの場所だと行コメント // が使えない */\n",
        "p, li {\n",
        "  color: green;\n",
        "} </style>\n",
        "<h1>I am a level one heading</h1>\n",
        "\n",
        "<p>This is a paragraph of text. In the text is a <span>span element</span>\n",
        "    and also a <a href=\"http://example.com\">link</a>.</p>\n",
        "\n",
        "<p>This is the second paragraph. It contains an <em>emphasized</em> element.</p>\n",
        "\n",
        "<ul>\n",
        "    <li>Item one</li>\n",
        "    <li>Item two</li>\n",
        "    <li>Item <em>three</em></li>\n",
        "</ul>"
      ],
      "execution_count": null,
      "outputs": [
        {
          "output_type": "display_data",
          "data": {
            "text/html": [
              "<style> /* コメントも書けるがこの場所だと行コメント // が使えない */\n",
              "p, li {\n",
              "  color: green;\n",
              "} </style>\n",
              "<h1>I am a level one heading</h1>\n",
              "\n",
              "<p>This is a paragraph of text. In the text is a <span>span element</span>\n",
              "    and also a <a href=\"http://example.com\">link</a>.</p>\n",
              "\n",
              "<p>This is the second paragraph. It contains an <em>emphasized</em> element.</p>\n",
              "\n",
              "<ul>\n",
              "    <li>Item one</li>\n",
              "    <li>Item two</li>\n",
              "    <li>Item <em>three</em></li>\n",
              "</ul>"
            ],
            "text/plain": [
              "<IPython.core.display.HTML object>"
            ]
          },
          "metadata": {
            "tags": []
          }
        }
      ]
    },
    {
      "cell_type": "markdown",
      "metadata": {
        "id": "Kw_aD_VXURgj"
      },
      "source": [
        "# リストの点を取る"
      ]
    },
    {
      "cell_type": "code",
      "metadata": {
        "id": "-hWaQCTpUJpH",
        "colab": {
          "base_uri": "https://localhost:8080/",
          "height": 181
        },
        "outputId": "3993ec36-7b46-462e-f9a9-3cfda119da82"
      },
      "source": [
        "%%html\n",
        "<style>\n",
        "p, li {\n",
        "  color: green;\n",
        "} \n",
        "li {\n",
        "  list-style-type: none;\n",
        "}\n",
        "</style>\n",
        "\n",
        "<h1>I am a level one heading</h1>\n",
        "\n",
        "<p>This is a paragraph of text. In the text is a <span>span element</span>\n",
        "    and also a <a href=\"http://example.com\">link</a>.</p>\n",
        "\n",
        "<p>This is the second paragraph. It contains an <em>emphasized</em> element.</p>\n",
        "\n",
        "<ul>\n",
        "    <li>Item one</li>\n",
        "    <li>Item two</li>\n",
        "    <li>Item <em>three</em></li>\n",
        "</ul>"
      ],
      "execution_count": null,
      "outputs": [
        {
          "output_type": "display_data",
          "data": {
            "text/html": [
              "<style>\n",
              "p, li {\n",
              "  color: green;\n",
              "} \n",
              "li {\n",
              "  list-style-type: none;\n",
              "}\n",
              "</style>\n",
              "\n",
              "<h1>I am a level one heading</h1>\n",
              "\n",
              "<p>This is a paragraph of text. In the text is a <span>span element</span>\n",
              "    and also a <a href=\"http://example.com\">link</a>.</p>\n",
              "\n",
              "<p>This is the second paragraph. It contains an <em>emphasized</em> element.</p>\n",
              "\n",
              "<ul>\n",
              "    <li>Item one</li>\n",
              "    <li>Item two</li>\n",
              "    <li>Item <em>three</em></li>\n",
              "</ul>"
            ],
            "text/plain": [
              "<IPython.core.display.HTML object>"
            ]
          },
          "metadata": {
            "tags": []
          }
        }
      ]
    },
    {
      "cell_type": "code",
      "metadata": {
        "id": "ZxdHPQIxwDRk",
        "colab": {
          "base_uri": "https://localhost:8080/",
          "height": 104
        },
        "outputId": "0b080e9c-eea6-42b6-d140-b6eef4261148"
      },
      "source": [
        "# クラスを加える\n",
        "%%html\n",
        "<style>\n",
        "    li.special {\n",
        "        color: orange;\n",
        "        font-weight: bold;\n",
        "    }\n",
        "    li em {\n",
        "        color: purple;\n",
        "    }\n",
        "    body {\n",
        "        background-color: lightgrey;\n",
        "    }\n",
        "</style>\n",
        "<p><span class=\"special\">ここは段落内のspanでclassがspecial</span></p>\n",
        "<ul>\n",
        "    <li>Item one</li>\n",
        "    <li class=\"special\">二つ目の項目</li>\n",
        "    <li><em>三つ目</em>の項目</li>\n",
        "</ul>"
      ],
      "execution_count": null,
      "outputs": [
        {
          "output_type": "display_data",
          "data": {
            "text/html": [
              "<style>\n",
              "    li.special {\n",
              "        color: orange;\n",
              "        font-weight: bold;\n",
              "    }\n",
              "    li em {\n",
              "        color: purple;\n",
              "    }\n",
              "    body {\n",
              "        background-color: lightgrey;\n",
              "    }\n",
              "</style>\n",
              "<p><span class=\"special\">ここは段落内のspanでclassがspecial</span></p>\n",
              "<ul>\n",
              "    <li>Item one</li>\n",
              "    <li class=\"special\">二つ目の項目</li>\n",
              "    <li><em>三つ目</em>の項目</li>\n",
              "</ul>"
            ],
            "text/plain": [
              "<IPython.core.display.HTML object>"
            ]
          },
          "metadata": {
            "tags": []
          }
        }
      ]
    },
    {
      "cell_type": "code",
      "metadata": {
        "id": "RIMXkq7wMMEy",
        "colab": {
          "base_uri": "https://localhost:8080/",
          "height": 140
        },
        "outputId": "fb37e302-0aca-44da-95b8-0e44750048ef"
      },
      "source": [
        "# adjacent sibling combinator \"+\"\n",
        "%%html\n",
        "<style>\n",
        "    em {\n",
        "        color: rebeccapurple;\n",
        "    }\n",
        "\n",
        "    h1+p {\n",
        "        font-size: 200%;\n",
        "        background-color: rebeccapurple;\n",
        "        color: white;\n",
        "    }\n",
        "\n",
        "    a:link {\n",
        "        color: pink;\n",
        "    }\n",
        "\n",
        "    a:visited {\n",
        "        color: green;\n",
        "    }\n",
        "\n",
        "    a:hover {\n",
        "        text-decoration: none;\n",
        "    }    \n",
        "</style>\n",
        "<h1>I am a level one heading</h1>\n",
        "\n",
        "<p>This is a paragraph of text. In the text is a <span>span element</span>\n",
        "    and also a <a href=\"http://example.com\">link</a>.</p>\n",
        "\n",
        "<p>This is the second paragraph. It contains an <em>emphasized</em> element.</p>"
      ],
      "execution_count": null,
      "outputs": [
        {
          "output_type": "display_data",
          "data": {
            "text/html": [
              "<style>\n",
              "    em {\n",
              "        color: rebeccapurple;\n",
              "    }\n",
              "\n",
              "    h1+p {\n",
              "        font-size: 200%;\n",
              "        background-color: rebeccapurple;\n",
              "        color: white;\n",
              "    }\n",
              "\n",
              "    a:link {\n",
              "        color: pink;\n",
              "    }\n",
              "\n",
              "    a:visited {\n",
              "        color: green;\n",
              "    }\n",
              "\n",
              "    a:hover {\n",
              "        text-decoration: none;\n",
              "    }    \n",
              "</style>\n",
              "<h1>I am a level one heading</h1>\n",
              "\n",
              "<p>This is a paragraph of text. In the text is a <span>span element</span>\n",
              "    and also a <a href=\"http://example.com\">link</a>.</p>\n",
              "\n",
              "<p>This is the second paragraph. It contains an <em>emphasized</em> element.</p>"
            ],
            "text/plain": [
              "<IPython.core.display.HTML object>"
            ]
          },
          "metadata": {
            "tags": []
          }
        }
      ]
    },
    {
      "cell_type": "code",
      "metadata": {
        "id": "EtgAgcqrPECF",
        "colab": {
          "base_uri": "https://localhost:8080/",
          "height": 100
        },
        "outputId": "6adb63e1-0fe7-4b1a-b7a6-b38dc3bb7088"
      },
      "source": [
        "# combinator\n",
        "%%html\n",
        "<!-- body の中の h1 の次にくる p の中の class が special -->\n",
        "<style> \n",
        "    body h1 + p .special {\n",
        "        color: yellow;\n",
        "        background-color: black;\n",
        "        padding: 5px;\n",
        "    }\n",
        "</style>\n",
        "<h1>I am a level one heading</h1>\n",
        "\n",
        "<p>This is <span class=\"special\">the first paragraph.</span> It contains an <em>emphasized</em> element.</p>"
      ],
      "execution_count": null,
      "outputs": [
        {
          "output_type": "display_data",
          "data": {
            "text/html": [
              "<!-- body の中の h1 の次にくる p の中の class が special -->\n",
              "<style> \n",
              "    body h1 + p .special {\n",
              "        color: yellow;\n",
              "        background-color: black;\n",
              "        padding: 5px;\n",
              "    }\n",
              "</style>\n",
              "<h1>I am a level one heading</h1>\n",
              "\n",
              "<p>This is <span class=\"special\">the first paragraph.</span> It contains an <em>emphasized</em> element.</p>"
            ],
            "text/plain": [
              "<IPython.core.display.HTML object>"
            ]
          },
          "metadata": {
            "tags": []
          }
        }
      ]
    },
    {
      "cell_type": "code",
      "metadata": {
        "id": "HXBZ2ZFlcnzc",
        "colab": {
          "base_uri": "https://localhost:8080/",
          "height": 102
        },
        "outputId": "ea896e40-5632-4638-c3af-784e963cc3a6"
      },
      "source": [
        "%%html\n",
        "<style>\n",
        "    h1 {\n",
        "        color: blue;\n",
        "        background-color: yellow;\n",
        "        border: 1px solid black;\n",
        "    }\n",
        "\n",
        "    p {\n",
        "        color: red;\n",
        "    }\n",
        "</style>\n",
        "<h1>Hello World!</h1>\n",
        "<p>This is my first CSS example</p>"
      ],
      "execution_count": null,
      "outputs": [
        {
          "output_type": "display_data",
          "data": {
            "text/html": [
              "<style>\n",
              "    h1 {\n",
              "        color: blue;\n",
              "        background-color: yellow;\n",
              "        border: 1px solid black;\n",
              "    }\n",
              "\n",
              "    p {\n",
              "        color: red;\n",
              "    }\n",
              "</style>\n",
              "<h1>Hello World!</h1>\n",
              "<p>This is my first CSS example</p>"
            ],
            "text/plain": [
              "<IPython.core.display.HTML object>"
            ]
          },
          "metadata": {
            "tags": []
          }
        }
      ]
    },
    {
      "cell_type": "code",
      "metadata": {
        "id": "aQrFejdNdCPP",
        "colab": {
          "base_uri": "https://localhost:8080/",
          "height": 102
        },
        "outputId": "fe7442f8-133c-46b0-91af-e6aed6fb60eb"
      },
      "source": [
        "# インラインスタイルは可能な限り避ける\n",
        "%%html\n",
        "<h1 style=\"color: blue;background-color: yellow;border: 1px solid black;\">Hello World!</h1>\n",
        "<p style=\"color:red;\">This is my first CSS example</p>"
      ],
      "execution_count": null,
      "outputs": [
        {
          "output_type": "display_data",
          "data": {
            "text/html": [
              "<h1 style=\"color: blue;background-color: yellow;border: 1px solid black;\">Hello World!</h1>\n",
              "<p style=\"color:red;\">This is my first CSS example</p>"
            ],
            "text/plain": [
              "<IPython.core.display.HTML object>"
            ]
          },
          "metadata": {
            "tags": []
          }
        }
      ]
    },
    {
      "cell_type": "code",
      "metadata": {
        "id": "WgF-gsq0dxCC"
      },
      "source": [
        "# セレクター\n",
        "%%script false\n",
        "h1\n",
        "a:link\n",
        ".manythings\n",
        "#onething\n",
        "*\n",
        ".box p\n",
        ".box p:first-child\n",
        "h1, h2, .intro"
      ],
      "execution_count": null,
      "outputs": []
    },
    {
      "cell_type": "code",
      "metadata": {
        "id": "9THqhYweeh2n",
        "colab": {
          "base_uri": "https://localhost:8080/",
          "height": 46
        },
        "outputId": "28cbe07a-dd83-4ef3-af48-54dfe3de3500"
      },
      "source": [
        "# css style の優先度 specificity 詳細度\n",
        "%%html\n",
        "<style>\n",
        "    .special {\n",
        "        color: red;\n",
        "    }\n",
        "\n",
        "    p {\n",
        "        color: blue;\n",
        "    }\n",
        "</style>\n",
        "<p class=\"special\">What color am I?</p>\n"
      ],
      "execution_count": null,
      "outputs": [
        {
          "output_type": "display_data",
          "data": {
            "text/html": [
              "<style>\n",
              "    .special {\n",
              "        color: red;\n",
              "    }\n",
              "\n",
              "    p {\n",
              "        color: blue;\n",
              "    }\n",
              "</style>\n",
              "<p class=\"special\">What color am I?</p>"
            ],
            "text/plain": [
              "<IPython.core.display.HTML object>"
            ]
          },
          "metadata": {
            "tags": []
          }
        }
      ]
    },
    {
      "cell_type": "code",
      "metadata": {
        "id": "kqh5iJCZfdD9",
        "colab": {
          "base_uri": "https://localhost:8080/",
          "height": 75
        },
        "outputId": "b21cae15-d0f9-42a4-ca33-3cf3e2d13c23"
      },
      "source": [
        "# 簡単な計算 calc\n",
        "%%html\n",
        "<style>\n",
        "    .outer {\n",
        "        border: 5px solid black;\n",
        "        background-color: red;\n",
        "    }\n",
        "\n",
        "    .box {\n",
        "        padding: 10px;\n",
        "        width: calc(90% - 30px);\n",
        "        background-color: rebeccapurple;\n",
        "        color: white;\n",
        "        border: 5px dotted pink;\n",
        "    }\n",
        "</style>\n",
        "<div class=\"outer\"><div class=\"box\">The inner box is 90% - 30px.</div></div>"
      ],
      "execution_count": null,
      "outputs": [
        {
          "output_type": "display_data",
          "data": {
            "text/html": [
              "<style>\n",
              "    .outer {\n",
              "        border: 5px solid black;\n",
              "        background-color: red;\n",
              "    }\n",
              "\n",
              "    .box {\n",
              "        padding: 10px;\n",
              "        width: calc(90% - 30px);\n",
              "        background-color: rebeccapurple;\n",
              "        color: white;\n",
              "        border: 5px dotted pink;\n",
              "    }\n",
              "</style>\n",
              "<div class=\"outer\"><div class=\"box\">The inner box is 90% - 30px.</div></div>"
            ],
            "text/plain": [
              "<IPython.core.display.HTML object>"
            ]
          },
          "metadata": {
            "tags": []
          }
        }
      ]
    },
    {
      "cell_type": "code",
      "metadata": {
        "id": "tXIGzaB8l7Ya",
        "colab": {
          "base_uri": "https://localhost:8080/",
          "height": 177
        },
        "outputId": "a3b5947c-d957-461e-9a50-1d9b8460a9dc"
      },
      "source": [
        "# transform\n",
        "%%html\n",
        "<style>\n",
        "    .box {\n",
        "        margin: 30px;\n",
        "        width: 50px;\n",
        "        height: 100px;\n",
        "        background-color: sienna;\n",
        "        transform: rotate(0.8turn);\n",
        "    }\n",
        "</style>\n",
        "<div class=\"box\"></div>"
      ],
      "execution_count": null,
      "outputs": [
        {
          "output_type": "display_data",
          "data": {
            "text/html": [
              "<style>\n",
              "    .box {\n",
              "        margin: 30px;\n",
              "        width: 50px;\n",
              "        height: 100px;\n",
              "        background-color: sienna;\n",
              "        transform: rotate(0.8turn);\n",
              "    }\n",
              "</style>\n",
              "<div class=\"box\"></div>"
            ],
            "text/plain": [
              "<IPython.core.display.HTML object>"
            ]
          },
          "metadata": {
            "tags": []
          }
        }
      ]
    },
    {
      "cell_type": "code",
      "metadata": {
        "id": "sYzCcq5uoRWN",
        "colab": {
          "base_uri": "https://localhost:8080/",
          "height": 46
        },
        "outputId": "612a4088-781d-4fb0-ed8c-60fb331f0de7"
      },
      "source": [
        "# アット規則\n",
        "%%html\n",
        "<style>\n",
        "body {\n",
        "  background-color: pink;\n",
        "}\n",
        "\n",
        "@media (min-width: 70em) {\n",
        "  body {\n",
        "    background-color: turquoise;\n",
        "  }\n",
        "}\n",
        "</style>\n",
        "<p>Hello @ media</p>"
      ],
      "execution_count": null,
      "outputs": [
        {
          "output_type": "display_data",
          "data": {
            "text/html": [
              "<style>\n",
              "body {\n",
              "  background-color: pink;\n",
              "}\n",
              "\n",
              "@media (min-width: 70em) {\n",
              "  body {\n",
              "    background-color: turquoise;\n",
              "  }\n",
              "}\n",
              "</style>\n",
              "<p>Hello @ media</p>"
            ],
            "text/plain": [
              "<IPython.core.display.HTML object>"
            ]
          },
          "metadata": {
            "tags": []
          }
        }
      ]
    },
    {
      "cell_type": "code",
      "metadata": {
        "id": "tzKSWQDopDDY"
      },
      "source": [
        "%%script false\n",
        "/* 4 つの値による一括定義、例えば padding や margin\n",
        "   では、値が適用される順序は top, right, bottom, left の順 (top から時計回り) です。\n",
        "   他の種類の一括指定もあり、例えば 2 つの値による一括指定を padding/margin に設定すると、\n",
        "   top/bottom と left/right になります。*/\n",
        "padding: 10px 15px 15px 5px;\n",
        "\n",
        "これは\n",
        "\n",
        "padding-top: 10px;\n",
        "padding-right: 15px;\n",
        "padding-bottom: 15px;\n",
        "padding-left: 5px;\n",
        "\n",
        "と同じ。\n",
        "つぎの一行\n",
        "\n",
        "background: red url(bg-graphic.png) 10px 10px repeat-x fixed;\n",
        "\n",
        "は\n",
        "\n",
        "background-color: red;\n",
        "background-image: url(bg-graphic.png);\n",
        "background-position: 10px 10px;\n",
        "background-repeat: repeat-x;\n",
        "background-attachment: fixed;\n",
        "\n",
        "と同じ。"
      ],
      "execution_count": null,
      "outputs": []
    },
    {
      "cell_type": "markdown",
      "metadata": {
        "id": "YuwkFXokce4F"
      },
      "source": [
        "# css のコメントは /* */ であることに注意!!!!"
      ]
    },
    {
      "cell_type": "code",
      "metadata": {
        "colab": {
          "base_uri": "https://localhost:8080/",
          "height": 285
        },
        "id": "g8XgnIjndpO9",
        "outputId": "0df20835-f36c-4f7a-92a8-4a52aef2d9ec"
      },
      "source": [
        "%%html\n",
        "<style>\n",
        "    /* 基本的な要素のスタイル付けを扱う */\n",
        "    /* -------------------------------------------------------------------------------------------- */\n",
        "    body {\n",
        "        font: 1em/150% Helvetica, Arial, sans-serif;\n",
        "        padding: 1em;\n",
        "        margin: 0 auto;\n",
        "        max-width: 33em;\n",
        "    }\n",
        "\n",
        "    @media (min-width: 70em) {\n",
        "\n",
        "        /* 大きな画面やウィンドウで読みやすいように、グローバルフォントの大きさを大きくする。 */\n",
        "        body {\n",
        "            font-size: 130%;\n",
        "        }\n",
        "    }\n",
        "\n",
        "    h1 {\n",
        "        font-size: 1.5em;\n",
        "    }\n",
        "\n",
        "    /* DOM で入れ子になっている特定の要素を処理する。 */\n",
        "    /* -------------------------------------------------------------------------------------------- */\n",
        "    div.special p, #id:first-line {\n",
        "        background-color: red;\n",
        "        border-radius: 30px;\n",
        "    }\n",
        "\n",
        "    div p {\n",
        "        margin: 0;\n",
        "        padding: 1em;\n",
        "        background-color: skyblue;\n",
        "    }\n",
        "\n",
        "    div p+p {\n",
        "        padding-top: 0;\n",
        "        padding-bottom: 0;\n",
        "    }\n",
        "</style>\n",
        "<div class=\"special\">divによる一行目\n",
        "    <p>pによる一行目</p>\n",
        "    <p>二行目</p>\n",
        "    <p>三行目</p>\n",
        "    <div>divによる四行目</div>\n",
        "</div>\n",
        "<p>divの外の一行目</p>\n",
        "<p>二行目</p>\n",
        "<p class=\"special\">三行目</p>\n"
      ],
      "execution_count": null,
      "outputs": [
        {
          "output_type": "display_data",
          "data": {
            "text/html": [
              "<style>\n",
              "    /* 基本的な要素のスタイル付けを扱う */\n",
              "    /* -------------------------------------------------------------------------------------------- */\n",
              "    body {\n",
              "        font: 1em/150% Helvetica, Arial, sans-serif;\n",
              "        padding: 1em;\n",
              "        margin: 0 auto;\n",
              "        max-width: 33em;\n",
              "    }\n",
              "\n",
              "    @media (min-width: 70em) {\n",
              "\n",
              "        /* 大きな画面やウィンドウで読みやすいように、グローバルフォントの大きさを大きくする。 */\n",
              "        body {\n",
              "            font-size: 130%;\n",
              "        }\n",
              "    }\n",
              "\n",
              "    h1 {\n",
              "        font-size: 1.5em;\n",
              "    }\n",
              "\n",
              "    /* DOM で入れ子になっている特定の要素を処理する。 */\n",
              "    /* -------------------------------------------------------------------------------------------- */\n",
              "    div.special p, #id:first-line {\n",
              "        background-color: red;\n",
              "        border-radius: 30px;\n",
              "    }\n",
              "\n",
              "    div p {\n",
              "        margin: 0;\n",
              "        padding: 1em;\n",
              "        background-color: skyblue;\n",
              "    }\n",
              "\n",
              "    div p+p {\n",
              "        padding-top: 0;\n",
              "        padding-bottom: 0;\n",
              "    }\n",
              "</style>\n",
              "<div class=\"special\">divによる一行目\n",
              "    <p>pによる一行目</p>\n",
              "    <p>二行目</p>\n",
              "    <p>三行目</p>\n",
              "    <div>divによる四行目</div>\n",
              "</div>\n",
              "<p>divの外の一行目</p>\n",
              "<p>二行目</p>\n",
              "<p class=\"special\">三行目</p>"
            ],
            "text/plain": [
              "<IPython.core.display.HTML object>"
            ]
          },
          "metadata": {
            "tags": []
          }
        }
      ]
    },
    {
      "cell_type": "code",
      "metadata": {
        "id": "5UHFB-lXkDMP",
        "colab": {
          "base_uri": "https://localhost:8080/",
          "height": 104
        },
        "outputId": "1a3d037a-86c7-4dc4-9d6c-db8db6f922b0"
      },
      "source": [
        "# first-line の実験 => \"p, #id:first-line\" がわからない\n",
        "%%html\n",
        "<style>\n",
        "/*  p:first-line { // pの中の<br>より前だけ赤くなる\n",
        "    #id:first-line {  // 機能しない */\n",
        "    p, #id:first-line {  /* p が全部赤くなる */\n",
        "        color: red;\n",
        "    }\n",
        "</style>\n",
        "<p>さきちん絵はがきの紹介<br>\n",
        "    さきちん絵はがきは、無料で各種テンプレートがダウンロードできるWebサイトです。</p>\n",
        "\n",
        "<p>年賀状や暑中・寒中見舞い、四季の絵はがきなどがあります。<br>特に人気なのが年賀状。多くの方が見てくださってます。感謝♪</p>"
      ],
      "execution_count": null,
      "outputs": [
        {
          "output_type": "display_data",
          "data": {
            "text/html": [
              "<style>\n",
              "/*  p:first-line { // pの中の<br>より前だけ赤くなる\n",
              "    #id:first-line {  // 機能しない */\n",
              "    p, #id:first-line {  /* p が全部赤くなる */\n",
              "        color: red;\n",
              "    }\n",
              "</style>\n",
              "<p>さきちん絵はがきの紹介<br>\n",
              "    さきちん絵はがきは、無料で各種テンプレートがダウンロードできるWebサイトです。</p>\n",
              "\n",
              "<p>年賀状や暑中・寒中見舞い、四季の絵はがきなどがあります。<br>特に人気なのが年賀状。多くの方が見てくださってます。感謝♪</p>"
            ],
            "text/plain": [
              "<IPython.core.display.HTML object>"
            ]
          },
          "metadata": {
            "tags": []
          }
        }
      ]
    },
    {
      "cell_type": "code",
      "metadata": {
        "id": "FQISM0qv4KAh",
        "colab": {
          "base_uri": "https://localhost:8080/",
          "height": 64
        },
        "outputId": "24f4d6ec-2225-4a66-ed9e-b50d46ef058e"
      },
      "source": [
        "# cssが間違っている時の動き => 間違いは飛ばして残りをやる\n",
        "%%html\n",
        "<style>\n",
        "    p {\n",
        "        font-weight: bold;\n",
        "        colour: blue;\n",
        "        /* colorプロパティのスペルが正しくありません */\n",
        "        font-size: 200%;\n",
        "    }\n",
        "</style>\n",
        "<p> I want this text to be large, bold and blue.</p>"
      ],
      "execution_count": null,
      "outputs": [
        {
          "output_type": "display_data",
          "data": {
            "text/html": [
              "<style>\n",
              "    p {\n",
              "        font-weight: bold;\n",
              "        colour: blue;\n",
              "        /* colorプロパティのスペルが正しくありません */\n",
              "        font-size: 200%;\n",
              "    }\n",
              "</style>\n",
              "<p> I want this text to be large, bold and blue.</p>"
            ],
            "text/plain": [
              "<IPython.core.display.HTML object>"
            ]
          },
          "metadata": {
            "tags": []
          }
        }
      ]
    },
    {
      "cell_type": "code",
      "metadata": {
        "id": "OwMq61ZU5Bwe",
        "colab": {
          "base_uri": "https://localhost:8080/",
          "height": 349
        },
        "outputId": "61a618db-932a-4f45-b6f9-c3336129099e"
      },
      "source": [
        "%%html\n",
        "<style>\n",
        "    body {\n",
        "        font-family: Arial, Helvetica, sans-serif;\n",
        "    }\n",
        "\n",
        "    h1 {\n",
        "        color: hotpink;\n",
        "        /* color: #375e97; */\n",
        "        font-size: 2em;\n",
        "        font-family: Georgia, 'Times New Roman', Times, serif;\n",
        "        border-bottom: 10px dotted slateblue;\n",
        "        /* border-bottom: 1px solid #375e97; */\n",
        "    }\n",
        "\n",
        "    h2 {\n",
        "        font-size: 1.5em;\n",
        "        font-style: italic;\n",
        "    }\n",
        "\n",
        "    ul {\n",
        "        background-color: #eeeeee;\n",
        "        border: 10px solid purple;\n",
        "        padding: 20px;\n",
        "    }\n",
        "\n",
        "    .job-title {\n",
        "        color: #999999;\n",
        "        font-weight: bold;\n",
        "    }\n",
        "\n",
        "    a:link,\n",
        "    a:visited {\n",
        "        color: #fb6542;\n",
        "    }\n",
        "\n",
        "    a:hover {\n",
        "        text-decoration: none;\n",
        "        color: green;\n",
        "    }\n",
        "</style>\n",
        "<h1>Jane Doe</h1>\n",
        "<div class=\"job-title\">Web Developer</div>\n",
        "<p>Far far away, behind the word mountains, far from the countries Vokalia and Consonantia, there live the blind texts.\n",
        "    Separated they live in Bookmarksgrove right at the coast of the Semantics, a large language ocean.</p>\n",
        "\n",
        "<p>A small river named Duden flows by their place and supplies it with the necessary regelialia. It is a paradisematic\n",
        "    country, in which roasted parts of sentences fly into your mouth. </p>\n",
        "\n",
        "<h2>Contact information</h2>\n",
        "<ul>\n",
        "    <li>Email: <a href=\"mailto:jane@example.com\">jane@example.com</a></li>\n",
        "    <li>Web: <a href=\"http://example.com\">http://example.com</a></li>\n",
        "    <li>Tel: 123 45678</li>\n",
        "</ul>"
      ],
      "execution_count": null,
      "outputs": [
        {
          "output_type": "display_data",
          "data": {
            "text/html": [
              "<style>\n",
              "    body {\n",
              "        font-family: Arial, Helvetica, sans-serif;\n",
              "    }\n",
              "\n",
              "    h1 {\n",
              "        color: hotpink;\n",
              "        /* color: #375e97; */\n",
              "        font-size: 2em;\n",
              "        font-family: Georgia, 'Times New Roman', Times, serif;\n",
              "        border-bottom: 10px dotted slateblue;\n",
              "        /* border-bottom: 1px solid #375e97; */\n",
              "    }\n",
              "\n",
              "    h2 {\n",
              "        font-size: 1.5em;\n",
              "        font-style: italic;\n",
              "    }\n",
              "\n",
              "    ul {\n",
              "        background-color: #eeeeee;\n",
              "        border: 10px solid purple;\n",
              "        padding: 20px;\n",
              "    }\n",
              "\n",
              "    .job-title {\n",
              "        color: #999999;\n",
              "        font-weight: bold;\n",
              "    }\n",
              "\n",
              "    a:link,\n",
              "    a:visited {\n",
              "        color: #fb6542;\n",
              "    }\n",
              "\n",
              "    a:hover {\n",
              "        text-decoration: none;\n",
              "        color: green;\n",
              "    }\n",
              "</style>\n",
              "<h1>Jane Doe</h1>\n",
              "<div class=\"job-title\">Web Developer</div>\n",
              "<p>Far far away, behind the word mountains, far from the countries Vokalia and Consonantia, there live the blind texts.\n",
              "    Separated they live in Bookmarksgrove right at the coast of the Semantics, a large language ocean.</p>\n",
              "\n",
              "<p>A small river named Duden flows by their place and supplies it with the necessary regelialia. It is a paradisematic\n",
              "    country, in which roasted parts of sentences fly into your mouth. </p>\n",
              "\n",
              "<h2>Contact information</h2>\n",
              "<ul>\n",
              "    <li>Email: <a href=\"mailto:jane@example.com\">jane@example.com</a></li>\n",
              "    <li>Web: <a href=\"http://example.com\">http://example.com</a></li>\n",
              "    <li>Tel: 123 45678</li>\n",
              "</ul>"
            ],
            "text/plain": [
              "<IPython.core.display.HTML object>"
            ]
          },
          "metadata": {
            "tags": []
          }
        }
      ]
    },
    {
      "cell_type": "code",
      "metadata": {
        "colab": {
          "base_uri": "https://localhost:8080/",
          "height": 75
        },
        "id": "x7VLEXqOoZiJ",
        "outputId": "4cc04b47-2929-4c99-ed48-389da4296555"
      },
      "source": [
        "# cascading\n",
        "%%html\n",
        "<style>\n",
        "    h1 { \n",
        "        color: red; \n",
        "    }\n",
        "\n",
        "    h1 { \n",
        "        color: aquamarine; \n",
        "    }\n",
        "</style>\n",
        "<h1>This is my heading.</h1>"
      ],
      "execution_count": null,
      "outputs": [
        {
          "output_type": "display_data",
          "data": {
            "text/html": [
              "<style>\n",
              "    h1 { \n",
              "        color: red; \n",
              "    }\n",
              "\n",
              "    h1 { \n",
              "        color: aquamarine; \n",
              "    }\n",
              "</style>\n",
              "<h1>This is my heading.</h1>"
            ],
            "text/plain": [
              "<IPython.core.display.HTML object>"
            ]
          },
          "metadata": {
            "tags": []
          }
        }
      ]
    },
    {
      "cell_type": "code",
      "metadata": {
        "colab": {
          "base_uri": "https://localhost:8080/",
          "height": 75
        },
        "id": "XaWh-LPTqKRf",
        "outputId": "c46a4850-2eab-4a4f-dbf7-6a9917ccd301"
      },
      "source": [
        "# 詳細度 specificity による優先\n",
        "%%html\n",
        "<style>\n",
        "    .main-heading {\n",
        "        color: hotpink;\n",
        "    }\n",
        "\n",
        "    h1 {\n",
        "        color: blue;\n",
        "    }\n",
        "</style>\n",
        "<h1 class=\"main-heading\">This is my heading.</h1>"
      ],
      "execution_count": null,
      "outputs": [
        {
          "output_type": "display_data",
          "data": {
            "text/html": [
              "<style>\n",
              "    .main-heading {\n",
              "        color: hotpink;\n",
              "    }\n",
              "\n",
              "    h1 {\n",
              "        color: blue;\n",
              "    }\n",
              "</style>\n",
              "<h1 class=\"main-heading\">This is my heading.</h1>"
            ],
            "text/plain": [
              "<IPython.core.display.HTML object>"
            ]
          },
          "metadata": {
            "tags": []
          }
        }
      ]
    },
    {
      "cell_type": "code",
      "metadata": {
        "colab": {
          "base_uri": "https://localhost:8080/",
          "height": 86
        },
        "id": "oOSfCguKqzW8",
        "outputId": "c945f336-511d-4195-a291-2e4d1492463b"
      },
      "source": [
        "# 継承 inheritance\n",
        "%%html\n",
        "<style>\n",
        "body {\n",
        "    color: blue;\n",
        "}\n",
        "\n",
        "span {\n",
        "    color: black;\n",
        "    font-size: 200%;\n",
        "}\n",
        "</style>\n",
        "<p>As the body has been set to have a color of blue this is inherited through the descendants.</p>\n",
        "<p>We can change the color by targetting the element with a selector, such as this <span>span</span>.</p>\n"
      ],
      "execution_count": null,
      "outputs": [
        {
          "output_type": "display_data",
          "data": {
            "text/html": [
              "<style>\n",
              "body {\n",
              "    color: blue;\n",
              "}\n",
              "\n",
              "span {\n",
              "    color: black;\n",
              "    font-size: 200%;\n",
              "}\n",
              "</style>\n",
              "<p>As the body has been set to have a color of blue this is inherited through the descendants.</p>\n",
              "<p>We can change the color by targetting the element with a selector, such as this <span>span</span>.</p>"
            ],
            "text/plain": [
              "<IPython.core.display.HTML object>"
            ]
          },
          "metadata": {
            "tags": []
          }
        }
      ]
    },
    {
      "cell_type": "code",
      "metadata": {
        "colab": {
          "base_uri": "https://localhost:8080/",
          "height": 253
        },
        "id": "MYr3ohomrZQz",
        "outputId": "4d2ac2ed-436b-4697-9f00-804077bfd1a1"
      },
      "source": [
        "%%html\n",
        "<style>\n",
        "    .main {\n",
        "        color: rebeccapurple;\n",
        "        border: 2px solid #ccc;\n",
        "        padding: 1em;\n",
        "    }\n",
        "\n",
        "    .special {\n",
        "        color: black;\n",
        "        font-weight: bold;\n",
        "    }\n",
        "\n",
        "    ul li {\n",
        "        margin-left: 1em;\n",
        "    }\n",
        "\n",
        "    ul ul{\n",
        "        margin-left: -2em;\n",
        "    }\n",
        "\n",
        "</style>\n",
        "<ul class=\"main\">\n",
        "    <li>Item One</li>\n",
        "    <li>Item Two\n",
        "        <ul>\n",
        "            <li>2.1</li>\n",
        "            <li>2.2</li>\n",
        "        </ul>\n",
        "    </li>\n",
        "    <li>Item Three\n",
        "        <ul class=\"special\">\n",
        "            <li>3.1\n",
        "                <ul>\n",
        "                    <li>3.1.1</li>\n",
        "                    <li>3.1.2</li>\n",
        "                </ul>\n",
        "            </li>\n",
        "            <li>3.2</li>\n",
        "        </ul>\n",
        "    </li>\n",
        "</ul>"
      ],
      "execution_count": null,
      "outputs": [
        {
          "output_type": "display_data",
          "data": {
            "text/html": [
              "<style>\n",
              "    .main {\n",
              "        color: rebeccapurple;\n",
              "        border: 2px solid #ccc;\n",
              "        padding: 1em;\n",
              "    }\n",
              "\n",
              "    .special {\n",
              "        color: black;\n",
              "        font-weight: bold;\n",
              "    }\n",
              "\n",
              "    ul li {\n",
              "        margin-left: 1em;\n",
              "    }\n",
              "\n",
              "    ul ul{\n",
              "        margin-left: -2em;\n",
              "    }\n",
              "\n",
              "</style>\n",
              "<ul class=\"main\">\n",
              "    <li>Item One</li>\n",
              "    <li>Item Two\n",
              "        <ul>\n",
              "            <li>2.1</li>\n",
              "            <li>2.2</li>\n",
              "        </ul>\n",
              "    </li>\n",
              "    <li>Item Three\n",
              "        <ul class=\"special\">\n",
              "            <li>3.1\n",
              "                <ul>\n",
              "                    <li>3.1.1</li>\n",
              "                    <li>3.1.2</li>\n",
              "                </ul>\n",
              "            </li>\n",
              "            <li>3.2</li>\n",
              "        </ul>\n",
              "    </li>\n",
              "</ul>"
            ],
            "text/plain": [
              "<IPython.core.display.HTML object>"
            ]
          },
          "metadata": {
            "tags": []
          }
        }
      ]
    },
    {
      "cell_type": "code",
      "metadata": {
        "colab": {
          "base_uri": "https://localhost:8080/",
          "height": 98
        },
        "id": "SRub6VEu0S7G",
        "outputId": "701d7e24-4120-47a2-9243-d52e4d1b17a8"
      },
      "source": [
        "%%html\n",
        "<style>\n",
        "    body {\n",
        "        color: green;\n",
        "    }\n",
        "\n",
        "    .my-class-1 a {\n",
        "        color: inherit;\n",
        "    }\n",
        "\n",
        "    .my-class-2 a {\n",
        "        color: initial;\n",
        "    }\n",
        "\n",
        "    .my-class-3 a {\n",
        "        color: unset;\n",
        "    }\n",
        "\n",
        "    /* a { color: red; }  */\n",
        "</style>\n",
        "<ul>\n",
        "    <li>Default <a href=\"#\">link</a> color</li>\n",
        "    <li class=\"my-class-1\">Inherit the <a href=\"#\">link</a> color</li>\n",
        "    <li class=\"my-class-2\">Reset the <a href=\"#\">link</a> color</li>\n",
        "    <li class=\"my-class-3\">Unset the <a href=\"#\">link</a> color</li>\n",
        "</ul>"
      ],
      "execution_count": null,
      "outputs": [
        {
          "output_type": "display_data",
          "data": {
            "text/html": [
              "<style>\n",
              "    body {\n",
              "        color: green;\n",
              "    }\n",
              "\n",
              "    .my-class-1 a {\n",
              "        color: inherit;\n",
              "    }\n",
              "\n",
              "    .my-class-2 a {\n",
              "        color: initial;\n",
              "    }\n",
              "\n",
              "    .my-class-3 a {\n",
              "        color: unset;\n",
              "    }\n",
              "\n",
              "    /* a { color: red; }  */\n",
              "</style>\n",
              "<ul>\n",
              "    <li>Default <a href=\"#\">link</a> color</li>\n",
              "    <li class=\"my-class-1\">Inherit the <a href=\"#\">link</a> color</li>\n",
              "    <li class=\"my-class-2\">Reset the <a href=\"#\">link</a> color</li>\n",
              "    <li class=\"my-class-3\">Unset the <a href=\"#\">link</a> color</li>\n",
              "</ul>"
            ],
            "text/plain": [
              "<IPython.core.display.HTML object>"
            ]
          },
          "metadata": {
            "tags": []
          }
        }
      ]
    },
    {
      "cell_type": "code",
      "metadata": {
        "colab": {
          "base_uri": "https://localhost:8080/",
          "height": 102
        },
        "id": "fpd67trM1f2K",
        "outputId": "8dcdd5de-e325-4538-b256-ad222637cacd"
      },
      "source": [
        "%%html\n",
        "<style>\n",
        "    blockquote {\n",
        "        background-color: lightsalmon;\n",
        "        border: 2px solid green;\n",
        "    }\n",
        "\n",
        "    .fix-this {\n",
        "        all: unset;\n",
        "    }\n",
        "</style>\n",
        "<blockquote>\n",
        "    <p>This blockquote is styled</p>\n",
        "</blockquote>\n",
        "\n",
        "<blockquote class=\"fix-this\">\n",
        "    <p>This blockquote is not styled</p>\n",
        "</blockquote>"
      ],
      "execution_count": null,
      "outputs": [
        {
          "output_type": "display_data",
          "data": {
            "text/html": [
              "<style>\n",
              "    blockquote {\n",
              "        background-color: lightsalmon;\n",
              "        border: 2px solid green;\n",
              "    }\n",
              "\n",
              "    .fix-this {\n",
              "        all: unset;\n",
              "    }\n",
              "</style>\n",
              "<blockquote>\n",
              "    <p>This blockquote is styled</p>\n",
              "</blockquote>\n",
              "\n",
              "<blockquote class=\"fix-this\">\n",
              "    <p>This blockquote is not styled</p>\n",
              "</blockquote>"
            ],
            "text/plain": [
              "<IPython.core.display.HTML object>"
            ]
          },
          "metadata": {
            "tags": []
          }
        }
      ]
    },
    {
      "cell_type": "code",
      "metadata": {
        "colab": {
          "base_uri": "https://localhost:8080/",
          "height": 165
        },
        "id": "seGBpd7t2ul5",
        "outputId": "e7fd086a-e5fc-4f65-fa2a-1ee1e6f3786d"
      },
      "source": [
        "%%html\n",
        "<style>\n",
        "    h2 {\n",
        "        font-size: 2em;\n",
        "        color: #000;\n",
        "        font-family: Georgia, 'Times New Roman', Times, serif;\n",
        "    }\n",
        "\n",
        "    .small {\n",
        "        font-size: 1em;\n",
        "    }\n",
        "\n",
        "    .bright {\n",
        "        color: rebeccapurple;\n",
        "    }\n",
        "</style>\n",
        "<h2>Heading with no class</h2>\n",
        "<h2 class=\"small\">Heading with class of small</h2>\n",
        "<h2 class=\"bright\">Heading with class of bright</h2>"
      ],
      "execution_count": null,
      "outputs": [
        {
          "output_type": "display_data",
          "data": {
            "text/html": [
              "<style>\n",
              "    h2 {\n",
              "        font-size: 2em;\n",
              "        color: #000;\n",
              "        font-family: Georgia, 'Times New Roman', Times, serif;\n",
              "    }\n",
              "\n",
              "    .small {\n",
              "        font-size: 1em;\n",
              "    }\n",
              "\n",
              "    .bright {\n",
              "        color: rebeccapurple;\n",
              "    }\n",
              "</style>\n",
              "<h2>Heading with no class</h2>\n",
              "<h2 class=\"small\">Heading with class of small</h2>\n",
              "<h2 class=\"bright\">Heading with class of bright</h2>"
            ],
            "text/plain": [
              "<IPython.core.display.HTML object>"
            ]
          },
          "metadata": {
            "tags": []
          }
        }
      ]
    },
    {
      "cell_type": "code",
      "metadata": {
        "id": "Fp3hkS6P3GiK"
      },
      "source": [
        "%%script false\n",
        "注: ユニバーサルセレクタ (*)、コンビネータ (+、>、~、' ') 、及び否定擬似クラス（:not）は詳細度に影響を及ぼしません。"
      ],
      "execution_count": null,
      "outputs": []
    },
    {
      "cell_type": "code",
      "metadata": {
        "colab": {
          "base_uri": "https://localhost:8080/",
          "height": 129
        },
        "id": "3lVNqF_W3WYG",
        "outputId": "ddeee79b-2381-44cd-90d0-6fb4ced583d4"
      },
      "source": [
        "%%html\n",
        "<style>\n",
        "    /* specificity: 0101 */\n",
        "    #outer a {\n",
        "        background-color: red;\n",
        "    }\n",
        "\n",
        "    /* specificity: 0201 */\n",
        "    #outer #inner a {\n",
        "        background-color: blue;\n",
        "    }\n",
        "\n",
        "    /* specificity: 0104 */\n",
        "    #outer div ul li a {\n",
        "        color: yellow;\n",
        "    }\n",
        "\n",
        "    /* specificity: 0113 */\n",
        "    #outer div ul .nav a {\n",
        "        color: white;\n",
        "    }\n",
        "\n",
        "    /* specificity: 0024 */\n",
        "    div div li:nth-child(2) a:hover {\n",
        "        border: 10px solid black;\n",
        "    }\n",
        "\n",
        "    /* specificity: 0023 */\n",
        "    div li:nth-child(2) a:hover {\n",
        "        border: 10px dashed black;\n",
        "    }\n",
        "\n",
        "    /* specificity: 0033 */\n",
        "    div div .nav:nth-child(2) a:hover {\n",
        "        border: 10px double black;\n",
        "    }\n",
        "\n",
        "    a {\n",
        "        display: inline-block;\n",
        "        line-height: 40px;\n",
        "        font-size: 20px;\n",
        "        text-decoration: none;\n",
        "        text-align: center;\n",
        "        width: 200px;\n",
        "        margin-bottom: 10px;\n",
        "    }\n",
        "\n",
        "    ul {\n",
        "        padding: 0;\n",
        "    }\n",
        "\n",
        "    li {\n",
        "        list-style-type: none;\n",
        "    }\n",
        "</style>\n",
        "<div id=\"outer\" class=\"container\">\n",
        "    <div id=\"inner\" class=\"container\">\n",
        "        <ul>\n",
        "            <li class=\"nav\"><a href=\"#\">One</a></li>\n",
        "            <li class=\"nav\"><a href=\"#\">Two</a></li>\n",
        "        </ul>\n",
        "    </div>\n",
        "</div>"
      ],
      "execution_count": null,
      "outputs": [
        {
          "output_type": "display_data",
          "data": {
            "text/html": [
              "<style>\n",
              "    /* specificity: 0101 */\n",
              "    #outer a {\n",
              "        background-color: red;\n",
              "    }\n",
              "\n",
              "    /* specificity: 0201 */\n",
              "    #outer #inner a {\n",
              "        background-color: blue;\n",
              "    }\n",
              "\n",
              "    /* specificity: 0104 */\n",
              "    #outer div ul li a {\n",
              "        color: yellow;\n",
              "    }\n",
              "\n",
              "    /* specificity: 0113 */\n",
              "    #outer div ul .nav a {\n",
              "        color: white;\n",
              "    }\n",
              "\n",
              "    /* specificity: 0024 */\n",
              "    div div li:nth-child(2) a:hover {\n",
              "        border: 10px solid black;\n",
              "    }\n",
              "\n",
              "    /* specificity: 0023 */\n",
              "    div li:nth-child(2) a:hover {\n",
              "        border: 10px dashed black;\n",
              "    }\n",
              "\n",
              "    /* specificity: 0033 */\n",
              "    div div .nav:nth-child(2) a:hover {\n",
              "        border: 10px double black;\n",
              "    }\n",
              "\n",
              "    a {\n",
              "        display: inline-block;\n",
              "        line-height: 40px;\n",
              "        font-size: 20px;\n",
              "        text-decoration: none;\n",
              "        text-align: center;\n",
              "        width: 200px;\n",
              "        margin-bottom: 10px;\n",
              "    }\n",
              "\n",
              "    ul {\n",
              "        padding: 0;\n",
              "    }\n",
              "\n",
              "    li {\n",
              "        list-style-type: none;\n",
              "    }\n",
              "</style>\n",
              "<div id=\"outer\" class=\"container\">\n",
              "    <div id=\"inner\" class=\"container\">\n",
              "        <ul>\n",
              "            <li class=\"nav\"><a href=\"#\">One</a></li>\n",
              "            <li class=\"nav\"><a href=\"#\">Two</a></li>\n",
              "        </ul>\n",
              "    </div>\n",
              "</div>"
            ],
            "text/plain": [
              "<IPython.core.display.HTML object>"
            ]
          },
          "metadata": {
            "tags": []
          }
        }
      ]
    },
    {
      "cell_type": "code",
      "metadata": {
        "colab": {
          "base_uri": "https://localhost:8080/",
          "height": 89
        },
        "id": "w20g0TLa6HgZ",
        "outputId": "150724e0-ed9e-4d2a-b85f-0c84aceba545"
      },
      "source": [
        "# !important の使い方。便利だが使ってはいけない。\n",
        "%%html\n",
        "<style>\n",
        "    #winning {\n",
        "        background-color: red;\n",
        "        border: 1px solid black;\n",
        "    }\n",
        "\n",
        "    .better {\n",
        "        background-color: gray;\n",
        "        border: none !important;\n",
        "    }\n",
        "\n",
        "    p {\n",
        "        background-color: blue;\n",
        "        color: white;\n",
        "        padding: 5px;\n",
        "    }\n",
        "</style>\n",
        "<p class=\"better\">This is a paragraph.</p>\n",
        "<p class=\"better\" id=\"winning\">One selector to rule them all!</p>"
      ],
      "execution_count": null,
      "outputs": [
        {
          "output_type": "display_data",
          "data": {
            "text/html": [
              "<style>\n",
              "    #winning {\n",
              "        background-color: red;\n",
              "        border: 1px solid black;\n",
              "    }\n",
              "\n",
              "    .better {\n",
              "        background-color: gray;\n",
              "        border: none !important;\n",
              "    }\n",
              "\n",
              "    p {\n",
              "        background-color: blue;\n",
              "        color: white;\n",
              "        padding: 5px;\n",
              "    }\n",
              "</style>\n",
              "<p class=\"better\">This is a paragraph.</p>\n",
              "<p class=\"better\" id=\"winning\">One selector to rule them all!</p>"
            ],
            "text/plain": [
              "<IPython.core.display.HTML object>"
            ]
          },
          "metadata": {
            "tags": []
          }
        }
      ]
    },
    {
      "cell_type": "markdown",
      "metadata": {
        "id": "RGf5NlB6GA4s"
      },
      "source": [
        "# セレクター"
      ]
    },
    {
      "cell_type": "code",
      "metadata": {
        "id": "IJbZl0MYF-3X",
        "colab": {
          "base_uri": "https://localhost:8080/",
          "height": 181
        },
        "outputId": "bced3274-c2d0-41d8-887b-0874a6ccb3c6"
      },
      "source": [
        "# 同じ内容ならカンマでセレクターを連結する。無効なセレクターがあると全体が無効化するので注意!!!!\n",
        "%%html\n",
        "<style>\n",
        "    span {\n",
        "        background-color: yellow;\n",
        "    }\n",
        "\n",
        "    strong,\n",
        "    em {\n",
        "        color: rebeccapurple;\n",
        "    }\n",
        "</style>\n",
        "<h1>Type selectors</h1>\n",
        "<p>Veggies es bonus vobis, proinde vos postulo essum magis <span>kohlrabi welsh onion</span> daikon amaranth tatsoi\n",
        "    tomatillo\n",
        "    melon azuki bean garlic.</p>\n",
        "\n",
        "<p>Gumbo beet greens corn soko <strong>endive</strong> gumbo gourd. Parsley shallot courgette tatsoi pea sprouts fava\n",
        "    bean collard\n",
        "    greens dandelion okra wakame tomato. Dandelion cucumber earthnut pea peanut soko zucchini.</p>\n",
        "\n",
        "<p>Turnip greens yarrow ricebean rutabaga <em>endive cauliflower</em> sea lettuce kohlrabi amaranth water spinach\n",
        "    avocado\n",
        "    daikon napa cabbage asparagus winter purslane kale. Celery potato scallion desert raisin horseradish spinach\n",
        "</p>"
      ],
      "execution_count": null,
      "outputs": [
        {
          "output_type": "display_data",
          "data": {
            "text/html": [
              "<style>\n",
              "    span {\n",
              "        background-color: yellow;\n",
              "    }\n",
              "\n",
              "    strong,\n",
              "    em {\n",
              "        color: rebeccapurple;\n",
              "    }\n",
              "</style>\n",
              "<h1>Type selectors</h1>\n",
              "<p>Veggies es bonus vobis, proinde vos postulo essum magis <span>kohlrabi welsh onion</span> daikon amaranth tatsoi\n",
              "    tomatillo\n",
              "    melon azuki bean garlic.</p>\n",
              "\n",
              "<p>Gumbo beet greens corn soko <strong>endive</strong> gumbo gourd. Parsley shallot courgette tatsoi pea sprouts fava\n",
              "    bean collard\n",
              "    greens dandelion okra wakame tomato. Dandelion cucumber earthnut pea peanut soko zucchini.</p>\n",
              "\n",
              "<p>Turnip greens yarrow ricebean rutabaga <em>endive cauliflower</em> sea lettuce kohlrabi amaranth water spinach\n",
              "    avocado\n",
              "    daikon napa cabbage asparagus winter purslane kale. Celery potato scallion desert raisin horseradish spinach\n",
              "</p>"
            ],
            "text/plain": [
              "<IPython.core.display.HTML object>"
            ]
          },
          "metadata": {
            "tags": []
          }
        }
      ]
    },
    {
      "cell_type": "code",
      "metadata": {
        "id": "M_rC3EcnGgxF"
      },
      "source": [
        "# 属性によるセレクター\n",
        "%%script false\n",
        "a[title] { }\n",
        "a[href=\"https://example.com\"] { }"
      ],
      "execution_count": null,
      "outputs": []
    },
    {
      "cell_type": "code",
      "metadata": {
        "id": "db3kGzeQHO4l",
        "colab": {
          "base_uri": "https://localhost:8080/",
          "height": 98
        },
        "outputId": "00c8f08f-7aef-4f91-ba1c-69c711f319e7"
      },
      "source": [
        "%%html\n",
        "<style>\n",
        "    a {\n",
        "        color: blue;\n",
        "    }\n",
        "\n",
        "    /* \"#\" で始まる内部リンク */\n",
        "    a[href^=\"#\"] {\n",
        "        background-color: gold;\n",
        "    }\n",
        "\n",
        "    /* URL のどこかに \"example\" が含まれるリンク */\n",
        "    a[href*=\"example\"] {\n",
        "        background-color: silver;\n",
        "    }\n",
        "\n",
        "    /* URL のどこかに \"insensitive\" が含まれるリンクで、\n",
        "\t\t\t大文字小文字は区別しない */\n",
        "    a[href*=\"insensitive\"i] {\n",
        "        color: cyan;\n",
        "    }\n",
        "\n",
        "    /* URL のどこかに \"cAsE\" があるリンクに一致\n",
        "大文字小文字の区別つき */\n",
        "    a[href*=\"cAsE\"s] {\n",
        "        color: pink;\n",
        "    }\n",
        "\n",
        "    /* \".org\" で終わるリンク */\n",
        "    a[href$=\".org\"] {\n",
        "        color: red;\n",
        "    }\n",
        "</style>\n",
        "<ul>\n",
        "    <li><a href=\"#internal\">Internal link</a></li>\n",
        "    <li><a href=\"http://example.com\">Example link</a></li>\n",
        "    <li><a href=\"#InSensitive\">Insensitive internal link</a></li>\n",
        "    <li><a href=\"http://example.org\">Example org link</a></li>  \n",
        "</ul>"
      ],
      "execution_count": null,
      "outputs": [
        {
          "output_type": "display_data",
          "data": {
            "text/html": [
              "<style>\n",
              "    a {\n",
              "        color: blue;\n",
              "    }\n",
              "\n",
              "    /* \"#\" で始まる内部リンク */\n",
              "    a[href^=\"#\"] {\n",
              "        background-color: gold;\n",
              "    }\n",
              "\n",
              "    /* URL のどこかに \"example\" が含まれるリンク */\n",
              "    a[href*=\"example\"] {\n",
              "        background-color: silver;\n",
              "    }\n",
              "\n",
              "    /* URL のどこかに \"insensitive\" が含まれるリンクで、\n",
              "\t\t\t大文字小文字は区別しない */\n",
              "    a[href*=\"insensitive\"i] {\n",
              "        color: cyan;\n",
              "    }\n",
              "\n",
              "    /* URL のどこかに \"cAsE\" があるリンクに一致\n",
              "大文字小文字の区別つき */\n",
              "    a[href*=\"cAsE\"s] {\n",
              "        color: pink;\n",
              "    }\n",
              "\n",
              "    /* \".org\" で終わるリンク */\n",
              "    a[href$=\".org\"] {\n",
              "        color: red;\n",
              "    }\n",
              "</style>\n",
              "<ul>\n",
              "    <li><a href=\"#internal\">Internal link</a></li>\n",
              "    <li><a href=\"http://example.com\">Example link</a></li>\n",
              "    <li><a href=\"#InSensitive\">Insensitive internal link</a></li>\n",
              "    <li><a href=\"http://example.org\">Example org link</a></li>  \n",
              "</ul>"
            ],
            "text/plain": [
              "<IPython.core.display.HTML object>"
            ]
          },
          "metadata": {
            "tags": []
          }
        }
      ]
    },
    {
      "cell_type": "code",
      "metadata": {
        "id": "JW9DQ0lEKeJi"
      },
      "source": [
        "# 疑似クラス、疑似要素\n",
        "%%script false\n",
        "a:hover { }\n",
        "p::first-line { }"
      ],
      "execution_count": null,
      "outputs": []
    },
    {
      "cell_type": "code",
      "metadata": {
        "id": "E5uGs2zSK2nT"
      },
      "source": [
        "# 結合子 combinator > は直接の子\n",
        "%%script false\n",
        "article > p {}\n"
      ],
      "execution_count": null,
      "outputs": []
    },
    {
      "cell_type": "code",
      "metadata": {
        "colab": {
          "base_uri": "https://localhost:8080/",
          "height": 167
        },
        "id": "46OGQI2a213t",
        "outputId": "8fae7227-89b0-46b9-e099-dd63fe7dddeb"
      },
      "source": [
        "# ユニバーサルセレクター (*)\n",
        "%%html\n",
        "<style>\n",
        "    * {\n",
        "        margin: 0;\n",
        "    }\n",
        "    \n",
        "    article *:first-child {\n",
        "        color: red;\n",
        "    } \n",
        "</style>\n",
        "<article>\n",
        "<h1>Universal selector</h1>\n",
        "<p>Veggies es bonus vobis, proinde vos postulo essum magis <span>kohlrabi welsh onion</span> daikon amaranth tatsoi\n",
        "    <span>tomatillo</span>\n",
        "    melon azuki bean garlic.</p>\n",
        "\n",
        "<p>Gumbo beet greens corn soko <strong>endive gumbo gourd</strong>. Parsley shallot courgette tatsoi pea sprouts fava\n",
        "    bean collard\n",
        "    greens dandelion okra wakame tomato. Dandelion cucumber earthnut pea peanut soko zucchini.</p>\n",
        "<h1> second head </h1>\n",
        "<p>Veggies es bonus vobis, proinde vos postulo essum magis <span>kohlrabi welsh onion</span> daikon amaranth tatsoi\n",
        "    tomatillo\n",
        "    melon azuki bean garlic.</p>\n",
        "</article>"
      ],
      "execution_count": null,
      "outputs": [
        {
          "output_type": "display_data",
          "data": {
            "text/html": [
              "<style>\n",
              "    * {\n",
              "        margin: 0;\n",
              "    }\n",
              "    \n",
              "    article *:first-child {\n",
              "        color: red;\n",
              "    } \n",
              "</style>\n",
              "<article>\n",
              "<h1>Universal selector</h1>\n",
              "<p>Veggies es bonus vobis, proinde vos postulo essum magis <span>kohlrabi welsh onion</span> daikon amaranth tatsoi\n",
              "    <span>tomatillo</span>\n",
              "    melon azuki bean garlic.</p>\n",
              "\n",
              "<p>Gumbo beet greens corn soko <strong>endive gumbo gourd</strong>. Parsley shallot courgette tatsoi pea sprouts fava\n",
              "    bean collard\n",
              "    greens dandelion okra wakame tomato. Dandelion cucumber earthnut pea peanut soko zucchini.</p>\n",
              "<h1> second head </h1>\n",
              "<p>Veggies es bonus vobis, proinde vos postulo essum magis <span>kohlrabi welsh onion</span> daikon amaranth tatsoi\n",
              "    tomatillo\n",
              "    melon azuki bean garlic.</p>\n",
              "</article>"
            ],
            "text/plain": [
              "<IPython.core.display.HTML object>"
            ]
          },
          "metadata": {
            "tags": []
          }
        }
      ]
    },
    {
      "cell_type": "code",
      "metadata": {
        "colab": {
          "base_uri": "https://localhost:8080/",
          "height": 140
        },
        "id": "57FfosT85a-8",
        "outputId": "9e8ad91a-49d0-435b-f448-913b7a7ff96b"
      },
      "source": [
        "%%html\n",
        "<style>\n",
        "    .highlight {\n",
        "        background-color: yellow;\n",
        "    }\n",
        "</style>\n",
        "<h1 class=\"highlight\">Class selectors</h1>\n",
        "<p>Veggies es bonus vobis, proinde vos postulo essum magis <span class=\"highlight\">kohlrabi welsh onion</span> daikon\n",
        "    amaranth tatsoi tomatillo\n",
        "    melon azuki bean garlic.</p>\n",
        "\n",
        "<p class=\"highlight\">Gumbo beet greens corn soko <strong>endive</strong> gumbo gourd. Parsley shallot courgette tatsoi\n",
        "    pea sprouts fava bean collard\n",
        "    greens dandelion okra wakame tomato. Dandelion cucumber earthnut pea peanut soko zucchini.</p>"
      ],
      "execution_count": null,
      "outputs": [
        {
          "output_type": "display_data",
          "data": {
            "text/html": [
              "<style>\n",
              "    .highlight {\n",
              "        background-color: yellow;\n",
              "    }\n",
              "</style>\n",
              "<h1 class=\"highlight\">Class selectors</h1>\n",
              "<p>Veggies es bonus vobis, proinde vos postulo essum magis <span class=\"highlight\">kohlrabi welsh onion</span> daikon\n",
              "    amaranth tatsoi tomatillo\n",
              "    melon azuki bean garlic.</p>\n",
              "\n",
              "<p class=\"highlight\">Gumbo beet greens corn soko <strong>endive</strong> gumbo gourd. Parsley shallot courgette tatsoi\n",
              "    pea sprouts fava bean collard\n",
              "    greens dandelion okra wakame tomato. Dandelion cucumber earthnut pea peanut soko zucchini.</p>"
            ],
            "text/plain": [
              "<IPython.core.display.HTML object>"
            ]
          },
          "metadata": {
            "tags": []
          }
        }
      ]
    },
    {
      "cell_type": "code",
      "metadata": {
        "colab": {
          "base_uri": "https://localhost:8080/",
          "height": 140
        },
        "id": "ZNrgdQ4858Cs",
        "outputId": "3c1e2cec-6e5a-4f49-9680-302797f6977f"
      },
      "source": [
        "%%html\n",
        "<style>\n",
        "    span.highlight {\n",
        "        background-color: yellow;\n",
        "    }\n",
        "\n",
        "    h1.highlight {\n",
        "        background-color: pink;\n",
        "    }\n",
        "</style>\n",
        "<h1 class=\"highlight\">Class selectors</h1>\n",
        "<p>Veggies es bonus vobis, proinde vos postulo essum magis <span class=\"highlight\">kohlrabi welsh onion</span> daikon\n",
        "    amaranth tatsoi tomatillo\n",
        "    melon azuki bean garlic.</p>\n",
        "\n",
        "<p class=\"highlight\">Gumbo beet greens corn soko <strong>endive</strong> gumbo gourd. Parsley shallot courgette tatsoi\n",
        "    pea sprouts fava bean collard\n",
        "    greens dandelion okra wakame tomato. Dandelion cucumber earthnut pea peanut soko zucchini.</p>"
      ],
      "execution_count": null,
      "outputs": [
        {
          "output_type": "display_data",
          "data": {
            "text/html": [
              "<style>\n",
              "    span.highlight {\n",
              "        background-color: yellow;\n",
              "    }\n",
              "\n",
              "    h1.highlight {\n",
              "        background-color: pink;\n",
              "    }\n",
              "</style>\n",
              "<h1 class=\"highlight\">Class selectors</h1>\n",
              "<p>Veggies es bonus vobis, proinde vos postulo essum magis <span class=\"highlight\">kohlrabi welsh onion</span> daikon\n",
              "    amaranth tatsoi tomatillo\n",
              "    melon azuki bean garlic.</p>\n",
              "\n",
              "<p class=\"highlight\">Gumbo beet greens corn soko <strong>endive</strong> gumbo gourd. Parsley shallot courgette tatsoi\n",
              "    pea sprouts fava bean collard\n",
              "    greens dandelion okra wakame tomato. Dandelion cucumber earthnut pea peanut soko zucchini.</p>"
            ],
            "text/plain": [
              "<IPython.core.display.HTML object>"
            ]
          },
          "metadata": {
            "tags": []
          }
        }
      ]
    },
    {
      "cell_type": "code",
      "metadata": {
        "colab": {
          "base_uri": "https://localhost:8080/",
          "height": 152
        },
        "id": "UxRktP-a8BER",
        "outputId": "8e754595-60fc-43e8-9a80-b46048797abb"
      },
      "source": [
        "# セレクター演算\n",
        "%%html\n",
        "<style>\n",
        "    .notebox {\n",
        "        border: 4px solid #666;\n",
        "        padding: .5em;\n",
        "    }\n",
        "\n",
        "    .notebox.warning {\n",
        "        border-color: orange;\n",
        "        font-weight: bold;\n",
        "    }\n",
        "\n",
        "    .notebox.danger {\n",
        "        border-color: red;\n",
        "        font-weight: bold;\n",
        "    }\n",
        "</style>\n",
        "<div class=\"notebox\">\n",
        "    This is an informational note.\n",
        "</div>\n",
        "\n",
        "<div class=\"notebox warning\">\n",
        "    This note shows a warning.\n",
        "</div>\n",
        "\n",
        "<div class=\"notebox danger\">\n",
        "    This note shows danger!\n",
        "</div>\n",
        "\n",
        "<div class=\"danger\">\n",
        "    This won't get styled — it also needs to have the notebox class\n",
        "</div>\n",
        "    "
      ],
      "execution_count": null,
      "outputs": [
        {
          "output_type": "display_data",
          "data": {
            "text/html": [
              "<style>\n",
              "    .notebox {\n",
              "        border: 4px solid #666;\n",
              "        padding: .5em;\n",
              "    }\n",
              "\n",
              "    .notebox.warning {\n",
              "        border-color: orange;\n",
              "        font-weight: bold;\n",
              "    }\n",
              "\n",
              "    .notebox.danger {\n",
              "        border-color: red;\n",
              "        font-weight: bold;\n",
              "    }\n",
              "</style>\n",
              "<div class=\"notebox\">\n",
              "    This is an informational note.\n",
              "</div>\n",
              "\n",
              "<div class=\"notebox warning\">\n",
              "    This note shows a warning.\n",
              "</div>\n",
              "\n",
              "<div class=\"notebox danger\">\n",
              "    This note shows danger!\n",
              "</div>\n",
              "\n",
              "<div class=\"danger\">\n",
              "    This won't get styled — it also needs to have the notebox class\n",
              "</div>\n",
              "    "
            ],
            "text/plain": [
              "<IPython.core.display.HTML object>"
            ]
          },
          "metadata": {
            "tags": []
          }
        }
      ]
    },
    {
      "cell_type": "code",
      "metadata": {
        "colab": {
          "base_uri": "https://localhost:8080/",
          "height": 140
        },
        "id": "GZwQkvoDSqZ6",
        "outputId": "91794b6c-97c7-40d7-fee7-a9f4632dd87c"
      },
      "source": [
        "# ID セレクターは #\n",
        "%%html\n",
        "<style>\n",
        "    #one {\n",
        "        background-color: yellow;\n",
        "    }\n",
        "\n",
        "    h1#heading {\n",
        "        color: rebeccapurple;\n",
        "    }\n",
        "</style>\n",
        "<h1 id=\"heading\">ID selector</h1>\n",
        "<p>Veggies es bonus vobis, proinde vos postulo essum magis kohlrabi welsh onion daikon amaranth tatsoi tomatillo\n",
        "    melon azuki bean garlic.</p>\n",
        "\n",
        "<p id=\"one\">Gumbo beet greens corn soko <strong>endive</strong> gumbo gourd. Parsley shallot courgette tatsoi pea\n",
        "    sprouts fava bean collard\n",
        "    greens dandelion okra wakame tomato. Dandelion cucumber earthnut pea peanut soko zucchini.</p>"
      ],
      "execution_count": null,
      "outputs": [
        {
          "output_type": "display_data",
          "data": {
            "text/html": [
              "<style>\n",
              "    #one {\n",
              "        background-color: yellow;\n",
              "    }\n",
              "\n",
              "    h1#heading {\n",
              "        color: rebeccapurple;\n",
              "    }\n",
              "</style>\n",
              "<h1 id=\"heading\">ID selector</h1>\n",
              "<p>Veggies es bonus vobis, proinde vos postulo essum magis kohlrabi welsh onion daikon amaranth tatsoi tomatillo\n",
              "    melon azuki bean garlic.</p>\n",
              "\n",
              "<p id=\"one\">Gumbo beet greens corn soko <strong>endive</strong> gumbo gourd. Parsley shallot courgette tatsoi pea\n",
              "    sprouts fava bean collard\n",
              "    greens dandelion okra wakame tomato. Dandelion cucumber earthnut pea peanut soko zucchini.</p>"
            ],
            "text/plain": [
              "<IPython.core.display.HTML object>"
            ]
          },
          "metadata": {
            "tags": []
          }
        }
      ]
    },
    {
      "cell_type": "code",
      "metadata": {
        "id": "oO_D6qdcUYpW"
      },
      "source": [
        "# 値のセレクター\n",
        "%%script false\n",
        "[attr] a[title] 属性名が一致\n",
        "[attr=value] a[href=\"https://example.com\"] 属性の値が完全一致\n",
        "[attr~=value] p[class~=\"special\"] 複数の値の一つに一致\n",
        "[attr|=value] div[lang|=\"zh\"] 値がvalueか、valueの直後にハイフンが続くと一致"
      ],
      "execution_count": null,
      "outputs": []
    },
    {
      "cell_type": "code",
      "metadata": {
        "colab": {
          "base_uri": "https://localhost:8080/",
          "height": 238
        },
        "id": "yfyNEDDLUyBQ",
        "outputId": "fa1d5962-a88e-48ff-d0b9-6b0fd6876993"
      },
      "source": [
        "%%html\n",
        "<style>\n",
        "    li[class] {\n",
        "        font-size: 200%;\n",
        "    }\n",
        "\n",
        "    li[class=\"a\"] {\n",
        "        background-color: yellow;\n",
        "    }\n",
        "\n",
        "    li[class~=\"a\"] {\n",
        "        color: red;\n",
        "    }\n",
        "    li[class|=\"zh\"] {\n",
        "        color: green;\n",
        "    }\n",
        "</style>\n",
        "<h1>Attribute presence and value selectors</h1>\n",
        "<ul>\n",
        "    <li>Item 1</li>\n",
        "    <li class=\"a\">Item 2</li>\n",
        "    <li class=\"a b\">Item 3</li>\n",
        "    <li class=\"ab\">Item 4</li>\n",
        "    <li class=\"zh-ja\">Item 5</li>\n",
        "</ul>\n"
      ],
      "execution_count": null,
      "outputs": [
        {
          "output_type": "display_data",
          "data": {
            "text/html": [
              "<style>\n",
              "    li[class] {\n",
              "        font-size: 200%;\n",
              "    }\n",
              "\n",
              "    li[class=\"a\"] {\n",
              "        background-color: yellow;\n",
              "    }\n",
              "\n",
              "    li[class~=\"a\"] {\n",
              "        color: red;\n",
              "    }\n",
              "    li[class|=\"zh\"] {\n",
              "        color: green;\n",
              "    }\n",
              "</style>\n",
              "<h1>Attribute presence and value selectors</h1>\n",
              "<ul>\n",
              "    <li>Item 1</li>\n",
              "    <li class=\"a\">Item 2</li>\n",
              "    <li class=\"a b\">Item 3</li>\n",
              "    <li class=\"ab\">Item 4</li>\n",
              "    <li class=\"zh-ja\">Item 5</li>\n",
              "</ul>"
            ],
            "text/plain": [
              "<IPython.core.display.HTML object>"
            ]
          },
          "metadata": {
            "tags": []
          }
        }
      ]
    },
    {
      "cell_type": "code",
      "metadata": {
        "id": "NxxsQuaOjwXC"
      },
      "source": [
        "# 部分文字列一致セレクター\n",
        "%%script false\n",
        "[attr^=value] li[class^=\"box-\"] 値が value で始まる\n",
        "[attr$=value] li[class$=\"-box\"] 値が value で終わる\n",
        "[attr*=value] li[class*=\"box\"] 値が value を含む"
      ],
      "execution_count": null,
      "outputs": []
    },
    {
      "cell_type": "code",
      "metadata": {
        "id": "pF13Og8ajxBu",
        "colab": {
          "base_uri": "https://localhost:8080/",
          "height": 186
        },
        "outputId": "db5abb44-6d0f-471f-8bfe-c008523eee9e"
      },
      "source": [
        "%%html\n",
        "<style>\n",
        "    li[class^=\"a\"] {\n",
        "        font-size: 200%;\n",
        "    }\n",
        "\n",
        "    li[class$=\"a\"] {\n",
        "        background-color: yellow;\n",
        "    }\n",
        "\n",
        "    li[class*=\"a\"] {\n",
        "        color: red;\n",
        "    }\n",
        "</style>\n",
        "<h1>Attribute substring matching selectors</h1>\n",
        "<ul>\n",
        "    <li class=\"a\">Item 1</li>\n",
        "    <li class=\"ab\">Item 2</li>\n",
        "    <li class=\"bca\">Item 3</li>\n",
        "    <li class=\"bcabc\">Item 4</li>\n",
        "</ul>"
      ],
      "execution_count": null,
      "outputs": [
        {
          "output_type": "display_data",
          "data": {
            "text/html": [
              "<style>\n",
              "    li[class^=\"a\"] {\n",
              "        font-size: 200%;\n",
              "    }\n",
              "\n",
              "    li[class$=\"a\"] {\n",
              "        background-color: yellow;\n",
              "    }\n",
              "\n",
              "    li[class*=\"a\"] {\n",
              "        color: red;\n",
              "    }\n",
              "</style>\n",
              "<h1>Attribute substring matching selectors</h1>\n",
              "<ul>\n",
              "    <li class=\"a\">Item 1</li>\n",
              "    <li class=\"ab\">Item 2</li>\n",
              "    <li class=\"bca\">Item 3</li>\n",
              "    <li class=\"bcabc\">Item 4</li>\n",
              "</ul>"
            ],
            "text/plain": [
              "<IPython.core.display.HTML object>"
            ]
          },
          "metadata": {
            "tags": []
          }
        }
      ]
    },
    {
      "cell_type": "code",
      "metadata": {
        "id": "AOzToJvkkKAm",
        "colab": {
          "base_uri": "https://localhost:8080/",
          "height": 135
        },
        "outputId": "f83b43cc-3892-4e33-9a95-2bd53435b914"
      },
      "source": [
        "# 大文字小文字の区別 case sensitivity\n",
        "%%html\n",
        "<style>\n",
        "    li[class^=\"a\"] {\n",
        "        background-color: yellow;\n",
        "    }\n",
        "\n",
        "    li[class^=\"a\"i] {\n",
        "        color: red;\n",
        "    }\n",
        "</style>\n",
        "<h1>Case-insensitivity</h1>\n",
        "<ul>\n",
        "    <li class=\"a\">Item 1</li>\n",
        "    <li class=\"A\">Item 2</li>\n",
        "    <li class=\"Ab\">Item 3</li>\n",
        "</ul>"
      ],
      "execution_count": null,
      "outputs": [
        {
          "output_type": "display_data",
          "data": {
            "text/html": [
              "<style>\n",
              "    li[class^=\"a\"] {\n",
              "        background-color: yellow;\n",
              "    }\n",
              "\n",
              "    li[class^=\"a\"i] {\n",
              "        color: red;\n",
              "    }\n",
              "</style>\n",
              "<h1>Case-insensitivity</h1>\n",
              "<ul>\n",
              "    <li class=\"a\">Item 1</li>\n",
              "    <li class=\"A\">Item 2</li>\n",
              "    <li class=\"Ab\">Item 3</li>\n",
              "</ul>"
            ],
            "text/plain": [
              "<IPython.core.display.HTML object>"
            ]
          },
          "metadata": {
            "tags": []
          }
        }
      ]
    },
    {
      "cell_type": "code",
      "metadata": {
        "id": "mL-qGvLXlJhD",
        "colab": {
          "base_uri": "https://localhost:8080/",
          "height": 269
        },
        "outputId": "b22f5ae5-e0ee-49e3-dc50-dc150e90a92f"
      },
      "source": [
        "%%html\n",
        "<style>\n",
        "    a {\n",
        "        display: inline-block;\n",
        "        line-height: 40px;\n",
        "        font-size: 20px;\n",
        "        text-decoration: none;\n",
        "        text-align: center;\n",
        "        width: 200px;\n",
        "        margin-bottom: 10px;\n",
        "        border: 5px solid grey;\n",
        "    }\n",
        "\n",
        "    li {\n",
        "        list-style-type: none;\n",
        "    }\n",
        "\n",
        "    a[title] {\n",
        "        border-color: pink;\n",
        "    }\n",
        "\n",
        "    a[href*=\"contact\"] {\n",
        "        border-color: orange;\n",
        "    }\n",
        "\n",
        "    a[href^=\"https\"] {\n",
        "        border-color: green;\n",
        "    }\n",
        "</style>\n",
        "<ul>\n",
        "    <li><a href=\"https://example.com\">Link 1</a></li>\n",
        "    <li><a href=\"http://example.com\" title=\"Visit example.com\">Link 2</a></li>\n",
        "    <li><a href=\"/contact\">Link 3</a></li>\n",
        "    <li><a href=\"../contact/index.html\">Link 4</a></li>\n",
        "</ul>"
      ],
      "execution_count": null,
      "outputs": [
        {
          "output_type": "display_data",
          "data": {
            "text/html": [
              "<style>\n",
              "    a {\n",
              "        display: inline-block;\n",
              "        line-height: 40px;\n",
              "        font-size: 20px;\n",
              "        text-decoration: none;\n",
              "        text-align: center;\n",
              "        width: 200px;\n",
              "        margin-bottom: 10px;\n",
              "        border: 5px solid grey;\n",
              "    }\n",
              "\n",
              "    li {\n",
              "        list-style-type: none;\n",
              "    }\n",
              "\n",
              "    a[title] {\n",
              "        border-color: pink;\n",
              "    }\n",
              "\n",
              "    a[href*=\"contact\"] {\n",
              "        border-color: orange;\n",
              "    }\n",
              "\n",
              "    a[href^=\"https\"] {\n",
              "        border-color: green;\n",
              "    }\n",
              "</style>\n",
              "<ul>\n",
              "    <li><a href=\"https://example.com\">Link 1</a></li>\n",
              "    <li><a href=\"http://example.com\" title=\"Visit example.com\">Link 2</a></li>\n",
              "    <li><a href=\"/contact\">Link 3</a></li>\n",
              "    <li><a href=\"../contact/index.html\">Link 4</a></li>\n",
              "</ul>"
            ],
            "text/plain": [
              "<IPython.core.display.HTML object>"
            ]
          },
          "metadata": {
            "tags": []
          }
        }
      ]
    },
    {
      "cell_type": "markdown",
      "metadata": {
        "id": "4BL-4OKWoL76"
      },
      "source": [
        "# 疑似クラスと疑似要素"
      ]
    },
    {
      "cell_type": "code",
      "metadata": {
        "id": "O0V0l2dEohCg",
        "colab": {
          "base_uri": "https://localhost:8080/",
          "height": 109
        },
        "outputId": "6a35e1af-048e-49c1-cede-55b84a38a435"
      },
      "source": [
        "# 疑似クラスは :hover とか :first-child のようにコロンで始まる\n",
        "%%html\n",
        "<style>\n",
        "    article p:first-child {\n",
        "        font-size: 120%;\n",
        "        font-weight: bold;\n",
        "    }\n",
        "</style>\n",
        "<article>\n",
        "    <p>Veggies es bonus vobis, proinde vos postulo essum magis kohlrabi welsh onion daikon amaranth tatsoi tomatillo\n",
        "        melon azuki bean garlic.</p>\n",
        "\n",
        "    <p>Gumbo beet greens corn soko endive gumbo gourd. Parsley shallot courgette tatsoi pea sprouts fava bean collard\n",
        "        greens dandelion okra wakame tomato. Dandelion cucumber earthnut pea peanut soko zucchini.</p>\n",
        "</article>"
      ],
      "execution_count": null,
      "outputs": [
        {
          "output_type": "display_data",
          "data": {
            "text/html": [
              "<style>\n",
              "    article p:first-child {\n",
              "        font-size: 120%;\n",
              "        font-weight: bold;\n",
              "    }\n",
              "</style>\n",
              "<article>\n",
              "    <p>Veggies es bonus vobis, proinde vos postulo essum magis kohlrabi welsh onion daikon amaranth tatsoi tomatillo\n",
              "        melon azuki bean garlic.</p>\n",
              "\n",
              "    <p>Gumbo beet greens corn soko endive gumbo gourd. Parsley shallot courgette tatsoi pea sprouts fava bean collard\n",
              "        greens dandelion okra wakame tomato. Dandelion cucumber earthnut pea peanut soko zucchini.</p>\n",
              "</article>"
            ],
            "text/plain": [
              "<IPython.core.display.HTML object>"
            ]
          },
          "metadata": {
            "tags": []
          }
        }
      ]
    },
    {
      "cell_type": "code",
      "metadata": {
        "id": "Z6QSRJCFC9O0",
        "outputId": "de476473-862d-4d56-a1e6-cc47a5b32b53",
        "colab": {
          "base_uri": "https://localhost:8080/",
          "height": 110
        }
      },
      "source": [
        "# 疑似要素は ::first-line のようにダブルコロンで始まる。\n",
        "# ::first-line は幅が短くなっても意図した通りに働く。\n",
        "%%html\n",
        "<style>\n",
        "    article p::first-line {\n",
        "        font-size: 120%;\n",
        "        font-weight: bold;\n",
        "    }\n",
        "</style>\n",
        "<article>\n",
        "    <p>Veggies es bonus vobis, proinde vos postulo essum magis kohlrabi welsh onion daikon amaranth tatsoi tomatillo\n",
        "        melon azuki bean garlic.</p>\n",
        "\n",
        "    <p>Gumbo beet greens corn soko endive gumbo gourd. Parsley shallot courgette tatsoi pea sprouts fava bean collard\n",
        "        greens dandelion okra wakame tomato. Dandelion cucumber earthnut pea peanut soko zucchini.</p>\n",
        "</article>"
      ],
      "execution_count": 101,
      "outputs": [
        {
          "output_type": "display_data",
          "data": {
            "text/html": [
              "<style>\n",
              "    article p::first-line {\n",
              "        font-size: 120%;\n",
              "        font-weight: bold;\n",
              "    }\n",
              "</style>\n",
              "<article>\n",
              "    <p>Veggies es bonus vobis, proinde vos postulo essum magis kohlrabi welsh onion daikon amaranth tatsoi tomatillo\n",
              "        melon azuki bean garlic.</p>\n",
              "\n",
              "    <p>Gumbo beet greens corn soko endive gumbo gourd. Parsley shallot courgette tatsoi pea sprouts fava bean collard\n",
              "        greens dandelion okra wakame tomato. Dandelion cucumber earthnut pea peanut soko zucchini.</p>\n",
              "</article>"
            ],
            "text/plain": [
              "<IPython.core.display.HTML object>"
            ]
          },
          "metadata": {
            "tags": []
          }
        }
      ]
    },
    {
      "cell_type": "code",
      "metadata": {
        "id": "6f1X--B4DzqI"
      },
      "source": [
        "## 疑似クラスと疑似要素は組み合わせられる\n",
        "%%script false\n",
        "    article p:first-child::first-line {\n",
        "        font-size: 120%;\n",
        "        font-weight: bold;\n",
        "    }"
      ],
      "execution_count": null,
      "outputs": []
    },
    {
      "cell_type": "code",
      "metadata": {
        "id": "sGeSUyEAGo6U",
        "outputId": "32505eb6-bfb6-4a87-c536-96cc0ac65126",
        "colab": {
          "base_uri": "https://localhost:8080/",
          "height": 62
        }
      },
      "source": [
        "# 疑似要素 ::before と ::after\n",
        "%%html\n",
        "<style>\n",
        "    .box::before {\n",
        "        display: block;\n",
        "        content: \"This should show before the other content. \"\n",
        "    }\n",
        "</style>\n",
        "\n",
        "<p class=\"box\">Content in the box in my HTML page.</p>"
      ],
      "execution_count": 111,
      "outputs": [
        {
          "output_type": "display_data",
          "data": {
            "text/html": [
              "<style>\n",
              "    .box::before {\n",
              "        display: block;\n",
              "        content: \"This should show before the other content. \"\n",
              "    }\n",
              "</style>\n",
              "\n",
              "<p class=\"box\">Content in the box in my HTML page.</p>"
            ],
            "text/plain": [
              "<IPython.core.display.HTML object>"
            ]
          },
          "metadata": {
            "tags": []
          }
        }
      ]
    },
    {
      "cell_type": "code",
      "metadata": {
        "id": "-d-erC19HEKD",
        "outputId": "7f576a74-4783-4022-a595-7bb74d4a47c4",
        "colab": {
          "base_uri": "https://localhost:8080/",
          "height": 46
        }
      },
      "source": [
        "%%html\n",
        "<style>\n",
        "    .box::after {\n",
        "        content: \" ➥\"\n",
        "    }\n",
        "</style>\n",
        "\n",
        "<p class=\"box\">Content in the box in my HTML page.</p>"
      ],
      "execution_count": 110,
      "outputs": [
        {
          "output_type": "display_data",
          "data": {
            "text/html": [
              "<style>\n",
              "    .box::after {\n",
              "        content: \" ➥\"\n",
              "    }\n",
              "</style>\n",
              "\n",
              "<p class=\"box\">Content in the box in my HTML page.</p>"
            ],
            "text/plain": [
              "<IPython.core.display.HTML object>"
            ]
          },
          "metadata": {
            "tags": []
          }
        }
      ]
    },
    {
      "cell_type": "code",
      "metadata": {
        "id": "Y6ATBM9uHZKC",
        "outputId": "71aedd80-73ad-4854-85ca-12017c6d29f5",
        "colab": {
          "base_uri": "https://localhost:8080/",
          "height": 148
        }
      },
      "source": [
        "%%html\n",
        "<style>\n",
        "    .box::before {\n",
        "        content: \"\";\n",
        "        display: block;\n",
        "        width: 100px;\n",
        "        height: 100px;\n",
        "        background-color: rebeccapurple;\n",
        "        border: 1px solid black;\n",
        "    }\n",
        "</style>\n",
        "\n",
        "<p class=\"box\">Content in the box in my HTML page.</p>"
      ],
      "execution_count": 114,
      "outputs": [
        {
          "output_type": "display_data",
          "data": {
            "text/html": [
              "<style>\n",
              "    .box::before {\n",
              "        content: \"\";\n",
              "        display: block;\n",
              "        width: 100px;\n",
              "        height: 100px;\n",
              "        background-color: rebeccapurple;\n",
              "        border: 1px solid black;\n",
              "    }\n",
              "</style>\n",
              "\n",
              "<p class=\"box\">Content in the box in my HTML page.</p>"
            ],
            "text/plain": [
              "<IPython.core.display.HTML object>"
            ]
          },
          "metadata": {
            "tags": []
          }
        }
      ]
    },
    {
      "cell_type": "code",
      "metadata": {
        "id": "39bLegX1F7PT",
        "outputId": "17165aad-62c9-4647-f616-a85a4c2da408",
        "colab": {
          "base_uri": "https://localhost:8080/",
          "height": 77
        }
      },
      "source": [
        "%%html\n",
        "<style>\n",
        ".arrow_box {\n",
        "\tposition: relative;\n",
        "\tbackground: #88b7d5;\n",
        "\tborder: 4px solid #c2e1f5;\n",
        "}\n",
        ".arrow_box:after, .arrow_box:before {\n",
        "\tbottom: 100%;\n",
        "\tleft: 50%;\n",
        "\tborder: solid transparent;\n",
        "\tcontent: \"\";\n",
        "\theight: 0;\n",
        "\twidth: 0;\n",
        "\tposition: absolute;\n",
        "\tpointer-events: none;\n",
        "}\n",
        "\n",
        ".arrow_box:after {\n",
        "\tborder-color: rgba(136, 183, 213, 0);\n",
        "\tborder-bottom-color: #88b7d5;\n",
        "\tborder-width: 30px;\n",
        "\tmargin-left: -30px;\n",
        "}\n",
        ".arrow_box:before {\n",
        "\tborder-color: rgba(194, 225, 245, 0);\n",
        "\tborder-bottom-color: #c2e1f5;\n",
        "\tborder-width: 36px;\n",
        "\tmargin-left: -36px;\n",
        "}\n",
        "</style>\n",
        "<article class=\"arrow_box\">\n",
        "    <p>css arrowplease!</p>\n",
        "    <p>css</p>\n",
        "</article>"
      ],
      "execution_count": 122,
      "outputs": [
        {
          "output_type": "display_data",
          "data": {
            "text/html": [
              "<style>\n",
              ".arrow_box {\n",
              "\tposition: relative;\n",
              "\tbackground: #88b7d5;\n",
              "\tborder: 4px solid #c2e1f5;\n",
              "}\n",
              "/* .arrow_box:after, .arrow_box:before {\n",
              "\tbottom: 100%;\n",
              "\tleft: 50%;\n",
              "\tborder: solid transparent;\n",
              "\tcontent: \"\";\n",
              "\theight: 0;\n",
              "\twidth: 0;\n",
              "\tposition: absolute;\n",
              "\tpointer-events: none;\n",
              "} */\n",
              "\n",
              ".arrow_box:after {\n",
              "\tborder-color: rgba(136, 183, 213, 0);\n",
              "\tborder-bottom-color: #88b7d5;\n",
              "\tborder-width: 30px;\n",
              "\tmargin-left: -30px;\n",
              "}\n",
              ".arrow_box:before {\n",
              "\tborder-color: rgba(194, 225, 245, 0);\n",
              "\tborder-bottom-color: #c2e1f5;\n",
              "\tborder-width: 36px;\n",
              "\tmargin-left: -36px;\n",
              "}\n",
              "</style>\n",
              "<article class=\"arrow_box\">\n",
              "    <p>css arrowplease!</p>\n",
              "    <p>css</p>\n",
              "</article>"
            ],
            "text/plain": [
              "<IPython.core.display.HTML object>"
            ]
          },
          "metadata": {
            "tags": []
          }
        }
      ]
    },
    {
      "cell_type": "markdown",
      "metadata": {
        "id": "2nhWa1BHS4qb"
      },
      "source": [
        "# いまここ\n",
        "https://developer.mozilla.org/ja/docs/Learn/CSS/Building_blocks/Selectors/Type_Class_and_ID_Selectors"
      ]
    },
    {
      "cell_type": "markdown",
      "metadata": {
        "id": "LuVSyDnL7tFU"
      },
      "source": [
        "# ボックスモデル\n",
        "\n",
        "何を指してボックスモデルというのか。\n",
        "\n",
        "とりあえず、widthとheightがある。padding, border, margin, postion:absoluteとかもあるね。\n",
        "\n",
        "次の例では margin: 0px をいろんなところに入れてみたが、むずかしい。\n"
      ]
    },
    {
      "cell_type": "code",
      "metadata": {
        "id": "zCtJErLX8C9H",
        "colab": {
          "base_uri": "https://localhost:8080/",
          "height": 69
        },
        "outputId": "213a5e95-4a0c-415f-99bb-cf4fcc326030"
      },
      "source": [
        "%%html\n",
        "<style>\n",
        "body {\n",
        "  color: #777;\n",
        "  font-family: Verdana, sams-serif;\n",
        "  margin: 0px;\n",
        "}\n",
        "h1 {\n",
        "  /* color: blue; */\n",
        "  color: rgb(0, 255, 0);\n",
        "  color: #00ff00;\n",
        "  color: #0f0;\n",
        "  background-color: yellow;\n",
        "  margin: 0px;\n",
        "}\n",
        "p { \n",
        "    background-color: pink;  \n",
        "    margin: 0px;\n",
        "}\n",
        "header {\n",
        "  background-color: #e1efff;\n",
        "}\n",
        "</style>\n",
        "\n",
        "<body>\n",
        "<header>\n",
        "<div id=\"container\">\n",
        "<h1>大見出し</h1>\n",
        "<p>中身の文章つらつら</p>\n",
        "</div>\n",
        "</header>\n",
        "</body>"
      ],
      "execution_count": null,
      "outputs": [
        {
          "output_type": "display_data",
          "data": {
            "text/html": [
              "<style>\n",
              "body {\n",
              "  color: #777;\n",
              "  font-family: Verdana, sams-serif;\n",
              "  margin: 0px;\n",
              "}\n",
              "h1 {\n",
              "  /* color: blue; */\n",
              "  color: rgb(0, 255, 0);\n",
              "  color: #00ff00;\n",
              "  color: #0f0;\n",
              "  background-color: yellow;\n",
              "  margin: 0px;\n",
              "}\n",
              "p { \n",
              "    background-color: pink;  \n",
              "    margin: 0px;\n",
              "}\n",
              "header {\n",
              "  background-color: #e1efff;\n",
              "}\n",
              "</style>\n",
              "\n",
              "<body>\n",
              "<header>\n",
              "<div id=\"container\">\n",
              "<h1>大見出し</h1>\n",
              "<p>中身の文章つらつら</p>\n",
              "</div>\n",
              "</header>\n",
              "</body>"
            ],
            "text/plain": [
              "<IPython.core.display.HTML object>"
            ]
          },
          "metadata": {
            "tags": []
          }
        }
      ]
    },
    {
      "cell_type": "markdown",
      "metadata": {
        "id": "YzswA_0bJPNg"
      },
      "source": [
        "# センタリング\n",
        "\n",
        "下の例では、div class=\"container\" でくくって、cssでwidthを400にして、左右のmargin を autoにするとセンタリングされている。\n",
        "\n",
        "まあ、きれいなのだが、どんなもんか。スマホには効かないのをどうやってきりわけるのか。"
      ]
    },
    {
      "cell_type": "code",
      "metadata": {
        "id": "0ogXEDofJMN7",
        "colab": {
          "base_uri": "https://localhost:8080/",
          "height": 100
        },
        "outputId": "88963044-d244-4d06-d623-1fcda3040ee0"
      },
      "source": [
        "%%html\n",
        "<style>\n",
        "body {\n",
        "  color: #333;\n",
        "  font-family: Verdana, sans-serif;\n",
        "  margin: 0;\n",
        "}\n",
        "\n",
        "header {\n",
        "  background-color: #efefef;\n",
        "}\n",
        "\n",
        ".container {\n",
        "  background-color: pink;\n",
        "  width: 400px;\n",
        "  margin-left: auto;\n",
        "  margin-right: auto;\n",
        "}\n",
        "</style>\n",
        "\n",
        "<body>\n",
        "<header>\n",
        "<div class=\"container\">\n",
        "<h1>大見出し</h1>\n",
        "<p>中身の文章つらつら</p>\n",
        "</div>\n",
        "</header>\n",
        "</body>"
      ],
      "execution_count": null,
      "outputs": [
        {
          "output_type": "display_data",
          "data": {
            "text/html": [
              "<style>\n",
              "body {\n",
              "  color: #333;\n",
              "  font-family: Verdana, sans-serif;\n",
              "  margin: 0;\n",
              "}\n",
              "\n",
              "header {\n",
              "  background-color: #efefef;\n",
              "}\n",
              "\n",
              ".container {\n",
              "  background-color: pink;\n",
              "  width: 400px;\n",
              "  margin-left: auto;\n",
              "  margin-right: auto;\n",
              "}\n",
              "</style>\n",
              "\n",
              "<body>\n",
              "<header>\n",
              "<div class=\"container\">\n",
              "<h1>大見出し</h1>\n",
              "<p>中身の文章つらつら</p>\n",
              "</div>\n",
              "</header>\n",
              "</body>"
            ],
            "text/plain": [
              "<IPython.core.display.HTML object>"
            ]
          },
          "metadata": {
            "tags": []
          }
        }
      ]
    },
    {
      "cell_type": "markdown",
      "metadata": {
        "id": "6ii7MmSAIyEy"
      },
      "source": [
        "# Flexbox\n",
        "\n",
        "要素を横並びにする道具だっけ?\n",
        "\n",
        "container に display: flex; とつけると、中身が横並びになるけど、上下の位置が変だ。"
      ]
    },
    {
      "cell_type": "code",
      "metadata": {
        "id": "ILQgBYdoJkkm",
        "colab": {
          "base_uri": "https://localhost:8080/",
          "height": 75
        },
        "outputId": "204da5cd-c1a5-4807-9ffe-e88dee6d8148"
      },
      "source": [
        "%%html\n",
        "<style>\n",
        "body {\n",
        "  color: #333;\n",
        "  font-family: Verdana, sans-serif;\n",
        "  margin: 0;\n",
        "}\n",
        "\n",
        "header {\n",
        "  background-color: #efefef;\n",
        "}\n",
        "\n",
        ".container {\n",
        "  background-color: pink;\n",
        "  width: 400px;\n",
        "  margin-left: auto;\n",
        "  margin-right: auto;\n",
        "  display: flex;\n",
        "}\n",
        "</style>\n",
        "\n",
        "<body>\n",
        "<header>\n",
        "<div class=\"container\">\n",
        "<h1>大見出し</h1>\n",
        "<p>中身の文章つらつら</p>\n",
        "</div>\n",
        "</header>\n",
        "</body>"
      ],
      "execution_count": null,
      "outputs": [
        {
          "output_type": "display_data",
          "data": {
            "text/html": [
              "<style>\n",
              "body {\n",
              "  color: #333;\n",
              "  font-family: Verdana, sans-serif;\n",
              "  margin: 0;\n",
              "}\n",
              "\n",
              "header {\n",
              "  background-color: #efefef;\n",
              "}\n",
              "\n",
              ".container {\n",
              "  background-color: pink;\n",
              "  width: 400px;\n",
              "  margin-left: auto;\n",
              "  margin-right: auto;\n",
              "  display: flex;\n",
              "}\n",
              "</style>\n",
              "\n",
              "<body>\n",
              "<header>\n",
              "<div class=\"container\">\n",
              "<h1>大見出し</h1>\n",
              "<p>中身の文章つらつら</p>\n",
              "</div>\n",
              "</header>\n",
              "</body>"
            ],
            "text/plain": [
              "<IPython.core.display.HTML object>"
            ]
          },
          "metadata": {
            "tags": []
          }
        }
      ]
    },
    {
      "cell_type": "markdown",
      "metadata": {
        "id": "29jx73DEbojp"
      },
      "source": [
        ""
      ]
    }
  ]
}