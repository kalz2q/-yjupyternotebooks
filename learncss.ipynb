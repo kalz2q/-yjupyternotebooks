{
  "nbformat": 4,
  "nbformat_minor": 0,
  "metadata": {
    "colab": {
      "name": "learncss.ipynb",
      "provenance": [],
      "toc_visible": true,
      "authorship_tag": "ABX9TyMD8uFl4ERnfdCuvtcli7JG",
      "include_colab_link": true
    },
    "kernelspec": {
      "name": "python3",
      "display_name": "Python 3"
    }
  },
  "cells": [
    {
      "cell_type": "markdown",
      "metadata": {
        "id": "view-in-github",
        "colab_type": "text"
      },
      "source": [
        "<a href=\"https://colab.research.google.com/github/kalz2q/mycolabnotebooks/blob/master/learncss.ipynb\" target=\"_parent\"><img src=\"https://colab.research.google.com/assets/colab-badge.svg\" alt=\"Open In Colab\"/></a>"
      ]
    },
    {
      "cell_type": "markdown",
      "metadata": {
        "id": "hGm2x-JRqV46",
        "colab_type": "text"
      },
      "source": [
        "# メモ\n",
        "\n",
        "Colab で CSS を勉強する。%%html を使う。\n",
        "\n",
        "コマンドセルの中では ```<link rel=\"stylesheet\" href=\"styles.css\">``` でスタイルシートを読み込めないみたいなので、セルの中に記述することになる。"
      ]
    },
    {
      "cell_type": "code",
      "metadata": {
        "id": "TKWgq8sXq7tD",
        "colab_type": "code",
        "colab": {
          "base_uri": "https://localhost:8080/",
          "height": 99
        },
        "outputId": "3a1aac66-dc23-4656-f8da-882374a4f23e"
      },
      "source": [
        "%%html\n",
        "<style>\n",
        "h1 {\n",
        "  /* color: blue; */\n",
        "  color: rgb(0, 255, 0);\n",
        "  color: #00ff00;\n",
        "  color: #0f0;\n",
        "}\n",
        "body {\n",
        "  color: #777;\n",
        "  font-family: Verdana, sams-serif;\n",
        "}\n",
        "</style>\n",
        "\n",
        "<body>\n",
        "<h1>大見出し</h1>\n",
        "<p>中身の文章つらつら</p>\n",
        "</body>"
      ],
      "execution_count": null,
      "outputs": [
        {
          "output_type": "display_data",
          "data": {
            "text/html": [
              "<style>\n",
              "h1 {\n",
              "  /* color: blue; */\n",
              "  color: rgb(0, 255, 0);\n",
              "  color: #00ff00;\n",
              "  color: #0f0;\n",
              "}\n",
              "body {\n",
              "  color: #777;\n",
              "  font-family: Verdana, sams-serif;\n",
              "}\n",
              "</style>\n",
              "\n",
              "<body>\n",
              "<h1>大見出し</h1>\n",
              "<p>中身の文章つらつら</p>\n",
              "</body>"
            ],
            "text/plain": [
              "<IPython.core.display.HTML object>"
            ]
          },
          "metadata": {
            "tags": []
          }
        }
      ]
    },
    {
      "cell_type": "markdown",
      "metadata": {
        "id": "jnSAxpjzrMQ4",
        "colab_type": "text"
      },
      "source": [
        "このノートブックは css の勉強なので、特に head とか body は重要ではないが、必要に応じてつけて行こう。\n"
      ]
    },
    {
      "cell_type": "markdown",
      "metadata": {
        "id": "LuVSyDnL7tFU",
        "colab_type": "text"
      },
      "source": [
        "# ボックスモデル"
      ]
    },
    {
      "cell_type": "code",
      "metadata": {
        "id": "zCtJErLX8C9H",
        "colab_type": "code",
        "colab": {
          "base_uri": "https://localhost:8080/",
          "height": 91
        },
        "outputId": "1d0ebe36-d5ae-4676-dc0a-f97188915ca3"
      },
      "source": [
        "%%html\n",
        "<style>\n",
        "h1 {\n",
        "  /* color: blue; */\n",
        "  color: rgb(0, 255, 0);\n",
        "  color: #00ff00;\n",
        "  color: #0f0;\n",
        "  background-color: yellow;\n",
        "  margin: 0px;\n",
        "}\n",
        "body {\n",
        "  color: #777;\n",
        "  font-family: Verdana, sams-serif;\n",
        "}\n",
        "p { background-color: pink;  margin: 0px;}\n",
        "header {\n",
        "  background-color: #e1efff;\n",
        "\n",
        "}\n",
        "</style>\n",
        "\n",
        "<body>\n",
        "<header>\n",
        "<div id=\"container\">\n",
        "<h1>大見出し</h1>\n",
        "<p>中身の文章つらつら</p>\n",
        "</div>\n",
        "</header>\n",
        "</body>"
      ],
      "execution_count": null,
      "outputs": [
        {
          "output_type": "display_data",
          "data": {
            "text/html": [
              "<style>\n",
              "h1 {\n",
              "  /* color: blue; */\n",
              "  color: rgb(0, 255, 0);\n",
              "  color: #00ff00;\n",
              "  color: #0f0;\n",
              "  background-color: yellow;\n",
              "  /* margin: 0px; */\n",
              "}\n",
              "body {\n",
              "  color: #777;\n",
              "  font-family: Verdana, sams-serif;\n",
              "}\n",
              "p { background-color: pink;  margin: 0px;}\n",
              "header {\n",
              "  background-color: #e1efff;\n",
              "\n",
              "}\n",
              "</style>\n",
              "\n",
              "<body>\n",
              "<header>\n",
              "<h1>大見出し</h1>\n",
              "<p>中身の文章つらつら</p>\n",
              "</header>\n",
              "</body>"
            ],
            "text/plain": [
              "<IPython.core.display.HTML object>"
            ]
          },
          "metadata": {
            "tags": []
          }
        }
      ]
    },
    {
      "cell_type": "markdown",
      "metadata": {
        "id": "YzswA_0bJPNg",
        "colab_type": "text"
      },
      "source": [
        "# センタリング"
      ]
    },
    {
      "cell_type": "code",
      "metadata": {
        "id": "0ogXEDofJMN7",
        "colab_type": "code",
        "colab": {
          "base_uri": "https://localhost:8080/",
          "height": 99
        },
        "outputId": "fbabddb0-83de-4b4a-984e-9e384958a92c"
      },
      "source": [
        "%%html\n",
        "<style>\n",
        "h1 {\n",
        "  color: blue;\n",
        "  background-color: yellow;\n",
        "}\n",
        "body {\n",
        "  color: #777;\n",
        "  font-family: Verdana, sams-serif;\n",
        "}\n",
        "p { background-color: pink;\n",
        "}\n",
        "header {\n",
        "  background-color: #e1efff;\n",
        "}\n",
        "</style>\n",
        "\n",
        "<body>\n",
        "<header>\n",
        "<div id=\"container\">\n",
        "<h1>大見出し</h1>\n",
        "<p>中身の文章つらつら</p>\n",
        "</div>\n",
        "</header>\n",
        "</body>"
      ],
      "execution_count": null,
      "outputs": [
        {
          "output_type": "display_data",
          "data": {
            "text/html": [
              "<style>\n",
              "h1 {\n",
              "  color: blue;\n",
              "  background-color: yellow;\n",
              "}\n",
              "body {\n",
              "  color: #777;\n",
              "  font-family: Verdana, sams-serif;\n",
              "}\n",
              "p { background-color: pink;\n",
              "}\n",
              "header {\n",
              "  background-color: #e1efff;\n",
              "\n",
              "}\n",
              "</style>\n",
              "\n",
              "<body>\n",
              "<header>\n",
              "<div id=\"container\">\n",
              "<h1>大見出し</h1>\n",
              "<p>中身の文章つらつら</p>\n",
              "</div>\n",
              "</header>\n",
              "</body>"
            ],
            "text/plain": [
              "<IPython.core.display.HTML object>"
            ]
          },
          "metadata": {
            "tags": []
          }
        }
      ]
    },
    {
      "cell_type": "code",
      "metadata": {
        "id": "ILQgBYdoJkkm",
        "colab_type": "code",
        "colab": {}
      },
      "source": [
        ""
      ],
      "execution_count": null,
      "outputs": []
    },
    {
      "cell_type": "markdown",
      "metadata": {
        "id": "29jx73DEbojp",
        "colab_type": "text"
      },
      "source": [
        ""
      ]
    }
  ]
}