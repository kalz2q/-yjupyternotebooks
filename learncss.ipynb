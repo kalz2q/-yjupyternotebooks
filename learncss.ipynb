{
  "nbformat": 4,
  "nbformat_minor": 0,
  "metadata": {
    "colab": {
      "name": "learncss.ipynb",
      "provenance": [],
      "toc_visible": true,
      "authorship_tag": "ABX9TyMQtvbmDL5d/OikTa/qf4R3",
      "include_colab_link": true
    },
    "kernelspec": {
      "name": "python3",
      "display_name": "Python 3"
    }
  },
  "cells": [
    {
      "cell_type": "markdown",
      "metadata": {
        "id": "view-in-github",
        "colab_type": "text"
      },
      "source": [
        "<a href=\"https://colab.research.google.com/github/kalz2q/mycolabnotebooks/blob/master/learncss.ipynb\" target=\"_parent\"><img src=\"https://colab.research.google.com/assets/colab-badge.svg\" alt=\"Open In Colab\"/></a>"
      ]
    },
    {
      "cell_type": "markdown",
      "metadata": {
        "id": "hGm2x-JRqV46"
      },
      "source": [
        "# メモ\n",
        "1. Colab で CSS を勉強する。%%html を使う。\n",
        "1. コマンドセルの中では ```<link rel=\"stylesheet\" href=\"styles.css\">``` でスタイルシートを読み込めないみたいなので、セルの中に記述することになる。つまり `<style></style>` で書く。\n",
        "1. 参考サイト  \n",
        "https://developer.mozilla.org/ja/docs/Learn/CSS/First_steps/Getting_started\n",
        "  \n",
        "  https://developer.mozilla.org/ja/docs/Learn/CSS/First_steps/Getting_started"
      ]
    },
    {
      "cell_type": "markdown",
      "metadata": {
        "id": "-4ZXCrA0sl76"
      },
      "source": [
        "# はじめに少し実験"
      ]
    },
    {
      "cell_type": "code",
      "metadata": {
        "id": "TKWgq8sXq7tD",
        "colab": {
          "base_uri": "https://localhost:8080/",
          "height": 99
        },
        "outputId": "2cd89171-cd7c-4d2a-a5d0-bf26d3a715f8"
      },
      "source": [
        "# こんな感じになる style と本体だけ\n",
        "%%html\n",
        "<style>\n",
        "h1 {\n",
        "  /* color: blue; */\n",
        "  color: rgb(0, 255, 0);\n",
        "  color: #00ff00;\n",
        "  color: #0f0;\n",
        "}\n",
        "body {\n",
        "  color: #777;\n",
        "  font-family: Verdana, sams-serif;\n",
        "}\n",
        "</style>\n",
        "\n",
        "<h1>大見出し</h1>\n",
        "<p>中身の文章つらつら</p>\n"
      ],
      "execution_count": 4,
      "outputs": [
        {
          "output_type": "display_data",
          "data": {
            "text/html": [
              "<style>\n",
              "h1 {\n",
              "  /* color: blue; */\n",
              "  color: rgb(0, 255, 0);\n",
              "  color: #00ff00;\n",
              "  color: #0f0;\n",
              "}\n",
              "body {\n",
              "  color: #777;\n",
              "  font-family: Verdana, sams-serif;\n",
              "}\n",
              "</style>\n",
              "\n",
              "<h1>大見出し</h1>\n",
              "<p>中身の文章つらつら</p>"
            ],
            "text/plain": [
              "<IPython.core.display.HTML object>"
            ]
          },
          "metadata": {
            "tags": []
          }
        }
      ]
    },
    {
      "cell_type": "code",
      "metadata": {
        "id": "p-7gvKWturur",
        "outputId": "5c85c94a-3554-4b2b-85ed-d7aefb92da15",
        "colab": {
          "base_uri": "https://localhost:8080/",
          "height": 178
        }
      },
      "source": [
        "%%html\n",
        "<style>\n",
        "    body {\n",
        "        color: blue;\n",
        "    }\n",
        "    h1 {\n",
        "  color: red;\n",
        "}\n",
        "</style>\n",
        "</style>\n",
        "<h1>見出し１です</h1>\n",
        "\n",
        "<p>これは第一段落の文です。この文には <span>span 要素</span>\n",
        "    と<a href=\"http://example.com\">リンク</a>が含まれます。</p>\n",
        "\n",
        "<p>これは第二段落の文です。この文には <em>em 要素</em>が含まれます。</p>\n",
        "\n",
        "<ul>\n",
        "    <li>一つ目の項目</li>\n",
        "    <li>二つ目の項目</li>\n",
        "    <li><strong>三つ目</strong>の項目</li>\n",
        "</ul>"
      ],
      "execution_count": 7,
      "outputs": [
        {
          "output_type": "display_data",
          "data": {
            "text/html": [
              "<style>\n",
              "    body {\n",
              "        color: blue;\n",
              "    }\n",
              "    h1 {\n",
              "  color: red;\n",
              "}\n",
              "</style>\n",
              "</style>\n",
              "<h1>見出し１です</h1>\n",
              "\n",
              "<p>これは第一段落の文です。この文には <span>span 要素</span>\n",
              "    と<a href=\"http://example.com\">リンク</a>が含まれます。</p>\n",
              "\n",
              "<p>これは第二段落の文です。この文には <em>em 要素</em>が含まれます。</p>\n",
              "\n",
              "<ul>\n",
              "    <li>一つ目の項目</li>\n",
              "    <li>二つ目の項目</li>\n",
              "    <li><strong>三つ目</strong>の項目</li>\n",
              "</ul>"
            ],
            "text/plain": [
              "<IPython.core.display.HTML object>"
            ]
          },
          "metadata": {
            "tags": []
          }
        }
      ]
    },
    {
      "cell_type": "markdown",
      "metadata": {
        "id": "LuVSyDnL7tFU"
      },
      "source": [
        "# ボックスモデル\n",
        "\n",
        "何を指してボックスモデルというのか。\n",
        "\n",
        "とりあえず、widthとheightがある。padding, border, margin, postion:absoluteとかもあるね。\n",
        "\n",
        "次の例では margin: 0px をいろんなところに入れてみたが、むずかしい。\n"
      ]
    },
    {
      "cell_type": "code",
      "metadata": {
        "id": "zCtJErLX8C9H",
        "colab": {
          "base_uri": "https://localhost:8080/",
          "height": 68
        },
        "outputId": "21a0f8b0-40c3-4ade-e627-8205139dec63"
      },
      "source": [
        "%%html\n",
        "<style>\n",
        "body {\n",
        "  color: #777;\n",
        "  font-family: Verdana, sams-serif;\n",
        "  margin: 0px;\n",
        "}\n",
        "h1 {\n",
        "  /* color: blue; */\n",
        "  color: rgb(0, 255, 0);\n",
        "  color: #00ff00;\n",
        "  color: #0f0;\n",
        "  background-color: yellow;\n",
        "  margin: 0px;\n",
        "}\n",
        "p { \n",
        "    background-color: pink;  \n",
        "    margin: 0px;\n",
        "}\n",
        "header {\n",
        "  background-color: #e1efff;\n",
        "}\n",
        "</style>\n",
        "\n",
        "<body>\n",
        "<header>\n",
        "<div id=\"container\">\n",
        "<h1>大見出し</h1>\n",
        "<p>中身の文章つらつら</p>\n",
        "</div>\n",
        "</header>\n",
        "</body>"
      ],
      "execution_count": null,
      "outputs": [
        {
          "output_type": "display_data",
          "data": {
            "text/html": [
              "<style>\n",
              "body {\n",
              "  color: #777;\n",
              "  font-family: Verdana, sams-serif;\n",
              "  margin: 0px;\n",
              "}\n",
              "h1 {\n",
              "  /* color: blue; */\n",
              "  color: rgb(0, 255, 0);\n",
              "  color: #00ff00;\n",
              "  color: #0f0;\n",
              "  background-color: yellow;\n",
              "  margin: 0px;\n",
              "}\n",
              "p { \n",
              "    background-color: pink;  \n",
              "    margin: 0px;\n",
              "}\n",
              "header {\n",
              "  background-color: #e1efff;\n",
              "}\n",
              "</style>\n",
              "\n",
              "<body>\n",
              "<header>\n",
              "<div id=\"container\">\n",
              "<h1>大見出し</h1>\n",
              "<p>中身の文章つらつら</p>\n",
              "</div>\n",
              "</header>\n",
              "</body>"
            ],
            "text/plain": [
              "<IPython.core.display.HTML object>"
            ]
          },
          "metadata": {
            "tags": []
          }
        }
      ]
    },
    {
      "cell_type": "markdown",
      "metadata": {
        "id": "YzswA_0bJPNg"
      },
      "source": [
        "# センタリング\n",
        "\n",
        "下の例では、div class=\"container\" でくくって、cssでwidthを400にして、左右のmargin を autoにするとセンタリングされている。\n",
        "\n",
        "まあ、きれいなのだが、どんなもんか。スマホには効かないのをどうやってきりわけるのか。"
      ]
    },
    {
      "cell_type": "code",
      "metadata": {
        "id": "0ogXEDofJMN7",
        "colab": {
          "base_uri": "https://localhost:8080/",
          "height": 99
        },
        "outputId": "a5528494-cf82-4122-e39e-61f858e7266f"
      },
      "source": [
        "%%html\n",
        "<style>\n",
        "body {\n",
        "  color: #333;\n",
        "  font-family: Verdana, sans-serif;\n",
        "  margin: 0;\n",
        "}\n",
        "\n",
        "header {\n",
        "  background-color: #efefef;\n",
        "}\n",
        "\n",
        ".container {\n",
        "  background-color: pink;\n",
        "  width: 400px;\n",
        "  margin-left: auto;\n",
        "  margin-right: auto;\n",
        "}\n",
        "</style>\n",
        "\n",
        "<body>\n",
        "<header>\n",
        "<div class=\"container\">\n",
        "<h1>大見出し</h1>\n",
        "<p>中身の文章つらつら</p>\n",
        "</div>\n",
        "</header>\n",
        "</body>"
      ],
      "execution_count": null,
      "outputs": [
        {
          "output_type": "display_data",
          "data": {
            "text/html": [
              "<style>\n",
              "body {\n",
              "  color: #333;\n",
              "  font-family: Verdana, sans-serif;\n",
              "  margin: 0;\n",
              "}\n",
              "\n",
              "header {\n",
              "  background-color: #efefef;\n",
              "}\n",
              "\n",
              ".container {\n",
              "  background-color: pink;\n",
              "  width: 400px;\n",
              "  margin-left: auto;\n",
              "  margin-right: auto;\n",
              "}\n",
              "</style>\n",
              "\n",
              "<body>\n",
              "<header>\n",
              "<div class=\"container\">\n",
              "<h1>大見出し</h1>\n",
              "<p>中身の文章つらつら</p>\n",
              "</div>\n",
              "</header>\n",
              "</body>"
            ],
            "text/plain": [
              "<IPython.core.display.HTML object>"
            ]
          },
          "metadata": {
            "tags": []
          }
        }
      ]
    },
    {
      "cell_type": "markdown",
      "metadata": {
        "id": "6ii7MmSAIyEy"
      },
      "source": [
        "# Flexbox\n",
        "\n",
        "要素を横並びにする道具だっけ?\n",
        "\n",
        "container に display: flex; とつけると、中身が横並びになるけど、上下の位置が変だ。"
      ]
    },
    {
      "cell_type": "code",
      "metadata": {
        "id": "ILQgBYdoJkkm",
        "colab": {
          "base_uri": "https://localhost:8080/",
          "height": 74
        },
        "outputId": "0efdad1a-81de-4597-fcb4-e74832578c0d"
      },
      "source": [
        "%%html\n",
        "<style>\n",
        "body {\n",
        "  color: #333;\n",
        "  font-family: Verdana, sans-serif;\n",
        "  margin: 0;\n",
        "}\n",
        "\n",
        "header {\n",
        "  background-color: #efefef;\n",
        "}\n",
        "\n",
        ".container {\n",
        "  background-color: pink;\n",
        "  width: 400px;\n",
        "  margin-left: auto;\n",
        "  margin-right: auto;\n",
        "  display: flex;\n",
        "}\n",
        "</style>\n",
        "\n",
        "<body>\n",
        "<header>\n",
        "<div class=\"container\">\n",
        "<h1>大見出し</h1>\n",
        "<p>中身の文章つらつら</p>\n",
        "</div>\n",
        "</header>\n",
        "</body>"
      ],
      "execution_count": null,
      "outputs": [
        {
          "output_type": "display_data",
          "data": {
            "text/html": [
              "<style>\n",
              "body {\n",
              "  color: #333;\n",
              "  font-family: Verdana, sans-serif;\n",
              "  margin: 0;\n",
              "}\n",
              "\n",
              "header {\n",
              "  background-color: #efefef;\n",
              "}\n",
              "\n",
              ".container {\n",
              "  background-color: pink;\n",
              "  width: 400px;\n",
              "  margin-left: auto;\n",
              "  margin-right: auto;\n",
              "  display: flex;\n",
              "}\n",
              "</style>\n",
              "\n",
              "<body>\n",
              "<header>\n",
              "<div class=\"container\">\n",
              "<h1>大見出し</h1>\n",
              "<p>中身の文章つらつら</p>\n",
              "</div>\n",
              "</header>\n",
              "</body>"
            ],
            "text/plain": [
              "<IPython.core.display.HTML object>"
            ]
          },
          "metadata": {
            "tags": []
          }
        }
      ]
    },
    {
      "cell_type": "markdown",
      "metadata": {
        "id": "_3FfqBZ1LHjX"
      },
      "source": [
        "# 画像の角を丸くする\n",
        "\n",
        "ドットインストールのデモでは、画像の角を丸くするのを css で ```\n",
        "border-radius: 50%; ```\n",
        "というので実現しているが、これを svg でもできるか。そもそも svg の画像を用意しよう。"
      ]
    },
    {
      "cell_type": "markdown",
      "metadata": {
        "id": "29jx73DEbojp"
      },
      "source": [
        ""
      ]
    }
  ]
}