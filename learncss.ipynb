{
  "nbformat": 4,
  "nbformat_minor": 0,
  "metadata": {
    "colab": {
      "name": "learncss.ipynb",
      "provenance": [],
      "toc_visible": true,
      "authorship_tag": "ABX9TyPiyoWz6ypY3VLtsfIMdrds",
      "include_colab_link": true
    },
    "kernelspec": {
      "name": "python3",
      "display_name": "Python 3"
    }
  },
  "cells": [
    {
      "cell_type": "markdown",
      "metadata": {
        "id": "view-in-github",
        "colab_type": "text"
      },
      "source": [
        "<a href=\"https://colab.research.google.com/github/kalz2q/mycolabnotebooks/blob/master/learncss.ipynb\" target=\"_parent\"><img src=\"https://colab.research.google.com/assets/colab-badge.svg\" alt=\"Open In Colab\"/></a>"
      ]
    },
    {
      "cell_type": "markdown",
      "metadata": {
        "id": "hGm2x-JRqV46"
      },
      "source": [
        "# メモ\n",
        "1. Colab で CSS を勉強する。%%html を使う。\n",
        "1. コマンドセルの中では ```<link rel=\"stylesheet\" href=\"styles.css\">``` でスタイルシートを読み込めないみたいなので、セルの中に記述することになる。つまり `<style></style>` で書く。\n",
        "1. 参考サイト  \n",
        "https://developer.mozilla.org/ja/docs/Learn/CSS/First_steps/Getting_started\n",
        "  \n",
        "  https://www.w3schools.com/css/"
      ]
    },
    {
      "cell_type": "markdown",
      "metadata": {
        "id": "-4ZXCrA0sl76"
      },
      "source": [
        "# はじめに少し実験"
      ]
    },
    {
      "cell_type": "code",
      "metadata": {
        "id": "TKWgq8sXq7tD",
        "colab": {
          "base_uri": "https://localhost:8080/",
          "height": 100
        },
        "outputId": "3e50b604-4678-479b-9c98-3d7164df1ae4"
      },
      "source": [
        "# こんな感じになる style と本体だけ\n",
        "%%html\n",
        "<style>\n",
        "h1 {\n",
        "  color: blue; \n",
        "  color: rgb(0, 255, 0);\n",
        "  color: #00ff00;\n",
        "  color: #0f0;\n",
        "}\n",
        "body {\n",
        "  color: #377;\n",
        "  font-family: Verdana, sams-serif;\n",
        "}\n",
        "</style>\n",
        "\n",
        "<h1>大見出し</h1>\n",
        "<p>中身の文章つらつら</p>\n"
      ],
      "execution_count": null,
      "outputs": [
        {
          "output_type": "display_data",
          "data": {
            "text/html": [
              "<style>\n",
              "h1 {\n",
              "  color: blue; \n",
              "  color: rgb(0, 255, 0);\n",
              "  color: #00ff00;\n",
              "  color: #0f0;\n",
              "}\n",
              "body {\n",
              "  color: #377;\n",
              "  font-family: Verdana, sams-serif;\n",
              "}\n",
              "</style>\n",
              "\n",
              "<h1>大見出し</h1>\n",
              "<p>中身の文章つらつら</p>"
            ],
            "text/plain": [
              "<IPython.core.display.HTML object>"
            ]
          },
          "metadata": {
            "tags": []
          }
        }
      ]
    },
    {
      "cell_type": "code",
      "metadata": {
        "id": "p-7gvKWturur",
        "colab": {
          "base_uri": "https://localhost:8080/",
          "height": 178
        },
        "outputId": "5c85c94a-3554-4b2b-85ed-d7aefb92da15"
      },
      "source": [
        "%%html\n",
        "<style>\n",
        "    body {\n",
        "        color: blue;\n",
        "    }\n",
        "    h1 {\n",
        "  color: red;\n",
        "}\n",
        "</style>\n",
        "</style>\n",
        "<h1>見出し１です</h1>\n",
        "\n",
        "<p>これは第一段落の文です。この文には <span>span 要素</span>\n",
        "    と<a href=\"http://example.com\">リンク</a>が含まれます。</p>\n",
        "\n",
        "<p>これは第二段落の文です。この文には <em>em 要素</em>が含まれます。</p>\n",
        "\n",
        "<ul>\n",
        "    <li>一つ目の項目</li>\n",
        "    <li>二つ目の項目</li>\n",
        "    <li><strong>三つ目</strong>の項目</li>\n",
        "</ul>"
      ],
      "execution_count": null,
      "outputs": [
        {
          "output_type": "display_data",
          "data": {
            "text/html": [
              "<style>\n",
              "    body {\n",
              "        color: blue;\n",
              "    }\n",
              "    h1 {\n",
              "  color: red;\n",
              "}\n",
              "</style>\n",
              "</style>\n",
              "<h1>見出し１です</h1>\n",
              "\n",
              "<p>これは第一段落の文です。この文には <span>span 要素</span>\n",
              "    と<a href=\"http://example.com\">リンク</a>が含まれます。</p>\n",
              "\n",
              "<p>これは第二段落の文です。この文には <em>em 要素</em>が含まれます。</p>\n",
              "\n",
              "<ul>\n",
              "    <li>一つ目の項目</li>\n",
              "    <li>二つ目の項目</li>\n",
              "    <li><strong>三つ目</strong>の項目</li>\n",
              "</ul>"
            ],
            "text/plain": [
              "<IPython.core.display.HTML object>"
            ]
          },
          "metadata": {
            "tags": []
          }
        }
      ]
    },
    {
      "cell_type": "code",
      "metadata": {
        "id": "9kzKWxAlTmrR",
        "colab": {
          "base_uri": "https://localhost:8080/",
          "height": 181
        },
        "outputId": "89dadafd-2fd3-4ce0-972b-31f807f4529f"
      },
      "source": [
        "%%html\n",
        "<style>\n",
        "p, li {\n",
        "  color: green;\n",
        "} </style>\n",
        "\n",
        "<h1>I am a level one heading</h1>\n",
        "\n",
        "<p>This is a paragraph of text. In the text is a <span>span element</span>\n",
        "    and also a <a href=\"http://example.com\">link</a>.</p>\n",
        "\n",
        "<p>This is the second paragraph. It contains an <em>emphasized</em> element.</p>\n",
        "\n",
        "<ul>\n",
        "    <li>Item one</li>\n",
        "    <li>Item two</li>\n",
        "    <li>Item <em>three</em></li>\n",
        "</ul>"
      ],
      "execution_count": null,
      "outputs": [
        {
          "output_type": "display_data",
          "data": {
            "text/html": [
              "<style>\n",
              "p, li {\n",
              "  color: green;\n",
              "} </style>\n",
              "\n",
              "<h1>I am a level one heading</h1>\n",
              "\n",
              "<p>This is a paragraph of text. In the text is a <span>span element</span>\n",
              "    and also a <a href=\"http://example.com\">link</a>.</p>\n",
              "\n",
              "<p>This is the second paragraph. It contains an <em>emphasized</em> element.</p>\n",
              "\n",
              "<ul>\n",
              "    <li>Item one</li>\n",
              "    <li>Item two</li>\n",
              "    <li>Item <em>three</em></li>\n",
              "</ul>"
            ],
            "text/plain": [
              "<IPython.core.display.HTML object>"
            ]
          },
          "metadata": {
            "tags": []
          }
        }
      ]
    },
    {
      "cell_type": "markdown",
      "metadata": {
        "id": "Kw_aD_VXURgj"
      },
      "source": [
        "# リストの点を取る"
      ]
    },
    {
      "cell_type": "code",
      "metadata": {
        "id": "-hWaQCTpUJpH",
        "colab": {
          "base_uri": "https://localhost:8080/",
          "height": 178
        },
        "outputId": "7d747fc1-764f-491b-8651-5c6acba2e08b"
      },
      "source": [
        "%%html\n",
        "<style>\n",
        "p, li {\n",
        "  color: green;\n",
        "} \n",
        "li {\n",
        "  list-style-type: none;\n",
        "}\n",
        "</style>\n",
        "\n",
        "<h1>I am a level one heading</h1>\n",
        "\n",
        "<p>This is a paragraph of text. In the text is a <span>span element</span>\n",
        "    and also a <a href=\"http://example.com\">link</a>.</p>\n",
        "\n",
        "<p>This is the second paragraph. It contains an <em>emphasized</em> element.</p>\n",
        "\n",
        "<ul>\n",
        "    <li>Item one</li>\n",
        "    <li>Item two</li>\n",
        "    <li>Item <em>three</em></li>\n",
        "</ul>"
      ],
      "execution_count": null,
      "outputs": [
        {
          "output_type": "display_data",
          "data": {
            "text/html": [
              "<style>\n",
              "p, li {\n",
              "  color: green;\n",
              "} \n",
              "li {\n",
              "  list-style-type: none;\n",
              "}\n",
              "</style>\n",
              "\n",
              "<h1>I am a level one heading</h1>\n",
              "\n",
              "<p>This is a paragraph of text. In the text is a <span>span element</span>\n",
              "    and also a <a href=\"http://example.com\">link</a>.</p>\n",
              "\n",
              "<p>This is the second paragraph. It contains an <em>emphasized</em> element.</p>\n",
              "\n",
              "<ul>\n",
              "    <li>Item one</li>\n",
              "    <li>Item two</li>\n",
              "    <li>Item <em>three</em></li>\n",
              "</ul>"
            ],
            "text/plain": [
              "<IPython.core.display.HTML object>"
            ]
          },
          "metadata": {
            "tags": []
          }
        }
      ]
    },
    {
      "cell_type": "code",
      "metadata": {
        "id": "ZxdHPQIxwDRk",
        "colab": {
          "base_uri": "https://localhost:8080/",
          "height": 102
        },
        "outputId": "92133cd0-cd38-4a29-ed7f-ed098408336a"
      },
      "source": [
        "# クラスを加える\n",
        "%%html\n",
        "<style>\n",
        "    li.special {\n",
        "        color: orange;\n",
        "        font-weight: bold;\n",
        "    }\n",
        "    li em {\n",
        "        color: purple;\n",
        "    }\n",
        "    body {\n",
        "        background-color: lightgrey;\n",
        "    }\n",
        "</style>\n",
        "<p><span class=\"special\">ここは段落内のspanでclassがspecial</span></p>\n",
        "<ul>\n",
        "    <li>Item one</li>\n",
        "    <li class=\"special\">二つ目の項目</li>\n",
        "    <li><em>三つ目</em>の項目</li>\n",
        "</ul>"
      ],
      "execution_count": null,
      "outputs": [
        {
          "output_type": "display_data",
          "data": {
            "text/html": [
              "<style>\n",
              "    li.special {\n",
              "        color: orange;\n",
              "        font-weight: bold;\n",
              "    }\n",
              "    li em {\n",
              "        color: purple;\n",
              "    }\n",
              "    body {\n",
              "        background-color: lightgrey;\n",
              "    }\n",
              "</style>\n",
              "<p><span class=\"special\">ここは段落内のspanでclassがspecial</span></p>\n",
              "<ul>\n",
              "    <li>Item one</li>\n",
              "    <li class=\"special\">二つ目の項目</li>\n",
              "    <li><em>三つ目</em>の項目</li>\n",
              "</ul>"
            ],
            "text/plain": [
              "<IPython.core.display.HTML object>"
            ]
          },
          "metadata": {
            "tags": []
          }
        }
      ]
    },
    {
      "cell_type": "code",
      "metadata": {
        "id": "RIMXkq7wMMEy",
        "colab": {
          "base_uri": "https://localhost:8080/",
          "height": 140
        },
        "outputId": "3f2a995a-36c7-4594-b183-5a44006ceba9"
      },
      "source": [
        "# adjacent sibling combinator \"+\"\n",
        "%%html\n",
        "<style>\n",
        "    em {\n",
        "        color: rebeccapurple;\n",
        "    }\n",
        "\n",
        "    h1+p {\n",
        "        font-size: 200%;\n",
        "        background-color: rebeccapurple;\n",
        "        color: white;\n",
        "    }\n",
        "\n",
        "    a:link {\n",
        "        color: pink;\n",
        "    }\n",
        "\n",
        "    a:visited {\n",
        "        color: green;\n",
        "    }\n",
        "\n",
        "    a:hover {\n",
        "        text-decoration: none;\n",
        "    }    \n",
        "</style>\n",
        "<h1>I am a level one heading</h1>\n",
        "\n",
        "<p>This is a paragraph of text. In the text is a <span>span element</span>\n",
        "    and also a <a href=\"http://example.com\">link</a>.</p>\n",
        "\n",
        "<p>This is the second paragraph. It contains an <em>emphasized</em> element.</p>"
      ],
      "execution_count": 8,
      "outputs": [
        {
          "output_type": "display_data",
          "data": {
            "text/html": [
              "<style>\n",
              "    em {\n",
              "        color: rebeccapurple;\n",
              "    }\n",
              "\n",
              "    h1+p {\n",
              "        font-size: 200%;\n",
              "        background-color: rebeccapurple;\n",
              "        color: white;\n",
              "    }\n",
              "\n",
              "    a:link {\n",
              "        color: pink;\n",
              "    }\n",
              "\n",
              "    a:visited {\n",
              "        color: green;\n",
              "    }\n",
              "\n",
              "    a:hover {\n",
              "        text-decoration: none;\n",
              "    }    \n",
              "</style>\n",
              "<h1>I am a level one heading</h1>\n",
              "\n",
              "<p>This is a paragraph of text. In the text is a <span>span element</span>\n",
              "    and also a <a href=\"http://example.com\">link</a>.</p>\n",
              "\n",
              "<p>This is the second paragraph. It contains an <em>emphasized</em> element.</p>"
            ],
            "text/plain": [
              "<IPython.core.display.HTML object>"
            ]
          },
          "metadata": {
            "tags": []
          }
        }
      ]
    },
    {
      "cell_type": "code",
      "metadata": {
        "id": "EtgAgcqrPECF",
        "colab": {
          "base_uri": "https://localhost:8080/",
          "height": 100
        },
        "outputId": "e5464875-916b-44fa-c308-30f2e2ce726c"
      },
      "source": [
        "# combinator\n",
        "%%html\n",
        "<!-- body の中の h1 の次にくる p の中の class が special -->\n",
        "<style> \n",
        "    body h1 + p .special {\n",
        "        color: yellow;\n",
        "        background-color: black;\n",
        "        padding: 5px;\n",
        "    }\n",
        "</style>\n",
        "<h1>I am a level one heading</h1>\n",
        "\n",
        "<p>This is <span class=\"special\">the first paragraph.</span> It contains an <em>emphasized</em> element.</p>"
      ],
      "execution_count": 19,
      "outputs": [
        {
          "output_type": "display_data",
          "data": {
            "text/html": [
              "<!-- body の中の h1 の次にくる p の中の class が special -->\n",
              "<style> \n",
              "    body h1 + p .special {\n",
              "        color: yellow;\n",
              "        background-color: black;\n",
              "        padding: 5px;\n",
              "    }\n",
              "</style>\n",
              "<h1>I am a level one heading</h1>\n",
              "\n",
              "<p>This is <span class=\"special\">the first paragraph.</span> It contains an <em>emphasized</em> element.</p>"
            ],
            "text/plain": [
              "<IPython.core.display.HTML object>"
            ]
          },
          "metadata": {
            "tags": []
          }
        }
      ]
    },
    {
      "cell_type": "markdown",
      "metadata": {
        "id": "2nhWa1BHS4qb"
      },
      "source": [
        "# いまここ\n",
        "https://developer.mozilla.org/ja/docs/Learn/CSS/First_steps/How_CSS_is_structured#Applying_CSS_to_HTML"
      ]
    },
    {
      "cell_type": "markdown",
      "metadata": {
        "id": "LuVSyDnL7tFU"
      },
      "source": [
        "# ボックスモデル\n",
        "\n",
        "何を指してボックスモデルというのか。\n",
        "\n",
        "とりあえず、widthとheightがある。padding, border, margin, postion:absoluteとかもあるね。\n",
        "\n",
        "次の例では margin: 0px をいろんなところに入れてみたが、むずかしい。\n"
      ]
    },
    {
      "cell_type": "code",
      "metadata": {
        "id": "zCtJErLX8C9H",
        "colab": {
          "base_uri": "https://localhost:8080/",
          "height": 68
        },
        "outputId": "21a0f8b0-40c3-4ade-e627-8205139dec63"
      },
      "source": [
        "%%html\n",
        "<style>\n",
        "body {\n",
        "  color: #777;\n",
        "  font-family: Verdana, sams-serif;\n",
        "  margin: 0px;\n",
        "}\n",
        "h1 {\n",
        "  /* color: blue; */\n",
        "  color: rgb(0, 255, 0);\n",
        "  color: #00ff00;\n",
        "  color: #0f0;\n",
        "  background-color: yellow;\n",
        "  margin: 0px;\n",
        "}\n",
        "p { \n",
        "    background-color: pink;  \n",
        "    margin: 0px;\n",
        "}\n",
        "header {\n",
        "  background-color: #e1efff;\n",
        "}\n",
        "</style>\n",
        "\n",
        "<body>\n",
        "<header>\n",
        "<div id=\"container\">\n",
        "<h1>大見出し</h1>\n",
        "<p>中身の文章つらつら</p>\n",
        "</div>\n",
        "</header>\n",
        "</body>"
      ],
      "execution_count": null,
      "outputs": [
        {
          "output_type": "display_data",
          "data": {
            "text/html": [
              "<style>\n",
              "body {\n",
              "  color: #777;\n",
              "  font-family: Verdana, sams-serif;\n",
              "  margin: 0px;\n",
              "}\n",
              "h1 {\n",
              "  /* color: blue; */\n",
              "  color: rgb(0, 255, 0);\n",
              "  color: #00ff00;\n",
              "  color: #0f0;\n",
              "  background-color: yellow;\n",
              "  margin: 0px;\n",
              "}\n",
              "p { \n",
              "    background-color: pink;  \n",
              "    margin: 0px;\n",
              "}\n",
              "header {\n",
              "  background-color: #e1efff;\n",
              "}\n",
              "</style>\n",
              "\n",
              "<body>\n",
              "<header>\n",
              "<div id=\"container\">\n",
              "<h1>大見出し</h1>\n",
              "<p>中身の文章つらつら</p>\n",
              "</div>\n",
              "</header>\n",
              "</body>"
            ],
            "text/plain": [
              "<IPython.core.display.HTML object>"
            ]
          },
          "metadata": {
            "tags": []
          }
        }
      ]
    },
    {
      "cell_type": "markdown",
      "metadata": {
        "id": "YzswA_0bJPNg"
      },
      "source": [
        "# センタリング\n",
        "\n",
        "下の例では、div class=\"container\" でくくって、cssでwidthを400にして、左右のmargin を autoにするとセンタリングされている。\n",
        "\n",
        "まあ、きれいなのだが、どんなもんか。スマホには効かないのをどうやってきりわけるのか。"
      ]
    },
    {
      "cell_type": "code",
      "metadata": {
        "id": "0ogXEDofJMN7",
        "colab": {
          "base_uri": "https://localhost:8080/",
          "height": 99
        },
        "outputId": "a5528494-cf82-4122-e39e-61f858e7266f"
      },
      "source": [
        "%%html\n",
        "<style>\n",
        "body {\n",
        "  color: #333;\n",
        "  font-family: Verdana, sans-serif;\n",
        "  margin: 0;\n",
        "}\n",
        "\n",
        "header {\n",
        "  background-color: #efefef;\n",
        "}\n",
        "\n",
        ".container {\n",
        "  background-color: pink;\n",
        "  width: 400px;\n",
        "  margin-left: auto;\n",
        "  margin-right: auto;\n",
        "}\n",
        "</style>\n",
        "\n",
        "<body>\n",
        "<header>\n",
        "<div class=\"container\">\n",
        "<h1>大見出し</h1>\n",
        "<p>中身の文章つらつら</p>\n",
        "</div>\n",
        "</header>\n",
        "</body>"
      ],
      "execution_count": null,
      "outputs": [
        {
          "output_type": "display_data",
          "data": {
            "text/html": [
              "<style>\n",
              "body {\n",
              "  color: #333;\n",
              "  font-family: Verdana, sans-serif;\n",
              "  margin: 0;\n",
              "}\n",
              "\n",
              "header {\n",
              "  background-color: #efefef;\n",
              "}\n",
              "\n",
              ".container {\n",
              "  background-color: pink;\n",
              "  width: 400px;\n",
              "  margin-left: auto;\n",
              "  margin-right: auto;\n",
              "}\n",
              "</style>\n",
              "\n",
              "<body>\n",
              "<header>\n",
              "<div class=\"container\">\n",
              "<h1>大見出し</h1>\n",
              "<p>中身の文章つらつら</p>\n",
              "</div>\n",
              "</header>\n",
              "</body>"
            ],
            "text/plain": [
              "<IPython.core.display.HTML object>"
            ]
          },
          "metadata": {
            "tags": []
          }
        }
      ]
    },
    {
      "cell_type": "markdown",
      "metadata": {
        "id": "6ii7MmSAIyEy"
      },
      "source": [
        "# Flexbox\n",
        "\n",
        "要素を横並びにする道具だっけ?\n",
        "\n",
        "container に display: flex; とつけると、中身が横並びになるけど、上下の位置が変だ。"
      ]
    },
    {
      "cell_type": "code",
      "metadata": {
        "id": "ILQgBYdoJkkm",
        "colab": {
          "base_uri": "https://localhost:8080/",
          "height": 74
        },
        "outputId": "0efdad1a-81de-4597-fcb4-e74832578c0d"
      },
      "source": [
        "%%html\n",
        "<style>\n",
        "body {\n",
        "  color: #333;\n",
        "  font-family: Verdana, sans-serif;\n",
        "  margin: 0;\n",
        "}\n",
        "\n",
        "header {\n",
        "  background-color: #efefef;\n",
        "}\n",
        "\n",
        ".container {\n",
        "  background-color: pink;\n",
        "  width: 400px;\n",
        "  margin-left: auto;\n",
        "  margin-right: auto;\n",
        "  display: flex;\n",
        "}\n",
        "</style>\n",
        "\n",
        "<body>\n",
        "<header>\n",
        "<div class=\"container\">\n",
        "<h1>大見出し</h1>\n",
        "<p>中身の文章つらつら</p>\n",
        "</div>\n",
        "</header>\n",
        "</body>"
      ],
      "execution_count": null,
      "outputs": [
        {
          "output_type": "display_data",
          "data": {
            "text/html": [
              "<style>\n",
              "body {\n",
              "  color: #333;\n",
              "  font-family: Verdana, sans-serif;\n",
              "  margin: 0;\n",
              "}\n",
              "\n",
              "header {\n",
              "  background-color: #efefef;\n",
              "}\n",
              "\n",
              ".container {\n",
              "  background-color: pink;\n",
              "  width: 400px;\n",
              "  margin-left: auto;\n",
              "  margin-right: auto;\n",
              "  display: flex;\n",
              "}\n",
              "</style>\n",
              "\n",
              "<body>\n",
              "<header>\n",
              "<div class=\"container\">\n",
              "<h1>大見出し</h1>\n",
              "<p>中身の文章つらつら</p>\n",
              "</div>\n",
              "</header>\n",
              "</body>"
            ],
            "text/plain": [
              "<IPython.core.display.HTML object>"
            ]
          },
          "metadata": {
            "tags": []
          }
        }
      ]
    },
    {
      "cell_type": "markdown",
      "metadata": {
        "id": "29jx73DEbojp"
      },
      "source": [
        ""
      ]
    }
  ]
}