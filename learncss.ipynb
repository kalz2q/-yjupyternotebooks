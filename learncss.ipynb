{
  "nbformat": 4,
  "nbformat_minor": 0,
  "metadata": {
    "colab": {
      "name": "learncss.ipynb",
      "provenance": [],
      "toc_visible": true,
      "authorship_tag": "ABX9TyM8GrHRjutox/SQxnIJw+pm",
      "include_colab_link": true
    },
    "kernelspec": {
      "name": "python3",
      "display_name": "Python 3"
    }
  },
  "cells": [
    {
      "cell_type": "markdown",
      "metadata": {
        "id": "view-in-github",
        "colab_type": "text"
      },
      "source": [
        "<a href=\"https://colab.research.google.com/github/kalz2q/mycolabnotebooks/blob/master/learncss.ipynb\" target=\"_parent\"><img src=\"https://colab.research.google.com/assets/colab-badge.svg\" alt=\"Open In Colab\"/></a>"
      ]
    },
    {
      "cell_type": "markdown",
      "metadata": {
        "id": "hGm2x-JRqV46"
      },
      "source": [
        "# メモ\n",
        "1. Colab で CSS を勉強する。%%html を使う。\n",
        "1. コマンドセルの中では ```<link rel=\"stylesheet\" href=\"styles.css\">``` でスタイルシートを読み込めないみたいなので、セルの中に記述することになる。つまり `<style></style>` で書く。\n",
        "1. 参考サイト  \n",
        "https://developer.mozilla.org/ja/docs/Learn/CSS/First_steps/Getting_started\n",
        "  \n",
        "  https://www.w3schools.com/css/"
      ]
    },
    {
      "cell_type": "markdown",
      "metadata": {
        "id": "-4ZXCrA0sl76"
      },
      "source": [
        "# はじめに少し実験"
      ]
    },
    {
      "cell_type": "code",
      "metadata": {
        "id": "TKWgq8sXq7tD",
        "colab": {
          "base_uri": "https://localhost:8080/",
          "height": 100
        },
        "outputId": "0cd5c0c1-d19b-4157-8685-5818d9c09d61"
      },
      "source": [
        "# こんな感じになる style と本体だけ\n",
        "%%html\n",
        "<style>\n",
        "h1 {\n",
        "  color: blue; \n",
        "  color: rgb(0, 255, 0);\n",
        "  color: #00ff00;\n",
        "  color: #0f0;\n",
        "}\n",
        "body {\n",
        "  color: #377;\n",
        "  font-family: Verdana, sams-serif;\n",
        "}\n",
        "</style>\n",
        "\n",
        "<h1>大見出し</h1>\n",
        "<p>中身の文章つらつら</p>\n"
      ],
      "execution_count": null,
      "outputs": [
        {
          "output_type": "display_data",
          "data": {
            "text/html": [
              "<style>\n",
              "h1 {\n",
              "  color: blue; \n",
              "  color: rgb(0, 255, 0);\n",
              "  color: #00ff00;\n",
              "  color: #0f0;\n",
              "}\n",
              "body {\n",
              "  color: #377;\n",
              "  font-family: Verdana, sams-serif;\n",
              "}\n",
              "</style>\n",
              "\n",
              "<h1>大見出し</h1>\n",
              "<p>中身の文章つらつら</p>"
            ],
            "text/plain": [
              "<IPython.core.display.HTML object>"
            ]
          },
          "metadata": {
            "tags": []
          }
        }
      ]
    },
    {
      "cell_type": "code",
      "metadata": {
        "id": "p-7gvKWturur",
        "colab": {
          "base_uri": "https://localhost:8080/",
          "height": 181
        },
        "outputId": "328e5b8d-5909-4708-a509-321e39159c51"
      },
      "source": [
        "%%html\n",
        "<style>\n",
        "    body {\n",
        "        color: blue;\n",
        "    }\n",
        "    h1 {\n",
        "  color: red;\n",
        "}\n",
        "</style>\n",
        "</style>\n",
        "<h1>見出し１です</h1>\n",
        "\n",
        "<p>これは第一段落の文です。この文には <span>span 要素</span>\n",
        "    と<a href=\"http://example.com\">リンク</a>が含まれます。</p>\n",
        "\n",
        "<p>これは第二段落の文です。この文には <em>em 要素</em>が含まれます。</p>\n",
        "\n",
        "<ul>\n",
        "    <li>一つ目の項目</li>\n",
        "    <li>二つ目の項目</li>\n",
        "    <li><strong>三つ目</strong>の項目</li>\n",
        "</ul>"
      ],
      "execution_count": null,
      "outputs": [
        {
          "output_type": "display_data",
          "data": {
            "text/html": [
              "<style>\n",
              "    body {\n",
              "        color: blue;\n",
              "    }\n",
              "    h1 {\n",
              "  color: red;\n",
              "}\n",
              "</style>\n",
              "</style>\n",
              "<h1>見出し１です</h1>\n",
              "\n",
              "<p>これは第一段落の文です。この文には <span>span 要素</span>\n",
              "    と<a href=\"http://example.com\">リンク</a>が含まれます。</p>\n",
              "\n",
              "<p>これは第二段落の文です。この文には <em>em 要素</em>が含まれます。</p>\n",
              "\n",
              "<ul>\n",
              "    <li>一つ目の項目</li>\n",
              "    <li>二つ目の項目</li>\n",
              "    <li><strong>三つ目</strong>の項目</li>\n",
              "</ul>"
            ],
            "text/plain": [
              "<IPython.core.display.HTML object>"
            ]
          },
          "metadata": {
            "tags": []
          }
        }
      ]
    },
    {
      "cell_type": "code",
      "metadata": {
        "id": "9kzKWxAlTmrR",
        "colab": {
          "base_uri": "https://localhost:8080/",
          "height": 181
        },
        "outputId": "e1621e6e-0c65-4842-c174-0e04ab2067d9"
      },
      "source": [
        "%%html\n",
        "<style> /* コメントも書けるがこの場所だと行コメント // が使えない */\n",
        "p, li {\n",
        "  color: green;\n",
        "} </style>\n",
        "<h1>I am a level one heading</h1>\n",
        "\n",
        "<p>This is a paragraph of text. In the text is a <span>span element</span>\n",
        "    and also a <a href=\"http://example.com\">link</a>.</p>\n",
        "\n",
        "<p>This is the second paragraph. It contains an <em>emphasized</em> element.</p>\n",
        "\n",
        "<ul>\n",
        "    <li>Item one</li>\n",
        "    <li>Item two</li>\n",
        "    <li>Item <em>three</em></li>\n",
        "</ul>"
      ],
      "execution_count": null,
      "outputs": [
        {
          "output_type": "display_data",
          "data": {
            "text/html": [
              "<style> /* コメントも書けるがこの場所だと行コメント // が使えない */\n",
              "p, li {\n",
              "  color: green;\n",
              "} </style>\n",
              "<h1>I am a level one heading</h1>\n",
              "\n",
              "<p>This is a paragraph of text. In the text is a <span>span element</span>\n",
              "    and also a <a href=\"http://example.com\">link</a>.</p>\n",
              "\n",
              "<p>This is the second paragraph. It contains an <em>emphasized</em> element.</p>\n",
              "\n",
              "<ul>\n",
              "    <li>Item one</li>\n",
              "    <li>Item two</li>\n",
              "    <li>Item <em>three</em></li>\n",
              "</ul>"
            ],
            "text/plain": [
              "<IPython.core.display.HTML object>"
            ]
          },
          "metadata": {
            "tags": []
          }
        }
      ]
    },
    {
      "cell_type": "markdown",
      "metadata": {
        "id": "Kw_aD_VXURgj"
      },
      "source": [
        "# リストの点を取る"
      ]
    },
    {
      "cell_type": "code",
      "metadata": {
        "id": "-hWaQCTpUJpH",
        "colab": {
          "base_uri": "https://localhost:8080/",
          "height": 181
        },
        "outputId": "3993ec36-7b46-462e-f9a9-3cfda119da82"
      },
      "source": [
        "%%html\n",
        "<style>\n",
        "p, li {\n",
        "  color: green;\n",
        "} \n",
        "li {\n",
        "  list-style-type: none;\n",
        "}\n",
        "</style>\n",
        "\n",
        "<h1>I am a level one heading</h1>\n",
        "\n",
        "<p>This is a paragraph of text. In the text is a <span>span element</span>\n",
        "    and also a <a href=\"http://example.com\">link</a>.</p>\n",
        "\n",
        "<p>This is the second paragraph. It contains an <em>emphasized</em> element.</p>\n",
        "\n",
        "<ul>\n",
        "    <li>Item one</li>\n",
        "    <li>Item two</li>\n",
        "    <li>Item <em>three</em></li>\n",
        "</ul>"
      ],
      "execution_count": null,
      "outputs": [
        {
          "output_type": "display_data",
          "data": {
            "text/html": [
              "<style>\n",
              "p, li {\n",
              "  color: green;\n",
              "} \n",
              "li {\n",
              "  list-style-type: none;\n",
              "}\n",
              "</style>\n",
              "\n",
              "<h1>I am a level one heading</h1>\n",
              "\n",
              "<p>This is a paragraph of text. In the text is a <span>span element</span>\n",
              "    and also a <a href=\"http://example.com\">link</a>.</p>\n",
              "\n",
              "<p>This is the second paragraph. It contains an <em>emphasized</em> element.</p>\n",
              "\n",
              "<ul>\n",
              "    <li>Item one</li>\n",
              "    <li>Item two</li>\n",
              "    <li>Item <em>three</em></li>\n",
              "</ul>"
            ],
            "text/plain": [
              "<IPython.core.display.HTML object>"
            ]
          },
          "metadata": {
            "tags": []
          }
        }
      ]
    },
    {
      "cell_type": "code",
      "metadata": {
        "id": "ZxdHPQIxwDRk",
        "colab": {
          "base_uri": "https://localhost:8080/",
          "height": 104
        },
        "outputId": "0b080e9c-eea6-42b6-d140-b6eef4261148"
      },
      "source": [
        "# クラスを加える\n",
        "%%html\n",
        "<style>\n",
        "    li.special {\n",
        "        color: orange;\n",
        "        font-weight: bold;\n",
        "    }\n",
        "    li em {\n",
        "        color: purple;\n",
        "    }\n",
        "    body {\n",
        "        background-color: lightgrey;\n",
        "    }\n",
        "</style>\n",
        "<p><span class=\"special\">ここは段落内のspanでclassがspecial</span></p>\n",
        "<ul>\n",
        "    <li>Item one</li>\n",
        "    <li class=\"special\">二つ目の項目</li>\n",
        "    <li><em>三つ目</em>の項目</li>\n",
        "</ul>"
      ],
      "execution_count": null,
      "outputs": [
        {
          "output_type": "display_data",
          "data": {
            "text/html": [
              "<style>\n",
              "    li.special {\n",
              "        color: orange;\n",
              "        font-weight: bold;\n",
              "    }\n",
              "    li em {\n",
              "        color: purple;\n",
              "    }\n",
              "    body {\n",
              "        background-color: lightgrey;\n",
              "    }\n",
              "</style>\n",
              "<p><span class=\"special\">ここは段落内のspanでclassがspecial</span></p>\n",
              "<ul>\n",
              "    <li>Item one</li>\n",
              "    <li class=\"special\">二つ目の項目</li>\n",
              "    <li><em>三つ目</em>の項目</li>\n",
              "</ul>"
            ],
            "text/plain": [
              "<IPython.core.display.HTML object>"
            ]
          },
          "metadata": {
            "tags": []
          }
        }
      ]
    },
    {
      "cell_type": "code",
      "metadata": {
        "id": "RIMXkq7wMMEy",
        "colab": {
          "base_uri": "https://localhost:8080/",
          "height": 140
        },
        "outputId": "fb37e302-0aca-44da-95b8-0e44750048ef"
      },
      "source": [
        "# adjacent sibling combinator \"+\"\n",
        "%%html\n",
        "<style>\n",
        "    em {\n",
        "        color: rebeccapurple;\n",
        "    }\n",
        "\n",
        "    h1+p {\n",
        "        font-size: 200%;\n",
        "        background-color: rebeccapurple;\n",
        "        color: white;\n",
        "    }\n",
        "\n",
        "    a:link {\n",
        "        color: pink;\n",
        "    }\n",
        "\n",
        "    a:visited {\n",
        "        color: green;\n",
        "    }\n",
        "\n",
        "    a:hover {\n",
        "        text-decoration: none;\n",
        "    }    \n",
        "</style>\n",
        "<h1>I am a level one heading</h1>\n",
        "\n",
        "<p>This is a paragraph of text. In the text is a <span>span element</span>\n",
        "    and also a <a href=\"http://example.com\">link</a>.</p>\n",
        "\n",
        "<p>This is the second paragraph. It contains an <em>emphasized</em> element.</p>"
      ],
      "execution_count": null,
      "outputs": [
        {
          "output_type": "display_data",
          "data": {
            "text/html": [
              "<style>\n",
              "    em {\n",
              "        color: rebeccapurple;\n",
              "    }\n",
              "\n",
              "    h1+p {\n",
              "        font-size: 200%;\n",
              "        background-color: rebeccapurple;\n",
              "        color: white;\n",
              "    }\n",
              "\n",
              "    a:link {\n",
              "        color: pink;\n",
              "    }\n",
              "\n",
              "    a:visited {\n",
              "        color: green;\n",
              "    }\n",
              "\n",
              "    a:hover {\n",
              "        text-decoration: none;\n",
              "    }    \n",
              "</style>\n",
              "<h1>I am a level one heading</h1>\n",
              "\n",
              "<p>This is a paragraph of text. In the text is a <span>span element</span>\n",
              "    and also a <a href=\"http://example.com\">link</a>.</p>\n",
              "\n",
              "<p>This is the second paragraph. It contains an <em>emphasized</em> element.</p>"
            ],
            "text/plain": [
              "<IPython.core.display.HTML object>"
            ]
          },
          "metadata": {
            "tags": []
          }
        }
      ]
    },
    {
      "cell_type": "code",
      "metadata": {
        "id": "EtgAgcqrPECF",
        "colab": {
          "base_uri": "https://localhost:8080/",
          "height": 100
        },
        "outputId": "6adb63e1-0fe7-4b1a-b7a6-b38dc3bb7088"
      },
      "source": [
        "# combinator\n",
        "%%html\n",
        "<!-- body の中の h1 の次にくる p の中の class が special -->\n",
        "<style> \n",
        "    body h1 + p .special {\n",
        "        color: yellow;\n",
        "        background-color: black;\n",
        "        padding: 5px;\n",
        "    }\n",
        "</style>\n",
        "<h1>I am a level one heading</h1>\n",
        "\n",
        "<p>This is <span class=\"special\">the first paragraph.</span> It contains an <em>emphasized</em> element.</p>"
      ],
      "execution_count": null,
      "outputs": [
        {
          "output_type": "display_data",
          "data": {
            "text/html": [
              "<!-- body の中の h1 の次にくる p の中の class が special -->\n",
              "<style> \n",
              "    body h1 + p .special {\n",
              "        color: yellow;\n",
              "        background-color: black;\n",
              "        padding: 5px;\n",
              "    }\n",
              "</style>\n",
              "<h1>I am a level one heading</h1>\n",
              "\n",
              "<p>This is <span class=\"special\">the first paragraph.</span> It contains an <em>emphasized</em> element.</p>"
            ],
            "text/plain": [
              "<IPython.core.display.HTML object>"
            ]
          },
          "metadata": {
            "tags": []
          }
        }
      ]
    },
    {
      "cell_type": "code",
      "metadata": {
        "id": "HXBZ2ZFlcnzc",
        "colab": {
          "base_uri": "https://localhost:8080/",
          "height": 102
        },
        "outputId": "ea896e40-5632-4638-c3af-784e963cc3a6"
      },
      "source": [
        "%%html\n",
        "<style>\n",
        "    h1 {\n",
        "        color: blue;\n",
        "        background-color: yellow;\n",
        "        border: 1px solid black;\n",
        "    }\n",
        "\n",
        "    p {\n",
        "        color: red;\n",
        "    }\n",
        "</style>\n",
        "<h1>Hello World!</h1>\n",
        "<p>This is my first CSS example</p>"
      ],
      "execution_count": null,
      "outputs": [
        {
          "output_type": "display_data",
          "data": {
            "text/html": [
              "<style>\n",
              "    h1 {\n",
              "        color: blue;\n",
              "        background-color: yellow;\n",
              "        border: 1px solid black;\n",
              "    }\n",
              "\n",
              "    p {\n",
              "        color: red;\n",
              "    }\n",
              "</style>\n",
              "<h1>Hello World!</h1>\n",
              "<p>This is my first CSS example</p>"
            ],
            "text/plain": [
              "<IPython.core.display.HTML object>"
            ]
          },
          "metadata": {
            "tags": []
          }
        }
      ]
    },
    {
      "cell_type": "code",
      "metadata": {
        "id": "aQrFejdNdCPP",
        "colab": {
          "base_uri": "https://localhost:8080/",
          "height": 102
        },
        "outputId": "fe7442f8-133c-46b0-91af-e6aed6fb60eb"
      },
      "source": [
        "# インラインスタイル inline style は可能な限り避ける\n",
        "%%html\n",
        "<h1 style=\"color: blue;background-color: yellow;border: 1px solid black;\">Hello World!</h1>\n",
        "<p style=\"color:red;\">This is my first CSS example</p>"
      ],
      "execution_count": null,
      "outputs": [
        {
          "output_type": "display_data",
          "data": {
            "text/html": [
              "<h1 style=\"color: blue;background-color: yellow;border: 1px solid black;\">Hello World!</h1>\n",
              "<p style=\"color:red;\">This is my first CSS example</p>"
            ],
            "text/plain": [
              "<IPython.core.display.HTML object>"
            ]
          },
          "metadata": {
            "tags": []
          }
        }
      ]
    },
    {
      "cell_type": "code",
      "metadata": {
        "id": "WgF-gsq0dxCC"
      },
      "source": [
        "# セレクター\n",
        "%%script false\n",
        "h1\n",
        "a:link\n",
        ".manythings\n",
        "#onething\n",
        "*\n",
        ".box p\n",
        ".box p:first-child\n",
        "h1, h2, .intro"
      ],
      "execution_count": null,
      "outputs": []
    },
    {
      "cell_type": "code",
      "metadata": {
        "id": "9THqhYweeh2n",
        "colab": {
          "base_uri": "https://localhost:8080/",
          "height": 46
        },
        "outputId": "28cbe07a-dd83-4ef3-af48-54dfe3de3500"
      },
      "source": [
        "# css style の優先度 specificity 詳細度\n",
        "%%html\n",
        "<style>\n",
        "    .special {\n",
        "        color: red;\n",
        "    }\n",
        "\n",
        "    p {\n",
        "        color: blue;\n",
        "    }\n",
        "</style>\n",
        "<p class=\"special\">What color am I?</p>\n"
      ],
      "execution_count": null,
      "outputs": [
        {
          "output_type": "display_data",
          "data": {
            "text/html": [
              "<style>\n",
              "    .special {\n",
              "        color: red;\n",
              "    }\n",
              "\n",
              "    p {\n",
              "        color: blue;\n",
              "    }\n",
              "</style>\n",
              "<p class=\"special\">What color am I?</p>"
            ],
            "text/plain": [
              "<IPython.core.display.HTML object>"
            ]
          },
          "metadata": {
            "tags": []
          }
        }
      ]
    },
    {
      "cell_type": "code",
      "metadata": {
        "id": "kqh5iJCZfdD9",
        "colab": {
          "base_uri": "https://localhost:8080/",
          "height": 75
        },
        "outputId": "b21cae15-d0f9-42a4-ca33-3cf3e2d13c23"
      },
      "source": [
        "# 簡単な計算 calc\n",
        "%%html\n",
        "<style>\n",
        "    .outer {\n",
        "        border: 5px solid black;\n",
        "        background-color: red;\n",
        "    }\n",
        "\n",
        "    .box {\n",
        "        padding: 10px;\n",
        "        width: calc(90% - 30px);\n",
        "        background-color: rebeccapurple;\n",
        "        color: white;\n",
        "        border: 5px dotted pink;\n",
        "    }\n",
        "</style>\n",
        "<div class=\"outer\"><div class=\"box\">The inner box is 90% - 30px.</div></div>"
      ],
      "execution_count": null,
      "outputs": [
        {
          "output_type": "display_data",
          "data": {
            "text/html": [
              "<style>\n",
              "    .outer {\n",
              "        border: 5px solid black;\n",
              "        background-color: red;\n",
              "    }\n",
              "\n",
              "    .box {\n",
              "        padding: 10px;\n",
              "        width: calc(90% - 30px);\n",
              "        background-color: rebeccapurple;\n",
              "        color: white;\n",
              "        border: 5px dotted pink;\n",
              "    }\n",
              "</style>\n",
              "<div class=\"outer\"><div class=\"box\">The inner box is 90% - 30px.</div></div>"
            ],
            "text/plain": [
              "<IPython.core.display.HTML object>"
            ]
          },
          "metadata": {
            "tags": []
          }
        }
      ]
    },
    {
      "cell_type": "code",
      "metadata": {
        "id": "tXIGzaB8l7Ya",
        "colab": {
          "base_uri": "https://localhost:8080/",
          "height": 177
        },
        "outputId": "a3b5947c-d957-461e-9a50-1d9b8460a9dc"
      },
      "source": [
        "# transform\n",
        "%%html\n",
        "<style>\n",
        "    .box {\n",
        "        margin: 30px;\n",
        "        width: 50px;\n",
        "        height: 100px;\n",
        "        background-color: sienna;\n",
        "        transform: rotate(0.8turn);\n",
        "    }\n",
        "</style>\n",
        "<div class=\"box\"></div>"
      ],
      "execution_count": null,
      "outputs": [
        {
          "output_type": "display_data",
          "data": {
            "text/html": [
              "<style>\n",
              "    .box {\n",
              "        margin: 30px;\n",
              "        width: 50px;\n",
              "        height: 100px;\n",
              "        background-color: sienna;\n",
              "        transform: rotate(0.8turn);\n",
              "    }\n",
              "</style>\n",
              "<div class=\"box\"></div>"
            ],
            "text/plain": [
              "<IPython.core.display.HTML object>"
            ]
          },
          "metadata": {
            "tags": []
          }
        }
      ]
    },
    {
      "cell_type": "code",
      "metadata": {
        "id": "sYzCcq5uoRWN",
        "colab": {
          "base_uri": "https://localhost:8080/",
          "height": 46
        },
        "outputId": "612a4088-781d-4fb0-ed8c-60fb331f0de7"
      },
      "source": [
        "# アット規則\n",
        "%%html\n",
        "<style>\n",
        "body {\n",
        "  background-color: pink;\n",
        "}\n",
        "\n",
        "@media (min-width: 70em) {\n",
        "  body {\n",
        "    background-color: turquoise;\n",
        "  }\n",
        "}\n",
        "</style>\n",
        "<p>Hello @ media</p>"
      ],
      "execution_count": null,
      "outputs": [
        {
          "output_type": "display_data",
          "data": {
            "text/html": [
              "<style>\n",
              "body {\n",
              "  background-color: pink;\n",
              "}\n",
              "\n",
              "@media (min-width: 70em) {\n",
              "  body {\n",
              "    background-color: turquoise;\n",
              "  }\n",
              "}\n",
              "</style>\n",
              "<p>Hello @ media</p>"
            ],
            "text/plain": [
              "<IPython.core.display.HTML object>"
            ]
          },
          "metadata": {
            "tags": []
          }
        }
      ]
    },
    {
      "cell_type": "code",
      "metadata": {
        "id": "tzKSWQDopDDY"
      },
      "source": [
        "%%script false\n",
        "/* 4 つの値による一括定義、例えば padding や margin\n",
        "   では、値が適用される順序は top, right, bottom, left の順 (top から時計回り) です。\n",
        "   他の種類の一括指定もあり、例えば 2 つの値による一括指定を padding/margin に設定すると、\n",
        "   top/bottom と left/right になります。*/\n",
        "padding: 10px 15px 15px 5px;\n",
        "\n",
        "これは\n",
        "\n",
        "padding-top: 10px;\n",
        "padding-right: 15px;\n",
        "padding-bottom: 15px;\n",
        "padding-left: 5px;\n",
        "\n",
        "と同じ。\n",
        "つぎの一行\n",
        "\n",
        "background: red url(bg-graphic.png) 10px 10px repeat-x fixed;\n",
        "\n",
        "は\n",
        "\n",
        "background-color: red;\n",
        "background-image: url(bg-graphic.png);\n",
        "background-position: 10px 10px;\n",
        "background-repeat: repeat-x;\n",
        "background-attachment: fixed;\n",
        "\n",
        "と同じ。"
      ],
      "execution_count": null,
      "outputs": []
    },
    {
      "cell_type": "markdown",
      "metadata": {
        "id": "YuwkFXokce4F"
      },
      "source": [
        "# css のコメントは /* */ であることに注意!!!!"
      ]
    },
    {
      "cell_type": "code",
      "metadata": {
        "colab": {
          "base_uri": "https://localhost:8080/",
          "height": 285
        },
        "id": "g8XgnIjndpO9",
        "outputId": "0df20835-f36c-4f7a-92a8-4a52aef2d9ec"
      },
      "source": [
        "%%html\n",
        "<style>\n",
        "    /* 基本的な要素のスタイル付けを扱う */\n",
        "    /* -------------------------------------------------------------------------------------------- */\n",
        "    body {\n",
        "        font: 1em/150% Helvetica, Arial, sans-serif;\n",
        "        padding: 1em;\n",
        "        margin: 0 auto;\n",
        "        max-width: 33em;\n",
        "    }\n",
        "\n",
        "    @media (min-width: 70em) {\n",
        "\n",
        "        /* 大きな画面やウィンドウで読みやすいように、グローバルフォントの大きさを大きくする。 */\n",
        "        body {\n",
        "            font-size: 130%;\n",
        "        }\n",
        "    }\n",
        "\n",
        "    h1 {\n",
        "        font-size: 1.5em;\n",
        "    }\n",
        "\n",
        "    /* DOM で入れ子になっている特定の要素を処理する。 */\n",
        "    /* -------------------------------------------------------------------------------------------- */\n",
        "    div.special p, #id:first-line {\n",
        "        background-color: red;\n",
        "        border-radius: 30px;\n",
        "    }\n",
        "\n",
        "    div p {\n",
        "        margin: 0;\n",
        "        padding: 1em;\n",
        "        background-color: skyblue;\n",
        "    }\n",
        "\n",
        "    div p+p {\n",
        "        padding-top: 0;\n",
        "        padding-bottom: 0;\n",
        "    }\n",
        "</style>\n",
        "<div class=\"special\">divによる一行目\n",
        "    <p>pによる一行目</p>\n",
        "    <p>二行目</p>\n",
        "    <p>三行目</p>\n",
        "    <div>divによる四行目</div>\n",
        "</div>\n",
        "<p>divの外の一行目</p>\n",
        "<p>二行目</p>\n",
        "<p class=\"special\">三行目</p>\n"
      ],
      "execution_count": null,
      "outputs": [
        {
          "output_type": "display_data",
          "data": {
            "text/html": [
              "<style>\n",
              "    /* 基本的な要素のスタイル付けを扱う */\n",
              "    /* -------------------------------------------------------------------------------------------- */\n",
              "    body {\n",
              "        font: 1em/150% Helvetica, Arial, sans-serif;\n",
              "        padding: 1em;\n",
              "        margin: 0 auto;\n",
              "        max-width: 33em;\n",
              "    }\n",
              "\n",
              "    @media (min-width: 70em) {\n",
              "\n",
              "        /* 大きな画面やウィンドウで読みやすいように、グローバルフォントの大きさを大きくする。 */\n",
              "        body {\n",
              "            font-size: 130%;\n",
              "        }\n",
              "    }\n",
              "\n",
              "    h1 {\n",
              "        font-size: 1.5em;\n",
              "    }\n",
              "\n",
              "    /* DOM で入れ子になっている特定の要素を処理する。 */\n",
              "    /* -------------------------------------------------------------------------------------------- */\n",
              "    div.special p, #id:first-line {\n",
              "        background-color: red;\n",
              "        border-radius: 30px;\n",
              "    }\n",
              "\n",
              "    div p {\n",
              "        margin: 0;\n",
              "        padding: 1em;\n",
              "        background-color: skyblue;\n",
              "    }\n",
              "\n",
              "    div p+p {\n",
              "        padding-top: 0;\n",
              "        padding-bottom: 0;\n",
              "    }\n",
              "</style>\n",
              "<div class=\"special\">divによる一行目\n",
              "    <p>pによる一行目</p>\n",
              "    <p>二行目</p>\n",
              "    <p>三行目</p>\n",
              "    <div>divによる四行目</div>\n",
              "</div>\n",
              "<p>divの外の一行目</p>\n",
              "<p>二行目</p>\n",
              "<p class=\"special\">三行目</p>"
            ],
            "text/plain": [
              "<IPython.core.display.HTML object>"
            ]
          },
          "metadata": {
            "tags": []
          }
        }
      ]
    },
    {
      "cell_type": "code",
      "metadata": {
        "id": "5UHFB-lXkDMP",
        "colab": {
          "base_uri": "https://localhost:8080/",
          "height": 104
        },
        "outputId": "1a3d037a-86c7-4dc4-9d6c-db8db6f922b0"
      },
      "source": [
        "# first-line の実験 => \"p, #id:first-line\" がわからない\n",
        "%%html\n",
        "<style>\n",
        "/*  p:first-line { // pの中の<br>より前だけ赤くなる\n",
        "    #id:first-line {  // 機能しない */\n",
        "    p, #id:first-line {  /* p が全部赤くなる */\n",
        "        color: red;\n",
        "    }\n",
        "</style>\n",
        "<p>さきちん絵はがきの紹介<br>\n",
        "    さきちん絵はがきは、無料で各種テンプレートがダウンロードできるWebサイトです。</p>\n",
        "\n",
        "<p>年賀状や暑中・寒中見舞い、四季の絵はがきなどがあります。<br>特に人気なのが年賀状。多くの方が見てくださってます。感謝♪</p>"
      ],
      "execution_count": null,
      "outputs": [
        {
          "output_type": "display_data",
          "data": {
            "text/html": [
              "<style>\n",
              "/*  p:first-line { // pの中の<br>より前だけ赤くなる\n",
              "    #id:first-line {  // 機能しない */\n",
              "    p, #id:first-line {  /* p が全部赤くなる */\n",
              "        color: red;\n",
              "    }\n",
              "</style>\n",
              "<p>さきちん絵はがきの紹介<br>\n",
              "    さきちん絵はがきは、無料で各種テンプレートがダウンロードできるWebサイトです。</p>\n",
              "\n",
              "<p>年賀状や暑中・寒中見舞い、四季の絵はがきなどがあります。<br>特に人気なのが年賀状。多くの方が見てくださってます。感謝♪</p>"
            ],
            "text/plain": [
              "<IPython.core.display.HTML object>"
            ]
          },
          "metadata": {
            "tags": []
          }
        }
      ]
    },
    {
      "cell_type": "code",
      "metadata": {
        "id": "FQISM0qv4KAh",
        "colab": {
          "base_uri": "https://localhost:8080/",
          "height": 64
        },
        "outputId": "24f4d6ec-2225-4a66-ed9e-b50d46ef058e"
      },
      "source": [
        "# cssが間違っている時の動き => 間違いは飛ばして残りをやる\n",
        "%%html\n",
        "<style>\n",
        "    p {\n",
        "        font-weight: bold;\n",
        "        colour: blue;\n",
        "        /* colorプロパティのスペルが正しくありません */\n",
        "        font-size: 200%;\n",
        "    }\n",
        "</style>\n",
        "<p> I want this text to be large, bold and blue.</p>"
      ],
      "execution_count": null,
      "outputs": [
        {
          "output_type": "display_data",
          "data": {
            "text/html": [
              "<style>\n",
              "    p {\n",
              "        font-weight: bold;\n",
              "        colour: blue;\n",
              "        /* colorプロパティのスペルが正しくありません */\n",
              "        font-size: 200%;\n",
              "    }\n",
              "</style>\n",
              "<p> I want this text to be large, bold and blue.</p>"
            ],
            "text/plain": [
              "<IPython.core.display.HTML object>"
            ]
          },
          "metadata": {
            "tags": []
          }
        }
      ]
    },
    {
      "cell_type": "code",
      "metadata": {
        "id": "OwMq61ZU5Bwe",
        "colab": {
          "base_uri": "https://localhost:8080/",
          "height": 349
        },
        "outputId": "61a618db-932a-4f45-b6f9-c3336129099e"
      },
      "source": [
        "%%html\n",
        "<style>\n",
        "    body {\n",
        "        font-family: Arial, Helvetica, sans-serif;\n",
        "    }\n",
        "\n",
        "    h1 {\n",
        "        color: hotpink;\n",
        "        /* color: #375e97; */\n",
        "        font-size: 2em;\n",
        "        font-family: Georgia, 'Times New Roman', Times, serif;\n",
        "        border-bottom: 10px dotted slateblue;\n",
        "        /* border-bottom: 1px solid #375e97; */\n",
        "    }\n",
        "\n",
        "    h2 {\n",
        "        font-size: 1.5em;\n",
        "        font-style: italic;\n",
        "    }\n",
        "\n",
        "    ul {\n",
        "        background-color: #eeeeee;\n",
        "        border: 10px solid purple;\n",
        "        padding: 20px;\n",
        "    }\n",
        "\n",
        "    .job-title {\n",
        "        color: #999999;\n",
        "        font-weight: bold;\n",
        "    }\n",
        "\n",
        "    a:link,\n",
        "    a:visited {\n",
        "        color: #fb6542;\n",
        "    }\n",
        "\n",
        "    a:hover {\n",
        "        text-decoration: none;\n",
        "        color: green;\n",
        "    }\n",
        "</style>\n",
        "<h1>Jane Doe</h1>\n",
        "<div class=\"job-title\">Web Developer</div>\n",
        "<p>Far far away, behind the word mountains, far from the countries Vokalia and Consonantia, there live the blind texts.\n",
        "    Separated they live in Bookmarksgrove right at the coast of the Semantics, a large language ocean.</p>\n",
        "\n",
        "<p>A small river named Duden flows by their place and supplies it with the necessary regelialia. It is a paradisematic\n",
        "    country, in which roasted parts of sentences fly into your mouth. </p>\n",
        "\n",
        "<h2>Contact information</h2>\n",
        "<ul>\n",
        "    <li>Email: <a href=\"mailto:jane@example.com\">jane@example.com</a></li>\n",
        "    <li>Web: <a href=\"http://example.com\">http://example.com</a></li>\n",
        "    <li>Tel: 123 45678</li>\n",
        "</ul>"
      ],
      "execution_count": null,
      "outputs": [
        {
          "output_type": "display_data",
          "data": {
            "text/html": [
              "<style>\n",
              "    body {\n",
              "        font-family: Arial, Helvetica, sans-serif;\n",
              "    }\n",
              "\n",
              "    h1 {\n",
              "        color: hotpink;\n",
              "        /* color: #375e97; */\n",
              "        font-size: 2em;\n",
              "        font-family: Georgia, 'Times New Roman', Times, serif;\n",
              "        border-bottom: 10px dotted slateblue;\n",
              "        /* border-bottom: 1px solid #375e97; */\n",
              "    }\n",
              "\n",
              "    h2 {\n",
              "        font-size: 1.5em;\n",
              "        font-style: italic;\n",
              "    }\n",
              "\n",
              "    ul {\n",
              "        background-color: #eeeeee;\n",
              "        border: 10px solid purple;\n",
              "        padding: 20px;\n",
              "    }\n",
              "\n",
              "    .job-title {\n",
              "        color: #999999;\n",
              "        font-weight: bold;\n",
              "    }\n",
              "\n",
              "    a:link,\n",
              "    a:visited {\n",
              "        color: #fb6542;\n",
              "    }\n",
              "\n",
              "    a:hover {\n",
              "        text-decoration: none;\n",
              "        color: green;\n",
              "    }\n",
              "</style>\n",
              "<h1>Jane Doe</h1>\n",
              "<div class=\"job-title\">Web Developer</div>\n",
              "<p>Far far away, behind the word mountains, far from the countries Vokalia and Consonantia, there live the blind texts.\n",
              "    Separated they live in Bookmarksgrove right at the coast of the Semantics, a large language ocean.</p>\n",
              "\n",
              "<p>A small river named Duden flows by their place and supplies it with the necessary regelialia. It is a paradisematic\n",
              "    country, in which roasted parts of sentences fly into your mouth. </p>\n",
              "\n",
              "<h2>Contact information</h2>\n",
              "<ul>\n",
              "    <li>Email: <a href=\"mailto:jane@example.com\">jane@example.com</a></li>\n",
              "    <li>Web: <a href=\"http://example.com\">http://example.com</a></li>\n",
              "    <li>Tel: 123 45678</li>\n",
              "</ul>"
            ],
            "text/plain": [
              "<IPython.core.display.HTML object>"
            ]
          },
          "metadata": {
            "tags": []
          }
        }
      ]
    },
    {
      "cell_type": "code",
      "metadata": {
        "colab": {
          "base_uri": "https://localhost:8080/",
          "height": 75
        },
        "id": "x7VLEXqOoZiJ",
        "outputId": "4cc04b47-2929-4c99-ed48-389da4296555"
      },
      "source": [
        "# cascading\n",
        "%%html\n",
        "<style>\n",
        "    h1 { \n",
        "        color: red; \n",
        "    }\n",
        "\n",
        "    h1 { \n",
        "        color: aquamarine; \n",
        "    }\n",
        "</style>\n",
        "<h1>This is my heading.</h1>"
      ],
      "execution_count": null,
      "outputs": [
        {
          "output_type": "display_data",
          "data": {
            "text/html": [
              "<style>\n",
              "    h1 { \n",
              "        color: red; \n",
              "    }\n",
              "\n",
              "    h1 { \n",
              "        color: aquamarine; \n",
              "    }\n",
              "</style>\n",
              "<h1>This is my heading.</h1>"
            ],
            "text/plain": [
              "<IPython.core.display.HTML object>"
            ]
          },
          "metadata": {
            "tags": []
          }
        }
      ]
    },
    {
      "cell_type": "code",
      "metadata": {
        "colab": {
          "base_uri": "https://localhost:8080/",
          "height": 75
        },
        "id": "XaWh-LPTqKRf",
        "outputId": "c46a4850-2eab-4a4f-dbf7-6a9917ccd301"
      },
      "source": [
        "# 詳細度 specificity による優先\n",
        "%%html\n",
        "<style>\n",
        "    .main-heading {\n",
        "        color: hotpink;\n",
        "    }\n",
        "\n",
        "    h1 {\n",
        "        color: blue;\n",
        "    }\n",
        "</style>\n",
        "<h1 class=\"main-heading\">This is my heading.</h1>"
      ],
      "execution_count": null,
      "outputs": [
        {
          "output_type": "display_data",
          "data": {
            "text/html": [
              "<style>\n",
              "    .main-heading {\n",
              "        color: hotpink;\n",
              "    }\n",
              "\n",
              "    h1 {\n",
              "        color: blue;\n",
              "    }\n",
              "</style>\n",
              "<h1 class=\"main-heading\">This is my heading.</h1>"
            ],
            "text/plain": [
              "<IPython.core.display.HTML object>"
            ]
          },
          "metadata": {
            "tags": []
          }
        }
      ]
    },
    {
      "cell_type": "code",
      "metadata": {
        "colab": {
          "base_uri": "https://localhost:8080/",
          "height": 86
        },
        "id": "oOSfCguKqzW8",
        "outputId": "c945f336-511d-4195-a291-2e4d1492463b"
      },
      "source": [
        "# 継承 inheritance\n",
        "%%html\n",
        "<style>\n",
        "body {\n",
        "    color: blue;\n",
        "}\n",
        "\n",
        "span {\n",
        "    color: black;\n",
        "    font-size: 200%;\n",
        "}\n",
        "</style>\n",
        "<p>As the body has been set to have a color of blue this is inherited through the descendants.</p>\n",
        "<p>We can change the color by targetting the element with a selector, such as this <span>span</span>.</p>\n"
      ],
      "execution_count": null,
      "outputs": [
        {
          "output_type": "display_data",
          "data": {
            "text/html": [
              "<style>\n",
              "body {\n",
              "    color: blue;\n",
              "}\n",
              "\n",
              "span {\n",
              "    color: black;\n",
              "    font-size: 200%;\n",
              "}\n",
              "</style>\n",
              "<p>As the body has been set to have a color of blue this is inherited through the descendants.</p>\n",
              "<p>We can change the color by targetting the element with a selector, such as this <span>span</span>.</p>"
            ],
            "text/plain": [
              "<IPython.core.display.HTML object>"
            ]
          },
          "metadata": {
            "tags": []
          }
        }
      ]
    },
    {
      "cell_type": "code",
      "metadata": {
        "colab": {
          "base_uri": "https://localhost:8080/",
          "height": 253
        },
        "id": "MYr3ohomrZQz",
        "outputId": "4d2ac2ed-436b-4697-9f00-804077bfd1a1"
      },
      "source": [
        "%%html\n",
        "<style>\n",
        "    .main {\n",
        "        color: rebeccapurple;\n",
        "        border: 2px solid #ccc;\n",
        "        padding: 1em;\n",
        "    }\n",
        "\n",
        "    .special {\n",
        "        color: black;\n",
        "        font-weight: bold;\n",
        "    }\n",
        "\n",
        "    ul li {\n",
        "        margin-left: 1em;\n",
        "    }\n",
        "\n",
        "    ul ul{\n",
        "        margin-left: -2em;\n",
        "    }\n",
        "\n",
        "</style>\n",
        "<ul class=\"main\">\n",
        "    <li>Item One</li>\n",
        "    <li>Item Two\n",
        "        <ul>\n",
        "            <li>2.1</li>\n",
        "            <li>2.2</li>\n",
        "        </ul>\n",
        "    </li>\n",
        "    <li>Item Three\n",
        "        <ul class=\"special\">\n",
        "            <li>3.1\n",
        "                <ul>\n",
        "                    <li>3.1.1</li>\n",
        "                    <li>3.1.2</li>\n",
        "                </ul>\n",
        "            </li>\n",
        "            <li>3.2</li>\n",
        "        </ul>\n",
        "    </li>\n",
        "</ul>"
      ],
      "execution_count": null,
      "outputs": [
        {
          "output_type": "display_data",
          "data": {
            "text/html": [
              "<style>\n",
              "    .main {\n",
              "        color: rebeccapurple;\n",
              "        border: 2px solid #ccc;\n",
              "        padding: 1em;\n",
              "    }\n",
              "\n",
              "    .special {\n",
              "        color: black;\n",
              "        font-weight: bold;\n",
              "    }\n",
              "\n",
              "    ul li {\n",
              "        margin-left: 1em;\n",
              "    }\n",
              "\n",
              "    ul ul{\n",
              "        margin-left: -2em;\n",
              "    }\n",
              "\n",
              "</style>\n",
              "<ul class=\"main\">\n",
              "    <li>Item One</li>\n",
              "    <li>Item Two\n",
              "        <ul>\n",
              "            <li>2.1</li>\n",
              "            <li>2.2</li>\n",
              "        </ul>\n",
              "    </li>\n",
              "    <li>Item Three\n",
              "        <ul class=\"special\">\n",
              "            <li>3.1\n",
              "                <ul>\n",
              "                    <li>3.1.1</li>\n",
              "                    <li>3.1.2</li>\n",
              "                </ul>\n",
              "            </li>\n",
              "            <li>3.2</li>\n",
              "        </ul>\n",
              "    </li>\n",
              "</ul>"
            ],
            "text/plain": [
              "<IPython.core.display.HTML object>"
            ]
          },
          "metadata": {
            "tags": []
          }
        }
      ]
    },
    {
      "cell_type": "code",
      "metadata": {
        "colab": {
          "base_uri": "https://localhost:8080/",
          "height": 98
        },
        "id": "SRub6VEu0S7G",
        "outputId": "701d7e24-4120-47a2-9243-d52e4d1b17a8"
      },
      "source": [
        "%%html\n",
        "<style>\n",
        "    body {\n",
        "        color: green;\n",
        "    }\n",
        "\n",
        "    .my-class-1 a {\n",
        "        color: inherit;\n",
        "    }\n",
        "\n",
        "    .my-class-2 a {\n",
        "        color: initial;\n",
        "    }\n",
        "\n",
        "    .my-class-3 a {\n",
        "        color: unset;\n",
        "    }\n",
        "\n",
        "    /* a { color: red; }  */\n",
        "</style>\n",
        "<ul>\n",
        "    <li>Default <a href=\"#\">link</a> color</li>\n",
        "    <li class=\"my-class-1\">Inherit the <a href=\"#\">link</a> color</li>\n",
        "    <li class=\"my-class-2\">Reset the <a href=\"#\">link</a> color</li>\n",
        "    <li class=\"my-class-3\">Unset the <a href=\"#\">link</a> color</li>\n",
        "</ul>"
      ],
      "execution_count": null,
      "outputs": [
        {
          "output_type": "display_data",
          "data": {
            "text/html": [
              "<style>\n",
              "    body {\n",
              "        color: green;\n",
              "    }\n",
              "\n",
              "    .my-class-1 a {\n",
              "        color: inherit;\n",
              "    }\n",
              "\n",
              "    .my-class-2 a {\n",
              "        color: initial;\n",
              "    }\n",
              "\n",
              "    .my-class-3 a {\n",
              "        color: unset;\n",
              "    }\n",
              "\n",
              "    /* a { color: red; }  */\n",
              "</style>\n",
              "<ul>\n",
              "    <li>Default <a href=\"#\">link</a> color</li>\n",
              "    <li class=\"my-class-1\">Inherit the <a href=\"#\">link</a> color</li>\n",
              "    <li class=\"my-class-2\">Reset the <a href=\"#\">link</a> color</li>\n",
              "    <li class=\"my-class-3\">Unset the <a href=\"#\">link</a> color</li>\n",
              "</ul>"
            ],
            "text/plain": [
              "<IPython.core.display.HTML object>"
            ]
          },
          "metadata": {
            "tags": []
          }
        }
      ]
    },
    {
      "cell_type": "code",
      "metadata": {
        "colab": {
          "base_uri": "https://localhost:8080/",
          "height": 102
        },
        "id": "fpd67trM1f2K",
        "outputId": "8dcdd5de-e325-4538-b256-ad222637cacd"
      },
      "source": [
        "%%html\n",
        "<style>\n",
        "    blockquote {\n",
        "        background-color: lightsalmon;\n",
        "        border: 2px solid green;\n",
        "    }\n",
        "\n",
        "    .fix-this {\n",
        "        all: unset;\n",
        "    }\n",
        "</style>\n",
        "<blockquote>\n",
        "    <p>This blockquote is styled</p>\n",
        "</blockquote>\n",
        "\n",
        "<blockquote class=\"fix-this\">\n",
        "    <p>This blockquote is not styled</p>\n",
        "</blockquote>"
      ],
      "execution_count": null,
      "outputs": [
        {
          "output_type": "display_data",
          "data": {
            "text/html": [
              "<style>\n",
              "    blockquote {\n",
              "        background-color: lightsalmon;\n",
              "        border: 2px solid green;\n",
              "    }\n",
              "\n",
              "    .fix-this {\n",
              "        all: unset;\n",
              "    }\n",
              "</style>\n",
              "<blockquote>\n",
              "    <p>This blockquote is styled</p>\n",
              "</blockquote>\n",
              "\n",
              "<blockquote class=\"fix-this\">\n",
              "    <p>This blockquote is not styled</p>\n",
              "</blockquote>"
            ],
            "text/plain": [
              "<IPython.core.display.HTML object>"
            ]
          },
          "metadata": {
            "tags": []
          }
        }
      ]
    },
    {
      "cell_type": "code",
      "metadata": {
        "colab": {
          "base_uri": "https://localhost:8080/",
          "height": 165
        },
        "id": "seGBpd7t2ul5",
        "outputId": "e7fd086a-e5fc-4f65-fa2a-1ee1e6f3786d"
      },
      "source": [
        "%%html\n",
        "<style>\n",
        "    h2 {\n",
        "        font-size: 2em;\n",
        "        color: #000;\n",
        "        font-family: Georgia, 'Times New Roman', Times, serif;\n",
        "    }\n",
        "\n",
        "    .small {\n",
        "        font-size: 1em;\n",
        "    }\n",
        "\n",
        "    .bright {\n",
        "        color: rebeccapurple;\n",
        "    }\n",
        "</style>\n",
        "<h2>Heading with no class</h2>\n",
        "<h2 class=\"small\">Heading with class of small</h2>\n",
        "<h2 class=\"bright\">Heading with class of bright</h2>"
      ],
      "execution_count": null,
      "outputs": [
        {
          "output_type": "display_data",
          "data": {
            "text/html": [
              "<style>\n",
              "    h2 {\n",
              "        font-size: 2em;\n",
              "        color: #000;\n",
              "        font-family: Georgia, 'Times New Roman', Times, serif;\n",
              "    }\n",
              "\n",
              "    .small {\n",
              "        font-size: 1em;\n",
              "    }\n",
              "\n",
              "    .bright {\n",
              "        color: rebeccapurple;\n",
              "    }\n",
              "</style>\n",
              "<h2>Heading with no class</h2>\n",
              "<h2 class=\"small\">Heading with class of small</h2>\n",
              "<h2 class=\"bright\">Heading with class of bright</h2>"
            ],
            "text/plain": [
              "<IPython.core.display.HTML object>"
            ]
          },
          "metadata": {
            "tags": []
          }
        }
      ]
    },
    {
      "cell_type": "code",
      "metadata": {
        "id": "Fp3hkS6P3GiK"
      },
      "source": [
        "%%script false\n",
        "注: ユニバーサルセレクタ (*)、コンビネータ (+、>、~、' ') 、及び否定擬似クラス（:not）は詳細度に影響を及ぼしません。"
      ],
      "execution_count": null,
      "outputs": []
    },
    {
      "cell_type": "code",
      "metadata": {
        "colab": {
          "base_uri": "https://localhost:8080/",
          "height": 129
        },
        "id": "3lVNqF_W3WYG",
        "outputId": "ddeee79b-2381-44cd-90d0-6fb4ced583d4"
      },
      "source": [
        "%%html\n",
        "<style>\n",
        "    /* specificity: 0101 */\n",
        "    #outer a {\n",
        "        background-color: red;\n",
        "    }\n",
        "\n",
        "    /* specificity: 0201 */\n",
        "    #outer #inner a {\n",
        "        background-color: blue;\n",
        "    }\n",
        "\n",
        "    /* specificity: 0104 */\n",
        "    #outer div ul li a {\n",
        "        color: yellow;\n",
        "    }\n",
        "\n",
        "    /* specificity: 0113 */\n",
        "    #outer div ul .nav a {\n",
        "        color: white;\n",
        "    }\n",
        "\n",
        "    /* specificity: 0024 */\n",
        "    div div li:nth-child(2) a:hover {\n",
        "        border: 10px solid black;\n",
        "    }\n",
        "\n",
        "    /* specificity: 0023 */\n",
        "    div li:nth-child(2) a:hover {\n",
        "        border: 10px dashed black;\n",
        "    }\n",
        "\n",
        "    /* specificity: 0033 */\n",
        "    div div .nav:nth-child(2) a:hover {\n",
        "        border: 10px double black;\n",
        "    }\n",
        "\n",
        "    a {\n",
        "        display: inline-block;\n",
        "        line-height: 40px;\n",
        "        font-size: 20px;\n",
        "        text-decoration: none;\n",
        "        text-align: center;\n",
        "        width: 200px;\n",
        "        margin-bottom: 10px;\n",
        "    }\n",
        "\n",
        "    ul {\n",
        "        padding: 0;\n",
        "    }\n",
        "\n",
        "    li {\n",
        "        list-style-type: none;\n",
        "    }\n",
        "</style>\n",
        "<div id=\"outer\" class=\"container\">\n",
        "    <div id=\"inner\" class=\"container\">\n",
        "        <ul>\n",
        "            <li class=\"nav\"><a href=\"#\">One</a></li>\n",
        "            <li class=\"nav\"><a href=\"#\">Two</a></li>\n",
        "        </ul>\n",
        "    </div>\n",
        "</div>"
      ],
      "execution_count": null,
      "outputs": [
        {
          "output_type": "display_data",
          "data": {
            "text/html": [
              "<style>\n",
              "    /* specificity: 0101 */\n",
              "    #outer a {\n",
              "        background-color: red;\n",
              "    }\n",
              "\n",
              "    /* specificity: 0201 */\n",
              "    #outer #inner a {\n",
              "        background-color: blue;\n",
              "    }\n",
              "\n",
              "    /* specificity: 0104 */\n",
              "    #outer div ul li a {\n",
              "        color: yellow;\n",
              "    }\n",
              "\n",
              "    /* specificity: 0113 */\n",
              "    #outer div ul .nav a {\n",
              "        color: white;\n",
              "    }\n",
              "\n",
              "    /* specificity: 0024 */\n",
              "    div div li:nth-child(2) a:hover {\n",
              "        border: 10px solid black;\n",
              "    }\n",
              "\n",
              "    /* specificity: 0023 */\n",
              "    div li:nth-child(2) a:hover {\n",
              "        border: 10px dashed black;\n",
              "    }\n",
              "\n",
              "    /* specificity: 0033 */\n",
              "    div div .nav:nth-child(2) a:hover {\n",
              "        border: 10px double black;\n",
              "    }\n",
              "\n",
              "    a {\n",
              "        display: inline-block;\n",
              "        line-height: 40px;\n",
              "        font-size: 20px;\n",
              "        text-decoration: none;\n",
              "        text-align: center;\n",
              "        width: 200px;\n",
              "        margin-bottom: 10px;\n",
              "    }\n",
              "\n",
              "    ul {\n",
              "        padding: 0;\n",
              "    }\n",
              "\n",
              "    li {\n",
              "        list-style-type: none;\n",
              "    }\n",
              "</style>\n",
              "<div id=\"outer\" class=\"container\">\n",
              "    <div id=\"inner\" class=\"container\">\n",
              "        <ul>\n",
              "            <li class=\"nav\"><a href=\"#\">One</a></li>\n",
              "            <li class=\"nav\"><a href=\"#\">Two</a></li>\n",
              "        </ul>\n",
              "    </div>\n",
              "</div>"
            ],
            "text/plain": [
              "<IPython.core.display.HTML object>"
            ]
          },
          "metadata": {
            "tags": []
          }
        }
      ]
    },
    {
      "cell_type": "code",
      "metadata": {
        "colab": {
          "base_uri": "https://localhost:8080/",
          "height": 89
        },
        "id": "w20g0TLa6HgZ",
        "outputId": "150724e0-ed9e-4d2a-b85f-0c84aceba545"
      },
      "source": [
        "# !important の使い方。便利だが使ってはいけない。\n",
        "%%html\n",
        "<style>\n",
        "    #winning {\n",
        "        background-color: red;\n",
        "        border: 1px solid black;\n",
        "    }\n",
        "\n",
        "    .better {\n",
        "        background-color: gray;\n",
        "        border: none !important;\n",
        "    }\n",
        "\n",
        "    p {\n",
        "        background-color: blue;\n",
        "        color: white;\n",
        "        padding: 5px;\n",
        "    }\n",
        "</style>\n",
        "<p class=\"better\">This is a paragraph.</p>\n",
        "<p class=\"better\" id=\"winning\">One selector to rule them all!</p>"
      ],
      "execution_count": null,
      "outputs": [
        {
          "output_type": "display_data",
          "data": {
            "text/html": [
              "<style>\n",
              "    #winning {\n",
              "        background-color: red;\n",
              "        border: 1px solid black;\n",
              "    }\n",
              "\n",
              "    .better {\n",
              "        background-color: gray;\n",
              "        border: none !important;\n",
              "    }\n",
              "\n",
              "    p {\n",
              "        background-color: blue;\n",
              "        color: white;\n",
              "        padding: 5px;\n",
              "    }\n",
              "</style>\n",
              "<p class=\"better\">This is a paragraph.</p>\n",
              "<p class=\"better\" id=\"winning\">One selector to rule them all!</p>"
            ],
            "text/plain": [
              "<IPython.core.display.HTML object>"
            ]
          },
          "metadata": {
            "tags": []
          }
        }
      ]
    },
    {
      "cell_type": "markdown",
      "metadata": {
        "id": "RGf5NlB6GA4s"
      },
      "source": [
        "# セレクター"
      ]
    },
    {
      "cell_type": "code",
      "metadata": {
        "id": "IJbZl0MYF-3X",
        "colab": {
          "base_uri": "https://localhost:8080/",
          "height": 181
        },
        "outputId": "bced3274-c2d0-41d8-887b-0874a6ccb3c6"
      },
      "source": [
        "# 同じ内容ならカンマでセレクターを連結する。無効なセレクターがあると全体が無効化するので注意!!!!\n",
        "%%html\n",
        "<style>\n",
        "    span {\n",
        "        background-color: yellow;\n",
        "    }\n",
        "\n",
        "    strong,\n",
        "    em {\n",
        "        color: rebeccapurple;\n",
        "    }\n",
        "</style>\n",
        "<h1>Type selectors</h1>\n",
        "<p>Veggies es bonus vobis, proinde vos postulo essum magis <span>kohlrabi welsh onion</span> daikon amaranth tatsoi\n",
        "    tomatillo\n",
        "    melon azuki bean garlic.</p>\n",
        "\n",
        "<p>Gumbo beet greens corn soko <strong>endive</strong> gumbo gourd. Parsley shallot courgette tatsoi pea sprouts fava\n",
        "    bean collard\n",
        "    greens dandelion okra wakame tomato. Dandelion cucumber earthnut pea peanut soko zucchini.</p>\n",
        "\n",
        "<p>Turnip greens yarrow ricebean rutabaga <em>endive cauliflower</em> sea lettuce kohlrabi amaranth water spinach\n",
        "    avocado\n",
        "    daikon napa cabbage asparagus winter purslane kale. Celery potato scallion desert raisin horseradish spinach\n",
        "</p>"
      ],
      "execution_count": null,
      "outputs": [
        {
          "output_type": "display_data",
          "data": {
            "text/html": [
              "<style>\n",
              "    span {\n",
              "        background-color: yellow;\n",
              "    }\n",
              "\n",
              "    strong,\n",
              "    em {\n",
              "        color: rebeccapurple;\n",
              "    }\n",
              "</style>\n",
              "<h1>Type selectors</h1>\n",
              "<p>Veggies es bonus vobis, proinde vos postulo essum magis <span>kohlrabi welsh onion</span> daikon amaranth tatsoi\n",
              "    tomatillo\n",
              "    melon azuki bean garlic.</p>\n",
              "\n",
              "<p>Gumbo beet greens corn soko <strong>endive</strong> gumbo gourd. Parsley shallot courgette tatsoi pea sprouts fava\n",
              "    bean collard\n",
              "    greens dandelion okra wakame tomato. Dandelion cucumber earthnut pea peanut soko zucchini.</p>\n",
              "\n",
              "<p>Turnip greens yarrow ricebean rutabaga <em>endive cauliflower</em> sea lettuce kohlrabi amaranth water spinach\n",
              "    avocado\n",
              "    daikon napa cabbage asparagus winter purslane kale. Celery potato scallion desert raisin horseradish spinach\n",
              "</p>"
            ],
            "text/plain": [
              "<IPython.core.display.HTML object>"
            ]
          },
          "metadata": {
            "tags": []
          }
        }
      ]
    },
    {
      "cell_type": "code",
      "metadata": {
        "id": "M_rC3EcnGgxF"
      },
      "source": [
        "# 属性によるセレクター\n",
        "%%script false\n",
        "a[title] { }\n",
        "a[href=\"https://example.com\"] { }"
      ],
      "execution_count": null,
      "outputs": []
    },
    {
      "cell_type": "code",
      "metadata": {
        "id": "db3kGzeQHO4l",
        "colab": {
          "base_uri": "https://localhost:8080/",
          "height": 98
        },
        "outputId": "00c8f08f-7aef-4f91-ba1c-69c711f319e7"
      },
      "source": [
        "%%html\n",
        "<style>\n",
        "    a {\n",
        "        color: blue;\n",
        "    }\n",
        "\n",
        "    /* \"#\" で始まる内部リンク */\n",
        "    a[href^=\"#\"] {\n",
        "        background-color: gold;\n",
        "    }\n",
        "\n",
        "    /* URL のどこかに \"example\" が含まれるリンク */\n",
        "    a[href*=\"example\"] {\n",
        "        background-color: silver;\n",
        "    }\n",
        "\n",
        "    /* URL のどこかに \"insensitive\" が含まれるリンクで、\n",
        "\t\t\t大文字小文字は区別しない */\n",
        "    a[href*=\"insensitive\"i] {\n",
        "        color: cyan;\n",
        "    }\n",
        "\n",
        "    /* URL のどこかに \"cAsE\" があるリンクに一致\n",
        "大文字小文字の区別つき */\n",
        "    a[href*=\"cAsE\"s] {\n",
        "        color: pink;\n",
        "    }\n",
        "\n",
        "    /* \".org\" で終わるリンク */\n",
        "    a[href$=\".org\"] {\n",
        "        color: red;\n",
        "    }\n",
        "</style>\n",
        "<ul>\n",
        "    <li><a href=\"#internal\">Internal link</a></li>\n",
        "    <li><a href=\"http://example.com\">Example link</a></li>\n",
        "    <li><a href=\"#InSensitive\">Insensitive internal link</a></li>\n",
        "    <li><a href=\"http://example.org\">Example org link</a></li>  \n",
        "</ul>"
      ],
      "execution_count": null,
      "outputs": [
        {
          "output_type": "display_data",
          "data": {
            "text/html": [
              "<style>\n",
              "    a {\n",
              "        color: blue;\n",
              "    }\n",
              "\n",
              "    /* \"#\" で始まる内部リンク */\n",
              "    a[href^=\"#\"] {\n",
              "        background-color: gold;\n",
              "    }\n",
              "\n",
              "    /* URL のどこかに \"example\" が含まれるリンク */\n",
              "    a[href*=\"example\"] {\n",
              "        background-color: silver;\n",
              "    }\n",
              "\n",
              "    /* URL のどこかに \"insensitive\" が含まれるリンクで、\n",
              "\t\t\t大文字小文字は区別しない */\n",
              "    a[href*=\"insensitive\"i] {\n",
              "        color: cyan;\n",
              "    }\n",
              "\n",
              "    /* URL のどこかに \"cAsE\" があるリンクに一致\n",
              "大文字小文字の区別つき */\n",
              "    a[href*=\"cAsE\"s] {\n",
              "        color: pink;\n",
              "    }\n",
              "\n",
              "    /* \".org\" で終わるリンク */\n",
              "    a[href$=\".org\"] {\n",
              "        color: red;\n",
              "    }\n",
              "</style>\n",
              "<ul>\n",
              "    <li><a href=\"#internal\">Internal link</a></li>\n",
              "    <li><a href=\"http://example.com\">Example link</a></li>\n",
              "    <li><a href=\"#InSensitive\">Insensitive internal link</a></li>\n",
              "    <li><a href=\"http://example.org\">Example org link</a></li>  \n",
              "</ul>"
            ],
            "text/plain": [
              "<IPython.core.display.HTML object>"
            ]
          },
          "metadata": {
            "tags": []
          }
        }
      ]
    },
    {
      "cell_type": "code",
      "metadata": {
        "id": "JW9DQ0lEKeJi"
      },
      "source": [
        "# 疑似クラス、疑似要素\n",
        "%%script false\n",
        "a:hover { }\n",
        "p::first-line { }"
      ],
      "execution_count": null,
      "outputs": []
    },
    {
      "cell_type": "code",
      "metadata": {
        "id": "E5uGs2zSK2nT"
      },
      "source": [
        "# 結合子 combinator > は直接の子\n",
        "%%script false\n",
        "article > p {}\n"
      ],
      "execution_count": null,
      "outputs": []
    },
    {
      "cell_type": "code",
      "metadata": {
        "colab": {
          "base_uri": "https://localhost:8080/",
          "height": 167
        },
        "id": "46OGQI2a213t",
        "outputId": "8fae7227-89b0-46b9-e099-dd63fe7dddeb"
      },
      "source": [
        "# ユニバーサルセレクター (*)\n",
        "%%html\n",
        "<style>\n",
        "    * {\n",
        "        margin: 0;\n",
        "    }\n",
        "    \n",
        "    article *:first-child {\n",
        "        color: red;\n",
        "    } \n",
        "</style>\n",
        "<article>\n",
        "<h1>Universal selector</h1>\n",
        "<p>Veggies es bonus vobis, proinde vos postulo essum magis <span>kohlrabi welsh onion</span> daikon amaranth tatsoi\n",
        "    <span>tomatillo</span>\n",
        "    melon azuki bean garlic.</p>\n",
        "\n",
        "<p>Gumbo beet greens corn soko <strong>endive gumbo gourd</strong>. Parsley shallot courgette tatsoi pea sprouts fava\n",
        "    bean collard\n",
        "    greens dandelion okra wakame tomato. Dandelion cucumber earthnut pea peanut soko zucchini.</p>\n",
        "<h1> second head </h1>\n",
        "<p>Veggies es bonus vobis, proinde vos postulo essum magis <span>kohlrabi welsh onion</span> daikon amaranth tatsoi\n",
        "    tomatillo\n",
        "    melon azuki bean garlic.</p>\n",
        "</article>"
      ],
      "execution_count": null,
      "outputs": [
        {
          "output_type": "display_data",
          "data": {
            "text/html": [
              "<style>\n",
              "    * {\n",
              "        margin: 0;\n",
              "    }\n",
              "    \n",
              "    article *:first-child {\n",
              "        color: red;\n",
              "    } \n",
              "</style>\n",
              "<article>\n",
              "<h1>Universal selector</h1>\n",
              "<p>Veggies es bonus vobis, proinde vos postulo essum magis <span>kohlrabi welsh onion</span> daikon amaranth tatsoi\n",
              "    <span>tomatillo</span>\n",
              "    melon azuki bean garlic.</p>\n",
              "\n",
              "<p>Gumbo beet greens corn soko <strong>endive gumbo gourd</strong>. Parsley shallot courgette tatsoi pea sprouts fava\n",
              "    bean collard\n",
              "    greens dandelion okra wakame tomato. Dandelion cucumber earthnut pea peanut soko zucchini.</p>\n",
              "<h1> second head </h1>\n",
              "<p>Veggies es bonus vobis, proinde vos postulo essum magis <span>kohlrabi welsh onion</span> daikon amaranth tatsoi\n",
              "    tomatillo\n",
              "    melon azuki bean garlic.</p>\n",
              "</article>"
            ],
            "text/plain": [
              "<IPython.core.display.HTML object>"
            ]
          },
          "metadata": {
            "tags": []
          }
        }
      ]
    },
    {
      "cell_type": "code",
      "metadata": {
        "colab": {
          "base_uri": "https://localhost:8080/",
          "height": 140
        },
        "id": "57FfosT85a-8",
        "outputId": "9e8ad91a-49d0-435b-f448-913b7a7ff96b"
      },
      "source": [
        "%%html\n",
        "<style>\n",
        "    .highlight {\n",
        "        background-color: yellow;\n",
        "    }\n",
        "</style>\n",
        "<h1 class=\"highlight\">Class selectors</h1>\n",
        "<p>Veggies es bonus vobis, proinde vos postulo essum magis <span class=\"highlight\">kohlrabi welsh onion</span> daikon\n",
        "    amaranth tatsoi tomatillo\n",
        "    melon azuki bean garlic.</p>\n",
        "\n",
        "<p class=\"highlight\">Gumbo beet greens corn soko <strong>endive</strong> gumbo gourd. Parsley shallot courgette tatsoi\n",
        "    pea sprouts fava bean collard\n",
        "    greens dandelion okra wakame tomato. Dandelion cucumber earthnut pea peanut soko zucchini.</p>"
      ],
      "execution_count": null,
      "outputs": [
        {
          "output_type": "display_data",
          "data": {
            "text/html": [
              "<style>\n",
              "    .highlight {\n",
              "        background-color: yellow;\n",
              "    }\n",
              "</style>\n",
              "<h1 class=\"highlight\">Class selectors</h1>\n",
              "<p>Veggies es bonus vobis, proinde vos postulo essum magis <span class=\"highlight\">kohlrabi welsh onion</span> daikon\n",
              "    amaranth tatsoi tomatillo\n",
              "    melon azuki bean garlic.</p>\n",
              "\n",
              "<p class=\"highlight\">Gumbo beet greens corn soko <strong>endive</strong> gumbo gourd. Parsley shallot courgette tatsoi\n",
              "    pea sprouts fava bean collard\n",
              "    greens dandelion okra wakame tomato. Dandelion cucumber earthnut pea peanut soko zucchini.</p>"
            ],
            "text/plain": [
              "<IPython.core.display.HTML object>"
            ]
          },
          "metadata": {
            "tags": []
          }
        }
      ]
    },
    {
      "cell_type": "code",
      "metadata": {
        "colab": {
          "base_uri": "https://localhost:8080/",
          "height": 140
        },
        "id": "ZNrgdQ4858Cs",
        "outputId": "3c1e2cec-6e5a-4f49-9680-302797f6977f"
      },
      "source": [
        "%%html\n",
        "<style>\n",
        "    span.highlight {\n",
        "        background-color: yellow;\n",
        "    }\n",
        "\n",
        "    h1.highlight {\n",
        "        background-color: pink;\n",
        "    }\n",
        "</style>\n",
        "<h1 class=\"highlight\">Class selectors</h1>\n",
        "<p>Veggies es bonus vobis, proinde vos postulo essum magis <span class=\"highlight\">kohlrabi welsh onion</span> daikon\n",
        "    amaranth tatsoi tomatillo\n",
        "    melon azuki bean garlic.</p>\n",
        "\n",
        "<p class=\"highlight\">Gumbo beet greens corn soko <strong>endive</strong> gumbo gourd. Parsley shallot courgette tatsoi\n",
        "    pea sprouts fava bean collard\n",
        "    greens dandelion okra wakame tomato. Dandelion cucumber earthnut pea peanut soko zucchini.</p>"
      ],
      "execution_count": null,
      "outputs": [
        {
          "output_type": "display_data",
          "data": {
            "text/html": [
              "<style>\n",
              "    span.highlight {\n",
              "        background-color: yellow;\n",
              "    }\n",
              "\n",
              "    h1.highlight {\n",
              "        background-color: pink;\n",
              "    }\n",
              "</style>\n",
              "<h1 class=\"highlight\">Class selectors</h1>\n",
              "<p>Veggies es bonus vobis, proinde vos postulo essum magis <span class=\"highlight\">kohlrabi welsh onion</span> daikon\n",
              "    amaranth tatsoi tomatillo\n",
              "    melon azuki bean garlic.</p>\n",
              "\n",
              "<p class=\"highlight\">Gumbo beet greens corn soko <strong>endive</strong> gumbo gourd. Parsley shallot courgette tatsoi\n",
              "    pea sprouts fava bean collard\n",
              "    greens dandelion okra wakame tomato. Dandelion cucumber earthnut pea peanut soko zucchini.</p>"
            ],
            "text/plain": [
              "<IPython.core.display.HTML object>"
            ]
          },
          "metadata": {
            "tags": []
          }
        }
      ]
    },
    {
      "cell_type": "code",
      "metadata": {
        "colab": {
          "base_uri": "https://localhost:8080/",
          "height": 152
        },
        "id": "UxRktP-a8BER",
        "outputId": "8e754595-60fc-43e8-9a80-b46048797abb"
      },
      "source": [
        "# セレクター演算\n",
        "%%html\n",
        "<style>\n",
        "    .notebox {\n",
        "        border: 4px solid #666;\n",
        "        padding: .5em;\n",
        "    }\n",
        "\n",
        "    .notebox.warning {\n",
        "        border-color: orange;\n",
        "        font-weight: bold;\n",
        "    }\n",
        "\n",
        "    .notebox.danger {\n",
        "        border-color: red;\n",
        "        font-weight: bold;\n",
        "    }\n",
        "</style>\n",
        "<div class=\"notebox\">\n",
        "    This is an informational note.\n",
        "</div>\n",
        "\n",
        "<div class=\"notebox warning\">\n",
        "    This note shows a warning.\n",
        "</div>\n",
        "\n",
        "<div class=\"notebox danger\">\n",
        "    This note shows danger!\n",
        "</div>\n",
        "\n",
        "<div class=\"danger\">\n",
        "    This won't get styled — it also needs to have the notebox class\n",
        "</div>\n",
        "    "
      ],
      "execution_count": null,
      "outputs": [
        {
          "output_type": "display_data",
          "data": {
            "text/html": [
              "<style>\n",
              "    .notebox {\n",
              "        border: 4px solid #666;\n",
              "        padding: .5em;\n",
              "    }\n",
              "\n",
              "    .notebox.warning {\n",
              "        border-color: orange;\n",
              "        font-weight: bold;\n",
              "    }\n",
              "\n",
              "    .notebox.danger {\n",
              "        border-color: red;\n",
              "        font-weight: bold;\n",
              "    }\n",
              "</style>\n",
              "<div class=\"notebox\">\n",
              "    This is an informational note.\n",
              "</div>\n",
              "\n",
              "<div class=\"notebox warning\">\n",
              "    This note shows a warning.\n",
              "</div>\n",
              "\n",
              "<div class=\"notebox danger\">\n",
              "    This note shows danger!\n",
              "</div>\n",
              "\n",
              "<div class=\"danger\">\n",
              "    This won't get styled — it also needs to have the notebox class\n",
              "</div>\n",
              "    "
            ],
            "text/plain": [
              "<IPython.core.display.HTML object>"
            ]
          },
          "metadata": {
            "tags": []
          }
        }
      ]
    },
    {
      "cell_type": "code",
      "metadata": {
        "colab": {
          "base_uri": "https://localhost:8080/",
          "height": 140
        },
        "id": "GZwQkvoDSqZ6",
        "outputId": "91794b6c-97c7-40d7-fee7-a9f4632dd87c"
      },
      "source": [
        "# ID セレクターは #\n",
        "%%html\n",
        "<style>\n",
        "    #one {\n",
        "        background-color: yellow;\n",
        "    }\n",
        "\n",
        "    h1#heading {\n",
        "        color: rebeccapurple;\n",
        "    }\n",
        "</style>\n",
        "<h1 id=\"heading\">ID selector</h1>\n",
        "<p>Veggies es bonus vobis, proinde vos postulo essum magis kohlrabi welsh onion daikon amaranth tatsoi tomatillo\n",
        "    melon azuki bean garlic.</p>\n",
        "\n",
        "<p id=\"one\">Gumbo beet greens corn soko <strong>endive</strong> gumbo gourd. Parsley shallot courgette tatsoi pea\n",
        "    sprouts fava bean collard\n",
        "    greens dandelion okra wakame tomato. Dandelion cucumber earthnut pea peanut soko zucchini.</p>"
      ],
      "execution_count": null,
      "outputs": [
        {
          "output_type": "display_data",
          "data": {
            "text/html": [
              "<style>\n",
              "    #one {\n",
              "        background-color: yellow;\n",
              "    }\n",
              "\n",
              "    h1#heading {\n",
              "        color: rebeccapurple;\n",
              "    }\n",
              "</style>\n",
              "<h1 id=\"heading\">ID selector</h1>\n",
              "<p>Veggies es bonus vobis, proinde vos postulo essum magis kohlrabi welsh onion daikon amaranth tatsoi tomatillo\n",
              "    melon azuki bean garlic.</p>\n",
              "\n",
              "<p id=\"one\">Gumbo beet greens corn soko <strong>endive</strong> gumbo gourd. Parsley shallot courgette tatsoi pea\n",
              "    sprouts fava bean collard\n",
              "    greens dandelion okra wakame tomato. Dandelion cucumber earthnut pea peanut soko zucchini.</p>"
            ],
            "text/plain": [
              "<IPython.core.display.HTML object>"
            ]
          },
          "metadata": {
            "tags": []
          }
        }
      ]
    },
    {
      "cell_type": "code",
      "metadata": {
        "id": "oO_D6qdcUYpW"
      },
      "source": [
        "# 値のセレクター\n",
        "%%script false\n",
        "[attr] a[title] 属性名が一致\n",
        "[attr=value] a[href=\"https://example.com\"] 属性の値が完全一致\n",
        "[attr~=value] p[class~=\"special\"] 複数の値の一つに一致\n",
        "[attr|=value] div[lang|=\"zh\"] 値がvalueか、valueの直後にハイフンが続くと一致"
      ],
      "execution_count": null,
      "outputs": []
    },
    {
      "cell_type": "code",
      "metadata": {
        "colab": {
          "base_uri": "https://localhost:8080/",
          "height": 238
        },
        "id": "yfyNEDDLUyBQ",
        "outputId": "fa1d5962-a88e-48ff-d0b9-6b0fd6876993"
      },
      "source": [
        "%%html\n",
        "<style>\n",
        "    li[class] {\n",
        "        font-size: 200%;\n",
        "    }\n",
        "\n",
        "    li[class=\"a\"] {\n",
        "        background-color: yellow;\n",
        "    }\n",
        "\n",
        "    li[class~=\"a\"] {\n",
        "        color: red;\n",
        "    }\n",
        "    li[class|=\"zh\"] {\n",
        "        color: green;\n",
        "    }\n",
        "</style>\n",
        "<h1>Attribute presence and value selectors</h1>\n",
        "<ul>\n",
        "    <li>Item 1</li>\n",
        "    <li class=\"a\">Item 2</li>\n",
        "    <li class=\"a b\">Item 3</li>\n",
        "    <li class=\"ab\">Item 4</li>\n",
        "    <li class=\"zh-ja\">Item 5</li>\n",
        "</ul>\n"
      ],
      "execution_count": null,
      "outputs": [
        {
          "output_type": "display_data",
          "data": {
            "text/html": [
              "<style>\n",
              "    li[class] {\n",
              "        font-size: 200%;\n",
              "    }\n",
              "\n",
              "    li[class=\"a\"] {\n",
              "        background-color: yellow;\n",
              "    }\n",
              "\n",
              "    li[class~=\"a\"] {\n",
              "        color: red;\n",
              "    }\n",
              "    li[class|=\"zh\"] {\n",
              "        color: green;\n",
              "    }\n",
              "</style>\n",
              "<h1>Attribute presence and value selectors</h1>\n",
              "<ul>\n",
              "    <li>Item 1</li>\n",
              "    <li class=\"a\">Item 2</li>\n",
              "    <li class=\"a b\">Item 3</li>\n",
              "    <li class=\"ab\">Item 4</li>\n",
              "    <li class=\"zh-ja\">Item 5</li>\n",
              "</ul>"
            ],
            "text/plain": [
              "<IPython.core.display.HTML object>"
            ]
          },
          "metadata": {
            "tags": []
          }
        }
      ]
    },
    {
      "cell_type": "code",
      "metadata": {
        "id": "NxxsQuaOjwXC"
      },
      "source": [
        "# 部分文字列一致セレクター\n",
        "%%script false\n",
        "[attr^=value] li[class^=\"box-\"] 値が value で始まる\n",
        "[attr$=value] li[class$=\"-box\"] 値が value で終わる\n",
        "[attr*=value] li[class*=\"box\"] 値が value を含む"
      ],
      "execution_count": null,
      "outputs": []
    },
    {
      "cell_type": "code",
      "metadata": {
        "id": "pF13Og8ajxBu",
        "colab": {
          "base_uri": "https://localhost:8080/",
          "height": 186
        },
        "outputId": "db5abb44-6d0f-471f-8bfe-c008523eee9e"
      },
      "source": [
        "%%html\n",
        "<style>\n",
        "    li[class^=\"a\"] {\n",
        "        font-size: 200%;\n",
        "    }\n",
        "\n",
        "    li[class$=\"a\"] {\n",
        "        background-color: yellow;\n",
        "    }\n",
        "\n",
        "    li[class*=\"a\"] {\n",
        "        color: red;\n",
        "    }\n",
        "</style>\n",
        "<h1>Attribute substring matching selectors</h1>\n",
        "<ul>\n",
        "    <li class=\"a\">Item 1</li>\n",
        "    <li class=\"ab\">Item 2</li>\n",
        "    <li class=\"bca\">Item 3</li>\n",
        "    <li class=\"bcabc\">Item 4</li>\n",
        "</ul>"
      ],
      "execution_count": null,
      "outputs": [
        {
          "output_type": "display_data",
          "data": {
            "text/html": [
              "<style>\n",
              "    li[class^=\"a\"] {\n",
              "        font-size: 200%;\n",
              "    }\n",
              "\n",
              "    li[class$=\"a\"] {\n",
              "        background-color: yellow;\n",
              "    }\n",
              "\n",
              "    li[class*=\"a\"] {\n",
              "        color: red;\n",
              "    }\n",
              "</style>\n",
              "<h1>Attribute substring matching selectors</h1>\n",
              "<ul>\n",
              "    <li class=\"a\">Item 1</li>\n",
              "    <li class=\"ab\">Item 2</li>\n",
              "    <li class=\"bca\">Item 3</li>\n",
              "    <li class=\"bcabc\">Item 4</li>\n",
              "</ul>"
            ],
            "text/plain": [
              "<IPython.core.display.HTML object>"
            ]
          },
          "metadata": {
            "tags": []
          }
        }
      ]
    },
    {
      "cell_type": "code",
      "metadata": {
        "id": "AOzToJvkkKAm",
        "colab": {
          "base_uri": "https://localhost:8080/",
          "height": 135
        },
        "outputId": "f83b43cc-3892-4e33-9a95-2bd53435b914"
      },
      "source": [
        "# 大文字小文字の区別 case sensitivity\n",
        "%%html\n",
        "<style>\n",
        "    li[class^=\"a\"] {\n",
        "        background-color: yellow;\n",
        "    }\n",
        "\n",
        "    li[class^=\"a\"i] {\n",
        "        color: red;\n",
        "    }\n",
        "</style>\n",
        "<h1>Case-insensitivity</h1>\n",
        "<ul>\n",
        "    <li class=\"a\">Item 1</li>\n",
        "    <li class=\"A\">Item 2</li>\n",
        "    <li class=\"Ab\">Item 3</li>\n",
        "</ul>"
      ],
      "execution_count": null,
      "outputs": [
        {
          "output_type": "display_data",
          "data": {
            "text/html": [
              "<style>\n",
              "    li[class^=\"a\"] {\n",
              "        background-color: yellow;\n",
              "    }\n",
              "\n",
              "    li[class^=\"a\"i] {\n",
              "        color: red;\n",
              "    }\n",
              "</style>\n",
              "<h1>Case-insensitivity</h1>\n",
              "<ul>\n",
              "    <li class=\"a\">Item 1</li>\n",
              "    <li class=\"A\">Item 2</li>\n",
              "    <li class=\"Ab\">Item 3</li>\n",
              "</ul>"
            ],
            "text/plain": [
              "<IPython.core.display.HTML object>"
            ]
          },
          "metadata": {
            "tags": []
          }
        }
      ]
    },
    {
      "cell_type": "code",
      "metadata": {
        "id": "mL-qGvLXlJhD",
        "colab": {
          "base_uri": "https://localhost:8080/",
          "height": 269
        },
        "outputId": "b22f5ae5-e0ee-49e3-dc50-dc150e90a92f"
      },
      "source": [
        "%%html\n",
        "<style>\n",
        "    a {\n",
        "        display: inline-block;\n",
        "        line-height: 40px;\n",
        "        font-size: 20px;\n",
        "        text-decoration: none;\n",
        "        text-align: center;\n",
        "        width: 200px;\n",
        "        margin-bottom: 10px;\n",
        "        border: 5px solid grey;\n",
        "    }\n",
        "\n",
        "    li {\n",
        "        list-style-type: none;\n",
        "    }\n",
        "\n",
        "    a[title] {\n",
        "        border-color: pink;\n",
        "    }\n",
        "\n",
        "    a[href*=\"contact\"] {\n",
        "        border-color: orange;\n",
        "    }\n",
        "\n",
        "    a[href^=\"https\"] {\n",
        "        border-color: green;\n",
        "    }\n",
        "</style>\n",
        "<ul>\n",
        "    <li><a href=\"https://example.com\">Link 1</a></li>\n",
        "    <li><a href=\"http://example.com\" title=\"Visit example.com\">Link 2</a></li>\n",
        "    <li><a href=\"/contact\">Link 3</a></li>\n",
        "    <li><a href=\"../contact/index.html\">Link 4</a></li>\n",
        "</ul>"
      ],
      "execution_count": null,
      "outputs": [
        {
          "output_type": "display_data",
          "data": {
            "text/html": [
              "<style>\n",
              "    a {\n",
              "        display: inline-block;\n",
              "        line-height: 40px;\n",
              "        font-size: 20px;\n",
              "        text-decoration: none;\n",
              "        text-align: center;\n",
              "        width: 200px;\n",
              "        margin-bottom: 10px;\n",
              "        border: 5px solid grey;\n",
              "    }\n",
              "\n",
              "    li {\n",
              "        list-style-type: none;\n",
              "    }\n",
              "\n",
              "    a[title] {\n",
              "        border-color: pink;\n",
              "    }\n",
              "\n",
              "    a[href*=\"contact\"] {\n",
              "        border-color: orange;\n",
              "    }\n",
              "\n",
              "    a[href^=\"https\"] {\n",
              "        border-color: green;\n",
              "    }\n",
              "</style>\n",
              "<ul>\n",
              "    <li><a href=\"https://example.com\">Link 1</a></li>\n",
              "    <li><a href=\"http://example.com\" title=\"Visit example.com\">Link 2</a></li>\n",
              "    <li><a href=\"/contact\">Link 3</a></li>\n",
              "    <li><a href=\"../contact/index.html\">Link 4</a></li>\n",
              "</ul>"
            ],
            "text/plain": [
              "<IPython.core.display.HTML object>"
            ]
          },
          "metadata": {
            "tags": []
          }
        }
      ]
    },
    {
      "cell_type": "markdown",
      "metadata": {
        "id": "4BL-4OKWoL76"
      },
      "source": [
        "# 疑似クラスと疑似要素"
      ]
    },
    {
      "cell_type": "code",
      "metadata": {
        "id": "O0V0l2dEohCg",
        "colab": {
          "base_uri": "https://localhost:8080/",
          "height": 109
        },
        "outputId": "6a35e1af-048e-49c1-cede-55b84a38a435"
      },
      "source": [
        "# 疑似クラスは :hover とか :first-child のようにコロンで始まる\n",
        "%%html\n",
        "<style>\n",
        "    article p:first-child {\n",
        "        font-size: 120%;\n",
        "        font-weight: bold;\n",
        "    }\n",
        "</style>\n",
        "<article>\n",
        "    <p>Veggies es bonus vobis, proinde vos postulo essum magis kohlrabi welsh onion daikon amaranth tatsoi tomatillo\n",
        "        melon azuki bean garlic.</p>\n",
        "\n",
        "    <p>Gumbo beet greens corn soko endive gumbo gourd. Parsley shallot courgette tatsoi pea sprouts fava bean collard\n",
        "        greens dandelion okra wakame tomato. Dandelion cucumber earthnut pea peanut soko zucchini.</p>\n",
        "</article>"
      ],
      "execution_count": null,
      "outputs": [
        {
          "output_type": "display_data",
          "data": {
            "text/html": [
              "<style>\n",
              "    article p:first-child {\n",
              "        font-size: 120%;\n",
              "        font-weight: bold;\n",
              "    }\n",
              "</style>\n",
              "<article>\n",
              "    <p>Veggies es bonus vobis, proinde vos postulo essum magis kohlrabi welsh onion daikon amaranth tatsoi tomatillo\n",
              "        melon azuki bean garlic.</p>\n",
              "\n",
              "    <p>Gumbo beet greens corn soko endive gumbo gourd. Parsley shallot courgette tatsoi pea sprouts fava bean collard\n",
              "        greens dandelion okra wakame tomato. Dandelion cucumber earthnut pea peanut soko zucchini.</p>\n",
              "</article>"
            ],
            "text/plain": [
              "<IPython.core.display.HTML object>"
            ]
          },
          "metadata": {
            "tags": []
          }
        }
      ]
    },
    {
      "cell_type": "code",
      "metadata": {
        "id": "Z6QSRJCFC9O0",
        "colab": {
          "base_uri": "https://localhost:8080/",
          "height": 110
        },
        "outputId": "de476473-862d-4d56-a1e6-cc47a5b32b53"
      },
      "source": [
        "# 疑似要素は ::first-line のようにダブルコロンで始まる。\n",
        "# ::first-line は幅が短くなっても意図した通りに働く。\n",
        "%%html\n",
        "<style>\n",
        "    article p::first-line {\n",
        "        font-size: 120%;\n",
        "        font-weight: bold;\n",
        "    }\n",
        "</style>\n",
        "<article>\n",
        "    <p>Veggies es bonus vobis, proinde vos postulo essum magis kohlrabi welsh onion daikon amaranth tatsoi tomatillo\n",
        "        melon azuki bean garlic.</p>\n",
        "\n",
        "    <p>Gumbo beet greens corn soko endive gumbo gourd. Parsley shallot courgette tatsoi pea sprouts fava bean collard\n",
        "        greens dandelion okra wakame tomato. Dandelion cucumber earthnut pea peanut soko zucchini.</p>\n",
        "</article>"
      ],
      "execution_count": null,
      "outputs": [
        {
          "output_type": "display_data",
          "data": {
            "text/html": [
              "<style>\n",
              "    article p::first-line {\n",
              "        font-size: 120%;\n",
              "        font-weight: bold;\n",
              "    }\n",
              "</style>\n",
              "<article>\n",
              "    <p>Veggies es bonus vobis, proinde vos postulo essum magis kohlrabi welsh onion daikon amaranth tatsoi tomatillo\n",
              "        melon azuki bean garlic.</p>\n",
              "\n",
              "    <p>Gumbo beet greens corn soko endive gumbo gourd. Parsley shallot courgette tatsoi pea sprouts fava bean collard\n",
              "        greens dandelion okra wakame tomato. Dandelion cucumber earthnut pea peanut soko zucchini.</p>\n",
              "</article>"
            ],
            "text/plain": [
              "<IPython.core.display.HTML object>"
            ]
          },
          "metadata": {
            "tags": []
          }
        }
      ]
    },
    {
      "cell_type": "code",
      "metadata": {
        "id": "6f1X--B4DzqI"
      },
      "source": [
        "## 疑似クラスと疑似要素は組み合わせられる\n",
        "%%script false\n",
        "    article p:first-child::first-line {\n",
        "        font-size: 120%;\n",
        "        font-weight: bold;\n",
        "    }"
      ],
      "execution_count": null,
      "outputs": []
    },
    {
      "cell_type": "code",
      "metadata": {
        "id": "sGeSUyEAGo6U",
        "colab": {
          "base_uri": "https://localhost:8080/",
          "height": 62
        },
        "outputId": "32505eb6-bfb6-4a87-c536-96cc0ac65126"
      },
      "source": [
        "# 疑似要素 ::before と ::after\n",
        "%%html\n",
        "<style>\n",
        "    .box::before {\n",
        "        display: block;\n",
        "        content: \"This should show before the other content. \"\n",
        "    }\n",
        "</style>\n",
        "\n",
        "<p class=\"box\">Content in the box in my HTML page.</p>"
      ],
      "execution_count": null,
      "outputs": [
        {
          "output_type": "display_data",
          "data": {
            "text/html": [
              "<style>\n",
              "    .box::before {\n",
              "        display: block;\n",
              "        content: \"This should show before the other content. \"\n",
              "    }\n",
              "</style>\n",
              "\n",
              "<p class=\"box\">Content in the box in my HTML page.</p>"
            ],
            "text/plain": [
              "<IPython.core.display.HTML object>"
            ]
          },
          "metadata": {
            "tags": []
          }
        }
      ]
    },
    {
      "cell_type": "code",
      "metadata": {
        "id": "-d-erC19HEKD",
        "colab": {
          "base_uri": "https://localhost:8080/",
          "height": 46
        },
        "outputId": "7f576a74-4783-4022-a595-7bb74d4a47c4"
      },
      "source": [
        "%%html\n",
        "<style>\n",
        "    .box::after {\n",
        "        content: \" ➥\"\n",
        "    }\n",
        "</style>\n",
        "\n",
        "<p class=\"box\">Content in the box in my HTML page.</p>"
      ],
      "execution_count": null,
      "outputs": [
        {
          "output_type": "display_data",
          "data": {
            "text/html": [
              "<style>\n",
              "    .box::after {\n",
              "        content: \" ➥\"\n",
              "    }\n",
              "</style>\n",
              "\n",
              "<p class=\"box\">Content in the box in my HTML page.</p>"
            ],
            "text/plain": [
              "<IPython.core.display.HTML object>"
            ]
          },
          "metadata": {
            "tags": []
          }
        }
      ]
    },
    {
      "cell_type": "code",
      "metadata": {
        "id": "Y6ATBM9uHZKC",
        "colab": {
          "base_uri": "https://localhost:8080/",
          "height": 148
        },
        "outputId": "71aedd80-73ad-4854-85ca-12017c6d29f5"
      },
      "source": [
        "%%html\n",
        "<style>\n",
        "    .box::before {\n",
        "        content: \"\";\n",
        "        display: block;\n",
        "        width: 100px;\n",
        "        height: 100px;\n",
        "        background-color: rebeccapurple;\n",
        "        border: 1px solid black;\n",
        "    }\n",
        "</style>\n",
        "\n",
        "<p class=\"box\">Content in the box in my HTML page.</p>"
      ],
      "execution_count": null,
      "outputs": [
        {
          "output_type": "display_data",
          "data": {
            "text/html": [
              "<style>\n",
              "    .box::before {\n",
              "        content: \"\";\n",
              "        display: block;\n",
              "        width: 100px;\n",
              "        height: 100px;\n",
              "        background-color: rebeccapurple;\n",
              "        border: 1px solid black;\n",
              "    }\n",
              "</style>\n",
              "\n",
              "<p class=\"box\">Content in the box in my HTML page.</p>"
            ],
            "text/plain": [
              "<IPython.core.display.HTML object>"
            ]
          },
          "metadata": {
            "tags": []
          }
        }
      ]
    },
    {
      "cell_type": "code",
      "metadata": {
        "id": "10RylAj3bmWa"
      },
      "source": [
        "%%script false\n",
        "%%script false\n",
        "疑似クラス\n",
        ":active アクティブ化（たとえばクリック）すると一致\n",
        ":any-link :link と :visited 状態の両方に一致\n",
        ":blank 空の<input> 要素に一致\n",
        ":checked 選択状態のボタンに一致\n",
        ":current 現在表示されている要素と一致\n",
        ":default 類似要素のセットの中でデフォルトであるUI要素に一致\n",
        ":dir HTML dir 属性またはCSS direction プロパティの値に基づいて要素を選択\n",
        ":disabled 無効な状態のUI要素に一致\n",
        ":empty オプションの空白以外の子を持たない要素に一致\n",
        ":enabled 有効な状態のUI要素に一致\n",
        ":first 最初のページと一致\n",
        ":first-child 最初にある要素に一致\n",
        ":first-of-type 最初にある特定のタイプの要素に一致\n",
        ":focus フォーカスがあるときに一致\n",
        ":focus-visible 要素にフォーカスがあり、表示される場合に一致\n",
        ":focus-within フォーカスを持つ要素と、子孫を持つ要素に一致\n",
        ":future 現在の要素の後の要素に一致\n",
        ":hover ユーザーが要素にカーソルを合わせると一致\n",
        ":indeterminate 値が不確定な状態のUI要素、通常はチェックボックスに一致\n",
        ":in-range 範囲制限を持つ要素で、要素の値が範囲内にある場合にマッチ\n",
        ":invalid 無効な状態の <input> のような要素に一致\n",
        ":lang 言語（HTML lang属性の値）に基づいて要素を照合\n",
        ":last-child グループの中で最後にある要素に一致\n",
        "いまここ\n",
        ":last-of-type グループの中で最後にある特定のタイプに一致\n",
        ":left 左側のページと一致\n",
        ":link 未訪問のリンクに一致\n",
        ":local-link 現在のドキュメントと同じサイトにあるページを指すリンクに一致\n",
        ":is() 渡されたセレクターリスト内の任意のセレクターに一致\n",
        ":not このセレクターに値として渡されるセレクターで一致しないものと一致\n",
        ":nth-​​child グループのリストの要素に一致\n",
        ":nth-​​of-type 特定のタイプのグループ（ <p> 要素など）のリストの要素に一致\n",
        ":nth-​​last-child グループのリストの要素を末尾から逆に数えて一致\n",
        ":nth-​​last-of-type 特定のタイプのグループのリスト（ <p> 要素など）の要素を最後から逆に数えて一致\n",
        ":only-child グループがない要素に一致\n",
        ":only-of-type グループ間でそのタイプの唯一の要素である要素に一致\n",
        ":optional 不要なフォーム要素に一致\n",
        ":out-of-range 範囲制限を持つ要素で、要素の値が範囲外にある場合にマッチ\n",
        ":past 現在の要素より前の要素に一致\n",
        ":placeholder-shown プレースホルダーテキストを表示しているinput要素に一致\n",
        ":playing オーディオ、ビデオ、が「再生中」のときに一致\n",
        ":paused オーディオ、ビデオ、が「一時停止」のときに一致\n",
        ":read-only ユーザーが変更できない要素と一致\n",
        ":read-write ユーザーが変更可能な要素と一致\n",
        ":required 必要なフォーム要素に一致\n",
        ":right 右側のページに一致\n",
        ":root ドキュメントのルートである要素に一致\n",
        ":scope スコープ要素であるすべての要素に一致\n",
        ":valid <input> 要素などで要素が有効な状態のときに一致\n",
        ":target 現在のURLのターゲットである場合（つまり、現在のURLフラグメントに一致するIDを持つ場合）、要素に一致\n",
        ":visited 訪問したリンクに一致\n",
        "\n",
        "疑似要素\n",
        "::after 元の要素の実際のコンテンツの後に現れるスタイル可能な要素\n",
        "::before 元の要素の実際のコンテンツの前に現れるスタイル可能な要素\n",
        "::first-letter 要素の最初の文字\n",
        "::first-line 含まれている要素の最初の行\n",
        "::grammar-error ブラウザによってフラグが立てられた文法エラーを含むドキュメントの一部\n",
        "::marker 通常は箇条書きまたは番号が含まれているリストアイテムのマーカーボックス\n",
        "::selection 選択されたドキュメントの部分\n",
        "::spelling-error ブラウザによってフラグが付けられた、スペルミスを含むドキュメントの一部"
      ],
      "execution_count": null,
      "outputs": []
    },
    {
      "cell_type": "markdown",
      "metadata": {
        "id": "Oz30Tdb6yZkn"
      },
      "source": [
        "# 結合子 combinator\n"
      ]
    },
    {
      "cell_type": "code",
      "metadata": {
        "colab": {
          "base_uri": "https://localhost:8080/",
          "height": 69
        },
        "id": "89rhPCSNy2cW",
        "outputId": "380efc8d-c7b5-4e35-fd03-f32024ddcede"
      },
      "source": [
        "# スペース結合子 descendant combinator\n",
        "%%html\n",
        "<style>\n",
        "    .box p {\n",
        "        color: red;\n",
        "    }\n",
        "</style>\n",
        "<div class=\"box\"><p>Text in .box</p></div>\n",
        "<p>Text not in .box</p>"
      ],
      "execution_count": null,
      "outputs": [
        {
          "output_type": "display_data",
          "data": {
            "text/html": [
              "<style>\n",
              "    .box p {\n",
              "        color: red;\n",
              "    }\n",
              "</style>\n",
              "<div class=\"box\"><p>Text in .box</p></div>\n",
              "<p>Text not in .box</p>"
            ],
            "text/plain": [
              "<IPython.core.display.HTML object>"
            ]
          },
          "metadata": {
            "tags": []
          }
        }
      ]
    },
    {
      "cell_type": "code",
      "metadata": {
        "colab": {
          "base_uri": "https://localhost:8080/",
          "height": 108
        },
        "id": "AjlVo4zBCGgy",
        "outputId": "2c09bae0-46a1-4950-caa1-d9bb809137c4"
      },
      "source": [
        "# child combinator\n",
        "%%html\n",
        "<style>\n",
        "    ul > li {\n",
        "        border-top: 5px solid red;\n",
        "    }\n",
        "</style>\n",
        "<ul>\n",
        "    <li>Unordered item</li>\n",
        "    <li>Unordered item\n",
        "        <ol>\n",
        "            <li>Item 1</li>\n",
        "            <li>Item 2</li>\n",
        "        </ol>\n",
        "    </li>"
      ],
      "execution_count": null,
      "outputs": [
        {
          "output_type": "display_data",
          "data": {
            "text/html": [
              "<style>\n",
              "    ul > li {\n",
              "        border-top: 5px solid red;\n",
              "    }\n",
              "</style>\n",
              "<ul>\n",
              "    <li>Unordered item</li>\n",
              "    <li>Unordered item\n",
              "        <ol>\n",
              "            <li>Item 1</li>\n",
              "            <li>Item 2</li>\n",
              "        </ol>\n",
              "    </li>"
            ],
            "text/plain": [
              "<IPython.core.display.HTML object>"
            ]
          },
          "metadata": {
            "tags": []
          }
        }
      ]
    },
    {
      "cell_type": "code",
      "metadata": {
        "colab": {
          "base_uri": "https://localhost:8080/",
          "height": 144
        },
        "id": "G6byIPoHDHUz",
        "outputId": "5f1068c2-2485-4507-bb00-fdf6cec4dfb7"
      },
      "source": [
        "# adjacent sibling combinator\n",
        "%%html\n",
        "<style>\n",
        "    h1+p {\n",
        "        font-weight: bold;\n",
        "        background-color: #333;\n",
        "        color: #fff;\n",
        "        padding: .5em;\n",
        "    }\n",
        "</style>\n",
        "<article>\n",
        "    <h1>A heading</h1>\n",
        "    <p>Veggies es bonus vobis, proinde vos postulo essum magis kohlrabi welsh onion daikon amaranth tatsoi tomatillo\n",
        "        melon azuki bean garlic.</p>\n",
        "\n",
        "    <p>Gumbo beet greens corn soko endive gumbo gourd. Parsley shallot courgette tatsoi pea sprouts fava bean collard\n",
        "        greens dandelion okra wakame tomato. Dandelion cucumber earthnut pea peanut soko zucchini.</p>\n",
        "</article>"
      ],
      "execution_count": null,
      "outputs": [
        {
          "output_type": "display_data",
          "data": {
            "text/html": [
              "<style>\n",
              "    h1+p {\n",
              "        font-weight: bold;\n",
              "        background-color: #333;\n",
              "        color: #fff;\n",
              "        padding: .5em;\n",
              "    }\n",
              "</style>\n",
              "<article>\n",
              "    <h1>A heading</h1>\n",
              "    <p>Veggies es bonus vobis, proinde vos postulo essum magis kohlrabi welsh onion daikon amaranth tatsoi tomatillo\n",
              "        melon azuki bean garlic.</p>\n",
              "\n",
              "    <p>Gumbo beet greens corn soko endive gumbo gourd. Parsley shallot courgette tatsoi pea sprouts fava bean collard\n",
              "        greens dandelion okra wakame tomato. Dandelion cucumber earthnut pea peanut soko zucchini.</p>\n",
              "</article>"
            ],
            "text/plain": [
              "<IPython.core.display.HTML object>"
            ]
          },
          "metadata": {
            "tags": []
          }
        }
      ]
    },
    {
      "cell_type": "code",
      "metadata": {
        "colab": {
          "base_uri": "https://localhost:8080/",
          "height": 164
        },
        "id": "j0umsfHqDjZt",
        "outputId": "1b4fdcd1-a998-49f8-80f4-0a91606a3c18"
      },
      "source": [
        "# general sibling combinator\n",
        "%%html\n",
        "<style>\n",
        "    h1~p {\n",
        "        font-weight: bold;\n",
        "        background-color: #333;\n",
        "        color: #fff;\n",
        "        padding: .5em;\n",
        "    }\n",
        "</style>\n",
        "<article>\n",
        "    <h1>A heading</h1>\n",
        "    <p>I am a paragraph.</p>\n",
        "    <div>I am a div</div>\n",
        "    <p>I am another paragraph.</p>\n",
        "</article>"
      ],
      "execution_count": null,
      "outputs": [
        {
          "output_type": "display_data",
          "data": {
            "text/html": [
              "<style>\n",
              "    h1~p {\n",
              "        font-weight: bold;\n",
              "        background-color: #333;\n",
              "        color: #fff;\n",
              "        padding: .5em;\n",
              "    }\n",
              "</style>\n",
              "<article>\n",
              "    <h1>A heading</h1>\n",
              "    <p>I am a paragraph.</p>\n",
              "    <div>I am a div</div>\n",
              "    <p>I am another paragraph.</p>\n",
              "</article>"
            ],
            "text/plain": [
              "<IPython.core.display.HTML object>"
            ]
          },
          "metadata": {
            "tags": []
          }
        }
      ]
    },
    {
      "cell_type": "markdown",
      "metadata": {
        "id": "HebFRj6EELq6"
      },
      "source": [
        "# ボックスモデル"
      ]
    },
    {
      "cell_type": "code",
      "metadata": {
        "id": "wX84lP-jSwzr",
        "colab": {
          "base_uri": "https://localhost:8080/",
          "height": 217
        },
        "outputId": "4041656c-43a5-4090-80b9-e6ccb2717ffc"
      },
      "source": [
        "%%html\n",
        "<style>\n",
        "    p,\n",
        "    ul {\n",
        "        border: 2px solid rebeccapurple;\n",
        "        padding: .5em;\n",
        "    }\n",
        "\n",
        "    .block,\n",
        "    li {\n",
        "        border: 2px solid blue;\n",
        "        padding: .5em;\n",
        "    }\n",
        "\n",
        "    ul {\n",
        "        display: flex;\n",
        "        list-style: none;\n",
        "    }\n",
        "\n",
        "    .block {\n",
        "        display: block;\n",
        "    }\n",
        "</style>\n",
        "<p>I am a paragraph. A short one.</p>\n",
        "<ul>\n",
        "    <li>Item One</li>\n",
        "    <li>Item Two</li>\n",
        "    <li>Item Three</li>\n",
        "</ul>\n",
        "<p>I am another paragraph. Some of the <span class=\"block\">words</span> have been wrapped in a <span>span\n",
        "        element</span>.</p>"
      ],
      "execution_count": null,
      "outputs": [
        {
          "output_type": "display_data",
          "data": {
            "text/html": [
              "<style>\n",
              "    p,\n",
              "    ul {\n",
              "        border: 2px solid rebeccapurple;\n",
              "        padding: .5em;\n",
              "    }\n",
              "\n",
              "    .block,\n",
              "    li {\n",
              "        border: 2px solid blue;\n",
              "        padding: .5em;\n",
              "    }\n",
              "\n",
              "    ul {\n",
              "        display: flex;\n",
              "        list-style: none;\n",
              "    }\n",
              "\n",
              "    .block {\n",
              "        display: block;\n",
              "    }\n",
              "</style>\n",
              "<p>I am a paragraph. A short one.</p>\n",
              "<ul>\n",
              "    <li>Item One</li>\n",
              "    <li>Item Two</li>\n",
              "    <li>Item Three</li>\n",
              "</ul>\n",
              "<p>I am another paragraph. Some of the <span class=\"block\">words</span> have been wrapped in a <span>span\n",
              "        element</span>.</p>"
            ],
            "text/plain": [
              "<IPython.core.display.HTML object>"
            ]
          },
          "metadata": {
            "tags": []
          }
        }
      ]
    },
    {
      "cell_type": "code",
      "metadata": {
        "id": "URkmmoAYURo_",
        "colab": {
          "base_uri": "https://localhost:8080/",
          "height": 87
        },
        "outputId": "c8dec12b-d813-4a65-9c21-46c6ff03e4a3"
      },
      "source": [
        "%%html\n",
        "<style>\n",
        "    p,\n",
        "    ul {\n",
        "        border: 2px solid rebeccapurple;\n",
        "    }\n",
        "\n",
        "    span,\n",
        "    li {\n",
        "        border: 2px solid blue;\n",
        "    }\n",
        "\n",
        "    ul {\n",
        "        display: inline-flex;\n",
        "        list-style: none;\n",
        "        padding: 0;\n",
        "    }\n",
        "\n",
        "    .inline {\n",
        "        display: inline;\n",
        "    }\n",
        "</style>\n",
        "<p>\n",
        "    I am a paragraph. Some of the\n",
        "    <span>words</span> have been wrapped in a\n",
        "    <span>span element</span>.\n",
        "</p>\n",
        "<ul>\n",
        "    <li>Item One</li>\n",
        "    <li>Item Two</li>\n",
        "    <li>Item Three</li>\n",
        "</ul>\n",
        "<p class=\"inline\">I am a paragraph. A short one.</p>\n",
        "<p class=\"inline\">I am another paragraph. Also a short one.</p>"
      ],
      "execution_count": null,
      "outputs": [
        {
          "output_type": "display_data",
          "data": {
            "text/html": [
              "<style>\n",
              "    p,\n",
              "    ul {\n",
              "        border: 2px solid rebeccapurple;\n",
              "    }\n",
              "\n",
              "    span,\n",
              "    li {\n",
              "        border: 2px solid blue;\n",
              "    }\n",
              "\n",
              "    ul {\n",
              "        display: inline-flex;\n",
              "        list-style: none;\n",
              "        padding: 0;\n",
              "    }\n",
              "\n",
              "    .inline {\n",
              "        display: inline;\n",
              "    }\n",
              "</style>\n",
              "<p>\n",
              "    I am a paragraph. Some of the\n",
              "    <span>words</span> have been wrapped in a\n",
              "    <span>span element</span>.\n",
              "</p>\n",
              "<ul>\n",
              "    <li>Item One</li>\n",
              "    <li>Item Two</li>\n",
              "    <li>Item Three</li>\n",
              "</ul>\n",
              "<p class=\"inline\">I am a paragraph. A short one.</p>\n",
              "<p class=\"inline\">I am another paragraph. Also a short one.</p>"
            ],
            "text/plain": [
              "<IPython.core.display.HTML object>"
            ]
          },
          "metadata": {
            "tags": []
          }
        }
      ]
    },
    {
      "cell_type": "markdown",
      "metadata": {
        "id": "Uae0vy_-eB9D"
      },
      "source": [
        "# 代替ボックスモデル"
      ]
    },
    {
      "cell_type": "code",
      "metadata": {
        "id": "txOB8_CJeGLv"
      },
      "source": [
        "# 以下のようにすれば、すべてが代替ボックスモデルにかわるが、やらない方がよさそう。 なぜなら普通ではないから。\n",
        "%%script false\n",
        "html {\n",
        "  box-sizing: border-box;\n",
        "}\n",
        "*, *::before, *::after {\n",
        "  box-sizing: inherit;\n",
        "}"
      ],
      "execution_count": null,
      "outputs": []
    },
    {
      "cell_type": "code",
      "metadata": {
        "id": "LaELwmt7elh5",
        "colab": {
          "base_uri": "https://localhost:8080/",
          "height": 497
        },
        "outputId": "b963a98b-4b4f-463a-8979-35ee3d60c729"
      },
      "source": [
        "# alternate が代替ボックスモデルで、普通のボックスモデルとサイズを合わせるにはpaddingとボーダーの幅を足す。\n",
        "%%html\n",
        "<style>\n",
        "    .box {\n",
        "        border: 5px solid rebeccapurple;\n",
        "        background-color: lightgray;\n",
        "        padding: 40px;\n",
        "        margin: 0px 40px 0px 40px;\n",
        "        width: 300px;\n",
        "        height: 150px;\n",
        "    }\n",
        "\n",
        "    .alternate {\n",
        "        box-sizing: border-box;\n",
        "        padding: 40px;\n",
        "        margin: 0px 40px 0px 40px;\n",
        "        width: 390px;\n",
        "        height: 240px;\n",
        "    }\n",
        "</style>\n",
        "\n",
        "<div class=\"box\">I use the standard box model.</div>\n",
        "<div class=\"box alternate\">I use the alternate box model.</div>"
      ],
      "execution_count": null,
      "outputs": [
        {
          "output_type": "display_data",
          "data": {
            "text/html": [
              "<style>\n",
              "    .box {\n",
              "        border: 5px solid rebeccapurple;\n",
              "        background-color: lightgray;\n",
              "        padding: 40px;\n",
              "        margin: 0px 40px 0px 40px;\n",
              "        width: 300px;\n",
              "        height: 150px;\n",
              "    }\n",
              "\n",
              "    .alternate {\n",
              "        box-sizing: border-box;\n",
              "        padding: 40px;\n",
              "        margin: 0px 40px 0px 40px;\n",
              "        width: 390px;\n",
              "        height: 240px;\n",
              "    }\n",
              "</style>\n",
              "\n",
              "<div class=\"box\">I use the standard box model.</div>\n",
              "<div class=\"box alternate\">I use the alternate box model.</div>"
            ],
            "text/plain": [
              "<IPython.core.display.HTML object>"
            ]
          },
          "metadata": {
            "tags": []
          }
        }
      ]
    },
    {
      "cell_type": "code",
      "metadata": {
        "id": "n62JKSDQgFrY",
        "colab": {
          "base_uri": "https://localhost:8080/",
          "height": 314
        },
        "outputId": "13e7bfd4-32da-4bc7-a1d2-4dcf8fe5128c"
      },
      "source": [
        "# マイナスマージンがどうなるか\n",
        "%%html\n",
        "<style>\n",
        "    .container {\n",
        "        border: 5px solid blue;\n",
        "        width: 600px;\n",
        "        height: 200px;\n",
        "    }\n",
        "\n",
        "    .box {\n",
        "        width: 300px;\n",
        "        height: 180px;\n",
        "        /* margin-top: -40px;\n",
        "        margin-right: 30px;\n",
        "        margin-bottom: 40px;\n",
        "        margin-left: 4em; */\n",
        "        margin: auto;\n",
        "        margin-top: -40px;\n",
        "        border: 5px solid rebeccapurple;\n",
        "        background-color: lightgray;\n",
        "    }\n",
        "</style>\n",
        "<br>\n",
        "<br>\n",
        "<br>\n",
        "<br>\n",
        "<br>\n",
        "\n",
        "<div class=\"container\">\n",
        "    <div class=\"box\">Change my margin.</div>\n",
        "</div>"
      ],
      "execution_count": null,
      "outputs": [
        {
          "output_type": "display_data",
          "data": {
            "text/html": [
              "<style>\n",
              "    .container {\n",
              "        border: 5px solid blue;\n",
              "        width: 600px;\n",
              "        height: 200px;\n",
              "    }\n",
              "\n",
              "    .box {\n",
              "        width: 300px;\n",
              "        height: 180px;\n",
              "        /* margin-top: -40px;\n",
              "        margin-right: 30px;\n",
              "        margin-bottom: 40px;\n",
              "        margin-left: 4em; */\n",
              "        margin: auto;\n",
              "        margin-top: -40px;\n",
              "        border: 5px solid rebeccapurple;\n",
              "        background-color: lightgray;\n",
              "    }\n",
              "</style>\n",
              "<br>\n",
              "<br>\n",
              "<br>\n",
              "<br>\n",
              "<br>\n",
              "\n",
              "<div class=\"container\">\n",
              "    <div class=\"box\">Change my margin.</div>\n",
              "</div>"
            ],
            "text/plain": [
              "<IPython.core.display.HTML object>"
            ]
          },
          "metadata": {
            "tags": []
          }
        }
      ]
    },
    {
      "cell_type": "code",
      "metadata": {
        "id": "URvY30gYjfWp",
        "colab": {
          "base_uri": "https://localhost:8080/",
          "height": 212
        },
        "outputId": "5f4f546a-6507-4427-a260-a9f94116dacd"
      },
      "source": [
        "# マージンの相殺\n",
        "%%html\n",
        "<style>\n",
        "    .container {\n",
        "        border: 5px solid blue;\n",
        "    }\n",
        "    p {\n",
        "        border: 5px solid rebeccapurple;\n",
        "        background: lightgrey;\n",
        "    }\n",
        "    .one {\n",
        "        margin-top: 30px;\n",
        "        margin-bottom: 50px;\n",
        "    }\n",
        "\n",
        "    .two {\n",
        "        margin-top: 50px;\n",
        "        margin-bottom: 50px;\n",
        "    }\n",
        "</style>\n",
        "<div class=\"container\">\n",
        "    <p class=\"one\">I am paragraph one.</p>\n",
        "    <p class=\"two\">I am paragraph two.</p>\n",
        "</div>"
      ],
      "execution_count": null,
      "outputs": [
        {
          "output_type": "display_data",
          "data": {
            "text/html": [
              "<style>\n",
              "    .container {\n",
              "        border: 5px solid blue;\n",
              "    }\n",
              "    p {\n",
              "        border: 5px solid rebeccapurple;\n",
              "        background: lightgrey;\n",
              "    }\n",
              "    .one {\n",
              "        margin-top: 30px;\n",
              "        margin-bottom: 50px;\n",
              "    }\n",
              "\n",
              "    .two {\n",
              "        margin-top: 50px;\n",
              "        margin-bottom: 50px;\n",
              "    }\n",
              "</style>\n",
              "<div class=\"container\">\n",
              "    <p class=\"one\">I am paragraph one.</p>\n",
              "    <p class=\"two\">I am paragraph two.</p>\n",
              "</div>"
            ],
            "text/plain": [
              "<IPython.core.display.HTML object>"
            ]
          },
          "metadata": {
            "tags": []
          }
        }
      ]
    },
    {
      "cell_type": "code",
      "metadata": {
        "id": "naJ6DVJNokne",
        "colab": {
          "base_uri": "https://localhost:8080/",
          "height": 79
        },
        "outputId": "ca99f65d-9cf0-4862-86b5-54e17c41a8f7"
      },
      "source": [
        "%%html\n",
        "<style>\n",
        "    .container {\n",
        "        border-top: 5px dotted green;\n",
        "        border-right: 100px solid black;\n",
        "        border-bottom: 20px double rgb(23, 45, 145);\n",
        "    }\n",
        "\n",
        "    .box {\n",
        "        border: 10px solid #333333;\n",
        "        border-top-style: dotted;\n",
        "        border-right-width: 20px;\n",
        "        border-bottom-color: hotpink;\n",
        "    }\n",
        "</style>\n",
        "<div class=\"container\">\n",
        "    <div class=\"box\">Change my borders.</div>\n",
        "</div>"
      ],
      "execution_count": null,
      "outputs": [
        {
          "output_type": "display_data",
          "data": {
            "text/html": [
              "<style>\n",
              "    .container {\n",
              "        border-top: 5px dotted green;\n",
              "        border-right: 100px solid black;\n",
              "        border-bottom: 20px double rgb(23, 45, 145);\n",
              "    }\n",
              "\n",
              "    .box {\n",
              "        border: 10px solid #333333;\n",
              "        border-top-style: dotted;\n",
              "        border-right-width: 20px;\n",
              "        border-bottom-color: hotpink;\n",
              "    }\n",
              "</style>\n",
              "<div class=\"container\">\n",
              "    <div class=\"box\">Change my borders.</div>\n",
              "</div>"
            ],
            "text/plain": [
              "<IPython.core.display.HTML object>"
            ]
          },
          "metadata": {
            "tags": []
          }
        }
      ]
    },
    {
      "cell_type": "code",
      "metadata": {
        "id": "kB4jTT4kpv7g",
        "colab": {
          "base_uri": "https://localhost:8080/",
          "height": 155
        },
        "outputId": "02d9c2a8-7c0f-4a72-c4fe-028dabb57271"
      },
      "source": [
        "%%html\n",
        "<style>\n",
        "    .container {\n",
        "        border: 5px solid skyblue;\n",
        "    }\n",
        "    .box {\n",
        "        border: 5px solid rebeccapurple;\n",
        "    }\n",
        "    .box {\n",
        "        padding-top: 20px;\n",
        "        padding-right: 30px;\n",
        "        padding-bottom: 40px;\n",
        "        padding-left: 4em;\n",
        "    }\n",
        "\n",
        "    .container {\n",
        "        padding: 20px;\n",
        "    }\n",
        "</style>\n",
        "\n",
        "<div class=\"container\">\n",
        "    <div class=\"box\">Change my padding.</div>\n",
        "</div>"
      ],
      "execution_count": null,
      "outputs": [
        {
          "output_type": "display_data",
          "data": {
            "text/html": [
              "<style>\n",
              "    .container {\n",
              "        border: 5px solid skyblue;\n",
              "    }\n",
              "    .box {\n",
              "        border: 5px solid rebeccapurple;\n",
              "    }\n",
              "    .box {\n",
              "        padding-top: 20px;\n",
              "        padding-right: 30px;\n",
              "        padding-bottom: 40px;\n",
              "        padding-left: 4em;\n",
              "    }\n",
              "\n",
              "    .container {\n",
              "        padding: 20px;\n",
              "    }\n",
              "</style>\n",
              "\n",
              "<div class=\"container\">\n",
              "    <div class=\"box\">Change my padding.</div>\n",
              "</div>"
            ],
            "text/plain": [
              "<IPython.core.display.HTML object>"
            ]
          },
          "metadata": {
            "tags": []
          }
        }
      ]
    },
    {
      "cell_type": "code",
      "metadata": {
        "id": "proNZpvllh58",
        "colab": {
          "base_uri": "https://localhost:8080/",
          "height": 129
        },
        "outputId": "4ed20573-e2bc-4b60-a050-b518b3aa9d38"
      },
      "source": [
        "%%html\n",
        "<style>\n",
        "    span#span {\n",
        "        margin: 20px;\n",
        "        padding: 20px;\n",
        "        width: 80px;\n",
        "        height: 50px;\n",
        "        background-color: lightblue;\n",
        "        border: 2px solid blue;\n",
        "    }\n",
        "</style>\n",
        "<br>\n",
        "<br>\n",
        "<br>\n",
        "<p>\n",
        "    I am a paragraph and this is a <span id=\"span\">span</span> inside that paragraph. A span is an inline element and so does not\n",
        "    respect width and height.\n",
        "</p>\n"
      ],
      "execution_count": null,
      "outputs": [
        {
          "output_type": "display_data",
          "data": {
            "text/html": [
              "<style>\n",
              "    span#span {\n",
              "        margin: 20px;\n",
              "        padding: 20px;\n",
              "        width: 80px;\n",
              "        height: 50px;\n",
              "        background-color: lightblue;\n",
              "        border: 2px solid blue;\n",
              "    }\n",
              "</style>\n",
              "<br>\n",
              "<br>\n",
              "<br>\n",
              "<p>\n",
              "    I am a paragraph and this is a <span id=\"span\">span</span> inside that paragraph. A span is an inline element and so does not\n",
              "    respect width and height.\n",
              "</p>"
            ],
            "text/plain": [
              "<IPython.core.display.HTML object>"
            ]
          },
          "metadata": {
            "tags": []
          }
        }
      ]
    },
    {
      "cell_type": "code",
      "metadata": {
        "id": "pBuR8e97KEMN",
        "colab": {
          "base_uri": "https://localhost:8080/",
          "height": 163
        },
        "outputId": "9f935759-e935-4fc9-de13-126648e433dc"
      },
      "source": [
        "# inline-block\n",
        "%%html\n",
        "<style>\n",
        "    span#span {\n",
        "        margin: 20px;\n",
        "        padding: 20px;\n",
        "        width: 80px;\n",
        "        height: 50px;\n",
        "        background-color: lightblue;\n",
        "        border: 2px solid blue;\n",
        "        display: inline-block;\n",
        "    }\n",
        "</style>\n",
        "<p>\n",
        "    I am a paragraph and this is a <span id=\"span\">span</span> inside that paragraph. A span is an inline element and so does not\n",
        "    respect width and height.\n",
        "</p>"
      ],
      "execution_count": null,
      "outputs": [
        {
          "output_type": "display_data",
          "data": {
            "text/html": [
              "<style>\n",
              "    span#span {\n",
              "        margin: auto;\n",
              "        margin: 20px;\n",
              "        padding: 20px;\n",
              "        width: 80px;\n",
              "        height: 50px;\n",
              "        background-color: lightblue;\n",
              "        border: 2px solid blue;\n",
              "        display: inline-block;\n",
              "    }\n",
              "</style>\n",
              "<p>\n",
              "    I am a paragraph and this is a <span id=\"span\">span</span> inside that paragraph. A span is an inline element and so does not\n",
              "    respect width and height.\n",
              "</p>"
            ],
            "text/plain": [
              "<IPython.core.display.HTML object>"
            ]
          },
          "metadata": {
            "tags": []
          }
        }
      ]
    },
    {
      "cell_type": "code",
      "metadata": {
        "id": "SVf6xjjwLFbm",
        "colab": {
          "base_uri": "https://localhost:8080/",
          "height": 78
        },
        "outputId": "e6a9e6a2-adc0-4953-ba5b-679df5bf80d6"
      },
      "source": [
        "%%html\n",
        "<style>\n",
        "    .links-list a {\n",
        "        background-color: rgb(179, 57, 81);\n",
        "        color: #fff;\n",
        "        text-decoration: none;\n",
        "        padding: 1em 2em;\n",
        "    }\n",
        "\n",
        "    ul {\n",
        "        display: inline-flex;\n",
        "        list-style: none;\n",
        "        padding: 0;\n",
        "    }\n",
        "\n",
        "    .links-list a:hover {\n",
        "        background-color: rgb(66, 28, 40);\n",
        "        color: #fff;\n",
        "    }\n",
        "</style>\n",
        "<br>\n",
        "<nav>\n",
        "    <ul class=\"links-list\">\n",
        "        <li><a href=\"\">Link one</a></li>\n",
        "        <li><a href=\"\">Link two</a></li>\n",
        "        <li><a href=\"\">Link three</a></li>\n",
        "    </ul>\n",
        "</nav>"
      ],
      "execution_count": null,
      "outputs": [
        {
          "output_type": "display_data",
          "data": {
            "text/html": [
              "<style>\n",
              "    .links-list a {\n",
              "        background-color: rgb(179, 57, 81);\n",
              "        color: #fff;\n",
              "        text-decoration: none;\n",
              "        padding: 1em 2em;\n",
              "    }\n",
              "\n",
              "    ul {\n",
              "        display: inline-flex;\n",
              "        list-style: none;\n",
              "        padding: 0;\n",
              "    }\n",
              "\n",
              "    .links-list a:hover {\n",
              "        background-color: rgb(66, 28, 40);\n",
              "        color: #fff;\n",
              "    }\n",
              "</style>\n",
              "<br>\n",
              "<nav>\n",
              "    <ul class=\"links-list\">\n",
              "        <li><a href=\"\">Link one</a></li>\n",
              "        <li><a href=\"\">Link two</a></li>\n",
              "        <li><a href=\"\">Link three</a></li>\n",
              "    </ul>\n",
              "</nav>"
            ],
            "text/plain": [
              "<IPython.core.display.HTML object>"
            ]
          },
          "metadata": {
            "tags": []
          }
        }
      ]
    },
    {
      "cell_type": "markdown",
      "metadata": {
        "id": "ZDICp_a9YD0M"
      },
      "source": [
        "# 背景 background "
      ]
    },
    {
      "cell_type": "code",
      "metadata": {
        "colab": {
          "resources": {
            "http://localhost:8080/big-star.png": {
              "data": "CjwhRE9DVFlQRSBodG1sPgo8aHRtbCBsYW5nPWVuPgogIDxtZXRhIGNoYXJzZXQ9dXRmLTg+CiAgPG1ldGEgbmFtZT12aWV3cG9ydCBjb250ZW50PSJpbml0aWFsLXNjYWxlPTEsIG1pbmltdW0tc2NhbGU9MSwgd2lkdGg9ZGV2aWNlLXdpZHRoIj4KICA8dGl0bGU+RXJyb3IgNDA0IChOb3QgRm91bmQpISExPC90aXRsZT4KICA8c3R5bGU+CiAgICAqe21hcmdpbjowO3BhZGRpbmc6MH1odG1sLGNvZGV7Zm9udDoxNXB4LzIycHggYXJpYWwsc2Fucy1zZXJpZn1odG1se2JhY2tncm91bmQ6I2ZmZjtjb2xvcjojMjIyO3BhZGRpbmc6MTVweH1ib2R5e21hcmdpbjo3JSBhdXRvIDA7bWF4LXdpZHRoOjM5MHB4O21pbi1oZWlnaHQ6MTgwcHg7cGFkZGluZzozMHB4IDAgMTVweH0qID4gYm9keXtiYWNrZ3JvdW5kOnVybCgvL3d3dy5nb29nbGUuY29tL2ltYWdlcy9lcnJvcnMvcm9ib3QucG5nKSAxMDAlIDVweCBuby1yZXBlYXQ7cGFkZGluZy1yaWdodDoyMDVweH1we21hcmdpbjoxMXB4IDAgMjJweDtvdmVyZmxvdzpoaWRkZW59aW5ze2NvbG9yOiM3Nzc7dGV4dC1kZWNvcmF0aW9uOm5vbmV9YSBpbWd7Ym9yZGVyOjB9QG1lZGlhIHNjcmVlbiBhbmQgKG1heC13aWR0aDo3NzJweCl7Ym9keXtiYWNrZ3JvdW5kOm5vbmU7bWFyZ2luLXRvcDowO21heC13aWR0aDpub25lO3BhZGRpbmctcmlnaHQ6MH19I2xvZ297YmFja2dyb3VuZDp1cmwoLy93d3cuZ29vZ2xlLmNvbS9pbWFnZXMvbG9nb3MvZXJyb3JwYWdlL2Vycm9yX2xvZ28tMTUweDU0LnBuZykgbm8tcmVwZWF0O21hcmdpbi1sZWZ0Oi01cHh9QG1lZGlhIG9ubHkgc2NyZWVuIGFuZCAobWluLXJlc29sdXRpb246MTkyZHBpKXsjbG9nb3tiYWNrZ3JvdW5kOnVybCgvL3d3dy5nb29nbGUuY29tL2ltYWdlcy9sb2dvcy9lcnJvcnBhZ2UvZXJyb3JfbG9nby0xNTB4NTQtMngucG5nKSBuby1yZXBlYXQgMCUgMCUvMTAwJSAxMDAlOy1tb3otYm9yZGVyLWltYWdlOnVybCgvL3d3dy5nb29nbGUuY29tL2ltYWdlcy9sb2dvcy9lcnJvcnBhZ2UvZXJyb3JfbG9nby0xNTB4NTQtMngucG5nKSAwfX1AbWVkaWEgb25seSBzY3JlZW4gYW5kICgtd2Via2l0LW1pbi1kZXZpY2UtcGl4ZWwtcmF0aW86Mil7I2xvZ297YmFja2dyb3VuZDp1cmwoLy93d3cuZ29vZ2xlLmNvbS9pbWFnZXMvbG9nb3MvZXJyb3JwYWdlL2Vycm9yX2xvZ28tMTUweDU0LTJ4LnBuZykgbm8tcmVwZWF0Oy13ZWJraXQtYmFja2dyb3VuZC1zaXplOjEwMCUgMTAwJX19I2xvZ297ZGlzcGxheTppbmxpbmUtYmxvY2s7aGVpZ2h0OjU0cHg7d2lkdGg6MTUwcHh9CiAgPC9zdHlsZT4KICA8YSBocmVmPS8vd3d3Lmdvb2dsZS5jb20vPjxzcGFuIGlkPWxvZ28gYXJpYS1sYWJlbD1Hb29nbGU+PC9zcGFuPjwvYT4KICA8cD48Yj40MDQuPC9iPiA8aW5zPlRoYXTigJlzIGFuIGVycm9yLjwvaW5zPgogIDxwPiAgPGlucz5UaGF04oCZcyBhbGwgd2Uga25vdy48L2lucz4K",
              "ok": false,
              "headers": [
                [
                  "content-length",
                  "1449"
                ],
                [
                  "content-type",
                  "text/html; charset=utf-8"
                ]
              ],
              "status": 404,
              "status_text": ""
            }
          },
          "base_uri": "https://localhost:8080/",
          "height": 317
        },
        "id": "mvS0Lk42YDPX",
        "outputId": "571cc453-56a0-4361-8e1a-7b45688dfdd6"
      },
      "source": [
        "# 画像 big-star.png がないので不完全\n",
        "%%html\n",
        "<style>\n",
        "    .box {\n",
        "        width: 600px;\n",
        "        height: 300px;\n",
        "        background: linear-gradient(105deg, rgba(255, 255, 255, .2) 39%, rgba(51, 56, 57, 1) 96%) center center / 400px 200px no-repeat,\n",
        "            url(\"big-star.png\") center no-repeat, rebeccapurple;\n",
        "    }\n",
        "</style>\n",
        "<div class=\"container\">\n",
        "    <div class=\"box\">BOX</div>\n",
        "</div>\n"
      ],
      "execution_count": null,
      "outputs": [
        {
          "output_type": "display_data",
          "data": {
            "text/html": [
              "<style>\n",
              "    .box {\n",
              "        width: 600px;\n",
              "        height: 300px;\n",
              "        background: linear-gradient(105deg, rgba(255, 255, 255, .2) 39%, rgba(51, 56, 57, 1) 96%) center center / 400px 200px no-repeat,\n",
              "            url(\"big-star.png\") center no-repeat, rebeccapurple;\n",
              "    }\n",
              "</style>\n",
              "<div class=\"container\">\n",
              "    <div class=\"box\">BOX</div>\n",
              "</div>"
            ],
            "text/plain": [
              "<IPython.core.display.HTML object>"
            ]
          },
          "metadata": {
            "tags": []
          }
        }
      ]
    },
    {
      "cell_type": "code",
      "metadata": {
        "colab": {
          "base_uri": "https://localhost:8080/",
          "height": 134
        },
        "id": "canjYxuB1EdT",
        "outputId": "4b9407ff-cfef-45a1-dbc2-d2e6e1905928"
      },
      "source": [
        "%%html\n",
        "<style>\n",
        "    .box {\n",
        "        background-color: #567895;\n",
        "        width: 600px;\n",
        "        height: 100px;\n",
        "    }\n",
        "\n",
        "    h2 {\n",
        "        background-color: black;\n",
        "        color: white;\n",
        "        padding: 10px;\n",
        "    }\n",
        "\n",
        "    span {\n",
        "        background-color: rgba(255, 255, 255, .5);\n",
        "    }\n",
        "</style>\n",
        "<div class=\"box\">\n",
        "    <h2>Background Colors</h2>\n",
        "    <p>Try changing the background <span>colors</span>.</p>\n",
        "</div>"
      ],
      "execution_count": null,
      "outputs": [
        {
          "output_type": "display_data",
          "data": {
            "text/html": [
              "<style>\n",
              "    .box {\n",
              "        background-color: #567895;\n",
              "        width: 600px;\n",
              "        height: 100px;\n",
              "    }\n",
              "\n",
              "    h2 {\n",
              "        background-color: black;\n",
              "        color: white;\n",
              "        padding: 10px;\n",
              "    }\n",
              "\n",
              "    span {\n",
              "        background-color: rgba(255, 255, 255, .5);\n",
              "    }\n",
              "</style>\n",
              "<div class=\"box\">\n",
              "    <h2>Background Colors</h2>\n",
              "    <p>Try changing the background <span>colors</span>.</p>\n",
              "</div>"
            ],
            "text/plain": [
              "<IPython.core.display.HTML object>"
            ]
          },
          "metadata": {
            "tags": []
          }
        }
      ]
    },
    {
      "cell_type": "code",
      "metadata": {
        "colab": {
          "base_uri": "https://localhost:8080/",
          "height": 137
        },
        "id": "udeBLRPF3eK7",
        "outputId": "8e89f8cd-957e-4fd8-e93d-8e2ade7b591e"
      },
      "source": [
        "# 画像がないので不完全\n",
        "# 大きな画像は一部分のみが表示される。\n",
        "# 小さな画像はボックスの内側いっぱいまで繰り返される。\n",
        "%%html\n",
        "<style>\n",
        "    .wrapper {\n",
        "        display: flex;\n",
        "    }\n",
        "    .a {\n",
        "        width: 200px;\n",
        "        height: 100px;\n",
        "        background-color: cyan;\n",
        "        margin: 10px;\n",
        "        /* background-image: url(balloons.jpg); */\n",
        "    }\n",
        "\n",
        "    .b {\n",
        "        width: 200px;\n",
        "        height: 100px;\n",
        "        background-color: burlywood;\n",
        "        margin: 10px;\n",
        "        /* background-image: url(star.png); */\n",
        "    }\n",
        "</style>\n",
        "<div class=\"wrapper\">\n",
        "    <div class=\"box a\"></div>\n",
        "    <div class=\"box b\"></div>\n",
        "</div>"
      ],
      "execution_count": null,
      "outputs": [
        {
          "output_type": "display_data",
          "data": {
            "text/html": [
              "<style>\n",
              "    .wrapper {\n",
              "        display: flex;\n",
              "    }\n",
              "    .a {\n",
              "        width: 200px;\n",
              "        height: 100px;\n",
              "        background-color: cyan;\n",
              "        margin: 10px;\n",
              "        /* background-image: url(balloons.jpg); */\n",
              "    }\n",
              "\n",
              "    .b {\n",
              "        width: 200px;\n",
              "        height: 100px;\n",
              "        background-color: burlywood;\n",
              "        margin: 10px;\n",
              "        /* background-image: url(star.png); */\n",
              "    }\n",
              "</style>\n",
              "<div class=\"wrapper\">\n",
              "    <div class=\"box a\"></div>\n",
              "    <div class=\"box b\"></div>\n",
              "</div>"
            ],
            "text/plain": [
              "<IPython.core.display.HTML object>"
            ]
          },
          "metadata": {
            "tags": []
          }
        }
      ]
    },
    {
      "cell_type": "code",
      "metadata": {
        "id": "Aj18y6Ln5GpF"
      },
      "source": [
        "%%script false\n",
        "background-repeatの値\n",
        "    no-repeat\n",
        "    repeat-x\n",
        "    repeat-y\n",
        "    repeat\n",
        "\n",
        "background-sizeの値\n",
        "    <length>\n",
        "    <percentage>\n",
        "    cover\n",
        "    contain\n",
        "\n",
        "background-positionの値 (左上隅が基点)\n",
        "    top, center, right, bottom, left\n",
        "    <length>\n",
        "    <percentage>\n",
        "    例:\n",
        "    background-position: top center;\n",
        "    background-position: 20px 10%;\n",
        "    background-position: top 20px;\n",
        "    background-position-x, background-position-y で個別に指定もできる。\n"
      ],
      "execution_count": null,
      "outputs": []
    },
    {
      "cell_type": "code",
      "metadata": {
        "colab": {
          "base_uri": "https://localhost:8080/",
          "height": 137
        },
        "id": "WNBGCY1v75Bz",
        "outputId": "1cd1aca5-191b-4d9e-cba2-f29f0e3e816d"
      },
      "source": [
        "# gradient の使い方\n",
        "%%html\n",
        "<style>\n",
        "    .wrapper {\n",
        "        display: flex;\n",
        "    }\n",
        "\n",
        "    .a {\n",
        "        width: 200px;\n",
        "        height: 100px;\n",
        "        margin: 10px;\n",
        "        background-image: linear-gradient(105deg, rgba(0, 249, 255, 1) 39%, rgba(51, 56, 57, 1) 96%);\n",
        "    }\n",
        "\n",
        "    .b {\n",
        "        width: 200px;\n",
        "        height: 100px;\n",
        "        margin: 10px;\n",
        "        background-image: radial-gradient(circle, rgba(0, 249, 255, 1) 39%, rgba(51, 56, 57, 1) 96%);\n",
        "        background-size: 100px 50px;\n",
        "    }\n",
        "</style>\n",
        "<div class=\"wrapper\">\n",
        "    <div class=\"box a\"></div>\n",
        "    <div class=\"box b\"></div>\n",
        "</div>"
      ],
      "execution_count": null,
      "outputs": [
        {
          "output_type": "display_data",
          "data": {
            "text/html": [
              "<style>\n",
              "    .wrapper {\n",
              "        display: flex;\n",
              "    }\n",
              "\n",
              "    .a {\n",
              "        width: 200px;\n",
              "        height: 100px;\n",
              "        margin: 10px;\n",
              "        background-image: linear-gradient(105deg, rgba(0, 249, 255, 1) 39%, rgba(51, 56, 57, 1) 96%);\n",
              "    }\n",
              "\n",
              "    .b {\n",
              "        width: 200px;\n",
              "        height: 100px;\n",
              "        margin: 10px;\n",
              "        background-image: radial-gradient(circle, rgba(0, 249, 255, 1) 39%, rgba(51, 56, 57, 1) 96%);\n",
              "        background-size: 100px 50px;\n",
              "    }\n",
              "</style>\n",
              "<div class=\"wrapper\">\n",
              "    <div class=\"box a\"></div>\n",
              "    <div class=\"box b\"></div>\n",
              "</div>"
            ],
            "text/plain": [
              "<IPython.core.display.HTML object>"
            ]
          },
          "metadata": {
            "tags": []
          }
        }
      ]
    },
    {
      "cell_type": "code",
      "metadata": {
        "id": "1ztBBh9C9K0f"
      },
      "source": [
        "# 複数の背景画像\n",
        "%%script false\n",
        "background-image: url(image1.png), url(image2.png), url(image3.png), url(image1.png);\n",
        "background-repeat: no-repeat, repeat-x, repeat;\n",
        "background-position: 10px 20px, top right;\n"
      ],
      "execution_count": null,
      "outputs": []
    },
    {
      "cell_type": "code",
      "metadata": {
        "id": "pXsLuF3R9PrT"
      },
      "source": [
        "# 図形がないので不完全。 star.png が上で、big-star.png が下であることを確認する。\n",
        "%%html\n",
        "<style>\n",
        "    .box {\n",
        "        width: 600px;\n",
        "        height: 300px;\n",
        "        background-color: palegoldenrod;\n",
        "        background-image: url(star.png), url(big-star.png);\n",
        "    }\n",
        "</style>\n",
        "<div class=\"wrapper\">\n",
        "    <div class=\"box\"></div>\n",
        "</div>"
      ],
      "execution_count": null,
      "outputs": []
    },
    {
      "cell_type": "code",
      "metadata": {
        "id": "O_p-cC-h92bW"
      },
      "source": [
        "# 背景のスクロール\n",
        "%%script false\n",
        "background-attachmenの値\n",
        "    scroll\n",
        "    fixed\n",
        "    local"
      ],
      "execution_count": null,
      "outputs": []
    },
    {
      "cell_type": "markdown",
      "metadata": {
        "id": "qFKaKYk4-zMN"
      },
      "source": [
        "## 背景一括指定の説明\n",
        "複数の背景を使用する場合は、最初の背景に対するプロパティをすべて指定してから、カンマで区切って次の背景を追加。\n",
        "\n",
        "以下の例では、サイズと位置を伴ったグラデーション、no-repeatと位置指定を伴った背景画像、最後に背景色を指定している。\n",
        "\n",
        "background-color は最後のコンマの後にのみ指定できる。\n",
        "\n",
        "background-sizeの値は、center / 80％のように、background-positionの値の直後に/文字を挟んだ位置でのみ使う。\n",
        "\n"
      ]
    },
    {
      "cell_type": "code",
      "metadata": {
        "colab": {
          "resources": {
            "http://localhost:8080/big-star.png": {
              "data": "CjwhRE9DVFlQRSBodG1sPgo8aHRtbCBsYW5nPWVuPgogIDxtZXRhIGNoYXJzZXQ9dXRmLTg+CiAgPG1ldGEgbmFtZT12aWV3cG9ydCBjb250ZW50PSJpbml0aWFsLXNjYWxlPTEsIG1pbmltdW0tc2NhbGU9MSwgd2lkdGg9ZGV2aWNlLXdpZHRoIj4KICA8dGl0bGU+RXJyb3IgNDA0IChOb3QgRm91bmQpISExPC90aXRsZT4KICA8c3R5bGU+CiAgICAqe21hcmdpbjowO3BhZGRpbmc6MH1odG1sLGNvZGV7Zm9udDoxNXB4LzIycHggYXJpYWwsc2Fucy1zZXJpZn1odG1se2JhY2tncm91bmQ6I2ZmZjtjb2xvcjojMjIyO3BhZGRpbmc6MTVweH1ib2R5e21hcmdpbjo3JSBhdXRvIDA7bWF4LXdpZHRoOjM5MHB4O21pbi1oZWlnaHQ6MTgwcHg7cGFkZGluZzozMHB4IDAgMTVweH0qID4gYm9keXtiYWNrZ3JvdW5kOnVybCgvL3d3dy5nb29nbGUuY29tL2ltYWdlcy9lcnJvcnMvcm9ib3QucG5nKSAxMDAlIDVweCBuby1yZXBlYXQ7cGFkZGluZy1yaWdodDoyMDVweH1we21hcmdpbjoxMXB4IDAgMjJweDtvdmVyZmxvdzpoaWRkZW59aW5ze2NvbG9yOiM3Nzc7dGV4dC1kZWNvcmF0aW9uOm5vbmV9YSBpbWd7Ym9yZGVyOjB9QG1lZGlhIHNjcmVlbiBhbmQgKG1heC13aWR0aDo3NzJweCl7Ym9keXtiYWNrZ3JvdW5kOm5vbmU7bWFyZ2luLXRvcDowO21heC13aWR0aDpub25lO3BhZGRpbmctcmlnaHQ6MH19I2xvZ297YmFja2dyb3VuZDp1cmwoLy93d3cuZ29vZ2xlLmNvbS9pbWFnZXMvbG9nb3MvZXJyb3JwYWdlL2Vycm9yX2xvZ28tMTUweDU0LnBuZykgbm8tcmVwZWF0O21hcmdpbi1sZWZ0Oi01cHh9QG1lZGlhIG9ubHkgc2NyZWVuIGFuZCAobWluLXJlc29sdXRpb246MTkyZHBpKXsjbG9nb3tiYWNrZ3JvdW5kOnVybCgvL3d3dy5nb29nbGUuY29tL2ltYWdlcy9sb2dvcy9lcnJvcnBhZ2UvZXJyb3JfbG9nby0xNTB4NTQtMngucG5nKSBuby1yZXBlYXQgMCUgMCUvMTAwJSAxMDAlOy1tb3otYm9yZGVyLWltYWdlOnVybCgvL3d3dy5nb29nbGUuY29tL2ltYWdlcy9sb2dvcy9lcnJvcnBhZ2UvZXJyb3JfbG9nby0xNTB4NTQtMngucG5nKSAwfX1AbWVkaWEgb25seSBzY3JlZW4gYW5kICgtd2Via2l0LW1pbi1kZXZpY2UtcGl4ZWwtcmF0aW86Mil7I2xvZ297YmFja2dyb3VuZDp1cmwoLy93d3cuZ29vZ2xlLmNvbS9pbWFnZXMvbG9nb3MvZXJyb3JwYWdlL2Vycm9yX2xvZ28tMTUweDU0LTJ4LnBuZykgbm8tcmVwZWF0Oy13ZWJraXQtYmFja2dyb3VuZC1zaXplOjEwMCUgMTAwJX19I2xvZ297ZGlzcGxheTppbmxpbmUtYmxvY2s7aGVpZ2h0OjU0cHg7d2lkdGg6MTUwcHh9CiAgPC9zdHlsZT4KICA8YSBocmVmPS8vd3d3Lmdvb2dsZS5jb20vPjxzcGFuIGlkPWxvZ28gYXJpYS1sYWJlbD1Hb29nbGU+PC9zcGFuPjwvYT4KICA8cD48Yj40MDQuPC9iPiA8aW5zPlRoYXTigJlzIGFuIGVycm9yLjwvaW5zPgogIDxwPiAgPGlucz5UaGF04oCZcyBhbGwgd2Uga25vdy48L2lucz4K",
              "ok": false,
              "headers": [
                [
                  "content-length",
                  "1449"
                ],
                [
                  "content-type",
                  "text/html; charset=utf-8"
                ]
              ],
              "status": 404,
              "status_text": ""
            }
          },
          "base_uri": "https://localhost:8080/",
          "height": 317
        },
        "id": "dFT2TbQn-3b6",
        "outputId": "ad91702c-c070-478d-d832-0fe72595d011"
      },
      "source": [
        "# 画像 big-star.png がないので不完全\n",
        "%%html\n",
        "<style>\n",
        "    .box {\n",
        "        width: 600px;\n",
        "        height: 300px;\n",
        "        background: linear-gradient(105deg, rgba(255, 255, 255, .5) 39%, rgba(51, 56, 57, 1) 96%) center center / 400px 200px no-repeat,\n",
        "            url(\"big-star.png\") center no-repeat, hotpink;\n",
        "    }\n",
        "</style>\n",
        "<div class=\"container\">\n",
        "    <div class=\"box\">BOX</div>\n",
        "</div>\n"
      ],
      "execution_count": null,
      "outputs": [
        {
          "output_type": "display_data",
          "data": {
            "text/html": [
              "<style>\n",
              "    .box {\n",
              "        width: 600px;\n",
              "        height: 300px;\n",
              "        background: linear-gradient(105deg, rgba(255, 255, 255, .5) 39%, rgba(51, 56, 57, 1) 96%) center center / 400px 200px no-repeat,\n",
              "            url(\"big-star.png\") center no-repeat, hotpink;\n",
              "    }\n",
              "</style>\n",
              "<div class=\"container\">\n",
              "    <div class=\"box\">BOX</div>\n",
              "</div>"
            ],
            "text/plain": [
              "<IPython.core.display.HTML object>"
            ]
          },
          "metadata": {
            "tags": []
          }
        }
      ]
    },
    {
      "cell_type": "code",
      "metadata": {
        "colab": {
          "base_uri": "https://localhost:8080/",
          "height": 227
        },
        "id": "U-A_jlw_AtJ_",
        "outputId": "e0843434-fcdc-4496-f98d-d2cef7d58763"
      },
      "source": [
        "# 枠線 border サンプル\n",
        "%%html\n",
        "<style>\n",
        "    .box {\n",
        "        width: 600px;\n",
        "        height: 200px;\n",
        "        background-color: #567895;\n",
        "        border: 5px solid #0b385f;\n",
        "        border-bottom-style: dashed;\n",
        "        color: #fff;\n",
        "    }\n",
        "\n",
        "    h2 {\n",
        "        border-top: 2px dotted rebeccapurple;\n",
        "        border-bottom: 1em double rgb(24, 163, 78);\n",
        "    }\n",
        "</style>\n",
        "<div class=\"box\">\n",
        "    <h2>Borders</h2>\n",
        "    <p>Try changing the borders.</p>\n",
        "</div>"
      ],
      "execution_count": null,
      "outputs": [
        {
          "output_type": "display_data",
          "data": {
            "text/html": [
              "<style>\n",
              "    .box {\n",
              "        width: 600px;\n",
              "        height: 200px;\n",
              "        background-color: #567895;\n",
              "        border: 5px solid #0b385f;\n",
              "        border-bottom-style: dashed;\n",
              "        color: #fff;\n",
              "    }\n",
              "\n",
              "    h2 {\n",
              "        border-top: 2px dotted rebeccapurple;\n",
              "        border-bottom: 1em double rgb(24, 163, 78);\n",
              "    }\n",
              "</style>\n",
              "<div class=\"box\">\n",
              "    <h2>Borders</h2>\n",
              "    <p>Try changing the borders.</p>\n",
              "</div>"
            ],
            "text/plain": [
              "<IPython.core.display.HTML object>"
            ]
          },
          "metadata": {
            "tags": []
          }
        }
      ]
    },
    {
      "cell_type": "code",
      "metadata": {
        "colab": {
          "base_uri": "https://localhost:8080/",
          "height": 237
        },
        "id": "GZhg4xETBdvn",
        "outputId": "a852d690-4ff0-44fc-c0cf-546be31adbf8"
      },
      "source": [
        "# 角の丸み\n",
        "%%html\n",
        "<style>\n",
        "    .box {\n",
        "        width: 600px;\n",
        "        height: 200px;\n",
        "        border: 5px solid #0b385f;\n",
        "        border-bottom-style: dashed;\n",
        "        border: 10px solid rebeccapurple;\n",
        "        border-radius: 1em;\n",
        "        border-top-right-radius: 50% 50%;\n",
        "    }\n",
        "</style>\n",
        "<div class=\"box\">\n",
        "    <h2>Borders</h2>\n",
        "    <p>Try changing the borders.</p>\n",
        "</div>"
      ],
      "execution_count": null,
      "outputs": [
        {
          "output_type": "display_data",
          "data": {
            "text/html": [
              "<style>\n",
              "    .box {\n",
              "        width: 600px;\n",
              "        height: 200px;\n",
              "        border: 5px solid #0b385f;\n",
              "        border-bottom-style: dashed;\n",
              "        border: 10px solid rebeccapurple;\n",
              "        border-radius: 1em;\n",
              "        border-top-right-radius: 50% 50%;\n",
              "    }\n",
              "</style>\n",
              "<div class=\"box\">\n",
              "    <h2>Borders</h2>\n",
              "    <p>Try changing the borders.</p>\n",
              "</div>"
            ],
            "text/plain": [
              "<IPython.core.display.HTML object>"
            ]
          },
          "metadata": {
            "tags": []
          }
        }
      ]
    },
    {
      "cell_type": "markdown",
      "metadata": {
        "id": "spWcL3coaAVZ"
      },
      "source": [
        "# テキスト方向"
      ]
    },
    {
      "cell_type": "code",
      "metadata": {
        "id": "58ZBTuKsaZVr",
        "colab": {
          "base_uri": "https://localhost:8080/",
          "height": 355
        },
        "outputId": "2435c862-18bd-4ac6-b7f3-e58bab24bae1"
      },
      "source": [
        "%%html\n",
        "<style>\n",
        "    h1 {\n",
        "        writing-mode: vertical-lr;\n",
        "        background-color: black;\n",
        "        color: white;\n",
        "    }\n",
        "</style>\n",
        "<h1>Play with writing modes</h1>"
      ],
      "execution_count": null,
      "outputs": [
        {
          "output_type": "display_data",
          "data": {
            "text/html": [
              "<style>\n",
              "    h1 {\n",
              "        writing-mode: vertical-lr;\n",
              "        background-color: black;\n",
              "        color: white;\n",
              "    }\n",
              "</style>\n",
              "<h1>Play with writing modes</h1>"
            ],
            "text/plain": [
              "<IPython.core.display.HTML object>"
            ]
          },
          "metadata": {
            "tags": []
          }
        }
      ]
    },
    {
      "cell_type": "code",
      "metadata": {
        "id": "4u4cN_D8booW"
      },
      "source": [
        "%%script false\n",
        "writing-modeの値\n",
        "    horizontal-tb\n",
        "    vertical-rl\n",
        "    vertical-lr"
      ],
      "execution_count": null,
      "outputs": []
    },
    {
      "cell_type": "code",
      "metadata": {
        "id": "MZW1ox_qcGcG",
        "colab": {
          "base_uri": "https://localhost:8080/",
          "height": 360
        },
        "outputId": "203ae0a9-f638-43cc-9a20-c93bd94c410b"
      },
      "source": [
        "%%html\n",
        "<style>\n",
        "    .wrapper {\n",
        "        display: flex;\n",
        "    }\n",
        "\n",
        "    .horizontal {\n",
        "        border: 2px solid grey;\n",
        "        writing-mode: horizontal-tb;\n",
        "    }\n",
        "\n",
        "    .vertical {\n",
        "        border: 2px solid grey;\n",
        "        writing-mode: vertical-rl;\n",
        "    }\n",
        "</style>\n",
        "<div class=\"wrapper\">\n",
        "    <div class=\"box horizontal\">\n",
        "        <h2>Heading</h2>\n",
        "        <p>A paragraph. Demonstrating Writing Modes in CSS.</p>\n",
        "        <p>A paragraph. Demonstrating Writing Modes in CSS.</p>        \n",
        "        <p>A paragraph. Demonstrating Writing Modes in CSS.</p>\n",
        "        <p>A paragraph. Demonstrating Writing Modes in CSS.</p>        \n",
        "        <p>A paragraph. Demonstrating Writing Modes in CSS.</p>\n",
        "        <p>A paragraph. Demonstrating Writing Modes in CSS.A paragraph. Demonstrating Writing Modes in CSS.A paragraph. Demonstrating Writing Modes in CSS.A paragraph. Demonstrating Writing Modes in CSS.A paragraph. Demonstrating Writing Modes in CSS.</p>        \n",
        "    </div>\n",
        "    <div class=\"box vertical\">\n",
        "        <h2>Heading</h2>\n",
        "        <p>A paragraph. Demonstrating Writing Modes in CSS.</p>\n",
        "        <p>A paragraph. Demonstrating Writing Modes in CSS.</p>\n",
        "        <p>A paragraph. Demonstrating Writing Modes in CSS.</p>\n",
        "        <p>A paragraph. Demonstrating Writing Modes in CSS.</p>\n",
        "        <p>A paragraph. Demonstrating Writing Modes in CSS.</p>\n",
        "        <p>A paragraph. Demonstrating Writing Modes in CSS.</p>\n",
        "    </div>\n",
        "</div>"
      ],
      "execution_count": null,
      "outputs": [
        {
          "output_type": "display_data",
          "data": {
            "text/html": [
              "<style>\n",
              "    .wrapper {\n",
              "        display: flex;\n",
              "    }\n",
              "\n",
              "    .horizontal {\n",
              "        border: 2px solid grey;\n",
              "        writing-mode: horizontal-tb;\n",
              "    }\n",
              "\n",
              "    .vertical {\n",
              "        border: 2px solid grey;\n",
              "        writing-mode: vertical-rl;\n",
              "    }\n",
              "</style>\n",
              "<div class=\"wrapper\">\n",
              "    <div class=\"box horizontal\">\n",
              "        <h2>Heading</h2>\n",
              "        <p>A paragraph. Demonstrating Writing Modes in CSS.</p>\n",
              "        <p>A paragraph. Demonstrating Writing Modes in CSS.</p>        \n",
              "        <p>A paragraph. Demonstrating Writing Modes in CSS.</p>\n",
              "        <p>A paragraph. Demonstrating Writing Modes in CSS.</p>        \n",
              "        <p>A paragraph. Demonstrating Writing Modes in CSS.</p>\n",
              "        <p>A paragraph. Demonstrating Writing Modes in CSS.A paragraph. Demonstrating Writing Modes in CSS.A paragraph. Demonstrating Writing Modes in CSS.A paragraph. Demonstrating Writing Modes in CSS.A paragraph. Demonstrating Writing Modes in CSS.</p>        \n",
              "    </div>\n",
              "    <div class=\"box vertical\">\n",
              "        <h2>Heading</h2>\n",
              "        <p>A paragraph. Demonstrating Writing Modes in CSS.</p>\n",
              "        <p>A paragraph. Demonstrating Writing Modes in CSS.</p>\n",
              "        <p>A paragraph. Demonstrating Writing Modes in CSS.</p>\n",
              "        <p>A paragraph. Demonstrating Writing Modes in CSS.</p>\n",
              "        <p>A paragraph. Demonstrating Writing Modes in CSS.</p>\n",
              "        <p>A paragraph. Demonstrating Writing Modes in CSS.</p>\n",
              "    </div>\n",
              "</div>"
            ],
            "text/plain": [
              "<IPython.core.display.HTML object>"
            ]
          },
          "metadata": {
            "tags": []
          }
        }
      ]
    },
    {
      "cell_type": "code",
      "metadata": {
        "id": "oqFDM33ueHZK",
        "colab": {
          "base_uri": "https://localhost:8080/",
          "height": 524
        },
        "outputId": "0c31f36d-215d-4949-e334-3fd79ed6d0ef"
      },
      "source": [
        "%%html\n",
        "<style>\n",
        "    .wrapper {\n",
        "        display: flex;\n",
        "    }\n",
        "\n",
        "    .box {\n",
        "        border: 2px solid grey;        \n",
        "        width: 150px;\n",
        "        font-size: 150%;\n",
        "    }\n",
        "\n",
        "    .horizontal {    \n",
        "        writing-mode: horizontal-tb;\n",
        "    }\n",
        "\n",
        "    .vertical {\n",
        "        writing-mode: vertical-rl;\n",
        "    }\n",
        "</style>\n",
        "<div class=\"wrapper\">\n",
        "    <div class=\"box horizontal\">\n",
        "        <h2>Heading</h2>\n",
        "        <p>A paragraph. Demonstrating Writing Modes in CSS.</p>\n",
        "        <p>These boxes have a width.</p>\n",
        "    </div>\n",
        "    <div class=\"box vertical\">\n",
        "        <h2>Heading</h2>\n",
        "        <p>A paragraph. Demonstrating Writing Modes in CSS.</p>\n",
        "        <p>These boxes have a width.</p>\n",
        "    </div>\n",
        "</div>"
      ],
      "execution_count": null,
      "outputs": [
        {
          "output_type": "display_data",
          "data": {
            "text/html": [
              "<style>\n",
              "    .wrapper {\n",
              "        display: flex;\n",
              "    }\n",
              "\n",
              "    .box {\n",
              "        border: 2px solid grey;        \n",
              "        width: 150px;\n",
              "        font-size: 150%;\n",
              "    }\n",
              "\n",
              "    .horizontal {    \n",
              "        writing-mode: horizontal-tb;\n",
              "    }\n",
              "\n",
              "    .vertical {\n",
              "        writing-mode: vertical-rl;\n",
              "    }\n",
              "</style>\n",
              "<div class=\"wrapper\">\n",
              "    <div class=\"box horizontal\">\n",
              "        <h2>Heading</h2>\n",
              "        <p>A paragraph. Demonstrating Writing Modes in CSS.</p>\n",
              "        <p>These boxes have a width.</p>\n",
              "    </div>\n",
              "    <div class=\"box vertical\">\n",
              "        <h2>Heading</h2>\n",
              "        <p>A paragraph. Demonstrating Writing Modes in CSS.</p>\n",
              "        <p>These boxes have a width.</p>\n",
              "    </div>\n",
              "</div>"
            ],
            "text/plain": [
              "<IPython.core.display.HTML object>"
            ]
          },
          "metadata": {
            "tags": []
          }
        }
      ]
    },
    {
      "cell_type": "code",
      "metadata": {
        "id": "Y4EvOgbpfmot",
        "colab": {
          "base_uri": "https://localhost:8080/",
          "height": 282
        },
        "outputId": "115145d4-a98d-4e51-dafb-b2ce19a4d69e"
      },
      "source": [
        "# inline-size\n",
        "%%html\n",
        "<style>\n",
        "    .wrapper {\n",
        "        display: flex;\n",
        "    }\n",
        "\n",
        "    .box {\n",
        "        border: 2px solid grey;\n",
        "        inline-size: 150px;\n",
        "        font-size: 150%;\n",
        "    }\n",
        "\n",
        "    .horizontal {\n",
        "        writing-mode: horizontal-tb;\n",
        "    }\n",
        "\n",
        "    .vertical {\n",
        "        writing-mode: vertical-rl;\n",
        "    }\n",
        "</style>\n",
        "<div class=\"wrapper\">\n",
        "    <div class=\"box horizontal\">\n",
        "        <h2>Heading</h2>\n",
        "        <p>A paragraph. Demonstrating Writing Modes in CSS.</p>\n",
        "        <p>These boxes have inline-size.</p>\n",
        "    </div>\n",
        "    <div class=\"box vertical\">\n",
        "        <h2>Heading</h2>\n",
        "        <p>A paragraph. Demonstrating Writing Modes in CSS.</p>\n",
        "        <p>These boxes have inline-size.</p>\n",
        "    </div>\n",
        "</div>"
      ],
      "execution_count": null,
      "outputs": [
        {
          "output_type": "display_data",
          "data": {
            "text/html": [
              "<style>\n",
              "    .wrapper {\n",
              "        display: flex;\n",
              "    }\n",
              "\n",
              "    .box {\n",
              "        border: 2px solid grey;\n",
              "        inline-size: 150px;\n",
              "        font-size: 150%;\n",
              "    }\n",
              "\n",
              "    .horizontal {\n",
              "        writing-mode: horizontal-tb;\n",
              "    }\n",
              "\n",
              "    .vertical {\n",
              "        writing-mode: vertical-rl;\n",
              "    }\n",
              "</style>\n",
              "<div class=\"wrapper\">\n",
              "    <div class=\"box horizontal\">\n",
              "        <h2>Heading</h2>\n",
              "        <p>A paragraph. Demonstrating Writing Modes in CSS.</p>\n",
              "        <p>These boxes have inline-size.</p>\n",
              "    </div>\n",
              "    <div class=\"box vertical\">\n",
              "        <h2>Heading</h2>\n",
              "        <p>A paragraph. Demonstrating Writing Modes in CSS.</p>\n",
              "        <p>These boxes have inline-size.</p>\n",
              "    </div>\n",
              "</div>"
            ],
            "text/plain": [
              "<IPython.core.display.HTML object>"
            ]
          },
          "metadata": {
            "tags": []
          }
        }
      ]
    },
    {
      "cell_type": "code",
      "metadata": {
        "colab": {
          "base_uri": "https://localhost:8080/",
          "height": 286
        },
        "id": "aTPrLCFw2_3V",
        "outputId": "58e4c96f-637d-44d5-f39a-27a0a4809dce"
      },
      "source": [
        "# logical vs. physical mode\n",
        "%%html\n",
        "<style>\n",
        "    .wrapper {\n",
        "        display: flex;\n",
        "    }\n",
        "\n",
        "    .box {\n",
        "        inline-size: 200px;\n",
        "        writing-mode: vertical-rl;\n",
        "        writing-mode: horizontal-tb;\n",
        "        font-size: 150%;\n",
        "    }\n",
        "\n",
        "    .logical {\n",
        "        margin-block-start: 20px;\n",
        "        padding-inline-end: 2em;\n",
        "        padding-block-start: 2px;\n",
        "        border-block-start: 5px solid pink;\n",
        "        border-inline-end: 10px dotted rebeccapurple;\n",
        "        border-block-end: 1em double orange;\n",
        "        border-inline-start: 1px solid black;\n",
        "    }\n",
        "\n",
        "    .physical {\n",
        "        margin-top: 20px;\n",
        "        padding-right: 2em;\n",
        "        padding-top: 2px;\n",
        "        border-top: 5px solid pink;\n",
        "        border-right: 10px dotted rebeccapurple;\n",
        "        border-bottom: 1em double orange;\n",
        "        border-left: 1px solid black;\n",
        "    }\n",
        "\n",
        "    h2 {\n",
        "        /* border-bottom: 5px solid black; */\n",
        "        border-block-end: 5px solid black;\n",
        "    }\n",
        "</style>\n",
        "<div class=\"wrapper\">\n",
        "    <div class=\"box physical\">\n",
        "        <h2>Physical Properties</h2>\n",
        "        <p>A paragraph. Demonstrating Logical Properties in CSS.</p>\n",
        "    </div>\n",
        "    <div class=\"box logical\">\n",
        "        <h2>Logical Properties</h2>\n",
        "        <p>A paragraph. Demonstrating Logical Properties in CSS.</p>\n",
        "    </div>\n",
        "</div>"
      ],
      "execution_count": 8,
      "outputs": [
        {
          "output_type": "display_data",
          "data": {
            "text/html": [
              "<style>\n",
              "    .wrapper {\n",
              "        display: flex;\n",
              "    }\n",
              "\n",
              "    .box {\n",
              "        inline-size: 200px;\n",
              "        writing-mode: vertical-rl;\n",
              "        writing-mode: horizontal-tb;\n",
              "        font-size: 150%;\n",
              "    }\n",
              "\n",
              "    .logical {\n",
              "        margin-block-start: 20px;\n",
              "        padding-inline-end: 2em;\n",
              "        padding-block-start: 2px;\n",
              "        border-block-start: 5px solid pink;\n",
              "        border-inline-end: 10px dotted rebeccapurple;\n",
              "        border-block-end: 1em double orange;\n",
              "        border-inline-start: 1px solid black;\n",
              "    }\n",
              "\n",
              "    .physical {\n",
              "        margin-top: 20px;\n",
              "        padding-right: 2em;\n",
              "        padding-top: 2px;\n",
              "        border-top: 5px solid pink;\n",
              "        border-right: 10px dotted rebeccapurple;\n",
              "        border-bottom: 1em double orange;\n",
              "        border-left: 1px solid black;\n",
              "    }\n",
              "\n",
              "    h2 {\n",
              "        /* border-bottom: 5px solid black; */\n",
              "        border-block-end: 5px solid black;\n",
              "    }\n",
              "</style>\n",
              "<div class=\"wrapper\">\n",
              "    <div class=\"box physical\">\n",
              "        <h2>Physical Properties</h2>\n",
              "        <p>A paragraph. Demonstrating Logical Properties in CSS.</p>\n",
              "    </div>\n",
              "    <div class=\"box logical\">\n",
              "        <h2>Logical Properties</h2>\n",
              "        <p>A paragraph. Demonstrating Logical Properties in CSS.</p>\n",
              "    </div>\n",
              "</div>"
            ],
            "text/plain": [
              "<IPython.core.display.HTML object>"
            ]
          },
          "metadata": {
            "tags": []
          }
        }
      ]
    },
    {
      "cell_type": "code",
      "metadata": {
        "colab": {
          "resources": {
            "http://localhost:8080/big-star.png": {
              "data": "CjwhRE9DVFlQRSBodG1sPgo8aHRtbCBsYW5nPWVuPgogIDxtZXRhIGNoYXJzZXQ9dXRmLTg+CiAgPG1ldGEgbmFtZT12aWV3cG9ydCBjb250ZW50PSJpbml0aWFsLXNjYWxlPTEsIG1pbmltdW0tc2NhbGU9MSwgd2lkdGg9ZGV2aWNlLXdpZHRoIj4KICA8dGl0bGU+RXJyb3IgNDA0IChOb3QgRm91bmQpISExPC90aXRsZT4KICA8c3R5bGU+CiAgICAqe21hcmdpbjowO3BhZGRpbmc6MH1odG1sLGNvZGV7Zm9udDoxNXB4LzIycHggYXJpYWwsc2Fucy1zZXJpZn1odG1se2JhY2tncm91bmQ6I2ZmZjtjb2xvcjojMjIyO3BhZGRpbmc6MTVweH1ib2R5e21hcmdpbjo3JSBhdXRvIDA7bWF4LXdpZHRoOjM5MHB4O21pbi1oZWlnaHQ6MTgwcHg7cGFkZGluZzozMHB4IDAgMTVweH0qID4gYm9keXtiYWNrZ3JvdW5kOnVybCgvL3d3dy5nb29nbGUuY29tL2ltYWdlcy9lcnJvcnMvcm9ib3QucG5nKSAxMDAlIDVweCBuby1yZXBlYXQ7cGFkZGluZy1yaWdodDoyMDVweH1we21hcmdpbjoxMXB4IDAgMjJweDtvdmVyZmxvdzpoaWRkZW59aW5ze2NvbG9yOiM3Nzc7dGV4dC1kZWNvcmF0aW9uOm5vbmV9YSBpbWd7Ym9yZGVyOjB9QG1lZGlhIHNjcmVlbiBhbmQgKG1heC13aWR0aDo3NzJweCl7Ym9keXtiYWNrZ3JvdW5kOm5vbmU7bWFyZ2luLXRvcDowO21heC13aWR0aDpub25lO3BhZGRpbmctcmlnaHQ6MH19I2xvZ297YmFja2dyb3VuZDp1cmwoLy93d3cuZ29vZ2xlLmNvbS9pbWFnZXMvbG9nb3MvZXJyb3JwYWdlL2Vycm9yX2xvZ28tMTUweDU0LnBuZykgbm8tcmVwZWF0O21hcmdpbi1sZWZ0Oi01cHh9QG1lZGlhIG9ubHkgc2NyZWVuIGFuZCAobWluLXJlc29sdXRpb246MTkyZHBpKXsjbG9nb3tiYWNrZ3JvdW5kOnVybCgvL3d3dy5nb29nbGUuY29tL2ltYWdlcy9sb2dvcy9lcnJvcnBhZ2UvZXJyb3JfbG9nby0xNTB4NTQtMngucG5nKSBuby1yZXBlYXQgMCUgMCUvMTAwJSAxMDAlOy1tb3otYm9yZGVyLWltYWdlOnVybCgvL3d3dy5nb29nbGUuY29tL2ltYWdlcy9sb2dvcy9lcnJvcnBhZ2UvZXJyb3JfbG9nby0xNTB4NTQtMngucG5nKSAwfX1AbWVkaWEgb25seSBzY3JlZW4gYW5kICgtd2Via2l0LW1pbi1kZXZpY2UtcGl4ZWwtcmF0aW86Mil7I2xvZ297YmFja2dyb3VuZDp1cmwoLy93d3cuZ29vZ2xlLmNvbS9pbWFnZXMvbG9nb3MvZXJyb3JwYWdlL2Vycm9yX2xvZ28tMTUweDU0LTJ4LnBuZykgbm8tcmVwZWF0Oy13ZWJraXQtYmFja2dyb3VuZC1zaXplOjEwMCUgMTAwJX19I2xvZ297ZGlzcGxheTppbmxpbmUtYmxvY2s7aGVpZ2h0OjU0cHg7d2lkdGg6MTUwcHh9CiAgPC9zdHlsZT4KICA8YSBocmVmPS8vd3d3Lmdvb2dsZS5jb20vPjxzcGFuIGlkPWxvZ28gYXJpYS1sYWJlbD1Hb29nbGU+PC9zcGFuPjwvYT4KICA8cD48Yj40MDQuPC9iPiA8aW5zPlRoYXTigJlzIGFuIGVycm9yLjwvaW5zPgogIDxwPiAgPGlucz5UaGF04oCZcyBhbGwgd2Uga25vdy48L2lucz4K",
              "ok": false,
              "headers": [
                [
                  "content-length",
                  "1449"
                ],
                [
                  "content-type",
                  "text/html; charset=utf-8"
                ]
              ],
              "status": 404,
              "status_text": ""
            }
          },
          "base_uri": "https://localhost:8080/",
          "height": 143
        },
        "id": "edJXurBD5o-I",
        "outputId": "f7fed851-6841-455b-ade3-22d9dfa4c64c"
      },
      "source": [
        "# 画像がないので不完全\n",
        "%%html\n",
        "<style>\n",
        "    .wrapper {\n",
        "        display: flex;\n",
        "    }\n",
        "\n",
        "    .box {\n",
        "        inline-size: 200px;\n",
        "        writing-mode: vertical-rl;\n",
        "        writing-mode: horizontal-tb;\n",
        "    }\n",
        "\n",
        "    img {\n",
        "        /* float: left; */\n",
        "        float: inline-start;\n",
        "        margin-inline-end: 10px;\n",
        "        margin-block-end: 10px;\n",
        "    }\n",
        "</style>\n",
        "<div class=\"wrapper\">\n",
        "    <div class=\"box logical\">\n",
        "        <img src=\"big-star.png\" alt=\"star\">\n",
        "        <p>This box uses logical properties. The star image has been floated inline-start, it also has a margin on the\n",
        "            inline-end and block-end.</p>\n",
        "    </div>\n",
        "</div>"
      ],
      "execution_count": 16,
      "outputs": [
        {
          "output_type": "display_data",
          "data": {
            "text/html": [
              "<style>\n",
              "    .wrapper {\n",
              "        display: flex;\n",
              "    }\n",
              "\n",
              "    .box {\n",
              "        inline-size: 200px;\n",
              "        writing-mode: vertical-rl;\n",
              "        writing-mode: horizontal-tb;\n",
              "    }\n",
              "\n",
              "    img {\n",
              "        /* float: left; */\n",
              "        float: inline-start;\n",
              "        margin-inline-end: 10px;\n",
              "        margin-block-end: 10px;\n",
              "    }\n",
              "</style>\n",
              "<div class=\"wrapper\">\n",
              "    <div class=\"box logical\">\n",
              "        <img src=\"big-star.png\" alt=\"star\">\n",
              "        <p>This box uses logical properties. The star image has been floated inline-start, it also has a margin on the\n",
              "            inline-end and block-end.</p>\n",
              "    </div>\n",
              "</div>"
            ],
            "text/plain": [
              "<IPython.core.display.HTML object>"
            ]
          },
          "metadata": {
            "tags": []
          }
        }
      ]
    },
    {
      "cell_type": "markdown",
      "metadata": {
        "id": "Gq8K-EFT7Fx9"
      },
      "source": [
        "# 要素のはみ出し overflow\n"
      ]
    },
    {
      "cell_type": "code",
      "metadata": {
        "colab": {
          "base_uri": "https://localhost:8080/",
          "height": 148
        },
        "id": "-aUp6DQb7eGY",
        "outputId": "751cb6de-5e6c-4ef7-fe67-8951da399c9f"
      },
      "source": [
        "%%html\n",
        "<style>\n",
        "    .box {\n",
        "        border: 1px solid #333333;\n",
        "        width: 200px;\n",
        "        height: 100px;\n",
        "    }\n",
        "</style>\n",
        "<div class=\"box\">This box has a height and a width. This means that if there is too much content to be displayed within\n",
        "    the assigned height, there will be an overflow situation. If overflow is set to hidden then any overflow will not be\n",
        "    visible.</div>\n",
        "\n",
        "<p>This content is outside of the box.</p>"
      ],
      "execution_count": 17,
      "outputs": [
        {
          "output_type": "display_data",
          "data": {
            "text/html": [
              "<style>\n",
              "    .box {\n",
              "        border: 1px solid #333333;\n",
              "        width: 200px;\n",
              "        height: 100px;\n",
              "    }\n",
              "</style>\n",
              "<div class=\"box\">This box has a height and a width. This means that if there is too much content to be displayed within\n",
              "    the assigned height, there will be an overflow situation. If overflow is set to hidden then any overflow will not be\n",
              "    visible.</div>\n",
              "\n",
              "<p>This content is outside of the box.</p>"
            ],
            "text/plain": [
              "<IPython.core.display.HTML object>"
            ]
          },
          "metadata": {
            "tags": []
          }
        }
      ]
    },
    {
      "cell_type": "code",
      "metadata": {
        "colab": {
          "base_uri": "https://localhost:8080/",
          "height": 148
        },
        "id": "Y9GPr7uRBaCy",
        "outputId": "1b7efce5-4bed-438e-f2aa-f50423072f62"
      },
      "source": [
        "# overflow hidden\n",
        "%%html\n",
        "<style>\n",
        "    .box {\n",
        "        border: 1px solid #333333;\n",
        "        width: 200px;\n",
        "        height: 100px;\n",
        "        overflow: hidden;\n",
        "    }\n",
        "</style>\n",
        "<div class=\"box\">This box has a height and a width. This means that if there is too much content to be displayed within\n",
        "    the assigned height, there will be an overflow situation. If overflow is set to hidden then any overflow will not be\n",
        "    visible.</div>\n",
        "\n",
        "<p>This content is outside of the box.</p>"
      ],
      "execution_count": 1,
      "outputs": [
        {
          "output_type": "display_data",
          "data": {
            "text/html": [
              "<style>\n",
              "    .box {\n",
              "        border: 1px solid #333333;\n",
              "        width: 200px;\n",
              "        height: 100px;\n",
              "        overflow: hidden;\n",
              "    }\n",
              "</style>\n",
              "<div class=\"box\">This box has a height and a width. This means that if there is too much content to be displayed within\n",
              "    the assigned height, there will be an overflow situation. If overflow is set to hidden then any overflow will not be\n",
              "    visible.</div>\n",
              "\n",
              "<p>This content is outside of the box.</p>"
            ],
            "text/plain": [
              "<IPython.core.display.HTML object>"
            ]
          },
          "metadata": {
            "tags": []
          }
        }
      ]
    },
    {
      "cell_type": "code",
      "metadata": {
        "colab": {
          "base_uri": "https://localhost:8080/",
          "height": 148
        },
        "id": "QWpnynvtBkcC",
        "outputId": "e0c60996-099e-4a27-9530-60cb85cbec12"
      },
      "source": [
        "# overflow scroll\n",
        "%%html\n",
        "<style>\n",
        "    .box {\n",
        "        border: 1px solid #333333;\n",
        "        width: 200px;\n",
        "        height: 100px;\n",
        "        overflow: scroll;\n",
        "    }\n",
        "</style>\n",
        "<div class=\"box\">This box has a height and a width. This means that if there is too much content to be displayed within\n",
        "    the assigned height, there will be an overflow situation. If overflow is set to hidden then any overflow will not be\n",
        "    visible.</div>\n",
        "\n",
        "<p>This content is outside of the box.</p>"
      ],
      "execution_count": 2,
      "outputs": [
        {
          "output_type": "display_data",
          "data": {
            "text/html": [
              "<style>\n",
              "    .box {\n",
              "        border: 1px solid #333333;\n",
              "        width: 200px;\n",
              "        height: 100px;\n",
              "        overflow: scroll;\n",
              "    }\n",
              "</style>\n",
              "<div class=\"box\">This box has a height and a width. This means that if there is too much content to be displayed within\n",
              "    the assigned height, there will be an overflow situation. If overflow is set to hidden then any overflow will not be\n",
              "    visible.</div>\n",
              "\n",
              "<p>This content is outside of the box.</p>"
            ],
            "text/plain": [
              "<IPython.core.display.HTML object>"
            ]
          },
          "metadata": {
            "tags": []
          }
        }
      ]
    },
    {
      "cell_type": "code",
      "metadata": {
        "colab": {
          "base_uri": "https://localhost:8080/",
          "height": 148
        },
        "id": "OQuf_O2-B7Dd",
        "outputId": "d3cf0ee3-96f9-4e4b-df62-d33c4ab00f40"
      },
      "source": [
        "# overflow-y scroll\n",
        "%%html\n",
        "<style>\n",
        "    .box {\n",
        "        border: 1px solid #333333;\n",
        "        width: 200px;\n",
        "        height: 100px;\n",
        "        overflow-y: scroll;\n",
        "    }\n",
        "</style>\n",
        "<div class=\"box\">This box has a height and a width. This means that if there is too much content to be displayed within\n",
        "    the assigned height, there will be an overflow situation. If overflow is set to hidden then any overflow will not be\n",
        "    visible.</div>\n",
        "\n",
        "<p>This content is outside of the box.</p>"
      ],
      "execution_count": 3,
      "outputs": [
        {
          "output_type": "display_data",
          "data": {
            "text/html": [
              "<style>\n",
              "    .box {\n",
              "        border: 1px solid #333333;\n",
              "        width: 200px;\n",
              "        height: 100px;\n",
              "        overflow-y: scroll;\n",
              "    }\n",
              "</style>\n",
              "<div class=\"box\">This box has a height and a width. This means that if there is too much content to be displayed within\n",
              "    the assigned height, there will be an overflow situation. If overflow is set to hidden then any overflow will not be\n",
              "    visible.</div>\n",
              "\n",
              "<p>This content is outside of the box.</p>"
            ],
            "text/plain": [
              "<IPython.core.display.HTML object>"
            ]
          },
          "metadata": {
            "tags": []
          }
        }
      ]
    },
    {
      "cell_type": "code",
      "metadata": {
        "colab": {
          "base_uri": "https://localhost:8080/",
          "height": 84
        },
        "id": "63ZP0g45CA_V",
        "outputId": "3b62b96d-37f2-4cda-98a3-4be18d801a12"
      },
      "source": [
        "# word\n",
        "%%html\n",
        "<style>\n",
        "    .word {\n",
        "        border: 5px solid #333333;\n",
        "        width: 100px;\n",
        "        font-size: 250%;\n",
        "        overflow-x: scroll;\n",
        "    }\n",
        "</style>\n",
        "<div class=\"word\">Overflow</div>"
      ],
      "execution_count": 5,
      "outputs": [
        {
          "output_type": "display_data",
          "data": {
            "text/html": [
              "<style>\n",
              "    .word {\n",
              "        border: 5px solid #333333;\n",
              "        width: 100px;\n",
              "        font-size: 250%;\n",
              "        overflow-x: scroll;\n",
              "    }\n",
              "</style>\n",
              "<div class=\"word\">Overflow</div>"
            ],
            "text/plain": [
              "<IPython.core.display.HTML object>"
            ]
          },
          "metadata": {
            "tags": []
          }
        }
      ]
    },
    {
      "cell_type": "code",
      "metadata": {
        "colab": {
          "base_uri": "https://localhost:8080/",
          "height": 156
        },
        "id": "uFjdkY2QDHFb",
        "outputId": "941a1536-b346-4ebc-c99d-7ce8558eaecd"
      },
      "source": [
        "# auto\n",
        "%%html\n",
        "<style>\n",
        "    .box {\n",
        "        border: 5px solid #333333;\n",
        "        width: 200px;\n",
        "        height: 100px;\n",
        "        overflow: auto;\n",
        "    }\n",
        "</style>\n",
        "<div class=\"box\">This box has a height and a width. This means that if there is too much content to be displayed within\n",
        "    the assigned height, there will be an overflow situation. If overflow is set to hidden then any overflow will not be\n",
        "    visible.</div>\n",
        "\n",
        "<p>This content is outside of the box.</p>"
      ],
      "execution_count": 6,
      "outputs": [
        {
          "output_type": "display_data",
          "data": {
            "text/html": [
              "<style>\n",
              "    .box {\n",
              "        border: 5px solid #333333;\n",
              "        width: 200px;\n",
              "        height: 100px;\n",
              "        overflow: auto;\n",
              "    }\n",
              "</style>\n",
              "<div class=\"box\">This box has a height and a width. This means that if there is too much content to be displayed within\n",
              "    the assigned height, there will be an overflow situation. If overflow is set to hidden then any overflow will not be\n",
              "    visible.</div>\n",
              "\n",
              "<p>This content is outside of the box.</p>"
            ],
            "text/plain": [
              "<IPython.core.display.HTML object>"
            ]
          },
          "metadata": {
            "tags": []
          }
        }
      ]
    },
    {
      "cell_type": "markdown",
      "metadata": {
        "id": "C25-kvtPDp-O"
      },
      "source": [
        "# CSS の値と単位 value and units\n"
      ]
    },
    {
      "cell_type": "code",
      "metadata": {
        "colab": {
          "base_uri": "https://localhost:8080/",
          "height": 75
        },
        "id": "akBReUmgD0jH",
        "outputId": "bd7d35f3-13c3-47ca-9d56-159189c2b746"
      },
      "source": [
        "%%html\n",
        "<style>\n",
        "    h1 {\n",
        "        color: black;\n",
        "        background-color: rgb(197, 93, 161);\n",
        "    }\n",
        "\n",
        "    .next {\n",
        "        background-color: mediumorchid;\n",
        "    }\n",
        "</style>\n",
        "<h1>\n",
        "    هذا كتاب<span class=\"next\"> هذا كتاب </span> هذا كتاب\n",
        "</h1>\n"
      ],
      "execution_count": 11,
      "outputs": [
        {
          "output_type": "display_data",
          "data": {
            "text/html": [
              "<style>\n",
              "h1 {\n",
              "  color: black;\n",
              "  background-color: rgb(197,93,161);\n",
              "} \n",
              ".next {\n",
              "    background-color: mediumorchid;\n",
              "}\n",
              "</style>\n",
              "<h1>\n",
              "    هذا كتاب<span class=\"next\"> هذا كتاب </span> هذا كتاب\n",
              "</h1>"
            ],
            "text/plain": [
              "<IPython.core.display.HTML object>"
            ]
          },
          "metadata": {
            "tags": []
          }
        }
      ]
    },
    {
      "cell_type": "code",
      "metadata": {
        "id": "XrcT_a2xO6gE",
        "outputId": "28766d91-e29f-4bd4-a233-e76b9493c05c",
        "colab": {
          "base_uri": "https://localhost:8080/",
          "height": 463
        }
      },
      "source": [
        "# 実験\n",
        "%%html\n",
        "<style>\n",
        "    h1 {\n",
        "        padding: 5px;\n",
        "        margin: 0px;\n",
        "    }\n",
        "</style>\n",
        "<h1 style=\"background-color: rgb(0,0,0); color: white;\">rgb(0,0,0)</h1>\n",
        "<h1 style=\"background-color: rgb(255,255,255); color: black;\">rgb(255,255,255)</h1>\n",
        "<h1 style=\"background-color: rgb(255,0,0); color: black;\">rgb(255,0,0)</h1>\n",
        "<h1 style=\"background-color: rgb(0,255,0); color: black;\">rgb(0,255,0)</h1>\n",
        "<h1 style=\"background-color: rgb(0,0,255); color: black;\">rgb(0,0,255)</h1>\n",
        "<h1 style=\"background-color: cornflowerblue; color: black;\">cornflowerblue</h1>\n",
        "<h1 style=\"background-color: royalblue; color: black;\">royalblue</h1>\n",
        "<h1 style=\"background-color: mediumslateblue; color: black;\">mediumslateblue</h1>\n",
        "<h1 style=\"background-color: slateblue; color: black;\">slateblue</h1>\n",
        "<h1 style=\"background-color: mediumorchid; color: black;\">mediumorchid</h1>"
      ],
      "execution_count": 29,
      "outputs": [
        {
          "output_type": "display_data",
          "data": {
            "text/html": [
              "<style>\n",
              "    h1 {\n",
              "        padding: 5px;\n",
              "        margin: 0px;\n",
              "    }\n",
              "</style>\n",
              "<h1 style=\"background-color: rgb(0,0,0); color: white;\">rgb(0,0,0)</h1>\n",
              "<h1 style=\"background-color: rgb(255,255,255); color: black;\">rgb(255,255,255)</h1>\n",
              "<h1 style=\"background-color: rgb(255,0,0); color: black;\">rgb(255,0,0)</h1>\n",
              "<h1 style=\"background-color: rgb(0,255,0); color: black;\">rgb(0,255,0)</h1>\n",
              "<h1 style=\"background-color: rgb(0,0,255); color: black;\">rgb(0,0,255)</h1>\n",
              "<h1 style=\"background-color: cornflowerblue; color: black;\">cornflowerblue</h1>\n",
              "<h1 style=\"background-color: royalblue; color: black;\">royalblue</h1>\n",
              "<h1 style=\"background-color: mediumslateblue; color: black;\">mediumslateblue</h1>\n",
              "<h1 style=\"background-color: slateblue; color: black;\">slateblue</h1>\n",
              "<h1 style=\"background-color: mediumorchid; color: black;\">mediumorchid</h1>"
            ],
            "text/plain": [
              "<IPython.core.display.HTML object>"
            ]
          },
          "metadata": {
            "tags": []
          }
        }
      ]
    },
    {
      "cell_type": "markdown",
      "metadata": {
        "id": "2nhWa1BHS4qb"
      },
      "source": [
        "# いまここ\n",
        "https://developer.mozilla.org/ja/docs/Learn/CSS/Building_blocks/Values_and_units"
      ]
    }
  ]
}