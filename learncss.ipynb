{
  "nbformat": 4,
  "nbformat_minor": 0,
  "metadata": {
    "colab": {
      "name": "learncss.ipynb",
      "provenance": [],
      "toc_visible": true,
      "authorship_tag": "ABX9TyNbGPiEtSHbv8qyJxCEfcJ3",
      "include_colab_link": true
    },
    "kernelspec": {
      "name": "python3",
      "display_name": "Python 3"
    }
  },
  "cells": [
    {
      "cell_type": "markdown",
      "metadata": {
        "id": "view-in-github",
        "colab_type": "text"
      },
      "source": [
        "<a href=\"https://colab.research.google.com/github/kalz2q/mycolabnotebooks/blob/master/learncss.ipynb\" target=\"_parent\"><img src=\"https://colab.research.google.com/assets/colab-badge.svg\" alt=\"Open In Colab\"/></a>"
      ]
    },
    {
      "cell_type": "markdown",
      "metadata": {
        "id": "hGm2x-JRqV46"
      },
      "source": [
        "# メモ\n",
        "1. Colab で CSS を勉強する。%%html を使う。\n",
        "1. コマンドセルの中では ```<link rel=\"stylesheet\" href=\"styles.css\">``` でスタイルシートを読み込めないみたいなので、セルの中に記述することになる。つまり `<style></style>` で書く。\n",
        "1. 参考サイト  \n",
        "https://developer.mozilla.org/ja/docs/Learn/CSS/First_steps/Getting_started\n",
        "  \n",
        "  https://www.w3schools.com/css/"
      ]
    },
    {
      "cell_type": "markdown",
      "metadata": {
        "id": "-4ZXCrA0sl76"
      },
      "source": [
        "# はじめに少し実験"
      ]
    },
    {
      "cell_type": "code",
      "metadata": {
        "id": "TKWgq8sXq7tD",
        "colab": {
          "base_uri": "https://localhost:8080/",
          "height": 100
        },
        "outputId": "3e50b604-4678-479b-9c98-3d7164df1ae4"
      },
      "source": [
        "# こんな感じになる style と本体だけ\n",
        "%%html\n",
        "<style>\n",
        "h1 {\n",
        "  color: blue; \n",
        "  color: rgb(0, 255, 0);\n",
        "  color: #00ff00;\n",
        "  color: #0f0;\n",
        "}\n",
        "body {\n",
        "  color: #377;\n",
        "  font-family: Verdana, sams-serif;\n",
        "}\n",
        "</style>\n",
        "\n",
        "<h1>大見出し</h1>\n",
        "<p>中身の文章つらつら</p>\n"
      ],
      "execution_count": null,
      "outputs": [
        {
          "output_type": "display_data",
          "data": {
            "text/html": [
              "<style>\n",
              "h1 {\n",
              "  color: blue; \n",
              "  color: rgb(0, 255, 0);\n",
              "  color: #00ff00;\n",
              "  color: #0f0;\n",
              "}\n",
              "body {\n",
              "  color: #377;\n",
              "  font-family: Verdana, sams-serif;\n",
              "}\n",
              "</style>\n",
              "\n",
              "<h1>大見出し</h1>\n",
              "<p>中身の文章つらつら</p>"
            ],
            "text/plain": [
              "<IPython.core.display.HTML object>"
            ]
          },
          "metadata": {
            "tags": []
          }
        }
      ]
    },
    {
      "cell_type": "code",
      "metadata": {
        "id": "p-7gvKWturur",
        "colab": {
          "base_uri": "https://localhost:8080/",
          "height": 178
        },
        "outputId": "5c85c94a-3554-4b2b-85ed-d7aefb92da15"
      },
      "source": [
        "%%html\n",
        "<style>\n",
        "    body {\n",
        "        color: blue;\n",
        "    }\n",
        "    h1 {\n",
        "  color: red;\n",
        "}\n",
        "</style>\n",
        "</style>\n",
        "<h1>見出し１です</h1>\n",
        "\n",
        "<p>これは第一段落の文です。この文には <span>span 要素</span>\n",
        "    と<a href=\"http://example.com\">リンク</a>が含まれます。</p>\n",
        "\n",
        "<p>これは第二段落の文です。この文には <em>em 要素</em>が含まれます。</p>\n",
        "\n",
        "<ul>\n",
        "    <li>一つ目の項目</li>\n",
        "    <li>二つ目の項目</li>\n",
        "    <li><strong>三つ目</strong>の項目</li>\n",
        "</ul>"
      ],
      "execution_count": null,
      "outputs": [
        {
          "output_type": "display_data",
          "data": {
            "text/html": [
              "<style>\n",
              "    body {\n",
              "        color: blue;\n",
              "    }\n",
              "    h1 {\n",
              "  color: red;\n",
              "}\n",
              "</style>\n",
              "</style>\n",
              "<h1>見出し１です</h1>\n",
              "\n",
              "<p>これは第一段落の文です。この文には <span>span 要素</span>\n",
              "    と<a href=\"http://example.com\">リンク</a>が含まれます。</p>\n",
              "\n",
              "<p>これは第二段落の文です。この文には <em>em 要素</em>が含まれます。</p>\n",
              "\n",
              "<ul>\n",
              "    <li>一つ目の項目</li>\n",
              "    <li>二つ目の項目</li>\n",
              "    <li><strong>三つ目</strong>の項目</li>\n",
              "</ul>"
            ],
            "text/plain": [
              "<IPython.core.display.HTML object>"
            ]
          },
          "metadata": {
            "tags": []
          }
        }
      ]
    },
    {
      "cell_type": "code",
      "metadata": {
        "id": "9kzKWxAlTmrR",
        "colab": {
          "base_uri": "https://localhost:8080/",
          "height": 181
        },
        "outputId": "e1c1296f-8244-4dfa-bbbf-e3712a13609d"
      },
      "source": [
        "%%html\n",
        "<style> /* コメントも書けるがこの場所だと行コメント // が使えない */\n",
        "p, li {\n",
        "  color: green;\n",
        "} </style>\n",
        "<h1>I am a level one heading</h1>\n",
        "\n",
        "<p>This is a paragraph of text. In the text is a <span>span element</span>\n",
        "    and also a <a href=\"http://example.com\">link</a>.</p>\n",
        "\n",
        "<p>This is the second paragraph. It contains an <em>emphasized</em> element.</p>\n",
        "\n",
        "<ul>\n",
        "    <li>Item one</li>\n",
        "    <li>Item two</li>\n",
        "    <li>Item <em>three</em></li>\n",
        "</ul>"
      ],
      "execution_count": 12,
      "outputs": [
        {
          "output_type": "display_data",
          "data": {
            "text/html": [
              "<style> /* コメントも書けるがこの場所だと行コメント // が使えない */\n",
              "p, li {\n",
              "  color: green;\n",
              "} </style>\n",
              "<h1>I am a level one heading</h1>\n",
              "\n",
              "<p>This is a paragraph of text. In the text is a <span>span element</span>\n",
              "    and also a <a href=\"http://example.com\">link</a>.</p>\n",
              "\n",
              "<p>This is the second paragraph. It contains an <em>emphasized</em> element.</p>\n",
              "\n",
              "<ul>\n",
              "    <li>Item one</li>\n",
              "    <li>Item two</li>\n",
              "    <li>Item <em>three</em></li>\n",
              "</ul>"
            ],
            "text/plain": [
              "<IPython.core.display.HTML object>"
            ]
          },
          "metadata": {
            "tags": []
          }
        }
      ]
    },
    {
      "cell_type": "markdown",
      "metadata": {
        "id": "Kw_aD_VXURgj"
      },
      "source": [
        "# リストの点を取る"
      ]
    },
    {
      "cell_type": "code",
      "metadata": {
        "id": "-hWaQCTpUJpH",
        "colab": {
          "base_uri": "https://localhost:8080/",
          "height": 178
        },
        "outputId": "7d747fc1-764f-491b-8651-5c6acba2e08b"
      },
      "source": [
        "%%html\n",
        "<style>\n",
        "p, li {\n",
        "  color: green;\n",
        "} \n",
        "li {\n",
        "  list-style-type: none;\n",
        "}\n",
        "</style>\n",
        "\n",
        "<h1>I am a level one heading</h1>\n",
        "\n",
        "<p>This is a paragraph of text. In the text is a <span>span element</span>\n",
        "    and also a <a href=\"http://example.com\">link</a>.</p>\n",
        "\n",
        "<p>This is the second paragraph. It contains an <em>emphasized</em> element.</p>\n",
        "\n",
        "<ul>\n",
        "    <li>Item one</li>\n",
        "    <li>Item two</li>\n",
        "    <li>Item <em>three</em></li>\n",
        "</ul>"
      ],
      "execution_count": null,
      "outputs": [
        {
          "output_type": "display_data",
          "data": {
            "text/html": [
              "<style>\n",
              "p, li {\n",
              "  color: green;\n",
              "} \n",
              "li {\n",
              "  list-style-type: none;\n",
              "}\n",
              "</style>\n",
              "\n",
              "<h1>I am a level one heading</h1>\n",
              "\n",
              "<p>This is a paragraph of text. In the text is a <span>span element</span>\n",
              "    and also a <a href=\"http://example.com\">link</a>.</p>\n",
              "\n",
              "<p>This is the second paragraph. It contains an <em>emphasized</em> element.</p>\n",
              "\n",
              "<ul>\n",
              "    <li>Item one</li>\n",
              "    <li>Item two</li>\n",
              "    <li>Item <em>three</em></li>\n",
              "</ul>"
            ],
            "text/plain": [
              "<IPython.core.display.HTML object>"
            ]
          },
          "metadata": {
            "tags": []
          }
        }
      ]
    },
    {
      "cell_type": "code",
      "metadata": {
        "id": "ZxdHPQIxwDRk",
        "colab": {
          "base_uri": "https://localhost:8080/",
          "height": 102
        },
        "outputId": "92133cd0-cd38-4a29-ed7f-ed098408336a"
      },
      "source": [
        "# クラスを加える\n",
        "%%html\n",
        "<style>\n",
        "    li.special {\n",
        "        color: orange;\n",
        "        font-weight: bold;\n",
        "    }\n",
        "    li em {\n",
        "        color: purple;\n",
        "    }\n",
        "    body {\n",
        "        background-color: lightgrey;\n",
        "    }\n",
        "</style>\n",
        "<p><span class=\"special\">ここは段落内のspanでclassがspecial</span></p>\n",
        "<ul>\n",
        "    <li>Item one</li>\n",
        "    <li class=\"special\">二つ目の項目</li>\n",
        "    <li><em>三つ目</em>の項目</li>\n",
        "</ul>"
      ],
      "execution_count": null,
      "outputs": [
        {
          "output_type": "display_data",
          "data": {
            "text/html": [
              "<style>\n",
              "    li.special {\n",
              "        color: orange;\n",
              "        font-weight: bold;\n",
              "    }\n",
              "    li em {\n",
              "        color: purple;\n",
              "    }\n",
              "    body {\n",
              "        background-color: lightgrey;\n",
              "    }\n",
              "</style>\n",
              "<p><span class=\"special\">ここは段落内のspanでclassがspecial</span></p>\n",
              "<ul>\n",
              "    <li>Item one</li>\n",
              "    <li class=\"special\">二つ目の項目</li>\n",
              "    <li><em>三つ目</em>の項目</li>\n",
              "</ul>"
            ],
            "text/plain": [
              "<IPython.core.display.HTML object>"
            ]
          },
          "metadata": {
            "tags": []
          }
        }
      ]
    },
    {
      "cell_type": "code",
      "metadata": {
        "id": "RIMXkq7wMMEy",
        "colab": {
          "base_uri": "https://localhost:8080/",
          "height": 140
        },
        "outputId": "3f2a995a-36c7-4594-b183-5a44006ceba9"
      },
      "source": [
        "# adjacent sibling combinator \"+\"\n",
        "%%html\n",
        "<style>\n",
        "    em {\n",
        "        color: rebeccapurple;\n",
        "    }\n",
        "\n",
        "    h1+p {\n",
        "        font-size: 200%;\n",
        "        background-color: rebeccapurple;\n",
        "        color: white;\n",
        "    }\n",
        "\n",
        "    a:link {\n",
        "        color: pink;\n",
        "    }\n",
        "\n",
        "    a:visited {\n",
        "        color: green;\n",
        "    }\n",
        "\n",
        "    a:hover {\n",
        "        text-decoration: none;\n",
        "    }    \n",
        "</style>\n",
        "<h1>I am a level one heading</h1>\n",
        "\n",
        "<p>This is a paragraph of text. In the text is a <span>span element</span>\n",
        "    and also a <a href=\"http://example.com\">link</a>.</p>\n",
        "\n",
        "<p>This is the second paragraph. It contains an <em>emphasized</em> element.</p>"
      ],
      "execution_count": null,
      "outputs": [
        {
          "output_type": "display_data",
          "data": {
            "text/html": [
              "<style>\n",
              "    em {\n",
              "        color: rebeccapurple;\n",
              "    }\n",
              "\n",
              "    h1+p {\n",
              "        font-size: 200%;\n",
              "        background-color: rebeccapurple;\n",
              "        color: white;\n",
              "    }\n",
              "\n",
              "    a:link {\n",
              "        color: pink;\n",
              "    }\n",
              "\n",
              "    a:visited {\n",
              "        color: green;\n",
              "    }\n",
              "\n",
              "    a:hover {\n",
              "        text-decoration: none;\n",
              "    }    \n",
              "</style>\n",
              "<h1>I am a level one heading</h1>\n",
              "\n",
              "<p>This is a paragraph of text. In the text is a <span>span element</span>\n",
              "    and also a <a href=\"http://example.com\">link</a>.</p>\n",
              "\n",
              "<p>This is the second paragraph. It contains an <em>emphasized</em> element.</p>"
            ],
            "text/plain": [
              "<IPython.core.display.HTML object>"
            ]
          },
          "metadata": {
            "tags": []
          }
        }
      ]
    },
    {
      "cell_type": "code",
      "metadata": {
        "id": "EtgAgcqrPECF",
        "colab": {
          "base_uri": "https://localhost:8080/",
          "height": 100
        },
        "outputId": "e5464875-916b-44fa-c308-30f2e2ce726c"
      },
      "source": [
        "# combinator\n",
        "%%html\n",
        "<!-- body の中の h1 の次にくる p の中の class が special -->\n",
        "<style> \n",
        "    body h1 + p .special {\n",
        "        color: yellow;\n",
        "        background-color: black;\n",
        "        padding: 5px;\n",
        "    }\n",
        "</style>\n",
        "<h1>I am a level one heading</h1>\n",
        "\n",
        "<p>This is <span class=\"special\">the first paragraph.</span> It contains an <em>emphasized</em> element.</p>"
      ],
      "execution_count": null,
      "outputs": [
        {
          "output_type": "display_data",
          "data": {
            "text/html": [
              "<!-- body の中の h1 の次にくる p の中の class が special -->\n",
              "<style> \n",
              "    body h1 + p .special {\n",
              "        color: yellow;\n",
              "        background-color: black;\n",
              "        padding: 5px;\n",
              "    }\n",
              "</style>\n",
              "<h1>I am a level one heading</h1>\n",
              "\n",
              "<p>This is <span class=\"special\">the first paragraph.</span> It contains an <em>emphasized</em> element.</p>"
            ],
            "text/plain": [
              "<IPython.core.display.HTML object>"
            ]
          },
          "metadata": {
            "tags": []
          }
        }
      ]
    },
    {
      "cell_type": "code",
      "metadata": {
        "id": "HXBZ2ZFlcnzc",
        "colab": {
          "base_uri": "https://localhost:8080/",
          "height": 102
        },
        "outputId": "dd890bcf-31ba-4cf2-da4f-5bcbbe1d53aa"
      },
      "source": [
        "%%html\n",
        "<style>\n",
        "    h1 {\n",
        "        color: blue;\n",
        "        background-color: yellow;\n",
        "        border: 1px solid black;\n",
        "    }\n",
        "\n",
        "    p {\n",
        "        color: red;\n",
        "    }\n",
        "</style>\n",
        "<h1>Hello World!</h1>\n",
        "<p>This is my first CSS example</p>"
      ],
      "execution_count": null,
      "outputs": [
        {
          "output_type": "display_data",
          "data": {
            "text/html": [
              "<style>\n",
              "    h1 {\n",
              "        color: blue;\n",
              "        background-color: yellow;\n",
              "        border: 1px solid black;\n",
              "    }\n",
              "\n",
              "    p {\n",
              "        color: red;\n",
              "    }\n",
              "</style>\n",
              "<h1>Hello World!</h1>\n",
              "<p>This is my first CSS example</p>"
            ],
            "text/plain": [
              "<IPython.core.display.HTML object>"
            ]
          },
          "metadata": {
            "tags": []
          }
        }
      ]
    },
    {
      "cell_type": "code",
      "metadata": {
        "id": "aQrFejdNdCPP",
        "colab": {
          "base_uri": "https://localhost:8080/",
          "height": 102
        },
        "outputId": "7400c3a9-4990-444d-e093-6bb3542911e3"
      },
      "source": [
        "# インラインスタイルは可能な限り避ける\n",
        "%%html\n",
        "<h1 style=\"color: blue;background-color: yellow;border: 1px solid black;\">Hello World!</h1>\n",
        "<p style=\"color:red;\">This is my first CSS example</p>"
      ],
      "execution_count": null,
      "outputs": [
        {
          "output_type": "display_data",
          "data": {
            "text/html": [
              "<h1 style=\"color: blue;background-color: yellow;border: 1px solid black;\">Hello World!</h1>\n",
              "<p style=\"color:red;\">This is my first CSS example</p>"
            ],
            "text/plain": [
              "<IPython.core.display.HTML object>"
            ]
          },
          "metadata": {
            "tags": []
          }
        }
      ]
    },
    {
      "cell_type": "code",
      "metadata": {
        "id": "WgF-gsq0dxCC"
      },
      "source": [
        "# セレクター\n",
        "%%script false\n",
        "h1\n",
        "a:link\n",
        ".manythings\n",
        "#onething\n",
        "*\n",
        ".box p\n",
        ".box p:first-child\n",
        "h1, h2, .intro"
      ],
      "execution_count": null,
      "outputs": []
    },
    {
      "cell_type": "code",
      "metadata": {
        "id": "9THqhYweeh2n",
        "colab": {
          "base_uri": "https://localhost:8080/",
          "height": 46
        },
        "outputId": "b9653e71-93cf-4392-dfe6-055042cc47fb"
      },
      "source": [
        "# css style の優先度 specificity\n",
        "%%html\n",
        "<style>\n",
        "    .special {\n",
        "        color: red;\n",
        "    }\n",
        "\n",
        "    p {\n",
        "        color: blue;\n",
        "    }\n",
        "</style>\n",
        "<p class=\"special\">What color am I?</p>\n"
      ],
      "execution_count": null,
      "outputs": [
        {
          "output_type": "display_data",
          "data": {
            "text/html": [
              "<style>\n",
              "    .special {\n",
              "        color: red;\n",
              "    }\n",
              "\n",
              "    p {\n",
              "        color: blue;\n",
              "    }\n",
              "</style>\n",
              "<p class=\"special\">What color am I?</p>"
            ],
            "text/plain": [
              "<IPython.core.display.HTML object>"
            ]
          },
          "metadata": {
            "tags": []
          }
        }
      ]
    },
    {
      "cell_type": "code",
      "metadata": {
        "id": "kqh5iJCZfdD9",
        "colab": {
          "base_uri": "https://localhost:8080/",
          "height": 75
        },
        "outputId": "01cc0ee1-1f52-4cd6-8f67-c29b6bae100e"
      },
      "source": [
        "# 簡単な計算 calc\n",
        "%%html\n",
        "<style>\n",
        "    .outer {\n",
        "        border: 5px solid black;\n",
        "        background-color: red;\n",
        "    }\n",
        "\n",
        "    .box {\n",
        "        padding: 10px;\n",
        "        width: calc(90% - 30px);\n",
        "        background-color: rebeccapurple;\n",
        "        color: white;\n",
        "        border: 5px dotted pink;\n",
        "    }\n",
        "</style>\n",
        "<div class=\"outer\"><div class=\"box\">The inner box is 90% - 30px.</div></div>"
      ],
      "execution_count": null,
      "outputs": [
        {
          "output_type": "display_data",
          "data": {
            "text/html": [
              "<style>\n",
              "    .outer {\n",
              "        border: 5px solid black;\n",
              "        background-color: red;\n",
              "    }\n",
              "\n",
              "    .box {\n",
              "        padding: 10px;\n",
              "        width: calc(90% - 30px);\n",
              "        background-color: rebeccapurple;\n",
              "        color: white;\n",
              "        border: 5px dotted pink;\n",
              "    }\n",
              "</style>\n",
              "<div class=\"outer\"><div class=\"box\">The inner box is 90% - 30px.</div></div>"
            ],
            "text/plain": [
              "<IPython.core.display.HTML object>"
            ]
          },
          "metadata": {
            "tags": []
          }
        }
      ]
    },
    {
      "cell_type": "code",
      "metadata": {
        "id": "tXIGzaB8l7Ya",
        "colab": {
          "base_uri": "https://localhost:8080/",
          "height": 177
        },
        "outputId": "6a2c63e8-2676-438e-cec6-95b363aa01c2"
      },
      "source": [
        "# transform\n",
        "%%html\n",
        "<style>\n",
        "    .box {\n",
        "        margin: 30px;\n",
        "        width: 50px;\n",
        "        height: 100px;\n",
        "        background-color: sienna;\n",
        "        transform: rotate(0.8turn);\n",
        "    }\n",
        "</style>\n",
        "<div class=\"box\"></div>"
      ],
      "execution_count": 4,
      "outputs": [
        {
          "output_type": "display_data",
          "data": {
            "text/html": [
              "<style> /* コメント*/\n",
              "    .box {\n",
              "        margin: 30px;\n",
              "        width: 50px;\n",
              "        height: 100px;\n",
              "        background-color: sienna;\n",
              "        transform: rotate(0.8turn);\n",
              "    }\n",
              "</style>\n",
              "<div class=\"box\"></div>"
            ],
            "text/plain": [
              "<IPython.core.display.HTML object>"
            ]
          },
          "metadata": {
            "tags": []
          }
        }
      ]
    },
    {
      "cell_type": "code",
      "metadata": {
        "id": "sYzCcq5uoRWN",
        "colab": {
          "base_uri": "https://localhost:8080/",
          "height": 46
        },
        "outputId": "863c0a54-aaf9-475f-c2d4-f1e528a4fe1e"
      },
      "source": [
        "# アット規則\n",
        "%%html\n",
        "<style>\n",
        "body {\n",
        "  background-color: pink;\n",
        "}\n",
        "\n",
        "@media (min-width: 70em) {\n",
        "  body {\n",
        "    background-color: turquoise;\n",
        "  }\n",
        "}\n",
        "</style>\n",
        "<p>Hello @ media</p>"
      ],
      "execution_count": 3,
      "outputs": [
        {
          "output_type": "display_data",
          "data": {
            "text/html": [
              "<style>\n",
              "body {\n",
              "  background-color: pink;\n",
              "}\n",
              "\n",
              "@media (min-width: 70em) {\n",
              "  body {\n",
              "    background-color: turquoise;\n",
              "  }\n",
              "}\n",
              "</style>\n",
              "<p>Hello @ media</p>"
            ],
            "text/plain": [
              "<IPython.core.display.HTML object>"
            ]
          },
          "metadata": {
            "tags": []
          }
        }
      ]
    },
    {
      "cell_type": "code",
      "metadata": {
        "id": "tzKSWQDopDDY"
      },
      "source": [
        "%%script false\n",
        "/* 4 つの値による一括定義、例えば padding や margin\n",
        "   では、値が適用される順序は top, right, bottom, left の順 (top から時計回り) です。\n",
        "   他の種類の一括指定もあり、例えば 2 つの値による一括指定を padding/margin に設定すると、\n",
        "   top/bottom と left/right になります。*/\n",
        "padding: 10px 15px 15px 5px;\n",
        "\n",
        "これは\n",
        "\n",
        "padding-top: 10px;\n",
        "padding-right: 15px;\n",
        "padding-bottom: 15px;\n",
        "padding-left: 5px;\n",
        "\n",
        "と同じ。\n",
        "つぎの一行\n",
        "\n",
        "background: red url(bg-graphic.png) 10px 10px repeat-x fixed;\n",
        "\n",
        "は\n",
        "\n",
        "background-color: red;\n",
        "background-image: url(bg-graphic.png);\n",
        "background-position: 10px 10px;\n",
        "background-repeat: repeat-x;\n",
        "background-attachment: fixed;\n",
        "\n",
        "と同じ。"
      ],
      "execution_count": null,
      "outputs": []
    },
    {
      "cell_type": "markdown",
      "metadata": {
        "id": "YuwkFXokce4F"
      },
      "source": [
        "# css のコメントは /* */ であることに注意!!!!"
      ]
    },
    {
      "cell_type": "code",
      "metadata": {
        "id": "g8XgnIjndpO9",
        "outputId": "84e85005-cea6-48f4-8b76-ba4a9167e564",
        "colab": {
          "base_uri": "https://localhost:8080/",
          "height": 438
        }
      },
      "source": [
        "%%html\n",
        "<style>\n",
        "    /* 基本的な要素のスタイル付けを扱う */\n",
        "    /* -------------------------------------------------------------------------------------------- */\n",
        "    body {\n",
        "        font: 1em/150% Helvetica, Arial, sans-serif;\n",
        "        padding: 1em;\n",
        "        margin: 0 auto;\n",
        "        max-width: 33em;\n",
        "    }\n",
        "\n",
        "    @media (min-width: 70em) {\n",
        "\n",
        "        /* 大きな画面やウィンドウで読みやすいように、グローバルフォントの大きさを大きくする。 */\n",
        "        body {\n",
        "            font-size: 130%;\n",
        "        }\n",
        "    }\n",
        "\n",
        "    h1 {\n",
        "        font-size: 1.5em;\n",
        "    }\n",
        "\n",
        "    /* DOM で入れ子になっている特定の要素を処理する。 */\n",
        "    /* -------------------------------------------------------------------------------------------- */\n",
        "    div p,\n",
        "    #id:first-line {\n",
        "        background-color: red;\n",
        "        border-radius: 30px;\n",
        "    }\n",
        "\n",
        "    div p {\n",
        "        margin: 0;\n",
        "        padding: 1em;\n",
        "    }\n",
        "\n",
        "    div p+p {\n",
        "        padding-top: 0;\n",
        "        padding-bottom: 0;\n",
        "    }\n",
        "</style>\n",
        "<div>divによる一行目\n",
        "    <p>pによる一行目</p>\n",
        "    <p>二行目</p>\n",
        "    <p>三行目</p>\n",
        "</div>\n",
        "<p>divの外の一行目</p>\n",
        "<h1>あれ? どうしてこうなるのか</h1>\n",
        "<p>二行目</p>\n",
        "<p>三行目</p>\n"
      ],
      "execution_count": 25,
      "outputs": [
        {
          "output_type": "display_data",
          "data": {
            "text/html": [
              "<style>\n",
              "    /* 基本的な要素のスタイル付けを扱う */\n",
              "    /* -------------------------------------------------------------------------------------------- */\n",
              "    body {\n",
              "        font: 1em/150% Helvetica, Arial, sans-serif;\n",
              "        padding: 1em;\n",
              "        margin: 0 auto;\n",
              "        max-width: 33em;\n",
              "    }\n",
              "\n",
              "    @media (min-width: 70em) {\n",
              "\n",
              "        /* 大きな画面やウィンドウで読みやすいように、グローバルフォントの大きさを大きくする。 */\n",
              "        body {\n",
              "            font-size: 130%;\n",
              "        }\n",
              "    }\n",
              "\n",
              "    h1 {\n",
              "        font-size: 1.5em;\n",
              "    }\n",
              "\n",
              "    /* DOM で入れ子になっている特定の要素を処理する。 */\n",
              "    /* -------------------------------------------------------------------------------------------- */\n",
              "    div p,\n",
              "    #id:first-line {\n",
              "        background-color: red;\n",
              "        border-radius: 30px;\n",
              "    }\n",
              "\n",
              "    div p {\n",
              "        margin: 0;\n",
              "        padding: 1em;\n",
              "    }\n",
              "\n",
              "    div p+p {\n",
              "        padding-top: 0;\n",
              "        padding-bottom: 0;\n",
              "    }\n",
              "</style>\n",
              "<div>divによる一行目\n",
              "    <p>pによる一行目</p>\n",
              "    <p>二行目</p>\n",
              "    <p>三行目</p>\n",
              "</div>\n",
              "<p>divの外の一行目</p>\n",
              "<h1>あれ? どうしてこうなるのか</h1>\n",
              "<p>二行目</p>\n",
              "<p>三行目</p>"
            ],
            "text/plain": [
              "<IPython.core.display.HTML object>"
            ]
          },
          "metadata": {
            "tags": []
          }
        }
      ]
    },
    {
      "cell_type": "markdown",
      "metadata": {
        "id": "2nhWa1BHS4qb"
      },
      "source": [
        "# いまここ\n",
        "https://developer.mozilla.org/ja/docs/Learn/CSS/First_steps/How_CSS_is_structured#Applying_CSS_to_HTML\n"
      ]
    },
    {
      "cell_type": "markdown",
      "metadata": {
        "id": "LuVSyDnL7tFU"
      },
      "source": [
        "# ボックスモデル\n",
        "\n",
        "何を指してボックスモデルというのか。\n",
        "\n",
        "とりあえず、widthとheightがある。padding, border, margin, postion:absoluteとかもあるね。\n",
        "\n",
        "次の例では margin: 0px をいろんなところに入れてみたが、むずかしい。\n"
      ]
    },
    {
      "cell_type": "code",
      "metadata": {
        "id": "zCtJErLX8C9H",
        "colab": {
          "base_uri": "https://localhost:8080/",
          "height": 68
        },
        "outputId": "21a0f8b0-40c3-4ade-e627-8205139dec63"
      },
      "source": [
        "%%html\n",
        "<style>\n",
        "body {\n",
        "  color: #777;\n",
        "  font-family: Verdana, sams-serif;\n",
        "  margin: 0px;\n",
        "}\n",
        "h1 {\n",
        "  /* color: blue; */\n",
        "  color: rgb(0, 255, 0);\n",
        "  color: #00ff00;\n",
        "  color: #0f0;\n",
        "  background-color: yellow;\n",
        "  margin: 0px;\n",
        "}\n",
        "p { \n",
        "    background-color: pink;  \n",
        "    margin: 0px;\n",
        "}\n",
        "header {\n",
        "  background-color: #e1efff;\n",
        "}\n",
        "</style>\n",
        "\n",
        "<body>\n",
        "<header>\n",
        "<div id=\"container\">\n",
        "<h1>大見出し</h1>\n",
        "<p>中身の文章つらつら</p>\n",
        "</div>\n",
        "</header>\n",
        "</body>"
      ],
      "execution_count": null,
      "outputs": [
        {
          "output_type": "display_data",
          "data": {
            "text/html": [
              "<style>\n",
              "body {\n",
              "  color: #777;\n",
              "  font-family: Verdana, sams-serif;\n",
              "  margin: 0px;\n",
              "}\n",
              "h1 {\n",
              "  /* color: blue; */\n",
              "  color: rgb(0, 255, 0);\n",
              "  color: #00ff00;\n",
              "  color: #0f0;\n",
              "  background-color: yellow;\n",
              "  margin: 0px;\n",
              "}\n",
              "p { \n",
              "    background-color: pink;  \n",
              "    margin: 0px;\n",
              "}\n",
              "header {\n",
              "  background-color: #e1efff;\n",
              "}\n",
              "</style>\n",
              "\n",
              "<body>\n",
              "<header>\n",
              "<div id=\"container\">\n",
              "<h1>大見出し</h1>\n",
              "<p>中身の文章つらつら</p>\n",
              "</div>\n",
              "</header>\n",
              "</body>"
            ],
            "text/plain": [
              "<IPython.core.display.HTML object>"
            ]
          },
          "metadata": {
            "tags": []
          }
        }
      ]
    },
    {
      "cell_type": "markdown",
      "metadata": {
        "id": "YzswA_0bJPNg"
      },
      "source": [
        "# センタリング\n",
        "\n",
        "下の例では、div class=\"container\" でくくって、cssでwidthを400にして、左右のmargin を autoにするとセンタリングされている。\n",
        "\n",
        "まあ、きれいなのだが、どんなもんか。スマホには効かないのをどうやってきりわけるのか。"
      ]
    },
    {
      "cell_type": "code",
      "metadata": {
        "id": "0ogXEDofJMN7",
        "colab": {
          "base_uri": "https://localhost:8080/",
          "height": 99
        },
        "outputId": "a5528494-cf82-4122-e39e-61f858e7266f"
      },
      "source": [
        "%%html\n",
        "<style>\n",
        "body {\n",
        "  color: #333;\n",
        "  font-family: Verdana, sans-serif;\n",
        "  margin: 0;\n",
        "}\n",
        "\n",
        "header {\n",
        "  background-color: #efefef;\n",
        "}\n",
        "\n",
        ".container {\n",
        "  background-color: pink;\n",
        "  width: 400px;\n",
        "  margin-left: auto;\n",
        "  margin-right: auto;\n",
        "}\n",
        "</style>\n",
        "\n",
        "<body>\n",
        "<header>\n",
        "<div class=\"container\">\n",
        "<h1>大見出し</h1>\n",
        "<p>中身の文章つらつら</p>\n",
        "</div>\n",
        "</header>\n",
        "</body>"
      ],
      "execution_count": null,
      "outputs": [
        {
          "output_type": "display_data",
          "data": {
            "text/html": [
              "<style>\n",
              "body {\n",
              "  color: #333;\n",
              "  font-family: Verdana, sans-serif;\n",
              "  margin: 0;\n",
              "}\n",
              "\n",
              "header {\n",
              "  background-color: #efefef;\n",
              "}\n",
              "\n",
              ".container {\n",
              "  background-color: pink;\n",
              "  width: 400px;\n",
              "  margin-left: auto;\n",
              "  margin-right: auto;\n",
              "}\n",
              "</style>\n",
              "\n",
              "<body>\n",
              "<header>\n",
              "<div class=\"container\">\n",
              "<h1>大見出し</h1>\n",
              "<p>中身の文章つらつら</p>\n",
              "</div>\n",
              "</header>\n",
              "</body>"
            ],
            "text/plain": [
              "<IPython.core.display.HTML object>"
            ]
          },
          "metadata": {
            "tags": []
          }
        }
      ]
    },
    {
      "cell_type": "markdown",
      "metadata": {
        "id": "6ii7MmSAIyEy"
      },
      "source": [
        "# Flexbox\n",
        "\n",
        "要素を横並びにする道具だっけ?\n",
        "\n",
        "container に display: flex; とつけると、中身が横並びになるけど、上下の位置が変だ。"
      ]
    },
    {
      "cell_type": "code",
      "metadata": {
        "id": "ILQgBYdoJkkm",
        "colab": {
          "base_uri": "https://localhost:8080/",
          "height": 74
        },
        "outputId": "0efdad1a-81de-4597-fcb4-e74832578c0d"
      },
      "source": [
        "%%html\n",
        "<style>\n",
        "body {\n",
        "  color: #333;\n",
        "  font-family: Verdana, sans-serif;\n",
        "  margin: 0;\n",
        "}\n",
        "\n",
        "header {\n",
        "  background-color: #efefef;\n",
        "}\n",
        "\n",
        ".container {\n",
        "  background-color: pink;\n",
        "  width: 400px;\n",
        "  margin-left: auto;\n",
        "  margin-right: auto;\n",
        "  display: flex;\n",
        "}\n",
        "</style>\n",
        "\n",
        "<body>\n",
        "<header>\n",
        "<div class=\"container\">\n",
        "<h1>大見出し</h1>\n",
        "<p>中身の文章つらつら</p>\n",
        "</div>\n",
        "</header>\n",
        "</body>"
      ],
      "execution_count": null,
      "outputs": [
        {
          "output_type": "display_data",
          "data": {
            "text/html": [
              "<style>\n",
              "body {\n",
              "  color: #333;\n",
              "  font-family: Verdana, sans-serif;\n",
              "  margin: 0;\n",
              "}\n",
              "\n",
              "header {\n",
              "  background-color: #efefef;\n",
              "}\n",
              "\n",
              ".container {\n",
              "  background-color: pink;\n",
              "  width: 400px;\n",
              "  margin-left: auto;\n",
              "  margin-right: auto;\n",
              "  display: flex;\n",
              "}\n",
              "</style>\n",
              "\n",
              "<body>\n",
              "<header>\n",
              "<div class=\"container\">\n",
              "<h1>大見出し</h1>\n",
              "<p>中身の文章つらつら</p>\n",
              "</div>\n",
              "</header>\n",
              "</body>"
            ],
            "text/plain": [
              "<IPython.core.display.HTML object>"
            ]
          },
          "metadata": {
            "tags": []
          }
        }
      ]
    },
    {
      "cell_type": "markdown",
      "metadata": {
        "id": "29jx73DEbojp"
      },
      "source": [
        ""
      ]
    }
  ]
}