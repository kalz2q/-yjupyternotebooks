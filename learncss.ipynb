{
  "nbformat": 4,
  "nbformat_minor": 0,
  "metadata": {
    "colab": {
      "name": "learncss.ipynb",
      "provenance": [],
      "toc_visible": true,
      "authorship_tag": "ABX9TyNhAD7or5gioV/79nl6aErC",
      "include_colab_link": true
    },
    "kernelspec": {
      "name": "python3",
      "display_name": "Python 3"
    }
  },
  "cells": [
    {
      "cell_type": "markdown",
      "metadata": {
        "id": "view-in-github",
        "colab_type": "text"
      },
      "source": [
        "<a href=\"https://colab.research.google.com/github/kalz2q/mycolabnotebooks/blob/master/learncss.ipynb\" target=\"_parent\"><img src=\"https://colab.research.google.com/assets/colab-badge.svg\" alt=\"Open In Colab\"/></a>"
      ]
    },
    {
      "cell_type": "markdown",
      "metadata": {
        "id": "hGm2x-JRqV46",
        "colab_type": "text"
      },
      "source": [
        "# メモ\n",
        "\n",
        "Colab で CSS を勉強する。%%html を使う。\n",
        "\n",
        "コマンドセルの中では ```<link rel=\"stylesheet\" href=\"styles.css\">``` でスタイルシートを読み込めないみたいなので、セルの中に記述することになる。\n",
        "\n",
        "つまり `<style></style>` で書く。\n",
        "\n",
        "するとコードセルがムダに長くなるが、飛ばして読んでくれ。解説は別途加える。"
      ]
    },
    {
      "cell_type": "code",
      "metadata": {
        "id": "TKWgq8sXq7tD",
        "colab_type": "code",
        "colab": {
          "base_uri": "https://localhost:8080/",
          "height": 99
        },
        "outputId": "3a1aac66-dc23-4656-f8da-882374a4f23e"
      },
      "source": [
        "%%html\n",
        "<style>\n",
        "h1 {\n",
        "  /* color: blue; */\n",
        "  color: rgb(0, 255, 0);\n",
        "  color: #00ff00;\n",
        "  color: #0f0;\n",
        "}\n",
        "body {\n",
        "  color: #777;\n",
        "  font-family: Verdana, sams-serif;\n",
        "}\n",
        "</style>\n",
        "\n",
        "<body>\n",
        "<h1>大見出し</h1>\n",
        "<p>中身の文章つらつら</p>\n",
        "</body>"
      ],
      "execution_count": null,
      "outputs": [
        {
          "output_type": "display_data",
          "data": {
            "text/html": [
              "<style>\n",
              "h1 {\n",
              "  /* color: blue; */\n",
              "  color: rgb(0, 255, 0);\n",
              "  color: #00ff00;\n",
              "  color: #0f0;\n",
              "}\n",
              "body {\n",
              "  color: #777;\n",
              "  font-family: Verdana, sams-serif;\n",
              "}\n",
              "</style>\n",
              "\n",
              "<body>\n",
              "<h1>大見出し</h1>\n",
              "<p>中身の文章つらつら</p>\n",
              "</body>"
            ],
            "text/plain": [
              "<IPython.core.display.HTML object>"
            ]
          },
          "metadata": {
            "tags": []
          }
        }
      ]
    },
    {
      "cell_type": "markdown",
      "metadata": {
        "id": "LuVSyDnL7tFU",
        "colab_type": "text"
      },
      "source": [
        "# ボックスモデル\n",
        "\n",
        "何を指してボックスモデルというのか。\n",
        "\n",
        "とりあえず、widthとheightがある。padding, border, margin, postion:absoluteとかもあるね。\n",
        "\n",
        "次の例では margin: 0px をいろんなところに入れてみたが、むずかしい。\n"
      ]
    },
    {
      "cell_type": "code",
      "metadata": {
        "id": "zCtJErLX8C9H",
        "colab_type": "code",
        "colab": {
          "base_uri": "https://localhost:8080/",
          "height": 68
        },
        "outputId": "21a0f8b0-40c3-4ade-e627-8205139dec63"
      },
      "source": [
        "%%html\n",
        "<style>\n",
        "body {\n",
        "  color: #777;\n",
        "  font-family: Verdana, sams-serif;\n",
        "  margin: 0px;\n",
        "}\n",
        "h1 {\n",
        "  /* color: blue; */\n",
        "  color: rgb(0, 255, 0);\n",
        "  color: #00ff00;\n",
        "  color: #0f0;\n",
        "  background-color: yellow;\n",
        "  margin: 0px;\n",
        "}\n",
        "p { \n",
        "    background-color: pink;  \n",
        "    margin: 0px;\n",
        "}\n",
        "header {\n",
        "  background-color: #e1efff;\n",
        "}\n",
        "</style>\n",
        "\n",
        "<body>\n",
        "<header>\n",
        "<div id=\"container\">\n",
        "<h1>大見出し</h1>\n",
        "<p>中身の文章つらつら</p>\n",
        "</div>\n",
        "</header>\n",
        "</body>"
      ],
      "execution_count": 10,
      "outputs": [
        {
          "output_type": "display_data",
          "data": {
            "text/html": [
              "<style>\n",
              "body {\n",
              "  color: #777;\n",
              "  font-family: Verdana, sams-serif;\n",
              "  margin: 0px;\n",
              "}\n",
              "h1 {\n",
              "  /* color: blue; */\n",
              "  color: rgb(0, 255, 0);\n",
              "  color: #00ff00;\n",
              "  color: #0f0;\n",
              "  background-color: yellow;\n",
              "  margin: 0px;\n",
              "}\n",
              "p { \n",
              "    background-color: pink;  \n",
              "    margin: 0px;\n",
              "}\n",
              "header {\n",
              "  background-color: #e1efff;\n",
              "}\n",
              "</style>\n",
              "\n",
              "<body>\n",
              "<header>\n",
              "<div id=\"container\">\n",
              "<h1>大見出し</h1>\n",
              "<p>中身の文章つらつら</p>\n",
              "</div>\n",
              "</header>\n",
              "</body>"
            ],
            "text/plain": [
              "<IPython.core.display.HTML object>"
            ]
          },
          "metadata": {
            "tags": []
          }
        }
      ]
    },
    {
      "cell_type": "markdown",
      "metadata": {
        "id": "YzswA_0bJPNg",
        "colab_type": "text"
      },
      "source": [
        "# センタリング\n",
        "\n",
        "下の例では、div class=\"container\" でくくって、cssでwidthを400にして、左右のmargin を autoにするとセンタリングされている。\n",
        "\n",
        "まあ、きれいなのだが、どんなもんか。スマホには効かないのをどうやってきりわけるのか。"
      ]
    },
    {
      "cell_type": "code",
      "metadata": {
        "id": "0ogXEDofJMN7",
        "colab_type": "code",
        "colab": {
          "base_uri": "https://localhost:8080/",
          "height": 99
        },
        "outputId": "a5528494-cf82-4122-e39e-61f858e7266f"
      },
      "source": [
        "%%html\n",
        "<style>\n",
        "body {\n",
        "  color: #333;\n",
        "  font-family: Verdana, sans-serif;\n",
        "  margin: 0;\n",
        "}\n",
        "\n",
        "header {\n",
        "  background-color: #efefef;\n",
        "}\n",
        "\n",
        ".container {\n",
        "  background-color: pink;\n",
        "  width: 400px;\n",
        "  margin-left: auto;\n",
        "  margin-right: auto;\n",
        "}\n",
        "</style>\n",
        "\n",
        "<body>\n",
        "<header>\n",
        "<div class=\"container\">\n",
        "<h1>大見出し</h1>\n",
        "<p>中身の文章つらつら</p>\n",
        "</div>\n",
        "</header>\n",
        "</body>"
      ],
      "execution_count": 12,
      "outputs": [
        {
          "output_type": "display_data",
          "data": {
            "text/html": [
              "<style>\n",
              "body {\n",
              "  color: #333;\n",
              "  font-family: Verdana, sans-serif;\n",
              "  margin: 0;\n",
              "}\n",
              "\n",
              "header {\n",
              "  background-color: #efefef;\n",
              "}\n",
              "\n",
              ".container {\n",
              "  background-color: pink;\n",
              "  width: 400px;\n",
              "  margin-left: auto;\n",
              "  margin-right: auto;\n",
              "}\n",
              "</style>\n",
              "\n",
              "<body>\n",
              "<header>\n",
              "<div class=\"container\">\n",
              "<h1>大見出し</h1>\n",
              "<p>中身の文章つらつら</p>\n",
              "</div>\n",
              "</header>\n",
              "</body>"
            ],
            "text/plain": [
              "<IPython.core.display.HTML object>"
            ]
          },
          "metadata": {
            "tags": []
          }
        }
      ]
    },
    {
      "cell_type": "markdown",
      "metadata": {
        "id": "6ii7MmSAIyEy",
        "colab_type": "text"
      },
      "source": [
        "# Flexbox\n",
        "\n",
        "要素を横並びにする道具だっけ?\n",
        "\n",
        "container に display: flex; とつけると、中身が横並びになるけど、上下の位置が変だ。"
      ]
    },
    {
      "cell_type": "code",
      "metadata": {
        "id": "ILQgBYdoJkkm",
        "colab_type": "code",
        "colab": {
          "base_uri": "https://localhost:8080/",
          "height": 74
        },
        "outputId": "0efdad1a-81de-4597-fcb4-e74832578c0d"
      },
      "source": [
        "%%html\n",
        "<style>\n",
        "body {\n",
        "  color: #333;\n",
        "  font-family: Verdana, sans-serif;\n",
        "  margin: 0;\n",
        "}\n",
        "\n",
        "header {\n",
        "  background-color: #efefef;\n",
        "}\n",
        "\n",
        ".container {\n",
        "  background-color: pink;\n",
        "  width: 400px;\n",
        "  margin-left: auto;\n",
        "  margin-right: auto;\n",
        "  display: flex;\n",
        "}\n",
        "</style>\n",
        "\n",
        "<body>\n",
        "<header>\n",
        "<div class=\"container\">\n",
        "<h1>大見出し</h1>\n",
        "<p>中身の文章つらつら</p>\n",
        "</div>\n",
        "</header>\n",
        "</body>"
      ],
      "execution_count": 13,
      "outputs": [
        {
          "output_type": "display_data",
          "data": {
            "text/html": [
              "<style>\n",
              "body {\n",
              "  color: #333;\n",
              "  font-family: Verdana, sans-serif;\n",
              "  margin: 0;\n",
              "}\n",
              "\n",
              "header {\n",
              "  background-color: #efefef;\n",
              "}\n",
              "\n",
              ".container {\n",
              "  background-color: pink;\n",
              "  width: 400px;\n",
              "  margin-left: auto;\n",
              "  margin-right: auto;\n",
              "  display: flex;\n",
              "}\n",
              "</style>\n",
              "\n",
              "<body>\n",
              "<header>\n",
              "<div class=\"container\">\n",
              "<h1>大見出し</h1>\n",
              "<p>中身の文章つらつら</p>\n",
              "</div>\n",
              "</header>\n",
              "</body>"
            ],
            "text/plain": [
              "<IPython.core.display.HTML object>"
            ]
          },
          "metadata": {
            "tags": []
          }
        }
      ]
    },
    {
      "cell_type": "markdown",
      "metadata": {
        "id": "_3FfqBZ1LHjX",
        "colab_type": "text"
      },
      "source": [
        "# 画像の角を丸くする\n",
        "\n",
        "ドットインストールのデモでは、画像の角を丸くするのを css で ```\n",
        "border-radius: 50%; ```\n",
        "というので実現しているが、これを svg でもできるか。そもそも svg の画像を用意しよう。"
      ]
    },
    {
      "cell_type": "markdown",
      "metadata": {
        "id": "29jx73DEbojp",
        "colab_type": "text"
      },
      "source": [
        ""
      ]
    }
  ]
}