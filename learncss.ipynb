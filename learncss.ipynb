{
  "nbformat": 4,
  "nbformat_minor": 0,
  "metadata": {
    "colab": {
      "name": "learncss.ipynb",
      "provenance": [],
      "toc_visible": true,
      "authorship_tag": "ABX9TyMwf/HPxoHeDAJrKsvPQndj",
      "include_colab_link": true
    },
    "kernelspec": {
      "name": "python3",
      "display_name": "Python 3"
    }
  },
  "cells": [
    {
      "cell_type": "markdown",
      "metadata": {
        "id": "view-in-github",
        "colab_type": "text"
      },
      "source": [
        "<a href=\"https://colab.research.google.com/github/kalz2q/mycolabnotebooks/blob/master/learncss.ipynb\" target=\"_parent\"><img src=\"https://colab.research.google.com/assets/colab-badge.svg\" alt=\"Open In Colab\"/></a>"
      ]
    },
    {
      "cell_type": "markdown",
      "metadata": {
        "id": "hGm2x-JRqV46"
      },
      "source": [
        "# メモ\n",
        "1. Colab で CSS を勉強する。%%html を使う。\n",
        "1. コマンドセルの中では ```<link rel=\"stylesheet\" href=\"styles.css\">``` でスタイルシートを読み込めないみたいなので、セルの中に記述することになる。つまり `<style></style>` で書く。\n",
        "1. 参考サイト  \n",
        "https://developer.mozilla.org/ja/docs/Learn/CSS/First_steps/Getting_started\n",
        "  \n",
        "  https://www.w3schools.com/css/"
      ]
    },
    {
      "cell_type": "markdown",
      "metadata": {
        "id": "-4ZXCrA0sl76"
      },
      "source": [
        "# はじめに少し実験"
      ]
    },
    {
      "cell_type": "code",
      "metadata": {
        "id": "TKWgq8sXq7tD",
        "colab": {
          "base_uri": "https://localhost:8080/",
          "height": 100
        },
        "outputId": "3e50b604-4678-479b-9c98-3d7164df1ae4"
      },
      "source": [
        "# こんな感じになる style と本体だけ\n",
        "%%html\n",
        "<style>\n",
        "h1 {\n",
        "  color: blue; \n",
        "  color: rgb(0, 255, 0);\n",
        "  color: #00ff00;\n",
        "  color: #0f0;\n",
        "}\n",
        "body {\n",
        "  color: #377;\n",
        "  font-family: Verdana, sams-serif;\n",
        "}\n",
        "</style>\n",
        "\n",
        "<h1>大見出し</h1>\n",
        "<p>中身の文章つらつら</p>\n"
      ],
      "execution_count": null,
      "outputs": [
        {
          "output_type": "display_data",
          "data": {
            "text/html": [
              "<style>\n",
              "h1 {\n",
              "  color: blue; \n",
              "  color: rgb(0, 255, 0);\n",
              "  color: #00ff00;\n",
              "  color: #0f0;\n",
              "}\n",
              "body {\n",
              "  color: #377;\n",
              "  font-family: Verdana, sams-serif;\n",
              "}\n",
              "</style>\n",
              "\n",
              "<h1>大見出し</h1>\n",
              "<p>中身の文章つらつら</p>"
            ],
            "text/plain": [
              "<IPython.core.display.HTML object>"
            ]
          },
          "metadata": {
            "tags": []
          }
        }
      ]
    },
    {
      "cell_type": "code",
      "metadata": {
        "id": "p-7gvKWturur",
        "colab": {
          "base_uri": "https://localhost:8080/",
          "height": 178
        },
        "outputId": "5c85c94a-3554-4b2b-85ed-d7aefb92da15"
      },
      "source": [
        "%%html\n",
        "<style>\n",
        "    body {\n",
        "        color: blue;\n",
        "    }\n",
        "    h1 {\n",
        "  color: red;\n",
        "}\n",
        "</style>\n",
        "</style>\n",
        "<h1>見出し１です</h1>\n",
        "\n",
        "<p>これは第一段落の文です。この文には <span>span 要素</span>\n",
        "    と<a href=\"http://example.com\">リンク</a>が含まれます。</p>\n",
        "\n",
        "<p>これは第二段落の文です。この文には <em>em 要素</em>が含まれます。</p>\n",
        "\n",
        "<ul>\n",
        "    <li>一つ目の項目</li>\n",
        "    <li>二つ目の項目</li>\n",
        "    <li><strong>三つ目</strong>の項目</li>\n",
        "</ul>"
      ],
      "execution_count": null,
      "outputs": [
        {
          "output_type": "display_data",
          "data": {
            "text/html": [
              "<style>\n",
              "    body {\n",
              "        color: blue;\n",
              "    }\n",
              "    h1 {\n",
              "  color: red;\n",
              "}\n",
              "</style>\n",
              "</style>\n",
              "<h1>見出し１です</h1>\n",
              "\n",
              "<p>これは第一段落の文です。この文には <span>span 要素</span>\n",
              "    と<a href=\"http://example.com\">リンク</a>が含まれます。</p>\n",
              "\n",
              "<p>これは第二段落の文です。この文には <em>em 要素</em>が含まれます。</p>\n",
              "\n",
              "<ul>\n",
              "    <li>一つ目の項目</li>\n",
              "    <li>二つ目の項目</li>\n",
              "    <li><strong>三つ目</strong>の項目</li>\n",
              "</ul>"
            ],
            "text/plain": [
              "<IPython.core.display.HTML object>"
            ]
          },
          "metadata": {
            "tags": []
          }
        }
      ]
    },
    {
      "cell_type": "code",
      "metadata": {
        "id": "9kzKWxAlTmrR",
        "colab": {
          "base_uri": "https://localhost:8080/",
          "height": 181
        },
        "outputId": "e1c1296f-8244-4dfa-bbbf-e3712a13609d"
      },
      "source": [
        "%%html\n",
        "<style> /* コメントも書けるがこの場所だと行コメント // が使えない */\n",
        "p, li {\n",
        "  color: green;\n",
        "} </style>\n",
        "<h1>I am a level one heading</h1>\n",
        "\n",
        "<p>This is a paragraph of text. In the text is a <span>span element</span>\n",
        "    and also a <a href=\"http://example.com\">link</a>.</p>\n",
        "\n",
        "<p>This is the second paragraph. It contains an <em>emphasized</em> element.</p>\n",
        "\n",
        "<ul>\n",
        "    <li>Item one</li>\n",
        "    <li>Item two</li>\n",
        "    <li>Item <em>three</em></li>\n",
        "</ul>"
      ],
      "execution_count": null,
      "outputs": [
        {
          "output_type": "display_data",
          "data": {
            "text/html": [
              "<style> /* コメントも書けるがこの場所だと行コメント // が使えない */\n",
              "p, li {\n",
              "  color: green;\n",
              "} </style>\n",
              "<h1>I am a level one heading</h1>\n",
              "\n",
              "<p>This is a paragraph of text. In the text is a <span>span element</span>\n",
              "    and also a <a href=\"http://example.com\">link</a>.</p>\n",
              "\n",
              "<p>This is the second paragraph. It contains an <em>emphasized</em> element.</p>\n",
              "\n",
              "<ul>\n",
              "    <li>Item one</li>\n",
              "    <li>Item two</li>\n",
              "    <li>Item <em>three</em></li>\n",
              "</ul>"
            ],
            "text/plain": [
              "<IPython.core.display.HTML object>"
            ]
          },
          "metadata": {
            "tags": []
          }
        }
      ]
    },
    {
      "cell_type": "markdown",
      "metadata": {
        "id": "Kw_aD_VXURgj"
      },
      "source": [
        "# リストの点を取る"
      ]
    },
    {
      "cell_type": "code",
      "metadata": {
        "id": "-hWaQCTpUJpH",
        "colab": {
          "base_uri": "https://localhost:8080/",
          "height": 178
        },
        "outputId": "7d747fc1-764f-491b-8651-5c6acba2e08b"
      },
      "source": [
        "%%html\n",
        "<style>\n",
        "p, li {\n",
        "  color: green;\n",
        "} \n",
        "li {\n",
        "  list-style-type: none;\n",
        "}\n",
        "</style>\n",
        "\n",
        "<h1>I am a level one heading</h1>\n",
        "\n",
        "<p>This is a paragraph of text. In the text is a <span>span element</span>\n",
        "    and also a <a href=\"http://example.com\">link</a>.</p>\n",
        "\n",
        "<p>This is the second paragraph. It contains an <em>emphasized</em> element.</p>\n",
        "\n",
        "<ul>\n",
        "    <li>Item one</li>\n",
        "    <li>Item two</li>\n",
        "    <li>Item <em>three</em></li>\n",
        "</ul>"
      ],
      "execution_count": null,
      "outputs": [
        {
          "output_type": "display_data",
          "data": {
            "text/html": [
              "<style>\n",
              "p, li {\n",
              "  color: green;\n",
              "} \n",
              "li {\n",
              "  list-style-type: none;\n",
              "}\n",
              "</style>\n",
              "\n",
              "<h1>I am a level one heading</h1>\n",
              "\n",
              "<p>This is a paragraph of text. In the text is a <span>span element</span>\n",
              "    and also a <a href=\"http://example.com\">link</a>.</p>\n",
              "\n",
              "<p>This is the second paragraph. It contains an <em>emphasized</em> element.</p>\n",
              "\n",
              "<ul>\n",
              "    <li>Item one</li>\n",
              "    <li>Item two</li>\n",
              "    <li>Item <em>three</em></li>\n",
              "</ul>"
            ],
            "text/plain": [
              "<IPython.core.display.HTML object>"
            ]
          },
          "metadata": {
            "tags": []
          }
        }
      ]
    },
    {
      "cell_type": "code",
      "metadata": {
        "id": "ZxdHPQIxwDRk",
        "colab": {
          "base_uri": "https://localhost:8080/",
          "height": 102
        },
        "outputId": "92133cd0-cd38-4a29-ed7f-ed098408336a"
      },
      "source": [
        "# クラスを加える\n",
        "%%html\n",
        "<style>\n",
        "    li.special {\n",
        "        color: orange;\n",
        "        font-weight: bold;\n",
        "    }\n",
        "    li em {\n",
        "        color: purple;\n",
        "    }\n",
        "    body {\n",
        "        background-color: lightgrey;\n",
        "    }\n",
        "</style>\n",
        "<p><span class=\"special\">ここは段落内のspanでclassがspecial</span></p>\n",
        "<ul>\n",
        "    <li>Item one</li>\n",
        "    <li class=\"special\">二つ目の項目</li>\n",
        "    <li><em>三つ目</em>の項目</li>\n",
        "</ul>"
      ],
      "execution_count": null,
      "outputs": [
        {
          "output_type": "display_data",
          "data": {
            "text/html": [
              "<style>\n",
              "    li.special {\n",
              "        color: orange;\n",
              "        font-weight: bold;\n",
              "    }\n",
              "    li em {\n",
              "        color: purple;\n",
              "    }\n",
              "    body {\n",
              "        background-color: lightgrey;\n",
              "    }\n",
              "</style>\n",
              "<p><span class=\"special\">ここは段落内のspanでclassがspecial</span></p>\n",
              "<ul>\n",
              "    <li>Item one</li>\n",
              "    <li class=\"special\">二つ目の項目</li>\n",
              "    <li><em>三つ目</em>の項目</li>\n",
              "</ul>"
            ],
            "text/plain": [
              "<IPython.core.display.HTML object>"
            ]
          },
          "metadata": {
            "tags": []
          }
        }
      ]
    },
    {
      "cell_type": "code",
      "metadata": {
        "id": "RIMXkq7wMMEy",
        "colab": {
          "base_uri": "https://localhost:8080/",
          "height": 140
        },
        "outputId": "3f2a995a-36c7-4594-b183-5a44006ceba9"
      },
      "source": [
        "# adjacent sibling combinator \"+\"\n",
        "%%html\n",
        "<style>\n",
        "    em {\n",
        "        color: rebeccapurple;\n",
        "    }\n",
        "\n",
        "    h1+p {\n",
        "        font-size: 200%;\n",
        "        background-color: rebeccapurple;\n",
        "        color: white;\n",
        "    }\n",
        "\n",
        "    a:link {\n",
        "        color: pink;\n",
        "    }\n",
        "\n",
        "    a:visited {\n",
        "        color: green;\n",
        "    }\n",
        "\n",
        "    a:hover {\n",
        "        text-decoration: none;\n",
        "    }    \n",
        "</style>\n",
        "<h1>I am a level one heading</h1>\n",
        "\n",
        "<p>This is a paragraph of text. In the text is a <span>span element</span>\n",
        "    and also a <a href=\"http://example.com\">link</a>.</p>\n",
        "\n",
        "<p>This is the second paragraph. It contains an <em>emphasized</em> element.</p>"
      ],
      "execution_count": null,
      "outputs": [
        {
          "output_type": "display_data",
          "data": {
            "text/html": [
              "<style>\n",
              "    em {\n",
              "        color: rebeccapurple;\n",
              "    }\n",
              "\n",
              "    h1+p {\n",
              "        font-size: 200%;\n",
              "        background-color: rebeccapurple;\n",
              "        color: white;\n",
              "    }\n",
              "\n",
              "    a:link {\n",
              "        color: pink;\n",
              "    }\n",
              "\n",
              "    a:visited {\n",
              "        color: green;\n",
              "    }\n",
              "\n",
              "    a:hover {\n",
              "        text-decoration: none;\n",
              "    }    \n",
              "</style>\n",
              "<h1>I am a level one heading</h1>\n",
              "\n",
              "<p>This is a paragraph of text. In the text is a <span>span element</span>\n",
              "    and also a <a href=\"http://example.com\">link</a>.</p>\n",
              "\n",
              "<p>This is the second paragraph. It contains an <em>emphasized</em> element.</p>"
            ],
            "text/plain": [
              "<IPython.core.display.HTML object>"
            ]
          },
          "metadata": {
            "tags": []
          }
        }
      ]
    },
    {
      "cell_type": "code",
      "metadata": {
        "id": "EtgAgcqrPECF",
        "colab": {
          "base_uri": "https://localhost:8080/",
          "height": 100
        },
        "outputId": "e5464875-916b-44fa-c308-30f2e2ce726c"
      },
      "source": [
        "# combinator\n",
        "%%html\n",
        "<!-- body の中の h1 の次にくる p の中の class が special -->\n",
        "<style> \n",
        "    body h1 + p .special {\n",
        "        color: yellow;\n",
        "        background-color: black;\n",
        "        padding: 5px;\n",
        "    }\n",
        "</style>\n",
        "<h1>I am a level one heading</h1>\n",
        "\n",
        "<p>This is <span class=\"special\">the first paragraph.</span> It contains an <em>emphasized</em> element.</p>"
      ],
      "execution_count": null,
      "outputs": [
        {
          "output_type": "display_data",
          "data": {
            "text/html": [
              "<!-- body の中の h1 の次にくる p の中の class が special -->\n",
              "<style> \n",
              "    body h1 + p .special {\n",
              "        color: yellow;\n",
              "        background-color: black;\n",
              "        padding: 5px;\n",
              "    }\n",
              "</style>\n",
              "<h1>I am a level one heading</h1>\n",
              "\n",
              "<p>This is <span class=\"special\">the first paragraph.</span> It contains an <em>emphasized</em> element.</p>"
            ],
            "text/plain": [
              "<IPython.core.display.HTML object>"
            ]
          },
          "metadata": {
            "tags": []
          }
        }
      ]
    },
    {
      "cell_type": "code",
      "metadata": {
        "id": "HXBZ2ZFlcnzc",
        "colab": {
          "base_uri": "https://localhost:8080/",
          "height": 102
        },
        "outputId": "dd890bcf-31ba-4cf2-da4f-5bcbbe1d53aa"
      },
      "source": [
        "%%html\n",
        "<style>\n",
        "    h1 {\n",
        "        color: blue;\n",
        "        background-color: yellow;\n",
        "        border: 1px solid black;\n",
        "    }\n",
        "\n",
        "    p {\n",
        "        color: red;\n",
        "    }\n",
        "</style>\n",
        "<h1>Hello World!</h1>\n",
        "<p>This is my first CSS example</p>"
      ],
      "execution_count": null,
      "outputs": [
        {
          "output_type": "display_data",
          "data": {
            "text/html": [
              "<style>\n",
              "    h1 {\n",
              "        color: blue;\n",
              "        background-color: yellow;\n",
              "        border: 1px solid black;\n",
              "    }\n",
              "\n",
              "    p {\n",
              "        color: red;\n",
              "    }\n",
              "</style>\n",
              "<h1>Hello World!</h1>\n",
              "<p>This is my first CSS example</p>"
            ],
            "text/plain": [
              "<IPython.core.display.HTML object>"
            ]
          },
          "metadata": {
            "tags": []
          }
        }
      ]
    },
    {
      "cell_type": "code",
      "metadata": {
        "id": "aQrFejdNdCPP",
        "colab": {
          "base_uri": "https://localhost:8080/",
          "height": 102
        },
        "outputId": "7400c3a9-4990-444d-e093-6bb3542911e3"
      },
      "source": [
        "# インラインスタイルは可能な限り避ける\n",
        "%%html\n",
        "<h1 style=\"color: blue;background-color: yellow;border: 1px solid black;\">Hello World!</h1>\n",
        "<p style=\"color:red;\">This is my first CSS example</p>"
      ],
      "execution_count": null,
      "outputs": [
        {
          "output_type": "display_data",
          "data": {
            "text/html": [
              "<h1 style=\"color: blue;background-color: yellow;border: 1px solid black;\">Hello World!</h1>\n",
              "<p style=\"color:red;\">This is my first CSS example</p>"
            ],
            "text/plain": [
              "<IPython.core.display.HTML object>"
            ]
          },
          "metadata": {
            "tags": []
          }
        }
      ]
    },
    {
      "cell_type": "code",
      "metadata": {
        "id": "WgF-gsq0dxCC"
      },
      "source": [
        "# セレクター\n",
        "%%script false\n",
        "h1\n",
        "a:link\n",
        ".manythings\n",
        "#onething\n",
        "*\n",
        ".box p\n",
        ".box p:first-child\n",
        "h1, h2, .intro"
      ],
      "execution_count": null,
      "outputs": []
    },
    {
      "cell_type": "code",
      "metadata": {
        "id": "9THqhYweeh2n",
        "colab": {
          "base_uri": "https://localhost:8080/",
          "height": 46
        },
        "outputId": "b9653e71-93cf-4392-dfe6-055042cc47fb"
      },
      "source": [
        "# css style の優先度 specificity 詳細度\n",
        "%%html\n",
        "<style>\n",
        "    .special {\n",
        "        color: red;\n",
        "    }\n",
        "\n",
        "    p {\n",
        "        color: blue;\n",
        "    }\n",
        "</style>\n",
        "<p class=\"special\">What color am I?</p>\n"
      ],
      "execution_count": null,
      "outputs": [
        {
          "output_type": "display_data",
          "data": {
            "text/html": [
              "<style>\n",
              "    .special {\n",
              "        color: red;\n",
              "    }\n",
              "\n",
              "    p {\n",
              "        color: blue;\n",
              "    }\n",
              "</style>\n",
              "<p class=\"special\">What color am I?</p>"
            ],
            "text/plain": [
              "<IPython.core.display.HTML object>"
            ]
          },
          "metadata": {
            "tags": []
          }
        }
      ]
    },
    {
      "cell_type": "code",
      "metadata": {
        "id": "kqh5iJCZfdD9",
        "colab": {
          "base_uri": "https://localhost:8080/",
          "height": 75
        },
        "outputId": "01cc0ee1-1f52-4cd6-8f67-c29b6bae100e"
      },
      "source": [
        "# 簡単な計算 calc\n",
        "%%html\n",
        "<style>\n",
        "    .outer {\n",
        "        border: 5px solid black;\n",
        "        background-color: red;\n",
        "    }\n",
        "\n",
        "    .box {\n",
        "        padding: 10px;\n",
        "        width: calc(90% - 30px);\n",
        "        background-color: rebeccapurple;\n",
        "        color: white;\n",
        "        border: 5px dotted pink;\n",
        "    }\n",
        "</style>\n",
        "<div class=\"outer\"><div class=\"box\">The inner box is 90% - 30px.</div></div>"
      ],
      "execution_count": null,
      "outputs": [
        {
          "output_type": "display_data",
          "data": {
            "text/html": [
              "<style>\n",
              "    .outer {\n",
              "        border: 5px solid black;\n",
              "        background-color: red;\n",
              "    }\n",
              "\n",
              "    .box {\n",
              "        padding: 10px;\n",
              "        width: calc(90% - 30px);\n",
              "        background-color: rebeccapurple;\n",
              "        color: white;\n",
              "        border: 5px dotted pink;\n",
              "    }\n",
              "</style>\n",
              "<div class=\"outer\"><div class=\"box\">The inner box is 90% - 30px.</div></div>"
            ],
            "text/plain": [
              "<IPython.core.display.HTML object>"
            ]
          },
          "metadata": {
            "tags": []
          }
        }
      ]
    },
    {
      "cell_type": "code",
      "metadata": {
        "id": "tXIGzaB8l7Ya",
        "colab": {
          "base_uri": "https://localhost:8080/",
          "height": 177
        },
        "outputId": "6a2c63e8-2676-438e-cec6-95b363aa01c2"
      },
      "source": [
        "# transform\n",
        "%%html\n",
        "<style>\n",
        "    .box {\n",
        "        margin: 30px;\n",
        "        width: 50px;\n",
        "        height: 100px;\n",
        "        background-color: sienna;\n",
        "        transform: rotate(0.8turn);\n",
        "    }\n",
        "</style>\n",
        "<div class=\"box\"></div>"
      ],
      "execution_count": null,
      "outputs": [
        {
          "output_type": "display_data",
          "data": {
            "text/html": [
              "<style> /* コメント*/\n",
              "    .box {\n",
              "        margin: 30px;\n",
              "        width: 50px;\n",
              "        height: 100px;\n",
              "        background-color: sienna;\n",
              "        transform: rotate(0.8turn);\n",
              "    }\n",
              "</style>\n",
              "<div class=\"box\"></div>"
            ],
            "text/plain": [
              "<IPython.core.display.HTML object>"
            ]
          },
          "metadata": {
            "tags": []
          }
        }
      ]
    },
    {
      "cell_type": "code",
      "metadata": {
        "id": "sYzCcq5uoRWN",
        "colab": {
          "base_uri": "https://localhost:8080/",
          "height": 46
        },
        "outputId": "863c0a54-aaf9-475f-c2d4-f1e528a4fe1e"
      },
      "source": [
        "# アット規則\n",
        "%%html\n",
        "<style>\n",
        "body {\n",
        "  background-color: pink;\n",
        "}\n",
        "\n",
        "@media (min-width: 70em) {\n",
        "  body {\n",
        "    background-color: turquoise;\n",
        "  }\n",
        "}\n",
        "</style>\n",
        "<p>Hello @ media</p>"
      ],
      "execution_count": null,
      "outputs": [
        {
          "output_type": "display_data",
          "data": {
            "text/html": [
              "<style>\n",
              "body {\n",
              "  background-color: pink;\n",
              "}\n",
              "\n",
              "@media (min-width: 70em) {\n",
              "  body {\n",
              "    background-color: turquoise;\n",
              "  }\n",
              "}\n",
              "</style>\n",
              "<p>Hello @ media</p>"
            ],
            "text/plain": [
              "<IPython.core.display.HTML object>"
            ]
          },
          "metadata": {
            "tags": []
          }
        }
      ]
    },
    {
      "cell_type": "code",
      "metadata": {
        "id": "tzKSWQDopDDY"
      },
      "source": [
        "%%script false\n",
        "/* 4 つの値による一括定義、例えば padding や margin\n",
        "   では、値が適用される順序は top, right, bottom, left の順 (top から時計回り) です。\n",
        "   他の種類の一括指定もあり、例えば 2 つの値による一括指定を padding/margin に設定すると、\n",
        "   top/bottom と left/right になります。*/\n",
        "padding: 10px 15px 15px 5px;\n",
        "\n",
        "これは\n",
        "\n",
        "padding-top: 10px;\n",
        "padding-right: 15px;\n",
        "padding-bottom: 15px;\n",
        "padding-left: 5px;\n",
        "\n",
        "と同じ。\n",
        "つぎの一行\n",
        "\n",
        "background: red url(bg-graphic.png) 10px 10px repeat-x fixed;\n",
        "\n",
        "は\n",
        "\n",
        "background-color: red;\n",
        "background-image: url(bg-graphic.png);\n",
        "background-position: 10px 10px;\n",
        "background-repeat: repeat-x;\n",
        "background-attachment: fixed;\n",
        "\n",
        "と同じ。"
      ],
      "execution_count": null,
      "outputs": []
    },
    {
      "cell_type": "markdown",
      "metadata": {
        "id": "YuwkFXokce4F"
      },
      "source": [
        "# css のコメントは /* */ であることに注意!!!!"
      ]
    },
    {
      "cell_type": "code",
      "metadata": {
        "colab": {
          "base_uri": "https://localhost:8080/",
          "height": 372
        },
        "id": "g8XgnIjndpO9",
        "outputId": "f9951992-01fc-4658-8c92-53618bf4dda6"
      },
      "source": [
        "%%html\n",
        "<style>\n",
        "    /* 基本的な要素のスタイル付けを扱う */\n",
        "    /* -------------------------------------------------------------------------------------------- */\n",
        "    body {\n",
        "        font: 1em/150% Helvetica, Arial, sans-serif;\n",
        "        padding: 1em;\n",
        "        margin: 0 auto;\n",
        "        max-width: 33em;\n",
        "    }\n",
        "\n",
        "    @media (min-width: 70em) {\n",
        "\n",
        "        /* 大きな画面やウィンドウで読みやすいように、グローバルフォントの大きさを大きくする。 */\n",
        "        body {\n",
        "            font-size: 130%;\n",
        "        }\n",
        "    }\n",
        "\n",
        "    h1 {\n",
        "        font-size: 1.5em;\n",
        "    }\n",
        "\n",
        "    /* DOM で入れ子になっている特定の要素を処理する。 */\n",
        "    /* -------------------------------------------------------------------------------------------- */\n",
        "    div.special p, #id:first-line {\n",
        "        background-color: red;\n",
        "        border-radius: 30px;\n",
        "    }\n",
        "\n",
        "    div p {\n",
        "        margin: 0;\n",
        "        padding: 1em;\n",
        "        background-color: skyblue;\n",
        "    }\n",
        "\n",
        "    div p+p {\n",
        "        padding-top: 0;\n",
        "        padding-bottom: 0;\n",
        "    }\n",
        "</style>\n",
        "<div class=\"special\">divによる一行目\n",
        "    <p>pによる一行目</p>\n",
        "    <p>二行目</p>\n",
        "    <p>三行目</p>\n",
        "    <div>divによる四行目</div>\n",
        "</div>\n",
        "<p>divの外の一行目</p>\n",
        "<p>二行目</p>\n",
        "<p class=\"special\">三行目</p>\n"
      ],
      "execution_count": null,
      "outputs": [
        {
          "output_type": "display_data",
          "data": {
            "text/html": [
              "<style>\n",
              "    /* 基本的な要素のスタイル付けを扱う */\n",
              "    /* -------------------------------------------------------------------------------------------- */\n",
              "    body {\n",
              "        font: 1em/150% Helvetica, Arial, sans-serif;\n",
              "        padding: 1em;\n",
              "        margin: 0 auto;\n",
              "        max-width: 33em;\n",
              "    }\n",
              "\n",
              "    @media (min-width: 70em) {\n",
              "\n",
              "        /* 大きな画面やウィンドウで読みやすいように、グローバルフォントの大きさを大きくする。 */\n",
              "        body {\n",
              "            font-size: 130%;\n",
              "        }\n",
              "    }\n",
              "\n",
              "    h1 {\n",
              "        font-size: 1.5em;\n",
              "    }\n",
              "\n",
              "    /* DOM で入れ子になっている特定の要素を処理する。 */\n",
              "    /* -------------------------------------------------------------------------------------------- */\n",
              "    div.special p, #id:first-line {\n",
              "        background-color: red;\n",
              "        border-radius: 30px;\n",
              "    }\n",
              "\n",
              "    div p {\n",
              "        margin: 0;\n",
              "        padding: 1em;\n",
              "        background-color: skyblue;\n",
              "    }\n",
              "\n",
              "    div p+p {\n",
              "        padding-top: 0;\n",
              "        padding-bottom: 0;\n",
              "    }\n",
              "</style>\n",
              "<div class=\"special\">divによる一行目\n",
              "    <p>pによる一行目</p>\n",
              "    <p>二行目</p>\n",
              "    <p>三行目</p>\n",
              "    <div>divによる四行目</div>\n",
              "</div>\n",
              "<p>divの外の一行目</p>\n",
              "<p>二行目</p>\n",
              "<p class=\"special\">三行目</p>"
            ],
            "text/plain": [
              "<IPython.core.display.HTML object>"
            ]
          },
          "metadata": {
            "tags": []
          }
        }
      ]
    },
    {
      "cell_type": "code",
      "metadata": {
        "id": "5UHFB-lXkDMP",
        "colab": {
          "base_uri": "https://localhost:8080/",
          "height": 104
        },
        "outputId": "d8b46fbd-0059-4da9-eea2-29404b3cf981"
      },
      "source": [
        "# first-line の実験 => \"p, #id:first-line\" がわからない\n",
        "%%html\n",
        "<style>\n",
        "/*  p:first-line { // pの中の<br>より前だけ赤くなる\n",
        "    #id:first-line {  // 機能しない */\n",
        "    p, #id:first-line {  /* p が全部赤くなる */\n",
        "        color: red;\n",
        "    }\n",
        "</style>\n",
        "<p>さきちん絵はがきの紹介<br>\n",
        "    さきちん絵はがきは、無料で各種テンプレートがダウンロードできるWebサイトです。</p>\n",
        "\n",
        "<p>年賀状や暑中・寒中見舞い、四季の絵はがきなどがあります。<br>特に人気なのが年賀状。多くの方が見てくださってます。感謝♪</p>"
      ],
      "execution_count": null,
      "outputs": [
        {
          "output_type": "display_data",
          "data": {
            "text/html": [
              "<style>\n",
              "/*  p:first-line { // pの中の<br>より前だけ赤くなる\n",
              "    #id:first-line {  // 機能しない */\n",
              "    p, #id:first-line {  /* p が全部赤くなる */\n",
              "        color: red;\n",
              "    }\n",
              "</style>\n",
              "<body>\n",
              "<p>さきちん絵はがきの紹介<br>\n",
              "    さきちん絵はがきは、無料で各種テンプレートがダウンロードできるWebサイトです。</p>\n",
              "\n",
              "<p>年賀状や暑中・寒中見舞い、四季の絵はがきなどがあります。<br>特に人気なのが年賀状。多くの方が見てくださってます。感謝♪</p>\n",
              "</body>"
            ],
            "text/plain": [
              "<IPython.core.display.HTML object>"
            ]
          },
          "metadata": {
            "tags": []
          }
        }
      ]
    },
    {
      "cell_type": "code",
      "metadata": {
        "id": "FQISM0qv4KAh",
        "colab": {
          "base_uri": "https://localhost:8080/",
          "height": 63
        },
        "outputId": "b2eb8aec-7e10-4088-9200-bfe3b900bfcd"
      },
      "source": [
        "# cssが間違っている時の動き => 間違いは飛ばして残りをやる\n",
        "%%html\n",
        "<style>\n",
        "    p {\n",
        "        font-weight: bold;\n",
        "        colour: blue;\n",
        "        /* colorプロパティのスペルが正しくありません */\n",
        "        font-size: 200%;\n",
        "    }\n",
        "</style>\n",
        "<p> I want this text to be large, bold and blue.</p>"
      ],
      "execution_count": null,
      "outputs": [
        {
          "output_type": "display_data",
          "data": {
            "text/html": [
              "<style>\n",
              "    p {\n",
              "        font-weight: bold;\n",
              "        colour: blue;\n",
              "        /* colorプロパティのスペルが正しくありません */\n",
              "        font-size: 200%;\n",
              "    }\n",
              "</style>\n",
              "<p> I want this text to be large, bold and blue.</p>"
            ],
            "text/plain": [
              "<IPython.core.display.HTML object>"
            ]
          },
          "metadata": {
            "tags": []
          }
        }
      ]
    },
    {
      "cell_type": "code",
      "metadata": {
        "id": "OwMq61ZU5Bwe",
        "colab": {
          "base_uri": "https://localhost:8080/",
          "height": 315
        },
        "outputId": "78e81358-3071-4ced-af58-09de6bf55545"
      },
      "source": [
        "%%html\n",
        "<style>\n",
        "    body {\n",
        "        font-family: Arial, Helvetica, sans-serif;\n",
        "    }\n",
        "\n",
        "    h1 {\n",
        "        color: hotpink;\n",
        "        /* color: #375e97; */\n",
        "        font-size: 2em;\n",
        "        font-family: Georgia, 'Times New Roman', Times, serif;\n",
        "        border-bottom: 10px dotted slateblue;\n",
        "        /* border-bottom: 1px solid #375e97; */\n",
        "    }\n",
        "\n",
        "    h2 {\n",
        "        font-size: 1.5em;\n",
        "        font-style: italic;\n",
        "    }\n",
        "\n",
        "    ul {\n",
        "        background-color: #eeeeee;\n",
        "        border: 10px solid purple;\n",
        "        padding: 20px;\n",
        "    }\n",
        "\n",
        "    .job-title {\n",
        "        color: #999999;\n",
        "        font-weight: bold;\n",
        "    }\n",
        "\n",
        "    a:link,\n",
        "    a:visited {\n",
        "        color: #fb6542;\n",
        "    }\n",
        "\n",
        "    a:hover {\n",
        "        text-decoration: none;\n",
        "        color: green;\n",
        "    }\n",
        "</style>\n",
        "<h1>Jane Doe</h1>\n",
        "<div class=\"job-title\">Web Developer</div>\n",
        "<p>Far far away, behind the word mountains, far from the countries Vokalia and Consonantia, there live the blind texts.\n",
        "    Separated they live in Bookmarksgrove right at the coast of the Semantics, a large language ocean.</p>\n",
        "\n",
        "<p>A small river named Duden flows by their place and supplies it with the necessary regelialia. It is a paradisematic\n",
        "    country, in which roasted parts of sentences fly into your mouth. </p>\n",
        "\n",
        "<h2>Contact information</h2>\n",
        "<ul>\n",
        "    <li>Email: <a href=\"mailto:jane@example.com\">jane@example.com</a></li>\n",
        "    <li>Web: <a href=\"http://example.com\">http://example.com</a></li>\n",
        "    <li>Tel: 123 45678</li>\n",
        "</ul>"
      ],
      "execution_count": null,
      "outputs": [
        {
          "output_type": "display_data",
          "data": {
            "text/html": [
              "<style>\n",
              "    body {\n",
              "        font-family: Arial, Helvetica, sans-serif;\n",
              "    }\n",
              "\n",
              "    h1 {\n",
              "        color: hotpink;\n",
              "        /* color: #375e97; */\n",
              "        font-size: 2em;\n",
              "        font-family: Georgia, 'Times New Roman', Times, serif;\n",
              "        border-bottom: 10px dotted slateblue;\n",
              "        /* border-bottom: 1px solid #375e97; */\n",
              "    }\n",
              "\n",
              "    h2 {\n",
              "        font-size: 1.5em;\n",
              "        font-style: italic;\n",
              "    }\n",
              "\n",
              "    ul {\n",
              "        background-color: #eeeeee;\n",
              "        border: 10px solid purple;\n",
              "        padding: 20px;\n",
              "    }\n",
              "\n",
              "    .job-title {\n",
              "        color: #999999;\n",
              "        font-weight: bold;\n",
              "    }\n",
              "\n",
              "    a:link,\n",
              "    a:visited {\n",
              "        color: #fb6542;\n",
              "    }\n",
              "\n",
              "    a:hover {\n",
              "        text-decoration: none;\n",
              "        color: green;\n",
              "    }\n",
              "</style>\n",
              "<h1>Jane Doe</h1>\n",
              "<div class=\"job-title\">Web Developer</div>\n",
              "<p>Far far away, behind the word mountains, far from the countries Vokalia and Consonantia, there live the blind texts.\n",
              "    Separated they live in Bookmarksgrove right at the coast of the Semantics, a large language ocean.</p>\n",
              "\n",
              "<p>A small river named Duden flows by their place and supplies it with the necessary regelialia. It is a paradisematic\n",
              "    country, in which roasted parts of sentences fly into your mouth. </p>\n",
              "\n",
              "<h2>Contact information</h2>\n",
              "<ul>\n",
              "    <li>Email: <a href=\"mailto:jane@example.com\">jane@example.com</a></li>\n",
              "    <li>Web: <a href=\"http://example.com\">http://example.com</a></li>\n",
              "    <li>Tel: 123 45678</li>\n",
              "</ul>"
            ],
            "text/plain": [
              "<IPython.core.display.HTML object>"
            ]
          },
          "metadata": {
            "tags": []
          }
        }
      ]
    },
    {
      "cell_type": "code",
      "metadata": {
        "colab": {
          "base_uri": "https://localhost:8080/",
          "height": 75
        },
        "id": "x7VLEXqOoZiJ",
        "outputId": "d378f448-adfd-43a8-a822-668308697bb6"
      },
      "source": [
        "# cascading\n",
        "%%html\n",
        "<style>\n",
        "    h1 { \n",
        "        color: red; \n",
        "    }\n",
        "\n",
        "    h1 { \n",
        "        color: aquamarine; \n",
        "    }\n",
        "</style>\n",
        "<h1>This is my heading.</h1>"
      ],
      "execution_count": null,
      "outputs": [
        {
          "output_type": "display_data",
          "data": {
            "text/html": [
              "<style>\n",
              "h1 { \n",
              "    color: red; \n",
              "}\n",
              "\n",
              "h1 { \n",
              "    color: aquamarine; \n",
              "}\n",
              "</style>\n",
              "<h1>This is my heading.</h1>"
            ],
            "text/plain": [
              "<IPython.core.display.HTML object>"
            ]
          },
          "metadata": {
            "tags": []
          }
        }
      ]
    },
    {
      "cell_type": "code",
      "metadata": {
        "colab": {
          "base_uri": "https://localhost:8080/",
          "height": 75
        },
        "id": "XaWh-LPTqKRf",
        "outputId": "63d4479c-15fb-4b69-a3f8-e33d96d7df6a"
      },
      "source": [
        "# 詳細度 specificity による優先\n",
        "%%html\n",
        "<style>\n",
        "    .main-heading {\n",
        "        color: hotpink;\n",
        "    }\n",
        "\n",
        "    h1 {\n",
        "        color: blue;\n",
        "    }\n",
        "</style>\n",
        "<h1 class=\"main-heading\">This is my heading.</h1>"
      ],
      "execution_count": null,
      "outputs": [
        {
          "output_type": "display_data",
          "data": {
            "text/html": [
              "<style>\n",
              "    .main-heading {\n",
              "        color: hotpink;\n",
              "    }\n",
              "\n",
              "    h1 {\n",
              "        color: blue;\n",
              "    }\n",
              "</style>\n",
              "<h1 class=\"main-heading\">This is my heading.</h1>"
            ],
            "text/plain": [
              "<IPython.core.display.HTML object>"
            ]
          },
          "metadata": {
            "tags": []
          }
        }
      ]
    },
    {
      "cell_type": "code",
      "metadata": {
        "colab": {
          "base_uri": "https://localhost:8080/",
          "height": 86
        },
        "id": "oOSfCguKqzW8",
        "outputId": "c70e5f8f-e09b-480b-8b0a-158997de8367"
      },
      "source": [
        "# 継承 inheritance\n",
        "%%html\n",
        "<style>\n",
        "body {\n",
        "    color: blue;\n",
        "}\n",
        "\n",
        "span {\n",
        "    color: black;\n",
        "    font-size: 200%;\n",
        "}\n",
        "</style>\n",
        "<p>As the body has been set to have a color of blue this is inherited through the descendants.</p>\n",
        "<p>We can change the color by targetting the element with a selector, such as this <span>span</span>.</p>\n"
      ],
      "execution_count": null,
      "outputs": [
        {
          "output_type": "display_data",
          "data": {
            "text/html": [
              "<style>\n",
              "body {\n",
              "    color: blue;\n",
              "}\n",
              "\n",
              "span {\n",
              "    color: black;\n",
              "    font-size: 200%;\n",
              "}\n",
              "</style>\n",
              "<p>As the body has been set to have a color of blue this is inherited through the descendants.</p>\n",
              "<p>We can change the color by targetting the element with a selector, such as this <span>span</span>.</p>"
            ],
            "text/plain": [
              "<IPython.core.display.HTML object>"
            ]
          },
          "metadata": {
            "tags": []
          }
        }
      ]
    },
    {
      "cell_type": "code",
      "metadata": {
        "colab": {
          "base_uri": "https://localhost:8080/",
          "height": 253
        },
        "id": "MYr3ohomrZQz",
        "outputId": "abb4273f-0766-4d7c-85f5-cdbefc399c52"
      },
      "source": [
        "%%html\n",
        "<style>\n",
        "    .main {\n",
        "        color: rebeccapurple;\n",
        "        border: 2px solid #ccc;\n",
        "        padding: 1em;\n",
        "    }\n",
        "\n",
        "    .special {\n",
        "        color: black;\n",
        "        font-weight: bold;\n",
        "    }\n",
        "\n",
        "    ul li {\n",
        "        margin-left: 1em;\n",
        "    }\n",
        "\n",
        "    ul ul{\n",
        "        margin-left: -2em;\n",
        "    }\n",
        "\n",
        "</style>\n",
        "<ul class=\"main\">\n",
        "    <li>Item One</li>\n",
        "    <li>Item Two\n",
        "        <ul>\n",
        "            <li>2.1</li>\n",
        "            <li>2.2</li>\n",
        "        </ul>\n",
        "    </li>\n",
        "    <li>Item Three\n",
        "        <ul class=\"special\">\n",
        "            <li>3.1\n",
        "                <ul>\n",
        "                    <li>3.1.1</li>\n",
        "                    <li>3.1.2</li>\n",
        "                </ul>\n",
        "            </li>\n",
        "            <li>3.2</li>\n",
        "        </ul>\n",
        "    </li>\n",
        "</ul>"
      ],
      "execution_count": null,
      "outputs": [
        {
          "output_type": "display_data",
          "data": {
            "text/html": [
              "<style>\n",
              "    .main {\n",
              "        color: rebeccapurple;\n",
              "        border: 2px solid #ccc;\n",
              "        padding: 1em;\n",
              "    }\n",
              "\n",
              "    .special {\n",
              "        color: black;\n",
              "        font-weight: bold;\n",
              "    }\n",
              "\n",
              "    ul li {\n",
              "        margin-left: 1em;\n",
              "    }\n",
              "\n",
              "    ul ul{\n",
              "        margin-left: -2em;\n",
              "    }\n",
              "\n",
              "</style>\n",
              "<ul class=\"main\">\n",
              "    <li>Item One</li>\n",
              "    <li>Item Two\n",
              "        <ul>\n",
              "            <li>2.1</li>\n",
              "            <li>2.2</li>\n",
              "        </ul>\n",
              "    </li>\n",
              "    <li>Item Three\n",
              "        <ul class=\"special\">\n",
              "            <li>3.1\n",
              "                <ul>\n",
              "                    <li>3.1.1</li>\n",
              "                    <li>3.1.2</li>\n",
              "                </ul>\n",
              "            </li>\n",
              "            <li>3.2</li>\n",
              "        </ul>\n",
              "    </li>\n",
              "</ul>"
            ],
            "text/plain": [
              "<IPython.core.display.HTML object>"
            ]
          },
          "metadata": {
            "tags": []
          }
        }
      ]
    },
    {
      "cell_type": "code",
      "metadata": {
        "colab": {
          "base_uri": "https://localhost:8080/",
          "height": 98
        },
        "id": "SRub6VEu0S7G",
        "outputId": "0171d7ae-f45c-43e2-f401-0a5965ad056c"
      },
      "source": [
        "%%html\n",
        "<style>\n",
        "    body {\n",
        "        color: green;\n",
        "    }\n",
        "\n",
        "    .my-class-1 a {\n",
        "        color: inherit;\n",
        "    }\n",
        "\n",
        "    .my-class-2 a {\n",
        "        color: initial;\n",
        "    }\n",
        "\n",
        "    .my-class-3 a {\n",
        "        color: unset;\n",
        "    }\n",
        "\n",
        "    /* a { color: red; }  */\n",
        "</style>\n",
        "<ul>\n",
        "    <li>Default <a href=\"#\">link</a> color</li>\n",
        "    <li class=\"my-class-1\">Inherit the <a href=\"#\">link</a> color</li>\n",
        "    <li class=\"my-class-2\">Reset the <a href=\"#\">link</a> color</li>\n",
        "    <li class=\"my-class-3\">Unset the <a href=\"#\">link</a> color</li>\n",
        "</ul>"
      ],
      "execution_count": null,
      "outputs": [
        {
          "output_type": "display_data",
          "data": {
            "text/html": [
              "<style>\n",
              "    body {\n",
              "        color: green;\n",
              "    }\n",
              "\n",
              "    .my-class-1 a {\n",
              "        color: inherit;\n",
              "    }\n",
              "\n",
              "    .my-class-2 a {\n",
              "        color: initial;\n",
              "    }\n",
              "\n",
              "    .my-class-3 a {\n",
              "        color: unset;\n",
              "    }\n",
              "\n",
              "    /* a { color: red; }  */\n",
              "</style>\n",
              "<ul>\n",
              "    <li>Default <a href=\"#\">link</a> color</li>\n",
              "    <li class=\"my-class-1\">Inherit the <a href=\"#\">link</a> color</li>\n",
              "    <li class=\"my-class-2\">Reset the <a href=\"#\">link</a> color</li>\n",
              "    <li class=\"my-class-3\">Unset the <a href=\"#\">link</a> color</li>\n",
              "</ul>"
            ],
            "text/plain": [
              "<IPython.core.display.HTML object>"
            ]
          },
          "metadata": {
            "tags": []
          }
        }
      ]
    },
    {
      "cell_type": "code",
      "metadata": {
        "colab": {
          "base_uri": "https://localhost:8080/",
          "height": 102
        },
        "id": "fpd67trM1f2K",
        "outputId": "acef5f41-46a5-4aad-f6ec-69fc544dfb68"
      },
      "source": [
        "%%html\n",
        "<style>\n",
        "    blockquote {\n",
        "        background-color: lightsalmon;\n",
        "        border: 2px solid green;\n",
        "    }\n",
        "\n",
        "    .fix-this {\n",
        "        all: unset;\n",
        "    }\n",
        "</style>\n",
        "<blockquote>\n",
        "    <p>This blockquote is styled</p>\n",
        "</blockquote>\n",
        "\n",
        "<blockquote class=\"fix-this\">\n",
        "    <p>This blockquote is not styled</p>\n",
        "</blockquote>"
      ],
      "execution_count": null,
      "outputs": [
        {
          "output_type": "display_data",
          "data": {
            "text/html": [
              "<style>\n",
              "    blockquote {\n",
              "        background-color: lightsalmon;\n",
              "        border: 2px solid green;\n",
              "    }\n",
              "\n",
              "    .fix-this {\n",
              "        all: unset;\n",
              "    }\n",
              "</style>\n",
              "<blockquote>\n",
              "    <p>This blockquote is styled</p>\n",
              "</blockquote>\n",
              "\n",
              "<blockquote class=\"fix-this\">\n",
              "    <p>This blockquote is not styled</p>\n",
              "</blockquote>"
            ],
            "text/plain": [
              "<IPython.core.display.HTML object>"
            ]
          },
          "metadata": {
            "tags": []
          }
        }
      ]
    },
    {
      "cell_type": "code",
      "metadata": {
        "colab": {
          "base_uri": "https://localhost:8080/",
          "height": 165
        },
        "id": "seGBpd7t2ul5",
        "outputId": "8465a90e-e563-42ed-cebb-1c187e70418b"
      },
      "source": [
        "%%html\n",
        "<style>\n",
        "    h2 {\n",
        "        font-size: 2em;\n",
        "        color: #000;\n",
        "        font-family: Georgia, 'Times New Roman', Times, serif;\n",
        "    }\n",
        "\n",
        "    .small {\n",
        "        font-size: 1em;\n",
        "    }\n",
        "\n",
        "    .bright {\n",
        "        color: rebeccapurple;\n",
        "    }\n",
        "</style>\n",
        "<h2>Heading with no class</h2>\n",
        "<h2 class=\"small\">Heading with class of small</h2>\n",
        "<h2 class=\"bright\">Heading with class of bright</h2>"
      ],
      "execution_count": null,
      "outputs": [
        {
          "output_type": "display_data",
          "data": {
            "text/html": [
              "<style>\n",
              "    h2 {\n",
              "        font-size: 2em;\n",
              "        color: #000;\n",
              "        font-family: Georgia, 'Times New Roman', Times, serif;\n",
              "    }\n",
              "\n",
              "    .small {\n",
              "        font-size: 1em;\n",
              "    }\n",
              "\n",
              "    .bright {\n",
              "        color: rebeccapurple;\n",
              "    }\n",
              "</style>\n",
              "<h2>Heading with no class</h2>\n",
              "<h2 class=\"small\">Heading with class of small</h2>\n",
              "<h2 class=\"bright\">Heading with class of bright</h2>"
            ],
            "text/plain": [
              "<IPython.core.display.HTML object>"
            ]
          },
          "metadata": {
            "tags": []
          }
        }
      ]
    },
    {
      "cell_type": "code",
      "metadata": {
        "id": "Fp3hkS6P3GiK"
      },
      "source": [
        "%%script false\n",
        "注: ユニバーサルセレクタ (*)、コンビネータ (+、>、~、' ') 、及び否定擬似クラス（:not）は詳細度に影響を及ぼしません。"
      ],
      "execution_count": null,
      "outputs": []
    },
    {
      "cell_type": "code",
      "metadata": {
        "colab": {
          "base_uri": "https://localhost:8080/",
          "height": 129
        },
        "id": "3lVNqF_W3WYG",
        "outputId": "3b0b92d1-56f0-43ba-d369-5c0e3aecb021"
      },
      "source": [
        "%%html\n",
        "<style>\n",
        "    /* specificity: 0101 */\n",
        "    #outer a {\n",
        "        background-color: red;\n",
        "    }\n",
        "\n",
        "    /* specificity: 0201 */\n",
        "    #outer #inner a {\n",
        "        background-color: blue;\n",
        "    }\n",
        "\n",
        "    /* specificity: 0104 */\n",
        "    #outer div ul li a {\n",
        "        color: yellow;\n",
        "    }\n",
        "\n",
        "    /* specificity: 0113 */\n",
        "    #outer div ul .nav a {\n",
        "        color: white;\n",
        "    }\n",
        "\n",
        "    /* specificity: 0024 */\n",
        "    div div li:nth-child(2) a:hover {\n",
        "        border: 10px solid black;\n",
        "    }\n",
        "\n",
        "    /* specificity: 0023 */\n",
        "    div li:nth-child(2) a:hover {\n",
        "        border: 10px dashed black;\n",
        "    }\n",
        "\n",
        "    /* specificity: 0033 */\n",
        "    div div .nav:nth-child(2) a:hover {\n",
        "        border: 10px double black;\n",
        "    }\n",
        "\n",
        "    a {\n",
        "        display: inline-block;\n",
        "        line-height: 40px;\n",
        "        font-size: 20px;\n",
        "        text-decoration: none;\n",
        "        text-align: center;\n",
        "        width: 200px;\n",
        "        margin-bottom: 10px;\n",
        "    }\n",
        "\n",
        "    ul {\n",
        "        padding: 0;\n",
        "    }\n",
        "\n",
        "    li {\n",
        "        list-style-type: none;\n",
        "    }\n",
        "</style>\n",
        "<div id=\"outer\" class=\"container\">\n",
        "    <div id=\"inner\" class=\"container\">\n",
        "        <ul>\n",
        "            <li class=\"nav\"><a href=\"#\">One</a></li>\n",
        "            <li class=\"nav\"><a href=\"#\">Two</a></li>\n",
        "        </ul>\n",
        "    </div>\n",
        "</div>"
      ],
      "execution_count": null,
      "outputs": [
        {
          "output_type": "display_data",
          "data": {
            "text/html": [
              "<style>\n",
              "    /* specificity: 0101 */\n",
              "    #outer a {\n",
              "        background-color: red;\n",
              "    }\n",
              "\n",
              "    /* specificity: 0201 */\n",
              "    #outer #inner a {\n",
              "        background-color: blue;\n",
              "    }\n",
              "\n",
              "    /* specificity: 0104 */\n",
              "    #outer div ul li a {\n",
              "        color: yellow;\n",
              "    }\n",
              "\n",
              "    /* specificity: 0113 */\n",
              "    #outer div ul .nav a {\n",
              "        color: white;\n",
              "    }\n",
              "\n",
              "    /* specificity: 0024 */\n",
              "    div div li:nth-child(2) a:hover {\n",
              "        border: 10px solid black;\n",
              "    }\n",
              "\n",
              "    /* specificity: 0023 */\n",
              "    div li:nth-child(2) a:hover {\n",
              "        border: 10px dashed black;\n",
              "    }\n",
              "\n",
              "    /* specificity: 0033 */\n",
              "    /* div div .nav:nth-child(2) a:hover {\n",
              "        border: 10px double black;\n",
              "    } */\n",
              "\n",
              "    a {\n",
              "        display: inline-block;\n",
              "        line-height: 40px;\n",
              "        font-size: 20px;\n",
              "        text-decoration: none;\n",
              "        text-align: center;\n",
              "        width: 200px;\n",
              "        margin-bottom: 10px;\n",
              "    }\n",
              "\n",
              "    ul {\n",
              "        padding: 0;\n",
              "    }\n",
              "\n",
              "    li {\n",
              "        list-style-type: none;\n",
              "    }\n",
              "</style>\n",
              "<div id=\"outer\" class=\"container\">\n",
              "    <div id=\"inner\" class=\"container\">\n",
              "        <ul>\n",
              "            <li class=\"nav\"><a href=\"#\">One</a></li>\n",
              "            <li class=\"nav\"><a href=\"#\">Two</a></li>\n",
              "        </ul>\n",
              "    </div>\n",
              "</div>"
            ],
            "text/plain": [
              "<IPython.core.display.HTML object>"
            ]
          },
          "metadata": {
            "tags": []
          }
        }
      ]
    },
    {
      "cell_type": "code",
      "metadata": {
        "colab": {
          "base_uri": "https://localhost:8080/",
          "height": 89
        },
        "id": "w20g0TLa6HgZ",
        "outputId": "81116771-ec59-4288-d950-acbb49c5a4ae"
      },
      "source": [
        "# !important の使い方。便利だが使ってはいけない。\n",
        "%%html\n",
        "<style>\n",
        "    #winning {\n",
        "        background-color: red;\n",
        "        border: 1px solid black;\n",
        "    }\n",
        "\n",
        "    .better {\n",
        "        background-color: gray;\n",
        "        border: none !important;\n",
        "    }\n",
        "\n",
        "    p {\n",
        "        background-color: blue;\n",
        "        color: white;\n",
        "        padding: 5px;\n",
        "    }\n",
        "</style>\n",
        "<p class=\"better\">This is a paragraph.</p>\n",
        "<p class=\"better\" id=\"winning\">One selector to rule them all!</p>"
      ],
      "execution_count": null,
      "outputs": [
        {
          "output_type": "display_data",
          "data": {
            "text/html": [
              "<style>\n",
              "    #winning {\n",
              "        background-color: red;\n",
              "        border: 1px solid black;\n",
              "    }\n",
              "\n",
              "    .better {\n",
              "        background-color: gray;\n",
              "        border: none !important;\n",
              "    }\n",
              "\n",
              "    p {\n",
              "        background-color: blue;\n",
              "        color: white;\n",
              "        padding: 5px;\n",
              "    }\n",
              "</style>\n",
              "<p class=\"better\">This is a paragraph.</p>\n",
              "<p class=\"better\" id=\"winning\">One selector to rule them all!</p>"
            ],
            "text/plain": [
              "<IPython.core.display.HTML object>"
            ]
          },
          "metadata": {
            "tags": []
          }
        }
      ]
    },
    {
      "cell_type": "markdown",
      "metadata": {
        "id": "RGf5NlB6GA4s"
      },
      "source": [
        "# セレクター"
      ]
    },
    {
      "cell_type": "code",
      "metadata": {
        "id": "IJbZl0MYF-3X",
        "colab": {
          "base_uri": "https://localhost:8080/",
          "height": 181
        },
        "outputId": "85fb4cc1-bfb4-48a2-f12f-409f22d0486e"
      },
      "source": [
        "# 同じ内容ならカンマでセレクターを連結する。無効なセレクターがあると全体が無効化するので注意!!!!\n",
        "%%html\n",
        "<style>\n",
        "    span {\n",
        "        background-color: yellow;\n",
        "    }\n",
        "\n",
        "    strong,\n",
        "    em {\n",
        "        color: rebeccapurple;\n",
        "    }\n",
        "</style>\n",
        "<h1>Type selectors</h1>\n",
        "<p>Veggies es bonus vobis, proinde vos postulo essum magis <span>kohlrabi welsh onion</span> daikon amaranth tatsoi\n",
        "    tomatillo\n",
        "    melon azuki bean garlic.</p>\n",
        "\n",
        "<p>Gumbo beet greens corn soko <strong>endive</strong> gumbo gourd. Parsley shallot courgette tatsoi pea sprouts fava\n",
        "    bean collard\n",
        "    greens dandelion okra wakame tomato. Dandelion cucumber earthnut pea peanut soko zucchini.</p>\n",
        "\n",
        "<p>Turnip greens yarrow ricebean rutabaga <em>endive cauliflower</em> sea lettuce kohlrabi amaranth water spinach\n",
        "    avocado\n",
        "    daikon napa cabbage asparagus winter purslane kale. Celery potato scallion desert raisin horseradish spinach\n",
        "</p>"
      ],
      "execution_count": 1,
      "outputs": [
        {
          "output_type": "display_data",
          "data": {
            "text/html": [
              "<style>\n",
              "    span {\n",
              "        background-color: yellow;\n",
              "    }\n",
              "\n",
              "    strong,\n",
              "    em {\n",
              "        color: rebeccapurple;\n",
              "    }\n",
              "</style>\n",
              "<h1>Type selectors</h1>\n",
              "<p>Veggies es bonus vobis, proinde vos postulo essum magis <span>kohlrabi welsh onion</span> daikon amaranth tatsoi\n",
              "    tomatillo\n",
              "    melon azuki bean garlic.</p>\n",
              "\n",
              "<p>Gumbo beet greens corn soko <strong>endive</strong> gumbo gourd. Parsley shallot courgette tatsoi pea sprouts fava\n",
              "    bean collard\n",
              "    greens dandelion okra wakame tomato. Dandelion cucumber earthnut pea peanut soko zucchini.</p>\n",
              "\n",
              "<p>Turnip greens yarrow ricebean rutabaga <em>endive cauliflower</em> sea lettuce kohlrabi amaranth water spinach\n",
              "    avocado\n",
              "    daikon napa cabbage asparagus winter purslane kale. Celery potato scallion desert raisin horseradish spinach\n",
              "</p>"
            ],
            "text/plain": [
              "<IPython.core.display.HTML object>"
            ]
          },
          "metadata": {
            "tags": []
          }
        }
      ]
    },
    {
      "cell_type": "code",
      "metadata": {
        "id": "M_rC3EcnGgxF"
      },
      "source": [
        "# 属性によるセレクター\n",
        "%%script false\n",
        "a[title] { }\n",
        "a[href=\"https://example.com\"] { }"
      ],
      "execution_count": null,
      "outputs": []
    },
    {
      "cell_type": "code",
      "metadata": {
        "id": "db3kGzeQHO4l",
        "colab": {
          "base_uri": "https://localhost:8080/",
          "height": 98
        },
        "outputId": "e07d8c8f-e593-4edd-ebd6-bb2681d34abf"
      },
      "source": [
        "%%html\n",
        "<style>\n",
        "    a {\n",
        "        color: blue;\n",
        "    }\n",
        "\n",
        "    /* \"#\" で始まる内部リンク */\n",
        "    a[href^=\"#\"] {\n",
        "        background-color: gold;\n",
        "    }\n",
        "\n",
        "    /* URL のどこかに \"example\" が含まれるリンク */\n",
        "    a[href*=\"example\"] {\n",
        "        background-color: silver;\n",
        "    }\n",
        "\n",
        "    /* URL のどこかに \"insensitive\" が含まれるリンクで、\n",
        "\t\t\t大文字小文字は区別しない */\n",
        "    a[href*=\"insensitive\"i] {\n",
        "        color: cyan;\n",
        "    }\n",
        "\n",
        "    /* URL のどこかに \"cAsE\" があるリンクに一致\n",
        "大文字小文字の区別つき */\n",
        "    a[href*=\"cAsE\"s] {\n",
        "        color: pink;\n",
        "    }\n",
        "\n",
        "    /* \".org\" で終わるリンク */\n",
        "    a[href$=\".org\"] {\n",
        "        color: red;\n",
        "    }\n",
        "</style>\n",
        "<ul>\n",
        "    <li><a href=\"#internal\">Internal link</a></li>\n",
        "    <li><a href=\"http://example.com\">Example link</a></li>\n",
        "    <li><a href=\"#InSensitive\">Insensitive internal link</a></li>\n",
        "    <li><a href=\"http://example.org\">Example org link</a></li>  \n",
        "</ul>"
      ],
      "execution_count": null,
      "outputs": [
        {
          "output_type": "display_data",
          "data": {
            "text/html": [
              "<style>\n",
              "    a {\n",
              "        color: blue;\n",
              "    }\n",
              "\n",
              "    /* \"#\" で始まる内部リンク */\n",
              "    a[href^=\"#\"] {\n",
              "        background-color: gold;\n",
              "    }\n",
              "\n",
              "    /* URL のどこかに \"example\" が含まれるリンク */\n",
              "    a[href*=\"example\"] {\n",
              "        background-color: silver;\n",
              "    }\n",
              "\n",
              "    /* URL のどこかに \"insensitive\" が含まれるリンクで、\n",
              "\t\t\t大文字小文字は区別しない */\n",
              "    a[href*=\"insensitive\"i] {\n",
              "        color: cyan;\n",
              "    }\n",
              "\n",
              "    /* URL のどこかに \"cAsE\" があるリンクに一致\n",
              "大文字小文字の区別つき */\n",
              "    a[href*=\"cAsE\"s] {\n",
              "        color: pink;\n",
              "    }\n",
              "\n",
              "    /* \".org\" で終わるリンク */\n",
              "    a[href$=\".org\"] {\n",
              "        color: red;\n",
              "    }\n",
              "</style>\n",
              "<ul>\n",
              "    <li><a href=\"#internal\">Internal link</a></li>\n",
              "    <li><a href=\"http://example.com\">Example link</a></li>\n",
              "    <li><a href=\"#InSensitive\">Insensitive internal link</a></li>\n",
              "    <li><a href=\"http://example.org\">Example org link</a></li>  \n",
              "</ul>"
            ],
            "text/plain": [
              "<IPython.core.display.HTML object>"
            ]
          },
          "metadata": {
            "tags": []
          }
        }
      ]
    },
    {
      "cell_type": "code",
      "metadata": {
        "id": "JW9DQ0lEKeJi"
      },
      "source": [
        "# 疑似クラス、疑似要素\n",
        "%%script false\n",
        "a:hover { }\n",
        "p::first-line { }"
      ],
      "execution_count": null,
      "outputs": []
    },
    {
      "cell_type": "code",
      "metadata": {
        "id": "E5uGs2zSK2nT"
      },
      "source": [
        "# 結合子 combinator > は直接の子\n",
        "%%script false\n",
        "article > p {}\n"
      ],
      "execution_count": null,
      "outputs": []
    },
    {
      "cell_type": "code",
      "metadata": {
        "colab": {
          "base_uri": "https://localhost:8080/",
          "height": 167
        },
        "id": "46OGQI2a213t",
        "outputId": "ae00af0b-4b39-4368-c4a8-0a4857d9ef0d"
      },
      "source": [
        "# ユニバーサルセレクター (*)\n",
        "%%html\n",
        "<style>\n",
        "    * {\n",
        "        margin: 0;\n",
        "    }\n",
        "    \n",
        "    article *:first-child {\n",
        "        color: red;\n",
        "    } \n",
        "</style>\n",
        "<article>\n",
        "<h1>Universal selector</h1>\n",
        "<p>Veggies es bonus vobis, proinde vos postulo essum magis <span>kohlrabi welsh onion</span> daikon amaranth tatsoi\n",
        "    <span>tomatillo</span>\n",
        "    melon azuki bean garlic.</p>\n",
        "\n",
        "<p>Gumbo beet greens corn soko <strong>endive gumbo gourd</strong>. Parsley shallot courgette tatsoi pea sprouts fava\n",
        "    bean collard\n",
        "    greens dandelion okra wakame tomato. Dandelion cucumber earthnut pea peanut soko zucchini.</p>\n",
        "<h1> second head </h1>\n",
        "<p>Veggies es bonus vobis, proinde vos postulo essum magis <span>kohlrabi welsh onion</span> daikon amaranth tatsoi\n",
        "    tomatillo\n",
        "    melon azuki bean garlic.</p>\n",
        "</article>"
      ],
      "execution_count": 15,
      "outputs": [
        {
          "output_type": "display_data",
          "data": {
            "text/html": [
              "<style>\n",
              "    * {\n",
              "        margin: 0;\n",
              "    }\n",
              "    article *:first-child {\n",
              "        color: red;\n",
              "    } \n",
              "</style>\n",
              "<article>\n",
              "<h1>Universal selector</h1>\n",
              "<p>Veggies es bonus vobis, proinde vos postulo essum magis <span>kohlrabi welsh onion</span> daikon amaranth tatsoi\n",
              "    <span>tomatillo</span>\n",
              "    melon azuki bean garlic.</p>\n",
              "\n",
              "<p>Gumbo beet greens corn soko <strong>endive gumbo gourd</strong>. Parsley shallot courgette tatsoi pea sprouts fava\n",
              "    bean collard\n",
              "    greens dandelion okra wakame tomato. Dandelion cucumber earthnut pea peanut soko zucchini.</p>\n",
              "<h1> second head </h1>\n",
              "<p>Veggies es bonus vobis, proinde vos postulo essum magis <span>kohlrabi welsh onion</span> daikon amaranth tatsoi\n",
              "    tomatillo\n",
              "    melon azuki bean garlic.</p>\n",
              "</article>"
            ],
            "text/plain": [
              "<IPython.core.display.HTML object>"
            ]
          },
          "metadata": {
            "tags": []
          }
        }
      ]
    },
    {
      "cell_type": "code",
      "metadata": {
        "colab": {
          "base_uri": "https://localhost:8080/",
          "height": 140
        },
        "id": "57FfosT85a-8",
        "outputId": "186dfa6e-3ba7-453f-f978-34f0e17b8911"
      },
      "source": [
        "%%html\n",
        "<style>\n",
        "    .highlight {\n",
        "        background-color: yellow;\n",
        "    }\n",
        "</style>\n",
        "<h1 class=\"highlight\">Class selectors</h1>\n",
        "<p>Veggies es bonus vobis, proinde vos postulo essum magis <span class=\"highlight\">kohlrabi welsh onion</span> daikon\n",
        "    amaranth tatsoi tomatillo\n",
        "    melon azuki bean garlic.</p>\n",
        "\n",
        "<p class=\"highlight\">Gumbo beet greens corn soko <strong>endive</strong> gumbo gourd. Parsley shallot courgette tatsoi\n",
        "    pea sprouts fava bean collard\n",
        "    greens dandelion okra wakame tomato. Dandelion cucumber earthnut pea peanut soko zucchini.</p>"
      ],
      "execution_count": 16,
      "outputs": [
        {
          "output_type": "display_data",
          "data": {
            "text/html": [
              "<style>\n",
              "    .highlight {\n",
              "        background-color: yellow;\n",
              "    }\n",
              "</style>\n",
              "<h1 class=\"highlight\">Class selectors</h1>\n",
              "<p>Veggies es bonus vobis, proinde vos postulo essum magis <span class=\"highlight\">kohlrabi welsh onion</span> daikon\n",
              "    amaranth tatsoi tomatillo\n",
              "    melon azuki bean garlic.</p>\n",
              "\n",
              "<p class=\"highlight\">Gumbo beet greens corn soko <strong>endive</strong> gumbo gourd. Parsley shallot courgette tatsoi\n",
              "    pea sprouts fava bean collard\n",
              "    greens dandelion okra wakame tomato. Dandelion cucumber earthnut pea peanut soko zucchini.</p>"
            ],
            "text/plain": [
              "<IPython.core.display.HTML object>"
            ]
          },
          "metadata": {
            "tags": []
          }
        }
      ]
    },
    {
      "cell_type": "code",
      "metadata": {
        "colab": {
          "base_uri": "https://localhost:8080/",
          "height": 140
        },
        "id": "ZNrgdQ4858Cs",
        "outputId": "c645f29d-46c0-4e5f-fde7-11984419174c"
      },
      "source": [
        "%%html\n",
        "<style>\n",
        "    span.highlight {\n",
        "        background-color: yellow;\n",
        "    }\n",
        "\n",
        "    h1.highlight {\n",
        "        background-color: pink;\n",
        "    }\n",
        "</style>\n",
        "<h1 class=\"highlight\">Class selectors</h1>\n",
        "<p>Veggies es bonus vobis, proinde vos postulo essum magis <span class=\"highlight\">kohlrabi welsh onion</span> daikon\n",
        "    amaranth tatsoi tomatillo\n",
        "    melon azuki bean garlic.</p>\n",
        "\n",
        "<p class=\"highlight\">Gumbo beet greens corn soko <strong>endive</strong> gumbo gourd. Parsley shallot courgette tatsoi\n",
        "    pea sprouts fava bean collard\n",
        "    greens dandelion okra wakame tomato. Dandelion cucumber earthnut pea peanut soko zucchini.</p>"
      ],
      "execution_count": 21,
      "outputs": [
        {
          "output_type": "display_data",
          "data": {
            "text/html": [
              "<style>\n",
              "    span,.highlight {\n",
              "        background-color: yellow;\n",
              "    }\n",
              "\n",
              "    h1.highlight {\n",
              "        background-color: pink;\n",
              "    }\n",
              "</style>\n",
              "<h1 class=\"highlight\">Class selectors</h1>\n",
              "<p>Veggies es bonus vobis, proinde vos postulo essum magis <span class=\"highlight\">kohlrabi welsh onion</span> daikon\n",
              "    amaranth tatsoi tomatillo\n",
              "    melon azuki bean garlic.</p>\n",
              "\n",
              "<p class=\"highlight\">Gumbo beet greens corn soko <strong>endive</strong> gumbo gourd. Parsley shallot courgette tatsoi\n",
              "    pea sprouts fava bean collard\n",
              "    greens dandelion okra wakame tomato. Dandelion cucumber earthnut pea peanut soko zucchini.</p>"
            ],
            "text/plain": [
              "<IPython.core.display.HTML object>"
            ]
          },
          "metadata": {
            "tags": []
          }
        }
      ]
    },
    {
      "cell_type": "code",
      "metadata": {
        "colab": {
          "base_uri": "https://localhost:8080/",
          "height": 152
        },
        "id": "UxRktP-a8BER",
        "outputId": "2ac1eae1-35a2-4fff-a554-3e9bf4529ff7"
      },
      "source": [
        "# セレクター演算\n",
        "%%html\n",
        "<style>\n",
        "    .notebox {\n",
        "        border: 4px solid #666;\n",
        "        padding: .5em;\n",
        "    }\n",
        "\n",
        "    .notebox.warning {\n",
        "        border-color: orange;\n",
        "        font-weight: bold;\n",
        "    }\n",
        "\n",
        "    .notebox.danger {\n",
        "        border-color: red;\n",
        "        font-weight: bold;\n",
        "    }\n",
        "</style>\n",
        "<div class=\"notebox\">\n",
        "    This is an informational note.\n",
        "</div>\n",
        "\n",
        "<div class=\"notebox warning\">\n",
        "    This note shows a warning.\n",
        "</div>\n",
        "\n",
        "<div class=\"notebox danger\">\n",
        "    This note shows danger!\n",
        "</div>\n",
        "\n",
        "<div class=\"danger\">\n",
        "    This won't get styled — it also needs to have the notebox class\n",
        "</div>\n",
        "    "
      ],
      "execution_count": 24,
      "outputs": [
        {
          "output_type": "display_data",
          "data": {
            "text/html": [
              "<style>\n",
              "    .notebox {\n",
              "        border: 4px solid #666;\n",
              "        padding: .5em;\n",
              "    }\n",
              "\n",
              "    .notebox.warning {\n",
              "        border-color: orange;\n",
              "        font-weight: bold;\n",
              "    }\n",
              "\n",
              "    .notebox.danger {\n",
              "        border-color: red;\n",
              "        font-weight: bold;\n",
              "    }\n",
              "</style>\n",
              "<div class=\"notebox\">\n",
              "    This is an informational note.\n",
              "</div>\n",
              "\n",
              "<div class=\"notebox warning\">\n",
              "    This note shows a warning.\n",
              "</div>\n",
              "\n",
              "<div class=\"notebox danger\">\n",
              "    This note shows danger!\n",
              "</div>\n",
              "\n",
              "<div class=\"danger\">\n",
              "    This won't get styled — it also needs to have the notebox class\n",
              "</div>\n",
              "    "
            ],
            "text/plain": [
              "<IPython.core.display.HTML object>"
            ]
          },
          "metadata": {
            "tags": []
          }
        }
      ]
    },
    {
      "cell_type": "code",
      "metadata": {
        "id": "GZwQkvoDSqZ6",
        "outputId": "ae8794d5-b20e-4560-f5c1-e522f015446a",
        "colab": {
          "base_uri": "https://localhost:8080/",
          "height": 140
        }
      },
      "source": [
        "# ID セレクターは #\n",
        "%%html\n",
        "<style>\n",
        "    #one {\n",
        "        background-color: yellow;\n",
        "    }\n",
        "\n",
        "    h1#heading {\n",
        "        color: rebeccapurple;\n",
        "    }\n",
        "</style>\n",
        "<h1 id=\"heading\">ID selector</h1>\n",
        "<p>Veggies es bonus vobis, proinde vos postulo essum magis kohlrabi welsh onion daikon amaranth tatsoi tomatillo\n",
        "    melon azuki bean garlic.</p>\n",
        "\n",
        "<p id=\"one\">Gumbo beet greens corn soko <strong>endive</strong> gumbo gourd. Parsley shallot courgette tatsoi pea\n",
        "    sprouts fava bean collard\n",
        "    greens dandelion okra wakame tomato. Dandelion cucumber earthnut pea peanut soko zucchini.</p>"
      ],
      "execution_count": 25,
      "outputs": [
        {
          "output_type": "display_data",
          "data": {
            "text/html": [
              "<style>\n",
              "    #one {\n",
              "        background-color: yellow;\n",
              "    }\n",
              "\n",
              "    h1#heading {\n",
              "        color: rebeccapurple;\n",
              "    }\n",
              "</style>\n",
              "<h1 id=\"heading\">ID selector</h1>\n",
              "<p>Veggies es bonus vobis, proinde vos postulo essum magis kohlrabi welsh onion daikon amaranth tatsoi tomatillo\n",
              "    melon azuki bean garlic.</p>\n",
              "\n",
              "<p id=\"one\">Gumbo beet greens corn soko <strong>endive</strong> gumbo gourd. Parsley shallot courgette tatsoi pea\n",
              "    sprouts fava bean collard\n",
              "    greens dandelion okra wakame tomato. Dandelion cucumber earthnut pea peanut soko zucchini.</p>"
            ],
            "text/plain": [
              "<IPython.core.display.HTML object>"
            ]
          },
          "metadata": {
            "tags": []
          }
        }
      ]
    },
    {
      "cell_type": "code",
      "metadata": {
        "id": "oO_D6qdcUYpW"
      },
      "source": [
        "# 値のセレクター\n",
        "%%script false\n",
        "[attr] a[title] 属性名が一致\n",
        "[attr=value] a[href=\"https://example.com\"] 属性の値が完全一致\n",
        "[attr~=value] p[class~=\"special\"] 複数の値の一つに一致\n",
        "[attr|=value] div[lang|=\"zh\"] 値がvalueか、valueの直後にハイフンが続くと一致"
      ],
      "execution_count": null,
      "outputs": []
    },
    {
      "cell_type": "code",
      "metadata": {
        "id": "yfyNEDDLUyBQ",
        "outputId": "66d675aa-e3da-4aab-bf91-700d45765a0e",
        "colab": {
          "base_uri": "https://localhost:8080/",
          "height": 238
        }
      },
      "source": [
        "%%html\n",
        "<style>\n",
        "    li[class] {\n",
        "        font-size: 200%;\n",
        "    }\n",
        "\n",
        "    li[class=\"a\"] {\n",
        "        background-color: yellow;\n",
        "    }\n",
        "\n",
        "    li[class~=\"a\"] {\n",
        "        color: red;\n",
        "    }\n",
        "    li[class|=\"zh\"] {\n",
        "        color: green;\n",
        "    }\n",
        "</style>\n",
        "<h1>Attribute presence and value selectors</h1>\n",
        "<ul>\n",
        "    <li>Item 1</li>\n",
        "    <li class=\"a\">Item 2</li>\n",
        "    <li class=\"a b\">Item 3</li>\n",
        "    <li class=\"ab\">Item 4</li>\n",
        "    <li class=\"zh-ja\">Item 5</li>\n",
        "</ul>\n"
      ],
      "execution_count": 30,
      "outputs": [
        {
          "output_type": "display_data",
          "data": {
            "text/html": [
              "<style>\n",
              "    li[class] {\n",
              "        font-size: 200%;\n",
              "    }\n",
              "\n",
              "    li[class=\"a\"] {\n",
              "        background-color: yellow;\n",
              "    }\n",
              "\n",
              "    li[class~=\"a\"] {\n",
              "        color: red;\n",
              "    }\n",
              "    li[class|=\"zh\"] {\n",
              "        color: green;\n",
              "    }\n",
              "</style>\n",
              "<h1>Attribute presence and value selectors</h1>\n",
              "<ul>\n",
              "    <li>Item 1</li>\n",
              "    <li class=\"a\">Item 2</li>\n",
              "    <li class=\"a b\">Item 3</li>\n",
              "    <li class=\"ab\">Item 4</li>\n",
              "    <li class=\"zh-ja\">Item 5</li>\n",
              "</ul>"
            ],
            "text/plain": [
              "<IPython.core.display.HTML object>"
            ]
          },
          "metadata": {
            "tags": []
          }
        }
      ]
    },
    {
      "cell_type": "markdown",
      "metadata": {
        "id": "2nhWa1BHS4qb"
      },
      "source": [
        "# いまここ\n",
        "https://developer.mozilla.org/ja/docs/Learn/CSS/Building_blocks/Selectors/Type_Class_and_ID_Selectors"
      ]
    },
    {
      "cell_type": "markdown",
      "metadata": {
        "id": "LuVSyDnL7tFU"
      },
      "source": [
        "# ボックスモデル\n",
        "\n",
        "何を指してボックスモデルというのか。\n",
        "\n",
        "とりあえず、widthとheightがある。padding, border, margin, postion:absoluteとかもあるね。\n",
        "\n",
        "次の例では margin: 0px をいろんなところに入れてみたが、むずかしい。\n"
      ]
    },
    {
      "cell_type": "code",
      "metadata": {
        "id": "zCtJErLX8C9H",
        "colab": {
          "base_uri": "https://localhost:8080/",
          "height": 68
        },
        "outputId": "21a0f8b0-40c3-4ade-e627-8205139dec63"
      },
      "source": [
        "%%html\n",
        "<style>\n",
        "body {\n",
        "  color: #777;\n",
        "  font-family: Verdana, sams-serif;\n",
        "  margin: 0px;\n",
        "}\n",
        "h1 {\n",
        "  /* color: blue; */\n",
        "  color: rgb(0, 255, 0);\n",
        "  color: #00ff00;\n",
        "  color: #0f0;\n",
        "  background-color: yellow;\n",
        "  margin: 0px;\n",
        "}\n",
        "p { \n",
        "    background-color: pink;  \n",
        "    margin: 0px;\n",
        "}\n",
        "header {\n",
        "  background-color: #e1efff;\n",
        "}\n",
        "</style>\n",
        "\n",
        "<body>\n",
        "<header>\n",
        "<div id=\"container\">\n",
        "<h1>大見出し</h1>\n",
        "<p>中身の文章つらつら</p>\n",
        "</div>\n",
        "</header>\n",
        "</body>"
      ],
      "execution_count": null,
      "outputs": [
        {
          "output_type": "display_data",
          "data": {
            "text/html": [
              "<style>\n",
              "body {\n",
              "  color: #777;\n",
              "  font-family: Verdana, sams-serif;\n",
              "  margin: 0px;\n",
              "}\n",
              "h1 {\n",
              "  /* color: blue; */\n",
              "  color: rgb(0, 255, 0);\n",
              "  color: #00ff00;\n",
              "  color: #0f0;\n",
              "  background-color: yellow;\n",
              "  margin: 0px;\n",
              "}\n",
              "p { \n",
              "    background-color: pink;  \n",
              "    margin: 0px;\n",
              "}\n",
              "header {\n",
              "  background-color: #e1efff;\n",
              "}\n",
              "</style>\n",
              "\n",
              "<body>\n",
              "<header>\n",
              "<div id=\"container\">\n",
              "<h1>大見出し</h1>\n",
              "<p>中身の文章つらつら</p>\n",
              "</div>\n",
              "</header>\n",
              "</body>"
            ],
            "text/plain": [
              "<IPython.core.display.HTML object>"
            ]
          },
          "metadata": {
            "tags": []
          }
        }
      ]
    },
    {
      "cell_type": "markdown",
      "metadata": {
        "id": "YzswA_0bJPNg"
      },
      "source": [
        "# センタリング\n",
        "\n",
        "下の例では、div class=\"container\" でくくって、cssでwidthを400にして、左右のmargin を autoにするとセンタリングされている。\n",
        "\n",
        "まあ、きれいなのだが、どんなもんか。スマホには効かないのをどうやってきりわけるのか。"
      ]
    },
    {
      "cell_type": "code",
      "metadata": {
        "id": "0ogXEDofJMN7",
        "colab": {
          "base_uri": "https://localhost:8080/",
          "height": 99
        },
        "outputId": "a5528494-cf82-4122-e39e-61f858e7266f"
      },
      "source": [
        "%%html\n",
        "<style>\n",
        "body {\n",
        "  color: #333;\n",
        "  font-family: Verdana, sans-serif;\n",
        "  margin: 0;\n",
        "}\n",
        "\n",
        "header {\n",
        "  background-color: #efefef;\n",
        "}\n",
        "\n",
        ".container {\n",
        "  background-color: pink;\n",
        "  width: 400px;\n",
        "  margin-left: auto;\n",
        "  margin-right: auto;\n",
        "}\n",
        "</style>\n",
        "\n",
        "<body>\n",
        "<header>\n",
        "<div class=\"container\">\n",
        "<h1>大見出し</h1>\n",
        "<p>中身の文章つらつら</p>\n",
        "</div>\n",
        "</header>\n",
        "</body>"
      ],
      "execution_count": null,
      "outputs": [
        {
          "output_type": "display_data",
          "data": {
            "text/html": [
              "<style>\n",
              "body {\n",
              "  color: #333;\n",
              "  font-family: Verdana, sans-serif;\n",
              "  margin: 0;\n",
              "}\n",
              "\n",
              "header {\n",
              "  background-color: #efefef;\n",
              "}\n",
              "\n",
              ".container {\n",
              "  background-color: pink;\n",
              "  width: 400px;\n",
              "  margin-left: auto;\n",
              "  margin-right: auto;\n",
              "}\n",
              "</style>\n",
              "\n",
              "<body>\n",
              "<header>\n",
              "<div class=\"container\">\n",
              "<h1>大見出し</h1>\n",
              "<p>中身の文章つらつら</p>\n",
              "</div>\n",
              "</header>\n",
              "</body>"
            ],
            "text/plain": [
              "<IPython.core.display.HTML object>"
            ]
          },
          "metadata": {
            "tags": []
          }
        }
      ]
    },
    {
      "cell_type": "markdown",
      "metadata": {
        "id": "6ii7MmSAIyEy"
      },
      "source": [
        "# Flexbox\n",
        "\n",
        "要素を横並びにする道具だっけ?\n",
        "\n",
        "container に display: flex; とつけると、中身が横並びになるけど、上下の位置が変だ。"
      ]
    },
    {
      "cell_type": "code",
      "metadata": {
        "id": "ILQgBYdoJkkm",
        "colab": {
          "base_uri": "https://localhost:8080/",
          "height": 74
        },
        "outputId": "0efdad1a-81de-4597-fcb4-e74832578c0d"
      },
      "source": [
        "%%html\n",
        "<style>\n",
        "body {\n",
        "  color: #333;\n",
        "  font-family: Verdana, sans-serif;\n",
        "  margin: 0;\n",
        "}\n",
        "\n",
        "header {\n",
        "  background-color: #efefef;\n",
        "}\n",
        "\n",
        ".container {\n",
        "  background-color: pink;\n",
        "  width: 400px;\n",
        "  margin-left: auto;\n",
        "  margin-right: auto;\n",
        "  display: flex;\n",
        "}\n",
        "</style>\n",
        "\n",
        "<body>\n",
        "<header>\n",
        "<div class=\"container\">\n",
        "<h1>大見出し</h1>\n",
        "<p>中身の文章つらつら</p>\n",
        "</div>\n",
        "</header>\n",
        "</body>"
      ],
      "execution_count": null,
      "outputs": [
        {
          "output_type": "display_data",
          "data": {
            "text/html": [
              "<style>\n",
              "body {\n",
              "  color: #333;\n",
              "  font-family: Verdana, sans-serif;\n",
              "  margin: 0;\n",
              "}\n",
              "\n",
              "header {\n",
              "  background-color: #efefef;\n",
              "}\n",
              "\n",
              ".container {\n",
              "  background-color: pink;\n",
              "  width: 400px;\n",
              "  margin-left: auto;\n",
              "  margin-right: auto;\n",
              "  display: flex;\n",
              "}\n",
              "</style>\n",
              "\n",
              "<body>\n",
              "<header>\n",
              "<div class=\"container\">\n",
              "<h1>大見出し</h1>\n",
              "<p>中身の文章つらつら</p>\n",
              "</div>\n",
              "</header>\n",
              "</body>"
            ],
            "text/plain": [
              "<IPython.core.display.HTML object>"
            ]
          },
          "metadata": {
            "tags": []
          }
        }
      ]
    },
    {
      "cell_type": "markdown",
      "metadata": {
        "id": "29jx73DEbojp"
      },
      "source": [
        ""
      ]
    }
  ]
}