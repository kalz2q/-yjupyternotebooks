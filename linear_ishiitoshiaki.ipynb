{
  "nbformat": 4,
  "nbformat_minor": 0,
  "metadata": {
    "colab": {
      "name": "linear_ishiitoshiaki.ipynb",
      "provenance": [],
      "toc_visible": true,
      "authorship_tag": "ABX9TyOS2VxLr31dfKJfJ3dCM5so",
      "include_colab_link": true
    },
    "kernelspec": {
      "name": "python3",
      "display_name": "Python 3"
    }
  },
  "cells": [
    {
      "cell_type": "markdown",
      "metadata": {
        "id": "view-in-github",
        "colab_type": "text"
      },
      "source": [
        "<a href=\"https://colab.research.google.com/github/kalz2q/mycolabnotebooks/blob/master/linear_ishiitoshiaki.ipynb\" target=\"_parent\"><img src=\"https://colab.research.google.com/assets/colab-badge.svg\" alt=\"Open In Colab\"/></a>"
      ]
    },
    {
      "cell_type": "markdown",
      "metadata": {
        "id": "OZRLNjlYMMmq"
      },
      "source": [
        "# メモ\r\n",
        "\r\n",
        "これだけ！線形代数\r\n",
        "石井俊全 いしいとしあき 秀和システム\r\n",
        "\r\n",
        "を読む。\r\n",
        "\r\n"
      ]
    },
    {
      "cell_type": "code",
      "metadata": {
        "id": "XZrJ1ld8MQLB",
        "outputId": "628ed226-dde5-4288-fc78-2ac972632650",
        "colab": {
          "base_uri": "https://localhost:8080/",
          "height": 58
        }
      },
      "source": [
        "# 連立一次方程式\r\n",
        "%%latex\r\n",
        "\\displaystyle\r\n",
        "\\begin{array}{rcl}\r\n",
        "    y &=& 4 x - 3 \\\\\r\n",
        "    2 x + 3 y - 1 &=& 0\r\n",
        "\\end{array}"
      ],
      "execution_count": 5,
      "outputs": [
        {
          "output_type": "display_data",
          "data": {
            "text/latex": "\\displaystyle\n\\begin{array}{rcl}\ny &=& 4 x - 3 \\\\\n2 x + 3 y - 1 &=& 0\n\\end{array}",
            "text/plain": [
              "<IPython.core.display.Latex object>"
            ]
          },
          "metadata": {
            "tags": []
          }
        }
      ]
    },
    {
      "cell_type": "code",
      "metadata": {
        "id": "1bYVF-qKTto3",
        "outputId": "fa3481eb-8b02-4fe2-c265-470b22f30274",
        "colab": {
          "base_uri": "https://localhost:8080/",
          "height": 58
        }
      },
      "source": [
        "# 行列\r\n",
        "%%latex\r\n",
        "\\displaystyle\r\n",
        "\\begin{pmatrix}\r\n",
        "    3 & 4 \\\\\r\n",
        "    1 & 2\r\n",
        "\\end{pmatrix}\r\n",
        "~とか~\r\n",
        "\\begin{pmatrix}\r\n",
        "    1 & 2 & 7 \\\\\r\n",
        "    3 & 5 & 6\r\n",
        "\\end{pmatrix}"
      ],
      "execution_count": 8,
      "outputs": [
        {
          "output_type": "display_data",
          "data": {
            "text/latex": "\\displaystyle\n\\begin{pmatrix}\n    3 & 4 \\\\\n    1 & 2\n\\end{pmatrix}\n~とか~\n\\begin{pmatrix}\n    1 & 2 & 7 \\\\\n    3 & 5 & 6\n\\end{pmatrix}",
            "text/plain": [
              "<IPython.core.display.Latex object>"
            ]
          },
          "metadata": {
            "tags": []
          }
        }
      ]
    },
    {
      "cell_type": "code",
      "metadata": {
        "id": "aCCI-DfTVbCL",
        "outputId": "ee1b31f8-e77b-4155-82ec-4c40f5d585da",
        "colab": {
          "base_uri": "https://localhost:8080/",
          "height": 58
        }
      },
      "source": [
        "# 行列式\r\n",
        "%%latex\r\n",
        "\\displaystyle\r\n",
        "ちなみに~\r\n",
        "\\begin{pmatrix}\r\n",
        "    3 & 4 \\\\\r\n",
        "    1 & 2\r\n",
        "\\end{pmatrix}\r\n",
        "~の行列式は~2~になる。"
      ],
      "execution_count": 9,
      "outputs": [
        {
          "output_type": "display_data",
          "data": {
            "text/latex": "\\displaystyle\nちなみに~\n\\begin{pmatrix}\n    3 & 4 \\\\\n    1 & 2\n\\end{pmatrix}\n~の行列式は~2~になる。",
            "text/plain": [
              "<IPython.core.display.Latex object>"
            ]
          },
          "metadata": {
            "tags": []
          }
        }
      ]
    },
    {
      "cell_type": "code",
      "metadata": {
        "id": "HPlqUIdzWtpm",
        "outputId": "3108ce75-7f28-4d36-da1c-88279933d63a",
        "colab": {
          "base_uri": "https://localhost:8080/",
          "height": 79
        }
      },
      "source": [
        "# sympy によるベクトル表示\r\n",
        "from sympy import *\r\n",
        "init_printing()\r\n",
        "a = MatrixSymbol('a',2,1)\r\n",
        "display (a)\r\n",
        "a = ([[3],[-1]])\r\n",
        "display (Matrix(a))"
      ],
      "execution_count": 15,
      "outputs": [
        {
          "output_type": "display_data",
          "data": {
            "image/png": "[encoded data removed]",
            "text/latex": "$\\displaystyle a$",
            "text/plain": [
              "a"
            ]
          },
          "metadata": {
            "tags": []
          }
        },
        {
          "output_type": "display_data",
          "data": {
            "text/latex": "$\\displaystyle \\left[\\begin{matrix}3\\\\-1\\end{matrix}\\right]$",
            "text/plain": [
              "⎡3 ⎤\n",
              "⎢  ⎥\n",
              "⎣-1⎦"
            ]
          },
          "metadata": {
            "tags": []
          }
        }
      ]
    }
  ]
}