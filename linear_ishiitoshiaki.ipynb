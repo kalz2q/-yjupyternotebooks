{
  "nbformat": 4,
  "nbformat_minor": 0,
  "metadata": {
    "colab": {
      "name": "linear_ishiitoshiaki.ipynb",
      "provenance": [],
      "toc_visible": true,
      "authorship_tag": "ABX9TyPA/g2y9sZboL1LXjaM0H2c",
      "include_colab_link": true
    },
    "kernelspec": {
      "name": "python3",
      "display_name": "Python 3"
    }
  },
  "cells": [
    {
      "cell_type": "markdown",
      "metadata": {
        "id": "view-in-github",
        "colab_type": "text"
      },
      "source": [
        "<a href=\"https://colab.research.google.com/github/kalz2q/mycolabnotebooks/blob/master/linear_ishiitoshiaki.ipynb\" target=\"_parent\"><img src=\"https://colab.research.google.com/assets/colab-badge.svg\" alt=\"Open In Colab\"/></a>"
      ]
    },
    {
      "cell_type": "markdown",
      "metadata": {
        "id": "OZRLNjlYMMmq"
      },
      "source": [
        "# メモ\r\n",
        "\r\n",
        "これだけ！線形代数\r\n",
        "石井俊全 いしいとしあき 秀和システム\r\n",
        "\r\n",
        "を読む。\r\n",
        "\r\n"
      ]
    },
    {
      "cell_type": "code",
      "metadata": {
        "id": "XZrJ1ld8MQLB",
        "colab": {
          "base_uri": "https://localhost:8080/",
          "height": 58
        },
        "outputId": "628ed226-dde5-4288-fc78-2ac972632650"
      },
      "source": [
        "# 連立一次方程式\r\n",
        "%%latex\r\n",
        "\\displaystyle\r\n",
        "\\begin{array}{rcl}\r\n",
        "    y &=& 4 x - 3 \\\\\r\n",
        "    2 x + 3 y - 1 &=& 0\r\n",
        "\\end{array}"
      ],
      "execution_count": null,
      "outputs": [
        {
          "output_type": "display_data",
          "data": {
            "text/latex": "\\displaystyle\n\\begin{array}{rcl}\ny &=& 4 x - 3 \\\\\n2 x + 3 y - 1 &=& 0\n\\end{array}",
            "text/plain": [
              "<IPython.core.display.Latex object>"
            ]
          },
          "metadata": {
            "tags": []
          }
        }
      ]
    },
    {
      "cell_type": "code",
      "metadata": {
        "id": "1bYVF-qKTto3",
        "colab": {
          "base_uri": "https://localhost:8080/",
          "height": 58
        },
        "outputId": "fa3481eb-8b02-4fe2-c265-470b22f30274"
      },
      "source": [
        "# 行列\r\n",
        "%%latex\r\n",
        "\\displaystyle\r\n",
        "\\begin{pmatrix}\r\n",
        "    3 & 4 \\\\\r\n",
        "    1 & 2\r\n",
        "\\end{pmatrix}\r\n",
        "~とか~\r\n",
        "\\begin{pmatrix}\r\n",
        "    1 & 2 & 7 \\\\\r\n",
        "    3 & 5 & 6\r\n",
        "\\end{pmatrix}"
      ],
      "execution_count": null,
      "outputs": [
        {
          "output_type": "display_data",
          "data": {
            "text/latex": "\\displaystyle\n\\begin{pmatrix}\n    3 & 4 \\\\\n    1 & 2\n\\end{pmatrix}\n~とか~\n\\begin{pmatrix}\n    1 & 2 & 7 \\\\\n    3 & 5 & 6\n\\end{pmatrix}",
            "text/plain": [
              "<IPython.core.display.Latex object>"
            ]
          },
          "metadata": {
            "tags": []
          }
        }
      ]
    },
    {
      "cell_type": "code",
      "metadata": {
        "id": "aCCI-DfTVbCL",
        "colab": {
          "base_uri": "https://localhost:8080/",
          "height": 58
        },
        "outputId": "ee1b31f8-e77b-4155-82ec-4c40f5d585da"
      },
      "source": [
        "# 行列式\r\n",
        "%%latex\r\n",
        "\\displaystyle\r\n",
        "ちなみに~\r\n",
        "\\begin{pmatrix}\r\n",
        "    3 & 4 \\\\\r\n",
        "    1 & 2\r\n",
        "\\end{pmatrix}\r\n",
        "~の行列式は~2~になる。"
      ],
      "execution_count": null,
      "outputs": [
        {
          "output_type": "display_data",
          "data": {
            "text/latex": "\\displaystyle\nちなみに~\n\\begin{pmatrix}\n    3 & 4 \\\\\n    1 & 2\n\\end{pmatrix}\n~の行列式は~2~になる。",
            "text/plain": [
              "<IPython.core.display.Latex object>"
            ]
          },
          "metadata": {
            "tags": []
          }
        }
      ]
    },
    {
      "cell_type": "code",
      "metadata": {
        "id": "HPlqUIdzWtpm",
        "colab": {
          "base_uri": "https://localhost:8080/",
          "height": 79
        },
        "outputId": "3108ce75-7f28-4d36-da1c-88279933d63a"
      },
      "source": [
        "# sympy によるベクトル表示\r\n",
        "from sympy import *\r\n",
        "init_printing()\r\n",
        "a = MatrixSymbol('a',2,1)\r\n",
        "display (a)\r\n",
        "a = ([[3],[-1]])\r\n",
        "display (Matrix(a))"
      ],
      "execution_count": null,
      "outputs": [
        {
          "output_type": "display_data",
          "data": {
            "image/png": "[encoded data removed]",
            "text/latex": "$\\displaystyle a$",
            "text/plain": [
              "a"
            ]
          },
          "metadata": {
            "tags": []
          }
        },
        {
          "output_type": "display_data",
          "data": {
            "text/latex": "$\\displaystyle \\left[\\begin{matrix}3\\\\-1\\end{matrix}\\right]$",
            "text/plain": [
              "⎡3 ⎤\n",
              "⎢  ⎥\n",
              "⎣-1⎦"
            ]
          },
          "metadata": {
            "tags": []
          }
        }
      ]
    },
    {
      "cell_type": "code",
      "metadata": {
        "id": "8NepXu4kobTk",
        "outputId": "fc3be3e7-b6df-4c0d-85e6-8466035b74e8",
        "colab": {
          "base_uri": "https://localhost:8080/",
          "height": 39
        }
      },
      "source": [
        "# ベクトルの内積\r\n",
        "%%latex\r\n",
        "\\bm{a}\\cdot\\bm{b}=|\\bm{a}||\\bm{b}| \\cos \\theta"
      ],
      "execution_count": 16,
      "outputs": [
        {
          "output_type": "display_data",
          "data": {
            "text/latex": "\\bm{a}\\cdot\\bm{b}=|\\bm{a}||\\bm{b}| \\cos \\theta",
            "text/plain": [
              "<IPython.core.display.Latex object>"
            ]
          },
          "metadata": {
            "tags": []
          }
        }
      ]
    },
    {
      "cell_type": "code",
      "metadata": {
        "id": "c_QyrfP15fxb",
        "outputId": "2dc332b7-1c56-4af0-c02e-2ee102501840",
        "colab": {
          "base_uri": "https://localhost:8080/",
          "height": 98
        }
      },
      "source": [
        "# 3元連立1次方程式 p.89\r\n",
        "%%latex\r\n",
        "\\displaystyle\r\n",
        "\\left \\{\r\n",
        "\\begin{array}{rrrr}\r\n",
        "    3 x + & y+& 2z=& 9 \\\\\r\n",
        "    x - & 2 y + & + z =& 8\\\\\r\n",
        "    -2x-& y+& z=& -3\r\n",
        "\\end{array}\r\n",
        "\\right . \\\\\r\n",
        "を解く。"
      ],
      "execution_count": 22,
      "outputs": [
        {
          "output_type": "display_data",
          "data": {
            "text/latex": "\\displaystyle\n\\left \\{\n\\begin{array}{rrrr}\n    3 x + & y+& 2z=& 9 \\\\\n    x - & 2 y + & + z =& 8\\\\\n    -2x-& y+& z=& -3\n\\end{array}\n\\right . \\\\\nを解く。",
            "text/plain": [
              "<IPython.core.display.Latex object>"
            ]
          },
          "metadata": {
            "tags": []
          }
        }
      ]
    },
    {
      "cell_type": "code",
      "metadata": {
        "id": "HwXHq6N_6j84",
        "outputId": "efca2a0d-ca5d-4f6b-eb9a-193c0a42f6cb",
        "colab": {
          "base_uri": "https://localhost:8080/",
          "height": 197
        }
      },
      "source": [
        "from sympy import *\r\n",
        "init_printing()\r\n",
        "A = Matrix([[3,1,2],[1,-2,1],[-2,-1,1]])\r\n",
        "x,y,z = symbols('x,y,z')\r\n",
        "p = Matrix([[x],[y],[z]])\r\n",
        "b = Matrix([[9],[8],[-3]])\r\n",
        "display(Eq(A*p, b))\r\n",
        "print()\r\n",
        "display(solve(A*p-b,x,y,z))"
      ],
      "execution_count": 31,
      "outputs": [
        {
          "output_type": "display_data",
          "data": {
            "text/latex": "$\\displaystyle \\left[\\begin{matrix}3 & 1 & 2\\\\1 & -2 & 1\\\\-2 & -1 & 1\\end{matrix}\\right]$",
            "text/plain": [
              "⎡3   1   2⎤\n",
              "⎢         ⎥\n",
              "⎢1   -2  1⎥\n",
              "⎢         ⎥\n",
              "⎣-2  -1  1⎦"
            ]
          },
          "metadata": {
            "tags": []
          }
        },
        {
          "output_type": "stream",
          "text": [
            "\n"
          ],
          "name": "stdout"
        },
        {
          "output_type": "display_data",
          "data": {
            "text/latex": "$\\displaystyle \\left[\\begin{matrix}3 x + y + 2 z\\\\x - 2 y + z\\\\- 2 x - y + z\\end{matrix}\\right] = \\left[\\begin{matrix}9\\\\8\\\\-3\\end{matrix}\\right]$",
            "text/plain": [
              "⎡3⋅x + y + 2⋅z⎤   ⎡9 ⎤\n",
              "⎢             ⎥   ⎢  ⎥\n",
              "⎢ x - 2⋅y + z ⎥ = ⎢8 ⎥\n",
              "⎢             ⎥   ⎢  ⎥\n",
              "⎣-2⋅x - y + z ⎦   ⎣-3⎦"
            ]
          },
          "metadata": {
            "tags": []
          }
        },
        {
          "output_type": "stream",
          "text": [
            "\n"
          ],
          "name": "stdout"
        },
        {
          "output_type": "display_data",
          "data": {
            "image/png": "[encoded data removed]",
            "text/latex": "$\\displaystyle \\left\\{ x : 3, \\  y : -2, \\  z : 1\\right\\}$",
            "text/plain": [
              "{x: 3, y: -2, z: 1}"
            ]
          },
          "metadata": {
            "tags": []
          }
        }
      ]
    }
  ]
}