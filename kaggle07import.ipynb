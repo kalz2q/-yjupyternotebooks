{
  "nbformat": 4,
  "nbformat_minor": 0,
  "metadata": {
    "colab": {
      "name": "kaggle07import.ipynb",
      "provenance": [],
      "toc_visible": true,
      "authorship_tag": "ABX9TyOIoVz3FrYjan/G79utucaa",
      "include_colab_link": true
    },
    "kernelspec": {
      "name": "python3",
      "display_name": "Python 3"
    }
  },
  "cells": [
    {
      "cell_type": "markdown",
      "metadata": {
        "id": "view-in-github",
        "colab_type": "text"
      },
      "source": [
        "<a href=\"https://colab.research.google.com/github/kalz2q/mycolabnotebooks/blob/master/kaggle07import.ipynb\" target=\"_parent\"><img src=\"https://colab.research.google.com/assets/colab-badge.svg\" alt=\"Open In Colab\"/></a>"
      ]
    },
    {
      "cell_type": "code",
      "metadata": {
        "id": "o_I3yIthlqQl",
        "colab_type": "code",
        "colab": {}
      },
      "source": [
        ""
      ],
      "execution_count": null,
      "outputs": []
    },
    {
      "cell_type": "markdown",
      "metadata": {
        "id": "B-HUQUKJlyFG",
        "colab_type": "text"
      },
      "source": [
        "# メモ\n",
        "\n",
        "1. kaggleのPython tutorialをベスにColabのノートブックを作成している。\n",
        "1. Colabで開いて読まれることを想定。\n",
        "1. 元ファイル ( https://www.kaggle.com/colinmorris/working-with-external-libraries )\n"
      ]
    },
    {
      "cell_type": "markdown",
      "metadata": {
        "id": "u4_guYFInuq7",
        "colab_type": "text"
      },
      "source": [
        "# はじめに\n",
        "\n",
        "この章では、インポート`import`、ライブラリー`library`とそのオブジェクト`object`、演算子オーバーロード`operator overload`について学ぶ。"
      ]
    },
    {
      "cell_type": "markdown",
      "metadata": {
        "id": "y8zUSv8vtenR",
        "colab_type": "text"
      },
      "source": [
        "# Imports\n",
        "\n",
        "これまで学んできた型`type`と関数`function`は言語に始めから組み込まれているものだった。\n",
        "\n",
        "しかし、Pythonの利点はPythonのために書かれ、データサイエンスなどで利用される高品質のライブラリーがたくさんあることである。\n",
        "\n",
        "そのいくつかは標準ライブラリーで、Pythonの動く環境ならば必ずあるが、それ以外はかならずしもPythonと一緒ではないが、簡単に加えることができる。\n",
        "\n",
        "いずれにせよ、`import`によってライブラリーにアクセスすることになる。\n"
      ]
    },
    {
      "cell_type": "markdown",
      "metadata": {
        "id": "1ltvjqdAHdon",
        "colab_type": "text"
      },
      "source": [
        "\n",
        "import math\n",
        "\n",
        "print(\"It's math! It has type {}\".format(type(math)))\n"
      ]
    },
    {
      "cell_type": "markdown",
      "metadata": {
        "id": "Us1Kkb6YHjT7",
        "colab_type": "text"
      },
      "source": [
        "\n",
        "It's math! It has type <class 'module'>\n",
        "\n",
        "math is a module. A module is just a collection of variables (a namespace, if you like) defined by someone else. We can see all the names in math using the built-in function dir()."
      ]
    },
    {
      "cell_type": "markdown",
      "metadata": {
        "id": "n5cEe-d5HnW6",
        "colab_type": "text"
      },
      "source": [
        "\n",
        "```\n",
        "print(dir(math))\n",
        "['__doc__', '__file__', '__loader__', '__name__', '__package__', '__spec__', 'acos', 'acosh', 'asin', 'asinh', 'atan', 'atan2', 'atanh', 'ceil', 'copysign', 'cos', 'cosh', 'degrees', 'e', 'erf', 'erfc', 'exp', 'expm1', 'fabs', 'factorial', 'floor', 'fmod', 'frexp', 'fsum', 'gamma', 'gcd', 'hypot', 'inf', 'isclose', 'isfinite', 'isinf', 'isnan', 'ldexp', 'lgamma', 'log', 'log10', 'log1p', 'log2', 'modf', 'nan', 'pi', 'pow', 'radians', 'sin', 'sinh', 'sqrt', 'tan', 'tanh', 'tau', 'trunc']\n",
        "```"
      ]
    },
    {
      "cell_type": "markdown",
      "metadata": {
        "id": "2qpo6DicHrXS",
        "colab_type": "text"
      },
      "source": [
        "\n",
        "We can access these variables using dot syntax. Some of them refer to simple values, like math.pi:\n"
      ]
    },
    {
      "cell_type": "markdown",
      "metadata": {
        "id": "XLVeVMFPHuPZ",
        "colab_type": "text"
      },
      "source": [
        "\n",
        "print(\"pi to 4 significant digits = {:.4}\".format(math.pi))\n",
        "pi to 4 significant digits = 3.142\n"
      ]
    },
    {
      "cell_type": "markdown",
      "metadata": {
        "id": "qbPzhVVUHxa1",
        "colab_type": "text"
      },
      "source": [
        "\n",
        "But most of what we'll find in the module are functions, like math.log:\n"
      ]
    },
    {
      "cell_type": "markdown",
      "metadata": {
        "id": "gSOBuH3iHzc-",
        "colab_type": "text"
      },
      "source": [
        "\n",
        "```\n",
        "math.log(32, 2)\n",
        "5.0\n",
        "```\n"
      ]
    },
    {
      "cell_type": "markdown",
      "metadata": {
        "id": "jfwpcNAAH07M",
        "colab_type": "text"
      },
      "source": [
        "\n",
        "Of course, if we don't know what math.log does, we can call help() on it:"
      ]
    },
    {
      "cell_type": "markdown",
      "metadata": {
        "id": "vGSlgo50H5Tj",
        "colab_type": "text"
      },
      "source": [
        "\n",
        "```\n",
        "help(math.log)\n",
        "```\n"
      ]
    },
    {
      "cell_type": "markdown",
      "metadata": {
        "id": "k1lCUHLjH8h0",
        "colab_type": "text"
      },
      "source": [
        "\n",
        "Help on built-in function log in module math:\n"
      ]
    },
    {
      "cell_type": "markdown",
      "metadata": {
        "id": "KFtfUAkNH914",
        "colab_type": "text"
      },
      "source": [
        "\n",
        "```\n",
        "log(...)\n",
        "    log(x[, base])\n",
        "    \n",
        "    Return the logarithm of x to the given base.\n",
        "    If the base not specified, returns the natural logarithm (base e) of x.\n",
        "```"
      ]
    },
    {
      "cell_type": "markdown",
      "metadata": {
        "id": "4orYzNz3H_XR",
        "colab_type": "text"
      },
      "source": [
        "\n",
        "We can also call help() on the module itself. This will give us the combined documentation for all the functions and values in the module (as well as a high-level description of the module). Click the \"output\" button to see the whole math help page."
      ]
    },
    {
      "cell_type": "markdown",
      "metadata": {
        "id": "tGw6ZQx8IBwW",
        "colab_type": "text"
      },
      "source": [
        "\n",
        "```\n",
        "help(math)\n",
        "Other import syntax\n",
        "```"
      ]
    },
    {
      "cell_type": "markdown",
      "metadata": {
        "id": "MCc1KPhoIDBw",
        "colab_type": "text"
      },
      "source": [
        "\n",
        "If we know we'll be using functions in math frequently we can import it under a shorter alias to save some typing (though in this case \"math\" is already pretty short)."
      ]
    },
    {
      "cell_type": "markdown",
      "metadata": {
        "id": "G_7kQ9CXIEUA",
        "colab_type": "text"
      },
      "source": [
        "\n",
        "```\n",
        "import math as mt\n",
        "mt.pi\n",
        "3.141592653589793\n",
        "```"
      ]
    },
    {
      "cell_type": "markdown",
      "metadata": {
        "id": "7kB7DppvIFo9",
        "colab_type": "text"
      },
      "source": [
        "\n",
        "You may have seen code that does this with certain popular libraries like Pandas, Numpy, Tensorflow, or Matplotlib. For example, it's a common convention to import numpy as np and import pandas as pd.\n",
        "\n",
        "The as simply renames the imported module. It's equivalent to doing something like:"
      ]
    },
    {
      "cell_type": "markdown",
      "metadata": {
        "id": "v5TMatL4IHLI",
        "colab_type": "text"
      },
      "source": [
        "\n",
        "```\n",
        "import math\n",
        "mt = math\n",
        "```"
      ]
    },
    {
      "cell_type": "markdown",
      "metadata": {
        "id": "22lJaLnBIIVI",
        "colab_type": "text"
      },
      "source": [
        "\n",
        "Wouldn't it be great if we could refer to all the variables in the math module by themselves? i.e. if we could just refer to pi instead of math.pi or mt.pi? Good news: we can do that."
      ]
    },
    {
      "cell_type": "markdown",
      "metadata": {
        "id": "vKothjafIJtH",
        "colab_type": "text"
      },
      "source": [
        "\n",
        "```"
      ]
    },
    {
      "cell_type": "markdown",
      "metadata": {
        "id": "a0V1_ipnIMVd",
        "colab_type": "text"
      },
      "source": [
        "\n",
        "from math import *\n",
        "print(pi, log(32, 2))\n",
        "3.141592653589793 5.0\n",
        "import * makes all the module's variables directly accessible to you (without any dotted prefix)."
      ]
    },
    {
      "cell_type": "markdown",
      "metadata": {
        "id": "rZIub2pKINvb",
        "colab_type": "text"
      },
      "source": [
        "\n",
        "```\n",
        "Bad news: some purists might grumble at you for doing this.\n",
        "\n",
        "Worse: they kind of have a point.\n",
        "```"
      ]
    },
    {
      "cell_type": "markdown",
      "metadata": {
        "id": "nVBHSIGQIQe_",
        "colab_type": "text"
      },
      "source": [
        "\n",
        "from math import *\n",
        "from numpy import *\n",
        "print(pi, log(32, 2))\n",
        "---------------------------------------------------------------------------\n",
        "TypeError                                 Traceback (most recent call last)\n",
        "<ipython-input-10-5045b296ad83> in <module>\n",
        "      1 from math import *\n",
        "      2 from numpy import *\n",
        "----> 3 print(pi, log(32, 2))\n",
        "```\n",
        "TypeError: return arrays must be of ArrayType\n",
        "\n"
      ]
    },
    {
      "cell_type": "markdown",
      "metadata": {
        "id": "n1VnvIdyIS-l",
        "colab_type": "text"
      },
      "source": [
        "\n",
        "What the what? But it worked before!\n",
        "\n",
        "These kinds of \"star imports\" can occasionally lead to weird, difficult-to-debug situations.\n",
        "\n",
        "The problem in this case is that the math and numpy modules both have functions called log, but they have different semantics. Because we import from numpy second, its log overwrites (or \"shadows\") the log variable we imported from math.\n",
        "\n",
        "A good compromise is to import only the specific things we'll need from each module:\n",
        "```"
      ]
    },
    {
      "cell_type": "markdown",
      "metadata": {
        "id": "691e4kZMIVf1",
        "colab_type": "text"
      },
      "source": [
        "\n",
        "from math import log, pi\n",
        "from numpy import asarray\n",
        "Submodules"
      ]
    },
    {
      "cell_type": "markdown",
      "metadata": {
        "id": "iFAtSbecIW15",
        "colab_type": "text"
      },
      "source": [
        "\n",
        "```\n",
        "\n",
        "We've seen that modules contain variables which can refer to functions or values. Something to be aware of is that they can also have variables referring to other modules.\n",
        "```"
      ]
    },
    {
      "cell_type": "markdown",
      "metadata": {
        "id": "O_Kwu2EFIYkn",
        "colab_type": "text"
      },
      "source": [
        "\n",
        "import numpy\n",
        "print(\"numpy.random is a\", type(numpy.random))\n",
        "print(\"it contains names such as...\",\n",
        "      dir(numpy.random)[-15:]\n",
        "     )\n",
        "numpy.random is a <class 'module'>\n",
        "it contains names such as... ['set_state', 'shuffle', 'standard_cauchy', 'standard_exponential', 'standard_gamma', 'standard_normal', 'standard_t', 'test', 'triangular', 'uniform', 'vonmises', 'wald', 'warnings', 'weibull', 'zipf']\n",
        "```\n"
      ]
    },
    {
      "cell_type": "markdown",
      "metadata": {
        "id": "f7-fv7oIIeKH",
        "colab_type": "text"
      },
      "source": [
        "\n",
        "So if we import numpy as above, then calling a function in the random \"submodule\" will require two dots.\n",
        "```"
      ]
    },
    {
      "cell_type": "markdown",
      "metadata": {
        "id": "btIg6Hj9If-_",
        "colab_type": "text"
      },
      "source": [
        "\n",
        "# Roll 10 dice\n",
        "\n",
        "rolls = numpy.random.randint(low=1, high=6, size=10)\n",
        "rolls\n",
        "array([4, 1, 2, 2, 1, 3, 1, 1, 5, 2])\n",
        "```"
      ]
    },
    {
      "cell_type": "markdown",
      "metadata": {
        "id": "JPtehLhUIhRl",
        "colab_type": "text"
      },
      "source": [
        "\n",
        "Oh the places you'll go, oh the objects you'll see\n",
        "So after 6 lessons, you're a pro with ints, floats, bools, lists, strings, and dicts (right?).\n",
        "\n",
        "Even if that were true, it doesn't end there. As you work with various libraries for specialized tasks, you'll find that they define their own types which you'll have to learn to work with. For example, if you work with the graphing library matplotlib, you'll be coming into contact with objects it defines which represent Subplots, Figures, TickMarks, and Annotations. pandas functions will give you DataFrames and Series.\n",
        "\n",
        "In this section, I want to share with you a quick survival guide for working with strange types.\n"
      ]
    },
    {
      "cell_type": "markdown",
      "metadata": {
        "id": "eRnzJg5rIi_E",
        "colab_type": "text"
      },
      "source": [
        "\n",
        "### Three tools for understanding strange objects\n",
        "In the cell above, we saw that calling a numpy function gave us an \"array\". We've never seen anything like this before (not in this course anyways). But don't panic: we have three familiar builtin functions to help us here.\n",
        "```"
      ]
    },
    {
      "cell_type": "markdown",
      "metadata": {
        "id": "Mgc9MR2CIlH9",
        "colab_type": "text"
      },
      "source": [
        "\n",
        "1: type() (what is this thing?)\n",
        "\n",
        "type(rolls)\n",
        "numpy.ndarray\n",
        "2: dir() (what can I do with it?)\n"
      ]
    },
    {
      "cell_type": "markdown",
      "metadata": {
        "id": "ZhCv_6-OIoK0",
        "colab_type": "text"
      },
      "source": [
        "\n",
        "print(dir(rolls))\n",
        "['T', '__abs__', '__add__', '__and__', '__array__', '__array_finalize__', '__array_function__', '__array_interface__', '__array_prepare__', '__array_priority__', '__array_struct__', '__array_ufunc__', '__array_wrap__', '__bool__', '__class__', '__complex__', '__contains__', '__copy__', '__deepcopy__', '__delattr__', '__delitem__', '__dir__', '__divmod__', '__doc__', '__eq__', '__float__', '__floordiv__', '__format__', '__ge__', '__getattribute__', '__getitem__', '__gt__', '__hash__', '__iadd__', '__iand__', '__ifloordiv__', '__ilshift__', '__imatmul__', '__imod__', '__imul__', '__index__', '__init__', '__init_subclass__', '__int__', '__invert__', '__ior__', '__ipow__', '__irshift__', '__isub__', '__iter__', '__itruediv__', '__ixor__', '__le__', '__len__', '__lshift__', '__lt__', '__matmul__', '__mod__', '__mul__', '__ne__', '__neg__', '__new__', '__or__', '__pos__', '__pow__', '__radd__', '__rand__', '__rdivmod__', '__reduce__', '__reduce_ex__', '__repr__', '__rfloordiv__', '__rlshift__', '__rmatmul__', '__rmod__', '__rmul__', '__ror__', '__rpow__', '__rrshift__', '__rshift__', '__rsub__', '__rtruediv__', '__rxor__', '__setattr__', '__setitem__', '__setstate__', '__sizeof__', '__str__', '__sub__', '__subclasshook__', '__truediv__', '__xor__', 'all', 'any', 'argmax', 'argmin', 'argpartition', 'argsort', 'astype', 'base', 'byteswap', 'choose', 'clip', 'compress', 'conj', 'conjugate', 'copy', 'ctypes', 'cumprod', 'cumsum', 'data', 'diagonal', 'dot', 'dtype', 'dump', 'dumps', 'fill', 'flags', 'flat', 'flatten', 'getfield', 'imag', 'item', 'itemset', 'itemsize', 'max', 'mean', 'min', 'nbytes', 'ndim', 'newbyteorder', 'nonzero', 'partition', 'prod', 'ptp', 'put', 'ravel', 'real', 'repeat', 'reshape', 'resize', 'round', 'searchsorted', 'setfield', 'setflags', 'shape', 'size', 'sort', 'squeeze', 'std', 'strides', 'sum', 'swapaxes', 'take', 'tobytes', 'tofile', 'tolist', 'tostring', 'trace', 'transpose', 'var', 'view']\n"
      ]
    },
    {
      "cell_type": "markdown",
      "metadata": {
        "id": "-IxwuXxNIqIA",
        "colab_type": "text"
      },
      "source": [
        "\n",
        "# What am I trying to do with this dice roll data? Maybe I want the average roll, in which case the \"mean\"\n",
        "# method looks promising...\n"
      ]
    },
    {
      "cell_type": "markdown",
      "metadata": {
        "id": "lKzV7A5MIt3z",
        "colab_type": "text"
      },
      "source": [
        "\n",
        "rolls.mean()\n",
        "2.2\n",
        "# Or maybe I just want to get back on familiar ground, in which case I might want to check out \"tolist\"\n",
        "rolls.tolist()\n",
        "[4, 1, 2, 2, 1, 3, 1, 1, 5, 2]\n"
      ]
    },
    {
      "cell_type": "markdown",
      "metadata": {
        "id": "0qQ2pd3uIwIm",
        "colab_type": "text"
      },
      "source": [
        "\n",
        "3: help() (tell me more)\n",
        "\n",
        "# That \"ravel\" attribute sounds interesting. I'm a big classical music fan.\n",
        "help(rolls.ravel)\n",
        "Help on built-in function ravel:\n",
        "\n",
        "ravel(...) method of numpy.ndarray instance\n",
        "    a.ravel([order])\n",
        "    \n",
        "    Return a flattened array.\n",
        "    \n",
        "    Refer to `numpy.ravel` for full documentation.\n",
        "    \n",
        "    See Also\n",
        "    --------\n",
        "    numpy.ravel : equivalent function\n",
        "    \n",
        "    ndarray.flat : a flat iterator on the array.\n"
      ]
    },
    {
      "cell_type": "markdown",
      "metadata": {
        "id": "UxqnQhKZIyks",
        "colab_type": "text"
      },
      "source": [
        "\n",
        "# Okay, just tell me everything there is to know about numpy.ndarray\n",
        "# (Click the \"output\" button to see the novel-length output)\n",
        "help(rolls)\n",
        "(Of course, you might also prefer to check out the online docs)\n",
        "```"
      ]
    },
    {
      "cell_type": "markdown",
      "metadata": {
        "id": "zTIVwH45I0Ei",
        "colab_type": "text"
      },
      "source": [
        "\n",
        "# Operator overloading\n",
        "What's the value of the below expression?\n",
        "```\n",
        "[3, 4, 1, 2, 2, 1] + 10\n",
        "---------------------------------------------------------------------------\n",
        "TypeError                                 Traceback (most recent call last)\n",
        "<ipython-input-20-a2508fc27c2b> in <module>\n",
        "----> 1 [3, 4, 1, 2, 2, 1] + 10\n",
        "```\n"
      ]
    },
    {
      "cell_type": "markdown",
      "metadata": {
        "id": "ASRJQGoGI1WD",
        "colab_type": "text"
      },
      "source": [
        "\n",
        "TypeError: can only concatenate list (not \"int\") to list\n",
        "What a silly question. Of course it's an error.\n",
        "\n",
        "But what about...\n",
        "```"
      ]
    },
    {
      "cell_type": "markdown",
      "metadata": {
        "id": "t-4oNFEQI24L",
        "colab_type": "text"
      },
      "source": [
        "\n",
        "rolls + 10\n",
        "array([14, 11, 12, 12, 11, 13, 11, 11, 15, 12])\n",
        "```\n"
      ]
    },
    {
      "cell_type": "markdown",
      "metadata": {
        "id": "kdVs_Z5xI5ci",
        "colab_type": "text"
      },
      "source": [
        "\n",
        "We might think that Python strictly polices how pieces of its core syntax behave such as +, <, in, ==, or square brackets for indexing and slicing. But in fact, it takes a very hands-off approach. When you define a new type, you can choose how addition works for it, or what it means for an object of that type to be equal to something else.\n",
        "\n",
        "The designers of lists decided that adding them to numbers wasn't allowed. The designers of numpy arrays went a different way (adding the number to each element of the array).\n",
        "\n",
        "Here are a few more examples of how numpy arrays interact unexpectedly with Python operators (or at least differently from lists).\n",
        "```\n"
      ]
    },
    {
      "cell_type": "markdown",
      "metadata": {
        "id": "1UziEVEEI7Gi",
        "colab_type": "text"
      },
      "source": [
        "\n",
        "# At which indices are the dice less than or equal to 3?\n",
        "rolls <= 3\n",
        "array([False,  True,  True,  True,  True,  True,  True,  True, False,\n",
        "        True])\n",
        "xlist = [[1,2,3],[2,4,6],]\n"
      ]
    },
    {
      "cell_type": "markdown",
      "metadata": {
        "id": "VEDOxLzgI85x",
        "colab_type": "text"
      },
      "source": [
        "\n",
        "# Create a 2-dimensional array\n",
        "x = numpy.asarray(xlist)\n",
        "print(\"xlist = {}\\nx =\\n{}\".format(xlist, x))\n",
        "xlist = [[1, 2, 3], [2, 4, 6]]\n",
        "x =\n",
        "[[1 2 3]\n",
        " [2 4 6]]"
      ]
    },
    {
      "cell_type": "markdown",
      "metadata": {
        "id": "kR56eDFKI_pT",
        "colab_type": "text"
      },
      "source": [
        "\n",
        "# Get the last element of the second row of our numpy array\n",
        "x[1,-1]\n",
        "6"
      ]
    },
    {
      "cell_type": "markdown",
      "metadata": {
        "id": "HUrEZWTdJA0u",
        "colab_type": "text"
      },
      "source": [
        "\n",
        "# Get the last element of the second sublist of our nested list?\n",
        "xlist[1,-1]\n",
        "---------------------------------------------------------------------------\n",
        "TypeError                                 Traceback (most recent call last)\n",
        "<ipython-input-25-e2f4c7f35788> in <module>\n",
        "      1 # Get the last element of the second sublist of our nested list?\n",
        "----> 2 xlist[1,-1]\n",
        "```\n"
      ]
    },
    {
      "cell_type": "markdown",
      "metadata": {
        "id": "B-K050V4JCc9",
        "colab_type": "text"
      },
      "source": [
        "\n",
        "TypeError: list indices must be integers or slices, not tuple\n",
        "numpy's ndarray type is specialized for working with multi-dimensional data, so it defines its own logic for indexing, allowing us to index by a tuple to specify the index at each dimension.\n",
        "```\n",
        "When does 1 + 1 not equal 2?\n",
        "```\n",
        "\n",
        "Things can get weirder than this. You may have heard of (or even used) tensorflow, a Python library popularly used for deep learning. It makes extensive use of operator overloading.\n",
        "```"
      ]
    },
    {
      "cell_type": "markdown",
      "metadata": {
        "id": "hF5PedY3JEfn",
        "colab_type": "text"
      },
      "source": [
        "\n",
        "import tensorflow as tf\n"
      ]
    },
    {
      "cell_type": "markdown",
      "metadata": {
        "id": "aiUtgxYbJF9z",
        "colab_type": "text"
      },
      "source": [
        "\n",
        "# Create two constants, each with value 1\n",
        "a = tf.constant(1)\n",
        "b = tf.constant(1)\n",
        "# Add them together to get...\n",
        "a + b\n",
        "<tf.Tensor 'add:0' shape=() dtype=int32>\n",
        "```\n"
      ]
    },
    {
      "cell_type": "markdown",
      "metadata": {
        "id": "LmMtlrpsJHwL",
        "colab_type": "text"
      },
      "source": [
        "\n",
        "a + b isn't 2, it is (to quote tensorflow's documentation)...\n",
        "\n",
        "a symbolic handle to one of the outputs of an Operation. It does not hold the values of that operation's output, but instead provides a means of computing those values in a TensorFlow tf.Session.\n",
        "\n",
        "It's important just to be aware of the fact that this sort of thing is possible and that libraries will often use operator overloading in non-obvious or magical-seeming ways.\n",
        "\n",
        "Understanding how Python's operators work when applied to ints, strings, and lists is no guarantee that you'll be able to immediately understand what they do when applied to a tensorflow Tensor, or a numpy ndarray, or a pandas DataFrame.\n",
        "\n",
        "Once you've had a little taste of DataFrames, for example, an expression like the one below starts to look appealingly intuitive:\n",
        "```"
      ]
    },
    {
      "cell_type": "markdown",
      "metadata": {
        "id": "J4H9ckWIJKNs",
        "colab_type": "text"
      },
      "source": [
        "\n",
        "# Get the rows with population over 1m in South America\n",
        "df[(df['population'] > 10**6) & (df['continent'] == 'South America')]\n",
        "```"
      ]
    },
    {
      "cell_type": "markdown",
      "metadata": {
        "id": "vxkqvXGUJMPI",
        "colab_type": "text"
      },
      "source": [
        "\n",
        "But why does it work? The example above features something like 5 different overloaded operators. What's each of those operations doing? It can help to know the answer when things start going wrong.\n",
        "\n",
        "Curious how it all works?\n",
        "\n",
        "Have you ever called help() or dir() on an object and wondered what the heck all those names with the double-underscores were?\n",
        "```"
      ]
    },
    {
      "cell_type": "markdown",
      "metadata": {
        "id": "NqqPHWEbJNvw",
        "colab_type": "text"
      },
      "source": [
        "\n",
        "print(dir(list))\n",
        "['__add__', '__class__', '__contains__', '__delattr__', '__delitem__', '__dir__', '__doc__', '__eq__', '__format__', '__ge__', '__getattribute__', '__getitem__', '__gt__', '__hash__', '__iadd__', '__imul__', '__init__', '__init_subclass__', '__iter__', '__le__', '__len__', '__lt__', '__mul__', '__ne__', '__new__', '__reduce__', '__reduce_ex__', '__repr__', '__reversed__', '__rmul__', '__setattr__', '__setitem__', '__sizeof__', '__str__', '__subclasshook__', 'append', 'clear', 'copy', 'count', 'extend', 'index', 'insert', 'pop', 'remove', 'reverse', 'sort']\n",
        "```"
      ]
    },
    {
      "cell_type": "markdown",
      "metadata": {
        "id": "QoX2Z_QHJO1o",
        "colab_type": "text"
      },
      "source": [
        "\n",
        "This turns out to be directly related to operator overloading.\n",
        "\n",
        "When Python programmers want to define how operators behave on their types, they do so by implementing methods with special names beginning and ending with 2 underscores such as __lt__, __setattr__, or __contains__. Generally, names that follow this double-underscore format have a special meaning to Python.\n",
        "\n",
        "So, for example, the expression x in [1, 2, 3] is actually calling the list method __contains__ behind-the-scenes. It's equivalent to (the much uglier) [1, 2, 3].__contains__(x).\n",
        "\n",
        "If you're curious to learn more, you can check out Python's official documentation, which describes many, many more of these special \"underscores\" methods.\n",
        "\n",
        "We won't be defining our own types in these lessons (if only there was time!), but I hope you'll get to experience the joys of defining your own wonderful, weird types later down the road.\n",
        "\n",
        "Your turn!\n",
        "Head over to the final coding exercise for one more round of coding questions involving imports, working with unfamiliar objects, and, of course, more gambling."
      ]
    },
    {
      "cell_type": "markdown",
      "metadata": {
        "id": "PiyXN2kfJQe3",
        "colab_type": "text"
      },
      "source": [
        "# 練習問題"
      ]
    },
    {
      "cell_type": "markdown",
      "metadata": {
        "id": "3mDHFch_JnVI",
        "colab_type": "text"
      },
      "source": [
        "Exercises\n",
        "\n",
        "\n",
        "\n",
        "\n",
        "\n",
        "1.\n",
        "After completing the exercises on lists and tuples, Jimmy noticed that, according to his estimate_average_slot_payout function, the slot machines at the Learn Python Casino are actually rigged against the house, and are profitable to play in the long run.\n",
        "\n",
        "Starting with $200 in his pocket, Jimmy has played the slots 500 times, recording his new balance in a list after each spin. He used Python's matplotlib library to make a graph of his balance over time:\n",
        "\n",
        "\n",
        "\n",
        "\n",
        "\n",
        "\n",
        "# Import the jimmy_slots submodule\n",
        "from learntools.python import jimmy_slots\n",
        "# Call the get_graph() function to get Jimmy's graph\n",
        "graph = jimmy_slots.get_graph()\n",
        "graph\n",
        "\n",
        "\n",
        "\n",
        "\n",
        "\n",
        "As you can see, he's hit a bit of bad luck recently. He wants to tweet this along with some choice emojis, but, as it looks right now, his followers will probably find it confusing. He's asked if you can help him make the following changes:\n",
        "\n",
        "Add the title \"Results of 500 slot machine pulls\"\n",
        "Make the y-axis start at 0.\n",
        "Add the label \"Balance\" to the y-axis\n",
        "After calling type(graph) you see that Jimmy's graph is of type matplotlib.axes._subplots.AxesSubplot. Hm, that's a new one. By calling dir(graph), you find three methods that seem like they'll be useful: .set_title(), .set_ylim(), and .set_ylabel().\n",
        "\n",
        "Use these methods to complete the function prettify_graph according to Jimmy's requests. We've already checked off the first request for you (setting a title).\n",
        "\n",
        "(Remember: if you don't know what these methods do, use the help() function!)\n",
        "\n",
        "\n",
        "\n",
        "\n",
        "\n",
        "\n",
        "def prettify_graph(graph):\n",
        "    \"\"\"Modify the given graph according to Jimmy's requests: add a title, make the y-axis\n",
        "    start at 0, label the y-axis. (And, if you're feeling ambitious, format the tick marks\n",
        "    as dollar amounts using the \"$\" symbol.)\n",
        "    \"\"\"\n",
        "    graph.set_title(\"Results of 500 slot machine pulls\")\n",
        "    # Complete steps 2 and 3 here\n",
        "​\n",
        "graph = jimmy_slots.get_graph()\n",
        "prettify_graph(graph)\n",
        "graph\n",
        "\n",
        "\n",
        "\n",
        "\n",
        "\n",
        "Bonus: Can you format the numbers on the y-axis so they look like dollar amounts? e.g. $200 instead of just 200.\n",
        "\n",
        "(We're not going to tell you what method(s) to use here. You'll need to go digging yourself with dir(graph) and/or help(graph).)\n",
        "\n",
        "\n",
        "\n",
        "\n",
        "\n",
        "\n",
        "# Check your answer (Run this code cell to receive credit!)\n",
        "q1.solution()\n",
        "\n",
        "\n",
        "\n",
        "\n",
        "\n",
        "2. 🌶️🌶️\n",
        "This is a very hard problem. Feel free to skip it if you are short on time:\n",
        "\n",
        "Luigi is trying to perform an analysis to determine the best items for winning races on the Mario Kart circuit. He has some data in the form of lists of dictionaries that look like...\n",
        "\n",
        "[\n",
        "    {'name': 'Peach', 'items': ['green shell', 'banana', 'green shell',], 'finish': 3},\n",
        "    {'name': 'Bowser', 'items': ['green shell',], 'finish': 1},\n",
        "    # Sometimes the racer's name wasn't recorded\n",
        "    {'name': None, 'items': ['mushroom',], 'finish': 2},\n",
        "    {'name': 'Toad', 'items': ['green shell', 'mushroom'], 'finish': 1},\n",
        "]\n",
        "'items' is a list of all the power-up items the racer picked up in that race, and 'finish' was their placement in the race (1 for first place, 3 for third, etc.).\n",
        "\n",
        "He wrote the function below to take a list like this and return a dictionary mapping each item to how many times it was picked up by first-place finishers.\n",
        "\n",
        "\n",
        "\n",
        "\n",
        "\n",
        "\n",
        "def best_items(racers):\n",
        "    \"\"\"Given a list of racer dictionaries, return a dictionary mapping items to the number\n",
        "    of times those items were picked up by racers who finished in first place.\n",
        "    \"\"\"\n",
        "    winner_item_counts = {}\n",
        "    for i in range(len(racers)):\n",
        "        # The i'th racer dictionary\n",
        "        racer = racers[i]\n",
        "        # We're only interested in racers who finished in first\n",
        "        if racer['finish'] == 1:\n",
        "            for i in racer['items']:\n",
        "                # Add one to the count for this item (adding it to the dict if necessary)\n",
        "                if i not in winner_item_counts:\n",
        "                    winner_item_counts[i] = 0\n",
        "                winner_item_counts[i] += 1\n",
        "​\n",
        "        # Data quality issues :/ Print a warning about racers with no name set. We'll take care of it later.\n",
        "        if racer['name'] is None:\n",
        "            print(\"WARNING: Encountered racer with unknown name on iteration {}/{} (racer = {})\".format(\n",
        "                i+1, len(racers), racer['name'])\n",
        "                 )\n",
        "    return winner_item_counts\n",
        "\n",
        "\n",
        "\n",
        "\n",
        "\n",
        "He tried it on a small example list above and it seemed to work correctly:\n",
        "\n",
        "\n",
        "\n",
        "\n",
        "\n",
        "\n",
        "sample = [\n",
        "    {'name': 'Peach', 'items': ['green shell', 'banana', 'green shell',], 'finish': 3},\n",
        "    {'name': 'Bowser', 'items': ['green shell',], 'finish': 1},\n",
        "    {'name': None, 'items': ['mushroom',], 'finish': 2},\n",
        "    {'name': 'Toad', 'items': ['green shell', 'mushroom'], 'finish': 1},\n",
        "]\n",
        "best_items(sample)\n",
        "\n",
        "\n",
        "\n",
        "\n",
        "\n",
        "However, when he tried running it on his full dataset, the program crashed with a TypeError.\n",
        "\n",
        "Can you guess why? Try running the code cell below to see the error message Luigi is getting. Once you've identified the bug, fix it in the cell below (so that it runs without any errors).\n",
        "\n",
        "Hint: Luigi's bug is similar to one we encountered in the tutorial when we talked about star imports.\n",
        "\n",
        "\n",
        "\n",
        "\n",
        "\n",
        "\n",
        "# Import luigi's full dataset of race data\n",
        "from learntools.python.luigi_analysis import full_dataset\n",
        "​\n",
        "# Fix me!\n",
        "def best_items(racers):\n",
        "    winner_item_counts = {}\n",
        "    for i in range(len(racers)):\n",
        "        # The i'th racer dictionary\n",
        "        racer = racers[i]\n",
        "        # We're only interested in racers who finished in first\n",
        "        if racer['finish'] == 1:\n",
        "            for i in racer['items']:\n",
        "                # Add one to the count for this item (adding it to the dict if necessary)\n",
        "                if i not in winner_item_counts:\n",
        "                    winner_item_counts[i] = 0\n",
        "                winner_item_counts[i] += 1\n",
        "​\n",
        "        # Data quality issues :/ Print a warning about racers with no name set. We'll take care of it later.\n",
        "        if racer['name'] is None:\n",
        "            print(\"WARNING: Encountered racer with unknown name on iteration {}/{} (racer = {})\".format(\n",
        "                i+1, len(racers), racer['name'])\n",
        "                 )\n",
        "    return winner_item_counts\n",
        "​\n",
        "# Try analyzing the imported full dataset\n",
        "best_items(full_dataset)\n",
        "\n",
        "\n",
        "\n",
        "\n",
        "\n",
        "#q2.hint()\n",
        "\n",
        "\n",
        "\n",
        "\n",
        "\n",
        "# Check your answer (Run this code cell to receive credit!)\n",
        "q2.solution()\n",
        "\n",
        "\n",
        "\n",
        "\n",
        "\n",
        "3. 🌶️\n",
        "Suppose we wanted to create a new type to represent hands in blackjack. One thing we might want to do with this type is overload the comparison operators like > and <= so that we could use them to check whether one hand beats another. e.g. it'd be cool if we could do this:\n",
        "\n",
        ">>> hand1 = BlackjackHand(['K', 'A'])\n",
        ">>> hand2 = BlackjackHand(['7', '10', 'A'])\n",
        ">>> hand1 > hand2\n",
        "True\n",
        "Well, we're not going to do all that in this question (defining custom classes is a bit beyond the scope of these lessons), but the code we're asking you to write in the function below is very similar to what we'd have to write if we were defining our own BlackjackHand class. (We'd put it in the __gt__ magic method to define our custom behaviour for >.)\n",
        "\n",
        "Fill in the body of the blackjack_hand_greater_than function according to the docstring.\n",
        "\n",
        "\n",
        "\n",
        "\n",
        "\n",
        "\n",
        "def blackjack_hand_greater_than(hand_1, hand_2):\n",
        "    \"\"\"\n",
        "    Return True if hand_1 beats hand_2, and False otherwise.\n",
        "    \n",
        "    In order for hand_1 to beat hand_2 the following must be true:\n",
        "    - The total of hand_1 must not exceed 21\n",
        "    - The total of hand_1 must exceed the total of hand_2 OR hand_2's total must exceed 21\n",
        "    \n",
        "    Hands are represented as a list of cards. Each card is represented by a string.\n",
        "    \n",
        "    When adding up a hand's total, cards with numbers count for that many points. Face\n",
        "    cards ('J', 'Q', and 'K') are worth 10 points. 'A' can count for 1 or 11.\n",
        "    \n",
        "    When determining a hand's total, you should try to count aces in the way that \n",
        "    maximizes the hand's total without going over 21. e.g. the total of ['A', 'A', '9'] is 21,\n",
        "    the total of ['A', 'A', '9', '3'] is 14.\n",
        "    \n",
        "    Examples:\n",
        "    >>> blackjack_hand_greater_than(['K'], ['3', '4'])\n",
        "    True\n",
        "    >>> blackjack_hand_greater_than(['K'], ['10'])\n",
        "    False\n",
        "    >>> blackjack_hand_greater_than(['K', 'K', '2'], ['3'])\n",
        "    False\n",
        "    \"\"\"\n",
        "    pass\n",
        "​\n",
        "# Check your answer\n",
        "q3.check()\n",
        "\n",
        "\n",
        "\n",
        "\n",
        "\n",
        "#q3.hint()\n",
        "#q3.solution()\n",
        "\n",
        "\n",
        "\n",
        "\n",
        "\n",
        "The end\n",
        "You've finished the Python course. Congrats!\n",
        "\n",
        "As always, if you have any questions about these exercises, or anything else you encountered in the course, come to the Learn Forum.\n",
        "\n",
        "You probably didn't put in all these hours of learning Python just to play silly games of chance, right? If you're interested in applying your newfound Python skills to some data science tasks, check out some of our other Kaggle Courses. Some good next steps are:\n",
        "\n",
        "Machine learning with scikit-learn\n",
        "Pandas for data manipulation\n",
        "Deep learning with TensorFlow\n",
        "Happy Pythoning!"
      ]
    }
  ]
}