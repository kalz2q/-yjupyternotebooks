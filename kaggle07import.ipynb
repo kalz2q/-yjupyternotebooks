{
  "nbformat": 4,
  "nbformat_minor": 0,
  "metadata": {
    "colab": {
      "name": "kaggle07import.ipynb",
      "provenance": [],
      "toc_visible": true,
      "authorship_tag": "ABX9TyM3/xqQBd/o7wZ2u58rly3L",
      "include_colab_link": true
    },
    "kernelspec": {
      "name": "python3",
      "display_name": "Python 3"
    }
  },
  "cells": [
    {
      "cell_type": "markdown",
      "metadata": {
        "id": "view-in-github",
        "colab_type": "text"
      },
      "source": [
        "<a href=\"https://colab.research.google.com/github/kalz2q/mycolabnotebooks/blob/master/kaggle07import.ipynb\" target=\"_parent\"><img src=\"https://colab.research.google.com/assets/colab-badge.svg\" alt=\"Open In Colab\"/></a>"
      ]
    },
    {
      "cell_type": "markdown",
      "metadata": {
        "id": "B-HUQUKJlyFG",
        "colab_type": "text"
      },
      "source": [
        "# メモ\n",
        "\n",
        "1. kaggleのPython tutorialをベスにColabのノートブックを作成している。\n",
        "1. Colabで開いて読まれることを想定。\n",
        "1. 元ファイル ( https://www.kaggle.com/colinmorris/working-with-external-libraries )\n"
      ]
    },
    {
      "cell_type": "markdown",
      "metadata": {
        "id": "u4_guYFInuq7",
        "colab_type": "text"
      },
      "source": [
        "# はじめに\n",
        "\n",
        "この章では、インポート`import`、ライブラリー`library`とそのオブジェクト`object`、演算子オーバーロード`operator overload`について学ぶ。"
      ]
    },
    {
      "cell_type": "markdown",
      "metadata": {
        "id": "y8zUSv8vtenR",
        "colab_type": "text"
      },
      "source": [
        "# Imports\n",
        "\n",
        "これまで学んできた型`type`と関数`function`は言語に始めから組み込まれているものだった。\n",
        "\n",
        "しかし、Pythonの利点はPythonのために書かれ、データサイエンスなどで利用される高品質のライブラリーがたくさんあることである。\n",
        "\n",
        "そのいくつかは標準ライブラリーで、Pythonの動く環境ならば必ずあるが、それ以外はかならずしもPythonと一緒ではないが、簡単に加えることができる。\n",
        "\n",
        "いずれにせよ、`import`によってライブラリーにアクセスすることになる。\n"
      ]
    },
    {
      "cell_type": "code",
      "metadata": {
        "id": "1ltvjqdAHdon",
        "colab_type": "code",
        "colab": {
          "base_uri": "https://localhost:8080/",
          "height": 34
        },
        "outputId": "c2f650e1-7771-425a-d36a-c2b086bdc7a8"
      },
      "source": [
        "import math\n",
        "\n",
        "print(\"It's math! It has type {}\".format(type(math)))\n"
      ],
      "execution_count": null,
      "outputs": [
        {
          "output_type": "stream",
          "text": [
            "It's math! It has type <class 'module'>\n"
          ],
          "name": "stdout"
        }
      ]
    },
    {
      "cell_type": "markdown",
      "metadata": {
        "id": "Us1Kkb6YHjT7",
        "colab_type": "text"
      },
      "source": [
        "`math`はモジュールで、モジュールとは変数の集まり(ネームスペースと呼ばれる)のことである。関数`dir()`を使うと`math`で使われるすべての`name`を見ることができる。"
      ]
    },
    {
      "cell_type": "code",
      "metadata": {
        "id": "n5cEe-d5HnW6",
        "colab_type": "code",
        "colab": {
          "base_uri": "https://localhost:8080/",
          "height": 54
        },
        "outputId": "6db74edb-cca7-4f65-f408-b929a4bbca27"
      },
      "source": [
        "print(dir(math))"
      ],
      "execution_count": null,
      "outputs": [
        {
          "output_type": "stream",
          "text": [
            "['__doc__', '__loader__', '__name__', '__package__', '__spec__', 'acos', 'acosh', 'asin', 'asinh', 'atan', 'atan2', 'atanh', 'ceil', 'copysign', 'cos', 'cosh', 'degrees', 'e', 'erf', 'erfc', 'exp', 'expm1', 'fabs', 'factorial', 'floor', 'fmod', 'frexp', 'fsum', 'gamma', 'gcd', 'hypot', 'inf', 'isclose', 'isfinite', 'isinf', 'isnan', 'ldexp', 'lgamma', 'log', 'log10', 'log1p', 'log2', 'modf', 'nan', 'pi', 'pow', 'radians', 'sin', 'sinh', 'sqrt', 'tan', 'tanh', 'tau', 'trunc']\n"
          ],
          "name": "stdout"
        }
      ]
    },
    {
      "cell_type": "markdown",
      "metadata": {
        "id": "93hJU_E8Kgwk",
        "colab_type": "text"
      },
      "source": [
        "```\n",
        "    ['__doc__', '__loader__', '__name__', '__package__', '__spec__', 'acos', \n",
        "    'acosh', 'asin', 'asinh', 'atan', 'atan2', 'atanh', 'ceil', 'copysign', \n",
        "    'cos', 'cosh', 'degrees', 'e', 'erf', 'erfc', 'exp', 'expm1', 'fabs', \n",
        "    'factorial', 'floor', 'fmod', 'frexp', 'fsum', 'gamma', 'gcd', 'hypot', \n",
        "    'inf', 'isclose', 'isfinite', 'isinf', 'isnan', 'ldexp', 'lgamma', 'log',\n",
        "    'log10', 'log1p', 'log2', 'modf', 'nan', 'pi', 'pow', 'radians', 'sin', \n",
        "    'sinh', 'sqrt', 'tan', 'tanh', 'tau', 'trunc']\n",
        " ```\n"
      ]
    },
    {
      "cell_type": "markdown",
      "metadata": {
        "id": "2qpo6DicHrXS",
        "colab_type": "text"
      },
      "source": [
        "これらの変数にはドット・シンタクスでアクセスすることができる。いくつかは単純な値の変数でたとえば`math.pi`がある。"
      ]
    },
    {
      "cell_type": "code",
      "metadata": {
        "id": "XLVeVMFPHuPZ",
        "colab_type": "code",
        "colab": {
          "base_uri": "https://localhost:8080/",
          "height": 34
        },
        "outputId": "027368d5-ead4-4996-be9d-d08c2c2f4475"
      },
      "source": [
        "print(\"pi to 4 significant digits = {:.4}\".format(math.pi))"
      ],
      "execution_count": null,
      "outputs": [
        {
          "output_type": "stream",
          "text": [
            "pi to 4 significant digits = 3.142\n"
          ],
          "name": "stdout"
        }
      ]
    },
    {
      "cell_type": "markdown",
      "metadata": {
        "id": "qbPzhVVUHxa1",
        "colab_type": "text"
      },
      "source": [
        "しかし、モジュールのほとんどは関数であり、たとえば`math.log`がある。"
      ]
    },
    {
      "cell_type": "code",
      "metadata": {
        "id": "gSOBuH3iHzc-",
        "colab_type": "code",
        "colab": {
          "base_uri": "https://localhost:8080/",
          "height": 34
        },
        "outputId": "06d2a2b8-c12a-4e7d-d1fc-c110d5726d2d"
      },
      "source": [
        "math.log(32, 2)"
      ],
      "execution_count": null,
      "outputs": [
        {
          "output_type": "execute_result",
          "data": {
            "text/plain": [
              "5.0"
            ]
          },
          "metadata": {
            "tags": []
          },
          "execution_count": 9
        }
      ]
    },
    {
      "cell_type": "markdown",
      "metadata": {
        "id": "jfwpcNAAH07M",
        "colab_type": "text"
      },
      "source": [
        "もし、`math.log`がなにをするかわからなければ`help()`を呼び出す。"
      ]
    },
    {
      "cell_type": "code",
      "metadata": {
        "id": "vGSlgo50H5Tj",
        "colab_type": "code",
        "colab": {
          "base_uri": "https://localhost:8080/",
          "height": 151
        },
        "outputId": "64e1a0ad-5e95-4834-d760-1d4f1cbb6c6a"
      },
      "source": [
        "help(math.log)\n"
      ],
      "execution_count": null,
      "outputs": [
        {
          "output_type": "stream",
          "text": [
            "Help on built-in function log in module math:\n",
            "\n",
            "log(...)\n",
            "    log(x[, base])\n",
            "    \n",
            "    Return the logarithm of x to the given base.\n",
            "    If the base not specified, returns the natural logarithm (base e) of x.\n",
            "\n"
          ],
          "name": "stdout"
        }
      ]
    },
    {
      "cell_type": "markdown",
      "metadata": {
        "id": "4orYzNz3H_XR",
        "colab_type": "text"
      },
      "source": [
        "モジュールそのもの`help()`を呼び出すこともできる。モジュール自体の高度な説明と、すべての関数と変数のドキュメントが得られる。"
      ]
    },
    {
      "cell_type": "code",
      "metadata": {
        "id": "tGw6ZQx8IBwW",
        "colab_type": "code",
        "colab": {}
      },
      "source": [
        "help(math)"
      ],
      "execution_count": null,
      "outputs": []
    },
    {
      "cell_type": "markdown",
      "metadata": {
        "id": "MCc1KPhoIDBw",
        "colab_type": "text"
      },
      "source": [
        "モジュールの関数を頻繁に呼び出すなら、モジュール名の`alias`を`import`時に決めるとタイプの数を少し減らすことができる。"
      ]
    },
    {
      "cell_type": "code",
      "metadata": {
        "id": "G_7kQ9CXIEUA",
        "colab_type": "code",
        "colab": {
          "base_uri": "https://localhost:8080/",
          "height": 34
        },
        "outputId": "6b75f3df-de1d-44db-b4c9-eeb30c0e0e54"
      },
      "source": [
        "import math as mt\n",
        "mt.pi"
      ],
      "execution_count": null,
      "outputs": [
        {
          "output_type": "execute_result",
          "data": {
            "text/plain": [
              "3.141592653589793"
            ]
          },
          "metadata": {
            "tags": []
          },
          "execution_count": 12
        }
      ]
    },
    {
      "cell_type": "markdown",
      "metadata": {
        "id": "7kB7DppvIFo9",
        "colab_type": "text"
      },
      "source": [
        "`Pandas`、`Numpy`、`Tensorflow`、`Matplotlib`などポピュラーなライブラリーについては通常使われる`alias`が決まっていたりする。たとえば\n",
        "\n",
        "```\n",
        "import numpy as np\n",
        "import pandas as pd\n",
        "```\n",
        "\n",
        "`as`ただ`rename`しているだけなので、次のように書いても同じである。"
      ]
    },
    {
      "cell_type": "code",
      "metadata": {
        "id": "v5TMatL4IHLI",
        "colab_type": "code",
        "colab": {}
      },
      "source": [
        "import math\n",
        "mt = math"
      ],
      "execution_count": null,
      "outputs": []
    },
    {
      "cell_type": "markdown",
      "metadata": {
        "id": "22lJaLnBIIVI",
        "colab_type": "text"
      },
      "source": [
        "`math`のすべての変数を`math`をつけずに使えるようにすることも可能だ。\n",
        "\n",
        "たとえば`math.pi`と書かずに`pi`と書けば済むようになる。"
      ]
    },
    {
      "cell_type": "code",
      "metadata": {
        "id": "a0V1_ipnIMVd",
        "colab_type": "code",
        "colab": {
          "base_uri": "https://localhost:8080/",
          "height": 34
        },
        "outputId": "648a68b0-b28c-4a1c-da8c-7ee4e3c2407b"
      },
      "source": [
        "from math import *\n",
        "print(pi, log(32, 2))"
      ],
      "execution_count": null,
      "outputs": [
        {
          "output_type": "stream",
          "text": [
            "3.141592653589793 5.0\n"
          ],
          "name": "stdout"
        }
      ]
    },
    {
      "cell_type": "markdown",
      "metadata": {
        "id": "bY7l9ukCYec5",
        "colab_type": "text"
      },
      "source": [
        "`import *`と書くとモジュールのすべての変数がドット付きの前置きなしで直接使えるようになる。"
      ]
    },
    {
      "cell_type": "markdown",
      "metadata": {
        "id": "rZIub2pKINvb",
        "colab_type": "text"
      },
      "source": [
        "デメリット: 純粋主義者に文句を言われる。\n",
        "\n",
        "理由はあって、考えずにこれをやるとたいへんなことになる。"
      ]
    },
    {
      "cell_type": "code",
      "metadata": {
        "id": "nVBHSIGQIQe_",
        "colab_type": "code",
        "colab": {}
      },
      "source": [
        "from math import *\n",
        "from numpy import *\n",
        "# this will lead to error!!!!\n",
        "# print(pi, log(32, 2))"
      ],
      "execution_count": null,
      "outputs": []
    },
    {
      "cell_type": "markdown",
      "metadata": {
        "id": "n1VnvIdyIS-l",
        "colab_type": "text"
      },
      "source": [
        "どうしのか。前はうまく行ったのに。\n",
        "\n",
        "このような`スターインポート`はしばしば奇妙な、デバッグのむずかしい状況を作り出す。\n",
        "\n",
        "今回の場合、問題は`math`と`numpy`の両方が`log`という関数を持っていいて、違った意味合いを持っている、ということ。`numpy`をあとに読み込んだので`math`で読み込んだ`log`を上書き`overwrite (or shadow)`してしまった。\n",
        "\n",
        "丁度いい妥協点はそれぞれのモジュールから個々に必要なものをインポートすることだろう。"
      ]
    },
    {
      "cell_type": "code",
      "metadata": {
        "id": "691e4kZMIVf1",
        "colab_type": "code",
        "colab": {}
      },
      "source": [
        "from math import log, pi\n",
        "from numpy import asarray"
      ],
      "execution_count": null,
      "outputs": []
    },
    {
      "cell_type": "markdown",
      "metadata": {
        "id": "e29iFp0-alOu",
        "colab_type": "text"
      },
      "source": [
        "# サブモジュール"
      ]
    },
    {
      "cell_type": "markdown",
      "metadata": {
        "id": "iFAtSbecIW15",
        "colab_type": "text"
      },
      "source": [
        "モジュールは関数や変数を指し示す名前の集まりであるが、名前はさらにモジュールの名前でもあり得る。モジュールの中のモジュールをサブモジュール`submodule`と言う。"
      ]
    },
    {
      "cell_type": "code",
      "metadata": {
        "id": "O_Kwu2EFIYkn",
        "colab_type": "code",
        "colab": {
          "base_uri": "https://localhost:8080/",
          "height": 70
        },
        "outputId": "7705ced1-7a73-41d5-e682-5e154fd722b9"
      },
      "source": [
        "import numpy\n",
        "\n",
        "from IPython.display import HTML, display\n",
        "\n",
        "print(\"numpy.random is a\", type(numpy.random))\n",
        "\n",
        "print(\"it contains names such as...\",\n",
        "      dir(numpy.random)[-15:] )"
      ],
      "execution_count": null,
      "outputs": [
        {
          "output_type": "stream",
          "text": [
            "numpy.random is a <class 'module'>\n",
            "it contains names such as... ['seed', 'set_state', 'shuffle', 'standard_cauchy', 'standard_exponential', 'standard_gamma', 'standard_normal', 'standard_t', 'test', 'triangular', 'uniform', 'vonmises', 'wald', 'weibull', 'zipf']\n"
          ],
          "name": "stdout"
        }
      ]
    },
    {
      "cell_type": "markdown",
      "metadata": {
        "id": "iL65f6cKq1PZ",
        "colab_type": "text"
      },
      "source": [
        "numpy.random is a <class 'module'>\n",
        "\n",
        "it contains names such as... ['seed', 'set_state', 'shuffle', 'standard_cauchy', 'standard_exponential', 'standard_gamma', 'standard_normal', 'standard_t', 'test', 'triangular', 'uniform', 'vonmises', 'wald', 'weibull', 'zipf']"
      ]
    },
    {
      "cell_type": "markdown",
      "metadata": {
        "id": "f7-fv7oIIeKH",
        "colab_type": "text"
      },
      "source": [
        "したがって、`numpy`の場合、`random`サブモジュールの中の関数を呼び出すためには、2回ドットが必要になる。"
      ]
    },
    {
      "cell_type": "code",
      "metadata": {
        "id": "btIg6Hj9If-_",
        "colab_type": "code",
        "colab": {
          "base_uri": "https://localhost:8080/",
          "height": 34
        },
        "outputId": "27a9ed21-cd16-407c-9ee9-3179b1dfbc0b"
      },
      "source": [
        "# Roll 10 dice\n",
        "import numpy\n",
        "rolls = numpy.random.randint(low=1, high=6, size=10)\n",
        "rolls"
      ],
      "execution_count": null,
      "outputs": [
        {
          "output_type": "execute_result",
          "data": {
            "text/plain": [
              "array([3, 4, 5, 4, 1, 4, 2, 3, 1, 3])"
            ]
          },
          "metadata": {
            "tags": []
          },
          "execution_count": 4
        }
      ]
    },
    {
      "cell_type": "markdown",
      "metadata": {
        "id": "td9NH0uunJuk",
        "colab_type": "text"
      },
      "source": [
        "さあ、幼稚園の卒業だ。どこかへ出発だ。\n",
        "( Oh the places you'll go, oh the objects you'll see)\n",
        "\n",
        "いままでのレッスンで`int`、`float`、`bool`、`list`、`string`、`doct`をマスターした。(ホント?)\n",
        "\n",
        "\n",
        "だとしても、話はそこで終わらない。これから個々の仕事でさまざまなライブラリーを使っていくと、学ばなければならない型`type`がいろいろあることに気づくだろう。作図ライブラリーの`matplotlib`ならば`Subplot`、`Figure`、`TickMark`、`Annotation`などを表現するオブジェクトと出会う。`pandas`関数ならば`DataFrame`と`Series`だ。\n",
        "\n",
        "この章では、奇妙な型の扱いについての短いサバイバル・ガイドを提供する。"
      ]
    },
    {
      "cell_type": "markdown",
      "metadata": {
        "id": "eRnzJg5rIi_E",
        "colab_type": "text"
      },
      "source": [
        "# 奇妙な型を理解するための3つのツール\n",
        "\n",
        "`numpy`で関数を呼ぶと`array`が返ってくる。いままで`array`は出てこなかった。しかし、大丈夫。こんなとき助けてくれる3つの組み込み関数がある。\n",
        "\n",
        "1. type() (いったいこれは何か、を教えてくれる)\n"
      ]
    },
    {
      "cell_type": "code",
      "metadata": {
        "id": "O_YpCO2C2N89",
        "colab_type": "code",
        "colab": {
          "base_uri": "https://localhost:8080/",
          "height": 34
        },
        "outputId": "c6a0824f-9381-4d69-e4c6-236a236c5793"
      },
      "source": [
        "import numpy\n",
        "rolls = numpy.random.randint(low=1, high=6, size=10)\n",
        "type(rolls)"
      ],
      "execution_count": null,
      "outputs": [
        {
          "output_type": "execute_result",
          "data": {
            "text/plain": [
              "numpy.ndarray"
            ]
          },
          "metadata": {
            "tags": []
          },
          "execution_count": 5
        }
      ]
    },
    {
      "cell_type": "markdown",
      "metadata": {
        "id": "Wt8oQyOv2Zs8",
        "colab_type": "text"
      },
      "source": [
        "2. dir() (これでなにができるかを教えてくれる)"
      ]
    },
    {
      "cell_type": "code",
      "metadata": {
        "id": "FH6LsPPb2n9A",
        "colab_type": "code",
        "colab": {
          "base_uri": "https://localhost:8080/",
          "height": 54
        },
        "outputId": "86c5d247-0f20-4c75-d6cf-088a71a50053"
      },
      "source": [
        "print(dir(rolls))"
      ],
      "execution_count": null,
      "outputs": [
        {
          "output_type": "stream",
          "text": [
            "['T', '__abs__', '__add__', '__and__', '__array__', '__array_finalize__', '__array_function__', '__array_interface__', '__array_prepare__', '__array_priority__', '__array_struct__', '__array_ufunc__', '__array_wrap__', '__bool__', '__class__', '__complex__', '__contains__', '__copy__', '__deepcopy__', '__delattr__', '__delitem__', '__dir__', '__divmod__', '__doc__', '__eq__', '__float__', '__floordiv__', '__format__', '__ge__', '__getattribute__', '__getitem__', '__gt__', '__hash__', '__iadd__', '__iand__', '__ifloordiv__', '__ilshift__', '__imatmul__', '__imod__', '__imul__', '__index__', '__init__', '__init_subclass__', '__int__', '__invert__', '__ior__', '__ipow__', '__irshift__', '__isub__', '__iter__', '__itruediv__', '__ixor__', '__le__', '__len__', '__lshift__', '__lt__', '__matmul__', '__mod__', '__mul__', '__ne__', '__neg__', '__new__', '__or__', '__pos__', '__pow__', '__radd__', '__rand__', '__rdivmod__', '__reduce__', '__reduce_ex__', '__repr__', '__rfloordiv__', '__rlshift__', '__rmatmul__', '__rmod__', '__rmul__', '__ror__', '__rpow__', '__rrshift__', '__rshift__', '__rsub__', '__rtruediv__', '__rxor__', '__setattr__', '__setitem__', '__setstate__', '__sizeof__', '__str__', '__sub__', '__subclasshook__', '__truediv__', '__xor__', 'all', 'any', 'argmax', 'argmin', 'argpartition', 'argsort', 'astype', 'base', 'byteswap', 'choose', 'clip', 'compress', 'conj', 'conjugate', 'copy', 'ctypes', 'cumprod', 'cumsum', 'data', 'diagonal', 'dot', 'dtype', 'dump', 'dumps', 'fill', 'flags', 'flat', 'flatten', 'getfield', 'imag', 'item', 'itemset', 'itemsize', 'max', 'mean', 'min', 'nbytes', 'ndim', 'newbyteorder', 'nonzero', 'partition', 'prod', 'ptp', 'put', 'ravel', 'real', 'repeat', 'reshape', 'resize', 'round', 'searchsorted', 'setfield', 'setflags', 'shape', 'size', 'sort', 'squeeze', 'std', 'strides', 'sum', 'swapaxes', 'take', 'tobytes', 'tofile', 'tolist', 'tostring', 'trace', 'transpose', 'var', 'view']\n"
          ],
          "name": "stdout"
        }
      ]
    },
    {
      "cell_type": "markdown",
      "metadata": {
        "id": "i8VsiYGLsFrw",
        "colab_type": "text"
      },
      "source": [
        "['T', '__abs__', '__add__', '__and__', '__array__', '__array_finalize__', '__array_function__', '__array_interface__', '__array_prepare__', '__array_priority__', '__array_struct__', '__array_ufunc__', '__array_wrap__', '__bool__', '__class__', '__complex__', '__contains__', '__copy__', '__deepcopy__', '__delattr__', '__delitem__', '__dir__', '__divmod__', '__doc__', '__eq__', '__float__', '__floordiv__', '__format__', '__ge__', '__getattribute__', '__getitem__', '__gt__', '__hash__', '__iadd__', '__iand__', '__ifloordiv__', '__ilshift__', '__imatmul__', '__imod__', '__imul__', '__index__', '__init__', '__init_subclass__', '__int__', '__invert__', '__ior__', '__ipow__', '__irshift__', '__isub__', '__iter__', '__itruediv__', '__ixor__', '__le__', '__len__', '__lshift__', '__lt__', '__matmul__', '__mod__', '__mul__', '__ne__', '__neg__', '__new__', '__or__', '__pos__', '__pow__', '__radd__', '__rand__', '__rdivmod__', '__reduce__', '__reduce_ex__', '__repr__', '__rfloordiv__', '__rlshift__', '__rmatmul__', '__rmod__', '__rmul__', '__ror__', '__rpow__', '__rrshift__', '__rshift__', '__rsub__', '__rtruediv__', '__rxor__', '__setattr__', '__setitem__', '__setstate__', '__sizeof__', '__str__', '__sub__', '__subclasshook__', '__truediv__', '__xor__', 'all', 'any', 'argmax', 'argmin', 'argpartition', 'argsort', 'astype', 'base', 'byteswap', 'choose', 'clip', 'compress', 'conj', 'conjugate', 'copy', 'ctypes', 'cumprod', 'cumsum', 'data', 'diagonal', 'dot', 'dtype', 'dump', 'dumps', 'fill', 'flags', 'flat', 'flatten', 'getfield', 'imag', 'item', 'itemset', 'itemsize', 'max', 'mean', 'min', 'nbytes', 'ndim', 'newbyteorder', 'nonzero', 'partition', 'prod', 'ptp', 'put', 'ravel', 'real', 'repeat', 'reshape', 'resize', 'round', 'searchsorted', 'setfield', 'setflags', 'shape', 'size', 'sort', 'squeeze', 'std', 'strides', 'sum', 'swapaxes', 'take', 'tobytes', 'tofile', 'tolist', 'tostring', 'trace', 'transpose', 'var', 'view']"
      ]
    },
    {
      "cell_type": "code",
      "metadata": {
        "id": "-IxwuXxNIqIA",
        "colab_type": "code",
        "colab": {
          "base_uri": "https://localhost:8080/",
          "height": 34
        },
        "outputId": "cda0ec1d-b04c-425a-c360-063b32fd2e17"
      },
      "source": [
        "# 平均をとるにはどれが使えるかな? `mean`なんかはどうだろう。やってみよう。とか。\n",
        "\n",
        "rolls.mean()"
      ],
      "execution_count": null,
      "outputs": [
        {
          "output_type": "execute_result",
          "data": {
            "text/plain": [
              "2.8"
            ]
          },
          "metadata": {
            "tags": []
          },
          "execution_count": 7
        }
      ]
    },
    {
      "cell_type": "code",
      "metadata": {
        "id": "lKzV7A5MIt3z",
        "colab_type": "code",
        "colab": {
          "base_uri": "https://localhost:8080/",
          "height": 34
        },
        "outputId": "79bfee53-e188-49ae-f5df-b31a9e6df8e5"
      },
      "source": [
        "# 扱うにはなれた型がいいので、`tolist`を使ってみよう。とか。\n",
        "\n",
        "rolls.tolist()"
      ],
      "execution_count": null,
      "outputs": [
        {
          "output_type": "execute_result",
          "data": {
            "text/plain": [
              "[4, 3, 3, 4, 1, 5, 1, 1, 1, 5]"
            ]
          },
          "metadata": {
            "tags": []
          },
          "execution_count": 8
        }
      ]
    },
    {
      "cell_type": "markdown",
      "metadata": {
        "id": "enpm7xtl3kjA",
        "colab_type": "text"
      },
      "source": [
        "\n",
        "[4, 1, 2, 2, 1, 3, 1, 1, 5, 2]\n"
      ]
    },
    {
      "cell_type": "markdown",
      "metadata": {
        "id": "0qQ2pd3uIwIm",
        "colab_type": "text"
      },
      "source": [
        "3. help() (もっと教えて)"
      ]
    },
    {
      "cell_type": "code",
      "metadata": {
        "id": "WITjN44gs0Cp",
        "colab_type": "code",
        "colab": {
          "base_uri": "https://localhost:8080/",
          "height": 269
        },
        "outputId": "e47faec2-bd21-408e-be70-5015490e5640"
      },
      "source": [
        "# \"ravel\" 属性`attribute`がおもしろそうだ。クラシック音楽に関係あるかな\n",
        "help(rolls.ravel)\n"
      ],
      "execution_count": null,
      "outputs": [
        {
          "output_type": "stream",
          "text": [
            "Help on built-in function ravel:\n",
            "\n",
            "ravel(...) method of numpy.ndarray instance\n",
            "    a.ravel([order])\n",
            "    \n",
            "    Return a flattened array.\n",
            "    \n",
            "    Refer to `numpy.ravel` for full documentation.\n",
            "    \n",
            "    See Also\n",
            "    --------\n",
            "    numpy.ravel : equivalent function\n",
            "    \n",
            "    ndarray.flat : a flat iterator on the array.\n",
            "\n"
          ],
          "name": "stdout"
        }
      ]
    },
    {
      "cell_type": "code",
      "metadata": {
        "id": "UxqnQhKZIyks",
        "colab_type": "code",
        "colab": {}
      },
      "source": [
        "# Okay, just tell me everything there is to know about numpy.ndarray\n",
        "# (Click the \"output\" button to see the novel-length output)\n",
        "help(rolls) "
      ],
      "execution_count": null,
      "outputs": []
    },
    {
      "cell_type": "markdown",
      "metadata": {
        "id": "4NWXSK26toTr",
        "colab_type": "text"
      },
      "source": [
        "もちろん、オンライン・ドキュメントもあるので、そちらを参照してもよい。"
      ]
    },
    {
      "cell_type": "markdown",
      "metadata": {
        "id": "zTIVwH45I0Ei",
        "colab_type": "text"
      },
      "source": [
        "# 演算子オーバーロード'Operator overloading'\n",
        "\n",
        "次の式の値は何か?\n"
      ]
    },
    {
      "cell_type": "code",
      "metadata": {
        "id": "85l8fTbtvB8U",
        "colab_type": "code",
        "colab": {}
      },
      "source": [
        "# [3, 4, 1, 2, 2, 1] + 10"
      ],
      "execution_count": null,
      "outputs": []
    },
    {
      "cell_type": "markdown",
      "metadata": {
        "id": "ASRJQGoGI1WD",
        "colab_type": "text"
      },
      "source": [
        "なんて馬鹿げた質問だ。もちろんエラーになる。\n",
        "\n",
        "しかし、次のはどうか。"
      ]
    },
    {
      "cell_type": "code",
      "metadata": {
        "id": "t-4oNFEQI24L",
        "colab_type": "code",
        "colab": {
          "base_uri": "https://localhost:8080/",
          "height": 34
        },
        "outputId": "d5bba39e-2835-4828-f7b0-21d82248b875"
      },
      "source": [
        "rolls + 10"
      ],
      "execution_count": null,
      "outputs": [
        {
          "output_type": "execute_result",
          "data": {
            "text/plain": [
              "array([14, 13, 13, 14, 11, 15, 11, 11, 11, 15])"
            ]
          },
          "metadata": {
            "tags": []
          },
          "execution_count": 14
        }
      ]
    },
    {
      "cell_type": "markdown",
      "metadata": {
        "id": "yCjSKDK1wBf6",
        "colab_type": "text"
      },
      "source": [
        "# いまここ"
      ]
    },
    {
      "cell_type": "markdown",
      "metadata": {
        "id": "kdVs_Z5xI5ci",
        "colab_type": "text"
      },
      "source": [
        "Pythonはコアとなる文法は厳しく定義されていると思いがちであるが、`+`、`<`、`in`、`==`、インデクスやスライスのための`square bracket`など、しかし、実際のところPythonのやり方は放任主義と言える。新しい型を定義する際に、足す、や同等である、の意味を定義することができる。\n",
        "\n",
        "`list`のデザイナーはリストに数値を足すのは駄目、と決めたが、`numpy`のデザイナーは`array`に数値を足すのは、有り、と考えた。\n",
        "\n",
        "次に`numpy`の`array`でいくつかのPythonの演算子が意外な(少なくとも`list`と違った)ふるまいをするかを示そう。\n"
      ]
    },
    {
      "cell_type": "code",
      "metadata": {
        "id": "1UziEVEEI7Gi",
        "colab_type": "code",
        "colab": {
          "base_uri": "https://localhost:8080/",
          "height": 50
        },
        "outputId": "23a9d6f4-e870-4198-86dc-54f237ede23e"
      },
      "source": [
        "# At which indices are the dice less than or equal to 3?\n",
        "import numpy\n",
        "rolls = numpy.random.randint(low=1, high=6, size=10)\n",
        "rolls <= 3"
      ],
      "execution_count": 25,
      "outputs": [
        {
          "output_type": "execute_result",
          "data": {
            "text/plain": [
              "array([ True,  True,  True,  True,  True,  True,  True, False,  True,\n",
              "       False])"
            ]
          },
          "metadata": {
            "tags": []
          },
          "execution_count": 25
        }
      ]
    },
    {
      "cell_type": "markdown",
      "metadata": {
        "id": "VEDOxLzgI85x",
        "colab_type": "text"
      },
      "source": [
        "# 2次元アレイを作る\n"
      ]
    },
    {
      "cell_type": "code",
      "metadata": {
        "id": "hQ481AdoiH8O",
        "colab_type": "code",
        "colab": {
          "base_uri": "https://localhost:8080/",
          "height": 84
        },
        "outputId": "efb1b544-955a-455a-ae35-06c74d79dfe1"
      },
      "source": [
        "xlist = [[1,2,3],[2,4,6],]\n",
        "# Create a 2-dimensional array\n",
        "x = numpy.asarray(xlist)\n",
        "print(\"xlist = {}\\nx =\\n{}\".format(xlist, x))"
      ],
      "execution_count": 23,
      "outputs": [
        {
          "output_type": "stream",
          "text": [
            "xlist = [[1, 2, 3], [2, 4, 6]]\n",
            "x =\n",
            "[[1 2 3]\n",
            " [2 4 6]]\n"
          ],
          "name": "stdout"
        }
      ]
    },
    {
      "cell_type": "code",
      "metadata": {
        "id": "kR56eDFKI_pT",
        "colab_type": "code",
        "colab": {
          "base_uri": "https://localhost:8080/",
          "height": 34
        },
        "outputId": "940c06e5-a662-49f2-a934-660e1fb58236"
      },
      "source": [
        "# Get the last element of the second row of our numpy array\n",
        "x[1,-1]"
      ],
      "execution_count": 26,
      "outputs": [
        {
          "output_type": "execute_result",
          "data": {
            "text/plain": [
              "6"
            ]
          },
          "metadata": {
            "tags": []
          },
          "execution_count": 26
        }
      ]
    },
    {
      "cell_type": "code",
      "metadata": {
        "id": "HUrEZWTdJA0u",
        "colab_type": "code",
        "colab": {}
      },
      "source": [
        "# Get the last element of the second sublist of our nested list?\n",
        "# xlist[1,-1]"
      ],
      "execution_count": null,
      "outputs": []
    },
    {
      "cell_type": "markdown",
      "metadata": {
        "id": "B-K050V4JCc9",
        "colab_type": "text"
      },
      "source": [
        "```\n",
        "TypeError: list indices must be integers or slices, not tuple\n",
        "```\n",
        "numpy's ndarray type is specialized for working with multi-dimensional data, so it defines its own logic for indexing, allowing us to index by a tuple to specify the index at each dimension."
      ]
    },
    {
      "cell_type": "markdown",
      "metadata": {
        "id": "ovlzZ9ETkMld",
        "colab_type": "text"
      },
      "source": [
        "###  When does 1 + 1 not equal 2?\n",
        "\n",
        "ディープラーニングで広く使われる`tensorflow`というライブラリーがある。`tensorflow`では演算子オーバーロードを広範囲に使う。"
      ]
    },
    {
      "cell_type": "code",
      "metadata": {
        "id": "aiUtgxYbJF9z",
        "colab_type": "code",
        "colab": {
          "base_uri": "https://localhost:8080/",
          "height": 34
        },
        "outputId": "0e97122f-aedc-4f1b-ebf6-5e402624c1c1"
      },
      "source": [
        "import tensorflow as tf\n",
        "# Create two constants, each with value 1\n",
        "a = tf.constant(1)\n",
        "b = tf.constant(1)\n",
        "# Add them together to get...\n",
        "a + b"
      ],
      "execution_count": 28,
      "outputs": [
        {
          "output_type": "execute_result",
          "data": {
            "text/plain": [
              "<tf.Tensor: shape=(), dtype=int32, numpy=2>"
            ]
          },
          "metadata": {
            "tags": []
          },
          "execution_count": 28
        }
      ]
    },
    {
      "cell_type": "markdown",
      "metadata": {
        "id": "LmMtlrpsJHwL",
        "colab_type": "text"
      },
      "source": [
        "a + b は 2,ではない。\n",
        "\n",
        "`tensorflow`のドキュメントによると\n",
        "\n",
        "> a symbolic handle to one of the outputs of an Operation. \n",
        "> It does not hold the values of that operation's output, \n",
        "> but instead provides a means of computing those values \n",
        "> in a TensorFlow tf.Session.\n",
        "\n",
        "ということでなに言っているかわからなくても、大事なのはかならずしも明確でなく、魔法のようなやりかたで演算子オーバーロードが行われることがある、ということを理解しておくことだ。\n",
        "\n",
        "Pythonの演算子が`int`、`string`、`list`でどう働くかを理解していてもそれが`tensorflow Tensor`、`numpy ndarray`、`pandas Dataframe`でどういう意味かをそのままでわかったことにはならないが、すこし`DataFrame`をかじるとたとえば次のような式がどのような意味かが、本能的にわかり始める。"
      ]
    },
    {
      "cell_type": "markdown",
      "metadata": {
        "id": "6qwFNTAv8vGc",
        "colab_type": "text"
      },
      "source": [
        "# いまここ"
      ]
    },
    {
      "cell_type": "code",
      "metadata": {
        "id": "J4H9ckWIJKNs",
        "colab_type": "code",
        "colab": {}
      },
      "source": [
        "# Get the rows with population over 1m in South America\n",
        "# df[(df['population'] > 10**6) & (df['continent'] == 'South America')]"
      ],
      "execution_count": null,
      "outputs": []
    },
    {
      "cell_type": "markdown",
      "metadata": {
        "id": "vxkqvXGUJMPI",
        "colab_type": "text"
      },
      "source": [
        "しかし、どうやってこれができているのか。上の例は5つほどの違った演算子オーバーロードが使われているが、それぞれなにをやっているのか。なにか間違ったときにこの辺を理解しておくと役に立つ。\n",
        "\n",
        "### 演算子オーバーロードの仕組み\n",
        "\n",
        "`help()`や`dir()`を呼び出すと前後に2つずつアンダースコアがついた名前がたくさんでてくるのに気づいているだろうか。"
      ]
    },
    {
      "cell_type": "code",
      "metadata": {
        "id": "NqqPHWEbJNvw",
        "colab_type": "code",
        "colab": {}
      },
      "source": [
        "print(dir(list))"
      ],
      "execution_count": null,
      "outputs": []
    },
    {
      "cell_type": "markdown",
      "metadata": {
        "id": "5EbAoC9V_Wfv",
        "colab_type": "text"
      },
      "source": [
        "```\n",
        " ['__add__', '__class__', '__contains__', '__delattr__', '__delitem__',  \n",
        " '__dir__', '__doc__', '__eq__', '__format__', '__ge__',  \n",
        " '__getattribute__', '__getitem__', '__gt__', '__hash__', '__iadd__',  \n",
        " '__imul__', '__init__', '__init_subclass__', '__iter__', '__le__',  \n",
        " '__len__', '__lt__', '__mul__', '__ne__', '__new__', '__reduce__',  \n",
        " '__reduce_ex__', '__repr__', '__reversed__', '__rmul__', '__setattr__',  \n",
        " '__setitem__', '__sizeof__', '__str__', '__subclasshook__', 'append',  \n",
        " 'clear', 'copy', 'count', 'extend', 'index', 'insert', 'pop', 'remove',  \n",
        " 'reverse', 'sort']\n",
        "```"
      ]
    },
    {
      "cell_type": "markdown",
      "metadata": {
        "id": "QoX2Z_QHJO1o",
        "colab_type": "text"
      },
      "source": [
        "これらが、演算子オーバーロードに直接関係している。\n",
        "\n",
        "\n",
        "When Python programmers want to define how operators behave on their types, they do so by implementing methods with special names beginning and ending with 2 underscores such as __lt__, __setattr__, or __contains__. Generally, names that follow this double-underscore format have a special meaning to Python.\n",
        "\n",
        "So, for example, the expression x in [1, 2, 3] is actually calling the list method __contains__ behind-the-scenes. It's equivalent to (the much uglier) [1, 2, 3].__contains__(x).\n",
        "\n",
        "If you're curious to learn more, you can check out Python's official documentation, which describes many, many more of these special \"underscores\" methods.\n",
        "\n",
        "We won't be defining our own types in these lessons (if only there was time!), but I hope you'll get to experience the joys of defining your own wonderful, weird types later down the road.\n",
        "\n",
        "Your turn!\n",
        "Head over to the final coding exercise for one more round of coding questions involving imports, working with unfamiliar objects, and, of course, more gambling."
      ]
    },
    {
      "cell_type": "markdown",
      "metadata": {
        "id": "PiyXN2kfJQe3",
        "colab_type": "text"
      },
      "source": [
        "# 練習問題"
      ]
    },
    {
      "cell_type": "markdown",
      "metadata": {
        "id": "3mDHFch_JnVI",
        "colab_type": "text"
      },
      "source": [
        "Exercises\n",
        "\n",
        "\n",
        "\n",
        "\n",
        "\n",
        "1.\n",
        "After completing the exercises on lists and tuples, Jimmy noticed that, according to his estimate_average_slot_payout function, the slot machines at the Learn Python Casino are actually rigged against the house, and are profitable to play in the long run.\n",
        "\n",
        "Starting with $200 in his pocket, Jimmy has played the slots 500 times, recording his new balance in a list after each spin. He used Python's matplotlib library to make a graph of his balance over time:\n",
        "\n",
        "\n",
        "\n",
        "\n",
        "\n",
        "\n",
        "# Import the jimmy_slots submodule\n",
        "from learntools.python import jimmy_slots\n",
        "# Call the get_graph() function to get Jimmy's graph\n",
        "graph = jimmy_slots.get_graph()\n",
        "graph\n",
        "\n",
        "\n",
        "\n",
        "\n",
        "\n",
        "As you can see, he's hit a bit of bad luck recently. He wants to tweet this along with some choice emojis, but, as it looks right now, his followers will probably find it confusing. He's asked if you can help him make the following changes:\n",
        "\n",
        "Add the title \"Results of 500 slot machine pulls\"\n",
        "Make the y-axis start at 0.\n",
        "Add the label \"Balance\" to the y-axis\n",
        "After calling type(graph) you see that Jimmy's graph is of type matplotlib.axes._subplots.AxesSubplot. Hm, that's a new one. By calling dir(graph), you find three methods that seem like they'll be useful: .set_title(), .set_ylim(), and .set_ylabel().\n",
        "\n",
        "Use these methods to complete the function prettify_graph according to Jimmy's requests. We've already checked off the first request for you (setting a title).\n",
        "\n",
        "(Remember: if you don't know what these methods do, use the help() function!)\n",
        "\n",
        "\n",
        "\n",
        "\n",
        "\n",
        "\n",
        "def prettify_graph(graph):\n",
        "    \"\"\"Modify the given graph according to Jimmy's requests: add a title, make the y-axis\n",
        "    start at 0, label the y-axis. (And, if you're feeling ambitious, format the tick marks\n",
        "    as dollar amounts using the \"$\" symbol.)\n",
        "    \"\"\"\n",
        "    graph.set_title(\"Results of 500 slot machine pulls\")\n",
        "    # Complete steps 2 and 3 here\n",
        "​\n",
        "graph = jimmy_slots.get_graph()\n",
        "prettify_graph(graph)\n",
        "graph\n",
        "\n",
        "\n",
        "\n",
        "\n",
        "\n",
        "Bonus: Can you format the numbers on the y-axis so they look like dollar amounts? e.g. $200 instead of just 200.\n",
        "\n",
        "(We're not going to tell you what method(s) to use here. You'll need to go digging yourself with dir(graph) and/or help(graph).)\n",
        "\n",
        "\n",
        "\n",
        "\n",
        "\n",
        "\n",
        "# Check your answer (Run this code cell to receive credit!)\n",
        "q1.solution()\n",
        "\n",
        "\n",
        "\n",
        "\n",
        "\n",
        "2. 🌶️🌶️\n",
        "This is a very hard problem. Feel free to skip it if you are short on time:\n",
        "\n",
        "Luigi is trying to perform an analysis to determine the best items for winning races on the Mario Kart circuit. He has some data in the form of lists of dictionaries that look like...\n",
        "\n",
        "[\n",
        "    {'name': 'Peach', 'items': ['green shell', 'banana', 'green shell',], 'finish': 3},\n",
        "    {'name': 'Bowser', 'items': ['green shell',], 'finish': 1},\n",
        "    # Sometimes the racer's name wasn't recorded\n",
        "    {'name': None, 'items': ['mushroom',], 'finish': 2},\n",
        "    {'name': 'Toad', 'items': ['green shell', 'mushroom'], 'finish': 1},\n",
        "]\n",
        "'items' is a list of all the power-up items the racer picked up in that race, and 'finish' was their placement in the race (1 for first place, 3 for third, etc.).\n",
        "\n",
        "He wrote the function below to take a list like this and return a dictionary mapping each item to how many times it was picked up by first-place finishers.\n",
        "\n",
        "\n",
        "\n",
        "\n",
        "\n",
        "\n",
        "def best_items(racers):\n",
        "    \"\"\"Given a list of racer dictionaries, return a dictionary mapping items to the number\n",
        "    of times those items were picked up by racers who finished in first place.\n",
        "    \"\"\"\n",
        "    winner_item_counts = {}\n",
        "    for i in range(len(racers)):\n",
        "        # The i'th racer dictionary\n",
        "        racer = racers[i]\n",
        "        # We're only interested in racers who finished in first\n",
        "        if racer['finish'] == 1:\n",
        "            for i in racer['items']:\n",
        "                # Add one to the count for this item (adding it to the dict if necessary)\n",
        "                if i not in winner_item_counts:\n",
        "                    winner_item_counts[i] = 0\n",
        "                winner_item_counts[i] += 1\n",
        "​\n",
        "        # Data quality issues :/ Print a warning about racers with no name set. We'll take care of it later.\n",
        "        if racer['name'] is None:\n",
        "            print(\"WARNING: Encountered racer with unknown name on iteration {}/{} (racer = {})\".format(\n",
        "                i+1, len(racers), racer['name'])\n",
        "                 )\n",
        "    return winner_item_counts\n",
        "\n",
        "\n",
        "\n",
        "\n",
        "\n",
        "He tried it on a small example list above and it seemed to work correctly:\n",
        "\n",
        "\n",
        "\n",
        "\n",
        "\n",
        "\n",
        "sample = [\n",
        "    {'name': 'Peach', 'items': ['green shell', 'banana', 'green shell',], 'finish': 3},\n",
        "    {'name': 'Bowser', 'items': ['green shell',], 'finish': 1},\n",
        "    {'name': None, 'items': ['mushroom',], 'finish': 2},\n",
        "    {'name': 'Toad', 'items': ['green shell', 'mushroom'], 'finish': 1},\n",
        "]\n",
        "best_items(sample)\n",
        "\n",
        "\n",
        "\n",
        "\n",
        "\n",
        "However, when he tried running it on his full dataset, the program crashed with a TypeError.\n",
        "\n",
        "Can you guess why? Try running the code cell below to see the error message Luigi is getting. Once you've identified the bug, fix it in the cell below (so that it runs without any errors).\n",
        "\n",
        "Hint: Luigi's bug is similar to one we encountered in the tutorial when we talked about star imports.\n",
        "\n",
        "\n",
        "\n",
        "\n",
        "\n",
        "\n",
        "# Import luigi's full dataset of race data\n",
        "from learntools.python.luigi_analysis import full_dataset\n",
        "​\n",
        "# Fix me!\n",
        "def best_items(racers):\n",
        "    winner_item_counts = {}\n",
        "    for i in range(len(racers)):\n",
        "        # The i'th racer dictionary\n",
        "        racer = racers[i]\n",
        "        # We're only interested in racers who finished in first\n",
        "        if racer['finish'] == 1:\n",
        "            for i in racer['items']:\n",
        "                # Add one to the count for this item (adding it to the dict if necessary)\n",
        "                if i not in winner_item_counts:\n",
        "                    winner_item_counts[i] = 0\n",
        "                winner_item_counts[i] += 1\n",
        "​\n",
        "        # Data quality issues :/ Print a warning about racers with no name set. We'll take care of it later.\n",
        "        if racer['name'] is None:\n",
        "            print(\"WARNING: Encountered racer with unknown name on iteration {}/{} (racer = {})\".format(\n",
        "                i+1, len(racers), racer['name'])\n",
        "                 )\n",
        "    return winner_item_counts\n",
        "​\n",
        "# Try analyzing the imported full dataset\n",
        "best_items(full_dataset)\n",
        "\n",
        "\n",
        "\n",
        "\n",
        "\n",
        "#q2.hint()\n",
        "\n",
        "\n",
        "\n",
        "\n",
        "\n",
        "# Check your answer (Run this code cell to receive credit!)\n",
        "q2.solution()\n",
        "\n",
        "\n",
        "\n",
        "\n",
        "\n",
        "3. 🌶️\n",
        "Suppose we wanted to create a new type to represent hands in blackjack. One thing we might want to do with this type is overload the comparison operators like > and <= so that we could use them to check whether one hand beats another. e.g. it'd be cool if we could do this:\n",
        "\n",
        ">>> hand1 = BlackjackHand(['K', 'A'])\n",
        ">>> hand2 = BlackjackHand(['7', '10', 'A'])\n",
        ">>> hand1 > hand2\n",
        "True\n",
        "Well, we're not going to do all that in this question (defining custom classes is a bit beyond the scope of these lessons), but the code we're asking you to write in the function below is very similar to what we'd have to write if we were defining our own BlackjackHand class. (We'd put it in the __gt__ magic method to define our custom behaviour for >.)\n",
        "\n",
        "Fill in the body of the blackjack_hand_greater_than function according to the docstring.\n",
        "\n",
        "\n",
        "\n",
        "\n",
        "\n",
        "\n",
        "def blackjack_hand_greater_than(hand_1, hand_2):\n",
        "    \"\"\"\n",
        "    Return True if hand_1 beats hand_2, and False otherwise.\n",
        "    \n",
        "    In order for hand_1 to beat hand_2 the following must be true:\n",
        "    - The total of hand_1 must not exceed 21\n",
        "    - The total of hand_1 must exceed the total of hand_2 OR hand_2's total must exceed 21\n",
        "    \n",
        "    Hands are represented as a list of cards. Each card is represented by a string.\n",
        "    \n",
        "    When adding up a hand's total, cards with numbers count for that many points. Face\n",
        "    cards ('J', 'Q', and 'K') are worth 10 points. 'A' can count for 1 or 11.\n",
        "    \n",
        "    When determining a hand's total, you should try to count aces in the way that \n",
        "    maximizes the hand's total without going over 21. e.g. the total of ['A', 'A', '9'] is 21,\n",
        "    the total of ['A', 'A', '9', '3'] is 14.\n",
        "    \n",
        "    Examples:\n",
        "    >>> blackjack_hand_greater_than(['K'], ['3', '4'])\n",
        "    True\n",
        "    >>> blackjack_hand_greater_than(['K'], ['10'])\n",
        "    False\n",
        "    >>> blackjack_hand_greater_than(['K', 'K', '2'], ['3'])\n",
        "    False\n",
        "    \"\"\"\n",
        "    pass\n",
        "​\n",
        "# Check your answer\n",
        "q3.check()\n",
        "\n",
        "\n",
        "\n",
        "\n",
        "\n",
        "#q3.hint()\n",
        "#q3.solution()\n",
        "\n",
        "\n",
        "\n",
        "\n",
        "\n",
        "The end\n",
        "You've finished the Python course. Congrats!\n",
        "\n",
        "As always, if you have any questions about these exercises, or anything else you encountered in the course, come to the Learn Forum.\n",
        "\n",
        "You probably didn't put in all these hours of learning Python just to play silly games of chance, right? If you're interested in applying your newfound Python skills to some data science tasks, check out some of our other Kaggle Courses. Some good next steps are:\n",
        "\n",
        "Machine learning with scikit-learn\n",
        "Pandas for data manipulation\n",
        "Deep learning with TensorFlow\n",
        "Happy Pythoning!"
      ]
    }
  ]
}