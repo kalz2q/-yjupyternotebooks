{
  "nbformat": 4,
  "nbformat_minor": 0,
  "metadata": {
    "colab": {
      "name": "jprogramminglanguage.ipynb",
      "provenance": [],
      "toc_visible": true,
      "authorship_tag": "ABX9TyNJwiAk9XD13QR1Q8DjvLVG",
      "include_colab_link": true
    },
    "kernelspec": {
      "name": "python3",
      "display_name": "Python 3"
    },
    "language_info": {
      "name": "python"
    }
  },
  "cells": [
    {
      "cell_type": "markdown",
      "metadata": {
        "id": "view-in-github",
        "colab_type": "text"
      },
      "source": [
        "<a href=\"https://colab.research.google.com/github/kalz2q/mycolabnotebooks/blob/master/jprogramminglanguage.ipynb\" target=\"_parent\"><img src=\"https://colab.research.google.com/assets/colab-badge.svg\" alt=\"Open In Colab\"/></a>"
      ]
    },
    {
      "cell_type": "markdown",
      "source": [
        "# メモ"
      ],
      "metadata": {
        "id": "3vbGlSBprZJL"
      }
    },
    {
      "cell_type": "code",
      "source": [
        "# J programming language をインストールする\n",
        "%%capture\n",
        "!wget http://www.jsoftware.com/download/j903/install/j903_linux64.tar.gz\n",
        "!tar xzf j903_linux64.tar.gz"
      ],
      "metadata": {
        "id": "x6_boXDVsFH0"
      },
      "execution_count": 2,
      "outputs": []
    },
    {
      "cell_type": "markdown",
      "source": [
        "Primer https://www.jsoftware.com/help/primer/contents.htm  \n",
        "Learning J  https://www.jsoftware.com/help/learning/contents.htm  "
      ],
      "metadata": {
        "id": "ULT64CnwwVdG"
      }
    },
    {
      "cell_type": "code",
      "source": [
        "# プログラム script ファイル temp.ijs を作って J programming language で実行する方式とする\n",
        "%%writefile temp.ijs\n",
        "x =. 3\n",
        "x + 3"
      ],
      "metadata": {
        "colab": {
          "base_uri": "https://localhost:8080/"
        },
        "id": "WvgfJPvoy-ZH",
        "outputId": "9a961c72-1424-4ee7-e5e7-00801688de22"
      },
      "execution_count": null,
      "outputs": [
        {
          "output_type": "stream",
          "name": "stdout",
          "text": [
            "Overwriting temp.ijs\n"
          ]
        }
      ]
    },
    {
      "cell_type": "code",
      "source": [
        "!cat temp.ijs |./j903/jconsole.sh"
      ],
      "metadata": {
        "colab": {
          "base_uri": "https://localhost:8080/"
        },
        "id": "EV8xHYaLzcLC",
        "outputId": "cb8ae13f-cd44-4c72-99f5-a03f6a7b7c82"
      },
      "execution_count": null,
      "outputs": [
        {
          "output_type": "stream",
          "name": "stdout",
          "text": [
            "6\n"
          ]
        }
      ]
    },
    {
      "cell_type": "code",
      "source": [
        "# echo で標準入力から入力する方法\n",
        "!echo -e 'x =. 3 \\n x + 3' | ./j903/jconsole.sh"
      ],
      "metadata": {
        "colab": {
          "base_uri": "https://localhost:8080/"
        },
        "id": "IdrobbS8sw5W",
        "outputId": "e0404f0f-99e2-460f-a18f-5f7f5feddd7b"
      },
      "execution_count": null,
      "outputs": [
        {
          "output_type": "stream",
          "name": "stdout",
          "text": [
            "6\n"
          ]
        }
      ]
    },
    {
      "cell_type": "code",
      "source": [
        "# こんなやり方もある\n",
        "!./j903/jconsole.sh -js \"echo 'Hello world'\" \"exit 0\""
      ],
      "metadata": {
        "colab": {
          "base_uri": "https://localhost:8080/"
        },
        "id": "hFJdhQzssKAL",
        "outputId": "2041ee77-0b97-4d8a-eb13-ca68fd2387e6"
      },
      "execution_count": null,
      "outputs": [
        {
          "output_type": "stream",
          "name": "stdout",
          "text": [
            "Hello world\n"
          ]
        }
      ]
    },
    {
      "cell_type": "code",
      "source": [
        "# 四則演算\n",
        "%%writefile temp.ijs\n",
        "3 * 100\n",
        "3 - 138"
      ],
      "metadata": {
        "colab": {
          "base_uri": "https://localhost:8080/"
        },
        "id": "_zsKrFBf0wFP",
        "outputId": "a170a7a1-e9ab-434f-85ab-70d629746fa5"
      },
      "execution_count": null,
      "outputs": [
        {
          "output_type": "stream",
          "name": "stdout",
          "text": [
            "Overwriting temp.ijs\n"
          ]
        }
      ]
    },
    {
      "cell_type": "code",
      "source": [
        "!cat temp.ijs |./j903/jconsole.sh"
      ],
      "metadata": {
        "colab": {
          "base_uri": "https://localhost:8080/"
        },
        "id": "33_Z7UcC0WHn",
        "outputId": "1aa790e5-5e8d-4ab7-bdc6-edd9d8e09715"
      },
      "execution_count": null,
      "outputs": [
        {
          "output_type": "stream",
          "name": "stdout",
          "text": [
            "300\n",
            "_135\n"
          ]
        }
      ]
    },
    {
      "cell_type": "code",
      "source": [
        "# 引き算のマイナスと負の記号のマイナスは区別する\n",
        "# 負の記号の場合括弧で括るかアンダーバーを使う\n",
        "%%writefile temp.ijs\n",
        "3  + (-80)\n",
        "3  + _80"
      ],
      "metadata": {
        "colab": {
          "base_uri": "https://localhost:8080/"
        },
        "id": "TadkQmC41CMD",
        "outputId": "2b67a4a4-b1e4-4165-868f-1bb5455b1993"
      },
      "execution_count": null,
      "outputs": [
        {
          "output_type": "stream",
          "name": "stdout",
          "text": [
            "Overwriting temp.ijs\n"
          ]
        }
      ]
    },
    {
      "cell_type": "code",
      "source": [
        "!cat temp.ijs |./j903/jconsole.sh"
      ],
      "metadata": {
        "colab": {
          "base_uri": "https://localhost:8080/"
        },
        "id": "ltQFD_pA0lQN",
        "outputId": "3de6dfcb-efd4-46a2-9a78-952621389011"
      },
      "execution_count": null,
      "outputs": [
        {
          "output_type": "stream",
          "name": "stdout",
          "text": [
            "_77\n",
            "_77\n"
          ]
        }
      ]
    },
    {
      "cell_type": "code",
      "source": [
        "# 普通の割り算(少数割り算)が % \n",
        "# これは普通の言語と違うのでちゃんと覚えよう\n",
        "%%writefile temp.ijs\n",
        "3 % 4 \n",
        "4 % 2"
      ],
      "metadata": {
        "colab": {
          "base_uri": "https://localhost:8080/"
        },
        "id": "t8ciT6Th2GgI",
        "outputId": "ea5da375-ec13-4629-ea91-612ed57eed3b"
      },
      "execution_count": null,
      "outputs": [
        {
          "output_type": "stream",
          "name": "stdout",
          "text": [
            "Overwriting temp.ijs\n"
          ]
        }
      ]
    },
    {
      "cell_type": "code",
      "source": [
        "!cat temp.ijs |./j903/jconsole.sh"
      ],
      "metadata": {
        "colab": {
          "base_uri": "https://localhost:8080/"
        },
        "id": "gUlD6Fwn04if",
        "outputId": "47b73793-ee25-40d4-9ee7-e7403d5a7325"
      },
      "execution_count": null,
      "outputs": [
        {
          "output_type": "stream",
          "name": "stdout",
          "text": [
            "0.75\n",
            "2\n"
          ]
        }
      ]
    },
    {
      "cell_type": "code",
      "source": [
        "# アンダーバーは数字の前に付けると負の数を表し、それだけだと無限を表す\n",
        "# アンダーバーを 2 つ並べると負の無限大になる\n",
        "!echo '_ * _3' | ./j903/jconsole.sh"
      ],
      "metadata": {
        "id": "abyWzOdOJJ9P",
        "outputId": "aeea8142-078a-40a7-eafe-a26e5ce94c9b",
        "colab": {
          "base_uri": "https://localhost:8080/"
        }
      },
      "execution_count": null,
      "outputs": [
        {
          "output_type": "stream",
          "name": "stdout",
          "text": [
            "__\n"
          ]
        }
      ]
    },
    {
      "cell_type": "code",
      "source": [
        "# 代入は =. (イコールドット) 代入は J programming language では copula 繋辞と呼ぶ\n",
        "%%writefile temp.ijs\n",
        "v =. 23\n",
        "5 + v"
      ],
      "metadata": {
        "id": "bkIyzSSpLdil",
        "outputId": "b9967b25-d053-424c-ad51-0b6da994730b",
        "colab": {
          "base_uri": "https://localhost:8080/"
        }
      },
      "execution_count": null,
      "outputs": [
        {
          "output_type": "stream",
          "name": "stdout",
          "text": [
            "Overwriting temp.ijs\n"
          ]
        }
      ]
    },
    {
      "cell_type": "code",
      "source": [
        "!cat temp.ijs |./j903/jconsole.sh"
      ],
      "metadata": {
        "colab": {
          "base_uri": "https://localhost:8080/"
        },
        "id": "VJxgXZop1iso",
        "outputId": "71306e8f-ab3c-4033-ac82-a8cdfd47579b"
      },
      "execution_count": null,
      "outputs": [
        {
          "output_type": "stream",
          "name": "stdout",
          "text": [
            "28\n"
          ]
        }
      ]
    },
    {
      "cell_type": "code",
      "source": [
        "# 変数は immutable ではない\n",
        "%%writefile temp.ijs\n",
        "v =. 23\n",
        "v =. 45\n",
        "v"
      ],
      "metadata": {
        "id": "fkgfhYmxL642",
        "outputId": "55819219-4398-485b-84ee-63614723ce19",
        "colab": {
          "base_uri": "https://localhost:8080/"
        }
      },
      "execution_count": null,
      "outputs": [
        {
          "output_type": "stream",
          "name": "stdout",
          "text": [
            "Overwriting temp.ijs\n"
          ]
        }
      ]
    },
    {
      "cell_type": "code",
      "source": [
        "!cat temp.ijs |./j903/jconsole.sh"
      ],
      "metadata": {
        "colab": {
          "base_uri": "https://localhost:8080/"
        },
        "id": "u53manzK1yh-",
        "outputId": "ffcc5356-8569-46e2-f036-aee42b9d4b8a"
      },
      "execution_count": null,
      "outputs": [
        {
          "output_type": "stream",
          "name": "stdout",
          "text": [
            "45\n"
          ]
        }
      ]
    },
    {
      "cell_type": "code",
      "source": [
        "# 変数に関数を入れることが出来る\n",
        "%%writefile temp.ijs\n",
        "plus =. +\n",
        "23 plus 45"
      ],
      "metadata": {
        "id": "SNljabxOOOI9",
        "outputId": "afb0c7b9-6754-46bb-e0b4-db767deffa75",
        "colab": {
          "base_uri": "https://localhost:8080/"
        }
      },
      "execution_count": null,
      "outputs": [
        {
          "output_type": "stream",
          "name": "stdout",
          "text": [
            "Overwriting temp.ijs\n"
          ]
        }
      ]
    },
    {
      "cell_type": "code",
      "source": [
        "!cat temp.ijs |./j903/jconsole.sh"
      ],
      "metadata": {
        "colab": {
          "base_uri": "https://localhost:8080/"
        },
        "id": "rqpFw28X2GbG",
        "outputId": "ac885ff1-1f6e-418c-fc27-603c75707f33"
      },
      "execution_count": null,
      "outputs": [
        {
          "output_type": "stream",
          "name": "stdout",
          "text": [
            "68\n"
          ]
        }
      ]
    },
    {
      "cell_type": "code",
      "source": [
        "# NB. がコメント\n",
        "!echo -e '2 + 23 NB. これはコメント' | ./j903/jconsole.sh"
      ],
      "metadata": {
        "id": "_ybBNjs-Ohij",
        "outputId": "6b68d42e-3944-4022-ef64-99924c2c525c",
        "colab": {
          "base_uri": "https://localhost:8080/"
        }
      },
      "execution_count": null,
      "outputs": [
        {
          "output_type": "stream",
          "name": "stdout",
          "text": [
            "25\n"
          ]
        }
      ]
    },
    {
      "cell_type": "code",
      "source": [
        "# 全ての動詞は二項動詞としての意味と単項動詞としての意味を持っている\n",
        "# 例えばマイナスは二項動詞としては引き算であり、単項動詞としては否定 negate の意味である\n",
        "%%writefile temp.ijs\n",
        "5 - 3\n",
        "- 7"
      ],
      "metadata": {
        "id": "KRO5vDeNObuU",
        "outputId": "e7af8f08-08f3-453a-a379-c834abce2f4d",
        "colab": {
          "base_uri": "https://localhost:8080/"
        }
      },
      "execution_count": null,
      "outputs": [
        {
          "output_type": "stream",
          "name": "stdout",
          "text": [
            "Overwriting temp.ijs\n"
          ]
        }
      ]
    },
    {
      "cell_type": "code",
      "source": [
        "!cat temp.ijs |./j903/jconsole.sh"
      ],
      "metadata": {
        "colab": {
          "base_uri": "https://localhost:8080/"
        },
        "id": "CQjbpCDh2VR-",
        "outputId": "18a6f393-cea3-4940-ede5-343b17a3488b"
      },
      "execution_count": null,
      "outputs": [
        {
          "output_type": "stream",
          "name": "stdout",
          "text": [
            "2\n",
            "_7\n"
          ]
        }
      ]
    },
    {
      "cell_type": "code",
      "source": [
        "# % パーセントは二項動詞としては割り算、単項動詞として逆数の意味になる\n",
        "%%writefile temp.ijs\n",
        "5 % 2\n",
        "% 2"
      ],
      "metadata": {
        "id": "O-wX7eADPbs0",
        "outputId": "d081886a-76ff-447c-8c58-8fc54a1682a2",
        "colab": {
          "base_uri": "https://localhost:8080/"
        }
      },
      "execution_count": null,
      "outputs": [
        {
          "output_type": "stream",
          "name": "stdout",
          "text": [
            "Overwriting temp.ijs\n"
          ]
        }
      ]
    },
    {
      "cell_type": "code",
      "source": [
        "!cat temp.ijs |./j903/jconsole.sh"
      ],
      "metadata": {
        "colab": {
          "base_uri": "https://localhost:8080/"
        },
        "id": "1nVjLpi-2jrG",
        "outputId": "112dba5a-0be8-42e6-9666-8b8f5854e6c8"
      },
      "execution_count": null,
      "outputs": [
        {
          "output_type": "stream",
          "name": "stdout",
          "text": [
            "2.5\n",
            "0.5\n"
          ]
        }
      ]
    },
    {
      "cell_type": "code",
      "source": [
        "# j dictionary (vocabulary)の読み方\n",
        "# + プラスを観ると Conjugate・Plus とある\n",
        "# 単項動詞としては共役 conjugate であり、二項動詞としては plus である\n",
        "# J programming language は複素数をカバーしているので、このように複素数を対象とした説明になる\n",
        "%%writefile temp.ijs\n",
        "imagine =. 2j3\n",
        "+ imagine"
      ],
      "metadata": {
        "id": "9m088wuwQKJT",
        "outputId": "bdfcf84e-d7a9-46ae-aea7-6404e49fcae7",
        "colab": {
          "base_uri": "https://localhost:8080/"
        }
      },
      "execution_count": null,
      "outputs": [
        {
          "output_type": "stream",
          "name": "stdout",
          "text": [
            "Overwriting temp.ijs\n"
          ]
        }
      ]
    },
    {
      "cell_type": "code",
      "source": [
        "!cat temp.ijs |./j903/jconsole.sh"
      ],
      "metadata": {
        "colab": {
          "base_uri": "https://localhost:8080/"
        },
        "id": "jA65ejZr2sSd",
        "outputId": "f1365991-3e74-47ae-d2ed-d02af0aa4a39"
      },
      "execution_count": null,
      "outputs": [
        {
          "output_type": "stream",
          "name": "stdout",
          "text": [
            "2j_3\n"
          ]
        }
      ]
    },
    {
      "cell_type": "code",
      "source": [
        "# +. プラスドットと +: プラスコロンの二項動詞として論理演算の機能がある\n",
        "# +. GCD (Or)\n",
        "# +: Double Not-Or\n",
        "%%writefile temp.ijs\n",
        "0 +. 0\n",
        "0 +: 0"
      ],
      "metadata": {
        "id": "AnUcaIUXXkCk",
        "outputId": "877de374-d473-42b3-9752-a47628f11df9",
        "colab": {
          "base_uri": "https://localhost:8080/"
        }
      },
      "execution_count": null,
      "outputs": [
        {
          "output_type": "stream",
          "name": "stdout",
          "text": [
            "Overwriting temp.ijs\n"
          ]
        }
      ]
    },
    {
      "cell_type": "code",
      "source": [
        "!cat temp.ijs |./j903/jconsole.sh"
      ],
      "metadata": {
        "colab": {
          "base_uri": "https://localhost:8080/"
        },
        "id": "lrFSjYow227B",
        "outputId": "3ac915c0-9176-4fad-b31b-49aebdf09be6"
      },
      "execution_count": null,
      "outputs": [
        {
          "output_type": "stream",
          "name": "stdout",
          "text": [
            "0\n",
            "1\n"
          ]
        }
      ]
    },
    {
      "cell_type": "code",
      "source": [
        "# 問題 単項動詞としての +: *: -* %: を調べて実験する\n",
        "%%writefile temp.ijs\n",
        "+: 3     NB. 倍にする \n",
        "*: 3     NB. 自乗する\n",
        "-: 3     NB. 1/2 にする\n",
        "%: 3     NB. ルートを計算する"
      ],
      "metadata": {
        "id": "DqUs_vPRaX9D",
        "outputId": "9b753c2e-114f-450e-9885-5f62101a0762",
        "colab": {
          "base_uri": "https://localhost:8080/"
        }
      },
      "execution_count": null,
      "outputs": [
        {
          "output_type": "stream",
          "name": "stdout",
          "text": [
            "Overwriting temp.ijs\n"
          ]
        }
      ]
    },
    {
      "cell_type": "code",
      "source": [
        "!cat temp.ijs |./j903/jconsole.sh"
      ],
      "metadata": {
        "id": "-hKyoTAs4BlZ",
        "outputId": "aa1bbbe5-bbf4-4f97-98f7-47d277747de1",
        "colab": {
          "base_uri": "https://localhost:8080/"
        }
      },
      "execution_count": null,
      "outputs": [
        {
          "output_type": "stream",
          "name": "stdout",
          "text": [
            "6\n",
            "9\n",
            "1.5\n",
            "1.73205\n"
          ]
        }
      ]
    },
    {
      "cell_type": "code",
      "source": [
        "# 冪乗\n",
        "!echo -e '2 ^ 3' | ./j903/jconsole.sh "
      ],
      "metadata": {
        "id": "2N8mf3O7bple",
        "outputId": "5ac594e1-d8f7-4640-efcf-41b12f10f4aa",
        "colab": {
          "base_uri": "https://localhost:8080/"
        }
      },
      "execution_count": null,
      "outputs": [
        {
          "output_type": "stream",
          "name": "stdout",
          "text": [
            "8\n"
          ]
        }
      ]
    },
    {
      "cell_type": "code",
      "source": [
        "# リスト計算\n",
        "!echo -e '*: 1 2 3 4' | ./j903/jconsole.sh "
      ],
      "metadata": {
        "id": "VVDmLHbcbpgz",
        "outputId": "b53ead0e-5f3c-459f-d6cb-44756d5e1aa9",
        "colab": {
          "base_uri": "https://localhost:8080/"
        }
      },
      "execution_count": null,
      "outputs": [
        {
          "output_type": "stream",
          "name": "stdout",
          "text": [
            "1 4 9 16\n"
          ]
        }
      ]
    },
    {
      "cell_type": "code",
      "source": [
        "# リスト同士の足し算\n",
        "!echo -e '1 2 3 + 10 20 30' | ./j903/jconsole.sh "
      ],
      "metadata": {
        "id": "mvIv2uL_bpb9",
        "outputId": "c26ed26b-7809-44f0-de1b-3d4d2685148c",
        "colab": {
          "base_uri": "https://localhost:8080/"
        }
      },
      "execution_count": null,
      "outputs": [
        {
          "output_type": "stream",
          "name": "stdout",
          "text": [
            "11 22 33\n"
          ]
        }
      ]
    },
    {
      "cell_type": "code",
      "source": [
        "# 片側の要素数を 1 つにした場合\n",
        "%%writefile temp.ijs\n",
        "1 + 10 20 3\n",
        "1 2 3 + 10"
      ],
      "metadata": {
        "id": "Mh5OBTQY3PTi",
        "outputId": "4ba4a4e7-938c-4d03-a1b8-009bd1232fcd",
        "colab": {
          "base_uri": "https://localhost:8080/"
        }
      },
      "execution_count": null,
      "outputs": [
        {
          "output_type": "stream",
          "name": "stdout",
          "text": [
            "Overwriting temp.ijs\n"
          ]
        }
      ]
    },
    {
      "cell_type": "code",
      "source": [
        "!cat temp.ijs |./j903/jconsole.sh"
      ],
      "metadata": {
        "id": "UUZW_0ss40o4",
        "outputId": "3666064d-4550-4bfb-d2d2-c6a5a4659219",
        "colab": {
          "base_uri": "https://localhost:8080/"
        }
      },
      "execution_count": null,
      "outputs": [
        {
          "output_type": "stream",
          "name": "stdout",
          "text": [
            "11 21 4\n",
            "11 12 13\n"
          ]
        }
      ]
    },
    {
      "cell_type": "code",
      "source": [
        "# remainder (mod) is | 縦棒\n",
        "%%writefile temp.ijs\n",
        "2 | 0 1 2 3 4 5 6 7\n",
        "3 | 0 1 2 3 4 5 6 7"
      ],
      "metadata": {
        "id": "nIaOGgmN3Pha",
        "outputId": "336e0fe9-7703-40a4-a3b4-ccb5a070862a",
        "colab": {
          "base_uri": "https://localhost:8080/"
        }
      },
      "execution_count": null,
      "outputs": [
        {
          "output_type": "stream",
          "name": "stdout",
          "text": [
            "Overwriting temp.ijs\n"
          ]
        }
      ]
    },
    {
      "cell_type": "code",
      "source": [
        "!cat temp.ijs |./j903/jconsole.sh"
      ],
      "metadata": {
        "id": "UGUJzcub5BY8",
        "outputId": "a912cfd0-d494-48d7-b518-c08315aab5c7",
        "colab": {
          "base_uri": "https://localhost:8080/"
        }
      },
      "execution_count": null,
      "outputs": [
        {
          "output_type": "stream",
          "name": "stdout",
          "text": [
            "0 1 0 1 0 1 0 1\n",
            "0 1 2 0 1 2 0 1\n"
          ]
        }
      ]
    },
    {
      "cell_type": "code",
      "source": [
        "# 二項動詞の前後を反対にしてみる\n",
        "%%writefile temp.ijs\n",
        "0 1 2 3 4 5 6 7 | 2\n",
        "0 1 2 3 4 5 6 7 | 3"
      ],
      "metadata": {
        "id": "A__KHFLD3PtK",
        "outputId": "96adab1b-fad4-45bd-da91-73b8c94ecc1a",
        "colab": {
          "base_uri": "https://localhost:8080/"
        }
      },
      "execution_count": null,
      "outputs": [
        {
          "output_type": "stream",
          "name": "stdout",
          "text": [
            "Overwriting temp.ijs\n"
          ]
        }
      ]
    },
    {
      "cell_type": "code",
      "source": [
        "!cat temp.ijs |./j903/jconsole.sh"
      ],
      "metadata": {
        "id": "Hv4VHsKi5Ndq",
        "outputId": "e3d5538e-322c-4fe3-c6d6-4ac8b84b21ef",
        "colab": {
          "base_uri": "https://localhost:8080/"
        }
      },
      "execution_count": null,
      "outputs": [
        {
          "output_type": "stream",
          "name": "stdout",
          "text": [
            "2 0 0 2 2 2 2 2\n",
            "3 0 1 0 3 3 3 3\n"
          ]
        }
      ]
    },
    {
      "cell_type": "code",
      "source": [
        "# 数値の冪乗表現 exponential expression\n",
        "%%writefile temp.ijs\n",
        "3e3\n",
        "3e10\n",
        "3e19\n",
        "3e_4\n",
        "3e_5"
      ],
      "metadata": {
        "colab": {
          "base_uri": "https://localhost:8080/"
        },
        "id": "ZKelt-VTue4v",
        "outputId": "d25f62cf-fbaa-4e35-f4af-279987cfc69f"
      },
      "execution_count": null,
      "outputs": [
        {
          "output_type": "stream",
          "name": "stdout",
          "text": [
            "Overwriting temp.ijs\n"
          ]
        }
      ]
    },
    {
      "cell_type": "code",
      "source": [
        "!cat temp.ijs |./j903/jconsole.sh"
      ],
      "metadata": {
        "colab": {
          "base_uri": "https://localhost:8080/"
        },
        "id": "pSpE7Rkeue1R",
        "outputId": "f3b6f6b7-618b-4a36-b5d9-cb93636f9237"
      },
      "execution_count": null,
      "outputs": [
        {
          "output_type": "stream",
          "name": "stdout",
          "text": [
            "3000\n",
            "30000000000\n",
            "3e19\n",
            "0.0003\n",
            "3e_5\n"
          ]
        }
      ]
    },
    {
      "cell_type": "code",
      "source": [
        "# 文字列はシングルクオート\n",
        "# シングルクオートを 2 つ並べると文字列の中にシングルクオートが使える\n",
        "%%writefile temp.ijs\n",
        "'hello world'\n",
        "'put 2 ''s to get 1'' in the string'"
      ],
      "metadata": {
        "colab": {
          "base_uri": "https://localhost:8080/"
        },
        "id": "384diOD3uew9",
        "outputId": "c7445837-bab8-4036-b889-dd17dd790082"
      },
      "execution_count": null,
      "outputs": [
        {
          "output_type": "stream",
          "name": "stdout",
          "text": [
            "Overwriting temp.ijs\n"
          ]
        }
      ]
    },
    {
      "cell_type": "code",
      "source": [
        "!cat temp.ijs |./j903/jconsole.sh"
      ],
      "metadata": {
        "id": "RJe0BE3A7ByC",
        "outputId": "930ae37c-c615-459d-99c5-51fc2d72a788",
        "colab": {
          "base_uri": "https://localhost:8080/"
        }
      },
      "execution_count": null,
      "outputs": [
        {
          "output_type": "stream",
          "name": "stdout",
          "text": [
            "hello world\n",
            "put 2 's to get 1' in the string\n",
            "(\" double quote)\"\n"
          ]
        }
      ]
    },
    {
      "cell_type": "code",
      "source": [
        "# J programming language の単語分解を ;: セミコロンコロンで出来る\n",
        "# list が 1 つの word として扱われることに注意\n",
        "%%writefile temp.ijs\n",
        ";: '2 + 3'\n",
        ";: '2.5 + 3e4'\n",
        ";: 'a =. 1 2 3'\n",
        ";: 'test + 123 NB. this is a comment'\n",
        ";: 'def =. ''testing 1 2 3'''"
      ],
      "metadata": {
        "id": "5O3C6z938MQw",
        "outputId": "38eb020c-e8b0-4b92-90cc-42c0c2d3f313",
        "colab": {
          "base_uri": "https://localhost:8080/"
        }
      },
      "execution_count": 10,
      "outputs": [
        {
          "output_type": "stream",
          "name": "stdout",
          "text": [
            "Overwriting temp.ijs\n"
          ]
        }
      ]
    },
    {
      "cell_type": "code",
      "source": [
        "!cat temp.ijs |./j903/jconsole.sh"
      ],
      "metadata": {
        "id": "Mz00vEDl8MM6"
      },
      "execution_count": null,
      "outputs": []
    },
    {
      "cell_type": "code",
      "source": [
        "# スペースは必要ないが\n",
        "# 数字と文字の間のスペースと動詞の語尾変化に使われるドットとコロンの前後のスペースは必要な場合がある\n",
        "%%writefile temp.ijs\n",
        "2+3\n",
        ";:'2+3'\n",
        "plus =.+\n",
        ";:'2plus3'\n",
        ";:'a.b'"
      ],
      "metadata": {
        "id": "llKAyGg79WQ7",
        "colab": {
          "base_uri": "https://localhost:8080/"
        },
        "outputId": "2ec62fa9-0e9b-4865-93ba-af450eef0e73"
      },
      "execution_count": 14,
      "outputs": [
        {
          "output_type": "stream",
          "name": "stdout",
          "text": [
            "Overwriting temp.ijs\n"
          ]
        }
      ]
    },
    {
      "cell_type": "code",
      "source": [
        "!cat temp.ijs |./j903/jconsole.sh"
      ],
      "metadata": {
        "id": "8ZaUJpPE9WMd"
      },
      "execution_count": null,
      "outputs": []
    },
    {
      "cell_type": "code",
      "source": [
        "# 優先順位 pecedence はない\n",
        "# 右から評価する\n",
        "%%writefile temp.ijs\n",
        "2 * 3 + 4\n",
        "10 - 4 - 3\n",
        "10 - 4 - 3 - 1\n",
        "- - - 4\n",
        "2 * 4 + 5\n",
        "2 + 4 * 5\n",
        "2 - 4 - 5\n",
        "8 % 2 + 2"
      ],
      "metadata": {
        "colab": {
          "base_uri": "https://localhost:8080/"
        },
        "id": "LfNSimyzJSem",
        "outputId": "edc40e3b-9780-4258-d5f0-6e33af039bab"
      },
      "execution_count": 29,
      "outputs": [
        {
          "output_type": "stream",
          "name": "stdout",
          "text": [
            "Overwriting temp.ijs\n"
          ]
        }
      ]
    },
    {
      "cell_type": "code",
      "source": [
        "!cat temp.ijs |./j903/jconsole.sh"
      ],
      "metadata": {
        "id": "AT2JJ10GJSbO"
      },
      "execution_count": null,
      "outputs": []
    },
    {
      "cell_type": "markdown",
      "source": [
        "# いまここ"
      ],
      "metadata": {
        "id": "A73Xn6UubtiM"
      }
    },
    {
      "cell_type": "code",
      "source": [
        "# 関数定義 verb defiition"
      ],
      "metadata": {
        "id": "EIOcR5UhJSYB"
      },
      "execution_count": null,
      "outputs": []
    },
    {
      "cell_type": "code",
      "source": [
        ""
      ],
      "metadata": {
        "id": "5Vsr2cOmLpEx"
      },
      "execution_count": null,
      "outputs": []
    },
    {
      "cell_type": "code",
      "source": [
        "Let's assume that the problem is to convert temperatures between \n",
        "Fahrenheit and centigrade. You need to define a verb that does that.\n",
        "\n",
        "The following is a definition of the verb centigrade that will convert \n",
        "its argument from a Fahrenheit value to a centigrade value.\n",
        "   centigrade =. 3 : 0\n",
        "t1 =. y - 32\n",
        "t2 =. t1 * 5\n",
        "t3 =. t2 % 9\n",
        ")\n",
        "At this point you want to do something that works, rather than deal with problems arising from typos, so transcribe it carefully.\n",
        "\n",
        "In the ijx window enter the first line:\n",
        "\n",
        "   centigrade =. 3 : 0\n",
        "Type it exactly as shown. There must be a blank between the 3 and the : . The 3 indicates that you are defining a verb and the 0 indicates that the definition is in the subsequent input lines.\n",
        "\n",
        "After you enter the above line the caret is at the left margin and has not been indented the three spaces as it normally is. This indicates that the system is waiting for you to enter the rest of the definition.\n",
        "\n",
        "Type in the lines following the definition of centigrade as shown. They are at the left margin, and so look like they might have been displayed by the system, but in fact they are your entries of the lines required to define the verb.\n",
        "\n",
        "The final line that contains just the ) ends this special definition input mode. After you enter this final line, the system again indents the three spaces indicating that it is ready to execute a sentence.\n",
        "\n",
        "If you entered the definition correctly, you should be able to experiment with your new verb.\n",
        "   centigrade 32\t\n",
        "0\n",
        "   centigrade _40\n",
        "_40\n",
        "   centigrade 212\n",
        "100\n",
        "Let's look at the definition to understand how it works. The y in the first sentence of the definition is the name of the argument of the verb. When you execute the verb with an argument the first line will subtract 32 from the argument and define t1. When the first line is finished, execution proceeds to the next line, which defines t2 as the result of t1 times 5. Execution proceeds to the next line and defines t3 as t2 divided by 9. There are no more lines, so the execution of the verb is finished. The result of the verb is the last result that was evaluated.\n",
        "\n",
        "We used 3 : 0 to define the verb. The phrase verb define is equivalent and some find it easier to read. However, it hides information and we will use the 3 : 0 form.\n",
        "\n",
        "   centrigrade =. verb define\n",
        ". . .\n",
        ")\n",
        ">>  <<  Usr  Pri  JfC  LJ  Phr  Dic  Voc  !:  Help  Primer"
      ],
      "metadata": {
        "id": "935SaD6bLo74"
      },
      "execution_count": null,
      "outputs": []
    },
    {
      "cell_type": "code",
      "source": [
        ">>  <<  Usr  Pri  JfC  LJ  Phr  Dic  Voc  !:  Help  Primer\n",
        "Monad and dyad definition\n",
        "As discussed in the earlier section on ambivalence, all verbs had two definitions, a monad and a dyad. You have defined only a monad for centigrade. What about the dyad?\n",
        "   23 centigrade 32\n",
        "|domain error\n",
        "|   23     centigrade 32\n",
        "Since you didn't provide a dyad definition, it is empty and this is treated as if the dyad had no arguments in its domain, and any arguments you give will cause a domain error.\n",
        "\n",
        "Let's examine some simple examples of defining dyadic, monadic, and both cases.\n",
        "   monadminus =. 3 : 0\n",
        "- y\n",
        ")\n",
        "   monadminus 5\n",
        "_5\n",
        "   5 monadminus 3\n",
        "|domain error\n",
        "|   5     monadminus 3\n",
        "The above defines the monad of the verb named monadminus. Applying it monadically works and applying it dyadically fails.\n",
        "\n",
        "In one-line definitions like this you can take a shortcut and make the definition on a single line and avoid entering the special input mode that needs to be ended with the ). The following is an equivalent way of doing the above definition:\n",
        "   monadminus =. 3 : '- y'\n",
        "The string contains the single line that makes up the definition. It is provided directly as the right argument of : instead of the 0 used earlier.\n",
        "\n",
        "So far you have defined just the monadic case of a verb. You can also define a verb with just a dyadic definition. Instead of 3 as the left argument to : use a 4 to define the dyadic case.\n",
        "   dyadminus =. 4 : 'x - y'\n",
        "   5 dyadminus 3\n",
        "2\n",
        "   dyadminus 5\n",
        "|domain error\n",
        "|       dyadminus 5\n",
        "In the monad case the y name is the right argument and in the dyad case x is the left argument and y is the right.\n",
        "\n",
        "What if you want to define both cases of a verb?\n",
        "   minus =. 3 : 0\n",
        "- y\n",
        ":\n",
        "x - y\n",
        ")\n",
        "The : by itself on a line separates the monad and dyad definitions.\n",
        "   3 minus 5\n",
        "_2\n",
        "   5 minus 3\n",
        "2\n",
        "   minus 5\n",
        "_5\n",
        ">>  <<  Usr  Pri  JfC  LJ  Phr  Dic  Voc  !:  Help  Primer"
      ],
      "metadata": {
        "id": "1EBzflGFJSUV"
      },
      "execution_count": null,
      "outputs": []
    },
    {
      "cell_type": "markdown",
      "source": [
        "# EOF"
      ],
      "metadata": {
        "id": "gzk4EVV1bqH1"
      }
    }
  ]
}