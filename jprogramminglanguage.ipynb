{
  "nbformat": 4,
  "nbformat_minor": 0,
  "metadata": {
    "colab": {
      "name": "jprogramminglanguage.ipynb",
      "provenance": [],
      "toc_visible": true,
      "authorship_tag": "ABX9TyP7AwIikiRCHFYWuRckKW9I",
      "include_colab_link": true
    },
    "kernelspec": {
      "name": "python3",
      "display_name": "Python 3"
    },
    "language_info": {
      "name": "python"
    }
  },
  "cells": [
    {
      "cell_type": "markdown",
      "metadata": {
        "id": "view-in-github",
        "colab_type": "text"
      },
      "source": [
        "<a href=\"https://colab.research.google.com/github/kalz2q/mycolabnotebooks/blob/master/jprogramminglanguage.ipynb\" target=\"_parent\"><img src=\"https://colab.research.google.com/assets/colab-badge.svg\" alt=\"Open In Colab\"/></a>"
      ]
    },
    {
      "cell_type": "markdown",
      "source": [
        "# メモ"
      ],
      "metadata": {
        "id": "3vbGlSBprZJL"
      }
    },
    {
      "cell_type": "code",
      "source": [
        "# j programming language をインストールする\n",
        "%%capture\n",
        "!wget http://www.jsoftware.com/download/j903/install/j903_linux64.tar.gz\n",
        "!tar xzf j903_linux64.tar.gz"
      ],
      "metadata": {
        "id": "x6_boXDVsFH0"
      },
      "execution_count": 2,
      "outputs": []
    },
    {
      "cell_type": "code",
      "source": [
        "# とりあえず echo で標準入力から入力して標準出力に出してみよう\n",
        "!echo \"3 + 3\" | ./j903/jconsole.sh"
      ],
      "metadata": {
        "colab": {
          "base_uri": "https://localhost:8080/"
        },
        "id": "IdrobbS8sw5W",
        "outputId": "7e3e1ee6-45de-4b43-a026-476c73351482"
      },
      "execution_count": 3,
      "outputs": [
        {
          "output_type": "stream",
          "name": "stdout",
          "text": [
            "6\n"
          ]
        }
      ]
    },
    {
      "cell_type": "code",
      "source": [
        "# こんなやり方もあるが使わない\n",
        "!./j903/jconsole.sh -js \"echo 'Hello world'\" \"exit 0\""
      ],
      "metadata": {
        "colab": {
          "base_uri": "https://localhost:8080/"
        },
        "id": "hFJdhQzssKAL",
        "outputId": "2041ee77-0b97-4d8a-eb13-ca68fd2387e6"
      },
      "execution_count": 5,
      "outputs": [
        {
          "output_type": "stream",
          "name": "stdout",
          "text": [
            "Hello world\n"
          ]
        }
      ]
    },
    {
      "cell_type": "code",
      "source": [
        "# 四則演算あたりから始めてみよう\n",
        "!echo \"3 * 100\" | ./j903/jconsole.sh\n",
        "!echo \"3 - 138\" | ./j903/jconsole.sh"
      ],
      "metadata": {
        "id": "_zsKrFBf0wFP",
        "outputId": "2aabc1ac-db96-451a-9069-27850d759ffe",
        "colab": {
          "base_uri": "https://localhost:8080/"
        }
      },
      "execution_count": 6,
      "outputs": [
        {
          "output_type": "stream",
          "name": "stdout",
          "text": [
            "300\n",
            "_135\n"
          ]
        }
      ]
    },
    {
      "cell_type": "code",
      "source": [
        "# 引き算のマイナスと負の記号のマイナスは区別する\n",
        "# 負の記号の場合括弧で括るかアンダーバーを使う\n",
        "!echo \"3  + (-80)\" | ./j903/jconsole.sh\n",
        "!echo \"3  + _80\" | ./j903/jconsole.sh"
      ],
      "metadata": {
        "id": "TadkQmC41CMD",
        "outputId": "5926baa7-26f0-4905-d783-0aa7a1aeb22d",
        "colab": {
          "base_uri": "https://localhost:8080/"
        }
      },
      "execution_count": 9,
      "outputs": [
        {
          "output_type": "stream",
          "name": "stdout",
          "text": [
            "_77\n",
            "_77\n"
          ]
        }
      ]
    },
    {
      "cell_type": "code",
      "source": [
        "# 普通の割り算(少数割り算)が % \n",
        "!echo \"3 % 4\" | ./j903/jconsole.sh #=> 0.75"
      ],
      "metadata": {
        "id": "t8ciT6Th2GgI",
        "outputId": "b2ed0ff3-fe54-4456-e211-5250ebf50b25",
        "colab": {
          "base_uri": "https://localhost:8080/"
        }
      },
      "execution_count": 13,
      "outputs": [
        {
          "output_type": "stream",
          "name": "stdout",
          "text": [
            "0.75\n"
          ]
        }
      ]
    },
    {
      "cell_type": "code",
      "source": [
        "# 普通の割り算(少数割り算)が % \n",
        "!echo -e \"X <  4 1.1 3 6\\n+/X\" | ./j903/jconsole.sh #=> 0.75"
      ],
      "metadata": {
        "id": "jAauSPu12K6A",
        "outputId": "c88a6cd0-bbcd-4d64-edd4-e0649b470691",
        "colab": {
          "base_uri": "https://localhost:8080/"
        }
      },
      "execution_count": 16,
      "outputs": [
        {
          "output_type": "stream",
          "name": "stdout",
          "text": [
            "|value error: X\n",
            "|       X<4 1.1 3 6\n",
            "+/ X\n"
          ]
        }
      ]
    },
    {
      "cell_type": "code",
      "source": [
        ""
      ],
      "metadata": {
        "id": "_nQabPFz3Cqu"
      },
      "execution_count": null,
      "outputs": []
    }
  ]
}