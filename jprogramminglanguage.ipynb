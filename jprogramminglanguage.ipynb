{
  "nbformat": 4,
  "nbformat_minor": 0,
  "metadata": {
    "colab": {
      "name": "jprogramminglanguage.ipynb",
      "provenance": [],
      "toc_visible": true,
      "authorship_tag": "ABX9TyM32KZ+RN6dMqgSE21Uv4zz",
      "include_colab_link": true
    },
    "kernelspec": {
      "name": "python3",
      "display_name": "Python 3"
    },
    "language_info": {
      "name": "python"
    }
  },
  "cells": [
    {
      "cell_type": "markdown",
      "metadata": {
        "id": "view-in-github",
        "colab_type": "text"
      },
      "source": [
        "<a href=\"https://colab.research.google.com/github/kalz2q/mycolabnotebooks/blob/master/jprogramminglanguage.ipynb\" target=\"_parent\"><img src=\"https://colab.research.google.com/assets/colab-badge.svg\" alt=\"Open In Colab\"/></a>"
      ]
    },
    {
      "cell_type": "markdown",
      "source": [
        "# メモ"
      ],
      "metadata": {
        "id": "3vbGlSBprZJL"
      }
    },
    {
      "cell_type": "code",
      "source": [
        "# J programming language をインストールする\n",
        "%%capture\n",
        "!wget http://www.jsoftware.com/download/j903/install/j903_linux64.tar.gz\n",
        "!tar xzf j903_linux64.tar.gz"
      ],
      "metadata": {
        "id": "x6_boXDVsFH0"
      },
      "execution_count": 1,
      "outputs": []
    },
    {
      "cell_type": "markdown",
      "source": [
        "Primer https://www.jsoftware.com/help/primer/contents.htm  \n",
        "Learning J  https://www.jsoftware.com/help/learning/contents.htm  "
      ],
      "metadata": {
        "id": "ULT64CnwwVdG"
      }
    },
    {
      "cell_type": "code",
      "source": [
        "# プログラム script ファイル temp.ijs を作って J programming language で実行する方式とする\n",
        "%%writefile temp.ijs\n",
        "x =. 3\n",
        "x + 3"
      ],
      "metadata": {
        "id": "WvgfJPvoy-ZH",
        "outputId": "9a961c72-1424-4ee7-e5e7-00801688de22",
        "colab": {
          "base_uri": "https://localhost:8080/"
        }
      },
      "execution_count": 4,
      "outputs": [
        {
          "output_type": "stream",
          "name": "stdout",
          "text": [
            "Overwriting temp.ijs\n"
          ]
        }
      ]
    },
    {
      "cell_type": "code",
      "source": [
        "!cat temp.ijs |./j903/jconsole.sh"
      ],
      "metadata": {
        "id": "EV8xHYaLzcLC",
        "outputId": "cb8ae13f-cd44-4c72-99f5-a03f6a7b7c82",
        "colab": {
          "base_uri": "https://localhost:8080/"
        }
      },
      "execution_count": 5,
      "outputs": [
        {
          "output_type": "stream",
          "name": "stdout",
          "text": [
            "6\n"
          ]
        }
      ]
    },
    {
      "cell_type": "code",
      "source": [
        "# echo で標準入力から入力する方法\n",
        "!echo -e 'x =. 3 \\n x + 3' | ./j903/jconsole.sh"
      ],
      "metadata": {
        "colab": {
          "base_uri": "https://localhost:8080/"
        },
        "id": "IdrobbS8sw5W",
        "outputId": "e0404f0f-99e2-460f-a18f-5f7f5feddd7b"
      },
      "execution_count": 8,
      "outputs": [
        {
          "output_type": "stream",
          "name": "stdout",
          "text": [
            "6\n"
          ]
        }
      ]
    },
    {
      "cell_type": "code",
      "source": [
        "# こんなやり方もある\n",
        "!./j903/jconsole.sh -js \"echo 'Hello world'\" \"exit 0\""
      ],
      "metadata": {
        "colab": {
          "base_uri": "https://localhost:8080/"
        },
        "id": "hFJdhQzssKAL",
        "outputId": "2041ee77-0b97-4d8a-eb13-ca68fd2387e6"
      },
      "execution_count": null,
      "outputs": [
        {
          "output_type": "stream",
          "name": "stdout",
          "text": [
            "Hello world\n"
          ]
        }
      ]
    },
    {
      "cell_type": "code",
      "source": [
        "# 四則演算\n",
        "%%writefile temp.ijs\n",
        "3 * 100\n",
        "3 - 138"
      ],
      "metadata": {
        "colab": {
          "base_uri": "https://localhost:8080/"
        },
        "id": "_zsKrFBf0wFP",
        "outputId": "a170a7a1-e9ab-434f-85ab-70d629746fa5"
      },
      "execution_count": 9,
      "outputs": [
        {
          "output_type": "stream",
          "name": "stdout",
          "text": [
            "Overwriting temp.ijs\n"
          ]
        }
      ]
    },
    {
      "cell_type": "code",
      "source": [
        "!cat temp.ijs |./j903/jconsole.sh"
      ],
      "metadata": {
        "id": "33_Z7UcC0WHn",
        "outputId": "1aa790e5-5e8d-4ab7-bdc6-edd9d8e09715",
        "colab": {
          "base_uri": "https://localhost:8080/"
        }
      },
      "execution_count": 10,
      "outputs": [
        {
          "output_type": "stream",
          "name": "stdout",
          "text": [
            "300\n",
            "_135\n"
          ]
        }
      ]
    },
    {
      "cell_type": "code",
      "source": [
        "# 引き算のマイナスと負の記号のマイナスは区別する\n",
        "# 負の記号の場合括弧で括るかアンダーバーを使う\n",
        "%%writefile temp.ijs\n",
        "3  + (-80)\n",
        "3  + _80"
      ],
      "metadata": {
        "colab": {
          "base_uri": "https://localhost:8080/"
        },
        "id": "TadkQmC41CMD",
        "outputId": "2b67a4a4-b1e4-4165-868f-1bb5455b1993"
      },
      "execution_count": 11,
      "outputs": [
        {
          "output_type": "stream",
          "name": "stdout",
          "text": [
            "Overwriting temp.ijs\n"
          ]
        }
      ]
    },
    {
      "cell_type": "code",
      "source": [
        "!cat temp.ijs |./j903/jconsole.sh"
      ],
      "metadata": {
        "id": "ltQFD_pA0lQN",
        "outputId": "3de6dfcb-efd4-46a2-9a78-952621389011",
        "colab": {
          "base_uri": "https://localhost:8080/"
        }
      },
      "execution_count": 12,
      "outputs": [
        {
          "output_type": "stream",
          "name": "stdout",
          "text": [
            "_77\n",
            "_77\n"
          ]
        }
      ]
    },
    {
      "cell_type": "code",
      "source": [
        "# 普通の割り算(少数割り算)が % \n",
        "# これは普通の言語と違うのでちゃんと覚えよう\n",
        "%%writefile temp.ijs\n",
        "3 % 4 \n",
        "4 % 2"
      ],
      "metadata": {
        "colab": {
          "base_uri": "https://localhost:8080/"
        },
        "id": "t8ciT6Th2GgI",
        "outputId": "ea5da375-ec13-4629-ea91-612ed57eed3b"
      },
      "execution_count": 15,
      "outputs": [
        {
          "output_type": "stream",
          "name": "stdout",
          "text": [
            "Overwriting temp.ijs\n"
          ]
        }
      ]
    },
    {
      "cell_type": "code",
      "source": [
        "!cat temp.ijs |./j903/jconsole.sh"
      ],
      "metadata": {
        "id": "gUlD6Fwn04if",
        "outputId": "47b73793-ee25-40d4-9ee7-e7403d5a7325",
        "colab": {
          "base_uri": "https://localhost:8080/"
        }
      },
      "execution_count": 16,
      "outputs": [
        {
          "output_type": "stream",
          "name": "stdout",
          "text": [
            "0.75\n",
            "2\n"
          ]
        }
      ]
    },
    {
      "cell_type": "code",
      "source": [
        "# アンダーバーは数字の前に付けると負の数を表し、それだけだと無限を表す\n",
        "# アンダーバーを 2 つ並べると負の無限大になる\n",
        "!echo '_ * _3' | ./j903/jconsole.sh"
      ],
      "metadata": {
        "id": "abyWzOdOJJ9P",
        "outputId": "aeea8142-078a-40a7-eafe-a26e5ce94c9b",
        "colab": {
          "base_uri": "https://localhost:8080/"
        }
      },
      "execution_count": null,
      "outputs": [
        {
          "output_type": "stream",
          "name": "stdout",
          "text": [
            "__\n"
          ]
        }
      ]
    },
    {
      "cell_type": "code",
      "source": [
        "# 代入は =. (イコールドット) 代入は J programming language では copula 繋辞と呼ぶ\n",
        "%%writefile temp.ijs\n",
        "v =. 23\n",
        "5 + v"
      ],
      "metadata": {
        "id": "bkIyzSSpLdil",
        "outputId": "b9967b25-d053-424c-ad51-0b6da994730b",
        "colab": {
          "base_uri": "https://localhost:8080/"
        }
      },
      "execution_count": 17,
      "outputs": [
        {
          "output_type": "stream",
          "name": "stdout",
          "text": [
            "Overwriting temp.ijs\n"
          ]
        }
      ]
    },
    {
      "cell_type": "code",
      "source": [
        "!cat temp.ijs |./j903/jconsole.sh"
      ],
      "metadata": {
        "id": "VJxgXZop1iso",
        "outputId": "71306e8f-ab3c-4033-ac82-a8cdfd47579b",
        "colab": {
          "base_uri": "https://localhost:8080/"
        }
      },
      "execution_count": 18,
      "outputs": [
        {
          "output_type": "stream",
          "name": "stdout",
          "text": [
            "28\n"
          ]
        }
      ]
    },
    {
      "cell_type": "code",
      "source": [
        "# 変数は immutable ではない\n",
        "%%writefile temp.ijs\n",
        "v =. 23\n",
        "v =. 45\n",
        "v"
      ],
      "metadata": {
        "id": "fkgfhYmxL642",
        "outputId": "55819219-4398-485b-84ee-63614723ce19",
        "colab": {
          "base_uri": "https://localhost:8080/"
        }
      },
      "execution_count": 21,
      "outputs": [
        {
          "output_type": "stream",
          "name": "stdout",
          "text": [
            "Overwriting temp.ijs\n"
          ]
        }
      ]
    },
    {
      "cell_type": "code",
      "source": [
        "!cat temp.ijs |./j903/jconsole.sh"
      ],
      "metadata": {
        "id": "u53manzK1yh-",
        "outputId": "ffcc5356-8569-46e2-f036-aee42b9d4b8a",
        "colab": {
          "base_uri": "https://localhost:8080/"
        }
      },
      "execution_count": 22,
      "outputs": [
        {
          "output_type": "stream",
          "name": "stdout",
          "text": [
            "45\n"
          ]
        }
      ]
    },
    {
      "cell_type": "code",
      "source": [
        "# 変数に関数を入れることが出来る\n",
        "%%writefile temp.ijs\n",
        "plus =. +\n",
        "23 plus 45"
      ],
      "metadata": {
        "id": "SNljabxOOOI9",
        "outputId": "afb0c7b9-6754-46bb-e0b4-db767deffa75",
        "colab": {
          "base_uri": "https://localhost:8080/"
        }
      },
      "execution_count": 23,
      "outputs": [
        {
          "output_type": "stream",
          "name": "stdout",
          "text": [
            "Overwriting temp.ijs\n"
          ]
        }
      ]
    },
    {
      "cell_type": "code",
      "source": [
        "!cat temp.ijs |./j903/jconsole.sh"
      ],
      "metadata": {
        "id": "rqpFw28X2GbG",
        "outputId": "ac885ff1-1f6e-418c-fc27-603c75707f33",
        "colab": {
          "base_uri": "https://localhost:8080/"
        }
      },
      "execution_count": 24,
      "outputs": [
        {
          "output_type": "stream",
          "name": "stdout",
          "text": [
            "68\n"
          ]
        }
      ]
    },
    {
      "cell_type": "code",
      "source": [
        "# NB. がコメント\n",
        "!echo -e '2 + 23 NB. これはコメント' | ./j903/jconsole.sh"
      ],
      "metadata": {
        "id": "_ybBNjs-Ohij",
        "outputId": "6b68d42e-3944-4022-ef64-99924c2c525c",
        "colab": {
          "base_uri": "https://localhost:8080/"
        }
      },
      "execution_count": 25,
      "outputs": [
        {
          "output_type": "stream",
          "name": "stdout",
          "text": [
            "25\n"
          ]
        }
      ]
    },
    {
      "cell_type": "code",
      "source": [
        "# 全ての動詞は二項動詞としての意味と単項動詞としての意味を持っている\n",
        "# 例えばマイナスは二項動詞としては引き算であり、単項動詞としては否定 negate の意味である\n",
        "%%writefile temp.ijs\n",
        "5 - 3\n",
        "- 7"
      ],
      "metadata": {
        "id": "KRO5vDeNObuU",
        "outputId": "e7af8f08-08f3-453a-a379-c834abce2f4d",
        "colab": {
          "base_uri": "https://localhost:8080/"
        }
      },
      "execution_count": 26,
      "outputs": [
        {
          "output_type": "stream",
          "name": "stdout",
          "text": [
            "Overwriting temp.ijs\n"
          ]
        }
      ]
    },
    {
      "cell_type": "code",
      "source": [
        "!cat temp.ijs |./j903/jconsole.sh"
      ],
      "metadata": {
        "id": "CQjbpCDh2VR-",
        "outputId": "18a6f393-cea3-4940-ede5-343b17a3488b",
        "colab": {
          "base_uri": "https://localhost:8080/"
        }
      },
      "execution_count": 27,
      "outputs": [
        {
          "output_type": "stream",
          "name": "stdout",
          "text": [
            "2\n",
            "_7\n"
          ]
        }
      ]
    },
    {
      "cell_type": "code",
      "source": [
        "# % パーセントは二項動詞としては割り算、単項動詞として逆数の意味になる\n",
        "%%writefile temp.ijs\n",
        "5 % 2\n",
        "% 2"
      ],
      "metadata": {
        "id": "O-wX7eADPbs0",
        "outputId": "d081886a-76ff-447c-8c58-8fc54a1682a2",
        "colab": {
          "base_uri": "https://localhost:8080/"
        }
      },
      "execution_count": 28,
      "outputs": [
        {
          "output_type": "stream",
          "name": "stdout",
          "text": [
            "Overwriting temp.ijs\n"
          ]
        }
      ]
    },
    {
      "cell_type": "code",
      "source": [
        "!cat temp.ijs |./j903/jconsole.sh"
      ],
      "metadata": {
        "id": "1nVjLpi-2jrG",
        "outputId": "112dba5a-0be8-42e6-9666-8b8f5854e6c8",
        "colab": {
          "base_uri": "https://localhost:8080/"
        }
      },
      "execution_count": 29,
      "outputs": [
        {
          "output_type": "stream",
          "name": "stdout",
          "text": [
            "2.5\n",
            "0.5\n"
          ]
        }
      ]
    },
    {
      "cell_type": "code",
      "source": [
        "# j dictionary (vocabulary)の読み方\n",
        "# + プラスを観ると Conjugate・Plus とある\n",
        "# 単項動詞としては共役 conjugate であり、二項動詞としては plus である\n",
        "# J programming language は複素数をカバーしているので、このように複素数を対象とした説明になる\n",
        "%%writefile temp.ijs\n",
        "imagine =. 2j3\n",
        "+ imagine"
      ],
      "metadata": {
        "id": "9m088wuwQKJT",
        "outputId": "bdfcf84e-d7a9-46ae-aea7-6404e49fcae7",
        "colab": {
          "base_uri": "https://localhost:8080/"
        }
      },
      "execution_count": 30,
      "outputs": [
        {
          "output_type": "stream",
          "name": "stdout",
          "text": [
            "Overwriting temp.ijs\n"
          ]
        }
      ]
    },
    {
      "cell_type": "code",
      "source": [
        "!cat temp.ijs |./j903/jconsole.sh"
      ],
      "metadata": {
        "id": "jA65ejZr2sSd",
        "outputId": "f1365991-3e74-47ae-d2ed-d02af0aa4a39",
        "colab": {
          "base_uri": "https://localhost:8080/"
        }
      },
      "execution_count": 31,
      "outputs": [
        {
          "output_type": "stream",
          "name": "stdout",
          "text": [
            "2j_3\n"
          ]
        }
      ]
    },
    {
      "cell_type": "code",
      "source": [
        "# +. プラスドットと +: プラスコロンの二項動詞として論理演算の機能がある\n",
        "# +. GCD (Or)\n",
        "# +: Double Not-Or\n",
        "%%writefile temp.ijs\n",
        "0 +. 0\n",
        "0 +: 0"
      ],
      "metadata": {
        "id": "AnUcaIUXXkCk",
        "outputId": "877de374-d473-42b3-9752-a47628f11df9",
        "colab": {
          "base_uri": "https://localhost:8080/"
        }
      },
      "execution_count": 32,
      "outputs": [
        {
          "output_type": "stream",
          "name": "stdout",
          "text": [
            "Overwriting temp.ijs\n"
          ]
        }
      ]
    },
    {
      "cell_type": "code",
      "source": [
        "!cat temp.ijs |./j903/jconsole.sh"
      ],
      "metadata": {
        "id": "lrFSjYow227B",
        "outputId": "3ac915c0-9176-4fad-b31b-49aebdf09be6",
        "colab": {
          "base_uri": "https://localhost:8080/"
        }
      },
      "execution_count": 33,
      "outputs": [
        {
          "output_type": "stream",
          "name": "stdout",
          "text": [
            "0\n",
            "1\n"
          ]
        }
      ]
    },
    {
      "cell_type": "markdown",
      "source": [
        "# いまここ ijs 化"
      ],
      "metadata": {
        "id": "3j1RkRi83BXk"
      }
    },
    {
      "cell_type": "code",
      "source": [
        "# 問題 単項動詞としての +: *: -* %: を調べて実験する\n",
        "!echo -e '+: 3' | ./j903/jconsole.sh #=> 6 倍にする\n",
        "!echo -e '*: 3' | ./j903/jconsole.sh #=> 9 自乗する\n",
        "!echo -e '-: 3' | ./j903/jconsole.sh #=> 1.5 1/2 にする\n",
        "!echo -e '%: 3' | ./j903/jconsole.sh #=> 1.73205 ルートを計算する"
      ],
      "metadata": {
        "id": "DqUs_vPRaX9D",
        "outputId": "d88750f6-17f0-4faf-ec22-7cd2cde923e9",
        "colab": {
          "base_uri": "https://localhost:8080/"
        }
      },
      "execution_count": null,
      "outputs": [
        {
          "output_type": "stream",
          "name": "stdout",
          "text": [
            "6\n",
            "9\n",
            "1.5\n",
            "1.73205\n"
          ]
        }
      ]
    },
    {
      "cell_type": "code",
      "source": [
        "# 冪乗\n",
        "!echo -e '2 ^ 3' | ./j903/jconsole.sh "
      ],
      "metadata": {
        "id": "2N8mf3O7bple",
        "outputId": "5ac594e1-d8f7-4640-efcf-41b12f10f4aa",
        "colab": {
          "base_uri": "https://localhost:8080/"
        }
      },
      "execution_count": null,
      "outputs": [
        {
          "output_type": "stream",
          "name": "stdout",
          "text": [
            "8\n"
          ]
        }
      ]
    },
    {
      "cell_type": "code",
      "source": [
        "# リスト計算\n",
        "!echo -e '*: 1 2 3 4' | ./j903/jconsole.sh "
      ],
      "metadata": {
        "id": "VVDmLHbcbpgz",
        "outputId": "b53ead0e-5f3c-459f-d6cb-44756d5e1aa9",
        "colab": {
          "base_uri": "https://localhost:8080/"
        }
      },
      "execution_count": null,
      "outputs": [
        {
          "output_type": "stream",
          "name": "stdout",
          "text": [
            "1 4 9 16\n"
          ]
        }
      ]
    },
    {
      "cell_type": "code",
      "source": [
        "# リスト同士の足し算\n",
        "!echo -e '1 2 3 + 10 20 30' | ./j903/jconsole.sh "
      ],
      "metadata": {
        "id": "mvIv2uL_bpb9",
        "outputId": "c26ed26b-7809-44f0-de1b-3d4d2685148c",
        "colab": {
          "base_uri": "https://localhost:8080/"
        }
      },
      "execution_count": null,
      "outputs": [
        {
          "output_type": "stream",
          "name": "stdout",
          "text": [
            "11 22 33\n"
          ]
        }
      ]
    },
    {
      "cell_type": "code",
      "source": [
        "!echo -e '1 + 10 20 30' | ./j903/jconsole.sh\n",
        "!echo -e '1 2 3 + 10' | ./j903/jconsole.sh "
      ],
      "metadata": {
        "id": "Mh5OBTQY3PTi",
        "outputId": "0c96d3df-6d6b-46af-f244-aa984bf5b403",
        "colab": {
          "base_uri": "https://localhost:8080/"
        }
      },
      "execution_count": null,
      "outputs": [
        {
          "output_type": "stream",
          "name": "stdout",
          "text": [
            "11 21 31\n",
            "11 12 13\n",
            "|length error\n",
            "|   1 2    +10 20 30\n"
          ]
        }
      ]
    },
    {
      "cell_type": "code",
      "source": [
        "# remainder (mod) is | 縦棒\n",
        "!echo -e '2 | 0 1 2 3 4 5 6 7' | ./j903/jconsole.sh\n",
        "!echo -e '3 | 0 1 2 3 4 5 6 7' | ./j903/jconsole.sh "
      ],
      "metadata": {
        "id": "nIaOGgmN3Pha",
        "outputId": "fd4205f5-cbaa-4b76-f535-a8d0b8328b58",
        "colab": {
          "base_uri": "https://localhost:8080/"
        }
      },
      "execution_count": null,
      "outputs": [
        {
          "output_type": "stream",
          "name": "stdout",
          "text": [
            "0 1 0 1 0 1 0 1\n",
            "0 1 2 0 1 2 0 1\n"
          ]
        }
      ]
    },
    {
      "cell_type": "code",
      "source": [
        "# 二項動詞の前後どちらが先か\n",
        "!echo -e '0 1 2 3 4 5 6 7 | 2' | ./j903/jconsole.sh\n",
        "!echo -e '0 1 2 3 4 5 6 7 | 3' | ./j903/jconsole.sh "
      ],
      "metadata": {
        "id": "A__KHFLD3PtK",
        "outputId": "5f9cf609-8dd9-4b72-c7e5-fb3bcbf80326",
        "colab": {
          "base_uri": "https://localhost:8080/"
        }
      },
      "execution_count": null,
      "outputs": [
        {
          "output_type": "stream",
          "name": "stdout",
          "text": [
            "2 0 0 2 2 2 2 2\n",
            "3 0 1 0 3 3 3 3\n"
          ]
        }
      ]
    },
    {
      "cell_type": "markdown",
      "source": [
        "# いまここ"
      ],
      "metadata": {
        "id": "A73Xn6UubtiM"
      }
    },
    {
      "cell_type": "code",
      "source": [
        ""
      ],
      "metadata": {
        "id": "ZKelt-VTue4v"
      },
      "execution_count": null,
      "outputs": []
    },
    {
      "cell_type": "code",
      "source": [
        ""
      ],
      "metadata": {
        "id": "pSpE7Rkeue1R"
      },
      "execution_count": null,
      "outputs": []
    },
    {
      "cell_type": "code",
      "source": [
        ""
      ],
      "metadata": {
        "id": "384diOD3uew9"
      },
      "execution_count": null,
      "outputs": []
    },
    {
      "cell_type": "markdown",
      "source": [
        "# EOF"
      ],
      "metadata": {
        "id": "gzk4EVV1bqH1"
      }
    }
  ]
}