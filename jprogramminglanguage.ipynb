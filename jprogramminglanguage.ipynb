{
  "nbformat": 4,
  "nbformat_minor": 0,
  "metadata": {
    "colab": {
      "name": "jprogramminglanguage.ipynb",
      "provenance": [],
      "toc_visible": true,
      "authorship_tag": "ABX9TyMVtcJcAqrwvYjM7+sabL2y",
      "include_colab_link": true
    },
    "kernelspec": {
      "name": "python3",
      "display_name": "Python 3"
    },
    "language_info": {
      "name": "python"
    }
  },
  "cells": [
    {
      "cell_type": "markdown",
      "metadata": {
        "id": "view-in-github",
        "colab_type": "text"
      },
      "source": [
        "<a href=\"https://colab.research.google.com/github/kalz2q/mycolabnotebooks/blob/master/jprogramminglanguage.ipynb\" target=\"_parent\"><img src=\"https://colab.research.google.com/assets/colab-badge.svg\" alt=\"Open In Colab\"/></a>"
      ]
    },
    {
      "cell_type": "markdown",
      "source": [
        "# メモ"
      ],
      "metadata": {
        "id": "3vbGlSBprZJL"
      }
    },
    {
      "cell_type": "code",
      "source": [
        "# j programming language をインストールする\n",
        "%%capture\n",
        "!wget http://www.jsoftware.com/download/j903/install/j903_linux64.tar.gz\n",
        "!tar xzf j903_linux64.tar.gz"
      ],
      "metadata": {
        "id": "x6_boXDVsFH0"
      },
      "execution_count": 2,
      "outputs": []
    },
    {
      "cell_type": "code",
      "source": [
        "# とりあえず echo で標準入力から入力して標準出力に出してみる\n",
        "!echo \"3 + 3\" | ./j903/jconsole.sh"
      ],
      "metadata": {
        "colab": {
          "base_uri": "https://localhost:8080/"
        },
        "id": "IdrobbS8sw5W",
        "outputId": "7e3e1ee6-45de-4b43-a026-476c73351482"
      },
      "execution_count": null,
      "outputs": [
        {
          "output_type": "stream",
          "name": "stdout",
          "text": [
            "6\n"
          ]
        }
      ]
    },
    {
      "cell_type": "code",
      "source": [
        "# こんなやり方もあるが使わない\n",
        "!./j903/jconsole.sh -js \"echo 'Hello world'\" \"exit 0\""
      ],
      "metadata": {
        "colab": {
          "base_uri": "https://localhost:8080/"
        },
        "id": "hFJdhQzssKAL",
        "outputId": "2041ee77-0b97-4d8a-eb13-ca68fd2387e6"
      },
      "execution_count": null,
      "outputs": [
        {
          "output_type": "stream",
          "name": "stdout",
          "text": [
            "Hello world\n"
          ]
        }
      ]
    },
    {
      "cell_type": "code",
      "source": [
        "# 四則演算あたりから始めてみよう\n",
        "!echo \"3 * 100\" | ./j903/jconsole.sh\n",
        "!echo \"3 - 138\" | ./j903/jconsole.sh"
      ],
      "metadata": {
        "colab": {
          "base_uri": "https://localhost:8080/"
        },
        "id": "_zsKrFBf0wFP",
        "outputId": "2aabc1ac-db96-451a-9069-27850d759ffe"
      },
      "execution_count": null,
      "outputs": [
        {
          "output_type": "stream",
          "name": "stdout",
          "text": [
            "300\n",
            "_135\n"
          ]
        }
      ]
    },
    {
      "cell_type": "code",
      "source": [
        "# 引き算のマイナスと負の記号のマイナスは区別する\n",
        "# 負の記号の場合括弧で括るかアンダーバーを使う\n",
        "!echo \"3  + (-80)\" | ./j903/jconsole.sh\n",
        "!echo \"3  + _80\" | ./j903/jconsole.sh"
      ],
      "metadata": {
        "colab": {
          "base_uri": "https://localhost:8080/"
        },
        "id": "TadkQmC41CMD",
        "outputId": "5926baa7-26f0-4905-d783-0aa7a1aeb22d"
      },
      "execution_count": null,
      "outputs": [
        {
          "output_type": "stream",
          "name": "stdout",
          "text": [
            "_77\n",
            "_77\n"
          ]
        }
      ]
    },
    {
      "cell_type": "code",
      "source": [
        "# 普通の割り算(少数割り算)が % \n",
        "# これは普通の言語と違うのでちゃんと覚えよう\n",
        "!echo \"3 % 4\" | ./j903/jconsole.sh #=> 0.75"
      ],
      "metadata": {
        "colab": {
          "base_uri": "https://localhost:8080/"
        },
        "id": "t8ciT6Th2GgI",
        "outputId": "b2ed0ff3-fe54-4456-e211-5250ebf50b25"
      },
      "execution_count": null,
      "outputs": [
        {
          "output_type": "stream",
          "name": "stdout",
          "text": [
            "0.75\n"
          ]
        }
      ]
    },
    {
      "cell_type": "code",
      "source": [
        "# jprogramming の script ファイルは拡張子を ijs にする\n",
        "%%writefile temp.ijs\n",
        "3 + 8"
      ],
      "metadata": {
        "colab": {
          "base_uri": "https://localhost:8080/"
        },
        "id": "_nQabPFz3Cqu",
        "outputId": "2606b592-88e5-4347-be68-772fdc7cf952"
      },
      "execution_count": null,
      "outputs": [
        {
          "output_type": "stream",
          "name": "stdout",
          "text": [
            "Writing temp.ijs\n"
          ]
        }
      ]
    },
    {
      "cell_type": "code",
      "source": [
        "# temp.ijs を jprogramming で実行する方法\n",
        "!./j903/jconsole.sh < temp.ijs"
      ],
      "metadata": {
        "id": "Cban5LJW_0jN",
        "outputId": "919da074-f871-47ec-c136-176bfe5cd645",
        "colab": {
          "base_uri": "https://localhost:8080/"
        }
      },
      "execution_count": null,
      "outputs": [
        {
          "output_type": "stream",
          "name": "stdout",
          "text": [
            "11\n"
          ]
        }
      ]
    },
    {
      "cell_type": "code",
      "source": [
        "# 数字を小数点で始めても数字にならない\n",
        "!echo '.5 + 3' | ./j903/jconsole.sh"
      ],
      "metadata": {
        "id": "1eWdHwxyCmTE",
        "outputId": "796a327f-5c1d-4323-91de-569ba63bcbdf",
        "colab": {
          "base_uri": "https://localhost:8080/"
        }
      },
      "execution_count": null,
      "outputs": [
        {
          "output_type": "stream",
          "name": "stdout",
          "text": [
            "|syntax error\n",
            "|        .5+3\n"
          ]
        }
      ]
    },
    {
      "cell_type": "code",
      "source": [
        "# アンダーバーは数字の前に付けると負の数を表し、それだけだと無限を表す\n",
        "# アンダーバーを 2 つ並べると負の無限大になる\n",
        "!echo '_ * _3' | ./j903/jconsole.sh"
      ],
      "metadata": {
        "id": "abyWzOdOJJ9P",
        "outputId": "aeea8142-078a-40a7-eafe-a26e5ce94c9b",
        "colab": {
          "base_uri": "https://localhost:8080/"
        }
      },
      "execution_count": null,
      "outputs": [
        {
          "output_type": "stream",
          "name": "stdout",
          "text": [
            "__\n"
          ]
        }
      ]
    },
    {
      "cell_type": "code",
      "source": [
        "# 代入は =. (イコールドット) 代入は jprogramming では copula 繋辞と呼ぶ\n",
        "!echo -e 'v =. 23 \\n 5 + v' | ./j903/jconsole.sh"
      ],
      "metadata": {
        "id": "bkIyzSSpLdil",
        "outputId": "48a514e3-c302-4929-e5f6-fc98aabb4265",
        "colab": {
          "base_uri": "https://localhost:8080/"
        }
      },
      "execution_count": null,
      "outputs": [
        {
          "output_type": "stream",
          "name": "stdout",
          "text": [
            "28\n"
          ]
        }
      ]
    },
    {
      "cell_type": "code",
      "source": [
        "# 変数は immutable ではない\n",
        "!echo -e 'v =. 23 \\n v =. 45 \\n 5 + v' | ./j903/jconsole.sh"
      ],
      "metadata": {
        "id": "fkgfhYmxL642",
        "outputId": "d9b8a50e-d0e0-4ad8-8b6c-9a1e05dea09c",
        "colab": {
          "base_uri": "https://localhost:8080/"
        }
      },
      "execution_count": null,
      "outputs": [
        {
          "output_type": "stream",
          "name": "stdout",
          "text": [
            "50\n"
          ]
        }
      ]
    },
    {
      "cell_type": "code",
      "source": [
        "# ファイルを作って実行してみる\n",
        "%%writefile temp.ijs\n",
        "abc =. 123\n",
        "abc"
      ],
      "metadata": {
        "id": "jYmT2UGANz7E",
        "outputId": "15e3e2e4-950b-4c82-bed5-64f284b95bb7",
        "colab": {
          "base_uri": "https://localhost:8080/"
        }
      },
      "execution_count": null,
      "outputs": [
        {
          "output_type": "stream",
          "name": "stdout",
          "text": [
            "Overwriting temp.ijs\n"
          ]
        }
      ]
    },
    {
      "cell_type": "code",
      "source": [
        "!./j903/jconsole.sh < temp.ijs"
      ],
      "metadata": {
        "id": "Mxg_yZ0VOCG7",
        "outputId": "de06be20-6a35-4dc2-cb84-0a4ab8f9439c",
        "colab": {
          "base_uri": "https://localhost:8080/"
        }
      },
      "execution_count": null,
      "outputs": [
        {
          "output_type": "stream",
          "name": "stdout",
          "text": [
            "123\n"
          ]
        }
      ]
    },
    {
      "cell_type": "code",
      "source": [
        "# 変数に関数を入れることが出来る\n",
        "!echo -e 'plus =. + \\n 23 plus 45' | ./j903/jconsole.sh"
      ],
      "metadata": {
        "id": "SNljabxOOOI9",
        "outputId": "6270e7f8-8a2b-483f-ccae-606c4d9610dd",
        "colab": {
          "base_uri": "https://localhost:8080/"
        }
      },
      "execution_count": null,
      "outputs": [
        {
          "output_type": "stream",
          "name": "stdout",
          "text": [
            "68\n"
          ]
        }
      ]
    },
    {
      "cell_type": "code",
      "source": [
        "# NB. がコメント\n",
        "!echo -e '2 + 23 NB. これはコメント' | ./j903/jconsole.sh"
      ],
      "metadata": {
        "id": "_ybBNjs-Ohij",
        "outputId": "f5b6b405-c949-4518-cc80-dce0952b5497",
        "colab": {
          "base_uri": "https://localhost:8080/"
        }
      },
      "execution_count": null,
      "outputs": [
        {
          "output_type": "stream",
          "name": "stdout",
          "text": [
            "25\n"
          ]
        }
      ]
    },
    {
      "cell_type": "code",
      "source": [
        "# 全ての動詞は二項動詞としての意味と単項動詞としての意味を持っている\n",
        "# 例えばマイナスは二項動詞としては引き算であり、単項動詞としては否定 negate の意味である\n",
        "!echo -e '5 - 3 \\n - 7' | ./j903/jconsole.sh"
      ],
      "metadata": {
        "id": "KRO5vDeNObuU",
        "outputId": "f16062eb-2b23-4998-dff7-505d37c5fe0c",
        "colab": {
          "base_uri": "https://localhost:8080/"
        }
      },
      "execution_count": null,
      "outputs": [
        {
          "output_type": "stream",
          "name": "stdout",
          "text": [
            "2\n",
            "_7\n"
          ]
        }
      ]
    },
    {
      "cell_type": "code",
      "source": [
        "# % パーセントは二項動詞としては割り算、単項動詞として逆数の意味になる\n",
        "!echo -e '5 % 2 \\n % 2' | ./j903/jconsole.sh"
      ],
      "metadata": {
        "id": "O-wX7eADPbs0",
        "outputId": "4f6b7c52-6677-49e5-c837-ae467d2b0c9e",
        "colab": {
          "base_uri": "https://localhost:8080/"
        }
      },
      "execution_count": null,
      "outputs": [
        {
          "output_type": "stream",
          "name": "stdout",
          "text": [
            "2.5\n",
            "0.5\n"
          ]
        }
      ]
    },
    {
      "cell_type": "code",
      "source": [
        "# j dictionary (vocabulary)の読み方\n",
        "# + プラスを観ると Conjugate・Plus とある\n",
        "# 単項動詞としては共役 conjugate であり、二項動詞としては plus である\n",
        "# jprogramming は複素数をカバーしているので、このように複素数を対象とした説明になる\n",
        "!echo -e 'imagine =. 2j3 \\n + imagine' | ./j903/jconsole.sh"
      ],
      "metadata": {
        "id": "9m088wuwQKJT",
        "outputId": "88095ca7-5baa-49b2-d56e-3e3f1b9af60f",
        "colab": {
          "base_uri": "https://localhost:8080/"
        }
      },
      "execution_count": null,
      "outputs": [
        {
          "output_type": "stream",
          "name": "stdout",
          "text": [
            "2j_3\n"
          ]
        }
      ]
    },
    {
      "cell_type": "code",
      "source": [
        "# +. プラスドットと +: プラスコロンの二項動詞として論理演算の機能がある\n",
        "# +. GCD (Or)\n",
        "# +: Double Not-Or\n",
        "!echo -e '0 +. 0' | ./j903/jconsole.sh\n",
        "!echo -e '0 +: 0' | ./j903/jconsole.sh"
      ],
      "metadata": {
        "id": "AnUcaIUXXkCk",
        "outputId": "aff6aacb-29a5-4784-9cc1-b7374116bdce",
        "colab": {
          "base_uri": "https://localhost:8080/"
        }
      },
      "execution_count": null,
      "outputs": [
        {
          "output_type": "stream",
          "name": "stdout",
          "text": [
            "0\n",
            "1\n"
          ]
        }
      ]
    },
    {
      "cell_type": "code",
      "source": [
        "# 問題 単項動詞としての +: *: -* %: を調べて実験する\n",
        "!echo -e '+: 3' | ./j903/jconsole.sh #=> 6 倍にする\n",
        "!echo -e '*: 3' | ./j903/jconsole.sh #=> 9 自乗する\n",
        "!echo -e '-: 3' | ./j903/jconsole.sh #=> 1.5 1/2 にする\n",
        "!echo -e '%: 3' | ./j903/jconsole.sh #=> 1.73205 ルートを計算する"
      ],
      "metadata": {
        "id": "DqUs_vPRaX9D",
        "outputId": "d88750f6-17f0-4faf-ec22-7cd2cde923e9",
        "colab": {
          "base_uri": "https://localhost:8080/"
        }
      },
      "execution_count": null,
      "outputs": [
        {
          "output_type": "stream",
          "name": "stdout",
          "text": [
            "6\n",
            "9\n",
            "1.5\n",
            "1.73205\n"
          ]
        }
      ]
    },
    {
      "cell_type": "markdown",
      "source": [
        "# いまここ"
      ],
      "metadata": {
        "id": "A73Xn6UubtiM"
      }
    },
    {
      "cell_type": "code",
      "source": [
        "# 冪乗\n",
        "!echo -e '2 ^ 3' | ./j903/jconsole.sh "
      ],
      "metadata": {
        "id": "2N8mf3O7bple",
        "outputId": "5ac594e1-d8f7-4640-efcf-41b12f10f4aa",
        "colab": {
          "base_uri": "https://localhost:8080/"
        }
      },
      "execution_count": 3,
      "outputs": [
        {
          "output_type": "stream",
          "name": "stdout",
          "text": [
            "8\n"
          ]
        }
      ]
    },
    {
      "cell_type": "code",
      "source": [
        "# リスト計算\n",
        "!echo -e '*: 1 2 3 4' | ./j903/jconsole.sh "
      ],
      "metadata": {
        "id": "VVDmLHbcbpgz",
        "outputId": "b53ead0e-5f3c-459f-d6cb-44756d5e1aa9",
        "colab": {
          "base_uri": "https://localhost:8080/"
        }
      },
      "execution_count": 4,
      "outputs": [
        {
          "output_type": "stream",
          "name": "stdout",
          "text": [
            "1 4 9 16\n"
          ]
        }
      ]
    },
    {
      "cell_type": "code",
      "source": [
        "# リスト同士の足し算\n",
        "!echo -e '1 2 3 + 10 20 30' | ./j903/jconsole.sh "
      ],
      "metadata": {
        "id": "mvIv2uL_bpb9",
        "outputId": "c26ed26b-7809-44f0-de1b-3d4d2685148c",
        "colab": {
          "base_uri": "https://localhost:8080/"
        }
      },
      "execution_count": 5,
      "outputs": [
        {
          "output_type": "stream",
          "name": "stdout",
          "text": [
            "11 22 33\n"
          ]
        }
      ]
    },
    {
      "cell_type": "code",
      "source": [
        "!echo -e '1 + 10 20 30' | ./j903/jconsole.sh\n",
        "!echo -e '1 2 3 + 10' | ./j903/jconsole.sh "
      ],
      "metadata": {
        "id": "Mh5OBTQY3PTi",
        "outputId": "0c96d3df-6d6b-46af-f244-aa984bf5b403",
        "colab": {
          "base_uri": "https://localhost:8080/"
        }
      },
      "execution_count": 6,
      "outputs": [
        {
          "output_type": "stream",
          "name": "stdout",
          "text": [
            "11 21 31\n",
            "11 12 13\n",
            "|length error\n",
            "|   1 2    +10 20 30\n"
          ]
        }
      ]
    },
    {
      "cell_type": "code",
      "source": [
        "# remainder (mod) is | 縦棒\n",
        "!echo -e '2 | 0 1 2 3 4 5 6 7' | ./j903/jconsole.sh\n",
        "!echo -e '3 | 0 1 2 3 4 5 6 7' | ./j903/jconsole.sh "
      ],
      "metadata": {
        "id": "nIaOGgmN3Pha",
        "outputId": "fd4205f5-cbaa-4b76-f535-a8d0b8328b58",
        "colab": {
          "base_uri": "https://localhost:8080/"
        }
      },
      "execution_count": 7,
      "outputs": [
        {
          "output_type": "stream",
          "name": "stdout",
          "text": [
            "0 1 0 1 0 1 0 1\n",
            "0 1 2 0 1 2 0 1\n"
          ]
        }
      ]
    },
    {
      "cell_type": "code",
      "source": [
        "# 二項動詞の前後どちらが先か\n",
        "!echo -e '0 1 2 3 4 5 6 7 | 2' | ./j903/jconsole.sh\n",
        "!echo -e '0 1 2 3 4 5 6 7 | 3' | ./j903/jconsole.sh "
      ],
      "metadata": {
        "id": "A__KHFLD3PtK",
        "outputId": "5f9cf609-8dd9-4b72-c7e5-fb3bcbf80326",
        "colab": {
          "base_uri": "https://localhost:8080/"
        }
      },
      "execution_count": 9,
      "outputs": [
        {
          "output_type": "stream",
          "name": "stdout",
          "text": [
            "2 0 0 2 2 2 2 2\n",
            "3 0 1 0 3 3 3 3\n"
          ]
        }
      ]
    },
    {
      "cell_type": "markdown",
      "source": [
        "# EOF"
      ],
      "metadata": {
        "id": "gzk4EVV1bqH1"
      }
    }
  ]
}