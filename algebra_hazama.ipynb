{
  "nbformat": 4,
  "nbformat_minor": 0,
  "metadata": {
    "kernelspec": {
      "display_name": "Python 3",
      "language": "python",
      "name": "python3"
    },
    "language_info": {
      "codemirror_mode": {
        "name": "ipython",
        "version": 3
      },
      "file_extension": ".py",
      "mimetype": "text/x-python",
      "name": "python",
      "nbconvert_exporter": "python",
      "pygments_lexer": "ipython3",
      "version": "3.6.6"
    },
    "toc": {
      "base_numbering": 1,
      "nav_menu": {},
      "number_sections": true,
      "sideBar": true,
      "skip_h1_title": false,
      "title_cell": "Table of Contents",
      "title_sidebar": "Contents",
      "toc_cell": false,
      "toc_position": {},
      "toc_section_display": true,
      "toc_window_display": true
    },
    "colab": {
      "name": "algebra_hazama.ipynb",
      "provenance": [],
      "toc_visible": true,
      "include_colab_link": true
    }
  },
  "cells": [
    {
      "cell_type": "markdown",
      "metadata": {
        "id": "view-in-github",
        "colab_type": "text"
      },
      "source": [
        "<a href=\"https://colab.research.google.com/github/kalz2q/mycolabnotebooks/blob/master/algebra_hazama.ipynb\" target=\"_parent\"><img src=\"https://colab.research.google.com/assets/colab-badge.svg\" alt=\"Open In Colab\"/></a>"
      ]
    },
    {
      "cell_type": "markdown",
      "metadata": {
        "id": "U8kKw1oQ9U1B"
      },
      "source": [
        "# メモ\n",
        "\n",
        "初等代数学 硲文夫\n",
        "\n",
        "はざまふみお\n",
        "\n",
        "を読む\n",
        "\n",
        "方針\n",
        "\n",
        "1. 数式はうつす。\n",
        "2. 問題はやる。少なくとも問題は書く。"
      ]
    },
    {
      "cell_type": "markdown",
      "metadata": {
        "id": "QZhmhcQd9U1H"
      },
      "source": [
        "定義\n",
        "\n",
        "$a, b$ が $n$ を法として合同であるを、下記のように書く。\n",
        "$$ a \\equiv b  \\pmod n $$\n",
        "またこのような式を合同式とよぶ。\n",
        "\n",
        "\n",
        "$14\\equiv 8 \\pmod 3$\n",
        "\n",
        "$21 \\equiv 35 \\pmod 7$\n",
        "\n",
        "$-29 \\equiv 15 \\pmod{11}$"
      ]
    },
    {
      "cell_type": "code",
      "metadata": {
        "id": "-GtCUCC89U1I",
        "colab": {
          "base_uri": "https://localhost:8080/",
          "height": 38
        },
        "outputId": "53f52ba2-8eb4-417d-ff6e-5cb2f1cf2f1f"
      },
      "source": [
        "# 3 本線の合同 \\equiv, modular congruence を sympy でどう書くかわからないのでとりあえず Eqで代用する\n",
        "from sympy.abc import *\n",
        "from sympy import *\n",
        "Eq(a % n , b % n)"
      ],
      "execution_count": 2,
      "outputs": [
        {
          "output_type": "execute_result",
          "data": {
            "text/latex": "$\\displaystyle a\\bmod{n} = b\\bmod{n}$",
            "text/plain": [
              "Eq(Mod(a, n), Mod(b, n))"
            ]
          },
          "metadata": {
            "tags": []
          },
          "execution_count": 2
        }
      ]
    },
    {
      "cell_type": "code",
      "metadata": {
        "colab": {
          "base_uri": "https://localhost:8080/",
          "height": 77
        },
        "id": "76cFwoXueDeB",
        "outputId": "617fb80b-1807-4899-8f64-19513b749fc6"
      },
      "source": [
        "from sympy.abc import *\n",
        "from sympy import *\n",
        "display(Eq(Mod(14,3),Mod(8,3)))\n",
        "display(Eq(Mod(21,7),Mod(35,7)))\n",
        "display(Eq(Mod(-29,11),Mod(15,11)))"
      ],
      "execution_count": 6,
      "outputs": [
        {
          "output_type": "display_data",
          "data": {
            "text/latex": "$\\displaystyle \\text{True}$",
            "text/plain": [
              "True"
            ]
          },
          "metadata": {
            "tags": []
          }
        },
        {
          "output_type": "display_data",
          "data": {
            "text/latex": "$\\displaystyle \\text{True}$",
            "text/plain": [
              "True"
            ]
          },
          "metadata": {
            "tags": []
          }
        },
        {
          "output_type": "display_data",
          "data": {
            "text/latex": "$\\displaystyle \\text{True}$",
            "text/plain": [
              "True"
            ]
          },
          "metadata": {
            "tags": []
          }
        }
      ]
    },
    {
      "cell_type": "code",
      "metadata": {
        "id": "rLDL_zkr9U1J",
        "outputId": "20dcb940-e05a-4aa3-e1d3-1b9fabeeda48"
      },
      "source": [
        "15 % 11"
      ],
      "execution_count": null,
      "outputs": [
        {
          "output_type": "execute_result",
          "data": {
            "text/plain": [
              "4"
            ]
          },
          "metadata": {
            "tags": []
          },
          "execution_count": 6
        }
      ]
    },
    {
      "cell_type": "markdown",
      "metadata": {
        "id": "tgpioypE9U1J"
      },
      "source": [
        "$100 \\equiv -32 \\pmod{12}$"
      ]
    },
    {
      "cell_type": "code",
      "metadata": {
        "id": "e9IQBRB-9U1K",
        "colab": {
          "base_uri": "https://localhost:8080/"
        },
        "outputId": "f850aa8c-b895-4368-e448-b8d999bc3a69"
      },
      "source": [
        "100 % 12"
      ],
      "execution_count": 7,
      "outputs": [
        {
          "output_type": "execute_result",
          "data": {
            "text/plain": [
              "4"
            ]
          },
          "metadata": {
            "tags": []
          },
          "execution_count": 7
        }
      ]
    },
    {
      "cell_type": "code",
      "metadata": {
        "id": "SoZ7ACne9U1K",
        "outputId": "35b4e5fa-de0d-4bb6-fb32-9f9850f93e88"
      },
      "source": [
        "-32 % 12"
      ],
      "execution_count": null,
      "outputs": [
        {
          "output_type": "execute_result",
          "data": {
            "text/plain": [
              "4"
            ]
          },
          "metadata": {
            "tags": []
          },
          "execution_count": 10
        }
      ]
    },
    {
      "cell_type": "code",
      "metadata": {
        "colab": {
          "base_uri": "https://localhost:8080/",
          "height": 78
        },
        "id": "IzD6yRqwvfb9",
        "outputId": "5b7517d1-0812-4245-c95c-4c890691f03b"
      },
      "source": [
        "from sympy.abc import *\n",
        "from sympy import *\n",
        "display(Eq(a % n , b % n))\n",
        "a= 100\n",
        "b= -32\n",
        "n= 12\n",
        "display(Eq(a % n , b % n))\n"
      ],
      "execution_count": 13,
      "outputs": [
        {
          "output_type": "display_data",
          "data": {
            "text/latex": "$\\displaystyle a\\bmod{n} = b\\bmod{n}$",
            "text/plain": [
              "Eq(Mod(a, n), Mod(b, n))"
            ]
          },
          "metadata": {
            "tags": []
          }
        },
        {
          "output_type": "display_data",
          "data": {
            "text/latex": "$\\displaystyle \\text{True}$",
            "text/plain": [
              "True"
            ]
          },
          "metadata": {
            "tags": []
          }
        },
        {
          "output_type": "display_data",
          "data": {
            "text/latex": "$\\displaystyle \\text{True}$",
            "text/plain": [
              "True"
            ]
          },
          "metadata": {
            "tags": []
          }
        }
      ]
    },
    {
      "cell_type": "markdown",
      "metadata": {
        "id": "wY_zyD529U1K"
      },
      "source": [
        "p.2  \n",
        "\n",
        "定義 1.2\n",
        "\n",
        "整数 $a$ と正の整数 $b$ が与えられたとき、\n",
        "$$\n",
        "a = qb + r \\quad (ただし、\\,\\,0\\leqq r \\lt b)\n",
        "$$\n",
        "    をみたす整数 $q$, $r$ をそれぞれ $a$ を $b$ で割った商、余りという。"
      ]
    },
    {
      "cell_type": "markdown",
      "metadata": {
        "id": "IwE2RHga9U1K"
      },
      "source": [
        "命題 1.3\n",
        "\n",
        "$a \\equiv b \\,\\,\\pmod n$ が成り立つための必要十分条件は、$a-b$ が $n$ で割り切れることである。"
      ]
    },
    {
      "cell_type": "markdown",
      "metadata": {
        "id": "swJfSRuy9U1L"
      },
      "source": [
        "証明\n",
        "\n",
        "$a, b$ をそれぞれ $n$ で割って、\n",
        "\n",
        "\\begin{eqnarray}\n",
        "a &=& qn+r\\quad (0 \\leqq r\\lt n) \\tag{1.1}\\\\\n",
        "b &=& sn + t \\quad (0 \\leqq t \\lt n) \\tag{1.2}\n",
        "\\end{eqnarray}\n",
        "となったとする。もし $a \\equiv b\\,\\,\\pmod n$ ならば、定義により $r=t$ にならなければならない。  \n",
        "したがって、このとき\n",
        "$$\n",
        "a-b = (qn + r) - (sn +t) = qn - sn = (q - s) n\n",
        "$$\n",
        "となり、$a-b$ は $n$ で割り切れる。逆に $a-b$ が $n$ で割り切れるとしよう。  \n",
        "こととき、(1.1)、(1.2)を代入して\n",
        "\\begin{eqnarray}\n",
        "a - b &=& (qn + r) - (sn + t)  \\\\\n",
        "&=& (q-s)n + (r-t)\n",
        "\\end{eqnarray}\n",
        "となるが、これが $n$ で割り切れるためんは、$r-t$ が $n$ でわりきれなければならない。  \n",
        "しかし、$r, t$ の範囲より、$-n \\lt r - t \\lt n$ であり、この中に $n$ で割り切れる数は0しかないから、結局 $r-t = 0$、すなわち $r = t$ となる。  \n",
        "したがって、$a$、$b$ を $n$ で割った余りが等しく、定義によって、$a \\equiv b \\,\\,\\pmod n$ となる。\n",
        "$\\unicode{x25af}$"
      ]
    },
    {
      "cell_type": "markdown",
      "metadata": {
        "id": "SzF9qCc39U1L"
      },
      "source": [
        "p.3\n",
        "\n",
        "命題 1.4  \n",
        "(a) $a \\equiv b \\pmod n \\quadならば\\quad a+c\\equiv b +c \\pmod n$  \n",
        "(b) $a \\equiv b \\pmod n \\quadならば\\quad a \\times c\\equiv b \\times c \\pmod n$  \n",
        "つまり、合同式の両辺に同じ数を足したり掛けたりしてよい。"
      ]
    },
    {
      "cell_type": "markdown",
      "metadata": {
        "id": "IhrjM97v9U1L"
      },
      "source": [
        "証明 (a)  \n",
        "命題 1.3 により $a - b = qn$ となるような整数 $q$ がある。  \n",
        "したがって、\n",
        "$$ (a+c)-(b+c) = an$$\n",
        "となり、これはやはり命題 1.3 によれば、\n",
        "$$ a+c \\equiv b+c \\pmod n $$\n",
        "である。"
      ]
    },
    {
      "cell_type": "markdown",
      "metadata": {
        "id": "EScxf3Ws9U1M"
      },
      "source": [
        "証明 (b)  \n",
        "命題 1.3 により $a-b = qn$ となるような整数 $q$ がある。したがって、\n",
        "\\begin{eqnarray}\n",
        "ac - bc &=& (a-b)c \\\\\n",
        "&=& (qn) c \\\\\n",
        "&=& (qc)n\n",
        "\\end{eqnarray}\n",
        "となるから、$ac\\equiv bc \\pmod n$ である。$\\unicode{x25af}$"
      ]
    },
    {
      "cell_type": "markdown",
      "metadata": {
        "id": "yDhT-FWk9U1M"
      },
      "source": [
        "定義 1.5  \n",
        "$0 \\leqq a \\leqq n-1, \\,\\, 0 \\leqq b \\leqq n - 1$ をみたす $a, b$ に対し  \n",
        "(a) $a+b$ を $n$ で割った余りを、$a +_n b$,  \n",
        "(b) $a-b$ を $n$ で割った余りを、$a -_n b$,   \n",
        "(c) $a \\times b$ を $n$ で割った余りを、$a \\times_n b$,  \n",
        "と書くことにする。"
      ]
    },
    {
      "cell_type": "markdown",
      "metadata": {
        "id": "ic5kfbkY9U1M"
      },
      "source": [
        "集合 $\\{0,1,\\cdots,n-1\\}$ のことを、$\\boldsymbol Z_n$ と書くことにする。"
      ]
    },
    {
      "cell_type": "markdown",
      "metadata": {
        "id": "PJ43sx5-9U1M"
      },
      "source": [
        "定義により、$a \\in \\boldsymbol Z_n,\\,\\, b \\in \\boldsymbol Z_n$ ならば $a +_nb,\\,\\, a -_n b,\\,\\, a \\times_n b$ はどれもまた $\\boldsymbol Z_n$ に属することになる。"
      ]
    },
    {
      "cell_type": "markdown",
      "metadata": {
        "id": "qY44jcBG9U1N"
      },
      "source": [
        "p.4  例 1.1  \n",
        "\n",
        "3 と 9 を $\\boldsymbol Z_{10}$ の元とみると\n",
        "* $3 +_{10} 9 = 2 \\quad$ (12 を 10 で割った余りが 2 だから)\n",
        "* $3 -_{10} 9 = 4 \\quad$ (-6 を 10 で割った余りが 4 だから) \n",
        "* $3 \\times_{10} 9 = 7 \\quad (27 を 10 で割った余りが 7 だから)\n",
        "$"
      ]
    },
    {
      "cell_type": "markdown",
      "metadata": {
        "id": "s-4UWcUo9U1N"
      },
      "source": [
        "$\\boldsymbol Z_2$ においては\n",
        "\\begin{eqnarray}\n",
        "1 +_2 1 &=& 0 \\\\\n",
        "1 -_2 1 &=& 0 \\\\\n",
        "1 \\times_2 1 &=& 1\n",
        "\\end{eqnarray}"
      ]
    },
    {
      "cell_type": "markdown",
      "metadata": {
        "id": "yLvDt46o9U1N"
      },
      "source": [
        "Z_{11}$ では\n",
        "\\begin{eqnarray}\n",
        " 3 +_{11} 9 &=& 1 \\\\\n",
        " 3 -_{11} 9 &=& 5 \\\\\n",
        " 3 \\times_{11} 9 &=& 5\n",
        " end{eqnarray}"
      ]
    },
    {
      "cell_type": "markdown",
      "metadata": {
        "id": "fA-1QIJe9U1N"
      },
      "source": [
        "命題 1.6  \n",
        "2 以上の整数 $n$ を 1 つ決めておく。このとき以下の諸性質が成り立つ。  \n",
        "足し算に関するもの:  \n",
        "(a) [結合法則] &emsp; $(a +_n b) +_n c = a +_n (b +_n c)$  \n",
        "(b) [交換法則] &emsp; $a +_n b = b +_n a$  \n",
        "(c) [零元] &emsp; $a +_n 0 = a,\\quad 0 +_n a = a$  \n",
        "(d) [逆元] &emsp; $a +_n (n - a) = 0, \\quad (n - a) +_n a = 0$  "
      ]
    },
    {
      "cell_type": "markdown",
      "metadata": {
        "id": "m2c_ZQjF9U1N"
      },
      "source": [
        "掛け算に関するもの:  \n",
        "(e) [結合法則] &emsp; $(a \\times_n b) \\times_n c = a \\times_n (b \\times_n c)$  \n",
        "(f) [交換法則] &emsp; $a \\times_n b = b \\times_n a$  \n",
        "(g) [単位元] &emsp; $a \\times_n 1 = a,\\quad 1 \\times_n a = a$  \n",
        "足し算と掛け算に関するもの:  \n",
        "(h) [分配法則] &emsp; $(a +_n b) \\times_n c = (a \\times_n c) +_n (b \\times_c c)$"
      ]
    },
    {
      "cell_type": "markdown",
      "metadata": {
        "id": "T4gUkQ9B9U1O"
      },
      "source": [
        "証明 (a)  \n",
        "整数 $a$ を $n$ で割った余りを $r$ とすると、定義により、$a \\equiv r$ が成り立つ。なぜなら、$a-r=qn$だから。  \n",
        "したがって、\n",
        "$$ a+b\\equiv a +_n b \\pmod n \\tag {1.3}$$\n",
        "つまり、法 $n$ で考えれば、$+$ を $+_n$ でおきかえてもよい。  \n",
        "さて、命題 1.4 の (a) により、合同式の両辺に同じ数を加えてもよいから\n",
        "$$(a+b)+c \\equiv (a+_n b) + c \\pmod n \\tag{1.4}$$\n",
        "が成り立つ。この右辺に (1.3) の規則を適用すれば、\n",
        "$$(a +_n b) + c \\equiv (a +_n b) +_n c \\pmod n \\tag{1.5}$$\n",
        "となり、したがって (1.4) と (1.5) より\n",
        "$$(a + b) + c \\equiv (a +_n b) +_n c \\pmod n \\tag {1.6}$$\n",
        "が成り立つ。全く同様にして、\n",
        "$$a + (b + c) \\equiv a +_n (b +_n c) \\pmod n \\tag {1.7}$$\n",
        "がなりたつ。整数の世界ではもちろん\n",
        "$$(a + b) + c = a + (b + c) \\tag{1.8}$$\n",
        "であるから、 (1.6), (1.7), (1.8) より、\n",
        "$$(a +_n b) +_n c \\equiv a +_n (b +_n c) \\pmod n$$\n",
        "がいえる。ところがこの両辺とも $\\boldsymbol Z_n$$ の元だから、法 $n$ で合同ということは等しいということである。よって、\n",
        "\n",
        "$$(a +_n b) +_n c = a +_n (b +_n c)$$"
      ]
    },
    {
      "cell_type": "markdown",
      "metadata": {
        "id": "dJU-zs929U1O"
      },
      "source": [
        "証明 (b)  \n",
        "\\begin{eqnarray}\n",
        "a + b &\\equiv& a+_n b \\pmod n \\tag{1.9}\n",
        "\\end{eqnarray}"
      ]
    },
    {
      "cell_type": "code",
      "metadata": {
        "id": "rQVfyKtax3e8",
        "colab": {
          "base_uri": "https://localhost:8080/",
          "height": 38
        },
        "outputId": "786ac7f3-2710-4e93-8233-ca571972404e"
      },
      "source": [
        "from sympy.abc import x\n",
        "from sympy import *\n",
        "(((x + 1) % 2) + 1) % 2"
      ],
      "execution_count": null,
      "outputs": [
        {
          "output_type": "execute_result",
          "data": {
            "text/latex": "$\\displaystyle x\\bmod{2}$",
            "text/plain": [
              "Mod(x, 2)"
            ]
          },
          "metadata": {
            "tags": []
          },
          "execution_count": 84
        }
      ]
    },
    {
      "cell_type": "code",
      "metadata": {
        "id": "T92Wbm4DyDRt",
        "colab": {
          "base_uri": "https://localhost:8080/",
          "height": 38
        },
        "outputId": "6d8f2e41-2492-43fd-ef11-482607ef4dba"
      },
      "source": [
        "from sympy.abc import *\n",
        "from sympy import *\n",
        "Eq(Mod(x,2), Mod(y,2))"
      ],
      "execution_count": null,
      "outputs": [
        {
          "output_type": "execute_result",
          "data": {
            "text/latex": "$\\displaystyle x\\bmod{2} = y\\bmod{2}$",
            "text/plain": [
              "Eq(Mod(x, 2), Mod(y, 2))"
            ]
          },
          "metadata": {
            "tags": []
          },
          "execution_count": 93
        }
      ]
    },
    {
      "cell_type": "code",
      "metadata": {
        "id": "wHNW5tEf014E",
        "colab": {
          "base_uri": "https://localhost:8080/",
          "height": 136
        },
        "outputId": "5764091b-21f6-4184-d236-1c9e83c539e8"
      },
      "source": [
        "a ~ b"
      ],
      "execution_count": null,
      "outputs": [
        {
          "output_type": "error",
          "ename": "SyntaxError",
          "evalue": "ignored",
          "traceback": [
            "\u001b[0;36m  File \u001b[0;32m\"<ipython-input-95-64e8a359a75e>\"\u001b[0;36m, line \u001b[0;32m1\u001b[0m\n\u001b[0;31m    a ~ b\u001b[0m\n\u001b[0m      ^\u001b[0m\n\u001b[0;31mSyntaxError\u001b[0m\u001b[0;31m:\u001b[0m invalid syntax\n"
          ]
        }
      ]
    }
  ]
}