{
  "nbformat": 4,
  "nbformat_minor": 0,
  "metadata": {
    "colab": {
      "name": "linear_sawada.ipynb",
      "provenance": [],
      "authorship_tag": "ABX9TyMoYDXpiwpp1VWrgMKXDLAI",
      "include_colab_link": true
    },
    "kernelspec": {
      "name": "python3",
      "display_name": "Python 3"
    }
  },
  "cells": [
    {
      "cell_type": "markdown",
      "metadata": {
        "id": "view-in-github",
        "colab_type": "text"
      },
      "source": [
        "<a href=\"https://colab.research.google.com/github/kalz2q/mycolabnotebooks/blob/master/linear_sawada.ipynb\" target=\"_parent\"><img src=\"https://colab.research.google.com/assets/colab-badge.svg\" alt=\"Open In Colab\"/></a>"
      ]
    },
    {
      "cell_type": "code",
      "metadata": {
        "id": "RWqm503bB8kC"
      },
      "source": [
        ""
      ],
      "execution_count": null,
      "outputs": []
    },
    {
      "cell_type": "markdown",
      "metadata": {
        "id": "RA8wguI6B-aR"
      },
      "source": [
        "# メモ\r\n",
        "\r\n",
        "大学で学ぶ線形代数 沢田賢,渡辺展也,安原晃\r\n",
        "\r\n",
        "を読む。\r\n"
      ]
    },
    {
      "cell_type": "markdown",
      "metadata": {
        "id": "W_4Kr7TGCbod"
      },
      "source": [
        "# いまここ"
      ]
    },
    {
      "cell_type": "code",
      "metadata": {
        "colab": {
          "base_uri": "https://localhost:8080/",
          "height": 251
        },
        "id": "XZwTRqEWCZpN",
        "outputId": "760d7739-9da0-4271-e32b-6648f8c222ad"
      },
      "source": [
        "%%latex\r\n",
        "座標平面上の点 ~A=(1,2)~ \\\\[0.8em]\r\n",
        "\r\n",
        "(a, b)  \\\\[0.8em]\r\n",
        "\r\n",
        "(a_1,a_2,a_3,a_4,a_5,a_6,a_7,a_8) \\\\[0.8em]\r\n",
        "\r\n",
        "添え字という。 \\\\[0.8em]\r\n",
        "\r\n",
        "(a_1,a_2,\\cdots, a_n) \\\\[0.8em]\r\n",
        "\r\n",
        "\\begin{matrix}\r\n",
        "3 & 10 & 18 & 3\\\\\r\n",
        "1 & 2 & 2 & 8\\\\\r\n",
        "8 & 1 & 8 & 0\r\n",
        "\\end{matrix} \\\\[0.8em]\r\n",
        "\r\n",
        "横の並びを行、縦の並びを列と呼ぶ。"
      ],
      "execution_count": 5,
      "outputs": [
        {
          "output_type": "display_data",
          "data": {
            "text/latex": "座標平面上の点 ~A=(1,2)~ \\\\[0.8em]\n\n(a, b)  \\\\[0.8em]\n\n(a_1,a_2,a_3,a_4,a_5,a_6,a_7,a_8) \\\\[0.8em]\n\n添え字という。 \\\\[0.8em]\n\n(a_1,a_2,\\cdots, a_n) \\\\[0.8em]\n\n\\begin{matrix}\n3 & 10 & 18 & 3\\\\\n1 & 2 & 2 & 8\\\\\n8 & 1 & 8 & 0\n\\end{matrix}",
            "text/plain": [
              "<IPython.core.display.Latex object>"
            ]
          },
          "metadata": {
            "tags": []
          }
        }
      ]
    }
  ]
}