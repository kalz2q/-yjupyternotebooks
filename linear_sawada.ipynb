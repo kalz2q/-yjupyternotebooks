{
  "nbformat": 4,
  "nbformat_minor": 0,
  "metadata": {
    "colab": {
      "name": "linear_sawada.ipynb",
      "provenance": [],
      "toc_visible": true,
      "authorship_tag": "ABX9TyMteKbmj1z1LSVsIoWzH7FS",
      "include_colab_link": true
    },
    "kernelspec": {
      "name": "python3",
      "display_name": "Python 3"
    }
  },
  "cells": [
    {
      "cell_type": "markdown",
      "metadata": {
        "id": "view-in-github",
        "colab_type": "text"
      },
      "source": [
        "<a href=\"https://colab.research.google.com/github/kalz2q/mycolabnotebooks/blob/master/linear_sawada.ipynb\" target=\"_parent\"><img src=\"https://colab.research.google.com/assets/colab-badge.svg\" alt=\"Open In Colab\"/></a>"
      ]
    },
    {
      "cell_type": "markdown",
      "metadata": {
        "id": "RA8wguI6B-aR"
      },
      "source": [
        "# メモ\r\n",
        "\r\n",
        "大学で学ぶ線形代数 沢田賢,渡辺展也,安原晃\r\n",
        "\r\n",
        "を読む。\r\n"
      ]
    },
    {
      "cell_type": "code",
      "metadata": {
        "colab": {
          "base_uri": "https://localhost:8080/",
          "height": 251
        },
        "id": "XZwTRqEWCZpN",
        "outputId": "760d7739-9da0-4271-e32b-6648f8c222ad"
      },
      "source": [
        "%%latex\r\n",
        "座標平面上の点 ~A=(1,2)~ \\\\[0.8em]\r\n",
        "\r\n",
        "(a, b)  \\\\[0.8em]\r\n",
        "\r\n",
        "(a_1,a_2,a_3,a_4,a_5,a_6,a_7,a_8) \\\\[0.8em]\r\n",
        "\r\n",
        "添え字という。 \\\\[0.8em]\r\n",
        "\r\n",
        "(a_1,a_2,\\cdots, a_n) \\\\[0.8em]\r\n",
        "\r\n",
        "\\begin{matrix}\r\n",
        "3 & 10 & 18 & 3\\\\\r\n",
        "1 & 2 & 2 & 8\\\\\r\n",
        "8 & 1 & 8 & 0\r\n",
        "\\end{matrix} \\\\[0.8em]\r\n",
        "\r\n",
        "横の並びを行、縦の並びを列と呼ぶ。"
      ],
      "execution_count": null,
      "outputs": [
        {
          "output_type": "display_data",
          "data": {
            "text/latex": "座標平面上の点 ~A=(1,2)~ \\\\[0.8em]\n\n(a, b)  \\\\[0.8em]\n\n(a_1,a_2,a_3,a_4,a_5,a_6,a_7,a_8) \\\\[0.8em]\n\n添え字という。 \\\\[0.8em]\n\n(a_1,a_2,\\cdots, a_n) \\\\[0.8em]\n\n\\begin{matrix}\n3 & 10 & 18 & 3\\\\\n1 & 2 & 2 & 8\\\\\n8 & 1 & 8 & 0\n\\end{matrix}",
            "text/plain": [
              "<IPython.core.display.Latex object>"
            ]
          },
          "metadata": {
            "tags": []
          }
        }
      ]
    },
    {
      "cell_type": "code",
      "metadata": {
        "id": "RWqm503bB8kC",
        "outputId": "061e9570-5186-45a0-bd46-1cb960cc627c",
        "colab": {
          "base_uri": "https://localhost:8080/",
          "height": 143
        }
      },
      "source": [
        "%%latex\r\n",
        "行列 \\\\[0.8em]\r\n",
        "\r\n",
        "\\begin{pmatrix}\r\n",
        "    a_{11} & a_{12} & \\ldots & a_{1n} \\\\\r\n",
        "    a_{21} & a_{22} & \\ldots & a_{2n} \\\\\r\n",
        "    \\vdots & \\vdots & \\ddots & \\vdots \\\\\r\n",
        "    a_{m1} & a_{m2} & \\ldots & a_{mn}\r\n",
        "\\end{pmatrix}"
      ],
      "execution_count": 1,
      "outputs": [
        {
          "output_type": "display_data",
          "data": {
            "text/latex": "行列 \\\\[0.8em]\n\n\\begin{pmatrix}\n    a_{11} & a_{12} & \\ldots & a_{1n} \\\\\n    a_{21} & a_{22} & \\ldots & a_{2n} \\\\\n    \\vdots & \\vdots & \\ddots & \\vdots \\\\\n    a_{m1} & a_{m2} & \\ldots & a_{mn}\n\\end{pmatrix}",
            "text/plain": [
              "<IPython.core.display.Latex object>"
            ]
          },
          "metadata": {
            "tags": []
          }
        }
      ]
    },
    {
      "cell_type": "code",
      "metadata": {
        "id": "ubS1nt0sFITO",
        "outputId": "ec951462-7828-4d4a-d1a4-3703a6e63e57",
        "colab": {
          "base_uri": "https://localhost:8080/",
          "height": 73
        }
      },
      "source": [
        "%%latex\r\n",
        "m \\times n~行列という。 成分を~(i,j)~成分という。\\\\[0.8em]\r\n",
        "\r\n",
        "行列の名前は~A,B,C, \\cdots~などのアルファベットの大文字を用いる。"
      ],
      "execution_count": 3,
      "outputs": [
        {
          "output_type": "display_data",
          "data": {
            "text/latex": "m \\times n~行列という。 成分を~(i,j)~成分という。\\\\[0.8em]\n\n行列の名前は~A,B,C, \\cdots~などのアルファベットの大文字を用いる。",
            "text/plain": [
              "<IPython.core.display.Latex object>"
            ]
          },
          "metadata": {
            "tags": []
          }
        }
      ]
    },
    {
      "cell_type": "code",
      "metadata": {
        "id": "bxceSl_GFwbT",
        "outputId": "5125e18c-2f37-4a40-c69c-0529c077cf5f",
        "colab": {
          "base_uri": "https://localhost:8080/",
          "height": 113
        }
      },
      "source": [
        "%%latex\r\n",
        "各成分がすべての~0~の行列を零行列といい、~O~で表す。\r\n",
        "\\\\[0.8em]\r\n",
        "\\quad \\quad \\quad \\quad \r\n",
        "O_{3 \\times 4} =\r\n",
        "\\begin{pmatrix}\r\n",
        "    0 & 0 & 0 & 0 \\\\\r\n",
        "    0 & 0 & 0 & 0 \\\\\r\n",
        "    0 & 0 & 0 & 0 \r\n",
        "\\end{pmatrix}\r\n"
      ],
      "execution_count": 5,
      "outputs": [
        {
          "output_type": "display_data",
          "data": {
            "text/latex": "各成分がすべての~0~の行列を零行列といい、~O~で表す。\n\\\\[0.8em]\n\\quad \\quad \\quad \\quad \nO_{3 \\times 4} =\n\\begin{pmatrix}\n    0 & 0 & 0 & 0 \\\\\n    0 & 0 & 0 & 0 \\\\\n    0 & 0 & 0 & 0 \n\\end{pmatrix}",
            "text/plain": [
              "<IPython.core.display.Latex object>"
            ]
          },
          "metadata": {
            "tags": []
          }
        }
      ]
    },
    {
      "cell_type": "code",
      "metadata": {
        "id": "vymnh6H3hsO6",
        "outputId": "0b3f1340-3045-4430-f508-4efe3798ff0b",
        "colab": {
          "base_uri": "https://localhost:8080/",
          "height": 179
        }
      },
      "source": [
        "%%latex\r\n",
        "行の個数と列の個数が同じ行列、つまり~n \\times n~行列を~n~次正方行列という。\\\\[0.8em]\r\n",
        "\r\n",
        "\\begin{pmatrix}\r\n",
        "    a_{11} & a_{12} & \\ldots & a_{1n} \\\\\r\n",
        "    a_{21} & a_{22} & \\ldots & a_{2n} \\\\\r\n",
        "    \\vdots & \\vdots & \\ddots & \\vdots \\\\\r\n",
        "    a_{n1} & a_{n2} & \\ldots & a_{nn}\r\n",
        "\\end{pmatrix}\\\\[0.8em]\r\n",
        "\r\n",
        "において、a_{11},a_{22},\\cdots,a_{nn}~を正方行列の対角成分という。"
      ],
      "execution_count": 6,
      "outputs": [
        {
          "output_type": "display_data",
          "data": {
            "text/latex": "行の個数と列の個数が同じ行列、つまり~n \\times n~行列を~n~次正方行列という。\\\\[0.8em]\n\n\\begin{pmatrix}\n    a_{11} & a_{12} & \\ldots & a_{1n} \\\\\n    a_{21} & a_{22} & \\ldots & a_{2n} \\\\\n    \\vdots & \\vdots & \\ddots & \\vdots \\\\\n    a_{n1} & a_{n2} & \\ldots & a_{nn}\n\\end{pmatrix}\\\\[0.8em]\n\nにおいて、a_{11},a_{22},\\cdots,a_{nn}~を正方行列の対角成分という。",
            "text/plain": [
              "<IPython.core.display.Latex object>"
            ]
          },
          "metadata": {
            "tags": []
          }
        }
      ]
    },
    {
      "cell_type": "code",
      "metadata": {
        "id": "29UpAGVjit43",
        "outputId": "6518bf6c-1e7e-4eda-de9c-bc0ae904cdba",
        "colab": {
          "base_uri": "https://localhost:8080/",
          "height": 135
        }
      },
      "source": [
        "%%latex\r\n",
        "~n~次製法行列で対角成分がすべて~1~、他の成分がすべて~0~となるものを \\\\\r\n",
        "単位行列といい、~E_n~と表す。\r\n",
        "\\\\[0.8em]\r\n",
        "\r\n",
        "E_3 =\r\n",
        "\\begin{pmatrix}\r\n",
        "    1 & 0 & 0 \\\\\r\n",
        "    0 & 1 & 0 \\\\\r\n",
        "    0 & 0 & 1\r\n",
        "\\end{pmatrix}"
      ],
      "execution_count": 8,
      "outputs": [
        {
          "output_type": "display_data",
          "data": {
            "text/latex": "~n~次製法行列で対角成分がすべて~1~、他の成分がすべて~0~となるものを \\\\\n単位行列といい、~E_n~と表す。\n\\\\[0.8em]\n\nE_3 =\n\\begin{pmatrix}\n    1 & 0 & 0 \\\\\n    0 & 1 & 0 \\\\\n    0 & 0 & 1\n\\end{pmatrix}",
            "text/plain": [
              "<IPython.core.display.Latex object>"
            ]
          },
          "metadata": {
            "tags": []
          }
        }
      ]
    },
    {
      "cell_type": "markdown",
      "metadata": {
        "id": "W_4Kr7TGCbod"
      },
      "source": [
        "# いまここ p.6"
      ]
    },
    {
      "cell_type": "code",
      "metadata": {
        "id": "3wI4f4t6jpJT"
      },
      "source": [
        "from sympy import *\r\n"
      ],
      "execution_count": null,
      "outputs": []
    }
  ]
}