{
  "nbformat": 4,
  "nbformat_minor": 0,
  "metadata": {
    "colab": {
      "name": "linear_sawada.ipynb",
      "provenance": [],
      "toc_visible": true,
      "authorship_tag": "ABX9TyMa48Zw5T1Mc2DrMvgGPvUv",
      "include_colab_link": true
    },
    "kernelspec": {
      "name": "python3",
      "display_name": "Python 3"
    }
  },
  "cells": [
    {
      "cell_type": "markdown",
      "metadata": {
        "id": "view-in-github",
        "colab_type": "text"
      },
      "source": [
        "<a href=\"https://colab.research.google.com/github/kalz2q/mycolabnotebooks/blob/master/linear_sawada.ipynb\" target=\"_parent\"><img src=\"https://colab.research.google.com/assets/colab-badge.svg\" alt=\"Open In Colab\"/></a>"
      ]
    },
    {
      "cell_type": "markdown",
      "metadata": {
        "id": "RA8wguI6B-aR"
      },
      "source": [
        "# メモ\n",
        "\n",
        "大学で学ぶ線形代数 沢田賢,渡辺展也,安原晃"
      ]
    },
    {
      "cell_type": "code",
      "metadata": {
        "colab": {
          "base_uri": "https://localhost:8080/",
          "height": 166
        },
        "id": "XZwTRqEWCZpN",
        "outputId": "e3a4ded3-3057-44d3-f135-1217006745bc"
      },
      "source": [
        "# 文字の使用について -- 線形代数に慣れる\n",
        "%%latex\n",
        "% 座標平面上の点 \n",
        "~A=(1,2)~ \\\\\n",
        "(a, b)  \\\\\n",
        "(a_1,a_2,a_3,a_4,a_5,a_6,a_7,a_8) \\\\\n",
        "% 添え字と言う subscript superscript index\n",
        "(a_1,a_2,\\cdots, a_n) \\\\\n",
        "\\begin{matrix}\n",
        "3 & 10 & 18 & 3\\\\\n",
        "1 & 2 & 2 & 8\\\\\n",
        "8 & 1 & 8 & 0\n",
        "\\end{matrix} \\\\\n",
        "% 横の並びを行、縦の並びを列と呼ぶ"
      ],
      "execution_count": 4,
      "outputs": [
        {
          "output_type": "display_data",
          "data": {
            "text/plain": [
              "<IPython.core.display.Latex object>"
            ],
            "text/latex": "% 座標平面上の点 \n~A=(1,2)~ \\\\\n(a, b)  \\\\\n(a_1,a_2,a_3,a_4,a_5,a_6,a_7,a_8) \\\\\n% 添え字という \\\\\n(a_1,a_2,\\cdots, a_n) \\\\\n\\begin{matrix}\n3 & 10 & 18 & 3\\\\\n1 & 2 & 2 & 8\\\\\n8 & 1 & 8 & 0\n\\end{matrix} \\\\\n% 横の並びを行、縦の並びを列と呼ぶ"
          },
          "metadata": {}
        }
      ]
    },
    {
      "cell_type": "code",
      "metadata": {
        "id": "RWqm503bB8kC",
        "outputId": "061e9570-5186-45a0-bd46-1cb960cc627c",
        "colab": {
          "base_uri": "https://localhost:8080/",
          "height": 143
        }
      },
      "source": [
        "%%latex\n",
        "行列 \\\\\n",
        "\\begin{pmatrix}\n",
        "    a_{11} & a_{12} & \\ldots & a_{1n} \\\\\n",
        "    a_{21} & a_{22} & \\ldots & a_{2n} \\\\\n",
        "    \\vdots & \\vdots & \\ddots & \\vdots \\\\\n",
        "    a_{m1} & a_{m2} & \\ldots & a_{mn}\n",
        "\\end{pmatrix}"
      ],
      "execution_count": null,
      "outputs": [
        {
          "output_type": "display_data",
          "data": {
            "text/latex": "行列 \\\\[0.8em]\n\n\\begin{pmatrix}\n    a_{11} & a_{12} & \\ldots & a_{1n} \\\\\n    a_{21} & a_{22} & \\ldots & a_{2n} \\\\\n    \\vdots & \\vdots & \\ddots & \\vdots \\\\\n    a_{m1} & a_{m2} & \\ldots & a_{mn}\n\\end{pmatrix}",
            "text/plain": [
              "<IPython.core.display.Latex object>"
            ]
          },
          "metadata": {
            "tags": []
          }
        }
      ]
    },
    {
      "cell_type": "code",
      "metadata": {
        "id": "ubS1nt0sFITO"
      },
      "source": [
        "# m \\times n 行列と言う。 成分を (i,j) 成分と言う\n",
        "# 行列の名前は A,B,C, \\cdots~ などのアルファベットの大文字を用いる"
      ],
      "execution_count": 6,
      "outputs": []
    },
    {
      "cell_type": "code",
      "metadata": {
        "id": "bxceSl_GFwbT",
        "outputId": "1d1318e5-f3ce-4a85-cb74-96a8d64d215a",
        "colab": {
          "base_uri": "https://localhost:8080/",
          "height": 78
        }
      },
      "source": [
        "# 各成分がすべての 0 の行列を零行列、ゼロ行列とい言い、 O (オー) で表す\n",
        "%%latex\n",
        "O_{3 \\times 4} =\n",
        "\\begin{pmatrix}\n",
        "    0 & 0 & 0 & 0 \\\\\n",
        "    0 & 0 & 0 & 0 \\\\\n",
        "    0 & 0 & 0 & 0 \n",
        "\\end{pmatrix}"
      ],
      "execution_count": 7,
      "outputs": [
        {
          "output_type": "display_data",
          "data": {
            "text/plain": [
              "<IPython.core.display.Latex object>"
            ],
            "text/latex": "O_{3 \\times 4} =\n\\begin{pmatrix}\n    0 & 0 & 0 & 0 \\\\\n    0 & 0 & 0 & 0 \\\\\n    0 & 0 & 0 & 0 \n\\end{pmatrix}"
          },
          "metadata": {}
        }
      ]
    },
    {
      "cell_type": "code",
      "metadata": {
        "id": "vymnh6H3hsO6",
        "outputId": "b446628f-da99-492e-a34c-e7168a46660e",
        "colab": {
          "base_uri": "https://localhost:8080/",
          "height": 145
        }
      },
      "source": [
        "# 行の個数と列の個数が同じ行列、つまり n \\times n 行列  n 次正方行列と言う\n",
        "# a_{11},a_{22},\\cdots,a_{nn} を正方行列の対角成分と言う\n",
        "%%latex\n",
        "\\begin{pmatrix}\n",
        "    a_{11} & a_{12} & \\ldots & a_{1n} \\\\\n",
        "    a_{21} & a_{22} & \\ldots & a_{2n} \\\\\n",
        "    \\vdots & \\vdots & \\ddots & \\vdots \\\\\n",
        "    a_{n1} & a_{n2} & \\ldots & a_{nn}\n",
        "\\end{pmatrix}\\\\[0.8em]\n",
        "a_{11},a_{22},\\cdots,a_{nn}"
      ],
      "execution_count": 8,
      "outputs": [
        {
          "output_type": "display_data",
          "data": {
            "text/plain": [
              "<IPython.core.display.Latex object>"
            ],
            "text/latex": "\\begin{pmatrix}\n    a_{11} & a_{12} & \\ldots & a_{1n} \\\\\n    a_{21} & a_{22} & \\ldots & a_{2n} \\\\\n    \\vdots & \\vdots & \\ddots & \\vdots \\\\\n    a_{n1} & a_{n2} & \\ldots & a_{nn}\n\\end{pmatrix}\\\\[0.8em]\na_{11},a_{22},\\cdots,a_{nn}"
          },
          "metadata": {}
        }
      ]
    },
    {
      "cell_type": "code",
      "metadata": {
        "id": "29UpAGVjit43",
        "outputId": "7c943e36-c3cc-460f-8e5f-a369b40c2fd9",
        "colab": {
          "base_uri": "https://localhost:8080/",
          "height": 78
        }
      },
      "source": [
        "# n 次正方行列で対角成分がすべて 1 、他の成分がすべて 0 となるものを単位行列といい、 E_n と表す\n",
        "%%latex\n",
        "E_3 =\n",
        "\\begin{pmatrix}\n",
        "    1 & 0 & 0 \\\\\n",
        "    0 & 1 & 0 \\\\\n",
        "    0 & 0 & 1\n",
        "\\end{pmatrix}"
      ],
      "execution_count": 9,
      "outputs": [
        {
          "output_type": "display_data",
          "data": {
            "text/plain": [
              "<IPython.core.display.Latex object>"
            ],
            "text/latex": "E_3 =\n\\begin{pmatrix}\n    1 & 0 & 0 \\\\\n    0 & 1 & 0 \\\\\n    0 & 0 & 1\n\\end{pmatrix}"
          },
          "metadata": {}
        }
      ]
    },
    {
      "cell_type": "markdown",
      "metadata": {
        "id": "W_4Kr7TGCbod"
      },
      "source": [
        "# いまここ p.6"
      ]
    },
    {
      "cell_type": "code",
      "source": [
        "# 行列の和\n"
      ],
      "metadata": {
        "id": "c_jXULrItlhM"
      },
      "execution_count": null,
      "outputs": []
    },
    {
      "cell_type": "code",
      "metadata": {
        "id": "3wI4f4t6jpJT"
      },
      "source": [
        "from sympy import *\n"
      ],
      "execution_count": null,
      "outputs": []
    }
  ]
}