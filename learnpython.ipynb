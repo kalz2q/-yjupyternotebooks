{
  "nbformat": 4,
  "nbformat_minor": 0,
  "metadata": {
    "colab": {
      "name": "learnpython.ipynb",
      "provenance": [],
      "toc_visible": true,
      "authorship_tag": "ABX9TyPR8iRz+lAW4RG0VBvhHrLW",
      "include_colab_link": true
    },
    "kernelspec": {
      "name": "python3",
      "display_name": "Python 3"
    },
    "language_info": {
      "name": "python"
    }
  },
  "cells": [
    {
      "cell_type": "markdown",
      "metadata": {
        "id": "view-in-github",
        "colab_type": "text"
      },
      "source": [
        "<a href=\"https://colab.research.google.com/github/kalz2q/mycolabnotebooks/blob/master/learnpython.ipynb\" target=\"_parent\"><img src=\"https://colab.research.google.com/assets/colab-badge.svg\" alt=\"Open In Colab\"/></a>"
      ]
    },
    {
      "cell_type": "markdown",
      "metadata": {
        "id": "mG5wD9OjyCva"
      },
      "source": [
        "メモ \n",
        "\n",
        "python を学ぶ。\n",
        "\n",
        "アイデアは、サクサクっと python を学ぶための colab ノートブックを作る。\n",
        "\n",
        "とりあえず kaggle と chainer と functional とかを材料に書き始めてみる。 数学と違って、定義や証明ではなく、問題-解答ペアで進む予定。 \n",
        "\n"
      ]
    },
    {
      "cell_type": "markdown",
      "metadata": {
        "id": "s84YRCb1cSHj"
      },
      "source": [
        "# 最初の例"
      ]
    },
    {
      "cell_type": "code",
      "metadata": {
        "id": "6A6tdrr07dUT",
        "colab": {
          "base_uri": "https://localhost:8080/"
        },
        "outputId": "fbb9c666-8d2f-4053-ed5c-2c72fa9e036c"
      },
      "source": [
        "# 最初の例\n",
        "x = 0\n",
        "print(x)\n",
        "\n",
        "x = x + 4\n",
        "\n",
        "if x > 0:\n",
        "    print(\"x is larger than 0\")\n",
        "\n",
        "text = \"hello \" * x\n",
        "print(text)"
      ],
      "execution_count": null,
      "outputs": [
        {
          "output_type": "stream",
          "text": [
            "0\n",
            "x is larger than 0\n",
            "hello hello hello hello \n"
          ],
          "name": "stdout"
        }
      ]
    },
    {
      "cell_type": "markdown",
      "metadata": {
        "id": "w5ZdZFsx0XL1"
      },
      "source": [
        "上の例からわかること\n",
        "* 変数は突然使える。 型を指定しないでよい。\n",
        "* 変数は変えられる。\n",
        "* if が使える。 コロンが必要。インデントが必要。\n",
        "* 文字列に数字を掛けることができる。\n",
        "* コメントは `#` で始まる。\n",
        "\n",
        "実験してみてわかること\n",
        "* 文字列に例えば 4.5 とかかけようとするとエラーになる。\n",
        "* 4.5 とかは float らしい。 4 は int か。"
      ]
    },
    {
      "cell_type": "markdown",
      "metadata": {
        "id": "eamcpwt8Zx3_"
      },
      "source": [
        "補足\n",
        "* `=`は代入演算子と呼ばれる\n",
        "* 変数を宣言する必要はない。\n",
        "* 変数に代入される値のタイプをあとから変えられる。数値を代入したあとに文字列やブール型の値を代入するができる。"
      ]
    },
    {
      "cell_type": "code",
      "metadata": {
        "id": "dWGF-4HR9Lsu",
        "colab": {
          "base_uri": "https://localhost:8080/"
        },
        "outputId": "3da7c6e3-3ba7-4311-d546-7259ae667b79"
      },
      "source": [
        "x = 4\n",
        "print(type(x))\n",
        "x = 0.0\n",
        "print(type(x))\n",
        "x = True\n",
        "print(type(x))\n",
        "x = \"this is x.\"\n",
        "print(type(x))"
      ],
      "execution_count": 8,
      "outputs": [
        {
          "output_type": "stream",
          "text": [
            "<class 'int'>\n",
            "<class 'float'>\n",
            "<class 'bool'>\n",
            "<class 'str'>\n"
          ],
          "name": "stdout"
        }
      ]
    },
    {
      "cell_type": "markdown",
      "metadata": {
        "id": "psjeU_ov2FNQ"
      },
      "source": [
        "メモ \n",
        "* 型の名前: int, float, bool, str とか。\n",
        "* print は改行が自動で入る。\n",
        "* bool は True, False で小文字にするとエラーになる。\n",
        "* True, False 以外はなにが True になりなにが False になるのか。 => 課題 真偽の値。\n"
      ]
    },
    {
      "cell_type": "markdown",
      "metadata": {
        "id": "uN9WPC0V9JJW"
      },
      "source": [
        "関数は関数名のあとにカッコをつけることによって、関数を呼び出す。 カッコの中には引数 ひきすう を入れる。\n",
        "\n",
        "`type`も  python のビルトイン関数、組み込み関数、built-in 関数。\n",
        "\n",
        "メモ\n",
        "* python の組み込み関数はオブジェクトのメソッドとしての関数ではないので、使い方が決まっている。 [1,2,3].len() ではなくて、len([1,2,3])。"
      ]
    },
    {
      "cell_type": "markdown",
      "metadata": {
        "id": "lkcEh9wZZ3Fp"
      },
      "source": [
        "言葉\n",
        "* 再代入 `reassignment` \n",
        "* 演算子オーバーロード 文字列 * 整数 => 繰返し、のように演算子の意味を変えて使うこと。"
      ]
    },
    {
      "cell_type": "markdown",
      "metadata": {
        "id": "B_JZiwtey2lz"
      },
      "source": [
        "* `int` は integer (整数) の省略形。\n",
        "* `float` は浮動小数点型。\n"
      ]
    },
    {
      "cell_type": "markdown",
      "metadata": {
        "id": "XoLEAEkFaMlo"
      },
      "source": [
        "| Operator\t| Name\t| Description |\n",
        "| ---- | ---- | ----|\n",
        "|a + b  | Addition\t     |   Sum of a and b |\n",
        "|a - b\t| Subtraction\t   |   Difference of a and b |\n",
        "|a * b\t| Multiplication |\t Product of a and b |\n",
        "|a / b\t| True division\t |   Quotient of a and b |\n",
        "|a // b\t| Floor division |\t Quotient of a and b, removing fractional parts |\n",
        "|a % b\t| Modulus\t       |   Integer remainder after division of a by b |\n",
        "|a ** b\t| Exponentiation |\t a raised to the power of b |\n",
        "|-a\t    | Negation\t     |   The negative of a |\n"
      ]
    },
    {
      "cell_type": "markdown",
      "metadata": {
        "id": "IXLi1Yhx-DJL"
      },
      "source": [
        "割り算の演算子が2種類あることに注意。\n",
        "\n",
        "電卓の割り算は \"True division\" 。\n",
        "\n",
        "演算子 `/` の結果は常に `float` 。\n",
        "\n",
        "演算子 `//` は割り算の結果以下の最大の整数を返す。\n",
        "\n",
        "切り下げ flooor、 切り上げ ceiling は次のようにする。"
      ]
    },
    {
      "cell_type": "code",
      "metadata": {
        "id": "L_6IaF1OZ4gW",
        "colab": {
          "base_uri": "https://localhost:8080/"
        },
        "outputId": "83ffe101-c818-48b6-b27f-08b5e4413869"
      },
      "source": [
        "print (5 // 2)\n",
        "print (-(-5 // 2))"
      ],
      "execution_count": 11,
      "outputs": [
        {
          "output_type": "stream",
          "text": [
            "2\n",
            "3\n"
          ],
          "name": "stdout"
        }
      ]
    },
    {
      "cell_type": "markdown",
      "metadata": {
        "id": "Aqk5EGP-v6d4"
      },
      "source": [
        "# 演算の優先順位\n",
        "小学校で習う算数で、計算には順序があることを習う。PEMDAS というニーモニックを覚えている人もいるだろう。\n",
        "* Parentheses カッコ\n",
        "* Exponents 冪乗\n",
        "* Multiplication/Division 乗算/除算\n",
        "* Addtion/Subtraction 加算/減算\n",
        "\n",
        "python  においても同じルールが適用される。\n"
      ]
    },
    {
      "cell_type": "markdown",
      "metadata": {
        "id": "XXxVWcYXaTe5"
      },
      "source": [
        "# 数字に関する組み込み関数\n",
        "`min` と `max` は引数の最小値と最大値を返す。\n",
        "\n"
      ]
    },
    {
      "cell_type": "code",
      "metadata": {
        "id": "UbgZlsdfdyd1",
        "colab": {
          "base_uri": "https://localhost:8080/",
          "height": 50
        },
        "outputId": "cfffcd32-a7ef-4899-edd1-231344dcaf26"
      },
      "source": [
        "print(min(1, 2, 3)) \n",
        "print(max(1, 2, 3))"
      ],
      "execution_count": null,
      "outputs": [
        {
          "output_type": "stream",
          "text": [
            "1\n",
            "3\n"
          ],
          "name": "stdout"
        }
      ]
    },
    {
      "cell_type": "markdown",
      "metadata": {
        "id": "640_qV05dxG8"
      },
      "source": [
        "`abs` は引数の絶対値を返す。\n"
      ]
    },
    {
      "cell_type": "code",
      "metadata": {
        "id": "jgHDje1yeCvN",
        "colab": {
          "base_uri": "https://localhost:8080/",
          "height": 50
        },
        "outputId": "92edd4c2-066a-4f3b-adb0-3d8895e316a6"
      },
      "source": [
        "print(abs(32)) \n",
        "print(abs(-32)) "
      ],
      "execution_count": null,
      "outputs": [
        {
          "output_type": "stream",
          "text": [
            "32\n",
            "32\n"
          ],
          "name": "stdout"
        }
      ]
    },
    {
      "cell_type": "markdown",
      "metadata": {
        "id": "7dNlJxGPd_sm"
      },
      "source": [
        "`float` と `int` は数字の型の名前であるだけでなく引数の型を変換する関数として呼び出すことができる。"
      ]
    },
    {
      "cell_type": "code",
      "metadata": {
        "id": "ZsxeQZplekRg",
        "colab": {
          "base_uri": "https://localhost:8080/"
        },
        "outputId": "fdb0baf5-597f-45c4-ce6b-61ebb7077a16"
      },
      "source": [
        "print(float(10)) \n",
        "print(int(3.33))\n",
        "print (int (-3.33))\n",
        "print(-3.33 // 1)\n",
        "print(-(-3.33 // 1))"
      ],
      "execution_count": 12,
      "outputs": [
        {
          "output_type": "stream",
          "text": [
            "10.0\n",
            "3\n",
            "-3\n",
            "-4.0\n",
            "4.0\n"
          ],
          "name": "stdout"
        }
      ]
    },
    {
      "cell_type": "markdown",
      "metadata": {
        "id": "E8f0Yxf6-769"
      },
      "source": [
        "文字列を数字に直すこともできる。"
      ]
    },
    {
      "cell_type": "code",
      "metadata": {
        "id": "MCl8fTn9ewkA",
        "colab": {
          "base_uri": "https://localhost:8080/",
          "height": 50
        },
        "outputId": "6aca7bbf-26bd-4ec7-9193-e1ec5281f197"
      },
      "source": [
        "# 文字列を数字に直すこともできる\n",
        "print(int('807') + 1)\n",
        "10.0\n",
        "print(float('33.3') + 0.2 )"
      ],
      "execution_count": null,
      "outputs": [
        {
          "output_type": "stream",
          "text": [
            "808\n",
            "33.5\n"
          ],
          "name": "stdout"
        }
      ]
    },
    {
      "cell_type": "markdown",
      "metadata": {
        "id": "zMJ3df-ve0cG"
      },
      "source": [
        "---\n",
        "質問\n",
        "\n",
        "文字列で与えられた 2 進数や 16 進数を int に変換できるか。\n",
        "\n",
        "逆に int を 2 進数や 16 進数に変換できるか。\n",
        "\n",
        "基数変換と言う。\n",
        "\n",
        "いまはわからないので、わかったら追記する。\n"
      ]
    },
    {
      "cell_type": "markdown",
      "metadata": {
        "id": "HEKJfvKFfN68"
      },
      "source": [
        "---\n",
        "# 四則演算\n",
        "\n",
        "| 演算子\t| 名前\t| 説明 |\n",
        "| ---- | ---- | ----|\n",
        "|a + b  | 加算\t     |   a と b の合計 |\n",
        "|a - b\t| 減算\t   |   a と b の差分 |\n",
        "|a * b\t| 乗法 |\t a と b の積 |\n",
        "|a / b\t| 除算\t |   a と b の商 |\n",
        "|a // b\t| 床除算 |\t a と b の商から少数部分を除いたもの floor |\n",
        "|a % b\t| 余り       |   整数割り算の余り modulo|\n",
        "|a ** b\t| 冪乗 |\t a の b 乗 power |\n",
        "|-a\t    | マイナス\t     |   マイナスa |\n"
      ]
    },
    {
      "cell_type": "code",
      "metadata": {
        "id": "-k5AQuYJPE4b",
        "colab": {
          "base_uri": "https://localhost:8080/",
          "height": 34
        },
        "outputId": "569458c0-781c-41ed-e560-0199b66b7b0f"
      },
      "source": [
        "# 円の面積を計算する\n",
        "pi = 3.14159 # 少数5桁までの円周率π\n",
        "diameter = 3 # 直径\n",
        "\n",
        "# 直径の半分の長さの半径(radius)という名前の変数を作る\n",
        "radius = diameter / 2\n",
        "\n",
        "# 公式 円の面積 = 円周率かける半径の二乗 を使って円の面積を(area)計算する\n",
        "area = pi * radius ** 2\n",
        "print (\"円の面積: \" , area)"
      ],
      "execution_count": null,
      "outputs": [
        {
          "output_type": "stream",
          "text": [
            "円の面積:  7.0685775\n"
          ],
          "name": "stdout"
        }
      ]
    },
    {
      "cell_type": "markdown",
      "metadata": {
        "id": "T2uJHafQPn-D"
      },
      "source": [
        "---\n",
        "問題 $\\quad$ 変数 a と b の中身を入れ替える。\n"
      ]
    },
    {
      "cell_type": "code",
      "metadata": {
        "id": "cXU6Zk11lFUp",
        "colab": {
          "base_uri": "https://localhost:8080/",
          "height": 50
        },
        "outputId": "749b4512-906b-4533-cf56-862a6bedbe70"
      },
      "source": [
        "# 変数 a と b の中身を入れ替える。\n",
        "a = [1, 2, 3]\n",
        "b = [3, 2, 1]\n",
        "print(a, b)\n",
        "temp = a; a = b; b = temp\n",
        "print(a, b)"
      ],
      "execution_count": null,
      "outputs": [
        {
          "output_type": "stream",
          "text": [
            "[1, 2, 3] [3, 2, 1]\n",
            "[3, 2, 1] [1, 2, 3]\n"
          ],
          "name": "stdout"
        }
      ]
    },
    {
      "cell_type": "markdown",
      "metadata": {
        "id": "5Hlc7mtUGvKJ"
      },
      "source": [
        "python では a,b = b,a ができる。"
      ]
    },
    {
      "cell_type": "code",
      "metadata": {
        "id": "aeZCHLRBxJaT",
        "colab": {
          "base_uri": "https://localhost:8080/",
          "height": 50
        },
        "outputId": "f7cd67a7-48cf-4fc7-b679-c4340304ebe3"
      },
      "source": [
        "# 別解\n",
        "a = [1, 2, 3]\n",
        "b = [3, 2, 1]\n",
        "print(a, b)\n",
        "a, b = b, a\n",
        "print(a, b)"
      ],
      "execution_count": null,
      "outputs": [
        {
          "output_type": "stream",
          "text": [
            "[1, 2, 3] [3, 2, 1]\n",
            "[3, 2, 1] [1, 2, 3]\n"
          ],
          "name": "stdout"
        }
      ]
    },
    {
      "cell_type": "markdown",
      "metadata": {
        "id": "NQwRTni4u7L9"
      },
      "source": [
        "# 関数\n",
        "* help(関数名)\n",
        "* dir(クラス/オブジェクト)\n",
        "* 関数名?\n",
        "* 関数名??\n",
        "\n",
        "とか。便利。\n",
        "\n",
        "例 $\\quad$ `help(round)`\n",
        "\n",
        "\n"
      ]
    },
    {
      "cell_type": "markdown",
      "metadata": {
        "id": "3_Gri6s6yyXn"
      },
      "source": [
        "`help(round)` の出力を読んでから、次のコードを実行してみる。\n",
        "\n",
        "* round(-2.01)\n",
        "* round(3.12345455, -2)\n",
        "* round(1234567, 3)\n",
        "* round(1234567, -3)\n",
        "\n",
        "他の関数についてもhelp()を実行してみる。\n",
        "\n",
        "* help(abs)"
      ]
    },
    {
      "cell_type": "code",
      "metadata": {
        "id": "iih6tuCv-ttI",
        "colab": {
          "base_uri": "https://localhost:8080/"
        },
        "outputId": "0a0d697c-1f46-4a30-82d1-71dd20fd9bde"
      },
      "source": [
        "# 実験\n",
        "print(round(3.14))\n",
        "print(type(round(3.14)))\n",
        "print(round(3.14,0))\n",
        "print(type(round(3.14,0)))\n",
        "print (round(1234567, -3))\n",
        "print(type (round(1234567, -3)))\n",
        "print(round(1234567.3, -3))\n",
        "print(type (round(1234567.3, -3)))"
      ],
      "execution_count": 21,
      "outputs": [
        {
          "output_type": "stream",
          "text": [
            "3\n",
            "<class 'int'>\n",
            "3.1\n",
            "<class 'float'>\n",
            "1235000\n",
            "<class 'int'>\n",
            "1235000.0\n",
            "<class 'float'>\n"
          ],
          "name": "stdout"
        }
      ]
    },
    {
      "cell_type": "markdown",
      "metadata": {
        "id": "oElBQcyFvTEa"
      },
      "source": [
        "`round()` は単純で説明の短い関数だった。\n",
        "\n",
        "`print()`の場合 `help(print)`の結果も長くなる。"
      ]
    },
    {
      "cell_type": "markdown",
      "metadata": {
        "id": "Bp-NDXZZDkII"
      },
      "source": [
        "# 関数を定義する\n"
      ]
    },
    {
      "cell_type": "code",
      "metadata": {
        "id": "ZW7E53HqEX05",
        "colab": {
          "base_uri": "https://localhost:8080/"
        },
        "outputId": "b03d8e37-9d22-4d75-9aa7-d32d023bccf8"
      },
      "source": [
        "def least_difference(a, b, c):\n",
        "    \"\"\"Return the smallest difference between any two numbers among a, b and c.\n",
        "    >>> least_difference(1, 5, -5)\n",
        "    4\n",
        "    \"\"\"\n",
        "    diff1 = abs(a - b)\n",
        "    diff2 = abs(b - c)\n",
        "    diff3 = abs(a - c)\n",
        "    return min(diff1, diff2, diff3)\n",
        "\n",
        "least_difference(10, 3, 5)"
      ],
      "execution_count": 23,
      "outputs": [
        {
          "output_type": "execute_result",
          "data": {
            "text/plain": [
              "2"
            ]
          },
          "metadata": {
            "tags": []
          },
          "execution_count": 23
        }
      ]
    },
    {
      "cell_type": "markdown",
      "metadata": {
        "id": "Z0nAug7PERV9"
      },
      "source": [
        "* ここでは least_difference() という関数が作られている。\n",
        "* 3 つの引数 a, b, c を取る。\n",
        "*  関数の定義は `def` というキーワードで始まる。`:` のあとのインデントブロックが関数定義の本体。\n",
        "* キーワード `return` で関数を抜け、`return` のあとにある値が返り値となる。\n",
        "\n"
      ]
    },
    {
      "cell_type": "code",
      "metadata": {
        "id": "cHi7tu7GF7Mf",
        "colab": {
          "base_uri": "https://localhost:8080/"
        },
        "outputId": "f4661497-92df-4902-8336-4ca8da47dac1"
      },
      "source": [
        "print(\n",
        "    least_difference(1, 10, 100),\n",
        "    least_difference(1, 10, 10),\n",
        "    least_difference(5, 6, 7), #  python は引数の最後にカンマがついていても大丈夫。\n",
        ")"
      ],
      "execution_count": 24,
      "outputs": [
        {
          "output_type": "stream",
          "text": [
            "9 0 1\n"
          ],
          "name": "stdout"
        }
      ]
    },
    {
      "cell_type": "code",
      "metadata": {
        "id": "F9b1CkQ6EqCT",
        "colab": {
          "base_uri": "https://localhost:8080/"
        },
        "outputId": "16322cff-7ff9-42fa-99e5-ed79214500bc"
      },
      "source": [
        "help(least_difference)"
      ],
      "execution_count": 25,
      "outputs": [
        {
          "output_type": "stream",
          "text": [
            "Help on function least_difference in module __main__:\n",
            "\n",
            "least_difference(a, b, c)\n",
            "    Return the smallest difference between any two numbers among a, b and c.\n",
            "    >>> least_difference(1, 5, -5)\n",
            "    4\n",
            "\n"
          ],
          "name": "stdout"
        }
      ]
    },
    {
      "cell_type": "markdown",
      "metadata": {
        "id": "YM5UgIDOxd5t"
      },
      "source": [
        "# ドックストリング\n",
        "ドックストリング `docstring` は関数を定義する時にヘッダーの直後に書かれる 3 クォートで囲まれた数行にわたる部分のこと。 help()でこのdocstringが出力される。\n",
        "\n",
        "numpyの関数 np.eye の docstring が参考になる。\n",
        "\n",
        "\n"
      ]
    },
    {
      "cell_type": "code",
      "metadata": {
        "id": "QoAQqdIvdAcZ"
      },
      "source": [
        "# import numpy as np\n",
        "# help (np.eye)"
      ],
      "execution_count": null,
      "outputs": []
    },
    {
      "cell_type": "markdown",
      "metadata": {
        "id": "WnZMoEjfH6w-"
      },
      "source": [
        "---\n",
        "返り値のない関数\n",
        "\n",
        "キーワード `return` を含まない関数の返り値は `None` になる。\n"
      ]
    },
    {
      "cell_type": "code",
      "metadata": {
        "id": "PnN8zwiWcH54",
        "colab": {
          "base_uri": "https://localhost:8080/"
        },
        "outputId": "5024f994-a9dd-423b-a071-4bf18bb81b88"
      },
      "source": [
        "print(type(None))"
      ],
      "execution_count": 27,
      "outputs": [
        {
          "output_type": "stream",
          "text": [
            "<class 'NoneType'>\n"
          ],
          "name": "stdout"
        }
      ]
    },
    {
      "cell_type": "code",
      "metadata": {
        "id": "tf-BRZgHeJzT",
        "colab": {
          "base_uri": "https://localhost:8080/",
          "height": 54
        },
        "outputId": "296ff685-43ff-4382-9027-204c81c09917"
      },
      "source": [
        "mystery = print()\n",
        "print(mystery)"
      ],
      "execution_count": null,
      "outputs": [
        {
          "output_type": "stream",
          "text": [
            "\n",
            "None\n"
          ],
          "name": "stdout"
        }
      ]
    },
    {
      "cell_type": "markdown",
      "metadata": {
        "id": "IQxs1ULPeIGg"
      },
      "source": [
        "---\n",
        "引数のデフォルト値\n",
        "\n",
        "関数 `print` のオプションとしていくつかの引数をがある。\n",
        "たとえば出力の項目の間に入れる文字列を指定するには `sep` という変数に値を入る。\n"
      ]
    },
    {
      "cell_type": "code",
      "metadata": {
        "id": "7Xdr3PCSgr3K",
        "colab": {
          "base_uri": "https://localhost:8080/",
          "height": 35
        },
        "outputId": "8e5f409a-f89d-43a3-e9df-94ae554bdcd5"
      },
      "source": [
        "print(1, 2, 3, sep=' < ')"
      ],
      "execution_count": null,
      "outputs": [
        {
          "output_type": "stream",
          "text": [
            "1 < 2 < 3\n"
          ],
          "name": "stdout"
        }
      ]
    },
    {
      "cell_type": "markdown",
      "metadata": {
        "id": "ZxHtaVfmgmsx"
      },
      "source": [
        "しかし、値を指定しない場合、`sep`にはデフォルトの値であるスペース 1 個が入る。\n"
      ]
    },
    {
      "cell_type": "code",
      "metadata": {
        "id": "9hjL8YC1hwEW",
        "colab": {
          "base_uri": "https://localhost:8080/",
          "height": 35
        },
        "outputId": "0031cf08-2dfe-48b0-b55b-b7726decef3e"
      },
      "source": [
        "print(1, 2, 3)"
      ],
      "execution_count": null,
      "outputs": [
        {
          "output_type": "stream",
          "text": [
            "1 2 3\n"
          ],
          "name": "stdout"
        }
      ]
    },
    {
      "cell_type": "markdown",
      "metadata": {
        "id": "OSw17y6ThrIm"
      },
      "source": [
        "関数の定義の時にデフォルト値を指定するには、次のようにする。"
      ]
    },
    {
      "cell_type": "code",
      "metadata": {
        "id": "8vQaBy2Dh5nX",
        "colab": {
          "base_uri": "https://localhost:8080/",
          "height": 72
        },
        "outputId": "11921f60-d506-4832-e5c5-4ab347c59540"
      },
      "source": [
        "def greet(who=\"Colin\"):\n",
        "    print(\"Hello,\", who)\n",
        "    \n",
        "greet()\n",
        "greet(who=\"Kaggle\")\n",
        "\n",
        "# 明確で誤解が生じる余地のない場合、引数の名前を省略できる。\n",
        "greet(\"world\")"
      ],
      "execution_count": null,
      "outputs": [
        {
          "output_type": "stream",
          "text": [
            "Hello, Colin\n",
            "Hello, Kaggle\n",
            "Hello, world\n"
          ],
          "name": "stdout"
        }
      ]
    },
    {
      "cell_type": "markdown",
      "metadata": {
        "id": "0IssDb5mbbwZ"
      },
      "source": [
        "---\n",
        "関数から関数を呼び出す\n",
        "\n",
        "関数から関数を呼び出す、というと関数型プログラムの Haskell や Scheme のようだが、それほど抽象的なことはできないが、つぎのようなやり方で関数を呼び出すことができる。\n"
      ]
    },
    {
      "cell_type": "code",
      "metadata": {
        "id": "p_Z2QYAbjUIU",
        "colab": {
          "base_uri": "https://localhost:8080/",
          "height": 72
        },
        "outputId": "dc18d0ad-3cf7-4b0e-cc89-a60d9b29bd9c"
      },
      "source": [
        "def mult_by_five(x):\n",
        "    \"\"\"x is multiplied by five\"\"\"\n",
        "    return 5 * x\n",
        "\n",
        "def call(fn, arg):\n",
        "    \"\"\"Call fn on arg\"\"\"\n",
        "    return fn(arg)\n",
        "\n",
        "def squared_call(fn, arg):\n",
        "    \"\"\"Call fn on the result of calling fn on arg\"\"\"\n",
        "    return fn(fn(arg))\n",
        "\n",
        "def cubed_call(fn, arg):\n",
        "    \"\"\"Call fn on the result of fn calling fn on arg\"\"\"\n",
        "    return fn(fn(fn(arg)))\n",
        "\n",
        "print(\n",
        "    call(mult_by_five, 1),\n",
        "    squared_call(mult_by_five, 1), \n",
        "    cubed_call(mult_by_five,1),\n",
        "    sep='\\n', # '\\n' is the newline character - it starts a new line\n",
        ")"
      ],
      "execution_count": null,
      "outputs": [
        {
          "output_type": "stream",
          "text": [
            "5\n",
            "25\n",
            "125\n"
          ],
          "name": "stdout"
        }
      ]
    },
    {
      "cell_type": "markdown",
      "metadata": {
        "id": "Uvd9mi8gjSCh"
      },
      "source": [
        "関数に作用する関数は高階関数 \"Higher order functions\" と呼ばれる。\n",
        "\n",
        "python の `max` は複数の引数の中で最大のものを返すが、オプションとして `key` に関数を指定すると `key(x)` が最大なxを返す。\n"
      ]
    },
    {
      "cell_type": "code",
      "metadata": {
        "id": "ZLpHTzdew0hC",
        "colab": {
          "base_uri": "https://localhost:8080/",
          "height": 90
        },
        "outputId": "5cb640d7-7011-4831-e761-6490f238ce42"
      },
      "source": [
        "def mod_5(x):\n",
        "    \"\"\"Return the remainder of x after dividing by 5\"\"\"\n",
        "    return x % 5\n",
        "\n",
        "print(\n",
        "    'Which number is biggest?',\n",
        "    max(100, 51, 14),\n",
        "    'Which number is the biggest modulo 5?',\n",
        "    max(100, 51, 14, key=mod_5),\n",
        "    sep='\\n',\n",
        ")"
      ],
      "execution_count": null,
      "outputs": [
        {
          "output_type": "stream",
          "text": [
            "Which number is biggest?\n",
            "100\n",
            "Which number is the biggest modulo 5?\n",
            "14\n"
          ],
          "name": "stdout"
        }
      ]
    },
    {
      "cell_type": "markdown",
      "metadata": {
        "id": "M_5a-M3Xkv3d"
      },
      "source": [
        "---\n",
        "問題 `docstring` に基づいて関数を完成させる。\n",
        "\n",
        "ヒント: `round` は python の組み込み関数。\n"
      ]
    },
    {
      "cell_type": "code",
      "metadata": {
        "id": "BaJBiSLROA0f",
        "colab": {
          "base_uri": "https://localhost:8080/"
        },
        "outputId": "6f0cb568-ff21-47ac-c70b-d5f5b1aff95e"
      },
      "source": [
        "def round_to_three_places(num):\n",
        "    \"\"\"小数点 3 桁までを求める。4 桁目を四捨五入\n",
        "    >>> round_to_three_places(3.14159)\n",
        "    3.141\n",
        "    \"\"\"\n",
        "    return round(num, 3)\n",
        "\n",
        "round_to_three_places(3.14159)"
      ],
      "execution_count": 4,
      "outputs": [
        {
          "output_type": "execute_result",
          "data": {
            "text/plain": [
              "3.141"
            ]
          },
          "metadata": {
            "tags": []
          },
          "execution_count": 4
        }
      ]
    },
    {
      "cell_type": "markdown",
      "metadata": {
        "id": "Mm1Yw-0jx_nn"
      },
      "source": [
        "---\n",
        "問題  `round` の `ndigits`\n",
        "\n",
        "`help()` によると `round` の 2 番目の引数 `ndigits` は負の数でもかまわない。\n",
        "\n",
        "次のコードセルで実験してみる。"
      ]
    },
    {
      "cell_type": "code",
      "metadata": {
        "id": "N5SVD_-kiLUt",
        "colab": {
          "base_uri": "https://localhost:8080/",
          "height": 34
        },
        "outputId": "157e0a98-629d-40ab-fba5-be3bea0e21cf"
      },
      "source": [
        "round(12345678, -6)"
      ],
      "execution_count": null,
      "outputs": [
        {
          "output_type": "execute_result",
          "data": {
            "text/plain": [
              "12000000"
            ]
          },
          "metadata": {
            "tags": []
          },
          "execution_count": 7
        }
      ]
    },
    {
      "cell_type": "markdown",
      "metadata": {
        "id": "zCybS9yMk0Cv"
      },
      "source": [
        "---\n",
        "エラーメッセージを読む\n",
        "\n",
        "エラーメッセージを読むことは、 python の勉強になる。\n",
        "\n",
        "バギーなコードを、コメントアウト、アンコメントし、実行することを繰り返しながらコードを完成させる。\n",
        "\n",
        "ちなみに、`ctrl`+`/` で選択した行を交互にコメントアウト、アンコメントできる。\n"
      ]
    },
    {
      "cell_type": "markdown",
      "metadata": {
        "id": "1JeG8B4jk2fi"
      },
      "source": [
        "---\n",
        "問題 $\\quad$絶対値の小さい方を返す関数を作る"
      ]
    },
    {
      "cell_type": "code",
      "metadata": {
        "colab": {
          "base_uri": "https://localhost:8080/"
        },
        "id": "_XpNIKxLlQOW",
        "outputId": "ebfaf306-1b9a-4441-f82b-4c8756efa62c"
      },
      "source": [
        "# 絶対値の小さい方を返す\n",
        "def smallest_abs(x,y):\n",
        "    \"\"\"絶対値の小さい方を返す\n",
        "    >>> smallest_abs(-10, 5)\n",
        "    5\n",
        "    \"\"\"\n",
        "    return min(abs(x), abs(y))\n",
        "\n",
        "smallest_abs(-10, 5)"
      ],
      "execution_count": 6,
      "outputs": [
        {
          "output_type": "execute_result",
          "data": {
            "text/plain": [
              "5"
            ]
          },
          "metadata": {
            "tags": []
          },
          "execution_count": 6
        }
      ]
    },
    {
      "cell_type": "markdown",
      "metadata": {
        "id": "jwIeF_2_uFsa"
      },
      "source": [
        "# ブール型\n",
        "ブール型の値は True と False だけ。\n"
      ]
    },
    {
      "cell_type": "code",
      "metadata": {
        "id": "qMEGBuXSvQc1",
        "colab": {
          "base_uri": "https://localhost:8080/",
          "height": 52
        },
        "outputId": "3db7c4c8-9f99-41ec-97d2-94ab0689c3dd"
      },
      "source": [
        "x = True\n",
        "print(x)\n",
        "print(type(x))"
      ],
      "execution_count": null,
      "outputs": [
        {
          "output_type": "stream",
          "text": [
            "True\n",
            "<class 'bool'>\n"
          ],
          "name": "stdout"
        }
      ]
    },
    {
      "cell_type": "markdown",
      "metadata": {
        "id": "fBcSC1mpud7c"
      },
      "source": [
        "---\n",
        "比較演算\n",
        "\n",
        "| 演算\t| 説明\t|\t|演算\t|説明|\n",
        "|---|---|---|---|---|\n",
        "| a == b\t| a は b に等しい            |\t| a != b\t| a は b に等しくない |\n",
        "| a < b\t  | a 小なり b\t            | \t| a > b\t  | a 大なり b |\n",
        "| a <= b\t| a 小なりイコール b\t|\t| a >= b\t| a 大なりイコール b |\n"
      ]
    },
    {
      "cell_type": "code",
      "metadata": {
        "colab": {
          "base_uri": "https://localhost:8080/"
        },
        "id": "9m7-6pCGm6ZS",
        "outputId": "df8bec90-6d64-41ad-8bab-81b8195f6b41"
      },
      "source": [
        "# 実験\n",
        "print(True)\n",
        "if 1 :\n",
        "    print (\"1 is True\")\n",
        "if None :\n",
        "    print (\"None is True\")\n",
        "else: print (\"None is False\")\n",
        "print(None)\n",
        "if -1 :\n",
        "    print (\"-1 is True\")\n",
        "else: print (\"-1 is False\")\n",
        "if 0 :\n",
        "    print (\"0 is True\")\n",
        "else: print (\"0 is False\")\n",
        "print([])\n",
        "if [] :\n",
        "    print (\"[] is True\")\n",
        "else: print (\"[] is False\")\n",
        "if [1] :\n",
        "    print (\"[1] is True\")\n",
        "else: print (\"[1] is False\")\n",
        "if \"\" :\n",
        "    print (\"\\\"\\\" is True\")\n",
        "else: print (\"\\\"\\\" is False\")\n"
      ],
      "execution_count": 24,
      "outputs": [
        {
          "output_type": "stream",
          "text": [
            "True\n",
            "1 is True\n",
            "None is False\n",
            "None\n",
            "-1 is True\n",
            "0 is False\n",
            "[]\n",
            "[] is False\n",
            "[1] is True\n",
            "\"\" is False\n"
          ],
          "name": "stdout"
        }
      ]
    },
    {
      "cell_type": "markdown",
      "metadata": {
        "id": "h7hPu8TTo1Mj"
      },
      "source": [
        "python で False なのは\n"
      ]
    },
    {
      "cell_type": "code",
      "metadata": {
        "colab": {
          "base_uri": "https://localhost:8080/"
        },
        "id": "Vanby7U_pjTz",
        "outputId": "b50c5735-9a2a-45a2-e3a9-97d2137d0f90"
      },
      "source": [
        "# python で False 以外は True\n",
        "print(bool(False))\n",
        "print(bool(None))\n",
        "print(bool())\n",
        "print(bool(EOFError)) # エラーは True\n",
        "print(bool(0)) # 0 以外の数値は True だが\n",
        "print(bool(0.0))\n",
        "print(bool(0j))\n",
        "print(bool(0+0j))\n",
        "print(bool(\"\")) # カラの str\n",
        "print(bool(())) # カラのタプル\n",
        "print(bool([])) # カラのリスト\n",
        "print(bool({})) # カラの dict\n",
        "print(int(True))\n",
        "print(int(False))\n"
      ],
      "execution_count": 89,
      "outputs": [
        {
          "output_type": "stream",
          "text": [
            "False\n",
            "False\n",
            "False\n",
            "True\n",
            "False\n",
            "False\n",
            "False\n",
            "False\n",
            "False\n",
            "False\n",
            "False\n",
            "False\n",
            "1\n",
            "0\n"
          ],
          "name": "stdout"
        }
      ]
    },
    {
      "cell_type": "code",
      "metadata": {
        "colab": {
          "base_uri": "https://localhost:8080/"
        },
        "id": "Aj_YIlMCrOJ8",
        "outputId": "6acf5585-03e4-4bda-ae80-0dc91d810ebc"
      },
      "source": [
        "name = \"\"\n",
        "if name:\n",
        "    print(\"名前は\" + name + \"です\")\n",
        "else:\n",
        "    print(\"名前は未登録です\")"
      ],
      "execution_count": 34,
      "outputs": [
        {
          "output_type": "stream",
          "text": [
            "名前は未登録です\n"
          ],
          "name": "stdout"
        }
      ]
    },
    {
      "cell_type": "markdown",
      "metadata": {
        "id": "ivMXamIbrbnq"
      },
      "source": [
        "---\n",
        "問題 $\\quad$ 引数に年齢を入れて呼び出すと、アメリカの大統領に立候補できる年齢かどうかを判定する"
      ]
    },
    {
      "cell_type": "code",
      "metadata": {
        "id": "X3ODDSF1AAJE",
        "colab": {
          "base_uri": "https://localhost:8080/"
        },
        "outputId": "7b254a7e-e0b3-4c0a-f745-17c6d56b53c7"
      },
      "source": [
        "# 引数に年齢を入れて呼び出すと、アメリカの大統領に立候補できる年齢かどうかを判定する\n",
        "def can_run_for_president(age):\n",
        "    \"\"\"引数に年齢を入れて呼び出すと、アメリカの大統領に立候補できる年齢かどうかを判定する\"\"\"\n",
        "    # The US Constitution says you must be at least 35 years old\n",
        "    return age >= 35\n",
        "\n",
        "print(\"Can a 19-year-old run for president?\", can_run_for_president(19))\n",
        "print(\"Can a 45-year-old run for president?\", can_run_for_president(45))"
      ],
      "execution_count": 35,
      "outputs": [
        {
          "output_type": "stream",
          "text": [
            "Can a 19-year-old run for president? False\n",
            "Can a 45-year-old run for president? True\n"
          ],
          "name": "stdout"
        }
      ]
    },
    {
      "cell_type": "markdown",
      "metadata": {
        "id": "lqyMy__aum5l"
      },
      "source": [
        "---\n",
        "ブール値の組み合わせ\n",
        "\n",
        "`and`、`or`、`not`でブール値を組み合わせることができる。\n",
        "\n"
      ]
    },
    {
      "cell_type": "code",
      "metadata": {
        "id": "C7yZyY_BBMsa",
        "colab": {
          "base_uri": "https://localhost:8080/"
        },
        "outputId": "7783ffd4-a8c7-40a8-ce6b-33a42ee9035b"
      },
      "source": [
        "# 引数に年齢とアメリカ生まれかどうかを入れて呼び出すと、\n",
        "# アメリカの大統領に立候補することが法律上できるかどうかを判定してTrueまたはFalseを返す\n",
        "\n",
        "def can_run_for_president(age, is_natural_born_citizen):\n",
        "    \"\"\"Can someone of the given age and citizenship status run for president in the US?\"\"\"\n",
        "    # The US Constitution says you must be a natural born citizen *and* at least 35 years old\n",
        "    return is_natural_born_citizen and (age >= 35)\n",
        "\n",
        "print(can_run_for_president(19, True))\n",
        "print(can_run_for_president(55, False))\n",
        "print(can_run_for_president(55, True))"
      ],
      "execution_count": 36,
      "outputs": [
        {
          "output_type": "stream",
          "text": [
            "False\n",
            "False\n",
            "True\n"
          ],
          "name": "stdout"
        }
      ]
    },
    {
      "cell_type": "markdown",
      "metadata": {
        "id": "HJfjOYxKEMoh"
      },
      "source": [
        "---\n",
        "ブール演算の優先順位\n",
        "\n",
        "`and`は`or`より先に評価される。\n",
        "\n",
        "なるべくカッコを使ってわかりやすくする。\n"
      ]
    },
    {
      "cell_type": "code",
      "metadata": {
        "id": "V08dgCVTESRI",
        "colab": {
          "base_uri": "https://localhost:8080/"
        },
        "outputId": "3b8bea0a-216f-48c8-ff68-005980dafd4a"
      },
      "source": [
        "print(True or True and False)\n",
        "print(True or (True and False))\n",
        "print((True or True) and False)"
      ],
      "execution_count": 40,
      "outputs": [
        {
          "output_type": "stream",
          "text": [
            "True\n",
            "True\n",
            "False\n"
          ],
          "name": "stdout"
        }
      ]
    },
    {
      "cell_type": "code",
      "metadata": {
        "colab": {
          "base_uri": "https://localhost:8080/"
        },
        "id": "BatyohIktbRG",
        "outputId": "03a950e5-9b1f-4fdb-c46b-be4cb8ffcbe0"
      },
      "source": [
        "# True は False より大きい\n",
        "if True > False:\n",
        "    print (\"True is larger than False\")"
      ],
      "execution_count": 42,
      "outputs": [
        {
          "output_type": "stream",
          "text": [
            "True is larger than False\n"
          ],
          "name": "stdout"
        }
      ]
    },
    {
      "cell_type": "markdown",
      "metadata": {
        "id": "UZkvclDpFX-v"
      },
      "source": [
        "---\n",
        "条件文\n",
        "\n",
        "ブール型は `if`、`elif`、`else` キーワードの条件文と組み合わせて使う。\n",
        "\n",
        "条件文は `if` 文とも言われる。\n",
        "\n"
      ]
    },
    {
      "cell_type": "code",
      "metadata": {
        "id": "fOftabML70ku",
        "colab": {
          "base_uri": "https://localhost:8080/"
        },
        "outputId": "e2ec3b44-1567-41f5-aada-dbc76c1f36e8"
      },
      "source": [
        "# 引数がゼロか、正か、負かを判定して文字列を返す\n",
        "# 関数の中で print を使わない\n",
        "def inspect(x):\n",
        "    if x == 0:\n",
        "        return \"{} is zero\".format(x)\n",
        "    elif x > 0:\n",
        "        return \"{} is positive\".format(x)\n",
        "    elif x < 0:\n",
        "        return \"{} is negative\".format(x)\n",
        "    else:\n",
        "        return \"{} is unlike anything I've ever seen...\".format(x)\n",
        "\n",
        "print(inspect(0))\n",
        "print(inspect(-15))"
      ],
      "execution_count": 45,
      "outputs": [
        {
          "output_type": "stream",
          "text": [
            "0 is zero\n",
            "-15 is negative\n"
          ],
          "name": "stdout"
        }
      ]
    },
    {
      "cell_type": "markdown",
      "metadata": {
        "id": "QbFg_YXFUxF-"
      },
      "source": [
        "---\n",
        "質問\n",
        "\n",
        "* なぜ else if でなく elif なのか。\n",
        "* if は後置で使えるか。\n",
        "* if, elif, else を改行なしで書けるか。\n",
        "\n",
        "\n",
        "\n",
        "      "
      ]
    },
    {
      "cell_type": "markdown",
      "metadata": {
        "id": "F3D9leh9NybG"
      },
      "source": [
        "---\n",
        "問題\n",
        "\n",
        "数値の引数を取り、負の場合は-1、正の場合は1、0の場合は0を返す、signと呼ばれる関数を定義する。多くのプログラミング言語にはあって、 python の組み込み関数にはないもの。\n"
      ]
    },
    {
      "cell_type": "code",
      "metadata": {
        "colab": {
          "base_uri": "https://localhost:8080/"
        },
        "id": "UBFeumkwwcMF",
        "outputId": "1bc210a3-33bc-4e7e-884d-fd237c647758"
      },
      "source": [
        "import numpy as np\n",
        "np.sign(-1)"
      ],
      "execution_count": 57,
      "outputs": [
        {
          "output_type": "execute_result",
          "data": {
            "text/plain": [
              "-1"
            ]
          },
          "metadata": {
            "tags": []
          },
          "execution_count": 57
        }
      ]
    },
    {
      "cell_type": "code",
      "metadata": {
        "id": "5JVPdAQNxHEx"
      },
      "source": [
        "from sympy import sign\n",
        "sign(-1)"
      ],
      "execution_count": null,
      "outputs": []
    },
    {
      "cell_type": "code",
      "metadata": {
        "id": "mFIE3xODPi9u",
        "colab": {
          "base_uri": "https://localhost:8080/"
        },
        "outputId": "c7c9178b-e79e-440d-8720-13088b1262a2"
      },
      "source": [
        "# 数値の引数を取り、負の場合は-1、正の場合は1、0の場合は0を返す\n",
        "def sign (x) :\n",
        "    if x < 0 :\n",
        "        return -1\n",
        "    elif x > 0 :\n",
        "        return 1\n",
        "    else :\n",
        "        return 0\n",
        "\n",
        "print (sign(-1))\n",
        "print (sign(1))\n",
        "print (sign(0))\n"
      ],
      "execution_count": 63,
      "outputs": [
        {
          "output_type": "stream",
          "text": [
            "-1\n",
            "1\n",
            "0\n"
          ],
          "name": "stdout"
        }
      ]
    },
    {
      "cell_type": "markdown",
      "metadata": {
        "id": "w4Wcupvf0snv"
      },
      "source": [
        "---\n",
        "問題 $\\quad$ 引数を args を set で受ける\n",
        "\n",
        "* hotdog (ketchup, mustard, onion) => \"wants all toppings with ketchup and mustard and onion\"\n",
        "* hotdog () => \"wants plain hotdog without toppings\"\n",
        "* hotdog (ketchup) => \"wants hotdog with once sauce ketchup\"\n",
        "* hotdog (ketchup, onion) => \"wants two sauce ketchup and onion\"\n",
        "\n"
      ]
    },
    {
      "cell_type": "code",
      "metadata": {
        "colab": {
          "base_uri": "https://localhost:8080/"
        },
        "id": "q53G3xWd2Tcn",
        "outputId": "6a9f6868-5942-4848-c3fc-a64499b2092c"
      },
      "source": [
        "def hotdog (*args):\n",
        "    args = set(args)\n",
        "    if args == set():\n",
        "        return \"wants plain hotdog without toppings\"\n",
        "    elif args == {\"ketchup\"}:\n",
        "        return \"wants hotdog with once sauce ketchup\"\n",
        "    elif args == {\"mustard\"}:\n",
        "        return \"wants hotdog with once sauce mustard\"\n",
        "    elif args == {\"onion\"}:\n",
        "        return \"wants hotdog with once sauce onion\"\n",
        "    elif args ==  {\"ketchup\", \"mustard\"}:\n",
        "        return \"wants two sauce ketchup and mustard\"\n",
        "    elif args ==  {\"ketchup\", \"onion\"}:\n",
        "        return \"wants two sauce ketchup and onion\"\n",
        "    elif args ==  {\"mustard\", \"onion\"}:\n",
        "        return \"wants two sauce mustard and onion\"\n",
        "    elif args ==  {\"ketchup\", \"mustard\", \"onion\"}:\n",
        "        return \"wants all toppings with ketchup and mustard and onion\"\n",
        "\n",
        "print(hotdog(\"onion\", \"mustard\"))\n",
        "print(hotdog())\n",
        "print(hotdog(\"onion\", \"mustard\", \"ketchup\"))\n",
        "print(hotdog(\"onion\"))"
      ],
      "execution_count": 85,
      "outputs": [
        {
          "output_type": "stream",
          "text": [
            "wants two sauce mustard and onion\n",
            "wants plain hotdog without toppings\n",
            "wants all toppings with ketchup and mustard and onion\n",
            "wants hotdog with once sauce onion\n"
          ],
          "name": "stdout"
        }
      ]
    },
    {
      "cell_type": "markdown",
      "metadata": {
        "id": "OT9WynwoqXss"
      },
      "source": [
        "---\n",
        "問題 \n",
        "\n",
        "`int()` の引数にブール型を入れて、合計をとることにより、1 つだけ選ばれたことを判定することができる。\n"
      ]
    },
    {
      "cell_type": "code",
      "metadata": {
        "id": "i_11jVDpz37V",
        "colab": {
          "base_uri": "https://localhost:8080/",
          "height": 34
        },
        "outputId": "5f9fce7f-4319-4371-903d-46456f178b5a"
      },
      "source": [
        "def exactly_one_topping(ketchup, mustard, onion):\n",
        "    return (int(ketchup) + int(mustard) + int(onion)) == 1\n",
        "\n",
        "ketchup = True\n",
        "mustard = True\n",
        "onion = True\n",
        "\n",
        "print (exactly_one_topping(ketchup, mustard, onion))"
      ],
      "execution_count": null,
      "outputs": [
        {
          "output_type": "stream",
          "text": [
            "False\n"
          ],
          "name": "stdout"
        }
      ]
    },
    {
      "cell_type": "markdown",
      "metadata": {
        "id": "kslgS1Bcc-jr"
      },
      "source": [
        "# リスト"
      ]
    },
    {
      "cell_type": "code",
      "metadata": {
        "id": "neBx_l_RdaBP",
        "colab": {
          "base_uri": "https://localhost:8080/",
          "height": 35
        },
        "outputId": "b52a2b7b-0a9c-4ecf-84fc-e493a610bfdd"
      },
      "source": [
        "# リストの例\n",
        "primes = [2, 3, 5, 7]\n",
        "print(primes)"
      ],
      "execution_count": null,
      "outputs": [
        {
          "output_type": "stream",
          "text": [
            "[2, 3, 5, 7]\n"
          ],
          "name": "stdout"
        }
      ]
    },
    {
      "cell_type": "code",
      "metadata": {
        "id": "qoH8KDIeaXj-",
        "colab": {
          "base_uri": "https://localhost:8080/",
          "height": 35
        },
        "outputId": "2268a73c-16c6-4c3b-cbee-4f0230f32b78"
      },
      "source": [
        "planets = ['Mercury', 'Venus', 'Earth', 'Mars', 'Jupiter', 'Saturn', 'Uranus', 'Neptune']\n",
        "print(planets)"
      ],
      "execution_count": null,
      "outputs": [
        {
          "output_type": "stream",
          "text": [
            "['Mercury', 'Venus', 'Earth', 'Mars', 'Jupiter', 'Saturn', 'Uranus', 'Neptune']\n"
          ],
          "name": "stdout"
        }
      ]
    },
    {
      "cell_type": "markdown",
      "metadata": {
        "id": "7i4VgJMf_FPb"
      },
      "source": [
        "リストのリストが作れる。"
      ]
    },
    {
      "cell_type": "code",
      "metadata": {
        "id": "rzzB6oWtaLCl",
        "colab": {
          "base_uri": "https://localhost:8080/",
          "height": 35
        },
        "outputId": "41679117-840b-4cea-bbc0-e36163ab7a2c"
      },
      "source": [
        "hands = [\n",
        "    ['J', 'Q', 'K'],\n",
        "    ['2', '2', '2'],\n",
        "    ['6', 'A', 'K'], # 最後の要素のあとにカンマがあってもかまわない\n",
        "]\n",
        "\n",
        "print(hands)"
      ],
      "execution_count": null,
      "outputs": [
        {
          "output_type": "stream",
          "text": [
            "[['J', 'Q', 'K'], ['2', '2', '2'], ['6', 'A', 'K']]\n"
          ],
          "name": "stdout"
        }
      ]
    },
    {
      "cell_type": "markdown",
      "metadata": {
        "id": "M29iO8lVc2zm"
      },
      "source": [
        "python のリストは型の混在が可能。\n"
      ]
    },
    {
      "cell_type": "code",
      "metadata": {
        "id": "65Z3ZAwubHZC",
        "colab": {
          "base_uri": "https://localhost:8080/"
        },
        "outputId": "39730c49-9f41-41a2-ad44-c4ac4fac1583"
      },
      "source": [
        "my_favourite_things = [32, 'raindrops on roses', help]\n",
        "print(my_favourite_things)"
      ],
      "execution_count": 90,
      "outputs": [
        {
          "output_type": "stream",
          "text": [
            "[32, 'raindrops on roses', Type help() for interactive help, or help(object) for help about object.]\n"
          ],
          "name": "stdout"
        }
      ]
    },
    {
      "cell_type": "markdown",
      "metadata": {
        "id": "TBsbOerf_iGQ"
      },
      "source": [
        "---\n",
        "インデクス\n",
        "\n",
        "リストの要素には角括弧 `square brackets` でアクセスできる。\n",
        "\n",
        "太陽に一番近い惑星はどこか?  python のインデクスは0スタートなので、最初の要素はインデクス0となる。\n",
        "\n"
      ]
    },
    {
      "cell_type": "code",
      "metadata": {
        "id": "ja9ZUdC3m44t",
        "colab": {
          "base_uri": "https://localhost:8080/",
          "height": 35
        },
        "outputId": "30f289e3-02b3-4b4b-8004-ab32d5480328"
      },
      "source": [
        "planets = ['Mercury', 'Venus', 'Earth', 'Mars', 'Jupiter', 'Saturn', 'Uranus', 'Neptune']\n",
        "planets[0]"
      ],
      "execution_count": null,
      "outputs": [
        {
          "output_type": "execute_result",
          "data": {
            "application/vnd.google.colaboratory.intrinsic": {
              "type": "string"
            },
            "text/plain": [
              "'Mercury'"
            ]
          },
          "metadata": {
            "tags": []
          },
          "execution_count": 11
        }
      ]
    },
    {
      "cell_type": "markdown",
      "metadata": {
        "id": "yR71nDTAGX-3"
      },
      "source": [
        "冥王星 Pluto がないのは惑星ではなくなったから。"
      ]
    },
    {
      "cell_type": "markdown",
      "metadata": {
        "id": "RS-g-5gJnIo9"
      },
      "source": [
        "太陽から一番遠い惑星はどこか?\n",
        "\n",
        "リストの最後の要素はマイナスの数でアクセスできる。\n"
      ]
    },
    {
      "cell_type": "code",
      "metadata": {
        "id": "H7McvjOeneBx",
        "colab": {
          "base_uri": "https://localhost:8080/",
          "height": 50
        },
        "outputId": "272b7f8c-4203-4e95-c5f2-a7cd7a8763ec"
      },
      "source": [
        "print(planets[-1])\n",
        "print(planets[-2])"
      ],
      "execution_count": null,
      "outputs": [
        {
          "output_type": "stream",
          "text": [
            "Neptune\n",
            "Uranus\n"
          ],
          "name": "stdout"
        }
      ]
    },
    {
      "cell_type": "markdown",
      "metadata": {
        "id": "hNQN2iTb_edz"
      },
      "source": [
        "---\n",
        "スライス、スライシング、切り取り、コロン\n",
        "\n",
        "太陽から近い順に3つの惑星をリストにする。このようなときにスライシングが使える。\n"
      ]
    },
    {
      "cell_type": "code",
      "metadata": {
        "id": "5IAWi_B5oBFh",
        "colab": {
          "base_uri": "https://localhost:8080/",
          "height": 34
        },
        "outputId": "0328d470-8ceb-4e3a-c514-6cc58306068e"
      },
      "source": [
        "planets = ['Mercury', 'Venus', 'Earth', 'Mars', 'Jupiter', 'Saturn', 'Uranus', 'Neptune']\n",
        "planets[0:3]"
      ],
      "execution_count": null,
      "outputs": [
        {
          "output_type": "execute_result",
          "data": {
            "text/plain": [
              "['Mercury', 'Venus', 'Earth']"
            ]
          },
          "metadata": {
            "tags": []
          },
          "execution_count": 14
        }
      ]
    },
    {
      "cell_type": "markdown",
      "metadata": {
        "id": "logbyUnpn_di"
      },
      "source": [
        "`planets[0:3]` の意味はインデクス 0 から 3 までで、3 を含まない、ということ。\n",
        "\n",
        "スタートとエンドの要素は省略可能。最初のインデクスを省略すると、0とみなされるので、前の例は次のように書ける。\n"
      ]
    },
    {
      "cell_type": "code",
      "metadata": {
        "id": "RnrwU6-aoolw",
        "colab": {
          "base_uri": "https://localhost:8080/",
          "height": 34
        },
        "outputId": "fd1147d1-e18e-4ae6-e057-7f33dd0f2b6a"
      },
      "source": [
        "planets[:3]"
      ],
      "execution_count": null,
      "outputs": [
        {
          "output_type": "execute_result",
          "data": {
            "text/plain": [
              "['Mercury', 'Venus', 'Earth']"
            ]
          },
          "metadata": {
            "tags": []
          },
          "execution_count": 15
        }
      ]
    },
    {
      "cell_type": "markdown",
      "metadata": {
        "id": "S609vyLYonbl"
      },
      "source": [
        "エンドのインデクスを省略すると、リストの長さを指定したことになる。\n",
        "\n"
      ]
    },
    {
      "cell_type": "code",
      "metadata": {
        "id": "kxCVALNXo4_w",
        "colab": {
          "base_uri": "https://localhost:8080/",
          "height": 34
        },
        "outputId": "aaba1b00-c6ed-4889-d03d-8aec64e321eb"
      },
      "source": [
        "planets[3:]"
      ],
      "execution_count": null,
      "outputs": [
        {
          "output_type": "execute_result",
          "data": {
            "text/plain": [
              "['Mars', 'Jupiter', 'Saturn', 'Uranus', 'Neptune']"
            ]
          },
          "metadata": {
            "tags": []
          },
          "execution_count": 16
        }
      ]
    },
    {
      "cell_type": "markdown",
      "metadata": {
        "id": "dSoD_35Ao36f"
      },
      "source": [
        "`planets[3:]`の意味はインデクス3から最後まで、という意味になる。\n",
        "\n",
        "スライシングにマイナスのインデクスを使うこともできる。\n"
      ]
    },
    {
      "cell_type": "code",
      "metadata": {
        "id": "4MCyDfZYpL1o",
        "colab": {
          "base_uri": "https://localhost:8080/",
          "height": 34
        },
        "outputId": "4fd9af6d-d00e-45f0-90ab-dad89eb749d5"
      },
      "source": [
        "# All the planets except the first and last\n",
        "planets[1:-1]"
      ],
      "execution_count": null,
      "outputs": [
        {
          "output_type": "execute_result",
          "data": {
            "text/plain": [
              "['Venus', 'Earth', 'Mars', 'Jupiter', 'Saturn', 'Uranus']"
            ]
          },
          "metadata": {
            "tags": []
          },
          "execution_count": 17
        }
      ]
    },
    {
      "cell_type": "code",
      "metadata": {
        "id": "l6DfbNaOpRKX",
        "colab": {
          "base_uri": "https://localhost:8080/",
          "height": 34
        },
        "outputId": "cb04a9a7-8327-46d5-b382-7fc3779cd77b"
      },
      "source": [
        "# The last 3 planets\n",
        "planets[-3:]"
      ],
      "execution_count": null,
      "outputs": [
        {
          "output_type": "execute_result",
          "data": {
            "text/plain": [
              "['Saturn', 'Uranus', 'Neptune']"
            ]
          },
          "metadata": {
            "tags": []
          },
          "execution_count": 18
        }
      ]
    },
    {
      "cell_type": "markdown",
      "metadata": {
        "id": "bLHiNCYq_3E1"
      },
      "source": [
        "---\n",
        "リストの更新\n",
        "\n",
        "リストは可変 `mutable` である。コピーを作らずその場でそのものを更新できる。\n",
        "\n",
        "インデクスやスライスで値を入れることでリストを更新できる。\n",
        "\n",
        "例えば火星 `Mars` の名前を変えたいとしよう。\n",
        "\n"
      ]
    },
    {
      "cell_type": "code",
      "metadata": {
        "id": "Y38EaklOuzJr",
        "colab": {
          "base_uri": "https://localhost:8080/"
        },
        "outputId": "c1b4e9c2-67a6-4092-8db1-9bd0de7887b3"
      },
      "source": [
        "planets = ['Mercury', 'Venus', 'Earth', 'Mars', 'Jupiter', 'Saturn', 'Uranus', 'Neptune']\n",
        "planets[3] = 'Malacandra'\n",
        "print(planets)"
      ],
      "execution_count": 93,
      "outputs": [
        {
          "output_type": "stream",
          "text": [
            "['Mercury', 'Venus', 'Earth', 'Malacandra', 'Jupiter', 'Saturn', 'Uranus', 'Neptune']\n"
          ],
          "name": "stdout"
        }
      ]
    },
    {
      "cell_type": "markdown",
      "metadata": {
        "id": "XxkhzMBWuxqa"
      },
      "source": [
        "最初の3つの惑星の名前を短くしてみよう。\n"
      ]
    },
    {
      "cell_type": "code",
      "metadata": {
        "id": "3l-yMmZqvEtW",
        "colab": {
          "base_uri": "https://localhost:8080/",
          "height": 34
        },
        "outputId": "956c36fd-046a-484d-aaf6-77cfd1b8a1f9"
      },
      "source": [
        "planets[:3] = ['Mur', 'Vee', 'Ur']\n",
        "print(planets)"
      ],
      "execution_count": null,
      "outputs": [
        {
          "output_type": "stream",
          "text": [
            "['Mur', 'Vee', 'Ur', 'Malacandra', 'Jupiter', 'Saturn', 'Uranus', 'Neptune']\n"
          ],
          "name": "stdout"
        }
      ]
    },
    {
      "cell_type": "code",
      "metadata": {
        "id": "KfzK-axxvOYD",
        "colab": {
          "base_uri": "https://localhost:8080/",
          "height": 34
        },
        "outputId": "f6ba144a-2725-470b-f320-086666ac6d44"
      },
      "source": [
        "# 元に戻す\n",
        "planets[:4] = ['Mercury', 'Venus', 'Earth', 'Mars',]\n",
        "planets"
      ],
      "execution_count": null,
      "outputs": [
        {
          "output_type": "execute_result",
          "data": {
            "text/plain": [
              "['Mercury', 'Venus', 'Earth', 'Mars', 'Jupiter', 'Saturn', 'Uranus', 'Neptune']"
            ]
          },
          "metadata": {
            "tags": []
          },
          "execution_count": 22
        }
      ]
    },
    {
      "cell_type": "markdown",
      "metadata": {
        "id": "LYrANVAkAB0E"
      },
      "source": [
        "---\n",
        "リスト関数\n",
        "\n",
        "リストを扱う便利な関数がいろいろある。\n",
        "\n",
        "`len` はリストの長さを返す。"
      ]
    },
    {
      "cell_type": "code",
      "metadata": {
        "id": "DK06qFbTvwLU",
        "colab": {
          "base_uri": "https://localhost:8080/",
          "height": 34
        },
        "outputId": "ceb9ae97-83db-4ddd-a00c-5710cbf08b9c"
      },
      "source": [
        "# How many planets are there?\n",
        "len(planets)"
      ],
      "execution_count": null,
      "outputs": [
        {
          "output_type": "execute_result",
          "data": {
            "text/plain": [
              "8"
            ]
          },
          "metadata": {
            "tags": []
          },
          "execution_count": 23
        }
      ]
    },
    {
      "cell_type": "markdown",
      "metadata": {
        "id": "Wcf9LBwjvrHr"
      },
      "source": [
        "`sorted` はリストのソートしたものを返す。\n"
      ]
    },
    {
      "cell_type": "code",
      "metadata": {
        "id": "JG2ZkhIiwJ92",
        "colab": {
          "base_uri": "https://localhost:8080/",
          "height": 34
        },
        "outputId": "4847a704-4ba9-4c42-d907-d45c8bf40978"
      },
      "source": [
        "# The planets sorted in alphabetical order\n",
        "sorted(planets)"
      ],
      "execution_count": null,
      "outputs": [
        {
          "output_type": "execute_result",
          "data": {
            "text/plain": [
              "['Earth', 'Jupiter', 'Mars', 'Mercury', 'Neptune', 'Saturn', 'Uranus', 'Venus']"
            ]
          },
          "metadata": {
            "tags": []
          },
          "execution_count": 24
        }
      ]
    },
    {
      "cell_type": "markdown",
      "metadata": {
        "id": "uplvvHgwwG4_"
      },
      "source": [
        "`sum` は数値の合計を返す。\n"
      ]
    },
    {
      "cell_type": "code",
      "metadata": {
        "id": "tLpQofQewWGP"
      },
      "source": [
        "primes = [2, 3, 5, 7]\n",
        "sum(primes)"
      ],
      "execution_count": null,
      "outputs": []
    },
    {
      "cell_type": "markdown",
      "metadata": {
        "id": "G3phy0f_wUGD"
      },
      "source": [
        "`min` と `max` はリストを引数として渡すこともできる。\n"
      ]
    },
    {
      "cell_type": "code",
      "metadata": {
        "id": "YeaLbGDHwttm",
        "colab": {
          "base_uri": "https://localhost:8080/",
          "height": 34
        },
        "outputId": "b1b4186d-02fc-47f3-9edd-f919b695d1ad"
      },
      "source": [
        "max(primes)"
      ],
      "execution_count": null,
      "outputs": [
        {
          "output_type": "execute_result",
          "data": {
            "text/plain": [
              "7"
            ]
          },
          "metadata": {
            "tags": []
          },
          "execution_count": 25
        }
      ]
    },
    {
      "cell_type": "code",
      "metadata": {
        "id": "tQZxZdbhwxrQ",
        "colab": {
          "base_uri": "https://localhost:8080/",
          "height": 35
        },
        "outputId": "5e902b5b-a918-4a80-d817-80a5c32213db"
      },
      "source": [
        "min(planets)"
      ],
      "execution_count": null,
      "outputs": [
        {
          "output_type": "execute_result",
          "data": {
            "application/vnd.google.colaboratory.intrinsic": {
              "type": "string"
            },
            "text/plain": [
              "'Earth'"
            ]
          },
          "metadata": {
            "tags": []
          },
          "execution_count": 27
        }
      ]
    },
    {
      "cell_type": "markdown",
      "metadata": {
        "id": "XAGWRjoDANuy"
      },
      "source": [
        "---\n",
        "オブジェクトとドットシンタクス\n",
        "\n",
        "オブジェクトはなんらかの性質をもっている物であり、その性質にアクセするためにドットシンタクスがある。\n",
        "\n",
        "例えば、 python の数値は `imag` と呼ばれる虚数部分を表す変数を持っていて、次のようにアクセスする。\n"
      ]
    },
    {
      "cell_type": "code",
      "metadata": {
        "id": "GMAS0B1P8NAw",
        "colab": {
          "base_uri": "https://localhost:8080/",
          "height": 34
        },
        "outputId": "1458ad60-7e10-4686-b854-f1531c85b476"
      },
      "source": [
        "x = 12\n",
        "# x is a real number, so its imaginary part is 0.\n",
        "print(x.imag)"
      ],
      "execution_count": null,
      "outputs": [
        {
          "output_type": "stream",
          "text": [
            "0\n"
          ],
          "name": "stdout"
        }
      ]
    },
    {
      "cell_type": "code",
      "metadata": {
        "id": "OWvsHBZ98aIL",
        "colab": {
          "base_uri": "https://localhost:8080/"
        },
        "outputId": "7604d3fc-cebb-4c01-9bf1-d9147ee0f5cb"
      },
      "source": [
        "# Here's how to make a complex number, in case you've ever been curious:\n",
        "c = 12 + 3j\n",
        "print(c.imag)"
      ],
      "execution_count": 95,
      "outputs": [
        {
          "output_type": "stream",
          "text": [
            "3.0\n"
          ],
          "name": "stdout"
        }
      ]
    },
    {
      "cell_type": "markdown",
      "metadata": {
        "id": "3gGYtzW08Ki4"
      },
      "source": [
        "オブジェクトは関数を持っていていて、オブジェクトに付属する関数のことはメソッドと呼ばれる。\n",
        "\n",
        "`imag`のようなオブジェクトの性質は属性 `attributes` と呼ぶ。\n",
        "\n",
        "例えば、整数は`bit_length`というメソッドを持っていて、次のように使う。\n"
      ]
    },
    {
      "cell_type": "code",
      "metadata": {
        "id": "Nhx_x9aN9TQA",
        "colab": {
          "base_uri": "https://localhost:8080/"
        },
        "outputId": "360dcecd-ea60-49e4-867b-2b47f569f027"
      },
      "source": [
        "x = -3\n",
        "x.bit_length()"
      ],
      "execution_count": 102,
      "outputs": [
        {
          "output_type": "execute_result",
          "data": {
            "text/plain": [
              "2"
            ]
          },
          "metadata": {
            "tags": []
          },
          "execution_count": 102
        }
      ]
    },
    {
      "cell_type": "markdown",
      "metadata": {
        "id": "Ig9UBtzd9RqZ"
      },
      "source": [
        "普通の関数の `help()` は 'help(max)` のように使うが、メソッドについての `help()` は次のようにオブジェクトのドットシンタクスとして呼び出す。 属性も同じ。 オブジェクトがないとエラーになる。\n"
      ]
    },
    {
      "cell_type": "code",
      "metadata": {
        "id": "-8J3NIVDBX00",
        "colab": {
          "base_uri": "https://localhost:8080/"
        },
        "outputId": "05b0b8bf-2431-45ad-d229-a5d8229209da"
      },
      "source": [
        "x = 12\n",
        "help(x.bit_length)"
      ],
      "execution_count": 109,
      "outputs": [
        {
          "output_type": "stream",
          "text": [
            "Help on built-in function bit_length:\n",
            "\n",
            "bit_length() method of builtins.int instance\n",
            "    Number of bits necessary to represent self in binary.\n",
            "    \n",
            "    >>> bin(37)\n",
            "    '0b100101'\n",
            "    >>> (37).bit_length()\n",
            "    6\n",
            "\n"
          ],
          "name": "stdout"
        }
      ]
    },
    {
      "cell_type": "markdown",
      "metadata": {
        "id": "hqb8WqveAh0A"
      },
      "source": [
        "`list.append` は要素をリストの最後に付け加える\n",
        "\n"
      ]
    },
    {
      "cell_type": "code",
      "metadata": {
        "id": "ja7lJtxWCZve",
        "colab": {
          "base_uri": "https://localhost:8080/"
        },
        "outputId": "08979e59-290d-4e95-e4e1-49f1cbc0c206"
      },
      "source": [
        "# Pluto is a planet darn it!\n",
        "planets.append('Pluto')\n",
        "print(planets)\n",
        "print(planets.append(\"Nothing\")) # append に返り値はない"
      ],
      "execution_count": 113,
      "outputs": [
        {
          "output_type": "stream",
          "text": [
            "['Mercury', 'Venus', 'Earth', 'Malacandra', 'Jupiter', 'Saturn', 'Uranus', 'Neptune', 'Pluto', 'Pluto']\n",
            "None\n"
          ],
          "name": "stdout"
        }
      ]
    },
    {
      "cell_type": "markdown",
      "metadata": {
        "id": "KQ1nWX5ZF8XT"
      },
      "source": [
        "メソッド `append` はリスト型のメソッドなので、`help()` で呼び出す際にもなんらかのリストをつける必要がある。\n",
        "\n",
        "`help(append)`とするとエラーになる。そこが組み込み関数の `max` などと違うところで、`max` の場合 `help(max)` で呼び出せる。\n",
        "\n",
        "`help([].append)` のドキュメントにある、`-> None` の部分が `list.append` が返り値がないことを表している。\n"
      ]
    },
    {
      "cell_type": "markdown",
      "metadata": {
        "id": "TfMfNHTlHZ2f"
      },
      "source": [
        "---\n",
        "`list.pop` はリストの最後の要素を削除する。\n"
      ]
    },
    {
      "cell_type": "code",
      "metadata": {
        "id": "fcjghYw-H0Ar",
        "colab": {
          "base_uri": "https://localhost:8080/"
        },
        "outputId": "00a6e33c-eff4-4b2f-ac22-a85dd976eca2"
      },
      "source": [
        "planets = ['Mercury', 'Venus', 'Earth', 'Mars', 'Jupiter', 'Saturn', 'Uranus', 'Neptune']\n",
        "print(planets)\n",
        "planets.pop()\n",
        "print(planets)\n",
        "planets.append('Neptune')\n",
        "print(planets)"
      ],
      "execution_count": 5,
      "outputs": [
        {
          "output_type": "stream",
          "text": [
            "['Mercury', 'Venus', 'Earth', 'Mars', 'Jupiter', 'Saturn', 'Uranus', 'Neptune']\n",
            "['Mercury', 'Venus', 'Earth', 'Mars', 'Jupiter', 'Saturn', 'Uranus']\n",
            "['Mercury', 'Venus', 'Earth', 'Mars', 'Jupiter', 'Saturn', 'Uranus', 'Neptune']\n"
          ],
          "name": "stdout"
        }
      ]
    },
    {
      "cell_type": "markdown",
      "metadata": {
        "id": "rEcaF8Lt7ZAa"
      },
      "source": [
        "質問 $\\quad$ ということは、push, pop ペアではなくて、append, pop ペアなのか。これでスタック操作ができるかも。 "
      ]
    },
    {
      "cell_type": "markdown",
      "metadata": {
        "id": "Ott37F9pA0Fj"
      },
      "source": [
        "---\n",
        "リストの検索\n",
        "\n",
        "`planets`の中で`Earth`は何番目にあるか?\n",
        "\n",
        "list.indexメソッドを使う。\n"
      ]
    },
    {
      "cell_type": "code",
      "metadata": {
        "id": "zk4P4vk1ILqB",
        "colab": {
          "base_uri": "https://localhost:8080/",
          "height": 34
        },
        "outputId": "502af624-8804-49ef-8106-07c165a75a9c"
      },
      "source": [
        "planets.index('Earth')"
      ],
      "execution_count": null,
      "outputs": [
        {
          "output_type": "execute_result",
          "data": {
            "text/plain": [
              "2"
            ]
          },
          "metadata": {
            "tags": []
          },
          "execution_count": 47
        }
      ]
    },
    {
      "cell_type": "markdown",
      "metadata": {
        "id": "O3LNuYb6IInj"
      },
      "source": [
        "`planets`の中で`Earth`は3番目にあることがわかる。インデクスは 0 スタートなので、2 が 3 番目という意味になる。\n",
        "\n"
      ]
    },
    {
      "cell_type": "markdown",
      "metadata": {
        "id": "0y7r8ERE75Vg"
      },
      "source": [
        "存在しない要素を検索するとエラーになる。\n",
        "\n",
        "'Pluto' is not in list"
      ]
    },
    {
      "cell_type": "code",
      "metadata": {
        "id": "DqsYTiIEIoo6"
      },
      "source": [
        "# 次のコードはエラーになる\n",
        "# planets = ['Mercury', 'Venus', 'Earth', 'Mars', 'Jupiter', 'Saturn', 'Uranus', 'Neptune']\n",
        "# planets.index('Pluto')"
      ],
      "execution_count": null,
      "outputs": []
    },
    {
      "cell_type": "markdown",
      "metadata": {
        "id": "whUap4Kh8krj"
      },
      "source": [
        "エラーにしないために事前に調べる方法がある。\n"
      ]
    },
    {
      "cell_type": "code",
      "metadata": {
        "id": "w_clMIY0JjTz",
        "colab": {
          "base_uri": "https://localhost:8080/",
          "height": 34
        },
        "outputId": "843650ea-e706-4ec8-e245-85b1291e6baa"
      },
      "source": [
        "# Is Earth a planet?\n",
        "\"Earth\" in planets"
      ],
      "execution_count": null,
      "outputs": [
        {
          "output_type": "execute_result",
          "data": {
            "text/plain": [
              "True"
            ]
          },
          "metadata": {
            "tags": []
          },
          "execution_count": 50
        }
      ]
    },
    {
      "cell_type": "markdown",
      "metadata": {
        "id": "_yxUtpCpJheo"
      },
      "source": [
        "---\n",
        "リストについてのすべてのメソッドを知るには、`help(planets)`もしくは`help([])とすればいい。\n"
      ]
    },
    {
      "cell_type": "code",
      "metadata": {
        "id": "4NZSATUeKCCI"
      },
      "source": [
        "# help([])"
      ],
      "execution_count": null,
      "outputs": []
    },
    {
      "cell_type": "markdown",
      "metadata": {
        "id": "NtEKrLl_J-79"
      },
      "source": [
        "`__eq__`とか` __iadd__ `とか変な名前のメソッドがたくさん出てくるが、とりあえず気にしないでよい。たぶ直接使うことはなく、インデクスや比較演算子の背後で使われているメソッドである．\n",
        "\n",
        "最後の方にある、`append`、`clear`、`copy` 等を学ぶのがよい。\n"
      ]
    },
    {
      "cell_type": "code",
      "metadata": {
        "id": "x92NOx9yMPtu",
        "colab": {
          "base_uri": "https://localhost:8080/"
        },
        "outputId": "fce79031-cdac-4d93-9400-df54e3e854f5"
      },
      "source": [
        "help([].clear)"
      ],
      "execution_count": 6,
      "outputs": [
        {
          "output_type": "stream",
          "text": [
            "Help on built-in function clear:\n",
            "\n",
            "clear() method of builtins.list instance\n",
            "    Remove all items from list.\n",
            "\n"
          ],
          "name": "stdout"
        }
      ]
    },
    {
      "cell_type": "code",
      "metadata": {
        "id": "D5M1iyLyMVEq",
        "colab": {
          "base_uri": "https://localhost:8080/"
        },
        "outputId": "f9f0fcc6-bd64-40f0-c1bf-bf9de504f542"
      },
      "source": [
        "help([].copy)"
      ],
      "execution_count": 7,
      "outputs": [
        {
          "output_type": "stream",
          "text": [
            "Help on built-in function copy:\n",
            "\n",
            "copy() method of builtins.list instance\n",
            "    Return a shallow copy of the list.\n",
            "\n"
          ],
          "name": "stdout"
        }
      ]
    },
    {
      "cell_type": "markdown",
      "metadata": {
        "id": "1I2TbieuBFBR"
      },
      "source": [
        "# タプル\n",
        "\n",
        "タプルとリストの違いは次の2点.\n",
        "\n",
        "1. タプルを作るときには丸括弧 `parenthesis`を使う。リストは角括弧 `square bracket`。 集合は波括弧 'brace' 。\n",
        "\n",
        "2. タプルは可変ではない。イミュータブル `immutable` である。\n",
        "\n"
      ]
    },
    {
      "cell_type": "code",
      "metadata": {
        "id": "fQjNpOhfgGYR",
        "colab": {
          "base_uri": "https://localhost:8080/",
          "height": 35
        },
        "outputId": "0b223c13-7723-4fc2-e3a0-70cac5339f85"
      },
      "source": [
        "t = (1, 2, 3)\n",
        "t"
      ],
      "execution_count": null,
      "outputs": [
        {
          "output_type": "execute_result",
          "data": {
            "text/plain": [
              "(1, 2, 3)"
            ]
          },
          "metadata": {
            "tags": []
          },
          "execution_count": 57
        }
      ]
    },
    {
      "cell_type": "code",
      "metadata": {
        "id": "E4PEgVyfgPZ2",
        "colab": {
          "base_uri": "https://localhost:8080/",
          "height": 35
        },
        "outputId": "0d0bad66-b535-496e-c5d6-39d03bc9c208"
      },
      "source": [
        "t = 1, 2, 3 # t = (1, 2, 3) と同じ。カンマがタプルを生成する\n",
        "t"
      ],
      "execution_count": null,
      "outputs": [
        {
          "output_type": "execute_result",
          "data": {
            "text/plain": [
              "(1, 2, 3)"
            ]
          },
          "metadata": {
            "tags": []
          },
          "execution_count": 58
        }
      ]
    },
    {
      "cell_type": "code",
      "metadata": {
        "id": "tDxtQCVqgaHj"
      },
      "source": [
        "# タプルは変更できない。エラーになる\n",
        "# t = (1,2,3)\n",
        "# t[0] = 100"
      ],
      "execution_count": 11,
      "outputs": []
    },
    {
      "cell_type": "markdown",
      "metadata": {
        "id": "h8FzdFXmgDZD"
      },
      "source": [
        "タプルは複数の返り値を持つ関数に使われる。\n",
        "\n",
        "例えば、`float` オブジェクトのメソッドである `as_integer_ration()` は分子と分母をタプルの形で返す。\n"
      ]
    },
    {
      "cell_type": "code",
      "metadata": {
        "id": "T6OEK0i-g_pz",
        "colab": {
          "base_uri": "https://localhost:8080/"
        },
        "outputId": "ea531739-f849-4273-b634-1cd6260371a7"
      },
      "source": [
        "x = 0.125\n",
        "x.as_integer_ratio()"
      ],
      "execution_count": 12,
      "outputs": [
        {
          "output_type": "execute_result",
          "data": {
            "text/plain": [
              "(1, 8)"
            ]
          },
          "metadata": {
            "tags": []
          },
          "execution_count": 12
        }
      ]
    },
    {
      "cell_type": "markdown",
      "metadata": {
        "id": "7GojnRYUhYcg"
      },
      "source": [
        "結果を変数に入れるには次のようにする。"
      ]
    },
    {
      "cell_type": "code",
      "metadata": {
        "id": "W4hl0dKIhV4k",
        "colab": {
          "base_uri": "https://localhost:8080/",
          "height": 35
        },
        "outputId": "456259a1-7b9b-4ddf-c1ad-2e7cd4021d79"
      },
      "source": [
        "numerator, denominator = x.as_integer_ratio()\n",
        "print(numerator / denominator)"
      ],
      "execution_count": null,
      "outputs": [
        {
          "output_type": "stream",
          "text": [
            "0.125\n"
          ],
          "name": "stdout"
        }
      ]
    },
    {
      "cell_type": "markdown",
      "metadata": {
        "id": "K2NUzhe2g906"
      },
      "source": [
        "メモ\n",
        "\n",
        "次の例を含め、有名な ` stupid  python tricks` を考えよう。 課題。\n"
      ]
    },
    {
      "cell_type": "code",
      "metadata": {
        "id": "lB_3tfodiJZ5",
        "colab": {
          "base_uri": "https://localhost:8080/"
        },
        "outputId": "344ca969-755a-40b3-fe01-1e35bdea7f5a"
      },
      "source": [
        "a = 1\n",
        "b = 0\n",
        "a, b = b, a\n",
        "print(a, b)"
      ],
      "execution_count": 13,
      "outputs": [
        {
          "output_type": "stream",
          "text": [
            "0 1\n"
          ],
          "name": "stdout"
        }
      ]
    },
    {
      "cell_type": "code",
      "metadata": {
        "colab": {
          "base_uri": "https://localhost:8080/"
        },
        "id": "GwpHQcbV_YWO",
        "outputId": "24ce6feb-a857-4f13-dc4d-eebd05adcfee"
      },
      "source": [
        "a = 1\n",
        "b = 0\n",
        "tuple = a, b = b, a\n",
        "print (tuple)\n",
        "print (a, b)"
      ],
      "execution_count": 17,
      "outputs": [
        {
          "output_type": "stream",
          "text": [
            "(0, 1)\n",
            "0 1\n"
          ],
          "name": "stdout"
        }
      ]
    },
    {
      "cell_type": "markdown",
      "metadata": {
        "id": "XVncd88rBj9q"
      },
      "source": [
        "---\n",
        "問題\n",
        "\n",
        "リストを引数として、2 番目の要素を返す関数を作る。 もし 2 番目の要素がない場合は None を返す。\n"
      ]
    },
    {
      "cell_type": "code",
      "metadata": {
        "id": "93zf8KJPjpnv",
        "colab": {
          "base_uri": "https://localhost:8080/",
          "height": 86
        },
        "outputId": "d23e9f57-4d43-4626-cea5-e2b8aa00b200"
      },
      "source": [
        "def select_second(L):\n",
        "    \"\"\"Return the second element of the given list. If the list has no second element, return None.\"\"\"\n",
        "    if len(L) < 2 :\n",
        "        return None\n",
        "    else :\n",
        "        return L[1]\n",
        "\n",
        "L = [0, 1, 2, 3]\n",
        "print(select_second(L))\n",
        "print(select_second([]))\n",
        "print(select_second([1]))\n",
        "print(select_second([1,2]))\n"
      ],
      "execution_count": null,
      "outputs": [
        {
          "output_type": "stream",
          "text": [
            "1\n",
            "None\n",
            "None\n",
            "2\n"
          ],
          "name": "stdout"
        }
      ]
    },
    {
      "cell_type": "markdown",
      "metadata": {
        "id": "hz8Xha1alYUP"
      },
      "source": [
        "---\n",
        "問題\n",
        "\n",
        "スポーツチームの問題。それぞれのチームのリストでコーチの名前がリストの最初にあり、キャプテンが2番目、それ以降はチームのメンバー。このチームのリストがリストになっていて、最初がベストチーム、で最後がワーストチームの順に並んでいる。\n",
        "\n",
        "ワーストチームのキャプテンを選ぶプログラムを作る。\n"
      ]
    },
    {
      "cell_type": "code",
      "metadata": {
        "id": "b7OGql1ImptF",
        "colab": {
          "base_uri": "https://localhost:8080/",
          "height": 35
        },
        "outputId": "119db415-5ce0-4fc8-f4a9-43a356e6405b"
      },
      "source": [
        "def losing_team_captain(teams):\n",
        "    \"\"\"Given a list of teams, where each team is a list of names, return the 2nd player (captain)\n",
        "    from the last listed team\n",
        "    \"\"\"\n",
        "    return teams[-1][1]\n",
        "\n",
        "teams = [[\"bob\", \"mark\", \"john\"], [\"peter\", \"matthew\", \"willy\"]]\n",
        "\n",
        "print(losing_team_captain(teams))"
      ],
      "execution_count": null,
      "outputs": [
        {
          "output_type": "stream",
          "text": [
            "matthew\n"
          ],
          "name": "stdout"
        }
      ]
    },
    {
      "cell_type": "markdown",
      "metadata": {
        "id": "alOefQzplask"
      },
      "source": [
        "---\n",
        "問題\n",
        "\n",
        "マリオ・カートゲームの次回作では、*Purple Shell*というアイテムが装備され、それを使うとビリのレーサーとトップのレーサーが入れ替わるというとんでもないことが起きる。\n",
        "\n",
        "次のプログラムを完成させ、Purple Shellの効果を実装する。\n"
      ]
    },
    {
      "cell_type": "code",
      "metadata": {
        "id": "MFl70KA4nh7N",
        "colab": {
          "base_uri": "https://localhost:8080/",
          "height": 35
        },
        "outputId": "37fe3234-a8ff-4c77-9537-51e989bca3cc"
      },
      "source": [
        "def purple_shell(racers):\n",
        "    \"\"\"Given a list of racers, set the first place racer (at the front of the list) to last\n",
        "    place and vice versa.\n",
        "    \n",
        "    >>> r = [\"Mario\", \"Bowser\", \"Luigi\"]\n",
        "    >>> purple_shell(r)\n",
        "    >>> r\n",
        "    [\"Luigi\", \"Bowser\", \"Mario\"]\n",
        "    \"\"\"\n",
        "    racers[0], racers[-1] = racers[-1], racers[0]\n",
        "    return racers\n",
        "\n",
        "r = [\"Mario\", \"Bowser\", \"Luigi\"]\n",
        "purple_shell(r)\n",
        "r"
      ],
      "execution_count": null,
      "outputs": [
        {
          "output_type": "execute_result",
          "data": {
            "text/plain": [
              "['Luigi', 'Bowser', 'Mario']"
            ]
          },
          "metadata": {
            "tags": []
          },
          "execution_count": 7
        }
      ]
    },
    {
      "cell_type": "markdown",
      "metadata": {
        "id": "2oGgi8mAlc4Y"
      },
      "source": [
        "---\n",
        "問題\n",
        "\n",
        "リストの長さの確認\n"
      ]
    },
    {
      "cell_type": "code",
      "metadata": {
        "id": "aN3PAONDrcc5",
        "colab": {
          "base_uri": "https://localhost:8080/",
          "height": 86
        },
        "outputId": "8d16bdc6-f0a8-4e02-c5ae-b261eb6b798f"
      },
      "source": [
        "a = [1, 2, 3]\n",
        "b = [1, [2, 3]]\n",
        "c = []\n",
        "d = [1, 2, 3][1:]\n",
        "\n",
        "print(len(a))\n",
        "print(len(b))\n",
        "print(len(c))\n",
        "print(len(d))\n"
      ],
      "execution_count": null,
      "outputs": [
        {
          "output_type": "stream",
          "text": [
            "3\n",
            "2\n",
            "0\n",
            "2\n"
          ],
          "name": "stdout"
        }
      ]
    },
    {
      "cell_type": "markdown",
      "metadata": {
        "id": "EiR5M2tGley0"
      },
      "source": [
        "---\n",
        "問題\n",
        "\n",
        "パーティ出席者のリストがある。次の 7 人のゲストのリストで Adela が最初に到着し、Fordが 最後に来た。\n"
      ]
    },
    {
      "cell_type": "code",
      "metadata": {
        "id": "PsYbd6JGr6JT"
      },
      "source": [
        "party_attendees = ['Adela', 'Fleda', 'Owen', 'May', 'Mona', 'Gilbert', 'Ford']"
      ],
      "execution_count": null,
      "outputs": []
    },
    {
      "cell_type": "markdown",
      "metadata": {
        "id": "Pzw3bTy1r5Mu"
      },
      "source": [
        "かっこよく遅刻`fashionably late`は、パーティのゲストの半分より後に到着し、最後ではないゲストたちを指す。今回の例では Mona と Gilbet が `fashionably late` である。\n",
        "\n",
        "リストと名前を引数に取り、`fashionably late`かどうかを返すプログラムを作る。\n"
      ]
    },
    {
      "cell_type": "code",
      "metadata": {
        "id": "148fCNf2YvYY"
      },
      "source": [
        ""
      ],
      "execution_count": null,
      "outputs": []
    },
    {
      "cell_type": "code",
      "metadata": {
        "id": "IMQTDQyvr8WA",
        "colab": {
          "base_uri": "https://localhost:8080/",
          "height": 86
        },
        "outputId": "00856c4d-fc01-46e4-fcb6-d776ee7b1a29"
      },
      "source": [
        "import math\n",
        "\n",
        "def fashionably_late(arrivals, name):\n",
        "    \"\"\"Given an ordered list of arrivals to the party and a name, return whether the guest with that\n",
        "    name was fashionably late.\n",
        "    \"\"\"\n",
        "    fashionable_attendees = party_attendees[math.ceil(len(party_attendees)/2):-1]\n",
        "    return name in fashionable_attendees\n",
        "\n",
        "\n",
        "party_attendees = ['Adela', 'Fleda', 'Owen', 'May', 'Mona', 'Gilbert', 'Ford']\n",
        "\n",
        "print(fashionably_late(party_attendees, \"Adela\"))\n",
        "print(fashionably_late(party_attendees, \"May\" ))\n",
        "print(fashionably_late(party_attendees, \"Gilbert\"))\n",
        "print(fashionably_late(party_attendees, \"Ford\"))"
      ],
      "execution_count": null,
      "outputs": [
        {
          "output_type": "stream",
          "text": [
            "False\n",
            "False\n",
            "True\n",
            "False\n"
          ],
          "name": "stdout"
        }
      ]
    },
    {
      "cell_type": "markdown",
      "metadata": {
        "id": "R4g0bkJdY5OU"
      },
      "source": [
        "# ここから kaggle05loop.ipynb"
      ]
    },
    {
      "cell_type": "markdown",
      "metadata": {
        "id": "WHmLjrJyZPn8"
      },
      "source": [
        "# ループ"
      ]
    },
    {
      "cell_type": "code",
      "metadata": {
        "id": "6gAT9C_j1SXR",
        "colab": {
          "base_uri": "https://localhost:8080/",
          "height": 35
        },
        "outputId": "1065ce44-afe8-4a07-9132-2bf73654e489"
      },
      "source": [
        "planets = ['Mercury', 'Venus', 'Earth', 'Mars', 'Jupiter', 'Saturn', 'Uranus', 'Neptune']\n",
        "for planet in planets:\n",
        "    print(planet, end=' ') # print all on same line"
      ],
      "execution_count": null,
      "outputs": [
        {
          "output_type": "stream",
          "text": [
            "Mercury Venus Earth Mars Jupiter Saturn Uranus Neptune "
          ],
          "name": "stdout"
        }
      ]
    },
    {
      "cell_type": "markdown",
      "metadata": {
        "id": "QeUmaqxdgML9"
      },
      "source": [
        "`for` ループでは次のようなことが行われる。\n",
        "\n",
        "* 使われる変数が指定される。今回の場合 `planet`\n",
        "* ループする値のセット。今回の場合は `planets`\n",
        "* `in` という単語を使っての変数と値のセットとのリンク\n",
        "\n",
        "\n",
        "\n"
      ]
    },
    {
      "cell_type": "markdown",
      "metadata": {
        "id": "XwIebFE9al6E"
      },
      "source": [
        "`for` ループで集合 `set` が使えるか。\n",
        "\n",
        "使えた。 下記参照。"
      ]
    },
    {
      "cell_type": "code",
      "metadata": {
        "id": "SIrqrLI6ALue",
        "colab": {
          "base_uri": "https://localhost:8080/"
        },
        "outputId": "01290f53-3b51-4d78-b324-c296cc362cf8"
      },
      "source": [
        "multiplicands = (2, 2, 2, 3, 3, 5)\n",
        "product = 1\n",
        "for mult in multiplicands:\n",
        "    product = product * mult\n",
        "print(multiplicands)\n",
        "print(product)\n",
        "\n",
        "multiplicands = set(multiplicands)\n",
        "print(multiplicands)\n",
        "product = 1\n",
        "for mult in multiplicands:\n",
        "    product = product * mult\n",
        "print(product)"
      ],
      "execution_count": 20,
      "outputs": [
        {
          "output_type": "stream",
          "text": [
            "(2, 2, 2, 3, 3, 5)\n",
            "360\n",
            "{2, 3, 5}\n",
            "30\n"
          ],
          "name": "stdout"
        }
      ]
    },
    {
      "cell_type": "markdown",
      "metadata": {
        "id": "8IWJD-uVgPhd"
      },
      "source": [
        "文字列の文字についてもループできる。\n"
      ]
    },
    {
      "cell_type": "code",
      "metadata": {
        "id": "OplDO1YOAdr0",
        "colab": {
          "base_uri": "https://localhost:8080/",
          "height": 35
        },
        "outputId": "50e9b00e-fbaf-40e2-80a8-6a67c3c74f0d"
      },
      "source": [
        "s = 'steganograpHy is the practicE of conceaLing a file, message, image, or video within another fiLe, message, image, Or video.'\n",
        "msg = ''\n",
        "# print all the uppercase letters in s, one at a time\n",
        "for char in s:\n",
        "    if char.isupper():\n",
        "        print(char, end='')      "
      ],
      "execution_count": null,
      "outputs": [
        {
          "output_type": "stream",
          "text": [
            "HELLO"
          ],
          "name": "stdout"
        }
      ]
    },
    {
      "cell_type": "markdown",
      "metadata": {
        "id": "sIQD561CgS6m"
      },
      "source": [
        "---\n",
        "range()\n",
        "\n",
        "`range()`は数列をつくる関数で、ループを書くときに役に立つ。\n",
        "\n",
        "たとえば同じ作業を5回やりたいとする:\n",
        "\n"
      ]
    },
    {
      "cell_type": "code",
      "metadata": {
        "id": "roiIh3eOBF2k",
        "colab": {
          "base_uri": "https://localhost:8080/",
          "height": 104
        },
        "outputId": "9b5734c6-cdb2-45c8-8efc-d604b04fa13d"
      },
      "source": [
        "for i in range(5):\n",
        "    print(\"Doing important work. i =\", i)"
      ],
      "execution_count": null,
      "outputs": [
        {
          "output_type": "stream",
          "text": [
            "Doing important work. i = 0\n",
            "Doing important work. i = 1\n",
            "Doing important work. i = 2\n",
            "Doing important work. i = 3\n",
            "Doing important work. i = 4\n"
          ],
          "name": "stdout"
        }
      ]
    },
    {
      "cell_type": "markdown",
      "metadata": {
        "id": "j8R6h348b9zZ"
      },
      "source": [
        "# いまここ"
      ]
    },
    {
      "cell_type": "markdown",
      "metadata": {
        "id": "l4Y__AcJBDHw"
      },
      "source": [
        "### while ループ\n",
        "\n",
        "`while`ループは条件を満たしている間、繰り返す。\n"
      ]
    },
    {
      "cell_type": "code",
      "metadata": {
        "id": "dvsgrfVsBY5N",
        "colab": {
          "base_uri": "https://localhost:8080/",
          "height": 35
        },
        "outputId": "c56d4fbc-94a4-4e17-e599-2c123bb9f669"
      },
      "source": [
        "i = 0\n",
        "while i < 10:\n",
        "    print(i, end=' ')\n",
        "    i += 1"
      ],
      "execution_count": null,
      "outputs": [
        {
          "output_type": "stream",
          "text": [
            "0 1 2 3 4 5 6 7 8 9 "
          ],
          "name": "stdout"
        }
      ]
    },
    {
      "cell_type": "markdown",
      "metadata": {
        "id": "_BF8GlV0gXZL"
      },
      "source": [
        "`while`ループの引数はブール式として評価され、ループは式が`False`になるまで繰り返される。\n"
      ]
    },
    {
      "cell_type": "markdown",
      "metadata": {
        "id": "yBJfdR4648fo"
      },
      "source": [
        "### List 内包表記\n",
        "\n",
        "Pythonのリスト内包表記はたいへん人気がある。。\n",
        "\n",
        "理解するためにまず例をみよう。\n",
        "\n"
      ]
    },
    {
      "cell_type": "code",
      "metadata": {
        "id": "dVA0M3vKV2tV",
        "colab": {
          "base_uri": "https://localhost:8080/",
          "height": 34
        },
        "outputId": "5afa2615-9389-472a-dc76-379edbd147d7"
      },
      "source": [
        "squares = [n**2 for n in range(10)]\n",
        "squares"
      ],
      "execution_count": null,
      "outputs": [
        {
          "output_type": "execute_result",
          "data": {
            "text/plain": [
              "[0, 1, 4, 9, 16, 25, 36, 49, 64, 81]"
            ]
          },
          "metadata": {
            "tags": []
          },
          "execution_count": 1
        }
      ]
    },
    {
      "cell_type": "markdown",
      "metadata": {
        "id": "BUJDb7GZgdY7"
      },
      "source": [
        "これをリスト内包表記でなくあらわすとしたら次のようになる。\n"
      ]
    },
    {
      "cell_type": "code",
      "metadata": {
        "id": "0LqYOeoqWH5F",
        "colab": {
          "base_uri": "https://localhost:8080/",
          "height": 34
        },
        "outputId": "d705dd8d-d92f-4fb7-f615-d0842a0b4124"
      },
      "source": [
        "squares = []\n",
        "for n in range(10):\n",
        "    squares.append(n**2)\n",
        "squares"
      ],
      "execution_count": null,
      "outputs": [
        {
          "output_type": "execute_result",
          "data": {
            "text/plain": [
              "[0, 1, 4, 9, 16, 25, 36, 49, 64, 81]"
            ]
          },
          "metadata": {
            "tags": []
          },
          "execution_count": 2
        }
      ]
    },
    {
      "cell_type": "markdown",
      "metadata": {
        "id": "0g-YfjN0WF_5"
      },
      "source": [
        "次のは`if`を使ったリスト内包表記である。\n"
      ]
    },
    {
      "cell_type": "code",
      "metadata": {
        "id": "YE9iKEwcWdHl",
        "colab": {
          "base_uri": "https://localhost:8080/",
          "height": 34
        },
        "outputId": "88ada980-616f-4685-fff0-2756a0c99edf"
      },
      "source": [
        "planets = ['Mercury', 'Venus', 'Earth', 'Mars', 'Jupiter', 'Saturn', 'Uranus', 'Neptune']\n",
        "short_planets = [planet for planet in planets if len(planet) < 6]\n",
        "short_planets"
      ],
      "execution_count": null,
      "outputs": [
        {
          "output_type": "execute_result",
          "data": {
            "text/plain": [
              "['Venus', 'Earth', 'Mars']"
            ]
          },
          "metadata": {
            "tags": []
          },
          "execution_count": 4
        }
      ]
    },
    {
      "cell_type": "markdown",
      "metadata": {
        "id": "Wlk1wUSCWcAF"
      },
      "source": [
        "`SQL`の`WHERE`節に似ていると言える。\n",
        "\n",
        "次の例ではループ変数に`if`条件文でフィルターをかけて、それを変形している。\n"
      ]
    },
    {
      "cell_type": "code",
      "metadata": {
        "id": "XIAPutwTXOCD",
        "colab": {
          "base_uri": "https://localhost:8080/",
          "height": 34
        },
        "outputId": "77a65271-f2db-4e86-8b3d-88ca2fe70d56"
      },
      "source": [
        "# str.upper() returns an all-caps version of a string\n",
        "loud_short_planets = [planet.upper() + '!' for planet in planets if len(planet) < 6]\n",
        "loud_short_planets"
      ],
      "execution_count": null,
      "outputs": [
        {
          "output_type": "execute_result",
          "data": {
            "text/plain": [
              "['VENUS!', 'EARTH!', 'MARS!']"
            ]
          },
          "metadata": {
            "tags": []
          },
          "execution_count": 5
        }
      ]
    },
    {
      "cell_type": "markdown",
      "metadata": {
        "id": "V1gJ6uJ1glI2"
      },
      "source": [
        "リスト内包表記の左部分はループ変数を含む必要はないが、たいていは含んでいる。\n",
        "\n",
        "次のプログラムはリスト内包表記の左部分にループ変数を含まない例である。\n"
      ]
    },
    {
      "cell_type": "code",
      "metadata": {
        "id": "dcmHx59nusMj",
        "colab": {
          "base_uri": "https://localhost:8080/",
          "height": 34
        },
        "outputId": "c1211925-e321-4c68-e0cb-2424c727d911"
      },
      "source": [
        "planets = ['Mercury', 'Venus', 'Earth', 'Mars', 'Jupiter', 'Saturn', 'Uranus', 'Neptune']\n",
        "[32 for planet in planets]"
      ],
      "execution_count": null,
      "outputs": [
        {
          "output_type": "execute_result",
          "data": {
            "text/plain": [
              "[32, 32, 32, 32, 32, 32, 32, 32]"
            ]
          },
          "metadata": {
            "tags": []
          },
          "execution_count": 1
        }
      ]
    },
    {
      "cell_type": "markdown",
      "metadata": {
        "id": "TSGU-RZXuknR"
      },
      "source": [
        "リスト内包表記と`min`、`max`、`sum`などの関数を組み合わせるとリスト内包表記を使わなければ何行にもなるプログラムを一行で書くことができる場合がある。\n",
        "\n",
        "次の2つのコードセルは同じことをやっている。\n",
        "\n"
      ]
    },
    {
      "cell_type": "code",
      "metadata": {
        "id": "6qnYlO2Q4Ro1",
        "colab": {
          "base_uri": "https://localhost:8080/",
          "height": 35
        },
        "outputId": "bc01c282-ff31-47fa-9bbf-2a6b7fe957e4"
      },
      "source": [
        "def count_negatives(nums):\n",
        "    \"\"\"Return the number of negative numbers in the given list.\n",
        "    \n",
        "    >>> count_negatives([5, -1, -2, 0, 3])\n",
        "    2\n",
        "    \"\"\"\n",
        "    n_negative = 0\n",
        "    for num in nums:\n",
        "        if num < 0:\n",
        "            n_negative = n_negative + 1\n",
        "    return n_negative\n",
        "\n",
        "count_negatives([5, -1, -2, 0, 3])"
      ],
      "execution_count": null,
      "outputs": [
        {
          "output_type": "execute_result",
          "data": {
            "text/plain": [
              "2"
            ]
          },
          "metadata": {
            "tags": []
          },
          "execution_count": 5
        }
      ]
    },
    {
      "cell_type": "code",
      "metadata": {
        "id": "HtZCwZ5d4Q1F",
        "colab": {
          "base_uri": "https://localhost:8080/",
          "height": 35
        },
        "outputId": "6547fc2a-e8d7-4755-85ed-c6fe445842f4"
      },
      "source": [
        "def count_negatives(nums):\n",
        "    return len([num for num in nums if num < 0])\n",
        "\n",
        "count_negatives([5, -1, -2, 0, 3])"
      ],
      "execution_count": null,
      "outputs": [
        {
          "output_type": "execute_result",
          "data": {
            "text/plain": [
              "2"
            ]
          },
          "metadata": {
            "tags": []
          },
          "execution_count": 4
        }
      ]
    },
    {
      "cell_type": "markdown",
      "metadata": {
        "id": "Fev8CsN6gsCV"
      },
      "source": [
        "コードを短くすることだけが目的ならば次のようなのはどうか。\n",
        "\n",
        "\n",
        "Well if all we care about is minimizing the length of our code, this third solution is better still!\n",
        "\n"
      ]
    },
    {
      "cell_type": "code",
      "metadata": {
        "id": "YDLbbuhVkfqR"
      },
      "source": [
        "def count_negatives(nums):\n",
        "    # Reminder: in the \"booleans and conditionals\" exercises, we learned about a quirk of \n",
        "    # Python where it calculates something like True + True + False + True to be equal to 3.\n",
        "    return sum([num < 0 for num in nums])\n",
        "\n",
        "count_negatives([5, -1, -2, 0, 3])"
      ],
      "execution_count": null,
      "outputs": []
    },
    {
      "cell_type": "markdown",
      "metadata": {
        "id": "G-MUOy34g0S-"
      },
      "source": [
        "どの解決方法が最善か、は主観的なものだが、短いコードはそれだけで価値がある。\n",
        "\n",
        "しかし、`The Zen of Python`のつぎのくだりを心に留めておくことも大切だ。\n",
        "\n",
        "```\n",
        "読みやすさは大切だ。\n",
        "明示的であることは暗黙的了解よりよいことだ。\n",
        "```\n",
        "\n",
        "リスト内包表記のようなツールを使ってプログラムを短く読みやすくしよう。多くの場合、短いプログラムは理解もしやすい。\n",
        "\n",
        "\n"
      ]
    },
    {
      "cell_type": "markdown",
      "metadata": {
        "id": "74VrSgDon443"
      },
      "source": [
        "# 練習問題\n"
      ]
    },
    {
      "cell_type": "markdown",
      "metadata": {
        "id": "kp8aqa2XoFhL"
      },
      "source": [
        "### 問題 1\n",
        "\n",
        "デバッグは運任せと感じたことがあるだろうか?\n",
        "\n",
        "次のプログラムを完成させよう。"
      ]
    },
    {
      "cell_type": "code",
      "metadata": {
        "id": "7yXi3eWboH05",
        "colab": {
          "base_uri": "https://localhost:8080/",
          "height": 50
        },
        "outputId": "6cfcabf6-1ed8-43e2-a397-2dfeb7441bdd"
      },
      "source": [
        "# Try to identify the bug and fix it in the cell below:\n",
        "# def has_lucky_number:\n",
        "#     \"\"\"Return whether the given list of numbers is lucky. A lucky list contains\n",
        "#     at least one number divisible by 7.\n",
        "#     \"\"\"\n",
        "#     for num in nums:\n",
        "#         if num % 7 == 0:\n",
        "#             return True\n",
        "#         else:\n",
        "#             return False\n",
        "\n",
        "def has_lucky_number(nums):\n",
        "    \"\"\"Return whether the given list of numbers is lucky. A lucky list contains\n",
        "    at least one number divisible by 7.\n",
        "    \"\"\"\n",
        "    answer = False\n",
        "    for num in nums:\n",
        "        if num % 7 == 0:\n",
        "            answer = True\n",
        "            break\n",
        "    return answer\n",
        "\n",
        "print (has_lucky_number([1, 2, 3]))\n",
        "print (has_lucky_number([1, 2, 3, 7]))"
      ],
      "execution_count": null,
      "outputs": [
        {
          "output_type": "stream",
          "text": [
            "False\n",
            "True\n"
          ],
          "name": "stdout"
        }
      ]
    },
    {
      "cell_type": "markdown",
      "metadata": {
        "id": "LphfeqynoMod"
      },
      "source": [
        "\n",
        "### 問題 2\n",
        "\n",
        "次のプログラムはコメントを外して実行するとエラーになる。\n"
      ]
    },
    {
      "cell_type": "code",
      "metadata": {
        "id": "RGJY0NhnoQM9"
      },
      "source": [
        "# [1, 2, 3, 4] > 2"
      ],
      "execution_count": null,
      "outputs": []
    },
    {
      "cell_type": "markdown",
      "metadata": {
        "id": "HNmmlwv4rbdY"
      },
      "source": [
        "書き直してみよう。"
      ]
    },
    {
      "cell_type": "code",
      "metadata": {
        "id": "tsenOdt2rfNf",
        "colab": {
          "base_uri": "https://localhost:8080/",
          "height": 34
        },
        "outputId": "d0d6bc0b-e723-4ccc-b690-1d1d441bc8f8"
      },
      "source": [
        "def greater_than_two (nums) :\n",
        "    answer = []\n",
        "    for num in nums :\n",
        "        if num > 2 :\n",
        "            answer.append(num)\n",
        "    return answer\n",
        "\n",
        "print (greater_than_two([1, 2, 3, 4])) "
      ],
      "execution_count": null,
      "outputs": [
        {
          "output_type": "stream",
          "text": [
            "[3, 4]\n"
          ],
          "name": "stdout"
        }
      ]
    },
    {
      "cell_type": "markdown",
      "metadata": {
        "id": "ZcHShAmzoRp1"
      },
      "source": [
        "`R`とPythonはnumpyとpandasというライブラリーがあり、リストと2を比べて `[False, False, True, True]`のようなブール型のリストを返す機能がある。\n",
        "\n",
        "対応する要素が`n`より大きいかどうかをブール型の要素のリストで返す関数を作る。\n"
      ]
    },
    {
      "cell_type": "code",
      "metadata": {
        "id": "tCvFZoKLoVrC",
        "colab": {
          "base_uri": "https://localhost:8080/",
          "height": 34
        },
        "outputId": "b8958aa9-c7e1-4aa7-a763-cce792fdf776"
      },
      "source": [
        "def elementwise_greater_than(L, thresh):\n",
        "    \"\"\"Return a list with the same length as L, where the value at index i is \n",
        "    True if L[i] is greater than thresh, and False otherwise.\n",
        "    \n",
        "    >>> elementwise_greater_than([1, 2, 3, 4], 2)\n",
        "    [False, False, True, True]\n",
        "    \"\"\"\n",
        "    answer = []\n",
        "    for num in L :\n",
        "        answer.append(num > thresh)\n",
        "    return answer\n",
        "\n",
        "\n",
        "elementwise_greater_than([1, 2, 3, 4], 2)\n"
      ],
      "execution_count": null,
      "outputs": [
        {
          "output_type": "execute_result",
          "data": {
            "text/plain": [
              "[False, False, True, True]"
            ]
          },
          "metadata": {
            "tags": []
          },
          "execution_count": 17
        }
      ]
    },
    {
      "cell_type": "markdown",
      "metadata": {
        "id": "w2q2tgL8oW--"
      },
      "source": [
        "\n",
        "### 問題 3\n",
        "\n",
        "食事のリストについて、同じ食事が2日続けて出されていれば`True`、そうでなければ`False`を返すプログラムを書く。\n"
      ]
    },
    {
      "cell_type": "code",
      "metadata": {
        "id": "_nHwkmnBoZHK",
        "colab": {
          "base_uri": "https://localhost:8080/",
          "height": 50
        },
        "outputId": "1684f864-13aa-44e1-854a-ee343ad309d7"
      },
      "source": [
        "def menu_is_boring(meals):\n",
        "    \"\"\"Given a list of meals served over some period of time, return True if the\n",
        "    same meal has ever been served two days in a row, and False otherwise.\n",
        "    \"\"\"\n",
        "    answer = False\n",
        "    for i in range(len(meals) - 1) :\n",
        "        if meals[i] == meals[i + 1] :\n",
        "            answer = True\n",
        "    return answer\n",
        "\n",
        "meals = [\"curry\", \"cutlet\", \"soup\", \"sushi\"]\n",
        "print (menu_is_boring(meals))\n",
        "meals = [\"curry\", \"cutlet\",  \"soup\", \"sushi\", \"sushi\"]\n",
        "print (menu_is_boring(meals))\n"
      ],
      "execution_count": null,
      "outputs": [
        {
          "output_type": "stream",
          "text": [
            "False\n",
            "True\n"
          ],
          "name": "stdout"
        }
      ]
    },
    {
      "cell_type": "markdown",
      "metadata": {
        "id": "XsM3R2JRoaxm"
      },
      "source": [
        "### 問題 4\n",
        "\n",
        "Pythonカジノにはブラックジャックのテーブルの横にスロットマシンがある。\n",
        "\n",
        "`play_slot_machine()`を実行すると、賞金がでる。普通は0ドルを返してくるが、運がよければ大金が手に入る。\n",
        "\n",
        "試しにやってみよう。"
      ]
    },
    {
      "cell_type": "code",
      "metadata": {
        "id": "wvY-BRAGocR3"
      },
      "source": [
        "# play_slot_machine()"
      ],
      "execution_count": null,
      "outputs": []
    },
    {
      "cell_type": "markdown",
      "metadata": {
        "id": "oZdk9kPWoeZI"
      },
      "source": [
        "ところで、1回1ドルかかるって言ったっけ。気にしなくていい、あとで請求書が行くから。\n",
        "\n",
        "1回スロットマシンでプレイするたびの期待される儲け(ロス)はいくらか。カジノはそれを秘密にするけれど、モンテカルロ法によって推測することができる。シミュレーションで回数を繰り返して平均値をとることによって期待値を計算する方法である。\n",
        "\n",
        "次の関数を完成させる。"
      ]
    },
    {
      "cell_type": "code",
      "metadata": {
        "id": "-6-lKStLoi8v"
      },
      "source": [
        "def estimate_average_slot_payout(n_runs):\n",
        "    \"\"\"Run the slot machine n_runs times and return the average net profit per run.\n",
        "    Example calls (note that return value is nondeterministic!):\n",
        "    >>> estimate_average_slot_payout(1)\n",
        "    -1\n",
        "    >>> estimate_average_slot_payout(1)\n",
        "    0.5\n",
        "    \"\"\"\n",
        "    result = []\n",
        "    for x in range(1, n_runs):\n",
        "        result.append(play_slot_machine())\n",
        "    return (sum(result) - n_runs)/n_runs\n",
        "\n",
        "\n"
      ],
      "execution_count": null,
      "outputs": []
    }
  ]
}