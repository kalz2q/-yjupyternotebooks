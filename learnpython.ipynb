{
  "nbformat": 4,
  "nbformat_minor": 0,
  "metadata": {
    "colab": {
      "name": "learnpython.ipynb",
      "provenance": [],
      "toc_visible": true,
      "authorship_tag": "ABX9TyMK+Rqqk3GX+VGauEymiZrE",
      "include_colab_link": true
    },
    "kernelspec": {
      "name": "python3",
      "display_name": "Python 3"
    },
    "language_info": {
      "name": "python"
    }
  },
  "cells": [
    {
      "cell_type": "markdown",
      "metadata": {
        "id": "view-in-github",
        "colab_type": "text"
      },
      "source": [
        "<a href=\"https://colab.research.google.com/github/kalz2q/mycolabnotebooks/blob/master/learnpython.ipynb\" target=\"_parent\"><img src=\"https://colab.research.google.com/assets/colab-badge.svg\" alt=\"Open In Colab\"/></a>"
      ]
    },
    {
      "cell_type": "markdown",
      "metadata": {
        "id": "mG5wD9OjyCva"
      },
      "source": [
        "メモ \n",
        "\n",
        "python を学ぶ。\n",
        "\n",
        "アイデアは、サクサクっと python を学ぶための colab ノートブックを作る。\n",
        "\n",
        "とりあえず kaggle と chainer と functional とかを材料に書き始めてみる。 数学と違って、定義や証明ではなく、問題-解答ペアで進む予定。 \n",
        "\n"
      ]
    },
    {
      "cell_type": "markdown",
      "metadata": {
        "id": "s84YRCb1cSHj"
      },
      "source": [
        "# 最初の例"
      ]
    },
    {
      "cell_type": "code",
      "metadata": {
        "id": "6A6tdrr07dUT",
        "colab": {
          "base_uri": "https://localhost:8080/"
        },
        "outputId": "fbb9c666-8d2f-4053-ed5c-2c72fa9e036c"
      },
      "source": [
        "# 最初の例\n",
        "x = 0\n",
        "print(x)\n",
        "\n",
        "x = x + 4\n",
        "\n",
        "if x > 0:\n",
        "    print(\"x is larger than 0\")\n",
        "\n",
        "text = \"hello \" * x\n",
        "print(text)"
      ],
      "execution_count": null,
      "outputs": [
        {
          "output_type": "stream",
          "text": [
            "0\n",
            "x is larger than 0\n",
            "hello hello hello hello \n"
          ],
          "name": "stdout"
        }
      ]
    },
    {
      "cell_type": "markdown",
      "metadata": {
        "id": "w5ZdZFsx0XL1"
      },
      "source": [
        "上の例からわかること\n",
        "* 変数は突然使える。 型を指定しないでよい。\n",
        "* 変数は変えられる。\n",
        "* if が使える。 コロンが必要。インデントが必要。\n",
        "* 文字列に数字を掛けることができる。\n",
        "* コメントは `#` で始まる。\n",
        "\n",
        "実験してみてわかること\n",
        "* 文字列に例えば 4.5 とかかけようとするとエラーになる。\n",
        "* 4.5 とかは float らしい。 4 は int か。"
      ]
    },
    {
      "cell_type": "markdown",
      "metadata": {
        "id": "eamcpwt8Zx3_"
      },
      "source": [
        "補足\n",
        "* `=`は代入演算子と呼ばれる\n",
        "* 変数を宣言する必要はない。\n",
        "* 変数に代入される値のタイプをあとから変えられる。数値を代入したあとに文字列やブール型の値を代入するができる。"
      ]
    },
    {
      "cell_type": "code",
      "metadata": {
        "id": "dWGF-4HR9Lsu",
        "colab": {
          "base_uri": "https://localhost:8080/"
        },
        "outputId": "3da7c6e3-3ba7-4311-d546-7259ae667b79"
      },
      "source": [
        "x = 4\n",
        "print(type(x))\n",
        "x = 0.0\n",
        "print(type(x))\n",
        "x = True\n",
        "print(type(x))\n",
        "x = \"this is x.\"\n",
        "print(type(x))"
      ],
      "execution_count": null,
      "outputs": [
        {
          "output_type": "stream",
          "text": [
            "<class 'int'>\n",
            "<class 'float'>\n",
            "<class 'bool'>\n",
            "<class 'str'>\n"
          ],
          "name": "stdout"
        }
      ]
    },
    {
      "cell_type": "markdown",
      "metadata": {
        "id": "psjeU_ov2FNQ"
      },
      "source": [
        "メモ \n",
        "* 型の名前: int, float, bool, str とか。\n",
        "* print は改行が自動で入る。\n",
        "* bool は True, False で小文字にするとエラーになる。\n",
        "* True, False 以外はなにが True になりなにが False になるのか。 => 課題 真偽の値。\n"
      ]
    },
    {
      "cell_type": "markdown",
      "metadata": {
        "id": "uN9WPC0V9JJW"
      },
      "source": [
        "関数は関数名のあとにカッコをつけることによって、関数を呼び出す。 カッコの中には引数 ひきすう を入れる。\n",
        "\n",
        "`type`も  python のビルトイン関数、組み込み関数、built-in 関数。\n",
        "\n",
        "メモ\n",
        "* python の組み込み関数はオブジェクトのメソッドとしての関数ではないので、使い方が決まっている。 [1,2,3].len() ではなくて、len([1,2,3])。"
      ]
    },
    {
      "cell_type": "markdown",
      "metadata": {
        "id": "lkcEh9wZZ3Fp"
      },
      "source": [
        "言葉\n",
        "* 再代入 `reassignment` \n",
        "* 演算子オーバーロード 文字列 * 整数 => 繰返し、のように演算子の意味を変えて使うこと。"
      ]
    },
    {
      "cell_type": "markdown",
      "metadata": {
        "id": "B_JZiwtey2lz"
      },
      "source": [
        "* `int` は integer (整数) の省略形。\n",
        "* `float` は浮動小数点型。\n"
      ]
    },
    {
      "cell_type": "markdown",
      "metadata": {
        "id": "XoLEAEkFaMlo"
      },
      "source": [
        "| Operator\t| Name\t| Description |\n",
        "| ---- | ---- | ----|\n",
        "|a + b  | Addition\t     |   Sum of a and b |\n",
        "|a - b\t| Subtraction\t   |   Difference of a and b |\n",
        "|a * b\t| Multiplication |\t Product of a and b |\n",
        "|a / b\t| True division\t |   Quotient of a and b |\n",
        "|a // b\t| Floor division |\t Quotient of a and b, removing fractional parts |\n",
        "|a % b\t| Modulus\t       |   Integer remainder after division of a by b |\n",
        "|a ** b\t| Exponentiation |\t a raised to the power of b |\n",
        "|-a\t    | Negation\t     |   The negative of a |\n"
      ]
    },
    {
      "cell_type": "markdown",
      "metadata": {
        "id": "IXLi1Yhx-DJL"
      },
      "source": [
        "割り算の演算子が2種類あることに注意。\n",
        "\n",
        "電卓の割り算は \"True division\" 。\n",
        "\n",
        "演算子 `/` の結果は常に `float` 。\n",
        "\n",
        "演算子 `//` は割り算の結果以下の最大の整数を返す。\n",
        "\n",
        "切り下げ flooor、 切り上げ ceiling は次のようにする。"
      ]
    },
    {
      "cell_type": "code",
      "metadata": {
        "id": "L_6IaF1OZ4gW",
        "colab": {
          "base_uri": "https://localhost:8080/"
        },
        "outputId": "83ffe101-c818-48b6-b27f-08b5e4413869"
      },
      "source": [
        "print (5 // 2)\n",
        "print (-(-5 // 2))"
      ],
      "execution_count": null,
      "outputs": [
        {
          "output_type": "stream",
          "text": [
            "2\n",
            "3\n"
          ],
          "name": "stdout"
        }
      ]
    },
    {
      "cell_type": "markdown",
      "metadata": {
        "id": "Aqk5EGP-v6d4"
      },
      "source": [
        "# 演算の優先順位\n",
        "小学校で習う算数で、計算には順序があることを習う。PEMDAS というニーモニックを覚えている人もいるだろう。\n",
        "* Parentheses カッコ\n",
        "* Exponents 冪乗\n",
        "* Multiplication/Division 乗算/除算\n",
        "* Addtion/Subtraction 加算/減算\n",
        "\n",
        "python  においても同じルールが適用される。\n"
      ]
    },
    {
      "cell_type": "markdown",
      "metadata": {
        "id": "XXxVWcYXaTe5"
      },
      "source": [
        "# 数字に関する組み込み関数\n",
        "`min` と `max` は引数の最小値と最大値を返す。\n",
        "\n"
      ]
    },
    {
      "cell_type": "code",
      "metadata": {
        "id": "UbgZlsdfdyd1",
        "colab": {
          "base_uri": "https://localhost:8080/",
          "height": 50
        },
        "outputId": "cfffcd32-a7ef-4899-edd1-231344dcaf26"
      },
      "source": [
        "print(min(1, 2, 3)) \n",
        "print(max(1, 2, 3))"
      ],
      "execution_count": null,
      "outputs": [
        {
          "output_type": "stream",
          "text": [
            "1\n",
            "3\n"
          ],
          "name": "stdout"
        }
      ]
    },
    {
      "cell_type": "markdown",
      "metadata": {
        "id": "640_qV05dxG8"
      },
      "source": [
        "`abs` は引数の絶対値を返す。\n"
      ]
    },
    {
      "cell_type": "code",
      "metadata": {
        "id": "jgHDje1yeCvN",
        "colab": {
          "base_uri": "https://localhost:8080/",
          "height": 50
        },
        "outputId": "92edd4c2-066a-4f3b-adb0-3d8895e316a6"
      },
      "source": [
        "print(abs(32)) \n",
        "print(abs(-32)) "
      ],
      "execution_count": null,
      "outputs": [
        {
          "output_type": "stream",
          "text": [
            "32\n",
            "32\n"
          ],
          "name": "stdout"
        }
      ]
    },
    {
      "cell_type": "markdown",
      "metadata": {
        "id": "7dNlJxGPd_sm"
      },
      "source": [
        "`float` と `int` は数字の型の名前であるだけでなく引数の型を変換する関数として呼び出すことができる。"
      ]
    },
    {
      "cell_type": "code",
      "metadata": {
        "id": "ZsxeQZplekRg",
        "colab": {
          "base_uri": "https://localhost:8080/"
        },
        "outputId": "fdb0baf5-597f-45c4-ce6b-61ebb7077a16"
      },
      "source": [
        "print(float(10)) \n",
        "print(int(3.33))\n",
        "print (int (-3.33))\n",
        "print(-3.33 // 1)\n",
        "print(-(-3.33 // 1))"
      ],
      "execution_count": null,
      "outputs": [
        {
          "output_type": "stream",
          "text": [
            "10.0\n",
            "3\n",
            "-3\n",
            "-4.0\n",
            "4.0\n"
          ],
          "name": "stdout"
        }
      ]
    },
    {
      "cell_type": "markdown",
      "metadata": {
        "id": "E8f0Yxf6-769"
      },
      "source": [
        "文字列を数字に直すこともできる。"
      ]
    },
    {
      "cell_type": "code",
      "metadata": {
        "id": "MCl8fTn9ewkA",
        "colab": {
          "base_uri": "https://localhost:8080/",
          "height": 50
        },
        "outputId": "6aca7bbf-26bd-4ec7-9193-e1ec5281f197"
      },
      "source": [
        "# 文字列を数字に直すこともできる\n",
        "print(int('807') + 1)\n",
        "10.0\n",
        "print(float('33.3') + 0.2 )"
      ],
      "execution_count": null,
      "outputs": [
        {
          "output_type": "stream",
          "text": [
            "808\n",
            "33.5\n"
          ],
          "name": "stdout"
        }
      ]
    },
    {
      "cell_type": "markdown",
      "metadata": {
        "id": "zMJ3df-ve0cG"
      },
      "source": [
        "---\n",
        "質問\n",
        "\n",
        "文字列で与えられた 2 進数や 16 進数を int に変換できるか。\n",
        "\n",
        "逆に int を 2 進数や 16 進数に変換できるか。\n",
        "\n",
        "基数変換と言う。\n",
        "\n",
        "いまはわからないので、わかったら追記する。\n"
      ]
    },
    {
      "cell_type": "markdown",
      "metadata": {
        "id": "HEKJfvKFfN68"
      },
      "source": [
        "---\n",
        "# 四則演算\n",
        "\n",
        "| 演算子\t| 名前\t| 説明 |\n",
        "| ---- | ---- | ----|\n",
        "|a + b  | 加算\t     |   a と b の合計 |\n",
        "|a - b\t| 減算\t   |   a と b の差分 |\n",
        "|a * b\t| 乗法 |\t a と b の積 |\n",
        "|a / b\t| 除算\t |   a と b の商 |\n",
        "|a // b\t| 床除算 |\t a と b の商から少数部分を除いたもの floor |\n",
        "|a % b\t| 余り       |   整数割り算の余り modulo|\n",
        "|a ** b\t| 冪乗 |\t a の b 乗 power |\n",
        "|-a\t    | マイナス\t     |   マイナスa |\n"
      ]
    },
    {
      "cell_type": "code",
      "metadata": {
        "id": "-k5AQuYJPE4b",
        "colab": {
          "base_uri": "https://localhost:8080/",
          "height": 34
        },
        "outputId": "569458c0-781c-41ed-e560-0199b66b7b0f"
      },
      "source": [
        "# 円の面積を計算する\n",
        "pi = 3.14159 # 少数5桁までの円周率π\n",
        "diameter = 3 # 直径\n",
        "\n",
        "# 直径の半分の長さの半径(radius)という名前の変数を作る\n",
        "radius = diameter / 2\n",
        "\n",
        "# 公式 円の面積 = 円周率かける半径の二乗 を使って円の面積を(area)計算する\n",
        "area = pi * radius ** 2\n",
        "print (\"円の面積: \" , area)"
      ],
      "execution_count": null,
      "outputs": [
        {
          "output_type": "stream",
          "text": [
            "円の面積:  7.0685775\n"
          ],
          "name": "stdout"
        }
      ]
    },
    {
      "cell_type": "markdown",
      "metadata": {
        "id": "T2uJHafQPn-D"
      },
      "source": [
        "---\n",
        "問題 $\\quad$ 変数 a と b の中身を入れ替える。\n"
      ]
    },
    {
      "cell_type": "code",
      "metadata": {
        "id": "cXU6Zk11lFUp",
        "colab": {
          "base_uri": "https://localhost:8080/",
          "height": 50
        },
        "outputId": "749b4512-906b-4533-cf56-862a6bedbe70"
      },
      "source": [
        "# 変数 a と b の中身を入れ替える。\n",
        "a = [1, 2, 3]\n",
        "b = [3, 2, 1]\n",
        "print(a, b)\n",
        "temp = a; a = b; b = temp\n",
        "print(a, b)"
      ],
      "execution_count": null,
      "outputs": [
        {
          "output_type": "stream",
          "text": [
            "[1, 2, 3] [3, 2, 1]\n",
            "[3, 2, 1] [1, 2, 3]\n"
          ],
          "name": "stdout"
        }
      ]
    },
    {
      "cell_type": "markdown",
      "metadata": {
        "id": "5Hlc7mtUGvKJ"
      },
      "source": [
        "python では a,b = b,a ができる。"
      ]
    },
    {
      "cell_type": "code",
      "metadata": {
        "id": "aeZCHLRBxJaT",
        "colab": {
          "base_uri": "https://localhost:8080/",
          "height": 50
        },
        "outputId": "f7cd67a7-48cf-4fc7-b679-c4340304ebe3"
      },
      "source": [
        "# 別解\n",
        "a = [1, 2, 3]\n",
        "b = [3, 2, 1]\n",
        "print(a, b)\n",
        "a, b = b, a\n",
        "print(a, b)"
      ],
      "execution_count": null,
      "outputs": [
        {
          "output_type": "stream",
          "text": [
            "[1, 2, 3] [3, 2, 1]\n",
            "[3, 2, 1] [1, 2, 3]\n"
          ],
          "name": "stdout"
        }
      ]
    },
    {
      "cell_type": "markdown",
      "metadata": {
        "id": "NQwRTni4u7L9"
      },
      "source": [
        "# 関数\n",
        "* help(関数名)\n",
        "* dir(クラス/オブジェクト)\n",
        "* 関数名?\n",
        "* 関数名??\n",
        "\n",
        "とか。便利。\n",
        "\n",
        "例 $\\quad$ `help(round)`\n",
        "\n",
        "\n"
      ]
    },
    {
      "cell_type": "markdown",
      "metadata": {
        "id": "3_Gri6s6yyXn"
      },
      "source": [
        "`help(round)` の出力を読んでから、次のコードを実行してみる。\n",
        "\n",
        "* round(-2.01)\n",
        "* round(3.12345455, -2)\n",
        "* round(1234567, 3)\n",
        "* round(1234567, -3)\n",
        "\n",
        "他の関数についてもhelp()を実行してみる。\n",
        "\n",
        "* help(abs)"
      ]
    },
    {
      "cell_type": "code",
      "metadata": {
        "id": "iih6tuCv-ttI",
        "colab": {
          "base_uri": "https://localhost:8080/"
        },
        "outputId": "0a0d697c-1f46-4a30-82d1-71dd20fd9bde"
      },
      "source": [
        "# 実験\n",
        "print(round(3.14))\n",
        "print(type(round(3.14)))\n",
        "print(round(3.14,0))\n",
        "print(type(round(3.14,0)))\n",
        "print (round(1234567, -3))\n",
        "print(type (round(1234567, -3)))\n",
        "print(round(1234567.3, -3))\n",
        "print(type (round(1234567.3, -3)))"
      ],
      "execution_count": null,
      "outputs": [
        {
          "output_type": "stream",
          "text": [
            "3\n",
            "<class 'int'>\n",
            "3.1\n",
            "<class 'float'>\n",
            "1235000\n",
            "<class 'int'>\n",
            "1235000.0\n",
            "<class 'float'>\n"
          ],
          "name": "stdout"
        }
      ]
    },
    {
      "cell_type": "markdown",
      "metadata": {
        "id": "oElBQcyFvTEa"
      },
      "source": [
        "`round()` は単純で説明の短い関数だった。\n",
        "\n",
        "`print()`の場合 `help(print)`の結果も長くなる。"
      ]
    },
    {
      "cell_type": "markdown",
      "metadata": {
        "id": "Bp-NDXZZDkII"
      },
      "source": [
        "# 関数を定義する\n"
      ]
    },
    {
      "cell_type": "code",
      "metadata": {
        "id": "ZW7E53HqEX05",
        "colab": {
          "base_uri": "https://localhost:8080/"
        },
        "outputId": "b03d8e37-9d22-4d75-9aa7-d32d023bccf8"
      },
      "source": [
        "def least_difference(a, b, c):\n",
        "    \"\"\"Return the smallest difference between any two numbers among a, b and c.\n",
        "    >>> least_difference(1, 5, -5)\n",
        "    4\n",
        "    \"\"\"\n",
        "    diff1 = abs(a - b)\n",
        "    diff2 = abs(b - c)\n",
        "    diff3 = abs(a - c)\n",
        "    return min(diff1, diff2, diff3)\n",
        "\n",
        "least_difference(10, 3, 5)"
      ],
      "execution_count": null,
      "outputs": [
        {
          "output_type": "execute_result",
          "data": {
            "text/plain": [
              "2"
            ]
          },
          "metadata": {
            "tags": []
          },
          "execution_count": 23
        }
      ]
    },
    {
      "cell_type": "markdown",
      "metadata": {
        "id": "Z0nAug7PERV9"
      },
      "source": [
        "* ここでは least_difference() という関数が作られている。\n",
        "* 3 つの引数 a, b, c を取る。\n",
        "*  関数の定義は `def` というキーワードで始まる。`:` のあとのインデントブロックが関数定義の本体。\n",
        "* キーワード `return` で関数を抜け、`return` のあとにある値が返り値となる。\n",
        "\n"
      ]
    },
    {
      "cell_type": "code",
      "metadata": {
        "id": "cHi7tu7GF7Mf",
        "colab": {
          "base_uri": "https://localhost:8080/"
        },
        "outputId": "f4661497-92df-4902-8336-4ca8da47dac1"
      },
      "source": [
        "print(\n",
        "    least_difference(1, 10, 100),\n",
        "    least_difference(1, 10, 10),\n",
        "    least_difference(5, 6, 7), #  python は引数の最後にカンマがついていても大丈夫。\n",
        ")"
      ],
      "execution_count": null,
      "outputs": [
        {
          "output_type": "stream",
          "text": [
            "9 0 1\n"
          ],
          "name": "stdout"
        }
      ]
    },
    {
      "cell_type": "code",
      "metadata": {
        "id": "F9b1CkQ6EqCT",
        "colab": {
          "base_uri": "https://localhost:8080/"
        },
        "outputId": "16322cff-7ff9-42fa-99e5-ed79214500bc"
      },
      "source": [
        "help(least_difference)"
      ],
      "execution_count": null,
      "outputs": [
        {
          "output_type": "stream",
          "text": [
            "Help on function least_difference in module __main__:\n",
            "\n",
            "least_difference(a, b, c)\n",
            "    Return the smallest difference between any two numbers among a, b and c.\n",
            "    >>> least_difference(1, 5, -5)\n",
            "    4\n",
            "\n"
          ],
          "name": "stdout"
        }
      ]
    },
    {
      "cell_type": "markdown",
      "metadata": {
        "id": "YM5UgIDOxd5t"
      },
      "source": [
        "# ドックストリング\n",
        "ドックストリング `docstring` は関数を定義する時にヘッダーの直後に書かれる 3 クォートで囲まれた数行にわたる部分のこと。 help()でこのdocstringが出力される。\n",
        "\n",
        "numpyの関数 np.eye の docstring が参考になる。\n",
        "\n",
        "\n"
      ]
    },
    {
      "cell_type": "code",
      "metadata": {
        "id": "QoAQqdIvdAcZ"
      },
      "source": [
        "# import numpy as np\n",
        "# help (np.eye)"
      ],
      "execution_count": null,
      "outputs": []
    },
    {
      "cell_type": "markdown",
      "metadata": {
        "id": "WnZMoEjfH6w-"
      },
      "source": [
        "---\n",
        "返り値のない関数\n",
        "\n",
        "キーワード `return` を含まない関数の返り値は `None` になる。\n"
      ]
    },
    {
      "cell_type": "code",
      "metadata": {
        "id": "PnN8zwiWcH54",
        "colab": {
          "base_uri": "https://localhost:8080/"
        },
        "outputId": "5024f994-a9dd-423b-a071-4bf18bb81b88"
      },
      "source": [
        "print(type(None))"
      ],
      "execution_count": null,
      "outputs": [
        {
          "output_type": "stream",
          "text": [
            "<class 'NoneType'>\n"
          ],
          "name": "stdout"
        }
      ]
    },
    {
      "cell_type": "code",
      "metadata": {
        "id": "tf-BRZgHeJzT",
        "colab": {
          "base_uri": "https://localhost:8080/",
          "height": 54
        },
        "outputId": "296ff685-43ff-4382-9027-204c81c09917"
      },
      "source": [
        "mystery = print()\n",
        "print(mystery)"
      ],
      "execution_count": null,
      "outputs": [
        {
          "output_type": "stream",
          "text": [
            "\n",
            "None\n"
          ],
          "name": "stdout"
        }
      ]
    },
    {
      "cell_type": "markdown",
      "metadata": {
        "id": "IQxs1ULPeIGg"
      },
      "source": [
        "---\n",
        "引数のデフォルト値\n",
        "\n",
        "関数 `print` のオプションとしていくつかの引数をがある。\n",
        "たとえば出力の項目の間に入れる文字列を指定するには `sep` という変数に値を入る。\n"
      ]
    },
    {
      "cell_type": "code",
      "metadata": {
        "id": "7Xdr3PCSgr3K",
        "colab": {
          "base_uri": "https://localhost:8080/",
          "height": 35
        },
        "outputId": "8e5f409a-f89d-43a3-e9df-94ae554bdcd5"
      },
      "source": [
        "print(1, 2, 3, sep=' < ')"
      ],
      "execution_count": null,
      "outputs": [
        {
          "output_type": "stream",
          "text": [
            "1 < 2 < 3\n"
          ],
          "name": "stdout"
        }
      ]
    },
    {
      "cell_type": "markdown",
      "metadata": {
        "id": "ZxHtaVfmgmsx"
      },
      "source": [
        "しかし、値を指定しない場合、`sep`にはデフォルトの値であるスペース 1 個が入る。\n"
      ]
    },
    {
      "cell_type": "code",
      "metadata": {
        "id": "9hjL8YC1hwEW",
        "colab": {
          "base_uri": "https://localhost:8080/",
          "height": 35
        },
        "outputId": "0031cf08-2dfe-48b0-b55b-b7726decef3e"
      },
      "source": [
        "print(1, 2, 3)"
      ],
      "execution_count": null,
      "outputs": [
        {
          "output_type": "stream",
          "text": [
            "1 2 3\n"
          ],
          "name": "stdout"
        }
      ]
    },
    {
      "cell_type": "markdown",
      "metadata": {
        "id": "OSw17y6ThrIm"
      },
      "source": [
        "関数の定義の時にデフォルト値を指定するには、次のようにする。"
      ]
    },
    {
      "cell_type": "code",
      "metadata": {
        "id": "8vQaBy2Dh5nX",
        "colab": {
          "base_uri": "https://localhost:8080/",
          "height": 72
        },
        "outputId": "11921f60-d506-4832-e5c5-4ab347c59540"
      },
      "source": [
        "def greet(who=\"Colin\"):\n",
        "    print(\"Hello,\", who)\n",
        "    \n",
        "greet()\n",
        "greet(who=\"Kaggle\")\n",
        "\n",
        "# 明確で誤解が生じる余地のない場合、引数の名前を省略できる。\n",
        "greet(\"world\")"
      ],
      "execution_count": null,
      "outputs": [
        {
          "output_type": "stream",
          "text": [
            "Hello, Colin\n",
            "Hello, Kaggle\n",
            "Hello, world\n"
          ],
          "name": "stdout"
        }
      ]
    },
    {
      "cell_type": "markdown",
      "metadata": {
        "id": "0IssDb5mbbwZ"
      },
      "source": [
        "---\n",
        "関数から関数を呼び出す\n",
        "\n",
        "関数から関数を呼び出す、というと関数型プログラムの Haskell や Scheme のようだが、それほど抽象的なことはできないが、つぎのようなやり方で関数を呼び出すことができる。\n"
      ]
    },
    {
      "cell_type": "code",
      "metadata": {
        "id": "p_Z2QYAbjUIU",
        "colab": {
          "base_uri": "https://localhost:8080/",
          "height": 72
        },
        "outputId": "dc18d0ad-3cf7-4b0e-cc89-a60d9b29bd9c"
      },
      "source": [
        "def mult_by_five(x):\n",
        "    \"\"\"x is multiplied by five\"\"\"\n",
        "    return 5 * x\n",
        "\n",
        "def call(fn, arg):\n",
        "    \"\"\"Call fn on arg\"\"\"\n",
        "    return fn(arg)\n",
        "\n",
        "def squared_call(fn, arg):\n",
        "    \"\"\"Call fn on the result of calling fn on arg\"\"\"\n",
        "    return fn(fn(arg))\n",
        "\n",
        "def cubed_call(fn, arg):\n",
        "    \"\"\"Call fn on the result of fn calling fn on arg\"\"\"\n",
        "    return fn(fn(fn(arg)))\n",
        "\n",
        "print(\n",
        "    call(mult_by_five, 1),\n",
        "    squared_call(mult_by_five, 1), \n",
        "    cubed_call(mult_by_five,1),\n",
        "    sep='\\n', # '\\n' is the newline character - it starts a new line\n",
        ")"
      ],
      "execution_count": null,
      "outputs": [
        {
          "output_type": "stream",
          "text": [
            "5\n",
            "25\n",
            "125\n"
          ],
          "name": "stdout"
        }
      ]
    },
    {
      "cell_type": "markdown",
      "metadata": {
        "id": "Uvd9mi8gjSCh"
      },
      "source": [
        "関数に作用する関数は高階関数 \"Higher order functions\" と呼ばれる。\n",
        "\n",
        "python の `max` は複数の引数の中で最大のものを返すが、オプションとして `key` に関数を指定すると `key(x)` が最大なxを返す。\n"
      ]
    },
    {
      "cell_type": "code",
      "metadata": {
        "id": "ZLpHTzdew0hC",
        "colab": {
          "base_uri": "https://localhost:8080/",
          "height": 90
        },
        "outputId": "5cb640d7-7011-4831-e761-6490f238ce42"
      },
      "source": [
        "def mod_5(x):\n",
        "    \"\"\"Return the remainder of x after dividing by 5\"\"\"\n",
        "    return x % 5\n",
        "\n",
        "print(\n",
        "    'Which number is biggest?',\n",
        "    max(100, 51, 14),\n",
        "    'Which number is the biggest modulo 5?',\n",
        "    max(100, 51, 14, key=mod_5),\n",
        "    sep='\\n',\n",
        ")"
      ],
      "execution_count": null,
      "outputs": [
        {
          "output_type": "stream",
          "text": [
            "Which number is biggest?\n",
            "100\n",
            "Which number is the biggest modulo 5?\n",
            "14\n"
          ],
          "name": "stdout"
        }
      ]
    },
    {
      "cell_type": "markdown",
      "metadata": {
        "id": "M_5a-M3Xkv3d"
      },
      "source": [
        "---\n",
        "問題 `docstring` に基づいて関数を完成させる。\n",
        "\n",
        "ヒント: `round` は python の組み込み関数。\n"
      ]
    },
    {
      "cell_type": "code",
      "metadata": {
        "id": "BaJBiSLROA0f",
        "colab": {
          "base_uri": "https://localhost:8080/"
        },
        "outputId": "6f0cb568-ff21-47ac-c70b-d5f5b1aff95e"
      },
      "source": [
        "def round_to_three_places(num):\n",
        "    \"\"\"小数点 3 桁までを求める。4 桁目を四捨五入\n",
        "    >>> round_to_three_places(3.14159)\n",
        "    3.141\n",
        "    \"\"\"\n",
        "    return round(num, 3)\n",
        "\n",
        "round_to_three_places(3.14159)"
      ],
      "execution_count": null,
      "outputs": [
        {
          "output_type": "execute_result",
          "data": {
            "text/plain": [
              "3.141"
            ]
          },
          "metadata": {
            "tags": []
          },
          "execution_count": 4
        }
      ]
    },
    {
      "cell_type": "markdown",
      "metadata": {
        "id": "Mm1Yw-0jx_nn"
      },
      "source": [
        "---\n",
        "問題  `round` の `ndigits`\n",
        "\n",
        "`help()` によると `round` の 2 番目の引数 `ndigits` は負の数でもかまわない。\n",
        "\n",
        "次のコードセルで実験してみる。"
      ]
    },
    {
      "cell_type": "code",
      "metadata": {
        "id": "N5SVD_-kiLUt",
        "colab": {
          "base_uri": "https://localhost:8080/",
          "height": 34
        },
        "outputId": "157e0a98-629d-40ab-fba5-be3bea0e21cf"
      },
      "source": [
        "round(12345678, -6)"
      ],
      "execution_count": null,
      "outputs": [
        {
          "output_type": "execute_result",
          "data": {
            "text/plain": [
              "12000000"
            ]
          },
          "metadata": {
            "tags": []
          },
          "execution_count": 7
        }
      ]
    },
    {
      "cell_type": "markdown",
      "metadata": {
        "id": "zCybS9yMk0Cv"
      },
      "source": [
        "---\n",
        "エラーメッセージを読む\n",
        "\n",
        "エラーメッセージを読むことは、 python の勉強になる。\n",
        "\n",
        "バギーなコードを、コメントアウト、アンコメントし、実行することを繰り返しながらコードを完成させる。\n",
        "\n",
        "ちなみに、`ctrl`+`/` で選択した行を交互にコメントアウト、アンコメントできる。\n"
      ]
    },
    {
      "cell_type": "markdown",
      "metadata": {
        "id": "1JeG8B4jk2fi"
      },
      "source": [
        "---\n",
        "問題 $\\quad$絶対値の小さい方を返す関数を作る"
      ]
    },
    {
      "cell_type": "code",
      "metadata": {
        "colab": {
          "base_uri": "https://localhost:8080/"
        },
        "id": "_XpNIKxLlQOW",
        "outputId": "ebfaf306-1b9a-4441-f82b-4c8756efa62c"
      },
      "source": [
        "# 絶対値の小さい方を返す\n",
        "def smallest_abs(x,y):\n",
        "    \"\"\"絶対値の小さい方を返す\n",
        "    >>> smallest_abs(-10, 5)\n",
        "    5\n",
        "    \"\"\"\n",
        "    return min(abs(x), abs(y))\n",
        "\n",
        "smallest_abs(-10, 5)"
      ],
      "execution_count": null,
      "outputs": [
        {
          "output_type": "execute_result",
          "data": {
            "text/plain": [
              "5"
            ]
          },
          "metadata": {
            "tags": []
          },
          "execution_count": 6
        }
      ]
    },
    {
      "cell_type": "markdown",
      "metadata": {
        "id": "jwIeF_2_uFsa"
      },
      "source": [
        "# ブール型\n",
        "ブール型の値は True と False だけ。\n"
      ]
    },
    {
      "cell_type": "code",
      "metadata": {
        "id": "qMEGBuXSvQc1",
        "colab": {
          "base_uri": "https://localhost:8080/",
          "height": 52
        },
        "outputId": "3db7c4c8-9f99-41ec-97d2-94ab0689c3dd"
      },
      "source": [
        "x = True\n",
        "print(x)\n",
        "print(type(x))"
      ],
      "execution_count": null,
      "outputs": [
        {
          "output_type": "stream",
          "text": [
            "True\n",
            "<class 'bool'>\n"
          ],
          "name": "stdout"
        }
      ]
    },
    {
      "cell_type": "markdown",
      "metadata": {
        "id": "fBcSC1mpud7c"
      },
      "source": [
        "---\n",
        "比較演算\n",
        "\n",
        "| 演算\t| 説明\t|\t|演算\t|説明|\n",
        "|---|---|---|---|---|\n",
        "| a == b\t| a は b に等しい            |\t| a != b\t| a は b に等しくない |\n",
        "| a < b\t  | a 小なり b\t            | \t| a > b\t  | a 大なり b |\n",
        "| a <= b\t| a 小なりイコール b\t|\t| a >= b\t| a 大なりイコール b |\n"
      ]
    },
    {
      "cell_type": "code",
      "metadata": {
        "colab": {
          "base_uri": "https://localhost:8080/"
        },
        "id": "9m7-6pCGm6ZS",
        "outputId": "df8bec90-6d64-41ad-8bab-81b8195f6b41"
      },
      "source": [
        "# 実験\n",
        "print(True)\n",
        "if 1 :\n",
        "    print (\"1 is True\")\n",
        "if None :\n",
        "    print (\"None is True\")\n",
        "else: print (\"None is False\")\n",
        "print(None)\n",
        "if -1 :\n",
        "    print (\"-1 is True\")\n",
        "else: print (\"-1 is False\")\n",
        "if 0 :\n",
        "    print (\"0 is True\")\n",
        "else: print (\"0 is False\")\n",
        "print([])\n",
        "if [] :\n",
        "    print (\"[] is True\")\n",
        "else: print (\"[] is False\")\n",
        "if [1] :\n",
        "    print (\"[1] is True\")\n",
        "else: print (\"[1] is False\")\n",
        "if \"\" :\n",
        "    print (\"\\\"\\\" is True\")\n",
        "else: print (\"\\\"\\\" is False\")\n"
      ],
      "execution_count": null,
      "outputs": [
        {
          "output_type": "stream",
          "text": [
            "True\n",
            "1 is True\n",
            "None is False\n",
            "None\n",
            "-1 is True\n",
            "0 is False\n",
            "[]\n",
            "[] is False\n",
            "[1] is True\n",
            "\"\" is False\n"
          ],
          "name": "stdout"
        }
      ]
    },
    {
      "cell_type": "markdown",
      "metadata": {
        "id": "h7hPu8TTo1Mj"
      },
      "source": [
        "python で False なのは\n"
      ]
    },
    {
      "cell_type": "code",
      "metadata": {
        "colab": {
          "base_uri": "https://localhost:8080/"
        },
        "id": "Vanby7U_pjTz",
        "outputId": "b50c5735-9a2a-45a2-e3a9-97d2137d0f90"
      },
      "source": [
        "# python で False 以外は True\n",
        "print(bool(False))\n",
        "print(bool(None))\n",
        "print(bool())\n",
        "print(bool(EOFError)) # エラーは True\n",
        "print(bool(0)) # 0 以外の数値は True だが\n",
        "print(bool(0.0))\n",
        "print(bool(0j))\n",
        "print(bool(0+0j))\n",
        "print(bool(\"\")) # カラの str\n",
        "print(bool(())) # カラのタプル\n",
        "print(bool([])) # カラのリスト\n",
        "print(bool({})) # カラの dict\n",
        "print(int(True))\n",
        "print(int(False))\n"
      ],
      "execution_count": null,
      "outputs": [
        {
          "output_type": "stream",
          "text": [
            "False\n",
            "False\n",
            "False\n",
            "True\n",
            "False\n",
            "False\n",
            "False\n",
            "False\n",
            "False\n",
            "False\n",
            "False\n",
            "False\n",
            "1\n",
            "0\n"
          ],
          "name": "stdout"
        }
      ]
    },
    {
      "cell_type": "code",
      "metadata": {
        "colab": {
          "base_uri": "https://localhost:8080/"
        },
        "id": "Aj_YIlMCrOJ8",
        "outputId": "6acf5585-03e4-4bda-ae80-0dc91d810ebc"
      },
      "source": [
        "name = \"\"\n",
        "if name:\n",
        "    print(\"名前は\" + name + \"です\")\n",
        "else:\n",
        "    print(\"名前は未登録です\")"
      ],
      "execution_count": null,
      "outputs": [
        {
          "output_type": "stream",
          "text": [
            "名前は未登録です\n"
          ],
          "name": "stdout"
        }
      ]
    },
    {
      "cell_type": "markdown",
      "metadata": {
        "id": "ivMXamIbrbnq"
      },
      "source": [
        "---\n",
        "問題 $\\quad$ 引数に年齢を入れて呼び出すと、アメリカの大統領に立候補できる年齢かどうかを判定する"
      ]
    },
    {
      "cell_type": "code",
      "metadata": {
        "id": "X3ODDSF1AAJE",
        "colab": {
          "base_uri": "https://localhost:8080/"
        },
        "outputId": "7b254a7e-e0b3-4c0a-f745-17c6d56b53c7"
      },
      "source": [
        "# 引数に年齢を入れて呼び出すと、アメリカの大統領に立候補できる年齢かどうかを判定する\n",
        "def can_run_for_president(age):\n",
        "    \"\"\"引数に年齢を入れて呼び出すと、アメリカの大統領に立候補できる年齢かどうかを判定する\"\"\"\n",
        "    # The US Constitution says you must be at least 35 years old\n",
        "    return age >= 35\n",
        "\n",
        "print(\"Can a 19-year-old run for president?\", can_run_for_president(19))\n",
        "print(\"Can a 45-year-old run for president?\", can_run_for_president(45))"
      ],
      "execution_count": null,
      "outputs": [
        {
          "output_type": "stream",
          "text": [
            "Can a 19-year-old run for president? False\n",
            "Can a 45-year-old run for president? True\n"
          ],
          "name": "stdout"
        }
      ]
    },
    {
      "cell_type": "markdown",
      "metadata": {
        "id": "lqyMy__aum5l"
      },
      "source": [
        "---\n",
        "ブール値の組み合わせ\n",
        "\n",
        "`and`、`or`、`not`でブール値を組み合わせることができる。\n",
        "\n"
      ]
    },
    {
      "cell_type": "code",
      "metadata": {
        "id": "C7yZyY_BBMsa",
        "colab": {
          "base_uri": "https://localhost:8080/"
        },
        "outputId": "7783ffd4-a8c7-40a8-ce6b-33a42ee9035b"
      },
      "source": [
        "# 引数に年齢とアメリカ生まれかどうかを入れて呼び出すと、\n",
        "# アメリカの大統領に立候補することが法律上できるかどうかを判定してTrueまたはFalseを返す\n",
        "\n",
        "def can_run_for_president(age, is_natural_born_citizen):\n",
        "    \"\"\"Can someone of the given age and citizenship status run for president in the US?\"\"\"\n",
        "    # The US Constitution says you must be a natural born citizen *and* at least 35 years old\n",
        "    return is_natural_born_citizen and (age >= 35)\n",
        "\n",
        "print(can_run_for_president(19, True))\n",
        "print(can_run_for_president(55, False))\n",
        "print(can_run_for_president(55, True))"
      ],
      "execution_count": null,
      "outputs": [
        {
          "output_type": "stream",
          "text": [
            "False\n",
            "False\n",
            "True\n"
          ],
          "name": "stdout"
        }
      ]
    },
    {
      "cell_type": "markdown",
      "metadata": {
        "id": "HJfjOYxKEMoh"
      },
      "source": [
        "---\n",
        "ブール演算の優先順位\n",
        "\n",
        "`and`は`or`より先に評価される。\n",
        "\n",
        "なるべくカッコを使ってわかりやすくする。\n"
      ]
    },
    {
      "cell_type": "code",
      "metadata": {
        "id": "V08dgCVTESRI",
        "colab": {
          "base_uri": "https://localhost:8080/"
        },
        "outputId": "3b8bea0a-216f-48c8-ff68-005980dafd4a"
      },
      "source": [
        "print(True or True and False)\n",
        "print(True or (True and False))\n",
        "print((True or True) and False)"
      ],
      "execution_count": null,
      "outputs": [
        {
          "output_type": "stream",
          "text": [
            "True\n",
            "True\n",
            "False\n"
          ],
          "name": "stdout"
        }
      ]
    },
    {
      "cell_type": "code",
      "metadata": {
        "colab": {
          "base_uri": "https://localhost:8080/"
        },
        "id": "BatyohIktbRG",
        "outputId": "03a950e5-9b1f-4fdb-c46b-be4cb8ffcbe0"
      },
      "source": [
        "# True は False より大きい\n",
        "if True > False:\n",
        "    print (\"True is larger than False\")"
      ],
      "execution_count": null,
      "outputs": [
        {
          "output_type": "stream",
          "text": [
            "True is larger than False\n"
          ],
          "name": "stdout"
        }
      ]
    },
    {
      "cell_type": "markdown",
      "metadata": {
        "id": "UZkvclDpFX-v"
      },
      "source": [
        "---\n",
        "条件文\n",
        "\n",
        "ブール型は `if`、`elif`、`else` キーワードの条件文と組み合わせて使う。\n",
        "\n",
        "条件文は `if` 文とも言われる。\n",
        "\n"
      ]
    },
    {
      "cell_type": "code",
      "metadata": {
        "id": "fOftabML70ku",
        "colab": {
          "base_uri": "https://localhost:8080/"
        },
        "outputId": "e2ec3b44-1567-41f5-aada-dbc76c1f36e8"
      },
      "source": [
        "# 引数がゼロか、正か、負かを判定して文字列を返す\n",
        "# 関数の中で print を使わない\n",
        "def inspect(x):\n",
        "    if x == 0:\n",
        "        return \"{} is zero\".format(x)\n",
        "    elif x > 0:\n",
        "        return \"{} is positive\".format(x)\n",
        "    elif x < 0:\n",
        "        return \"{} is negative\".format(x)\n",
        "    else:\n",
        "        return \"{} is unlike anything I've ever seen...\".format(x)\n",
        "\n",
        "print(inspect(0))\n",
        "print(inspect(-15))"
      ],
      "execution_count": null,
      "outputs": [
        {
          "output_type": "stream",
          "text": [
            "0 is zero\n",
            "-15 is negative\n"
          ],
          "name": "stdout"
        }
      ]
    },
    {
      "cell_type": "markdown",
      "metadata": {
        "id": "QbFg_YXFUxF-"
      },
      "source": [
        "---\n",
        "質問\n",
        "\n",
        "* なぜ else if でなく elif なのか。\n",
        "* if は後置で使えるか。\n",
        "* if, elif, else を改行なしで書けるか。\n",
        "\n",
        "\n",
        "\n",
        "      "
      ]
    },
    {
      "cell_type": "markdown",
      "metadata": {
        "id": "F3D9leh9NybG"
      },
      "source": [
        "---\n",
        "問題\n",
        "\n",
        "数値の引数を取り、負の場合は-1、正の場合は1、0の場合は0を返す、signと呼ばれる関数を定義する。多くのプログラミング言語にはあって、 python の組み込み関数にはないもの。\n"
      ]
    },
    {
      "cell_type": "code",
      "metadata": {
        "colab": {
          "base_uri": "https://localhost:8080/"
        },
        "id": "UBFeumkwwcMF",
        "outputId": "1bc210a3-33bc-4e7e-884d-fd237c647758"
      },
      "source": [
        "import numpy as np\n",
        "np.sign(-1)"
      ],
      "execution_count": null,
      "outputs": [
        {
          "output_type": "execute_result",
          "data": {
            "text/plain": [
              "-1"
            ]
          },
          "metadata": {
            "tags": []
          },
          "execution_count": 57
        }
      ]
    },
    {
      "cell_type": "code",
      "metadata": {
        "id": "5JVPdAQNxHEx"
      },
      "source": [
        "from sympy import sign\n",
        "sign(-1)"
      ],
      "execution_count": null,
      "outputs": []
    },
    {
      "cell_type": "code",
      "metadata": {
        "id": "mFIE3xODPi9u",
        "colab": {
          "base_uri": "https://localhost:8080/"
        },
        "outputId": "c7c9178b-e79e-440d-8720-13088b1262a2"
      },
      "source": [
        "# 数値の引数を取り、負の場合は-1、正の場合は1、0の場合は0を返す\n",
        "def sign (x) :\n",
        "    if x < 0 :\n",
        "        return -1\n",
        "    elif x > 0 :\n",
        "        return 1\n",
        "    else :\n",
        "        return 0\n",
        "\n",
        "print (sign(-1))\n",
        "print (sign(1))\n",
        "print (sign(0))\n"
      ],
      "execution_count": null,
      "outputs": [
        {
          "output_type": "stream",
          "text": [
            "-1\n",
            "1\n",
            "0\n"
          ],
          "name": "stdout"
        }
      ]
    },
    {
      "cell_type": "markdown",
      "metadata": {
        "id": "w4Wcupvf0snv"
      },
      "source": [
        "---\n",
        "問題 $\\quad$ 引数を args を set で受ける\n",
        "\n",
        "* hotdog (ketchup, mustard, onion) => \"wants all toppings with ketchup and mustard and onion\"\n",
        "* hotdog () => \"wants plain hotdog without toppings\"\n",
        "* hotdog (ketchup) => \"wants hotdog with once sauce ketchup\"\n",
        "* hotdog (ketchup, onion) => \"wants two sauce ketchup and onion\"\n",
        "\n"
      ]
    },
    {
      "cell_type": "code",
      "metadata": {
        "colab": {
          "base_uri": "https://localhost:8080/"
        },
        "id": "q53G3xWd2Tcn",
        "outputId": "6a9f6868-5942-4848-c3fc-a64499b2092c"
      },
      "source": [
        "def hotdog (*args):\n",
        "    args = set(args)\n",
        "    if args == set():\n",
        "        return \"wants plain hotdog without toppings\"\n",
        "    elif args == {\"ketchup\"}:\n",
        "        return \"wants hotdog with once sauce ketchup\"\n",
        "    elif args == {\"mustard\"}:\n",
        "        return \"wants hotdog with once sauce mustard\"\n",
        "    elif args == {\"onion\"}:\n",
        "        return \"wants hotdog with once sauce onion\"\n",
        "    elif args ==  {\"ketchup\", \"mustard\"}:\n",
        "        return \"wants two sauce ketchup and mustard\"\n",
        "    elif args ==  {\"ketchup\", \"onion\"}:\n",
        "        return \"wants two sauce ketchup and onion\"\n",
        "    elif args ==  {\"mustard\", \"onion\"}:\n",
        "        return \"wants two sauce mustard and onion\"\n",
        "    elif args ==  {\"ketchup\", \"mustard\", \"onion\"}:\n",
        "        return \"wants all toppings with ketchup and mustard and onion\"\n",
        "\n",
        "print(hotdog(\"onion\", \"mustard\"))\n",
        "print(hotdog())\n",
        "print(hotdog(\"onion\", \"mustard\", \"ketchup\"))\n",
        "print(hotdog(\"onion\"))"
      ],
      "execution_count": null,
      "outputs": [
        {
          "output_type": "stream",
          "text": [
            "wants two sauce mustard and onion\n",
            "wants plain hotdog without toppings\n",
            "wants all toppings with ketchup and mustard and onion\n",
            "wants hotdog with once sauce onion\n"
          ],
          "name": "stdout"
        }
      ]
    },
    {
      "cell_type": "markdown",
      "metadata": {
        "id": "OT9WynwoqXss"
      },
      "source": [
        "---\n",
        "問題 \n",
        "\n",
        "`int()` の引数にブール型を入れて、合計をとることにより、1 つだけ選ばれたことを判定することができる。\n"
      ]
    },
    {
      "cell_type": "code",
      "metadata": {
        "id": "i_11jVDpz37V",
        "colab": {
          "base_uri": "https://localhost:8080/",
          "height": 34
        },
        "outputId": "5f9fce7f-4319-4371-903d-46456f178b5a"
      },
      "source": [
        "def exactly_one_topping(ketchup, mustard, onion):\n",
        "    return (int(ketchup) + int(mustard) + int(onion)) == 1\n",
        "\n",
        "ketchup = True\n",
        "mustard = True\n",
        "onion = True\n",
        "\n",
        "print (exactly_one_topping(ketchup, mustard, onion))"
      ],
      "execution_count": null,
      "outputs": [
        {
          "output_type": "stream",
          "text": [
            "False\n"
          ],
          "name": "stdout"
        }
      ]
    },
    {
      "cell_type": "markdown",
      "metadata": {
        "id": "kslgS1Bcc-jr"
      },
      "source": [
        "# リスト"
      ]
    },
    {
      "cell_type": "code",
      "metadata": {
        "id": "neBx_l_RdaBP",
        "colab": {
          "base_uri": "https://localhost:8080/",
          "height": 35
        },
        "outputId": "b52a2b7b-0a9c-4ecf-84fc-e493a610bfdd"
      },
      "source": [
        "# リストの例\n",
        "primes = [2, 3, 5, 7]\n",
        "print(primes)"
      ],
      "execution_count": null,
      "outputs": [
        {
          "output_type": "stream",
          "text": [
            "[2, 3, 5, 7]\n"
          ],
          "name": "stdout"
        }
      ]
    },
    {
      "cell_type": "code",
      "metadata": {
        "id": "qoH8KDIeaXj-",
        "colab": {
          "base_uri": "https://localhost:8080/",
          "height": 35
        },
        "outputId": "2268a73c-16c6-4c3b-cbee-4f0230f32b78"
      },
      "source": [
        "planets = ['Mercury', 'Venus', 'Earth', 'Mars', 'Jupiter', 'Saturn', 'Uranus', 'Neptune']\n",
        "print(planets)"
      ],
      "execution_count": null,
      "outputs": [
        {
          "output_type": "stream",
          "text": [
            "['Mercury', 'Venus', 'Earth', 'Mars', 'Jupiter', 'Saturn', 'Uranus', 'Neptune']\n"
          ],
          "name": "stdout"
        }
      ]
    },
    {
      "cell_type": "markdown",
      "metadata": {
        "id": "7i4VgJMf_FPb"
      },
      "source": [
        "リストのリストが作れる。"
      ]
    },
    {
      "cell_type": "code",
      "metadata": {
        "id": "rzzB6oWtaLCl",
        "colab": {
          "base_uri": "https://localhost:8080/",
          "height": 35
        },
        "outputId": "41679117-840b-4cea-bbc0-e36163ab7a2c"
      },
      "source": [
        "hands = [\n",
        "    ['J', 'Q', 'K'],\n",
        "    ['2', '2', '2'],\n",
        "    ['6', 'A', 'K'], # 最後の要素のあとにカンマがあってもかまわない\n",
        "]\n",
        "\n",
        "print(hands)"
      ],
      "execution_count": null,
      "outputs": [
        {
          "output_type": "stream",
          "text": [
            "[['J', 'Q', 'K'], ['2', '2', '2'], ['6', 'A', 'K']]\n"
          ],
          "name": "stdout"
        }
      ]
    },
    {
      "cell_type": "markdown",
      "metadata": {
        "id": "M29iO8lVc2zm"
      },
      "source": [
        "python のリストは型の混在が可能。\n"
      ]
    },
    {
      "cell_type": "code",
      "metadata": {
        "id": "65Z3ZAwubHZC",
        "colab": {
          "base_uri": "https://localhost:8080/"
        },
        "outputId": "39730c49-9f41-41a2-ad44-c4ac4fac1583"
      },
      "source": [
        "my_favourite_things = [32, 'raindrops on roses', help]\n",
        "print(my_favourite_things)"
      ],
      "execution_count": null,
      "outputs": [
        {
          "output_type": "stream",
          "text": [
            "[32, 'raindrops on roses', Type help() for interactive help, or help(object) for help about object.]\n"
          ],
          "name": "stdout"
        }
      ]
    },
    {
      "cell_type": "markdown",
      "metadata": {
        "id": "TBsbOerf_iGQ"
      },
      "source": [
        "---\n",
        "インデクス\n",
        "\n",
        "リストの要素には角括弧 `square brackets` でアクセスできる。\n",
        "\n",
        "太陽に一番近い惑星はどこか?  python のインデクスは0スタートなので、最初の要素はインデクス0となる。\n",
        "\n"
      ]
    },
    {
      "cell_type": "code",
      "metadata": {
        "id": "ja9ZUdC3m44t",
        "colab": {
          "base_uri": "https://localhost:8080/",
          "height": 35
        },
        "outputId": "30f289e3-02b3-4b4b-8004-ab32d5480328"
      },
      "source": [
        "planets = ['Mercury', 'Venus', 'Earth', 'Mars', 'Jupiter', 'Saturn', 'Uranus', 'Neptune']\n",
        "planets[0]"
      ],
      "execution_count": null,
      "outputs": [
        {
          "output_type": "execute_result",
          "data": {
            "application/vnd.google.colaboratory.intrinsic": {
              "type": "string"
            },
            "text/plain": [
              "'Mercury'"
            ]
          },
          "metadata": {
            "tags": []
          },
          "execution_count": 11
        }
      ]
    },
    {
      "cell_type": "markdown",
      "metadata": {
        "id": "yR71nDTAGX-3"
      },
      "source": [
        "冥王星 Pluto がないのは惑星ではなくなったから。"
      ]
    },
    {
      "cell_type": "markdown",
      "metadata": {
        "id": "RS-g-5gJnIo9"
      },
      "source": [
        "太陽から一番遠い惑星はどこか?\n",
        "\n",
        "リストの最後の要素はマイナスの数でアクセスできる。\n"
      ]
    },
    {
      "cell_type": "code",
      "metadata": {
        "id": "H7McvjOeneBx",
        "colab": {
          "base_uri": "https://localhost:8080/",
          "height": 50
        },
        "outputId": "272b7f8c-4203-4e95-c5f2-a7cd7a8763ec"
      },
      "source": [
        "print(planets[-1])\n",
        "print(planets[-2])"
      ],
      "execution_count": null,
      "outputs": [
        {
          "output_type": "stream",
          "text": [
            "Neptune\n",
            "Uranus\n"
          ],
          "name": "stdout"
        }
      ]
    },
    {
      "cell_type": "markdown",
      "metadata": {
        "id": "hNQN2iTb_edz"
      },
      "source": [
        "---\n",
        "スライス、スライシング、切り取り、コロン\n",
        "\n",
        "太陽から近い順に3つの惑星をリストにする。このようなときにスライシングが使える。\n"
      ]
    },
    {
      "cell_type": "code",
      "metadata": {
        "id": "5IAWi_B5oBFh",
        "colab": {
          "base_uri": "https://localhost:8080/",
          "height": 34
        },
        "outputId": "0328d470-8ceb-4e3a-c514-6cc58306068e"
      },
      "source": [
        "planets = ['Mercury', 'Venus', 'Earth', 'Mars', 'Jupiter', 'Saturn', 'Uranus', 'Neptune']\n",
        "planets[0:3]"
      ],
      "execution_count": null,
      "outputs": [
        {
          "output_type": "execute_result",
          "data": {
            "text/plain": [
              "['Mercury', 'Venus', 'Earth']"
            ]
          },
          "metadata": {
            "tags": []
          },
          "execution_count": 14
        }
      ]
    },
    {
      "cell_type": "markdown",
      "metadata": {
        "id": "logbyUnpn_di"
      },
      "source": [
        "`planets[0:3]` の意味はインデクス 0 から 3 までで、3 を含まない、ということ。\n",
        "\n",
        "スタートとエンドの要素は省略可能。最初のインデクスを省略すると、0とみなされるので、前の例は次のように書ける。\n"
      ]
    },
    {
      "cell_type": "code",
      "metadata": {
        "id": "RnrwU6-aoolw",
        "colab": {
          "base_uri": "https://localhost:8080/",
          "height": 34
        },
        "outputId": "fd1147d1-e18e-4ae6-e057-7f33dd0f2b6a"
      },
      "source": [
        "planets[:3]"
      ],
      "execution_count": null,
      "outputs": [
        {
          "output_type": "execute_result",
          "data": {
            "text/plain": [
              "['Mercury', 'Venus', 'Earth']"
            ]
          },
          "metadata": {
            "tags": []
          },
          "execution_count": 15
        }
      ]
    },
    {
      "cell_type": "markdown",
      "metadata": {
        "id": "S609vyLYonbl"
      },
      "source": [
        "エンドのインデクスを省略すると、リストの長さを指定したことになる。\n",
        "\n"
      ]
    },
    {
      "cell_type": "code",
      "metadata": {
        "id": "kxCVALNXo4_w",
        "colab": {
          "base_uri": "https://localhost:8080/",
          "height": 34
        },
        "outputId": "aaba1b00-c6ed-4889-d03d-8aec64e321eb"
      },
      "source": [
        "planets[3:]"
      ],
      "execution_count": null,
      "outputs": [
        {
          "output_type": "execute_result",
          "data": {
            "text/plain": [
              "['Mars', 'Jupiter', 'Saturn', 'Uranus', 'Neptune']"
            ]
          },
          "metadata": {
            "tags": []
          },
          "execution_count": 16
        }
      ]
    },
    {
      "cell_type": "markdown",
      "metadata": {
        "id": "dSoD_35Ao36f"
      },
      "source": [
        "`planets[3:]`の意味はインデクス3から最後まで、という意味になる。\n",
        "\n",
        "スライシングにマイナスのインデクスを使うこともできる。\n"
      ]
    },
    {
      "cell_type": "code",
      "metadata": {
        "id": "4MCyDfZYpL1o",
        "colab": {
          "base_uri": "https://localhost:8080/",
          "height": 34
        },
        "outputId": "4fd9af6d-d00e-45f0-90ab-dad89eb749d5"
      },
      "source": [
        "# All the planets except the first and last\n",
        "planets[1:-1]"
      ],
      "execution_count": null,
      "outputs": [
        {
          "output_type": "execute_result",
          "data": {
            "text/plain": [
              "['Venus', 'Earth', 'Mars', 'Jupiter', 'Saturn', 'Uranus']"
            ]
          },
          "metadata": {
            "tags": []
          },
          "execution_count": 17
        }
      ]
    },
    {
      "cell_type": "code",
      "metadata": {
        "id": "l6DfbNaOpRKX",
        "colab": {
          "base_uri": "https://localhost:8080/",
          "height": 34
        },
        "outputId": "cb04a9a7-8327-46d5-b382-7fc3779cd77b"
      },
      "source": [
        "# The last 3 planets\n",
        "planets[-3:]"
      ],
      "execution_count": null,
      "outputs": [
        {
          "output_type": "execute_result",
          "data": {
            "text/plain": [
              "['Saturn', 'Uranus', 'Neptune']"
            ]
          },
          "metadata": {
            "tags": []
          },
          "execution_count": 18
        }
      ]
    },
    {
      "cell_type": "markdown",
      "metadata": {
        "id": "bLHiNCYq_3E1"
      },
      "source": [
        "---\n",
        "リストの更新\n",
        "\n",
        "リストは可変 `mutable` である。コピーを作らずその場でそのものを更新できる。\n",
        "\n",
        "インデクスやスライスで値を入れることでリストを更新できる。\n",
        "\n",
        "例えば火星 `Mars` の名前を変えたいとしよう。\n",
        "\n"
      ]
    },
    {
      "cell_type": "code",
      "metadata": {
        "id": "Y38EaklOuzJr",
        "colab": {
          "base_uri": "https://localhost:8080/"
        },
        "outputId": "c1b4e9c2-67a6-4092-8db1-9bd0de7887b3"
      },
      "source": [
        "planets = ['Mercury', 'Venus', 'Earth', 'Mars', 'Jupiter', 'Saturn', 'Uranus', 'Neptune']\n",
        "planets[3] = 'Malacandra'\n",
        "print(planets)"
      ],
      "execution_count": null,
      "outputs": [
        {
          "output_type": "stream",
          "text": [
            "['Mercury', 'Venus', 'Earth', 'Malacandra', 'Jupiter', 'Saturn', 'Uranus', 'Neptune']\n"
          ],
          "name": "stdout"
        }
      ]
    },
    {
      "cell_type": "markdown",
      "metadata": {
        "id": "XxkhzMBWuxqa"
      },
      "source": [
        "最初の3つの惑星の名前を短くしてみよう。\n"
      ]
    },
    {
      "cell_type": "code",
      "metadata": {
        "id": "3l-yMmZqvEtW",
        "colab": {
          "base_uri": "https://localhost:8080/",
          "height": 34
        },
        "outputId": "956c36fd-046a-484d-aaf6-77cfd1b8a1f9"
      },
      "source": [
        "planets[:3] = ['Mur', 'Vee', 'Ur']\n",
        "print(planets)"
      ],
      "execution_count": null,
      "outputs": [
        {
          "output_type": "stream",
          "text": [
            "['Mur', 'Vee', 'Ur', 'Malacandra', 'Jupiter', 'Saturn', 'Uranus', 'Neptune']\n"
          ],
          "name": "stdout"
        }
      ]
    },
    {
      "cell_type": "code",
      "metadata": {
        "id": "KfzK-axxvOYD",
        "colab": {
          "base_uri": "https://localhost:8080/",
          "height": 34
        },
        "outputId": "f6ba144a-2725-470b-f320-086666ac6d44"
      },
      "source": [
        "# 元に戻す\n",
        "planets[:4] = ['Mercury', 'Venus', 'Earth', 'Mars',]\n",
        "planets"
      ],
      "execution_count": null,
      "outputs": [
        {
          "output_type": "execute_result",
          "data": {
            "text/plain": [
              "['Mercury', 'Venus', 'Earth', 'Mars', 'Jupiter', 'Saturn', 'Uranus', 'Neptune']"
            ]
          },
          "metadata": {
            "tags": []
          },
          "execution_count": 22
        }
      ]
    },
    {
      "cell_type": "markdown",
      "metadata": {
        "id": "LYrANVAkAB0E"
      },
      "source": [
        "---\n",
        "リスト関数\n",
        "\n",
        "リストを扱う便利な関数がいろいろある。\n",
        "\n",
        "`len` はリストの長さを返す。"
      ]
    },
    {
      "cell_type": "code",
      "metadata": {
        "id": "DK06qFbTvwLU",
        "colab": {
          "base_uri": "https://localhost:8080/",
          "height": 34
        },
        "outputId": "ceb9ae97-83db-4ddd-a00c-5710cbf08b9c"
      },
      "source": [
        "# How many planets are there?\n",
        "len(planets)"
      ],
      "execution_count": null,
      "outputs": [
        {
          "output_type": "execute_result",
          "data": {
            "text/plain": [
              "8"
            ]
          },
          "metadata": {
            "tags": []
          },
          "execution_count": 23
        }
      ]
    },
    {
      "cell_type": "markdown",
      "metadata": {
        "id": "Wcf9LBwjvrHr"
      },
      "source": [
        "`sorted` はリストのソートしたものを返す。\n"
      ]
    },
    {
      "cell_type": "code",
      "metadata": {
        "id": "JG2ZkhIiwJ92",
        "colab": {
          "base_uri": "https://localhost:8080/",
          "height": 34
        },
        "outputId": "4847a704-4ba9-4c42-d907-d45c8bf40978"
      },
      "source": [
        "# The planets sorted in alphabetical order\n",
        "sorted(planets)"
      ],
      "execution_count": null,
      "outputs": [
        {
          "output_type": "execute_result",
          "data": {
            "text/plain": [
              "['Earth', 'Jupiter', 'Mars', 'Mercury', 'Neptune', 'Saturn', 'Uranus', 'Venus']"
            ]
          },
          "metadata": {
            "tags": []
          },
          "execution_count": 24
        }
      ]
    },
    {
      "cell_type": "markdown",
      "metadata": {
        "id": "uplvvHgwwG4_"
      },
      "source": [
        "`sum` は数値の合計を返す。\n"
      ]
    },
    {
      "cell_type": "code",
      "metadata": {
        "id": "tLpQofQewWGP"
      },
      "source": [
        "primes = [2, 3, 5, 7]\n",
        "sum(primes)"
      ],
      "execution_count": null,
      "outputs": []
    },
    {
      "cell_type": "markdown",
      "metadata": {
        "id": "G3phy0f_wUGD"
      },
      "source": [
        "`min` と `max` はリストを引数として渡すこともできる。\n"
      ]
    },
    {
      "cell_type": "code",
      "metadata": {
        "id": "YeaLbGDHwttm",
        "colab": {
          "base_uri": "https://localhost:8080/",
          "height": 34
        },
        "outputId": "b1b4186d-02fc-47f3-9edd-f919b695d1ad"
      },
      "source": [
        "max(primes)"
      ],
      "execution_count": null,
      "outputs": [
        {
          "output_type": "execute_result",
          "data": {
            "text/plain": [
              "7"
            ]
          },
          "metadata": {
            "tags": []
          },
          "execution_count": 25
        }
      ]
    },
    {
      "cell_type": "code",
      "metadata": {
        "id": "tQZxZdbhwxrQ",
        "colab": {
          "base_uri": "https://localhost:8080/",
          "height": 35
        },
        "outputId": "5e902b5b-a918-4a80-d817-80a5c32213db"
      },
      "source": [
        "min(planets)"
      ],
      "execution_count": null,
      "outputs": [
        {
          "output_type": "execute_result",
          "data": {
            "application/vnd.google.colaboratory.intrinsic": {
              "type": "string"
            },
            "text/plain": [
              "'Earth'"
            ]
          },
          "metadata": {
            "tags": []
          },
          "execution_count": 27
        }
      ]
    },
    {
      "cell_type": "markdown",
      "metadata": {
        "id": "XAGWRjoDANuy"
      },
      "source": [
        "---\n",
        "オブジェクトとドットシンタクス\n",
        "\n",
        "オブジェクトはなんらかの性質をもっている物であり、その性質にアクセするためにドットシンタクスがある。\n",
        "\n",
        "例えば、 python の数値は `imag` と呼ばれる虚数部分を表す変数を持っていて、次のようにアクセスする。\n"
      ]
    },
    {
      "cell_type": "code",
      "metadata": {
        "id": "GMAS0B1P8NAw",
        "colab": {
          "base_uri": "https://localhost:8080/",
          "height": 34
        },
        "outputId": "1458ad60-7e10-4686-b854-f1531c85b476"
      },
      "source": [
        "x = 12\n",
        "# x is a real number, so its imaginary part is 0.\n",
        "print(x.imag)"
      ],
      "execution_count": null,
      "outputs": [
        {
          "output_type": "stream",
          "text": [
            "0\n"
          ],
          "name": "stdout"
        }
      ]
    },
    {
      "cell_type": "code",
      "metadata": {
        "id": "OWvsHBZ98aIL",
        "colab": {
          "base_uri": "https://localhost:8080/"
        },
        "outputId": "7604d3fc-cebb-4c01-9bf1-d9147ee0f5cb"
      },
      "source": [
        "# Here's how to make a complex number, in case you've ever been curious:\n",
        "c = 12 + 3j\n",
        "print(c.imag)"
      ],
      "execution_count": null,
      "outputs": [
        {
          "output_type": "stream",
          "text": [
            "3.0\n"
          ],
          "name": "stdout"
        }
      ]
    },
    {
      "cell_type": "markdown",
      "metadata": {
        "id": "3gGYtzW08Ki4"
      },
      "source": [
        "オブジェクトは関数を持っていていて、オブジェクトに付属する関数のことはメソッドと呼ばれる。\n",
        "\n",
        "`imag`のようなオブジェクトの性質は属性 `attributes` と呼ぶ。\n",
        "\n",
        "例えば、整数は`bit_length`というメソッドを持っていて、次のように使う。\n"
      ]
    },
    {
      "cell_type": "code",
      "metadata": {
        "id": "Nhx_x9aN9TQA",
        "colab": {
          "base_uri": "https://localhost:8080/"
        },
        "outputId": "360dcecd-ea60-49e4-867b-2b47f569f027"
      },
      "source": [
        "x = -3\n",
        "x.bit_length()"
      ],
      "execution_count": null,
      "outputs": [
        {
          "output_type": "execute_result",
          "data": {
            "text/plain": [
              "2"
            ]
          },
          "metadata": {
            "tags": []
          },
          "execution_count": 102
        }
      ]
    },
    {
      "cell_type": "markdown",
      "metadata": {
        "id": "Ig9UBtzd9RqZ"
      },
      "source": [
        "普通の関数の `help()` は 'help(max)` のように使うが、メソッドについての `help()` は次のようにオブジェクトのドットシンタクスとして呼び出す。 属性も同じ。 オブジェクトがないとエラーになる。\n"
      ]
    },
    {
      "cell_type": "code",
      "metadata": {
        "id": "-8J3NIVDBX00",
        "colab": {
          "base_uri": "https://localhost:8080/"
        },
        "outputId": "05b0b8bf-2431-45ad-d229-a5d8229209da"
      },
      "source": [
        "x = 12\n",
        "help(x.bit_length)"
      ],
      "execution_count": null,
      "outputs": [
        {
          "output_type": "stream",
          "text": [
            "Help on built-in function bit_length:\n",
            "\n",
            "bit_length() method of builtins.int instance\n",
            "    Number of bits necessary to represent self in binary.\n",
            "    \n",
            "    >>> bin(37)\n",
            "    '0b100101'\n",
            "    >>> (37).bit_length()\n",
            "    6\n",
            "\n"
          ],
          "name": "stdout"
        }
      ]
    },
    {
      "cell_type": "markdown",
      "metadata": {
        "id": "hqb8WqveAh0A"
      },
      "source": [
        "`list.append` は要素をリストの最後に付け加える\n",
        "\n"
      ]
    },
    {
      "cell_type": "code",
      "metadata": {
        "id": "ja7lJtxWCZve",
        "colab": {
          "base_uri": "https://localhost:8080/"
        },
        "outputId": "08979e59-290d-4e95-e4e1-49f1cbc0c206"
      },
      "source": [
        "# Pluto is a planet darn it!\n",
        "planets.append('Pluto')\n",
        "print(planets)\n",
        "print(planets.append(\"Nothing\")) # append に返り値はない"
      ],
      "execution_count": null,
      "outputs": [
        {
          "output_type": "stream",
          "text": [
            "['Mercury', 'Venus', 'Earth', 'Malacandra', 'Jupiter', 'Saturn', 'Uranus', 'Neptune', 'Pluto', 'Pluto']\n",
            "None\n"
          ],
          "name": "stdout"
        }
      ]
    },
    {
      "cell_type": "markdown",
      "metadata": {
        "id": "KQ1nWX5ZF8XT"
      },
      "source": [
        "メソッド `append` はリスト型のメソッドなので、`help()` で呼び出す際にもなんらかのリストをつける必要がある。\n",
        "\n",
        "`help(append)`とするとエラーになる。そこが組み込み関数の `max` などと違うところで、`max` の場合 `help(max)` で呼び出せる。\n",
        "\n",
        "`help([].append)` のドキュメントにある、`-> None` の部分が `list.append` が返り値がないことを表している。\n"
      ]
    },
    {
      "cell_type": "markdown",
      "metadata": {
        "id": "TfMfNHTlHZ2f"
      },
      "source": [
        "---\n",
        "`list.pop` はリストの最後の要素を削除する。\n"
      ]
    },
    {
      "cell_type": "code",
      "metadata": {
        "id": "fcjghYw-H0Ar",
        "colab": {
          "base_uri": "https://localhost:8080/"
        },
        "outputId": "00a6e33c-eff4-4b2f-ac22-a85dd976eca2"
      },
      "source": [
        "planets = ['Mercury', 'Venus', 'Earth', 'Mars', 'Jupiter', 'Saturn', 'Uranus', 'Neptune']\n",
        "print(planets)\n",
        "planets.pop()\n",
        "print(planets)\n",
        "planets.append('Neptune')\n",
        "print(planets)"
      ],
      "execution_count": null,
      "outputs": [
        {
          "output_type": "stream",
          "text": [
            "['Mercury', 'Venus', 'Earth', 'Mars', 'Jupiter', 'Saturn', 'Uranus', 'Neptune']\n",
            "['Mercury', 'Venus', 'Earth', 'Mars', 'Jupiter', 'Saturn', 'Uranus']\n",
            "['Mercury', 'Venus', 'Earth', 'Mars', 'Jupiter', 'Saturn', 'Uranus', 'Neptune']\n"
          ],
          "name": "stdout"
        }
      ]
    },
    {
      "cell_type": "markdown",
      "metadata": {
        "id": "rEcaF8Lt7ZAa"
      },
      "source": [
        "質問 $\\quad$ ということは、push, pop ペアではなくて、append, pop ペアなのか。これでスタック操作ができるかも。 "
      ]
    },
    {
      "cell_type": "markdown",
      "metadata": {
        "id": "Ott37F9pA0Fj"
      },
      "source": [
        "---\n",
        "リストの検索\n",
        "\n",
        "`planets`の中で`Earth`は何番目にあるか?\n",
        "\n",
        "list.indexメソッドを使う。\n"
      ]
    },
    {
      "cell_type": "code",
      "metadata": {
        "id": "zk4P4vk1ILqB",
        "colab": {
          "base_uri": "https://localhost:8080/",
          "height": 34
        },
        "outputId": "502af624-8804-49ef-8106-07c165a75a9c"
      },
      "source": [
        "planets.index('Earth')"
      ],
      "execution_count": null,
      "outputs": [
        {
          "output_type": "execute_result",
          "data": {
            "text/plain": [
              "2"
            ]
          },
          "metadata": {
            "tags": []
          },
          "execution_count": 47
        }
      ]
    },
    {
      "cell_type": "markdown",
      "metadata": {
        "id": "O3LNuYb6IInj"
      },
      "source": [
        "`planets`の中で`Earth`は3番目にあることがわかる。インデクスは 0 スタートなので、2 が 3 番目という意味になる。\n",
        "\n"
      ]
    },
    {
      "cell_type": "markdown",
      "metadata": {
        "id": "0y7r8ERE75Vg"
      },
      "source": [
        "存在しない要素を検索するとエラーになる。\n",
        "\n",
        "'Pluto' is not in list"
      ]
    },
    {
      "cell_type": "code",
      "metadata": {
        "id": "DqsYTiIEIoo6"
      },
      "source": [
        "# 次のコードはエラーになる\n",
        "# planets = ['Mercury', 'Venus', 'Earth', 'Mars', 'Jupiter', 'Saturn', 'Uranus', 'Neptune']\n",
        "# planets.index('Pluto')"
      ],
      "execution_count": null,
      "outputs": []
    },
    {
      "cell_type": "markdown",
      "metadata": {
        "id": "whUap4Kh8krj"
      },
      "source": [
        "エラーにしないために事前に調べる方法がある。\n"
      ]
    },
    {
      "cell_type": "code",
      "metadata": {
        "id": "w_clMIY0JjTz",
        "colab": {
          "base_uri": "https://localhost:8080/",
          "height": 34
        },
        "outputId": "843650ea-e706-4ec8-e245-85b1291e6baa"
      },
      "source": [
        "# Is Earth a planet?\n",
        "\"Earth\" in planets"
      ],
      "execution_count": null,
      "outputs": [
        {
          "output_type": "execute_result",
          "data": {
            "text/plain": [
              "True"
            ]
          },
          "metadata": {
            "tags": []
          },
          "execution_count": 50
        }
      ]
    },
    {
      "cell_type": "markdown",
      "metadata": {
        "id": "_yxUtpCpJheo"
      },
      "source": [
        "---\n",
        "リストについてのすべてのメソッドを知るには、`help(planets)`もしくは`help([])とすればいい。\n"
      ]
    },
    {
      "cell_type": "code",
      "metadata": {
        "id": "4NZSATUeKCCI"
      },
      "source": [
        "# help([])"
      ],
      "execution_count": null,
      "outputs": []
    },
    {
      "cell_type": "markdown",
      "metadata": {
        "id": "NtEKrLl_J-79"
      },
      "source": [
        "`__eq__`とか` __iadd__ `とか変な名前のメソッドがたくさん出てくるが、とりあえず気にしないでよい。たぶ直接使うことはなく、インデクスや比較演算子の背後で使われているメソッドである．\n",
        "\n",
        "最後の方にある、`append`、`clear`、`copy` 等を学ぶのがよい。\n"
      ]
    },
    {
      "cell_type": "code",
      "metadata": {
        "id": "x92NOx9yMPtu",
        "colab": {
          "base_uri": "https://localhost:8080/"
        },
        "outputId": "fce79031-cdac-4d93-9400-df54e3e854f5"
      },
      "source": [
        "help([].clear)"
      ],
      "execution_count": null,
      "outputs": [
        {
          "output_type": "stream",
          "text": [
            "Help on built-in function clear:\n",
            "\n",
            "clear() method of builtins.list instance\n",
            "    Remove all items from list.\n",
            "\n"
          ],
          "name": "stdout"
        }
      ]
    },
    {
      "cell_type": "code",
      "metadata": {
        "id": "D5M1iyLyMVEq",
        "colab": {
          "base_uri": "https://localhost:8080/"
        },
        "outputId": "f9f0fcc6-bd64-40f0-c1bf-bf9de504f542"
      },
      "source": [
        "help([].copy)"
      ],
      "execution_count": null,
      "outputs": [
        {
          "output_type": "stream",
          "text": [
            "Help on built-in function copy:\n",
            "\n",
            "copy() method of builtins.list instance\n",
            "    Return a shallow copy of the list.\n",
            "\n"
          ],
          "name": "stdout"
        }
      ]
    },
    {
      "cell_type": "markdown",
      "metadata": {
        "id": "1I2TbieuBFBR"
      },
      "source": [
        "# タプル\n",
        "\n",
        "タプルとリストの違いは次の2点.\n",
        "\n",
        "1. タプルを作るときには丸括弧 `parenthesis`を使う。リストは角括弧 `square bracket`。 集合は波括弧 'brace' 。\n",
        "\n",
        "2. タプルは可変ではない。イミュータブル `immutable` である。\n",
        "\n"
      ]
    },
    {
      "cell_type": "code",
      "metadata": {
        "id": "fQjNpOhfgGYR",
        "colab": {
          "base_uri": "https://localhost:8080/",
          "height": 35
        },
        "outputId": "0b223c13-7723-4fc2-e3a0-70cac5339f85"
      },
      "source": [
        "t = (1, 2, 3)\n",
        "t"
      ],
      "execution_count": null,
      "outputs": [
        {
          "output_type": "execute_result",
          "data": {
            "text/plain": [
              "(1, 2, 3)"
            ]
          },
          "metadata": {
            "tags": []
          },
          "execution_count": 57
        }
      ]
    },
    {
      "cell_type": "code",
      "metadata": {
        "id": "E4PEgVyfgPZ2",
        "colab": {
          "base_uri": "https://localhost:8080/",
          "height": 35
        },
        "outputId": "0d0bad66-b535-496e-c5d6-39d03bc9c208"
      },
      "source": [
        "t = 1, 2, 3 # t = (1, 2, 3) と同じ。カンマがタプルを生成する\n",
        "t"
      ],
      "execution_count": null,
      "outputs": [
        {
          "output_type": "execute_result",
          "data": {
            "text/plain": [
              "(1, 2, 3)"
            ]
          },
          "metadata": {
            "tags": []
          },
          "execution_count": 58
        }
      ]
    },
    {
      "cell_type": "code",
      "metadata": {
        "id": "tDxtQCVqgaHj"
      },
      "source": [
        "# タプルは変更できない。エラーになる\n",
        "# t = (1,2,3)\n",
        "# t[0] = 100"
      ],
      "execution_count": null,
      "outputs": []
    },
    {
      "cell_type": "markdown",
      "metadata": {
        "id": "h8FzdFXmgDZD"
      },
      "source": [
        "タプルは複数の返り値を持つ関数に使われる。\n",
        "\n",
        "例えば、`float` オブジェクトのメソッドである `as_integer_ration()` は分子と分母をタプルの形で返す。\n"
      ]
    },
    {
      "cell_type": "code",
      "metadata": {
        "id": "T6OEK0i-g_pz",
        "colab": {
          "base_uri": "https://localhost:8080/"
        },
        "outputId": "ea531739-f849-4273-b634-1cd6260371a7"
      },
      "source": [
        "x = 0.125\n",
        "x.as_integer_ratio()"
      ],
      "execution_count": null,
      "outputs": [
        {
          "output_type": "execute_result",
          "data": {
            "text/plain": [
              "(1, 8)"
            ]
          },
          "metadata": {
            "tags": []
          },
          "execution_count": 12
        }
      ]
    },
    {
      "cell_type": "markdown",
      "metadata": {
        "id": "7GojnRYUhYcg"
      },
      "source": [
        "結果を変数に入れるには次のようにする。"
      ]
    },
    {
      "cell_type": "code",
      "metadata": {
        "id": "W4hl0dKIhV4k",
        "colab": {
          "base_uri": "https://localhost:8080/",
          "height": 35
        },
        "outputId": "456259a1-7b9b-4ddf-c1ad-2e7cd4021d79"
      },
      "source": [
        "numerator, denominator = x.as_integer_ratio()\n",
        "print(numerator / denominator)"
      ],
      "execution_count": null,
      "outputs": [
        {
          "output_type": "stream",
          "text": [
            "0.125\n"
          ],
          "name": "stdout"
        }
      ]
    },
    {
      "cell_type": "markdown",
      "metadata": {
        "id": "K2NUzhe2g906"
      },
      "source": [
        "メモ\n",
        "\n",
        "次の例を含め、有名な ` stupid  python tricks` を考えよう。 課題。\n"
      ]
    },
    {
      "cell_type": "code",
      "metadata": {
        "id": "lB_3tfodiJZ5",
        "colab": {
          "base_uri": "https://localhost:8080/"
        },
        "outputId": "344ca969-755a-40b3-fe01-1e35bdea7f5a"
      },
      "source": [
        "a = 1\n",
        "b = 0\n",
        "a, b = b, a\n",
        "print(a, b)"
      ],
      "execution_count": null,
      "outputs": [
        {
          "output_type": "stream",
          "text": [
            "0 1\n"
          ],
          "name": "stdout"
        }
      ]
    },
    {
      "cell_type": "code",
      "metadata": {
        "colab": {
          "base_uri": "https://localhost:8080/"
        },
        "id": "GwpHQcbV_YWO",
        "outputId": "24ce6feb-a857-4f13-dc4d-eebd05adcfee"
      },
      "source": [
        "a = 1\n",
        "b = 0\n",
        "tuple = a, b = b, a\n",
        "print (tuple)\n",
        "print (a, b)"
      ],
      "execution_count": null,
      "outputs": [
        {
          "output_type": "stream",
          "text": [
            "(0, 1)\n",
            "0 1\n"
          ],
          "name": "stdout"
        }
      ]
    },
    {
      "cell_type": "markdown",
      "metadata": {
        "id": "XVncd88rBj9q"
      },
      "source": [
        "---\n",
        "問題\n",
        "\n",
        "リストを引数として、2 番目の要素を返す関数を作る。 もし 2 番目の要素がない場合は None を返す。\n"
      ]
    },
    {
      "cell_type": "code",
      "metadata": {
        "id": "93zf8KJPjpnv",
        "colab": {
          "base_uri": "https://localhost:8080/",
          "height": 86
        },
        "outputId": "d23e9f57-4d43-4626-cea5-e2b8aa00b200"
      },
      "source": [
        "def select_second(L):\n",
        "    \"\"\"Return the second element of the given list. If the list has no second element, return None.\"\"\"\n",
        "    if len(L) < 2 :\n",
        "        return None\n",
        "    else :\n",
        "        return L[1]\n",
        "\n",
        "L = [0, 1, 2, 3]\n",
        "print(select_second(L))\n",
        "print(select_second([]))\n",
        "print(select_second([1]))\n",
        "print(select_second([1,2]))\n"
      ],
      "execution_count": null,
      "outputs": [
        {
          "output_type": "stream",
          "text": [
            "1\n",
            "None\n",
            "None\n",
            "2\n"
          ],
          "name": "stdout"
        }
      ]
    },
    {
      "cell_type": "markdown",
      "metadata": {
        "id": "hz8Xha1alYUP"
      },
      "source": [
        "---\n",
        "問題\n",
        "\n",
        "スポーツチームの問題。それぞれのチームのリストでコーチの名前がリストの最初にあり、キャプテンが2番目、それ以降はチームのメンバー。このチームのリストがリストになっていて、最初がベストチーム、で最後がワーストチームの順に並んでいる。\n",
        "\n",
        "ワーストチームのキャプテンを選ぶプログラムを作る。\n"
      ]
    },
    {
      "cell_type": "code",
      "metadata": {
        "id": "b7OGql1ImptF",
        "colab": {
          "base_uri": "https://localhost:8080/",
          "height": 35
        },
        "outputId": "119db415-5ce0-4fc8-f4a9-43a356e6405b"
      },
      "source": [
        "def losing_team_captain(teams):\n",
        "    \"\"\"Given a list of teams, where each team is a list of names, return the 2nd player (captain)\n",
        "    from the last listed team\n",
        "    \"\"\"\n",
        "    return teams[-1][1]\n",
        "\n",
        "teams = [[\"bob\", \"mark\", \"john\"], [\"peter\", \"matthew\", \"willy\"]]\n",
        "\n",
        "print(losing_team_captain(teams))"
      ],
      "execution_count": null,
      "outputs": [
        {
          "output_type": "stream",
          "text": [
            "matthew\n"
          ],
          "name": "stdout"
        }
      ]
    },
    {
      "cell_type": "markdown",
      "metadata": {
        "id": "alOefQzplask"
      },
      "source": [
        "---\n",
        "問題\n",
        "\n",
        "マリオ・カートゲームの次回作では、*Purple Shell*というアイテムが装備され、それを使うとビリのレーサーとトップのレーサーが入れ替わるというとんでもないことが起きる。\n",
        "\n",
        "次のプログラムを完成させ、Purple Shellの効果を実装する。\n"
      ]
    },
    {
      "cell_type": "code",
      "metadata": {
        "id": "MFl70KA4nh7N",
        "colab": {
          "base_uri": "https://localhost:8080/",
          "height": 35
        },
        "outputId": "37fe3234-a8ff-4c77-9537-51e989bca3cc"
      },
      "source": [
        "def purple_shell(racers):\n",
        "    \"\"\"Given a list of racers, set the first place racer (at the front of the list) to last\n",
        "    place and vice versa.\n",
        "    \n",
        "    >>> r = [\"Mario\", \"Bowser\", \"Luigi\"]\n",
        "    >>> purple_shell(r)\n",
        "    >>> r\n",
        "    [\"Luigi\", \"Bowser\", \"Mario\"]\n",
        "    \"\"\"\n",
        "    racers[0], racers[-1] = racers[-1], racers[0]\n",
        "    return racers\n",
        "\n",
        "r = [\"Mario\", \"Bowser\", \"Luigi\"]\n",
        "purple_shell(r)\n",
        "r"
      ],
      "execution_count": null,
      "outputs": [
        {
          "output_type": "execute_result",
          "data": {
            "text/plain": [
              "['Luigi', 'Bowser', 'Mario']"
            ]
          },
          "metadata": {
            "tags": []
          },
          "execution_count": 7
        }
      ]
    },
    {
      "cell_type": "markdown",
      "metadata": {
        "id": "2oGgi8mAlc4Y"
      },
      "source": [
        "---\n",
        "問題\n",
        "\n",
        "リストの長さの確認\n"
      ]
    },
    {
      "cell_type": "code",
      "metadata": {
        "id": "aN3PAONDrcc5",
        "colab": {
          "base_uri": "https://localhost:8080/",
          "height": 86
        },
        "outputId": "8d16bdc6-f0a8-4e02-c5ae-b261eb6b798f"
      },
      "source": [
        "a = [1, 2, 3]\n",
        "b = [1, [2, 3]]\n",
        "c = []\n",
        "d = [1, 2, 3][1:]\n",
        "\n",
        "print(len(a))\n",
        "print(len(b))\n",
        "print(len(c))\n",
        "print(len(d))\n"
      ],
      "execution_count": null,
      "outputs": [
        {
          "output_type": "stream",
          "text": [
            "3\n",
            "2\n",
            "0\n",
            "2\n"
          ],
          "name": "stdout"
        }
      ]
    },
    {
      "cell_type": "markdown",
      "metadata": {
        "id": "EiR5M2tGley0"
      },
      "source": [
        "---\n",
        "問題\n",
        "\n",
        "パーティ出席者のリストがある。次の 7 人のゲストのリストで Adela が最初に到着し、Fordが 最後に来た。\n"
      ]
    },
    {
      "cell_type": "code",
      "metadata": {
        "id": "PsYbd6JGr6JT"
      },
      "source": [
        "party_attendees = ['Adela', 'Fleda', 'Owen', 'May', 'Mona', 'Gilbert', 'Ford']"
      ],
      "execution_count": null,
      "outputs": []
    },
    {
      "cell_type": "markdown",
      "metadata": {
        "id": "Pzw3bTy1r5Mu"
      },
      "source": [
        "かっこよく遅刻`fashionably late`は、パーティのゲストの半分より後に到着し、最後ではないゲストたちを指す。今回の例では Mona と Gilbet が `fashionably late` である。\n",
        "\n",
        "リストと名前を引数に取り、`fashionably late`かどうかを返すプログラムを作る。\n"
      ]
    },
    {
      "cell_type": "code",
      "metadata": {
        "id": "148fCNf2YvYY"
      },
      "source": [
        ""
      ],
      "execution_count": null,
      "outputs": []
    },
    {
      "cell_type": "code",
      "metadata": {
        "id": "IMQTDQyvr8WA",
        "colab": {
          "base_uri": "https://localhost:8080/",
          "height": 86
        },
        "outputId": "00856c4d-fc01-46e4-fcb6-d776ee7b1a29"
      },
      "source": [
        "import math\n",
        "\n",
        "def fashionably_late(arrivals, name):\n",
        "    \"\"\"Given an ordered list of arrivals to the party and a name, return whether the guest with that\n",
        "    name was fashionably late.\n",
        "    \"\"\"\n",
        "    fashionable_attendees = party_attendees[math.ceil(len(party_attendees)/2):-1]\n",
        "    return name in fashionable_attendees\n",
        "\n",
        "\n",
        "party_attendees = ['Adela', 'Fleda', 'Owen', 'May', 'Mona', 'Gilbert', 'Ford']\n",
        "\n",
        "print(fashionably_late(party_attendees, \"Adela\"))\n",
        "print(fashionably_late(party_attendees, \"May\" ))\n",
        "print(fashionably_late(party_attendees, \"Gilbert\"))\n",
        "print(fashionably_late(party_attendees, \"Ford\"))"
      ],
      "execution_count": null,
      "outputs": [
        {
          "output_type": "stream",
          "text": [
            "False\n",
            "False\n",
            "True\n",
            "False\n"
          ],
          "name": "stdout"
        }
      ]
    },
    {
      "cell_type": "markdown",
      "metadata": {
        "id": "R4g0bkJdY5OU"
      },
      "source": [
        "# ここから kaggle05loop.ipynb"
      ]
    },
    {
      "cell_type": "markdown",
      "metadata": {
        "id": "WHmLjrJyZPn8"
      },
      "source": [
        "# ループ"
      ]
    },
    {
      "cell_type": "code",
      "metadata": {
        "id": "6gAT9C_j1SXR",
        "colab": {
          "base_uri": "https://localhost:8080/",
          "height": 35
        },
        "outputId": "1065ce44-afe8-4a07-9132-2bf73654e489"
      },
      "source": [
        "planets = ['Mercury', 'Venus', 'Earth', 'Mars', 'Jupiter', 'Saturn', 'Uranus', 'Neptune']\n",
        "for planet in planets:\n",
        "    print(planet, end=' ') # print all on same line"
      ],
      "execution_count": null,
      "outputs": [
        {
          "output_type": "stream",
          "text": [
            "Mercury Venus Earth Mars Jupiter Saturn Uranus Neptune "
          ],
          "name": "stdout"
        }
      ]
    },
    {
      "cell_type": "markdown",
      "metadata": {
        "id": "QeUmaqxdgML9"
      },
      "source": [
        "`for` ループでは次のようなことが行われる。\n",
        "\n",
        "* 使われる変数が指定される。今回の場合 `planet`\n",
        "* ループする値のセット。今回の場合は `planets`\n",
        "* `in` という単語を使っての変数と値のセットとのリンク\n",
        "\n",
        "\n",
        "\n"
      ]
    },
    {
      "cell_type": "markdown",
      "metadata": {
        "id": "XwIebFE9al6E"
      },
      "source": [
        "`for` ループで集合 `set` が使えるか。\n",
        "\n",
        "使えた。 下記参照。"
      ]
    },
    {
      "cell_type": "code",
      "metadata": {
        "id": "SIrqrLI6ALue",
        "colab": {
          "base_uri": "https://localhost:8080/"
        },
        "outputId": "01290f53-3b51-4d78-b324-c296cc362cf8"
      },
      "source": [
        "multiplicands = (2, 2, 2, 3, 3, 5)\n",
        "product = 1\n",
        "for mult in multiplicands:\n",
        "    product = product * mult\n",
        "print(multiplicands)\n",
        "print(product)\n",
        "\n",
        "multiplicands = set(multiplicands)\n",
        "print(multiplicands)\n",
        "product = 1\n",
        "for mult in multiplicands:\n",
        "    product = product * mult\n",
        "print(product)"
      ],
      "execution_count": null,
      "outputs": [
        {
          "output_type": "stream",
          "text": [
            "(2, 2, 2, 3, 3, 5)\n",
            "360\n",
            "{2, 3, 5}\n",
            "30\n"
          ],
          "name": "stdout"
        }
      ]
    },
    {
      "cell_type": "markdown",
      "metadata": {
        "id": "8IWJD-uVgPhd"
      },
      "source": [
        "文字列の文字についてもループできる。\n"
      ]
    },
    {
      "cell_type": "code",
      "metadata": {
        "id": "OplDO1YOAdr0",
        "colab": {
          "base_uri": "https://localhost:8080/",
          "height": 35
        },
        "outputId": "50e9b00e-fbaf-40e2-80a8-6a67c3c74f0d"
      },
      "source": [
        "s = 'steganograpHy is the practicE of conceaLing a file, message, image, or video within another fiLe, message, image, Or video.'\n",
        "msg = ''\n",
        "# print all the uppercase letters in s, one at a time\n",
        "for char in s:\n",
        "    if char.isupper():\n",
        "        print(char, end='')      "
      ],
      "execution_count": null,
      "outputs": [
        {
          "output_type": "stream",
          "text": [
            "HELLO"
          ],
          "name": "stdout"
        }
      ]
    },
    {
      "cell_type": "markdown",
      "metadata": {
        "id": "sIQD561CgS6m"
      },
      "source": [
        "---\n",
        "range()\n",
        "\n",
        "`range()`は数列をつくる関数で、ループを書くときに役に立つ。\n",
        "\n",
        "たとえば同じ作業を5回やりたいとする:\n",
        "\n"
      ]
    },
    {
      "cell_type": "code",
      "metadata": {
        "id": "roiIh3eOBF2k",
        "colab": {
          "base_uri": "https://localhost:8080/",
          "height": 104
        },
        "outputId": "9b5734c6-cdb2-45c8-8efc-d604b04fa13d"
      },
      "source": [
        "for i in range(5):\n",
        "    print(\"Doing important work. i =\", i)"
      ],
      "execution_count": null,
      "outputs": [
        {
          "output_type": "stream",
          "text": [
            "Doing important work. i = 0\n",
            "Doing important work. i = 1\n",
            "Doing important work. i = 2\n",
            "Doing important work. i = 3\n",
            "Doing important work. i = 4\n"
          ],
          "name": "stdout"
        }
      ]
    },
    {
      "cell_type": "markdown",
      "metadata": {
        "id": "l4Y__AcJBDHw"
      },
      "source": [
        "---\n",
        "while ループ\n",
        "\n",
        "`while` ループは条件を満たしている間、繰り返す。\n"
      ]
    },
    {
      "cell_type": "code",
      "metadata": {
        "id": "dvsgrfVsBY5N",
        "colab": {
          "base_uri": "https://localhost:8080/",
          "height": 35
        },
        "outputId": "c56d4fbc-94a4-4e17-e599-2c123bb9f669"
      },
      "source": [
        "i = 0\n",
        "while i < 10:\n",
        "    print(i, end=' ')\n",
        "    i += 1"
      ],
      "execution_count": null,
      "outputs": [
        {
          "output_type": "stream",
          "text": [
            "0 1 2 3 4 5 6 7 8 9 "
          ],
          "name": "stdout"
        }
      ]
    },
    {
      "cell_type": "markdown",
      "metadata": {
        "id": "yBJfdR4648fo"
      },
      "source": [
        "# リスト内包表記 list comprehension\n",
        "\n",
        "python のリスト内包表記はたいへん人気がある。\n"
      ]
    },
    {
      "cell_type": "code",
      "metadata": {
        "id": "dVA0M3vKV2tV",
        "colab": {
          "base_uri": "https://localhost:8080/",
          "height": 34
        },
        "outputId": "5afa2615-9389-472a-dc76-379edbd147d7"
      },
      "source": [
        "squares = [n**2 for n in range(10)]\n",
        "squares"
      ],
      "execution_count": null,
      "outputs": [
        {
          "output_type": "execute_result",
          "data": {
            "text/plain": [
              "[0, 1, 4, 9, 16, 25, 36, 49, 64, 81]"
            ]
          },
          "metadata": {
            "tags": []
          },
          "execution_count": 1
        }
      ]
    },
    {
      "cell_type": "markdown",
      "metadata": {
        "id": "BUJDb7GZgdY7"
      },
      "source": [
        "これをリスト内包表記でなくあらわすとしたら次のようになる。\n"
      ]
    },
    {
      "cell_type": "code",
      "metadata": {
        "id": "0LqYOeoqWH5F",
        "colab": {
          "base_uri": "https://localhost:8080/",
          "height": 34
        },
        "outputId": "d705dd8d-d92f-4fb7-f615-d0842a0b4124"
      },
      "source": [
        "squares = []\n",
        "for n in range(10):\n",
        "    squares.append(n**2)\n",
        "squares"
      ],
      "execution_count": null,
      "outputs": [
        {
          "output_type": "execute_result",
          "data": {
            "text/plain": [
              "[0, 1, 4, 9, 16, 25, 36, 49, 64, 81]"
            ]
          },
          "metadata": {
            "tags": []
          },
          "execution_count": 2
        }
      ]
    },
    {
      "cell_type": "markdown",
      "metadata": {
        "id": "0g-YfjN0WF_5"
      },
      "source": [
        "次のは `if` を使ったリスト内包表記である。\n"
      ]
    },
    {
      "cell_type": "code",
      "metadata": {
        "id": "YE9iKEwcWdHl",
        "colab": {
          "base_uri": "https://localhost:8080/",
          "height": 34
        },
        "outputId": "88ada980-616f-4685-fff0-2756a0c99edf"
      },
      "source": [
        "planets = ['Mercury', 'Venus', 'Earth', 'Mars', 'Jupiter', 'Saturn', 'Uranus', 'Neptune']\n",
        "short_planets = [planet for planet in planets if len(planet) < 6]\n",
        "short_planets"
      ],
      "execution_count": null,
      "outputs": [
        {
          "output_type": "execute_result",
          "data": {
            "text/plain": [
              "['Venus', 'Earth', 'Mars']"
            ]
          },
          "metadata": {
            "tags": []
          },
          "execution_count": 4
        }
      ]
    },
    {
      "cell_type": "markdown",
      "metadata": {
        "id": "Wlk1wUSCWcAF"
      },
      "source": [
        "`SQL`の `WHERE` 節に似ている。\n",
        "\n",
        "次の例ではループ変数に `if` 条件文でフィルターをかけて、それを変形している。\n"
      ]
    },
    {
      "cell_type": "code",
      "metadata": {
        "id": "XIAPutwTXOCD",
        "colab": {
          "base_uri": "https://localhost:8080/"
        },
        "outputId": "88561799-e08e-42f5-8a3e-297459a4190b"
      },
      "source": [
        "# str.upper() returns an all-caps version of a string\n",
        "loud_short_planets = [planet.upper() + '!!!!' for planet in planets if len(planet) < 6]\n",
        "loud_short_planets"
      ],
      "execution_count": 22,
      "outputs": [
        {
          "output_type": "execute_result",
          "data": {
            "text/plain": [
              "['VENUS!!!!', 'EARTH!!!!', 'MARS!!!!']"
            ]
          },
          "metadata": {
            "tags": []
          },
          "execution_count": 22
        }
      ]
    },
    {
      "cell_type": "markdown",
      "metadata": {
        "id": "V1gJ6uJ1glI2"
      },
      "source": [
        "リスト内包表記の左部分はループ変数を含む必要はないが、たいていは含んでいる。\n",
        "\n",
        "次のプログラムはリスト内包表記の左部分にループ変数を含まない例である。\n"
      ]
    },
    {
      "cell_type": "code",
      "metadata": {
        "id": "dcmHx59nusMj",
        "colab": {
          "base_uri": "https://localhost:8080/",
          "height": 34
        },
        "outputId": "c1211925-e321-4c68-e0cb-2424c727d911"
      },
      "source": [
        "planets = ['Mercury', 'Venus', 'Earth', 'Mars', 'Jupiter', 'Saturn', 'Uranus', 'Neptune']\n",
        "[32 for planet in planets]"
      ],
      "execution_count": null,
      "outputs": [
        {
          "output_type": "execute_result",
          "data": {
            "text/plain": [
              "[32, 32, 32, 32, 32, 32, 32, 32]"
            ]
          },
          "metadata": {
            "tags": []
          },
          "execution_count": 1
        }
      ]
    },
    {
      "cell_type": "markdown",
      "metadata": {
        "id": "TSGU-RZXuknR"
      },
      "source": [
        "リスト内包表記と `min`、`max`、`sum` などの関数を組み合わせるとリスト内包表記を使わなければ何行にもなるプログラムを一行で書くことができる場合がある。\n",
        "\n",
        "次の2つのコードセルは同じことをやっている。\n",
        "\n"
      ]
    },
    {
      "cell_type": "code",
      "metadata": {
        "id": "6qnYlO2Q4Ro1",
        "colab": {
          "base_uri": "https://localhost:8080/",
          "height": 35
        },
        "outputId": "bc01c282-ff31-47fa-9bbf-2a6b7fe957e4"
      },
      "source": [
        "def count_negatives(nums):\n",
        "    \"\"\"Return the number of negative numbers in the given list.\n",
        "    >>> count_negatives([5, -1, -2, 0, 3])\n",
        "    2\n",
        "    \"\"\"\n",
        "    n_negative = 0\n",
        "    for num in nums:\n",
        "        if num < 0:\n",
        "            n_negative = n_negative + 1\n",
        "    return n_negative\n",
        "\n",
        "count_negatives([5, -1, -2, 0, 3])"
      ],
      "execution_count": null,
      "outputs": [
        {
          "output_type": "execute_result",
          "data": {
            "text/plain": [
              "2"
            ]
          },
          "metadata": {
            "tags": []
          },
          "execution_count": 5
        }
      ]
    },
    {
      "cell_type": "code",
      "metadata": {
        "id": "HtZCwZ5d4Q1F",
        "colab": {
          "base_uri": "https://localhost:8080/",
          "height": 35
        },
        "outputId": "6547fc2a-e8d7-4755-85ed-c6fe445842f4"
      },
      "source": [
        "def count_negatives(nums):\n",
        "    return len([num for num in nums if num < 0])\n",
        "\n",
        "count_negatives([5, -1, -2, 0, 3])"
      ],
      "execution_count": null,
      "outputs": [
        {
          "output_type": "execute_result",
          "data": {
            "text/plain": [
              "2"
            ]
          },
          "metadata": {
            "tags": []
          },
          "execution_count": 4
        }
      ]
    },
    {
      "cell_type": "markdown",
      "metadata": {
        "id": "Fev8CsN6gsCV"
      },
      "source": [
        "コードを短くすることだけが目的ならば次のようなのはどうか。\n",
        "\n",
        "\n"
      ]
    },
    {
      "cell_type": "code",
      "metadata": {
        "id": "YDLbbuhVkfqR"
      },
      "source": [
        "def count_negatives(nums):\n",
        "    # Reminder: in the \"booleans and conditionals\" exercises, we learned about a quirk of \n",
        "    # python where it calculates something like True + True + False + True to be equal to 3.\n",
        "    return sum([num < 0 for num in nums])\n",
        "\n",
        "count_negatives([5, -1, -2, 0, 3])"
      ],
      "execution_count": null,
      "outputs": []
    },
    {
      "cell_type": "markdown",
      "metadata": {
        "id": "G-MUOy34g0S-"
      },
      "source": [
        "どの解決方法が最善か、は主観的なものだが、短いコードはそれだけで価値がある。\n",
        "\n",
        "しかし、`the zen of python` のつぎのくだりを心に留めておくことも大切だ。\n",
        "\n",
        "```\n",
        "読みやすさは大切だ。\n",
        "明示的であることは暗黙的了解よりよいことだ。\n",
        "```\n",
        "\n",
        "リスト内包表記のようなツールを使ってプログラムを短く読みやすくしよう。多くの場合、短いプログラムは理解もしやすい。\n",
        "\n",
        "\n"
      ]
    },
    {
      "cell_type": "markdown",
      "metadata": {
        "id": "kp8aqa2XoFhL"
      },
      "source": [
        "---\n",
        "問題\n",
        "\n",
        "数のリストに、1つでも 7 で割り切れる数があった場合、 True を返すプログラムを書く。"
      ]
    },
    {
      "cell_type": "code",
      "metadata": {
        "id": "7yXi3eWboH05",
        "colab": {
          "base_uri": "https://localhost:8080/",
          "height": 50
        },
        "outputId": "6cfcabf6-1ed8-43e2-a397-2dfeb7441bdd"
      },
      "source": [
        "def has_lucky_number(nums):\n",
        "    \"\"\"Return whether the given list of numbers is lucky. A lucky list contains\n",
        "    at least one number divisible by 7.\n",
        "    \"\"\"\n",
        "    answer = False\n",
        "    for num in nums:\n",
        "        if num % 7 == 0:\n",
        "            answer = True\n",
        "            break\n",
        "    return answer\n",
        "\n",
        "print (has_lucky_number([1, 2, 3]))\n",
        "print (has_lucky_number([1, 2, 3, 7]))"
      ],
      "execution_count": null,
      "outputs": [
        {
          "output_type": "stream",
          "text": [
            "False\n",
            "True\n"
          ],
          "name": "stdout"
        }
      ]
    },
    {
      "cell_type": "code",
      "metadata": {
        "colab": {
          "base_uri": "https://localhost:8080/"
        },
        "id": "Ufueqi_BK7J6",
        "outputId": "58fd5bd6-e461-4644-8463-bd8fff5388f8"
      },
      "source": [
        "# 別解\n",
        "def has_lucky_number(nums):\n",
        "    if sum([num % 7 == 0 for num in nums]) > 0:\n",
        "        return True\n",
        "    else:\n",
        "        return False\n",
        "    \n",
        "print (has_lucky_number([1, 2, 3]))\n",
        "print (has_lucky_number([1, 2, 3, 7]))"
      ],
      "execution_count": 26,
      "outputs": [
        {
          "output_type": "stream",
          "text": [
            "False\n",
            "True\n"
          ],
          "name": "stdout"
        }
      ]
    },
    {
      "cell_type": "markdown",
      "metadata": {
        "id": "LphfeqynoMod"
      },
      "source": [
        "---\n",
        "問題 2\n",
        "\n",
        "数のリストから 2 より大きい数のリストにする。\n"
      ]
    },
    {
      "cell_type": "code",
      "metadata": {
        "id": "tsenOdt2rfNf",
        "colab": {
          "base_uri": "https://localhost:8080/",
          "height": 34
        },
        "outputId": "d0d6bc0b-e723-4ccc-b690-1d1d441bc8f8"
      },
      "source": [
        "def greater_than_two (nums) :\n",
        "    answer = []\n",
        "    for num in nums :\n",
        "        if num > 2 :\n",
        "            answer.append(num)\n",
        "    return answer\n",
        "\n",
        "print (greater_than_two([1, 2, 3, 4])) "
      ],
      "execution_count": null,
      "outputs": [
        {
          "output_type": "stream",
          "text": [
            "[3, 4]\n"
          ],
          "name": "stdout"
        }
      ]
    },
    {
      "cell_type": "code",
      "metadata": {
        "colab": {
          "base_uri": "https://localhost:8080/"
        },
        "id": "ElglOqv8MSTp",
        "outputId": "8e128cee-6a93-4e28-ebb4-7717e8c463fc"
      },
      "source": [
        "# 別解\n",
        "def greater_than_two (nums) :\n",
        "    return [num for num in nums if num > 2]\n",
        "\n",
        "print (greater_than_two([1, 2, 3, 4])) \n"
      ],
      "execution_count": 28,
      "outputs": [
        {
          "output_type": "stream",
          "text": [
            "[3, 4]\n"
          ],
          "name": "stdout"
        }
      ]
    },
    {
      "cell_type": "markdown",
      "metadata": {
        "id": "f2D94wP0Mpil"
      },
      "source": [
        "# いまここ"
      ]
    },
    {
      "cell_type": "markdown",
      "metadata": {
        "id": "ZcHShAmzoRp1"
      },
      "source": [
        "`R`と python はnumpyとpandasというライブラリーがあり、リストと2を比べて `[False, False, True, True]`のようなブール型のリストを返す機能がある。\n",
        "\n",
        "対応する要素が`n`より大きいかどうかをブール型の要素のリストで返す関数を作る。\n"
      ]
    },
    {
      "cell_type": "code",
      "metadata": {
        "id": "tCvFZoKLoVrC",
        "colab": {
          "base_uri": "https://localhost:8080/",
          "height": 34
        },
        "outputId": "b8958aa9-c7e1-4aa7-a763-cce792fdf776"
      },
      "source": [
        "def elementwise_greater_than(L, thresh):\n",
        "    \"\"\"Return a list with the same length as L, where the value at index i is \n",
        "    True if L[i] is greater than thresh, and False otherwise.\n",
        "    \n",
        "    >>> elementwise_greater_than([1, 2, 3, 4], 2)\n",
        "    [False, False, True, True]\n",
        "    \"\"\"\n",
        "    answer = []\n",
        "    for num in L :\n",
        "        answer.append(num > thresh)\n",
        "    return answer\n",
        "\n",
        "\n",
        "elementwise_greater_than([1, 2, 3, 4], 2)\n"
      ],
      "execution_count": null,
      "outputs": [
        {
          "output_type": "execute_result",
          "data": {
            "text/plain": [
              "[False, False, True, True]"
            ]
          },
          "metadata": {
            "tags": []
          },
          "execution_count": 17
        }
      ]
    },
    {
      "cell_type": "markdown",
      "metadata": {
        "id": "w2q2tgL8oW--"
      },
      "source": [
        "\n",
        "### 問題 3\n",
        "\n",
        "食事のリストについて、同じ食事が2日続けて出されていれば`True`、そうでなければ`False`を返すプログラムを書く。\n"
      ]
    },
    {
      "cell_type": "code",
      "metadata": {
        "id": "_nHwkmnBoZHK",
        "colab": {
          "base_uri": "https://localhost:8080/",
          "height": 50
        },
        "outputId": "1684f864-13aa-44e1-854a-ee343ad309d7"
      },
      "source": [
        "def menu_is_boring(meals):\n",
        "    \"\"\"Given a list of meals served over some period of time, return True if the\n",
        "    same meal has ever been served two days in a row, and False otherwise.\n",
        "    \"\"\"\n",
        "    answer = False\n",
        "    for i in range(len(meals) - 1) :\n",
        "        if meals[i] == meals[i + 1] :\n",
        "            answer = True\n",
        "    return answer\n",
        "\n",
        "meals = [\"curry\", \"cutlet\", \"soup\", \"sushi\"]\n",
        "print (menu_is_boring(meals))\n",
        "meals = [\"curry\", \"cutlet\",  \"soup\", \"sushi\", \"sushi\"]\n",
        "print (menu_is_boring(meals))\n"
      ],
      "execution_count": null,
      "outputs": [
        {
          "output_type": "stream",
          "text": [
            "False\n",
            "True\n"
          ],
          "name": "stdout"
        }
      ]
    },
    {
      "cell_type": "markdown",
      "metadata": {
        "id": "XsM3R2JRoaxm"
      },
      "source": [
        "### 問題 4\n",
        "\n",
        "python  カジノにはブラックジャックのテーブルの横にスロットマシンがある。\n",
        "\n",
        "`play_slot_machine()`を実行すると、賞金がでる。普通は0ドルを返してくるが、運がよければ大金が手に入る。\n",
        "\n",
        "試しにやってみよう。"
      ]
    },
    {
      "cell_type": "code",
      "metadata": {
        "id": "wvY-BRAGocR3"
      },
      "source": [
        "# play_slot_machine()"
      ],
      "execution_count": null,
      "outputs": []
    },
    {
      "cell_type": "markdown",
      "metadata": {
        "id": "oZdk9kPWoeZI"
      },
      "source": [
        "ところで、1回1ドルかかるって言ったっけ。気にしなくていい、あとで請求書が行くから。\n",
        "\n",
        "1回スロットマシンでプレイするたびの期待される儲け(ロス)はいくらか。カジノはそれを秘密にするけれど、モンテカルロ法によって推測することができる。シミュレーションで回数を繰り返して平均値をとることによって期待値を計算する方法である。\n",
        "\n",
        "次の関数を完成させる。"
      ]
    },
    {
      "cell_type": "code",
      "metadata": {
        "id": "-6-lKStLoi8v"
      },
      "source": [
        "def estimate_average_slot_payout(n_runs):\n",
        "    \"\"\"Run the slot machine n_runs times and return the average net profit per run.\n",
        "    Example calls (note that return value is nondeterministic!):\n",
        "    >>> estimate_average_slot_payout(1)\n",
        "    -1\n",
        "    >>> estimate_average_slot_payout(1)\n",
        "    0.5\n",
        "    \"\"\"\n",
        "    result = []\n",
        "    for x in range(1, n_runs):\n",
        "        result.append(play_slot_machine())\n",
        "    return (sum(result) - n_runs)/n_runs\n",
        "\n",
        "\n"
      ],
      "execution_count": null,
      "outputs": []
    },
    {
      "cell_type": "markdown",
      "metadata": {
        "id": "LZKUpBZuMyVR"
      },
      "source": [
        "# ここから kaggle06string.ipynb"
      ]
    },
    {
      "cell_type": "markdown",
      "metadata": {
        "id": "QLvWXHtzM5qg"
      },
      "source": [
        "# 文字列処理"
      ]
    },
    {
      "cell_type": "markdown",
      "metadata": {
        "id": "kYx20gNtAiGy"
      },
      "source": [
        "# kaggle06string.ipynb"
      ]
    },
    {
      "cell_type": "markdown",
      "metadata": {
        "id": "5K849kXOfnPj"
      },
      "source": [
        "# メモ\n",
        "\n",
        "1.  kaggleのPython tutorialをベスにColabのノートブックを作成している。\n",
        "1.  Colabで開いて読まれることを想定。\n",
        "1.  元ファイル (\n",
        "https://www.kaggle.com/colinmorris/strings-and-dictionaries )\n",
        "\n"
      ]
    },
    {
      "cell_type": "markdown",
      "metadata": {
        "id": "x2LVPJLMA11H"
      },
      "source": [
        "# 文字列\n",
        "\n",
        "Pythonは文字列の扱いが得意で、この章ではPythonに組み込まれている関数とフォーマット処理について述べる。\n",
        "\n",
        "文字列操作はしばしば科学研究の文脈で使われ、Pythonの特典のひとつと言える。\n"
      ]
    },
    {
      "cell_type": "markdown",
      "metadata": {
        "id": "5m3Y_QU8RwKT"
      },
      "source": [
        "### 文字列文法\n",
        "\n",
        "復習になるが、Pythonの文字列はシングルクォートでもダブルクォートでも作ることができて、機能的に全く同じである。\n"
      ]
    },
    {
      "cell_type": "code",
      "metadata": {
        "id": "_jcckYmDRysY",
        "colab": {
          "base_uri": "https://localhost:8080/",
          "height": 34
        },
        "outputId": "c1b1d993-7b91-4626-9137-60378f998309"
      },
      "source": [
        "x = 'Pluto is a planet'\n",
        "y = \"Pluto is a planet\"\n",
        "x == y"
      ],
      "execution_count": null,
      "outputs": [
        {
          "output_type": "execute_result",
          "data": {
            "text/plain": [
              "True"
            ]
          },
          "metadata": {
            "tags": []
          },
          "execution_count": 1
        }
      ]
    },
    {
      "cell_type": "markdown",
      "metadata": {
        "id": "BLUcgTl-R0l4"
      },
      "source": [
        "文字列がアポストロフィなどシングルクォートを含んでいる場合はダブルクォートが便利だし、逆にダブルクォートを含んでいる場合はシングルクォートが便利。\n"
      ]
    },
    {
      "cell_type": "code",
      "metadata": {
        "id": "-DJ8dJPXR5dK",
        "colab": {
          "base_uri": "https://localhost:8080/",
          "height": 50
        },
        "outputId": "04e31ffc-f867-406a-e7ec-9a529acceeb5"
      },
      "source": [
        "print(\"Pluto's a planet!\")\n",
        "print('My dog is named \"Pluto\"')"
      ],
      "execution_count": null,
      "outputs": [
        {
          "output_type": "stream",
          "text": [
            "Pluto's a planet!\n",
            "My dog is named \"Pluto\"\n"
          ],
          "name": "stdout"
        }
      ]
    },
    {
      "cell_type": "markdown",
      "metadata": {
        "id": "_DNvo59QR7O5"
      },
      "source": [
        "シングルクォートで囲んだ文字列の中にシングルクォートがあればエラーになる。\n"
      ]
    },
    {
      "cell_type": "code",
      "metadata": {
        "id": "quyLN7KQSDT_"
      },
      "source": [
        "# 'Pluto's a planet!'"
      ],
      "execution_count": null,
      "outputs": []
    },
    {
      "cell_type": "markdown",
      "metadata": {
        "id": "g9muXd1QSE5U"
      },
      "source": [
        "このような場合、バックスラッシュでエスケープすることができる。\n"
      ]
    },
    {
      "cell_type": "code",
      "metadata": {
        "id": "9SS6QbnxSGrt",
        "colab": {
          "base_uri": "https://localhost:8080/",
          "height": 35
        },
        "outputId": "70ad1a7f-b7be-4f4a-c717-5705e39a9f6a"
      },
      "source": [
        "'Pluto\\'s a planet!'"
      ],
      "execution_count": null,
      "outputs": [
        {
          "output_type": "execute_result",
          "data": {
            "application/vnd.google.colaboratory.intrinsic": {
              "type": "string"
            },
            "text/plain": [
              "\"Pluto's a planet!\""
            ]
          },
          "metadata": {
            "tags": []
          },
          "execution_count": 4
        }
      ]
    },
    {
      "cell_type": "markdown",
      "metadata": {
        "id": "7pmynJS0SJXq"
      },
      "source": [
        "次の表はバックスラッシュの用法についてまとめたもの。\n"
      ]
    },
    {
      "cell_type": "markdown",
      "metadata": {
        "id": "2FRAyEgtSK_h"
      },
      "source": [
        "| What you type... |\tWhat you get |\texample\t| print(example) |\n",
        "| --- | --- | --- | --- |\n",
        "|\\\\'  |\t'\t| 'What\\\\'s up?'\t| What's up? |\n",
        "| \\\\\"  |\t\"\t| \"That's \\\\\"cool\\\\\"\\\" |\tThat's \"cool\" |\n",
        "| \\\\\\  |\t\\\t| \"Look, a mountain: /\\\\\"\t| Look, a mountain: /\\ |\n",
        "| \\\\n  |\t | \"1\\n2 3\" |\t1  |\n",
        "|  |  | | 2 3 |\n"
      ]
    },
    {
      "cell_type": "markdown",
      "metadata": {
        "id": "2XbJYKLpSNU8"
      },
      "source": [
        "表の最後の行の`\\n`は、改行文字を表し、Pythonでは改行して新しい行になる。\n"
      ]
    },
    {
      "cell_type": "code",
      "metadata": {
        "id": "PdE75B7cSQE0",
        "colab": {
          "base_uri": "https://localhost:8080/",
          "height": 50
        },
        "outputId": "5b2056e6-e431-4867-8348-3deda7147011"
      },
      "source": [
        "hello = \"hello\\nworld\"\n",
        "print(hello)"
      ],
      "execution_count": null,
      "outputs": [
        {
          "output_type": "stream",
          "text": [
            "hello\n",
            "world\n"
          ],
          "name": "stdout"
        }
      ]
    },
    {
      "cell_type": "markdown",
      "metadata": {
        "id": "X0P8Z55PSSnS"
      },
      "source": [
        "さらにPythonの3重引用符は、｀Enter`による改行をうけつける。つまり、みたままの形で文字列を変数に入れることができる。すでに`docstring`で見てきているが、どこでもできる。\n"
      ]
    },
    {
      "cell_type": "code",
      "metadata": {
        "id": "dyGjStwaSUmi",
        "colab": {
          "base_uri": "https://localhost:8080/",
          "height": 70
        },
        "outputId": "ca26c216-702d-43ab-8eef-038261dcbe9f"
      },
      "source": [
        "triplequoted_hello = \"\"\"hello\n",
        "world\"\"\"\n",
        "print(triplequoted_hello)\n",
        "triplequoted_hello == 'hello\\nworld'"
      ],
      "execution_count": null,
      "outputs": [
        {
          "output_type": "stream",
          "text": [
            "hello\n",
            "world\n"
          ],
          "name": "stdout"
        },
        {
          "output_type": "execute_result",
          "data": {
            "text/plain": [
              "True"
            ]
          },
          "metadata": {
            "tags": []
          },
          "execution_count": 11
        }
      ]
    },
    {
      "cell_type": "markdown",
      "metadata": {
        "id": "naFxE9IhSWF7"
      },
      "source": [
        "`printf()`関数は自動的に改行コードを最後に入れる。デフォルトの`¥n`を入れさせないためには次のようにする。\n"
      ]
    },
    {
      "cell_type": "code",
      "metadata": {
        "id": "_Fa_VprGSXnj",
        "colab": {
          "base_uri": "https://localhost:8080/",
          "height": 70
        },
        "outputId": "4db6c405-f97d-4d19-fd57-31361aed99cc"
      },
      "source": [
        "print(\"hello\")\n",
        "print(\"world\")\n",
        "print(\"hello\", end='')\n",
        "print(\"pluto\", end='')"
      ],
      "execution_count": null,
      "outputs": [
        {
          "output_type": "stream",
          "text": [
            "hello\n",
            "world\n",
            "hellopluto"
          ],
          "name": "stdout"
        }
      ]
    },
    {
      "cell_type": "markdown",
      "metadata": {
        "id": "kIAb25k8SZc7"
      },
      "source": [
        "### 文字列とリスト\n",
        "\n",
        "文字列`string`は文字`character`のシーケンス`sequence`、リスト、とみなすことができて、リストについてのほとんどの関数やメソッドが使える。\n"
      ]
    },
    {
      "cell_type": "code",
      "metadata": {
        "id": "GVRcyZj1Sb6i",
        "colab": {
          "base_uri": "https://localhost:8080/",
          "height": 35
        },
        "outputId": "32e41b8c-bb6d-431c-c2c6-fe12d39627c4"
      },
      "source": [
        "# Indexing\n",
        "planet = 'Pluto'\n",
        "planet[0]"
      ],
      "execution_count": null,
      "outputs": [
        {
          "output_type": "execute_result",
          "data": {
            "application/vnd.google.colaboratory.intrinsic+json": {
              "type": "string"
            },
            "text/plain": [
              "'P'"
            ]
          },
          "metadata": {
            "tags": []
          },
          "execution_count": 13
        }
      ]
    },
    {
      "cell_type": "code",
      "metadata": {
        "id": "5UetN5SISdYl",
        "colab": {
          "base_uri": "https://localhost:8080/",
          "height": 35
        },
        "outputId": "2506b61c-8b95-4df0-ebc2-8f4ff678cff3"
      },
      "source": [
        "# Slicing\n",
        "planet[-3:]\n"
      ],
      "execution_count": null,
      "outputs": [
        {
          "output_type": "execute_result",
          "data": {
            "application/vnd.google.colaboratory.intrinsic+json": {
              "type": "string"
            },
            "text/plain": [
              "'uto'"
            ]
          },
          "metadata": {
            "tags": []
          },
          "execution_count": 14
        }
      ]
    },
    {
      "cell_type": "code",
      "metadata": {
        "id": "W1Xd1fpNSf3H",
        "colab": {
          "base_uri": "https://localhost:8080/",
          "height": 35
        },
        "outputId": "90d1ac8c-966e-4f41-e0af-806dd4acd93c"
      },
      "source": [
        "# How long is this string?\n",
        "len(planet)"
      ],
      "execution_count": null,
      "outputs": [
        {
          "output_type": "execute_result",
          "data": {
            "text/plain": [
              "5"
            ]
          },
          "metadata": {
            "tags": []
          },
          "execution_count": 15
        }
      ]
    },
    {
      "cell_type": "code",
      "metadata": {
        "id": "J-zZ_GEuSiZL",
        "colab": {
          "base_uri": "https://localhost:8080/",
          "height": 35
        },
        "outputId": "f2ee8d19-3837-47dc-bf6f-f4d791f35505"
      },
      "source": [
        "# Yes, we can even loop over them\n",
        "[char+'! ' for char in planet]"
      ],
      "execution_count": null,
      "outputs": [
        {
          "output_type": "execute_result",
          "data": {
            "text/plain": [
              "['P! ', 'l! ', 'u! ', 't! ', 'o! ']"
            ]
          },
          "metadata": {
            "tags": []
          },
          "execution_count": 16
        }
      ]
    },
    {
      "cell_type": "markdown",
      "metadata": {
        "id": "VNpfyMSmSj9x"
      },
      "source": [
        "しかし!!!!\n",
        "\n",
        "リストと文字列の最大の違いは、文字列はイミュータブル`immutable`だと言うことだ。文字列は変更できない。\n"
      ]
    },
    {
      "cell_type": "code",
      "metadata": {
        "id": "BPZyz4VXSl-H"
      },
      "source": [
        "# planet[0] = 'B'\n",
        "# planet.append doesn't work either\n",
        "\n",
        "# TypeError: 'str' object does not support item assignment"
      ],
      "execution_count": null,
      "outputs": []
    },
    {
      "cell_type": "code",
      "metadata": {
        "id": "uNifsGul7hdt",
        "colab": {
          "base_uri": "https://localhost:8080/",
          "height": 35
        },
        "outputId": "41a7b242-6b6e-490a-8c24-f482b69ec778"
      },
      "source": [
        "type (\"\")"
      ],
      "execution_count": null,
      "outputs": [
        {
          "output_type": "execute_result",
          "data": {
            "text/plain": [
              "str"
            ]
          },
          "metadata": {
            "tags": []
          },
          "execution_count": 17
        }
      ]
    },
    {
      "cell_type": "markdown",
      "metadata": {
        "id": "pVRDChLjSpNR"
      },
      "source": [
        "### 文字列メソッド\n",
        "\n",
        "文字列型`str`はたくさんの便利なメソッドがある。ここで紹介するのはほんの一部である。\n"
      ]
    },
    {
      "cell_type": "code",
      "metadata": {
        "id": "QovR__QiSq1X",
        "colab": {
          "base_uri": "https://localhost:8080/",
          "height": 35
        },
        "outputId": "6e4f238e-4be4-4b65-c87f-75f73d30b26f"
      },
      "source": [
        "# ALL CAPS\n",
        "claim = \"Pluto is a planet!\"\n",
        "claim.upper()\n"
      ],
      "execution_count": null,
      "outputs": [
        {
          "output_type": "execute_result",
          "data": {
            "application/vnd.google.colaboratory.intrinsic+json": {
              "type": "string"
            },
            "text/plain": [
              "'PLUTO IS A PLANET!'"
            ]
          },
          "metadata": {
            "tags": []
          },
          "execution_count": 18
        }
      ]
    },
    {
      "cell_type": "code",
      "metadata": {
        "id": "FUb3KBsgSsPe",
        "colab": {
          "base_uri": "https://localhost:8080/",
          "height": 35
        },
        "outputId": "2f02c5b2-6c1d-45a1-bb65-4a7d8ef6307a"
      },
      "source": [
        "# all lowercase\n",
        "claim.lower()"
      ],
      "execution_count": null,
      "outputs": [
        {
          "output_type": "execute_result",
          "data": {
            "application/vnd.google.colaboratory.intrinsic+json": {
              "type": "string"
            },
            "text/plain": [
              "'pluto is a planet!'"
            ]
          },
          "metadata": {
            "tags": []
          },
          "execution_count": 23
        }
      ]
    },
    {
      "cell_type": "code",
      "metadata": {
        "id": "rZTwT6Z0Sts6",
        "colab": {
          "base_uri": "https://localhost:8080/",
          "height": 35
        },
        "outputId": "89fe1df7-9b7b-4652-b9f3-5c3e3c008f1a"
      },
      "source": [
        "# Searching for the first index of a substring\n",
        "claim.index('plan')"
      ],
      "execution_count": null,
      "outputs": [
        {
          "output_type": "execute_result",
          "data": {
            "text/plain": [
              "11"
            ]
          },
          "metadata": {
            "tags": []
          },
          "execution_count": 24
        }
      ]
    },
    {
      "cell_type": "code",
      "metadata": {
        "id": "oqXxoYC3W5kd",
        "colab": {
          "base_uri": "https://localhost:8080/",
          "height": 35
        },
        "outputId": "64e3de82-e570-43a2-fe38-99f788684972"
      },
      "source": [
        "claim.startswith(planet)"
      ],
      "execution_count": null,
      "outputs": [
        {
          "output_type": "execute_result",
          "data": {
            "text/plain": [
              "True"
            ]
          },
          "metadata": {
            "tags": []
          },
          "execution_count": 25
        }
      ]
    },
    {
      "cell_type": "code",
      "metadata": {
        "id": "GikS40lHW--A",
        "colab": {
          "base_uri": "https://localhost:8080/",
          "height": 35
        },
        "outputId": "7094ec3d-610f-4ba5-97ab-f525d32d1a07"
      },
      "source": [
        "claim.endswith('dwarf planet')"
      ],
      "execution_count": null,
      "outputs": [
        {
          "output_type": "execute_result",
          "data": {
            "text/plain": [
              "False"
            ]
          },
          "metadata": {
            "tags": []
          },
          "execution_count": 26
        }
      ]
    },
    {
      "cell_type": "markdown",
      "metadata": {
        "id": "C4lBwSxpSuwz"
      },
      "source": [
        "### 文字列をリスト、リストを文字列に変換`split()`と`join()`\n",
        "\n",
        "`str.split()`はデフォルトはスペースで文字列を短い文字列のリストに変換する。長い文字列から単語を切り出すのに使える。\n"
      ]
    },
    {
      "cell_type": "code",
      "metadata": {
        "id": "400lbjnjSv-0",
        "colab": {
          "base_uri": "https://localhost:8080/",
          "height": 35
        },
        "outputId": "b3a1074a-8644-4629-c6aa-47bbae652160"
      },
      "source": [
        "split = \"Pluto is a planet!\"\n",
        "words = claim.split()\n",
        "\n",
        "words"
      ],
      "execution_count": null,
      "outputs": [
        {
          "output_type": "execute_result",
          "data": {
            "text/plain": [
              "['Pluto', 'is', 'a', 'planet!']"
            ]
          },
          "metadata": {
            "tags": []
          },
          "execution_count": 28
        }
      ]
    },
    {
      "cell_type": "markdown",
      "metadata": {
        "id": "8VISfu3mSxXP"
      },
      "source": [
        "ホワイトスペース以外の切れ目で切り分けたいときもあるでしょう。\n",
        "\n",
        "例えば :"
      ]
    },
    {
      "cell_type": "code",
      "metadata": {
        "id": "ZtRv5UdISzde",
        "colab": {
          "base_uri": "https://localhost:8080/",
          "height": 35
        },
        "outputId": "6bd107c3-e47a-4d6b-d97e-e2eaed3e8cb1"
      },
      "source": [
        "datestr = '1956-01-31'\n",
        "\n",
        "year, month, day = datestr.split('-')\n",
        "\n",
        "(year, month, day)"
      ],
      "execution_count": null,
      "outputs": [
        {
          "output_type": "execute_result",
          "data": {
            "text/plain": [
              "('1956', '01', '31')"
            ]
          },
          "metadata": {
            "tags": []
          },
          "execution_count": 31
        }
      ]
    },
    {
      "cell_type": "markdown",
      "metadata": {
        "id": "boWa9cdSS0b0"
      },
      "source": [
        "`str.join()`は逆に文字列のリストをひとつの文字列にする。関数を呼び出す際にセパレーターを指定する。\n"
      ]
    },
    {
      "cell_type": "code",
      "metadata": {
        "id": "s16WCzttS1y1",
        "colab": {
          "base_uri": "https://localhost:8080/",
          "height": 35
        },
        "outputId": "547c8c5e-dbbb-4834-986b-aadf9aad27fa"
      },
      "source": [
        "'/'.join([month, day, year])"
      ],
      "execution_count": null,
      "outputs": [
        {
          "output_type": "execute_result",
          "data": {
            "application/vnd.google.colaboratory.intrinsic+json": {
              "type": "string"
            },
            "text/plain": [
              "'01/31/1956'"
            ]
          },
          "metadata": {
            "tags": []
          },
          "execution_count": 33
        }
      ]
    },
    {
      "cell_type": "code",
      "metadata": {
        "id": "otVdbd4QayIJ",
        "colab": {
          "base_uri": "https://localhost:8080/",
          "height": 35
        },
        "outputId": "8d238368-9cb6-4d93-ee6a-3ca8e500cec0"
      },
      "source": [
        "# Yes, we can put unicode characters right in our string literals :)\n",
        "' 👏 '.join([word.upper() for word in words])\n",
        "'PLUTO 👏 IS 👏 A 👏 PLANET!'\n"
      ],
      "execution_count": null,
      "outputs": [
        {
          "output_type": "execute_result",
          "data": {
            "application/vnd.google.colaboratory.intrinsic+json": {
              "type": "string"
            },
            "text/plain": [
              "'PLUTO 👏 IS 👏 A 👏 PLANET!'"
            ]
          },
          "metadata": {
            "tags": []
          },
          "execution_count": 34
        }
      ]
    },
    {
      "cell_type": "markdown",
      "metadata": {
        "id": "UX_iTnmoa7Dj"
      },
      "source": [
        "### 文字列の整形 `.format()`"
      ]
    },
    {
      "cell_type": "markdown",
      "metadata": {
        "id": "kZAHvg87S3AZ"
      },
      "source": [
        "Pythonは`+`で文字列を結合できる。"
      ]
    },
    {
      "cell_type": "code",
      "metadata": {
        "id": "L-MF-CM6S4ou",
        "colab": {
          "base_uri": "https://localhost:8080/",
          "height": 35
        },
        "outputId": "90b67c08-4f53-465c-d832-4e74c68b5899"
      },
      "source": [
        "planet + ', we miss you.'\n"
      ],
      "execution_count": null,
      "outputs": [
        {
          "output_type": "execute_result",
          "data": {
            "application/vnd.google.colaboratory.intrinsic+json": {
              "type": "string"
            },
            "text/plain": [
              "'Pluto, we miss you.'"
            ]
          },
          "metadata": {
            "tags": []
          },
          "execution_count": 35
        }
      ]
    },
    {
      "cell_type": "markdown",
      "metadata": {
        "id": "i-M2cNnMS51b"
      },
      "source": [
        "文字列でないものを文字列と結合するときは、`str())`で文字列変換してから結合する。"
      ]
    },
    {
      "cell_type": "code",
      "metadata": {
        "id": "Et00pBNpS68l",
        "colab": {
          "base_uri": "https://localhost:8080/",
          "height": 35
        },
        "outputId": "b445b098-7393-448a-c73a-5607768106a5"
      },
      "source": [
        "position = 9\n",
        "planet = 'Pluto'\n",
        "planet + \", you'll always be the \" + str(position) + \"th planet to me.\""
      ],
      "execution_count": null,
      "outputs": [
        {
          "output_type": "execute_result",
          "data": {
            "application/vnd.google.colaboratory.intrinsic+json": {
              "type": "string"
            },
            "text/plain": [
              "\"Pluto, you'll always be the 9th planet to me.\""
            ]
          },
          "metadata": {
            "tags": []
          },
          "execution_count": 3
        }
      ]
    },
    {
      "cell_type": "markdown",
      "metadata": {
        "id": "gebHj9cpS9xo"
      },
      "source": [
        "`str.format()`は、引数に挿入したい値を入れるので、扱いやすい。\n",
        "\n",
        "プレースフォルダーとして`{}`を使い、引数は文字列以外も自動的に変換されるので`str{}`で文字列変換する必要がない。\n"
      ]
    },
    {
      "cell_type": "code",
      "metadata": {
        "id": "9g8ywliPS-91",
        "colab": {
          "base_uri": "https://localhost:8080/",
          "height": 35
        },
        "outputId": "817b6c2e-786f-4bee-e62c-dcbcc51b1415"
      },
      "source": [
        "# use str.format()\n",
        "\"{}, you'll always be the {}th planet to me.\".format(planet, position)"
      ],
      "execution_count": null,
      "outputs": [
        {
          "output_type": "execute_result",
          "data": {
            "application/vnd.google.colaboratory.intrinsic+json": {
              "type": "string"
            },
            "text/plain": [
              "\"Pluto, you'll always be the 9th planet to me.\""
            ]
          },
          "metadata": {
            "tags": []
          },
          "execution_count": 4
        }
      ]
    },
    {
      "cell_type": "markdown",
      "metadata": {
        "id": "ysU-kBQlS_9x"
      },
      "source": [
        "`str.format()`はもっとすごいことができる。\n",
        "\n",
        "以下はその一例。\n"
      ]
    },
    {
      "cell_type": "code",
      "metadata": {
        "id": "hcQ0CSnvTBFA",
        "colab": {
          "base_uri": "https://localhost:8080/",
          "height": 35
        },
        "outputId": "2d6beaaf-bd05-450d-9eb9-c18162b70c46"
      },
      "source": [
        "pluto_mass = 1.303 * 10**22\n",
        "earth_mass = 5.9722 * 10**24\n",
        "population = 52910390\n",
        "# 2 decimal points   3 decimal points, format as percent     separate with commas\n",
        "\"{} weighs about {:.2} kilograms ({:.3%} of Earth's mass). It is home to {:,} Plutonians.\".format(\n",
        "    planet, pluto_mass, pluto_mass / earth_mass, population,\n",
        ")\n"
      ],
      "execution_count": null,
      "outputs": [
        {
          "output_type": "execute_result",
          "data": {
            "application/vnd.google.colaboratory.intrinsic+json": {
              "type": "string"
            },
            "text/plain": [
              "\"Pluto weighs about 1.3e+22 kilograms (0.218% of Earth's mass). It is home to 52,910,390 Plutonians.\""
            ]
          },
          "metadata": {
            "tags": []
          },
          "execution_count": 5
        }
      ]
    },
    {
      "cell_type": "code",
      "metadata": {
        "id": "NkjCPLI7PdaN",
        "colab": {
          "base_uri": "https://localhost:8080/",
          "height": 84
        },
        "outputId": "132e04e4-bd6c-4fae-aad8-efaf0ac653b9"
      },
      "source": [
        "# Referring to format() arguments by index, starting from 0\n",
        "s = \"\"\"Pluto's a {0}.\n",
        "No, it's a {1}.\n",
        "{0}!\n",
        "{1}!\"\"\".format('planet', 'dwarf planet')\n",
        "print(s)"
      ],
      "execution_count": null,
      "outputs": [
        {
          "output_type": "stream",
          "text": [
            "Pluto's a planet.\n",
            "No, it's a dwarf planet.\n",
            "planet!\n",
            "dwarf planet!\n"
          ],
          "name": "stdout"
        }
      ]
    },
    {
      "cell_type": "markdown",
      "metadata": {
        "id": "nACCusLoTCFn"
      },
      "source": [
        "`str.form`だけで1冊の本が書けます。興味のある方は、pyformat.info ( https://pyformat.info/ )と公式ドキュメント ( https://docs.python.org/3/library/string.html#string-formatting )を参照のこと。"
      ]
    },
    {
      "cell_type": "markdown",
      "metadata": {
        "id": "FgYRw1n-TDa2"
      },
      "source": [
        "# 辞書\n",
        "\n",
        "辞書 `dictionary` はPythonに組み込まれたデータ型で、キーと値をマップしたもの。\n"
      ]
    },
    {
      "cell_type": "code",
      "metadata": {
        "id": "5EFBMlN_TEiA",
        "colab": {
          "base_uri": "https://localhost:8080/",
          "height": 34
        },
        "outputId": "5bef05f3-9d07-44ec-abfe-f719c32d12e2"
      },
      "source": [
        "numbers = {'one':1, 'two':2, 'three':3}\n",
        "numbers"
      ],
      "execution_count": null,
      "outputs": [
        {
          "output_type": "stream",
          "text": [
            "{'one': 1, 'two': 2, 'three': 3}\n"
          ],
          "name": "stdout"
        }
      ]
    },
    {
      "cell_type": "markdown",
      "metadata": {
        "id": "1GzoJJQUTFvr"
      },
      "source": [
        "この例の場合、'one', 'two', 'three'がキーで、1, 2, 3 が対応する値。\n",
        "\n",
        "値はリストや文字列のときのインデクスと似た文法でカギカッコ(`square bracket`)でアクセスできる。\n"
      ]
    },
    {
      "cell_type": "code",
      "metadata": {
        "id": "lDq_9HfKTGnZ",
        "colab": {
          "base_uri": "https://localhost:8080/",
          "height": 35
        },
        "outputId": "2d3d2228-95dd-4b67-e4ad-542a1f146e81"
      },
      "source": [
        "numbers = {'one':1, 'two':2, 'three':3}\n",
        "numbers['three']"
      ],
      "execution_count": null,
      "outputs": [
        {
          "output_type": "execute_result",
          "data": {
            "text/plain": [
              "3"
            ]
          },
          "metadata": {
            "tags": []
          },
          "execution_count": 2
        }
      ]
    },
    {
      "cell_type": "markdown",
      "metadata": {
        "id": "ADZPRWG1THYW"
      },
      "source": [
        "同じ文法で別のキー、値ペアを加える。\n"
      ]
    },
    {
      "cell_type": "code",
      "metadata": {
        "id": "RCJ7VNjMTIRA",
        "colab": {
          "base_uri": "https://localhost:8080/",
          "height": 35
        },
        "outputId": "f636a353-7b47-43fc-a2b7-2d64fe28334d"
      },
      "source": [
        "numbers = {'one':1, 'two':2, 'three':3}\n",
        "numbers['eleven'] = 11\n",
        "numbers"
      ],
      "execution_count": null,
      "outputs": [
        {
          "output_type": "execute_result",
          "data": {
            "text/plain": [
              "{'eleven': 11, 'one': 1, 'three': 3, 'two': 2}"
            ]
          },
          "metadata": {
            "tags": []
          },
          "execution_count": 3
        }
      ]
    },
    {
      "cell_type": "markdown",
      "metadata": {
        "id": "LNS09vWSTJjZ"
      },
      "source": [
        "すでにあるキーに結び付けられている値を変えるのも同じ。\n"
      ]
    },
    {
      "cell_type": "code",
      "metadata": {
        "id": "2QkQiPydTKpN",
        "colab": {
          "base_uri": "https://localhost:8080/",
          "height": 35
        },
        "outputId": "91ee1e7d-7292-4871-f8cb-df5ab623e155"
      },
      "source": [
        "numbers = {'one':1, 'two':2, 'three':3}\n",
        "numbers['one'] = 'Pluto'\n",
        "numbers"
      ],
      "execution_count": null,
      "outputs": [
        {
          "output_type": "execute_result",
          "data": {
            "text/plain": [
              "{'one': 'Pluto', 'three': 3, 'two': 2}"
            ]
          },
          "metadata": {
            "tags": []
          },
          "execution_count": 4
        }
      ]
    },
    {
      "cell_type": "markdown",
      "metadata": {
        "id": "E__eIT3_TLsS"
      },
      "source": [
        "リスト内包表記と似たやりかたで内包表記ができる。"
      ]
    },
    {
      "cell_type": "code",
      "metadata": {
        "id": "6FuRVTn2TM0i",
        "colab": {
          "base_uri": "https://localhost:8080/",
          "height": 155
        },
        "outputId": "02afae05-fcdc-4f50-b12f-f11bf4d188e1"
      },
      "source": [
        "planets = ['Mercury', 'Venus', 'Earth', 'Mars', 'Jupiter', 'Saturn', 'Uranus', 'Neptune']\n",
        "planet_to_initial = { planet: planet[0] for planet in planets }\n",
        "planet_to_initial"
      ],
      "execution_count": null,
      "outputs": [
        {
          "output_type": "execute_result",
          "data": {
            "text/plain": [
              "{'Earth': 'E',\n",
              " 'Jupiter': 'J',\n",
              " 'Mars': 'M',\n",
              " 'Mercury': 'M',\n",
              " 'Neptune': 'N',\n",
              " 'Saturn': 'S',\n",
              " 'Uranus': 'U',\n",
              " 'Venus': 'V'}"
            ]
          },
          "metadata": {
            "tags": []
          },
          "execution_count": 13
        }
      ]
    },
    {
      "cell_type": "markdown",
      "metadata": {
        "id": "E3NiaXZ9TNzR"
      },
      "source": [
        "`in` 演算子でキーの有無を知ることができる。"
      ]
    },
    {
      "cell_type": "code",
      "metadata": {
        "id": "x0kOs0s0TOsv",
        "colab": {
          "base_uri": "https://localhost:8080/",
          "height": 52
        },
        "outputId": "eab1607b-0cf9-4001-d6a5-2ca34da29130"
      },
      "source": [
        "print ('Saturn' in planet_to_initial)\n",
        "print ('Betelgeuse' in planet_to_initial)"
      ],
      "execution_count": null,
      "outputs": [
        {
          "output_type": "stream",
          "text": [
            "True\n",
            "False\n"
          ],
          "name": "stdout"
        }
      ]
    },
    {
      "cell_type": "markdown",
      "metadata": {
        "id": "tHY7e_OMTPms"
      },
      "source": [
        "辞書で`for`ループを行うとキーについてループする。\n"
      ]
    },
    {
      "cell_type": "code",
      "metadata": {
        "id": "mI8fEG97TRDU",
        "colab": {
          "base_uri": "https://localhost:8080/",
          "height": 69
        },
        "outputId": "a5d95369-372e-4700-d663-e2aa76286798"
      },
      "source": [
        "numbers = {'one':1, 'two':2, 'three':3}\n",
        "for k in numbers:\n",
        "    print(\"{} = {}\".format(k, numbers[k]))"
      ],
      "execution_count": null,
      "outputs": [
        {
          "output_type": "stream",
          "text": [
            "one = 1\n",
            "two = 2\n",
            "three = 3\n"
          ],
          "name": "stdout"
        }
      ]
    },
    {
      "cell_type": "markdown",
      "metadata": {
        "id": "_Msq4B8JTS3I"
      },
      "source": [
        "すべてのキーが欲しいときは`dict.keys()`、すべての値が欲しいときは`dict.values()`を使う。"
      ]
    },
    {
      "cell_type": "code",
      "metadata": {
        "id": "C-Rh7WXbTTvB",
        "colab": {
          "base_uri": "https://localhost:8080/",
          "height": 35
        },
        "outputId": "da75bba9-d494-4948-c017-e0cd8126ea16"
      },
      "source": [
        "planets = ['Mercury', 'Venus', 'Earth', 'Mars', 'Jupiter', 'Saturn', 'Uranus', 'Neptune']\n",
        "planet_to_initial = { planet: planet[0] for planet in planets }\n",
        "\n",
        "# Get all the initials, sort them alphabetically, and put them in a space-separated string.\n",
        "' '.join(sorted(planet_to_initial.values()))\n"
      ],
      "execution_count": null,
      "outputs": [
        {
          "output_type": "execute_result",
          "data": {
            "application/vnd.google.colaboratory.intrinsic+json": {
              "type": "string"
            },
            "text/plain": [
              "'E J M M N S U V'"
            ]
          },
          "metadata": {
            "tags": []
          },
          "execution_count": 16
        }
      ]
    },
    {
      "cell_type": "markdown",
      "metadata": {
        "id": "T2k0VJiCdCBA"
      },
      "source": [
        "キーと値のペアを同時に取得するには次のようにする。"
      ]
    },
    {
      "cell_type": "code",
      "metadata": {
        "id": "Yx1iNjdRTV60",
        "colab": {
          "base_uri": "https://localhost:8080/",
          "height": 155
        },
        "outputId": "341d0eff-79f7-40f6-d186-112c5743109f"
      },
      "source": [
        "planets = ['Mercury', 'Venus', 'Earth', 'Mars', 'Jupiter', 'Saturn', 'Uranus', 'Neptune']\n",
        "planet_to_initial = { planet: planet[0] for planet in planets }\n",
        "\n",
        "for planet, initial in planet_to_initial.items():\n",
        "    print(\"{} begins with \\\"{}\\\"\".format(planet.rjust(10), initial))"
      ],
      "execution_count": null,
      "outputs": [
        {
          "output_type": "stream",
          "text": [
            "   Mercury begins with \"M\"\n",
            "     Venus begins with \"V\"\n",
            "     Earth begins with \"E\"\n",
            "      Mars begins with \"M\"\n",
            "   Jupiter begins with \"J\"\n",
            "    Saturn begins with \"S\"\n",
            "    Uranus begins with \"U\"\n",
            "   Neptune begins with \"N\"\n"
          ],
          "name": "stdout"
        }
      ]
    },
    {
      "cell_type": "markdown",
      "metadata": {
        "id": "MbnHvNGFdOmu"
      },
      "source": [
        "'dict.items()'という専用のメソッドもある。"
      ]
    },
    {
      "cell_type": "code",
      "metadata": {
        "id": "n6M3o2c607O6",
        "colab": {
          "base_uri": "https://localhost:8080/",
          "height": 155
        },
        "outputId": "8ae32967-a395-4c74-a85a-889241859fb3"
      },
      "source": [
        "for pair in planet_to_initial.items() :\n",
        "     print(\"{} begins with \\\"{}\\\"\".format(pair[0], pair[1]))"
      ],
      "execution_count": null,
      "outputs": [
        {
          "output_type": "stream",
          "text": [
            "Mercury begins with \"M\"\n",
            "Venus begins with \"V\"\n",
            "Earth begins with \"E\"\n",
            "Mars begins with \"M\"\n",
            "Jupiter begins with \"J\"\n",
            "Saturn begins with \"S\"\n",
            "Uranus begins with \"U\"\n",
            "Neptune begins with \"N\"\n"
          ],
          "name": "stdout"
        }
      ]
    },
    {
      "cell_type": "markdown",
      "metadata": {
        "id": "W0VPNjGZTWzG"
      },
      "source": [
        "辞書のメソッドにほかにどんなものがあるかは、`help(dict)`、もしくは公式ドキュメントを参照のこと。"
      ]
    },
    {
      "cell_type": "markdown",
      "metadata": {
        "id": "UeMcY86PTaGD"
      },
      "source": [
        "# 練習問題"
      ]
    },
    {
      "cell_type": "markdown",
      "metadata": {
        "id": "nIXtWCWSTdE8"
      },
      "source": [
        "### 問題 0 文字列の長さ\n",
        "\n",
        "次のプログラムの結果を予想してから実行する。\n"
      ]
    },
    {
      "cell_type": "code",
      "metadata": {
        "id": "zAROb5mqUFt4",
        "colab": {
          "base_uri": "https://localhost:8080/",
          "height": 104
        },
        "outputId": "2fdca98f-dd6c-4bc1-fba0-60695820fb31"
      },
      "source": [
        "a = \"\"\n",
        "length = len(a)\n",
        "print (length)\n",
        "\n",
        "b = \"it's ok\"\n",
        "length = len(b)\n",
        "print (length)\n",
        "\n",
        "c = 'it\\'s ok'\n",
        "length = len(c)\n",
        "print (length)\n",
        "\n",
        "d = \"\"\"hey\"\"\"\n",
        "length = len(d)\n",
        "print (length)\n",
        "\n",
        "e = '\\n'\n",
        "length = len(e)\n",
        "print (length)"
      ],
      "execution_count": null,
      "outputs": [
        {
          "output_type": "stream",
          "text": [
            "0\n",
            "7\n",
            "7\n",
            "3\n",
            "1\n"
          ],
          "name": "stdout"
        }
      ]
    },
    {
      "cell_type": "markdown",
      "metadata": {
        "id": "QQCjZcQVUHUf"
      },
      "source": [
        "### 問題 1 データサイエンス\n",
        "\n",
        "データサイエンス学者は80%の時間をデータクリーニングに使い、残りの20%はデータクリーニングへの不平を言っている、という言い回しがある。\n",
        "\n",
        "アメリカの郵便番号をチェックするプログラムをつくる。今回は文字列がちょうど5桁であればオーケーとしよう。\n",
        "\n",
        "`str`のメソッドを調べるには`help(str)`を使う。"
      ]
    },
    {
      "cell_type": "code",
      "metadata": {
        "id": "rjZbw1-CUKcC",
        "colab": {
          "base_uri": "https://localhost:8080/",
          "height": 86
        },
        "outputId": "6534047d-838d-44f1-cc3b-579ff090229b"
      },
      "source": [
        "def is_valid_zip(zip_code):\n",
        "    \"\"\"Returns whether the input string is a valid (5 digit) zip code\n",
        "    \"\"\"\n",
        "    return len(zip_code) == 5\n",
        "\n",
        "print (is_valid_zip(\"12\"))\n",
        "print (is_valid_zip(\"12345\"))\n",
        "print (is_valid_zip(\"123456\"))\n",
        "print (is_valid_zip(\"\"))\n",
        "\n"
      ],
      "execution_count": null,
      "outputs": [
        {
          "output_type": "stream",
          "text": [
            "False\n",
            "True\n",
            "False\n",
            "False\n"
          ],
          "name": "stdout"
        }
      ]
    },
    {
      "cell_type": "markdown",
      "metadata": {
        "id": "35mV2wguUMCN"
      },
      "source": [
        "### 問題 2. フィルタリング\n",
        "\n",
        "とある研究者が数千のニュース記事を集めた。特定の単語で記事をフィルターにかけたいと考えている。そのための関数を作る。\n",
        "\n",
        "関数は次の基準を満たすものとする。\n",
        "\n",
        "- キーワードは単独で現れるものだけをとる。つまり\"closed\"だったら、\"enclosed\"は含まれない。\n",
        "- 大文字小文字は区別しない。つまりキーワードが\"closed\"ならば\"Closed the case.\"は含まれる。\n",
        "- ピリオドはマッチに影響しない。\"It is closed.\"は含まれる。他の句読点はないものとしてよい。"
      ]
    },
    {
      "cell_type": "code",
      "metadata": {
        "id": "W1of5bkYUOPF",
        "colab": {
          "base_uri": "https://localhost:8080/",
          "height": 35
        },
        "outputId": "cabde228-d800-48fa-da86-ec42ce536ccb"
      },
      "source": [
        "def word_search(doc_list, keyword):\n",
        "    \"\"\"\n",
        "    Takes a list of documents (each document is a string) and a keyword. \n",
        "    Returns list of the index values into the original list for all documents \n",
        "    containing the keyword.\n",
        "\n",
        "    Example:\n",
        "    doc_list = [\"The Learn Python Challenge Casino.\", \"They bought a car\", \"Casinoville\"]\n",
        "    >>> word_search(doc_list, 'casino')\n",
        "    >>> [0]\n",
        "    \"\"\"\n",
        "    match = [doc.lower().strip(\".\").split().count(keyword.lower()) for doc in doc_list]\n",
        "    dictOfMatch = { i : match[i] for i in range(0, len(match))}\n",
        "    return  [key for key in dictOfMatch if dictOfMatch[key] > 0]\n",
        "\n",
        "doc_list = [\"The Learn Python Challenge Casino.\", \"They bought a car\", \"Casinoville\"]\n",
        "word_search(doc_list, 'casino')\n"
      ],
      "execution_count": null,
      "outputs": [
        {
          "output_type": "execute_result",
          "data": {
            "text/plain": [
              "[0]"
            ]
          },
          "metadata": {
            "tags": []
          },
          "execution_count": 19
        }
      ]
    },
    {
      "cell_type": "markdown",
      "metadata": {
        "id": "XqM-LiFwUPX7"
      },
      "source": [
        "## 問題 3 複数キーワード検索\n",
        "\n",
        "次に、研究者は複数のキーワードで検索したい、と思った。\n",
        "\n",
        "いま作った`word_search`を利用して次の関数を作ること。\n"
      ]
    },
    {
      "cell_type": "code",
      "metadata": {
        "id": "b0gLA2d0UQhF",
        "colab": {
          "base_uri": "https://localhost:8080/",
          "height": 35
        },
        "outputId": "ea4de62d-7e7b-49ba-a1e0-7654a9d56c78"
      },
      "source": [
        "def multi_word_search(doc_list, keywords):\n",
        "    \"\"\"\n",
        "    Takes list of documents (each document is a string) and a list of keywords.  \n",
        "    Returns a dictionary where each key is a keyword, and the value is a list of indices\n",
        "    (from doc_list) of the documents containing that keyword\n",
        "\n",
        "    >>> doc_list = [\"The Learn Python Challenge Casino.\", \"They bought a car and a casino\", \"Casinoville\"]\n",
        "    >>> keywords = ['casino', 'they']\n",
        "    >>> multi_word_search(doc_list, keywords)\n",
        "    {'casino': [0, 1], 'they': [1]}\n",
        "    \"\"\"\n",
        "    dictOfMatch = { keyword : word_search(doc_list, keyword) for keyword in keywords }\n",
        "    \n",
        "    return dictOfMatch\n",
        "\n",
        "doc_list = [\"The Learn Python Challenge Casino.\", \"They bought a car and a casino\", \"Casinoville\"]\n",
        "keywords = ['casino', 'they']\n",
        "\n",
        "multi_word_search(doc_list, keywords)"
      ],
      "execution_count": null,
      "outputs": [
        {
          "output_type": "execute_result",
          "data": {
            "text/plain": [
              "{'casino': [0, 1], 'they': [1]}"
            ]
          },
          "metadata": {
            "tags": []
          },
          "execution_count": 26
        }
      ]
    },
    {
      "cell_type": "markdown",
      "metadata": {
        "id": "rtdFLPl_N0gF"
      },
      "source": [
        "# ここから kaggle07import.ipynb\n"
      ]
    },
    {
      "cell_type": "markdown",
      "metadata": {
        "id": "B-HUQUKJlyFG"
      },
      "source": [
        "# メモ\n",
        "\n",
        "1. kaggle の Python tutorial をベスに Colab ノートブックを作成している。\n",
        "1. Colab で開いて読まれることを想定。\n",
        "1. 元ファイル ( https://www.kaggle.com/colinmorris/working-with-external-libraries )\n"
      ]
    },
    {
      "cell_type": "markdown",
      "metadata": {
        "id": "u4_guYFInuq7"
      },
      "source": [
        "# はじめに\n",
        "\n",
        "この章では、インポート import、ライブラリー library とそのオブジェクト object、演算子オーバーロード operator overload について学ぶ。"
      ]
    },
    {
      "cell_type": "markdown",
      "metadata": {
        "id": "y8zUSv8vtenR"
      },
      "source": [
        "# Imports\n",
        "\n",
        "これまで学んできた型 type と関数 function は言語に始めから組み込まれているものだった。\n",
        "\n",
        "しかし、Python の利点は Python のために書かれ、データサイエンスなどで利用される高品質のライブラリーがたくさんあることである。\n",
        "\n",
        "そのいくつかは標準ライブラリーで、Pythonの動く環境ならば必ずあるが、それ以外はかならずしも Python と一緒ではないが、簡単に加えることができる。\n",
        "\n",
        "いずれにせよ、 import によってライブラリーにアクセスすることになる。\n",
        "</br>\n",
        "</br>\n"
      ]
    },
    {
      "cell_type": "code",
      "metadata": {
        "id": "1ltvjqdAHdon",
        "colab": {
          "base_uri": "https://localhost:8080/",
          "height": 34
        },
        "outputId": "c2f650e1-7771-425a-d36a-c2b086bdc7a8"
      },
      "source": [
        "import math\n",
        "\n",
        "print(\"It's math! It has type {}\".format(type(math)))\n"
      ],
      "execution_count": null,
      "outputs": [
        {
          "output_type": "stream",
          "text": [
            "It's math! It has type <class 'module'>\n"
          ],
          "name": "stdout"
        }
      ]
    },
    {
      "cell_type": "markdown",
      "metadata": {
        "id": "Us1Kkb6YHjT7"
      },
      "source": [
        " math はモジュールで、モジュールとは変数の集まり(ネームスペースと呼ばれる)のことである。関数 dir() を使うと math で使われるすべての name を見ることができる。\n",
        "</br>\n",
        "</br>"
      ]
    },
    {
      "cell_type": "code",
      "metadata": {
        "id": "n5cEe-d5HnW6",
        "colab": {
          "base_uri": "https://localhost:8080/",
          "height": 54
        },
        "outputId": "6db74edb-cca7-4f65-f408-b929a4bbca27"
      },
      "source": [
        "print(dir(math))"
      ],
      "execution_count": null,
      "outputs": [
        {
          "output_type": "stream",
          "text": [
            "['__doc__', '__loader__', '__name__', '__package__', '__spec__', 'acos', 'acosh', 'asin', 'asinh', 'atan', 'atan2', 'atanh', 'ceil', 'copysign', 'cos', 'cosh', 'degrees', 'e', 'erf', 'erfc', 'exp', 'expm1', 'fabs', 'factorial', 'floor', 'fmod', 'frexp', 'fsum', 'gamma', 'gcd', 'hypot', 'inf', 'isclose', 'isfinite', 'isinf', 'isnan', 'ldexp', 'lgamma', 'log', 'log10', 'log1p', 'log2', 'modf', 'nan', 'pi', 'pow', 'radians', 'sin', 'sinh', 'sqrt', 'tan', 'tanh', 'tau', 'trunc']\n"
          ],
          "name": "stdout"
        }
      ]
    },
    {
      "cell_type": "markdown",
      "metadata": {
        "id": "93hJU_E8Kgwk"
      },
      "source": [
        "```\n",
        "    ['__doc__', '__loader__', '__name__', '__package__', '__spec__', 'acos', \n",
        "    'acosh', 'asin', 'asinh', 'atan', 'atan2', 'atanh', 'ceil', 'copysign', \n",
        "    'cos', 'cosh', 'degrees', 'e', 'erf', 'erfc', 'exp', 'expm1', 'fabs', \n",
        "    'factorial', 'floor', 'fmod', 'frexp', 'fsum', 'gamma', 'gcd', 'hypot', \n",
        "    'inf', 'isclose', 'isfinite', 'isinf', 'isnan', 'ldexp', 'lgamma', 'log',\n",
        "    'log10', 'log1p', 'log2', 'modf', 'nan', 'pi', 'pow', 'radians', 'sin', \n",
        "    'sinh', 'sqrt', 'tan', 'tanh', 'tau', 'trunc']\n",
        " ```\n"
      ]
    },
    {
      "cell_type": "markdown",
      "metadata": {
        "id": "2qpo6DicHrXS"
      },
      "source": [
        "これらの変数にはドット・シンタクスでアクセスすることができる。いくつかは単純な値の変数でたとえば math.pi がある。\n",
        "</br>\n",
        "</br>"
      ]
    },
    {
      "cell_type": "code",
      "metadata": {
        "id": "XLVeVMFPHuPZ",
        "colab": {
          "base_uri": "https://localhost:8080/",
          "height": 34
        },
        "outputId": "027368d5-ead4-4996-be9d-d08c2c2f4475"
      },
      "source": [
        "print(\"pi to 4 significant digits = {:.4}\".format(math.pi))"
      ],
      "execution_count": null,
      "outputs": [
        {
          "output_type": "stream",
          "text": [
            "pi to 4 significant digits = 3.142\n"
          ],
          "name": "stdout"
        }
      ]
    },
    {
      "cell_type": "markdown",
      "metadata": {
        "id": "qbPzhVVUHxa1"
      },
      "source": [
        "しかし、モジュールのほとんどは関数であり、たとえば math.log がある。\n",
        "</br>\n",
        "</br>"
      ]
    },
    {
      "cell_type": "code",
      "metadata": {
        "id": "gSOBuH3iHzc-",
        "colab": {
          "base_uri": "https://localhost:8080/",
          "height": 34
        },
        "outputId": "06d2a2b8-c12a-4e7d-d1fc-c110d5726d2d"
      },
      "source": [
        "math.log(32, 2)"
      ],
      "execution_count": null,
      "outputs": [
        {
          "output_type": "execute_result",
          "data": {
            "text/plain": [
              "5.0"
            ]
          },
          "metadata": {
            "tags": []
          },
          "execution_count": 9
        }
      ]
    },
    {
      "cell_type": "markdown",
      "metadata": {
        "id": "jfwpcNAAH07M"
      },
      "source": [
        "もし、 math.log がなにをするかわからなければ help() を呼び出す。\n",
        "</br>\n",
        "</br>"
      ]
    },
    {
      "cell_type": "code",
      "metadata": {
        "id": "vGSlgo50H5Tj",
        "colab": {
          "base_uri": "https://localhost:8080/",
          "height": 151
        },
        "outputId": "64e1a0ad-5e95-4834-d760-1d4f1cbb6c6a"
      },
      "source": [
        "help(math.log)\n"
      ],
      "execution_count": null,
      "outputs": [
        {
          "output_type": "stream",
          "text": [
            "Help on built-in function log in module math:\n",
            "\n",
            "log(...)\n",
            "    log(x[, base])\n",
            "    \n",
            "    Return the logarithm of x to the given base.\n",
            "    If the base not specified, returns the natural logarithm (base e) of x.\n",
            "\n"
          ],
          "name": "stdout"
        }
      ]
    },
    {
      "cell_type": "markdown",
      "metadata": {
        "id": "4orYzNz3H_XR"
      },
      "source": [
        "モジュールそのもの help() を呼び出すこともできる。モジュール自体の高度な説明と、すべての関数と変数のドキュメントが得られる。\n",
        "</br>\n",
        "</br>"
      ]
    },
    {
      "cell_type": "code",
      "metadata": {
        "id": "tGw6ZQx8IBwW"
      },
      "source": [
        "help(math)"
      ],
      "execution_count": null,
      "outputs": []
    },
    {
      "cell_type": "markdown",
      "metadata": {
        "id": "MCc1KPhoIDBw"
      },
      "source": [
        "モジュールの関数を頻繁に呼び出すなら、モジュール名の alias を import 時に決めるとタイプの数を少し減らすことができる。\n",
        "</br>\n",
        "</br>"
      ]
    },
    {
      "cell_type": "markdown",
      "metadata": {
        "id": "oJS42mWFoWlB"
      },
      "source": [
        "# いまここ"
      ]
    },
    {
      "cell_type": "code",
      "metadata": {
        "id": "G_7kQ9CXIEUA",
        "colab": {
          "base_uri": "https://localhost:8080/",
          "height": 34
        },
        "outputId": "6b75f3df-de1d-44db-b4c9-eeb30c0e0e54"
      },
      "source": [
        "import math as mt\n",
        "mt.pi"
      ],
      "execution_count": null,
      "outputs": [
        {
          "output_type": "execute_result",
          "data": {
            "text/plain": [
              "3.141592653589793"
            ]
          },
          "metadata": {
            "tags": []
          },
          "execution_count": 12
        }
      ]
    },
    {
      "cell_type": "markdown",
      "metadata": {
        "id": "7kB7DppvIFo9"
      },
      "source": [
        "`Pandas`、`Numpy`、`Tensorflow`、`Matplotlib`などポピュラーなライブラリーについては通常使われる`alias`が決まっていたりする。たとえば\n",
        "\n",
        "```\n",
        "import numpy as np\n",
        "import pandas as pd\n",
        "```\n",
        "\n",
        "`as`ただ`rename`しているだけなので、次のように書いても同じである。"
      ]
    },
    {
      "cell_type": "code",
      "metadata": {
        "id": "v5TMatL4IHLI"
      },
      "source": [
        "import math\n",
        "mt = math"
      ],
      "execution_count": null,
      "outputs": []
    },
    {
      "cell_type": "markdown",
      "metadata": {
        "id": "22lJaLnBIIVI"
      },
      "source": [
        "`math`のすべての変数を`math`をつけずに使えるようにすることも可能だ。\n",
        "\n",
        "たとえば`math.pi`と書かずに`pi`と書けば済むようになる。"
      ]
    },
    {
      "cell_type": "code",
      "metadata": {
        "id": "a0V1_ipnIMVd",
        "colab": {
          "base_uri": "https://localhost:8080/",
          "height": 34
        },
        "outputId": "648a68b0-b28c-4a1c-da8c-7ee4e3c2407b"
      },
      "source": [
        "from math import *\n",
        "print(pi, log(32, 2))"
      ],
      "execution_count": null,
      "outputs": [
        {
          "output_type": "stream",
          "text": [
            "3.141592653589793 5.0\n"
          ],
          "name": "stdout"
        }
      ]
    },
    {
      "cell_type": "markdown",
      "metadata": {
        "id": "bY7l9ukCYec5"
      },
      "source": [
        "`import *`と書くとモジュールのすべての変数がドット付きの前置きなしで直接使えるようになる。"
      ]
    },
    {
      "cell_type": "markdown",
      "metadata": {
        "id": "rZIub2pKINvb"
      },
      "source": [
        "デメリット: 純粋主義者に文句を言われる。\n",
        "\n",
        "理由はあって、考えずにこれをやるとたいへんなことになる。"
      ]
    },
    {
      "cell_type": "code",
      "metadata": {
        "id": "nVBHSIGQIQe_"
      },
      "source": [
        "from math import *\n",
        "from numpy import *\n",
        "# this will lead to error!!!!\n",
        "# print(pi, log(32, 2))"
      ],
      "execution_count": null,
      "outputs": []
    },
    {
      "cell_type": "markdown",
      "metadata": {
        "id": "n1VnvIdyIS-l"
      },
      "source": [
        "どうしのか。前はうまく行ったのに。\n",
        "\n",
        "このような`スターインポート`はしばしば奇妙な、デバッグのむずかしい状況を作り出す。\n",
        "\n",
        "今回の場合、問題は`math`と`numpy`の両方が`log`という関数を持っていいて、違った意味合いを持っている、ということ。`numpy`をあとに読み込んだので`math`で読み込んだ`log`を上書き`overwrite (or shadow)`してしまった。\n",
        "\n",
        "丁度いい妥協点はそれぞれのモジュールから個々に必要なものをインポートすることだろう。"
      ]
    },
    {
      "cell_type": "code",
      "metadata": {
        "id": "691e4kZMIVf1"
      },
      "source": [
        "from math import log, pi\n",
        "from numpy import asarray"
      ],
      "execution_count": null,
      "outputs": []
    },
    {
      "cell_type": "markdown",
      "metadata": {
        "id": "e29iFp0-alOu"
      },
      "source": [
        "# サブモジュール"
      ]
    },
    {
      "cell_type": "markdown",
      "metadata": {
        "id": "iFAtSbecIW15"
      },
      "source": [
        "モジュールは関数や変数を指し示す名前の集まりであるが、名前はさらにモジュールの名前でもあり得る。モジュールの中のモジュールをサブモジュール`submodule`と言う。"
      ]
    },
    {
      "cell_type": "code",
      "metadata": {
        "id": "O_Kwu2EFIYkn",
        "colab": {
          "base_uri": "https://localhost:8080/",
          "height": 70
        },
        "outputId": "7705ced1-7a73-41d5-e682-5e154fd722b9"
      },
      "source": [
        "import numpy\n",
        "\n",
        "from IPython.display import HTML, display\n",
        "\n",
        "print(\"numpy.random is a\", type(numpy.random))\n",
        "\n",
        "print(\"it contains names such as...\",\n",
        "      dir(numpy.random)[-15:] )"
      ],
      "execution_count": null,
      "outputs": [
        {
          "output_type": "stream",
          "text": [
            "numpy.random is a <class 'module'>\n",
            "it contains names such as... ['seed', 'set_state', 'shuffle', 'standard_cauchy', 'standard_exponential', 'standard_gamma', 'standard_normal', 'standard_t', 'test', 'triangular', 'uniform', 'vonmises', 'wald', 'weibull', 'zipf']\n"
          ],
          "name": "stdout"
        }
      ]
    },
    {
      "cell_type": "markdown",
      "metadata": {
        "id": "iL65f6cKq1PZ"
      },
      "source": [
        "numpy.random is a <class 'module'>\n",
        "\n",
        "it contains names such as... ['seed', 'set_state', 'shuffle', 'standard_cauchy', 'standard_exponential', 'standard_gamma', 'standard_normal', 'standard_t', 'test', 'triangular', 'uniform', 'vonmises', 'wald', 'weibull', 'zipf']"
      ]
    },
    {
      "cell_type": "markdown",
      "metadata": {
        "id": "f7-fv7oIIeKH"
      },
      "source": [
        "したがって、`numpy`の場合、`random`サブモジュールの中の関数を呼び出すためには、2回ドットが必要になる。"
      ]
    },
    {
      "cell_type": "code",
      "metadata": {
        "id": "btIg6Hj9If-_",
        "colab": {
          "base_uri": "https://localhost:8080/",
          "height": 34
        },
        "outputId": "27a9ed21-cd16-407c-9ee9-3179b1dfbc0b"
      },
      "source": [
        "# Roll 10 dice\n",
        "import numpy\n",
        "rolls = numpy.random.randint(low=1, high=6, size=10)\n",
        "rolls"
      ],
      "execution_count": null,
      "outputs": [
        {
          "output_type": "execute_result",
          "data": {
            "text/plain": [
              "array([3, 4, 5, 4, 1, 4, 2, 3, 1, 3])"
            ]
          },
          "metadata": {
            "tags": []
          },
          "execution_count": 4
        }
      ]
    },
    {
      "cell_type": "markdown",
      "metadata": {
        "id": "td9NH0uunJuk"
      },
      "source": [
        "さあ、幼稚園の卒業だ。どこかへ出発だ。\n",
        "( Oh the places you'll go, oh the objects you'll see)\n",
        "\n",
        "いままでのレッスンで`int`、`float`、`bool`、`list`、`string`、`doct`をマスターした。(ホント?)\n",
        "\n",
        "\n",
        "だとしても、話はそこで終わらない。これから個々の仕事でさまざまなライブラリーを使っていくと、学ばなければならない型`type`がいろいろあることに気づくだろう。作図ライブラリーの`matplotlib`ならば`Subplot`、`Figure`、`TickMark`、`Annotation`などを表現するオブジェクトと出会う。`pandas`関数ならば`DataFrame`と`Series`だ。\n",
        "\n",
        "この章では、奇妙な型の扱いについての短いサバイバル・ガイドを提供する。"
      ]
    },
    {
      "cell_type": "markdown",
      "metadata": {
        "id": "eRnzJg5rIi_E"
      },
      "source": [
        "# 奇妙な型を理解するための3つのツール\n",
        "\n",
        "`numpy`で関数を呼ぶと`array`が返ってくる。いままで`array`は出てこなかった。しかし、大丈夫。こんなとき助けてくれる3つの組み込み関数がある。\n",
        "\n",
        "1. type() (いったいこれは何か、を教えてくれる)\n"
      ]
    },
    {
      "cell_type": "code",
      "metadata": {
        "id": "O_YpCO2C2N89",
        "colab": {
          "base_uri": "https://localhost:8080/",
          "height": 34
        },
        "outputId": "c6a0824f-9381-4d69-e4c6-236a236c5793"
      },
      "source": [
        "import numpy\n",
        "rolls = numpy.random.randint(low=1, high=6, size=10)\n",
        "type(rolls)"
      ],
      "execution_count": null,
      "outputs": [
        {
          "output_type": "execute_result",
          "data": {
            "text/plain": [
              "numpy.ndarray"
            ]
          },
          "metadata": {
            "tags": []
          },
          "execution_count": 5
        }
      ]
    },
    {
      "cell_type": "markdown",
      "metadata": {
        "id": "Wt8oQyOv2Zs8"
      },
      "source": [
        "2. dir() (これでなにができるかを教えてくれる)"
      ]
    },
    {
      "cell_type": "code",
      "metadata": {
        "id": "FH6LsPPb2n9A",
        "colab": {
          "base_uri": "https://localhost:8080/",
          "height": 54
        },
        "outputId": "86c5d247-0f20-4c75-d6cf-088a71a50053"
      },
      "source": [
        "print(dir(rolls))"
      ],
      "execution_count": null,
      "outputs": [
        {
          "output_type": "stream",
          "text": [
            "['T', '__abs__', '__add__', '__and__', '__array__', '__array_finalize__', '__array_function__', '__array_interface__', '__array_prepare__', '__array_priority__', '__array_struct__', '__array_ufunc__', '__array_wrap__', '__bool__', '__class__', '__complex__', '__contains__', '__copy__', '__deepcopy__', '__delattr__', '__delitem__', '__dir__', '__divmod__', '__doc__', '__eq__', '__float__', '__floordiv__', '__format__', '__ge__', '__getattribute__', '__getitem__', '__gt__', '__hash__', '__iadd__', '__iand__', '__ifloordiv__', '__ilshift__', '__imatmul__', '__imod__', '__imul__', '__index__', '__init__', '__init_subclass__', '__int__', '__invert__', '__ior__', '__ipow__', '__irshift__', '__isub__', '__iter__', '__itruediv__', '__ixor__', '__le__', '__len__', '__lshift__', '__lt__', '__matmul__', '__mod__', '__mul__', '__ne__', '__neg__', '__new__', '__or__', '__pos__', '__pow__', '__radd__', '__rand__', '__rdivmod__', '__reduce__', '__reduce_ex__', '__repr__', '__rfloordiv__', '__rlshift__', '__rmatmul__', '__rmod__', '__rmul__', '__ror__', '__rpow__', '__rrshift__', '__rshift__', '__rsub__', '__rtruediv__', '__rxor__', '__setattr__', '__setitem__', '__setstate__', '__sizeof__', '__str__', '__sub__', '__subclasshook__', '__truediv__', '__xor__', 'all', 'any', 'argmax', 'argmin', 'argpartition', 'argsort', 'astype', 'base', 'byteswap', 'choose', 'clip', 'compress', 'conj', 'conjugate', 'copy', 'ctypes', 'cumprod', 'cumsum', 'data', 'diagonal', 'dot', 'dtype', 'dump', 'dumps', 'fill', 'flags', 'flat', 'flatten', 'getfield', 'imag', 'item', 'itemset', 'itemsize', 'max', 'mean', 'min', 'nbytes', 'ndim', 'newbyteorder', 'nonzero', 'partition', 'prod', 'ptp', 'put', 'ravel', 'real', 'repeat', 'reshape', 'resize', 'round', 'searchsorted', 'setfield', 'setflags', 'shape', 'size', 'sort', 'squeeze', 'std', 'strides', 'sum', 'swapaxes', 'take', 'tobytes', 'tofile', 'tolist', 'tostring', 'trace', 'transpose', 'var', 'view']\n"
          ],
          "name": "stdout"
        }
      ]
    },
    {
      "cell_type": "markdown",
      "metadata": {
        "id": "i8VsiYGLsFrw"
      },
      "source": [
        "['T', '__abs__', '__add__', '__and__', '__array__', '__array_finalize__', '__array_function__', '__array_interface__', '__array_prepare__', '__array_priority__', '__array_struct__', '__array_ufunc__', '__array_wrap__', '__bool__', '__class__', '__complex__', '__contains__', '__copy__', '__deepcopy__', '__delattr__', '__delitem__', '__dir__', '__divmod__', '__doc__', '__eq__', '__float__', '__floordiv__', '__format__', '__ge__', '__getattribute__', '__getitem__', '__gt__', '__hash__', '__iadd__', '__iand__', '__ifloordiv__', '__ilshift__', '__imatmul__', '__imod__', '__imul__', '__index__', '__init__', '__init_subclass__', '__int__', '__invert__', '__ior__', '__ipow__', '__irshift__', '__isub__', '__iter__', '__itruediv__', '__ixor__', '__le__', '__len__', '__lshift__', '__lt__', '__matmul__', '__mod__', '__mul__', '__ne__', '__neg__', '__new__', '__or__', '__pos__', '__pow__', '__radd__', '__rand__', '__rdivmod__', '__reduce__', '__reduce_ex__', '__repr__', '__rfloordiv__', '__rlshift__', '__rmatmul__', '__rmod__', '__rmul__', '__ror__', '__rpow__', '__rrshift__', '__rshift__', '__rsub__', '__rtruediv__', '__rxor__', '__setattr__', '__setitem__', '__setstate__', '__sizeof__', '__str__', '__sub__', '__subclasshook__', '__truediv__', '__xor__', 'all', 'any', 'argmax', 'argmin', 'argpartition', 'argsort', 'astype', 'base', 'byteswap', 'choose', 'clip', 'compress', 'conj', 'conjugate', 'copy', 'ctypes', 'cumprod', 'cumsum', 'data', 'diagonal', 'dot', 'dtype', 'dump', 'dumps', 'fill', 'flags', 'flat', 'flatten', 'getfield', 'imag', 'item', 'itemset', 'itemsize', 'max', 'mean', 'min', 'nbytes', 'ndim', 'newbyteorder', 'nonzero', 'partition', 'prod', 'ptp', 'put', 'ravel', 'real', 'repeat', 'reshape', 'resize', 'round', 'searchsorted', 'setfield', 'setflags', 'shape', 'size', 'sort', 'squeeze', 'std', 'strides', 'sum', 'swapaxes', 'take', 'tobytes', 'tofile', 'tolist', 'tostring', 'trace', 'transpose', 'var', 'view']"
      ]
    },
    {
      "cell_type": "code",
      "metadata": {
        "id": "-IxwuXxNIqIA",
        "colab": {
          "base_uri": "https://localhost:8080/",
          "height": 34
        },
        "outputId": "cda0ec1d-b04c-425a-c360-063b32fd2e17"
      },
      "source": [
        "# 平均をとるにはどれが使えるかな? `mean`なんかはどうだろう。やってみよう。とか。\n",
        "\n",
        "rolls.mean()"
      ],
      "execution_count": null,
      "outputs": [
        {
          "output_type": "execute_result",
          "data": {
            "text/plain": [
              "2.8"
            ]
          },
          "metadata": {
            "tags": []
          },
          "execution_count": 7
        }
      ]
    },
    {
      "cell_type": "code",
      "metadata": {
        "id": "lKzV7A5MIt3z",
        "colab": {
          "base_uri": "https://localhost:8080/",
          "height": 34
        },
        "outputId": "79bfee53-e188-49ae-f5df-b31a9e6df8e5"
      },
      "source": [
        "# 扱うにはなれた型がいいので、`tolist`を使ってみよう。とか。\n",
        "\n",
        "rolls.tolist()"
      ],
      "execution_count": null,
      "outputs": [
        {
          "output_type": "execute_result",
          "data": {
            "text/plain": [
              "[4, 3, 3, 4, 1, 5, 1, 1, 1, 5]"
            ]
          },
          "metadata": {
            "tags": []
          },
          "execution_count": 8
        }
      ]
    },
    {
      "cell_type": "markdown",
      "metadata": {
        "id": "enpm7xtl3kjA"
      },
      "source": [
        "\n",
        "[4, 1, 2, 2, 1, 3, 1, 1, 5, 2]\n"
      ]
    },
    {
      "cell_type": "markdown",
      "metadata": {
        "id": "0qQ2pd3uIwIm"
      },
      "source": [
        "3. help() (もっと教えて)"
      ]
    },
    {
      "cell_type": "code",
      "metadata": {
        "id": "WITjN44gs0Cp",
        "colab": {
          "base_uri": "https://localhost:8080/",
          "height": 269
        },
        "outputId": "e47faec2-bd21-408e-be70-5015490e5640"
      },
      "source": [
        "# \"ravel\" 属性`attribute`がおもしろそうだ。クラシック音楽に関係あるかな\n",
        "help(rolls.ravel)\n"
      ],
      "execution_count": null,
      "outputs": [
        {
          "output_type": "stream",
          "text": [
            "Help on built-in function ravel:\n",
            "\n",
            "ravel(...) method of numpy.ndarray instance\n",
            "    a.ravel([order])\n",
            "    \n",
            "    Return a flattened array.\n",
            "    \n",
            "    Refer to `numpy.ravel` for full documentation.\n",
            "    \n",
            "    See Also\n",
            "    --------\n",
            "    numpy.ravel : equivalent function\n",
            "    \n",
            "    ndarray.flat : a flat iterator on the array.\n",
            "\n"
          ],
          "name": "stdout"
        }
      ]
    },
    {
      "cell_type": "code",
      "metadata": {
        "id": "UxqnQhKZIyks"
      },
      "source": [
        "# Okay, just tell me everything there is to know about numpy.ndarray\n",
        "# (Click the \"output\" button to see the novel-length output)\n",
        "help(rolls) "
      ],
      "execution_count": null,
      "outputs": []
    },
    {
      "cell_type": "markdown",
      "metadata": {
        "id": "4NWXSK26toTr"
      },
      "source": [
        "もちろん、オンライン・ドキュメントもあるので、そちらを参照してもよい。"
      ]
    },
    {
      "cell_type": "markdown",
      "metadata": {
        "id": "zTIVwH45I0Ei"
      },
      "source": [
        "# 演算子オーバーロード'Operator overloading'\n",
        "\n",
        "次の式の値は何か?\n"
      ]
    },
    {
      "cell_type": "code",
      "metadata": {
        "id": "85l8fTbtvB8U"
      },
      "source": [
        "# [3, 4, 1, 2, 2, 1] + 10"
      ],
      "execution_count": null,
      "outputs": []
    },
    {
      "cell_type": "markdown",
      "metadata": {
        "id": "ASRJQGoGI1WD"
      },
      "source": [
        "なんて馬鹿げた質問だ。もちろんエラーになる。\n",
        "\n",
        "しかし、次のはどうか。"
      ]
    },
    {
      "cell_type": "code",
      "metadata": {
        "id": "t-4oNFEQI24L",
        "colab": {
          "base_uri": "https://localhost:8080/",
          "height": 34
        },
        "outputId": "d5bba39e-2835-4828-f7b0-21d82248b875"
      },
      "source": [
        "rolls + 10"
      ],
      "execution_count": null,
      "outputs": [
        {
          "output_type": "execute_result",
          "data": {
            "text/plain": [
              "array([14, 13, 13, 14, 11, 15, 11, 11, 11, 15])"
            ]
          },
          "metadata": {
            "tags": []
          },
          "execution_count": 14
        }
      ]
    },
    {
      "cell_type": "markdown",
      "metadata": {
        "id": "kdVs_Z5xI5ci"
      },
      "source": [
        "Pythonはコアとなる文法は厳しく定義されていると思いがちであるが、`+`、`<`、`in`、`==`、インデクスやスライスのための`square bracket`など、しかし、実際のところPythonのやり方は放任主義と言える。新しい型を定義する際に、足す、や同等である、の意味を定義することができる。\n",
        "\n",
        "`list`のデザイナーはリストに数値を足すのは駄目、と決めたが、`numpy`のデザイナーは`array`に数値を足すのは、有り、と考えた。\n",
        "\n",
        "次に`numpy`の`array`でいくつかのPythonの演算子が意外な(少なくとも`list`と違った)ふるまいをするかを示そう。\n"
      ]
    },
    {
      "cell_type": "code",
      "metadata": {
        "id": "1UziEVEEI7Gi",
        "colab": {
          "base_uri": "https://localhost:8080/",
          "height": 50
        },
        "outputId": "23a9d6f4-e870-4198-86dc-54f237ede23e"
      },
      "source": [
        "# At which indices are the dice less than or equal to 3?\n",
        "import numpy\n",
        "rolls = numpy.random.randint(low=1, high=6, size=10)\n",
        "rolls <= 3"
      ],
      "execution_count": null,
      "outputs": [
        {
          "output_type": "execute_result",
          "data": {
            "text/plain": [
              "array([ True,  True,  True,  True,  True,  True,  True, False,  True,\n",
              "       False])"
            ]
          },
          "metadata": {
            "tags": []
          },
          "execution_count": 25
        }
      ]
    },
    {
      "cell_type": "markdown",
      "metadata": {
        "id": "VEDOxLzgI85x"
      },
      "source": [
        "### 2次元アレイを作る\n"
      ]
    },
    {
      "cell_type": "code",
      "metadata": {
        "id": "hQ481AdoiH8O",
        "colab": {
          "base_uri": "https://localhost:8080/",
          "height": 84
        },
        "outputId": "efb1b544-955a-455a-ae35-06c74d79dfe1"
      },
      "source": [
        "xlist = [[1,2,3],[2,4,6],]\n",
        "# Create a 2-dimensional array\n",
        "x = numpy.asarray(xlist)\n",
        "print(\"xlist = {}\\nx =\\n{}\".format(xlist, x))"
      ],
      "execution_count": null,
      "outputs": [
        {
          "output_type": "stream",
          "text": [
            "xlist = [[1, 2, 3], [2, 4, 6]]\n",
            "x =\n",
            "[[1 2 3]\n",
            " [2 4 6]]\n"
          ],
          "name": "stdout"
        }
      ]
    },
    {
      "cell_type": "code",
      "metadata": {
        "id": "kR56eDFKI_pT",
        "colab": {
          "base_uri": "https://localhost:8080/",
          "height": 34
        },
        "outputId": "940c06e5-a662-49f2-a934-660e1fb58236"
      },
      "source": [
        "# Get the last element of the second row of our numpy array\n",
        "x[1,-1]"
      ],
      "execution_count": null,
      "outputs": [
        {
          "output_type": "execute_result",
          "data": {
            "text/plain": [
              "6"
            ]
          },
          "metadata": {
            "tags": []
          },
          "execution_count": 26
        }
      ]
    },
    {
      "cell_type": "code",
      "metadata": {
        "id": "HUrEZWTdJA0u"
      },
      "source": [
        "# Get the last element of the second sublist of our nested list?\n",
        "# xlist[1,-1]"
      ],
      "execution_count": null,
      "outputs": []
    },
    {
      "cell_type": "markdown",
      "metadata": {
        "id": "B-K050V4JCc9"
      },
      "source": [
        "```\n",
        "TypeError: list indices must be integers or slices, not tuple\n",
        "```\n",
        "numpy's ndarray type is specialized for working with multi-dimensional data, so it defines its own logic for indexing, allowing us to index by a tuple to specify the index at each dimension."
      ]
    },
    {
      "cell_type": "markdown",
      "metadata": {
        "id": "ovlzZ9ETkMld"
      },
      "source": [
        "###  When does 1 + 1 not equal 2?\n",
        "\n",
        "ディープラーニングで広く使われる`tensorflow`というライブラリーがある。`tensorflow`では演算子オーバーロードを広範囲に使う。"
      ]
    },
    {
      "cell_type": "code",
      "metadata": {
        "id": "aiUtgxYbJF9z",
        "colab": {
          "base_uri": "https://localhost:8080/",
          "height": 34
        },
        "outputId": "0e97122f-aedc-4f1b-ebf6-5e402624c1c1"
      },
      "source": [
        "import tensorflow as tf\n",
        "# Create two constants, each with value 1\n",
        "a = tf.constant(1)\n",
        "b = tf.constant(1)\n",
        "# Add them together to get...\n",
        "a + b"
      ],
      "execution_count": null,
      "outputs": [
        {
          "output_type": "execute_result",
          "data": {
            "text/plain": [
              "<tf.Tensor: shape=(), dtype=int32, numpy=2>"
            ]
          },
          "metadata": {
            "tags": []
          },
          "execution_count": 28
        }
      ]
    },
    {
      "cell_type": "markdown",
      "metadata": {
        "id": "LmMtlrpsJHwL"
      },
      "source": [
        "a + b は 2,ではない。\n",
        "\n",
        "`tensorflow`のドキュメントによると\n",
        "\n",
        "> a symbolic handle to one of the outputs of an Operation. \n",
        "> It does not hold the values of that operation's output, \n",
        "> but instead provides a means of computing those values \n",
        "> in a TensorFlow tf.Session.\n",
        "\n",
        "ということでなに言っているかわからなくても、大事なのはかならずしも明確でなく、魔法のようなやりかたで演算子オーバーロードが行われることがある、ということを理解しておくことだ。\n",
        "\n",
        "Pythonの演算子が`int`、`string`、`list`でどう働くかを理解していてもそれが`tensorflow Tensor`、`numpy ndarray`、`pandas Dataframe`でどういう意味かをそのままでわかったことにはならないが、すこし`DataFrame`をかじるとたとえば次のような式がどのような意味かが、本能的にわかり始める。"
      ]
    },
    {
      "cell_type": "code",
      "metadata": {
        "id": "J4H9ckWIJKNs"
      },
      "source": [
        "# Get the rows with population over 1m in South America\n",
        "# df[(df['population'] > 10**6) & (df['continent'] == 'South America')]"
      ],
      "execution_count": null,
      "outputs": []
    },
    {
      "cell_type": "markdown",
      "metadata": {
        "id": "vxkqvXGUJMPI"
      },
      "source": [
        "しかし、どうやってこれができているのか。上の例は5つほどの違った演算子オーバーロードが使われているが、それぞれなにをやっているのか。なにか間違ったときにこの辺を理解しておくと役に立つ。\n",
        "\n",
        "### 演算子オーバーロードの仕組み\n",
        "\n",
        "`help()`や`dir()`を呼び出すと前後に2つずつアンダースコアがついた名前がたくさんでてくるのに気づいているだろうか。"
      ]
    },
    {
      "cell_type": "code",
      "metadata": {
        "id": "NqqPHWEbJNvw"
      },
      "source": [
        "print(dir(list))"
      ],
      "execution_count": null,
      "outputs": []
    },
    {
      "cell_type": "markdown",
      "metadata": {
        "id": "5EbAoC9V_Wfv"
      },
      "source": [
        "```\n",
        " ['__add__', '__class__', '__contains__', '__delattr__', '__delitem__',  \n",
        " '__dir__', '__doc__', '__eq__', '__format__', '__ge__',  \n",
        " '__getattribute__', '__getitem__', '__gt__', '__hash__', '__iadd__',  \n",
        " '__imul__', '__init__', '__init_subclass__', '__iter__', '__le__',  \n",
        " '__len__', '__lt__', '__mul__', '__ne__', '__new__', '__reduce__',  \n",
        " '__reduce_ex__', '__repr__', '__reversed__', '__rmul__', '__setattr__',  \n",
        " '__setitem__', '__sizeof__', '__str__', '__subclasshook__', 'append',  \n",
        " 'clear', 'copy', 'count', 'extend', 'index', 'insert', 'pop', 'remove',  \n",
        " 'reverse', 'sort']\n",
        "```"
      ]
    },
    {
      "cell_type": "markdown",
      "metadata": {
        "id": "QoX2Z_QHJO1o"
      },
      "source": [
        "これらが、演算子オーバーロードに直接関係している。\n",
        "\n",
        "Pythonのプログラマーが自分の作った型に演算子を定義する際、まず `__lt__`、`__setattr__`、`__contains__`のような前後に2つずつアンダースコアがついた名前のメソッドを作る。このダブル・アンダースコア書式ではPythonにとって一般に特殊な意味を持つ。\n",
        "\n",
        "例えば、`[1, 2, 3]`が裏で`__contains__`を呼び出すとすると、それは`[1, 2, 3].__contains__(x)`としていることになる。\n",
        "\n",
        "この辺を興味があって学びたいならばPythonの公式ドキュメントにたくさんのアンダースコア・メソッドについて書いてある。このレッスンでは扱わない。"
      ]
    },
    {
      "cell_type": "markdown",
      "metadata": {
        "id": "PiyXN2kfJQe3"
      },
      "source": [
        "# 練習問題"
      ]
    },
    {
      "cell_type": "markdown",
      "metadata": {
        "id": "WlsP2-eYvC3i"
      },
      "source": [
        "# いまここ"
      ]
    },
    {
      "cell_type": "markdown",
      "metadata": {
        "id": "3mDHFch_JnVI"
      },
      "source": [
        "### 問題 1. `matplotlib`問題\n",
        "\n",
        "ジミーは`estimate_average_slot_payout`関数をためしてみたところ、長くやればカジノに勝つことに気がついた。200ドルで始めて500回やって結果を`list`にした。Pythonの`matplotlib`をつかって時系列でバランスのグラフを書いた。\n"
      ]
    },
    {
      "cell_type": "code",
      "metadata": {
        "id": "aEnnyy-QwuoS"
      },
      "source": [
        "# Import the jimmy_slots submodule\n",
        "# from learntools.python import jimmy_slots\n",
        "# Call the get_graph() function to get Jimmy's graph\n",
        "# graph = jimmy_slots.get_graph()\n",
        "# graph"
      ],
      "execution_count": null,
      "outputs": []
    },
    {
      "cell_type": "markdown",
      "metadata": {
        "id": "ag7fbvZRw2xu"
      },
      "source": [
        "最近の結果は思わしくない。この結果を`emoji`を使ってツイートしようと思う。しかしこのままではフォロワーが混乱する。\n",
        "\n",
        "あなたは、次のような変更をしてほしいと言われた。\n",
        "\n",
        "> Add the title \"Results of 500 slot machine pulls\"  \n",
        "> Make the y-axis start at 0.  \n",
        "> Add the label \"Balance\" to the y-axis\n",
        "\n",
        "`type(graph)`で調べてみたら、ジミーのグラフの型は`matplotlib.axes._subplots.AxesSubplot`という知らない型だった。つぎに`dir(graph)`でメソッドを調べたら、使えそうなのが3つ見つかった。`.set_title()`、`.set_ylim()`、`.set_ylabel()`である。\n",
        "\n",
        "これらのメソッドを使って関数`prettify_graph`を完成させる。\n",
        "\n",
        "メソッドについては`help()`で調べること。"
      ]
    },
    {
      "cell_type": "code",
      "metadata": {
        "id": "e7FFPl1yy-4w"
      },
      "source": [
        "def prettify_graph(graph):\n",
        "    \"\"\"Modify the given graph according to Jimmy's requests: add a title, make the y-axis\n",
        "    start at 0, label the y-axis. (And, if you're feeling ambitious, format the tick marks\n",
        "    as dollar amounts using the \"$\" symbol.)\n",
        "    \"\"\"\n",
        "    graph.set_title(\"Results of 500 slot machine pulls\")\n",
        "    # Complete steps 2 and 3 here\n",
        "    pass\n",
        "\n",
        "# graph = jimmy_slots.get_graph()\n",
        "# prettify_graph(graph)\n",
        "# graph"
      ],
      "execution_count": null,
      "outputs": []
    },
    {
      "cell_type": "markdown",
      "metadata": {
        "id": "dNf81mdwymFZ"
      },
      "source": [
        "ボーナス問題: y軸の数字を200でなく$200になるようにフォーマットする。\n",
        "\n",
        "もしメソッドがわからなければ`dir(graph)`や`help(graph)`を使って調べること。\n",
        "\n"
      ]
    },
    {
      "cell_type": "markdown",
      "metadata": {
        "id": "_hciNdlvzXZ1"
      },
      "source": [
        "### 問題 2. 超難問 マリオカート問題\n",
        "\n",
        "ルイージはマリオカートのサーキットのベストタイムを分析している。彼が持っているデータは辞書のリストである。\n",
        "```\n",
        "[\n",
        "    {'name': 'Peach', 'items': ['green shell', 'banana', 'green shell',], 'finish': 3},\n",
        "    {'name': 'Bowser', 'items': ['green shell',], 'finish': 1},\n",
        "    # Sometimes the racer's name wasn't recorded\n",
        "    {'name': None, 'items': ['mushroom',], 'finish': 2},\n",
        "    {'name': 'Toad', 'items': ['green shell', 'mushroom'], 'finish': 1},\n",
        "]\n",
        "```\n",
        "\n",
        "'items'はレーサーがレースで拾ったパワーアップアイテムのリスト、`finish`はレースでの順位。1が1位で、3が3位。\n",
        "\n",
        "このようなリストを受取り、アイテムごとに何人の1位のレーサーがそのアイテムを拾ったかを算出する関数を書いた。\n"
      ]
    },
    {
      "cell_type": "code",
      "metadata": {
        "id": "-EtryEVddNme"
      },
      "source": [
        "def best_items(racers):\n",
        "    \"\"\"Given a list of racer dictionaries, return a dictionary mapping items to the number\n",
        "    of times those items were picked up by racers who finished in first place.\n",
        "    \"\"\"\n",
        "    winner_item_counts = {}\n",
        "    for i in range(len(racers)):\n",
        "        # The i'th racer dictionary\n",
        "        racer = racers[i]\n",
        "        # We're only interested in racers who finished in first\n",
        "        if racer['finish'] == 1:\n",
        "            for i in racer['items']:\n",
        "                # Add one to the count for this item (adding it to the dict if necessary)\n",
        "                if i not in winner_item_counts:\n",
        "                    winner_item_counts[i] = 0\n",
        "                winner_item_counts[i] += 1\n",
        "    \n",
        "     # Data quality issues :/ Print a warning about racers with no name set. We'll take care of it later.\n",
        "        if racer['name'] is None:\n",
        "            print(\"WARNING: Encountered racer with unknown name on iteration {}/{} (racer = {})\".format(\n",
        "                i+1, len(racers), racer['name'])\n",
        "                 )\n",
        "    return winner_item_counts"
      ],
      "execution_count": null,
      "outputs": []
    },
    {
      "cell_type": "markdown",
      "metadata": {
        "id": "fcrWXY4U7Oql"
      },
      "source": [
        "サンプルリストを作り、試したところ正しく作動しているようだ。\n"
      ]
    },
    {
      "cell_type": "code",
      "metadata": {
        "id": "CFy0oXkM7pAs",
        "colab": {
          "base_uri": "https://localhost:8080/",
          "height": 50
        },
        "outputId": "0aa2a963-235d-4222-9b4b-f91c7852c753"
      },
      "source": [
        "sample = [\n",
        "    {'name': 'Peach', 'items': ['green shell', 'banana', 'green shell',], 'finish': 3},\n",
        "    {'name': 'Bowser', 'items': ['green shell',], 'finish': 1},\n",
        "    {'name': None, 'items': ['mushroom',], 'finish': 2},\n",
        "    {'name': 'Toad', 'items': ['green shell', 'mushroom'], 'finish': 1},\n",
        "]\n",
        "best_items(sample)"
      ],
      "execution_count": null,
      "outputs": [
        {
          "output_type": "stream",
          "text": [
            "WARNING: Encountered racer with unknown name on iteration 3/4 (racer = None)\n"
          ],
          "name": "stdout"
        },
        {
          "output_type": "execute_result",
          "data": {
            "text/plain": [
              "{'green shell': 2, 'mushroom': 1}"
            ]
          },
          "metadata": {
            "tags": []
          },
          "execution_count": 6
        }
      ]
    },
    {
      "cell_type": "markdown",
      "metadata": {
        "id": "w6m5ltmT7tFX"
      },
      "source": [
        "しかし、本物のデータベースで走らせたところ、`TypeError`でクラッシュしてしまった。\n",
        "\n",
        "なぜか。\n",
        "\n",
        "次のコードセルを実行して、ルイージが遭遇したエラーを見てみよう。バグがわかったら、直してエラーにならないようにする。\n",
        "\n",
        "ヒント: ルイージのバグはインポートについてのチュートリアルでスターインポートのときのバグと同様のもの。\n",
        "\n",
        "\n"
      ]
    },
    {
      "cell_type": "code",
      "metadata": {
        "id": "UqRhIZ9-fMwh"
      },
      "source": [
        "# Import luigi's full dataset of race data\n",
        "# from learntools.python.luigi_analysis import full_dataset\n",
        "\n",
        "# fix me\n",
        "def best_items (racers):\n",
        "    winner_item_counts = {}\n",
        "    for i in range(len(racers)):\n",
        "        # The i'th racer dictionary\n",
        "        racer = racers[i]\n",
        "        # We're only interested in racers who finished in first\n",
        "        if racer['finish'] == 1:\n",
        "            for i in racer['items']:\n",
        "                # Add one to the count for this item (adding it to the dict if necessary)\n",
        "                if i not in winner_item_counts:\n",
        "                    winner_item_counts[i] = 0\n",
        "                winner_item_counts[i] += 1\n",
        "        # Data quality issues :/ Print a warning about racers with no name set. We'll take care of it later.\n",
        "        if racer['name'] is None:\n",
        "            print(\"WARNING: Encountered racer with unknown name on iteration {}/{} (racer = {})\".format(\n",
        "                i+1, len(racers), racer['name'])\n",
        "                 )\n",
        "    return winner_item_counts\n",
        "# Try analyzing the imported full dataset\n",
        "best_items(full_dataset)\n",
        "\n",
        "\n"
      ],
      "execution_count": null,
      "outputs": []
    },
    {
      "cell_type": "markdown",
      "metadata": {
        "id": "gXou9eidHM6_"
      },
      "source": [
        "### 問題 3. ブラックジャック\n",
        "\n",
        "ブラックジャックの手札を表す型を作るとする。 比較演算子の > や = をオーバーロードして、手札のどちらが強いかがわかると便利なのではないか。\n",
        "</br>\n",
        "</br>\n"
      ]
    },
    {
      "cell_type": "code",
      "metadata": {
        "id": "PsyJA8Nvq9hu"
      },
      "source": [
        "hand1 = BlackjackHand(['K', 'A'])\n",
        "hand2 = BlackjackHand(['7', '10', 'A'])\n",
        "hand1 > hand2\n",
        "\n",
        "# True\n"
      ],
      "execution_count": null,
      "outputs": []
    },
    {
      "cell_type": "markdown",
      "metadata": {
        "id": "SJIK6HBwrAkC"
      },
      "source": [
        "カスタムクラスを定義するのはこのレッスンの範囲を超えているので、なにもかもカバーしようとしているわけではないが、もし BlackjackHand というクラスを定義したとして\n",
        "作る関数によく似た考え方のプログラムを作って欲しい。\n",
        "\n",
        "次の例では、 > のようなメソッドを作るのに __gt__ マジックを使っている。\n",
        "\n",
        "</br>\n",
        "</br>\n",
        "\n",
        "\n",
        "\n",
        "\n"
      ]
    },
    {
      "cell_type": "code",
      "metadata": {
        "id": "VKVeDZdwHa3N"
      },
      "source": [
        "def blackjack_hand_greater_than:\n",
        "    \"\"\"\n",
        "    Return True if hand_1 beats hand_2, and False otherwise.\n",
        "    \n",
        "    In order for hand_1 to beat hand_2 the following must be true:\n",
        "    - The total of hand_1 must not exceed 21\n",
        "    - The total of hand_1 must exceed the total of hand_2 OR hand_2's total must exceed 21\n",
        "    "
      ],
      "execution_count": null,
      "outputs": []
    },
    {
      "cell_type": "markdown",
      "metadata": {
        "id": "I1SuRtq6HdCS"
      },
      "source": [
        "\n",
        "    Hands are represented as a list of cards. Each card is represented by a string.\n",
        "    \n",
        "    When adding up a hand's total, cards with numbers count for that many points. Face\n",
        "    cards ('J', 'Q', and 'K') are worth 10 points. 'A' can count for 1 or 11.\n",
        "    \n",
        "    When determining a hand's total, you should try to count aces in the way that \n",
        "    maximizes the hand's total without going over 21. e.g. the total of ['A', 'A', '9'] is 21,\n",
        "    the total of ['A', 'A', '9', '3'] is 14.\n",
        "    \n",
        "    Examples:\n",
        "    >>> blackjack_hand_greater_than(['K'], ['3', '4'])\n",
        "    True\n",
        "    >>> blackjack_hand_greater_than(['K'], ['10'])\n",
        "    False\n",
        "    >>> blackjack_hand_greater_than(['K', 'K', '2'], ['3'])\n",
        "    False\n",
        "    \"\"\"\n",
        "    pass\n",
        "​"
      ]
    }
  ]
}